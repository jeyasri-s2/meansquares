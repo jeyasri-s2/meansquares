{
  "nbformat": 4,
  "nbformat_minor": 0,
  "metadata": {
    "colab": {
      "name": "Election_results_scraper",
      "provenance": [],
      "authorship_tag": "ABX9TyMKPUSpVrJ43Ot3px4jnc7d",
      "include_colab_link": true
    },
    "kernelspec": {
      "name": "python3",
      "display_name": "Python 3"
    }
  },
  "cells": [
    {
      "cell_type": "markdown",
      "metadata": {
        "id": "view-in-github",
        "colab_type": "text"
      },
      "source": [
        "<a href=\"https://colab.research.google.com/github/aarsanjani/meansquares/blob/master/Election_results_scraper.ipynb\" target=\"_parent\"><img src=\"https://colab.research.google.com/assets/colab-badge.svg\" alt=\"Open In Colab\"/></a>"
      ]
    },
    {
      "cell_type": "markdown",
      "metadata": {
        "id": "luRRNijNreFn"
      },
      "source": [
        "This data is scrapped from NBCNews.com\n",
        "\n",
        "\n",
        "* https://www.nbcnews.com/politics/2020-elections/president-results \n",
        "\n",
        "sample API for california state\n",
        "\n",
        "* https://www.nbcnews.com/firecracker/api/results/2020-11-03/california-results "
      ]
    },
    {
      "cell_type": "code",
      "metadata": {
        "id": "wNC60DNEcju-"
      },
      "source": [
        "import pandas as pd"
      ],
      "execution_count": 1,
      "outputs": []
    },
    {
      "cell_type": "code",
      "metadata": {
        "colab": {
          "base_uri": "https://localhost:8080/",
          "height": 374
        },
        "id": "96cZTDY5dJlG",
        "outputId": "b4931aaa-63b3-494c-b4bf-037b7dc2f026"
      },
      "source": [
        "df = pd.read_json('https://www.nbcnews.com/firecracker/api/results/2020-11-03/alaska-results')\n",
        "df.head()"
      ],
      "execution_count": 57,
      "outputs": [
        {
          "output_type": "execute_result",
          "data": {
            "text/html": [
              "<div>\n",
              "<style scoped>\n",
              "    .dataframe tbody tr th:only-of-type {\n",
              "        vertical-align: middle;\n",
              "    }\n",
              "\n",
              "    .dataframe tbody tr th {\n",
              "        vertical-align: top;\n",
              "    }\n",
              "\n",
              "    .dataframe thead th {\n",
              "        text-align: right;\n",
              "    }\n",
              "</style>\n",
              "<table border=\"1\" class=\"dataframe\">\n",
              "  <thead>\n",
              "    <tr style=\"text-align: right;\">\n",
              "      <th></th>\n",
              "      <th>stateMapData</th>\n",
              "      <th>stateResultsSummary</th>\n",
              "      <th>stateBallotMeasures</th>\n",
              "      <th>lastModified</th>\n",
              "      <th>neatLastUpdatedTimestampFormatted</th>\n",
              "      <th>page</th>\n",
              "    </tr>\n",
              "  </thead>\n",
              "  <tbody>\n",
              "    <tr>\n",
              "      <th>1</th>\n",
              "      <td>{'fill': '#D83434', 'candidates': [{'colorHex'...</td>\n",
              "      <td>NaN</td>\n",
              "      <td>NaN</td>\n",
              "      <td>Tue, 22 Dec 2020 20:14:42 GMT</td>\n",
              "      <td>Dec 16, 11:06 AM ET</td>\n",
              "      <td>NaN</td>\n",
              "    </tr>\n",
              "    <tr>\n",
              "      <th>2</th>\n",
              "      <td>{'fill': '#D83434', 'candidates': [{'colorHex'...</td>\n",
              "      <td>NaN</td>\n",
              "      <td>NaN</td>\n",
              "      <td>Tue, 22 Dec 2020 20:14:42 GMT</td>\n",
              "      <td>Dec 16, 11:06 AM ET</td>\n",
              "      <td>NaN</td>\n",
              "    </tr>\n",
              "    <tr>\n",
              "      <th>3</th>\n",
              "      <td>{'fill': '#D83434', 'candidates': [{'colorHex'...</td>\n",
              "      <td>NaN</td>\n",
              "      <td>NaN</td>\n",
              "      <td>Tue, 22 Dec 2020 20:14:42 GMT</td>\n",
              "      <td>Dec 16, 11:06 AM ET</td>\n",
              "      <td>NaN</td>\n",
              "    </tr>\n",
              "    <tr>\n",
              "      <th>4</th>\n",
              "      <td>{'fill': '#0471E6', 'candidates': [{'colorHex'...</td>\n",
              "      <td>NaN</td>\n",
              "      <td>NaN</td>\n",
              "      <td>Tue, 22 Dec 2020 20:14:42 GMT</td>\n",
              "      <td>Dec 16, 11:06 AM ET</td>\n",
              "      <td>NaN</td>\n",
              "    </tr>\n",
              "    <tr>\n",
              "      <th>5</th>\n",
              "      <td>{'fill': '#0471E6', 'candidates': [{'colorHex'...</td>\n",
              "      <td>NaN</td>\n",
              "      <td>NaN</td>\n",
              "      <td>Tue, 22 Dec 2020 20:14:42 GMT</td>\n",
              "      <td>Dec 16, 11:06 AM ET</td>\n",
              "      <td>NaN</td>\n",
              "    </tr>\n",
              "  </tbody>\n",
              "</table>\n",
              "</div>"
            ],
            "text/plain": [
              "                                        stateMapData  ... page\n",
              "1  {'fill': '#D83434', 'candidates': [{'colorHex'...  ...  NaN\n",
              "2  {'fill': '#D83434', 'candidates': [{'colorHex'...  ...  NaN\n",
              "3  {'fill': '#D83434', 'candidates': [{'colorHex'...  ...  NaN\n",
              "4  {'fill': '#0471E6', 'candidates': [{'colorHex'...  ...  NaN\n",
              "5  {'fill': '#0471E6', 'candidates': [{'colorHex'...  ...  NaN\n",
              "\n",
              "[5 rows x 6 columns]"
            ]
          },
          "metadata": {
            "tags": []
          },
          "execution_count": 57
        }
      ]
    },
    {
      "cell_type": "code",
      "metadata": {
        "colab": {
          "base_uri": "https://localhost:8080/"
        },
        "id": "QYaO704ugmtg",
        "outputId": "fe9c6aa5-0f7b-43e5-c089-a3f965e1316e"
      },
      "source": [
        "df.shape"
      ],
      "execution_count": 22,
      "outputs": [
        {
          "output_type": "execute_result",
          "data": {
            "text/plain": [
              "(81, 6)"
            ]
          },
          "metadata": {
            "tags": []
          },
          "execution_count": 22
        }
      ]
    },
    {
      "cell_type": "code",
      "metadata": {
        "colab": {
          "base_uri": "https://localhost:8080/"
        },
        "id": "CZSnvV0Je2vD",
        "outputId": "ced3bcc8-abfa-4c8a-d49a-aed331c38641"
      },
      "source": [
        "length = len(df['stateMapData'][1]['candidates'])\n",
        "lst = []\n",
        "\n",
        "for candidate in df['stateMapData'][1]['candidates']:\n",
        "  print(df.index[1])\n",
        "  row = []\n",
        "  print('--- Party: ',candidate['party'],' % of votes: ',candidate['percentOfVote'])\n",
        "\n",
        "length"
      ],
      "execution_count": 23,
      "outputs": [
        {
          "output_type": "stream",
          "text": [
            "06003\n",
            "--- Party:  Dem  % of votes:  64.2\n",
            "06003\n",
            "--- Party:  Rep  % of votes:  32.9\n",
            "06003\n",
            "--- Party:  Lib  % of votes:  2\n",
            "06003\n",
            "--- Party:  Wri  % of votes:  0.7000000000000001\n",
            "06003\n",
            "--- Party:  Grn  % of votes:  0.5\n",
            "06003\n",
            "--- Party:  Pfp  % of votes:  0.30000000000000004\n",
            "06003\n",
            "--- Party:  Aip  % of votes:  0\n"
          ],
          "name": "stdout"
        },
        {
          "output_type": "execute_result",
          "data": {
            "text/plain": [
              "7"
            ]
          },
          "metadata": {
            "tags": []
          },
          "execution_count": 23
        }
      ]
    },
    {
      "cell_type": "code",
      "metadata": {
        "colab": {
          "base_uri": "https://localhost:8080/"
        },
        "id": "LGhvUPCmhz50",
        "outputId": "69cf6a61-5060-487a-bdd7-cd02a29bb77e"
      },
      "source": [
        "states = ['alabama','alaska','arizona','arkansas','california','colorado','connecticut','delaware','district-of-columbia','florida','georgia',\n",
        "'hawaii','idaho','illinois','indiana','iowa','kansas','kentucky','louisiana','maine','maryland',\n",
        "'massachusetts','michigan','minnesota','mississippi','missouri','montana','nebraska','nevada',\n",
        "'new-hampshire','new-jersey','new-mexico''new-york','north-carolina','north-dakota','ohio','oklahoma','oregon','pennsylvania','rhode-island','south-carolina',\n",
        "'south-dakota','tennessee','texas','utah','vermont','virginia','washington','west-virginia','wisconsin','wyoming']\n",
        "\n",
        "state_fips = [1,2,4,5,6,8,9,10,12,13,15,16,17,18,19,20,21,22,23,24,25,26,27,28,29,30,31,32,33,34,35,36,37,38,39,40,41,42,44,45,46,47,48,49,50,51,53,54,55,56,60,66,69,72,78]\n",
        "\n",
        "\n",
        "print(len(state_fips))\n",
        "len(states)"
      ],
      "execution_count": 27,
      "outputs": [
        {
          "output_type": "stream",
          "text": [
            "55\n"
          ],
          "name": "stdout"
        },
        {
          "output_type": "execute_result",
          "data": {
            "text/plain": [
              "50"
            ]
          },
          "metadata": {
            "tags": []
          },
          "execution_count": 27
        }
      ]
    },
    {
      "cell_type": "code",
      "metadata": {
        "id": "I2Vm0IwjdokF"
      },
      "source": [
        "lst = []\n",
        "\n",
        "for state in states:\n",
        "  url = 'https://www.nbcnews.com/firecracker/api/results/2020-11-03/'+state+'-results'\n",
        "  df = pd.read_json(url)\n",
        "  #print(df.head())\n",
        "  size = df.shape[0]\n",
        "  for i in range(size):\n",
        "    #print(df['stateMapData'][i])\n",
        "    stateMapData = df['stateMapData'][i]\n",
        "\n",
        "    if not pd.isna(stateMapData):\n",
        "      #if i > 65: print(stateMapData)\n",
        "      candidates = stateMapData['candidates']\n",
        "      length = len(candidates)\n",
        "      #print(stateMapData)\n",
        "      #print(i, ' length ',length)\n",
        "      row = []\n",
        "      row.append(state)\n",
        "      row.append(df.index[i])\n",
        "      \n",
        "      \n",
        "      for candidate in df['stateMapData'][i]['candidates']:\n",
        "        \n",
        "      \n",
        "        \n",
        "        #print('--- Party: ',candidate['party'],' % of votes: ',candidate['percentOfVote'])\n",
        "\n",
        "        \n",
        "        if candidate['party'] == 'Dem':\n",
        "          row.append(candidate['percentOfVote'])\n",
        "        if candidate['party'] == 'Rep':\n",
        "          row.append(candidate['percentOfVote'])\n",
        "      \n",
        "    lst.append(row)\n",
        "    #break\n",
        "\n",
        "\n"
      ],
      "execution_count": 63,
      "outputs": []
    },
    {
      "cell_type": "code",
      "metadata": {
        "colab": {
          "base_uri": "https://localhost:8080/"
        },
        "id": "TuQPXr5VqAf8",
        "outputId": "5283d229-1c0e-4179-d66a-63be1917e262"
      },
      "source": [
        "print(len(lst))\n",
        "lst[0]"
      ],
      "execution_count": 64,
      "outputs": [
        {
          "output_type": "stream",
          "text": [
            "5461\n"
          ],
          "name": "stdout"
        },
        {
          "output_type": "execute_result",
          "data": {
            "text/plain": [
              "['alabama', '01001', 71.4, 27]"
            ]
          },
          "metadata": {
            "tags": []
          },
          "execution_count": 64
        }
      ]
    },
    {
      "cell_type": "code",
      "metadata": {
        "colab": {
          "base_uri": "https://localhost:8080/",
          "height": 359
        },
        "id": "7mcHVlRMqGUH",
        "outputId": "b1217993-ab19-4a08-c466-1d32b54e57f9"
      },
      "source": [
        "election_df = pd.DataFrame(lst,index=None,columns=['State','CFIPS','Dem_Vote_percent','Rep_Vote_percent'])\n",
        "election_df.head(10)"
      ],
      "execution_count": 65,
      "outputs": [
        {
          "output_type": "execute_result",
          "data": {
            "text/html": [
              "<div>\n",
              "<style scoped>\n",
              "    .dataframe tbody tr th:only-of-type {\n",
              "        vertical-align: middle;\n",
              "    }\n",
              "\n",
              "    .dataframe tbody tr th {\n",
              "        vertical-align: top;\n",
              "    }\n",
              "\n",
              "    .dataframe thead th {\n",
              "        text-align: right;\n",
              "    }\n",
              "</style>\n",
              "<table border=\"1\" class=\"dataframe\">\n",
              "  <thead>\n",
              "    <tr style=\"text-align: right;\">\n",
              "      <th></th>\n",
              "      <th>State</th>\n",
              "      <th>CFIPS</th>\n",
              "      <th>Dem_Vote_percent</th>\n",
              "      <th>Rep_Vote_percent</th>\n",
              "    </tr>\n",
              "  </thead>\n",
              "  <tbody>\n",
              "    <tr>\n",
              "      <th>0</th>\n",
              "      <td>alabama</td>\n",
              "      <td>01001</td>\n",
              "      <td>71.4</td>\n",
              "      <td>27.0</td>\n",
              "    </tr>\n",
              "    <tr>\n",
              "      <th>1</th>\n",
              "      <td>alabama</td>\n",
              "      <td>01003</td>\n",
              "      <td>76.2</td>\n",
              "      <td>22.4</td>\n",
              "    </tr>\n",
              "    <tr>\n",
              "      <th>2</th>\n",
              "      <td>alabama</td>\n",
              "      <td>01005</td>\n",
              "      <td>53.5</td>\n",
              "      <td>45.8</td>\n",
              "    </tr>\n",
              "    <tr>\n",
              "      <th>3</th>\n",
              "      <td>alabama</td>\n",
              "      <td>01007</td>\n",
              "      <td>78.4</td>\n",
              "      <td>20.7</td>\n",
              "    </tr>\n",
              "    <tr>\n",
              "      <th>4</th>\n",
              "      <td>alabama</td>\n",
              "      <td>01009</td>\n",
              "      <td>89.6</td>\n",
              "      <td>9.6</td>\n",
              "    </tr>\n",
              "    <tr>\n",
              "      <th>5</th>\n",
              "      <td>alabama</td>\n",
              "      <td>01011</td>\n",
              "      <td>74.7</td>\n",
              "      <td>24.8</td>\n",
              "    </tr>\n",
              "    <tr>\n",
              "      <th>6</th>\n",
              "      <td>alabama</td>\n",
              "      <td>01013</td>\n",
              "      <td>57.5</td>\n",
              "      <td>41.8</td>\n",
              "    </tr>\n",
              "    <tr>\n",
              "      <th>7</th>\n",
              "      <td>alabama</td>\n",
              "      <td>01015</td>\n",
              "      <td>68.8</td>\n",
              "      <td>29.8</td>\n",
              "    </tr>\n",
              "    <tr>\n",
              "      <th>8</th>\n",
              "      <td>alabama</td>\n",
              "      <td>01017</td>\n",
              "      <td>57.3</td>\n",
              "      <td>41.6</td>\n",
              "    </tr>\n",
              "    <tr>\n",
              "      <th>9</th>\n",
              "      <td>alabama</td>\n",
              "      <td>01019</td>\n",
              "      <td>86.0</td>\n",
              "      <td>13.2</td>\n",
              "    </tr>\n",
              "  </tbody>\n",
              "</table>\n",
              "</div>"
            ],
            "text/plain": [
              "     State  CFIPS  Dem_Vote_percent  Rep_Vote_percent\n",
              "0  alabama  01001              71.4              27.0\n",
              "1  alabama  01003              76.2              22.4\n",
              "2  alabama  01005              53.5              45.8\n",
              "3  alabama  01007              78.4              20.7\n",
              "4  alabama  01009              89.6               9.6\n",
              "5  alabama  01011              74.7              24.8\n",
              "6  alabama  01013              57.5              41.8\n",
              "7  alabama  01015              68.8              29.8\n",
              "8  alabama  01017              57.3              41.6\n",
              "9  alabama  01019              86.0              13.2"
            ]
          },
          "metadata": {
            "tags": []
          },
          "execution_count": 65
        }
      ]
    },
    {
      "cell_type": "code",
      "metadata": {
        "id": "t-Z-oz9mrUb7"
      },
      "source": [
        "election_df.to_csv('election_results_2021.csv',index=False)"
      ],
      "execution_count": 66,
      "outputs": []
    },
    {
      "cell_type": "markdown",
      "metadata": {
        "id": "Feuty4orrdJ-"
      },
      "source": [
        ""
      ]
    }
  ]
}