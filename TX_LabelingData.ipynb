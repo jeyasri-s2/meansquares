{
  "nbformat": 4,
  "nbformat_minor": 0,
  "metadata": {
    "colab": {
      "name": "TX_LabelingData.ipynb",
      "provenance": [],
      "authorship_tag": "ABX9TyPAqxfrNlJBOS5E6+DJENXy",
      "include_colab_link": true
    },
    "kernelspec": {
      "name": "python3",
      "display_name": "Python 3"
    }
  },
  "cells": [
    {
      "cell_type": "markdown",
      "metadata": {
        "id": "view-in-github",
        "colab_type": "text"
      },
      "source": [
        "<a href=\"https://colab.research.google.com/github/aarsanjani/meansquares/blob/master/TX_LabelingData.ipynb\" target=\"_parent\"><img src=\"https://colab.research.google.com/assets/colab-badge.svg\" alt=\"Open In Colab\"/></a>"
      ]
    },
    {
      "cell_type": "markdown",
      "metadata": {
        "id": "LaxP2wQM58VX",
        "colab_type": "text"
      },
      "source": [
        "# Workflow"
      ]
    },
    {
      "cell_type": "markdown",
      "metadata": {
        "id": "MJHISaN26BeV",
        "colab_type": "text"
      },
      "source": [
        "This colab aims in labeling the TX data for super spread week, safe week and improvement week as per the 'number of cases' increasing or decreasing every week.\n",
        "\n",
        "Idea:\n",
        "\n",
        "\n",
        "*   compute 7 -day moving average\n",
        "*   14 days data compare with next 14 days rolling window\n",
        "*   split the % as buckets\n",
        "*   label the data as per bucket"
      ]
    },
    {
      "cell_type": "code",
      "metadata": {
        "id": "FqmpEuxc53KV",
        "colab_type": "code",
        "colab": {
          "base_uri": "https://localhost:8080/",
          "height": 34
        },
        "outputId": "92009605-df3a-4fc8-cfce-2c6a97f190f7"
      },
      "source": [
        "from google.colab import drive\n",
        "drive.mount('/content/drive')"
      ],
      "execution_count": null,
      "outputs": [
        {
          "output_type": "stream",
          "text": [
            "Mounted at /content/drive\n"
          ],
          "name": "stdout"
        }
      ]
    },
    {
      "cell_type": "code",
      "metadata": {
        "id": "0Om20z-z6aNg",
        "colab_type": "code",
        "colab": {
          "base_uri": "https://localhost:8080/",
          "height": 51
        },
        "outputId": "e0a4a423-41be-4587-a686-f79126df3c08"
      },
      "source": [
        "import pandas as pd\n",
        "\n",
        "from tqdm import tqdm\n",
        "import seaborn as sns\n",
        "import numpy as np\n",
        "import matplotlib.pyplot as plt\n",
        "import os\n",
        "from pandas import Series, datetime\n",
        "from pandas.plotting import scatter_matrix, autocorrelation_plot\n",
        "from sklearn.preprocessing import StandardScaler, RobustScaler\n",
        "from sklearn.model_selection import train_test_split, KFold, cross_val_score, GridSearchCV, TimeSeriesSplit\n",
        "from sklearn import metrics\n",
        "from sklearn.metrics import classification_report, confusion_matrix, accuracy_score, mean_squared_error\n",
        "from sklearn.pipeline import Pipeline\n",
        "from sklearn.linear_model import LogisticRegression\n",
        "from sklearn.tree import DecisionTreeClassifier\n",
        "from sklearn.neighbors import KNeighborsClassifier\n",
        "from sklearn.discriminant_analysis import LinearDiscriminantAnalysis\n",
        "from sklearn.naive_bayes import GaussianNB\n",
        "from sklearn.cluster import KMeans\n",
        "from sklearn.svm import SVC\n",
        "from sklearn.ensemble import AdaBoostClassifier, GradientBoostingClassifier, RandomForestClassifier, ExtraTreesClassifier\n",
        "from sklearn.metrics import roc_curve, auc\n",
        "import random\n",
        "from statsmodels.graphics.tsaplots import plot_acf, plot_pacf\n",
        "from statsmodels.tsa.arima_model import ARIMA\n",
        "from xgboost import XGBClassifier\n",
        "from sklearn.mixture import GaussianMixture"
      ],
      "execution_count": null,
      "outputs": [
        {
          "output_type": "stream",
          "text": [
            "/usr/local/lib/python3.6/dist-packages/statsmodels/tools/_testing.py:19: FutureWarning: pandas.util.testing is deprecated. Use the functions in the public API at pandas.testing instead.\n",
            "  import pandas.util.testing as tm\n"
          ],
          "name": "stderr"
        }
      ]
    },
    {
      "cell_type": "code",
      "metadata": {
        "id": "q5jkhPDT6e9J",
        "colab_type": "code",
        "colab": {}
      },
      "source": [
        "os.environ[\"TF_CPP_MIN_LOG_LEVEL\"]=\"2\"\n",
        "import warnings; warnings.simplefilter('ignore')"
      ],
      "execution_count": null,
      "outputs": []
    },
    {
      "cell_type": "code",
      "metadata": {
        "id": "-FLtmamR6fzo",
        "colab_type": "code",
        "colab": {
          "base_uri": "https://localhost:8080/",
          "height": 527
        },
        "outputId": "de7e70e5-d522-4225-bc69-1f7b562fdd0e"
      },
      "source": [
        "!ls  '/content/drive/Shared drives/CMPE 295- Master Project/Covid19-data/'"
      ],
      "execution_count": null,
      "outputs": [
        {
          "output_type": "stream",
          "text": [
            "CA_combined_Sep09.csv\n",
            "CA_Covid-19.csv\n",
            "CA-CovidAug22.csv\n",
            "CA_labeledData_Sep09\n",
            "CA_labeledData_Sep14.csv\n",
            "CA_sd_inertia_labeledData_Sep09\n",
            "CA_sd_inertia_labeledData_Sep14.csv\n",
            "CA_socialDistancingInertiaData_Sep09.csv\n",
            "Maryland_University_SocialDistancing_Data\n",
            "mask_rule.csv\n",
            "mask_rule_data.csv\n",
            "Newyork_combinedAug22.csv\n",
            "Newyork_combined.csv\n",
            "NY_Covid-19.csv\n",
            "NY-CovidAug21.csv\n",
            "NY-CovidAug22.csv\n",
            "NY_labeledData_Aug23.csv\n",
            "NY_labeledData_Aug27.csv\n",
            "NY_labeledData_Sep13.csv\n",
            "NY_sd_inertia_labeledData_Aug26.csv\n",
            "NY_sd_inertia_labeledData_Aug27.csv\n",
            "NY_sd_inertia_labeledData_Sep13.csv\n",
            "NY_socialDistancingInertiaDataAug25.csv\n",
            "queens_all_combined.csv\n",
            "queens_all_filtered.csv\n",
            "Queens_county.csv\n",
            "Social_Distancing_Inertia_County.csv\n",
            "TX_combined_Sep10.csv\n",
            "TX-Covid_Sep10.csv\n",
            "TX_socialDistancingInertiaData_Sep10.csv\n"
          ],
          "name": "stdout"
        }
      ]
    },
    {
      "cell_type": "markdown",
      "metadata": {
        "id": "Cfm7o5bv6lib",
        "colab_type": "text"
      },
      "source": [
        "### 1.1 Loading CA data"
      ]
    },
    {
      "cell_type": "code",
      "metadata": {
        "id": "1HOcP21_6osY",
        "colab_type": "code",
        "colab": {
          "base_uri": "https://localhost:8080/",
          "height": 323
        },
        "outputId": "c94ec001-6688-4451-cd24-d93beed5f50f"
      },
      "source": [
        "TX_combined_data = pd.read_csv('/content/drive/Shared drives/CMPE 295- Master Project/Covid19-data/TX_combined_Sep10.csv',low_memory=False)\n",
        "TX_combined_data.head()"
      ],
      "execution_count": null,
      "outputs": [
        {
          "output_type": "execute_result",
          "data": {
            "text/html": [
              "<div>\n",
              "<style scoped>\n",
              "    .dataframe tbody tr th:only-of-type {\n",
              "        vertical-align: middle;\n",
              "    }\n",
              "\n",
              "    .dataframe tbody tr th {\n",
              "        vertical-align: top;\n",
              "    }\n",
              "\n",
              "    .dataframe thead th {\n",
              "        text-align: right;\n",
              "    }\n",
              "</style>\n",
              "<table border=\"1\" class=\"dataframe\">\n",
              "  <thead>\n",
              "    <tr style=\"text-align: right;\">\n",
              "      <th></th>\n",
              "      <th>Date</th>\n",
              "      <th>fips_x</th>\n",
              "      <th>County Name</th>\n",
              "      <th>retail and recreation</th>\n",
              "      <th>grocery and pharmacy</th>\n",
              "      <th>parks</th>\n",
              "      <th>transit stations</th>\n",
              "      <th>workplaces</th>\n",
              "      <th>residential</th>\n",
              "      <th>driving</th>\n",
              "      <th>m50</th>\n",
              "      <th>m50_index</th>\n",
              "      <th>population_density</th>\n",
              "      <th>mask_rule_active</th>\n",
              "      <th>mask_wearing_percent</th>\n",
              "      <th>New cases</th>\n",
              "    </tr>\n",
              "  </thead>\n",
              "  <tbody>\n",
              "    <tr>\n",
              "      <th>0</th>\n",
              "      <td>2020-03-01</td>\n",
              "      <td>48001</td>\n",
              "      <td>Anderson County</td>\n",
              "      <td>16.0</td>\n",
              "      <td>15.0</td>\n",
              "      <td>0.0</td>\n",
              "      <td>0.0</td>\n",
              "      <td>3.0</td>\n",
              "      <td>0.0</td>\n",
              "      <td>27.49</td>\n",
              "      <td>8.910</td>\n",
              "      <td>79</td>\n",
              "      <td>54.33371</td>\n",
              "      <td>0</td>\n",
              "      <td>0.0</td>\n",
              "      <td>0</td>\n",
              "    </tr>\n",
              "    <tr>\n",
              "      <th>1</th>\n",
              "      <td>2020-03-02</td>\n",
              "      <td>48001</td>\n",
              "      <td>Anderson County</td>\n",
              "      <td>14.0</td>\n",
              "      <td>7.0</td>\n",
              "      <td>0.0</td>\n",
              "      <td>0.0</td>\n",
              "      <td>2.0</td>\n",
              "      <td>-1.0</td>\n",
              "      <td>27.76</td>\n",
              "      <td>10.708</td>\n",
              "      <td>95</td>\n",
              "      <td>54.33371</td>\n",
              "      <td>0</td>\n",
              "      <td>0.0</td>\n",
              "      <td>0</td>\n",
              "    </tr>\n",
              "    <tr>\n",
              "      <th>2</th>\n",
              "      <td>2020-03-03</td>\n",
              "      <td>48001</td>\n",
              "      <td>Anderson County</td>\n",
              "      <td>21.0</td>\n",
              "      <td>8.0</td>\n",
              "      <td>0.0</td>\n",
              "      <td>0.0</td>\n",
              "      <td>2.0</td>\n",
              "      <td>-2.0</td>\n",
              "      <td>28.24</td>\n",
              "      <td>12.118</td>\n",
              "      <td>107</td>\n",
              "      <td>54.33371</td>\n",
              "      <td>0</td>\n",
              "      <td>0.0</td>\n",
              "      <td>0</td>\n",
              "    </tr>\n",
              "    <tr>\n",
              "      <th>3</th>\n",
              "      <td>2020-03-04</td>\n",
              "      <td>48001</td>\n",
              "      <td>Anderson County</td>\n",
              "      <td>12.0</td>\n",
              "      <td>5.0</td>\n",
              "      <td>0.0</td>\n",
              "      <td>0.0</td>\n",
              "      <td>1.0</td>\n",
              "      <td>2.0</td>\n",
              "      <td>20.72</td>\n",
              "      <td>9.156</td>\n",
              "      <td>81</td>\n",
              "      <td>54.33371</td>\n",
              "      <td>0</td>\n",
              "      <td>0.0</td>\n",
              "      <td>0</td>\n",
              "    </tr>\n",
              "    <tr>\n",
              "      <th>4</th>\n",
              "      <td>2020-03-05</td>\n",
              "      <td>48001</td>\n",
              "      <td>Anderson County</td>\n",
              "      <td>18.0</td>\n",
              "      <td>13.0</td>\n",
              "      <td>0.0</td>\n",
              "      <td>0.0</td>\n",
              "      <td>3.0</td>\n",
              "      <td>-3.0</td>\n",
              "      <td>47.52</td>\n",
              "      <td>11.230</td>\n",
              "      <td>100</td>\n",
              "      <td>54.33371</td>\n",
              "      <td>0</td>\n",
              "      <td>0.0</td>\n",
              "      <td>0</td>\n",
              "    </tr>\n",
              "  </tbody>\n",
              "</table>\n",
              "</div>"
            ],
            "text/plain": [
              "         Date  fips_x  ... mask_wearing_percent  New cases\n",
              "0  2020-03-01   48001  ...                  0.0          0\n",
              "1  2020-03-02   48001  ...                  0.0          0\n",
              "2  2020-03-03   48001  ...                  0.0          0\n",
              "3  2020-03-04   48001  ...                  0.0          0\n",
              "4  2020-03-05   48001  ...                  0.0          0\n",
              "\n",
              "[5 rows x 16 columns]"
            ]
          },
          "metadata": {
            "tags": []
          },
          "execution_count": 5
        }
      ]
    },
    {
      "cell_type": "code",
      "metadata": {
        "id": "GLhz-zcd6896",
        "colab_type": "code",
        "colab": {
          "base_uri": "https://localhost:8080/",
          "height": 221
        },
        "outputId": "9c042014-d39d-417d-bf35-11cfa6d9ae4b"
      },
      "source": [
        "TX_combined_data.iloc[:,15]"
      ],
      "execution_count": null,
      "outputs": [
        {
          "output_type": "execute_result",
          "data": {
            "text/plain": [
              "0        0\n",
              "1        0\n",
              "2        0\n",
              "3        0\n",
              "4        0\n",
              "        ..\n",
              "36774    0\n",
              "36775    0\n",
              "36776    3\n",
              "36777    2\n",
              "36778    0\n",
              "Name: New cases, Length: 36779, dtype: int64"
            ]
          },
          "metadata": {
            "tags": []
          },
          "execution_count": 6
        }
      ]
    },
    {
      "cell_type": "code",
      "metadata": {
        "id": "gkZRFUv_7Abg",
        "colab_type": "code",
        "colab": {}
      },
      "source": [
        "df = pd.DataFrame(columns=['Date','fips_x','County Name','retail and recreation','grocery and pharmacy','parks','transit stations','workplaces','residential','driving','m50','m50_index','population_density','mask_rule_active','mask_wearing_percent','New cases','rolling_avg_new_cases'])"
      ],
      "execution_count": null,
      "outputs": []
    },
    {
      "cell_type": "code",
      "metadata": {
        "id": "w2StEsC17EeP",
        "colab_type": "code",
        "colab": {
          "base_uri": "https://localhost:8080/",
          "height": 343
        },
        "outputId": "4677ec33-391e-447c-d187-312a61acde51"
      },
      "source": [
        "TX_counties = TX_combined_data['County Name'].unique()\n",
        "\n",
        "for county in TX_counties:\n",
        "  county_data = TX_combined_data[TX_combined_data['County Name'] == county]\n",
        "  #print(county_data.iloc[:,15])\n",
        "  county_data['rolling_avg_new_cases'] = county_data.iloc[:,15].rolling(window=7).mean()\n",
        "  df = df.append(county_data)\n",
        "\n",
        "df.head()"
      ],
      "execution_count": null,
      "outputs": [
        {
          "output_type": "execute_result",
          "data": {
            "text/html": [
              "<div>\n",
              "<style scoped>\n",
              "    .dataframe tbody tr th:only-of-type {\n",
              "        vertical-align: middle;\n",
              "    }\n",
              "\n",
              "    .dataframe tbody tr th {\n",
              "        vertical-align: top;\n",
              "    }\n",
              "\n",
              "    .dataframe thead th {\n",
              "        text-align: right;\n",
              "    }\n",
              "</style>\n",
              "<table border=\"1\" class=\"dataframe\">\n",
              "  <thead>\n",
              "    <tr style=\"text-align: right;\">\n",
              "      <th></th>\n",
              "      <th>Date</th>\n",
              "      <th>fips_x</th>\n",
              "      <th>County Name</th>\n",
              "      <th>retail and recreation</th>\n",
              "      <th>grocery and pharmacy</th>\n",
              "      <th>parks</th>\n",
              "      <th>transit stations</th>\n",
              "      <th>workplaces</th>\n",
              "      <th>residential</th>\n",
              "      <th>driving</th>\n",
              "      <th>m50</th>\n",
              "      <th>m50_index</th>\n",
              "      <th>population_density</th>\n",
              "      <th>mask_rule_active</th>\n",
              "      <th>mask_wearing_percent</th>\n",
              "      <th>New cases</th>\n",
              "      <th>rolling_avg_new_cases</th>\n",
              "    </tr>\n",
              "  </thead>\n",
              "  <tbody>\n",
              "    <tr>\n",
              "      <th>0</th>\n",
              "      <td>2020-03-01</td>\n",
              "      <td>48001</td>\n",
              "      <td>Anderson County</td>\n",
              "      <td>16.0</td>\n",
              "      <td>15.0</td>\n",
              "      <td>0.0</td>\n",
              "      <td>0.0</td>\n",
              "      <td>3.0</td>\n",
              "      <td>0.0</td>\n",
              "      <td>27.49</td>\n",
              "      <td>8.910</td>\n",
              "      <td>79</td>\n",
              "      <td>54.33371</td>\n",
              "      <td>0</td>\n",
              "      <td>0.0</td>\n",
              "      <td>0</td>\n",
              "      <td>NaN</td>\n",
              "    </tr>\n",
              "    <tr>\n",
              "      <th>1</th>\n",
              "      <td>2020-03-02</td>\n",
              "      <td>48001</td>\n",
              "      <td>Anderson County</td>\n",
              "      <td>14.0</td>\n",
              "      <td>7.0</td>\n",
              "      <td>0.0</td>\n",
              "      <td>0.0</td>\n",
              "      <td>2.0</td>\n",
              "      <td>-1.0</td>\n",
              "      <td>27.76</td>\n",
              "      <td>10.708</td>\n",
              "      <td>95</td>\n",
              "      <td>54.33371</td>\n",
              "      <td>0</td>\n",
              "      <td>0.0</td>\n",
              "      <td>0</td>\n",
              "      <td>NaN</td>\n",
              "    </tr>\n",
              "    <tr>\n",
              "      <th>2</th>\n",
              "      <td>2020-03-03</td>\n",
              "      <td>48001</td>\n",
              "      <td>Anderson County</td>\n",
              "      <td>21.0</td>\n",
              "      <td>8.0</td>\n",
              "      <td>0.0</td>\n",
              "      <td>0.0</td>\n",
              "      <td>2.0</td>\n",
              "      <td>-2.0</td>\n",
              "      <td>28.24</td>\n",
              "      <td>12.118</td>\n",
              "      <td>107</td>\n",
              "      <td>54.33371</td>\n",
              "      <td>0</td>\n",
              "      <td>0.0</td>\n",
              "      <td>0</td>\n",
              "      <td>NaN</td>\n",
              "    </tr>\n",
              "    <tr>\n",
              "      <th>3</th>\n",
              "      <td>2020-03-04</td>\n",
              "      <td>48001</td>\n",
              "      <td>Anderson County</td>\n",
              "      <td>12.0</td>\n",
              "      <td>5.0</td>\n",
              "      <td>0.0</td>\n",
              "      <td>0.0</td>\n",
              "      <td>1.0</td>\n",
              "      <td>2.0</td>\n",
              "      <td>20.72</td>\n",
              "      <td>9.156</td>\n",
              "      <td>81</td>\n",
              "      <td>54.33371</td>\n",
              "      <td>0</td>\n",
              "      <td>0.0</td>\n",
              "      <td>0</td>\n",
              "      <td>NaN</td>\n",
              "    </tr>\n",
              "    <tr>\n",
              "      <th>4</th>\n",
              "      <td>2020-03-05</td>\n",
              "      <td>48001</td>\n",
              "      <td>Anderson County</td>\n",
              "      <td>18.0</td>\n",
              "      <td>13.0</td>\n",
              "      <td>0.0</td>\n",
              "      <td>0.0</td>\n",
              "      <td>3.0</td>\n",
              "      <td>-3.0</td>\n",
              "      <td>47.52</td>\n",
              "      <td>11.230</td>\n",
              "      <td>100</td>\n",
              "      <td>54.33371</td>\n",
              "      <td>0</td>\n",
              "      <td>0.0</td>\n",
              "      <td>0</td>\n",
              "      <td>NaN</td>\n",
              "    </tr>\n",
              "  </tbody>\n",
              "</table>\n",
              "</div>"
            ],
            "text/plain": [
              "         Date fips_x  ... New cases  rolling_avg_new_cases\n",
              "0  2020-03-01  48001  ...         0                    NaN\n",
              "1  2020-03-02  48001  ...         0                    NaN\n",
              "2  2020-03-03  48001  ...         0                    NaN\n",
              "3  2020-03-04  48001  ...         0                    NaN\n",
              "4  2020-03-05  48001  ...         0                    NaN\n",
              "\n",
              "[5 rows x 17 columns]"
            ]
          },
          "metadata": {
            "tags": []
          },
          "execution_count": 9
        }
      ]
    },
    {
      "cell_type": "code",
      "metadata": {
        "id": "QspmuDEn7RqK",
        "colab_type": "code",
        "colab": {
          "base_uri": "https://localhost:8080/",
          "height": 51
        },
        "outputId": "14c06444-ffc4-4afd-d345-6d9929862568"
      },
      "source": [
        "print(df.shape)\n",
        "TX_combined_data.shape"
      ],
      "execution_count": null,
      "outputs": [
        {
          "output_type": "stream",
          "text": [
            "(73558, 17)\n"
          ],
          "name": "stdout"
        },
        {
          "output_type": "execute_result",
          "data": {
            "text/plain": [
              "(36779, 16)"
            ]
          },
          "metadata": {
            "tags": []
          },
          "execution_count": 10
        }
      ]
    },
    {
      "cell_type": "code",
      "metadata": {
        "id": "qFvDLfI37VVe",
        "colab_type": "code",
        "colab": {
          "base_uri": "https://localhost:8080/",
          "height": 643
        },
        "outputId": "ff2cf93a-b934-4ee0-9513-1e83b61594e7"
      },
      "source": [
        "TX_combined_data = df.copy()\n",
        "TX_combined_data"
      ],
      "execution_count": null,
      "outputs": [
        {
          "output_type": "execute_result",
          "data": {
            "text/html": [
              "<div>\n",
              "<style scoped>\n",
              "    .dataframe tbody tr th:only-of-type {\n",
              "        vertical-align: middle;\n",
              "    }\n",
              "\n",
              "    .dataframe tbody tr th {\n",
              "        vertical-align: top;\n",
              "    }\n",
              "\n",
              "    .dataframe thead th {\n",
              "        text-align: right;\n",
              "    }\n",
              "</style>\n",
              "<table border=\"1\" class=\"dataframe\">\n",
              "  <thead>\n",
              "    <tr style=\"text-align: right;\">\n",
              "      <th></th>\n",
              "      <th>Date</th>\n",
              "      <th>fips_x</th>\n",
              "      <th>County Name</th>\n",
              "      <th>retail and recreation</th>\n",
              "      <th>grocery and pharmacy</th>\n",
              "      <th>parks</th>\n",
              "      <th>transit stations</th>\n",
              "      <th>workplaces</th>\n",
              "      <th>residential</th>\n",
              "      <th>driving</th>\n",
              "      <th>m50</th>\n",
              "      <th>m50_index</th>\n",
              "      <th>population_density</th>\n",
              "      <th>mask_rule_active</th>\n",
              "      <th>mask_wearing_percent</th>\n",
              "      <th>New cases</th>\n",
              "      <th>rolling_avg_new_cases</th>\n",
              "    </tr>\n",
              "  </thead>\n",
              "  <tbody>\n",
              "    <tr>\n",
              "      <th>0</th>\n",
              "      <td>2020-03-01</td>\n",
              "      <td>48001</td>\n",
              "      <td>Anderson County</td>\n",
              "      <td>16.0</td>\n",
              "      <td>15.0</td>\n",
              "      <td>0.0</td>\n",
              "      <td>0.0</td>\n",
              "      <td>3.0</td>\n",
              "      <td>0.0</td>\n",
              "      <td>27.49</td>\n",
              "      <td>8.910</td>\n",
              "      <td>79</td>\n",
              "      <td>54.333710</td>\n",
              "      <td>0</td>\n",
              "      <td>0.000</td>\n",
              "      <td>0</td>\n",
              "      <td>NaN</td>\n",
              "    </tr>\n",
              "    <tr>\n",
              "      <th>1</th>\n",
              "      <td>2020-03-02</td>\n",
              "      <td>48001</td>\n",
              "      <td>Anderson County</td>\n",
              "      <td>14.0</td>\n",
              "      <td>7.0</td>\n",
              "      <td>0.0</td>\n",
              "      <td>0.0</td>\n",
              "      <td>2.0</td>\n",
              "      <td>-1.0</td>\n",
              "      <td>27.76</td>\n",
              "      <td>10.708</td>\n",
              "      <td>95</td>\n",
              "      <td>54.333710</td>\n",
              "      <td>0</td>\n",
              "      <td>0.000</td>\n",
              "      <td>0</td>\n",
              "      <td>NaN</td>\n",
              "    </tr>\n",
              "    <tr>\n",
              "      <th>2</th>\n",
              "      <td>2020-03-03</td>\n",
              "      <td>48001</td>\n",
              "      <td>Anderson County</td>\n",
              "      <td>21.0</td>\n",
              "      <td>8.0</td>\n",
              "      <td>0.0</td>\n",
              "      <td>0.0</td>\n",
              "      <td>2.0</td>\n",
              "      <td>-2.0</td>\n",
              "      <td>28.24</td>\n",
              "      <td>12.118</td>\n",
              "      <td>107</td>\n",
              "      <td>54.333710</td>\n",
              "      <td>0</td>\n",
              "      <td>0.000</td>\n",
              "      <td>0</td>\n",
              "      <td>NaN</td>\n",
              "    </tr>\n",
              "    <tr>\n",
              "      <th>3</th>\n",
              "      <td>2020-03-04</td>\n",
              "      <td>48001</td>\n",
              "      <td>Anderson County</td>\n",
              "      <td>12.0</td>\n",
              "      <td>5.0</td>\n",
              "      <td>0.0</td>\n",
              "      <td>0.0</td>\n",
              "      <td>1.0</td>\n",
              "      <td>2.0</td>\n",
              "      <td>20.72</td>\n",
              "      <td>9.156</td>\n",
              "      <td>81</td>\n",
              "      <td>54.333710</td>\n",
              "      <td>0</td>\n",
              "      <td>0.000</td>\n",
              "      <td>0</td>\n",
              "      <td>NaN</td>\n",
              "    </tr>\n",
              "    <tr>\n",
              "      <th>4</th>\n",
              "      <td>2020-03-05</td>\n",
              "      <td>48001</td>\n",
              "      <td>Anderson County</td>\n",
              "      <td>18.0</td>\n",
              "      <td>13.0</td>\n",
              "      <td>0.0</td>\n",
              "      <td>0.0</td>\n",
              "      <td>3.0</td>\n",
              "      <td>-3.0</td>\n",
              "      <td>47.52</td>\n",
              "      <td>11.230</td>\n",
              "      <td>100</td>\n",
              "      <td>54.333710</td>\n",
              "      <td>0</td>\n",
              "      <td>0.000</td>\n",
              "      <td>0</td>\n",
              "      <td>NaN</td>\n",
              "    </tr>\n",
              "    <tr>\n",
              "      <th>...</th>\n",
              "      <td>...</td>\n",
              "      <td>...</td>\n",
              "      <td>...</td>\n",
              "      <td>...</td>\n",
              "      <td>...</td>\n",
              "      <td>...</td>\n",
              "      <td>...</td>\n",
              "      <td>...</td>\n",
              "      <td>...</td>\n",
              "      <td>...</td>\n",
              "      <td>...</td>\n",
              "      <td>...</td>\n",
              "      <td>...</td>\n",
              "      <td>...</td>\n",
              "      <td>...</td>\n",
              "      <td>...</td>\n",
              "      <td>...</td>\n",
              "    </tr>\n",
              "    <tr>\n",
              "      <th>36774</th>\n",
              "      <td>2020-08-31</td>\n",
              "      <td>48507</td>\n",
              "      <td>Zavala County</td>\n",
              "      <td>0.0</td>\n",
              "      <td>0.0</td>\n",
              "      <td>0.0</td>\n",
              "      <td>0.0</td>\n",
              "      <td>-30.0</td>\n",
              "      <td>0.0</td>\n",
              "      <td>0.00</td>\n",
              "      <td>2.292</td>\n",
              "      <td>23</td>\n",
              "      <td>9.125874</td>\n",
              "      <td>1</td>\n",
              "      <td>0.635</td>\n",
              "      <td>0</td>\n",
              "      <td>1.714286</td>\n",
              "    </tr>\n",
              "    <tr>\n",
              "      <th>36775</th>\n",
              "      <td>2020-09-01</td>\n",
              "      <td>48507</td>\n",
              "      <td>Zavala County</td>\n",
              "      <td>0.0</td>\n",
              "      <td>0.0</td>\n",
              "      <td>0.0</td>\n",
              "      <td>0.0</td>\n",
              "      <td>-30.0</td>\n",
              "      <td>0.0</td>\n",
              "      <td>0.00</td>\n",
              "      <td>3.324</td>\n",
              "      <td>34</td>\n",
              "      <td>9.125874</td>\n",
              "      <td>1</td>\n",
              "      <td>0.635</td>\n",
              "      <td>0</td>\n",
              "      <td>1.142857</td>\n",
              "    </tr>\n",
              "    <tr>\n",
              "      <th>36776</th>\n",
              "      <td>2020-09-02</td>\n",
              "      <td>48507</td>\n",
              "      <td>Zavala County</td>\n",
              "      <td>0.0</td>\n",
              "      <td>0.0</td>\n",
              "      <td>0.0</td>\n",
              "      <td>0.0</td>\n",
              "      <td>-31.0</td>\n",
              "      <td>0.0</td>\n",
              "      <td>0.00</td>\n",
              "      <td>7.657</td>\n",
              "      <td>79</td>\n",
              "      <td>9.125874</td>\n",
              "      <td>1</td>\n",
              "      <td>0.635</td>\n",
              "      <td>3</td>\n",
              "      <td>1.571429</td>\n",
              "    </tr>\n",
              "    <tr>\n",
              "      <th>36777</th>\n",
              "      <td>2020-09-03</td>\n",
              "      <td>48507</td>\n",
              "      <td>Zavala County</td>\n",
              "      <td>0.0</td>\n",
              "      <td>0.0</td>\n",
              "      <td>0.0</td>\n",
              "      <td>0.0</td>\n",
              "      <td>-33.0</td>\n",
              "      <td>0.0</td>\n",
              "      <td>0.00</td>\n",
              "      <td>3.479</td>\n",
              "      <td>36</td>\n",
              "      <td>9.125874</td>\n",
              "      <td>1</td>\n",
              "      <td>0.635</td>\n",
              "      <td>2</td>\n",
              "      <td>1.285714</td>\n",
              "    </tr>\n",
              "    <tr>\n",
              "      <th>36778</th>\n",
              "      <td>2020-09-04</td>\n",
              "      <td>48507</td>\n",
              "      <td>Zavala County</td>\n",
              "      <td>0.0</td>\n",
              "      <td>0.0</td>\n",
              "      <td>0.0</td>\n",
              "      <td>0.0</td>\n",
              "      <td>-37.0</td>\n",
              "      <td>0.0</td>\n",
              "      <td>0.00</td>\n",
              "      <td>10.616</td>\n",
              "      <td>110</td>\n",
              "      <td>9.125874</td>\n",
              "      <td>1</td>\n",
              "      <td>0.635</td>\n",
              "      <td>0</td>\n",
              "      <td>1.000000</td>\n",
              "    </tr>\n",
              "  </tbody>\n",
              "</table>\n",
              "<p>73558 rows × 17 columns</p>\n",
              "</div>"
            ],
            "text/plain": [
              "             Date fips_x  ... New cases  rolling_avg_new_cases\n",
              "0      2020-03-01  48001  ...         0                    NaN\n",
              "1      2020-03-02  48001  ...         0                    NaN\n",
              "2      2020-03-03  48001  ...         0                    NaN\n",
              "3      2020-03-04  48001  ...         0                    NaN\n",
              "4      2020-03-05  48001  ...         0                    NaN\n",
              "...           ...    ...  ...       ...                    ...\n",
              "36774  2020-08-31  48507  ...         0               1.714286\n",
              "36775  2020-09-01  48507  ...         0               1.142857\n",
              "36776  2020-09-02  48507  ...         3               1.571429\n",
              "36777  2020-09-03  48507  ...         2               1.285714\n",
              "36778  2020-09-04  48507  ...         0               1.000000\n",
              "\n",
              "[73558 rows x 17 columns]"
            ]
          },
          "metadata": {
            "tags": []
          },
          "execution_count": 11
        }
      ]
    },
    {
      "cell_type": "code",
      "metadata": {
        "id": "ZzGHQdgY7Xly",
        "colab_type": "code",
        "colab": {
          "base_uri": "https://localhost:8080/",
          "height": 643
        },
        "outputId": "b7f48d2d-57d7-4286-da2e-aacffd22afe0"
      },
      "source": [
        "TX_combined_data[TX_combined_data['Date'] == '2020-08-01']"
      ],
      "execution_count": null,
      "outputs": [
        {
          "output_type": "execute_result",
          "data": {
            "text/html": [
              "<div>\n",
              "<style scoped>\n",
              "    .dataframe tbody tr th:only-of-type {\n",
              "        vertical-align: middle;\n",
              "    }\n",
              "\n",
              "    .dataframe tbody tr th {\n",
              "        vertical-align: top;\n",
              "    }\n",
              "\n",
              "    .dataframe thead th {\n",
              "        text-align: right;\n",
              "    }\n",
              "</style>\n",
              "<table border=\"1\" class=\"dataframe\">\n",
              "  <thead>\n",
              "    <tr style=\"text-align: right;\">\n",
              "      <th></th>\n",
              "      <th>Date</th>\n",
              "      <th>fips_x</th>\n",
              "      <th>County Name</th>\n",
              "      <th>retail and recreation</th>\n",
              "      <th>grocery and pharmacy</th>\n",
              "      <th>parks</th>\n",
              "      <th>transit stations</th>\n",
              "      <th>workplaces</th>\n",
              "      <th>residential</th>\n",
              "      <th>driving</th>\n",
              "      <th>m50</th>\n",
              "      <th>m50_index</th>\n",
              "      <th>population_density</th>\n",
              "      <th>mask_rule_active</th>\n",
              "      <th>mask_wearing_percent</th>\n",
              "      <th>New cases</th>\n",
              "      <th>rolling_avg_new_cases</th>\n",
              "    </tr>\n",
              "  </thead>\n",
              "  <tbody>\n",
              "    <tr>\n",
              "      <th>151</th>\n",
              "      <td>2020-08-01</td>\n",
              "      <td>48001</td>\n",
              "      <td>Anderson County</td>\n",
              "      <td>-6.0</td>\n",
              "      <td>5.0</td>\n",
              "      <td>0.0</td>\n",
              "      <td>0.0</td>\n",
              "      <td>-6.0</td>\n",
              "      <td>0.0</td>\n",
              "      <td>104.48</td>\n",
              "      <td>7.538</td>\n",
              "      <td>67</td>\n",
              "      <td>54.333710</td>\n",
              "      <td>1</td>\n",
              "      <td>0.541</td>\n",
              "      <td>13</td>\n",
              "      <td>9.857143</td>\n",
              "    </tr>\n",
              "    <tr>\n",
              "      <th>340</th>\n",
              "      <td>2020-08-01</td>\n",
              "      <td>48003</td>\n",
              "      <td>Andrews County</td>\n",
              "      <td>0.0</td>\n",
              "      <td>0.0</td>\n",
              "      <td>0.0</td>\n",
              "      <td>-22.0</td>\n",
              "      <td>-25.0</td>\n",
              "      <td>0.0</td>\n",
              "      <td>-17.41</td>\n",
              "      <td>2.809</td>\n",
              "      <td>60</td>\n",
              "      <td>12.464100</td>\n",
              "      <td>1</td>\n",
              "      <td>0.597</td>\n",
              "      <td>0</td>\n",
              "      <td>4.285714</td>\n",
              "    </tr>\n",
              "    <tr>\n",
              "      <th>529</th>\n",
              "      <td>2020-08-01</td>\n",
              "      <td>48005</td>\n",
              "      <td>Angelina County</td>\n",
              "      <td>-15.0</td>\n",
              "      <td>5.0</td>\n",
              "      <td>-3.0</td>\n",
              "      <td>-2.0</td>\n",
              "      <td>-14.0</td>\n",
              "      <td>4.0</td>\n",
              "      <td>62.99</td>\n",
              "      <td>7.438</td>\n",
              "      <td>76</td>\n",
              "      <td>108.695380</td>\n",
              "      <td>1</td>\n",
              "      <td>0.536</td>\n",
              "      <td>41</td>\n",
              "      <td>34.571429</td>\n",
              "    </tr>\n",
              "    <tr>\n",
              "      <th>718</th>\n",
              "      <td>2020-08-01</td>\n",
              "      <td>48007</td>\n",
              "      <td>Aransas County</td>\n",
              "      <td>13.0</td>\n",
              "      <td>16.0</td>\n",
              "      <td>44.0</td>\n",
              "      <td>0.0</td>\n",
              "      <td>-15.0</td>\n",
              "      <td>0.0</td>\n",
              "      <td>220.00</td>\n",
              "      <td>5.184</td>\n",
              "      <td>108</td>\n",
              "      <td>93.267743</td>\n",
              "      <td>1</td>\n",
              "      <td>0.746</td>\n",
              "      <td>0</td>\n",
              "      <td>4.285714</td>\n",
              "    </tr>\n",
              "    <tr>\n",
              "      <th>1040</th>\n",
              "      <td>2020-08-01</td>\n",
              "      <td>48013</td>\n",
              "      <td>Atascosa County</td>\n",
              "      <td>-7.0</td>\n",
              "      <td>-7.0</td>\n",
              "      <td>0.0</td>\n",
              "      <td>-28.0</td>\n",
              "      <td>-14.0</td>\n",
              "      <td>0.0</td>\n",
              "      <td>25.00</td>\n",
              "      <td>9.122</td>\n",
              "      <td>52</td>\n",
              "      <td>41.944504</td>\n",
              "      <td>1</td>\n",
              "      <td>0.802</td>\n",
              "      <td>0</td>\n",
              "      <td>1.714286</td>\n",
              "    </tr>\n",
              "    <tr>\n",
              "      <th>...</th>\n",
              "      <td>...</td>\n",
              "      <td>...</td>\n",
              "      <td>...</td>\n",
              "      <td>...</td>\n",
              "      <td>...</td>\n",
              "      <td>...</td>\n",
              "      <td>...</td>\n",
              "      <td>...</td>\n",
              "      <td>...</td>\n",
              "      <td>...</td>\n",
              "      <td>...</td>\n",
              "      <td>...</td>\n",
              "      <td>...</td>\n",
              "      <td>...</td>\n",
              "      <td>...</td>\n",
              "      <td>...</td>\n",
              "      <td>...</td>\n",
              "    </tr>\n",
              "    <tr>\n",
              "      <th>35697</th>\n",
              "      <td>2020-08-01</td>\n",
              "      <td>48495</td>\n",
              "      <td>Winkler County</td>\n",
              "      <td>0.0</td>\n",
              "      <td>0.0</td>\n",
              "      <td>0.0</td>\n",
              "      <td>0.0</td>\n",
              "      <td>-40.0</td>\n",
              "      <td>0.0</td>\n",
              "      <td>-49.49</td>\n",
              "      <td>22.197</td>\n",
              "      <td>72</td>\n",
              "      <td>9.523130</td>\n",
              "      <td>1</td>\n",
              "      <td>0.581</td>\n",
              "      <td>2</td>\n",
              "      <td>0.428571</td>\n",
              "    </tr>\n",
              "    <tr>\n",
              "      <th>35886</th>\n",
              "      <td>2020-08-01</td>\n",
              "      <td>48497</td>\n",
              "      <td>Wise County</td>\n",
              "      <td>-4.0</td>\n",
              "      <td>11.0</td>\n",
              "      <td>26.0</td>\n",
              "      <td>-2.0</td>\n",
              "      <td>-11.0</td>\n",
              "      <td>0.0</td>\n",
              "      <td>72.10</td>\n",
              "      <td>15.273</td>\n",
              "      <td>70</td>\n",
              "      <td>77.379978</td>\n",
              "      <td>1</td>\n",
              "      <td>0.649</td>\n",
              "      <td>2</td>\n",
              "      <td>5.571429</td>\n",
              "    </tr>\n",
              "    <tr>\n",
              "      <th>36075</th>\n",
              "      <td>2020-08-01</td>\n",
              "      <td>48499</td>\n",
              "      <td>Wood County</td>\n",
              "      <td>3.0</td>\n",
              "      <td>15.0</td>\n",
              "      <td>0.0</td>\n",
              "      <td>0.0</td>\n",
              "      <td>-9.0</td>\n",
              "      <td>0.0</td>\n",
              "      <td>72.77</td>\n",
              "      <td>10.248</td>\n",
              "      <td>58</td>\n",
              "      <td>70.577933</td>\n",
              "      <td>1</td>\n",
              "      <td>0.526</td>\n",
              "      <td>7</td>\n",
              "      <td>7.142857</td>\n",
              "    </tr>\n",
              "    <tr>\n",
              "      <th>36264</th>\n",
              "      <td>2020-08-01</td>\n",
              "      <td>48501</td>\n",
              "      <td>Yoakum County</td>\n",
              "      <td>0.0</td>\n",
              "      <td>0.0</td>\n",
              "      <td>0.0</td>\n",
              "      <td>0.0</td>\n",
              "      <td>0.0</td>\n",
              "      <td>0.0</td>\n",
              "      <td>17.32</td>\n",
              "      <td>7.017</td>\n",
              "      <td>68</td>\n",
              "      <td>10.895200</td>\n",
              "      <td>1</td>\n",
              "      <td>0.561</td>\n",
              "      <td>8</td>\n",
              "      <td>3.142857</td>\n",
              "    </tr>\n",
              "    <tr>\n",
              "      <th>36453</th>\n",
              "      <td>2020-08-01</td>\n",
              "      <td>48503</td>\n",
              "      <td>Young County</td>\n",
              "      <td>0.0</td>\n",
              "      <td>0.0</td>\n",
              "      <td>0.0</td>\n",
              "      <td>0.0</td>\n",
              "      <td>-6.0</td>\n",
              "      <td>0.0</td>\n",
              "      <td>94.99</td>\n",
              "      <td>5.972</td>\n",
              "      <td>122</td>\n",
              "      <td>19.694468</td>\n",
              "      <td>1</td>\n",
              "      <td>0.645</td>\n",
              "      <td>6</td>\n",
              "      <td>5.428571</td>\n",
              "    </tr>\n",
              "  </tbody>\n",
              "</table>\n",
              "<p>362 rows × 17 columns</p>\n",
              "</div>"
            ],
            "text/plain": [
              "             Date fips_x  ... New cases  rolling_avg_new_cases\n",
              "151    2020-08-01  48001  ...        13               9.857143\n",
              "340    2020-08-01  48003  ...         0               4.285714\n",
              "529    2020-08-01  48005  ...        41              34.571429\n",
              "718    2020-08-01  48007  ...         0               4.285714\n",
              "1040   2020-08-01  48013  ...         0               1.714286\n",
              "...           ...    ...  ...       ...                    ...\n",
              "35697  2020-08-01  48495  ...         2               0.428571\n",
              "35886  2020-08-01  48497  ...         2               5.571429\n",
              "36075  2020-08-01  48499  ...         7               7.142857\n",
              "36264  2020-08-01  48501  ...         8               3.142857\n",
              "36453  2020-08-01  48503  ...         6               5.428571\n",
              "\n",
              "[362 rows x 17 columns]"
            ]
          },
          "metadata": {
            "tags": []
          },
          "execution_count": 12
        }
      ]
    },
    {
      "cell_type": "code",
      "metadata": {
        "id": "bjooODlK7e27",
        "colab_type": "code",
        "colab": {
          "base_uri": "https://localhost:8080/",
          "height": 487
        },
        "outputId": "ba3e04b8-8e43-461a-91fe-3854773bc751"
      },
      "source": [
        "TX_combined_data.head(8)"
      ],
      "execution_count": null,
      "outputs": [
        {
          "output_type": "execute_result",
          "data": {
            "text/html": [
              "<div>\n",
              "<style scoped>\n",
              "    .dataframe tbody tr th:only-of-type {\n",
              "        vertical-align: middle;\n",
              "    }\n",
              "\n",
              "    .dataframe tbody tr th {\n",
              "        vertical-align: top;\n",
              "    }\n",
              "\n",
              "    .dataframe thead th {\n",
              "        text-align: right;\n",
              "    }\n",
              "</style>\n",
              "<table border=\"1\" class=\"dataframe\">\n",
              "  <thead>\n",
              "    <tr style=\"text-align: right;\">\n",
              "      <th></th>\n",
              "      <th>Date</th>\n",
              "      <th>fips_x</th>\n",
              "      <th>County Name</th>\n",
              "      <th>retail and recreation</th>\n",
              "      <th>grocery and pharmacy</th>\n",
              "      <th>parks</th>\n",
              "      <th>transit stations</th>\n",
              "      <th>workplaces</th>\n",
              "      <th>residential</th>\n",
              "      <th>driving</th>\n",
              "      <th>m50</th>\n",
              "      <th>m50_index</th>\n",
              "      <th>population_density</th>\n",
              "      <th>mask_rule_active</th>\n",
              "      <th>mask_wearing_percent</th>\n",
              "      <th>New cases</th>\n",
              "      <th>rolling_avg_new_cases</th>\n",
              "    </tr>\n",
              "  </thead>\n",
              "  <tbody>\n",
              "    <tr>\n",
              "      <th>0</th>\n",
              "      <td>2020-03-01</td>\n",
              "      <td>48001</td>\n",
              "      <td>Anderson County</td>\n",
              "      <td>16.0</td>\n",
              "      <td>15.0</td>\n",
              "      <td>0.0</td>\n",
              "      <td>0.0</td>\n",
              "      <td>3.0</td>\n",
              "      <td>0.0</td>\n",
              "      <td>27.49</td>\n",
              "      <td>8.910</td>\n",
              "      <td>79</td>\n",
              "      <td>54.33371</td>\n",
              "      <td>0</td>\n",
              "      <td>0.0</td>\n",
              "      <td>0</td>\n",
              "      <td>NaN</td>\n",
              "    </tr>\n",
              "    <tr>\n",
              "      <th>1</th>\n",
              "      <td>2020-03-02</td>\n",
              "      <td>48001</td>\n",
              "      <td>Anderson County</td>\n",
              "      <td>14.0</td>\n",
              "      <td>7.0</td>\n",
              "      <td>0.0</td>\n",
              "      <td>0.0</td>\n",
              "      <td>2.0</td>\n",
              "      <td>-1.0</td>\n",
              "      <td>27.76</td>\n",
              "      <td>10.708</td>\n",
              "      <td>95</td>\n",
              "      <td>54.33371</td>\n",
              "      <td>0</td>\n",
              "      <td>0.0</td>\n",
              "      <td>0</td>\n",
              "      <td>NaN</td>\n",
              "    </tr>\n",
              "    <tr>\n",
              "      <th>2</th>\n",
              "      <td>2020-03-03</td>\n",
              "      <td>48001</td>\n",
              "      <td>Anderson County</td>\n",
              "      <td>21.0</td>\n",
              "      <td>8.0</td>\n",
              "      <td>0.0</td>\n",
              "      <td>0.0</td>\n",
              "      <td>2.0</td>\n",
              "      <td>-2.0</td>\n",
              "      <td>28.24</td>\n",
              "      <td>12.118</td>\n",
              "      <td>107</td>\n",
              "      <td>54.33371</td>\n",
              "      <td>0</td>\n",
              "      <td>0.0</td>\n",
              "      <td>0</td>\n",
              "      <td>NaN</td>\n",
              "    </tr>\n",
              "    <tr>\n",
              "      <th>3</th>\n",
              "      <td>2020-03-04</td>\n",
              "      <td>48001</td>\n",
              "      <td>Anderson County</td>\n",
              "      <td>12.0</td>\n",
              "      <td>5.0</td>\n",
              "      <td>0.0</td>\n",
              "      <td>0.0</td>\n",
              "      <td>1.0</td>\n",
              "      <td>2.0</td>\n",
              "      <td>20.72</td>\n",
              "      <td>9.156</td>\n",
              "      <td>81</td>\n",
              "      <td>54.33371</td>\n",
              "      <td>0</td>\n",
              "      <td>0.0</td>\n",
              "      <td>0</td>\n",
              "      <td>NaN</td>\n",
              "    </tr>\n",
              "    <tr>\n",
              "      <th>4</th>\n",
              "      <td>2020-03-05</td>\n",
              "      <td>48001</td>\n",
              "      <td>Anderson County</td>\n",
              "      <td>18.0</td>\n",
              "      <td>13.0</td>\n",
              "      <td>0.0</td>\n",
              "      <td>0.0</td>\n",
              "      <td>3.0</td>\n",
              "      <td>-3.0</td>\n",
              "      <td>47.52</td>\n",
              "      <td>11.230</td>\n",
              "      <td>100</td>\n",
              "      <td>54.33371</td>\n",
              "      <td>0</td>\n",
              "      <td>0.0</td>\n",
              "      <td>0</td>\n",
              "      <td>NaN</td>\n",
              "    </tr>\n",
              "    <tr>\n",
              "      <th>5</th>\n",
              "      <td>2020-03-06</td>\n",
              "      <td>48001</td>\n",
              "      <td>Anderson County</td>\n",
              "      <td>8.0</td>\n",
              "      <td>10.0</td>\n",
              "      <td>0.0</td>\n",
              "      <td>0.0</td>\n",
              "      <td>3.0</td>\n",
              "      <td>-1.0</td>\n",
              "      <td>85.64</td>\n",
              "      <td>13.757</td>\n",
              "      <td>122</td>\n",
              "      <td>54.33371</td>\n",
              "      <td>0</td>\n",
              "      <td>0.0</td>\n",
              "      <td>0</td>\n",
              "      <td>NaN</td>\n",
              "    </tr>\n",
              "    <tr>\n",
              "      <th>6</th>\n",
              "      <td>2020-03-07</td>\n",
              "      <td>48001</td>\n",
              "      <td>Anderson County</td>\n",
              "      <td>9.0</td>\n",
              "      <td>12.0</td>\n",
              "      <td>0.0</td>\n",
              "      <td>0.0</td>\n",
              "      <td>-1.0</td>\n",
              "      <td>0.0</td>\n",
              "      <td>97.15</td>\n",
              "      <td>11.261</td>\n",
              "      <td>100</td>\n",
              "      <td>54.33371</td>\n",
              "      <td>0</td>\n",
              "      <td>0.0</td>\n",
              "      <td>0</td>\n",
              "      <td>0.0</td>\n",
              "    </tr>\n",
              "    <tr>\n",
              "      <th>7</th>\n",
              "      <td>2020-03-08</td>\n",
              "      <td>48001</td>\n",
              "      <td>Anderson County</td>\n",
              "      <td>13.0</td>\n",
              "      <td>18.0</td>\n",
              "      <td>0.0</td>\n",
              "      <td>0.0</td>\n",
              "      <td>1.0</td>\n",
              "      <td>0.0</td>\n",
              "      <td>30.01</td>\n",
              "      <td>9.883</td>\n",
              "      <td>88</td>\n",
              "      <td>54.33371</td>\n",
              "      <td>0</td>\n",
              "      <td>0.0</td>\n",
              "      <td>0</td>\n",
              "      <td>0.0</td>\n",
              "    </tr>\n",
              "  </tbody>\n",
              "</table>\n",
              "</div>"
            ],
            "text/plain": [
              "         Date fips_x  ... New cases  rolling_avg_new_cases\n",
              "0  2020-03-01  48001  ...         0                    NaN\n",
              "1  2020-03-02  48001  ...         0                    NaN\n",
              "2  2020-03-03  48001  ...         0                    NaN\n",
              "3  2020-03-04  48001  ...         0                    NaN\n",
              "4  2020-03-05  48001  ...         0                    NaN\n",
              "5  2020-03-06  48001  ...         0                    NaN\n",
              "6  2020-03-07  48001  ...         0                    0.0\n",
              "7  2020-03-08  48001  ...         0                    0.0\n",
              "\n",
              "[8 rows x 17 columns]"
            ]
          },
          "metadata": {
            "tags": []
          },
          "execution_count": 13
        }
      ]
    },
    {
      "cell_type": "markdown",
      "metadata": {
        "id": "IKJxFAZb7jPi",
        "colab_type": "text"
      },
      "source": [
        "## clean data - fill NA"
      ]
    },
    {
      "cell_type": "code",
      "metadata": {
        "id": "_RN-WNp07n4L",
        "colab_type": "code",
        "colab": {
          "base_uri": "https://localhost:8080/",
          "height": 487
        },
        "outputId": "8dc62f30-4da1-4875-dfbc-c8931c814588"
      },
      "source": [
        "TX_combined_data = TX_combined_data.fillna(0)\n",
        "TX_combined_data.head(8)"
      ],
      "execution_count": null,
      "outputs": [
        {
          "output_type": "execute_result",
          "data": {
            "text/html": [
              "<div>\n",
              "<style scoped>\n",
              "    .dataframe tbody tr th:only-of-type {\n",
              "        vertical-align: middle;\n",
              "    }\n",
              "\n",
              "    .dataframe tbody tr th {\n",
              "        vertical-align: top;\n",
              "    }\n",
              "\n",
              "    .dataframe thead th {\n",
              "        text-align: right;\n",
              "    }\n",
              "</style>\n",
              "<table border=\"1\" class=\"dataframe\">\n",
              "  <thead>\n",
              "    <tr style=\"text-align: right;\">\n",
              "      <th></th>\n",
              "      <th>Date</th>\n",
              "      <th>fips_x</th>\n",
              "      <th>County Name</th>\n",
              "      <th>retail and recreation</th>\n",
              "      <th>grocery and pharmacy</th>\n",
              "      <th>parks</th>\n",
              "      <th>transit stations</th>\n",
              "      <th>workplaces</th>\n",
              "      <th>residential</th>\n",
              "      <th>driving</th>\n",
              "      <th>m50</th>\n",
              "      <th>m50_index</th>\n",
              "      <th>population_density</th>\n",
              "      <th>mask_rule_active</th>\n",
              "      <th>mask_wearing_percent</th>\n",
              "      <th>New cases</th>\n",
              "      <th>rolling_avg_new_cases</th>\n",
              "    </tr>\n",
              "  </thead>\n",
              "  <tbody>\n",
              "    <tr>\n",
              "      <th>0</th>\n",
              "      <td>2020-03-01</td>\n",
              "      <td>48001</td>\n",
              "      <td>Anderson County</td>\n",
              "      <td>16.0</td>\n",
              "      <td>15.0</td>\n",
              "      <td>0.0</td>\n",
              "      <td>0.0</td>\n",
              "      <td>3.0</td>\n",
              "      <td>0.0</td>\n",
              "      <td>27.49</td>\n",
              "      <td>8.910</td>\n",
              "      <td>79</td>\n",
              "      <td>54.33371</td>\n",
              "      <td>0</td>\n",
              "      <td>0.0</td>\n",
              "      <td>0</td>\n",
              "      <td>0.0</td>\n",
              "    </tr>\n",
              "    <tr>\n",
              "      <th>1</th>\n",
              "      <td>2020-03-02</td>\n",
              "      <td>48001</td>\n",
              "      <td>Anderson County</td>\n",
              "      <td>14.0</td>\n",
              "      <td>7.0</td>\n",
              "      <td>0.0</td>\n",
              "      <td>0.0</td>\n",
              "      <td>2.0</td>\n",
              "      <td>-1.0</td>\n",
              "      <td>27.76</td>\n",
              "      <td>10.708</td>\n",
              "      <td>95</td>\n",
              "      <td>54.33371</td>\n",
              "      <td>0</td>\n",
              "      <td>0.0</td>\n",
              "      <td>0</td>\n",
              "      <td>0.0</td>\n",
              "    </tr>\n",
              "    <tr>\n",
              "      <th>2</th>\n",
              "      <td>2020-03-03</td>\n",
              "      <td>48001</td>\n",
              "      <td>Anderson County</td>\n",
              "      <td>21.0</td>\n",
              "      <td>8.0</td>\n",
              "      <td>0.0</td>\n",
              "      <td>0.0</td>\n",
              "      <td>2.0</td>\n",
              "      <td>-2.0</td>\n",
              "      <td>28.24</td>\n",
              "      <td>12.118</td>\n",
              "      <td>107</td>\n",
              "      <td>54.33371</td>\n",
              "      <td>0</td>\n",
              "      <td>0.0</td>\n",
              "      <td>0</td>\n",
              "      <td>0.0</td>\n",
              "    </tr>\n",
              "    <tr>\n",
              "      <th>3</th>\n",
              "      <td>2020-03-04</td>\n",
              "      <td>48001</td>\n",
              "      <td>Anderson County</td>\n",
              "      <td>12.0</td>\n",
              "      <td>5.0</td>\n",
              "      <td>0.0</td>\n",
              "      <td>0.0</td>\n",
              "      <td>1.0</td>\n",
              "      <td>2.0</td>\n",
              "      <td>20.72</td>\n",
              "      <td>9.156</td>\n",
              "      <td>81</td>\n",
              "      <td>54.33371</td>\n",
              "      <td>0</td>\n",
              "      <td>0.0</td>\n",
              "      <td>0</td>\n",
              "      <td>0.0</td>\n",
              "    </tr>\n",
              "    <tr>\n",
              "      <th>4</th>\n",
              "      <td>2020-03-05</td>\n",
              "      <td>48001</td>\n",
              "      <td>Anderson County</td>\n",
              "      <td>18.0</td>\n",
              "      <td>13.0</td>\n",
              "      <td>0.0</td>\n",
              "      <td>0.0</td>\n",
              "      <td>3.0</td>\n",
              "      <td>-3.0</td>\n",
              "      <td>47.52</td>\n",
              "      <td>11.230</td>\n",
              "      <td>100</td>\n",
              "      <td>54.33371</td>\n",
              "      <td>0</td>\n",
              "      <td>0.0</td>\n",
              "      <td>0</td>\n",
              "      <td>0.0</td>\n",
              "    </tr>\n",
              "    <tr>\n",
              "      <th>5</th>\n",
              "      <td>2020-03-06</td>\n",
              "      <td>48001</td>\n",
              "      <td>Anderson County</td>\n",
              "      <td>8.0</td>\n",
              "      <td>10.0</td>\n",
              "      <td>0.0</td>\n",
              "      <td>0.0</td>\n",
              "      <td>3.0</td>\n",
              "      <td>-1.0</td>\n",
              "      <td>85.64</td>\n",
              "      <td>13.757</td>\n",
              "      <td>122</td>\n",
              "      <td>54.33371</td>\n",
              "      <td>0</td>\n",
              "      <td>0.0</td>\n",
              "      <td>0</td>\n",
              "      <td>0.0</td>\n",
              "    </tr>\n",
              "    <tr>\n",
              "      <th>6</th>\n",
              "      <td>2020-03-07</td>\n",
              "      <td>48001</td>\n",
              "      <td>Anderson County</td>\n",
              "      <td>9.0</td>\n",
              "      <td>12.0</td>\n",
              "      <td>0.0</td>\n",
              "      <td>0.0</td>\n",
              "      <td>-1.0</td>\n",
              "      <td>0.0</td>\n",
              "      <td>97.15</td>\n",
              "      <td>11.261</td>\n",
              "      <td>100</td>\n",
              "      <td>54.33371</td>\n",
              "      <td>0</td>\n",
              "      <td>0.0</td>\n",
              "      <td>0</td>\n",
              "      <td>0.0</td>\n",
              "    </tr>\n",
              "    <tr>\n",
              "      <th>7</th>\n",
              "      <td>2020-03-08</td>\n",
              "      <td>48001</td>\n",
              "      <td>Anderson County</td>\n",
              "      <td>13.0</td>\n",
              "      <td>18.0</td>\n",
              "      <td>0.0</td>\n",
              "      <td>0.0</td>\n",
              "      <td>1.0</td>\n",
              "      <td>0.0</td>\n",
              "      <td>30.01</td>\n",
              "      <td>9.883</td>\n",
              "      <td>88</td>\n",
              "      <td>54.33371</td>\n",
              "      <td>0</td>\n",
              "      <td>0.0</td>\n",
              "      <td>0</td>\n",
              "      <td>0.0</td>\n",
              "    </tr>\n",
              "  </tbody>\n",
              "</table>\n",
              "</div>"
            ],
            "text/plain": [
              "         Date  fips_x  ... New cases  rolling_avg_new_cases\n",
              "0  2020-03-01   48001  ...         0                    0.0\n",
              "1  2020-03-02   48001  ...         0                    0.0\n",
              "2  2020-03-03   48001  ...         0                    0.0\n",
              "3  2020-03-04   48001  ...         0                    0.0\n",
              "4  2020-03-05   48001  ...         0                    0.0\n",
              "5  2020-03-06   48001  ...         0                    0.0\n",
              "6  2020-03-07   48001  ...         0                    0.0\n",
              "7  2020-03-08   48001  ...         0                    0.0\n",
              "\n",
              "[8 rows x 17 columns]"
            ]
          },
          "metadata": {
            "tags": []
          },
          "execution_count": 14
        }
      ]
    },
    {
      "cell_type": "code",
      "metadata": {
        "id": "f6rbdsa87tOn",
        "colab_type": "code",
        "colab": {
          "base_uri": "https://localhost:8080/",
          "height": 1000
        },
        "outputId": "ee10c7e3-1dee-4034-a687-cc1d0c33cf19"
      },
      "source": [
        "TX_combined_data['County Name'].unique()"
      ],
      "execution_count": null,
      "outputs": [
        {
          "output_type": "execute_result",
          "data": {
            "text/plain": [
              "array(['Anderson County', 'Andrews County', 'Angelina County',\n",
              "       'Aransas County', 'Archer County', 'Atascosa County',\n",
              "       'Austin County', 'Bailey County', 'Bandera County',\n",
              "       'Bastrop County', 'Bee County', 'Bell County', 'Bexar County',\n",
              "       'Blanco County', 'Bosque County', 'Bowie County',\n",
              "       'Brazoria County', 'Brazos County', 'Brewster County',\n",
              "       'Brooks County', 'Brown County', 'Burleson County',\n",
              "       'Burnet County', 'Caldwell County', 'Calhoun County',\n",
              "       'Callahan County', 'Cameron County', 'Camp County',\n",
              "       'Carson County', 'Cass County', 'Castro County', 'Chambers County',\n",
              "       'Cherokee County', 'Childress County', 'Clay County',\n",
              "       'Coleman County', 'Collin County', 'Colorado County',\n",
              "       'Comal County', 'Comanche County', 'Cooke County',\n",
              "       'Coryell County', 'Crane County', 'Crockett County',\n",
              "       'Culberson County', 'Dallam County', 'Dallas County',\n",
              "       'Dawson County', 'Deaf Smith County', 'Delta County',\n",
              "       'Denton County', 'DeWitt County', 'Dimmit County', 'Donley County',\n",
              "       'Duval County', 'Eastland County', 'Ector County', 'Ellis County',\n",
              "       'El Paso County', 'Erath County', 'Falls County', 'Fannin County',\n",
              "       'Fayette County', 'Fort Bend County', 'Franklin County',\n",
              "       'Freestone County', 'Frio County', 'Gaines County',\n",
              "       'Galveston County', 'Gillespie County', 'Goliad County',\n",
              "       'Gonzales County', 'Gray County', 'Grayson County', 'Gregg County',\n",
              "       'Grimes County', 'Guadalupe County', 'Hale County',\n",
              "       'Hamilton County', 'Hardeman County', 'Hardin County',\n",
              "       'Harris County', 'Harrison County', 'Hays County',\n",
              "       'Henderson County', 'Hidalgo County', 'Hill County',\n",
              "       'Hockley County', 'Hood County', 'Hopkins County',\n",
              "       'Houston County', 'Howard County', 'Hunt County',\n",
              "       'Hutchinson County', 'Jack County', 'Jackson County',\n",
              "       'Jasper County', 'Jefferson County', 'Jim Hogg County',\n",
              "       'Jim Wells County', 'Johnson County', 'Jones County',\n",
              "       'Karnes County', 'Kaufman County', 'Kendall County', 'Kerr County',\n",
              "       'Kimble County', 'Kleberg County', 'Lamar County', 'Lamb County',\n",
              "       'Lampasas County', 'La Salle County', 'Lavaca County',\n",
              "       'Lee County', 'Leon County', 'Liberty County', 'Limestone County',\n",
              "       'Live Oak County', 'Llano County', 'Lubbock County',\n",
              "       'McCulloch County', 'McLennan County', 'Madison County',\n",
              "       'Marion County', 'Martin County', 'Matagorda County',\n",
              "       'Maverick County', 'Medina County', 'Midland County',\n",
              "       'Milam County', 'Mitchell County', 'Montague County',\n",
              "       'Montgomery County', 'Moore County', 'Morris County',\n",
              "       'Nacogdoches County', 'Navarro County', 'Newton County',\n",
              "       'Nolan County', 'Nueces County', 'Ochiltree County',\n",
              "       'Orange County', 'Palo Pinto County', 'Panola County',\n",
              "       'Parker County', 'Parmer County', 'Pecos County', 'Polk County',\n",
              "       'Potter County', 'Rains County', 'Randall County', 'Reagan County',\n",
              "       'Red River County', 'Reeves County', 'Refugio County',\n",
              "       'Robertson County', 'Rockwall County', 'Runnels County',\n",
              "       'Rusk County', 'Sabine County', 'San Augustine County',\n",
              "       'San Jacinto County', 'San Patricio County', 'San Saba County',\n",
              "       'Scurry County', 'Shelby County', 'Smith County',\n",
              "       'Somervell County', 'Starr County', 'Stephens County',\n",
              "       'Sutton County', 'Swisher County', 'Tarrant County',\n",
              "       'Taylor County', 'Terry County', 'Titus County',\n",
              "       'Tom Green County', 'Travis County', 'Trinity County',\n",
              "       'Tyler County', 'Upshur County', 'Upton County', 'Uvalde County',\n",
              "       'Val Verde County', 'Van Zandt County', 'Victoria County',\n",
              "       'Walker County', 'Waller County', 'Ward County',\n",
              "       'Washington County', 'Webb County', 'Wharton County',\n",
              "       'Wheeler County', 'Wichita County', 'Wilbarger County',\n",
              "       'Willacy County', 'Williamson County', 'Wilson County',\n",
              "       'Winkler County', 'Wise County', 'Wood County', 'Yoakum County',\n",
              "       'Young County', 'Zapata County', 'Zavala County'], dtype=object)"
            ]
          },
          "metadata": {
            "tags": []
          },
          "execution_count": 15
        }
      ]
    },
    {
      "cell_type": "markdown",
      "metadata": {
        "id": "nVKzBi2Y71Vm",
        "colab_type": "text"
      },
      "source": [
        "## verifying Rolling average with visualizations - Austin County"
      ]
    },
    {
      "cell_type": "code",
      "metadata": {
        "id": "hM7edX3c775W",
        "colab_type": "code",
        "colab": {
          "base_uri": "https://localhost:8080/",
          "height": 360
        },
        "outputId": "4548c8cc-5e4e-48e8-9a2c-6ce11476ec8f"
      },
      "source": [
        "austin_county = TX_combined_data[TX_combined_data['County Name'] == 'Austin County']\n",
        "print(austin_county.shape)\n",
        "austin_county.head()"
      ],
      "execution_count": null,
      "outputs": [
        {
          "output_type": "stream",
          "text": [
            "(378, 17)\n"
          ],
          "name": "stdout"
        },
        {
          "output_type": "execute_result",
          "data": {
            "text/html": [
              "<div>\n",
              "<style scoped>\n",
              "    .dataframe tbody tr th:only-of-type {\n",
              "        vertical-align: middle;\n",
              "    }\n",
              "\n",
              "    .dataframe tbody tr th {\n",
              "        vertical-align: top;\n",
              "    }\n",
              "\n",
              "    .dataframe thead th {\n",
              "        text-align: right;\n",
              "    }\n",
              "</style>\n",
              "<table border=\"1\" class=\"dataframe\">\n",
              "  <thead>\n",
              "    <tr style=\"text-align: right;\">\n",
              "      <th></th>\n",
              "      <th>Date</th>\n",
              "      <th>fips_x</th>\n",
              "      <th>County Name</th>\n",
              "      <th>retail and recreation</th>\n",
              "      <th>grocery and pharmacy</th>\n",
              "      <th>parks</th>\n",
              "      <th>transit stations</th>\n",
              "      <th>workplaces</th>\n",
              "      <th>residential</th>\n",
              "      <th>driving</th>\n",
              "      <th>m50</th>\n",
              "      <th>m50_index</th>\n",
              "      <th>population_density</th>\n",
              "      <th>mask_rule_active</th>\n",
              "      <th>mask_wearing_percent</th>\n",
              "      <th>New cases</th>\n",
              "      <th>rolling_avg_new_cases</th>\n",
              "    </tr>\n",
              "  </thead>\n",
              "  <tbody>\n",
              "    <tr>\n",
              "      <th>1078</th>\n",
              "      <td>2020-03-01</td>\n",
              "      <td>48015</td>\n",
              "      <td>Austin County</td>\n",
              "      <td>15.0</td>\n",
              "      <td>10.0</td>\n",
              "      <td>0.0</td>\n",
              "      <td>0.0</td>\n",
              "      <td>4.0</td>\n",
              "      <td>0.0</td>\n",
              "      <td>45.92</td>\n",
              "      <td>14.176</td>\n",
              "      <td>60</td>\n",
              "      <td>46.452491</td>\n",
              "      <td>0</td>\n",
              "      <td>0.0</td>\n",
              "      <td>0</td>\n",
              "      <td>0.0</td>\n",
              "    </tr>\n",
              "    <tr>\n",
              "      <th>1079</th>\n",
              "      <td>2020-03-02</td>\n",
              "      <td>48015</td>\n",
              "      <td>Austin County</td>\n",
              "      <td>11.0</td>\n",
              "      <td>-2.0</td>\n",
              "      <td>0.0</td>\n",
              "      <td>0.0</td>\n",
              "      <td>6.0</td>\n",
              "      <td>-2.0</td>\n",
              "      <td>11.06</td>\n",
              "      <td>23.325</td>\n",
              "      <td>100</td>\n",
              "      <td>46.452491</td>\n",
              "      <td>0</td>\n",
              "      <td>0.0</td>\n",
              "      <td>0</td>\n",
              "      <td>0.0</td>\n",
              "    </tr>\n",
              "    <tr>\n",
              "      <th>1080</th>\n",
              "      <td>2020-03-03</td>\n",
              "      <td>48015</td>\n",
              "      <td>Austin County</td>\n",
              "      <td>10.0</td>\n",
              "      <td>2.0</td>\n",
              "      <td>0.0</td>\n",
              "      <td>0.0</td>\n",
              "      <td>6.0</td>\n",
              "      <td>-2.0</td>\n",
              "      <td>11.56</td>\n",
              "      <td>19.812</td>\n",
              "      <td>84</td>\n",
              "      <td>46.452491</td>\n",
              "      <td>0</td>\n",
              "      <td>0.0</td>\n",
              "      <td>0</td>\n",
              "      <td>0.0</td>\n",
              "    </tr>\n",
              "    <tr>\n",
              "      <th>1081</th>\n",
              "      <td>2020-03-04</td>\n",
              "      <td>48015</td>\n",
              "      <td>Austin County</td>\n",
              "      <td>12.0</td>\n",
              "      <td>-6.0</td>\n",
              "      <td>0.0</td>\n",
              "      <td>0.0</td>\n",
              "      <td>1.0</td>\n",
              "      <td>0.0</td>\n",
              "      <td>15.45</td>\n",
              "      <td>21.654</td>\n",
              "      <td>92</td>\n",
              "      <td>46.452491</td>\n",
              "      <td>0</td>\n",
              "      <td>0.0</td>\n",
              "      <td>0</td>\n",
              "      <td>0.0</td>\n",
              "    </tr>\n",
              "    <tr>\n",
              "      <th>1082</th>\n",
              "      <td>2020-03-05</td>\n",
              "      <td>48015</td>\n",
              "      <td>Austin County</td>\n",
              "      <td>17.0</td>\n",
              "      <td>6.0</td>\n",
              "      <td>0.0</td>\n",
              "      <td>0.0</td>\n",
              "      <td>1.0</td>\n",
              "      <td>-2.0</td>\n",
              "      <td>61.23</td>\n",
              "      <td>24.770</td>\n",
              "      <td>106</td>\n",
              "      <td>46.452491</td>\n",
              "      <td>0</td>\n",
              "      <td>0.0</td>\n",
              "      <td>0</td>\n",
              "      <td>0.0</td>\n",
              "    </tr>\n",
              "  </tbody>\n",
              "</table>\n",
              "</div>"
            ],
            "text/plain": [
              "            Date  fips_x  ... New cases  rolling_avg_new_cases\n",
              "1078  2020-03-01   48015  ...         0                    0.0\n",
              "1079  2020-03-02   48015  ...         0                    0.0\n",
              "1080  2020-03-03   48015  ...         0                    0.0\n",
              "1081  2020-03-04   48015  ...         0                    0.0\n",
              "1082  2020-03-05   48015  ...         0                    0.0\n",
              "\n",
              "[5 rows x 17 columns]"
            ]
          },
          "metadata": {
            "tags": []
          },
          "execution_count": 16
        }
      ]
    },
    {
      "cell_type": "code",
      "metadata": {
        "id": "L-Ok7E318JmI",
        "colab_type": "code",
        "colab": {
          "base_uri": "https://localhost:8080/",
          "height": 299
        },
        "outputId": "096282c4-ff1f-4723-9b0b-d7731aac6e30"
      },
      "source": [
        "fig,ax = plt.subplots()\n",
        "# make a plot\n",
        "ax.plot(austin_county.Date, austin_county['rolling_avg_new_cases'], color=\"blue\")\n",
        "# set x-axis label\n",
        "ax.set_xlabel(\"Date\",fontsize=14)\n",
        "# set y-axis label\n",
        "ax.set_ylabel(\"rolling_avg_new_cases\",color=\"blue\",fontsize=14)\n",
        "ax2=ax.twinx()\n",
        "# make a plot with different y-axis using second axis object\n",
        "ax2.plot(austin_county.Date, austin_county[\"New cases\"],color=\"red\")\n",
        "ax2.set_ylabel(\"New cases\",color=\"blue\",fontsize=14)\n",
        "plt.title(\"'rolling_avg_new_cases' Vs New cases\")\n",
        "\n",
        "plt.show()"
      ],
      "execution_count": null,
      "outputs": [
        {
          "output_type": "display_data",
          "data": {
            "image/png": "[encoded data removed]",
            "text/plain": [
              "<Figure size 432x288 with 2 Axes>"
            ]
          },
          "metadata": {
            "tags": [],
            "needs_background": "light"
          }
        }
      ]
    },
    {
      "cell_type": "markdown",
      "metadata": {
        "id": "hRCXYhoC8mBl",
        "colab_type": "text"
      },
      "source": [
        "## verifying Rolling average with visualizations - Dallas County"
      ]
    },
    {
      "cell_type": "code",
      "metadata": {
        "id": "vd9Ujtzc8lay",
        "colab_type": "code",
        "colab": {}
      },
      "source": [
        "dallas_county = TX_combined_data[TX_combined_data['County Name'] == 'Dallas County']"
      ],
      "execution_count": null,
      "outputs": []
    },
    {
      "cell_type": "code",
      "metadata": {
        "id": "brRVW1Pv8xRu",
        "colab_type": "code",
        "colab": {
          "base_uri": "https://localhost:8080/",
          "height": 299
        },
        "outputId": "d28a9040-7123-47ad-94c6-fd228194ddc1"
      },
      "source": [
        "fig,ax = plt.subplots()\n",
        "# make a plot\n",
        "ax.plot(dallas_county.Date, dallas_county['rolling_avg_new_cases'], color=\"blue\")\n",
        "# set x-axis label\n",
        "ax.set_xlabel(\"Date\",fontsize=14)\n",
        "# set y-axis label\n",
        "ax.set_ylabel(\"rolling_avg_new_cases\",color=\"blue\",fontsize=14)\n",
        "ax2=ax.twinx()\n",
        "# make a plot with different y-axis using second axis object\n",
        "ax2.plot(dallas_county.Date, dallas_county[\"New cases\"],color=\"red\")\n",
        "ax2.set_ylabel(\"New cases\",color=\"blue\",fontsize=14)\n",
        "plt.title(\"'rolling_avg_new_cases' Vs New cases\")\n",
        "\n",
        "plt.show()"
      ],
      "execution_count": null,
      "outputs": [
        {
          "output_type": "display_data",
          "data": {
            "image/png": "[encoded data removed]",
            "text/plain": [
              "<Figure size 432x288 with 2 Axes>"
            ]
          },
          "metadata": {
            "tags": [],
            "needs_background": "light"
          }
        }
      ]
    },
    {
      "cell_type": "markdown",
      "metadata": {
        "id": "0eWE165G85lP",
        "colab_type": "text"
      },
      "source": [
        "## Rolling window to compare every 2 weeks with next 2 weeks"
      ]
    },
    {
      "cell_type": "code",
      "metadata": {
        "id": "ZUCtAdJe83mZ",
        "colab_type": "code",
        "colab": {
          "base_uri": "https://localhost:8080/",
          "height": 343
        },
        "outputId": "206a4004-9633-4a03-9eb6-49015c7edf54"
      },
      "source": [
        "TX_combined_data = TX_combined_data.sort_values(by=['Date'])\n",
        "TX_combined_data.head()"
      ],
      "execution_count": null,
      "outputs": [
        {
          "output_type": "execute_result",
          "data": {
            "text/html": [
              "<div>\n",
              "<style scoped>\n",
              "    .dataframe tbody tr th:only-of-type {\n",
              "        vertical-align: middle;\n",
              "    }\n",
              "\n",
              "    .dataframe tbody tr th {\n",
              "        vertical-align: top;\n",
              "    }\n",
              "\n",
              "    .dataframe thead th {\n",
              "        text-align: right;\n",
              "    }\n",
              "</style>\n",
              "<table border=\"1\" class=\"dataframe\">\n",
              "  <thead>\n",
              "    <tr style=\"text-align: right;\">\n",
              "      <th></th>\n",
              "      <th>Date</th>\n",
              "      <th>fips_x</th>\n",
              "      <th>County Name</th>\n",
              "      <th>retail and recreation</th>\n",
              "      <th>grocery and pharmacy</th>\n",
              "      <th>parks</th>\n",
              "      <th>transit stations</th>\n",
              "      <th>workplaces</th>\n",
              "      <th>residential</th>\n",
              "      <th>driving</th>\n",
              "      <th>m50</th>\n",
              "      <th>m50_index</th>\n",
              "      <th>population_density</th>\n",
              "      <th>mask_rule_active</th>\n",
              "      <th>mask_wearing_percent</th>\n",
              "      <th>New cases</th>\n",
              "      <th>rolling_avg_new_cases</th>\n",
              "    </tr>\n",
              "  </thead>\n",
              "  <tbody>\n",
              "    <tr>\n",
              "      <th>0</th>\n",
              "      <td>2020-03-01</td>\n",
              "      <td>48001</td>\n",
              "      <td>Anderson County</td>\n",
              "      <td>16.0</td>\n",
              "      <td>15.0</td>\n",
              "      <td>0.0</td>\n",
              "      <td>0.0</td>\n",
              "      <td>3.0</td>\n",
              "      <td>0.0</td>\n",
              "      <td>27.49</td>\n",
              "      <td>8.910</td>\n",
              "      <td>79</td>\n",
              "      <td>54.333710</td>\n",
              "      <td>0</td>\n",
              "      <td>0.0</td>\n",
              "      <td>0</td>\n",
              "      <td>0.0</td>\n",
              "    </tr>\n",
              "    <tr>\n",
              "      <th>15118</th>\n",
              "      <td>2020-03-01</td>\n",
              "      <td>48215</td>\n",
              "      <td>Hidalgo County</td>\n",
              "      <td>20.0</td>\n",
              "      <td>7.0</td>\n",
              "      <td>14.0</td>\n",
              "      <td>12.0</td>\n",
              "      <td>0.0</td>\n",
              "      <td>-3.0</td>\n",
              "      <td>-2.07</td>\n",
              "      <td>6.021</td>\n",
              "      <td>81</td>\n",
              "      <td>553.010115</td>\n",
              "      <td>0</td>\n",
              "      <td>0.0</td>\n",
              "      <td>0</td>\n",
              "      <td>0.0</td>\n",
              "    </tr>\n",
              "    <tr>\n",
              "      <th>26462</th>\n",
              "      <td>2020-03-01</td>\n",
              "      <td>48373</td>\n",
              "      <td>Polk County</td>\n",
              "      <td>25.0</td>\n",
              "      <td>19.0</td>\n",
              "      <td>0.0</td>\n",
              "      <td>0.0</td>\n",
              "      <td>3.0</td>\n",
              "      <td>0.0</td>\n",
              "      <td>23.02</td>\n",
              "      <td>10.595</td>\n",
              "      <td>84</td>\n",
              "      <td>48.579591</td>\n",
              "      <td>0</td>\n",
              "      <td>0.0</td>\n",
              "      <td>0</td>\n",
              "      <td>0.0</td>\n",
              "    </tr>\n",
              "    <tr>\n",
              "      <th>15307</th>\n",
              "      <td>2020-03-01</td>\n",
              "      <td>48217</td>\n",
              "      <td>Hill County</td>\n",
              "      <td>22.0</td>\n",
              "      <td>11.0</td>\n",
              "      <td>0.0</td>\n",
              "      <td>13.0</td>\n",
              "      <td>3.0</td>\n",
              "      <td>0.0</td>\n",
              "      <td>72.23</td>\n",
              "      <td>14.110</td>\n",
              "      <td>62</td>\n",
              "      <td>38.221430</td>\n",
              "      <td>0</td>\n",
              "      <td>0.0</td>\n",
              "      <td>0</td>\n",
              "      <td>0.0</td>\n",
              "    </tr>\n",
              "    <tr>\n",
              "      <th>15496</th>\n",
              "      <td>2020-03-01</td>\n",
              "      <td>48219</td>\n",
              "      <td>Hockley County</td>\n",
              "      <td>15.0</td>\n",
              "      <td>14.0</td>\n",
              "      <td>0.0</td>\n",
              "      <td>0.0</td>\n",
              "      <td>3.0</td>\n",
              "      <td>0.0</td>\n",
              "      <td>-33.99</td>\n",
              "      <td>3.309</td>\n",
              "      <td>45</td>\n",
              "      <td>25.342639</td>\n",
              "      <td>0</td>\n",
              "      <td>0.0</td>\n",
              "      <td>0</td>\n",
              "      <td>0.0</td>\n",
              "    </tr>\n",
              "  </tbody>\n",
              "</table>\n",
              "</div>"
            ],
            "text/plain": [
              "             Date  fips_x  ... New cases  rolling_avg_new_cases\n",
              "0      2020-03-01   48001  ...         0                    0.0\n",
              "15118  2020-03-01   48215  ...         0                    0.0\n",
              "26462  2020-03-01   48373  ...         0                    0.0\n",
              "15307  2020-03-01   48217  ...         0                    0.0\n",
              "15496  2020-03-01   48219  ...         0                    0.0\n",
              "\n",
              "[5 rows x 17 columns]"
            ]
          },
          "metadata": {
            "tags": []
          },
          "execution_count": 21
        }
      ]
    },
    {
      "cell_type": "code",
      "metadata": {
        "id": "Z2Ikjb_a8_TL",
        "colab_type": "code",
        "colab": {
          "base_uri": "https://localhost:8080/",
          "height": 643
        },
        "outputId": "6f67e6ff-8da9-453b-a2b9-4f9291c22a0b"
      },
      "source": [
        "TX_combined_data[TX_combined_data['fips_x'] == 48015]"
      ],
      "execution_count": null,
      "outputs": [
        {
          "output_type": "execute_result",
          "data": {
            "text/html": [
              "<div>\n",
              "<style scoped>\n",
              "    .dataframe tbody tr th:only-of-type {\n",
              "        vertical-align: middle;\n",
              "    }\n",
              "\n",
              "    .dataframe tbody tr th {\n",
              "        vertical-align: top;\n",
              "    }\n",
              "\n",
              "    .dataframe thead th {\n",
              "        text-align: right;\n",
              "    }\n",
              "</style>\n",
              "<table border=\"1\" class=\"dataframe\">\n",
              "  <thead>\n",
              "    <tr style=\"text-align: right;\">\n",
              "      <th></th>\n",
              "      <th>Date</th>\n",
              "      <th>fips_x</th>\n",
              "      <th>County Name</th>\n",
              "      <th>retail and recreation</th>\n",
              "      <th>grocery and pharmacy</th>\n",
              "      <th>parks</th>\n",
              "      <th>transit stations</th>\n",
              "      <th>workplaces</th>\n",
              "      <th>residential</th>\n",
              "      <th>driving</th>\n",
              "      <th>m50</th>\n",
              "      <th>m50_index</th>\n",
              "      <th>population_density</th>\n",
              "      <th>mask_rule_active</th>\n",
              "      <th>mask_wearing_percent</th>\n",
              "      <th>New cases</th>\n",
              "      <th>rolling_avg_new_cases</th>\n",
              "    </tr>\n",
              "  </thead>\n",
              "  <tbody>\n",
              "    <tr>\n",
              "      <th>1078</th>\n",
              "      <td>2020-03-01</td>\n",
              "      <td>48015</td>\n",
              "      <td>Austin County</td>\n",
              "      <td>15.0</td>\n",
              "      <td>10.0</td>\n",
              "      <td>0.0</td>\n",
              "      <td>0.0</td>\n",
              "      <td>4.0</td>\n",
              "      <td>0.0</td>\n",
              "      <td>45.92</td>\n",
              "      <td>14.176</td>\n",
              "      <td>60</td>\n",
              "      <td>46.452491</td>\n",
              "      <td>0</td>\n",
              "      <td>0.000</td>\n",
              "      <td>0</td>\n",
              "      <td>0.000000</td>\n",
              "    </tr>\n",
              "    <tr>\n",
              "      <th>1078</th>\n",
              "      <td>2020-03-01</td>\n",
              "      <td>48015</td>\n",
              "      <td>Austin County</td>\n",
              "      <td>15.0</td>\n",
              "      <td>10.0</td>\n",
              "      <td>0.0</td>\n",
              "      <td>0.0</td>\n",
              "      <td>4.0</td>\n",
              "      <td>0.0</td>\n",
              "      <td>45.92</td>\n",
              "      <td>14.176</td>\n",
              "      <td>60</td>\n",
              "      <td>46.452491</td>\n",
              "      <td>0</td>\n",
              "      <td>0.000</td>\n",
              "      <td>0</td>\n",
              "      <td>0.000000</td>\n",
              "    </tr>\n",
              "    <tr>\n",
              "      <th>1079</th>\n",
              "      <td>2020-03-02</td>\n",
              "      <td>48015</td>\n",
              "      <td>Austin County</td>\n",
              "      <td>11.0</td>\n",
              "      <td>-2.0</td>\n",
              "      <td>0.0</td>\n",
              "      <td>0.0</td>\n",
              "      <td>6.0</td>\n",
              "      <td>-2.0</td>\n",
              "      <td>11.06</td>\n",
              "      <td>23.325</td>\n",
              "      <td>100</td>\n",
              "      <td>46.452491</td>\n",
              "      <td>0</td>\n",
              "      <td>0.000</td>\n",
              "      <td>0</td>\n",
              "      <td>0.000000</td>\n",
              "    </tr>\n",
              "    <tr>\n",
              "      <th>1079</th>\n",
              "      <td>2020-03-02</td>\n",
              "      <td>48015</td>\n",
              "      <td>Austin County</td>\n",
              "      <td>11.0</td>\n",
              "      <td>-2.0</td>\n",
              "      <td>0.0</td>\n",
              "      <td>0.0</td>\n",
              "      <td>6.0</td>\n",
              "      <td>-2.0</td>\n",
              "      <td>11.06</td>\n",
              "      <td>23.325</td>\n",
              "      <td>100</td>\n",
              "      <td>46.452491</td>\n",
              "      <td>0</td>\n",
              "      <td>0.000</td>\n",
              "      <td>0</td>\n",
              "      <td>0.000000</td>\n",
              "    </tr>\n",
              "    <tr>\n",
              "      <th>1080</th>\n",
              "      <td>2020-03-03</td>\n",
              "      <td>48015</td>\n",
              "      <td>Austin County</td>\n",
              "      <td>10.0</td>\n",
              "      <td>2.0</td>\n",
              "      <td>0.0</td>\n",
              "      <td>0.0</td>\n",
              "      <td>6.0</td>\n",
              "      <td>-2.0</td>\n",
              "      <td>11.56</td>\n",
              "      <td>19.812</td>\n",
              "      <td>84</td>\n",
              "      <td>46.452491</td>\n",
              "      <td>0</td>\n",
              "      <td>0.000</td>\n",
              "      <td>0</td>\n",
              "      <td>0.000000</td>\n",
              "    </tr>\n",
              "    <tr>\n",
              "      <th>...</th>\n",
              "      <td>...</td>\n",
              "      <td>...</td>\n",
              "      <td>...</td>\n",
              "      <td>...</td>\n",
              "      <td>...</td>\n",
              "      <td>...</td>\n",
              "      <td>...</td>\n",
              "      <td>...</td>\n",
              "      <td>...</td>\n",
              "      <td>...</td>\n",
              "      <td>...</td>\n",
              "      <td>...</td>\n",
              "      <td>...</td>\n",
              "      <td>...</td>\n",
              "      <td>...</td>\n",
              "      <td>...</td>\n",
              "      <td>...</td>\n",
              "    </tr>\n",
              "    <tr>\n",
              "      <th>1264</th>\n",
              "      <td>2020-09-05</td>\n",
              "      <td>48015</td>\n",
              "      <td>Austin County</td>\n",
              "      <td>-2.0</td>\n",
              "      <td>10.0</td>\n",
              "      <td>0.0</td>\n",
              "      <td>0.0</td>\n",
              "      <td>-21.0</td>\n",
              "      <td>0.0</td>\n",
              "      <td>114.36</td>\n",
              "      <td>12.179</td>\n",
              "      <td>52</td>\n",
              "      <td>46.452491</td>\n",
              "      <td>1</td>\n",
              "      <td>0.692</td>\n",
              "      <td>6</td>\n",
              "      <td>3.857143</td>\n",
              "    </tr>\n",
              "    <tr>\n",
              "      <th>1265</th>\n",
              "      <td>2020-09-06</td>\n",
              "      <td>48015</td>\n",
              "      <td>Austin County</td>\n",
              "      <td>-10.0</td>\n",
              "      <td>0.0</td>\n",
              "      <td>0.0</td>\n",
              "      <td>0.0</td>\n",
              "      <td>-14.0</td>\n",
              "      <td>0.0</td>\n",
              "      <td>78.82</td>\n",
              "      <td>8.466</td>\n",
              "      <td>36</td>\n",
              "      <td>46.452491</td>\n",
              "      <td>1</td>\n",
              "      <td>0.692</td>\n",
              "      <td>1</td>\n",
              "      <td>3.428571</td>\n",
              "    </tr>\n",
              "    <tr>\n",
              "      <th>1265</th>\n",
              "      <td>2020-09-06</td>\n",
              "      <td>48015</td>\n",
              "      <td>Austin County</td>\n",
              "      <td>-10.0</td>\n",
              "      <td>0.0</td>\n",
              "      <td>0.0</td>\n",
              "      <td>0.0</td>\n",
              "      <td>-14.0</td>\n",
              "      <td>0.0</td>\n",
              "      <td>78.82</td>\n",
              "      <td>8.466</td>\n",
              "      <td>36</td>\n",
              "      <td>46.452491</td>\n",
              "      <td>1</td>\n",
              "      <td>0.692</td>\n",
              "      <td>1</td>\n",
              "      <td>3.428571</td>\n",
              "    </tr>\n",
              "    <tr>\n",
              "      <th>1266</th>\n",
              "      <td>2020-09-07</td>\n",
              "      <td>48015</td>\n",
              "      <td>Austin County</td>\n",
              "      <td>0.0</td>\n",
              "      <td>0.0</td>\n",
              "      <td>0.0</td>\n",
              "      <td>0.0</td>\n",
              "      <td>0.0</td>\n",
              "      <td>0.0</td>\n",
              "      <td>165.66</td>\n",
              "      <td>10.781</td>\n",
              "      <td>46</td>\n",
              "      <td>46.452491</td>\n",
              "      <td>1</td>\n",
              "      <td>0.692</td>\n",
              "      <td>1</td>\n",
              "      <td>3.571429</td>\n",
              "    </tr>\n",
              "    <tr>\n",
              "      <th>1266</th>\n",
              "      <td>2020-09-07</td>\n",
              "      <td>48015</td>\n",
              "      <td>Austin County</td>\n",
              "      <td>0.0</td>\n",
              "      <td>0.0</td>\n",
              "      <td>0.0</td>\n",
              "      <td>0.0</td>\n",
              "      <td>0.0</td>\n",
              "      <td>0.0</td>\n",
              "      <td>165.66</td>\n",
              "      <td>10.781</td>\n",
              "      <td>46</td>\n",
              "      <td>46.452491</td>\n",
              "      <td>1</td>\n",
              "      <td>0.692</td>\n",
              "      <td>1</td>\n",
              "      <td>3.571429</td>\n",
              "    </tr>\n",
              "  </tbody>\n",
              "</table>\n",
              "<p>378 rows × 17 columns</p>\n",
              "</div>"
            ],
            "text/plain": [
              "            Date  fips_x  ... New cases  rolling_avg_new_cases\n",
              "1078  2020-03-01   48015  ...         0               0.000000\n",
              "1078  2020-03-01   48015  ...         0               0.000000\n",
              "1079  2020-03-02   48015  ...         0               0.000000\n",
              "1079  2020-03-02   48015  ...         0               0.000000\n",
              "1080  2020-03-03   48015  ...         0               0.000000\n",
              "...          ...     ...  ...       ...                    ...\n",
              "1264  2020-09-05   48015  ...         6               3.857143\n",
              "1265  2020-09-06   48015  ...         1               3.428571\n",
              "1265  2020-09-06   48015  ...         1               3.428571\n",
              "1266  2020-09-07   48015  ...         1               3.571429\n",
              "1266  2020-09-07   48015  ...         1               3.571429\n",
              "\n",
              "[378 rows x 17 columns]"
            ]
          },
          "metadata": {
            "tags": []
          },
          "execution_count": 22
        }
      ]
    },
    {
      "cell_type": "code",
      "metadata": {
        "id": "LFAUsmyj9OEE",
        "colab_type": "code",
        "colab": {
          "base_uri": "https://localhost:8080/",
          "height": 34
        },
        "outputId": "b61f6a8c-1dff-45e5-cc0b-ba434ed7c12e"
      },
      "source": [
        "minDate = TX_combined_data['Date'].min()\n",
        "print(minDate)\n",
        "\n",
        "dateList = TX_combined_data['Date'].unique()"
      ],
      "execution_count": null,
      "outputs": [
        {
          "output_type": "stream",
          "text": [
            "2020-03-01\n"
          ],
          "name": "stdout"
        }
      ]
    },
    {
      "cell_type": "code",
      "metadata": {
        "id": "fFsrNA6o9Tmo",
        "colab_type": "code",
        "colab": {
          "base_uri": "https://localhost:8080/",
          "height": 34
        },
        "outputId": "681a3f85-96b6-4c9c-b2fd-8700db539ac8"
      },
      "source": [
        "import datetime\n",
        "\n",
        "#dt_object = datetime.fromtimestamp(date)\n",
        "day_name= ['Monday', 'Tuesday', 'Wednesday', 'Thursday', 'Friday', 'Saturday','Sunday']\n",
        "\n",
        "day = datetime.datetime.strptime(minDate, '%Y-%m-%d').weekday()\n",
        "if day == 6:\n",
        "  day =0\n",
        "elif day < 6:\n",
        "  day += 1\n",
        "\n",
        "print(day)"
      ],
      "execution_count": null,
      "outputs": [
        {
          "output_type": "stream",
          "text": [
            "0\n"
          ],
          "name": "stdout"
        }
      ]
    },
    {
      "cell_type": "code",
      "metadata": {
        "id": "fDekVy9m9W-m",
        "colab_type": "code",
        "colab": {
          "base_uri": "https://localhost:8080/",
          "height": 255
        },
        "outputId": "1946a7af-f8c4-4959-f1fc-994f62ee4fb7"
      },
      "source": [
        "index = 0\n",
        "count = 0\n",
        "lst = []\n",
        "while index < len(dateList):\n",
        "  row = []\n",
        "  j = 14 - day;\n",
        "  # print(index,j)\n",
        "  # print(dateList[index:index+j])\n",
        "  weekRange = dateList[index:index+j]\n",
        "  #print(weekRange)\n",
        "  index = index+j \n",
        "  day = 0\n",
        "  count +=1\n",
        "  row.append(count)\n",
        "  row.append(weekRange.min())\n",
        "  row.append(weekRange.max())\n",
        "  print(row)\n",
        "  lst.append(row)"
      ],
      "execution_count": null,
      "outputs": [
        {
          "output_type": "stream",
          "text": [
            "[1, '2020-03-01', '2020-03-14']\n",
            "[2, '2020-03-15', '2020-03-28']\n",
            "[3, '2020-03-29', '2020-04-11']\n",
            "[4, '2020-04-12', '2020-04-26']\n",
            "[5, '2020-04-27', '2020-05-10']\n",
            "[6, '2020-05-11', '2020-05-24']\n",
            "[7, '2020-05-25', '2020-06-08']\n",
            "[8, '2020-06-09', '2020-06-22']\n",
            "[9, '2020-06-23', '2020-07-06']\n",
            "[10, '2020-07-07', '2020-07-20']\n",
            "[11, '2020-07-21', '2020-08-03']\n",
            "[12, '2020-08-04', '2020-08-17']\n",
            "[13, '2020-08-18', '2020-08-31']\n",
            "[14, '2020-09-01', '2020-09-07']\n"
          ],
          "name": "stdout"
        }
      ]
    },
    {
      "cell_type": "code",
      "metadata": {
        "id": "MPBdyTdy9a7q",
        "colab_type": "code",
        "colab": {
          "base_uri": "https://localhost:8080/",
          "height": 111
        },
        "outputId": "9dc73e29-0564-41a4-c2ba-887c72243268"
      },
      "source": [
        "week_df = pd.DataFrame(lst,index=None,columns=['WeekNumber','startDate','endDate'])\n",
        "week_df.head(2)"
      ],
      "execution_count": null,
      "outputs": [
        {
          "output_type": "execute_result",
          "data": {
            "text/html": [
              "<div>\n",
              "<style scoped>\n",
              "    .dataframe tbody tr th:only-of-type {\n",
              "        vertical-align: middle;\n",
              "    }\n",
              "\n",
              "    .dataframe tbody tr th {\n",
              "        vertical-align: top;\n",
              "    }\n",
              "\n",
              "    .dataframe thead th {\n",
              "        text-align: right;\n",
              "    }\n",
              "</style>\n",
              "<table border=\"1\" class=\"dataframe\">\n",
              "  <thead>\n",
              "    <tr style=\"text-align: right;\">\n",
              "      <th></th>\n",
              "      <th>WeekNumber</th>\n",
              "      <th>startDate</th>\n",
              "      <th>endDate</th>\n",
              "    </tr>\n",
              "  </thead>\n",
              "  <tbody>\n",
              "    <tr>\n",
              "      <th>0</th>\n",
              "      <td>1</td>\n",
              "      <td>2020-03-01</td>\n",
              "      <td>2020-03-14</td>\n",
              "    </tr>\n",
              "    <tr>\n",
              "      <th>1</th>\n",
              "      <td>2</td>\n",
              "      <td>2020-03-15</td>\n",
              "      <td>2020-03-28</td>\n",
              "    </tr>\n",
              "  </tbody>\n",
              "</table>\n",
              "</div>"
            ],
            "text/plain": [
              "   WeekNumber   startDate     endDate\n",
              "0           1  2020-03-01  2020-03-14\n",
              "1           2  2020-03-15  2020-03-28"
            ]
          },
          "metadata": {
            "tags": []
          },
          "execution_count": 26
        }
      ]
    },
    {
      "cell_type": "code",
      "metadata": {
        "id": "Nd19Tk1_9g7E",
        "colab_type": "code",
        "colab": {}
      },
      "source": [
        "average_newCases_df = pd.DataFrame(columns=['County Name',  'fips_x',  'average_per_week','startDate','endDate'])\n",
        "\n",
        "for index, row in week_df.iterrows():\n",
        "    startDate, endDate = row['startDate'], row['endDate']\n",
        "    df_index = (TX_combined_data['Date'] >= startDate) & (TX_combined_data['Date'] <= endDate)\n",
        "    df_weekData =  TX_combined_data.loc[df_index]\n",
        "    df_base = (\n",
        "      df_weekData\n",
        "      .pipe(lambda x: x.assign(gains_pctg=x[\"rolling_avg_new_cases\"]))\n",
        "      .groupby(['County Name','fips_x'])\n",
        "      .agg({\"gains_pctg\": \"mean\"})\n",
        "      .reset_index()\n",
        "      .rename(columns={\"gains_pctg\": \"average_per_week\"})\n",
        "    )\n",
        "    df_base['startDate'] = startDate\n",
        "    df_base['endDate'] = endDate\n",
        "  \n",
        "    #print(startDate,endDate,df_base['average_per_week'])\n",
        "    average_newCases_df = average_newCases_df.append(df_base)"
      ],
      "execution_count": null,
      "outputs": []
    },
    {
      "cell_type": "code",
      "metadata": {
        "id": "DUYJuDEY9oQy",
        "colab_type": "code",
        "colab": {
          "base_uri": "https://localhost:8080/",
          "height": 34
        },
        "outputId": "ec23bfcc-83f6-4bd0-805a-8ac621e60bec"
      },
      "source": [
        "average_newCases_df.shape"
      ],
      "execution_count": null,
      "outputs": [
        {
          "output_type": "execute_result",
          "data": {
            "text/plain": [
              "(2835, 5)"
            ]
          },
          "metadata": {
            "tags": []
          },
          "execution_count": 28
        }
      ]
    },
    {
      "cell_type": "code",
      "metadata": {
        "id": "TcRnvVAO9qTj",
        "colab_type": "code",
        "colab": {
          "base_uri": "https://localhost:8080/",
          "height": 483
        },
        "outputId": "5edb58e3-aa90-4664-f9fa-842f27bd9164"
      },
      "source": [
        "average_newCases_df[average_newCases_df['fips_x'] == 48015]"
      ],
      "execution_count": null,
      "outputs": [
        {
          "output_type": "execute_result",
          "data": {
            "text/html": [
              "<div>\n",
              "<style scoped>\n",
              "    .dataframe tbody tr th:only-of-type {\n",
              "        vertical-align: middle;\n",
              "    }\n",
              "\n",
              "    .dataframe tbody tr th {\n",
              "        vertical-align: top;\n",
              "    }\n",
              "\n",
              "    .dataframe thead th {\n",
              "        text-align: right;\n",
              "    }\n",
              "</style>\n",
              "<table border=\"1\" class=\"dataframe\">\n",
              "  <thead>\n",
              "    <tr style=\"text-align: right;\">\n",
              "      <th></th>\n",
              "      <th>County Name</th>\n",
              "      <th>fips_x</th>\n",
              "      <th>average_per_week</th>\n",
              "      <th>startDate</th>\n",
              "      <th>endDate</th>\n",
              "    </tr>\n",
              "  </thead>\n",
              "  <tbody>\n",
              "    <tr>\n",
              "      <th>6</th>\n",
              "      <td>Austin County</td>\n",
              "      <td>48015</td>\n",
              "      <td>0.000000</td>\n",
              "      <td>2020-03-01</td>\n",
              "      <td>2020-03-14</td>\n",
              "    </tr>\n",
              "    <tr>\n",
              "      <th>6</th>\n",
              "      <td>Austin County</td>\n",
              "      <td>48015</td>\n",
              "      <td>0.030612</td>\n",
              "      <td>2020-03-15</td>\n",
              "      <td>2020-03-28</td>\n",
              "    </tr>\n",
              "    <tr>\n",
              "      <th>6</th>\n",
              "      <td>Austin County</td>\n",
              "      <td>48015</td>\n",
              "      <td>0.438776</td>\n",
              "      <td>2020-03-29</td>\n",
              "      <td>2020-04-11</td>\n",
              "    </tr>\n",
              "    <tr>\n",
              "      <th>6</th>\n",
              "      <td>Austin County</td>\n",
              "      <td>48015</td>\n",
              "      <td>0.387755</td>\n",
              "      <td>2020-04-12</td>\n",
              "      <td>2020-04-26</td>\n",
              "    </tr>\n",
              "    <tr>\n",
              "      <th>6</th>\n",
              "      <td>Austin County</td>\n",
              "      <td>48015</td>\n",
              "      <td>0.142857</td>\n",
              "      <td>2020-04-27</td>\n",
              "      <td>2020-05-10</td>\n",
              "    </tr>\n",
              "    <tr>\n",
              "      <th>6</th>\n",
              "      <td>Austin County</td>\n",
              "      <td>48015</td>\n",
              "      <td>0.469388</td>\n",
              "      <td>2020-05-11</td>\n",
              "      <td>2020-05-24</td>\n",
              "    </tr>\n",
              "    <tr>\n",
              "      <th>6</th>\n",
              "      <td>Austin County</td>\n",
              "      <td>48015</td>\n",
              "      <td>0.540816</td>\n",
              "      <td>2020-05-25</td>\n",
              "      <td>2020-06-08</td>\n",
              "    </tr>\n",
              "    <tr>\n",
              "      <th>6</th>\n",
              "      <td>Austin County</td>\n",
              "      <td>48015</td>\n",
              "      <td>0.979592</td>\n",
              "      <td>2020-06-09</td>\n",
              "      <td>2020-06-22</td>\n",
              "    </tr>\n",
              "    <tr>\n",
              "      <th>6</th>\n",
              "      <td>Austin County</td>\n",
              "      <td>48015</td>\n",
              "      <td>2.591837</td>\n",
              "      <td>2020-06-23</td>\n",
              "      <td>2020-07-06</td>\n",
              "    </tr>\n",
              "    <tr>\n",
              "      <th>6</th>\n",
              "      <td>Austin County</td>\n",
              "      <td>48015</td>\n",
              "      <td>5.102041</td>\n",
              "      <td>2020-07-07</td>\n",
              "      <td>2020-07-20</td>\n",
              "    </tr>\n",
              "    <tr>\n",
              "      <th>6</th>\n",
              "      <td>Austin County</td>\n",
              "      <td>48015</td>\n",
              "      <td>4.346939</td>\n",
              "      <td>2020-07-21</td>\n",
              "      <td>2020-08-03</td>\n",
              "    </tr>\n",
              "    <tr>\n",
              "      <th>6</th>\n",
              "      <td>Austin County</td>\n",
              "      <td>48015</td>\n",
              "      <td>7.000000</td>\n",
              "      <td>2020-08-04</td>\n",
              "      <td>2020-08-17</td>\n",
              "    </tr>\n",
              "    <tr>\n",
              "      <th>6</th>\n",
              "      <td>Austin County</td>\n",
              "      <td>48015</td>\n",
              "      <td>7.030612</td>\n",
              "      <td>2020-08-18</td>\n",
              "      <td>2020-08-31</td>\n",
              "    </tr>\n",
              "    <tr>\n",
              "      <th>6</th>\n",
              "      <td>Austin County</td>\n",
              "      <td>48015</td>\n",
              "      <td>3.367347</td>\n",
              "      <td>2020-09-01</td>\n",
              "      <td>2020-09-07</td>\n",
              "    </tr>\n",
              "  </tbody>\n",
              "</table>\n",
              "</div>"
            ],
            "text/plain": [
              "     County Name fips_x  average_per_week   startDate     endDate\n",
              "6  Austin County  48015          0.000000  2020-03-01  2020-03-14\n",
              "6  Austin County  48015          0.030612  2020-03-15  2020-03-28\n",
              "6  Austin County  48015          0.438776  2020-03-29  2020-04-11\n",
              "6  Austin County  48015          0.387755  2020-04-12  2020-04-26\n",
              "6  Austin County  48015          0.142857  2020-04-27  2020-05-10\n",
              "6  Austin County  48015          0.469388  2020-05-11  2020-05-24\n",
              "6  Austin County  48015          0.540816  2020-05-25  2020-06-08\n",
              "6  Austin County  48015          0.979592  2020-06-09  2020-06-22\n",
              "6  Austin County  48015          2.591837  2020-06-23  2020-07-06\n",
              "6  Austin County  48015          5.102041  2020-07-07  2020-07-20\n",
              "6  Austin County  48015          4.346939  2020-07-21  2020-08-03\n",
              "6  Austin County  48015          7.000000  2020-08-04  2020-08-17\n",
              "6  Austin County  48015          7.030612  2020-08-18  2020-08-31\n",
              "6  Austin County  48015          3.367347  2020-09-01  2020-09-07"
            ]
          },
          "metadata": {
            "tags": []
          },
          "execution_count": 29
        }
      ]
    },
    {
      "cell_type": "markdown",
      "metadata": {
        "id": "EPx2LQFj98dm",
        "colab_type": "text"
      },
      "source": [
        "## Verifying average per week data Eg., Los Angeles County"
      ]
    },
    {
      "cell_type": "code",
      "metadata": {
        "id": "kKGzkbcP9vq5",
        "colab_type": "code",
        "colab": {
          "base_uri": "https://localhost:8080/",
          "height": 510
        },
        "outputId": "cbe32d62-9752-4cbf-d564-8945e82cf26c"
      },
      "source": [
        "austin_county[(austin_county['Date'] >= '2020-03-01') & (austin_county['Date'] <= '2020-03-14') ]['rolling_avg_new_cases']"
      ],
      "execution_count": null,
      "outputs": [
        {
          "output_type": "execute_result",
          "data": {
            "text/plain": [
              "1078    0.0\n",
              "1079    0.0\n",
              "1080    0.0\n",
              "1081    0.0\n",
              "1082    0.0\n",
              "1083    0.0\n",
              "1084    0.0\n",
              "1085    0.0\n",
              "1086    0.0\n",
              "1087    0.0\n",
              "1088    0.0\n",
              "1089    0.0\n",
              "1090    0.0\n",
              "1091    0.0\n",
              "1078    0.0\n",
              "1079    0.0\n",
              "1080    0.0\n",
              "1081    0.0\n",
              "1082    0.0\n",
              "1083    0.0\n",
              "1084    0.0\n",
              "1085    0.0\n",
              "1086    0.0\n",
              "1087    0.0\n",
              "1088    0.0\n",
              "1089    0.0\n",
              "1090    0.0\n",
              "1091    0.0\n",
              "Name: rolling_avg_new_cases, dtype: float64"
            ]
          },
          "metadata": {
            "tags": []
          },
          "execution_count": 30
        }
      ]
    },
    {
      "cell_type": "code",
      "metadata": {
        "id": "qp0qyD_r90qv",
        "colab_type": "code",
        "colab": {
          "base_uri": "https://localhost:8080/",
          "height": 359
        },
        "outputId": "56e71461-b4ef-40e7-9e36-3b3fa4fe2e09"
      },
      "source": [
        "average_newCases_df.head(10)"
      ],
      "execution_count": null,
      "outputs": [
        {
          "output_type": "execute_result",
          "data": {
            "text/html": [
              "<div>\n",
              "<style scoped>\n",
              "    .dataframe tbody tr th:only-of-type {\n",
              "        vertical-align: middle;\n",
              "    }\n",
              "\n",
              "    .dataframe tbody tr th {\n",
              "        vertical-align: top;\n",
              "    }\n",
              "\n",
              "    .dataframe thead th {\n",
              "        text-align: right;\n",
              "    }\n",
              "</style>\n",
              "<table border=\"1\" class=\"dataframe\">\n",
              "  <thead>\n",
              "    <tr style=\"text-align: right;\">\n",
              "      <th></th>\n",
              "      <th>County Name</th>\n",
              "      <th>fips_x</th>\n",
              "      <th>average_per_week</th>\n",
              "      <th>startDate</th>\n",
              "      <th>endDate</th>\n",
              "    </tr>\n",
              "  </thead>\n",
              "  <tbody>\n",
              "    <tr>\n",
              "      <th>0</th>\n",
              "      <td>Anderson County</td>\n",
              "      <td>48001</td>\n",
              "      <td>0.0</td>\n",
              "      <td>2020-03-01</td>\n",
              "      <td>2020-03-14</td>\n",
              "    </tr>\n",
              "    <tr>\n",
              "      <th>1</th>\n",
              "      <td>Andrews County</td>\n",
              "      <td>48003</td>\n",
              "      <td>0.0</td>\n",
              "      <td>2020-03-01</td>\n",
              "      <td>2020-03-14</td>\n",
              "    </tr>\n",
              "    <tr>\n",
              "      <th>2</th>\n",
              "      <td>Angelina County</td>\n",
              "      <td>48005</td>\n",
              "      <td>0.0</td>\n",
              "      <td>2020-03-01</td>\n",
              "      <td>2020-03-14</td>\n",
              "    </tr>\n",
              "    <tr>\n",
              "      <th>3</th>\n",
              "      <td>Aransas County</td>\n",
              "      <td>48007</td>\n",
              "      <td>0.0</td>\n",
              "      <td>2020-03-01</td>\n",
              "      <td>2020-03-14</td>\n",
              "    </tr>\n",
              "    <tr>\n",
              "      <th>4</th>\n",
              "      <td>Archer County</td>\n",
              "      <td>48009</td>\n",
              "      <td>0.0</td>\n",
              "      <td>2020-03-01</td>\n",
              "      <td>2020-03-14</td>\n",
              "    </tr>\n",
              "    <tr>\n",
              "      <th>5</th>\n",
              "      <td>Atascosa County</td>\n",
              "      <td>48013</td>\n",
              "      <td>0.0</td>\n",
              "      <td>2020-03-01</td>\n",
              "      <td>2020-03-14</td>\n",
              "    </tr>\n",
              "    <tr>\n",
              "      <th>6</th>\n",
              "      <td>Austin County</td>\n",
              "      <td>48015</td>\n",
              "      <td>0.0</td>\n",
              "      <td>2020-03-01</td>\n",
              "      <td>2020-03-14</td>\n",
              "    </tr>\n",
              "    <tr>\n",
              "      <th>7</th>\n",
              "      <td>Bailey County</td>\n",
              "      <td>48017</td>\n",
              "      <td>0.0</td>\n",
              "      <td>2020-03-01</td>\n",
              "      <td>2020-03-14</td>\n",
              "    </tr>\n",
              "    <tr>\n",
              "      <th>8</th>\n",
              "      <td>Bandera County</td>\n",
              "      <td>48019</td>\n",
              "      <td>0.0</td>\n",
              "      <td>2020-03-01</td>\n",
              "      <td>2020-03-14</td>\n",
              "    </tr>\n",
              "    <tr>\n",
              "      <th>9</th>\n",
              "      <td>Bastrop County</td>\n",
              "      <td>48021</td>\n",
              "      <td>0.0</td>\n",
              "      <td>2020-03-01</td>\n",
              "      <td>2020-03-14</td>\n",
              "    </tr>\n",
              "  </tbody>\n",
              "</table>\n",
              "</div>"
            ],
            "text/plain": [
              "       County Name fips_x  average_per_week   startDate     endDate\n",
              "0  Anderson County  48001               0.0  2020-03-01  2020-03-14\n",
              "1   Andrews County  48003               0.0  2020-03-01  2020-03-14\n",
              "2  Angelina County  48005               0.0  2020-03-01  2020-03-14\n",
              "3   Aransas County  48007               0.0  2020-03-01  2020-03-14\n",
              "4    Archer County  48009               0.0  2020-03-01  2020-03-14\n",
              "5  Atascosa County  48013               0.0  2020-03-01  2020-03-14\n",
              "6    Austin County  48015               0.0  2020-03-01  2020-03-14\n",
              "7    Bailey County  48017               0.0  2020-03-01  2020-03-14\n",
              "8   Bandera County  48019               0.0  2020-03-01  2020-03-14\n",
              "9   Bastrop County  48021               0.0  2020-03-01  2020-03-14"
            ]
          },
          "metadata": {
            "tags": []
          },
          "execution_count": 31
        }
      ]
    },
    {
      "cell_type": "markdown",
      "metadata": {
        "id": "XgG39VHs9-Io",
        "colab_type": "text"
      },
      "source": [
        "## Finding the % growth or reduction in 'new cases' on every 2 week average"
      ]
    },
    {
      "cell_type": "code",
      "metadata": {
        "id": "ySSiBo9Z-AyX",
        "colab_type": "code",
        "colab": {}
      },
      "source": [
        "average_newCases_df_ = average_newCases_df.copy()"
      ],
      "execution_count": null,
      "outputs": []
    },
    {
      "cell_type": "code",
      "metadata": {
        "id": "0Gopnbiy-DxS",
        "colab_type": "code",
        "colab": {
          "base_uri": "https://localhost:8080/",
          "height": 483
        },
        "outputId": "b808d7d5-1b53-4877-8303-6dd7e7afdcaf"
      },
      "source": [
        "albany_avg_newCases = average_newCases_df[average_newCases_df['County Name'] == 'Austin County']\n",
        "albany_avg_newCases"
      ],
      "execution_count": null,
      "outputs": [
        {
          "output_type": "execute_result",
          "data": {
            "text/html": [
              "<div>\n",
              "<style scoped>\n",
              "    .dataframe tbody tr th:only-of-type {\n",
              "        vertical-align: middle;\n",
              "    }\n",
              "\n",
              "    .dataframe tbody tr th {\n",
              "        vertical-align: top;\n",
              "    }\n",
              "\n",
              "    .dataframe thead th {\n",
              "        text-align: right;\n",
              "    }\n",
              "</style>\n",
              "<table border=\"1\" class=\"dataframe\">\n",
              "  <thead>\n",
              "    <tr style=\"text-align: right;\">\n",
              "      <th></th>\n",
              "      <th>County Name</th>\n",
              "      <th>fips_x</th>\n",
              "      <th>average_per_week</th>\n",
              "      <th>startDate</th>\n",
              "      <th>endDate</th>\n",
              "    </tr>\n",
              "  </thead>\n",
              "  <tbody>\n",
              "    <tr>\n",
              "      <th>6</th>\n",
              "      <td>Austin County</td>\n",
              "      <td>48015</td>\n",
              "      <td>0.000000</td>\n",
              "      <td>2020-03-01</td>\n",
              "      <td>2020-03-14</td>\n",
              "    </tr>\n",
              "    <tr>\n",
              "      <th>6</th>\n",
              "      <td>Austin County</td>\n",
              "      <td>48015</td>\n",
              "      <td>0.030612</td>\n",
              "      <td>2020-03-15</td>\n",
              "      <td>2020-03-28</td>\n",
              "    </tr>\n",
              "    <tr>\n",
              "      <th>6</th>\n",
              "      <td>Austin County</td>\n",
              "      <td>48015</td>\n",
              "      <td>0.438776</td>\n",
              "      <td>2020-03-29</td>\n",
              "      <td>2020-04-11</td>\n",
              "    </tr>\n",
              "    <tr>\n",
              "      <th>6</th>\n",
              "      <td>Austin County</td>\n",
              "      <td>48015</td>\n",
              "      <td>0.387755</td>\n",
              "      <td>2020-04-12</td>\n",
              "      <td>2020-04-26</td>\n",
              "    </tr>\n",
              "    <tr>\n",
              "      <th>6</th>\n",
              "      <td>Austin County</td>\n",
              "      <td>48015</td>\n",
              "      <td>0.142857</td>\n",
              "      <td>2020-04-27</td>\n",
              "      <td>2020-05-10</td>\n",
              "    </tr>\n",
              "    <tr>\n",
              "      <th>6</th>\n",
              "      <td>Austin County</td>\n",
              "      <td>48015</td>\n",
              "      <td>0.469388</td>\n",
              "      <td>2020-05-11</td>\n",
              "      <td>2020-05-24</td>\n",
              "    </tr>\n",
              "    <tr>\n",
              "      <th>6</th>\n",
              "      <td>Austin County</td>\n",
              "      <td>48015</td>\n",
              "      <td>0.540816</td>\n",
              "      <td>2020-05-25</td>\n",
              "      <td>2020-06-08</td>\n",
              "    </tr>\n",
              "    <tr>\n",
              "      <th>6</th>\n",
              "      <td>Austin County</td>\n",
              "      <td>48015</td>\n",
              "      <td>0.979592</td>\n",
              "      <td>2020-06-09</td>\n",
              "      <td>2020-06-22</td>\n",
              "    </tr>\n",
              "    <tr>\n",
              "      <th>6</th>\n",
              "      <td>Austin County</td>\n",
              "      <td>48015</td>\n",
              "      <td>2.591837</td>\n",
              "      <td>2020-06-23</td>\n",
              "      <td>2020-07-06</td>\n",
              "    </tr>\n",
              "    <tr>\n",
              "      <th>6</th>\n",
              "      <td>Austin County</td>\n",
              "      <td>48015</td>\n",
              "      <td>5.102041</td>\n",
              "      <td>2020-07-07</td>\n",
              "      <td>2020-07-20</td>\n",
              "    </tr>\n",
              "    <tr>\n",
              "      <th>6</th>\n",
              "      <td>Austin County</td>\n",
              "      <td>48015</td>\n",
              "      <td>4.346939</td>\n",
              "      <td>2020-07-21</td>\n",
              "      <td>2020-08-03</td>\n",
              "    </tr>\n",
              "    <tr>\n",
              "      <th>6</th>\n",
              "      <td>Austin County</td>\n",
              "      <td>48015</td>\n",
              "      <td>7.000000</td>\n",
              "      <td>2020-08-04</td>\n",
              "      <td>2020-08-17</td>\n",
              "    </tr>\n",
              "    <tr>\n",
              "      <th>6</th>\n",
              "      <td>Austin County</td>\n",
              "      <td>48015</td>\n",
              "      <td>7.030612</td>\n",
              "      <td>2020-08-18</td>\n",
              "      <td>2020-08-31</td>\n",
              "    </tr>\n",
              "    <tr>\n",
              "      <th>6</th>\n",
              "      <td>Austin County</td>\n",
              "      <td>48015</td>\n",
              "      <td>3.367347</td>\n",
              "      <td>2020-09-01</td>\n",
              "      <td>2020-09-07</td>\n",
              "    </tr>\n",
              "  </tbody>\n",
              "</table>\n",
              "</div>"
            ],
            "text/plain": [
              "     County Name fips_x  average_per_week   startDate     endDate\n",
              "6  Austin County  48015          0.000000  2020-03-01  2020-03-14\n",
              "6  Austin County  48015          0.030612  2020-03-15  2020-03-28\n",
              "6  Austin County  48015          0.438776  2020-03-29  2020-04-11\n",
              "6  Austin County  48015          0.387755  2020-04-12  2020-04-26\n",
              "6  Austin County  48015          0.142857  2020-04-27  2020-05-10\n",
              "6  Austin County  48015          0.469388  2020-05-11  2020-05-24\n",
              "6  Austin County  48015          0.540816  2020-05-25  2020-06-08\n",
              "6  Austin County  48015          0.979592  2020-06-09  2020-06-22\n",
              "6  Austin County  48015          2.591837  2020-06-23  2020-07-06\n",
              "6  Austin County  48015          5.102041  2020-07-07  2020-07-20\n",
              "6  Austin County  48015          4.346939  2020-07-21  2020-08-03\n",
              "6  Austin County  48015          7.000000  2020-08-04  2020-08-17\n",
              "6  Austin County  48015          7.030612  2020-08-18  2020-08-31\n",
              "6  Austin County  48015          3.367347  2020-09-01  2020-09-07"
            ]
          },
          "metadata": {
            "tags": []
          },
          "execution_count": 33
        }
      ]
    },
    {
      "cell_type": "code",
      "metadata": {
        "id": "mUoJKl0Z-IAq",
        "colab_type": "code",
        "colab": {
          "base_uri": "https://localhost:8080/",
          "height": 204
        },
        "outputId": "07e6cebb-e40a-4306-8b0a-66eecdbc99fe"
      },
      "source": [
        "average_newCases_df.head()"
      ],
      "execution_count": null,
      "outputs": [
        {
          "output_type": "execute_result",
          "data": {
            "text/html": [
              "<div>\n",
              "<style scoped>\n",
              "    .dataframe tbody tr th:only-of-type {\n",
              "        vertical-align: middle;\n",
              "    }\n",
              "\n",
              "    .dataframe tbody tr th {\n",
              "        vertical-align: top;\n",
              "    }\n",
              "\n",
              "    .dataframe thead th {\n",
              "        text-align: right;\n",
              "    }\n",
              "</style>\n",
              "<table border=\"1\" class=\"dataframe\">\n",
              "  <thead>\n",
              "    <tr style=\"text-align: right;\">\n",
              "      <th></th>\n",
              "      <th>County Name</th>\n",
              "      <th>fips_x</th>\n",
              "      <th>average_per_week</th>\n",
              "      <th>startDate</th>\n",
              "      <th>endDate</th>\n",
              "    </tr>\n",
              "  </thead>\n",
              "  <tbody>\n",
              "    <tr>\n",
              "      <th>0</th>\n",
              "      <td>Anderson County</td>\n",
              "      <td>48001</td>\n",
              "      <td>0.0</td>\n",
              "      <td>2020-03-01</td>\n",
              "      <td>2020-03-14</td>\n",
              "    </tr>\n",
              "    <tr>\n",
              "      <th>1</th>\n",
              "      <td>Andrews County</td>\n",
              "      <td>48003</td>\n",
              "      <td>0.0</td>\n",
              "      <td>2020-03-01</td>\n",
              "      <td>2020-03-14</td>\n",
              "    </tr>\n",
              "    <tr>\n",
              "      <th>2</th>\n",
              "      <td>Angelina County</td>\n",
              "      <td>48005</td>\n",
              "      <td>0.0</td>\n",
              "      <td>2020-03-01</td>\n",
              "      <td>2020-03-14</td>\n",
              "    </tr>\n",
              "    <tr>\n",
              "      <th>3</th>\n",
              "      <td>Aransas County</td>\n",
              "      <td>48007</td>\n",
              "      <td>0.0</td>\n",
              "      <td>2020-03-01</td>\n",
              "      <td>2020-03-14</td>\n",
              "    </tr>\n",
              "    <tr>\n",
              "      <th>4</th>\n",
              "      <td>Archer County</td>\n",
              "      <td>48009</td>\n",
              "      <td>0.0</td>\n",
              "      <td>2020-03-01</td>\n",
              "      <td>2020-03-14</td>\n",
              "    </tr>\n",
              "  </tbody>\n",
              "</table>\n",
              "</div>"
            ],
            "text/plain": [
              "       County Name fips_x  average_per_week   startDate     endDate\n",
              "0  Anderson County  48001               0.0  2020-03-01  2020-03-14\n",
              "1   Andrews County  48003               0.0  2020-03-01  2020-03-14\n",
              "2  Angelina County  48005               0.0  2020-03-01  2020-03-14\n",
              "3   Aransas County  48007               0.0  2020-03-01  2020-03-14\n",
              "4    Archer County  48009               0.0  2020-03-01  2020-03-14"
            ]
          },
          "metadata": {
            "tags": []
          },
          "execution_count": 34
        }
      ]
    },
    {
      "cell_type": "code",
      "metadata": {
        "id": "FqvijQu_-K7c",
        "colab_type": "code",
        "colab": {
          "base_uri": "https://localhost:8080/",
          "height": 204
        },
        "outputId": "4186e9e4-fb76-4504-b914-450931409cc0"
      },
      "source": [
        "average_newCases_df2 = average_newCases_df.copy()\n",
        "\n",
        "average_newCases_df2 = average_newCases_df2.reset_index(drop=True)\n",
        "average_newCases_df2.head()"
      ],
      "execution_count": null,
      "outputs": [
        {
          "output_type": "execute_result",
          "data": {
            "text/html": [
              "<div>\n",
              "<style scoped>\n",
              "    .dataframe tbody tr th:only-of-type {\n",
              "        vertical-align: middle;\n",
              "    }\n",
              "\n",
              "    .dataframe tbody tr th {\n",
              "        vertical-align: top;\n",
              "    }\n",
              "\n",
              "    .dataframe thead th {\n",
              "        text-align: right;\n",
              "    }\n",
              "</style>\n",
              "<table border=\"1\" class=\"dataframe\">\n",
              "  <thead>\n",
              "    <tr style=\"text-align: right;\">\n",
              "      <th></th>\n",
              "      <th>County Name</th>\n",
              "      <th>fips_x</th>\n",
              "      <th>average_per_week</th>\n",
              "      <th>startDate</th>\n",
              "      <th>endDate</th>\n",
              "    </tr>\n",
              "  </thead>\n",
              "  <tbody>\n",
              "    <tr>\n",
              "      <th>0</th>\n",
              "      <td>Anderson County</td>\n",
              "      <td>48001</td>\n",
              "      <td>0.0</td>\n",
              "      <td>2020-03-01</td>\n",
              "      <td>2020-03-14</td>\n",
              "    </tr>\n",
              "    <tr>\n",
              "      <th>1</th>\n",
              "      <td>Andrews County</td>\n",
              "      <td>48003</td>\n",
              "      <td>0.0</td>\n",
              "      <td>2020-03-01</td>\n",
              "      <td>2020-03-14</td>\n",
              "    </tr>\n",
              "    <tr>\n",
              "      <th>2</th>\n",
              "      <td>Angelina County</td>\n",
              "      <td>48005</td>\n",
              "      <td>0.0</td>\n",
              "      <td>2020-03-01</td>\n",
              "      <td>2020-03-14</td>\n",
              "    </tr>\n",
              "    <tr>\n",
              "      <th>3</th>\n",
              "      <td>Aransas County</td>\n",
              "      <td>48007</td>\n",
              "      <td>0.0</td>\n",
              "      <td>2020-03-01</td>\n",
              "      <td>2020-03-14</td>\n",
              "    </tr>\n",
              "    <tr>\n",
              "      <th>4</th>\n",
              "      <td>Archer County</td>\n",
              "      <td>48009</td>\n",
              "      <td>0.0</td>\n",
              "      <td>2020-03-01</td>\n",
              "      <td>2020-03-14</td>\n",
              "    </tr>\n",
              "  </tbody>\n",
              "</table>\n",
              "</div>"
            ],
            "text/plain": [
              "       County Name fips_x  average_per_week   startDate     endDate\n",
              "0  Anderson County  48001               0.0  2020-03-01  2020-03-14\n",
              "1   Andrews County  48003               0.0  2020-03-01  2020-03-14\n",
              "2  Angelina County  48005               0.0  2020-03-01  2020-03-14\n",
              "3   Aransas County  48007               0.0  2020-03-01  2020-03-14\n",
              "4    Archer County  48009               0.0  2020-03-01  2020-03-14"
            ]
          },
          "metadata": {
            "tags": []
          },
          "execution_count": 35
        }
      ]
    },
    {
      "cell_type": "code",
      "metadata": {
        "id": "q1r08aQZ-PDO",
        "colab_type": "code",
        "colab": {
          "base_uri": "https://localhost:8080/",
          "height": 221
        },
        "outputId": "34916ce8-e524-48ad-c457-e500bcf72645"
      },
      "source": [
        "average_newCases_df2['diff_avg_x'] = average_newCases_df2.sort_values(['startDate','endDate']).groupby(['County Name', 'fips_x'])['average_per_week'].diff().fillna(0)\n",
        "\n",
        "print(average_newCases_df2.shape)\n",
        "average_newCases_df2.head()"
      ],
      "execution_count": null,
      "outputs": [
        {
          "output_type": "stream",
          "text": [
            "(2835, 6)\n"
          ],
          "name": "stdout"
        },
        {
          "output_type": "execute_result",
          "data": {
            "text/html": [
              "<div>\n",
              "<style scoped>\n",
              "    .dataframe tbody tr th:only-of-type {\n",
              "        vertical-align: middle;\n",
              "    }\n",
              "\n",
              "    .dataframe tbody tr th {\n",
              "        vertical-align: top;\n",
              "    }\n",
              "\n",
              "    .dataframe thead th {\n",
              "        text-align: right;\n",
              "    }\n",
              "</style>\n",
              "<table border=\"1\" class=\"dataframe\">\n",
              "  <thead>\n",
              "    <tr style=\"text-align: right;\">\n",
              "      <th></th>\n",
              "      <th>County Name</th>\n",
              "      <th>fips_x</th>\n",
              "      <th>average_per_week</th>\n",
              "      <th>startDate</th>\n",
              "      <th>endDate</th>\n",
              "      <th>diff_avg_x</th>\n",
              "    </tr>\n",
              "  </thead>\n",
              "  <tbody>\n",
              "    <tr>\n",
              "      <th>0</th>\n",
              "      <td>Anderson County</td>\n",
              "      <td>48001</td>\n",
              "      <td>0.0</td>\n",
              "      <td>2020-03-01</td>\n",
              "      <td>2020-03-14</td>\n",
              "      <td>0.0</td>\n",
              "    </tr>\n",
              "    <tr>\n",
              "      <th>1</th>\n",
              "      <td>Andrews County</td>\n",
              "      <td>48003</td>\n",
              "      <td>0.0</td>\n",
              "      <td>2020-03-01</td>\n",
              "      <td>2020-03-14</td>\n",
              "      <td>0.0</td>\n",
              "    </tr>\n",
              "    <tr>\n",
              "      <th>2</th>\n",
              "      <td>Angelina County</td>\n",
              "      <td>48005</td>\n",
              "      <td>0.0</td>\n",
              "      <td>2020-03-01</td>\n",
              "      <td>2020-03-14</td>\n",
              "      <td>0.0</td>\n",
              "    </tr>\n",
              "    <tr>\n",
              "      <th>3</th>\n",
              "      <td>Aransas County</td>\n",
              "      <td>48007</td>\n",
              "      <td>0.0</td>\n",
              "      <td>2020-03-01</td>\n",
              "      <td>2020-03-14</td>\n",
              "      <td>0.0</td>\n",
              "    </tr>\n",
              "    <tr>\n",
              "      <th>4</th>\n",
              "      <td>Archer County</td>\n",
              "      <td>48009</td>\n",
              "      <td>0.0</td>\n",
              "      <td>2020-03-01</td>\n",
              "      <td>2020-03-14</td>\n",
              "      <td>0.0</td>\n",
              "    </tr>\n",
              "  </tbody>\n",
              "</table>\n",
              "</div>"
            ],
            "text/plain": [
              "       County Name fips_x  average_per_week   startDate     endDate  diff_avg_x\n",
              "0  Anderson County  48001               0.0  2020-03-01  2020-03-14         0.0\n",
              "1   Andrews County  48003               0.0  2020-03-01  2020-03-14         0.0\n",
              "2  Angelina County  48005               0.0  2020-03-01  2020-03-14         0.0\n",
              "3   Aransas County  48007               0.0  2020-03-01  2020-03-14         0.0\n",
              "4    Archer County  48009               0.0  2020-03-01  2020-03-14         0.0"
            ]
          },
          "metadata": {
            "tags": []
          },
          "execution_count": 36
        }
      ]
    },
    {
      "cell_type": "code",
      "metadata": {
        "id": "Ot9R2Sy3-SUt",
        "colab_type": "code",
        "colab": {
          "base_uri": "https://localhost:8080/",
          "height": 483
        },
        "outputId": "9935117d-6113-4ff0-e378-32ac0276d80f"
      },
      "source": [
        "average_newCases_df2[average_newCases_df2['County Name'] == 'Dallas County']"
      ],
      "execution_count": null,
      "outputs": [
        {
          "output_type": "execute_result",
          "data": {
            "text/html": [
              "<div>\n",
              "<style scoped>\n",
              "    .dataframe tbody tr th:only-of-type {\n",
              "        vertical-align: middle;\n",
              "    }\n",
              "\n",
              "    .dataframe tbody tr th {\n",
              "        vertical-align: top;\n",
              "    }\n",
              "\n",
              "    .dataframe thead th {\n",
              "        text-align: right;\n",
              "    }\n",
              "</style>\n",
              "<table border=\"1\" class=\"dataframe\">\n",
              "  <thead>\n",
              "    <tr style=\"text-align: right;\">\n",
              "      <th></th>\n",
              "      <th>County Name</th>\n",
              "      <th>fips_x</th>\n",
              "      <th>average_per_week</th>\n",
              "      <th>startDate</th>\n",
              "      <th>endDate</th>\n",
              "      <th>diff_avg_x</th>\n",
              "    </tr>\n",
              "  </thead>\n",
              "  <tbody>\n",
              "    <tr>\n",
              "      <th>46</th>\n",
              "      <td>Dallas County</td>\n",
              "      <td>48113</td>\n",
              "      <td>0.224490</td>\n",
              "      <td>2020-03-01</td>\n",
              "      <td>2020-03-14</td>\n",
              "      <td>0.000000</td>\n",
              "    </tr>\n",
              "    <tr>\n",
              "      <th>250</th>\n",
              "      <td>Dallas County</td>\n",
              "      <td>48113</td>\n",
              "      <td>18.255102</td>\n",
              "      <td>2020-03-15</td>\n",
              "      <td>2020-03-28</td>\n",
              "      <td>18.030612</td>\n",
              "    </tr>\n",
              "    <tr>\n",
              "      <th>452</th>\n",
              "      <td>Dallas County</td>\n",
              "      <td>48113</td>\n",
              "      <td>78.102041</td>\n",
              "      <td>2020-03-29</td>\n",
              "      <td>2020-04-11</td>\n",
              "      <td>59.846939</td>\n",
              "    </tr>\n",
              "    <tr>\n",
              "      <th>655</th>\n",
              "      <td>Dallas County</td>\n",
              "      <td>48113</td>\n",
              "      <td>94.530612</td>\n",
              "      <td>2020-04-12</td>\n",
              "      <td>2020-04-26</td>\n",
              "      <td>16.428571</td>\n",
              "    </tr>\n",
              "    <tr>\n",
              "      <th>858</th>\n",
              "      <td>Dallas County</td>\n",
              "      <td>48113</td>\n",
              "      <td>168.602041</td>\n",
              "      <td>2020-04-27</td>\n",
              "      <td>2020-05-10</td>\n",
              "      <td>74.071429</td>\n",
              "    </tr>\n",
              "    <tr>\n",
              "      <th>1061</th>\n",
              "      <td>Dallas County</td>\n",
              "      <td>48113</td>\n",
              "      <td>225.091837</td>\n",
              "      <td>2020-05-11</td>\n",
              "      <td>2020-05-24</td>\n",
              "      <td>56.489796</td>\n",
              "    </tr>\n",
              "    <tr>\n",
              "      <th>1264</th>\n",
              "      <td>Dallas County</td>\n",
              "      <td>48113</td>\n",
              "      <td>218.693878</td>\n",
              "      <td>2020-05-25</td>\n",
              "      <td>2020-06-08</td>\n",
              "      <td>-6.397959</td>\n",
              "    </tr>\n",
              "    <tr>\n",
              "      <th>1467</th>\n",
              "      <td>Dallas County</td>\n",
              "      <td>48113</td>\n",
              "      <td>322.846939</td>\n",
              "      <td>2020-06-09</td>\n",
              "      <td>2020-06-22</td>\n",
              "      <td>104.153061</td>\n",
              "    </tr>\n",
              "    <tr>\n",
              "      <th>1669</th>\n",
              "      <td>Dallas County</td>\n",
              "      <td>48113</td>\n",
              "      <td>559.051020</td>\n",
              "      <td>2020-06-23</td>\n",
              "      <td>2020-07-06</td>\n",
              "      <td>236.204082</td>\n",
              "    </tr>\n",
              "    <tr>\n",
              "      <th>1871</th>\n",
              "      <td>Dallas County</td>\n",
              "      <td>48113</td>\n",
              "      <td>1067.571429</td>\n",
              "      <td>2020-07-07</td>\n",
              "      <td>2020-07-20</td>\n",
              "      <td>508.520408</td>\n",
              "    </tr>\n",
              "    <tr>\n",
              "      <th>2073</th>\n",
              "      <td>Dallas County</td>\n",
              "      <td>48113</td>\n",
              "      <td>789.938776</td>\n",
              "      <td>2020-07-21</td>\n",
              "      <td>2020-08-03</td>\n",
              "      <td>-277.632653</td>\n",
              "    </tr>\n",
              "    <tr>\n",
              "      <th>2275</th>\n",
              "      <td>Dallas County</td>\n",
              "      <td>48113</td>\n",
              "      <td>639.397959</td>\n",
              "      <td>2020-08-04</td>\n",
              "      <td>2020-08-17</td>\n",
              "      <td>-150.540816</td>\n",
              "    </tr>\n",
              "    <tr>\n",
              "      <th>2477</th>\n",
              "      <td>Dallas County</td>\n",
              "      <td>48113</td>\n",
              "      <td>819.836735</td>\n",
              "      <td>2020-08-18</td>\n",
              "      <td>2020-08-31</td>\n",
              "      <td>180.438776</td>\n",
              "    </tr>\n",
              "    <tr>\n",
              "      <th>2679</th>\n",
              "      <td>Dallas County</td>\n",
              "      <td>48113</td>\n",
              "      <td>391.469388</td>\n",
              "      <td>2020-09-01</td>\n",
              "      <td>2020-09-07</td>\n",
              "      <td>-428.367347</td>\n",
              "    </tr>\n",
              "  </tbody>\n",
              "</table>\n",
              "</div>"
            ],
            "text/plain": [
              "        County Name fips_x  ...     endDate  diff_avg_x\n",
              "46    Dallas County  48113  ...  2020-03-14    0.000000\n",
              "250   Dallas County  48113  ...  2020-03-28   18.030612\n",
              "452   Dallas County  48113  ...  2020-04-11   59.846939\n",
              "655   Dallas County  48113  ...  2020-04-26   16.428571\n",
              "858   Dallas County  48113  ...  2020-05-10   74.071429\n",
              "1061  Dallas County  48113  ...  2020-05-24   56.489796\n",
              "1264  Dallas County  48113  ...  2020-06-08   -6.397959\n",
              "1467  Dallas County  48113  ...  2020-06-22  104.153061\n",
              "1669  Dallas County  48113  ...  2020-07-06  236.204082\n",
              "1871  Dallas County  48113  ...  2020-07-20  508.520408\n",
              "2073  Dallas County  48113  ...  2020-08-03 -277.632653\n",
              "2275  Dallas County  48113  ...  2020-08-17 -150.540816\n",
              "2477  Dallas County  48113  ...  2020-08-31  180.438776\n",
              "2679  Dallas County  48113  ...  2020-09-07 -428.367347\n",
              "\n",
              "[14 rows x 6 columns]"
            ]
          },
          "metadata": {
            "tags": []
          },
          "execution_count": 37
        }
      ]
    },
    {
      "cell_type": "code",
      "metadata": {
        "id": "C2jsEf6k-Wvi",
        "colab_type": "code",
        "colab": {
          "base_uri": "https://localhost:8080/",
          "height": 483
        },
        "outputId": "980ce205-1d74-4d9c-dd24-504176c31ee4"
      },
      "source": [
        "average_newCases_df2[average_newCases_df2['County Name'] == 'Houston County']"
      ],
      "execution_count": null,
      "outputs": [
        {
          "output_type": "execute_result",
          "data": {
            "text/html": [
              "<div>\n",
              "<style scoped>\n",
              "    .dataframe tbody tr th:only-of-type {\n",
              "        vertical-align: middle;\n",
              "    }\n",
              "\n",
              "    .dataframe tbody tr th {\n",
              "        vertical-align: top;\n",
              "    }\n",
              "\n",
              "    .dataframe thead th {\n",
              "        text-align: right;\n",
              "    }\n",
              "</style>\n",
              "<table border=\"1\" class=\"dataframe\">\n",
              "  <thead>\n",
              "    <tr style=\"text-align: right;\">\n",
              "      <th></th>\n",
              "      <th>County Name</th>\n",
              "      <th>fips_x</th>\n",
              "      <th>average_per_week</th>\n",
              "      <th>startDate</th>\n",
              "      <th>endDate</th>\n",
              "      <th>diff_avg_x</th>\n",
              "    </tr>\n",
              "  </thead>\n",
              "  <tbody>\n",
              "    <tr>\n",
              "      <th>90</th>\n",
              "      <td>Houston County</td>\n",
              "      <td>48225</td>\n",
              "      <td>0.000000</td>\n",
              "      <td>2020-03-01</td>\n",
              "      <td>2020-03-14</td>\n",
              "      <td>0.000000</td>\n",
              "    </tr>\n",
              "    <tr>\n",
              "      <th>293</th>\n",
              "      <td>Houston County</td>\n",
              "      <td>48225</td>\n",
              "      <td>0.000000</td>\n",
              "      <td>2020-03-15</td>\n",
              "      <td>2020-03-28</td>\n",
              "      <td>0.000000</td>\n",
              "    </tr>\n",
              "    <tr>\n",
              "      <th>496</th>\n",
              "      <td>Houston County</td>\n",
              "      <td>48225</td>\n",
              "      <td>0.000000</td>\n",
              "      <td>2020-03-29</td>\n",
              "      <td>2020-04-11</td>\n",
              "      <td>0.000000</td>\n",
              "    </tr>\n",
              "    <tr>\n",
              "      <th>699</th>\n",
              "      <td>Houston County</td>\n",
              "      <td>48225</td>\n",
              "      <td>0.316327</td>\n",
              "      <td>2020-04-12</td>\n",
              "      <td>2020-04-26</td>\n",
              "      <td>0.316327</td>\n",
              "    </tr>\n",
              "    <tr>\n",
              "      <th>902</th>\n",
              "      <td>Houston County</td>\n",
              "      <td>48225</td>\n",
              "      <td>0.367347</td>\n",
              "      <td>2020-04-27</td>\n",
              "      <td>2020-05-10</td>\n",
              "      <td>0.051020</td>\n",
              "    </tr>\n",
              "    <tr>\n",
              "      <th>1105</th>\n",
              "      <td>Houston County</td>\n",
              "      <td>48225</td>\n",
              "      <td>5.112245</td>\n",
              "      <td>2020-05-11</td>\n",
              "      <td>2020-05-24</td>\n",
              "      <td>4.744898</td>\n",
              "    </tr>\n",
              "    <tr>\n",
              "      <th>1308</th>\n",
              "      <td>Houston County</td>\n",
              "      <td>48225</td>\n",
              "      <td>4.306122</td>\n",
              "      <td>2020-05-25</td>\n",
              "      <td>2020-06-08</td>\n",
              "      <td>-0.806122</td>\n",
              "    </tr>\n",
              "    <tr>\n",
              "      <th>1510</th>\n",
              "      <td>Houston County</td>\n",
              "      <td>48225</td>\n",
              "      <td>0.438776</td>\n",
              "      <td>2020-06-09</td>\n",
              "      <td>2020-06-22</td>\n",
              "      <td>-3.867347</td>\n",
              "    </tr>\n",
              "    <tr>\n",
              "      <th>1712</th>\n",
              "      <td>Houston County</td>\n",
              "      <td>48225</td>\n",
              "      <td>1.346939</td>\n",
              "      <td>2020-06-23</td>\n",
              "      <td>2020-07-06</td>\n",
              "      <td>0.908163</td>\n",
              "    </tr>\n",
              "    <tr>\n",
              "      <th>1914</th>\n",
              "      <td>Houston County</td>\n",
              "      <td>48225</td>\n",
              "      <td>2.448980</td>\n",
              "      <td>2020-07-07</td>\n",
              "      <td>2020-07-20</td>\n",
              "      <td>1.102041</td>\n",
              "    </tr>\n",
              "    <tr>\n",
              "      <th>2116</th>\n",
              "      <td>Houston County</td>\n",
              "      <td>48225</td>\n",
              "      <td>3.000000</td>\n",
              "      <td>2020-07-21</td>\n",
              "      <td>2020-08-03</td>\n",
              "      <td>0.551020</td>\n",
              "    </tr>\n",
              "    <tr>\n",
              "      <th>2318</th>\n",
              "      <td>Houston County</td>\n",
              "      <td>48225</td>\n",
              "      <td>5.561224</td>\n",
              "      <td>2020-08-04</td>\n",
              "      <td>2020-08-17</td>\n",
              "      <td>2.561224</td>\n",
              "    </tr>\n",
              "    <tr>\n",
              "      <th>2520</th>\n",
              "      <td>Houston County</td>\n",
              "      <td>48225</td>\n",
              "      <td>13.214286</td>\n",
              "      <td>2020-08-18</td>\n",
              "      <td>2020-08-31</td>\n",
              "      <td>7.653061</td>\n",
              "    </tr>\n",
              "    <tr>\n",
              "      <th>2722</th>\n",
              "      <td>Houston County</td>\n",
              "      <td>48225</td>\n",
              "      <td>-23.387755</td>\n",
              "      <td>2020-09-01</td>\n",
              "      <td>2020-09-07</td>\n",
              "      <td>-36.602041</td>\n",
              "    </tr>\n",
              "  </tbody>\n",
              "</table>\n",
              "</div>"
            ],
            "text/plain": [
              "         County Name fips_x  ...     endDate diff_avg_x\n",
              "90    Houston County  48225  ...  2020-03-14   0.000000\n",
              "293   Houston County  48225  ...  2020-03-28   0.000000\n",
              "496   Houston County  48225  ...  2020-04-11   0.000000\n",
              "699   Houston County  48225  ...  2020-04-26   0.316327\n",
              "902   Houston County  48225  ...  2020-05-10   0.051020\n",
              "1105  Houston County  48225  ...  2020-05-24   4.744898\n",
              "1308  Houston County  48225  ...  2020-06-08  -0.806122\n",
              "1510  Houston County  48225  ...  2020-06-22  -3.867347\n",
              "1712  Houston County  48225  ...  2020-07-06   0.908163\n",
              "1914  Houston County  48225  ...  2020-07-20   1.102041\n",
              "2116  Houston County  48225  ...  2020-08-03   0.551020\n",
              "2318  Houston County  48225  ...  2020-08-17   2.561224\n",
              "2520  Houston County  48225  ...  2020-08-31   7.653061\n",
              "2722  Houston County  48225  ...  2020-09-07 -36.602041\n",
              "\n",
              "[14 rows x 6 columns]"
            ]
          },
          "metadata": {
            "tags": []
          },
          "execution_count": 41
        }
      ]
    },
    {
      "cell_type": "code",
      "metadata": {
        "id": "d2R6y2uO-eVT",
        "colab_type": "code",
        "colab": {
          "base_uri": "https://localhost:8080/",
          "height": 204
        },
        "outputId": "7cb3f626-d936-4b21-ecd4-f3546af76a52"
      },
      "source": [
        "average_newCases_df2[average_newCases_df2['fips_x'] == 48015].head(5)"
      ],
      "execution_count": null,
      "outputs": [
        {
          "output_type": "execute_result",
          "data": {
            "text/html": [
              "<div>\n",
              "<style scoped>\n",
              "    .dataframe tbody tr th:only-of-type {\n",
              "        vertical-align: middle;\n",
              "    }\n",
              "\n",
              "    .dataframe tbody tr th {\n",
              "        vertical-align: top;\n",
              "    }\n",
              "\n",
              "    .dataframe thead th {\n",
              "        text-align: right;\n",
              "    }\n",
              "</style>\n",
              "<table border=\"1\" class=\"dataframe\">\n",
              "  <thead>\n",
              "    <tr style=\"text-align: right;\">\n",
              "      <th></th>\n",
              "      <th>County Name</th>\n",
              "      <th>fips_x</th>\n",
              "      <th>average_per_week</th>\n",
              "      <th>startDate</th>\n",
              "      <th>endDate</th>\n",
              "      <th>diff_avg_x</th>\n",
              "    </tr>\n",
              "  </thead>\n",
              "  <tbody>\n",
              "    <tr>\n",
              "      <th>6</th>\n",
              "      <td>Austin County</td>\n",
              "      <td>48015</td>\n",
              "      <td>0.000000</td>\n",
              "      <td>2020-03-01</td>\n",
              "      <td>2020-03-14</td>\n",
              "      <td>0.000000</td>\n",
              "    </tr>\n",
              "    <tr>\n",
              "      <th>211</th>\n",
              "      <td>Austin County</td>\n",
              "      <td>48015</td>\n",
              "      <td>0.030612</td>\n",
              "      <td>2020-03-15</td>\n",
              "      <td>2020-03-28</td>\n",
              "      <td>0.030612</td>\n",
              "    </tr>\n",
              "    <tr>\n",
              "      <th>413</th>\n",
              "      <td>Austin County</td>\n",
              "      <td>48015</td>\n",
              "      <td>0.438776</td>\n",
              "      <td>2020-03-29</td>\n",
              "      <td>2020-04-11</td>\n",
              "      <td>0.408163</td>\n",
              "    </tr>\n",
              "    <tr>\n",
              "      <th>616</th>\n",
              "      <td>Austin County</td>\n",
              "      <td>48015</td>\n",
              "      <td>0.387755</td>\n",
              "      <td>2020-04-12</td>\n",
              "      <td>2020-04-26</td>\n",
              "      <td>-0.051020</td>\n",
              "    </tr>\n",
              "    <tr>\n",
              "      <th>818</th>\n",
              "      <td>Austin County</td>\n",
              "      <td>48015</td>\n",
              "      <td>0.142857</td>\n",
              "      <td>2020-04-27</td>\n",
              "      <td>2020-05-10</td>\n",
              "      <td>-0.244898</td>\n",
              "    </tr>\n",
              "  </tbody>\n",
              "</table>\n",
              "</div>"
            ],
            "text/plain": [
              "       County Name fips_x  average_per_week   startDate     endDate  diff_avg_x\n",
              "6    Austin County  48015          0.000000  2020-03-01  2020-03-14    0.000000\n",
              "211  Austin County  48015          0.030612  2020-03-15  2020-03-28    0.030612\n",
              "413  Austin County  48015          0.438776  2020-03-29  2020-04-11    0.408163\n",
              "616  Austin County  48015          0.387755  2020-04-12  2020-04-26   -0.051020\n",
              "818  Austin County  48015          0.142857  2020-04-27  2020-05-10   -0.244898"
            ]
          },
          "metadata": {
            "tags": []
          },
          "execution_count": 42
        }
      ]
    },
    {
      "cell_type": "code",
      "metadata": {
        "id": "eVjNcAs8-j8m",
        "colab_type": "code",
        "colab": {
          "base_uri": "https://localhost:8080/",
          "height": 204
        },
        "outputId": "40b83f72-1873-4fcd-8c8e-c42158ec4433"
      },
      "source": [
        "average_newCases_df2.head()"
      ],
      "execution_count": null,
      "outputs": [
        {
          "output_type": "execute_result",
          "data": {
            "text/html": [
              "<div>\n",
              "<style scoped>\n",
              "    .dataframe tbody tr th:only-of-type {\n",
              "        vertical-align: middle;\n",
              "    }\n",
              "\n",
              "    .dataframe tbody tr th {\n",
              "        vertical-align: top;\n",
              "    }\n",
              "\n",
              "    .dataframe thead th {\n",
              "        text-align: right;\n",
              "    }\n",
              "</style>\n",
              "<table border=\"1\" class=\"dataframe\">\n",
              "  <thead>\n",
              "    <tr style=\"text-align: right;\">\n",
              "      <th></th>\n",
              "      <th>County Name</th>\n",
              "      <th>fips_x</th>\n",
              "      <th>average_per_week</th>\n",
              "      <th>startDate</th>\n",
              "      <th>endDate</th>\n",
              "      <th>diff_avg_x</th>\n",
              "    </tr>\n",
              "  </thead>\n",
              "  <tbody>\n",
              "    <tr>\n",
              "      <th>0</th>\n",
              "      <td>Anderson County</td>\n",
              "      <td>48001</td>\n",
              "      <td>0.0</td>\n",
              "      <td>2020-03-01</td>\n",
              "      <td>2020-03-14</td>\n",
              "      <td>0.0</td>\n",
              "    </tr>\n",
              "    <tr>\n",
              "      <th>1</th>\n",
              "      <td>Andrews County</td>\n",
              "      <td>48003</td>\n",
              "      <td>0.0</td>\n",
              "      <td>2020-03-01</td>\n",
              "      <td>2020-03-14</td>\n",
              "      <td>0.0</td>\n",
              "    </tr>\n",
              "    <tr>\n",
              "      <th>2</th>\n",
              "      <td>Angelina County</td>\n",
              "      <td>48005</td>\n",
              "      <td>0.0</td>\n",
              "      <td>2020-03-01</td>\n",
              "      <td>2020-03-14</td>\n",
              "      <td>0.0</td>\n",
              "    </tr>\n",
              "    <tr>\n",
              "      <th>3</th>\n",
              "      <td>Aransas County</td>\n",
              "      <td>48007</td>\n",
              "      <td>0.0</td>\n",
              "      <td>2020-03-01</td>\n",
              "      <td>2020-03-14</td>\n",
              "      <td>0.0</td>\n",
              "    </tr>\n",
              "    <tr>\n",
              "      <th>4</th>\n",
              "      <td>Archer County</td>\n",
              "      <td>48009</td>\n",
              "      <td>0.0</td>\n",
              "      <td>2020-03-01</td>\n",
              "      <td>2020-03-14</td>\n",
              "      <td>0.0</td>\n",
              "    </tr>\n",
              "  </tbody>\n",
              "</table>\n",
              "</div>"
            ],
            "text/plain": [
              "       County Name fips_x  average_per_week   startDate     endDate  diff_avg_x\n",
              "0  Anderson County  48001               0.0  2020-03-01  2020-03-14         0.0\n",
              "1   Andrews County  48003               0.0  2020-03-01  2020-03-14         0.0\n",
              "2  Angelina County  48005               0.0  2020-03-01  2020-03-14         0.0\n",
              "3   Aransas County  48007               0.0  2020-03-01  2020-03-14         0.0\n",
              "4    Archer County  48009               0.0  2020-03-01  2020-03-14         0.0"
            ]
          },
          "metadata": {
            "tags": []
          },
          "execution_count": 43
        }
      ]
    },
    {
      "cell_type": "code",
      "metadata": {
        "id": "m-TcrVrA-mUA",
        "colab_type": "code",
        "colab": {}
      },
      "source": [
        "average_newCases_df2 = average_newCases_df2.fillna(0)"
      ],
      "execution_count": null,
      "outputs": []
    },
    {
      "cell_type": "code",
      "metadata": {
        "id": "5TOglJlm-oPv",
        "colab_type": "code",
        "colab": {
          "base_uri": "https://localhost:8080/",
          "height": 204
        },
        "outputId": "9cdcb03d-838f-4c45-baf2-fc96a0e12594"
      },
      "source": [
        "average_newCases_df2.head()"
      ],
      "execution_count": null,
      "outputs": [
        {
          "output_type": "execute_result",
          "data": {
            "text/html": [
              "<div>\n",
              "<style scoped>\n",
              "    .dataframe tbody tr th:only-of-type {\n",
              "        vertical-align: middle;\n",
              "    }\n",
              "\n",
              "    .dataframe tbody tr th {\n",
              "        vertical-align: top;\n",
              "    }\n",
              "\n",
              "    .dataframe thead th {\n",
              "        text-align: right;\n",
              "    }\n",
              "</style>\n",
              "<table border=\"1\" class=\"dataframe\">\n",
              "  <thead>\n",
              "    <tr style=\"text-align: right;\">\n",
              "      <th></th>\n",
              "      <th>County Name</th>\n",
              "      <th>fips_x</th>\n",
              "      <th>average_per_week</th>\n",
              "      <th>startDate</th>\n",
              "      <th>endDate</th>\n",
              "      <th>diff_avg_x</th>\n",
              "    </tr>\n",
              "  </thead>\n",
              "  <tbody>\n",
              "    <tr>\n",
              "      <th>0</th>\n",
              "      <td>Anderson County</td>\n",
              "      <td>48001</td>\n",
              "      <td>0.0</td>\n",
              "      <td>2020-03-01</td>\n",
              "      <td>2020-03-14</td>\n",
              "      <td>0.0</td>\n",
              "    </tr>\n",
              "    <tr>\n",
              "      <th>1</th>\n",
              "      <td>Andrews County</td>\n",
              "      <td>48003</td>\n",
              "      <td>0.0</td>\n",
              "      <td>2020-03-01</td>\n",
              "      <td>2020-03-14</td>\n",
              "      <td>0.0</td>\n",
              "    </tr>\n",
              "    <tr>\n",
              "      <th>2</th>\n",
              "      <td>Angelina County</td>\n",
              "      <td>48005</td>\n",
              "      <td>0.0</td>\n",
              "      <td>2020-03-01</td>\n",
              "      <td>2020-03-14</td>\n",
              "      <td>0.0</td>\n",
              "    </tr>\n",
              "    <tr>\n",
              "      <th>3</th>\n",
              "      <td>Aransas County</td>\n",
              "      <td>48007</td>\n",
              "      <td>0.0</td>\n",
              "      <td>2020-03-01</td>\n",
              "      <td>2020-03-14</td>\n",
              "      <td>0.0</td>\n",
              "    </tr>\n",
              "    <tr>\n",
              "      <th>4</th>\n",
              "      <td>Archer County</td>\n",
              "      <td>48009</td>\n",
              "      <td>0.0</td>\n",
              "      <td>2020-03-01</td>\n",
              "      <td>2020-03-14</td>\n",
              "      <td>0.0</td>\n",
              "    </tr>\n",
              "  </tbody>\n",
              "</table>\n",
              "</div>"
            ],
            "text/plain": [
              "       County Name  fips_x  ...     endDate diff_avg_x\n",
              "0  Anderson County   48001  ...  2020-03-14        0.0\n",
              "1   Andrews County   48003  ...  2020-03-14        0.0\n",
              "2  Angelina County   48005  ...  2020-03-14        0.0\n",
              "3   Aransas County   48007  ...  2020-03-14        0.0\n",
              "4    Archer County   48009  ...  2020-03-14        0.0\n",
              "\n",
              "[5 rows x 6 columns]"
            ]
          },
          "metadata": {
            "tags": []
          },
          "execution_count": 45
        }
      ]
    },
    {
      "cell_type": "code",
      "metadata": {
        "id": "vIsmK3oh-raC",
        "colab_type": "code",
        "colab": {}
      },
      "source": [
        "average_newCases_df2['shift_avg_x'] = average_newCases_df2.sort_values(['startDate','endDate']).groupby(['County Name', 'fips_x'])['average_per_week'].shift()"
      ],
      "execution_count": null,
      "outputs": []
    },
    {
      "cell_type": "code",
      "metadata": {
        "id": "R4xXDOM3-uFJ",
        "colab_type": "code",
        "colab": {
          "base_uri": "https://localhost:8080/",
          "height": 450
        },
        "outputId": "0bc64a7f-2502-4975-cd24-312bf296bc74"
      },
      "source": [
        "average_newCases_df2.groupby(by=['County Name', 'fips_x','startDate','endDate']).sum()"
      ],
      "execution_count": null,
      "outputs": [
        {
          "output_type": "execute_result",
          "data": {
            "text/html": [
              "<div>\n",
              "<style scoped>\n",
              "    .dataframe tbody tr th:only-of-type {\n",
              "        vertical-align: middle;\n",
              "    }\n",
              "\n",
              "    .dataframe tbody tr th {\n",
              "        vertical-align: top;\n",
              "    }\n",
              "\n",
              "    .dataframe thead th {\n",
              "        text-align: right;\n",
              "    }\n",
              "</style>\n",
              "<table border=\"1\" class=\"dataframe\">\n",
              "  <thead>\n",
              "    <tr style=\"text-align: right;\">\n",
              "      <th></th>\n",
              "      <th></th>\n",
              "      <th></th>\n",
              "      <th></th>\n",
              "      <th>average_per_week</th>\n",
              "      <th>diff_avg_x</th>\n",
              "      <th>shift_avg_x</th>\n",
              "    </tr>\n",
              "    <tr>\n",
              "      <th>County Name</th>\n",
              "      <th>fips_x</th>\n",
              "      <th>startDate</th>\n",
              "      <th>endDate</th>\n",
              "      <th></th>\n",
              "      <th></th>\n",
              "      <th></th>\n",
              "    </tr>\n",
              "  </thead>\n",
              "  <tbody>\n",
              "    <tr>\n",
              "      <th rowspan=\"5\" valign=\"top\">Anderson County</th>\n",
              "      <th rowspan=\"5\" valign=\"top\">48001</th>\n",
              "      <th>2020-03-01</th>\n",
              "      <th>2020-03-14</th>\n",
              "      <td>0.000000</td>\n",
              "      <td>0.000000</td>\n",
              "      <td>0.000000</td>\n",
              "    </tr>\n",
              "    <tr>\n",
              "      <th>2020-03-15</th>\n",
              "      <th>2020-03-28</th>\n",
              "      <td>0.000000</td>\n",
              "      <td>0.000000</td>\n",
              "      <td>0.000000</td>\n",
              "    </tr>\n",
              "    <tr>\n",
              "      <th>2020-03-29</th>\n",
              "      <th>2020-04-11</th>\n",
              "      <td>0.142857</td>\n",
              "      <td>0.142857</td>\n",
              "      <td>0.000000</td>\n",
              "    </tr>\n",
              "    <tr>\n",
              "      <th>2020-04-12</th>\n",
              "      <th>2020-04-26</th>\n",
              "      <td>0.908163</td>\n",
              "      <td>0.765306</td>\n",
              "      <td>0.142857</td>\n",
              "    </tr>\n",
              "    <tr>\n",
              "      <th>2020-04-27</th>\n",
              "      <th>2020-05-10</th>\n",
              "      <td>1.755102</td>\n",
              "      <td>0.846939</td>\n",
              "      <td>0.908163</td>\n",
              "    </tr>\n",
              "    <tr>\n",
              "      <th>...</th>\n",
              "      <th>...</th>\n",
              "      <th>...</th>\n",
              "      <th>...</th>\n",
              "      <td>...</td>\n",
              "      <td>...</td>\n",
              "      <td>...</td>\n",
              "    </tr>\n",
              "    <tr>\n",
              "      <th rowspan=\"5\" valign=\"top\">Zavala County</th>\n",
              "      <th rowspan=\"5\" valign=\"top\">48507</th>\n",
              "      <th>2020-07-07</th>\n",
              "      <th>2020-07-20</th>\n",
              "      <td>3.400000</td>\n",
              "      <td>2.671429</td>\n",
              "      <td>0.728571</td>\n",
              "    </tr>\n",
              "    <tr>\n",
              "      <th>2020-07-21</th>\n",
              "      <th>2020-08-03</th>\n",
              "      <td>7.314286</td>\n",
              "      <td>3.914286</td>\n",
              "      <td>3.400000</td>\n",
              "    </tr>\n",
              "    <tr>\n",
              "      <th>2020-08-04</th>\n",
              "      <th>2020-08-17</th>\n",
              "      <td>5.614286</td>\n",
              "      <td>-1.700000</td>\n",
              "      <td>7.314286</td>\n",
              "    </tr>\n",
              "    <tr>\n",
              "      <th>2020-08-18</th>\n",
              "      <th>2020-08-31</th>\n",
              "      <td>2.500000</td>\n",
              "      <td>-3.114286</td>\n",
              "      <td>5.614286</td>\n",
              "    </tr>\n",
              "    <tr>\n",
              "      <th>2020-09-01</th>\n",
              "      <th>2020-09-07</th>\n",
              "      <td>1.250000</td>\n",
              "      <td>-1.250000</td>\n",
              "      <td>2.500000</td>\n",
              "    </tr>\n",
              "  </tbody>\n",
              "</table>\n",
              "<p>2835 rows × 3 columns</p>\n",
              "</div>"
            ],
            "text/plain": [
              "                                              average_per_week  ...  shift_avg_x\n",
              "County Name     fips_x startDate  endDate                       ...             \n",
              "Anderson County 48001  2020-03-01 2020-03-14          0.000000  ...     0.000000\n",
              "                       2020-03-15 2020-03-28          0.000000  ...     0.000000\n",
              "                       2020-03-29 2020-04-11          0.142857  ...     0.000000\n",
              "                       2020-04-12 2020-04-26          0.908163  ...     0.142857\n",
              "                       2020-04-27 2020-05-10          1.755102  ...     0.908163\n",
              "...                                                        ...  ...          ...\n",
              "Zavala County   48507  2020-07-07 2020-07-20          3.400000  ...     0.728571\n",
              "                       2020-07-21 2020-08-03          7.314286  ...     3.400000\n",
              "                       2020-08-04 2020-08-17          5.614286  ...     7.314286\n",
              "                       2020-08-18 2020-08-31          2.500000  ...     5.614286\n",
              "                       2020-09-01 2020-09-07          1.250000  ...     2.500000\n",
              "\n",
              "[2835 rows x 3 columns]"
            ]
          },
          "metadata": {
            "tags": []
          },
          "execution_count": 47
        }
      ]
    },
    {
      "cell_type": "code",
      "metadata": {
        "id": "REP41WIM-wPx",
        "colab_type": "code",
        "colab": {
          "base_uri": "https://localhost:8080/",
          "height": 483
        },
        "outputId": "2a3f3134-eaaf-409c-c4cf-f4980ef046ec"
      },
      "source": [
        "average_newCases_df2[average_newCases_df2['County Name'] == 'Austin County']"
      ],
      "execution_count": null,
      "outputs": [
        {
          "output_type": "execute_result",
          "data": {
            "text/html": [
              "<div>\n",
              "<style scoped>\n",
              "    .dataframe tbody tr th:only-of-type {\n",
              "        vertical-align: middle;\n",
              "    }\n",
              "\n",
              "    .dataframe tbody tr th {\n",
              "        vertical-align: top;\n",
              "    }\n",
              "\n",
              "    .dataframe thead th {\n",
              "        text-align: right;\n",
              "    }\n",
              "</style>\n",
              "<table border=\"1\" class=\"dataframe\">\n",
              "  <thead>\n",
              "    <tr style=\"text-align: right;\">\n",
              "      <th></th>\n",
              "      <th>County Name</th>\n",
              "      <th>fips_x</th>\n",
              "      <th>average_per_week</th>\n",
              "      <th>startDate</th>\n",
              "      <th>endDate</th>\n",
              "      <th>diff_avg_x</th>\n",
              "      <th>shift_avg_x</th>\n",
              "    </tr>\n",
              "  </thead>\n",
              "  <tbody>\n",
              "    <tr>\n",
              "      <th>6</th>\n",
              "      <td>Austin County</td>\n",
              "      <td>48015</td>\n",
              "      <td>0.000000</td>\n",
              "      <td>2020-03-01</td>\n",
              "      <td>2020-03-14</td>\n",
              "      <td>0.000000</td>\n",
              "      <td>NaN</td>\n",
              "    </tr>\n",
              "    <tr>\n",
              "      <th>211</th>\n",
              "      <td>Austin County</td>\n",
              "      <td>48015</td>\n",
              "      <td>0.030612</td>\n",
              "      <td>2020-03-15</td>\n",
              "      <td>2020-03-28</td>\n",
              "      <td>0.030612</td>\n",
              "      <td>0.000000</td>\n",
              "    </tr>\n",
              "    <tr>\n",
              "      <th>413</th>\n",
              "      <td>Austin County</td>\n",
              "      <td>48015</td>\n",
              "      <td>0.438776</td>\n",
              "      <td>2020-03-29</td>\n",
              "      <td>2020-04-11</td>\n",
              "      <td>0.408163</td>\n",
              "      <td>0.030612</td>\n",
              "    </tr>\n",
              "    <tr>\n",
              "      <th>616</th>\n",
              "      <td>Austin County</td>\n",
              "      <td>48015</td>\n",
              "      <td>0.387755</td>\n",
              "      <td>2020-04-12</td>\n",
              "      <td>2020-04-26</td>\n",
              "      <td>-0.051020</td>\n",
              "      <td>0.438776</td>\n",
              "    </tr>\n",
              "    <tr>\n",
              "      <th>818</th>\n",
              "      <td>Austin County</td>\n",
              "      <td>48015</td>\n",
              "      <td>0.142857</td>\n",
              "      <td>2020-04-27</td>\n",
              "      <td>2020-05-10</td>\n",
              "      <td>-0.244898</td>\n",
              "      <td>0.387755</td>\n",
              "    </tr>\n",
              "    <tr>\n",
              "      <th>1021</th>\n",
              "      <td>Austin County</td>\n",
              "      <td>48015</td>\n",
              "      <td>0.469388</td>\n",
              "      <td>2020-05-11</td>\n",
              "      <td>2020-05-24</td>\n",
              "      <td>0.326531</td>\n",
              "      <td>0.142857</td>\n",
              "    </tr>\n",
              "    <tr>\n",
              "      <th>1224</th>\n",
              "      <td>Austin County</td>\n",
              "      <td>48015</td>\n",
              "      <td>0.540816</td>\n",
              "      <td>2020-05-25</td>\n",
              "      <td>2020-06-08</td>\n",
              "      <td>0.071429</td>\n",
              "      <td>0.469388</td>\n",
              "    </tr>\n",
              "    <tr>\n",
              "      <th>1427</th>\n",
              "      <td>Austin County</td>\n",
              "      <td>48015</td>\n",
              "      <td>0.979592</td>\n",
              "      <td>2020-06-09</td>\n",
              "      <td>2020-06-22</td>\n",
              "      <td>0.438776</td>\n",
              "      <td>0.540816</td>\n",
              "    </tr>\n",
              "    <tr>\n",
              "      <th>1629</th>\n",
              "      <td>Austin County</td>\n",
              "      <td>48015</td>\n",
              "      <td>2.591837</td>\n",
              "      <td>2020-06-23</td>\n",
              "      <td>2020-07-06</td>\n",
              "      <td>1.612245</td>\n",
              "      <td>0.979592</td>\n",
              "    </tr>\n",
              "    <tr>\n",
              "      <th>1831</th>\n",
              "      <td>Austin County</td>\n",
              "      <td>48015</td>\n",
              "      <td>5.102041</td>\n",
              "      <td>2020-07-07</td>\n",
              "      <td>2020-07-20</td>\n",
              "      <td>2.510204</td>\n",
              "      <td>2.591837</td>\n",
              "    </tr>\n",
              "    <tr>\n",
              "      <th>2033</th>\n",
              "      <td>Austin County</td>\n",
              "      <td>48015</td>\n",
              "      <td>4.346939</td>\n",
              "      <td>2020-07-21</td>\n",
              "      <td>2020-08-03</td>\n",
              "      <td>-0.755102</td>\n",
              "      <td>5.102041</td>\n",
              "    </tr>\n",
              "    <tr>\n",
              "      <th>2235</th>\n",
              "      <td>Austin County</td>\n",
              "      <td>48015</td>\n",
              "      <td>7.000000</td>\n",
              "      <td>2020-08-04</td>\n",
              "      <td>2020-08-17</td>\n",
              "      <td>2.653061</td>\n",
              "      <td>4.346939</td>\n",
              "    </tr>\n",
              "    <tr>\n",
              "      <th>2437</th>\n",
              "      <td>Austin County</td>\n",
              "      <td>48015</td>\n",
              "      <td>7.030612</td>\n",
              "      <td>2020-08-18</td>\n",
              "      <td>2020-08-31</td>\n",
              "      <td>0.030612</td>\n",
              "      <td>7.000000</td>\n",
              "    </tr>\n",
              "    <tr>\n",
              "      <th>2639</th>\n",
              "      <td>Austin County</td>\n",
              "      <td>48015</td>\n",
              "      <td>3.367347</td>\n",
              "      <td>2020-09-01</td>\n",
              "      <td>2020-09-07</td>\n",
              "      <td>-3.663265</td>\n",
              "      <td>7.030612</td>\n",
              "    </tr>\n",
              "  </tbody>\n",
              "</table>\n",
              "</div>"
            ],
            "text/plain": [
              "        County Name  fips_x  ...  diff_avg_x shift_avg_x\n",
              "6     Austin County   48015  ...    0.000000         NaN\n",
              "211   Austin County   48015  ...    0.030612    0.000000\n",
              "413   Austin County   48015  ...    0.408163    0.030612\n",
              "616   Austin County   48015  ...   -0.051020    0.438776\n",
              "818   Austin County   48015  ...   -0.244898    0.387755\n",
              "1021  Austin County   48015  ...    0.326531    0.142857\n",
              "1224  Austin County   48015  ...    0.071429    0.469388\n",
              "1427  Austin County   48015  ...    0.438776    0.540816\n",
              "1629  Austin County   48015  ...    1.612245    0.979592\n",
              "1831  Austin County   48015  ...    2.510204    2.591837\n",
              "2033  Austin County   48015  ...   -0.755102    5.102041\n",
              "2235  Austin County   48015  ...    2.653061    4.346939\n",
              "2437  Austin County   48015  ...    0.030612    7.000000\n",
              "2639  Austin County   48015  ...   -3.663265    7.030612\n",
              "\n",
              "[14 rows x 7 columns]"
            ]
          },
          "metadata": {
            "tags": []
          },
          "execution_count": 48
        }
      ]
    },
    {
      "cell_type": "code",
      "metadata": {
        "id": "tlRqeUQf-84Q",
        "colab_type": "code",
        "colab": {
          "base_uri": "https://localhost:8080/",
          "height": 204
        },
        "outputId": "8314f4e0-9167-418d-fa24-c0ca2b773f3b"
      },
      "source": [
        "average_newCases_df2['percent_newcases'] = average_newCases_df2.apply(lambda x: (x.diff_avg_x) / x.shift_avg_x if x.shift_avg_x > 0.0 else 0 , axis=1)\n",
        "\n",
        "\n",
        "average_newCases_df2.tail()"
      ],
      "execution_count": null,
      "outputs": [
        {
          "output_type": "execute_result",
          "data": {
            "text/html": [
              "<div>\n",
              "<style scoped>\n",
              "    .dataframe tbody tr th:only-of-type {\n",
              "        vertical-align: middle;\n",
              "    }\n",
              "\n",
              "    .dataframe tbody tr th {\n",
              "        vertical-align: top;\n",
              "    }\n",
              "\n",
              "    .dataframe thead th {\n",
              "        text-align: right;\n",
              "    }\n",
              "</style>\n",
              "<table border=\"1\" class=\"dataframe\">\n",
              "  <thead>\n",
              "    <tr style=\"text-align: right;\">\n",
              "      <th></th>\n",
              "      <th>County Name</th>\n",
              "      <th>fips_x</th>\n",
              "      <th>average_per_week</th>\n",
              "      <th>startDate</th>\n",
              "      <th>endDate</th>\n",
              "      <th>diff_avg_x</th>\n",
              "      <th>shift_avg_x</th>\n",
              "      <th>percent_newcases</th>\n",
              "    </tr>\n",
              "  </thead>\n",
              "  <tbody>\n",
              "    <tr>\n",
              "      <th>2830</th>\n",
              "      <td>Wood County</td>\n",
              "      <td>48499</td>\n",
              "      <td>2.938776</td>\n",
              "      <td>2020-09-01</td>\n",
              "      <td>2020-09-07</td>\n",
              "      <td>-0.193878</td>\n",
              "      <td>3.132653</td>\n",
              "      <td>-0.061889</td>\n",
              "    </tr>\n",
              "    <tr>\n",
              "      <th>2831</th>\n",
              "      <td>Yoakum County</td>\n",
              "      <td>48501</td>\n",
              "      <td>3.000000</td>\n",
              "      <td>2020-09-01</td>\n",
              "      <td>2020-09-07</td>\n",
              "      <td>1.193878</td>\n",
              "      <td>1.806122</td>\n",
              "      <td>0.661017</td>\n",
              "    </tr>\n",
              "    <tr>\n",
              "      <th>2832</th>\n",
              "      <td>Young County</td>\n",
              "      <td>48503</td>\n",
              "      <td>0.102041</td>\n",
              "      <td>2020-09-01</td>\n",
              "      <td>2020-09-07</td>\n",
              "      <td>-2.377551</td>\n",
              "      <td>2.479592</td>\n",
              "      <td>-0.958848</td>\n",
              "    </tr>\n",
              "    <tr>\n",
              "      <th>2833</th>\n",
              "      <td>Zapata County</td>\n",
              "      <td>48505</td>\n",
              "      <td>4.107143</td>\n",
              "      <td>2020-09-01</td>\n",
              "      <td>2020-09-07</td>\n",
              "      <td>-1.121429</td>\n",
              "      <td>5.228571</td>\n",
              "      <td>-0.214481</td>\n",
              "    </tr>\n",
              "    <tr>\n",
              "      <th>2834</th>\n",
              "      <td>Zavala County</td>\n",
              "      <td>48507</td>\n",
              "      <td>1.250000</td>\n",
              "      <td>2020-09-01</td>\n",
              "      <td>2020-09-07</td>\n",
              "      <td>-1.250000</td>\n",
              "      <td>2.500000</td>\n",
              "      <td>-0.500000</td>\n",
              "    </tr>\n",
              "  </tbody>\n",
              "</table>\n",
              "</div>"
            ],
            "text/plain": [
              "        County Name  fips_x  ...  shift_avg_x percent_newcases\n",
              "2830    Wood County   48499  ...     3.132653        -0.061889\n",
              "2831  Yoakum County   48501  ...     1.806122         0.661017\n",
              "2832   Young County   48503  ...     2.479592        -0.958848\n",
              "2833  Zapata County   48505  ...     5.228571        -0.214481\n",
              "2834  Zavala County   48507  ...     2.500000        -0.500000\n",
              "\n",
              "[5 rows x 8 columns]"
            ]
          },
          "metadata": {
            "tags": []
          },
          "execution_count": 49
        }
      ]
    },
    {
      "cell_type": "code",
      "metadata": {
        "id": "XoTgA6VH_BPP",
        "colab_type": "code",
        "colab": {
          "base_uri": "https://localhost:8080/",
          "height": 483
        },
        "outputId": "07d4f71f-38f0-4d37-a6fe-d50bc3f047d2"
      },
      "source": [
        "average_newCases_df2[average_newCases_df2['County Name'] == 'Austin County']"
      ],
      "execution_count": null,
      "outputs": [
        {
          "output_type": "execute_result",
          "data": {
            "text/html": [
              "<div>\n",
              "<style scoped>\n",
              "    .dataframe tbody tr th:only-of-type {\n",
              "        vertical-align: middle;\n",
              "    }\n",
              "\n",
              "    .dataframe tbody tr th {\n",
              "        vertical-align: top;\n",
              "    }\n",
              "\n",
              "    .dataframe thead th {\n",
              "        text-align: right;\n",
              "    }\n",
              "</style>\n",
              "<table border=\"1\" class=\"dataframe\">\n",
              "  <thead>\n",
              "    <tr style=\"text-align: right;\">\n",
              "      <th></th>\n",
              "      <th>County Name</th>\n",
              "      <th>fips_x</th>\n",
              "      <th>average_per_week</th>\n",
              "      <th>startDate</th>\n",
              "      <th>endDate</th>\n",
              "      <th>diff_avg_x</th>\n",
              "      <th>shift_avg_x</th>\n",
              "      <th>percent_newcases</th>\n",
              "    </tr>\n",
              "  </thead>\n",
              "  <tbody>\n",
              "    <tr>\n",
              "      <th>6</th>\n",
              "      <td>Austin County</td>\n",
              "      <td>48015</td>\n",
              "      <td>0.000000</td>\n",
              "      <td>2020-03-01</td>\n",
              "      <td>2020-03-14</td>\n",
              "      <td>0.000000</td>\n",
              "      <td>NaN</td>\n",
              "      <td>0.000000</td>\n",
              "    </tr>\n",
              "    <tr>\n",
              "      <th>211</th>\n",
              "      <td>Austin County</td>\n",
              "      <td>48015</td>\n",
              "      <td>0.030612</td>\n",
              "      <td>2020-03-15</td>\n",
              "      <td>2020-03-28</td>\n",
              "      <td>0.030612</td>\n",
              "      <td>0.000000</td>\n",
              "      <td>0.000000</td>\n",
              "    </tr>\n",
              "    <tr>\n",
              "      <th>413</th>\n",
              "      <td>Austin County</td>\n",
              "      <td>48015</td>\n",
              "      <td>0.438776</td>\n",
              "      <td>2020-03-29</td>\n",
              "      <td>2020-04-11</td>\n",
              "      <td>0.408163</td>\n",
              "      <td>0.030612</td>\n",
              "      <td>13.333333</td>\n",
              "    </tr>\n",
              "    <tr>\n",
              "      <th>616</th>\n",
              "      <td>Austin County</td>\n",
              "      <td>48015</td>\n",
              "      <td>0.387755</td>\n",
              "      <td>2020-04-12</td>\n",
              "      <td>2020-04-26</td>\n",
              "      <td>-0.051020</td>\n",
              "      <td>0.438776</td>\n",
              "      <td>-0.116279</td>\n",
              "    </tr>\n",
              "    <tr>\n",
              "      <th>818</th>\n",
              "      <td>Austin County</td>\n",
              "      <td>48015</td>\n",
              "      <td>0.142857</td>\n",
              "      <td>2020-04-27</td>\n",
              "      <td>2020-05-10</td>\n",
              "      <td>-0.244898</td>\n",
              "      <td>0.387755</td>\n",
              "      <td>-0.631579</td>\n",
              "    </tr>\n",
              "    <tr>\n",
              "      <th>1021</th>\n",
              "      <td>Austin County</td>\n",
              "      <td>48015</td>\n",
              "      <td>0.469388</td>\n",
              "      <td>2020-05-11</td>\n",
              "      <td>2020-05-24</td>\n",
              "      <td>0.326531</td>\n",
              "      <td>0.142857</td>\n",
              "      <td>2.285714</td>\n",
              "    </tr>\n",
              "    <tr>\n",
              "      <th>1224</th>\n",
              "      <td>Austin County</td>\n",
              "      <td>48015</td>\n",
              "      <td>0.540816</td>\n",
              "      <td>2020-05-25</td>\n",
              "      <td>2020-06-08</td>\n",
              "      <td>0.071429</td>\n",
              "      <td>0.469388</td>\n",
              "      <td>0.152174</td>\n",
              "    </tr>\n",
              "    <tr>\n",
              "      <th>1427</th>\n",
              "      <td>Austin County</td>\n",
              "      <td>48015</td>\n",
              "      <td>0.979592</td>\n",
              "      <td>2020-06-09</td>\n",
              "      <td>2020-06-22</td>\n",
              "      <td>0.438776</td>\n",
              "      <td>0.540816</td>\n",
              "      <td>0.811321</td>\n",
              "    </tr>\n",
              "    <tr>\n",
              "      <th>1629</th>\n",
              "      <td>Austin County</td>\n",
              "      <td>48015</td>\n",
              "      <td>2.591837</td>\n",
              "      <td>2020-06-23</td>\n",
              "      <td>2020-07-06</td>\n",
              "      <td>1.612245</td>\n",
              "      <td>0.979592</td>\n",
              "      <td>1.645833</td>\n",
              "    </tr>\n",
              "    <tr>\n",
              "      <th>1831</th>\n",
              "      <td>Austin County</td>\n",
              "      <td>48015</td>\n",
              "      <td>5.102041</td>\n",
              "      <td>2020-07-07</td>\n",
              "      <td>2020-07-20</td>\n",
              "      <td>2.510204</td>\n",
              "      <td>2.591837</td>\n",
              "      <td>0.968504</td>\n",
              "    </tr>\n",
              "    <tr>\n",
              "      <th>2033</th>\n",
              "      <td>Austin County</td>\n",
              "      <td>48015</td>\n",
              "      <td>4.346939</td>\n",
              "      <td>2020-07-21</td>\n",
              "      <td>2020-08-03</td>\n",
              "      <td>-0.755102</td>\n",
              "      <td>5.102041</td>\n",
              "      <td>-0.148000</td>\n",
              "    </tr>\n",
              "    <tr>\n",
              "      <th>2235</th>\n",
              "      <td>Austin County</td>\n",
              "      <td>48015</td>\n",
              "      <td>7.000000</td>\n",
              "      <td>2020-08-04</td>\n",
              "      <td>2020-08-17</td>\n",
              "      <td>2.653061</td>\n",
              "      <td>4.346939</td>\n",
              "      <td>0.610329</td>\n",
              "    </tr>\n",
              "    <tr>\n",
              "      <th>2437</th>\n",
              "      <td>Austin County</td>\n",
              "      <td>48015</td>\n",
              "      <td>7.030612</td>\n",
              "      <td>2020-08-18</td>\n",
              "      <td>2020-08-31</td>\n",
              "      <td>0.030612</td>\n",
              "      <td>7.000000</td>\n",
              "      <td>0.004373</td>\n",
              "    </tr>\n",
              "    <tr>\n",
              "      <th>2639</th>\n",
              "      <td>Austin County</td>\n",
              "      <td>48015</td>\n",
              "      <td>3.367347</td>\n",
              "      <td>2020-09-01</td>\n",
              "      <td>2020-09-07</td>\n",
              "      <td>-3.663265</td>\n",
              "      <td>7.030612</td>\n",
              "      <td>-0.521045</td>\n",
              "    </tr>\n",
              "  </tbody>\n",
              "</table>\n",
              "</div>"
            ],
            "text/plain": [
              "        County Name  fips_x  ...  shift_avg_x percent_newcases\n",
              "6     Austin County   48015  ...          NaN         0.000000\n",
              "211   Austin County   48015  ...     0.000000         0.000000\n",
              "413   Austin County   48015  ...     0.030612        13.333333\n",
              "616   Austin County   48015  ...     0.438776        -0.116279\n",
              "818   Austin County   48015  ...     0.387755        -0.631579\n",
              "1021  Austin County   48015  ...     0.142857         2.285714\n",
              "1224  Austin County   48015  ...     0.469388         0.152174\n",
              "1427  Austin County   48015  ...     0.540816         0.811321\n",
              "1629  Austin County   48015  ...     0.979592         1.645833\n",
              "1831  Austin County   48015  ...     2.591837         0.968504\n",
              "2033  Austin County   48015  ...     5.102041        -0.148000\n",
              "2235  Austin County   48015  ...     4.346939         0.610329\n",
              "2437  Austin County   48015  ...     7.000000         0.004373\n",
              "2639  Austin County   48015  ...     7.030612        -0.521045\n",
              "\n",
              "[14 rows x 8 columns]"
            ]
          },
          "metadata": {
            "tags": []
          },
          "execution_count": 50
        }
      ]
    },
    {
      "cell_type": "markdown",
      "metadata": {
        "id": "xEX0INtY_GMp",
        "colab_type": "text"
      },
      "source": [
        "## 1.2 Labeling data as per % change"
      ]
    },
    {
      "cell_type": "code",
      "metadata": {
        "id": "E3mm5OEW_H99",
        "colab_type": "code",
        "colab": {
          "base_uri": "https://localhost:8080/",
          "height": 297
        },
        "outputId": "e5e1a87a-b87c-416f-8d63-605c91b3c35e"
      },
      "source": [
        "average_newCases_df2.describe()"
      ],
      "execution_count": null,
      "outputs": [
        {
          "output_type": "execute_result",
          "data": {
            "text/html": [
              "<div>\n",
              "<style scoped>\n",
              "    .dataframe tbody tr th:only-of-type {\n",
              "        vertical-align: middle;\n",
              "    }\n",
              "\n",
              "    .dataframe tbody tr th {\n",
              "        vertical-align: top;\n",
              "    }\n",
              "\n",
              "    .dataframe thead th {\n",
              "        text-align: right;\n",
              "    }\n",
              "</style>\n",
              "<table border=\"1\" class=\"dataframe\">\n",
              "  <thead>\n",
              "    <tr style=\"text-align: right;\">\n",
              "      <th></th>\n",
              "      <th>fips_x</th>\n",
              "      <th>average_per_week</th>\n",
              "      <th>diff_avg_x</th>\n",
              "      <th>shift_avg_x</th>\n",
              "      <th>percent_newcases</th>\n",
              "    </tr>\n",
              "  </thead>\n",
              "  <tbody>\n",
              "    <tr>\n",
              "      <th>count</th>\n",
              "      <td>2835.000000</td>\n",
              "      <td>2835.000000</td>\n",
              "      <td>2835.000000</td>\n",
              "      <td>2630.000000</td>\n",
              "      <td>2.835000e+03</td>\n",
              "    </tr>\n",
              "    <tr>\n",
              "      <th>mean</th>\n",
              "      <td>48256.880776</td>\n",
              "      <td>17.067691</td>\n",
              "      <td>1.515264</td>\n",
              "      <td>16.763970</td>\n",
              "      <td>9.531428e+12</td>\n",
              "    </tr>\n",
              "    <tr>\n",
              "      <th>std</th>\n",
              "      <td>151.665163</td>\n",
              "      <td>80.681308</td>\n",
              "      <td>33.513334</td>\n",
              "      <td>80.815555</td>\n",
              "      <td>5.074982e+14</td>\n",
              "    </tr>\n",
              "    <tr>\n",
              "      <th>min</th>\n",
              "      <td>48001.000000</td>\n",
              "      <td>-23.387755</td>\n",
              "      <td>-664.510204</td>\n",
              "      <td>-4.397959</td>\n",
              "      <td>-2.900000e+01</td>\n",
              "    </tr>\n",
              "    <tr>\n",
              "      <th>25%</th>\n",
              "      <td>48121.000000</td>\n",
              "      <td>0.112245</td>\n",
              "      <td>-0.173469</td>\n",
              "      <td>0.095238</td>\n",
              "      <td>-1.818435e-01</td>\n",
              "    </tr>\n",
              "    <tr>\n",
              "      <th>50%</th>\n",
              "      <td>48255.000000</td>\n",
              "      <td>1.142857</td>\n",
              "      <td>0.051020</td>\n",
              "      <td>1.000000</td>\n",
              "      <td>0.000000e+00</td>\n",
              "    </tr>\n",
              "    <tr>\n",
              "      <th>75%</th>\n",
              "      <td>48389.000000</td>\n",
              "      <td>5.770408</td>\n",
              "      <td>0.953061</td>\n",
              "      <td>5.364796</td>\n",
              "      <td>8.738819e-01</td>\n",
              "    </tr>\n",
              "    <tr>\n",
              "      <th>max</th>\n",
              "      <td>48507.000000</td>\n",
              "      <td>1405.377551</td>\n",
              "      <td>647.938776</td>\n",
              "      <td>1405.377551</td>\n",
              "      <td>2.702160e+16</td>\n",
              "    </tr>\n",
              "  </tbody>\n",
              "</table>\n",
              "</div>"
            ],
            "text/plain": [
              "             fips_x  average_per_week  ...  shift_avg_x  percent_newcases\n",
              "count   2835.000000       2835.000000  ...  2630.000000      2.835000e+03\n",
              "mean   48256.880776         17.067691  ...    16.763970      9.531428e+12\n",
              "std      151.665163         80.681308  ...    80.815555      5.074982e+14\n",
              "min    48001.000000        -23.387755  ...    -4.397959     -2.900000e+01\n",
              "25%    48121.000000          0.112245  ...     0.095238     -1.818435e-01\n",
              "50%    48255.000000          1.142857  ...     1.000000      0.000000e+00\n",
              "75%    48389.000000          5.770408  ...     5.364796      8.738819e-01\n",
              "max    48507.000000       1405.377551  ...  1405.377551      2.702160e+16\n",
              "\n",
              "[8 rows x 5 columns]"
            ]
          },
          "metadata": {
            "tags": []
          },
          "execution_count": 51
        }
      ]
    },
    {
      "cell_type": "code",
      "metadata": {
        "id": "uowDA9Vf_KC4",
        "colab_type": "code",
        "colab": {}
      },
      "source": [
        "austin_county = average_newCases_df2[average_newCases_df2['County Name'] == 'Austin County']"
      ],
      "execution_count": null,
      "outputs": []
    },
    {
      "cell_type": "code",
      "metadata": {
        "id": "zFcVThet_PiB",
        "colab_type": "code",
        "colab": {
          "base_uri": "https://localhost:8080/",
          "height": 299
        },
        "outputId": "a1c53c0c-cc0d-4e39-e73c-df8f77c7de34"
      },
      "source": [
        "fig,ax = plt.subplots()\n",
        "# make a plot\n",
        "ax.plot(austin_county.startDate, austin_county['percent_newcases'], color=\"blue\")\n",
        "# set x-axis label\n",
        "ax.set_xlabel(\"Date\",fontsize=14)\n",
        "# set y-axis label\n",
        "ax.set_ylabel(\"percent_newcases\",color=\"blue\",fontsize=14)\n",
        "# ax2=ax.twinx()\n",
        "# make a plot with different y-axis using second axis object\n",
        "# ax2.plot(austin_county.startDate, austin_county[\"percent_newcases\"],color=\"red\")\n",
        "# ax2.set_ylabel(\"New cases\",color=\"blue\",fontsize=14)\n",
        "plt.title(\"'percent_newcases'\")\n",
        "\n",
        "plt.show()"
      ],
      "execution_count": null,
      "outputs": [
        {
          "output_type": "display_data",
          "data": {
            "image/png": "[encoded data removed]",
            "text/plain": [
              "<Figure size 432x288 with 1 Axes>"
            ]
          },
          "metadata": {
            "tags": [],
            "needs_background": "light"
          }
        }
      ]
    },
    {
      "cell_type": "code",
      "metadata": {
        "id": "E55y7_dI_TsW",
        "colab_type": "code",
        "colab": {
          "base_uri": "https://localhost:8080/",
          "height": 54
        },
        "outputId": "c4ff8494-50b5-4b5f-fc37-2ff332235342"
      },
      "source": [
        "data = average_newCases_df2['percent_newcases'].to_list()\n",
        "\n",
        "print(data)"
      ],
      "execution_count": null,
      "outputs": [
        {
          "output_type": "stream",
          "text": [
            "[0.0, 0.0, 0.0, 0.0, 0.0, 0.0, 0.0, 0.0, 0.0, 0.0, 0.0, 0.0, 0.0, 0.0, 0.0, 0.0, 0.0, 0.0, 0.0, 0.0, 0.0, 0.0, 0.0, 0.0, 0.0, 0.0, 0.0, 0.0, 0.0, 0.0, 0.0, 0.0, 0.0, 0.0, 0.0, 0.0, 0.0, 0.0, 0.0, 0.0, 0.0, 0.0, 0.0, 0.0, 0.0, 0.0, 0.0, 0.0, 0.0, 0.0, 0.0, 0.0, 0.0, 0.0, 0.0, 0.0, 0.0, 0.0, 0.0, 0.0, 0.0, 0.0, 0.0, 0.0, 0.0, 0.0, 0.0, 0.0, 0.0, 0.0, 0.0, 0.0, 0.0, 0.0, 0.0, 0.0, 0.0, 0.0, 0.0, 0.0, 0.0, 0.0, 0.0, 0.0, 0.0, 0.0, 0.0, 0.0, 0.0, 0.0, 0.0, 0.0, 0.0, 0.0, 0.0, 0.0, 0.0, 0.0, 0.0, 0.0, 0.0, 0.0, 0.0, 0.0, 0.0, 0.0, 0.0, 0.0, 0.0, 0.0, 0.0, 0.0, 0.0, 0.0, 0.0, 0.0, 0.0, 0.0, 0.0, 0.0, 0.0, 0.0, 0.0, 0.0, 0.0, 0.0, 0.0, 0.0, 0.0, 0.0, 0.0, 0.0, 0.0, 0.0, 0.0, 0.0, 0.0, 0.0, 0.0, 0.0, 0.0, 0.0, 0.0, 0.0, 0.0, 0.0, 0.0, 0.0, 0.0, 0.0, 0.0, 0.0, 0.0, 0.0, 0.0, 0.0, 0.0, 0.0, 0.0, 0.0, 0.0, 0.0, 0.0, 0.0, 0.0, 0.0, 0.0, 0.0, 0.0, 0.0, 0.0, 0.0, 0.0, 0.0, 0.0, 0.0, 0.0, 0.0, 0.0, 0.0, 0.0, 0.0, 0.0, 0.0, 0.0, 0.0, 0.0, 0.0, 0.0, 0.0, 0.0, 0.0, 0.0, 0.0, 0.0, 0.0, 0.0, 0.0, 0.0, 0.0, 0.0, 0.0, 0.0, 0.0, 0.0, 0.0, 0.0, 0.0, 0.0, 0.0, 0.0, 0.0, 0.0, 0.0, 0.0, 0.0, 133.99999999999997, 185.66666666666666, 0.0, 0.0, 0.0, 110.50000000000004, 0.0, 0.0, 0.0, 0.0, 0.0, 0.0, 0.0, 0.0, 0.0, 0.0, 0.0, 0.0, 0.0, 0.0, 0.0, 0.0, 0.0, 0.0, 19.19047619047619, 0.0, 0.0, 0.0, 0.0, 0.0, 0.0, 0.0, 0.0, 0.0, 80.3181818181818, 0.0, 0.0, 0.0, 0.0, 0.0, 0.0, 0.0, 0.0, 0.0, 134.0, 0.0, 0.0, 0.0, 0.0, 0.0, 7.4782608695652195, 0.0, 0.0, 0.0, 0.0, 196.00000000000003, 0.0, 0.0, 0.0, 0.0, 0.0, 0.24999999999999994, 0.0, 0.0, 0.0, 0.0, 0.0, 0.0, 25.97916666666666, 0.0, 0.0, 0.0, 0.0, 0.0, 0.0, 0.0, 0.0, 0.0, 0.0, 0.0, 0.0, 0.0, 0.0, 0.0, 0.0, 0.0, 0.0, 0.0, 0.0, 0.0, 0.0, 0.0, 0.0, 0.0, 0.0, 0.0, 0.0, 0.0, 0.0, 6.999999999999999, 0.0, 0.0, 0.0, 0.0, 0.0, 0.0, 0.0, 0.0, 0.0, 0.0, 0.0, 0.0, 0.0, 0.0, 0.0, 0.0, 0.0, 0.0, 0.0, 17.75, 0.0, 0.0, 0.0, 0.0, 0.0, 0.0, 0.0, 0.0, 0.0, 0.0, 0.0, 0.0, 0.0, 0.0, 0.0, 0.0, 0.0, 0.0, 0.0, 0.0, 0.0, 0.0, 0.0, 0.0, 0.0, 0.0, 0.0, 0.0, 0.0, 0.0, 0.0, 0.0, 18.833333333333332, 0.0, 0.0, 0.0, 0.0, 0.0, 73.87500000000001, 0.0, 0.0, 0.0, 0.0, 154.60000000000002, 0.0, 0.0, 0.0, 0.0, 0.0, 0.0, 0.0, 0.0, 0.0, 0.0, 0.0, 0.0, 0.0, 0.0, 0.0, 0.0, 0.0, 0.0, 0.0, 0.0, 0.0, 0.0, 0.0, 0.0, 0.0, 0.0, 0.0, 0.0, 62.00000000000001, 22.749999999999993, 0.0, 0.0, 0.42857142857142877, 13.333333333333332, 0.0, 0.0, 10.0, 0.0, 1.9185185185185187, 4.4, 2.000000000000001, 0.0, 13.000000000000002, 3.6233183856502227, 2.6937499999999996, 0.0, 0.0, 0.941176470588235, 28.999999999999996, 3.000000000000001, 31.999999999999993, 6.800000000000002, 0.0, 11.065573770491804, 0.0, 0.0, 3.4000000000000004, 9.636363636363638, 18.999999999999996, 0.0, 0.0, 0.0, 3.7311320754716975, 0.0, 2.7441860465116275, 17.0, 0.0, 23.5, 0.8666666666666668, 0.0, 0.0, 0.0, 3.278367803242036, 10.25, 2.0769230769230784, 2.7000000000000006, 0.0, 3.18181818181818, 0.0, 0.0, 0.0, -0.3846153846153846, 227.99999999999997, 6.874074074074076, 4.346938775510205, 11.333333333333345, -0.8333333333333333, 1.4285714285714284, 7.142857142857147, 4.956410256410256, 0.0, 0.0, 0.0, -0.8333333333333333, 7.944162436548225, 0.0, 0.0, 0.0, 0.0, 6.583333333333338, 17.1, 0.35714285714285726, 5.777777777777781, 12.250000000000004, 0.0, 0.0, 10.5, 11.518918918918917, 22.66666666666666, 5.161764705882354, 0.0, 15.490196078431373, 0.0, 0.3333333333333334, 10.333333333333337, 3.6000000000000028, 0.0, 0.0, 12.000000000000004, 0.0, 0.0, 11.000000000000002, 0.0, 9.541666666666668, 0.0, 0.0, 4.653846153846154, 0.0, 2.6666666666666665, 12.750000000000004, 1.8823529411764721, 0.0, 0.0, 11.999999999999996, 0.0, 4.714285714285715, 1.4999999999999996, 0.0, 0.5000000000000002, 0.0, 0.0, 7.666666666666669, 9.25, 0.0, 0.5000000000000002, 9.491803278688526, 0.0, 0.0, 2.333333333333333, 4.468085106382978, 5.5, 0.0, 0.3885714285714291, 2.727272727272728, 4.000000000000001, 0.8461538461538469, 0.0, 1.999999999999999, 4.3022222222222215, 0.0, 1.0, 39.75000000000001, 23.499999999999996, 0.0, 0.0, 4.408450704225353, 0.0, 30.000000000000007, 0.0, 0.0, 3.1818181818181817, 0.0, 0.0, 54.0, 18.647058823529413, 0.0, 17.625, 0.0, 0.3333333333333332, 0.0, 0.0, 10.000000000000002, 0.0, 6.454545454545454, 0.0, 0.0, 14.999999999999996, 3.2857142857142865, 0.0, 0.0, 45.33333333333334, 2.4537815126050417, 0.0, 7.600000000000003, 0.0, 0.0, 6.999999999999999, 4.701168614357262, 47.83333333333333, 0.666666666666667, 0.0, 15.636363636363642, 3.097686375321336, 0.0, 0.0, 33.00000000000001, 0.0, 17.000000000000007, 2.7999999999999994, 5.142857142857145, 24.066666666666677, 6.083333333333332, 24.0, 0.0, 17.888888888888896, 10.750000000000004, 6.200000000000002, 0.0, 2.942857142857142, 0.0, 16.500000000000004, 2.1038961038961044, 9.199999999999998, 0.0, 0.0, 0.0, -2.0, 3.2499999999999996, 0.0, 0.0, 5.35714285714286, 0.09523809523809516, 0.28421052631578964, -0.8333333333333333, 0.0, 2.0999999999999996, -0.11627906976744151, 0.0, 3.0, 1.2636363636363648, 5.800000000000001, 0.31979695431472155, 0.50297619047619, -0.1666666666666667, 0.0, 1.1785714285714277, 0.2909796314258003, -0.19627749576988143, 0.0, 0.0, 0.7272727272727273, 0.3666666666666675, 0.7499999999999997, -0.21212121212121207, -0.05128205128205091, -0.6, 1.0774456521739135, 1.2909090909090921, 0.0, 1.8181818181818172, 0.0, 0.21367521367521403, -0.09999999999999973, 0.0, 0.09999999999999985, 0.0, -0.13459621136590208, 0.06250000000000093, -0.26708074534161463, -0.5000000000000001, 12.0, 4.520408163265308, 0.0, 0.0, 3.3333333333333344, 0.21034753070290027, 0.33333333333333376, 0.14999999999999988, 0.9729729729729732, 1.4999999999999996, -0.1456984273820539, 4.999999999999998, 0.0, 0.0, -1.0, -0.07423580786026168, 1.9567262464722481, 0.6259541984732825, -0.8513513513513514, 0.0, 2.1764705882352953, -0.28070175438596506, 0.3103745157124411, -1.0, 0.0, 0.75, 5.999999999999999, -0.15039727582292867, -1.3, 0.6851851851851849, 1.5000000000000007, 0.6760563380281693, -0.6043956043956046, 0.08839779005524884, 1.4210526315789476, -0.3565573770491807, 0.11320754716981082, 1.4999999999999996, 0.0, 0.6086956521739139, 0.14822353811991115, 3.816901408450704, 0.0739856801909308, 1.710526315789474, 0.24019024970273442, 0.13953488372093031, 0.11363636363636365, -0.3382352941176471, -1.0, 0.0, 3.666666666666666, 1.2461538461538464, 2.2857142857142856, 7.0000000000000036, -0.41666666666666685, 1.2500000000000002, 0.9011857707509883, -0.8571428571428571, 0.34693877551020413, 5.000000000000001, -0.36363636363636365, 1.481818181818182, -0.22448979591836732, 0.35714285714285765, 0.0, 1.6923076923076934, 0.0, -0.8250000000000001, 0.4, -1.0, -0.08333333333333344, -1.0, 0.1874999999999999, 1.1153846153846152, -0.21951219512195097, -0.5238095238095238, -0.9166666666666666, 0.4218750000000003, 2.6666666666666665, 0.0, -0.9, -0.7315175097276263, 0.5128205128205134, 0.9999999999999996, -0.43621399176954734, 0.6341463414634153, 0.47878787878787865, 0.8333333333333334, -0.6, 4.499999999999999, 0.47108130762782924, 11.011627906976747, 2.208333333333333, 2.4969325153374218, 1.5102040816326536, -1.0, 0.0, -0.5234374999999999, 0.0, 0.24731182795698906, 0.5789473684210532, 7.760869565217392, 1.1521739130434792, 0.0, 5.166666666666667, 0.09090909090909102, 2.2095808383233533, 2.6666666666666665, 0.8187919463087245, 0.0, 0.0, 0.75, 0.0, -1.0, 1.6477272727272727, 0.0, 0.40243902439024404, 0.0, 0.9351851851851855, 2.3125000000000004, 0.13333333333333405, 0.0, 1.949640287769784, -0.12895377128953742, 0.0, -0.9767441860465116, 7.666666666666664, 0.0, 0.3124999999999999, 1.0038067349926794, 2.24914675767918, 0.2, 2.045454545454545, -0.46994535519125713, 0.5363864491844416, 1.2352941176470578, 0.10000000000000013, 0.3823529411764708, 0.0, -0.888888888888889, -0.05263157894736835, -0.06976744186046506, -0.11170212765957452, 8.964705882352943, 0.4400000000000002, 0.0, 0.9411764705882346, 0.24972004479283286, 0.18518518518518476, 0.0, -0.7210144927536233, 0.0, 0.028571428571428286, 0.20292887029288711, 1.2549019607843148, 8.5, 1.8333333333333337, -0.2962962962962958, 0.0, -0.5882352941176471, 3.975308641975308, 0.0, 0.9325842696629203, -0.7971014492753624, 2.213114754098361, -1.0, 0.0, -0.17741935483870955, -0.6315789473684212, 0.0, -0.5000000000000001, 0.397590361445783, -0.911764705882353, -0.16346153846153857, -0.15797579757975763, -0.8, -0.3000000000000001, -0.7377049180327867, 0.15852742299023298, -0.13263157894736868, 0.0, -0.6, 1.7543859649122804, -0.2926829268292688, 0.6530612244897968, 3.0000000000000018, 0.0945945945945945, 9.999999999999998, -0.3714846304774363, -1.0, 1.0, -0.5161290322580645, 0.0, -0.6056338028169016, 0.6111111111111107, -1.0, -1.0, 6.199999999999998, -0.02073732718893999, -0.32352941176470645, -0.07627118644067832, -1.7777777777777777, 0.8076923076923077, 0.31238447319778195, -0.1428571428571427, 0.0, 0.0, 0.9999999999999991, 0.7835708117443868, 0.4833333333333332, -0.8695652173913044, 1.575342465753426, -1.0, -0.21927449918787179, -1.0, -1.0, -1.0, 0.0, -0.1273584905660376, 0.11040407254215734, 0.2394366197183091, -0.7272727272727271, 31.00000000000001, 0.2777777777777777, -0.19512195121951217, -0.027595269382392058, 0.0, 0.3333333333333334, 18.57142857142858, -0.14285714285714296, -0.23313293253173017, 0.0, -0.8714285714285713, 7.479999999999999, 1.6050420168067223, 8.194444444444448, 0.8071065989847718, 1.956521739130435, 0.18471337579617866, 1.05084745762712, -0.8799999999999999, 0.0, -0.564864864864865, -0.20827289820037614, 1.1198830409356733, -0.3088888888888888, -0.03883495145631072, -0.46212847555129427, -0.2653061224489793, -0.7346938775510204, -0.4000000000000001, 0.0, 0.16129032258064538, 0.5714285714285714, -0.17123287671232887, 0.45652173913043503, -0.9583333333333333, 3.1428571428571432, -0.3968253968253971, -0.1278586278586281, 9.999999999999998, 0.5707070707070709, 11.999999999999998, -1.0, 0.2124542124542123, -0.473684210526316, -0.26315789473684237, 0.0, -0.3714285714285712, -0.7142857142857143, 66.42857142857144, 1.857142857142858, 0.0, -0.09090909090909091, 0.0, 0.0, -0.3393939393939393, -0.4687500000000002, -0.6, -1.0, -0.6098901098901098, -0.9999999999999999, 0.8300000000000003, 4.999999999999998, -0.31884057971014523, 0.4915254237288132, -1.0, -0.32116788321167883, -0.4477611940298507, -0.11065573770491802, -0.04545454545454537, -1.0, -0.42424242424242387, -0.10256410256410246, 0.9545014520813164, -0.9454545454545454, 0.07192982456140368, -0.48780487804878053, 0.0, 2.6666666666666665, 0.05464480874316933, 126.79999999999998, -0.418103448275862, -0.6000000000000002, 0.4888337468982631, 0.4242424242424242, 7.212500000000003, 0.40540540540540543, 0.6499999999999998, 3.959888059701492, -1.0, 1.5000000000000002, 0.0, -0.3999999999999998, 2.857142857142858, 0.0, 0.0, 0.4635193133047202, 0.0, -0.43478260869565205, -0.5499999999999999, -0.3210526315789475, -0.9811320754716981, 0.14705882352941138, -1.0, 0.021951219512195225, -0.32402234636871513, 0.0, 31.0, -1.0, 0.0, 0.13333333333333341, 0.34253982171562125, -0.32037815126050356, -0.5666666666666669, 0.41791044776119424, 1.9484536082474242, 0.011024908125765388, -0.6052631578947367, -0.7272727272727273, -0.3404255319148938, 0.0, -0.4999999999999999, -0.8055555555555556, -0.20000000000000007, -0.12275449101796417, 0.5430932703659977, -0.38888888888888906, 0.0, 0.5363636363636373, -0.37903225806451624, -0.7578124999999999, 4.461538461538461, -0.18181818181818185, -0.2857142857142857, -0.3888888888888886, 1.1304347826086947, -0.41739130434782645, -1.0, 0.5441176470588241, 0.9473684210526304, -0.14285714285714296, -1.0, -0.7387096774193548, -0.64, -0.0988372093023254, -0.35714285714285715, 0.3086734693877553, 0.0, 0.0, 0.705882352941177, 2.2857142857142856, 2.571428571428571, -1.0, 0.07758620689655159, 2.333333333333333, -0.002298850574712921, 0.060621897047295745, 1.0, -0.42857142857142855, 6.375000000000002, -0.08430609597924787, 1.1262135922330105, -1.0, -1.0, -0.2738853503184709, 0.344827586206897, -0.6543209876543211, 0.11538461538461527, -0.8271604938271606, 0.2272727272727277, 0.3943808532778354, 0.0, 0.2857142857142857, -0.10000000000000013, 0.3181818181818179, 0.303571428571429, 1.5172413793103459, 0.0, 0.0, -0.375, -0.01529411764705903, 0.8695652173913047, -0.10091743119266058, 0.0, -0.6595744680851063, -0.6816901408450703, -1.0, 0.0, 0.0, 0.34615384615384676, 0.335048114749138, -0.25842696629213535, 1.3333333333333335, 2.5425531914893598, 0.0, 0.41262135922330095, 0.0, 0.0, 0.0, 0.0, 0.4054054054054055, 0.7871060171919766, -0.005681818181817387, 2.666666666666664, -0.9375, -0.3188405797101451, 1.3636363636363638, -0.17466216216216213, 2.166666666666667, -0.8928571428571429, -0.28467153284671587, 2.5000000000000018, -0.6393728222996514, -0.7142857142857144, -1.0, 0.7594339622641506, -0.47419354838709676, 2.462235649546827, 0.3735955056179771, 1.7647058823529407, -0.06451612903225779, -0.09090909090909126, 2.6666666666666665, 0.0, -0.5403726708074533, 0.36368571040846864, -0.5489655172413793, 0.28295819935691335, 0.15151515151515133, 0.26559714795008926, -0.08333333333333372, 2.307692307692308, -0.5185185185185187, 0.6315789473684209, 12.916666666666668, -0.8636363636363635, -0.07438016528925602, 0.17910447761194034, -1.0, -0.7931034482758621, 0.3684210526315792, -0.029797377830750763, 3.709154195906774e-16, 0.028938906752411432, -0.476190476190476, 0.0, 0.30513595166163177, 1.0, 1.3571428571428592, 0.3333333333333332, 0.27272727272727243, 8.5, -0.28177966101694935, 1.3499999999999992, -0.5, 0.5000000000000001, 2.7500000000000013, -0.5263157894736843, 0.7522935779816508, 0.882352941176471, 4.500000000000001, 0.0, -0.3521126760563382, 2.7021597764222984e+16, -1.0, -0.8333333333333333, -0.6808510638297874, 4.306818181818185, 0.0, -0.3655913978494624, 6.567567567567566, -0.11981566820276471, 0.2857142857142851, 0.0, -0.8421052631578947, -0.16761904761904795, -0.6067360079247152, 22.636363636363633, -0.42716857610474634, -0.3174603174603173, 0.33333333333333315, -1.0, 3.823834196891193, -0.2042253521126755, -0.5037037037037037, -0.4166666666666666, -0.6416666666666668, 0.09929078014184423, 0.5890410958904104, 0.3653846153846157, 0.41414141414141453, 0.5990220048899753, 0.0, 0.5483394833948336, 0.0, 51.750000000000014, -0.7037037037037037, 1.0, -0.11111111111111137, 1.0210144883356283e-15, -1.0, -0.6615384615384616, 4.333333333333334, -0.11627906976744148, 17.0, 1.0512820512820513, 0.0, -0.33412887828162313, -0.09090909090909091, 0.0, 1.3437500000000007, 0.0, 0.0, 0.4705882352941178, 0.39087841515184557, -1.5239567233384852, -0.4615384615384615, 10.810526315789474, -0.8461538461538461, -0.09228594507269776, -0.4000000000000001, 2.666666666666668, -0.5806451612903227, 0.0, -2.0, -0.5714285714285714, 0.49999999999999983, -0.7269624573378841, -0.16449885233358852, -0.09090909090909054, 0.0, -0.5542406311637083, -0.15151515151515116, 1.7548686518268605e-16, -0.6877934272300468, 0.19047619047619085, 4.8, -0.6818181818181821, -0.03510204081632595, -0.6417910447761193, 0.0, -0.20952380952380978, 0.8378378378378388, 0.0, 0.0, -0.6666666666666667, 26.0, 0.019354838709677934, 2.6666666666666674, -0.033138401559454286, -0.6874999999999999, -0.49999999999999994, -0.4942528735632187, 0.15217391304347835, 1.2400000000000009, 0.0, 0.6106666666666665, 5.400000000000001, 1.47926267281106, 0.2414387780241429, 3.833333333333335, -0.125, 0.7169491525423723, -0.18838526912181291, 0.4977168949771686, 0.0, 0.0, -0.692982456140351, 0.6410256410256406, 4.035714285714285, 0.9827586206896549, -0.5, -0.5555555555555557, -0.12537313432835817, 1.2653061224489792, -0.8333333333333333, 1.4814814814814814, -0.7758620689655172, 0.5753424657534246, -0.5479452054794524, 0.0, 0.0, 1.1999999999999997, 0.32676224611708543, -0.20930232558139483, 1.5918367346938782, 1.7058823529411782, 1.6250000000000002, 0.9513274336283181, 0.0, 0.0, 0.0, -0.514285714285714, -0.028423772609819348, -0.40909090909090867, -0.7142857142857143, -0.6606606606606605, 0.0, 0.052528227785959766, 0.0, 0.0, -2.0, -0.07142857142857152, 0.3923076923076915, 0.24835658168991542, 0.33142857142857135, 3.454545454545457, 13.999999999999998, 0.9574468085106387, -0.435897435897436, 0.11625051166598425, 0.8157894736842106, 6.000000000000003, -0.6224489795918365, -0.47619047619047644, 2.1497584541062786, -0.8333333333333333, 0.0, 0.06434316353887432, -0.6687116564417178, -0.19633507853403173, 0.04089979550102263, 1.723404255319149, 0.10344827586206867, -0.34545454545454557, 0.09090909090909079, 16.230769230769226, 0.770270270270269, 0.1942979400935412, -0.12232415902140711, 1.3884711779448624, -0.10526315789473659, 0.8239436619718308, -0.30303030303030304, -0.8372093023255814, 2.538461538461538, 2.838709677419355, -0.15768463073852287, 6.000000000000002, 1.2767857142857135, 0.1518987341772148, 0.0, 0.9166666666666679, -0.5192307692307687, 0.19533169533169542, 0.09090909090909038, 0.11562500000000066, 11.398601398601397, -0.8333333333333333, 0.3796296296296303, 0.4750000000000002, 0.8181818181818168, -1.0, -0.1428571428571431, -1.0, -0.4100294985250736, -0.27659574468085135, -0.5, 3.133333333333334, 3.133333333333331, 0.2222222222222222, -0.24083769633507832, 1.5937499999999996, -0.7272727272727274, 0.0, 0.2826086956521742, -0.7857142857142858, 0.0, -1.0, 1.466666666666667, -0.5952890792291221, 0.0, 1.8305084745762703, 0.8321428571428571, -0.1413612565445029, -0.25925925925925913, 0.0, -1.0, -0.15255530129671954, 1.3828715365239297, 2.3846153846153846, 0.08571428571428677, 2.6744186046511627, -1.0, 0.0, -0.7518796992481204, -0.6017699115044249, 0.07462686567164203, 2.2857142857142856, -0.06511627906976683, -0.019354838709677927, -0.01724137931034477, 6.873239436619718, -0.5142857142857143, -0.6803105151729005, 1.25, -0.6906577693040991, 0.0, -0.6066350710900474, -0.5, -1.0, 1.8124999999999993, -0.11143695014662833, 0.0, 4.818181818181818, -2.42861286636753e-16, 0.7368421052631574, 0.2777777777777778, -0.10000000000000009, 0.0, -0.19354838709677374, -0.2454545454545455, 0.0, 1.2933333333333328, 1.0, 0.0, -0.4800000000000001, -0.359054625136954, 0.0, -0.8571428571428571, 1.2825311942959006, 2.25, 0.4244716351501669, 4.666666666666667, 0.3181818181818179, 5.153846153846158, 0.0, 0.0, 19.333333333333332, 0.8333333333333331, -0.11249999999999966, 7.411172161172161, 1.5833333333333333, 4.999999999999998, -0.3982300884955753, -0.03571428571428573, 5.096774193548385, -0.9097744360902257, -0.5333333333333334, -0.7241379310344828, 12.714285714285719, -0.16666666666666685, 0.583333333333333, 0.0, -0.13253012048192772, 1.161764705882352, -0.6666666666666665, 0.0, 3.333333333333333, -0.7407407407407408, 34.01265822784808, 1.0909090909090906, 0.852822580645161, 1.7999999999999994, 2.9999999999999996, 1.7727272727272736, 0.8113207547169813, 3.1607142857142856, 0.0, 0.12913907284768217, 0.8593749999999997, 1.1198884758364311, 2.5671760269894834, -0.2068965517241382, -0.14285714285714265, -0.41164856860809457, 2.99825479930192, 1.759146341463415, 0.0, 0.0, -0.48571428571428593, 1.5624999999999998, 0.3475177304964539, 2.6826086956521733, 12.0, 0.9166666666666679, 2.198805460750854, -0.5675675675675677, -1.0, -0.46268656716417855, 4.923076923076925, 2.991304347826086, 0.6212121212121218, 0.0, -0.8333333333333333, -0.7272727272727273, 0.9383160738406113, 3.882352941176468, 2.145669291338582, -0.6956521739130436, 0.23809523809523767, -0.7233560090702947, 0.37234042553191493, 6.75, 0.0, 3.02941176470588, 0.4762504665920122, -0.8717948717948718, 29.0, 0.8230088495575227, 5.249999999999999, 0.6935634328358211, 0.0, 0.0, -0.923076923076923, 1.3480662983425415, -0.029411764705882637, 0.31616595135908376, 1.918367346938776, 1.5000000000000002, 0.5869565217391299, 1.8181818181818192, 0.8562522918958573, 0.26086956521739163, 1.5714285714285703, 12.21621621621622, 3.1818181818181808, 2.5628834355828216, 59.00000000000001, 0.0, -0.13098236775818656, 0.27777777777777724, -0.05428881650379999, -0.30844793713163043, -0.5849609375, 3.09375, 5.055555555555555, 4.250000000000001, -0.36160714285714285, 0.18320610687022965, 0.7232845894263222, -0.5993031358885017, 6.280167890870932, 0.8235294117647057, 3.125096525096525, 4.782608695652176, 0.9999999999999996, -0.13043478260869562, 0.1008403361344541, -0.8981042654028436, 4.285714285714285, 2.4039215686274504, -0.6373626373626373, 0.0, 0.2608695652173907, 0.27999999999999897, 4.409044193216855, 2.2499999999999996, 0.1288515406162458, -1.0022560631697688, 42.00000000000001, 0.18624161073825404, 0.0338983050847458, -0.14999999999999983, 0.0, 0.8750000000000003, 0.0, 0.38499999999999995, 1.2352941176470604, 4.714285714285716, 2.6774193548387095, 0.16129032258064538, 1.0000000000000002, 2.262068965517242, -0.08433734939759034, 1.0, 0.0, 3.6999999999999984, 11.444444444444446, 1.6363636363636371, 0.0, 4.486486486486488, 2.19047619047619, 0.0, 4.305389221556888, 0.3957115009746584, 4.731707317073169, 2.65, 0.0, 0.0, 1.8208820882088206, -0.8937632135306555, -0.8624999999999999, -0.2763157894736849, 1.1202531645569602, 0.0, -0.6764705882352939, 5.238095238095237, -0.5333333333333333, 2.013888888888888, -0.6956521739130435, -1.0099502487562189, 0.6184210526315783, 2.3771929824561404, -0.8980322003577818, 0.33823529411764625, -0.39698307579102265, 1.3333333333333337, -0.4375963020030817, -1.0, 0.20481927710843356, 10.250000000000005, 0.0, 0.5111111111111114, 0.5841584158415847, -1.0, 8.984375000000002, -0.9375, 2.0303030303030303, 0.9130434782608704, 1.4999999999999998, -1.0, -0.013333333333333586, 3.253012048192772, 0.0, 6.8023255813953485, -1.0, 0.0, 1.5384615384615388, 1.0786324786324784, 0.38059701492537296, 3.999999999999999, -0.5298711440843422, 4.048951048951048, 0.8406996720287362, -0.6666666666666666, -0.6206896551724138, 0.07500000000000019, 0.0, 0.3717948717948718, 2.540983606557378, 0.3068181818181818, 5.014084507042255, -0.9176918889493739, 0.664516129032258, 6.500000000000003, -0.058823529411764615, 2.1463844797178133, 0.36507936507936517, 1.999999999999999, 11.228571428571424, -1.0, 2.500000000000001, 2.712690355329949, 2.6578947368421053, 0.0, 0.0, 0.14965986394557843, 29.000000000000007, 8.125000000000002, 5.461538461538464, -0.8571428571428571, -0.7612075198843095, 4.536231884057974, 0.22415669205658362, 11.071428571428575, 0.8333333333333336, 2.6967213114754087, 1.6458333333333344, 0.021459227467811485, 1.184210526315791, 0.29472140762463345, 0.4873949579831936, 1.0469092503288022, 1.9684005563282327, 3.6521739130434803, 7.833333333333334, -0.3590604026845641, 0.3930597992143169, 1.2897790055248615, 4.19745222929936, 0.7857142857142863, 10.444444444444448, 0.3902439024390246, 1.5684210526315787, 0.6540731995277453, 2.186813186813186, 0.4782608695652174, 1.249666577754068, -0.4722222222222221, 0.0, 0.6944444444444431, 2.2597402597402594, 1.9738562091503278, 6.813084112149532, -0.48412698412698413, 11.000000000000002, -1.0, 0.9328687572590015, 1.162650602409638, 2.4005006257822297, 10.500000000000002, 2.5961538461538467, 0.631147540983606, 0.054263565891472965, 0.5161290322580647, 4.999999999999999, 1.1751824817518257, 0.7316286861152373, 22.400000000000006, 1.808333333333333, 0.725728155339806, 1.1333333333333335, 1.0881299917378136, 8.5, 0.0, 23.999999999999996, 2.0105882352941196, 1.2335582903268494, 2.5228260869565236, 5.979020979020975, 0.04000000000000005, 0.9246575342465764, 1.379032258064516, 0.6866851047016986, 0.3333333333333334, 0.8333333333333337, 0.6094069529652344, 0.5217391304347835, 2.205983641842445, 2.4499999999999997, 0.0, 0.9594202898550719, -0.36231884057971003, -0.0229621125143509, 0.8437499999999992, 3.1882352941176477, 3.6844783715012714, 3.6467889908256885, -0.5079365079365078, -0.31468531468531474, 3.141935483870968, 1.5351029881055984, 2.626086956521741, 0.6194868838281926, 1.2580645161290318, 2.9825907899663058, 0.5187969924812028, 13.642857142857144, 9.450000000000005, 0.06870229007633553, 2.0697674418604644, 0.08108108108108088, 1.089861751152075, 3.1212121212121215, 0.0, 5.172413793103448, 3.9687500000000018, 0.24681740452213577, 12.474358974358982, 3.481389578163771, 0.0, 5.2325581395348815, 2.41725601131542, 3.19672131147541, 9.019607843137253, 0.0, 7.800000000000001, 5.285714285714289, 1.9675090252707577, 0.7236842105263154, -0.07500000000000048, 2.4868421052631575, 0.0625, 5.5, 1.964059196617335, 0.5263157894736842, 12.250000000000002, 1.1764705882352957, 2.4161557879552826, -0.15178571428571447, 0.31034482758620663, 4.666666666666669, 3.798029556650247, 1.804311774461029, 7.8, 7.1659142212189595, -0.541899441340782, 2.418085106382981, 0.7739726027397252, 6.571428571428573, 4.249999999999999, 0.8634333120612626, -0.3233830845771146, 2.553719008264463, 1.1818181818181825, 2.152238805970152, 7.333333333333332, 19.636363636363633, 12.154059680777236, -1.0, 3.8571428571428577, 15.42857142857143, 0.0, 4.674796747967484, 0.0935064935064935, 1.1754385964912286, 5.098901098901101, -0.5509456985967055, 1.047619047619048, 1.4438356164383555, 0.0, -0.09999999999999996, 3.222222222222221, 3.809523809523806, 2.161764705882353, 0.8291666666666659, 0.0, -0.8098591549295774, 23.0, 0.22000000000000033, 3.3409090909090886, 3.316666666666667, 0.0, 0.24774774774774688, 2.611898016997166, 1.0952380952380945, 1.7444113263785388, 0.0, 12.192307692307695, 0.848484848484849, 1.0680216165413527, 6.194594594594594, 16.600000000000005, -0.38953488372093015, 1.9141274238227155, 2.0983370100118792, 7.352941176470593, 5.636363636363637, 0.7790697674418597, 2.857142857142857, 4.42056074766355, 5.833333333333335, 1.8434782608695663, 9.201405152224828, 0.5171957671957664, 0.7325581395348831, 1.1777777777777767, 2.2578125, 2.369955156950672, 2.0116279069767447, 1.5000000000000004, 3.1355140186915897, 0.0, 1.4702380952380953, 1.506972928630025, 1.7338129496402894, 8.187500000000002, 5.01388888888889, 0.08284023668639023, 1.3499999999999994, 0.43835616438356234, 0.7976190476190472, 24.499999999999996, 3.8660105980317963, 0.6387434554973813, 1.6151111111111098, 0.9408284023668635, 0.36363636363636365, 2.037694013303771, 0.9685039370078733, -0.48319327731092465, 0.97590361445783, 2.644394110985277, 4.3502824858757085, 0.6410366245448713, 0.7793354199074167, 1.3457943925233646, 4.150943396226417, 1.3821989528795822, 0.9785367382108723, -0.15792013511883177, -0.8345588235294117, 11.519999999999994, 4.708737864077668, 1.7105263157894737, 1.2561475409836071, 0.9857244825124913, 1.465517241379311, 1.5882352941176463, 1.1568650699549432, 1.5131578947368427, 3.6000000000000014, 3.081967213114755, -0.05179282868525866, 0.6512820512820515, 1.2607655502392339, -0.8461538461538461, 2.124999999999999, 0.0, 0.5471698113207543, 0.7103064066852374, 0.4755244755244745, 4.248447204968945, 1.2085561497326198, 2.2110552763819094, -0.5036764705882355, 8.574468085106384, 1.833333333333334, 0.14765100671140907, 0.9096135944658407, 1.350427350427351, 2.510385756676558, -0.016877637130802495, -0.43750000000000006, 0.4245581640728036, 2.1842105263157907, 0.263888888888889, 2.880000000000001, 1.6014067995310666, 0.7615380058060313, 1.0212897253933966, -0.05110220440881737, 1.7820512820512822, 0.38078291814946597, 1.532203389830509, 0.266455844460061, 0.07758620689655152, 3.0606060606060606, 0.1473951715374847, 1.8142857142857152, 0.415105740181269, 0.7004830917874402, 3.578947368421052, 0.14201183431952738, 1.9772727272727273, 0.6733254994124559, 4.97226502311248, -0.3955056179775282, -0.2042368278109723, 0.5671273445212242, 3.161290322580644, 0.012987012987012912, 1.637071651090344, 0.22530563979325208, 1.654676258992806, -0.4678711285154861, 2.4261904761904773, 0.9330199764982372, 2.900990099009901, 1.1170731707317079, 1.4282296650717705, 1.3571428571428574, 0.8181818181818183, 1.4000000000000012, 0.1929437706725465, 0.014705882352941194, -0.6599999999999999, 2.1564245810055866, 0.44654088050314394, 0.8983541603169761, 0.34633682207421507, 0.6926910299003332, 0.0, 0.8059701492537319, 0.363824503311258, -0.07421875000000029, 0.7260273972602739, -0.062499999999999736, 1.7626262626262623, 12.19318181818181, 0.13746958637469597, 2.2519083969465656, 3.6756756756756785, 1.1018867924528302, 1.0065359477124183, 2.769230769230769, 0.19329529243937196, 2.3706896551724133, 1.5094339622641506, 7.459459459459459, 0.25081811464161324, 8.505263157894742, 5.526315789473685, 0.0352941176470586, 0.3408624229979463, 1.2489651094027197, -0.09090909090909054, 0.7531444367657233, 2.353658536585366, 0.31310301898537124, 1.9034749034749052, 1.4339622641509424, 0.44444444444444436, 1.5982876712328773, 0.8308823529411774, 1.8906976744186048, 1.5999999999999988, 0.7623106060606051, 1.72, 0.20264317180616814, 0.7622790820364019, 0.0, 1.2817836812144203, 2.1130434782608707, 5.629629629629632, 0.7700573065902578, -0.32779097387173384, 0.6774193548387093, 2.1495495495495502, 0.9211956521739127, 0.5813953488372087, 1.3699551569506725, 2.98148148148148, -0.08888888888888875, 0.6684210526315782, 2.396039603960395, 1.7162790697674417, 0.10592255125284752, 0.6842105263157899, -1.3991769547325101, 0.8749999999999998, -0.442622950819672, 1.5863874345549747, 0.8095238095238104, 15.694656488549613, -0.12996389891696727, 1.6403921568627446, 2.8181818181818183, -0.03828400760249759, 1.5789473684210518, 2.221574344023323, 1.7704918032786876, 0.4290177810600471, 1.1157024793388426, 1.761363636363637, 1.0326530612244909, 1.9035171102661599, 0.20976531478489477, 1.5211267605633805, 0.9863013698630144, 1.4248366013071903, 0.6296296296296301, 1.1431034482758626, 1.6686991869918686, 1.773700305810397, 0.924012855831038, 1.960767218831735, 0.7449664429530203, 1.8571428571428579, 0.5299760191846513, 1.128243512974052, 0.5135135135135136, 2.0000000000000004, 0.1288135593220337, 1.5714285714285707, 1.0746987951807228, 0.5533376963350781, 1.957894736842104, 0.1836734693877557, 0.48498845265588914, 1.7377049180327881, -0.08510638297872304, 1.4857142857142844, 0.6490066225165563, 3.666666666666669, -0.7573117610454265, -0.2188498402555908, 0.5628823929299809, 0.49695121951219556, -0.43333333333333335, -0.5649635036496351, -0.14799999999999994, 0.5203252032520331, 0.49390243902439024, -0.21783716594157856, 1.2671594508975708, -0.20438527799530162, -0.03141984411207091, -0.17131474103585692, 0.6446886446886441, -0.04725274725274722, 0.10634254493625814, -0.40616045845272225, 0.07407407407407417, -0.29073482428114994, -0.4787414965986391, -0.3689320388349514, 0.4877384196185285, -0.3242271746944643, 1.4839160839160845, -0.272727272727273, 0.9656973228519599, 0.6282722513089002, -0.2173913043478262, 0.8995983935742969, -0.24789915966386566, -0.33540372670807483, 0.08783068783068833, 44.9, 0.21333333333333304, 0.44444444444444464, -0.35474599968929604, -0.3892508143322477, -0.19930157146420527, -0.4142011834319526, 0.3849878934624699, 0.8935837245696411, -0.5555555555555555, 0.1377777777777782, -0.3529411764705884, -0.20175438596491235, -0.26006002561602737, -0.18181818181818205, 0.6094674556213026, 0.3905579399141635, -0.33333333333333326, 0.30423108971391494, 1.0578512396694217, -0.21978021978021992, 0.7422680412371134, 0.7087276550998937, -0.22301819527124744, -0.4284842008853611, -0.08447729672650485, 0.4608294930875575, -0.06958762886597937, 0.5087014725568941, -0.031073707574216496, -0.00800000000000027, -0.16666666666666652, -0.1605758582502774, 1.3807106598984762, -0.3606129613815352, 0.5085227272727266, 1.9885057471264376, 0.905440414507771, 0.9160305343511452, -0.1481741573033708, -0.385706914344685, -0.11431226765799246, -0.08976109215017068, -0.3388976377952756, -0.24031007751937972, 7.461538461538465, 0.22681630242173628, 0.07190554759977606, -0.23486901535682056, -0.36444221441712643, -0.036831132731063566, 0.07552583586626142, 0.04060913705583739, -0.08525345622119822, 0.17733990147783266, 0.04242424242424228, 0.22499999999999978, 0.5624999999999996, -0.2643253234750463, 0.22463768115941982, 7.47058823529412, 1.1504424778761055, 4.943478260869567, -0.2500602071124665, 0.021908127208480378, 0.2126267582597313, -1.2946428571428574, 1.2376033057851246, 0.17298937784521998, -0.0464135021097042, -0.06122448979591847, -0.26666666666666683, -0.36928702010968917, 0.026701119724375326, 0.21711229946524044, 0.5046948356807508, 0.5433526011560691, -0.22022740873728341, -0.13355048859934823, -0.6753246753246752, -0.07112970711297027, 0.2685421994884915, 0.6115288220551381, -0.3290734824281151, -0.2718372858469068, 2.661129568106311, 0.36693548387096814, 0.17045454545454491, 0.21975497702909652, 0.6686826189850114, -0.18750000000000006, -0.36818038473667664, -0.09727272727272761, 0.30267835980090024, -0.04920212765957416, 0.08527131782945775, 0.5164835164835168, -0.25715038882298674, 1.1124497991967868, 0.12389380530973448, 0.5282051282051291, -0.16711445459430388, 0.6617647058823534, 0.25274725274725274, -0.18234343192432004, 0.38636363636363574, 0.0436590436590436, 0.910614525139664, 0.09497206703910567, 0.046944556859570635, 0.28621908127208484, 0.6346153846153854, 0.0, 0.7149929278642152, 1.1176470588235314, 0.15137180700094596, -0.6651162790697673, -0.37804878048780505, -0.08832807570977891, 1.3819241982507293, -0.14212328767123278, 0.37281153450051596, 2.8671874999999996, 0.0, 0.1333333333333334, -0.02941176470588281, -0.6821862348178136, 0.8605974395448063, -0.8047553726566072, 0.6348547717842329, -0.3509579682162484, -0.1488095238095239, 0.03416149068323011, 0.44897959183673464, 0.03529411764705848, -0.4497041420118341, -0.008248857086066505, -0.48615056818181807, 0.4032921810699591, 0.10642570281124451, 0.00458340153871313, -0.4178644996265026, -0.26536312849162036, 2.1172413793103444, 0.28840970350404255, -0.40909090909090906, -0.02493966210780391, 0.08326986544808292, -0.2657111356119075, -0.10285168834267988, -0.48792697290930526, 0.034615384615384444, -0.4821428571428571, 0.012539184952978349, 0.2617428683079327, 0.272108843537415, 0.044444444444444495, -0.2837837837837837, 1.347222222222223, -0.4314750290360049, -0.4508110385506635, -0.15391459074733116, -0.37931034482758685, -0.013996889580093241, 0.6067864271457074, 0.49612403100775215, 0.5862068965517244, -0.08835341365461855, 1.1512605042016804, 0.01217948717948754, 0.06543967280163569, -0.5702479338842981, -0.4765784114052952, 2.2941176470588247, 0.14932885906040186, 0.6103286384976525, 0.09625668449197826, -0.5673469387755102, -0.6289233214143823, 1.7047042384722877, -0.11433727034120719, -0.7081788227106148, -0.2884615384615385, -0.09576837416481082, -0.3506343713956171, -0.21528771829373, -0.47237635705669473, -0.6620689655172414, 0.8738738738738739, -0.17944535073409545, -0.6512820512820512, -0.8437118437118437, -0.5888297872340426, -0.5917792792792791, 0.18750000000000008, 0.41313831869791345, -0.09003215434083606, 0.6111111111111109, -0.3044397463002114, 0.5195530726256979, -0.33644859813084105, 0.5466926070038909, 0.21568627450980396, 0.010989010989011484, 3.615384615384615, 1.5257012158420598, 0.9760000000000001, -0.16915887850467295, -1.870707070707071, -0.19930069930069905, -0.360330578512397, 0.39999999999999997, -0.892578125, 0.060606060606060524, -0.523809523809524, -0.19057276461621916, -0.035555555555555785, -0.24422268907563024, -0.009259259259259304, 1.25, -0.2271597927166889, -0.40160642570281135, 0.11737089201877954, 0.6213017751479283, -0.6976703296703296, 0.07189853692321028, 0.4933226495726492, 0.03921568627451033, -0.26813880126182993, 0.7036011080332412, -0.7755102040816327, 1.9657344659730855, -0.37096774193548415, -0.23283582089552263, -0.13852242744063314, 0.06183368869936039, -0.3727832603695182, -0.8192090395480225, -0.6038461538461538, -0.5350101971447995, 0.37051792828685226, 0.360263808738664, -0.08903821923561549, -0.4060860440713535, -0.5305586801649792, -0.011910433539781126, 1.5918367346938784, -0.20000000000000032, -0.04670197400096353, -0.10920153637267968, -0.02715466351829947, 0.35078947368420954, -0.3917748917748919, -0.25369085030860705, -0.721951219512195, -0.2443324937027707, 0.2786610878661089, 2.530275730541055e-16, 0.8537414965986398, -0.33555555555555555, -0.02575376884422127, -0.17159763313609447, 1.2847222222222219, -0.3596707818930039, -0.6971470373079737, -0.43941340184114797, 0.09681881051175659, 0.17588346371729202, 0.0, 1.5013850415512446, 0.2085381630012936, -0.10176991150442473, -0.4371980676328501, -0.27272727272727293, 0.4144927536231884, -0.9530201342281879, -0.4789103690685412, -0.5397815912636504, 0.0711610486891387, -0.7313891020721413, -0.24436090225563945, -0.3085714285714287, 0.102316602316602, 0.4193548387096773, -0.3934681181959561, -0.8428571428571429, -0.17779323133982392, -0.9137931034482759, -0.7905604719764012, 0.41747572815534056, -0.30445699937225335, -0.3294988969429558, 0.8307692307692301, -0.14774145245819797, 1.6314199395770386, -0.06386462882096053, -0.398601398601399, 0.07142857142857136, 0.5144927536231884, -0.4949432221433641, -0.07034220532319398, 0.3700787401574806, -0.4110738255033559, -0.2154838709677419, 0.5840707964601766, -0.8099415204678363, 0.2021747885622228, 0.9180327868852461, 0.5207171314741044, 0.5453216374269011, 0.19387755102040863, -0.12446849632779254, -0.1346153846153848, -0.044117647058823733, -0.5509153318077804, -0.10432989690721636, -0.5347222222222228, -0.164338537387017, -0.25000000000000006, -0.11764705882352948, -0.46366782006920426, -0.5385556915544676, -0.5968063872255489, 0.9129782445611395, -0.3797979797979797, 0.017897091722594707, 1.1764705882352948, -0.08333333333333329, 0.8535031847133745, -0.16743119266055, 0.2950819672131146, -0.34771573604060907, -0.3391304347826083, 0.412587412587412, 0.06279006279006255, 0.1408450704225352, -0.6420454545454545, -0.3870967741935485, -0.1333199719410762, -0.637180373185902, 0.16715542521994092, -0.6333938294010888, -0.3438161968388462, -0.07489209472333452, -0.17490494296577944, -0.6194690265486725, 0.1338912133891215, -0.6923076923076924, -0.33828382838283827, -0.5786266697914223, 0.14864864864864832, -0.5922330097087379, 0.44450833812536017, -0.045848822800495494, -0.3172413793103449, -0.39783281733746134, 0.46227700693756135, 0.6323529411764705, -0.44680851063829785, -0.025856044723969695, 0.31360946745562074, 0.1756894790602655, 0.4229638153688786, -0.5078864353312301, 0.31481481481481516, 1.2082018927444795, -0.38136645962732885, 0.45595854922279677, 0.16183574879227008, 0.29515418502202667, -0.2324218750000001, -0.7612412919569348, -0.5163147792706334, -0.6290485829959513, -0.4630350194552531, 0.41071428571428564, -0.36496350364963487, 0.004373177842565745, -0.4048780487804876, -0.2830188679245282, 0.1327623126338332, -0.7477182710521786, -0.26467864419336934, -0.4091671324762437, -0.6418918918918919, -0.416256157635468, 0.8738898756660748, -0.2331265961327986, 0.421124828532236, -0.5714285714285716, 0.06730769230769228, -0.36978131212723625, 0.5661764705882352, 1.0039062500000009, -0.4941785252263909, -0.5820689655172415, 1.4210526315789487, -0.5687004017335894, -0.14487632508833911, -0.9310344827586206, 0.17933130699088146, -0.7058823529411764, -0.2183098591549295, -0.5836477987421385, -0.6854838709677419, 0.2826086956521741, 0.1583333333333337, -0.4823888279872265, -0.20512820512820534, -0.23097112860892388, 0.0, -0.23799126637554593, 0.6330749354005165, 0.0, -0.40000000000000024, -0.428571428571428, -0.3999999999999998, 0.2822010500949556, 0.15668202764976968, -0.5441278665740098, -0.3769470404984424, -0.33333333333333337, 0.05988793974465004, -0.6073825503355705, 0.046218487394958215, -0.15328467153284656, -0.07007851119511471, -0.34062916447926345, -0.3988553031658018, -0.3507214206437294, -0.39655172413793077, 2.1886178861788617, 0.49407114624505866, -0.23590370751802292, 0.2692307692307697, 4.622568093385214, -0.19754977029096457, -0.25301204819277123, -0.4613746598840648, 0.06250000000000018, 0.2912621359223298, 0.0043859649122805966, -0.6075581395348834, -0.07999999999999986, -0.1751959428307979, -0.2526501766784454, -0.2707667731629398, -0.5486981677917067, -0.7637795275590553, -0.8958333333333334, -0.43030303030303013, -0.2654967518971041, -0.46723300970873805, -0.6660822131307227, -0.014234875444839309, 0.19603150560436228, -0.144736842105263, -0.13333333333333333, -0.4221204188481677, -0.42151162790697655, 1.3761467889908252, 0.896321070234114, -0.31334622823984504, -0.3, -0.1610942249240122, -0.26349614395886883, -0.17149758454106268, -0.41225892686652643, -0.22131147540983634, -0.38724478091305325, 0.0, -0.8017718715393133, -0.48190965532005997, -0.14285714285714357, -0.6673819742489272, -0.6874999999999999, -0.06864754098360665, -0.6607142857142856, 0.19224283305227688, -0.193220338983051, -0.35314685314685346, -0.23714285714285702, -0.4477611940298507, 0.5371900826446281, 1.646234676007006, 0.3508522727272727, 0.5282051282051277, 1.2424242424242409, -0.2658584719481251, 2.0456140350877186, -0.591549295774648, -0.7534246575342466, -0.44675090252707605, 0.1941245593419505, 1.3193277310924372, -0.1300146412884333, -0.6119402985074627, -0.5226433430515061, -0.07441860465116269, -0.8333333333333331, 0.17703349282296668, 0.9819076058317233, -0.43967280163599193, -0.37304075235109746, -0.32905982905982883, -0.1965460526315789, 0.7430167597765365, 0.10769230769230782, -0.5604690117252932, -0.623931623931624, -0.5179460309143306, -0.41532639545884553, -0.6709401709401711, -0.17924944812361998, -0.4317460317460316, -0.19384615384615372, -0.8929936305732483, -0.22605893186003645, -0.40298507462686545, 0.03244837758112093, 0.7777777777777775, -0.6888888888888889, -0.1483870967741927, -0.636604774535809, -0.6584158415841583, -0.3760784313725489, -0.0586319218241045, 3.567032967032969, -0.3293293293293296, -0.05785123966942167, -0.6219931271477663, -0.42975206611570266, -0.4792043399638333, -0.33463035019455256, 0.16412742382271395, 0.17821782178217782, -0.34497816593886466, -2.2222222222222228, 5.181040781584065e-16, 0.05263157894736837, -0.054459681335707756, 0.832380952380953, -0.4673366834170855, 0.17491749174917437, -0.40824435063322556, -0.2801059224076333, -0.5391705069124423, 0.5872093023255819, -0.22878228782287824, 1.1250000000000004, -0.14089775561097234, -0.18186874304783054, -0.29019607843137235, -0.5424005218525769, 0.005971337579617584, 0.3272727272727278, -0.39393939393939353, -0.2930591259640106, -0.5889354852374294, -0.3480753480753484, 0.8076923076923085, -0.09756097560975605, -0.23423423423423403, -0.4422241529105124, -0.604816245844191, -0.1602564102564103, -0.8028169014084505, -0.34214285714285747, -0.3835341365461847, -0.3701067615658363, -0.4948024948024947, 0.24489795918367344, -0.55470737913486, 1.0424403183023867, 0.11904761904761892, -0.5197817189631649, 4.695652173913045, 0.772151898734177, -0.6137931034482759, -0.521044992743106, -0.5901639344262296, -0.763157894736842, -0.28355387523629483, 0.733788395904437, -0.21460957178841303, 0.021002838221381236, 0.7358490566037734, 0.459915611814346, 0.41611374407582924, -0.06969552806850624, 1.1801801801801797, 6.619047619047622, 0.5855855855855854, 0.23659305993690855, 0.16431924882629065, -0.4541910331384018, 1.5728900255754479, -0.1815181518151816, -1.3478260869565217, -0.5035330824997707, 0.14049586776859502, -1.0, -0.5051546391752577, 0.15625000000000003, -0.29729729729729737, -0.4894259818731118, 0.08974358974358962, -0.10169491525423775, -0.3165467625899281, -0.3276243093922649, -0.5042444821731747, -0.3339834227206242, -0.6375404530744339, 0.060171919770773165, 5.431962025316455, -0.4285714285714286, -0.5151515151515154, 7.799999999999994, -0.3076923076923077, -0.5225032360848354, 1.02390438247012, -0.12195121951219563, -0.5666666666666664, -1.0, -0.19455758731259243, -0.17948717948717924, 2.9257028112449786, -0.9913793103448276, -0.3752345215759853, -0.38694267515923586, -0.377566200535555, 0.31965811965811985, 0.042857142857142906, -0.7735849056603774, -0.3227513227513224, -0.8486226939600707, 0.1313131313131316, -0.940484429065744, -0.6221374045801525, -0.2741935483870967, -0.2453327476389198, -0.17647058823529438, -1.0, -0.7787481804949052, -0.39259259259259305, 0.0263504611330698, -0.2968138624930129, -0.33333333333333326, -0.8006571741511499, 0.047008547008547105, 0.20000000000000007, -1.0, -1.4432624113475176, -0.0005326586323987168, -0.2528473804100229, -0.16452742123687253, -0.22984356197352623, -0.5576606468934424, 0.5179487179487176, 0.22307692307692306, -0.3771234428086069, -0.1658291457286434, -2.7698841698841696, 0.13932980599647257, -0.3727699530516433, -0.24489795918367344, -0.6449275362318839, -0.7975567190226877, -0.3294460641399417, -0.4314489928525017, 1.5279352226720657, -0.5147884687383008, -28.999999999999932, -0.675977653631285, -0.4107438016528924, -1.0344827586206897, -0.5096774193548386, -1.0, 1.9900990099009905, -0.8947368421052632, 0.41725601131541695, 0.18627450980392166, -0.4594594594594595, -0.40074906367041185, -0.3873873873873872, 0.6881720430107532, -0.56982131039047, -0.24921135646687687, -0.3892617449664431, -0.6216216216216216, 2.033026113671275, -2.783410138248848, 0.2931034482758621, 0.2222222222222223, -0.15497553017944507, -0.7531981893328085, 0.16666666666666663, 0.21945472904745889, -0.5877712031558185, -0.27687296416938106, -0.1306532663316579, -0.20000000000000057, 0.3333333333333334, -0.3561995923070104, -0.5036496350364963, 0.054166666666667015, -0.1380042462845011, -0.19549641760491307, -0.9519230769230769, 1.638888888888889, -0.495011086474501, -0.0340909090909088, -1.0739130434782609, -0.5436893203883497, 1.8571428571428572, -0.6664873587950512, -0.37150837988826824, 0.31297709923664113, -0.7142857142857144, 0.15169541939321796, -0.5000000000000001, -0.059999999999999956, -0.24999999999999994, 1.8571428571428577, -0.19696969696969757, 1.9197080291970812, 0.10144927536231843, -0.20427404148334383, -0.01730103806228342, -0.7439846005774785, -0.6305970149253731, -0.4298245614035087, -0.4727272727272726, 0.04669887278582921, -0.22222222222222257, -0.20467836257309932, -0.11243307555026773, -0.6554621848739495, 0.5341176470588236, 0.0, -0.8412698412698413, -0.20833333333333337, -0.04837605165329659, -0.08108108108108145, -0.283018867924528, -0.05898876404494315, -0.2639530004196392, -0.5612775150347403, -0.2800000000000001, -0.2380952380952387, -0.6985645933014354, 0.5294117647058816, -0.29462989840348336, -0.48742352141400425, -0.6611418047882135, -0.3813257305773343, -0.14602295211713495, -0.37964774951076335, 0.33333333333333287, -0.33090909090909054, 0.6762159934047814, -0.6570351758793969, -0.8723404255319149, 0.11923688394276676, -0.011764705882353337, 3.3862928348909644, -0.5675306957708046, -0.7608142493638675, 1.999999999999999, -0.530944625407166, -0.061889250814332344, 0.6610169491525428, -0.9588477366255143, -0.2144808743169398, -0.5]\n"
          ],
          "name": "stdout"
        }
      ]
    },
    {
      "cell_type": "code",
      "metadata": {
        "id": "xPKio6VN_Up5",
        "colab_type": "code",
        "colab": {}
      },
      "source": [
        "average_newCases_df3 = average_newCases_df2.copy().reset_index(drop=True)"
      ],
      "execution_count": null,
      "outputs": []
    },
    {
      "cell_type": "code",
      "metadata": {
        "id": "cPdtkpSH_X2U",
        "colab_type": "code",
        "colab": {
          "base_uri": "https://localhost:8080/",
          "height": 204
        },
        "outputId": "ef507a07-080e-4389-c603-d445a4748a52"
      },
      "source": [
        "average_newCases_df3.head()"
      ],
      "execution_count": null,
      "outputs": [
        {
          "output_type": "execute_result",
          "data": {
            "text/html": [
              "<div>\n",
              "<style scoped>\n",
              "    .dataframe tbody tr th:only-of-type {\n",
              "        vertical-align: middle;\n",
              "    }\n",
              "\n",
              "    .dataframe tbody tr th {\n",
              "        vertical-align: top;\n",
              "    }\n",
              "\n",
              "    .dataframe thead th {\n",
              "        text-align: right;\n",
              "    }\n",
              "</style>\n",
              "<table border=\"1\" class=\"dataframe\">\n",
              "  <thead>\n",
              "    <tr style=\"text-align: right;\">\n",
              "      <th></th>\n",
              "      <th>County Name</th>\n",
              "      <th>fips_x</th>\n",
              "      <th>average_per_week</th>\n",
              "      <th>startDate</th>\n",
              "      <th>endDate</th>\n",
              "      <th>diff_avg_x</th>\n",
              "      <th>shift_avg_x</th>\n",
              "      <th>percent_newcases</th>\n",
              "    </tr>\n",
              "  </thead>\n",
              "  <tbody>\n",
              "    <tr>\n",
              "      <th>0</th>\n",
              "      <td>Anderson County</td>\n",
              "      <td>48001</td>\n",
              "      <td>0.0</td>\n",
              "      <td>2020-03-01</td>\n",
              "      <td>2020-03-14</td>\n",
              "      <td>0.0</td>\n",
              "      <td>NaN</td>\n",
              "      <td>0.0</td>\n",
              "    </tr>\n",
              "    <tr>\n",
              "      <th>1</th>\n",
              "      <td>Andrews County</td>\n",
              "      <td>48003</td>\n",
              "      <td>0.0</td>\n",
              "      <td>2020-03-01</td>\n",
              "      <td>2020-03-14</td>\n",
              "      <td>0.0</td>\n",
              "      <td>NaN</td>\n",
              "      <td>0.0</td>\n",
              "    </tr>\n",
              "    <tr>\n",
              "      <th>2</th>\n",
              "      <td>Angelina County</td>\n",
              "      <td>48005</td>\n",
              "      <td>0.0</td>\n",
              "      <td>2020-03-01</td>\n",
              "      <td>2020-03-14</td>\n",
              "      <td>0.0</td>\n",
              "      <td>NaN</td>\n",
              "      <td>0.0</td>\n",
              "    </tr>\n",
              "    <tr>\n",
              "      <th>3</th>\n",
              "      <td>Aransas County</td>\n",
              "      <td>48007</td>\n",
              "      <td>0.0</td>\n",
              "      <td>2020-03-01</td>\n",
              "      <td>2020-03-14</td>\n",
              "      <td>0.0</td>\n",
              "      <td>NaN</td>\n",
              "      <td>0.0</td>\n",
              "    </tr>\n",
              "    <tr>\n",
              "      <th>4</th>\n",
              "      <td>Archer County</td>\n",
              "      <td>48009</td>\n",
              "      <td>0.0</td>\n",
              "      <td>2020-03-01</td>\n",
              "      <td>2020-03-14</td>\n",
              "      <td>0.0</td>\n",
              "      <td>NaN</td>\n",
              "      <td>0.0</td>\n",
              "    </tr>\n",
              "  </tbody>\n",
              "</table>\n",
              "</div>"
            ],
            "text/plain": [
              "       County Name  fips_x  ...  shift_avg_x percent_newcases\n",
              "0  Anderson County   48001  ...          NaN              0.0\n",
              "1   Andrews County   48003  ...          NaN              0.0\n",
              "2  Angelina County   48005  ...          NaN              0.0\n",
              "3   Aransas County   48007  ...          NaN              0.0\n",
              "4    Archer County   48009  ...          NaN              0.0\n",
              "\n",
              "[5 rows x 8 columns]"
            ]
          },
          "metadata": {
            "tags": []
          },
          "execution_count": 56
        }
      ]
    },
    {
      "cell_type": "code",
      "metadata": {
        "id": "u2SrltmK_Z5B",
        "colab_type": "code",
        "colab": {}
      },
      "source": [
        "new_cases_list = average_newCases_df2['percent_newcases'].values"
      ],
      "execution_count": null,
      "outputs": []
    },
    {
      "cell_type": "markdown",
      "metadata": {
        "id": "0P08uZUE_cuI",
        "colab_type": "text"
      },
      "source": [
        "### Determining growth label for covid cases"
      ]
    },
    {
      "cell_type": "code",
      "metadata": {
        "id": "HFwKeSMZ_dm7",
        "colab_type": "code",
        "colab": {
          "base_uri": "https://localhost:8080/",
          "height": 34
        },
        "outputId": "ce0f4e08-4dcb-4d7e-b202-acad8d4777a6"
      },
      "source": [
        "len(new_cases_list)"
      ],
      "execution_count": null,
      "outputs": [
        {
          "output_type": "execute_result",
          "data": {
            "text/plain": [
              "2835"
            ]
          },
          "metadata": {
            "tags": []
          },
          "execution_count": 58
        }
      ]
    },
    {
      "cell_type": "code",
      "metadata": {
        "id": "ovnjSs4o_f_F",
        "colab_type": "code",
        "colab": {
          "base_uri": "https://localhost:8080/",
          "height": 51
        },
        "outputId": "5db2254e-7064-4650-80c2-60ad42cb1cfc"
      },
      "source": [
        "diffArr = np.diff(new_cases_list)\n",
        "print(len(diffArr))\n",
        "diffArr[0]"
      ],
      "execution_count": null,
      "outputs": [
        {
          "output_type": "stream",
          "text": [
            "2834\n"
          ],
          "name": "stdout"
        },
        {
          "output_type": "execute_result",
          "data": {
            "text/plain": [
              "0.0"
            ]
          },
          "metadata": {
            "tags": []
          },
          "execution_count": 59
        }
      ]
    },
    {
      "cell_type": "code",
      "metadata": {
        "id": "bJL9sNmD_hTo",
        "colab_type": "code",
        "colab": {
          "base_uri": "https://localhost:8080/",
          "height": 51
        },
        "outputId": "4c7b448d-4392-463b-fede-38c2aff82385"
      },
      "source": [
        "growth_values =[]\n",
        "growth_values.append(0.0) # making first value as 0, as np.diff leaves first values as NA\n",
        "print('growth_values : ',len(growth_values))\n",
        "growth_values.extend(diffArr)\n",
        "print('growth_values : ',len(growth_values))"
      ],
      "execution_count": null,
      "outputs": [
        {
          "output_type": "stream",
          "text": [
            "growth_values :  1\n",
            "growth_values :  2835\n"
          ],
          "name": "stdout"
        }
      ]
    },
    {
      "cell_type": "code",
      "metadata": {
        "id": "AziwliKw_kVA",
        "colab_type": "code",
        "colab": {
          "base_uri": "https://localhost:8080/",
          "height": 34
        },
        "outputId": "7bf08edc-6173-41a6-ddb9-ecfe7b8edd70"
      },
      "source": [
        "len(growth_values)"
      ],
      "execution_count": null,
      "outputs": [
        {
          "output_type": "execute_result",
          "data": {
            "text/plain": [
              "2835"
            ]
          },
          "metadata": {
            "tags": []
          },
          "execution_count": 61
        }
      ]
    },
    {
      "cell_type": "code",
      "metadata": {
        "id": "QHkoSNMo_m2a",
        "colab_type": "code",
        "colab": {}
      },
      "source": [
        "average_newCases_df2['growth_per_day'] = growth_values"
      ],
      "execution_count": null,
      "outputs": []
    },
    {
      "cell_type": "code",
      "metadata": {
        "id": "g_BppkiR_o3o",
        "colab_type": "code",
        "colab": {
          "base_uri": "https://localhost:8080/",
          "height": 187
        },
        "outputId": "2a7a547a-3c77-47c4-ce48-92ad12361e63"
      },
      "source": [
        "average_newCases_df2.dtypes"
      ],
      "execution_count": null,
      "outputs": [
        {
          "output_type": "execute_result",
          "data": {
            "text/plain": [
              "County Name          object\n",
              "fips_x                int64\n",
              "average_per_week    float64\n",
              "startDate            object\n",
              "endDate              object\n",
              "diff_avg_x          float64\n",
              "shift_avg_x         float64\n",
              "percent_newcases    float64\n",
              "growth_per_day      float64\n",
              "dtype: object"
            ]
          },
          "metadata": {
            "tags": []
          },
          "execution_count": 63
        }
      ]
    },
    {
      "cell_type": "markdown",
      "metadata": {
        "id": "O350heO8_r_m",
        "colab_type": "text"
      },
      "source": [
        "### Checking mean, std dev and variance for growth data"
      ]
    },
    {
      "cell_type": "code",
      "metadata": {
        "id": "NuMKdQnE_qPJ",
        "colab_type": "code",
        "colab": {
          "base_uri": "https://localhost:8080/",
          "height": 102
        },
        "outputId": "4ef8a875-308d-4737-c0ec-589b45388268"
      },
      "source": [
        "stdDev = np.std(diffArr)\n",
        "variance = np.var(diffArr)\n",
        "mean = np.mean(diffArr)\n",
        "min = np.min(diffArr)\n",
        "max = np.max(diffArr)\n",
        "\n",
        "\n",
        "print(\"min \",min)\n",
        "print(\"max \",max)\n",
        "\n",
        "print(\"mean \",mean)\n",
        "print(\"std. deviation \",stdDev)\n",
        "print(\"variance \",variance)"
      ],
      "execution_count": null,
      "outputs": [
        {
          "output_type": "stream",
          "text": [
            "min  -2.7021597764222984e+16\n",
            "max  2.7021597764222984e+16\n",
            "mean  -0.0002423996178130038\n",
            "std. deviation  717837429837000.0\n",
            "variance  5.152905756749898e+29\n"
          ],
          "name": "stdout"
        }
      ]
    },
    {
      "cell_type": "markdown",
      "metadata": {
        "id": "gETxyUij_xRx",
        "colab_type": "text"
      },
      "source": [
        "#### Getting positive cases"
      ]
    },
    {
      "cell_type": "code",
      "metadata": {
        "id": "xEgp97n0_vsl",
        "colab_type": "code",
        "colab": {
          "base_uri": "https://localhost:8080/",
          "height": 51
        },
        "outputId": "e3491cec-cb84-4681-e8a6-6c87e9561f12"
      },
      "source": [
        "print('length diffArr: ',len(diffArr))\n",
        "\n",
        "non_zero_pos_diff = []\n",
        "\n",
        "for i in diffArr:\n",
        "  if i > 0:\n",
        "    non_zero_pos_diff.append(i)\n",
        "\n",
        "print('non_zero_pos_diff length: ',len(non_zero_pos_diff))\n"
      ],
      "execution_count": null,
      "outputs": [
        {
          "output_type": "stream",
          "text": [
            "length diffArr:  2834\n",
            "non_zero_pos_diff length:  1219\n"
          ],
          "name": "stdout"
        }
      ]
    },
    {
      "cell_type": "code",
      "metadata": {
        "id": "gPfXp4di_09v",
        "colab_type": "code",
        "colab": {
          "base_uri": "https://localhost:8080/",
          "height": 102
        },
        "outputId": "de5c2f5e-6305-4b1f-cf09-61364d0a0ef7"
      },
      "source": [
        "stdDev = np.std(non_zero_pos_diff)\n",
        "variance = np.var(non_zero_pos_diff)\n",
        "mean = np.mean(non_zero_pos_diff)\n",
        "min = np.min(non_zero_pos_diff)\n",
        "max = np.max(non_zero_pos_diff)\n",
        "\n",
        "\n",
        "print(\"min \",min)\n",
        "print(\"max \",max)\n",
        "\n",
        "print(\"mean \",mean)\n",
        "print(\"std. deviation \",stdDev)\n",
        "print(\"variance \",variance)\n"
      ],
      "execution_count": null,
      "outputs": [
        {
          "output_type": "stream",
          "text": [
            "min  0.0006087909411911507\n",
            "max  2.7021597764222984e+16\n",
            "mean  22167020315199.03\n",
            "std. deviation  773625833202918.9\n",
            "variance  5.984969297989104e+29\n"
          ],
          "name": "stdout"
        }
      ]
    },
    {
      "cell_type": "markdown",
      "metadata": {
        "id": "CwKlqnvK_5Av",
        "colab_type": "text"
      },
      "source": [
        "#### Getting negative cases"
      ]
    },
    {
      "cell_type": "code",
      "metadata": {
        "id": "7xsWo2BH_68Z",
        "colab_type": "code",
        "colab": {
          "base_uri": "https://localhost:8080/",
          "height": 51
        },
        "outputId": "f146dc2f-1a99-498f-f9c8-8ba2531aeef3"
      },
      "source": [
        "print('length diffArr: ',len(diffArr))\n",
        "\n",
        "non_zero_neg_diff = []\n",
        "\n",
        "for i in diffArr:\n",
        "  if i < 0:\n",
        "    non_zero_neg_diff.append(i)\n",
        "print(\"non_zero_neg_diff length : \",len(non_zero_neg_diff))"
      ],
      "execution_count": null,
      "outputs": [
        {
          "output_type": "stream",
          "text": [
            "length diffArr:  2834\n",
            "non_zero_neg_diff length :  1175\n"
          ],
          "name": "stdout"
        }
      ]
    },
    {
      "cell_type": "code",
      "metadata": {
        "id": "Puwi-05e_8ze",
        "colab_type": "code",
        "colab": {
          "base_uri": "https://localhost:8080/",
          "height": 102
        },
        "outputId": "23074ba3-a230-4bf4-b21c-ed5d3b681127"
      },
      "source": [
        "stdDev = np.std(non_zero_neg_diff)\n",
        "variance = np.var(non_zero_neg_diff)\n",
        "mean = np.mean(non_zero_neg_diff)\n",
        "min = np.min(non_zero_neg_diff)\n",
        "max = np.max(non_zero_neg_diff)\n",
        "\n",
        "\n",
        "print(\"min \",min)\n",
        "print(\"max \",max)\n",
        "\n",
        "print(\"mean \",mean)\n",
        "print(\"std. deviation \",stdDev)\n",
        "print(\"variance \",variance)\n"
      ],
      "execution_count": null,
      "outputs": [
        {
          "output_type": "stream",
          "text": [
            "min  -2.7021597764222984e+16\n",
            "max  -3.1086244689504383e-15\n",
            "mean  -22997104480193.723\n",
            "std. deviation  787965506980493.1\n",
            "variance  6.2088964019102555e+29\n"
          ],
          "name": "stdout"
        }
      ]
    },
    {
      "cell_type": "markdown",
      "metadata": {
        "id": "nf5_1KmAAAs0",
        "colab_type": "text"
      },
      "source": [
        "### Trying natural breaks"
      ]
    },
    {
      "cell_type": "code",
      "metadata": {
        "id": "CWd-4ELDACK-",
        "colab_type": "code",
        "colab": {
          "base_uri": "https://localhost:8080/",
          "height": 170
        },
        "outputId": "5af8983a-a2bc-4870-e1a2-224ed149ae9c"
      },
      "source": [
        "!pip install jenkspy"
      ],
      "execution_count": null,
      "outputs": [
        {
          "output_type": "stream",
          "text": [
            "Collecting jenkspy\n",
            "  Using cached https://files.pythonhosted.org/packages/53/cf/ca4619c97a1a65ae005855fbe8c9513eec4e0f4d2eefc61bf2367529827d/jenkspy-0.1.6.tar.gz\n",
            "Building wheels for collected packages: jenkspy\n",
            "  Building wheel for jenkspy (setup.py) ... \u001b[?25l\u001b[?25hdone\n",
            "  Created wheel for jenkspy: filename=jenkspy-0.1.6-cp36-cp36m-linux_x86_64.whl size=68254 sha256=6597560b7b7fc1717d061ef88a9713f658f39ab2444b701f2382d0d5e682e665\n",
            "  Stored in directory: /root/.cache/pip/wheels/5b/8c/58/5022a1b7f3121b8f7a1caaa394480d3cfbd4b439fee2a00cbf\n",
            "Successfully built jenkspy\n",
            "Installing collected packages: jenkspy\n",
            "Successfully installed jenkspy-0.1.6\n"
          ],
          "name": "stdout"
        }
      ]
    },
    {
      "cell_type": "code",
      "metadata": {
        "id": "Xu0Vkh0VAEN9",
        "colab_type": "code",
        "colab": {}
      },
      "source": [
        "import jenkspy"
      ],
      "execution_count": null,
      "outputs": []
    },
    {
      "cell_type": "code",
      "metadata": {
        "id": "I7yV2ob9_30M",
        "colab_type": "code",
        "colab": {
          "base_uri": "https://localhost:8080/",
          "height": 51
        },
        "outputId": "d743bbe8-8689-4ee8-c429-f9e176f3f9de"
      },
      "source": [
        "pos_breaks = jenkspy.jenks_breaks(non_zero_pos_diff, nb_class=2)\n",
        "print(pos_breaks)\n",
        "neg_breaks = jenkspy.jenks_breaks(non_zero_neg_diff, nb_class=2)\n",
        "print(neg_breaks)"
      ],
      "execution_count": null,
      "outputs": [
        {
          "output_type": "stream",
          "text": [
            "[0.0006087909411911507, 228.38461538461536, 2.7021597764222984e+16]\n",
            "[-2.7021597764222984e+16, -221.12592592592588, -3.1086244689504383e-15]\n"
          ],
          "name": "stdout"
        }
      ]
    },
    {
      "cell_type": "code",
      "metadata": {
        "id": "LEISQ6WHAI1Q",
        "colab_type": "code",
        "colab": {}
      },
      "source": [
        "def determine_growth_label(x):\n",
        "  if x >= -0.002109 and x <= 0.00011:\n",
        "    return 'flat_growth'\n",
        "  if x > 0.00011 and x <= 39.5:\n",
        "    return 'mild_growth'\n",
        "  if x > 39.5 and x <= 410.1818:\n",
        "    return 'drastic_growth'\n",
        "  if x >= -39.5  and x <= -0.0021:\n",
        "    return 'mild_decrement'\n",
        "  if x >= -410.18 and x < -39.5:\n",
        "    return 'drastic_decrement'"
      ],
      "execution_count": null,
      "outputs": []
    },
    {
      "cell_type": "code",
      "metadata": {
        "id": "12_Od_e0AXwx",
        "colab_type": "code",
        "colab": {}
      },
      "source": [
        "average_newCases_df2['growth_label'] = average_newCases_df2['growth_per_day'].apply(lambda x: determine_growth_label(x) )"
      ],
      "execution_count": null,
      "outputs": []
    },
    {
      "cell_type": "code",
      "metadata": {
        "id": "NIoPYjjOAaBk",
        "colab_type": "code",
        "colab": {
          "base_uri": "https://localhost:8080/",
          "height": 204
        },
        "outputId": "accf22d5-e6a4-43f5-c41a-5d9a9e56bfea"
      },
      "source": [
        "average_newCases_df2.head()"
      ],
      "execution_count": null,
      "outputs": [
        {
          "output_type": "execute_result",
          "data": {
            "text/html": [
              "<div>\n",
              "<style scoped>\n",
              "    .dataframe tbody tr th:only-of-type {\n",
              "        vertical-align: middle;\n",
              "    }\n",
              "\n",
              "    .dataframe tbody tr th {\n",
              "        vertical-align: top;\n",
              "    }\n",
              "\n",
              "    .dataframe thead th {\n",
              "        text-align: right;\n",
              "    }\n",
              "</style>\n",
              "<table border=\"1\" class=\"dataframe\">\n",
              "  <thead>\n",
              "    <tr style=\"text-align: right;\">\n",
              "      <th></th>\n",
              "      <th>County Name</th>\n",
              "      <th>fips_x</th>\n",
              "      <th>average_per_week</th>\n",
              "      <th>startDate</th>\n",
              "      <th>endDate</th>\n",
              "      <th>diff_avg_x</th>\n",
              "      <th>shift_avg_x</th>\n",
              "      <th>percent_newcases</th>\n",
              "      <th>growth_per_day</th>\n",
              "      <th>growth_label</th>\n",
              "    </tr>\n",
              "  </thead>\n",
              "  <tbody>\n",
              "    <tr>\n",
              "      <th>0</th>\n",
              "      <td>Anderson County</td>\n",
              "      <td>48001</td>\n",
              "      <td>0.0</td>\n",
              "      <td>2020-03-01</td>\n",
              "      <td>2020-03-14</td>\n",
              "      <td>0.0</td>\n",
              "      <td>NaN</td>\n",
              "      <td>0.0</td>\n",
              "      <td>0.0</td>\n",
              "      <td>flat_growth</td>\n",
              "    </tr>\n",
              "    <tr>\n",
              "      <th>1</th>\n",
              "      <td>Andrews County</td>\n",
              "      <td>48003</td>\n",
              "      <td>0.0</td>\n",
              "      <td>2020-03-01</td>\n",
              "      <td>2020-03-14</td>\n",
              "      <td>0.0</td>\n",
              "      <td>NaN</td>\n",
              "      <td>0.0</td>\n",
              "      <td>0.0</td>\n",
              "      <td>flat_growth</td>\n",
              "    </tr>\n",
              "    <tr>\n",
              "      <th>2</th>\n",
              "      <td>Angelina County</td>\n",
              "      <td>48005</td>\n",
              "      <td>0.0</td>\n",
              "      <td>2020-03-01</td>\n",
              "      <td>2020-03-14</td>\n",
              "      <td>0.0</td>\n",
              "      <td>NaN</td>\n",
              "      <td>0.0</td>\n",
              "      <td>0.0</td>\n",
              "      <td>flat_growth</td>\n",
              "    </tr>\n",
              "    <tr>\n",
              "      <th>3</th>\n",
              "      <td>Aransas County</td>\n",
              "      <td>48007</td>\n",
              "      <td>0.0</td>\n",
              "      <td>2020-03-01</td>\n",
              "      <td>2020-03-14</td>\n",
              "      <td>0.0</td>\n",
              "      <td>NaN</td>\n",
              "      <td>0.0</td>\n",
              "      <td>0.0</td>\n",
              "      <td>flat_growth</td>\n",
              "    </tr>\n",
              "    <tr>\n",
              "      <th>4</th>\n",
              "      <td>Archer County</td>\n",
              "      <td>48009</td>\n",
              "      <td>0.0</td>\n",
              "      <td>2020-03-01</td>\n",
              "      <td>2020-03-14</td>\n",
              "      <td>0.0</td>\n",
              "      <td>NaN</td>\n",
              "      <td>0.0</td>\n",
              "      <td>0.0</td>\n",
              "      <td>flat_growth</td>\n",
              "    </tr>\n",
              "  </tbody>\n",
              "</table>\n",
              "</div>"
            ],
            "text/plain": [
              "       County Name  fips_x  ...  growth_per_day growth_label\n",
              "0  Anderson County   48001  ...             0.0  flat_growth\n",
              "1   Andrews County   48003  ...             0.0  flat_growth\n",
              "2  Angelina County   48005  ...             0.0  flat_growth\n",
              "3   Aransas County   48007  ...             0.0  flat_growth\n",
              "4    Archer County   48009  ...             0.0  flat_growth\n",
              "\n",
              "[5 rows x 10 columns]"
            ]
          },
          "metadata": {
            "tags": []
          },
          "execution_count": 75
        }
      ]
    },
    {
      "cell_type": "markdown",
      "metadata": {
        "id": "_vVStfacAcNa",
        "colab_type": "text"
      },
      "source": [
        "## Jenks Natural breaks"
      ]
    },
    {
      "cell_type": "code",
      "metadata": {
        "id": "X1CQul6tAa7s",
        "colab_type": "code",
        "colab": {
          "base_uri": "https://localhost:8080/",
          "height": 34
        },
        "outputId": "c302f86d-b958-4660-fc28-b88f80b7f6b4"
      },
      "source": [
        "breaks = jenkspy.jenks_breaks(average_newCases_df2['percent_newcases'], nb_class=3)\n",
        "print(breaks)"
      ],
      "execution_count": null,
      "outputs": [
        {
          "output_type": "stream",
          "text": [
            "[-28.999999999999932, 66.42857142857144, 227.99999999999997, 2.7021597764222984e+16]\n"
          ],
          "name": "stdout"
        }
      ]
    },
    {
      "cell_type": "code",
      "metadata": {
        "id": "iLE7cZsTAoTn",
        "colab_type": "code",
        "colab": {
          "base_uri": "https://localhost:8080/",
          "height": 34
        },
        "outputId": "a7085fc9-9ec0-4b9f-c70b-6b48e974510e"
      },
      "source": [
        "breaks = jenkspy.jenks_breaks(average_newCases_df2['percent_newcases'], nb_class=8)\n",
        "print(breaks)"
      ],
      "execution_count": null,
      "outputs": [
        {
          "output_type": "stream",
          "text": [
            "[-28.999999999999932, 2.013888888888888, 8.194444444444448, 19.636363636363633, 42.00000000000001, 80.3181818181818, 154.60000000000002, 227.99999999999997, 2.7021597764222984e+16]\n"
          ],
          "name": "stdout"
        }
      ]
    },
    {
      "cell_type": "code",
      "metadata": {
        "id": "3LjaDCpRArRH",
        "colab_type": "code",
        "colab": {}
      },
      "source": [
        "average_newCases_df2['labels'] = pd.cut(average_newCases_df2['percent_newcases'],\n",
        "                        bins=breaks,\n",
        "                        labels=['LessSpread','Spread', 'SuperSpread1','SuperSpread2','SuperSpread3','SuperSpread4','SuperSpread5','SuperSpread6'])"
      ],
      "execution_count": null,
      "outputs": []
    },
    {
      "cell_type": "code",
      "metadata": {
        "id": "L97-hju-Auoi",
        "colab_type": "code",
        "colab": {
          "base_uri": "https://localhost:8080/",
          "height": 153
        },
        "outputId": "f4780e60-f94f-4d79-8ed3-94b0a638548d"
      },
      "source": [
        "print('Number of records in LessSpread:',average_newCases_df2[average_newCases_df2['labels'] == 'LessSpread']['County Name'].count())\n",
        "print('Number of records in Spread:',average_newCases_df2[average_newCases_df2['labels'] == 'Spread']['County Name'].count())\n",
        "print('Number of records in SuperSpread:',average_newCases_df2[average_newCases_df2['labels'] == 'SuperSpread1']['County Name'].count())\n",
        "print('Number of records in SuperSpread2:',average_newCases_df2[average_newCases_df2['labels'] == 'SuperSpread2']['County Name'].count())\n",
        "\n",
        "\n",
        "print('Number of records in SuperSpread3:',average_newCases_df2[average_newCases_df2['labels'] == 'SuperSpread3']['County Name'].count())\n",
        "\n",
        "print('Number of records in SuperSpread4:',average_newCases_df2[average_newCases_df2['labels'] == 'SuperSpread4']['County Name'].count())\n",
        "\n",
        "print('Number of records in SuperSpread5:',average_newCases_df2[average_newCases_df2['labels'] == 'SuperSpread5']['County Name'].count())\n",
        "\n",
        "print('Number of records in SuperSpread6:',average_newCases_df2[average_newCases_df2['labels'] == 'SuperSpread6']['County Name'].count())"
      ],
      "execution_count": null,
      "outputs": [
        {
          "output_type": "stream",
          "text": [
            "Number of records in LessSpread: 2411\n",
            "Number of records in Spread: 301\n",
            "Number of records in SuperSpread: 79\n",
            "Number of records in SuperSpread2: 24\n",
            "Number of records in SuperSpread3: 10\n",
            "Number of records in SuperSpread4: 5\n",
            "Number of records in SuperSpread5: 3\n",
            "Number of records in SuperSpread6: 1\n"
          ],
          "name": "stdout"
        }
      ]
    },
    {
      "cell_type": "code",
      "metadata": {
        "id": "CCQEUWPqAxGA",
        "colab_type": "code",
        "colab": {
          "base_uri": "https://localhost:8080/",
          "height": 34
        },
        "outputId": "da7397e5-3d98-4849-c4e3-4669e141c095"
      },
      "source": [
        "import jenkspy\n",
        "\n",
        "breaks = jenkspy.jenks_breaks(average_newCases_df2['percent_newcases'], nb_class=4)\n",
        "print(breaks)"
      ],
      "execution_count": null,
      "outputs": [
        {
          "output_type": "stream",
          "text": [
            "[-28.999999999999932, 14.999999999999996, 80.3181818181818, 227.99999999999997, 2.7021597764222984e+16]\n"
          ],
          "name": "stdout"
        }
      ]
    },
    {
      "cell_type": "code",
      "metadata": {
        "id": "xEqArBKWAzd3",
        "colab_type": "code",
        "colab": {}
      },
      "source": [
        "average_newCases_df2['labels'] = pd.cut(average_newCases_df2['percent_newcases'],\n",
        "                        bins=breaks,\n",
        "                        labels=['LessSpread','Spread', 'SuperSpread','SuperSpread2'])"
      ],
      "execution_count": null,
      "outputs": []
    },
    {
      "cell_type": "code",
      "metadata": {
        "id": "kVzr4L9iA15K",
        "colab_type": "code",
        "colab": {
          "base_uri": "https://localhost:8080/",
          "height": 85
        },
        "outputId": "df1f6512-e0b3-4a53-b3b2-17962fee551c"
      },
      "source": [
        "print('Number of records in LessSpread:',average_newCases_df2[average_newCases_df2['labels'] == 'LessSpread']['County Name'].count())\n",
        "print('Number of records in Spread:',average_newCases_df2[average_newCases_df2['labels'] == 'Spread']['County Name'].count())\n",
        "print('Number of records in SuperSpread:',average_newCases_df2[average_newCases_df2['labels'] == 'SuperSpread']['County Name'].count())\n",
        "\n",
        "print('Number of records in SuperSpread:',average_newCases_df2[average_newCases_df2['labels'] == 'SuperSpread2']['County Name'].count())"
      ],
      "execution_count": null,
      "outputs": [
        {
          "output_type": "stream",
          "text": [
            "Number of records in LessSpread: 2770\n",
            "Number of records in Spread: 55\n",
            "Number of records in SuperSpread: 8\n",
            "Number of records in SuperSpread: 1\n"
          ],
          "name": "stdout"
        }
      ]
    },
    {
      "cell_type": "code",
      "metadata": {
        "id": "ZoIhypE4A4QF",
        "colab_type": "code",
        "colab": {
          "base_uri": "https://localhost:8080/",
          "height": 204
        },
        "outputId": "3780fe66-5e9b-4053-ad17-d690545f0e89"
      },
      "source": [
        "average_newCases_df2.head()"
      ],
      "execution_count": null,
      "outputs": [
        {
          "output_type": "execute_result",
          "data": {
            "text/html": [
              "<div>\n",
              "<style scoped>\n",
              "    .dataframe tbody tr th:only-of-type {\n",
              "        vertical-align: middle;\n",
              "    }\n",
              "\n",
              "    .dataframe tbody tr th {\n",
              "        vertical-align: top;\n",
              "    }\n",
              "\n",
              "    .dataframe thead th {\n",
              "        text-align: right;\n",
              "    }\n",
              "</style>\n",
              "<table border=\"1\" class=\"dataframe\">\n",
              "  <thead>\n",
              "    <tr style=\"text-align: right;\">\n",
              "      <th></th>\n",
              "      <th>County Name</th>\n",
              "      <th>fips_x</th>\n",
              "      <th>average_per_week</th>\n",
              "      <th>startDate</th>\n",
              "      <th>endDate</th>\n",
              "      <th>diff_avg_x</th>\n",
              "      <th>shift_avg_x</th>\n",
              "      <th>percent_newcases</th>\n",
              "      <th>growth_per_day</th>\n",
              "      <th>growth_label</th>\n",
              "      <th>labels</th>\n",
              "    </tr>\n",
              "  </thead>\n",
              "  <tbody>\n",
              "    <tr>\n",
              "      <th>0</th>\n",
              "      <td>Anderson County</td>\n",
              "      <td>48001</td>\n",
              "      <td>0.0</td>\n",
              "      <td>2020-03-01</td>\n",
              "      <td>2020-03-14</td>\n",
              "      <td>0.0</td>\n",
              "      <td>NaN</td>\n",
              "      <td>0.0</td>\n",
              "      <td>0.0</td>\n",
              "      <td>flat_growth</td>\n",
              "      <td>LessSpread</td>\n",
              "    </tr>\n",
              "    <tr>\n",
              "      <th>1</th>\n",
              "      <td>Andrews County</td>\n",
              "      <td>48003</td>\n",
              "      <td>0.0</td>\n",
              "      <td>2020-03-01</td>\n",
              "      <td>2020-03-14</td>\n",
              "      <td>0.0</td>\n",
              "      <td>NaN</td>\n",
              "      <td>0.0</td>\n",
              "      <td>0.0</td>\n",
              "      <td>flat_growth</td>\n",
              "      <td>LessSpread</td>\n",
              "    </tr>\n",
              "    <tr>\n",
              "      <th>2</th>\n",
              "      <td>Angelina County</td>\n",
              "      <td>48005</td>\n",
              "      <td>0.0</td>\n",
              "      <td>2020-03-01</td>\n",
              "      <td>2020-03-14</td>\n",
              "      <td>0.0</td>\n",
              "      <td>NaN</td>\n",
              "      <td>0.0</td>\n",
              "      <td>0.0</td>\n",
              "      <td>flat_growth</td>\n",
              "      <td>LessSpread</td>\n",
              "    </tr>\n",
              "    <tr>\n",
              "      <th>3</th>\n",
              "      <td>Aransas County</td>\n",
              "      <td>48007</td>\n",
              "      <td>0.0</td>\n",
              "      <td>2020-03-01</td>\n",
              "      <td>2020-03-14</td>\n",
              "      <td>0.0</td>\n",
              "      <td>NaN</td>\n",
              "      <td>0.0</td>\n",
              "      <td>0.0</td>\n",
              "      <td>flat_growth</td>\n",
              "      <td>LessSpread</td>\n",
              "    </tr>\n",
              "    <tr>\n",
              "      <th>4</th>\n",
              "      <td>Archer County</td>\n",
              "      <td>48009</td>\n",
              "      <td>0.0</td>\n",
              "      <td>2020-03-01</td>\n",
              "      <td>2020-03-14</td>\n",
              "      <td>0.0</td>\n",
              "      <td>NaN</td>\n",
              "      <td>0.0</td>\n",
              "      <td>0.0</td>\n",
              "      <td>flat_growth</td>\n",
              "      <td>LessSpread</td>\n",
              "    </tr>\n",
              "  </tbody>\n",
              "</table>\n",
              "</div>"
            ],
            "text/plain": [
              "       County Name  fips_x  ...  growth_label      labels\n",
              "0  Anderson County   48001  ...   flat_growth  LessSpread\n",
              "1   Andrews County   48003  ...   flat_growth  LessSpread\n",
              "2  Angelina County   48005  ...   flat_growth  LessSpread\n",
              "3   Aransas County   48007  ...   flat_growth  LessSpread\n",
              "4    Archer County   48009  ...   flat_growth  LessSpread\n",
              "\n",
              "[5 rows x 11 columns]"
            ]
          },
          "metadata": {
            "tags": []
          },
          "execution_count": 83
        }
      ]
    },
    {
      "cell_type": "markdown",
      "metadata": {
        "id": "Bgl_4RXBA61-",
        "colab_type": "text"
      },
      "source": [
        "## 1.3 Labeling data for CA combined"
      ]
    },
    {
      "cell_type": "code",
      "metadata": {
        "id": "0EHU8eG6A82l",
        "colab_type": "code",
        "colab": {
          "base_uri": "https://localhost:8080/",
          "height": 343
        },
        "outputId": "656db2c4-18e6-4d03-8f0f-756d44205fb4"
      },
      "source": [
        "TX_combined_data.head()"
      ],
      "execution_count": null,
      "outputs": [
        {
          "output_type": "execute_result",
          "data": {
            "text/html": [
              "<div>\n",
              "<style scoped>\n",
              "    .dataframe tbody tr th:only-of-type {\n",
              "        vertical-align: middle;\n",
              "    }\n",
              "\n",
              "    .dataframe tbody tr th {\n",
              "        vertical-align: top;\n",
              "    }\n",
              "\n",
              "    .dataframe thead th {\n",
              "        text-align: right;\n",
              "    }\n",
              "</style>\n",
              "<table border=\"1\" class=\"dataframe\">\n",
              "  <thead>\n",
              "    <tr style=\"text-align: right;\">\n",
              "      <th></th>\n",
              "      <th>Date</th>\n",
              "      <th>fips_x</th>\n",
              "      <th>County Name</th>\n",
              "      <th>retail and recreation</th>\n",
              "      <th>grocery and pharmacy</th>\n",
              "      <th>parks</th>\n",
              "      <th>transit stations</th>\n",
              "      <th>workplaces</th>\n",
              "      <th>residential</th>\n",
              "      <th>driving</th>\n",
              "      <th>m50</th>\n",
              "      <th>m50_index</th>\n",
              "      <th>population_density</th>\n",
              "      <th>mask_rule_active</th>\n",
              "      <th>mask_wearing_percent</th>\n",
              "      <th>New cases</th>\n",
              "      <th>rolling_avg_new_cases</th>\n",
              "    </tr>\n",
              "  </thead>\n",
              "  <tbody>\n",
              "    <tr>\n",
              "      <th>0</th>\n",
              "      <td>2020-03-01</td>\n",
              "      <td>48001</td>\n",
              "      <td>Anderson County</td>\n",
              "      <td>16.0</td>\n",
              "      <td>15.0</td>\n",
              "      <td>0.0</td>\n",
              "      <td>0.0</td>\n",
              "      <td>3.0</td>\n",
              "      <td>0.0</td>\n",
              "      <td>27.49</td>\n",
              "      <td>8.910</td>\n",
              "      <td>79</td>\n",
              "      <td>54.333710</td>\n",
              "      <td>0</td>\n",
              "      <td>0.0</td>\n",
              "      <td>0</td>\n",
              "      <td>0.0</td>\n",
              "    </tr>\n",
              "    <tr>\n",
              "      <th>15118</th>\n",
              "      <td>2020-03-01</td>\n",
              "      <td>48215</td>\n",
              "      <td>Hidalgo County</td>\n",
              "      <td>20.0</td>\n",
              "      <td>7.0</td>\n",
              "      <td>14.0</td>\n",
              "      <td>12.0</td>\n",
              "      <td>0.0</td>\n",
              "      <td>-3.0</td>\n",
              "      <td>-2.07</td>\n",
              "      <td>6.021</td>\n",
              "      <td>81</td>\n",
              "      <td>553.010115</td>\n",
              "      <td>0</td>\n",
              "      <td>0.0</td>\n",
              "      <td>0</td>\n",
              "      <td>0.0</td>\n",
              "    </tr>\n",
              "    <tr>\n",
              "      <th>26462</th>\n",
              "      <td>2020-03-01</td>\n",
              "      <td>48373</td>\n",
              "      <td>Polk County</td>\n",
              "      <td>25.0</td>\n",
              "      <td>19.0</td>\n",
              "      <td>0.0</td>\n",
              "      <td>0.0</td>\n",
              "      <td>3.0</td>\n",
              "      <td>0.0</td>\n",
              "      <td>23.02</td>\n",
              "      <td>10.595</td>\n",
              "      <td>84</td>\n",
              "      <td>48.579591</td>\n",
              "      <td>0</td>\n",
              "      <td>0.0</td>\n",
              "      <td>0</td>\n",
              "      <td>0.0</td>\n",
              "    </tr>\n",
              "    <tr>\n",
              "      <th>15307</th>\n",
              "      <td>2020-03-01</td>\n",
              "      <td>48217</td>\n",
              "      <td>Hill County</td>\n",
              "      <td>22.0</td>\n",
              "      <td>11.0</td>\n",
              "      <td>0.0</td>\n",
              "      <td>13.0</td>\n",
              "      <td>3.0</td>\n",
              "      <td>0.0</td>\n",
              "      <td>72.23</td>\n",
              "      <td>14.110</td>\n",
              "      <td>62</td>\n",
              "      <td>38.221430</td>\n",
              "      <td>0</td>\n",
              "      <td>0.0</td>\n",
              "      <td>0</td>\n",
              "      <td>0.0</td>\n",
              "    </tr>\n",
              "    <tr>\n",
              "      <th>15496</th>\n",
              "      <td>2020-03-01</td>\n",
              "      <td>48219</td>\n",
              "      <td>Hockley County</td>\n",
              "      <td>15.0</td>\n",
              "      <td>14.0</td>\n",
              "      <td>0.0</td>\n",
              "      <td>0.0</td>\n",
              "      <td>3.0</td>\n",
              "      <td>0.0</td>\n",
              "      <td>-33.99</td>\n",
              "      <td>3.309</td>\n",
              "      <td>45</td>\n",
              "      <td>25.342639</td>\n",
              "      <td>0</td>\n",
              "      <td>0.0</td>\n",
              "      <td>0</td>\n",
              "      <td>0.0</td>\n",
              "    </tr>\n",
              "  </tbody>\n",
              "</table>\n",
              "</div>"
            ],
            "text/plain": [
              "             Date  fips_x  ... New cases  rolling_avg_new_cases\n",
              "0      2020-03-01   48001  ...         0                    0.0\n",
              "15118  2020-03-01   48215  ...         0                    0.0\n",
              "26462  2020-03-01   48373  ...         0                    0.0\n",
              "15307  2020-03-01   48217  ...         0                    0.0\n",
              "15496  2020-03-01   48219  ...         0                    0.0\n",
              "\n",
              "[5 rows x 17 columns]"
            ]
          },
          "metadata": {
            "tags": []
          },
          "execution_count": 84
        }
      ]
    },
    {
      "cell_type": "code",
      "metadata": {
        "id": "a7EHdw70A_4C",
        "colab_type": "code",
        "colab": {}
      },
      "source": [
        "TX_combined_data_ = TX_combined_data.copy()"
      ],
      "execution_count": null,
      "outputs": []
    },
    {
      "cell_type": "code",
      "metadata": {
        "id": "SAOJeAeXBEyU",
        "colab_type": "code",
        "colab": {}
      },
      "source": [
        "TX_combined_data = TX_combined_data_.copy().reset_index(drop=True)"
      ],
      "execution_count": null,
      "outputs": []
    },
    {
      "cell_type": "code",
      "metadata": {
        "id": "3DStRHsfBJs0",
        "colab_type": "code",
        "colab": {}
      },
      "source": [
        "#average_newCases_df = pd.DataFrame(columns=['County Name',  'fips_x',  'average_per_week','startDate','endDate'])\n",
        "\n",
        "for index, row in (average_newCases_df2.iterrows()):\n",
        "    startDate, endDate = row['startDate'], row['endDate']\n",
        "    fips = row['fips_x']\n",
        "    #print(startDate,endDate,fips)\n",
        "    df_index = (TX_combined_data['fips_x'] == row['fips_x']) & (TX_combined_data['Date'] >= startDate) & (TX_combined_data['Date'] <= endDate)\n",
        "    df_weekData =  TX_combined_data.loc[df_index]\n",
        "    #print(df_weekData)\n",
        "    TX_combined_data.loc[df_index,'label'] = row['labels']\n",
        "    TX_combined_data.loc[df_index,'growth_label'] = row['growth_label']"
      ],
      "execution_count": null,
      "outputs": []
    },
    {
      "cell_type": "code",
      "metadata": {
        "id": "SbV4RT7mBO4v",
        "colab_type": "code",
        "colab": {
          "base_uri": "https://localhost:8080/",
          "height": 343
        },
        "outputId": "25b9cc89-8f73-4d35-d31e-fd96fc03e820"
      },
      "source": [
        "TX_combined_data.head()"
      ],
      "execution_count": null,
      "outputs": [
        {
          "output_type": "execute_result",
          "data": {
            "text/html": [
              "<div>\n",
              "<style scoped>\n",
              "    .dataframe tbody tr th:only-of-type {\n",
              "        vertical-align: middle;\n",
              "    }\n",
              "\n",
              "    .dataframe tbody tr th {\n",
              "        vertical-align: top;\n",
              "    }\n",
              "\n",
              "    .dataframe thead th {\n",
              "        text-align: right;\n",
              "    }\n",
              "</style>\n",
              "<table border=\"1\" class=\"dataframe\">\n",
              "  <thead>\n",
              "    <tr style=\"text-align: right;\">\n",
              "      <th></th>\n",
              "      <th>Date</th>\n",
              "      <th>fips_x</th>\n",
              "      <th>County Name</th>\n",
              "      <th>retail and recreation</th>\n",
              "      <th>grocery and pharmacy</th>\n",
              "      <th>parks</th>\n",
              "      <th>transit stations</th>\n",
              "      <th>workplaces</th>\n",
              "      <th>residential</th>\n",
              "      <th>driving</th>\n",
              "      <th>m50</th>\n",
              "      <th>m50_index</th>\n",
              "      <th>population_density</th>\n",
              "      <th>mask_rule_active</th>\n",
              "      <th>mask_wearing_percent</th>\n",
              "      <th>New cases</th>\n",
              "      <th>rolling_avg_new_cases</th>\n",
              "      <th>label</th>\n",
              "      <th>growth_label</th>\n",
              "    </tr>\n",
              "  </thead>\n",
              "  <tbody>\n",
              "    <tr>\n",
              "      <th>0</th>\n",
              "      <td>2020-03-01</td>\n",
              "      <td>48001</td>\n",
              "      <td>Anderson County</td>\n",
              "      <td>16.0</td>\n",
              "      <td>15.0</td>\n",
              "      <td>0.0</td>\n",
              "      <td>0.0</td>\n",
              "      <td>3.0</td>\n",
              "      <td>0.0</td>\n",
              "      <td>27.49</td>\n",
              "      <td>8.910</td>\n",
              "      <td>79</td>\n",
              "      <td>54.333710</td>\n",
              "      <td>0</td>\n",
              "      <td>0.0</td>\n",
              "      <td>0</td>\n",
              "      <td>0.0</td>\n",
              "      <td>LessSpread</td>\n",
              "      <td>flat_growth</td>\n",
              "    </tr>\n",
              "    <tr>\n",
              "      <th>1</th>\n",
              "      <td>2020-03-01</td>\n",
              "      <td>48215</td>\n",
              "      <td>Hidalgo County</td>\n",
              "      <td>20.0</td>\n",
              "      <td>7.0</td>\n",
              "      <td>14.0</td>\n",
              "      <td>12.0</td>\n",
              "      <td>0.0</td>\n",
              "      <td>-3.0</td>\n",
              "      <td>-2.07</td>\n",
              "      <td>6.021</td>\n",
              "      <td>81</td>\n",
              "      <td>553.010115</td>\n",
              "      <td>0</td>\n",
              "      <td>0.0</td>\n",
              "      <td>0</td>\n",
              "      <td>0.0</td>\n",
              "      <td>LessSpread</td>\n",
              "      <td>flat_growth</td>\n",
              "    </tr>\n",
              "    <tr>\n",
              "      <th>2</th>\n",
              "      <td>2020-03-01</td>\n",
              "      <td>48373</td>\n",
              "      <td>Polk County</td>\n",
              "      <td>25.0</td>\n",
              "      <td>19.0</td>\n",
              "      <td>0.0</td>\n",
              "      <td>0.0</td>\n",
              "      <td>3.0</td>\n",
              "      <td>0.0</td>\n",
              "      <td>23.02</td>\n",
              "      <td>10.595</td>\n",
              "      <td>84</td>\n",
              "      <td>48.579591</td>\n",
              "      <td>0</td>\n",
              "      <td>0.0</td>\n",
              "      <td>0</td>\n",
              "      <td>0.0</td>\n",
              "      <td>LessSpread</td>\n",
              "      <td>flat_growth</td>\n",
              "    </tr>\n",
              "    <tr>\n",
              "      <th>3</th>\n",
              "      <td>2020-03-01</td>\n",
              "      <td>48217</td>\n",
              "      <td>Hill County</td>\n",
              "      <td>22.0</td>\n",
              "      <td>11.0</td>\n",
              "      <td>0.0</td>\n",
              "      <td>13.0</td>\n",
              "      <td>3.0</td>\n",
              "      <td>0.0</td>\n",
              "      <td>72.23</td>\n",
              "      <td>14.110</td>\n",
              "      <td>62</td>\n",
              "      <td>38.221430</td>\n",
              "      <td>0</td>\n",
              "      <td>0.0</td>\n",
              "      <td>0</td>\n",
              "      <td>0.0</td>\n",
              "      <td>LessSpread</td>\n",
              "      <td>flat_growth</td>\n",
              "    </tr>\n",
              "    <tr>\n",
              "      <th>4</th>\n",
              "      <td>2020-03-01</td>\n",
              "      <td>48219</td>\n",
              "      <td>Hockley County</td>\n",
              "      <td>15.0</td>\n",
              "      <td>14.0</td>\n",
              "      <td>0.0</td>\n",
              "      <td>0.0</td>\n",
              "      <td>3.0</td>\n",
              "      <td>0.0</td>\n",
              "      <td>-33.99</td>\n",
              "      <td>3.309</td>\n",
              "      <td>45</td>\n",
              "      <td>25.342639</td>\n",
              "      <td>0</td>\n",
              "      <td>0.0</td>\n",
              "      <td>0</td>\n",
              "      <td>0.0</td>\n",
              "      <td>LessSpread</td>\n",
              "      <td>flat_growth</td>\n",
              "    </tr>\n",
              "  </tbody>\n",
              "</table>\n",
              "</div>"
            ],
            "text/plain": [
              "         Date  fips_x  ...       label  growth_label\n",
              "0  2020-03-01   48001  ...  LessSpread   flat_growth\n",
              "1  2020-03-01   48215  ...  LessSpread   flat_growth\n",
              "2  2020-03-01   48373  ...  LessSpread   flat_growth\n",
              "3  2020-03-01   48217  ...  LessSpread   flat_growth\n",
              "4  2020-03-01   48219  ...  LessSpread   flat_growth\n",
              "\n",
              "[5 rows x 19 columns]"
            ]
          },
          "metadata": {
            "tags": []
          },
          "execution_count": 88
        }
      ]
    },
    {
      "cell_type": "code",
      "metadata": {
        "id": "KWep67t0BTHZ",
        "colab_type": "code",
        "colab": {
          "base_uri": "https://localhost:8080/",
          "height": 357
        },
        "outputId": "4d88e398-72b3-4442-e5dc-3f0ab3e2e21a"
      },
      "source": [
        "TX_combined_data[TX_combined_data['label'] == 'SuperSpread2'].sort_values(by=['fips_x','Date']).count()"
      ],
      "execution_count": null,
      "outputs": [
        {
          "output_type": "execute_result",
          "data": {
            "text/plain": [
              "Date                     28\n",
              "fips_x                   28\n",
              "County Name              28\n",
              "retail and recreation    28\n",
              "grocery and pharmacy     28\n",
              "parks                    28\n",
              "transit stations         28\n",
              "workplaces               28\n",
              "residential              28\n",
              "driving                  28\n",
              "m50                      28\n",
              "m50_index                28\n",
              "population_density       28\n",
              "mask_rule_active         28\n",
              "mask_wearing_percent     28\n",
              "New cases                28\n",
              "rolling_avg_new_cases    28\n",
              "label                    28\n",
              "growth_label              0\n",
              "dtype: int64"
            ]
          },
          "metadata": {
            "tags": []
          },
          "execution_count": 89
        }
      ]
    },
    {
      "cell_type": "code",
      "metadata": {
        "id": "YwscalEEBXFq",
        "colab_type": "code",
        "colab": {
          "base_uri": "https://localhost:8080/",
          "height": 34
        },
        "outputId": "89e085f9-ef5a-4462-b9ff-d768ca222afd"
      },
      "source": [
        "TX_combined_data.shape"
      ],
      "execution_count": null,
      "outputs": [
        {
          "output_type": "execute_result",
          "data": {
            "text/plain": [
              "(73558, 19)"
            ]
          },
          "metadata": {
            "tags": []
          },
          "execution_count": 90
        }
      ]
    },
    {
      "cell_type": "code",
      "metadata": {
        "id": "zAYtnNFDBadZ",
        "colab_type": "code",
        "colab": {}
      },
      "source": [
        "TX_combined_data['label'] = TX_combined_data['label'].apply(lambda x: x if x != 'SuperSpread2' else 'SuperSpread')"
      ],
      "execution_count": null,
      "outputs": []
    },
    {
      "cell_type": "code",
      "metadata": {
        "id": "Z4mrY8jvBfBb",
        "colab_type": "code",
        "colab": {
          "base_uri": "https://localhost:8080/",
          "height": 357
        },
        "outputId": "5100d8c3-b17e-4745-fd4f-6e0bb9bc85f7"
      },
      "source": [
        "TX_combined_data.dtypes"
      ],
      "execution_count": null,
      "outputs": [
        {
          "output_type": "execute_result",
          "data": {
            "text/plain": [
              "Date                      object\n",
              "fips_x                     int64\n",
              "County Name               object\n",
              "retail and recreation    float64\n",
              "grocery and pharmacy     float64\n",
              "parks                    float64\n",
              "transit stations         float64\n",
              "workplaces               float64\n",
              "residential              float64\n",
              "driving                  float64\n",
              "m50                      float64\n",
              "m50_index                  int64\n",
              "population_density       float64\n",
              "mask_rule_active           int64\n",
              "mask_wearing_percent     float64\n",
              "New cases                  int64\n",
              "rolling_avg_new_cases    float64\n",
              "label                     object\n",
              "growth_label              object\n",
              "dtype: object"
            ]
          },
          "metadata": {
            "tags": []
          },
          "execution_count": 92
        }
      ]
    },
    {
      "cell_type": "code",
      "metadata": {
        "id": "5y0FBKWdBgVv",
        "colab_type": "code",
        "colab": {
          "base_uri": "https://localhost:8080/",
          "height": 357
        },
        "outputId": "ab8f8a10-b137-4c79-8fa2-674bdc03afa2"
      },
      "source": [
        "TX_combined_data[TX_combined_data['label'] == 'LessSpread'].count()"
      ],
      "execution_count": null,
      "outputs": [
        {
          "output_type": "execute_result",
          "data": {
            "text/plain": [
              "Date                     71808\n",
              "fips_x                   71808\n",
              "County Name              71808\n",
              "retail and recreation    71808\n",
              "grocery and pharmacy     71808\n",
              "parks                    71808\n",
              "transit stations         71808\n",
              "workplaces               71808\n",
              "residential              71808\n",
              "driving                  71808\n",
              "m50                      71808\n",
              "m50_index                71808\n",
              "population_density       71808\n",
              "mask_rule_active         71808\n",
              "mask_wearing_percent     71808\n",
              "New cases                71808\n",
              "rolling_avg_new_cases    71808\n",
              "label                    71808\n",
              "growth_label             71788\n",
              "dtype: int64"
            ]
          },
          "metadata": {
            "tags": []
          },
          "execution_count": 93
        }
      ]
    },
    {
      "cell_type": "code",
      "metadata": {
        "id": "2ogpQ_9cBhmJ",
        "colab_type": "code",
        "colab": {
          "base_uri": "https://localhost:8080/",
          "height": 357
        },
        "outputId": "9f105eba-8fc5-4c2d-ae54-ba6c1e3681f4"
      },
      "source": [
        "TX_combined_data[TX_combined_data['growth_label'] == 'flat_growth'].count()"
      ],
      "execution_count": null,
      "outputs": [
        {
          "output_type": "execute_result",
          "data": {
            "text/plain": [
              "Date                     11762\n",
              "fips_x                   11762\n",
              "County Name              11762\n",
              "retail and recreation    11762\n",
              "grocery and pharmacy     11762\n",
              "parks                    11762\n",
              "transit stations         11762\n",
              "workplaces               11762\n",
              "residential              11762\n",
              "driving                  11762\n",
              "m50                      11762\n",
              "m50_index                11762\n",
              "population_density       11762\n",
              "mask_rule_active         11762\n",
              "mask_wearing_percent     11762\n",
              "New cases                11762\n",
              "rolling_avg_new_cases    11762\n",
              "label                    11762\n",
              "growth_label             11762\n",
              "dtype: int64"
            ]
          },
          "metadata": {
            "tags": []
          },
          "execution_count": 94
        }
      ]
    },
    {
      "cell_type": "markdown",
      "metadata": {
        "id": "smb0hKa_Br3T",
        "colab_type": "text"
      },
      "source": [
        "## Export Combined labeled Data"
      ]
    },
    {
      "cell_type": "code",
      "metadata": {
        "id": "4vO2ZrMIBoXB",
        "colab_type": "code",
        "colab": {
          "base_uri": "https://localhost:8080/",
          "height": 34
        },
        "outputId": "1f260751-4995-4d60-97df-cef679866ffd"
      },
      "source": [
        "from datetime import datetime\n",
        "location = '/content/drive/Shared drives/CMPE 295- Master Project/Covid19-data/'\n",
        "filename = 'TX_labeledData_'+datetime.now().strftime(\"%b%d\")+'.csv' #%Y%m%d\n",
        "print(filename)\n",
        "TX_combined_data.to_csv(location+filename,index=False)"
      ],
      "execution_count": null,
      "outputs": [
        {
          "output_type": "stream",
          "text": [
            "TX_labeledData_Sep16.csv\n"
          ],
          "name": "stdout"
        }
      ]
    },
    {
      "cell_type": "code",
      "metadata": {
        "id": "85S0vJ6pBuhY",
        "colab_type": "code",
        "colab": {
          "base_uri": "https://localhost:8080/",
          "height": 297
        },
        "outputId": "89143397-15d4-4962-de6a-d88c8c36d114"
      },
      "source": [
        "average_newCases_df2[average_newCases_df2['labels'] == 'SuperSpread']"
      ],
      "execution_count": null,
      "outputs": [
        {
          "output_type": "execute_result",
          "data": {
            "text/html": [
              "<div>\n",
              "<style scoped>\n",
              "    .dataframe tbody tr th:only-of-type {\n",
              "        vertical-align: middle;\n",
              "    }\n",
              "\n",
              "    .dataframe tbody tr th {\n",
              "        vertical-align: top;\n",
              "    }\n",
              "\n",
              "    .dataframe thead th {\n",
              "        text-align: right;\n",
              "    }\n",
              "</style>\n",
              "<table border=\"1\" class=\"dataframe\">\n",
              "  <thead>\n",
              "    <tr style=\"text-align: right;\">\n",
              "      <th></th>\n",
              "      <th>County Name</th>\n",
              "      <th>fips_x</th>\n",
              "      <th>average_per_week</th>\n",
              "      <th>startDate</th>\n",
              "      <th>endDate</th>\n",
              "      <th>diff_avg_x</th>\n",
              "      <th>shift_avg_x</th>\n",
              "      <th>percent_newcases</th>\n",
              "      <th>growth_per_day</th>\n",
              "      <th>growth_label</th>\n",
              "      <th>labels</th>\n",
              "    </tr>\n",
              "  </thead>\n",
              "  <tbody>\n",
              "    <tr>\n",
              "      <th>216</th>\n",
              "      <td>Bell County</td>\n",
              "      <td>48027</td>\n",
              "      <td>1.377551</td>\n",
              "      <td>2020-03-15</td>\n",
              "      <td>2020-03-28</td>\n",
              "      <td>1.367347</td>\n",
              "      <td>0.010204</td>\n",
              "      <td>134.000000</td>\n",
              "      <td>134.000000</td>\n",
              "      <td>drastic_growth</td>\n",
              "      <td>SuperSpread</td>\n",
              "    </tr>\n",
              "    <tr>\n",
              "      <th>217</th>\n",
              "      <td>Bexar County</td>\n",
              "      <td>48029</td>\n",
              "      <td>5.714286</td>\n",
              "      <td>2020-03-15</td>\n",
              "      <td>2020-03-28</td>\n",
              "      <td>5.683673</td>\n",
              "      <td>0.030612</td>\n",
              "      <td>185.666667</td>\n",
              "      <td>51.666667</td>\n",
              "      <td>drastic_growth</td>\n",
              "      <td>SuperSpread</td>\n",
              "    </tr>\n",
              "    <tr>\n",
              "      <th>221</th>\n",
              "      <td>Brazoria County</td>\n",
              "      <td>48039</td>\n",
              "      <td>2.275510</td>\n",
              "      <td>2020-03-15</td>\n",
              "      <td>2020-03-28</td>\n",
              "      <td>2.255102</td>\n",
              "      <td>0.020408</td>\n",
              "      <td>110.500000</td>\n",
              "      <td>110.500000</td>\n",
              "      <td>drastic_growth</td>\n",
              "      <td>SuperSpread</td>\n",
              "    </tr>\n",
              "    <tr>\n",
              "      <th>260</th>\n",
              "      <td>El Paso County</td>\n",
              "      <td>48141</td>\n",
              "      <td>1.377551</td>\n",
              "      <td>2020-03-15</td>\n",
              "      <td>2020-03-28</td>\n",
              "      <td>1.367347</td>\n",
              "      <td>0.010204</td>\n",
              "      <td>134.000000</td>\n",
              "      <td>134.000000</td>\n",
              "      <td>drastic_growth</td>\n",
              "      <td>SuperSpread</td>\n",
              "    </tr>\n",
              "    <tr>\n",
              "      <th>271</th>\n",
              "      <td>Galveston County</td>\n",
              "      <td>48167</td>\n",
              "      <td>2.010204</td>\n",
              "      <td>2020-03-15</td>\n",
              "      <td>2020-03-28</td>\n",
              "      <td>2.000000</td>\n",
              "      <td>0.010204</td>\n",
              "      <td>196.000000</td>\n",
              "      <td>196.000000</td>\n",
              "      <td>drastic_growth</td>\n",
              "      <td>SuperSpread</td>\n",
              "    </tr>\n",
              "    <tr>\n",
              "      <th>379</th>\n",
              "      <td>Travis County</td>\n",
              "      <td>48453</td>\n",
              "      <td>7.938776</td>\n",
              "      <td>2020-03-15</td>\n",
              "      <td>2020-03-28</td>\n",
              "      <td>7.887755</td>\n",
              "      <td>0.051020</td>\n",
              "      <td>154.600000</td>\n",
              "      <td>154.600000</td>\n",
              "      <td>drastic_growth</td>\n",
              "      <td>SuperSpread</td>\n",
              "    </tr>\n",
              "    <tr>\n",
              "      <th>462</th>\n",
              "      <td>Ector County</td>\n",
              "      <td>48135</td>\n",
              "      <td>2.336735</td>\n",
              "      <td>2020-03-29</td>\n",
              "      <td>2020-04-11</td>\n",
              "      <td>2.326531</td>\n",
              "      <td>0.010204</td>\n",
              "      <td>228.000000</td>\n",
              "      <td>228.384615</td>\n",
              "      <td>drastic_growth</td>\n",
              "      <td>SuperSpread</td>\n",
              "    </tr>\n",
              "    <tr>\n",
              "      <th>951</th>\n",
              "      <td>Ochiltree County</td>\n",
              "      <td>48357</td>\n",
              "      <td>2.028571</td>\n",
              "      <td>2020-04-27</td>\n",
              "      <td>2020-05-10</td>\n",
              "      <td>2.012698</td>\n",
              "      <td>0.015873</td>\n",
              "      <td>126.800000</td>\n",
              "      <td>126.745355</td>\n",
              "      <td>drastic_growth</td>\n",
              "      <td>SuperSpread</td>\n",
              "    </tr>\n",
              "  </tbody>\n",
              "</table>\n",
              "</div>"
            ],
            "text/plain": [
              "          County Name  fips_x  ...    growth_label       labels\n",
              "216       Bell County   48027  ...  drastic_growth  SuperSpread\n",
              "217      Bexar County   48029  ...  drastic_growth  SuperSpread\n",
              "221   Brazoria County   48039  ...  drastic_growth  SuperSpread\n",
              "260    El Paso County   48141  ...  drastic_growth  SuperSpread\n",
              "271  Galveston County   48167  ...  drastic_growth  SuperSpread\n",
              "379     Travis County   48453  ...  drastic_growth  SuperSpread\n",
              "462      Ector County   48135  ...  drastic_growth  SuperSpread\n",
              "951  Ochiltree County   48357  ...  drastic_growth  SuperSpread\n",
              "\n",
              "[8 rows x 11 columns]"
            ]
          },
          "metadata": {
            "tags": []
          },
          "execution_count": 96
        }
      ]
    },
    {
      "cell_type": "markdown",
      "metadata": {
        "id": "npDzNCNVB52w",
        "colab_type": "text"
      },
      "source": [
        "## Kernal Density Estimation"
      ]
    },
    {
      "cell_type": "code",
      "metadata": {
        "id": "iU9_y-eKB6oh",
        "colab_type": "code",
        "colab": {
          "base_uri": "https://localhost:8080/",
          "height": 282
        },
        "outputId": "21bd6482-bcea-4f9a-8614-d248feaa5f47"
      },
      "source": [
        "%matplotlib inline\n",
        "\n",
        "from numpy import array, linspace\n",
        "from sklearn.neighbors.kde import KernelDensity\n",
        "from matplotlib.pyplot import plot\n",
        "\n",
        "a = array(data).reshape(-1, 1)\n",
        "kde = KernelDensity(kernel='gaussian', bandwidth=3).fit(a)\n",
        "s = linspace(0,50)\n",
        "e = kde.score_samples(s.reshape(-1,1))\n",
        "plot(s, e)"
      ],
      "execution_count": null,
      "outputs": [
        {
          "output_type": "execute_result",
          "data": {
            "text/plain": [
              "[<matplotlib.lines.Line2D at 0x7feb7eaf7128>]"
            ]
          },
          "metadata": {
            "tags": []
          },
          "execution_count": 97
        },
        {
          "output_type": "display_data",
          "data": {
            "image/png": "[encoded data removed]",
            "text/plain": [
              "<Figure size 432x288 with 1 Axes>"
            ]
          },
          "metadata": {
            "tags": [],
            "needs_background": "light"
          }
        }
      ]
    },
    {
      "cell_type": "code",
      "metadata": {
        "id": "o0nA59EbB9TT",
        "colab_type": "code",
        "colab": {
          "base_uri": "https://localhost:8080/",
          "height": 51
        },
        "outputId": "c467f8c0-f9ad-4bce-8ae6-ead7ed86c7da"
      },
      "source": [
        "from scipy.signal import argrelextrema\n",
        "mi, ma = argrelextrema(e, np.less)[0], argrelextrema(e, np.greater)[0]\n",
        "print(\"Minima:\", s[mi])\n",
        "print(\"Maxima:\", s[ma])"
      ],
      "execution_count": null,
      "outputs": [
        {
          "output_type": "stream",
          "text": [
            "Minima: [38.7755102]\n",
            "Maxima: [44.89795918]\n"
          ],
          "name": "stdout"
        }
      ]
    },
    {
      "cell_type": "code",
      "metadata": {
        "id": "P15mk09xB_gz",
        "colab_type": "code",
        "colab": {
          "base_uri": "https://localhost:8080/",
          "height": 215
        },
        "outputId": "af67075c-a6a7-4e90-f84d-87e71fc1138b"
      },
      "source": [
        "lower_range = s[mi][0]\n",
        "upper_range = s[mi][1]\n",
        "\n",
        "lower_range"
      ],
      "execution_count": null,
      "outputs": [
        {
          "output_type": "error",
          "ename": "IndexError",
          "evalue": "ignored",
          "traceback": [
            "\u001b[0;31m---------------------------------------------------------------------------\u001b[0m",
            "\u001b[0;31mIndexError\u001b[0m                                Traceback (most recent call last)",
            "\u001b[0;32m<ipython-input-99-1bc630e67654>\u001b[0m in \u001b[0;36m<module>\u001b[0;34m()\u001b[0m\n\u001b[1;32m      1\u001b[0m \u001b[0mlower_range\u001b[0m \u001b[0;34m=\u001b[0m \u001b[0ms\u001b[0m\u001b[0;34m[\u001b[0m\u001b[0mmi\u001b[0m\u001b[0;34m]\u001b[0m\u001b[0;34m[\u001b[0m\u001b[0;36m0\u001b[0m\u001b[0;34m]\u001b[0m\u001b[0;34m\u001b[0m\u001b[0;34m\u001b[0m\u001b[0m\n\u001b[0;32m----> 2\u001b[0;31m \u001b[0mupper_range\u001b[0m \u001b[0;34m=\u001b[0m \u001b[0ms\u001b[0m\u001b[0;34m[\u001b[0m\u001b[0mmi\u001b[0m\u001b[0;34m]\u001b[0m\u001b[0;34m[\u001b[0m\u001b[0;36m1\u001b[0m\u001b[0;34m]\u001b[0m\u001b[0;34m\u001b[0m\u001b[0;34m\u001b[0m\u001b[0m\n\u001b[0m\u001b[1;32m      3\u001b[0m \u001b[0;34m\u001b[0m\u001b[0m\n\u001b[1;32m      4\u001b[0m \u001b[0mlower_range\u001b[0m\u001b[0;34m\u001b[0m\u001b[0;34m\u001b[0m\u001b[0m\n",
            "\u001b[0;31mIndexError\u001b[0m: index 1 is out of bounds for axis 0 with size 1"
          ]
        }
      ]
    },
    {
      "cell_type": "code",
      "metadata": {
        "id": "HCsOUyupCi7S",
        "colab_type": "code",
        "colab": {
          "base_uri": "https://localhost:8080/",
          "height": 164
        },
        "outputId": "b1847b38-e6d2-4988-f9e0-ec0aa87e959c"
      },
      "source": [
        "print(a[a < mi[0]], a[(a >= mi[0]) * (a <= mi[1])], a[a >= mi[1]])\n"
      ],
      "execution_count": null,
      "outputs": [
        {
          "output_type": "error",
          "ename": "IndexError",
          "evalue": "ignored",
          "traceback": [
            "\u001b[0;31m---------------------------------------------------------------------------\u001b[0m",
            "\u001b[0;31mIndexError\u001b[0m                                Traceback (most recent call last)",
            "\u001b[0;32m<ipython-input-100-865c4b118ac7>\u001b[0m in \u001b[0;36m<module>\u001b[0;34m()\u001b[0m\n\u001b[0;32m----> 1\u001b[0;31m \u001b[0mprint\u001b[0m\u001b[0;34m(\u001b[0m\u001b[0ma\u001b[0m\u001b[0;34m[\u001b[0m\u001b[0ma\u001b[0m \u001b[0;34m<\u001b[0m \u001b[0mmi\u001b[0m\u001b[0;34m[\u001b[0m\u001b[0;36m0\u001b[0m\u001b[0;34m]\u001b[0m\u001b[0;34m]\u001b[0m\u001b[0;34m,\u001b[0m \u001b[0ma\u001b[0m\u001b[0;34m[\u001b[0m\u001b[0;34m(\u001b[0m\u001b[0ma\u001b[0m \u001b[0;34m>=\u001b[0m \u001b[0mmi\u001b[0m\u001b[0;34m[\u001b[0m\u001b[0;36m0\u001b[0m\u001b[0;34m]\u001b[0m\u001b[0;34m)\u001b[0m \u001b[0;34m*\u001b[0m \u001b[0;34m(\u001b[0m\u001b[0ma\u001b[0m \u001b[0;34m<=\u001b[0m \u001b[0mmi\u001b[0m\u001b[0;34m[\u001b[0m\u001b[0;36m1\u001b[0m\u001b[0;34m]\u001b[0m\u001b[0;34m)\u001b[0m\u001b[0;34m]\u001b[0m\u001b[0;34m,\u001b[0m \u001b[0ma\u001b[0m\u001b[0;34m[\u001b[0m\u001b[0ma\u001b[0m \u001b[0;34m>=\u001b[0m \u001b[0mmi\u001b[0m\u001b[0;34m[\u001b[0m\u001b[0;36m1\u001b[0m\u001b[0;34m]\u001b[0m\u001b[0;34m]\u001b[0m\u001b[0;34m)\u001b[0m\u001b[0;34m\u001b[0m\u001b[0;34m\u001b[0m\u001b[0m\n\u001b[0m",
            "\u001b[0;31mIndexError\u001b[0m: index 1 is out of bounds for axis 0 with size 1"
          ]
        }
      ]
    },
    {
      "cell_type": "code",
      "metadata": {
        "id": "ukGiIN4TCmFJ",
        "colab_type": "code",
        "colab": {
          "base_uri": "https://localhost:8080/",
          "height": 232
        },
        "outputId": "b45d89a3-836d-49e5-834a-019bf2625e7b"
      },
      "source": [
        "plot(s[:mi[0]+1], e[:mi[0]+1], 'r',\n",
        "     s[mi[0]:mi[1]+1], e[mi[0]:mi[1]+1], 'g',\n",
        "     s[mi[1]:], e[mi[1]:], 'b',\n",
        "     s[ma], e[ma], 'go',\n",
        "     s[mi], e[mi], 'ro')"
      ],
      "execution_count": null,
      "outputs": [
        {
          "output_type": "error",
          "ename": "IndexError",
          "evalue": "ignored",
          "traceback": [
            "\u001b[0;31m---------------------------------------------------------------------------\u001b[0m",
            "\u001b[0;31mIndexError\u001b[0m                                Traceback (most recent call last)",
            "\u001b[0;32m<ipython-input-101-ce3a5ca251d7>\u001b[0m in \u001b[0;36m<module>\u001b[0;34m()\u001b[0m\n\u001b[1;32m      1\u001b[0m plot(s[:mi[0]+1], e[:mi[0]+1], 'r',\n\u001b[0;32m----> 2\u001b[0;31m      \u001b[0ms\u001b[0m\u001b[0;34m[\u001b[0m\u001b[0mmi\u001b[0m\u001b[0;34m[\u001b[0m\u001b[0;36m0\u001b[0m\u001b[0;34m]\u001b[0m\u001b[0;34m:\u001b[0m\u001b[0mmi\u001b[0m\u001b[0;34m[\u001b[0m\u001b[0;36m1\u001b[0m\u001b[0;34m]\u001b[0m\u001b[0;34m+\u001b[0m\u001b[0;36m1\u001b[0m\u001b[0;34m]\u001b[0m\u001b[0;34m,\u001b[0m \u001b[0me\u001b[0m\u001b[0;34m[\u001b[0m\u001b[0mmi\u001b[0m\u001b[0;34m[\u001b[0m\u001b[0;36m0\u001b[0m\u001b[0;34m]\u001b[0m\u001b[0;34m:\u001b[0m\u001b[0mmi\u001b[0m\u001b[0;34m[\u001b[0m\u001b[0;36m1\u001b[0m\u001b[0;34m]\u001b[0m\u001b[0;34m+\u001b[0m\u001b[0;36m1\u001b[0m\u001b[0;34m]\u001b[0m\u001b[0;34m,\u001b[0m \u001b[0;34m'g'\u001b[0m\u001b[0;34m,\u001b[0m\u001b[0;34m\u001b[0m\u001b[0;34m\u001b[0m\u001b[0m\n\u001b[0m\u001b[1;32m      3\u001b[0m      \u001b[0ms\u001b[0m\u001b[0;34m[\u001b[0m\u001b[0mmi\u001b[0m\u001b[0;34m[\u001b[0m\u001b[0;36m1\u001b[0m\u001b[0;34m]\u001b[0m\u001b[0;34m:\u001b[0m\u001b[0;34m]\u001b[0m\u001b[0;34m,\u001b[0m \u001b[0me\u001b[0m\u001b[0;34m[\u001b[0m\u001b[0mmi\u001b[0m\u001b[0;34m[\u001b[0m\u001b[0;36m1\u001b[0m\u001b[0;34m]\u001b[0m\u001b[0;34m:\u001b[0m\u001b[0;34m]\u001b[0m\u001b[0;34m,\u001b[0m \u001b[0;34m'b'\u001b[0m\u001b[0;34m,\u001b[0m\u001b[0;34m\u001b[0m\u001b[0;34m\u001b[0m\u001b[0m\n\u001b[1;32m      4\u001b[0m      \u001b[0ms\u001b[0m\u001b[0;34m[\u001b[0m\u001b[0mma\u001b[0m\u001b[0;34m]\u001b[0m\u001b[0;34m,\u001b[0m \u001b[0me\u001b[0m\u001b[0;34m[\u001b[0m\u001b[0mma\u001b[0m\u001b[0;34m]\u001b[0m\u001b[0;34m,\u001b[0m \u001b[0;34m'go'\u001b[0m\u001b[0;34m,\u001b[0m\u001b[0;34m\u001b[0m\u001b[0;34m\u001b[0m\u001b[0m\n\u001b[1;32m      5\u001b[0m      s[mi], e[mi], 'ro')\n",
            "\u001b[0;31mIndexError\u001b[0m: index 1 is out of bounds for axis 0 with size 1"
          ]
        }
      ]
    },
    {
      "cell_type": "markdown",
      "metadata": {
        "id": "2vbMj4_HCoYy",
        "colab_type": "text"
      },
      "source": [
        "## Labeling Data with Kernal density results"
      ]
    },
    {
      "cell_type": "code",
      "metadata": {
        "id": "cSKs-RWyCpYv",
        "colab_type": "code",
        "colab": {
          "base_uri": "https://localhost:8080/",
          "height": 204
        },
        "outputId": "8435c4d4-a265-44e6-f6ac-93f76bcc30e9"
      },
      "source": [
        "average_newCases_df3.head()"
      ],
      "execution_count": null,
      "outputs": [
        {
          "output_type": "execute_result",
          "data": {
            "text/html": [
              "<div>\n",
              "<style scoped>\n",
              "    .dataframe tbody tr th:only-of-type {\n",
              "        vertical-align: middle;\n",
              "    }\n",
              "\n",
              "    .dataframe tbody tr th {\n",
              "        vertical-align: top;\n",
              "    }\n",
              "\n",
              "    .dataframe thead th {\n",
              "        text-align: right;\n",
              "    }\n",
              "</style>\n",
              "<table border=\"1\" class=\"dataframe\">\n",
              "  <thead>\n",
              "    <tr style=\"text-align: right;\">\n",
              "      <th></th>\n",
              "      <th>County Name</th>\n",
              "      <th>fips_x</th>\n",
              "      <th>average_per_week</th>\n",
              "      <th>startDate</th>\n",
              "      <th>endDate</th>\n",
              "      <th>diff_avg_x</th>\n",
              "      <th>shift_avg_x</th>\n",
              "      <th>percent_newcases</th>\n",
              "    </tr>\n",
              "  </thead>\n",
              "  <tbody>\n",
              "    <tr>\n",
              "      <th>0</th>\n",
              "      <td>Anderson County</td>\n",
              "      <td>48001</td>\n",
              "      <td>0.0</td>\n",
              "      <td>2020-03-01</td>\n",
              "      <td>2020-03-14</td>\n",
              "      <td>0.0</td>\n",
              "      <td>NaN</td>\n",
              "      <td>0.0</td>\n",
              "    </tr>\n",
              "    <tr>\n",
              "      <th>1</th>\n",
              "      <td>Andrews County</td>\n",
              "      <td>48003</td>\n",
              "      <td>0.0</td>\n",
              "      <td>2020-03-01</td>\n",
              "      <td>2020-03-14</td>\n",
              "      <td>0.0</td>\n",
              "      <td>NaN</td>\n",
              "      <td>0.0</td>\n",
              "    </tr>\n",
              "    <tr>\n",
              "      <th>2</th>\n",
              "      <td>Angelina County</td>\n",
              "      <td>48005</td>\n",
              "      <td>0.0</td>\n",
              "      <td>2020-03-01</td>\n",
              "      <td>2020-03-14</td>\n",
              "      <td>0.0</td>\n",
              "      <td>NaN</td>\n",
              "      <td>0.0</td>\n",
              "    </tr>\n",
              "    <tr>\n",
              "      <th>3</th>\n",
              "      <td>Aransas County</td>\n",
              "      <td>48007</td>\n",
              "      <td>0.0</td>\n",
              "      <td>2020-03-01</td>\n",
              "      <td>2020-03-14</td>\n",
              "      <td>0.0</td>\n",
              "      <td>NaN</td>\n",
              "      <td>0.0</td>\n",
              "    </tr>\n",
              "    <tr>\n",
              "      <th>4</th>\n",
              "      <td>Archer County</td>\n",
              "      <td>48009</td>\n",
              "      <td>0.0</td>\n",
              "      <td>2020-03-01</td>\n",
              "      <td>2020-03-14</td>\n",
              "      <td>0.0</td>\n",
              "      <td>NaN</td>\n",
              "      <td>0.0</td>\n",
              "    </tr>\n",
              "  </tbody>\n",
              "</table>\n",
              "</div>"
            ],
            "text/plain": [
              "       County Name  fips_x  ...  shift_avg_x percent_newcases\n",
              "0  Anderson County   48001  ...          NaN              0.0\n",
              "1   Andrews County   48003  ...          NaN              0.0\n",
              "2  Angelina County   48005  ...          NaN              0.0\n",
              "3   Aransas County   48007  ...          NaN              0.0\n",
              "4    Archer County   48009  ...          NaN              0.0\n",
              "\n",
              "[5 rows x 8 columns]"
            ]
          },
          "metadata": {
            "tags": []
          },
          "execution_count": 102
        }
      ]
    },
    {
      "cell_type": "code",
      "metadata": {
        "id": "oqVoodgGCsdm",
        "colab_type": "code",
        "colab": {
          "base_uri": "https://localhost:8080/",
          "height": 164
        },
        "outputId": "8a0f54c2-adbd-4b46-e9be-999ec836cf31"
      },
      "source": [
        "print(lower_range, upper_range)"
      ],
      "execution_count": null,
      "outputs": [
        {
          "output_type": "error",
          "ename": "NameError",
          "evalue": "ignored",
          "traceback": [
            "\u001b[0;31m---------------------------------------------------------------------------\u001b[0m",
            "\u001b[0;31mNameError\u001b[0m                                 Traceback (most recent call last)",
            "\u001b[0;32m<ipython-input-103-5594260593df>\u001b[0m in \u001b[0;36m<module>\u001b[0;34m()\u001b[0m\n\u001b[0;32m----> 1\u001b[0;31m \u001b[0mprint\u001b[0m\u001b[0;34m(\u001b[0m\u001b[0mlower_range\u001b[0m\u001b[0;34m,\u001b[0m \u001b[0mupper_range\u001b[0m\u001b[0;34m)\u001b[0m\u001b[0;34m\u001b[0m\u001b[0;34m\u001b[0m\u001b[0m\n\u001b[0m",
            "\u001b[0;31mNameError\u001b[0m: name 'upper_range' is not defined"
          ]
        }
      ]
    },
    {
      "cell_type": "code",
      "metadata": {
        "id": "YgPs_W8xCuoG",
        "colab_type": "code",
        "colab": {}
      },
      "source": [
        "average_newCases_df3['label'] = average_newCases_df3['percent_newcases'].apply(lambda x: 'lessSpread' if x < lower_range  else 'SuperSpread')"
      ],
      "execution_count": null,
      "outputs": []
    },
    {
      "cell_type": "code",
      "metadata": {
        "id": "kAs1toXwCw2q",
        "colab_type": "code",
        "colab": {
          "base_uri": "https://localhost:8080/",
          "height": 307
        },
        "outputId": "7b199c9b-418a-49b0-fa7e-f3ecec4cbc35"
      },
      "source": [
        "average_newCases_df3['label'] = average_newCases_df3['percent_newcases'].apply(lambda x: 'lessSpread' if x < lower_range else ('Spread' if (x >= lower_range and x <= upper_range) else 'SuperSpread'))"
      ],
      "execution_count": null,
      "outputs": [
        {
          "output_type": "error",
          "ename": "NameError",
          "evalue": "ignored",
          "traceback": [
            "\u001b[0;31m---------------------------------------------------------------------------\u001b[0m",
            "\u001b[0;31mNameError\u001b[0m                                 Traceback (most recent call last)",
            "\u001b[0;32m<ipython-input-105-40edd66734b0>\u001b[0m in \u001b[0;36m<module>\u001b[0;34m()\u001b[0m\n\u001b[0;32m----> 1\u001b[0;31m \u001b[0maverage_newCases_df3\u001b[0m\u001b[0;34m[\u001b[0m\u001b[0;34m'label'\u001b[0m\u001b[0;34m]\u001b[0m \u001b[0;34m=\u001b[0m \u001b[0maverage_newCases_df3\u001b[0m\u001b[0;34m[\u001b[0m\u001b[0;34m'percent_newcases'\u001b[0m\u001b[0;34m]\u001b[0m\u001b[0;34m.\u001b[0m\u001b[0mapply\u001b[0m\u001b[0;34m(\u001b[0m\u001b[0;32mlambda\u001b[0m \u001b[0mx\u001b[0m\u001b[0;34m:\u001b[0m \u001b[0;34m'lessSpread'\u001b[0m \u001b[0;32mif\u001b[0m \u001b[0mx\u001b[0m \u001b[0;34m<\u001b[0m \u001b[0mlower_range\u001b[0m \u001b[0;32melse\u001b[0m \u001b[0;34m(\u001b[0m\u001b[0;34m'Spread'\u001b[0m \u001b[0;32mif\u001b[0m \u001b[0;34m(\u001b[0m\u001b[0mx\u001b[0m \u001b[0;34m>=\u001b[0m \u001b[0mlower_range\u001b[0m \u001b[0;32mand\u001b[0m \u001b[0mx\u001b[0m \u001b[0;34m<=\u001b[0m \u001b[0mupper_range\u001b[0m\u001b[0;34m)\u001b[0m \u001b[0;32melse\u001b[0m \u001b[0;34m'SuperSpread'\u001b[0m\u001b[0;34m)\u001b[0m\u001b[0;34m)\u001b[0m\u001b[0;34m\u001b[0m\u001b[0;34m\u001b[0m\u001b[0m\n\u001b[0m",
            "\u001b[0;32m/usr/local/lib/python3.6/dist-packages/pandas/core/series.py\u001b[0m in \u001b[0;36mapply\u001b[0;34m(self, func, convert_dtype, args, **kwds)\u001b[0m\n\u001b[1;32m   3846\u001b[0m             \u001b[0;32melse\u001b[0m\u001b[0;34m:\u001b[0m\u001b[0;34m\u001b[0m\u001b[0;34m\u001b[0m\u001b[0m\n\u001b[1;32m   3847\u001b[0m                 \u001b[0mvalues\u001b[0m \u001b[0;34m=\u001b[0m \u001b[0mself\u001b[0m\u001b[0;34m.\u001b[0m\u001b[0mastype\u001b[0m\u001b[0;34m(\u001b[0m\u001b[0mobject\u001b[0m\u001b[0;34m)\u001b[0m\u001b[0;34m.\u001b[0m\u001b[0mvalues\u001b[0m\u001b[0;34m\u001b[0m\u001b[0;34m\u001b[0m\u001b[0m\n\u001b[0;32m-> 3848\u001b[0;31m                 \u001b[0mmapped\u001b[0m \u001b[0;34m=\u001b[0m \u001b[0mlib\u001b[0m\u001b[0;34m.\u001b[0m\u001b[0mmap_infer\u001b[0m\u001b[0;34m(\u001b[0m\u001b[0mvalues\u001b[0m\u001b[0;34m,\u001b[0m \u001b[0mf\u001b[0m\u001b[0;34m,\u001b[0m \u001b[0mconvert\u001b[0m\u001b[0;34m=\u001b[0m\u001b[0mconvert_dtype\u001b[0m\u001b[0;34m)\u001b[0m\u001b[0;34m\u001b[0m\u001b[0;34m\u001b[0m\u001b[0m\n\u001b[0m\u001b[1;32m   3849\u001b[0m \u001b[0;34m\u001b[0m\u001b[0m\n\u001b[1;32m   3850\u001b[0m         \u001b[0;32mif\u001b[0m \u001b[0mlen\u001b[0m\u001b[0;34m(\u001b[0m\u001b[0mmapped\u001b[0m\u001b[0;34m)\u001b[0m \u001b[0;32mand\u001b[0m \u001b[0misinstance\u001b[0m\u001b[0;34m(\u001b[0m\u001b[0mmapped\u001b[0m\u001b[0;34m[\u001b[0m\u001b[0;36m0\u001b[0m\u001b[0;34m]\u001b[0m\u001b[0;34m,\u001b[0m \u001b[0mSeries\u001b[0m\u001b[0;34m)\u001b[0m\u001b[0;34m:\u001b[0m\u001b[0;34m\u001b[0m\u001b[0;34m\u001b[0m\u001b[0m\n",
            "\u001b[0;32mpandas/_libs/lib.pyx\u001b[0m in \u001b[0;36mpandas._libs.lib.map_infer\u001b[0;34m()\u001b[0m\n",
            "\u001b[0;32m<ipython-input-105-40edd66734b0>\u001b[0m in \u001b[0;36m<lambda>\u001b[0;34m(x)\u001b[0m\n\u001b[0;32m----> 1\u001b[0;31m \u001b[0maverage_newCases_df3\u001b[0m\u001b[0;34m[\u001b[0m\u001b[0;34m'label'\u001b[0m\u001b[0;34m]\u001b[0m \u001b[0;34m=\u001b[0m \u001b[0maverage_newCases_df3\u001b[0m\u001b[0;34m[\u001b[0m\u001b[0;34m'percent_newcases'\u001b[0m\u001b[0;34m]\u001b[0m\u001b[0;34m.\u001b[0m\u001b[0mapply\u001b[0m\u001b[0;34m(\u001b[0m\u001b[0;32mlambda\u001b[0m \u001b[0mx\u001b[0m\u001b[0;34m:\u001b[0m \u001b[0;34m'lessSpread'\u001b[0m \u001b[0;32mif\u001b[0m \u001b[0mx\u001b[0m \u001b[0;34m<\u001b[0m \u001b[0mlower_range\u001b[0m \u001b[0;32melse\u001b[0m \u001b[0;34m(\u001b[0m\u001b[0;34m'Spread'\u001b[0m \u001b[0;32mif\u001b[0m \u001b[0;34m(\u001b[0m\u001b[0mx\u001b[0m \u001b[0;34m>=\u001b[0m \u001b[0mlower_range\u001b[0m \u001b[0;32mand\u001b[0m \u001b[0mx\u001b[0m \u001b[0;34m<=\u001b[0m \u001b[0mupper_range\u001b[0m\u001b[0;34m)\u001b[0m \u001b[0;32melse\u001b[0m \u001b[0;34m'SuperSpread'\u001b[0m\u001b[0;34m)\u001b[0m\u001b[0;34m)\u001b[0m\u001b[0;34m\u001b[0m\u001b[0;34m\u001b[0m\u001b[0m\n\u001b[0m",
            "\u001b[0;31mNameError\u001b[0m: name 'upper_range' is not defined"
          ]
        }
      ]
    },
    {
      "cell_type": "code",
      "metadata": {
        "id": "OTckrpNcC0yJ",
        "colab_type": "code",
        "colab": {
          "base_uri": "https://localhost:8080/",
          "height": 187
        },
        "outputId": "b015dbec-271a-4eb2-e1a4-4154875c1557"
      },
      "source": [
        "average_newCases_df3[average_newCases_df3['label'] == 'lessSpread'].count()"
      ],
      "execution_count": null,
      "outputs": [
        {
          "output_type": "execute_result",
          "data": {
            "text/plain": [
              "County Name         2814\n",
              "fips_x              2814\n",
              "average_per_week    2814\n",
              "startDate           2814\n",
              "endDate             2814\n",
              "diff_avg_x          2814\n",
              "shift_avg_x         2609\n",
              "percent_newcases    2814\n",
              "label               2814\n",
              "dtype: int64"
            ]
          },
          "metadata": {
            "tags": []
          },
          "execution_count": 106
        }
      ]
    },
    {
      "cell_type": "code",
      "metadata": {
        "id": "YuvqQS63C2Fc",
        "colab_type": "code",
        "colab": {
          "base_uri": "https://localhost:8080/",
          "height": 187
        },
        "outputId": "f3ad65f0-29ba-4268-aed0-7cb09656603e"
      },
      "source": [
        "average_newCases_df3[average_newCases_df3['label'] == 'Spread'].count()"
      ],
      "execution_count": null,
      "outputs": [
        {
          "output_type": "execute_result",
          "data": {
            "text/plain": [
              "County Name         0\n",
              "fips_x              0\n",
              "average_per_week    0\n",
              "startDate           0\n",
              "endDate             0\n",
              "diff_avg_x          0\n",
              "shift_avg_x         0\n",
              "percent_newcases    0\n",
              "label               0\n",
              "dtype: int64"
            ]
          },
          "metadata": {
            "tags": []
          },
          "execution_count": 107
        }
      ]
    },
    {
      "cell_type": "code",
      "metadata": {
        "id": "s4z7y1dZC4SO",
        "colab_type": "code",
        "colab": {
          "base_uri": "https://localhost:8080/",
          "height": 187
        },
        "outputId": "40252040-92a9-42ac-8ce3-20a979a44d46"
      },
      "source": [
        "average_newCases_df3[average_newCases_df3['label'] == 'SuperSpread'].count()"
      ],
      "execution_count": null,
      "outputs": [
        {
          "output_type": "execute_result",
          "data": {
            "text/plain": [
              "County Name         21\n",
              "fips_x              21\n",
              "average_per_week    21\n",
              "startDate           21\n",
              "endDate             21\n",
              "diff_avg_x          21\n",
              "shift_avg_x         21\n",
              "percent_newcases    21\n",
              "label               21\n",
              "dtype: int64"
            ]
          },
          "metadata": {
            "tags": []
          },
          "execution_count": 108
        }
      ]
    },
    {
      "cell_type": "code",
      "metadata": {
        "id": "vQpOqqjTC6aD",
        "colab_type": "code",
        "colab": {
          "base_uri": "https://localhost:8080/",
          "height": 204
        },
        "outputId": "e2579966-7bbb-4f23-9132-7b91946f7c28"
      },
      "source": [
        "average_newCases_df3.head()"
      ],
      "execution_count": null,
      "outputs": [
        {
          "output_type": "execute_result",
          "data": {
            "text/html": [
              "<div>\n",
              "<style scoped>\n",
              "    .dataframe tbody tr th:only-of-type {\n",
              "        vertical-align: middle;\n",
              "    }\n",
              "\n",
              "    .dataframe tbody tr th {\n",
              "        vertical-align: top;\n",
              "    }\n",
              "\n",
              "    .dataframe thead th {\n",
              "        text-align: right;\n",
              "    }\n",
              "</style>\n",
              "<table border=\"1\" class=\"dataframe\">\n",
              "  <thead>\n",
              "    <tr style=\"text-align: right;\">\n",
              "      <th></th>\n",
              "      <th>County Name</th>\n",
              "      <th>fips_x</th>\n",
              "      <th>average_per_week</th>\n",
              "      <th>startDate</th>\n",
              "      <th>endDate</th>\n",
              "      <th>diff_avg_x</th>\n",
              "      <th>shift_avg_x</th>\n",
              "      <th>percent_newcases</th>\n",
              "      <th>label</th>\n",
              "    </tr>\n",
              "  </thead>\n",
              "  <tbody>\n",
              "    <tr>\n",
              "      <th>0</th>\n",
              "      <td>Anderson County</td>\n",
              "      <td>48001</td>\n",
              "      <td>0.0</td>\n",
              "      <td>2020-03-01</td>\n",
              "      <td>2020-03-14</td>\n",
              "      <td>0.0</td>\n",
              "      <td>NaN</td>\n",
              "      <td>0.0</td>\n",
              "      <td>lessSpread</td>\n",
              "    </tr>\n",
              "    <tr>\n",
              "      <th>1</th>\n",
              "      <td>Andrews County</td>\n",
              "      <td>48003</td>\n",
              "      <td>0.0</td>\n",
              "      <td>2020-03-01</td>\n",
              "      <td>2020-03-14</td>\n",
              "      <td>0.0</td>\n",
              "      <td>NaN</td>\n",
              "      <td>0.0</td>\n",
              "      <td>lessSpread</td>\n",
              "    </tr>\n",
              "    <tr>\n",
              "      <th>2</th>\n",
              "      <td>Angelina County</td>\n",
              "      <td>48005</td>\n",
              "      <td>0.0</td>\n",
              "      <td>2020-03-01</td>\n",
              "      <td>2020-03-14</td>\n",
              "      <td>0.0</td>\n",
              "      <td>NaN</td>\n",
              "      <td>0.0</td>\n",
              "      <td>lessSpread</td>\n",
              "    </tr>\n",
              "    <tr>\n",
              "      <th>3</th>\n",
              "      <td>Aransas County</td>\n",
              "      <td>48007</td>\n",
              "      <td>0.0</td>\n",
              "      <td>2020-03-01</td>\n",
              "      <td>2020-03-14</td>\n",
              "      <td>0.0</td>\n",
              "      <td>NaN</td>\n",
              "      <td>0.0</td>\n",
              "      <td>lessSpread</td>\n",
              "    </tr>\n",
              "    <tr>\n",
              "      <th>4</th>\n",
              "      <td>Archer County</td>\n",
              "      <td>48009</td>\n",
              "      <td>0.0</td>\n",
              "      <td>2020-03-01</td>\n",
              "      <td>2020-03-14</td>\n",
              "      <td>0.0</td>\n",
              "      <td>NaN</td>\n",
              "      <td>0.0</td>\n",
              "      <td>lessSpread</td>\n",
              "    </tr>\n",
              "  </tbody>\n",
              "</table>\n",
              "</div>"
            ],
            "text/plain": [
              "       County Name  fips_x  ...  percent_newcases       label\n",
              "0  Anderson County   48001  ...               0.0  lessSpread\n",
              "1   Andrews County   48003  ...               0.0  lessSpread\n",
              "2  Angelina County   48005  ...               0.0  lessSpread\n",
              "3   Aransas County   48007  ...               0.0  lessSpread\n",
              "4    Archer County   48009  ...               0.0  lessSpread\n",
              "\n",
              "[5 rows x 9 columns]"
            ]
          },
          "metadata": {
            "tags": []
          },
          "execution_count": 109
        }
      ]
    },
    {
      "cell_type": "markdown",
      "metadata": {
        "id": "Frb0ouFKC99W",
        "colab_type": "text"
      },
      "source": [
        "## 2.1 Loading CA - Social Distancing Inertia Maryland Data"
      ]
    },
    {
      "cell_type": "code",
      "metadata": {
        "id": "j84C1jfLC_sJ",
        "colab_type": "code",
        "colab": {
          "base_uri": "https://localhost:8080/",
          "height": 409
        },
        "outputId": "17ad8eb6-85e4-43a8-89bf-f5ec01fffae5"
      },
      "source": [
        "TX_combined_sd_inertia_data = pd.read_csv('/content/drive/Shared drives/CMPE 295- Master Project/Covid19-data/TX_socialDistancingInertiaData_Sep10.csv',low_memory=False)\n",
        "TX_combined_sd_inertia_data.head()"
      ],
      "execution_count": null,
      "outputs": [
        {
          "output_type": "error",
          "ename": "FileNotFoundError",
          "evalue": "ignored",
          "traceback": [
            "\u001b[0;31m---------------------------------------------------------------------------\u001b[0m",
            "\u001b[0;31mFileNotFoundError\u001b[0m                         Traceback (most recent call last)",
            "\u001b[0;32m<ipython-input-110-2f379d136909>\u001b[0m in \u001b[0;36m<module>\u001b[0;34m()\u001b[0m\n\u001b[0;32m----> 1\u001b[0;31m \u001b[0mTX_combined_sd_inertia_data\u001b[0m \u001b[0;34m=\u001b[0m \u001b[0mpd\u001b[0m\u001b[0;34m.\u001b[0m\u001b[0mread_csv\u001b[0m\u001b[0;34m(\u001b[0m\u001b[0;34m'/content/drive/Shared drives/CMPE 295- Master Project/Covid19-data/TX_socialDistancingInertiaData_Sep10.csv'\u001b[0m\u001b[0;34m,\u001b[0m\u001b[0mlow_memory\u001b[0m\u001b[0;34m=\u001b[0m\u001b[0;32mFalse\u001b[0m\u001b[0;34m)\u001b[0m\u001b[0;34m\u001b[0m\u001b[0;34m\u001b[0m\u001b[0m\n\u001b[0m\u001b[1;32m      2\u001b[0m \u001b[0mTX_combined_sd_inertia_data\u001b[0m\u001b[0;34m.\u001b[0m\u001b[0mhead\u001b[0m\u001b[0;34m(\u001b[0m\u001b[0;34m)\u001b[0m\u001b[0;34m\u001b[0m\u001b[0;34m\u001b[0m\u001b[0m\n",
            "\u001b[0;32m/usr/local/lib/python3.6/dist-packages/pandas/io/parsers.py\u001b[0m in \u001b[0;36mparser_f\u001b[0;34m(filepath_or_buffer, sep, delimiter, header, names, index_col, usecols, squeeze, prefix, mangle_dupe_cols, dtype, engine, converters, true_values, false_values, skipinitialspace, skiprows, skipfooter, nrows, na_values, keep_default_na, na_filter, verbose, skip_blank_lines, parse_dates, infer_datetime_format, keep_date_col, date_parser, dayfirst, cache_dates, iterator, chunksize, compression, thousands, decimal, lineterminator, quotechar, quoting, doublequote, escapechar, comment, encoding, dialect, error_bad_lines, warn_bad_lines, delim_whitespace, low_memory, memory_map, float_precision)\u001b[0m\n\u001b[1;32m    674\u001b[0m         )\n\u001b[1;32m    675\u001b[0m \u001b[0;34m\u001b[0m\u001b[0m\n\u001b[0;32m--> 676\u001b[0;31m         \u001b[0;32mreturn\u001b[0m \u001b[0m_read\u001b[0m\u001b[0;34m(\u001b[0m\u001b[0mfilepath_or_buffer\u001b[0m\u001b[0;34m,\u001b[0m \u001b[0mkwds\u001b[0m\u001b[0;34m)\u001b[0m\u001b[0;34m\u001b[0m\u001b[0;34m\u001b[0m\u001b[0m\n\u001b[0m\u001b[1;32m    677\u001b[0m \u001b[0;34m\u001b[0m\u001b[0m\n\u001b[1;32m    678\u001b[0m     \u001b[0mparser_f\u001b[0m\u001b[0;34m.\u001b[0m\u001b[0m__name__\u001b[0m \u001b[0;34m=\u001b[0m \u001b[0mname\u001b[0m\u001b[0;34m\u001b[0m\u001b[0;34m\u001b[0m\u001b[0m\n",
            "\u001b[0;32m/usr/local/lib/python3.6/dist-packages/pandas/io/parsers.py\u001b[0m in \u001b[0;36m_read\u001b[0;34m(filepath_or_buffer, kwds)\u001b[0m\n\u001b[1;32m    446\u001b[0m \u001b[0;34m\u001b[0m\u001b[0m\n\u001b[1;32m    447\u001b[0m     \u001b[0;31m# Create the parser.\u001b[0m\u001b[0;34m\u001b[0m\u001b[0;34m\u001b[0m\u001b[0;34m\u001b[0m\u001b[0m\n\u001b[0;32m--> 448\u001b[0;31m     \u001b[0mparser\u001b[0m \u001b[0;34m=\u001b[0m \u001b[0mTextFileReader\u001b[0m\u001b[0;34m(\u001b[0m\u001b[0mfp_or_buf\u001b[0m\u001b[0;34m,\u001b[0m \u001b[0;34m**\u001b[0m\u001b[0mkwds\u001b[0m\u001b[0;34m)\u001b[0m\u001b[0;34m\u001b[0m\u001b[0;34m\u001b[0m\u001b[0m\n\u001b[0m\u001b[1;32m    449\u001b[0m \u001b[0;34m\u001b[0m\u001b[0m\n\u001b[1;32m    450\u001b[0m     \u001b[0;32mif\u001b[0m \u001b[0mchunksize\u001b[0m \u001b[0;32mor\u001b[0m \u001b[0miterator\u001b[0m\u001b[0;34m:\u001b[0m\u001b[0;34m\u001b[0m\u001b[0;34m\u001b[0m\u001b[0m\n",
            "\u001b[0;32m/usr/local/lib/python3.6/dist-packages/pandas/io/parsers.py\u001b[0m in \u001b[0;36m__init__\u001b[0;34m(self, f, engine, **kwds)\u001b[0m\n\u001b[1;32m    878\u001b[0m             \u001b[0mself\u001b[0m\u001b[0;34m.\u001b[0m\u001b[0moptions\u001b[0m\u001b[0;34m[\u001b[0m\u001b[0;34m\"has_index_names\"\u001b[0m\u001b[0;34m]\u001b[0m \u001b[0;34m=\u001b[0m \u001b[0mkwds\u001b[0m\u001b[0;34m[\u001b[0m\u001b[0;34m\"has_index_names\"\u001b[0m\u001b[0;34m]\u001b[0m\u001b[0;34m\u001b[0m\u001b[0;34m\u001b[0m\u001b[0m\n\u001b[1;32m    879\u001b[0m \u001b[0;34m\u001b[0m\u001b[0m\n\u001b[0;32m--> 880\u001b[0;31m         \u001b[0mself\u001b[0m\u001b[0;34m.\u001b[0m\u001b[0m_make_engine\u001b[0m\u001b[0;34m(\u001b[0m\u001b[0mself\u001b[0m\u001b[0;34m.\u001b[0m\u001b[0mengine\u001b[0m\u001b[0;34m)\u001b[0m\u001b[0;34m\u001b[0m\u001b[0;34m\u001b[0m\u001b[0m\n\u001b[0m\u001b[1;32m    881\u001b[0m \u001b[0;34m\u001b[0m\u001b[0m\n\u001b[1;32m    882\u001b[0m     \u001b[0;32mdef\u001b[0m \u001b[0mclose\u001b[0m\u001b[0;34m(\u001b[0m\u001b[0mself\u001b[0m\u001b[0;34m)\u001b[0m\u001b[0;34m:\u001b[0m\u001b[0;34m\u001b[0m\u001b[0;34m\u001b[0m\u001b[0m\n",
            "\u001b[0;32m/usr/local/lib/python3.6/dist-packages/pandas/io/parsers.py\u001b[0m in \u001b[0;36m_make_engine\u001b[0;34m(self, engine)\u001b[0m\n\u001b[1;32m   1112\u001b[0m     \u001b[0;32mdef\u001b[0m \u001b[0m_make_engine\u001b[0m\u001b[0;34m(\u001b[0m\u001b[0mself\u001b[0m\u001b[0;34m,\u001b[0m \u001b[0mengine\u001b[0m\u001b[0;34m=\u001b[0m\u001b[0;34m\"c\"\u001b[0m\u001b[0;34m)\u001b[0m\u001b[0;34m:\u001b[0m\u001b[0;34m\u001b[0m\u001b[0;34m\u001b[0m\u001b[0m\n\u001b[1;32m   1113\u001b[0m         \u001b[0;32mif\u001b[0m \u001b[0mengine\u001b[0m \u001b[0;34m==\u001b[0m \u001b[0;34m\"c\"\u001b[0m\u001b[0;34m:\u001b[0m\u001b[0;34m\u001b[0m\u001b[0;34m\u001b[0m\u001b[0m\n\u001b[0;32m-> 1114\u001b[0;31m             \u001b[0mself\u001b[0m\u001b[0;34m.\u001b[0m\u001b[0m_engine\u001b[0m \u001b[0;34m=\u001b[0m \u001b[0mCParserWrapper\u001b[0m\u001b[0;34m(\u001b[0m\u001b[0mself\u001b[0m\u001b[0;34m.\u001b[0m\u001b[0mf\u001b[0m\u001b[0;34m,\u001b[0m \u001b[0;34m**\u001b[0m\u001b[0mself\u001b[0m\u001b[0;34m.\u001b[0m\u001b[0moptions\u001b[0m\u001b[0;34m)\u001b[0m\u001b[0;34m\u001b[0m\u001b[0;34m\u001b[0m\u001b[0m\n\u001b[0m\u001b[1;32m   1115\u001b[0m         \u001b[0;32melse\u001b[0m\u001b[0;34m:\u001b[0m\u001b[0;34m\u001b[0m\u001b[0;34m\u001b[0m\u001b[0m\n\u001b[1;32m   1116\u001b[0m             \u001b[0;32mif\u001b[0m \u001b[0mengine\u001b[0m \u001b[0;34m==\u001b[0m \u001b[0;34m\"python\"\u001b[0m\u001b[0;34m:\u001b[0m\u001b[0;34m\u001b[0m\u001b[0;34m\u001b[0m\u001b[0m\n",
            "\u001b[0;32m/usr/local/lib/python3.6/dist-packages/pandas/io/parsers.py\u001b[0m in \u001b[0;36m__init__\u001b[0;34m(self, src, **kwds)\u001b[0m\n\u001b[1;32m   1889\u001b[0m         \u001b[0mkwds\u001b[0m\u001b[0;34m[\u001b[0m\u001b[0;34m\"usecols\"\u001b[0m\u001b[0;34m]\u001b[0m \u001b[0;34m=\u001b[0m \u001b[0mself\u001b[0m\u001b[0;34m.\u001b[0m\u001b[0musecols\u001b[0m\u001b[0;34m\u001b[0m\u001b[0;34m\u001b[0m\u001b[0m\n\u001b[1;32m   1890\u001b[0m \u001b[0;34m\u001b[0m\u001b[0m\n\u001b[0;32m-> 1891\u001b[0;31m         \u001b[0mself\u001b[0m\u001b[0;34m.\u001b[0m\u001b[0m_reader\u001b[0m \u001b[0;34m=\u001b[0m \u001b[0mparsers\u001b[0m\u001b[0;34m.\u001b[0m\u001b[0mTextReader\u001b[0m\u001b[0;34m(\u001b[0m\u001b[0msrc\u001b[0m\u001b[0;34m,\u001b[0m \u001b[0;34m**\u001b[0m\u001b[0mkwds\u001b[0m\u001b[0;34m)\u001b[0m\u001b[0;34m\u001b[0m\u001b[0;34m\u001b[0m\u001b[0m\n\u001b[0m\u001b[1;32m   1892\u001b[0m         \u001b[0mself\u001b[0m\u001b[0;34m.\u001b[0m\u001b[0munnamed_cols\u001b[0m \u001b[0;34m=\u001b[0m \u001b[0mself\u001b[0m\u001b[0;34m.\u001b[0m\u001b[0m_reader\u001b[0m\u001b[0;34m.\u001b[0m\u001b[0munnamed_cols\u001b[0m\u001b[0;34m\u001b[0m\u001b[0;34m\u001b[0m\u001b[0m\n\u001b[1;32m   1893\u001b[0m \u001b[0;34m\u001b[0m\u001b[0m\n",
            "\u001b[0;32mpandas/_libs/parsers.pyx\u001b[0m in \u001b[0;36mpandas._libs.parsers.TextReader.__cinit__\u001b[0;34m()\u001b[0m\n",
            "\u001b[0;32mpandas/_libs/parsers.pyx\u001b[0m in \u001b[0;36mpandas._libs.parsers.TextReader._setup_parser_source\u001b[0;34m()\u001b[0m\n",
            "\u001b[0;31mFileNotFoundError\u001b[0m: [Errno 2] File /content/drive/Shared drives/CMPE 295- Master Project/Covid19-data/TX_socialDistancingInertiaData_Sep10.csv does not exist: '/content/drive/Shared drives/CMPE 295- Master Project/Covid19-data/TX_socialDistancingInertiaData_Sep10.csv'"
          ]
        }
      ]
    },
    {
      "cell_type": "code",
      "metadata": {
        "id": "m5WQC03sDGAU",
        "colab_type": "code",
        "colab": {
          "base_uri": "https://localhost:8080/",
          "height": 164
        },
        "outputId": "613c6326-29a1-419c-f7c7-099ff50832aa"
      },
      "source": [
        "TX_combined_sd_inertia_data.FIPS.unique()"
      ],
      "execution_count": null,
      "outputs": [
        {
          "output_type": "error",
          "ename": "NameError",
          "evalue": "ignored",
          "traceback": [
            "\u001b[0;31m---------------------------------------------------------------------------\u001b[0m",
            "\u001b[0;31mNameError\u001b[0m                                 Traceback (most recent call last)",
            "\u001b[0;32m<ipython-input-111-b19651c817b7>\u001b[0m in \u001b[0;36m<module>\u001b[0;34m()\u001b[0m\n\u001b[0;32m----> 1\u001b[0;31m \u001b[0mTX_combined_sd_inertia_data\u001b[0m\u001b[0;34m.\u001b[0m\u001b[0mFIPS\u001b[0m\u001b[0;34m.\u001b[0m\u001b[0munique\u001b[0m\u001b[0;34m(\u001b[0m\u001b[0;34m)\u001b[0m\u001b[0;34m\u001b[0m\u001b[0;34m\u001b[0m\u001b[0m\n\u001b[0m",
            "\u001b[0;31mNameError\u001b[0m: name 'TX_combined_sd_inertia_data' is not defined"
          ]
        }
      ]
    },
    {
      "cell_type": "code",
      "metadata": {
        "id": "OIxIRrA-DIfE",
        "colab_type": "code",
        "colab": {}
      },
      "source": [
        "TX_combined_sd_inertia_data.columns"
      ],
      "execution_count": null,
      "outputs": []
    },
    {
      "cell_type": "code",
      "metadata": {
        "id": "bpjP5VP0DLAJ",
        "colab_type": "code",
        "colab": {}
      },
      "source": [
        "TX_combined_sd_inertia_data.iloc[:,5]"
      ],
      "execution_count": null,
      "outputs": []
    },
    {
      "cell_type": "code",
      "metadata": {
        "id": "fR0TB8C5DOYA",
        "colab_type": "code",
        "colab": {}
      },
      "source": [
        "df = pd.DataFrame(columns=['Date', 'Province_State', 'FIPS',  'New cases',\n",
        "        'mask_rule_active', 'CTFIPS', 'CTNAME', 'STFIPS',\n",
        "       'Social distancing index', '% staying home', 'Trips/person',\n",
        "       '% out-of-county trips', '% out-of-state trips', 'Miles/person',\n",
        "       'Work trips/person', 'Non-work trips/person', 'New COVID cases',\n",
        "       'Population', '% change in consumption', 'date', 'Transit mode share',\n",
        "       '% people older than 60', 'Median income', '% African Americans',\n",
        "       '% Hispanic Americans', '% Male', 'Population density',\n",
        "       'Employment density', '# hot spots/1000 people',\n",
        "       'Hospital beds/1000 people', 'ICUs/1000 people',\n",
        "       '# contact tracing workers/1000 people',\n",
        "       '# contact tracing workers/1000 people rank',\n",
        "       '% people older than 60 rank', 'COVID exposure/1000 people',\n",
        "        'Unemployment claims/1000 people',\n",
        "       'Unemployment rate', '% working from home', 'Cumulative inflation rate',\n",
        "        '% hospital bed utilization',\n",
        "       'Testing capacity', 'Tests done/1000 people', '% ICU utilization',\n",
        "       'Ventilator shortage'])"
      ],
      "execution_count": null,
      "outputs": []
    },
    {
      "cell_type": "code",
      "metadata": {
        "id": "chim6O47DQe_",
        "colab_type": "code",
        "colab": {}
      },
      "source": [
        "TX_counties = TX_combined_sd_inertia_data['CTNAME'].unique()\n",
        "\n",
        "for county in CA_counties:\n",
        "  county_data = TX_combined_sd_inertia_data[TX_combined_sd_inertia_data['CTNAME'] == county]\n",
        "  #print(county_data.iloc[:,15])\n",
        "  county_data['rolling_avg_new_cases'] = county_data.iloc[:,5].rolling(window=7).mean()\n",
        "  df = df.append(county_data)\n",
        "\n",
        "df.head()"
      ],
      "execution_count": null,
      "outputs": []
    },
    {
      "cell_type": "code",
      "metadata": {
        "id": "eBof_8ekDWF1",
        "colab_type": "code",
        "colab": {}
      },
      "source": [
        "print(df.shape)\n",
        "TX_combined_sd_inertia_data.shape"
      ],
      "execution_count": null,
      "outputs": []
    },
    {
      "cell_type": "code",
      "metadata": {
        "id": "IERgIUjkDZ_-",
        "colab_type": "code",
        "colab": {}
      },
      "source": [
        "TX_combined_sd_inertia_data = df.copy()\n",
        "TX_combined_sd_inertia_data"
      ],
      "execution_count": null,
      "outputs": []
    },
    {
      "cell_type": "code",
      "metadata": {
        "id": "xtaH9zcbDdN6",
        "colab_type": "code",
        "colab": {}
      },
      "source": [
        "TX_combined_sd_inertia_data.head(3)"
      ],
      "execution_count": null,
      "outputs": []
    },
    {
      "cell_type": "markdown",
      "metadata": {
        "id": "iyJSB86kDg-X",
        "colab_type": "text"
      },
      "source": [
        "### clean data - fill NA"
      ]
    },
    {
      "cell_type": "code",
      "metadata": {
        "id": "e_Yh3_iFDfhS",
        "colab_type": "code",
        "colab": {}
      },
      "source": [
        "TX_combined_sd_inertia_data = TX_combined_sd_inertia_data.fillna(0)\n",
        "TX_combined_sd_inertia_data.head(4)"
      ],
      "execution_count": null,
      "outputs": []
    },
    {
      "cell_type": "code",
      "metadata": {
        "id": "WNgVWBheDx4x",
        "colab_type": "code",
        "colab": {}
      },
      "source": [
        "TX_combined_sd_inertia_data['CTNAME'].unique()"
      ],
      "execution_count": null,
      "outputs": []
    },
    {
      "cell_type": "markdown",
      "metadata": {
        "id": "k0KR-hLZD2Z6",
        "colab_type": "text"
      },
      "source": [
        "verifying Rolling average with visualizations"
      ]
    },
    {
      "cell_type": "code",
      "metadata": {
        "id": "vh5QQDcbD0W0",
        "colab_type": "code",
        "colab": {}
      },
      "source": [
        "austin_county = TX_combined_sd_inertia_data[TX_combined_sd_inertia_data['CTNAME'] == 'Austin County']\n",
        "print(austin_county.shape)\n",
        "austin_county.head()"
      ],
      "execution_count": null,
      "outputs": []
    },
    {
      "cell_type": "code",
      "metadata": {
        "id": "6iF6zOCjD96B",
        "colab_type": "code",
        "colab": {}
      },
      "source": [
        "fig,ax = plt.subplots()\n",
        "# make a plot\n",
        "ax.plot(austin_county.Date, austin_county['rolling_avg_new_cases'], color=\"blue\")\n",
        "# set x-axis label\n",
        "ax.set_xlabel(\"Date\",fontsize=14)\n",
        "# set y-axis label\n",
        "ax.set_ylabel(\"rolling_avg_new_cases\",color=\"blue\",fontsize=14)\n",
        "ax2=ax.twinx()\n",
        "# make a plot with different y-axis using second axis object\n",
        "ax2.plot(austin_county.Date, austin_county[\"New cases\"],color=\"red\")\n",
        "ax2.set_ylabel(\"New cases\",color=\"blue\",fontsize=14)\n",
        "plt.title(\"'rolling_avg_new_cases' Vs New cases\")\n",
        "\n",
        "plt.show()"
      ],
      "execution_count": null,
      "outputs": []
    },
    {
      "cell_type": "code",
      "metadata": {
        "id": "2N5gkQHNEB-b",
        "colab_type": "code",
        "colab": {}
      },
      "source": [
        "dallas_county = TX_combined_sd_inertia_data[TX_combined_sd_inertia_data['CTNAME'] == 'Dallas County']"
      ],
      "execution_count": null,
      "outputs": []
    },
    {
      "cell_type": "code",
      "metadata": {
        "id": "tPkG4ca4EHev",
        "colab_type": "code",
        "colab": {}
      },
      "source": [
        "fig,ax = plt.subplots()\n",
        "# make a plot\n",
        "ax.plot(dallas_county.Date, dallas_county['rolling_avg_new_cases'], color=\"blue\")\n",
        "# set x-axis label\n",
        "ax.set_xlabel(\"Date\",fontsize=14)\n",
        "# set y-axis label\n",
        "ax.set_ylabel(\"rolling_avg_new_cases\",color=\"blue\",fontsize=14)\n",
        "ax2=ax.twinx()\n",
        "# make a plot with different y-axis using second axis object\n",
        "ax2.plot(dallas_county.Date, dallas_county[\"New cases\"],color=\"red\")\n",
        "ax2.set_ylabel(\"New cases\",color=\"blue\",fontsize=14)\n",
        "plt.title(\"'rolling_avg_new_cases' Vs New cases\")\n",
        "\n",
        "plt.show()"
      ],
      "execution_count": null,
      "outputs": []
    },
    {
      "cell_type": "markdown",
      "metadata": {
        "id": "p9szF8G1EOeb",
        "colab_type": "text"
      },
      "source": [
        "### Rolling window to compare every 2 weeks with next 2 weeks"
      ]
    },
    {
      "cell_type": "code",
      "metadata": {
        "id": "F2vEMZmnELar",
        "colab_type": "code",
        "colab": {}
      },
      "source": [
        "TX_combined_sd_inertia_data = TX_combined_sd_inertia_data.sort_values(by=['Date'])\n",
        "TX_combined_sd_inertia_data.head()"
      ],
      "execution_count": null,
      "outputs": []
    },
    {
      "cell_type": "code",
      "metadata": {
        "id": "_RQ2nBEXETGR",
        "colab_type": "code",
        "colab": {}
      },
      "source": [
        "TX_combined_sd_inertia_data[TX_combined_sd_inertia_data['FIPS'] == 48015]"
      ],
      "execution_count": null,
      "outputs": []
    },
    {
      "cell_type": "code",
      "metadata": {
        "id": "ObdEKO1lEaJw",
        "colab_type": "code",
        "colab": {}
      },
      "source": [
        "minDate = TX_combined_sd_inertia_data['Date'].min()\n",
        "print(minDate)\n",
        "\n",
        "dateList = TX_combined_sd_inertia_data['Date'].unique()"
      ],
      "execution_count": null,
      "outputs": []
    },
    {
      "cell_type": "code",
      "metadata": {
        "id": "9yhKlhz4EcL4",
        "colab_type": "code",
        "colab": {}
      },
      "source": [
        "import datetime\n",
        "\n",
        "#dt_object = datetime.fromtimestamp(date)\n",
        "day_name= ['Monday', 'Tuesday', 'Wednesday', 'Thursday', 'Friday', 'Saturday','Sunday']\n",
        "\n",
        "day = datetime.datetime.strptime(minDate, '%Y-%m-%d').weekday()\n",
        "if day == 6:\n",
        "  day =0\n",
        "elif day < 6:\n",
        "  day += 1\n",
        "\n",
        "print(day)"
      ],
      "execution_count": null,
      "outputs": []
    },
    {
      "cell_type": "code",
      "metadata": {
        "id": "47nVDFSlEdyW",
        "colab_type": "code",
        "colab": {}
      },
      "source": [
        "index = 0\n",
        "count = 0\n",
        "lst = []\n",
        "while index < len(dateList):\n",
        "  row = []\n",
        "  j = 14 - day;\n",
        "  # print(index,j)\n",
        "  # print(dateList[index:index+j])\n",
        "  weekRange = dateList[index:index+j]\n",
        "  #print(weekRange)\n",
        "  index = index+j \n",
        "  day = 0\n",
        "  count +=1\n",
        "  row.append(count)\n",
        "  row.append(weekRange.min())\n",
        "  row.append(weekRange.max())\n",
        "  print(row)\n",
        "  lst.append(row)"
      ],
      "execution_count": null,
      "outputs": []
    },
    {
      "cell_type": "code",
      "metadata": {
        "id": "s7esUiZmEfuC",
        "colab_type": "code",
        "colab": {}
      },
      "source": [
        "week_df = pd.DataFrame(lst,index=None,columns=['WeekNumber','startDate','endDate'])\n",
        "week_df.head(2)"
      ],
      "execution_count": null,
      "outputs": []
    },
    {
      "cell_type": "markdown",
      "metadata": {
        "id": "DNwTqoxKEtDv",
        "colab_type": "text"
      },
      "source": [
        "### Slice data for the week dataframe"
      ]
    },
    {
      "cell_type": "code",
      "metadata": {
        "id": "glONV42BEsBy",
        "colab_type": "code",
        "colab": {}
      },
      "source": [
        "average_newCases_df = pd.DataFrame(columns=['CTNAME',  'FIPS',  'average_per_week','startDate','endDate'])\n",
        "\n",
        "for index, row in week_df.iterrows():\n",
        "    startDate, endDate = row['startDate'], row['endDate']\n",
        "    df_index = (TX_combined_sd_inertia_data['Date'] >= startDate) & (TX_combined_sd_inertia_data['Date'] <= endDate)\n",
        "    df_weekData =  TX_combined_sd_inertia_data.loc[df_index]\n",
        "    df_base = (\n",
        "      df_weekData\n",
        "      .pipe(lambda x: x.assign(gains_pctg=x[\"rolling_avg_new_cases\"]))\n",
        "      .groupby(['CTNAME','FIPS'])\n",
        "      .agg({\"gains_pctg\": \"mean\"})\n",
        "      .reset_index()\n",
        "      .rename(columns={\"gains_pctg\": \"average_per_week\"})\n",
        "    )\n",
        "    df_base['startDate'] = startDate\n",
        "    df_base['endDate'] = endDate\n",
        "  \n",
        "    #print(startDate,endDate,df_base['average_per_week'])\n",
        "    average_newCases_df = average_newCases_df.append(df_base)"
      ],
      "execution_count": null,
      "outputs": []
    },
    {
      "cell_type": "code",
      "metadata": {
        "id": "lg2ii8CJE0fn",
        "colab_type": "code",
        "colab": {}
      },
      "source": [
        "average_newCases_df.shape"
      ],
      "execution_count": null,
      "outputs": []
    },
    {
      "cell_type": "code",
      "metadata": {
        "id": "x03j5vEGE1t-",
        "colab_type": "code",
        "colab": {}
      },
      "source": [
        "average_newCases_df[average_newCases_df['FIPS'] == 48015]"
      ],
      "execution_count": null,
      "outputs": []
    },
    {
      "cell_type": "markdown",
      "metadata": {
        "id": "VWYYkbKkE-oC",
        "colab_type": "text"
      },
      "source": [
        "### Verifying average per week data Eg., Los Angeles County"
      ]
    },
    {
      "cell_type": "code",
      "metadata": {
        "id": "tXUn3s9SE48C",
        "colab_type": "code",
        "colab": {}
      },
      "source": [
        "austin_county[(austin_county['Date'] >= '2020-03-01') & (austin_county['Date'] <= '2020-03-14') ]['rolling_avg_new_cases']"
      ],
      "execution_count": null,
      "outputs": []
    },
    {
      "cell_type": "code",
      "metadata": {
        "id": "8Ynt7S-tFAw9",
        "colab_type": "code",
        "colab": {}
      },
      "source": [
        "average_newCases_df.head(10)"
      ],
      "execution_count": null,
      "outputs": []
    },
    {
      "cell_type": "markdown",
      "metadata": {
        "id": "sMPEiVwSFD__",
        "colab_type": "text"
      },
      "source": [
        "### Finding the % growth or reduction in 'new cases' on every 2 week average"
      ]
    },
    {
      "cell_type": "code",
      "metadata": {
        "id": "dGEZM-cfFCbN",
        "colab_type": "code",
        "colab": {}
      },
      "source": [
        "average_newCases_df_ = average_newCases_df.copy()"
      ],
      "execution_count": null,
      "outputs": []
    },
    {
      "cell_type": "code",
      "metadata": {
        "id": "5wgplsvdFGxR",
        "colab_type": "code",
        "colab": {}
      },
      "source": [
        "albany_avg_newCases = average_newCases_df[average_newCases_df['CTNAME'] == 'Austin County']\n",
        "albany_avg_newCases"
      ],
      "execution_count": null,
      "outputs": []
    },
    {
      "cell_type": "code",
      "metadata": {
        "id": "BUZjT0FiFJVY",
        "colab_type": "code",
        "colab": {}
      },
      "source": [
        "average_newCases_df.head()"
      ],
      "execution_count": null,
      "outputs": []
    },
    {
      "cell_type": "code",
      "metadata": {
        "id": "SeBoRQ3QFK6l",
        "colab_type": "code",
        "colab": {}
      },
      "source": [
        "average_newCases_df2 = average_newCases_df.copy()\n",
        "\n",
        "average_newCases_df2 = average_newCases_df2.reset_index(drop=True)\n",
        "average_newCases_df2.head()"
      ],
      "execution_count": null,
      "outputs": []
    },
    {
      "cell_type": "code",
      "metadata": {
        "id": "V7Dd66RuFMgd",
        "colab_type": "code",
        "colab": {}
      },
      "source": [
        "average_newCases_df2['diff_avg_x'] = average_newCases_df2.sort_values(['startDate','endDate']).groupby(['CTNAME', 'FIPS'])['average_per_week'].diff().fillna(0)\n",
        "\n",
        "print(average_newCases_df2.shape)\n",
        "average_newCases_df2.head()"
      ],
      "execution_count": null,
      "outputs": []
    },
    {
      "cell_type": "code",
      "metadata": {
        "id": "NeA0frQLFOkS",
        "colab_type": "code",
        "colab": {}
      },
      "source": [
        "average_newCases_df2[average_newCases_df2['CTNAME'] == 'Dallas County']"
      ],
      "execution_count": null,
      "outputs": []
    },
    {
      "cell_type": "code",
      "metadata": {
        "id": "rgjvTvrbFQ31",
        "colab_type": "code",
        "colab": {}
      },
      "source": [
        "average_newCases_df2[average_newCases_df2['CTNAME'] == 'Houston County']"
      ],
      "execution_count": null,
      "outputs": []
    },
    {
      "cell_type": "code",
      "metadata": {
        "id": "qtu8SBJZFUL8",
        "colab_type": "code",
        "colab": {}
      },
      "source": [
        "average_newCases_df2[average_newCases_df2['FIPS'] == 48015].head(5)"
      ],
      "execution_count": null,
      "outputs": []
    },
    {
      "cell_type": "code",
      "metadata": {
        "id": "BY97HLfdFYfk",
        "colab_type": "code",
        "colab": {}
      },
      "source": [
        "average_newCases_df2.head()"
      ],
      "execution_count": null,
      "outputs": []
    },
    {
      "cell_type": "code",
      "metadata": {
        "id": "OvfSVqloFaB3",
        "colab_type": "code",
        "colab": {}
      },
      "source": [
        "average_newCases_df2 = average_newCases_df2.fillna(0)"
      ],
      "execution_count": null,
      "outputs": []
    },
    {
      "cell_type": "code",
      "metadata": {
        "id": "VnmtXkchFb1x",
        "colab_type": "code",
        "colab": {}
      },
      "source": [
        "average_newCases_df2.head()"
      ],
      "execution_count": null,
      "outputs": []
    },
    {
      "cell_type": "code",
      "metadata": {
        "id": "TcnESRzXFdL1",
        "colab_type": "code",
        "colab": {}
      },
      "source": [
        "average_newCases_df2['shift_avg_x'] = average_newCases_df2.sort_values(['startDate','endDate']).groupby(['CTNAME', 'FIPS'])['average_per_week'].shift()"
      ],
      "execution_count": null,
      "outputs": []
    },
    {
      "cell_type": "code",
      "metadata": {
        "id": "4aIkja2jFe6p",
        "colab_type": "code",
        "colab": {}
      },
      "source": [
        "average_newCases_df2.groupby(by=['CTNAME', 'FIPS','startDate','endDate']).sum()"
      ],
      "execution_count": null,
      "outputs": []
    },
    {
      "cell_type": "code",
      "metadata": {
        "id": "-3HVOw63FgXz",
        "colab_type": "code",
        "colab": {}
      },
      "source": [
        "average_newCases_df2[average_newCases_df2['CTNAME'] == 'Austin County']"
      ],
      "execution_count": null,
      "outputs": []
    },
    {
      "cell_type": "code",
      "metadata": {
        "id": "yjxTbVCXFi9t",
        "colab_type": "code",
        "colab": {}
      },
      "source": [
        "average_newCases_df2['percent_newcases'] = average_newCases_df2.apply(lambda x: (x.diff_avg_x) / x.shift_avg_x if x.shift_avg_x > 0.0 else 0 , axis=1)\n",
        "\n",
        "\n",
        "average_newCases_df2.tail()"
      ],
      "execution_count": null,
      "outputs": []
    },
    {
      "cell_type": "code",
      "metadata": {
        "id": "EJ24CpcNFlNj",
        "colab_type": "code",
        "colab": {}
      },
      "source": [
        "average_newCases_df2[average_newCases_df2['CTNAME'] == 'Dallas County']"
      ],
      "execution_count": null,
      "outputs": []
    },
    {
      "cell_type": "markdown",
      "metadata": {
        "id": "CHkDypqMFpyC",
        "colab_type": "text"
      },
      "source": [
        "## 2.2 Labeling data as per % change"
      ]
    },
    {
      "cell_type": "code",
      "metadata": {
        "id": "zhdDrbXGFoHR",
        "colab_type": "code",
        "colab": {}
      },
      "source": [
        "average_newCases_df2.describe()"
      ],
      "execution_count": null,
      "outputs": []
    },
    {
      "cell_type": "code",
      "metadata": {
        "id": "XYAwZyzQFsY0",
        "colab_type": "code",
        "colab": {}
      },
      "source": [
        "austin_county = average_newCases_df2[average_newCases_df2['CTNAME'] == 'Austin County']"
      ],
      "execution_count": null,
      "outputs": []
    },
    {
      "cell_type": "code",
      "metadata": {
        "id": "gRGEQ7UPFwHc",
        "colab_type": "code",
        "colab": {}
      },
      "source": [
        "fig,ax = plt.subplots()\n",
        "# make a plot\n",
        "ax.plot(austin_county.startDate, austin_county['percent_newcases'], color=\"blue\")\n",
        "# set x-axis label\n",
        "ax.set_xlabel(\"Date\",fontsize=14)\n",
        "# set y-axis label\n",
        "ax.set_ylabel(\"percent_newcases\",color=\"blue\",fontsize=14)\n",
        "# ax2=ax.twinx()\n",
        "# make a plot with different y-axis using second axis object\n",
        "# ax2.plot(austin_county.startDate, austin_county[\"percent_newcases\"],color=\"red\")\n",
        "# ax2.set_ylabel(\"New cases\",color=\"blue\",fontsize=14)\n",
        "plt.title(\"'percent_newcases'\")\n",
        "\n",
        "plt.show()"
      ],
      "execution_count": null,
      "outputs": []
    },
    {
      "cell_type": "code",
      "metadata": {
        "id": "c31ACaeMFzYy",
        "colab_type": "code",
        "colab": {}
      },
      "source": [
        "data = average_newCases_df2['percent_newcases'].to_list()\n",
        "\n",
        "print(data)"
      ],
      "execution_count": null,
      "outputs": []
    },
    {
      "cell_type": "code",
      "metadata": {
        "id": "1CXTey5HF1SG",
        "colab_type": "code",
        "colab": {}
      },
      "source": [
        "average_newCases_df3 = average_newCases_df2.copy().reset_index(drop=True)"
      ],
      "execution_count": null,
      "outputs": []
    },
    {
      "cell_type": "markdown",
      "metadata": {
        "id": "UTGxkQJxF5SQ",
        "colab_type": "text"
      },
      "source": [
        "### Determining growth label"
      ]
    },
    {
      "cell_type": "code",
      "metadata": {
        "id": "yR2_YbzvF3h7",
        "colab_type": "code",
        "colab": {}
      },
      "source": [
        "new_cases_list = average_newCases_df2['percent_newcases'].values\n",
        "diffArr = np.diff(new_cases_list)\n",
        "print(len(diffArr))\n",
        "diffArr[0]"
      ],
      "execution_count": null,
      "outputs": []
    },
    {
      "cell_type": "code",
      "metadata": {
        "id": "_GNiDk0NF7YY",
        "colab_type": "code",
        "colab": {}
      },
      "source": [
        "growth_values =[]\n",
        "growth_values.append(0.0) # making first value as 0, as np.diff leaves first values as NA\n",
        "\n",
        "print('growth_values : ',len(growth_values))\n",
        "growth_values.extend(diffArr)\n",
        "print('growth_values : ',len(growth_values))"
      ],
      "execution_count": null,
      "outputs": []
    },
    {
      "cell_type": "code",
      "metadata": {
        "id": "VmKlYYO4F_cA",
        "colab_type": "code",
        "colab": {}
      },
      "source": [
        "average_newCases_df2['growth_per_day'] = growth_values"
      ],
      "execution_count": null,
      "outputs": []
    },
    {
      "cell_type": "markdown",
      "metadata": {
        "id": "Q8PIgF-fGBqW",
        "colab_type": "text"
      },
      "source": [
        "Checking mean, std dev and variance for growth data"
      ]
    },
    {
      "cell_type": "code",
      "metadata": {
        "id": "FdFt68jMGBEC",
        "colab_type": "code",
        "colab": {}
      },
      "source": [
        "stdDev = np.std(diffArr)\n",
        "variance = np.var(diffArr)\n",
        "mean = np.mean(diffArr)\n",
        "min = np.min(diffArr)\n",
        "max = np.max(diffArr)\n",
        "\n",
        "\n",
        "print(\"min \",min)\n",
        "print(\"max \",max)\n",
        "\n",
        "print(\"mean \",mean)\n",
        "print(\"std. deviation \",stdDev)\n",
        "print(\"variance \",variance)\n"
      ],
      "execution_count": null,
      "outputs": []
    },
    {
      "cell_type": "markdown",
      "metadata": {
        "id": "1hlZRc75GIsJ",
        "colab_type": "text"
      },
      "source": [
        "Positive cases"
      ]
    },
    {
      "cell_type": "code",
      "metadata": {
        "id": "PX8oyzAlGELv",
        "colab_type": "code",
        "colab": {}
      },
      "source": [
        "print('length diffArr: ',len(diffArr))\n",
        "\n",
        "non_zero_pos_diff = []\n",
        "\n",
        "for i in diffArr:\n",
        "  if i > 0:\n",
        "    non_zero_pos_diff.append(i)\n",
        "\n",
        "print('non_zero_pos_diff length: ',len(non_zero_pos_diff))"
      ],
      "execution_count": null,
      "outputs": []
    },
    {
      "cell_type": "code",
      "metadata": {
        "id": "5yjgktorGGAa",
        "colab_type": "code",
        "colab": {}
      },
      "source": [
        "stdDev = np.std(non_zero_pos_diff)\n",
        "variance = np.var(non_zero_pos_diff)\n",
        "mean = np.mean(non_zero_pos_diff)\n",
        "min = np.min(non_zero_pos_diff)\n",
        "max = np.max(non_zero_pos_diff)\n",
        "\n",
        "\n",
        "print(\"min \",min)\n",
        "print(\"max \",max)\n",
        "\n",
        "print(\"mean \",mean)\n",
        "print(\"std. deviation \",stdDev)\n",
        "print(\"variance \",variance)\n"
      ],
      "execution_count": null,
      "outputs": []
    },
    {
      "cell_type": "markdown",
      "metadata": {
        "id": "IX3zhOIFGKTN",
        "colab_type": "text"
      },
      "source": [
        "Negative Cases"
      ]
    },
    {
      "cell_type": "code",
      "metadata": {
        "id": "AvGOQhxYGLqz",
        "colab_type": "code",
        "colab": {}
      },
      "source": [
        "print('length diffArr: ',len(diffArr))\n",
        "\n",
        "non_zero_neg_diff = []\n",
        "\n",
        "for i in diffArr:\n",
        "  if i < 0:\n",
        "    non_zero_neg_diff.append(i)\n",
        "print(\"non_zero_neg_diff length : \",len(non_zero_neg_diff))\n"
      ],
      "execution_count": null,
      "outputs": []
    },
    {
      "cell_type": "code",
      "metadata": {
        "id": "4iu6Fw0xGNRF",
        "colab_type": "code",
        "colab": {}
      },
      "source": [
        "stdDev = np.std(non_zero_neg_diff)\n",
        "variance = np.var(non_zero_neg_diff)\n",
        "mean = np.mean(non_zero_neg_diff)\n",
        "min = np.min(non_zero_neg_diff)\n",
        "max = np.max(non_zero_neg_diff)\n",
        "\n",
        "\n",
        "print(\"min \",min)\n",
        "print(\"max \",max)\n",
        "\n",
        "print(\"mean \",mean)\n",
        "print(\"std. deviation \",stdDev)\n",
        "print(\"variance \",variance)"
      ],
      "execution_count": null,
      "outputs": []
    },
    {
      "cell_type": "markdown",
      "metadata": {
        "id": "gStvXZVyGQNq",
        "colab_type": "text"
      },
      "source": [
        "### Applying Jenks Natural break"
      ]
    },
    {
      "cell_type": "code",
      "metadata": {
        "id": "VSNOpx4PGOaO",
        "colab_type": "code",
        "colab": {}
      },
      "source": [
        "pos_breaks = jenkspy.jenks_breaks(non_zero_pos_diff, nb_class=2)\n",
        "print(pos_breaks)\n",
        "neg_breaks = jenkspy.jenks_breaks(non_zero_neg_diff, nb_class=2)\n",
        "print(neg_breaks)\n"
      ],
      "execution_count": null,
      "outputs": []
    },
    {
      "cell_type": "code",
      "metadata": {
        "id": "UGBfEpWuGSMh",
        "colab_type": "code",
        "colab": {}
      },
      "source": [
        "def determine_growth_label_inertia(x):\n",
        "  if x >= -0.0021 and x <= 0.0017:\n",
        "    return 'flat_growth'\n",
        "  if x > 0.0017 and x <= 39.5:\n",
        "    return 'mild_growth'\n",
        "  if x > 39.5 and x <= 410.1818:\n",
        "    return 'drastic_growth'\n",
        "  if x >= -39.5  and x <= -0.0021:\n",
        "    return 'mild_decrement'\n",
        "  if x >= -410.1818 and x < -39.5:\n",
        "    return 'drastic_decrement'\n"
      ],
      "execution_count": null,
      "outputs": []
    },
    {
      "cell_type": "code",
      "metadata": {
        "id": "WBnTuYPSGXkO",
        "colab_type": "code",
        "colab": {}
      },
      "source": [
        "average_newCases_df2['growth_label'] = average_newCases_df2['growth_per_day'].apply(lambda x: determine_growth_label_inertia(x) )\n"
      ],
      "execution_count": null,
      "outputs": []
    },
    {
      "cell_type": "markdown",
      "metadata": {
        "id": "_XRZJuzjGZC7",
        "colab_type": "text"
      },
      "source": [
        "## Jenks Natural breaks"
      ]
    },
    {
      "cell_type": "code",
      "metadata": {
        "id": "aor4lYHNGZ8R",
        "colab_type": "code",
        "colab": {}
      },
      "source": [
        "!pip install jenkspy"
      ],
      "execution_count": null,
      "outputs": []
    },
    {
      "cell_type": "code",
      "metadata": {
        "id": "9-pBS12mGbXm",
        "colab_type": "code",
        "colab": {}
      },
      "source": [
        "import jenkspy\n",
        "\n",
        "breaks = jenkspy.jenks_breaks(average_newCases_df2['percent_newcases'], nb_class=3)\n",
        "print(breaks)"
      ],
      "execution_count": null,
      "outputs": []
    },
    {
      "cell_type": "code",
      "metadata": {
        "id": "2N-mitNkGcll",
        "colab_type": "code",
        "colab": {}
      },
      "source": [
        "import jenkspy\n",
        "\n",
        "breaks = jenkspy.jenks_breaks(average_newCases_df2['percent_newcases'], nb_class=4)\n",
        "print(breaks)\n"
      ],
      "execution_count": null,
      "outputs": []
    },
    {
      "cell_type": "code",
      "metadata": {
        "id": "v5fjXQvPGd4r",
        "colab_type": "code",
        "colab": {}
      },
      "source": [
        "average_newCases_df2['labels'] = pd.cut(average_newCases_df2['percent_newcases'],\n",
        "                        bins=breaks,\n",
        "                        labels=['LessSpread','Spread', 'SuperSpread','SuperSpread2'])\n"
      ],
      "execution_count": null,
      "outputs": []
    },
    {
      "cell_type": "code",
      "metadata": {
        "id": "Q_88tc7fGgUP",
        "colab_type": "code",
        "colab": {}
      },
      "source": [
        "print('Number of records in LessSpread:',average_newCases_df2[average_newCases_df2['labels'] == 'LessSpread']['CTNAME'].count())\n",
        "print('Number of records in Spread:',average_newCases_df2[average_newCases_df2['labels'] == 'Spread']['CTNAME'].count())\n",
        "print('Number of records in SuperSpread:',average_newCases_df2[average_newCases_df2['labels'] == 'SuperSpread']['CTNAME'].count())\n",
        "\n",
        "print('Number of records in SuperSpread:',average_newCases_df2[average_newCases_df2['labels'] == 'SuperSpread2']['CTNAME'].count())\n"
      ],
      "execution_count": null,
      "outputs": []
    },
    {
      "cell_type": "code",
      "metadata": {
        "id": "cBStF07ZGhwb",
        "colab_type": "code",
        "colab": {}
      },
      "source": [
        "breaks = jenkspy.jenks_breaks(average_newCases_df2['percent_newcases'], nb_class=8)\n",
        "print(breaks)\n"
      ],
      "execution_count": null,
      "outputs": []
    },
    {
      "cell_type": "code",
      "metadata": {
        "id": "rO5N_rIJGjUs",
        "colab_type": "code",
        "colab": {}
      },
      "source": [
        "average_newCases_df2['labels'] = pd.cut(average_newCases_df2['percent_newcases'],\n",
        "                        bins=breaks,\n",
        "                        labels=['LessSpread','Spread', 'SuperSpread1','SuperSpread2','SuperSpread3','SuperSpread4','SuperSpread5','SuperSpread6'])\n"
      ],
      "execution_count": null,
      "outputs": []
    },
    {
      "cell_type": "code",
      "metadata": {
        "id": "w2iu2dXMGk6U",
        "colab_type": "code",
        "colab": {}
      },
      "source": [
        "print('Number of records in LessSpread:',average_newCases_df2[average_newCases_df2['labels'] == 'LessSpread']['CTNAME'].count())\n",
        "print('Number of records in Spread:',average_newCases_df2[average_newCases_df2['labels'] == 'Spread']['CTNAME'].count())\n",
        "print('Number of records in SuperSpread:',average_newCases_df2[average_newCases_df2['labels'] == 'SuperSpread1']['CTNAME'].count())\n",
        "print('Number of records in SuperSpread2:',average_newCases_df2[average_newCases_df2['labels'] == 'SuperSpread2']['CTNAME'].count())\n",
        "print('Number of records in SuperSpread3:',average_newCases_df2[average_newCases_df2['labels'] == 'SuperSpread3']['CTNAME'].count())\n",
        "print('Number of records in SuperSpread4:',average_newCases_df2[average_newCases_df2['labels'] == 'SuperSpread4']['CTNAME'].count())\n",
        "print('Number of records in SuperSpread5:',average_newCases_df2[average_newCases_df2['labels'] == 'SuperSpread5']['CTNAME'].count())\n",
        "print('Number of records in SuperSpread6:',average_newCases_df2[average_newCases_df2['labels'] == 'SuperSpread6']['CTNAME'].count())\n"
      ],
      "execution_count": null,
      "outputs": []
    },
    {
      "cell_type": "code",
      "metadata": {
        "id": "gdj6ZxscGlor",
        "colab_type": "code",
        "colab": {}
      },
      "source": [
        "average_newCases_df2.head()"
      ],
      "execution_count": null,
      "outputs": []
    },
    {
      "cell_type": "markdown",
      "metadata": {
        "id": "Rf2OJn0RGqba",
        "colab_type": "text"
      },
      "source": [
        "## 2.3 Labeling data for CA -Maryland Social Distancing Inertia combined"
      ]
    },
    {
      "cell_type": "code",
      "metadata": {
        "id": "PtEGFw5sGnjl",
        "colab_type": "code",
        "colab": {}
      },
      "source": [
        "TX_combined_sd_inertia_data.head(2)"
      ],
      "execution_count": null,
      "outputs": []
    },
    {
      "cell_type": "code",
      "metadata": {
        "id": "oN7_jEi1GtyV",
        "colab_type": "code",
        "colab": {}
      },
      "source": [
        "TX_combined_sd_inertia_data_ = TX_combined_sd_inertia_data.copy()"
      ],
      "execution_count": null,
      "outputs": []
    },
    {
      "cell_type": "code",
      "metadata": {
        "id": "r0q3P4UPGxBS",
        "colab_type": "code",
        "colab": {}
      },
      "source": [
        "TX_combined_sd_inertia_data = TX_combined_sd_inertia_data_.copy().reset_index(drop=True)"
      ],
      "execution_count": null,
      "outputs": []
    },
    {
      "cell_type": "code",
      "metadata": {
        "id": "ZN0xpL6tG0vj",
        "colab_type": "code",
        "colab": {}
      },
      "source": [
        "for index, row in tqdm(average_newCases_df2.iterrows()):\n",
        "    startDate, endDate = row['startDate'], row['endDate']\n",
        "    fips = row['FIPS']\n",
        "    #print(startDate,endDate,fips)\n",
        "    df_index = (TX_combined_sd_inertia_data['FIPS'] == row['FIPS']) & (TX_combined_sd_inertia_data['Date'] >= startDate) & (TX_combined_sd_inertia_data['Date'] <= endDate)\n",
        "    df_weekData =  TX_combined_sd_inertia_data.loc[df_index]\n",
        "    #print(df_weekData)\n",
        "    TX_combined_sd_inertia_data.loc[df_index,'label'] = row['labels']\n",
        "    TX_combined_sd_inertia_data.loc[df_index,'growth_label'] = row['growth_label']"
      ],
      "execution_count": null,
      "outputs": []
    },
    {
      "cell_type": "code",
      "metadata": {
        "id": "Mo5EJYvCG2mK",
        "colab_type": "code",
        "colab": {}
      },
      "source": [
        "TX_combined_sd_inertia_data.head(5)"
      ],
      "execution_count": null,
      "outputs": []
    },
    {
      "cell_type": "code",
      "metadata": {
        "id": "pbVqQ5koG6sZ",
        "colab_type": "code",
        "colab": {}
      },
      "source": [
        "TX_combined_sd_inertia_data[TX_combined_sd_inertia_data['label'] == 'SuperSpread2'].sort_values(by=['FIPS','Date']).count()"
      ],
      "execution_count": null,
      "outputs": []
    },
    {
      "cell_type": "code",
      "metadata": {
        "id": "Zfk9pwwqG9sg",
        "colab_type": "code",
        "colab": {}
      },
      "source": [
        "TX_combined_sd_inertia_data.shape"
      ],
      "execution_count": null,
      "outputs": []
    },
    {
      "cell_type": "code",
      "metadata": {
        "id": "WDwcmer4HA6l",
        "colab_type": "code",
        "colab": {}
      },
      "source": [
        "TX_combined_sd_inertia_data['label'] = TX_combined_sd_inertia_data['label'].apply(lambda x: x if x != 'SuperSpread2' else 'SuperSpread')"
      ],
      "execution_count": null,
      "outputs": []
    },
    {
      "cell_type": "markdown",
      "metadata": {
        "id": "St2pm8GIHEes",
        "colab_type": "text"
      },
      "source": [
        "### Export"
      ]
    },
    {
      "cell_type": "code",
      "metadata": {
        "id": "yKTKAYpjHDeH",
        "colab_type": "code",
        "colab": {}
      },
      "source": [
        "from datetime import datetime\n",
        "location = '/content/drive/Shared drives/CMPE 295- Master Project/Covid19-data/'\n",
        "filename = 'TX_sd_inertia_labeledData_'+datetime.now().strftime(\"%b%d\")+'.csv' #%Y%m%d\n",
        "print(filename)\n",
        "TX_combined_sd_inertia_data.to_csv(location+filename,index=False)"
      ],
      "execution_count": null,
      "outputs": []
    },
    {
      "cell_type": "code",
      "metadata": {
        "id": "5fNZo5SEHKVw",
        "colab_type": "code",
        "colab": {}
      },
      "source": [
        "average_newCases_df2[average_newCases_df2['labels'] == 'SuperSpread']"
      ],
      "execution_count": null,
      "outputs": []
    },
    {
      "cell_type": "markdown",
      "metadata": {
        "id": "nm2mCIS7HMvY",
        "colab_type": "text"
      },
      "source": [
        "### Kernal Density Estimation"
      ]
    },
    {
      "cell_type": "code",
      "metadata": {
        "id": "gcSWMMbDHL0A",
        "colab_type": "code",
        "colab": {}
      },
      "source": [
        "%matplotlib inline\n",
        "\n",
        "from numpy import array, linspace\n",
        "from sklearn.neighbors.kde import KernelDensity\n",
        "from matplotlib.pyplot import plot\n",
        "\n",
        "a = array(data).reshape(-1, 1)\n",
        "kde = KernelDensity(kernel='gaussian', bandwidth=3).fit(a)\n",
        "s = linspace(0,50)\n",
        "e = kde.score_samples(s.reshape(-1,1))\n",
        "plot(s, e)"
      ],
      "execution_count": null,
      "outputs": []
    },
    {
      "cell_type": "code",
      "metadata": {
        "id": "sbitaDYLHP8Y",
        "colab_type": "code",
        "colab": {}
      },
      "source": [
        "from scipy.signal import argrelextrema\n",
        "mi, ma = argrelextrema(e, np.less)[0], argrelextrema(e, np.greater)[0]\n",
        "print(\"Minima:\", s[mi])\n",
        "print(\"Maxima:\", s[ma])"
      ],
      "execution_count": null,
      "outputs": []
    },
    {
      "cell_type": "code",
      "metadata": {
        "id": "tUAwHWorHRpR",
        "colab_type": "code",
        "colab": {}
      },
      "source": [
        "lower_range = s[mi][0]\n",
        "upper_range = s[mi][1]\n",
        "\n",
        "lower_range"
      ],
      "execution_count": null,
      "outputs": []
    },
    {
      "cell_type": "code",
      "metadata": {
        "id": "3l0UOSTZHTcj",
        "colab_type": "code",
        "colab": {}
      },
      "source": [
        "print(a[a < mi[0]], a[(a >= mi[0]) * (a <= mi[1])], a[a >= mi[1]])"
      ],
      "execution_count": null,
      "outputs": []
    },
    {
      "cell_type": "code",
      "metadata": {
        "id": "m1hy_Km_HVkw",
        "colab_type": "code",
        "colab": {}
      },
      "source": [
        "print(a[a < mi[0]], a[(a >= mi[0]) * (a <= mi[1])], a[a >= mi[1]])\n"
      ],
      "execution_count": null,
      "outputs": []
    },
    {
      "cell_type": "markdown",
      "metadata": {
        "id": "kYNtUaGXHXLh",
        "colab_type": "text"
      },
      "source": [
        "### Labeling Data with Kernal density results"
      ]
    },
    {
      "cell_type": "code",
      "metadata": {
        "id": "glz4cRKBHZBC",
        "colab_type": "code",
        "colab": {}
      },
      "source": [
        "average_newCases_df3.head()\n"
      ],
      "execution_count": null,
      "outputs": []
    },
    {
      "cell_type": "code",
      "metadata": {
        "id": "CS3EEby4Hatg",
        "colab_type": "code",
        "colab": {}
      },
      "source": [
        "print(lower_range, upper_range)\n"
      ],
      "execution_count": null,
      "outputs": []
    },
    {
      "cell_type": "code",
      "metadata": {
        "id": "QGM-dODfHb-q",
        "colab_type": "code",
        "colab": {}
      },
      "source": [
        "average_newCases_df3['label'] = average_newCases_df3['percent_newcases'].apply(lambda x: 'lessSpread' if x < lower_range  else 'SuperSpread')\n"
      ],
      "execution_count": null,
      "outputs": []
    },
    {
      "cell_type": "code",
      "metadata": {
        "id": "L45PBmLdHdQI",
        "colab_type": "code",
        "colab": {}
      },
      "source": [
        "average_newCases_df3['label'] = average_newCases_df3['percent_newcases'].apply(lambda x: 'lessSpread' if x < lower_range else ('Spread' if (x >= lower_range and x <= upper_range) else 'SuperSpread'))"
      ],
      "execution_count": null,
      "outputs": []
    },
    {
      "cell_type": "code",
      "metadata": {
        "id": "KAtOWPSzHfQS",
        "colab_type": "code",
        "colab": {}
      },
      "source": [
        "average_newCases_df3[average_newCases_df3['label'] == 'lessSpread'].count()"
      ],
      "execution_count": null,
      "outputs": []
    },
    {
      "cell_type": "code",
      "metadata": {
        "id": "iuRilhKhHguj",
        "colab_type": "code",
        "colab": {}
      },
      "source": [
        "average_newCases_df3[average_newCases_df3['label'] == 'Spread'].count()"
      ],
      "execution_count": null,
      "outputs": []
    },
    {
      "cell_type": "code",
      "metadata": {
        "id": "mwYy4E-wHiHP",
        "colab_type": "code",
        "colab": {}
      },
      "source": [
        "average_newCases_df3[average_newCases_df3['label'] == 'SuperSpread'].count()"
      ],
      "execution_count": null,
      "outputs": []
    },
    {
      "cell_type": "code",
      "metadata": {
        "id": "WgRB80twHjcQ",
        "colab_type": "code",
        "colab": {}
      },
      "source": [
        "average_newCases_df3[average_newCases_df3['growth_label'] == 'SuperSpread'].count()"
      ],
      "execution_count": null,
      "outputs": []
    },
    {
      "cell_type": "code",
      "metadata": {
        "id": "9c_ckuypHm3T",
        "colab_type": "code",
        "colab": {}
      },
      "source": [
        "average_newCases_df3.head()"
      ],
      "execution_count": null,
      "outputs": []
    }
  ]
}