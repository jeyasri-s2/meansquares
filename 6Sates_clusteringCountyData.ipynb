{
  "nbformat": 4,
  "nbformat_minor": 0,
  "metadata": {
    "colab": {
      "name": "6Sates_clusteringCountyData.ipynb",
      "provenance": [],
      "toc_visible": true,
      "machine_shape": "hm",
      "include_colab_link": true
    },
    "kernelspec": {
      "name": "python3",
      "display_name": "Python 3"
    },
    "accelerator": "GPU"
  },
  "cells": [
    {
      "cell_type": "markdown",
      "metadata": {
        "id": "view-in-github",
        "colab_type": "text"
      },
      "source": [
        "<a href=\"https://colab.research.google.com/github/aarsanjani/meansquares/blob/master/6Sates_clusteringCountyData.ipynb\" target=\"_parent\"><img src=\"https://colab.research.google.com/assets/colab-badge.svg\" alt=\"Open In Colab\"/></a>"
      ]
    },
    {
      "cell_type": "markdown",
      "metadata": {
        "id": "Gi5Lur7JSMqm"
      },
      "source": [
        "# Mount Google drive"
      ]
    },
    {
      "cell_type": "code",
      "metadata": {
        "id": "xI0kKjV-SEeJ",
        "outputId": "10866f52-f08e-46ed-dae4-deefc87aef32",
        "colab": {
          "base_uri": "https://localhost:8080/",
          "height": 0
        }
      },
      "source": [
        "from google.colab import drive\n",
        "drive.mount('/content/drive')"
      ],
      "execution_count": 2,
      "outputs": [
        {
          "output_type": "stream",
          "text": [
            "Drive already mounted at /content/drive; to attempt to forcibly remount, call drive.mount(\"/content/drive\", force_remount=True).\n"
          ],
          "name": "stdout"
        }
      ]
    },
    {
      "cell_type": "code",
      "metadata": {
        "id": "q8uHwYca2uYK",
        "outputId": "de9faf08-225b-42b1-c387-6b886f9eba84",
        "colab": {
          "base_uri": "https://localhost:8080/",
          "height": 0
        }
      },
      "source": [
        "!pip install wget"
      ],
      "execution_count": 3,
      "outputs": [
        {
          "output_type": "stream",
          "text": [
            "Requirement already satisfied: wget in /usr/local/lib/python3.6/dist-packages (3.2)\n"
          ],
          "name": "stdout"
        }
      ]
    },
    {
      "cell_type": "code",
      "metadata": {
        "id": "JZSJKwrhSSW-",
        "outputId": "4aded539-362f-4a41-edf5-9312f88c4557",
        "colab": {
          "base_uri": "https://localhost:8080/",
          "height": 0
        }
      },
      "source": [
        "import pandas as pd\n",
        "import wget \n",
        "from PIL import Image\n",
        "\n",
        "from tqdm import tqdm\n",
        "import seaborn as sns\n",
        "import numpy as np\n",
        "import matplotlib.pyplot as plt\n",
        "\n",
        "import seaborn as sns\n",
        "import os\n",
        "from pandas import Series, datetime\n",
        "from pandas.plotting import scatter_matrix, autocorrelation_plot\n",
        "from sklearn.preprocessing import StandardScaler, RobustScaler\n",
        "from sklearn.model_selection import train_test_split, KFold, cross_val_score, GridSearchCV, TimeSeriesSplit\n",
        "from sklearn import metrics\n",
        "from sklearn.metrics import classification_report, confusion_matrix, accuracy_score, mean_squared_error\n",
        "from sklearn.pipeline import Pipeline\n",
        "from sklearn.linear_model import LogisticRegression\n",
        "from sklearn.tree import DecisionTreeClassifier\n",
        "from sklearn.neighbors import KNeighborsClassifier\n",
        "from sklearn.discriminant_analysis import LinearDiscriminantAnalysis\n",
        "from sklearn.naive_bayes import GaussianNB\n",
        "from sklearn.cluster import KMeans\n",
        "from sklearn.svm import SVC\n",
        "from sklearn.ensemble import AdaBoostClassifier, GradientBoostingClassifier, RandomForestClassifier, ExtraTreesClassifier\n",
        "from sklearn.metrics import roc_curve, auc\n",
        "import random\n",
        "from statsmodels.graphics.tsaplots import plot_acf, plot_pacf\n",
        "from statsmodels.tsa.arima_model import ARIMA\n",
        "from xgboost import XGBClassifier\n",
        "from sklearn.mixture import GaussianMixture"
      ],
      "execution_count": 4,
      "outputs": [
        {
          "output_type": "stream",
          "text": [
            "/usr/local/lib/python3.6/dist-packages/statsmodels/tools/_testing.py:19: FutureWarning: pandas.util.testing is deprecated. Use the functions in the public API at pandas.testing instead.\n",
            "  import pandas.util.testing as tm\n"
          ],
          "name": "stderr"
        }
      ]
    },
    {
      "cell_type": "markdown",
      "metadata": {
        "id": "KfQVyRsivqLk"
      },
      "source": [
        "# Load USA State Fips Code"
      ]
    },
    {
      "cell_type": "code",
      "metadata": {
        "id": "FgDo8I3Yvw9v",
        "outputId": "308f8d3a-571c-48ec-dca7-c0edb54e1588",
        "colab": {
          "base_uri": "https://localhost:8080/",
          "height": 0
        }
      },
      "source": [
        "state_fips_code = pd.read_csv('/content/drive/Shared drives/CMPE 295- Master Project/Covid19-data/US_State_FIPSCodes.csv',low_memory=False)\n",
        "state_fips_code.head()"
      ],
      "execution_count": 5,
      "outputs": [
        {
          "output_type": "execute_result",
          "data": {
            "text/html": [
              "<div>\n",
              "<style scoped>\n",
              "    .dataframe tbody tr th:only-of-type {\n",
              "        vertical-align: middle;\n",
              "    }\n",
              "\n",
              "    .dataframe tbody tr th {\n",
              "        vertical-align: top;\n",
              "    }\n",
              "\n",
              "    .dataframe thead th {\n",
              "        text-align: right;\n",
              "    }\n",
              "</style>\n",
              "<table border=\"1\" class=\"dataframe\">\n",
              "  <thead>\n",
              "    <tr style=\"text-align: right;\">\n",
              "      <th></th>\n",
              "      <th>State</th>\n",
              "      <th>Postal Code</th>\n",
              "      <th>STFIPS</th>\n",
              "    </tr>\n",
              "  </thead>\n",
              "  <tbody>\n",
              "    <tr>\n",
              "      <th>0</th>\n",
              "      <td>Alabama</td>\n",
              "      <td>AL</td>\n",
              "      <td>1</td>\n",
              "    </tr>\n",
              "    <tr>\n",
              "      <th>1</th>\n",
              "      <td>Alaska</td>\n",
              "      <td>AK</td>\n",
              "      <td>2</td>\n",
              "    </tr>\n",
              "    <tr>\n",
              "      <th>2</th>\n",
              "      <td>Arizona</td>\n",
              "      <td>AZ</td>\n",
              "      <td>4</td>\n",
              "    </tr>\n",
              "    <tr>\n",
              "      <th>3</th>\n",
              "      <td>Arkansas</td>\n",
              "      <td>AR</td>\n",
              "      <td>5</td>\n",
              "    </tr>\n",
              "    <tr>\n",
              "      <th>4</th>\n",
              "      <td>California</td>\n",
              "      <td>CA</td>\n",
              "      <td>6</td>\n",
              "    </tr>\n",
              "  </tbody>\n",
              "</table>\n",
              "</div>"
            ],
            "text/plain": [
              "        State Postal Code  STFIPS\n",
              "0     Alabama          AL       1\n",
              "1      Alaska          AK       2\n",
              "2     Arizona          AZ       4\n",
              "3    Arkansas          AR       5\n",
              "4  California          CA       6"
            ]
          },
          "metadata": {
            "tags": []
          },
          "execution_count": 5
        }
      ]
    },
    {
      "cell_type": "markdown",
      "metadata": {
        "id": "IgQMAiJvkp0W"
      },
      "source": [
        "# Load Social Distancing Inertia Data [Maryland University]"
      ]
    },
    {
      "cell_type": "code",
      "metadata": {
        "id": "tvjz6T10kx1P",
        "outputId": "c15980b5-eea6-4749-b802-1dec546157cf",
        "colab": {
          "base_uri": "https://localhost:8080/",
          "height": 0
        }
      },
      "source": [
        "maryland_sd_inertia = pd.read_csv('/content/drive/Shared drives/CMPE 295- Master Project/Covid19-data/Maryland_Inertia_Data/County_Oct13.csv',low_memory=False)\n",
        "maryland_sd_inertia.head()"
      ],
      "execution_count": 6,
      "outputs": [
        {
          "output_type": "execute_result",
          "data": {
            "text/html": [
              "<div>\n",
              "<style scoped>\n",
              "    .dataframe tbody tr th:only-of-type {\n",
              "        vertical-align: middle;\n",
              "    }\n",
              "\n",
              "    .dataframe tbody tr th {\n",
              "        vertical-align: top;\n",
              "    }\n",
              "\n",
              "    .dataframe thead th {\n",
              "        text-align: right;\n",
              "    }\n",
              "</style>\n",
              "<table border=\"1\" class=\"dataframe\">\n",
              "  <thead>\n",
              "    <tr style=\"text-align: right;\">\n",
              "      <th></th>\n",
              "      <th>CTFIPS</th>\n",
              "      <th>CTNAME</th>\n",
              "      <th>STFIPS</th>\n",
              "      <th>Social distancing index</th>\n",
              "      <th>% staying home</th>\n",
              "      <th>Trips/person</th>\n",
              "      <th>% out-of-county trips</th>\n",
              "      <th>% out-of-state trips</th>\n",
              "      <th>Miles/person</th>\n",
              "      <th>Work trips/person</th>\n",
              "      <th>Non-work trips/person</th>\n",
              "      <th>New COVID cases</th>\n",
              "      <th>Population</th>\n",
              "      <th>% change in consumption</th>\n",
              "      <th>date</th>\n",
              "      <th>Transit mode share</th>\n",
              "      <th>% people older than 60</th>\n",
              "      <th>Median income</th>\n",
              "      <th>% African Americans</th>\n",
              "      <th>% Hispanic Americans</th>\n",
              "      <th>% Male</th>\n",
              "      <th>Population density</th>\n",
              "      <th>Employment density</th>\n",
              "      <th># hot spots/1000 people</th>\n",
              "      <th>Hospital beds/1000 people</th>\n",
              "      <th>ICUs/1000 people</th>\n",
              "      <th># contact tracing workers/1000 people</th>\n",
              "      <th>New cases/1000 people</th>\n",
              "      <th>Active cases/1000 people</th>\n",
              "      <th>#days: decreasing COVID cases</th>\n",
              "      <th>% hospital bed utilization</th>\n",
              "      <th>Testing capacity</th>\n",
              "      <th>Tests done/1000 people</th>\n",
              "      <th>% ICU utilization</th>\n",
              "      <th>Ventilator shortage</th>\n",
              "      <th>Imported COVID cases</th>\n",
              "      <th>COVID exposure/1000 people</th>\n",
              "      <th>#days: decreasing ILI cases</th>\n",
              "      <th>Unemployment claims/1000 people</th>\n",
              "      <th>Unemployment rate</th>\n",
              "      <th>% working from home</th>\n",
              "      <th>Cumulative inflation rate</th>\n",
              "      <th>COVID death rate</th>\n",
              "    </tr>\n",
              "  </thead>\n",
              "  <tbody>\n",
              "    <tr>\n",
              "      <th>0</th>\n",
              "      <td>1001</td>\n",
              "      <td>Autauga County</td>\n",
              "      <td>1</td>\n",
              "      <td>54</td>\n",
              "      <td>27</td>\n",
              "      <td>2.25</td>\n",
              "      <td>38.8</td>\n",
              "      <td>1.2</td>\n",
              "      <td>24.7</td>\n",
              "      <td>0.25</td>\n",
              "      <td>2.00</td>\n",
              "      <td>0</td>\n",
              "      <td>55601</td>\n",
              "      <td>-22.5</td>\n",
              "      <td>1/1/2020</td>\n",
              "      <td>0.11</td>\n",
              "      <td>19</td>\n",
              "      <td>58786</td>\n",
              "      <td>19.0</td>\n",
              "      <td>2.8</td>\n",
              "      <td>48.68</td>\n",
              "      <td>91</td>\n",
              "      <td>19</td>\n",
              "      <td>101</td>\n",
              "      <td>3.79</td>\n",
              "      <td>0.33</td>\n",
              "      <td>0.025</td>\n",
              "      <td>0.0</td>\n",
              "      <td>0.0</td>\n",
              "      <td>0</td>\n",
              "      <td>47.1</td>\n",
              "      <td>0.0</td>\n",
              "      <td>0.0</td>\n",
              "      <td>0.0</td>\n",
              "      <td>0</td>\n",
              "      <td>0</td>\n",
              "      <td>0.0</td>\n",
              "      <td>0</td>\n",
              "      <td>0.9</td>\n",
              "      <td>2.7</td>\n",
              "      <td>3.2</td>\n",
              "      <td>0.3</td>\n",
              "      <td>0.0</td>\n",
              "    </tr>\n",
              "    <tr>\n",
              "      <th>1</th>\n",
              "      <td>1001</td>\n",
              "      <td>Autauga County</td>\n",
              "      <td>1</td>\n",
              "      <td>25</td>\n",
              "      <td>18</td>\n",
              "      <td>2.83</td>\n",
              "      <td>43.5</td>\n",
              "      <td>0.9</td>\n",
              "      <td>37.6</td>\n",
              "      <td>0.62</td>\n",
              "      <td>2.21</td>\n",
              "      <td>0</td>\n",
              "      <td>55601</td>\n",
              "      <td>-14.3</td>\n",
              "      <td>1/2/2020</td>\n",
              "      <td>0.11</td>\n",
              "      <td>19</td>\n",
              "      <td>58786</td>\n",
              "      <td>19.0</td>\n",
              "      <td>2.8</td>\n",
              "      <td>48.68</td>\n",
              "      <td>91</td>\n",
              "      <td>19</td>\n",
              "      <td>101</td>\n",
              "      <td>3.79</td>\n",
              "      <td>0.33</td>\n",
              "      <td>0.025</td>\n",
              "      <td>0.0</td>\n",
              "      <td>0.0</td>\n",
              "      <td>0</td>\n",
              "      <td>47.1</td>\n",
              "      <td>0.0</td>\n",
              "      <td>0.0</td>\n",
              "      <td>0.0</td>\n",
              "      <td>0</td>\n",
              "      <td>0</td>\n",
              "      <td>0.0</td>\n",
              "      <td>0</td>\n",
              "      <td>0.9</td>\n",
              "      <td>2.7</td>\n",
              "      <td>3.2</td>\n",
              "      <td>0.3</td>\n",
              "      <td>0.0</td>\n",
              "    </tr>\n",
              "    <tr>\n",
              "      <th>2</th>\n",
              "      <td>1001</td>\n",
              "      <td>Autauga County</td>\n",
              "      <td>1</td>\n",
              "      <td>15</td>\n",
              "      <td>15</td>\n",
              "      <td>3.18</td>\n",
              "      <td>42.2</td>\n",
              "      <td>1.0</td>\n",
              "      <td>40.3</td>\n",
              "      <td>0.62</td>\n",
              "      <td>2.57</td>\n",
              "      <td>0</td>\n",
              "      <td>55601</td>\n",
              "      <td>-0.4</td>\n",
              "      <td>1/3/2020</td>\n",
              "      <td>0.11</td>\n",
              "      <td>19</td>\n",
              "      <td>58786</td>\n",
              "      <td>19.0</td>\n",
              "      <td>2.8</td>\n",
              "      <td>48.68</td>\n",
              "      <td>91</td>\n",
              "      <td>19</td>\n",
              "      <td>101</td>\n",
              "      <td>3.79</td>\n",
              "      <td>0.33</td>\n",
              "      <td>0.025</td>\n",
              "      <td>0.0</td>\n",
              "      <td>0.0</td>\n",
              "      <td>0</td>\n",
              "      <td>47.1</td>\n",
              "      <td>0.0</td>\n",
              "      <td>0.0</td>\n",
              "      <td>0.0</td>\n",
              "      <td>0</td>\n",
              "      <td>0</td>\n",
              "      <td>0.0</td>\n",
              "      <td>0</td>\n",
              "      <td>0.9</td>\n",
              "      <td>2.7</td>\n",
              "      <td>3.2</td>\n",
              "      <td>0.3</td>\n",
              "      <td>0.0</td>\n",
              "    </tr>\n",
              "    <tr>\n",
              "      <th>3</th>\n",
              "      <td>1001</td>\n",
              "      <td>Autauga County</td>\n",
              "      <td>1</td>\n",
              "      <td>33</td>\n",
              "      <td>20</td>\n",
              "      <td>2.85</td>\n",
              "      <td>43.9</td>\n",
              "      <td>1.2</td>\n",
              "      <td>29.5</td>\n",
              "      <td>0.33</td>\n",
              "      <td>2.52</td>\n",
              "      <td>0</td>\n",
              "      <td>55601</td>\n",
              "      <td>-2.3</td>\n",
              "      <td>1/4/2020</td>\n",
              "      <td>0.11</td>\n",
              "      <td>19</td>\n",
              "      <td>58786</td>\n",
              "      <td>19.0</td>\n",
              "      <td>2.8</td>\n",
              "      <td>48.68</td>\n",
              "      <td>91</td>\n",
              "      <td>19</td>\n",
              "      <td>101</td>\n",
              "      <td>3.79</td>\n",
              "      <td>0.33</td>\n",
              "      <td>0.025</td>\n",
              "      <td>0.0</td>\n",
              "      <td>0.0</td>\n",
              "      <td>0</td>\n",
              "      <td>47.1</td>\n",
              "      <td>0.0</td>\n",
              "      <td>0.0</td>\n",
              "      <td>0.0</td>\n",
              "      <td>0</td>\n",
              "      <td>0</td>\n",
              "      <td>0.0</td>\n",
              "      <td>0</td>\n",
              "      <td>0.9</td>\n",
              "      <td>2.7</td>\n",
              "      <td>3.2</td>\n",
              "      <td>0.3</td>\n",
              "      <td>0.0</td>\n",
              "    </tr>\n",
              "    <tr>\n",
              "      <th>4</th>\n",
              "      <td>1001</td>\n",
              "      <td>Autauga County</td>\n",
              "      <td>1</td>\n",
              "      <td>40</td>\n",
              "      <td>22</td>\n",
              "      <td>2.56</td>\n",
              "      <td>42.8</td>\n",
              "      <td>1.2</td>\n",
              "      <td>30.9</td>\n",
              "      <td>0.23</td>\n",
              "      <td>2.33</td>\n",
              "      <td>0</td>\n",
              "      <td>55601</td>\n",
              "      <td>-9.7</td>\n",
              "      <td>1/5/2020</td>\n",
              "      <td>0.11</td>\n",
              "      <td>19</td>\n",
              "      <td>58786</td>\n",
              "      <td>19.0</td>\n",
              "      <td>2.8</td>\n",
              "      <td>48.68</td>\n",
              "      <td>91</td>\n",
              "      <td>19</td>\n",
              "      <td>101</td>\n",
              "      <td>3.79</td>\n",
              "      <td>0.33</td>\n",
              "      <td>0.025</td>\n",
              "      <td>0.0</td>\n",
              "      <td>0.0</td>\n",
              "      <td>0</td>\n",
              "      <td>47.1</td>\n",
              "      <td>0.0</td>\n",
              "      <td>0.0</td>\n",
              "      <td>0.0</td>\n",
              "      <td>0</td>\n",
              "      <td>0</td>\n",
              "      <td>0.0</td>\n",
              "      <td>0</td>\n",
              "      <td>0.9</td>\n",
              "      <td>2.7</td>\n",
              "      <td>3.2</td>\n",
              "      <td>0.3</td>\n",
              "      <td>0.0</td>\n",
              "    </tr>\n",
              "  </tbody>\n",
              "</table>\n",
              "</div>"
            ],
            "text/plain": [
              "   CTFIPS          CTNAME  ...  Cumulative inflation rate  COVID death rate\n",
              "0    1001  Autauga County  ...                        0.3               0.0\n",
              "1    1001  Autauga County  ...                        0.3               0.0\n",
              "2    1001  Autauga County  ...                        0.3               0.0\n",
              "3    1001  Autauga County  ...                        0.3               0.0\n",
              "4    1001  Autauga County  ...                        0.3               0.0\n",
              "\n",
              "[5 rows x 43 columns]"
            ]
          },
          "metadata": {
            "tags": []
          },
          "execution_count": 6
        }
      ]
    },
    {
      "cell_type": "code",
      "metadata": {
        "id": "WKk20fB-rKjJ",
        "outputId": "215d78cd-cfdd-439f-df35-2aa3b3a8ebda",
        "colab": {
          "base_uri": "https://localhost:8080/",
          "height": 0
        }
      },
      "source": [
        "maryland_sd_inertia['STFIPS'].unique()"
      ],
      "execution_count": 7,
      "outputs": [
        {
          "output_type": "execute_result",
          "data": {
            "text/plain": [
              "array([ 1,  2,  4,  5,  6,  8,  9, 10, 11, 12, 13, 15, 16, 17, 18, 19, 20,\n",
              "       21, 22, 23, 24, 25, 26, 27, 28, 29, 30, 31, 32, 33, 34, 35, 36, 37,\n",
              "       38, 39, 40, 41, 42, 44, 45, 46, 47, 48, 49, 50, 51, 53, 54, 55, 56])"
            ]
          },
          "metadata": {
            "tags": []
          },
          "execution_count": 7
        }
      ]
    },
    {
      "cell_type": "markdown",
      "metadata": {
        "id": "YPdPh-AWFBK2"
      },
      "source": [
        "## Fixdate column of Social Distancing inertia"
      ]
    },
    {
      "cell_type": "code",
      "metadata": {
        "id": "o588srH92Bps"
      },
      "source": [
        "def fixDate(x, appendTwenty):\n",
        "  arr = x.split('/')\n",
        "  m = arr[0]\n",
        "  d = arr[1]\n",
        "  y = arr[2]\n",
        "\n",
        "  if int(m) < 10:\n",
        "    m = '0'+str(m)\n",
        "  if int(d) < 10:\n",
        "    d = '0'+str(d)\n",
        "  if appendTwenty == True:\n",
        "    return '20'+y+'-'+m+'-'+d\n",
        "  else:\n",
        "      return y+'-'+m+'-'+d"
      ],
      "execution_count": 8,
      "outputs": []
    },
    {
      "cell_type": "code",
      "metadata": {
        "id": "DDIQVTANFHuZ",
        "outputId": "1b771c80-fa42-4319-e7da-f589ab661b8a",
        "colab": {
          "base_uri": "https://localhost:8080/",
          "height": 0
        }
      },
      "source": [
        "maryland_sd_inertia['date'] = maryland_sd_inertia['date'].apply(lambda x: fixDate(x,False))\n",
        "maryland_sd_inertia.reset_index(drop=True)"
      ],
      "execution_count": 9,
      "outputs": [
        {
          "output_type": "execute_result",
          "data": {
            "text/html": [
              "<div>\n",
              "<style scoped>\n",
              "    .dataframe tbody tr th:only-of-type {\n",
              "        vertical-align: middle;\n",
              "    }\n",
              "\n",
              "    .dataframe tbody tr th {\n",
              "        vertical-align: top;\n",
              "    }\n",
              "\n",
              "    .dataframe thead th {\n",
              "        text-align: right;\n",
              "    }\n",
              "</style>\n",
              "<table border=\"1\" class=\"dataframe\">\n",
              "  <thead>\n",
              "    <tr style=\"text-align: right;\">\n",
              "      <th></th>\n",
              "      <th>CTFIPS</th>\n",
              "      <th>CTNAME</th>\n",
              "      <th>STFIPS</th>\n",
              "      <th>Social distancing index</th>\n",
              "      <th>% staying home</th>\n",
              "      <th>Trips/person</th>\n",
              "      <th>% out-of-county trips</th>\n",
              "      <th>% out-of-state trips</th>\n",
              "      <th>Miles/person</th>\n",
              "      <th>Work trips/person</th>\n",
              "      <th>Non-work trips/person</th>\n",
              "      <th>New COVID cases</th>\n",
              "      <th>Population</th>\n",
              "      <th>% change in consumption</th>\n",
              "      <th>date</th>\n",
              "      <th>Transit mode share</th>\n",
              "      <th>% people older than 60</th>\n",
              "      <th>Median income</th>\n",
              "      <th>% African Americans</th>\n",
              "      <th>% Hispanic Americans</th>\n",
              "      <th>% Male</th>\n",
              "      <th>Population density</th>\n",
              "      <th>Employment density</th>\n",
              "      <th># hot spots/1000 people</th>\n",
              "      <th>Hospital beds/1000 people</th>\n",
              "      <th>ICUs/1000 people</th>\n",
              "      <th># contact tracing workers/1000 people</th>\n",
              "      <th>New cases/1000 people</th>\n",
              "      <th>Active cases/1000 people</th>\n",
              "      <th>#days: decreasing COVID cases</th>\n",
              "      <th>% hospital bed utilization</th>\n",
              "      <th>Testing capacity</th>\n",
              "      <th>Tests done/1000 people</th>\n",
              "      <th>% ICU utilization</th>\n",
              "      <th>Ventilator shortage</th>\n",
              "      <th>Imported COVID cases</th>\n",
              "      <th>COVID exposure/1000 people</th>\n",
              "      <th>#days: decreasing ILI cases</th>\n",
              "      <th>Unemployment claims/1000 people</th>\n",
              "      <th>Unemployment rate</th>\n",
              "      <th>% working from home</th>\n",
              "      <th>Cumulative inflation rate</th>\n",
              "      <th>COVID death rate</th>\n",
              "    </tr>\n",
              "  </thead>\n",
              "  <tbody>\n",
              "    <tr>\n",
              "      <th>0</th>\n",
              "      <td>1001</td>\n",
              "      <td>Autauga County</td>\n",
              "      <td>1</td>\n",
              "      <td>54</td>\n",
              "      <td>27</td>\n",
              "      <td>2.25</td>\n",
              "      <td>38.8</td>\n",
              "      <td>1.2</td>\n",
              "      <td>24.7</td>\n",
              "      <td>0.25</td>\n",
              "      <td>2.00</td>\n",
              "      <td>0</td>\n",
              "      <td>55601</td>\n",
              "      <td>-22.5</td>\n",
              "      <td>2020-01-01</td>\n",
              "      <td>0.11</td>\n",
              "      <td>19</td>\n",
              "      <td>58786</td>\n",
              "      <td>19.0</td>\n",
              "      <td>2.8</td>\n",
              "      <td>48.68</td>\n",
              "      <td>91</td>\n",
              "      <td>19</td>\n",
              "      <td>101</td>\n",
              "      <td>3.79</td>\n",
              "      <td>0.33</td>\n",
              "      <td>0.025</td>\n",
              "      <td>0.0000</td>\n",
              "      <td>0.00</td>\n",
              "      <td>0</td>\n",
              "      <td>47.100000</td>\n",
              "      <td>0.0</td>\n",
              "      <td>0.00</td>\n",
              "      <td>0.00</td>\n",
              "      <td>0</td>\n",
              "      <td>0</td>\n",
              "      <td>0.00</td>\n",
              "      <td>0</td>\n",
              "      <td>0.9</td>\n",
              "      <td>2.7</td>\n",
              "      <td>3.2</td>\n",
              "      <td>0.30</td>\n",
              "      <td>0.00</td>\n",
              "    </tr>\n",
              "    <tr>\n",
              "      <th>1</th>\n",
              "      <td>1001</td>\n",
              "      <td>Autauga County</td>\n",
              "      <td>1</td>\n",
              "      <td>25</td>\n",
              "      <td>18</td>\n",
              "      <td>2.83</td>\n",
              "      <td>43.5</td>\n",
              "      <td>0.9</td>\n",
              "      <td>37.6</td>\n",
              "      <td>0.62</td>\n",
              "      <td>2.21</td>\n",
              "      <td>0</td>\n",
              "      <td>55601</td>\n",
              "      <td>-14.3</td>\n",
              "      <td>2020-01-02</td>\n",
              "      <td>0.11</td>\n",
              "      <td>19</td>\n",
              "      <td>58786</td>\n",
              "      <td>19.0</td>\n",
              "      <td>2.8</td>\n",
              "      <td>48.68</td>\n",
              "      <td>91</td>\n",
              "      <td>19</td>\n",
              "      <td>101</td>\n",
              "      <td>3.79</td>\n",
              "      <td>0.33</td>\n",
              "      <td>0.025</td>\n",
              "      <td>0.0000</td>\n",
              "      <td>0.00</td>\n",
              "      <td>0</td>\n",
              "      <td>47.100000</td>\n",
              "      <td>0.0</td>\n",
              "      <td>0.00</td>\n",
              "      <td>0.00</td>\n",
              "      <td>0</td>\n",
              "      <td>0</td>\n",
              "      <td>0.00</td>\n",
              "      <td>0</td>\n",
              "      <td>0.9</td>\n",
              "      <td>2.7</td>\n",
              "      <td>3.2</td>\n",
              "      <td>0.30</td>\n",
              "      <td>0.00</td>\n",
              "    </tr>\n",
              "    <tr>\n",
              "      <th>2</th>\n",
              "      <td>1001</td>\n",
              "      <td>Autauga County</td>\n",
              "      <td>1</td>\n",
              "      <td>15</td>\n",
              "      <td>15</td>\n",
              "      <td>3.18</td>\n",
              "      <td>42.2</td>\n",
              "      <td>1.0</td>\n",
              "      <td>40.3</td>\n",
              "      <td>0.62</td>\n",
              "      <td>2.57</td>\n",
              "      <td>0</td>\n",
              "      <td>55601</td>\n",
              "      <td>-0.4</td>\n",
              "      <td>2020-01-03</td>\n",
              "      <td>0.11</td>\n",
              "      <td>19</td>\n",
              "      <td>58786</td>\n",
              "      <td>19.0</td>\n",
              "      <td>2.8</td>\n",
              "      <td>48.68</td>\n",
              "      <td>91</td>\n",
              "      <td>19</td>\n",
              "      <td>101</td>\n",
              "      <td>3.79</td>\n",
              "      <td>0.33</td>\n",
              "      <td>0.025</td>\n",
              "      <td>0.0000</td>\n",
              "      <td>0.00</td>\n",
              "      <td>0</td>\n",
              "      <td>47.100000</td>\n",
              "      <td>0.0</td>\n",
              "      <td>0.00</td>\n",
              "      <td>0.00</td>\n",
              "      <td>0</td>\n",
              "      <td>0</td>\n",
              "      <td>0.00</td>\n",
              "      <td>0</td>\n",
              "      <td>0.9</td>\n",
              "      <td>2.7</td>\n",
              "      <td>3.2</td>\n",
              "      <td>0.30</td>\n",
              "      <td>0.00</td>\n",
              "    </tr>\n",
              "    <tr>\n",
              "      <th>3</th>\n",
              "      <td>1001</td>\n",
              "      <td>Autauga County</td>\n",
              "      <td>1</td>\n",
              "      <td>33</td>\n",
              "      <td>20</td>\n",
              "      <td>2.85</td>\n",
              "      <td>43.9</td>\n",
              "      <td>1.2</td>\n",
              "      <td>29.5</td>\n",
              "      <td>0.33</td>\n",
              "      <td>2.52</td>\n",
              "      <td>0</td>\n",
              "      <td>55601</td>\n",
              "      <td>-2.3</td>\n",
              "      <td>2020-01-04</td>\n",
              "      <td>0.11</td>\n",
              "      <td>19</td>\n",
              "      <td>58786</td>\n",
              "      <td>19.0</td>\n",
              "      <td>2.8</td>\n",
              "      <td>48.68</td>\n",
              "      <td>91</td>\n",
              "      <td>19</td>\n",
              "      <td>101</td>\n",
              "      <td>3.79</td>\n",
              "      <td>0.33</td>\n",
              "      <td>0.025</td>\n",
              "      <td>0.0000</td>\n",
              "      <td>0.00</td>\n",
              "      <td>0</td>\n",
              "      <td>47.100000</td>\n",
              "      <td>0.0</td>\n",
              "      <td>0.00</td>\n",
              "      <td>0.00</td>\n",
              "      <td>0</td>\n",
              "      <td>0</td>\n",
              "      <td>0.00</td>\n",
              "      <td>0</td>\n",
              "      <td>0.9</td>\n",
              "      <td>2.7</td>\n",
              "      <td>3.2</td>\n",
              "      <td>0.30</td>\n",
              "      <td>0.00</td>\n",
              "    </tr>\n",
              "    <tr>\n",
              "      <th>4</th>\n",
              "      <td>1001</td>\n",
              "      <td>Autauga County</td>\n",
              "      <td>1</td>\n",
              "      <td>40</td>\n",
              "      <td>22</td>\n",
              "      <td>2.56</td>\n",
              "      <td>42.8</td>\n",
              "      <td>1.2</td>\n",
              "      <td>30.9</td>\n",
              "      <td>0.23</td>\n",
              "      <td>2.33</td>\n",
              "      <td>0</td>\n",
              "      <td>55601</td>\n",
              "      <td>-9.7</td>\n",
              "      <td>2020-01-05</td>\n",
              "      <td>0.11</td>\n",
              "      <td>19</td>\n",
              "      <td>58786</td>\n",
              "      <td>19.0</td>\n",
              "      <td>2.8</td>\n",
              "      <td>48.68</td>\n",
              "      <td>91</td>\n",
              "      <td>19</td>\n",
              "      <td>101</td>\n",
              "      <td>3.79</td>\n",
              "      <td>0.33</td>\n",
              "      <td>0.025</td>\n",
              "      <td>0.0000</td>\n",
              "      <td>0.00</td>\n",
              "      <td>0</td>\n",
              "      <td>47.100000</td>\n",
              "      <td>0.0</td>\n",
              "      <td>0.00</td>\n",
              "      <td>0.00</td>\n",
              "      <td>0</td>\n",
              "      <td>0</td>\n",
              "      <td>0.00</td>\n",
              "      <td>0</td>\n",
              "      <td>0.9</td>\n",
              "      <td>2.7</td>\n",
              "      <td>3.2</td>\n",
              "      <td>0.30</td>\n",
              "      <td>0.00</td>\n",
              "    </tr>\n",
              "    <tr>\n",
              "      <th>...</th>\n",
              "      <td>...</td>\n",
              "      <td>...</td>\n",
              "      <td>...</td>\n",
              "      <td>...</td>\n",
              "      <td>...</td>\n",
              "      <td>...</td>\n",
              "      <td>...</td>\n",
              "      <td>...</td>\n",
              "      <td>...</td>\n",
              "      <td>...</td>\n",
              "      <td>...</td>\n",
              "      <td>...</td>\n",
              "      <td>...</td>\n",
              "      <td>...</td>\n",
              "      <td>...</td>\n",
              "      <td>...</td>\n",
              "      <td>...</td>\n",
              "      <td>...</td>\n",
              "      <td>...</td>\n",
              "      <td>...</td>\n",
              "      <td>...</td>\n",
              "      <td>...</td>\n",
              "      <td>...</td>\n",
              "      <td>...</td>\n",
              "      <td>...</td>\n",
              "      <td>...</td>\n",
              "      <td>...</td>\n",
              "      <td>...</td>\n",
              "      <td>...</td>\n",
              "      <td>...</td>\n",
              "      <td>...</td>\n",
              "      <td>...</td>\n",
              "      <td>...</td>\n",
              "      <td>...</td>\n",
              "      <td>...</td>\n",
              "      <td>...</td>\n",
              "      <td>...</td>\n",
              "      <td>...</td>\n",
              "      <td>...</td>\n",
              "      <td>...</td>\n",
              "      <td>...</td>\n",
              "      <td>...</td>\n",
              "      <td>...</td>\n",
              "    </tr>\n",
              "    <tr>\n",
              "      <th>901749</th>\n",
              "      <td>56045</td>\n",
              "      <td>Weston County</td>\n",
              "      <td>56</td>\n",
              "      <td>40</td>\n",
              "      <td>20</td>\n",
              "      <td>3.00</td>\n",
              "      <td>27.4</td>\n",
              "      <td>10.3</td>\n",
              "      <td>172.4</td>\n",
              "      <td>0.04</td>\n",
              "      <td>2.96</td>\n",
              "      <td>3</td>\n",
              "      <td>6967</td>\n",
              "      <td>-16.3</td>\n",
              "      <td>2020-10-09</td>\n",
              "      <td>8.34</td>\n",
              "      <td>30</td>\n",
              "      <td>52867</td>\n",
              "      <td>0.5</td>\n",
              "      <td>1.5</td>\n",
              "      <td>53.07</td>\n",
              "      <td>3</td>\n",
              "      <td>1</td>\n",
              "      <td>153</td>\n",
              "      <td>3.76</td>\n",
              "      <td>0.50</td>\n",
              "      <td>0.017</td>\n",
              "      <td>0.3828</td>\n",
              "      <td>5.50</td>\n",
              "      <td>0</td>\n",
              "      <td>38.319241</td>\n",
              "      <td>6.6</td>\n",
              "      <td>191.28</td>\n",
              "      <td>1.32</td>\n",
              "      <td>3</td>\n",
              "      <td>29</td>\n",
              "      <td>9.69</td>\n",
              "      <td>0</td>\n",
              "      <td>1.2</td>\n",
              "      <td>9.3</td>\n",
              "      <td>18.5</td>\n",
              "      <td>1.51</td>\n",
              "      <td>0.96</td>\n",
              "    </tr>\n",
              "    <tr>\n",
              "      <th>901750</th>\n",
              "      <td>56045</td>\n",
              "      <td>Weston County</td>\n",
              "      <td>56</td>\n",
              "      <td>37</td>\n",
              "      <td>22</td>\n",
              "      <td>3.37</td>\n",
              "      <td>26.1</td>\n",
              "      <td>10.3</td>\n",
              "      <td>90.4</td>\n",
              "      <td>0.11</td>\n",
              "      <td>3.26</td>\n",
              "      <td>4</td>\n",
              "      <td>6967</td>\n",
              "      <td>-7.8</td>\n",
              "      <td>2020-10-10</td>\n",
              "      <td>8.34</td>\n",
              "      <td>30</td>\n",
              "      <td>52867</td>\n",
              "      <td>0.5</td>\n",
              "      <td>1.5</td>\n",
              "      <td>53.07</td>\n",
              "      <td>3</td>\n",
              "      <td>1</td>\n",
              "      <td>153</td>\n",
              "      <td>3.76</td>\n",
              "      <td>0.50</td>\n",
              "      <td>0.017</td>\n",
              "      <td>0.3828</td>\n",
              "      <td>5.65</td>\n",
              "      <td>0</td>\n",
              "      <td>38.321286</td>\n",
              "      <td>6.7</td>\n",
              "      <td>191.49</td>\n",
              "      <td>1.33</td>\n",
              "      <td>3</td>\n",
              "      <td>29</td>\n",
              "      <td>9.69</td>\n",
              "      <td>0</td>\n",
              "      <td>1.2</td>\n",
              "      <td>9.3</td>\n",
              "      <td>18.5</td>\n",
              "      <td>1.51</td>\n",
              "      <td>0.96</td>\n",
              "    </tr>\n",
              "    <tr>\n",
              "      <th>901751</th>\n",
              "      <td>56045</td>\n",
              "      <td>Weston County</td>\n",
              "      <td>56</td>\n",
              "      <td>42</td>\n",
              "      <td>26</td>\n",
              "      <td>2.70</td>\n",
              "      <td>24.5</td>\n",
              "      <td>13.1</td>\n",
              "      <td>71.9</td>\n",
              "      <td>0.06</td>\n",
              "      <td>2.64</td>\n",
              "      <td>0</td>\n",
              "      <td>6967</td>\n",
              "      <td>-25.3</td>\n",
              "      <td>2020-10-11</td>\n",
              "      <td>8.34</td>\n",
              "      <td>30</td>\n",
              "      <td>52867</td>\n",
              "      <td>0.5</td>\n",
              "      <td>1.5</td>\n",
              "      <td>53.07</td>\n",
              "      <td>3</td>\n",
              "      <td>1</td>\n",
              "      <td>153</td>\n",
              "      <td>3.76</td>\n",
              "      <td>0.50</td>\n",
              "      <td>0.017</td>\n",
              "      <td>0.3349</td>\n",
              "      <td>5.81</td>\n",
              "      <td>0</td>\n",
              "      <td>38.323483</td>\n",
              "      <td>6.9</td>\n",
              "      <td>191.76</td>\n",
              "      <td>1.33</td>\n",
              "      <td>3</td>\n",
              "      <td>25</td>\n",
              "      <td>9.69</td>\n",
              "      <td>0</td>\n",
              "      <td>1.2</td>\n",
              "      <td>9.3</td>\n",
              "      <td>18.5</td>\n",
              "      <td>1.51</td>\n",
              "      <td>0.96</td>\n",
              "    </tr>\n",
              "    <tr>\n",
              "      <th>901752</th>\n",
              "      <td>56045</td>\n",
              "      <td>Weston County</td>\n",
              "      <td>56</td>\n",
              "      <td>26</td>\n",
              "      <td>19</td>\n",
              "      <td>3.05</td>\n",
              "      <td>25.3</td>\n",
              "      <td>9.9</td>\n",
              "      <td>102.7</td>\n",
              "      <td>0.04</td>\n",
              "      <td>3.00</td>\n",
              "      <td>0</td>\n",
              "      <td>6967</td>\n",
              "      <td>-15.2</td>\n",
              "      <td>2020-10-12</td>\n",
              "      <td>8.34</td>\n",
              "      <td>30</td>\n",
              "      <td>52867</td>\n",
              "      <td>0.5</td>\n",
              "      <td>1.5</td>\n",
              "      <td>53.07</td>\n",
              "      <td>3</td>\n",
              "      <td>1</td>\n",
              "      <td>153</td>\n",
              "      <td>3.76</td>\n",
              "      <td>0.50</td>\n",
              "      <td>0.017</td>\n",
              "      <td>0.1914</td>\n",
              "      <td>6.08</td>\n",
              "      <td>0</td>\n",
              "      <td>38.324928</td>\n",
              "      <td>7.0</td>\n",
              "      <td>192.09</td>\n",
              "      <td>1.33</td>\n",
              "      <td>3</td>\n",
              "      <td>24</td>\n",
              "      <td>9.69</td>\n",
              "      <td>0</td>\n",
              "      <td>1.2</td>\n",
              "      <td>9.3</td>\n",
              "      <td>18.5</td>\n",
              "      <td>1.51</td>\n",
              "      <td>0.96</td>\n",
              "    </tr>\n",
              "    <tr>\n",
              "      <th>901753</th>\n",
              "      <td>56045</td>\n",
              "      <td>Weston County</td>\n",
              "      <td>56</td>\n",
              "      <td>51</td>\n",
              "      <td>27</td>\n",
              "      <td>2.89</td>\n",
              "      <td>19.8</td>\n",
              "      <td>6.4</td>\n",
              "      <td>147.6</td>\n",
              "      <td>0.05</td>\n",
              "      <td>2.84</td>\n",
              "      <td>4</td>\n",
              "      <td>6967</td>\n",
              "      <td>-19.7</td>\n",
              "      <td>2020-10-13</td>\n",
              "      <td>8.34</td>\n",
              "      <td>30</td>\n",
              "      <td>52867</td>\n",
              "      <td>0.5</td>\n",
              "      <td>1.5</td>\n",
              "      <td>53.07</td>\n",
              "      <td>3</td>\n",
              "      <td>1</td>\n",
              "      <td>153</td>\n",
              "      <td>3.76</td>\n",
              "      <td>0.50</td>\n",
              "      <td>0.017</td>\n",
              "      <td>0.1914</td>\n",
              "      <td>6.27</td>\n",
              "      <td>0</td>\n",
              "      <td>39.570919</td>\n",
              "      <td>7.0</td>\n",
              "      <td>197.05</td>\n",
              "      <td>1.76</td>\n",
              "      <td>4</td>\n",
              "      <td>15</td>\n",
              "      <td>9.69</td>\n",
              "      <td>0</td>\n",
              "      <td>1.2</td>\n",
              "      <td>9.3</td>\n",
              "      <td>18.5</td>\n",
              "      <td>1.51</td>\n",
              "      <td>0.96</td>\n",
              "    </tr>\n",
              "  </tbody>\n",
              "</table>\n",
              "<p>901754 rows × 43 columns</p>\n",
              "</div>"
            ],
            "text/plain": [
              "        CTFIPS          CTNAME  ...  Cumulative inflation rate  COVID death rate\n",
              "0         1001  Autauga County  ...                       0.30              0.00\n",
              "1         1001  Autauga County  ...                       0.30              0.00\n",
              "2         1001  Autauga County  ...                       0.30              0.00\n",
              "3         1001  Autauga County  ...                       0.30              0.00\n",
              "4         1001  Autauga County  ...                       0.30              0.00\n",
              "...        ...             ...  ...                        ...               ...\n",
              "901749   56045   Weston County  ...                       1.51              0.96\n",
              "901750   56045   Weston County  ...                       1.51              0.96\n",
              "901751   56045   Weston County  ...                       1.51              0.96\n",
              "901752   56045   Weston County  ...                       1.51              0.96\n",
              "901753   56045   Weston County  ...                       1.51              0.96\n",
              "\n",
              "[901754 rows x 43 columns]"
            ]
          },
          "metadata": {
            "tags": []
          },
          "execution_count": 9
        }
      ]
    },
    {
      "cell_type": "code",
      "metadata": {
        "id": "r58ifIUA3iH5",
        "outputId": "f8bb7c08-637f-487f-d868-781b9c470649",
        "colab": {
          "base_uri": "https://localhost:8080/",
          "height": 0
        }
      },
      "source": [
        "maryland_sd_inertia.head(3)"
      ],
      "execution_count": 10,
      "outputs": [
        {
          "output_type": "execute_result",
          "data": {
            "text/html": [
              "<div>\n",
              "<style scoped>\n",
              "    .dataframe tbody tr th:only-of-type {\n",
              "        vertical-align: middle;\n",
              "    }\n",
              "\n",
              "    .dataframe tbody tr th {\n",
              "        vertical-align: top;\n",
              "    }\n",
              "\n",
              "    .dataframe thead th {\n",
              "        text-align: right;\n",
              "    }\n",
              "</style>\n",
              "<table border=\"1\" class=\"dataframe\">\n",
              "  <thead>\n",
              "    <tr style=\"text-align: right;\">\n",
              "      <th></th>\n",
              "      <th>CTFIPS</th>\n",
              "      <th>CTNAME</th>\n",
              "      <th>STFIPS</th>\n",
              "      <th>Social distancing index</th>\n",
              "      <th>% staying home</th>\n",
              "      <th>Trips/person</th>\n",
              "      <th>% out-of-county trips</th>\n",
              "      <th>% out-of-state trips</th>\n",
              "      <th>Miles/person</th>\n",
              "      <th>Work trips/person</th>\n",
              "      <th>Non-work trips/person</th>\n",
              "      <th>New COVID cases</th>\n",
              "      <th>Population</th>\n",
              "      <th>% change in consumption</th>\n",
              "      <th>date</th>\n",
              "      <th>Transit mode share</th>\n",
              "      <th>% people older than 60</th>\n",
              "      <th>Median income</th>\n",
              "      <th>% African Americans</th>\n",
              "      <th>% Hispanic Americans</th>\n",
              "      <th>% Male</th>\n",
              "      <th>Population density</th>\n",
              "      <th>Employment density</th>\n",
              "      <th># hot spots/1000 people</th>\n",
              "      <th>Hospital beds/1000 people</th>\n",
              "      <th>ICUs/1000 people</th>\n",
              "      <th># contact tracing workers/1000 people</th>\n",
              "      <th>New cases/1000 people</th>\n",
              "      <th>Active cases/1000 people</th>\n",
              "      <th>#days: decreasing COVID cases</th>\n",
              "      <th>% hospital bed utilization</th>\n",
              "      <th>Testing capacity</th>\n",
              "      <th>Tests done/1000 people</th>\n",
              "      <th>% ICU utilization</th>\n",
              "      <th>Ventilator shortage</th>\n",
              "      <th>Imported COVID cases</th>\n",
              "      <th>COVID exposure/1000 people</th>\n",
              "      <th>#days: decreasing ILI cases</th>\n",
              "      <th>Unemployment claims/1000 people</th>\n",
              "      <th>Unemployment rate</th>\n",
              "      <th>% working from home</th>\n",
              "      <th>Cumulative inflation rate</th>\n",
              "      <th>COVID death rate</th>\n",
              "    </tr>\n",
              "  </thead>\n",
              "  <tbody>\n",
              "    <tr>\n",
              "      <th>0</th>\n",
              "      <td>1001</td>\n",
              "      <td>Autauga County</td>\n",
              "      <td>1</td>\n",
              "      <td>54</td>\n",
              "      <td>27</td>\n",
              "      <td>2.25</td>\n",
              "      <td>38.8</td>\n",
              "      <td>1.2</td>\n",
              "      <td>24.7</td>\n",
              "      <td>0.25</td>\n",
              "      <td>2.00</td>\n",
              "      <td>0</td>\n",
              "      <td>55601</td>\n",
              "      <td>-22.5</td>\n",
              "      <td>2020-01-01</td>\n",
              "      <td>0.11</td>\n",
              "      <td>19</td>\n",
              "      <td>58786</td>\n",
              "      <td>19.0</td>\n",
              "      <td>2.8</td>\n",
              "      <td>48.68</td>\n",
              "      <td>91</td>\n",
              "      <td>19</td>\n",
              "      <td>101</td>\n",
              "      <td>3.79</td>\n",
              "      <td>0.33</td>\n",
              "      <td>0.025</td>\n",
              "      <td>0.0</td>\n",
              "      <td>0.0</td>\n",
              "      <td>0</td>\n",
              "      <td>47.1</td>\n",
              "      <td>0.0</td>\n",
              "      <td>0.0</td>\n",
              "      <td>0.0</td>\n",
              "      <td>0</td>\n",
              "      <td>0</td>\n",
              "      <td>0.0</td>\n",
              "      <td>0</td>\n",
              "      <td>0.9</td>\n",
              "      <td>2.7</td>\n",
              "      <td>3.2</td>\n",
              "      <td>0.3</td>\n",
              "      <td>0.0</td>\n",
              "    </tr>\n",
              "    <tr>\n",
              "      <th>1</th>\n",
              "      <td>1001</td>\n",
              "      <td>Autauga County</td>\n",
              "      <td>1</td>\n",
              "      <td>25</td>\n",
              "      <td>18</td>\n",
              "      <td>2.83</td>\n",
              "      <td>43.5</td>\n",
              "      <td>0.9</td>\n",
              "      <td>37.6</td>\n",
              "      <td>0.62</td>\n",
              "      <td>2.21</td>\n",
              "      <td>0</td>\n",
              "      <td>55601</td>\n",
              "      <td>-14.3</td>\n",
              "      <td>2020-01-02</td>\n",
              "      <td>0.11</td>\n",
              "      <td>19</td>\n",
              "      <td>58786</td>\n",
              "      <td>19.0</td>\n",
              "      <td>2.8</td>\n",
              "      <td>48.68</td>\n",
              "      <td>91</td>\n",
              "      <td>19</td>\n",
              "      <td>101</td>\n",
              "      <td>3.79</td>\n",
              "      <td>0.33</td>\n",
              "      <td>0.025</td>\n",
              "      <td>0.0</td>\n",
              "      <td>0.0</td>\n",
              "      <td>0</td>\n",
              "      <td>47.1</td>\n",
              "      <td>0.0</td>\n",
              "      <td>0.0</td>\n",
              "      <td>0.0</td>\n",
              "      <td>0</td>\n",
              "      <td>0</td>\n",
              "      <td>0.0</td>\n",
              "      <td>0</td>\n",
              "      <td>0.9</td>\n",
              "      <td>2.7</td>\n",
              "      <td>3.2</td>\n",
              "      <td>0.3</td>\n",
              "      <td>0.0</td>\n",
              "    </tr>\n",
              "    <tr>\n",
              "      <th>2</th>\n",
              "      <td>1001</td>\n",
              "      <td>Autauga County</td>\n",
              "      <td>1</td>\n",
              "      <td>15</td>\n",
              "      <td>15</td>\n",
              "      <td>3.18</td>\n",
              "      <td>42.2</td>\n",
              "      <td>1.0</td>\n",
              "      <td>40.3</td>\n",
              "      <td>0.62</td>\n",
              "      <td>2.57</td>\n",
              "      <td>0</td>\n",
              "      <td>55601</td>\n",
              "      <td>-0.4</td>\n",
              "      <td>2020-01-03</td>\n",
              "      <td>0.11</td>\n",
              "      <td>19</td>\n",
              "      <td>58786</td>\n",
              "      <td>19.0</td>\n",
              "      <td>2.8</td>\n",
              "      <td>48.68</td>\n",
              "      <td>91</td>\n",
              "      <td>19</td>\n",
              "      <td>101</td>\n",
              "      <td>3.79</td>\n",
              "      <td>0.33</td>\n",
              "      <td>0.025</td>\n",
              "      <td>0.0</td>\n",
              "      <td>0.0</td>\n",
              "      <td>0</td>\n",
              "      <td>47.1</td>\n",
              "      <td>0.0</td>\n",
              "      <td>0.0</td>\n",
              "      <td>0.0</td>\n",
              "      <td>0</td>\n",
              "      <td>0</td>\n",
              "      <td>0.0</td>\n",
              "      <td>0</td>\n",
              "      <td>0.9</td>\n",
              "      <td>2.7</td>\n",
              "      <td>3.2</td>\n",
              "      <td>0.3</td>\n",
              "      <td>0.0</td>\n",
              "    </tr>\n",
              "  </tbody>\n",
              "</table>\n",
              "</div>"
            ],
            "text/plain": [
              "   CTFIPS          CTNAME  ...  Cumulative inflation rate  COVID death rate\n",
              "0    1001  Autauga County  ...                        0.3               0.0\n",
              "1    1001  Autauga County  ...                        0.3               0.0\n",
              "2    1001  Autauga County  ...                        0.3               0.0\n",
              "\n",
              "[3 rows x 43 columns]"
            ]
          },
          "metadata": {
            "tags": []
          },
          "execution_count": 10
        }
      ]
    },
    {
      "cell_type": "code",
      "metadata": {
        "id": "4sjo_s7Ot4MA"
      },
      "source": [
        ""
      ],
      "execution_count": 10,
      "outputs": []
    },
    {
      "cell_type": "code",
      "metadata": {
        "id": "64aGBAU73xdT",
        "outputId": "fe3a9164-06fc-4a68-edc4-d01bdce6810f",
        "colab": {
          "base_uri": "https://localhost:8080/",
          "height": 0
        }
      },
      "source": [
        "maryland_sd_inertia.columns"
      ],
      "execution_count": 11,
      "outputs": [
        {
          "output_type": "execute_result",
          "data": {
            "text/plain": [
              "Index(['CTFIPS', 'CTNAME', 'STFIPS', 'Social distancing index',\n",
              "       '% staying home', 'Trips/person', '% out-of-county trips',\n",
              "       '% out-of-state trips', 'Miles/person', 'Work trips/person',\n",
              "       'Non-work trips/person', 'New COVID cases', 'Population',\n",
              "       '% change in consumption', 'date', 'Transit mode share',\n",
              "       '% people older than 60', 'Median income', '% African Americans',\n",
              "       '% Hispanic Americans', '% Male', 'Population density',\n",
              "       'Employment density', '# hot spots/1000 people',\n",
              "       'Hospital beds/1000 people', 'ICUs/1000 people',\n",
              "       '# contact tracing workers/1000 people', 'New cases/1000 people',\n",
              "       'Active cases/1000 people', '#days: decreasing COVID cases',\n",
              "       '% hospital bed utilization', 'Testing capacity',\n",
              "       'Tests done/1000 people', '% ICU utilization', 'Ventilator shortage',\n",
              "       'Imported COVID cases', 'COVID exposure/1000 people',\n",
              "       '#days: decreasing ILI cases', 'Unemployment claims/1000 people',\n",
              "       'Unemployment rate', '% working from home', 'Cumulative inflation rate',\n",
              "       'COVID death rate'],\n",
              "      dtype='object')"
            ]
          },
          "metadata": {
            "tags": []
          },
          "execution_count": 11
        }
      ]
    },
    {
      "cell_type": "markdown",
      "metadata": {
        "id": "hHDGjRb46i0a"
      },
      "source": [
        "## Assign State Name\n",
        "\n",
        "California, New York, Texas, Iowa, Wisconsin, Colorado"
      ]
    },
    {
      "cell_type": "code",
      "metadata": {
        "id": "MBP739CjGb9Z",
        "outputId": "25305eb5-8cc6-43b9-b5f5-4a60777deb96",
        "colab": {
          "base_uri": "https://localhost:8080/",
          "height": 0
        }
      },
      "source": [
        "maryland_sd_inertia = pd.merge(state_fips_code,maryland_sd_inertia,how='inner',left_on=['STFIPS'],right_on=['STFIPS'])\n",
        "print(maryland_sd_inertia.shape)\n",
        "\n",
        "maryland_sd_inertia.head(2)"
      ],
      "execution_count": 12,
      "outputs": [
        {
          "output_type": "stream",
          "text": [
            "(901467, 45)\n"
          ],
          "name": "stdout"
        },
        {
          "output_type": "execute_result",
          "data": {
            "text/html": [
              "<div>\n",
              "<style scoped>\n",
              "    .dataframe tbody tr th:only-of-type {\n",
              "        vertical-align: middle;\n",
              "    }\n",
              "\n",
              "    .dataframe tbody tr th {\n",
              "        vertical-align: top;\n",
              "    }\n",
              "\n",
              "    .dataframe thead th {\n",
              "        text-align: right;\n",
              "    }\n",
              "</style>\n",
              "<table border=\"1\" class=\"dataframe\">\n",
              "  <thead>\n",
              "    <tr style=\"text-align: right;\">\n",
              "      <th></th>\n",
              "      <th>State</th>\n",
              "      <th>Postal Code</th>\n",
              "      <th>STFIPS</th>\n",
              "      <th>CTFIPS</th>\n",
              "      <th>CTNAME</th>\n",
              "      <th>Social distancing index</th>\n",
              "      <th>% staying home</th>\n",
              "      <th>Trips/person</th>\n",
              "      <th>% out-of-county trips</th>\n",
              "      <th>% out-of-state trips</th>\n",
              "      <th>Miles/person</th>\n",
              "      <th>Work trips/person</th>\n",
              "      <th>Non-work trips/person</th>\n",
              "      <th>New COVID cases</th>\n",
              "      <th>Population</th>\n",
              "      <th>% change in consumption</th>\n",
              "      <th>date</th>\n",
              "      <th>Transit mode share</th>\n",
              "      <th>% people older than 60</th>\n",
              "      <th>Median income</th>\n",
              "      <th>% African Americans</th>\n",
              "      <th>% Hispanic Americans</th>\n",
              "      <th>% Male</th>\n",
              "      <th>Population density</th>\n",
              "      <th>Employment density</th>\n",
              "      <th># hot spots/1000 people</th>\n",
              "      <th>Hospital beds/1000 people</th>\n",
              "      <th>ICUs/1000 people</th>\n",
              "      <th># contact tracing workers/1000 people</th>\n",
              "      <th>New cases/1000 people</th>\n",
              "      <th>Active cases/1000 people</th>\n",
              "      <th>#days: decreasing COVID cases</th>\n",
              "      <th>% hospital bed utilization</th>\n",
              "      <th>Testing capacity</th>\n",
              "      <th>Tests done/1000 people</th>\n",
              "      <th>% ICU utilization</th>\n",
              "      <th>Ventilator shortage</th>\n",
              "      <th>Imported COVID cases</th>\n",
              "      <th>COVID exposure/1000 people</th>\n",
              "      <th>#days: decreasing ILI cases</th>\n",
              "      <th>Unemployment claims/1000 people</th>\n",
              "      <th>Unemployment rate</th>\n",
              "      <th>% working from home</th>\n",
              "      <th>Cumulative inflation rate</th>\n",
              "      <th>COVID death rate</th>\n",
              "    </tr>\n",
              "  </thead>\n",
              "  <tbody>\n",
              "    <tr>\n",
              "      <th>0</th>\n",
              "      <td>Alabama</td>\n",
              "      <td>AL</td>\n",
              "      <td>1</td>\n",
              "      <td>1001</td>\n",
              "      <td>Autauga County</td>\n",
              "      <td>54</td>\n",
              "      <td>27</td>\n",
              "      <td>2.25</td>\n",
              "      <td>38.8</td>\n",
              "      <td>1.2</td>\n",
              "      <td>24.7</td>\n",
              "      <td>0.25</td>\n",
              "      <td>2.00</td>\n",
              "      <td>0</td>\n",
              "      <td>55601</td>\n",
              "      <td>-22.5</td>\n",
              "      <td>2020-01-01</td>\n",
              "      <td>0.11</td>\n",
              "      <td>19</td>\n",
              "      <td>58786</td>\n",
              "      <td>19.0</td>\n",
              "      <td>2.8</td>\n",
              "      <td>48.68</td>\n",
              "      <td>91</td>\n",
              "      <td>19</td>\n",
              "      <td>101</td>\n",
              "      <td>3.79</td>\n",
              "      <td>0.33</td>\n",
              "      <td>0.025</td>\n",
              "      <td>0.0</td>\n",
              "      <td>0.0</td>\n",
              "      <td>0</td>\n",
              "      <td>47.1</td>\n",
              "      <td>0.0</td>\n",
              "      <td>0.0</td>\n",
              "      <td>0.0</td>\n",
              "      <td>0</td>\n",
              "      <td>0</td>\n",
              "      <td>0.0</td>\n",
              "      <td>0</td>\n",
              "      <td>0.9</td>\n",
              "      <td>2.7</td>\n",
              "      <td>3.2</td>\n",
              "      <td>0.3</td>\n",
              "      <td>0.0</td>\n",
              "    </tr>\n",
              "    <tr>\n",
              "      <th>1</th>\n",
              "      <td>Alabama</td>\n",
              "      <td>AL</td>\n",
              "      <td>1</td>\n",
              "      <td>1001</td>\n",
              "      <td>Autauga County</td>\n",
              "      <td>25</td>\n",
              "      <td>18</td>\n",
              "      <td>2.83</td>\n",
              "      <td>43.5</td>\n",
              "      <td>0.9</td>\n",
              "      <td>37.6</td>\n",
              "      <td>0.62</td>\n",
              "      <td>2.21</td>\n",
              "      <td>0</td>\n",
              "      <td>55601</td>\n",
              "      <td>-14.3</td>\n",
              "      <td>2020-01-02</td>\n",
              "      <td>0.11</td>\n",
              "      <td>19</td>\n",
              "      <td>58786</td>\n",
              "      <td>19.0</td>\n",
              "      <td>2.8</td>\n",
              "      <td>48.68</td>\n",
              "      <td>91</td>\n",
              "      <td>19</td>\n",
              "      <td>101</td>\n",
              "      <td>3.79</td>\n",
              "      <td>0.33</td>\n",
              "      <td>0.025</td>\n",
              "      <td>0.0</td>\n",
              "      <td>0.0</td>\n",
              "      <td>0</td>\n",
              "      <td>47.1</td>\n",
              "      <td>0.0</td>\n",
              "      <td>0.0</td>\n",
              "      <td>0.0</td>\n",
              "      <td>0</td>\n",
              "      <td>0</td>\n",
              "      <td>0.0</td>\n",
              "      <td>0</td>\n",
              "      <td>0.9</td>\n",
              "      <td>2.7</td>\n",
              "      <td>3.2</td>\n",
              "      <td>0.3</td>\n",
              "      <td>0.0</td>\n",
              "    </tr>\n",
              "  </tbody>\n",
              "</table>\n",
              "</div>"
            ],
            "text/plain": [
              "     State Postal Code  ...  Cumulative inflation rate  COVID death rate\n",
              "0  Alabama          AL  ...                        0.3               0.0\n",
              "1  Alabama          AL  ...                        0.3               0.0\n",
              "\n",
              "[2 rows x 45 columns]"
            ]
          },
          "metadata": {
            "tags": []
          },
          "execution_count": 12
        }
      ]
    },
    {
      "cell_type": "code",
      "metadata": {
        "id": "DPt_rkwb7KOq"
      },
      "source": [
        "## not using this\n",
        "def assignStateName(x):\n",
        "  if x == 6:\n",
        "    return 'California' # 6\n",
        "  elif x == 36:\n",
        "    return 'New York' # 36\n",
        "  elif x == 48:\n",
        "    return 'Texas' #1\n",
        "  elif x == 19:\n",
        "    return 'Iowa' #19\n",
        "  elif x == 8:\n",
        "    return 'Colorado' #8\n",
        "  elif x == 55:\n",
        "    return 'Wisconsin' #31\n",
        "  else:\n",
        "    return 'NA'"
      ],
      "execution_count": 13,
      "outputs": []
    },
    {
      "cell_type": "markdown",
      "metadata": {
        "id": "225hov4R_c7x"
      },
      "source": [
        "## Filter Data for 6 States"
      ]
    },
    {
      "cell_type": "code",
      "metadata": {
        "id": "K9u2ApLX_1xg",
        "outputId": "3a57d138-3842-46c8-f068-c565d3c4a3c2",
        "colab": {
          "base_uri": "https://localhost:8080/",
          "height": 0
        }
      },
      "source": [
        "state_list = ['California', 'New York', 'Texas', 'Iowa', 'Wisconsin', 'Colorado']\n",
        "\n",
        "maryland_sd_inertia_6states = maryland_sd_inertia[maryland_sd_inertia['State'].isin(state_list)]\n",
        "print(maryland_sd_inertia_6states.head(3) )"
      ],
      "execution_count": 14,
      "outputs": [
        {
          "output_type": "stream",
          "text": [
            "            State Postal Code  ...  Cumulative inflation rate  COVID death rate\n",
            "53382  California          CA  ...                        0.3               0.0\n",
            "53383  California          CA  ...                        0.3               0.0\n",
            "53384  California          CA  ...                        0.3               0.0\n",
            "\n",
            "[3 rows x 45 columns]\n"
          ],
          "name": "stdout"
        }
      ]
    },
    {
      "cell_type": "code",
      "metadata": {
        "id": "heS43YxmAUDN",
        "outputId": "fde3e4f7-f6a5-41e3-e012-57f93f409f17",
        "colab": {
          "base_uri": "https://localhost:8080/",
          "height": 0
        }
      },
      "source": [
        "maryland_sd_inertia_6states.State.unique()"
      ],
      "execution_count": 15,
      "outputs": [
        {
          "output_type": "execute_result",
          "data": {
            "text/plain": [
              "array(['California', 'Colorado', 'Iowa', 'New York', 'Texas', 'Wisconsin'],\n",
              "      dtype=object)"
            ]
          },
          "metadata": {
            "tags": []
          },
          "execution_count": 15
        }
      ]
    },
    {
      "cell_type": "markdown",
      "metadata": {
        "id": "PsOnEXidWFu9"
      },
      "source": [
        "## Multiclass Classification without a Classifier!"
      ]
    },
    {
      "cell_type": "code",
      "metadata": {
        "id": "2Kazm_SFJc4k",
        "outputId": "53755c1f-a6bd-4b5e-ff19-494f422bef73",
        "colab": {
          "base_uri": "https://localhost:8080/",
          "height": 0
        }
      },
      "source": [
        "maryland_sd_inertia_6states.columns"
      ],
      "execution_count": 16,
      "outputs": [
        {
          "output_type": "execute_result",
          "data": {
            "text/plain": [
              "Index(['State', 'Postal Code', 'STFIPS', 'CTFIPS', 'CTNAME',\n",
              "       'Social distancing index', '% staying home', 'Trips/person',\n",
              "       '% out-of-county trips', '% out-of-state trips', 'Miles/person',\n",
              "       'Work trips/person', 'Non-work trips/person', 'New COVID cases',\n",
              "       'Population', '% change in consumption', 'date', 'Transit mode share',\n",
              "       '% people older than 60', 'Median income', '% African Americans',\n",
              "       '% Hispanic Americans', '% Male', 'Population density',\n",
              "       'Employment density', '# hot spots/1000 people',\n",
              "       'Hospital beds/1000 people', 'ICUs/1000 people',\n",
              "       '# contact tracing workers/1000 people', 'New cases/1000 people',\n",
              "       'Active cases/1000 people', '#days: decreasing COVID cases',\n",
              "       '% hospital bed utilization', 'Testing capacity',\n",
              "       'Tests done/1000 people', '% ICU utilization', 'Ventilator shortage',\n",
              "       'Imported COVID cases', 'COVID exposure/1000 people',\n",
              "       '#days: decreasing ILI cases', 'Unemployment claims/1000 people',\n",
              "       'Unemployment rate', '% working from home', 'Cumulative inflation rate',\n",
              "       'COVID death rate'],\n",
              "      dtype='object')"
            ]
          },
          "metadata": {
            "tags": []
          },
          "execution_count": 16
        }
      ]
    },
    {
      "cell_type": "code",
      "metadata": {
        "id": "KBYUKEs-TNai"
      },
      "source": [
        "X_cols = ['Social distancing index','% staying home', 'Trips/person', '% out-of-county trips',\n",
        "       '% out-of-state trips', 'Miles/person', 'Work trips/person',\n",
        "       'Non-work trips/person','% change in consumption','Transit mode share',\n",
        "       '% people older than 60', 'Median income', '% African Americans',\n",
        "       '% Hispanic Americans', '% Male', 'Population density',\n",
        "       'Employment density', '# hot spots/1000 people',\n",
        "       'Hospital beds/1000 people', 'ICUs/1000 people',\n",
        "       '# contact tracing workers/1000 people','% hospital bed utilization', 'Testing capacity',\n",
        "       'Tests done/1000 people', '% ICU utilization', 'Ventilator shortage',\n",
        "       'Imported COVID cases', 'COVID exposure/1000 people',\n",
        "       '#days: decreasing ILI cases', 'Unemployment claims/1000 people',\n",
        "       'Unemployment rate', '% working from home', 'Cumulative inflation rate']\n",
        "\n",
        "Y_col = ['New cases/1000 people']\n"
      ],
      "execution_count": 17,
      "outputs": []
    },
    {
      "cell_type": "code",
      "metadata": {
        "id": "g6Sa8b1IzFw6"
      },
      "source": [
        "# have to check which values are NA\n",
        "maryland_sd_inertia_6states_filtered = maryland_sd_inertia_6states.dropna()"
      ],
      "execution_count": 18,
      "outputs": []
    },
    {
      "cell_type": "code",
      "metadata": {
        "id": "3wIeqCwKWUeI"
      },
      "source": [
        "n_classes = 3\n",
        "training_inputs = maryland_sd_inertia_6states_filtered[X_cols].values\n",
        "#training_outputs_labels = [c for row in maryland_sd_inertia_6states[Y_col].values for c in row]\n"
      ],
      "execution_count": 19,
      "outputs": []
    },
    {
      "cell_type": "markdown",
      "metadata": {
        "id": "1V11LBGZy9lx"
      },
      "source": [
        "# K-means clustering"
      ]
    },
    {
      "cell_type": "code",
      "metadata": {
        "id": "c31oBHjdy_9S"
      },
      "source": [
        "from sklearn.cluster import KMeans\n",
        "\n",
        "\n",
        "y_kmeans = KMeans(n_clusters=5,init ='k-means++', max_iter=300, n_init=10,random_state=0 ).fit_predict(training_inputs)\n",
        "\n",
        "X = training_inputs"
      ],
      "execution_count": 19,
      "outputs": []
    },
    {
      "cell_type": "code",
      "metadata": {
        "id": "QoKTnllUzpIv",
        "outputId": "1fb2dba8-ad01-4ee8-c404-6cbb7e035562",
        "colab": {
          "base_uri": "https://localhost:8080/",
          "height": 282
        }
      },
      "source": [
        "#6 Visualising the clusters\n",
        "plt.scatter(X[y_kmeans==0, 0], X[y_kmeans==0, 1], s=100, c='red', label ='Cluster 1')\n",
        "plt.scatter(X[y_kmeans==1, 0], X[y_kmeans==1, 1], s=100, c='blue', label ='Cluster 2')\n",
        "plt.scatter(X[y_kmeans==2, 0], X[y_kmeans==2, 1], s=100, c='green', label ='Cluster 3')\n",
        "plt.scatter(X[y_kmeans==3, 0], X[y_kmeans==3, 1], s=100, c='cyan', label ='Cluster 4')\n",
        "plt.scatter(X[y_kmeans==4, 0], X[y_kmeans==4, 1], s=100, c='magenta', label ='Cluster 5')"
      ],
      "execution_count": 20,
      "outputs": [
        {
          "output_type": "execute_result",
          "data": {
            "text/plain": [
              "<matplotlib.collections.PathCollection at 0x7fe881dcfc88>"
            ]
          },
          "metadata": {
            "tags": []
          },
          "execution_count": 20
        },
        {
          "output_type": "display_data",
          "data": {
            "image/png": "[encoded data removed]",
            "text/plain": [
              "<Figure size 432x288 with 1 Axes>"
            ]
          },
          "metadata": {
            "tags": [],
            "needs_background": "light"
          }
        }
      ]
    },
    {
      "cell_type": "code",
      "metadata": {
        "id": "OaVnTDSqz2c8",
        "outputId": "281a396c-b6f0-449d-b663-7a3d7d6f7824",
        "colab": {
          "base_uri": "https://localhost:8080/",
          "height": 34
        }
      },
      "source": [
        "y_kmeans"
      ],
      "execution_count": 21,
      "outputs": [
        {
          "output_type": "execute_result",
          "data": {
            "text/plain": [
              "array([4, 4, 4, ..., 4, 4, 4], dtype=int32)"
            ]
          },
          "metadata": {
            "tags": []
          },
          "execution_count": 21
        }
      ]
    },
    {
      "cell_type": "markdown",
      "metadata": {
        "id": "abQk5gxH3jQ6"
      },
      "source": [
        "# Optics Clustering"
      ]
    },
    {
      "cell_type": "code",
      "metadata": {
        "id": "aWCU9brs3l7_"
      },
      "source": [
        "from sklearn.cluster import OPTICS, cluster_optics_dbscan\n",
        "from matplotlib import gridspec \n",
        "\n",
        "# Building the OPTICS Clustering model \n",
        "optics_model = OPTICS(min_samples = 30, xi = 0.8, min_cluster_size = 0.08)\n",
        "\n"
      ],
      "execution_count": 21,
      "outputs": []
    },
    {
      "cell_type": "code",
      "metadata": {
        "id": "rZX1KPrm4Cey",
        "outputId": "e1089170-c70f-49ad-88be-de6377540c35",
        "colab": {
          "base_uri": "https://localhost:8080/",
          "height": 370
        }
      },
      "source": [
        "# Training the model \n",
        "y_optics = optics_model.fit(training_inputs) \n",
        "print('number of hierarchical clusters',len(optics_model.cluster_hierarchy_)-1)\n",
        "\n",
        "X = training_inputs"
      ],
      "execution_count": 22,
      "outputs": [
        {
          "output_type": "error",
          "ename": "KeyboardInterrupt",
          "evalue": "ignored",
          "traceback": [
            "\u001b[0;31m---------------------------------------------------------------------------\u001b[0m",
            "\u001b[0;31mKeyboardInterrupt\u001b[0m                         Traceback (most recent call last)",
            "\u001b[0;32m<ipython-input-22-f28f707d6096>\u001b[0m in \u001b[0;36m<module>\u001b[0;34m()\u001b[0m\n\u001b[1;32m      1\u001b[0m \u001b[0;31m# Training the model\u001b[0m\u001b[0;34m\u001b[0m\u001b[0;34m\u001b[0m\u001b[0;34m\u001b[0m\u001b[0m\n\u001b[0;32m----> 2\u001b[0;31m \u001b[0my_optics\u001b[0m \u001b[0;34m=\u001b[0m \u001b[0moptics_model\u001b[0m\u001b[0;34m.\u001b[0m\u001b[0mfit\u001b[0m\u001b[0;34m(\u001b[0m\u001b[0mtraining_inputs\u001b[0m\u001b[0;34m)\u001b[0m\u001b[0;34m\u001b[0m\u001b[0;34m\u001b[0m\u001b[0m\n\u001b[0m\u001b[1;32m      3\u001b[0m \u001b[0mprint\u001b[0m\u001b[0;34m(\u001b[0m\u001b[0;34m'number of hierarchical clusters'\u001b[0m\u001b[0;34m,\u001b[0m\u001b[0mlen\u001b[0m\u001b[0;34m(\u001b[0m\u001b[0moptics_model\u001b[0m\u001b[0;34m.\u001b[0m\u001b[0mcluster_hierarchy_\u001b[0m\u001b[0;34m)\u001b[0m\u001b[0;34m-\u001b[0m\u001b[0;36m1\u001b[0m\u001b[0;34m)\u001b[0m\u001b[0;34m\u001b[0m\u001b[0;34m\u001b[0m\u001b[0m\n\u001b[1;32m      4\u001b[0m \u001b[0;34m\u001b[0m\u001b[0m\n\u001b[1;32m      5\u001b[0m \u001b[0mX\u001b[0m \u001b[0;34m=\u001b[0m \u001b[0mtraining_inputs\u001b[0m\u001b[0;34m\u001b[0m\u001b[0;34m\u001b[0m\u001b[0m\n",
            "\u001b[0;32m/usr/local/lib/python3.6/dist-packages/sklearn/cluster/_optics.py\u001b[0m in \u001b[0;36mfit\u001b[0;34m(self, X, y)\u001b[0m\n\u001b[1;32m    257\u001b[0m              \u001b[0mleaf_size\u001b[0m\u001b[0;34m=\u001b[0m\u001b[0mself\u001b[0m\u001b[0;34m.\u001b[0m\u001b[0mleaf_size\u001b[0m\u001b[0;34m,\u001b[0m \u001b[0mmetric\u001b[0m\u001b[0;34m=\u001b[0m\u001b[0mself\u001b[0m\u001b[0;34m.\u001b[0m\u001b[0mmetric\u001b[0m\u001b[0;34m,\u001b[0m\u001b[0;34m\u001b[0m\u001b[0;34m\u001b[0m\u001b[0m\n\u001b[1;32m    258\u001b[0m              \u001b[0mmetric_params\u001b[0m\u001b[0;34m=\u001b[0m\u001b[0mself\u001b[0m\u001b[0;34m.\u001b[0m\u001b[0mmetric_params\u001b[0m\u001b[0;34m,\u001b[0m \u001b[0mp\u001b[0m\u001b[0;34m=\u001b[0m\u001b[0mself\u001b[0m\u001b[0;34m.\u001b[0m\u001b[0mp\u001b[0m\u001b[0;34m,\u001b[0m \u001b[0mn_jobs\u001b[0m\u001b[0;34m=\u001b[0m\u001b[0mself\u001b[0m\u001b[0;34m.\u001b[0m\u001b[0mn_jobs\u001b[0m\u001b[0;34m,\u001b[0m\u001b[0;34m\u001b[0m\u001b[0;34m\u001b[0m\u001b[0m\n\u001b[0;32m--> 259\u001b[0;31m              max_eps=self.max_eps)\n\u001b[0m\u001b[1;32m    260\u001b[0m \u001b[0;34m\u001b[0m\u001b[0m\n\u001b[1;32m    261\u001b[0m         \u001b[0;31m# Extract clusters from the calculated orders and reachability\u001b[0m\u001b[0;34m\u001b[0m\u001b[0;34m\u001b[0m\u001b[0;34m\u001b[0m\u001b[0m\n",
            "\u001b[0;32m/usr/local/lib/python3.6/dist-packages/sklearn/cluster/_optics.py\u001b[0m in \u001b[0;36mcompute_optics_graph\u001b[0;34m(X, min_samples, max_eps, metric, p, metric_params, algorithm, leaf_size, n_jobs)\u001b[0m\n\u001b[1;32m    496\u001b[0m                             \u001b[0mprocessed\u001b[0m\u001b[0;34m=\u001b[0m\u001b[0mprocessed\u001b[0m\u001b[0;34m,\u001b[0m \u001b[0mX\u001b[0m\u001b[0;34m=\u001b[0m\u001b[0mX\u001b[0m\u001b[0;34m,\u001b[0m \u001b[0mnbrs\u001b[0m\u001b[0;34m=\u001b[0m\u001b[0mnbrs\u001b[0m\u001b[0;34m,\u001b[0m\u001b[0;34m\u001b[0m\u001b[0;34m\u001b[0m\u001b[0m\n\u001b[1;32m    497\u001b[0m                             \u001b[0mmetric\u001b[0m\u001b[0;34m=\u001b[0m\u001b[0mmetric\u001b[0m\u001b[0;34m,\u001b[0m \u001b[0mmetric_params\u001b[0m\u001b[0;34m=\u001b[0m\u001b[0mmetric_params\u001b[0m\u001b[0;34m,\u001b[0m\u001b[0;34m\u001b[0m\u001b[0;34m\u001b[0m\u001b[0m\n\u001b[0;32m--> 498\u001b[0;31m                             p=p, max_eps=max_eps)\n\u001b[0m\u001b[1;32m    499\u001b[0m     \u001b[0;32mif\u001b[0m \u001b[0mnp\u001b[0m\u001b[0;34m.\u001b[0m\u001b[0mall\u001b[0m\u001b[0;34m(\u001b[0m\u001b[0mnp\u001b[0m\u001b[0;34m.\u001b[0m\u001b[0misinf\u001b[0m\u001b[0;34m(\u001b[0m\u001b[0mreachability_\u001b[0m\u001b[0;34m)\u001b[0m\u001b[0;34m)\u001b[0m\u001b[0;34m:\u001b[0m\u001b[0;34m\u001b[0m\u001b[0;34m\u001b[0m\u001b[0m\n\u001b[1;32m    500\u001b[0m         warnings.warn(\"All reachability values are inf. Set a larger\"\n",
            "\u001b[0;32m/usr/local/lib/python3.6/dist-packages/sklearn/cluster/_optics.py\u001b[0m in \u001b[0;36m_set_reach_dist\u001b[0;34m(core_distances_, reachability_, predecessor_, point_index, processed, X, nbrs, metric, metric_params, p, max_eps)\u001b[0m\n\u001b[1;32m    531\u001b[0m         dists = pairwise_distances(P, np.take(X, unproc, axis=0),\n\u001b[1;32m    532\u001b[0m                                    \u001b[0mmetric\u001b[0m\u001b[0;34m,\u001b[0m \u001b[0mn_jobs\u001b[0m\u001b[0;34m=\u001b[0m\u001b[0;32mNone\u001b[0m\u001b[0;34m,\u001b[0m\u001b[0;34m\u001b[0m\u001b[0;34m\u001b[0m\u001b[0m\n\u001b[0;32m--> 533\u001b[0;31m                                    **_params).ravel()\n\u001b[0m\u001b[1;32m    534\u001b[0m \u001b[0;34m\u001b[0m\u001b[0m\n\u001b[1;32m    535\u001b[0m     \u001b[0mrdists\u001b[0m \u001b[0;34m=\u001b[0m \u001b[0mnp\u001b[0m\u001b[0;34m.\u001b[0m\u001b[0mmaximum\u001b[0m\u001b[0;34m(\u001b[0m\u001b[0mdists\u001b[0m\u001b[0;34m,\u001b[0m \u001b[0mcore_distances_\u001b[0m\u001b[0;34m[\u001b[0m\u001b[0mpoint_index\u001b[0m\u001b[0;34m]\u001b[0m\u001b[0;34m)\u001b[0m\u001b[0;34m\u001b[0m\u001b[0;34m\u001b[0m\u001b[0m\n",
            "\u001b[0;32m/usr/local/lib/python3.6/dist-packages/sklearn/metrics/pairwise.py\u001b[0m in \u001b[0;36mpairwise_distances\u001b[0;34m(X, Y, metric, n_jobs, force_all_finite, **kwds)\u001b[0m\n\u001b[1;32m   1750\u001b[0m         \u001b[0mfunc\u001b[0m \u001b[0;34m=\u001b[0m \u001b[0mpartial\u001b[0m\u001b[0;34m(\u001b[0m\u001b[0mdistance\u001b[0m\u001b[0;34m.\u001b[0m\u001b[0mcdist\u001b[0m\u001b[0;34m,\u001b[0m \u001b[0mmetric\u001b[0m\u001b[0;34m=\u001b[0m\u001b[0mmetric\u001b[0m\u001b[0;34m,\u001b[0m \u001b[0;34m**\u001b[0m\u001b[0mkwds\u001b[0m\u001b[0;34m)\u001b[0m\u001b[0;34m\u001b[0m\u001b[0;34m\u001b[0m\u001b[0m\n\u001b[1;32m   1751\u001b[0m \u001b[0;34m\u001b[0m\u001b[0m\n\u001b[0;32m-> 1752\u001b[0;31m     \u001b[0;32mreturn\u001b[0m \u001b[0m_parallel_pairwise\u001b[0m\u001b[0;34m(\u001b[0m\u001b[0mX\u001b[0m\u001b[0;34m,\u001b[0m \u001b[0mY\u001b[0m\u001b[0;34m,\u001b[0m \u001b[0mfunc\u001b[0m\u001b[0;34m,\u001b[0m \u001b[0mn_jobs\u001b[0m\u001b[0;34m,\u001b[0m \u001b[0;34m**\u001b[0m\u001b[0mkwds\u001b[0m\u001b[0;34m)\u001b[0m\u001b[0;34m\u001b[0m\u001b[0;34m\u001b[0m\u001b[0m\n\u001b[0m\u001b[1;32m   1753\u001b[0m \u001b[0;34m\u001b[0m\u001b[0m\n\u001b[1;32m   1754\u001b[0m \u001b[0;34m\u001b[0m\u001b[0m\n",
            "\u001b[0;32m/usr/local/lib/python3.6/dist-packages/sklearn/metrics/pairwise.py\u001b[0m in \u001b[0;36m_parallel_pairwise\u001b[0;34m(X, Y, func, n_jobs, **kwds)\u001b[0m\n\u001b[1;32m   1346\u001b[0m \u001b[0;34m\u001b[0m\u001b[0m\n\u001b[1;32m   1347\u001b[0m     \u001b[0;32mif\u001b[0m \u001b[0meffective_n_jobs\u001b[0m\u001b[0;34m(\u001b[0m\u001b[0mn_jobs\u001b[0m\u001b[0;34m)\u001b[0m \u001b[0;34m==\u001b[0m \u001b[0;36m1\u001b[0m\u001b[0;34m:\u001b[0m\u001b[0;34m\u001b[0m\u001b[0;34m\u001b[0m\u001b[0m\n\u001b[0;32m-> 1348\u001b[0;31m         \u001b[0;32mreturn\u001b[0m \u001b[0mfunc\u001b[0m\u001b[0;34m(\u001b[0m\u001b[0mX\u001b[0m\u001b[0;34m,\u001b[0m \u001b[0mY\u001b[0m\u001b[0;34m,\u001b[0m \u001b[0;34m**\u001b[0m\u001b[0mkwds\u001b[0m\u001b[0;34m)\u001b[0m\u001b[0;34m\u001b[0m\u001b[0;34m\u001b[0m\u001b[0m\n\u001b[0m\u001b[1;32m   1349\u001b[0m \u001b[0;34m\u001b[0m\u001b[0m\n\u001b[1;32m   1350\u001b[0m     \u001b[0;31m# enforce a threading backend to prevent data communication overhead\u001b[0m\u001b[0;34m\u001b[0m\u001b[0;34m\u001b[0m\u001b[0;34m\u001b[0m\u001b[0m\n",
            "\u001b[0;32m/usr/local/lib/python3.6/dist-packages/scipy/spatial/distance.py\u001b[0m in \u001b[0;36mcdist\u001b[0;34m(XA, XB, metric, *args, **kwargs)\u001b[0m\n\u001b[1;32m   2778\u001b[0m             cdist_fn = getattr(_distance_wrap,\n\u001b[1;32m   2779\u001b[0m                                \"cdist_%s_%s_wrap\" % (metric_name, typ))\n\u001b[0;32m-> 2780\u001b[0;31m             \u001b[0mcdist_fn\u001b[0m\u001b[0;34m(\u001b[0m\u001b[0mXA\u001b[0m\u001b[0;34m,\u001b[0m \u001b[0mXB\u001b[0m\u001b[0;34m,\u001b[0m \u001b[0mdm\u001b[0m\u001b[0;34m,\u001b[0m \u001b[0;34m**\u001b[0m\u001b[0mkwargs\u001b[0m\u001b[0;34m)\u001b[0m\u001b[0;34m\u001b[0m\u001b[0;34m\u001b[0m\u001b[0m\n\u001b[0m\u001b[1;32m   2781\u001b[0m             \u001b[0;32mreturn\u001b[0m \u001b[0mdm\u001b[0m\u001b[0;34m\u001b[0m\u001b[0;34m\u001b[0m\u001b[0m\n\u001b[1;32m   2782\u001b[0m \u001b[0;34m\u001b[0m\u001b[0m\n",
            "\u001b[0;31mKeyboardInterrupt\u001b[0m: "
          ]
        }
      ]
    },
    {
      "cell_type": "code",
      "metadata": {
        "id": "G21KoA6d49Bh"
      },
      "source": [
        "#6 Visualising the clusters\n",
        "plt.scatter(X[y_optics==0, 0], X[y_optics==0, 1], s=100, c='red', label ='Cluster 1')\n",
        "plt.scatter(X[y_optics==1, 0], X[y_optics==1, 1], s=100, c='blue', label ='Cluster 2')\n",
        "plt.scatter(X[y_optics==2, 0], X[y_optics==2, 1], s=100, c='green', label ='Cluster 3')\n",
        "plt.scatter(X[y_optics==3, 0], X[y_optics==3, 1], s=100, c='cyan', label ='Cluster 4')\n",
        "plt.scatter(X[y_optics==4, 0], X[y_optics==4, 1], s=100, c='magenta', label ='Cluster 5')"
      ],
      "execution_count": null,
      "outputs": []
    },
    {
      "cell_type": "markdown",
      "metadata": {
        "id": "8eBVcfIT2QdV"
      },
      "source": [
        "# Sprectal clustering"
      ]
    },
    {
      "cell_type": "code",
      "metadata": {
        "id": "y3h45p882Qda"
      },
      "source": [
        "from sklearn.cluster import SpectralClustering\n",
        "\n",
        "y_sprectal = SpectralClustering(n_clusters=5 ).fit_predict(training_inputs)\n",
        "\n",
        "X = training_inputs"
      ],
      "execution_count": null,
      "outputs": []
    },
    {
      "cell_type": "code",
      "metadata": {
        "id": "EVKlNotu2Qde",
        "outputId": "a8262276-abd1-45b6-bbe3-fa9491e81ce1",
        "colab": {
          "base_uri": "https://localhost:8080/",
          "height": 282
        }
      },
      "source": [
        "#6 Visualising the clusters\n",
        "plt.scatter(X[y_sprectal==0, 0], X[y_sprectal==0, 1], s=100, c='red', label ='Cluster 1')\n",
        "plt.scatter(X[y_sprectal==1, 0], X[y_sprectal==1, 1], s=100, c='blue', label ='Cluster 2')\n",
        "plt.scatter(X[y_sprectal==2, 0], X[y_sprectal==2, 1], s=100, c='green', label ='Cluster 3')\n",
        "plt.scatter(X[y_sprectal==3, 0], X[y_sprectal==3, 1], s=100, c='cyan', label ='Cluster 4')\n",
        "plt.scatter(X[y_sprectal==4, 0], X[y_sprectal==4, 1], s=100, c='magenta', label ='Cluster 5')"
      ],
      "execution_count": null,
      "outputs": [
        {
          "output_type": "execute_result",
          "data": {
            "text/plain": [
              "<matplotlib.collections.PathCollection at 0x7f7db79f3630>"
            ]
          },
          "metadata": {
            "tags": []
          },
          "execution_count": 47
        },
        {
          "output_type": "display_data",
          "data": {
            "image/png": "[encoded data removed]",
            "text/plain": [
              "<Figure size 432x288 with 1 Axes>"
            ]
          },
          "metadata": {
            "tags": [],
            "needs_background": "light"
          }
        }
      ]
    },
    {
      "cell_type": "code",
      "metadata": {
        "id": "HnoAchBF2Qdh",
        "outputId": "66d8cadb-d944-49a4-d465-d793fec89844",
        "colab": {
          "base_uri": "https://localhost:8080/",
          "height": 34
        }
      },
      "source": [
        "y_sprectal"
      ],
      "execution_count": null,
      "outputs": [
        {
          "output_type": "execute_result",
          "data": {
            "text/plain": [
              "array([4, 4, 4, ..., 4, 4, 4], dtype=int32)"
            ]
          },
          "metadata": {
            "tags": []
          },
          "execution_count": 48
        }
      ]
    },
    {
      "cell_type": "markdown",
      "metadata": {
        "id": "JmXaGVp8y8e_"
      },
      "source": [
        "# unused"
      ]
    },
    {
      "cell_type": "code",
      "metadata": {
        "id": "5gpib01SWG_d",
        "outputId": "80a7cec2-3c6a-47d6-de2e-43b4662360c3",
        "colab": {
          "base_uri": "https://localhost:8080/",
          "height": 279
        }
      },
      "source": [
        "clusters = {this_class:[training_inputs[i] for i,c in enumerate(training_outputs_labels) if c == this_class] for this_class in range(n_classes)}\n",
        "centroids = [np.mean(np.array(vectors), axis=0) for vectors in clusters.values()]"
      ],
      "execution_count": 49,
      "outputs": [
        {
          "output_type": "error",
          "ename": "NameError",
          "evalue": "ignored",
          "traceback": [
            "\u001b[0;31m---------------------------------------------------------------------------\u001b[0m",
            "\u001b[0;31mNameError\u001b[0m                                 Traceback (most recent call last)",
            "\u001b[0;32m<ipython-input-49-e74cb4f6fdef>\u001b[0m in \u001b[0;36m<module>\u001b[0;34m()\u001b[0m\n\u001b[0;32m----> 1\u001b[0;31m \u001b[0mclusters\u001b[0m \u001b[0;34m=\u001b[0m \u001b[0;34m{\u001b[0m\u001b[0mthis_class\u001b[0m\u001b[0;34m:\u001b[0m\u001b[0;34m[\u001b[0m\u001b[0mtraining_inputs\u001b[0m\u001b[0;34m[\u001b[0m\u001b[0mi\u001b[0m\u001b[0;34m]\u001b[0m \u001b[0;32mfor\u001b[0m \u001b[0mi\u001b[0m\u001b[0;34m,\u001b[0m\u001b[0mc\u001b[0m \u001b[0;32min\u001b[0m \u001b[0menumerate\u001b[0m\u001b[0;34m(\u001b[0m\u001b[0mtraining_outputs_labels\u001b[0m\u001b[0;34m)\u001b[0m \u001b[0;32mif\u001b[0m \u001b[0mc\u001b[0m \u001b[0;34m==\u001b[0m \u001b[0mthis_class\u001b[0m\u001b[0;34m]\u001b[0m \u001b[0;32mfor\u001b[0m \u001b[0mthis_class\u001b[0m \u001b[0;32min\u001b[0m \u001b[0mrange\u001b[0m\u001b[0;34m(\u001b[0m\u001b[0mn_classes\u001b[0m\u001b[0;34m)\u001b[0m\u001b[0;34m}\u001b[0m\u001b[0;34m\u001b[0m\u001b[0;34m\u001b[0m\u001b[0m\n\u001b[0m\u001b[1;32m      2\u001b[0m \u001b[0mcentroids\u001b[0m \u001b[0;34m=\u001b[0m \u001b[0;34m[\u001b[0m\u001b[0mnp\u001b[0m\u001b[0;34m.\u001b[0m\u001b[0mmean\u001b[0m\u001b[0;34m(\u001b[0m\u001b[0mnp\u001b[0m\u001b[0;34m.\u001b[0m\u001b[0marray\u001b[0m\u001b[0;34m(\u001b[0m\u001b[0mvectors\u001b[0m\u001b[0;34m)\u001b[0m\u001b[0;34m,\u001b[0m \u001b[0maxis\u001b[0m\u001b[0;34m=\u001b[0m\u001b[0;36m0\u001b[0m\u001b[0;34m)\u001b[0m \u001b[0;32mfor\u001b[0m \u001b[0mvectors\u001b[0m \u001b[0;32min\u001b[0m \u001b[0mclusters\u001b[0m\u001b[0;34m.\u001b[0m\u001b[0mvalues\u001b[0m\u001b[0;34m(\u001b[0m\u001b[0;34m)\u001b[0m\u001b[0;34m]\u001b[0m\u001b[0;34m\u001b[0m\u001b[0;34m\u001b[0m\u001b[0m\n",
            "\u001b[0;32m<ipython-input-49-e74cb4f6fdef>\u001b[0m in \u001b[0;36m<dictcomp>\u001b[0;34m(.0)\u001b[0m\n\u001b[0;32m----> 1\u001b[0;31m \u001b[0mclusters\u001b[0m \u001b[0;34m=\u001b[0m \u001b[0;34m{\u001b[0m\u001b[0mthis_class\u001b[0m\u001b[0;34m:\u001b[0m\u001b[0;34m[\u001b[0m\u001b[0mtraining_inputs\u001b[0m\u001b[0;34m[\u001b[0m\u001b[0mi\u001b[0m\u001b[0;34m]\u001b[0m \u001b[0;32mfor\u001b[0m \u001b[0mi\u001b[0m\u001b[0;34m,\u001b[0m\u001b[0mc\u001b[0m \u001b[0;32min\u001b[0m \u001b[0menumerate\u001b[0m\u001b[0;34m(\u001b[0m\u001b[0mtraining_outputs_labels\u001b[0m\u001b[0;34m)\u001b[0m \u001b[0;32mif\u001b[0m \u001b[0mc\u001b[0m \u001b[0;34m==\u001b[0m \u001b[0mthis_class\u001b[0m\u001b[0;34m]\u001b[0m \u001b[0;32mfor\u001b[0m \u001b[0mthis_class\u001b[0m \u001b[0;32min\u001b[0m \u001b[0mrange\u001b[0m\u001b[0;34m(\u001b[0m\u001b[0mn_classes\u001b[0m\u001b[0;34m)\u001b[0m\u001b[0;34m}\u001b[0m\u001b[0;34m\u001b[0m\u001b[0;34m\u001b[0m\u001b[0m\n\u001b[0m\u001b[1;32m      2\u001b[0m \u001b[0mcentroids\u001b[0m \u001b[0;34m=\u001b[0m \u001b[0;34m[\u001b[0m\u001b[0mnp\u001b[0m\u001b[0;34m.\u001b[0m\u001b[0mmean\u001b[0m\u001b[0;34m(\u001b[0m\u001b[0mnp\u001b[0m\u001b[0;34m.\u001b[0m\u001b[0marray\u001b[0m\u001b[0;34m(\u001b[0m\u001b[0mvectors\u001b[0m\u001b[0;34m)\u001b[0m\u001b[0;34m,\u001b[0m \u001b[0maxis\u001b[0m\u001b[0;34m=\u001b[0m\u001b[0;36m0\u001b[0m\u001b[0;34m)\u001b[0m \u001b[0;32mfor\u001b[0m \u001b[0mvectors\u001b[0m \u001b[0;32min\u001b[0m \u001b[0mclusters\u001b[0m\u001b[0;34m.\u001b[0m\u001b[0mvalues\u001b[0m\u001b[0;34m(\u001b[0m\u001b[0;34m)\u001b[0m\u001b[0;34m]\u001b[0m\u001b[0;34m\u001b[0m\u001b[0;34m\u001b[0m\u001b[0m\n",
            "\u001b[0;31mNameError\u001b[0m: name 'training_outputs_labels' is not defined"
          ]
        }
      ]
    },
    {
      "cell_type": "code",
      "metadata": {
        "id": "YqCJ10MHYk8k"
      },
      "source": [
        "centroids[0]\n"
      ],
      "execution_count": null,
      "outputs": []
    },
    {
      "cell_type": "code",
      "metadata": {
        "id": "pdeoaocCTuVe"
      },
      "source": [
        "def plot_class_centroid(c):\n",
        "  class_vectors = list(clusters.values())[c]\n",
        "  class_label_vector = centroids[c]\n",
        "  \n",
        "  X = [x for x,_ in class_vectors + [class_label_vector]]\n",
        "  Y = [y for _,y in class_vectors + [class_label_vector]]\n",
        "  colours = ([c] * (len(X) - 1)) + [c+1]\n",
        "  sizes = ([10] * (len(X) - 1)) + [len(X)]\n",
        "\n",
        "  plt.scatter(X, Y, s = sizes, c= colours, alpha=0.5)"
      ],
      "execution_count": null,
      "outputs": []
    },
    {
      "cell_type": "code",
      "metadata": {
        "id": "vPdTOoKRYT-R"
      },
      "source": [
        "class_vectors = list(clusters.values())[0]\n",
        "class_label_vector = centroids[0]\n",
        "#print(class_label_vector)\n",
        "#print(class_vectors)\n",
        "#X = [x for x,_ in class_vectors + [class_label_vector]]\n"
      ],
      "execution_count": null,
      "outputs": []
    },
    {
      "cell_type": "code",
      "metadata": {
        "id": "PYK2CexaTIxN"
      },
      "source": [
        "from scipy.spatial.distance import cosine\n",
        "\n",
        "def predict_class(vector, class_vectors):\n",
        "  scores = [(cosine(vector, class_vector),c) for c,class_vector in enumerate(class_vectors)]\n",
        "  ranked = [c for _,c in sorted(scores)]\n",
        "  return ranked[0]"
      ],
      "execution_count": null,
      "outputs": []
    },
    {
      "cell_type": "code",
      "metadata": {
        "id": "bPKwc9uCZNhR"
      },
      "source": [
        "maryland_sd_inertia_6states[X_cols].values[0]"
      ],
      "execution_count": null,
      "outputs": []
    },
    {
      "cell_type": "code",
      "metadata": {
        "id": "u9uiikdjZFKP"
      },
      "source": [
        "predict_class(maryland_sd_inertia_6states[X_cols].values[299], centroids)"
      ],
      "execution_count": null,
      "outputs": []
    },
    {
      "cell_type": "markdown",
      "metadata": {
        "id": "xQ5c2Nf2Z_Cw"
      },
      "source": [
        "## Evaluate metrics"
      ]
    },
    {
      "cell_type": "code",
      "metadata": {
        "id": "ksc6tl06aAjY"
      },
      "source": [
        "from sklearn.metrics import classification_report, confusion_matrix\n",
        "import pandas as pd\n",
        "import seaborn as sns\n",
        "import matplotlib.pyplot as plt\n",
        "\n",
        "def evaluate(y,y_hat,labels):\n",
        "  print(classification_report(y,y_hat))\n",
        "  cm = confusion_matrix(y,y_hat)\n",
        "  cm = cm.astype('float') / cm.sum(axis=1)[:, np.newaxis]\n",
        "  cmat = pd.DataFrame(cm)\n",
        "  cmat.columns = labels\n",
        "  #cmat.set_index([pd.Index(labels, '')],inplace=True)\n",
        "  sns.heatmap(cmat,cmap=\"YlGnBu\", annot=True)\n",
        "  plt.title(\"Confusion Matrix\")"
      ],
      "execution_count": null,
      "outputs": []
    },
    {
      "cell_type": "code",
      "metadata": {
        "id": "67PPwHJeaHYR"
      },
      "source": [
        "training_outputs_labels = [c for row in maryland_sd_inertia_6states[Y_col].values for c in row]\n",
        "labels = set(training_outputs_labels)\n",
        "labels"
      ],
      "execution_count": null,
      "outputs": []
    },
    {
      "cell_type": "code",
      "metadata": {
        "id": "AW600SIfZI9s"
      },
      "source": [
        "centroid_predictions_labels = [predict_class(xy, centroids) for xy in maryland_sd_inertia_6states[X_cols].values]\n",
        "print(centroid_predictions_labels)\n",
        "print(training_outputs_labels)\n",
        "evaluate(training_outputs_labels, centroid_predictions_labels, labels)\n",
        "\n"
      ],
      "execution_count": null,
      "outputs": []
    },
    {
      "cell_type": "code",
      "metadata": {
        "id": "ci4HIStKbTKA"
      },
      "source": [
        "def one_hot(i, vec_len):\n",
        "  vector = [0]*vec_len\n",
        "  vector[i] = 1\n",
        "  return vector\n",
        "\n",
        "def format_prediction(predicted_outputs):\n",
        "  predicted_image_array = np.zeros_like(image_array)\n",
        "  i = 1\n",
        "  for row,pixels in enumerate(predicted_image_array):\n",
        "    for column in range(len(pixels)):\n",
        "      #print(i)\n",
        "      #if i >= y: print('breaking ',i); break\n",
        "\n",
        "      p = np.argmax(predicted_outputs[i-1])\n",
        "      predicted_image_array[row][column] = [WHITE,RED,BLUE][p]\n",
        "      i += 1\n",
        "    #break\n",
        "  return predicted_image_array"
      ],
      "execution_count": null,
      "outputs": []
    },
    {
      "cell_type": "code",
      "metadata": {
        "id": "qlgDuBjFcUB2"
      },
      "source": [
        "RED = [255,0,0]\n",
        "WHITE = [255,255,255]\n",
        "BLUE = [0,0,255]\n",
        "\n",
        "x,y = maryland_sd_inertia_6states.shape\n",
        "z = 3 # number of classes \n",
        "x,y,z"
      ],
      "execution_count": null,
      "outputs": []
    },
    {
      "cell_type": "code",
      "metadata": {
        "id": "eQUPXrOucPMr"
      },
      "source": [
        "image_array = np.zeros((x,y,z), np.uint8)\n"
      ],
      "execution_count": null,
      "outputs": []
    },
    {
      "cell_type": "code",
      "metadata": {
        "id": "w6zh-12WgQV5"
      },
      "source": [
        "plot_class_centroid(0)\n",
        "centroids[0]"
      ],
      "execution_count": null,
      "outputs": []
    },
    {
      "cell_type": "code",
      "metadata": {
        "id": "o_tQZD4vbLZL"
      },
      "source": [
        "\n",
        "centroid_predictions = [one_hot(p, z) for p in centroid_predictions_labels]\n",
        "#Image.fromarray(format_prediction(centroid_predictions)) \n",
        "centroid_predictions"
      ],
      "execution_count": null,
      "outputs": []
    }
  ]
}