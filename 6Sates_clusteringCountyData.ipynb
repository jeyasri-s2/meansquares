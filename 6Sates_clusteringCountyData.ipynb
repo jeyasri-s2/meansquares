{
  "nbformat": 4,
  "nbformat_minor": 0,
  "metadata": {
    "colab": {
      "name": "6Sates_clusteringCountyData.ipynb",
      "provenance": [],
      "toc_visible": true,
      "machine_shape": "hm",
      "include_colab_link": true
    },
    "kernelspec": {
      "name": "python3",
      "display_name": "Python 3"
    },
    "accelerator": "GPU"
  },
  "cells": [
    {
      "cell_type": "markdown",
      "metadata": {
        "id": "view-in-github",
        "colab_type": "text"
      },
      "source": [
        "<a href=\"https://colab.research.google.com/github/aarsanjani/meansquares/blob/master/6Sates_clusteringCountyData.ipynb\" target=\"_parent\"><img src=\"https://colab.research.google.com/assets/colab-badge.svg\" alt=\"Open In Colab\"/></a>"
      ]
    },
    {
      "cell_type": "markdown",
      "metadata": {
        "id": "Gi5Lur7JSMqm"
      },
      "source": [
        "# Mount Google drive"
      ]
    },
    {
      "cell_type": "code",
      "metadata": {
        "id": "xI0kKjV-SEeJ",
        "outputId": "c23eff74-67ee-41bf-d82c-12d284aa366d",
        "colab": {
          "base_uri": "https://localhost:8080/",
          "height": 34
        }
      },
      "source": [
        "from google.colab import drive\n",
        "drive.mount('/content/drive')"
      ],
      "execution_count": 11,
      "outputs": [
        {
          "output_type": "stream",
          "text": [
            "Drive already mounted at /content/drive; to attempt to forcibly remount, call drive.mount(\"/content/drive\", force_remount=True).\n"
          ],
          "name": "stdout"
        }
      ]
    },
    {
      "cell_type": "code",
      "metadata": {
        "id": "q8uHwYca2uYK",
        "outputId": "6968991e-9f0a-4006-8988-a31c609baedb",
        "colab": {
          "base_uri": "https://localhost:8080/",
          "height": 34
        }
      },
      "source": [
        "!pip install wget"
      ],
      "execution_count": 12,
      "outputs": [
        {
          "output_type": "stream",
          "text": [
            "Requirement already satisfied: wget in /usr/local/lib/python3.6/dist-packages (3.2)\n"
          ],
          "name": "stdout"
        }
      ]
    },
    {
      "cell_type": "code",
      "metadata": {
        "id": "JZSJKwrhSSW-"
      },
      "source": [
        "import pandas as pd\n",
        "import wget \n",
        "from PIL import Image\n",
        "\n",
        "from tqdm import tqdm\n",
        "import seaborn as sns\n",
        "import numpy as np\n",
        "import matplotlib.pyplot as plt\n",
        "\n",
        "import seaborn as sns\n",
        "import os\n",
        "from pandas import Series, datetime\n",
        "from pandas.plotting import scatter_matrix, autocorrelation_plot\n",
        "from sklearn.preprocessing import StandardScaler, RobustScaler\n",
        "from sklearn.model_selection import train_test_split, KFold, cross_val_score, GridSearchCV, TimeSeriesSplit\n",
        "from sklearn import metrics\n",
        "from sklearn.metrics import classification_report, confusion_matrix, accuracy_score, mean_squared_error\n",
        "from sklearn.pipeline import Pipeline\n",
        "from sklearn.linear_model import LogisticRegression\n",
        "from sklearn.tree import DecisionTreeClassifier\n",
        "from sklearn.neighbors import KNeighborsClassifier\n",
        "from sklearn.discriminant_analysis import LinearDiscriminantAnalysis\n",
        "from sklearn.naive_bayes import GaussianNB\n",
        "from sklearn.cluster import KMeans\n",
        "from sklearn.svm import SVC\n",
        "from sklearn.ensemble import AdaBoostClassifier, GradientBoostingClassifier, RandomForestClassifier, ExtraTreesClassifier\n",
        "from sklearn.metrics import roc_curve, auc\n",
        "import random\n",
        "from statsmodels.graphics.tsaplots import plot_acf, plot_pacf\n",
        "from statsmodels.tsa.arima_model import ARIMA\n",
        "from xgboost import XGBClassifier\n",
        "from sklearn.mixture import GaussianMixture"
      ],
      "execution_count": 13,
      "outputs": []
    },
    {
      "cell_type": "markdown",
      "metadata": {
        "id": "KfQVyRsivqLk"
      },
      "source": [
        "# Load USA State Fips Code"
      ]
    },
    {
      "cell_type": "code",
      "metadata": {
        "id": "FgDo8I3Yvw9v",
        "outputId": "bc3c7c2b-7448-4592-d361-e66e47ca2fff",
        "colab": {
          "base_uri": "https://localhost:8080/",
          "height": 195
        }
      },
      "source": [
        "state_fips_code = pd.read_csv('/content/drive/Shared drives/CMPE 295- Master Project/Covid19-data/US_State_FIPSCodes.csv',low_memory=False)\n",
        "state_fips_code.head()"
      ],
      "execution_count": 14,
      "outputs": [
        {
          "output_type": "execute_result",
          "data": {
            "text/html": [
              "<div>\n",
              "<style scoped>\n",
              "    .dataframe tbody tr th:only-of-type {\n",
              "        vertical-align: middle;\n",
              "    }\n",
              "\n",
              "    .dataframe tbody tr th {\n",
              "        vertical-align: top;\n",
              "    }\n",
              "\n",
              "    .dataframe thead th {\n",
              "        text-align: right;\n",
              "    }\n",
              "</style>\n",
              "<table border=\"1\" class=\"dataframe\">\n",
              "  <thead>\n",
              "    <tr style=\"text-align: right;\">\n",
              "      <th></th>\n",
              "      <th>State</th>\n",
              "      <th>Postal Code</th>\n",
              "      <th>STFIPS</th>\n",
              "    </tr>\n",
              "  </thead>\n",
              "  <tbody>\n",
              "    <tr>\n",
              "      <th>0</th>\n",
              "      <td>Alabama</td>\n",
              "      <td>AL</td>\n",
              "      <td>1</td>\n",
              "    </tr>\n",
              "    <tr>\n",
              "      <th>1</th>\n",
              "      <td>Alaska</td>\n",
              "      <td>AK</td>\n",
              "      <td>2</td>\n",
              "    </tr>\n",
              "    <tr>\n",
              "      <th>2</th>\n",
              "      <td>Arizona</td>\n",
              "      <td>AZ</td>\n",
              "      <td>4</td>\n",
              "    </tr>\n",
              "    <tr>\n",
              "      <th>3</th>\n",
              "      <td>Arkansas</td>\n",
              "      <td>AR</td>\n",
              "      <td>5</td>\n",
              "    </tr>\n",
              "    <tr>\n",
              "      <th>4</th>\n",
              "      <td>California</td>\n",
              "      <td>CA</td>\n",
              "      <td>6</td>\n",
              "    </tr>\n",
              "  </tbody>\n",
              "</table>\n",
              "</div>"
            ],
            "text/plain": [
              "        State Postal Code  STFIPS\n",
              "0     Alabama          AL       1\n",
              "1      Alaska          AK       2\n",
              "2     Arizona          AZ       4\n",
              "3    Arkansas          AR       5\n",
              "4  California          CA       6"
            ]
          },
          "metadata": {
            "tags": []
          },
          "execution_count": 14
        }
      ]
    },
    {
      "cell_type": "markdown",
      "metadata": {
        "id": "IgQMAiJvkp0W"
      },
      "source": [
        "# Load Social Distancing Inertia Data [Maryland University]"
      ]
    },
    {
      "cell_type": "code",
      "metadata": {
        "id": "tvjz6T10kx1P",
        "outputId": "f0738091-fd15-4b82-b55d-ffc552474c7d",
        "colab": {
          "base_uri": "https://localhost:8080/",
          "height": 366
        }
      },
      "source": [
        "maryland_sd_inertia = pd.read_csv('/content/drive/Shared drives/CMPE 295- Master Project/Covid19-data/Maryland_Inertia_Data/County_Oct13.csv',low_memory=False)\n",
        "maryland_sd_inertia.head()"
      ],
      "execution_count": 15,
      "outputs": [
        {
          "output_type": "execute_result",
          "data": {
            "text/html": [
              "<div>\n",
              "<style scoped>\n",
              "    .dataframe tbody tr th:only-of-type {\n",
              "        vertical-align: middle;\n",
              "    }\n",
              "\n",
              "    .dataframe tbody tr th {\n",
              "        vertical-align: top;\n",
              "    }\n",
              "\n",
              "    .dataframe thead th {\n",
              "        text-align: right;\n",
              "    }\n",
              "</style>\n",
              "<table border=\"1\" class=\"dataframe\">\n",
              "  <thead>\n",
              "    <tr style=\"text-align: right;\">\n",
              "      <th></th>\n",
              "      <th>CTFIPS</th>\n",
              "      <th>CTNAME</th>\n",
              "      <th>STFIPS</th>\n",
              "      <th>Social distancing index</th>\n",
              "      <th>% staying home</th>\n",
              "      <th>Trips/person</th>\n",
              "      <th>% out-of-county trips</th>\n",
              "      <th>% out-of-state trips</th>\n",
              "      <th>Miles/person</th>\n",
              "      <th>Work trips/person</th>\n",
              "      <th>Non-work trips/person</th>\n",
              "      <th>New COVID cases</th>\n",
              "      <th>Population</th>\n",
              "      <th>% change in consumption</th>\n",
              "      <th>date</th>\n",
              "      <th>Transit mode share</th>\n",
              "      <th>% people older than 60</th>\n",
              "      <th>Median income</th>\n",
              "      <th>% African Americans</th>\n",
              "      <th>% Hispanic Americans</th>\n",
              "      <th>% Male</th>\n",
              "      <th>Population density</th>\n",
              "      <th>Employment density</th>\n",
              "      <th># hot spots/1000 people</th>\n",
              "      <th>Hospital beds/1000 people</th>\n",
              "      <th>ICUs/1000 people</th>\n",
              "      <th># contact tracing workers/1000 people</th>\n",
              "      <th>New cases/1000 people</th>\n",
              "      <th>Active cases/1000 people</th>\n",
              "      <th>#days: decreasing COVID cases</th>\n",
              "      <th>% hospital bed utilization</th>\n",
              "      <th>Testing capacity</th>\n",
              "      <th>Tests done/1000 people</th>\n",
              "      <th>% ICU utilization</th>\n",
              "      <th>Ventilator shortage</th>\n",
              "      <th>Imported COVID cases</th>\n",
              "      <th>COVID exposure/1000 people</th>\n",
              "      <th>#days: decreasing ILI cases</th>\n",
              "      <th>Unemployment claims/1000 people</th>\n",
              "      <th>Unemployment rate</th>\n",
              "      <th>% working from home</th>\n",
              "      <th>Cumulative inflation rate</th>\n",
              "      <th>COVID death rate</th>\n",
              "    </tr>\n",
              "  </thead>\n",
              "  <tbody>\n",
              "    <tr>\n",
              "      <th>0</th>\n",
              "      <td>1001</td>\n",
              "      <td>Autauga County</td>\n",
              "      <td>1</td>\n",
              "      <td>54</td>\n",
              "      <td>27</td>\n",
              "      <td>2.25</td>\n",
              "      <td>38.8</td>\n",
              "      <td>1.2</td>\n",
              "      <td>24.7</td>\n",
              "      <td>0.25</td>\n",
              "      <td>2.00</td>\n",
              "      <td>0</td>\n",
              "      <td>55601</td>\n",
              "      <td>-22.5</td>\n",
              "      <td>1/1/2020</td>\n",
              "      <td>0.11</td>\n",
              "      <td>19</td>\n",
              "      <td>58786</td>\n",
              "      <td>19.0</td>\n",
              "      <td>2.8</td>\n",
              "      <td>48.68</td>\n",
              "      <td>91</td>\n",
              "      <td>19</td>\n",
              "      <td>101</td>\n",
              "      <td>3.79</td>\n",
              "      <td>0.33</td>\n",
              "      <td>0.025</td>\n",
              "      <td>0.0</td>\n",
              "      <td>0.0</td>\n",
              "      <td>0</td>\n",
              "      <td>47.1</td>\n",
              "      <td>0.0</td>\n",
              "      <td>0.0</td>\n",
              "      <td>0.0</td>\n",
              "      <td>0</td>\n",
              "      <td>0</td>\n",
              "      <td>0.0</td>\n",
              "      <td>0</td>\n",
              "      <td>0.9</td>\n",
              "      <td>2.7</td>\n",
              "      <td>3.2</td>\n",
              "      <td>0.3</td>\n",
              "      <td>0.0</td>\n",
              "    </tr>\n",
              "    <tr>\n",
              "      <th>1</th>\n",
              "      <td>1001</td>\n",
              "      <td>Autauga County</td>\n",
              "      <td>1</td>\n",
              "      <td>25</td>\n",
              "      <td>18</td>\n",
              "      <td>2.83</td>\n",
              "      <td>43.5</td>\n",
              "      <td>0.9</td>\n",
              "      <td>37.6</td>\n",
              "      <td>0.62</td>\n",
              "      <td>2.21</td>\n",
              "      <td>0</td>\n",
              "      <td>55601</td>\n",
              "      <td>-14.3</td>\n",
              "      <td>1/2/2020</td>\n",
              "      <td>0.11</td>\n",
              "      <td>19</td>\n",
              "      <td>58786</td>\n",
              "      <td>19.0</td>\n",
              "      <td>2.8</td>\n",
              "      <td>48.68</td>\n",
              "      <td>91</td>\n",
              "      <td>19</td>\n",
              "      <td>101</td>\n",
              "      <td>3.79</td>\n",
              "      <td>0.33</td>\n",
              "      <td>0.025</td>\n",
              "      <td>0.0</td>\n",
              "      <td>0.0</td>\n",
              "      <td>0</td>\n",
              "      <td>47.1</td>\n",
              "      <td>0.0</td>\n",
              "      <td>0.0</td>\n",
              "      <td>0.0</td>\n",
              "      <td>0</td>\n",
              "      <td>0</td>\n",
              "      <td>0.0</td>\n",
              "      <td>0</td>\n",
              "      <td>0.9</td>\n",
              "      <td>2.7</td>\n",
              "      <td>3.2</td>\n",
              "      <td>0.3</td>\n",
              "      <td>0.0</td>\n",
              "    </tr>\n",
              "    <tr>\n",
              "      <th>2</th>\n",
              "      <td>1001</td>\n",
              "      <td>Autauga County</td>\n",
              "      <td>1</td>\n",
              "      <td>15</td>\n",
              "      <td>15</td>\n",
              "      <td>3.18</td>\n",
              "      <td>42.2</td>\n",
              "      <td>1.0</td>\n",
              "      <td>40.3</td>\n",
              "      <td>0.62</td>\n",
              "      <td>2.57</td>\n",
              "      <td>0</td>\n",
              "      <td>55601</td>\n",
              "      <td>-0.4</td>\n",
              "      <td>1/3/2020</td>\n",
              "      <td>0.11</td>\n",
              "      <td>19</td>\n",
              "      <td>58786</td>\n",
              "      <td>19.0</td>\n",
              "      <td>2.8</td>\n",
              "      <td>48.68</td>\n",
              "      <td>91</td>\n",
              "      <td>19</td>\n",
              "      <td>101</td>\n",
              "      <td>3.79</td>\n",
              "      <td>0.33</td>\n",
              "      <td>0.025</td>\n",
              "      <td>0.0</td>\n",
              "      <td>0.0</td>\n",
              "      <td>0</td>\n",
              "      <td>47.1</td>\n",
              "      <td>0.0</td>\n",
              "      <td>0.0</td>\n",
              "      <td>0.0</td>\n",
              "      <td>0</td>\n",
              "      <td>0</td>\n",
              "      <td>0.0</td>\n",
              "      <td>0</td>\n",
              "      <td>0.9</td>\n",
              "      <td>2.7</td>\n",
              "      <td>3.2</td>\n",
              "      <td>0.3</td>\n",
              "      <td>0.0</td>\n",
              "    </tr>\n",
              "    <tr>\n",
              "      <th>3</th>\n",
              "      <td>1001</td>\n",
              "      <td>Autauga County</td>\n",
              "      <td>1</td>\n",
              "      <td>33</td>\n",
              "      <td>20</td>\n",
              "      <td>2.85</td>\n",
              "      <td>43.9</td>\n",
              "      <td>1.2</td>\n",
              "      <td>29.5</td>\n",
              "      <td>0.33</td>\n",
              "      <td>2.52</td>\n",
              "      <td>0</td>\n",
              "      <td>55601</td>\n",
              "      <td>-2.3</td>\n",
              "      <td>1/4/2020</td>\n",
              "      <td>0.11</td>\n",
              "      <td>19</td>\n",
              "      <td>58786</td>\n",
              "      <td>19.0</td>\n",
              "      <td>2.8</td>\n",
              "      <td>48.68</td>\n",
              "      <td>91</td>\n",
              "      <td>19</td>\n",
              "      <td>101</td>\n",
              "      <td>3.79</td>\n",
              "      <td>0.33</td>\n",
              "      <td>0.025</td>\n",
              "      <td>0.0</td>\n",
              "      <td>0.0</td>\n",
              "      <td>0</td>\n",
              "      <td>47.1</td>\n",
              "      <td>0.0</td>\n",
              "      <td>0.0</td>\n",
              "      <td>0.0</td>\n",
              "      <td>0</td>\n",
              "      <td>0</td>\n",
              "      <td>0.0</td>\n",
              "      <td>0</td>\n",
              "      <td>0.9</td>\n",
              "      <td>2.7</td>\n",
              "      <td>3.2</td>\n",
              "      <td>0.3</td>\n",
              "      <td>0.0</td>\n",
              "    </tr>\n",
              "    <tr>\n",
              "      <th>4</th>\n",
              "      <td>1001</td>\n",
              "      <td>Autauga County</td>\n",
              "      <td>1</td>\n",
              "      <td>40</td>\n",
              "      <td>22</td>\n",
              "      <td>2.56</td>\n",
              "      <td>42.8</td>\n",
              "      <td>1.2</td>\n",
              "      <td>30.9</td>\n",
              "      <td>0.23</td>\n",
              "      <td>2.33</td>\n",
              "      <td>0</td>\n",
              "      <td>55601</td>\n",
              "      <td>-9.7</td>\n",
              "      <td>1/5/2020</td>\n",
              "      <td>0.11</td>\n",
              "      <td>19</td>\n",
              "      <td>58786</td>\n",
              "      <td>19.0</td>\n",
              "      <td>2.8</td>\n",
              "      <td>48.68</td>\n",
              "      <td>91</td>\n",
              "      <td>19</td>\n",
              "      <td>101</td>\n",
              "      <td>3.79</td>\n",
              "      <td>0.33</td>\n",
              "      <td>0.025</td>\n",
              "      <td>0.0</td>\n",
              "      <td>0.0</td>\n",
              "      <td>0</td>\n",
              "      <td>47.1</td>\n",
              "      <td>0.0</td>\n",
              "      <td>0.0</td>\n",
              "      <td>0.0</td>\n",
              "      <td>0</td>\n",
              "      <td>0</td>\n",
              "      <td>0.0</td>\n",
              "      <td>0</td>\n",
              "      <td>0.9</td>\n",
              "      <td>2.7</td>\n",
              "      <td>3.2</td>\n",
              "      <td>0.3</td>\n",
              "      <td>0.0</td>\n",
              "    </tr>\n",
              "  </tbody>\n",
              "</table>\n",
              "</div>"
            ],
            "text/plain": [
              "   CTFIPS          CTNAME  ...  Cumulative inflation rate  COVID death rate\n",
              "0    1001  Autauga County  ...                        0.3               0.0\n",
              "1    1001  Autauga County  ...                        0.3               0.0\n",
              "2    1001  Autauga County  ...                        0.3               0.0\n",
              "3    1001  Autauga County  ...                        0.3               0.0\n",
              "4    1001  Autauga County  ...                        0.3               0.0\n",
              "\n",
              "[5 rows x 43 columns]"
            ]
          },
          "metadata": {
            "tags": []
          },
          "execution_count": 15
        }
      ]
    },
    {
      "cell_type": "code",
      "metadata": {
        "id": "WKk20fB-rKjJ",
        "outputId": "9283350a-975f-448c-d1d2-c960d720c711",
        "colab": {
          "base_uri": "https://localhost:8080/",
          "height": 69
        }
      },
      "source": [
        "maryland_sd_inertia['STFIPS'].unique()"
      ],
      "execution_count": null,
      "outputs": [
        {
          "output_type": "execute_result",
          "data": {
            "text/plain": [
              "array([ 1,  2,  4,  5,  6,  8,  9, 10, 11, 12, 13, 15, 16, 17, 18, 19, 20,\n",
              "       21, 22, 23, 24, 25, 26, 27, 28, 29, 30, 31, 32, 33, 34, 35, 36, 37,\n",
              "       38, 39, 40, 41, 42, 44, 45, 46, 47, 48, 49, 50, 51, 53, 54, 55, 56])"
            ]
          },
          "metadata": {
            "tags": []
          },
          "execution_count": 6
        }
      ]
    },
    {
      "cell_type": "markdown",
      "metadata": {
        "id": "YPdPh-AWFBK2"
      },
      "source": [
        "## Fixdate column of Social Distancing inertia"
      ]
    },
    {
      "cell_type": "code",
      "metadata": {
        "id": "o588srH92Bps"
      },
      "source": [
        "def fixDate(x, appendTwenty):\n",
        "  arr = x.split('/')\n",
        "  m = arr[0]\n",
        "  d = arr[1]\n",
        "  y = arr[2]\n",
        "\n",
        "  if int(m) < 10:\n",
        "    m = '0'+str(m)\n",
        "  if int(d) < 10:\n",
        "    d = '0'+str(d)\n",
        "  if appendTwenty == True:\n",
        "    return '20'+y+'-'+m+'-'+d\n",
        "  else:\n",
        "      return y+'-'+m+'-'+d"
      ],
      "execution_count": null,
      "outputs": []
    },
    {
      "cell_type": "code",
      "metadata": {
        "id": "DDIQVTANFHuZ",
        "outputId": "32aaa543-c140-4478-afbd-3a4a58a1d2fd",
        "colab": {
          "base_uri": "https://localhost:8080/",
          "height": 669
        }
      },
      "source": [
        "maryland_sd_inertia['date'] = maryland_sd_inertia['date'].apply(lambda x: fixDate(x,False))\n",
        "maryland_sd_inertia.reset_index(drop=True)"
      ],
      "execution_count": null,
      "outputs": [
        {
          "output_type": "execute_result",
          "data": {
            "text/html": [
              "<div>\n",
              "<style scoped>\n",
              "    .dataframe tbody tr th:only-of-type {\n",
              "        vertical-align: middle;\n",
              "    }\n",
              "\n",
              "    .dataframe tbody tr th {\n",
              "        vertical-align: top;\n",
              "    }\n",
              "\n",
              "    .dataframe thead th {\n",
              "        text-align: right;\n",
              "    }\n",
              "</style>\n",
              "<table border=\"1\" class=\"dataframe\">\n",
              "  <thead>\n",
              "    <tr style=\"text-align: right;\">\n",
              "      <th></th>\n",
              "      <th>CTFIPS</th>\n",
              "      <th>CTNAME</th>\n",
              "      <th>STFIPS</th>\n",
              "      <th>Social distancing index</th>\n",
              "      <th>% staying home</th>\n",
              "      <th>Trips/person</th>\n",
              "      <th>% out-of-county trips</th>\n",
              "      <th>% out-of-state trips</th>\n",
              "      <th>Miles/person</th>\n",
              "      <th>Work trips/person</th>\n",
              "      <th>Non-work trips/person</th>\n",
              "      <th>New COVID cases</th>\n",
              "      <th>Population</th>\n",
              "      <th>% change in consumption</th>\n",
              "      <th>date</th>\n",
              "      <th>Transit mode share</th>\n",
              "      <th>% people older than 60</th>\n",
              "      <th>Median income</th>\n",
              "      <th>% African Americans</th>\n",
              "      <th>% Hispanic Americans</th>\n",
              "      <th>% Male</th>\n",
              "      <th>Population density</th>\n",
              "      <th>Employment density</th>\n",
              "      <th># hot spots/1000 people</th>\n",
              "      <th>Hospital beds/1000 people</th>\n",
              "      <th>ICUs/1000 people</th>\n",
              "      <th># contact tracing workers/1000 people</th>\n",
              "      <th>New cases/1000 people</th>\n",
              "      <th>Active cases/1000 people</th>\n",
              "      <th>#days: decreasing COVID cases</th>\n",
              "      <th>% hospital bed utilization</th>\n",
              "      <th>Testing capacity</th>\n",
              "      <th>Tests done/1000 people</th>\n",
              "      <th>% ICU utilization</th>\n",
              "      <th>Ventilator shortage</th>\n",
              "      <th>Imported COVID cases</th>\n",
              "      <th>COVID exposure/1000 people</th>\n",
              "      <th>#days: decreasing ILI cases</th>\n",
              "      <th>Unemployment claims/1000 people</th>\n",
              "      <th>Unemployment rate</th>\n",
              "      <th>% working from home</th>\n",
              "      <th>Cumulative inflation rate</th>\n",
              "      <th>COVID death rate</th>\n",
              "    </tr>\n",
              "  </thead>\n",
              "  <tbody>\n",
              "    <tr>\n",
              "      <th>0</th>\n",
              "      <td>1001</td>\n",
              "      <td>Autauga County</td>\n",
              "      <td>1</td>\n",
              "      <td>54</td>\n",
              "      <td>27</td>\n",
              "      <td>2.25</td>\n",
              "      <td>38.8</td>\n",
              "      <td>1.2</td>\n",
              "      <td>24.7</td>\n",
              "      <td>0.25</td>\n",
              "      <td>2.00</td>\n",
              "      <td>0</td>\n",
              "      <td>55601</td>\n",
              "      <td>-22.5</td>\n",
              "      <td>2020-01-01</td>\n",
              "      <td>0.11</td>\n",
              "      <td>19</td>\n",
              "      <td>58786</td>\n",
              "      <td>19.0</td>\n",
              "      <td>2.8</td>\n",
              "      <td>48.68</td>\n",
              "      <td>91</td>\n",
              "      <td>19</td>\n",
              "      <td>101</td>\n",
              "      <td>3.79</td>\n",
              "      <td>0.33</td>\n",
              "      <td>0.025</td>\n",
              "      <td>0.0000</td>\n",
              "      <td>0.00</td>\n",
              "      <td>0</td>\n",
              "      <td>47.100000</td>\n",
              "      <td>0.0</td>\n",
              "      <td>0.00</td>\n",
              "      <td>0.00</td>\n",
              "      <td>0</td>\n",
              "      <td>0</td>\n",
              "      <td>0.00</td>\n",
              "      <td>0</td>\n",
              "      <td>0.9</td>\n",
              "      <td>2.7</td>\n",
              "      <td>3.2</td>\n",
              "      <td>0.30</td>\n",
              "      <td>0.00</td>\n",
              "    </tr>\n",
              "    <tr>\n",
              "      <th>1</th>\n",
              "      <td>1001</td>\n",
              "      <td>Autauga County</td>\n",
              "      <td>1</td>\n",
              "      <td>25</td>\n",
              "      <td>18</td>\n",
              "      <td>2.83</td>\n",
              "      <td>43.5</td>\n",
              "      <td>0.9</td>\n",
              "      <td>37.6</td>\n",
              "      <td>0.62</td>\n",
              "      <td>2.21</td>\n",
              "      <td>0</td>\n",
              "      <td>55601</td>\n",
              "      <td>-14.3</td>\n",
              "      <td>2020-01-02</td>\n",
              "      <td>0.11</td>\n",
              "      <td>19</td>\n",
              "      <td>58786</td>\n",
              "      <td>19.0</td>\n",
              "      <td>2.8</td>\n",
              "      <td>48.68</td>\n",
              "      <td>91</td>\n",
              "      <td>19</td>\n",
              "      <td>101</td>\n",
              "      <td>3.79</td>\n",
              "      <td>0.33</td>\n",
              "      <td>0.025</td>\n",
              "      <td>0.0000</td>\n",
              "      <td>0.00</td>\n",
              "      <td>0</td>\n",
              "      <td>47.100000</td>\n",
              "      <td>0.0</td>\n",
              "      <td>0.00</td>\n",
              "      <td>0.00</td>\n",
              "      <td>0</td>\n",
              "      <td>0</td>\n",
              "      <td>0.00</td>\n",
              "      <td>0</td>\n",
              "      <td>0.9</td>\n",
              "      <td>2.7</td>\n",
              "      <td>3.2</td>\n",
              "      <td>0.30</td>\n",
              "      <td>0.00</td>\n",
              "    </tr>\n",
              "    <tr>\n",
              "      <th>2</th>\n",
              "      <td>1001</td>\n",
              "      <td>Autauga County</td>\n",
              "      <td>1</td>\n",
              "      <td>15</td>\n",
              "      <td>15</td>\n",
              "      <td>3.18</td>\n",
              "      <td>42.2</td>\n",
              "      <td>1.0</td>\n",
              "      <td>40.3</td>\n",
              "      <td>0.62</td>\n",
              "      <td>2.57</td>\n",
              "      <td>0</td>\n",
              "      <td>55601</td>\n",
              "      <td>-0.4</td>\n",
              "      <td>2020-01-03</td>\n",
              "      <td>0.11</td>\n",
              "      <td>19</td>\n",
              "      <td>58786</td>\n",
              "      <td>19.0</td>\n",
              "      <td>2.8</td>\n",
              "      <td>48.68</td>\n",
              "      <td>91</td>\n",
              "      <td>19</td>\n",
              "      <td>101</td>\n",
              "      <td>3.79</td>\n",
              "      <td>0.33</td>\n",
              "      <td>0.025</td>\n",
              "      <td>0.0000</td>\n",
              "      <td>0.00</td>\n",
              "      <td>0</td>\n",
              "      <td>47.100000</td>\n",
              "      <td>0.0</td>\n",
              "      <td>0.00</td>\n",
              "      <td>0.00</td>\n",
              "      <td>0</td>\n",
              "      <td>0</td>\n",
              "      <td>0.00</td>\n",
              "      <td>0</td>\n",
              "      <td>0.9</td>\n",
              "      <td>2.7</td>\n",
              "      <td>3.2</td>\n",
              "      <td>0.30</td>\n",
              "      <td>0.00</td>\n",
              "    </tr>\n",
              "    <tr>\n",
              "      <th>3</th>\n",
              "      <td>1001</td>\n",
              "      <td>Autauga County</td>\n",
              "      <td>1</td>\n",
              "      <td>33</td>\n",
              "      <td>20</td>\n",
              "      <td>2.85</td>\n",
              "      <td>43.9</td>\n",
              "      <td>1.2</td>\n",
              "      <td>29.5</td>\n",
              "      <td>0.33</td>\n",
              "      <td>2.52</td>\n",
              "      <td>0</td>\n",
              "      <td>55601</td>\n",
              "      <td>-2.3</td>\n",
              "      <td>2020-01-04</td>\n",
              "      <td>0.11</td>\n",
              "      <td>19</td>\n",
              "      <td>58786</td>\n",
              "      <td>19.0</td>\n",
              "      <td>2.8</td>\n",
              "      <td>48.68</td>\n",
              "      <td>91</td>\n",
              "      <td>19</td>\n",
              "      <td>101</td>\n",
              "      <td>3.79</td>\n",
              "      <td>0.33</td>\n",
              "      <td>0.025</td>\n",
              "      <td>0.0000</td>\n",
              "      <td>0.00</td>\n",
              "      <td>0</td>\n",
              "      <td>47.100000</td>\n",
              "      <td>0.0</td>\n",
              "      <td>0.00</td>\n",
              "      <td>0.00</td>\n",
              "      <td>0</td>\n",
              "      <td>0</td>\n",
              "      <td>0.00</td>\n",
              "      <td>0</td>\n",
              "      <td>0.9</td>\n",
              "      <td>2.7</td>\n",
              "      <td>3.2</td>\n",
              "      <td>0.30</td>\n",
              "      <td>0.00</td>\n",
              "    </tr>\n",
              "    <tr>\n",
              "      <th>4</th>\n",
              "      <td>1001</td>\n",
              "      <td>Autauga County</td>\n",
              "      <td>1</td>\n",
              "      <td>40</td>\n",
              "      <td>22</td>\n",
              "      <td>2.56</td>\n",
              "      <td>42.8</td>\n",
              "      <td>1.2</td>\n",
              "      <td>30.9</td>\n",
              "      <td>0.23</td>\n",
              "      <td>2.33</td>\n",
              "      <td>0</td>\n",
              "      <td>55601</td>\n",
              "      <td>-9.7</td>\n",
              "      <td>2020-01-05</td>\n",
              "      <td>0.11</td>\n",
              "      <td>19</td>\n",
              "      <td>58786</td>\n",
              "      <td>19.0</td>\n",
              "      <td>2.8</td>\n",
              "      <td>48.68</td>\n",
              "      <td>91</td>\n",
              "      <td>19</td>\n",
              "      <td>101</td>\n",
              "      <td>3.79</td>\n",
              "      <td>0.33</td>\n",
              "      <td>0.025</td>\n",
              "      <td>0.0000</td>\n",
              "      <td>0.00</td>\n",
              "      <td>0</td>\n",
              "      <td>47.100000</td>\n",
              "      <td>0.0</td>\n",
              "      <td>0.00</td>\n",
              "      <td>0.00</td>\n",
              "      <td>0</td>\n",
              "      <td>0</td>\n",
              "      <td>0.00</td>\n",
              "      <td>0</td>\n",
              "      <td>0.9</td>\n",
              "      <td>2.7</td>\n",
              "      <td>3.2</td>\n",
              "      <td>0.30</td>\n",
              "      <td>0.00</td>\n",
              "    </tr>\n",
              "    <tr>\n",
              "      <th>...</th>\n",
              "      <td>...</td>\n",
              "      <td>...</td>\n",
              "      <td>...</td>\n",
              "      <td>...</td>\n",
              "      <td>...</td>\n",
              "      <td>...</td>\n",
              "      <td>...</td>\n",
              "      <td>...</td>\n",
              "      <td>...</td>\n",
              "      <td>...</td>\n",
              "      <td>...</td>\n",
              "      <td>...</td>\n",
              "      <td>...</td>\n",
              "      <td>...</td>\n",
              "      <td>...</td>\n",
              "      <td>...</td>\n",
              "      <td>...</td>\n",
              "      <td>...</td>\n",
              "      <td>...</td>\n",
              "      <td>...</td>\n",
              "      <td>...</td>\n",
              "      <td>...</td>\n",
              "      <td>...</td>\n",
              "      <td>...</td>\n",
              "      <td>...</td>\n",
              "      <td>...</td>\n",
              "      <td>...</td>\n",
              "      <td>...</td>\n",
              "      <td>...</td>\n",
              "      <td>...</td>\n",
              "      <td>...</td>\n",
              "      <td>...</td>\n",
              "      <td>...</td>\n",
              "      <td>...</td>\n",
              "      <td>...</td>\n",
              "      <td>...</td>\n",
              "      <td>...</td>\n",
              "      <td>...</td>\n",
              "      <td>...</td>\n",
              "      <td>...</td>\n",
              "      <td>...</td>\n",
              "      <td>...</td>\n",
              "      <td>...</td>\n",
              "    </tr>\n",
              "    <tr>\n",
              "      <th>901749</th>\n",
              "      <td>56045</td>\n",
              "      <td>Weston County</td>\n",
              "      <td>56</td>\n",
              "      <td>40</td>\n",
              "      <td>20</td>\n",
              "      <td>3.00</td>\n",
              "      <td>27.4</td>\n",
              "      <td>10.3</td>\n",
              "      <td>172.4</td>\n",
              "      <td>0.04</td>\n",
              "      <td>2.96</td>\n",
              "      <td>3</td>\n",
              "      <td>6967</td>\n",
              "      <td>-16.3</td>\n",
              "      <td>2020-10-09</td>\n",
              "      <td>8.34</td>\n",
              "      <td>30</td>\n",
              "      <td>52867</td>\n",
              "      <td>0.5</td>\n",
              "      <td>1.5</td>\n",
              "      <td>53.07</td>\n",
              "      <td>3</td>\n",
              "      <td>1</td>\n",
              "      <td>153</td>\n",
              "      <td>3.76</td>\n",
              "      <td>0.50</td>\n",
              "      <td>0.017</td>\n",
              "      <td>0.3828</td>\n",
              "      <td>5.50</td>\n",
              "      <td>0</td>\n",
              "      <td>38.319241</td>\n",
              "      <td>6.6</td>\n",
              "      <td>191.28</td>\n",
              "      <td>1.32</td>\n",
              "      <td>3</td>\n",
              "      <td>29</td>\n",
              "      <td>9.69</td>\n",
              "      <td>0</td>\n",
              "      <td>1.2</td>\n",
              "      <td>9.3</td>\n",
              "      <td>18.5</td>\n",
              "      <td>1.51</td>\n",
              "      <td>0.96</td>\n",
              "    </tr>\n",
              "    <tr>\n",
              "      <th>901750</th>\n",
              "      <td>56045</td>\n",
              "      <td>Weston County</td>\n",
              "      <td>56</td>\n",
              "      <td>37</td>\n",
              "      <td>22</td>\n",
              "      <td>3.37</td>\n",
              "      <td>26.1</td>\n",
              "      <td>10.3</td>\n",
              "      <td>90.4</td>\n",
              "      <td>0.11</td>\n",
              "      <td>3.26</td>\n",
              "      <td>4</td>\n",
              "      <td>6967</td>\n",
              "      <td>-7.8</td>\n",
              "      <td>2020-10-10</td>\n",
              "      <td>8.34</td>\n",
              "      <td>30</td>\n",
              "      <td>52867</td>\n",
              "      <td>0.5</td>\n",
              "      <td>1.5</td>\n",
              "      <td>53.07</td>\n",
              "      <td>3</td>\n",
              "      <td>1</td>\n",
              "      <td>153</td>\n",
              "      <td>3.76</td>\n",
              "      <td>0.50</td>\n",
              "      <td>0.017</td>\n",
              "      <td>0.3828</td>\n",
              "      <td>5.65</td>\n",
              "      <td>0</td>\n",
              "      <td>38.321286</td>\n",
              "      <td>6.7</td>\n",
              "      <td>191.49</td>\n",
              "      <td>1.33</td>\n",
              "      <td>3</td>\n",
              "      <td>29</td>\n",
              "      <td>9.69</td>\n",
              "      <td>0</td>\n",
              "      <td>1.2</td>\n",
              "      <td>9.3</td>\n",
              "      <td>18.5</td>\n",
              "      <td>1.51</td>\n",
              "      <td>0.96</td>\n",
              "    </tr>\n",
              "    <tr>\n",
              "      <th>901751</th>\n",
              "      <td>56045</td>\n",
              "      <td>Weston County</td>\n",
              "      <td>56</td>\n",
              "      <td>42</td>\n",
              "      <td>26</td>\n",
              "      <td>2.70</td>\n",
              "      <td>24.5</td>\n",
              "      <td>13.1</td>\n",
              "      <td>71.9</td>\n",
              "      <td>0.06</td>\n",
              "      <td>2.64</td>\n",
              "      <td>0</td>\n",
              "      <td>6967</td>\n",
              "      <td>-25.3</td>\n",
              "      <td>2020-10-11</td>\n",
              "      <td>8.34</td>\n",
              "      <td>30</td>\n",
              "      <td>52867</td>\n",
              "      <td>0.5</td>\n",
              "      <td>1.5</td>\n",
              "      <td>53.07</td>\n",
              "      <td>3</td>\n",
              "      <td>1</td>\n",
              "      <td>153</td>\n",
              "      <td>3.76</td>\n",
              "      <td>0.50</td>\n",
              "      <td>0.017</td>\n",
              "      <td>0.3349</td>\n",
              "      <td>5.81</td>\n",
              "      <td>0</td>\n",
              "      <td>38.323483</td>\n",
              "      <td>6.9</td>\n",
              "      <td>191.76</td>\n",
              "      <td>1.33</td>\n",
              "      <td>3</td>\n",
              "      <td>25</td>\n",
              "      <td>9.69</td>\n",
              "      <td>0</td>\n",
              "      <td>1.2</td>\n",
              "      <td>9.3</td>\n",
              "      <td>18.5</td>\n",
              "      <td>1.51</td>\n",
              "      <td>0.96</td>\n",
              "    </tr>\n",
              "    <tr>\n",
              "      <th>901752</th>\n",
              "      <td>56045</td>\n",
              "      <td>Weston County</td>\n",
              "      <td>56</td>\n",
              "      <td>26</td>\n",
              "      <td>19</td>\n",
              "      <td>3.05</td>\n",
              "      <td>25.3</td>\n",
              "      <td>9.9</td>\n",
              "      <td>102.7</td>\n",
              "      <td>0.04</td>\n",
              "      <td>3.00</td>\n",
              "      <td>0</td>\n",
              "      <td>6967</td>\n",
              "      <td>-15.2</td>\n",
              "      <td>2020-10-12</td>\n",
              "      <td>8.34</td>\n",
              "      <td>30</td>\n",
              "      <td>52867</td>\n",
              "      <td>0.5</td>\n",
              "      <td>1.5</td>\n",
              "      <td>53.07</td>\n",
              "      <td>3</td>\n",
              "      <td>1</td>\n",
              "      <td>153</td>\n",
              "      <td>3.76</td>\n",
              "      <td>0.50</td>\n",
              "      <td>0.017</td>\n",
              "      <td>0.1914</td>\n",
              "      <td>6.08</td>\n",
              "      <td>0</td>\n",
              "      <td>38.324928</td>\n",
              "      <td>7.0</td>\n",
              "      <td>192.09</td>\n",
              "      <td>1.33</td>\n",
              "      <td>3</td>\n",
              "      <td>24</td>\n",
              "      <td>9.69</td>\n",
              "      <td>0</td>\n",
              "      <td>1.2</td>\n",
              "      <td>9.3</td>\n",
              "      <td>18.5</td>\n",
              "      <td>1.51</td>\n",
              "      <td>0.96</td>\n",
              "    </tr>\n",
              "    <tr>\n",
              "      <th>901753</th>\n",
              "      <td>56045</td>\n",
              "      <td>Weston County</td>\n",
              "      <td>56</td>\n",
              "      <td>51</td>\n",
              "      <td>27</td>\n",
              "      <td>2.89</td>\n",
              "      <td>19.8</td>\n",
              "      <td>6.4</td>\n",
              "      <td>147.6</td>\n",
              "      <td>0.05</td>\n",
              "      <td>2.84</td>\n",
              "      <td>4</td>\n",
              "      <td>6967</td>\n",
              "      <td>-19.7</td>\n",
              "      <td>2020-10-13</td>\n",
              "      <td>8.34</td>\n",
              "      <td>30</td>\n",
              "      <td>52867</td>\n",
              "      <td>0.5</td>\n",
              "      <td>1.5</td>\n",
              "      <td>53.07</td>\n",
              "      <td>3</td>\n",
              "      <td>1</td>\n",
              "      <td>153</td>\n",
              "      <td>3.76</td>\n",
              "      <td>0.50</td>\n",
              "      <td>0.017</td>\n",
              "      <td>0.1914</td>\n",
              "      <td>6.27</td>\n",
              "      <td>0</td>\n",
              "      <td>39.570919</td>\n",
              "      <td>7.0</td>\n",
              "      <td>197.05</td>\n",
              "      <td>1.76</td>\n",
              "      <td>4</td>\n",
              "      <td>15</td>\n",
              "      <td>9.69</td>\n",
              "      <td>0</td>\n",
              "      <td>1.2</td>\n",
              "      <td>9.3</td>\n",
              "      <td>18.5</td>\n",
              "      <td>1.51</td>\n",
              "      <td>0.96</td>\n",
              "    </tr>\n",
              "  </tbody>\n",
              "</table>\n",
              "<p>901754 rows × 43 columns</p>\n",
              "</div>"
            ],
            "text/plain": [
              "        CTFIPS          CTNAME  ...  Cumulative inflation rate  COVID death rate\n",
              "0         1001  Autauga County  ...                       0.30              0.00\n",
              "1         1001  Autauga County  ...                       0.30              0.00\n",
              "2         1001  Autauga County  ...                       0.30              0.00\n",
              "3         1001  Autauga County  ...                       0.30              0.00\n",
              "4         1001  Autauga County  ...                       0.30              0.00\n",
              "...        ...             ...  ...                        ...               ...\n",
              "901749   56045   Weston County  ...                       1.51              0.96\n",
              "901750   56045   Weston County  ...                       1.51              0.96\n",
              "901751   56045   Weston County  ...                       1.51              0.96\n",
              "901752   56045   Weston County  ...                       1.51              0.96\n",
              "901753   56045   Weston County  ...                       1.51              0.96\n",
              "\n",
              "[901754 rows x 43 columns]"
            ]
          },
          "metadata": {
            "tags": []
          },
          "execution_count": 8
        }
      ]
    },
    {
      "cell_type": "code",
      "metadata": {
        "id": "r58ifIUA3iH5",
        "outputId": "fc6a2574-5f57-45a8-9340-d4128622a932",
        "colab": {
          "base_uri": "https://localhost:8080/",
          "height": 279
        }
      },
      "source": [
        "maryland_sd_inertia.head(3)"
      ],
      "execution_count": null,
      "outputs": [
        {
          "output_type": "execute_result",
          "data": {
            "text/html": [
              "<div>\n",
              "<style scoped>\n",
              "    .dataframe tbody tr th:only-of-type {\n",
              "        vertical-align: middle;\n",
              "    }\n",
              "\n",
              "    .dataframe tbody tr th {\n",
              "        vertical-align: top;\n",
              "    }\n",
              "\n",
              "    .dataframe thead th {\n",
              "        text-align: right;\n",
              "    }\n",
              "</style>\n",
              "<table border=\"1\" class=\"dataframe\">\n",
              "  <thead>\n",
              "    <tr style=\"text-align: right;\">\n",
              "      <th></th>\n",
              "      <th>CTFIPS</th>\n",
              "      <th>CTNAME</th>\n",
              "      <th>STFIPS</th>\n",
              "      <th>Social distancing index</th>\n",
              "      <th>% staying home</th>\n",
              "      <th>Trips/person</th>\n",
              "      <th>% out-of-county trips</th>\n",
              "      <th>% out-of-state trips</th>\n",
              "      <th>Miles/person</th>\n",
              "      <th>Work trips/person</th>\n",
              "      <th>Non-work trips/person</th>\n",
              "      <th>New COVID cases</th>\n",
              "      <th>Population</th>\n",
              "      <th>% change in consumption</th>\n",
              "      <th>date</th>\n",
              "      <th>Transit mode share</th>\n",
              "      <th>% people older than 60</th>\n",
              "      <th>Median income</th>\n",
              "      <th>% African Americans</th>\n",
              "      <th>% Hispanic Americans</th>\n",
              "      <th>% Male</th>\n",
              "      <th>Population density</th>\n",
              "      <th>Employment density</th>\n",
              "      <th># hot spots/1000 people</th>\n",
              "      <th>Hospital beds/1000 people</th>\n",
              "      <th>ICUs/1000 people</th>\n",
              "      <th># contact tracing workers/1000 people</th>\n",
              "      <th>New cases/1000 people</th>\n",
              "      <th>Active cases/1000 people</th>\n",
              "      <th>#days: decreasing COVID cases</th>\n",
              "      <th>% hospital bed utilization</th>\n",
              "      <th>Testing capacity</th>\n",
              "      <th>Tests done/1000 people</th>\n",
              "      <th>% ICU utilization</th>\n",
              "      <th>Ventilator shortage</th>\n",
              "      <th>Imported COVID cases</th>\n",
              "      <th>COVID exposure/1000 people</th>\n",
              "      <th>#days: decreasing ILI cases</th>\n",
              "      <th>Unemployment claims/1000 people</th>\n",
              "      <th>Unemployment rate</th>\n",
              "      <th>% working from home</th>\n",
              "      <th>Cumulative inflation rate</th>\n",
              "      <th>COVID death rate</th>\n",
              "    </tr>\n",
              "  </thead>\n",
              "  <tbody>\n",
              "    <tr>\n",
              "      <th>0</th>\n",
              "      <td>1001</td>\n",
              "      <td>Autauga County</td>\n",
              "      <td>1</td>\n",
              "      <td>54</td>\n",
              "      <td>27</td>\n",
              "      <td>2.25</td>\n",
              "      <td>38.8</td>\n",
              "      <td>1.2</td>\n",
              "      <td>24.7</td>\n",
              "      <td>0.25</td>\n",
              "      <td>2.00</td>\n",
              "      <td>0</td>\n",
              "      <td>55601</td>\n",
              "      <td>-22.5</td>\n",
              "      <td>2020-01-01</td>\n",
              "      <td>0.11</td>\n",
              "      <td>19</td>\n",
              "      <td>58786</td>\n",
              "      <td>19.0</td>\n",
              "      <td>2.8</td>\n",
              "      <td>48.68</td>\n",
              "      <td>91</td>\n",
              "      <td>19</td>\n",
              "      <td>101</td>\n",
              "      <td>3.79</td>\n",
              "      <td>0.33</td>\n",
              "      <td>0.025</td>\n",
              "      <td>0.0</td>\n",
              "      <td>0.0</td>\n",
              "      <td>0</td>\n",
              "      <td>47.1</td>\n",
              "      <td>0.0</td>\n",
              "      <td>0.0</td>\n",
              "      <td>0.0</td>\n",
              "      <td>0</td>\n",
              "      <td>0</td>\n",
              "      <td>0.0</td>\n",
              "      <td>0</td>\n",
              "      <td>0.9</td>\n",
              "      <td>2.7</td>\n",
              "      <td>3.2</td>\n",
              "      <td>0.3</td>\n",
              "      <td>0.0</td>\n",
              "    </tr>\n",
              "    <tr>\n",
              "      <th>1</th>\n",
              "      <td>1001</td>\n",
              "      <td>Autauga County</td>\n",
              "      <td>1</td>\n",
              "      <td>25</td>\n",
              "      <td>18</td>\n",
              "      <td>2.83</td>\n",
              "      <td>43.5</td>\n",
              "      <td>0.9</td>\n",
              "      <td>37.6</td>\n",
              "      <td>0.62</td>\n",
              "      <td>2.21</td>\n",
              "      <td>0</td>\n",
              "      <td>55601</td>\n",
              "      <td>-14.3</td>\n",
              "      <td>2020-01-02</td>\n",
              "      <td>0.11</td>\n",
              "      <td>19</td>\n",
              "      <td>58786</td>\n",
              "      <td>19.0</td>\n",
              "      <td>2.8</td>\n",
              "      <td>48.68</td>\n",
              "      <td>91</td>\n",
              "      <td>19</td>\n",
              "      <td>101</td>\n",
              "      <td>3.79</td>\n",
              "      <td>0.33</td>\n",
              "      <td>0.025</td>\n",
              "      <td>0.0</td>\n",
              "      <td>0.0</td>\n",
              "      <td>0</td>\n",
              "      <td>47.1</td>\n",
              "      <td>0.0</td>\n",
              "      <td>0.0</td>\n",
              "      <td>0.0</td>\n",
              "      <td>0</td>\n",
              "      <td>0</td>\n",
              "      <td>0.0</td>\n",
              "      <td>0</td>\n",
              "      <td>0.9</td>\n",
              "      <td>2.7</td>\n",
              "      <td>3.2</td>\n",
              "      <td>0.3</td>\n",
              "      <td>0.0</td>\n",
              "    </tr>\n",
              "    <tr>\n",
              "      <th>2</th>\n",
              "      <td>1001</td>\n",
              "      <td>Autauga County</td>\n",
              "      <td>1</td>\n",
              "      <td>15</td>\n",
              "      <td>15</td>\n",
              "      <td>3.18</td>\n",
              "      <td>42.2</td>\n",
              "      <td>1.0</td>\n",
              "      <td>40.3</td>\n",
              "      <td>0.62</td>\n",
              "      <td>2.57</td>\n",
              "      <td>0</td>\n",
              "      <td>55601</td>\n",
              "      <td>-0.4</td>\n",
              "      <td>2020-01-03</td>\n",
              "      <td>0.11</td>\n",
              "      <td>19</td>\n",
              "      <td>58786</td>\n",
              "      <td>19.0</td>\n",
              "      <td>2.8</td>\n",
              "      <td>48.68</td>\n",
              "      <td>91</td>\n",
              "      <td>19</td>\n",
              "      <td>101</td>\n",
              "      <td>3.79</td>\n",
              "      <td>0.33</td>\n",
              "      <td>0.025</td>\n",
              "      <td>0.0</td>\n",
              "      <td>0.0</td>\n",
              "      <td>0</td>\n",
              "      <td>47.1</td>\n",
              "      <td>0.0</td>\n",
              "      <td>0.0</td>\n",
              "      <td>0.0</td>\n",
              "      <td>0</td>\n",
              "      <td>0</td>\n",
              "      <td>0.0</td>\n",
              "      <td>0</td>\n",
              "      <td>0.9</td>\n",
              "      <td>2.7</td>\n",
              "      <td>3.2</td>\n",
              "      <td>0.3</td>\n",
              "      <td>0.0</td>\n",
              "    </tr>\n",
              "  </tbody>\n",
              "</table>\n",
              "</div>"
            ],
            "text/plain": [
              "   CTFIPS          CTNAME  ...  Cumulative inflation rate  COVID death rate\n",
              "0    1001  Autauga County  ...                        0.3               0.0\n",
              "1    1001  Autauga County  ...                        0.3               0.0\n",
              "2    1001  Autauga County  ...                        0.3               0.0\n",
              "\n",
              "[3 rows x 43 columns]"
            ]
          },
          "metadata": {
            "tags": []
          },
          "execution_count": 9
        }
      ]
    },
    {
      "cell_type": "code",
      "metadata": {
        "id": "4sjo_s7Ot4MA"
      },
      "source": [
        ""
      ],
      "execution_count": null,
      "outputs": []
    },
    {
      "cell_type": "code",
      "metadata": {
        "id": "64aGBAU73xdT",
        "outputId": "ffab306a-0416-4053-ec90-7afbabc332c1",
        "colab": {
          "base_uri": "https://localhost:8080/",
          "height": 328
        }
      },
      "source": [
        "maryland_sd_inertia.columns"
      ],
      "execution_count": null,
      "outputs": [
        {
          "output_type": "execute_result",
          "data": {
            "text/plain": [
              "Index(['CTFIPS', 'CTNAME', 'STFIPS', 'Social distancing index',\n",
              "       '% staying home', 'Trips/person', '% out-of-county trips',\n",
              "       '% out-of-state trips', 'Miles/person', 'Work trips/person',\n",
              "       'Non-work trips/person', 'New COVID cases', 'Population',\n",
              "       '% change in consumption', 'date', 'Transit mode share',\n",
              "       '% people older than 60', 'Median income', '% African Americans',\n",
              "       '% Hispanic Americans', '% Male', 'Population density',\n",
              "       'Employment density', '# hot spots/1000 people',\n",
              "       'Hospital beds/1000 people', 'ICUs/1000 people',\n",
              "       '# contact tracing workers/1000 people', 'New cases/1000 people',\n",
              "       'Active cases/1000 people', '#days: decreasing COVID cases',\n",
              "       '% hospital bed utilization', 'Testing capacity',\n",
              "       'Tests done/1000 people', '% ICU utilization', 'Ventilator shortage',\n",
              "       'Imported COVID cases', 'COVID exposure/1000 people',\n",
              "       '#days: decreasing ILI cases', 'Unemployment claims/1000 people',\n",
              "       'Unemployment rate', '% working from home', 'Cumulative inflation rate',\n",
              "       'COVID death rate'],\n",
              "      dtype='object')"
            ]
          },
          "metadata": {
            "tags": []
          },
          "execution_count": 10
        }
      ]
    },
    {
      "cell_type": "markdown",
      "metadata": {
        "id": "hHDGjRb46i0a"
      },
      "source": [
        "## Assign State Name\n",
        "\n",
        "California, New York, Texas, Iowa, Wisconsin, Colorado"
      ]
    },
    {
      "cell_type": "code",
      "metadata": {
        "id": "MBP739CjGb9Z",
        "outputId": "e5cb8b27-9df6-4bd5-ad70-3760fdb1c2cd",
        "colab": {
          "base_uri": "https://localhost:8080/",
          "height": 249
        }
      },
      "source": [
        "maryland_sd_inertia = pd.merge(state_fips_code,maryland_sd_inertia,how='inner',left_on=['STFIPS'],right_on=['STFIPS'])\n",
        "print(maryland_sd_inertia.shape)\n",
        "\n",
        "maryland_sd_inertia.head(2)"
      ],
      "execution_count": null,
      "outputs": [
        {
          "output_type": "stream",
          "text": [
            "(901467, 45)\n"
          ],
          "name": "stdout"
        },
        {
          "output_type": "execute_result",
          "data": {
            "text/html": [
              "<div>\n",
              "<style scoped>\n",
              "    .dataframe tbody tr th:only-of-type {\n",
              "        vertical-align: middle;\n",
              "    }\n",
              "\n",
              "    .dataframe tbody tr th {\n",
              "        vertical-align: top;\n",
              "    }\n",
              "\n",
              "    .dataframe thead th {\n",
              "        text-align: right;\n",
              "    }\n",
              "</style>\n",
              "<table border=\"1\" class=\"dataframe\">\n",
              "  <thead>\n",
              "    <tr style=\"text-align: right;\">\n",
              "      <th></th>\n",
              "      <th>State</th>\n",
              "      <th>Postal Code</th>\n",
              "      <th>STFIPS</th>\n",
              "      <th>CTFIPS</th>\n",
              "      <th>CTNAME</th>\n",
              "      <th>Social distancing index</th>\n",
              "      <th>% staying home</th>\n",
              "      <th>Trips/person</th>\n",
              "      <th>% out-of-county trips</th>\n",
              "      <th>% out-of-state trips</th>\n",
              "      <th>Miles/person</th>\n",
              "      <th>Work trips/person</th>\n",
              "      <th>Non-work trips/person</th>\n",
              "      <th>New COVID cases</th>\n",
              "      <th>Population</th>\n",
              "      <th>% change in consumption</th>\n",
              "      <th>date</th>\n",
              "      <th>Transit mode share</th>\n",
              "      <th>% people older than 60</th>\n",
              "      <th>Median income</th>\n",
              "      <th>% African Americans</th>\n",
              "      <th>% Hispanic Americans</th>\n",
              "      <th>% Male</th>\n",
              "      <th>Population density</th>\n",
              "      <th>Employment density</th>\n",
              "      <th># hot spots/1000 people</th>\n",
              "      <th>Hospital beds/1000 people</th>\n",
              "      <th>ICUs/1000 people</th>\n",
              "      <th># contact tracing workers/1000 people</th>\n",
              "      <th>New cases/1000 people</th>\n",
              "      <th>Active cases/1000 people</th>\n",
              "      <th>#days: decreasing COVID cases</th>\n",
              "      <th>% hospital bed utilization</th>\n",
              "      <th>Testing capacity</th>\n",
              "      <th>Tests done/1000 people</th>\n",
              "      <th>% ICU utilization</th>\n",
              "      <th>Ventilator shortage</th>\n",
              "      <th>Imported COVID cases</th>\n",
              "      <th>COVID exposure/1000 people</th>\n",
              "      <th>#days: decreasing ILI cases</th>\n",
              "      <th>Unemployment claims/1000 people</th>\n",
              "      <th>Unemployment rate</th>\n",
              "      <th>% working from home</th>\n",
              "      <th>Cumulative inflation rate</th>\n",
              "      <th>COVID death rate</th>\n",
              "    </tr>\n",
              "  </thead>\n",
              "  <tbody>\n",
              "    <tr>\n",
              "      <th>0</th>\n",
              "      <td>Alabama</td>\n",
              "      <td>AL</td>\n",
              "      <td>1</td>\n",
              "      <td>1001</td>\n",
              "      <td>Autauga County</td>\n",
              "      <td>54</td>\n",
              "      <td>27</td>\n",
              "      <td>2.25</td>\n",
              "      <td>38.8</td>\n",
              "      <td>1.2</td>\n",
              "      <td>24.7</td>\n",
              "      <td>0.25</td>\n",
              "      <td>2.00</td>\n",
              "      <td>0</td>\n",
              "      <td>55601</td>\n",
              "      <td>-22.5</td>\n",
              "      <td>2020-01-01</td>\n",
              "      <td>0.11</td>\n",
              "      <td>19</td>\n",
              "      <td>58786</td>\n",
              "      <td>19.0</td>\n",
              "      <td>2.8</td>\n",
              "      <td>48.68</td>\n",
              "      <td>91</td>\n",
              "      <td>19</td>\n",
              "      <td>101</td>\n",
              "      <td>3.79</td>\n",
              "      <td>0.33</td>\n",
              "      <td>0.025</td>\n",
              "      <td>0.0</td>\n",
              "      <td>0.0</td>\n",
              "      <td>0</td>\n",
              "      <td>47.1</td>\n",
              "      <td>0.0</td>\n",
              "      <td>0.0</td>\n",
              "      <td>0.0</td>\n",
              "      <td>0</td>\n",
              "      <td>0</td>\n",
              "      <td>0.0</td>\n",
              "      <td>0</td>\n",
              "      <td>0.9</td>\n",
              "      <td>2.7</td>\n",
              "      <td>3.2</td>\n",
              "      <td>0.3</td>\n",
              "      <td>0.0</td>\n",
              "    </tr>\n",
              "    <tr>\n",
              "      <th>1</th>\n",
              "      <td>Alabama</td>\n",
              "      <td>AL</td>\n",
              "      <td>1</td>\n",
              "      <td>1001</td>\n",
              "      <td>Autauga County</td>\n",
              "      <td>25</td>\n",
              "      <td>18</td>\n",
              "      <td>2.83</td>\n",
              "      <td>43.5</td>\n",
              "      <td>0.9</td>\n",
              "      <td>37.6</td>\n",
              "      <td>0.62</td>\n",
              "      <td>2.21</td>\n",
              "      <td>0</td>\n",
              "      <td>55601</td>\n",
              "      <td>-14.3</td>\n",
              "      <td>2020-01-02</td>\n",
              "      <td>0.11</td>\n",
              "      <td>19</td>\n",
              "      <td>58786</td>\n",
              "      <td>19.0</td>\n",
              "      <td>2.8</td>\n",
              "      <td>48.68</td>\n",
              "      <td>91</td>\n",
              "      <td>19</td>\n",
              "      <td>101</td>\n",
              "      <td>3.79</td>\n",
              "      <td>0.33</td>\n",
              "      <td>0.025</td>\n",
              "      <td>0.0</td>\n",
              "      <td>0.0</td>\n",
              "      <td>0</td>\n",
              "      <td>47.1</td>\n",
              "      <td>0.0</td>\n",
              "      <td>0.0</td>\n",
              "      <td>0.0</td>\n",
              "      <td>0</td>\n",
              "      <td>0</td>\n",
              "      <td>0.0</td>\n",
              "      <td>0</td>\n",
              "      <td>0.9</td>\n",
              "      <td>2.7</td>\n",
              "      <td>3.2</td>\n",
              "      <td>0.3</td>\n",
              "      <td>0.0</td>\n",
              "    </tr>\n",
              "  </tbody>\n",
              "</table>\n",
              "</div>"
            ],
            "text/plain": [
              "     State Postal Code  ...  Cumulative inflation rate  COVID death rate\n",
              "0  Alabama          AL  ...                        0.3               0.0\n",
              "1  Alabama          AL  ...                        0.3               0.0\n",
              "\n",
              "[2 rows x 45 columns]"
            ]
          },
          "metadata": {
            "tags": []
          },
          "execution_count": 11
        }
      ]
    },
    {
      "cell_type": "code",
      "metadata": {
        "id": "DPt_rkwb7KOq"
      },
      "source": [
        "## not using this\n",
        "def assignStateName(x):\n",
        "  if x == 6:\n",
        "    return 'California' # 6\n",
        "  elif x == 36:\n",
        "    return 'New York' # 36\n",
        "  elif x == 48:\n",
        "    return 'Texas' #1\n",
        "  elif x == 19:\n",
        "    return 'Iowa' #19\n",
        "  elif x == 8:\n",
        "    return 'Colorado' #8\n",
        "  elif x == 55:\n",
        "    return 'Wisconsin' #31\n",
        "  else:\n",
        "    return 'NA'"
      ],
      "execution_count": null,
      "outputs": []
    },
    {
      "cell_type": "markdown",
      "metadata": {
        "id": "225hov4R_c7x"
      },
      "source": [
        "## Filter Data for 6 States"
      ]
    },
    {
      "cell_type": "code",
      "metadata": {
        "id": "K9u2ApLX_1xg",
        "outputId": "190c8465-69e6-474d-8acf-0227f8d7aefb",
        "colab": {
          "base_uri": "https://localhost:8080/",
          "height": 121
        }
      },
      "source": [
        "state_list = ['California', 'New York', 'Texas', 'Iowa', 'Wisconsin', 'Colorado']\n",
        "\n",
        "maryland_sd_inertia_6states = maryland_sd_inertia[maryland_sd_inertia['State'].isin(state_list)]\n",
        "print(maryland_sd_inertia_6states.head(3) )"
      ],
      "execution_count": null,
      "outputs": [
        {
          "output_type": "stream",
          "text": [
            "            State Postal Code  ...  Cumulative inflation rate  COVID death rate\n",
            "53382  California          CA  ...                        0.3               0.0\n",
            "53383  California          CA  ...                        0.3               0.0\n",
            "53384  California          CA  ...                        0.3               0.0\n",
            "\n",
            "[3 rows x 45 columns]\n"
          ],
          "name": "stdout"
        }
      ]
    },
    {
      "cell_type": "code",
      "metadata": {
        "id": "heS43YxmAUDN",
        "outputId": "18a362f2-d320-41c1-d2bc-13dbab537e75",
        "colab": {
          "base_uri": "https://localhost:8080/",
          "height": 52
        }
      },
      "source": [
        "maryland_sd_inertia_6states.State.unique()"
      ],
      "execution_count": null,
      "outputs": [
        {
          "output_type": "execute_result",
          "data": {
            "text/plain": [
              "array(['California', 'Colorado', 'Iowa', 'New York', 'Texas', 'Wisconsin'],\n",
              "      dtype=object)"
            ]
          },
          "metadata": {
            "tags": []
          },
          "execution_count": 14
        }
      ]
    },
    {
      "cell_type": "markdown",
      "metadata": {
        "id": "PsOnEXidWFu9"
      },
      "source": [
        "## Multiclass Classification without a Classifier!"
      ]
    },
    {
      "cell_type": "code",
      "metadata": {
        "id": "2Kazm_SFJc4k",
        "outputId": "7362a2fa-6132-466e-f332-3ec7b8e20ae0",
        "colab": {
          "base_uri": "https://localhost:8080/"
        }
      },
      "source": [
        "maryland_sd_inertia_6states.columns"
      ],
      "execution_count": null,
      "outputs": [
        {
          "output_type": "execute_result",
          "data": {
            "text/plain": [
              "Index(['State', 'Postal Code', 'STFIPS', 'CTFIPS', 'CTNAME',\n",
              "       'Social distancing index', '% staying home', 'Trips/person',\n",
              "       '% out-of-county trips', '% out-of-state trips', 'Miles/person',\n",
              "       'Work trips/person', 'Non-work trips/person', 'New COVID cases',\n",
              "       'Population', '% change in consumption', 'date', 'Transit mode share',\n",
              "       '% people older than 60', 'Median income', '% African Americans',\n",
              "       '% Hispanic Americans', '% Male', 'Population density',\n",
              "       'Employment density', '# hot spots/1000 people',\n",
              "       'Hospital beds/1000 people', 'ICUs/1000 people',\n",
              "       '# contact tracing workers/1000 people', 'New cases/1000 people',\n",
              "       'Active cases/1000 people', '#days: decreasing COVID cases',\n",
              "       '% hospital bed utilization', 'Testing capacity',\n",
              "       'Tests done/1000 people', '% ICU utilization', 'Ventilator shortage',\n",
              "       'Imported COVID cases', 'COVID exposure/1000 people',\n",
              "       '#days: decreasing ILI cases', 'Unemployment claims/1000 people',\n",
              "       'Unemployment rate', '% working from home', 'Cumulative inflation rate',\n",
              "       'COVID death rate'],\n",
              "      dtype='object')"
            ]
          },
          "metadata": {
            "tags": []
          },
          "execution_count": 15
        }
      ]
    },
    {
      "cell_type": "code",
      "metadata": {
        "id": "KBYUKEs-TNai"
      },
      "source": [
        "X_cols = ['Social distancing index','% staying home', 'Trips/person', '% out-of-county trips',\n",
        "       '% out-of-state trips', 'Miles/person', 'Work trips/person',\n",
        "       'Non-work trips/person','% change in consumption','Transit mode share',\n",
        "       '% people older than 60', 'Median income', '% African Americans',\n",
        "       '% Hispanic Americans', '% Male', 'Population density',\n",
        "       'Employment density', '# hot spots/1000 people',\n",
        "       'Hospital beds/1000 people', 'ICUs/1000 people',\n",
        "       '# contact tracing workers/1000 people','% hospital bed utilization', 'Testing capacity',\n",
        "       'Tests done/1000 people', '% ICU utilization', 'Ventilator shortage',\n",
        "       'Imported COVID cases', 'COVID exposure/1000 people',\n",
        "       '#days: decreasing ILI cases', 'Unemployment claims/1000 people',\n",
        "       'Unemployment rate', '% working from home', 'Cumulative inflation rate']\n",
        "\n",
        "Y_col = ['New cases/1000 people']\n"
      ],
      "execution_count": null,
      "outputs": []
    },
    {
      "cell_type": "code",
      "metadata": {
        "id": "g6Sa8b1IzFw6"
      },
      "source": [
        "# have to check which values are NA\n",
        "maryland_sd_inertia_6states_filtered = maryland_sd_inertia_6states.dropna()"
      ],
      "execution_count": null,
      "outputs": []
    },
    {
      "cell_type": "code",
      "metadata": {
        "id": "3wIeqCwKWUeI"
      },
      "source": [
        "n_classes = 3\n",
        "training_inputs = maryland_sd_inertia_6states_filtered[X_cols].values\n",
        "#training_outputs_labels = [c for row in maryland_sd_inertia_6states[Y_col].values for c in row]\n"
      ],
      "execution_count": null,
      "outputs": []
    },
    {
      "cell_type": "markdown",
      "metadata": {
        "id": "1V11LBGZy9lx"
      },
      "source": [
        "# K-means clustering"
      ]
    },
    {
      "cell_type": "code",
      "metadata": {
        "id": "c31oBHjdy_9S"
      },
      "source": [
        "from sklearn.cluster import KMeans\n",
        "\n",
        "\n",
        "y_kmeans = KMeans(n_clusters=7,init ='k-means++', max_iter=300, n_init=10,random_state=0 ).fit_predict(training_inputs)\n",
        "\n",
        "X = training_inputs"
      ],
      "execution_count": null,
      "outputs": []
    },
    {
      "cell_type": "code",
      "metadata": {
        "id": "QoKTnllUzpIv"
      },
      "source": [
        "#6 Visualising the clusters\n",
        "plt.scatter(X[y_kmeans==0, 0], X[y_kmeans==0, 1], s=30, c='red', label ='Cluster 1')\n",
        "plt.scatter(X[y_kmeans==1, 0], X[y_kmeans==1, 1], s=30, c='blue', label ='Cluster 2')\n",
        "plt.scatter(X[y_kmeans==2, 0], X[y_kmeans==2, 1], s=30, c='green', label ='Cluster 3')\n",
        "plt.scatter(X[y_kmeans==3, 0], X[y_kmeans==3, 1], s=30, c='cyan', label ='Cluster 4')\n",
        "plt.scatter(X[y_kmeans==4, 0], X[y_kmeans==4, 1], s=30, c='magenta', label ='Cluster 5')\n",
        "plt.scatter(X[y_kmeans==5, 0], X[y_kmeans==5, 1], s=30, c='lightblue', label ='Cluster 6')\n",
        "plt.scatter(X[y_kmeans==6, 0], X[y_kmeans==6, 1], s=30, c='yellow', label ='Cluster 7')"
      ],
      "execution_count": null,
      "outputs": []
    },
    {
      "cell_type": "code",
      "metadata": {
        "id": "OaVnTDSqz2c8"
      },
      "source": [
        "y_kmeans"
      ],
      "execution_count": null,
      "outputs": []
    },
    {
      "cell_type": "markdown",
      "metadata": {
        "id": "h6BV8aqY763g"
      },
      "source": [
        "# GMM Clustering"
      ]
    },
    {
      "cell_type": "code",
      "metadata": {
        "id": "TQ2PDE8_78nB"
      },
      "source": [
        "from sklearn.mixture import GaussianMixture\n",
        "gmm = GaussianMixture(n_components=7)\n",
        "gmm.fit(training_inputs)"
      ],
      "execution_count": null,
      "outputs": []
    },
    {
      "cell_type": "code",
      "metadata": {
        "id": "RbT9xjQq7_JY"
      },
      "source": [
        "#predictions from gmm\n",
        "labels = gmm.predict(training_inputs)\n",
        "frame = pd.DataFrame(training_inputs)\n",
        "frame['cluster'] = labels\n",
        "frame_columns = ['Social distancing index','% staying home', 'Trips/person', '% out-of-county trips',\n",
        "       '% out-of-state trips', 'Miles/person', 'Work trips/person',\n",
        "       'Non-work trips/person','% change in consumption','Transit mode share',\n",
        "       '% people older than 60', 'Median income', '% African Americans',\n",
        "       '% Hispanic Americans', '% Male', 'Population density',\n",
        "       'Employment density', '# hot spots/1000 people',\n",
        "       'Hospital beds/1000 people', 'ICUs/1000 people',\n",
        "       '# contact tracing workers/1000 people','% hospital bed utilization', 'Testing capacity',\n",
        "       'Tests done/1000 people', '% ICU utilization', 'Ventilator shortage',\n",
        "       'Imported COVID cases', 'COVID exposure/1000 people',\n",
        "       '#days: decreasing ILI cases', 'Unemployment claims/1000 people',\n",
        "       'Unemployment rate', '% working from home', 'Cumulative inflation rate','cluster']\n",
        "\n",
        "frame.columns = frame_columns \n"
      ],
      "execution_count": null,
      "outputs": []
    },
    {
      "cell_type": "code",
      "metadata": {
        "id": "ClMuF4FB8CG0"
      },
      "source": [
        "\n",
        "color=['blue','green','cyan', 'yellow','red','lightblue','magenta']\n",
        "for k in range(0,6):\n",
        "    data = frame[frame[\"cluster\"]==k]\n",
        "    plt.scatter(data[\"Social distancing index\"],data[\"% staying home\"],c=color[k])\n",
        "plt.show()"
      ],
      "execution_count": null,
      "outputs": []
    },
    {
      "cell_type": "markdown",
      "metadata": {
        "id": "abQk5gxH3jQ6"
      },
      "source": [
        "# Optics Clustering\n",
        "\n",
        "Commenting code as it is taking lots of time"
      ]
    },
    {
      "cell_type": "code",
      "metadata": {
        "id": "aWCU9brs3l7_"
      },
      "source": [
        "from sklearn.cluster import OPTICS, cluster_optics_dbscan\n",
        "from matplotlib import gridspec \n",
        "\n",
        "# Building the OPTICS Clustering model \n",
        "optics_model = OPTICS(min_samples = 30, xi = 0.8, min_cluster_size = 0.08)\n",
        "\n"
      ],
      "execution_count": null,
      "outputs": []
    },
    {
      "cell_type": "code",
      "metadata": {
        "id": "rZX1KPrm4Cey"
      },
      "source": [
        "'''\n",
        "# Training the model \n",
        "y_optics = optics_model.fit(training_inputs) \n",
        "print('number of hierarchical clusters',len(optics_model.cluster_hierarchy_)-1)\n",
        "\n",
        "X = training_inputs\n",
        "'''"
      ],
      "execution_count": null,
      "outputs": []
    },
    {
      "cell_type": "code",
      "metadata": {
        "id": "G21KoA6d49Bh"
      },
      "source": [
        "'''\n",
        "#6 Visualising the clusters\n",
        "plt.scatter(X[y_optics==0, 0], X[y_optics==0, 1], s=100, c='red', label ='Cluster 1')\n",
        "plt.scatter(X[y_optics==1, 0], X[y_optics==1, 1], s=100, c='blue', label ='Cluster 2')\n",
        "plt.scatter(X[y_optics==2, 0], X[y_optics==2, 1], s=100, c='green', label ='Cluster 3')\n",
        "plt.scatter(X[y_optics==3, 0], X[y_optics==3, 1], s=100, c='cyan', label ='Cluster 4')\n",
        "plt.scatter(X[y_optics==4, 0], X[y_optics==4, 1], s=100, c='magenta', label ='Cluster 5')\n",
        "'''"
      ],
      "execution_count": null,
      "outputs": []
    },
    {
      "cell_type": "markdown",
      "metadata": {
        "id": "8eBVcfIT2QdV"
      },
      "source": [
        "# Sprectal clustering\n",
        "Comenting the code as it is crashing"
      ]
    },
    {
      "cell_type": "code",
      "metadata": {
        "id": "y3h45p882Qda"
      },
      "source": [
        "from sklearn.cluster import SpectralClustering\n",
        "\n",
        "'''\n",
        "y_sprectal = SpectralClustering(n_clusters=5 ).fit_predict(training_inputs)\n",
        "\n",
        "X = training_inputs\n",
        "'''"
      ],
      "execution_count": null,
      "outputs": []
    },
    {
      "cell_type": "code",
      "metadata": {
        "id": "EVKlNotu2Qde"
      },
      "source": [
        "'''\n",
        "#6 Visualising the clusters\n",
        "plt.scatter(X[y_sprectal==0, 0], X[y_sprectal==0, 1], s=100, c='red', label ='Cluster 1')\n",
        "plt.scatter(X[y_sprectal==1, 0], X[y_sprectal==1, 1], s=100, c='blue', label ='Cluster 2')\n",
        "plt.scatter(X[y_sprectal==2, 0], X[y_sprectal==2, 1], s=100, c='green', label ='Cluster 3')\n",
        "plt.scatter(X[y_sprectal==3, 0], X[y_sprectal==3, 1], s=100, c='cyan', label ='Cluster 4')\n",
        "plt.scatter(X[y_sprectal==4, 0], X[y_sprectal==4, 1], s=100, c='magenta', label ='Cluster 5')\n",
        "'''"
      ],
      "execution_count": null,
      "outputs": []
    },
    {
      "cell_type": "code",
      "metadata": {
        "id": "HnoAchBF2Qdh"
      },
      "source": [
        "#y_sprectal"
      ],
      "execution_count": null,
      "outputs": []
    },
    {
      "cell_type": "markdown",
      "metadata": {
        "id": "hEeGPr7uGzc-"
      },
      "source": [
        "# AgglomerativeClustering"
      ]
    },
    {
      "cell_type": "code",
      "metadata": {
        "id": "X1SWlM4_G04p"
      },
      "source": [
        "\n",
        "import time as time\n",
        "import numpy as np\n",
        "import matplotlib.pyplot as plt\n",
        "import mpl_toolkits.mplot3d.axes3d as p3\n",
        "from sklearn.cluster import AgglomerativeClustering\n"
      ],
      "execution_count": null,
      "outputs": []
    },
    {
      "cell_type": "code",
      "metadata": {
        "id": "Nx_JMPJoLP6l",
        "outputId": "06334301-be5c-4f93-a6de-687b31bcde6e",
        "colab": {
          "base_uri": "https://localhost:8080/",
          "height": 35
        }
      },
      "source": [
        "13976*2"
      ],
      "execution_count": null,
      "outputs": [
        {
          "output_type": "execute_result",
          "data": {
            "text/plain": [
              "27952"
            ]
          },
          "metadata": {
            "tags": []
          },
          "execution_count": 30
        }
      ]
    },
    {
      "cell_type": "code",
      "metadata": {
        "id": "OpVTsk9pHBi4",
        "outputId": "ea7e83e2-e1c4-4596-96b6-5b87fef7fb41",
        "colab": {
          "base_uri": "https://localhost:8080/",
          "height": 35
        }
      },
      "source": [
        "X = training_inputs[:27952,:]\n",
        "X.shape"
      ],
      "execution_count": null,
      "outputs": [
        {
          "output_type": "execute_result",
          "data": {
            "text/plain": [
              "(27952, 33)"
            ]
          },
          "metadata": {
            "tags": []
          },
          "execution_count": 31
        }
      ]
    },
    {
      "cell_type": "code",
      "metadata": {
        "id": "ymbh-tTBG3Uk",
        "outputId": "f70de283-72bf-452e-cf41-3187f1ecf79c",
        "colab": {
          "base_uri": "https://localhost:8080/",
          "height": 69
        }
      },
      "source": [
        "print(\"Compute unstructured hierarchical clustering...\")\n",
        "st = time.time()\n",
        "ward = AgglomerativeClustering(n_clusters=5, linkage='ward').fit(X)\n",
        "elapsed_time = time.time() - st\n",
        "label = ward.labels_\n",
        "print(\"Elapsed time: %.2fs\" % elapsed_time)\n",
        "print(\"Number of points: %i\" % label.size)"
      ],
      "execution_count": null,
      "outputs": [
        {
          "output_type": "stream",
          "text": [
            "Compute unstructured hierarchical clustering...\n",
            "Elapsed time: 33.21s\n",
            "Number of points: 27952\n"
          ],
          "name": "stdout"
        }
      ]
    },
    {
      "cell_type": "code",
      "metadata": {
        "id": "XzXach9IHDMA",
        "outputId": "fec5a099-d34d-4d3c-c1fc-5ebbb98ae4f7",
        "colab": {
          "base_uri": "https://localhost:8080/",
          "height": 336
        }
      },
      "source": [
        "fig = plt.figure()\n",
        "ax = p3.Axes3D(fig)\n",
        "ax.view_init(7, -80)\n",
        "for l in np.unique(label):\n",
        "    ax.scatter(X[label == l, 0], X[label == l, 1], X[label == l, 2],\n",
        "               color=plt.cm.jet(np.float(l) / np.max(label + 1)),\n",
        "               s=20, edgecolor='k')\n",
        "plt.title('Without connectivity constraints (time %.2fs)' % elapsed_time)"
      ],
      "execution_count": null,
      "outputs": [
        {
          "output_type": "execute_result",
          "data": {
            "text/plain": [
              "Text(0.5, 0.92, 'Without connectivity constraints (time 33.21s)')"
            ]
          },
          "metadata": {
            "tags": []
          },
          "execution_count": 33
        },
        {
          "output_type": "display_data",
          "data": {
            "image/png": "[encoded data removed]",
            "text/plain": [
              "<Figure size 432x288 with 1 Axes>"
            ]
          },
          "metadata": {
            "tags": [],
            "needs_background": "light"
          }
        }
      ]
    },
    {
      "cell_type": "code",
      "metadata": {
        "id": "fKup_72-HdBx",
        "outputId": "581d7df4-59be-4cb4-f3c2-fe0a2b47ed83",
        "colab": {
          "base_uri": "https://localhost:8080/",
          "height": 124
        }
      },
      "source": [
        "# Define the structure A of the data. Here a 10 nearest neighbors\n",
        "from sklearn.neighbors import kneighbors_graph\n",
        "connectivity = kneighbors_graph(X, n_neighbors=100, include_self=False)\n",
        "\n",
        "# #############################################################################\n",
        "# Compute clustering\n",
        "print(\"Compute structured hierarchical clustering...\")\n",
        "st = time.time()\n",
        "ward = AgglomerativeClustering(n_clusters=6, connectivity=connectivity,\n",
        "                               linkage='ward').fit(X)\n",
        "elapsed_time = time.time() - st\n",
        "label = ward.labels_\n",
        "print(\"Elapsed time: %.2fs\" % elapsed_time)\n",
        "print(\"Number of points: %i\" % label.size)"
      ],
      "execution_count": null,
      "outputs": [
        {
          "output_type": "stream",
          "text": [
            "Compute structured hierarchical clustering...\n"
          ],
          "name": "stdout"
        },
        {
          "output_type": "stream",
          "text": [
            "/usr/local/lib/python3.6/dist-packages/sklearn/cluster/_agglomerative.py:245: UserWarning: the number of connected components of the connectivity matrix is 49 > 1. Completing it to avoid stopping the tree early.\n",
            "  affinity='euclidean')\n"
          ],
          "name": "stderr"
        },
        {
          "output_type": "stream",
          "text": [
            "Elapsed time: 31.34s\n",
            "Number of points: 27952\n"
          ],
          "name": "stdout"
        }
      ]
    },
    {
      "cell_type": "code",
      "metadata": {
        "id": "x2KZwBIxMOKy",
        "outputId": "ae426a26-d972-4379-a579-fad2012ed497",
        "colab": {
          "base_uri": "https://localhost:8080/",
          "height": 35
        }
      },
      "source": [
        "label"
      ],
      "execution_count": null,
      "outputs": [
        {
          "output_type": "execute_result",
          "data": {
            "text/plain": [
              "array([2, 2, 2, ..., 2, 2, 2])"
            ]
          },
          "metadata": {
            "tags": []
          },
          "execution_count": 37
        }
      ]
    },
    {
      "cell_type": "code",
      "metadata": {
        "id": "BgYe9ozJL1oH",
        "outputId": "17ba8ba4-809d-4cf3-e66d-2881b492586a",
        "colab": {
          "base_uri": "https://localhost:8080/",
          "height": 86
        }
      },
      "source": [
        "print(len(X[label == l, 0]))\n",
        "print(len(X[label == 2, 1]))\n",
        "print(len(X[label == 3, 2]))\n",
        "print(len(X[label == 4, 0]))"
      ],
      "execution_count": null,
      "outputs": [
        {
          "output_type": "stream",
          "text": [
            "2009\n",
            "10445\n",
            "6314\n",
            "3444\n"
          ],
          "name": "stdout"
        }
      ]
    },
    {
      "cell_type": "code",
      "metadata": {
        "id": "BHFzxMSZKmOQ",
        "outputId": "be4ca794-bb94-448c-f12e-e018d052440f",
        "colab": {
          "base_uri": "https://localhost:8080/",
          "height": 319
        }
      },
      "source": [
        "# Plot result\n",
        "fig = plt.figure()\n",
        "ax = p3.Axes3D(fig)\n",
        "ax.view_init(7, -80)\n",
        "for l in np.unique(label):\n",
        "    ax.scatter(X[label == l, 0], X[label == l, 1], X[label == l, 2],\n",
        "               color=plt.cm.jet(float(l) / np.max(label + 1)),\n",
        "               s=20, edgecolor='k')\n",
        "plt.title('With connectivity constraints (time %.2fs)' % elapsed_time)\n",
        "\n",
        "plt.show()"
      ],
      "execution_count": null,
      "outputs": [
        {
          "output_type": "display_data",
          "data": {
            "image/png": "[encoded data removed]",
            "text/plain": [
              "<Figure size 432x288 with 1 Axes>"
            ]
          },
          "metadata": {
            "tags": [],
            "needs_background": "light"
          }
        }
      ]
    },
    {
      "cell_type": "markdown",
      "metadata": {
        "id": "pINARF0gU71c"
      },
      "source": [
        "# K-means Cosine create,visualize"
      ]
    },
    {
      "cell_type": "markdown",
      "metadata": {
        "id": "PDGnEhnYVAEN"
      },
      "source": [
        "ref: https://towardsdatascience.com/cluster-analysis-create-visualize-and-interpret-customer-segments-474e55d00ebb"
      ]
    },
    {
      "cell_type": "code",
      "metadata": {
        "id": "osdF83YMVRC5"
      },
      "source": [
        "X = training_inputs"
      ],
      "execution_count": null,
      "outputs": []
    },
    {
      "cell_type": "code",
      "metadata": {
        "id": "zBTHeXRKVX9M",
        "outputId": "126ddcff-295a-42ca-d8a9-fdcacd5725a0",
        "colab": {
          "base_uri": "https://localhost:8080/",
          "height": 35
        }
      },
      "source": [
        "X.shape"
      ],
      "execution_count": null,
      "outputs": [
        {
          "output_type": "execute_result",
          "data": {
            "text/plain": [
              "(139769, 33)"
            ]
          },
          "metadata": {
            "tags": []
          },
          "execution_count": 43
        }
      ]
    },
    {
      "cell_type": "code",
      "metadata": {
        "id": "yoF0o3LHU_Hs",
        "outputId": "0de51064-fcad-4a33-82ca-6731303ed506",
        "colab": {
          "base_uri": "https://localhost:8080/",
          "height": 349
        }
      },
      "source": [
        "import seaborn as sns\n",
        "import matplotlib.pyplot as plt\n",
        "from sklearn.cluster import KMeans\n",
        "from sklearn import preprocessing\n",
        "\n",
        "normalized_vectors = preprocessing.normalize(X)\n",
        "scores = [KMeans(n_clusters=i+2).fit(normalized_vectors).inertia_  \n",
        "          for i in range(10)]\n",
        "sns.lineplot(np.arange(2, 12), scores)\n",
        "plt.xlabel('Number of clusters')\n",
        "plt.ylabel(\"Inertia\")\n",
        "plt.title(\"Inertia of Cosine k-Means versus number of clusters\")\n",
        "plt.savefig(\"intertia_cosine_kmeans.jpg\", dpi=300)"
      ],
      "execution_count": null,
      "outputs": [
        {
          "output_type": "stream",
          "text": [
            "/usr/local/lib/python3.6/dist-packages/seaborn/_decorators.py:43: FutureWarning: Pass the following variables as keyword args: x, y. From version 0.12, the only valid positional argument will be `data`, and passing other arguments without an explicit keyword will result in an error or misinterpretation.\n",
            "  FutureWarning\n"
          ],
          "name": "stderr"
        },
        {
          "output_type": "display_data",
          "data": {
            "image/png": "[encoded data removed]",
            "text/plain": [
              "<Figure size 432x288 with 1 Axes>"
            ]
          },
          "metadata": {
            "tags": [],
            "needs_background": "light"
          }
        }
      ]
    },
    {
      "cell_type": "markdown",
      "metadata": {
        "id": "qrsK17U0WSYD"
      },
      "source": [
        "## silhouette score"
      ]
    },
    {
      "cell_type": "code",
      "metadata": {
        "id": "k-filcuhWRuD",
        "outputId": "d6a07b12-0066-4977-b32c-1a5588278139",
        "colab": {
          "base_uri": "https://localhost:8080/",
          "height": 35
        }
      },
      "source": [
        "from sklearn.metrics import silhouette_score\n",
        "from sklearn.cluster import DBSCAN\n",
        "\n",
        "# Prepare models\n",
        "kmeans = KMeans(n_clusters=5).fit(X)\n",
        "# Print results\n",
        "print('kmeans: {}'.format(silhouette_score(X, kmeans.labels_, \n",
        "                                           metric='euclidean')))\n",
        "\n",
        "\n"
      ],
      "execution_count": null,
      "outputs": [
        {
          "output_type": "stream",
          "text": [
            "kmeans: 0.502287553486621\n"
          ],
          "name": "stdout"
        }
      ]
    },
    {
      "cell_type": "code",
      "metadata": {
        "id": "QDQ0n92rXNUa",
        "outputId": "ad719320-aeef-4bf0-e82b-b785116ba2af",
        "colab": {
          "base_uri": "https://localhost:8080/",
          "height": 35
        }
      },
      "source": [
        "normalized_vectors = preprocessing.normalize(X)\n",
        "normalized_kmeans = KMeans(n_clusters=5).fit(normalized_vectors)\n",
        "\n",
        "print('Cosine kmeans:{}'.format(silhouette_score(normalized_vectors,\n",
        "                                          normalized_kmeans.labels_,\n",
        "                                          metric='cosine')))\n"
      ],
      "execution_count": null,
      "outputs": [
        {
          "output_type": "stream",
          "text": [
            "Cosine kmeans:0.8539456985964671\n"
          ],
          "name": "stdout"
        }
      ]
    },
    {
      "cell_type": "code",
      "metadata": {
        "id": "hYro-kMIZ8sE",
        "outputId": "7e027916-05ef-48f9-e4e5-bf83d824290c",
        "colab": {
          "base_uri": "https://localhost:8080/",
          "height": 69
        }
      },
      "source": [
        "print(min_samples)\n",
        "print(X.shape)\n",
        "dbscan.labels_"
      ],
      "execution_count": null,
      "outputs": [
        {
          "output_type": "stream",
          "text": [
            "34\n",
            "(139769, 33)\n"
          ],
          "name": "stdout"
        },
        {
          "output_type": "execute_result",
          "data": {
            "text/plain": [
              "array([-1, -1, -1, ..., -1, -1, -1])"
            ]
          },
          "metadata": {
            "tags": []
          },
          "execution_count": 60
        }
      ]
    },
    {
      "cell_type": "code",
      "metadata": {
        "id": "sVq0b0N0dDVW"
      },
      "source": [
        "\n",
        "# Data handling\n",
        "import pandas as pd\n",
        "import numpy as np\n",
        "from sklearn.preprocessing import MinMaxScaler\n",
        "\n",
        "# Clustering\n",
        "from sklearn.cluster import KMeans, DBSCAN\n",
        "from sklearn import preprocessing\n",
        "from sklearn.metrics import silhouette_score\n",
        "\n",
        "# Dimensionality reduction\n",
        "from sklearn.manifold import TSNE\n",
        "from sklearn.decomposition import PCA\n",
        "\n",
        "# Visualization\n",
        "import seaborn as sns\n",
        "import plotly.express as px\n",
        "import matplotlib.pyplot as plt\n",
        "import mpl_toolkits.mplot3d.axes3d as p3\n",
        "from matplotlib import animation\n",
        "\n",
        "%matplotlib inline \n",
        "\n",
        "def load_preprocess_data():\n",
        "    \"\"\" Load and preprocess data\n",
        "    \"\"\"\n",
        "    \n",
        "    # Load data\n",
        "    df = pd.read_csv(\"data.csv\")\n",
        "    \n",
        "    # remove empty values\n",
        "    df = df.loc[df.TotalCharges!=\" \", :]\n",
        "    df.TotalCharges = df.TotalCharges.astype(float)\n",
        "    \n",
        "    # Label data correctly\n",
        "    replace_cols = [ 'OnlineSecurity', 'OnlineBackup', 'DeviceProtection',\n",
        "                    'TechSupport','StreamingTV', 'StreamingMovies', 'Partner', 'Dependents',\n",
        "                   'PhoneService', 'MultipleLines', 'PaperlessBilling', 'Churn']\n",
        "    for i in replace_cols : \n",
        "        df.loc[:, i]  = df.loc[:, i].replace({'No internet service' : 'No', 'No phone service':'No'})\n",
        "        df.loc[:, i]  = df.loc[:, i].map({'No':0, 'Yes':1})\n",
        "    df.gender = df.gender.map({\"Female\":0, \"Male\":1})\n",
        "    \n",
        "    # One-hot encoding of variables\n",
        "    others_categorical = ['Contract', 'PaymentMethod', 'InternetService']\n",
        "    for i in others_categorical:\n",
        "        df = df.join(pd.get_dummies(df[i], prefix=i))\n",
        "    df.drop(others_categorical, axis=1, inplace=True)\n",
        "    \n",
        "    # Calculate number of services\n",
        "    services = ['PhoneService', 'MultipleLines', 'OnlineSecurity',\n",
        "            'OnlineBackup', 'DeviceProtection', 'TechSupport', 'StreamingTV',\n",
        "            'StreamingMovies', 'InternetService_DSL', 'InternetService_Fiber optic',\n",
        "            'InternetService_No']\n",
        "    df['nr_services'] = df.apply(lambda row: sum([row[x] for x in services[:-1]]), 1)\n",
        "    \n",
        "    return df.drop('customerID', 1)\n",
        "\n",
        "def plot_corr(df):\n",
        "    corr = df.corr()\n",
        "    mask = np.zeros_like(corr, dtype=np.bool)\n",
        "    mask[np.triu_indices_from(mask)] = True\n",
        "    f, ax = plt.subplots(figsize=(11, 9))\n",
        "    cmap = sns.diverging_palette(220, 10, as_cmap=True)\n",
        "    sns.heatmap(corr, mask=mask, cmap=cmap, vmax=.3, center=0,\n",
        "                square=True, linewidths=.5, cbar_kws={\"shrink\": .5})\n",
        "    \n",
        "def plot_tsne(tnse_data, kmeans_labels):\n",
        "    df_tsne = pd.DataFrame(tsne_data).rename({0: 'x', 1: 'y'}, axis=1)\n",
        "    df_tsne['z'] = kmeans_labels\n",
        "    sns.scatterplot(x=df_tsne.x, y=df_tsne.y, hue=df_tsne.z, palette=\"Set2\")\n",
        "    plt.show()\n",
        "    \n",
        "def prepare_pca(n_components, data, kmeans_labels):\n",
        "    names = ['x', 'y', 'z']\n",
        "    matrix = PCA(n_components=n_components).fit_transform(data)\n",
        "    df_matrix = pd.DataFrame(matrix)\n",
        "    df_matrix.rename({i:names[i] for i in range(n_components)}, axis=1, inplace=True)\n",
        "    df_matrix['labels'] = kmeans_labels\n",
        "    \n",
        "    return df_matrix\n",
        "\n",
        "def prepare_tsne(n_components, data, kmeans_labels):\n",
        "    names = ['x', 'y', 'z']\n",
        "    matrix = TSNE(n_components=n_components).fit_transform(data)\n",
        "    df_matrix = pd.DataFrame(matrix)\n",
        "    df_matrix.rename({i:names[i] for i in range(n_components)}, axis=1, inplace=True)\n",
        "    df_matrix['labels'] = kmeans_labels\n",
        "    \n",
        "    return df_matrix\n",
        "\n",
        "def plot_3d(df, name='labels'):\n",
        "    iris = px.data.iris()\n",
        "    fig = px.scatter_3d(df, x='x', y='y', z='z',\n",
        "                  color=name, opacity=0.5)\n",
        "    \n",
        "\n",
        "    fig.update_traces(marker=dict(size=3))\n",
        "    fig.show()\n",
        "    \n",
        "def plot_animation(df, label_column, name):\n",
        "    def update(num):\n",
        "        ax.view_init(200, num)\n",
        "\n",
        "    N=360\n",
        "    fig = plt.figure()\n",
        "    ax = fig.add_subplot(111, projection='3d')\n",
        "    ax.scatter(tsne_3d_df['x'], tsne_3d_df['y'], tsne_3d_df['z'], c=tsne_3d_df[label_column],\n",
        "               s=6, depthshade=True, cmap='Paired')\n",
        "    ax.set_zlim(-15, 25)\n",
        "    ax.set_xlim(-20, 20)\n",
        "    plt.tight_layout()\n",
        "    ani = animation.FuncAnimation(fig, update, N, blit=False, interval=50)\n",
        "    ani.save('{}.gif'.format(name), writer='imagemagick')\n",
        "    plt.show()"
      ],
      "execution_count": null,
      "outputs": []
    },
    {
      "cell_type": "code",
      "metadata": {
        "id": "8aOp9wa3cQ4d",
        "outputId": "4c14b36a-a903-4ce3-bbfd-5c355df9cfa6",
        "colab": {
          "base_uri": "https://localhost:8080/",
          "height": 296
        }
      },
      "source": [
        "pca_df = prepare_pca(2, X, normalized_kmeans.labels_)\n",
        "sns.scatterplot(x=pca_df.x, y=pca_df.y, hue=pca_df.labels, \n",
        "                palette=\"Set2\")"
      ],
      "execution_count": null,
      "outputs": [
        {
          "output_type": "execute_result",
          "data": {
            "text/plain": [
              "<matplotlib.axes._subplots.AxesSubplot at 0x7fc79e1576a0>"
            ]
          },
          "metadata": {
            "tags": []
          },
          "execution_count": 64
        },
        {
          "output_type": "display_data",
          "data": {
            "image/png": "[encoded data removed]",
            "text/plain": [
              "<Figure size 432x288 with 1 Axes>"
            ]
          },
          "metadata": {
            "tags": [],
            "needs_background": "light"
          }
        }
      ]
    },
    {
      "cell_type": "code",
      "metadata": {
        "id": "2DQ_qAtkvMiu",
        "outputId": "74efe9f9-abff-4811-b014-b2dec0128c65",
        "colab": {
          "base_uri": "https://localhost:8080/",
          "height": 104
        }
      },
      "source": [
        "for label in pca_df.labels.unique():\n",
        "  print(\"label\", label, \"  shape\",pca_df[pca_df.labels == label].shape)"
      ],
      "execution_count": null,
      "outputs": [
        {
          "output_type": "stream",
          "text": [
            "label 0   shape (116731, 3)\n",
            "label 3   shape (21589, 3)\n",
            "label 2   shape (574, 3)\n",
            "label 1   shape (287, 3)\n",
            "label 4   shape (588, 3)\n"
          ],
          "name": "stdout"
        }
      ]
    },
    {
      "cell_type": "code",
      "metadata": {
        "id": "pEpJIcw6v_Um",
        "outputId": "6fa7946e-795b-4c90-aad3-f0bef8dc59c5",
        "colab": {
          "base_uri": "https://localhost:8080/",
          "height": 52
        }
      },
      "source": [
        "\n",
        "print(X.shape)\n",
        "maryland_sd_inertia_6states_filtered.shape"
      ],
      "execution_count": null,
      "outputs": [
        {
          "output_type": "stream",
          "text": [
            "(139769, 33)\n"
          ],
          "name": "stdout"
        },
        {
          "output_type": "execute_result",
          "data": {
            "text/plain": [
              "(139769, 45)"
            ]
          },
          "metadata": {
            "tags": []
          },
          "execution_count": 71
        }
      ]
    },
    {
      "cell_type": "code",
      "metadata": {
        "id": "AHukQXoIwNMO",
        "outputId": "2ce60f0e-4c50-4b6c-f6b1-a678ecfe7f83",
        "colab": {
          "base_uri": "https://localhost:8080/",
          "height": 370
        }
      },
      "source": [
        "maryland_sd_inertia_6states_filtered['cluster_label'] = pca_df.labels.to_list()\n",
        "maryland_sd_inertia_6states_filtered.head(2)"
      ],
      "execution_count": null,
      "outputs": [
        {
          "output_type": "stream",
          "text": [
            "/usr/local/lib/python3.6/dist-packages/ipykernel_launcher.py:1: SettingWithCopyWarning:\n",
            "\n",
            "\n",
            "A value is trying to be set on a copy of a slice from a DataFrame.\n",
            "Try using .loc[row_indexer,col_indexer] = value instead\n",
            "\n",
            "See the caveats in the documentation: https://pandas.pydata.org/pandas-docs/stable/user_guide/indexing.html#returning-a-view-versus-a-copy\n",
            "\n"
          ],
          "name": "stderr"
        },
        {
          "output_type": "execute_result",
          "data": {
            "text/html": [
              "<div>\n",
              "<style scoped>\n",
              "    .dataframe tbody tr th:only-of-type {\n",
              "        vertical-align: middle;\n",
              "    }\n",
              "\n",
              "    .dataframe tbody tr th {\n",
              "        vertical-align: top;\n",
              "    }\n",
              "\n",
              "    .dataframe thead th {\n",
              "        text-align: right;\n",
              "    }\n",
              "</style>\n",
              "<table border=\"1\" class=\"dataframe\">\n",
              "  <thead>\n",
              "    <tr style=\"text-align: right;\">\n",
              "      <th></th>\n",
              "      <th>State</th>\n",
              "      <th>Postal Code</th>\n",
              "      <th>STFIPS</th>\n",
              "      <th>CTFIPS</th>\n",
              "      <th>CTNAME</th>\n",
              "      <th>Social distancing index</th>\n",
              "      <th>% staying home</th>\n",
              "      <th>Trips/person</th>\n",
              "      <th>% out-of-county trips</th>\n",
              "      <th>% out-of-state trips</th>\n",
              "      <th>Miles/person</th>\n",
              "      <th>Work trips/person</th>\n",
              "      <th>Non-work trips/person</th>\n",
              "      <th>New COVID cases</th>\n",
              "      <th>Population</th>\n",
              "      <th>% change in consumption</th>\n",
              "      <th>date</th>\n",
              "      <th>Transit mode share</th>\n",
              "      <th>% people older than 60</th>\n",
              "      <th>Median income</th>\n",
              "      <th>% African Americans</th>\n",
              "      <th>% Hispanic Americans</th>\n",
              "      <th>% Male</th>\n",
              "      <th>Population density</th>\n",
              "      <th>Employment density</th>\n",
              "      <th># hot spots/1000 people</th>\n",
              "      <th>Hospital beds/1000 people</th>\n",
              "      <th>ICUs/1000 people</th>\n",
              "      <th># contact tracing workers/1000 people</th>\n",
              "      <th>New cases/1000 people</th>\n",
              "      <th>Active cases/1000 people</th>\n",
              "      <th>#days: decreasing COVID cases</th>\n",
              "      <th>% hospital bed utilization</th>\n",
              "      <th>Testing capacity</th>\n",
              "      <th>Tests done/1000 people</th>\n",
              "      <th>% ICU utilization</th>\n",
              "      <th>Ventilator shortage</th>\n",
              "      <th>Imported COVID cases</th>\n",
              "      <th>COVID exposure/1000 people</th>\n",
              "      <th>#days: decreasing ILI cases</th>\n",
              "      <th>Unemployment claims/1000 people</th>\n",
              "      <th>Unemployment rate</th>\n",
              "      <th>% working from home</th>\n",
              "      <th>Cumulative inflation rate</th>\n",
              "      <th>COVID death rate</th>\n",
              "      <th>cluster_label</th>\n",
              "    </tr>\n",
              "  </thead>\n",
              "  <tbody>\n",
              "    <tr>\n",
              "      <th>226156</th>\n",
              "      <td>Iowa</td>\n",
              "      <td>IA</td>\n",
              "      <td>19</td>\n",
              "      <td>19001</td>\n",
              "      <td>Adair County</td>\n",
              "      <td>51</td>\n",
              "      <td>31</td>\n",
              "      <td>2.39</td>\n",
              "      <td>59.9</td>\n",
              "      <td>15.9</td>\n",
              "      <td>44.7</td>\n",
              "      <td>0.21</td>\n",
              "      <td>2.18</td>\n",
              "      <td>0</td>\n",
              "      <td>7063</td>\n",
              "      <td>-26.9</td>\n",
              "      <td>2020-01-01</td>\n",
              "      <td>0.34</td>\n",
              "      <td>31</td>\n",
              "      <td>51859</td>\n",
              "      <td>0.4</td>\n",
              "      <td>1.9</td>\n",
              "      <td>49.35</td>\n",
              "      <td>12</td>\n",
              "      <td>5</td>\n",
              "      <td>169</td>\n",
              "      <td>3.69</td>\n",
              "      <td>0.26</td>\n",
              "      <td>0.011</td>\n",
              "      <td>0.0</td>\n",
              "      <td>0.0</td>\n",
              "      <td>0</td>\n",
              "      <td>30.0</td>\n",
              "      <td>0.0</td>\n",
              "      <td>0.0</td>\n",
              "      <td>0.0</td>\n",
              "      <td>0</td>\n",
              "      <td>0</td>\n",
              "      <td>0.0</td>\n",
              "      <td>0</td>\n",
              "      <td>1.6</td>\n",
              "      <td>2.8</td>\n",
              "      <td>4.8</td>\n",
              "      <td>0.2</td>\n",
              "      <td>0.0</td>\n",
              "      <td>0</td>\n",
              "    </tr>\n",
              "    <tr>\n",
              "      <th>226157</th>\n",
              "      <td>Iowa</td>\n",
              "      <td>IA</td>\n",
              "      <td>19</td>\n",
              "      <td>19001</td>\n",
              "      <td>Adair County</td>\n",
              "      <td>15</td>\n",
              "      <td>18</td>\n",
              "      <td>3.68</td>\n",
              "      <td>55.5</td>\n",
              "      <td>12.0</td>\n",
              "      <td>72.5</td>\n",
              "      <td>0.37</td>\n",
              "      <td>3.31</td>\n",
              "      <td>0</td>\n",
              "      <td>7063</td>\n",
              "      <td>11.0</td>\n",
              "      <td>2020-01-02</td>\n",
              "      <td>0.34</td>\n",
              "      <td>31</td>\n",
              "      <td>51859</td>\n",
              "      <td>0.4</td>\n",
              "      <td>1.9</td>\n",
              "      <td>49.35</td>\n",
              "      <td>12</td>\n",
              "      <td>5</td>\n",
              "      <td>169</td>\n",
              "      <td>3.69</td>\n",
              "      <td>0.26</td>\n",
              "      <td>0.011</td>\n",
              "      <td>0.0</td>\n",
              "      <td>0.0</td>\n",
              "      <td>0</td>\n",
              "      <td>30.0</td>\n",
              "      <td>0.0</td>\n",
              "      <td>0.0</td>\n",
              "      <td>0.0</td>\n",
              "      <td>0</td>\n",
              "      <td>0</td>\n",
              "      <td>0.0</td>\n",
              "      <td>0</td>\n",
              "      <td>1.6</td>\n",
              "      <td>2.8</td>\n",
              "      <td>4.8</td>\n",
              "      <td>0.2</td>\n",
              "      <td>0.0</td>\n",
              "      <td>0</td>\n",
              "    </tr>\n",
              "  </tbody>\n",
              "</table>\n",
              "</div>"
            ],
            "text/plain": [
              "       State Postal Code  ...  COVID death rate  cluster_label\n",
              "226156  Iowa          IA  ...               0.0              0\n",
              "226157  Iowa          IA  ...               0.0              0\n",
              "\n",
              "[2 rows x 46 columns]"
            ]
          },
          "metadata": {
            "tags": []
          },
          "execution_count": 75
        }
      ]
    },
    {
      "cell_type": "code",
      "metadata": {
        "id": "KLfvbccvwiZe",
        "outputId": "ea825d78-6c76-47e2-c42b-5b57d0351c57",
        "colab": {
          "base_uri": "https://localhost:8080/",
          "height": 35
        }
      },
      "source": [
        "from datetime import datetime\n",
        "location = '/content/drive/Shared drives/CMPE 295- Master Project/Covid19-data/Maryland_Inertia_Data/'\n",
        "filename = 'Maryland_inertia_clusterlabeled_'+datetime.now().strftime(\"%b%d\")+'.csv' #%Y%m%d\n",
        "print(filename)\n",
        "maryland_sd_inertia_6states_filtered.to_csv(location+filename,index=False)"
      ],
      "execution_count": null,
      "outputs": [
        {
          "output_type": "stream",
          "text": [
            "Maryland_inertia_clusterlabeled_Oct20.csv\n"
          ],
          "name": "stdout"
        }
      ]
    },
    {
      "cell_type": "markdown",
      "metadata": {
        "id": "6pe1izpIJXLI"
      },
      "source": [
        "# Cluster Result Analysis"
      ]
    },
    {
      "cell_type": "code",
      "metadata": {
        "id": "VXnYZnH4Jhfs",
        "outputId": "a8080b3f-d356-464a-a775-8210a42a1db7",
        "colab": {
          "base_uri": "https://localhost:8080/",
          "height": 227
        }
      },
      "source": [
        "maryland_sd_inertia_6states_filtered = pd.read_csv('/content/drive/Shared drives/CMPE 295- Master Project/Covid19-data/Maryland_Inertia_Data/Maryland_inertia_clusterlabeled_Oct20.csv',low_memory=False)\n",
        "maryland_sd_inertia_6states_filtered.head(2)"
      ],
      "execution_count": 17,
      "outputs": [
        {
          "output_type": "execute_result",
          "data": {
            "text/html": [
              "<div>\n",
              "<style scoped>\n",
              "    .dataframe tbody tr th:only-of-type {\n",
              "        vertical-align: middle;\n",
              "    }\n",
              "\n",
              "    .dataframe tbody tr th {\n",
              "        vertical-align: top;\n",
              "    }\n",
              "\n",
              "    .dataframe thead th {\n",
              "        text-align: right;\n",
              "    }\n",
              "</style>\n",
              "<table border=\"1\" class=\"dataframe\">\n",
              "  <thead>\n",
              "    <tr style=\"text-align: right;\">\n",
              "      <th></th>\n",
              "      <th>State</th>\n",
              "      <th>Postal Code</th>\n",
              "      <th>STFIPS</th>\n",
              "      <th>CTFIPS</th>\n",
              "      <th>CTNAME</th>\n",
              "      <th>Social distancing index</th>\n",
              "      <th>% staying home</th>\n",
              "      <th>Trips/person</th>\n",
              "      <th>% out-of-county trips</th>\n",
              "      <th>% out-of-state trips</th>\n",
              "      <th>Miles/person</th>\n",
              "      <th>Work trips/person</th>\n",
              "      <th>Non-work trips/person</th>\n",
              "      <th>New COVID cases</th>\n",
              "      <th>Population</th>\n",
              "      <th>% change in consumption</th>\n",
              "      <th>date</th>\n",
              "      <th>Transit mode share</th>\n",
              "      <th>% people older than 60</th>\n",
              "      <th>Median income</th>\n",
              "      <th>% African Americans</th>\n",
              "      <th>% Hispanic Americans</th>\n",
              "      <th>% Male</th>\n",
              "      <th>Population density</th>\n",
              "      <th>Employment density</th>\n",
              "      <th># hot spots/1000 people</th>\n",
              "      <th>Hospital beds/1000 people</th>\n",
              "      <th>ICUs/1000 people</th>\n",
              "      <th># contact tracing workers/1000 people</th>\n",
              "      <th>New cases/1000 people</th>\n",
              "      <th>Active cases/1000 people</th>\n",
              "      <th>#days: decreasing COVID cases</th>\n",
              "      <th>% hospital bed utilization</th>\n",
              "      <th>Testing capacity</th>\n",
              "      <th>Tests done/1000 people</th>\n",
              "      <th>% ICU utilization</th>\n",
              "      <th>Ventilator shortage</th>\n",
              "      <th>Imported COVID cases</th>\n",
              "      <th>COVID exposure/1000 people</th>\n",
              "      <th>#days: decreasing ILI cases</th>\n",
              "      <th>Unemployment claims/1000 people</th>\n",
              "      <th>Unemployment rate</th>\n",
              "      <th>% working from home</th>\n",
              "      <th>Cumulative inflation rate</th>\n",
              "      <th>COVID death rate</th>\n",
              "      <th>cluster_label</th>\n",
              "    </tr>\n",
              "  </thead>\n",
              "  <tbody>\n",
              "    <tr>\n",
              "      <th>0</th>\n",
              "      <td>Iowa</td>\n",
              "      <td>IA</td>\n",
              "      <td>19</td>\n",
              "      <td>19001</td>\n",
              "      <td>Adair County</td>\n",
              "      <td>51</td>\n",
              "      <td>31</td>\n",
              "      <td>2.39</td>\n",
              "      <td>59.9</td>\n",
              "      <td>15.9</td>\n",
              "      <td>44.7</td>\n",
              "      <td>0.21</td>\n",
              "      <td>2.18</td>\n",
              "      <td>0</td>\n",
              "      <td>7063</td>\n",
              "      <td>-26.9</td>\n",
              "      <td>2020-01-01</td>\n",
              "      <td>0.34</td>\n",
              "      <td>31</td>\n",
              "      <td>51859</td>\n",
              "      <td>0.4</td>\n",
              "      <td>1.9</td>\n",
              "      <td>49.35</td>\n",
              "      <td>12</td>\n",
              "      <td>5</td>\n",
              "      <td>169</td>\n",
              "      <td>3.69</td>\n",
              "      <td>0.26</td>\n",
              "      <td>0.011</td>\n",
              "      <td>0.0</td>\n",
              "      <td>0.0</td>\n",
              "      <td>0</td>\n",
              "      <td>30.0</td>\n",
              "      <td>0.0</td>\n",
              "      <td>0.0</td>\n",
              "      <td>0.0</td>\n",
              "      <td>0</td>\n",
              "      <td>0</td>\n",
              "      <td>0.0</td>\n",
              "      <td>0</td>\n",
              "      <td>1.6</td>\n",
              "      <td>2.8</td>\n",
              "      <td>4.8</td>\n",
              "      <td>0.2</td>\n",
              "      <td>0.0</td>\n",
              "      <td>0</td>\n",
              "    </tr>\n",
              "    <tr>\n",
              "      <th>1</th>\n",
              "      <td>Iowa</td>\n",
              "      <td>IA</td>\n",
              "      <td>19</td>\n",
              "      <td>19001</td>\n",
              "      <td>Adair County</td>\n",
              "      <td>15</td>\n",
              "      <td>18</td>\n",
              "      <td>3.68</td>\n",
              "      <td>55.5</td>\n",
              "      <td>12.0</td>\n",
              "      <td>72.5</td>\n",
              "      <td>0.37</td>\n",
              "      <td>3.31</td>\n",
              "      <td>0</td>\n",
              "      <td>7063</td>\n",
              "      <td>11.0</td>\n",
              "      <td>2020-01-02</td>\n",
              "      <td>0.34</td>\n",
              "      <td>31</td>\n",
              "      <td>51859</td>\n",
              "      <td>0.4</td>\n",
              "      <td>1.9</td>\n",
              "      <td>49.35</td>\n",
              "      <td>12</td>\n",
              "      <td>5</td>\n",
              "      <td>169</td>\n",
              "      <td>3.69</td>\n",
              "      <td>0.26</td>\n",
              "      <td>0.011</td>\n",
              "      <td>0.0</td>\n",
              "      <td>0.0</td>\n",
              "      <td>0</td>\n",
              "      <td>30.0</td>\n",
              "      <td>0.0</td>\n",
              "      <td>0.0</td>\n",
              "      <td>0.0</td>\n",
              "      <td>0</td>\n",
              "      <td>0</td>\n",
              "      <td>0.0</td>\n",
              "      <td>0</td>\n",
              "      <td>1.6</td>\n",
              "      <td>2.8</td>\n",
              "      <td>4.8</td>\n",
              "      <td>0.2</td>\n",
              "      <td>0.0</td>\n",
              "      <td>0</td>\n",
              "    </tr>\n",
              "  </tbody>\n",
              "</table>\n",
              "</div>"
            ],
            "text/plain": [
              "  State Postal Code  ...  COVID death rate  cluster_label\n",
              "0  Iowa          IA  ...               0.0              0\n",
              "1  Iowa          IA  ...               0.0              0\n",
              "\n",
              "[2 rows x 46 columns]"
            ]
          },
          "metadata": {
            "tags": []
          },
          "execution_count": 17
        }
      ]
    },
    {
      "cell_type": "code",
      "metadata": {
        "id": "SydBgg60J87P",
        "outputId": "466fea41-6ffe-4ebb-f7f1-5f64e2259c20",
        "colab": {
          "base_uri": "https://localhost:8080/",
          "height": 227
        }
      },
      "source": [
        "maryland_sd_inertia_6states_filtered.head(2)"
      ],
      "execution_count": 18,
      "outputs": [
        {
          "output_type": "execute_result",
          "data": {
            "text/html": [
              "<div>\n",
              "<style scoped>\n",
              "    .dataframe tbody tr th:only-of-type {\n",
              "        vertical-align: middle;\n",
              "    }\n",
              "\n",
              "    .dataframe tbody tr th {\n",
              "        vertical-align: top;\n",
              "    }\n",
              "\n",
              "    .dataframe thead th {\n",
              "        text-align: right;\n",
              "    }\n",
              "</style>\n",
              "<table border=\"1\" class=\"dataframe\">\n",
              "  <thead>\n",
              "    <tr style=\"text-align: right;\">\n",
              "      <th></th>\n",
              "      <th>State</th>\n",
              "      <th>Postal Code</th>\n",
              "      <th>STFIPS</th>\n",
              "      <th>CTFIPS</th>\n",
              "      <th>CTNAME</th>\n",
              "      <th>Social distancing index</th>\n",
              "      <th>% staying home</th>\n",
              "      <th>Trips/person</th>\n",
              "      <th>% out-of-county trips</th>\n",
              "      <th>% out-of-state trips</th>\n",
              "      <th>Miles/person</th>\n",
              "      <th>Work trips/person</th>\n",
              "      <th>Non-work trips/person</th>\n",
              "      <th>New COVID cases</th>\n",
              "      <th>Population</th>\n",
              "      <th>% change in consumption</th>\n",
              "      <th>date</th>\n",
              "      <th>Transit mode share</th>\n",
              "      <th>% people older than 60</th>\n",
              "      <th>Median income</th>\n",
              "      <th>% African Americans</th>\n",
              "      <th>% Hispanic Americans</th>\n",
              "      <th>% Male</th>\n",
              "      <th>Population density</th>\n",
              "      <th>Employment density</th>\n",
              "      <th># hot spots/1000 people</th>\n",
              "      <th>Hospital beds/1000 people</th>\n",
              "      <th>ICUs/1000 people</th>\n",
              "      <th># contact tracing workers/1000 people</th>\n",
              "      <th>New cases/1000 people</th>\n",
              "      <th>Active cases/1000 people</th>\n",
              "      <th>#days: decreasing COVID cases</th>\n",
              "      <th>% hospital bed utilization</th>\n",
              "      <th>Testing capacity</th>\n",
              "      <th>Tests done/1000 people</th>\n",
              "      <th>% ICU utilization</th>\n",
              "      <th>Ventilator shortage</th>\n",
              "      <th>Imported COVID cases</th>\n",
              "      <th>COVID exposure/1000 people</th>\n",
              "      <th>#days: decreasing ILI cases</th>\n",
              "      <th>Unemployment claims/1000 people</th>\n",
              "      <th>Unemployment rate</th>\n",
              "      <th>% working from home</th>\n",
              "      <th>Cumulative inflation rate</th>\n",
              "      <th>COVID death rate</th>\n",
              "      <th>cluster_label</th>\n",
              "    </tr>\n",
              "  </thead>\n",
              "  <tbody>\n",
              "    <tr>\n",
              "      <th>0</th>\n",
              "      <td>Iowa</td>\n",
              "      <td>IA</td>\n",
              "      <td>19</td>\n",
              "      <td>19001</td>\n",
              "      <td>Adair County</td>\n",
              "      <td>51</td>\n",
              "      <td>31</td>\n",
              "      <td>2.39</td>\n",
              "      <td>59.9</td>\n",
              "      <td>15.9</td>\n",
              "      <td>44.7</td>\n",
              "      <td>0.21</td>\n",
              "      <td>2.18</td>\n",
              "      <td>0</td>\n",
              "      <td>7063</td>\n",
              "      <td>-26.9</td>\n",
              "      <td>2020-01-01</td>\n",
              "      <td>0.34</td>\n",
              "      <td>31</td>\n",
              "      <td>51859</td>\n",
              "      <td>0.4</td>\n",
              "      <td>1.9</td>\n",
              "      <td>49.35</td>\n",
              "      <td>12</td>\n",
              "      <td>5</td>\n",
              "      <td>169</td>\n",
              "      <td>3.69</td>\n",
              "      <td>0.26</td>\n",
              "      <td>0.011</td>\n",
              "      <td>0.0</td>\n",
              "      <td>0.0</td>\n",
              "      <td>0</td>\n",
              "      <td>30.0</td>\n",
              "      <td>0.0</td>\n",
              "      <td>0.0</td>\n",
              "      <td>0.0</td>\n",
              "      <td>0</td>\n",
              "      <td>0</td>\n",
              "      <td>0.0</td>\n",
              "      <td>0</td>\n",
              "      <td>1.6</td>\n",
              "      <td>2.8</td>\n",
              "      <td>4.8</td>\n",
              "      <td>0.2</td>\n",
              "      <td>0.0</td>\n",
              "      <td>0</td>\n",
              "    </tr>\n",
              "    <tr>\n",
              "      <th>1</th>\n",
              "      <td>Iowa</td>\n",
              "      <td>IA</td>\n",
              "      <td>19</td>\n",
              "      <td>19001</td>\n",
              "      <td>Adair County</td>\n",
              "      <td>15</td>\n",
              "      <td>18</td>\n",
              "      <td>3.68</td>\n",
              "      <td>55.5</td>\n",
              "      <td>12.0</td>\n",
              "      <td>72.5</td>\n",
              "      <td>0.37</td>\n",
              "      <td>3.31</td>\n",
              "      <td>0</td>\n",
              "      <td>7063</td>\n",
              "      <td>11.0</td>\n",
              "      <td>2020-01-02</td>\n",
              "      <td>0.34</td>\n",
              "      <td>31</td>\n",
              "      <td>51859</td>\n",
              "      <td>0.4</td>\n",
              "      <td>1.9</td>\n",
              "      <td>49.35</td>\n",
              "      <td>12</td>\n",
              "      <td>5</td>\n",
              "      <td>169</td>\n",
              "      <td>3.69</td>\n",
              "      <td>0.26</td>\n",
              "      <td>0.011</td>\n",
              "      <td>0.0</td>\n",
              "      <td>0.0</td>\n",
              "      <td>0</td>\n",
              "      <td>30.0</td>\n",
              "      <td>0.0</td>\n",
              "      <td>0.0</td>\n",
              "      <td>0.0</td>\n",
              "      <td>0</td>\n",
              "      <td>0</td>\n",
              "      <td>0.0</td>\n",
              "      <td>0</td>\n",
              "      <td>1.6</td>\n",
              "      <td>2.8</td>\n",
              "      <td>4.8</td>\n",
              "      <td>0.2</td>\n",
              "      <td>0.0</td>\n",
              "      <td>0</td>\n",
              "    </tr>\n",
              "  </tbody>\n",
              "</table>\n",
              "</div>"
            ],
            "text/plain": [
              "  State Postal Code  ...  COVID death rate  cluster_label\n",
              "0  Iowa          IA  ...               0.0              0\n",
              "1  Iowa          IA  ...               0.0              0\n",
              "\n",
              "[2 rows x 46 columns]"
            ]
          },
          "metadata": {
            "tags": []
          },
          "execution_count": 18
        }
      ]
    },
    {
      "cell_type": "markdown",
      "metadata": {
        "id": "nddLV7usPXep"
      },
      "source": [
        "## Cluster -1\n",
        "\n",
        "From analysis: Here one county is forming a cluster. That county is 'New York County'"
      ]
    },
    {
      "cell_type": "code",
      "metadata": {
        "id": "r-Vio5ioPfyX",
        "outputId": "df235b37-5f29-4c3b-9098-8f7e04e72c69",
        "colab": {
          "base_uri": "https://localhost:8080/",
          "height": 34
        }
      },
      "source": [
        "maryland_sd_inertia_6states_filtered[maryland_sd_inertia_6states_filtered['cluster_label'] == 1]['New cases/1000 people'].shape"
      ],
      "execution_count": 24,
      "outputs": [
        {
          "output_type": "execute_result",
          "data": {
            "text/plain": [
              "(287,)"
            ]
          },
          "metadata": {
            "tags": []
          },
          "execution_count": 24
        }
      ]
    },
    {
      "cell_type": "code",
      "metadata": {
        "id": "Tf-7UZvdxOXz",
        "outputId": "0b4b9c2e-4aad-4262-d4a8-0192e89647cb",
        "colab": {
          "base_uri": "https://localhost:8080/",
          "height": 825
        }
      },
      "source": [
        "cluster_1= maryland_sd_inertia_6states_filtered[maryland_sd_inertia_6states_filtered['cluster_label'] == 1]\n",
        "cluster_1.reset_index(drop=True)"
      ],
      "execution_count": 36,
      "outputs": [
        {
          "output_type": "execute_result",
          "data": {
            "text/html": [
              "<div>\n",
              "<style scoped>\n",
              "    .dataframe tbody tr th:only-of-type {\n",
              "        vertical-align: middle;\n",
              "    }\n",
              "\n",
              "    .dataframe tbody tr th {\n",
              "        vertical-align: top;\n",
              "    }\n",
              "\n",
              "    .dataframe thead th {\n",
              "        text-align: right;\n",
              "    }\n",
              "</style>\n",
              "<table border=\"1\" class=\"dataframe\">\n",
              "  <thead>\n",
              "    <tr style=\"text-align: right;\">\n",
              "      <th></th>\n",
              "      <th>State</th>\n",
              "      <th>Postal Code</th>\n",
              "      <th>STFIPS</th>\n",
              "      <th>CTFIPS</th>\n",
              "      <th>CTNAME</th>\n",
              "      <th>Social distancing index</th>\n",
              "      <th>% staying home</th>\n",
              "      <th>Trips/person</th>\n",
              "      <th>% out-of-county trips</th>\n",
              "      <th>% out-of-state trips</th>\n",
              "      <th>Miles/person</th>\n",
              "      <th>Work trips/person</th>\n",
              "      <th>Non-work trips/person</th>\n",
              "      <th>New COVID cases</th>\n",
              "      <th>Population</th>\n",
              "      <th>% change in consumption</th>\n",
              "      <th>date</th>\n",
              "      <th>Transit mode share</th>\n",
              "      <th>% people older than 60</th>\n",
              "      <th>Median income</th>\n",
              "      <th>% African Americans</th>\n",
              "      <th>% Hispanic Americans</th>\n",
              "      <th>% Male</th>\n",
              "      <th>Population density</th>\n",
              "      <th>Employment density</th>\n",
              "      <th># hot spots/1000 people</th>\n",
              "      <th>Hospital beds/1000 people</th>\n",
              "      <th>ICUs/1000 people</th>\n",
              "      <th># contact tracing workers/1000 people</th>\n",
              "      <th>New cases/1000 people</th>\n",
              "      <th>Active cases/1000 people</th>\n",
              "      <th>#days: decreasing COVID cases</th>\n",
              "      <th>% hospital bed utilization</th>\n",
              "      <th>Testing capacity</th>\n",
              "      <th>Tests done/1000 people</th>\n",
              "      <th>% ICU utilization</th>\n",
              "      <th>Ventilator shortage</th>\n",
              "      <th>Imported COVID cases</th>\n",
              "      <th>COVID exposure/1000 people</th>\n",
              "      <th>#days: decreasing ILI cases</th>\n",
              "      <th>Unemployment claims/1000 people</th>\n",
              "      <th>Unemployment rate</th>\n",
              "      <th>% working from home</th>\n",
              "      <th>Cumulative inflation rate</th>\n",
              "      <th>COVID death rate</th>\n",
              "      <th>cluster_label</th>\n",
              "    </tr>\n",
              "  </thead>\n",
              "  <tbody>\n",
              "    <tr>\n",
              "      <th>0</th>\n",
              "      <td>New York</td>\n",
              "      <td>NY</td>\n",
              "      <td>36</td>\n",
              "      <td>36061</td>\n",
              "      <td>New York County</td>\n",
              "      <td>59</td>\n",
              "      <td>49</td>\n",
              "      <td>2.13</td>\n",
              "      <td>53.3</td>\n",
              "      <td>16.5</td>\n",
              "      <td>36.3</td>\n",
              "      <td>0.30</td>\n",
              "      <td>1.83</td>\n",
              "      <td>0</td>\n",
              "      <td>1628701</td>\n",
              "      <td>-19.9</td>\n",
              "      <td>2020-01-01</td>\n",
              "      <td>59.3</td>\n",
              "      <td>21</td>\n",
              "      <td>82459</td>\n",
              "      <td>12.5</td>\n",
              "      <td>26.0</td>\n",
              "      <td>47.3</td>\n",
              "      <td>48341</td>\n",
              "      <td>67846</td>\n",
              "      <td>311</td>\n",
              "      <td>2.74</td>\n",
              "      <td>0.22</td>\n",
              "      <td>0.029</td>\n",
              "      <td>0.0000</td>\n",
              "      <td>0.00</td>\n",
              "      <td>0</td>\n",
              "      <td>63.500000</td>\n",
              "      <td>0.0</td>\n",
              "      <td>0.00</td>\n",
              "      <td>0.00</td>\n",
              "      <td>0</td>\n",
              "      <td>0</td>\n",
              "      <td>0.00</td>\n",
              "      <td>0</td>\n",
              "      <td>2.3</td>\n",
              "      <td>3.8</td>\n",
              "      <td>4.2</td>\n",
              "      <td>0.7</td>\n",
              "      <td>0.00</td>\n",
              "      <td>1</td>\n",
              "    </tr>\n",
              "    <tr>\n",
              "      <th>1</th>\n",
              "      <td>New York</td>\n",
              "      <td>NY</td>\n",
              "      <td>36</td>\n",
              "      <td>36061</td>\n",
              "      <td>New York County</td>\n",
              "      <td>33</td>\n",
              "      <td>39</td>\n",
              "      <td>2.88</td>\n",
              "      <td>60.6</td>\n",
              "      <td>20.0</td>\n",
              "      <td>31.3</td>\n",
              "      <td>0.56</td>\n",
              "      <td>2.32</td>\n",
              "      <td>0</td>\n",
              "      <td>1628701</td>\n",
              "      <td>1.5</td>\n",
              "      <td>2020-01-02</td>\n",
              "      <td>59.3</td>\n",
              "      <td>21</td>\n",
              "      <td>82459</td>\n",
              "      <td>12.5</td>\n",
              "      <td>26.0</td>\n",
              "      <td>47.3</td>\n",
              "      <td>48341</td>\n",
              "      <td>67846</td>\n",
              "      <td>311</td>\n",
              "      <td>2.74</td>\n",
              "      <td>0.22</td>\n",
              "      <td>0.029</td>\n",
              "      <td>0.0000</td>\n",
              "      <td>0.00</td>\n",
              "      <td>0</td>\n",
              "      <td>63.500000</td>\n",
              "      <td>0.0</td>\n",
              "      <td>0.00</td>\n",
              "      <td>0.00</td>\n",
              "      <td>0</td>\n",
              "      <td>0</td>\n",
              "      <td>0.00</td>\n",
              "      <td>0</td>\n",
              "      <td>2.3</td>\n",
              "      <td>3.8</td>\n",
              "      <td>4.2</td>\n",
              "      <td>0.7</td>\n",
              "      <td>0.00</td>\n",
              "      <td>1</td>\n",
              "    </tr>\n",
              "    <tr>\n",
              "      <th>2</th>\n",
              "      <td>New York</td>\n",
              "      <td>NY</td>\n",
              "      <td>36</td>\n",
              "      <td>36061</td>\n",
              "      <td>New York County</td>\n",
              "      <td>33</td>\n",
              "      <td>39</td>\n",
              "      <td>2.88</td>\n",
              "      <td>60.4</td>\n",
              "      <td>19.4</td>\n",
              "      <td>32.6</td>\n",
              "      <td>0.55</td>\n",
              "      <td>2.33</td>\n",
              "      <td>0</td>\n",
              "      <td>1628701</td>\n",
              "      <td>1.9</td>\n",
              "      <td>2020-01-03</td>\n",
              "      <td>59.3</td>\n",
              "      <td>21</td>\n",
              "      <td>82459</td>\n",
              "      <td>12.5</td>\n",
              "      <td>26.0</td>\n",
              "      <td>47.3</td>\n",
              "      <td>48341</td>\n",
              "      <td>67846</td>\n",
              "      <td>311</td>\n",
              "      <td>2.74</td>\n",
              "      <td>0.22</td>\n",
              "      <td>0.029</td>\n",
              "      <td>0.0000</td>\n",
              "      <td>0.00</td>\n",
              "      <td>0</td>\n",
              "      <td>63.500000</td>\n",
              "      <td>0.0</td>\n",
              "      <td>0.00</td>\n",
              "      <td>0.00</td>\n",
              "      <td>0</td>\n",
              "      <td>0</td>\n",
              "      <td>0.00</td>\n",
              "      <td>0</td>\n",
              "      <td>2.3</td>\n",
              "      <td>3.8</td>\n",
              "      <td>4.2</td>\n",
              "      <td>0.7</td>\n",
              "      <td>0.00</td>\n",
              "      <td>1</td>\n",
              "    </tr>\n",
              "    <tr>\n",
              "      <th>3</th>\n",
              "      <td>New York</td>\n",
              "      <td>NY</td>\n",
              "      <td>36</td>\n",
              "      <td>36061</td>\n",
              "      <td>New York County</td>\n",
              "      <td>50</td>\n",
              "      <td>46</td>\n",
              "      <td>2.62</td>\n",
              "      <td>51.9</td>\n",
              "      <td>14.3</td>\n",
              "      <td>34.0</td>\n",
              "      <td>0.36</td>\n",
              "      <td>2.26</td>\n",
              "      <td>0</td>\n",
              "      <td>1628701</td>\n",
              "      <td>-1.1</td>\n",
              "      <td>2020-01-04</td>\n",
              "      <td>59.3</td>\n",
              "      <td>21</td>\n",
              "      <td>82459</td>\n",
              "      <td>12.5</td>\n",
              "      <td>26.0</td>\n",
              "      <td>47.3</td>\n",
              "      <td>48341</td>\n",
              "      <td>67846</td>\n",
              "      <td>311</td>\n",
              "      <td>2.74</td>\n",
              "      <td>0.22</td>\n",
              "      <td>0.029</td>\n",
              "      <td>0.0000</td>\n",
              "      <td>0.00</td>\n",
              "      <td>0</td>\n",
              "      <td>63.500000</td>\n",
              "      <td>0.0</td>\n",
              "      <td>0.00</td>\n",
              "      <td>0.00</td>\n",
              "      <td>0</td>\n",
              "      <td>0</td>\n",
              "      <td>0.00</td>\n",
              "      <td>0</td>\n",
              "      <td>2.3</td>\n",
              "      <td>3.8</td>\n",
              "      <td>4.2</td>\n",
              "      <td>0.7</td>\n",
              "      <td>0.00</td>\n",
              "      <td>1</td>\n",
              "    </tr>\n",
              "    <tr>\n",
              "      <th>4</th>\n",
              "      <td>New York</td>\n",
              "      <td>NY</td>\n",
              "      <td>36</td>\n",
              "      <td>36061</td>\n",
              "      <td>New York County</td>\n",
              "      <td>59</td>\n",
              "      <td>51</td>\n",
              "      <td>2.30</td>\n",
              "      <td>52.6</td>\n",
              "      <td>15.1</td>\n",
              "      <td>34.4</td>\n",
              "      <td>0.34</td>\n",
              "      <td>1.96</td>\n",
              "      <td>0</td>\n",
              "      <td>1628701</td>\n",
              "      <td>-14.3</td>\n",
              "      <td>2020-01-05</td>\n",
              "      <td>59.3</td>\n",
              "      <td>21</td>\n",
              "      <td>82459</td>\n",
              "      <td>12.5</td>\n",
              "      <td>26.0</td>\n",
              "      <td>47.3</td>\n",
              "      <td>48341</td>\n",
              "      <td>67846</td>\n",
              "      <td>311</td>\n",
              "      <td>2.74</td>\n",
              "      <td>0.22</td>\n",
              "      <td>0.029</td>\n",
              "      <td>0.0000</td>\n",
              "      <td>0.00</td>\n",
              "      <td>0</td>\n",
              "      <td>63.500000</td>\n",
              "      <td>0.0</td>\n",
              "      <td>0.00</td>\n",
              "      <td>0.00</td>\n",
              "      <td>0</td>\n",
              "      <td>0</td>\n",
              "      <td>0.00</td>\n",
              "      <td>0</td>\n",
              "      <td>1.2</td>\n",
              "      <td>3.8</td>\n",
              "      <td>4.2</td>\n",
              "      <td>0.7</td>\n",
              "      <td>0.00</td>\n",
              "      <td>1</td>\n",
              "    </tr>\n",
              "    <tr>\n",
              "      <th>...</th>\n",
              "      <td>...</td>\n",
              "      <td>...</td>\n",
              "      <td>...</td>\n",
              "      <td>...</td>\n",
              "      <td>...</td>\n",
              "      <td>...</td>\n",
              "      <td>...</td>\n",
              "      <td>...</td>\n",
              "      <td>...</td>\n",
              "      <td>...</td>\n",
              "      <td>...</td>\n",
              "      <td>...</td>\n",
              "      <td>...</td>\n",
              "      <td>...</td>\n",
              "      <td>...</td>\n",
              "      <td>...</td>\n",
              "      <td>...</td>\n",
              "      <td>...</td>\n",
              "      <td>...</td>\n",
              "      <td>...</td>\n",
              "      <td>...</td>\n",
              "      <td>...</td>\n",
              "      <td>...</td>\n",
              "      <td>...</td>\n",
              "      <td>...</td>\n",
              "      <td>...</td>\n",
              "      <td>...</td>\n",
              "      <td>...</td>\n",
              "      <td>...</td>\n",
              "      <td>...</td>\n",
              "      <td>...</td>\n",
              "      <td>...</td>\n",
              "      <td>...</td>\n",
              "      <td>...</td>\n",
              "      <td>...</td>\n",
              "      <td>...</td>\n",
              "      <td>...</td>\n",
              "      <td>...</td>\n",
              "      <td>...</td>\n",
              "      <td>...</td>\n",
              "      <td>...</td>\n",
              "      <td>...</td>\n",
              "      <td>...</td>\n",
              "      <td>...</td>\n",
              "      <td>...</td>\n",
              "      <td>...</td>\n",
              "    </tr>\n",
              "    <tr>\n",
              "      <th>282</th>\n",
              "      <td>New York</td>\n",
              "      <td>NY</td>\n",
              "      <td>36</td>\n",
              "      <td>36061</td>\n",
              "      <td>New York County</td>\n",
              "      <td>75</td>\n",
              "      <td>55</td>\n",
              "      <td>2.26</td>\n",
              "      <td>54.5</td>\n",
              "      <td>15.6</td>\n",
              "      <td>24.4</td>\n",
              "      <td>0.37</td>\n",
              "      <td>1.89</td>\n",
              "      <td>73</td>\n",
              "      <td>1628701</td>\n",
              "      <td>-17.3</td>\n",
              "      <td>2020-10-09</td>\n",
              "      <td>59.3</td>\n",
              "      <td>21</td>\n",
              "      <td>82459</td>\n",
              "      <td>12.5</td>\n",
              "      <td>26.0</td>\n",
              "      <td>47.3</td>\n",
              "      <td>48341</td>\n",
              "      <td>67846</td>\n",
              "      <td>311</td>\n",
              "      <td>2.74</td>\n",
              "      <td>0.22</td>\n",
              "      <td>0.029</td>\n",
              "      <td>0.0434</td>\n",
              "      <td>1.55</td>\n",
              "      <td>0</td>\n",
              "      <td>64.944676</td>\n",
              "      <td>4.0</td>\n",
              "      <td>603.14</td>\n",
              "      <td>3.91</td>\n",
              "      <td>86</td>\n",
              "      <td>2482</td>\n",
              "      <td>18.08</td>\n",
              "      <td>196</td>\n",
              "      <td>3.4</td>\n",
              "      <td>18.6</td>\n",
              "      <td>22.4</td>\n",
              "      <td>1.3</td>\n",
              "      <td>9.42</td>\n",
              "      <td>1</td>\n",
              "    </tr>\n",
              "    <tr>\n",
              "      <th>283</th>\n",
              "      <td>New York</td>\n",
              "      <td>NY</td>\n",
              "      <td>36</td>\n",
              "      <td>36061</td>\n",
              "      <td>New York County</td>\n",
              "      <td>75</td>\n",
              "      <td>54</td>\n",
              "      <td>2.39</td>\n",
              "      <td>49.4</td>\n",
              "      <td>13.9</td>\n",
              "      <td>27.4</td>\n",
              "      <td>0.31</td>\n",
              "      <td>2.08</td>\n",
              "      <td>79</td>\n",
              "      <td>1628701</td>\n",
              "      <td>-9.0</td>\n",
              "      <td>2020-10-10</td>\n",
              "      <td>59.3</td>\n",
              "      <td>21</td>\n",
              "      <td>82459</td>\n",
              "      <td>12.5</td>\n",
              "      <td>26.0</td>\n",
              "      <td>47.3</td>\n",
              "      <td>48341</td>\n",
              "      <td>67846</td>\n",
              "      <td>311</td>\n",
              "      <td>2.74</td>\n",
              "      <td>0.22</td>\n",
              "      <td>0.029</td>\n",
              "      <td>0.0501</td>\n",
              "      <td>1.58</td>\n",
              "      <td>0</td>\n",
              "      <td>64.968286</td>\n",
              "      <td>4.0</td>\n",
              "      <td>610.03</td>\n",
              "      <td>4.16</td>\n",
              "      <td>88</td>\n",
              "      <td>2200</td>\n",
              "      <td>18.08</td>\n",
              "      <td>196</td>\n",
              "      <td>3.4</td>\n",
              "      <td>18.6</td>\n",
              "      <td>22.4</td>\n",
              "      <td>1.3</td>\n",
              "      <td>9.42</td>\n",
              "      <td>1</td>\n",
              "    </tr>\n",
              "    <tr>\n",
              "      <th>284</th>\n",
              "      <td>New York</td>\n",
              "      <td>NY</td>\n",
              "      <td>36</td>\n",
              "      <td>36061</td>\n",
              "      <td>New York County</td>\n",
              "      <td>68</td>\n",
              "      <td>59</td>\n",
              "      <td>2.14</td>\n",
              "      <td>49.2</td>\n",
              "      <td>13.7</td>\n",
              "      <td>28.3</td>\n",
              "      <td>0.37</td>\n",
              "      <td>1.76</td>\n",
              "      <td>46</td>\n",
              "      <td>1628701</td>\n",
              "      <td>-23.0</td>\n",
              "      <td>2020-10-11</td>\n",
              "      <td>59.3</td>\n",
              "      <td>21</td>\n",
              "      <td>82459</td>\n",
              "      <td>12.5</td>\n",
              "      <td>26.0</td>\n",
              "      <td>47.3</td>\n",
              "      <td>48341</td>\n",
              "      <td>67846</td>\n",
              "      <td>311</td>\n",
              "      <td>2.74</td>\n",
              "      <td>0.22</td>\n",
              "      <td>0.029</td>\n",
              "      <td>0.0405</td>\n",
              "      <td>1.60</td>\n",
              "      <td>1</td>\n",
              "      <td>64.992948</td>\n",
              "      <td>3.9</td>\n",
              "      <td>616.08</td>\n",
              "      <td>4.32</td>\n",
              "      <td>89</td>\n",
              "      <td>1978</td>\n",
              "      <td>18.08</td>\n",
              "      <td>196</td>\n",
              "      <td>3.4</td>\n",
              "      <td>18.6</td>\n",
              "      <td>22.4</td>\n",
              "      <td>1.3</td>\n",
              "      <td>9.42</td>\n",
              "      <td>1</td>\n",
              "    </tr>\n",
              "    <tr>\n",
              "      <th>285</th>\n",
              "      <td>New York</td>\n",
              "      <td>NY</td>\n",
              "      <td>36</td>\n",
              "      <td>36061</td>\n",
              "      <td>New York County</td>\n",
              "      <td>73</td>\n",
              "      <td>62</td>\n",
              "      <td>1.80</td>\n",
              "      <td>56.6</td>\n",
              "      <td>16.2</td>\n",
              "      <td>23.6</td>\n",
              "      <td>0.39</td>\n",
              "      <td>1.41</td>\n",
              "      <td>66</td>\n",
              "      <td>1628701</td>\n",
              "      <td>-38.3</td>\n",
              "      <td>2020-10-12</td>\n",
              "      <td>59.3</td>\n",
              "      <td>21</td>\n",
              "      <td>82459</td>\n",
              "      <td>12.5</td>\n",
              "      <td>26.0</td>\n",
              "      <td>47.3</td>\n",
              "      <td>48341</td>\n",
              "      <td>67846</td>\n",
              "      <td>311</td>\n",
              "      <td>2.74</td>\n",
              "      <td>0.22</td>\n",
              "      <td>0.029</td>\n",
              "      <td>0.0391</td>\n",
              "      <td>1.61</td>\n",
              "      <td>2</td>\n",
              "      <td>65.018630</td>\n",
              "      <td>3.9</td>\n",
              "      <td>620.78</td>\n",
              "      <td>4.30</td>\n",
              "      <td>91</td>\n",
              "      <td>2191</td>\n",
              "      <td>18.08</td>\n",
              "      <td>196</td>\n",
              "      <td>3.4</td>\n",
              "      <td>18.6</td>\n",
              "      <td>22.4</td>\n",
              "      <td>1.3</td>\n",
              "      <td>9.42</td>\n",
              "      <td>1</td>\n",
              "    </tr>\n",
              "    <tr>\n",
              "      <th>286</th>\n",
              "      <td>New York</td>\n",
              "      <td>NY</td>\n",
              "      <td>36</td>\n",
              "      <td>36061</td>\n",
              "      <td>New York County</td>\n",
              "      <td>78</td>\n",
              "      <td>59</td>\n",
              "      <td>1.98</td>\n",
              "      <td>58.4</td>\n",
              "      <td>16.8</td>\n",
              "      <td>26.3</td>\n",
              "      <td>0.39</td>\n",
              "      <td>1.59</td>\n",
              "      <td>93</td>\n",
              "      <td>1628701</td>\n",
              "      <td>-30.4</td>\n",
              "      <td>2020-10-13</td>\n",
              "      <td>59.3</td>\n",
              "      <td>21</td>\n",
              "      <td>82459</td>\n",
              "      <td>12.5</td>\n",
              "      <td>26.0</td>\n",
              "      <td>47.3</td>\n",
              "      <td>48341</td>\n",
              "      <td>67846</td>\n",
              "      <td>311</td>\n",
              "      <td>2.74</td>\n",
              "      <td>0.22</td>\n",
              "      <td>0.029</td>\n",
              "      <td>0.0420</td>\n",
              "      <td>1.64</td>\n",
              "      <td>3</td>\n",
              "      <td>65.222543</td>\n",
              "      <td>3.9</td>\n",
              "      <td>625.85</td>\n",
              "      <td>4.21</td>\n",
              "      <td>104</td>\n",
              "      <td>2643</td>\n",
              "      <td>18.08</td>\n",
              "      <td>196</td>\n",
              "      <td>3.4</td>\n",
              "      <td>18.6</td>\n",
              "      <td>22.4</td>\n",
              "      <td>1.3</td>\n",
              "      <td>9.42</td>\n",
              "      <td>1</td>\n",
              "    </tr>\n",
              "  </tbody>\n",
              "</table>\n",
              "<p>287 rows × 46 columns</p>\n",
              "</div>"
            ],
            "text/plain": [
              "        State Postal Code  ...  COVID death rate  cluster_label\n",
              "0    New York          NY  ...              0.00              1\n",
              "1    New York          NY  ...              0.00              1\n",
              "2    New York          NY  ...              0.00              1\n",
              "3    New York          NY  ...              0.00              1\n",
              "4    New York          NY  ...              0.00              1\n",
              "..        ...         ...  ...               ...            ...\n",
              "282  New York          NY  ...              9.42              1\n",
              "283  New York          NY  ...              9.42              1\n",
              "284  New York          NY  ...              9.42              1\n",
              "285  New York          NY  ...              9.42              1\n",
              "286  New York          NY  ...              9.42              1\n",
              "\n",
              "[287 rows x 46 columns]"
            ]
          },
          "metadata": {
            "tags": []
          },
          "execution_count": 36
        }
      ]
    },
    {
      "cell_type": "code",
      "metadata": {
        "id": "mmLTUIOwQZEJ",
        "outputId": "bb530b33-db5e-40fe-b266-498da9f6c304",
        "colab": {
          "base_uri": "https://localhost:8080/",
          "height": 218
        }
      },
      "source": [
        "cluster_1['New cases/1000 people']"
      ],
      "execution_count": 37,
      "outputs": [
        {
          "output_type": "execute_result",
          "data": {
            "text/plain": [
              "37023    0.0000\n",
              "37024    0.0000\n",
              "37025    0.0000\n",
              "37026    0.0000\n",
              "37027    0.0000\n",
              "          ...  \n",
              "37305    0.0434\n",
              "37306    0.0501\n",
              "37307    0.0405\n",
              "37308    0.0391\n",
              "37309    0.0420\n",
              "Name: New cases/1000 people, Length: 287, dtype: float64"
            ]
          },
          "metadata": {
            "tags": []
          },
          "execution_count": 37
        }
      ]
    },
    {
      "cell_type": "code",
      "metadata": {
        "id": "oHW9pVnbQw8t",
        "outputId": "8db0c039-b829-4c7f-907f-35254706e565",
        "colab": {
          "base_uri": "https://localhost:8080/",
          "height": 261
        }
      },
      "source": [
        "cluster_1.head(2)"
      ],
      "execution_count": 38,
      "outputs": [
        {
          "output_type": "execute_result",
          "data": {
            "text/html": [
              "<div>\n",
              "<style scoped>\n",
              "    .dataframe tbody tr th:only-of-type {\n",
              "        vertical-align: middle;\n",
              "    }\n",
              "\n",
              "    .dataframe tbody tr th {\n",
              "        vertical-align: top;\n",
              "    }\n",
              "\n",
              "    .dataframe thead th {\n",
              "        text-align: right;\n",
              "    }\n",
              "</style>\n",
              "<table border=\"1\" class=\"dataframe\">\n",
              "  <thead>\n",
              "    <tr style=\"text-align: right;\">\n",
              "      <th></th>\n",
              "      <th>State</th>\n",
              "      <th>Postal Code</th>\n",
              "      <th>STFIPS</th>\n",
              "      <th>CTFIPS</th>\n",
              "      <th>CTNAME</th>\n",
              "      <th>Social distancing index</th>\n",
              "      <th>% staying home</th>\n",
              "      <th>Trips/person</th>\n",
              "      <th>% out-of-county trips</th>\n",
              "      <th>% out-of-state trips</th>\n",
              "      <th>Miles/person</th>\n",
              "      <th>Work trips/person</th>\n",
              "      <th>Non-work trips/person</th>\n",
              "      <th>New COVID cases</th>\n",
              "      <th>Population</th>\n",
              "      <th>% change in consumption</th>\n",
              "      <th>date</th>\n",
              "      <th>Transit mode share</th>\n",
              "      <th>% people older than 60</th>\n",
              "      <th>Median income</th>\n",
              "      <th>% African Americans</th>\n",
              "      <th>% Hispanic Americans</th>\n",
              "      <th>% Male</th>\n",
              "      <th>Population density</th>\n",
              "      <th>Employment density</th>\n",
              "      <th># hot spots/1000 people</th>\n",
              "      <th>Hospital beds/1000 people</th>\n",
              "      <th>ICUs/1000 people</th>\n",
              "      <th># contact tracing workers/1000 people</th>\n",
              "      <th>New cases/1000 people</th>\n",
              "      <th>Active cases/1000 people</th>\n",
              "      <th>#days: decreasing COVID cases</th>\n",
              "      <th>% hospital bed utilization</th>\n",
              "      <th>Testing capacity</th>\n",
              "      <th>Tests done/1000 people</th>\n",
              "      <th>% ICU utilization</th>\n",
              "      <th>Ventilator shortage</th>\n",
              "      <th>Imported COVID cases</th>\n",
              "      <th>COVID exposure/1000 people</th>\n",
              "      <th>#days: decreasing ILI cases</th>\n",
              "      <th>Unemployment claims/1000 people</th>\n",
              "      <th>Unemployment rate</th>\n",
              "      <th>% working from home</th>\n",
              "      <th>Cumulative inflation rate</th>\n",
              "      <th>COVID death rate</th>\n",
              "      <th>cluster_label</th>\n",
              "    </tr>\n",
              "  </thead>\n",
              "  <tbody>\n",
              "    <tr>\n",
              "      <th>37023</th>\n",
              "      <td>New York</td>\n",
              "      <td>NY</td>\n",
              "      <td>36</td>\n",
              "      <td>36061</td>\n",
              "      <td>New York County</td>\n",
              "      <td>59</td>\n",
              "      <td>49</td>\n",
              "      <td>2.13</td>\n",
              "      <td>53.3</td>\n",
              "      <td>16.5</td>\n",
              "      <td>36.3</td>\n",
              "      <td>0.30</td>\n",
              "      <td>1.83</td>\n",
              "      <td>0</td>\n",
              "      <td>1628701</td>\n",
              "      <td>-19.9</td>\n",
              "      <td>2020-01-01</td>\n",
              "      <td>59.3</td>\n",
              "      <td>21</td>\n",
              "      <td>82459</td>\n",
              "      <td>12.5</td>\n",
              "      <td>26.0</td>\n",
              "      <td>47.3</td>\n",
              "      <td>48341</td>\n",
              "      <td>67846</td>\n",
              "      <td>311</td>\n",
              "      <td>2.74</td>\n",
              "      <td>0.22</td>\n",
              "      <td>0.029</td>\n",
              "      <td>0.0</td>\n",
              "      <td>0.0</td>\n",
              "      <td>0</td>\n",
              "      <td>63.5</td>\n",
              "      <td>0.0</td>\n",
              "      <td>0.0</td>\n",
              "      <td>0.0</td>\n",
              "      <td>0</td>\n",
              "      <td>0</td>\n",
              "      <td>0.0</td>\n",
              "      <td>0</td>\n",
              "      <td>2.3</td>\n",
              "      <td>3.8</td>\n",
              "      <td>4.2</td>\n",
              "      <td>0.7</td>\n",
              "      <td>0.0</td>\n",
              "      <td>1</td>\n",
              "    </tr>\n",
              "    <tr>\n",
              "      <th>37024</th>\n",
              "      <td>New York</td>\n",
              "      <td>NY</td>\n",
              "      <td>36</td>\n",
              "      <td>36061</td>\n",
              "      <td>New York County</td>\n",
              "      <td>33</td>\n",
              "      <td>39</td>\n",
              "      <td>2.88</td>\n",
              "      <td>60.6</td>\n",
              "      <td>20.0</td>\n",
              "      <td>31.3</td>\n",
              "      <td>0.56</td>\n",
              "      <td>2.32</td>\n",
              "      <td>0</td>\n",
              "      <td>1628701</td>\n",
              "      <td>1.5</td>\n",
              "      <td>2020-01-02</td>\n",
              "      <td>59.3</td>\n",
              "      <td>21</td>\n",
              "      <td>82459</td>\n",
              "      <td>12.5</td>\n",
              "      <td>26.0</td>\n",
              "      <td>47.3</td>\n",
              "      <td>48341</td>\n",
              "      <td>67846</td>\n",
              "      <td>311</td>\n",
              "      <td>2.74</td>\n",
              "      <td>0.22</td>\n",
              "      <td>0.029</td>\n",
              "      <td>0.0</td>\n",
              "      <td>0.0</td>\n",
              "      <td>0</td>\n",
              "      <td>63.5</td>\n",
              "      <td>0.0</td>\n",
              "      <td>0.0</td>\n",
              "      <td>0.0</td>\n",
              "      <td>0</td>\n",
              "      <td>0</td>\n",
              "      <td>0.0</td>\n",
              "      <td>0</td>\n",
              "      <td>2.3</td>\n",
              "      <td>3.8</td>\n",
              "      <td>4.2</td>\n",
              "      <td>0.7</td>\n",
              "      <td>0.0</td>\n",
              "      <td>1</td>\n",
              "    </tr>\n",
              "  </tbody>\n",
              "</table>\n",
              "</div>"
            ],
            "text/plain": [
              "          State Postal Code  ...  COVID death rate  cluster_label\n",
              "37023  New York          NY  ...               0.0              1\n",
              "37024  New York          NY  ...               0.0              1\n",
              "\n",
              "[2 rows x 46 columns]"
            ]
          },
          "metadata": {
            "tags": []
          },
          "execution_count": 38
        }
      ]
    },
    {
      "cell_type": "code",
      "metadata": {
        "id": "WhsOGKJGRjh4",
        "outputId": "7bb2db56-c4eb-438d-8e55-9244b7e8e5a9",
        "colab": {
          "base_uri": "https://localhost:8080/",
          "height": 34
        }
      },
      "source": [
        "#states of cluster one\n",
        "\n",
        "cluster_1.State.unique()\n"
      ],
      "execution_count": 44,
      "outputs": [
        {
          "output_type": "execute_result",
          "data": {
            "text/plain": [
              "array(['New York'], dtype=object)"
            ]
          },
          "metadata": {
            "tags": []
          },
          "execution_count": 44
        }
      ]
    },
    {
      "cell_type": "code",
      "metadata": {
        "id": "FvdP3NQXTNCq",
        "outputId": "b9368f7c-9ead-451f-a116-8cf9286b266f",
        "colab": {
          "base_uri": "https://localhost:8080/",
          "height": 136
        }
      },
      "source": [
        "#min max of new cases by group\n",
        "\n",
        "cluster_1.groupby(['CTNAME']).agg({'New cases/1000 people': ['mean', 'min', 'max']})"
      ],
      "execution_count": 55,
      "outputs": [
        {
          "output_type": "execute_result",
          "data": {
            "text/html": [
              "<div>\n",
              "<style scoped>\n",
              "    .dataframe tbody tr th:only-of-type {\n",
              "        vertical-align: middle;\n",
              "    }\n",
              "\n",
              "    .dataframe tbody tr th {\n",
              "        vertical-align: top;\n",
              "    }\n",
              "\n",
              "    .dataframe thead tr th {\n",
              "        text-align: left;\n",
              "    }\n",
              "\n",
              "    .dataframe thead tr:last-of-type th {\n",
              "        text-align: right;\n",
              "    }\n",
              "</style>\n",
              "<table border=\"1\" class=\"dataframe\">\n",
              "  <thead>\n",
              "    <tr>\n",
              "      <th></th>\n",
              "      <th colspan=\"3\" halign=\"left\">New cases/1000 people</th>\n",
              "    </tr>\n",
              "    <tr>\n",
              "      <th></th>\n",
              "      <th>mean</th>\n",
              "      <th>min</th>\n",
              "      <th>max</th>\n",
              "    </tr>\n",
              "    <tr>\n",
              "      <th>CTNAME</th>\n",
              "      <th></th>\n",
              "      <th></th>\n",
              "      <th></th>\n",
              "    </tr>\n",
              "  </thead>\n",
              "  <tbody>\n",
              "    <tr>\n",
              "      <th>New York County</th>\n",
              "      <td>0.499947</td>\n",
              "      <td>0.0</td>\n",
              "      <td>3.4561</td>\n",
              "    </tr>\n",
              "  </tbody>\n",
              "</table>\n",
              "</div>"
            ],
            "text/plain": [
              "                New cases/1000 people             \n",
              "                                 mean  min     max\n",
              "CTNAME                                            \n",
              "New York County              0.499947  0.0  3.4561"
            ]
          },
          "metadata": {
            "tags": []
          },
          "execution_count": 55
        }
      ]
    },
    {
      "cell_type": "code",
      "metadata": {
        "id": "LfMulByCeUVg",
        "outputId": "b32b9d9c-4c61-4fb2-bf39-6688bdbdb75c",
        "colab": {
          "base_uri": "https://localhost:8080/",
          "height": 423
        }
      },
      "source": [
        "cluster_1.groupby([\"CTNAME\"])['New cases/1000 people', 'Social distancing index'].mean().plot(kind='bar')"
      ],
      "execution_count": 95,
      "outputs": [
        {
          "output_type": "stream",
          "text": [
            "/usr/local/lib/python3.6/dist-packages/ipykernel_launcher.py:1: FutureWarning: Indexing with multiple keys (implicitly converted to a tuple of keys) will be deprecated, use a list instead.\n",
            "  \"\"\"Entry point for launching an IPython kernel.\n"
          ],
          "name": "stderr"
        },
        {
          "output_type": "execute_result",
          "data": {
            "text/plain": [
              "<matplotlib.axes._subplots.AxesSubplot at 0x7ff9447fe710>"
            ]
          },
          "metadata": {
            "tags": []
          },
          "execution_count": 95
        },
        {
          "output_type": "display_data",
          "data": {
            "image/png": "[encoded data removed]",
            "text/plain": [
              "<Figure size 432x288 with 1 Axes>"
            ]
          },
          "metadata": {
            "tags": [],
            "needs_background": "light"
          }
        }
      ]
    },
    {
      "cell_type": "code",
      "metadata": {
        "id": "0NUaBNN8UWKg",
        "outputId": "8b3edcd3-82da-429d-bb52-302a1a31a6ae",
        "colab": {
          "base_uri": "https://localhost:8080/",
          "height": 806
        }
      },
      "source": [
        "## Min value of all column\n",
        "\n",
        "cluster_1.min(axis=0) # will return min value of each column"
      ],
      "execution_count": 53,
      "outputs": [
        {
          "output_type": "execute_result",
          "data": {
            "text/plain": [
              "State                                           New York\n",
              "Postal Code                                           NY\n",
              "STFIPS                                                36\n",
              "CTFIPS                                             36061\n",
              "CTNAME                                   New York County\n",
              "Social distancing index                               28\n",
              "% staying home                                        36\n",
              "Trips/person                                        1.29\n",
              "% out-of-county trips                               38.3\n",
              "% out-of-state trips                                 6.5\n",
              "Miles/person                                         7.3\n",
              "Work trips/person                                   0.23\n",
              "Non-work trips/person                               1.05\n",
              "New COVID cases                                        0\n",
              "Population                                       1628701\n",
              "% change in consumption                            -54.1\n",
              "date                                          2020-01-01\n",
              "Transit mode share                                  59.3\n",
              "% people older than 60                                21\n",
              "Median income                                      82459\n",
              "% African Americans                                 12.5\n",
              "% Hispanic Americans                                  26\n",
              "% Male                                              47.3\n",
              "Population density                                 48341\n",
              "Employment density                                 67846\n",
              "# hot spots/1000 people                              311\n",
              "Hospital beds/1000 people                           2.74\n",
              "ICUs/1000 people                                    0.22\n",
              "# contact tracing workers/1000 people              0.029\n",
              "New cases/1000 people                                  0\n",
              "Active cases/1000 people                               0\n",
              "#days: decreasing COVID cases                          0\n",
              "% hospital bed utilization                          63.5\n",
              "Testing capacity                                       0\n",
              "Tests done/1000 people                                 0\n",
              "% ICU utilization                                      0\n",
              "Ventilator shortage                                    0\n",
              "Imported COVID cases                                   0\n",
              "COVID exposure/1000 people                             0\n",
              "#days: decreasing ILI cases                            0\n",
              "Unemployment claims/1000 people                      0.7\n",
              "Unemployment rate                                    3.7\n",
              "% working from home                                  4.2\n",
              "Cumulative inflation rate                            0.3\n",
              "COVID death rate                                       0\n",
              "cluster_label                                          1\n",
              "dtype: object"
            ]
          },
          "metadata": {
            "tags": []
          },
          "execution_count": 53
        }
      ]
    },
    {
      "cell_type": "code",
      "metadata": {
        "id": "6gTh7-NfUHeD",
        "outputId": "35ad53e5-4ed2-47e7-a1b7-f0091fef5847",
        "colab": {
          "base_uri": "https://localhost:8080/",
          "height": 806
        }
      },
      "source": [
        "## Max value of all column\n",
        "\n",
        "cluster_1.max(axis=0) # will return max value of each column"
      ],
      "execution_count": 52,
      "outputs": [
        {
          "output_type": "execute_result",
          "data": {
            "text/plain": [
              "State                                           New York\n",
              "Postal Code                                           NY\n",
              "STFIPS                                                36\n",
              "CTFIPS                                             36061\n",
              "CTNAME                                   New York County\n",
              "Social distancing index                               89\n",
              "% staying home                                        75\n",
              "Trips/person                                        3.27\n",
              "% out-of-county trips                               63.6\n",
              "% out-of-state trips                                22.3\n",
              "Miles/person                                        59.3\n",
              "Work trips/person                                   0.76\n",
              "Non-work trips/person                               2.65\n",
              "New COVID cases                                     7837\n",
              "Population                                       1628701\n",
              "% change in consumption                             15.9\n",
              "date                                          2020-10-13\n",
              "Transit mode share                                  59.3\n",
              "% people older than 60                                21\n",
              "Median income                                      82459\n",
              "% African Americans                                 12.5\n",
              "% Hispanic Americans                                  26\n",
              "% Male                                              47.3\n",
              "Population density                                 48341\n",
              "Employment density                                 67846\n",
              "# hot spots/1000 people                              311\n",
              "Hospital beds/1000 people                           2.74\n",
              "ICUs/1000 people                                    0.22\n",
              "# contact tracing workers/1000 people              0.029\n",
              "New cases/1000 people                             3.4561\n",
              "Active cases/1000 people                           11.45\n",
              "#days: decreasing COVID cases                         80\n",
              "% hospital bed utilization                       105.671\n",
              "Testing capacity                                    70.1\n",
              "Tests done/1000 people                            625.85\n",
              "% ICU utilization                                 121.48\n",
              "Ventilator shortage                                 5887\n",
              "Imported COVID cases                               12991\n",
              "COVID exposure/1000 people                         18.62\n",
              "#days: decreasing ILI cases                          196\n",
              "Unemployment claims/1000 people                     20.3\n",
              "Unemployment rate                                   18.6\n",
              "% working from home                                 42.1\n",
              "Cumulative inflation rate                            1.3\n",
              "COVID death rate                                   22.69\n",
              "cluster_label                                          1\n",
              "dtype: object"
            ]
          },
          "metadata": {
            "tags": []
          },
          "execution_count": 52
        }
      ]
    },
    {
      "cell_type": "code",
      "metadata": {
        "id": "20pAtBaOWY9h",
        "outputId": "f4422b83-8be7-4124-db8f-04fffd8c98c4",
        "colab": {
          "base_uri": "https://localhost:8080/",
          "height": 282
        }
      },
      "source": [
        "cluster_1[['date','New cases/1000 people']].plot()"
      ],
      "execution_count": 56,
      "outputs": [
        {
          "output_type": "execute_result",
          "data": {
            "text/plain": [
              "<matplotlib.axes._subplots.AxesSubplot at 0x7ff94765cf98>"
            ]
          },
          "metadata": {
            "tags": []
          },
          "execution_count": 56
        },
        {
          "output_type": "display_data",
          "data": {
            "image/png": "[encoded data removed]",
            "text/plain": [
              "<Figure size 432x288 with 1 Axes>"
            ]
          },
          "metadata": {
            "tags": [],
            "needs_background": "light"
          }
        }
      ]
    },
    {
      "cell_type": "code",
      "metadata": {
        "id": "l0gDyTtOXOSy",
        "outputId": "3965c396-7d38-4e64-ae2d-47dfdb9f9ddd",
        "colab": {
          "base_uri": "https://localhost:8080/",
          "height": 1000
        }
      },
      "source": [
        "cluster_1['date'].unique()"
      ],
      "execution_count": 58,
      "outputs": [
        {
          "output_type": "execute_result",
          "data": {
            "text/plain": [
              "array(['2020-01-01', '2020-01-02', '2020-01-03', '2020-01-04',\n",
              "       '2020-01-05', '2020-01-06', '2020-01-07', '2020-01-08',\n",
              "       '2020-01-09', '2020-01-10', '2020-01-11', '2020-01-12',\n",
              "       '2020-01-13', '2020-01-14', '2020-01-15', '2020-01-16',\n",
              "       '2020-01-17', '2020-01-18', '2020-01-19', '2020-01-20',\n",
              "       '2020-01-21', '2020-01-22', '2020-01-23', '2020-01-24',\n",
              "       '2020-01-25', '2020-01-26', '2020-01-27', '2020-01-28',\n",
              "       '2020-01-29', '2020-01-30', '2020-01-31', '2020-02-01',\n",
              "       '2020-02-02', '2020-02-03', '2020-02-04', '2020-02-05',\n",
              "       '2020-02-06', '2020-02-07', '2020-02-08', '2020-02-09',\n",
              "       '2020-02-10', '2020-02-11', '2020-02-12', '2020-02-13',\n",
              "       '2020-02-14', '2020-02-15', '2020-02-16', '2020-02-17',\n",
              "       '2020-02-18', '2020-02-19', '2020-02-20', '2020-02-21',\n",
              "       '2020-02-22', '2020-02-23', '2020-02-24', '2020-02-25',\n",
              "       '2020-02-26', '2020-02-27', '2020-02-28', '2020-02-29',\n",
              "       '2020-03-01', '2020-03-02', '2020-03-03', '2020-03-04',\n",
              "       '2020-03-05', '2020-03-06', '2020-03-07', '2020-03-08',\n",
              "       '2020-03-09', '2020-03-10', '2020-03-11', '2020-03-12',\n",
              "       '2020-03-13', '2020-03-14', '2020-03-15', '2020-03-16',\n",
              "       '2020-03-17', '2020-03-18', '2020-03-19', '2020-03-20',\n",
              "       '2020-03-21', '2020-03-22', '2020-03-23', '2020-03-24',\n",
              "       '2020-03-25', '2020-03-26', '2020-03-27', '2020-03-28',\n",
              "       '2020-03-29', '2020-03-30', '2020-03-31', '2020-04-01',\n",
              "       '2020-04-02', '2020-04-03', '2020-04-04', '2020-04-05',\n",
              "       '2020-04-06', '2020-04-07', '2020-04-08', '2020-04-09',\n",
              "       '2020-04-10', '2020-04-11', '2020-04-12', '2020-04-13',\n",
              "       '2020-04-14', '2020-04-15', '2020-04-16', '2020-04-17',\n",
              "       '2020-04-18', '2020-04-19', '2020-04-20', '2020-04-21',\n",
              "       '2020-04-22', '2020-04-23', '2020-04-24', '2020-04-25',\n",
              "       '2020-04-26', '2020-04-27', '2020-04-28', '2020-04-29',\n",
              "       '2020-04-30', '2020-05-01', '2020-05-02', '2020-05-03',\n",
              "       '2020-05-04', '2020-05-05', '2020-05-06', '2020-05-07',\n",
              "       '2020-05-08', '2020-05-09', '2020-05-10', '2020-05-11',\n",
              "       '2020-05-12', '2020-05-13', '2020-05-14', '2020-05-15',\n",
              "       '2020-05-16', '2020-05-17', '2020-05-18', '2020-05-19',\n",
              "       '2020-05-20', '2020-05-21', '2020-05-22', '2020-05-23',\n",
              "       '2020-05-24', '2020-05-25', '2020-05-26', '2020-05-27',\n",
              "       '2020-05-28', '2020-05-29', '2020-05-30', '2020-05-31',\n",
              "       '2020-06-01', '2020-06-02', '2020-06-03', '2020-06-04',\n",
              "       '2020-06-05', '2020-06-06', '2020-06-07', '2020-06-08',\n",
              "       '2020-06-09', '2020-06-10', '2020-06-11', '2020-06-12',\n",
              "       '2020-06-13', '2020-06-14', '2020-06-15', '2020-06-16',\n",
              "       '2020-06-17', '2020-06-18', '2020-06-19', '2020-06-20',\n",
              "       '2020-06-21', '2020-06-22', '2020-06-23', '2020-06-24',\n",
              "       '2020-06-25', '2020-06-26', '2020-06-27', '2020-06-28',\n",
              "       '2020-06-29', '2020-06-30', '2020-07-01', '2020-07-02',\n",
              "       '2020-07-03', '2020-07-04', '2020-07-05', '2020-07-06',\n",
              "       '2020-07-07', '2020-07-08', '2020-07-09', '2020-07-10',\n",
              "       '2020-07-11', '2020-07-12', '2020-07-13', '2020-07-14',\n",
              "       '2020-07-15', '2020-07-16', '2020-07-17', '2020-07-18',\n",
              "       '2020-07-19', '2020-07-20', '2020-07-21', '2020-07-22',\n",
              "       '2020-07-23', '2020-07-24', '2020-07-25', '2020-07-26',\n",
              "       '2020-07-27', '2020-07-28', '2020-07-29', '2020-07-30',\n",
              "       '2020-07-31', '2020-08-01', '2020-08-02', '2020-08-03',\n",
              "       '2020-08-04', '2020-08-05', '2020-08-06', '2020-08-07',\n",
              "       '2020-08-08', '2020-08-09', '2020-08-10', '2020-08-11',\n",
              "       '2020-08-12', '2020-08-13', '2020-08-14', '2020-08-15',\n",
              "       '2020-08-16', '2020-08-17', '2020-08-18', '2020-08-19',\n",
              "       '2020-08-20', '2020-08-21', '2020-08-22', '2020-08-23',\n",
              "       '2020-08-24', '2020-08-25', '2020-08-26', '2020-08-27',\n",
              "       '2020-08-28', '2020-08-29', '2020-08-30', '2020-08-31',\n",
              "       '2020-09-01', '2020-09-02', '2020-09-03', '2020-09-04',\n",
              "       '2020-09-05', '2020-09-06', '2020-09-07', '2020-09-08',\n",
              "       '2020-09-09', '2020-09-10', '2020-09-11', '2020-09-12',\n",
              "       '2020-09-13', '2020-09-14', '2020-09-15', '2020-09-16',\n",
              "       '2020-09-17', '2020-09-18', '2020-09-19', '2020-09-20',\n",
              "       '2020-09-21', '2020-09-22', '2020-09-23', '2020-09-24',\n",
              "       '2020-09-25', '2020-09-26', '2020-09-27', '2020-09-28',\n",
              "       '2020-09-29', '2020-09-30', '2020-10-01', '2020-10-02',\n",
              "       '2020-10-03', '2020-10-04', '2020-10-05', '2020-10-06',\n",
              "       '2020-10-07', '2020-10-08', '2020-10-09', '2020-10-10',\n",
              "       '2020-10-11', '2020-10-12', '2020-10-13'], dtype=object)"
            ]
          },
          "metadata": {
            "tags": []
          },
          "execution_count": 58
        }
      ]
    },
    {
      "cell_type": "code",
      "metadata": {
        "id": "zdM5jvGeWwkh",
        "outputId": "06fd9881-2b7c-4e6e-e36f-00239d93f978",
        "colab": {
          "base_uri": "https://localhost:8080/",
          "height": 346
        }
      },
      "source": [
        "plt.figure()\n",
        "\n",
        "date_list = ['2020-10-01', '2020-10-02',\n",
        "       '2020-10-03', '2020-10-04', '2020-10-05', '2020-10-06',\n",
        "       '2020-10-07', '2020-10-08', '2020-10-09', '2020-10-10',\n",
        "       '2020-10-11', '2020-10-12', '2020-10-13']\n",
        "\n",
        "filter_data = cluster_1[cluster_1['date'].isin(date_list)]\n",
        "x = filter_data['date']\n",
        "y1 = filter_data['New cases/1000 people'] \n",
        "y2 = filter_data['Social distancing index']\n",
        "\n",
        "\n",
        "plt.plot(x,y1)\n",
        "plt.plot(x,y2)\n",
        "plt.xticks(rotation=90)"
      ],
      "execution_count": 62,
      "outputs": [
        {
          "output_type": "execute_result",
          "data": {
            "text/plain": [
              "([0, 1, 2, 3, 4, 5, 6, 7, 8, 9, 10, 11, 12],\n",
              " <a list of 13 Text major ticklabel objects>)"
            ]
          },
          "metadata": {
            "tags": []
          },
          "execution_count": 62
        },
        {
          "output_type": "display_data",
          "data": {
            "image/png": "[encoded data removed]",
            "text/plain": [
              "<Figure size 432x288 with 1 Axes>"
            ]
          },
          "metadata": {
            "tags": [],
            "needs_background": "light"
          }
        }
      ]
    },
    {
      "cell_type": "code",
      "metadata": {
        "id": "BtZ1zoL2YaXc",
        "outputId": "ec0f3cc4-b4da-483e-d0f6-226d2db66605",
        "colab": {
          "base_uri": "https://localhost:8080/",
          "height": 366
        }
      },
      "source": [
        "# Method 1: on the same Axis\n",
        "date_list = ['2020-10-01', '2020-10-02',\n",
        "       '2020-10-03', '2020-10-04', '2020-10-05', '2020-10-06',\n",
        "       '2020-10-07', '2020-10-08', '2020-10-09', '2020-10-10',\n",
        "       '2020-10-11', '2020-10-12', '2020-10-13']\n",
        "\n",
        "filter_data = cluster_1[cluster_1['date'].isin(date_list)]\n",
        "\n",
        "sns.distplot( (filter_data['Social distancing index']) , color=\"blue\", label='Social distancing index')\n",
        "sns.distplot( filter_data['New cases/1000 people'] , color=\"red\", label='New cases/1000 people')\n",
        "plt.legend()\n",
        " \n",
        "plt.show()"
      ],
      "execution_count": 64,
      "outputs": [
        {
          "output_type": "stream",
          "text": [
            "/usr/local/lib/python3.6/dist-packages/seaborn/distributions.py:2551: FutureWarning: `distplot` is a deprecated function and will be removed in a future version. Please adapt your code to use either `displot` (a figure-level function with similar flexibility) or `histplot` (an axes-level function for histograms).\n",
            "  warnings.warn(msg, FutureWarning)\n",
            "/usr/local/lib/python3.6/dist-packages/seaborn/distributions.py:2551: FutureWarning: `distplot` is a deprecated function and will be removed in a future version. Please adapt your code to use either `displot` (a figure-level function with similar flexibility) or `histplot` (an axes-level function for histograms).\n",
            "  warnings.warn(msg, FutureWarning)\n"
          ],
          "name": "stderr"
        },
        {
          "output_type": "display_data",
          "data": {
            "image/png": "[encoded data removed]",
            "text/plain": [
              "<Figure size 432x288 with 1 Axes>"
            ]
          },
          "metadata": {
            "tags": [],
            "needs_background": "light"
          }
        }
      ]
    },
    {
      "cell_type": "markdown",
      "metadata": {
        "id": "rcCkMfPXVg57"
      },
      "source": [
        "\n",
        "This code is not working. I was trying to plot this link: https://stackoverflow.com/questions/43382051/how-to-plot-min-max-line-plot-in-python-pandas\n",
        "\n",
        "\n",
        "data = cluster_1.groupby('date')['New cases/1000 people'].agg({'Low Value':'min','High Value':'max','Mean':'mean'})\n",
        "data.reset_index(inplace=True)\n",
        "\n",
        "ax  = data.plot(x='date', y='Mean', c='white')\n",
        "plt.fill_between(x='date',y1='Low Value',y2='High Value', data=data)"
      ]
    },
    {
      "cell_type": "markdown",
      "metadata": {
        "id": "zZ7Lt9MTZ1da"
      },
      "source": [
        "## Cluster -4\n",
        "\n"
      ]
    },
    {
      "cell_type": "code",
      "metadata": {
        "id": "WbeSfsYHZ1di",
        "outputId": "3a70dd9b-28e0-4be6-e8f6-f4fc4d5c9775",
        "colab": {
          "base_uri": "https://localhost:8080/",
          "height": 34
        }
      },
      "source": [
        "maryland_sd_inertia_6states_filtered[maryland_sd_inertia_6states_filtered['cluster_label'] == 4]['New cases/1000 people'].shape"
      ],
      "execution_count": 65,
      "outputs": [
        {
          "output_type": "execute_result",
          "data": {
            "text/plain": [
              "(588,)"
            ]
          },
          "metadata": {
            "tags": []
          },
          "execution_count": 65
        }
      ]
    },
    {
      "cell_type": "code",
      "metadata": {
        "id": "SuFGDDiyZ1dq",
        "outputId": "03398873-68c8-462e-e94a-1516566665b1",
        "colab": {
          "base_uri": "https://localhost:8080/",
          "height": 657
        }
      },
      "source": [
        "cluster_4= maryland_sd_inertia_6states_filtered[maryland_sd_inertia_6states_filtered['cluster_label'] == 4]\n",
        "cluster_4.reset_index(drop=True)"
      ],
      "execution_count": 66,
      "outputs": [
        {
          "output_type": "execute_result",
          "data": {
            "text/html": [
              "<div>\n",
              "<style scoped>\n",
              "    .dataframe tbody tr th:only-of-type {\n",
              "        vertical-align: middle;\n",
              "    }\n",
              "\n",
              "    .dataframe tbody tr th {\n",
              "        vertical-align: top;\n",
              "    }\n",
              "\n",
              "    .dataframe thead th {\n",
              "        text-align: right;\n",
              "    }\n",
              "</style>\n",
              "<table border=\"1\" class=\"dataframe\">\n",
              "  <thead>\n",
              "    <tr style=\"text-align: right;\">\n",
              "      <th></th>\n",
              "      <th>State</th>\n",
              "      <th>Postal Code</th>\n",
              "      <th>STFIPS</th>\n",
              "      <th>CTFIPS</th>\n",
              "      <th>CTNAME</th>\n",
              "      <th>Social distancing index</th>\n",
              "      <th>% staying home</th>\n",
              "      <th>Trips/person</th>\n",
              "      <th>% out-of-county trips</th>\n",
              "      <th>% out-of-state trips</th>\n",
              "      <th>Miles/person</th>\n",
              "      <th>Work trips/person</th>\n",
              "      <th>Non-work trips/person</th>\n",
              "      <th>New COVID cases</th>\n",
              "      <th>Population</th>\n",
              "      <th>% change in consumption</th>\n",
              "      <th>date</th>\n",
              "      <th>Transit mode share</th>\n",
              "      <th>% people older than 60</th>\n",
              "      <th>Median income</th>\n",
              "      <th>% African Americans</th>\n",
              "      <th>% Hispanic Americans</th>\n",
              "      <th>% Male</th>\n",
              "      <th>Population density</th>\n",
              "      <th>Employment density</th>\n",
              "      <th># hot spots/1000 people</th>\n",
              "      <th>Hospital beds/1000 people</th>\n",
              "      <th>ICUs/1000 people</th>\n",
              "      <th># contact tracing workers/1000 people</th>\n",
              "      <th>New cases/1000 people</th>\n",
              "      <th>Active cases/1000 people</th>\n",
              "      <th>#days: decreasing COVID cases</th>\n",
              "      <th>% hospital bed utilization</th>\n",
              "      <th>Testing capacity</th>\n",
              "      <th>Tests done/1000 people</th>\n",
              "      <th>% ICU utilization</th>\n",
              "      <th>Ventilator shortage</th>\n",
              "      <th>Imported COVID cases</th>\n",
              "      <th>COVID exposure/1000 people</th>\n",
              "      <th>#days: decreasing ILI cases</th>\n",
              "      <th>Unemployment claims/1000 people</th>\n",
              "      <th>Unemployment rate</th>\n",
              "      <th>% working from home</th>\n",
              "      <th>Cumulative inflation rate</th>\n",
              "      <th>COVID death rate</th>\n",
              "      <th>cluster_label</th>\n",
              "    </tr>\n",
              "  </thead>\n",
              "  <tbody>\n",
              "    <tr>\n",
              "      <th>0</th>\n",
              "      <td>New York</td>\n",
              "      <td>NY</td>\n",
              "      <td>36</td>\n",
              "      <td>36081</td>\n",
              "      <td>Queens County</td>\n",
              "      <td>58</td>\n",
              "      <td>41</td>\n",
              "      <td>2.64</td>\n",
              "      <td>39.7</td>\n",
              "      <td>5.1</td>\n",
              "      <td>25.9</td>\n",
              "      <td>0.37</td>\n",
              "      <td>2.27</td>\n",
              "      <td>0</td>\n",
              "      <td>2278906</td>\n",
              "      <td>-24.8</td>\n",
              "      <td>2020-01-01</td>\n",
              "      <td>51.31</td>\n",
              "      <td>21</td>\n",
              "      <td>64987</td>\n",
              "      <td>17.2</td>\n",
              "      <td>28.0</td>\n",
              "      <td>48.49</td>\n",
              "      <td>12893</td>\n",
              "      <td>3300</td>\n",
              "      <td>81</td>\n",
              "      <td>2.74</td>\n",
              "      <td>0.22</td>\n",
              "      <td>0.029</td>\n",
              "      <td>0.0000</td>\n",
              "      <td>0.00</td>\n",
              "      <td>0</td>\n",
              "      <td>63.500000</td>\n",
              "      <td>0.0</td>\n",
              "      <td>0.00</td>\n",
              "      <td>0.00</td>\n",
              "      <td>0</td>\n",
              "      <td>0</td>\n",
              "      <td>0.00</td>\n",
              "      <td>0</td>\n",
              "      <td>2.3</td>\n",
              "      <td>3.8</td>\n",
              "      <td>4.2</td>\n",
              "      <td>0.70</td>\n",
              "      <td>0.00</td>\n",
              "      <td>4</td>\n",
              "    </tr>\n",
              "    <tr>\n",
              "      <th>1</th>\n",
              "      <td>New York</td>\n",
              "      <td>NY</td>\n",
              "      <td>36</td>\n",
              "      <td>36081</td>\n",
              "      <td>Queens County</td>\n",
              "      <td>25</td>\n",
              "      <td>27</td>\n",
              "      <td>3.80</td>\n",
              "      <td>40.5</td>\n",
              "      <td>3.2</td>\n",
              "      <td>28.5</td>\n",
              "      <td>0.81</td>\n",
              "      <td>2.98</td>\n",
              "      <td>0</td>\n",
              "      <td>2278906</td>\n",
              "      <td>-1.3</td>\n",
              "      <td>2020-01-02</td>\n",
              "      <td>51.31</td>\n",
              "      <td>21</td>\n",
              "      <td>64987</td>\n",
              "      <td>17.2</td>\n",
              "      <td>28.0</td>\n",
              "      <td>48.49</td>\n",
              "      <td>12893</td>\n",
              "      <td>3300</td>\n",
              "      <td>81</td>\n",
              "      <td>2.74</td>\n",
              "      <td>0.22</td>\n",
              "      <td>0.029</td>\n",
              "      <td>0.0000</td>\n",
              "      <td>0.00</td>\n",
              "      <td>0</td>\n",
              "      <td>63.500000</td>\n",
              "      <td>0.0</td>\n",
              "      <td>0.00</td>\n",
              "      <td>0.00</td>\n",
              "      <td>0</td>\n",
              "      <td>0</td>\n",
              "      <td>0.00</td>\n",
              "      <td>0</td>\n",
              "      <td>2.3</td>\n",
              "      <td>3.8</td>\n",
              "      <td>4.2</td>\n",
              "      <td>0.70</td>\n",
              "      <td>0.00</td>\n",
              "      <td>4</td>\n",
              "    </tr>\n",
              "    <tr>\n",
              "      <th>2</th>\n",
              "      <td>New York</td>\n",
              "      <td>NY</td>\n",
              "      <td>36</td>\n",
              "      <td>36081</td>\n",
              "      <td>Queens County</td>\n",
              "      <td>24</td>\n",
              "      <td>27</td>\n",
              "      <td>3.84</td>\n",
              "      <td>40.2</td>\n",
              "      <td>3.3</td>\n",
              "      <td>29.1</td>\n",
              "      <td>0.79</td>\n",
              "      <td>3.05</td>\n",
              "      <td>0</td>\n",
              "      <td>2278906</td>\n",
              "      <td>1.0</td>\n",
              "      <td>2020-01-03</td>\n",
              "      <td>51.31</td>\n",
              "      <td>21</td>\n",
              "      <td>64987</td>\n",
              "      <td>17.2</td>\n",
              "      <td>28.0</td>\n",
              "      <td>48.49</td>\n",
              "      <td>12893</td>\n",
              "      <td>3300</td>\n",
              "      <td>81</td>\n",
              "      <td>2.74</td>\n",
              "      <td>0.22</td>\n",
              "      <td>0.029</td>\n",
              "      <td>0.0000</td>\n",
              "      <td>0.00</td>\n",
              "      <td>0</td>\n",
              "      <td>63.500000</td>\n",
              "      <td>0.0</td>\n",
              "      <td>0.00</td>\n",
              "      <td>0.00</td>\n",
              "      <td>0</td>\n",
              "      <td>0</td>\n",
              "      <td>0.00</td>\n",
              "      <td>0</td>\n",
              "      <td>2.3</td>\n",
              "      <td>3.8</td>\n",
              "      <td>4.2</td>\n",
              "      <td>0.70</td>\n",
              "      <td>0.00</td>\n",
              "      <td>4</td>\n",
              "    </tr>\n",
              "    <tr>\n",
              "      <th>3</th>\n",
              "      <td>New York</td>\n",
              "      <td>NY</td>\n",
              "      <td>36</td>\n",
              "      <td>36081</td>\n",
              "      <td>Queens County</td>\n",
              "      <td>44</td>\n",
              "      <td>35</td>\n",
              "      <td>3.41</td>\n",
              "      <td>38.0</td>\n",
              "      <td>3.8</td>\n",
              "      <td>26.7</td>\n",
              "      <td>0.48</td>\n",
              "      <td>2.93</td>\n",
              "      <td>0</td>\n",
              "      <td>2278906</td>\n",
              "      <td>-3.0</td>\n",
              "      <td>2020-01-04</td>\n",
              "      <td>51.31</td>\n",
              "      <td>21</td>\n",
              "      <td>64987</td>\n",
              "      <td>17.2</td>\n",
              "      <td>28.0</td>\n",
              "      <td>48.49</td>\n",
              "      <td>12893</td>\n",
              "      <td>3300</td>\n",
              "      <td>81</td>\n",
              "      <td>2.74</td>\n",
              "      <td>0.22</td>\n",
              "      <td>0.029</td>\n",
              "      <td>0.0000</td>\n",
              "      <td>0.00</td>\n",
              "      <td>0</td>\n",
              "      <td>63.500000</td>\n",
              "      <td>0.0</td>\n",
              "      <td>0.00</td>\n",
              "      <td>0.00</td>\n",
              "      <td>0</td>\n",
              "      <td>0</td>\n",
              "      <td>0.00</td>\n",
              "      <td>0</td>\n",
              "      <td>2.3</td>\n",
              "      <td>3.8</td>\n",
              "      <td>4.2</td>\n",
              "      <td>0.70</td>\n",
              "      <td>0.00</td>\n",
              "      <td>4</td>\n",
              "    </tr>\n",
              "    <tr>\n",
              "      <th>4</th>\n",
              "      <td>New York</td>\n",
              "      <td>NY</td>\n",
              "      <td>36</td>\n",
              "      <td>36081</td>\n",
              "      <td>Queens County</td>\n",
              "      <td>53</td>\n",
              "      <td>40</td>\n",
              "      <td>2.99</td>\n",
              "      <td>38.4</td>\n",
              "      <td>4.5</td>\n",
              "      <td>28.4</td>\n",
              "      <td>0.40</td>\n",
              "      <td>2.58</td>\n",
              "      <td>0</td>\n",
              "      <td>2278906</td>\n",
              "      <td>-14.6</td>\n",
              "      <td>2020-01-05</td>\n",
              "      <td>51.31</td>\n",
              "      <td>21</td>\n",
              "      <td>64987</td>\n",
              "      <td>17.2</td>\n",
              "      <td>28.0</td>\n",
              "      <td>48.49</td>\n",
              "      <td>12893</td>\n",
              "      <td>3300</td>\n",
              "      <td>81</td>\n",
              "      <td>2.74</td>\n",
              "      <td>0.22</td>\n",
              "      <td>0.029</td>\n",
              "      <td>0.0000</td>\n",
              "      <td>0.00</td>\n",
              "      <td>0</td>\n",
              "      <td>63.500000</td>\n",
              "      <td>0.0</td>\n",
              "      <td>0.00</td>\n",
              "      <td>0.00</td>\n",
              "      <td>0</td>\n",
              "      <td>0</td>\n",
              "      <td>0.00</td>\n",
              "      <td>0</td>\n",
              "      <td>1.2</td>\n",
              "      <td>3.8</td>\n",
              "      <td>4.2</td>\n",
              "      <td>0.70</td>\n",
              "      <td>0.00</td>\n",
              "      <td>4</td>\n",
              "    </tr>\n",
              "    <tr>\n",
              "      <th>...</th>\n",
              "      <td>...</td>\n",
              "      <td>...</td>\n",
              "      <td>...</td>\n",
              "      <td>...</td>\n",
              "      <td>...</td>\n",
              "      <td>...</td>\n",
              "      <td>...</td>\n",
              "      <td>...</td>\n",
              "      <td>...</td>\n",
              "      <td>...</td>\n",
              "      <td>...</td>\n",
              "      <td>...</td>\n",
              "      <td>...</td>\n",
              "      <td>...</td>\n",
              "      <td>...</td>\n",
              "      <td>...</td>\n",
              "      <td>...</td>\n",
              "      <td>...</td>\n",
              "      <td>...</td>\n",
              "      <td>...</td>\n",
              "      <td>...</td>\n",
              "      <td>...</td>\n",
              "      <td>...</td>\n",
              "      <td>...</td>\n",
              "      <td>...</td>\n",
              "      <td>...</td>\n",
              "      <td>...</td>\n",
              "      <td>...</td>\n",
              "      <td>...</td>\n",
              "      <td>...</td>\n",
              "      <td>...</td>\n",
              "      <td>...</td>\n",
              "      <td>...</td>\n",
              "      <td>...</td>\n",
              "      <td>...</td>\n",
              "      <td>...</td>\n",
              "      <td>...</td>\n",
              "      <td>...</td>\n",
              "      <td>...</td>\n",
              "      <td>...</td>\n",
              "      <td>...</td>\n",
              "      <td>...</td>\n",
              "      <td>...</td>\n",
              "      <td>...</td>\n",
              "      <td>...</td>\n",
              "      <td>...</td>\n",
              "    </tr>\n",
              "    <tr>\n",
              "      <th>583</th>\n",
              "      <td>Texas</td>\n",
              "      <td>TX</td>\n",
              "      <td>48</td>\n",
              "      <td>48439</td>\n",
              "      <td>Tarrant County</td>\n",
              "      <td>32</td>\n",
              "      <td>27</td>\n",
              "      <td>2.99</td>\n",
              "      <td>22.2</td>\n",
              "      <td>1.7</td>\n",
              "      <td>39.2</td>\n",
              "      <td>0.41</td>\n",
              "      <td>2.59</td>\n",
              "      <td>601</td>\n",
              "      <td>2084931</td>\n",
              "      <td>2.1</td>\n",
              "      <td>2020-10-04</td>\n",
              "      <td>0.58</td>\n",
              "      <td>16</td>\n",
              "      <td>64874</td>\n",
              "      <td>15.8</td>\n",
              "      <td>28.5</td>\n",
              "      <td>48.95</td>\n",
              "      <td>2251</td>\n",
              "      <td>912</td>\n",
              "      <td>133</td>\n",
              "      <td>2.82</td>\n",
              "      <td>0.30</td>\n",
              "      <td>0.040</td>\n",
              "      <td>0.2192</td>\n",
              "      <td>4.93</td>\n",
              "      <td>0</td>\n",
              "      <td>52.081858</td>\n",
              "      <td>11.7</td>\n",
              "      <td>227.79</td>\n",
              "      <td>12.28</td>\n",
              "      <td>1015</td>\n",
              "      <td>5415</td>\n",
              "      <td>21.60</td>\n",
              "      <td>196</td>\n",
              "      <td>1.5</td>\n",
              "      <td>10.1</td>\n",
              "      <td>25.9</td>\n",
              "      <td>0.79</td>\n",
              "      <td>2.63</td>\n",
              "      <td>4</td>\n",
              "    </tr>\n",
              "    <tr>\n",
              "      <th>584</th>\n",
              "      <td>Texas</td>\n",
              "      <td>TX</td>\n",
              "      <td>48</td>\n",
              "      <td>48439</td>\n",
              "      <td>Tarrant County</td>\n",
              "      <td>38</td>\n",
              "      <td>22</td>\n",
              "      <td>3.26</td>\n",
              "      <td>21.0</td>\n",
              "      <td>1.2</td>\n",
              "      <td>37.0</td>\n",
              "      <td>0.41</td>\n",
              "      <td>2.85</td>\n",
              "      <td>572</td>\n",
              "      <td>2084931</td>\n",
              "      <td>12.3</td>\n",
              "      <td>2020-10-07</td>\n",
              "      <td>0.58</td>\n",
              "      <td>16</td>\n",
              "      <td>64874</td>\n",
              "      <td>15.8</td>\n",
              "      <td>28.5</td>\n",
              "      <td>48.95</td>\n",
              "      <td>2251</td>\n",
              "      <td>912</td>\n",
              "      <td>133</td>\n",
              "      <td>2.82</td>\n",
              "      <td>0.30</td>\n",
              "      <td>0.040</td>\n",
              "      <td>0.1906</td>\n",
              "      <td>5.13</td>\n",
              "      <td>0</td>\n",
              "      <td>51.777966</td>\n",
              "      <td>11.7</td>\n",
              "      <td>232.20</td>\n",
              "      <td>12.06</td>\n",
              "      <td>729</td>\n",
              "      <td>5653</td>\n",
              "      <td>21.58</td>\n",
              "      <td>196</td>\n",
              "      <td>1.5</td>\n",
              "      <td>10.1</td>\n",
              "      <td>25.9</td>\n",
              "      <td>0.79</td>\n",
              "      <td>2.69</td>\n",
              "      <td>4</td>\n",
              "    </tr>\n",
              "    <tr>\n",
              "      <th>585</th>\n",
              "      <td>Texas</td>\n",
              "      <td>TX</td>\n",
              "      <td>48</td>\n",
              "      <td>48439</td>\n",
              "      <td>Tarrant County</td>\n",
              "      <td>39</td>\n",
              "      <td>22</td>\n",
              "      <td>2.97</td>\n",
              "      <td>22.4</td>\n",
              "      <td>1.4</td>\n",
              "      <td>38.7</td>\n",
              "      <td>0.40</td>\n",
              "      <td>2.57</td>\n",
              "      <td>546</td>\n",
              "      <td>2084931</td>\n",
              "      <td>1.3</td>\n",
              "      <td>2020-10-08</td>\n",
              "      <td>0.58</td>\n",
              "      <td>16</td>\n",
              "      <td>64874</td>\n",
              "      <td>15.8</td>\n",
              "      <td>28.5</td>\n",
              "      <td>48.95</td>\n",
              "      <td>2251</td>\n",
              "      <td>912</td>\n",
              "      <td>133</td>\n",
              "      <td>2.82</td>\n",
              "      <td>0.30</td>\n",
              "      <td>0.040</td>\n",
              "      <td>0.2353</td>\n",
              "      <td>5.15</td>\n",
              "      <td>0</td>\n",
              "      <td>51.721974</td>\n",
              "      <td>11.7</td>\n",
              "      <td>233.54</td>\n",
              "      <td>12.59</td>\n",
              "      <td>719</td>\n",
              "      <td>5579</td>\n",
              "      <td>21.51</td>\n",
              "      <td>196</td>\n",
              "      <td>1.5</td>\n",
              "      <td>10.1</td>\n",
              "      <td>25.9</td>\n",
              "      <td>0.79</td>\n",
              "      <td>2.72</td>\n",
              "      <td>4</td>\n",
              "    </tr>\n",
              "    <tr>\n",
              "      <th>586</th>\n",
              "      <td>Texas</td>\n",
              "      <td>TX</td>\n",
              "      <td>48</td>\n",
              "      <td>48439</td>\n",
              "      <td>Tarrant County</td>\n",
              "      <td>37</td>\n",
              "      <td>22</td>\n",
              "      <td>2.78</td>\n",
              "      <td>25.2</td>\n",
              "      <td>1.7</td>\n",
              "      <td>44.4</td>\n",
              "      <td>0.39</td>\n",
              "      <td>2.38</td>\n",
              "      <td>314</td>\n",
              "      <td>2084931</td>\n",
              "      <td>-6.2</td>\n",
              "      <td>2020-10-09</td>\n",
              "      <td>0.58</td>\n",
              "      <td>16</td>\n",
              "      <td>64874</td>\n",
              "      <td>15.8</td>\n",
              "      <td>28.5</td>\n",
              "      <td>48.95</td>\n",
              "      <td>2251</td>\n",
              "      <td>912</td>\n",
              "      <td>133</td>\n",
              "      <td>2.82</td>\n",
              "      <td>0.30</td>\n",
              "      <td>0.040</td>\n",
              "      <td>0.2289</td>\n",
              "      <td>5.13</td>\n",
              "      <td>1</td>\n",
              "      <td>51.669449</td>\n",
              "      <td>11.6</td>\n",
              "      <td>235.04</td>\n",
              "      <td>13.04</td>\n",
              "      <td>710</td>\n",
              "      <td>5956</td>\n",
              "      <td>21.44</td>\n",
              "      <td>196</td>\n",
              "      <td>1.5</td>\n",
              "      <td>10.1</td>\n",
              "      <td>25.9</td>\n",
              "      <td>0.79</td>\n",
              "      <td>2.74</td>\n",
              "      <td>4</td>\n",
              "    </tr>\n",
              "    <tr>\n",
              "      <th>587</th>\n",
              "      <td>Texas</td>\n",
              "      <td>TX</td>\n",
              "      <td>48</td>\n",
              "      <td>48439</td>\n",
              "      <td>Tarrant County</td>\n",
              "      <td>43</td>\n",
              "      <td>24</td>\n",
              "      <td>2.69</td>\n",
              "      <td>26.1</td>\n",
              "      <td>1.5</td>\n",
              "      <td>40.0</td>\n",
              "      <td>0.23</td>\n",
              "      <td>2.46</td>\n",
              "      <td>418</td>\n",
              "      <td>2084931</td>\n",
              "      <td>-3.0</td>\n",
              "      <td>2020-10-10</td>\n",
              "      <td>0.58</td>\n",
              "      <td>16</td>\n",
              "      <td>64874</td>\n",
              "      <td>15.8</td>\n",
              "      <td>28.5</td>\n",
              "      <td>48.95</td>\n",
              "      <td>2251</td>\n",
              "      <td>912</td>\n",
              "      <td>133</td>\n",
              "      <td>2.82</td>\n",
              "      <td>0.30</td>\n",
              "      <td>0.040</td>\n",
              "      <td>0.2043</td>\n",
              "      <td>5.19</td>\n",
              "      <td>2</td>\n",
              "      <td>51.620310</td>\n",
              "      <td>11.6</td>\n",
              "      <td>237.99</td>\n",
              "      <td>13.03</td>\n",
              "      <td>702</td>\n",
              "      <td>6164</td>\n",
              "      <td>21.44</td>\n",
              "      <td>196</td>\n",
              "      <td>1.5</td>\n",
              "      <td>10.1</td>\n",
              "      <td>25.9</td>\n",
              "      <td>0.79</td>\n",
              "      <td>2.74</td>\n",
              "      <td>4</td>\n",
              "    </tr>\n",
              "  </tbody>\n",
              "</table>\n",
              "<p>588 rows × 46 columns</p>\n",
              "</div>"
            ],
            "text/plain": [
              "        State Postal Code  ...  COVID death rate  cluster_label\n",
              "0    New York          NY  ...              0.00              4\n",
              "1    New York          NY  ...              0.00              4\n",
              "2    New York          NY  ...              0.00              4\n",
              "3    New York          NY  ...              0.00              4\n",
              "4    New York          NY  ...              0.00              4\n",
              "..        ...         ...  ...               ...            ...\n",
              "583     Texas          TX  ...              2.63              4\n",
              "584     Texas          TX  ...              2.69              4\n",
              "585     Texas          TX  ...              2.72              4\n",
              "586     Texas          TX  ...              2.74              4\n",
              "587     Texas          TX  ...              2.74              4\n",
              "\n",
              "[588 rows x 46 columns]"
            ]
          },
          "metadata": {
            "tags": []
          },
          "execution_count": 66
        }
      ]
    },
    {
      "cell_type": "code",
      "metadata": {
        "id": "-ulxhMWWZ1dv",
        "outputId": "3cf7f69c-590c-4e95-b4c0-5c526f876592",
        "colab": {
          "base_uri": "https://localhost:8080/",
          "height": 218
        }
      },
      "source": [
        "cluster_4['New cases/1000 people']"
      ],
      "execution_count": 67,
      "outputs": [
        {
          "output_type": "execute_result",
          "data": {
            "text/plain": [
              "39893     0.0000\n",
              "39894     0.0000\n",
              "39895     0.0000\n",
              "39896     0.0000\n",
              "39897     0.0000\n",
              "           ...  \n",
              "109337    0.2192\n",
              "109340    0.1906\n",
              "109341    0.2353\n",
              "109342    0.2289\n",
              "109343    0.2043\n",
              "Name: New cases/1000 people, Length: 588, dtype: float64"
            ]
          },
          "metadata": {
            "tags": []
          },
          "execution_count": 67
        }
      ]
    },
    {
      "cell_type": "code",
      "metadata": {
        "id": "XCiQ9hkfZ1d1",
        "outputId": "f08bb15b-e3ec-42ad-ceac-2b1a255ec66c",
        "colab": {
          "base_uri": "https://localhost:8080/",
          "height": 261
        }
      },
      "source": [
        "cluster_1.head(2)"
      ],
      "execution_count": 68,
      "outputs": [
        {
          "output_type": "execute_result",
          "data": {
            "text/html": [
              "<div>\n",
              "<style scoped>\n",
              "    .dataframe tbody tr th:only-of-type {\n",
              "        vertical-align: middle;\n",
              "    }\n",
              "\n",
              "    .dataframe tbody tr th {\n",
              "        vertical-align: top;\n",
              "    }\n",
              "\n",
              "    .dataframe thead th {\n",
              "        text-align: right;\n",
              "    }\n",
              "</style>\n",
              "<table border=\"1\" class=\"dataframe\">\n",
              "  <thead>\n",
              "    <tr style=\"text-align: right;\">\n",
              "      <th></th>\n",
              "      <th>State</th>\n",
              "      <th>Postal Code</th>\n",
              "      <th>STFIPS</th>\n",
              "      <th>CTFIPS</th>\n",
              "      <th>CTNAME</th>\n",
              "      <th>Social distancing index</th>\n",
              "      <th>% staying home</th>\n",
              "      <th>Trips/person</th>\n",
              "      <th>% out-of-county trips</th>\n",
              "      <th>% out-of-state trips</th>\n",
              "      <th>Miles/person</th>\n",
              "      <th>Work trips/person</th>\n",
              "      <th>Non-work trips/person</th>\n",
              "      <th>New COVID cases</th>\n",
              "      <th>Population</th>\n",
              "      <th>% change in consumption</th>\n",
              "      <th>date</th>\n",
              "      <th>Transit mode share</th>\n",
              "      <th>% people older than 60</th>\n",
              "      <th>Median income</th>\n",
              "      <th>% African Americans</th>\n",
              "      <th>% Hispanic Americans</th>\n",
              "      <th>% Male</th>\n",
              "      <th>Population density</th>\n",
              "      <th>Employment density</th>\n",
              "      <th># hot spots/1000 people</th>\n",
              "      <th>Hospital beds/1000 people</th>\n",
              "      <th>ICUs/1000 people</th>\n",
              "      <th># contact tracing workers/1000 people</th>\n",
              "      <th>New cases/1000 people</th>\n",
              "      <th>Active cases/1000 people</th>\n",
              "      <th>#days: decreasing COVID cases</th>\n",
              "      <th>% hospital bed utilization</th>\n",
              "      <th>Testing capacity</th>\n",
              "      <th>Tests done/1000 people</th>\n",
              "      <th>% ICU utilization</th>\n",
              "      <th>Ventilator shortage</th>\n",
              "      <th>Imported COVID cases</th>\n",
              "      <th>COVID exposure/1000 people</th>\n",
              "      <th>#days: decreasing ILI cases</th>\n",
              "      <th>Unemployment claims/1000 people</th>\n",
              "      <th>Unemployment rate</th>\n",
              "      <th>% working from home</th>\n",
              "      <th>Cumulative inflation rate</th>\n",
              "      <th>COVID death rate</th>\n",
              "      <th>cluster_label</th>\n",
              "    </tr>\n",
              "  </thead>\n",
              "  <tbody>\n",
              "    <tr>\n",
              "      <th>37023</th>\n",
              "      <td>New York</td>\n",
              "      <td>NY</td>\n",
              "      <td>36</td>\n",
              "      <td>36061</td>\n",
              "      <td>New York County</td>\n",
              "      <td>59</td>\n",
              "      <td>49</td>\n",
              "      <td>2.13</td>\n",
              "      <td>53.3</td>\n",
              "      <td>16.5</td>\n",
              "      <td>36.3</td>\n",
              "      <td>0.30</td>\n",
              "      <td>1.83</td>\n",
              "      <td>0</td>\n",
              "      <td>1628701</td>\n",
              "      <td>-19.9</td>\n",
              "      <td>2020-01-01</td>\n",
              "      <td>59.3</td>\n",
              "      <td>21</td>\n",
              "      <td>82459</td>\n",
              "      <td>12.5</td>\n",
              "      <td>26.0</td>\n",
              "      <td>47.3</td>\n",
              "      <td>48341</td>\n",
              "      <td>67846</td>\n",
              "      <td>311</td>\n",
              "      <td>2.74</td>\n",
              "      <td>0.22</td>\n",
              "      <td>0.029</td>\n",
              "      <td>0.0</td>\n",
              "      <td>0.0</td>\n",
              "      <td>0</td>\n",
              "      <td>63.5</td>\n",
              "      <td>0.0</td>\n",
              "      <td>0.0</td>\n",
              "      <td>0.0</td>\n",
              "      <td>0</td>\n",
              "      <td>0</td>\n",
              "      <td>0.0</td>\n",
              "      <td>0</td>\n",
              "      <td>2.3</td>\n",
              "      <td>3.8</td>\n",
              "      <td>4.2</td>\n",
              "      <td>0.7</td>\n",
              "      <td>0.0</td>\n",
              "      <td>1</td>\n",
              "    </tr>\n",
              "    <tr>\n",
              "      <th>37024</th>\n",
              "      <td>New York</td>\n",
              "      <td>NY</td>\n",
              "      <td>36</td>\n",
              "      <td>36061</td>\n",
              "      <td>New York County</td>\n",
              "      <td>33</td>\n",
              "      <td>39</td>\n",
              "      <td>2.88</td>\n",
              "      <td>60.6</td>\n",
              "      <td>20.0</td>\n",
              "      <td>31.3</td>\n",
              "      <td>0.56</td>\n",
              "      <td>2.32</td>\n",
              "      <td>0</td>\n",
              "      <td>1628701</td>\n",
              "      <td>1.5</td>\n",
              "      <td>2020-01-02</td>\n",
              "      <td>59.3</td>\n",
              "      <td>21</td>\n",
              "      <td>82459</td>\n",
              "      <td>12.5</td>\n",
              "      <td>26.0</td>\n",
              "      <td>47.3</td>\n",
              "      <td>48341</td>\n",
              "      <td>67846</td>\n",
              "      <td>311</td>\n",
              "      <td>2.74</td>\n",
              "      <td>0.22</td>\n",
              "      <td>0.029</td>\n",
              "      <td>0.0</td>\n",
              "      <td>0.0</td>\n",
              "      <td>0</td>\n",
              "      <td>63.5</td>\n",
              "      <td>0.0</td>\n",
              "      <td>0.0</td>\n",
              "      <td>0.0</td>\n",
              "      <td>0</td>\n",
              "      <td>0</td>\n",
              "      <td>0.0</td>\n",
              "      <td>0</td>\n",
              "      <td>2.3</td>\n",
              "      <td>3.8</td>\n",
              "      <td>4.2</td>\n",
              "      <td>0.7</td>\n",
              "      <td>0.0</td>\n",
              "      <td>1</td>\n",
              "    </tr>\n",
              "  </tbody>\n",
              "</table>\n",
              "</div>"
            ],
            "text/plain": [
              "          State Postal Code  ...  COVID death rate  cluster_label\n",
              "37023  New York          NY  ...               0.0              1\n",
              "37024  New York          NY  ...               0.0              1\n",
              "\n",
              "[2 rows x 46 columns]"
            ]
          },
          "metadata": {
            "tags": []
          },
          "execution_count": 68
        }
      ]
    },
    {
      "cell_type": "code",
      "metadata": {
        "id": "7ozj0YdVZ1d6",
        "outputId": "3f307c2b-13f2-402e-f400-ddb129cfcd5f",
        "colab": {
          "base_uri": "https://localhost:8080/",
          "height": 34
        }
      },
      "source": [
        "#states of cluster one\n",
        "\n",
        "cluster_4.State.unique()\n"
      ],
      "execution_count": 70,
      "outputs": [
        {
          "output_type": "execute_result",
          "data": {
            "text/plain": [
              "array(['New York', 'Texas'], dtype=object)"
            ]
          },
          "metadata": {
            "tags": []
          },
          "execution_count": 70
        }
      ]
    },
    {
      "cell_type": "code",
      "metadata": {
        "id": "6HypuWxAaJGk",
        "outputId": "7a3c5df1-9fd2-4f29-e5ef-db33d1851140",
        "colab": {
          "base_uri": "https://localhost:8080/",
          "height": 50
        }
      },
      "source": [
        "#states of cluster one\n",
        "\n",
        "cluster_4.CTNAME.unique()"
      ],
      "execution_count": 72,
      "outputs": [
        {
          "output_type": "execute_result",
          "data": {
            "text/plain": [
              "array(['Queens County', 'Dallas County', 'Harris County',\n",
              "       'Tarrant County'], dtype=object)"
            ]
          },
          "metadata": {
            "tags": []
          },
          "execution_count": 72
        }
      ]
    },
    {
      "cell_type": "code",
      "metadata": {
        "id": "H-wS-rxKZ1eA",
        "outputId": "1b0c2444-8204-4b91-e33f-26834ef3eb75",
        "colab": {
          "base_uri": "https://localhost:8080/",
          "height": 225
        }
      },
      "source": [
        "#min max of new cases by each county of cluster\n",
        "\n",
        "cluster_4.groupby(['CTNAME']).agg({'New cases/1000 people': ['mean', 'min', 'max']})"
      ],
      "execution_count": 78,
      "outputs": [
        {
          "output_type": "execute_result",
          "data": {
            "text/html": [
              "<div>\n",
              "<style scoped>\n",
              "    .dataframe tbody tr th:only-of-type {\n",
              "        vertical-align: middle;\n",
              "    }\n",
              "\n",
              "    .dataframe tbody tr th {\n",
              "        vertical-align: top;\n",
              "    }\n",
              "\n",
              "    .dataframe thead tr th {\n",
              "        text-align: left;\n",
              "    }\n",
              "\n",
              "    .dataframe thead tr:last-of-type th {\n",
              "        text-align: right;\n",
              "    }\n",
              "</style>\n",
              "<table border=\"1\" class=\"dataframe\">\n",
              "  <thead>\n",
              "    <tr>\n",
              "      <th></th>\n",
              "      <th colspan=\"3\" halign=\"left\">New cases/1000 people</th>\n",
              "    </tr>\n",
              "    <tr>\n",
              "      <th></th>\n",
              "      <th>mean</th>\n",
              "      <th>min</th>\n",
              "      <th>max</th>\n",
              "    </tr>\n",
              "    <tr>\n",
              "      <th>CTNAME</th>\n",
              "      <th></th>\n",
              "      <th></th>\n",
              "      <th></th>\n",
              "    </tr>\n",
              "  </thead>\n",
              "  <tbody>\n",
              "    <tr>\n",
              "      <th>Dallas County</th>\n",
              "      <td>0.237889</td>\n",
              "      <td>0.0315</td>\n",
              "      <td>1.0107</td>\n",
              "    </tr>\n",
              "    <tr>\n",
              "      <th>Harris County</th>\n",
              "      <td>0.243668</td>\n",
              "      <td>0.0834</td>\n",
              "      <td>1.0997</td>\n",
              "    </tr>\n",
              "    <tr>\n",
              "      <th>Queens County</th>\n",
              "      <td>0.007462</td>\n",
              "      <td>0.0000</td>\n",
              "      <td>0.0740</td>\n",
              "    </tr>\n",
              "    <tr>\n",
              "      <th>Tarrant County</th>\n",
              "      <td>0.215992</td>\n",
              "      <td>0.0000</td>\n",
              "      <td>0.5059</td>\n",
              "    </tr>\n",
              "  </tbody>\n",
              "</table>\n",
              "</div>"
            ],
            "text/plain": [
              "               New cases/1000 people                \n",
              "                                mean     min     max\n",
              "CTNAME                                              \n",
              "Dallas County               0.237889  0.0315  1.0107\n",
              "Harris County               0.243668  0.0834  1.0997\n",
              "Queens County               0.007462  0.0000  0.0740\n",
              "Tarrant County              0.215992  0.0000  0.5059"
            ]
          },
          "metadata": {
            "tags": []
          },
          "execution_count": 78
        }
      ]
    },
    {
      "cell_type": "code",
      "metadata": {
        "id": "uFF0sce0c0-K",
        "outputId": "20e0454b-2942-418d-c5f2-d75a2312e67b",
        "colab": {
          "base_uri": "https://localhost:8080/",
          "height": 417
        }
      },
      "source": [
        "cluster_4.groupby(\"CTNAME\")['New cases/1000 people', 'Social distancing index'].mean().plot(kind='bar')"
      ],
      "execution_count": 92,
      "outputs": [
        {
          "output_type": "stream",
          "text": [
            "/usr/local/lib/python3.6/dist-packages/ipykernel_launcher.py:1: FutureWarning: Indexing with multiple keys (implicitly converted to a tuple of keys) will be deprecated, use a list instead.\n",
            "  \"\"\"Entry point for launching an IPython kernel.\n"
          ],
          "name": "stderr"
        },
        {
          "output_type": "execute_result",
          "data": {
            "text/plain": [
              "<matplotlib.axes._subplots.AxesSubplot at 0x7ff9451a2780>"
            ]
          },
          "metadata": {
            "tags": []
          },
          "execution_count": 92
        },
        {
          "output_type": "display_data",
          "data": {
            "image/png": "[encoded data removed]",
            "text/plain": [
              "<Figure size 432x288 with 1 Axes>"
            ]
          },
          "metadata": {
            "tags": [],
            "needs_background": "light"
          }
        }
      ]
    },
    {
      "cell_type": "code",
      "metadata": {
        "id": "6hSB_7OndrXW",
        "outputId": "4d14abaf-e165-4f91-b4d2-934d9bf2b6ad",
        "colab": {
          "base_uri": "https://localhost:8080/",
          "height": 363
        }
      },
      "source": [
        "cluster_4.plot(x=\"CTNAME\", y=['New cases/1000 people', 'Social distancing index'], kind=\"bar\")"
      ],
      "execution_count": 91,
      "outputs": [
        {
          "output_type": "execute_result",
          "data": {
            "text/plain": [
              "<matplotlib.axes._subplots.AxesSubplot at 0x7ff9463dbba8>"
            ]
          },
          "metadata": {
            "tags": []
          },
          "execution_count": 91
        },
        {
          "output_type": "display_data",
          "data": {
            "image/png": "[encoded data removed]",
            "text/plain": [
              "<Figure size 432x288 with 1 Axes>"
            ]
          },
          "metadata": {
            "tags": [],
            "needs_background": "light"
          }
        }
      ]
    },
    {
      "cell_type": "code",
      "metadata": {
        "id": "8rcGOCoNZ1eD",
        "outputId": "1b69511c-9c1b-423d-f469-27cec5cf4d22",
        "colab": {
          "base_uri": "https://localhost:8080/",
          "height": 806
        }
      },
      "source": [
        "## Min value of all column\n",
        "\n",
        "cluster_4.min(axis=0) # will return min value of each column"
      ],
      "execution_count": 79,
      "outputs": [
        {
          "output_type": "execute_result",
          "data": {
            "text/plain": [
              "State                                         New York\n",
              "Postal Code                                         NY\n",
              "STFIPS                                              36\n",
              "CTFIPS                                           36081\n",
              "CTNAME                                   Dallas County\n",
              "Social distancing index                             18\n",
              "% staying home                                      19\n",
              "Trips/person                                      1.68\n",
              "% out-of-county trips                             13.8\n",
              "% out-of-state trips                               0.2\n",
              "Miles/person                                      10.2\n",
              "Work trips/person                                 0.16\n",
              "Non-work trips/person                              1.4\n",
              "New COVID cases                                      0\n",
              "Population                                     2084931\n",
              "% change in consumption                          -53.6\n",
              "date                                        2020-01-01\n",
              "Transit mode share                                0.58\n",
              "% people older than 60                              15\n",
              "Median income                                    56854\n",
              "% African Americans                               15.8\n",
              "% Hispanic Americans                                28\n",
              "% Male                                           48.49\n",
              "Population density                                2251\n",
              "Employment density                                 912\n",
              "# hot spots/1000 people                             81\n",
              "Hospital beds/1000 people                         2.74\n",
              "ICUs/1000 people                                  0.22\n",
              "# contact tracing workers/1000 people            0.029\n",
              "New cases/1000 people                                0\n",
              "Active cases/1000 people                             0\n",
              "#days: decreasing COVID cases                        0\n",
              "% hospital bed utilization                     49.5324\n",
              "Testing capacity                                     0\n",
              "Tests done/1000 people                               0\n",
              "% ICU utilization                                    0\n",
              "Ventilator shortage                                  0\n",
              "Imported COVID cases                                 0\n",
              "COVID exposure/1000 people                           0\n",
              "#days: decreasing ILI cases                          0\n",
              "Unemployment claims/1000 people                    0.7\n",
              "Unemployment rate                                  3.7\n",
              "% working from home                                4.2\n",
              "Cumulative inflation rate                        -0.51\n",
              "COVID death rate                                     0\n",
              "cluster_label                                        4\n",
              "dtype: object"
            ]
          },
          "metadata": {
            "tags": []
          },
          "execution_count": 79
        }
      ]
    },
    {
      "cell_type": "code",
      "metadata": {
        "id": "BH2Ha_W2Z1eG",
        "outputId": "5cee0036-d81b-4e1e-b3d6-6d1ff94cf188",
        "colab": {
          "base_uri": "https://localhost:8080/",
          "height": 806
        }
      },
      "source": [
        "## Max value of all column\n",
        "\n",
        "cluster_4.max(axis=0) # will return max value of each column"
      ],
      "execution_count": 80,
      "outputs": [
        {
          "output_type": "execute_result",
          "data": {
            "text/plain": [
              "State                                             Texas\n",
              "Postal Code                                          TX\n",
              "STFIPS                                               48\n",
              "CTFIPS                                            48439\n",
              "CTNAME                                   Tarrant County\n",
              "Social distancing index                              86\n",
              "% staying home                                       66\n",
              "Trips/person                                       4.23\n",
              "% out-of-county trips                              42.2\n",
              "% out-of-state trips                                5.1\n",
              "Miles/person                                       63.9\n",
              "Work trips/person                                   0.9\n",
              "Non-work trips/person                              3.58\n",
              "New COVID cases                                   14129\n",
              "Population                                      4698619\n",
              "% change in consumption                            26.9\n",
              "date                                         2020-10-13\n",
              "Transit mode share                                51.31\n",
              "% people older than 60                               21\n",
              "Median income                                     64987\n",
              "% African Americans                                22.1\n",
              "% Hispanic Americans                               42.6\n",
              "% Male                                            49.72\n",
              "Population density                                12893\n",
              "Employment density                                 3300\n",
              "# hot spots/1000 people                             157\n",
              "Hospital beds/1000 people                          2.82\n",
              "ICUs/1000 people                                    0.3\n",
              "# contact tracing workers/1000 people              0.04\n",
              "New cases/1000 people                            1.0997\n",
              "Active cases/1000 people                          11.45\n",
              "#days: decreasing COVID cases                       167\n",
              "% hospital bed utilization                      105.671\n",
              "Testing capacity                                   70.1\n",
              "Tests done/1000 people                           625.85\n",
              "% ICU utilization                                121.48\n",
              "Ventilator shortage                                5887\n",
              "Imported COVID cases                              16764\n",
              "COVID exposure/1000 people                        21.61\n",
              "#days: decreasing ILI cases                         196\n",
              "Unemployment claims/1000 people                    20.3\n",
              "Unemployment rate                                  18.6\n",
              "% working from home                                43.1\n",
              "Cumulative inflation rate                           1.3\n",
              "COVID death rate                                  22.69\n",
              "cluster_label                                         4\n",
              "dtype: object"
            ]
          },
          "metadata": {
            "tags": []
          },
          "execution_count": 80
        }
      ]
    },
    {
      "cell_type": "code",
      "metadata": {
        "id": "e1D3uU7eZ1eJ",
        "outputId": "8547c9bb-9fa0-4e75-eb38-8ee69845a564",
        "colab": {
          "base_uri": "https://localhost:8080/",
          "height": 282
        }
      },
      "source": [
        "cluster_4[['date','New cases/1000 people']].plot()"
      ],
      "execution_count": 81,
      "outputs": [
        {
          "output_type": "execute_result",
          "data": {
            "text/plain": [
              "<matplotlib.axes._subplots.AxesSubplot at 0x7ff946a7d908>"
            ]
          },
          "metadata": {
            "tags": []
          },
          "execution_count": 81
        },
        {
          "output_type": "display_data",
          "data": {
            "image/png": "[encoded data removed]",
            "text/plain": [
              "<Figure size 432x288 with 1 Axes>"
            ]
          },
          "metadata": {
            "tags": [],
            "needs_background": "light"
          }
        }
      ]
    },
    {
      "cell_type": "code",
      "metadata": {
        "id": "YwQkyBkcZ1eL",
        "outputId": "7f08abab-1972-4205-fd90-b1c6c5c8f797",
        "colab": {
          "base_uri": "https://localhost:8080/",
          "height": 1000
        }
      },
      "source": [
        "cluster_4['date'].unique()"
      ],
      "execution_count": 82,
      "outputs": [
        {
          "output_type": "execute_result",
          "data": {
            "text/plain": [
              "array(['2020-01-01', '2020-01-02', '2020-01-03', '2020-01-04',\n",
              "       '2020-01-05', '2020-01-06', '2020-01-07', '2020-01-08',\n",
              "       '2020-01-09', '2020-01-10', '2020-01-11', '2020-01-12',\n",
              "       '2020-01-13', '2020-01-14', '2020-01-15', '2020-01-16',\n",
              "       '2020-01-17', '2020-01-18', '2020-01-19', '2020-01-20',\n",
              "       '2020-01-21', '2020-01-22', '2020-01-23', '2020-01-24',\n",
              "       '2020-01-25', '2020-01-26', '2020-01-27', '2020-01-28',\n",
              "       '2020-01-29', '2020-01-30', '2020-01-31', '2020-02-01',\n",
              "       '2020-02-02', '2020-02-03', '2020-02-04', '2020-02-05',\n",
              "       '2020-02-06', '2020-02-07', '2020-02-08', '2020-02-09',\n",
              "       '2020-02-10', '2020-02-11', '2020-02-12', '2020-02-13',\n",
              "       '2020-02-14', '2020-02-15', '2020-02-16', '2020-02-17',\n",
              "       '2020-02-18', '2020-02-19', '2020-02-20', '2020-02-21',\n",
              "       '2020-02-22', '2020-02-23', '2020-02-24', '2020-02-25',\n",
              "       '2020-02-26', '2020-02-27', '2020-02-28', '2020-02-29',\n",
              "       '2020-03-01', '2020-03-02', '2020-03-03', '2020-03-04',\n",
              "       '2020-03-05', '2020-03-06', '2020-03-07', '2020-03-08',\n",
              "       '2020-03-09', '2020-03-10', '2020-03-11', '2020-03-12',\n",
              "       '2020-03-13', '2020-03-14', '2020-03-15', '2020-03-16',\n",
              "       '2020-03-17', '2020-03-18', '2020-03-19', '2020-03-20',\n",
              "       '2020-03-21', '2020-03-22', '2020-03-23', '2020-03-24',\n",
              "       '2020-03-25', '2020-03-26', '2020-03-27', '2020-03-28',\n",
              "       '2020-03-29', '2020-03-30', '2020-03-31', '2020-04-01',\n",
              "       '2020-04-02', '2020-04-03', '2020-04-04', '2020-04-05',\n",
              "       '2020-04-06', '2020-04-07', '2020-04-08', '2020-04-09',\n",
              "       '2020-04-10', '2020-04-11', '2020-04-12', '2020-04-13',\n",
              "       '2020-04-14', '2020-04-15', '2020-04-16', '2020-04-17',\n",
              "       '2020-04-18', '2020-04-19', '2020-04-20', '2020-04-21',\n",
              "       '2020-04-22', '2020-04-23', '2020-04-24', '2020-04-25',\n",
              "       '2020-04-26', '2020-04-27', '2020-04-28', '2020-04-29',\n",
              "       '2020-04-30', '2020-05-01', '2020-05-02', '2020-05-03',\n",
              "       '2020-05-04', '2020-05-05', '2020-05-06', '2020-05-07',\n",
              "       '2020-05-08', '2020-05-09', '2020-05-10', '2020-05-11',\n",
              "       '2020-05-12', '2020-05-13', '2020-05-14', '2020-05-15',\n",
              "       '2020-05-16', '2020-05-17', '2020-05-18', '2020-05-19',\n",
              "       '2020-05-20', '2020-05-21', '2020-05-22', '2020-05-23',\n",
              "       '2020-05-24', '2020-05-25', '2020-05-26', '2020-05-27',\n",
              "       '2020-05-28', '2020-05-29', '2020-05-30', '2020-05-31',\n",
              "       '2020-06-01', '2020-06-02', '2020-06-03', '2020-06-04',\n",
              "       '2020-06-05', '2020-06-06', '2020-06-07', '2020-06-08',\n",
              "       '2020-06-09', '2020-06-10', '2020-06-11', '2020-06-12',\n",
              "       '2020-06-13', '2020-06-14', '2020-06-15', '2020-06-16',\n",
              "       '2020-06-17', '2020-06-18', '2020-06-19', '2020-06-20',\n",
              "       '2020-06-21', '2020-06-22', '2020-06-23', '2020-06-24',\n",
              "       '2020-06-25', '2020-06-26', '2020-06-27', '2020-06-28',\n",
              "       '2020-06-29', '2020-06-30', '2020-07-01', '2020-07-02',\n",
              "       '2020-07-03', '2020-07-04', '2020-07-05', '2020-07-06',\n",
              "       '2020-07-07', '2020-07-08', '2020-07-09', '2020-07-10',\n",
              "       '2020-07-11', '2020-07-12', '2020-07-13', '2020-07-14',\n",
              "       '2020-07-15', '2020-07-16', '2020-07-17', '2020-07-18',\n",
              "       '2020-07-19', '2020-07-20', '2020-07-21', '2020-07-22',\n",
              "       '2020-07-23', '2020-07-24', '2020-07-25', '2020-07-26',\n",
              "       '2020-07-27', '2020-07-28', '2020-07-29', '2020-07-30',\n",
              "       '2020-07-31', '2020-08-01', '2020-08-02', '2020-08-03',\n",
              "       '2020-08-04', '2020-08-05', '2020-08-06', '2020-08-07',\n",
              "       '2020-08-08', '2020-08-09', '2020-08-10', '2020-08-11',\n",
              "       '2020-08-12', '2020-08-13', '2020-08-14', '2020-08-15',\n",
              "       '2020-08-16', '2020-08-17', '2020-08-18', '2020-08-19',\n",
              "       '2020-08-20', '2020-08-21', '2020-08-22', '2020-08-23',\n",
              "       '2020-08-24', '2020-08-25', '2020-08-26', '2020-08-27',\n",
              "       '2020-08-28', '2020-08-29', '2020-08-30', '2020-08-31',\n",
              "       '2020-09-01', '2020-09-02', '2020-09-03', '2020-09-04',\n",
              "       '2020-09-05', '2020-09-06', '2020-09-07', '2020-09-08',\n",
              "       '2020-09-09', '2020-09-10', '2020-09-11', '2020-09-12',\n",
              "       '2020-09-13', '2020-09-14', '2020-09-15', '2020-09-16',\n",
              "       '2020-09-17', '2020-09-18', '2020-09-19', '2020-09-20',\n",
              "       '2020-09-21', '2020-09-22', '2020-09-23', '2020-09-24',\n",
              "       '2020-09-25', '2020-09-26', '2020-09-27', '2020-09-28',\n",
              "       '2020-09-29', '2020-09-30', '2020-10-01', '2020-10-02',\n",
              "       '2020-10-03', '2020-10-04', '2020-10-05', '2020-10-06',\n",
              "       '2020-10-07', '2020-10-08', '2020-10-09', '2020-10-10',\n",
              "       '2020-10-11', '2020-10-12', '2020-10-13'], dtype=object)"
            ]
          },
          "metadata": {
            "tags": []
          },
          "execution_count": 82
        }
      ]
    },
    {
      "cell_type": "code",
      "metadata": {
        "id": "2n4SkoakZ1eN",
        "outputId": "f66aba10-526a-4ee4-b2fb-c8f50dcd5e7c",
        "colab": {
          "base_uri": "https://localhost:8080/",
          "height": 346
        }
      },
      "source": [
        "plt.figure()\n",
        "\n",
        "date_list = ['2020-10-01', '2020-10-02',\n",
        "       '2020-10-03', '2020-10-04', '2020-10-05', '2020-10-06',\n",
        "       '2020-10-07', '2020-10-08', '2020-10-09', '2020-10-10',\n",
        "       '2020-10-11', '2020-10-12', '2020-10-13']\n",
        "\n",
        "filter_data = cluster_4[cluster_4['date'].isin(date_list)]\n",
        "x = filter_data['date']\n",
        "y1 = filter_data['New cases/1000 people'] \n",
        "y2 = filter_data['Social distancing index']\n",
        "\n",
        "\n",
        "plt.plot(x,y1)\n",
        "plt.plot(x,y2)\n",
        "plt.xticks(rotation=90)"
      ],
      "execution_count": 83,
      "outputs": [
        {
          "output_type": "execute_result",
          "data": {
            "text/plain": [
              "([0, 1, 2, 3, 4, 5, 6, 7, 8, 9, 10, 11, 12],\n",
              " <a list of 13 Text major ticklabel objects>)"
            ]
          },
          "metadata": {
            "tags": []
          },
          "execution_count": 83
        },
        {
          "output_type": "display_data",
          "data": {
            "image/png": "[encoded data removed]",
            "text/plain": [
              "<Figure size 432x288 with 1 Axes>"
            ]
          },
          "metadata": {
            "tags": [],
            "needs_background": "light"
          }
        }
      ]
    },
    {
      "cell_type": "code",
      "metadata": {
        "id": "Pbb1EpI6Z1eQ",
        "outputId": "32c2db29-c6d3-485c-f980-6da9f94dcb9e",
        "colab": {
          "base_uri": "https://localhost:8080/",
          "height": 366
        }
      },
      "source": [
        "# Method 1: on the same Axis\n",
        "date_list = ['2020-10-01', '2020-10-02',\n",
        "       '2020-10-03', '2020-10-04', '2020-10-05', '2020-10-06',\n",
        "       '2020-10-07', '2020-10-08', '2020-10-09', '2020-10-10',\n",
        "       '2020-10-11', '2020-10-12', '2020-10-13']\n",
        "\n",
        "filter_data = cluster_4[cluster_4['date'].isin(date_list)]\n",
        "\n",
        "sns.distplot( (filter_data['Social distancing index']) , color=\"blue\", label='Social distancing index')\n",
        "sns.distplot( filter_data['New cases/1000 people'] , color=\"red\", label='New cases/1000 people')\n",
        "plt.legend()\n",
        " \n",
        "plt.show()"
      ],
      "execution_count": 84,
      "outputs": [
        {
          "output_type": "stream",
          "text": [
            "/usr/local/lib/python3.6/dist-packages/seaborn/distributions.py:2551: FutureWarning: `distplot` is a deprecated function and will be removed in a future version. Please adapt your code to use either `displot` (a figure-level function with similar flexibility) or `histplot` (an axes-level function for histograms).\n",
            "  warnings.warn(msg, FutureWarning)\n",
            "/usr/local/lib/python3.6/dist-packages/seaborn/distributions.py:2551: FutureWarning: `distplot` is a deprecated function and will be removed in a future version. Please adapt your code to use either `displot` (a figure-level function with similar flexibility) or `histplot` (an axes-level function for histograms).\n",
            "  warnings.warn(msg, FutureWarning)\n"
          ],
          "name": "stderr"
        },
        {
          "output_type": "display_data",
          "data": {
            "image/png": "[encoded data removed]",
            "text/plain": [
              "<Figure size 432x288 with 1 Axes>"
            ]
          },
          "metadata": {
            "tags": [],
            "needs_background": "light"
          }
        }
      ]
    },
    {
      "cell_type": "markdown",
      "metadata": {
        "id": "hYoyfzcSarve"
      },
      "source": [
        "New case for each county"
      ]
    },
    {
      "cell_type": "code",
      "metadata": {
        "id": "59t5Ki36aaYI",
        "outputId": "99aa52db-8d2b-45bd-b859-6d362825118f",
        "colab": {
          "base_uri": "https://localhost:8080/",
          "height": 361
        }
      },
      "source": [
        "cluster_4.pivot(index='date', columns='CTNAME', values='New cases/1000 people').plot()\n",
        "plt.xticks(rotation=90)"
      ],
      "execution_count": 76,
      "outputs": [
        {
          "output_type": "execute_result",
          "data": {
            "text/plain": [
              "(array([-50.,   0.,  50., 100., 150., 200., 250., 300., 350.]),\n",
              " <a list of 9 Text major ticklabel objects>)"
            ]
          },
          "metadata": {
            "tags": []
          },
          "execution_count": 76
        },
        {
          "output_type": "display_data",
          "data": {
            "image/png": "[encoded data removed]",
            "text/plain": [
              "<Figure size 432x288 with 1 Axes>"
            ]
          },
          "metadata": {
            "tags": [],
            "needs_background": "light"
          }
        }
      ]
    },
    {
      "cell_type": "code",
      "metadata": {
        "id": "tSJCfoOBawjL",
        "outputId": "93816863-a105-47c4-efa6-6e40d12aa447",
        "colab": {
          "base_uri": "https://localhost:8080/",
          "height": 361
        }
      },
      "source": [
        "# Method 1: on the same Axis\n",
        "date_list = ['2020-10-01', '2020-10-02',\n",
        "       '2020-10-03', '2020-10-04', '2020-10-05', '2020-10-06',\n",
        "       '2020-10-07', '2020-10-08', '2020-10-09', '2020-10-10',\n",
        "       '2020-10-11', '2020-10-12', '2020-10-13']\n",
        "\n",
        "filter_data = cluster_4[cluster_4['date'].isin(date_list)]\n",
        "filter_data.pivot(index='date', columns='CTNAME', values='New cases/1000 people').plot()\n",
        "plt.xticks(rotation=90)"
      ],
      "execution_count": 77,
      "outputs": [
        {
          "output_type": "execute_result",
          "data": {
            "text/plain": [
              "(array([-2.,  0.,  2.,  4.,  6.,  8., 10., 12., 14.]),\n",
              " <a list of 9 Text major ticklabel objects>)"
            ]
          },
          "metadata": {
            "tags": []
          },
          "execution_count": 77
        },
        {
          "output_type": "display_data",
          "data": {
            "image/png": "[encoded data removed]",
            "text/plain": [
              "<Figure size 432x288 with 1 Axes>"
            ]
          },
          "metadata": {
            "tags": [],
            "needs_background": "light"
          }
        }
      ]
    },
    {
      "cell_type": "code",
      "metadata": {
        "id": "YNJgpPSMb4hU",
        "outputId": "2038d4c9-c601-4e70-f48d-8f34242c0f6f",
        "colab": {
          "base_uri": "https://localhost:8080/",
          "height": 350
        }
      },
      "source": [
        "sns.lineplot(data=filter_data, hue='CTNAME', x='date', y='New cases/1000 people')\n",
        "plt.xticks(rotation=45)"
      ],
      "execution_count": 86,
      "outputs": [
        {
          "output_type": "execute_result",
          "data": {
            "text/plain": [
              "([0, 1, 2, 3, 4, 5, 6, 7, 8, 9, 10, 11, 12],\n",
              " <a list of 13 Text major ticklabel objects>)"
            ]
          },
          "metadata": {
            "tags": []
          },
          "execution_count": 86
        },
        {
          "output_type": "display_data",
          "data": {
            "image/png": "[encoded data removed]",
            "text/plain": [
              "<Figure size 432x288 with 1 Axes>"
            ]
          },
          "metadata": {
            "tags": [],
            "needs_background": "light"
          }
        }
      ]
    },
    {
      "cell_type": "code",
      "metadata": {
        "id": "6zCeMfHfcPSU",
        "outputId": "a5efa0ff-fa4f-47c3-fc9a-665c9bd3aac8",
        "colab": {
          "base_uri": "https://localhost:8080/",
          "height": 350
        }
      },
      "source": [
        "sns.lineplot(data=filter_data, hue='CTNAME', x='date', y='Social distancing index')\n",
        "plt.xticks(rotation=45)"
      ],
      "execution_count": 89,
      "outputs": [
        {
          "output_type": "execute_result",
          "data": {
            "text/plain": [
              "([0, 1, 2, 3, 4, 5, 6, 7, 8, 9, 10, 11, 12],\n",
              " <a list of 13 Text major ticklabel objects>)"
            ]
          },
          "metadata": {
            "tags": []
          },
          "execution_count": 89
        },
        {
          "output_type": "display_data",
          "data": {
            "image/png": "[encoded data removed]",
            "text/plain": [
              "<Figure size 432x288 with 1 Axes>"
            ]
          },
          "metadata": {
            "tags": [],
            "needs_background": "light"
          }
        }
      ]
    },
    {
      "cell_type": "markdown",
      "metadata": {
        "id": "JVjEXb1ucX0h"
      },
      "source": [
        "## tSNE 3D"
      ]
    },
    {
      "cell_type": "code",
      "metadata": {
        "id": "Ns1tMRexfIo6",
        "outputId": "2492870a-ccf5-4ba4-bad1-080a18fbc532",
        "colab": {
          "base_uri": "https://localhost:8080/",
          "height": 869
        }
      },
      "source": [
        "tsne_3d_df = prepare_tsne(3, X, kmeans.labels_)\n",
        "plot_animation(tsne_3d_df, 'kmeans', 'kmeans')\n"
      ],
      "execution_count": null,
      "outputs": [
        {
          "output_type": "error",
          "ename": "KeyError",
          "evalue": "ignored",
          "traceback": [
            "\u001b[0;31m---------------------------------------------------------------------------\u001b[0m",
            "\u001b[0;31mKeyError\u001b[0m                                  Traceback (most recent call last)",
            "\u001b[0;32m/usr/local/lib/python3.6/dist-packages/pandas/core/indexes/base.py\u001b[0m in \u001b[0;36mget_loc\u001b[0;34m(self, key, method, tolerance)\u001b[0m\n\u001b[1;32m   2890\u001b[0m             \u001b[0;32mtry\u001b[0m\u001b[0;34m:\u001b[0m\u001b[0;34m\u001b[0m\u001b[0;34m\u001b[0m\u001b[0m\n\u001b[0;32m-> 2891\u001b[0;31m                 \u001b[0;32mreturn\u001b[0m \u001b[0mself\u001b[0m\u001b[0;34m.\u001b[0m\u001b[0m_engine\u001b[0m\u001b[0;34m.\u001b[0m\u001b[0mget_loc\u001b[0m\u001b[0;34m(\u001b[0m\u001b[0mcasted_key\u001b[0m\u001b[0;34m)\u001b[0m\u001b[0;34m\u001b[0m\u001b[0;34m\u001b[0m\u001b[0m\n\u001b[0m\u001b[1;32m   2892\u001b[0m             \u001b[0;32mexcept\u001b[0m \u001b[0mKeyError\u001b[0m \u001b[0;32mas\u001b[0m \u001b[0merr\u001b[0m\u001b[0;34m:\u001b[0m\u001b[0;34m\u001b[0m\u001b[0;34m\u001b[0m\u001b[0m\n",
            "\u001b[0;32mpandas/_libs/index.pyx\u001b[0m in \u001b[0;36mpandas._libs.index.IndexEngine.get_loc\u001b[0;34m()\u001b[0m\n",
            "\u001b[0;32mpandas/_libs/index.pyx\u001b[0m in \u001b[0;36mpandas._libs.index.IndexEngine.get_loc\u001b[0;34m()\u001b[0m\n",
            "\u001b[0;32mpandas/_libs/hashtable_class_helper.pxi\u001b[0m in \u001b[0;36mpandas._libs.hashtable.PyObjectHashTable.get_item\u001b[0;34m()\u001b[0m\n",
            "\u001b[0;32mpandas/_libs/hashtable_class_helper.pxi\u001b[0m in \u001b[0;36mpandas._libs.hashtable.PyObjectHashTable.get_item\u001b[0;34m()\u001b[0m\n",
            "\u001b[0;31mKeyError\u001b[0m: 'kmeans'",
            "\nThe above exception was the direct cause of the following exception:\n",
            "\u001b[0;31mKeyError\u001b[0m                                  Traceback (most recent call last)",
            "\u001b[0;32m<ipython-input-66-72f4441414a0>\u001b[0m in \u001b[0;36m<module>\u001b[0;34m()\u001b[0m\n\u001b[1;32m      1\u001b[0m \u001b[0mtsne_3d_df\u001b[0m \u001b[0;34m=\u001b[0m \u001b[0mprepare_tsne\u001b[0m\u001b[0;34m(\u001b[0m\u001b[0;36m3\u001b[0m\u001b[0;34m,\u001b[0m \u001b[0mX\u001b[0m\u001b[0;34m,\u001b[0m \u001b[0mkmeans\u001b[0m\u001b[0;34m.\u001b[0m\u001b[0mlabels_\u001b[0m\u001b[0;34m)\u001b[0m\u001b[0;34m\u001b[0m\u001b[0;34m\u001b[0m\u001b[0m\n\u001b[0;32m----> 2\u001b[0;31m \u001b[0mplot_animation\u001b[0m\u001b[0;34m(\u001b[0m\u001b[0mtsne_3d_df\u001b[0m\u001b[0;34m,\u001b[0m \u001b[0;34m'kmeans'\u001b[0m\u001b[0;34m,\u001b[0m \u001b[0;34m'kmeans'\u001b[0m\u001b[0;34m)\u001b[0m\u001b[0;34m\u001b[0m\u001b[0;34m\u001b[0m\u001b[0m\n\u001b[0m",
            "\u001b[0;32m<ipython-input-63-e52177d152f5>\u001b[0m in \u001b[0;36mplot_animation\u001b[0;34m(df, label_column, name)\u001b[0m\n\u001b[1;32m    107\u001b[0m     \u001b[0mfig\u001b[0m \u001b[0;34m=\u001b[0m \u001b[0mplt\u001b[0m\u001b[0;34m.\u001b[0m\u001b[0mfigure\u001b[0m\u001b[0;34m(\u001b[0m\u001b[0;34m)\u001b[0m\u001b[0;34m\u001b[0m\u001b[0;34m\u001b[0m\u001b[0m\n\u001b[1;32m    108\u001b[0m     \u001b[0max\u001b[0m \u001b[0;34m=\u001b[0m \u001b[0mfig\u001b[0m\u001b[0;34m.\u001b[0m\u001b[0madd_subplot\u001b[0m\u001b[0;34m(\u001b[0m\u001b[0;36m111\u001b[0m\u001b[0;34m,\u001b[0m \u001b[0mprojection\u001b[0m\u001b[0;34m=\u001b[0m\u001b[0;34m'3d'\u001b[0m\u001b[0;34m)\u001b[0m\u001b[0;34m\u001b[0m\u001b[0;34m\u001b[0m\u001b[0m\n\u001b[0;32m--> 109\u001b[0;31m     ax.scatter(tsne_3d_df['x'], tsne_3d_df['y'], tsne_3d_df['z'], c=tsne_3d_df[label_column],\n\u001b[0m\u001b[1;32m    110\u001b[0m                s=6, depthshade=True, cmap='Paired')\n\u001b[1;32m    111\u001b[0m     \u001b[0max\u001b[0m\u001b[0;34m.\u001b[0m\u001b[0mset_zlim\u001b[0m\u001b[0;34m(\u001b[0m\u001b[0;34m-\u001b[0m\u001b[0;36m15\u001b[0m\u001b[0;34m,\u001b[0m \u001b[0;36m25\u001b[0m\u001b[0;34m)\u001b[0m\u001b[0;34m\u001b[0m\u001b[0;34m\u001b[0m\u001b[0m\n",
            "\u001b[0;32m/usr/local/lib/python3.6/dist-packages/pandas/core/frame.py\u001b[0m in \u001b[0;36m__getitem__\u001b[0;34m(self, key)\u001b[0m\n\u001b[1;32m   2900\u001b[0m             \u001b[0;32mif\u001b[0m \u001b[0mself\u001b[0m\u001b[0;34m.\u001b[0m\u001b[0mcolumns\u001b[0m\u001b[0;34m.\u001b[0m\u001b[0mnlevels\u001b[0m \u001b[0;34m>\u001b[0m \u001b[0;36m1\u001b[0m\u001b[0;34m:\u001b[0m\u001b[0;34m\u001b[0m\u001b[0;34m\u001b[0m\u001b[0m\n\u001b[1;32m   2901\u001b[0m                 \u001b[0;32mreturn\u001b[0m \u001b[0mself\u001b[0m\u001b[0;34m.\u001b[0m\u001b[0m_getitem_multilevel\u001b[0m\u001b[0;34m(\u001b[0m\u001b[0mkey\u001b[0m\u001b[0;34m)\u001b[0m\u001b[0;34m\u001b[0m\u001b[0;34m\u001b[0m\u001b[0m\n\u001b[0;32m-> 2902\u001b[0;31m             \u001b[0mindexer\u001b[0m \u001b[0;34m=\u001b[0m \u001b[0mself\u001b[0m\u001b[0;34m.\u001b[0m\u001b[0mcolumns\u001b[0m\u001b[0;34m.\u001b[0m\u001b[0mget_loc\u001b[0m\u001b[0;34m(\u001b[0m\u001b[0mkey\u001b[0m\u001b[0;34m)\u001b[0m\u001b[0;34m\u001b[0m\u001b[0;34m\u001b[0m\u001b[0m\n\u001b[0m\u001b[1;32m   2903\u001b[0m             \u001b[0;32mif\u001b[0m \u001b[0mis_integer\u001b[0m\u001b[0;34m(\u001b[0m\u001b[0mindexer\u001b[0m\u001b[0;34m)\u001b[0m\u001b[0;34m:\u001b[0m\u001b[0;34m\u001b[0m\u001b[0;34m\u001b[0m\u001b[0m\n\u001b[1;32m   2904\u001b[0m                 \u001b[0mindexer\u001b[0m \u001b[0;34m=\u001b[0m \u001b[0;34m[\u001b[0m\u001b[0mindexer\u001b[0m\u001b[0;34m]\u001b[0m\u001b[0;34m\u001b[0m\u001b[0;34m\u001b[0m\u001b[0m\n",
            "\u001b[0;32m/usr/local/lib/python3.6/dist-packages/pandas/core/indexes/base.py\u001b[0m in \u001b[0;36mget_loc\u001b[0;34m(self, key, method, tolerance)\u001b[0m\n\u001b[1;32m   2891\u001b[0m                 \u001b[0;32mreturn\u001b[0m \u001b[0mself\u001b[0m\u001b[0;34m.\u001b[0m\u001b[0m_engine\u001b[0m\u001b[0;34m.\u001b[0m\u001b[0mget_loc\u001b[0m\u001b[0;34m(\u001b[0m\u001b[0mcasted_key\u001b[0m\u001b[0;34m)\u001b[0m\u001b[0;34m\u001b[0m\u001b[0;34m\u001b[0m\u001b[0m\n\u001b[1;32m   2892\u001b[0m             \u001b[0;32mexcept\u001b[0m \u001b[0mKeyError\u001b[0m \u001b[0;32mas\u001b[0m \u001b[0merr\u001b[0m\u001b[0;34m:\u001b[0m\u001b[0;34m\u001b[0m\u001b[0;34m\u001b[0m\u001b[0m\n\u001b[0;32m-> 2893\u001b[0;31m                 \u001b[0;32mraise\u001b[0m \u001b[0mKeyError\u001b[0m\u001b[0;34m(\u001b[0m\u001b[0mkey\u001b[0m\u001b[0;34m)\u001b[0m \u001b[0;32mfrom\u001b[0m \u001b[0merr\u001b[0m\u001b[0;34m\u001b[0m\u001b[0;34m\u001b[0m\u001b[0m\n\u001b[0m\u001b[1;32m   2894\u001b[0m \u001b[0;34m\u001b[0m\u001b[0m\n\u001b[1;32m   2895\u001b[0m         \u001b[0;32mif\u001b[0m \u001b[0mtolerance\u001b[0m \u001b[0;32mis\u001b[0m \u001b[0;32mnot\u001b[0m \u001b[0;32mNone\u001b[0m\u001b[0;34m:\u001b[0m\u001b[0;34m\u001b[0m\u001b[0;34m\u001b[0m\u001b[0m\n",
            "\u001b[0;31mKeyError\u001b[0m: 'kmeans'"
          ]
        },
        {
          "output_type": "display_data",
          "data": {
            "image/png": "[encoded data removed]",
            "text/plain": [
              "<Figure size 432x288 with 1 Axes>"
            ]
          },
          "metadata": {
            "tags": [],
            "needs_background": "light"
          }
        }
      ]
    },
    {
      "cell_type": "code",
      "metadata": {
        "id": "-KSuwy0EfI1z"
      },
      "source": [
        "tsne_3d_df['normalized_kmeans'] = normalized_kmeans.labels_\n",
        "plot_animation(tsne_3d_df, 'normalized_kmeans', 'normalized_kmeans')\n"
      ],
      "execution_count": null,
      "outputs": []
    },
    {
      "cell_type": "code",
      "metadata": {
        "id": "KlVAqY_FcXES",
        "outputId": "15a46e12-61c5-4539-cbfa-b6f619a74475",
        "colab": {
          "base_uri": "https://localhost:8080/",
          "height": 414
        }
      },
      "source": [
        "tsne_3d_df['dbscan'] = dbscan.labels_\n",
        "plot_animation(tsne_3d_df, 'dbscan', 'dbscan')"
      ],
      "execution_count": null,
      "outputs": [
        {
          "output_type": "error",
          "ename": "KeyboardInterrupt",
          "evalue": "ignored",
          "traceback": [
            "\u001b[0;31m---------------------------------------------------------------------------\u001b[0m",
            "\u001b[0;31mKeyboardInterrupt\u001b[0m                         Traceback (most recent call last)",
            "\u001b[0;32m<ipython-input-65-3e487d4b7563>\u001b[0m in \u001b[0;36m<module>\u001b[0;34m()\u001b[0m\n\u001b[0;32m----> 1\u001b[0;31m \u001b[0mtsne_3d_df\u001b[0m \u001b[0;34m=\u001b[0m \u001b[0mprepare_tsne\u001b[0m\u001b[0;34m(\u001b[0m\u001b[0;36m3\u001b[0m\u001b[0;34m,\u001b[0m \u001b[0mX\u001b[0m\u001b[0;34m,\u001b[0m \u001b[0mkmeans\u001b[0m\u001b[0;34m.\u001b[0m\u001b[0mlabels_\u001b[0m\u001b[0;34m)\u001b[0m\u001b[0;34m\u001b[0m\u001b[0;34m\u001b[0m\u001b[0m\n\u001b[0m\u001b[1;32m      2\u001b[0m \u001b[0mtsne_3d_df\u001b[0m\u001b[0;34m[\u001b[0m\u001b[0;34m'normalized_kmeans'\u001b[0m\u001b[0;34m]\u001b[0m \u001b[0;34m=\u001b[0m \u001b[0mnormalized_kmeans\u001b[0m\u001b[0;34m.\u001b[0m\u001b[0mlabels_\u001b[0m\u001b[0;34m\u001b[0m\u001b[0;34m\u001b[0m\u001b[0m\n\u001b[1;32m      3\u001b[0m \u001b[0mtsne_3d_df\u001b[0m\u001b[0;34m[\u001b[0m\u001b[0;34m'dbscan'\u001b[0m\u001b[0;34m]\u001b[0m \u001b[0;34m=\u001b[0m \u001b[0mdbscan\u001b[0m\u001b[0;34m.\u001b[0m\u001b[0mlabels_\u001b[0m\u001b[0;34m\u001b[0m\u001b[0;34m\u001b[0m\u001b[0m\n\u001b[1;32m      4\u001b[0m \u001b[0mplot_animation\u001b[0m\u001b[0;34m(\u001b[0m\u001b[0mtsne_3d_df\u001b[0m\u001b[0;34m,\u001b[0m \u001b[0;34m'kmeans'\u001b[0m\u001b[0;34m,\u001b[0m \u001b[0;34m'kmeans'\u001b[0m\u001b[0;34m)\u001b[0m\u001b[0;34m\u001b[0m\u001b[0;34m\u001b[0m\u001b[0m\n\u001b[1;32m      5\u001b[0m \u001b[0mplot_animation\u001b[0m\u001b[0;34m(\u001b[0m\u001b[0mtsne_3d_df\u001b[0m\u001b[0;34m,\u001b[0m \u001b[0;34m'normalized_kmeans'\u001b[0m\u001b[0;34m,\u001b[0m \u001b[0;34m'normalized_kmeans'\u001b[0m\u001b[0;34m)\u001b[0m\u001b[0;34m\u001b[0m\u001b[0;34m\u001b[0m\u001b[0m\n",
            "\u001b[0;32m<ipython-input-63-e52177d152f5>\u001b[0m in \u001b[0;36mprepare_tsne\u001b[0;34m(n_components, data, kmeans_labels)\u001b[0m\n\u001b[1;32m     84\u001b[0m \u001b[0;32mdef\u001b[0m \u001b[0mprepare_tsne\u001b[0m\u001b[0;34m(\u001b[0m\u001b[0mn_components\u001b[0m\u001b[0;34m,\u001b[0m \u001b[0mdata\u001b[0m\u001b[0;34m,\u001b[0m \u001b[0mkmeans_labels\u001b[0m\u001b[0;34m)\u001b[0m\u001b[0;34m:\u001b[0m\u001b[0;34m\u001b[0m\u001b[0;34m\u001b[0m\u001b[0m\n\u001b[1;32m     85\u001b[0m     \u001b[0mnames\u001b[0m \u001b[0;34m=\u001b[0m \u001b[0;34m[\u001b[0m\u001b[0;34m'x'\u001b[0m\u001b[0;34m,\u001b[0m \u001b[0;34m'y'\u001b[0m\u001b[0;34m,\u001b[0m \u001b[0;34m'z'\u001b[0m\u001b[0;34m]\u001b[0m\u001b[0;34m\u001b[0m\u001b[0;34m\u001b[0m\u001b[0m\n\u001b[0;32m---> 86\u001b[0;31m     \u001b[0mmatrix\u001b[0m \u001b[0;34m=\u001b[0m \u001b[0mTSNE\u001b[0m\u001b[0;34m(\u001b[0m\u001b[0mn_components\u001b[0m\u001b[0;34m=\u001b[0m\u001b[0mn_components\u001b[0m\u001b[0;34m)\u001b[0m\u001b[0;34m.\u001b[0m\u001b[0mfit_transform\u001b[0m\u001b[0;34m(\u001b[0m\u001b[0mdata\u001b[0m\u001b[0;34m)\u001b[0m\u001b[0;34m\u001b[0m\u001b[0;34m\u001b[0m\u001b[0m\n\u001b[0m\u001b[1;32m     87\u001b[0m     \u001b[0mdf_matrix\u001b[0m \u001b[0;34m=\u001b[0m \u001b[0mpd\u001b[0m\u001b[0;34m.\u001b[0m\u001b[0mDataFrame\u001b[0m\u001b[0;34m(\u001b[0m\u001b[0mmatrix\u001b[0m\u001b[0;34m)\u001b[0m\u001b[0;34m\u001b[0m\u001b[0;34m\u001b[0m\u001b[0m\n\u001b[1;32m     88\u001b[0m     \u001b[0mdf_matrix\u001b[0m\u001b[0;34m.\u001b[0m\u001b[0mrename\u001b[0m\u001b[0;34m(\u001b[0m\u001b[0;34m{\u001b[0m\u001b[0mi\u001b[0m\u001b[0;34m:\u001b[0m\u001b[0mnames\u001b[0m\u001b[0;34m[\u001b[0m\u001b[0mi\u001b[0m\u001b[0;34m]\u001b[0m \u001b[0;32mfor\u001b[0m \u001b[0mi\u001b[0m \u001b[0;32min\u001b[0m \u001b[0mrange\u001b[0m\u001b[0;34m(\u001b[0m\u001b[0mn_components\u001b[0m\u001b[0;34m)\u001b[0m\u001b[0;34m}\u001b[0m\u001b[0;34m,\u001b[0m \u001b[0maxis\u001b[0m\u001b[0;34m=\u001b[0m\u001b[0;36m1\u001b[0m\u001b[0;34m,\u001b[0m \u001b[0minplace\u001b[0m\u001b[0;34m=\u001b[0m\u001b[0;32mTrue\u001b[0m\u001b[0;34m)\u001b[0m\u001b[0;34m\u001b[0m\u001b[0;34m\u001b[0m\u001b[0m\n",
            "\u001b[0;32m/usr/local/lib/python3.6/dist-packages/sklearn/manifold/_t_sne.py\u001b[0m in \u001b[0;36mfit_transform\u001b[0;34m(self, X, y)\u001b[0m\n\u001b[1;32m    884\u001b[0m             \u001b[0mEmbedding\u001b[0m \u001b[0mof\u001b[0m \u001b[0mthe\u001b[0m \u001b[0mtraining\u001b[0m \u001b[0mdata\u001b[0m \u001b[0;32min\u001b[0m \u001b[0mlow\u001b[0m\u001b[0;34m-\u001b[0m\u001b[0mdimensional\u001b[0m \u001b[0mspace\u001b[0m\u001b[0;34m.\u001b[0m\u001b[0;34m\u001b[0m\u001b[0;34m\u001b[0m\u001b[0m\n\u001b[1;32m    885\u001b[0m         \"\"\"\n\u001b[0;32m--> 886\u001b[0;31m         \u001b[0membedding\u001b[0m \u001b[0;34m=\u001b[0m \u001b[0mself\u001b[0m\u001b[0;34m.\u001b[0m\u001b[0m_fit\u001b[0m\u001b[0;34m(\u001b[0m\u001b[0mX\u001b[0m\u001b[0;34m)\u001b[0m\u001b[0;34m\u001b[0m\u001b[0;34m\u001b[0m\u001b[0m\n\u001b[0m\u001b[1;32m    887\u001b[0m         \u001b[0mself\u001b[0m\u001b[0;34m.\u001b[0m\u001b[0membedding_\u001b[0m \u001b[0;34m=\u001b[0m \u001b[0membedding\u001b[0m\u001b[0;34m\u001b[0m\u001b[0;34m\u001b[0m\u001b[0m\n\u001b[1;32m    888\u001b[0m         \u001b[0;32mreturn\u001b[0m \u001b[0mself\u001b[0m\u001b[0;34m.\u001b[0m\u001b[0membedding_\u001b[0m\u001b[0;34m\u001b[0m\u001b[0;34m\u001b[0m\u001b[0m\n",
            "\u001b[0;32m/usr/local/lib/python3.6/dist-packages/sklearn/manifold/_t_sne.py\u001b[0m in \u001b[0;36m_fit\u001b[0;34m(self, X, skip_num_points)\u001b[0m\n\u001b[1;32m    796\u001b[0m                           \u001b[0mX_embedded\u001b[0m\u001b[0;34m=\u001b[0m\u001b[0mX_embedded\u001b[0m\u001b[0;34m,\u001b[0m\u001b[0;34m\u001b[0m\u001b[0;34m\u001b[0m\u001b[0m\n\u001b[1;32m    797\u001b[0m                           \u001b[0mneighbors\u001b[0m\u001b[0;34m=\u001b[0m\u001b[0mneighbors_nn\u001b[0m\u001b[0;34m,\u001b[0m\u001b[0;34m\u001b[0m\u001b[0;34m\u001b[0m\u001b[0m\n\u001b[0;32m--> 798\u001b[0;31m                           skip_num_points=skip_num_points)\n\u001b[0m\u001b[1;32m    799\u001b[0m \u001b[0;34m\u001b[0m\u001b[0m\n\u001b[1;32m    800\u001b[0m     def _tsne(self, P, degrees_of_freedom, n_samples, X_embedded,\n",
            "\u001b[0;32m/usr/local/lib/python3.6/dist-packages/sklearn/manifold/_t_sne.py\u001b[0m in \u001b[0;36m_tsne\u001b[0;34m(self, P, degrees_of_freedom, n_samples, X_embedded, neighbors, skip_num_points)\u001b[0m\n\u001b[1;32m    835\u001b[0m         \u001b[0mP\u001b[0m \u001b[0;34m*=\u001b[0m \u001b[0mself\u001b[0m\u001b[0;34m.\u001b[0m\u001b[0mearly_exaggeration\u001b[0m\u001b[0;34m\u001b[0m\u001b[0;34m\u001b[0m\u001b[0m\n\u001b[1;32m    836\u001b[0m         params, kl_divergence, it = _gradient_descent(obj_func, params,\n\u001b[0;32m--> 837\u001b[0;31m                                                       **opt_args)\n\u001b[0m\u001b[1;32m    838\u001b[0m         \u001b[0;32mif\u001b[0m \u001b[0mself\u001b[0m\u001b[0;34m.\u001b[0m\u001b[0mverbose\u001b[0m\u001b[0;34m:\u001b[0m\u001b[0;34m\u001b[0m\u001b[0;34m\u001b[0m\u001b[0m\n\u001b[1;32m    839\u001b[0m             print(\"[t-SNE] KL divergence after %d iterations with early \"\n",
            "\u001b[0;32m/usr/local/lib/python3.6/dist-packages/sklearn/manifold/_t_sne.py\u001b[0m in \u001b[0;36m_gradient_descent\u001b[0;34m(objective, p0, it, n_iter, n_iter_check, n_iter_without_progress, momentum, learning_rate, min_gain, min_grad_norm, verbose, args, kwargs)\u001b[0m\n\u001b[1;32m    356\u001b[0m         \u001b[0mkwargs\u001b[0m\u001b[0;34m[\u001b[0m\u001b[0;34m'compute_error'\u001b[0m\u001b[0;34m]\u001b[0m \u001b[0;34m=\u001b[0m \u001b[0mcheck_convergence\u001b[0m \u001b[0;32mor\u001b[0m \u001b[0mi\u001b[0m \u001b[0;34m==\u001b[0m \u001b[0mn_iter\u001b[0m \u001b[0;34m-\u001b[0m \u001b[0;36m1\u001b[0m\u001b[0;34m\u001b[0m\u001b[0;34m\u001b[0m\u001b[0m\n\u001b[1;32m    357\u001b[0m \u001b[0;34m\u001b[0m\u001b[0m\n\u001b[0;32m--> 358\u001b[0;31m         \u001b[0merror\u001b[0m\u001b[0;34m,\u001b[0m \u001b[0mgrad\u001b[0m \u001b[0;34m=\u001b[0m \u001b[0mobjective\u001b[0m\u001b[0;34m(\u001b[0m\u001b[0mp\u001b[0m\u001b[0;34m,\u001b[0m \u001b[0;34m*\u001b[0m\u001b[0margs\u001b[0m\u001b[0;34m,\u001b[0m \u001b[0;34m**\u001b[0m\u001b[0mkwargs\u001b[0m\u001b[0;34m)\u001b[0m\u001b[0;34m\u001b[0m\u001b[0;34m\u001b[0m\u001b[0m\n\u001b[0m\u001b[1;32m    359\u001b[0m         \u001b[0mgrad_norm\u001b[0m \u001b[0;34m=\u001b[0m \u001b[0mlinalg\u001b[0m\u001b[0;34m.\u001b[0m\u001b[0mnorm\u001b[0m\u001b[0;34m(\u001b[0m\u001b[0mgrad\u001b[0m\u001b[0;34m)\u001b[0m\u001b[0;34m\u001b[0m\u001b[0;34m\u001b[0m\u001b[0m\n\u001b[1;32m    360\u001b[0m \u001b[0;34m\u001b[0m\u001b[0m\n",
            "\u001b[0;32m/usr/local/lib/python3.6/dist-packages/sklearn/manifold/_t_sne.py\u001b[0m in \u001b[0;36m_kl_divergence_bh\u001b[0;34m(params, P, degrees_of_freedom, n_samples, n_components, angle, skip_num_points, verbose, compute_error, num_threads)\u001b[0m\n\u001b[1;32m    260\u001b[0m                                       \u001b[0mdof\u001b[0m\u001b[0;34m=\u001b[0m\u001b[0mdegrees_of_freedom\u001b[0m\u001b[0;34m,\u001b[0m\u001b[0;34m\u001b[0m\u001b[0;34m\u001b[0m\u001b[0m\n\u001b[1;32m    261\u001b[0m                                       \u001b[0mcompute_error\u001b[0m\u001b[0;34m=\u001b[0m\u001b[0mcompute_error\u001b[0m\u001b[0;34m,\u001b[0m\u001b[0;34m\u001b[0m\u001b[0;34m\u001b[0m\u001b[0m\n\u001b[0;32m--> 262\u001b[0;31m                                       num_threads=num_threads)\n\u001b[0m\u001b[1;32m    263\u001b[0m     \u001b[0mc\u001b[0m \u001b[0;34m=\u001b[0m \u001b[0;36m2.0\u001b[0m \u001b[0;34m*\u001b[0m \u001b[0;34m(\u001b[0m\u001b[0mdegrees_of_freedom\u001b[0m \u001b[0;34m+\u001b[0m \u001b[0;36m1.0\u001b[0m\u001b[0;34m)\u001b[0m \u001b[0;34m/\u001b[0m \u001b[0mdegrees_of_freedom\u001b[0m\u001b[0;34m\u001b[0m\u001b[0;34m\u001b[0m\u001b[0m\n\u001b[1;32m    264\u001b[0m     \u001b[0mgrad\u001b[0m \u001b[0;34m=\u001b[0m \u001b[0mgrad\u001b[0m\u001b[0;34m.\u001b[0m\u001b[0mravel\u001b[0m\u001b[0;34m(\u001b[0m\u001b[0;34m)\u001b[0m\u001b[0;34m\u001b[0m\u001b[0;34m\u001b[0m\u001b[0m\n",
            "\u001b[0;31mKeyboardInterrupt\u001b[0m: "
          ]
        }
      ]
    },
    {
      "cell_type": "code",
      "metadata": {
        "id": "bB05X9w6cWJ2"
      },
      "source": [
        ""
      ],
      "execution_count": null,
      "outputs": []
    },
    {
      "cell_type": "markdown",
      "metadata": {
        "id": "JmXaGVp8y8e_"
      },
      "source": [
        "# unused"
      ]
    },
    {
      "cell_type": "code",
      "metadata": {
        "id": "xnjlaU_nXOrO",
        "outputId": "44403ff9-f8f1-4b63-baa5-45ae7b32b2e2",
        "colab": {
          "base_uri": "https://localhost:8080/",
          "height": 35
        }
      },
      "source": [
        "min_samples = X.shape[1]+1 \n",
        "dbscan = DBSCAN(eps=3, min_samples=2).fit(X)\n",
        "labels = dbscan.labels_\n",
        "\n",
        "print('DBSCAN: {}'.format(silhouette_score(X, labels)))\n",
        "                                          # metric='cosine')))"
      ],
      "execution_count": null,
      "outputs": [
        {
          "output_type": "stream",
          "text": [
            "DBSCAN: -0.9049315073795233\n"
          ],
          "name": "stdout"
        }
      ]
    },
    {
      "cell_type": "code",
      "metadata": {
        "id": "5gpib01SWG_d"
      },
      "source": [
        "clusters = {this_class:[training_inputs[i] for i,c in enumerate(training_outputs_labels) if c == this_class] for this_class in range(n_classes)}\n",
        "centroids = [np.mean(np.array(vectors), axis=0) for vectors in clusters.values()]"
      ],
      "execution_count": null,
      "outputs": []
    },
    {
      "cell_type": "code",
      "metadata": {
        "id": "YqCJ10MHYk8k"
      },
      "source": [
        "centroids[0]\n"
      ],
      "execution_count": null,
      "outputs": []
    },
    {
      "cell_type": "code",
      "metadata": {
        "id": "pdeoaocCTuVe"
      },
      "source": [
        "def plot_class_centroid(c):\n",
        "  class_vectors = list(clusters.values())[c]\n",
        "  class_label_vector = centroids[c]\n",
        "  \n",
        "  X = [x for x,_ in class_vectors + [class_label_vector]]\n",
        "  Y = [y for _,y in class_vectors + [class_label_vector]]\n",
        "  colours = ([c] * (len(X) - 1)) + [c+1]\n",
        "  sizes = ([10] * (len(X) - 1)) + [len(X)]\n",
        "\n",
        "  plt.scatter(X, Y, s = sizes, c= colours, alpha=0.5)"
      ],
      "execution_count": null,
      "outputs": []
    },
    {
      "cell_type": "code",
      "metadata": {
        "id": "vPdTOoKRYT-R"
      },
      "source": [
        "class_vectors = list(clusters.values())[0]\n",
        "class_label_vector = centroids[0]\n",
        "#print(class_label_vector)\n",
        "#print(class_vectors)\n",
        "#X = [x for x,_ in class_vectors + [class_label_vector]]\n"
      ],
      "execution_count": null,
      "outputs": []
    },
    {
      "cell_type": "code",
      "metadata": {
        "id": "PYK2CexaTIxN"
      },
      "source": [
        "from scipy.spatial.distance import cosine\n",
        "\n",
        "def predict_class(vector, class_vectors):\n",
        "  scores = [(cosine(vector, class_vector),c) for c,class_vector in enumerate(class_vectors)]\n",
        "  ranked = [c for _,c in sorted(scores)]\n",
        "  return ranked[0]"
      ],
      "execution_count": null,
      "outputs": []
    },
    {
      "cell_type": "code",
      "metadata": {
        "id": "bPKwc9uCZNhR"
      },
      "source": [
        "maryland_sd_inertia_6states[X_cols].values[0]"
      ],
      "execution_count": null,
      "outputs": []
    },
    {
      "cell_type": "code",
      "metadata": {
        "id": "u9uiikdjZFKP"
      },
      "source": [
        "predict_class(maryland_sd_inertia_6states[X_cols].values[299], centroids)"
      ],
      "execution_count": null,
      "outputs": []
    },
    {
      "cell_type": "markdown",
      "metadata": {
        "id": "xQ5c2Nf2Z_Cw"
      },
      "source": [
        "## Evaluate metrics"
      ]
    },
    {
      "cell_type": "code",
      "metadata": {
        "id": "ksc6tl06aAjY"
      },
      "source": [
        "from sklearn.metrics import classification_report, confusion_matrix\n",
        "import pandas as pd\n",
        "import seaborn as sns\n",
        "import matplotlib.pyplot as plt\n",
        "\n",
        "def evaluate(y,y_hat,labels):\n",
        "  print(classification_report(y,y_hat))\n",
        "  cm = confusion_matrix(y,y_hat)\n",
        "  cm = cm.astype('float') / cm.sum(axis=1)[:, np.newaxis]\n",
        "  cmat = pd.DataFrame(cm)\n",
        "  cmat.columns = labels\n",
        "  #cmat.set_index([pd.Index(labels, '')],inplace=True)\n",
        "  sns.heatmap(cmat,cmap=\"YlGnBu\", annot=True)\n",
        "  plt.title(\"Confusion Matrix\")"
      ],
      "execution_count": null,
      "outputs": []
    },
    {
      "cell_type": "code",
      "metadata": {
        "id": "67PPwHJeaHYR"
      },
      "source": [
        "training_outputs_labels = [c for row in maryland_sd_inertia_6states[Y_col].values for c in row]\n",
        "labels = set(training_outputs_labels)\n",
        "labels"
      ],
      "execution_count": null,
      "outputs": []
    },
    {
      "cell_type": "code",
      "metadata": {
        "id": "AW600SIfZI9s"
      },
      "source": [
        "centroid_predictions_labels = [predict_class(xy, centroids) for xy in maryland_sd_inertia_6states[X_cols].values]\n",
        "print(centroid_predictions_labels)\n",
        "print(training_outputs_labels)\n",
        "evaluate(training_outputs_labels, centroid_predictions_labels, labels)\n",
        "\n"
      ],
      "execution_count": null,
      "outputs": []
    },
    {
      "cell_type": "code",
      "metadata": {
        "id": "ci4HIStKbTKA"
      },
      "source": [
        "def one_hot(i, vec_len):\n",
        "  vector = [0]*vec_len\n",
        "  vector[i] = 1\n",
        "  return vector\n",
        "\n",
        "def format_prediction(predicted_outputs):\n",
        "  predicted_image_array = np.zeros_like(image_array)\n",
        "  i = 1\n",
        "  for row,pixels in enumerate(predicted_image_array):\n",
        "    for column in range(len(pixels)):\n",
        "      #print(i)\n",
        "      #if i >= y: print('breaking ',i); break\n",
        "\n",
        "      p = np.argmax(predicted_outputs[i-1])\n",
        "      predicted_image_array[row][column] = [WHITE,RED,BLUE][p]\n",
        "      i += 1\n",
        "    #break\n",
        "  return predicted_image_array"
      ],
      "execution_count": null,
      "outputs": []
    },
    {
      "cell_type": "code",
      "metadata": {
        "id": "qlgDuBjFcUB2"
      },
      "source": [
        "RED = [255,0,0]\n",
        "WHITE = [255,255,255]\n",
        "BLUE = [0,0,255]\n",
        "\n",
        "x,y = maryland_sd_inertia_6states.shape\n",
        "z = 3 # number of classes \n",
        "x,y,z"
      ],
      "execution_count": null,
      "outputs": []
    },
    {
      "cell_type": "code",
      "metadata": {
        "id": "eQUPXrOucPMr"
      },
      "source": [
        "image_array = np.zeros((x,y,z), np.uint8)\n"
      ],
      "execution_count": null,
      "outputs": []
    },
    {
      "cell_type": "code",
      "metadata": {
        "id": "w6zh-12WgQV5"
      },
      "source": [
        "plot_class_centroid(0)\n",
        "centroids[0]"
      ],
      "execution_count": null,
      "outputs": []
    },
    {
      "cell_type": "code",
      "metadata": {
        "id": "o_tQZD4vbLZL"
      },
      "source": [
        "\n",
        "centroid_predictions = [one_hot(p, z) for p in centroid_predictions_labels]\n",
        "#Image.fromarray(format_prediction(centroid_predictions)) \n",
        "centroid_predictions"
      ],
      "execution_count": null,
      "outputs": []
    }
  ]
}