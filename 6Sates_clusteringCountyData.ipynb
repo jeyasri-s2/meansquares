{
  "nbformat": 4,
  "nbformat_minor": 0,
  "metadata": {
    "colab": {
      "name": "6Sates_clusteringCountyData.ipynb",
      "provenance": [],
      "toc_visible": true,
      "machine_shape": "hm",
      "include_colab_link": true
    },
    "kernelspec": {
      "name": "python3",
      "display_name": "Python 3"
    },
    "accelerator": "GPU"
  },
  "cells": [
    {
      "cell_type": "markdown",
      "metadata": {
        "id": "view-in-github",
        "colab_type": "text"
      },
      "source": [
        "<a href=\"https://colab.research.google.com/github/aarsanjani/meansquares/blob/master/6Sates_clusteringCountyData.ipynb\" target=\"_parent\"><img src=\"https://colab.research.google.com/assets/colab-badge.svg\" alt=\"Open In Colab\"/></a>"
      ]
    },
    {
      "cell_type": "markdown",
      "metadata": {
        "id": "Gi5Lur7JSMqm"
      },
      "source": [
        "# Mount Google drive"
      ]
    },
    {
      "cell_type": "code",
      "metadata": {
        "id": "xI0kKjV-SEeJ",
        "outputId": "13176eaa-89e9-4b01-de9b-53e356562bbe",
        "colab": {
          "base_uri": "https://localhost:8080/",
          "height": 35
        }
      },
      "source": [
        "from google.colab import drive\n",
        "drive.mount('/content/drive')"
      ],
      "execution_count": 1,
      "outputs": [
        {
          "output_type": "stream",
          "text": [
            "Mounted at /content/drive\n"
          ],
          "name": "stdout"
        }
      ]
    },
    {
      "cell_type": "code",
      "metadata": {
        "id": "q8uHwYca2uYK",
        "outputId": "e5c35af6-cf4e-4edb-a57e-9446d6f5ea68",
        "colab": {
          "base_uri": "https://localhost:8080/",
          "height": 193
        }
      },
      "source": [
        "!pip install wget"
      ],
      "execution_count": 2,
      "outputs": [
        {
          "output_type": "stream",
          "text": [
            "Collecting wget\n",
            "  Downloading https://files.pythonhosted.org/packages/47/6a/62e288da7bcda82b935ff0c6cfe542970f04e29c756b0e147251b2fb251f/wget-3.2.zip\n",
            "Building wheels for collected packages: wget\n",
            "  Building wheel for wget (setup.py) ... \u001b[?25l\u001b[?25hdone\n",
            "  Created wheel for wget: filename=wget-3.2-cp36-none-any.whl size=9682 sha256=77523ade696cc58e39312b57e45c85f0f5cc3d6a031b3f5380df99fa11fe8fa6\n",
            "  Stored in directory: /root/.cache/pip/wheels/40/15/30/7d8f7cea2902b4db79e3fea550d7d7b85ecb27ef992b618f3f\n",
            "Successfully built wget\n",
            "Installing collected packages: wget\n",
            "Successfully installed wget-3.2\n"
          ],
          "name": "stdout"
        }
      ]
    },
    {
      "cell_type": "code",
      "metadata": {
        "id": "JZSJKwrhSSW-",
        "outputId": "3a1d024a-eb83-40e3-b492-98cd1b953c94",
        "colab": {
          "base_uri": "https://localhost:8080/",
          "height": 72
        }
      },
      "source": [
        "import pandas as pd\n",
        "import wget \n",
        "from PIL import Image\n",
        "\n",
        "from tqdm import tqdm\n",
        "import seaborn as sns\n",
        "import numpy as np\n",
        "import matplotlib.pyplot as plt\n",
        "\n",
        "import seaborn as sns\n",
        "import os\n",
        "from pandas import Series, datetime\n",
        "from pandas.plotting import scatter_matrix, autocorrelation_plot\n",
        "from sklearn.preprocessing import StandardScaler, RobustScaler\n",
        "from sklearn.model_selection import train_test_split, KFold, cross_val_score, GridSearchCV, TimeSeriesSplit\n",
        "from sklearn import metrics\n",
        "from sklearn.metrics import classification_report, confusion_matrix, accuracy_score, mean_squared_error\n",
        "from sklearn.pipeline import Pipeline\n",
        "from sklearn.linear_model import LogisticRegression\n",
        "from sklearn.tree import DecisionTreeClassifier\n",
        "from sklearn.neighbors import KNeighborsClassifier\n",
        "from sklearn.discriminant_analysis import LinearDiscriminantAnalysis\n",
        "from sklearn.naive_bayes import GaussianNB\n",
        "from sklearn.cluster import KMeans\n",
        "from sklearn.svm import SVC\n",
        "from sklearn.ensemble import AdaBoostClassifier, GradientBoostingClassifier, RandomForestClassifier, ExtraTreesClassifier\n",
        "from sklearn.metrics import roc_curve, auc\n",
        "import random\n",
        "from statsmodels.graphics.tsaplots import plot_acf, plot_pacf\n",
        "from statsmodels.tsa.arima_model import ARIMA\n",
        "from xgboost import XGBClassifier\n",
        "from sklearn.mixture import GaussianMixture"
      ],
      "execution_count": 3,
      "outputs": [
        {
          "output_type": "stream",
          "text": [
            "/usr/local/lib/python3.6/dist-packages/statsmodels/tools/_testing.py:19: FutureWarning: pandas.util.testing is deprecated. Use the functions in the public API at pandas.testing instead.\n",
            "  import pandas.util.testing as tm\n"
          ],
          "name": "stderr"
        }
      ]
    },
    {
      "cell_type": "markdown",
      "metadata": {
        "id": "KfQVyRsivqLk"
      },
      "source": [
        "# Load USA State Fips Code"
      ]
    },
    {
      "cell_type": "code",
      "metadata": {
        "id": "FgDo8I3Yvw9v",
        "outputId": "ed5794fb-6555-48db-f707-194007a5115e",
        "colab": {
          "base_uri": "https://localhost:8080/",
          "height": 198
        }
      },
      "source": [
        "state_fips_code = pd.read_csv('/content/drive/Shared drives/CMPE 295- Master Project/Covid19-data/US_State_FIPSCodes.csv',low_memory=False)\n",
        "state_fips_code.head()"
      ],
      "execution_count": 4,
      "outputs": [
        {
          "output_type": "execute_result",
          "data": {
            "text/html": [
              "<div>\n",
              "<style scoped>\n",
              "    .dataframe tbody tr th:only-of-type {\n",
              "        vertical-align: middle;\n",
              "    }\n",
              "\n",
              "    .dataframe tbody tr th {\n",
              "        vertical-align: top;\n",
              "    }\n",
              "\n",
              "    .dataframe thead th {\n",
              "        text-align: right;\n",
              "    }\n",
              "</style>\n",
              "<table border=\"1\" class=\"dataframe\">\n",
              "  <thead>\n",
              "    <tr style=\"text-align: right;\">\n",
              "      <th></th>\n",
              "      <th>State</th>\n",
              "      <th>Postal Code</th>\n",
              "      <th>STFIPS</th>\n",
              "    </tr>\n",
              "  </thead>\n",
              "  <tbody>\n",
              "    <tr>\n",
              "      <th>0</th>\n",
              "      <td>Alabama</td>\n",
              "      <td>AL</td>\n",
              "      <td>1</td>\n",
              "    </tr>\n",
              "    <tr>\n",
              "      <th>1</th>\n",
              "      <td>Alaska</td>\n",
              "      <td>AK</td>\n",
              "      <td>2</td>\n",
              "    </tr>\n",
              "    <tr>\n",
              "      <th>2</th>\n",
              "      <td>Arizona</td>\n",
              "      <td>AZ</td>\n",
              "      <td>4</td>\n",
              "    </tr>\n",
              "    <tr>\n",
              "      <th>3</th>\n",
              "      <td>Arkansas</td>\n",
              "      <td>AR</td>\n",
              "      <td>5</td>\n",
              "    </tr>\n",
              "    <tr>\n",
              "      <th>4</th>\n",
              "      <td>California</td>\n",
              "      <td>CA</td>\n",
              "      <td>6</td>\n",
              "    </tr>\n",
              "  </tbody>\n",
              "</table>\n",
              "</div>"
            ],
            "text/plain": [
              "        State Postal Code  STFIPS\n",
              "0     Alabama          AL       1\n",
              "1      Alaska          AK       2\n",
              "2     Arizona          AZ       4\n",
              "3    Arkansas          AR       5\n",
              "4  California          CA       6"
            ]
          },
          "metadata": {
            "tags": []
          },
          "execution_count": 4
        }
      ]
    },
    {
      "cell_type": "markdown",
      "metadata": {
        "id": "IgQMAiJvkp0W"
      },
      "source": [
        "# Load Social Distancing Inertia Data [Maryland University]"
      ]
    },
    {
      "cell_type": "code",
      "metadata": {
        "id": "tvjz6T10kx1P",
        "outputId": "0415df53-d33f-4e63-9c6c-6084f33b2e05",
        "colab": {
          "base_uri": "https://localhost:8080/",
          "height": 374
        }
      },
      "source": [
        "maryland_sd_inertia = pd.read_csv('/content/drive/Shared drives/CMPE 295- Master Project/Covid19-data/Maryland_Inertia_Data/County_Oct13.csv',low_memory=False)\n",
        "maryland_sd_inertia.head()"
      ],
      "execution_count": 5,
      "outputs": [
        {
          "output_type": "execute_result",
          "data": {
            "text/html": [
              "<div>\n",
              "<style scoped>\n",
              "    .dataframe tbody tr th:only-of-type {\n",
              "        vertical-align: middle;\n",
              "    }\n",
              "\n",
              "    .dataframe tbody tr th {\n",
              "        vertical-align: top;\n",
              "    }\n",
              "\n",
              "    .dataframe thead th {\n",
              "        text-align: right;\n",
              "    }\n",
              "</style>\n",
              "<table border=\"1\" class=\"dataframe\">\n",
              "  <thead>\n",
              "    <tr style=\"text-align: right;\">\n",
              "      <th></th>\n",
              "      <th>CTFIPS</th>\n",
              "      <th>CTNAME</th>\n",
              "      <th>STFIPS</th>\n",
              "      <th>Social distancing index</th>\n",
              "      <th>% staying home</th>\n",
              "      <th>Trips/person</th>\n",
              "      <th>% out-of-county trips</th>\n",
              "      <th>% out-of-state trips</th>\n",
              "      <th>Miles/person</th>\n",
              "      <th>Work trips/person</th>\n",
              "      <th>Non-work trips/person</th>\n",
              "      <th>New COVID cases</th>\n",
              "      <th>Population</th>\n",
              "      <th>% change in consumption</th>\n",
              "      <th>date</th>\n",
              "      <th>Transit mode share</th>\n",
              "      <th>% people older than 60</th>\n",
              "      <th>Median income</th>\n",
              "      <th>% African Americans</th>\n",
              "      <th>% Hispanic Americans</th>\n",
              "      <th>% Male</th>\n",
              "      <th>Population density</th>\n",
              "      <th>Employment density</th>\n",
              "      <th># hot spots/1000 people</th>\n",
              "      <th>Hospital beds/1000 people</th>\n",
              "      <th>ICUs/1000 people</th>\n",
              "      <th># contact tracing workers/1000 people</th>\n",
              "      <th>New cases/1000 people</th>\n",
              "      <th>Active cases/1000 people</th>\n",
              "      <th>#days: decreasing COVID cases</th>\n",
              "      <th>% hospital bed utilization</th>\n",
              "      <th>Testing capacity</th>\n",
              "      <th>Tests done/1000 people</th>\n",
              "      <th>% ICU utilization</th>\n",
              "      <th>Ventilator shortage</th>\n",
              "      <th>Imported COVID cases</th>\n",
              "      <th>COVID exposure/1000 people</th>\n",
              "      <th>#days: decreasing ILI cases</th>\n",
              "      <th>Unemployment claims/1000 people</th>\n",
              "      <th>Unemployment rate</th>\n",
              "      <th>% working from home</th>\n",
              "      <th>Cumulative inflation rate</th>\n",
              "      <th>COVID death rate</th>\n",
              "    </tr>\n",
              "  </thead>\n",
              "  <tbody>\n",
              "    <tr>\n",
              "      <th>0</th>\n",
              "      <td>1001</td>\n",
              "      <td>Autauga County</td>\n",
              "      <td>1</td>\n",
              "      <td>54</td>\n",
              "      <td>27</td>\n",
              "      <td>2.25</td>\n",
              "      <td>38.8</td>\n",
              "      <td>1.2</td>\n",
              "      <td>24.7</td>\n",
              "      <td>0.25</td>\n",
              "      <td>2.00</td>\n",
              "      <td>0</td>\n",
              "      <td>55601</td>\n",
              "      <td>-22.5</td>\n",
              "      <td>1/1/2020</td>\n",
              "      <td>0.11</td>\n",
              "      <td>19</td>\n",
              "      <td>58786</td>\n",
              "      <td>19.0</td>\n",
              "      <td>2.8</td>\n",
              "      <td>48.68</td>\n",
              "      <td>91</td>\n",
              "      <td>19</td>\n",
              "      <td>101</td>\n",
              "      <td>3.79</td>\n",
              "      <td>0.33</td>\n",
              "      <td>0.025</td>\n",
              "      <td>0.0</td>\n",
              "      <td>0.0</td>\n",
              "      <td>0</td>\n",
              "      <td>47.1</td>\n",
              "      <td>0.0</td>\n",
              "      <td>0.0</td>\n",
              "      <td>0.0</td>\n",
              "      <td>0</td>\n",
              "      <td>0</td>\n",
              "      <td>0.0</td>\n",
              "      <td>0</td>\n",
              "      <td>0.9</td>\n",
              "      <td>2.7</td>\n",
              "      <td>3.2</td>\n",
              "      <td>0.3</td>\n",
              "      <td>0.0</td>\n",
              "    </tr>\n",
              "    <tr>\n",
              "      <th>1</th>\n",
              "      <td>1001</td>\n",
              "      <td>Autauga County</td>\n",
              "      <td>1</td>\n",
              "      <td>25</td>\n",
              "      <td>18</td>\n",
              "      <td>2.83</td>\n",
              "      <td>43.5</td>\n",
              "      <td>0.9</td>\n",
              "      <td>37.6</td>\n",
              "      <td>0.62</td>\n",
              "      <td>2.21</td>\n",
              "      <td>0</td>\n",
              "      <td>55601</td>\n",
              "      <td>-14.3</td>\n",
              "      <td>1/2/2020</td>\n",
              "      <td>0.11</td>\n",
              "      <td>19</td>\n",
              "      <td>58786</td>\n",
              "      <td>19.0</td>\n",
              "      <td>2.8</td>\n",
              "      <td>48.68</td>\n",
              "      <td>91</td>\n",
              "      <td>19</td>\n",
              "      <td>101</td>\n",
              "      <td>3.79</td>\n",
              "      <td>0.33</td>\n",
              "      <td>0.025</td>\n",
              "      <td>0.0</td>\n",
              "      <td>0.0</td>\n",
              "      <td>0</td>\n",
              "      <td>47.1</td>\n",
              "      <td>0.0</td>\n",
              "      <td>0.0</td>\n",
              "      <td>0.0</td>\n",
              "      <td>0</td>\n",
              "      <td>0</td>\n",
              "      <td>0.0</td>\n",
              "      <td>0</td>\n",
              "      <td>0.9</td>\n",
              "      <td>2.7</td>\n",
              "      <td>3.2</td>\n",
              "      <td>0.3</td>\n",
              "      <td>0.0</td>\n",
              "    </tr>\n",
              "    <tr>\n",
              "      <th>2</th>\n",
              "      <td>1001</td>\n",
              "      <td>Autauga County</td>\n",
              "      <td>1</td>\n",
              "      <td>15</td>\n",
              "      <td>15</td>\n",
              "      <td>3.18</td>\n",
              "      <td>42.2</td>\n",
              "      <td>1.0</td>\n",
              "      <td>40.3</td>\n",
              "      <td>0.62</td>\n",
              "      <td>2.57</td>\n",
              "      <td>0</td>\n",
              "      <td>55601</td>\n",
              "      <td>-0.4</td>\n",
              "      <td>1/3/2020</td>\n",
              "      <td>0.11</td>\n",
              "      <td>19</td>\n",
              "      <td>58786</td>\n",
              "      <td>19.0</td>\n",
              "      <td>2.8</td>\n",
              "      <td>48.68</td>\n",
              "      <td>91</td>\n",
              "      <td>19</td>\n",
              "      <td>101</td>\n",
              "      <td>3.79</td>\n",
              "      <td>0.33</td>\n",
              "      <td>0.025</td>\n",
              "      <td>0.0</td>\n",
              "      <td>0.0</td>\n",
              "      <td>0</td>\n",
              "      <td>47.1</td>\n",
              "      <td>0.0</td>\n",
              "      <td>0.0</td>\n",
              "      <td>0.0</td>\n",
              "      <td>0</td>\n",
              "      <td>0</td>\n",
              "      <td>0.0</td>\n",
              "      <td>0</td>\n",
              "      <td>0.9</td>\n",
              "      <td>2.7</td>\n",
              "      <td>3.2</td>\n",
              "      <td>0.3</td>\n",
              "      <td>0.0</td>\n",
              "    </tr>\n",
              "    <tr>\n",
              "      <th>3</th>\n",
              "      <td>1001</td>\n",
              "      <td>Autauga County</td>\n",
              "      <td>1</td>\n",
              "      <td>33</td>\n",
              "      <td>20</td>\n",
              "      <td>2.85</td>\n",
              "      <td>43.9</td>\n",
              "      <td>1.2</td>\n",
              "      <td>29.5</td>\n",
              "      <td>0.33</td>\n",
              "      <td>2.52</td>\n",
              "      <td>0</td>\n",
              "      <td>55601</td>\n",
              "      <td>-2.3</td>\n",
              "      <td>1/4/2020</td>\n",
              "      <td>0.11</td>\n",
              "      <td>19</td>\n",
              "      <td>58786</td>\n",
              "      <td>19.0</td>\n",
              "      <td>2.8</td>\n",
              "      <td>48.68</td>\n",
              "      <td>91</td>\n",
              "      <td>19</td>\n",
              "      <td>101</td>\n",
              "      <td>3.79</td>\n",
              "      <td>0.33</td>\n",
              "      <td>0.025</td>\n",
              "      <td>0.0</td>\n",
              "      <td>0.0</td>\n",
              "      <td>0</td>\n",
              "      <td>47.1</td>\n",
              "      <td>0.0</td>\n",
              "      <td>0.0</td>\n",
              "      <td>0.0</td>\n",
              "      <td>0</td>\n",
              "      <td>0</td>\n",
              "      <td>0.0</td>\n",
              "      <td>0</td>\n",
              "      <td>0.9</td>\n",
              "      <td>2.7</td>\n",
              "      <td>3.2</td>\n",
              "      <td>0.3</td>\n",
              "      <td>0.0</td>\n",
              "    </tr>\n",
              "    <tr>\n",
              "      <th>4</th>\n",
              "      <td>1001</td>\n",
              "      <td>Autauga County</td>\n",
              "      <td>1</td>\n",
              "      <td>40</td>\n",
              "      <td>22</td>\n",
              "      <td>2.56</td>\n",
              "      <td>42.8</td>\n",
              "      <td>1.2</td>\n",
              "      <td>30.9</td>\n",
              "      <td>0.23</td>\n",
              "      <td>2.33</td>\n",
              "      <td>0</td>\n",
              "      <td>55601</td>\n",
              "      <td>-9.7</td>\n",
              "      <td>1/5/2020</td>\n",
              "      <td>0.11</td>\n",
              "      <td>19</td>\n",
              "      <td>58786</td>\n",
              "      <td>19.0</td>\n",
              "      <td>2.8</td>\n",
              "      <td>48.68</td>\n",
              "      <td>91</td>\n",
              "      <td>19</td>\n",
              "      <td>101</td>\n",
              "      <td>3.79</td>\n",
              "      <td>0.33</td>\n",
              "      <td>0.025</td>\n",
              "      <td>0.0</td>\n",
              "      <td>0.0</td>\n",
              "      <td>0</td>\n",
              "      <td>47.1</td>\n",
              "      <td>0.0</td>\n",
              "      <td>0.0</td>\n",
              "      <td>0.0</td>\n",
              "      <td>0</td>\n",
              "      <td>0</td>\n",
              "      <td>0.0</td>\n",
              "      <td>0</td>\n",
              "      <td>0.9</td>\n",
              "      <td>2.7</td>\n",
              "      <td>3.2</td>\n",
              "      <td>0.3</td>\n",
              "      <td>0.0</td>\n",
              "    </tr>\n",
              "  </tbody>\n",
              "</table>\n",
              "</div>"
            ],
            "text/plain": [
              "   CTFIPS          CTNAME  ...  Cumulative inflation rate  COVID death rate\n",
              "0    1001  Autauga County  ...                        0.3               0.0\n",
              "1    1001  Autauga County  ...                        0.3               0.0\n",
              "2    1001  Autauga County  ...                        0.3               0.0\n",
              "3    1001  Autauga County  ...                        0.3               0.0\n",
              "4    1001  Autauga County  ...                        0.3               0.0\n",
              "\n",
              "[5 rows x 43 columns]"
            ]
          },
          "metadata": {
            "tags": []
          },
          "execution_count": 5
        }
      ]
    },
    {
      "cell_type": "code",
      "metadata": {
        "id": "WKk20fB-rKjJ",
        "outputId": "9283350a-975f-448c-d1d2-c960d720c711",
        "colab": {
          "base_uri": "https://localhost:8080/",
          "height": 69
        }
      },
      "source": [
        "maryland_sd_inertia['STFIPS'].unique()"
      ],
      "execution_count": 6,
      "outputs": [
        {
          "output_type": "execute_result",
          "data": {
            "text/plain": [
              "array([ 1,  2,  4,  5,  6,  8,  9, 10, 11, 12, 13, 15, 16, 17, 18, 19, 20,\n",
              "       21, 22, 23, 24, 25, 26, 27, 28, 29, 30, 31, 32, 33, 34, 35, 36, 37,\n",
              "       38, 39, 40, 41, 42, 44, 45, 46, 47, 48, 49, 50, 51, 53, 54, 55, 56])"
            ]
          },
          "metadata": {
            "tags": []
          },
          "execution_count": 6
        }
      ]
    },
    {
      "cell_type": "markdown",
      "metadata": {
        "id": "YPdPh-AWFBK2"
      },
      "source": [
        "## Fixdate column of Social Distancing inertia"
      ]
    },
    {
      "cell_type": "code",
      "metadata": {
        "id": "o588srH92Bps"
      },
      "source": [
        "def fixDate(x, appendTwenty):\n",
        "  arr = x.split('/')\n",
        "  m = arr[0]\n",
        "  d = arr[1]\n",
        "  y = arr[2]\n",
        "\n",
        "  if int(m) < 10:\n",
        "    m = '0'+str(m)\n",
        "  if int(d) < 10:\n",
        "    d = '0'+str(d)\n",
        "  if appendTwenty == True:\n",
        "    return '20'+y+'-'+m+'-'+d\n",
        "  else:\n",
        "      return y+'-'+m+'-'+d"
      ],
      "execution_count": 7,
      "outputs": []
    },
    {
      "cell_type": "code",
      "metadata": {
        "id": "DDIQVTANFHuZ",
        "outputId": "32aaa543-c140-4478-afbd-3a4a58a1d2fd",
        "colab": {
          "base_uri": "https://localhost:8080/",
          "height": 669
        }
      },
      "source": [
        "maryland_sd_inertia['date'] = maryland_sd_inertia['date'].apply(lambda x: fixDate(x,False))\n",
        "maryland_sd_inertia.reset_index(drop=True)"
      ],
      "execution_count": 8,
      "outputs": [
        {
          "output_type": "execute_result",
          "data": {
            "text/html": [
              "<div>\n",
              "<style scoped>\n",
              "    .dataframe tbody tr th:only-of-type {\n",
              "        vertical-align: middle;\n",
              "    }\n",
              "\n",
              "    .dataframe tbody tr th {\n",
              "        vertical-align: top;\n",
              "    }\n",
              "\n",
              "    .dataframe thead th {\n",
              "        text-align: right;\n",
              "    }\n",
              "</style>\n",
              "<table border=\"1\" class=\"dataframe\">\n",
              "  <thead>\n",
              "    <tr style=\"text-align: right;\">\n",
              "      <th></th>\n",
              "      <th>CTFIPS</th>\n",
              "      <th>CTNAME</th>\n",
              "      <th>STFIPS</th>\n",
              "      <th>Social distancing index</th>\n",
              "      <th>% staying home</th>\n",
              "      <th>Trips/person</th>\n",
              "      <th>% out-of-county trips</th>\n",
              "      <th>% out-of-state trips</th>\n",
              "      <th>Miles/person</th>\n",
              "      <th>Work trips/person</th>\n",
              "      <th>Non-work trips/person</th>\n",
              "      <th>New COVID cases</th>\n",
              "      <th>Population</th>\n",
              "      <th>% change in consumption</th>\n",
              "      <th>date</th>\n",
              "      <th>Transit mode share</th>\n",
              "      <th>% people older than 60</th>\n",
              "      <th>Median income</th>\n",
              "      <th>% African Americans</th>\n",
              "      <th>% Hispanic Americans</th>\n",
              "      <th>% Male</th>\n",
              "      <th>Population density</th>\n",
              "      <th>Employment density</th>\n",
              "      <th># hot spots/1000 people</th>\n",
              "      <th>Hospital beds/1000 people</th>\n",
              "      <th>ICUs/1000 people</th>\n",
              "      <th># contact tracing workers/1000 people</th>\n",
              "      <th>New cases/1000 people</th>\n",
              "      <th>Active cases/1000 people</th>\n",
              "      <th>#days: decreasing COVID cases</th>\n",
              "      <th>% hospital bed utilization</th>\n",
              "      <th>Testing capacity</th>\n",
              "      <th>Tests done/1000 people</th>\n",
              "      <th>% ICU utilization</th>\n",
              "      <th>Ventilator shortage</th>\n",
              "      <th>Imported COVID cases</th>\n",
              "      <th>COVID exposure/1000 people</th>\n",
              "      <th>#days: decreasing ILI cases</th>\n",
              "      <th>Unemployment claims/1000 people</th>\n",
              "      <th>Unemployment rate</th>\n",
              "      <th>% working from home</th>\n",
              "      <th>Cumulative inflation rate</th>\n",
              "      <th>COVID death rate</th>\n",
              "    </tr>\n",
              "  </thead>\n",
              "  <tbody>\n",
              "    <tr>\n",
              "      <th>0</th>\n",
              "      <td>1001</td>\n",
              "      <td>Autauga County</td>\n",
              "      <td>1</td>\n",
              "      <td>54</td>\n",
              "      <td>27</td>\n",
              "      <td>2.25</td>\n",
              "      <td>38.8</td>\n",
              "      <td>1.2</td>\n",
              "      <td>24.7</td>\n",
              "      <td>0.25</td>\n",
              "      <td>2.00</td>\n",
              "      <td>0</td>\n",
              "      <td>55601</td>\n",
              "      <td>-22.5</td>\n",
              "      <td>2020-01-01</td>\n",
              "      <td>0.11</td>\n",
              "      <td>19</td>\n",
              "      <td>58786</td>\n",
              "      <td>19.0</td>\n",
              "      <td>2.8</td>\n",
              "      <td>48.68</td>\n",
              "      <td>91</td>\n",
              "      <td>19</td>\n",
              "      <td>101</td>\n",
              "      <td>3.79</td>\n",
              "      <td>0.33</td>\n",
              "      <td>0.025</td>\n",
              "      <td>0.0000</td>\n",
              "      <td>0.00</td>\n",
              "      <td>0</td>\n",
              "      <td>47.100000</td>\n",
              "      <td>0.0</td>\n",
              "      <td>0.00</td>\n",
              "      <td>0.00</td>\n",
              "      <td>0</td>\n",
              "      <td>0</td>\n",
              "      <td>0.00</td>\n",
              "      <td>0</td>\n",
              "      <td>0.9</td>\n",
              "      <td>2.7</td>\n",
              "      <td>3.2</td>\n",
              "      <td>0.30</td>\n",
              "      <td>0.00</td>\n",
              "    </tr>\n",
              "    <tr>\n",
              "      <th>1</th>\n",
              "      <td>1001</td>\n",
              "      <td>Autauga County</td>\n",
              "      <td>1</td>\n",
              "      <td>25</td>\n",
              "      <td>18</td>\n",
              "      <td>2.83</td>\n",
              "      <td>43.5</td>\n",
              "      <td>0.9</td>\n",
              "      <td>37.6</td>\n",
              "      <td>0.62</td>\n",
              "      <td>2.21</td>\n",
              "      <td>0</td>\n",
              "      <td>55601</td>\n",
              "      <td>-14.3</td>\n",
              "      <td>2020-01-02</td>\n",
              "      <td>0.11</td>\n",
              "      <td>19</td>\n",
              "      <td>58786</td>\n",
              "      <td>19.0</td>\n",
              "      <td>2.8</td>\n",
              "      <td>48.68</td>\n",
              "      <td>91</td>\n",
              "      <td>19</td>\n",
              "      <td>101</td>\n",
              "      <td>3.79</td>\n",
              "      <td>0.33</td>\n",
              "      <td>0.025</td>\n",
              "      <td>0.0000</td>\n",
              "      <td>0.00</td>\n",
              "      <td>0</td>\n",
              "      <td>47.100000</td>\n",
              "      <td>0.0</td>\n",
              "      <td>0.00</td>\n",
              "      <td>0.00</td>\n",
              "      <td>0</td>\n",
              "      <td>0</td>\n",
              "      <td>0.00</td>\n",
              "      <td>0</td>\n",
              "      <td>0.9</td>\n",
              "      <td>2.7</td>\n",
              "      <td>3.2</td>\n",
              "      <td>0.30</td>\n",
              "      <td>0.00</td>\n",
              "    </tr>\n",
              "    <tr>\n",
              "      <th>2</th>\n",
              "      <td>1001</td>\n",
              "      <td>Autauga County</td>\n",
              "      <td>1</td>\n",
              "      <td>15</td>\n",
              "      <td>15</td>\n",
              "      <td>3.18</td>\n",
              "      <td>42.2</td>\n",
              "      <td>1.0</td>\n",
              "      <td>40.3</td>\n",
              "      <td>0.62</td>\n",
              "      <td>2.57</td>\n",
              "      <td>0</td>\n",
              "      <td>55601</td>\n",
              "      <td>-0.4</td>\n",
              "      <td>2020-01-03</td>\n",
              "      <td>0.11</td>\n",
              "      <td>19</td>\n",
              "      <td>58786</td>\n",
              "      <td>19.0</td>\n",
              "      <td>2.8</td>\n",
              "      <td>48.68</td>\n",
              "      <td>91</td>\n",
              "      <td>19</td>\n",
              "      <td>101</td>\n",
              "      <td>3.79</td>\n",
              "      <td>0.33</td>\n",
              "      <td>0.025</td>\n",
              "      <td>0.0000</td>\n",
              "      <td>0.00</td>\n",
              "      <td>0</td>\n",
              "      <td>47.100000</td>\n",
              "      <td>0.0</td>\n",
              "      <td>0.00</td>\n",
              "      <td>0.00</td>\n",
              "      <td>0</td>\n",
              "      <td>0</td>\n",
              "      <td>0.00</td>\n",
              "      <td>0</td>\n",
              "      <td>0.9</td>\n",
              "      <td>2.7</td>\n",
              "      <td>3.2</td>\n",
              "      <td>0.30</td>\n",
              "      <td>0.00</td>\n",
              "    </tr>\n",
              "    <tr>\n",
              "      <th>3</th>\n",
              "      <td>1001</td>\n",
              "      <td>Autauga County</td>\n",
              "      <td>1</td>\n",
              "      <td>33</td>\n",
              "      <td>20</td>\n",
              "      <td>2.85</td>\n",
              "      <td>43.9</td>\n",
              "      <td>1.2</td>\n",
              "      <td>29.5</td>\n",
              "      <td>0.33</td>\n",
              "      <td>2.52</td>\n",
              "      <td>0</td>\n",
              "      <td>55601</td>\n",
              "      <td>-2.3</td>\n",
              "      <td>2020-01-04</td>\n",
              "      <td>0.11</td>\n",
              "      <td>19</td>\n",
              "      <td>58786</td>\n",
              "      <td>19.0</td>\n",
              "      <td>2.8</td>\n",
              "      <td>48.68</td>\n",
              "      <td>91</td>\n",
              "      <td>19</td>\n",
              "      <td>101</td>\n",
              "      <td>3.79</td>\n",
              "      <td>0.33</td>\n",
              "      <td>0.025</td>\n",
              "      <td>0.0000</td>\n",
              "      <td>0.00</td>\n",
              "      <td>0</td>\n",
              "      <td>47.100000</td>\n",
              "      <td>0.0</td>\n",
              "      <td>0.00</td>\n",
              "      <td>0.00</td>\n",
              "      <td>0</td>\n",
              "      <td>0</td>\n",
              "      <td>0.00</td>\n",
              "      <td>0</td>\n",
              "      <td>0.9</td>\n",
              "      <td>2.7</td>\n",
              "      <td>3.2</td>\n",
              "      <td>0.30</td>\n",
              "      <td>0.00</td>\n",
              "    </tr>\n",
              "    <tr>\n",
              "      <th>4</th>\n",
              "      <td>1001</td>\n",
              "      <td>Autauga County</td>\n",
              "      <td>1</td>\n",
              "      <td>40</td>\n",
              "      <td>22</td>\n",
              "      <td>2.56</td>\n",
              "      <td>42.8</td>\n",
              "      <td>1.2</td>\n",
              "      <td>30.9</td>\n",
              "      <td>0.23</td>\n",
              "      <td>2.33</td>\n",
              "      <td>0</td>\n",
              "      <td>55601</td>\n",
              "      <td>-9.7</td>\n",
              "      <td>2020-01-05</td>\n",
              "      <td>0.11</td>\n",
              "      <td>19</td>\n",
              "      <td>58786</td>\n",
              "      <td>19.0</td>\n",
              "      <td>2.8</td>\n",
              "      <td>48.68</td>\n",
              "      <td>91</td>\n",
              "      <td>19</td>\n",
              "      <td>101</td>\n",
              "      <td>3.79</td>\n",
              "      <td>0.33</td>\n",
              "      <td>0.025</td>\n",
              "      <td>0.0000</td>\n",
              "      <td>0.00</td>\n",
              "      <td>0</td>\n",
              "      <td>47.100000</td>\n",
              "      <td>0.0</td>\n",
              "      <td>0.00</td>\n",
              "      <td>0.00</td>\n",
              "      <td>0</td>\n",
              "      <td>0</td>\n",
              "      <td>0.00</td>\n",
              "      <td>0</td>\n",
              "      <td>0.9</td>\n",
              "      <td>2.7</td>\n",
              "      <td>3.2</td>\n",
              "      <td>0.30</td>\n",
              "      <td>0.00</td>\n",
              "    </tr>\n",
              "    <tr>\n",
              "      <th>...</th>\n",
              "      <td>...</td>\n",
              "      <td>...</td>\n",
              "      <td>...</td>\n",
              "      <td>...</td>\n",
              "      <td>...</td>\n",
              "      <td>...</td>\n",
              "      <td>...</td>\n",
              "      <td>...</td>\n",
              "      <td>...</td>\n",
              "      <td>...</td>\n",
              "      <td>...</td>\n",
              "      <td>...</td>\n",
              "      <td>...</td>\n",
              "      <td>...</td>\n",
              "      <td>...</td>\n",
              "      <td>...</td>\n",
              "      <td>...</td>\n",
              "      <td>...</td>\n",
              "      <td>...</td>\n",
              "      <td>...</td>\n",
              "      <td>...</td>\n",
              "      <td>...</td>\n",
              "      <td>...</td>\n",
              "      <td>...</td>\n",
              "      <td>...</td>\n",
              "      <td>...</td>\n",
              "      <td>...</td>\n",
              "      <td>...</td>\n",
              "      <td>...</td>\n",
              "      <td>...</td>\n",
              "      <td>...</td>\n",
              "      <td>...</td>\n",
              "      <td>...</td>\n",
              "      <td>...</td>\n",
              "      <td>...</td>\n",
              "      <td>...</td>\n",
              "      <td>...</td>\n",
              "      <td>...</td>\n",
              "      <td>...</td>\n",
              "      <td>...</td>\n",
              "      <td>...</td>\n",
              "      <td>...</td>\n",
              "      <td>...</td>\n",
              "    </tr>\n",
              "    <tr>\n",
              "      <th>901749</th>\n",
              "      <td>56045</td>\n",
              "      <td>Weston County</td>\n",
              "      <td>56</td>\n",
              "      <td>40</td>\n",
              "      <td>20</td>\n",
              "      <td>3.00</td>\n",
              "      <td>27.4</td>\n",
              "      <td>10.3</td>\n",
              "      <td>172.4</td>\n",
              "      <td>0.04</td>\n",
              "      <td>2.96</td>\n",
              "      <td>3</td>\n",
              "      <td>6967</td>\n",
              "      <td>-16.3</td>\n",
              "      <td>2020-10-09</td>\n",
              "      <td>8.34</td>\n",
              "      <td>30</td>\n",
              "      <td>52867</td>\n",
              "      <td>0.5</td>\n",
              "      <td>1.5</td>\n",
              "      <td>53.07</td>\n",
              "      <td>3</td>\n",
              "      <td>1</td>\n",
              "      <td>153</td>\n",
              "      <td>3.76</td>\n",
              "      <td>0.50</td>\n",
              "      <td>0.017</td>\n",
              "      <td>0.3828</td>\n",
              "      <td>5.50</td>\n",
              "      <td>0</td>\n",
              "      <td>38.319241</td>\n",
              "      <td>6.6</td>\n",
              "      <td>191.28</td>\n",
              "      <td>1.32</td>\n",
              "      <td>3</td>\n",
              "      <td>29</td>\n",
              "      <td>9.69</td>\n",
              "      <td>0</td>\n",
              "      <td>1.2</td>\n",
              "      <td>9.3</td>\n",
              "      <td>18.5</td>\n",
              "      <td>1.51</td>\n",
              "      <td>0.96</td>\n",
              "    </tr>\n",
              "    <tr>\n",
              "      <th>901750</th>\n",
              "      <td>56045</td>\n",
              "      <td>Weston County</td>\n",
              "      <td>56</td>\n",
              "      <td>37</td>\n",
              "      <td>22</td>\n",
              "      <td>3.37</td>\n",
              "      <td>26.1</td>\n",
              "      <td>10.3</td>\n",
              "      <td>90.4</td>\n",
              "      <td>0.11</td>\n",
              "      <td>3.26</td>\n",
              "      <td>4</td>\n",
              "      <td>6967</td>\n",
              "      <td>-7.8</td>\n",
              "      <td>2020-10-10</td>\n",
              "      <td>8.34</td>\n",
              "      <td>30</td>\n",
              "      <td>52867</td>\n",
              "      <td>0.5</td>\n",
              "      <td>1.5</td>\n",
              "      <td>53.07</td>\n",
              "      <td>3</td>\n",
              "      <td>1</td>\n",
              "      <td>153</td>\n",
              "      <td>3.76</td>\n",
              "      <td>0.50</td>\n",
              "      <td>0.017</td>\n",
              "      <td>0.3828</td>\n",
              "      <td>5.65</td>\n",
              "      <td>0</td>\n",
              "      <td>38.321286</td>\n",
              "      <td>6.7</td>\n",
              "      <td>191.49</td>\n",
              "      <td>1.33</td>\n",
              "      <td>3</td>\n",
              "      <td>29</td>\n",
              "      <td>9.69</td>\n",
              "      <td>0</td>\n",
              "      <td>1.2</td>\n",
              "      <td>9.3</td>\n",
              "      <td>18.5</td>\n",
              "      <td>1.51</td>\n",
              "      <td>0.96</td>\n",
              "    </tr>\n",
              "    <tr>\n",
              "      <th>901751</th>\n",
              "      <td>56045</td>\n",
              "      <td>Weston County</td>\n",
              "      <td>56</td>\n",
              "      <td>42</td>\n",
              "      <td>26</td>\n",
              "      <td>2.70</td>\n",
              "      <td>24.5</td>\n",
              "      <td>13.1</td>\n",
              "      <td>71.9</td>\n",
              "      <td>0.06</td>\n",
              "      <td>2.64</td>\n",
              "      <td>0</td>\n",
              "      <td>6967</td>\n",
              "      <td>-25.3</td>\n",
              "      <td>2020-10-11</td>\n",
              "      <td>8.34</td>\n",
              "      <td>30</td>\n",
              "      <td>52867</td>\n",
              "      <td>0.5</td>\n",
              "      <td>1.5</td>\n",
              "      <td>53.07</td>\n",
              "      <td>3</td>\n",
              "      <td>1</td>\n",
              "      <td>153</td>\n",
              "      <td>3.76</td>\n",
              "      <td>0.50</td>\n",
              "      <td>0.017</td>\n",
              "      <td>0.3349</td>\n",
              "      <td>5.81</td>\n",
              "      <td>0</td>\n",
              "      <td>38.323483</td>\n",
              "      <td>6.9</td>\n",
              "      <td>191.76</td>\n",
              "      <td>1.33</td>\n",
              "      <td>3</td>\n",
              "      <td>25</td>\n",
              "      <td>9.69</td>\n",
              "      <td>0</td>\n",
              "      <td>1.2</td>\n",
              "      <td>9.3</td>\n",
              "      <td>18.5</td>\n",
              "      <td>1.51</td>\n",
              "      <td>0.96</td>\n",
              "    </tr>\n",
              "    <tr>\n",
              "      <th>901752</th>\n",
              "      <td>56045</td>\n",
              "      <td>Weston County</td>\n",
              "      <td>56</td>\n",
              "      <td>26</td>\n",
              "      <td>19</td>\n",
              "      <td>3.05</td>\n",
              "      <td>25.3</td>\n",
              "      <td>9.9</td>\n",
              "      <td>102.7</td>\n",
              "      <td>0.04</td>\n",
              "      <td>3.00</td>\n",
              "      <td>0</td>\n",
              "      <td>6967</td>\n",
              "      <td>-15.2</td>\n",
              "      <td>2020-10-12</td>\n",
              "      <td>8.34</td>\n",
              "      <td>30</td>\n",
              "      <td>52867</td>\n",
              "      <td>0.5</td>\n",
              "      <td>1.5</td>\n",
              "      <td>53.07</td>\n",
              "      <td>3</td>\n",
              "      <td>1</td>\n",
              "      <td>153</td>\n",
              "      <td>3.76</td>\n",
              "      <td>0.50</td>\n",
              "      <td>0.017</td>\n",
              "      <td>0.1914</td>\n",
              "      <td>6.08</td>\n",
              "      <td>0</td>\n",
              "      <td>38.324928</td>\n",
              "      <td>7.0</td>\n",
              "      <td>192.09</td>\n",
              "      <td>1.33</td>\n",
              "      <td>3</td>\n",
              "      <td>24</td>\n",
              "      <td>9.69</td>\n",
              "      <td>0</td>\n",
              "      <td>1.2</td>\n",
              "      <td>9.3</td>\n",
              "      <td>18.5</td>\n",
              "      <td>1.51</td>\n",
              "      <td>0.96</td>\n",
              "    </tr>\n",
              "    <tr>\n",
              "      <th>901753</th>\n",
              "      <td>56045</td>\n",
              "      <td>Weston County</td>\n",
              "      <td>56</td>\n",
              "      <td>51</td>\n",
              "      <td>27</td>\n",
              "      <td>2.89</td>\n",
              "      <td>19.8</td>\n",
              "      <td>6.4</td>\n",
              "      <td>147.6</td>\n",
              "      <td>0.05</td>\n",
              "      <td>2.84</td>\n",
              "      <td>4</td>\n",
              "      <td>6967</td>\n",
              "      <td>-19.7</td>\n",
              "      <td>2020-10-13</td>\n",
              "      <td>8.34</td>\n",
              "      <td>30</td>\n",
              "      <td>52867</td>\n",
              "      <td>0.5</td>\n",
              "      <td>1.5</td>\n",
              "      <td>53.07</td>\n",
              "      <td>3</td>\n",
              "      <td>1</td>\n",
              "      <td>153</td>\n",
              "      <td>3.76</td>\n",
              "      <td>0.50</td>\n",
              "      <td>0.017</td>\n",
              "      <td>0.1914</td>\n",
              "      <td>6.27</td>\n",
              "      <td>0</td>\n",
              "      <td>39.570919</td>\n",
              "      <td>7.0</td>\n",
              "      <td>197.05</td>\n",
              "      <td>1.76</td>\n",
              "      <td>4</td>\n",
              "      <td>15</td>\n",
              "      <td>9.69</td>\n",
              "      <td>0</td>\n",
              "      <td>1.2</td>\n",
              "      <td>9.3</td>\n",
              "      <td>18.5</td>\n",
              "      <td>1.51</td>\n",
              "      <td>0.96</td>\n",
              "    </tr>\n",
              "  </tbody>\n",
              "</table>\n",
              "<p>901754 rows × 43 columns</p>\n",
              "</div>"
            ],
            "text/plain": [
              "        CTFIPS          CTNAME  ...  Cumulative inflation rate  COVID death rate\n",
              "0         1001  Autauga County  ...                       0.30              0.00\n",
              "1         1001  Autauga County  ...                       0.30              0.00\n",
              "2         1001  Autauga County  ...                       0.30              0.00\n",
              "3         1001  Autauga County  ...                       0.30              0.00\n",
              "4         1001  Autauga County  ...                       0.30              0.00\n",
              "...        ...             ...  ...                        ...               ...\n",
              "901749   56045   Weston County  ...                       1.51              0.96\n",
              "901750   56045   Weston County  ...                       1.51              0.96\n",
              "901751   56045   Weston County  ...                       1.51              0.96\n",
              "901752   56045   Weston County  ...                       1.51              0.96\n",
              "901753   56045   Weston County  ...                       1.51              0.96\n",
              "\n",
              "[901754 rows x 43 columns]"
            ]
          },
          "metadata": {
            "tags": []
          },
          "execution_count": 8
        }
      ]
    },
    {
      "cell_type": "code",
      "metadata": {
        "id": "r58ifIUA3iH5",
        "outputId": "fc6a2574-5f57-45a8-9340-d4128622a932",
        "colab": {
          "base_uri": "https://localhost:8080/",
          "height": 279
        }
      },
      "source": [
        "maryland_sd_inertia.head(3)"
      ],
      "execution_count": 9,
      "outputs": [
        {
          "output_type": "execute_result",
          "data": {
            "text/html": [
              "<div>\n",
              "<style scoped>\n",
              "    .dataframe tbody tr th:only-of-type {\n",
              "        vertical-align: middle;\n",
              "    }\n",
              "\n",
              "    .dataframe tbody tr th {\n",
              "        vertical-align: top;\n",
              "    }\n",
              "\n",
              "    .dataframe thead th {\n",
              "        text-align: right;\n",
              "    }\n",
              "</style>\n",
              "<table border=\"1\" class=\"dataframe\">\n",
              "  <thead>\n",
              "    <tr style=\"text-align: right;\">\n",
              "      <th></th>\n",
              "      <th>CTFIPS</th>\n",
              "      <th>CTNAME</th>\n",
              "      <th>STFIPS</th>\n",
              "      <th>Social distancing index</th>\n",
              "      <th>% staying home</th>\n",
              "      <th>Trips/person</th>\n",
              "      <th>% out-of-county trips</th>\n",
              "      <th>% out-of-state trips</th>\n",
              "      <th>Miles/person</th>\n",
              "      <th>Work trips/person</th>\n",
              "      <th>Non-work trips/person</th>\n",
              "      <th>New COVID cases</th>\n",
              "      <th>Population</th>\n",
              "      <th>% change in consumption</th>\n",
              "      <th>date</th>\n",
              "      <th>Transit mode share</th>\n",
              "      <th>% people older than 60</th>\n",
              "      <th>Median income</th>\n",
              "      <th>% African Americans</th>\n",
              "      <th>% Hispanic Americans</th>\n",
              "      <th>% Male</th>\n",
              "      <th>Population density</th>\n",
              "      <th>Employment density</th>\n",
              "      <th># hot spots/1000 people</th>\n",
              "      <th>Hospital beds/1000 people</th>\n",
              "      <th>ICUs/1000 people</th>\n",
              "      <th># contact tracing workers/1000 people</th>\n",
              "      <th>New cases/1000 people</th>\n",
              "      <th>Active cases/1000 people</th>\n",
              "      <th>#days: decreasing COVID cases</th>\n",
              "      <th>% hospital bed utilization</th>\n",
              "      <th>Testing capacity</th>\n",
              "      <th>Tests done/1000 people</th>\n",
              "      <th>% ICU utilization</th>\n",
              "      <th>Ventilator shortage</th>\n",
              "      <th>Imported COVID cases</th>\n",
              "      <th>COVID exposure/1000 people</th>\n",
              "      <th>#days: decreasing ILI cases</th>\n",
              "      <th>Unemployment claims/1000 people</th>\n",
              "      <th>Unemployment rate</th>\n",
              "      <th>% working from home</th>\n",
              "      <th>Cumulative inflation rate</th>\n",
              "      <th>COVID death rate</th>\n",
              "    </tr>\n",
              "  </thead>\n",
              "  <tbody>\n",
              "    <tr>\n",
              "      <th>0</th>\n",
              "      <td>1001</td>\n",
              "      <td>Autauga County</td>\n",
              "      <td>1</td>\n",
              "      <td>54</td>\n",
              "      <td>27</td>\n",
              "      <td>2.25</td>\n",
              "      <td>38.8</td>\n",
              "      <td>1.2</td>\n",
              "      <td>24.7</td>\n",
              "      <td>0.25</td>\n",
              "      <td>2.00</td>\n",
              "      <td>0</td>\n",
              "      <td>55601</td>\n",
              "      <td>-22.5</td>\n",
              "      <td>2020-01-01</td>\n",
              "      <td>0.11</td>\n",
              "      <td>19</td>\n",
              "      <td>58786</td>\n",
              "      <td>19.0</td>\n",
              "      <td>2.8</td>\n",
              "      <td>48.68</td>\n",
              "      <td>91</td>\n",
              "      <td>19</td>\n",
              "      <td>101</td>\n",
              "      <td>3.79</td>\n",
              "      <td>0.33</td>\n",
              "      <td>0.025</td>\n",
              "      <td>0.0</td>\n",
              "      <td>0.0</td>\n",
              "      <td>0</td>\n",
              "      <td>47.1</td>\n",
              "      <td>0.0</td>\n",
              "      <td>0.0</td>\n",
              "      <td>0.0</td>\n",
              "      <td>0</td>\n",
              "      <td>0</td>\n",
              "      <td>0.0</td>\n",
              "      <td>0</td>\n",
              "      <td>0.9</td>\n",
              "      <td>2.7</td>\n",
              "      <td>3.2</td>\n",
              "      <td>0.3</td>\n",
              "      <td>0.0</td>\n",
              "    </tr>\n",
              "    <tr>\n",
              "      <th>1</th>\n",
              "      <td>1001</td>\n",
              "      <td>Autauga County</td>\n",
              "      <td>1</td>\n",
              "      <td>25</td>\n",
              "      <td>18</td>\n",
              "      <td>2.83</td>\n",
              "      <td>43.5</td>\n",
              "      <td>0.9</td>\n",
              "      <td>37.6</td>\n",
              "      <td>0.62</td>\n",
              "      <td>2.21</td>\n",
              "      <td>0</td>\n",
              "      <td>55601</td>\n",
              "      <td>-14.3</td>\n",
              "      <td>2020-01-02</td>\n",
              "      <td>0.11</td>\n",
              "      <td>19</td>\n",
              "      <td>58786</td>\n",
              "      <td>19.0</td>\n",
              "      <td>2.8</td>\n",
              "      <td>48.68</td>\n",
              "      <td>91</td>\n",
              "      <td>19</td>\n",
              "      <td>101</td>\n",
              "      <td>3.79</td>\n",
              "      <td>0.33</td>\n",
              "      <td>0.025</td>\n",
              "      <td>0.0</td>\n",
              "      <td>0.0</td>\n",
              "      <td>0</td>\n",
              "      <td>47.1</td>\n",
              "      <td>0.0</td>\n",
              "      <td>0.0</td>\n",
              "      <td>0.0</td>\n",
              "      <td>0</td>\n",
              "      <td>0</td>\n",
              "      <td>0.0</td>\n",
              "      <td>0</td>\n",
              "      <td>0.9</td>\n",
              "      <td>2.7</td>\n",
              "      <td>3.2</td>\n",
              "      <td>0.3</td>\n",
              "      <td>0.0</td>\n",
              "    </tr>\n",
              "    <tr>\n",
              "      <th>2</th>\n",
              "      <td>1001</td>\n",
              "      <td>Autauga County</td>\n",
              "      <td>1</td>\n",
              "      <td>15</td>\n",
              "      <td>15</td>\n",
              "      <td>3.18</td>\n",
              "      <td>42.2</td>\n",
              "      <td>1.0</td>\n",
              "      <td>40.3</td>\n",
              "      <td>0.62</td>\n",
              "      <td>2.57</td>\n",
              "      <td>0</td>\n",
              "      <td>55601</td>\n",
              "      <td>-0.4</td>\n",
              "      <td>2020-01-03</td>\n",
              "      <td>0.11</td>\n",
              "      <td>19</td>\n",
              "      <td>58786</td>\n",
              "      <td>19.0</td>\n",
              "      <td>2.8</td>\n",
              "      <td>48.68</td>\n",
              "      <td>91</td>\n",
              "      <td>19</td>\n",
              "      <td>101</td>\n",
              "      <td>3.79</td>\n",
              "      <td>0.33</td>\n",
              "      <td>0.025</td>\n",
              "      <td>0.0</td>\n",
              "      <td>0.0</td>\n",
              "      <td>0</td>\n",
              "      <td>47.1</td>\n",
              "      <td>0.0</td>\n",
              "      <td>0.0</td>\n",
              "      <td>0.0</td>\n",
              "      <td>0</td>\n",
              "      <td>0</td>\n",
              "      <td>0.0</td>\n",
              "      <td>0</td>\n",
              "      <td>0.9</td>\n",
              "      <td>2.7</td>\n",
              "      <td>3.2</td>\n",
              "      <td>0.3</td>\n",
              "      <td>0.0</td>\n",
              "    </tr>\n",
              "  </tbody>\n",
              "</table>\n",
              "</div>"
            ],
            "text/plain": [
              "   CTFIPS          CTNAME  ...  Cumulative inflation rate  COVID death rate\n",
              "0    1001  Autauga County  ...                        0.3               0.0\n",
              "1    1001  Autauga County  ...                        0.3               0.0\n",
              "2    1001  Autauga County  ...                        0.3               0.0\n",
              "\n",
              "[3 rows x 43 columns]"
            ]
          },
          "metadata": {
            "tags": []
          },
          "execution_count": 9
        }
      ]
    },
    {
      "cell_type": "code",
      "metadata": {
        "id": "4sjo_s7Ot4MA"
      },
      "source": [
        ""
      ],
      "execution_count": null,
      "outputs": []
    },
    {
      "cell_type": "code",
      "metadata": {
        "id": "64aGBAU73xdT",
        "outputId": "ffab306a-0416-4053-ec90-7afbabc332c1",
        "colab": {
          "base_uri": "https://localhost:8080/",
          "height": 328
        }
      },
      "source": [
        "maryland_sd_inertia.columns"
      ],
      "execution_count": 10,
      "outputs": [
        {
          "output_type": "execute_result",
          "data": {
            "text/plain": [
              "Index(['CTFIPS', 'CTNAME', 'STFIPS', 'Social distancing index',\n",
              "       '% staying home', 'Trips/person', '% out-of-county trips',\n",
              "       '% out-of-state trips', 'Miles/person', 'Work trips/person',\n",
              "       'Non-work trips/person', 'New COVID cases', 'Population',\n",
              "       '% change in consumption', 'date', 'Transit mode share',\n",
              "       '% people older than 60', 'Median income', '% African Americans',\n",
              "       '% Hispanic Americans', '% Male', 'Population density',\n",
              "       'Employment density', '# hot spots/1000 people',\n",
              "       'Hospital beds/1000 people', 'ICUs/1000 people',\n",
              "       '# contact tracing workers/1000 people', 'New cases/1000 people',\n",
              "       'Active cases/1000 people', '#days: decreasing COVID cases',\n",
              "       '% hospital bed utilization', 'Testing capacity',\n",
              "       'Tests done/1000 people', '% ICU utilization', 'Ventilator shortage',\n",
              "       'Imported COVID cases', 'COVID exposure/1000 people',\n",
              "       '#days: decreasing ILI cases', 'Unemployment claims/1000 people',\n",
              "       'Unemployment rate', '% working from home', 'Cumulative inflation rate',\n",
              "       'COVID death rate'],\n",
              "      dtype='object')"
            ]
          },
          "metadata": {
            "tags": []
          },
          "execution_count": 10
        }
      ]
    },
    {
      "cell_type": "markdown",
      "metadata": {
        "id": "hHDGjRb46i0a"
      },
      "source": [
        "## Assign State Name\n",
        "\n",
        "California, New York, Texas, Iowa, Wisconsin, Colorado"
      ]
    },
    {
      "cell_type": "code",
      "metadata": {
        "id": "MBP739CjGb9Z",
        "outputId": "e5cb8b27-9df6-4bd5-ad70-3760fdb1c2cd",
        "colab": {
          "base_uri": "https://localhost:8080/",
          "height": 249
        }
      },
      "source": [
        "maryland_sd_inertia = pd.merge(state_fips_code,maryland_sd_inertia,how='inner',left_on=['STFIPS'],right_on=['STFIPS'])\n",
        "print(maryland_sd_inertia.shape)\n",
        "\n",
        "maryland_sd_inertia.head(2)"
      ],
      "execution_count": 11,
      "outputs": [
        {
          "output_type": "stream",
          "text": [
            "(901467, 45)\n"
          ],
          "name": "stdout"
        },
        {
          "output_type": "execute_result",
          "data": {
            "text/html": [
              "<div>\n",
              "<style scoped>\n",
              "    .dataframe tbody tr th:only-of-type {\n",
              "        vertical-align: middle;\n",
              "    }\n",
              "\n",
              "    .dataframe tbody tr th {\n",
              "        vertical-align: top;\n",
              "    }\n",
              "\n",
              "    .dataframe thead th {\n",
              "        text-align: right;\n",
              "    }\n",
              "</style>\n",
              "<table border=\"1\" class=\"dataframe\">\n",
              "  <thead>\n",
              "    <tr style=\"text-align: right;\">\n",
              "      <th></th>\n",
              "      <th>State</th>\n",
              "      <th>Postal Code</th>\n",
              "      <th>STFIPS</th>\n",
              "      <th>CTFIPS</th>\n",
              "      <th>CTNAME</th>\n",
              "      <th>Social distancing index</th>\n",
              "      <th>% staying home</th>\n",
              "      <th>Trips/person</th>\n",
              "      <th>% out-of-county trips</th>\n",
              "      <th>% out-of-state trips</th>\n",
              "      <th>Miles/person</th>\n",
              "      <th>Work trips/person</th>\n",
              "      <th>Non-work trips/person</th>\n",
              "      <th>New COVID cases</th>\n",
              "      <th>Population</th>\n",
              "      <th>% change in consumption</th>\n",
              "      <th>date</th>\n",
              "      <th>Transit mode share</th>\n",
              "      <th>% people older than 60</th>\n",
              "      <th>Median income</th>\n",
              "      <th>% African Americans</th>\n",
              "      <th>% Hispanic Americans</th>\n",
              "      <th>% Male</th>\n",
              "      <th>Population density</th>\n",
              "      <th>Employment density</th>\n",
              "      <th># hot spots/1000 people</th>\n",
              "      <th>Hospital beds/1000 people</th>\n",
              "      <th>ICUs/1000 people</th>\n",
              "      <th># contact tracing workers/1000 people</th>\n",
              "      <th>New cases/1000 people</th>\n",
              "      <th>Active cases/1000 people</th>\n",
              "      <th>#days: decreasing COVID cases</th>\n",
              "      <th>% hospital bed utilization</th>\n",
              "      <th>Testing capacity</th>\n",
              "      <th>Tests done/1000 people</th>\n",
              "      <th>% ICU utilization</th>\n",
              "      <th>Ventilator shortage</th>\n",
              "      <th>Imported COVID cases</th>\n",
              "      <th>COVID exposure/1000 people</th>\n",
              "      <th>#days: decreasing ILI cases</th>\n",
              "      <th>Unemployment claims/1000 people</th>\n",
              "      <th>Unemployment rate</th>\n",
              "      <th>% working from home</th>\n",
              "      <th>Cumulative inflation rate</th>\n",
              "      <th>COVID death rate</th>\n",
              "    </tr>\n",
              "  </thead>\n",
              "  <tbody>\n",
              "    <tr>\n",
              "      <th>0</th>\n",
              "      <td>Alabama</td>\n",
              "      <td>AL</td>\n",
              "      <td>1</td>\n",
              "      <td>1001</td>\n",
              "      <td>Autauga County</td>\n",
              "      <td>54</td>\n",
              "      <td>27</td>\n",
              "      <td>2.25</td>\n",
              "      <td>38.8</td>\n",
              "      <td>1.2</td>\n",
              "      <td>24.7</td>\n",
              "      <td>0.25</td>\n",
              "      <td>2.00</td>\n",
              "      <td>0</td>\n",
              "      <td>55601</td>\n",
              "      <td>-22.5</td>\n",
              "      <td>2020-01-01</td>\n",
              "      <td>0.11</td>\n",
              "      <td>19</td>\n",
              "      <td>58786</td>\n",
              "      <td>19.0</td>\n",
              "      <td>2.8</td>\n",
              "      <td>48.68</td>\n",
              "      <td>91</td>\n",
              "      <td>19</td>\n",
              "      <td>101</td>\n",
              "      <td>3.79</td>\n",
              "      <td>0.33</td>\n",
              "      <td>0.025</td>\n",
              "      <td>0.0</td>\n",
              "      <td>0.0</td>\n",
              "      <td>0</td>\n",
              "      <td>47.1</td>\n",
              "      <td>0.0</td>\n",
              "      <td>0.0</td>\n",
              "      <td>0.0</td>\n",
              "      <td>0</td>\n",
              "      <td>0</td>\n",
              "      <td>0.0</td>\n",
              "      <td>0</td>\n",
              "      <td>0.9</td>\n",
              "      <td>2.7</td>\n",
              "      <td>3.2</td>\n",
              "      <td>0.3</td>\n",
              "      <td>0.0</td>\n",
              "    </tr>\n",
              "    <tr>\n",
              "      <th>1</th>\n",
              "      <td>Alabama</td>\n",
              "      <td>AL</td>\n",
              "      <td>1</td>\n",
              "      <td>1001</td>\n",
              "      <td>Autauga County</td>\n",
              "      <td>25</td>\n",
              "      <td>18</td>\n",
              "      <td>2.83</td>\n",
              "      <td>43.5</td>\n",
              "      <td>0.9</td>\n",
              "      <td>37.6</td>\n",
              "      <td>0.62</td>\n",
              "      <td>2.21</td>\n",
              "      <td>0</td>\n",
              "      <td>55601</td>\n",
              "      <td>-14.3</td>\n",
              "      <td>2020-01-02</td>\n",
              "      <td>0.11</td>\n",
              "      <td>19</td>\n",
              "      <td>58786</td>\n",
              "      <td>19.0</td>\n",
              "      <td>2.8</td>\n",
              "      <td>48.68</td>\n",
              "      <td>91</td>\n",
              "      <td>19</td>\n",
              "      <td>101</td>\n",
              "      <td>3.79</td>\n",
              "      <td>0.33</td>\n",
              "      <td>0.025</td>\n",
              "      <td>0.0</td>\n",
              "      <td>0.0</td>\n",
              "      <td>0</td>\n",
              "      <td>47.1</td>\n",
              "      <td>0.0</td>\n",
              "      <td>0.0</td>\n",
              "      <td>0.0</td>\n",
              "      <td>0</td>\n",
              "      <td>0</td>\n",
              "      <td>0.0</td>\n",
              "      <td>0</td>\n",
              "      <td>0.9</td>\n",
              "      <td>2.7</td>\n",
              "      <td>3.2</td>\n",
              "      <td>0.3</td>\n",
              "      <td>0.0</td>\n",
              "    </tr>\n",
              "  </tbody>\n",
              "</table>\n",
              "</div>"
            ],
            "text/plain": [
              "     State Postal Code  ...  Cumulative inflation rate  COVID death rate\n",
              "0  Alabama          AL  ...                        0.3               0.0\n",
              "1  Alabama          AL  ...                        0.3               0.0\n",
              "\n",
              "[2 rows x 45 columns]"
            ]
          },
          "metadata": {
            "tags": []
          },
          "execution_count": 11
        }
      ]
    },
    {
      "cell_type": "code",
      "metadata": {
        "id": "DPt_rkwb7KOq"
      },
      "source": [
        "## not using this\n",
        "def assignStateName(x):\n",
        "  if x == 6:\n",
        "    return 'California' # 6\n",
        "  elif x == 36:\n",
        "    return 'New York' # 36\n",
        "  elif x == 48:\n",
        "    return 'Texas' #1\n",
        "  elif x == 19:\n",
        "    return 'Iowa' #19\n",
        "  elif x == 8:\n",
        "    return 'Colorado' #8\n",
        "  elif x == 55:\n",
        "    return 'Wisconsin' #31\n",
        "  else:\n",
        "    return 'NA'"
      ],
      "execution_count": 12,
      "outputs": []
    },
    {
      "cell_type": "markdown",
      "metadata": {
        "id": "225hov4R_c7x"
      },
      "source": [
        "## Filter Data for 6 States"
      ]
    },
    {
      "cell_type": "code",
      "metadata": {
        "id": "K9u2ApLX_1xg",
        "outputId": "190c8465-69e6-474d-8acf-0227f8d7aefb",
        "colab": {
          "base_uri": "https://localhost:8080/",
          "height": 121
        }
      },
      "source": [
        "state_list = ['California', 'New York', 'Texas', 'Iowa', 'Wisconsin', 'Colorado']\n",
        "\n",
        "maryland_sd_inertia_6states = maryland_sd_inertia[maryland_sd_inertia['State'].isin(state_list)]\n",
        "print(maryland_sd_inertia_6states.head(3) )"
      ],
      "execution_count": 13,
      "outputs": [
        {
          "output_type": "stream",
          "text": [
            "            State Postal Code  ...  Cumulative inflation rate  COVID death rate\n",
            "53382  California          CA  ...                        0.3               0.0\n",
            "53383  California          CA  ...                        0.3               0.0\n",
            "53384  California          CA  ...                        0.3               0.0\n",
            "\n",
            "[3 rows x 45 columns]\n"
          ],
          "name": "stdout"
        }
      ]
    },
    {
      "cell_type": "code",
      "metadata": {
        "id": "heS43YxmAUDN",
        "outputId": "18a362f2-d320-41c1-d2bc-13dbab537e75",
        "colab": {
          "base_uri": "https://localhost:8080/",
          "height": 52
        }
      },
      "source": [
        "maryland_sd_inertia_6states.State.unique()"
      ],
      "execution_count": 14,
      "outputs": [
        {
          "output_type": "execute_result",
          "data": {
            "text/plain": [
              "array(['California', 'Colorado', 'Iowa', 'New York', 'Texas', 'Wisconsin'],\n",
              "      dtype=object)"
            ]
          },
          "metadata": {
            "tags": []
          },
          "execution_count": 14
        }
      ]
    },
    {
      "cell_type": "markdown",
      "metadata": {
        "id": "PsOnEXidWFu9"
      },
      "source": [
        "## Multiclass Classification without a Classifier!"
      ]
    },
    {
      "cell_type": "code",
      "metadata": {
        "id": "2Kazm_SFJc4k",
        "outputId": "7362a2fa-6132-466e-f332-3ec7b8e20ae0",
        "colab": {
          "base_uri": "https://localhost:8080/",
          "height": 0
        }
      },
      "source": [
        "maryland_sd_inertia_6states.columns"
      ],
      "execution_count": 15,
      "outputs": [
        {
          "output_type": "execute_result",
          "data": {
            "text/plain": [
              "Index(['State', 'Postal Code', 'STFIPS', 'CTFIPS', 'CTNAME',\n",
              "       'Social distancing index', '% staying home', 'Trips/person',\n",
              "       '% out-of-county trips', '% out-of-state trips', 'Miles/person',\n",
              "       'Work trips/person', 'Non-work trips/person', 'New COVID cases',\n",
              "       'Population', '% change in consumption', 'date', 'Transit mode share',\n",
              "       '% people older than 60', 'Median income', '% African Americans',\n",
              "       '% Hispanic Americans', '% Male', 'Population density',\n",
              "       'Employment density', '# hot spots/1000 people',\n",
              "       'Hospital beds/1000 people', 'ICUs/1000 people',\n",
              "       '# contact tracing workers/1000 people', 'New cases/1000 people',\n",
              "       'Active cases/1000 people', '#days: decreasing COVID cases',\n",
              "       '% hospital bed utilization', 'Testing capacity',\n",
              "       'Tests done/1000 people', '% ICU utilization', 'Ventilator shortage',\n",
              "       'Imported COVID cases', 'COVID exposure/1000 people',\n",
              "       '#days: decreasing ILI cases', 'Unemployment claims/1000 people',\n",
              "       'Unemployment rate', '% working from home', 'Cumulative inflation rate',\n",
              "       'COVID death rate'],\n",
              "      dtype='object')"
            ]
          },
          "metadata": {
            "tags": []
          },
          "execution_count": 15
        }
      ]
    },
    {
      "cell_type": "code",
      "metadata": {
        "id": "KBYUKEs-TNai"
      },
      "source": [
        "X_cols = ['Social distancing index','% staying home', 'Trips/person', '% out-of-county trips',\n",
        "       '% out-of-state trips', 'Miles/person', 'Work trips/person',\n",
        "       'Non-work trips/person','% change in consumption','Transit mode share',\n",
        "       '% people older than 60', 'Median income', '% African Americans',\n",
        "       '% Hispanic Americans', '% Male', 'Population density',\n",
        "       'Employment density', '# hot spots/1000 people',\n",
        "       'Hospital beds/1000 people', 'ICUs/1000 people',\n",
        "       '# contact tracing workers/1000 people','% hospital bed utilization', 'Testing capacity',\n",
        "       'Tests done/1000 people', '% ICU utilization', 'Ventilator shortage',\n",
        "       'Imported COVID cases', 'COVID exposure/1000 people',\n",
        "       '#days: decreasing ILI cases', 'Unemployment claims/1000 people',\n",
        "       'Unemployment rate', '% working from home', 'Cumulative inflation rate']\n",
        "\n",
        "Y_col = ['New cases/1000 people']\n"
      ],
      "execution_count": 16,
      "outputs": []
    },
    {
      "cell_type": "code",
      "metadata": {
        "id": "g6Sa8b1IzFw6"
      },
      "source": [
        "# have to check which values are NA\n",
        "maryland_sd_inertia_6states_filtered = maryland_sd_inertia_6states.dropna()"
      ],
      "execution_count": 17,
      "outputs": []
    },
    {
      "cell_type": "code",
      "metadata": {
        "id": "3wIeqCwKWUeI"
      },
      "source": [
        "n_classes = 3\n",
        "training_inputs = maryland_sd_inertia_6states_filtered[X_cols].values\n",
        "#training_outputs_labels = [c for row in maryland_sd_inertia_6states[Y_col].values for c in row]\n"
      ],
      "execution_count": 18,
      "outputs": []
    },
    {
      "cell_type": "markdown",
      "metadata": {
        "id": "1V11LBGZy9lx"
      },
      "source": [
        "# K-means clustering"
      ]
    },
    {
      "cell_type": "code",
      "metadata": {
        "id": "c31oBHjdy_9S"
      },
      "source": [
        "from sklearn.cluster import KMeans\n",
        "\n",
        "\n",
        "y_kmeans = KMeans(n_clusters=7,init ='k-means++', max_iter=300, n_init=10,random_state=0 ).fit_predict(training_inputs)\n",
        "\n",
        "X = training_inputs"
      ],
      "execution_count": null,
      "outputs": []
    },
    {
      "cell_type": "code",
      "metadata": {
        "id": "QoKTnllUzpIv"
      },
      "source": [
        "#6 Visualising the clusters\n",
        "plt.scatter(X[y_kmeans==0, 0], X[y_kmeans==0, 1], s=30, c='red', label ='Cluster 1')\n",
        "plt.scatter(X[y_kmeans==1, 0], X[y_kmeans==1, 1], s=30, c='blue', label ='Cluster 2')\n",
        "plt.scatter(X[y_kmeans==2, 0], X[y_kmeans==2, 1], s=30, c='green', label ='Cluster 3')\n",
        "plt.scatter(X[y_kmeans==3, 0], X[y_kmeans==3, 1], s=30, c='cyan', label ='Cluster 4')\n",
        "plt.scatter(X[y_kmeans==4, 0], X[y_kmeans==4, 1], s=30, c='magenta', label ='Cluster 5')\n",
        "plt.scatter(X[y_kmeans==5, 0], X[y_kmeans==5, 1], s=30, c='lightblue', label ='Cluster 6')\n",
        "plt.scatter(X[y_kmeans==6, 0], X[y_kmeans==6, 1], s=30, c='yellow', label ='Cluster 7')"
      ],
      "execution_count": null,
      "outputs": []
    },
    {
      "cell_type": "code",
      "metadata": {
        "id": "OaVnTDSqz2c8"
      },
      "source": [
        "y_kmeans"
      ],
      "execution_count": null,
      "outputs": []
    },
    {
      "cell_type": "markdown",
      "metadata": {
        "id": "h6BV8aqY763g"
      },
      "source": [
        "# GMM Clustering"
      ]
    },
    {
      "cell_type": "code",
      "metadata": {
        "id": "TQ2PDE8_78nB"
      },
      "source": [
        "from sklearn.mixture import GaussianMixture\n",
        "gmm = GaussianMixture(n_components=7)\n",
        "gmm.fit(training_inputs)"
      ],
      "execution_count": null,
      "outputs": []
    },
    {
      "cell_type": "code",
      "metadata": {
        "id": "RbT9xjQq7_JY"
      },
      "source": [
        "#predictions from gmm\n",
        "labels = gmm.predict(training_inputs)\n",
        "frame = pd.DataFrame(training_inputs)\n",
        "frame['cluster'] = labels\n",
        "frame_columns = ['Social distancing index','% staying home', 'Trips/person', '% out-of-county trips',\n",
        "       '% out-of-state trips', 'Miles/person', 'Work trips/person',\n",
        "       'Non-work trips/person','% change in consumption','Transit mode share',\n",
        "       '% people older than 60', 'Median income', '% African Americans',\n",
        "       '% Hispanic Americans', '% Male', 'Population density',\n",
        "       'Employment density', '# hot spots/1000 people',\n",
        "       'Hospital beds/1000 people', 'ICUs/1000 people',\n",
        "       '# contact tracing workers/1000 people','% hospital bed utilization', 'Testing capacity',\n",
        "       'Tests done/1000 people', '% ICU utilization', 'Ventilator shortage',\n",
        "       'Imported COVID cases', 'COVID exposure/1000 people',\n",
        "       '#days: decreasing ILI cases', 'Unemployment claims/1000 people',\n",
        "       'Unemployment rate', '% working from home', 'Cumulative inflation rate','cluster']\n",
        "\n",
        "frame.columns = frame_columns \n"
      ],
      "execution_count": null,
      "outputs": []
    },
    {
      "cell_type": "code",
      "metadata": {
        "id": "ClMuF4FB8CG0"
      },
      "source": [
        "\n",
        "color=['blue','green','cyan', 'yellow','red','lightblue','magenta']\n",
        "for k in range(0,6):\n",
        "    data = frame[frame[\"cluster\"]==k]\n",
        "    plt.scatter(data[\"Social distancing index\"],data[\"% staying home\"],c=color[k])\n",
        "plt.show()"
      ],
      "execution_count": null,
      "outputs": []
    },
    {
      "cell_type": "markdown",
      "metadata": {
        "id": "abQk5gxH3jQ6"
      },
      "source": [
        "# Optics Clustering\n",
        "\n",
        "Commenting code as it is taking lots of time"
      ]
    },
    {
      "cell_type": "code",
      "metadata": {
        "id": "aWCU9brs3l7_"
      },
      "source": [
        "from sklearn.cluster import OPTICS, cluster_optics_dbscan\n",
        "from matplotlib import gridspec \n",
        "\n",
        "# Building the OPTICS Clustering model \n",
        "optics_model = OPTICS(min_samples = 30, xi = 0.8, min_cluster_size = 0.08)\n",
        "\n"
      ],
      "execution_count": null,
      "outputs": []
    },
    {
      "cell_type": "code",
      "metadata": {
        "id": "rZX1KPrm4Cey"
      },
      "source": [
        "'''\n",
        "# Training the model \n",
        "y_optics = optics_model.fit(training_inputs) \n",
        "print('number of hierarchical clusters',len(optics_model.cluster_hierarchy_)-1)\n",
        "\n",
        "X = training_inputs\n",
        "'''"
      ],
      "execution_count": null,
      "outputs": []
    },
    {
      "cell_type": "code",
      "metadata": {
        "id": "G21KoA6d49Bh"
      },
      "source": [
        "'''\n",
        "#6 Visualising the clusters\n",
        "plt.scatter(X[y_optics==0, 0], X[y_optics==0, 1], s=100, c='red', label ='Cluster 1')\n",
        "plt.scatter(X[y_optics==1, 0], X[y_optics==1, 1], s=100, c='blue', label ='Cluster 2')\n",
        "plt.scatter(X[y_optics==2, 0], X[y_optics==2, 1], s=100, c='green', label ='Cluster 3')\n",
        "plt.scatter(X[y_optics==3, 0], X[y_optics==3, 1], s=100, c='cyan', label ='Cluster 4')\n",
        "plt.scatter(X[y_optics==4, 0], X[y_optics==4, 1], s=100, c='magenta', label ='Cluster 5')\n",
        "'''"
      ],
      "execution_count": null,
      "outputs": []
    },
    {
      "cell_type": "markdown",
      "metadata": {
        "id": "8eBVcfIT2QdV"
      },
      "source": [
        "# Sprectal clustering\n",
        "Comenting the code as it is crashing"
      ]
    },
    {
      "cell_type": "code",
      "metadata": {
        "id": "y3h45p882Qda"
      },
      "source": [
        "from sklearn.cluster import SpectralClustering\n",
        "\n",
        "'''\n",
        "y_sprectal = SpectralClustering(n_clusters=5 ).fit_predict(training_inputs)\n",
        "\n",
        "X = training_inputs\n",
        "'''"
      ],
      "execution_count": null,
      "outputs": []
    },
    {
      "cell_type": "code",
      "metadata": {
        "id": "EVKlNotu2Qde"
      },
      "source": [
        "'''\n",
        "#6 Visualising the clusters\n",
        "plt.scatter(X[y_sprectal==0, 0], X[y_sprectal==0, 1], s=100, c='red', label ='Cluster 1')\n",
        "plt.scatter(X[y_sprectal==1, 0], X[y_sprectal==1, 1], s=100, c='blue', label ='Cluster 2')\n",
        "plt.scatter(X[y_sprectal==2, 0], X[y_sprectal==2, 1], s=100, c='green', label ='Cluster 3')\n",
        "plt.scatter(X[y_sprectal==3, 0], X[y_sprectal==3, 1], s=100, c='cyan', label ='Cluster 4')\n",
        "plt.scatter(X[y_sprectal==4, 0], X[y_sprectal==4, 1], s=100, c='magenta', label ='Cluster 5')\n",
        "'''"
      ],
      "execution_count": null,
      "outputs": []
    },
    {
      "cell_type": "code",
      "metadata": {
        "id": "HnoAchBF2Qdh"
      },
      "source": [
        "#y_sprectal"
      ],
      "execution_count": null,
      "outputs": []
    },
    {
      "cell_type": "markdown",
      "metadata": {
        "id": "hEeGPr7uGzc-"
      },
      "source": [
        "# AgglomerativeClustering"
      ]
    },
    {
      "cell_type": "code",
      "metadata": {
        "id": "X1SWlM4_G04p"
      },
      "source": [
        "\n",
        "import time as time\n",
        "import numpy as np\n",
        "import matplotlib.pyplot as plt\n",
        "import mpl_toolkits.mplot3d.axes3d as p3\n",
        "from sklearn.cluster import AgglomerativeClustering\n"
      ],
      "execution_count": 19,
      "outputs": []
    },
    {
      "cell_type": "code",
      "metadata": {
        "id": "Nx_JMPJoLP6l",
        "outputId": "06334301-be5c-4f93-a6de-687b31bcde6e",
        "colab": {
          "base_uri": "https://localhost:8080/",
          "height": 35
        }
      },
      "source": [
        "13976*2"
      ],
      "execution_count": 30,
      "outputs": [
        {
          "output_type": "execute_result",
          "data": {
            "text/plain": [
              "27952"
            ]
          },
          "metadata": {
            "tags": []
          },
          "execution_count": 30
        }
      ]
    },
    {
      "cell_type": "code",
      "metadata": {
        "id": "OpVTsk9pHBi4",
        "outputId": "ea7e83e2-e1c4-4596-96b6-5b87fef7fb41",
        "colab": {
          "base_uri": "https://localhost:8080/",
          "height": 35
        }
      },
      "source": [
        "X = training_inputs[:27952,:]\n",
        "X.shape"
      ],
      "execution_count": 31,
      "outputs": [
        {
          "output_type": "execute_result",
          "data": {
            "text/plain": [
              "(27952, 33)"
            ]
          },
          "metadata": {
            "tags": []
          },
          "execution_count": 31
        }
      ]
    },
    {
      "cell_type": "code",
      "metadata": {
        "id": "ymbh-tTBG3Uk",
        "outputId": "f70de283-72bf-452e-cf41-3187f1ecf79c",
        "colab": {
          "base_uri": "https://localhost:8080/",
          "height": 69
        }
      },
      "source": [
        "print(\"Compute unstructured hierarchical clustering...\")\n",
        "st = time.time()\n",
        "ward = AgglomerativeClustering(n_clusters=5, linkage='ward').fit(X)\n",
        "elapsed_time = time.time() - st\n",
        "label = ward.labels_\n",
        "print(\"Elapsed time: %.2fs\" % elapsed_time)\n",
        "print(\"Number of points: %i\" % label.size)"
      ],
      "execution_count": 32,
      "outputs": [
        {
          "output_type": "stream",
          "text": [
            "Compute unstructured hierarchical clustering...\n",
            "Elapsed time: 33.21s\n",
            "Number of points: 27952\n"
          ],
          "name": "stdout"
        }
      ]
    },
    {
      "cell_type": "code",
      "metadata": {
        "id": "XzXach9IHDMA",
        "outputId": "fec5a099-d34d-4d3c-c1fc-5ebbb98ae4f7",
        "colab": {
          "base_uri": "https://localhost:8080/",
          "height": 336
        }
      },
      "source": [
        "fig = plt.figure()\n",
        "ax = p3.Axes3D(fig)\n",
        "ax.view_init(7, -80)\n",
        "for l in np.unique(label):\n",
        "    ax.scatter(X[label == l, 0], X[label == l, 1], X[label == l, 2],\n",
        "               color=plt.cm.jet(np.float(l) / np.max(label + 1)),\n",
        "               s=20, edgecolor='k')\n",
        "plt.title('Without connectivity constraints (time %.2fs)' % elapsed_time)"
      ],
      "execution_count": 33,
      "outputs": [
        {
          "output_type": "execute_result",
          "data": {
            "text/plain": [
              "Text(0.5, 0.92, 'Without connectivity constraints (time 33.21s)')"
            ]
          },
          "metadata": {
            "tags": []
          },
          "execution_count": 33
        },
        {
          "output_type": "display_data",
          "data": {
            "image/png": "[encoded data removed]",
            "text/plain": [
              "<Figure size 432x288 with 1 Axes>"
            ]
          },
          "metadata": {
            "tags": [],
            "needs_background": "light"
          }
        }
      ]
    },
    {
      "cell_type": "code",
      "metadata": {
        "id": "fKup_72-HdBx",
        "outputId": "581d7df4-59be-4cb4-f3c2-fe0a2b47ed83",
        "colab": {
          "base_uri": "https://localhost:8080/",
          "height": 124
        }
      },
      "source": [
        "# Define the structure A of the data. Here a 10 nearest neighbors\n",
        "from sklearn.neighbors import kneighbors_graph\n",
        "connectivity = kneighbors_graph(X, n_neighbors=100, include_self=False)\n",
        "\n",
        "# #############################################################################\n",
        "# Compute clustering\n",
        "print(\"Compute structured hierarchical clustering...\")\n",
        "st = time.time()\n",
        "ward = AgglomerativeClustering(n_clusters=6, connectivity=connectivity,\n",
        "                               linkage='ward').fit(X)\n",
        "elapsed_time = time.time() - st\n",
        "label = ward.labels_\n",
        "print(\"Elapsed time: %.2fs\" % elapsed_time)\n",
        "print(\"Number of points: %i\" % label.size)"
      ],
      "execution_count": 34,
      "outputs": [
        {
          "output_type": "stream",
          "text": [
            "Compute structured hierarchical clustering...\n"
          ],
          "name": "stdout"
        },
        {
          "output_type": "stream",
          "text": [
            "/usr/local/lib/python3.6/dist-packages/sklearn/cluster/_agglomerative.py:245: UserWarning: the number of connected components of the connectivity matrix is 49 > 1. Completing it to avoid stopping the tree early.\n",
            "  affinity='euclidean')\n"
          ],
          "name": "stderr"
        },
        {
          "output_type": "stream",
          "text": [
            "Elapsed time: 31.34s\n",
            "Number of points: 27952\n"
          ],
          "name": "stdout"
        }
      ]
    },
    {
      "cell_type": "code",
      "metadata": {
        "id": "x2KZwBIxMOKy",
        "outputId": "ae426a26-d972-4379-a579-fad2012ed497",
        "colab": {
          "base_uri": "https://localhost:8080/",
          "height": 35
        }
      },
      "source": [
        "label"
      ],
      "execution_count": 37,
      "outputs": [
        {
          "output_type": "execute_result",
          "data": {
            "text/plain": [
              "array([2, 2, 2, ..., 2, 2, 2])"
            ]
          },
          "metadata": {
            "tags": []
          },
          "execution_count": 37
        }
      ]
    },
    {
      "cell_type": "code",
      "metadata": {
        "id": "BgYe9ozJL1oH",
        "outputId": "17ba8ba4-809d-4cf3-e66d-2881b492586a",
        "colab": {
          "base_uri": "https://localhost:8080/",
          "height": 86
        }
      },
      "source": [
        "print(len(X[label == l, 0]))\n",
        "print(len(X[label == 2, 1]))\n",
        "print(len(X[label == 3, 2]))\n",
        "print(len(X[label == 4, 0]))"
      ],
      "execution_count": 39,
      "outputs": [
        {
          "output_type": "stream",
          "text": [
            "2009\n",
            "10445\n",
            "6314\n",
            "3444\n"
          ],
          "name": "stdout"
        }
      ]
    },
    {
      "cell_type": "code",
      "metadata": {
        "id": "BHFzxMSZKmOQ",
        "outputId": "be4ca794-bb94-448c-f12e-e018d052440f",
        "colab": {
          "base_uri": "https://localhost:8080/",
          "height": 319
        }
      },
      "source": [
        "# Plot result\n",
        "fig = plt.figure()\n",
        "ax = p3.Axes3D(fig)\n",
        "ax.view_init(7, -80)\n",
        "for l in np.unique(label):\n",
        "    ax.scatter(X[label == l, 0], X[label == l, 1], X[label == l, 2],\n",
        "               color=plt.cm.jet(float(l) / np.max(label + 1)),\n",
        "               s=20, edgecolor='k')\n",
        "plt.title('With connectivity constraints (time %.2fs)' % elapsed_time)\n",
        "\n",
        "plt.show()"
      ],
      "execution_count": 35,
      "outputs": [
        {
          "output_type": "display_data",
          "data": {
            "image/png": "[encoded data removed]",
            "text/plain": [
              "<Figure size 432x288 with 1 Axes>"
            ]
          },
          "metadata": {
            "tags": [],
            "needs_background": "light"
          }
        }
      ]
    },
    {
      "cell_type": "markdown",
      "metadata": {
        "id": "pINARF0gU71c"
      },
      "source": [
        "# K-means Cosine create,visualize"
      ]
    },
    {
      "cell_type": "markdown",
      "metadata": {
        "id": "PDGnEhnYVAEN"
      },
      "source": [
        "ref: https://towardsdatascience.com/cluster-analysis-create-visualize-and-interpret-customer-segments-474e55d00ebb"
      ]
    },
    {
      "cell_type": "code",
      "metadata": {
        "id": "osdF83YMVRC5"
      },
      "source": [
        "X = training_inputs"
      ],
      "execution_count": 41,
      "outputs": []
    },
    {
      "cell_type": "code",
      "metadata": {
        "id": "zBTHeXRKVX9M",
        "outputId": "126ddcff-295a-42ca-d8a9-fdcacd5725a0",
        "colab": {
          "base_uri": "https://localhost:8080/",
          "height": 35
        }
      },
      "source": [
        "X.shape"
      ],
      "execution_count": 43,
      "outputs": [
        {
          "output_type": "execute_result",
          "data": {
            "text/plain": [
              "(139769, 33)"
            ]
          },
          "metadata": {
            "tags": []
          },
          "execution_count": 43
        }
      ]
    },
    {
      "cell_type": "code",
      "metadata": {
        "id": "yoF0o3LHU_Hs",
        "outputId": "0de51064-fcad-4a33-82ca-6731303ed506",
        "colab": {
          "base_uri": "https://localhost:8080/",
          "height": 349
        }
      },
      "source": [
        "import seaborn as sns\n",
        "import matplotlib.pyplot as plt\n",
        "from sklearn.cluster import KMeans\n",
        "from sklearn import preprocessing\n",
        "\n",
        "normalized_vectors = preprocessing.normalize(X)\n",
        "scores = [KMeans(n_clusters=i+2).fit(normalized_vectors).inertia_  \n",
        "          for i in range(10)]\n",
        "sns.lineplot(np.arange(2, 12), scores)\n",
        "plt.xlabel('Number of clusters')\n",
        "plt.ylabel(\"Inertia\")\n",
        "plt.title(\"Inertia of Cosine k-Means versus number of clusters\")\n",
        "plt.savefig(\"intertia_cosine_kmeans.jpg\", dpi=300)"
      ],
      "execution_count": 46,
      "outputs": [
        {
          "output_type": "stream",
          "text": [
            "/usr/local/lib/python3.6/dist-packages/seaborn/_decorators.py:43: FutureWarning: Pass the following variables as keyword args: x, y. From version 0.12, the only valid positional argument will be `data`, and passing other arguments without an explicit keyword will result in an error or misinterpretation.\n",
            "  FutureWarning\n"
          ],
          "name": "stderr"
        },
        {
          "output_type": "display_data",
          "data": {
            "image/png": "[encoded data removed]",
            "text/plain": [
              "<Figure size 432x288 with 1 Axes>"
            ]
          },
          "metadata": {
            "tags": [],
            "needs_background": "light"
          }
        }
      ]
    },
    {
      "cell_type": "markdown",
      "metadata": {
        "id": "qrsK17U0WSYD"
      },
      "source": [
        "## silhouette score"
      ]
    },
    {
      "cell_type": "code",
      "metadata": {
        "id": "k-filcuhWRuD",
        "outputId": "d6a07b12-0066-4977-b32c-1a5588278139",
        "colab": {
          "base_uri": "https://localhost:8080/",
          "height": 35
        }
      },
      "source": [
        "from sklearn.metrics import silhouette_score\n",
        "from sklearn.cluster import DBSCAN\n",
        "\n",
        "# Prepare models\n",
        "kmeans = KMeans(n_clusters=5).fit(X)\n",
        "# Print results\n",
        "print('kmeans: {}'.format(silhouette_score(X, kmeans.labels_, \n",
        "                                           metric='euclidean')))\n",
        "\n",
        "\n"
      ],
      "execution_count": 51,
      "outputs": [
        {
          "output_type": "stream",
          "text": [
            "kmeans: 0.502287553486621\n"
          ],
          "name": "stdout"
        }
      ]
    },
    {
      "cell_type": "code",
      "metadata": {
        "id": "QDQ0n92rXNUa",
        "outputId": "80b49b34-11fe-4b2f-9aee-e583a5c0721a",
        "colab": {
          "base_uri": "https://localhost:8080/",
          "height": 35
        }
      },
      "source": [
        "normalized_vectors = preprocessing.normalize(X)\n",
        "normalized_kmeans = KMeans(n_clusters=5).fit(normalized_vectors)\n",
        "\n",
        "print('Cosine kmeans:{}'.format(silhouette_score(normalized_vectors,\n",
        "                                          normalized_kmeans.labels_,\n",
        "                                          metric='cosine')))\n"
      ],
      "execution_count": 52,
      "outputs": [
        {
          "output_type": "stream",
          "text": [
            "Cosine kmeans:0.8539456985964671\n"
          ],
          "name": "stdout"
        }
      ]
    },
    {
      "cell_type": "code",
      "metadata": {
        "id": "hYro-kMIZ8sE",
        "outputId": "7e027916-05ef-48f9-e4e5-bf83d824290c",
        "colab": {
          "base_uri": "https://localhost:8080/",
          "height": 69
        }
      },
      "source": [
        "print(min_samples)\n",
        "print(X.shape)\n",
        "dbscan.labels_"
      ],
      "execution_count": 60,
      "outputs": [
        {
          "output_type": "stream",
          "text": [
            "34\n",
            "(139769, 33)\n"
          ],
          "name": "stdout"
        },
        {
          "output_type": "execute_result",
          "data": {
            "text/plain": [
              "array([-1, -1, -1, ..., -1, -1, -1])"
            ]
          },
          "metadata": {
            "tags": []
          },
          "execution_count": 60
        }
      ]
    },
    {
      "cell_type": "code",
      "metadata": {
        "id": "sVq0b0N0dDVW"
      },
      "source": [
        "\n",
        "# Data handling\n",
        "import pandas as pd\n",
        "import numpy as np\n",
        "from sklearn.preprocessing import MinMaxScaler\n",
        "\n",
        "# Clustering\n",
        "from sklearn.cluster import KMeans, DBSCAN\n",
        "from sklearn import preprocessing\n",
        "from sklearn.metrics import silhouette_score\n",
        "\n",
        "# Dimensionality reduction\n",
        "from sklearn.manifold import TSNE\n",
        "from sklearn.decomposition import PCA\n",
        "\n",
        "# Visualization\n",
        "import seaborn as sns\n",
        "import plotly.express as px\n",
        "import matplotlib.pyplot as plt\n",
        "import mpl_toolkits.mplot3d.axes3d as p3\n",
        "from matplotlib import animation\n",
        "\n",
        "%matplotlib inline \n",
        "\n",
        "def load_preprocess_data():\n",
        "    \"\"\" Load and preprocess data\n",
        "    \"\"\"\n",
        "    \n",
        "    # Load data\n",
        "    df = pd.read_csv(\"data.csv\")\n",
        "    \n",
        "    # remove empty values\n",
        "    df = df.loc[df.TotalCharges!=\" \", :]\n",
        "    df.TotalCharges = df.TotalCharges.astype(float)\n",
        "    \n",
        "    # Label data correctly\n",
        "    replace_cols = [ 'OnlineSecurity', 'OnlineBackup', 'DeviceProtection',\n",
        "                    'TechSupport','StreamingTV', 'StreamingMovies', 'Partner', 'Dependents',\n",
        "                   'PhoneService', 'MultipleLines', 'PaperlessBilling', 'Churn']\n",
        "    for i in replace_cols : \n",
        "        df.loc[:, i]  = df.loc[:, i].replace({'No internet service' : 'No', 'No phone service':'No'})\n",
        "        df.loc[:, i]  = df.loc[:, i].map({'No':0, 'Yes':1})\n",
        "    df.gender = df.gender.map({\"Female\":0, \"Male\":1})\n",
        "    \n",
        "    # One-hot encoding of variables\n",
        "    others_categorical = ['Contract', 'PaymentMethod', 'InternetService']\n",
        "    for i in others_categorical:\n",
        "        df = df.join(pd.get_dummies(df[i], prefix=i))\n",
        "    df.drop(others_categorical, axis=1, inplace=True)\n",
        "    \n",
        "    # Calculate number of services\n",
        "    services = ['PhoneService', 'MultipleLines', 'OnlineSecurity',\n",
        "            'OnlineBackup', 'DeviceProtection', 'TechSupport', 'StreamingTV',\n",
        "            'StreamingMovies', 'InternetService_DSL', 'InternetService_Fiber optic',\n",
        "            'InternetService_No']\n",
        "    df['nr_services'] = df.apply(lambda row: sum([row[x] for x in services[:-1]]), 1)\n",
        "    \n",
        "    return df.drop('customerID', 1)\n",
        "\n",
        "def plot_corr(df):\n",
        "    corr = df.corr()\n",
        "    mask = np.zeros_like(corr, dtype=np.bool)\n",
        "    mask[np.triu_indices_from(mask)] = True\n",
        "    f, ax = plt.subplots(figsize=(11, 9))\n",
        "    cmap = sns.diverging_palette(220, 10, as_cmap=True)\n",
        "    sns.heatmap(corr, mask=mask, cmap=cmap, vmax=.3, center=0,\n",
        "                square=True, linewidths=.5, cbar_kws={\"shrink\": .5})\n",
        "    \n",
        "def plot_tsne(tnse_data, kmeans_labels):\n",
        "    df_tsne = pd.DataFrame(tsne_data).rename({0: 'x', 1: 'y'}, axis=1)\n",
        "    df_tsne['z'] = kmeans_labels\n",
        "    sns.scatterplot(x=df_tsne.x, y=df_tsne.y, hue=df_tsne.z, palette=\"Set2\")\n",
        "    plt.show()\n",
        "    \n",
        "def prepare_pca(n_components, data, kmeans_labels):\n",
        "    names = ['x', 'y', 'z']\n",
        "    matrix = PCA(n_components=n_components).fit_transform(data)\n",
        "    df_matrix = pd.DataFrame(matrix)\n",
        "    df_matrix.rename({i:names[i] for i in range(n_components)}, axis=1, inplace=True)\n",
        "    df_matrix['labels'] = kmeans_labels\n",
        "    \n",
        "    return df_matrix\n",
        "\n",
        "def prepare_tsne(n_components, data, kmeans_labels):\n",
        "    names = ['x', 'y', 'z']\n",
        "    matrix = TSNE(n_components=n_components).fit_transform(data)\n",
        "    df_matrix = pd.DataFrame(matrix)\n",
        "    df_matrix.rename({i:names[i] for i in range(n_components)}, axis=1, inplace=True)\n",
        "    df_matrix['labels'] = kmeans_labels\n",
        "    \n",
        "    return df_matrix\n",
        "\n",
        "def plot_3d(df, name='labels'):\n",
        "    iris = px.data.iris()\n",
        "    fig = px.scatter_3d(df, x='x', y='y', z='z',\n",
        "                  color=name, opacity=0.5)\n",
        "    \n",
        "\n",
        "    fig.update_traces(marker=dict(size=3))\n",
        "    fig.show()\n",
        "    \n",
        "def plot_animation(df, label_column, name):\n",
        "    def update(num):\n",
        "        ax.view_init(200, num)\n",
        "\n",
        "    N=360\n",
        "    fig = plt.figure()\n",
        "    ax = fig.add_subplot(111, projection='3d')\n",
        "    ax.scatter(tsne_3d_df['x'], tsne_3d_df['y'], tsne_3d_df['z'], c=tsne_3d_df[label_column],\n",
        "               s=6, depthshade=True, cmap='Paired')\n",
        "    ax.set_zlim(-15, 25)\n",
        "    ax.set_xlim(-20, 20)\n",
        "    plt.tight_layout()\n",
        "    ani = animation.FuncAnimation(fig, update, N, blit=False, interval=50)\n",
        "    ani.save('{}.gif'.format(name), writer='imagemagick')\n",
        "    plt.show()"
      ],
      "execution_count": 63,
      "outputs": []
    },
    {
      "cell_type": "code",
      "metadata": {
        "id": "8aOp9wa3cQ4d",
        "outputId": "4c14b36a-a903-4ce3-bbfd-5c355df9cfa6",
        "colab": {
          "base_uri": "https://localhost:8080/",
          "height": 296
        }
      },
      "source": [
        "pca_df = prepare_pca(2, X, normalized_kmeans.labels_)\n",
        "sns.scatterplot(x=pca_df.x, y=pca_df.y, hue=pca_df.labels, \n",
        "                palette=\"Set2\")"
      ],
      "execution_count": 64,
      "outputs": [
        {
          "output_type": "execute_result",
          "data": {
            "text/plain": [
              "<matplotlib.axes._subplots.AxesSubplot at 0x7fc79e1576a0>"
            ]
          },
          "metadata": {
            "tags": []
          },
          "execution_count": 64
        },
        {
          "output_type": "display_data",
          "data": {
            "image/png": "[encoded data removed]",
            "text/plain": [
              "<Figure size 432x288 with 1 Axes>"
            ]
          },
          "metadata": {
            "tags": [],
            "needs_background": "light"
          }
        }
      ]
    },
    {
      "cell_type": "markdown",
      "metadata": {
        "id": "JVjEXb1ucX0h"
      },
      "source": [
        "## tSNE 3D"
      ]
    },
    {
      "cell_type": "code",
      "metadata": {
        "id": "Ns1tMRexfIo6"
      },
      "source": [
        "tsne_3d_df = prepare_tsne(3, X, kmeans.labels_)\n",
        "plot_animation(tsne_3d_df, 'kmeans', 'kmeans')\n"
      ],
      "execution_count": null,
      "outputs": []
    },
    {
      "cell_type": "code",
      "metadata": {
        "id": "-KSuwy0EfI1z"
      },
      "source": [
        "tsne_3d_df['normalized_kmeans'] = normalized_kmeans.labels_\n",
        "plot_animation(tsne_3d_df, 'normalized_kmeans', 'normalized_kmeans')\n"
      ],
      "execution_count": null,
      "outputs": []
    },
    {
      "cell_type": "code",
      "metadata": {
        "id": "KlVAqY_FcXES",
        "outputId": "15a46e12-61c5-4539-cbfa-b6f619a74475",
        "colab": {
          "base_uri": "https://localhost:8080/",
          "height": 414
        }
      },
      "source": [
        "tsne_3d_df['dbscan'] = dbscan.labels_\n",
        "plot_animation(tsne_3d_df, 'dbscan', 'dbscan')"
      ],
      "execution_count": 65,
      "outputs": [
        {
          "output_type": "error",
          "ename": "KeyboardInterrupt",
          "evalue": "ignored",
          "traceback": [
            "\u001b[0;31m---------------------------------------------------------------------------\u001b[0m",
            "\u001b[0;31mKeyboardInterrupt\u001b[0m                         Traceback (most recent call last)",
            "\u001b[0;32m<ipython-input-65-3e487d4b7563>\u001b[0m in \u001b[0;36m<module>\u001b[0;34m()\u001b[0m\n\u001b[0;32m----> 1\u001b[0;31m \u001b[0mtsne_3d_df\u001b[0m \u001b[0;34m=\u001b[0m \u001b[0mprepare_tsne\u001b[0m\u001b[0;34m(\u001b[0m\u001b[0;36m3\u001b[0m\u001b[0;34m,\u001b[0m \u001b[0mX\u001b[0m\u001b[0;34m,\u001b[0m \u001b[0mkmeans\u001b[0m\u001b[0;34m.\u001b[0m\u001b[0mlabels_\u001b[0m\u001b[0;34m)\u001b[0m\u001b[0;34m\u001b[0m\u001b[0;34m\u001b[0m\u001b[0m\n\u001b[0m\u001b[1;32m      2\u001b[0m \u001b[0mtsne_3d_df\u001b[0m\u001b[0;34m[\u001b[0m\u001b[0;34m'normalized_kmeans'\u001b[0m\u001b[0;34m]\u001b[0m \u001b[0;34m=\u001b[0m \u001b[0mnormalized_kmeans\u001b[0m\u001b[0;34m.\u001b[0m\u001b[0mlabels_\u001b[0m\u001b[0;34m\u001b[0m\u001b[0;34m\u001b[0m\u001b[0m\n\u001b[1;32m      3\u001b[0m \u001b[0mtsne_3d_df\u001b[0m\u001b[0;34m[\u001b[0m\u001b[0;34m'dbscan'\u001b[0m\u001b[0;34m]\u001b[0m \u001b[0;34m=\u001b[0m \u001b[0mdbscan\u001b[0m\u001b[0;34m.\u001b[0m\u001b[0mlabels_\u001b[0m\u001b[0;34m\u001b[0m\u001b[0;34m\u001b[0m\u001b[0m\n\u001b[1;32m      4\u001b[0m \u001b[0mplot_animation\u001b[0m\u001b[0;34m(\u001b[0m\u001b[0mtsne_3d_df\u001b[0m\u001b[0;34m,\u001b[0m \u001b[0;34m'kmeans'\u001b[0m\u001b[0;34m,\u001b[0m \u001b[0;34m'kmeans'\u001b[0m\u001b[0;34m)\u001b[0m\u001b[0;34m\u001b[0m\u001b[0;34m\u001b[0m\u001b[0m\n\u001b[1;32m      5\u001b[0m \u001b[0mplot_animation\u001b[0m\u001b[0;34m(\u001b[0m\u001b[0mtsne_3d_df\u001b[0m\u001b[0;34m,\u001b[0m \u001b[0;34m'normalized_kmeans'\u001b[0m\u001b[0;34m,\u001b[0m \u001b[0;34m'normalized_kmeans'\u001b[0m\u001b[0;34m)\u001b[0m\u001b[0;34m\u001b[0m\u001b[0;34m\u001b[0m\u001b[0m\n",
            "\u001b[0;32m<ipython-input-63-e52177d152f5>\u001b[0m in \u001b[0;36mprepare_tsne\u001b[0;34m(n_components, data, kmeans_labels)\u001b[0m\n\u001b[1;32m     84\u001b[0m \u001b[0;32mdef\u001b[0m \u001b[0mprepare_tsne\u001b[0m\u001b[0;34m(\u001b[0m\u001b[0mn_components\u001b[0m\u001b[0;34m,\u001b[0m \u001b[0mdata\u001b[0m\u001b[0;34m,\u001b[0m \u001b[0mkmeans_labels\u001b[0m\u001b[0;34m)\u001b[0m\u001b[0;34m:\u001b[0m\u001b[0;34m\u001b[0m\u001b[0;34m\u001b[0m\u001b[0m\n\u001b[1;32m     85\u001b[0m     \u001b[0mnames\u001b[0m \u001b[0;34m=\u001b[0m \u001b[0;34m[\u001b[0m\u001b[0;34m'x'\u001b[0m\u001b[0;34m,\u001b[0m \u001b[0;34m'y'\u001b[0m\u001b[0;34m,\u001b[0m \u001b[0;34m'z'\u001b[0m\u001b[0;34m]\u001b[0m\u001b[0;34m\u001b[0m\u001b[0;34m\u001b[0m\u001b[0m\n\u001b[0;32m---> 86\u001b[0;31m     \u001b[0mmatrix\u001b[0m \u001b[0;34m=\u001b[0m \u001b[0mTSNE\u001b[0m\u001b[0;34m(\u001b[0m\u001b[0mn_components\u001b[0m\u001b[0;34m=\u001b[0m\u001b[0mn_components\u001b[0m\u001b[0;34m)\u001b[0m\u001b[0;34m.\u001b[0m\u001b[0mfit_transform\u001b[0m\u001b[0;34m(\u001b[0m\u001b[0mdata\u001b[0m\u001b[0;34m)\u001b[0m\u001b[0;34m\u001b[0m\u001b[0;34m\u001b[0m\u001b[0m\n\u001b[0m\u001b[1;32m     87\u001b[0m     \u001b[0mdf_matrix\u001b[0m \u001b[0;34m=\u001b[0m \u001b[0mpd\u001b[0m\u001b[0;34m.\u001b[0m\u001b[0mDataFrame\u001b[0m\u001b[0;34m(\u001b[0m\u001b[0mmatrix\u001b[0m\u001b[0;34m)\u001b[0m\u001b[0;34m\u001b[0m\u001b[0;34m\u001b[0m\u001b[0m\n\u001b[1;32m     88\u001b[0m     \u001b[0mdf_matrix\u001b[0m\u001b[0;34m.\u001b[0m\u001b[0mrename\u001b[0m\u001b[0;34m(\u001b[0m\u001b[0;34m{\u001b[0m\u001b[0mi\u001b[0m\u001b[0;34m:\u001b[0m\u001b[0mnames\u001b[0m\u001b[0;34m[\u001b[0m\u001b[0mi\u001b[0m\u001b[0;34m]\u001b[0m \u001b[0;32mfor\u001b[0m \u001b[0mi\u001b[0m \u001b[0;32min\u001b[0m \u001b[0mrange\u001b[0m\u001b[0;34m(\u001b[0m\u001b[0mn_components\u001b[0m\u001b[0;34m)\u001b[0m\u001b[0;34m}\u001b[0m\u001b[0;34m,\u001b[0m \u001b[0maxis\u001b[0m\u001b[0;34m=\u001b[0m\u001b[0;36m1\u001b[0m\u001b[0;34m,\u001b[0m \u001b[0minplace\u001b[0m\u001b[0;34m=\u001b[0m\u001b[0;32mTrue\u001b[0m\u001b[0;34m)\u001b[0m\u001b[0;34m\u001b[0m\u001b[0;34m\u001b[0m\u001b[0m\n",
            "\u001b[0;32m/usr/local/lib/python3.6/dist-packages/sklearn/manifold/_t_sne.py\u001b[0m in \u001b[0;36mfit_transform\u001b[0;34m(self, X, y)\u001b[0m\n\u001b[1;32m    884\u001b[0m             \u001b[0mEmbedding\u001b[0m \u001b[0mof\u001b[0m \u001b[0mthe\u001b[0m \u001b[0mtraining\u001b[0m \u001b[0mdata\u001b[0m \u001b[0;32min\u001b[0m \u001b[0mlow\u001b[0m\u001b[0;34m-\u001b[0m\u001b[0mdimensional\u001b[0m \u001b[0mspace\u001b[0m\u001b[0;34m.\u001b[0m\u001b[0;34m\u001b[0m\u001b[0;34m\u001b[0m\u001b[0m\n\u001b[1;32m    885\u001b[0m         \"\"\"\n\u001b[0;32m--> 886\u001b[0;31m         \u001b[0membedding\u001b[0m \u001b[0;34m=\u001b[0m \u001b[0mself\u001b[0m\u001b[0;34m.\u001b[0m\u001b[0m_fit\u001b[0m\u001b[0;34m(\u001b[0m\u001b[0mX\u001b[0m\u001b[0;34m)\u001b[0m\u001b[0;34m\u001b[0m\u001b[0;34m\u001b[0m\u001b[0m\n\u001b[0m\u001b[1;32m    887\u001b[0m         \u001b[0mself\u001b[0m\u001b[0;34m.\u001b[0m\u001b[0membedding_\u001b[0m \u001b[0;34m=\u001b[0m \u001b[0membedding\u001b[0m\u001b[0;34m\u001b[0m\u001b[0;34m\u001b[0m\u001b[0m\n\u001b[1;32m    888\u001b[0m         \u001b[0;32mreturn\u001b[0m \u001b[0mself\u001b[0m\u001b[0;34m.\u001b[0m\u001b[0membedding_\u001b[0m\u001b[0;34m\u001b[0m\u001b[0;34m\u001b[0m\u001b[0m\n",
            "\u001b[0;32m/usr/local/lib/python3.6/dist-packages/sklearn/manifold/_t_sne.py\u001b[0m in \u001b[0;36m_fit\u001b[0;34m(self, X, skip_num_points)\u001b[0m\n\u001b[1;32m    796\u001b[0m                           \u001b[0mX_embedded\u001b[0m\u001b[0;34m=\u001b[0m\u001b[0mX_embedded\u001b[0m\u001b[0;34m,\u001b[0m\u001b[0;34m\u001b[0m\u001b[0;34m\u001b[0m\u001b[0m\n\u001b[1;32m    797\u001b[0m                           \u001b[0mneighbors\u001b[0m\u001b[0;34m=\u001b[0m\u001b[0mneighbors_nn\u001b[0m\u001b[0;34m,\u001b[0m\u001b[0;34m\u001b[0m\u001b[0;34m\u001b[0m\u001b[0m\n\u001b[0;32m--> 798\u001b[0;31m                           skip_num_points=skip_num_points)\n\u001b[0m\u001b[1;32m    799\u001b[0m \u001b[0;34m\u001b[0m\u001b[0m\n\u001b[1;32m    800\u001b[0m     def _tsne(self, P, degrees_of_freedom, n_samples, X_embedded,\n",
            "\u001b[0;32m/usr/local/lib/python3.6/dist-packages/sklearn/manifold/_t_sne.py\u001b[0m in \u001b[0;36m_tsne\u001b[0;34m(self, P, degrees_of_freedom, n_samples, X_embedded, neighbors, skip_num_points)\u001b[0m\n\u001b[1;32m    835\u001b[0m         \u001b[0mP\u001b[0m \u001b[0;34m*=\u001b[0m \u001b[0mself\u001b[0m\u001b[0;34m.\u001b[0m\u001b[0mearly_exaggeration\u001b[0m\u001b[0;34m\u001b[0m\u001b[0;34m\u001b[0m\u001b[0m\n\u001b[1;32m    836\u001b[0m         params, kl_divergence, it = _gradient_descent(obj_func, params,\n\u001b[0;32m--> 837\u001b[0;31m                                                       **opt_args)\n\u001b[0m\u001b[1;32m    838\u001b[0m         \u001b[0;32mif\u001b[0m \u001b[0mself\u001b[0m\u001b[0;34m.\u001b[0m\u001b[0mverbose\u001b[0m\u001b[0;34m:\u001b[0m\u001b[0;34m\u001b[0m\u001b[0;34m\u001b[0m\u001b[0m\n\u001b[1;32m    839\u001b[0m             print(\"[t-SNE] KL divergence after %d iterations with early \"\n",
            "\u001b[0;32m/usr/local/lib/python3.6/dist-packages/sklearn/manifold/_t_sne.py\u001b[0m in \u001b[0;36m_gradient_descent\u001b[0;34m(objective, p0, it, n_iter, n_iter_check, n_iter_without_progress, momentum, learning_rate, min_gain, min_grad_norm, verbose, args, kwargs)\u001b[0m\n\u001b[1;32m    356\u001b[0m         \u001b[0mkwargs\u001b[0m\u001b[0;34m[\u001b[0m\u001b[0;34m'compute_error'\u001b[0m\u001b[0;34m]\u001b[0m \u001b[0;34m=\u001b[0m \u001b[0mcheck_convergence\u001b[0m \u001b[0;32mor\u001b[0m \u001b[0mi\u001b[0m \u001b[0;34m==\u001b[0m \u001b[0mn_iter\u001b[0m \u001b[0;34m-\u001b[0m \u001b[0;36m1\u001b[0m\u001b[0;34m\u001b[0m\u001b[0;34m\u001b[0m\u001b[0m\n\u001b[1;32m    357\u001b[0m \u001b[0;34m\u001b[0m\u001b[0m\n\u001b[0;32m--> 358\u001b[0;31m         \u001b[0merror\u001b[0m\u001b[0;34m,\u001b[0m \u001b[0mgrad\u001b[0m \u001b[0;34m=\u001b[0m \u001b[0mobjective\u001b[0m\u001b[0;34m(\u001b[0m\u001b[0mp\u001b[0m\u001b[0;34m,\u001b[0m \u001b[0;34m*\u001b[0m\u001b[0margs\u001b[0m\u001b[0;34m,\u001b[0m \u001b[0;34m**\u001b[0m\u001b[0mkwargs\u001b[0m\u001b[0;34m)\u001b[0m\u001b[0;34m\u001b[0m\u001b[0;34m\u001b[0m\u001b[0m\n\u001b[0m\u001b[1;32m    359\u001b[0m         \u001b[0mgrad_norm\u001b[0m \u001b[0;34m=\u001b[0m \u001b[0mlinalg\u001b[0m\u001b[0;34m.\u001b[0m\u001b[0mnorm\u001b[0m\u001b[0;34m(\u001b[0m\u001b[0mgrad\u001b[0m\u001b[0;34m)\u001b[0m\u001b[0;34m\u001b[0m\u001b[0;34m\u001b[0m\u001b[0m\n\u001b[1;32m    360\u001b[0m \u001b[0;34m\u001b[0m\u001b[0m\n",
            "\u001b[0;32m/usr/local/lib/python3.6/dist-packages/sklearn/manifold/_t_sne.py\u001b[0m in \u001b[0;36m_kl_divergence_bh\u001b[0;34m(params, P, degrees_of_freedom, n_samples, n_components, angle, skip_num_points, verbose, compute_error, num_threads)\u001b[0m\n\u001b[1;32m    260\u001b[0m                                       \u001b[0mdof\u001b[0m\u001b[0;34m=\u001b[0m\u001b[0mdegrees_of_freedom\u001b[0m\u001b[0;34m,\u001b[0m\u001b[0;34m\u001b[0m\u001b[0;34m\u001b[0m\u001b[0m\n\u001b[1;32m    261\u001b[0m                                       \u001b[0mcompute_error\u001b[0m\u001b[0;34m=\u001b[0m\u001b[0mcompute_error\u001b[0m\u001b[0;34m,\u001b[0m\u001b[0;34m\u001b[0m\u001b[0;34m\u001b[0m\u001b[0m\n\u001b[0;32m--> 262\u001b[0;31m                                       num_threads=num_threads)\n\u001b[0m\u001b[1;32m    263\u001b[0m     \u001b[0mc\u001b[0m \u001b[0;34m=\u001b[0m \u001b[0;36m2.0\u001b[0m \u001b[0;34m*\u001b[0m \u001b[0;34m(\u001b[0m\u001b[0mdegrees_of_freedom\u001b[0m \u001b[0;34m+\u001b[0m \u001b[0;36m1.0\u001b[0m\u001b[0;34m)\u001b[0m \u001b[0;34m/\u001b[0m \u001b[0mdegrees_of_freedom\u001b[0m\u001b[0;34m\u001b[0m\u001b[0;34m\u001b[0m\u001b[0m\n\u001b[1;32m    264\u001b[0m     \u001b[0mgrad\u001b[0m \u001b[0;34m=\u001b[0m \u001b[0mgrad\u001b[0m\u001b[0;34m.\u001b[0m\u001b[0mravel\u001b[0m\u001b[0;34m(\u001b[0m\u001b[0;34m)\u001b[0m\u001b[0;34m\u001b[0m\u001b[0;34m\u001b[0m\u001b[0m\n",
            "\u001b[0;31mKeyboardInterrupt\u001b[0m: "
          ]
        }
      ]
    },
    {
      "cell_type": "code",
      "metadata": {
        "id": "bB05X9w6cWJ2"
      },
      "source": [
        ""
      ],
      "execution_count": null,
      "outputs": []
    },
    {
      "cell_type": "markdown",
      "metadata": {
        "id": "JmXaGVp8y8e_"
      },
      "source": [
        "# unused"
      ]
    },
    {
      "cell_type": "code",
      "metadata": {
        "id": "xnjlaU_nXOrO",
        "outputId": "44403ff9-f8f1-4b63-baa5-45ae7b32b2e2",
        "colab": {
          "base_uri": "https://localhost:8080/",
          "height": 35
        }
      },
      "source": [
        "min_samples = X.shape[1]+1 \n",
        "dbscan = DBSCAN(eps=3, min_samples=2).fit(X)\n",
        "labels = dbscan.labels_\n",
        "\n",
        "print('DBSCAN: {}'.format(silhouette_score(X, labels)))\n",
        "                                          # metric='cosine')))"
      ],
      "execution_count": 59,
      "outputs": [
        {
          "output_type": "stream",
          "text": [
            "DBSCAN: -0.9049315073795233\n"
          ],
          "name": "stdout"
        }
      ]
    },
    {
      "cell_type": "code",
      "metadata": {
        "id": "5gpib01SWG_d"
      },
      "source": [
        "clusters = {this_class:[training_inputs[i] for i,c in enumerate(training_outputs_labels) if c == this_class] for this_class in range(n_classes)}\n",
        "centroids = [np.mean(np.array(vectors), axis=0) for vectors in clusters.values()]"
      ],
      "execution_count": null,
      "outputs": []
    },
    {
      "cell_type": "code",
      "metadata": {
        "id": "YqCJ10MHYk8k"
      },
      "source": [
        "centroids[0]\n"
      ],
      "execution_count": null,
      "outputs": []
    },
    {
      "cell_type": "code",
      "metadata": {
        "id": "pdeoaocCTuVe"
      },
      "source": [
        "def plot_class_centroid(c):\n",
        "  class_vectors = list(clusters.values())[c]\n",
        "  class_label_vector = centroids[c]\n",
        "  \n",
        "  X = [x for x,_ in class_vectors + [class_label_vector]]\n",
        "  Y = [y for _,y in class_vectors + [class_label_vector]]\n",
        "  colours = ([c] * (len(X) - 1)) + [c+1]\n",
        "  sizes = ([10] * (len(X) - 1)) + [len(X)]\n",
        "\n",
        "  plt.scatter(X, Y, s = sizes, c= colours, alpha=0.5)"
      ],
      "execution_count": null,
      "outputs": []
    },
    {
      "cell_type": "code",
      "metadata": {
        "id": "vPdTOoKRYT-R"
      },
      "source": [
        "class_vectors = list(clusters.values())[0]\n",
        "class_label_vector = centroids[0]\n",
        "#print(class_label_vector)\n",
        "#print(class_vectors)\n",
        "#X = [x for x,_ in class_vectors + [class_label_vector]]\n"
      ],
      "execution_count": null,
      "outputs": []
    },
    {
      "cell_type": "code",
      "metadata": {
        "id": "PYK2CexaTIxN"
      },
      "source": [
        "from scipy.spatial.distance import cosine\n",
        "\n",
        "def predict_class(vector, class_vectors):\n",
        "  scores = [(cosine(vector, class_vector),c) for c,class_vector in enumerate(class_vectors)]\n",
        "  ranked = [c for _,c in sorted(scores)]\n",
        "  return ranked[0]"
      ],
      "execution_count": null,
      "outputs": []
    },
    {
      "cell_type": "code",
      "metadata": {
        "id": "bPKwc9uCZNhR"
      },
      "source": [
        "maryland_sd_inertia_6states[X_cols].values[0]"
      ],
      "execution_count": null,
      "outputs": []
    },
    {
      "cell_type": "code",
      "metadata": {
        "id": "u9uiikdjZFKP"
      },
      "source": [
        "predict_class(maryland_sd_inertia_6states[X_cols].values[299], centroids)"
      ],
      "execution_count": null,
      "outputs": []
    },
    {
      "cell_type": "markdown",
      "metadata": {
        "id": "xQ5c2Nf2Z_Cw"
      },
      "source": [
        "## Evaluate metrics"
      ]
    },
    {
      "cell_type": "code",
      "metadata": {
        "id": "ksc6tl06aAjY"
      },
      "source": [
        "from sklearn.metrics import classification_report, confusion_matrix\n",
        "import pandas as pd\n",
        "import seaborn as sns\n",
        "import matplotlib.pyplot as plt\n",
        "\n",
        "def evaluate(y,y_hat,labels):\n",
        "  print(classification_report(y,y_hat))\n",
        "  cm = confusion_matrix(y,y_hat)\n",
        "  cm = cm.astype('float') / cm.sum(axis=1)[:, np.newaxis]\n",
        "  cmat = pd.DataFrame(cm)\n",
        "  cmat.columns = labels\n",
        "  #cmat.set_index([pd.Index(labels, '')],inplace=True)\n",
        "  sns.heatmap(cmat,cmap=\"YlGnBu\", annot=True)\n",
        "  plt.title(\"Confusion Matrix\")"
      ],
      "execution_count": null,
      "outputs": []
    },
    {
      "cell_type": "code",
      "metadata": {
        "id": "67PPwHJeaHYR"
      },
      "source": [
        "training_outputs_labels = [c for row in maryland_sd_inertia_6states[Y_col].values for c in row]\n",
        "labels = set(training_outputs_labels)\n",
        "labels"
      ],
      "execution_count": null,
      "outputs": []
    },
    {
      "cell_type": "code",
      "metadata": {
        "id": "AW600SIfZI9s"
      },
      "source": [
        "centroid_predictions_labels = [predict_class(xy, centroids) for xy in maryland_sd_inertia_6states[X_cols].values]\n",
        "print(centroid_predictions_labels)\n",
        "print(training_outputs_labels)\n",
        "evaluate(training_outputs_labels, centroid_predictions_labels, labels)\n",
        "\n"
      ],
      "execution_count": null,
      "outputs": []
    },
    {
      "cell_type": "code",
      "metadata": {
        "id": "ci4HIStKbTKA"
      },
      "source": [
        "def one_hot(i, vec_len):\n",
        "  vector = [0]*vec_len\n",
        "  vector[i] = 1\n",
        "  return vector\n",
        "\n",
        "def format_prediction(predicted_outputs):\n",
        "  predicted_image_array = np.zeros_like(image_array)\n",
        "  i = 1\n",
        "  for row,pixels in enumerate(predicted_image_array):\n",
        "    for column in range(len(pixels)):\n",
        "      #print(i)\n",
        "      #if i >= y: print('breaking ',i); break\n",
        "\n",
        "      p = np.argmax(predicted_outputs[i-1])\n",
        "      predicted_image_array[row][column] = [WHITE,RED,BLUE][p]\n",
        "      i += 1\n",
        "    #break\n",
        "  return predicted_image_array"
      ],
      "execution_count": null,
      "outputs": []
    },
    {
      "cell_type": "code",
      "metadata": {
        "id": "qlgDuBjFcUB2"
      },
      "source": [
        "RED = [255,0,0]\n",
        "WHITE = [255,255,255]\n",
        "BLUE = [0,0,255]\n",
        "\n",
        "x,y = maryland_sd_inertia_6states.shape\n",
        "z = 3 # number of classes \n",
        "x,y,z"
      ],
      "execution_count": null,
      "outputs": []
    },
    {
      "cell_type": "code",
      "metadata": {
        "id": "eQUPXrOucPMr"
      },
      "source": [
        "image_array = np.zeros((x,y,z), np.uint8)\n"
      ],
      "execution_count": null,
      "outputs": []
    },
    {
      "cell_type": "code",
      "metadata": {
        "id": "w6zh-12WgQV5"
      },
      "source": [
        "plot_class_centroid(0)\n",
        "centroids[0]"
      ],
      "execution_count": null,
      "outputs": []
    },
    {
      "cell_type": "code",
      "metadata": {
        "id": "o_tQZD4vbLZL"
      },
      "source": [
        "\n",
        "centroid_predictions = [one_hot(p, z) for p in centroid_predictions_labels]\n",
        "#Image.fromarray(format_prediction(centroid_predictions)) \n",
        "centroid_predictions"
      ],
      "execution_count": null,
      "outputs": []
    }
  ]
}