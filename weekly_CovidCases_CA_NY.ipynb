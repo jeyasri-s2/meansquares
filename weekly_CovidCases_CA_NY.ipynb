{
  "nbformat": 4,
  "nbformat_minor": 0,
  "metadata": {
    "colab": {
      "name": "weekly_CovidCases_CA_NY.ipynb",
      "provenance": [],
      "collapsed_sections": [],
      "toc_visible": true,
      "machine_shape": "hm",
      "include_colab_link": true
    },
    "kernelspec": {
      "name": "python3",
      "display_name": "Python 3"
    },
    "accelerator": "GPU"
  },
  "cells": [
    {
      "cell_type": "markdown",
      "metadata": {
        "id": "view-in-github",
        "colab_type": "text"
      },
      "source": [
        "<a href=\"https://colab.research.google.com/github/aarsanjani/meansquares/blob/master/weekly_CovidCases_CA_NY.ipynb\" target=\"_parent\"><img src=\"https://colab.research.google.com/assets/colab-badge.svg\" alt=\"Open In Colab\"/></a>"
      ]
    },
    {
      "cell_type": "markdown",
      "metadata": {
        "id": "5KLYplb9rUcO",
        "colab_type": "text"
      },
      "source": [
        "# Topic: Investigate Covid-19 NY and CA data"
      ]
    },
    {
      "cell_type": "markdown",
      "metadata": {
        "id": "rQQ8KCcYrgh8",
        "colab_type": "text"
      },
      "source": [
        "This colab includes CA and NY covid case data from JHU and moving avg trend analysis"
      ]
    },
    {
      "cell_type": "code",
      "metadata": {
        "id": "mcdbrTS38vcE",
        "colab_type": "code",
        "colab": {
          "base_uri": "https://localhost:8080/",
          "height": 168
        },
        "outputId": "da5800e5-05e6-4d8c-82b5-76e2ec0788bf"
      },
      "source": [
        "!pip install wget"
      ],
      "execution_count": 1,
      "outputs": [
        {
          "output_type": "stream",
          "text": [
            "Collecting wget\n",
            "  Downloading https://files.pythonhosted.org/packages/47/6a/62e288da7bcda82b935ff0c6cfe542970f04e29c756b0e147251b2fb251f/wget-3.2.zip\n",
            "Building wheels for collected packages: wget\n",
            "  Building wheel for wget (setup.py) ... \u001b[?25l\u001b[?25hdone\n",
            "  Created wheel for wget: filename=wget-3.2-cp36-none-any.whl size=9682 sha256=5dbfa3cfcdf6e373f5b100807c6ff40804524dd68a8ea42b41495ff540e9b181\n",
            "  Stored in directory: /root/.cache/pip/wheels/40/15/30/7d8f7cea2902b4db79e3fea550d7d7b85ecb27ef992b618f3f\n",
            "Successfully built wget\n",
            "Installing collected packages: wget\n",
            "Successfully installed wget-3.2\n"
          ],
          "name": "stdout"
        }
      ]
    },
    {
      "cell_type": "markdown",
      "metadata": {
        "id": "GFEyT1gSN_CX",
        "colab_type": "text"
      },
      "source": [
        "## Import Libraries"
      ]
    },
    {
      "cell_type": "code",
      "metadata": {
        "id": "6QbOhpGKrQub",
        "colab_type": "code",
        "colab": {
          "base_uri": "https://localhost:8080/",
          "height": 70
        },
        "outputId": "d5d342dd-6aca-40b0-ad6b-c7795eeb96db"
      },
      "source": [
        "import pandas as pd\n",
        "import seaborn as sns\n",
        "import numpy as np\n",
        "import matplotlib.pyplot as plt\n",
        "import os\n",
        "import wget\n",
        "from pandas import Series, datetime\n",
        "from pandas.plotting import scatter_matrix, autocorrelation_plot\n",
        "from sklearn.preprocessing import StandardScaler, RobustScaler\n",
        "from sklearn.model_selection import train_test_split, KFold, cross_val_score, GridSearchCV, TimeSeriesSplit\n",
        "from sklearn import metrics\n",
        "from sklearn.metrics import classification_report, confusion_matrix, accuracy_score, mean_squared_error\n",
        "from sklearn.pipeline import Pipeline\n",
        "from sklearn.linear_model import LogisticRegression\n",
        "from sklearn.tree import DecisionTreeClassifier\n",
        "from sklearn.neighbors import KNeighborsClassifier\n",
        "from sklearn.discriminant_analysis import LinearDiscriminantAnalysis\n",
        "from sklearn.naive_bayes import GaussianNB\n",
        "from sklearn.cluster import KMeans\n",
        "from sklearn.svm import SVC\n",
        "from sklearn.ensemble import AdaBoostClassifier, GradientBoostingClassifier, RandomForestClassifier, ExtraTreesClassifier\n",
        "from sklearn.metrics import roc_curve, auc\n",
        "import random\n",
        "from statsmodels.graphics.tsaplots import plot_acf, plot_pacf\n",
        "from statsmodels.tsa.arima_model import ARIMA\n",
        "from xgboost import XGBClassifier\n",
        "from sklearn.mixture import GaussianMixture"
      ],
      "execution_count": 2,
      "outputs": [
        {
          "output_type": "stream",
          "text": [
            "/usr/local/lib/python3.6/dist-packages/statsmodels/tools/_testing.py:19: FutureWarning: pandas.util.testing is deprecated. Use the functions in the public API at pandas.testing instead.\n",
            "  import pandas.util.testing as tm\n"
          ],
          "name": "stderr"
        }
      ]
    },
    {
      "cell_type": "markdown",
      "metadata": {
        "id": "XG7L7Wu9ssnZ",
        "colab_type": "text"
      },
      "source": [
        "## Mount Google drive\n"
      ]
    },
    {
      "cell_type": "code",
      "metadata": {
        "id": "SXC6gd0isu7o",
        "colab_type": "code",
        "colab": {}
      },
      "source": [
        "os.environ[\"TF_CPP_MIN_LOG_LEVEL\"]=\"2\"\n",
        "import warnings; warnings.simplefilter('ignore')"
      ],
      "execution_count": 3,
      "outputs": []
    },
    {
      "cell_type": "code",
      "metadata": {
        "id": "kkIdtS1JsvlO",
        "colab_type": "code",
        "colab": {}
      },
      "source": [
        "from google.colab import drive\n",
        "# drive.mount('/content/drive')"
      ],
      "execution_count": 4,
      "outputs": []
    },
    {
      "cell_type": "code",
      "metadata": {
        "id": "F-i78za67STu",
        "colab_type": "code",
        "colab": {}
      },
      "source": [
        "location = \"drive/Shared drives/the-mean-sqaures/the-mean-squares/Colab_Dataset/Dataset/\""
      ],
      "execution_count": 34,
      "outputs": []
    },
    {
      "cell_type": "code",
      "metadata": {
        "id": "eSHBvEKMsMLZ",
        "colab_type": "code",
        "colab": {
          "base_uri": "https://localhost:8080/",
          "height": 34
        },
        "outputId": "fa8056c6-d1c7-44e5-d4bb-b36397961a15"
      },
      "source": [
        "!ls /content/drive/My\\ Drive/MasterProject-Personal/data"
      ],
      "execution_count": 5,
      "outputs": [
        {
          "output_type": "stream",
          "text": [
            "ls: cannot access '/content/drive/My Drive/MasterProject-Personal/data': No such file or directory\n"
          ],
          "name": "stdout"
        }
      ]
    },
    {
      "cell_type": "markdown",
      "metadata": {
        "id": "jkka58J3qP-B",
        "colab_type": "text"
      },
      "source": [
        "# Data Load"
      ]
    },
    {
      "cell_type": "markdown",
      "metadata": {
        "id": "VsVZXbVoJ5-N",
        "colab_type": "text"
      },
      "source": [
        "## 1 Load County Population\n"
      ]
    },
    {
      "cell_type": "code",
      "metadata": {
        "id": "WZno5k12J9BI",
        "colab_type": "code",
        "colab": {
          "base_uri": "https://localhost:8080/",
          "height": 34
        },
        "outputId": "7cf41973-82e0-4025-838a-47ee1a56dd39"
      },
      "source": [
        "county_population_US = pd.read_csv('https://usafactsstatic.blob.core.windows.net/public/data/covid-19/covid_county_population_usafacts.csv',low_memory=False)\n",
        "print(county_population_US.shape)"
      ],
      "execution_count": 6,
      "outputs": [
        {
          "output_type": "stream",
          "text": [
            "(3195, 4)\n"
          ],
          "name": "stdout"
        }
      ]
    },
    {
      "cell_type": "code",
      "metadata": {
        "id": "IEHB_7mnKAuI",
        "colab_type": "code",
        "colab": {
          "base_uri": "https://localhost:8080/",
          "height": 34
        },
        "outputId": "e036d5ea-86d3-4187-f4f2-cfced1562279"
      },
      "source": [
        "wget.download('https://usafactsstatic.blob.core.windows.net/public/data/covid-19/covid_county_population_usafacts.csv')\n",
        "county_population_US = pd.read_csv('covid_county_population_usafacts.csv',low_memory=False)\n",
        "print(county_population_US.shape)\n",
        "\n",
        "\n"
      ],
      "execution_count": 7,
      "outputs": [
        {
          "output_type": "stream",
          "text": [
            "(3195, 4)\n"
          ],
          "name": "stdout"
        }
      ]
    },
    {
      "cell_type": "code",
      "metadata": {
        "id": "9aVG7gFdKQQm",
        "colab_type": "code",
        "colab": {
          "base_uri": "https://localhost:8080/",
          "height": 106
        },
        "outputId": "0a1acbc7-8d4e-4702-bb62-e0552138340b"
      },
      "source": [
        "county_population_US.head(2)"
      ],
      "execution_count": 8,
      "outputs": [
        {
          "output_type": "execute_result",
          "data": {
            "text/html": [
              "<div>\n",
              "<style scoped>\n",
              "    .dataframe tbody tr th:only-of-type {\n",
              "        vertical-align: middle;\n",
              "    }\n",
              "\n",
              "    .dataframe tbody tr th {\n",
              "        vertical-align: top;\n",
              "    }\n",
              "\n",
              "    .dataframe thead th {\n",
              "        text-align: right;\n",
              "    }\n",
              "</style>\n",
              "<table border=\"1\" class=\"dataframe\">\n",
              "  <thead>\n",
              "    <tr style=\"text-align: right;\">\n",
              "      <th></th>\n",
              "      <th>countyFIPS</th>\n",
              "      <th>County Name</th>\n",
              "      <th>State</th>\n",
              "      <th>population</th>\n",
              "    </tr>\n",
              "  </thead>\n",
              "  <tbody>\n",
              "    <tr>\n",
              "      <th>0</th>\n",
              "      <td>0</td>\n",
              "      <td>Statewide Unallocated</td>\n",
              "      <td>AL</td>\n",
              "      <td>0</td>\n",
              "    </tr>\n",
              "    <tr>\n",
              "      <th>1</th>\n",
              "      <td>1001</td>\n",
              "      <td>Autauga County</td>\n",
              "      <td>AL</td>\n",
              "      <td>55869</td>\n",
              "    </tr>\n",
              "  </tbody>\n",
              "</table>\n",
              "</div>"
            ],
            "text/plain": [
              "   countyFIPS            County Name State  population\n",
              "0           0  Statewide Unallocated    AL           0\n",
              "1        1001         Autauga County    AL       55869"
            ]
          },
          "metadata": {
            "tags": []
          },
          "execution_count": 8
        }
      ]
    },
    {
      "cell_type": "markdown",
      "metadata": {
        "id": "-Ued4-m3waSu",
        "colab_type": "text"
      },
      "source": [
        "## 2 Load Covid-19 case details (until July 12)"
      ]
    },
    {
      "cell_type": "code",
      "metadata": {
        "id": "OBaFkfiewtBS",
        "colab_type": "code",
        "colab": {
          "base_uri": "https://localhost:8080/",
          "height": 34
        },
        "outputId": "b1fbe4c0-0c33-4b44-f1f1-16928edbc335"
      },
      "source": [
        "!ls '/content/drive/My Drive/MasterProject-Personal/data/'"
      ],
      "execution_count": 9,
      "outputs": [
        {
          "output_type": "stream",
          "text": [
            "ls: cannot access '/content/drive/My Drive/MasterProject-Personal/data/': No such file or directory\n"
          ],
          "name": "stdout"
        }
      ]
    },
    {
      "cell_type": "markdown",
      "metadata": {
        "id": "t1RSRy861K-h",
        "colab_type": "text"
      },
      "source": [
        "### Note about data:\n",
        "John Hopkins university updates data every day hence we are pulling from repository directly\n",
        "\n",
        "**US Confirmed url** :https://raw.githubusercontent.com/CSSEGISandData/COVID-19/master/csse_covid_19_data/csse_covid_19_time_series/time_series_covid19_confirmed_US.csv\n",
        "\n",
        "**US deaths url**: https://raw.githubusercontent.com/CSSEGISandData/COVID-19/master/csse_covid_19_data/csse_covid_19_time_series/time_series_covid19_deaths_US.csv"
      ]
    },
    {
      "cell_type": "code",
      "metadata": {
        "id": "_MHkCNZm2ZaY",
        "colab_type": "code",
        "colab": {
          "base_uri": "https://localhost:8080/",
          "height": 34
        },
        "outputId": "f9eee4df-16ff-410a-8639-5f94e6905a34"
      },
      "source": [
        "urls = ['https://raw.githubusercontent.com/CSSEGISandData/COVID-19/master/csse_covid_19_data/csse_covid_19_time_series/time_series_covid19_confirmed_US.csv',\n",
        "        'https://raw.githubusercontent.com/CSSEGISandData/COVID-19/master/csse_covid_19_data/csse_covid_19_time_series/time_series_covid19_deaths_US.csv']\n",
        "\n",
        "[wget.download(url) for url in urls]        "
      ],
      "execution_count": 10,
      "outputs": [
        {
          "output_type": "execute_result",
          "data": {
            "text/plain": [
              "['time_series_covid19_confirmed_US.csv', 'time_series_covid19_deaths_US.csv']"
            ]
          },
          "metadata": {
            "tags": []
          },
          "execution_count": 10
        }
      ]
    },
    {
      "cell_type": "code",
      "metadata": {
        "id": "A4wqPxvOwh1i",
        "colab_type": "code",
        "colab": {
          "base_uri": "https://localhost:8080/",
          "height": 306
        },
        "outputId": "92bce103-a929-4c4e-874b-ac3a684125c8"
      },
      "source": [
        "confirmed_US = pd.read_csv('time_series_covid19_confirmed_US.csv',low_memory=False)\n",
        "death_US = pd.read_csv('time_series_covid19_deaths_US.csv',low_memory=False)\n",
        "print(confirmed_US.shape)\n",
        "print(death_US.shape)\n",
        "print(confirmed_US.head(2))\n",
        "death_US.head(2)"
      ],
      "execution_count": 75,
      "outputs": [
        {
          "output_type": "stream",
          "text": [
            "(3340, 216)\n",
            "(3340, 217)\n",
            "        UID iso2 iso3  code3  ...  8/10/20 8/11/20 8/12/20 8/13/20\n",
            "0  84001001   US  USA    840  ...     1174    1162    1188    1196\n",
            "1  84001003   US  USA    840  ...     3651    3670    3710    3744\n",
            "\n",
            "[2 rows x 216 columns]\n"
          ],
          "name": "stdout"
        },
        {
          "output_type": "execute_result",
          "data": {
            "text/html": [
              "<div>\n",
              "<style scoped>\n",
              "    .dataframe tbody tr th:only-of-type {\n",
              "        vertical-align: middle;\n",
              "    }\n",
              "\n",
              "    .dataframe tbody tr th {\n",
              "        vertical-align: top;\n",
              "    }\n",
              "\n",
              "    .dataframe thead th {\n",
              "        text-align: right;\n",
              "    }\n",
              "</style>\n",
              "<table border=\"1\" class=\"dataframe\">\n",
              "  <thead>\n",
              "    <tr style=\"text-align: right;\">\n",
              "      <th></th>\n",
              "      <th>UID</th>\n",
              "      <th>iso2</th>\n",
              "      <th>iso3</th>\n",
              "      <th>code3</th>\n",
              "      <th>FIPS</th>\n",
              "      <th>Admin2</th>\n",
              "      <th>Province_State</th>\n",
              "      <th>Country_Region</th>\n",
              "      <th>Lat</th>\n",
              "      <th>Long_</th>\n",
              "      <th>Combined_Key</th>\n",
              "      <th>Population</th>\n",
              "      <th>1/22/20</th>\n",
              "      <th>1/23/20</th>\n",
              "      <th>1/24/20</th>\n",
              "      <th>1/25/20</th>\n",
              "      <th>1/26/20</th>\n",
              "      <th>1/27/20</th>\n",
              "      <th>1/28/20</th>\n",
              "      <th>1/29/20</th>\n",
              "      <th>1/30/20</th>\n",
              "      <th>1/31/20</th>\n",
              "      <th>2/1/20</th>\n",
              "      <th>2/2/20</th>\n",
              "      <th>2/3/20</th>\n",
              "      <th>2/4/20</th>\n",
              "      <th>2/5/20</th>\n",
              "      <th>2/6/20</th>\n",
              "      <th>2/7/20</th>\n",
              "      <th>2/8/20</th>\n",
              "      <th>2/9/20</th>\n",
              "      <th>2/10/20</th>\n",
              "      <th>2/11/20</th>\n",
              "      <th>2/12/20</th>\n",
              "      <th>2/13/20</th>\n",
              "      <th>2/14/20</th>\n",
              "      <th>2/15/20</th>\n",
              "      <th>2/16/20</th>\n",
              "      <th>2/17/20</th>\n",
              "      <th>2/18/20</th>\n",
              "      <th>...</th>\n",
              "      <th>7/5/20</th>\n",
              "      <th>7/6/20</th>\n",
              "      <th>7/7/20</th>\n",
              "      <th>7/8/20</th>\n",
              "      <th>7/9/20</th>\n",
              "      <th>7/10/20</th>\n",
              "      <th>7/11/20</th>\n",
              "      <th>7/12/20</th>\n",
              "      <th>7/13/20</th>\n",
              "      <th>7/14/20</th>\n",
              "      <th>7/15/20</th>\n",
              "      <th>7/16/20</th>\n",
              "      <th>7/17/20</th>\n",
              "      <th>7/18/20</th>\n",
              "      <th>7/19/20</th>\n",
              "      <th>7/20/20</th>\n",
              "      <th>7/21/20</th>\n",
              "      <th>7/22/20</th>\n",
              "      <th>7/23/20</th>\n",
              "      <th>7/24/20</th>\n",
              "      <th>7/25/20</th>\n",
              "      <th>7/26/20</th>\n",
              "      <th>7/27/20</th>\n",
              "      <th>7/28/20</th>\n",
              "      <th>7/29/20</th>\n",
              "      <th>7/30/20</th>\n",
              "      <th>7/31/20</th>\n",
              "      <th>8/1/20</th>\n",
              "      <th>8/2/20</th>\n",
              "      <th>8/3/20</th>\n",
              "      <th>8/4/20</th>\n",
              "      <th>8/5/20</th>\n",
              "      <th>8/6/20</th>\n",
              "      <th>8/7/20</th>\n",
              "      <th>8/8/20</th>\n",
              "      <th>8/9/20</th>\n",
              "      <th>8/10/20</th>\n",
              "      <th>8/11/20</th>\n",
              "      <th>8/12/20</th>\n",
              "      <th>8/13/20</th>\n",
              "    </tr>\n",
              "  </thead>\n",
              "  <tbody>\n",
              "    <tr>\n",
              "      <th>0</th>\n",
              "      <td>84001001</td>\n",
              "      <td>US</td>\n",
              "      <td>USA</td>\n",
              "      <td>840</td>\n",
              "      <td>1001.0</td>\n",
              "      <td>Autauga</td>\n",
              "      <td>Alabama</td>\n",
              "      <td>US</td>\n",
              "      <td>32.539527</td>\n",
              "      <td>-86.644082</td>\n",
              "      <td>Autauga, Alabama, US</td>\n",
              "      <td>55869</td>\n",
              "      <td>0</td>\n",
              "      <td>0</td>\n",
              "      <td>0</td>\n",
              "      <td>0</td>\n",
              "      <td>0</td>\n",
              "      <td>0</td>\n",
              "      <td>0</td>\n",
              "      <td>0</td>\n",
              "      <td>0</td>\n",
              "      <td>0</td>\n",
              "      <td>0</td>\n",
              "      <td>0</td>\n",
              "      <td>0</td>\n",
              "      <td>0</td>\n",
              "      <td>0</td>\n",
              "      <td>0</td>\n",
              "      <td>0</td>\n",
              "      <td>0</td>\n",
              "      <td>0</td>\n",
              "      <td>0</td>\n",
              "      <td>0</td>\n",
              "      <td>0</td>\n",
              "      <td>0</td>\n",
              "      <td>0</td>\n",
              "      <td>0</td>\n",
              "      <td>0</td>\n",
              "      <td>0</td>\n",
              "      <td>0</td>\n",
              "      <td>...</td>\n",
              "      <td>12</td>\n",
              "      <td>12</td>\n",
              "      <td>12</td>\n",
              "      <td>12</td>\n",
              "      <td>13</td>\n",
              "      <td>14</td>\n",
              "      <td>14</td>\n",
              "      <td>15</td>\n",
              "      <td>15</td>\n",
              "      <td>17</td>\n",
              "      <td>18</td>\n",
              "      <td>19</td>\n",
              "      <td>20</td>\n",
              "      <td>20</td>\n",
              "      <td>20</td>\n",
              "      <td>20</td>\n",
              "      <td>20</td>\n",
              "      <td>20</td>\n",
              "      <td>20</td>\n",
              "      <td>20</td>\n",
              "      <td>20</td>\n",
              "      <td>20</td>\n",
              "      <td>20</td>\n",
              "      <td>20</td>\n",
              "      <td>20</td>\n",
              "      <td>20</td>\n",
              "      <td>20</td>\n",
              "      <td>20</td>\n",
              "      <td>20</td>\n",
              "      <td>20</td>\n",
              "      <td>20</td>\n",
              "      <td>21</td>\n",
              "      <td>21</td>\n",
              "      <td>21</td>\n",
              "      <td>21</td>\n",
              "      <td>21</td>\n",
              "      <td>21</td>\n",
              "      <td>22</td>\n",
              "      <td>22</td>\n",
              "      <td>22</td>\n",
              "    </tr>\n",
              "    <tr>\n",
              "      <th>1</th>\n",
              "      <td>84001003</td>\n",
              "      <td>US</td>\n",
              "      <td>USA</td>\n",
              "      <td>840</td>\n",
              "      <td>1003.0</td>\n",
              "      <td>Baldwin</td>\n",
              "      <td>Alabama</td>\n",
              "      <td>US</td>\n",
              "      <td>30.727750</td>\n",
              "      <td>-87.722071</td>\n",
              "      <td>Baldwin, Alabama, US</td>\n",
              "      <td>223234</td>\n",
              "      <td>0</td>\n",
              "      <td>0</td>\n",
              "      <td>0</td>\n",
              "      <td>0</td>\n",
              "      <td>0</td>\n",
              "      <td>0</td>\n",
              "      <td>0</td>\n",
              "      <td>0</td>\n",
              "      <td>0</td>\n",
              "      <td>0</td>\n",
              "      <td>0</td>\n",
              "      <td>0</td>\n",
              "      <td>0</td>\n",
              "      <td>0</td>\n",
              "      <td>0</td>\n",
              "      <td>0</td>\n",
              "      <td>0</td>\n",
              "      <td>0</td>\n",
              "      <td>0</td>\n",
              "      <td>0</td>\n",
              "      <td>0</td>\n",
              "      <td>0</td>\n",
              "      <td>0</td>\n",
              "      <td>0</td>\n",
              "      <td>0</td>\n",
              "      <td>0</td>\n",
              "      <td>0</td>\n",
              "      <td>0</td>\n",
              "      <td>...</td>\n",
              "      <td>9</td>\n",
              "      <td>9</td>\n",
              "      <td>9</td>\n",
              "      <td>9</td>\n",
              "      <td>10</td>\n",
              "      <td>11</td>\n",
              "      <td>11</td>\n",
              "      <td>11</td>\n",
              "      <td>11</td>\n",
              "      <td>11</td>\n",
              "      <td>12</td>\n",
              "      <td>13</td>\n",
              "      <td>13</td>\n",
              "      <td>14</td>\n",
              "      <td>14</td>\n",
              "      <td>14</td>\n",
              "      <td>15</td>\n",
              "      <td>15</td>\n",
              "      <td>16</td>\n",
              "      <td>17</td>\n",
              "      <td>17</td>\n",
              "      <td>17</td>\n",
              "      <td>17</td>\n",
              "      <td>17</td>\n",
              "      <td>20</td>\n",
              "      <td>20</td>\n",
              "      <td>21</td>\n",
              "      <td>21</td>\n",
              "      <td>22</td>\n",
              "      <td>23</td>\n",
              "      <td>23</td>\n",
              "      <td>23</td>\n",
              "      <td>23</td>\n",
              "      <td>23</td>\n",
              "      <td>24</td>\n",
              "      <td>25</td>\n",
              "      <td>25</td>\n",
              "      <td>29</td>\n",
              "      <td>29</td>\n",
              "      <td>29</td>\n",
              "    </tr>\n",
              "  </tbody>\n",
              "</table>\n",
              "<p>2 rows × 217 columns</p>\n",
              "</div>"
            ],
            "text/plain": [
              "        UID iso2 iso3  code3  ...  8/10/20 8/11/20 8/12/20 8/13/20\n",
              "0  84001001   US  USA    840  ...       21      22      22      22\n",
              "1  84001003   US  USA    840  ...       25      29      29      29\n",
              "\n",
              "[2 rows x 217 columns]"
            ]
          },
          "metadata": {
            "tags": []
          },
          "execution_count": 75
        }
      ]
    },
    {
      "cell_type": "code",
      "metadata": {
        "id": "-Xmnw9e2xJud",
        "colab_type": "code",
        "colab": {
          "base_uri": "https://localhost:8080/",
          "height": 252
        },
        "outputId": "66784a36-412d-47f9-a3ee-8aaacfdb9104"
      },
      "source": [
        "#print(len(mask_data['state_name'].unique()))\n",
        "print(len(confirmed_US['Province_State'].unique()))\n",
        "confirmed_US['Province_State'].unique()"
      ],
      "execution_count": 76,
      "outputs": [
        {
          "output_type": "stream",
          "text": [
            "58\n"
          ],
          "name": "stdout"
        },
        {
          "output_type": "execute_result",
          "data": {
            "text/plain": [
              "array(['Alabama', 'Alaska', 'American Samoa', 'Arizona', 'Arkansas',\n",
              "       'California', 'Colorado', 'Connecticut', 'Delaware',\n",
              "       'Diamond Princess', 'District of Columbia', 'Florida', 'Georgia',\n",
              "       'Grand Princess', 'Guam', 'Hawaii', 'Idaho', 'Illinois', 'Indiana',\n",
              "       'Iowa', 'Kansas', 'Kentucky', 'Louisiana', 'Maine', 'Maryland',\n",
              "       'Massachusetts', 'Michigan', 'Minnesota', 'Mississippi',\n",
              "       'Missouri', 'Montana', 'Nebraska', 'Nevada', 'New Hampshire',\n",
              "       'New Jersey', 'New Mexico', 'New York', 'North Carolina',\n",
              "       'North Dakota', 'Northern Mariana Islands', 'Ohio', 'Oklahoma',\n",
              "       'Oregon', 'Pennsylvania', 'Puerto Rico', 'Rhode Island',\n",
              "       'South Carolina', 'South Dakota', 'Tennessee', 'Texas', 'Utah',\n",
              "       'Vermont', 'Virgin Islands', 'Virginia', 'Washington',\n",
              "       'West Virginia', 'Wisconsin', 'Wyoming'], dtype=object)"
            ]
          },
          "metadata": {
            "tags": []
          },
          "execution_count": 76
        }
      ]
    },
    {
      "cell_type": "markdown",
      "metadata": {
        "id": "RN2E93cS32Re",
        "colab_type": "text"
      },
      "source": [
        "## Data cleaning"
      ]
    },
    {
      "cell_type": "code",
      "metadata": {
        "id": "MQ52sy6o4DQd",
        "colab_type": "code",
        "colab": {
          "base_uri": "https://localhost:8080/",
          "height": 67
        },
        "outputId": "1f2764e1-7da4-40aa-c6a6-d4e215f50f32"
      },
      "source": [
        "confirmed_US.columns[:11]\n",
        "\n",
        "# Note: the first 11 columns contains UID, ios2,ios3, code ,FIPS, 'Admin2', 'Province_State',\n",
        "      # 'Country_Region', 'Lat', 'Long_',Combined_Key', 'Population',\n"
      ],
      "execution_count": 77,
      "outputs": [
        {
          "output_type": "execute_result",
          "data": {
            "text/plain": [
              "Index(['UID', 'iso2', 'iso3', 'code3', 'FIPS', 'Admin2', 'Province_State',\n",
              "       'Country_Region', 'Lat', 'Long_', 'Combined_Key'],\n",
              "      dtype='object')"
            ]
          },
          "metadata": {
            "tags": []
          },
          "execution_count": 77
        }
      ]
    },
    {
      "cell_type": "code",
      "metadata": {
        "id": "59E3UfdPwWGp",
        "colab_type": "code",
        "colab": {
          "base_uri": "https://localhost:8080/",
          "height": 118
        },
        "outputId": "c4d63360-53c1-4b61-867f-4f932dabca32"
      },
      "source": [
        "# date begins from 11th column\n",
        "confirmed_dates = confirmed_US.columns[11:]\n",
        "confirmed_dates"
      ],
      "execution_count": 78,
      "outputs": [
        {
          "output_type": "execute_result",
          "data": {
            "text/plain": [
              "Index(['1/22/20', '1/23/20', '1/24/20', '1/25/20', '1/26/20', '1/27/20',\n",
              "       '1/28/20', '1/29/20', '1/30/20', '1/31/20',\n",
              "       ...\n",
              "       '8/4/20', '8/5/20', '8/6/20', '8/7/20', '8/8/20', '8/9/20', '8/10/20',\n",
              "       '8/11/20', '8/12/20', '8/13/20'],\n",
              "      dtype='object', length=205)"
            ]
          },
          "metadata": {
            "tags": []
          },
          "execution_count": 78
        }
      ]
    },
    {
      "cell_type": "code",
      "metadata": {
        "id": "LCuanaUk5fje",
        "colab_type": "code",
        "colab": {
          "base_uri": "https://localhost:8080/",
          "height": 67
        },
        "outputId": "1ee2c71c-76ea-4537-f6a5-8f0b2c4f523e"
      },
      "source": [
        "death_US.columns[:12]"
      ],
      "execution_count": 79,
      "outputs": [
        {
          "output_type": "execute_result",
          "data": {
            "text/plain": [
              "Index(['UID', 'iso2', 'iso3', 'code3', 'FIPS', 'Admin2', 'Province_State',\n",
              "       'Country_Region', 'Lat', 'Long_', 'Combined_Key', 'Population'],\n",
              "      dtype='object')"
            ]
          },
          "metadata": {
            "tags": []
          },
          "execution_count": 79
        }
      ]
    },
    {
      "cell_type": "code",
      "metadata": {
        "id": "8M_vOe244lax",
        "colab_type": "code",
        "colab": {
          "base_uri": "https://localhost:8080/",
          "height": 118
        },
        "outputId": "f7e4e5f0-8a8d-4f00-a2b3-ffa7d7df7945"
      },
      "source": [
        "death_US.columns[10:]"
      ],
      "execution_count": 80,
      "outputs": [
        {
          "output_type": "execute_result",
          "data": {
            "text/plain": [
              "Index(['Combined_Key', 'Population', '1/22/20', '1/23/20', '1/24/20',\n",
              "       '1/25/20', '1/26/20', '1/27/20', '1/28/20', '1/29/20',\n",
              "       ...\n",
              "       '8/4/20', '8/5/20', '8/6/20', '8/7/20', '8/8/20', '8/9/20', '8/10/20',\n",
              "       '8/11/20', '8/12/20', '8/13/20'],\n",
              "      dtype='object', length=207)"
            ]
          },
          "metadata": {
            "tags": []
          },
          "execution_count": 80
        }
      ]
    },
    {
      "cell_type": "code",
      "metadata": {
        "id": "wyJe4mng05ee",
        "colab_type": "code",
        "colab": {
          "base_uri": "https://localhost:8080/",
          "height": 118
        },
        "outputId": "34395875-e0b7-48b0-d972-a189d622b284"
      },
      "source": [
        "death_dates = death_US.columns[12:]\n",
        "death_dates"
      ],
      "execution_count": 81,
      "outputs": [
        {
          "output_type": "execute_result",
          "data": {
            "text/plain": [
              "Index(['1/22/20', '1/23/20', '1/24/20', '1/25/20', '1/26/20', '1/27/20',\n",
              "       '1/28/20', '1/29/20', '1/30/20', '1/31/20',\n",
              "       ...\n",
              "       '8/4/20', '8/5/20', '8/6/20', '8/7/20', '8/8/20', '8/9/20', '8/10/20',\n",
              "       '8/11/20', '8/12/20', '8/13/20'],\n",
              "      dtype='object', length=205)"
            ]
          },
          "metadata": {
            "tags": []
          },
          "execution_count": 81
        }
      ]
    },
    {
      "cell_type": "markdown",
      "metadata": {
        "id": "GOpVOfZk44_O",
        "colab_type": "text"
      },
      "source": [
        "#### Note: both the date values has the same beginning date 1/22/2020. Hence we can use either of the values"
      ]
    },
    {
      "cell_type": "code",
      "metadata": {
        "id": "SWrPIbZA4wA_",
        "colab_type": "code",
        "colab": {}
      },
      "source": [
        "confirmed_df_long = confirmed_US.melt(\n",
        "    id_vars=['UID', 'iso2', 'iso3', 'code3', 'FIPS', 'Admin2', 'Province_State',\n",
        "       'Country_Region', 'Lat', 'Long_', 'Combined_Key'],\n",
        "       value_vars=confirmed_dates,\n",
        "       var_name = 'Date',\n",
        "       value_name = 'Confirmed'\n",
        ")\n",
        "\n",
        "death_df_long = death_US.melt(\n",
        "    id_vars=['UID', 'iso2', 'iso3', 'code3', 'FIPS', 'Admin2', 'Province_State',\n",
        "       'Country_Region', 'Lat', 'Long_', 'Combined_Key', 'Population'],\n",
        "       value_vars=death_dates,\n",
        "       var_name = 'Date',\n",
        "       value_name = 'Deaths'\n",
        ")"
      ],
      "execution_count": 82,
      "outputs": []
    },
    {
      "cell_type": "code",
      "metadata": {
        "id": "Zgyg7VRm4v-z",
        "colab_type": "code",
        "colab": {
          "base_uri": "https://localhost:8080/",
          "height": 511
        },
        "outputId": "4a0e0914-3a8f-43a7-95a4-3d13becee28d"
      },
      "source": [
        "confirmed_df_long.tail(10)"
      ],
      "execution_count": 83,
      "outputs": [
        {
          "output_type": "execute_result",
          "data": {
            "text/html": [
              "<div>\n",
              "<style scoped>\n",
              "    .dataframe tbody tr th:only-of-type {\n",
              "        vertical-align: middle;\n",
              "    }\n",
              "\n",
              "    .dataframe tbody tr th {\n",
              "        vertical-align: top;\n",
              "    }\n",
              "\n",
              "    .dataframe thead th {\n",
              "        text-align: right;\n",
              "    }\n",
              "</style>\n",
              "<table border=\"1\" class=\"dataframe\">\n",
              "  <thead>\n",
              "    <tr style=\"text-align: right;\">\n",
              "      <th></th>\n",
              "      <th>UID</th>\n",
              "      <th>iso2</th>\n",
              "      <th>iso3</th>\n",
              "      <th>code3</th>\n",
              "      <th>FIPS</th>\n",
              "      <th>Admin2</th>\n",
              "      <th>Province_State</th>\n",
              "      <th>Country_Region</th>\n",
              "      <th>Lat</th>\n",
              "      <th>Long_</th>\n",
              "      <th>Combined_Key</th>\n",
              "      <th>Date</th>\n",
              "      <th>Confirmed</th>\n",
              "    </tr>\n",
              "  </thead>\n",
              "  <tbody>\n",
              "    <tr>\n",
              "      <th>684690</th>\n",
              "      <td>84056029</td>\n",
              "      <td>US</td>\n",
              "      <td>USA</td>\n",
              "      <td>840</td>\n",
              "      <td>56029.0</td>\n",
              "      <td>Park</td>\n",
              "      <td>Wyoming</td>\n",
              "      <td>US</td>\n",
              "      <td>44.521575</td>\n",
              "      <td>-109.585283</td>\n",
              "      <td>Park, Wyoming, US</td>\n",
              "      <td>8/13/20</td>\n",
              "      <td>139</td>\n",
              "    </tr>\n",
              "    <tr>\n",
              "      <th>684691</th>\n",
              "      <td>84056031</td>\n",
              "      <td>US</td>\n",
              "      <td>USA</td>\n",
              "      <td>840</td>\n",
              "      <td>56031.0</td>\n",
              "      <td>Platte</td>\n",
              "      <td>Wyoming</td>\n",
              "      <td>US</td>\n",
              "      <td>42.132991</td>\n",
              "      <td>-104.966331</td>\n",
              "      <td>Platte, Wyoming, US</td>\n",
              "      <td>8/13/20</td>\n",
              "      <td>6</td>\n",
              "    </tr>\n",
              "    <tr>\n",
              "      <th>684692</th>\n",
              "      <td>84056033</td>\n",
              "      <td>US</td>\n",
              "      <td>USA</td>\n",
              "      <td>840</td>\n",
              "      <td>56033.0</td>\n",
              "      <td>Sheridan</td>\n",
              "      <td>Wyoming</td>\n",
              "      <td>US</td>\n",
              "      <td>44.790489</td>\n",
              "      <td>-106.886239</td>\n",
              "      <td>Sheridan, Wyoming, US</td>\n",
              "      <td>8/13/20</td>\n",
              "      <td>74</td>\n",
              "    </tr>\n",
              "    <tr>\n",
              "      <th>684693</th>\n",
              "      <td>84056035</td>\n",
              "      <td>US</td>\n",
              "      <td>USA</td>\n",
              "      <td>840</td>\n",
              "      <td>56035.0</td>\n",
              "      <td>Sublette</td>\n",
              "      <td>Wyoming</td>\n",
              "      <td>US</td>\n",
              "      <td>42.765583</td>\n",
              "      <td>-109.913092</td>\n",
              "      <td>Sublette, Wyoming, US</td>\n",
              "      <td>8/13/20</td>\n",
              "      <td>40</td>\n",
              "    </tr>\n",
              "    <tr>\n",
              "      <th>684694</th>\n",
              "      <td>84056037</td>\n",
              "      <td>US</td>\n",
              "      <td>USA</td>\n",
              "      <td>840</td>\n",
              "      <td>56037.0</td>\n",
              "      <td>Sweetwater</td>\n",
              "      <td>Wyoming</td>\n",
              "      <td>US</td>\n",
              "      <td>41.659439</td>\n",
              "      <td>-108.882788</td>\n",
              "      <td>Sweetwater, Wyoming, US</td>\n",
              "      <td>8/13/20</td>\n",
              "      <td>267</td>\n",
              "    </tr>\n",
              "    <tr>\n",
              "      <th>684695</th>\n",
              "      <td>84056039</td>\n",
              "      <td>US</td>\n",
              "      <td>USA</td>\n",
              "      <td>840</td>\n",
              "      <td>56039.0</td>\n",
              "      <td>Teton</td>\n",
              "      <td>Wyoming</td>\n",
              "      <td>US</td>\n",
              "      <td>43.935225</td>\n",
              "      <td>-110.589080</td>\n",
              "      <td>Teton, Wyoming, US</td>\n",
              "      <td>8/13/20</td>\n",
              "      <td>375</td>\n",
              "    </tr>\n",
              "    <tr>\n",
              "      <th>684696</th>\n",
              "      <td>84056041</td>\n",
              "      <td>US</td>\n",
              "      <td>USA</td>\n",
              "      <td>840</td>\n",
              "      <td>56041.0</td>\n",
              "      <td>Uinta</td>\n",
              "      <td>Wyoming</td>\n",
              "      <td>US</td>\n",
              "      <td>41.287818</td>\n",
              "      <td>-110.547578</td>\n",
              "      <td>Uinta, Wyoming, US</td>\n",
              "      <td>8/13/20</td>\n",
              "      <td>278</td>\n",
              "    </tr>\n",
              "    <tr>\n",
              "      <th>684697</th>\n",
              "      <td>84090056</td>\n",
              "      <td>US</td>\n",
              "      <td>USA</td>\n",
              "      <td>840</td>\n",
              "      <td>90056.0</td>\n",
              "      <td>Unassigned</td>\n",
              "      <td>Wyoming</td>\n",
              "      <td>US</td>\n",
              "      <td>0.000000</td>\n",
              "      <td>0.000000</td>\n",
              "      <td>Unassigned, Wyoming, US</td>\n",
              "      <td>8/13/20</td>\n",
              "      <td>0</td>\n",
              "    </tr>\n",
              "    <tr>\n",
              "      <th>684698</th>\n",
              "      <td>84056043</td>\n",
              "      <td>US</td>\n",
              "      <td>USA</td>\n",
              "      <td>840</td>\n",
              "      <td>56043.0</td>\n",
              "      <td>Washakie</td>\n",
              "      <td>Wyoming</td>\n",
              "      <td>US</td>\n",
              "      <td>43.904516</td>\n",
              "      <td>-107.680187</td>\n",
              "      <td>Washakie, Wyoming, US</td>\n",
              "      <td>8/13/20</td>\n",
              "      <td>86</td>\n",
              "    </tr>\n",
              "    <tr>\n",
              "      <th>684699</th>\n",
              "      <td>84056045</td>\n",
              "      <td>US</td>\n",
              "      <td>USA</td>\n",
              "      <td>840</td>\n",
              "      <td>56045.0</td>\n",
              "      <td>Weston</td>\n",
              "      <td>Wyoming</td>\n",
              "      <td>US</td>\n",
              "      <td>43.839612</td>\n",
              "      <td>-104.567488</td>\n",
              "      <td>Weston, Wyoming, US</td>\n",
              "      <td>8/13/20</td>\n",
              "      <td>5</td>\n",
              "    </tr>\n",
              "  </tbody>\n",
              "</table>\n",
              "</div>"
            ],
            "text/plain": [
              "             UID iso2 iso3  ...             Combined_Key     Date Confirmed\n",
              "684690  84056029   US  USA  ...        Park, Wyoming, US  8/13/20       139\n",
              "684691  84056031   US  USA  ...      Platte, Wyoming, US  8/13/20         6\n",
              "684692  84056033   US  USA  ...    Sheridan, Wyoming, US  8/13/20        74\n",
              "684693  84056035   US  USA  ...    Sublette, Wyoming, US  8/13/20        40\n",
              "684694  84056037   US  USA  ...  Sweetwater, Wyoming, US  8/13/20       267\n",
              "684695  84056039   US  USA  ...       Teton, Wyoming, US  8/13/20       375\n",
              "684696  84056041   US  USA  ...       Uinta, Wyoming, US  8/13/20       278\n",
              "684697  84090056   US  USA  ...  Unassigned, Wyoming, US  8/13/20         0\n",
              "684698  84056043   US  USA  ...    Washakie, Wyoming, US  8/13/20        86\n",
              "684699  84056045   US  USA  ...      Weston, Wyoming, US  8/13/20         5\n",
              "\n",
              "[10 rows x 13 columns]"
            ]
          },
          "metadata": {
            "tags": []
          },
          "execution_count": 83
        }
      ]
    },
    {
      "cell_type": "code",
      "metadata": {
        "id": "pMhFo-6S4v9D",
        "colab_type": "code",
        "colab": {
          "base_uri": "https://localhost:8080/",
          "height": 531
        },
        "outputId": "b9db4642-c9c0-49f8-f40b-2037e3ba429b"
      },
      "source": [
        "death_df_long.tail(10)"
      ],
      "execution_count": 20,
      "outputs": [
        {
          "output_type": "execute_result",
          "data": {
            "text/html": [
              "<div>\n",
              "<style scoped>\n",
              "    .dataframe tbody tr th:only-of-type {\n",
              "        vertical-align: middle;\n",
              "    }\n",
              "\n",
              "    .dataframe tbody tr th {\n",
              "        vertical-align: top;\n",
              "    }\n",
              "\n",
              "    .dataframe thead th {\n",
              "        text-align: right;\n",
              "    }\n",
              "</style>\n",
              "<table border=\"1\" class=\"dataframe\">\n",
              "  <thead>\n",
              "    <tr style=\"text-align: right;\">\n",
              "      <th></th>\n",
              "      <th>UID</th>\n",
              "      <th>iso2</th>\n",
              "      <th>iso3</th>\n",
              "      <th>code3</th>\n",
              "      <th>FIPS</th>\n",
              "      <th>Admin2</th>\n",
              "      <th>Province_State</th>\n",
              "      <th>Country_Region</th>\n",
              "      <th>Lat</th>\n",
              "      <th>Long_</th>\n",
              "      <th>Combined_Key</th>\n",
              "      <th>Population</th>\n",
              "      <th>Date</th>\n",
              "      <th>Deaths</th>\n",
              "    </tr>\n",
              "  </thead>\n",
              "  <tbody>\n",
              "    <tr>\n",
              "      <th>684690</th>\n",
              "      <td>84056029</td>\n",
              "      <td>US</td>\n",
              "      <td>USA</td>\n",
              "      <td>840</td>\n",
              "      <td>56029.0</td>\n",
              "      <td>Park</td>\n",
              "      <td>Wyoming</td>\n",
              "      <td>US</td>\n",
              "      <td>44.521575</td>\n",
              "      <td>-109.585283</td>\n",
              "      <td>Park, Wyoming, US</td>\n",
              "      <td>29194</td>\n",
              "      <td>8/13/20</td>\n",
              "      <td>0</td>\n",
              "    </tr>\n",
              "    <tr>\n",
              "      <th>684691</th>\n",
              "      <td>84056031</td>\n",
              "      <td>US</td>\n",
              "      <td>USA</td>\n",
              "      <td>840</td>\n",
              "      <td>56031.0</td>\n",
              "      <td>Platte</td>\n",
              "      <td>Wyoming</td>\n",
              "      <td>US</td>\n",
              "      <td>42.132991</td>\n",
              "      <td>-104.966331</td>\n",
              "      <td>Platte, Wyoming, US</td>\n",
              "      <td>8393</td>\n",
              "      <td>8/13/20</td>\n",
              "      <td>0</td>\n",
              "    </tr>\n",
              "    <tr>\n",
              "      <th>684692</th>\n",
              "      <td>84056033</td>\n",
              "      <td>US</td>\n",
              "      <td>USA</td>\n",
              "      <td>840</td>\n",
              "      <td>56033.0</td>\n",
              "      <td>Sheridan</td>\n",
              "      <td>Wyoming</td>\n",
              "      <td>US</td>\n",
              "      <td>44.790489</td>\n",
              "      <td>-106.886239</td>\n",
              "      <td>Sheridan, Wyoming, US</td>\n",
              "      <td>30485</td>\n",
              "      <td>8/13/20</td>\n",
              "      <td>0</td>\n",
              "    </tr>\n",
              "    <tr>\n",
              "      <th>684693</th>\n",
              "      <td>84056035</td>\n",
              "      <td>US</td>\n",
              "      <td>USA</td>\n",
              "      <td>840</td>\n",
              "      <td>56035.0</td>\n",
              "      <td>Sublette</td>\n",
              "      <td>Wyoming</td>\n",
              "      <td>US</td>\n",
              "      <td>42.765583</td>\n",
              "      <td>-109.913092</td>\n",
              "      <td>Sublette, Wyoming, US</td>\n",
              "      <td>9831</td>\n",
              "      <td>8/13/20</td>\n",
              "      <td>0</td>\n",
              "    </tr>\n",
              "    <tr>\n",
              "      <th>684694</th>\n",
              "      <td>84056037</td>\n",
              "      <td>US</td>\n",
              "      <td>USA</td>\n",
              "      <td>840</td>\n",
              "      <td>56037.0</td>\n",
              "      <td>Sweetwater</td>\n",
              "      <td>Wyoming</td>\n",
              "      <td>US</td>\n",
              "      <td>41.659439</td>\n",
              "      <td>-108.882788</td>\n",
              "      <td>Sweetwater, Wyoming, US</td>\n",
              "      <td>42343</td>\n",
              "      <td>8/13/20</td>\n",
              "      <td>0</td>\n",
              "    </tr>\n",
              "    <tr>\n",
              "      <th>684695</th>\n",
              "      <td>84056039</td>\n",
              "      <td>US</td>\n",
              "      <td>USA</td>\n",
              "      <td>840</td>\n",
              "      <td>56039.0</td>\n",
              "      <td>Teton</td>\n",
              "      <td>Wyoming</td>\n",
              "      <td>US</td>\n",
              "      <td>43.935225</td>\n",
              "      <td>-110.589080</td>\n",
              "      <td>Teton, Wyoming, US</td>\n",
              "      <td>23464</td>\n",
              "      <td>8/13/20</td>\n",
              "      <td>0</td>\n",
              "    </tr>\n",
              "    <tr>\n",
              "      <th>684696</th>\n",
              "      <td>84056041</td>\n",
              "      <td>US</td>\n",
              "      <td>USA</td>\n",
              "      <td>840</td>\n",
              "      <td>56041.0</td>\n",
              "      <td>Uinta</td>\n",
              "      <td>Wyoming</td>\n",
              "      <td>US</td>\n",
              "      <td>41.287818</td>\n",
              "      <td>-110.547578</td>\n",
              "      <td>Uinta, Wyoming, US</td>\n",
              "      <td>20226</td>\n",
              "      <td>8/13/20</td>\n",
              "      <td>0</td>\n",
              "    </tr>\n",
              "    <tr>\n",
              "      <th>684697</th>\n",
              "      <td>84090056</td>\n",
              "      <td>US</td>\n",
              "      <td>USA</td>\n",
              "      <td>840</td>\n",
              "      <td>90056.0</td>\n",
              "      <td>Unassigned</td>\n",
              "      <td>Wyoming</td>\n",
              "      <td>US</td>\n",
              "      <td>0.000000</td>\n",
              "      <td>0.000000</td>\n",
              "      <td>Unassigned, Wyoming, US</td>\n",
              "      <td>0</td>\n",
              "      <td>8/13/20</td>\n",
              "      <td>29</td>\n",
              "    </tr>\n",
              "    <tr>\n",
              "      <th>684698</th>\n",
              "      <td>84056043</td>\n",
              "      <td>US</td>\n",
              "      <td>USA</td>\n",
              "      <td>840</td>\n",
              "      <td>56043.0</td>\n",
              "      <td>Washakie</td>\n",
              "      <td>Wyoming</td>\n",
              "      <td>US</td>\n",
              "      <td>43.904516</td>\n",
              "      <td>-107.680187</td>\n",
              "      <td>Washakie, Wyoming, US</td>\n",
              "      <td>7805</td>\n",
              "      <td>8/13/20</td>\n",
              "      <td>0</td>\n",
              "    </tr>\n",
              "    <tr>\n",
              "      <th>684699</th>\n",
              "      <td>84056045</td>\n",
              "      <td>US</td>\n",
              "      <td>USA</td>\n",
              "      <td>840</td>\n",
              "      <td>56045.0</td>\n",
              "      <td>Weston</td>\n",
              "      <td>Wyoming</td>\n",
              "      <td>US</td>\n",
              "      <td>43.839612</td>\n",
              "      <td>-104.567488</td>\n",
              "      <td>Weston, Wyoming, US</td>\n",
              "      <td>6927</td>\n",
              "      <td>8/13/20</td>\n",
              "      <td>0</td>\n",
              "    </tr>\n",
              "  </tbody>\n",
              "</table>\n",
              "</div>"
            ],
            "text/plain": [
              "             UID iso2 iso3  ...  Population     Date Deaths\n",
              "684690  84056029   US  USA  ...       29194  8/13/20      0\n",
              "684691  84056031   US  USA  ...        8393  8/13/20      0\n",
              "684692  84056033   US  USA  ...       30485  8/13/20      0\n",
              "684693  84056035   US  USA  ...        9831  8/13/20      0\n",
              "684694  84056037   US  USA  ...       42343  8/13/20      0\n",
              "684695  84056039   US  USA  ...       23464  8/13/20      0\n",
              "684696  84056041   US  USA  ...       20226  8/13/20      0\n",
              "684697  84090056   US  USA  ...           0  8/13/20     29\n",
              "684698  84056043   US  USA  ...        7805  8/13/20      0\n",
              "684699  84056045   US  USA  ...        6927  8/13/20      0\n",
              "\n",
              "[10 rows x 14 columns]"
            ]
          },
          "metadata": {
            "tags": []
          },
          "execution_count": 20
        }
      ]
    },
    {
      "cell_type": "markdown",
      "metadata": {
        "id": "g9mtjPgr6Npu",
        "colab_type": "text"
      },
      "source": [
        "## Check California-New York data"
      ]
    },
    {
      "cell_type": "code",
      "metadata": {
        "id": "nDaNNgfV4v6Q",
        "colab_type": "code",
        "colab": {
          "base_uri": "https://localhost:8080/",
          "height": 279
        },
        "outputId": "cfa2446d-3f00-4d9c-d30d-9ec8615eedc2"
      },
      "source": [
        "state= ['California','New York']\n",
        "confirmed_CA_df = confirmed_df_long[confirmed_df_long['Province_State'].isin(state)]\n",
        "confirmed_CA_df.tail(5)"
      ],
      "execution_count": 84,
      "outputs": [
        {
          "output_type": "execute_result",
          "data": {
            "text/html": [
              "<div>\n",
              "<style scoped>\n",
              "    .dataframe tbody tr th:only-of-type {\n",
              "        vertical-align: middle;\n",
              "    }\n",
              "\n",
              "    .dataframe tbody tr th {\n",
              "        vertical-align: top;\n",
              "    }\n",
              "\n",
              "    .dataframe thead th {\n",
              "        text-align: right;\n",
              "    }\n",
              "</style>\n",
              "<table border=\"1\" class=\"dataframe\">\n",
              "  <thead>\n",
              "    <tr style=\"text-align: right;\">\n",
              "      <th></th>\n",
              "      <th>UID</th>\n",
              "      <th>iso2</th>\n",
              "      <th>iso3</th>\n",
              "      <th>code3</th>\n",
              "      <th>FIPS</th>\n",
              "      <th>Admin2</th>\n",
              "      <th>Province_State</th>\n",
              "      <th>Country_Region</th>\n",
              "      <th>Lat</th>\n",
              "      <th>Long_</th>\n",
              "      <th>Combined_Key</th>\n",
              "      <th>Date</th>\n",
              "      <th>Confirmed</th>\n",
              "    </tr>\n",
              "  </thead>\n",
              "  <tbody>\n",
              "    <tr>\n",
              "      <th>683319</th>\n",
              "      <td>84036115</td>\n",
              "      <td>US</td>\n",
              "      <td>USA</td>\n",
              "      <td>840</td>\n",
              "      <td>36115.0</td>\n",
              "      <td>Washington</td>\n",
              "      <td>New York</td>\n",
              "      <td>US</td>\n",
              "      <td>43.311538</td>\n",
              "      <td>-73.430434</td>\n",
              "      <td>Washington, New York, US</td>\n",
              "      <td>8/13/20</td>\n",
              "      <td>260</td>\n",
              "    </tr>\n",
              "    <tr>\n",
              "      <th>683320</th>\n",
              "      <td>84036117</td>\n",
              "      <td>US</td>\n",
              "      <td>USA</td>\n",
              "      <td>840</td>\n",
              "      <td>36117.0</td>\n",
              "      <td>Wayne</td>\n",
              "      <td>New York</td>\n",
              "      <td>US</td>\n",
              "      <td>43.154944</td>\n",
              "      <td>-77.029765</td>\n",
              "      <td>Wayne, New York, US</td>\n",
              "      <td>8/13/20</td>\n",
              "      <td>263</td>\n",
              "    </tr>\n",
              "    <tr>\n",
              "      <th>683321</th>\n",
              "      <td>84036119</td>\n",
              "      <td>US</td>\n",
              "      <td>USA</td>\n",
              "      <td>840</td>\n",
              "      <td>36119.0</td>\n",
              "      <td>Westchester</td>\n",
              "      <td>New York</td>\n",
              "      <td>US</td>\n",
              "      <td>41.162784</td>\n",
              "      <td>-73.757417</td>\n",
              "      <td>Westchester, New York, US</td>\n",
              "      <td>8/13/20</td>\n",
              "      <td>36357</td>\n",
              "    </tr>\n",
              "    <tr>\n",
              "      <th>683322</th>\n",
              "      <td>84036121</td>\n",
              "      <td>US</td>\n",
              "      <td>USA</td>\n",
              "      <td>840</td>\n",
              "      <td>36121.0</td>\n",
              "      <td>Wyoming</td>\n",
              "      <td>New York</td>\n",
              "      <td>US</td>\n",
              "      <td>42.701451</td>\n",
              "      <td>-78.221996</td>\n",
              "      <td>Wyoming, New York, US</td>\n",
              "      <td>8/13/20</td>\n",
              "      <td>118</td>\n",
              "    </tr>\n",
              "    <tr>\n",
              "      <th>683323</th>\n",
              "      <td>84036123</td>\n",
              "      <td>US</td>\n",
              "      <td>USA</td>\n",
              "      <td>840</td>\n",
              "      <td>36123.0</td>\n",
              "      <td>Yates</td>\n",
              "      <td>New York</td>\n",
              "      <td>US</td>\n",
              "      <td>42.635055</td>\n",
              "      <td>-77.103699</td>\n",
              "      <td>Yates, New York, US</td>\n",
              "      <td>8/13/20</td>\n",
              "      <td>58</td>\n",
              "    </tr>\n",
              "  </tbody>\n",
              "</table>\n",
              "</div>"
            ],
            "text/plain": [
              "             UID iso2 iso3  ...               Combined_Key     Date Confirmed\n",
              "683319  84036115   US  USA  ...   Washington, New York, US  8/13/20       260\n",
              "683320  84036117   US  USA  ...        Wayne, New York, US  8/13/20       263\n",
              "683321  84036119   US  USA  ...  Westchester, New York, US  8/13/20     36357\n",
              "683322  84036121   US  USA  ...      Wyoming, New York, US  8/13/20       118\n",
              "683323  84036123   US  USA  ...        Yates, New York, US  8/13/20        58\n",
              "\n",
              "[5 rows x 13 columns]"
            ]
          },
          "metadata": {
            "tags": []
          },
          "execution_count": 84
        }
      ]
    },
    {
      "cell_type": "code",
      "metadata": {
        "id": "TAkNMnrg6dfn",
        "colab_type": "code",
        "colab": {
          "base_uri": "https://localhost:8080/",
          "height": 34
        },
        "outputId": "ce658644-5855-4ef1-a46d-f4977ab33b46"
      },
      "source": [
        "confirmed_CA_df.Province_State.unique()"
      ],
      "execution_count": 85,
      "outputs": [
        {
          "output_type": "execute_result",
          "data": {
            "text/plain": [
              "array(['California', 'New York'], dtype=object)"
            ]
          },
          "metadata": {
            "tags": []
          },
          "execution_count": 85
        }
      ]
    },
    {
      "cell_type": "markdown",
      "metadata": {
        "id": "qVKk5oHB6kH2",
        "colab_type": "text"
      },
      "source": [
        "## Merging Confirmed and Death data"
      ]
    },
    {
      "cell_type": "code",
      "metadata": {
        "id": "vmW7r2mT4v3k",
        "colab_type": "code",
        "colab": {
          "base_uri": "https://localhost:8080/",
          "height": 531
        },
        "outputId": "34bb8420-5ea0-4fa6-c223-515aa37eece4"
      },
      "source": [
        "full_table = confirmed_df_long.merge(\n",
        "    right=death_df_long,\n",
        "    how='left',\n",
        "    on=[ 'UID', 'iso2', 'iso3', 'code3', 'FIPS', 'Admin2', 'Province_State',\n",
        "       'Country_Region', 'Lat', 'Long_', 'Combined_Key','Date']\n",
        ")\n",
        "\n",
        "full_table.head(10)"
      ],
      "execution_count": 86,
      "outputs": [
        {
          "output_type": "execute_result",
          "data": {
            "text/html": [
              "<div>\n",
              "<style scoped>\n",
              "    .dataframe tbody tr th:only-of-type {\n",
              "        vertical-align: middle;\n",
              "    }\n",
              "\n",
              "    .dataframe tbody tr th {\n",
              "        vertical-align: top;\n",
              "    }\n",
              "\n",
              "    .dataframe thead th {\n",
              "        text-align: right;\n",
              "    }\n",
              "</style>\n",
              "<table border=\"1\" class=\"dataframe\">\n",
              "  <thead>\n",
              "    <tr style=\"text-align: right;\">\n",
              "      <th></th>\n",
              "      <th>UID</th>\n",
              "      <th>iso2</th>\n",
              "      <th>iso3</th>\n",
              "      <th>code3</th>\n",
              "      <th>FIPS</th>\n",
              "      <th>Admin2</th>\n",
              "      <th>Province_State</th>\n",
              "      <th>Country_Region</th>\n",
              "      <th>Lat</th>\n",
              "      <th>Long_</th>\n",
              "      <th>Combined_Key</th>\n",
              "      <th>Date</th>\n",
              "      <th>Confirmed</th>\n",
              "      <th>Population</th>\n",
              "      <th>Deaths</th>\n",
              "    </tr>\n",
              "  </thead>\n",
              "  <tbody>\n",
              "    <tr>\n",
              "      <th>0</th>\n",
              "      <td>84001001</td>\n",
              "      <td>US</td>\n",
              "      <td>USA</td>\n",
              "      <td>840</td>\n",
              "      <td>1001.0</td>\n",
              "      <td>Autauga</td>\n",
              "      <td>Alabama</td>\n",
              "      <td>US</td>\n",
              "      <td>32.539527</td>\n",
              "      <td>-86.644082</td>\n",
              "      <td>Autauga, Alabama, US</td>\n",
              "      <td>1/22/20</td>\n",
              "      <td>0</td>\n",
              "      <td>55869</td>\n",
              "      <td>0</td>\n",
              "    </tr>\n",
              "    <tr>\n",
              "      <th>1</th>\n",
              "      <td>84001003</td>\n",
              "      <td>US</td>\n",
              "      <td>USA</td>\n",
              "      <td>840</td>\n",
              "      <td>1003.0</td>\n",
              "      <td>Baldwin</td>\n",
              "      <td>Alabama</td>\n",
              "      <td>US</td>\n",
              "      <td>30.727750</td>\n",
              "      <td>-87.722071</td>\n",
              "      <td>Baldwin, Alabama, US</td>\n",
              "      <td>1/22/20</td>\n",
              "      <td>0</td>\n",
              "      <td>223234</td>\n",
              "      <td>0</td>\n",
              "    </tr>\n",
              "    <tr>\n",
              "      <th>2</th>\n",
              "      <td>84001005</td>\n",
              "      <td>US</td>\n",
              "      <td>USA</td>\n",
              "      <td>840</td>\n",
              "      <td>1005.0</td>\n",
              "      <td>Barbour</td>\n",
              "      <td>Alabama</td>\n",
              "      <td>US</td>\n",
              "      <td>31.868263</td>\n",
              "      <td>-85.387129</td>\n",
              "      <td>Barbour, Alabama, US</td>\n",
              "      <td>1/22/20</td>\n",
              "      <td>0</td>\n",
              "      <td>24686</td>\n",
              "      <td>0</td>\n",
              "    </tr>\n",
              "    <tr>\n",
              "      <th>3</th>\n",
              "      <td>84001007</td>\n",
              "      <td>US</td>\n",
              "      <td>USA</td>\n",
              "      <td>840</td>\n",
              "      <td>1007.0</td>\n",
              "      <td>Bibb</td>\n",
              "      <td>Alabama</td>\n",
              "      <td>US</td>\n",
              "      <td>32.996421</td>\n",
              "      <td>-87.125115</td>\n",
              "      <td>Bibb, Alabama, US</td>\n",
              "      <td>1/22/20</td>\n",
              "      <td>0</td>\n",
              "      <td>22394</td>\n",
              "      <td>0</td>\n",
              "    </tr>\n",
              "    <tr>\n",
              "      <th>4</th>\n",
              "      <td>84001009</td>\n",
              "      <td>US</td>\n",
              "      <td>USA</td>\n",
              "      <td>840</td>\n",
              "      <td>1009.0</td>\n",
              "      <td>Blount</td>\n",
              "      <td>Alabama</td>\n",
              "      <td>US</td>\n",
              "      <td>33.982109</td>\n",
              "      <td>-86.567906</td>\n",
              "      <td>Blount, Alabama, US</td>\n",
              "      <td>1/22/20</td>\n",
              "      <td>0</td>\n",
              "      <td>57826</td>\n",
              "      <td>0</td>\n",
              "    </tr>\n",
              "    <tr>\n",
              "      <th>5</th>\n",
              "      <td>84001011</td>\n",
              "      <td>US</td>\n",
              "      <td>USA</td>\n",
              "      <td>840</td>\n",
              "      <td>1011.0</td>\n",
              "      <td>Bullock</td>\n",
              "      <td>Alabama</td>\n",
              "      <td>US</td>\n",
              "      <td>32.100305</td>\n",
              "      <td>-85.712655</td>\n",
              "      <td>Bullock, Alabama, US</td>\n",
              "      <td>1/22/20</td>\n",
              "      <td>0</td>\n",
              "      <td>10101</td>\n",
              "      <td>0</td>\n",
              "    </tr>\n",
              "    <tr>\n",
              "      <th>6</th>\n",
              "      <td>84001013</td>\n",
              "      <td>US</td>\n",
              "      <td>USA</td>\n",
              "      <td>840</td>\n",
              "      <td>1013.0</td>\n",
              "      <td>Butler</td>\n",
              "      <td>Alabama</td>\n",
              "      <td>US</td>\n",
              "      <td>31.753001</td>\n",
              "      <td>-86.680575</td>\n",
              "      <td>Butler, Alabama, US</td>\n",
              "      <td>1/22/20</td>\n",
              "      <td>0</td>\n",
              "      <td>19448</td>\n",
              "      <td>0</td>\n",
              "    </tr>\n",
              "    <tr>\n",
              "      <th>7</th>\n",
              "      <td>84001015</td>\n",
              "      <td>US</td>\n",
              "      <td>USA</td>\n",
              "      <td>840</td>\n",
              "      <td>1015.0</td>\n",
              "      <td>Calhoun</td>\n",
              "      <td>Alabama</td>\n",
              "      <td>US</td>\n",
              "      <td>33.774837</td>\n",
              "      <td>-85.826304</td>\n",
              "      <td>Calhoun, Alabama, US</td>\n",
              "      <td>1/22/20</td>\n",
              "      <td>0</td>\n",
              "      <td>113605</td>\n",
              "      <td>0</td>\n",
              "    </tr>\n",
              "    <tr>\n",
              "      <th>8</th>\n",
              "      <td>84001017</td>\n",
              "      <td>US</td>\n",
              "      <td>USA</td>\n",
              "      <td>840</td>\n",
              "      <td>1017.0</td>\n",
              "      <td>Chambers</td>\n",
              "      <td>Alabama</td>\n",
              "      <td>US</td>\n",
              "      <td>32.913601</td>\n",
              "      <td>-85.390727</td>\n",
              "      <td>Chambers, Alabama, US</td>\n",
              "      <td>1/22/20</td>\n",
              "      <td>0</td>\n",
              "      <td>33254</td>\n",
              "      <td>0</td>\n",
              "    </tr>\n",
              "    <tr>\n",
              "      <th>9</th>\n",
              "      <td>84001019</td>\n",
              "      <td>US</td>\n",
              "      <td>USA</td>\n",
              "      <td>840</td>\n",
              "      <td>1019.0</td>\n",
              "      <td>Cherokee</td>\n",
              "      <td>Alabama</td>\n",
              "      <td>US</td>\n",
              "      <td>34.178060</td>\n",
              "      <td>-85.606390</td>\n",
              "      <td>Cherokee, Alabama, US</td>\n",
              "      <td>1/22/20</td>\n",
              "      <td>0</td>\n",
              "      <td>26196</td>\n",
              "      <td>0</td>\n",
              "    </tr>\n",
              "  </tbody>\n",
              "</table>\n",
              "</div>"
            ],
            "text/plain": [
              "        UID iso2 iso3  code3  ...     Date Confirmed Population Deaths\n",
              "0  84001001   US  USA    840  ...  1/22/20         0      55869      0\n",
              "1  84001003   US  USA    840  ...  1/22/20         0     223234      0\n",
              "2  84001005   US  USA    840  ...  1/22/20         0      24686      0\n",
              "3  84001007   US  USA    840  ...  1/22/20         0      22394      0\n",
              "4  84001009   US  USA    840  ...  1/22/20         0      57826      0\n",
              "5  84001011   US  USA    840  ...  1/22/20         0      10101      0\n",
              "6  84001013   US  USA    840  ...  1/22/20         0      19448      0\n",
              "7  84001015   US  USA    840  ...  1/22/20         0     113605      0\n",
              "8  84001017   US  USA    840  ...  1/22/20         0      33254      0\n",
              "9  84001019   US  USA    840  ...  1/22/20         0      26196      0\n",
              "\n",
              "[10 rows x 15 columns]"
            ]
          },
          "metadata": {
            "tags": []
          },
          "execution_count": 86
        }
      ]
    },
    {
      "cell_type": "code",
      "metadata": {
        "id": "tl_kc1Dy4vxc",
        "colab_type": "code",
        "colab": {}
      },
      "source": [
        "#full_table['Date'] = pd.to_datetime(full_table['Date'])\n"
      ],
      "execution_count": null,
      "outputs": []
    },
    {
      "cell_type": "code",
      "metadata": {
        "id": "IGsPX5xY-FwZ",
        "colab_type": "code",
        "colab": {}
      },
      "source": [
        "ship_data = full_table['Province_State'].str.contains('Grand Princess') | full_table['Province_State'].str.contains('Diamond Princess') | full_table['Province_State'].str.contains('Northern Mariana Islands') | full_table['Province_State'].str.contains('American Samoa') |full_table['Province_State'].str.contains('Guam') | full_table['Province_State'].str.contains('Virgin Islands')\n",
        "\n",
        "full_ship = full_table[ship_data]\n"
      ],
      "execution_count": 87,
      "outputs": []
    },
    {
      "cell_type": "code",
      "metadata": {
        "id": "qX8IIjJkAGsQ",
        "colab_type": "code",
        "colab": {}
      },
      "source": [
        "# Removing ship data from State data\n",
        "\n",
        "full_table = full_table[~(ship_data)]"
      ],
      "execution_count": 88,
      "outputs": []
    },
    {
      "cell_type": "markdown",
      "metadata": {
        "id": "8bYhqhBUAa6J",
        "colab_type": "text"
      },
      "source": [
        "## Group data"
      ]
    },
    {
      "cell_type": "code",
      "metadata": {
        "id": "VMxboCIAAGqB",
        "colab_type": "code",
        "colab": {
          "base_uri": "https://localhost:8080/",
          "height": 195
        },
        "outputId": "66a9e4cd-0b4d-4ec7-f5d1-94f27e4c8504"
      },
      "source": [
        "full_grouped = full_table.groupby(['Date', 'Province_State','FIPS'])['Confirmed', 'Deaths'].sum().reset_index()\n",
        "\n",
        "full_grouped.tail(5)"
      ],
      "execution_count": 89,
      "outputs": [
        {
          "output_type": "execute_result",
          "data": {
            "text/html": [
              "<div>\n",
              "<style scoped>\n",
              "    .dataframe tbody tr th:only-of-type {\n",
              "        vertical-align: middle;\n",
              "    }\n",
              "\n",
              "    .dataframe tbody tr th {\n",
              "        vertical-align: top;\n",
              "    }\n",
              "\n",
              "    .dataframe thead th {\n",
              "        text-align: right;\n",
              "    }\n",
              "</style>\n",
              "<table border=\"1\" class=\"dataframe\">\n",
              "  <thead>\n",
              "    <tr style=\"text-align: right;\">\n",
              "      <th></th>\n",
              "      <th>Date</th>\n",
              "      <th>Province_State</th>\n",
              "      <th>FIPS</th>\n",
              "      <th>Confirmed</th>\n",
              "      <th>Deaths</th>\n",
              "    </tr>\n",
              "  </thead>\n",
              "  <tbody>\n",
              "    <tr>\n",
              "      <th>681415</th>\n",
              "      <td>8/9/20</td>\n",
              "      <td>Wyoming</td>\n",
              "      <td>56041.0</td>\n",
              "      <td>278</td>\n",
              "      <td>0</td>\n",
              "    </tr>\n",
              "    <tr>\n",
              "      <th>681416</th>\n",
              "      <td>8/9/20</td>\n",
              "      <td>Wyoming</td>\n",
              "      <td>56043.0</td>\n",
              "      <td>77</td>\n",
              "      <td>0</td>\n",
              "    </tr>\n",
              "    <tr>\n",
              "      <th>681417</th>\n",
              "      <td>8/9/20</td>\n",
              "      <td>Wyoming</td>\n",
              "      <td>56045.0</td>\n",
              "      <td>5</td>\n",
              "      <td>0</td>\n",
              "    </tr>\n",
              "    <tr>\n",
              "      <th>681418</th>\n",
              "      <td>8/9/20</td>\n",
              "      <td>Wyoming</td>\n",
              "      <td>80056.0</td>\n",
              "      <td>0</td>\n",
              "      <td>0</td>\n",
              "    </tr>\n",
              "    <tr>\n",
              "      <th>681419</th>\n",
              "      <td>8/9/20</td>\n",
              "      <td>Wyoming</td>\n",
              "      <td>90056.0</td>\n",
              "      <td>0</td>\n",
              "      <td>27</td>\n",
              "    </tr>\n",
              "  </tbody>\n",
              "</table>\n",
              "</div>"
            ],
            "text/plain": [
              "          Date Province_State     FIPS  Confirmed  Deaths\n",
              "681415  8/9/20        Wyoming  56041.0        278       0\n",
              "681416  8/9/20        Wyoming  56043.0         77       0\n",
              "681417  8/9/20        Wyoming  56045.0          5       0\n",
              "681418  8/9/20        Wyoming  80056.0          0       0\n",
              "681419  8/9/20        Wyoming  90056.0          0      27"
            ]
          },
          "metadata": {
            "tags": []
          },
          "execution_count": 89
        }
      ]
    },
    {
      "cell_type": "code",
      "metadata": {
        "id": "MBTXndxmKr8Z",
        "colab_type": "code",
        "colab": {
          "base_uri": "https://localhost:8080/",
          "height": 34
        },
        "outputId": "c27b552f-5938-4dbf-a55c-8298525ea07e"
      },
      "source": [
        "full_grouped.shape"
      ],
      "execution_count": 90,
      "outputs": [
        {
          "output_type": "execute_result",
          "data": {
            "text/plain": [
              "(681420, 5)"
            ]
          },
          "metadata": {
            "tags": []
          },
          "execution_count": 90
        }
      ]
    },
    {
      "cell_type": "markdown",
      "metadata": {
        "id": "IZGdcgaLA3gY",
        "colab_type": "text"
      },
      "source": [
        "####  Adding new cases, new deaths by subtracting from previous day record"
      ]
    },
    {
      "cell_type": "code",
      "metadata": {
        "id": "BxAJ_Q5eAGlH",
        "colab_type": "code",
        "colab": {}
      },
      "source": [
        "# new cases \n",
        "temp = full_grouped.groupby(['Province_State', 'Date', ])['Confirmed', 'Deaths']\n",
        "temp = temp.sum().diff().reset_index()\n",
        "mask = temp['Province_State'] != temp['Province_State'].shift(1)\n",
        "temp.loc[mask, 'Confirmed'] = np.nan\n",
        "temp.loc[mask, 'Deaths'] = np.nan\n",
        "\n",
        "# renaming columns\n",
        "temp.columns = ['Province_State', 'Date', 'New cases', 'New deaths']\n",
        "# merging new values\n",
        "full_grouped = pd.merge(full_grouped, temp, on=['Province_State', 'Date'])\n",
        "# filling na with 0\n",
        "full_grouped = full_grouped.fillna(0)\n",
        "# fixing data types\n",
        "cols = ['New cases', 'New deaths']\n",
        "full_grouped[cols] = full_grouped[cols].astype('int')\n",
        "# \n",
        "full_grouped['New cases'] = full_grouped['New cases'].apply(lambda x: 0 if x<0 else x)"
      ],
      "execution_count": 91,
      "outputs": []
    },
    {
      "cell_type": "code",
      "metadata": {
        "id": "5vhCccPLAGio",
        "colab_type": "code",
        "colab": {
          "base_uri": "https://localhost:8080/",
          "height": 195
        },
        "outputId": "f68ba1cf-f4cf-4218-d3da-b55825a5156e"
      },
      "source": [
        "full_grouped.tail(5)"
      ],
      "execution_count": 52,
      "outputs": [
        {
          "output_type": "execute_result",
          "data": {
            "text/html": [
              "<div>\n",
              "<style scoped>\n",
              "    .dataframe tbody tr th:only-of-type {\n",
              "        vertical-align: middle;\n",
              "    }\n",
              "\n",
              "    .dataframe tbody tr th {\n",
              "        vertical-align: top;\n",
              "    }\n",
              "\n",
              "    .dataframe thead th {\n",
              "        text-align: right;\n",
              "    }\n",
              "</style>\n",
              "<table border=\"1\" class=\"dataframe\">\n",
              "  <thead>\n",
              "    <tr style=\"text-align: right;\">\n",
              "      <th></th>\n",
              "      <th>Date</th>\n",
              "      <th>Province_State</th>\n",
              "      <th>FIPS</th>\n",
              "      <th>Confirmed</th>\n",
              "      <th>Deaths</th>\n",
              "      <th>New cases</th>\n",
              "      <th>New deaths</th>\n",
              "    </tr>\n",
              "  </thead>\n",
              "  <tbody>\n",
              "    <tr>\n",
              "      <th>681415</th>\n",
              "      <td>8/9/20</td>\n",
              "      <td>Wyoming</td>\n",
              "      <td>56041.0</td>\n",
              "      <td>278</td>\n",
              "      <td>0</td>\n",
              "      <td>35</td>\n",
              "      <td>0</td>\n",
              "    </tr>\n",
              "    <tr>\n",
              "      <th>681416</th>\n",
              "      <td>8/9/20</td>\n",
              "      <td>Wyoming</td>\n",
              "      <td>56043.0</td>\n",
              "      <td>77</td>\n",
              "      <td>0</td>\n",
              "      <td>35</td>\n",
              "      <td>0</td>\n",
              "    </tr>\n",
              "    <tr>\n",
              "      <th>681417</th>\n",
              "      <td>8/9/20</td>\n",
              "      <td>Wyoming</td>\n",
              "      <td>56045.0</td>\n",
              "      <td>5</td>\n",
              "      <td>0</td>\n",
              "      <td>35</td>\n",
              "      <td>0</td>\n",
              "    </tr>\n",
              "    <tr>\n",
              "      <th>681418</th>\n",
              "      <td>8/9/20</td>\n",
              "      <td>Wyoming</td>\n",
              "      <td>80056.0</td>\n",
              "      <td>0</td>\n",
              "      <td>0</td>\n",
              "      <td>35</td>\n",
              "      <td>0</td>\n",
              "    </tr>\n",
              "    <tr>\n",
              "      <th>681419</th>\n",
              "      <td>8/9/20</td>\n",
              "      <td>Wyoming</td>\n",
              "      <td>90056.0</td>\n",
              "      <td>0</td>\n",
              "      <td>27</td>\n",
              "      <td>35</td>\n",
              "      <td>0</td>\n",
              "    </tr>\n",
              "  </tbody>\n",
              "</table>\n",
              "</div>"
            ],
            "text/plain": [
              "          Date Province_State     FIPS  ...  Deaths  New cases  New deaths\n",
              "681415  8/9/20        Wyoming  56041.0  ...       0         35           0\n",
              "681416  8/9/20        Wyoming  56043.0  ...       0         35           0\n",
              "681417  8/9/20        Wyoming  56045.0  ...       0         35           0\n",
              "681418  8/9/20        Wyoming  80056.0  ...       0         35           0\n",
              "681419  8/9/20        Wyoming  90056.0  ...      27         35           0\n",
              "\n",
              "[5 rows x 7 columns]"
            ]
          },
          "metadata": {
            "tags": []
          },
          "execution_count": 52
        }
      ]
    },
    {
      "cell_type": "code",
      "metadata": {
        "id": "3UoS9KmfK-oh",
        "colab_type": "code",
        "colab": {
          "base_uri": "https://localhost:8080/",
          "height": 343
        },
        "outputId": "899d856e-c304-45df-d771-96c95487ebff"
      },
      "source": [
        "state= ['California','New York']\n",
        "ca_df = full_grouped[full_grouped['Province_State'].isin(state)]\n",
        "ca_df.tail(10)"
      ],
      "execution_count": 92,
      "outputs": [
        {
          "output_type": "execute_result",
          "data": {
            "text/html": [
              "<div>\n",
              "<style scoped>\n",
              "    .dataframe tbody tr th:only-of-type {\n",
              "        vertical-align: middle;\n",
              "    }\n",
              "\n",
              "    .dataframe tbody tr th {\n",
              "        vertical-align: top;\n",
              "    }\n",
              "\n",
              "    .dataframe thead th {\n",
              "        text-align: right;\n",
              "    }\n",
              "</style>\n",
              "<table border=\"1\" class=\"dataframe\">\n",
              "  <thead>\n",
              "    <tr style=\"text-align: right;\">\n",
              "      <th></th>\n",
              "      <th>Date</th>\n",
              "      <th>Province_State</th>\n",
              "      <th>FIPS</th>\n",
              "      <th>Confirmed</th>\n",
              "      <th>Deaths</th>\n",
              "      <th>New cases</th>\n",
              "      <th>New deaths</th>\n",
              "    </tr>\n",
              "  </thead>\n",
              "  <tbody>\n",
              "    <tr>\n",
              "      <th>680042</th>\n",
              "      <td>8/9/20</td>\n",
              "      <td>New York</td>\n",
              "      <td>36109.0</td>\n",
              "      <td>234</td>\n",
              "      <td>0</td>\n",
              "      <td>515</td>\n",
              "      <td>6</td>\n",
              "    </tr>\n",
              "    <tr>\n",
              "      <th>680043</th>\n",
              "      <td>8/9/20</td>\n",
              "      <td>New York</td>\n",
              "      <td>36111.0</td>\n",
              "      <td>2062</td>\n",
              "      <td>92</td>\n",
              "      <td>515</td>\n",
              "      <td>6</td>\n",
              "    </tr>\n",
              "    <tr>\n",
              "      <th>680044</th>\n",
              "      <td>8/9/20</td>\n",
              "      <td>New York</td>\n",
              "      <td>36113.0</td>\n",
              "      <td>308</td>\n",
              "      <td>33</td>\n",
              "      <td>515</td>\n",
              "      <td>6</td>\n",
              "    </tr>\n",
              "    <tr>\n",
              "      <th>680045</th>\n",
              "      <td>8/9/20</td>\n",
              "      <td>New York</td>\n",
              "      <td>36115.0</td>\n",
              "      <td>259</td>\n",
              "      <td>14</td>\n",
              "      <td>515</td>\n",
              "      <td>6</td>\n",
              "    </tr>\n",
              "    <tr>\n",
              "      <th>680046</th>\n",
              "      <td>8/9/20</td>\n",
              "      <td>New York</td>\n",
              "      <td>36117.0</td>\n",
              "      <td>250</td>\n",
              "      <td>3</td>\n",
              "      <td>515</td>\n",
              "      <td>6</td>\n",
              "    </tr>\n",
              "    <tr>\n",
              "      <th>680047</th>\n",
              "      <td>8/9/20</td>\n",
              "      <td>New York</td>\n",
              "      <td>36119.0</td>\n",
              "      <td>36205</td>\n",
              "      <td>1447</td>\n",
              "      <td>515</td>\n",
              "      <td>6</td>\n",
              "    </tr>\n",
              "    <tr>\n",
              "      <th>680048</th>\n",
              "      <td>8/9/20</td>\n",
              "      <td>New York</td>\n",
              "      <td>36121.0</td>\n",
              "      <td>118</td>\n",
              "      <td>5</td>\n",
              "      <td>515</td>\n",
              "      <td>6</td>\n",
              "    </tr>\n",
              "    <tr>\n",
              "      <th>680049</th>\n",
              "      <td>8/9/20</td>\n",
              "      <td>New York</td>\n",
              "      <td>36123.0</td>\n",
              "      <td>57</td>\n",
              "      <td>7</td>\n",
              "      <td>515</td>\n",
              "      <td>6</td>\n",
              "    </tr>\n",
              "    <tr>\n",
              "      <th>680050</th>\n",
              "      <td>8/9/20</td>\n",
              "      <td>New York</td>\n",
              "      <td>80036.0</td>\n",
              "      <td>0</td>\n",
              "      <td>0</td>\n",
              "      <td>515</td>\n",
              "      <td>6</td>\n",
              "    </tr>\n",
              "    <tr>\n",
              "      <th>680051</th>\n",
              "      <td>8/9/20</td>\n",
              "      <td>New York</td>\n",
              "      <td>90036.0</td>\n",
              "      <td>0</td>\n",
              "      <td>0</td>\n",
              "      <td>515</td>\n",
              "      <td>6</td>\n",
              "    </tr>\n",
              "  </tbody>\n",
              "</table>\n",
              "</div>"
            ],
            "text/plain": [
              "          Date Province_State     FIPS  ...  Deaths  New cases  New deaths\n",
              "680042  8/9/20       New York  36109.0  ...       0        515           6\n",
              "680043  8/9/20       New York  36111.0  ...      92        515           6\n",
              "680044  8/9/20       New York  36113.0  ...      33        515           6\n",
              "680045  8/9/20       New York  36115.0  ...      14        515           6\n",
              "680046  8/9/20       New York  36117.0  ...       3        515           6\n",
              "680047  8/9/20       New York  36119.0  ...    1447        515           6\n",
              "680048  8/9/20       New York  36121.0  ...       5        515           6\n",
              "680049  8/9/20       New York  36123.0  ...       7        515           6\n",
              "680050  8/9/20       New York  80036.0  ...       0        515           6\n",
              "680051  8/9/20       New York  90036.0  ...       0        515           6\n",
              "\n",
              "[10 rows x 7 columns]"
            ]
          },
          "metadata": {
            "tags": []
          },
          "execution_count": 92
        }
      ]
    },
    {
      "cell_type": "code",
      "metadata": {
        "id": "OI7Dtqna7bqX",
        "colab_type": "code",
        "colab": {}
      },
      "source": [
        "ca_df.to_csv(location+'CA-NY-Clean-data.csv')"
      ],
      "execution_count": null,
      "outputs": []
    },
    {
      "cell_type": "code",
      "metadata": {
        "id": "TX61_MzyLfnt",
        "colab_type": "code",
        "colab": {
          "base_uri": "https://localhost:8080/",
          "height": 106
        },
        "outputId": "8f7710fc-31d4-4d3a-9fe5-5fc675f12047"
      },
      "source": [
        "county_population_US.head(2)"
      ],
      "execution_count": 54,
      "outputs": [
        {
          "output_type": "execute_result",
          "data": {
            "text/html": [
              "<div>\n",
              "<style scoped>\n",
              "    .dataframe tbody tr th:only-of-type {\n",
              "        vertical-align: middle;\n",
              "    }\n",
              "\n",
              "    .dataframe tbody tr th {\n",
              "        vertical-align: top;\n",
              "    }\n",
              "\n",
              "    .dataframe thead th {\n",
              "        text-align: right;\n",
              "    }\n",
              "</style>\n",
              "<table border=\"1\" class=\"dataframe\">\n",
              "  <thead>\n",
              "    <tr style=\"text-align: right;\">\n",
              "      <th></th>\n",
              "      <th>countyFIPS</th>\n",
              "      <th>County Name</th>\n",
              "      <th>State</th>\n",
              "      <th>population</th>\n",
              "      <th>FIPS</th>\n",
              "    </tr>\n",
              "  </thead>\n",
              "  <tbody>\n",
              "    <tr>\n",
              "      <th>0</th>\n",
              "      <td>0</td>\n",
              "      <td>Statewide Unallocated</td>\n",
              "      <td>AL</td>\n",
              "      <td>0</td>\n",
              "      <td>0</td>\n",
              "    </tr>\n",
              "    <tr>\n",
              "      <th>1</th>\n",
              "      <td>1001</td>\n",
              "      <td>Autauga County</td>\n",
              "      <td>AL</td>\n",
              "      <td>55869</td>\n",
              "      <td>1001</td>\n",
              "    </tr>\n",
              "  </tbody>\n",
              "</table>\n",
              "</div>"
            ],
            "text/plain": [
              "   countyFIPS            County Name State  population  FIPS\n",
              "0           0  Statewide Unallocated    AL           0     0\n",
              "1        1001         Autauga County    AL       55869  1001"
            ]
          },
          "metadata": {
            "tags": []
          },
          "execution_count": 54
        }
      ]
    },
    {
      "cell_type": "code",
      "metadata": {
        "id": "4SvvBpy9MU1n",
        "colab_type": "code",
        "colab": {}
      },
      "source": [
        "county_population_US['FIPS'] = county_population_US['countyFIPS']"
      ],
      "execution_count": 93,
      "outputs": []
    },
    {
      "cell_type": "code",
      "metadata": {
        "id": "Vxn23Tv1MffX",
        "colab_type": "code",
        "colab": {
          "base_uri": "https://localhost:8080/",
          "height": 34
        },
        "outputId": "fc018eea-97c2-451e-a463-b8bf523c2160"
      },
      "source": [
        "ca_df.shape"
      ],
      "execution_count": 38,
      "outputs": [
        {
          "output_type": "execute_result",
          "data": {
            "text/plain": [
              "(25420, 7)"
            ]
          },
          "metadata": {
            "tags": []
          },
          "execution_count": 38
        }
      ]
    },
    {
      "cell_type": "markdown",
      "metadata": {
        "id": "bXYhEmKnLRZB",
        "colab_type": "text"
      },
      "source": [
        "# Merge with FIPS "
      ]
    },
    {
      "cell_type": "code",
      "metadata": {
        "id": "pmc7bIZsLU8O",
        "colab_type": "code",
        "colab": {
          "base_uri": "https://localhost:8080/",
          "height": 34
        },
        "outputId": "ef11002b-ace2-43f9-f900-e6df12e9709e"
      },
      "source": [
        "merged = pd.merge(ca_df,county_population_US,how='inner' ,on=['FIPS'])\n",
        "print(merged.shape)"
      ],
      "execution_count": 94,
      "outputs": [
        {
          "output_type": "stream",
          "text": [
            "(24600, 11)\n"
          ],
          "name": "stdout"
        }
      ]
    },
    {
      "cell_type": "code",
      "metadata": {
        "id": "sU-OpamgLUw_",
        "colab_type": "code",
        "colab": {
          "base_uri": "https://localhost:8080/",
          "height": 106
        },
        "outputId": "c7b63bd3-6f6a-490c-9dfc-0db22a146df2"
      },
      "source": [
        "merged.tail(2)"
      ],
      "execution_count": 95,
      "outputs": [
        {
          "output_type": "execute_result",
          "data": {
            "text/html": [
              "<div>\n",
              "<style scoped>\n",
              "    .dataframe tbody tr th:only-of-type {\n",
              "        vertical-align: middle;\n",
              "    }\n",
              "\n",
              "    .dataframe tbody tr th {\n",
              "        vertical-align: top;\n",
              "    }\n",
              "\n",
              "    .dataframe thead th {\n",
              "        text-align: right;\n",
              "    }\n",
              "</style>\n",
              "<table border=\"1\" class=\"dataframe\">\n",
              "  <thead>\n",
              "    <tr style=\"text-align: right;\">\n",
              "      <th></th>\n",
              "      <th>Date</th>\n",
              "      <th>Province_State</th>\n",
              "      <th>FIPS</th>\n",
              "      <th>Confirmed</th>\n",
              "      <th>Deaths</th>\n",
              "      <th>New cases</th>\n",
              "      <th>New deaths</th>\n",
              "      <th>countyFIPS</th>\n",
              "      <th>County Name</th>\n",
              "      <th>State</th>\n",
              "      <th>population</th>\n",
              "    </tr>\n",
              "  </thead>\n",
              "  <tbody>\n",
              "    <tr>\n",
              "      <th>24598</th>\n",
              "      <td>8/8/20</td>\n",
              "      <td>New York</td>\n",
              "      <td>36123.0</td>\n",
              "      <td>56</td>\n",
              "      <td>7</td>\n",
              "      <td>703</td>\n",
              "      <td>8</td>\n",
              "      <td>36123</td>\n",
              "      <td>Yates County</td>\n",
              "      <td>NY</td>\n",
              "      <td>24913</td>\n",
              "    </tr>\n",
              "    <tr>\n",
              "      <th>24599</th>\n",
              "      <td>8/9/20</td>\n",
              "      <td>New York</td>\n",
              "      <td>36123.0</td>\n",
              "      <td>57</td>\n",
              "      <td>7</td>\n",
              "      <td>515</td>\n",
              "      <td>6</td>\n",
              "      <td>36123</td>\n",
              "      <td>Yates County</td>\n",
              "      <td>NY</td>\n",
              "      <td>24913</td>\n",
              "    </tr>\n",
              "  </tbody>\n",
              "</table>\n",
              "</div>"
            ],
            "text/plain": [
              "         Date Province_State     FIPS  ...   County Name  State  population\n",
              "24598  8/8/20       New York  36123.0  ...  Yates County     NY       24913\n",
              "24599  8/9/20       New York  36123.0  ...  Yates County     NY       24913\n",
              "\n",
              "[2 rows x 11 columns]"
            ]
          },
          "metadata": {
            "tags": []
          },
          "execution_count": 95
        }
      ]
    },
    {
      "cell_type": "markdown",
      "metadata": {
        "id": "bqLuP_zx4Ger",
        "colab_type": "text"
      },
      "source": [
        "## Visualization"
      ]
    },
    {
      "cell_type": "code",
      "metadata": {
        "id": "VW5zVDDm8KAL",
        "colab_type": "code",
        "colab": {
          "base_uri": "https://localhost:8080/",
          "height": 136
        },
        "outputId": "1adf4b17-ab4b-4625-919c-2020eab0fcc6"
      },
      "source": [
        "full_grouped.head(3)"
      ],
      "execution_count": 96,
      "outputs": [
        {
          "output_type": "execute_result",
          "data": {
            "text/html": [
              "<div>\n",
              "<style scoped>\n",
              "    .dataframe tbody tr th:only-of-type {\n",
              "        vertical-align: middle;\n",
              "    }\n",
              "\n",
              "    .dataframe tbody tr th {\n",
              "        vertical-align: top;\n",
              "    }\n",
              "\n",
              "    .dataframe thead th {\n",
              "        text-align: right;\n",
              "    }\n",
              "</style>\n",
              "<table border=\"1\" class=\"dataframe\">\n",
              "  <thead>\n",
              "    <tr style=\"text-align: right;\">\n",
              "      <th></th>\n",
              "      <th>Date</th>\n",
              "      <th>Province_State</th>\n",
              "      <th>FIPS</th>\n",
              "      <th>Confirmed</th>\n",
              "      <th>Deaths</th>\n",
              "      <th>New cases</th>\n",
              "      <th>New deaths</th>\n",
              "    </tr>\n",
              "  </thead>\n",
              "  <tbody>\n",
              "    <tr>\n",
              "      <th>0</th>\n",
              "      <td>1/22/20</td>\n",
              "      <td>Alabama</td>\n",
              "      <td>1001.0</td>\n",
              "      <td>0</td>\n",
              "      <td>0</td>\n",
              "      <td>0</td>\n",
              "      <td>0</td>\n",
              "    </tr>\n",
              "    <tr>\n",
              "      <th>1</th>\n",
              "      <td>1/22/20</td>\n",
              "      <td>Alabama</td>\n",
              "      <td>1003.0</td>\n",
              "      <td>0</td>\n",
              "      <td>0</td>\n",
              "      <td>0</td>\n",
              "      <td>0</td>\n",
              "    </tr>\n",
              "    <tr>\n",
              "      <th>2</th>\n",
              "      <td>1/22/20</td>\n",
              "      <td>Alabama</td>\n",
              "      <td>1005.0</td>\n",
              "      <td>0</td>\n",
              "      <td>0</td>\n",
              "      <td>0</td>\n",
              "      <td>0</td>\n",
              "    </tr>\n",
              "  </tbody>\n",
              "</table>\n",
              "</div>"
            ],
            "text/plain": [
              "      Date Province_State    FIPS  Confirmed  Deaths  New cases  New deaths\n",
              "0  1/22/20        Alabama  1001.0          0       0          0           0\n",
              "1  1/22/20        Alabama  1003.0          0       0          0           0\n",
              "2  1/22/20        Alabama  1005.0          0       0          0           0"
            ]
          },
          "metadata": {
            "tags": []
          },
          "execution_count": 96
        }
      ]
    },
    {
      "cell_type": "code",
      "metadata": {
        "id": "VEXrY5qwA0V1",
        "colab_type": "code",
        "colab": {
          "base_uri": "https://localhost:8080/",
          "height": 402
        },
        "outputId": "f3bced50-6dd6-4cf1-d4b0-27c8cc4cc3d5"
      },
      "source": [
        "merged.head(3)\n"
      ],
      "execution_count": 97,
      "outputs": [
        {
          "output_type": "execute_result",
          "data": {
            "text/html": [
              "<div>\n",
              "<style scoped>\n",
              "    .dataframe tbody tr th:only-of-type {\n",
              "        vertical-align: middle;\n",
              "    }\n",
              "\n",
              "    .dataframe tbody tr th {\n",
              "        vertical-align: top;\n",
              "    }\n",
              "\n",
              "    .dataframe thead th {\n",
              "        text-align: right;\n",
              "    }\n",
              "</style>\n",
              "<table border=\"1\" class=\"dataframe\">\n",
              "  <thead>\n",
              "    <tr style=\"text-align: right;\">\n",
              "      <th></th>\n",
              "      <th>Date</th>\n",
              "      <th>Province_State</th>\n",
              "      <th>FIPS</th>\n",
              "      <th>Confirmed</th>\n",
              "      <th>Deaths</th>\n",
              "      <th>New cases</th>\n",
              "      <th>New deaths</th>\n",
              "      <th>countyFIPS</th>\n",
              "      <th>County Name</th>\n",
              "      <th>State</th>\n",
              "      <th>population</th>\n",
              "    </tr>\n",
              "  </thead>\n",
              "  <tbody>\n",
              "    <tr>\n",
              "      <th>0</th>\n",
              "      <td>1/22/20</td>\n",
              "      <td>California</td>\n",
              "      <td>6001.0</td>\n",
              "      <td>0</td>\n",
              "      <td>0</td>\n",
              "      <td>0</td>\n",
              "      <td>0</td>\n",
              "      <td>6001</td>\n",
              "      <td>Alameda County</td>\n",
              "      <td>CA</td>\n",
              "      <td>1671329</td>\n",
              "    </tr>\n",
              "    <tr>\n",
              "      <th>1</th>\n",
              "      <td>1/23/20</td>\n",
              "      <td>California</td>\n",
              "      <td>6001.0</td>\n",
              "      <td>0</td>\n",
              "      <td>0</td>\n",
              "      <td>0</td>\n",
              "      <td>0</td>\n",
              "      <td>6001</td>\n",
              "      <td>Alameda County</td>\n",
              "      <td>CA</td>\n",
              "      <td>1671329</td>\n",
              "    </tr>\n",
              "    <tr>\n",
              "      <th>2</th>\n",
              "      <td>1/24/20</td>\n",
              "      <td>California</td>\n",
              "      <td>6001.0</td>\n",
              "      <td>0</td>\n",
              "      <td>0</td>\n",
              "      <td>0</td>\n",
              "      <td>0</td>\n",
              "      <td>6001</td>\n",
              "      <td>Alameda County</td>\n",
              "      <td>CA</td>\n",
              "      <td>1671329</td>\n",
              "    </tr>\n",
              "    <tr>\n",
              "      <th>3</th>\n",
              "      <td>1/25/20</td>\n",
              "      <td>California</td>\n",
              "      <td>6001.0</td>\n",
              "      <td>0</td>\n",
              "      <td>0</td>\n",
              "      <td>0</td>\n",
              "      <td>0</td>\n",
              "      <td>6001</td>\n",
              "      <td>Alameda County</td>\n",
              "      <td>CA</td>\n",
              "      <td>1671329</td>\n",
              "    </tr>\n",
              "    <tr>\n",
              "      <th>4</th>\n",
              "      <td>1/26/20</td>\n",
              "      <td>California</td>\n",
              "      <td>6001.0</td>\n",
              "      <td>0</td>\n",
              "      <td>0</td>\n",
              "      <td>2</td>\n",
              "      <td>0</td>\n",
              "      <td>6001</td>\n",
              "      <td>Alameda County</td>\n",
              "      <td>CA</td>\n",
              "      <td>1671329</td>\n",
              "    </tr>\n",
              "    <tr>\n",
              "      <th>...</th>\n",
              "      <td>...</td>\n",
              "      <td>...</td>\n",
              "      <td>...</td>\n",
              "      <td>...</td>\n",
              "      <td>...</td>\n",
              "      <td>...</td>\n",
              "      <td>...</td>\n",
              "      <td>...</td>\n",
              "      <td>...</td>\n",
              "      <td>...</td>\n",
              "      <td>...</td>\n",
              "    </tr>\n",
              "    <tr>\n",
              "      <th>11885</th>\n",
              "      <td>8/5/20</td>\n",
              "      <td>California</td>\n",
              "      <td>6115.0</td>\n",
              "      <td>533</td>\n",
              "      <td>4</td>\n",
              "      <td>3921</td>\n",
              "      <td>124</td>\n",
              "      <td>6115</td>\n",
              "      <td>Yuba County</td>\n",
              "      <td>CA</td>\n",
              "      <td>78668</td>\n",
              "    </tr>\n",
              "    <tr>\n",
              "      <th>11886</th>\n",
              "      <td>8/6/20</td>\n",
              "      <td>California</td>\n",
              "      <td>6115.0</td>\n",
              "      <td>572</td>\n",
              "      <td>4</td>\n",
              "      <td>10733</td>\n",
              "      <td>213</td>\n",
              "      <td>6115</td>\n",
              "      <td>Yuba County</td>\n",
              "      <td>CA</td>\n",
              "      <td>78668</td>\n",
              "    </tr>\n",
              "    <tr>\n",
              "      <th>11887</th>\n",
              "      <td>8/7/20</td>\n",
              "      <td>California</td>\n",
              "      <td>6115.0</td>\n",
              "      <td>572</td>\n",
              "      <td>4</td>\n",
              "      <td>5475</td>\n",
              "      <td>112</td>\n",
              "      <td>6115</td>\n",
              "      <td>Yuba County</td>\n",
              "      <td>CA</td>\n",
              "      <td>78668</td>\n",
              "    </tr>\n",
              "    <tr>\n",
              "      <th>11888</th>\n",
              "      <td>8/8/20</td>\n",
              "      <td>California</td>\n",
              "      <td>6115.0</td>\n",
              "      <td>588</td>\n",
              "      <td>4</td>\n",
              "      <td>7574</td>\n",
              "      <td>174</td>\n",
              "      <td>6115</td>\n",
              "      <td>Yuba County</td>\n",
              "      <td>CA</td>\n",
              "      <td>78668</td>\n",
              "    </tr>\n",
              "    <tr>\n",
              "      <th>11889</th>\n",
              "      <td>8/9/20</td>\n",
              "      <td>California</td>\n",
              "      <td>6115.0</td>\n",
              "      <td>600</td>\n",
              "      <td>4</td>\n",
              "      <td>5358</td>\n",
              "      <td>70</td>\n",
              "      <td>6115</td>\n",
              "      <td>Yuba County</td>\n",
              "      <td>CA</td>\n",
              "      <td>78668</td>\n",
              "    </tr>\n",
              "  </tbody>\n",
              "</table>\n",
              "<p>11890 rows × 11 columns</p>\n",
              "</div>"
            ],
            "text/plain": [
              "          Date Province_State    FIPS  ...     County Name  State  population\n",
              "0      1/22/20     California  6001.0  ...  Alameda County     CA     1671329\n",
              "1      1/23/20     California  6001.0  ...  Alameda County     CA     1671329\n",
              "2      1/24/20     California  6001.0  ...  Alameda County     CA     1671329\n",
              "3      1/25/20     California  6001.0  ...  Alameda County     CA     1671329\n",
              "4      1/26/20     California  6001.0  ...  Alameda County     CA     1671329\n",
              "...        ...            ...     ...  ...             ...    ...         ...\n",
              "11885   8/5/20     California  6115.0  ...     Yuba County     CA       78668\n",
              "11886   8/6/20     California  6115.0  ...     Yuba County     CA       78668\n",
              "11887   8/7/20     California  6115.0  ...     Yuba County     CA       78668\n",
              "11888   8/8/20     California  6115.0  ...     Yuba County     CA       78668\n",
              "11889   8/9/20     California  6115.0  ...     Yuba County     CA       78668\n",
              "\n",
              "[11890 rows x 11 columns]"
            ]
          },
          "metadata": {
            "tags": []
          },
          "execution_count": 97
        }
      ]
    },
    {
      "cell_type": "code",
      "metadata": {
        "id": "Ls8G3UFv8EEB",
        "colab_type": "code",
        "colab": {
          "base_uri": "https://localhost:8080/",
          "height": 34
        },
        "outputId": "08854cd4-6804-4555-d216-f5e73463330c"
      },
      "source": [
        "import pandas as pd\n",
        "import altair as alt\n",
        "#full_grouped = merged\n",
        "ca_df = full_grouped[full_grouped['Province_State'] == 'California']\n",
        "ny_df = full_grouped[full_grouped['Province_State'] == 'New York']\n",
        "ca_df.shape"
      ],
      "execution_count": 99,
      "outputs": [
        {
          "output_type": "execute_result",
          "data": {
            "text/plain": [
              "(12300, 7)"
            ]
          },
          "metadata": {
            "tags": []
          },
          "execution_count": 99
        }
      ]
    },
    {
      "cell_type": "code",
      "metadata": {
        "id": "x28oUtoiExGL",
        "colab_type": "code",
        "colab": {}
      },
      "source": [
        "ca_total = (\n",
        "    ca_df\n",
        "    .pipe(lambda x: x.assign(gains_pctg=x.Confirmed))\n",
        "    .groupby(['Date','Province_State'])\n",
        "    .agg({\"gains_pctg\": \"sum\"})\n",
        "    .reset_index()\n",
        "    .rename(columns={\"gains_pctg\": \"New cases\"})\n",
        ")\n",
        "ny_total = (\n",
        "    ny_df\n",
        "    .pipe(lambda x: x.assign(gains_pctg=x.Confirmed))\n",
        "    .groupby(['Date','Province_State'])\n",
        "    .agg({\"gains_pctg\": \"sum\"})\n",
        "    .reset_index()\n",
        "    .rename(columns={\"gains_pctg\": \"New cases\"})\n",
        ")"
      ],
      "execution_count": 108,
      "outputs": []
    },
    {
      "cell_type": "code",
      "metadata": {
        "id": "FU_aWMWr94_i",
        "colab_type": "code",
        "colab": {}
      },
      "source": [
        "base_ca = alt.Chart(ca_total).mark_bar().encode(\n",
        "    x='monthdate(Date):O',\n",
        ").properties(\n",
        "    width=500\n",
        ")\n",
        "\n",
        "base_ny = alt.Chart(ny_total).mark_bar().encode(\n",
        "    x='monthdate(Date):O',\n",
        ").properties(\n",
        "    width=500\n",
        ")"
      ],
      "execution_count": 110,
      "outputs": []
    },
    {
      "cell_type": "code",
      "metadata": {
        "id": "Xhl9giYd-GGf",
        "colab_type": "code",
        "colab": {
          "base_uri": "https://localhost:8080/",
          "height": 408
        },
        "outputId": "a3bcb405-0c51-4dc7-9a75-b39f3f0a198e"
      },
      "source": [
        "red = alt.value(\"#f54242\")\n",
        "##Ca data\n",
        "#base_ca.encode(y='Confirmed').properties(title='Total Confirmed') | base_ca.encode(y='Deaths',color = red).properties(title='Total deaths')\n",
        "base_ca.encode(y='New cases').properties(title='New cases')"
      ],
      "execution_count": 111,
      "outputs": [
        {
          "output_type": "execute_result",
          "data": {
            "text/plain": [
              "alt.Chart(...)"
            ],
            "text/html": [
              "\n",
              "<div id=\"altair-viz-56f905a338fc4a43bb418643e8281bb5\"></div>\n",
              "<script type=\"text/javascript\">\n",
              "  (function(spec, embedOpt){\n",
              "    let outputDiv = document.currentScript.previousElementSibling;\n",
              "    if (outputDiv.id !== \"altair-viz-56f905a338fc4a43bb418643e8281bb5\") {\n",
              "      outputDiv = document.getElementById(\"altair-viz-56f905a338fc4a43bb418643e8281bb5\");\n",
              "    }\n",
              "    const paths = {\n",
              "      \"vega\": \"https://cdn.jsdelivr.net/npm//vega@5?noext\",\n",
              "      \"vega-lib\": \"https://cdn.jsdelivr.net/npm//vega-lib?noext\",\n",
              "      \"vega-lite\": \"https://cdn.jsdelivr.net/npm//vega-lite@4.8.1?noext\",\n",
              "      \"vega-embed\": \"https://cdn.jsdelivr.net/npm//vega-embed@6?noext\",\n",
              "    };\n",
              "\n",
              "    function loadScript(lib) {\n",
              "      return new Promise(function(resolve, reject) {\n",
              "        var s = document.createElement('script');\n",
              "        s.src = paths[lib];\n",
              "        s.async = true;\n",
              "        s.onload = () => resolve(paths[lib]);\n",
              "        s.onerror = () => reject(`Error loading script: ${paths[lib]}`);\n",
              "        document.getElementsByTagName(\"head\")[0].appendChild(s);\n",
              "      });\n",
              "    }\n",
              "\n",
              "    function showError(err) {\n",
              "      outputDiv.innerHTML = `<div class=\"error\" style=\"color:red;\">${err}</div>`;\n",
              "      throw err;\n",
              "    }\n",
              "\n",
              "    function displayChart(vegaEmbed) {\n",
              "      vegaEmbed(outputDiv, spec, embedOpt)\n",
              "        .catch(err => showError(`Javascript Error: ${err.message}<br>This usually means there's a typo in your chart specification. See the javascript console for the full traceback.`));\n",
              "    }\n",
              "\n",
              "    if(typeof define === \"function\" && define.amd) {\n",
              "      requirejs.config({paths});\n",
              "      require([\"vega-embed\"], displayChart, err => showError(`Error loading script: ${err.message}`));\n",
              "    } else if (typeof vegaEmbed === \"function\") {\n",
              "      displayChart(vegaEmbed);\n",
              "    } else {\n",
              "      loadScript(\"vega\")\n",
              "        .then(() => loadScript(\"vega-lite\"))\n",
              "        .then(() => loadScript(\"vega-embed\"))\n",
              "        .catch(showError)\n",
              "        .then(() => displayChart(vegaEmbed));\n",
              "    }\n",
              "  })({\"config\": {\"view\": {\"continuousWidth\": 400, \"continuousHeight\": 300}}, \"data\": {\"name\": \"data-51398636ab48fda142846cdaa7b28d5d\"}, \"mark\": \"bar\", \"encoding\": {\"x\": {\"type\": \"ordinal\", \"field\": \"Date\", \"timeUnit\": \"monthdate\"}, \"y\": {\"type\": \"quantitative\", \"field\": \"New cases\"}}, \"title\": \"New cases\", \"width\": 500, \"$schema\": \"https://vega.github.io/schema/vega-lite/v4.8.1.json\", \"datasets\": {\"data-51398636ab48fda142846cdaa7b28d5d\": [{\"Date\": \"1/22/20\", \"Province_State\": \"California\", \"New cases\": 0}, {\"Date\": \"1/23/20\", \"Province_State\": \"California\", \"New cases\": 0}, {\"Date\": \"1/24/20\", \"Province_State\": \"California\", \"New cases\": 0}, {\"Date\": \"1/25/20\", \"Province_State\": \"California\", \"New cases\": 0}, {\"Date\": \"1/26/20\", \"Province_State\": \"California\", \"New cases\": 2}, {\"Date\": \"1/27/20\", \"Province_State\": \"California\", \"New cases\": 2}, {\"Date\": \"1/28/20\", \"Province_State\": \"California\", \"New cases\": 2}, {\"Date\": \"1/29/20\", \"Province_State\": \"California\", \"New cases\": 2}, {\"Date\": \"1/30/20\", \"Province_State\": \"California\", \"New cases\": 2}, {\"Date\": \"1/31/20\", \"Province_State\": \"California\", \"New cases\": 3}, {\"Date\": \"2/1/20\", \"Province_State\": \"California\", \"New cases\": 3}, {\"Date\": \"2/10/20\", \"Province_State\": \"California\", \"New cases\": 6}, {\"Date\": \"2/11/20\", \"Province_State\": \"California\", \"New cases\": 7}, {\"Date\": \"2/12/20\", \"Province_State\": \"California\", \"New cases\": 7}, {\"Date\": \"2/13/20\", \"Province_State\": \"California\", \"New cases\": 8}, {\"Date\": \"2/14/20\", \"Province_State\": \"California\", \"New cases\": 8}, {\"Date\": \"2/15/20\", \"Province_State\": \"California\", \"New cases\": 8}, {\"Date\": \"2/16/20\", \"Province_State\": \"California\", \"New cases\": 8}, {\"Date\": \"2/17/20\", \"Province_State\": \"California\", \"New cases\": 8}, {\"Date\": \"2/18/20\", \"Province_State\": \"California\", \"New cases\": 8}, {\"Date\": \"2/19/20\", \"Province_State\": \"California\", \"New cases\": 8}, {\"Date\": \"2/2/20\", \"Province_State\": \"California\", \"New cases\": 3}, {\"Date\": \"2/20/20\", \"Province_State\": \"California\", \"New cases\": 8}, {\"Date\": \"2/21/20\", \"Province_State\": \"California\", \"New cases\": 10}, {\"Date\": \"2/22/20\", \"Province_State\": \"California\", \"New cases\": 10}, {\"Date\": \"2/23/20\", \"Province_State\": \"California\", \"New cases\": 10}, {\"Date\": \"2/24/20\", \"Province_State\": \"California\", \"New cases\": 10}, {\"Date\": \"2/25/20\", \"Province_State\": \"California\", \"New cases\": 10}, {\"Date\": \"2/26/20\", \"Province_State\": \"California\", \"New cases\": 10}, {\"Date\": \"2/27/20\", \"Province_State\": \"California\", \"New cases\": 11}, {\"Date\": \"2/28/20\", \"Province_State\": \"California\", \"New cases\": 11}, {\"Date\": \"2/29/20\", \"Province_State\": \"California\", \"New cases\": 12}, {\"Date\": \"2/3/20\", \"Province_State\": \"California\", \"New cases\": 6}, {\"Date\": \"2/4/20\", \"Province_State\": \"California\", \"New cases\": 6}, {\"Date\": \"2/5/20\", \"Province_State\": \"California\", \"New cases\": 6}, {\"Date\": \"2/6/20\", \"Province_State\": \"California\", \"New cases\": 6}, {\"Date\": \"2/7/20\", \"Province_State\": \"California\", \"New cases\": 6}, {\"Date\": \"2/8/20\", \"Province_State\": \"California\", \"New cases\": 6}, {\"Date\": \"2/9/20\", \"Province_State\": \"California\", \"New cases\": 6}, {\"Date\": \"3/1/20\", \"Province_State\": \"California\", \"New cases\": 12}, {\"Date\": \"3/10/20\", \"Province_State\": \"California\", \"New cases\": 144}, {\"Date\": \"3/11/20\", \"Province_State\": \"California\", \"New cases\": 178}, {\"Date\": \"3/12/20\", \"Province_State\": \"California\", \"New cases\": 221}, {\"Date\": \"3/13/20\", \"Province_State\": \"California\", \"New cases\": 281}, {\"Date\": \"3/14/20\", \"Province_State\": \"California\", \"New cases\": 372}, {\"Date\": \"3/15/20\", \"Province_State\": \"California\", \"New cases\": 373}, {\"Date\": \"3/16/20\", \"Province_State\": \"California\", \"New cases\": 557}, {\"Date\": \"3/17/20\", \"Province_State\": \"California\", \"New cases\": 700}, {\"Date\": \"3/18/20\", \"Province_State\": \"California\", \"New cases\": 831}, {\"Date\": \"3/19/20\", \"Province_State\": \"California\", \"New cases\": 1009}, {\"Date\": \"3/2/20\", \"Province_State\": \"California\", \"New cases\": 21}, {\"Date\": \"3/20/20\", \"Province_State\": \"California\", \"New cases\": 1243}, {\"Date\": \"3/21/20\", \"Province_State\": \"California\", \"New cases\": 1412}, {\"Date\": \"3/22/20\", \"Province_State\": \"California\", \"New cases\": 1651}, {\"Date\": \"3/23/20\", \"Province_State\": \"California\", \"New cases\": 2113}, {\"Date\": \"3/24/20\", \"Province_State\": \"California\", \"New cases\": 2542}, {\"Date\": \"3/25/20\", \"Province_State\": \"California\", \"New cases\": 3009}, {\"Date\": \"3/26/20\", \"Province_State\": \"California\", \"New cases\": 3910}, {\"Date\": \"3/27/20\", \"Province_State\": \"California\", \"New cases\": 4679}, {\"Date\": \"3/28/20\", \"Province_State\": \"California\", \"New cases\": 5110}, {\"Date\": \"3/29/20\", \"Province_State\": \"California\", \"New cases\": 5863}, {\"Date\": \"3/3/20\", \"Province_State\": \"California\", \"New cases\": 25}, {\"Date\": \"3/30/20\", \"Province_State\": \"California\", \"New cases\": 7155}, {\"Date\": \"3/31/20\", \"Province_State\": \"California\", \"New cases\": 8233}, {\"Date\": \"3/4/20\", \"Province_State\": \"California\", \"New cases\": 35}, {\"Date\": \"3/5/20\", \"Province_State\": \"California\", \"New cases\": 51}, {\"Date\": \"3/6/20\", \"Province_State\": \"California\", \"New cases\": 59}, {\"Date\": \"3/7/20\", \"Province_State\": \"California\", \"New cases\": 81}, {\"Date\": \"3/8/20\", \"Province_State\": \"California\", \"New cases\": 95}, {\"Date\": \"3/9/20\", \"Province_State\": \"California\", \"New cases\": 101}, {\"Date\": \"4/1/20\", \"Province_State\": \"California\", \"New cases\": 9410}, {\"Date\": \"4/10/20\", \"Province_State\": \"California\", \"New cases\": 21081}, {\"Date\": \"4/11/20\", \"Province_State\": \"California\", \"New cases\": 21717}, {\"Date\": \"4/12/20\", \"Province_State\": \"California\", \"New cases\": 22800}, {\"Date\": \"4/13/20\", \"Province_State\": \"California\", \"New cases\": 23934}, {\"Date\": \"4/14/20\", \"Province_State\": \"California\", \"New cases\": 25389}, {\"Date\": \"4/15/20\", \"Province_State\": \"California\", \"New cases\": 26686}, {\"Date\": \"4/16/20\", \"Province_State\": \"California\", \"New cases\": 27677}, {\"Date\": \"4/17/20\", \"Province_State\": \"California\", \"New cases\": 29157}, {\"Date\": \"4/18/20\", \"Province_State\": \"California\", \"New cases\": 30511}, {\"Date\": \"4/19/20\", \"Province_State\": \"California\", \"New cases\": 31431}, {\"Date\": \"4/2/20\", \"Province_State\": \"California\", \"New cases\": 10790}, {\"Date\": \"4/20/20\", \"Province_State\": \"California\", \"New cases\": 33686}, {\"Date\": \"4/21/20\", \"Province_State\": \"California\", \"New cases\": 35480}, {\"Date\": \"4/22/20\", \"Province_State\": \"California\", \"New cases\": 37352}, {\"Date\": \"4/23/20\", \"Province_State\": \"California\", \"New cases\": 39561}, {\"Date\": \"4/24/20\", \"Province_State\": \"California\", \"New cases\": 41355}, {\"Date\": \"4/25/20\", \"Province_State\": \"California\", \"New cases\": 42368}, {\"Date\": \"4/26/20\", \"Province_State\": \"California\", \"New cases\": 43559}, {\"Date\": \"4/27/20\", \"Province_State\": \"California\", \"New cases\": 44972}, {\"Date\": \"4/28/20\", \"Province_State\": \"California\", \"New cases\": 46164}, {\"Date\": \"4/29/20\", \"Province_State\": \"California\", \"New cases\": 48747}, {\"Date\": \"4/3/20\", \"Province_State\": \"California\", \"New cases\": 12016}, {\"Date\": \"4/30/20\", \"Province_State\": \"California\", \"New cases\": 50130}, {\"Date\": \"4/4/20\", \"Province_State\": \"California\", \"New cases\": 12837}, {\"Date\": \"4/5/20\", \"Province_State\": \"California\", \"New cases\": 15034}, {\"Date\": \"4/6/20\", \"Province_State\": \"California\", \"New cases\": 16024}, {\"Date\": \"4/7/20\", \"Province_State\": \"California\", \"New cases\": 17351}, {\"Date\": \"4/8/20\", \"Province_State\": \"California\", \"New cases\": 18897}, {\"Date\": \"4/9/20\", \"Province_State\": \"California\", \"New cases\": 19710}, {\"Date\": \"5/1/20\", \"Province_State\": \"California\", \"New cases\": 52026}, {\"Date\": \"5/10/20\", \"Province_State\": \"California\", \"New cases\": 67600}, {\"Date\": \"5/11/20\", \"Province_State\": \"California\", \"New cases\": 69329}, {\"Date\": \"5/12/20\", \"Province_State\": \"California\", \"New cases\": 70980}, {\"Date\": \"5/13/20\", \"Province_State\": \"California\", \"New cases\": 72798}, {\"Date\": \"5/14/20\", \"Province_State\": \"California\", \"New cases\": 74871}, {\"Date\": \"5/15/20\", \"Province_State\": \"California\", \"New cases\": 76693}, {\"Date\": \"5/16/20\", \"Province_State\": \"California\", \"New cases\": 78725}, {\"Date\": \"5/17/20\", \"Province_State\": \"California\", \"New cases\": 80166}, {\"Date\": \"5/18/20\", \"Province_State\": \"California\", \"New cases\": 81518}, {\"Date\": \"5/19/20\", \"Province_State\": \"California\", \"New cases\": 83764}, {\"Date\": \"5/2/20\", \"Province_State\": \"California\", \"New cases\": 53347}, {\"Date\": \"5/20/20\", \"Province_State\": \"California\", \"New cases\": 86018}, {\"Date\": \"5/21/20\", \"Province_State\": \"California\", \"New cases\": 88056}, {\"Date\": \"5/22/20\", \"Province_State\": \"California\", \"New cases\": 90281}, {\"Date\": \"5/23/20\", \"Province_State\": \"California\", \"New cases\": 92564}, {\"Date\": \"5/24/20\", \"Province_State\": \"California\", \"New cases\": 94069}, {\"Date\": \"5/25/20\", \"Province_State\": \"California\", \"New cases\": 96470}, {\"Date\": \"5/26/20\", \"Province_State\": \"California\", \"New cases\": 99492}, {\"Date\": \"5/27/20\", \"Province_State\": \"California\", \"New cases\": 101071}, {\"Date\": \"5/28/20\", \"Province_State\": \"California\", \"New cases\": 103813}, {\"Date\": \"5/29/20\", \"Province_State\": \"California\", \"New cases\": 106638}, {\"Date\": \"5/3/20\", \"Province_State\": \"California\", \"New cases\": 54903}, {\"Date\": \"5/30/20\", \"Province_State\": \"California\", \"New cases\": 109895}, {\"Date\": \"5/31/20\", \"Province_State\": \"California\", \"New cases\": 111951}, {\"Date\": \"5/4/20\", \"Province_State\": \"California\", \"New cases\": 55884}, {\"Date\": \"5/5/20\", \"Province_State\": \"California\", \"New cases\": 58456}, {\"Date\": \"5/6/20\", \"Province_State\": \"California\", \"New cases\": 60616}, {\"Date\": \"5/7/20\", \"Province_State\": \"California\", \"New cases\": 62148}, {\"Date\": \"5/8/20\", \"Province_State\": \"California\", \"New cases\": 63800}, {\"Date\": \"5/9/20\", \"Province_State\": \"California\", \"New cases\": 66572}, {\"Date\": \"6/1/20\", \"Province_State\": \"California\", \"New cases\": 114733}, {\"Date\": \"6/10/20\", \"Province_State\": \"California\", \"New cases\": 139715}, {\"Date\": \"6/11/20\", \"Province_State\": \"California\", \"New cases\": 143439}, {\"Date\": \"6/12/20\", \"Province_State\": \"California\", \"New cases\": 146659}, {\"Date\": \"6/13/20\", \"Province_State\": \"California\", \"New cases\": 150034}, {\"Date\": \"6/14/20\", \"Province_State\": \"California\", \"New cases\": 152349}, {\"Date\": \"6/15/20\", \"Province_State\": \"California\", \"New cases\": 155726}, {\"Date\": \"6/16/20\", \"Province_State\": \"California\", \"New cases\": 158961}, {\"Date\": \"6/17/20\", \"Province_State\": \"California\", \"New cases\": 162798}, {\"Date\": \"6/18/20\", \"Province_State\": \"California\", \"New cases\": 167133}, {\"Date\": \"6/19/20\", \"Province_State\": \"California\", \"New cases\": 170862}, {\"Date\": \"6/2/20\", \"Province_State\": \"California\", \"New cases\": 117215}, {\"Date\": \"6/20/20\", \"Province_State\": \"California\", \"New cases\": 175243}, {\"Date\": \"6/21/20\", \"Province_State\": \"California\", \"New cases\": 178657}, {\"Date\": \"6/22/20\", \"Province_State\": \"California\", \"New cases\": 184765}, {\"Date\": \"6/23/20\", \"Province_State\": \"California\", \"New cases\": 191477}, {\"Date\": \"6/24/20\", \"Province_State\": \"California\", \"New cases\": 196024}, {\"Date\": \"6/25/20\", \"Province_State\": \"California\", \"New cases\": 201112}, {\"Date\": \"6/26/20\", \"Province_State\": \"California\", \"New cases\": 206844}, {\"Date\": \"6/27/20\", \"Province_State\": \"California\", \"New cases\": 210692}, {\"Date\": \"6/28/20\", \"Province_State\": \"California\", \"New cases\": 215487}, {\"Date\": \"6/29/20\", \"Province_State\": \"California\", \"New cases\": 223646}, {\"Date\": \"6/3/20\", \"Province_State\": \"California\", \"New cases\": 119374}, {\"Date\": \"6/30/20\", \"Province_State\": \"California\", \"New cases\": 231418}, {\"Date\": \"6/4/20\", \"Province_State\": \"California\", \"New cases\": 122194}, {\"Date\": \"6/5/20\", \"Province_State\": \"California\", \"New cases\": 125783}, {\"Date\": \"6/6/20\", \"Province_State\": \"California\", \"New cases\": 128606}, {\"Date\": \"6/7/20\", \"Province_State\": \"California\", \"New cases\": 130657}, {\"Date\": \"6/8/20\", \"Province_State\": \"California\", \"New cases\": 133816}, {\"Date\": \"6/9/20\", \"Province_State\": \"California\", \"New cases\": 136681}, {\"Date\": \"7/1/20\", \"Province_State\": \"California\", \"New cases\": 238681}, {\"Date\": \"7/10/20\", \"Province_State\": \"California\", \"New cases\": 310885}, {\"Date\": \"7/11/20\", \"Province_State\": \"California\", \"New cases\": 318761}, {\"Date\": \"7/12/20\", \"Province_State\": \"California\", \"New cases\": 324543}, {\"Date\": \"7/13/20\", \"Province_State\": \"California\", \"New cases\": 333357}, {\"Date\": \"7/14/20\", \"Province_State\": \"California\", \"New cases\": 346211}, {\"Date\": \"7/15/20\", \"Province_State\": \"California\", \"New cases\": 354885}, {\"Date\": \"7/16/20\", \"Province_State\": \"California\", \"New cases\": 364706}, {\"Date\": \"7/17/20\", \"Province_State\": \"California\", \"New cases\": 373259}, {\"Date\": \"7/18/20\", \"Province_State\": \"California\", \"New cases\": 380745}, {\"Date\": \"7/19/20\", \"Province_State\": \"California\", \"New cases\": 386906}, {\"Date\": \"7/2/20\", \"Province_State\": \"California\", \"New cases\": 246550}, {\"Date\": \"7/20/20\", \"Province_State\": \"California\", \"New cases\": 397870}, {\"Date\": \"7/21/20\", \"Province_State\": \"California\", \"New cases\": 409305}, {\"Date\": \"7/22/20\", \"Province_State\": \"California\", \"New cases\": 421286}, {\"Date\": \"7/23/20\", \"Province_State\": \"California\", \"New cases\": 430773}, {\"Date\": \"7/24/20\", \"Province_State\": \"California\", \"New cases\": 440185}, {\"Date\": \"7/25/20\", \"Province_State\": \"California\", \"New cases\": 446452}, {\"Date\": \"7/26/20\", \"Province_State\": \"California\", \"New cases\": 452288}, {\"Date\": \"7/27/20\", \"Province_State\": \"California\", \"New cases\": 458121}, {\"Date\": \"7/28/20\", \"Province_State\": \"California\", \"New cases\": 470762}, {\"Date\": \"7/29/20\", \"Province_State\": \"California\", \"New cases\": 484913}, {\"Date\": \"7/3/20\", \"Province_State\": \"California\", \"New cases\": 250514}, {\"Date\": \"7/30/20\", \"Province_State\": \"California\", \"New cases\": 492934}, {\"Date\": \"7/31/20\", \"Province_State\": \"California\", \"New cases\": 500556}, {\"Date\": \"7/4/20\", \"Province_State\": \"California\", \"New cases\": 252895}, {\"Date\": \"7/5/20\", \"Province_State\": \"California\", \"New cases\": 264681}, {\"Date\": \"7/6/20\", \"Province_State\": \"California\", \"New cases\": 271035}, {\"Date\": \"7/7/20\", \"Province_State\": \"California\", \"New cases\": 284012}, {\"Date\": \"7/8/20\", \"Province_State\": \"California\", \"New cases\": 292560}, {\"Date\": \"7/9/20\", \"Province_State\": \"California\", \"New cases\": 302484}, {\"Date\": \"8/1/20\", \"Province_State\": \"California\", \"New cases\": 506613}, {\"Date\": \"8/10/20\", \"Province_State\": \"California\", \"New cases\": 574231}, {\"Date\": \"8/11/20\", \"Province_State\": \"California\", \"New cases\": 578946}, {\"Date\": \"8/12/20\", \"Province_State\": \"California\", \"New cases\": 591376}, {\"Date\": \"8/13/20\", \"Province_State\": \"California\", \"New cases\": 597984}, {\"Date\": \"8/2/20\", \"Province_State\": \"California\", \"New cases\": 512175}, {\"Date\": \"8/3/20\", \"Province_State\": \"California\", \"New cases\": 516851}, {\"Date\": \"8/4/20\", \"Province_State\": \"California\", \"New cases\": 526685}, {\"Date\": \"8/5/20\", \"Province_State\": \"California\", \"New cases\": 530606}, {\"Date\": \"8/6/20\", \"Province_State\": \"California\", \"New cases\": 541339}, {\"Date\": \"8/7/20\", \"Province_State\": \"California\", \"New cases\": 546814}, {\"Date\": \"8/8/20\", \"Province_State\": \"California\", \"New cases\": 554388}, {\"Date\": \"8/9/20\", \"Province_State\": \"California\", \"New cases\": 559746}]}}, {\"mode\": \"vega-lite\"});\n",
              "</script>"
            ]
          },
          "metadata": {
            "tags": []
          },
          "execution_count": 111
        }
      ]
    },
    {
      "cell_type": "code",
      "metadata": {
        "colab_type": "code",
        "id": "nSqdbk8o-bHz",
        "colab": {
          "base_uri": "https://localhost:8080/",
          "height": 408
        },
        "outputId": "87d4c8c6-36a4-4f3f-825a-7bdb434af7e0"
      },
      "source": [
        "#base_ny.encode(y='Confirmed').properties(title='Total Confirmed') | base_ny.encode(y='Deaths',color = red).properties(title='Total deaths')\n",
        "\n",
        "base_ny.encode(y='New cases').properties(title='New cases')\n"
      ],
      "execution_count": 112,
      "outputs": [
        {
          "output_type": "execute_result",
          "data": {
            "text/plain": [
              "alt.Chart(...)"
            ],
            "text/html": [
              "\n",
              "<div id=\"altair-viz-2822024c1eab48e18477e573f7e723de\"></div>\n",
              "<script type=\"text/javascript\">\n",
              "  (function(spec, embedOpt){\n",
              "    let outputDiv = document.currentScript.previousElementSibling;\n",
              "    if (outputDiv.id !== \"altair-viz-2822024c1eab48e18477e573f7e723de\") {\n",
              "      outputDiv = document.getElementById(\"altair-viz-2822024c1eab48e18477e573f7e723de\");\n",
              "    }\n",
              "    const paths = {\n",
              "      \"vega\": \"https://cdn.jsdelivr.net/npm//vega@5?noext\",\n",
              "      \"vega-lib\": \"https://cdn.jsdelivr.net/npm//vega-lib?noext\",\n",
              "      \"vega-lite\": \"https://cdn.jsdelivr.net/npm//vega-lite@4.8.1?noext\",\n",
              "      \"vega-embed\": \"https://cdn.jsdelivr.net/npm//vega-embed@6?noext\",\n",
              "    };\n",
              "\n",
              "    function loadScript(lib) {\n",
              "      return new Promise(function(resolve, reject) {\n",
              "        var s = document.createElement('script');\n",
              "        s.src = paths[lib];\n",
              "        s.async = true;\n",
              "        s.onload = () => resolve(paths[lib]);\n",
              "        s.onerror = () => reject(`Error loading script: ${paths[lib]}`);\n",
              "        document.getElementsByTagName(\"head\")[0].appendChild(s);\n",
              "      });\n",
              "    }\n",
              "\n",
              "    function showError(err) {\n",
              "      outputDiv.innerHTML = `<div class=\"error\" style=\"color:red;\">${err}</div>`;\n",
              "      throw err;\n",
              "    }\n",
              "\n",
              "    function displayChart(vegaEmbed) {\n",
              "      vegaEmbed(outputDiv, spec, embedOpt)\n",
              "        .catch(err => showError(`Javascript Error: ${err.message}<br>This usually means there's a typo in your chart specification. See the javascript console for the full traceback.`));\n",
              "    }\n",
              "\n",
              "    if(typeof define === \"function\" && define.amd) {\n",
              "      requirejs.config({paths});\n",
              "      require([\"vega-embed\"], displayChart, err => showError(`Error loading script: ${err.message}`));\n",
              "    } else if (typeof vegaEmbed === \"function\") {\n",
              "      displayChart(vegaEmbed);\n",
              "    } else {\n",
              "      loadScript(\"vega\")\n",
              "        .then(() => loadScript(\"vega-lite\"))\n",
              "        .then(() => loadScript(\"vega-embed\"))\n",
              "        .catch(showError)\n",
              "        .then(() => displayChart(vegaEmbed));\n",
              "    }\n",
              "  })({\"config\": {\"view\": {\"continuousWidth\": 400, \"continuousHeight\": 300}}, \"data\": {\"name\": \"data-65deab8214992c771b184fe59b19f798\"}, \"mark\": \"bar\", \"encoding\": {\"x\": {\"type\": \"ordinal\", \"field\": \"Date\", \"timeUnit\": \"monthdate\"}, \"y\": {\"type\": \"quantitative\", \"field\": \"New cases\"}}, \"title\": \"New cases\", \"width\": 500, \"$schema\": \"https://vega.github.io/schema/vega-lite/v4.8.1.json\", \"datasets\": {\"data-65deab8214992c771b184fe59b19f798\": [{\"Date\": \"1/22/20\", \"Province_State\": \"New York\", \"New cases\": 0}, {\"Date\": \"1/23/20\", \"Province_State\": \"New York\", \"New cases\": 0}, {\"Date\": \"1/24/20\", \"Province_State\": \"New York\", \"New cases\": 0}, {\"Date\": \"1/25/20\", \"Province_State\": \"New York\", \"New cases\": 0}, {\"Date\": \"1/26/20\", \"Province_State\": \"New York\", \"New cases\": 0}, {\"Date\": \"1/27/20\", \"Province_State\": \"New York\", \"New cases\": 0}, {\"Date\": \"1/28/20\", \"Province_State\": \"New York\", \"New cases\": 0}, {\"Date\": \"1/29/20\", \"Province_State\": \"New York\", \"New cases\": 0}, {\"Date\": \"1/30/20\", \"Province_State\": \"New York\", \"New cases\": 0}, {\"Date\": \"1/31/20\", \"Province_State\": \"New York\", \"New cases\": 0}, {\"Date\": \"2/1/20\", \"Province_State\": \"New York\", \"New cases\": 0}, {\"Date\": \"2/10/20\", \"Province_State\": \"New York\", \"New cases\": 0}, {\"Date\": \"2/11/20\", \"Province_State\": \"New York\", \"New cases\": 0}, {\"Date\": \"2/12/20\", \"Province_State\": \"New York\", \"New cases\": 0}, {\"Date\": \"2/13/20\", \"Province_State\": \"New York\", \"New cases\": 0}, {\"Date\": \"2/14/20\", \"Province_State\": \"New York\", \"New cases\": 0}, {\"Date\": \"2/15/20\", \"Province_State\": \"New York\", \"New cases\": 0}, {\"Date\": \"2/16/20\", \"Province_State\": \"New York\", \"New cases\": 0}, {\"Date\": \"2/17/20\", \"Province_State\": \"New York\", \"New cases\": 0}, {\"Date\": \"2/18/20\", \"Province_State\": \"New York\", \"New cases\": 0}, {\"Date\": \"2/19/20\", \"Province_State\": \"New York\", \"New cases\": 0}, {\"Date\": \"2/2/20\", \"Province_State\": \"New York\", \"New cases\": 0}, {\"Date\": \"2/20/20\", \"Province_State\": \"New York\", \"New cases\": 0}, {\"Date\": \"2/21/20\", \"Province_State\": \"New York\", \"New cases\": 0}, {\"Date\": \"2/22/20\", \"Province_State\": \"New York\", \"New cases\": 0}, {\"Date\": \"2/23/20\", \"Province_State\": \"New York\", \"New cases\": 0}, {\"Date\": \"2/24/20\", \"Province_State\": \"New York\", \"New cases\": 0}, {\"Date\": \"2/25/20\", \"Province_State\": \"New York\", \"New cases\": 0}, {\"Date\": \"2/26/20\", \"Province_State\": \"New York\", \"New cases\": 0}, {\"Date\": \"2/27/20\", \"Province_State\": \"New York\", \"New cases\": 0}, {\"Date\": \"2/28/20\", \"Province_State\": \"New York\", \"New cases\": 0}, {\"Date\": \"2/29/20\", \"Province_State\": \"New York\", \"New cases\": 0}, {\"Date\": \"2/3/20\", \"Province_State\": \"New York\", \"New cases\": 0}, {\"Date\": \"2/4/20\", \"Province_State\": \"New York\", \"New cases\": 0}, {\"Date\": \"2/5/20\", \"Province_State\": \"New York\", \"New cases\": 0}, {\"Date\": \"2/6/20\", \"Province_State\": \"New York\", \"New cases\": 0}, {\"Date\": \"2/7/20\", \"Province_State\": \"New York\", \"New cases\": 0}, {\"Date\": \"2/8/20\", \"Province_State\": \"New York\", \"New cases\": 0}, {\"Date\": \"2/9/20\", \"Province_State\": \"New York\", \"New cases\": 0}, {\"Date\": \"3/1/20\", \"Province_State\": \"New York\", \"New cases\": 0}, {\"Date\": \"3/10/20\", \"Province_State\": \"New York\", \"New cases\": 150}, {\"Date\": \"3/11/20\", \"Province_State\": \"New York\", \"New cases\": 220}, {\"Date\": \"3/12/20\", \"Province_State\": \"New York\", \"New cases\": 327}, {\"Date\": \"3/13/20\", \"Province_State\": \"New York\", \"New cases\": 421}, {\"Date\": \"3/14/20\", \"Province_State\": \"New York\", \"New cases\": 613}, {\"Date\": \"3/15/20\", \"Province_State\": \"New York\", \"New cases\": 615}, {\"Date\": \"3/16/20\", \"Province_State\": \"New York\", \"New cases\": 967}, {\"Date\": \"3/17/20\", \"Province_State\": \"New York\", \"New cases\": 1578}, {\"Date\": \"3/18/20\", \"Province_State\": \"New York\", \"New cases\": 3038}, {\"Date\": \"3/19/20\", \"Province_State\": \"New York\", \"New cases\": 5704}, {\"Date\": \"3/2/20\", \"Province_State\": \"New York\", \"New cases\": 1}, {\"Date\": \"3/20/20\", \"Province_State\": \"New York\", \"New cases\": 8403}, {\"Date\": \"3/21/20\", \"Province_State\": \"New York\", \"New cases\": 11727}, {\"Date\": \"3/22/20\", \"Province_State\": \"New York\", \"New cases\": 15800}, {\"Date\": \"3/23/20\", \"Province_State\": \"New York\", \"New cases\": 20884}, {\"Date\": \"3/24/20\", \"Province_State\": \"New York\", \"New cases\": 25681}, {\"Date\": \"3/25/20\", \"Province_State\": \"New York\", \"New cases\": 30841}, {\"Date\": \"3/26/20\", \"Province_State\": \"New York\", \"New cases\": 37877}, {\"Date\": \"3/27/20\", \"Province_State\": \"New York\", \"New cases\": 44876}, {\"Date\": \"3/28/20\", \"Province_State\": \"New York\", \"New cases\": 52410}, {\"Date\": \"3/29/20\", \"Province_State\": \"New York\", \"New cases\": 59648}, {\"Date\": \"3/3/20\", \"Province_State\": \"New York\", \"New cases\": 2}, {\"Date\": \"3/30/20\", \"Province_State\": \"New York\", \"New cases\": 66663}, {\"Date\": \"3/31/20\", \"Province_State\": \"New York\", \"New cases\": 75833}, {\"Date\": \"3/4/20\", \"Province_State\": \"New York\", \"New cases\": 11}, {\"Date\": \"3/5/20\", \"Province_State\": \"New York\", \"New cases\": 23}, {\"Date\": \"3/6/20\", \"Province_State\": \"New York\", \"New cases\": 31}, {\"Date\": \"3/7/20\", \"Province_State\": \"New York\", \"New cases\": 76}, {\"Date\": \"3/8/20\", \"Province_State\": \"New York\", \"New cases\": 106}, {\"Date\": \"3/9/20\", \"Province_State\": \"New York\", \"New cases\": 142}, {\"Date\": \"4/1/20\", \"Province_State\": \"New York\", \"New cases\": 83948}, {\"Date\": \"4/10/20\", \"Province_State\": \"New York\", \"New cases\": 172348}, {\"Date\": \"4/11/20\", \"Province_State\": \"New York\", \"New cases\": 181026}, {\"Date\": \"4/12/20\", \"Province_State\": \"New York\", \"New cases\": 189033}, {\"Date\": \"4/13/20\", \"Province_State\": \"New York\", \"New cases\": 195749}, {\"Date\": \"4/14/20\", \"Province_State\": \"New York\", \"New cases\": 203020}, {\"Date\": \"4/15/20\", \"Province_State\": \"New York\", \"New cases\": 214454}, {\"Date\": \"4/16/20\", \"Province_State\": \"New York\", \"New cases\": 223691}, {\"Date\": \"4/17/20\", \"Province_State\": \"New York\", \"New cases\": 230597}, {\"Date\": \"4/18/20\", \"Province_State\": \"New York\", \"New cases\": 237474}, {\"Date\": \"4/19/20\", \"Province_State\": \"New York\", \"New cases\": 243382}, {\"Date\": \"4/2/20\", \"Province_State\": \"New York\", \"New cases\": 92506}, {\"Date\": \"4/20/20\", \"Province_State\": \"New York\", \"New cases\": 248416}, {\"Date\": \"4/21/20\", \"Province_State\": \"New York\", \"New cases\": 253519}, {\"Date\": \"4/22/20\", \"Province_State\": \"New York\", \"New cases\": 258222}, {\"Date\": \"4/23/20\", \"Province_State\": \"New York\", \"New cases\": 263460}, {\"Date\": \"4/24/20\", \"Province_State\": \"New York\", \"New cases\": 271590}, {\"Date\": \"4/25/20\", \"Province_State\": \"New York\", \"New cases\": 282143}, {\"Date\": \"4/26/20\", \"Province_State\": \"New York\", \"New cases\": 288045}, {\"Date\": \"4/27/20\", \"Province_State\": \"New York\", \"New cases\": 291996}, {\"Date\": \"4/28/20\", \"Province_State\": \"New York\", \"New cases\": 295106}, {\"Date\": \"4/29/20\", \"Province_State\": \"New York\", \"New cases\": 299691}, {\"Date\": \"4/3/20\", \"Province_State\": \"New York\", \"New cases\": 102987}, {\"Date\": \"4/30/20\", \"Province_State\": \"New York\", \"New cases\": 304372}, {\"Date\": \"4/4/20\", \"Province_State\": \"New York\", \"New cases\": 113833}, {\"Date\": \"4/5/20\", \"Province_State\": \"New York\", \"New cases\": 123160}, {\"Date\": \"4/6/20\", \"Province_State\": \"New York\", \"New cases\": 131815}, {\"Date\": \"4/7/20\", \"Province_State\": \"New York\", \"New cases\": 139875}, {\"Date\": \"4/8/20\", \"Province_State\": \"New York\", \"New cases\": 151061}, {\"Date\": \"4/9/20\", \"Province_State\": \"New York\", \"New cases\": 161779}, {\"Date\": \"5/1/20\", \"Province_State\": \"New York\", \"New cases\": 308314}, {\"Date\": \"5/10/20\", \"Province_State\": \"New York\", \"New cases\": 335395}, {\"Date\": \"5/11/20\", \"Province_State\": \"New York\", \"New cases\": 337055}, {\"Date\": \"5/12/20\", \"Province_State\": \"New York\", \"New cases\": 338485}, {\"Date\": \"5/13/20\", \"Province_State\": \"New York\", \"New cases\": 340661}, {\"Date\": \"5/14/20\", \"Province_State\": \"New York\", \"New cases\": 343051}, {\"Date\": \"5/15/20\", \"Province_State\": \"New York\", \"New cases\": 345813}, {\"Date\": \"5/16/20\", \"Province_State\": \"New York\", \"New cases\": 348232}, {\"Date\": \"5/17/20\", \"Province_State\": \"New York\", \"New cases\": 350121}, {\"Date\": \"5/18/20\", \"Province_State\": \"New York\", \"New cases\": 351371}, {\"Date\": \"5/19/20\", \"Province_State\": \"New York\", \"New cases\": 352845}, {\"Date\": \"5/2/20\", \"Province_State\": \"New York\", \"New cases\": 312977}, {\"Date\": \"5/20/20\", \"Province_State\": \"New York\", \"New cases\": 354370}, {\"Date\": \"5/21/20\", \"Province_State\": \"New York\", \"New cases\": 356458}, {\"Date\": \"5/22/20\", \"Province_State\": \"New York\", \"New cases\": 358154}, {\"Date\": \"5/23/20\", \"Province_State\": \"New York\", \"New cases\": 359926}, {\"Date\": \"5/24/20\", \"Province_State\": \"New York\", \"New cases\": 361515}, {\"Date\": \"5/25/20\", \"Province_State\": \"New York\", \"New cases\": 362764}, {\"Date\": \"5/26/20\", \"Province_State\": \"New York\", \"New cases\": 363836}, {\"Date\": \"5/27/20\", \"Province_State\": \"New York\", \"New cases\": 364965}, {\"Date\": \"5/28/20\", \"Province_State\": \"New York\", \"New cases\": 366733}, {\"Date\": \"5/29/20\", \"Province_State\": \"New York\", \"New cases\": 368284}, {\"Date\": \"5/3/20\", \"Province_State\": \"New York\", \"New cases\": 316415}, {\"Date\": \"5/30/20\", \"Province_State\": \"New York\", \"New cases\": 369660}, {\"Date\": \"5/31/20\", \"Province_State\": \"New York\", \"New cases\": 370770}, {\"Date\": \"5/4/20\", \"Province_State\": \"New York\", \"New cases\": 318953}, {\"Date\": \"5/5/20\", \"Province_State\": \"New York\", \"New cases\": 321192}, {\"Date\": \"5/6/20\", \"Province_State\": \"New York\", \"New cases\": 323978}, {\"Date\": \"5/7/20\", \"Province_State\": \"New York\", \"New cases\": 327469}, {\"Date\": \"5/8/20\", \"Province_State\": \"New York\", \"New cases\": 330407}, {\"Date\": \"5/9/20\", \"Province_State\": \"New York\", \"New cases\": 333122}, {\"Date\": \"6/1/20\", \"Province_State\": \"New York\", \"New cases\": 371711}, {\"Date\": \"6/10/20\", \"Province_State\": \"New York\", \"New cases\": 380156}, {\"Date\": \"6/11/20\", \"Province_State\": \"New York\", \"New cases\": 380892}, {\"Date\": \"6/12/20\", \"Province_State\": \"New York\", \"New cases\": 381714}, {\"Date\": \"6/13/20\", \"Province_State\": \"New York\", \"New cases\": 382630}, {\"Date\": \"6/14/20\", \"Province_State\": \"New York\", \"New cases\": 383324}, {\"Date\": \"6/15/20\", \"Province_State\": \"New York\", \"New cases\": 383944}, {\"Date\": \"6/16/20\", \"Province_State\": \"New York\", \"New cases\": 384575}, {\"Date\": \"6/17/20\", \"Province_State\": \"New York\", \"New cases\": 385142}, {\"Date\": \"6/18/20\", \"Province_State\": \"New York\", \"New cases\": 385760}, {\"Date\": \"6/19/20\", \"Province_State\": \"New York\", \"New cases\": 386556}, {\"Date\": \"6/2/20\", \"Province_State\": \"New York\", \"New cases\": 373040}, {\"Date\": \"6/20/20\", \"Province_State\": \"New York\", \"New cases\": 387272}, {\"Date\": \"6/21/20\", \"Province_State\": \"New York\", \"New cases\": 387936}, {\"Date\": \"6/22/20\", \"Province_State\": \"New York\", \"New cases\": 388488}, {\"Date\": \"6/23/20\", \"Province_State\": \"New York\", \"New cases\": 389085}, {\"Date\": \"6/24/20\", \"Province_State\": \"New York\", \"New cases\": 389666}, {\"Date\": \"6/25/20\", \"Province_State\": \"New York\", \"New cases\": 390415}, {\"Date\": \"6/26/20\", \"Province_State\": \"New York\", \"New cases\": 391220}, {\"Date\": \"6/27/20\", \"Province_State\": \"New York\", \"New cases\": 391923}, {\"Date\": \"6/28/20\", \"Province_State\": \"New York\", \"New cases\": 392539}, {\"Date\": \"6/29/20\", \"Province_State\": \"New York\", \"New cases\": 392930}, {\"Date\": \"6/3/20\", \"Province_State\": \"New York\", \"New cases\": 374085}, {\"Date\": \"6/30/20\", \"Province_State\": \"New York\", \"New cases\": 393454}, {\"Date\": \"6/4/20\", \"Province_State\": \"New York\", \"New cases\": 375133}, {\"Date\": \"6/5/20\", \"Province_State\": \"New York\", \"New cases\": 376208}, {\"Date\": \"6/6/20\", \"Province_State\": \"New York\", \"New cases\": 377316}, {\"Date\": \"6/7/20\", \"Province_State\": \"New York\", \"New cases\": 378097}, {\"Date\": \"6/8/20\", \"Province_State\": \"New York\", \"New cases\": 378799}, {\"Date\": \"6/9/20\", \"Province_State\": \"New York\", \"New cases\": 379482}, {\"Date\": \"7/1/20\", \"Province_State\": \"New York\", \"New cases\": 394079}, {\"Date\": \"7/10/20\", \"Province_State\": \"New York\", \"New cases\": 400299}, {\"Date\": \"7/11/20\", \"Province_State\": \"New York\", \"New cases\": 401029}, {\"Date\": \"7/12/20\", \"Province_State\": \"New York\", \"New cases\": 401706}, {\"Date\": \"7/13/20\", \"Province_State\": \"New York\", \"New cases\": 402263}, {\"Date\": \"7/14/20\", \"Province_State\": \"New York\", \"New cases\": 403175}, {\"Date\": \"7/15/20\", \"Province_State\": \"New York\", \"New cases\": 404006}, {\"Date\": \"7/16/20\", \"Province_State\": \"New York\", \"New cases\": 404775}, {\"Date\": \"7/17/20\", \"Province_State\": \"New York\", \"New cases\": 405551}, {\"Date\": \"7/18/20\", \"Province_State\": \"New York\", \"New cases\": 406305}, {\"Date\": \"7/19/20\", \"Province_State\": \"New York\", \"New cases\": 406807}, {\"Date\": \"7/2/20\", \"Province_State\": \"New York\", \"New cases\": 394954}, {\"Date\": \"7/20/20\", \"Province_State\": \"New York\", \"New cases\": 407326}, {\"Date\": \"7/21/20\", \"Province_State\": \"New York\", \"New cases\": 408181}, {\"Date\": \"7/22/20\", \"Province_State\": \"New York\", \"New cases\": 408886}, {\"Date\": \"7/23/20\", \"Province_State\": \"New York\", \"New cases\": 409697}, {\"Date\": \"7/24/20\", \"Province_State\": \"New York\", \"New cases\": 410450}, {\"Date\": \"7/25/20\", \"Province_State\": \"New York\", \"New cases\": 411200}, {\"Date\": \"7/26/20\", \"Province_State\": \"New York\", \"New cases\": 411736}, {\"Date\": \"7/27/20\", \"Province_State\": \"New York\", \"New cases\": 412344}, {\"Date\": \"7/28/20\", \"Province_State\": \"New York\", \"New cases\": 412878}, {\"Date\": \"7/29/20\", \"Province_State\": \"New York\", \"New cases\": 413593}, {\"Date\": \"7/3/20\", \"Province_State\": \"New York\", \"New cases\": 395872}, {\"Date\": \"7/30/20\", \"Province_State\": \"New York\", \"New cases\": 414370}, {\"Date\": \"7/31/20\", \"Province_State\": \"New York\", \"New cases\": 415014}, {\"Date\": \"7/4/20\", \"Province_State\": \"New York\", \"New cases\": 396598}, {\"Date\": \"7/5/20\", \"Province_State\": \"New York\", \"New cases\": 397131}, {\"Date\": \"7/6/20\", \"Province_State\": \"New York\", \"New cases\": 397649}, {\"Date\": \"7/7/20\", \"Province_State\": \"New York\", \"New cases\": 398237}, {\"Date\": \"7/8/20\", \"Province_State\": \"New York\", \"New cases\": 398929}, {\"Date\": \"7/9/20\", \"Province_State\": \"New York\", \"New cases\": 399513}, {\"Date\": \"8/1/20\", \"Province_State\": \"New York\", \"New cases\": 415767}, {\"Date\": \"8/10/20\", \"Province_State\": \"New York\", \"New cases\": 421336}, {\"Date\": \"8/11/20\", \"Province_State\": \"New York\", \"New cases\": 422003}, {\"Date\": \"8/12/20\", \"Province_State\": \"New York\", \"New cases\": 422703}, {\"Date\": \"8/13/20\", \"Province_State\": \"New York\", \"New cases\": 423440}, {\"Date\": \"8/2/20\", \"Province_State\": \"New York\", \"New cases\": 416298}, {\"Date\": \"8/3/20\", \"Province_State\": \"New York\", \"New cases\": 416843}, {\"Date\": \"8/4/20\", \"Province_State\": \"New York\", \"New cases\": 417589}, {\"Date\": \"8/5/20\", \"Province_State\": \"New York\", \"New cases\": 418225}, {\"Date\": \"8/6/20\", \"Province_State\": \"New York\", \"New cases\": 418928}, {\"Date\": \"8/7/20\", \"Province_State\": \"New York\", \"New cases\": 419642}, {\"Date\": \"8/8/20\", \"Province_State\": \"New York\", \"New cases\": 420345}, {\"Date\": \"8/9/20\", \"Province_State\": \"New York\", \"New cases\": 420860}]}}, {\"mode\": \"vega-lite\"});\n",
              "</script>"
            ]
          },
          "metadata": {
            "tags": []
          },
          "execution_count": 112
        }
      ]
    },
    {
      "cell_type": "markdown",
      "metadata": {
        "id": "xnChmkatzLCU",
        "colab_type": "text"
      },
      "source": [
        "# some testing"
      ]
    },
    {
      "cell_type": "markdown",
      "metadata": {
        "id": "8Khn6uxisHTR",
        "colab_type": "text"
      },
      "source": [
        "# New Section"
      ]
    },
    {
      "cell_type": "code",
      "metadata": {
        "id": "9UPaPKhvzKwf",
        "colab_type": "code",
        "colab": {}
      },
      "source": [
        "fractalData_combo1"
      ],
      "execution_count": null,
      "outputs": []
    },
    {
      "cell_type": "code",
      "metadata": {
        "id": "cZ9DTw3TzKuC",
        "colab_type": "code",
        "colab": {}
      },
      "source": [
        "test = fractalData_combo1[fractalData_combo1['County Name'] == 'San Diego County']\n",
        "test.shape\n",
        "test"
      ],
      "execution_count": null,
      "outputs": []
    },
    {
      "cell_type": "code",
      "metadata": {
        "id": "xc5evv0k0Gr0",
        "colab_type": "code",
        "colab": {}
      },
      "source": [
        "cluster_perf_df.head()"
      ],
      "execution_count": null,
      "outputs": []
    },
    {
      "cell_type": "code",
      "metadata": {
        "id": "lpOFPpyg1AHi",
        "colab_type": "code",
        "colab": {}
      },
      "source": [
        "cluster_perf_df1.head() # min"
      ],
      "execution_count": null,
      "outputs": []
    },
    {
      "cell_type": "code",
      "metadata": {
        "id": "VkZMuHLd0_9z",
        "colab_type": "code",
        "colab": {}
      },
      "source": [
        "cluster_perf_df1_2.head() #max"
      ],
      "execution_count": null,
      "outputs": []
    },
    {
      "cell_type": "code",
      "metadata": {
        "id": "oSg9KDxbzsI5",
        "colab_type": "code",
        "colab": {}
      },
      "source": [
        "test1 = pd.merge(test,week_df, how='inner', on ='WeekNumber')\n",
        "test1.tail(10)"
      ],
      "execution_count": null,
      "outputs": []
    },
    {
      "cell_type": "code",
      "metadata": {
        "id": "7S_K17EWz7zv",
        "colab_type": "code",
        "colab": {}
      },
      "source": [
        "red = alt.value(\"#f54242\")\n",
        "base_orange.encode(y='Confirmed').properties(title='Total Confirmed') "
      ],
      "execution_count": null,
      "outputs": []
    },
    {
      "cell_type": "markdown",
      "metadata": {
        "id": "IPuS1iYXg4FL",
        "colab_type": "text"
      },
      "source": [
        "# Result Comparison"
      ]
    },
    {
      "cell_type": "code",
      "metadata": {
        "id": "82P6cH5Daz_w",
        "colab_type": "code",
        "colab": {}
      },
      "source": [
        "# considering for Final comparison\n",
        "combo1_cluster2"
      ],
      "execution_count": null,
      "outputs": []
    },
    {
      "cell_type": "code",
      "metadata": {
        "id": "tlYscjcBvw3T",
        "colab_type": "code",
        "colab": {}
      },
      "source": [
        "combo2_cluster1"
      ],
      "execution_count": null,
      "outputs": []
    },
    {
      "cell_type": "code",
      "metadata": {
        "id": "0f56eH5cjBEd",
        "colab_type": "code",
        "colab": {}
      },
      "source": [
        "combo2_cluster2"
      ],
      "execution_count": null,
      "outputs": []
    },
    {
      "cell_type": "code",
      "metadata": {
        "id": "Y8DnGSXBv_68",
        "colab_type": "code",
        "colab": {}
      },
      "source": [
        "combo3_cluster1"
      ],
      "execution_count": null,
      "outputs": []
    },
    {
      "cell_type": "code",
      "metadata": {
        "id": "q2GtHZFfjC2l",
        "colab_type": "code",
        "colab": {}
      },
      "source": [
        "combo3_cluster2"
      ],
      "execution_count": null,
      "outputs": []
    },
    {
      "cell_type": "markdown",
      "metadata": {
        "id": "SYvve_SKB91V",
        "colab_type": "text"
      },
      "source": [
        "## Data Exploration"
      ]
    },
    {
      "cell_type": "code",
      "metadata": {
        "id": "uY5c0VXkBfPJ",
        "colab_type": "code",
        "colab": {}
      },
      "source": [
        "import altair as alt"
      ],
      "execution_count": null,
      "outputs": []
    },
    {
      "cell_type": "code",
      "metadata": {
        "id": "6pfxOrAcxu2q",
        "colab_type": "code",
        "colab": {}
      },
      "source": [
        "week_df"
      ],
      "execution_count": null,
      "outputs": []
    },
    {
      "cell_type": "code",
      "metadata": {
        "id": "udGbO75Uw78L",
        "colab_type": "code",
        "colab": {}
      },
      "source": [
        "merged.dtypes"
      ],
      "execution_count": null,
      "outputs": []
    },
    {
      "cell_type": "code",
      "metadata": {
        "id": "0SHiuLcTw3j8",
        "colab_type": "code",
        "colab": {}
      },
      "source": [
        "LA_county = merged[merged['County Name'] == 'Los Angeles County']\n",
        "LA_county.shape"
      ],
      "execution_count": null,
      "outputs": []
    },
    {
      "cell_type": "code",
      "metadata": {
        "id": "ZxfdSLkPx-k1",
        "colab_type": "code",
        "colab": {}
      },
      "source": [
        "orange_county = merged[merged['County Name'] == 'San Diego County']\n"
      ],
      "execution_count": null,
      "outputs": []
    },
    {
      "cell_type": "code",
      "metadata": {
        "id": "L3_HLTInxTwf",
        "colab_type": "code",
        "colab": {}
      },
      "source": [
        "base_la = alt.Chart(LA_county).mark_bar().encode(\n",
        "    x='monthdate(Date):O',\n",
        ").properties(\n",
        "    width=500\n",
        ")\n",
        "\n",
        "base_orange = alt.Chart(orange_county).mark_bar().encode(\n",
        "    x='monthdate(Date):O',\n",
        ").properties(\n",
        "    width=500\n",
        ")"
      ],
      "execution_count": null,
      "outputs": []
    },
    {
      "cell_type": "code",
      "metadata": {
        "id": "5WtKAgZ7xZLN",
        "colab_type": "code",
        "colab": {}
      },
      "source": [
        "red = alt.value(\"#f54242\")\n",
        "base_orange.encode(y='Confirmed').properties(title='Total Confirmed') \n"
      ],
      "execution_count": null,
      "outputs": []
    },
    {
      "cell_type": "code",
      "metadata": {
        "id": "Q8YXkJ8yBfNC",
        "colab_type": "code",
        "colab": {}
      },
      "source": [
        "ca_df = full_grouped[full_grouped['Province_State'] == 'California']\n",
        "ny_df = full_grouped[full_grouped['Province_State'] == 'New York']\n",
        "tx_df = full_grouped[full_grouped['Province_State'] == 'Texas']"
      ],
      "execution_count": null,
      "outputs": []
    },
    {
      "cell_type": "code",
      "metadata": {
        "id": "ysUJCv1nBfKG",
        "colab_type": "code",
        "colab": {}
      },
      "source": [
        "base_ca = alt.Chart(ca_df).mark_bar().encode(\n",
        "    x='monthdate(Date):O',\n",
        ").properties(\n",
        "    width=500\n",
        ")\n",
        "\n",
        "base_ny = alt.Chart(ny_df).mark_bar().encode(\n",
        "    x='monthdate(Date):O',\n",
        ").properties(\n",
        "    width=500\n",
        ")\n",
        "\n",
        "base_tx = alt.Chart(tx_df).mark_bar().encode(\n",
        "    x='monthdate(Date):O',\n",
        ").properties(\n",
        "    width=500\n",
        ")"
      ],
      "execution_count": null,
      "outputs": []
    },
    {
      "cell_type": "code",
      "metadata": {
        "id": "kBylKZKDBe4v",
        "colab_type": "code",
        "colab": {}
      },
      "source": [
        "red = alt.value(\"#f54242\")\n",
        "base_ca.encode(y='Confirmed').properties(title='Total Confirmed') | base_ca.encode(y='Deaths',color = red).properties(title='Total deaths')\n"
      ],
      "execution_count": null,
      "outputs": []
    },
    {
      "cell_type": "code",
      "metadata": {
        "id": "X2vjXgMbDqYj",
        "colab_type": "code",
        "colab": {}
      },
      "source": [
        "base_ny.encode(y='Confirmed').properties(title='Total Confirmed') | base_ny.encode(y='Deaths',color = red).properties(title='Total deaths')\n"
      ],
      "execution_count": null,
      "outputs": []
    },
    {
      "cell_type": "code",
      "metadata": {
        "id": "Co-i287FDqWI",
        "colab_type": "code",
        "colab": {}
      },
      "source": [
        "base_tx.encode(y='Confirmed').properties(title='Total Confirmed') | base_tx.encode(y='Deaths',color = red).properties(title='Total deaths')\n"
      ],
      "execution_count": null,
      "outputs": []
    },
    {
      "cell_type": "code",
      "metadata": {
        "id": "hbjz-JPxDqTq",
        "colab_type": "code",
        "colab": {}
      },
      "source": [
        "base_ca.encode(y='New cases').properties(title='Total New Cases') | base_ca.encode(y='New deaths',color = red).properties(title='Total New deaths')\n"
      ],
      "execution_count": null,
      "outputs": []
    },
    {
      "cell_type": "code",
      "metadata": {
        "id": "fI5o-tYkDqRj",
        "colab_type": "code",
        "colab": {}
      },
      "source": [
        ""
      ],
      "execution_count": null,
      "outputs": []
    },
    {
      "cell_type": "code",
      "metadata": {
        "id": "X1gFKJAGDqLG",
        "colab_type": "code",
        "colab": {}
      },
      "source": [
        ""
      ],
      "execution_count": null,
      "outputs": []
    },
    {
      "cell_type": "markdown",
      "metadata": {
        "id": "KjRxEK71nUgO",
        "colab_type": "text"
      },
      "source": [
        "## Steps to approach the problem\n",
        "\n",
        "* Predict how 'New cases' count changed in states after mask mandate\n",
        "* check the type of **rule** - \n",
        "  1. Entire State\n",
        "  2. Entire Territory\n",
        "  3. Parts of State\n",
        "  4. Entire State (Employees Only)\n",
        "  5. Parts of State (Employees Only)\n",
        "  6. No\n",
        "  7. Masks strongly recommended, provides masks for free\n",
        "  8. Entire State (Some Employees)\n",
        "\n",
        "impacts the new cases count\n",
        "\n",
        "* Include/identify latent variables like 'Long weekend' date, 'Rally' date, 'BLM' protests happened date impact in new cases count \n",
        "* Identify datasource for people cooperation in following the rule\n",
        "* Political party ruling the state\n",
        "* Population \n",
        "* Epicenter city of each state\n",
        "* Type of mask (?)\n",
        "\n"
      ]
    },
    {
      "cell_type": "markdown",
      "metadata": {
        "id": "DZPVHGGB06ha",
        "colab_type": "text"
      },
      "source": [
        "## Reference\n",
        "\n",
        "* https://towardsdatascience.com/covid-19-data-processing-58aaa3663f6"
      ]
    }
  ]
}