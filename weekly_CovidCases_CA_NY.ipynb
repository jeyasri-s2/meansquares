{
  "nbformat": 4,
  "nbformat_minor": 0,
  "metadata": {
    "colab": {
      "name": "weekly_CovidCases_CA_NY.ipynb",
      "provenance": [],
      "collapsed_sections": [],
      "toc_visible": true,
      "machine_shape": "hm",
      "include_colab_link": true
    },
    "kernelspec": {
      "name": "python3",
      "display_name": "Python 3"
    },
    "accelerator": "GPU"
  },
  "cells": [
    {
      "cell_type": "markdown",
      "metadata": {
        "id": "view-in-github",
        "colab_type": "text"
      },
      "source": [
        "<a href=\"https://colab.research.google.com/github/aarsanjani/meansquares/blob/master/weekly_CovidCases_CA_NY.ipynb\" target=\"_parent\"><img src=\"https://colab.research.google.com/assets/colab-badge.svg\" alt=\"Open In Colab\"/></a>"
      ]
    },
    {
      "cell_type": "markdown",
      "metadata": {
        "id": "5KLYplb9rUcO",
        "colab_type": "text"
      },
      "source": [
        "# Topic: Investigate Covid-19 NY and CA data"
      ]
    },
    {
      "cell_type": "markdown",
      "metadata": {
        "id": "rQQ8KCcYrgh8",
        "colab_type": "text"
      },
      "source": [
        "This colab includes CA and NY covid case data from JHU and moving avg trend analysis"
      ]
    },
    {
      "cell_type": "code",
      "metadata": {
        "id": "mcdbrTS38vcE",
        "colab_type": "code",
        "colab": {
          "base_uri": "https://localhost:8080/",
          "height": 34
        },
        "outputId": "0c429f83-f05e-44f3-8553-817fa4b8b08f"
      },
      "source": [
        "!pip install wget"
      ],
      "execution_count": 36,
      "outputs": [
        {
          "output_type": "stream",
          "text": [
            "Requirement already satisfied: wget in /usr/local/lib/python3.6/dist-packages (3.2)\n"
          ],
          "name": "stdout"
        }
      ]
    },
    {
      "cell_type": "markdown",
      "metadata": {
        "id": "GFEyT1gSN_CX",
        "colab_type": "text"
      },
      "source": [
        "## Import Libraries"
      ]
    },
    {
      "cell_type": "code",
      "metadata": {
        "id": "6QbOhpGKrQub",
        "colab_type": "code",
        "colab": {}
      },
      "source": [
        "import pandas as pd\n",
        "import seaborn as sns\n",
        "import numpy as np\n",
        "import matplotlib.pyplot as plt\n",
        "import os\n",
        "import wget\n",
        "from pandas import Series, datetime\n",
        "from pandas.plotting import scatter_matrix, autocorrelation_plot\n",
        "from sklearn.preprocessing import StandardScaler, RobustScaler\n",
        "from sklearn.model_selection import train_test_split, KFold, cross_val_score, GridSearchCV, TimeSeriesSplit\n",
        "from sklearn import metrics\n",
        "from sklearn.metrics import classification_report, confusion_matrix, accuracy_score, mean_squared_error\n",
        "from sklearn.pipeline import Pipeline\n",
        "from sklearn.linear_model import LogisticRegression\n",
        "from sklearn.tree import DecisionTreeClassifier\n",
        "from sklearn.neighbors import KNeighborsClassifier\n",
        "from sklearn.discriminant_analysis import LinearDiscriminantAnalysis\n",
        "from sklearn.naive_bayes import GaussianNB\n",
        "from sklearn.cluster import KMeans\n",
        "from sklearn.svm import SVC\n",
        "from sklearn.ensemble import AdaBoostClassifier, GradientBoostingClassifier, RandomForestClassifier, ExtraTreesClassifier\n",
        "from sklearn.metrics import roc_curve, auc\n",
        "import random\n",
        "from statsmodels.graphics.tsaplots import plot_acf, plot_pacf\n",
        "from statsmodels.tsa.arima_model import ARIMA\n",
        "from xgboost import XGBClassifier\n",
        "from sklearn.mixture import GaussianMixture"
      ],
      "execution_count": 37,
      "outputs": []
    },
    {
      "cell_type": "markdown",
      "metadata": {
        "id": "XG7L7Wu9ssnZ",
        "colab_type": "text"
      },
      "source": [
        "## Mount Google drive\n"
      ]
    },
    {
      "cell_type": "code",
      "metadata": {
        "id": "SXC6gd0isu7o",
        "colab_type": "code",
        "colab": {}
      },
      "source": [
        "os.environ[\"TF_CPP_MIN_LOG_LEVEL\"]=\"2\"\n",
        "import warnings; warnings.simplefilter('ignore')"
      ],
      "execution_count": 38,
      "outputs": []
    },
    {
      "cell_type": "code",
      "metadata": {
        "id": "kkIdtS1JsvlO",
        "colab_type": "code",
        "colab": {}
      },
      "source": [
        "from google.colab import drive\n",
        "# drive.mount('/content/drive')"
      ],
      "execution_count": 39,
      "outputs": []
    },
    {
      "cell_type": "code",
      "metadata": {
        "id": "F-i78za67STu",
        "colab_type": "code",
        "colab": {}
      },
      "source": [
        "location = \"drive/Shared drives/the-mean-sqaures/the-mean-squares/Colab_Dataset/Dataset/\""
      ],
      "execution_count": 40,
      "outputs": []
    },
    {
      "cell_type": "code",
      "metadata": {
        "id": "eSHBvEKMsMLZ",
        "colab_type": "code",
        "colab": {
          "base_uri": "https://localhost:8080/",
          "height": 34
        },
        "outputId": "bb45dbcd-571c-4c2d-ae94-edaee8ddffc4"
      },
      "source": [
        "!ls /content/drive/My\\ Drive/MasterProject-Personal/data"
      ],
      "execution_count": 41,
      "outputs": [
        {
          "output_type": "stream",
          "text": [
            "ls: cannot access '/content/drive/My Drive/MasterProject-Personal/data': No such file or directory\n"
          ],
          "name": "stdout"
        }
      ]
    },
    {
      "cell_type": "markdown",
      "metadata": {
        "id": "jkka58J3qP-B",
        "colab_type": "text"
      },
      "source": [
        "# Data Load"
      ]
    },
    {
      "cell_type": "markdown",
      "metadata": {
        "id": "VsVZXbVoJ5-N",
        "colab_type": "text"
      },
      "source": [
        "## 1 Load County Population\n"
      ]
    },
    {
      "cell_type": "code",
      "metadata": {
        "id": "WZno5k12J9BI",
        "colab_type": "code",
        "colab": {
          "base_uri": "https://localhost:8080/",
          "height": 34
        },
        "outputId": "f51f6dd5-20ea-40ae-dfb0-fd7bb70945ae"
      },
      "source": [
        "county_population_US = pd.read_csv('https://usafactsstatic.blob.core.windows.net/public/data/covid-19/covid_county_population_usafacts.csv',low_memory=False)\n",
        "print(county_population_US.shape)"
      ],
      "execution_count": 42,
      "outputs": [
        {
          "output_type": "stream",
          "text": [
            "(3195, 4)\n"
          ],
          "name": "stdout"
        }
      ]
    },
    {
      "cell_type": "code",
      "metadata": {
        "id": "IEHB_7mnKAuI",
        "colab_type": "code",
        "colab": {
          "base_uri": "https://localhost:8080/",
          "height": 34
        },
        "outputId": "6dbaa107-537c-45a1-c116-f2e338e5a30c"
      },
      "source": [
        "wget.download('https://usafactsstatic.blob.core.windows.net/public/data/covid-19/covid_county_population_usafacts.csv')\n",
        "county_population_US = pd.read_csv('covid_county_population_usafacts.csv',low_memory=False)\n",
        "print(county_population_US.shape)\n",
        "\n",
        "\n"
      ],
      "execution_count": 43,
      "outputs": [
        {
          "output_type": "stream",
          "text": [
            "(3195, 4)\n"
          ],
          "name": "stdout"
        }
      ]
    },
    {
      "cell_type": "code",
      "metadata": {
        "id": "9aVG7gFdKQQm",
        "colab_type": "code",
        "colab": {
          "base_uri": "https://localhost:8080/",
          "height": 111
        },
        "outputId": "1bdf9a16-c8dd-4a8e-9d90-738a6e40be13"
      },
      "source": [
        "county_population_US.head(2)"
      ],
      "execution_count": 44,
      "outputs": [
        {
          "output_type": "execute_result",
          "data": {
            "text/html": [
              "<div>\n",
              "<style scoped>\n",
              "    .dataframe tbody tr th:only-of-type {\n",
              "        vertical-align: middle;\n",
              "    }\n",
              "\n",
              "    .dataframe tbody tr th {\n",
              "        vertical-align: top;\n",
              "    }\n",
              "\n",
              "    .dataframe thead th {\n",
              "        text-align: right;\n",
              "    }\n",
              "</style>\n",
              "<table border=\"1\" class=\"dataframe\">\n",
              "  <thead>\n",
              "    <tr style=\"text-align: right;\">\n",
              "      <th></th>\n",
              "      <th>countyFIPS</th>\n",
              "      <th>County Name</th>\n",
              "      <th>State</th>\n",
              "      <th>population</th>\n",
              "    </tr>\n",
              "  </thead>\n",
              "  <tbody>\n",
              "    <tr>\n",
              "      <th>0</th>\n",
              "      <td>0</td>\n",
              "      <td>Statewide Unallocated</td>\n",
              "      <td>AL</td>\n",
              "      <td>0</td>\n",
              "    </tr>\n",
              "    <tr>\n",
              "      <th>1</th>\n",
              "      <td>1001</td>\n",
              "      <td>Autauga County</td>\n",
              "      <td>AL</td>\n",
              "      <td>55869</td>\n",
              "    </tr>\n",
              "  </tbody>\n",
              "</table>\n",
              "</div>"
            ],
            "text/plain": [
              "   countyFIPS            County Name State  population\n",
              "0           0  Statewide Unallocated    AL           0\n",
              "1        1001         Autauga County    AL       55869"
            ]
          },
          "metadata": {
            "tags": []
          },
          "execution_count": 44
        }
      ]
    },
    {
      "cell_type": "markdown",
      "metadata": {
        "id": "-Ued4-m3waSu",
        "colab_type": "text"
      },
      "source": [
        "## 2 Load Covid-19 case details (until July 12)"
      ]
    },
    {
      "cell_type": "code",
      "metadata": {
        "id": "OBaFkfiewtBS",
        "colab_type": "code",
        "colab": {
          "base_uri": "https://localhost:8080/",
          "height": 34
        },
        "outputId": "9969cc6e-9f38-4426-b66d-d9fae6d692c3"
      },
      "source": [
        "!ls '/content/drive/My Drive/MasterProject-Personal/data/'"
      ],
      "execution_count": 45,
      "outputs": [
        {
          "output_type": "stream",
          "text": [
            "ls: cannot access '/content/drive/My Drive/MasterProject-Personal/data/': No such file or directory\n"
          ],
          "name": "stdout"
        }
      ]
    },
    {
      "cell_type": "markdown",
      "metadata": {
        "id": "t1RSRy861K-h",
        "colab_type": "text"
      },
      "source": [
        "### Note about data:\n",
        "John Hopkins university updates data every day hence we are pulling from repository directly\n",
        "\n",
        "**US Confirmed url** :https://raw.githubusercontent.com/CSSEGISandData/COVID-19/master/csse_covid_19_data/csse_covid_19_time_series/time_series_covid19_confirmed_US.csv\n",
        "\n",
        "**US deaths url**: https://raw.githubusercontent.com/CSSEGISandData/COVID-19/master/csse_covid_19_data/csse_covid_19_time_series/time_series_covid19_deaths_US.csv"
      ]
    },
    {
      "cell_type": "code",
      "metadata": {
        "id": "_MHkCNZm2ZaY",
        "colab_type": "code",
        "colab": {
          "base_uri": "https://localhost:8080/",
          "height": 51
        },
        "outputId": "3ab639bc-3ad1-4fec-ea5d-52184f9c496d"
      },
      "source": [
        "urls = ['https://raw.githubusercontent.com/CSSEGISandData/COVID-19/master/csse_covid_19_data/csse_covid_19_time_series/time_series_covid19_confirmed_US.csv',\n",
        "        'https://raw.githubusercontent.com/CSSEGISandData/COVID-19/master/csse_covid_19_data/csse_covid_19_time_series/time_series_covid19_deaths_US.csv']\n",
        "\n",
        "[wget.download(url) for url in urls]        "
      ],
      "execution_count": 46,
      "outputs": [
        {
          "output_type": "execute_result",
          "data": {
            "text/plain": [
              "['time_series_covid19_confirmed_US (1).csv',\n",
              " 'time_series_covid19_deaths_US (1).csv']"
            ]
          },
          "metadata": {
            "tags": []
          },
          "execution_count": 46
        }
      ]
    },
    {
      "cell_type": "code",
      "metadata": {
        "id": "A4wqPxvOwh1i",
        "colab_type": "code",
        "colab": {
          "base_uri": "https://localhost:8080/",
          "height": 313
        },
        "outputId": "e3b1d36c-263c-42f2-bec1-240d34380fe2"
      },
      "source": [
        "confirmed_US = pd.read_csv('time_series_covid19_confirmed_US.csv',low_memory=False)\n",
        "death_US = pd.read_csv('time_series_covid19_deaths_US.csv',low_memory=False)\n",
        "print(confirmed_US.shape)\n",
        "print(death_US.shape)\n",
        "print(confirmed_US.head(2))\n",
        "death_US.head(2)"
      ],
      "execution_count": 47,
      "outputs": [
        {
          "output_type": "stream",
          "text": [
            "(3340, 223)\n",
            "(3340, 224)\n",
            "        UID iso2 iso3  code3  ...  8/17/20 8/18/20 8/19/20 8/20/20\n",
            "0  84001001   US  USA    840  ...     1219    1235    1241    1240\n",
            "1  84001003   US  USA    840  ...     3888    3906    3931    3957\n",
            "\n",
            "[2 rows x 223 columns]\n"
          ],
          "name": "stdout"
        },
        {
          "output_type": "execute_result",
          "data": {
            "text/html": [
              "<div>\n",
              "<style scoped>\n",
              "    .dataframe tbody tr th:only-of-type {\n",
              "        vertical-align: middle;\n",
              "    }\n",
              "\n",
              "    .dataframe tbody tr th {\n",
              "        vertical-align: top;\n",
              "    }\n",
              "\n",
              "    .dataframe thead th {\n",
              "        text-align: right;\n",
              "    }\n",
              "</style>\n",
              "<table border=\"1\" class=\"dataframe\">\n",
              "  <thead>\n",
              "    <tr style=\"text-align: right;\">\n",
              "      <th></th>\n",
              "      <th>UID</th>\n",
              "      <th>iso2</th>\n",
              "      <th>iso3</th>\n",
              "      <th>code3</th>\n",
              "      <th>FIPS</th>\n",
              "      <th>Admin2</th>\n",
              "      <th>Province_State</th>\n",
              "      <th>Country_Region</th>\n",
              "      <th>Lat</th>\n",
              "      <th>Long_</th>\n",
              "      <th>Combined_Key</th>\n",
              "      <th>Population</th>\n",
              "      <th>1/22/20</th>\n",
              "      <th>1/23/20</th>\n",
              "      <th>1/24/20</th>\n",
              "      <th>1/25/20</th>\n",
              "      <th>1/26/20</th>\n",
              "      <th>1/27/20</th>\n",
              "      <th>1/28/20</th>\n",
              "      <th>1/29/20</th>\n",
              "      <th>1/30/20</th>\n",
              "      <th>1/31/20</th>\n",
              "      <th>2/1/20</th>\n",
              "      <th>2/2/20</th>\n",
              "      <th>2/3/20</th>\n",
              "      <th>2/4/20</th>\n",
              "      <th>2/5/20</th>\n",
              "      <th>2/6/20</th>\n",
              "      <th>2/7/20</th>\n",
              "      <th>2/8/20</th>\n",
              "      <th>2/9/20</th>\n",
              "      <th>2/10/20</th>\n",
              "      <th>2/11/20</th>\n",
              "      <th>2/12/20</th>\n",
              "      <th>2/13/20</th>\n",
              "      <th>2/14/20</th>\n",
              "      <th>2/15/20</th>\n",
              "      <th>2/16/20</th>\n",
              "      <th>2/17/20</th>\n",
              "      <th>2/18/20</th>\n",
              "      <th>...</th>\n",
              "      <th>7/12/20</th>\n",
              "      <th>7/13/20</th>\n",
              "      <th>7/14/20</th>\n",
              "      <th>7/15/20</th>\n",
              "      <th>7/16/20</th>\n",
              "      <th>7/17/20</th>\n",
              "      <th>7/18/20</th>\n",
              "      <th>7/19/20</th>\n",
              "      <th>7/20/20</th>\n",
              "      <th>7/21/20</th>\n",
              "      <th>7/22/20</th>\n",
              "      <th>7/23/20</th>\n",
              "      <th>7/24/20</th>\n",
              "      <th>7/25/20</th>\n",
              "      <th>7/26/20</th>\n",
              "      <th>7/27/20</th>\n",
              "      <th>7/28/20</th>\n",
              "      <th>7/29/20</th>\n",
              "      <th>7/30/20</th>\n",
              "      <th>7/31/20</th>\n",
              "      <th>8/1/20</th>\n",
              "      <th>8/2/20</th>\n",
              "      <th>8/3/20</th>\n",
              "      <th>8/4/20</th>\n",
              "      <th>8/5/20</th>\n",
              "      <th>8/6/20</th>\n",
              "      <th>8/7/20</th>\n",
              "      <th>8/8/20</th>\n",
              "      <th>8/9/20</th>\n",
              "      <th>8/10/20</th>\n",
              "      <th>8/11/20</th>\n",
              "      <th>8/12/20</th>\n",
              "      <th>8/13/20</th>\n",
              "      <th>8/14/20</th>\n",
              "      <th>8/15/20</th>\n",
              "      <th>8/16/20</th>\n",
              "      <th>8/17/20</th>\n",
              "      <th>8/18/20</th>\n",
              "      <th>8/19/20</th>\n",
              "      <th>8/20/20</th>\n",
              "    </tr>\n",
              "  </thead>\n",
              "  <tbody>\n",
              "    <tr>\n",
              "      <th>0</th>\n",
              "      <td>84001001</td>\n",
              "      <td>US</td>\n",
              "      <td>USA</td>\n",
              "      <td>840</td>\n",
              "      <td>1001.0</td>\n",
              "      <td>Autauga</td>\n",
              "      <td>Alabama</td>\n",
              "      <td>US</td>\n",
              "      <td>32.539527</td>\n",
              "      <td>-86.644082</td>\n",
              "      <td>Autauga, Alabama, US</td>\n",
              "      <td>55869</td>\n",
              "      <td>0</td>\n",
              "      <td>0</td>\n",
              "      <td>0</td>\n",
              "      <td>0</td>\n",
              "      <td>0</td>\n",
              "      <td>0</td>\n",
              "      <td>0</td>\n",
              "      <td>0</td>\n",
              "      <td>0</td>\n",
              "      <td>0</td>\n",
              "      <td>0</td>\n",
              "      <td>0</td>\n",
              "      <td>0</td>\n",
              "      <td>0</td>\n",
              "      <td>0</td>\n",
              "      <td>0</td>\n",
              "      <td>0</td>\n",
              "      <td>0</td>\n",
              "      <td>0</td>\n",
              "      <td>0</td>\n",
              "      <td>0</td>\n",
              "      <td>0</td>\n",
              "      <td>0</td>\n",
              "      <td>0</td>\n",
              "      <td>0</td>\n",
              "      <td>0</td>\n",
              "      <td>0</td>\n",
              "      <td>0</td>\n",
              "      <td>...</td>\n",
              "      <td>15</td>\n",
              "      <td>15</td>\n",
              "      <td>17</td>\n",
              "      <td>18</td>\n",
              "      <td>19</td>\n",
              "      <td>20</td>\n",
              "      <td>20</td>\n",
              "      <td>20</td>\n",
              "      <td>20</td>\n",
              "      <td>20</td>\n",
              "      <td>20</td>\n",
              "      <td>20</td>\n",
              "      <td>20</td>\n",
              "      <td>20</td>\n",
              "      <td>20</td>\n",
              "      <td>20</td>\n",
              "      <td>20</td>\n",
              "      <td>20</td>\n",
              "      <td>20</td>\n",
              "      <td>20</td>\n",
              "      <td>20</td>\n",
              "      <td>20</td>\n",
              "      <td>20</td>\n",
              "      <td>20</td>\n",
              "      <td>21</td>\n",
              "      <td>21</td>\n",
              "      <td>21</td>\n",
              "      <td>21</td>\n",
              "      <td>21</td>\n",
              "      <td>21</td>\n",
              "      <td>22</td>\n",
              "      <td>22</td>\n",
              "      <td>22</td>\n",
              "      <td>22</td>\n",
              "      <td>22</td>\n",
              "      <td>22</td>\n",
              "      <td>22</td>\n",
              "      <td>22</td>\n",
              "      <td>22</td>\n",
              "      <td>22</td>\n",
              "    </tr>\n",
              "    <tr>\n",
              "      <th>1</th>\n",
              "      <td>84001003</td>\n",
              "      <td>US</td>\n",
              "      <td>USA</td>\n",
              "      <td>840</td>\n",
              "      <td>1003.0</td>\n",
              "      <td>Baldwin</td>\n",
              "      <td>Alabama</td>\n",
              "      <td>US</td>\n",
              "      <td>30.727750</td>\n",
              "      <td>-87.722071</td>\n",
              "      <td>Baldwin, Alabama, US</td>\n",
              "      <td>223234</td>\n",
              "      <td>0</td>\n",
              "      <td>0</td>\n",
              "      <td>0</td>\n",
              "      <td>0</td>\n",
              "      <td>0</td>\n",
              "      <td>0</td>\n",
              "      <td>0</td>\n",
              "      <td>0</td>\n",
              "      <td>0</td>\n",
              "      <td>0</td>\n",
              "      <td>0</td>\n",
              "      <td>0</td>\n",
              "      <td>0</td>\n",
              "      <td>0</td>\n",
              "      <td>0</td>\n",
              "      <td>0</td>\n",
              "      <td>0</td>\n",
              "      <td>0</td>\n",
              "      <td>0</td>\n",
              "      <td>0</td>\n",
              "      <td>0</td>\n",
              "      <td>0</td>\n",
              "      <td>0</td>\n",
              "      <td>0</td>\n",
              "      <td>0</td>\n",
              "      <td>0</td>\n",
              "      <td>0</td>\n",
              "      <td>0</td>\n",
              "      <td>...</td>\n",
              "      <td>11</td>\n",
              "      <td>11</td>\n",
              "      <td>11</td>\n",
              "      <td>12</td>\n",
              "      <td>13</td>\n",
              "      <td>13</td>\n",
              "      <td>14</td>\n",
              "      <td>14</td>\n",
              "      <td>14</td>\n",
              "      <td>15</td>\n",
              "      <td>15</td>\n",
              "      <td>16</td>\n",
              "      <td>17</td>\n",
              "      <td>17</td>\n",
              "      <td>17</td>\n",
              "      <td>17</td>\n",
              "      <td>17</td>\n",
              "      <td>20</td>\n",
              "      <td>20</td>\n",
              "      <td>21</td>\n",
              "      <td>21</td>\n",
              "      <td>22</td>\n",
              "      <td>23</td>\n",
              "      <td>23</td>\n",
              "      <td>23</td>\n",
              "      <td>23</td>\n",
              "      <td>23</td>\n",
              "      <td>24</td>\n",
              "      <td>25</td>\n",
              "      <td>25</td>\n",
              "      <td>29</td>\n",
              "      <td>29</td>\n",
              "      <td>29</td>\n",
              "      <td>29</td>\n",
              "      <td>29</td>\n",
              "      <td>29</td>\n",
              "      <td>29</td>\n",
              "      <td>30</td>\n",
              "      <td>30</td>\n",
              "      <td>31</td>\n",
              "    </tr>\n",
              "  </tbody>\n",
              "</table>\n",
              "<p>2 rows × 224 columns</p>\n",
              "</div>"
            ],
            "text/plain": [
              "        UID iso2 iso3  code3  ...  8/17/20 8/18/20 8/19/20 8/20/20\n",
              "0  84001001   US  USA    840  ...       22      22      22      22\n",
              "1  84001003   US  USA    840  ...       29      30      30      31\n",
              "\n",
              "[2 rows x 224 columns]"
            ]
          },
          "metadata": {
            "tags": []
          },
          "execution_count": 47
        }
      ]
    },
    {
      "cell_type": "code",
      "metadata": {
        "id": "-Xmnw9e2xJud",
        "colab_type": "code",
        "colab": {
          "base_uri": "https://localhost:8080/",
          "height": 255
        },
        "outputId": "48b1a0b8-31d5-4625-be17-7dd8229b78f3"
      },
      "source": [
        "#print(len(mask_data['state_name'].unique()))\n",
        "print(len(confirmed_US['Province_State'].unique()))\n",
        "confirmed_US['Province_State'].unique()"
      ],
      "execution_count": 48,
      "outputs": [
        {
          "output_type": "stream",
          "text": [
            "58\n"
          ],
          "name": "stdout"
        },
        {
          "output_type": "execute_result",
          "data": {
            "text/plain": [
              "array(['Alabama', 'Alaska', 'American Samoa', 'Arizona', 'Arkansas',\n",
              "       'California', 'Colorado', 'Connecticut', 'Delaware',\n",
              "       'Diamond Princess', 'District of Columbia', 'Florida', 'Georgia',\n",
              "       'Grand Princess', 'Guam', 'Hawaii', 'Idaho', 'Illinois', 'Indiana',\n",
              "       'Iowa', 'Kansas', 'Kentucky', 'Louisiana', 'Maine', 'Maryland',\n",
              "       'Massachusetts', 'Michigan', 'Minnesota', 'Mississippi',\n",
              "       'Missouri', 'Montana', 'Nebraska', 'Nevada', 'New Hampshire',\n",
              "       'New Jersey', 'New Mexico', 'New York', 'North Carolina',\n",
              "       'North Dakota', 'Northern Mariana Islands', 'Ohio', 'Oklahoma',\n",
              "       'Oregon', 'Pennsylvania', 'Puerto Rico', 'Rhode Island',\n",
              "       'South Carolina', 'South Dakota', 'Tennessee', 'Texas', 'Utah',\n",
              "       'Vermont', 'Virgin Islands', 'Virginia', 'Washington',\n",
              "       'West Virginia', 'Wisconsin', 'Wyoming'], dtype=object)"
            ]
          },
          "metadata": {
            "tags": []
          },
          "execution_count": 48
        }
      ]
    },
    {
      "cell_type": "markdown",
      "metadata": {
        "id": "RN2E93cS32Re",
        "colab_type": "text"
      },
      "source": [
        "## Data cleaning"
      ]
    },
    {
      "cell_type": "code",
      "metadata": {
        "id": "MQ52sy6o4DQd",
        "colab_type": "code",
        "colab": {
          "base_uri": "https://localhost:8080/",
          "height": 68
        },
        "outputId": "454ad946-e73c-4167-d793-6d822b2c0e55"
      },
      "source": [
        "confirmed_US.columns[:11]\n",
        "\n",
        "# Note: the first 11 columns contains UID, ios2,ios3, code ,FIPS, 'Admin2', 'Province_State',\n",
        "      # 'Country_Region', 'Lat', 'Long_',Combined_Key', 'Population',\n"
      ],
      "execution_count": 49,
      "outputs": [
        {
          "output_type": "execute_result",
          "data": {
            "text/plain": [
              "Index(['UID', 'iso2', 'iso3', 'code3', 'FIPS', 'Admin2', 'Province_State',\n",
              "       'Country_Region', 'Lat', 'Long_', 'Combined_Key'],\n",
              "      dtype='object')"
            ]
          },
          "metadata": {
            "tags": []
          },
          "execution_count": 49
        }
      ]
    },
    {
      "cell_type": "code",
      "metadata": {
        "id": "59E3UfdPwWGp",
        "colab_type": "code",
        "colab": {
          "base_uri": "https://localhost:8080/",
          "height": 119
        },
        "outputId": "ba9a7ce7-f2f4-49bb-b2ff-73fa89fdb07b"
      },
      "source": [
        "# date begins from 11th column\n",
        "confirmed_dates = confirmed_US.columns[11:]\n",
        "confirmed_dates"
      ],
      "execution_count": 50,
      "outputs": [
        {
          "output_type": "execute_result",
          "data": {
            "text/plain": [
              "Index(['1/22/20', '1/23/20', '1/24/20', '1/25/20', '1/26/20', '1/27/20',\n",
              "       '1/28/20', '1/29/20', '1/30/20', '1/31/20',\n",
              "       ...\n",
              "       '8/11/20', '8/12/20', '8/13/20', '8/14/20', '8/15/20', '8/16/20',\n",
              "       '8/17/20', '8/18/20', '8/19/20', '8/20/20'],\n",
              "      dtype='object', length=212)"
            ]
          },
          "metadata": {
            "tags": []
          },
          "execution_count": 50
        }
      ]
    },
    {
      "cell_type": "code",
      "metadata": {
        "id": "LCuanaUk5fje",
        "colab_type": "code",
        "colab": {
          "base_uri": "https://localhost:8080/",
          "height": 68
        },
        "outputId": "57398621-a943-4680-8ef2-a86c26b2280a"
      },
      "source": [
        "death_US.columns[:12]"
      ],
      "execution_count": 51,
      "outputs": [
        {
          "output_type": "execute_result",
          "data": {
            "text/plain": [
              "Index(['UID', 'iso2', 'iso3', 'code3', 'FIPS', 'Admin2', 'Province_State',\n",
              "       'Country_Region', 'Lat', 'Long_', 'Combined_Key', 'Population'],\n",
              "      dtype='object')"
            ]
          },
          "metadata": {
            "tags": []
          },
          "execution_count": 51
        }
      ]
    },
    {
      "cell_type": "code",
      "metadata": {
        "id": "8M_vOe244lax",
        "colab_type": "code",
        "colab": {
          "base_uri": "https://localhost:8080/",
          "height": 119
        },
        "outputId": "68e22b3e-5e80-4eec-a2c9-f893f4fce4f1"
      },
      "source": [
        "death_US.columns[10:]"
      ],
      "execution_count": 52,
      "outputs": [
        {
          "output_type": "execute_result",
          "data": {
            "text/plain": [
              "Index(['Combined_Key', 'Population', '1/22/20', '1/23/20', '1/24/20',\n",
              "       '1/25/20', '1/26/20', '1/27/20', '1/28/20', '1/29/20',\n",
              "       ...\n",
              "       '8/11/20', '8/12/20', '8/13/20', '8/14/20', '8/15/20', '8/16/20',\n",
              "       '8/17/20', '8/18/20', '8/19/20', '8/20/20'],\n",
              "      dtype='object', length=214)"
            ]
          },
          "metadata": {
            "tags": []
          },
          "execution_count": 52
        }
      ]
    },
    {
      "cell_type": "code",
      "metadata": {
        "id": "wyJe4mng05ee",
        "colab_type": "code",
        "colab": {
          "base_uri": "https://localhost:8080/",
          "height": 119
        },
        "outputId": "24a069fe-4046-4a3c-9fb8-e93ec7573884"
      },
      "source": [
        "death_dates = death_US.columns[12:]\n",
        "death_dates"
      ],
      "execution_count": 53,
      "outputs": [
        {
          "output_type": "execute_result",
          "data": {
            "text/plain": [
              "Index(['1/22/20', '1/23/20', '1/24/20', '1/25/20', '1/26/20', '1/27/20',\n",
              "       '1/28/20', '1/29/20', '1/30/20', '1/31/20',\n",
              "       ...\n",
              "       '8/11/20', '8/12/20', '8/13/20', '8/14/20', '8/15/20', '8/16/20',\n",
              "       '8/17/20', '8/18/20', '8/19/20', '8/20/20'],\n",
              "      dtype='object', length=212)"
            ]
          },
          "metadata": {
            "tags": []
          },
          "execution_count": 53
        }
      ]
    },
    {
      "cell_type": "markdown",
      "metadata": {
        "id": "GOpVOfZk44_O",
        "colab_type": "text"
      },
      "source": [
        "#### Note: both the date values has the same beginning date 1/22/2020. Hence we can use either of the values"
      ]
    },
    {
      "cell_type": "code",
      "metadata": {
        "id": "SWrPIbZA4wA_",
        "colab_type": "code",
        "colab": {}
      },
      "source": [
        "confirmed_df_long = confirmed_US.melt(\n",
        "    id_vars=['UID', 'iso2', 'iso3', 'code3', 'FIPS', 'Admin2', 'Province_State',\n",
        "       'Country_Region', 'Lat', 'Long_', 'Combined_Key'],\n",
        "       value_vars=confirmed_dates,\n",
        "       var_name = 'Date',\n",
        "       value_name = 'Confirmed'\n",
        ")\n",
        "\n",
        "death_df_long = death_US.melt(\n",
        "    id_vars=['UID', 'iso2', 'iso3', 'code3', 'FIPS', 'Admin2', 'Province_State',\n",
        "       'Country_Region', 'Lat', 'Long_', 'Combined_Key', 'Population'],\n",
        "       value_vars=death_dates,\n",
        "       var_name = 'Date',\n",
        "       value_name = 'Deaths'\n",
        ")"
      ],
      "execution_count": 54,
      "outputs": []
    },
    {
      "cell_type": "code",
      "metadata": {
        "id": "Zgyg7VRm4v-z",
        "colab_type": "code",
        "colab": {
          "base_uri": "https://localhost:8080/",
          "height": 549
        },
        "outputId": "fd0fef8a-125c-4b99-b658-87076fe8fc75"
      },
      "source": [
        "confirmed_df_long.tail(10)"
      ],
      "execution_count": 55,
      "outputs": [
        {
          "output_type": "execute_result",
          "data": {
            "text/html": [
              "<div>\n",
              "<style scoped>\n",
              "    .dataframe tbody tr th:only-of-type {\n",
              "        vertical-align: middle;\n",
              "    }\n",
              "\n",
              "    .dataframe tbody tr th {\n",
              "        vertical-align: top;\n",
              "    }\n",
              "\n",
              "    .dataframe thead th {\n",
              "        text-align: right;\n",
              "    }\n",
              "</style>\n",
              "<table border=\"1\" class=\"dataframe\">\n",
              "  <thead>\n",
              "    <tr style=\"text-align: right;\">\n",
              "      <th></th>\n",
              "      <th>UID</th>\n",
              "      <th>iso2</th>\n",
              "      <th>iso3</th>\n",
              "      <th>code3</th>\n",
              "      <th>FIPS</th>\n",
              "      <th>Admin2</th>\n",
              "      <th>Province_State</th>\n",
              "      <th>Country_Region</th>\n",
              "      <th>Lat</th>\n",
              "      <th>Long_</th>\n",
              "      <th>Combined_Key</th>\n",
              "      <th>Date</th>\n",
              "      <th>Confirmed</th>\n",
              "    </tr>\n",
              "  </thead>\n",
              "  <tbody>\n",
              "    <tr>\n",
              "      <th>708070</th>\n",
              "      <td>84056029</td>\n",
              "      <td>US</td>\n",
              "      <td>USA</td>\n",
              "      <td>840</td>\n",
              "      <td>56029.0</td>\n",
              "      <td>Park</td>\n",
              "      <td>Wyoming</td>\n",
              "      <td>US</td>\n",
              "      <td>44.521575</td>\n",
              "      <td>-109.585282</td>\n",
              "      <td>Park, Wyoming, US</td>\n",
              "      <td>8/20/20</td>\n",
              "      <td>153</td>\n",
              "    </tr>\n",
              "    <tr>\n",
              "      <th>708071</th>\n",
              "      <td>84056031</td>\n",
              "      <td>US</td>\n",
              "      <td>USA</td>\n",
              "      <td>840</td>\n",
              "      <td>56031.0</td>\n",
              "      <td>Platte</td>\n",
              "      <td>Wyoming</td>\n",
              "      <td>US</td>\n",
              "      <td>42.132991</td>\n",
              "      <td>-104.966331</td>\n",
              "      <td>Platte, Wyoming, US</td>\n",
              "      <td>8/20/20</td>\n",
              "      <td>7</td>\n",
              "    </tr>\n",
              "    <tr>\n",
              "      <th>708072</th>\n",
              "      <td>84056033</td>\n",
              "      <td>US</td>\n",
              "      <td>USA</td>\n",
              "      <td>840</td>\n",
              "      <td>56033.0</td>\n",
              "      <td>Sheridan</td>\n",
              "      <td>Wyoming</td>\n",
              "      <td>US</td>\n",
              "      <td>44.790489</td>\n",
              "      <td>-106.886239</td>\n",
              "      <td>Sheridan, Wyoming, US</td>\n",
              "      <td>8/20/20</td>\n",
              "      <td>108</td>\n",
              "    </tr>\n",
              "    <tr>\n",
              "      <th>708073</th>\n",
              "      <td>84056035</td>\n",
              "      <td>US</td>\n",
              "      <td>USA</td>\n",
              "      <td>840</td>\n",
              "      <td>56035.0</td>\n",
              "      <td>Sublette</td>\n",
              "      <td>Wyoming</td>\n",
              "      <td>US</td>\n",
              "      <td>42.765583</td>\n",
              "      <td>-109.913092</td>\n",
              "      <td>Sublette, Wyoming, US</td>\n",
              "      <td>8/20/20</td>\n",
              "      <td>41</td>\n",
              "    </tr>\n",
              "    <tr>\n",
              "      <th>708074</th>\n",
              "      <td>84056037</td>\n",
              "      <td>US</td>\n",
              "      <td>USA</td>\n",
              "      <td>840</td>\n",
              "      <td>56037.0</td>\n",
              "      <td>Sweetwater</td>\n",
              "      <td>Wyoming</td>\n",
              "      <td>US</td>\n",
              "      <td>41.659439</td>\n",
              "      <td>-108.882788</td>\n",
              "      <td>Sweetwater, Wyoming, US</td>\n",
              "      <td>8/20/20</td>\n",
              "      <td>285</td>\n",
              "    </tr>\n",
              "    <tr>\n",
              "      <th>708075</th>\n",
              "      <td>84056039</td>\n",
              "      <td>US</td>\n",
              "      <td>USA</td>\n",
              "      <td>840</td>\n",
              "      <td>56039.0</td>\n",
              "      <td>Teton</td>\n",
              "      <td>Wyoming</td>\n",
              "      <td>US</td>\n",
              "      <td>43.935225</td>\n",
              "      <td>-110.589080</td>\n",
              "      <td>Teton, Wyoming, US</td>\n",
              "      <td>8/20/20</td>\n",
              "      <td>398</td>\n",
              "    </tr>\n",
              "    <tr>\n",
              "      <th>708076</th>\n",
              "      <td>84056041</td>\n",
              "      <td>US</td>\n",
              "      <td>USA</td>\n",
              "      <td>840</td>\n",
              "      <td>56041.0</td>\n",
              "      <td>Uinta</td>\n",
              "      <td>Wyoming</td>\n",
              "      <td>US</td>\n",
              "      <td>41.287818</td>\n",
              "      <td>-110.547578</td>\n",
              "      <td>Uinta, Wyoming, US</td>\n",
              "      <td>8/20/20</td>\n",
              "      <td>283</td>\n",
              "    </tr>\n",
              "    <tr>\n",
              "      <th>708077</th>\n",
              "      <td>84090056</td>\n",
              "      <td>US</td>\n",
              "      <td>USA</td>\n",
              "      <td>840</td>\n",
              "      <td>90056.0</td>\n",
              "      <td>Unassigned</td>\n",
              "      <td>Wyoming</td>\n",
              "      <td>US</td>\n",
              "      <td>0.000000</td>\n",
              "      <td>0.000000</td>\n",
              "      <td>Unassigned, Wyoming, US</td>\n",
              "      <td>8/20/20</td>\n",
              "      <td>0</td>\n",
              "    </tr>\n",
              "    <tr>\n",
              "      <th>708078</th>\n",
              "      <td>84056043</td>\n",
              "      <td>US</td>\n",
              "      <td>USA</td>\n",
              "      <td>840</td>\n",
              "      <td>56043.0</td>\n",
              "      <td>Washakie</td>\n",
              "      <td>Wyoming</td>\n",
              "      <td>US</td>\n",
              "      <td>43.904516</td>\n",
              "      <td>-107.680187</td>\n",
              "      <td>Washakie, Wyoming, US</td>\n",
              "      <td>8/20/20</td>\n",
              "      <td>106</td>\n",
              "    </tr>\n",
              "    <tr>\n",
              "      <th>708079</th>\n",
              "      <td>84056045</td>\n",
              "      <td>US</td>\n",
              "      <td>USA</td>\n",
              "      <td>840</td>\n",
              "      <td>56045.0</td>\n",
              "      <td>Weston</td>\n",
              "      <td>Wyoming</td>\n",
              "      <td>US</td>\n",
              "      <td>43.839612</td>\n",
              "      <td>-104.567488</td>\n",
              "      <td>Weston, Wyoming, US</td>\n",
              "      <td>8/20/20</td>\n",
              "      <td>0</td>\n",
              "    </tr>\n",
              "  </tbody>\n",
              "</table>\n",
              "</div>"
            ],
            "text/plain": [
              "             UID iso2 iso3  ...             Combined_Key     Date Confirmed\n",
              "708070  84056029   US  USA  ...        Park, Wyoming, US  8/20/20       153\n",
              "708071  84056031   US  USA  ...      Platte, Wyoming, US  8/20/20         7\n",
              "708072  84056033   US  USA  ...    Sheridan, Wyoming, US  8/20/20       108\n",
              "708073  84056035   US  USA  ...    Sublette, Wyoming, US  8/20/20        41\n",
              "708074  84056037   US  USA  ...  Sweetwater, Wyoming, US  8/20/20       285\n",
              "708075  84056039   US  USA  ...       Teton, Wyoming, US  8/20/20       398\n",
              "708076  84056041   US  USA  ...       Uinta, Wyoming, US  8/20/20       283\n",
              "708077  84090056   US  USA  ...  Unassigned, Wyoming, US  8/20/20         0\n",
              "708078  84056043   US  USA  ...    Washakie, Wyoming, US  8/20/20       106\n",
              "708079  84056045   US  USA  ...      Weston, Wyoming, US  8/20/20         0\n",
              "\n",
              "[10 rows x 13 columns]"
            ]
          },
          "metadata": {
            "tags": []
          },
          "execution_count": 55
        }
      ]
    },
    {
      "cell_type": "code",
      "metadata": {
        "id": "pMhFo-6S4v9D",
        "colab_type": "code",
        "colab": {
          "base_uri": "https://localhost:8080/",
          "height": 549
        },
        "outputId": "a186f078-35f4-43fc-a787-46f7fbdbeccd"
      },
      "source": [
        "death_df_long.tail(10)"
      ],
      "execution_count": 56,
      "outputs": [
        {
          "output_type": "execute_result",
          "data": {
            "text/html": [
              "<div>\n",
              "<style scoped>\n",
              "    .dataframe tbody tr th:only-of-type {\n",
              "        vertical-align: middle;\n",
              "    }\n",
              "\n",
              "    .dataframe tbody tr th {\n",
              "        vertical-align: top;\n",
              "    }\n",
              "\n",
              "    .dataframe thead th {\n",
              "        text-align: right;\n",
              "    }\n",
              "</style>\n",
              "<table border=\"1\" class=\"dataframe\">\n",
              "  <thead>\n",
              "    <tr style=\"text-align: right;\">\n",
              "      <th></th>\n",
              "      <th>UID</th>\n",
              "      <th>iso2</th>\n",
              "      <th>iso3</th>\n",
              "      <th>code3</th>\n",
              "      <th>FIPS</th>\n",
              "      <th>Admin2</th>\n",
              "      <th>Province_State</th>\n",
              "      <th>Country_Region</th>\n",
              "      <th>Lat</th>\n",
              "      <th>Long_</th>\n",
              "      <th>Combined_Key</th>\n",
              "      <th>Population</th>\n",
              "      <th>Date</th>\n",
              "      <th>Deaths</th>\n",
              "    </tr>\n",
              "  </thead>\n",
              "  <tbody>\n",
              "    <tr>\n",
              "      <th>708070</th>\n",
              "      <td>84056029</td>\n",
              "      <td>US</td>\n",
              "      <td>USA</td>\n",
              "      <td>840</td>\n",
              "      <td>56029.0</td>\n",
              "      <td>Park</td>\n",
              "      <td>Wyoming</td>\n",
              "      <td>US</td>\n",
              "      <td>44.521575</td>\n",
              "      <td>-109.585282</td>\n",
              "      <td>Park, Wyoming, US</td>\n",
              "      <td>29194</td>\n",
              "      <td>8/20/20</td>\n",
              "      <td>0</td>\n",
              "    </tr>\n",
              "    <tr>\n",
              "      <th>708071</th>\n",
              "      <td>84056031</td>\n",
              "      <td>US</td>\n",
              "      <td>USA</td>\n",
              "      <td>840</td>\n",
              "      <td>56031.0</td>\n",
              "      <td>Platte</td>\n",
              "      <td>Wyoming</td>\n",
              "      <td>US</td>\n",
              "      <td>42.132991</td>\n",
              "      <td>-104.966331</td>\n",
              "      <td>Platte, Wyoming, US</td>\n",
              "      <td>8393</td>\n",
              "      <td>8/20/20</td>\n",
              "      <td>0</td>\n",
              "    </tr>\n",
              "    <tr>\n",
              "      <th>708072</th>\n",
              "      <td>84056033</td>\n",
              "      <td>US</td>\n",
              "      <td>USA</td>\n",
              "      <td>840</td>\n",
              "      <td>56033.0</td>\n",
              "      <td>Sheridan</td>\n",
              "      <td>Wyoming</td>\n",
              "      <td>US</td>\n",
              "      <td>44.790489</td>\n",
              "      <td>-106.886239</td>\n",
              "      <td>Sheridan, Wyoming, US</td>\n",
              "      <td>30485</td>\n",
              "      <td>8/20/20</td>\n",
              "      <td>0</td>\n",
              "    </tr>\n",
              "    <tr>\n",
              "      <th>708073</th>\n",
              "      <td>84056035</td>\n",
              "      <td>US</td>\n",
              "      <td>USA</td>\n",
              "      <td>840</td>\n",
              "      <td>56035.0</td>\n",
              "      <td>Sublette</td>\n",
              "      <td>Wyoming</td>\n",
              "      <td>US</td>\n",
              "      <td>42.765583</td>\n",
              "      <td>-109.913092</td>\n",
              "      <td>Sublette, Wyoming, US</td>\n",
              "      <td>9831</td>\n",
              "      <td>8/20/20</td>\n",
              "      <td>0</td>\n",
              "    </tr>\n",
              "    <tr>\n",
              "      <th>708074</th>\n",
              "      <td>84056037</td>\n",
              "      <td>US</td>\n",
              "      <td>USA</td>\n",
              "      <td>840</td>\n",
              "      <td>56037.0</td>\n",
              "      <td>Sweetwater</td>\n",
              "      <td>Wyoming</td>\n",
              "      <td>US</td>\n",
              "      <td>41.659439</td>\n",
              "      <td>-108.882788</td>\n",
              "      <td>Sweetwater, Wyoming, US</td>\n",
              "      <td>42343</td>\n",
              "      <td>8/20/20</td>\n",
              "      <td>0</td>\n",
              "    </tr>\n",
              "    <tr>\n",
              "      <th>708075</th>\n",
              "      <td>84056039</td>\n",
              "      <td>US</td>\n",
              "      <td>USA</td>\n",
              "      <td>840</td>\n",
              "      <td>56039.0</td>\n",
              "      <td>Teton</td>\n",
              "      <td>Wyoming</td>\n",
              "      <td>US</td>\n",
              "      <td>43.935225</td>\n",
              "      <td>-110.589080</td>\n",
              "      <td>Teton, Wyoming, US</td>\n",
              "      <td>23464</td>\n",
              "      <td>8/20/20</td>\n",
              "      <td>0</td>\n",
              "    </tr>\n",
              "    <tr>\n",
              "      <th>708076</th>\n",
              "      <td>84056041</td>\n",
              "      <td>US</td>\n",
              "      <td>USA</td>\n",
              "      <td>840</td>\n",
              "      <td>56041.0</td>\n",
              "      <td>Uinta</td>\n",
              "      <td>Wyoming</td>\n",
              "      <td>US</td>\n",
              "      <td>41.287818</td>\n",
              "      <td>-110.547578</td>\n",
              "      <td>Uinta, Wyoming, US</td>\n",
              "      <td>20226</td>\n",
              "      <td>8/20/20</td>\n",
              "      <td>0</td>\n",
              "    </tr>\n",
              "    <tr>\n",
              "      <th>708077</th>\n",
              "      <td>84090056</td>\n",
              "      <td>US</td>\n",
              "      <td>USA</td>\n",
              "      <td>840</td>\n",
              "      <td>90056.0</td>\n",
              "      <td>Unassigned</td>\n",
              "      <td>Wyoming</td>\n",
              "      <td>US</td>\n",
              "      <td>0.000000</td>\n",
              "      <td>0.000000</td>\n",
              "      <td>Unassigned, Wyoming, US</td>\n",
              "      <td>0</td>\n",
              "      <td>8/20/20</td>\n",
              "      <td>33</td>\n",
              "    </tr>\n",
              "    <tr>\n",
              "      <th>708078</th>\n",
              "      <td>84056043</td>\n",
              "      <td>US</td>\n",
              "      <td>USA</td>\n",
              "      <td>840</td>\n",
              "      <td>56043.0</td>\n",
              "      <td>Washakie</td>\n",
              "      <td>Wyoming</td>\n",
              "      <td>US</td>\n",
              "      <td>43.904516</td>\n",
              "      <td>-107.680187</td>\n",
              "      <td>Washakie, Wyoming, US</td>\n",
              "      <td>7805</td>\n",
              "      <td>8/20/20</td>\n",
              "      <td>0</td>\n",
              "    </tr>\n",
              "    <tr>\n",
              "      <th>708079</th>\n",
              "      <td>84056045</td>\n",
              "      <td>US</td>\n",
              "      <td>USA</td>\n",
              "      <td>840</td>\n",
              "      <td>56045.0</td>\n",
              "      <td>Weston</td>\n",
              "      <td>Wyoming</td>\n",
              "      <td>US</td>\n",
              "      <td>43.839612</td>\n",
              "      <td>-104.567488</td>\n",
              "      <td>Weston, Wyoming, US</td>\n",
              "      <td>6927</td>\n",
              "      <td>8/20/20</td>\n",
              "      <td>0</td>\n",
              "    </tr>\n",
              "  </tbody>\n",
              "</table>\n",
              "</div>"
            ],
            "text/plain": [
              "             UID iso2 iso3  ...  Population     Date Deaths\n",
              "708070  84056029   US  USA  ...       29194  8/20/20      0\n",
              "708071  84056031   US  USA  ...        8393  8/20/20      0\n",
              "708072  84056033   US  USA  ...       30485  8/20/20      0\n",
              "708073  84056035   US  USA  ...        9831  8/20/20      0\n",
              "708074  84056037   US  USA  ...       42343  8/20/20      0\n",
              "708075  84056039   US  USA  ...       23464  8/20/20      0\n",
              "708076  84056041   US  USA  ...       20226  8/20/20      0\n",
              "708077  84090056   US  USA  ...           0  8/20/20     33\n",
              "708078  84056043   US  USA  ...        7805  8/20/20      0\n",
              "708079  84056045   US  USA  ...        6927  8/20/20      0\n",
              "\n",
              "[10 rows x 14 columns]"
            ]
          },
          "metadata": {
            "tags": []
          },
          "execution_count": 56
        }
      ]
    },
    {
      "cell_type": "markdown",
      "metadata": {
        "id": "g9mtjPgr6Npu",
        "colab_type": "text"
      },
      "source": [
        "## Check California-New York data"
      ]
    },
    {
      "cell_type": "code",
      "metadata": {
        "id": "nDaNNgfV4v6Q",
        "colab_type": "code",
        "colab": {
          "base_uri": "https://localhost:8080/",
          "height": 309
        },
        "outputId": "4fe7deb6-3427-46fb-dbe8-71a9a80fafd6"
      },
      "source": [
        "state= ['California','New York']\n",
        "confirmed_CA_df = confirmed_df_long[confirmed_df_long['Province_State'].isin(state)]\n",
        "confirmed_CA_df.tail(5)"
      ],
      "execution_count": 57,
      "outputs": [
        {
          "output_type": "execute_result",
          "data": {
            "text/html": [
              "<div>\n",
              "<style scoped>\n",
              "    .dataframe tbody tr th:only-of-type {\n",
              "        vertical-align: middle;\n",
              "    }\n",
              "\n",
              "    .dataframe tbody tr th {\n",
              "        vertical-align: top;\n",
              "    }\n",
              "\n",
              "    .dataframe thead th {\n",
              "        text-align: right;\n",
              "    }\n",
              "</style>\n",
              "<table border=\"1\" class=\"dataframe\">\n",
              "  <thead>\n",
              "    <tr style=\"text-align: right;\">\n",
              "      <th></th>\n",
              "      <th>UID</th>\n",
              "      <th>iso2</th>\n",
              "      <th>iso3</th>\n",
              "      <th>code3</th>\n",
              "      <th>FIPS</th>\n",
              "      <th>Admin2</th>\n",
              "      <th>Province_State</th>\n",
              "      <th>Country_Region</th>\n",
              "      <th>Lat</th>\n",
              "      <th>Long_</th>\n",
              "      <th>Combined_Key</th>\n",
              "      <th>Date</th>\n",
              "      <th>Confirmed</th>\n",
              "    </tr>\n",
              "  </thead>\n",
              "  <tbody>\n",
              "    <tr>\n",
              "      <th>706699</th>\n",
              "      <td>84036115</td>\n",
              "      <td>US</td>\n",
              "      <td>USA</td>\n",
              "      <td>840</td>\n",
              "      <td>36115.0</td>\n",
              "      <td>Washington</td>\n",
              "      <td>New York</td>\n",
              "      <td>US</td>\n",
              "      <td>43.311538</td>\n",
              "      <td>-73.430434</td>\n",
              "      <td>Washington, New York, US</td>\n",
              "      <td>8/20/20</td>\n",
              "      <td>264</td>\n",
              "    </tr>\n",
              "    <tr>\n",
              "      <th>706700</th>\n",
              "      <td>84036117</td>\n",
              "      <td>US</td>\n",
              "      <td>USA</td>\n",
              "      <td>840</td>\n",
              "      <td>36117.0</td>\n",
              "      <td>Wayne</td>\n",
              "      <td>New York</td>\n",
              "      <td>US</td>\n",
              "      <td>43.154944</td>\n",
              "      <td>-77.029765</td>\n",
              "      <td>Wayne, New York, US</td>\n",
              "      <td>8/20/20</td>\n",
              "      <td>270</td>\n",
              "    </tr>\n",
              "    <tr>\n",
              "      <th>706701</th>\n",
              "      <td>84036119</td>\n",
              "      <td>US</td>\n",
              "      <td>USA</td>\n",
              "      <td>840</td>\n",
              "      <td>36119.0</td>\n",
              "      <td>Westchester</td>\n",
              "      <td>New York</td>\n",
              "      <td>US</td>\n",
              "      <td>41.162784</td>\n",
              "      <td>-73.757417</td>\n",
              "      <td>Westchester, New York, US</td>\n",
              "      <td>8/20/20</td>\n",
              "      <td>36586</td>\n",
              "    </tr>\n",
              "    <tr>\n",
              "      <th>706702</th>\n",
              "      <td>84036121</td>\n",
              "      <td>US</td>\n",
              "      <td>USA</td>\n",
              "      <td>840</td>\n",
              "      <td>36121.0</td>\n",
              "      <td>Wyoming</td>\n",
              "      <td>New York</td>\n",
              "      <td>US</td>\n",
              "      <td>42.701451</td>\n",
              "      <td>-78.221996</td>\n",
              "      <td>Wyoming, New York, US</td>\n",
              "      <td>8/20/20</td>\n",
              "      <td>120</td>\n",
              "    </tr>\n",
              "    <tr>\n",
              "      <th>706703</th>\n",
              "      <td>84036123</td>\n",
              "      <td>US</td>\n",
              "      <td>USA</td>\n",
              "      <td>840</td>\n",
              "      <td>36123.0</td>\n",
              "      <td>Yates</td>\n",
              "      <td>New York</td>\n",
              "      <td>US</td>\n",
              "      <td>42.635055</td>\n",
              "      <td>-77.103699</td>\n",
              "      <td>Yates, New York, US</td>\n",
              "      <td>8/20/20</td>\n",
              "      <td>59</td>\n",
              "    </tr>\n",
              "  </tbody>\n",
              "</table>\n",
              "</div>"
            ],
            "text/plain": [
              "             UID iso2 iso3  ...               Combined_Key     Date Confirmed\n",
              "706699  84036115   US  USA  ...   Washington, New York, US  8/20/20       264\n",
              "706700  84036117   US  USA  ...        Wayne, New York, US  8/20/20       270\n",
              "706701  84036119   US  USA  ...  Westchester, New York, US  8/20/20     36586\n",
              "706702  84036121   US  USA  ...      Wyoming, New York, US  8/20/20       120\n",
              "706703  84036123   US  USA  ...        Yates, New York, US  8/20/20        59\n",
              "\n",
              "[5 rows x 13 columns]"
            ]
          },
          "metadata": {
            "tags": []
          },
          "execution_count": 57
        }
      ]
    },
    {
      "cell_type": "code",
      "metadata": {
        "id": "TAkNMnrg6dfn",
        "colab_type": "code",
        "colab": {
          "base_uri": "https://localhost:8080/",
          "height": 34
        },
        "outputId": "fb76ae80-49c2-4674-867d-72ea5a3a7f47"
      },
      "source": [
        "confirmed_CA_df.Province_State.unique()"
      ],
      "execution_count": 58,
      "outputs": [
        {
          "output_type": "execute_result",
          "data": {
            "text/plain": [
              "array(['California', 'New York'], dtype=object)"
            ]
          },
          "metadata": {
            "tags": []
          },
          "execution_count": 58
        }
      ]
    },
    {
      "cell_type": "markdown",
      "metadata": {
        "id": "qVKk5oHB6kH2",
        "colab_type": "text"
      },
      "source": [
        "## Merging Confirmed and Death data"
      ]
    },
    {
      "cell_type": "code",
      "metadata": {
        "id": "vmW7r2mT4v3k",
        "colab_type": "code",
        "colab": {
          "base_uri": "https://localhost:8080/",
          "height": 549
        },
        "outputId": "601ddf55-ddd0-41f4-f2e0-bf34579fbae6"
      },
      "source": [
        "full_table = confirmed_df_long.merge(\n",
        "    right=death_df_long,\n",
        "    how='left',\n",
        "    on=[ 'UID', 'iso2', 'iso3', 'code3', 'FIPS', 'Admin2', 'Province_State',\n",
        "       'Country_Region', 'Lat', 'Long_', 'Combined_Key','Date']\n",
        ")\n",
        "\n",
        "full_table.head(10)"
      ],
      "execution_count": 59,
      "outputs": [
        {
          "output_type": "execute_result",
          "data": {
            "text/html": [
              "<div>\n",
              "<style scoped>\n",
              "    .dataframe tbody tr th:only-of-type {\n",
              "        vertical-align: middle;\n",
              "    }\n",
              "\n",
              "    .dataframe tbody tr th {\n",
              "        vertical-align: top;\n",
              "    }\n",
              "\n",
              "    .dataframe thead th {\n",
              "        text-align: right;\n",
              "    }\n",
              "</style>\n",
              "<table border=\"1\" class=\"dataframe\">\n",
              "  <thead>\n",
              "    <tr style=\"text-align: right;\">\n",
              "      <th></th>\n",
              "      <th>UID</th>\n",
              "      <th>iso2</th>\n",
              "      <th>iso3</th>\n",
              "      <th>code3</th>\n",
              "      <th>FIPS</th>\n",
              "      <th>Admin2</th>\n",
              "      <th>Province_State</th>\n",
              "      <th>Country_Region</th>\n",
              "      <th>Lat</th>\n",
              "      <th>Long_</th>\n",
              "      <th>Combined_Key</th>\n",
              "      <th>Date</th>\n",
              "      <th>Confirmed</th>\n",
              "      <th>Population</th>\n",
              "      <th>Deaths</th>\n",
              "    </tr>\n",
              "  </thead>\n",
              "  <tbody>\n",
              "    <tr>\n",
              "      <th>0</th>\n",
              "      <td>84001001</td>\n",
              "      <td>US</td>\n",
              "      <td>USA</td>\n",
              "      <td>840</td>\n",
              "      <td>1001.0</td>\n",
              "      <td>Autauga</td>\n",
              "      <td>Alabama</td>\n",
              "      <td>US</td>\n",
              "      <td>32.539527</td>\n",
              "      <td>-86.644082</td>\n",
              "      <td>Autauga, Alabama, US</td>\n",
              "      <td>1/22/20</td>\n",
              "      <td>0</td>\n",
              "      <td>55869</td>\n",
              "      <td>0</td>\n",
              "    </tr>\n",
              "    <tr>\n",
              "      <th>1</th>\n",
              "      <td>84001003</td>\n",
              "      <td>US</td>\n",
              "      <td>USA</td>\n",
              "      <td>840</td>\n",
              "      <td>1003.0</td>\n",
              "      <td>Baldwin</td>\n",
              "      <td>Alabama</td>\n",
              "      <td>US</td>\n",
              "      <td>30.727750</td>\n",
              "      <td>-87.722071</td>\n",
              "      <td>Baldwin, Alabama, US</td>\n",
              "      <td>1/22/20</td>\n",
              "      <td>0</td>\n",
              "      <td>223234</td>\n",
              "      <td>0</td>\n",
              "    </tr>\n",
              "    <tr>\n",
              "      <th>2</th>\n",
              "      <td>84001005</td>\n",
              "      <td>US</td>\n",
              "      <td>USA</td>\n",
              "      <td>840</td>\n",
              "      <td>1005.0</td>\n",
              "      <td>Barbour</td>\n",
              "      <td>Alabama</td>\n",
              "      <td>US</td>\n",
              "      <td>31.868263</td>\n",
              "      <td>-85.387129</td>\n",
              "      <td>Barbour, Alabama, US</td>\n",
              "      <td>1/22/20</td>\n",
              "      <td>0</td>\n",
              "      <td>24686</td>\n",
              "      <td>0</td>\n",
              "    </tr>\n",
              "    <tr>\n",
              "      <th>3</th>\n",
              "      <td>84001007</td>\n",
              "      <td>US</td>\n",
              "      <td>USA</td>\n",
              "      <td>840</td>\n",
              "      <td>1007.0</td>\n",
              "      <td>Bibb</td>\n",
              "      <td>Alabama</td>\n",
              "      <td>US</td>\n",
              "      <td>32.996421</td>\n",
              "      <td>-87.125115</td>\n",
              "      <td>Bibb, Alabama, US</td>\n",
              "      <td>1/22/20</td>\n",
              "      <td>0</td>\n",
              "      <td>22394</td>\n",
              "      <td>0</td>\n",
              "    </tr>\n",
              "    <tr>\n",
              "      <th>4</th>\n",
              "      <td>84001009</td>\n",
              "      <td>US</td>\n",
              "      <td>USA</td>\n",
              "      <td>840</td>\n",
              "      <td>1009.0</td>\n",
              "      <td>Blount</td>\n",
              "      <td>Alabama</td>\n",
              "      <td>US</td>\n",
              "      <td>33.982109</td>\n",
              "      <td>-86.567906</td>\n",
              "      <td>Blount, Alabama, US</td>\n",
              "      <td>1/22/20</td>\n",
              "      <td>0</td>\n",
              "      <td>57826</td>\n",
              "      <td>0</td>\n",
              "    </tr>\n",
              "    <tr>\n",
              "      <th>5</th>\n",
              "      <td>84001011</td>\n",
              "      <td>US</td>\n",
              "      <td>USA</td>\n",
              "      <td>840</td>\n",
              "      <td>1011.0</td>\n",
              "      <td>Bullock</td>\n",
              "      <td>Alabama</td>\n",
              "      <td>US</td>\n",
              "      <td>32.100305</td>\n",
              "      <td>-85.712655</td>\n",
              "      <td>Bullock, Alabama, US</td>\n",
              "      <td>1/22/20</td>\n",
              "      <td>0</td>\n",
              "      <td>10101</td>\n",
              "      <td>0</td>\n",
              "    </tr>\n",
              "    <tr>\n",
              "      <th>6</th>\n",
              "      <td>84001013</td>\n",
              "      <td>US</td>\n",
              "      <td>USA</td>\n",
              "      <td>840</td>\n",
              "      <td>1013.0</td>\n",
              "      <td>Butler</td>\n",
              "      <td>Alabama</td>\n",
              "      <td>US</td>\n",
              "      <td>31.753001</td>\n",
              "      <td>-86.680575</td>\n",
              "      <td>Butler, Alabama, US</td>\n",
              "      <td>1/22/20</td>\n",
              "      <td>0</td>\n",
              "      <td>19448</td>\n",
              "      <td>0</td>\n",
              "    </tr>\n",
              "    <tr>\n",
              "      <th>7</th>\n",
              "      <td>84001015</td>\n",
              "      <td>US</td>\n",
              "      <td>USA</td>\n",
              "      <td>840</td>\n",
              "      <td>1015.0</td>\n",
              "      <td>Calhoun</td>\n",
              "      <td>Alabama</td>\n",
              "      <td>US</td>\n",
              "      <td>33.774837</td>\n",
              "      <td>-85.826304</td>\n",
              "      <td>Calhoun, Alabama, US</td>\n",
              "      <td>1/22/20</td>\n",
              "      <td>0</td>\n",
              "      <td>113605</td>\n",
              "      <td>0</td>\n",
              "    </tr>\n",
              "    <tr>\n",
              "      <th>8</th>\n",
              "      <td>84001017</td>\n",
              "      <td>US</td>\n",
              "      <td>USA</td>\n",
              "      <td>840</td>\n",
              "      <td>1017.0</td>\n",
              "      <td>Chambers</td>\n",
              "      <td>Alabama</td>\n",
              "      <td>US</td>\n",
              "      <td>32.913601</td>\n",
              "      <td>-85.390727</td>\n",
              "      <td>Chambers, Alabama, US</td>\n",
              "      <td>1/22/20</td>\n",
              "      <td>0</td>\n",
              "      <td>33254</td>\n",
              "      <td>0</td>\n",
              "    </tr>\n",
              "    <tr>\n",
              "      <th>9</th>\n",
              "      <td>84001019</td>\n",
              "      <td>US</td>\n",
              "      <td>USA</td>\n",
              "      <td>840</td>\n",
              "      <td>1019.0</td>\n",
              "      <td>Cherokee</td>\n",
              "      <td>Alabama</td>\n",
              "      <td>US</td>\n",
              "      <td>34.178060</td>\n",
              "      <td>-85.606390</td>\n",
              "      <td>Cherokee, Alabama, US</td>\n",
              "      <td>1/22/20</td>\n",
              "      <td>0</td>\n",
              "      <td>26196</td>\n",
              "      <td>0</td>\n",
              "    </tr>\n",
              "  </tbody>\n",
              "</table>\n",
              "</div>"
            ],
            "text/plain": [
              "        UID iso2 iso3  code3  ...     Date Confirmed Population Deaths\n",
              "0  84001001   US  USA    840  ...  1/22/20         0      55869      0\n",
              "1  84001003   US  USA    840  ...  1/22/20         0     223234      0\n",
              "2  84001005   US  USA    840  ...  1/22/20         0      24686      0\n",
              "3  84001007   US  USA    840  ...  1/22/20         0      22394      0\n",
              "4  84001009   US  USA    840  ...  1/22/20         0      57826      0\n",
              "5  84001011   US  USA    840  ...  1/22/20         0      10101      0\n",
              "6  84001013   US  USA    840  ...  1/22/20         0      19448      0\n",
              "7  84001015   US  USA    840  ...  1/22/20         0     113605      0\n",
              "8  84001017   US  USA    840  ...  1/22/20         0      33254      0\n",
              "9  84001019   US  USA    840  ...  1/22/20         0      26196      0\n",
              "\n",
              "[10 rows x 15 columns]"
            ]
          },
          "metadata": {
            "tags": []
          },
          "execution_count": 59
        }
      ]
    },
    {
      "cell_type": "code",
      "metadata": {
        "id": "tl_kc1Dy4vxc",
        "colab_type": "code",
        "colab": {}
      },
      "source": [
        "#full_table['Date'] = pd.to_datetime(full_table['Date'])\n"
      ],
      "execution_count": 60,
      "outputs": []
    },
    {
      "cell_type": "code",
      "metadata": {
        "id": "IGsPX5xY-FwZ",
        "colab_type": "code",
        "colab": {}
      },
      "source": [
        "ship_data = full_table['Province_State'].str.contains('Grand Princess') | full_table['Province_State'].str.contains('Diamond Princess') | full_table['Province_State'].str.contains('Northern Mariana Islands') | full_table['Province_State'].str.contains('American Samoa') |full_table['Province_State'].str.contains('Guam') | full_table['Province_State'].str.contains('Virgin Islands')\n",
        "\n",
        "full_ship = full_table[ship_data]\n"
      ],
      "execution_count": 61,
      "outputs": []
    },
    {
      "cell_type": "code",
      "metadata": {
        "id": "qX8IIjJkAGsQ",
        "colab_type": "code",
        "colab": {}
      },
      "source": [
        "# Removing ship data from State data\n",
        "\n",
        "full_table = full_table[~(ship_data)]"
      ],
      "execution_count": 62,
      "outputs": []
    },
    {
      "cell_type": "markdown",
      "metadata": {
        "id": "8bYhqhBUAa6J",
        "colab_type": "text"
      },
      "source": [
        "## Group data"
      ]
    },
    {
      "cell_type": "code",
      "metadata": {
        "id": "VMxboCIAAGqB",
        "colab_type": "code",
        "colab": {
          "base_uri": "https://localhost:8080/",
          "height": 204
        },
        "outputId": "5874851e-bd0e-4269-dc8a-56e31679ca35"
      },
      "source": [
        "full_grouped = full_table.groupby(['Date', 'Province_State','FIPS'])['Confirmed', 'Deaths'].sum().reset_index()\n",
        "\n",
        "full_grouped.tail(5)"
      ],
      "execution_count": 97,
      "outputs": [
        {
          "output_type": "execute_result",
          "data": {
            "text/html": [
              "<div>\n",
              "<style scoped>\n",
              "    .dataframe tbody tr th:only-of-type {\n",
              "        vertical-align: middle;\n",
              "    }\n",
              "\n",
              "    .dataframe tbody tr th {\n",
              "        vertical-align: top;\n",
              "    }\n",
              "\n",
              "    .dataframe thead th {\n",
              "        text-align: right;\n",
              "    }\n",
              "</style>\n",
              "<table border=\"1\" class=\"dataframe\">\n",
              "  <thead>\n",
              "    <tr style=\"text-align: right;\">\n",
              "      <th></th>\n",
              "      <th>Date</th>\n",
              "      <th>Province_State</th>\n",
              "      <th>FIPS</th>\n",
              "      <th>Confirmed</th>\n",
              "      <th>Deaths</th>\n",
              "    </tr>\n",
              "  </thead>\n",
              "  <tbody>\n",
              "    <tr>\n",
              "      <th>704683</th>\n",
              "      <td>8/9/20</td>\n",
              "      <td>Wyoming</td>\n",
              "      <td>56041.0</td>\n",
              "      <td>278</td>\n",
              "      <td>0</td>\n",
              "    </tr>\n",
              "    <tr>\n",
              "      <th>704684</th>\n",
              "      <td>8/9/20</td>\n",
              "      <td>Wyoming</td>\n",
              "      <td>56043.0</td>\n",
              "      <td>77</td>\n",
              "      <td>0</td>\n",
              "    </tr>\n",
              "    <tr>\n",
              "      <th>704685</th>\n",
              "      <td>8/9/20</td>\n",
              "      <td>Wyoming</td>\n",
              "      <td>56045.0</td>\n",
              "      <td>5</td>\n",
              "      <td>0</td>\n",
              "    </tr>\n",
              "    <tr>\n",
              "      <th>704686</th>\n",
              "      <td>8/9/20</td>\n",
              "      <td>Wyoming</td>\n",
              "      <td>80056.0</td>\n",
              "      <td>0</td>\n",
              "      <td>0</td>\n",
              "    </tr>\n",
              "    <tr>\n",
              "      <th>704687</th>\n",
              "      <td>8/9/20</td>\n",
              "      <td>Wyoming</td>\n",
              "      <td>90056.0</td>\n",
              "      <td>0</td>\n",
              "      <td>27</td>\n",
              "    </tr>\n",
              "  </tbody>\n",
              "</table>\n",
              "</div>"
            ],
            "text/plain": [
              "          Date Province_State     FIPS  Confirmed  Deaths\n",
              "704683  8/9/20        Wyoming  56041.0        278       0\n",
              "704684  8/9/20        Wyoming  56043.0         77       0\n",
              "704685  8/9/20        Wyoming  56045.0          5       0\n",
              "704686  8/9/20        Wyoming  80056.0          0       0\n",
              "704687  8/9/20        Wyoming  90056.0          0      27"
            ]
          },
          "metadata": {
            "tags": []
          },
          "execution_count": 97
        }
      ]
    },
    {
      "cell_type": "code",
      "metadata": {
        "id": "MBTXndxmKr8Z",
        "colab_type": "code",
        "colab": {
          "base_uri": "https://localhost:8080/",
          "height": 34
        },
        "outputId": "d6de39c6-fc09-4aea-cc51-2be9b2f4d545"
      },
      "source": [
        "full_grouped.shape"
      ],
      "execution_count": 64,
      "outputs": [
        {
          "output_type": "execute_result",
          "data": {
            "text/plain": [
              "(704688, 5)"
            ]
          },
          "metadata": {
            "tags": []
          },
          "execution_count": 64
        }
      ]
    },
    {
      "cell_type": "markdown",
      "metadata": {
        "id": "IZGdcgaLA3gY",
        "colab_type": "text"
      },
      "source": [
        "####  Adding new cases, new deaths by subtracting from previous day record"
      ]
    },
    {
      "cell_type": "code",
      "metadata": {
        "id": "hdVFIrecbiM0",
        "colab_type": "code",
        "colab": {}
      },
      "source": [
        ""
      ],
      "execution_count": 64,
      "outputs": []
    },
    {
      "cell_type": "code",
      "metadata": {
        "id": "8wHzIsf7ba71",
        "colab_type": "code",
        "colab": {
          "base_uri": "https://localhost:8080/",
          "height": 119
        },
        "outputId": "f84299ce-f58a-407a-fc3c-b39392e6f570"
      },
      "source": [
        "full_grouped.dtypes"
      ],
      "execution_count": 65,
      "outputs": [
        {
          "output_type": "execute_result",
          "data": {
            "text/plain": [
              "Date               object\n",
              "Province_State     object\n",
              "FIPS              float64\n",
              "Confirmed           int64\n",
              "Deaths              int64\n",
              "dtype: object"
            ]
          },
          "metadata": {
            "tags": []
          },
          "execution_count": 65
        }
      ]
    },
    {
      "cell_type": "code",
      "metadata": {
        "id": "BLPdIAKodQNZ",
        "colab_type": "code",
        "colab": {}
      },
      "source": [
        "full_grouped_ = full_grouped.copy()"
      ],
      "execution_count": 98,
      "outputs": []
    },
    {
      "cell_type": "code",
      "metadata": {
        "id": "LWk-gkHzdU2k",
        "colab_type": "code",
        "colab": {}
      },
      "source": [
        "full_grouped = full_grouped_.copy()"
      ],
      "execution_count": 124,
      "outputs": []
    },
    {
      "cell_type": "code",
      "metadata": {
        "id": "l1jKyIpJfgif",
        "colab_type": "code",
        "colab": {}
      },
      "source": [
        "df = pd.DataFrame(columns=['Date','Province_State','FIPS','Confirmed','Deaths','New cases','New deaths'])\n",
        "\n"
      ],
      "execution_count": 151,
      "outputs": []
    },
    {
      "cell_type": "code",
      "metadata": {
        "id": "9Rc4rAUgju2G",
        "colab_type": "code",
        "colab": {}
      },
      "source": [
        "def fixDate(x):\n",
        "  arr = x.split('/')\n",
        "  m = arr[0]\n",
        "  d = arr[1]\n",
        "  y = arr[2]\n",
        "\n",
        "  if int(m) < 10:\n",
        "    m = '0'+str(m)\n",
        "  if int(d) < 10:\n",
        "    d = '0'+str(d)\n",
        "  return '20'+str(y)+'-'+m+'-'+d"
      ],
      "execution_count": 152,
      "outputs": []
    },
    {
      "cell_type": "code",
      "metadata": {
        "id": "JPY0D4cdjv-e",
        "colab_type": "code",
        "colab": {
          "base_uri": "https://localhost:8080/",
          "height": 111
        },
        "outputId": "c63e4974-8243-46f3-fe1f-c7f17c2c70d7"
      },
      "source": [
        "full_grouped['Date'] = full_grouped['Date'].apply(lambda x: fixDate(x))\n",
        "\n",
        "full_grouped.head(2)"
      ],
      "execution_count": 148,
      "outputs": [
        {
          "output_type": "execute_result",
          "data": {
            "text/html": [
              "<div>\n",
              "<style scoped>\n",
              "    .dataframe tbody tr th:only-of-type {\n",
              "        vertical-align: middle;\n",
              "    }\n",
              "\n",
              "    .dataframe tbody tr th {\n",
              "        vertical-align: top;\n",
              "    }\n",
              "\n",
              "    .dataframe thead th {\n",
              "        text-align: right;\n",
              "    }\n",
              "</style>\n",
              "<table border=\"1\" class=\"dataframe\">\n",
              "  <thead>\n",
              "    <tr style=\"text-align: right;\">\n",
              "      <th></th>\n",
              "      <th>Date</th>\n",
              "      <th>Province_State</th>\n",
              "      <th>FIPS</th>\n",
              "      <th>Confirmed</th>\n",
              "      <th>Deaths</th>\n",
              "    </tr>\n",
              "  </thead>\n",
              "  <tbody>\n",
              "    <tr>\n",
              "      <th>0</th>\n",
              "      <td>2020-01-22</td>\n",
              "      <td>Alabama</td>\n",
              "      <td>1001.0</td>\n",
              "      <td>0</td>\n",
              "      <td>0</td>\n",
              "    </tr>\n",
              "    <tr>\n",
              "      <th>1</th>\n",
              "      <td>2020-01-22</td>\n",
              "      <td>Alabama</td>\n",
              "      <td>1003.0</td>\n",
              "      <td>0</td>\n",
              "      <td>0</td>\n",
              "    </tr>\n",
              "  </tbody>\n",
              "</table>\n",
              "</div>"
            ],
            "text/plain": [
              "         Date Province_State    FIPS  Confirmed  Deaths\n",
              "0  2020-01-22        Alabama  1001.0          0       0\n",
              "1  2020-01-22        Alabama  1003.0          0       0"
            ]
          },
          "metadata": {
            "tags": []
          },
          "execution_count": 148
        }
      ]
    },
    {
      "cell_type": "code",
      "metadata": {
        "id": "K4GKq88tfEg1",
        "colab_type": "code",
        "colab": {}
      },
      "source": [
        "def computeNewCases(FIPS):\n",
        "  countyData = full_grouped[full_grouped['FIPS'] == FIPS]\n",
        "  countyData = countyData.sort_values(by=['Date'])\n",
        "  temp = countyData.groupby(['Date'])['Confirmed', 'Deaths']\n",
        "  temp = temp.sum().diff().reset_index()\n",
        "  #print(temp)\n",
        "  temp.loc[mask, 'Confirmed'] = np.nan\n",
        "  temp.loc[mask, 'Deaths'] = np.nan\n",
        "  temp.columns = ['Date', 'New cases', 'New deaths']\n",
        "  countyData = pd.merge(countyData, temp, on=[ 'Date'])\n",
        "  #print(countyData)\n",
        "  #print('********')\n",
        "  # filling na with 0\n",
        "  countyData = countyData.fillna(0)\n",
        "  # fixing data types\n",
        "  cols = ['New cases', 'New deaths']\n",
        "  countyData[cols] = countyData[cols].astype('int') \n",
        "  return countyData\n"
      ],
      "execution_count": 149,
      "outputs": []
    },
    {
      "cell_type": "markdown",
      "metadata": {
        "id": "PVv0TytWlAhr",
        "colab_type": "text"
      },
      "source": [
        "Below code executes for all FIPS, estimated runtime **10 minutes**"
      ]
    },
    {
      "cell_type": "code",
      "metadata": {
        "id": "WSLCWQH9gQ5h",
        "colab_type": "code",
        "colab": {}
      },
      "source": [
        "\n",
        "for fips in full_grouped.FIPS.unique():\n",
        "  countydf = computeNewCases(fips)\n",
        "  df = df.append(countydf)"
      ],
      "execution_count": 153,
      "outputs": []
    },
    {
      "cell_type": "code",
      "metadata": {
        "id": "lRUhQHWQhBd6",
        "colab_type": "code",
        "colab": {
          "base_uri": "https://localhost:8080/",
          "height": 979
        },
        "outputId": "6752c08f-4e37-4b3c-b137-18d0c80a7dc5"
      },
      "source": [
        "df.head(30)"
      ],
      "execution_count": 158,
      "outputs": [
        {
          "output_type": "execute_result",
          "data": {
            "text/html": [
              "<div>\n",
              "<style scoped>\n",
              "    .dataframe tbody tr th:only-of-type {\n",
              "        vertical-align: middle;\n",
              "    }\n",
              "\n",
              "    .dataframe tbody tr th {\n",
              "        vertical-align: top;\n",
              "    }\n",
              "\n",
              "    .dataframe thead th {\n",
              "        text-align: right;\n",
              "    }\n",
              "</style>\n",
              "<table border=\"1\" class=\"dataframe\">\n",
              "  <thead>\n",
              "    <tr style=\"text-align: right;\">\n",
              "      <th></th>\n",
              "      <th>Date</th>\n",
              "      <th>Province_State</th>\n",
              "      <th>FIPS</th>\n",
              "      <th>Confirmed</th>\n",
              "      <th>Deaths</th>\n",
              "      <th>New cases</th>\n",
              "      <th>New deaths</th>\n",
              "    </tr>\n",
              "  </thead>\n",
              "  <tbody>\n",
              "    <tr>\n",
              "      <th>0</th>\n",
              "      <td>2020-01-22</td>\n",
              "      <td>Alabama</td>\n",
              "      <td>1001.0</td>\n",
              "      <td>0</td>\n",
              "      <td>0</td>\n",
              "      <td>0</td>\n",
              "      <td>0</td>\n",
              "    </tr>\n",
              "    <tr>\n",
              "      <th>1</th>\n",
              "      <td>2020-01-23</td>\n",
              "      <td>Alabama</td>\n",
              "      <td>1001.0</td>\n",
              "      <td>0</td>\n",
              "      <td>0</td>\n",
              "      <td>0</td>\n",
              "      <td>0</td>\n",
              "    </tr>\n",
              "    <tr>\n",
              "      <th>2</th>\n",
              "      <td>2020-01-24</td>\n",
              "      <td>Alabama</td>\n",
              "      <td>1001.0</td>\n",
              "      <td>0</td>\n",
              "      <td>0</td>\n",
              "      <td>0</td>\n",
              "      <td>0</td>\n",
              "    </tr>\n",
              "    <tr>\n",
              "      <th>3</th>\n",
              "      <td>2020-01-25</td>\n",
              "      <td>Alabama</td>\n",
              "      <td>1001.0</td>\n",
              "      <td>0</td>\n",
              "      <td>0</td>\n",
              "      <td>0</td>\n",
              "      <td>0</td>\n",
              "    </tr>\n",
              "    <tr>\n",
              "      <th>4</th>\n",
              "      <td>2020-01-26</td>\n",
              "      <td>Alabama</td>\n",
              "      <td>1001.0</td>\n",
              "      <td>0</td>\n",
              "      <td>0</td>\n",
              "      <td>0</td>\n",
              "      <td>0</td>\n",
              "    </tr>\n",
              "    <tr>\n",
              "      <th>5</th>\n",
              "      <td>2020-01-27</td>\n",
              "      <td>Alabama</td>\n",
              "      <td>1001.0</td>\n",
              "      <td>0</td>\n",
              "      <td>0</td>\n",
              "      <td>0</td>\n",
              "      <td>0</td>\n",
              "    </tr>\n",
              "    <tr>\n",
              "      <th>6</th>\n",
              "      <td>2020-01-28</td>\n",
              "      <td>Alabama</td>\n",
              "      <td>1001.0</td>\n",
              "      <td>0</td>\n",
              "      <td>0</td>\n",
              "      <td>0</td>\n",
              "      <td>0</td>\n",
              "    </tr>\n",
              "    <tr>\n",
              "      <th>7</th>\n",
              "      <td>2020-01-29</td>\n",
              "      <td>Alabama</td>\n",
              "      <td>1001.0</td>\n",
              "      <td>0</td>\n",
              "      <td>0</td>\n",
              "      <td>0</td>\n",
              "      <td>0</td>\n",
              "    </tr>\n",
              "    <tr>\n",
              "      <th>8</th>\n",
              "      <td>2020-01-30</td>\n",
              "      <td>Alabama</td>\n",
              "      <td>1001.0</td>\n",
              "      <td>0</td>\n",
              "      <td>0</td>\n",
              "      <td>0</td>\n",
              "      <td>0</td>\n",
              "    </tr>\n",
              "    <tr>\n",
              "      <th>9</th>\n",
              "      <td>2020-01-31</td>\n",
              "      <td>Alabama</td>\n",
              "      <td>1001.0</td>\n",
              "      <td>0</td>\n",
              "      <td>0</td>\n",
              "      <td>0</td>\n",
              "      <td>0</td>\n",
              "    </tr>\n",
              "    <tr>\n",
              "      <th>10</th>\n",
              "      <td>2020-02-01</td>\n",
              "      <td>Alabama</td>\n",
              "      <td>1001.0</td>\n",
              "      <td>0</td>\n",
              "      <td>0</td>\n",
              "      <td>0</td>\n",
              "      <td>0</td>\n",
              "    </tr>\n",
              "    <tr>\n",
              "      <th>11</th>\n",
              "      <td>2020-02-02</td>\n",
              "      <td>Alabama</td>\n",
              "      <td>1001.0</td>\n",
              "      <td>0</td>\n",
              "      <td>0</td>\n",
              "      <td>0</td>\n",
              "      <td>0</td>\n",
              "    </tr>\n",
              "    <tr>\n",
              "      <th>12</th>\n",
              "      <td>2020-02-03</td>\n",
              "      <td>Alabama</td>\n",
              "      <td>1001.0</td>\n",
              "      <td>0</td>\n",
              "      <td>0</td>\n",
              "      <td>0</td>\n",
              "      <td>0</td>\n",
              "    </tr>\n",
              "    <tr>\n",
              "      <th>13</th>\n",
              "      <td>2020-02-04</td>\n",
              "      <td>Alabama</td>\n",
              "      <td>1001.0</td>\n",
              "      <td>0</td>\n",
              "      <td>0</td>\n",
              "      <td>0</td>\n",
              "      <td>0</td>\n",
              "    </tr>\n",
              "    <tr>\n",
              "      <th>14</th>\n",
              "      <td>2020-02-05</td>\n",
              "      <td>Alabama</td>\n",
              "      <td>1001.0</td>\n",
              "      <td>0</td>\n",
              "      <td>0</td>\n",
              "      <td>0</td>\n",
              "      <td>0</td>\n",
              "    </tr>\n",
              "    <tr>\n",
              "      <th>15</th>\n",
              "      <td>2020-02-06</td>\n",
              "      <td>Alabama</td>\n",
              "      <td>1001.0</td>\n",
              "      <td>0</td>\n",
              "      <td>0</td>\n",
              "      <td>0</td>\n",
              "      <td>0</td>\n",
              "    </tr>\n",
              "    <tr>\n",
              "      <th>16</th>\n",
              "      <td>2020-02-07</td>\n",
              "      <td>Alabama</td>\n",
              "      <td>1001.0</td>\n",
              "      <td>0</td>\n",
              "      <td>0</td>\n",
              "      <td>0</td>\n",
              "      <td>0</td>\n",
              "    </tr>\n",
              "    <tr>\n",
              "      <th>17</th>\n",
              "      <td>2020-02-08</td>\n",
              "      <td>Alabama</td>\n",
              "      <td>1001.0</td>\n",
              "      <td>0</td>\n",
              "      <td>0</td>\n",
              "      <td>0</td>\n",
              "      <td>0</td>\n",
              "    </tr>\n",
              "    <tr>\n",
              "      <th>18</th>\n",
              "      <td>2020-02-09</td>\n",
              "      <td>Alabama</td>\n",
              "      <td>1001.0</td>\n",
              "      <td>0</td>\n",
              "      <td>0</td>\n",
              "      <td>0</td>\n",
              "      <td>0</td>\n",
              "    </tr>\n",
              "    <tr>\n",
              "      <th>19</th>\n",
              "      <td>2020-02-10</td>\n",
              "      <td>Alabama</td>\n",
              "      <td>1001.0</td>\n",
              "      <td>0</td>\n",
              "      <td>0</td>\n",
              "      <td>0</td>\n",
              "      <td>0</td>\n",
              "    </tr>\n",
              "    <tr>\n",
              "      <th>20</th>\n",
              "      <td>2020-02-11</td>\n",
              "      <td>Alabama</td>\n",
              "      <td>1001.0</td>\n",
              "      <td>0</td>\n",
              "      <td>0</td>\n",
              "      <td>0</td>\n",
              "      <td>0</td>\n",
              "    </tr>\n",
              "    <tr>\n",
              "      <th>21</th>\n",
              "      <td>2020-02-12</td>\n",
              "      <td>Alabama</td>\n",
              "      <td>1001.0</td>\n",
              "      <td>0</td>\n",
              "      <td>0</td>\n",
              "      <td>0</td>\n",
              "      <td>0</td>\n",
              "    </tr>\n",
              "    <tr>\n",
              "      <th>22</th>\n",
              "      <td>2020-02-13</td>\n",
              "      <td>Alabama</td>\n",
              "      <td>1001.0</td>\n",
              "      <td>0</td>\n",
              "      <td>0</td>\n",
              "      <td>0</td>\n",
              "      <td>0</td>\n",
              "    </tr>\n",
              "    <tr>\n",
              "      <th>23</th>\n",
              "      <td>2020-02-14</td>\n",
              "      <td>Alabama</td>\n",
              "      <td>1001.0</td>\n",
              "      <td>0</td>\n",
              "      <td>0</td>\n",
              "      <td>0</td>\n",
              "      <td>0</td>\n",
              "    </tr>\n",
              "    <tr>\n",
              "      <th>24</th>\n",
              "      <td>2020-02-15</td>\n",
              "      <td>Alabama</td>\n",
              "      <td>1001.0</td>\n",
              "      <td>0</td>\n",
              "      <td>0</td>\n",
              "      <td>0</td>\n",
              "      <td>0</td>\n",
              "    </tr>\n",
              "    <tr>\n",
              "      <th>25</th>\n",
              "      <td>2020-02-16</td>\n",
              "      <td>Alabama</td>\n",
              "      <td>1001.0</td>\n",
              "      <td>0</td>\n",
              "      <td>0</td>\n",
              "      <td>0</td>\n",
              "      <td>0</td>\n",
              "    </tr>\n",
              "    <tr>\n",
              "      <th>26</th>\n",
              "      <td>2020-02-17</td>\n",
              "      <td>Alabama</td>\n",
              "      <td>1001.0</td>\n",
              "      <td>0</td>\n",
              "      <td>0</td>\n",
              "      <td>0</td>\n",
              "      <td>0</td>\n",
              "    </tr>\n",
              "    <tr>\n",
              "      <th>27</th>\n",
              "      <td>2020-02-18</td>\n",
              "      <td>Alabama</td>\n",
              "      <td>1001.0</td>\n",
              "      <td>0</td>\n",
              "      <td>0</td>\n",
              "      <td>0</td>\n",
              "      <td>0</td>\n",
              "    </tr>\n",
              "    <tr>\n",
              "      <th>28</th>\n",
              "      <td>2020-02-19</td>\n",
              "      <td>Alabama</td>\n",
              "      <td>1001.0</td>\n",
              "      <td>0</td>\n",
              "      <td>0</td>\n",
              "      <td>0</td>\n",
              "      <td>0</td>\n",
              "    </tr>\n",
              "    <tr>\n",
              "      <th>29</th>\n",
              "      <td>2020-02-20</td>\n",
              "      <td>Alabama</td>\n",
              "      <td>1001.0</td>\n",
              "      <td>0</td>\n",
              "      <td>0</td>\n",
              "      <td>0</td>\n",
              "      <td>0</td>\n",
              "    </tr>\n",
              "  </tbody>\n",
              "</table>\n",
              "</div>"
            ],
            "text/plain": [
              "          Date Province_State    FIPS Confirmed Deaths New cases New deaths\n",
              "0   2020-01-22        Alabama  1001.0         0      0         0          0\n",
              "1   2020-01-23        Alabama  1001.0         0      0         0          0\n",
              "2   2020-01-24        Alabama  1001.0         0      0         0          0\n",
              "3   2020-01-25        Alabama  1001.0         0      0         0          0\n",
              "4   2020-01-26        Alabama  1001.0         0      0         0          0\n",
              "5   2020-01-27        Alabama  1001.0         0      0         0          0\n",
              "6   2020-01-28        Alabama  1001.0         0      0         0          0\n",
              "7   2020-01-29        Alabama  1001.0         0      0         0          0\n",
              "8   2020-01-30        Alabama  1001.0         0      0         0          0\n",
              "9   2020-01-31        Alabama  1001.0         0      0         0          0\n",
              "10  2020-02-01        Alabama  1001.0         0      0         0          0\n",
              "11  2020-02-02        Alabama  1001.0         0      0         0          0\n",
              "12  2020-02-03        Alabama  1001.0         0      0         0          0\n",
              "13  2020-02-04        Alabama  1001.0         0      0         0          0\n",
              "14  2020-02-05        Alabama  1001.0         0      0         0          0\n",
              "15  2020-02-06        Alabama  1001.0         0      0         0          0\n",
              "16  2020-02-07        Alabama  1001.0         0      0         0          0\n",
              "17  2020-02-08        Alabama  1001.0         0      0         0          0\n",
              "18  2020-02-09        Alabama  1001.0         0      0         0          0\n",
              "19  2020-02-10        Alabama  1001.0         0      0         0          0\n",
              "20  2020-02-11        Alabama  1001.0         0      0         0          0\n",
              "21  2020-02-12        Alabama  1001.0         0      0         0          0\n",
              "22  2020-02-13        Alabama  1001.0         0      0         0          0\n",
              "23  2020-02-14        Alabama  1001.0         0      0         0          0\n",
              "24  2020-02-15        Alabama  1001.0         0      0         0          0\n",
              "25  2020-02-16        Alabama  1001.0         0      0         0          0\n",
              "26  2020-02-17        Alabama  1001.0         0      0         0          0\n",
              "27  2020-02-18        Alabama  1001.0         0      0         0          0\n",
              "28  2020-02-19        Alabama  1001.0         0      0         0          0\n",
              "29  2020-02-20        Alabama  1001.0         0      0         0          0"
            ]
          },
          "metadata": {
            "tags": []
          },
          "execution_count": 158
        }
      ]
    },
    {
      "cell_type": "code",
      "metadata": {
        "id": "x1QX5BN4c4-W",
        "colab_type": "code",
        "colab": {
          "base_uri": "https://localhost:8080/",
          "height": 1000
        },
        "outputId": "2c19116b-19c6-4a62-f745-a8c0ce87a722"
      },
      "source": [
        "df[df['FIPS'] == 56041.0].tail(50)"
      ],
      "execution_count": 160,
      "outputs": [
        {
          "output_type": "execute_result",
          "data": {
            "text/html": [
              "<div>\n",
              "<style scoped>\n",
              "    .dataframe tbody tr th:only-of-type {\n",
              "        vertical-align: middle;\n",
              "    }\n",
              "\n",
              "    .dataframe tbody tr th {\n",
              "        vertical-align: top;\n",
              "    }\n",
              "\n",
              "    .dataframe thead th {\n",
              "        text-align: right;\n",
              "    }\n",
              "</style>\n",
              "<table border=\"1\" class=\"dataframe\">\n",
              "  <thead>\n",
              "    <tr style=\"text-align: right;\">\n",
              "      <th></th>\n",
              "      <th>Date</th>\n",
              "      <th>Province_State</th>\n",
              "      <th>FIPS</th>\n",
              "      <th>Confirmed</th>\n",
              "      <th>Deaths</th>\n",
              "      <th>New cases</th>\n",
              "      <th>New deaths</th>\n",
              "    </tr>\n",
              "  </thead>\n",
              "  <tbody>\n",
              "    <tr>\n",
              "      <th>162</th>\n",
              "      <td>2020-07-02</td>\n",
              "      <td>Wyoming</td>\n",
              "      <td>56041.0</td>\n",
              "      <td>180</td>\n",
              "      <td>0</td>\n",
              "      <td>3</td>\n",
              "      <td>0</td>\n",
              "    </tr>\n",
              "    <tr>\n",
              "      <th>163</th>\n",
              "      <td>2020-07-03</td>\n",
              "      <td>Wyoming</td>\n",
              "      <td>56041.0</td>\n",
              "      <td>182</td>\n",
              "      <td>0</td>\n",
              "      <td>2</td>\n",
              "      <td>0</td>\n",
              "    </tr>\n",
              "    <tr>\n",
              "      <th>164</th>\n",
              "      <td>2020-07-04</td>\n",
              "      <td>Wyoming</td>\n",
              "      <td>56041.0</td>\n",
              "      <td>183</td>\n",
              "      <td>0</td>\n",
              "      <td>1</td>\n",
              "      <td>0</td>\n",
              "    </tr>\n",
              "    <tr>\n",
              "      <th>165</th>\n",
              "      <td>2020-07-05</td>\n",
              "      <td>Wyoming</td>\n",
              "      <td>56041.0</td>\n",
              "      <td>184</td>\n",
              "      <td>0</td>\n",
              "      <td>1</td>\n",
              "      <td>0</td>\n",
              "    </tr>\n",
              "    <tr>\n",
              "      <th>166</th>\n",
              "      <td>2020-07-06</td>\n",
              "      <td>Wyoming</td>\n",
              "      <td>56041.0</td>\n",
              "      <td>190</td>\n",
              "      <td>0</td>\n",
              "      <td>6</td>\n",
              "      <td>0</td>\n",
              "    </tr>\n",
              "    <tr>\n",
              "      <th>167</th>\n",
              "      <td>2020-07-07</td>\n",
              "      <td>Wyoming</td>\n",
              "      <td>56041.0</td>\n",
              "      <td>190</td>\n",
              "      <td>0</td>\n",
              "      <td>0</td>\n",
              "      <td>0</td>\n",
              "    </tr>\n",
              "    <tr>\n",
              "      <th>168</th>\n",
              "      <td>2020-07-08</td>\n",
              "      <td>Wyoming</td>\n",
              "      <td>56041.0</td>\n",
              "      <td>192</td>\n",
              "      <td>0</td>\n",
              "      <td>2</td>\n",
              "      <td>0</td>\n",
              "    </tr>\n",
              "    <tr>\n",
              "      <th>169</th>\n",
              "      <td>2020-07-09</td>\n",
              "      <td>Wyoming</td>\n",
              "      <td>56041.0</td>\n",
              "      <td>198</td>\n",
              "      <td>0</td>\n",
              "      <td>6</td>\n",
              "      <td>0</td>\n",
              "    </tr>\n",
              "    <tr>\n",
              "      <th>170</th>\n",
              "      <td>2020-07-10</td>\n",
              "      <td>Wyoming</td>\n",
              "      <td>56041.0</td>\n",
              "      <td>200</td>\n",
              "      <td>0</td>\n",
              "      <td>2</td>\n",
              "      <td>0</td>\n",
              "    </tr>\n",
              "    <tr>\n",
              "      <th>171</th>\n",
              "      <td>2020-07-11</td>\n",
              "      <td>Wyoming</td>\n",
              "      <td>56041.0</td>\n",
              "      <td>201</td>\n",
              "      <td>0</td>\n",
              "      <td>1</td>\n",
              "      <td>0</td>\n",
              "    </tr>\n",
              "    <tr>\n",
              "      <th>172</th>\n",
              "      <td>2020-07-12</td>\n",
              "      <td>Wyoming</td>\n",
              "      <td>56041.0</td>\n",
              "      <td>202</td>\n",
              "      <td>0</td>\n",
              "      <td>1</td>\n",
              "      <td>0</td>\n",
              "    </tr>\n",
              "    <tr>\n",
              "      <th>173</th>\n",
              "      <td>2020-07-13</td>\n",
              "      <td>Wyoming</td>\n",
              "      <td>56041.0</td>\n",
              "      <td>205</td>\n",
              "      <td>0</td>\n",
              "      <td>3</td>\n",
              "      <td>0</td>\n",
              "    </tr>\n",
              "    <tr>\n",
              "      <th>174</th>\n",
              "      <td>2020-07-14</td>\n",
              "      <td>Wyoming</td>\n",
              "      <td>56041.0</td>\n",
              "      <td>208</td>\n",
              "      <td>0</td>\n",
              "      <td>3</td>\n",
              "      <td>0</td>\n",
              "    </tr>\n",
              "    <tr>\n",
              "      <th>175</th>\n",
              "      <td>2020-07-15</td>\n",
              "      <td>Wyoming</td>\n",
              "      <td>56041.0</td>\n",
              "      <td>208</td>\n",
              "      <td>0</td>\n",
              "      <td>0</td>\n",
              "      <td>0</td>\n",
              "    </tr>\n",
              "    <tr>\n",
              "      <th>176</th>\n",
              "      <td>2020-07-16</td>\n",
              "      <td>Wyoming</td>\n",
              "      <td>56041.0</td>\n",
              "      <td>217</td>\n",
              "      <td>0</td>\n",
              "      <td>9</td>\n",
              "      <td>0</td>\n",
              "    </tr>\n",
              "    <tr>\n",
              "      <th>177</th>\n",
              "      <td>2020-07-17</td>\n",
              "      <td>Wyoming</td>\n",
              "      <td>56041.0</td>\n",
              "      <td>219</td>\n",
              "      <td>0</td>\n",
              "      <td>2</td>\n",
              "      <td>0</td>\n",
              "    </tr>\n",
              "    <tr>\n",
              "      <th>178</th>\n",
              "      <td>2020-07-18</td>\n",
              "      <td>Wyoming</td>\n",
              "      <td>56041.0</td>\n",
              "      <td>221</td>\n",
              "      <td>0</td>\n",
              "      <td>2</td>\n",
              "      <td>0</td>\n",
              "    </tr>\n",
              "    <tr>\n",
              "      <th>179</th>\n",
              "      <td>2020-07-19</td>\n",
              "      <td>Wyoming</td>\n",
              "      <td>56041.0</td>\n",
              "      <td>221</td>\n",
              "      <td>0</td>\n",
              "      <td>0</td>\n",
              "      <td>0</td>\n",
              "    </tr>\n",
              "    <tr>\n",
              "      <th>180</th>\n",
              "      <td>2020-07-20</td>\n",
              "      <td>Wyoming</td>\n",
              "      <td>56041.0</td>\n",
              "      <td>222</td>\n",
              "      <td>0</td>\n",
              "      <td>1</td>\n",
              "      <td>0</td>\n",
              "    </tr>\n",
              "    <tr>\n",
              "      <th>181</th>\n",
              "      <td>2020-07-21</td>\n",
              "      <td>Wyoming</td>\n",
              "      <td>56041.0</td>\n",
              "      <td>223</td>\n",
              "      <td>0</td>\n",
              "      <td>1</td>\n",
              "      <td>0</td>\n",
              "    </tr>\n",
              "    <tr>\n",
              "      <th>182</th>\n",
              "      <td>2020-07-22</td>\n",
              "      <td>Wyoming</td>\n",
              "      <td>56041.0</td>\n",
              "      <td>224</td>\n",
              "      <td>0</td>\n",
              "      <td>1</td>\n",
              "      <td>0</td>\n",
              "    </tr>\n",
              "    <tr>\n",
              "      <th>183</th>\n",
              "      <td>2020-07-23</td>\n",
              "      <td>Wyoming</td>\n",
              "      <td>56041.0</td>\n",
              "      <td>227</td>\n",
              "      <td>0</td>\n",
              "      <td>3</td>\n",
              "      <td>0</td>\n",
              "    </tr>\n",
              "    <tr>\n",
              "      <th>184</th>\n",
              "      <td>2020-07-24</td>\n",
              "      <td>Wyoming</td>\n",
              "      <td>56041.0</td>\n",
              "      <td>232</td>\n",
              "      <td>0</td>\n",
              "      <td>5</td>\n",
              "      <td>0</td>\n",
              "    </tr>\n",
              "    <tr>\n",
              "      <th>185</th>\n",
              "      <td>2020-07-25</td>\n",
              "      <td>Wyoming</td>\n",
              "      <td>56041.0</td>\n",
              "      <td>232</td>\n",
              "      <td>0</td>\n",
              "      <td>0</td>\n",
              "      <td>0</td>\n",
              "    </tr>\n",
              "    <tr>\n",
              "      <th>186</th>\n",
              "      <td>2020-07-26</td>\n",
              "      <td>Wyoming</td>\n",
              "      <td>56041.0</td>\n",
              "      <td>233</td>\n",
              "      <td>0</td>\n",
              "      <td>1</td>\n",
              "      <td>0</td>\n",
              "    </tr>\n",
              "    <tr>\n",
              "      <th>187</th>\n",
              "      <td>2020-07-27</td>\n",
              "      <td>Wyoming</td>\n",
              "      <td>56041.0</td>\n",
              "      <td>235</td>\n",
              "      <td>0</td>\n",
              "      <td>2</td>\n",
              "      <td>0</td>\n",
              "    </tr>\n",
              "    <tr>\n",
              "      <th>188</th>\n",
              "      <td>2020-07-28</td>\n",
              "      <td>Wyoming</td>\n",
              "      <td>56041.0</td>\n",
              "      <td>243</td>\n",
              "      <td>0</td>\n",
              "      <td>8</td>\n",
              "      <td>0</td>\n",
              "    </tr>\n",
              "    <tr>\n",
              "      <th>189</th>\n",
              "      <td>2020-07-29</td>\n",
              "      <td>Wyoming</td>\n",
              "      <td>56041.0</td>\n",
              "      <td>245</td>\n",
              "      <td>0</td>\n",
              "      <td>2</td>\n",
              "      <td>0</td>\n",
              "    </tr>\n",
              "    <tr>\n",
              "      <th>190</th>\n",
              "      <td>2020-07-30</td>\n",
              "      <td>Wyoming</td>\n",
              "      <td>56041.0</td>\n",
              "      <td>247</td>\n",
              "      <td>0</td>\n",
              "      <td>2</td>\n",
              "      <td>0</td>\n",
              "    </tr>\n",
              "    <tr>\n",
              "      <th>191</th>\n",
              "      <td>2020-07-31</td>\n",
              "      <td>Wyoming</td>\n",
              "      <td>56041.0</td>\n",
              "      <td>254</td>\n",
              "      <td>0</td>\n",
              "      <td>7</td>\n",
              "      <td>0</td>\n",
              "    </tr>\n",
              "    <tr>\n",
              "      <th>192</th>\n",
              "      <td>2020-08-01</td>\n",
              "      <td>Wyoming</td>\n",
              "      <td>56041.0</td>\n",
              "      <td>259</td>\n",
              "      <td>0</td>\n",
              "      <td>5</td>\n",
              "      <td>0</td>\n",
              "    </tr>\n",
              "    <tr>\n",
              "      <th>193</th>\n",
              "      <td>2020-08-02</td>\n",
              "      <td>Wyoming</td>\n",
              "      <td>56041.0</td>\n",
              "      <td>262</td>\n",
              "      <td>0</td>\n",
              "      <td>3</td>\n",
              "      <td>0</td>\n",
              "    </tr>\n",
              "    <tr>\n",
              "      <th>194</th>\n",
              "      <td>2020-08-03</td>\n",
              "      <td>Wyoming</td>\n",
              "      <td>56041.0</td>\n",
              "      <td>265</td>\n",
              "      <td>0</td>\n",
              "      <td>3</td>\n",
              "      <td>0</td>\n",
              "    </tr>\n",
              "    <tr>\n",
              "      <th>195</th>\n",
              "      <td>2020-08-04</td>\n",
              "      <td>Wyoming</td>\n",
              "      <td>56041.0</td>\n",
              "      <td>267</td>\n",
              "      <td>0</td>\n",
              "      <td>2</td>\n",
              "      <td>0</td>\n",
              "    </tr>\n",
              "    <tr>\n",
              "      <th>196</th>\n",
              "      <td>2020-08-05</td>\n",
              "      <td>Wyoming</td>\n",
              "      <td>56041.0</td>\n",
              "      <td>268</td>\n",
              "      <td>0</td>\n",
              "      <td>1</td>\n",
              "      <td>0</td>\n",
              "    </tr>\n",
              "    <tr>\n",
              "      <th>197</th>\n",
              "      <td>2020-08-06</td>\n",
              "      <td>Wyoming</td>\n",
              "      <td>56041.0</td>\n",
              "      <td>272</td>\n",
              "      <td>0</td>\n",
              "      <td>4</td>\n",
              "      <td>0</td>\n",
              "    </tr>\n",
              "    <tr>\n",
              "      <th>198</th>\n",
              "      <td>2020-08-07</td>\n",
              "      <td>Wyoming</td>\n",
              "      <td>56041.0</td>\n",
              "      <td>274</td>\n",
              "      <td>0</td>\n",
              "      <td>2</td>\n",
              "      <td>0</td>\n",
              "    </tr>\n",
              "    <tr>\n",
              "      <th>199</th>\n",
              "      <td>2020-08-08</td>\n",
              "      <td>Wyoming</td>\n",
              "      <td>56041.0</td>\n",
              "      <td>274</td>\n",
              "      <td>0</td>\n",
              "      <td>0</td>\n",
              "      <td>0</td>\n",
              "    </tr>\n",
              "    <tr>\n",
              "      <th>200</th>\n",
              "      <td>2020-08-09</td>\n",
              "      <td>Wyoming</td>\n",
              "      <td>56041.0</td>\n",
              "      <td>278</td>\n",
              "      <td>0</td>\n",
              "      <td>4</td>\n",
              "      <td>0</td>\n",
              "    </tr>\n",
              "    <tr>\n",
              "      <th>201</th>\n",
              "      <td>2020-08-10</td>\n",
              "      <td>Wyoming</td>\n",
              "      <td>56041.0</td>\n",
              "      <td>277</td>\n",
              "      <td>0</td>\n",
              "      <td>-1</td>\n",
              "      <td>0</td>\n",
              "    </tr>\n",
              "    <tr>\n",
              "      <th>202</th>\n",
              "      <td>2020-08-11</td>\n",
              "      <td>Wyoming</td>\n",
              "      <td>56041.0</td>\n",
              "      <td>279</td>\n",
              "      <td>0</td>\n",
              "      <td>2</td>\n",
              "      <td>0</td>\n",
              "    </tr>\n",
              "    <tr>\n",
              "      <th>203</th>\n",
              "      <td>2020-08-12</td>\n",
              "      <td>Wyoming</td>\n",
              "      <td>56041.0</td>\n",
              "      <td>278</td>\n",
              "      <td>0</td>\n",
              "      <td>-1</td>\n",
              "      <td>0</td>\n",
              "    </tr>\n",
              "    <tr>\n",
              "      <th>204</th>\n",
              "      <td>2020-08-13</td>\n",
              "      <td>Wyoming</td>\n",
              "      <td>56041.0</td>\n",
              "      <td>278</td>\n",
              "      <td>0</td>\n",
              "      <td>0</td>\n",
              "      <td>0</td>\n",
              "    </tr>\n",
              "    <tr>\n",
              "      <th>205</th>\n",
              "      <td>2020-08-14</td>\n",
              "      <td>Wyoming</td>\n",
              "      <td>56041.0</td>\n",
              "      <td>277</td>\n",
              "      <td>0</td>\n",
              "      <td>-1</td>\n",
              "      <td>0</td>\n",
              "    </tr>\n",
              "    <tr>\n",
              "      <th>206</th>\n",
              "      <td>2020-08-15</td>\n",
              "      <td>Wyoming</td>\n",
              "      <td>56041.0</td>\n",
              "      <td>276</td>\n",
              "      <td>0</td>\n",
              "      <td>-1</td>\n",
              "      <td>0</td>\n",
              "    </tr>\n",
              "    <tr>\n",
              "      <th>207</th>\n",
              "      <td>2020-08-16</td>\n",
              "      <td>Wyoming</td>\n",
              "      <td>56041.0</td>\n",
              "      <td>276</td>\n",
              "      <td>0</td>\n",
              "      <td>0</td>\n",
              "      <td>0</td>\n",
              "    </tr>\n",
              "    <tr>\n",
              "      <th>208</th>\n",
              "      <td>2020-08-17</td>\n",
              "      <td>Wyoming</td>\n",
              "      <td>56041.0</td>\n",
              "      <td>277</td>\n",
              "      <td>0</td>\n",
              "      <td>1</td>\n",
              "      <td>0</td>\n",
              "    </tr>\n",
              "    <tr>\n",
              "      <th>209</th>\n",
              "      <td>2020-08-18</td>\n",
              "      <td>Wyoming</td>\n",
              "      <td>56041.0</td>\n",
              "      <td>278</td>\n",
              "      <td>0</td>\n",
              "      <td>1</td>\n",
              "      <td>0</td>\n",
              "    </tr>\n",
              "    <tr>\n",
              "      <th>210</th>\n",
              "      <td>2020-08-19</td>\n",
              "      <td>Wyoming</td>\n",
              "      <td>56041.0</td>\n",
              "      <td>283</td>\n",
              "      <td>0</td>\n",
              "      <td>5</td>\n",
              "      <td>0</td>\n",
              "    </tr>\n",
              "    <tr>\n",
              "      <th>211</th>\n",
              "      <td>2020-08-20</td>\n",
              "      <td>Wyoming</td>\n",
              "      <td>56041.0</td>\n",
              "      <td>283</td>\n",
              "      <td>0</td>\n",
              "      <td>0</td>\n",
              "      <td>0</td>\n",
              "    </tr>\n",
              "  </tbody>\n",
              "</table>\n",
              "</div>"
            ],
            "text/plain": [
              "           Date Province_State     FIPS Confirmed Deaths New cases New deaths\n",
              "162  2020-07-02        Wyoming  56041.0       180      0         3          0\n",
              "163  2020-07-03        Wyoming  56041.0       182      0         2          0\n",
              "164  2020-07-04        Wyoming  56041.0       183      0         1          0\n",
              "165  2020-07-05        Wyoming  56041.0       184      0         1          0\n",
              "166  2020-07-06        Wyoming  56041.0       190      0         6          0\n",
              "167  2020-07-07        Wyoming  56041.0       190      0         0          0\n",
              "168  2020-07-08        Wyoming  56041.0       192      0         2          0\n",
              "169  2020-07-09        Wyoming  56041.0       198      0         6          0\n",
              "170  2020-07-10        Wyoming  56041.0       200      0         2          0\n",
              "171  2020-07-11        Wyoming  56041.0       201      0         1          0\n",
              "172  2020-07-12        Wyoming  56041.0       202      0         1          0\n",
              "173  2020-07-13        Wyoming  56041.0       205      0         3          0\n",
              "174  2020-07-14        Wyoming  56041.0       208      0         3          0\n",
              "175  2020-07-15        Wyoming  56041.0       208      0         0          0\n",
              "176  2020-07-16        Wyoming  56041.0       217      0         9          0\n",
              "177  2020-07-17        Wyoming  56041.0       219      0         2          0\n",
              "178  2020-07-18        Wyoming  56041.0       221      0         2          0\n",
              "179  2020-07-19        Wyoming  56041.0       221      0         0          0\n",
              "180  2020-07-20        Wyoming  56041.0       222      0         1          0\n",
              "181  2020-07-21        Wyoming  56041.0       223      0         1          0\n",
              "182  2020-07-22        Wyoming  56041.0       224      0         1          0\n",
              "183  2020-07-23        Wyoming  56041.0       227      0         3          0\n",
              "184  2020-07-24        Wyoming  56041.0       232      0         5          0\n",
              "185  2020-07-25        Wyoming  56041.0       232      0         0          0\n",
              "186  2020-07-26        Wyoming  56041.0       233      0         1          0\n",
              "187  2020-07-27        Wyoming  56041.0       235      0         2          0\n",
              "188  2020-07-28        Wyoming  56041.0       243      0         8          0\n",
              "189  2020-07-29        Wyoming  56041.0       245      0         2          0\n",
              "190  2020-07-30        Wyoming  56041.0       247      0         2          0\n",
              "191  2020-07-31        Wyoming  56041.0       254      0         7          0\n",
              "192  2020-08-01        Wyoming  56041.0       259      0         5          0\n",
              "193  2020-08-02        Wyoming  56041.0       262      0         3          0\n",
              "194  2020-08-03        Wyoming  56041.0       265      0         3          0\n",
              "195  2020-08-04        Wyoming  56041.0       267      0         2          0\n",
              "196  2020-08-05        Wyoming  56041.0       268      0         1          0\n",
              "197  2020-08-06        Wyoming  56041.0       272      0         4          0\n",
              "198  2020-08-07        Wyoming  56041.0       274      0         2          0\n",
              "199  2020-08-08        Wyoming  56041.0       274      0         0          0\n",
              "200  2020-08-09        Wyoming  56041.0       278      0         4          0\n",
              "201  2020-08-10        Wyoming  56041.0       277      0        -1          0\n",
              "202  2020-08-11        Wyoming  56041.0       279      0         2          0\n",
              "203  2020-08-12        Wyoming  56041.0       278      0        -1          0\n",
              "204  2020-08-13        Wyoming  56041.0       278      0         0          0\n",
              "205  2020-08-14        Wyoming  56041.0       277      0        -1          0\n",
              "206  2020-08-15        Wyoming  56041.0       276      0        -1          0\n",
              "207  2020-08-16        Wyoming  56041.0       276      0         0          0\n",
              "208  2020-08-17        Wyoming  56041.0       277      0         1          0\n",
              "209  2020-08-18        Wyoming  56041.0       278      0         1          0\n",
              "210  2020-08-19        Wyoming  56041.0       283      0         5          0\n",
              "211  2020-08-20        Wyoming  56041.0       283      0         0          0"
            ]
          },
          "metadata": {
            "tags": []
          },
          "execution_count": 160
        }
      ]
    },
    {
      "cell_type": "code",
      "metadata": {
        "id": "0-UmKBJHc3Yc",
        "colab_type": "code",
        "colab": {}
      },
      "source": [
        "# merging new values\n",
        "full_grouped = df.copy()"
      ],
      "execution_count": 161,
      "outputs": []
    },
    {
      "cell_type": "code",
      "metadata": {
        "id": "5vhCccPLAGio",
        "colab_type": "code",
        "colab": {
          "base_uri": "https://localhost:8080/",
          "height": 204
        },
        "outputId": "869c05ad-1080-4f09-9124-b03c9d41cfc6"
      },
      "source": [
        "full_grouped.tail(5)"
      ],
      "execution_count": 162,
      "outputs": [
        {
          "output_type": "execute_result",
          "data": {
            "text/html": [
              "<div>\n",
              "<style scoped>\n",
              "    .dataframe tbody tr th:only-of-type {\n",
              "        vertical-align: middle;\n",
              "    }\n",
              "\n",
              "    .dataframe tbody tr th {\n",
              "        vertical-align: top;\n",
              "    }\n",
              "\n",
              "    .dataframe thead th {\n",
              "        text-align: right;\n",
              "    }\n",
              "</style>\n",
              "<table border=\"1\" class=\"dataframe\">\n",
              "  <thead>\n",
              "    <tr style=\"text-align: right;\">\n",
              "      <th></th>\n",
              "      <th>Date</th>\n",
              "      <th>Province_State</th>\n",
              "      <th>FIPS</th>\n",
              "      <th>Confirmed</th>\n",
              "      <th>Deaths</th>\n",
              "      <th>New cases</th>\n",
              "      <th>New deaths</th>\n",
              "    </tr>\n",
              "  </thead>\n",
              "  <tbody>\n",
              "    <tr>\n",
              "      <th>207</th>\n",
              "      <td>2020-08-16</td>\n",
              "      <td>Wyoming</td>\n",
              "      <td>90056.0</td>\n",
              "      <td>0</td>\n",
              "      <td>29</td>\n",
              "      <td>0</td>\n",
              "      <td>0</td>\n",
              "    </tr>\n",
              "    <tr>\n",
              "      <th>208</th>\n",
              "      <td>2020-08-17</td>\n",
              "      <td>Wyoming</td>\n",
              "      <td>90056.0</td>\n",
              "      <td>0</td>\n",
              "      <td>29</td>\n",
              "      <td>0</td>\n",
              "      <td>0</td>\n",
              "    </tr>\n",
              "    <tr>\n",
              "      <th>209</th>\n",
              "      <td>2020-08-18</td>\n",
              "      <td>Wyoming</td>\n",
              "      <td>90056.0</td>\n",
              "      <td>0</td>\n",
              "      <td>29</td>\n",
              "      <td>0</td>\n",
              "      <td>0</td>\n",
              "    </tr>\n",
              "    <tr>\n",
              "      <th>210</th>\n",
              "      <td>2020-08-19</td>\n",
              "      <td>Wyoming</td>\n",
              "      <td>90056.0</td>\n",
              "      <td>0</td>\n",
              "      <td>33</td>\n",
              "      <td>0</td>\n",
              "      <td>4</td>\n",
              "    </tr>\n",
              "    <tr>\n",
              "      <th>211</th>\n",
              "      <td>2020-08-20</td>\n",
              "      <td>Wyoming</td>\n",
              "      <td>90056.0</td>\n",
              "      <td>0</td>\n",
              "      <td>33</td>\n",
              "      <td>0</td>\n",
              "      <td>0</td>\n",
              "    </tr>\n",
              "  </tbody>\n",
              "</table>\n",
              "</div>"
            ],
            "text/plain": [
              "           Date Province_State     FIPS Confirmed Deaths New cases New deaths\n",
              "207  2020-08-16        Wyoming  90056.0         0     29         0          0\n",
              "208  2020-08-17        Wyoming  90056.0         0     29         0          0\n",
              "209  2020-08-18        Wyoming  90056.0         0     29         0          0\n",
              "210  2020-08-19        Wyoming  90056.0         0     33         0          4\n",
              "211  2020-08-20        Wyoming  90056.0         0     33         0          0"
            ]
          },
          "metadata": {
            "tags": []
          },
          "execution_count": 162
        }
      ]
    },
    {
      "cell_type": "code",
      "metadata": {
        "id": "3UoS9KmfK-oh",
        "colab_type": "code",
        "colab": {
          "base_uri": "https://localhost:8080/",
          "height": 359
        },
        "outputId": "6b946e9d-9642-47fb-ccb2-175e59517e9b"
      },
      "source": [
        "state= ['California','New York']\n",
        "ca_df = full_grouped[full_grouped['Province_State'].isin(state)]\n",
        "ca_df.tail(10)"
      ],
      "execution_count": 163,
      "outputs": [
        {
          "output_type": "execute_result",
          "data": {
            "text/html": [
              "<div>\n",
              "<style scoped>\n",
              "    .dataframe tbody tr th:only-of-type {\n",
              "        vertical-align: middle;\n",
              "    }\n",
              "\n",
              "    .dataframe tbody tr th {\n",
              "        vertical-align: top;\n",
              "    }\n",
              "\n",
              "    .dataframe thead th {\n",
              "        text-align: right;\n",
              "    }\n",
              "</style>\n",
              "<table border=\"1\" class=\"dataframe\">\n",
              "  <thead>\n",
              "    <tr style=\"text-align: right;\">\n",
              "      <th></th>\n",
              "      <th>Date</th>\n",
              "      <th>Province_State</th>\n",
              "      <th>FIPS</th>\n",
              "      <th>Confirmed</th>\n",
              "      <th>Deaths</th>\n",
              "      <th>New cases</th>\n",
              "      <th>New deaths</th>\n",
              "    </tr>\n",
              "  </thead>\n",
              "  <tbody>\n",
              "    <tr>\n",
              "      <th>202</th>\n",
              "      <td>2020-08-11</td>\n",
              "      <td>New York</td>\n",
              "      <td>90036.0</td>\n",
              "      <td>0</td>\n",
              "      <td>0</td>\n",
              "      <td>0</td>\n",
              "      <td>0</td>\n",
              "    </tr>\n",
              "    <tr>\n",
              "      <th>203</th>\n",
              "      <td>2020-08-12</td>\n",
              "      <td>New York</td>\n",
              "      <td>90036.0</td>\n",
              "      <td>0</td>\n",
              "      <td>0</td>\n",
              "      <td>0</td>\n",
              "      <td>0</td>\n",
              "    </tr>\n",
              "    <tr>\n",
              "      <th>204</th>\n",
              "      <td>2020-08-13</td>\n",
              "      <td>New York</td>\n",
              "      <td>90036.0</td>\n",
              "      <td>0</td>\n",
              "      <td>0</td>\n",
              "      <td>0</td>\n",
              "      <td>0</td>\n",
              "    </tr>\n",
              "    <tr>\n",
              "      <th>205</th>\n",
              "      <td>2020-08-14</td>\n",
              "      <td>New York</td>\n",
              "      <td>90036.0</td>\n",
              "      <td>0</td>\n",
              "      <td>0</td>\n",
              "      <td>0</td>\n",
              "      <td>0</td>\n",
              "    </tr>\n",
              "    <tr>\n",
              "      <th>206</th>\n",
              "      <td>2020-08-15</td>\n",
              "      <td>New York</td>\n",
              "      <td>90036.0</td>\n",
              "      <td>0</td>\n",
              "      <td>0</td>\n",
              "      <td>0</td>\n",
              "      <td>0</td>\n",
              "    </tr>\n",
              "    <tr>\n",
              "      <th>207</th>\n",
              "      <td>2020-08-16</td>\n",
              "      <td>New York</td>\n",
              "      <td>90036.0</td>\n",
              "      <td>0</td>\n",
              "      <td>0</td>\n",
              "      <td>0</td>\n",
              "      <td>0</td>\n",
              "    </tr>\n",
              "    <tr>\n",
              "      <th>208</th>\n",
              "      <td>2020-08-17</td>\n",
              "      <td>New York</td>\n",
              "      <td>90036.0</td>\n",
              "      <td>0</td>\n",
              "      <td>0</td>\n",
              "      <td>0</td>\n",
              "      <td>0</td>\n",
              "    </tr>\n",
              "    <tr>\n",
              "      <th>209</th>\n",
              "      <td>2020-08-18</td>\n",
              "      <td>New York</td>\n",
              "      <td>90036.0</td>\n",
              "      <td>0</td>\n",
              "      <td>0</td>\n",
              "      <td>0</td>\n",
              "      <td>0</td>\n",
              "    </tr>\n",
              "    <tr>\n",
              "      <th>210</th>\n",
              "      <td>2020-08-19</td>\n",
              "      <td>New York</td>\n",
              "      <td>90036.0</td>\n",
              "      <td>0</td>\n",
              "      <td>0</td>\n",
              "      <td>0</td>\n",
              "      <td>0</td>\n",
              "    </tr>\n",
              "    <tr>\n",
              "      <th>211</th>\n",
              "      <td>2020-08-20</td>\n",
              "      <td>New York</td>\n",
              "      <td>90036.0</td>\n",
              "      <td>0</td>\n",
              "      <td>0</td>\n",
              "      <td>0</td>\n",
              "      <td>0</td>\n",
              "    </tr>\n",
              "  </tbody>\n",
              "</table>\n",
              "</div>"
            ],
            "text/plain": [
              "           Date Province_State     FIPS Confirmed Deaths New cases New deaths\n",
              "202  2020-08-11       New York  90036.0         0      0         0          0\n",
              "203  2020-08-12       New York  90036.0         0      0         0          0\n",
              "204  2020-08-13       New York  90036.0         0      0         0          0\n",
              "205  2020-08-14       New York  90036.0         0      0         0          0\n",
              "206  2020-08-15       New York  90036.0         0      0         0          0\n",
              "207  2020-08-16       New York  90036.0         0      0         0          0\n",
              "208  2020-08-17       New York  90036.0         0      0         0          0\n",
              "209  2020-08-18       New York  90036.0         0      0         0          0\n",
              "210  2020-08-19       New York  90036.0         0      0         0          0\n",
              "211  2020-08-20       New York  90036.0         0      0         0          0"
            ]
          },
          "metadata": {
            "tags": []
          },
          "execution_count": 163
        }
      ]
    },
    {
      "cell_type": "code",
      "metadata": {
        "id": "TX61_MzyLfnt",
        "colab_type": "code",
        "colab": {
          "base_uri": "https://localhost:8080/",
          "height": 111
        },
        "outputId": "2869dfd3-3d46-4b06-9a8c-fb12c4f4b80a"
      },
      "source": [
        "county_population_US.head(2)"
      ],
      "execution_count": 69,
      "outputs": [
        {
          "output_type": "execute_result",
          "data": {
            "text/html": [
              "<div>\n",
              "<style scoped>\n",
              "    .dataframe tbody tr th:only-of-type {\n",
              "        vertical-align: middle;\n",
              "    }\n",
              "\n",
              "    .dataframe tbody tr th {\n",
              "        vertical-align: top;\n",
              "    }\n",
              "\n",
              "    .dataframe thead th {\n",
              "        text-align: right;\n",
              "    }\n",
              "</style>\n",
              "<table border=\"1\" class=\"dataframe\">\n",
              "  <thead>\n",
              "    <tr style=\"text-align: right;\">\n",
              "      <th></th>\n",
              "      <th>countyFIPS</th>\n",
              "      <th>County Name</th>\n",
              "      <th>State</th>\n",
              "      <th>population</th>\n",
              "    </tr>\n",
              "  </thead>\n",
              "  <tbody>\n",
              "    <tr>\n",
              "      <th>0</th>\n",
              "      <td>0</td>\n",
              "      <td>Statewide Unallocated</td>\n",
              "      <td>AL</td>\n",
              "      <td>0</td>\n",
              "    </tr>\n",
              "    <tr>\n",
              "      <th>1</th>\n",
              "      <td>1001</td>\n",
              "      <td>Autauga County</td>\n",
              "      <td>AL</td>\n",
              "      <td>55869</td>\n",
              "    </tr>\n",
              "  </tbody>\n",
              "</table>\n",
              "</div>"
            ],
            "text/plain": [
              "   countyFIPS            County Name State  population\n",
              "0           0  Statewide Unallocated    AL           0\n",
              "1        1001         Autauga County    AL       55869"
            ]
          },
          "metadata": {
            "tags": []
          },
          "execution_count": 69
        }
      ]
    },
    {
      "cell_type": "code",
      "metadata": {
        "id": "4SvvBpy9MU1n",
        "colab_type": "code",
        "colab": {}
      },
      "source": [
        "county_population_US['FIPS'] = county_population_US['countyFIPS']"
      ],
      "execution_count": 70,
      "outputs": []
    },
    {
      "cell_type": "code",
      "metadata": {
        "id": "Vxn23Tv1MffX",
        "colab_type": "code",
        "colab": {
          "base_uri": "https://localhost:8080/",
          "height": 34
        },
        "outputId": "6a17c29e-0065-4293-cb2a-d35d454f6a78"
      },
      "source": [
        "ca_df.shape"
      ],
      "execution_count": 71,
      "outputs": [
        {
          "output_type": "execute_result",
          "data": {
            "text/plain": [
              "(26288, 7)"
            ]
          },
          "metadata": {
            "tags": []
          },
          "execution_count": 71
        }
      ]
    },
    {
      "cell_type": "markdown",
      "metadata": {
        "id": "bXYhEmKnLRZB",
        "colab_type": "text"
      },
      "source": [
        "# Merge with FIPS "
      ]
    },
    {
      "cell_type": "code",
      "metadata": {
        "id": "pmc7bIZsLU8O",
        "colab_type": "code",
        "colab": {
          "base_uri": "https://localhost:8080/",
          "height": 34
        },
        "outputId": "791b6beb-80b3-45bc-ec4a-c5967fada403"
      },
      "source": [
        "merged = pd.merge(ca_df,county_population_US,how='inner' ,on=['FIPS'])\n",
        "print(merged.shape)"
      ],
      "execution_count": 72,
      "outputs": [
        {
          "output_type": "stream",
          "text": [
            "(25440, 11)\n"
          ],
          "name": "stdout"
        }
      ]
    },
    {
      "cell_type": "code",
      "metadata": {
        "id": "sU-OpamgLUw_",
        "colab_type": "code",
        "colab": {
          "base_uri": "https://localhost:8080/",
          "height": 182
        },
        "outputId": "3ffa2992-2a36-45f3-f193-65201600fd1c"
      },
      "source": [
        "merged.tail(2)"
      ],
      "execution_count": 73,
      "outputs": [
        {
          "output_type": "execute_result",
          "data": {
            "text/html": [
              "<div>\n",
              "<style scoped>\n",
              "    .dataframe tbody tr th:only-of-type {\n",
              "        vertical-align: middle;\n",
              "    }\n",
              "\n",
              "    .dataframe tbody tr th {\n",
              "        vertical-align: top;\n",
              "    }\n",
              "\n",
              "    .dataframe thead th {\n",
              "        text-align: right;\n",
              "    }\n",
              "</style>\n",
              "<table border=\"1\" class=\"dataframe\">\n",
              "  <thead>\n",
              "    <tr style=\"text-align: right;\">\n",
              "      <th></th>\n",
              "      <th>Date</th>\n",
              "      <th>Province_State</th>\n",
              "      <th>FIPS</th>\n",
              "      <th>Confirmed</th>\n",
              "      <th>Deaths</th>\n",
              "      <th>New cases</th>\n",
              "      <th>New deaths</th>\n",
              "      <th>countyFIPS</th>\n",
              "      <th>County Name</th>\n",
              "      <th>State</th>\n",
              "      <th>population</th>\n",
              "    </tr>\n",
              "  </thead>\n",
              "  <tbody>\n",
              "    <tr>\n",
              "      <th>25438</th>\n",
              "      <td>8/8/20</td>\n",
              "      <td>New York</td>\n",
              "      <td>36123.0</td>\n",
              "      <td>56</td>\n",
              "      <td>7</td>\n",
              "      <td>0</td>\n",
              "      <td>2</td>\n",
              "      <td>36123</td>\n",
              "      <td>Yates County</td>\n",
              "      <td>NY</td>\n",
              "      <td>24913</td>\n",
              "    </tr>\n",
              "    <tr>\n",
              "      <th>25439</th>\n",
              "      <td>8/9/20</td>\n",
              "      <td>New York</td>\n",
              "      <td>36123.0</td>\n",
              "      <td>57</td>\n",
              "      <td>7</td>\n",
              "      <td>0</td>\n",
              "      <td>2</td>\n",
              "      <td>36123</td>\n",
              "      <td>Yates County</td>\n",
              "      <td>NY</td>\n",
              "      <td>24913</td>\n",
              "    </tr>\n",
              "  </tbody>\n",
              "</table>\n",
              "</div>"
            ],
            "text/plain": [
              "         Date Province_State     FIPS  ...   County Name  State  population\n",
              "25438  8/8/20       New York  36123.0  ...  Yates County     NY       24913\n",
              "25439  8/9/20       New York  36123.0  ...  Yates County     NY       24913\n",
              "\n",
              "[2 rows x 11 columns]"
            ]
          },
          "metadata": {
            "tags": []
          },
          "execution_count": 73
        }
      ]
    },
    {
      "cell_type": "markdown",
      "metadata": {
        "id": "bqLuP_zx4Ger",
        "colab_type": "text"
      },
      "source": [
        "## Visualization"
      ]
    },
    {
      "cell_type": "code",
      "metadata": {
        "id": "VW5zVDDm8KAL",
        "colab_type": "code",
        "colab": {
          "base_uri": "https://localhost:8080/",
          "height": 142
        },
        "outputId": "703a632a-f796-4ef9-b7fb-cbfb4cc6bab6"
      },
      "source": [
        "full_grouped.head(3)"
      ],
      "execution_count": 74,
      "outputs": [
        {
          "output_type": "execute_result",
          "data": {
            "text/html": [
              "<div>\n",
              "<style scoped>\n",
              "    .dataframe tbody tr th:only-of-type {\n",
              "        vertical-align: middle;\n",
              "    }\n",
              "\n",
              "    .dataframe tbody tr th {\n",
              "        vertical-align: top;\n",
              "    }\n",
              "\n",
              "    .dataframe thead th {\n",
              "        text-align: right;\n",
              "    }\n",
              "</style>\n",
              "<table border=\"1\" class=\"dataframe\">\n",
              "  <thead>\n",
              "    <tr style=\"text-align: right;\">\n",
              "      <th></th>\n",
              "      <th>Date</th>\n",
              "      <th>Province_State</th>\n",
              "      <th>FIPS</th>\n",
              "      <th>Confirmed</th>\n",
              "      <th>Deaths</th>\n",
              "      <th>New cases</th>\n",
              "      <th>New deaths</th>\n",
              "    </tr>\n",
              "  </thead>\n",
              "  <tbody>\n",
              "    <tr>\n",
              "      <th>0</th>\n",
              "      <td>1/22/20</td>\n",
              "      <td>Alabama</td>\n",
              "      <td>1001.0</td>\n",
              "      <td>0</td>\n",
              "      <td>0</td>\n",
              "      <td>0</td>\n",
              "      <td>0</td>\n",
              "    </tr>\n",
              "    <tr>\n",
              "      <th>1</th>\n",
              "      <td>1/22/20</td>\n",
              "      <td>Alabama</td>\n",
              "      <td>1003.0</td>\n",
              "      <td>0</td>\n",
              "      <td>0</td>\n",
              "      <td>0</td>\n",
              "      <td>0</td>\n",
              "    </tr>\n",
              "    <tr>\n",
              "      <th>2</th>\n",
              "      <td>1/22/20</td>\n",
              "      <td>Alabama</td>\n",
              "      <td>1005.0</td>\n",
              "      <td>0</td>\n",
              "      <td>0</td>\n",
              "      <td>0</td>\n",
              "      <td>0</td>\n",
              "    </tr>\n",
              "  </tbody>\n",
              "</table>\n",
              "</div>"
            ],
            "text/plain": [
              "      Date Province_State    FIPS  Confirmed  Deaths  New cases  New deaths\n",
              "0  1/22/20        Alabama  1001.0          0       0          0           0\n",
              "1  1/22/20        Alabama  1003.0          0       0          0           0\n",
              "2  1/22/20        Alabama  1005.0          0       0          0           0"
            ]
          },
          "metadata": {
            "tags": []
          },
          "execution_count": 74
        }
      ]
    },
    {
      "cell_type": "code",
      "metadata": {
        "id": "VEXrY5qwA0V1",
        "colab_type": "code",
        "colab": {
          "base_uri": "https://localhost:8080/",
          "height": 230
        },
        "outputId": "91f3c5ec-c63d-4899-c81d-dc637c5405e0"
      },
      "source": [
        "merged.head(3)\n"
      ],
      "execution_count": 75,
      "outputs": [
        {
          "output_type": "execute_result",
          "data": {
            "text/html": [
              "<div>\n",
              "<style scoped>\n",
              "    .dataframe tbody tr th:only-of-type {\n",
              "        vertical-align: middle;\n",
              "    }\n",
              "\n",
              "    .dataframe tbody tr th {\n",
              "        vertical-align: top;\n",
              "    }\n",
              "\n",
              "    .dataframe thead th {\n",
              "        text-align: right;\n",
              "    }\n",
              "</style>\n",
              "<table border=\"1\" class=\"dataframe\">\n",
              "  <thead>\n",
              "    <tr style=\"text-align: right;\">\n",
              "      <th></th>\n",
              "      <th>Date</th>\n",
              "      <th>Province_State</th>\n",
              "      <th>FIPS</th>\n",
              "      <th>Confirmed</th>\n",
              "      <th>Deaths</th>\n",
              "      <th>New cases</th>\n",
              "      <th>New deaths</th>\n",
              "      <th>countyFIPS</th>\n",
              "      <th>County Name</th>\n",
              "      <th>State</th>\n",
              "      <th>population</th>\n",
              "    </tr>\n",
              "  </thead>\n",
              "  <tbody>\n",
              "    <tr>\n",
              "      <th>0</th>\n",
              "      <td>1/22/20</td>\n",
              "      <td>California</td>\n",
              "      <td>6001.0</td>\n",
              "      <td>0</td>\n",
              "      <td>0</td>\n",
              "      <td>0</td>\n",
              "      <td>0</td>\n",
              "      <td>6001</td>\n",
              "      <td>Alameda County</td>\n",
              "      <td>CA</td>\n",
              "      <td>1671329</td>\n",
              "    </tr>\n",
              "    <tr>\n",
              "      <th>1</th>\n",
              "      <td>1/23/20</td>\n",
              "      <td>California</td>\n",
              "      <td>6001.0</td>\n",
              "      <td>0</td>\n",
              "      <td>0</td>\n",
              "      <td>0</td>\n",
              "      <td>0</td>\n",
              "      <td>6001</td>\n",
              "      <td>Alameda County</td>\n",
              "      <td>CA</td>\n",
              "      <td>1671329</td>\n",
              "    </tr>\n",
              "    <tr>\n",
              "      <th>2</th>\n",
              "      <td>1/24/20</td>\n",
              "      <td>California</td>\n",
              "      <td>6001.0</td>\n",
              "      <td>0</td>\n",
              "      <td>0</td>\n",
              "      <td>0</td>\n",
              "      <td>0</td>\n",
              "      <td>6001</td>\n",
              "      <td>Alameda County</td>\n",
              "      <td>CA</td>\n",
              "      <td>1671329</td>\n",
              "    </tr>\n",
              "  </tbody>\n",
              "</table>\n",
              "</div>"
            ],
            "text/plain": [
              "      Date Province_State    FIPS  ...     County Name  State  population\n",
              "0  1/22/20     California  6001.0  ...  Alameda County     CA     1671329\n",
              "1  1/23/20     California  6001.0  ...  Alameda County     CA     1671329\n",
              "2  1/24/20     California  6001.0  ...  Alameda County     CA     1671329\n",
              "\n",
              "[3 rows x 11 columns]"
            ]
          },
          "metadata": {
            "tags": []
          },
          "execution_count": 75
        }
      ]
    },
    {
      "cell_type": "code",
      "metadata": {
        "id": "Ls8G3UFv8EEB",
        "colab_type": "code",
        "colab": {
          "base_uri": "https://localhost:8080/",
          "height": 34
        },
        "outputId": "57faa438-503c-4c6c-b2d5-2ac8c02305ad"
      },
      "source": [
        "import pandas as pd\n",
        "import altair as alt\n",
        "#full_grouped = merged\n",
        "ca_df = full_grouped[full_grouped['Province_State'] == 'California']\n",
        "ny_df = full_grouped[full_grouped['Province_State'] == 'New York']\n",
        "queens_df = full_grouped[(full_grouped['Province_State'] == 'New York') & (full_grouped['FIPS'] == 36081)]\n",
        "\n",
        "ca_df.shape"
      ],
      "execution_count": 76,
      "outputs": [
        {
          "output_type": "execute_result",
          "data": {
            "text/plain": [
              "(12720, 7)"
            ]
          },
          "metadata": {
            "tags": []
          },
          "execution_count": 76
        }
      ]
    },
    {
      "cell_type": "code",
      "metadata": {
        "id": "x28oUtoiExGL",
        "colab_type": "code",
        "colab": {}
      },
      "source": [
        "ca_total = (\n",
        "    ca_df\n",
        "    .pipe(lambda x: x.assign(gains_pctg=x[\"New cases\"]))\n",
        "    .groupby(['Date','Province_State'])\n",
        "    .agg({\"gains_pctg\": \"sum\"})\n",
        "    .reset_index()\n",
        "    .rename(columns={\"gains_pctg\": \"New cases\"})\n",
        ")\n",
        "ny_total = (\n",
        "    ny_df\n",
        "    .pipe(lambda x: x.assign(gains_pctg=x[\"New cases\"]))\n",
        "    .groupby(['Date','Province_State'])\n",
        "    .agg({\"gains_pctg\": \"sum\"})\n",
        "    .reset_index()\n",
        "    .rename(columns={\"gains_pctg\": \"New cases\"})\n",
        ")\n",
        "\n",
        "queens_county_total = (\n",
        "    queens_df\n",
        "    .pipe(lambda x: x.assign(gains_pctg=x[\"New cases\"]))\n",
        "    .groupby(['Date','Province_State'])\n",
        "    .agg({\"gains_pctg\": \"sum\"})\n",
        "    .reset_index()\n",
        "    .rename(columns={\"gains_pctg\": \"New cases\"})\n",
        ")"
      ],
      "execution_count": 77,
      "outputs": []
    },
    {
      "cell_type": "code",
      "metadata": {
        "id": "FU_aWMWr94_i",
        "colab_type": "code",
        "colab": {}
      },
      "source": [
        "base_ca = alt.Chart(ca_total).mark_bar().encode(\n",
        "    x='monthdate(Date):O',\n",
        ").properties(\n",
        "    width=500\n",
        ")\n",
        "\n",
        "base_ny = alt.Chart(ny_total).mark_bar().encode(\n",
        "    x='monthdate(Date):O',\n",
        ").properties(\n",
        "    width=500\n",
        ")\n",
        "\n",
        "base_queens = alt.Chart(queens_county_total).mark_bar().encode(\n",
        "    x='monthdate(Date):O',\n",
        ").properties(\n",
        "    width=500\n",
        ")"
      ],
      "execution_count": 78,
      "outputs": []
    },
    {
      "cell_type": "code",
      "metadata": {
        "id": "Xhl9giYd-GGf",
        "colab_type": "code",
        "colab": {
          "base_uri": "https://localhost:8080/",
          "height": 408
        },
        "outputId": "cecab9a7-8527-4d1f-86af-67bdfc723431"
      },
      "source": [
        "red = alt.value(\"#f54242\")\n",
        "##Ca data\n",
        "#base_ca.encode(y='Confirmed').properties(title='Total Confirmed') | base_ca.encode(y='Deaths',color = red).properties(title='Total deaths')\n",
        "base_ca.encode(y='New cases').properties(title='CA State- New cases')"
      ],
      "execution_count": 79,
      "outputs": [
        {
          "output_type": "execute_result",
          "data": {
            "text/plain": [
              "alt.Chart(...)"
            ],
            "text/html": [
              "\n",
              "<div id=\"altair-viz-4db6ad73d0504ca28ab3dacf238898ca\"></div>\n",
              "<script type=\"text/javascript\">\n",
              "  (function(spec, embedOpt){\n",
              "    let outputDiv = document.currentScript.previousElementSibling;\n",
              "    if (outputDiv.id !== \"altair-viz-4db6ad73d0504ca28ab3dacf238898ca\") {\n",
              "      outputDiv = document.getElementById(\"altair-viz-4db6ad73d0504ca28ab3dacf238898ca\");\n",
              "    }\n",
              "    const paths = {\n",
              "      \"vega\": \"https://cdn.jsdelivr.net/npm//vega@5?noext\",\n",
              "      \"vega-lib\": \"https://cdn.jsdelivr.net/npm//vega-lib?noext\",\n",
              "      \"vega-lite\": \"https://cdn.jsdelivr.net/npm//vega-lite@4.8.1?noext\",\n",
              "      \"vega-embed\": \"https://cdn.jsdelivr.net/npm//vega-embed@6?noext\",\n",
              "    };\n",
              "\n",
              "    function loadScript(lib) {\n",
              "      return new Promise(function(resolve, reject) {\n",
              "        var s = document.createElement('script');\n",
              "        s.src = paths[lib];\n",
              "        s.async = true;\n",
              "        s.onload = () => resolve(paths[lib]);\n",
              "        s.onerror = () => reject(`Error loading script: ${paths[lib]}`);\n",
              "        document.getElementsByTagName(\"head\")[0].appendChild(s);\n",
              "      });\n",
              "    }\n",
              "\n",
              "    function showError(err) {\n",
              "      outputDiv.innerHTML = `<div class=\"error\" style=\"color:red;\">${err}</div>`;\n",
              "      throw err;\n",
              "    }\n",
              "\n",
              "    function displayChart(vegaEmbed) {\n",
              "      vegaEmbed(outputDiv, spec, embedOpt)\n",
              "        .catch(err => showError(`Javascript Error: ${err.message}<br>This usually means there's a typo in your chart specification. See the javascript console for the full traceback.`));\n",
              "    }\n",
              "\n",
              "    if(typeof define === \"function\" && define.amd) {\n",
              "      requirejs.config({paths});\n",
              "      require([\"vega-embed\"], displayChart, err => showError(`Error loading script: ${err.message}`));\n",
              "    } else if (typeof vegaEmbed === \"function\") {\n",
              "      displayChart(vegaEmbed);\n",
              "    } else {\n",
              "      loadScript(\"vega\")\n",
              "        .then(() => loadScript(\"vega-lite\"))\n",
              "        .then(() => loadScript(\"vega-embed\"))\n",
              "        .catch(showError)\n",
              "        .then(() => displayChart(vegaEmbed));\n",
              "    }\n",
              "  })({\"config\": {\"view\": {\"continuousWidth\": 400, \"continuousHeight\": 300}}, \"data\": {\"name\": \"data-3ae0cde74528492a4399830e8e43a6e6\"}, \"mark\": \"bar\", \"encoding\": {\"x\": {\"type\": \"ordinal\", \"field\": \"Date\", \"timeUnit\": \"monthdate\"}, \"y\": {\"type\": \"quantitative\", \"field\": \"New cases\"}}, \"title\": \"CA State- New cases\", \"width\": 500, \"$schema\": \"https://vega.github.io/schema/vega-lite/v4.8.1.json\", \"datasets\": {\"data-3ae0cde74528492a4399830e8e43a6e6\": [{\"Date\": \"1/22/20\", \"Province_State\": \"California\", \"New cases\": 0}, {\"Date\": \"1/23/20\", \"Province_State\": \"California\", \"New cases\": 0}, {\"Date\": \"1/24/20\", \"Province_State\": \"California\", \"New cases\": 0}, {\"Date\": \"1/25/20\", \"Province_State\": \"California\", \"New cases\": 0}, {\"Date\": \"1/26/20\", \"Province_State\": \"California\", \"New cases\": 2}, {\"Date\": \"1/27/20\", \"Province_State\": \"California\", \"New cases\": 2}, {\"Date\": \"1/28/20\", \"Province_State\": \"California\", \"New cases\": 2}, {\"Date\": \"1/29/20\", \"Province_State\": \"California\", \"New cases\": 2}, {\"Date\": \"1/30/20\", \"Province_State\": \"California\", \"New cases\": 2}, {\"Date\": \"1/31/20\", \"Province_State\": \"California\", \"New cases\": 3}, {\"Date\": \"2/1/20\", \"Province_State\": \"California\", \"New cases\": 3}, {\"Date\": \"2/10/20\", \"Province_State\": \"California\", \"New cases\": 6}, {\"Date\": \"2/11/20\", \"Province_State\": \"California\", \"New cases\": 7}, {\"Date\": \"2/12/20\", \"Province_State\": \"California\", \"New cases\": 7}, {\"Date\": \"2/13/20\", \"Province_State\": \"California\", \"New cases\": 8}, {\"Date\": \"2/14/20\", \"Province_State\": \"California\", \"New cases\": 8}, {\"Date\": \"2/15/20\", \"Province_State\": \"California\", \"New cases\": 8}, {\"Date\": \"2/16/20\", \"Province_State\": \"California\", \"New cases\": 8}, {\"Date\": \"2/17/20\", \"Province_State\": \"California\", \"New cases\": 8}, {\"Date\": \"2/18/20\", \"Province_State\": \"California\", \"New cases\": 8}, {\"Date\": \"2/19/20\", \"Province_State\": \"California\", \"New cases\": 8}, {\"Date\": \"2/2/20\", \"Province_State\": \"California\", \"New cases\": 3}, {\"Date\": \"2/20/20\", \"Province_State\": \"California\", \"New cases\": 8}, {\"Date\": \"2/21/20\", \"Province_State\": \"California\", \"New cases\": 9}, {\"Date\": \"2/22/20\", \"Province_State\": \"California\", \"New cases\": 9}, {\"Date\": \"2/23/20\", \"Province_State\": \"California\", \"New cases\": 9}, {\"Date\": \"2/24/20\", \"Province_State\": \"California\", \"New cases\": 9}, {\"Date\": \"2/25/20\", \"Province_State\": \"California\", \"New cases\": 9}, {\"Date\": \"2/26/20\", \"Province_State\": \"California\", \"New cases\": 9}, {\"Date\": \"2/27/20\", \"Province_State\": \"California\", \"New cases\": 9}, {\"Date\": \"2/28/20\", \"Province_State\": \"California\", \"New cases\": 9}, {\"Date\": \"2/29/20\", \"Province_State\": \"California\", \"New cases\": 10}, {\"Date\": \"2/3/20\", \"Province_State\": \"California\", \"New cases\": 6}, {\"Date\": \"2/4/20\", \"Province_State\": \"California\", \"New cases\": 6}, {\"Date\": \"2/5/20\", \"Province_State\": \"California\", \"New cases\": 6}, {\"Date\": \"2/6/20\", \"Province_State\": \"California\", \"New cases\": 6}, {\"Date\": \"2/7/20\", \"Province_State\": \"California\", \"New cases\": 6}, {\"Date\": \"2/8/20\", \"Province_State\": \"California\", \"New cases\": 6}, {\"Date\": \"2/9/20\", \"Province_State\": \"California\", \"New cases\": 6}, {\"Date\": \"3/1/20\", \"Province_State\": \"California\", \"New cases\": 10}, {\"Date\": \"3/10/20\", \"Province_State\": \"California\", \"New cases\": 121}, {\"Date\": \"3/11/20\", \"Province_State\": \"California\", \"New cases\": 150}, {\"Date\": \"3/12/20\", \"Province_State\": \"California\", \"New cases\": 185}, {\"Date\": \"3/13/20\", \"Province_State\": \"California\", \"New cases\": 236}, {\"Date\": \"3/14/20\", \"Province_State\": \"California\", \"New cases\": 315}, {\"Date\": \"3/15/20\", \"Province_State\": \"California\", \"New cases\": 307}, {\"Date\": \"3/16/20\", \"Province_State\": \"California\", \"New cases\": 452}, {\"Date\": \"3/17/20\", \"Province_State\": \"California\", \"New cases\": 578}, {\"Date\": \"3/18/20\", \"Province_State\": \"California\", \"New cases\": 679}, {\"Date\": \"3/19/20\", \"Province_State\": \"California\", \"New cases\": 803}, {\"Date\": \"3/2/20\", \"Province_State\": \"California\", \"New cases\": 18}, {\"Date\": \"3/20/20\", \"Province_State\": \"California\", \"New cases\": 993}, {\"Date\": \"3/21/20\", \"Province_State\": \"California\", \"New cases\": 1131}, {\"Date\": \"3/22/20\", \"Province_State\": \"California\", \"New cases\": 1306}, {\"Date\": \"3/23/20\", \"Province_State\": \"California\", \"New cases\": 1686}, {\"Date\": \"3/24/20\", \"Province_State\": \"California\", \"New cases\": 1999}, {\"Date\": \"3/25/20\", \"Province_State\": \"California\", \"New cases\": 2357}, {\"Date\": \"3/26/20\", \"Province_State\": \"California\", \"New cases\": 3098}, {\"Date\": \"3/27/20\", \"Province_State\": \"California\", \"New cases\": 3682}, {\"Date\": \"3/28/20\", \"Province_State\": \"California\", \"New cases\": 3934}, {\"Date\": \"3/29/20\", \"Province_State\": \"California\", \"New cases\": 4558}, {\"Date\": \"3/3/20\", \"Province_State\": \"California\", \"New cases\": 22}, {\"Date\": \"3/30/20\", \"Province_State\": \"California\", \"New cases\": 5666}, {\"Date\": \"3/31/20\", \"Province_State\": \"California\", \"New cases\": 6577}, {\"Date\": \"3/4/20\", \"Province_State\": \"California\", \"New cases\": 31}, {\"Date\": \"3/5/20\", \"Province_State\": \"California\", \"New cases\": 45}, {\"Date\": \"3/6/20\", \"Province_State\": \"California\", \"New cases\": 52}, {\"Date\": \"3/7/20\", \"Province_State\": \"California\", \"New cases\": 72}, {\"Date\": \"3/8/20\", \"Province_State\": \"California\", \"New cases\": 85}, {\"Date\": \"3/9/20\", \"Province_State\": \"California\", \"New cases\": 90}, {\"Date\": \"4/1/20\", \"Province_State\": \"California\", \"New cases\": 7546}, {\"Date\": \"4/10/20\", \"Province_State\": \"California\", \"New cases\": 16974}, {\"Date\": \"4/11/20\", \"Province_State\": \"California\", \"New cases\": 17378}, {\"Date\": \"4/12/20\", \"Province_State\": \"California\", \"New cases\": 18335}, {\"Date\": \"4/13/20\", \"Province_State\": \"California\", \"New cases\": 19207}, {\"Date\": \"4/14/20\", \"Province_State\": \"California\", \"New cases\": 20374}, {\"Date\": \"4/15/20\", \"Province_State\": \"California\", \"New cases\": 21474}, {\"Date\": \"4/16/20\", \"Province_State\": \"California\", \"New cases\": 22310}, {\"Date\": \"4/17/20\", \"Province_State\": \"California\", \"New cases\": 23582}, {\"Date\": \"4/18/20\", \"Province_State\": \"California\", \"New cases\": 24550}, {\"Date\": \"4/19/20\", \"Province_State\": \"California\", \"New cases\": 25305}, {\"Date\": \"4/2/20\", \"Province_State\": \"California\", \"New cases\": 8628}, {\"Date\": \"4/20/20\", \"Province_State\": \"California\", \"New cases\": 27318}, {\"Date\": \"4/21/20\", \"Province_State\": \"California\", \"New cases\": 28910}, {\"Date\": \"4/22/20\", \"Province_State\": \"California\", \"New cases\": 30694}, {\"Date\": \"4/23/20\", \"Province_State\": \"California\", \"New cases\": 32539}, {\"Date\": \"4/24/20\", \"Province_State\": \"California\", \"New cases\": 34084}, {\"Date\": \"4/25/20\", \"Province_State\": \"California\", \"New cases\": 35047}, {\"Date\": \"4/26/20\", \"Province_State\": \"California\", \"New cases\": 36069}, {\"Date\": \"4/27/20\", \"Province_State\": \"California\", \"New cases\": 37363}, {\"Date\": \"4/28/20\", \"Province_State\": \"California\", \"New cases\": 38396}, {\"Date\": \"4/29/20\", \"Province_State\": \"California\", \"New cases\": 40749}, {\"Date\": \"4/3/20\", \"Province_State\": \"California\", \"New cases\": 9553}, {\"Date\": \"4/30/20\", \"Province_State\": \"California\", \"New cases\": 41938}, {\"Date\": \"4/4/20\", \"Province_State\": \"California\", \"New cases\": 10209}, {\"Date\": \"4/5/20\", \"Province_State\": \"California\", \"New cases\": 12226}, {\"Date\": \"4/6/20\", \"Province_State\": \"California\", \"New cases\": 13127}, {\"Date\": \"4/7/20\", \"Province_State\": \"California\", \"New cases\": 14054}, {\"Date\": \"4/8/20\", \"Province_State\": \"California\", \"New cases\": 15329}, {\"Date\": \"4/9/20\", \"Province_State\": \"California\", \"New cases\": 15796}, {\"Date\": \"5/1/20\", \"Province_State\": \"California\", \"New cases\": 43586}, {\"Date\": \"5/10/20\", \"Province_State\": \"California\", \"New cases\": 55878}, {\"Date\": \"5/11/20\", \"Province_State\": \"California\", \"New cases\": 57171}, {\"Date\": \"5/12/20\", \"Province_State\": \"California\", \"New cases\": 58666}, {\"Date\": \"5/13/20\", \"Province_State\": \"California\", \"New cases\": 60318}, {\"Date\": \"5/14/20\", \"Province_State\": \"California\", \"New cases\": 62219}, {\"Date\": \"5/15/20\", \"Province_State\": \"California\", \"New cases\": 63821}, {\"Date\": \"5/16/20\", \"Province_State\": \"California\", \"New cases\": 65518}, {\"Date\": \"5/17/20\", \"Province_State\": \"California\", \"New cases\": 66657}, {\"Date\": \"5/18/20\", \"Province_State\": \"California\", \"New cases\": 67819}, {\"Date\": \"5/19/20\", \"Province_State\": \"California\", \"New cases\": 69718}, {\"Date\": \"5/2/20\", \"Province_State\": \"California\", \"New cases\": 44742}, {\"Date\": \"5/20/20\", \"Province_State\": \"California\", \"New cases\": 71797}, {\"Date\": \"5/21/20\", \"Province_State\": \"California\", \"New cases\": 73509}, {\"Date\": \"5/22/20\", \"Province_State\": \"California\", \"New cases\": 75279}, {\"Date\": \"5/23/20\", \"Province_State\": \"California\", \"New cases\": 77216}, {\"Date\": \"5/24/20\", \"Province_State\": \"California\", \"New cases\": 78619}, {\"Date\": \"5/25/20\", \"Province_State\": \"California\", \"New cases\": 80789}, {\"Date\": \"5/26/20\", \"Province_State\": \"California\", \"New cases\": 83465}, {\"Date\": \"5/27/20\", \"Province_State\": \"California\", \"New cases\": 84814}, {\"Date\": \"5/28/20\", \"Province_State\": \"California\", \"New cases\": 86923}, {\"Date\": \"5/29/20\", \"Province_State\": \"California\", \"New cases\": 89519}, {\"Date\": \"5/3/20\", \"Province_State\": \"California\", \"New cases\": 46158}, {\"Date\": \"5/30/20\", \"Province_State\": \"California\", \"New cases\": 92398}, {\"Date\": \"5/31/20\", \"Province_State\": \"California\", \"New cases\": 94311}, {\"Date\": \"5/4/20\", \"Province_State\": \"California\", \"New cases\": 47069}, {\"Date\": \"5/5/20\", \"Province_State\": \"California\", \"New cases\": 49301}, {\"Date\": \"5/6/20\", \"Province_State\": \"California\", \"New cases\": 51074}, {\"Date\": \"5/7/20\", \"Province_State\": \"California\", \"New cases\": 52373}, {\"Date\": \"5/8/20\", \"Province_State\": \"California\", \"New cases\": 53627}, {\"Date\": \"5/9/20\", \"Province_State\": \"California\", \"New cases\": 54958}, {\"Date\": \"6/1/20\", \"Province_State\": \"California\", \"New cases\": 96522}, {\"Date\": \"6/10/20\", \"Province_State\": \"California\", \"New cases\": 117678}, {\"Date\": \"6/11/20\", \"Province_State\": \"California\", \"New cases\": 120843}, {\"Date\": \"6/12/20\", \"Province_State\": \"California\", \"New cases\": 123582}, {\"Date\": \"6/13/20\", \"Province_State\": \"California\", \"New cases\": 126335}, {\"Date\": \"6/14/20\", \"Province_State\": \"California\", \"New cases\": 128226}, {\"Date\": \"6/15/20\", \"Province_State\": \"California\", \"New cases\": 130832}, {\"Date\": \"6/16/20\", \"Province_State\": \"California\", \"New cases\": 133466}, {\"Date\": \"6/17/20\", \"Province_State\": \"California\", \"New cases\": 136670}, {\"Date\": \"6/18/20\", \"Province_State\": \"California\", \"New cases\": 139664}, {\"Date\": \"6/19/20\", \"Province_State\": \"California\", \"New cases\": 142647}, {\"Date\": \"6/2/20\", \"Province_State\": \"California\", \"New cases\": 98614}, {\"Date\": \"6/20/20\", \"Province_State\": \"California\", \"New cases\": 146014}, {\"Date\": \"6/21/20\", \"Province_State\": \"California\", \"New cases\": 149017}, {\"Date\": \"6/22/20\", \"Province_State\": \"California\", \"New cases\": 154113}, {\"Date\": \"6/23/20\", \"Province_State\": \"California\", \"New cases\": 159415}, {\"Date\": \"6/24/20\", \"Province_State\": \"California\", \"New cases\": 162802}, {\"Date\": \"6/25/20\", \"Province_State\": \"California\", \"New cases\": 166774}, {\"Date\": \"6/26/20\", \"Province_State\": \"California\", \"New cases\": 170982}, {\"Date\": \"6/27/20\", \"Province_State\": \"California\", \"New cases\": 174617}, {\"Date\": \"6/28/20\", \"Province_State\": \"California\", \"New cases\": 178791}, {\"Date\": \"6/29/20\", \"Province_State\": \"California\", \"New cases\": 185150}, {\"Date\": \"6/3/20\", \"Province_State\": \"California\", \"New cases\": 100315}, {\"Date\": \"6/30/20\", \"Province_State\": \"California\", \"New cases\": 191378}, {\"Date\": \"6/4/20\", \"Province_State\": \"California\", \"New cases\": 102963}, {\"Date\": \"6/5/20\", \"Province_State\": \"California\", \"New cases\": 105759}, {\"Date\": \"6/6/20\", \"Province_State\": \"California\", \"New cases\": 108138}, {\"Date\": \"6/7/20\", \"Province_State\": \"California\", \"New cases\": 110019}, {\"Date\": \"6/8/20\", \"Province_State\": \"California\", \"New cases\": 112649}, {\"Date\": \"6/9/20\", \"Province_State\": \"California\", \"New cases\": 115150}, {\"Date\": \"7/1/20\", \"Province_State\": \"California\", \"New cases\": 197402}, {\"Date\": \"7/10/20\", \"Province_State\": \"California\", \"New cases\": 254846}, {\"Date\": \"7/11/20\", \"Province_State\": \"California\", \"New cases\": 261018}, {\"Date\": \"7/12/20\", \"Province_State\": \"California\", \"New cases\": 265959}, {\"Date\": \"7/13/20\", \"Province_State\": \"California\", \"New cases\": 273160}, {\"Date\": \"7/14/20\", \"Province_State\": \"California\", \"New cases\": 283017}, {\"Date\": \"7/15/20\", \"Province_State\": \"California\", \"New cases\": 289664}, {\"Date\": \"7/16/20\", \"Province_State\": \"California\", \"New cases\": 297975}, {\"Date\": \"7/17/20\", \"Province_State\": \"California\", \"New cases\": 304783}, {\"Date\": \"7/18/20\", \"Province_State\": \"California\", \"New cases\": 310285}, {\"Date\": \"7/19/20\", \"Province_State\": \"California\", \"New cases\": 315072}, {\"Date\": \"7/2/20\", \"Province_State\": \"California\", \"New cases\": 203284}, {\"Date\": \"7/20/20\", \"Province_State\": \"California\", \"New cases\": 323803}, {\"Date\": \"7/21/20\", \"Province_State\": \"California\", \"New cases\": 332964}, {\"Date\": \"7/22/20\", \"Province_State\": \"California\", \"New cases\": 343010}, {\"Date\": \"7/23/20\", \"Province_State\": \"California\", \"New cases\": 350366}, {\"Date\": \"7/24/20\", \"Province_State\": \"California\", \"New cases\": 357736}, {\"Date\": \"7/25/20\", \"Province_State\": \"California\", \"New cases\": 363365}, {\"Date\": \"7/26/20\", \"Province_State\": \"California\", \"New cases\": 367525}, {\"Date\": \"7/27/20\", \"Province_State\": \"California\", \"New cases\": 371592}, {\"Date\": \"7/28/20\", \"Province_State\": \"California\", \"New cases\": 382761}, {\"Date\": \"7/29/20\", \"Province_State\": \"California\", \"New cases\": 394162}, {\"Date\": \"7/3/20\", \"Province_State\": \"California\", \"New cases\": 206435}, {\"Date\": \"7/30/20\", \"Province_State\": \"California\", \"New cases\": 400316}, {\"Date\": \"7/31/20\", \"Province_State\": \"California\", \"New cases\": 406164}, {\"Date\": \"7/4/20\", \"Province_State\": \"California\", \"New cases\": 207868}, {\"Date\": \"7/5/20\", \"Province_State\": \"California\", \"New cases\": 217996}, {\"Date\": \"7/6/20\", \"Province_State\": \"California\", \"New cases\": 223179}, {\"Date\": \"7/7/20\", \"Province_State\": \"California\", \"New cases\": 233161}, {\"Date\": \"7/8/20\", \"Province_State\": \"California\", \"New cases\": 239907}, {\"Date\": \"7/9/20\", \"Province_State\": \"California\", \"New cases\": 248253}, {\"Date\": \"8/1/20\", \"Province_State\": \"California\", \"New cases\": 411292}, {\"Date\": \"8/10/20\", \"Province_State\": \"California\", \"New cases\": 463275}, {\"Date\": \"8/11/20\", \"Province_State\": \"California\", \"New cases\": 466657}, {\"Date\": \"8/12/20\", \"Province_State\": \"California\", \"New cases\": 477078}, {\"Date\": \"8/13/20\", \"Province_State\": \"California\", \"New cases\": 481352}, {\"Date\": \"8/14/20\", \"Province_State\": \"California\", \"New cases\": 493163}, {\"Date\": \"8/15/20\", \"Province_State\": \"California\", \"New cases\": 497328}, {\"Date\": \"8/16/20\", \"Province_State\": \"California\", \"New cases\": 502164}, {\"Date\": \"8/17/20\", \"Province_State\": \"California\", \"New cases\": 505639}, {\"Date\": \"8/18/20\", \"Province_State\": \"California\", \"New cases\": 512368}, {\"Date\": \"8/19/20\", \"Province_State\": \"California\", \"New cases\": 519187}, {\"Date\": \"8/2/20\", \"Province_State\": \"California\", \"New cases\": 415240}, {\"Date\": \"8/20/20\", \"Province_State\": \"California\", \"New cases\": 523281}, {\"Date\": \"8/3/20\", \"Province_State\": \"California\", \"New cases\": 418937}, {\"Date\": \"8/4/20\", \"Province_State\": \"California\", \"New cases\": 426527}, {\"Date\": \"8/5/20\", \"Province_State\": \"California\", \"New cases\": 429869}, {\"Date\": \"8/6/20\", \"Province_State\": \"California\", \"New cases\": 438228}, {\"Date\": \"8/7/20\", \"Province_State\": \"California\", \"New cases\": 442851}, {\"Date\": \"8/8/20\", \"Province_State\": \"California\", \"New cases\": 448581}, {\"Date\": \"8/9/20\", \"Province_State\": \"California\", \"New cases\": 452726}]}}, {\"mode\": \"vega-lite\"});\n",
              "</script>"
            ]
          },
          "metadata": {
            "tags": []
          },
          "execution_count": 79
        }
      ]
    },
    {
      "cell_type": "code",
      "metadata": {
        "colab_type": "code",
        "id": "nSqdbk8o-bHz",
        "colab": {
          "base_uri": "https://localhost:8080/",
          "height": 408
        },
        "outputId": "5d9dc34a-b883-40ea-fbb5-5f69820d157d"
      },
      "source": [
        "#base_ny.encode(y='Confirmed').properties(title='Total Confirmed') | base_ny.encode(y='Deaths',color = red).properties(title='Total deaths')\n",
        "\n",
        "base_ny.encode(y='New cases').properties(title='NY state - New cases')\n"
      ],
      "execution_count": 80,
      "outputs": [
        {
          "output_type": "execute_result",
          "data": {
            "text/plain": [
              "alt.Chart(...)"
            ],
            "text/html": [
              "\n",
              "<div id=\"altair-viz-504b742d77e44e27b077939d247b71cd\"></div>\n",
              "<script type=\"text/javascript\">\n",
              "  (function(spec, embedOpt){\n",
              "    let outputDiv = document.currentScript.previousElementSibling;\n",
              "    if (outputDiv.id !== \"altair-viz-504b742d77e44e27b077939d247b71cd\") {\n",
              "      outputDiv = document.getElementById(\"altair-viz-504b742d77e44e27b077939d247b71cd\");\n",
              "    }\n",
              "    const paths = {\n",
              "      \"vega\": \"https://cdn.jsdelivr.net/npm//vega@5?noext\",\n",
              "      \"vega-lib\": \"https://cdn.jsdelivr.net/npm//vega-lib?noext\",\n",
              "      \"vega-lite\": \"https://cdn.jsdelivr.net/npm//vega-lite@4.8.1?noext\",\n",
              "      \"vega-embed\": \"https://cdn.jsdelivr.net/npm//vega-embed@6?noext\",\n",
              "    };\n",
              "\n",
              "    function loadScript(lib) {\n",
              "      return new Promise(function(resolve, reject) {\n",
              "        var s = document.createElement('script');\n",
              "        s.src = paths[lib];\n",
              "        s.async = true;\n",
              "        s.onload = () => resolve(paths[lib]);\n",
              "        s.onerror = () => reject(`Error loading script: ${paths[lib]}`);\n",
              "        document.getElementsByTagName(\"head\")[0].appendChild(s);\n",
              "      });\n",
              "    }\n",
              "\n",
              "    function showError(err) {\n",
              "      outputDiv.innerHTML = `<div class=\"error\" style=\"color:red;\">${err}</div>`;\n",
              "      throw err;\n",
              "    }\n",
              "\n",
              "    function displayChart(vegaEmbed) {\n",
              "      vegaEmbed(outputDiv, spec, embedOpt)\n",
              "        .catch(err => showError(`Javascript Error: ${err.message}<br>This usually means there's a typo in your chart specification. See the javascript console for the full traceback.`));\n",
              "    }\n",
              "\n",
              "    if(typeof define === \"function\" && define.amd) {\n",
              "      requirejs.config({paths});\n",
              "      require([\"vega-embed\"], displayChart, err => showError(`Error loading script: ${err.message}`));\n",
              "    } else if (typeof vegaEmbed === \"function\") {\n",
              "      displayChart(vegaEmbed);\n",
              "    } else {\n",
              "      loadScript(\"vega\")\n",
              "        .then(() => loadScript(\"vega-lite\"))\n",
              "        .then(() => loadScript(\"vega-embed\"))\n",
              "        .catch(showError)\n",
              "        .then(() => displayChart(vegaEmbed));\n",
              "    }\n",
              "  })({\"config\": {\"view\": {\"continuousWidth\": 400, \"continuousHeight\": 300}}, \"data\": {\"name\": \"data-128e0e29785f7a18ee20dc77bb4e6360\"}, \"mark\": \"bar\", \"encoding\": {\"x\": {\"type\": \"ordinal\", \"field\": \"Date\", \"timeUnit\": \"monthdate\"}, \"y\": {\"type\": \"quantitative\", \"field\": \"New cases\"}}, \"title\": \"NY state - New cases\", \"width\": 500, \"$schema\": \"https://vega.github.io/schema/vega-lite/v4.8.1.json\", \"datasets\": {\"data-128e0e29785f7a18ee20dc77bb4e6360\": [{\"Date\": \"1/22/20\", \"Province_State\": \"New York\", \"New cases\": 0}, {\"Date\": \"1/23/20\", \"Province_State\": \"New York\", \"New cases\": 0}, {\"Date\": \"1/24/20\", \"Province_State\": \"New York\", \"New cases\": 0}, {\"Date\": \"1/25/20\", \"Province_State\": \"New York\", \"New cases\": 0}, {\"Date\": \"1/26/20\", \"Province_State\": \"New York\", \"New cases\": 0}, {\"Date\": \"1/27/20\", \"Province_State\": \"New York\", \"New cases\": 0}, {\"Date\": \"1/28/20\", \"Province_State\": \"New York\", \"New cases\": 0}, {\"Date\": \"1/29/20\", \"Province_State\": \"New York\", \"New cases\": 0}, {\"Date\": \"1/30/20\", \"Province_State\": \"New York\", \"New cases\": 0}, {\"Date\": \"1/31/20\", \"Province_State\": \"New York\", \"New cases\": 0}, {\"Date\": \"2/1/20\", \"Province_State\": \"New York\", \"New cases\": 0}, {\"Date\": \"2/10/20\", \"Province_State\": \"New York\", \"New cases\": 0}, {\"Date\": \"2/11/20\", \"Province_State\": \"New York\", \"New cases\": 0}, {\"Date\": \"2/12/20\", \"Province_State\": \"New York\", \"New cases\": 0}, {\"Date\": \"2/13/20\", \"Province_State\": \"New York\", \"New cases\": 0}, {\"Date\": \"2/14/20\", \"Province_State\": \"New York\", \"New cases\": 0}, {\"Date\": \"2/15/20\", \"Province_State\": \"New York\", \"New cases\": 0}, {\"Date\": \"2/16/20\", \"Province_State\": \"New York\", \"New cases\": 0}, {\"Date\": \"2/17/20\", \"Province_State\": \"New York\", \"New cases\": 0}, {\"Date\": \"2/18/20\", \"Province_State\": \"New York\", \"New cases\": 0}, {\"Date\": \"2/19/20\", \"Province_State\": \"New York\", \"New cases\": 0}, {\"Date\": \"2/2/20\", \"Province_State\": \"New York\", \"New cases\": 0}, {\"Date\": \"2/20/20\", \"Province_State\": \"New York\", \"New cases\": 0}, {\"Date\": \"2/21/20\", \"Province_State\": \"New York\", \"New cases\": 0}, {\"Date\": \"2/22/20\", \"Province_State\": \"New York\", \"New cases\": 0}, {\"Date\": \"2/23/20\", \"Province_State\": \"New York\", \"New cases\": 0}, {\"Date\": \"2/24/20\", \"Province_State\": \"New York\", \"New cases\": 0}, {\"Date\": \"2/25/20\", \"Province_State\": \"New York\", \"New cases\": 0}, {\"Date\": \"2/26/20\", \"Province_State\": \"New York\", \"New cases\": 0}, {\"Date\": \"2/27/20\", \"Province_State\": \"New York\", \"New cases\": 0}, {\"Date\": \"2/28/20\", \"Province_State\": \"New York\", \"New cases\": 0}, {\"Date\": \"2/29/20\", \"Province_State\": \"New York\", \"New cases\": 0}, {\"Date\": \"2/3/20\", \"Province_State\": \"New York\", \"New cases\": 0}, {\"Date\": \"2/4/20\", \"Province_State\": \"New York\", \"New cases\": 0}, {\"Date\": \"2/5/20\", \"Province_State\": \"New York\", \"New cases\": 0}, {\"Date\": \"2/6/20\", \"Province_State\": \"New York\", \"New cases\": 0}, {\"Date\": \"2/7/20\", \"Province_State\": \"New York\", \"New cases\": 0}, {\"Date\": \"2/8/20\", \"Province_State\": \"New York\", \"New cases\": 0}, {\"Date\": \"2/9/20\", \"Province_State\": \"New York\", \"New cases\": 0}, {\"Date\": \"3/1/20\", \"Province_State\": \"New York\", \"New cases\": 0}, {\"Date\": \"3/10/20\", \"Province_State\": \"New York\", \"New cases\": 131}, {\"Date\": \"3/11/20\", \"Province_State\": \"New York\", \"New cases\": 192}, {\"Date\": \"3/12/20\", \"Province_State\": \"New York\", \"New cases\": 285}, {\"Date\": \"3/13/20\", \"Province_State\": \"New York\", \"New cases\": 368}, {\"Date\": \"3/14/20\", \"Province_State\": \"New York\", \"New cases\": 538}, {\"Date\": \"3/15/20\", \"Province_State\": \"New York\", \"New cases\": 522}, {\"Date\": \"3/16/20\", \"Province_State\": \"New York\", \"New cases\": 837}, {\"Date\": \"3/17/20\", \"Province_State\": \"New York\", \"New cases\": 1407}, {\"Date\": \"3/18/20\", \"Province_State\": \"New York\", \"New cases\": 2698}, {\"Date\": \"3/19/20\", \"Province_State\": \"New York\", \"New cases\": 5254}, {\"Date\": \"3/2/20\", \"Province_State\": \"New York\", \"New cases\": 1}, {\"Date\": \"3/20/20\", \"Province_State\": \"New York\", \"New cases\": 7552}, {\"Date\": \"3/21/20\", \"Province_State\": \"New York\", \"New cases\": 10239}, {\"Date\": \"3/22/20\", \"Province_State\": \"New York\", \"New cases\": 13719}, {\"Date\": \"3/23/20\", \"Province_State\": \"New York\", \"New cases\": 18197}, {\"Date\": \"3/24/20\", \"Province_State\": \"New York\", \"New cases\": 22385}, {\"Date\": \"3/25/20\", \"Province_State\": \"New York\", \"New cases\": 27169}, {\"Date\": \"3/26/20\", \"Province_State\": \"New York\", \"New cases\": 33437}, {\"Date\": \"3/27/20\", \"Province_State\": \"New York\", \"New cases\": 39581}, {\"Date\": \"3/28/20\", \"Province_State\": \"New York\", \"New cases\": 46051}, {\"Date\": \"3/29/20\", \"Province_State\": \"New York\", \"New cases\": 52229}, {\"Date\": \"3/3/20\", \"Province_State\": \"New York\", \"New cases\": 2}, {\"Date\": \"3/30/20\", \"Province_State\": \"New York\", \"New cases\": 58152}, {\"Date\": \"3/31/20\", \"Province_State\": \"New York\", \"New cases\": 65962}, {\"Date\": \"3/4/20\", \"Province_State\": \"New York\", \"New cases\": 11}, {\"Date\": \"3/5/20\", \"Province_State\": \"New York\", \"New cases\": 22}, {\"Date\": \"3/6/20\", \"Province_State\": \"New York\", \"New cases\": 30}, {\"Date\": \"3/7/20\", \"Province_State\": \"New York\", \"New cases\": 72}, {\"Date\": \"3/8/20\", \"Province_State\": \"New York\", \"New cases\": 101}, {\"Date\": \"3/9/20\", \"Province_State\": \"New York\", \"New cases\": 125}, {\"Date\": \"4/1/20\", \"Province_State\": \"New York\", \"New cases\": 72820}, {\"Date\": \"4/10/20\", \"Province_State\": \"New York\", \"New cases\": 146854}, {\"Date\": \"4/11/20\", \"Province_State\": \"New York\", \"New cases\": 154350}, {\"Date\": \"4/12/20\", \"Province_State\": \"New York\", \"New cases\": 161112}, {\"Date\": \"4/13/20\", \"Province_State\": \"New York\", \"New cases\": 166863}, {\"Date\": \"4/14/20\", \"Province_State\": \"New York\", \"New cases\": 172915}, {\"Date\": \"4/15/20\", \"Province_State\": \"New York\", \"New cases\": 182696}, {\"Date\": \"4/16/20\", \"Province_State\": \"New York\", \"New cases\": 190672}, {\"Date\": \"4/17/20\", \"Province_State\": \"New York\", \"New cases\": 196590}, {\"Date\": \"4/18/20\", \"Province_State\": \"New York\", \"New cases\": 202695}, {\"Date\": \"4/19/20\", \"Province_State\": \"New York\", \"New cases\": 207486}, {\"Date\": \"4/2/20\", \"Province_State\": \"New York\", \"New cases\": 80103}, {\"Date\": \"4/20/20\", \"Province_State\": \"New York\", \"New cases\": 211759}, {\"Date\": \"4/21/20\", \"Province_State\": \"New York\", \"New cases\": 216224}, {\"Date\": \"4/22/20\", \"Province_State\": \"New York\", \"New cases\": 220329}, {\"Date\": \"4/23/20\", \"Province_State\": \"New York\", \"New cases\": 224828}, {\"Date\": \"4/24/20\", \"Province_State\": \"New York\", \"New cases\": 232074}, {\"Date\": \"4/25/20\", \"Province_State\": \"New York\", \"New cases\": 240842}, {\"Date\": \"4/26/20\", \"Province_State\": \"New York\", \"New cases\": 245750}, {\"Date\": \"4/27/20\", \"Province_State\": \"New York\", \"New cases\": 249178}, {\"Date\": \"4/28/20\", \"Province_State\": \"New York\", \"New cases\": 251920}, {\"Date\": \"4/29/20\", \"Province_State\": \"New York\", \"New cases\": 255892}, {\"Date\": \"4/3/20\", \"Province_State\": \"New York\", \"New cases\": 88886}, {\"Date\": \"4/30/20\", \"Province_State\": \"New York\", \"New cases\": 259952}, {\"Date\": \"4/4/20\", \"Province_State\": \"New York\", \"New cases\": 98176}, {\"Date\": \"4/5/20\", \"Province_State\": \"New York\", \"New cases\": 106033}, {\"Date\": \"4/6/20\", \"Province_State\": \"New York\", \"New cases\": 113240}, {\"Date\": \"4/7/20\", \"Province_State\": \"New York\", \"New cases\": 120096}, {\"Date\": \"4/8/20\", \"Province_State\": \"New York\", \"New cases\": 129051}, {\"Date\": \"4/9/20\", \"Province_State\": \"New York\", \"New cases\": 137879}, {\"Date\": \"5/1/20\", \"Province_State\": \"New York\", \"New cases\": 263351}, {\"Date\": \"5/10/20\", \"Province_State\": \"New York\", \"New cases\": 286568}, {\"Date\": \"5/11/20\", \"Province_State\": \"New York\", \"New cases\": 287995}, {\"Date\": \"5/12/20\", \"Province_State\": \"New York\", \"New cases\": 289199}, {\"Date\": \"5/13/20\", \"Province_State\": \"New York\", \"New cases\": 291078}, {\"Date\": \"5/14/20\", \"Province_State\": \"New York\", \"New cases\": 293095}, {\"Date\": \"5/15/20\", \"Province_State\": \"New York\", \"New cases\": 295576}, {\"Date\": \"5/16/20\", \"Province_State\": \"New York\", \"New cases\": 297576}, {\"Date\": \"5/17/20\", \"Province_State\": \"New York\", \"New cases\": 299210}, {\"Date\": \"5/18/20\", \"Province_State\": \"New York\", \"New cases\": 300251}, {\"Date\": \"5/19/20\", \"Province_State\": \"New York\", \"New cases\": 301393}, {\"Date\": \"5/2/20\", \"Province_State\": \"New York\", \"New cases\": 267442}, {\"Date\": \"5/20/20\", \"Province_State\": \"New York\", \"New cases\": 302662}, {\"Date\": \"5/21/20\", \"Province_State\": \"New York\", \"New cases\": 304469}, {\"Date\": \"5/22/20\", \"Province_State\": \"New York\", \"New cases\": 305910}, {\"Date\": \"5/23/20\", \"Province_State\": \"New York\", \"New cases\": 307327}, {\"Date\": \"5/24/20\", \"Province_State\": \"New York\", \"New cases\": 308691}, {\"Date\": \"5/25/20\", \"Province_State\": \"New York\", \"New cases\": 309738}, {\"Date\": \"5/26/20\", \"Province_State\": \"New York\", \"New cases\": 310642}, {\"Date\": \"5/27/20\", \"Province_State\": \"New York\", \"New cases\": 311615}, {\"Date\": \"5/28/20\", \"Province_State\": \"New York\", \"New cases\": 313125}, {\"Date\": \"5/29/20\", \"Province_State\": \"New York\", \"New cases\": 314425}, {\"Date\": \"5/3/20\", \"Province_State\": \"New York\", \"New cases\": 270441}, {\"Date\": \"5/30/20\", \"Province_State\": \"New York\", \"New cases\": 315590}, {\"Date\": \"5/31/20\", \"Province_State\": \"New York\", \"New cases\": 316484}, {\"Date\": \"5/4/20\", \"Province_State\": \"New York\", \"New cases\": 272522}, {\"Date\": \"5/5/20\", \"Province_State\": \"New York\", \"New cases\": 274436}, {\"Date\": \"5/6/20\", \"Province_State\": \"New York\", \"New cases\": 276825}, {\"Date\": \"5/7/20\", \"Province_State\": \"New York\", \"New cases\": 279833}, {\"Date\": \"5/8/20\", \"Province_State\": \"New York\", \"New cases\": 282344}, {\"Date\": \"5/9/20\", \"Province_State\": \"New York\", \"New cases\": 284649}, {\"Date\": \"6/1/20\", \"Province_State\": \"New York\", \"New cases\": 317267}, {\"Date\": \"6/10/20\", \"Province_State\": \"New York\", \"New cases\": 324398}, {\"Date\": \"6/11/20\", \"Province_State\": \"New York\", \"New cases\": 325007}, {\"Date\": \"6/12/20\", \"Province_State\": \"New York\", \"New cases\": 325696}, {\"Date\": \"6/13/20\", \"Province_State\": \"New York\", \"New cases\": 326482}, {\"Date\": \"6/14/20\", \"Province_State\": \"New York\", \"New cases\": 327051}, {\"Date\": \"6/15/20\", \"Province_State\": \"New York\", \"New cases\": 327591}, {\"Date\": \"6/16/20\", \"Province_State\": \"New York\", \"New cases\": 328106}, {\"Date\": \"6/17/20\", \"Province_State\": \"New York\", \"New cases\": 328598}, {\"Date\": \"6/18/20\", \"Province_State\": \"New York\", \"New cases\": 329105}, {\"Date\": \"6/19/20\", \"Province_State\": \"New York\", \"New cases\": 329756}, {\"Date\": \"6/2/20\", \"Province_State\": \"New York\", \"New cases\": 318432}, {\"Date\": \"6/20/20\", \"Province_State\": \"New York\", \"New cases\": 330327}, {\"Date\": \"6/21/20\", \"Province_State\": \"New York\", \"New cases\": 330901}, {\"Date\": \"6/22/20\", \"Province_State\": \"New York\", \"New cases\": 331359}, {\"Date\": \"6/23/20\", \"Province_State\": \"New York\", \"New cases\": 331874}, {\"Date\": \"6/24/20\", \"Province_State\": \"New York\", \"New cases\": 332329}, {\"Date\": \"6/25/20\", \"Province_State\": \"New York\", \"New cases\": 332917}, {\"Date\": \"6/26/20\", \"Province_State\": \"New York\", \"New cases\": 333581}, {\"Date\": \"6/27/20\", \"Province_State\": \"New York\", \"New cases\": 334136}, {\"Date\": \"6/28/20\", \"Province_State\": \"New York\", \"New cases\": 334634}, {\"Date\": \"6/29/20\", \"Province_State\": \"New York\", \"New cases\": 334939}, {\"Date\": \"6/3/20\", \"Province_State\": \"New York\", \"New cases\": 319293}, {\"Date\": \"6/30/20\", \"Province_State\": \"New York\", \"New cases\": 335378}, {\"Date\": \"6/4/20\", \"Province_State\": \"New York\", \"New cases\": 320168}, {\"Date\": \"6/5/20\", \"Province_State\": \"New York\", \"New cases\": 321071}, {\"Date\": \"6/6/20\", \"Province_State\": \"New York\", \"New cases\": 321967}, {\"Date\": \"6/7/20\", \"Province_State\": \"New York\", \"New cases\": 322638}, {\"Date\": \"6/8/20\", \"Province_State\": \"New York\", \"New cases\": 323239}, {\"Date\": \"6/9/20\", \"Province_State\": \"New York\", \"New cases\": 323817}, {\"Date\": \"7/1/20\", \"Province_State\": \"New York\", \"New cases\": 335881}, {\"Date\": \"7/10/20\", \"Province_State\": \"New York\", \"New cases\": 340888}, {\"Date\": \"7/11/20\", \"Province_State\": \"New York\", \"New cases\": 341486}, {\"Date\": \"7/12/20\", \"Province_State\": \"New York\", \"New cases\": 342049}, {\"Date\": \"7/13/20\", \"Province_State\": \"New York\", \"New cases\": 342507}, {\"Date\": \"7/14/20\", \"Province_State\": \"New York\", \"New cases\": 343199}, {\"Date\": \"7/15/20\", \"Province_State\": \"New York\", \"New cases\": 343867}, {\"Date\": \"7/16/20\", \"Province_State\": \"New York\", \"New cases\": 344508}, {\"Date\": \"7/17/20\", \"Province_State\": \"New York\", \"New cases\": 345124}, {\"Date\": \"7/18/20\", \"Province_State\": \"New York\", \"New cases\": 345729}, {\"Date\": \"7/19/20\", \"Province_State\": \"New York\", \"New cases\": 346140}, {\"Date\": \"7/2/20\", \"Province_State\": \"New York\", \"New cases\": 336599}, {\"Date\": \"7/20/20\", \"Province_State\": \"New York\", \"New cases\": 346554}, {\"Date\": \"7/21/20\", \"Province_State\": \"New York\", \"New cases\": 347259}, {\"Date\": \"7/22/20\", \"Province_State\": \"New York\", \"New cases\": 347839}, {\"Date\": \"7/23/20\", \"Province_State\": \"New York\", \"New cases\": 348493}, {\"Date\": \"7/24/20\", \"Province_State\": \"New York\", \"New cases\": 349113}, {\"Date\": \"7/25/20\", \"Province_State\": \"New York\", \"New cases\": 349708}, {\"Date\": \"7/26/20\", \"Province_State\": \"New York\", \"New cases\": 350139}, {\"Date\": \"7/27/20\", \"Province_State\": \"New York\", \"New cases\": 350630}, {\"Date\": \"7/28/20\", \"Province_State\": \"New York\", \"New cases\": 351053}, {\"Date\": \"7/29/20\", \"Province_State\": \"New York\", \"New cases\": 351637}, {\"Date\": \"7/3/20\", \"Province_State\": \"New York\", \"New cases\": 337352}, {\"Date\": \"7/30/20\", \"Province_State\": \"New York\", \"New cases\": 352286}, {\"Date\": \"7/31/20\", \"Province_State\": \"New York\", \"New cases\": 352782}, {\"Date\": \"7/4/20\", \"Province_State\": \"New York\", \"New cases\": 337939}, {\"Date\": \"7/5/20\", \"Province_State\": \"New York\", \"New cases\": 338361}, {\"Date\": \"7/6/20\", \"Province_State\": \"New York\", \"New cases\": 338787}, {\"Date\": \"7/7/20\", \"Province_State\": \"New York\", \"New cases\": 339272}, {\"Date\": \"7/8/20\", \"Province_State\": \"New York\", \"New cases\": 339841}, {\"Date\": \"7/9/20\", \"Province_State\": \"New York\", \"New cases\": 340296}, {\"Date\": \"8/1/20\", \"Province_State\": \"New York\", \"New cases\": 353389}, {\"Date\": \"8/10/20\", \"Province_State\": \"New York\", \"New cases\": 357928}, {\"Date\": \"8/11/20\", \"Province_State\": \"New York\", \"New cases\": 358452}, {\"Date\": \"8/12/20\", \"Province_State\": \"New York\", \"New cases\": 359060}, {\"Date\": \"8/13/20\", \"Province_State\": \"New York\", \"New cases\": 359693}, {\"Date\": \"8/14/20\", \"Province_State\": \"New York\", \"New cases\": 360289}, {\"Date\": \"8/15/20\", \"Province_State\": \"New York\", \"New cases\": 360901}, {\"Date\": \"8/16/20\", \"Province_State\": \"New York\", \"New cases\": 361410}, {\"Date\": \"8/17/20\", \"Province_State\": \"New York\", \"New cases\": 361758}, {\"Date\": \"8/18/20\", \"Province_State\": \"New York\", \"New cases\": 362304}, {\"Date\": \"8/19/20\", \"Province_State\": \"New York\", \"New cases\": 362821}, {\"Date\": \"8/2/20\", \"Province_State\": \"New York\", \"New cases\": 353804}, {\"Date\": \"8/20/20\", \"Province_State\": \"New York\", \"New cases\": 363288}, {\"Date\": \"8/3/20\", \"Province_State\": \"New York\", \"New cases\": 354229}, {\"Date\": \"8/4/20\", \"Province_State\": \"New York\", \"New cases\": 354831}, {\"Date\": \"8/5/20\", \"Province_State\": \"New York\", \"New cases\": 355345}, {\"Date\": \"8/6/20\", \"Province_State\": \"New York\", \"New cases\": 355924}, {\"Date\": \"8/7/20\", \"Province_State\": \"New York\", \"New cases\": 356486}, {\"Date\": \"8/8/20\", \"Province_State\": \"New York\", \"New cases\": 357083}, {\"Date\": \"8/9/20\", \"Province_State\": \"New York\", \"New cases\": 357524}]}}, {\"mode\": \"vega-lite\"});\n",
              "</script>"
            ]
          },
          "metadata": {
            "tags": []
          },
          "execution_count": 80
        }
      ]
    },
    {
      "cell_type": "code",
      "metadata": {
        "id": "noNhAVUYx4Gz",
        "colab_type": "code",
        "colab": {
          "base_uri": "https://localhost:8080/",
          "height": 403
        },
        "outputId": "97762437-ec6a-4493-bf08-bad7338565f0"
      },
      "source": [
        "base_queens.encode(y=\"New cases\").properties(title='Queens County New Cases')"
      ],
      "execution_count": 81,
      "outputs": [
        {
          "output_type": "execute_result",
          "data": {
            "text/plain": [
              "alt.Chart(...)"
            ],
            "text/html": [
              "\n",
              "<div id=\"altair-viz-903403cef1ee46cf916898d390fb36be\"></div>\n",
              "<script type=\"text/javascript\">\n",
              "  (function(spec, embedOpt){\n",
              "    let outputDiv = document.currentScript.previousElementSibling;\n",
              "    if (outputDiv.id !== \"altair-viz-903403cef1ee46cf916898d390fb36be\") {\n",
              "      outputDiv = document.getElementById(\"altair-viz-903403cef1ee46cf916898d390fb36be\");\n",
              "    }\n",
              "    const paths = {\n",
              "      \"vega\": \"https://cdn.jsdelivr.net/npm//vega@5?noext\",\n",
              "      \"vega-lib\": \"https://cdn.jsdelivr.net/npm//vega-lib?noext\",\n",
              "      \"vega-lite\": \"https://cdn.jsdelivr.net/npm//vega-lite@4.8.1?noext\",\n",
              "      \"vega-embed\": \"https://cdn.jsdelivr.net/npm//vega-embed@6?noext\",\n",
              "    };\n",
              "\n",
              "    function loadScript(lib) {\n",
              "      return new Promise(function(resolve, reject) {\n",
              "        var s = document.createElement('script');\n",
              "        s.src = paths[lib];\n",
              "        s.async = true;\n",
              "        s.onload = () => resolve(paths[lib]);\n",
              "        s.onerror = () => reject(`Error loading script: ${paths[lib]}`);\n",
              "        document.getElementsByTagName(\"head\")[0].appendChild(s);\n",
              "      });\n",
              "    }\n",
              "\n",
              "    function showError(err) {\n",
              "      outputDiv.innerHTML = `<div class=\"error\" style=\"color:red;\">${err}</div>`;\n",
              "      throw err;\n",
              "    }\n",
              "\n",
              "    function displayChart(vegaEmbed) {\n",
              "      vegaEmbed(outputDiv, spec, embedOpt)\n",
              "        .catch(err => showError(`Javascript Error: ${err.message}<br>This usually means there's a typo in your chart specification. See the javascript console for the full traceback.`));\n",
              "    }\n",
              "\n",
              "    if(typeof define === \"function\" && define.amd) {\n",
              "      requirejs.config({paths});\n",
              "      require([\"vega-embed\"], displayChart, err => showError(`Error loading script: ${err.message}`));\n",
              "    } else if (typeof vegaEmbed === \"function\") {\n",
              "      displayChart(vegaEmbed);\n",
              "    } else {\n",
              "      loadScript(\"vega\")\n",
              "        .then(() => loadScript(\"vega-lite\"))\n",
              "        .then(() => loadScript(\"vega-embed\"))\n",
              "        .catch(showError)\n",
              "        .then(() => displayChart(vegaEmbed));\n",
              "    }\n",
              "  })({\"config\": {\"view\": {\"continuousWidth\": 400, \"continuousHeight\": 300}}, \"data\": {\"name\": \"data-22ecc119dae00addf8a8aa7c3ee9f027\"}, \"mark\": \"bar\", \"encoding\": {\"x\": {\"type\": \"ordinal\", \"field\": \"Date\", \"timeUnit\": \"monthdate\"}, \"y\": {\"type\": \"quantitative\", \"field\": \"New cases\"}}, \"title\": \"Queens County New Cases\", \"width\": 500, \"$schema\": \"https://vega.github.io/schema/vega-lite/v4.8.1.json\", \"datasets\": {\"data-22ecc119dae00addf8a8aa7c3ee9f027\": [{\"Date\": \"1/22/20\", \"Province_State\": \"New York\", \"New cases\": 0}, {\"Date\": \"1/23/20\", \"Province_State\": \"New York\", \"New cases\": 0}, {\"Date\": \"1/24/20\", \"Province_State\": \"New York\", \"New cases\": 0}, {\"Date\": \"1/25/20\", \"Province_State\": \"New York\", \"New cases\": 0}, {\"Date\": \"1/26/20\", \"Province_State\": \"New York\", \"New cases\": 0}, {\"Date\": \"1/27/20\", \"Province_State\": \"New York\", \"New cases\": 0}, {\"Date\": \"1/28/20\", \"Province_State\": \"New York\", \"New cases\": 0}, {\"Date\": \"1/29/20\", \"Province_State\": \"New York\", \"New cases\": 0}, {\"Date\": \"1/30/20\", \"Province_State\": \"New York\", \"New cases\": 0}, {\"Date\": \"1/31/20\", \"Province_State\": \"New York\", \"New cases\": 0}, {\"Date\": \"2/1/20\", \"Province_State\": \"New York\", \"New cases\": 0}, {\"Date\": \"2/10/20\", \"Province_State\": \"New York\", \"New cases\": 0}, {\"Date\": \"2/11/20\", \"Province_State\": \"New York\", \"New cases\": 0}, {\"Date\": \"2/12/20\", \"Province_State\": \"New York\", \"New cases\": 0}, {\"Date\": \"2/13/20\", \"Province_State\": \"New York\", \"New cases\": 0}, {\"Date\": \"2/14/20\", \"Province_State\": \"New York\", \"New cases\": 0}, {\"Date\": \"2/15/20\", \"Province_State\": \"New York\", \"New cases\": 0}, {\"Date\": \"2/16/20\", \"Province_State\": \"New York\", \"New cases\": 0}, {\"Date\": \"2/17/20\", \"Province_State\": \"New York\", \"New cases\": 0}, {\"Date\": \"2/18/20\", \"Province_State\": \"New York\", \"New cases\": 0}, {\"Date\": \"2/19/20\", \"Province_State\": \"New York\", \"New cases\": 0}, {\"Date\": \"2/2/20\", \"Province_State\": \"New York\", \"New cases\": 0}, {\"Date\": \"2/20/20\", \"Province_State\": \"New York\", \"New cases\": 0}, {\"Date\": \"2/21/20\", \"Province_State\": \"New York\", \"New cases\": 0}, {\"Date\": \"2/22/20\", \"Province_State\": \"New York\", \"New cases\": 0}, {\"Date\": \"2/23/20\", \"Province_State\": \"New York\", \"New cases\": 0}, {\"Date\": \"2/24/20\", \"Province_State\": \"New York\", \"New cases\": 0}, {\"Date\": \"2/25/20\", \"Province_State\": \"New York\", \"New cases\": 0}, {\"Date\": \"2/26/20\", \"Province_State\": \"New York\", \"New cases\": 0}, {\"Date\": \"2/27/20\", \"Province_State\": \"New York\", \"New cases\": 0}, {\"Date\": \"2/28/20\", \"Province_State\": \"New York\", \"New cases\": 0}, {\"Date\": \"2/29/20\", \"Province_State\": \"New York\", \"New cases\": 0}, {\"Date\": \"2/3/20\", \"Province_State\": \"New York\", \"New cases\": 0}, {\"Date\": \"2/4/20\", \"Province_State\": \"New York\", \"New cases\": 0}, {\"Date\": \"2/5/20\", \"Province_State\": \"New York\", \"New cases\": 0}, {\"Date\": \"2/6/20\", \"Province_State\": \"New York\", \"New cases\": 0}, {\"Date\": \"2/7/20\", \"Province_State\": \"New York\", \"New cases\": 0}, {\"Date\": \"2/8/20\", \"Province_State\": \"New York\", \"New cases\": 0}, {\"Date\": \"2/9/20\", \"Province_State\": \"New York\", \"New cases\": 0}, {\"Date\": \"3/1/20\", \"Province_State\": \"New York\", \"New cases\": 0}, {\"Date\": \"3/10/20\", \"Province_State\": \"New York\", \"New cases\": 0}, {\"Date\": \"3/11/20\", \"Province_State\": \"New York\", \"New cases\": 0}, {\"Date\": \"3/12/20\", \"Province_State\": \"New York\", \"New cases\": 0}, {\"Date\": \"3/13/20\", \"Province_State\": \"New York\", \"New cases\": 0}, {\"Date\": \"3/14/20\", \"Province_State\": \"New York\", \"New cases\": 0}, {\"Date\": \"3/15/20\", \"Province_State\": \"New York\", \"New cases\": 0}, {\"Date\": \"3/16/20\", \"Province_State\": \"New York\", \"New cases\": 0}, {\"Date\": \"3/17/20\", \"Province_State\": \"New York\", \"New cases\": 0}, {\"Date\": \"3/18/20\", \"Province_State\": \"New York\", \"New cases\": 0}, {\"Date\": \"3/19/20\", \"Province_State\": \"New York\", \"New cases\": 0}, {\"Date\": \"3/2/20\", \"Province_State\": \"New York\", \"New cases\": 0}, {\"Date\": \"3/20/20\", \"Province_State\": \"New York\", \"New cases\": 0}, {\"Date\": \"3/21/20\", \"Province_State\": \"New York\", \"New cases\": 0}, {\"Date\": \"3/22/20\", \"Province_State\": \"New York\", \"New cases\": 0}, {\"Date\": \"3/23/20\", \"Province_State\": \"New York\", \"New cases\": 0}, {\"Date\": \"3/24/20\", \"Province_State\": \"New York\", \"New cases\": 0}, {\"Date\": \"3/25/20\", \"Province_State\": \"New York\", \"New cases\": 0}, {\"Date\": \"3/26/20\", \"Province_State\": \"New York\", \"New cases\": 0}, {\"Date\": \"3/27/20\", \"Province_State\": \"New York\", \"New cases\": 0}, {\"Date\": \"3/28/20\", \"Province_State\": \"New York\", \"New cases\": 0}, {\"Date\": \"3/29/20\", \"Province_State\": \"New York\", \"New cases\": 0}, {\"Date\": \"3/3/20\", \"Province_State\": \"New York\", \"New cases\": 0}, {\"Date\": \"3/30/20\", \"Province_State\": \"New York\", \"New cases\": 0}, {\"Date\": \"3/31/20\", \"Province_State\": \"New York\", \"New cases\": 0}, {\"Date\": \"3/4/20\", \"Province_State\": \"New York\", \"New cases\": 0}, {\"Date\": \"3/5/20\", \"Province_State\": \"New York\", \"New cases\": 0}, {\"Date\": \"3/6/20\", \"Province_State\": \"New York\", \"New cases\": 0}, {\"Date\": \"3/7/20\", \"Province_State\": \"New York\", \"New cases\": 0}, {\"Date\": \"3/8/20\", \"Province_State\": \"New York\", \"New cases\": 0}, {\"Date\": \"3/9/20\", \"Province_State\": \"New York\", \"New cases\": 0}, {\"Date\": \"4/1/20\", \"Province_State\": \"New York\", \"New cases\": 0}, {\"Date\": \"4/10/20\", \"Province_State\": \"New York\", \"New cases\": 0}, {\"Date\": \"4/11/20\", \"Province_State\": \"New York\", \"New cases\": 0}, {\"Date\": \"4/12/20\", \"Province_State\": \"New York\", \"New cases\": 0}, {\"Date\": \"4/13/20\", \"Province_State\": \"New York\", \"New cases\": 0}, {\"Date\": \"4/14/20\", \"Province_State\": \"New York\", \"New cases\": 0}, {\"Date\": \"4/15/20\", \"Province_State\": \"New York\", \"New cases\": 0}, {\"Date\": \"4/16/20\", \"Province_State\": \"New York\", \"New cases\": 0}, {\"Date\": \"4/17/20\", \"Province_State\": \"New York\", \"New cases\": 0}, {\"Date\": \"4/18/20\", \"Province_State\": \"New York\", \"New cases\": 0}, {\"Date\": \"4/19/20\", \"Province_State\": \"New York\", \"New cases\": 0}, {\"Date\": \"4/2/20\", \"Province_State\": \"New York\", \"New cases\": 0}, {\"Date\": \"4/20/20\", \"Province_State\": \"New York\", \"New cases\": 0}, {\"Date\": \"4/21/20\", \"Province_State\": \"New York\", \"New cases\": 0}, {\"Date\": \"4/22/20\", \"Province_State\": \"New York\", \"New cases\": 0}, {\"Date\": \"4/23/20\", \"Province_State\": \"New York\", \"New cases\": 0}, {\"Date\": \"4/24/20\", \"Province_State\": \"New York\", \"New cases\": 0}, {\"Date\": \"4/25/20\", \"Province_State\": \"New York\", \"New cases\": 0}, {\"Date\": \"4/26/20\", \"Province_State\": \"New York\", \"New cases\": 0}, {\"Date\": \"4/27/20\", \"Province_State\": \"New York\", \"New cases\": 0}, {\"Date\": \"4/28/20\", \"Province_State\": \"New York\", \"New cases\": 0}, {\"Date\": \"4/29/20\", \"Province_State\": \"New York\", \"New cases\": 0}, {\"Date\": \"4/3/20\", \"Province_State\": \"New York\", \"New cases\": 0}, {\"Date\": \"4/30/20\", \"Province_State\": \"New York\", \"New cases\": 0}, {\"Date\": \"4/4/20\", \"Province_State\": \"New York\", \"New cases\": 0}, {\"Date\": \"4/5/20\", \"Province_State\": \"New York\", \"New cases\": 0}, {\"Date\": \"4/6/20\", \"Province_State\": \"New York\", \"New cases\": 0}, {\"Date\": \"4/7/20\", \"Province_State\": \"New York\", \"New cases\": 0}, {\"Date\": \"4/8/20\", \"Province_State\": \"New York\", \"New cases\": 0}, {\"Date\": \"4/9/20\", \"Province_State\": \"New York\", \"New cases\": 0}, {\"Date\": \"5/1/20\", \"Province_State\": \"New York\", \"New cases\": 0}, {\"Date\": \"5/10/20\", \"Province_State\": \"New York\", \"New cases\": 0}, {\"Date\": \"5/11/20\", \"Province_State\": \"New York\", \"New cases\": 0}, {\"Date\": \"5/12/20\", \"Province_State\": \"New York\", \"New cases\": 0}, {\"Date\": \"5/13/20\", \"Province_State\": \"New York\", \"New cases\": 0}, {\"Date\": \"5/14/20\", \"Province_State\": \"New York\", \"New cases\": 0}, {\"Date\": \"5/15/20\", \"Province_State\": \"New York\", \"New cases\": 0}, {\"Date\": \"5/16/20\", \"Province_State\": \"New York\", \"New cases\": 0}, {\"Date\": \"5/17/20\", \"Province_State\": \"New York\", \"New cases\": 0}, {\"Date\": \"5/18/20\", \"Province_State\": \"New York\", \"New cases\": 0}, {\"Date\": \"5/19/20\", \"Province_State\": \"New York\", \"New cases\": 0}, {\"Date\": \"5/2/20\", \"Province_State\": \"New York\", \"New cases\": 0}, {\"Date\": \"5/20/20\", \"Province_State\": \"New York\", \"New cases\": 0}, {\"Date\": \"5/21/20\", \"Province_State\": \"New York\", \"New cases\": 0}, {\"Date\": \"5/22/20\", \"Province_State\": \"New York\", \"New cases\": 0}, {\"Date\": \"5/23/20\", \"Province_State\": \"New York\", \"New cases\": 0}, {\"Date\": \"5/24/20\", \"Province_State\": \"New York\", \"New cases\": 0}, {\"Date\": \"5/25/20\", \"Province_State\": \"New York\", \"New cases\": 0}, {\"Date\": \"5/26/20\", \"Province_State\": \"New York\", \"New cases\": 0}, {\"Date\": \"5/27/20\", \"Province_State\": \"New York\", \"New cases\": 0}, {\"Date\": \"5/28/20\", \"Province_State\": \"New York\", \"New cases\": 0}, {\"Date\": \"5/29/20\", \"Province_State\": \"New York\", \"New cases\": 0}, {\"Date\": \"5/3/20\", \"Province_State\": \"New York\", \"New cases\": 0}, {\"Date\": \"5/30/20\", \"Province_State\": \"New York\", \"New cases\": 0}, {\"Date\": \"5/31/20\", \"Province_State\": \"New York\", \"New cases\": 0}, {\"Date\": \"5/4/20\", \"Province_State\": \"New York\", \"New cases\": 0}, {\"Date\": \"5/5/20\", \"Province_State\": \"New York\", \"New cases\": 0}, {\"Date\": \"5/6/20\", \"Province_State\": \"New York\", \"New cases\": 0}, {\"Date\": \"5/7/20\", \"Province_State\": \"New York\", \"New cases\": 0}, {\"Date\": \"5/8/20\", \"Province_State\": \"New York\", \"New cases\": 0}, {\"Date\": \"5/9/20\", \"Province_State\": \"New York\", \"New cases\": 0}, {\"Date\": \"6/1/20\", \"Province_State\": \"New York\", \"New cases\": 0}, {\"Date\": \"6/10/20\", \"Province_State\": \"New York\", \"New cases\": 0}, {\"Date\": \"6/11/20\", \"Province_State\": \"New York\", \"New cases\": 0}, {\"Date\": \"6/12/20\", \"Province_State\": \"New York\", \"New cases\": 0}, {\"Date\": \"6/13/20\", \"Province_State\": \"New York\", \"New cases\": 0}, {\"Date\": \"6/14/20\", \"Province_State\": \"New York\", \"New cases\": 0}, {\"Date\": \"6/15/20\", \"Province_State\": \"New York\", \"New cases\": 0}, {\"Date\": \"6/16/20\", \"Province_State\": \"New York\", \"New cases\": 0}, {\"Date\": \"6/17/20\", \"Province_State\": \"New York\", \"New cases\": 0}, {\"Date\": \"6/18/20\", \"Province_State\": \"New York\", \"New cases\": 0}, {\"Date\": \"6/19/20\", \"Province_State\": \"New York\", \"New cases\": 0}, {\"Date\": \"6/2/20\", \"Province_State\": \"New York\", \"New cases\": 0}, {\"Date\": \"6/20/20\", \"Province_State\": \"New York\", \"New cases\": 0}, {\"Date\": \"6/21/20\", \"Province_State\": \"New York\", \"New cases\": 0}, {\"Date\": \"6/22/20\", \"Province_State\": \"New York\", \"New cases\": 0}, {\"Date\": \"6/23/20\", \"Province_State\": \"New York\", \"New cases\": 0}, {\"Date\": \"6/24/20\", \"Province_State\": \"New York\", \"New cases\": 0}, {\"Date\": \"6/25/20\", \"Province_State\": \"New York\", \"New cases\": 0}, {\"Date\": \"6/26/20\", \"Province_State\": \"New York\", \"New cases\": 0}, {\"Date\": \"6/27/20\", \"Province_State\": \"New York\", \"New cases\": 0}, {\"Date\": \"6/28/20\", \"Province_State\": \"New York\", \"New cases\": 0}, {\"Date\": \"6/29/20\", \"Province_State\": \"New York\", \"New cases\": 0}, {\"Date\": \"6/3/20\", \"Province_State\": \"New York\", \"New cases\": 0}, {\"Date\": \"6/30/20\", \"Province_State\": \"New York\", \"New cases\": 0}, {\"Date\": \"6/4/20\", \"Province_State\": \"New York\", \"New cases\": 0}, {\"Date\": \"6/5/20\", \"Province_State\": \"New York\", \"New cases\": 0}, {\"Date\": \"6/6/20\", \"Province_State\": \"New York\", \"New cases\": 0}, {\"Date\": \"6/7/20\", \"Province_State\": \"New York\", \"New cases\": 0}, {\"Date\": \"6/8/20\", \"Province_State\": \"New York\", \"New cases\": 0}, {\"Date\": \"6/9/20\", \"Province_State\": \"New York\", \"New cases\": 0}, {\"Date\": \"7/1/20\", \"Province_State\": \"New York\", \"New cases\": 0}, {\"Date\": \"7/10/20\", \"Province_State\": \"New York\", \"New cases\": 0}, {\"Date\": \"7/11/20\", \"Province_State\": \"New York\", \"New cases\": 0}, {\"Date\": \"7/12/20\", \"Province_State\": \"New York\", \"New cases\": 0}, {\"Date\": \"7/13/20\", \"Province_State\": \"New York\", \"New cases\": 0}, {\"Date\": \"7/14/20\", \"Province_State\": \"New York\", \"New cases\": 0}, {\"Date\": \"7/15/20\", \"Province_State\": \"New York\", \"New cases\": 0}, {\"Date\": \"7/16/20\", \"Province_State\": \"New York\", \"New cases\": 0}, {\"Date\": \"7/17/20\", \"Province_State\": \"New York\", \"New cases\": 0}, {\"Date\": \"7/18/20\", \"Province_State\": \"New York\", \"New cases\": 0}, {\"Date\": \"7/19/20\", \"Province_State\": \"New York\", \"New cases\": 0}, {\"Date\": \"7/2/20\", \"Province_State\": \"New York\", \"New cases\": 0}, {\"Date\": \"7/20/20\", \"Province_State\": \"New York\", \"New cases\": 0}, {\"Date\": \"7/21/20\", \"Province_State\": \"New York\", \"New cases\": 0}, {\"Date\": \"7/22/20\", \"Province_State\": \"New York\", \"New cases\": 0}, {\"Date\": \"7/23/20\", \"Province_State\": \"New York\", \"New cases\": 0}, {\"Date\": \"7/24/20\", \"Province_State\": \"New York\", \"New cases\": 0}, {\"Date\": \"7/25/20\", \"Province_State\": \"New York\", \"New cases\": 0}, {\"Date\": \"7/26/20\", \"Province_State\": \"New York\", \"New cases\": 0}, {\"Date\": \"7/27/20\", \"Province_State\": \"New York\", \"New cases\": 0}, {\"Date\": \"7/28/20\", \"Province_State\": \"New York\", \"New cases\": 0}, {\"Date\": \"7/29/20\", \"Province_State\": \"New York\", \"New cases\": 0}, {\"Date\": \"7/3/20\", \"Province_State\": \"New York\", \"New cases\": 0}, {\"Date\": \"7/30/20\", \"Province_State\": \"New York\", \"New cases\": 0}, {\"Date\": \"7/31/20\", \"Province_State\": \"New York\", \"New cases\": 0}, {\"Date\": \"7/4/20\", \"Province_State\": \"New York\", \"New cases\": 0}, {\"Date\": \"7/5/20\", \"Province_State\": \"New York\", \"New cases\": 0}, {\"Date\": \"7/6/20\", \"Province_State\": \"New York\", \"New cases\": 0}, {\"Date\": \"7/7/20\", \"Province_State\": \"New York\", \"New cases\": 0}, {\"Date\": \"7/8/20\", \"Province_State\": \"New York\", \"New cases\": 0}, {\"Date\": \"7/9/20\", \"Province_State\": \"New York\", \"New cases\": 0}, {\"Date\": \"8/1/20\", \"Province_State\": \"New York\", \"New cases\": 0}, {\"Date\": \"8/10/20\", \"Province_State\": \"New York\", \"New cases\": 0}, {\"Date\": \"8/11/20\", \"Province_State\": \"New York\", \"New cases\": 0}, {\"Date\": \"8/12/20\", \"Province_State\": \"New York\", \"New cases\": 0}, {\"Date\": \"8/13/20\", \"Province_State\": \"New York\", \"New cases\": 0}, {\"Date\": \"8/14/20\", \"Province_State\": \"New York\", \"New cases\": 0}, {\"Date\": \"8/15/20\", \"Province_State\": \"New York\", \"New cases\": 0}, {\"Date\": \"8/16/20\", \"Province_State\": \"New York\", \"New cases\": 0}, {\"Date\": \"8/17/20\", \"Province_State\": \"New York\", \"New cases\": 0}, {\"Date\": \"8/18/20\", \"Province_State\": \"New York\", \"New cases\": 0}, {\"Date\": \"8/19/20\", \"Province_State\": \"New York\", \"New cases\": 0}, {\"Date\": \"8/2/20\", \"Province_State\": \"New York\", \"New cases\": 0}, {\"Date\": \"8/20/20\", \"Province_State\": \"New York\", \"New cases\": 0}, {\"Date\": \"8/3/20\", \"Province_State\": \"New York\", \"New cases\": 0}, {\"Date\": \"8/4/20\", \"Province_State\": \"New York\", \"New cases\": 0}, {\"Date\": \"8/5/20\", \"Province_State\": \"New York\", \"New cases\": 0}, {\"Date\": \"8/6/20\", \"Province_State\": \"New York\", \"New cases\": 0}, {\"Date\": \"8/7/20\", \"Province_State\": \"New York\", \"New cases\": 0}, {\"Date\": \"8/8/20\", \"Province_State\": \"New York\", \"New cases\": 0}, {\"Date\": \"8/9/20\", \"Province_State\": \"New York\", \"New cases\": 0}]}}, {\"mode\": \"vega-lite\"});\n",
              "</script>"
            ]
          },
          "metadata": {
            "tags": []
          },
          "execution_count": 81
        }
      ]
    },
    {
      "cell_type": "markdown",
      "metadata": {
        "id": "xnChmkatzLCU",
        "colab_type": "text"
      },
      "source": [
        "# Rolling Average"
      ]
    },
    {
      "cell_type": "code",
      "metadata": {
        "id": "2O5o2HP3xGPt",
        "colab_type": "code",
        "colab": {
          "base_uri": "https://localhost:8080/",
          "height": 204
        },
        "outputId": "e9a7edbf-531d-44d3-9af0-073156945249"
      },
      "source": [
        "queens_county_total.head()"
      ],
      "execution_count": 82,
      "outputs": [
        {
          "output_type": "execute_result",
          "data": {
            "text/html": [
              "<div>\n",
              "<style scoped>\n",
              "    .dataframe tbody tr th:only-of-type {\n",
              "        vertical-align: middle;\n",
              "    }\n",
              "\n",
              "    .dataframe tbody tr th {\n",
              "        vertical-align: top;\n",
              "    }\n",
              "\n",
              "    .dataframe thead th {\n",
              "        text-align: right;\n",
              "    }\n",
              "</style>\n",
              "<table border=\"1\" class=\"dataframe\">\n",
              "  <thead>\n",
              "    <tr style=\"text-align: right;\">\n",
              "      <th></th>\n",
              "      <th>Date</th>\n",
              "      <th>Province_State</th>\n",
              "      <th>New cases</th>\n",
              "    </tr>\n",
              "  </thead>\n",
              "  <tbody>\n",
              "    <tr>\n",
              "      <th>0</th>\n",
              "      <td>1/22/20</td>\n",
              "      <td>New York</td>\n",
              "      <td>0</td>\n",
              "    </tr>\n",
              "    <tr>\n",
              "      <th>1</th>\n",
              "      <td>1/23/20</td>\n",
              "      <td>New York</td>\n",
              "      <td>0</td>\n",
              "    </tr>\n",
              "    <tr>\n",
              "      <th>2</th>\n",
              "      <td>1/24/20</td>\n",
              "      <td>New York</td>\n",
              "      <td>0</td>\n",
              "    </tr>\n",
              "    <tr>\n",
              "      <th>3</th>\n",
              "      <td>1/25/20</td>\n",
              "      <td>New York</td>\n",
              "      <td>0</td>\n",
              "    </tr>\n",
              "    <tr>\n",
              "      <th>4</th>\n",
              "      <td>1/26/20</td>\n",
              "      <td>New York</td>\n",
              "      <td>0</td>\n",
              "    </tr>\n",
              "  </tbody>\n",
              "</table>\n",
              "</div>"
            ],
            "text/plain": [
              "      Date Province_State  New cases\n",
              "0  1/22/20       New York          0\n",
              "1  1/23/20       New York          0\n",
              "2  1/24/20       New York          0\n",
              "3  1/25/20       New York          0\n",
              "4  1/26/20       New York          0"
            ]
          },
          "metadata": {
            "tags": []
          },
          "execution_count": 82
        }
      ]
    },
    {
      "cell_type": "code",
      "metadata": {
        "id": "aOYjSgRHvXTp",
        "colab_type": "code",
        "colab": {
          "base_uri": "https://localhost:8080/",
          "height": 221
        },
        "outputId": "e31d8777-e21d-4782-c734-b1c657c6b877"
      },
      "source": [
        "queens_county_total.iloc[:,2]"
      ],
      "execution_count": 83,
      "outputs": [
        {
          "output_type": "execute_result",
          "data": {
            "text/plain": [
              "0      0\n",
              "1      0\n",
              "2      0\n",
              "3      0\n",
              "4      0\n",
              "      ..\n",
              "207    0\n",
              "208    0\n",
              "209    0\n",
              "210    0\n",
              "211    0\n",
              "Name: New cases, Length: 212, dtype: int64"
            ]
          },
          "metadata": {
            "tags": []
          },
          "execution_count": 83
        }
      ]
    },
    {
      "cell_type": "code",
      "metadata": {
        "id": "tqU7apTow2AH",
        "colab_type": "code",
        "colab": {
          "base_uri": "https://localhost:8080/",
          "height": 403
        },
        "outputId": "5504a4ec-e966-4fea-cbe8-42be0e45bbe3"
      },
      "source": [
        "base_queens.encode(y=\"New cases\").properties(title='Queens County New Cases')"
      ],
      "execution_count": 84,
      "outputs": [
        {
          "output_type": "execute_result",
          "data": {
            "text/plain": [
              "alt.Chart(...)"
            ],
            "text/html": [
              "\n",
              "<div id=\"altair-viz-b85e940badf04f4397f77db6a26caa3b\"></div>\n",
              "<script type=\"text/javascript\">\n",
              "  (function(spec, embedOpt){\n",
              "    let outputDiv = document.currentScript.previousElementSibling;\n",
              "    if (outputDiv.id !== \"altair-viz-b85e940badf04f4397f77db6a26caa3b\") {\n",
              "      outputDiv = document.getElementById(\"altair-viz-b85e940badf04f4397f77db6a26caa3b\");\n",
              "    }\n",
              "    const paths = {\n",
              "      \"vega\": \"https://cdn.jsdelivr.net/npm//vega@5?noext\",\n",
              "      \"vega-lib\": \"https://cdn.jsdelivr.net/npm//vega-lib?noext\",\n",
              "      \"vega-lite\": \"https://cdn.jsdelivr.net/npm//vega-lite@4.8.1?noext\",\n",
              "      \"vega-embed\": \"https://cdn.jsdelivr.net/npm//vega-embed@6?noext\",\n",
              "    };\n",
              "\n",
              "    function loadScript(lib) {\n",
              "      return new Promise(function(resolve, reject) {\n",
              "        var s = document.createElement('script');\n",
              "        s.src = paths[lib];\n",
              "        s.async = true;\n",
              "        s.onload = () => resolve(paths[lib]);\n",
              "        s.onerror = () => reject(`Error loading script: ${paths[lib]}`);\n",
              "        document.getElementsByTagName(\"head\")[0].appendChild(s);\n",
              "      });\n",
              "    }\n",
              "\n",
              "    function showError(err) {\n",
              "      outputDiv.innerHTML = `<div class=\"error\" style=\"color:red;\">${err}</div>`;\n",
              "      throw err;\n",
              "    }\n",
              "\n",
              "    function displayChart(vegaEmbed) {\n",
              "      vegaEmbed(outputDiv, spec, embedOpt)\n",
              "        .catch(err => showError(`Javascript Error: ${err.message}<br>This usually means there's a typo in your chart specification. See the javascript console for the full traceback.`));\n",
              "    }\n",
              "\n",
              "    if(typeof define === \"function\" && define.amd) {\n",
              "      requirejs.config({paths});\n",
              "      require([\"vega-embed\"], displayChart, err => showError(`Error loading script: ${err.message}`));\n",
              "    } else if (typeof vegaEmbed === \"function\") {\n",
              "      displayChart(vegaEmbed);\n",
              "    } else {\n",
              "      loadScript(\"vega\")\n",
              "        .then(() => loadScript(\"vega-lite\"))\n",
              "        .then(() => loadScript(\"vega-embed\"))\n",
              "        .catch(showError)\n",
              "        .then(() => displayChart(vegaEmbed));\n",
              "    }\n",
              "  })({\"config\": {\"view\": {\"continuousWidth\": 400, \"continuousHeight\": 300}}, \"data\": {\"name\": \"data-22ecc119dae00addf8a8aa7c3ee9f027\"}, \"mark\": \"bar\", \"encoding\": {\"x\": {\"type\": \"ordinal\", \"field\": \"Date\", \"timeUnit\": \"monthdate\"}, \"y\": {\"type\": \"quantitative\", \"field\": \"New cases\"}}, \"title\": \"Queens County New Cases\", \"width\": 500, \"$schema\": \"https://vega.github.io/schema/vega-lite/v4.8.1.json\", \"datasets\": {\"data-22ecc119dae00addf8a8aa7c3ee9f027\": [{\"Date\": \"1/22/20\", \"Province_State\": \"New York\", \"New cases\": 0}, {\"Date\": \"1/23/20\", \"Province_State\": \"New York\", \"New cases\": 0}, {\"Date\": \"1/24/20\", \"Province_State\": \"New York\", \"New cases\": 0}, {\"Date\": \"1/25/20\", \"Province_State\": \"New York\", \"New cases\": 0}, {\"Date\": \"1/26/20\", \"Province_State\": \"New York\", \"New cases\": 0}, {\"Date\": \"1/27/20\", \"Province_State\": \"New York\", \"New cases\": 0}, {\"Date\": \"1/28/20\", \"Province_State\": \"New York\", \"New cases\": 0}, {\"Date\": \"1/29/20\", \"Province_State\": \"New York\", \"New cases\": 0}, {\"Date\": \"1/30/20\", \"Province_State\": \"New York\", \"New cases\": 0}, {\"Date\": \"1/31/20\", \"Province_State\": \"New York\", \"New cases\": 0}, {\"Date\": \"2/1/20\", \"Province_State\": \"New York\", \"New cases\": 0}, {\"Date\": \"2/10/20\", \"Province_State\": \"New York\", \"New cases\": 0}, {\"Date\": \"2/11/20\", \"Province_State\": \"New York\", \"New cases\": 0}, {\"Date\": \"2/12/20\", \"Province_State\": \"New York\", \"New cases\": 0}, {\"Date\": \"2/13/20\", \"Province_State\": \"New York\", \"New cases\": 0}, {\"Date\": \"2/14/20\", \"Province_State\": \"New York\", \"New cases\": 0}, {\"Date\": \"2/15/20\", \"Province_State\": \"New York\", \"New cases\": 0}, {\"Date\": \"2/16/20\", \"Province_State\": \"New York\", \"New cases\": 0}, {\"Date\": \"2/17/20\", \"Province_State\": \"New York\", \"New cases\": 0}, {\"Date\": \"2/18/20\", \"Province_State\": \"New York\", \"New cases\": 0}, {\"Date\": \"2/19/20\", \"Province_State\": \"New York\", \"New cases\": 0}, {\"Date\": \"2/2/20\", \"Province_State\": \"New York\", \"New cases\": 0}, {\"Date\": \"2/20/20\", \"Province_State\": \"New York\", \"New cases\": 0}, {\"Date\": \"2/21/20\", \"Province_State\": \"New York\", \"New cases\": 0}, {\"Date\": \"2/22/20\", \"Province_State\": \"New York\", \"New cases\": 0}, {\"Date\": \"2/23/20\", \"Province_State\": \"New York\", \"New cases\": 0}, {\"Date\": \"2/24/20\", \"Province_State\": \"New York\", \"New cases\": 0}, {\"Date\": \"2/25/20\", \"Province_State\": \"New York\", \"New cases\": 0}, {\"Date\": \"2/26/20\", \"Province_State\": \"New York\", \"New cases\": 0}, {\"Date\": \"2/27/20\", \"Province_State\": \"New York\", \"New cases\": 0}, {\"Date\": \"2/28/20\", \"Province_State\": \"New York\", \"New cases\": 0}, {\"Date\": \"2/29/20\", \"Province_State\": \"New York\", \"New cases\": 0}, {\"Date\": \"2/3/20\", \"Province_State\": \"New York\", \"New cases\": 0}, {\"Date\": \"2/4/20\", \"Province_State\": \"New York\", \"New cases\": 0}, {\"Date\": \"2/5/20\", \"Province_State\": \"New York\", \"New cases\": 0}, {\"Date\": \"2/6/20\", \"Province_State\": \"New York\", \"New cases\": 0}, {\"Date\": \"2/7/20\", \"Province_State\": \"New York\", \"New cases\": 0}, {\"Date\": \"2/8/20\", \"Province_State\": \"New York\", \"New cases\": 0}, {\"Date\": \"2/9/20\", \"Province_State\": \"New York\", \"New cases\": 0}, {\"Date\": \"3/1/20\", \"Province_State\": \"New York\", \"New cases\": 0}, {\"Date\": \"3/10/20\", \"Province_State\": \"New York\", \"New cases\": 0}, {\"Date\": \"3/11/20\", \"Province_State\": \"New York\", \"New cases\": 0}, {\"Date\": \"3/12/20\", \"Province_State\": \"New York\", \"New cases\": 0}, {\"Date\": \"3/13/20\", \"Province_State\": \"New York\", \"New cases\": 0}, {\"Date\": \"3/14/20\", \"Province_State\": \"New York\", \"New cases\": 0}, {\"Date\": \"3/15/20\", \"Province_State\": \"New York\", \"New cases\": 0}, {\"Date\": \"3/16/20\", \"Province_State\": \"New York\", \"New cases\": 0}, {\"Date\": \"3/17/20\", \"Province_State\": \"New York\", \"New cases\": 0}, {\"Date\": \"3/18/20\", \"Province_State\": \"New York\", \"New cases\": 0}, {\"Date\": \"3/19/20\", \"Province_State\": \"New York\", \"New cases\": 0}, {\"Date\": \"3/2/20\", \"Province_State\": \"New York\", \"New cases\": 0}, {\"Date\": \"3/20/20\", \"Province_State\": \"New York\", \"New cases\": 0}, {\"Date\": \"3/21/20\", \"Province_State\": \"New York\", \"New cases\": 0}, {\"Date\": \"3/22/20\", \"Province_State\": \"New York\", \"New cases\": 0}, {\"Date\": \"3/23/20\", \"Province_State\": \"New York\", \"New cases\": 0}, {\"Date\": \"3/24/20\", \"Province_State\": \"New York\", \"New cases\": 0}, {\"Date\": \"3/25/20\", \"Province_State\": \"New York\", \"New cases\": 0}, {\"Date\": \"3/26/20\", \"Province_State\": \"New York\", \"New cases\": 0}, {\"Date\": \"3/27/20\", \"Province_State\": \"New York\", \"New cases\": 0}, {\"Date\": \"3/28/20\", \"Province_State\": \"New York\", \"New cases\": 0}, {\"Date\": \"3/29/20\", \"Province_State\": \"New York\", \"New cases\": 0}, {\"Date\": \"3/3/20\", \"Province_State\": \"New York\", \"New cases\": 0}, {\"Date\": \"3/30/20\", \"Province_State\": \"New York\", \"New cases\": 0}, {\"Date\": \"3/31/20\", \"Province_State\": \"New York\", \"New cases\": 0}, {\"Date\": \"3/4/20\", \"Province_State\": \"New York\", \"New cases\": 0}, {\"Date\": \"3/5/20\", \"Province_State\": \"New York\", \"New cases\": 0}, {\"Date\": \"3/6/20\", \"Province_State\": \"New York\", \"New cases\": 0}, {\"Date\": \"3/7/20\", \"Province_State\": \"New York\", \"New cases\": 0}, {\"Date\": \"3/8/20\", \"Province_State\": \"New York\", \"New cases\": 0}, {\"Date\": \"3/9/20\", \"Province_State\": \"New York\", \"New cases\": 0}, {\"Date\": \"4/1/20\", \"Province_State\": \"New York\", \"New cases\": 0}, {\"Date\": \"4/10/20\", \"Province_State\": \"New York\", \"New cases\": 0}, {\"Date\": \"4/11/20\", \"Province_State\": \"New York\", \"New cases\": 0}, {\"Date\": \"4/12/20\", \"Province_State\": \"New York\", \"New cases\": 0}, {\"Date\": \"4/13/20\", \"Province_State\": \"New York\", \"New cases\": 0}, {\"Date\": \"4/14/20\", \"Province_State\": \"New York\", \"New cases\": 0}, {\"Date\": \"4/15/20\", \"Province_State\": \"New York\", \"New cases\": 0}, {\"Date\": \"4/16/20\", \"Province_State\": \"New York\", \"New cases\": 0}, {\"Date\": \"4/17/20\", \"Province_State\": \"New York\", \"New cases\": 0}, {\"Date\": \"4/18/20\", \"Province_State\": \"New York\", \"New cases\": 0}, {\"Date\": \"4/19/20\", \"Province_State\": \"New York\", \"New cases\": 0}, {\"Date\": \"4/2/20\", \"Province_State\": \"New York\", \"New cases\": 0}, {\"Date\": \"4/20/20\", \"Province_State\": \"New York\", \"New cases\": 0}, {\"Date\": \"4/21/20\", \"Province_State\": \"New York\", \"New cases\": 0}, {\"Date\": \"4/22/20\", \"Province_State\": \"New York\", \"New cases\": 0}, {\"Date\": \"4/23/20\", \"Province_State\": \"New York\", \"New cases\": 0}, {\"Date\": \"4/24/20\", \"Province_State\": \"New York\", \"New cases\": 0}, {\"Date\": \"4/25/20\", \"Province_State\": \"New York\", \"New cases\": 0}, {\"Date\": \"4/26/20\", \"Province_State\": \"New York\", \"New cases\": 0}, {\"Date\": \"4/27/20\", \"Province_State\": \"New York\", \"New cases\": 0}, {\"Date\": \"4/28/20\", \"Province_State\": \"New York\", \"New cases\": 0}, {\"Date\": \"4/29/20\", \"Province_State\": \"New York\", \"New cases\": 0}, {\"Date\": \"4/3/20\", \"Province_State\": \"New York\", \"New cases\": 0}, {\"Date\": \"4/30/20\", \"Province_State\": \"New York\", \"New cases\": 0}, {\"Date\": \"4/4/20\", \"Province_State\": \"New York\", \"New cases\": 0}, {\"Date\": \"4/5/20\", \"Province_State\": \"New York\", \"New cases\": 0}, {\"Date\": \"4/6/20\", \"Province_State\": \"New York\", \"New cases\": 0}, {\"Date\": \"4/7/20\", \"Province_State\": \"New York\", \"New cases\": 0}, {\"Date\": \"4/8/20\", \"Province_State\": \"New York\", \"New cases\": 0}, {\"Date\": \"4/9/20\", \"Province_State\": \"New York\", \"New cases\": 0}, {\"Date\": \"5/1/20\", \"Province_State\": \"New York\", \"New cases\": 0}, {\"Date\": \"5/10/20\", \"Province_State\": \"New York\", \"New cases\": 0}, {\"Date\": \"5/11/20\", \"Province_State\": \"New York\", \"New cases\": 0}, {\"Date\": \"5/12/20\", \"Province_State\": \"New York\", \"New cases\": 0}, {\"Date\": \"5/13/20\", \"Province_State\": \"New York\", \"New cases\": 0}, {\"Date\": \"5/14/20\", \"Province_State\": \"New York\", \"New cases\": 0}, {\"Date\": \"5/15/20\", \"Province_State\": \"New York\", \"New cases\": 0}, {\"Date\": \"5/16/20\", \"Province_State\": \"New York\", \"New cases\": 0}, {\"Date\": \"5/17/20\", \"Province_State\": \"New York\", \"New cases\": 0}, {\"Date\": \"5/18/20\", \"Province_State\": \"New York\", \"New cases\": 0}, {\"Date\": \"5/19/20\", \"Province_State\": \"New York\", \"New cases\": 0}, {\"Date\": \"5/2/20\", \"Province_State\": \"New York\", \"New cases\": 0}, {\"Date\": \"5/20/20\", \"Province_State\": \"New York\", \"New cases\": 0}, {\"Date\": \"5/21/20\", \"Province_State\": \"New York\", \"New cases\": 0}, {\"Date\": \"5/22/20\", \"Province_State\": \"New York\", \"New cases\": 0}, {\"Date\": \"5/23/20\", \"Province_State\": \"New York\", \"New cases\": 0}, {\"Date\": \"5/24/20\", \"Province_State\": \"New York\", \"New cases\": 0}, {\"Date\": \"5/25/20\", \"Province_State\": \"New York\", \"New cases\": 0}, {\"Date\": \"5/26/20\", \"Province_State\": \"New York\", \"New cases\": 0}, {\"Date\": \"5/27/20\", \"Province_State\": \"New York\", \"New cases\": 0}, {\"Date\": \"5/28/20\", \"Province_State\": \"New York\", \"New cases\": 0}, {\"Date\": \"5/29/20\", \"Province_State\": \"New York\", \"New cases\": 0}, {\"Date\": \"5/3/20\", \"Province_State\": \"New York\", \"New cases\": 0}, {\"Date\": \"5/30/20\", \"Province_State\": \"New York\", \"New cases\": 0}, {\"Date\": \"5/31/20\", \"Province_State\": \"New York\", \"New cases\": 0}, {\"Date\": \"5/4/20\", \"Province_State\": \"New York\", \"New cases\": 0}, {\"Date\": \"5/5/20\", \"Province_State\": \"New York\", \"New cases\": 0}, {\"Date\": \"5/6/20\", \"Province_State\": \"New York\", \"New cases\": 0}, {\"Date\": \"5/7/20\", \"Province_State\": \"New York\", \"New cases\": 0}, {\"Date\": \"5/8/20\", \"Province_State\": \"New York\", \"New cases\": 0}, {\"Date\": \"5/9/20\", \"Province_State\": \"New York\", \"New cases\": 0}, {\"Date\": \"6/1/20\", \"Province_State\": \"New York\", \"New cases\": 0}, {\"Date\": \"6/10/20\", \"Province_State\": \"New York\", \"New cases\": 0}, {\"Date\": \"6/11/20\", \"Province_State\": \"New York\", \"New cases\": 0}, {\"Date\": \"6/12/20\", \"Province_State\": \"New York\", \"New cases\": 0}, {\"Date\": \"6/13/20\", \"Province_State\": \"New York\", \"New cases\": 0}, {\"Date\": \"6/14/20\", \"Province_State\": \"New York\", \"New cases\": 0}, {\"Date\": \"6/15/20\", \"Province_State\": \"New York\", \"New cases\": 0}, {\"Date\": \"6/16/20\", \"Province_State\": \"New York\", \"New cases\": 0}, {\"Date\": \"6/17/20\", \"Province_State\": \"New York\", \"New cases\": 0}, {\"Date\": \"6/18/20\", \"Province_State\": \"New York\", \"New cases\": 0}, {\"Date\": \"6/19/20\", \"Province_State\": \"New York\", \"New cases\": 0}, {\"Date\": \"6/2/20\", \"Province_State\": \"New York\", \"New cases\": 0}, {\"Date\": \"6/20/20\", \"Province_State\": \"New York\", \"New cases\": 0}, {\"Date\": \"6/21/20\", \"Province_State\": \"New York\", \"New cases\": 0}, {\"Date\": \"6/22/20\", \"Province_State\": \"New York\", \"New cases\": 0}, {\"Date\": \"6/23/20\", \"Province_State\": \"New York\", \"New cases\": 0}, {\"Date\": \"6/24/20\", \"Province_State\": \"New York\", \"New cases\": 0}, {\"Date\": \"6/25/20\", \"Province_State\": \"New York\", \"New cases\": 0}, {\"Date\": \"6/26/20\", \"Province_State\": \"New York\", \"New cases\": 0}, {\"Date\": \"6/27/20\", \"Province_State\": \"New York\", \"New cases\": 0}, {\"Date\": \"6/28/20\", \"Province_State\": \"New York\", \"New cases\": 0}, {\"Date\": \"6/29/20\", \"Province_State\": \"New York\", \"New cases\": 0}, {\"Date\": \"6/3/20\", \"Province_State\": \"New York\", \"New cases\": 0}, {\"Date\": \"6/30/20\", \"Province_State\": \"New York\", \"New cases\": 0}, {\"Date\": \"6/4/20\", \"Province_State\": \"New York\", \"New cases\": 0}, {\"Date\": \"6/5/20\", \"Province_State\": \"New York\", \"New cases\": 0}, {\"Date\": \"6/6/20\", \"Province_State\": \"New York\", \"New cases\": 0}, {\"Date\": \"6/7/20\", \"Province_State\": \"New York\", \"New cases\": 0}, {\"Date\": \"6/8/20\", \"Province_State\": \"New York\", \"New cases\": 0}, {\"Date\": \"6/9/20\", \"Province_State\": \"New York\", \"New cases\": 0}, {\"Date\": \"7/1/20\", \"Province_State\": \"New York\", \"New cases\": 0}, {\"Date\": \"7/10/20\", \"Province_State\": \"New York\", \"New cases\": 0}, {\"Date\": \"7/11/20\", \"Province_State\": \"New York\", \"New cases\": 0}, {\"Date\": \"7/12/20\", \"Province_State\": \"New York\", \"New cases\": 0}, {\"Date\": \"7/13/20\", \"Province_State\": \"New York\", \"New cases\": 0}, {\"Date\": \"7/14/20\", \"Province_State\": \"New York\", \"New cases\": 0}, {\"Date\": \"7/15/20\", \"Province_State\": \"New York\", \"New cases\": 0}, {\"Date\": \"7/16/20\", \"Province_State\": \"New York\", \"New cases\": 0}, {\"Date\": \"7/17/20\", \"Province_State\": \"New York\", \"New cases\": 0}, {\"Date\": \"7/18/20\", \"Province_State\": \"New York\", \"New cases\": 0}, {\"Date\": \"7/19/20\", \"Province_State\": \"New York\", \"New cases\": 0}, {\"Date\": \"7/2/20\", \"Province_State\": \"New York\", \"New cases\": 0}, {\"Date\": \"7/20/20\", \"Province_State\": \"New York\", \"New cases\": 0}, {\"Date\": \"7/21/20\", \"Province_State\": \"New York\", \"New cases\": 0}, {\"Date\": \"7/22/20\", \"Province_State\": \"New York\", \"New cases\": 0}, {\"Date\": \"7/23/20\", \"Province_State\": \"New York\", \"New cases\": 0}, {\"Date\": \"7/24/20\", \"Province_State\": \"New York\", \"New cases\": 0}, {\"Date\": \"7/25/20\", \"Province_State\": \"New York\", \"New cases\": 0}, {\"Date\": \"7/26/20\", \"Province_State\": \"New York\", \"New cases\": 0}, {\"Date\": \"7/27/20\", \"Province_State\": \"New York\", \"New cases\": 0}, {\"Date\": \"7/28/20\", \"Province_State\": \"New York\", \"New cases\": 0}, {\"Date\": \"7/29/20\", \"Province_State\": \"New York\", \"New cases\": 0}, {\"Date\": \"7/3/20\", \"Province_State\": \"New York\", \"New cases\": 0}, {\"Date\": \"7/30/20\", \"Province_State\": \"New York\", \"New cases\": 0}, {\"Date\": \"7/31/20\", \"Province_State\": \"New York\", \"New cases\": 0}, {\"Date\": \"7/4/20\", \"Province_State\": \"New York\", \"New cases\": 0}, {\"Date\": \"7/5/20\", \"Province_State\": \"New York\", \"New cases\": 0}, {\"Date\": \"7/6/20\", \"Province_State\": \"New York\", \"New cases\": 0}, {\"Date\": \"7/7/20\", \"Province_State\": \"New York\", \"New cases\": 0}, {\"Date\": \"7/8/20\", \"Province_State\": \"New York\", \"New cases\": 0}, {\"Date\": \"7/9/20\", \"Province_State\": \"New York\", \"New cases\": 0}, {\"Date\": \"8/1/20\", \"Province_State\": \"New York\", \"New cases\": 0}, {\"Date\": \"8/10/20\", \"Province_State\": \"New York\", \"New cases\": 0}, {\"Date\": \"8/11/20\", \"Province_State\": \"New York\", \"New cases\": 0}, {\"Date\": \"8/12/20\", \"Province_State\": \"New York\", \"New cases\": 0}, {\"Date\": \"8/13/20\", \"Province_State\": \"New York\", \"New cases\": 0}, {\"Date\": \"8/14/20\", \"Province_State\": \"New York\", \"New cases\": 0}, {\"Date\": \"8/15/20\", \"Province_State\": \"New York\", \"New cases\": 0}, {\"Date\": \"8/16/20\", \"Province_State\": \"New York\", \"New cases\": 0}, {\"Date\": \"8/17/20\", \"Province_State\": \"New York\", \"New cases\": 0}, {\"Date\": \"8/18/20\", \"Province_State\": \"New York\", \"New cases\": 0}, {\"Date\": \"8/19/20\", \"Province_State\": \"New York\", \"New cases\": 0}, {\"Date\": \"8/2/20\", \"Province_State\": \"New York\", \"New cases\": 0}, {\"Date\": \"8/20/20\", \"Province_State\": \"New York\", \"New cases\": 0}, {\"Date\": \"8/3/20\", \"Province_State\": \"New York\", \"New cases\": 0}, {\"Date\": \"8/4/20\", \"Province_State\": \"New York\", \"New cases\": 0}, {\"Date\": \"8/5/20\", \"Province_State\": \"New York\", \"New cases\": 0}, {\"Date\": \"8/6/20\", \"Province_State\": \"New York\", \"New cases\": 0}, {\"Date\": \"8/7/20\", \"Province_State\": \"New York\", \"New cases\": 0}, {\"Date\": \"8/8/20\", \"Province_State\": \"New York\", \"New cases\": 0}, {\"Date\": \"8/9/20\", \"Province_State\": \"New York\", \"New cases\": 0}]}}, {\"mode\": \"vega-lite\"});\n",
              "</script>"
            ]
          },
          "metadata": {
            "tags": []
          },
          "execution_count": 84
        }
      ]
    },
    {
      "cell_type": "code",
      "metadata": {
        "id": "k8e9d_OfuXPO",
        "colab_type": "code",
        "colab": {}
      },
      "source": [
        "queens_county_total['rolling_average'] = queens_county_total.iloc[:,2].rolling(window=7).mean()\n",
        "\n",
        "base_queens = alt.Chart(queens_county_total).mark_bar().encode(\n",
        "    x='monthdate(Date):O',\n",
        ").properties(\n",
        "    width=500\n",
        ")\n"
      ],
      "execution_count": 85,
      "outputs": []
    },
    {
      "cell_type": "code",
      "metadata": {
        "id": "6s3gY6OFuXH0",
        "colab_type": "code",
        "colab": {
          "base_uri": "https://localhost:8080/",
          "height": 359
        },
        "outputId": "4b99e393-891b-4486-ff13-9ad97525912a"
      },
      "source": [
        "queens_county_total.tail(10)"
      ],
      "execution_count": 86,
      "outputs": [
        {
          "output_type": "execute_result",
          "data": {
            "text/html": [
              "<div>\n",
              "<style scoped>\n",
              "    .dataframe tbody tr th:only-of-type {\n",
              "        vertical-align: middle;\n",
              "    }\n",
              "\n",
              "    .dataframe tbody tr th {\n",
              "        vertical-align: top;\n",
              "    }\n",
              "\n",
              "    .dataframe thead th {\n",
              "        text-align: right;\n",
              "    }\n",
              "</style>\n",
              "<table border=\"1\" class=\"dataframe\">\n",
              "  <thead>\n",
              "    <tr style=\"text-align: right;\">\n",
              "      <th></th>\n",
              "      <th>Date</th>\n",
              "      <th>Province_State</th>\n",
              "      <th>New cases</th>\n",
              "      <th>rolling_average</th>\n",
              "    </tr>\n",
              "  </thead>\n",
              "  <tbody>\n",
              "    <tr>\n",
              "      <th>202</th>\n",
              "      <td>8/19/20</td>\n",
              "      <td>New York</td>\n",
              "      <td>0</td>\n",
              "      <td>0.0</td>\n",
              "    </tr>\n",
              "    <tr>\n",
              "      <th>203</th>\n",
              "      <td>8/2/20</td>\n",
              "      <td>New York</td>\n",
              "      <td>0</td>\n",
              "      <td>0.0</td>\n",
              "    </tr>\n",
              "    <tr>\n",
              "      <th>204</th>\n",
              "      <td>8/20/20</td>\n",
              "      <td>New York</td>\n",
              "      <td>0</td>\n",
              "      <td>0.0</td>\n",
              "    </tr>\n",
              "    <tr>\n",
              "      <th>205</th>\n",
              "      <td>8/3/20</td>\n",
              "      <td>New York</td>\n",
              "      <td>0</td>\n",
              "      <td>0.0</td>\n",
              "    </tr>\n",
              "    <tr>\n",
              "      <th>206</th>\n",
              "      <td>8/4/20</td>\n",
              "      <td>New York</td>\n",
              "      <td>0</td>\n",
              "      <td>0.0</td>\n",
              "    </tr>\n",
              "    <tr>\n",
              "      <th>207</th>\n",
              "      <td>8/5/20</td>\n",
              "      <td>New York</td>\n",
              "      <td>0</td>\n",
              "      <td>0.0</td>\n",
              "    </tr>\n",
              "    <tr>\n",
              "      <th>208</th>\n",
              "      <td>8/6/20</td>\n",
              "      <td>New York</td>\n",
              "      <td>0</td>\n",
              "      <td>0.0</td>\n",
              "    </tr>\n",
              "    <tr>\n",
              "      <th>209</th>\n",
              "      <td>8/7/20</td>\n",
              "      <td>New York</td>\n",
              "      <td>0</td>\n",
              "      <td>0.0</td>\n",
              "    </tr>\n",
              "    <tr>\n",
              "      <th>210</th>\n",
              "      <td>8/8/20</td>\n",
              "      <td>New York</td>\n",
              "      <td>0</td>\n",
              "      <td>0.0</td>\n",
              "    </tr>\n",
              "    <tr>\n",
              "      <th>211</th>\n",
              "      <td>8/9/20</td>\n",
              "      <td>New York</td>\n",
              "      <td>0</td>\n",
              "      <td>0.0</td>\n",
              "    </tr>\n",
              "  </tbody>\n",
              "</table>\n",
              "</div>"
            ],
            "text/plain": [
              "        Date Province_State  New cases  rolling_average\n",
              "202  8/19/20       New York          0              0.0\n",
              "203   8/2/20       New York          0              0.0\n",
              "204  8/20/20       New York          0              0.0\n",
              "205   8/3/20       New York          0              0.0\n",
              "206   8/4/20       New York          0              0.0\n",
              "207   8/5/20       New York          0              0.0\n",
              "208   8/6/20       New York          0              0.0\n",
              "209   8/7/20       New York          0              0.0\n",
              "210   8/8/20       New York          0              0.0\n",
              "211   8/9/20       New York          0              0.0"
            ]
          },
          "metadata": {
            "tags": []
          },
          "execution_count": 86
        }
      ]
    },
    {
      "cell_type": "code",
      "metadata": {
        "id": "A7d2Kcweyekp",
        "colab_type": "code",
        "colab": {
          "base_uri": "https://localhost:8080/",
          "height": 403
        },
        "outputId": "509b90c8-88c8-4556-c419-53ce460f776c"
      },
      "source": [
        "base_queens.encode(y=\"rolling_average\").properties(title='Queens County- 7 day rolling average (New Cases)')\n"
      ],
      "execution_count": 87,
      "outputs": [
        {
          "output_type": "execute_result",
          "data": {
            "text/plain": [
              "alt.Chart(...)"
            ],
            "text/html": [
              "\n",
              "<div id=\"altair-viz-7115826f37e44c0bb40d0df414b19978\"></div>\n",
              "<script type=\"text/javascript\">\n",
              "  (function(spec, embedOpt){\n",
              "    let outputDiv = document.currentScript.previousElementSibling;\n",
              "    if (outputDiv.id !== \"altair-viz-7115826f37e44c0bb40d0df414b19978\") {\n",
              "      outputDiv = document.getElementById(\"altair-viz-7115826f37e44c0bb40d0df414b19978\");\n",
              "    }\n",
              "    const paths = {\n",
              "      \"vega\": \"https://cdn.jsdelivr.net/npm//vega@5?noext\",\n",
              "      \"vega-lib\": \"https://cdn.jsdelivr.net/npm//vega-lib?noext\",\n",
              "      \"vega-lite\": \"https://cdn.jsdelivr.net/npm//vega-lite@4.8.1?noext\",\n",
              "      \"vega-embed\": \"https://cdn.jsdelivr.net/npm//vega-embed@6?noext\",\n",
              "    };\n",
              "\n",
              "    function loadScript(lib) {\n",
              "      return new Promise(function(resolve, reject) {\n",
              "        var s = document.createElement('script');\n",
              "        s.src = paths[lib];\n",
              "        s.async = true;\n",
              "        s.onload = () => resolve(paths[lib]);\n",
              "        s.onerror = () => reject(`Error loading script: ${paths[lib]}`);\n",
              "        document.getElementsByTagName(\"head\")[0].appendChild(s);\n",
              "      });\n",
              "    }\n",
              "\n",
              "    function showError(err) {\n",
              "      outputDiv.innerHTML = `<div class=\"error\" style=\"color:red;\">${err}</div>`;\n",
              "      throw err;\n",
              "    }\n",
              "\n",
              "    function displayChart(vegaEmbed) {\n",
              "      vegaEmbed(outputDiv, spec, embedOpt)\n",
              "        .catch(err => showError(`Javascript Error: ${err.message}<br>This usually means there's a typo in your chart specification. See the javascript console for the full traceback.`));\n",
              "    }\n",
              "\n",
              "    if(typeof define === \"function\" && define.amd) {\n",
              "      requirejs.config({paths});\n",
              "      require([\"vega-embed\"], displayChart, err => showError(`Error loading script: ${err.message}`));\n",
              "    } else if (typeof vegaEmbed === \"function\") {\n",
              "      displayChart(vegaEmbed);\n",
              "    } else {\n",
              "      loadScript(\"vega\")\n",
              "        .then(() => loadScript(\"vega-lite\"))\n",
              "        .then(() => loadScript(\"vega-embed\"))\n",
              "        .catch(showError)\n",
              "        .then(() => displayChart(vegaEmbed));\n",
              "    }\n",
              "  })({\"config\": {\"view\": {\"continuousWidth\": 400, \"continuousHeight\": 300}}, \"data\": {\"name\": \"data-b230175e902bba38c5ea73dda3c6a652\"}, \"mark\": \"bar\", \"encoding\": {\"x\": {\"type\": \"ordinal\", \"field\": \"Date\", \"timeUnit\": \"monthdate\"}, \"y\": {\"type\": \"quantitative\", \"field\": \"rolling_average\"}}, \"title\": \"Queens County- 7 day rolling average (New Cases)\", \"width\": 500, \"$schema\": \"https://vega.github.io/schema/vega-lite/v4.8.1.json\", \"datasets\": {\"data-b230175e902bba38c5ea73dda3c6a652\": [{\"Date\": \"1/22/20\", \"Province_State\": \"New York\", \"New cases\": 0, \"rolling_average\": null}, {\"Date\": \"1/23/20\", \"Province_State\": \"New York\", \"New cases\": 0, \"rolling_average\": null}, {\"Date\": \"1/24/20\", \"Province_State\": \"New York\", \"New cases\": 0, \"rolling_average\": null}, {\"Date\": \"1/25/20\", \"Province_State\": \"New York\", \"New cases\": 0, \"rolling_average\": null}, {\"Date\": \"1/26/20\", \"Province_State\": \"New York\", \"New cases\": 0, \"rolling_average\": null}, {\"Date\": \"1/27/20\", \"Province_State\": \"New York\", \"New cases\": 0, \"rolling_average\": null}, {\"Date\": \"1/28/20\", \"Province_State\": \"New York\", \"New cases\": 0, \"rolling_average\": 0.0}, {\"Date\": \"1/29/20\", \"Province_State\": \"New York\", \"New cases\": 0, \"rolling_average\": 0.0}, {\"Date\": \"1/30/20\", \"Province_State\": \"New York\", \"New cases\": 0, \"rolling_average\": 0.0}, {\"Date\": \"1/31/20\", \"Province_State\": \"New York\", \"New cases\": 0, \"rolling_average\": 0.0}, {\"Date\": \"2/1/20\", \"Province_State\": \"New York\", \"New cases\": 0, \"rolling_average\": 0.0}, {\"Date\": \"2/10/20\", \"Province_State\": \"New York\", \"New cases\": 0, \"rolling_average\": 0.0}, {\"Date\": \"2/11/20\", \"Province_State\": \"New York\", \"New cases\": 0, \"rolling_average\": 0.0}, {\"Date\": \"2/12/20\", \"Province_State\": \"New York\", \"New cases\": 0, \"rolling_average\": 0.0}, {\"Date\": \"2/13/20\", \"Province_State\": \"New York\", \"New cases\": 0, \"rolling_average\": 0.0}, {\"Date\": \"2/14/20\", \"Province_State\": \"New York\", \"New cases\": 0, \"rolling_average\": 0.0}, {\"Date\": \"2/15/20\", \"Province_State\": \"New York\", \"New cases\": 0, \"rolling_average\": 0.0}, {\"Date\": \"2/16/20\", \"Province_State\": \"New York\", \"New cases\": 0, \"rolling_average\": 0.0}, {\"Date\": \"2/17/20\", \"Province_State\": \"New York\", \"New cases\": 0, \"rolling_average\": 0.0}, {\"Date\": \"2/18/20\", \"Province_State\": \"New York\", \"New cases\": 0, \"rolling_average\": 0.0}, {\"Date\": \"2/19/20\", \"Province_State\": \"New York\", \"New cases\": 0, \"rolling_average\": 0.0}, {\"Date\": \"2/2/20\", \"Province_State\": \"New York\", \"New cases\": 0, \"rolling_average\": 0.0}, {\"Date\": \"2/20/20\", \"Province_State\": \"New York\", \"New cases\": 0, \"rolling_average\": 0.0}, {\"Date\": \"2/21/20\", \"Province_State\": \"New York\", \"New cases\": 0, \"rolling_average\": 0.0}, {\"Date\": \"2/22/20\", \"Province_State\": \"New York\", \"New cases\": 0, \"rolling_average\": 0.0}, {\"Date\": \"2/23/20\", \"Province_State\": \"New York\", \"New cases\": 0, \"rolling_average\": 0.0}, {\"Date\": \"2/24/20\", \"Province_State\": \"New York\", \"New cases\": 0, \"rolling_average\": 0.0}, {\"Date\": \"2/25/20\", \"Province_State\": \"New York\", \"New cases\": 0, \"rolling_average\": 0.0}, {\"Date\": \"2/26/20\", \"Province_State\": \"New York\", \"New cases\": 0, \"rolling_average\": 0.0}, {\"Date\": \"2/27/20\", \"Province_State\": \"New York\", \"New cases\": 0, \"rolling_average\": 0.0}, {\"Date\": \"2/28/20\", \"Province_State\": \"New York\", \"New cases\": 0, \"rolling_average\": 0.0}, {\"Date\": \"2/29/20\", \"Province_State\": \"New York\", \"New cases\": 0, \"rolling_average\": 0.0}, {\"Date\": \"2/3/20\", \"Province_State\": \"New York\", \"New cases\": 0, \"rolling_average\": 0.0}, {\"Date\": \"2/4/20\", \"Province_State\": \"New York\", \"New cases\": 0, \"rolling_average\": 0.0}, {\"Date\": \"2/5/20\", \"Province_State\": \"New York\", \"New cases\": 0, \"rolling_average\": 0.0}, {\"Date\": \"2/6/20\", \"Province_State\": \"New York\", \"New cases\": 0, \"rolling_average\": 0.0}, {\"Date\": \"2/7/20\", \"Province_State\": \"New York\", \"New cases\": 0, \"rolling_average\": 0.0}, {\"Date\": \"2/8/20\", \"Province_State\": \"New York\", \"New cases\": 0, \"rolling_average\": 0.0}, {\"Date\": \"2/9/20\", \"Province_State\": \"New York\", \"New cases\": 0, \"rolling_average\": 0.0}, {\"Date\": \"3/1/20\", \"Province_State\": \"New York\", \"New cases\": 0, \"rolling_average\": 0.0}, {\"Date\": \"3/10/20\", \"Province_State\": \"New York\", \"New cases\": 0, \"rolling_average\": 0.0}, {\"Date\": \"3/11/20\", \"Province_State\": \"New York\", \"New cases\": 0, \"rolling_average\": 0.0}, {\"Date\": \"3/12/20\", \"Province_State\": \"New York\", \"New cases\": 0, \"rolling_average\": 0.0}, {\"Date\": \"3/13/20\", \"Province_State\": \"New York\", \"New cases\": 0, \"rolling_average\": 0.0}, {\"Date\": \"3/14/20\", \"Province_State\": \"New York\", \"New cases\": 0, \"rolling_average\": 0.0}, {\"Date\": \"3/15/20\", \"Province_State\": \"New York\", \"New cases\": 0, \"rolling_average\": 0.0}, {\"Date\": \"3/16/20\", \"Province_State\": \"New York\", \"New cases\": 0, \"rolling_average\": 0.0}, {\"Date\": \"3/17/20\", \"Province_State\": \"New York\", \"New cases\": 0, \"rolling_average\": 0.0}, {\"Date\": \"3/18/20\", \"Province_State\": \"New York\", \"New cases\": 0, \"rolling_average\": 0.0}, {\"Date\": \"3/19/20\", \"Province_State\": \"New York\", \"New cases\": 0, \"rolling_average\": 0.0}, {\"Date\": \"3/2/20\", \"Province_State\": \"New York\", \"New cases\": 0, \"rolling_average\": 0.0}, {\"Date\": \"3/20/20\", \"Province_State\": \"New York\", \"New cases\": 0, \"rolling_average\": 0.0}, {\"Date\": \"3/21/20\", \"Province_State\": \"New York\", \"New cases\": 0, \"rolling_average\": 0.0}, {\"Date\": \"3/22/20\", \"Province_State\": \"New York\", \"New cases\": 0, \"rolling_average\": 0.0}, {\"Date\": \"3/23/20\", \"Province_State\": \"New York\", \"New cases\": 0, \"rolling_average\": 0.0}, {\"Date\": \"3/24/20\", \"Province_State\": \"New York\", \"New cases\": 0, \"rolling_average\": 0.0}, {\"Date\": \"3/25/20\", \"Province_State\": \"New York\", \"New cases\": 0, \"rolling_average\": 0.0}, {\"Date\": \"3/26/20\", \"Province_State\": \"New York\", \"New cases\": 0, \"rolling_average\": 0.0}, {\"Date\": \"3/27/20\", \"Province_State\": \"New York\", \"New cases\": 0, \"rolling_average\": 0.0}, {\"Date\": \"3/28/20\", \"Province_State\": \"New York\", \"New cases\": 0, \"rolling_average\": 0.0}, {\"Date\": \"3/29/20\", \"Province_State\": \"New York\", \"New cases\": 0, \"rolling_average\": 0.0}, {\"Date\": \"3/3/20\", \"Province_State\": \"New York\", \"New cases\": 0, \"rolling_average\": 0.0}, {\"Date\": \"3/30/20\", \"Province_State\": \"New York\", \"New cases\": 0, \"rolling_average\": 0.0}, {\"Date\": \"3/31/20\", \"Province_State\": \"New York\", \"New cases\": 0, \"rolling_average\": 0.0}, {\"Date\": \"3/4/20\", \"Province_State\": \"New York\", \"New cases\": 0, \"rolling_average\": 0.0}, {\"Date\": \"3/5/20\", \"Province_State\": \"New York\", \"New cases\": 0, \"rolling_average\": 0.0}, {\"Date\": \"3/6/20\", \"Province_State\": \"New York\", \"New cases\": 0, \"rolling_average\": 0.0}, {\"Date\": \"3/7/20\", \"Province_State\": \"New York\", \"New cases\": 0, \"rolling_average\": 0.0}, {\"Date\": \"3/8/20\", \"Province_State\": \"New York\", \"New cases\": 0, \"rolling_average\": 0.0}, {\"Date\": \"3/9/20\", \"Province_State\": \"New York\", \"New cases\": 0, \"rolling_average\": 0.0}, {\"Date\": \"4/1/20\", \"Province_State\": \"New York\", \"New cases\": 0, \"rolling_average\": 0.0}, {\"Date\": \"4/10/20\", \"Province_State\": \"New York\", \"New cases\": 0, \"rolling_average\": 0.0}, {\"Date\": \"4/11/20\", \"Province_State\": \"New York\", \"New cases\": 0, \"rolling_average\": 0.0}, {\"Date\": \"4/12/20\", \"Province_State\": \"New York\", \"New cases\": 0, \"rolling_average\": 0.0}, {\"Date\": \"4/13/20\", \"Province_State\": \"New York\", \"New cases\": 0, \"rolling_average\": 0.0}, {\"Date\": \"4/14/20\", \"Province_State\": \"New York\", \"New cases\": 0, \"rolling_average\": 0.0}, {\"Date\": \"4/15/20\", \"Province_State\": \"New York\", \"New cases\": 0, \"rolling_average\": 0.0}, {\"Date\": \"4/16/20\", \"Province_State\": \"New York\", \"New cases\": 0, \"rolling_average\": 0.0}, {\"Date\": \"4/17/20\", \"Province_State\": \"New York\", \"New cases\": 0, \"rolling_average\": 0.0}, {\"Date\": \"4/18/20\", \"Province_State\": \"New York\", \"New cases\": 0, \"rolling_average\": 0.0}, {\"Date\": \"4/19/20\", \"Province_State\": \"New York\", \"New cases\": 0, \"rolling_average\": 0.0}, {\"Date\": \"4/2/20\", \"Province_State\": \"New York\", \"New cases\": 0, \"rolling_average\": 0.0}, {\"Date\": \"4/20/20\", \"Province_State\": \"New York\", \"New cases\": 0, \"rolling_average\": 0.0}, {\"Date\": \"4/21/20\", \"Province_State\": \"New York\", \"New cases\": 0, \"rolling_average\": 0.0}, {\"Date\": \"4/22/20\", \"Province_State\": \"New York\", \"New cases\": 0, \"rolling_average\": 0.0}, {\"Date\": \"4/23/20\", \"Province_State\": \"New York\", \"New cases\": 0, \"rolling_average\": 0.0}, {\"Date\": \"4/24/20\", \"Province_State\": \"New York\", \"New cases\": 0, \"rolling_average\": 0.0}, {\"Date\": \"4/25/20\", \"Province_State\": \"New York\", \"New cases\": 0, \"rolling_average\": 0.0}, {\"Date\": \"4/26/20\", \"Province_State\": \"New York\", \"New cases\": 0, \"rolling_average\": 0.0}, {\"Date\": \"4/27/20\", \"Province_State\": \"New York\", \"New cases\": 0, \"rolling_average\": 0.0}, {\"Date\": \"4/28/20\", \"Province_State\": \"New York\", \"New cases\": 0, \"rolling_average\": 0.0}, {\"Date\": \"4/29/20\", \"Province_State\": \"New York\", \"New cases\": 0, \"rolling_average\": 0.0}, {\"Date\": \"4/3/20\", \"Province_State\": \"New York\", \"New cases\": 0, \"rolling_average\": 0.0}, {\"Date\": \"4/30/20\", \"Province_State\": \"New York\", \"New cases\": 0, \"rolling_average\": 0.0}, {\"Date\": \"4/4/20\", \"Province_State\": \"New York\", \"New cases\": 0, \"rolling_average\": 0.0}, {\"Date\": \"4/5/20\", \"Province_State\": \"New York\", \"New cases\": 0, \"rolling_average\": 0.0}, {\"Date\": \"4/6/20\", \"Province_State\": \"New York\", \"New cases\": 0, \"rolling_average\": 0.0}, {\"Date\": \"4/7/20\", \"Province_State\": \"New York\", \"New cases\": 0, \"rolling_average\": 0.0}, {\"Date\": \"4/8/20\", \"Province_State\": \"New York\", \"New cases\": 0, \"rolling_average\": 0.0}, {\"Date\": \"4/9/20\", \"Province_State\": \"New York\", \"New cases\": 0, \"rolling_average\": 0.0}, {\"Date\": \"5/1/20\", \"Province_State\": \"New York\", \"New cases\": 0, \"rolling_average\": 0.0}, {\"Date\": \"5/10/20\", \"Province_State\": \"New York\", \"New cases\": 0, \"rolling_average\": 0.0}, {\"Date\": \"5/11/20\", \"Province_State\": \"New York\", \"New cases\": 0, \"rolling_average\": 0.0}, {\"Date\": \"5/12/20\", \"Province_State\": \"New York\", \"New cases\": 0, \"rolling_average\": 0.0}, {\"Date\": \"5/13/20\", \"Province_State\": \"New York\", \"New cases\": 0, \"rolling_average\": 0.0}, {\"Date\": \"5/14/20\", \"Province_State\": \"New York\", \"New cases\": 0, \"rolling_average\": 0.0}, {\"Date\": \"5/15/20\", \"Province_State\": \"New York\", \"New cases\": 0, \"rolling_average\": 0.0}, {\"Date\": \"5/16/20\", \"Province_State\": \"New York\", \"New cases\": 0, \"rolling_average\": 0.0}, {\"Date\": \"5/17/20\", \"Province_State\": \"New York\", \"New cases\": 0, \"rolling_average\": 0.0}, {\"Date\": \"5/18/20\", \"Province_State\": \"New York\", \"New cases\": 0, \"rolling_average\": 0.0}, {\"Date\": \"5/19/20\", \"Province_State\": \"New York\", \"New cases\": 0, \"rolling_average\": 0.0}, {\"Date\": \"5/2/20\", \"Province_State\": \"New York\", \"New cases\": 0, \"rolling_average\": 0.0}, {\"Date\": \"5/20/20\", \"Province_State\": \"New York\", \"New cases\": 0, \"rolling_average\": 0.0}, {\"Date\": \"5/21/20\", \"Province_State\": \"New York\", \"New cases\": 0, \"rolling_average\": 0.0}, {\"Date\": \"5/22/20\", \"Province_State\": \"New York\", \"New cases\": 0, \"rolling_average\": 0.0}, {\"Date\": \"5/23/20\", \"Province_State\": \"New York\", \"New cases\": 0, \"rolling_average\": 0.0}, {\"Date\": \"5/24/20\", \"Province_State\": \"New York\", \"New cases\": 0, \"rolling_average\": 0.0}, {\"Date\": \"5/25/20\", \"Province_State\": \"New York\", \"New cases\": 0, \"rolling_average\": 0.0}, {\"Date\": \"5/26/20\", \"Province_State\": \"New York\", \"New cases\": 0, \"rolling_average\": 0.0}, {\"Date\": \"5/27/20\", \"Province_State\": \"New York\", \"New cases\": 0, \"rolling_average\": 0.0}, {\"Date\": \"5/28/20\", \"Province_State\": \"New York\", \"New cases\": 0, \"rolling_average\": 0.0}, {\"Date\": \"5/29/20\", \"Province_State\": \"New York\", \"New cases\": 0, \"rolling_average\": 0.0}, {\"Date\": \"5/3/20\", \"Province_State\": \"New York\", \"New cases\": 0, \"rolling_average\": 0.0}, {\"Date\": \"5/30/20\", \"Province_State\": \"New York\", \"New cases\": 0, \"rolling_average\": 0.0}, {\"Date\": \"5/31/20\", \"Province_State\": \"New York\", \"New cases\": 0, \"rolling_average\": 0.0}, {\"Date\": \"5/4/20\", \"Province_State\": \"New York\", \"New cases\": 0, \"rolling_average\": 0.0}, {\"Date\": \"5/5/20\", \"Province_State\": \"New York\", \"New cases\": 0, \"rolling_average\": 0.0}, {\"Date\": \"5/6/20\", \"Province_State\": \"New York\", \"New cases\": 0, \"rolling_average\": 0.0}, {\"Date\": \"5/7/20\", \"Province_State\": \"New York\", \"New cases\": 0, \"rolling_average\": 0.0}, {\"Date\": \"5/8/20\", \"Province_State\": \"New York\", \"New cases\": 0, \"rolling_average\": 0.0}, {\"Date\": \"5/9/20\", \"Province_State\": \"New York\", \"New cases\": 0, \"rolling_average\": 0.0}, {\"Date\": \"6/1/20\", \"Province_State\": \"New York\", \"New cases\": 0, \"rolling_average\": 0.0}, {\"Date\": \"6/10/20\", \"Province_State\": \"New York\", \"New cases\": 0, \"rolling_average\": 0.0}, {\"Date\": \"6/11/20\", \"Province_State\": \"New York\", \"New cases\": 0, \"rolling_average\": 0.0}, {\"Date\": \"6/12/20\", \"Province_State\": \"New York\", \"New cases\": 0, \"rolling_average\": 0.0}, {\"Date\": \"6/13/20\", \"Province_State\": \"New York\", \"New cases\": 0, \"rolling_average\": 0.0}, {\"Date\": \"6/14/20\", \"Province_State\": \"New York\", \"New cases\": 0, \"rolling_average\": 0.0}, {\"Date\": \"6/15/20\", \"Province_State\": \"New York\", \"New cases\": 0, \"rolling_average\": 0.0}, {\"Date\": \"6/16/20\", \"Province_State\": \"New York\", \"New cases\": 0, \"rolling_average\": 0.0}, {\"Date\": \"6/17/20\", \"Province_State\": \"New York\", \"New cases\": 0, \"rolling_average\": 0.0}, {\"Date\": \"6/18/20\", \"Province_State\": \"New York\", \"New cases\": 0, \"rolling_average\": 0.0}, {\"Date\": \"6/19/20\", \"Province_State\": \"New York\", \"New cases\": 0, \"rolling_average\": 0.0}, {\"Date\": \"6/2/20\", \"Province_State\": \"New York\", \"New cases\": 0, \"rolling_average\": 0.0}, {\"Date\": \"6/20/20\", \"Province_State\": \"New York\", \"New cases\": 0, \"rolling_average\": 0.0}, {\"Date\": \"6/21/20\", \"Province_State\": \"New York\", \"New cases\": 0, \"rolling_average\": 0.0}, {\"Date\": \"6/22/20\", \"Province_State\": \"New York\", \"New cases\": 0, \"rolling_average\": 0.0}, {\"Date\": \"6/23/20\", \"Province_State\": \"New York\", \"New cases\": 0, \"rolling_average\": 0.0}, {\"Date\": \"6/24/20\", \"Province_State\": \"New York\", \"New cases\": 0, \"rolling_average\": 0.0}, {\"Date\": \"6/25/20\", \"Province_State\": \"New York\", \"New cases\": 0, \"rolling_average\": 0.0}, {\"Date\": \"6/26/20\", \"Province_State\": \"New York\", \"New cases\": 0, \"rolling_average\": 0.0}, {\"Date\": \"6/27/20\", \"Province_State\": \"New York\", \"New cases\": 0, \"rolling_average\": 0.0}, {\"Date\": \"6/28/20\", \"Province_State\": \"New York\", \"New cases\": 0, \"rolling_average\": 0.0}, {\"Date\": \"6/29/20\", \"Province_State\": \"New York\", \"New cases\": 0, \"rolling_average\": 0.0}, {\"Date\": \"6/3/20\", \"Province_State\": \"New York\", \"New cases\": 0, \"rolling_average\": 0.0}, {\"Date\": \"6/30/20\", \"Province_State\": \"New York\", \"New cases\": 0, \"rolling_average\": 0.0}, {\"Date\": \"6/4/20\", \"Province_State\": \"New York\", \"New cases\": 0, \"rolling_average\": 0.0}, {\"Date\": \"6/5/20\", \"Province_State\": \"New York\", \"New cases\": 0, \"rolling_average\": 0.0}, {\"Date\": \"6/6/20\", \"Province_State\": \"New York\", \"New cases\": 0, \"rolling_average\": 0.0}, {\"Date\": \"6/7/20\", \"Province_State\": \"New York\", \"New cases\": 0, \"rolling_average\": 0.0}, {\"Date\": \"6/8/20\", \"Province_State\": \"New York\", \"New cases\": 0, \"rolling_average\": 0.0}, {\"Date\": \"6/9/20\", \"Province_State\": \"New York\", \"New cases\": 0, \"rolling_average\": 0.0}, {\"Date\": \"7/1/20\", \"Province_State\": \"New York\", \"New cases\": 0, \"rolling_average\": 0.0}, {\"Date\": \"7/10/20\", \"Province_State\": \"New York\", \"New cases\": 0, \"rolling_average\": 0.0}, {\"Date\": \"7/11/20\", \"Province_State\": \"New York\", \"New cases\": 0, \"rolling_average\": 0.0}, {\"Date\": \"7/12/20\", \"Province_State\": \"New York\", \"New cases\": 0, \"rolling_average\": 0.0}, {\"Date\": \"7/13/20\", \"Province_State\": \"New York\", \"New cases\": 0, \"rolling_average\": 0.0}, {\"Date\": \"7/14/20\", \"Province_State\": \"New York\", \"New cases\": 0, \"rolling_average\": 0.0}, {\"Date\": \"7/15/20\", \"Province_State\": \"New York\", \"New cases\": 0, \"rolling_average\": 0.0}, {\"Date\": \"7/16/20\", \"Province_State\": \"New York\", \"New cases\": 0, \"rolling_average\": 0.0}, {\"Date\": \"7/17/20\", \"Province_State\": \"New York\", \"New cases\": 0, \"rolling_average\": 0.0}, {\"Date\": \"7/18/20\", \"Province_State\": \"New York\", \"New cases\": 0, \"rolling_average\": 0.0}, {\"Date\": \"7/19/20\", \"Province_State\": \"New York\", \"New cases\": 0, \"rolling_average\": 0.0}, {\"Date\": \"7/2/20\", \"Province_State\": \"New York\", \"New cases\": 0, \"rolling_average\": 0.0}, {\"Date\": \"7/20/20\", \"Province_State\": \"New York\", \"New cases\": 0, \"rolling_average\": 0.0}, {\"Date\": \"7/21/20\", \"Province_State\": \"New York\", \"New cases\": 0, \"rolling_average\": 0.0}, {\"Date\": \"7/22/20\", \"Province_State\": \"New York\", \"New cases\": 0, \"rolling_average\": 0.0}, {\"Date\": \"7/23/20\", \"Province_State\": \"New York\", \"New cases\": 0, \"rolling_average\": 0.0}, {\"Date\": \"7/24/20\", \"Province_State\": \"New York\", \"New cases\": 0, \"rolling_average\": 0.0}, {\"Date\": \"7/25/20\", \"Province_State\": \"New York\", \"New cases\": 0, \"rolling_average\": 0.0}, {\"Date\": \"7/26/20\", \"Province_State\": \"New York\", \"New cases\": 0, \"rolling_average\": 0.0}, {\"Date\": \"7/27/20\", \"Province_State\": \"New York\", \"New cases\": 0, \"rolling_average\": 0.0}, {\"Date\": \"7/28/20\", \"Province_State\": \"New York\", \"New cases\": 0, \"rolling_average\": 0.0}, {\"Date\": \"7/29/20\", \"Province_State\": \"New York\", \"New cases\": 0, \"rolling_average\": 0.0}, {\"Date\": \"7/3/20\", \"Province_State\": \"New York\", \"New cases\": 0, \"rolling_average\": 0.0}, {\"Date\": \"7/30/20\", \"Province_State\": \"New York\", \"New cases\": 0, \"rolling_average\": 0.0}, {\"Date\": \"7/31/20\", \"Province_State\": \"New York\", \"New cases\": 0, \"rolling_average\": 0.0}, {\"Date\": \"7/4/20\", \"Province_State\": \"New York\", \"New cases\": 0, \"rolling_average\": 0.0}, {\"Date\": \"7/5/20\", \"Province_State\": \"New York\", \"New cases\": 0, \"rolling_average\": 0.0}, {\"Date\": \"7/6/20\", \"Province_State\": \"New York\", \"New cases\": 0, \"rolling_average\": 0.0}, {\"Date\": \"7/7/20\", \"Province_State\": \"New York\", \"New cases\": 0, \"rolling_average\": 0.0}, {\"Date\": \"7/8/20\", \"Province_State\": \"New York\", \"New cases\": 0, \"rolling_average\": 0.0}, {\"Date\": \"7/9/20\", \"Province_State\": \"New York\", \"New cases\": 0, \"rolling_average\": 0.0}, {\"Date\": \"8/1/20\", \"Province_State\": \"New York\", \"New cases\": 0, \"rolling_average\": 0.0}, {\"Date\": \"8/10/20\", \"Province_State\": \"New York\", \"New cases\": 0, \"rolling_average\": 0.0}, {\"Date\": \"8/11/20\", \"Province_State\": \"New York\", \"New cases\": 0, \"rolling_average\": 0.0}, {\"Date\": \"8/12/20\", \"Province_State\": \"New York\", \"New cases\": 0, \"rolling_average\": 0.0}, {\"Date\": \"8/13/20\", \"Province_State\": \"New York\", \"New cases\": 0, \"rolling_average\": 0.0}, {\"Date\": \"8/14/20\", \"Province_State\": \"New York\", \"New cases\": 0, \"rolling_average\": 0.0}, {\"Date\": \"8/15/20\", \"Province_State\": \"New York\", \"New cases\": 0, \"rolling_average\": 0.0}, {\"Date\": \"8/16/20\", \"Province_State\": \"New York\", \"New cases\": 0, \"rolling_average\": 0.0}, {\"Date\": \"8/17/20\", \"Province_State\": \"New York\", \"New cases\": 0, \"rolling_average\": 0.0}, {\"Date\": \"8/18/20\", \"Province_State\": \"New York\", \"New cases\": 0, \"rolling_average\": 0.0}, {\"Date\": \"8/19/20\", \"Province_State\": \"New York\", \"New cases\": 0, \"rolling_average\": 0.0}, {\"Date\": \"8/2/20\", \"Province_State\": \"New York\", \"New cases\": 0, \"rolling_average\": 0.0}, {\"Date\": \"8/20/20\", \"Province_State\": \"New York\", \"New cases\": 0, \"rolling_average\": 0.0}, {\"Date\": \"8/3/20\", \"Province_State\": \"New York\", \"New cases\": 0, \"rolling_average\": 0.0}, {\"Date\": \"8/4/20\", \"Province_State\": \"New York\", \"New cases\": 0, \"rolling_average\": 0.0}, {\"Date\": \"8/5/20\", \"Province_State\": \"New York\", \"New cases\": 0, \"rolling_average\": 0.0}, {\"Date\": \"8/6/20\", \"Province_State\": \"New York\", \"New cases\": 0, \"rolling_average\": 0.0}, {\"Date\": \"8/7/20\", \"Province_State\": \"New York\", \"New cases\": 0, \"rolling_average\": 0.0}, {\"Date\": \"8/8/20\", \"Province_State\": \"New York\", \"New cases\": 0, \"rolling_average\": 0.0}, {\"Date\": \"8/9/20\", \"Province_State\": \"New York\", \"New cases\": 0, \"rolling_average\": 0.0}]}}, {\"mode\": \"vega-lite\"});\n",
              "</script>"
            ]
          },
          "metadata": {
            "tags": []
          },
          "execution_count": 87
        }
      ]
    },
    {
      "cell_type": "code",
      "metadata": {
        "id": "giV8kO9t1-N4",
        "colab_type": "code",
        "colab": {
          "base_uri": "https://localhost:8080/",
          "height": 403
        },
        "outputId": "62da8387-019c-4d52-fa4b-2922654d1400"
      },
      "source": [
        "bar = base_queens.mark_bar().encode(y=\"New cases\")\n",
        "\n",
        "line =  base_queens.mark_line(color='red').encode(\n",
        "    y='rolling_average'\n",
        ")\n",
        "\n",
        "(bar + line).properties(title='Queens County - New Cases and rolling average ',width=600)"
      ],
      "execution_count": 88,
      "outputs": [
        {
          "output_type": "execute_result",
          "data": {
            "text/plain": [
              "alt.LayerChart(...)"
            ],
            "text/html": [
              "\n",
              "<div id=\"altair-viz-5c5bdde8cb8e41a78cdb529f3f7ecfc9\"></div>\n",
              "<script type=\"text/javascript\">\n",
              "  (function(spec, embedOpt){\n",
              "    let outputDiv = document.currentScript.previousElementSibling;\n",
              "    if (outputDiv.id !== \"altair-viz-5c5bdde8cb8e41a78cdb529f3f7ecfc9\") {\n",
              "      outputDiv = document.getElementById(\"altair-viz-5c5bdde8cb8e41a78cdb529f3f7ecfc9\");\n",
              "    }\n",
              "    const paths = {\n",
              "      \"vega\": \"https://cdn.jsdelivr.net/npm//vega@5?noext\",\n",
              "      \"vega-lib\": \"https://cdn.jsdelivr.net/npm//vega-lib?noext\",\n",
              "      \"vega-lite\": \"https://cdn.jsdelivr.net/npm//vega-lite@4.8.1?noext\",\n",
              "      \"vega-embed\": \"https://cdn.jsdelivr.net/npm//vega-embed@6?noext\",\n",
              "    };\n",
              "\n",
              "    function loadScript(lib) {\n",
              "      return new Promise(function(resolve, reject) {\n",
              "        var s = document.createElement('script');\n",
              "        s.src = paths[lib];\n",
              "        s.async = true;\n",
              "        s.onload = () => resolve(paths[lib]);\n",
              "        s.onerror = () => reject(`Error loading script: ${paths[lib]}`);\n",
              "        document.getElementsByTagName(\"head\")[0].appendChild(s);\n",
              "      });\n",
              "    }\n",
              "\n",
              "    function showError(err) {\n",
              "      outputDiv.innerHTML = `<div class=\"error\" style=\"color:red;\">${err}</div>`;\n",
              "      throw err;\n",
              "    }\n",
              "\n",
              "    function displayChart(vegaEmbed) {\n",
              "      vegaEmbed(outputDiv, spec, embedOpt)\n",
              "        .catch(err => showError(`Javascript Error: ${err.message}<br>This usually means there's a typo in your chart specification. See the javascript console for the full traceback.`));\n",
              "    }\n",
              "\n",
              "    if(typeof define === \"function\" && define.amd) {\n",
              "      requirejs.config({paths});\n",
              "      require([\"vega-embed\"], displayChart, err => showError(`Error loading script: ${err.message}`));\n",
              "    } else if (typeof vegaEmbed === \"function\") {\n",
              "      displayChart(vegaEmbed);\n",
              "    } else {\n",
              "      loadScript(\"vega\")\n",
              "        .then(() => loadScript(\"vega-lite\"))\n",
              "        .then(() => loadScript(\"vega-embed\"))\n",
              "        .catch(showError)\n",
              "        .then(() => displayChart(vegaEmbed));\n",
              "    }\n",
              "  })({\"config\": {\"view\": {\"continuousWidth\": 400, \"continuousHeight\": 300}}, \"layer\": [{\"mark\": \"bar\", \"encoding\": {\"x\": {\"type\": \"ordinal\", \"field\": \"Date\", \"timeUnit\": \"monthdate\"}, \"y\": {\"type\": \"quantitative\", \"field\": \"New cases\"}}, \"width\": 500}, {\"mark\": {\"type\": \"line\", \"color\": \"red\"}, \"encoding\": {\"x\": {\"type\": \"ordinal\", \"field\": \"Date\", \"timeUnit\": \"monthdate\"}, \"y\": {\"type\": \"quantitative\", \"field\": \"rolling_average\"}}, \"width\": 500}], \"data\": {\"name\": \"data-b230175e902bba38c5ea73dda3c6a652\"}, \"title\": \"Queens County - New Cases and rolling average \", \"width\": 600, \"$schema\": \"https://vega.github.io/schema/vega-lite/v4.8.1.json\", \"datasets\": {\"data-b230175e902bba38c5ea73dda3c6a652\": [{\"Date\": \"1/22/20\", \"Province_State\": \"New York\", \"New cases\": 0, \"rolling_average\": null}, {\"Date\": \"1/23/20\", \"Province_State\": \"New York\", \"New cases\": 0, \"rolling_average\": null}, {\"Date\": \"1/24/20\", \"Province_State\": \"New York\", \"New cases\": 0, \"rolling_average\": null}, {\"Date\": \"1/25/20\", \"Province_State\": \"New York\", \"New cases\": 0, \"rolling_average\": null}, {\"Date\": \"1/26/20\", \"Province_State\": \"New York\", \"New cases\": 0, \"rolling_average\": null}, {\"Date\": \"1/27/20\", \"Province_State\": \"New York\", \"New cases\": 0, \"rolling_average\": null}, {\"Date\": \"1/28/20\", \"Province_State\": \"New York\", \"New cases\": 0, \"rolling_average\": 0.0}, {\"Date\": \"1/29/20\", \"Province_State\": \"New York\", \"New cases\": 0, \"rolling_average\": 0.0}, {\"Date\": \"1/30/20\", \"Province_State\": \"New York\", \"New cases\": 0, \"rolling_average\": 0.0}, {\"Date\": \"1/31/20\", \"Province_State\": \"New York\", \"New cases\": 0, \"rolling_average\": 0.0}, {\"Date\": \"2/1/20\", \"Province_State\": \"New York\", \"New cases\": 0, \"rolling_average\": 0.0}, {\"Date\": \"2/10/20\", \"Province_State\": \"New York\", \"New cases\": 0, \"rolling_average\": 0.0}, {\"Date\": \"2/11/20\", \"Province_State\": \"New York\", \"New cases\": 0, \"rolling_average\": 0.0}, {\"Date\": \"2/12/20\", \"Province_State\": \"New York\", \"New cases\": 0, \"rolling_average\": 0.0}, {\"Date\": \"2/13/20\", \"Province_State\": \"New York\", \"New cases\": 0, \"rolling_average\": 0.0}, {\"Date\": \"2/14/20\", \"Province_State\": \"New York\", \"New cases\": 0, \"rolling_average\": 0.0}, {\"Date\": \"2/15/20\", \"Province_State\": \"New York\", \"New cases\": 0, \"rolling_average\": 0.0}, {\"Date\": \"2/16/20\", \"Province_State\": \"New York\", \"New cases\": 0, \"rolling_average\": 0.0}, {\"Date\": \"2/17/20\", \"Province_State\": \"New York\", \"New cases\": 0, \"rolling_average\": 0.0}, {\"Date\": \"2/18/20\", \"Province_State\": \"New York\", \"New cases\": 0, \"rolling_average\": 0.0}, {\"Date\": \"2/19/20\", \"Province_State\": \"New York\", \"New cases\": 0, \"rolling_average\": 0.0}, {\"Date\": \"2/2/20\", \"Province_State\": \"New York\", \"New cases\": 0, \"rolling_average\": 0.0}, {\"Date\": \"2/20/20\", \"Province_State\": \"New York\", \"New cases\": 0, \"rolling_average\": 0.0}, {\"Date\": \"2/21/20\", \"Province_State\": \"New York\", \"New cases\": 0, \"rolling_average\": 0.0}, {\"Date\": \"2/22/20\", \"Province_State\": \"New York\", \"New cases\": 0, \"rolling_average\": 0.0}, {\"Date\": \"2/23/20\", \"Province_State\": \"New York\", \"New cases\": 0, \"rolling_average\": 0.0}, {\"Date\": \"2/24/20\", \"Province_State\": \"New York\", \"New cases\": 0, \"rolling_average\": 0.0}, {\"Date\": \"2/25/20\", \"Province_State\": \"New York\", \"New cases\": 0, \"rolling_average\": 0.0}, {\"Date\": \"2/26/20\", \"Province_State\": \"New York\", \"New cases\": 0, \"rolling_average\": 0.0}, {\"Date\": \"2/27/20\", \"Province_State\": \"New York\", \"New cases\": 0, \"rolling_average\": 0.0}, {\"Date\": \"2/28/20\", \"Province_State\": \"New York\", \"New cases\": 0, \"rolling_average\": 0.0}, {\"Date\": \"2/29/20\", \"Province_State\": \"New York\", \"New cases\": 0, \"rolling_average\": 0.0}, {\"Date\": \"2/3/20\", \"Province_State\": \"New York\", \"New cases\": 0, \"rolling_average\": 0.0}, {\"Date\": \"2/4/20\", \"Province_State\": \"New York\", \"New cases\": 0, \"rolling_average\": 0.0}, {\"Date\": \"2/5/20\", \"Province_State\": \"New York\", \"New cases\": 0, \"rolling_average\": 0.0}, {\"Date\": \"2/6/20\", \"Province_State\": \"New York\", \"New cases\": 0, \"rolling_average\": 0.0}, {\"Date\": \"2/7/20\", \"Province_State\": \"New York\", \"New cases\": 0, \"rolling_average\": 0.0}, {\"Date\": \"2/8/20\", \"Province_State\": \"New York\", \"New cases\": 0, \"rolling_average\": 0.0}, {\"Date\": \"2/9/20\", \"Province_State\": \"New York\", \"New cases\": 0, \"rolling_average\": 0.0}, {\"Date\": \"3/1/20\", \"Province_State\": \"New York\", \"New cases\": 0, \"rolling_average\": 0.0}, {\"Date\": \"3/10/20\", \"Province_State\": \"New York\", \"New cases\": 0, \"rolling_average\": 0.0}, {\"Date\": \"3/11/20\", \"Province_State\": \"New York\", \"New cases\": 0, \"rolling_average\": 0.0}, {\"Date\": \"3/12/20\", \"Province_State\": \"New York\", \"New cases\": 0, \"rolling_average\": 0.0}, {\"Date\": \"3/13/20\", \"Province_State\": \"New York\", \"New cases\": 0, \"rolling_average\": 0.0}, {\"Date\": \"3/14/20\", \"Province_State\": \"New York\", \"New cases\": 0, \"rolling_average\": 0.0}, {\"Date\": \"3/15/20\", \"Province_State\": \"New York\", \"New cases\": 0, \"rolling_average\": 0.0}, {\"Date\": \"3/16/20\", \"Province_State\": \"New York\", \"New cases\": 0, \"rolling_average\": 0.0}, {\"Date\": \"3/17/20\", \"Province_State\": \"New York\", \"New cases\": 0, \"rolling_average\": 0.0}, {\"Date\": \"3/18/20\", \"Province_State\": \"New York\", \"New cases\": 0, \"rolling_average\": 0.0}, {\"Date\": \"3/19/20\", \"Province_State\": \"New York\", \"New cases\": 0, \"rolling_average\": 0.0}, {\"Date\": \"3/2/20\", \"Province_State\": \"New York\", \"New cases\": 0, \"rolling_average\": 0.0}, {\"Date\": \"3/20/20\", \"Province_State\": \"New York\", \"New cases\": 0, \"rolling_average\": 0.0}, {\"Date\": \"3/21/20\", \"Province_State\": \"New York\", \"New cases\": 0, \"rolling_average\": 0.0}, {\"Date\": \"3/22/20\", \"Province_State\": \"New York\", \"New cases\": 0, \"rolling_average\": 0.0}, {\"Date\": \"3/23/20\", \"Province_State\": \"New York\", \"New cases\": 0, \"rolling_average\": 0.0}, {\"Date\": \"3/24/20\", \"Province_State\": \"New York\", \"New cases\": 0, \"rolling_average\": 0.0}, {\"Date\": \"3/25/20\", \"Province_State\": \"New York\", \"New cases\": 0, \"rolling_average\": 0.0}, {\"Date\": \"3/26/20\", \"Province_State\": \"New York\", \"New cases\": 0, \"rolling_average\": 0.0}, {\"Date\": \"3/27/20\", \"Province_State\": \"New York\", \"New cases\": 0, \"rolling_average\": 0.0}, {\"Date\": \"3/28/20\", \"Province_State\": \"New York\", \"New cases\": 0, \"rolling_average\": 0.0}, {\"Date\": \"3/29/20\", \"Province_State\": \"New York\", \"New cases\": 0, \"rolling_average\": 0.0}, {\"Date\": \"3/3/20\", \"Province_State\": \"New York\", \"New cases\": 0, \"rolling_average\": 0.0}, {\"Date\": \"3/30/20\", \"Province_State\": \"New York\", \"New cases\": 0, \"rolling_average\": 0.0}, {\"Date\": \"3/31/20\", \"Province_State\": \"New York\", \"New cases\": 0, \"rolling_average\": 0.0}, {\"Date\": \"3/4/20\", \"Province_State\": \"New York\", \"New cases\": 0, \"rolling_average\": 0.0}, {\"Date\": \"3/5/20\", \"Province_State\": \"New York\", \"New cases\": 0, \"rolling_average\": 0.0}, {\"Date\": \"3/6/20\", \"Province_State\": \"New York\", \"New cases\": 0, \"rolling_average\": 0.0}, {\"Date\": \"3/7/20\", \"Province_State\": \"New York\", \"New cases\": 0, \"rolling_average\": 0.0}, {\"Date\": \"3/8/20\", \"Province_State\": \"New York\", \"New cases\": 0, \"rolling_average\": 0.0}, {\"Date\": \"3/9/20\", \"Province_State\": \"New York\", \"New cases\": 0, \"rolling_average\": 0.0}, {\"Date\": \"4/1/20\", \"Province_State\": \"New York\", \"New cases\": 0, \"rolling_average\": 0.0}, {\"Date\": \"4/10/20\", \"Province_State\": \"New York\", \"New cases\": 0, \"rolling_average\": 0.0}, {\"Date\": \"4/11/20\", \"Province_State\": \"New York\", \"New cases\": 0, \"rolling_average\": 0.0}, {\"Date\": \"4/12/20\", \"Province_State\": \"New York\", \"New cases\": 0, \"rolling_average\": 0.0}, {\"Date\": \"4/13/20\", \"Province_State\": \"New York\", \"New cases\": 0, \"rolling_average\": 0.0}, {\"Date\": \"4/14/20\", \"Province_State\": \"New York\", \"New cases\": 0, \"rolling_average\": 0.0}, {\"Date\": \"4/15/20\", \"Province_State\": \"New York\", \"New cases\": 0, \"rolling_average\": 0.0}, {\"Date\": \"4/16/20\", \"Province_State\": \"New York\", \"New cases\": 0, \"rolling_average\": 0.0}, {\"Date\": \"4/17/20\", \"Province_State\": \"New York\", \"New cases\": 0, \"rolling_average\": 0.0}, {\"Date\": \"4/18/20\", \"Province_State\": \"New York\", \"New cases\": 0, \"rolling_average\": 0.0}, {\"Date\": \"4/19/20\", \"Province_State\": \"New York\", \"New cases\": 0, \"rolling_average\": 0.0}, {\"Date\": \"4/2/20\", \"Province_State\": \"New York\", \"New cases\": 0, \"rolling_average\": 0.0}, {\"Date\": \"4/20/20\", \"Province_State\": \"New York\", \"New cases\": 0, \"rolling_average\": 0.0}, {\"Date\": \"4/21/20\", \"Province_State\": \"New York\", \"New cases\": 0, \"rolling_average\": 0.0}, {\"Date\": \"4/22/20\", \"Province_State\": \"New York\", \"New cases\": 0, \"rolling_average\": 0.0}, {\"Date\": \"4/23/20\", \"Province_State\": \"New York\", \"New cases\": 0, \"rolling_average\": 0.0}, {\"Date\": \"4/24/20\", \"Province_State\": \"New York\", \"New cases\": 0, \"rolling_average\": 0.0}, {\"Date\": \"4/25/20\", \"Province_State\": \"New York\", \"New cases\": 0, \"rolling_average\": 0.0}, {\"Date\": \"4/26/20\", \"Province_State\": \"New York\", \"New cases\": 0, \"rolling_average\": 0.0}, {\"Date\": \"4/27/20\", \"Province_State\": \"New York\", \"New cases\": 0, \"rolling_average\": 0.0}, {\"Date\": \"4/28/20\", \"Province_State\": \"New York\", \"New cases\": 0, \"rolling_average\": 0.0}, {\"Date\": \"4/29/20\", \"Province_State\": \"New York\", \"New cases\": 0, \"rolling_average\": 0.0}, {\"Date\": \"4/3/20\", \"Province_State\": \"New York\", \"New cases\": 0, \"rolling_average\": 0.0}, {\"Date\": \"4/30/20\", \"Province_State\": \"New York\", \"New cases\": 0, \"rolling_average\": 0.0}, {\"Date\": \"4/4/20\", \"Province_State\": \"New York\", \"New cases\": 0, \"rolling_average\": 0.0}, {\"Date\": \"4/5/20\", \"Province_State\": \"New York\", \"New cases\": 0, \"rolling_average\": 0.0}, {\"Date\": \"4/6/20\", \"Province_State\": \"New York\", \"New cases\": 0, \"rolling_average\": 0.0}, {\"Date\": \"4/7/20\", \"Province_State\": \"New York\", \"New cases\": 0, \"rolling_average\": 0.0}, {\"Date\": \"4/8/20\", \"Province_State\": \"New York\", \"New cases\": 0, \"rolling_average\": 0.0}, {\"Date\": \"4/9/20\", \"Province_State\": \"New York\", \"New cases\": 0, \"rolling_average\": 0.0}, {\"Date\": \"5/1/20\", \"Province_State\": \"New York\", \"New cases\": 0, \"rolling_average\": 0.0}, {\"Date\": \"5/10/20\", \"Province_State\": \"New York\", \"New cases\": 0, \"rolling_average\": 0.0}, {\"Date\": \"5/11/20\", \"Province_State\": \"New York\", \"New cases\": 0, \"rolling_average\": 0.0}, {\"Date\": \"5/12/20\", \"Province_State\": \"New York\", \"New cases\": 0, \"rolling_average\": 0.0}, {\"Date\": \"5/13/20\", \"Province_State\": \"New York\", \"New cases\": 0, \"rolling_average\": 0.0}, {\"Date\": \"5/14/20\", \"Province_State\": \"New York\", \"New cases\": 0, \"rolling_average\": 0.0}, {\"Date\": \"5/15/20\", \"Province_State\": \"New York\", \"New cases\": 0, \"rolling_average\": 0.0}, {\"Date\": \"5/16/20\", \"Province_State\": \"New York\", \"New cases\": 0, \"rolling_average\": 0.0}, {\"Date\": \"5/17/20\", \"Province_State\": \"New York\", \"New cases\": 0, \"rolling_average\": 0.0}, {\"Date\": \"5/18/20\", \"Province_State\": \"New York\", \"New cases\": 0, \"rolling_average\": 0.0}, {\"Date\": \"5/19/20\", \"Province_State\": \"New York\", \"New cases\": 0, \"rolling_average\": 0.0}, {\"Date\": \"5/2/20\", \"Province_State\": \"New York\", \"New cases\": 0, \"rolling_average\": 0.0}, {\"Date\": \"5/20/20\", \"Province_State\": \"New York\", \"New cases\": 0, \"rolling_average\": 0.0}, {\"Date\": \"5/21/20\", \"Province_State\": \"New York\", \"New cases\": 0, \"rolling_average\": 0.0}, {\"Date\": \"5/22/20\", \"Province_State\": \"New York\", \"New cases\": 0, \"rolling_average\": 0.0}, {\"Date\": \"5/23/20\", \"Province_State\": \"New York\", \"New cases\": 0, \"rolling_average\": 0.0}, {\"Date\": \"5/24/20\", \"Province_State\": \"New York\", \"New cases\": 0, \"rolling_average\": 0.0}, {\"Date\": \"5/25/20\", \"Province_State\": \"New York\", \"New cases\": 0, \"rolling_average\": 0.0}, {\"Date\": \"5/26/20\", \"Province_State\": \"New York\", \"New cases\": 0, \"rolling_average\": 0.0}, {\"Date\": \"5/27/20\", \"Province_State\": \"New York\", \"New cases\": 0, \"rolling_average\": 0.0}, {\"Date\": \"5/28/20\", \"Province_State\": \"New York\", \"New cases\": 0, \"rolling_average\": 0.0}, {\"Date\": \"5/29/20\", \"Province_State\": \"New York\", \"New cases\": 0, \"rolling_average\": 0.0}, {\"Date\": \"5/3/20\", \"Province_State\": \"New York\", \"New cases\": 0, \"rolling_average\": 0.0}, {\"Date\": \"5/30/20\", \"Province_State\": \"New York\", \"New cases\": 0, \"rolling_average\": 0.0}, {\"Date\": \"5/31/20\", \"Province_State\": \"New York\", \"New cases\": 0, \"rolling_average\": 0.0}, {\"Date\": \"5/4/20\", \"Province_State\": \"New York\", \"New cases\": 0, \"rolling_average\": 0.0}, {\"Date\": \"5/5/20\", \"Province_State\": \"New York\", \"New cases\": 0, \"rolling_average\": 0.0}, {\"Date\": \"5/6/20\", \"Province_State\": \"New York\", \"New cases\": 0, \"rolling_average\": 0.0}, {\"Date\": \"5/7/20\", \"Province_State\": \"New York\", \"New cases\": 0, \"rolling_average\": 0.0}, {\"Date\": \"5/8/20\", \"Province_State\": \"New York\", \"New cases\": 0, \"rolling_average\": 0.0}, {\"Date\": \"5/9/20\", \"Province_State\": \"New York\", \"New cases\": 0, \"rolling_average\": 0.0}, {\"Date\": \"6/1/20\", \"Province_State\": \"New York\", \"New cases\": 0, \"rolling_average\": 0.0}, {\"Date\": \"6/10/20\", \"Province_State\": \"New York\", \"New cases\": 0, \"rolling_average\": 0.0}, {\"Date\": \"6/11/20\", \"Province_State\": \"New York\", \"New cases\": 0, \"rolling_average\": 0.0}, {\"Date\": \"6/12/20\", \"Province_State\": \"New York\", \"New cases\": 0, \"rolling_average\": 0.0}, {\"Date\": \"6/13/20\", \"Province_State\": \"New York\", \"New cases\": 0, \"rolling_average\": 0.0}, {\"Date\": \"6/14/20\", \"Province_State\": \"New York\", \"New cases\": 0, \"rolling_average\": 0.0}, {\"Date\": \"6/15/20\", \"Province_State\": \"New York\", \"New cases\": 0, \"rolling_average\": 0.0}, {\"Date\": \"6/16/20\", \"Province_State\": \"New York\", \"New cases\": 0, \"rolling_average\": 0.0}, {\"Date\": \"6/17/20\", \"Province_State\": \"New York\", \"New cases\": 0, \"rolling_average\": 0.0}, {\"Date\": \"6/18/20\", \"Province_State\": \"New York\", \"New cases\": 0, \"rolling_average\": 0.0}, {\"Date\": \"6/19/20\", \"Province_State\": \"New York\", \"New cases\": 0, \"rolling_average\": 0.0}, {\"Date\": \"6/2/20\", \"Province_State\": \"New York\", \"New cases\": 0, \"rolling_average\": 0.0}, {\"Date\": \"6/20/20\", \"Province_State\": \"New York\", \"New cases\": 0, \"rolling_average\": 0.0}, {\"Date\": \"6/21/20\", \"Province_State\": \"New York\", \"New cases\": 0, \"rolling_average\": 0.0}, {\"Date\": \"6/22/20\", \"Province_State\": \"New York\", \"New cases\": 0, \"rolling_average\": 0.0}, {\"Date\": \"6/23/20\", \"Province_State\": \"New York\", \"New cases\": 0, \"rolling_average\": 0.0}, {\"Date\": \"6/24/20\", \"Province_State\": \"New York\", \"New cases\": 0, \"rolling_average\": 0.0}, {\"Date\": \"6/25/20\", \"Province_State\": \"New York\", \"New cases\": 0, \"rolling_average\": 0.0}, {\"Date\": \"6/26/20\", \"Province_State\": \"New York\", \"New cases\": 0, \"rolling_average\": 0.0}, {\"Date\": \"6/27/20\", \"Province_State\": \"New York\", \"New cases\": 0, \"rolling_average\": 0.0}, {\"Date\": \"6/28/20\", \"Province_State\": \"New York\", \"New cases\": 0, \"rolling_average\": 0.0}, {\"Date\": \"6/29/20\", \"Province_State\": \"New York\", \"New cases\": 0, \"rolling_average\": 0.0}, {\"Date\": \"6/3/20\", \"Province_State\": \"New York\", \"New cases\": 0, \"rolling_average\": 0.0}, {\"Date\": \"6/30/20\", \"Province_State\": \"New York\", \"New cases\": 0, \"rolling_average\": 0.0}, {\"Date\": \"6/4/20\", \"Province_State\": \"New York\", \"New cases\": 0, \"rolling_average\": 0.0}, {\"Date\": \"6/5/20\", \"Province_State\": \"New York\", \"New cases\": 0, \"rolling_average\": 0.0}, {\"Date\": \"6/6/20\", \"Province_State\": \"New York\", \"New cases\": 0, \"rolling_average\": 0.0}, {\"Date\": \"6/7/20\", \"Province_State\": \"New York\", \"New cases\": 0, \"rolling_average\": 0.0}, {\"Date\": \"6/8/20\", \"Province_State\": \"New York\", \"New cases\": 0, \"rolling_average\": 0.0}, {\"Date\": \"6/9/20\", \"Province_State\": \"New York\", \"New cases\": 0, \"rolling_average\": 0.0}, {\"Date\": \"7/1/20\", \"Province_State\": \"New York\", \"New cases\": 0, \"rolling_average\": 0.0}, {\"Date\": \"7/10/20\", \"Province_State\": \"New York\", \"New cases\": 0, \"rolling_average\": 0.0}, {\"Date\": \"7/11/20\", \"Province_State\": \"New York\", \"New cases\": 0, \"rolling_average\": 0.0}, {\"Date\": \"7/12/20\", \"Province_State\": \"New York\", \"New cases\": 0, \"rolling_average\": 0.0}, {\"Date\": \"7/13/20\", \"Province_State\": \"New York\", \"New cases\": 0, \"rolling_average\": 0.0}, {\"Date\": \"7/14/20\", \"Province_State\": \"New York\", \"New cases\": 0, \"rolling_average\": 0.0}, {\"Date\": \"7/15/20\", \"Province_State\": \"New York\", \"New cases\": 0, \"rolling_average\": 0.0}, {\"Date\": \"7/16/20\", \"Province_State\": \"New York\", \"New cases\": 0, \"rolling_average\": 0.0}, {\"Date\": \"7/17/20\", \"Province_State\": \"New York\", \"New cases\": 0, \"rolling_average\": 0.0}, {\"Date\": \"7/18/20\", \"Province_State\": \"New York\", \"New cases\": 0, \"rolling_average\": 0.0}, {\"Date\": \"7/19/20\", \"Province_State\": \"New York\", \"New cases\": 0, \"rolling_average\": 0.0}, {\"Date\": \"7/2/20\", \"Province_State\": \"New York\", \"New cases\": 0, \"rolling_average\": 0.0}, {\"Date\": \"7/20/20\", \"Province_State\": \"New York\", \"New cases\": 0, \"rolling_average\": 0.0}, {\"Date\": \"7/21/20\", \"Province_State\": \"New York\", \"New cases\": 0, \"rolling_average\": 0.0}, {\"Date\": \"7/22/20\", \"Province_State\": \"New York\", \"New cases\": 0, \"rolling_average\": 0.0}, {\"Date\": \"7/23/20\", \"Province_State\": \"New York\", \"New cases\": 0, \"rolling_average\": 0.0}, {\"Date\": \"7/24/20\", \"Province_State\": \"New York\", \"New cases\": 0, \"rolling_average\": 0.0}, {\"Date\": \"7/25/20\", \"Province_State\": \"New York\", \"New cases\": 0, \"rolling_average\": 0.0}, {\"Date\": \"7/26/20\", \"Province_State\": \"New York\", \"New cases\": 0, \"rolling_average\": 0.0}, {\"Date\": \"7/27/20\", \"Province_State\": \"New York\", \"New cases\": 0, \"rolling_average\": 0.0}, {\"Date\": \"7/28/20\", \"Province_State\": \"New York\", \"New cases\": 0, \"rolling_average\": 0.0}, {\"Date\": \"7/29/20\", \"Province_State\": \"New York\", \"New cases\": 0, \"rolling_average\": 0.0}, {\"Date\": \"7/3/20\", \"Province_State\": \"New York\", \"New cases\": 0, \"rolling_average\": 0.0}, {\"Date\": \"7/30/20\", \"Province_State\": \"New York\", \"New cases\": 0, \"rolling_average\": 0.0}, {\"Date\": \"7/31/20\", \"Province_State\": \"New York\", \"New cases\": 0, \"rolling_average\": 0.0}, {\"Date\": \"7/4/20\", \"Province_State\": \"New York\", \"New cases\": 0, \"rolling_average\": 0.0}, {\"Date\": \"7/5/20\", \"Province_State\": \"New York\", \"New cases\": 0, \"rolling_average\": 0.0}, {\"Date\": \"7/6/20\", \"Province_State\": \"New York\", \"New cases\": 0, \"rolling_average\": 0.0}, {\"Date\": \"7/7/20\", \"Province_State\": \"New York\", \"New cases\": 0, \"rolling_average\": 0.0}, {\"Date\": \"7/8/20\", \"Province_State\": \"New York\", \"New cases\": 0, \"rolling_average\": 0.0}, {\"Date\": \"7/9/20\", \"Province_State\": \"New York\", \"New cases\": 0, \"rolling_average\": 0.0}, {\"Date\": \"8/1/20\", \"Province_State\": \"New York\", \"New cases\": 0, \"rolling_average\": 0.0}, {\"Date\": \"8/10/20\", \"Province_State\": \"New York\", \"New cases\": 0, \"rolling_average\": 0.0}, {\"Date\": \"8/11/20\", \"Province_State\": \"New York\", \"New cases\": 0, \"rolling_average\": 0.0}, {\"Date\": \"8/12/20\", \"Province_State\": \"New York\", \"New cases\": 0, \"rolling_average\": 0.0}, {\"Date\": \"8/13/20\", \"Province_State\": \"New York\", \"New cases\": 0, \"rolling_average\": 0.0}, {\"Date\": \"8/14/20\", \"Province_State\": \"New York\", \"New cases\": 0, \"rolling_average\": 0.0}, {\"Date\": \"8/15/20\", \"Province_State\": \"New York\", \"New cases\": 0, \"rolling_average\": 0.0}, {\"Date\": \"8/16/20\", \"Province_State\": \"New York\", \"New cases\": 0, \"rolling_average\": 0.0}, {\"Date\": \"8/17/20\", \"Province_State\": \"New York\", \"New cases\": 0, \"rolling_average\": 0.0}, {\"Date\": \"8/18/20\", \"Province_State\": \"New York\", \"New cases\": 0, \"rolling_average\": 0.0}, {\"Date\": \"8/19/20\", \"Province_State\": \"New York\", \"New cases\": 0, \"rolling_average\": 0.0}, {\"Date\": \"8/2/20\", \"Province_State\": \"New York\", \"New cases\": 0, \"rolling_average\": 0.0}, {\"Date\": \"8/20/20\", \"Province_State\": \"New York\", \"New cases\": 0, \"rolling_average\": 0.0}, {\"Date\": \"8/3/20\", \"Province_State\": \"New York\", \"New cases\": 0, \"rolling_average\": 0.0}, {\"Date\": \"8/4/20\", \"Province_State\": \"New York\", \"New cases\": 0, \"rolling_average\": 0.0}, {\"Date\": \"8/5/20\", \"Province_State\": \"New York\", \"New cases\": 0, \"rolling_average\": 0.0}, {\"Date\": \"8/6/20\", \"Province_State\": \"New York\", \"New cases\": 0, \"rolling_average\": 0.0}, {\"Date\": \"8/7/20\", \"Province_State\": \"New York\", \"New cases\": 0, \"rolling_average\": 0.0}, {\"Date\": \"8/8/20\", \"Province_State\": \"New York\", \"New cases\": 0, \"rolling_average\": 0.0}, {\"Date\": \"8/9/20\", \"Province_State\": \"New York\", \"New cases\": 0, \"rolling_average\": 0.0}]}}, {\"mode\": \"vega-lite\"});\n",
              "</script>"
            ]
          },
          "metadata": {
            "tags": []
          },
          "execution_count": 88
        }
      ]
    },
    {
      "cell_type": "markdown",
      "metadata": {
        "id": "8Khn6uxisHTR",
        "colab_type": "text"
      },
      "source": [
        "# New Section"
      ]
    },
    {
      "cell_type": "code",
      "metadata": {
        "id": "9UPaPKhvzKwf",
        "colab_type": "code",
        "colab": {
          "base_uri": "https://localhost:8080/",
          "height": 164
        },
        "outputId": "a967938b-8080-4680-d611-06658e29af93"
      },
      "source": [
        "fractalData_combo1"
      ],
      "execution_count": 89,
      "outputs": [
        {
          "output_type": "error",
          "ename": "NameError",
          "evalue": "ignored",
          "traceback": [
            "\u001b[0;31m---------------------------------------------------------------------------\u001b[0m",
            "\u001b[0;31mNameError\u001b[0m                                 Traceback (most recent call last)",
            "\u001b[0;32m<ipython-input-89-d1c5a384c96d>\u001b[0m in \u001b[0;36m<module>\u001b[0;34m()\u001b[0m\n\u001b[0;32m----> 1\u001b[0;31m \u001b[0mfractalData_combo1\u001b[0m\u001b[0;34m\u001b[0m\u001b[0;34m\u001b[0m\u001b[0m\n\u001b[0m",
            "\u001b[0;31mNameError\u001b[0m: name 'fractalData_combo1' is not defined"
          ]
        }
      ]
    },
    {
      "cell_type": "code",
      "metadata": {
        "id": "cZ9DTw3TzKuC",
        "colab_type": "code",
        "colab": {}
      },
      "source": [
        "test = fractalData_combo1[fractalData_combo1['County Name'] == 'San Diego County']\n",
        "test.shape\n",
        "test"
      ],
      "execution_count": null,
      "outputs": []
    },
    {
      "cell_type": "code",
      "metadata": {
        "id": "xc5evv0k0Gr0",
        "colab_type": "code",
        "colab": {}
      },
      "source": [
        "cluster_perf_df.head()"
      ],
      "execution_count": null,
      "outputs": []
    },
    {
      "cell_type": "code",
      "metadata": {
        "id": "lpOFPpyg1AHi",
        "colab_type": "code",
        "colab": {}
      },
      "source": [
        "cluster_perf_df1.head() # min"
      ],
      "execution_count": null,
      "outputs": []
    },
    {
      "cell_type": "code",
      "metadata": {
        "id": "VkZMuHLd0_9z",
        "colab_type": "code",
        "colab": {}
      },
      "source": [
        "cluster_perf_df1_2.head() #max"
      ],
      "execution_count": null,
      "outputs": []
    },
    {
      "cell_type": "code",
      "metadata": {
        "id": "oSg9KDxbzsI5",
        "colab_type": "code",
        "colab": {}
      },
      "source": [
        "test1 = pd.merge(test,week_df, how='inner', on ='WeekNumber')\n",
        "test1.tail(10)"
      ],
      "execution_count": null,
      "outputs": []
    },
    {
      "cell_type": "code",
      "metadata": {
        "id": "7S_K17EWz7zv",
        "colab_type": "code",
        "colab": {}
      },
      "source": [
        "red = alt.value(\"#f54242\")\n",
        "base_orange.encode(y='Confirmed').properties(title='Total Confirmed') "
      ],
      "execution_count": null,
      "outputs": []
    },
    {
      "cell_type": "markdown",
      "metadata": {
        "id": "IPuS1iYXg4FL",
        "colab_type": "text"
      },
      "source": [
        "# Result Comparison"
      ]
    },
    {
      "cell_type": "code",
      "metadata": {
        "id": "82P6cH5Daz_w",
        "colab_type": "code",
        "colab": {}
      },
      "source": [
        "# considering for Final comparison\n",
        "combo1_cluster2"
      ],
      "execution_count": null,
      "outputs": []
    },
    {
      "cell_type": "code",
      "metadata": {
        "id": "tlYscjcBvw3T",
        "colab_type": "code",
        "colab": {}
      },
      "source": [
        "combo2_cluster1"
      ],
      "execution_count": null,
      "outputs": []
    },
    {
      "cell_type": "code",
      "metadata": {
        "id": "0f56eH5cjBEd",
        "colab_type": "code",
        "colab": {}
      },
      "source": [
        "combo2_cluster2"
      ],
      "execution_count": null,
      "outputs": []
    },
    {
      "cell_type": "code",
      "metadata": {
        "id": "Y8DnGSXBv_68",
        "colab_type": "code",
        "colab": {}
      },
      "source": [
        "combo3_cluster1"
      ],
      "execution_count": null,
      "outputs": []
    },
    {
      "cell_type": "code",
      "metadata": {
        "id": "q2GtHZFfjC2l",
        "colab_type": "code",
        "colab": {}
      },
      "source": [
        "combo3_cluster2"
      ],
      "execution_count": null,
      "outputs": []
    },
    {
      "cell_type": "markdown",
      "metadata": {
        "id": "SYvve_SKB91V",
        "colab_type": "text"
      },
      "source": [
        "## Data Exploration"
      ]
    },
    {
      "cell_type": "code",
      "metadata": {
        "id": "uY5c0VXkBfPJ",
        "colab_type": "code",
        "colab": {}
      },
      "source": [
        "import altair as alt"
      ],
      "execution_count": null,
      "outputs": []
    },
    {
      "cell_type": "code",
      "metadata": {
        "id": "6pfxOrAcxu2q",
        "colab_type": "code",
        "colab": {}
      },
      "source": [
        "week_df"
      ],
      "execution_count": null,
      "outputs": []
    },
    {
      "cell_type": "code",
      "metadata": {
        "id": "udGbO75Uw78L",
        "colab_type": "code",
        "colab": {}
      },
      "source": [
        "merged.dtypes"
      ],
      "execution_count": null,
      "outputs": []
    },
    {
      "cell_type": "code",
      "metadata": {
        "id": "0SHiuLcTw3j8",
        "colab_type": "code",
        "colab": {}
      },
      "source": [
        "LA_county = merged[merged['County Name'] == 'Los Angeles County']\n",
        "LA_county.shape"
      ],
      "execution_count": null,
      "outputs": []
    },
    {
      "cell_type": "code",
      "metadata": {
        "id": "ZxfdSLkPx-k1",
        "colab_type": "code",
        "colab": {}
      },
      "source": [
        "orange_county = merged[merged['County Name'] == 'San Diego County']\n"
      ],
      "execution_count": null,
      "outputs": []
    },
    {
      "cell_type": "code",
      "metadata": {
        "id": "L3_HLTInxTwf",
        "colab_type": "code",
        "colab": {}
      },
      "source": [
        "base_la = alt.Chart(LA_county).mark_bar().encode(\n",
        "    x='monthdate(Date):O',\n",
        ").properties(\n",
        "    width=500\n",
        ")\n",
        "\n",
        "base_orange = alt.Chart(orange_county).mark_bar().encode(\n",
        "    x='monthdate(Date):O',\n",
        ").properties(\n",
        "    width=500\n",
        ")"
      ],
      "execution_count": null,
      "outputs": []
    },
    {
      "cell_type": "code",
      "metadata": {
        "id": "5WtKAgZ7xZLN",
        "colab_type": "code",
        "colab": {}
      },
      "source": [
        "red = alt.value(\"#f54242\")\n",
        "base_orange.encode(y='Confirmed').properties(title='Total Confirmed') \n"
      ],
      "execution_count": null,
      "outputs": []
    },
    {
      "cell_type": "code",
      "metadata": {
        "id": "Q8YXkJ8yBfNC",
        "colab_type": "code",
        "colab": {}
      },
      "source": [
        "ca_df = full_grouped[full_grouped['Province_State'] == 'California']\n",
        "ny_df = full_grouped[full_grouped['Province_State'] == 'New York']\n",
        "tx_df = full_grouped[full_grouped['Province_State'] == 'Texas']"
      ],
      "execution_count": 164,
      "outputs": []
    },
    {
      "cell_type": "code",
      "metadata": {
        "id": "gZ4A8NkynCmW",
        "colab_type": "code",
        "colab": {
          "base_uri": "https://localhost:8080/",
          "height": 204
        },
        "outputId": "b5765230-300d-492e-ef53-d9e3d7db77a0"
      },
      "source": [
        "ny_df.head()"
      ],
      "execution_count": 166,
      "outputs": [
        {
          "output_type": "execute_result",
          "data": {
            "text/html": [
              "<div>\n",
              "<style scoped>\n",
              "    .dataframe tbody tr th:only-of-type {\n",
              "        vertical-align: middle;\n",
              "    }\n",
              "\n",
              "    .dataframe tbody tr th {\n",
              "        vertical-align: top;\n",
              "    }\n",
              "\n",
              "    .dataframe thead th {\n",
              "        text-align: right;\n",
              "    }\n",
              "</style>\n",
              "<table border=\"1\" class=\"dataframe\">\n",
              "  <thead>\n",
              "    <tr style=\"text-align: right;\">\n",
              "      <th></th>\n",
              "      <th>Date</th>\n",
              "      <th>Province_State</th>\n",
              "      <th>FIPS</th>\n",
              "      <th>Confirmed</th>\n",
              "      <th>Deaths</th>\n",
              "      <th>New cases</th>\n",
              "      <th>New deaths</th>\n",
              "    </tr>\n",
              "  </thead>\n",
              "  <tbody>\n",
              "    <tr>\n",
              "      <th>0</th>\n",
              "      <td>2020-01-22</td>\n",
              "      <td>New York</td>\n",
              "      <td>36001.0</td>\n",
              "      <td>0</td>\n",
              "      <td>0</td>\n",
              "      <td>0</td>\n",
              "      <td>0</td>\n",
              "    </tr>\n",
              "    <tr>\n",
              "      <th>1</th>\n",
              "      <td>2020-01-23</td>\n",
              "      <td>New York</td>\n",
              "      <td>36001.0</td>\n",
              "      <td>0</td>\n",
              "      <td>0</td>\n",
              "      <td>0</td>\n",
              "      <td>0</td>\n",
              "    </tr>\n",
              "    <tr>\n",
              "      <th>2</th>\n",
              "      <td>2020-01-24</td>\n",
              "      <td>New York</td>\n",
              "      <td>36001.0</td>\n",
              "      <td>0</td>\n",
              "      <td>0</td>\n",
              "      <td>0</td>\n",
              "      <td>0</td>\n",
              "    </tr>\n",
              "    <tr>\n",
              "      <th>3</th>\n",
              "      <td>2020-01-25</td>\n",
              "      <td>New York</td>\n",
              "      <td>36001.0</td>\n",
              "      <td>0</td>\n",
              "      <td>0</td>\n",
              "      <td>0</td>\n",
              "      <td>0</td>\n",
              "    </tr>\n",
              "    <tr>\n",
              "      <th>4</th>\n",
              "      <td>2020-01-26</td>\n",
              "      <td>New York</td>\n",
              "      <td>36001.0</td>\n",
              "      <td>0</td>\n",
              "      <td>0</td>\n",
              "      <td>0</td>\n",
              "      <td>0</td>\n",
              "    </tr>\n",
              "  </tbody>\n",
              "</table>\n",
              "</div>"
            ],
            "text/plain": [
              "         Date Province_State     FIPS Confirmed Deaths New cases New deaths\n",
              "0  2020-01-22       New York  36001.0         0      0         0          0\n",
              "1  2020-01-23       New York  36001.0         0      0         0          0\n",
              "2  2020-01-24       New York  36001.0         0      0         0          0\n",
              "3  2020-01-25       New York  36001.0         0      0         0          0\n",
              "4  2020-01-26       New York  36001.0         0      0         0          0"
            ]
          },
          "metadata": {
            "tags": []
          },
          "execution_count": 166
        }
      ]
    },
    {
      "cell_type": "code",
      "metadata": {
        "id": "zFQ1SF3pnFBQ",
        "colab_type": "code",
        "colab": {}
      },
      "source": [
        "ny_df.to_csv('NY-CovidAug21.csv',index=False)"
      ],
      "execution_count": 167,
      "outputs": []
    },
    {
      "cell_type": "code",
      "metadata": {
        "id": "ysUJCv1nBfKG",
        "colab_type": "code",
        "colab": {}
      },
      "source": [
        "base_ca = alt.Chart(ca_df).mark_bar().encode(\n",
        "    x='monthdate(Date):O',\n",
        ").properties(\n",
        "    width=500\n",
        ")\n",
        "\n",
        "base_ny = alt.Chart(ny_df).mark_bar().encode(\n",
        "    x='monthdate(Date):O',\n",
        ").properties(\n",
        "    width=500\n",
        ")\n",
        "\n",
        "base_tx = alt.Chart(tx_df).mark_bar().encode(\n",
        "    x='monthdate(Date):O',\n",
        ").properties(\n",
        "    width=500\n",
        ")"
      ],
      "execution_count": null,
      "outputs": []
    },
    {
      "cell_type": "code",
      "metadata": {
        "id": "kBylKZKDBe4v",
        "colab_type": "code",
        "colab": {}
      },
      "source": [
        "red = alt.value(\"#f54242\")\n",
        "base_ca.encode(y='Confirmed').properties(title='Total Confirmed') | base_ca.encode(y='Deaths',color = red).properties(title='Total deaths')\n"
      ],
      "execution_count": null,
      "outputs": []
    },
    {
      "cell_type": "code",
      "metadata": {
        "id": "X2vjXgMbDqYj",
        "colab_type": "code",
        "colab": {}
      },
      "source": [
        "base_ny.encode(y='Confirmed').properties(title='Total Confirmed') | base_ny.encode(y='Deaths',color = red).properties(title='Total deaths')\n"
      ],
      "execution_count": null,
      "outputs": []
    },
    {
      "cell_type": "code",
      "metadata": {
        "id": "Co-i287FDqWI",
        "colab_type": "code",
        "colab": {}
      },
      "source": [
        "base_tx.encode(y='Confirmed').properties(title='Total Confirmed') | base_tx.encode(y='Deaths',color = red).properties(title='Total deaths')\n"
      ],
      "execution_count": null,
      "outputs": []
    },
    {
      "cell_type": "code",
      "metadata": {
        "id": "hbjz-JPxDqTq",
        "colab_type": "code",
        "colab": {}
      },
      "source": [
        "base_ca.encode(y='New cases').properties(title='Total New Cases') | base_ca.encode(y='New deaths',color = red).properties(title='Total New deaths')\n"
      ],
      "execution_count": null,
      "outputs": []
    },
    {
      "cell_type": "code",
      "metadata": {
        "id": "fI5o-tYkDqRj",
        "colab_type": "code",
        "colab": {}
      },
      "source": [
        ""
      ],
      "execution_count": null,
      "outputs": []
    },
    {
      "cell_type": "code",
      "metadata": {
        "id": "X1gFKJAGDqLG",
        "colab_type": "code",
        "colab": {}
      },
      "source": [
        ""
      ],
      "execution_count": null,
      "outputs": []
    },
    {
      "cell_type": "markdown",
      "metadata": {
        "id": "KjRxEK71nUgO",
        "colab_type": "text"
      },
      "source": [
        "## Steps to approach the problem\n",
        "\n",
        "* Predict how 'New cases' count changed in states after mask mandate\n",
        "* check the type of **rule** - \n",
        "  1. Entire State\n",
        "  2. Entire Territory\n",
        "  3. Parts of State\n",
        "  4. Entire State (Employees Only)\n",
        "  5. Parts of State (Employees Only)\n",
        "  6. No\n",
        "  7. Masks strongly recommended, provides masks for free\n",
        "  8. Entire State (Some Employees)\n",
        "\n",
        "impacts the new cases count\n",
        "\n",
        "* Include/identify latent variables like 'Long weekend' date, 'Rally' date, 'BLM' protests happened date impact in new cases count \n",
        "* Identify datasource for people cooperation in following the rule\n",
        "* Political party ruling the state\n",
        "* Population \n",
        "* Epicenter city of each state\n",
        "* Type of mask (?)\n",
        "\n"
      ]
    },
    {
      "cell_type": "markdown",
      "metadata": {
        "id": "DZPVHGGB06ha",
        "colab_type": "text"
      },
      "source": [
        "## Reference\n",
        "\n",
        "* https://towardsdatascience.com/covid-19-data-processing-58aaa3663f6"
      ]
    }
  ]
}