{
  "nbformat": 4,
  "nbformat_minor": 0,
  "metadata": {
    "colab": {
      "name": "weekly_CovidCases_CA_NY.ipynb",
      "provenance": [],
      "collapsed_sections": [],
      "toc_visible": true,
      "machine_shape": "hm",
      "include_colab_link": true
    },
    "kernelspec": {
      "name": "python3",
      "display_name": "Python 3"
    },
    "accelerator": "GPU"
  },
  "cells": [
    {
      "cell_type": "markdown",
      "metadata": {
        "id": "view-in-github",
        "colab_type": "text"
      },
      "source": [
        "<a href=\"https://colab.research.google.com/github/aarsanjani/meansquares/blob/master/weekly_CovidCases_CA_NY.ipynb\" target=\"_parent\"><img src=\"https://colab.research.google.com/assets/colab-badge.svg\" alt=\"Open In Colab\"/></a>"
      ]
    },
    {
      "cell_type": "markdown",
      "metadata": {
        "id": "5KLYplb9rUcO",
        "colab_type": "text"
      },
      "source": [
        "# Topic: Investigate Covid-19 NY and CA data"
      ]
    },
    {
      "cell_type": "markdown",
      "metadata": {
        "id": "rQQ8KCcYrgh8",
        "colab_type": "text"
      },
      "source": [
        "This colab includes CA and NY covid case data from JHU and moving avg trend analysis"
      ]
    },
    {
      "cell_type": "code",
      "metadata": {
        "id": "mcdbrTS38vcE",
        "colab_type": "code",
        "colab": {
          "base_uri": "https://localhost:8080/",
          "height": 190
        },
        "outputId": "ff83a803-0dc6-4000-a409-7ec176125e60"
      },
      "source": [
        "!pip install wget"
      ],
      "execution_count": 1,
      "outputs": [
        {
          "output_type": "stream",
          "text": [
            "Collecting wget\n",
            "  Downloading https://files.pythonhosted.org/packages/47/6a/62e288da7bcda82b935ff0c6cfe542970f04e29c756b0e147251b2fb251f/wget-3.2.zip\n",
            "Building wheels for collected packages: wget\n",
            "  Building wheel for wget (setup.py) ... \u001b[?25l\u001b[?25hdone\n",
            "  Created wheel for wget: filename=wget-3.2-cp36-none-any.whl size=9682 sha256=174294e2ed655f344bf23e83b97c6e0cfff096c4b5add0b8598ff7e12857685a\n",
            "  Stored in directory: /root/.cache/pip/wheels/40/15/30/7d8f7cea2902b4db79e3fea550d7d7b85ecb27ef992b618f3f\n",
            "Successfully built wget\n",
            "Installing collected packages: wget\n",
            "Successfully installed wget-3.2\n"
          ],
          "name": "stdout"
        }
      ]
    },
    {
      "cell_type": "markdown",
      "metadata": {
        "id": "GFEyT1gSN_CX",
        "colab_type": "text"
      },
      "source": [
        "## Import Libraries"
      ]
    },
    {
      "cell_type": "code",
      "metadata": {
        "id": "6QbOhpGKrQub",
        "colab_type": "code",
        "colab": {}
      },
      "source": [
        "import pandas as pd\n",
        "from tqdm import tqdm\n",
        "\n",
        "import seaborn as sns\n",
        "import numpy as np\n",
        "import matplotlib.pyplot as plt\n",
        "import os\n",
        "import wget\n",
        "from pandas import Series, datetime\n",
        "from pandas.plotting import scatter_matrix, autocorrelation_plot\n",
        "from sklearn.preprocessing import StandardScaler, RobustScaler\n",
        "from sklearn.model_selection import train_test_split, KFold, cross_val_score, GridSearchCV, TimeSeriesSplit\n",
        "from sklearn import metrics\n",
        "from sklearn.metrics import classification_report, confusion_matrix, accuracy_score, mean_squared_error\n",
        "from sklearn.pipeline import Pipeline\n",
        "from sklearn.linear_model import LogisticRegression\n",
        "from sklearn.tree import DecisionTreeClassifier\n",
        "from sklearn.neighbors import KNeighborsClassifier\n",
        "from sklearn.discriminant_analysis import LinearDiscriminantAnalysis\n",
        "from sklearn.naive_bayes import GaussianNB\n",
        "from sklearn.cluster import KMeans\n",
        "from sklearn.svm import SVC\n",
        "from sklearn.ensemble import AdaBoostClassifier, GradientBoostingClassifier, RandomForestClassifier, ExtraTreesClassifier\n",
        "from sklearn.metrics import roc_curve, auc\n",
        "import random\n",
        "from statsmodels.graphics.tsaplots import plot_acf, plot_pacf\n",
        "from statsmodels.tsa.arima_model import ARIMA\n",
        "from xgboost import XGBClassifier\n",
        "from sklearn.mixture import GaussianMixture"
      ],
      "execution_count": 70,
      "outputs": []
    },
    {
      "cell_type": "markdown",
      "metadata": {
        "id": "XG7L7Wu9ssnZ",
        "colab_type": "text"
      },
      "source": [
        "## Mount Google drive\n"
      ]
    },
    {
      "cell_type": "code",
      "metadata": {
        "id": "SXC6gd0isu7o",
        "colab_type": "code",
        "colab": {}
      },
      "source": [
        "os.environ[\"TF_CPP_MIN_LOG_LEVEL\"]=\"2\"\n",
        "import warnings; warnings.simplefilter('ignore')"
      ],
      "execution_count": 3,
      "outputs": []
    },
    {
      "cell_type": "code",
      "metadata": {
        "id": "kkIdtS1JsvlO",
        "colab_type": "code",
        "colab": {}
      },
      "source": [
        "from google.colab import drive\n",
        "# drive.mount('/content/drive')"
      ],
      "execution_count": 4,
      "outputs": []
    },
    {
      "cell_type": "code",
      "metadata": {
        "id": "F-i78za67STu",
        "colab_type": "code",
        "colab": {}
      },
      "source": [
        "location = \"drive/Shared drives/the-mean-sqaures/the-mean-squares/Colab_Dataset/Dataset/\""
      ],
      "execution_count": 5,
      "outputs": []
    },
    {
      "cell_type": "code",
      "metadata": {
        "id": "eSHBvEKMsMLZ",
        "colab_type": "code",
        "colab": {
          "base_uri": "https://localhost:8080/",
          "height": 34
        },
        "outputId": "02dbb724-c3ca-41f4-f14e-9b6b4e1f67a4"
      },
      "source": [
        "!ls /content/drive/My\\ Drive/MasterProject-Personal/data"
      ],
      "execution_count": 6,
      "outputs": [
        {
          "output_type": "stream",
          "text": [
            "ls: cannot access '/content/drive/My Drive/MasterProject-Personal/data': No such file or directory\n"
          ],
          "name": "stdout"
        }
      ]
    },
    {
      "cell_type": "markdown",
      "metadata": {
        "id": "jkka58J3qP-B",
        "colab_type": "text"
      },
      "source": [
        "# Data Load"
      ]
    },
    {
      "cell_type": "markdown",
      "metadata": {
        "id": "VsVZXbVoJ5-N",
        "colab_type": "text"
      },
      "source": [
        "## 1 Load County Population\n"
      ]
    },
    {
      "cell_type": "code",
      "metadata": {
        "id": "WZno5k12J9BI",
        "colab_type": "code",
        "colab": {
          "base_uri": "https://localhost:8080/",
          "height": 34
        },
        "outputId": "8240ecb1-a467-45f0-9970-392663b00cfe"
      },
      "source": [
        "county_population_US = pd.read_csv('https://usafactsstatic.blob.core.windows.net/public/data/covid-19/covid_county_population_usafacts.csv',low_memory=False)\n",
        "print(county_population_US.shape)"
      ],
      "execution_count": 7,
      "outputs": [
        {
          "output_type": "stream",
          "text": [
            "(3195, 4)\n"
          ],
          "name": "stdout"
        }
      ]
    },
    {
      "cell_type": "code",
      "metadata": {
        "id": "IEHB_7mnKAuI",
        "colab_type": "code",
        "colab": {
          "base_uri": "https://localhost:8080/",
          "height": 34
        },
        "outputId": "12386256-ef2a-4412-a89d-6b68e64a4767"
      },
      "source": [
        "wget.download('https://usafactsstatic.blob.core.windows.net/public/data/covid-19/covid_county_population_usafacts.csv')\n",
        "county_population_US = pd.read_csv('covid_county_population_usafacts.csv',low_memory=False)\n",
        "print(county_population_US.shape)\n",
        "\n",
        "\n"
      ],
      "execution_count": 8,
      "outputs": [
        {
          "output_type": "stream",
          "text": [
            "(3195, 4)\n"
          ],
          "name": "stdout"
        }
      ]
    },
    {
      "cell_type": "code",
      "metadata": {
        "id": "9aVG7gFdKQQm",
        "colab_type": "code",
        "colab": {
          "base_uri": "https://localhost:8080/",
          "height": 111
        },
        "outputId": "156d1803-af6e-4259-bc2b-c7a3c39c7e89"
      },
      "source": [
        "county_population_US.head(2)"
      ],
      "execution_count": 9,
      "outputs": [
        {
          "output_type": "execute_result",
          "data": {
            "text/html": [
              "<div>\n",
              "<style scoped>\n",
              "    .dataframe tbody tr th:only-of-type {\n",
              "        vertical-align: middle;\n",
              "    }\n",
              "\n",
              "    .dataframe tbody tr th {\n",
              "        vertical-align: top;\n",
              "    }\n",
              "\n",
              "    .dataframe thead th {\n",
              "        text-align: right;\n",
              "    }\n",
              "</style>\n",
              "<table border=\"1\" class=\"dataframe\">\n",
              "  <thead>\n",
              "    <tr style=\"text-align: right;\">\n",
              "      <th></th>\n",
              "      <th>countyFIPS</th>\n",
              "      <th>County Name</th>\n",
              "      <th>State</th>\n",
              "      <th>population</th>\n",
              "    </tr>\n",
              "  </thead>\n",
              "  <tbody>\n",
              "    <tr>\n",
              "      <th>0</th>\n",
              "      <td>0</td>\n",
              "      <td>Statewide Unallocated</td>\n",
              "      <td>AL</td>\n",
              "      <td>0</td>\n",
              "    </tr>\n",
              "    <tr>\n",
              "      <th>1</th>\n",
              "      <td>1001</td>\n",
              "      <td>Autauga County</td>\n",
              "      <td>AL</td>\n",
              "      <td>55869</td>\n",
              "    </tr>\n",
              "  </tbody>\n",
              "</table>\n",
              "</div>"
            ],
            "text/plain": [
              "   countyFIPS            County Name State  population\n",
              "0           0  Statewide Unallocated    AL           0\n",
              "1        1001         Autauga County    AL       55869"
            ]
          },
          "metadata": {
            "tags": []
          },
          "execution_count": 9
        }
      ]
    },
    {
      "cell_type": "markdown",
      "metadata": {
        "id": "-Ued4-m3waSu",
        "colab_type": "text"
      },
      "source": [
        "## 2 Load Covid-19 case details (until July 12)"
      ]
    },
    {
      "cell_type": "code",
      "metadata": {
        "id": "OBaFkfiewtBS",
        "colab_type": "code",
        "colab": {
          "base_uri": "https://localhost:8080/",
          "height": 34
        },
        "outputId": "ccd02c72-85bf-49fb-e65b-2d7f8428990b"
      },
      "source": [
        "!ls '/content/drive/My Drive/MasterProject-Personal/data/'"
      ],
      "execution_count": 10,
      "outputs": [
        {
          "output_type": "stream",
          "text": [
            "ls: cannot access '/content/drive/My Drive/MasterProject-Personal/data/': No such file or directory\n"
          ],
          "name": "stdout"
        }
      ]
    },
    {
      "cell_type": "markdown",
      "metadata": {
        "id": "t1RSRy861K-h",
        "colab_type": "text"
      },
      "source": [
        "### Note about data:\n",
        "John Hopkins university updates data every day hence we are pulling from repository directly\n",
        "\n",
        "**US Confirmed url** :https://raw.githubusercontent.com/CSSEGISandData/COVID-19/master/csse_covid_19_data/csse_covid_19_time_series/time_series_covid19_confirmed_US.csv\n",
        "\n",
        "**US deaths url**: https://raw.githubusercontent.com/CSSEGISandData/COVID-19/master/csse_covid_19_data/csse_covid_19_time_series/time_series_covid19_deaths_US.csv"
      ]
    },
    {
      "cell_type": "code",
      "metadata": {
        "id": "_MHkCNZm2ZaY",
        "colab_type": "code",
        "colab": {
          "base_uri": "https://localhost:8080/",
          "height": 34
        },
        "outputId": "42820c0d-73d2-46b3-c230-c0f4e09a0c50"
      },
      "source": [
        "urls = ['https://raw.githubusercontent.com/CSSEGISandData/COVID-19/master/csse_covid_19_data/csse_covid_19_time_series/time_series_covid19_confirmed_US.csv',\n",
        "        'https://raw.githubusercontent.com/CSSEGISandData/COVID-19/master/csse_covid_19_data/csse_covid_19_time_series/time_series_covid19_deaths_US.csv']\n",
        "\n",
        "[wget.download(url) for url in urls]        "
      ],
      "execution_count": 11,
      "outputs": [
        {
          "output_type": "execute_result",
          "data": {
            "text/plain": [
              "['time_series_covid19_confirmed_US.csv', 'time_series_covid19_deaths_US.csv']"
            ]
          },
          "metadata": {
            "tags": []
          },
          "execution_count": 11
        }
      ]
    },
    {
      "cell_type": "code",
      "metadata": {
        "id": "A4wqPxvOwh1i",
        "colab_type": "code",
        "colab": {
          "base_uri": "https://localhost:8080/",
          "height": 313
        },
        "outputId": "af56a585-39b8-4eed-edea-11758a69ce26"
      },
      "source": [
        "confirmed_US = pd.read_csv('time_series_covid19_confirmed_US.csv',low_memory=False)\n",
        "death_US = pd.read_csv('time_series_covid19_deaths_US.csv',low_memory=False)\n",
        "print(confirmed_US.shape)\n",
        "print(death_US.shape)\n",
        "print(confirmed_US.head(2))\n",
        "death_US.head(2)"
      ],
      "execution_count": 12,
      "outputs": [
        {
          "output_type": "stream",
          "text": [
            "(3340, 224)\n",
            "(3340, 225)\n",
            "        UID iso2 iso3  code3  ...  8/18/20 8/19/20 8/20/20 8/21/20\n",
            "0  84001001   US  USA    840  ...     1235    1241    1240    1255\n",
            "1  84001003   US  USA    840  ...     3906    3931    3957    3997\n",
            "\n",
            "[2 rows x 224 columns]\n"
          ],
          "name": "stdout"
        },
        {
          "output_type": "execute_result",
          "data": {
            "text/html": [
              "<div>\n",
              "<style scoped>\n",
              "    .dataframe tbody tr th:only-of-type {\n",
              "        vertical-align: middle;\n",
              "    }\n",
              "\n",
              "    .dataframe tbody tr th {\n",
              "        vertical-align: top;\n",
              "    }\n",
              "\n",
              "    .dataframe thead th {\n",
              "        text-align: right;\n",
              "    }\n",
              "</style>\n",
              "<table border=\"1\" class=\"dataframe\">\n",
              "  <thead>\n",
              "    <tr style=\"text-align: right;\">\n",
              "      <th></th>\n",
              "      <th>UID</th>\n",
              "      <th>iso2</th>\n",
              "      <th>iso3</th>\n",
              "      <th>code3</th>\n",
              "      <th>FIPS</th>\n",
              "      <th>Admin2</th>\n",
              "      <th>Province_State</th>\n",
              "      <th>Country_Region</th>\n",
              "      <th>Lat</th>\n",
              "      <th>Long_</th>\n",
              "      <th>Combined_Key</th>\n",
              "      <th>Population</th>\n",
              "      <th>1/22/20</th>\n",
              "      <th>1/23/20</th>\n",
              "      <th>1/24/20</th>\n",
              "      <th>1/25/20</th>\n",
              "      <th>1/26/20</th>\n",
              "      <th>1/27/20</th>\n",
              "      <th>1/28/20</th>\n",
              "      <th>1/29/20</th>\n",
              "      <th>1/30/20</th>\n",
              "      <th>1/31/20</th>\n",
              "      <th>2/1/20</th>\n",
              "      <th>2/2/20</th>\n",
              "      <th>2/3/20</th>\n",
              "      <th>2/4/20</th>\n",
              "      <th>2/5/20</th>\n",
              "      <th>2/6/20</th>\n",
              "      <th>2/7/20</th>\n",
              "      <th>2/8/20</th>\n",
              "      <th>2/9/20</th>\n",
              "      <th>2/10/20</th>\n",
              "      <th>2/11/20</th>\n",
              "      <th>2/12/20</th>\n",
              "      <th>2/13/20</th>\n",
              "      <th>2/14/20</th>\n",
              "      <th>2/15/20</th>\n",
              "      <th>2/16/20</th>\n",
              "      <th>2/17/20</th>\n",
              "      <th>2/18/20</th>\n",
              "      <th>...</th>\n",
              "      <th>7/13/20</th>\n",
              "      <th>7/14/20</th>\n",
              "      <th>7/15/20</th>\n",
              "      <th>7/16/20</th>\n",
              "      <th>7/17/20</th>\n",
              "      <th>7/18/20</th>\n",
              "      <th>7/19/20</th>\n",
              "      <th>7/20/20</th>\n",
              "      <th>7/21/20</th>\n",
              "      <th>7/22/20</th>\n",
              "      <th>7/23/20</th>\n",
              "      <th>7/24/20</th>\n",
              "      <th>7/25/20</th>\n",
              "      <th>7/26/20</th>\n",
              "      <th>7/27/20</th>\n",
              "      <th>7/28/20</th>\n",
              "      <th>7/29/20</th>\n",
              "      <th>7/30/20</th>\n",
              "      <th>7/31/20</th>\n",
              "      <th>8/1/20</th>\n",
              "      <th>8/2/20</th>\n",
              "      <th>8/3/20</th>\n",
              "      <th>8/4/20</th>\n",
              "      <th>8/5/20</th>\n",
              "      <th>8/6/20</th>\n",
              "      <th>8/7/20</th>\n",
              "      <th>8/8/20</th>\n",
              "      <th>8/9/20</th>\n",
              "      <th>8/10/20</th>\n",
              "      <th>8/11/20</th>\n",
              "      <th>8/12/20</th>\n",
              "      <th>8/13/20</th>\n",
              "      <th>8/14/20</th>\n",
              "      <th>8/15/20</th>\n",
              "      <th>8/16/20</th>\n",
              "      <th>8/17/20</th>\n",
              "      <th>8/18/20</th>\n",
              "      <th>8/19/20</th>\n",
              "      <th>8/20/20</th>\n",
              "      <th>8/21/20</th>\n",
              "    </tr>\n",
              "  </thead>\n",
              "  <tbody>\n",
              "    <tr>\n",
              "      <th>0</th>\n",
              "      <td>84001001</td>\n",
              "      <td>US</td>\n",
              "      <td>USA</td>\n",
              "      <td>840</td>\n",
              "      <td>1001.0</td>\n",
              "      <td>Autauga</td>\n",
              "      <td>Alabama</td>\n",
              "      <td>US</td>\n",
              "      <td>32.539527</td>\n",
              "      <td>-86.644082</td>\n",
              "      <td>Autauga, Alabama, US</td>\n",
              "      <td>55869</td>\n",
              "      <td>0</td>\n",
              "      <td>0</td>\n",
              "      <td>0</td>\n",
              "      <td>0</td>\n",
              "      <td>0</td>\n",
              "      <td>0</td>\n",
              "      <td>0</td>\n",
              "      <td>0</td>\n",
              "      <td>0</td>\n",
              "      <td>0</td>\n",
              "      <td>0</td>\n",
              "      <td>0</td>\n",
              "      <td>0</td>\n",
              "      <td>0</td>\n",
              "      <td>0</td>\n",
              "      <td>0</td>\n",
              "      <td>0</td>\n",
              "      <td>0</td>\n",
              "      <td>0</td>\n",
              "      <td>0</td>\n",
              "      <td>0</td>\n",
              "      <td>0</td>\n",
              "      <td>0</td>\n",
              "      <td>0</td>\n",
              "      <td>0</td>\n",
              "      <td>0</td>\n",
              "      <td>0</td>\n",
              "      <td>0</td>\n",
              "      <td>...</td>\n",
              "      <td>15</td>\n",
              "      <td>17</td>\n",
              "      <td>18</td>\n",
              "      <td>19</td>\n",
              "      <td>20</td>\n",
              "      <td>20</td>\n",
              "      <td>20</td>\n",
              "      <td>20</td>\n",
              "      <td>20</td>\n",
              "      <td>20</td>\n",
              "      <td>20</td>\n",
              "      <td>20</td>\n",
              "      <td>20</td>\n",
              "      <td>20</td>\n",
              "      <td>20</td>\n",
              "      <td>20</td>\n",
              "      <td>20</td>\n",
              "      <td>20</td>\n",
              "      <td>20</td>\n",
              "      <td>20</td>\n",
              "      <td>20</td>\n",
              "      <td>20</td>\n",
              "      <td>20</td>\n",
              "      <td>21</td>\n",
              "      <td>21</td>\n",
              "      <td>21</td>\n",
              "      <td>21</td>\n",
              "      <td>21</td>\n",
              "      <td>21</td>\n",
              "      <td>22</td>\n",
              "      <td>22</td>\n",
              "      <td>22</td>\n",
              "      <td>22</td>\n",
              "      <td>22</td>\n",
              "      <td>22</td>\n",
              "      <td>22</td>\n",
              "      <td>22</td>\n",
              "      <td>22</td>\n",
              "      <td>22</td>\n",
              "      <td>22</td>\n",
              "    </tr>\n",
              "    <tr>\n",
              "      <th>1</th>\n",
              "      <td>84001003</td>\n",
              "      <td>US</td>\n",
              "      <td>USA</td>\n",
              "      <td>840</td>\n",
              "      <td>1003.0</td>\n",
              "      <td>Baldwin</td>\n",
              "      <td>Alabama</td>\n",
              "      <td>US</td>\n",
              "      <td>30.727750</td>\n",
              "      <td>-87.722071</td>\n",
              "      <td>Baldwin, Alabama, US</td>\n",
              "      <td>223234</td>\n",
              "      <td>0</td>\n",
              "      <td>0</td>\n",
              "      <td>0</td>\n",
              "      <td>0</td>\n",
              "      <td>0</td>\n",
              "      <td>0</td>\n",
              "      <td>0</td>\n",
              "      <td>0</td>\n",
              "      <td>0</td>\n",
              "      <td>0</td>\n",
              "      <td>0</td>\n",
              "      <td>0</td>\n",
              "      <td>0</td>\n",
              "      <td>0</td>\n",
              "      <td>0</td>\n",
              "      <td>0</td>\n",
              "      <td>0</td>\n",
              "      <td>0</td>\n",
              "      <td>0</td>\n",
              "      <td>0</td>\n",
              "      <td>0</td>\n",
              "      <td>0</td>\n",
              "      <td>0</td>\n",
              "      <td>0</td>\n",
              "      <td>0</td>\n",
              "      <td>0</td>\n",
              "      <td>0</td>\n",
              "      <td>0</td>\n",
              "      <td>...</td>\n",
              "      <td>11</td>\n",
              "      <td>11</td>\n",
              "      <td>12</td>\n",
              "      <td>13</td>\n",
              "      <td>13</td>\n",
              "      <td>14</td>\n",
              "      <td>14</td>\n",
              "      <td>14</td>\n",
              "      <td>15</td>\n",
              "      <td>15</td>\n",
              "      <td>16</td>\n",
              "      <td>17</td>\n",
              "      <td>17</td>\n",
              "      <td>17</td>\n",
              "      <td>17</td>\n",
              "      <td>17</td>\n",
              "      <td>20</td>\n",
              "      <td>20</td>\n",
              "      <td>21</td>\n",
              "      <td>21</td>\n",
              "      <td>22</td>\n",
              "      <td>23</td>\n",
              "      <td>23</td>\n",
              "      <td>23</td>\n",
              "      <td>23</td>\n",
              "      <td>23</td>\n",
              "      <td>24</td>\n",
              "      <td>25</td>\n",
              "      <td>25</td>\n",
              "      <td>29</td>\n",
              "      <td>29</td>\n",
              "      <td>29</td>\n",
              "      <td>29</td>\n",
              "      <td>29</td>\n",
              "      <td>29</td>\n",
              "      <td>29</td>\n",
              "      <td>30</td>\n",
              "      <td>30</td>\n",
              "      <td>31</td>\n",
              "      <td>32</td>\n",
              "    </tr>\n",
              "  </tbody>\n",
              "</table>\n",
              "<p>2 rows × 225 columns</p>\n",
              "</div>"
            ],
            "text/plain": [
              "        UID iso2 iso3  code3  ...  8/18/20 8/19/20 8/20/20 8/21/20\n",
              "0  84001001   US  USA    840  ...       22      22      22      22\n",
              "1  84001003   US  USA    840  ...       30      30      31      32\n",
              "\n",
              "[2 rows x 225 columns]"
            ]
          },
          "metadata": {
            "tags": []
          },
          "execution_count": 12
        }
      ]
    },
    {
      "cell_type": "code",
      "metadata": {
        "id": "-Xmnw9e2xJud",
        "colab_type": "code",
        "colab": {
          "base_uri": "https://localhost:8080/",
          "height": 255
        },
        "outputId": "e1feaa7f-2e6e-4e50-d4b5-1b71ee76209a"
      },
      "source": [
        "#print(len(mask_data['state_name'].unique()))\n",
        "print(len(confirmed_US['Province_State'].unique()))\n",
        "confirmed_US['Province_State'].unique()"
      ],
      "execution_count": 13,
      "outputs": [
        {
          "output_type": "stream",
          "text": [
            "58\n"
          ],
          "name": "stdout"
        },
        {
          "output_type": "execute_result",
          "data": {
            "text/plain": [
              "array(['Alabama', 'Alaska', 'American Samoa', 'Arizona', 'Arkansas',\n",
              "       'California', 'Colorado', 'Connecticut', 'Delaware',\n",
              "       'Diamond Princess', 'District of Columbia', 'Florida', 'Georgia',\n",
              "       'Grand Princess', 'Guam', 'Hawaii', 'Idaho', 'Illinois', 'Indiana',\n",
              "       'Iowa', 'Kansas', 'Kentucky', 'Louisiana', 'Maine', 'Maryland',\n",
              "       'Massachusetts', 'Michigan', 'Minnesota', 'Mississippi',\n",
              "       'Missouri', 'Montana', 'Nebraska', 'Nevada', 'New Hampshire',\n",
              "       'New Jersey', 'New Mexico', 'New York', 'North Carolina',\n",
              "       'North Dakota', 'Northern Mariana Islands', 'Ohio', 'Oklahoma',\n",
              "       'Oregon', 'Pennsylvania', 'Puerto Rico', 'Rhode Island',\n",
              "       'South Carolina', 'South Dakota', 'Tennessee', 'Texas', 'Utah',\n",
              "       'Vermont', 'Virgin Islands', 'Virginia', 'Washington',\n",
              "       'West Virginia', 'Wisconsin', 'Wyoming'], dtype=object)"
            ]
          },
          "metadata": {
            "tags": []
          },
          "execution_count": 13
        }
      ]
    },
    {
      "cell_type": "markdown",
      "metadata": {
        "id": "RN2E93cS32Re",
        "colab_type": "text"
      },
      "source": [
        "## Data cleaning"
      ]
    },
    {
      "cell_type": "code",
      "metadata": {
        "id": "MQ52sy6o4DQd",
        "colab_type": "code",
        "colab": {
          "base_uri": "https://localhost:8080/",
          "height": 68
        },
        "outputId": "a2115fdb-62b8-43c8-9445-fb1892edfd17"
      },
      "source": [
        "confirmed_US.columns[:11]\n",
        "\n",
        "# Note: the first 11 columns contains UID, ios2,ios3, code ,FIPS, 'Admin2', 'Province_State',\n",
        "      # 'Country_Region', 'Lat', 'Long_',Combined_Key', 'Population',\n"
      ],
      "execution_count": 14,
      "outputs": [
        {
          "output_type": "execute_result",
          "data": {
            "text/plain": [
              "Index(['UID', 'iso2', 'iso3', 'code3', 'FIPS', 'Admin2', 'Province_State',\n",
              "       'Country_Region', 'Lat', 'Long_', 'Combined_Key'],\n",
              "      dtype='object')"
            ]
          },
          "metadata": {
            "tags": []
          },
          "execution_count": 14
        }
      ]
    },
    {
      "cell_type": "code",
      "metadata": {
        "id": "59E3UfdPwWGp",
        "colab_type": "code",
        "colab": {
          "base_uri": "https://localhost:8080/",
          "height": 119
        },
        "outputId": "74e17eca-3015-46d0-a261-5a85ab4fd7b7"
      },
      "source": [
        "# date begins from 11th column\n",
        "confirmed_dates = confirmed_US.columns[11:]\n",
        "confirmed_dates"
      ],
      "execution_count": 15,
      "outputs": [
        {
          "output_type": "execute_result",
          "data": {
            "text/plain": [
              "Index(['1/22/20', '1/23/20', '1/24/20', '1/25/20', '1/26/20', '1/27/20',\n",
              "       '1/28/20', '1/29/20', '1/30/20', '1/31/20',\n",
              "       ...\n",
              "       '8/12/20', '8/13/20', '8/14/20', '8/15/20', '8/16/20', '8/17/20',\n",
              "       '8/18/20', '8/19/20', '8/20/20', '8/21/20'],\n",
              "      dtype='object', length=213)"
            ]
          },
          "metadata": {
            "tags": []
          },
          "execution_count": 15
        }
      ]
    },
    {
      "cell_type": "code",
      "metadata": {
        "id": "LCuanaUk5fje",
        "colab_type": "code",
        "colab": {
          "base_uri": "https://localhost:8080/",
          "height": 68
        },
        "outputId": "dde225d7-51ec-404e-e88b-91c8b02b40ec"
      },
      "source": [
        "death_US.columns[:12]"
      ],
      "execution_count": 16,
      "outputs": [
        {
          "output_type": "execute_result",
          "data": {
            "text/plain": [
              "Index(['UID', 'iso2', 'iso3', 'code3', 'FIPS', 'Admin2', 'Province_State',\n",
              "       'Country_Region', 'Lat', 'Long_', 'Combined_Key', 'Population'],\n",
              "      dtype='object')"
            ]
          },
          "metadata": {
            "tags": []
          },
          "execution_count": 16
        }
      ]
    },
    {
      "cell_type": "code",
      "metadata": {
        "id": "8M_vOe244lax",
        "colab_type": "code",
        "colab": {
          "base_uri": "https://localhost:8080/",
          "height": 119
        },
        "outputId": "c49515e3-9b8b-49a5-a062-eb196fb8806a"
      },
      "source": [
        "death_US.columns[10:]"
      ],
      "execution_count": 17,
      "outputs": [
        {
          "output_type": "execute_result",
          "data": {
            "text/plain": [
              "Index(['Combined_Key', 'Population', '1/22/20', '1/23/20', '1/24/20',\n",
              "       '1/25/20', '1/26/20', '1/27/20', '1/28/20', '1/29/20',\n",
              "       ...\n",
              "       '8/12/20', '8/13/20', '8/14/20', '8/15/20', '8/16/20', '8/17/20',\n",
              "       '8/18/20', '8/19/20', '8/20/20', '8/21/20'],\n",
              "      dtype='object', length=215)"
            ]
          },
          "metadata": {
            "tags": []
          },
          "execution_count": 17
        }
      ]
    },
    {
      "cell_type": "code",
      "metadata": {
        "id": "wyJe4mng05ee",
        "colab_type": "code",
        "colab": {
          "base_uri": "https://localhost:8080/",
          "height": 119
        },
        "outputId": "f02a4713-8eb1-4a52-baff-2a3a36298dfc"
      },
      "source": [
        "death_dates = death_US.columns[12:]\n",
        "death_dates"
      ],
      "execution_count": 18,
      "outputs": [
        {
          "output_type": "execute_result",
          "data": {
            "text/plain": [
              "Index(['1/22/20', '1/23/20', '1/24/20', '1/25/20', '1/26/20', '1/27/20',\n",
              "       '1/28/20', '1/29/20', '1/30/20', '1/31/20',\n",
              "       ...\n",
              "       '8/12/20', '8/13/20', '8/14/20', '8/15/20', '8/16/20', '8/17/20',\n",
              "       '8/18/20', '8/19/20', '8/20/20', '8/21/20'],\n",
              "      dtype='object', length=213)"
            ]
          },
          "metadata": {
            "tags": []
          },
          "execution_count": 18
        }
      ]
    },
    {
      "cell_type": "markdown",
      "metadata": {
        "id": "GOpVOfZk44_O",
        "colab_type": "text"
      },
      "source": [
        "#### Note: both the date values has the same beginning date 1/22/2020. Hence we can use either of the values"
      ]
    },
    {
      "cell_type": "code",
      "metadata": {
        "id": "SWrPIbZA4wA_",
        "colab_type": "code",
        "colab": {}
      },
      "source": [
        "confirmed_df_long = confirmed_US.melt(\n",
        "    id_vars=['UID', 'iso2', 'iso3', 'code3', 'FIPS', 'Admin2', 'Province_State',\n",
        "       'Country_Region', 'Lat', 'Long_', 'Combined_Key'],\n",
        "       value_vars=confirmed_dates,\n",
        "       var_name = 'Date',\n",
        "       value_name = 'Confirmed'\n",
        ")\n",
        "\n",
        "death_df_long = death_US.melt(\n",
        "    id_vars=['UID', 'iso2', 'iso3', 'code3', 'FIPS', 'Admin2', 'Province_State',\n",
        "       'Country_Region', 'Lat', 'Long_', 'Combined_Key', 'Population'],\n",
        "       value_vars=death_dates,\n",
        "       var_name = 'Date',\n",
        "       value_name = 'Deaths'\n",
        ")"
      ],
      "execution_count": 19,
      "outputs": []
    },
    {
      "cell_type": "code",
      "metadata": {
        "id": "Zgyg7VRm4v-z",
        "colab_type": "code",
        "colab": {
          "base_uri": "https://localhost:8080/",
          "height": 549
        },
        "outputId": "811bf0a1-1fca-46bc-c326-26e633c5ad37"
      },
      "source": [
        "confirmed_df_long.tail(10)"
      ],
      "execution_count": 20,
      "outputs": [
        {
          "output_type": "execute_result",
          "data": {
            "text/html": [
              "<div>\n",
              "<style scoped>\n",
              "    .dataframe tbody tr th:only-of-type {\n",
              "        vertical-align: middle;\n",
              "    }\n",
              "\n",
              "    .dataframe tbody tr th {\n",
              "        vertical-align: top;\n",
              "    }\n",
              "\n",
              "    .dataframe thead th {\n",
              "        text-align: right;\n",
              "    }\n",
              "</style>\n",
              "<table border=\"1\" class=\"dataframe\">\n",
              "  <thead>\n",
              "    <tr style=\"text-align: right;\">\n",
              "      <th></th>\n",
              "      <th>UID</th>\n",
              "      <th>iso2</th>\n",
              "      <th>iso3</th>\n",
              "      <th>code3</th>\n",
              "      <th>FIPS</th>\n",
              "      <th>Admin2</th>\n",
              "      <th>Province_State</th>\n",
              "      <th>Country_Region</th>\n",
              "      <th>Lat</th>\n",
              "      <th>Long_</th>\n",
              "      <th>Combined_Key</th>\n",
              "      <th>Date</th>\n",
              "      <th>Confirmed</th>\n",
              "    </tr>\n",
              "  </thead>\n",
              "  <tbody>\n",
              "    <tr>\n",
              "      <th>711410</th>\n",
              "      <td>84056029</td>\n",
              "      <td>US</td>\n",
              "      <td>USA</td>\n",
              "      <td>840</td>\n",
              "      <td>56029.0</td>\n",
              "      <td>Park</td>\n",
              "      <td>Wyoming</td>\n",
              "      <td>US</td>\n",
              "      <td>44.521575</td>\n",
              "      <td>-109.585283</td>\n",
              "      <td>Park, Wyoming, US</td>\n",
              "      <td>8/21/20</td>\n",
              "      <td>156</td>\n",
              "    </tr>\n",
              "    <tr>\n",
              "      <th>711411</th>\n",
              "      <td>84056031</td>\n",
              "      <td>US</td>\n",
              "      <td>USA</td>\n",
              "      <td>840</td>\n",
              "      <td>56031.0</td>\n",
              "      <td>Platte</td>\n",
              "      <td>Wyoming</td>\n",
              "      <td>US</td>\n",
              "      <td>42.132991</td>\n",
              "      <td>-104.966331</td>\n",
              "      <td>Platte, Wyoming, US</td>\n",
              "      <td>8/21/20</td>\n",
              "      <td>7</td>\n",
              "    </tr>\n",
              "    <tr>\n",
              "      <th>711412</th>\n",
              "      <td>84056033</td>\n",
              "      <td>US</td>\n",
              "      <td>USA</td>\n",
              "      <td>840</td>\n",
              "      <td>56033.0</td>\n",
              "      <td>Sheridan</td>\n",
              "      <td>Wyoming</td>\n",
              "      <td>US</td>\n",
              "      <td>44.790489</td>\n",
              "      <td>-106.886239</td>\n",
              "      <td>Sheridan, Wyoming, US</td>\n",
              "      <td>8/21/20</td>\n",
              "      <td>112</td>\n",
              "    </tr>\n",
              "    <tr>\n",
              "      <th>711413</th>\n",
              "      <td>84056035</td>\n",
              "      <td>US</td>\n",
              "      <td>USA</td>\n",
              "      <td>840</td>\n",
              "      <td>56035.0</td>\n",
              "      <td>Sublette</td>\n",
              "      <td>Wyoming</td>\n",
              "      <td>US</td>\n",
              "      <td>42.765583</td>\n",
              "      <td>-109.913092</td>\n",
              "      <td>Sublette, Wyoming, US</td>\n",
              "      <td>8/21/20</td>\n",
              "      <td>44</td>\n",
              "    </tr>\n",
              "    <tr>\n",
              "      <th>711414</th>\n",
              "      <td>84056037</td>\n",
              "      <td>US</td>\n",
              "      <td>USA</td>\n",
              "      <td>840</td>\n",
              "      <td>56037.0</td>\n",
              "      <td>Sweetwater</td>\n",
              "      <td>Wyoming</td>\n",
              "      <td>US</td>\n",
              "      <td>41.659439</td>\n",
              "      <td>-108.882788</td>\n",
              "      <td>Sweetwater, Wyoming, US</td>\n",
              "      <td>8/21/20</td>\n",
              "      <td>288</td>\n",
              "    </tr>\n",
              "    <tr>\n",
              "      <th>711415</th>\n",
              "      <td>84056039</td>\n",
              "      <td>US</td>\n",
              "      <td>USA</td>\n",
              "      <td>840</td>\n",
              "      <td>56039.0</td>\n",
              "      <td>Teton</td>\n",
              "      <td>Wyoming</td>\n",
              "      <td>US</td>\n",
              "      <td>43.935225</td>\n",
              "      <td>-110.589080</td>\n",
              "      <td>Teton, Wyoming, US</td>\n",
              "      <td>8/21/20</td>\n",
              "      <td>399</td>\n",
              "    </tr>\n",
              "    <tr>\n",
              "      <th>711416</th>\n",
              "      <td>84056041</td>\n",
              "      <td>US</td>\n",
              "      <td>USA</td>\n",
              "      <td>840</td>\n",
              "      <td>56041.0</td>\n",
              "      <td>Uinta</td>\n",
              "      <td>Wyoming</td>\n",
              "      <td>US</td>\n",
              "      <td>41.287818</td>\n",
              "      <td>-110.547578</td>\n",
              "      <td>Uinta, Wyoming, US</td>\n",
              "      <td>8/21/20</td>\n",
              "      <td>283</td>\n",
              "    </tr>\n",
              "    <tr>\n",
              "      <th>711417</th>\n",
              "      <td>84090056</td>\n",
              "      <td>US</td>\n",
              "      <td>USA</td>\n",
              "      <td>840</td>\n",
              "      <td>90056.0</td>\n",
              "      <td>Unassigned</td>\n",
              "      <td>Wyoming</td>\n",
              "      <td>US</td>\n",
              "      <td>0.000000</td>\n",
              "      <td>0.000000</td>\n",
              "      <td>Unassigned, Wyoming, US</td>\n",
              "      <td>8/21/20</td>\n",
              "      <td>0</td>\n",
              "    </tr>\n",
              "    <tr>\n",
              "      <th>711418</th>\n",
              "      <td>84056043</td>\n",
              "      <td>US</td>\n",
              "      <td>USA</td>\n",
              "      <td>840</td>\n",
              "      <td>56043.0</td>\n",
              "      <td>Washakie</td>\n",
              "      <td>Wyoming</td>\n",
              "      <td>US</td>\n",
              "      <td>43.904516</td>\n",
              "      <td>-107.680187</td>\n",
              "      <td>Washakie, Wyoming, US</td>\n",
              "      <td>8/21/20</td>\n",
              "      <td>106</td>\n",
              "    </tr>\n",
              "    <tr>\n",
              "      <th>711419</th>\n",
              "      <td>84056045</td>\n",
              "      <td>US</td>\n",
              "      <td>USA</td>\n",
              "      <td>840</td>\n",
              "      <td>56045.0</td>\n",
              "      <td>Weston</td>\n",
              "      <td>Wyoming</td>\n",
              "      <td>US</td>\n",
              "      <td>43.839612</td>\n",
              "      <td>-104.567488</td>\n",
              "      <td>Weston, Wyoming, US</td>\n",
              "      <td>8/21/20</td>\n",
              "      <td>11</td>\n",
              "    </tr>\n",
              "  </tbody>\n",
              "</table>\n",
              "</div>"
            ],
            "text/plain": [
              "             UID iso2 iso3  ...             Combined_Key     Date Confirmed\n",
              "711410  84056029   US  USA  ...        Park, Wyoming, US  8/21/20       156\n",
              "711411  84056031   US  USA  ...      Platte, Wyoming, US  8/21/20         7\n",
              "711412  84056033   US  USA  ...    Sheridan, Wyoming, US  8/21/20       112\n",
              "711413  84056035   US  USA  ...    Sublette, Wyoming, US  8/21/20        44\n",
              "711414  84056037   US  USA  ...  Sweetwater, Wyoming, US  8/21/20       288\n",
              "711415  84056039   US  USA  ...       Teton, Wyoming, US  8/21/20       399\n",
              "711416  84056041   US  USA  ...       Uinta, Wyoming, US  8/21/20       283\n",
              "711417  84090056   US  USA  ...  Unassigned, Wyoming, US  8/21/20         0\n",
              "711418  84056043   US  USA  ...    Washakie, Wyoming, US  8/21/20       106\n",
              "711419  84056045   US  USA  ...      Weston, Wyoming, US  8/21/20        11\n",
              "\n",
              "[10 rows x 13 columns]"
            ]
          },
          "metadata": {
            "tags": []
          },
          "execution_count": 20
        }
      ]
    },
    {
      "cell_type": "code",
      "metadata": {
        "id": "FHQjX1YgOP71",
        "colab_type": "code",
        "colab": {
          "base_uri": "https://localhost:8080/",
          "height": 1000
        },
        "outputId": "7d75405e-bde6-42c5-a183-e101de686618"
      },
      "source": [
        "confirmed_df_long[confirmed_df_long['FIPS'] == 36081].tail(30)"
      ],
      "execution_count": 21,
      "outputs": [
        {
          "output_type": "execute_result",
          "data": {
            "text/html": [
              "<div>\n",
              "<style scoped>\n",
              "    .dataframe tbody tr th:only-of-type {\n",
              "        vertical-align: middle;\n",
              "    }\n",
              "\n",
              "    .dataframe tbody tr th {\n",
              "        vertical-align: top;\n",
              "    }\n",
              "\n",
              "    .dataframe thead th {\n",
              "        text-align: right;\n",
              "    }\n",
              "</style>\n",
              "<table border=\"1\" class=\"dataframe\">\n",
              "  <thead>\n",
              "    <tr style=\"text-align: right;\">\n",
              "      <th></th>\n",
              "      <th>UID</th>\n",
              "      <th>iso2</th>\n",
              "      <th>iso3</th>\n",
              "      <th>code3</th>\n",
              "      <th>FIPS</th>\n",
              "      <th>Admin2</th>\n",
              "      <th>Province_State</th>\n",
              "      <th>Country_Region</th>\n",
              "      <th>Lat</th>\n",
              "      <th>Long_</th>\n",
              "      <th>Combined_Key</th>\n",
              "      <th>Date</th>\n",
              "      <th>Confirmed</th>\n",
              "    </tr>\n",
              "  </thead>\n",
              "  <tbody>\n",
              "    <tr>\n",
              "      <th>613161</th>\n",
              "      <td>84036081</td>\n",
              "      <td>US</td>\n",
              "      <td>USA</td>\n",
              "      <td>840</td>\n",
              "      <td>36081.0</td>\n",
              "      <td>Queens</td>\n",
              "      <td>New York</td>\n",
              "      <td>US</td>\n",
              "      <td>40.710881</td>\n",
              "      <td>-73.816847</td>\n",
              "      <td>Queens, New York, US</td>\n",
              "      <td>7/23/20</td>\n",
              "      <td>0</td>\n",
              "    </tr>\n",
              "    <tr>\n",
              "      <th>616501</th>\n",
              "      <td>84036081</td>\n",
              "      <td>US</td>\n",
              "      <td>USA</td>\n",
              "      <td>840</td>\n",
              "      <td>36081.0</td>\n",
              "      <td>Queens</td>\n",
              "      <td>New York</td>\n",
              "      <td>US</td>\n",
              "      <td>40.710881</td>\n",
              "      <td>-73.816847</td>\n",
              "      <td>Queens, New York, US</td>\n",
              "      <td>7/24/20</td>\n",
              "      <td>0</td>\n",
              "    </tr>\n",
              "    <tr>\n",
              "      <th>619841</th>\n",
              "      <td>84036081</td>\n",
              "      <td>US</td>\n",
              "      <td>USA</td>\n",
              "      <td>840</td>\n",
              "      <td>36081.0</td>\n",
              "      <td>Queens</td>\n",
              "      <td>New York</td>\n",
              "      <td>US</td>\n",
              "      <td>40.710881</td>\n",
              "      <td>-73.816847</td>\n",
              "      <td>Queens, New York, US</td>\n",
              "      <td>7/25/20</td>\n",
              "      <td>0</td>\n",
              "    </tr>\n",
              "    <tr>\n",
              "      <th>623181</th>\n",
              "      <td>84036081</td>\n",
              "      <td>US</td>\n",
              "      <td>USA</td>\n",
              "      <td>840</td>\n",
              "      <td>36081.0</td>\n",
              "      <td>Queens</td>\n",
              "      <td>New York</td>\n",
              "      <td>US</td>\n",
              "      <td>40.710881</td>\n",
              "      <td>-73.816847</td>\n",
              "      <td>Queens, New York, US</td>\n",
              "      <td>7/26/20</td>\n",
              "      <td>0</td>\n",
              "    </tr>\n",
              "    <tr>\n",
              "      <th>626521</th>\n",
              "      <td>84036081</td>\n",
              "      <td>US</td>\n",
              "      <td>USA</td>\n",
              "      <td>840</td>\n",
              "      <td>36081.0</td>\n",
              "      <td>Queens</td>\n",
              "      <td>New York</td>\n",
              "      <td>US</td>\n",
              "      <td>40.710881</td>\n",
              "      <td>-73.816847</td>\n",
              "      <td>Queens, New York, US</td>\n",
              "      <td>7/27/20</td>\n",
              "      <td>0</td>\n",
              "    </tr>\n",
              "    <tr>\n",
              "      <th>629861</th>\n",
              "      <td>84036081</td>\n",
              "      <td>US</td>\n",
              "      <td>USA</td>\n",
              "      <td>840</td>\n",
              "      <td>36081.0</td>\n",
              "      <td>Queens</td>\n",
              "      <td>New York</td>\n",
              "      <td>US</td>\n",
              "      <td>40.710881</td>\n",
              "      <td>-73.816847</td>\n",
              "      <td>Queens, New York, US</td>\n",
              "      <td>7/28/20</td>\n",
              "      <td>0</td>\n",
              "    </tr>\n",
              "    <tr>\n",
              "      <th>633201</th>\n",
              "      <td>84036081</td>\n",
              "      <td>US</td>\n",
              "      <td>USA</td>\n",
              "      <td>840</td>\n",
              "      <td>36081.0</td>\n",
              "      <td>Queens</td>\n",
              "      <td>New York</td>\n",
              "      <td>US</td>\n",
              "      <td>40.710881</td>\n",
              "      <td>-73.816847</td>\n",
              "      <td>Queens, New York, US</td>\n",
              "      <td>7/29/20</td>\n",
              "      <td>0</td>\n",
              "    </tr>\n",
              "    <tr>\n",
              "      <th>636541</th>\n",
              "      <td>84036081</td>\n",
              "      <td>US</td>\n",
              "      <td>USA</td>\n",
              "      <td>840</td>\n",
              "      <td>36081.0</td>\n",
              "      <td>Queens</td>\n",
              "      <td>New York</td>\n",
              "      <td>US</td>\n",
              "      <td>40.710881</td>\n",
              "      <td>-73.816847</td>\n",
              "      <td>Queens, New York, US</td>\n",
              "      <td>7/30/20</td>\n",
              "      <td>0</td>\n",
              "    </tr>\n",
              "    <tr>\n",
              "      <th>639881</th>\n",
              "      <td>84036081</td>\n",
              "      <td>US</td>\n",
              "      <td>USA</td>\n",
              "      <td>840</td>\n",
              "      <td>36081.0</td>\n",
              "      <td>Queens</td>\n",
              "      <td>New York</td>\n",
              "      <td>US</td>\n",
              "      <td>40.710881</td>\n",
              "      <td>-73.816847</td>\n",
              "      <td>Queens, New York, US</td>\n",
              "      <td>7/31/20</td>\n",
              "      <td>0</td>\n",
              "    </tr>\n",
              "    <tr>\n",
              "      <th>643221</th>\n",
              "      <td>84036081</td>\n",
              "      <td>US</td>\n",
              "      <td>USA</td>\n",
              "      <td>840</td>\n",
              "      <td>36081.0</td>\n",
              "      <td>Queens</td>\n",
              "      <td>New York</td>\n",
              "      <td>US</td>\n",
              "      <td>40.710881</td>\n",
              "      <td>-73.816847</td>\n",
              "      <td>Queens, New York, US</td>\n",
              "      <td>8/1/20</td>\n",
              "      <td>0</td>\n",
              "    </tr>\n",
              "    <tr>\n",
              "      <th>646561</th>\n",
              "      <td>84036081</td>\n",
              "      <td>US</td>\n",
              "      <td>USA</td>\n",
              "      <td>840</td>\n",
              "      <td>36081.0</td>\n",
              "      <td>Queens</td>\n",
              "      <td>New York</td>\n",
              "      <td>US</td>\n",
              "      <td>40.710881</td>\n",
              "      <td>-73.816847</td>\n",
              "      <td>Queens, New York, US</td>\n",
              "      <td>8/2/20</td>\n",
              "      <td>0</td>\n",
              "    </tr>\n",
              "    <tr>\n",
              "      <th>649901</th>\n",
              "      <td>84036081</td>\n",
              "      <td>US</td>\n",
              "      <td>USA</td>\n",
              "      <td>840</td>\n",
              "      <td>36081.0</td>\n",
              "      <td>Queens</td>\n",
              "      <td>New York</td>\n",
              "      <td>US</td>\n",
              "      <td>40.710881</td>\n",
              "      <td>-73.816847</td>\n",
              "      <td>Queens, New York, US</td>\n",
              "      <td>8/3/20</td>\n",
              "      <td>0</td>\n",
              "    </tr>\n",
              "    <tr>\n",
              "      <th>653241</th>\n",
              "      <td>84036081</td>\n",
              "      <td>US</td>\n",
              "      <td>USA</td>\n",
              "      <td>840</td>\n",
              "      <td>36081.0</td>\n",
              "      <td>Queens</td>\n",
              "      <td>New York</td>\n",
              "      <td>US</td>\n",
              "      <td>40.710881</td>\n",
              "      <td>-73.816847</td>\n",
              "      <td>Queens, New York, US</td>\n",
              "      <td>8/4/20</td>\n",
              "      <td>0</td>\n",
              "    </tr>\n",
              "    <tr>\n",
              "      <th>656581</th>\n",
              "      <td>84036081</td>\n",
              "      <td>US</td>\n",
              "      <td>USA</td>\n",
              "      <td>840</td>\n",
              "      <td>36081.0</td>\n",
              "      <td>Queens</td>\n",
              "      <td>New York</td>\n",
              "      <td>US</td>\n",
              "      <td>40.710881</td>\n",
              "      <td>-73.816847</td>\n",
              "      <td>Queens, New York, US</td>\n",
              "      <td>8/5/20</td>\n",
              "      <td>0</td>\n",
              "    </tr>\n",
              "    <tr>\n",
              "      <th>659921</th>\n",
              "      <td>84036081</td>\n",
              "      <td>US</td>\n",
              "      <td>USA</td>\n",
              "      <td>840</td>\n",
              "      <td>36081.0</td>\n",
              "      <td>Queens</td>\n",
              "      <td>New York</td>\n",
              "      <td>US</td>\n",
              "      <td>40.710881</td>\n",
              "      <td>-73.816847</td>\n",
              "      <td>Queens, New York, US</td>\n",
              "      <td>8/6/20</td>\n",
              "      <td>0</td>\n",
              "    </tr>\n",
              "    <tr>\n",
              "      <th>663261</th>\n",
              "      <td>84036081</td>\n",
              "      <td>US</td>\n",
              "      <td>USA</td>\n",
              "      <td>840</td>\n",
              "      <td>36081.0</td>\n",
              "      <td>Queens</td>\n",
              "      <td>New York</td>\n",
              "      <td>US</td>\n",
              "      <td>40.710881</td>\n",
              "      <td>-73.816847</td>\n",
              "      <td>Queens, New York, US</td>\n",
              "      <td>8/7/20</td>\n",
              "      <td>0</td>\n",
              "    </tr>\n",
              "    <tr>\n",
              "      <th>666601</th>\n",
              "      <td>84036081</td>\n",
              "      <td>US</td>\n",
              "      <td>USA</td>\n",
              "      <td>840</td>\n",
              "      <td>36081.0</td>\n",
              "      <td>Queens</td>\n",
              "      <td>New York</td>\n",
              "      <td>US</td>\n",
              "      <td>40.710881</td>\n",
              "      <td>-73.816847</td>\n",
              "      <td>Queens, New York, US</td>\n",
              "      <td>8/8/20</td>\n",
              "      <td>0</td>\n",
              "    </tr>\n",
              "    <tr>\n",
              "      <th>669941</th>\n",
              "      <td>84036081</td>\n",
              "      <td>US</td>\n",
              "      <td>USA</td>\n",
              "      <td>840</td>\n",
              "      <td>36081.0</td>\n",
              "      <td>Queens</td>\n",
              "      <td>New York</td>\n",
              "      <td>US</td>\n",
              "      <td>40.710881</td>\n",
              "      <td>-73.816847</td>\n",
              "      <td>Queens, New York, US</td>\n",
              "      <td>8/9/20</td>\n",
              "      <td>0</td>\n",
              "    </tr>\n",
              "    <tr>\n",
              "      <th>673281</th>\n",
              "      <td>84036081</td>\n",
              "      <td>US</td>\n",
              "      <td>USA</td>\n",
              "      <td>840</td>\n",
              "      <td>36081.0</td>\n",
              "      <td>Queens</td>\n",
              "      <td>New York</td>\n",
              "      <td>US</td>\n",
              "      <td>40.710881</td>\n",
              "      <td>-73.816847</td>\n",
              "      <td>Queens, New York, US</td>\n",
              "      <td>8/10/20</td>\n",
              "      <td>0</td>\n",
              "    </tr>\n",
              "    <tr>\n",
              "      <th>676621</th>\n",
              "      <td>84036081</td>\n",
              "      <td>US</td>\n",
              "      <td>USA</td>\n",
              "      <td>840</td>\n",
              "      <td>36081.0</td>\n",
              "      <td>Queens</td>\n",
              "      <td>New York</td>\n",
              "      <td>US</td>\n",
              "      <td>40.710881</td>\n",
              "      <td>-73.816847</td>\n",
              "      <td>Queens, New York, US</td>\n",
              "      <td>8/11/20</td>\n",
              "      <td>0</td>\n",
              "    </tr>\n",
              "    <tr>\n",
              "      <th>679961</th>\n",
              "      <td>84036081</td>\n",
              "      <td>US</td>\n",
              "      <td>USA</td>\n",
              "      <td>840</td>\n",
              "      <td>36081.0</td>\n",
              "      <td>Queens</td>\n",
              "      <td>New York</td>\n",
              "      <td>US</td>\n",
              "      <td>40.710881</td>\n",
              "      <td>-73.816847</td>\n",
              "      <td>Queens, New York, US</td>\n",
              "      <td>8/12/20</td>\n",
              "      <td>0</td>\n",
              "    </tr>\n",
              "    <tr>\n",
              "      <th>683301</th>\n",
              "      <td>84036081</td>\n",
              "      <td>US</td>\n",
              "      <td>USA</td>\n",
              "      <td>840</td>\n",
              "      <td>36081.0</td>\n",
              "      <td>Queens</td>\n",
              "      <td>New York</td>\n",
              "      <td>US</td>\n",
              "      <td>40.710881</td>\n",
              "      <td>-73.816847</td>\n",
              "      <td>Queens, New York, US</td>\n",
              "      <td>8/13/20</td>\n",
              "      <td>0</td>\n",
              "    </tr>\n",
              "    <tr>\n",
              "      <th>686641</th>\n",
              "      <td>84036081</td>\n",
              "      <td>US</td>\n",
              "      <td>USA</td>\n",
              "      <td>840</td>\n",
              "      <td>36081.0</td>\n",
              "      <td>Queens</td>\n",
              "      <td>New York</td>\n",
              "      <td>US</td>\n",
              "      <td>40.710881</td>\n",
              "      <td>-73.816847</td>\n",
              "      <td>Queens, New York, US</td>\n",
              "      <td>8/14/20</td>\n",
              "      <td>0</td>\n",
              "    </tr>\n",
              "    <tr>\n",
              "      <th>689981</th>\n",
              "      <td>84036081</td>\n",
              "      <td>US</td>\n",
              "      <td>USA</td>\n",
              "      <td>840</td>\n",
              "      <td>36081.0</td>\n",
              "      <td>Queens</td>\n",
              "      <td>New York</td>\n",
              "      <td>US</td>\n",
              "      <td>40.710881</td>\n",
              "      <td>-73.816847</td>\n",
              "      <td>Queens, New York, US</td>\n",
              "      <td>8/15/20</td>\n",
              "      <td>0</td>\n",
              "    </tr>\n",
              "    <tr>\n",
              "      <th>693321</th>\n",
              "      <td>84036081</td>\n",
              "      <td>US</td>\n",
              "      <td>USA</td>\n",
              "      <td>840</td>\n",
              "      <td>36081.0</td>\n",
              "      <td>Queens</td>\n",
              "      <td>New York</td>\n",
              "      <td>US</td>\n",
              "      <td>40.710881</td>\n",
              "      <td>-73.816847</td>\n",
              "      <td>Queens, New York, US</td>\n",
              "      <td>8/16/20</td>\n",
              "      <td>0</td>\n",
              "    </tr>\n",
              "    <tr>\n",
              "      <th>696661</th>\n",
              "      <td>84036081</td>\n",
              "      <td>US</td>\n",
              "      <td>USA</td>\n",
              "      <td>840</td>\n",
              "      <td>36081.0</td>\n",
              "      <td>Queens</td>\n",
              "      <td>New York</td>\n",
              "      <td>US</td>\n",
              "      <td>40.710881</td>\n",
              "      <td>-73.816847</td>\n",
              "      <td>Queens, New York, US</td>\n",
              "      <td>8/17/20</td>\n",
              "      <td>0</td>\n",
              "    </tr>\n",
              "    <tr>\n",
              "      <th>700001</th>\n",
              "      <td>84036081</td>\n",
              "      <td>US</td>\n",
              "      <td>USA</td>\n",
              "      <td>840</td>\n",
              "      <td>36081.0</td>\n",
              "      <td>Queens</td>\n",
              "      <td>New York</td>\n",
              "      <td>US</td>\n",
              "      <td>40.710881</td>\n",
              "      <td>-73.816847</td>\n",
              "      <td>Queens, New York, US</td>\n",
              "      <td>8/18/20</td>\n",
              "      <td>0</td>\n",
              "    </tr>\n",
              "    <tr>\n",
              "      <th>703341</th>\n",
              "      <td>84036081</td>\n",
              "      <td>US</td>\n",
              "      <td>USA</td>\n",
              "      <td>840</td>\n",
              "      <td>36081.0</td>\n",
              "      <td>Queens</td>\n",
              "      <td>New York</td>\n",
              "      <td>US</td>\n",
              "      <td>40.710881</td>\n",
              "      <td>-73.816847</td>\n",
              "      <td>Queens, New York, US</td>\n",
              "      <td>8/19/20</td>\n",
              "      <td>0</td>\n",
              "    </tr>\n",
              "    <tr>\n",
              "      <th>706681</th>\n",
              "      <td>84036081</td>\n",
              "      <td>US</td>\n",
              "      <td>USA</td>\n",
              "      <td>840</td>\n",
              "      <td>36081.0</td>\n",
              "      <td>Queens</td>\n",
              "      <td>New York</td>\n",
              "      <td>US</td>\n",
              "      <td>40.710881</td>\n",
              "      <td>-73.816847</td>\n",
              "      <td>Queens, New York, US</td>\n",
              "      <td>8/20/20</td>\n",
              "      <td>0</td>\n",
              "    </tr>\n",
              "    <tr>\n",
              "      <th>710021</th>\n",
              "      <td>84036081</td>\n",
              "      <td>US</td>\n",
              "      <td>USA</td>\n",
              "      <td>840</td>\n",
              "      <td>36081.0</td>\n",
              "      <td>Queens</td>\n",
              "      <td>New York</td>\n",
              "      <td>US</td>\n",
              "      <td>40.710881</td>\n",
              "      <td>-73.816847</td>\n",
              "      <td>Queens, New York, US</td>\n",
              "      <td>8/21/20</td>\n",
              "      <td>0</td>\n",
              "    </tr>\n",
              "  </tbody>\n",
              "</table>\n",
              "</div>"
            ],
            "text/plain": [
              "             UID iso2 iso3  ...          Combined_Key     Date Confirmed\n",
              "613161  84036081   US  USA  ...  Queens, New York, US  7/23/20         0\n",
              "616501  84036081   US  USA  ...  Queens, New York, US  7/24/20         0\n",
              "619841  84036081   US  USA  ...  Queens, New York, US  7/25/20         0\n",
              "623181  84036081   US  USA  ...  Queens, New York, US  7/26/20         0\n",
              "626521  84036081   US  USA  ...  Queens, New York, US  7/27/20         0\n",
              "629861  84036081   US  USA  ...  Queens, New York, US  7/28/20         0\n",
              "633201  84036081   US  USA  ...  Queens, New York, US  7/29/20         0\n",
              "636541  84036081   US  USA  ...  Queens, New York, US  7/30/20         0\n",
              "639881  84036081   US  USA  ...  Queens, New York, US  7/31/20         0\n",
              "643221  84036081   US  USA  ...  Queens, New York, US   8/1/20         0\n",
              "646561  84036081   US  USA  ...  Queens, New York, US   8/2/20         0\n",
              "649901  84036081   US  USA  ...  Queens, New York, US   8/3/20         0\n",
              "653241  84036081   US  USA  ...  Queens, New York, US   8/4/20         0\n",
              "656581  84036081   US  USA  ...  Queens, New York, US   8/5/20         0\n",
              "659921  84036081   US  USA  ...  Queens, New York, US   8/6/20         0\n",
              "663261  84036081   US  USA  ...  Queens, New York, US   8/7/20         0\n",
              "666601  84036081   US  USA  ...  Queens, New York, US   8/8/20         0\n",
              "669941  84036081   US  USA  ...  Queens, New York, US   8/9/20         0\n",
              "673281  84036081   US  USA  ...  Queens, New York, US  8/10/20         0\n",
              "676621  84036081   US  USA  ...  Queens, New York, US  8/11/20         0\n",
              "679961  84036081   US  USA  ...  Queens, New York, US  8/12/20         0\n",
              "683301  84036081   US  USA  ...  Queens, New York, US  8/13/20         0\n",
              "686641  84036081   US  USA  ...  Queens, New York, US  8/14/20         0\n",
              "689981  84036081   US  USA  ...  Queens, New York, US  8/15/20         0\n",
              "693321  84036081   US  USA  ...  Queens, New York, US  8/16/20         0\n",
              "696661  84036081   US  USA  ...  Queens, New York, US  8/17/20         0\n",
              "700001  84036081   US  USA  ...  Queens, New York, US  8/18/20         0\n",
              "703341  84036081   US  USA  ...  Queens, New York, US  8/19/20         0\n",
              "706681  84036081   US  USA  ...  Queens, New York, US  8/20/20         0\n",
              "710021  84036081   US  USA  ...  Queens, New York, US  8/21/20         0\n",
              "\n",
              "[30 rows x 13 columns]"
            ]
          },
          "metadata": {
            "tags": []
          },
          "execution_count": 21
        }
      ]
    },
    {
      "cell_type": "code",
      "metadata": {
        "id": "pMhFo-6S4v9D",
        "colab_type": "code",
        "colab": {
          "base_uri": "https://localhost:8080/",
          "height": 549
        },
        "outputId": "ec406664-375f-4a17-badc-1ebab3bee9e4"
      },
      "source": [
        "death_df_long.tail(10)"
      ],
      "execution_count": 22,
      "outputs": [
        {
          "output_type": "execute_result",
          "data": {
            "text/html": [
              "<div>\n",
              "<style scoped>\n",
              "    .dataframe tbody tr th:only-of-type {\n",
              "        vertical-align: middle;\n",
              "    }\n",
              "\n",
              "    .dataframe tbody tr th {\n",
              "        vertical-align: top;\n",
              "    }\n",
              "\n",
              "    .dataframe thead th {\n",
              "        text-align: right;\n",
              "    }\n",
              "</style>\n",
              "<table border=\"1\" class=\"dataframe\">\n",
              "  <thead>\n",
              "    <tr style=\"text-align: right;\">\n",
              "      <th></th>\n",
              "      <th>UID</th>\n",
              "      <th>iso2</th>\n",
              "      <th>iso3</th>\n",
              "      <th>code3</th>\n",
              "      <th>FIPS</th>\n",
              "      <th>Admin2</th>\n",
              "      <th>Province_State</th>\n",
              "      <th>Country_Region</th>\n",
              "      <th>Lat</th>\n",
              "      <th>Long_</th>\n",
              "      <th>Combined_Key</th>\n",
              "      <th>Population</th>\n",
              "      <th>Date</th>\n",
              "      <th>Deaths</th>\n",
              "    </tr>\n",
              "  </thead>\n",
              "  <tbody>\n",
              "    <tr>\n",
              "      <th>711410</th>\n",
              "      <td>84056029</td>\n",
              "      <td>US</td>\n",
              "      <td>USA</td>\n",
              "      <td>840</td>\n",
              "      <td>56029.0</td>\n",
              "      <td>Park</td>\n",
              "      <td>Wyoming</td>\n",
              "      <td>US</td>\n",
              "      <td>44.521575</td>\n",
              "      <td>-109.585283</td>\n",
              "      <td>Park, Wyoming, US</td>\n",
              "      <td>29194</td>\n",
              "      <td>8/21/20</td>\n",
              "      <td>0</td>\n",
              "    </tr>\n",
              "    <tr>\n",
              "      <th>711411</th>\n",
              "      <td>84056031</td>\n",
              "      <td>US</td>\n",
              "      <td>USA</td>\n",
              "      <td>840</td>\n",
              "      <td>56031.0</td>\n",
              "      <td>Platte</td>\n",
              "      <td>Wyoming</td>\n",
              "      <td>US</td>\n",
              "      <td>42.132991</td>\n",
              "      <td>-104.966331</td>\n",
              "      <td>Platte, Wyoming, US</td>\n",
              "      <td>8393</td>\n",
              "      <td>8/21/20</td>\n",
              "      <td>0</td>\n",
              "    </tr>\n",
              "    <tr>\n",
              "      <th>711412</th>\n",
              "      <td>84056033</td>\n",
              "      <td>US</td>\n",
              "      <td>USA</td>\n",
              "      <td>840</td>\n",
              "      <td>56033.0</td>\n",
              "      <td>Sheridan</td>\n",
              "      <td>Wyoming</td>\n",
              "      <td>US</td>\n",
              "      <td>44.790489</td>\n",
              "      <td>-106.886239</td>\n",
              "      <td>Sheridan, Wyoming, US</td>\n",
              "      <td>30485</td>\n",
              "      <td>8/21/20</td>\n",
              "      <td>0</td>\n",
              "    </tr>\n",
              "    <tr>\n",
              "      <th>711413</th>\n",
              "      <td>84056035</td>\n",
              "      <td>US</td>\n",
              "      <td>USA</td>\n",
              "      <td>840</td>\n",
              "      <td>56035.0</td>\n",
              "      <td>Sublette</td>\n",
              "      <td>Wyoming</td>\n",
              "      <td>US</td>\n",
              "      <td>42.765583</td>\n",
              "      <td>-109.913092</td>\n",
              "      <td>Sublette, Wyoming, US</td>\n",
              "      <td>9831</td>\n",
              "      <td>8/21/20</td>\n",
              "      <td>0</td>\n",
              "    </tr>\n",
              "    <tr>\n",
              "      <th>711414</th>\n",
              "      <td>84056037</td>\n",
              "      <td>US</td>\n",
              "      <td>USA</td>\n",
              "      <td>840</td>\n",
              "      <td>56037.0</td>\n",
              "      <td>Sweetwater</td>\n",
              "      <td>Wyoming</td>\n",
              "      <td>US</td>\n",
              "      <td>41.659439</td>\n",
              "      <td>-108.882788</td>\n",
              "      <td>Sweetwater, Wyoming, US</td>\n",
              "      <td>42343</td>\n",
              "      <td>8/21/20</td>\n",
              "      <td>0</td>\n",
              "    </tr>\n",
              "    <tr>\n",
              "      <th>711415</th>\n",
              "      <td>84056039</td>\n",
              "      <td>US</td>\n",
              "      <td>USA</td>\n",
              "      <td>840</td>\n",
              "      <td>56039.0</td>\n",
              "      <td>Teton</td>\n",
              "      <td>Wyoming</td>\n",
              "      <td>US</td>\n",
              "      <td>43.935225</td>\n",
              "      <td>-110.589080</td>\n",
              "      <td>Teton, Wyoming, US</td>\n",
              "      <td>23464</td>\n",
              "      <td>8/21/20</td>\n",
              "      <td>0</td>\n",
              "    </tr>\n",
              "    <tr>\n",
              "      <th>711416</th>\n",
              "      <td>84056041</td>\n",
              "      <td>US</td>\n",
              "      <td>USA</td>\n",
              "      <td>840</td>\n",
              "      <td>56041.0</td>\n",
              "      <td>Uinta</td>\n",
              "      <td>Wyoming</td>\n",
              "      <td>US</td>\n",
              "      <td>41.287818</td>\n",
              "      <td>-110.547578</td>\n",
              "      <td>Uinta, Wyoming, US</td>\n",
              "      <td>20226</td>\n",
              "      <td>8/21/20</td>\n",
              "      <td>0</td>\n",
              "    </tr>\n",
              "    <tr>\n",
              "      <th>711417</th>\n",
              "      <td>84090056</td>\n",
              "      <td>US</td>\n",
              "      <td>USA</td>\n",
              "      <td>840</td>\n",
              "      <td>90056.0</td>\n",
              "      <td>Unassigned</td>\n",
              "      <td>Wyoming</td>\n",
              "      <td>US</td>\n",
              "      <td>0.000000</td>\n",
              "      <td>0.000000</td>\n",
              "      <td>Unassigned, Wyoming, US</td>\n",
              "      <td>0</td>\n",
              "      <td>8/21/20</td>\n",
              "      <td>36</td>\n",
              "    </tr>\n",
              "    <tr>\n",
              "      <th>711418</th>\n",
              "      <td>84056043</td>\n",
              "      <td>US</td>\n",
              "      <td>USA</td>\n",
              "      <td>840</td>\n",
              "      <td>56043.0</td>\n",
              "      <td>Washakie</td>\n",
              "      <td>Wyoming</td>\n",
              "      <td>US</td>\n",
              "      <td>43.904516</td>\n",
              "      <td>-107.680187</td>\n",
              "      <td>Washakie, Wyoming, US</td>\n",
              "      <td>7805</td>\n",
              "      <td>8/21/20</td>\n",
              "      <td>0</td>\n",
              "    </tr>\n",
              "    <tr>\n",
              "      <th>711419</th>\n",
              "      <td>84056045</td>\n",
              "      <td>US</td>\n",
              "      <td>USA</td>\n",
              "      <td>840</td>\n",
              "      <td>56045.0</td>\n",
              "      <td>Weston</td>\n",
              "      <td>Wyoming</td>\n",
              "      <td>US</td>\n",
              "      <td>43.839612</td>\n",
              "      <td>-104.567488</td>\n",
              "      <td>Weston, Wyoming, US</td>\n",
              "      <td>6927</td>\n",
              "      <td>8/21/20</td>\n",
              "      <td>0</td>\n",
              "    </tr>\n",
              "  </tbody>\n",
              "</table>\n",
              "</div>"
            ],
            "text/plain": [
              "             UID iso2 iso3  ...  Population     Date Deaths\n",
              "711410  84056029   US  USA  ...       29194  8/21/20      0\n",
              "711411  84056031   US  USA  ...        8393  8/21/20      0\n",
              "711412  84056033   US  USA  ...       30485  8/21/20      0\n",
              "711413  84056035   US  USA  ...        9831  8/21/20      0\n",
              "711414  84056037   US  USA  ...       42343  8/21/20      0\n",
              "711415  84056039   US  USA  ...       23464  8/21/20      0\n",
              "711416  84056041   US  USA  ...       20226  8/21/20      0\n",
              "711417  84090056   US  USA  ...           0  8/21/20     36\n",
              "711418  84056043   US  USA  ...        7805  8/21/20      0\n",
              "711419  84056045   US  USA  ...        6927  8/21/20      0\n",
              "\n",
              "[10 rows x 14 columns]"
            ]
          },
          "metadata": {
            "tags": []
          },
          "execution_count": 22
        }
      ]
    },
    {
      "cell_type": "markdown",
      "metadata": {
        "id": "g9mtjPgr6Npu",
        "colab_type": "text"
      },
      "source": [
        "## Check California-New York data"
      ]
    },
    {
      "cell_type": "code",
      "metadata": {
        "id": "nDaNNgfV4v6Q",
        "colab_type": "code",
        "colab": {
          "base_uri": "https://localhost:8080/",
          "height": 309
        },
        "outputId": "106d745d-3801-49ac-a8bc-2010b030ad6a"
      },
      "source": [
        "state= ['California','New York']\n",
        "confirmed_CA_df = confirmed_df_long[confirmed_df_long['Province_State'].isin(state)]\n",
        "confirmed_CA_df.tail(5)"
      ],
      "execution_count": 23,
      "outputs": [
        {
          "output_type": "execute_result",
          "data": {
            "text/html": [
              "<div>\n",
              "<style scoped>\n",
              "    .dataframe tbody tr th:only-of-type {\n",
              "        vertical-align: middle;\n",
              "    }\n",
              "\n",
              "    .dataframe tbody tr th {\n",
              "        vertical-align: top;\n",
              "    }\n",
              "\n",
              "    .dataframe thead th {\n",
              "        text-align: right;\n",
              "    }\n",
              "</style>\n",
              "<table border=\"1\" class=\"dataframe\">\n",
              "  <thead>\n",
              "    <tr style=\"text-align: right;\">\n",
              "      <th></th>\n",
              "      <th>UID</th>\n",
              "      <th>iso2</th>\n",
              "      <th>iso3</th>\n",
              "      <th>code3</th>\n",
              "      <th>FIPS</th>\n",
              "      <th>Admin2</th>\n",
              "      <th>Province_State</th>\n",
              "      <th>Country_Region</th>\n",
              "      <th>Lat</th>\n",
              "      <th>Long_</th>\n",
              "      <th>Combined_Key</th>\n",
              "      <th>Date</th>\n",
              "      <th>Confirmed</th>\n",
              "    </tr>\n",
              "  </thead>\n",
              "  <tbody>\n",
              "    <tr>\n",
              "      <th>710039</th>\n",
              "      <td>84036115</td>\n",
              "      <td>US</td>\n",
              "      <td>USA</td>\n",
              "      <td>840</td>\n",
              "      <td>36115.0</td>\n",
              "      <td>Washington</td>\n",
              "      <td>New York</td>\n",
              "      <td>US</td>\n",
              "      <td>43.311538</td>\n",
              "      <td>-73.430434</td>\n",
              "      <td>Washington, New York, US</td>\n",
              "      <td>8/21/20</td>\n",
              "      <td>264</td>\n",
              "    </tr>\n",
              "    <tr>\n",
              "      <th>710040</th>\n",
              "      <td>84036117</td>\n",
              "      <td>US</td>\n",
              "      <td>USA</td>\n",
              "      <td>840</td>\n",
              "      <td>36117.0</td>\n",
              "      <td>Wayne</td>\n",
              "      <td>New York</td>\n",
              "      <td>US</td>\n",
              "      <td>43.154944</td>\n",
              "      <td>-77.029765</td>\n",
              "      <td>Wayne, New York, US</td>\n",
              "      <td>8/21/20</td>\n",
              "      <td>272</td>\n",
              "    </tr>\n",
              "    <tr>\n",
              "      <th>710041</th>\n",
              "      <td>84036119</td>\n",
              "      <td>US</td>\n",
              "      <td>USA</td>\n",
              "      <td>840</td>\n",
              "      <td>36119.0</td>\n",
              "      <td>Westchester</td>\n",
              "      <td>New York</td>\n",
              "      <td>US</td>\n",
              "      <td>41.162784</td>\n",
              "      <td>-73.757417</td>\n",
              "      <td>Westchester, New York, US</td>\n",
              "      <td>8/21/20</td>\n",
              "      <td>36621</td>\n",
              "    </tr>\n",
              "    <tr>\n",
              "      <th>710042</th>\n",
              "      <td>84036121</td>\n",
              "      <td>US</td>\n",
              "      <td>USA</td>\n",
              "      <td>840</td>\n",
              "      <td>36121.0</td>\n",
              "      <td>Wyoming</td>\n",
              "      <td>New York</td>\n",
              "      <td>US</td>\n",
              "      <td>42.701451</td>\n",
              "      <td>-78.221996</td>\n",
              "      <td>Wyoming, New York, US</td>\n",
              "      <td>8/21/20</td>\n",
              "      <td>121</td>\n",
              "    </tr>\n",
              "    <tr>\n",
              "      <th>710043</th>\n",
              "      <td>84036123</td>\n",
              "      <td>US</td>\n",
              "      <td>USA</td>\n",
              "      <td>840</td>\n",
              "      <td>36123.0</td>\n",
              "      <td>Yates</td>\n",
              "      <td>New York</td>\n",
              "      <td>US</td>\n",
              "      <td>42.635055</td>\n",
              "      <td>-77.103699</td>\n",
              "      <td>Yates, New York, US</td>\n",
              "      <td>8/21/20</td>\n",
              "      <td>59</td>\n",
              "    </tr>\n",
              "  </tbody>\n",
              "</table>\n",
              "</div>"
            ],
            "text/plain": [
              "             UID iso2 iso3  ...               Combined_Key     Date Confirmed\n",
              "710039  84036115   US  USA  ...   Washington, New York, US  8/21/20       264\n",
              "710040  84036117   US  USA  ...        Wayne, New York, US  8/21/20       272\n",
              "710041  84036119   US  USA  ...  Westchester, New York, US  8/21/20     36621\n",
              "710042  84036121   US  USA  ...      Wyoming, New York, US  8/21/20       121\n",
              "710043  84036123   US  USA  ...        Yates, New York, US  8/21/20        59\n",
              "\n",
              "[5 rows x 13 columns]"
            ]
          },
          "metadata": {
            "tags": []
          },
          "execution_count": 23
        }
      ]
    },
    {
      "cell_type": "code",
      "metadata": {
        "id": "TAkNMnrg6dfn",
        "colab_type": "code",
        "colab": {
          "base_uri": "https://localhost:8080/",
          "height": 34
        },
        "outputId": "a3cc05e4-9b56-41fe-8319-aa2175ef4799"
      },
      "source": [
        "confirmed_CA_df.Province_State.unique()"
      ],
      "execution_count": 24,
      "outputs": [
        {
          "output_type": "execute_result",
          "data": {
            "text/plain": [
              "array(['California', 'New York'], dtype=object)"
            ]
          },
          "metadata": {
            "tags": []
          },
          "execution_count": 24
        }
      ]
    },
    {
      "cell_type": "markdown",
      "metadata": {
        "id": "qVKk5oHB6kH2",
        "colab_type": "text"
      },
      "source": [
        "## Merging Confirmed and Death data"
      ]
    },
    {
      "cell_type": "code",
      "metadata": {
        "id": "vmW7r2mT4v3k",
        "colab_type": "code",
        "colab": {
          "base_uri": "https://localhost:8080/",
          "height": 549
        },
        "outputId": "13926ba7-da03-4a4f-b476-7ffe92cdb658"
      },
      "source": [
        "full_table = confirmed_df_long.merge(\n",
        "    right=death_df_long,\n",
        "    how='left',\n",
        "    on=[ 'UID', 'iso2', 'iso3', 'code3', 'FIPS', 'Admin2', 'Province_State',\n",
        "       'Country_Region', 'Lat', 'Long_', 'Combined_Key','Date']\n",
        ")\n",
        "\n",
        "full_table.head(10)"
      ],
      "execution_count": 25,
      "outputs": [
        {
          "output_type": "execute_result",
          "data": {
            "text/html": [
              "<div>\n",
              "<style scoped>\n",
              "    .dataframe tbody tr th:only-of-type {\n",
              "        vertical-align: middle;\n",
              "    }\n",
              "\n",
              "    .dataframe tbody tr th {\n",
              "        vertical-align: top;\n",
              "    }\n",
              "\n",
              "    .dataframe thead th {\n",
              "        text-align: right;\n",
              "    }\n",
              "</style>\n",
              "<table border=\"1\" class=\"dataframe\">\n",
              "  <thead>\n",
              "    <tr style=\"text-align: right;\">\n",
              "      <th></th>\n",
              "      <th>UID</th>\n",
              "      <th>iso2</th>\n",
              "      <th>iso3</th>\n",
              "      <th>code3</th>\n",
              "      <th>FIPS</th>\n",
              "      <th>Admin2</th>\n",
              "      <th>Province_State</th>\n",
              "      <th>Country_Region</th>\n",
              "      <th>Lat</th>\n",
              "      <th>Long_</th>\n",
              "      <th>Combined_Key</th>\n",
              "      <th>Date</th>\n",
              "      <th>Confirmed</th>\n",
              "      <th>Population</th>\n",
              "      <th>Deaths</th>\n",
              "    </tr>\n",
              "  </thead>\n",
              "  <tbody>\n",
              "    <tr>\n",
              "      <th>0</th>\n",
              "      <td>84001001</td>\n",
              "      <td>US</td>\n",
              "      <td>USA</td>\n",
              "      <td>840</td>\n",
              "      <td>1001.0</td>\n",
              "      <td>Autauga</td>\n",
              "      <td>Alabama</td>\n",
              "      <td>US</td>\n",
              "      <td>32.539527</td>\n",
              "      <td>-86.644082</td>\n",
              "      <td>Autauga, Alabama, US</td>\n",
              "      <td>1/22/20</td>\n",
              "      <td>0</td>\n",
              "      <td>55869</td>\n",
              "      <td>0</td>\n",
              "    </tr>\n",
              "    <tr>\n",
              "      <th>1</th>\n",
              "      <td>84001003</td>\n",
              "      <td>US</td>\n",
              "      <td>USA</td>\n",
              "      <td>840</td>\n",
              "      <td>1003.0</td>\n",
              "      <td>Baldwin</td>\n",
              "      <td>Alabama</td>\n",
              "      <td>US</td>\n",
              "      <td>30.727750</td>\n",
              "      <td>-87.722071</td>\n",
              "      <td>Baldwin, Alabama, US</td>\n",
              "      <td>1/22/20</td>\n",
              "      <td>0</td>\n",
              "      <td>223234</td>\n",
              "      <td>0</td>\n",
              "    </tr>\n",
              "    <tr>\n",
              "      <th>2</th>\n",
              "      <td>84001005</td>\n",
              "      <td>US</td>\n",
              "      <td>USA</td>\n",
              "      <td>840</td>\n",
              "      <td>1005.0</td>\n",
              "      <td>Barbour</td>\n",
              "      <td>Alabama</td>\n",
              "      <td>US</td>\n",
              "      <td>31.868263</td>\n",
              "      <td>-85.387129</td>\n",
              "      <td>Barbour, Alabama, US</td>\n",
              "      <td>1/22/20</td>\n",
              "      <td>0</td>\n",
              "      <td>24686</td>\n",
              "      <td>0</td>\n",
              "    </tr>\n",
              "    <tr>\n",
              "      <th>3</th>\n",
              "      <td>84001007</td>\n",
              "      <td>US</td>\n",
              "      <td>USA</td>\n",
              "      <td>840</td>\n",
              "      <td>1007.0</td>\n",
              "      <td>Bibb</td>\n",
              "      <td>Alabama</td>\n",
              "      <td>US</td>\n",
              "      <td>32.996421</td>\n",
              "      <td>-87.125115</td>\n",
              "      <td>Bibb, Alabama, US</td>\n",
              "      <td>1/22/20</td>\n",
              "      <td>0</td>\n",
              "      <td>22394</td>\n",
              "      <td>0</td>\n",
              "    </tr>\n",
              "    <tr>\n",
              "      <th>4</th>\n",
              "      <td>84001009</td>\n",
              "      <td>US</td>\n",
              "      <td>USA</td>\n",
              "      <td>840</td>\n",
              "      <td>1009.0</td>\n",
              "      <td>Blount</td>\n",
              "      <td>Alabama</td>\n",
              "      <td>US</td>\n",
              "      <td>33.982109</td>\n",
              "      <td>-86.567906</td>\n",
              "      <td>Blount, Alabama, US</td>\n",
              "      <td>1/22/20</td>\n",
              "      <td>0</td>\n",
              "      <td>57826</td>\n",
              "      <td>0</td>\n",
              "    </tr>\n",
              "    <tr>\n",
              "      <th>5</th>\n",
              "      <td>84001011</td>\n",
              "      <td>US</td>\n",
              "      <td>USA</td>\n",
              "      <td>840</td>\n",
              "      <td>1011.0</td>\n",
              "      <td>Bullock</td>\n",
              "      <td>Alabama</td>\n",
              "      <td>US</td>\n",
              "      <td>32.100305</td>\n",
              "      <td>-85.712655</td>\n",
              "      <td>Bullock, Alabama, US</td>\n",
              "      <td>1/22/20</td>\n",
              "      <td>0</td>\n",
              "      <td>10101</td>\n",
              "      <td>0</td>\n",
              "    </tr>\n",
              "    <tr>\n",
              "      <th>6</th>\n",
              "      <td>84001013</td>\n",
              "      <td>US</td>\n",
              "      <td>USA</td>\n",
              "      <td>840</td>\n",
              "      <td>1013.0</td>\n",
              "      <td>Butler</td>\n",
              "      <td>Alabama</td>\n",
              "      <td>US</td>\n",
              "      <td>31.753001</td>\n",
              "      <td>-86.680575</td>\n",
              "      <td>Butler, Alabama, US</td>\n",
              "      <td>1/22/20</td>\n",
              "      <td>0</td>\n",
              "      <td>19448</td>\n",
              "      <td>0</td>\n",
              "    </tr>\n",
              "    <tr>\n",
              "      <th>7</th>\n",
              "      <td>84001015</td>\n",
              "      <td>US</td>\n",
              "      <td>USA</td>\n",
              "      <td>840</td>\n",
              "      <td>1015.0</td>\n",
              "      <td>Calhoun</td>\n",
              "      <td>Alabama</td>\n",
              "      <td>US</td>\n",
              "      <td>33.774837</td>\n",
              "      <td>-85.826304</td>\n",
              "      <td>Calhoun, Alabama, US</td>\n",
              "      <td>1/22/20</td>\n",
              "      <td>0</td>\n",
              "      <td>113605</td>\n",
              "      <td>0</td>\n",
              "    </tr>\n",
              "    <tr>\n",
              "      <th>8</th>\n",
              "      <td>84001017</td>\n",
              "      <td>US</td>\n",
              "      <td>USA</td>\n",
              "      <td>840</td>\n",
              "      <td>1017.0</td>\n",
              "      <td>Chambers</td>\n",
              "      <td>Alabama</td>\n",
              "      <td>US</td>\n",
              "      <td>32.913601</td>\n",
              "      <td>-85.390727</td>\n",
              "      <td>Chambers, Alabama, US</td>\n",
              "      <td>1/22/20</td>\n",
              "      <td>0</td>\n",
              "      <td>33254</td>\n",
              "      <td>0</td>\n",
              "    </tr>\n",
              "    <tr>\n",
              "      <th>9</th>\n",
              "      <td>84001019</td>\n",
              "      <td>US</td>\n",
              "      <td>USA</td>\n",
              "      <td>840</td>\n",
              "      <td>1019.0</td>\n",
              "      <td>Cherokee</td>\n",
              "      <td>Alabama</td>\n",
              "      <td>US</td>\n",
              "      <td>34.178060</td>\n",
              "      <td>-85.606390</td>\n",
              "      <td>Cherokee, Alabama, US</td>\n",
              "      <td>1/22/20</td>\n",
              "      <td>0</td>\n",
              "      <td>26196</td>\n",
              "      <td>0</td>\n",
              "    </tr>\n",
              "  </tbody>\n",
              "</table>\n",
              "</div>"
            ],
            "text/plain": [
              "        UID iso2 iso3  code3  ...     Date Confirmed Population Deaths\n",
              "0  84001001   US  USA    840  ...  1/22/20         0      55869      0\n",
              "1  84001003   US  USA    840  ...  1/22/20         0     223234      0\n",
              "2  84001005   US  USA    840  ...  1/22/20         0      24686      0\n",
              "3  84001007   US  USA    840  ...  1/22/20         0      22394      0\n",
              "4  84001009   US  USA    840  ...  1/22/20         0      57826      0\n",
              "5  84001011   US  USA    840  ...  1/22/20         0      10101      0\n",
              "6  84001013   US  USA    840  ...  1/22/20         0      19448      0\n",
              "7  84001015   US  USA    840  ...  1/22/20         0     113605      0\n",
              "8  84001017   US  USA    840  ...  1/22/20         0      33254      0\n",
              "9  84001019   US  USA    840  ...  1/22/20         0      26196      0\n",
              "\n",
              "[10 rows x 15 columns]"
            ]
          },
          "metadata": {
            "tags": []
          },
          "execution_count": 25
        }
      ]
    },
    {
      "cell_type": "code",
      "metadata": {
        "id": "tl_kc1Dy4vxc",
        "colab_type": "code",
        "colab": {}
      },
      "source": [
        "#full_table['Date'] = pd.to_datetime(full_table['Date'])\n"
      ],
      "execution_count": 26,
      "outputs": []
    },
    {
      "cell_type": "code",
      "metadata": {
        "id": "IGsPX5xY-FwZ",
        "colab_type": "code",
        "colab": {}
      },
      "source": [
        "ship_data = full_table['Province_State'].str.contains('Grand Princess') | full_table['Province_State'].str.contains('Diamond Princess') | full_table['Province_State'].str.contains('Northern Mariana Islands') | full_table['Province_State'].str.contains('American Samoa') |full_table['Province_State'].str.contains('Guam') | full_table['Province_State'].str.contains('Virgin Islands')\n",
        "\n",
        "full_ship = full_table[ship_data]\n"
      ],
      "execution_count": 27,
      "outputs": []
    },
    {
      "cell_type": "code",
      "metadata": {
        "id": "qX8IIjJkAGsQ",
        "colab_type": "code",
        "colab": {}
      },
      "source": [
        "# Removing ship data from State data\n",
        "\n",
        "full_table = full_table[~(ship_data)]"
      ],
      "execution_count": 28,
      "outputs": []
    },
    {
      "cell_type": "markdown",
      "metadata": {
        "id": "8bYhqhBUAa6J",
        "colab_type": "text"
      },
      "source": [
        "## Group data"
      ]
    },
    {
      "cell_type": "code",
      "metadata": {
        "id": "VMxboCIAAGqB",
        "colab_type": "code",
        "colab": {
          "base_uri": "https://localhost:8080/",
          "height": 204
        },
        "outputId": "176cda6e-46fe-4810-f1dc-50564322e9a8"
      },
      "source": [
        "full_grouped = full_table.groupby(['Date', 'Province_State','FIPS'])['Confirmed', 'Deaths'].sum().reset_index()\n",
        "\n",
        "full_grouped.tail(5)"
      ],
      "execution_count": 29,
      "outputs": [
        {
          "output_type": "execute_result",
          "data": {
            "text/html": [
              "<div>\n",
              "<style scoped>\n",
              "    .dataframe tbody tr th:only-of-type {\n",
              "        vertical-align: middle;\n",
              "    }\n",
              "\n",
              "    .dataframe tbody tr th {\n",
              "        vertical-align: top;\n",
              "    }\n",
              "\n",
              "    .dataframe thead th {\n",
              "        text-align: right;\n",
              "    }\n",
              "</style>\n",
              "<table border=\"1\" class=\"dataframe\">\n",
              "  <thead>\n",
              "    <tr style=\"text-align: right;\">\n",
              "      <th></th>\n",
              "      <th>Date</th>\n",
              "      <th>Province_State</th>\n",
              "      <th>FIPS</th>\n",
              "      <th>Confirmed</th>\n",
              "      <th>Deaths</th>\n",
              "    </tr>\n",
              "  </thead>\n",
              "  <tbody>\n",
              "    <tr>\n",
              "      <th>708007</th>\n",
              "      <td>8/9/20</td>\n",
              "      <td>Wyoming</td>\n",
              "      <td>56041.0</td>\n",
              "      <td>278</td>\n",
              "      <td>0</td>\n",
              "    </tr>\n",
              "    <tr>\n",
              "      <th>708008</th>\n",
              "      <td>8/9/20</td>\n",
              "      <td>Wyoming</td>\n",
              "      <td>56043.0</td>\n",
              "      <td>77</td>\n",
              "      <td>0</td>\n",
              "    </tr>\n",
              "    <tr>\n",
              "      <th>708009</th>\n",
              "      <td>8/9/20</td>\n",
              "      <td>Wyoming</td>\n",
              "      <td>56045.0</td>\n",
              "      <td>5</td>\n",
              "      <td>0</td>\n",
              "    </tr>\n",
              "    <tr>\n",
              "      <th>708010</th>\n",
              "      <td>8/9/20</td>\n",
              "      <td>Wyoming</td>\n",
              "      <td>80056.0</td>\n",
              "      <td>0</td>\n",
              "      <td>0</td>\n",
              "    </tr>\n",
              "    <tr>\n",
              "      <th>708011</th>\n",
              "      <td>8/9/20</td>\n",
              "      <td>Wyoming</td>\n",
              "      <td>90056.0</td>\n",
              "      <td>0</td>\n",
              "      <td>27</td>\n",
              "    </tr>\n",
              "  </tbody>\n",
              "</table>\n",
              "</div>"
            ],
            "text/plain": [
              "          Date Province_State     FIPS  Confirmed  Deaths\n",
              "708007  8/9/20        Wyoming  56041.0        278       0\n",
              "708008  8/9/20        Wyoming  56043.0         77       0\n",
              "708009  8/9/20        Wyoming  56045.0          5       0\n",
              "708010  8/9/20        Wyoming  80056.0          0       0\n",
              "708011  8/9/20        Wyoming  90056.0          0      27"
            ]
          },
          "metadata": {
            "tags": []
          },
          "execution_count": 29
        }
      ]
    },
    {
      "cell_type": "code",
      "metadata": {
        "id": "MeHPx_OBNyaa",
        "colab_type": "code",
        "colab": {
          "base_uri": "https://localhost:8080/",
          "height": 419
        },
        "outputId": "73a0cc92-3f4d-4a49-e4ad-dada998b6c6f"
      },
      "source": [
        "NY_full_grouped = full_grouped[full_grouped['Province_State'] == 'New York']\n",
        "NY_full_grouped[NY_full_grouped['FIPS'] == 36081.0]"
      ],
      "execution_count": 30,
      "outputs": [
        {
          "output_type": "execute_result",
          "data": {
            "text/html": [
              "<div>\n",
              "<style scoped>\n",
              "    .dataframe tbody tr th:only-of-type {\n",
              "        vertical-align: middle;\n",
              "    }\n",
              "\n",
              "    .dataframe tbody tr th {\n",
              "        vertical-align: top;\n",
              "    }\n",
              "\n",
              "    .dataframe thead th {\n",
              "        text-align: right;\n",
              "    }\n",
              "</style>\n",
              "<table border=\"1\" class=\"dataframe\">\n",
              "  <thead>\n",
              "    <tr style=\"text-align: right;\">\n",
              "      <th></th>\n",
              "      <th>Date</th>\n",
              "      <th>Province_State</th>\n",
              "      <th>FIPS</th>\n",
              "      <th>Confirmed</th>\n",
              "      <th>Deaths</th>\n",
              "    </tr>\n",
              "  </thead>\n",
              "  <tbody>\n",
              "    <tr>\n",
              "      <th>1932</th>\n",
              "      <td>1/22/20</td>\n",
              "      <td>New York</td>\n",
              "      <td>36081.0</td>\n",
              "      <td>0</td>\n",
              "      <td>0</td>\n",
              "    </tr>\n",
              "    <tr>\n",
              "      <th>5256</th>\n",
              "      <td>1/23/20</td>\n",
              "      <td>New York</td>\n",
              "      <td>36081.0</td>\n",
              "      <td>0</td>\n",
              "      <td>0</td>\n",
              "    </tr>\n",
              "    <tr>\n",
              "      <th>8580</th>\n",
              "      <td>1/24/20</td>\n",
              "      <td>New York</td>\n",
              "      <td>36081.0</td>\n",
              "      <td>0</td>\n",
              "      <td>0</td>\n",
              "    </tr>\n",
              "    <tr>\n",
              "      <th>11904</th>\n",
              "      <td>1/25/20</td>\n",
              "      <td>New York</td>\n",
              "      <td>36081.0</td>\n",
              "      <td>0</td>\n",
              "      <td>0</td>\n",
              "    </tr>\n",
              "    <tr>\n",
              "      <th>15228</th>\n",
              "      <td>1/26/20</td>\n",
              "      <td>New York</td>\n",
              "      <td>36081.0</td>\n",
              "      <td>0</td>\n",
              "      <td>0</td>\n",
              "    </tr>\n",
              "    <tr>\n",
              "      <th>...</th>\n",
              "      <td>...</td>\n",
              "      <td>...</td>\n",
              "      <td>...</td>\n",
              "      <td>...</td>\n",
              "      <td>...</td>\n",
              "    </tr>\n",
              "    <tr>\n",
              "      <th>693324</th>\n",
              "      <td>8/5/20</td>\n",
              "      <td>New York</td>\n",
              "      <td>36081.0</td>\n",
              "      <td>0</td>\n",
              "      <td>0</td>\n",
              "    </tr>\n",
              "    <tr>\n",
              "      <th>696648</th>\n",
              "      <td>8/6/20</td>\n",
              "      <td>New York</td>\n",
              "      <td>36081.0</td>\n",
              "      <td>0</td>\n",
              "      <td>0</td>\n",
              "    </tr>\n",
              "    <tr>\n",
              "      <th>699972</th>\n",
              "      <td>8/7/20</td>\n",
              "      <td>New York</td>\n",
              "      <td>36081.0</td>\n",
              "      <td>0</td>\n",
              "      <td>0</td>\n",
              "    </tr>\n",
              "    <tr>\n",
              "      <th>703296</th>\n",
              "      <td>8/8/20</td>\n",
              "      <td>New York</td>\n",
              "      <td>36081.0</td>\n",
              "      <td>0</td>\n",
              "      <td>0</td>\n",
              "    </tr>\n",
              "    <tr>\n",
              "      <th>706620</th>\n",
              "      <td>8/9/20</td>\n",
              "      <td>New York</td>\n",
              "      <td>36081.0</td>\n",
              "      <td>0</td>\n",
              "      <td>0</td>\n",
              "    </tr>\n",
              "  </tbody>\n",
              "</table>\n",
              "<p>213 rows × 5 columns</p>\n",
              "</div>"
            ],
            "text/plain": [
              "           Date Province_State     FIPS  Confirmed  Deaths\n",
              "1932    1/22/20       New York  36081.0          0       0\n",
              "5256    1/23/20       New York  36081.0          0       0\n",
              "8580    1/24/20       New York  36081.0          0       0\n",
              "11904   1/25/20       New York  36081.0          0       0\n",
              "15228   1/26/20       New York  36081.0          0       0\n",
              "...         ...            ...      ...        ...     ...\n",
              "693324   8/5/20       New York  36081.0          0       0\n",
              "696648   8/6/20       New York  36081.0          0       0\n",
              "699972   8/7/20       New York  36081.0          0       0\n",
              "703296   8/8/20       New York  36081.0          0       0\n",
              "706620   8/9/20       New York  36081.0          0       0\n",
              "\n",
              "[213 rows x 5 columns]"
            ]
          },
          "metadata": {
            "tags": []
          },
          "execution_count": 30
        }
      ]
    },
    {
      "cell_type": "code",
      "metadata": {
        "id": "MBTXndxmKr8Z",
        "colab_type": "code",
        "colab": {
          "base_uri": "https://localhost:8080/",
          "height": 34
        },
        "outputId": "cfcfe30d-d4cc-42cd-9c65-ed9ca2bddb2c"
      },
      "source": [
        "full_grouped.shape"
      ],
      "execution_count": 31,
      "outputs": [
        {
          "output_type": "execute_result",
          "data": {
            "text/plain": [
              "(708012, 5)"
            ]
          },
          "metadata": {
            "tags": []
          },
          "execution_count": 31
        }
      ]
    },
    {
      "cell_type": "markdown",
      "metadata": {
        "id": "IZGdcgaLA3gY",
        "colab_type": "text"
      },
      "source": [
        "####  Adding new cases, new deaths by subtracting from previous day record"
      ]
    },
    {
      "cell_type": "code",
      "metadata": {
        "id": "hdVFIrecbiM0",
        "colab_type": "code",
        "colab": {}
      },
      "source": [
        ""
      ],
      "execution_count": 31,
      "outputs": []
    },
    {
      "cell_type": "code",
      "metadata": {
        "id": "8wHzIsf7ba71",
        "colab_type": "code",
        "colab": {
          "base_uri": "https://localhost:8080/",
          "height": 119
        },
        "outputId": "a9ea395b-6f57-4c1c-d52c-86a9edfffca6"
      },
      "source": [
        "full_grouped.dtypes"
      ],
      "execution_count": 32,
      "outputs": [
        {
          "output_type": "execute_result",
          "data": {
            "text/plain": [
              "Date               object\n",
              "Province_State     object\n",
              "FIPS              float64\n",
              "Confirmed           int64\n",
              "Deaths              int64\n",
              "dtype: object"
            ]
          },
          "metadata": {
            "tags": []
          },
          "execution_count": 32
        }
      ]
    },
    {
      "cell_type": "code",
      "metadata": {
        "id": "BLPdIAKodQNZ",
        "colab_type": "code",
        "colab": {}
      },
      "source": [
        "full_grouped_ = full_grouped.copy()"
      ],
      "execution_count": 33,
      "outputs": []
    },
    {
      "cell_type": "code",
      "metadata": {
        "id": "LWk-gkHzdU2k",
        "colab_type": "code",
        "colab": {}
      },
      "source": [
        "full_grouped = full_grouped_.copy()"
      ],
      "execution_count": 63,
      "outputs": []
    },
    {
      "cell_type": "code",
      "metadata": {
        "id": "l1jKyIpJfgif",
        "colab_type": "code",
        "colab": {}
      },
      "source": [
        "\n"
      ],
      "execution_count": 35,
      "outputs": []
    },
    {
      "cell_type": "code",
      "metadata": {
        "id": "9Rc4rAUgju2G",
        "colab_type": "code",
        "colab": {}
      },
      "source": [
        "def fixDate(x):\n",
        "  arr = x.split('/')\n",
        "  m = arr[0]\n",
        "  d = arr[1]\n",
        "  y = arr[2]\n",
        "\n",
        "  if int(m) < 10:\n",
        "    m = '0'+str(m)\n",
        "  if int(d) < 10:\n",
        "    d = '0'+str(d)\n",
        "  return '20'+str(y)+'-'+m+'-'+d"
      ],
      "execution_count": 36,
      "outputs": []
    },
    {
      "cell_type": "code",
      "metadata": {
        "id": "JPY0D4cdjv-e",
        "colab_type": "code",
        "colab": {
          "base_uri": "https://localhost:8080/",
          "height": 111
        },
        "outputId": "0c454f6e-df9c-4445-d26c-4bcdfe6b95f2"
      },
      "source": [
        "full_grouped['Date'] = full_grouped['Date'].apply(lambda x: fixDate(x))\n",
        "\n",
        "full_grouped.head(2)"
      ],
      "execution_count": 37,
      "outputs": [
        {
          "output_type": "execute_result",
          "data": {
            "text/html": [
              "<div>\n",
              "<style scoped>\n",
              "    .dataframe tbody tr th:only-of-type {\n",
              "        vertical-align: middle;\n",
              "    }\n",
              "\n",
              "    .dataframe tbody tr th {\n",
              "        vertical-align: top;\n",
              "    }\n",
              "\n",
              "    .dataframe thead th {\n",
              "        text-align: right;\n",
              "    }\n",
              "</style>\n",
              "<table border=\"1\" class=\"dataframe\">\n",
              "  <thead>\n",
              "    <tr style=\"text-align: right;\">\n",
              "      <th></th>\n",
              "      <th>Date</th>\n",
              "      <th>Province_State</th>\n",
              "      <th>FIPS</th>\n",
              "      <th>Confirmed</th>\n",
              "      <th>Deaths</th>\n",
              "    </tr>\n",
              "  </thead>\n",
              "  <tbody>\n",
              "    <tr>\n",
              "      <th>0</th>\n",
              "      <td>2020-01-22</td>\n",
              "      <td>Alabama</td>\n",
              "      <td>1001.0</td>\n",
              "      <td>0</td>\n",
              "      <td>0</td>\n",
              "    </tr>\n",
              "    <tr>\n",
              "      <th>1</th>\n",
              "      <td>2020-01-22</td>\n",
              "      <td>Alabama</td>\n",
              "      <td>1003.0</td>\n",
              "      <td>0</td>\n",
              "      <td>0</td>\n",
              "    </tr>\n",
              "  </tbody>\n",
              "</table>\n",
              "</div>"
            ],
            "text/plain": [
              "         Date Province_State    FIPS  Confirmed  Deaths\n",
              "0  2020-01-22        Alabama  1001.0          0       0\n",
              "1  2020-01-22        Alabama  1003.0          0       0"
            ]
          },
          "metadata": {
            "tags": []
          },
          "execution_count": 37
        }
      ]
    },
    {
      "cell_type": "code",
      "metadata": {
        "id": "K4GKq88tfEg1",
        "colab_type": "code",
        "colab": {}
      },
      "source": [
        "def computeNewCases(FIPS):\n",
        "\n",
        "\n",
        "  countyData = full_grouped[full_grouped['FIPS'] == FIPS]\n",
        "  countyData = countyData.sort_values(by=['Date'])\n",
        "\n",
        "  if countyData.Confirmed.max() > 0:\n",
        "    temp = countyData.groupby(['Date'])['Confirmed', 'Deaths']\n",
        "    temp = temp.sum().diff().reset_index()\n",
        "    #print(temp)\n",
        "    mask = temp['Date'] != temp['Date'].shift(1)\n",
        "\n",
        "    #temp.loc[mask, 'Confirmed'] = np.nan\n",
        "    #temp.loc[mask, 'Deaths'] = np.nan\n",
        "    temp.columns = ['Date', 'New cases', 'New deaths']\n",
        "    print(temp)\n",
        "    countyData = pd.merge(countyData, temp, on=[ 'Date'])\n",
        "    print(countyData)\n",
        "    #print('********')\n",
        "    # filling na with 0\n",
        "    countyData = countyData.fillna(0)\n",
        "    # fixing data types\n",
        "    cols = ['New cases', 'New deaths']\n",
        "    countyData[cols] = countyData[cols].astype('int') \n",
        "    return countyData\n"
      ],
      "execution_count": 86,
      "outputs": []
    },
    {
      "cell_type": "code",
      "metadata": {
        "id": "J5tqGCPL6ZN3",
        "colab_type": "code",
        "colab": {
          "base_uri": "https://localhost:8080/",
          "height": 895
        },
        "outputId": "70ec69b9-f389-4eb1-ff3c-f1d4d5092af8"
      },
      "source": [
        "computeNewCases(36041)"
      ],
      "execution_count": 87,
      "outputs": [
        {
          "output_type": "stream",
          "text": [
            "        Date  New cases  New deaths\n",
            "0    1/22/20        NaN         NaN\n",
            "1    1/23/20        0.0         0.0\n",
            "2    1/24/20        0.0         0.0\n",
            "3    1/25/20        0.0         0.0\n",
            "4    1/26/20        0.0         0.0\n",
            "..       ...        ...         ...\n",
            "208   8/5/20        0.0         0.0\n",
            "209   8/6/20        1.0         0.0\n",
            "210   8/7/20        0.0         0.0\n",
            "211   8/8/20        0.0         0.0\n",
            "212   8/9/20        0.0         0.0\n",
            "\n",
            "[213 rows x 3 columns]\n",
            "        Date Province_State     FIPS  Confirmed  Deaths  New cases  New deaths\n",
            "0    1/22/20       New York  36041.0          0       0        NaN         NaN\n",
            "1    1/23/20       New York  36041.0          0       0        0.0         0.0\n",
            "2    1/24/20       New York  36041.0          0       0        0.0         0.0\n",
            "3    1/25/20       New York  36041.0          0       0        0.0         0.0\n",
            "4    1/26/20       New York  36041.0          0       0        0.0         0.0\n",
            "..       ...            ...      ...        ...     ...        ...         ...\n",
            "208   8/5/20       New York  36041.0          7       0        0.0         0.0\n",
            "209   8/6/20       New York  36041.0          8       0        1.0         0.0\n",
            "210   8/7/20       New York  36041.0          8       0        0.0         0.0\n",
            "211   8/8/20       New York  36041.0          8       0        0.0         0.0\n",
            "212   8/9/20       New York  36041.0          8       0        0.0         0.0\n",
            "\n",
            "[213 rows x 7 columns]\n"
          ],
          "name": "stdout"
        },
        {
          "output_type": "execute_result",
          "data": {
            "text/html": [
              "<div>\n",
              "<style scoped>\n",
              "    .dataframe tbody tr th:only-of-type {\n",
              "        vertical-align: middle;\n",
              "    }\n",
              "\n",
              "    .dataframe tbody tr th {\n",
              "        vertical-align: top;\n",
              "    }\n",
              "\n",
              "    .dataframe thead th {\n",
              "        text-align: right;\n",
              "    }\n",
              "</style>\n",
              "<table border=\"1\" class=\"dataframe\">\n",
              "  <thead>\n",
              "    <tr style=\"text-align: right;\">\n",
              "      <th></th>\n",
              "      <th>Date</th>\n",
              "      <th>Province_State</th>\n",
              "      <th>FIPS</th>\n",
              "      <th>Confirmed</th>\n",
              "      <th>Deaths</th>\n",
              "      <th>New cases</th>\n",
              "      <th>New deaths</th>\n",
              "    </tr>\n",
              "  </thead>\n",
              "  <tbody>\n",
              "    <tr>\n",
              "      <th>0</th>\n",
              "      <td>1/22/20</td>\n",
              "      <td>New York</td>\n",
              "      <td>36041.0</td>\n",
              "      <td>0</td>\n",
              "      <td>0</td>\n",
              "      <td>0</td>\n",
              "      <td>0</td>\n",
              "    </tr>\n",
              "    <tr>\n",
              "      <th>1</th>\n",
              "      <td>1/23/20</td>\n",
              "      <td>New York</td>\n",
              "      <td>36041.0</td>\n",
              "      <td>0</td>\n",
              "      <td>0</td>\n",
              "      <td>0</td>\n",
              "      <td>0</td>\n",
              "    </tr>\n",
              "    <tr>\n",
              "      <th>2</th>\n",
              "      <td>1/24/20</td>\n",
              "      <td>New York</td>\n",
              "      <td>36041.0</td>\n",
              "      <td>0</td>\n",
              "      <td>0</td>\n",
              "      <td>0</td>\n",
              "      <td>0</td>\n",
              "    </tr>\n",
              "    <tr>\n",
              "      <th>3</th>\n",
              "      <td>1/25/20</td>\n",
              "      <td>New York</td>\n",
              "      <td>36041.0</td>\n",
              "      <td>0</td>\n",
              "      <td>0</td>\n",
              "      <td>0</td>\n",
              "      <td>0</td>\n",
              "    </tr>\n",
              "    <tr>\n",
              "      <th>4</th>\n",
              "      <td>1/26/20</td>\n",
              "      <td>New York</td>\n",
              "      <td>36041.0</td>\n",
              "      <td>0</td>\n",
              "      <td>0</td>\n",
              "      <td>0</td>\n",
              "      <td>0</td>\n",
              "    </tr>\n",
              "    <tr>\n",
              "      <th>...</th>\n",
              "      <td>...</td>\n",
              "      <td>...</td>\n",
              "      <td>...</td>\n",
              "      <td>...</td>\n",
              "      <td>...</td>\n",
              "      <td>...</td>\n",
              "      <td>...</td>\n",
              "    </tr>\n",
              "    <tr>\n",
              "      <th>208</th>\n",
              "      <td>8/5/20</td>\n",
              "      <td>New York</td>\n",
              "      <td>36041.0</td>\n",
              "      <td>7</td>\n",
              "      <td>0</td>\n",
              "      <td>0</td>\n",
              "      <td>0</td>\n",
              "    </tr>\n",
              "    <tr>\n",
              "      <th>209</th>\n",
              "      <td>8/6/20</td>\n",
              "      <td>New York</td>\n",
              "      <td>36041.0</td>\n",
              "      <td>8</td>\n",
              "      <td>0</td>\n",
              "      <td>1</td>\n",
              "      <td>0</td>\n",
              "    </tr>\n",
              "    <tr>\n",
              "      <th>210</th>\n",
              "      <td>8/7/20</td>\n",
              "      <td>New York</td>\n",
              "      <td>36041.0</td>\n",
              "      <td>8</td>\n",
              "      <td>0</td>\n",
              "      <td>0</td>\n",
              "      <td>0</td>\n",
              "    </tr>\n",
              "    <tr>\n",
              "      <th>211</th>\n",
              "      <td>8/8/20</td>\n",
              "      <td>New York</td>\n",
              "      <td>36041.0</td>\n",
              "      <td>8</td>\n",
              "      <td>0</td>\n",
              "      <td>0</td>\n",
              "      <td>0</td>\n",
              "    </tr>\n",
              "    <tr>\n",
              "      <th>212</th>\n",
              "      <td>8/9/20</td>\n",
              "      <td>New York</td>\n",
              "      <td>36041.0</td>\n",
              "      <td>8</td>\n",
              "      <td>0</td>\n",
              "      <td>0</td>\n",
              "      <td>0</td>\n",
              "    </tr>\n",
              "  </tbody>\n",
              "</table>\n",
              "<p>213 rows × 7 columns</p>\n",
              "</div>"
            ],
            "text/plain": [
              "        Date Province_State     FIPS  Confirmed  Deaths  New cases  New deaths\n",
              "0    1/22/20       New York  36041.0          0       0          0           0\n",
              "1    1/23/20       New York  36041.0          0       0          0           0\n",
              "2    1/24/20       New York  36041.0          0       0          0           0\n",
              "3    1/25/20       New York  36041.0          0       0          0           0\n",
              "4    1/26/20       New York  36041.0          0       0          0           0\n",
              "..       ...            ...      ...        ...     ...        ...         ...\n",
              "208   8/5/20       New York  36041.0          7       0          0           0\n",
              "209   8/6/20       New York  36041.0          8       0          1           0\n",
              "210   8/7/20       New York  36041.0          8       0          0           0\n",
              "211   8/8/20       New York  36041.0          8       0          0           0\n",
              "212   8/9/20       New York  36041.0          8       0          0           0\n",
              "\n",
              "[213 rows x 7 columns]"
            ]
          },
          "metadata": {
            "tags": []
          },
          "execution_count": 87
        }
      ]
    },
    {
      "cell_type": "markdown",
      "metadata": {
        "id": "PVv0TytWlAhr",
        "colab_type": "text"
      },
      "source": [
        "Below code executes for all FIPS, estimated runtime **10 minutes**"
      ]
    },
    {
      "cell_type": "code",
      "metadata": {
        "id": "WSLCWQH9gQ5h",
        "colab_type": "code",
        "colab": {
          "base_uri": "https://localhost:8080/",
          "height": 34
        },
        "outputId": "8304dc81-f125-4424-d3e3-70bf32514e67"
      },
      "source": [
        "df = pd.DataFrame(columns=['Date','Province_State','FIPS','Confirmed','Deaths','New cases','New deaths'])\n",
        "\n",
        "for fips in tqdm(full_grouped.FIPS.unique()):\n",
        "  \n",
        "\n",
        "  countyData = full_grouped[full_grouped['FIPS'] == fips]\n",
        "  countyData = countyData.sort_values(by=['Date'])\n",
        "  #print(fips,' , ',countyData.Confirmed.min())\n",
        "  \n",
        "  if countyData.Confirmed.max() > 0:\n",
        "    temp = countyData.groupby(['Date'])['Confirmed', 'Deaths']\n",
        "    temp = temp.sum().diff().reset_index()\n",
        "    #print(temp)\n",
        "    mask = temp['Date'] != temp['Date'].shift(1)\n",
        "\n",
        "    # temp.loc[mask, 'Confirmed'] = np.nan\n",
        "    # temp.loc[mask, 'Deaths'] = np.nan\n",
        "    temp.columns = ['Date', 'New cases', 'New deaths']\n",
        "    countyData = pd.merge(countyData, temp, on=[ 'Date'])\n",
        "    #print(countyData)\n",
        "    #print('********')\n",
        "    # filling na with 0\n",
        "    countyData = countyData.fillna(0)\n",
        "    # fixing data types\n",
        "    cols = ['New cases', 'New deaths']\n",
        "    countyData[cols] = countyData[cols].astype('int')\n",
        "    df = df.append(countyData)\n",
        "    #break"
      ],
      "execution_count": 88,
      "outputs": [
        {
          "output_type": "stream",
          "text": [
            "100%|██████████| 3324/3324 [04:36<00:00, 12.03it/s]\n"
          ],
          "name": "stderr"
        }
      ]
    },
    {
      "cell_type": "code",
      "metadata": {
        "id": "lRUhQHWQhBd6",
        "colab_type": "code",
        "colab": {
          "base_uri": "https://localhost:8080/",
          "height": 996
        },
        "outputId": "0c759caa-2f41-4cca-8378-6057b5423828"
      },
      "source": [
        "print(df.shape)\n",
        "df.tail(30)"
      ],
      "execution_count": 90,
      "outputs": [
        {
          "output_type": "stream",
          "text": [
            "(691185, 7)\n"
          ],
          "name": "stdout"
        },
        {
          "output_type": "execute_result",
          "data": {
            "text/html": [
              "<div>\n",
              "<style scoped>\n",
              "    .dataframe tbody tr th:only-of-type {\n",
              "        vertical-align: middle;\n",
              "    }\n",
              "\n",
              "    .dataframe tbody tr th {\n",
              "        vertical-align: top;\n",
              "    }\n",
              "\n",
              "    .dataframe thead th {\n",
              "        text-align: right;\n",
              "    }\n",
              "</style>\n",
              "<table border=\"1\" class=\"dataframe\">\n",
              "  <thead>\n",
              "    <tr style=\"text-align: right;\">\n",
              "      <th></th>\n",
              "      <th>Date</th>\n",
              "      <th>Province_State</th>\n",
              "      <th>FIPS</th>\n",
              "      <th>Confirmed</th>\n",
              "      <th>Deaths</th>\n",
              "      <th>New cases</th>\n",
              "      <th>New deaths</th>\n",
              "    </tr>\n",
              "  </thead>\n",
              "  <tbody>\n",
              "    <tr>\n",
              "      <th>183</th>\n",
              "      <td>7/3/20</td>\n",
              "      <td>Wyoming</td>\n",
              "      <td>90056.0</td>\n",
              "      <td>0</td>\n",
              "      <td>19</td>\n",
              "      <td>0</td>\n",
              "      <td>-6</td>\n",
              "    </tr>\n",
              "    <tr>\n",
              "      <th>184</th>\n",
              "      <td>7/30/20</td>\n",
              "      <td>Wyoming</td>\n",
              "      <td>90056.0</td>\n",
              "      <td>0</td>\n",
              "      <td>25</td>\n",
              "      <td>0</td>\n",
              "      <td>6</td>\n",
              "    </tr>\n",
              "    <tr>\n",
              "      <th>185</th>\n",
              "      <td>7/31/20</td>\n",
              "      <td>Wyoming</td>\n",
              "      <td>90056.0</td>\n",
              "      <td>0</td>\n",
              "      <td>25</td>\n",
              "      <td>0</td>\n",
              "      <td>0</td>\n",
              "    </tr>\n",
              "    <tr>\n",
              "      <th>186</th>\n",
              "      <td>7/4/20</td>\n",
              "      <td>Wyoming</td>\n",
              "      <td>90056.0</td>\n",
              "      <td>0</td>\n",
              "      <td>19</td>\n",
              "      <td>0</td>\n",
              "      <td>-6</td>\n",
              "    </tr>\n",
              "    <tr>\n",
              "      <th>187</th>\n",
              "      <td>7/5/20</td>\n",
              "      <td>Wyoming</td>\n",
              "      <td>90056.0</td>\n",
              "      <td>0</td>\n",
              "      <td>19</td>\n",
              "      <td>0</td>\n",
              "      <td>0</td>\n",
              "    </tr>\n",
              "    <tr>\n",
              "      <th>188</th>\n",
              "      <td>7/6/20</td>\n",
              "      <td>Wyoming</td>\n",
              "      <td>90056.0</td>\n",
              "      <td>0</td>\n",
              "      <td>19</td>\n",
              "      <td>0</td>\n",
              "      <td>0</td>\n",
              "    </tr>\n",
              "    <tr>\n",
              "      <th>189</th>\n",
              "      <td>7/7/20</td>\n",
              "      <td>Wyoming</td>\n",
              "      <td>90056.0</td>\n",
              "      <td>0</td>\n",
              "      <td>20</td>\n",
              "      <td>0</td>\n",
              "      <td>1</td>\n",
              "    </tr>\n",
              "    <tr>\n",
              "      <th>190</th>\n",
              "      <td>7/8/20</td>\n",
              "      <td>Wyoming</td>\n",
              "      <td>90056.0</td>\n",
              "      <td>0</td>\n",
              "      <td>20</td>\n",
              "      <td>0</td>\n",
              "      <td>0</td>\n",
              "    </tr>\n",
              "    <tr>\n",
              "      <th>191</th>\n",
              "      <td>7/9/20</td>\n",
              "      <td>Wyoming</td>\n",
              "      <td>90056.0</td>\n",
              "      <td>0</td>\n",
              "      <td>20</td>\n",
              "      <td>0</td>\n",
              "      <td>0</td>\n",
              "    </tr>\n",
              "    <tr>\n",
              "      <th>192</th>\n",
              "      <td>8/1/20</td>\n",
              "      <td>Wyoming</td>\n",
              "      <td>90056.0</td>\n",
              "      <td>0</td>\n",
              "      <td>25</td>\n",
              "      <td>0</td>\n",
              "      <td>5</td>\n",
              "    </tr>\n",
              "    <tr>\n",
              "      <th>193</th>\n",
              "      <td>8/10/20</td>\n",
              "      <td>Wyoming</td>\n",
              "      <td>90056.0</td>\n",
              "      <td>0</td>\n",
              "      <td>27</td>\n",
              "      <td>0</td>\n",
              "      <td>2</td>\n",
              "    </tr>\n",
              "    <tr>\n",
              "      <th>194</th>\n",
              "      <td>8/11/20</td>\n",
              "      <td>Wyoming</td>\n",
              "      <td>90056.0</td>\n",
              "      <td>0</td>\n",
              "      <td>28</td>\n",
              "      <td>0</td>\n",
              "      <td>1</td>\n",
              "    </tr>\n",
              "    <tr>\n",
              "      <th>195</th>\n",
              "      <td>8/12/20</td>\n",
              "      <td>Wyoming</td>\n",
              "      <td>90056.0</td>\n",
              "      <td>0</td>\n",
              "      <td>28</td>\n",
              "      <td>0</td>\n",
              "      <td>0</td>\n",
              "    </tr>\n",
              "    <tr>\n",
              "      <th>196</th>\n",
              "      <td>8/13/20</td>\n",
              "      <td>Wyoming</td>\n",
              "      <td>90056.0</td>\n",
              "      <td>0</td>\n",
              "      <td>29</td>\n",
              "      <td>0</td>\n",
              "      <td>1</td>\n",
              "    </tr>\n",
              "    <tr>\n",
              "      <th>197</th>\n",
              "      <td>8/14/20</td>\n",
              "      <td>Wyoming</td>\n",
              "      <td>90056.0</td>\n",
              "      <td>0</td>\n",
              "      <td>29</td>\n",
              "      <td>0</td>\n",
              "      <td>0</td>\n",
              "    </tr>\n",
              "    <tr>\n",
              "      <th>198</th>\n",
              "      <td>8/15/20</td>\n",
              "      <td>Wyoming</td>\n",
              "      <td>90056.0</td>\n",
              "      <td>0</td>\n",
              "      <td>29</td>\n",
              "      <td>0</td>\n",
              "      <td>0</td>\n",
              "    </tr>\n",
              "    <tr>\n",
              "      <th>199</th>\n",
              "      <td>8/16/20</td>\n",
              "      <td>Wyoming</td>\n",
              "      <td>90056.0</td>\n",
              "      <td>0</td>\n",
              "      <td>29</td>\n",
              "      <td>0</td>\n",
              "      <td>0</td>\n",
              "    </tr>\n",
              "    <tr>\n",
              "      <th>200</th>\n",
              "      <td>8/17/20</td>\n",
              "      <td>Wyoming</td>\n",
              "      <td>90056.0</td>\n",
              "      <td>0</td>\n",
              "      <td>29</td>\n",
              "      <td>0</td>\n",
              "      <td>0</td>\n",
              "    </tr>\n",
              "    <tr>\n",
              "      <th>201</th>\n",
              "      <td>8/18/20</td>\n",
              "      <td>Wyoming</td>\n",
              "      <td>90056.0</td>\n",
              "      <td>0</td>\n",
              "      <td>29</td>\n",
              "      <td>0</td>\n",
              "      <td>0</td>\n",
              "    </tr>\n",
              "    <tr>\n",
              "      <th>202</th>\n",
              "      <td>8/19/20</td>\n",
              "      <td>Wyoming</td>\n",
              "      <td>90056.0</td>\n",
              "      <td>0</td>\n",
              "      <td>33</td>\n",
              "      <td>0</td>\n",
              "      <td>4</td>\n",
              "    </tr>\n",
              "    <tr>\n",
              "      <th>203</th>\n",
              "      <td>8/2/20</td>\n",
              "      <td>Wyoming</td>\n",
              "      <td>90056.0</td>\n",
              "      <td>0</td>\n",
              "      <td>25</td>\n",
              "      <td>0</td>\n",
              "      <td>-8</td>\n",
              "    </tr>\n",
              "    <tr>\n",
              "      <th>204</th>\n",
              "      <td>8/20/20</td>\n",
              "      <td>Wyoming</td>\n",
              "      <td>90056.0</td>\n",
              "      <td>0</td>\n",
              "      <td>33</td>\n",
              "      <td>0</td>\n",
              "      <td>8</td>\n",
              "    </tr>\n",
              "    <tr>\n",
              "      <th>205</th>\n",
              "      <td>8/21/20</td>\n",
              "      <td>Wyoming</td>\n",
              "      <td>90056.0</td>\n",
              "      <td>0</td>\n",
              "      <td>36</td>\n",
              "      <td>0</td>\n",
              "      <td>3</td>\n",
              "    </tr>\n",
              "    <tr>\n",
              "      <th>206</th>\n",
              "      <td>8/3/20</td>\n",
              "      <td>Wyoming</td>\n",
              "      <td>90056.0</td>\n",
              "      <td>0</td>\n",
              "      <td>26</td>\n",
              "      <td>0</td>\n",
              "      <td>-10</td>\n",
              "    </tr>\n",
              "    <tr>\n",
              "      <th>207</th>\n",
              "      <td>8/4/20</td>\n",
              "      <td>Wyoming</td>\n",
              "      <td>90056.0</td>\n",
              "      <td>0</td>\n",
              "      <td>26</td>\n",
              "      <td>0</td>\n",
              "      <td>0</td>\n",
              "    </tr>\n",
              "    <tr>\n",
              "      <th>208</th>\n",
              "      <td>8/5/20</td>\n",
              "      <td>Wyoming</td>\n",
              "      <td>90056.0</td>\n",
              "      <td>0</td>\n",
              "      <td>26</td>\n",
              "      <td>0</td>\n",
              "      <td>0</td>\n",
              "    </tr>\n",
              "    <tr>\n",
              "      <th>209</th>\n",
              "      <td>8/6/20</td>\n",
              "      <td>Wyoming</td>\n",
              "      <td>90056.0</td>\n",
              "      <td>0</td>\n",
              "      <td>26</td>\n",
              "      <td>0</td>\n",
              "      <td>0</td>\n",
              "    </tr>\n",
              "    <tr>\n",
              "      <th>210</th>\n",
              "      <td>8/7/20</td>\n",
              "      <td>Wyoming</td>\n",
              "      <td>90056.0</td>\n",
              "      <td>0</td>\n",
              "      <td>27</td>\n",
              "      <td>0</td>\n",
              "      <td>1</td>\n",
              "    </tr>\n",
              "    <tr>\n",
              "      <th>211</th>\n",
              "      <td>8/8/20</td>\n",
              "      <td>Wyoming</td>\n",
              "      <td>90056.0</td>\n",
              "      <td>0</td>\n",
              "      <td>27</td>\n",
              "      <td>0</td>\n",
              "      <td>0</td>\n",
              "    </tr>\n",
              "    <tr>\n",
              "      <th>212</th>\n",
              "      <td>8/9/20</td>\n",
              "      <td>Wyoming</td>\n",
              "      <td>90056.0</td>\n",
              "      <td>0</td>\n",
              "      <td>27</td>\n",
              "      <td>0</td>\n",
              "      <td>0</td>\n",
              "    </tr>\n",
              "  </tbody>\n",
              "</table>\n",
              "</div>"
            ],
            "text/plain": [
              "        Date Province_State     FIPS Confirmed Deaths New cases New deaths\n",
              "183   7/3/20        Wyoming  90056.0         0     19         0         -6\n",
              "184  7/30/20        Wyoming  90056.0         0     25         0          6\n",
              "185  7/31/20        Wyoming  90056.0         0     25         0          0\n",
              "186   7/4/20        Wyoming  90056.0         0     19         0         -6\n",
              "187   7/5/20        Wyoming  90056.0         0     19         0          0\n",
              "188   7/6/20        Wyoming  90056.0         0     19         0          0\n",
              "189   7/7/20        Wyoming  90056.0         0     20         0          1\n",
              "190   7/8/20        Wyoming  90056.0         0     20         0          0\n",
              "191   7/9/20        Wyoming  90056.0         0     20         0          0\n",
              "192   8/1/20        Wyoming  90056.0         0     25         0          5\n",
              "193  8/10/20        Wyoming  90056.0         0     27         0          2\n",
              "194  8/11/20        Wyoming  90056.0         0     28         0          1\n",
              "195  8/12/20        Wyoming  90056.0         0     28         0          0\n",
              "196  8/13/20        Wyoming  90056.0         0     29         0          1\n",
              "197  8/14/20        Wyoming  90056.0         0     29         0          0\n",
              "198  8/15/20        Wyoming  90056.0         0     29         0          0\n",
              "199  8/16/20        Wyoming  90056.0         0     29         0          0\n",
              "200  8/17/20        Wyoming  90056.0         0     29         0          0\n",
              "201  8/18/20        Wyoming  90056.0         0     29         0          0\n",
              "202  8/19/20        Wyoming  90056.0         0     33         0          4\n",
              "203   8/2/20        Wyoming  90056.0         0     25         0         -8\n",
              "204  8/20/20        Wyoming  90056.0         0     33         0          8\n",
              "205  8/21/20        Wyoming  90056.0         0     36         0          3\n",
              "206   8/3/20        Wyoming  90056.0         0     26         0        -10\n",
              "207   8/4/20        Wyoming  90056.0         0     26         0          0\n",
              "208   8/5/20        Wyoming  90056.0         0     26         0          0\n",
              "209   8/6/20        Wyoming  90056.0         0     26         0          0\n",
              "210   8/7/20        Wyoming  90056.0         0     27         0          1\n",
              "211   8/8/20        Wyoming  90056.0         0     27         0          0\n",
              "212   8/9/20        Wyoming  90056.0         0     27         0          0"
            ]
          },
          "metadata": {
            "tags": []
          },
          "execution_count": 90
        }
      ]
    },
    {
      "cell_type": "code",
      "metadata": {
        "id": "kOwIykD0252i",
        "colab_type": "code",
        "colab": {
          "base_uri": "https://localhost:8080/",
          "height": 34
        },
        "outputId": "57c321d6-03ee-4b96-a383-09a2811470ae"
      },
      "source": [
        "df.shape"
      ],
      "execution_count": 69,
      "outputs": [
        {
          "output_type": "execute_result",
          "data": {
            "text/plain": [
              "(691824, 7)"
            ]
          },
          "metadata": {
            "tags": []
          },
          "execution_count": 69
        }
      ]
    },
    {
      "cell_type": "code",
      "metadata": {
        "id": "x1QX5BN4c4-W",
        "colab_type": "code",
        "colab": {
          "base_uri": "https://localhost:8080/",
          "height": 1000
        },
        "outputId": "b669d5cf-7b33-4197-baf1-7bf62b3ce819"
      },
      "source": [
        "df[df['FIPS'] == 56041.0].tail(50)"
      ],
      "execution_count": 91,
      "outputs": [
        {
          "output_type": "execute_result",
          "data": {
            "text/html": [
              "<div>\n",
              "<style scoped>\n",
              "    .dataframe tbody tr th:only-of-type {\n",
              "        vertical-align: middle;\n",
              "    }\n",
              "\n",
              "    .dataframe tbody tr th {\n",
              "        vertical-align: top;\n",
              "    }\n",
              "\n",
              "    .dataframe thead th {\n",
              "        text-align: right;\n",
              "    }\n",
              "</style>\n",
              "<table border=\"1\" class=\"dataframe\">\n",
              "  <thead>\n",
              "    <tr style=\"text-align: right;\">\n",
              "      <th></th>\n",
              "      <th>Date</th>\n",
              "      <th>Province_State</th>\n",
              "      <th>FIPS</th>\n",
              "      <th>Confirmed</th>\n",
              "      <th>Deaths</th>\n",
              "      <th>New cases</th>\n",
              "      <th>New deaths</th>\n",
              "    </tr>\n",
              "  </thead>\n",
              "  <tbody>\n",
              "    <tr>\n",
              "      <th>163</th>\n",
              "      <td>7/11/20</td>\n",
              "      <td>Wyoming</td>\n",
              "      <td>56041.0</td>\n",
              "      <td>201</td>\n",
              "      <td>0</td>\n",
              "      <td>1</td>\n",
              "      <td>0</td>\n",
              "    </tr>\n",
              "    <tr>\n",
              "      <th>164</th>\n",
              "      <td>7/12/20</td>\n",
              "      <td>Wyoming</td>\n",
              "      <td>56041.0</td>\n",
              "      <td>202</td>\n",
              "      <td>0</td>\n",
              "      <td>1</td>\n",
              "      <td>0</td>\n",
              "    </tr>\n",
              "    <tr>\n",
              "      <th>165</th>\n",
              "      <td>7/13/20</td>\n",
              "      <td>Wyoming</td>\n",
              "      <td>56041.0</td>\n",
              "      <td>205</td>\n",
              "      <td>0</td>\n",
              "      <td>3</td>\n",
              "      <td>0</td>\n",
              "    </tr>\n",
              "    <tr>\n",
              "      <th>166</th>\n",
              "      <td>7/14/20</td>\n",
              "      <td>Wyoming</td>\n",
              "      <td>56041.0</td>\n",
              "      <td>208</td>\n",
              "      <td>0</td>\n",
              "      <td>3</td>\n",
              "      <td>0</td>\n",
              "    </tr>\n",
              "    <tr>\n",
              "      <th>167</th>\n",
              "      <td>7/15/20</td>\n",
              "      <td>Wyoming</td>\n",
              "      <td>56041.0</td>\n",
              "      <td>208</td>\n",
              "      <td>0</td>\n",
              "      <td>0</td>\n",
              "      <td>0</td>\n",
              "    </tr>\n",
              "    <tr>\n",
              "      <th>168</th>\n",
              "      <td>7/16/20</td>\n",
              "      <td>Wyoming</td>\n",
              "      <td>56041.0</td>\n",
              "      <td>217</td>\n",
              "      <td>0</td>\n",
              "      <td>9</td>\n",
              "      <td>0</td>\n",
              "    </tr>\n",
              "    <tr>\n",
              "      <th>169</th>\n",
              "      <td>7/17/20</td>\n",
              "      <td>Wyoming</td>\n",
              "      <td>56041.0</td>\n",
              "      <td>219</td>\n",
              "      <td>0</td>\n",
              "      <td>2</td>\n",
              "      <td>0</td>\n",
              "    </tr>\n",
              "    <tr>\n",
              "      <th>170</th>\n",
              "      <td>7/18/20</td>\n",
              "      <td>Wyoming</td>\n",
              "      <td>56041.0</td>\n",
              "      <td>221</td>\n",
              "      <td>0</td>\n",
              "      <td>2</td>\n",
              "      <td>0</td>\n",
              "    </tr>\n",
              "    <tr>\n",
              "      <th>171</th>\n",
              "      <td>7/19/20</td>\n",
              "      <td>Wyoming</td>\n",
              "      <td>56041.0</td>\n",
              "      <td>221</td>\n",
              "      <td>0</td>\n",
              "      <td>0</td>\n",
              "      <td>0</td>\n",
              "    </tr>\n",
              "    <tr>\n",
              "      <th>172</th>\n",
              "      <td>7/2/20</td>\n",
              "      <td>Wyoming</td>\n",
              "      <td>56041.0</td>\n",
              "      <td>180</td>\n",
              "      <td>0</td>\n",
              "      <td>-41</td>\n",
              "      <td>0</td>\n",
              "    </tr>\n",
              "    <tr>\n",
              "      <th>173</th>\n",
              "      <td>7/20/20</td>\n",
              "      <td>Wyoming</td>\n",
              "      <td>56041.0</td>\n",
              "      <td>222</td>\n",
              "      <td>0</td>\n",
              "      <td>42</td>\n",
              "      <td>0</td>\n",
              "    </tr>\n",
              "    <tr>\n",
              "      <th>174</th>\n",
              "      <td>7/21/20</td>\n",
              "      <td>Wyoming</td>\n",
              "      <td>56041.0</td>\n",
              "      <td>223</td>\n",
              "      <td>0</td>\n",
              "      <td>1</td>\n",
              "      <td>0</td>\n",
              "    </tr>\n",
              "    <tr>\n",
              "      <th>175</th>\n",
              "      <td>7/22/20</td>\n",
              "      <td>Wyoming</td>\n",
              "      <td>56041.0</td>\n",
              "      <td>224</td>\n",
              "      <td>0</td>\n",
              "      <td>1</td>\n",
              "      <td>0</td>\n",
              "    </tr>\n",
              "    <tr>\n",
              "      <th>176</th>\n",
              "      <td>7/23/20</td>\n",
              "      <td>Wyoming</td>\n",
              "      <td>56041.0</td>\n",
              "      <td>227</td>\n",
              "      <td>0</td>\n",
              "      <td>3</td>\n",
              "      <td>0</td>\n",
              "    </tr>\n",
              "    <tr>\n",
              "      <th>177</th>\n",
              "      <td>7/24/20</td>\n",
              "      <td>Wyoming</td>\n",
              "      <td>56041.0</td>\n",
              "      <td>232</td>\n",
              "      <td>0</td>\n",
              "      <td>5</td>\n",
              "      <td>0</td>\n",
              "    </tr>\n",
              "    <tr>\n",
              "      <th>178</th>\n",
              "      <td>7/25/20</td>\n",
              "      <td>Wyoming</td>\n",
              "      <td>56041.0</td>\n",
              "      <td>232</td>\n",
              "      <td>0</td>\n",
              "      <td>0</td>\n",
              "      <td>0</td>\n",
              "    </tr>\n",
              "    <tr>\n",
              "      <th>179</th>\n",
              "      <td>7/26/20</td>\n",
              "      <td>Wyoming</td>\n",
              "      <td>56041.0</td>\n",
              "      <td>233</td>\n",
              "      <td>0</td>\n",
              "      <td>1</td>\n",
              "      <td>0</td>\n",
              "    </tr>\n",
              "    <tr>\n",
              "      <th>180</th>\n",
              "      <td>7/27/20</td>\n",
              "      <td>Wyoming</td>\n",
              "      <td>56041.0</td>\n",
              "      <td>235</td>\n",
              "      <td>0</td>\n",
              "      <td>2</td>\n",
              "      <td>0</td>\n",
              "    </tr>\n",
              "    <tr>\n",
              "      <th>181</th>\n",
              "      <td>7/28/20</td>\n",
              "      <td>Wyoming</td>\n",
              "      <td>56041.0</td>\n",
              "      <td>243</td>\n",
              "      <td>0</td>\n",
              "      <td>8</td>\n",
              "      <td>0</td>\n",
              "    </tr>\n",
              "    <tr>\n",
              "      <th>182</th>\n",
              "      <td>7/29/20</td>\n",
              "      <td>Wyoming</td>\n",
              "      <td>56041.0</td>\n",
              "      <td>245</td>\n",
              "      <td>0</td>\n",
              "      <td>2</td>\n",
              "      <td>0</td>\n",
              "    </tr>\n",
              "    <tr>\n",
              "      <th>183</th>\n",
              "      <td>7/3/20</td>\n",
              "      <td>Wyoming</td>\n",
              "      <td>56041.0</td>\n",
              "      <td>182</td>\n",
              "      <td>0</td>\n",
              "      <td>-63</td>\n",
              "      <td>0</td>\n",
              "    </tr>\n",
              "    <tr>\n",
              "      <th>184</th>\n",
              "      <td>7/30/20</td>\n",
              "      <td>Wyoming</td>\n",
              "      <td>56041.0</td>\n",
              "      <td>247</td>\n",
              "      <td>0</td>\n",
              "      <td>65</td>\n",
              "      <td>0</td>\n",
              "    </tr>\n",
              "    <tr>\n",
              "      <th>185</th>\n",
              "      <td>7/31/20</td>\n",
              "      <td>Wyoming</td>\n",
              "      <td>56041.0</td>\n",
              "      <td>254</td>\n",
              "      <td>0</td>\n",
              "      <td>7</td>\n",
              "      <td>0</td>\n",
              "    </tr>\n",
              "    <tr>\n",
              "      <th>186</th>\n",
              "      <td>7/4/20</td>\n",
              "      <td>Wyoming</td>\n",
              "      <td>56041.0</td>\n",
              "      <td>183</td>\n",
              "      <td>0</td>\n",
              "      <td>-71</td>\n",
              "      <td>0</td>\n",
              "    </tr>\n",
              "    <tr>\n",
              "      <th>187</th>\n",
              "      <td>7/5/20</td>\n",
              "      <td>Wyoming</td>\n",
              "      <td>56041.0</td>\n",
              "      <td>184</td>\n",
              "      <td>0</td>\n",
              "      <td>1</td>\n",
              "      <td>0</td>\n",
              "    </tr>\n",
              "    <tr>\n",
              "      <th>188</th>\n",
              "      <td>7/6/20</td>\n",
              "      <td>Wyoming</td>\n",
              "      <td>56041.0</td>\n",
              "      <td>190</td>\n",
              "      <td>0</td>\n",
              "      <td>6</td>\n",
              "      <td>0</td>\n",
              "    </tr>\n",
              "    <tr>\n",
              "      <th>189</th>\n",
              "      <td>7/7/20</td>\n",
              "      <td>Wyoming</td>\n",
              "      <td>56041.0</td>\n",
              "      <td>190</td>\n",
              "      <td>0</td>\n",
              "      <td>0</td>\n",
              "      <td>0</td>\n",
              "    </tr>\n",
              "    <tr>\n",
              "      <th>190</th>\n",
              "      <td>7/8/20</td>\n",
              "      <td>Wyoming</td>\n",
              "      <td>56041.0</td>\n",
              "      <td>192</td>\n",
              "      <td>0</td>\n",
              "      <td>2</td>\n",
              "      <td>0</td>\n",
              "    </tr>\n",
              "    <tr>\n",
              "      <th>191</th>\n",
              "      <td>7/9/20</td>\n",
              "      <td>Wyoming</td>\n",
              "      <td>56041.0</td>\n",
              "      <td>198</td>\n",
              "      <td>0</td>\n",
              "      <td>6</td>\n",
              "      <td>0</td>\n",
              "    </tr>\n",
              "    <tr>\n",
              "      <th>192</th>\n",
              "      <td>8/1/20</td>\n",
              "      <td>Wyoming</td>\n",
              "      <td>56041.0</td>\n",
              "      <td>259</td>\n",
              "      <td>0</td>\n",
              "      <td>61</td>\n",
              "      <td>0</td>\n",
              "    </tr>\n",
              "    <tr>\n",
              "      <th>193</th>\n",
              "      <td>8/10/20</td>\n",
              "      <td>Wyoming</td>\n",
              "      <td>56041.0</td>\n",
              "      <td>277</td>\n",
              "      <td>0</td>\n",
              "      <td>18</td>\n",
              "      <td>0</td>\n",
              "    </tr>\n",
              "    <tr>\n",
              "      <th>194</th>\n",
              "      <td>8/11/20</td>\n",
              "      <td>Wyoming</td>\n",
              "      <td>56041.0</td>\n",
              "      <td>279</td>\n",
              "      <td>0</td>\n",
              "      <td>2</td>\n",
              "      <td>0</td>\n",
              "    </tr>\n",
              "    <tr>\n",
              "      <th>195</th>\n",
              "      <td>8/12/20</td>\n",
              "      <td>Wyoming</td>\n",
              "      <td>56041.0</td>\n",
              "      <td>278</td>\n",
              "      <td>0</td>\n",
              "      <td>-1</td>\n",
              "      <td>0</td>\n",
              "    </tr>\n",
              "    <tr>\n",
              "      <th>196</th>\n",
              "      <td>8/13/20</td>\n",
              "      <td>Wyoming</td>\n",
              "      <td>56041.0</td>\n",
              "      <td>278</td>\n",
              "      <td>0</td>\n",
              "      <td>0</td>\n",
              "      <td>0</td>\n",
              "    </tr>\n",
              "    <tr>\n",
              "      <th>197</th>\n",
              "      <td>8/14/20</td>\n",
              "      <td>Wyoming</td>\n",
              "      <td>56041.0</td>\n",
              "      <td>277</td>\n",
              "      <td>0</td>\n",
              "      <td>-1</td>\n",
              "      <td>0</td>\n",
              "    </tr>\n",
              "    <tr>\n",
              "      <th>198</th>\n",
              "      <td>8/15/20</td>\n",
              "      <td>Wyoming</td>\n",
              "      <td>56041.0</td>\n",
              "      <td>276</td>\n",
              "      <td>0</td>\n",
              "      <td>-1</td>\n",
              "      <td>0</td>\n",
              "    </tr>\n",
              "    <tr>\n",
              "      <th>199</th>\n",
              "      <td>8/16/20</td>\n",
              "      <td>Wyoming</td>\n",
              "      <td>56041.0</td>\n",
              "      <td>276</td>\n",
              "      <td>0</td>\n",
              "      <td>0</td>\n",
              "      <td>0</td>\n",
              "    </tr>\n",
              "    <tr>\n",
              "      <th>200</th>\n",
              "      <td>8/17/20</td>\n",
              "      <td>Wyoming</td>\n",
              "      <td>56041.0</td>\n",
              "      <td>277</td>\n",
              "      <td>0</td>\n",
              "      <td>1</td>\n",
              "      <td>0</td>\n",
              "    </tr>\n",
              "    <tr>\n",
              "      <th>201</th>\n",
              "      <td>8/18/20</td>\n",
              "      <td>Wyoming</td>\n",
              "      <td>56041.0</td>\n",
              "      <td>278</td>\n",
              "      <td>0</td>\n",
              "      <td>1</td>\n",
              "      <td>0</td>\n",
              "    </tr>\n",
              "    <tr>\n",
              "      <th>202</th>\n",
              "      <td>8/19/20</td>\n",
              "      <td>Wyoming</td>\n",
              "      <td>56041.0</td>\n",
              "      <td>283</td>\n",
              "      <td>0</td>\n",
              "      <td>5</td>\n",
              "      <td>0</td>\n",
              "    </tr>\n",
              "    <tr>\n",
              "      <th>203</th>\n",
              "      <td>8/2/20</td>\n",
              "      <td>Wyoming</td>\n",
              "      <td>56041.0</td>\n",
              "      <td>262</td>\n",
              "      <td>0</td>\n",
              "      <td>-21</td>\n",
              "      <td>0</td>\n",
              "    </tr>\n",
              "    <tr>\n",
              "      <th>204</th>\n",
              "      <td>8/20/20</td>\n",
              "      <td>Wyoming</td>\n",
              "      <td>56041.0</td>\n",
              "      <td>283</td>\n",
              "      <td>0</td>\n",
              "      <td>21</td>\n",
              "      <td>0</td>\n",
              "    </tr>\n",
              "    <tr>\n",
              "      <th>205</th>\n",
              "      <td>8/21/20</td>\n",
              "      <td>Wyoming</td>\n",
              "      <td>56041.0</td>\n",
              "      <td>283</td>\n",
              "      <td>0</td>\n",
              "      <td>0</td>\n",
              "      <td>0</td>\n",
              "    </tr>\n",
              "    <tr>\n",
              "      <th>206</th>\n",
              "      <td>8/3/20</td>\n",
              "      <td>Wyoming</td>\n",
              "      <td>56041.0</td>\n",
              "      <td>265</td>\n",
              "      <td>0</td>\n",
              "      <td>-18</td>\n",
              "      <td>0</td>\n",
              "    </tr>\n",
              "    <tr>\n",
              "      <th>207</th>\n",
              "      <td>8/4/20</td>\n",
              "      <td>Wyoming</td>\n",
              "      <td>56041.0</td>\n",
              "      <td>267</td>\n",
              "      <td>0</td>\n",
              "      <td>2</td>\n",
              "      <td>0</td>\n",
              "    </tr>\n",
              "    <tr>\n",
              "      <th>208</th>\n",
              "      <td>8/5/20</td>\n",
              "      <td>Wyoming</td>\n",
              "      <td>56041.0</td>\n",
              "      <td>268</td>\n",
              "      <td>0</td>\n",
              "      <td>1</td>\n",
              "      <td>0</td>\n",
              "    </tr>\n",
              "    <tr>\n",
              "      <th>209</th>\n",
              "      <td>8/6/20</td>\n",
              "      <td>Wyoming</td>\n",
              "      <td>56041.0</td>\n",
              "      <td>272</td>\n",
              "      <td>0</td>\n",
              "      <td>4</td>\n",
              "      <td>0</td>\n",
              "    </tr>\n",
              "    <tr>\n",
              "      <th>210</th>\n",
              "      <td>8/7/20</td>\n",
              "      <td>Wyoming</td>\n",
              "      <td>56041.0</td>\n",
              "      <td>274</td>\n",
              "      <td>0</td>\n",
              "      <td>2</td>\n",
              "      <td>0</td>\n",
              "    </tr>\n",
              "    <tr>\n",
              "      <th>211</th>\n",
              "      <td>8/8/20</td>\n",
              "      <td>Wyoming</td>\n",
              "      <td>56041.0</td>\n",
              "      <td>274</td>\n",
              "      <td>0</td>\n",
              "      <td>0</td>\n",
              "      <td>0</td>\n",
              "    </tr>\n",
              "    <tr>\n",
              "      <th>212</th>\n",
              "      <td>8/9/20</td>\n",
              "      <td>Wyoming</td>\n",
              "      <td>56041.0</td>\n",
              "      <td>278</td>\n",
              "      <td>0</td>\n",
              "      <td>4</td>\n",
              "      <td>0</td>\n",
              "    </tr>\n",
              "  </tbody>\n",
              "</table>\n",
              "</div>"
            ],
            "text/plain": [
              "        Date Province_State     FIPS Confirmed Deaths New cases New deaths\n",
              "163  7/11/20        Wyoming  56041.0       201      0         1          0\n",
              "164  7/12/20        Wyoming  56041.0       202      0         1          0\n",
              "165  7/13/20        Wyoming  56041.0       205      0         3          0\n",
              "166  7/14/20        Wyoming  56041.0       208      0         3          0\n",
              "167  7/15/20        Wyoming  56041.0       208      0         0          0\n",
              "168  7/16/20        Wyoming  56041.0       217      0         9          0\n",
              "169  7/17/20        Wyoming  56041.0       219      0         2          0\n",
              "170  7/18/20        Wyoming  56041.0       221      0         2          0\n",
              "171  7/19/20        Wyoming  56041.0       221      0         0          0\n",
              "172   7/2/20        Wyoming  56041.0       180      0       -41          0\n",
              "173  7/20/20        Wyoming  56041.0       222      0        42          0\n",
              "174  7/21/20        Wyoming  56041.0       223      0         1          0\n",
              "175  7/22/20        Wyoming  56041.0       224      0         1          0\n",
              "176  7/23/20        Wyoming  56041.0       227      0         3          0\n",
              "177  7/24/20        Wyoming  56041.0       232      0         5          0\n",
              "178  7/25/20        Wyoming  56041.0       232      0         0          0\n",
              "179  7/26/20        Wyoming  56041.0       233      0         1          0\n",
              "180  7/27/20        Wyoming  56041.0       235      0         2          0\n",
              "181  7/28/20        Wyoming  56041.0       243      0         8          0\n",
              "182  7/29/20        Wyoming  56041.0       245      0         2          0\n",
              "183   7/3/20        Wyoming  56041.0       182      0       -63          0\n",
              "184  7/30/20        Wyoming  56041.0       247      0        65          0\n",
              "185  7/31/20        Wyoming  56041.0       254      0         7          0\n",
              "186   7/4/20        Wyoming  56041.0       183      0       -71          0\n",
              "187   7/5/20        Wyoming  56041.0       184      0         1          0\n",
              "188   7/6/20        Wyoming  56041.0       190      0         6          0\n",
              "189   7/7/20        Wyoming  56041.0       190      0         0          0\n",
              "190   7/8/20        Wyoming  56041.0       192      0         2          0\n",
              "191   7/9/20        Wyoming  56041.0       198      0         6          0\n",
              "192   8/1/20        Wyoming  56041.0       259      0        61          0\n",
              "193  8/10/20        Wyoming  56041.0       277      0        18          0\n",
              "194  8/11/20        Wyoming  56041.0       279      0         2          0\n",
              "195  8/12/20        Wyoming  56041.0       278      0        -1          0\n",
              "196  8/13/20        Wyoming  56041.0       278      0         0          0\n",
              "197  8/14/20        Wyoming  56041.0       277      0        -1          0\n",
              "198  8/15/20        Wyoming  56041.0       276      0        -1          0\n",
              "199  8/16/20        Wyoming  56041.0       276      0         0          0\n",
              "200  8/17/20        Wyoming  56041.0       277      0         1          0\n",
              "201  8/18/20        Wyoming  56041.0       278      0         1          0\n",
              "202  8/19/20        Wyoming  56041.0       283      0         5          0\n",
              "203   8/2/20        Wyoming  56041.0       262      0       -21          0\n",
              "204  8/20/20        Wyoming  56041.0       283      0        21          0\n",
              "205  8/21/20        Wyoming  56041.0       283      0         0          0\n",
              "206   8/3/20        Wyoming  56041.0       265      0       -18          0\n",
              "207   8/4/20        Wyoming  56041.0       267      0         2          0\n",
              "208   8/5/20        Wyoming  56041.0       268      0         1          0\n",
              "209   8/6/20        Wyoming  56041.0       272      0         4          0\n",
              "210   8/7/20        Wyoming  56041.0       274      0         2          0\n",
              "211   8/8/20        Wyoming  56041.0       274      0         0          0\n",
              "212   8/9/20        Wyoming  56041.0       278      0         4          0"
            ]
          },
          "metadata": {
            "tags": []
          },
          "execution_count": 91
        }
      ]
    },
    {
      "cell_type": "code",
      "metadata": {
        "id": "0-UmKBJHc3Yc",
        "colab_type": "code",
        "colab": {}
      },
      "source": [
        "# merging new values\n",
        "full_grouped = df.copy()"
      ],
      "execution_count": 92,
      "outputs": []
    },
    {
      "cell_type": "code",
      "metadata": {
        "id": "5vhCccPLAGio",
        "colab_type": "code",
        "colab": {
          "base_uri": "https://localhost:8080/",
          "height": 204
        },
        "outputId": "302d690f-f622-4f21-bdc6-ca85b58d0c19"
      },
      "source": [
        "full_grouped.tail(5)"
      ],
      "execution_count": 93,
      "outputs": [
        {
          "output_type": "execute_result",
          "data": {
            "text/html": [
              "<div>\n",
              "<style scoped>\n",
              "    .dataframe tbody tr th:only-of-type {\n",
              "        vertical-align: middle;\n",
              "    }\n",
              "\n",
              "    .dataframe tbody tr th {\n",
              "        vertical-align: top;\n",
              "    }\n",
              "\n",
              "    .dataframe thead th {\n",
              "        text-align: right;\n",
              "    }\n",
              "</style>\n",
              "<table border=\"1\" class=\"dataframe\">\n",
              "  <thead>\n",
              "    <tr style=\"text-align: right;\">\n",
              "      <th></th>\n",
              "      <th>Date</th>\n",
              "      <th>Province_State</th>\n",
              "      <th>FIPS</th>\n",
              "      <th>Confirmed</th>\n",
              "      <th>Deaths</th>\n",
              "      <th>New cases</th>\n",
              "      <th>New deaths</th>\n",
              "    </tr>\n",
              "  </thead>\n",
              "  <tbody>\n",
              "    <tr>\n",
              "      <th>208</th>\n",
              "      <td>8/5/20</td>\n",
              "      <td>Wyoming</td>\n",
              "      <td>90056.0</td>\n",
              "      <td>0</td>\n",
              "      <td>26</td>\n",
              "      <td>0</td>\n",
              "      <td>0</td>\n",
              "    </tr>\n",
              "    <tr>\n",
              "      <th>209</th>\n",
              "      <td>8/6/20</td>\n",
              "      <td>Wyoming</td>\n",
              "      <td>90056.0</td>\n",
              "      <td>0</td>\n",
              "      <td>26</td>\n",
              "      <td>0</td>\n",
              "      <td>0</td>\n",
              "    </tr>\n",
              "    <tr>\n",
              "      <th>210</th>\n",
              "      <td>8/7/20</td>\n",
              "      <td>Wyoming</td>\n",
              "      <td>90056.0</td>\n",
              "      <td>0</td>\n",
              "      <td>27</td>\n",
              "      <td>0</td>\n",
              "      <td>1</td>\n",
              "    </tr>\n",
              "    <tr>\n",
              "      <th>211</th>\n",
              "      <td>8/8/20</td>\n",
              "      <td>Wyoming</td>\n",
              "      <td>90056.0</td>\n",
              "      <td>0</td>\n",
              "      <td>27</td>\n",
              "      <td>0</td>\n",
              "      <td>0</td>\n",
              "    </tr>\n",
              "    <tr>\n",
              "      <th>212</th>\n",
              "      <td>8/9/20</td>\n",
              "      <td>Wyoming</td>\n",
              "      <td>90056.0</td>\n",
              "      <td>0</td>\n",
              "      <td>27</td>\n",
              "      <td>0</td>\n",
              "      <td>0</td>\n",
              "    </tr>\n",
              "  </tbody>\n",
              "</table>\n",
              "</div>"
            ],
            "text/plain": [
              "       Date Province_State     FIPS Confirmed Deaths New cases New deaths\n",
              "208  8/5/20        Wyoming  90056.0         0     26         0          0\n",
              "209  8/6/20        Wyoming  90056.0         0     26         0          0\n",
              "210  8/7/20        Wyoming  90056.0         0     27         0          1\n",
              "211  8/8/20        Wyoming  90056.0         0     27         0          0\n",
              "212  8/9/20        Wyoming  90056.0         0     27         0          0"
            ]
          },
          "metadata": {
            "tags": []
          },
          "execution_count": 93
        }
      ]
    },
    {
      "cell_type": "code",
      "metadata": {
        "id": "3UoS9KmfK-oh",
        "colab_type": "code",
        "colab": {
          "base_uri": "https://localhost:8080/",
          "height": 359
        },
        "outputId": "86381cc8-b5ad-4841-f3e1-607e81604a13"
      },
      "source": [
        "state= ['California','New York']\n",
        "ca_df = full_grouped[full_grouped['Province_State'].isin(state)]\n",
        "ca_df.tail(10)"
      ],
      "execution_count": 94,
      "outputs": [
        {
          "output_type": "execute_result",
          "data": {
            "text/html": [
              "<div>\n",
              "<style scoped>\n",
              "    .dataframe tbody tr th:only-of-type {\n",
              "        vertical-align: middle;\n",
              "    }\n",
              "\n",
              "    .dataframe tbody tr th {\n",
              "        vertical-align: top;\n",
              "    }\n",
              "\n",
              "    .dataframe thead th {\n",
              "        text-align: right;\n",
              "    }\n",
              "</style>\n",
              "<table border=\"1\" class=\"dataframe\">\n",
              "  <thead>\n",
              "    <tr style=\"text-align: right;\">\n",
              "      <th></th>\n",
              "      <th>Date</th>\n",
              "      <th>Province_State</th>\n",
              "      <th>FIPS</th>\n",
              "      <th>Confirmed</th>\n",
              "      <th>Deaths</th>\n",
              "      <th>New cases</th>\n",
              "      <th>New deaths</th>\n",
              "    </tr>\n",
              "  </thead>\n",
              "  <tbody>\n",
              "    <tr>\n",
              "      <th>203</th>\n",
              "      <td>8/2/20</td>\n",
              "      <td>New York</td>\n",
              "      <td>90036.0</td>\n",
              "      <td>0</td>\n",
              "      <td>0</td>\n",
              "      <td>0</td>\n",
              "      <td>0</td>\n",
              "    </tr>\n",
              "    <tr>\n",
              "      <th>204</th>\n",
              "      <td>8/20/20</td>\n",
              "      <td>New York</td>\n",
              "      <td>90036.0</td>\n",
              "      <td>0</td>\n",
              "      <td>0</td>\n",
              "      <td>0</td>\n",
              "      <td>0</td>\n",
              "    </tr>\n",
              "    <tr>\n",
              "      <th>205</th>\n",
              "      <td>8/21/20</td>\n",
              "      <td>New York</td>\n",
              "      <td>90036.0</td>\n",
              "      <td>0</td>\n",
              "      <td>0</td>\n",
              "      <td>0</td>\n",
              "      <td>0</td>\n",
              "    </tr>\n",
              "    <tr>\n",
              "      <th>206</th>\n",
              "      <td>8/3/20</td>\n",
              "      <td>New York</td>\n",
              "      <td>90036.0</td>\n",
              "      <td>0</td>\n",
              "      <td>0</td>\n",
              "      <td>0</td>\n",
              "      <td>0</td>\n",
              "    </tr>\n",
              "    <tr>\n",
              "      <th>207</th>\n",
              "      <td>8/4/20</td>\n",
              "      <td>New York</td>\n",
              "      <td>90036.0</td>\n",
              "      <td>0</td>\n",
              "      <td>0</td>\n",
              "      <td>0</td>\n",
              "      <td>0</td>\n",
              "    </tr>\n",
              "    <tr>\n",
              "      <th>208</th>\n",
              "      <td>8/5/20</td>\n",
              "      <td>New York</td>\n",
              "      <td>90036.0</td>\n",
              "      <td>0</td>\n",
              "      <td>0</td>\n",
              "      <td>0</td>\n",
              "      <td>0</td>\n",
              "    </tr>\n",
              "    <tr>\n",
              "      <th>209</th>\n",
              "      <td>8/6/20</td>\n",
              "      <td>New York</td>\n",
              "      <td>90036.0</td>\n",
              "      <td>0</td>\n",
              "      <td>0</td>\n",
              "      <td>0</td>\n",
              "      <td>0</td>\n",
              "    </tr>\n",
              "    <tr>\n",
              "      <th>210</th>\n",
              "      <td>8/7/20</td>\n",
              "      <td>New York</td>\n",
              "      <td>90036.0</td>\n",
              "      <td>0</td>\n",
              "      <td>0</td>\n",
              "      <td>0</td>\n",
              "      <td>0</td>\n",
              "    </tr>\n",
              "    <tr>\n",
              "      <th>211</th>\n",
              "      <td>8/8/20</td>\n",
              "      <td>New York</td>\n",
              "      <td>90036.0</td>\n",
              "      <td>0</td>\n",
              "      <td>0</td>\n",
              "      <td>0</td>\n",
              "      <td>0</td>\n",
              "    </tr>\n",
              "    <tr>\n",
              "      <th>212</th>\n",
              "      <td>8/9/20</td>\n",
              "      <td>New York</td>\n",
              "      <td>90036.0</td>\n",
              "      <td>0</td>\n",
              "      <td>0</td>\n",
              "      <td>0</td>\n",
              "      <td>0</td>\n",
              "    </tr>\n",
              "  </tbody>\n",
              "</table>\n",
              "</div>"
            ],
            "text/plain": [
              "        Date Province_State     FIPS Confirmed Deaths New cases New deaths\n",
              "203   8/2/20       New York  90036.0         0      0         0          0\n",
              "204  8/20/20       New York  90036.0         0      0         0          0\n",
              "205  8/21/20       New York  90036.0         0      0         0          0\n",
              "206   8/3/20       New York  90036.0         0      0         0          0\n",
              "207   8/4/20       New York  90036.0         0      0         0          0\n",
              "208   8/5/20       New York  90036.0         0      0         0          0\n",
              "209   8/6/20       New York  90036.0         0      0         0          0\n",
              "210   8/7/20       New York  90036.0         0      0         0          0\n",
              "211   8/8/20       New York  90036.0         0      0         0          0\n",
              "212   8/9/20       New York  90036.0         0      0         0          0"
            ]
          },
          "metadata": {
            "tags": []
          },
          "execution_count": 94
        }
      ]
    },
    {
      "cell_type": "code",
      "metadata": {
        "id": "TX61_MzyLfnt",
        "colab_type": "code",
        "colab": {
          "base_uri": "https://localhost:8080/",
          "height": 111
        },
        "outputId": "993e9e9e-7268-4929-c832-8fec64fb66a3"
      },
      "source": [
        "county_population_US.head(2)"
      ],
      "execution_count": 95,
      "outputs": [
        {
          "output_type": "execute_result",
          "data": {
            "text/html": [
              "<div>\n",
              "<style scoped>\n",
              "    .dataframe tbody tr th:only-of-type {\n",
              "        vertical-align: middle;\n",
              "    }\n",
              "\n",
              "    .dataframe tbody tr th {\n",
              "        vertical-align: top;\n",
              "    }\n",
              "\n",
              "    .dataframe thead th {\n",
              "        text-align: right;\n",
              "    }\n",
              "</style>\n",
              "<table border=\"1\" class=\"dataframe\">\n",
              "  <thead>\n",
              "    <tr style=\"text-align: right;\">\n",
              "      <th></th>\n",
              "      <th>countyFIPS</th>\n",
              "      <th>County Name</th>\n",
              "      <th>State</th>\n",
              "      <th>population</th>\n",
              "      <th>FIPS</th>\n",
              "    </tr>\n",
              "  </thead>\n",
              "  <tbody>\n",
              "    <tr>\n",
              "      <th>0</th>\n",
              "      <td>0</td>\n",
              "      <td>Statewide Unallocated</td>\n",
              "      <td>AL</td>\n",
              "      <td>0</td>\n",
              "      <td>0</td>\n",
              "    </tr>\n",
              "    <tr>\n",
              "      <th>1</th>\n",
              "      <td>1001</td>\n",
              "      <td>Autauga County</td>\n",
              "      <td>AL</td>\n",
              "      <td>55869</td>\n",
              "      <td>1001</td>\n",
              "    </tr>\n",
              "  </tbody>\n",
              "</table>\n",
              "</div>"
            ],
            "text/plain": [
              "   countyFIPS            County Name State  population  FIPS\n",
              "0           0  Statewide Unallocated    AL           0     0\n",
              "1        1001         Autauga County    AL       55869  1001"
            ]
          },
          "metadata": {
            "tags": []
          },
          "execution_count": 95
        }
      ]
    },
    {
      "cell_type": "code",
      "metadata": {
        "id": "4SvvBpy9MU1n",
        "colab_type": "code",
        "colab": {}
      },
      "source": [
        "county_population_US['FIPS'] = county_population_US['countyFIPS']"
      ],
      "execution_count": 96,
      "outputs": []
    },
    {
      "cell_type": "code",
      "metadata": {
        "id": "Vxn23Tv1MffX",
        "colab_type": "code",
        "colab": {
          "base_uri": "https://localhost:8080/",
          "height": 34
        },
        "outputId": "b42b8691-691e-42f4-8e17-c44d35b5ef63"
      },
      "source": [
        "ca_df.shape"
      ],
      "execution_count": 97,
      "outputs": [
        {
          "output_type": "execute_result",
          "data": {
            "text/plain": [
              "(25134, 7)"
            ]
          },
          "metadata": {
            "tags": []
          },
          "execution_count": 97
        }
      ]
    },
    {
      "cell_type": "markdown",
      "metadata": {
        "id": "bXYhEmKnLRZB",
        "colab_type": "text"
      },
      "source": [
        "# Merge with FIPS "
      ]
    },
    {
      "cell_type": "code",
      "metadata": {
        "id": "pmc7bIZsLU8O",
        "colab_type": "code",
        "colab": {
          "base_uri": "https://localhost:8080/",
          "height": 34
        },
        "outputId": "b42b3a46-c189-4792-d309-6b715166b458"
      },
      "source": [
        "merged = pd.merge(ca_df,county_population_US,how='inner' ,on=['FIPS'])\n",
        "print(merged.shape)"
      ],
      "execution_count": 98,
      "outputs": [
        {
          "output_type": "stream",
          "text": [
            "(24708, 11)\n"
          ],
          "name": "stdout"
        }
      ]
    },
    {
      "cell_type": "code",
      "metadata": {
        "id": "sU-OpamgLUw_",
        "colab_type": "code",
        "colab": {
          "base_uri": "https://localhost:8080/",
          "height": 182
        },
        "outputId": "89c5ac19-2699-4552-c9a8-ba991013be66"
      },
      "source": [
        "merged.tail(2)"
      ],
      "execution_count": 99,
      "outputs": [
        {
          "output_type": "execute_result",
          "data": {
            "text/html": [
              "<div>\n",
              "<style scoped>\n",
              "    .dataframe tbody tr th:only-of-type {\n",
              "        vertical-align: middle;\n",
              "    }\n",
              "\n",
              "    .dataframe tbody tr th {\n",
              "        vertical-align: top;\n",
              "    }\n",
              "\n",
              "    .dataframe thead th {\n",
              "        text-align: right;\n",
              "    }\n",
              "</style>\n",
              "<table border=\"1\" class=\"dataframe\">\n",
              "  <thead>\n",
              "    <tr style=\"text-align: right;\">\n",
              "      <th></th>\n",
              "      <th>Date</th>\n",
              "      <th>Province_State</th>\n",
              "      <th>FIPS</th>\n",
              "      <th>Confirmed</th>\n",
              "      <th>Deaths</th>\n",
              "      <th>New cases</th>\n",
              "      <th>New deaths</th>\n",
              "      <th>countyFIPS</th>\n",
              "      <th>County Name</th>\n",
              "      <th>State</th>\n",
              "      <th>population</th>\n",
              "    </tr>\n",
              "  </thead>\n",
              "  <tbody>\n",
              "    <tr>\n",
              "      <th>24706</th>\n",
              "      <td>8/8/20</td>\n",
              "      <td>New York</td>\n",
              "      <td>36123.0</td>\n",
              "      <td>56</td>\n",
              "      <td>7</td>\n",
              "      <td>0</td>\n",
              "      <td>0</td>\n",
              "      <td>36123</td>\n",
              "      <td>Yates County</td>\n",
              "      <td>NY</td>\n",
              "      <td>24913</td>\n",
              "    </tr>\n",
              "    <tr>\n",
              "      <th>24707</th>\n",
              "      <td>8/9/20</td>\n",
              "      <td>New York</td>\n",
              "      <td>36123.0</td>\n",
              "      <td>57</td>\n",
              "      <td>7</td>\n",
              "      <td>1</td>\n",
              "      <td>0</td>\n",
              "      <td>36123</td>\n",
              "      <td>Yates County</td>\n",
              "      <td>NY</td>\n",
              "      <td>24913</td>\n",
              "    </tr>\n",
              "  </tbody>\n",
              "</table>\n",
              "</div>"
            ],
            "text/plain": [
              "         Date Province_State     FIPS  ...   County Name State population\n",
              "24706  8/8/20       New York  36123.0  ...  Yates County    NY      24913\n",
              "24707  8/9/20       New York  36123.0  ...  Yates County    NY      24913\n",
              "\n",
              "[2 rows x 11 columns]"
            ]
          },
          "metadata": {
            "tags": []
          },
          "execution_count": 99
        }
      ]
    },
    {
      "cell_type": "markdown",
      "metadata": {
        "id": "bqLuP_zx4Ger",
        "colab_type": "text"
      },
      "source": [
        "## Visualization"
      ]
    },
    {
      "cell_type": "code",
      "metadata": {
        "id": "VW5zVDDm8KAL",
        "colab_type": "code",
        "colab": {
          "base_uri": "https://localhost:8080/",
          "height": 142
        },
        "outputId": "aec957a7-0b09-4de9-d3a2-ca1bc8c9de13"
      },
      "source": [
        "full_grouped.head(3)"
      ],
      "execution_count": 100,
      "outputs": [
        {
          "output_type": "execute_result",
          "data": {
            "text/html": [
              "<div>\n",
              "<style scoped>\n",
              "    .dataframe tbody tr th:only-of-type {\n",
              "        vertical-align: middle;\n",
              "    }\n",
              "\n",
              "    .dataframe tbody tr th {\n",
              "        vertical-align: top;\n",
              "    }\n",
              "\n",
              "    .dataframe thead th {\n",
              "        text-align: right;\n",
              "    }\n",
              "</style>\n",
              "<table border=\"1\" class=\"dataframe\">\n",
              "  <thead>\n",
              "    <tr style=\"text-align: right;\">\n",
              "      <th></th>\n",
              "      <th>Date</th>\n",
              "      <th>Province_State</th>\n",
              "      <th>FIPS</th>\n",
              "      <th>Confirmed</th>\n",
              "      <th>Deaths</th>\n",
              "      <th>New cases</th>\n",
              "      <th>New deaths</th>\n",
              "    </tr>\n",
              "  </thead>\n",
              "  <tbody>\n",
              "    <tr>\n",
              "      <th>0</th>\n",
              "      <td>1/22/20</td>\n",
              "      <td>Alabama</td>\n",
              "      <td>1001.0</td>\n",
              "      <td>0</td>\n",
              "      <td>0</td>\n",
              "      <td>0</td>\n",
              "      <td>0</td>\n",
              "    </tr>\n",
              "    <tr>\n",
              "      <th>1</th>\n",
              "      <td>1/23/20</td>\n",
              "      <td>Alabama</td>\n",
              "      <td>1001.0</td>\n",
              "      <td>0</td>\n",
              "      <td>0</td>\n",
              "      <td>0</td>\n",
              "      <td>0</td>\n",
              "    </tr>\n",
              "    <tr>\n",
              "      <th>2</th>\n",
              "      <td>1/24/20</td>\n",
              "      <td>Alabama</td>\n",
              "      <td>1001.0</td>\n",
              "      <td>0</td>\n",
              "      <td>0</td>\n",
              "      <td>0</td>\n",
              "      <td>0</td>\n",
              "    </tr>\n",
              "  </tbody>\n",
              "</table>\n",
              "</div>"
            ],
            "text/plain": [
              "      Date Province_State    FIPS Confirmed Deaths New cases New deaths\n",
              "0  1/22/20        Alabama  1001.0         0      0         0          0\n",
              "1  1/23/20        Alabama  1001.0         0      0         0          0\n",
              "2  1/24/20        Alabama  1001.0         0      0         0          0"
            ]
          },
          "metadata": {
            "tags": []
          },
          "execution_count": 100
        }
      ]
    },
    {
      "cell_type": "code",
      "metadata": {
        "id": "VEXrY5qwA0V1",
        "colab_type": "code",
        "colab": {
          "base_uri": "https://localhost:8080/",
          "height": 66
        },
        "outputId": "548e2e4b-d5dc-46d3-fc74-26fb356f9a0e"
      },
      "source": [
        "merged.head(3)\n"
      ],
      "execution_count": 52,
      "outputs": [
        {
          "output_type": "execute_result",
          "data": {
            "text/html": [
              "<div>\n",
              "<style scoped>\n",
              "    .dataframe tbody tr th:only-of-type {\n",
              "        vertical-align: middle;\n",
              "    }\n",
              "\n",
              "    .dataframe tbody tr th {\n",
              "        vertical-align: top;\n",
              "    }\n",
              "\n",
              "    .dataframe thead th {\n",
              "        text-align: right;\n",
              "    }\n",
              "</style>\n",
              "<table border=\"1\" class=\"dataframe\">\n",
              "  <thead>\n",
              "    <tr style=\"text-align: right;\">\n",
              "      <th></th>\n",
              "      <th>Date</th>\n",
              "      <th>Province_State</th>\n",
              "      <th>Confirmed</th>\n",
              "      <th>Deaths</th>\n",
              "      <th>New cases</th>\n",
              "      <th>New deaths</th>\n",
              "      <th>countyFIPS</th>\n",
              "      <th>County Name</th>\n",
              "      <th>State</th>\n",
              "      <th>population</th>\n",
              "      <th>FIPS</th>\n",
              "    </tr>\n",
              "  </thead>\n",
              "  <tbody>\n",
              "  </tbody>\n",
              "</table>\n",
              "</div>"
            ],
            "text/plain": [
              "Empty DataFrame\n",
              "Columns: [Date, Province_State, Confirmed, Deaths, New cases, New deaths, countyFIPS, County Name, State, population, FIPS]\n",
              "Index: []"
            ]
          },
          "metadata": {
            "tags": []
          },
          "execution_count": 52
        }
      ]
    },
    {
      "cell_type": "code",
      "metadata": {
        "id": "Ls8G3UFv8EEB",
        "colab_type": "code",
        "colab": {
          "base_uri": "https://localhost:8080/",
          "height": 34
        },
        "outputId": "cb248481-b39d-4151-df6f-d1986f121054"
      },
      "source": [
        "import pandas as pd\n",
        "import altair as alt\n",
        "#full_grouped = merged\n",
        "ca_df = full_grouped[full_grouped['Province_State'] == 'California']\n",
        "ny_df = full_grouped[full_grouped['Province_State'] == 'New York']\n",
        "queens_df = full_grouped[(full_grouped['Province_State'] == 'New York') & (full_grouped['FIPS'] == 36081)]\n",
        "\n",
        "ca_df.shape"
      ],
      "execution_count": 101,
      "outputs": [
        {
          "output_type": "execute_result",
          "data": {
            "text/plain": [
              "(12567, 7)"
            ]
          },
          "metadata": {
            "tags": []
          },
          "execution_count": 101
        }
      ]
    },
    {
      "cell_type": "code",
      "metadata": {
        "id": "x28oUtoiExGL",
        "colab_type": "code",
        "colab": {}
      },
      "source": [
        "ca_total = (\n",
        "    ca_df\n",
        "    .pipe(lambda x: x.assign(gains_pctg=x[\"New cases\"]))\n",
        "    .groupby(['Date','Province_State'])\n",
        "    .agg({\"gains_pctg\": \"sum\"})\n",
        "    .reset_index()\n",
        "    .rename(columns={\"gains_pctg\": \"New cases\"})\n",
        ")\n",
        "ny_total = (\n",
        "    ny_df\n",
        "    .pipe(lambda x: x.assign(gains_pctg=x[\"New cases\"]))\n",
        "    .groupby(['Date','Province_State'])\n",
        "    .agg({\"gains_pctg\": \"sum\"})\n",
        "    .reset_index()\n",
        "    .rename(columns={\"gains_pctg\": \"New cases\"})\n",
        ")\n",
        "\n",
        "queens_county_total = (\n",
        "    queens_df\n",
        "    .pipe(lambda x: x.assign(gains_pctg=x[\"New cases\"]))\n",
        "    .groupby(['Date','Province_State'])\n",
        "    .agg({\"gains_pctg\": \"sum\"})\n",
        "    .reset_index()\n",
        "    .rename(columns={\"gains_pctg\": \"New cases\"})\n",
        ")"
      ],
      "execution_count": 102,
      "outputs": []
    },
    {
      "cell_type": "code",
      "metadata": {
        "id": "FU_aWMWr94_i",
        "colab_type": "code",
        "colab": {}
      },
      "source": [
        "base_ca = alt.Chart(ca_total).mark_bar().encode(\n",
        "    x='monthdate(Date):O',\n",
        ").properties(\n",
        "    width=500\n",
        ")\n",
        "\n",
        "base_ny = alt.Chart(ny_total).mark_bar().encode(\n",
        "    x='monthdate(Date):O',\n",
        ").properties(\n",
        "    width=500\n",
        ")\n",
        "\n",
        "base_queens = alt.Chart(queens_county_total).mark_bar().encode(\n",
        "    x='monthdate(Date):O',\n",
        ").properties(\n",
        "    width=500\n",
        ")"
      ],
      "execution_count": 103,
      "outputs": []
    },
    {
      "cell_type": "code",
      "metadata": {
        "id": "Xhl9giYd-GGf",
        "colab_type": "code",
        "colab": {
          "base_uri": "https://localhost:8080/",
          "height": 408
        },
        "outputId": "a461b99d-ec3c-441d-be0d-3931028e381b"
      },
      "source": [
        "red = alt.value(\"#f54242\")\n",
        "##Ca data\n",
        "#base_ca.encode(y='Confirmed').properties(title='Total Confirmed') | base_ca.encode(y='Deaths',color = red).properties(title='Total deaths')\n",
        "base_ca.encode(y='New cases').properties(title='CA State- New cases')"
      ],
      "execution_count": 104,
      "outputs": [
        {
          "output_type": "execute_result",
          "data": {
            "text/plain": [
              "alt.Chart(...)"
            ],
            "text/html": [
              "\n",
              "<div id=\"altair-viz-8877d14a2708411098ba732736407a99\"></div>\n",
              "<script type=\"text/javascript\">\n",
              "  (function(spec, embedOpt){\n",
              "    let outputDiv = document.currentScript.previousElementSibling;\n",
              "    if (outputDiv.id !== \"altair-viz-8877d14a2708411098ba732736407a99\") {\n",
              "      outputDiv = document.getElementById(\"altair-viz-8877d14a2708411098ba732736407a99\");\n",
              "    }\n",
              "    const paths = {\n",
              "      \"vega\": \"https://cdn.jsdelivr.net/npm//vega@5?noext\",\n",
              "      \"vega-lib\": \"https://cdn.jsdelivr.net/npm//vega-lib?noext\",\n",
              "      \"vega-lite\": \"https://cdn.jsdelivr.net/npm//vega-lite@4.8.1?noext\",\n",
              "      \"vega-embed\": \"https://cdn.jsdelivr.net/npm//vega-embed@6?noext\",\n",
              "    };\n",
              "\n",
              "    function loadScript(lib) {\n",
              "      return new Promise(function(resolve, reject) {\n",
              "        var s = document.createElement('script');\n",
              "        s.src = paths[lib];\n",
              "        s.async = true;\n",
              "        s.onload = () => resolve(paths[lib]);\n",
              "        s.onerror = () => reject(`Error loading script: ${paths[lib]}`);\n",
              "        document.getElementsByTagName(\"head\")[0].appendChild(s);\n",
              "      });\n",
              "    }\n",
              "\n",
              "    function showError(err) {\n",
              "      outputDiv.innerHTML = `<div class=\"error\" style=\"color:red;\">${err}</div>`;\n",
              "      throw err;\n",
              "    }\n",
              "\n",
              "    function displayChart(vegaEmbed) {\n",
              "      vegaEmbed(outputDiv, spec, embedOpt)\n",
              "        .catch(err => showError(`Javascript Error: ${err.message}<br>This usually means there's a typo in your chart specification. See the javascript console for the full traceback.`));\n",
              "    }\n",
              "\n",
              "    if(typeof define === \"function\" && define.amd) {\n",
              "      requirejs.config({paths});\n",
              "      require([\"vega-embed\"], displayChart, err => showError(`Error loading script: ${err.message}`));\n",
              "    } else if (typeof vegaEmbed === \"function\") {\n",
              "      displayChart(vegaEmbed);\n",
              "    } else {\n",
              "      loadScript(\"vega\")\n",
              "        .then(() => loadScript(\"vega-lite\"))\n",
              "        .then(() => loadScript(\"vega-embed\"))\n",
              "        .catch(showError)\n",
              "        .then(() => displayChart(vegaEmbed));\n",
              "    }\n",
              "  })({\"config\": {\"view\": {\"continuousWidth\": 400, \"continuousHeight\": 300}}, \"data\": {\"name\": \"data-0991346e0b40d7699fa43d65d81c359a\"}, \"mark\": \"bar\", \"encoding\": {\"x\": {\"type\": \"ordinal\", \"field\": \"Date\", \"timeUnit\": \"monthdate\"}, \"y\": {\"type\": \"quantitative\", \"field\": \"New cases\"}}, \"title\": \"CA State- New cases\", \"width\": 500, \"$schema\": \"https://vega.github.io/schema/vega-lite/v4.8.1.json\", \"datasets\": {\"data-0991346e0b40d7699fa43d65d81c359a\": [{\"Date\": \"1/22/20\", \"Province_State\": \"California\", \"New cases\": 0}, {\"Date\": \"1/23/20\", \"Province_State\": \"California\", \"New cases\": 0}, {\"Date\": \"1/24/20\", \"Province_State\": \"California\", \"New cases\": 0}, {\"Date\": \"1/25/20\", \"Province_State\": \"California\", \"New cases\": 0}, {\"Date\": \"1/26/20\", \"Province_State\": \"California\", \"New cases\": 2}, {\"Date\": \"1/27/20\", \"Province_State\": \"California\", \"New cases\": 0}, {\"Date\": \"1/28/20\", \"Province_State\": \"California\", \"New cases\": 0}, {\"Date\": \"1/29/20\", \"Province_State\": \"California\", \"New cases\": 0}, {\"Date\": \"1/30/20\", \"Province_State\": \"California\", \"New cases\": 0}, {\"Date\": \"1/31/20\", \"Province_State\": \"California\", \"New cases\": 1}, {\"Date\": \"2/1/20\", \"Province_State\": \"California\", \"New cases\": 0}, {\"Date\": \"2/10/20\", \"Province_State\": \"California\", \"New cases\": 3}, {\"Date\": \"2/11/20\", \"Province_State\": \"California\", \"New cases\": 1}, {\"Date\": \"2/12/20\", \"Province_State\": \"California\", \"New cases\": 0}, {\"Date\": \"2/13/20\", \"Province_State\": \"California\", \"New cases\": 1}, {\"Date\": \"2/14/20\", \"Province_State\": \"California\", \"New cases\": 0}, {\"Date\": \"2/15/20\", \"Province_State\": \"California\", \"New cases\": 0}, {\"Date\": \"2/16/20\", \"Province_State\": \"California\", \"New cases\": 0}, {\"Date\": \"2/17/20\", \"Province_State\": \"California\", \"New cases\": 0}, {\"Date\": \"2/18/20\", \"Province_State\": \"California\", \"New cases\": 0}, {\"Date\": \"2/19/20\", \"Province_State\": \"California\", \"New cases\": 0}, {\"Date\": \"2/2/20\", \"Province_State\": \"California\", \"New cases\": -5}, {\"Date\": \"2/20/20\", \"Province_State\": \"California\", \"New cases\": 5}, {\"Date\": \"2/21/20\", \"Province_State\": \"California\", \"New cases\": 2}, {\"Date\": \"2/22/20\", \"Province_State\": \"California\", \"New cases\": 0}, {\"Date\": \"2/23/20\", \"Province_State\": \"California\", \"New cases\": 0}, {\"Date\": \"2/24/20\", \"Province_State\": \"California\", \"New cases\": 0}, {\"Date\": \"2/25/20\", \"Province_State\": \"California\", \"New cases\": 0}, {\"Date\": \"2/26/20\", \"Province_State\": \"California\", \"New cases\": 0}, {\"Date\": \"2/27/20\", \"Province_State\": \"California\", \"New cases\": 1}, {\"Date\": \"2/28/20\", \"Province_State\": \"California\", \"New cases\": 0}, {\"Date\": \"2/29/20\", \"Province_State\": \"California\", \"New cases\": 1}, {\"Date\": \"2/3/20\", \"Province_State\": \"California\", \"New cases\": -6}, {\"Date\": \"2/4/20\", \"Province_State\": \"California\", \"New cases\": 0}, {\"Date\": \"2/5/20\", \"Province_State\": \"California\", \"New cases\": 0}, {\"Date\": \"2/6/20\", \"Province_State\": \"California\", \"New cases\": 0}, {\"Date\": \"2/7/20\", \"Province_State\": \"California\", \"New cases\": 0}, {\"Date\": \"2/8/20\", \"Province_State\": \"California\", \"New cases\": 0}, {\"Date\": \"2/9/20\", \"Province_State\": \"California\", \"New cases\": 0}, {\"Date\": \"3/1/20\", \"Province_State\": \"California\", \"New cases\": 6}, {\"Date\": \"3/10/20\", \"Province_State\": \"California\", \"New cases\": 132}, {\"Date\": \"3/11/20\", \"Province_State\": \"California\", \"New cases\": 34}, {\"Date\": \"3/12/20\", \"Province_State\": \"California\", \"New cases\": 43}, {\"Date\": \"3/13/20\", \"Province_State\": \"California\", \"New cases\": 60}, {\"Date\": \"3/14/20\", \"Province_State\": \"California\", \"New cases\": 91}, {\"Date\": \"3/15/20\", \"Province_State\": \"California\", \"New cases\": 1}, {\"Date\": \"3/16/20\", \"Province_State\": \"California\", \"New cases\": 184}, {\"Date\": \"3/17/20\", \"Province_State\": \"California\", \"New cases\": 143}, {\"Date\": \"3/18/20\", \"Province_State\": \"California\", \"New cases\": 131}, {\"Date\": \"3/19/20\", \"Province_State\": \"California\", \"New cases\": 178}, {\"Date\": \"3/2/20\", \"Province_State\": \"California\", \"New cases\": -988}, {\"Date\": \"3/20/20\", \"Province_State\": \"California\", \"New cases\": 1222}, {\"Date\": \"3/21/20\", \"Province_State\": \"California\", \"New cases\": 169}, {\"Date\": \"3/22/20\", \"Province_State\": \"California\", \"New cases\": 239}, {\"Date\": \"3/23/20\", \"Province_State\": \"California\", \"New cases\": 462}, {\"Date\": \"3/24/20\", \"Province_State\": \"California\", \"New cases\": 429}, {\"Date\": \"3/25/20\", \"Province_State\": \"California\", \"New cases\": 467}, {\"Date\": \"3/26/20\", \"Province_State\": \"California\", \"New cases\": 901}, {\"Date\": \"3/27/20\", \"Province_State\": \"California\", \"New cases\": 769}, {\"Date\": \"3/28/20\", \"Province_State\": \"California\", \"New cases\": 431}, {\"Date\": \"3/29/20\", \"Province_State\": \"California\", \"New cases\": 753}, {\"Date\": \"3/3/20\", \"Province_State\": \"California\", \"New cases\": -5838}, {\"Date\": \"3/30/20\", \"Province_State\": \"California\", \"New cases\": 7130}, {\"Date\": \"3/31/20\", \"Province_State\": \"California\", \"New cases\": 1078}, {\"Date\": \"3/4/20\", \"Province_State\": \"California\", \"New cases\": -8198}, {\"Date\": \"3/5/20\", \"Province_State\": \"California\", \"New cases\": 16}, {\"Date\": \"3/6/20\", \"Province_State\": \"California\", \"New cases\": 8}, {\"Date\": \"3/7/20\", \"Province_State\": \"California\", \"New cases\": 22}, {\"Date\": \"3/8/20\", \"Province_State\": \"California\", \"New cases\": 14}, {\"Date\": \"3/9/20\", \"Province_State\": \"California\", \"New cases\": 6}, {\"Date\": \"4/1/20\", \"Province_State\": \"California\", \"New cases\": 9309}, {\"Date\": \"4/10/20\", \"Province_State\": \"California\", \"New cases\": 11671}, {\"Date\": \"4/11/20\", \"Province_State\": \"California\", \"New cases\": 636}, {\"Date\": \"4/12/20\", \"Province_State\": \"California\", \"New cases\": 1083}, {\"Date\": \"4/13/20\", \"Province_State\": \"California\", \"New cases\": 1134}, {\"Date\": \"4/14/20\", \"Province_State\": \"California\", \"New cases\": 1455}, {\"Date\": \"4/15/20\", \"Province_State\": \"California\", \"New cases\": 1297}, {\"Date\": \"4/16/20\", \"Province_State\": \"California\", \"New cases\": 991}, {\"Date\": \"4/17/20\", \"Province_State\": \"California\", \"New cases\": 1480}, {\"Date\": \"4/18/20\", \"Province_State\": \"California\", \"New cases\": 1354}, {\"Date\": \"4/19/20\", \"Province_State\": \"California\", \"New cases\": 920}, {\"Date\": \"4/2/20\", \"Province_State\": \"California\", \"New cases\": -20641}, {\"Date\": \"4/20/20\", \"Province_State\": \"California\", \"New cases\": 22896}, {\"Date\": \"4/21/20\", \"Province_State\": \"California\", \"New cases\": 1794}, {\"Date\": \"4/22/20\", \"Province_State\": \"California\", \"New cases\": 1872}, {\"Date\": \"4/23/20\", \"Province_State\": \"California\", \"New cases\": 2209}, {\"Date\": \"4/24/20\", \"Province_State\": \"California\", \"New cases\": 1794}, {\"Date\": \"4/25/20\", \"Province_State\": \"California\", \"New cases\": 1013}, {\"Date\": \"4/26/20\", \"Province_State\": \"California\", \"New cases\": 1191}, {\"Date\": \"4/27/20\", \"Province_State\": \"California\", \"New cases\": 1413}, {\"Date\": \"4/28/20\", \"Province_State\": \"California\", \"New cases\": 1192}, {\"Date\": \"4/29/20\", \"Province_State\": \"California\", \"New cases\": 2583}, {\"Date\": \"4/3/20\", \"Province_State\": \"California\", \"New cases\": -36731}, {\"Date\": \"4/30/20\", \"Province_State\": \"California\", \"New cases\": 38114}, {\"Date\": \"4/4/20\", \"Province_State\": \"California\", \"New cases\": -37293}, {\"Date\": \"4/5/20\", \"Province_State\": \"California\", \"New cases\": 2197}, {\"Date\": \"4/6/20\", \"Province_State\": \"California\", \"New cases\": 990}, {\"Date\": \"4/7/20\", \"Province_State\": \"California\", \"New cases\": 1327}, {\"Date\": \"4/8/20\", \"Province_State\": \"California\", \"New cases\": 1546}, {\"Date\": \"4/9/20\", \"Province_State\": \"California\", \"New cases\": 813}, {\"Date\": \"5/1/20\", \"Province_State\": \"California\", \"New cases\": 32316}, {\"Date\": \"5/10/20\", \"Province_State\": \"California\", \"New cases\": 15574}, {\"Date\": \"5/11/20\", \"Province_State\": \"California\", \"New cases\": 1729}, {\"Date\": \"5/12/20\", \"Province_State\": \"California\", \"New cases\": 1651}, {\"Date\": \"5/13/20\", \"Province_State\": \"California\", \"New cases\": 1818}, {\"Date\": \"5/14/20\", \"Province_State\": \"California\", \"New cases\": 2073}, {\"Date\": \"5/15/20\", \"Province_State\": \"California\", \"New cases\": 1822}, {\"Date\": \"5/16/20\", \"Province_State\": \"California\", \"New cases\": 2032}, {\"Date\": \"5/17/20\", \"Province_State\": \"California\", \"New cases\": 1441}, {\"Date\": \"5/18/20\", \"Province_State\": \"California\", \"New cases\": 1352}, {\"Date\": \"5/19/20\", \"Province_State\": \"California\", \"New cases\": 2246}, {\"Date\": \"5/2/20\", \"Province_State\": \"California\", \"New cases\": -30417}, {\"Date\": \"5/20/20\", \"Province_State\": \"California\", \"New cases\": 32671}, {\"Date\": \"5/21/20\", \"Province_State\": \"California\", \"New cases\": 2038}, {\"Date\": \"5/22/20\", \"Province_State\": \"California\", \"New cases\": 2225}, {\"Date\": \"5/23/20\", \"Province_State\": \"California\", \"New cases\": 2283}, {\"Date\": \"5/24/20\", \"Province_State\": \"California\", \"New cases\": 1505}, {\"Date\": \"5/25/20\", \"Province_State\": \"California\", \"New cases\": 2401}, {\"Date\": \"5/26/20\", \"Province_State\": \"California\", \"New cases\": 3022}, {\"Date\": \"5/27/20\", \"Province_State\": \"California\", \"New cases\": 1579}, {\"Date\": \"5/28/20\", \"Province_State\": \"California\", \"New cases\": 2742}, {\"Date\": \"5/29/20\", \"Province_State\": \"California\", \"New cases\": 2825}, {\"Date\": \"5/3/20\", \"Province_State\": \"California\", \"New cases\": -51735}, {\"Date\": \"5/30/20\", \"Province_State\": \"California\", \"New cases\": 54992}, {\"Date\": \"5/31/20\", \"Province_State\": \"California\", \"New cases\": 2056}, {\"Date\": \"5/4/20\", \"Province_State\": \"California\", \"New cases\": -56067}, {\"Date\": \"5/5/20\", \"Province_State\": \"California\", \"New cases\": 2572}, {\"Date\": \"5/6/20\", \"Province_State\": \"California\", \"New cases\": 2160}, {\"Date\": \"5/7/20\", \"Province_State\": \"California\", \"New cases\": 1532}, {\"Date\": \"5/8/20\", \"Province_State\": \"California\", \"New cases\": 1652}, {\"Date\": \"5/9/20\", \"Province_State\": \"California\", \"New cases\": 2772}, {\"Date\": \"6/1/20\", \"Province_State\": \"California\", \"New cases\": 48161}, {\"Date\": \"6/10/20\", \"Province_State\": \"California\", \"New cases\": 24982}, {\"Date\": \"6/11/20\", \"Province_State\": \"California\", \"New cases\": 3724}, {\"Date\": \"6/12/20\", \"Province_State\": \"California\", \"New cases\": 3220}, {\"Date\": \"6/13/20\", \"Province_State\": \"California\", \"New cases\": 3375}, {\"Date\": \"6/14/20\", \"Province_State\": \"California\", \"New cases\": 2315}, {\"Date\": \"6/15/20\", \"Province_State\": \"California\", \"New cases\": 3377}, {\"Date\": \"6/16/20\", \"Province_State\": \"California\", \"New cases\": 3235}, {\"Date\": \"6/17/20\", \"Province_State\": \"California\", \"New cases\": 3837}, {\"Date\": \"6/18/20\", \"Province_State\": \"California\", \"New cases\": 4335}, {\"Date\": \"6/19/20\", \"Province_State\": \"California\", \"New cases\": 3729}, {\"Date\": \"6/2/20\", \"Province_State\": \"California\", \"New cases\": -53647}, {\"Date\": \"6/20/20\", \"Province_State\": \"California\", \"New cases\": 58028}, {\"Date\": \"6/21/20\", \"Province_State\": \"California\", \"New cases\": 3414}, {\"Date\": \"6/22/20\", \"Province_State\": \"California\", \"New cases\": 6108}, {\"Date\": \"6/23/20\", \"Province_State\": \"California\", \"New cases\": 6712}, {\"Date\": \"6/24/20\", \"Province_State\": \"California\", \"New cases\": 4547}, {\"Date\": \"6/25/20\", \"Province_State\": \"California\", \"New cases\": 5088}, {\"Date\": \"6/26/20\", \"Province_State\": \"California\", \"New cases\": 5732}, {\"Date\": \"6/27/20\", \"Province_State\": \"California\", \"New cases\": 3848}, {\"Date\": \"6/28/20\", \"Province_State\": \"California\", \"New cases\": 4795}, {\"Date\": \"6/29/20\", \"Province_State\": \"California\", \"New cases\": 8159}, {\"Date\": \"6/3/20\", \"Province_State\": \"California\", \"New cases\": -104272}, {\"Date\": \"6/30/20\", \"Province_State\": \"California\", \"New cases\": 112044}, {\"Date\": \"6/4/20\", \"Province_State\": \"California\", \"New cases\": -109224}, {\"Date\": \"6/5/20\", \"Province_State\": \"California\", \"New cases\": 3589}, {\"Date\": \"6/6/20\", \"Province_State\": \"California\", \"New cases\": 2823}, {\"Date\": \"6/7/20\", \"Province_State\": \"California\", \"New cases\": 2051}, {\"Date\": \"6/8/20\", \"Province_State\": \"California\", \"New cases\": 3159}, {\"Date\": \"6/9/20\", \"Province_State\": \"California\", \"New cases\": 2865}, {\"Date\": \"7/1/20\", \"Province_State\": \"California\", \"New cases\": 102000}, {\"Date\": \"7/10/20\", \"Province_State\": \"California\", \"New cases\": 72204}, {\"Date\": \"7/11/20\", \"Province_State\": \"California\", \"New cases\": 7876}, {\"Date\": \"7/12/20\", \"Province_State\": \"California\", \"New cases\": 5782}, {\"Date\": \"7/13/20\", \"Province_State\": \"California\", \"New cases\": 8814}, {\"Date\": \"7/14/20\", \"Province_State\": \"California\", \"New cases\": 12854}, {\"Date\": \"7/15/20\", \"Province_State\": \"California\", \"New cases\": 8674}, {\"Date\": \"7/16/20\", \"Province_State\": \"California\", \"New cases\": 9821}, {\"Date\": \"7/17/20\", \"Province_State\": \"California\", \"New cases\": 8553}, {\"Date\": \"7/18/20\", \"Province_State\": \"California\", \"New cases\": 7486}, {\"Date\": \"7/19/20\", \"Province_State\": \"California\", \"New cases\": 6161}, {\"Date\": \"7/2/20\", \"Province_State\": \"California\", \"New cases\": -140356}, {\"Date\": \"7/20/20\", \"Province_State\": \"California\", \"New cases\": 151320}, {\"Date\": \"7/21/20\", \"Province_State\": \"California\", \"New cases\": 11435}, {\"Date\": \"7/22/20\", \"Province_State\": \"California\", \"New cases\": 11981}, {\"Date\": \"7/23/20\", \"Province_State\": \"California\", \"New cases\": 9487}, {\"Date\": \"7/24/20\", \"Province_State\": \"California\", \"New cases\": 9412}, {\"Date\": \"7/25/20\", \"Province_State\": \"California\", \"New cases\": 6267}, {\"Date\": \"7/26/20\", \"Province_State\": \"California\", \"New cases\": 5836}, {\"Date\": \"7/27/20\", \"Province_State\": \"California\", \"New cases\": 5833}, {\"Date\": \"7/28/20\", \"Province_State\": \"California\", \"New cases\": 12641}, {\"Date\": \"7/29/20\", \"Province_State\": \"California\", \"New cases\": 14151}, {\"Date\": \"7/3/20\", \"Province_State\": \"California\", \"New cases\": -234399}, {\"Date\": \"7/30/20\", \"Province_State\": \"California\", \"New cases\": 242420}, {\"Date\": \"7/31/20\", \"Province_State\": \"California\", \"New cases\": 7622}, {\"Date\": \"7/4/20\", \"Province_State\": \"California\", \"New cases\": -247661}, {\"Date\": \"7/5/20\", \"Province_State\": \"California\", \"New cases\": 11786}, {\"Date\": \"7/6/20\", \"Province_State\": \"California\", \"New cases\": 6354}, {\"Date\": \"7/7/20\", \"Province_State\": \"California\", \"New cases\": 12977}, {\"Date\": \"7/8/20\", \"Province_State\": \"California\", \"New cases\": 8548}, {\"Date\": \"7/9/20\", \"Province_State\": \"California\", \"New cases\": 9924}, {\"Date\": \"8/1/20\", \"Province_State\": \"California\", \"New cases\": 204129}, {\"Date\": \"8/10/20\", \"Province_State\": \"California\", \"New cases\": 67618}, {\"Date\": \"8/11/20\", \"Province_State\": \"California\", \"New cases\": 4715}, {\"Date\": \"8/12/20\", \"Province_State\": \"California\", \"New cases\": 12430}, {\"Date\": \"8/13/20\", \"Province_State\": \"California\", \"New cases\": 6608}, {\"Date\": \"8/14/20\", \"Province_State\": \"California\", \"New cases\": 15117}, {\"Date\": \"8/15/20\", \"Province_State\": \"California\", \"New cases\": 4893}, {\"Date\": \"8/16/20\", \"Province_State\": \"California\", \"New cases\": 5879}, {\"Date\": \"8/17/20\", \"Province_State\": \"California\", \"New cases\": 5542}, {\"Date\": \"8/18/20\", \"Province_State\": \"California\", \"New cases\": 8725}, {\"Date\": \"8/19/20\", \"Province_State\": \"California\", \"New cases\": 9134}, {\"Date\": \"8/2/20\", \"Province_State\": \"California\", \"New cases\": -135099}, {\"Date\": \"8/20/20\", \"Province_State\": \"California\", \"New cases\": 140092}, {\"Date\": \"8/21/20\", \"Province_State\": \"California\", \"New cases\": 6633}, {\"Date\": \"8/3/20\", \"Province_State\": \"California\", \"New cases\": -142049}, {\"Date\": \"8/4/20\", \"Province_State\": \"California\", \"New cases\": 9834}, {\"Date\": \"8/5/20\", \"Province_State\": \"California\", \"New cases\": 3921}, {\"Date\": \"8/6/20\", \"Province_State\": \"California\", \"New cases\": 10733}, {\"Date\": \"8/7/20\", \"Province_State\": \"California\", \"New cases\": 5475}, {\"Date\": \"8/8/20\", \"Province_State\": \"California\", \"New cases\": 7574}, {\"Date\": \"8/9/20\", \"Province_State\": \"California\", \"New cases\": 5358}]}}, {\"mode\": \"vega-lite\"});\n",
              "</script>"
            ]
          },
          "metadata": {
            "tags": []
          },
          "execution_count": 104
        }
      ]
    },
    {
      "cell_type": "code",
      "metadata": {
        "colab_type": "code",
        "id": "nSqdbk8o-bHz",
        "colab": {
          "base_uri": "https://localhost:8080/",
          "height": 363
        },
        "outputId": "2a4fda90-9219-4773-ac75-089b452a2dbd"
      },
      "source": [
        "#base_ny.encode(y='Confirmed').properties(title='Total Confirmed') | base_ny.encode(y='Deaths',color = red).properties(title='Total deaths')\n",
        "\n",
        "base_ny.encode(y='New cases').properties(title='NY state - New cases')\n"
      ],
      "execution_count": 57,
      "outputs": [
        {
          "output_type": "execute_result",
          "data": {
            "text/plain": [
              "alt.Chart(...)"
            ],
            "text/html": [
              "\n",
              "<div id=\"altair-viz-dec9a6545438485595578e8c9569465d\"></div>\n",
              "<script type=\"text/javascript\">\n",
              "  (function(spec, embedOpt){\n",
              "    let outputDiv = document.currentScript.previousElementSibling;\n",
              "    if (outputDiv.id !== \"altair-viz-dec9a6545438485595578e8c9569465d\") {\n",
              "      outputDiv = document.getElementById(\"altair-viz-dec9a6545438485595578e8c9569465d\");\n",
              "    }\n",
              "    const paths = {\n",
              "      \"vega\": \"https://cdn.jsdelivr.net/npm//vega@5?noext\",\n",
              "      \"vega-lib\": \"https://cdn.jsdelivr.net/npm//vega-lib?noext\",\n",
              "      \"vega-lite\": \"https://cdn.jsdelivr.net/npm//vega-lite@4.8.1?noext\",\n",
              "      \"vega-embed\": \"https://cdn.jsdelivr.net/npm//vega-embed@6?noext\",\n",
              "    };\n",
              "\n",
              "    function loadScript(lib) {\n",
              "      return new Promise(function(resolve, reject) {\n",
              "        var s = document.createElement('script');\n",
              "        s.src = paths[lib];\n",
              "        s.async = true;\n",
              "        s.onload = () => resolve(paths[lib]);\n",
              "        s.onerror = () => reject(`Error loading script: ${paths[lib]}`);\n",
              "        document.getElementsByTagName(\"head\")[0].appendChild(s);\n",
              "      });\n",
              "    }\n",
              "\n",
              "    function showError(err) {\n",
              "      outputDiv.innerHTML = `<div class=\"error\" style=\"color:red;\">${err}</div>`;\n",
              "      throw err;\n",
              "    }\n",
              "\n",
              "    function displayChart(vegaEmbed) {\n",
              "      vegaEmbed(outputDiv, spec, embedOpt)\n",
              "        .catch(err => showError(`Javascript Error: ${err.message}<br>This usually means there's a typo in your chart specification. See the javascript console for the full traceback.`));\n",
              "    }\n",
              "\n",
              "    if(typeof define === \"function\" && define.amd) {\n",
              "      requirejs.config({paths});\n",
              "      require([\"vega-embed\"], displayChart, err => showError(`Error loading script: ${err.message}`));\n",
              "    } else if (typeof vegaEmbed === \"function\") {\n",
              "      displayChart(vegaEmbed);\n",
              "    } else {\n",
              "      loadScript(\"vega\")\n",
              "        .then(() => loadScript(\"vega-lite\"))\n",
              "        .then(() => loadScript(\"vega-embed\"))\n",
              "        .catch(showError)\n",
              "        .then(() => displayChart(vegaEmbed));\n",
              "    }\n",
              "  })({\"config\": {\"view\": {\"continuousWidth\": 400, \"continuousHeight\": 300}}, \"data\": {\"name\": \"data-d751713988987e9331980363e24189ce\"}, \"mark\": \"bar\", \"encoding\": {\"x\": {\"type\": \"ordinal\", \"field\": \"Date\", \"timeUnit\": \"monthdate\"}, \"y\": {\"type\": \"quantitative\", \"field\": \"New cases\"}}, \"title\": \"NY state - New cases\", \"width\": 500, \"$schema\": \"https://vega.github.io/schema/vega-lite/v4.8.1.json\", \"datasets\": {\"data-d751713988987e9331980363e24189ce\": []}}, {\"mode\": \"vega-lite\"});\n",
              "</script>"
            ]
          },
          "metadata": {
            "tags": []
          },
          "execution_count": 57
        }
      ]
    },
    {
      "cell_type": "code",
      "metadata": {
        "id": "noNhAVUYx4Gz",
        "colab_type": "code",
        "colab": {
          "base_uri": "https://localhost:8080/",
          "height": 363
        },
        "outputId": "321f5808-0abe-4cdb-e6f1-f56926fcfb2c"
      },
      "source": [
        "base_queens.encode(y=\"New cases\").properties(title='Queens County New Cases')"
      ],
      "execution_count": 58,
      "outputs": [
        {
          "output_type": "execute_result",
          "data": {
            "text/plain": [
              "alt.Chart(...)"
            ],
            "text/html": [
              "\n",
              "<div id=\"altair-viz-29dec3c2ac4c4bddbd30816ae716e31e\"></div>\n",
              "<script type=\"text/javascript\">\n",
              "  (function(spec, embedOpt){\n",
              "    let outputDiv = document.currentScript.previousElementSibling;\n",
              "    if (outputDiv.id !== \"altair-viz-29dec3c2ac4c4bddbd30816ae716e31e\") {\n",
              "      outputDiv = document.getElementById(\"altair-viz-29dec3c2ac4c4bddbd30816ae716e31e\");\n",
              "    }\n",
              "    const paths = {\n",
              "      \"vega\": \"https://cdn.jsdelivr.net/npm//vega@5?noext\",\n",
              "      \"vega-lib\": \"https://cdn.jsdelivr.net/npm//vega-lib?noext\",\n",
              "      \"vega-lite\": \"https://cdn.jsdelivr.net/npm//vega-lite@4.8.1?noext\",\n",
              "      \"vega-embed\": \"https://cdn.jsdelivr.net/npm//vega-embed@6?noext\",\n",
              "    };\n",
              "\n",
              "    function loadScript(lib) {\n",
              "      return new Promise(function(resolve, reject) {\n",
              "        var s = document.createElement('script');\n",
              "        s.src = paths[lib];\n",
              "        s.async = true;\n",
              "        s.onload = () => resolve(paths[lib]);\n",
              "        s.onerror = () => reject(`Error loading script: ${paths[lib]}`);\n",
              "        document.getElementsByTagName(\"head\")[0].appendChild(s);\n",
              "      });\n",
              "    }\n",
              "\n",
              "    function showError(err) {\n",
              "      outputDiv.innerHTML = `<div class=\"error\" style=\"color:red;\">${err}</div>`;\n",
              "      throw err;\n",
              "    }\n",
              "\n",
              "    function displayChart(vegaEmbed) {\n",
              "      vegaEmbed(outputDiv, spec, embedOpt)\n",
              "        .catch(err => showError(`Javascript Error: ${err.message}<br>This usually means there's a typo in your chart specification. See the javascript console for the full traceback.`));\n",
              "    }\n",
              "\n",
              "    if(typeof define === \"function\" && define.amd) {\n",
              "      requirejs.config({paths});\n",
              "      require([\"vega-embed\"], displayChart, err => showError(`Error loading script: ${err.message}`));\n",
              "    } else if (typeof vegaEmbed === \"function\") {\n",
              "      displayChart(vegaEmbed);\n",
              "    } else {\n",
              "      loadScript(\"vega\")\n",
              "        .then(() => loadScript(\"vega-lite\"))\n",
              "        .then(() => loadScript(\"vega-embed\"))\n",
              "        .catch(showError)\n",
              "        .then(() => displayChart(vegaEmbed));\n",
              "    }\n",
              "  })({\"config\": {\"view\": {\"continuousWidth\": 400, \"continuousHeight\": 300}}, \"data\": {\"name\": \"data-d751713988987e9331980363e24189ce\"}, \"mark\": \"bar\", \"encoding\": {\"x\": {\"type\": \"ordinal\", \"field\": \"Date\", \"timeUnit\": \"monthdate\"}, \"y\": {\"type\": \"quantitative\", \"field\": \"New cases\"}}, \"title\": \"Queens County New Cases\", \"width\": 500, \"$schema\": \"https://vega.github.io/schema/vega-lite/v4.8.1.json\", \"datasets\": {\"data-d751713988987e9331980363e24189ce\": []}}, {\"mode\": \"vega-lite\"});\n",
              "</script>"
            ]
          },
          "metadata": {
            "tags": []
          },
          "execution_count": 58
        }
      ]
    },
    {
      "cell_type": "markdown",
      "metadata": {
        "id": "xnChmkatzLCU",
        "colab_type": "text"
      },
      "source": [
        "# Rolling Average"
      ]
    },
    {
      "cell_type": "code",
      "metadata": {
        "id": "2O5o2HP3xGPt",
        "colab_type": "code",
        "colab": {
          "base_uri": "https://localhost:8080/",
          "height": 49
        },
        "outputId": "48250f82-51ab-4389-977f-2a7c4d6d0594"
      },
      "source": [
        "queens_county_total.head()"
      ],
      "execution_count": 59,
      "outputs": [
        {
          "output_type": "execute_result",
          "data": {
            "text/html": [
              "<div>\n",
              "<style scoped>\n",
              "    .dataframe tbody tr th:only-of-type {\n",
              "        vertical-align: middle;\n",
              "    }\n",
              "\n",
              "    .dataframe tbody tr th {\n",
              "        vertical-align: top;\n",
              "    }\n",
              "\n",
              "    .dataframe thead th {\n",
              "        text-align: right;\n",
              "    }\n",
              "</style>\n",
              "<table border=\"1\" class=\"dataframe\">\n",
              "  <thead>\n",
              "    <tr style=\"text-align: right;\">\n",
              "      <th></th>\n",
              "      <th>index</th>\n",
              "      <th>New cases</th>\n",
              "    </tr>\n",
              "  </thead>\n",
              "  <tbody>\n",
              "  </tbody>\n",
              "</table>\n",
              "</div>"
            ],
            "text/plain": [
              "Empty DataFrame\n",
              "Columns: [index, New cases]\n",
              "Index: []"
            ]
          },
          "metadata": {
            "tags": []
          },
          "execution_count": 59
        }
      ]
    },
    {
      "cell_type": "code",
      "metadata": {
        "id": "aOYjSgRHvXTp",
        "colab_type": "code",
        "colab": {
          "base_uri": "https://localhost:8080/",
          "height": 307
        },
        "outputId": "7b5c029d-df80-427a-db2a-0cbfaf75b37c"
      },
      "source": [
        "queens_county_total.iloc[:,2]"
      ],
      "execution_count": 60,
      "outputs": [
        {
          "output_type": "error",
          "ename": "IndexError",
          "evalue": "ignored",
          "traceback": [
            "\u001b[0;31m---------------------------------------------------------------------------\u001b[0m",
            "\u001b[0;31mIndexError\u001b[0m                                Traceback (most recent call last)",
            "\u001b[0;32m<ipython-input-60-c884f3523fd2>\u001b[0m in \u001b[0;36m<module>\u001b[0;34m()\u001b[0m\n\u001b[0;32m----> 1\u001b[0;31m \u001b[0mqueens_county_total\u001b[0m\u001b[0;34m.\u001b[0m\u001b[0miloc\u001b[0m\u001b[0;34m[\u001b[0m\u001b[0;34m:\u001b[0m\u001b[0;34m,\u001b[0m\u001b[0;36m2\u001b[0m\u001b[0;34m]\u001b[0m\u001b[0;34m\u001b[0m\u001b[0;34m\u001b[0m\u001b[0m\n\u001b[0m",
            "\u001b[0;32m/usr/local/lib/python3.6/dist-packages/pandas/core/indexing.py\u001b[0m in \u001b[0;36m__getitem__\u001b[0;34m(self, key)\u001b[0m\n\u001b[1;32m   1760\u001b[0m                 \u001b[0;32mexcept\u001b[0m \u001b[0;34m(\u001b[0m\u001b[0mKeyError\u001b[0m\u001b[0;34m,\u001b[0m \u001b[0mIndexError\u001b[0m\u001b[0;34m,\u001b[0m \u001b[0mAttributeError\u001b[0m\u001b[0;34m)\u001b[0m\u001b[0;34m:\u001b[0m\u001b[0;34m\u001b[0m\u001b[0;34m\u001b[0m\u001b[0m\n\u001b[1;32m   1761\u001b[0m                     \u001b[0;32mpass\u001b[0m\u001b[0;34m\u001b[0m\u001b[0;34m\u001b[0m\u001b[0m\n\u001b[0;32m-> 1762\u001b[0;31m             \u001b[0;32mreturn\u001b[0m \u001b[0mself\u001b[0m\u001b[0;34m.\u001b[0m\u001b[0m_getitem_tuple\u001b[0m\u001b[0;34m(\u001b[0m\u001b[0mkey\u001b[0m\u001b[0;34m)\u001b[0m\u001b[0;34m\u001b[0m\u001b[0;34m\u001b[0m\u001b[0m\n\u001b[0m\u001b[1;32m   1763\u001b[0m         \u001b[0;32melse\u001b[0m\u001b[0;34m:\u001b[0m\u001b[0;34m\u001b[0m\u001b[0;34m\u001b[0m\u001b[0m\n\u001b[1;32m   1764\u001b[0m             \u001b[0;31m# we by definition only have the 0th axis\u001b[0m\u001b[0;34m\u001b[0m\u001b[0;34m\u001b[0m\u001b[0;34m\u001b[0m\u001b[0m\n",
            "\u001b[0;32m/usr/local/lib/python3.6/dist-packages/pandas/core/indexing.py\u001b[0m in \u001b[0;36m_getitem_tuple\u001b[0;34m(self, tup)\u001b[0m\n\u001b[1;32m   2065\u001b[0m     \u001b[0;32mdef\u001b[0m \u001b[0m_getitem_tuple\u001b[0m\u001b[0;34m(\u001b[0m\u001b[0mself\u001b[0m\u001b[0;34m,\u001b[0m \u001b[0mtup\u001b[0m\u001b[0;34m:\u001b[0m \u001b[0mTuple\u001b[0m\u001b[0;34m)\u001b[0m\u001b[0;34m:\u001b[0m\u001b[0;34m\u001b[0m\u001b[0;34m\u001b[0m\u001b[0m\n\u001b[1;32m   2066\u001b[0m \u001b[0;34m\u001b[0m\u001b[0m\n\u001b[0;32m-> 2067\u001b[0;31m         \u001b[0mself\u001b[0m\u001b[0;34m.\u001b[0m\u001b[0m_has_valid_tuple\u001b[0m\u001b[0;34m(\u001b[0m\u001b[0mtup\u001b[0m\u001b[0;34m)\u001b[0m\u001b[0;34m\u001b[0m\u001b[0;34m\u001b[0m\u001b[0m\n\u001b[0m\u001b[1;32m   2068\u001b[0m         \u001b[0;32mtry\u001b[0m\u001b[0;34m:\u001b[0m\u001b[0;34m\u001b[0m\u001b[0;34m\u001b[0m\u001b[0m\n\u001b[1;32m   2069\u001b[0m             \u001b[0;32mreturn\u001b[0m \u001b[0mself\u001b[0m\u001b[0;34m.\u001b[0m\u001b[0m_getitem_lowerdim\u001b[0m\u001b[0;34m(\u001b[0m\u001b[0mtup\u001b[0m\u001b[0;34m)\u001b[0m\u001b[0;34m\u001b[0m\u001b[0;34m\u001b[0m\u001b[0m\n",
            "\u001b[0;32m/usr/local/lib/python3.6/dist-packages/pandas/core/indexing.py\u001b[0m in \u001b[0;36m_has_valid_tuple\u001b[0;34m(self, key)\u001b[0m\n\u001b[1;32m    701\u001b[0m                 \u001b[0;32mraise\u001b[0m \u001b[0mIndexingError\u001b[0m\u001b[0;34m(\u001b[0m\u001b[0;34m\"Too many indexers\"\u001b[0m\u001b[0;34m)\u001b[0m\u001b[0;34m\u001b[0m\u001b[0;34m\u001b[0m\u001b[0m\n\u001b[1;32m    702\u001b[0m             \u001b[0;32mtry\u001b[0m\u001b[0;34m:\u001b[0m\u001b[0;34m\u001b[0m\u001b[0;34m\u001b[0m\u001b[0m\n\u001b[0;32m--> 703\u001b[0;31m                 \u001b[0mself\u001b[0m\u001b[0;34m.\u001b[0m\u001b[0m_validate_key\u001b[0m\u001b[0;34m(\u001b[0m\u001b[0mk\u001b[0m\u001b[0;34m,\u001b[0m \u001b[0mi\u001b[0m\u001b[0;34m)\u001b[0m\u001b[0;34m\u001b[0m\u001b[0;34m\u001b[0m\u001b[0m\n\u001b[0m\u001b[1;32m    704\u001b[0m             \u001b[0;32mexcept\u001b[0m \u001b[0mValueError\u001b[0m\u001b[0;34m:\u001b[0m\u001b[0;34m\u001b[0m\u001b[0;34m\u001b[0m\u001b[0m\n\u001b[1;32m    705\u001b[0m                 raise ValueError(\n",
            "\u001b[0;32m/usr/local/lib/python3.6/dist-packages/pandas/core/indexing.py\u001b[0m in \u001b[0;36m_validate_key\u001b[0;34m(self, key, axis)\u001b[0m\n\u001b[1;32m   1992\u001b[0m             \u001b[0;32mreturn\u001b[0m\u001b[0;34m\u001b[0m\u001b[0;34m\u001b[0m\u001b[0m\n\u001b[1;32m   1993\u001b[0m         \u001b[0;32melif\u001b[0m \u001b[0mis_integer\u001b[0m\u001b[0;34m(\u001b[0m\u001b[0mkey\u001b[0m\u001b[0;34m)\u001b[0m\u001b[0;34m:\u001b[0m\u001b[0;34m\u001b[0m\u001b[0;34m\u001b[0m\u001b[0m\n\u001b[0;32m-> 1994\u001b[0;31m             \u001b[0mself\u001b[0m\u001b[0;34m.\u001b[0m\u001b[0m_validate_integer\u001b[0m\u001b[0;34m(\u001b[0m\u001b[0mkey\u001b[0m\u001b[0;34m,\u001b[0m \u001b[0maxis\u001b[0m\u001b[0;34m)\u001b[0m\u001b[0;34m\u001b[0m\u001b[0;34m\u001b[0m\u001b[0m\n\u001b[0m\u001b[1;32m   1995\u001b[0m         \u001b[0;32melif\u001b[0m \u001b[0misinstance\u001b[0m\u001b[0;34m(\u001b[0m\u001b[0mkey\u001b[0m\u001b[0;34m,\u001b[0m \u001b[0mtuple\u001b[0m\u001b[0;34m)\u001b[0m\u001b[0;34m:\u001b[0m\u001b[0;34m\u001b[0m\u001b[0;34m\u001b[0m\u001b[0m\n\u001b[1;32m   1996\u001b[0m             \u001b[0;31m# a tuple should already have been caught by this point\u001b[0m\u001b[0;34m\u001b[0m\u001b[0;34m\u001b[0m\u001b[0;34m\u001b[0m\u001b[0m\n",
            "\u001b[0;32m/usr/local/lib/python3.6/dist-packages/pandas/core/indexing.py\u001b[0m in \u001b[0;36m_validate_integer\u001b[0;34m(self, key, axis)\u001b[0m\n\u001b[1;32m   2061\u001b[0m         \u001b[0mlen_axis\u001b[0m \u001b[0;34m=\u001b[0m \u001b[0mlen\u001b[0m\u001b[0;34m(\u001b[0m\u001b[0mself\u001b[0m\u001b[0;34m.\u001b[0m\u001b[0mobj\u001b[0m\u001b[0;34m.\u001b[0m\u001b[0m_get_axis\u001b[0m\u001b[0;34m(\u001b[0m\u001b[0maxis\u001b[0m\u001b[0;34m)\u001b[0m\u001b[0;34m)\u001b[0m\u001b[0;34m\u001b[0m\u001b[0;34m\u001b[0m\u001b[0m\n\u001b[1;32m   2062\u001b[0m         \u001b[0;32mif\u001b[0m \u001b[0mkey\u001b[0m \u001b[0;34m>=\u001b[0m \u001b[0mlen_axis\u001b[0m \u001b[0;32mor\u001b[0m \u001b[0mkey\u001b[0m \u001b[0;34m<\u001b[0m \u001b[0;34m-\u001b[0m\u001b[0mlen_axis\u001b[0m\u001b[0;34m:\u001b[0m\u001b[0;34m\u001b[0m\u001b[0;34m\u001b[0m\u001b[0m\n\u001b[0;32m-> 2063\u001b[0;31m             \u001b[0;32mraise\u001b[0m \u001b[0mIndexError\u001b[0m\u001b[0;34m(\u001b[0m\u001b[0;34m\"single positional indexer is out-of-bounds\"\u001b[0m\u001b[0;34m)\u001b[0m\u001b[0;34m\u001b[0m\u001b[0;34m\u001b[0m\u001b[0m\n\u001b[0m\u001b[1;32m   2064\u001b[0m \u001b[0;34m\u001b[0m\u001b[0m\n\u001b[1;32m   2065\u001b[0m     \u001b[0;32mdef\u001b[0m \u001b[0m_getitem_tuple\u001b[0m\u001b[0;34m(\u001b[0m\u001b[0mself\u001b[0m\u001b[0;34m,\u001b[0m \u001b[0mtup\u001b[0m\u001b[0;34m:\u001b[0m \u001b[0mTuple\u001b[0m\u001b[0;34m)\u001b[0m\u001b[0;34m:\u001b[0m\u001b[0;34m\u001b[0m\u001b[0;34m\u001b[0m\u001b[0m\n",
            "\u001b[0;31mIndexError\u001b[0m: single positional indexer is out-of-bounds"
          ]
        }
      ]
    },
    {
      "cell_type": "code",
      "metadata": {
        "id": "tqU7apTow2AH",
        "colab_type": "code",
        "colab": {}
      },
      "source": [
        "base_queens.encode(y=\"New cases\").properties(title='Queens County New Cases')"
      ],
      "execution_count": null,
      "outputs": []
    },
    {
      "cell_type": "code",
      "metadata": {
        "id": "k8e9d_OfuXPO",
        "colab_type": "code",
        "colab": {}
      },
      "source": [
        "queens_county_total['rolling_average'] = queens_county_total.iloc[:,2].rolling(window=7).mean()\n",
        "\n",
        "base_queens = alt.Chart(queens_county_total).mark_bar().encode(\n",
        "    x='monthdate(Date):O',\n",
        ").properties(\n",
        "    width=500\n",
        ")\n"
      ],
      "execution_count": null,
      "outputs": []
    },
    {
      "cell_type": "code",
      "metadata": {
        "id": "6s3gY6OFuXH0",
        "colab_type": "code",
        "colab": {}
      },
      "source": [
        "queens_county_total.tail(10)"
      ],
      "execution_count": null,
      "outputs": []
    },
    {
      "cell_type": "code",
      "metadata": {
        "id": "A7d2Kcweyekp",
        "colab_type": "code",
        "colab": {}
      },
      "source": [
        "base_queens.encode(y=\"rolling_average\").properties(title='Queens County- 7 day rolling average (New Cases)')\n"
      ],
      "execution_count": null,
      "outputs": []
    },
    {
      "cell_type": "code",
      "metadata": {
        "id": "giV8kO9t1-N4",
        "colab_type": "code",
        "colab": {}
      },
      "source": [
        "bar = base_queens.mark_bar().encode(y=\"New cases\")\n",
        "\n",
        "line =  base_queens.mark_line(color='red').encode(\n",
        "    y='rolling_average'\n",
        ")\n",
        "\n",
        "(bar + line).properties(title='Queens County - New Cases and rolling average ',width=600)"
      ],
      "execution_count": null,
      "outputs": []
    },
    {
      "cell_type": "markdown",
      "metadata": {
        "id": "8Khn6uxisHTR",
        "colab_type": "text"
      },
      "source": [
        "# New Section"
      ]
    },
    {
      "cell_type": "code",
      "metadata": {
        "id": "9UPaPKhvzKwf",
        "colab_type": "code",
        "colab": {}
      },
      "source": [
        "fractalData_combo1"
      ],
      "execution_count": null,
      "outputs": []
    },
    {
      "cell_type": "code",
      "metadata": {
        "id": "cZ9DTw3TzKuC",
        "colab_type": "code",
        "colab": {}
      },
      "source": [
        "test = fractalData_combo1[fractalData_combo1['County Name'] == 'San Diego County']\n",
        "test.shape\n",
        "test"
      ],
      "execution_count": null,
      "outputs": []
    },
    {
      "cell_type": "code",
      "metadata": {
        "id": "xc5evv0k0Gr0",
        "colab_type": "code",
        "colab": {}
      },
      "source": [
        "cluster_perf_df.head()"
      ],
      "execution_count": null,
      "outputs": []
    },
    {
      "cell_type": "code",
      "metadata": {
        "id": "lpOFPpyg1AHi",
        "colab_type": "code",
        "colab": {}
      },
      "source": [
        "cluster_perf_df1.head() # min"
      ],
      "execution_count": null,
      "outputs": []
    },
    {
      "cell_type": "code",
      "metadata": {
        "id": "VkZMuHLd0_9z",
        "colab_type": "code",
        "colab": {}
      },
      "source": [
        "cluster_perf_df1_2.head() #max"
      ],
      "execution_count": null,
      "outputs": []
    },
    {
      "cell_type": "code",
      "metadata": {
        "id": "oSg9KDxbzsI5",
        "colab_type": "code",
        "colab": {}
      },
      "source": [
        "test1 = pd.merge(test,week_df, how='inner', on ='WeekNumber')\n",
        "test1.tail(10)"
      ],
      "execution_count": null,
      "outputs": []
    },
    {
      "cell_type": "code",
      "metadata": {
        "id": "7S_K17EWz7zv",
        "colab_type": "code",
        "colab": {}
      },
      "source": [
        "red = alt.value(\"#f54242\")\n",
        "base_orange.encode(y='Confirmed').properties(title='Total Confirmed') "
      ],
      "execution_count": null,
      "outputs": []
    },
    {
      "cell_type": "markdown",
      "metadata": {
        "id": "IPuS1iYXg4FL",
        "colab_type": "text"
      },
      "source": [
        "# Result Comparison"
      ]
    },
    {
      "cell_type": "code",
      "metadata": {
        "id": "82P6cH5Daz_w",
        "colab_type": "code",
        "colab": {}
      },
      "source": [
        "# considering for Final comparison\n",
        "combo1_cluster2"
      ],
      "execution_count": null,
      "outputs": []
    },
    {
      "cell_type": "code",
      "metadata": {
        "id": "tlYscjcBvw3T",
        "colab_type": "code",
        "colab": {}
      },
      "source": [
        "combo2_cluster1"
      ],
      "execution_count": null,
      "outputs": []
    },
    {
      "cell_type": "code",
      "metadata": {
        "id": "0f56eH5cjBEd",
        "colab_type": "code",
        "colab": {}
      },
      "source": [
        "combo2_cluster2"
      ],
      "execution_count": null,
      "outputs": []
    },
    {
      "cell_type": "code",
      "metadata": {
        "id": "Y8DnGSXBv_68",
        "colab_type": "code",
        "colab": {}
      },
      "source": [
        "combo3_cluster1"
      ],
      "execution_count": null,
      "outputs": []
    },
    {
      "cell_type": "code",
      "metadata": {
        "id": "q2GtHZFfjC2l",
        "colab_type": "code",
        "colab": {}
      },
      "source": [
        "combo3_cluster2"
      ],
      "execution_count": null,
      "outputs": []
    },
    {
      "cell_type": "markdown",
      "metadata": {
        "id": "SYvve_SKB91V",
        "colab_type": "text"
      },
      "source": [
        "## Data Exploration"
      ]
    },
    {
      "cell_type": "code",
      "metadata": {
        "id": "uY5c0VXkBfPJ",
        "colab_type": "code",
        "colab": {}
      },
      "source": [
        "import altair as alt"
      ],
      "execution_count": null,
      "outputs": []
    },
    {
      "cell_type": "code",
      "metadata": {
        "id": "6pfxOrAcxu2q",
        "colab_type": "code",
        "colab": {}
      },
      "source": [
        "week_df"
      ],
      "execution_count": null,
      "outputs": []
    },
    {
      "cell_type": "code",
      "metadata": {
        "id": "udGbO75Uw78L",
        "colab_type": "code",
        "colab": {}
      },
      "source": [
        "merged.dtypes"
      ],
      "execution_count": null,
      "outputs": []
    },
    {
      "cell_type": "code",
      "metadata": {
        "id": "0SHiuLcTw3j8",
        "colab_type": "code",
        "colab": {}
      },
      "source": [
        "LA_county = merged[merged['County Name'] == 'Los Angeles County']\n",
        "LA_county.shape"
      ],
      "execution_count": null,
      "outputs": []
    },
    {
      "cell_type": "code",
      "metadata": {
        "id": "ZxfdSLkPx-k1",
        "colab_type": "code",
        "colab": {}
      },
      "source": [
        "orange_county = merged[merged['County Name'] == 'San Diego County']\n"
      ],
      "execution_count": null,
      "outputs": []
    },
    {
      "cell_type": "code",
      "metadata": {
        "id": "L3_HLTInxTwf",
        "colab_type": "code",
        "colab": {}
      },
      "source": [
        "base_la = alt.Chart(LA_county).mark_bar().encode(\n",
        "    x='monthdate(Date):O',\n",
        ").properties(\n",
        "    width=500\n",
        ")\n",
        "\n",
        "base_orange = alt.Chart(orange_county).mark_bar().encode(\n",
        "    x='monthdate(Date):O',\n",
        ").properties(\n",
        "    width=500\n",
        ")"
      ],
      "execution_count": null,
      "outputs": []
    },
    {
      "cell_type": "code",
      "metadata": {
        "id": "5WtKAgZ7xZLN",
        "colab_type": "code",
        "colab": {}
      },
      "source": [
        "red = alt.value(\"#f54242\")\n",
        "base_orange.encode(y='Confirmed').properties(title='Total Confirmed') \n"
      ],
      "execution_count": null,
      "outputs": []
    },
    {
      "cell_type": "code",
      "metadata": {
        "id": "Q8YXkJ8yBfNC",
        "colab_type": "code",
        "colab": {}
      },
      "source": [
        "ca_df = full_grouped[full_grouped['Province_State'] == 'California']\n",
        "ny_df = full_grouped[full_grouped['Province_State'] == 'New York']\n",
        "tx_df = full_grouped[full_grouped['Province_State'] == 'Texas']"
      ],
      "execution_count": 105,
      "outputs": []
    },
    {
      "cell_type": "code",
      "metadata": {
        "id": "gZ4A8NkynCmW",
        "colab_type": "code",
        "colab": {
          "base_uri": "https://localhost:8080/",
          "height": 204
        },
        "outputId": "6bc4afd2-02a1-481c-c550-c16c6b031c5a"
      },
      "source": [
        "ny_df.head()"
      ],
      "execution_count": 106,
      "outputs": [
        {
          "output_type": "execute_result",
          "data": {
            "text/html": [
              "<div>\n",
              "<style scoped>\n",
              "    .dataframe tbody tr th:only-of-type {\n",
              "        vertical-align: middle;\n",
              "    }\n",
              "\n",
              "    .dataframe tbody tr th {\n",
              "        vertical-align: top;\n",
              "    }\n",
              "\n",
              "    .dataframe thead th {\n",
              "        text-align: right;\n",
              "    }\n",
              "</style>\n",
              "<table border=\"1\" class=\"dataframe\">\n",
              "  <thead>\n",
              "    <tr style=\"text-align: right;\">\n",
              "      <th></th>\n",
              "      <th>Date</th>\n",
              "      <th>Province_State</th>\n",
              "      <th>FIPS</th>\n",
              "      <th>Confirmed</th>\n",
              "      <th>Deaths</th>\n",
              "      <th>New cases</th>\n",
              "      <th>New deaths</th>\n",
              "    </tr>\n",
              "  </thead>\n",
              "  <tbody>\n",
              "    <tr>\n",
              "      <th>0</th>\n",
              "      <td>1/22/20</td>\n",
              "      <td>New York</td>\n",
              "      <td>36001.0</td>\n",
              "      <td>0</td>\n",
              "      <td>0</td>\n",
              "      <td>0</td>\n",
              "      <td>0</td>\n",
              "    </tr>\n",
              "    <tr>\n",
              "      <th>1</th>\n",
              "      <td>1/23/20</td>\n",
              "      <td>New York</td>\n",
              "      <td>36001.0</td>\n",
              "      <td>0</td>\n",
              "      <td>0</td>\n",
              "      <td>0</td>\n",
              "      <td>0</td>\n",
              "    </tr>\n",
              "    <tr>\n",
              "      <th>2</th>\n",
              "      <td>1/24/20</td>\n",
              "      <td>New York</td>\n",
              "      <td>36001.0</td>\n",
              "      <td>0</td>\n",
              "      <td>0</td>\n",
              "      <td>0</td>\n",
              "      <td>0</td>\n",
              "    </tr>\n",
              "    <tr>\n",
              "      <th>3</th>\n",
              "      <td>1/25/20</td>\n",
              "      <td>New York</td>\n",
              "      <td>36001.0</td>\n",
              "      <td>0</td>\n",
              "      <td>0</td>\n",
              "      <td>0</td>\n",
              "      <td>0</td>\n",
              "    </tr>\n",
              "    <tr>\n",
              "      <th>4</th>\n",
              "      <td>1/26/20</td>\n",
              "      <td>New York</td>\n",
              "      <td>36001.0</td>\n",
              "      <td>0</td>\n",
              "      <td>0</td>\n",
              "      <td>0</td>\n",
              "      <td>0</td>\n",
              "    </tr>\n",
              "  </tbody>\n",
              "</table>\n",
              "</div>"
            ],
            "text/plain": [
              "      Date Province_State     FIPS Confirmed Deaths New cases New deaths\n",
              "0  1/22/20       New York  36001.0         0      0         0          0\n",
              "1  1/23/20       New York  36001.0         0      0         0          0\n",
              "2  1/24/20       New York  36001.0         0      0         0          0\n",
              "3  1/25/20       New York  36001.0         0      0         0          0\n",
              "4  1/26/20       New York  36001.0         0      0         0          0"
            ]
          },
          "metadata": {
            "tags": []
          },
          "execution_count": 106
        }
      ]
    },
    {
      "cell_type": "code",
      "metadata": {
        "id": "zFQ1SF3pnFBQ",
        "colab_type": "code",
        "colab": {}
      },
      "source": [
        "ny_df.to_csv('NY-CovidAug22.csv',index=False)"
      ],
      "execution_count": 107,
      "outputs": []
    },
    {
      "cell_type": "code",
      "metadata": {
        "id": "ysUJCv1nBfKG",
        "colab_type": "code",
        "colab": {}
      },
      "source": [
        "base_ca = alt.Chart(ca_df).mark_bar().encode(\n",
        "    x='monthdate(Date):O',\n",
        ").properties(\n",
        "    width=500\n",
        ")\n",
        "\n",
        "base_ny = alt.Chart(ny_df).mark_bar().encode(\n",
        "    x='monthdate(Date):O',\n",
        ").properties(\n",
        "    width=500\n",
        ")\n",
        "\n",
        "base_tx = alt.Chart(tx_df).mark_bar().encode(\n",
        "    x='monthdate(Date):O',\n",
        ").properties(\n",
        "    width=500\n",
        ")"
      ],
      "execution_count": null,
      "outputs": []
    },
    {
      "cell_type": "code",
      "metadata": {
        "id": "kBylKZKDBe4v",
        "colab_type": "code",
        "colab": {}
      },
      "source": [
        "red = alt.value(\"#f54242\")\n",
        "base_ca.encode(y='Confirmed').properties(title='Total Confirmed') | base_ca.encode(y='Deaths',color = red).properties(title='Total deaths')\n"
      ],
      "execution_count": null,
      "outputs": []
    },
    {
      "cell_type": "code",
      "metadata": {
        "id": "X2vjXgMbDqYj",
        "colab_type": "code",
        "colab": {}
      },
      "source": [
        "base_ny.encode(y='Confirmed').properties(title='Total Confirmed') | base_ny.encode(y='Deaths',color = red).properties(title='Total deaths')\n"
      ],
      "execution_count": null,
      "outputs": []
    },
    {
      "cell_type": "code",
      "metadata": {
        "id": "Co-i287FDqWI",
        "colab_type": "code",
        "colab": {}
      },
      "source": [
        "base_tx.encode(y='Confirmed').properties(title='Total Confirmed') | base_tx.encode(y='Deaths',color = red).properties(title='Total deaths')\n"
      ],
      "execution_count": null,
      "outputs": []
    },
    {
      "cell_type": "code",
      "metadata": {
        "id": "hbjz-JPxDqTq",
        "colab_type": "code",
        "colab": {}
      },
      "source": [
        "base_ca.encode(y='New cases').properties(title='Total New Cases') | base_ca.encode(y='New deaths',color = red).properties(title='Total New deaths')\n"
      ],
      "execution_count": null,
      "outputs": []
    },
    {
      "cell_type": "code",
      "metadata": {
        "id": "fI5o-tYkDqRj",
        "colab_type": "code",
        "colab": {}
      },
      "source": [
        ""
      ],
      "execution_count": null,
      "outputs": []
    },
    {
      "cell_type": "code",
      "metadata": {
        "id": "X1gFKJAGDqLG",
        "colab_type": "code",
        "colab": {}
      },
      "source": [
        ""
      ],
      "execution_count": null,
      "outputs": []
    },
    {
      "cell_type": "markdown",
      "metadata": {
        "id": "KjRxEK71nUgO",
        "colab_type": "text"
      },
      "source": [
        "## Steps to approach the problem\n",
        "\n",
        "* Predict how 'New cases' count changed in states after mask mandate\n",
        "* check the type of **rule** - \n",
        "  1. Entire State\n",
        "  2. Entire Territory\n",
        "  3. Parts of State\n",
        "  4. Entire State (Employees Only)\n",
        "  5. Parts of State (Employees Only)\n",
        "  6. No\n",
        "  7. Masks strongly recommended, provides masks for free\n",
        "  8. Entire State (Some Employees)\n",
        "\n",
        "impacts the new cases count\n",
        "\n",
        "* Include/identify latent variables like 'Long weekend' date, 'Rally' date, 'BLM' protests happened date impact in new cases count \n",
        "* Identify datasource for people cooperation in following the rule\n",
        "* Political party ruling the state\n",
        "* Population \n",
        "* Epicenter city of each state\n",
        "* Type of mask (?)\n",
        "\n"
      ]
    },
    {
      "cell_type": "markdown",
      "metadata": {
        "id": "DZPVHGGB06ha",
        "colab_type": "text"
      },
      "source": [
        "## Reference\n",
        "\n",
        "* https://towardsdatascience.com/covid-19-data-processing-58aaa3663f6"
      ]
    }
  ]
}