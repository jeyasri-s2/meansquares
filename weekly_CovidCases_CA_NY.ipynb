{
  "nbformat": 4,
  "nbformat_minor": 0,
  "metadata": {
    "colab": {
      "name": "weekly_CovidCases_CA_NY.ipynb",
      "provenance": [],
      "collapsed_sections": [],
      "toc_visible": true,
      "machine_shape": "hm",
      "include_colab_link": true
    },
    "kernelspec": {
      "name": "python3",
      "display_name": "Python 3"
    },
    "accelerator": "GPU"
  },
  "cells": [
    {
      "cell_type": "markdown",
      "metadata": {
        "id": "view-in-github",
        "colab_type": "text"
      },
      "source": [
        "<a href=\"https://colab.research.google.com/github/aarsanjani/meansquares/blob/master/weekly_CovidCases_CA_NY.ipynb\" target=\"_parent\"><img src=\"https://colab.research.google.com/assets/colab-badge.svg\" alt=\"Open In Colab\"/></a>"
      ]
    },
    {
      "cell_type": "markdown",
      "metadata": {
        "id": "5KLYplb9rUcO",
        "colab_type": "text"
      },
      "source": [
        "# Topic: Investigate Covid-19 NY and CA data"
      ]
    },
    {
      "cell_type": "markdown",
      "metadata": {
        "id": "rQQ8KCcYrgh8",
        "colab_type": "text"
      },
      "source": [
        "This colab includes CA and NY covid case data from JHU and moving avg trend analysis"
      ]
    },
    {
      "cell_type": "code",
      "metadata": {
        "id": "mcdbrTS38vcE",
        "colab_type": "code",
        "colab": {
          "base_uri": "https://localhost:8080/",
          "height": 190
        },
        "outputId": "037af035-35b9-4a15-8ab7-240c34d6004f"
      },
      "source": [
        "!pip install wget"
      ],
      "execution_count": 2,
      "outputs": [
        {
          "output_type": "stream",
          "text": [
            "Collecting wget\n",
            "  Downloading https://files.pythonhosted.org/packages/47/6a/62e288da7bcda82b935ff0c6cfe542970f04e29c756b0e147251b2fb251f/wget-3.2.zip\n",
            "Building wheels for collected packages: wget\n",
            "  Building wheel for wget (setup.py) ... \u001b[?25l\u001b[?25hdone\n",
            "  Created wheel for wget: filename=wget-3.2-cp36-none-any.whl size=9682 sha256=2115651c3823721af3b3f7abeadba9d91f79b34fa993a1c30c1a5d8cd7d3ff03\n",
            "  Stored in directory: /root/.cache/pip/wheels/40/15/30/7d8f7cea2902b4db79e3fea550d7d7b85ecb27ef992b618f3f\n",
            "Successfully built wget\n",
            "Installing collected packages: wget\n",
            "Successfully installed wget-3.2\n"
          ],
          "name": "stdout"
        }
      ]
    },
    {
      "cell_type": "markdown",
      "metadata": {
        "id": "GFEyT1gSN_CX",
        "colab_type": "text"
      },
      "source": [
        "## Import Libraries"
      ]
    },
    {
      "cell_type": "code",
      "metadata": {
        "id": "6QbOhpGKrQub",
        "colab_type": "code",
        "colab": {
          "base_uri": "https://localhost:8080/",
          "height": 71
        },
        "outputId": "9370d85d-3c19-4095-f805-020b05d86a57"
      },
      "source": [
        "import pandas as pd\n",
        "import seaborn as sns\n",
        "import numpy as np\n",
        "import matplotlib.pyplot as plt\n",
        "import os\n",
        "import wget\n",
        "from pandas import Series, datetime\n",
        "from pandas.plotting import scatter_matrix, autocorrelation_plot\n",
        "from sklearn.preprocessing import StandardScaler, RobustScaler\n",
        "from sklearn.model_selection import train_test_split, KFold, cross_val_score, GridSearchCV, TimeSeriesSplit\n",
        "from sklearn import metrics\n",
        "from sklearn.metrics import classification_report, confusion_matrix, accuracy_score, mean_squared_error\n",
        "from sklearn.pipeline import Pipeline\n",
        "from sklearn.linear_model import LogisticRegression\n",
        "from sklearn.tree import DecisionTreeClassifier\n",
        "from sklearn.neighbors import KNeighborsClassifier\n",
        "from sklearn.discriminant_analysis import LinearDiscriminantAnalysis\n",
        "from sklearn.naive_bayes import GaussianNB\n",
        "from sklearn.cluster import KMeans\n",
        "from sklearn.svm import SVC\n",
        "from sklearn.ensemble import AdaBoostClassifier, GradientBoostingClassifier, RandomForestClassifier, ExtraTreesClassifier\n",
        "from sklearn.metrics import roc_curve, auc\n",
        "import random\n",
        "from statsmodels.graphics.tsaplots import plot_acf, plot_pacf\n",
        "from statsmodels.tsa.arima_model import ARIMA\n",
        "from xgboost import XGBClassifier\n",
        "from sklearn.mixture import GaussianMixture"
      ],
      "execution_count": 3,
      "outputs": [
        {
          "output_type": "stream",
          "text": [
            "/usr/local/lib/python3.6/dist-packages/statsmodels/tools/_testing.py:19: FutureWarning: pandas.util.testing is deprecated. Use the functions in the public API at pandas.testing instead.\n",
            "  import pandas.util.testing as tm\n"
          ],
          "name": "stderr"
        }
      ]
    },
    {
      "cell_type": "markdown",
      "metadata": {
        "id": "XG7L7Wu9ssnZ",
        "colab_type": "text"
      },
      "source": [
        "## Mount Google drive\n"
      ]
    },
    {
      "cell_type": "code",
      "metadata": {
        "id": "SXC6gd0isu7o",
        "colab_type": "code",
        "colab": {}
      },
      "source": [
        "os.environ[\"TF_CPP_MIN_LOG_LEVEL\"]=\"2\"\n",
        "import warnings; warnings.simplefilter('ignore')"
      ],
      "execution_count": 4,
      "outputs": []
    },
    {
      "cell_type": "code",
      "metadata": {
        "id": "kkIdtS1JsvlO",
        "colab_type": "code",
        "colab": {}
      },
      "source": [
        "from google.colab import drive\n",
        "# drive.mount('/content/drive')"
      ],
      "execution_count": 5,
      "outputs": []
    },
    {
      "cell_type": "code",
      "metadata": {
        "id": "F-i78za67STu",
        "colab_type": "code",
        "colab": {}
      },
      "source": [
        "location = \"drive/Shared drives/the-mean-sqaures/the-mean-squares/Colab_Dataset/Dataset/\""
      ],
      "execution_count": 6,
      "outputs": []
    },
    {
      "cell_type": "code",
      "metadata": {
        "id": "eSHBvEKMsMLZ",
        "colab_type": "code",
        "colab": {
          "base_uri": "https://localhost:8080/",
          "height": 54
        },
        "outputId": "157166b7-4314-46e6-8f9a-43c3a959b524"
      },
      "source": [
        "!ls /content/drive/My\\ Drive/MasterProject-Personal/data"
      ],
      "execution_count": 7,
      "outputs": [
        {
          "output_type": "stream",
          "text": [
            "ls: cannot access '/content/drive/My Drive/MasterProject-Personal/data': No such file or directory\n"
          ],
          "name": "stdout"
        }
      ]
    },
    {
      "cell_type": "markdown",
      "metadata": {
        "id": "jkka58J3qP-B",
        "colab_type": "text"
      },
      "source": [
        "# Data Load"
      ]
    },
    {
      "cell_type": "markdown",
      "metadata": {
        "id": "VsVZXbVoJ5-N",
        "colab_type": "text"
      },
      "source": [
        "## 1 Load County Population\n"
      ]
    },
    {
      "cell_type": "code",
      "metadata": {
        "id": "WZno5k12J9BI",
        "colab_type": "code",
        "colab": {
          "base_uri": "https://localhost:8080/",
          "height": 34
        },
        "outputId": "7b3b288f-31ae-45dd-fcb6-6061ade2ee8e"
      },
      "source": [
        "county_population_US = pd.read_csv('https://usafactsstatic.blob.core.windows.net/public/data/covid-19/covid_county_population_usafacts.csv',low_memory=False)\n",
        "print(county_population_US.shape)"
      ],
      "execution_count": 8,
      "outputs": [
        {
          "output_type": "stream",
          "text": [
            "(3195, 4)\n"
          ],
          "name": "stdout"
        }
      ]
    },
    {
      "cell_type": "code",
      "metadata": {
        "id": "IEHB_7mnKAuI",
        "colab_type": "code",
        "colab": {
          "base_uri": "https://localhost:8080/",
          "height": 34
        },
        "outputId": "bf483aea-b19b-486f-c883-70757e4e75ca"
      },
      "source": [
        "wget.download('https://usafactsstatic.blob.core.windows.net/public/data/covid-19/covid_county_population_usafacts.csv')\n",
        "county_population_US = pd.read_csv('covid_county_population_usafacts.csv',low_memory=False)\n",
        "print(county_population_US.shape)\n",
        "\n",
        "\n"
      ],
      "execution_count": 9,
      "outputs": [
        {
          "output_type": "stream",
          "text": [
            "(3195, 4)\n"
          ],
          "name": "stdout"
        }
      ]
    },
    {
      "cell_type": "code",
      "metadata": {
        "id": "9aVG7gFdKQQm",
        "colab_type": "code",
        "colab": {
          "base_uri": "https://localhost:8080/",
          "height": 111
        },
        "outputId": "9c8cf7ac-609c-4341-9a23-6600b77ab63d"
      },
      "source": [
        "county_population_US.head(2)"
      ],
      "execution_count": 10,
      "outputs": [
        {
          "output_type": "execute_result",
          "data": {
            "text/html": [
              "<div>\n",
              "<style scoped>\n",
              "    .dataframe tbody tr th:only-of-type {\n",
              "        vertical-align: middle;\n",
              "    }\n",
              "\n",
              "    .dataframe tbody tr th {\n",
              "        vertical-align: top;\n",
              "    }\n",
              "\n",
              "    .dataframe thead th {\n",
              "        text-align: right;\n",
              "    }\n",
              "</style>\n",
              "<table border=\"1\" class=\"dataframe\">\n",
              "  <thead>\n",
              "    <tr style=\"text-align: right;\">\n",
              "      <th></th>\n",
              "      <th>countyFIPS</th>\n",
              "      <th>County Name</th>\n",
              "      <th>State</th>\n",
              "      <th>population</th>\n",
              "    </tr>\n",
              "  </thead>\n",
              "  <tbody>\n",
              "    <tr>\n",
              "      <th>0</th>\n",
              "      <td>0</td>\n",
              "      <td>Statewide Unallocated</td>\n",
              "      <td>AL</td>\n",
              "      <td>0</td>\n",
              "    </tr>\n",
              "    <tr>\n",
              "      <th>1</th>\n",
              "      <td>1001</td>\n",
              "      <td>Autauga County</td>\n",
              "      <td>AL</td>\n",
              "      <td>55869</td>\n",
              "    </tr>\n",
              "  </tbody>\n",
              "</table>\n",
              "</div>"
            ],
            "text/plain": [
              "   countyFIPS            County Name State  population\n",
              "0           0  Statewide Unallocated    AL           0\n",
              "1        1001         Autauga County    AL       55869"
            ]
          },
          "metadata": {
            "tags": []
          },
          "execution_count": 10
        }
      ]
    },
    {
      "cell_type": "markdown",
      "metadata": {
        "id": "-Ued4-m3waSu",
        "colab_type": "text"
      },
      "source": [
        "## 2 Load Covid-19 case details (until July 12)"
      ]
    },
    {
      "cell_type": "code",
      "metadata": {
        "id": "OBaFkfiewtBS",
        "colab_type": "code",
        "colab": {
          "base_uri": "https://localhost:8080/",
          "height": 54
        },
        "outputId": "61a7aa89-2a7e-472e-a9b3-946d2f9aee75"
      },
      "source": [
        "!ls '/content/drive/My Drive/MasterProject-Personal/data/'"
      ],
      "execution_count": 11,
      "outputs": [
        {
          "output_type": "stream",
          "text": [
            "ls: cannot access '/content/drive/My Drive/MasterProject-Personal/data/': No such file or directory\n"
          ],
          "name": "stdout"
        }
      ]
    },
    {
      "cell_type": "markdown",
      "metadata": {
        "id": "t1RSRy861K-h",
        "colab_type": "text"
      },
      "source": [
        "### Note about data:\n",
        "John Hopkins university updates data every day hence we are pulling from repository directly\n",
        "\n",
        "**US Confirmed url** :https://raw.githubusercontent.com/CSSEGISandData/COVID-19/master/csse_covid_19_data/csse_covid_19_time_series/time_series_covid19_confirmed_US.csv\n",
        "\n",
        "**US deaths url**: https://raw.githubusercontent.com/CSSEGISandData/COVID-19/master/csse_covid_19_data/csse_covid_19_time_series/time_series_covid19_deaths_US.csv"
      ]
    },
    {
      "cell_type": "code",
      "metadata": {
        "id": "_MHkCNZm2ZaY",
        "colab_type": "code",
        "colab": {
          "base_uri": "https://localhost:8080/",
          "height": 34
        },
        "outputId": "31510b1a-ae88-4a79-a379-a8a8ff08401b"
      },
      "source": [
        "urls = ['https://raw.githubusercontent.com/CSSEGISandData/COVID-19/master/csse_covid_19_data/csse_covid_19_time_series/time_series_covid19_confirmed_US.csv',\n",
        "        'https://raw.githubusercontent.com/CSSEGISandData/COVID-19/master/csse_covid_19_data/csse_covid_19_time_series/time_series_covid19_deaths_US.csv']\n",
        "\n",
        "[wget.download(url) for url in urls]        "
      ],
      "execution_count": 12,
      "outputs": [
        {
          "output_type": "execute_result",
          "data": {
            "text/plain": [
              "['time_series_covid19_confirmed_US.csv', 'time_series_covid19_deaths_US.csv']"
            ]
          },
          "metadata": {
            "tags": []
          },
          "execution_count": 12
        }
      ]
    },
    {
      "cell_type": "code",
      "metadata": {
        "id": "A4wqPxvOwh1i",
        "colab_type": "code",
        "colab": {
          "base_uri": "https://localhost:8080/",
          "height": 313
        },
        "outputId": "31749d2b-3466-49ba-d9c8-1e309822bc5f"
      },
      "source": [
        "confirmed_US = pd.read_csv('time_series_covid19_confirmed_US.csv',low_memory=False)\n",
        "death_US = pd.read_csv('time_series_covid19_deaths_US.csv',low_memory=False)\n",
        "print(confirmed_US.shape)\n",
        "print(death_US.shape)\n",
        "print(confirmed_US.head(2))\n",
        "death_US.head(2)"
      ],
      "execution_count": 13,
      "outputs": [
        {
          "output_type": "stream",
          "text": [
            "(3340, 217)\n",
            "(3340, 218)\n",
            "        UID iso2 iso3  code3  ...  8/11/20 8/12/20 8/13/20 8/14/20\n",
            "0  84001001   US  USA    840  ...     1162    1188    1196    1196\n",
            "1  84001003   US  USA    840  ...     3670    3710    3744    3791\n",
            "\n",
            "[2 rows x 217 columns]\n"
          ],
          "name": "stdout"
        },
        {
          "output_type": "execute_result",
          "data": {
            "text/html": [
              "<div>\n",
              "<style scoped>\n",
              "    .dataframe tbody tr th:only-of-type {\n",
              "        vertical-align: middle;\n",
              "    }\n",
              "\n",
              "    .dataframe tbody tr th {\n",
              "        vertical-align: top;\n",
              "    }\n",
              "\n",
              "    .dataframe thead th {\n",
              "        text-align: right;\n",
              "    }\n",
              "</style>\n",
              "<table border=\"1\" class=\"dataframe\">\n",
              "  <thead>\n",
              "    <tr style=\"text-align: right;\">\n",
              "      <th></th>\n",
              "      <th>UID</th>\n",
              "      <th>iso2</th>\n",
              "      <th>iso3</th>\n",
              "      <th>code3</th>\n",
              "      <th>FIPS</th>\n",
              "      <th>Admin2</th>\n",
              "      <th>Province_State</th>\n",
              "      <th>Country_Region</th>\n",
              "      <th>Lat</th>\n",
              "      <th>Long_</th>\n",
              "      <th>Combined_Key</th>\n",
              "      <th>Population</th>\n",
              "      <th>1/22/20</th>\n",
              "      <th>1/23/20</th>\n",
              "      <th>1/24/20</th>\n",
              "      <th>1/25/20</th>\n",
              "      <th>1/26/20</th>\n",
              "      <th>1/27/20</th>\n",
              "      <th>1/28/20</th>\n",
              "      <th>1/29/20</th>\n",
              "      <th>1/30/20</th>\n",
              "      <th>1/31/20</th>\n",
              "      <th>2/1/20</th>\n",
              "      <th>2/2/20</th>\n",
              "      <th>2/3/20</th>\n",
              "      <th>2/4/20</th>\n",
              "      <th>2/5/20</th>\n",
              "      <th>2/6/20</th>\n",
              "      <th>2/7/20</th>\n",
              "      <th>2/8/20</th>\n",
              "      <th>2/9/20</th>\n",
              "      <th>2/10/20</th>\n",
              "      <th>2/11/20</th>\n",
              "      <th>2/12/20</th>\n",
              "      <th>2/13/20</th>\n",
              "      <th>2/14/20</th>\n",
              "      <th>2/15/20</th>\n",
              "      <th>2/16/20</th>\n",
              "      <th>2/17/20</th>\n",
              "      <th>2/18/20</th>\n",
              "      <th>...</th>\n",
              "      <th>7/6/20</th>\n",
              "      <th>7/7/20</th>\n",
              "      <th>7/8/20</th>\n",
              "      <th>7/9/20</th>\n",
              "      <th>7/10/20</th>\n",
              "      <th>7/11/20</th>\n",
              "      <th>7/12/20</th>\n",
              "      <th>7/13/20</th>\n",
              "      <th>7/14/20</th>\n",
              "      <th>7/15/20</th>\n",
              "      <th>7/16/20</th>\n",
              "      <th>7/17/20</th>\n",
              "      <th>7/18/20</th>\n",
              "      <th>7/19/20</th>\n",
              "      <th>7/20/20</th>\n",
              "      <th>7/21/20</th>\n",
              "      <th>7/22/20</th>\n",
              "      <th>7/23/20</th>\n",
              "      <th>7/24/20</th>\n",
              "      <th>7/25/20</th>\n",
              "      <th>7/26/20</th>\n",
              "      <th>7/27/20</th>\n",
              "      <th>7/28/20</th>\n",
              "      <th>7/29/20</th>\n",
              "      <th>7/30/20</th>\n",
              "      <th>7/31/20</th>\n",
              "      <th>8/1/20</th>\n",
              "      <th>8/2/20</th>\n",
              "      <th>8/3/20</th>\n",
              "      <th>8/4/20</th>\n",
              "      <th>8/5/20</th>\n",
              "      <th>8/6/20</th>\n",
              "      <th>8/7/20</th>\n",
              "      <th>8/8/20</th>\n",
              "      <th>8/9/20</th>\n",
              "      <th>8/10/20</th>\n",
              "      <th>8/11/20</th>\n",
              "      <th>8/12/20</th>\n",
              "      <th>8/13/20</th>\n",
              "      <th>8/14/20</th>\n",
              "    </tr>\n",
              "  </thead>\n",
              "  <tbody>\n",
              "    <tr>\n",
              "      <th>0</th>\n",
              "      <td>84001001</td>\n",
              "      <td>US</td>\n",
              "      <td>USA</td>\n",
              "      <td>840</td>\n",
              "      <td>1001.0</td>\n",
              "      <td>Autauga</td>\n",
              "      <td>Alabama</td>\n",
              "      <td>US</td>\n",
              "      <td>32.539527</td>\n",
              "      <td>-86.644082</td>\n",
              "      <td>Autauga, Alabama, US</td>\n",
              "      <td>55869</td>\n",
              "      <td>0</td>\n",
              "      <td>0</td>\n",
              "      <td>0</td>\n",
              "      <td>0</td>\n",
              "      <td>0</td>\n",
              "      <td>0</td>\n",
              "      <td>0</td>\n",
              "      <td>0</td>\n",
              "      <td>0</td>\n",
              "      <td>0</td>\n",
              "      <td>0</td>\n",
              "      <td>0</td>\n",
              "      <td>0</td>\n",
              "      <td>0</td>\n",
              "      <td>0</td>\n",
              "      <td>0</td>\n",
              "      <td>0</td>\n",
              "      <td>0</td>\n",
              "      <td>0</td>\n",
              "      <td>0</td>\n",
              "      <td>0</td>\n",
              "      <td>0</td>\n",
              "      <td>0</td>\n",
              "      <td>0</td>\n",
              "      <td>0</td>\n",
              "      <td>0</td>\n",
              "      <td>0</td>\n",
              "      <td>0</td>\n",
              "      <td>...</td>\n",
              "      <td>12</td>\n",
              "      <td>12</td>\n",
              "      <td>12</td>\n",
              "      <td>13</td>\n",
              "      <td>14</td>\n",
              "      <td>14</td>\n",
              "      <td>15</td>\n",
              "      <td>15</td>\n",
              "      <td>17</td>\n",
              "      <td>18</td>\n",
              "      <td>19</td>\n",
              "      <td>20</td>\n",
              "      <td>20</td>\n",
              "      <td>20</td>\n",
              "      <td>20</td>\n",
              "      <td>20</td>\n",
              "      <td>20</td>\n",
              "      <td>20</td>\n",
              "      <td>20</td>\n",
              "      <td>20</td>\n",
              "      <td>20</td>\n",
              "      <td>20</td>\n",
              "      <td>20</td>\n",
              "      <td>20</td>\n",
              "      <td>20</td>\n",
              "      <td>20</td>\n",
              "      <td>20</td>\n",
              "      <td>20</td>\n",
              "      <td>20</td>\n",
              "      <td>20</td>\n",
              "      <td>21</td>\n",
              "      <td>21</td>\n",
              "      <td>21</td>\n",
              "      <td>21</td>\n",
              "      <td>21</td>\n",
              "      <td>21</td>\n",
              "      <td>22</td>\n",
              "      <td>22</td>\n",
              "      <td>22</td>\n",
              "      <td>22</td>\n",
              "    </tr>\n",
              "    <tr>\n",
              "      <th>1</th>\n",
              "      <td>84001003</td>\n",
              "      <td>US</td>\n",
              "      <td>USA</td>\n",
              "      <td>840</td>\n",
              "      <td>1003.0</td>\n",
              "      <td>Baldwin</td>\n",
              "      <td>Alabama</td>\n",
              "      <td>US</td>\n",
              "      <td>30.727750</td>\n",
              "      <td>-87.722071</td>\n",
              "      <td>Baldwin, Alabama, US</td>\n",
              "      <td>223234</td>\n",
              "      <td>0</td>\n",
              "      <td>0</td>\n",
              "      <td>0</td>\n",
              "      <td>0</td>\n",
              "      <td>0</td>\n",
              "      <td>0</td>\n",
              "      <td>0</td>\n",
              "      <td>0</td>\n",
              "      <td>0</td>\n",
              "      <td>0</td>\n",
              "      <td>0</td>\n",
              "      <td>0</td>\n",
              "      <td>0</td>\n",
              "      <td>0</td>\n",
              "      <td>0</td>\n",
              "      <td>0</td>\n",
              "      <td>0</td>\n",
              "      <td>0</td>\n",
              "      <td>0</td>\n",
              "      <td>0</td>\n",
              "      <td>0</td>\n",
              "      <td>0</td>\n",
              "      <td>0</td>\n",
              "      <td>0</td>\n",
              "      <td>0</td>\n",
              "      <td>0</td>\n",
              "      <td>0</td>\n",
              "      <td>0</td>\n",
              "      <td>...</td>\n",
              "      <td>9</td>\n",
              "      <td>9</td>\n",
              "      <td>9</td>\n",
              "      <td>10</td>\n",
              "      <td>11</td>\n",
              "      <td>11</td>\n",
              "      <td>11</td>\n",
              "      <td>11</td>\n",
              "      <td>11</td>\n",
              "      <td>12</td>\n",
              "      <td>13</td>\n",
              "      <td>13</td>\n",
              "      <td>14</td>\n",
              "      <td>14</td>\n",
              "      <td>14</td>\n",
              "      <td>15</td>\n",
              "      <td>15</td>\n",
              "      <td>16</td>\n",
              "      <td>17</td>\n",
              "      <td>17</td>\n",
              "      <td>17</td>\n",
              "      <td>17</td>\n",
              "      <td>17</td>\n",
              "      <td>20</td>\n",
              "      <td>20</td>\n",
              "      <td>21</td>\n",
              "      <td>21</td>\n",
              "      <td>22</td>\n",
              "      <td>23</td>\n",
              "      <td>23</td>\n",
              "      <td>23</td>\n",
              "      <td>23</td>\n",
              "      <td>23</td>\n",
              "      <td>24</td>\n",
              "      <td>25</td>\n",
              "      <td>25</td>\n",
              "      <td>29</td>\n",
              "      <td>29</td>\n",
              "      <td>29</td>\n",
              "      <td>29</td>\n",
              "    </tr>\n",
              "  </tbody>\n",
              "</table>\n",
              "<p>2 rows × 218 columns</p>\n",
              "</div>"
            ],
            "text/plain": [
              "        UID iso2 iso3  code3  ...  8/11/20 8/12/20 8/13/20 8/14/20\n",
              "0  84001001   US  USA    840  ...       22      22      22      22\n",
              "1  84001003   US  USA    840  ...       29      29      29      29\n",
              "\n",
              "[2 rows x 218 columns]"
            ]
          },
          "metadata": {
            "tags": []
          },
          "execution_count": 13
        }
      ]
    },
    {
      "cell_type": "code",
      "metadata": {
        "id": "-Xmnw9e2xJud",
        "colab_type": "code",
        "colab": {
          "base_uri": "https://localhost:8080/",
          "height": 255
        },
        "outputId": "b322105c-61b7-463c-8e51-cfa1a5920def"
      },
      "source": [
        "#print(len(mask_data['state_name'].unique()))\n",
        "print(len(confirmed_US['Province_State'].unique()))\n",
        "confirmed_US['Province_State'].unique()"
      ],
      "execution_count": 14,
      "outputs": [
        {
          "output_type": "stream",
          "text": [
            "58\n"
          ],
          "name": "stdout"
        },
        {
          "output_type": "execute_result",
          "data": {
            "text/plain": [
              "array(['Alabama', 'Alaska', 'American Samoa', 'Arizona', 'Arkansas',\n",
              "       'California', 'Colorado', 'Connecticut', 'Delaware',\n",
              "       'Diamond Princess', 'District of Columbia', 'Florida', 'Georgia',\n",
              "       'Grand Princess', 'Guam', 'Hawaii', 'Idaho', 'Illinois', 'Indiana',\n",
              "       'Iowa', 'Kansas', 'Kentucky', 'Louisiana', 'Maine', 'Maryland',\n",
              "       'Massachusetts', 'Michigan', 'Minnesota', 'Mississippi',\n",
              "       'Missouri', 'Montana', 'Nebraska', 'Nevada', 'New Hampshire',\n",
              "       'New Jersey', 'New Mexico', 'New York', 'North Carolina',\n",
              "       'North Dakota', 'Northern Mariana Islands', 'Ohio', 'Oklahoma',\n",
              "       'Oregon', 'Pennsylvania', 'Puerto Rico', 'Rhode Island',\n",
              "       'South Carolina', 'South Dakota', 'Tennessee', 'Texas', 'Utah',\n",
              "       'Vermont', 'Virgin Islands', 'Virginia', 'Washington',\n",
              "       'West Virginia', 'Wisconsin', 'Wyoming'], dtype=object)"
            ]
          },
          "metadata": {
            "tags": []
          },
          "execution_count": 14
        }
      ]
    },
    {
      "cell_type": "markdown",
      "metadata": {
        "id": "RN2E93cS32Re",
        "colab_type": "text"
      },
      "source": [
        "## Data cleaning"
      ]
    },
    {
      "cell_type": "code",
      "metadata": {
        "id": "MQ52sy6o4DQd",
        "colab_type": "code",
        "colab": {
          "base_uri": "https://localhost:8080/",
          "height": 68
        },
        "outputId": "3a018b1f-488e-4f8a-997d-2ba75e8aba7f"
      },
      "source": [
        "confirmed_US.columns[:11]\n",
        "\n",
        "# Note: the first 11 columns contains UID, ios2,ios3, code ,FIPS, 'Admin2', 'Province_State',\n",
        "      # 'Country_Region', 'Lat', 'Long_',Combined_Key', 'Population',\n"
      ],
      "execution_count": 15,
      "outputs": [
        {
          "output_type": "execute_result",
          "data": {
            "text/plain": [
              "Index(['UID', 'iso2', 'iso3', 'code3', 'FIPS', 'Admin2', 'Province_State',\n",
              "       'Country_Region', 'Lat', 'Long_', 'Combined_Key'],\n",
              "      dtype='object')"
            ]
          },
          "metadata": {
            "tags": []
          },
          "execution_count": 15
        }
      ]
    },
    {
      "cell_type": "code",
      "metadata": {
        "id": "59E3UfdPwWGp",
        "colab_type": "code",
        "colab": {
          "base_uri": "https://localhost:8080/",
          "height": 119
        },
        "outputId": "6c0631f9-3367-41d3-b257-b93c5b60a2dc"
      },
      "source": [
        "# date begins from 11th column\n",
        "confirmed_dates = confirmed_US.columns[11:]\n",
        "confirmed_dates"
      ],
      "execution_count": 16,
      "outputs": [
        {
          "output_type": "execute_result",
          "data": {
            "text/plain": [
              "Index(['1/22/20', '1/23/20', '1/24/20', '1/25/20', '1/26/20', '1/27/20',\n",
              "       '1/28/20', '1/29/20', '1/30/20', '1/31/20',\n",
              "       ...\n",
              "       '8/5/20', '8/6/20', '8/7/20', '8/8/20', '8/9/20', '8/10/20', '8/11/20',\n",
              "       '8/12/20', '8/13/20', '8/14/20'],\n",
              "      dtype='object', length=206)"
            ]
          },
          "metadata": {
            "tags": []
          },
          "execution_count": 16
        }
      ]
    },
    {
      "cell_type": "code",
      "metadata": {
        "id": "LCuanaUk5fje",
        "colab_type": "code",
        "colab": {
          "base_uri": "https://localhost:8080/",
          "height": 68
        },
        "outputId": "325650c1-12f1-40a0-a651-2a9a50477499"
      },
      "source": [
        "death_US.columns[:12]"
      ],
      "execution_count": 17,
      "outputs": [
        {
          "output_type": "execute_result",
          "data": {
            "text/plain": [
              "Index(['UID', 'iso2', 'iso3', 'code3', 'FIPS', 'Admin2', 'Province_State',\n",
              "       'Country_Region', 'Lat', 'Long_', 'Combined_Key', 'Population'],\n",
              "      dtype='object')"
            ]
          },
          "metadata": {
            "tags": []
          },
          "execution_count": 17
        }
      ]
    },
    {
      "cell_type": "code",
      "metadata": {
        "id": "8M_vOe244lax",
        "colab_type": "code",
        "colab": {
          "base_uri": "https://localhost:8080/",
          "height": 119
        },
        "outputId": "102598ed-7478-4ffa-909d-744d3c39719f"
      },
      "source": [
        "death_US.columns[10:]"
      ],
      "execution_count": 18,
      "outputs": [
        {
          "output_type": "execute_result",
          "data": {
            "text/plain": [
              "Index(['Combined_Key', 'Population', '1/22/20', '1/23/20', '1/24/20',\n",
              "       '1/25/20', '1/26/20', '1/27/20', '1/28/20', '1/29/20',\n",
              "       ...\n",
              "       '8/5/20', '8/6/20', '8/7/20', '8/8/20', '8/9/20', '8/10/20', '8/11/20',\n",
              "       '8/12/20', '8/13/20', '8/14/20'],\n",
              "      dtype='object', length=208)"
            ]
          },
          "metadata": {
            "tags": []
          },
          "execution_count": 18
        }
      ]
    },
    {
      "cell_type": "code",
      "metadata": {
        "id": "wyJe4mng05ee",
        "colab_type": "code",
        "colab": {
          "base_uri": "https://localhost:8080/",
          "height": 119
        },
        "outputId": "1a0d027a-49db-43f6-fff8-b975b218dc69"
      },
      "source": [
        "death_dates = death_US.columns[12:]\n",
        "death_dates"
      ],
      "execution_count": 19,
      "outputs": [
        {
          "output_type": "execute_result",
          "data": {
            "text/plain": [
              "Index(['1/22/20', '1/23/20', '1/24/20', '1/25/20', '1/26/20', '1/27/20',\n",
              "       '1/28/20', '1/29/20', '1/30/20', '1/31/20',\n",
              "       ...\n",
              "       '8/5/20', '8/6/20', '8/7/20', '8/8/20', '8/9/20', '8/10/20', '8/11/20',\n",
              "       '8/12/20', '8/13/20', '8/14/20'],\n",
              "      dtype='object', length=206)"
            ]
          },
          "metadata": {
            "tags": []
          },
          "execution_count": 19
        }
      ]
    },
    {
      "cell_type": "markdown",
      "metadata": {
        "id": "GOpVOfZk44_O",
        "colab_type": "text"
      },
      "source": [
        "#### Note: both the date values has the same beginning date 1/22/2020. Hence we can use either of the values"
      ]
    },
    {
      "cell_type": "code",
      "metadata": {
        "id": "SWrPIbZA4wA_",
        "colab_type": "code",
        "colab": {}
      },
      "source": [
        "confirmed_df_long = confirmed_US.melt(\n",
        "    id_vars=['UID', 'iso2', 'iso3', 'code3', 'FIPS', 'Admin2', 'Province_State',\n",
        "       'Country_Region', 'Lat', 'Long_', 'Combined_Key'],\n",
        "       value_vars=confirmed_dates,\n",
        "       var_name = 'Date',\n",
        "       value_name = 'Confirmed'\n",
        ")\n",
        "\n",
        "death_df_long = death_US.melt(\n",
        "    id_vars=['UID', 'iso2', 'iso3', 'code3', 'FIPS', 'Admin2', 'Province_State',\n",
        "       'Country_Region', 'Lat', 'Long_', 'Combined_Key', 'Population'],\n",
        "       value_vars=death_dates,\n",
        "       var_name = 'Date',\n",
        "       value_name = 'Deaths'\n",
        ")"
      ],
      "execution_count": 20,
      "outputs": []
    },
    {
      "cell_type": "code",
      "metadata": {
        "id": "Zgyg7VRm4v-z",
        "colab_type": "code",
        "colab": {
          "base_uri": "https://localhost:8080/",
          "height": 549
        },
        "outputId": "47829b15-2e95-459e-9414-2d032c00fa5c"
      },
      "source": [
        "confirmed_df_long.tail(10)"
      ],
      "execution_count": 21,
      "outputs": [
        {
          "output_type": "execute_result",
          "data": {
            "text/html": [
              "<div>\n",
              "<style scoped>\n",
              "    .dataframe tbody tr th:only-of-type {\n",
              "        vertical-align: middle;\n",
              "    }\n",
              "\n",
              "    .dataframe tbody tr th {\n",
              "        vertical-align: top;\n",
              "    }\n",
              "\n",
              "    .dataframe thead th {\n",
              "        text-align: right;\n",
              "    }\n",
              "</style>\n",
              "<table border=\"1\" class=\"dataframe\">\n",
              "  <thead>\n",
              "    <tr style=\"text-align: right;\">\n",
              "      <th></th>\n",
              "      <th>UID</th>\n",
              "      <th>iso2</th>\n",
              "      <th>iso3</th>\n",
              "      <th>code3</th>\n",
              "      <th>FIPS</th>\n",
              "      <th>Admin2</th>\n",
              "      <th>Province_State</th>\n",
              "      <th>Country_Region</th>\n",
              "      <th>Lat</th>\n",
              "      <th>Long_</th>\n",
              "      <th>Combined_Key</th>\n",
              "      <th>Date</th>\n",
              "      <th>Confirmed</th>\n",
              "    </tr>\n",
              "  </thead>\n",
              "  <tbody>\n",
              "    <tr>\n",
              "      <th>688030</th>\n",
              "      <td>84056029</td>\n",
              "      <td>US</td>\n",
              "      <td>USA</td>\n",
              "      <td>840</td>\n",
              "      <td>56029.0</td>\n",
              "      <td>Park</td>\n",
              "      <td>Wyoming</td>\n",
              "      <td>US</td>\n",
              "      <td>44.521575</td>\n",
              "      <td>-109.585282</td>\n",
              "      <td>Park, Wyoming, US</td>\n",
              "      <td>8/14/20</td>\n",
              "      <td>144</td>\n",
              "    </tr>\n",
              "    <tr>\n",
              "      <th>688031</th>\n",
              "      <td>84056031</td>\n",
              "      <td>US</td>\n",
              "      <td>USA</td>\n",
              "      <td>840</td>\n",
              "      <td>56031.0</td>\n",
              "      <td>Platte</td>\n",
              "      <td>Wyoming</td>\n",
              "      <td>US</td>\n",
              "      <td>42.132991</td>\n",
              "      <td>-104.966331</td>\n",
              "      <td>Platte, Wyoming, US</td>\n",
              "      <td>8/14/20</td>\n",
              "      <td>6</td>\n",
              "    </tr>\n",
              "    <tr>\n",
              "      <th>688032</th>\n",
              "      <td>84056033</td>\n",
              "      <td>US</td>\n",
              "      <td>USA</td>\n",
              "      <td>840</td>\n",
              "      <td>56033.0</td>\n",
              "      <td>Sheridan</td>\n",
              "      <td>Wyoming</td>\n",
              "      <td>US</td>\n",
              "      <td>44.790489</td>\n",
              "      <td>-106.886239</td>\n",
              "      <td>Sheridan, Wyoming, US</td>\n",
              "      <td>8/14/20</td>\n",
              "      <td>78</td>\n",
              "    </tr>\n",
              "    <tr>\n",
              "      <th>688033</th>\n",
              "      <td>84056035</td>\n",
              "      <td>US</td>\n",
              "      <td>USA</td>\n",
              "      <td>840</td>\n",
              "      <td>56035.0</td>\n",
              "      <td>Sublette</td>\n",
              "      <td>Wyoming</td>\n",
              "      <td>US</td>\n",
              "      <td>42.765583</td>\n",
              "      <td>-109.913092</td>\n",
              "      <td>Sublette, Wyoming, US</td>\n",
              "      <td>8/14/20</td>\n",
              "      <td>40</td>\n",
              "    </tr>\n",
              "    <tr>\n",
              "      <th>688034</th>\n",
              "      <td>84056037</td>\n",
              "      <td>US</td>\n",
              "      <td>USA</td>\n",
              "      <td>840</td>\n",
              "      <td>56037.0</td>\n",
              "      <td>Sweetwater</td>\n",
              "      <td>Wyoming</td>\n",
              "      <td>US</td>\n",
              "      <td>41.659439</td>\n",
              "      <td>-108.882788</td>\n",
              "      <td>Sweetwater, Wyoming, US</td>\n",
              "      <td>8/14/20</td>\n",
              "      <td>271</td>\n",
              "    </tr>\n",
              "    <tr>\n",
              "      <th>688035</th>\n",
              "      <td>84056039</td>\n",
              "      <td>US</td>\n",
              "      <td>USA</td>\n",
              "      <td>840</td>\n",
              "      <td>56039.0</td>\n",
              "      <td>Teton</td>\n",
              "      <td>Wyoming</td>\n",
              "      <td>US</td>\n",
              "      <td>43.935225</td>\n",
              "      <td>-110.589080</td>\n",
              "      <td>Teton, Wyoming, US</td>\n",
              "      <td>8/14/20</td>\n",
              "      <td>383</td>\n",
              "    </tr>\n",
              "    <tr>\n",
              "      <th>688036</th>\n",
              "      <td>84056041</td>\n",
              "      <td>US</td>\n",
              "      <td>USA</td>\n",
              "      <td>840</td>\n",
              "      <td>56041.0</td>\n",
              "      <td>Uinta</td>\n",
              "      <td>Wyoming</td>\n",
              "      <td>US</td>\n",
              "      <td>41.287818</td>\n",
              "      <td>-110.547578</td>\n",
              "      <td>Uinta, Wyoming, US</td>\n",
              "      <td>8/14/20</td>\n",
              "      <td>277</td>\n",
              "    </tr>\n",
              "    <tr>\n",
              "      <th>688037</th>\n",
              "      <td>84090056</td>\n",
              "      <td>US</td>\n",
              "      <td>USA</td>\n",
              "      <td>840</td>\n",
              "      <td>90056.0</td>\n",
              "      <td>Unassigned</td>\n",
              "      <td>Wyoming</td>\n",
              "      <td>US</td>\n",
              "      <td>0.000000</td>\n",
              "      <td>0.000000</td>\n",
              "      <td>Unassigned, Wyoming, US</td>\n",
              "      <td>8/14/20</td>\n",
              "      <td>0</td>\n",
              "    </tr>\n",
              "    <tr>\n",
              "      <th>688038</th>\n",
              "      <td>84056043</td>\n",
              "      <td>US</td>\n",
              "      <td>USA</td>\n",
              "      <td>840</td>\n",
              "      <td>56043.0</td>\n",
              "      <td>Washakie</td>\n",
              "      <td>Wyoming</td>\n",
              "      <td>US</td>\n",
              "      <td>43.904516</td>\n",
              "      <td>-107.680187</td>\n",
              "      <td>Washakie, Wyoming, US</td>\n",
              "      <td>8/14/20</td>\n",
              "      <td>96</td>\n",
              "    </tr>\n",
              "    <tr>\n",
              "      <th>688039</th>\n",
              "      <td>84056045</td>\n",
              "      <td>US</td>\n",
              "      <td>USA</td>\n",
              "      <td>840</td>\n",
              "      <td>56045.0</td>\n",
              "      <td>Weston</td>\n",
              "      <td>Wyoming</td>\n",
              "      <td>US</td>\n",
              "      <td>43.839612</td>\n",
              "      <td>-104.567488</td>\n",
              "      <td>Weston, Wyoming, US</td>\n",
              "      <td>8/14/20</td>\n",
              "      <td>5</td>\n",
              "    </tr>\n",
              "  </tbody>\n",
              "</table>\n",
              "</div>"
            ],
            "text/plain": [
              "             UID iso2 iso3  ...             Combined_Key     Date Confirmed\n",
              "688030  84056029   US  USA  ...        Park, Wyoming, US  8/14/20       144\n",
              "688031  84056031   US  USA  ...      Platte, Wyoming, US  8/14/20         6\n",
              "688032  84056033   US  USA  ...    Sheridan, Wyoming, US  8/14/20        78\n",
              "688033  84056035   US  USA  ...    Sublette, Wyoming, US  8/14/20        40\n",
              "688034  84056037   US  USA  ...  Sweetwater, Wyoming, US  8/14/20       271\n",
              "688035  84056039   US  USA  ...       Teton, Wyoming, US  8/14/20       383\n",
              "688036  84056041   US  USA  ...       Uinta, Wyoming, US  8/14/20       277\n",
              "688037  84090056   US  USA  ...  Unassigned, Wyoming, US  8/14/20         0\n",
              "688038  84056043   US  USA  ...    Washakie, Wyoming, US  8/14/20        96\n",
              "688039  84056045   US  USA  ...      Weston, Wyoming, US  8/14/20         5\n",
              "\n",
              "[10 rows x 13 columns]"
            ]
          },
          "metadata": {
            "tags": []
          },
          "execution_count": 21
        }
      ]
    },
    {
      "cell_type": "code",
      "metadata": {
        "id": "pMhFo-6S4v9D",
        "colab_type": "code",
        "colab": {
          "base_uri": "https://localhost:8080/",
          "height": 549
        },
        "outputId": "e42060d5-975a-4556-daa7-bebb7703ca4b"
      },
      "source": [
        "death_df_long.tail(10)"
      ],
      "execution_count": 22,
      "outputs": [
        {
          "output_type": "execute_result",
          "data": {
            "text/html": [
              "<div>\n",
              "<style scoped>\n",
              "    .dataframe tbody tr th:only-of-type {\n",
              "        vertical-align: middle;\n",
              "    }\n",
              "\n",
              "    .dataframe tbody tr th {\n",
              "        vertical-align: top;\n",
              "    }\n",
              "\n",
              "    .dataframe thead th {\n",
              "        text-align: right;\n",
              "    }\n",
              "</style>\n",
              "<table border=\"1\" class=\"dataframe\">\n",
              "  <thead>\n",
              "    <tr style=\"text-align: right;\">\n",
              "      <th></th>\n",
              "      <th>UID</th>\n",
              "      <th>iso2</th>\n",
              "      <th>iso3</th>\n",
              "      <th>code3</th>\n",
              "      <th>FIPS</th>\n",
              "      <th>Admin2</th>\n",
              "      <th>Province_State</th>\n",
              "      <th>Country_Region</th>\n",
              "      <th>Lat</th>\n",
              "      <th>Long_</th>\n",
              "      <th>Combined_Key</th>\n",
              "      <th>Population</th>\n",
              "      <th>Date</th>\n",
              "      <th>Deaths</th>\n",
              "    </tr>\n",
              "  </thead>\n",
              "  <tbody>\n",
              "    <tr>\n",
              "      <th>688030</th>\n",
              "      <td>84056029</td>\n",
              "      <td>US</td>\n",
              "      <td>USA</td>\n",
              "      <td>840</td>\n",
              "      <td>56029.0</td>\n",
              "      <td>Park</td>\n",
              "      <td>Wyoming</td>\n",
              "      <td>US</td>\n",
              "      <td>44.521575</td>\n",
              "      <td>-109.585282</td>\n",
              "      <td>Park, Wyoming, US</td>\n",
              "      <td>29194</td>\n",
              "      <td>8/14/20</td>\n",
              "      <td>0</td>\n",
              "    </tr>\n",
              "    <tr>\n",
              "      <th>688031</th>\n",
              "      <td>84056031</td>\n",
              "      <td>US</td>\n",
              "      <td>USA</td>\n",
              "      <td>840</td>\n",
              "      <td>56031.0</td>\n",
              "      <td>Platte</td>\n",
              "      <td>Wyoming</td>\n",
              "      <td>US</td>\n",
              "      <td>42.132991</td>\n",
              "      <td>-104.966331</td>\n",
              "      <td>Platte, Wyoming, US</td>\n",
              "      <td>8393</td>\n",
              "      <td>8/14/20</td>\n",
              "      <td>0</td>\n",
              "    </tr>\n",
              "    <tr>\n",
              "      <th>688032</th>\n",
              "      <td>84056033</td>\n",
              "      <td>US</td>\n",
              "      <td>USA</td>\n",
              "      <td>840</td>\n",
              "      <td>56033.0</td>\n",
              "      <td>Sheridan</td>\n",
              "      <td>Wyoming</td>\n",
              "      <td>US</td>\n",
              "      <td>44.790489</td>\n",
              "      <td>-106.886239</td>\n",
              "      <td>Sheridan, Wyoming, US</td>\n",
              "      <td>30485</td>\n",
              "      <td>8/14/20</td>\n",
              "      <td>0</td>\n",
              "    </tr>\n",
              "    <tr>\n",
              "      <th>688033</th>\n",
              "      <td>84056035</td>\n",
              "      <td>US</td>\n",
              "      <td>USA</td>\n",
              "      <td>840</td>\n",
              "      <td>56035.0</td>\n",
              "      <td>Sublette</td>\n",
              "      <td>Wyoming</td>\n",
              "      <td>US</td>\n",
              "      <td>42.765583</td>\n",
              "      <td>-109.913092</td>\n",
              "      <td>Sublette, Wyoming, US</td>\n",
              "      <td>9831</td>\n",
              "      <td>8/14/20</td>\n",
              "      <td>0</td>\n",
              "    </tr>\n",
              "    <tr>\n",
              "      <th>688034</th>\n",
              "      <td>84056037</td>\n",
              "      <td>US</td>\n",
              "      <td>USA</td>\n",
              "      <td>840</td>\n",
              "      <td>56037.0</td>\n",
              "      <td>Sweetwater</td>\n",
              "      <td>Wyoming</td>\n",
              "      <td>US</td>\n",
              "      <td>41.659439</td>\n",
              "      <td>-108.882788</td>\n",
              "      <td>Sweetwater, Wyoming, US</td>\n",
              "      <td>42343</td>\n",
              "      <td>8/14/20</td>\n",
              "      <td>0</td>\n",
              "    </tr>\n",
              "    <tr>\n",
              "      <th>688035</th>\n",
              "      <td>84056039</td>\n",
              "      <td>US</td>\n",
              "      <td>USA</td>\n",
              "      <td>840</td>\n",
              "      <td>56039.0</td>\n",
              "      <td>Teton</td>\n",
              "      <td>Wyoming</td>\n",
              "      <td>US</td>\n",
              "      <td>43.935225</td>\n",
              "      <td>-110.589080</td>\n",
              "      <td>Teton, Wyoming, US</td>\n",
              "      <td>23464</td>\n",
              "      <td>8/14/20</td>\n",
              "      <td>0</td>\n",
              "    </tr>\n",
              "    <tr>\n",
              "      <th>688036</th>\n",
              "      <td>84056041</td>\n",
              "      <td>US</td>\n",
              "      <td>USA</td>\n",
              "      <td>840</td>\n",
              "      <td>56041.0</td>\n",
              "      <td>Uinta</td>\n",
              "      <td>Wyoming</td>\n",
              "      <td>US</td>\n",
              "      <td>41.287818</td>\n",
              "      <td>-110.547578</td>\n",
              "      <td>Uinta, Wyoming, US</td>\n",
              "      <td>20226</td>\n",
              "      <td>8/14/20</td>\n",
              "      <td>0</td>\n",
              "    </tr>\n",
              "    <tr>\n",
              "      <th>688037</th>\n",
              "      <td>84090056</td>\n",
              "      <td>US</td>\n",
              "      <td>USA</td>\n",
              "      <td>840</td>\n",
              "      <td>90056.0</td>\n",
              "      <td>Unassigned</td>\n",
              "      <td>Wyoming</td>\n",
              "      <td>US</td>\n",
              "      <td>0.000000</td>\n",
              "      <td>0.000000</td>\n",
              "      <td>Unassigned, Wyoming, US</td>\n",
              "      <td>0</td>\n",
              "      <td>8/14/20</td>\n",
              "      <td>29</td>\n",
              "    </tr>\n",
              "    <tr>\n",
              "      <th>688038</th>\n",
              "      <td>84056043</td>\n",
              "      <td>US</td>\n",
              "      <td>USA</td>\n",
              "      <td>840</td>\n",
              "      <td>56043.0</td>\n",
              "      <td>Washakie</td>\n",
              "      <td>Wyoming</td>\n",
              "      <td>US</td>\n",
              "      <td>43.904516</td>\n",
              "      <td>-107.680187</td>\n",
              "      <td>Washakie, Wyoming, US</td>\n",
              "      <td>7805</td>\n",
              "      <td>8/14/20</td>\n",
              "      <td>0</td>\n",
              "    </tr>\n",
              "    <tr>\n",
              "      <th>688039</th>\n",
              "      <td>84056045</td>\n",
              "      <td>US</td>\n",
              "      <td>USA</td>\n",
              "      <td>840</td>\n",
              "      <td>56045.0</td>\n",
              "      <td>Weston</td>\n",
              "      <td>Wyoming</td>\n",
              "      <td>US</td>\n",
              "      <td>43.839612</td>\n",
              "      <td>-104.567488</td>\n",
              "      <td>Weston, Wyoming, US</td>\n",
              "      <td>6927</td>\n",
              "      <td>8/14/20</td>\n",
              "      <td>0</td>\n",
              "    </tr>\n",
              "  </tbody>\n",
              "</table>\n",
              "</div>"
            ],
            "text/plain": [
              "             UID iso2 iso3  ...  Population     Date Deaths\n",
              "688030  84056029   US  USA  ...       29194  8/14/20      0\n",
              "688031  84056031   US  USA  ...        8393  8/14/20      0\n",
              "688032  84056033   US  USA  ...       30485  8/14/20      0\n",
              "688033  84056035   US  USA  ...        9831  8/14/20      0\n",
              "688034  84056037   US  USA  ...       42343  8/14/20      0\n",
              "688035  84056039   US  USA  ...       23464  8/14/20      0\n",
              "688036  84056041   US  USA  ...       20226  8/14/20      0\n",
              "688037  84090056   US  USA  ...           0  8/14/20     29\n",
              "688038  84056043   US  USA  ...        7805  8/14/20      0\n",
              "688039  84056045   US  USA  ...        6927  8/14/20      0\n",
              "\n",
              "[10 rows x 14 columns]"
            ]
          },
          "metadata": {
            "tags": []
          },
          "execution_count": 22
        }
      ]
    },
    {
      "cell_type": "markdown",
      "metadata": {
        "id": "g9mtjPgr6Npu",
        "colab_type": "text"
      },
      "source": [
        "## Check California-New York data"
      ]
    },
    {
      "cell_type": "code",
      "metadata": {
        "id": "nDaNNgfV4v6Q",
        "colab_type": "code",
        "colab": {
          "base_uri": "https://localhost:8080/",
          "height": 309
        },
        "outputId": "1741c986-faa3-4b38-d381-8724dc7f61b2"
      },
      "source": [
        "state= ['California','New York']\n",
        "confirmed_CA_df = confirmed_df_long[confirmed_df_long['Province_State'].isin(state)]\n",
        "confirmed_CA_df.tail(5)"
      ],
      "execution_count": 23,
      "outputs": [
        {
          "output_type": "execute_result",
          "data": {
            "text/html": [
              "<div>\n",
              "<style scoped>\n",
              "    .dataframe tbody tr th:only-of-type {\n",
              "        vertical-align: middle;\n",
              "    }\n",
              "\n",
              "    .dataframe tbody tr th {\n",
              "        vertical-align: top;\n",
              "    }\n",
              "\n",
              "    .dataframe thead th {\n",
              "        text-align: right;\n",
              "    }\n",
              "</style>\n",
              "<table border=\"1\" class=\"dataframe\">\n",
              "  <thead>\n",
              "    <tr style=\"text-align: right;\">\n",
              "      <th></th>\n",
              "      <th>UID</th>\n",
              "      <th>iso2</th>\n",
              "      <th>iso3</th>\n",
              "      <th>code3</th>\n",
              "      <th>FIPS</th>\n",
              "      <th>Admin2</th>\n",
              "      <th>Province_State</th>\n",
              "      <th>Country_Region</th>\n",
              "      <th>Lat</th>\n",
              "      <th>Long_</th>\n",
              "      <th>Combined_Key</th>\n",
              "      <th>Date</th>\n",
              "      <th>Confirmed</th>\n",
              "    </tr>\n",
              "  </thead>\n",
              "  <tbody>\n",
              "    <tr>\n",
              "      <th>686659</th>\n",
              "      <td>84036115</td>\n",
              "      <td>US</td>\n",
              "      <td>USA</td>\n",
              "      <td>840</td>\n",
              "      <td>36115.0</td>\n",
              "      <td>Washington</td>\n",
              "      <td>New York</td>\n",
              "      <td>US</td>\n",
              "      <td>43.311538</td>\n",
              "      <td>-73.430434</td>\n",
              "      <td>Washington, New York, US</td>\n",
              "      <td>8/14/20</td>\n",
              "      <td>260</td>\n",
              "    </tr>\n",
              "    <tr>\n",
              "      <th>686660</th>\n",
              "      <td>84036117</td>\n",
              "      <td>US</td>\n",
              "      <td>USA</td>\n",
              "      <td>840</td>\n",
              "      <td>36117.0</td>\n",
              "      <td>Wayne</td>\n",
              "      <td>New York</td>\n",
              "      <td>US</td>\n",
              "      <td>43.154944</td>\n",
              "      <td>-77.029765</td>\n",
              "      <td>Wayne, New York, US</td>\n",
              "      <td>8/14/20</td>\n",
              "      <td>265</td>\n",
              "    </tr>\n",
              "    <tr>\n",
              "      <th>686661</th>\n",
              "      <td>84036119</td>\n",
              "      <td>US</td>\n",
              "      <td>USA</td>\n",
              "      <td>840</td>\n",
              "      <td>36119.0</td>\n",
              "      <td>Westchester</td>\n",
              "      <td>New York</td>\n",
              "      <td>US</td>\n",
              "      <td>41.162784</td>\n",
              "      <td>-73.757417</td>\n",
              "      <td>Westchester, New York, US</td>\n",
              "      <td>8/14/20</td>\n",
              "      <td>36402</td>\n",
              "    </tr>\n",
              "    <tr>\n",
              "      <th>686662</th>\n",
              "      <td>84036121</td>\n",
              "      <td>US</td>\n",
              "      <td>USA</td>\n",
              "      <td>840</td>\n",
              "      <td>36121.0</td>\n",
              "      <td>Wyoming</td>\n",
              "      <td>New York</td>\n",
              "      <td>US</td>\n",
              "      <td>42.701451</td>\n",
              "      <td>-78.221996</td>\n",
              "      <td>Wyoming, New York, US</td>\n",
              "      <td>8/14/20</td>\n",
              "      <td>118</td>\n",
              "    </tr>\n",
              "    <tr>\n",
              "      <th>686663</th>\n",
              "      <td>84036123</td>\n",
              "      <td>US</td>\n",
              "      <td>USA</td>\n",
              "      <td>840</td>\n",
              "      <td>36123.0</td>\n",
              "      <td>Yates</td>\n",
              "      <td>New York</td>\n",
              "      <td>US</td>\n",
              "      <td>42.635055</td>\n",
              "      <td>-77.103699</td>\n",
              "      <td>Yates, New York, US</td>\n",
              "      <td>8/14/20</td>\n",
              "      <td>58</td>\n",
              "    </tr>\n",
              "  </tbody>\n",
              "</table>\n",
              "</div>"
            ],
            "text/plain": [
              "             UID iso2 iso3  ...               Combined_Key     Date Confirmed\n",
              "686659  84036115   US  USA  ...   Washington, New York, US  8/14/20       260\n",
              "686660  84036117   US  USA  ...        Wayne, New York, US  8/14/20       265\n",
              "686661  84036119   US  USA  ...  Westchester, New York, US  8/14/20     36402\n",
              "686662  84036121   US  USA  ...      Wyoming, New York, US  8/14/20       118\n",
              "686663  84036123   US  USA  ...        Yates, New York, US  8/14/20        58\n",
              "\n",
              "[5 rows x 13 columns]"
            ]
          },
          "metadata": {
            "tags": []
          },
          "execution_count": 23
        }
      ]
    },
    {
      "cell_type": "code",
      "metadata": {
        "id": "TAkNMnrg6dfn",
        "colab_type": "code",
        "colab": {
          "base_uri": "https://localhost:8080/",
          "height": 34
        },
        "outputId": "2b300ac8-8e44-40c9-8975-01df23a68d5a"
      },
      "source": [
        "confirmed_CA_df.Province_State.unique()"
      ],
      "execution_count": 24,
      "outputs": [
        {
          "output_type": "execute_result",
          "data": {
            "text/plain": [
              "array(['California', 'New York'], dtype=object)"
            ]
          },
          "metadata": {
            "tags": []
          },
          "execution_count": 24
        }
      ]
    },
    {
      "cell_type": "markdown",
      "metadata": {
        "id": "qVKk5oHB6kH2",
        "colab_type": "text"
      },
      "source": [
        "## Merging Confirmed and Death data"
      ]
    },
    {
      "cell_type": "code",
      "metadata": {
        "id": "vmW7r2mT4v3k",
        "colab_type": "code",
        "colab": {
          "base_uri": "https://localhost:8080/",
          "height": 549
        },
        "outputId": "df5e7d17-d3fb-44fc-8979-267e30392d27"
      },
      "source": [
        "full_table = confirmed_df_long.merge(\n",
        "    right=death_df_long,\n",
        "    how='left',\n",
        "    on=[ 'UID', 'iso2', 'iso3', 'code3', 'FIPS', 'Admin2', 'Province_State',\n",
        "       'Country_Region', 'Lat', 'Long_', 'Combined_Key','Date']\n",
        ")\n",
        "\n",
        "full_table.head(10)"
      ],
      "execution_count": 25,
      "outputs": [
        {
          "output_type": "execute_result",
          "data": {
            "text/html": [
              "<div>\n",
              "<style scoped>\n",
              "    .dataframe tbody tr th:only-of-type {\n",
              "        vertical-align: middle;\n",
              "    }\n",
              "\n",
              "    .dataframe tbody tr th {\n",
              "        vertical-align: top;\n",
              "    }\n",
              "\n",
              "    .dataframe thead th {\n",
              "        text-align: right;\n",
              "    }\n",
              "</style>\n",
              "<table border=\"1\" class=\"dataframe\">\n",
              "  <thead>\n",
              "    <tr style=\"text-align: right;\">\n",
              "      <th></th>\n",
              "      <th>UID</th>\n",
              "      <th>iso2</th>\n",
              "      <th>iso3</th>\n",
              "      <th>code3</th>\n",
              "      <th>FIPS</th>\n",
              "      <th>Admin2</th>\n",
              "      <th>Province_State</th>\n",
              "      <th>Country_Region</th>\n",
              "      <th>Lat</th>\n",
              "      <th>Long_</th>\n",
              "      <th>Combined_Key</th>\n",
              "      <th>Date</th>\n",
              "      <th>Confirmed</th>\n",
              "      <th>Population</th>\n",
              "      <th>Deaths</th>\n",
              "    </tr>\n",
              "  </thead>\n",
              "  <tbody>\n",
              "    <tr>\n",
              "      <th>0</th>\n",
              "      <td>84001001</td>\n",
              "      <td>US</td>\n",
              "      <td>USA</td>\n",
              "      <td>840</td>\n",
              "      <td>1001.0</td>\n",
              "      <td>Autauga</td>\n",
              "      <td>Alabama</td>\n",
              "      <td>US</td>\n",
              "      <td>32.539527</td>\n",
              "      <td>-86.644082</td>\n",
              "      <td>Autauga, Alabama, US</td>\n",
              "      <td>1/22/20</td>\n",
              "      <td>0</td>\n",
              "      <td>55869</td>\n",
              "      <td>0</td>\n",
              "    </tr>\n",
              "    <tr>\n",
              "      <th>1</th>\n",
              "      <td>84001003</td>\n",
              "      <td>US</td>\n",
              "      <td>USA</td>\n",
              "      <td>840</td>\n",
              "      <td>1003.0</td>\n",
              "      <td>Baldwin</td>\n",
              "      <td>Alabama</td>\n",
              "      <td>US</td>\n",
              "      <td>30.727750</td>\n",
              "      <td>-87.722071</td>\n",
              "      <td>Baldwin, Alabama, US</td>\n",
              "      <td>1/22/20</td>\n",
              "      <td>0</td>\n",
              "      <td>223234</td>\n",
              "      <td>0</td>\n",
              "    </tr>\n",
              "    <tr>\n",
              "      <th>2</th>\n",
              "      <td>84001005</td>\n",
              "      <td>US</td>\n",
              "      <td>USA</td>\n",
              "      <td>840</td>\n",
              "      <td>1005.0</td>\n",
              "      <td>Barbour</td>\n",
              "      <td>Alabama</td>\n",
              "      <td>US</td>\n",
              "      <td>31.868263</td>\n",
              "      <td>-85.387129</td>\n",
              "      <td>Barbour, Alabama, US</td>\n",
              "      <td>1/22/20</td>\n",
              "      <td>0</td>\n",
              "      <td>24686</td>\n",
              "      <td>0</td>\n",
              "    </tr>\n",
              "    <tr>\n",
              "      <th>3</th>\n",
              "      <td>84001007</td>\n",
              "      <td>US</td>\n",
              "      <td>USA</td>\n",
              "      <td>840</td>\n",
              "      <td>1007.0</td>\n",
              "      <td>Bibb</td>\n",
              "      <td>Alabama</td>\n",
              "      <td>US</td>\n",
              "      <td>32.996421</td>\n",
              "      <td>-87.125115</td>\n",
              "      <td>Bibb, Alabama, US</td>\n",
              "      <td>1/22/20</td>\n",
              "      <td>0</td>\n",
              "      <td>22394</td>\n",
              "      <td>0</td>\n",
              "    </tr>\n",
              "    <tr>\n",
              "      <th>4</th>\n",
              "      <td>84001009</td>\n",
              "      <td>US</td>\n",
              "      <td>USA</td>\n",
              "      <td>840</td>\n",
              "      <td>1009.0</td>\n",
              "      <td>Blount</td>\n",
              "      <td>Alabama</td>\n",
              "      <td>US</td>\n",
              "      <td>33.982109</td>\n",
              "      <td>-86.567906</td>\n",
              "      <td>Blount, Alabama, US</td>\n",
              "      <td>1/22/20</td>\n",
              "      <td>0</td>\n",
              "      <td>57826</td>\n",
              "      <td>0</td>\n",
              "    </tr>\n",
              "    <tr>\n",
              "      <th>5</th>\n",
              "      <td>84001011</td>\n",
              "      <td>US</td>\n",
              "      <td>USA</td>\n",
              "      <td>840</td>\n",
              "      <td>1011.0</td>\n",
              "      <td>Bullock</td>\n",
              "      <td>Alabama</td>\n",
              "      <td>US</td>\n",
              "      <td>32.100305</td>\n",
              "      <td>-85.712655</td>\n",
              "      <td>Bullock, Alabama, US</td>\n",
              "      <td>1/22/20</td>\n",
              "      <td>0</td>\n",
              "      <td>10101</td>\n",
              "      <td>0</td>\n",
              "    </tr>\n",
              "    <tr>\n",
              "      <th>6</th>\n",
              "      <td>84001013</td>\n",
              "      <td>US</td>\n",
              "      <td>USA</td>\n",
              "      <td>840</td>\n",
              "      <td>1013.0</td>\n",
              "      <td>Butler</td>\n",
              "      <td>Alabama</td>\n",
              "      <td>US</td>\n",
              "      <td>31.753001</td>\n",
              "      <td>-86.680575</td>\n",
              "      <td>Butler, Alabama, US</td>\n",
              "      <td>1/22/20</td>\n",
              "      <td>0</td>\n",
              "      <td>19448</td>\n",
              "      <td>0</td>\n",
              "    </tr>\n",
              "    <tr>\n",
              "      <th>7</th>\n",
              "      <td>84001015</td>\n",
              "      <td>US</td>\n",
              "      <td>USA</td>\n",
              "      <td>840</td>\n",
              "      <td>1015.0</td>\n",
              "      <td>Calhoun</td>\n",
              "      <td>Alabama</td>\n",
              "      <td>US</td>\n",
              "      <td>33.774837</td>\n",
              "      <td>-85.826304</td>\n",
              "      <td>Calhoun, Alabama, US</td>\n",
              "      <td>1/22/20</td>\n",
              "      <td>0</td>\n",
              "      <td>113605</td>\n",
              "      <td>0</td>\n",
              "    </tr>\n",
              "    <tr>\n",
              "      <th>8</th>\n",
              "      <td>84001017</td>\n",
              "      <td>US</td>\n",
              "      <td>USA</td>\n",
              "      <td>840</td>\n",
              "      <td>1017.0</td>\n",
              "      <td>Chambers</td>\n",
              "      <td>Alabama</td>\n",
              "      <td>US</td>\n",
              "      <td>32.913601</td>\n",
              "      <td>-85.390727</td>\n",
              "      <td>Chambers, Alabama, US</td>\n",
              "      <td>1/22/20</td>\n",
              "      <td>0</td>\n",
              "      <td>33254</td>\n",
              "      <td>0</td>\n",
              "    </tr>\n",
              "    <tr>\n",
              "      <th>9</th>\n",
              "      <td>84001019</td>\n",
              "      <td>US</td>\n",
              "      <td>USA</td>\n",
              "      <td>840</td>\n",
              "      <td>1019.0</td>\n",
              "      <td>Cherokee</td>\n",
              "      <td>Alabama</td>\n",
              "      <td>US</td>\n",
              "      <td>34.178060</td>\n",
              "      <td>-85.606390</td>\n",
              "      <td>Cherokee, Alabama, US</td>\n",
              "      <td>1/22/20</td>\n",
              "      <td>0</td>\n",
              "      <td>26196</td>\n",
              "      <td>0</td>\n",
              "    </tr>\n",
              "  </tbody>\n",
              "</table>\n",
              "</div>"
            ],
            "text/plain": [
              "        UID iso2 iso3  code3  ...     Date Confirmed Population Deaths\n",
              "0  84001001   US  USA    840  ...  1/22/20         0      55869      0\n",
              "1  84001003   US  USA    840  ...  1/22/20         0     223234      0\n",
              "2  84001005   US  USA    840  ...  1/22/20         0      24686      0\n",
              "3  84001007   US  USA    840  ...  1/22/20         0      22394      0\n",
              "4  84001009   US  USA    840  ...  1/22/20         0      57826      0\n",
              "5  84001011   US  USA    840  ...  1/22/20         0      10101      0\n",
              "6  84001013   US  USA    840  ...  1/22/20         0      19448      0\n",
              "7  84001015   US  USA    840  ...  1/22/20         0     113605      0\n",
              "8  84001017   US  USA    840  ...  1/22/20         0      33254      0\n",
              "9  84001019   US  USA    840  ...  1/22/20         0      26196      0\n",
              "\n",
              "[10 rows x 15 columns]"
            ]
          },
          "metadata": {
            "tags": []
          },
          "execution_count": 25
        }
      ]
    },
    {
      "cell_type": "code",
      "metadata": {
        "id": "tl_kc1Dy4vxc",
        "colab_type": "code",
        "colab": {}
      },
      "source": [
        "#full_table['Date'] = pd.to_datetime(full_table['Date'])\n"
      ],
      "execution_count": 26,
      "outputs": []
    },
    {
      "cell_type": "code",
      "metadata": {
        "id": "IGsPX5xY-FwZ",
        "colab_type": "code",
        "colab": {}
      },
      "source": [
        "ship_data = full_table['Province_State'].str.contains('Grand Princess') | full_table['Province_State'].str.contains('Diamond Princess') | full_table['Province_State'].str.contains('Northern Mariana Islands') | full_table['Province_State'].str.contains('American Samoa') |full_table['Province_State'].str.contains('Guam') | full_table['Province_State'].str.contains('Virgin Islands')\n",
        "\n",
        "full_ship = full_table[ship_data]\n"
      ],
      "execution_count": 27,
      "outputs": []
    },
    {
      "cell_type": "code",
      "metadata": {
        "id": "qX8IIjJkAGsQ",
        "colab_type": "code",
        "colab": {}
      },
      "source": [
        "# Removing ship data from State data\n",
        "\n",
        "full_table = full_table[~(ship_data)]"
      ],
      "execution_count": 28,
      "outputs": []
    },
    {
      "cell_type": "markdown",
      "metadata": {
        "id": "8bYhqhBUAa6J",
        "colab_type": "text"
      },
      "source": [
        "## Group data"
      ]
    },
    {
      "cell_type": "code",
      "metadata": {
        "id": "VMxboCIAAGqB",
        "colab_type": "code",
        "colab": {
          "base_uri": "https://localhost:8080/",
          "height": 204
        },
        "outputId": "da2eeb87-d38d-4c71-8e87-1f459170a487"
      },
      "source": [
        "full_grouped = full_table.groupby(['Date', 'Province_State','FIPS'])['Confirmed', 'Deaths'].sum().reset_index()\n",
        "\n",
        "full_grouped.tail(5)"
      ],
      "execution_count": 29,
      "outputs": [
        {
          "output_type": "execute_result",
          "data": {
            "text/html": [
              "<div>\n",
              "<style scoped>\n",
              "    .dataframe tbody tr th:only-of-type {\n",
              "        vertical-align: middle;\n",
              "    }\n",
              "\n",
              "    .dataframe tbody tr th {\n",
              "        vertical-align: top;\n",
              "    }\n",
              "\n",
              "    .dataframe thead th {\n",
              "        text-align: right;\n",
              "    }\n",
              "</style>\n",
              "<table border=\"1\" class=\"dataframe\">\n",
              "  <thead>\n",
              "    <tr style=\"text-align: right;\">\n",
              "      <th></th>\n",
              "      <th>Date</th>\n",
              "      <th>Province_State</th>\n",
              "      <th>FIPS</th>\n",
              "      <th>Confirmed</th>\n",
              "      <th>Deaths</th>\n",
              "    </tr>\n",
              "  </thead>\n",
              "  <tbody>\n",
              "    <tr>\n",
              "      <th>684739</th>\n",
              "      <td>8/9/20</td>\n",
              "      <td>Wyoming</td>\n",
              "      <td>56041.0</td>\n",
              "      <td>278</td>\n",
              "      <td>0</td>\n",
              "    </tr>\n",
              "    <tr>\n",
              "      <th>684740</th>\n",
              "      <td>8/9/20</td>\n",
              "      <td>Wyoming</td>\n",
              "      <td>56043.0</td>\n",
              "      <td>77</td>\n",
              "      <td>0</td>\n",
              "    </tr>\n",
              "    <tr>\n",
              "      <th>684741</th>\n",
              "      <td>8/9/20</td>\n",
              "      <td>Wyoming</td>\n",
              "      <td>56045.0</td>\n",
              "      <td>5</td>\n",
              "      <td>0</td>\n",
              "    </tr>\n",
              "    <tr>\n",
              "      <th>684742</th>\n",
              "      <td>8/9/20</td>\n",
              "      <td>Wyoming</td>\n",
              "      <td>80056.0</td>\n",
              "      <td>0</td>\n",
              "      <td>0</td>\n",
              "    </tr>\n",
              "    <tr>\n",
              "      <th>684743</th>\n",
              "      <td>8/9/20</td>\n",
              "      <td>Wyoming</td>\n",
              "      <td>90056.0</td>\n",
              "      <td>0</td>\n",
              "      <td>27</td>\n",
              "    </tr>\n",
              "  </tbody>\n",
              "</table>\n",
              "</div>"
            ],
            "text/plain": [
              "          Date Province_State     FIPS  Confirmed  Deaths\n",
              "684739  8/9/20        Wyoming  56041.0        278       0\n",
              "684740  8/9/20        Wyoming  56043.0         77       0\n",
              "684741  8/9/20        Wyoming  56045.0          5       0\n",
              "684742  8/9/20        Wyoming  80056.0          0       0\n",
              "684743  8/9/20        Wyoming  90056.0          0      27"
            ]
          },
          "metadata": {
            "tags": []
          },
          "execution_count": 29
        }
      ]
    },
    {
      "cell_type": "code",
      "metadata": {
        "id": "MBTXndxmKr8Z",
        "colab_type": "code",
        "colab": {
          "base_uri": "https://localhost:8080/",
          "height": 34
        },
        "outputId": "f7704072-2f90-435b-bc15-5da03807da4c"
      },
      "source": [
        "full_grouped.shape"
      ],
      "execution_count": 30,
      "outputs": [
        {
          "output_type": "execute_result",
          "data": {
            "text/plain": [
              "(684744, 5)"
            ]
          },
          "metadata": {
            "tags": []
          },
          "execution_count": 30
        }
      ]
    },
    {
      "cell_type": "markdown",
      "metadata": {
        "id": "IZGdcgaLA3gY",
        "colab_type": "text"
      },
      "source": [
        "####  Adding new cases, new deaths by subtracting from previous day record"
      ]
    },
    {
      "cell_type": "code",
      "metadata": {
        "id": "BxAJ_Q5eAGlH",
        "colab_type": "code",
        "colab": {}
      },
      "source": [
        "# new cases \n",
        "temp = full_grouped.groupby(['Province_State', 'Date', ])['Confirmed', 'Deaths']\n",
        "temp = temp.sum().diff().reset_index()\n",
        "mask = temp['Province_State'] != temp['Province_State'].shift(1)\n",
        "temp.loc[mask, 'Confirmed'] = np.nan\n",
        "temp.loc[mask, 'Deaths'] = np.nan\n",
        "\n",
        "# renaming columns\n",
        "temp.columns = ['Province_State', 'Date', 'New cases', 'New deaths']\n",
        "# merging new values\n",
        "full_grouped = pd.merge(full_grouped, temp, on=['Province_State', 'Date'])\n",
        "# filling na with 0\n",
        "full_grouped = full_grouped.fillna(0)\n",
        "# fixing data types\n",
        "cols = ['New cases', 'New deaths']\n",
        "full_grouped[cols] = full_grouped[cols].astype('int')\n",
        "# \n",
        "full_grouped['New cases'] = full_grouped['New cases'].apply(lambda x: 0 if x<0 else x)"
      ],
      "execution_count": 31,
      "outputs": []
    },
    {
      "cell_type": "code",
      "metadata": {
        "id": "5vhCccPLAGio",
        "colab_type": "code",
        "colab": {
          "base_uri": "https://localhost:8080/",
          "height": 204
        },
        "outputId": "6085f8f9-4726-480c-ff98-191bf6a3f6cf"
      },
      "source": [
        "full_grouped.tail(5)"
      ],
      "execution_count": 32,
      "outputs": [
        {
          "output_type": "execute_result",
          "data": {
            "text/html": [
              "<div>\n",
              "<style scoped>\n",
              "    .dataframe tbody tr th:only-of-type {\n",
              "        vertical-align: middle;\n",
              "    }\n",
              "\n",
              "    .dataframe tbody tr th {\n",
              "        vertical-align: top;\n",
              "    }\n",
              "\n",
              "    .dataframe thead th {\n",
              "        text-align: right;\n",
              "    }\n",
              "</style>\n",
              "<table border=\"1\" class=\"dataframe\">\n",
              "  <thead>\n",
              "    <tr style=\"text-align: right;\">\n",
              "      <th></th>\n",
              "      <th>Date</th>\n",
              "      <th>Province_State</th>\n",
              "      <th>FIPS</th>\n",
              "      <th>Confirmed</th>\n",
              "      <th>Deaths</th>\n",
              "      <th>New cases</th>\n",
              "      <th>New deaths</th>\n",
              "    </tr>\n",
              "  </thead>\n",
              "  <tbody>\n",
              "    <tr>\n",
              "      <th>684739</th>\n",
              "      <td>8/9/20</td>\n",
              "      <td>Wyoming</td>\n",
              "      <td>56041.0</td>\n",
              "      <td>278</td>\n",
              "      <td>0</td>\n",
              "      <td>35</td>\n",
              "      <td>0</td>\n",
              "    </tr>\n",
              "    <tr>\n",
              "      <th>684740</th>\n",
              "      <td>8/9/20</td>\n",
              "      <td>Wyoming</td>\n",
              "      <td>56043.0</td>\n",
              "      <td>77</td>\n",
              "      <td>0</td>\n",
              "      <td>35</td>\n",
              "      <td>0</td>\n",
              "    </tr>\n",
              "    <tr>\n",
              "      <th>684741</th>\n",
              "      <td>8/9/20</td>\n",
              "      <td>Wyoming</td>\n",
              "      <td>56045.0</td>\n",
              "      <td>5</td>\n",
              "      <td>0</td>\n",
              "      <td>35</td>\n",
              "      <td>0</td>\n",
              "    </tr>\n",
              "    <tr>\n",
              "      <th>684742</th>\n",
              "      <td>8/9/20</td>\n",
              "      <td>Wyoming</td>\n",
              "      <td>80056.0</td>\n",
              "      <td>0</td>\n",
              "      <td>0</td>\n",
              "      <td>35</td>\n",
              "      <td>0</td>\n",
              "    </tr>\n",
              "    <tr>\n",
              "      <th>684743</th>\n",
              "      <td>8/9/20</td>\n",
              "      <td>Wyoming</td>\n",
              "      <td>90056.0</td>\n",
              "      <td>0</td>\n",
              "      <td>27</td>\n",
              "      <td>35</td>\n",
              "      <td>0</td>\n",
              "    </tr>\n",
              "  </tbody>\n",
              "</table>\n",
              "</div>"
            ],
            "text/plain": [
              "          Date Province_State     FIPS  ...  Deaths  New cases  New deaths\n",
              "684739  8/9/20        Wyoming  56041.0  ...       0         35           0\n",
              "684740  8/9/20        Wyoming  56043.0  ...       0         35           0\n",
              "684741  8/9/20        Wyoming  56045.0  ...       0         35           0\n",
              "684742  8/9/20        Wyoming  80056.0  ...       0         35           0\n",
              "684743  8/9/20        Wyoming  90056.0  ...      27         35           0\n",
              "\n",
              "[5 rows x 7 columns]"
            ]
          },
          "metadata": {
            "tags": []
          },
          "execution_count": 32
        }
      ]
    },
    {
      "cell_type": "code",
      "metadata": {
        "id": "3UoS9KmfK-oh",
        "colab_type": "code",
        "colab": {
          "base_uri": "https://localhost:8080/",
          "height": 359
        },
        "outputId": "44966bfb-8bb3-41e5-c98a-cdef5ab685ab"
      },
      "source": [
        "state= ['California','New York']\n",
        "ca_df = full_grouped[full_grouped['Province_State'].isin(state)]\n",
        "ca_df.tail(10)"
      ],
      "execution_count": 33,
      "outputs": [
        {
          "output_type": "execute_result",
          "data": {
            "text/html": [
              "<div>\n",
              "<style scoped>\n",
              "    .dataframe tbody tr th:only-of-type {\n",
              "        vertical-align: middle;\n",
              "    }\n",
              "\n",
              "    .dataframe tbody tr th {\n",
              "        vertical-align: top;\n",
              "    }\n",
              "\n",
              "    .dataframe thead th {\n",
              "        text-align: right;\n",
              "    }\n",
              "</style>\n",
              "<table border=\"1\" class=\"dataframe\">\n",
              "  <thead>\n",
              "    <tr style=\"text-align: right;\">\n",
              "      <th></th>\n",
              "      <th>Date</th>\n",
              "      <th>Province_State</th>\n",
              "      <th>FIPS</th>\n",
              "      <th>Confirmed</th>\n",
              "      <th>Deaths</th>\n",
              "      <th>New cases</th>\n",
              "      <th>New deaths</th>\n",
              "    </tr>\n",
              "  </thead>\n",
              "  <tbody>\n",
              "    <tr>\n",
              "      <th>683366</th>\n",
              "      <td>8/9/20</td>\n",
              "      <td>New York</td>\n",
              "      <td>36109.0</td>\n",
              "      <td>234</td>\n",
              "      <td>0</td>\n",
              "      <td>515</td>\n",
              "      <td>6</td>\n",
              "    </tr>\n",
              "    <tr>\n",
              "      <th>683367</th>\n",
              "      <td>8/9/20</td>\n",
              "      <td>New York</td>\n",
              "      <td>36111.0</td>\n",
              "      <td>2062</td>\n",
              "      <td>92</td>\n",
              "      <td>515</td>\n",
              "      <td>6</td>\n",
              "    </tr>\n",
              "    <tr>\n",
              "      <th>683368</th>\n",
              "      <td>8/9/20</td>\n",
              "      <td>New York</td>\n",
              "      <td>36113.0</td>\n",
              "      <td>308</td>\n",
              "      <td>33</td>\n",
              "      <td>515</td>\n",
              "      <td>6</td>\n",
              "    </tr>\n",
              "    <tr>\n",
              "      <th>683369</th>\n",
              "      <td>8/9/20</td>\n",
              "      <td>New York</td>\n",
              "      <td>36115.0</td>\n",
              "      <td>259</td>\n",
              "      <td>14</td>\n",
              "      <td>515</td>\n",
              "      <td>6</td>\n",
              "    </tr>\n",
              "    <tr>\n",
              "      <th>683370</th>\n",
              "      <td>8/9/20</td>\n",
              "      <td>New York</td>\n",
              "      <td>36117.0</td>\n",
              "      <td>250</td>\n",
              "      <td>3</td>\n",
              "      <td>515</td>\n",
              "      <td>6</td>\n",
              "    </tr>\n",
              "    <tr>\n",
              "      <th>683371</th>\n",
              "      <td>8/9/20</td>\n",
              "      <td>New York</td>\n",
              "      <td>36119.0</td>\n",
              "      <td>36205</td>\n",
              "      <td>1447</td>\n",
              "      <td>515</td>\n",
              "      <td>6</td>\n",
              "    </tr>\n",
              "    <tr>\n",
              "      <th>683372</th>\n",
              "      <td>8/9/20</td>\n",
              "      <td>New York</td>\n",
              "      <td>36121.0</td>\n",
              "      <td>118</td>\n",
              "      <td>5</td>\n",
              "      <td>515</td>\n",
              "      <td>6</td>\n",
              "    </tr>\n",
              "    <tr>\n",
              "      <th>683373</th>\n",
              "      <td>8/9/20</td>\n",
              "      <td>New York</td>\n",
              "      <td>36123.0</td>\n",
              "      <td>57</td>\n",
              "      <td>7</td>\n",
              "      <td>515</td>\n",
              "      <td>6</td>\n",
              "    </tr>\n",
              "    <tr>\n",
              "      <th>683374</th>\n",
              "      <td>8/9/20</td>\n",
              "      <td>New York</td>\n",
              "      <td>80036.0</td>\n",
              "      <td>0</td>\n",
              "      <td>0</td>\n",
              "      <td>515</td>\n",
              "      <td>6</td>\n",
              "    </tr>\n",
              "    <tr>\n",
              "      <th>683375</th>\n",
              "      <td>8/9/20</td>\n",
              "      <td>New York</td>\n",
              "      <td>90036.0</td>\n",
              "      <td>0</td>\n",
              "      <td>0</td>\n",
              "      <td>515</td>\n",
              "      <td>6</td>\n",
              "    </tr>\n",
              "  </tbody>\n",
              "</table>\n",
              "</div>"
            ],
            "text/plain": [
              "          Date Province_State     FIPS  ...  Deaths  New cases  New deaths\n",
              "683366  8/9/20       New York  36109.0  ...       0        515           6\n",
              "683367  8/9/20       New York  36111.0  ...      92        515           6\n",
              "683368  8/9/20       New York  36113.0  ...      33        515           6\n",
              "683369  8/9/20       New York  36115.0  ...      14        515           6\n",
              "683370  8/9/20       New York  36117.0  ...       3        515           6\n",
              "683371  8/9/20       New York  36119.0  ...    1447        515           6\n",
              "683372  8/9/20       New York  36121.0  ...       5        515           6\n",
              "683373  8/9/20       New York  36123.0  ...       7        515           6\n",
              "683374  8/9/20       New York  80036.0  ...       0        515           6\n",
              "683375  8/9/20       New York  90036.0  ...       0        515           6\n",
              "\n",
              "[10 rows x 7 columns]"
            ]
          },
          "metadata": {
            "tags": []
          },
          "execution_count": 33
        }
      ]
    },
    {
      "cell_type": "code",
      "metadata": {
        "id": "TX61_MzyLfnt",
        "colab_type": "code",
        "colab": {
          "base_uri": "https://localhost:8080/",
          "height": 111
        },
        "outputId": "ca9042dd-1a24-48ed-bb1c-4782536bf356"
      },
      "source": [
        "county_population_US.head(2)"
      ],
      "execution_count": 35,
      "outputs": [
        {
          "output_type": "execute_result",
          "data": {
            "text/html": [
              "<div>\n",
              "<style scoped>\n",
              "    .dataframe tbody tr th:only-of-type {\n",
              "        vertical-align: middle;\n",
              "    }\n",
              "\n",
              "    .dataframe tbody tr th {\n",
              "        vertical-align: top;\n",
              "    }\n",
              "\n",
              "    .dataframe thead th {\n",
              "        text-align: right;\n",
              "    }\n",
              "</style>\n",
              "<table border=\"1\" class=\"dataframe\">\n",
              "  <thead>\n",
              "    <tr style=\"text-align: right;\">\n",
              "      <th></th>\n",
              "      <th>countyFIPS</th>\n",
              "      <th>County Name</th>\n",
              "      <th>State</th>\n",
              "      <th>population</th>\n",
              "    </tr>\n",
              "  </thead>\n",
              "  <tbody>\n",
              "    <tr>\n",
              "      <th>0</th>\n",
              "      <td>0</td>\n",
              "      <td>Statewide Unallocated</td>\n",
              "      <td>AL</td>\n",
              "      <td>0</td>\n",
              "    </tr>\n",
              "    <tr>\n",
              "      <th>1</th>\n",
              "      <td>1001</td>\n",
              "      <td>Autauga County</td>\n",
              "      <td>AL</td>\n",
              "      <td>55869</td>\n",
              "    </tr>\n",
              "  </tbody>\n",
              "</table>\n",
              "</div>"
            ],
            "text/plain": [
              "   countyFIPS            County Name State  population\n",
              "0           0  Statewide Unallocated    AL           0\n",
              "1        1001         Autauga County    AL       55869"
            ]
          },
          "metadata": {
            "tags": []
          },
          "execution_count": 35
        }
      ]
    },
    {
      "cell_type": "code",
      "metadata": {
        "id": "4SvvBpy9MU1n",
        "colab_type": "code",
        "colab": {}
      },
      "source": [
        "county_population_US['FIPS'] = county_population_US['countyFIPS']"
      ],
      "execution_count": 36,
      "outputs": []
    },
    {
      "cell_type": "code",
      "metadata": {
        "id": "Vxn23Tv1MffX",
        "colab_type": "code",
        "colab": {}
      },
      "source": [
        "ca_df.shape"
      ],
      "execution_count": null,
      "outputs": []
    },
    {
      "cell_type": "markdown",
      "metadata": {
        "id": "bXYhEmKnLRZB",
        "colab_type": "text"
      },
      "source": [
        "# Merge with FIPS "
      ]
    },
    {
      "cell_type": "code",
      "metadata": {
        "id": "pmc7bIZsLU8O",
        "colab_type": "code",
        "colab": {
          "base_uri": "https://localhost:8080/",
          "height": 34
        },
        "outputId": "2c3b32c0-853b-4b61-de08-dc82c608fa6a"
      },
      "source": [
        "merged = pd.merge(ca_df,county_population_US,how='inner' ,on=['FIPS'])\n",
        "print(merged.shape)"
      ],
      "execution_count": 37,
      "outputs": [
        {
          "output_type": "stream",
          "text": [
            "(24720, 11)\n"
          ],
          "name": "stdout"
        }
      ]
    },
    {
      "cell_type": "code",
      "metadata": {
        "id": "sU-OpamgLUw_",
        "colab_type": "code",
        "colab": {}
      },
      "source": [
        "merged.tail(2)"
      ],
      "execution_count": null,
      "outputs": []
    },
    {
      "cell_type": "markdown",
      "metadata": {
        "id": "bqLuP_zx4Ger",
        "colab_type": "text"
      },
      "source": [
        "## Visualization"
      ]
    },
    {
      "cell_type": "code",
      "metadata": {
        "id": "VW5zVDDm8KAL",
        "colab_type": "code",
        "colab": {}
      },
      "source": [
        "full_grouped.head(3)"
      ],
      "execution_count": null,
      "outputs": []
    },
    {
      "cell_type": "code",
      "metadata": {
        "id": "VEXrY5qwA0V1",
        "colab_type": "code",
        "colab": {
          "base_uri": "https://localhost:8080/",
          "height": 230
        },
        "outputId": "c9f5f00c-fad5-41f6-bb2c-1001cf6a303e"
      },
      "source": [
        "merged.head(3)\n"
      ],
      "execution_count": 38,
      "outputs": [
        {
          "output_type": "execute_result",
          "data": {
            "text/html": [
              "<div>\n",
              "<style scoped>\n",
              "    .dataframe tbody tr th:only-of-type {\n",
              "        vertical-align: middle;\n",
              "    }\n",
              "\n",
              "    .dataframe tbody tr th {\n",
              "        vertical-align: top;\n",
              "    }\n",
              "\n",
              "    .dataframe thead th {\n",
              "        text-align: right;\n",
              "    }\n",
              "</style>\n",
              "<table border=\"1\" class=\"dataframe\">\n",
              "  <thead>\n",
              "    <tr style=\"text-align: right;\">\n",
              "      <th></th>\n",
              "      <th>Date</th>\n",
              "      <th>Province_State</th>\n",
              "      <th>FIPS</th>\n",
              "      <th>Confirmed</th>\n",
              "      <th>Deaths</th>\n",
              "      <th>New cases</th>\n",
              "      <th>New deaths</th>\n",
              "      <th>countyFIPS</th>\n",
              "      <th>County Name</th>\n",
              "      <th>State</th>\n",
              "      <th>population</th>\n",
              "    </tr>\n",
              "  </thead>\n",
              "  <tbody>\n",
              "    <tr>\n",
              "      <th>0</th>\n",
              "      <td>1/22/20</td>\n",
              "      <td>California</td>\n",
              "      <td>6001.0</td>\n",
              "      <td>0</td>\n",
              "      <td>0</td>\n",
              "      <td>0</td>\n",
              "      <td>0</td>\n",
              "      <td>6001</td>\n",
              "      <td>Alameda County</td>\n",
              "      <td>CA</td>\n",
              "      <td>1671329</td>\n",
              "    </tr>\n",
              "    <tr>\n",
              "      <th>1</th>\n",
              "      <td>1/23/20</td>\n",
              "      <td>California</td>\n",
              "      <td>6001.0</td>\n",
              "      <td>0</td>\n",
              "      <td>0</td>\n",
              "      <td>0</td>\n",
              "      <td>0</td>\n",
              "      <td>6001</td>\n",
              "      <td>Alameda County</td>\n",
              "      <td>CA</td>\n",
              "      <td>1671329</td>\n",
              "    </tr>\n",
              "    <tr>\n",
              "      <th>2</th>\n",
              "      <td>1/24/20</td>\n",
              "      <td>California</td>\n",
              "      <td>6001.0</td>\n",
              "      <td>0</td>\n",
              "      <td>0</td>\n",
              "      <td>0</td>\n",
              "      <td>0</td>\n",
              "      <td>6001</td>\n",
              "      <td>Alameda County</td>\n",
              "      <td>CA</td>\n",
              "      <td>1671329</td>\n",
              "    </tr>\n",
              "  </tbody>\n",
              "</table>\n",
              "</div>"
            ],
            "text/plain": [
              "      Date Province_State    FIPS  ...     County Name  State  population\n",
              "0  1/22/20     California  6001.0  ...  Alameda County     CA     1671329\n",
              "1  1/23/20     California  6001.0  ...  Alameda County     CA     1671329\n",
              "2  1/24/20     California  6001.0  ...  Alameda County     CA     1671329\n",
              "\n",
              "[3 rows x 11 columns]"
            ]
          },
          "metadata": {
            "tags": []
          },
          "execution_count": 38
        }
      ]
    },
    {
      "cell_type": "code",
      "metadata": {
        "id": "Ls8G3UFv8EEB",
        "colab_type": "code",
        "colab": {
          "base_uri": "https://localhost:8080/",
          "height": 34
        },
        "outputId": "d197fd16-8fe1-41d1-dd62-3fcbab49a374"
      },
      "source": [
        "import pandas as pd\n",
        "import altair as alt\n",
        "#full_grouped = merged\n",
        "ca_df = full_grouped[full_grouped['Province_State'] == 'California']\n",
        "ny_df = full_grouped[full_grouped['Province_State'] == 'New York']\n",
        "queens_df = full_grouped[(full_grouped['Province_State'] == 'New York') & (full_grouped['FIPS'] == 36081)]\n",
        "\n",
        "ca_df.shape"
      ],
      "execution_count": 56,
      "outputs": [
        {
          "output_type": "execute_result",
          "data": {
            "text/plain": [
              "(12360, 7)"
            ]
          },
          "metadata": {
            "tags": []
          },
          "execution_count": 56
        }
      ]
    },
    {
      "cell_type": "code",
      "metadata": {
        "id": "x28oUtoiExGL",
        "colab_type": "code",
        "colab": {}
      },
      "source": [
        "ca_total = (\n",
        "    ca_df\n",
        "    .pipe(lambda x: x.assign(gains_pctg=x[\"New cases\"]))\n",
        "    .groupby(['Date','Province_State'])\n",
        "    .agg({\"gains_pctg\": \"sum\"})\n",
        "    .reset_index()\n",
        "    .rename(columns={\"gains_pctg\": \"New cases\"})\n",
        ")\n",
        "ny_total = (\n",
        "    ny_df\n",
        "    .pipe(lambda x: x.assign(gains_pctg=x[\"New cases\"]))\n",
        "    .groupby(['Date','Province_State'])\n",
        "    .agg({\"gains_pctg\": \"sum\"})\n",
        "    .reset_index()\n",
        "    .rename(columns={\"gains_pctg\": \"New cases\"})\n",
        ")\n",
        "\n",
        "queens_county_total = (\n",
        "    queens_df\n",
        "    .pipe(lambda x: x.assign(gains_pctg=x[\"New cases\"]))\n",
        "    .groupby(['Date','Province_State'])\n",
        "    .agg({\"gains_pctg\": \"sum\"})\n",
        "    .reset_index()\n",
        "    .rename(columns={\"gains_pctg\": \"New cases\"})\n",
        ")"
      ],
      "execution_count": 57,
      "outputs": []
    },
    {
      "cell_type": "code",
      "metadata": {
        "id": "FU_aWMWr94_i",
        "colab_type": "code",
        "colab": {}
      },
      "source": [
        "base_ca = alt.Chart(ca_total).mark_bar().encode(\n",
        "    x='monthdate(Date):O',\n",
        ").properties(\n",
        "    width=500\n",
        ")\n",
        "\n",
        "base_ny = alt.Chart(ny_total).mark_bar().encode(\n",
        "    x='monthdate(Date):O',\n",
        ").properties(\n",
        "    width=500\n",
        ")\n",
        "\n",
        "base_queens = alt.Chart(queens_county_total).mark_bar().encode(\n",
        "    x='monthdate(Date):O',\n",
        ").properties(\n",
        "    width=500\n",
        ")"
      ],
      "execution_count": 58,
      "outputs": []
    },
    {
      "cell_type": "code",
      "metadata": {
        "id": "Xhl9giYd-GGf",
        "colab_type": "code",
        "colab": {
          "base_uri": "https://localhost:8080/",
          "height": 408
        },
        "outputId": "84b1c946-e238-4d97-bf51-0365e5d952b3"
      },
      "source": [
        "red = alt.value(\"#f54242\")\n",
        "##Ca data\n",
        "#base_ca.encode(y='Confirmed').properties(title='Total Confirmed') | base_ca.encode(y='Deaths',color = red).properties(title='Total deaths')\n",
        "base_ca.encode(y='New cases').properties(title='CA State- New cases')"
      ],
      "execution_count": 61,
      "outputs": [
        {
          "output_type": "execute_result",
          "data": {
            "text/plain": [
              "alt.Chart(...)"
            ],
            "text/html": [
              "\n",
              "<div id=\"altair-viz-4c5f631c86f84b8ba801252387c38b6b\"></div>\n",
              "<script type=\"text/javascript\">\n",
              "  (function(spec, embedOpt){\n",
              "    let outputDiv = document.currentScript.previousElementSibling;\n",
              "    if (outputDiv.id !== \"altair-viz-4c5f631c86f84b8ba801252387c38b6b\") {\n",
              "      outputDiv = document.getElementById(\"altair-viz-4c5f631c86f84b8ba801252387c38b6b\");\n",
              "    }\n",
              "    const paths = {\n",
              "      \"vega\": \"https://cdn.jsdelivr.net/npm//vega@5?noext\",\n",
              "      \"vega-lib\": \"https://cdn.jsdelivr.net/npm//vega-lib?noext\",\n",
              "      \"vega-lite\": \"https://cdn.jsdelivr.net/npm//vega-lite@4.8.1?noext\",\n",
              "      \"vega-embed\": \"https://cdn.jsdelivr.net/npm//vega-embed@6?noext\",\n",
              "    };\n",
              "\n",
              "    function loadScript(lib) {\n",
              "      return new Promise(function(resolve, reject) {\n",
              "        var s = document.createElement('script');\n",
              "        s.src = paths[lib];\n",
              "        s.async = true;\n",
              "        s.onload = () => resolve(paths[lib]);\n",
              "        s.onerror = () => reject(`Error loading script: ${paths[lib]}`);\n",
              "        document.getElementsByTagName(\"head\")[0].appendChild(s);\n",
              "      });\n",
              "    }\n",
              "\n",
              "    function showError(err) {\n",
              "      outputDiv.innerHTML = `<div class=\"error\" style=\"color:red;\">${err}</div>`;\n",
              "      throw err;\n",
              "    }\n",
              "\n",
              "    function displayChart(vegaEmbed) {\n",
              "      vegaEmbed(outputDiv, spec, embedOpt)\n",
              "        .catch(err => showError(`Javascript Error: ${err.message}<br>This usually means there's a typo in your chart specification. See the javascript console for the full traceback.`));\n",
              "    }\n",
              "\n",
              "    if(typeof define === \"function\" && define.amd) {\n",
              "      requirejs.config({paths});\n",
              "      require([\"vega-embed\"], displayChart, err => showError(`Error loading script: ${err.message}`));\n",
              "    } else if (typeof vegaEmbed === \"function\") {\n",
              "      displayChart(vegaEmbed);\n",
              "    } else {\n",
              "      loadScript(\"vega\")\n",
              "        .then(() => loadScript(\"vega-lite\"))\n",
              "        .then(() => loadScript(\"vega-embed\"))\n",
              "        .catch(showError)\n",
              "        .then(() => displayChart(vegaEmbed));\n",
              "    }\n",
              "  })({\"config\": {\"view\": {\"continuousWidth\": 400, \"continuousHeight\": 300}}, \"data\": {\"name\": \"data-5ff8481dde24a2b41188823e3ace758a\"}, \"mark\": \"bar\", \"encoding\": {\"x\": {\"type\": \"ordinal\", \"field\": \"Date\", \"timeUnit\": \"monthdate\"}, \"y\": {\"type\": \"quantitative\", \"field\": \"New cases\"}}, \"title\": \"CA State- New cases\", \"width\": 500, \"$schema\": \"https://vega.github.io/schema/vega-lite/v4.8.1.json\", \"datasets\": {\"data-5ff8481dde24a2b41188823e3ace758a\": [{\"Date\": \"1/22/20\", \"Province_State\": \"California\", \"New cases\": 0}, {\"Date\": \"1/23/20\", \"Province_State\": \"California\", \"New cases\": 0}, {\"Date\": \"1/24/20\", \"Province_State\": \"California\", \"New cases\": 0}, {\"Date\": \"1/25/20\", \"Province_State\": \"California\", \"New cases\": 0}, {\"Date\": \"1/26/20\", \"Province_State\": \"California\", \"New cases\": 120}, {\"Date\": \"1/27/20\", \"Province_State\": \"California\", \"New cases\": 0}, {\"Date\": \"1/28/20\", \"Province_State\": \"California\", \"New cases\": 0}, {\"Date\": \"1/29/20\", \"Province_State\": \"California\", \"New cases\": 0}, {\"Date\": \"1/30/20\", \"Province_State\": \"California\", \"New cases\": 0}, {\"Date\": \"1/31/20\", \"Province_State\": \"California\", \"New cases\": 60}, {\"Date\": \"2/1/20\", \"Province_State\": \"California\", \"New cases\": 0}, {\"Date\": \"2/10/20\", \"Province_State\": \"California\", \"New cases\": 180}, {\"Date\": \"2/11/20\", \"Province_State\": \"California\", \"New cases\": 60}, {\"Date\": \"2/12/20\", \"Province_State\": \"California\", \"New cases\": 0}, {\"Date\": \"2/13/20\", \"Province_State\": \"California\", \"New cases\": 60}, {\"Date\": \"2/14/20\", \"Province_State\": \"California\", \"New cases\": 0}, {\"Date\": \"2/15/20\", \"Province_State\": \"California\", \"New cases\": 0}, {\"Date\": \"2/16/20\", \"Province_State\": \"California\", \"New cases\": 0}, {\"Date\": \"2/17/20\", \"Province_State\": \"California\", \"New cases\": 0}, {\"Date\": \"2/18/20\", \"Province_State\": \"California\", \"New cases\": 0}, {\"Date\": \"2/19/20\", \"Province_State\": \"California\", \"New cases\": 0}, {\"Date\": \"2/2/20\", \"Province_State\": \"California\", \"New cases\": 0}, {\"Date\": \"2/20/20\", \"Province_State\": \"California\", \"New cases\": 300}, {\"Date\": \"2/21/20\", \"Province_State\": \"California\", \"New cases\": 120}, {\"Date\": \"2/22/20\", \"Province_State\": \"California\", \"New cases\": 0}, {\"Date\": \"2/23/20\", \"Province_State\": \"California\", \"New cases\": 0}, {\"Date\": \"2/24/20\", \"Province_State\": \"California\", \"New cases\": 0}, {\"Date\": \"2/25/20\", \"Province_State\": \"California\", \"New cases\": 0}, {\"Date\": \"2/26/20\", \"Province_State\": \"California\", \"New cases\": 0}, {\"Date\": \"2/27/20\", \"Province_State\": \"California\", \"New cases\": 60}, {\"Date\": \"2/28/20\", \"Province_State\": \"California\", \"New cases\": 0}, {\"Date\": \"2/29/20\", \"Province_State\": \"California\", \"New cases\": 60}, {\"Date\": \"2/3/20\", \"Province_State\": \"California\", \"New cases\": 0}, {\"Date\": \"2/4/20\", \"Province_State\": \"California\", \"New cases\": 0}, {\"Date\": \"2/5/20\", \"Province_State\": \"California\", \"New cases\": 0}, {\"Date\": \"2/6/20\", \"Province_State\": \"California\", \"New cases\": 0}, {\"Date\": \"2/7/20\", \"Province_State\": \"California\", \"New cases\": 0}, {\"Date\": \"2/8/20\", \"Province_State\": \"California\", \"New cases\": 0}, {\"Date\": \"2/9/20\", \"Province_State\": \"California\", \"New cases\": 0}, {\"Date\": \"3/1/20\", \"Province_State\": \"California\", \"New cases\": 360}, {\"Date\": \"3/10/20\", \"Province_State\": \"California\", \"New cases\": 7920}, {\"Date\": \"3/11/20\", \"Province_State\": \"California\", \"New cases\": 2040}, {\"Date\": \"3/12/20\", \"Province_State\": \"California\", \"New cases\": 2580}, {\"Date\": \"3/13/20\", \"Province_State\": \"California\", \"New cases\": 3600}, {\"Date\": \"3/14/20\", \"Province_State\": \"California\", \"New cases\": 5460}, {\"Date\": \"3/15/20\", \"Province_State\": \"California\", \"New cases\": 60}, {\"Date\": \"3/16/20\", \"Province_State\": \"California\", \"New cases\": 11040}, {\"Date\": \"3/17/20\", \"Province_State\": \"California\", \"New cases\": 8580}, {\"Date\": \"3/18/20\", \"Province_State\": \"California\", \"New cases\": 7860}, {\"Date\": \"3/19/20\", \"Province_State\": \"California\", \"New cases\": 10680}, {\"Date\": \"3/2/20\", \"Province_State\": \"California\", \"New cases\": 0}, {\"Date\": \"3/20/20\", \"Province_State\": \"California\", \"New cases\": 73320}, {\"Date\": \"3/21/20\", \"Province_State\": \"California\", \"New cases\": 10140}, {\"Date\": \"3/22/20\", \"Province_State\": \"California\", \"New cases\": 14340}, {\"Date\": \"3/23/20\", \"Province_State\": \"California\", \"New cases\": 27720}, {\"Date\": \"3/24/20\", \"Province_State\": \"California\", \"New cases\": 25740}, {\"Date\": \"3/25/20\", \"Province_State\": \"California\", \"New cases\": 28020}, {\"Date\": \"3/26/20\", \"Province_State\": \"California\", \"New cases\": 54060}, {\"Date\": \"3/27/20\", \"Province_State\": \"California\", \"New cases\": 46140}, {\"Date\": \"3/28/20\", \"Province_State\": \"California\", \"New cases\": 25860}, {\"Date\": \"3/29/20\", \"Province_State\": \"California\", \"New cases\": 45180}, {\"Date\": \"3/3/20\", \"Province_State\": \"California\", \"New cases\": 0}, {\"Date\": \"3/30/20\", \"Province_State\": \"California\", \"New cases\": 427800}, {\"Date\": \"3/31/20\", \"Province_State\": \"California\", \"New cases\": 64680}, {\"Date\": \"3/4/20\", \"Province_State\": \"California\", \"New cases\": 0}, {\"Date\": \"3/5/20\", \"Province_State\": \"California\", \"New cases\": 960}, {\"Date\": \"3/6/20\", \"Province_State\": \"California\", \"New cases\": 480}, {\"Date\": \"3/7/20\", \"Province_State\": \"California\", \"New cases\": 1320}, {\"Date\": \"3/8/20\", \"Province_State\": \"California\", \"New cases\": 840}, {\"Date\": \"3/9/20\", \"Province_State\": \"California\", \"New cases\": 360}, {\"Date\": \"4/1/20\", \"Province_State\": \"California\", \"New cases\": 558540}, {\"Date\": \"4/10/20\", \"Province_State\": \"California\", \"New cases\": 700260}, {\"Date\": \"4/11/20\", \"Province_State\": \"California\", \"New cases\": 38160}, {\"Date\": \"4/12/20\", \"Province_State\": \"California\", \"New cases\": 64980}, {\"Date\": \"4/13/20\", \"Province_State\": \"California\", \"New cases\": 68040}, {\"Date\": \"4/14/20\", \"Province_State\": \"California\", \"New cases\": 87300}, {\"Date\": \"4/15/20\", \"Province_State\": \"California\", \"New cases\": 77820}, {\"Date\": \"4/16/20\", \"Province_State\": \"California\", \"New cases\": 59460}, {\"Date\": \"4/17/20\", \"Province_State\": \"California\", \"New cases\": 88800}, {\"Date\": \"4/18/20\", \"Province_State\": \"California\", \"New cases\": 81240}, {\"Date\": \"4/19/20\", \"Province_State\": \"California\", \"New cases\": 55200}, {\"Date\": \"4/2/20\", \"Province_State\": \"California\", \"New cases\": 0}, {\"Date\": \"4/20/20\", \"Province_State\": \"California\", \"New cases\": 1373760}, {\"Date\": \"4/21/20\", \"Province_State\": \"California\", \"New cases\": 107640}, {\"Date\": \"4/22/20\", \"Province_State\": \"California\", \"New cases\": 112320}, {\"Date\": \"4/23/20\", \"Province_State\": \"California\", \"New cases\": 132540}, {\"Date\": \"4/24/20\", \"Province_State\": \"California\", \"New cases\": 107640}, {\"Date\": \"4/25/20\", \"Province_State\": \"California\", \"New cases\": 60780}, {\"Date\": \"4/26/20\", \"Province_State\": \"California\", \"New cases\": 71460}, {\"Date\": \"4/27/20\", \"Province_State\": \"California\", \"New cases\": 84780}, {\"Date\": \"4/28/20\", \"Province_State\": \"California\", \"New cases\": 71520}, {\"Date\": \"4/29/20\", \"Province_State\": \"California\", \"New cases\": 154980}, {\"Date\": \"4/3/20\", \"Province_State\": \"California\", \"New cases\": 0}, {\"Date\": \"4/30/20\", \"Province_State\": \"California\", \"New cases\": 2286840}, {\"Date\": \"4/4/20\", \"Province_State\": \"California\", \"New cases\": 0}, {\"Date\": \"4/5/20\", \"Province_State\": \"California\", \"New cases\": 131820}, {\"Date\": \"4/6/20\", \"Province_State\": \"California\", \"New cases\": 59400}, {\"Date\": \"4/7/20\", \"Province_State\": \"California\", \"New cases\": 79620}, {\"Date\": \"4/8/20\", \"Province_State\": \"California\", \"New cases\": 92760}, {\"Date\": \"4/9/20\", \"Province_State\": \"California\", \"New cases\": 48780}, {\"Date\": \"5/1/20\", \"Province_State\": \"California\", \"New cases\": 1938960}, {\"Date\": \"5/10/20\", \"Province_State\": \"California\", \"New cases\": 934440}, {\"Date\": \"5/11/20\", \"Province_State\": \"California\", \"New cases\": 103740}, {\"Date\": \"5/12/20\", \"Province_State\": \"California\", \"New cases\": 99060}, {\"Date\": \"5/13/20\", \"Province_State\": \"California\", \"New cases\": 109080}, {\"Date\": \"5/14/20\", \"Province_State\": \"California\", \"New cases\": 124380}, {\"Date\": \"5/15/20\", \"Province_State\": \"California\", \"New cases\": 109320}, {\"Date\": \"5/16/20\", \"Province_State\": \"California\", \"New cases\": 121920}, {\"Date\": \"5/17/20\", \"Province_State\": \"California\", \"New cases\": 86460}, {\"Date\": \"5/18/20\", \"Province_State\": \"California\", \"New cases\": 81120}, {\"Date\": \"5/19/20\", \"Province_State\": \"California\", \"New cases\": 134760}, {\"Date\": \"5/2/20\", \"Province_State\": \"California\", \"New cases\": 0}, {\"Date\": \"5/20/20\", \"Province_State\": \"California\", \"New cases\": 1960260}, {\"Date\": \"5/21/20\", \"Province_State\": \"California\", \"New cases\": 122280}, {\"Date\": \"5/22/20\", \"Province_State\": \"California\", \"New cases\": 133500}, {\"Date\": \"5/23/20\", \"Province_State\": \"California\", \"New cases\": 136980}, {\"Date\": \"5/24/20\", \"Province_State\": \"California\", \"New cases\": 90300}, {\"Date\": \"5/25/20\", \"Province_State\": \"California\", \"New cases\": 144060}, {\"Date\": \"5/26/20\", \"Province_State\": \"California\", \"New cases\": 181320}, {\"Date\": \"5/27/20\", \"Province_State\": \"California\", \"New cases\": 94740}, {\"Date\": \"5/28/20\", \"Province_State\": \"California\", \"New cases\": 164520}, {\"Date\": \"5/29/20\", \"Province_State\": \"California\", \"New cases\": 169500}, {\"Date\": \"5/3/20\", \"Province_State\": \"California\", \"New cases\": 0}, {\"Date\": \"5/30/20\", \"Province_State\": \"California\", \"New cases\": 3299520}, {\"Date\": \"5/31/20\", \"Province_State\": \"California\", \"New cases\": 123360}, {\"Date\": \"5/4/20\", \"Province_State\": \"California\", \"New cases\": 0}, {\"Date\": \"5/5/20\", \"Province_State\": \"California\", \"New cases\": 154320}, {\"Date\": \"5/6/20\", \"Province_State\": \"California\", \"New cases\": 129600}, {\"Date\": \"5/7/20\", \"Province_State\": \"California\", \"New cases\": 91920}, {\"Date\": \"5/8/20\", \"Province_State\": \"California\", \"New cases\": 99120}, {\"Date\": \"5/9/20\", \"Province_State\": \"California\", \"New cases\": 166320}, {\"Date\": \"6/1/20\", \"Province_State\": \"California\", \"New cases\": 2889660}, {\"Date\": \"6/10/20\", \"Province_State\": \"California\", \"New cases\": 1498920}, {\"Date\": \"6/11/20\", \"Province_State\": \"California\", \"New cases\": 223440}, {\"Date\": \"6/12/20\", \"Province_State\": \"California\", \"New cases\": 193200}, {\"Date\": \"6/13/20\", \"Province_State\": \"California\", \"New cases\": 202500}, {\"Date\": \"6/14/20\", \"Province_State\": \"California\", \"New cases\": 138900}, {\"Date\": \"6/15/20\", \"Province_State\": \"California\", \"New cases\": 202620}, {\"Date\": \"6/16/20\", \"Province_State\": \"California\", \"New cases\": 194100}, {\"Date\": \"6/17/20\", \"Province_State\": \"California\", \"New cases\": 230220}, {\"Date\": \"6/18/20\", \"Province_State\": \"California\", \"New cases\": 260100}, {\"Date\": \"6/19/20\", \"Province_State\": \"California\", \"New cases\": 223740}, {\"Date\": \"6/2/20\", \"Province_State\": \"California\", \"New cases\": 0}, {\"Date\": \"6/20/20\", \"Province_State\": \"California\", \"New cases\": 3481680}, {\"Date\": \"6/21/20\", \"Province_State\": \"California\", \"New cases\": 204840}, {\"Date\": \"6/22/20\", \"Province_State\": \"California\", \"New cases\": 366480}, {\"Date\": \"6/23/20\", \"Province_State\": \"California\", \"New cases\": 402720}, {\"Date\": \"6/24/20\", \"Province_State\": \"California\", \"New cases\": 272820}, {\"Date\": \"6/25/20\", \"Province_State\": \"California\", \"New cases\": 305280}, {\"Date\": \"6/26/20\", \"Province_State\": \"California\", \"New cases\": 343920}, {\"Date\": \"6/27/20\", \"Province_State\": \"California\", \"New cases\": 230880}, {\"Date\": \"6/28/20\", \"Province_State\": \"California\", \"New cases\": 287700}, {\"Date\": \"6/29/20\", \"Province_State\": \"California\", \"New cases\": 489540}, {\"Date\": \"6/3/20\", \"Province_State\": \"California\", \"New cases\": 0}, {\"Date\": \"6/30/20\", \"Province_State\": \"California\", \"New cases\": 6722640}, {\"Date\": \"6/4/20\", \"Province_State\": \"California\", \"New cases\": 0}, {\"Date\": \"6/5/20\", \"Province_State\": \"California\", \"New cases\": 215340}, {\"Date\": \"6/6/20\", \"Province_State\": \"California\", \"New cases\": 169380}, {\"Date\": \"6/7/20\", \"Province_State\": \"California\", \"New cases\": 123060}, {\"Date\": \"6/8/20\", \"Province_State\": \"California\", \"New cases\": 189540}, {\"Date\": \"6/9/20\", \"Province_State\": \"California\", \"New cases\": 171900}, {\"Date\": \"7/1/20\", \"Province_State\": \"California\", \"New cases\": 6120000}, {\"Date\": \"7/10/20\", \"Province_State\": \"California\", \"New cases\": 4332240}, {\"Date\": \"7/11/20\", \"Province_State\": \"California\", \"New cases\": 472560}, {\"Date\": \"7/12/20\", \"Province_State\": \"California\", \"New cases\": 346920}, {\"Date\": \"7/13/20\", \"Province_State\": \"California\", \"New cases\": 528840}, {\"Date\": \"7/14/20\", \"Province_State\": \"California\", \"New cases\": 771240}, {\"Date\": \"7/15/20\", \"Province_State\": \"California\", \"New cases\": 520440}, {\"Date\": \"7/16/20\", \"Province_State\": \"California\", \"New cases\": 589260}, {\"Date\": \"7/17/20\", \"Province_State\": \"California\", \"New cases\": 513180}, {\"Date\": \"7/18/20\", \"Province_State\": \"California\", \"New cases\": 449160}, {\"Date\": \"7/19/20\", \"Province_State\": \"California\", \"New cases\": 369660}, {\"Date\": \"7/2/20\", \"Province_State\": \"California\", \"New cases\": 0}, {\"Date\": \"7/20/20\", \"Province_State\": \"California\", \"New cases\": 9079200}, {\"Date\": \"7/21/20\", \"Province_State\": \"California\", \"New cases\": 686100}, {\"Date\": \"7/22/20\", \"Province_State\": \"California\", \"New cases\": 718860}, {\"Date\": \"7/23/20\", \"Province_State\": \"California\", \"New cases\": 569220}, {\"Date\": \"7/24/20\", \"Province_State\": \"California\", \"New cases\": 564720}, {\"Date\": \"7/25/20\", \"Province_State\": \"California\", \"New cases\": 376020}, {\"Date\": \"7/26/20\", \"Province_State\": \"California\", \"New cases\": 350160}, {\"Date\": \"7/27/20\", \"Province_State\": \"California\", \"New cases\": 349980}, {\"Date\": \"7/28/20\", \"Province_State\": \"California\", \"New cases\": 758460}, {\"Date\": \"7/29/20\", \"Province_State\": \"California\", \"New cases\": 849060}, {\"Date\": \"7/3/20\", \"Province_State\": \"California\", \"New cases\": 0}, {\"Date\": \"7/30/20\", \"Province_State\": \"California\", \"New cases\": 14545200}, {\"Date\": \"7/31/20\", \"Province_State\": \"California\", \"New cases\": 457320}, {\"Date\": \"7/4/20\", \"Province_State\": \"California\", \"New cases\": 0}, {\"Date\": \"7/5/20\", \"Province_State\": \"California\", \"New cases\": 707160}, {\"Date\": \"7/6/20\", \"Province_State\": \"California\", \"New cases\": 381240}, {\"Date\": \"7/7/20\", \"Province_State\": \"California\", \"New cases\": 778620}, {\"Date\": \"7/8/20\", \"Province_State\": \"California\", \"New cases\": 512880}, {\"Date\": \"7/9/20\", \"Province_State\": \"California\", \"New cases\": 595440}, {\"Date\": \"8/1/20\", \"Province_State\": \"California\", \"New cases\": 12247740}, {\"Date\": \"8/10/20\", \"Province_State\": \"California\", \"New cases\": 4057080}, {\"Date\": \"8/11/20\", \"Province_State\": \"California\", \"New cases\": 282900}, {\"Date\": \"8/12/20\", \"Province_State\": \"California\", \"New cases\": 745800}, {\"Date\": \"8/13/20\", \"Province_State\": \"California\", \"New cases\": 396480}, {\"Date\": \"8/14/20\", \"Province_State\": \"California\", \"New cases\": 907020}, {\"Date\": \"8/2/20\", \"Province_State\": \"California\", \"New cases\": 0}, {\"Date\": \"8/3/20\", \"Province_State\": \"California\", \"New cases\": 280560}, {\"Date\": \"8/4/20\", \"Province_State\": \"California\", \"New cases\": 590040}, {\"Date\": \"8/5/20\", \"Province_State\": \"California\", \"New cases\": 235260}, {\"Date\": \"8/6/20\", \"Province_State\": \"California\", \"New cases\": 643980}, {\"Date\": \"8/7/20\", \"Province_State\": \"California\", \"New cases\": 328500}, {\"Date\": \"8/8/20\", \"Province_State\": \"California\", \"New cases\": 454440}, {\"Date\": \"8/9/20\", \"Province_State\": \"California\", \"New cases\": 321480}]}}, {\"mode\": \"vega-lite\"});\n",
              "</script>"
            ]
          },
          "metadata": {
            "tags": []
          },
          "execution_count": 61
        }
      ]
    },
    {
      "cell_type": "code",
      "metadata": {
        "colab_type": "code",
        "id": "nSqdbk8o-bHz",
        "colab": {
          "base_uri": "https://localhost:8080/",
          "height": 403
        },
        "outputId": "68ecd573-960a-4b80-a82a-c1884c0333ca"
      },
      "source": [
        "#base_ny.encode(y='Confirmed').properties(title='Total Confirmed') | base_ny.encode(y='Deaths',color = red).properties(title='Total deaths')\n",
        "\n",
        "base_ny.encode(y='New cases').properties(title='NY state - New cases')\n"
      ],
      "execution_count": 59,
      "outputs": [
        {
          "output_type": "execute_result",
          "data": {
            "text/plain": [
              "alt.Chart(...)"
            ],
            "text/html": [
              "\n",
              "<div id=\"altair-viz-8782392e78b24cd7bedbecab6d74a4a7\"></div>\n",
              "<script type=\"text/javascript\">\n",
              "  (function(spec, embedOpt){\n",
              "    let outputDiv = document.currentScript.previousElementSibling;\n",
              "    if (outputDiv.id !== \"altair-viz-8782392e78b24cd7bedbecab6d74a4a7\") {\n",
              "      outputDiv = document.getElementById(\"altair-viz-8782392e78b24cd7bedbecab6d74a4a7\");\n",
              "    }\n",
              "    const paths = {\n",
              "      \"vega\": \"https://cdn.jsdelivr.net/npm//vega@5?noext\",\n",
              "      \"vega-lib\": \"https://cdn.jsdelivr.net/npm//vega-lib?noext\",\n",
              "      \"vega-lite\": \"https://cdn.jsdelivr.net/npm//vega-lite@4.8.1?noext\",\n",
              "      \"vega-embed\": \"https://cdn.jsdelivr.net/npm//vega-embed@6?noext\",\n",
              "    };\n",
              "\n",
              "    function loadScript(lib) {\n",
              "      return new Promise(function(resolve, reject) {\n",
              "        var s = document.createElement('script');\n",
              "        s.src = paths[lib];\n",
              "        s.async = true;\n",
              "        s.onload = () => resolve(paths[lib]);\n",
              "        s.onerror = () => reject(`Error loading script: ${paths[lib]}`);\n",
              "        document.getElementsByTagName(\"head\")[0].appendChild(s);\n",
              "      });\n",
              "    }\n",
              "\n",
              "    function showError(err) {\n",
              "      outputDiv.innerHTML = `<div class=\"error\" style=\"color:red;\">${err}</div>`;\n",
              "      throw err;\n",
              "    }\n",
              "\n",
              "    function displayChart(vegaEmbed) {\n",
              "      vegaEmbed(outputDiv, spec, embedOpt)\n",
              "        .catch(err => showError(`Javascript Error: ${err.message}<br>This usually means there's a typo in your chart specification. See the javascript console for the full traceback.`));\n",
              "    }\n",
              "\n",
              "    if(typeof define === \"function\" && define.amd) {\n",
              "      requirejs.config({paths});\n",
              "      require([\"vega-embed\"], displayChart, err => showError(`Error loading script: ${err.message}`));\n",
              "    } else if (typeof vegaEmbed === \"function\") {\n",
              "      displayChart(vegaEmbed);\n",
              "    } else {\n",
              "      loadScript(\"vega\")\n",
              "        .then(() => loadScript(\"vega-lite\"))\n",
              "        .then(() => loadScript(\"vega-embed\"))\n",
              "        .catch(showError)\n",
              "        .then(() => displayChart(vegaEmbed));\n",
              "    }\n",
              "  })({\"config\": {\"view\": {\"continuousWidth\": 400, \"continuousHeight\": 300}}, \"data\": {\"name\": \"data-6e26cc17d643dc8878096ce6f6287e7b\"}, \"mark\": \"bar\", \"encoding\": {\"x\": {\"type\": \"ordinal\", \"field\": \"Date\", \"timeUnit\": \"monthdate\"}, \"y\": {\"type\": \"quantitative\", \"field\": \"New cases\"}}, \"title\": \"NY state - New cases\", \"width\": 500, \"$schema\": \"https://vega.github.io/schema/vega-lite/v4.8.1.json\", \"datasets\": {\"data-6e26cc17d643dc8878096ce6f6287e7b\": [{\"Date\": \"1/22/20\", \"Province_State\": \"New York\", \"New cases\": 0}, {\"Date\": \"1/23/20\", \"Province_State\": \"New York\", \"New cases\": 0}, {\"Date\": \"1/24/20\", \"Province_State\": \"New York\", \"New cases\": 0}, {\"Date\": \"1/25/20\", \"Province_State\": \"New York\", \"New cases\": 0}, {\"Date\": \"1/26/20\", \"Province_State\": \"New York\", \"New cases\": 0}, {\"Date\": \"1/27/20\", \"Province_State\": \"New York\", \"New cases\": 0}, {\"Date\": \"1/28/20\", \"Province_State\": \"New York\", \"New cases\": 0}, {\"Date\": \"1/29/20\", \"Province_State\": \"New York\", \"New cases\": 0}, {\"Date\": \"1/30/20\", \"Province_State\": \"New York\", \"New cases\": 0}, {\"Date\": \"1/31/20\", \"Province_State\": \"New York\", \"New cases\": 0}, {\"Date\": \"2/1/20\", \"Province_State\": \"New York\", \"New cases\": 0}, {\"Date\": \"2/10/20\", \"Province_State\": \"New York\", \"New cases\": 0}, {\"Date\": \"2/11/20\", \"Province_State\": \"New York\", \"New cases\": 0}, {\"Date\": \"2/12/20\", \"Province_State\": \"New York\", \"New cases\": 0}, {\"Date\": \"2/13/20\", \"Province_State\": \"New York\", \"New cases\": 0}, {\"Date\": \"2/14/20\", \"Province_State\": \"New York\", \"New cases\": 0}, {\"Date\": \"2/15/20\", \"Province_State\": \"New York\", \"New cases\": 0}, {\"Date\": \"2/16/20\", \"Province_State\": \"New York\", \"New cases\": 0}, {\"Date\": \"2/17/20\", \"Province_State\": \"New York\", \"New cases\": 0}, {\"Date\": \"2/18/20\", \"Province_State\": \"New York\", \"New cases\": 0}, {\"Date\": \"2/19/20\", \"Province_State\": \"New York\", \"New cases\": 0}, {\"Date\": \"2/2/20\", \"Province_State\": \"New York\", \"New cases\": 0}, {\"Date\": \"2/20/20\", \"Province_State\": \"New York\", \"New cases\": 0}, {\"Date\": \"2/21/20\", \"Province_State\": \"New York\", \"New cases\": 0}, {\"Date\": \"2/22/20\", \"Province_State\": \"New York\", \"New cases\": 0}, {\"Date\": \"2/23/20\", \"Province_State\": \"New York\", \"New cases\": 0}, {\"Date\": \"2/24/20\", \"Province_State\": \"New York\", \"New cases\": 0}, {\"Date\": \"2/25/20\", \"Province_State\": \"New York\", \"New cases\": 0}, {\"Date\": \"2/26/20\", \"Province_State\": \"New York\", \"New cases\": 0}, {\"Date\": \"2/27/20\", \"Province_State\": \"New York\", \"New cases\": 0}, {\"Date\": \"2/28/20\", \"Province_State\": \"New York\", \"New cases\": 0}, {\"Date\": \"2/29/20\", \"Province_State\": \"New York\", \"New cases\": 0}, {\"Date\": \"2/3/20\", \"Province_State\": \"New York\", \"New cases\": 0}, {\"Date\": \"2/4/20\", \"Province_State\": \"New York\", \"New cases\": 0}, {\"Date\": \"2/5/20\", \"Province_State\": \"New York\", \"New cases\": 0}, {\"Date\": \"2/6/20\", \"Province_State\": \"New York\", \"New cases\": 0}, {\"Date\": \"2/7/20\", \"Province_State\": \"New York\", \"New cases\": 0}, {\"Date\": \"2/8/20\", \"Province_State\": \"New York\", \"New cases\": 0}, {\"Date\": \"2/9/20\", \"Province_State\": \"New York\", \"New cases\": 0}, {\"Date\": \"3/1/20\", \"Province_State\": \"New York\", \"New cases\": 0}, {\"Date\": \"3/10/20\", \"Province_State\": \"New York\", \"New cases\": 9600}, {\"Date\": \"3/11/20\", \"Province_State\": \"New York\", \"New cases\": 4480}, {\"Date\": \"3/12/20\", \"Province_State\": \"New York\", \"New cases\": 6848}, {\"Date\": \"3/13/20\", \"Province_State\": \"New York\", \"New cases\": 6016}, {\"Date\": \"3/14/20\", \"Province_State\": \"New York\", \"New cases\": 12288}, {\"Date\": \"3/15/20\", \"Province_State\": \"New York\", \"New cases\": 128}, {\"Date\": \"3/16/20\", \"Province_State\": \"New York\", \"New cases\": 22528}, {\"Date\": \"3/17/20\", \"Province_State\": \"New York\", \"New cases\": 39104}, {\"Date\": \"3/18/20\", \"Province_State\": \"New York\", \"New cases\": 93440}, {\"Date\": \"3/19/20\", \"Province_State\": \"New York\", \"New cases\": 170624}, {\"Date\": \"3/2/20\", \"Province_State\": \"New York\", \"New cases\": 0}, {\"Date\": \"3/20/20\", \"Province_State\": \"New York\", \"New cases\": 537728}, {\"Date\": \"3/21/20\", \"Province_State\": \"New York\", \"New cases\": 212736}, {\"Date\": \"3/22/20\", \"Province_State\": \"New York\", \"New cases\": 260672}, {\"Date\": \"3/23/20\", \"Province_State\": \"New York\", \"New cases\": 325376}, {\"Date\": \"3/24/20\", \"Province_State\": \"New York\", \"New cases\": 307008}, {\"Date\": \"3/25/20\", \"Province_State\": \"New York\", \"New cases\": 330240}, {\"Date\": \"3/26/20\", \"Province_State\": \"New York\", \"New cases\": 450304}, {\"Date\": \"3/27/20\", \"Province_State\": \"New York\", \"New cases\": 447936}, {\"Date\": \"3/28/20\", \"Province_State\": \"New York\", \"New cases\": 482176}, {\"Date\": \"3/29/20\", \"Province_State\": \"New York\", \"New cases\": 463232}, {\"Date\": \"3/3/20\", \"Province_State\": \"New York\", \"New cases\": 0}, {\"Date\": \"3/30/20\", \"Province_State\": \"New York\", \"New cases\": 4266304}, {\"Date\": \"3/31/20\", \"Province_State\": \"New York\", \"New cases\": 586880}, {\"Date\": \"3/4/20\", \"Province_State\": \"New York\", \"New cases\": 0}, {\"Date\": \"3/5/20\", \"Province_State\": \"New York\", \"New cases\": 768}, {\"Date\": \"3/6/20\", \"Province_State\": \"New York\", \"New cases\": 512}, {\"Date\": \"3/7/20\", \"Province_State\": \"New York\", \"New cases\": 2880}, {\"Date\": \"3/8/20\", \"Province_State\": \"New York\", \"New cases\": 1920}, {\"Date\": \"3/9/20\", \"Province_State\": \"New York\", \"New cases\": 2304}, {\"Date\": \"4/1/20\", \"Province_State\": \"New York\", \"New cases\": 5363584}, {\"Date\": \"4/10/20\", \"Province_State\": \"New York\", \"New cases\": 5657600}, {\"Date\": \"4/11/20\", \"Province_State\": \"New York\", \"New cases\": 555392}, {\"Date\": \"4/12/20\", \"Province_State\": \"New York\", \"New cases\": 512448}, {\"Date\": \"4/13/20\", \"Province_State\": \"New York\", \"New cases\": 429824}, {\"Date\": \"4/14/20\", \"Province_State\": \"New York\", \"New cases\": 465344}, {\"Date\": \"4/15/20\", \"Province_State\": \"New York\", \"New cases\": 731776}, {\"Date\": \"4/16/20\", \"Province_State\": \"New York\", \"New cases\": 591168}, {\"Date\": \"4/17/20\", \"Province_State\": \"New York\", \"New cases\": 441984}, {\"Date\": \"4/18/20\", \"Province_State\": \"New York\", \"New cases\": 440128}, {\"Date\": \"4/19/20\", \"Province_State\": \"New York\", \"New cases\": 378112}, {\"Date\": \"4/2/20\", \"Province_State\": \"New York\", \"New cases\": 0}, {\"Date\": \"4/20/20\", \"Province_State\": \"New York\", \"New cases\": 9978240}, {\"Date\": \"4/21/20\", \"Province_State\": \"New York\", \"New cases\": 326592}, {\"Date\": \"4/22/20\", \"Province_State\": \"New York\", \"New cases\": 300992}, {\"Date\": \"4/23/20\", \"Province_State\": \"New York\", \"New cases\": 335232}, {\"Date\": \"4/24/20\", \"Province_State\": \"New York\", \"New cases\": 520320}, {\"Date\": \"4/25/20\", \"Province_State\": \"New York\", \"New cases\": 675392}, {\"Date\": \"4/26/20\", \"Province_State\": \"New York\", \"New cases\": 377728}, {\"Date\": \"4/27/20\", \"Province_State\": \"New York\", \"New cases\": 252864}, {\"Date\": \"4/28/20\", \"Province_State\": \"New York\", \"New cases\": 199040}, {\"Date\": \"4/29/20\", \"Province_State\": \"New York\", \"New cases\": 293440}, {\"Date\": \"4/3/20\", \"Province_State\": \"New York\", \"New cases\": 0}, {\"Date\": \"4/30/20\", \"Province_State\": \"New York\", \"New cases\": 12888640}, {\"Date\": \"4/4/20\", \"Province_State\": \"New York\", \"New cases\": 0}, {\"Date\": \"4/5/20\", \"Province_State\": \"New York\", \"New cases\": 596928}, {\"Date\": \"4/6/20\", \"Province_State\": \"New York\", \"New cases\": 553920}, {\"Date\": \"4/7/20\", \"Province_State\": \"New York\", \"New cases\": 515840}, {\"Date\": \"4/8/20\", \"Province_State\": \"New York\", \"New cases\": 715904}, {\"Date\": \"4/9/20\", \"Province_State\": \"New York\", \"New cases\": 685952}, {\"Date\": \"5/1/20\", \"Province_State\": \"New York\", \"New cases\": 9378240}, {\"Date\": \"5/10/20\", \"Province_State\": \"New York\", \"New cases\": 1733184}, {\"Date\": \"5/11/20\", \"Province_State\": \"New York\", \"New cases\": 106240}, {\"Date\": \"5/12/20\", \"Province_State\": \"New York\", \"New cases\": 91520}, {\"Date\": \"5/13/20\", \"Province_State\": \"New York\", \"New cases\": 139264}, {\"Date\": \"5/14/20\", \"Province_State\": \"New York\", \"New cases\": 152960}, {\"Date\": \"5/15/20\", \"Province_State\": \"New York\", \"New cases\": 176768}, {\"Date\": \"5/16/20\", \"Province_State\": \"New York\", \"New cases\": 154816}, {\"Date\": \"5/17/20\", \"Province_State\": \"New York\", \"New cases\": 120896}, {\"Date\": \"5/18/20\", \"Province_State\": \"New York\", \"New cases\": 80000}, {\"Date\": \"5/19/20\", \"Province_State\": \"New York\", \"New cases\": 94336}, {\"Date\": \"5/2/20\", \"Province_State\": \"New York\", \"New cases\": 0}, {\"Date\": \"5/20/20\", \"Province_State\": \"New York\", \"New cases\": 2649152}, {\"Date\": \"5/21/20\", \"Province_State\": \"New York\", \"New cases\": 133632}, {\"Date\": \"5/22/20\", \"Province_State\": \"New York\", \"New cases\": 108544}, {\"Date\": \"5/23/20\", \"Province_State\": \"New York\", \"New cases\": 113408}, {\"Date\": \"5/24/20\", \"Province_State\": \"New York\", \"New cases\": 101696}, {\"Date\": \"5/25/20\", \"Province_State\": \"New York\", \"New cases\": 79936}, {\"Date\": \"5/26/20\", \"Province_State\": \"New York\", \"New cases\": 68608}, {\"Date\": \"5/27/20\", \"Province_State\": \"New York\", \"New cases\": 72256}, {\"Date\": \"5/28/20\", \"Province_State\": \"New York\", \"New cases\": 113152}, {\"Date\": \"5/29/20\", \"Province_State\": \"New York\", \"New cases\": 99264}, {\"Date\": \"5/3/20\", \"Province_State\": \"New York\", \"New cases\": 0}, {\"Date\": \"5/30/20\", \"Province_State\": \"New York\", \"New cases\": 3407680}, {\"Date\": \"5/31/20\", \"Province_State\": \"New York\", \"New cases\": 71040}, {\"Date\": \"5/4/20\", \"Province_State\": \"New York\", \"New cases\": 0}, {\"Date\": \"5/5/20\", \"Province_State\": \"New York\", \"New cases\": 143296}, {\"Date\": \"5/6/20\", \"Province_State\": \"New York\", \"New cases\": 178304}, {\"Date\": \"5/7/20\", \"Province_State\": \"New York\", \"New cases\": 223424}, {\"Date\": \"5/8/20\", \"Province_State\": \"New York\", \"New cases\": 188032}, {\"Date\": \"5/9/20\", \"Province_State\": \"New York\", \"New cases\": 173760}, {\"Date\": \"6/1/20\", \"Province_State\": \"New York\", \"New cases\": 2469696}, {\"Date\": \"6/10/20\", \"Province_State\": \"New York\", \"New cases\": 540480}, {\"Date\": \"6/11/20\", \"Province_State\": \"New York\", \"New cases\": 47104}, {\"Date\": \"6/12/20\", \"Province_State\": \"New York\", \"New cases\": 52608}, {\"Date\": \"6/13/20\", \"Province_State\": \"New York\", \"New cases\": 58624}, {\"Date\": \"6/14/20\", \"Province_State\": \"New York\", \"New cases\": 44416}, {\"Date\": \"6/15/20\", \"Province_State\": \"New York\", \"New cases\": 39680}, {\"Date\": \"6/16/20\", \"Province_State\": \"New York\", \"New cases\": 40384}, {\"Date\": \"6/17/20\", \"Province_State\": \"New York\", \"New cases\": 36288}, {\"Date\": \"6/18/20\", \"Province_State\": \"New York\", \"New cases\": 39552}, {\"Date\": \"6/19/20\", \"Province_State\": \"New York\", \"New cases\": 50944}, {\"Date\": \"6/2/20\", \"Province_State\": \"New York\", \"New cases\": 0}, {\"Date\": \"6/20/20\", \"Province_State\": \"New York\", \"New cases\": 910848}, {\"Date\": \"6/21/20\", \"Province_State\": \"New York\", \"New cases\": 42496}, {\"Date\": \"6/22/20\", \"Province_State\": \"New York\", \"New cases\": 35328}, {\"Date\": \"6/23/20\", \"Province_State\": \"New York\", \"New cases\": 38208}, {\"Date\": \"6/24/20\", \"Province_State\": \"New York\", \"New cases\": 37184}, {\"Date\": \"6/25/20\", \"Province_State\": \"New York\", \"New cases\": 47936}, {\"Date\": \"6/26/20\", \"Province_State\": \"New York\", \"New cases\": 51520}, {\"Date\": \"6/27/20\", \"Province_State\": \"New York\", \"New cases\": 44992}, {\"Date\": \"6/28/20\", \"Province_State\": \"New York\", \"New cases\": 39424}, {\"Date\": \"6/29/20\", \"Province_State\": \"New York\", \"New cases\": 25024}, {\"Date\": \"6/3/20\", \"Province_State\": \"New York\", \"New cases\": 0}, {\"Date\": \"6/30/20\", \"Province_State\": \"New York\", \"New cases\": 1239616}, {\"Date\": \"6/4/20\", \"Province_State\": \"New York\", \"New cases\": 0}, {\"Date\": \"6/5/20\", \"Province_State\": \"New York\", \"New cases\": 68800}, {\"Date\": \"6/6/20\", \"Province_State\": \"New York\", \"New cases\": 70912}, {\"Date\": \"6/7/20\", \"Province_State\": \"New York\", \"New cases\": 49984}, {\"Date\": \"6/8/20\", \"Province_State\": \"New York\", \"New cases\": 44928}, {\"Date\": \"6/9/20\", \"Province_State\": \"New York\", \"New cases\": 43712}, {\"Date\": \"7/1/20\", \"Province_State\": \"New York\", \"New cases\": 934208}, {\"Date\": \"7/10/20\", \"Province_State\": \"New York\", \"New cases\": 398080}, {\"Date\": \"7/11/20\", \"Province_State\": \"New York\", \"New cases\": 46720}, {\"Date\": \"7/12/20\", \"Province_State\": \"New York\", \"New cases\": 43328}, {\"Date\": \"7/13/20\", \"Province_State\": \"New York\", \"New cases\": 35648}, {\"Date\": \"7/14/20\", \"Province_State\": \"New York\", \"New cases\": 58368}, {\"Date\": \"7/15/20\", \"Province_State\": \"New York\", \"New cases\": 53184}, {\"Date\": \"7/16/20\", \"Province_State\": \"New York\", \"New cases\": 49216}, {\"Date\": \"7/17/20\", \"Province_State\": \"New York\", \"New cases\": 49664}, {\"Date\": \"7/18/20\", \"Province_State\": \"New York\", \"New cases\": 48256}, {\"Date\": \"7/19/20\", \"Province_State\": \"New York\", \"New cases\": 32128}, {\"Date\": \"7/2/20\", \"Province_State\": \"New York\", \"New cases\": 0}, {\"Date\": \"7/20/20\", \"Province_State\": \"New York\", \"New cases\": 791808}, {\"Date\": \"7/21/20\", \"Province_State\": \"New York\", \"New cases\": 54720}, {\"Date\": \"7/22/20\", \"Province_State\": \"New York\", \"New cases\": 45120}, {\"Date\": \"7/23/20\", \"Province_State\": \"New York\", \"New cases\": 51904}, {\"Date\": \"7/24/20\", \"Province_State\": \"New York\", \"New cases\": 48192}, {\"Date\": \"7/25/20\", \"Province_State\": \"New York\", \"New cases\": 48000}, {\"Date\": \"7/26/20\", \"Province_State\": \"New York\", \"New cases\": 34304}, {\"Date\": \"7/27/20\", \"Province_State\": \"New York\", \"New cases\": 38912}, {\"Date\": \"7/28/20\", \"Province_State\": \"New York\", \"New cases\": 34176}, {\"Date\": \"7/29/20\", \"Province_State\": \"New York\", \"New cases\": 45760}, {\"Date\": \"7/3/20\", \"Province_State\": \"New York\", \"New cases\": 0}, {\"Date\": \"7/30/20\", \"Province_State\": \"New York\", \"New cases\": 1183872}, {\"Date\": \"7/31/20\", \"Province_State\": \"New York\", \"New cases\": 41216}, {\"Date\": \"7/4/20\", \"Province_State\": \"New York\", \"New cases\": 0}, {\"Date\": \"7/5/20\", \"Province_State\": \"New York\", \"New cases\": 34112}, {\"Date\": \"7/6/20\", \"Province_State\": \"New York\", \"New cases\": 33152}, {\"Date\": \"7/7/20\", \"Province_State\": \"New York\", \"New cases\": 37632}, {\"Date\": \"7/8/20\", \"Province_State\": \"New York\", \"New cases\": 44288}, {\"Date\": \"7/9/20\", \"Province_State\": \"New York\", \"New cases\": 37376}, {\"Date\": \"8/1/20\", \"Province_State\": \"New York\", \"New cases\": 1040256}, {\"Date\": \"8/10/20\", \"Province_State\": \"New York\", \"New cases\": 356416}, {\"Date\": \"8/11/20\", \"Province_State\": \"New York\", \"New cases\": 42688}, {\"Date\": \"8/12/20\", \"Province_State\": \"New York\", \"New cases\": 44800}, {\"Date\": \"8/13/20\", \"Province_State\": \"New York\", \"New cases\": 47168}, {\"Date\": \"8/14/20\", \"Province_State\": \"New York\", \"New cases\": 46528}, {\"Date\": \"8/2/20\", \"Province_State\": \"New York\", \"New cases\": 0}, {\"Date\": \"8/3/20\", \"Province_State\": \"New York\", \"New cases\": 34880}, {\"Date\": \"8/4/20\", \"Province_State\": \"New York\", \"New cases\": 47744}, {\"Date\": \"8/5/20\", \"Province_State\": \"New York\", \"New cases\": 40704}, {\"Date\": \"8/6/20\", \"Province_State\": \"New York\", \"New cases\": 44992}, {\"Date\": \"8/7/20\", \"Province_State\": \"New York\", \"New cases\": 45696}, {\"Date\": \"8/8/20\", \"Province_State\": \"New York\", \"New cases\": 44992}, {\"Date\": \"8/9/20\", \"Province_State\": \"New York\", \"New cases\": 32960}]}}, {\"mode\": \"vega-lite\"});\n",
              "</script>"
            ]
          },
          "metadata": {
            "tags": []
          },
          "execution_count": 59
        }
      ]
    },
    {
      "cell_type": "code",
      "metadata": {
        "id": "noNhAVUYx4Gz",
        "colab_type": "code",
        "colab": {
          "base_uri": "https://localhost:8080/",
          "height": 408
        },
        "outputId": "85f9d7e8-acf9-444a-8998-e1c5713ae5b1"
      },
      "source": [
        "base_queens.encode(y=\"New cases\").properties(title='Queens County New Cases')"
      ],
      "execution_count": 60,
      "outputs": [
        {
          "output_type": "execute_result",
          "data": {
            "text/plain": [
              "alt.Chart(...)"
            ],
            "text/html": [
              "\n",
              "<div id=\"altair-viz-e76b24d3b6ed461a9744e55882345d85\"></div>\n",
              "<script type=\"text/javascript\">\n",
              "  (function(spec, embedOpt){\n",
              "    let outputDiv = document.currentScript.previousElementSibling;\n",
              "    if (outputDiv.id !== \"altair-viz-e76b24d3b6ed461a9744e55882345d85\") {\n",
              "      outputDiv = document.getElementById(\"altair-viz-e76b24d3b6ed461a9744e55882345d85\");\n",
              "    }\n",
              "    const paths = {\n",
              "      \"vega\": \"https://cdn.jsdelivr.net/npm//vega@5?noext\",\n",
              "      \"vega-lib\": \"https://cdn.jsdelivr.net/npm//vega-lib?noext\",\n",
              "      \"vega-lite\": \"https://cdn.jsdelivr.net/npm//vega-lite@4.8.1?noext\",\n",
              "      \"vega-embed\": \"https://cdn.jsdelivr.net/npm//vega-embed@6?noext\",\n",
              "    };\n",
              "\n",
              "    function loadScript(lib) {\n",
              "      return new Promise(function(resolve, reject) {\n",
              "        var s = document.createElement('script');\n",
              "        s.src = paths[lib];\n",
              "        s.async = true;\n",
              "        s.onload = () => resolve(paths[lib]);\n",
              "        s.onerror = () => reject(`Error loading script: ${paths[lib]}`);\n",
              "        document.getElementsByTagName(\"head\")[0].appendChild(s);\n",
              "      });\n",
              "    }\n",
              "\n",
              "    function showError(err) {\n",
              "      outputDiv.innerHTML = `<div class=\"error\" style=\"color:red;\">${err}</div>`;\n",
              "      throw err;\n",
              "    }\n",
              "\n",
              "    function displayChart(vegaEmbed) {\n",
              "      vegaEmbed(outputDiv, spec, embedOpt)\n",
              "        .catch(err => showError(`Javascript Error: ${err.message}<br>This usually means there's a typo in your chart specification. See the javascript console for the full traceback.`));\n",
              "    }\n",
              "\n",
              "    if(typeof define === \"function\" && define.amd) {\n",
              "      requirejs.config({paths});\n",
              "      require([\"vega-embed\"], displayChart, err => showError(`Error loading script: ${err.message}`));\n",
              "    } else if (typeof vegaEmbed === \"function\") {\n",
              "      displayChart(vegaEmbed);\n",
              "    } else {\n",
              "      loadScript(\"vega\")\n",
              "        .then(() => loadScript(\"vega-lite\"))\n",
              "        .then(() => loadScript(\"vega-embed\"))\n",
              "        .catch(showError)\n",
              "        .then(() => displayChart(vegaEmbed));\n",
              "    }\n",
              "  })({\"config\": {\"view\": {\"continuousWidth\": 400, \"continuousHeight\": 300}}, \"data\": {\"name\": \"data-a8bc12343ac8ab9ff34695ac75dfc251\"}, \"mark\": \"bar\", \"encoding\": {\"x\": {\"type\": \"ordinal\", \"field\": \"Date\", \"timeUnit\": \"monthdate\"}, \"y\": {\"type\": \"quantitative\", \"field\": \"New cases\"}}, \"title\": \"Queens County New Cases\", \"width\": 500, \"$schema\": \"https://vega.github.io/schema/vega-lite/v4.8.1.json\", \"datasets\": {\"data-a8bc12343ac8ab9ff34695ac75dfc251\": [{\"Date\": \"1/22/20\", \"Province_State\": \"New York\", \"New cases\": 0}, {\"Date\": \"1/23/20\", \"Province_State\": \"New York\", \"New cases\": 0}, {\"Date\": \"1/24/20\", \"Province_State\": \"New York\", \"New cases\": 0}, {\"Date\": \"1/25/20\", \"Province_State\": \"New York\", \"New cases\": 0}, {\"Date\": \"1/26/20\", \"Province_State\": \"New York\", \"New cases\": 0}, {\"Date\": \"1/27/20\", \"Province_State\": \"New York\", \"New cases\": 0}, {\"Date\": \"1/28/20\", \"Province_State\": \"New York\", \"New cases\": 0}, {\"Date\": \"1/29/20\", \"Province_State\": \"New York\", \"New cases\": 0}, {\"Date\": \"1/30/20\", \"Province_State\": \"New York\", \"New cases\": 0}, {\"Date\": \"1/31/20\", \"Province_State\": \"New York\", \"New cases\": 0}, {\"Date\": \"2/1/20\", \"Province_State\": \"New York\", \"New cases\": 0}, {\"Date\": \"2/10/20\", \"Province_State\": \"New York\", \"New cases\": 0}, {\"Date\": \"2/11/20\", \"Province_State\": \"New York\", \"New cases\": 0}, {\"Date\": \"2/12/20\", \"Province_State\": \"New York\", \"New cases\": 0}, {\"Date\": \"2/13/20\", \"Province_State\": \"New York\", \"New cases\": 0}, {\"Date\": \"2/14/20\", \"Province_State\": \"New York\", \"New cases\": 0}, {\"Date\": \"2/15/20\", \"Province_State\": \"New York\", \"New cases\": 0}, {\"Date\": \"2/16/20\", \"Province_State\": \"New York\", \"New cases\": 0}, {\"Date\": \"2/17/20\", \"Province_State\": \"New York\", \"New cases\": 0}, {\"Date\": \"2/18/20\", \"Province_State\": \"New York\", \"New cases\": 0}, {\"Date\": \"2/19/20\", \"Province_State\": \"New York\", \"New cases\": 0}, {\"Date\": \"2/2/20\", \"Province_State\": \"New York\", \"New cases\": 0}, {\"Date\": \"2/20/20\", \"Province_State\": \"New York\", \"New cases\": 0}, {\"Date\": \"2/21/20\", \"Province_State\": \"New York\", \"New cases\": 0}, {\"Date\": \"2/22/20\", \"Province_State\": \"New York\", \"New cases\": 0}, {\"Date\": \"2/23/20\", \"Province_State\": \"New York\", \"New cases\": 0}, {\"Date\": \"2/24/20\", \"Province_State\": \"New York\", \"New cases\": 0}, {\"Date\": \"2/25/20\", \"Province_State\": \"New York\", \"New cases\": 0}, {\"Date\": \"2/26/20\", \"Province_State\": \"New York\", \"New cases\": 0}, {\"Date\": \"2/27/20\", \"Province_State\": \"New York\", \"New cases\": 0}, {\"Date\": \"2/28/20\", \"Province_State\": \"New York\", \"New cases\": 0}, {\"Date\": \"2/29/20\", \"Province_State\": \"New York\", \"New cases\": 0}, {\"Date\": \"2/3/20\", \"Province_State\": \"New York\", \"New cases\": 0}, {\"Date\": \"2/4/20\", \"Province_State\": \"New York\", \"New cases\": 0}, {\"Date\": \"2/5/20\", \"Province_State\": \"New York\", \"New cases\": 0}, {\"Date\": \"2/6/20\", \"Province_State\": \"New York\", \"New cases\": 0}, {\"Date\": \"2/7/20\", \"Province_State\": \"New York\", \"New cases\": 0}, {\"Date\": \"2/8/20\", \"Province_State\": \"New York\", \"New cases\": 0}, {\"Date\": \"2/9/20\", \"Province_State\": \"New York\", \"New cases\": 0}, {\"Date\": \"3/1/20\", \"Province_State\": \"New York\", \"New cases\": 0}, {\"Date\": \"3/10/20\", \"Province_State\": \"New York\", \"New cases\": 150}, {\"Date\": \"3/11/20\", \"Province_State\": \"New York\", \"New cases\": 70}, {\"Date\": \"3/12/20\", \"Province_State\": \"New York\", \"New cases\": 107}, {\"Date\": \"3/13/20\", \"Province_State\": \"New York\", \"New cases\": 94}, {\"Date\": \"3/14/20\", \"Province_State\": \"New York\", \"New cases\": 192}, {\"Date\": \"3/15/20\", \"Province_State\": \"New York\", \"New cases\": 2}, {\"Date\": \"3/16/20\", \"Province_State\": \"New York\", \"New cases\": 352}, {\"Date\": \"3/17/20\", \"Province_State\": \"New York\", \"New cases\": 611}, {\"Date\": \"3/18/20\", \"Province_State\": \"New York\", \"New cases\": 1460}, {\"Date\": \"3/19/20\", \"Province_State\": \"New York\", \"New cases\": 2666}, {\"Date\": \"3/2/20\", \"Province_State\": \"New York\", \"New cases\": 0}, {\"Date\": \"3/20/20\", \"Province_State\": \"New York\", \"New cases\": 8402}, {\"Date\": \"3/21/20\", \"Province_State\": \"New York\", \"New cases\": 3324}, {\"Date\": \"3/22/20\", \"Province_State\": \"New York\", \"New cases\": 4073}, {\"Date\": \"3/23/20\", \"Province_State\": \"New York\", \"New cases\": 5084}, {\"Date\": \"3/24/20\", \"Province_State\": \"New York\", \"New cases\": 4797}, {\"Date\": \"3/25/20\", \"Province_State\": \"New York\", \"New cases\": 5160}, {\"Date\": \"3/26/20\", \"Province_State\": \"New York\", \"New cases\": 7036}, {\"Date\": \"3/27/20\", \"Province_State\": \"New York\", \"New cases\": 6999}, {\"Date\": \"3/28/20\", \"Province_State\": \"New York\", \"New cases\": 7534}, {\"Date\": \"3/29/20\", \"Province_State\": \"New York\", \"New cases\": 7238}, {\"Date\": \"3/3/20\", \"Province_State\": \"New York\", \"New cases\": 0}, {\"Date\": \"3/30/20\", \"Province_State\": \"New York\", \"New cases\": 66661}, {\"Date\": \"3/31/20\", \"Province_State\": \"New York\", \"New cases\": 9170}, {\"Date\": \"3/4/20\", \"Province_State\": \"New York\", \"New cases\": 0}, {\"Date\": \"3/5/20\", \"Province_State\": \"New York\", \"New cases\": 12}, {\"Date\": \"3/6/20\", \"Province_State\": \"New York\", \"New cases\": 8}, {\"Date\": \"3/7/20\", \"Province_State\": \"New York\", \"New cases\": 45}, {\"Date\": \"3/8/20\", \"Province_State\": \"New York\", \"New cases\": 30}, {\"Date\": \"3/9/20\", \"Province_State\": \"New York\", \"New cases\": 36}, {\"Date\": \"4/1/20\", \"Province_State\": \"New York\", \"New cases\": 83806}, {\"Date\": \"4/10/20\", \"Province_State\": \"New York\", \"New cases\": 88400}, {\"Date\": \"4/11/20\", \"Province_State\": \"New York\", \"New cases\": 8678}, {\"Date\": \"4/12/20\", \"Province_State\": \"New York\", \"New cases\": 8007}, {\"Date\": \"4/13/20\", \"Province_State\": \"New York\", \"New cases\": 6716}, {\"Date\": \"4/14/20\", \"Province_State\": \"New York\", \"New cases\": 7271}, {\"Date\": \"4/15/20\", \"Province_State\": \"New York\", \"New cases\": 11434}, {\"Date\": \"4/16/20\", \"Province_State\": \"New York\", \"New cases\": 9237}, {\"Date\": \"4/17/20\", \"Province_State\": \"New York\", \"New cases\": 6906}, {\"Date\": \"4/18/20\", \"Province_State\": \"New York\", \"New cases\": 6877}, {\"Date\": \"4/19/20\", \"Province_State\": \"New York\", \"New cases\": 5908}, {\"Date\": \"4/2/20\", \"Province_State\": \"New York\", \"New cases\": 0}, {\"Date\": \"4/20/20\", \"Province_State\": \"New York\", \"New cases\": 155910}, {\"Date\": \"4/21/20\", \"Province_State\": \"New York\", \"New cases\": 5103}, {\"Date\": \"4/22/20\", \"Province_State\": \"New York\", \"New cases\": 4703}, {\"Date\": \"4/23/20\", \"Province_State\": \"New York\", \"New cases\": 5238}, {\"Date\": \"4/24/20\", \"Province_State\": \"New York\", \"New cases\": 8130}, {\"Date\": \"4/25/20\", \"Province_State\": \"New York\", \"New cases\": 10553}, {\"Date\": \"4/26/20\", \"Province_State\": \"New York\", \"New cases\": 5902}, {\"Date\": \"4/27/20\", \"Province_State\": \"New York\", \"New cases\": 3951}, {\"Date\": \"4/28/20\", \"Province_State\": \"New York\", \"New cases\": 3110}, {\"Date\": \"4/29/20\", \"Province_State\": \"New York\", \"New cases\": 4585}, {\"Date\": \"4/3/20\", \"Province_State\": \"New York\", \"New cases\": 0}, {\"Date\": \"4/30/20\", \"Province_State\": \"New York\", \"New cases\": 201385}, {\"Date\": \"4/4/20\", \"Province_State\": \"New York\", \"New cases\": 0}, {\"Date\": \"4/5/20\", \"Province_State\": \"New York\", \"New cases\": 9327}, {\"Date\": \"4/6/20\", \"Province_State\": \"New York\", \"New cases\": 8655}, {\"Date\": \"4/7/20\", \"Province_State\": \"New York\", \"New cases\": 8060}, {\"Date\": \"4/8/20\", \"Province_State\": \"New York\", \"New cases\": 11186}, {\"Date\": \"4/9/20\", \"Province_State\": \"New York\", \"New cases\": 10718}, {\"Date\": \"5/1/20\", \"Province_State\": \"New York\", \"New cases\": 146535}, {\"Date\": \"5/10/20\", \"Province_State\": \"New York\", \"New cases\": 27081}, {\"Date\": \"5/11/20\", \"Province_State\": \"New York\", \"New cases\": 1660}, {\"Date\": \"5/12/20\", \"Province_State\": \"New York\", \"New cases\": 1430}, {\"Date\": \"5/13/20\", \"Province_State\": \"New York\", \"New cases\": 2176}, {\"Date\": \"5/14/20\", \"Province_State\": \"New York\", \"New cases\": 2390}, {\"Date\": \"5/15/20\", \"Province_State\": \"New York\", \"New cases\": 2762}, {\"Date\": \"5/16/20\", \"Province_State\": \"New York\", \"New cases\": 2419}, {\"Date\": \"5/17/20\", \"Province_State\": \"New York\", \"New cases\": 1889}, {\"Date\": \"5/18/20\", \"Province_State\": \"New York\", \"New cases\": 1250}, {\"Date\": \"5/19/20\", \"Province_State\": \"New York\", \"New cases\": 1474}, {\"Date\": \"5/2/20\", \"Province_State\": \"New York\", \"New cases\": 0}, {\"Date\": \"5/20/20\", \"Province_State\": \"New York\", \"New cases\": 41393}, {\"Date\": \"5/21/20\", \"Province_State\": \"New York\", \"New cases\": 2088}, {\"Date\": \"5/22/20\", \"Province_State\": \"New York\", \"New cases\": 1696}, {\"Date\": \"5/23/20\", \"Province_State\": \"New York\", \"New cases\": 1772}, {\"Date\": \"5/24/20\", \"Province_State\": \"New York\", \"New cases\": 1589}, {\"Date\": \"5/25/20\", \"Province_State\": \"New York\", \"New cases\": 1249}, {\"Date\": \"5/26/20\", \"Province_State\": \"New York\", \"New cases\": 1072}, {\"Date\": \"5/27/20\", \"Province_State\": \"New York\", \"New cases\": 1129}, {\"Date\": \"5/28/20\", \"Province_State\": \"New York\", \"New cases\": 1768}, {\"Date\": \"5/29/20\", \"Province_State\": \"New York\", \"New cases\": 1551}, {\"Date\": \"5/3/20\", \"Province_State\": \"New York\", \"New cases\": 0}, {\"Date\": \"5/30/20\", \"Province_State\": \"New York\", \"New cases\": 53245}, {\"Date\": \"5/31/20\", \"Province_State\": \"New York\", \"New cases\": 1110}, {\"Date\": \"5/4/20\", \"Province_State\": \"New York\", \"New cases\": 0}, {\"Date\": \"5/5/20\", \"Province_State\": \"New York\", \"New cases\": 2239}, {\"Date\": \"5/6/20\", \"Province_State\": \"New York\", \"New cases\": 2786}, {\"Date\": \"5/7/20\", \"Province_State\": \"New York\", \"New cases\": 3491}, {\"Date\": \"5/8/20\", \"Province_State\": \"New York\", \"New cases\": 2938}, {\"Date\": \"5/9/20\", \"Province_State\": \"New York\", \"New cases\": 2715}, {\"Date\": \"6/1/20\", \"Province_State\": \"New York\", \"New cases\": 38589}, {\"Date\": \"6/10/20\", \"Province_State\": \"New York\", \"New cases\": 8445}, {\"Date\": \"6/11/20\", \"Province_State\": \"New York\", \"New cases\": 736}, {\"Date\": \"6/12/20\", \"Province_State\": \"New York\", \"New cases\": 822}, {\"Date\": \"6/13/20\", \"Province_State\": \"New York\", \"New cases\": 916}, {\"Date\": \"6/14/20\", \"Province_State\": \"New York\", \"New cases\": 694}, {\"Date\": \"6/15/20\", \"Province_State\": \"New York\", \"New cases\": 620}, {\"Date\": \"6/16/20\", \"Province_State\": \"New York\", \"New cases\": 631}, {\"Date\": \"6/17/20\", \"Province_State\": \"New York\", \"New cases\": 567}, {\"Date\": \"6/18/20\", \"Province_State\": \"New York\", \"New cases\": 618}, {\"Date\": \"6/19/20\", \"Province_State\": \"New York\", \"New cases\": 796}, {\"Date\": \"6/2/20\", \"Province_State\": \"New York\", \"New cases\": 0}, {\"Date\": \"6/20/20\", \"Province_State\": \"New York\", \"New cases\": 14232}, {\"Date\": \"6/21/20\", \"Province_State\": \"New York\", \"New cases\": 664}, {\"Date\": \"6/22/20\", \"Province_State\": \"New York\", \"New cases\": 552}, {\"Date\": \"6/23/20\", \"Province_State\": \"New York\", \"New cases\": 597}, {\"Date\": \"6/24/20\", \"Province_State\": \"New York\", \"New cases\": 581}, {\"Date\": \"6/25/20\", \"Province_State\": \"New York\", \"New cases\": 749}, {\"Date\": \"6/26/20\", \"Province_State\": \"New York\", \"New cases\": 805}, {\"Date\": \"6/27/20\", \"Province_State\": \"New York\", \"New cases\": 703}, {\"Date\": \"6/28/20\", \"Province_State\": \"New York\", \"New cases\": 616}, {\"Date\": \"6/29/20\", \"Province_State\": \"New York\", \"New cases\": 391}, {\"Date\": \"6/3/20\", \"Province_State\": \"New York\", \"New cases\": 0}, {\"Date\": \"6/30/20\", \"Province_State\": \"New York\", \"New cases\": 19369}, {\"Date\": \"6/4/20\", \"Province_State\": \"New York\", \"New cases\": 0}, {\"Date\": \"6/5/20\", \"Province_State\": \"New York\", \"New cases\": 1075}, {\"Date\": \"6/6/20\", \"Province_State\": \"New York\", \"New cases\": 1108}, {\"Date\": \"6/7/20\", \"Province_State\": \"New York\", \"New cases\": 781}, {\"Date\": \"6/8/20\", \"Province_State\": \"New York\", \"New cases\": 702}, {\"Date\": \"6/9/20\", \"Province_State\": \"New York\", \"New cases\": 683}, {\"Date\": \"7/1/20\", \"Province_State\": \"New York\", \"New cases\": 14597}, {\"Date\": \"7/10/20\", \"Province_State\": \"New York\", \"New cases\": 6220}, {\"Date\": \"7/11/20\", \"Province_State\": \"New York\", \"New cases\": 730}, {\"Date\": \"7/12/20\", \"Province_State\": \"New York\", \"New cases\": 677}, {\"Date\": \"7/13/20\", \"Province_State\": \"New York\", \"New cases\": 557}, {\"Date\": \"7/14/20\", \"Province_State\": \"New York\", \"New cases\": 912}, {\"Date\": \"7/15/20\", \"Province_State\": \"New York\", \"New cases\": 831}, {\"Date\": \"7/16/20\", \"Province_State\": \"New York\", \"New cases\": 769}, {\"Date\": \"7/17/20\", \"Province_State\": \"New York\", \"New cases\": 776}, {\"Date\": \"7/18/20\", \"Province_State\": \"New York\", \"New cases\": 754}, {\"Date\": \"7/19/20\", \"Province_State\": \"New York\", \"New cases\": 502}, {\"Date\": \"7/2/20\", \"Province_State\": \"New York\", \"New cases\": 0}, {\"Date\": \"7/20/20\", \"Province_State\": \"New York\", \"New cases\": 12372}, {\"Date\": \"7/21/20\", \"Province_State\": \"New York\", \"New cases\": 855}, {\"Date\": \"7/22/20\", \"Province_State\": \"New York\", \"New cases\": 705}, {\"Date\": \"7/23/20\", \"Province_State\": \"New York\", \"New cases\": 811}, {\"Date\": \"7/24/20\", \"Province_State\": \"New York\", \"New cases\": 753}, {\"Date\": \"7/25/20\", \"Province_State\": \"New York\", \"New cases\": 750}, {\"Date\": \"7/26/20\", \"Province_State\": \"New York\", \"New cases\": 536}, {\"Date\": \"7/27/20\", \"Province_State\": \"New York\", \"New cases\": 608}, {\"Date\": \"7/28/20\", \"Province_State\": \"New York\", \"New cases\": 534}, {\"Date\": \"7/29/20\", \"Province_State\": \"New York\", \"New cases\": 715}, {\"Date\": \"7/3/20\", \"Province_State\": \"New York\", \"New cases\": 0}, {\"Date\": \"7/30/20\", \"Province_State\": \"New York\", \"New cases\": 18498}, {\"Date\": \"7/31/20\", \"Province_State\": \"New York\", \"New cases\": 644}, {\"Date\": \"7/4/20\", \"Province_State\": \"New York\", \"New cases\": 0}, {\"Date\": \"7/5/20\", \"Province_State\": \"New York\", \"New cases\": 533}, {\"Date\": \"7/6/20\", \"Province_State\": \"New York\", \"New cases\": 518}, {\"Date\": \"7/7/20\", \"Province_State\": \"New York\", \"New cases\": 588}, {\"Date\": \"7/8/20\", \"Province_State\": \"New York\", \"New cases\": 692}, {\"Date\": \"7/9/20\", \"Province_State\": \"New York\", \"New cases\": 584}, {\"Date\": \"8/1/20\", \"Province_State\": \"New York\", \"New cases\": 16254}, {\"Date\": \"8/10/20\", \"Province_State\": \"New York\", \"New cases\": 5569}, {\"Date\": \"8/11/20\", \"Province_State\": \"New York\", \"New cases\": 667}, {\"Date\": \"8/12/20\", \"Province_State\": \"New York\", \"New cases\": 700}, {\"Date\": \"8/13/20\", \"Province_State\": \"New York\", \"New cases\": 737}, {\"Date\": \"8/14/20\", \"Province_State\": \"New York\", \"New cases\": 727}, {\"Date\": \"8/2/20\", \"Province_State\": \"New York\", \"New cases\": 0}, {\"Date\": \"8/3/20\", \"Province_State\": \"New York\", \"New cases\": 545}, {\"Date\": \"8/4/20\", \"Province_State\": \"New York\", \"New cases\": 746}, {\"Date\": \"8/5/20\", \"Province_State\": \"New York\", \"New cases\": 636}, {\"Date\": \"8/6/20\", \"Province_State\": \"New York\", \"New cases\": 703}, {\"Date\": \"8/7/20\", \"Province_State\": \"New York\", \"New cases\": 714}, {\"Date\": \"8/8/20\", \"Province_State\": \"New York\", \"New cases\": 703}, {\"Date\": \"8/9/20\", \"Province_State\": \"New York\", \"New cases\": 515}]}}, {\"mode\": \"vega-lite\"});\n",
              "</script>"
            ]
          },
          "metadata": {
            "tags": []
          },
          "execution_count": 60
        }
      ]
    },
    {
      "cell_type": "markdown",
      "metadata": {
        "id": "xnChmkatzLCU",
        "colab_type": "text"
      },
      "source": [
        "# Rolling Average"
      ]
    },
    {
      "cell_type": "code",
      "metadata": {
        "id": "2O5o2HP3xGPt",
        "colab_type": "code",
        "colab": {
          "base_uri": "https://localhost:8080/",
          "height": 204
        },
        "outputId": "e2e1d2a8-7a2a-4158-adeb-2b1dd3dea4d1"
      },
      "source": [
        "queens_county_total.head()"
      ],
      "execution_count": 63,
      "outputs": [
        {
          "output_type": "execute_result",
          "data": {
            "text/html": [
              "<div>\n",
              "<style scoped>\n",
              "    .dataframe tbody tr th:only-of-type {\n",
              "        vertical-align: middle;\n",
              "    }\n",
              "\n",
              "    .dataframe tbody tr th {\n",
              "        vertical-align: top;\n",
              "    }\n",
              "\n",
              "    .dataframe thead th {\n",
              "        text-align: right;\n",
              "    }\n",
              "</style>\n",
              "<table border=\"1\" class=\"dataframe\">\n",
              "  <thead>\n",
              "    <tr style=\"text-align: right;\">\n",
              "      <th></th>\n",
              "      <th>Date</th>\n",
              "      <th>Province_State</th>\n",
              "      <th>New cases</th>\n",
              "    </tr>\n",
              "  </thead>\n",
              "  <tbody>\n",
              "    <tr>\n",
              "      <th>0</th>\n",
              "      <td>1/22/20</td>\n",
              "      <td>New York</td>\n",
              "      <td>0</td>\n",
              "    </tr>\n",
              "    <tr>\n",
              "      <th>1</th>\n",
              "      <td>1/23/20</td>\n",
              "      <td>New York</td>\n",
              "      <td>0</td>\n",
              "    </tr>\n",
              "    <tr>\n",
              "      <th>2</th>\n",
              "      <td>1/24/20</td>\n",
              "      <td>New York</td>\n",
              "      <td>0</td>\n",
              "    </tr>\n",
              "    <tr>\n",
              "      <th>3</th>\n",
              "      <td>1/25/20</td>\n",
              "      <td>New York</td>\n",
              "      <td>0</td>\n",
              "    </tr>\n",
              "    <tr>\n",
              "      <th>4</th>\n",
              "      <td>1/26/20</td>\n",
              "      <td>New York</td>\n",
              "      <td>0</td>\n",
              "    </tr>\n",
              "  </tbody>\n",
              "</table>\n",
              "</div>"
            ],
            "text/plain": [
              "      Date Province_State  New cases\n",
              "0  1/22/20       New York          0\n",
              "1  1/23/20       New York          0\n",
              "2  1/24/20       New York          0\n",
              "3  1/25/20       New York          0\n",
              "4  1/26/20       New York          0"
            ]
          },
          "metadata": {
            "tags": []
          },
          "execution_count": 63
        }
      ]
    },
    {
      "cell_type": "code",
      "metadata": {
        "id": "aOYjSgRHvXTp",
        "colab_type": "code",
        "colab": {
          "base_uri": "https://localhost:8080/",
          "height": 221
        },
        "outputId": "dbee9707-eea2-4f32-891e-7ec69b583481"
      },
      "source": [
        "queens_county_total.iloc[:,2]"
      ],
      "execution_count": 64,
      "outputs": [
        {
          "output_type": "execute_result",
          "data": {
            "text/plain": [
              "0        0\n",
              "1        0\n",
              "2        0\n",
              "3        0\n",
              "4        0\n",
              "      ... \n",
              "201    636\n",
              "202    703\n",
              "203    714\n",
              "204    703\n",
              "205    515\n",
              "Name: New cases, Length: 206, dtype: int64"
            ]
          },
          "metadata": {
            "tags": []
          },
          "execution_count": 64
        }
      ]
    },
    {
      "cell_type": "code",
      "metadata": {
        "id": "tqU7apTow2AH",
        "colab_type": "code",
        "colab": {}
      },
      "source": [
        "base_queens.encode(y=\"New cases\").properties(title='Queens County New Cases')"
      ],
      "execution_count": null,
      "outputs": []
    },
    {
      "cell_type": "code",
      "metadata": {
        "id": "k8e9d_OfuXPO",
        "colab_type": "code",
        "colab": {}
      },
      "source": [
        "queens_county_total['rolling_average'] = queens_county_total.iloc[:,2].rolling(window=7).mean()\n",
        "\n",
        "base_queens = alt.Chart(queens_county_total).mark_bar().encode(\n",
        "    x='monthdate(Date):O',\n",
        ").properties(\n",
        "    width=500\n",
        ")\n"
      ],
      "execution_count": 68,
      "outputs": []
    },
    {
      "cell_type": "code",
      "metadata": {
        "id": "6s3gY6OFuXH0",
        "colab_type": "code",
        "colab": {
          "base_uri": "https://localhost:8080/",
          "height": 359
        },
        "outputId": "5ae4cdca-ccc1-4f67-8a98-2b241b97b161"
      },
      "source": [
        "queens_county_total.tail(10)"
      ],
      "execution_count": 66,
      "outputs": [
        {
          "output_type": "execute_result",
          "data": {
            "text/html": [
              "<div>\n",
              "<style scoped>\n",
              "    .dataframe tbody tr th:only-of-type {\n",
              "        vertical-align: middle;\n",
              "    }\n",
              "\n",
              "    .dataframe tbody tr th {\n",
              "        vertical-align: top;\n",
              "    }\n",
              "\n",
              "    .dataframe thead th {\n",
              "        text-align: right;\n",
              "    }\n",
              "</style>\n",
              "<table border=\"1\" class=\"dataframe\">\n",
              "  <thead>\n",
              "    <tr style=\"text-align: right;\">\n",
              "      <th></th>\n",
              "      <th>Date</th>\n",
              "      <th>Province_State</th>\n",
              "      <th>New cases</th>\n",
              "      <th>rolling_average</th>\n",
              "    </tr>\n",
              "  </thead>\n",
              "  <tbody>\n",
              "    <tr>\n",
              "      <th>196</th>\n",
              "      <td>8/13/20</td>\n",
              "      <td>New York</td>\n",
              "      <td>737</td>\n",
              "      <td>3600.428571</td>\n",
              "    </tr>\n",
              "    <tr>\n",
              "      <th>197</th>\n",
              "      <td>8/14/20</td>\n",
              "      <td>New York</td>\n",
              "      <td>727</td>\n",
              "      <td>3605.428571</td>\n",
              "    </tr>\n",
              "    <tr>\n",
              "      <th>198</th>\n",
              "      <td>8/2/20</td>\n",
              "      <td>New York</td>\n",
              "      <td>0</td>\n",
              "      <td>3522.000000</td>\n",
              "    </tr>\n",
              "    <tr>\n",
              "      <th>199</th>\n",
              "      <td>8/3/20</td>\n",
              "      <td>New York</td>\n",
              "      <td>545</td>\n",
              "      <td>1277.857143</td>\n",
              "    </tr>\n",
              "    <tr>\n",
              "      <th>200</th>\n",
              "      <td>8/4/20</td>\n",
              "      <td>New York</td>\n",
              "      <td>746</td>\n",
              "      <td>588.857143</td>\n",
              "    </tr>\n",
              "    <tr>\n",
              "      <th>201</th>\n",
              "      <td>8/5/20</td>\n",
              "      <td>New York</td>\n",
              "      <td>636</td>\n",
              "      <td>584.428571</td>\n",
              "    </tr>\n",
              "    <tr>\n",
              "      <th>202</th>\n",
              "      <td>8/6/20</td>\n",
              "      <td>New York</td>\n",
              "      <td>703</td>\n",
              "      <td>584.857143</td>\n",
              "    </tr>\n",
              "    <tr>\n",
              "      <th>203</th>\n",
              "      <td>8/7/20</td>\n",
              "      <td>New York</td>\n",
              "      <td>714</td>\n",
              "      <td>581.571429</td>\n",
              "    </tr>\n",
              "    <tr>\n",
              "      <th>204</th>\n",
              "      <td>8/8/20</td>\n",
              "      <td>New York</td>\n",
              "      <td>703</td>\n",
              "      <td>578.142857</td>\n",
              "    </tr>\n",
              "    <tr>\n",
              "      <th>205</th>\n",
              "      <td>8/9/20</td>\n",
              "      <td>New York</td>\n",
              "      <td>515</td>\n",
              "      <td>651.714286</td>\n",
              "    </tr>\n",
              "  </tbody>\n",
              "</table>\n",
              "</div>"
            ],
            "text/plain": [
              "        Date Province_State  New cases  rolling_average\n",
              "196  8/13/20       New York        737      3600.428571\n",
              "197  8/14/20       New York        727      3605.428571\n",
              "198   8/2/20       New York          0      3522.000000\n",
              "199   8/3/20       New York        545      1277.857143\n",
              "200   8/4/20       New York        746       588.857143\n",
              "201   8/5/20       New York        636       584.428571\n",
              "202   8/6/20       New York        703       584.857143\n",
              "203   8/7/20       New York        714       581.571429\n",
              "204   8/8/20       New York        703       578.142857\n",
              "205   8/9/20       New York        515       651.714286"
            ]
          },
          "metadata": {
            "tags": []
          },
          "execution_count": 66
        }
      ]
    },
    {
      "cell_type": "code",
      "metadata": {
        "id": "A7d2Kcweyekp",
        "colab_type": "code",
        "colab": {
          "base_uri": "https://localhost:8080/",
          "height": 408
        },
        "outputId": "2b302e27-904d-4eb2-ac7d-c09f7ee029f3"
      },
      "source": [
        "base_queens.encode(y=\"New cases\").properties(title='Queens County- 7 day rolling average (New Cases)')"
      ],
      "execution_count": 69,
      "outputs": [
        {
          "output_type": "execute_result",
          "data": {
            "text/plain": [
              "alt.Chart(...)"
            ],
            "text/html": [
              "\n",
              "<div id=\"altair-viz-0573fef4883a467787407103b9a56b31\"></div>\n",
              "<script type=\"text/javascript\">\n",
              "  (function(spec, embedOpt){\n",
              "    let outputDiv = document.currentScript.previousElementSibling;\n",
              "    if (outputDiv.id !== \"altair-viz-0573fef4883a467787407103b9a56b31\") {\n",
              "      outputDiv = document.getElementById(\"altair-viz-0573fef4883a467787407103b9a56b31\");\n",
              "    }\n",
              "    const paths = {\n",
              "      \"vega\": \"https://cdn.jsdelivr.net/npm//vega@5?noext\",\n",
              "      \"vega-lib\": \"https://cdn.jsdelivr.net/npm//vega-lib?noext\",\n",
              "      \"vega-lite\": \"https://cdn.jsdelivr.net/npm//vega-lite@4.8.1?noext\",\n",
              "      \"vega-embed\": \"https://cdn.jsdelivr.net/npm//vega-embed@6?noext\",\n",
              "    };\n",
              "\n",
              "    function loadScript(lib) {\n",
              "      return new Promise(function(resolve, reject) {\n",
              "        var s = document.createElement('script');\n",
              "        s.src = paths[lib];\n",
              "        s.async = true;\n",
              "        s.onload = () => resolve(paths[lib]);\n",
              "        s.onerror = () => reject(`Error loading script: ${paths[lib]}`);\n",
              "        document.getElementsByTagName(\"head\")[0].appendChild(s);\n",
              "      });\n",
              "    }\n",
              "\n",
              "    function showError(err) {\n",
              "      outputDiv.innerHTML = `<div class=\"error\" style=\"color:red;\">${err}</div>`;\n",
              "      throw err;\n",
              "    }\n",
              "\n",
              "    function displayChart(vegaEmbed) {\n",
              "      vegaEmbed(outputDiv, spec, embedOpt)\n",
              "        .catch(err => showError(`Javascript Error: ${err.message}<br>This usually means there's a typo in your chart specification. See the javascript console for the full traceback.`));\n",
              "    }\n",
              "\n",
              "    if(typeof define === \"function\" && define.amd) {\n",
              "      requirejs.config({paths});\n",
              "      require([\"vega-embed\"], displayChart, err => showError(`Error loading script: ${err.message}`));\n",
              "    } else if (typeof vegaEmbed === \"function\") {\n",
              "      displayChart(vegaEmbed);\n",
              "    } else {\n",
              "      loadScript(\"vega\")\n",
              "        .then(() => loadScript(\"vega-lite\"))\n",
              "        .then(() => loadScript(\"vega-embed\"))\n",
              "        .catch(showError)\n",
              "        .then(() => displayChart(vegaEmbed));\n",
              "    }\n",
              "  })({\"config\": {\"view\": {\"continuousWidth\": 400, \"continuousHeight\": 300}}, \"data\": {\"name\": \"data-aa84b7a3f1b392f6a3f0f86932364614\"}, \"mark\": \"bar\", \"encoding\": {\"x\": {\"type\": \"ordinal\", \"field\": \"Date\", \"timeUnit\": \"monthdate\"}, \"y\": {\"type\": \"quantitative\", \"field\": \"New cases\"}}, \"title\": \"Queens County- 7 day rolling average (New Cases)\", \"width\": 500, \"$schema\": \"https://vega.github.io/schema/vega-lite/v4.8.1.json\", \"datasets\": {\"data-aa84b7a3f1b392f6a3f0f86932364614\": [{\"Date\": \"1/22/20\", \"Province_State\": \"New York\", \"New cases\": 0, \"rolling_average\": null}, {\"Date\": \"1/23/20\", \"Province_State\": \"New York\", \"New cases\": 0, \"rolling_average\": null}, {\"Date\": \"1/24/20\", \"Province_State\": \"New York\", \"New cases\": 0, \"rolling_average\": null}, {\"Date\": \"1/25/20\", \"Province_State\": \"New York\", \"New cases\": 0, \"rolling_average\": null}, {\"Date\": \"1/26/20\", \"Province_State\": \"New York\", \"New cases\": 0, \"rolling_average\": null}, {\"Date\": \"1/27/20\", \"Province_State\": \"New York\", \"New cases\": 0, \"rolling_average\": null}, {\"Date\": \"1/28/20\", \"Province_State\": \"New York\", \"New cases\": 0, \"rolling_average\": 0.0}, {\"Date\": \"1/29/20\", \"Province_State\": \"New York\", \"New cases\": 0, \"rolling_average\": 0.0}, {\"Date\": \"1/30/20\", \"Province_State\": \"New York\", \"New cases\": 0, \"rolling_average\": 0.0}, {\"Date\": \"1/31/20\", \"Province_State\": \"New York\", \"New cases\": 0, \"rolling_average\": 0.0}, {\"Date\": \"2/1/20\", \"Province_State\": \"New York\", \"New cases\": 0, \"rolling_average\": 0.0}, {\"Date\": \"2/10/20\", \"Province_State\": \"New York\", \"New cases\": 0, \"rolling_average\": 0.0}, {\"Date\": \"2/11/20\", \"Province_State\": \"New York\", \"New cases\": 0, \"rolling_average\": 0.0}, {\"Date\": \"2/12/20\", \"Province_State\": \"New York\", \"New cases\": 0, \"rolling_average\": 0.0}, {\"Date\": \"2/13/20\", \"Province_State\": \"New York\", \"New cases\": 0, \"rolling_average\": 0.0}, {\"Date\": \"2/14/20\", \"Province_State\": \"New York\", \"New cases\": 0, \"rolling_average\": 0.0}, {\"Date\": \"2/15/20\", \"Province_State\": \"New York\", \"New cases\": 0, \"rolling_average\": 0.0}, {\"Date\": \"2/16/20\", \"Province_State\": \"New York\", \"New cases\": 0, \"rolling_average\": 0.0}, {\"Date\": \"2/17/20\", \"Province_State\": \"New York\", \"New cases\": 0, \"rolling_average\": 0.0}, {\"Date\": \"2/18/20\", \"Province_State\": \"New York\", \"New cases\": 0, \"rolling_average\": 0.0}, {\"Date\": \"2/19/20\", \"Province_State\": \"New York\", \"New cases\": 0, \"rolling_average\": 0.0}, {\"Date\": \"2/2/20\", \"Province_State\": \"New York\", \"New cases\": 0, \"rolling_average\": 0.0}, {\"Date\": \"2/20/20\", \"Province_State\": \"New York\", \"New cases\": 0, \"rolling_average\": 0.0}, {\"Date\": \"2/21/20\", \"Province_State\": \"New York\", \"New cases\": 0, \"rolling_average\": 0.0}, {\"Date\": \"2/22/20\", \"Province_State\": \"New York\", \"New cases\": 0, \"rolling_average\": 0.0}, {\"Date\": \"2/23/20\", \"Province_State\": \"New York\", \"New cases\": 0, \"rolling_average\": 0.0}, {\"Date\": \"2/24/20\", \"Province_State\": \"New York\", \"New cases\": 0, \"rolling_average\": 0.0}, {\"Date\": \"2/25/20\", \"Province_State\": \"New York\", \"New cases\": 0, \"rolling_average\": 0.0}, {\"Date\": \"2/26/20\", \"Province_State\": \"New York\", \"New cases\": 0, \"rolling_average\": 0.0}, {\"Date\": \"2/27/20\", \"Province_State\": \"New York\", \"New cases\": 0, \"rolling_average\": 0.0}, {\"Date\": \"2/28/20\", \"Province_State\": \"New York\", \"New cases\": 0, \"rolling_average\": 0.0}, {\"Date\": \"2/29/20\", \"Province_State\": \"New York\", \"New cases\": 0, \"rolling_average\": 0.0}, {\"Date\": \"2/3/20\", \"Province_State\": \"New York\", \"New cases\": 0, \"rolling_average\": 0.0}, {\"Date\": \"2/4/20\", \"Province_State\": \"New York\", \"New cases\": 0, \"rolling_average\": 0.0}, {\"Date\": \"2/5/20\", \"Province_State\": \"New York\", \"New cases\": 0, \"rolling_average\": 0.0}, {\"Date\": \"2/6/20\", \"Province_State\": \"New York\", \"New cases\": 0, \"rolling_average\": 0.0}, {\"Date\": \"2/7/20\", \"Province_State\": \"New York\", \"New cases\": 0, \"rolling_average\": 0.0}, {\"Date\": \"2/8/20\", \"Province_State\": \"New York\", \"New cases\": 0, \"rolling_average\": 0.0}, {\"Date\": \"2/9/20\", \"Province_State\": \"New York\", \"New cases\": 0, \"rolling_average\": 0.0}, {\"Date\": \"3/1/20\", \"Province_State\": \"New York\", \"New cases\": 0, \"rolling_average\": 0.0}, {\"Date\": \"3/10/20\", \"Province_State\": \"New York\", \"New cases\": 150, \"rolling_average\": 21.428571428571427}, {\"Date\": \"3/11/20\", \"Province_State\": \"New York\", \"New cases\": 70, \"rolling_average\": 31.428571428571427}, {\"Date\": \"3/12/20\", \"Province_State\": \"New York\", \"New cases\": 107, \"rolling_average\": 46.714285714285715}, {\"Date\": \"3/13/20\", \"Province_State\": \"New York\", \"New cases\": 94, \"rolling_average\": 60.142857142857146}, {\"Date\": \"3/14/20\", \"Province_State\": \"New York\", \"New cases\": 192, \"rolling_average\": 87.57142857142857}, {\"Date\": \"3/15/20\", \"Province_State\": \"New York\", \"New cases\": 2, \"rolling_average\": 87.85714285714286}, {\"Date\": \"3/16/20\", \"Province_State\": \"New York\", \"New cases\": 352, \"rolling_average\": 138.14285714285714}, {\"Date\": \"3/17/20\", \"Province_State\": \"New York\", \"New cases\": 611, \"rolling_average\": 204.0}, {\"Date\": \"3/18/20\", \"Province_State\": \"New York\", \"New cases\": 1460, \"rolling_average\": 402.57142857142856}, {\"Date\": \"3/19/20\", \"Province_State\": \"New York\", \"New cases\": 2666, \"rolling_average\": 768.1428571428571}, {\"Date\": \"3/2/20\", \"Province_State\": \"New York\", \"New cases\": 0, \"rolling_average\": 754.7142857142857}, {\"Date\": \"3/20/20\", \"Province_State\": \"New York\", \"New cases\": 8402, \"rolling_average\": 1927.5714285714287}, {\"Date\": \"3/21/20\", \"Province_State\": \"New York\", \"New cases\": 3324, \"rolling_average\": 2402.1428571428573}, {\"Date\": \"3/22/20\", \"Province_State\": \"New York\", \"New cases\": 4073, \"rolling_average\": 2933.714285714286}, {\"Date\": \"3/23/20\", \"Province_State\": \"New York\", \"New cases\": 5084, \"rolling_average\": 3572.714285714286}, {\"Date\": \"3/24/20\", \"Province_State\": \"New York\", \"New cases\": 4797, \"rolling_average\": 4049.4285714285716}, {\"Date\": \"3/25/20\", \"Province_State\": \"New York\", \"New cases\": 5160, \"rolling_average\": 4405.714285714285}, {\"Date\": \"3/26/20\", \"Province_State\": \"New York\", \"New cases\": 7036, \"rolling_average\": 5410.857142857143}, {\"Date\": \"3/27/20\", \"Province_State\": \"New York\", \"New cases\": 6999, \"rolling_average\": 5210.428571428572}, {\"Date\": \"3/28/20\", \"Province_State\": \"New York\", \"New cases\": 7534, \"rolling_average\": 5811.857142857143}, {\"Date\": \"3/29/20\", \"Province_State\": \"New York\", \"New cases\": 7238, \"rolling_average\": 6264.0}, {\"Date\": \"3/3/20\", \"Province_State\": \"New York\", \"New cases\": 0, \"rolling_average\": 5537.714285714285}, {\"Date\": \"3/30/20\", \"Province_State\": \"New York\", \"New cases\": 66661, \"rolling_average\": 14375.42857142857}, {\"Date\": \"3/31/20\", \"Province_State\": \"New York\", \"New cases\": 9170, \"rolling_average\": 14948.285714285714}, {\"Date\": \"3/4/20\", \"Province_State\": \"New York\", \"New cases\": 0, \"rolling_average\": 13943.142857142857}, {\"Date\": \"3/5/20\", \"Province_State\": \"New York\", \"New cases\": 12, \"rolling_average\": 12945.0}, {\"Date\": \"3/6/20\", \"Province_State\": \"New York\", \"New cases\": 8, \"rolling_average\": 11869.857142857143}, {\"Date\": \"3/7/20\", \"Province_State\": \"New York\", \"New cases\": 45, \"rolling_average\": 10842.285714285714}, {\"Date\": \"3/8/20\", \"Province_State\": \"New York\", \"New cases\": 30, \"rolling_average\": 10846.57142857143}, {\"Date\": \"3/9/20\", \"Province_State\": \"New York\", \"New cases\": 36, \"rolling_average\": 1328.7142857142858}, {\"Date\": \"4/1/20\", \"Province_State\": \"New York\", \"New cases\": 83806, \"rolling_average\": 11991.0}, {\"Date\": \"4/10/20\", \"Province_State\": \"New York\", \"New cases\": 88400, \"rolling_average\": 24619.571428571428}, {\"Date\": \"4/11/20\", \"Province_State\": \"New York\", \"New cases\": 8678, \"rolling_average\": 25857.571428571428}, {\"Date\": \"4/12/20\", \"Province_State\": \"New York\", \"New cases\": 8007, \"rolling_average\": 27000.285714285714}, {\"Date\": \"4/13/20\", \"Province_State\": \"New York\", \"New cases\": 6716, \"rolling_average\": 27953.285714285714}, {\"Date\": \"4/14/20\", \"Province_State\": \"New York\", \"New cases\": 7271, \"rolling_average\": 28987.714285714286}, {\"Date\": \"4/15/20\", \"Province_State\": \"New York\", \"New cases\": 11434, \"rolling_average\": 30616.0}, {\"Date\": \"4/16/20\", \"Province_State\": \"New York\", \"New cases\": 9237, \"rolling_average\": 19963.285714285714}, {\"Date\": \"4/17/20\", \"Province_State\": \"New York\", \"New cases\": 6906, \"rolling_average\": 8321.285714285714}, {\"Date\": \"4/18/20\", \"Province_State\": \"New York\", \"New cases\": 6877, \"rolling_average\": 8064.0}, {\"Date\": \"4/19/20\", \"Province_State\": \"New York\", \"New cases\": 5908, \"rolling_average\": 7764.142857142857}, {\"Date\": \"4/2/20\", \"Province_State\": \"New York\", \"New cases\": 0, \"rolling_average\": 6804.714285714285}, {\"Date\": \"4/20/20\", \"Province_State\": \"New York\", \"New cases\": 155910, \"rolling_average\": 28038.85714285714}, {\"Date\": \"4/21/20\", \"Province_State\": \"New York\", \"New cases\": 5103, \"rolling_average\": 27134.428571428572}, {\"Date\": \"4/22/20\", \"Province_State\": \"New York\", \"New cases\": 4703, \"rolling_average\": 26486.714285714286}, {\"Date\": \"4/23/20\", \"Province_State\": \"New York\", \"New cases\": 5238, \"rolling_average\": 26248.428571428572}, {\"Date\": \"4/24/20\", \"Province_State\": \"New York\", \"New cases\": 8130, \"rolling_average\": 26427.428571428572}, {\"Date\": \"4/25/20\", \"Province_State\": \"New York\", \"New cases\": 10553, \"rolling_average\": 27091.0}, {\"Date\": \"4/26/20\", \"Province_State\": \"New York\", \"New cases\": 5902, \"rolling_average\": 27934.14285714286}, {\"Date\": \"4/27/20\", \"Province_State\": \"New York\", \"New cases\": 3951, \"rolling_average\": 6225.714285714285}, {\"Date\": \"4/28/20\", \"Province_State\": \"New York\", \"New cases\": 3110, \"rolling_average\": 5941.0}, {\"Date\": \"4/29/20\", \"Province_State\": \"New York\", \"New cases\": 4585, \"rolling_average\": 5924.142857142857}, {\"Date\": \"4/3/20\", \"Province_State\": \"New York\", \"New cases\": 0, \"rolling_average\": 5175.857142857143}, {\"Date\": \"4/30/20\", \"Province_State\": \"New York\", \"New cases\": 201385, \"rolling_average\": 32783.71428571428}, {\"Date\": \"4/4/20\", \"Province_State\": \"New York\", \"New cases\": 0, \"rolling_average\": 31276.14285714286}, {\"Date\": \"4/5/20\", \"Province_State\": \"New York\", \"New cases\": 9327, \"rolling_average\": 31765.428571428572}, {\"Date\": \"4/6/20\", \"Province_State\": \"New York\", \"New cases\": 8655, \"rolling_average\": 32437.428571428572}, {\"Date\": \"4/7/20\", \"Province_State\": \"New York\", \"New cases\": 8060, \"rolling_average\": 33144.57142857143}, {\"Date\": \"4/8/20\", \"Province_State\": \"New York\", \"New cases\": 11186, \"rolling_average\": 34087.57142857143}, {\"Date\": \"4/9/20\", \"Province_State\": \"New York\", \"New cases\": 10718, \"rolling_average\": 35618.71428571428}, {\"Date\": \"5/1/20\", \"Province_State\": \"New York\", \"New cases\": 146535, \"rolling_average\": 27783.0}, {\"Date\": \"5/10/20\", \"Province_State\": \"New York\", \"New cases\": 27081, \"rolling_average\": 31651.714285714286}, {\"Date\": \"5/11/20\", \"Province_State\": \"New York\", \"New cases\": 1660, \"rolling_average\": 30556.428571428572}, {\"Date\": \"5/12/20\", \"Province_State\": \"New York\", \"New cases\": 1430, \"rolling_average\": 29524.285714285714}, {\"Date\": \"5/13/20\", \"Province_State\": \"New York\", \"New cases\": 2176, \"rolling_average\": 28683.714285714286}, {\"Date\": \"5/14/20\", \"Province_State\": \"New York\", \"New cases\": 2390, \"rolling_average\": 27427.14285714286}, {\"Date\": \"5/15/20\", \"Province_State\": \"New York\", \"New cases\": 2762, \"rolling_average\": 26290.571428571428}, {\"Date\": \"5/16/20\", \"Province_State\": \"New York\", \"New cases\": 2419, \"rolling_average\": 5702.571428571428}, {\"Date\": \"5/17/20\", \"Province_State\": \"New York\", \"New cases\": 1889, \"rolling_average\": 2103.714285714286}, {\"Date\": \"5/18/20\", \"Province_State\": \"New York\", \"New cases\": 1250, \"rolling_average\": 2045.142857142857}, {\"Date\": \"5/19/20\", \"Province_State\": \"New York\", \"New cases\": 1474, \"rolling_average\": 2051.4285714285716}, {\"Date\": \"5/2/20\", \"Province_State\": \"New York\", \"New cases\": 0, \"rolling_average\": 1740.5714285714287}, {\"Date\": \"5/20/20\", \"Province_State\": \"New York\", \"New cases\": 41393, \"rolling_average\": 7312.428571428572}, {\"Date\": \"5/21/20\", \"Province_State\": \"New York\", \"New cases\": 2088, \"rolling_average\": 7216.142857142857}, {\"Date\": \"5/22/20\", \"Province_State\": \"New York\", \"New cases\": 1696, \"rolling_average\": 7112.857142857143}, {\"Date\": \"5/23/20\", \"Province_State\": \"New York\", \"New cases\": 1772, \"rolling_average\": 7096.142857142857}, {\"Date\": \"5/24/20\", \"Province_State\": \"New York\", \"New cases\": 1589, \"rolling_average\": 7144.571428571428}, {\"Date\": \"5/25/20\", \"Province_State\": \"New York\", \"New cases\": 1249, \"rolling_average\": 7112.428571428572}, {\"Date\": \"5/26/20\", \"Province_State\": \"New York\", \"New cases\": 1072, \"rolling_average\": 7265.571428571428}, {\"Date\": \"5/27/20\", \"Province_State\": \"New York\", \"New cases\": 1129, \"rolling_average\": 1513.5714285714287}, {\"Date\": \"5/28/20\", \"Province_State\": \"New York\", \"New cases\": 1768, \"rolling_average\": 1467.857142857143}, {\"Date\": \"5/29/20\", \"Province_State\": \"New York\", \"New cases\": 1551, \"rolling_average\": 1447.142857142857}, {\"Date\": \"5/3/20\", \"Province_State\": \"New York\", \"New cases\": 0, \"rolling_average\": 1194.0}, {\"Date\": \"5/30/20\", \"Province_State\": \"New York\", \"New cases\": 53245, \"rolling_average\": 8573.42857142857}, {\"Date\": \"5/31/20\", \"Province_State\": \"New York\", \"New cases\": 1110, \"rolling_average\": 8553.57142857143}, {\"Date\": \"5/4/20\", \"Province_State\": \"New York\", \"New cases\": 0, \"rolling_average\": 8400.42857142857}, {\"Date\": \"5/5/20\", \"Province_State\": \"New York\", \"New cases\": 2239, \"rolling_average\": 8559.0}, {\"Date\": \"5/6/20\", \"Province_State\": \"New York\", \"New cases\": 2786, \"rolling_average\": 8704.42857142857}, {\"Date\": \"5/7/20\", \"Province_State\": \"New York\", \"New cases\": 3491, \"rolling_average\": 8981.57142857143}, {\"Date\": \"5/8/20\", \"Province_State\": \"New York\", \"New cases\": 2938, \"rolling_average\": 9401.285714285714}, {\"Date\": \"5/9/20\", \"Province_State\": \"New York\", \"New cases\": 2715, \"rolling_average\": 2182.714285714286}, {\"Date\": \"6/1/20\", \"Province_State\": \"New York\", \"New cases\": 38589, \"rolling_average\": 7536.857142857143}, {\"Date\": \"6/10/20\", \"Province_State\": \"New York\", \"New cases\": 8445, \"rolling_average\": 8743.285714285714}, {\"Date\": \"6/11/20\", \"Province_State\": \"New York\", \"New cases\": 736, \"rolling_average\": 8528.57142857143}, {\"Date\": \"6/12/20\", \"Province_State\": \"New York\", \"New cases\": 822, \"rolling_average\": 8248.0}, {\"Date\": \"6/13/20\", \"Province_State\": \"New York\", \"New cases\": 916, \"rolling_average\": 7880.142857142857}, {\"Date\": \"6/14/20\", \"Province_State\": \"New York\", \"New cases\": 694, \"rolling_average\": 7559.571428571428}, {\"Date\": \"6/15/20\", \"Province_State\": \"New York\", \"New cases\": 620, \"rolling_average\": 7260.285714285715}, {\"Date\": \"6/16/20\", \"Province_State\": \"New York\", \"New cases\": 631, \"rolling_average\": 1837.7142857142858}, {\"Date\": \"6/17/20\", \"Province_State\": \"New York\", \"New cases\": 567, \"rolling_average\": 712.2857142857143}, {\"Date\": \"6/18/20\", \"Province_State\": \"New York\", \"New cases\": 618, \"rolling_average\": 695.4285714285714}, {\"Date\": \"6/19/20\", \"Province_State\": \"New York\", \"New cases\": 796, \"rolling_average\": 691.7142857142857}, {\"Date\": \"6/2/20\", \"Province_State\": \"New York\", \"New cases\": 0, \"rolling_average\": 560.8571428571429}, {\"Date\": \"6/20/20\", \"Province_State\": \"New York\", \"New cases\": 14232, \"rolling_average\": 2494.8571428571427}, {\"Date\": \"6/21/20\", \"Province_State\": \"New York\", \"New cases\": 664, \"rolling_average\": 2501.1428571428573}, {\"Date\": \"6/22/20\", \"Province_State\": \"New York\", \"New cases\": 552, \"rolling_average\": 2489.8571428571427}, {\"Date\": \"6/23/20\", \"Province_State\": \"New York\", \"New cases\": 597, \"rolling_average\": 2494.1428571428573}, {\"Date\": \"6/24/20\", \"Province_State\": \"New York\", \"New cases\": 581, \"rolling_average\": 2488.8571428571427}, {\"Date\": \"6/25/20\", \"Province_State\": \"New York\", \"New cases\": 749, \"rolling_average\": 2482.1428571428573}, {\"Date\": \"6/26/20\", \"Province_State\": \"New York\", \"New cases\": 805, \"rolling_average\": 2597.1428571428573}, {\"Date\": \"6/27/20\", \"Province_State\": \"New York\", \"New cases\": 703, \"rolling_average\": 664.4285714285714}, {\"Date\": \"6/28/20\", \"Province_State\": \"New York\", \"New cases\": 616, \"rolling_average\": 657.5714285714286}, {\"Date\": \"6/29/20\", \"Province_State\": \"New York\", \"New cases\": 391, \"rolling_average\": 634.5714285714286}, {\"Date\": \"6/3/20\", \"Province_State\": \"New York\", \"New cases\": 0, \"rolling_average\": 549.2857142857143}, {\"Date\": \"6/30/20\", \"Province_State\": \"New York\", \"New cases\": 19369, \"rolling_average\": 3233.285714285714}, {\"Date\": \"6/4/20\", \"Province_State\": \"New York\", \"New cases\": 0, \"rolling_average\": 3126.285714285714}, {\"Date\": \"6/5/20\", \"Province_State\": \"New York\", \"New cases\": 1075, \"rolling_average\": 3164.8571428571427}, {\"Date\": \"6/6/20\", \"Province_State\": \"New York\", \"New cases\": 1108, \"rolling_average\": 3222.714285714286}, {\"Date\": \"6/7/20\", \"Province_State\": \"New York\", \"New cases\": 781, \"rolling_average\": 3246.285714285714}, {\"Date\": \"6/8/20\", \"Province_State\": \"New York\", \"New cases\": 702, \"rolling_average\": 3290.714285714286}, {\"Date\": \"6/9/20\", \"Province_State\": \"New York\", \"New cases\": 683, \"rolling_average\": 3388.285714285714}, {\"Date\": \"7/1/20\", \"Province_State\": \"New York\", \"New cases\": 14597, \"rolling_average\": 2706.5714285714284}, {\"Date\": \"7/10/20\", \"Province_State\": \"New York\", \"New cases\": 6220, \"rolling_average\": 3595.1428571428573}, {\"Date\": \"7/11/20\", \"Province_State\": \"New York\", \"New cases\": 730, \"rolling_average\": 3545.8571428571427}, {\"Date\": \"7/12/20\", \"Province_State\": \"New York\", \"New cases\": 677, \"rolling_average\": 3484.285714285714}, {\"Date\": \"7/13/20\", \"Province_State\": \"New York\", \"New cases\": 557, \"rolling_average\": 3452.285714285714}, {\"Date\": \"7/14/20\", \"Province_State\": \"New York\", \"New cases\": 912, \"rolling_average\": 3482.285714285714}, {\"Date\": \"7/15/20\", \"Province_State\": \"New York\", \"New cases\": 831, \"rolling_average\": 3503.4285714285716}, {\"Date\": \"7/16/20\", \"Province_State\": \"New York\", \"New cases\": 769, \"rolling_average\": 1528.0}, {\"Date\": \"7/17/20\", \"Province_State\": \"New York\", \"New cases\": 776, \"rolling_average\": 750.2857142857143}, {\"Date\": \"7/18/20\", \"Province_State\": \"New York\", \"New cases\": 754, \"rolling_average\": 753.7142857142857}, {\"Date\": \"7/19/20\", \"Province_State\": \"New York\", \"New cases\": 502, \"rolling_average\": 728.7142857142857}, {\"Date\": \"7/2/20\", \"Province_State\": \"New York\", \"New cases\": 0, \"rolling_average\": 649.1428571428571}, {\"Date\": \"7/20/20\", \"Province_State\": \"New York\", \"New cases\": 12372, \"rolling_average\": 2286.285714285714}, {\"Date\": \"7/21/20\", \"Province_State\": \"New York\", \"New cases\": 855, \"rolling_average\": 2289.714285714286}, {\"Date\": \"7/22/20\", \"Province_State\": \"New York\", \"New cases\": 705, \"rolling_average\": 2280.5714285714284}, {\"Date\": \"7/23/20\", \"Province_State\": \"New York\", \"New cases\": 811, \"rolling_average\": 2285.5714285714284}, {\"Date\": \"7/24/20\", \"Province_State\": \"New York\", \"New cases\": 753, \"rolling_average\": 2285.4285714285716}, {\"Date\": \"7/25/20\", \"Province_State\": \"New York\", \"New cases\": 750, \"rolling_average\": 2320.8571428571427}, {\"Date\": \"7/26/20\", \"Province_State\": \"New York\", \"New cases\": 536, \"rolling_average\": 2397.4285714285716}, {\"Date\": \"7/27/20\", \"Province_State\": \"New York\", \"New cases\": 608, \"rolling_average\": 716.8571428571429}, {\"Date\": \"7/28/20\", \"Province_State\": \"New York\", \"New cases\": 534, \"rolling_average\": 671.0}, {\"Date\": \"7/29/20\", \"Province_State\": \"New York\", \"New cases\": 715, \"rolling_average\": 672.4285714285714}, {\"Date\": \"7/3/20\", \"Province_State\": \"New York\", \"New cases\": 0, \"rolling_average\": 556.5714285714286}, {\"Date\": \"7/30/20\", \"Province_State\": \"New York\", \"New cases\": 18498, \"rolling_average\": 3091.5714285714284}, {\"Date\": \"7/31/20\", \"Province_State\": \"New York\", \"New cases\": 644, \"rolling_average\": 3076.4285714285716}, {\"Date\": \"7/4/20\", \"Province_State\": \"New York\", \"New cases\": 0, \"rolling_average\": 2999.8571428571427}, {\"Date\": \"7/5/20\", \"Province_State\": \"New York\", \"New cases\": 533, \"rolling_average\": 2989.1428571428573}, {\"Date\": \"7/6/20\", \"Province_State\": \"New York\", \"New cases\": 518, \"rolling_average\": 2986.8571428571427}, {\"Date\": \"7/7/20\", \"Province_State\": \"New York\", \"New cases\": 588, \"rolling_average\": 2968.714285714286}, {\"Date\": \"7/8/20\", \"Province_State\": \"New York\", \"New cases\": 692, \"rolling_average\": 3067.5714285714284}, {\"Date\": \"7/9/20\", \"Province_State\": \"New York\", \"New cases\": 584, \"rolling_average\": 508.42857142857144}, {\"Date\": \"8/1/20\", \"Province_State\": \"New York\", \"New cases\": 16254, \"rolling_average\": 2738.4285714285716}, {\"Date\": \"8/10/20\", \"Province_State\": \"New York\", \"New cases\": 5569, \"rolling_average\": 3534.0}, {\"Date\": \"8/11/20\", \"Province_State\": \"New York\", \"New cases\": 667, \"rolling_average\": 3553.1428571428573}, {\"Date\": \"8/12/20\", \"Province_State\": \"New York\", \"New cases\": 700, \"rolling_average\": 3579.1428571428573}, {\"Date\": \"8/13/20\", \"Province_State\": \"New York\", \"New cases\": 737, \"rolling_average\": 3600.4285714285716}, {\"Date\": \"8/14/20\", \"Province_State\": \"New York\", \"New cases\": 727, \"rolling_average\": 3605.4285714285716}, {\"Date\": \"8/2/20\", \"Province_State\": \"New York\", \"New cases\": 0, \"rolling_average\": 3522.0}, {\"Date\": \"8/3/20\", \"Province_State\": \"New York\", \"New cases\": 545, \"rolling_average\": 1277.857142857143}, {\"Date\": \"8/4/20\", \"Province_State\": \"New York\", \"New cases\": 746, \"rolling_average\": 588.8571428571429}, {\"Date\": \"8/5/20\", \"Province_State\": \"New York\", \"New cases\": 636, \"rolling_average\": 584.4285714285714}, {\"Date\": \"8/6/20\", \"Province_State\": \"New York\", \"New cases\": 703, \"rolling_average\": 584.8571428571429}, {\"Date\": \"8/7/20\", \"Province_State\": \"New York\", \"New cases\": 714, \"rolling_average\": 581.5714285714286}, {\"Date\": \"8/8/20\", \"Province_State\": \"New York\", \"New cases\": 703, \"rolling_average\": 578.1428571428571}, {\"Date\": \"8/9/20\", \"Province_State\": \"New York\", \"New cases\": 515, \"rolling_average\": 651.7142857142857}]}}, {\"mode\": \"vega-lite\"});\n",
              "</script>"
            ]
          },
          "metadata": {
            "tags": []
          },
          "execution_count": 69
        }
      ]
    },
    {
      "cell_type": "markdown",
      "metadata": {
        "id": "8Khn6uxisHTR",
        "colab_type": "text"
      },
      "source": [
        "# New Section"
      ]
    },
    {
      "cell_type": "code",
      "metadata": {
        "id": "9UPaPKhvzKwf",
        "colab_type": "code",
        "colab": {}
      },
      "source": [
        "fractalData_combo1"
      ],
      "execution_count": null,
      "outputs": []
    },
    {
      "cell_type": "code",
      "metadata": {
        "id": "cZ9DTw3TzKuC",
        "colab_type": "code",
        "colab": {}
      },
      "source": [
        "test = fractalData_combo1[fractalData_combo1['County Name'] == 'San Diego County']\n",
        "test.shape\n",
        "test"
      ],
      "execution_count": null,
      "outputs": []
    },
    {
      "cell_type": "code",
      "metadata": {
        "id": "xc5evv0k0Gr0",
        "colab_type": "code",
        "colab": {}
      },
      "source": [
        "cluster_perf_df.head()"
      ],
      "execution_count": null,
      "outputs": []
    },
    {
      "cell_type": "code",
      "metadata": {
        "id": "lpOFPpyg1AHi",
        "colab_type": "code",
        "colab": {}
      },
      "source": [
        "cluster_perf_df1.head() # min"
      ],
      "execution_count": null,
      "outputs": []
    },
    {
      "cell_type": "code",
      "metadata": {
        "id": "VkZMuHLd0_9z",
        "colab_type": "code",
        "colab": {}
      },
      "source": [
        "cluster_perf_df1_2.head() #max"
      ],
      "execution_count": null,
      "outputs": []
    },
    {
      "cell_type": "code",
      "metadata": {
        "id": "oSg9KDxbzsI5",
        "colab_type": "code",
        "colab": {}
      },
      "source": [
        "test1 = pd.merge(test,week_df, how='inner', on ='WeekNumber')\n",
        "test1.tail(10)"
      ],
      "execution_count": null,
      "outputs": []
    },
    {
      "cell_type": "code",
      "metadata": {
        "id": "7S_K17EWz7zv",
        "colab_type": "code",
        "colab": {}
      },
      "source": [
        "red = alt.value(\"#f54242\")\n",
        "base_orange.encode(y='Confirmed').properties(title='Total Confirmed') "
      ],
      "execution_count": null,
      "outputs": []
    },
    {
      "cell_type": "markdown",
      "metadata": {
        "id": "IPuS1iYXg4FL",
        "colab_type": "text"
      },
      "source": [
        "# Result Comparison"
      ]
    },
    {
      "cell_type": "code",
      "metadata": {
        "id": "82P6cH5Daz_w",
        "colab_type": "code",
        "colab": {}
      },
      "source": [
        "# considering for Final comparison\n",
        "combo1_cluster2"
      ],
      "execution_count": null,
      "outputs": []
    },
    {
      "cell_type": "code",
      "metadata": {
        "id": "tlYscjcBvw3T",
        "colab_type": "code",
        "colab": {}
      },
      "source": [
        "combo2_cluster1"
      ],
      "execution_count": null,
      "outputs": []
    },
    {
      "cell_type": "code",
      "metadata": {
        "id": "0f56eH5cjBEd",
        "colab_type": "code",
        "colab": {}
      },
      "source": [
        "combo2_cluster2"
      ],
      "execution_count": null,
      "outputs": []
    },
    {
      "cell_type": "code",
      "metadata": {
        "id": "Y8DnGSXBv_68",
        "colab_type": "code",
        "colab": {}
      },
      "source": [
        "combo3_cluster1"
      ],
      "execution_count": null,
      "outputs": []
    },
    {
      "cell_type": "code",
      "metadata": {
        "id": "q2GtHZFfjC2l",
        "colab_type": "code",
        "colab": {}
      },
      "source": [
        "combo3_cluster2"
      ],
      "execution_count": null,
      "outputs": []
    },
    {
      "cell_type": "markdown",
      "metadata": {
        "id": "SYvve_SKB91V",
        "colab_type": "text"
      },
      "source": [
        "## Data Exploration"
      ]
    },
    {
      "cell_type": "code",
      "metadata": {
        "id": "uY5c0VXkBfPJ",
        "colab_type": "code",
        "colab": {}
      },
      "source": [
        "import altair as alt"
      ],
      "execution_count": null,
      "outputs": []
    },
    {
      "cell_type": "code",
      "metadata": {
        "id": "6pfxOrAcxu2q",
        "colab_type": "code",
        "colab": {}
      },
      "source": [
        "week_df"
      ],
      "execution_count": null,
      "outputs": []
    },
    {
      "cell_type": "code",
      "metadata": {
        "id": "udGbO75Uw78L",
        "colab_type": "code",
        "colab": {}
      },
      "source": [
        "merged.dtypes"
      ],
      "execution_count": null,
      "outputs": []
    },
    {
      "cell_type": "code",
      "metadata": {
        "id": "0SHiuLcTw3j8",
        "colab_type": "code",
        "colab": {}
      },
      "source": [
        "LA_county = merged[merged['County Name'] == 'Los Angeles County']\n",
        "LA_county.shape"
      ],
      "execution_count": null,
      "outputs": []
    },
    {
      "cell_type": "code",
      "metadata": {
        "id": "ZxfdSLkPx-k1",
        "colab_type": "code",
        "colab": {}
      },
      "source": [
        "orange_county = merged[merged['County Name'] == 'San Diego County']\n"
      ],
      "execution_count": null,
      "outputs": []
    },
    {
      "cell_type": "code",
      "metadata": {
        "id": "L3_HLTInxTwf",
        "colab_type": "code",
        "colab": {}
      },
      "source": [
        "base_la = alt.Chart(LA_county).mark_bar().encode(\n",
        "    x='monthdate(Date):O',\n",
        ").properties(\n",
        "    width=500\n",
        ")\n",
        "\n",
        "base_orange = alt.Chart(orange_county).mark_bar().encode(\n",
        "    x='monthdate(Date):O',\n",
        ").properties(\n",
        "    width=500\n",
        ")"
      ],
      "execution_count": null,
      "outputs": []
    },
    {
      "cell_type": "code",
      "metadata": {
        "id": "5WtKAgZ7xZLN",
        "colab_type": "code",
        "colab": {}
      },
      "source": [
        "red = alt.value(\"#f54242\")\n",
        "base_orange.encode(y='Confirmed').properties(title='Total Confirmed') \n"
      ],
      "execution_count": null,
      "outputs": []
    },
    {
      "cell_type": "code",
      "metadata": {
        "id": "Q8YXkJ8yBfNC",
        "colab_type": "code",
        "colab": {}
      },
      "source": [
        "ca_df = full_grouped[full_grouped['Province_State'] == 'California']\n",
        "ny_df = full_grouped[full_grouped['Province_State'] == 'New York']\n",
        "tx_df = full_grouped[full_grouped['Province_State'] == 'Texas']"
      ],
      "execution_count": null,
      "outputs": []
    },
    {
      "cell_type": "code",
      "metadata": {
        "id": "ysUJCv1nBfKG",
        "colab_type": "code",
        "colab": {}
      },
      "source": [
        "base_ca = alt.Chart(ca_df).mark_bar().encode(\n",
        "    x='monthdate(Date):O',\n",
        ").properties(\n",
        "    width=500\n",
        ")\n",
        "\n",
        "base_ny = alt.Chart(ny_df).mark_bar().encode(\n",
        "    x='monthdate(Date):O',\n",
        ").properties(\n",
        "    width=500\n",
        ")\n",
        "\n",
        "base_tx = alt.Chart(tx_df).mark_bar().encode(\n",
        "    x='monthdate(Date):O',\n",
        ").properties(\n",
        "    width=500\n",
        ")"
      ],
      "execution_count": null,
      "outputs": []
    },
    {
      "cell_type": "code",
      "metadata": {
        "id": "kBylKZKDBe4v",
        "colab_type": "code",
        "colab": {}
      },
      "source": [
        "red = alt.value(\"#f54242\")\n",
        "base_ca.encode(y='Confirmed').properties(title='Total Confirmed') | base_ca.encode(y='Deaths',color = red).properties(title='Total deaths')\n"
      ],
      "execution_count": null,
      "outputs": []
    },
    {
      "cell_type": "code",
      "metadata": {
        "id": "X2vjXgMbDqYj",
        "colab_type": "code",
        "colab": {}
      },
      "source": [
        "base_ny.encode(y='Confirmed').properties(title='Total Confirmed') | base_ny.encode(y='Deaths',color = red).properties(title='Total deaths')\n"
      ],
      "execution_count": null,
      "outputs": []
    },
    {
      "cell_type": "code",
      "metadata": {
        "id": "Co-i287FDqWI",
        "colab_type": "code",
        "colab": {}
      },
      "source": [
        "base_tx.encode(y='Confirmed').properties(title='Total Confirmed') | base_tx.encode(y='Deaths',color = red).properties(title='Total deaths')\n"
      ],
      "execution_count": null,
      "outputs": []
    },
    {
      "cell_type": "code",
      "metadata": {
        "id": "hbjz-JPxDqTq",
        "colab_type": "code",
        "colab": {}
      },
      "source": [
        "base_ca.encode(y='New cases').properties(title='Total New Cases') | base_ca.encode(y='New deaths',color = red).properties(title='Total New deaths')\n"
      ],
      "execution_count": null,
      "outputs": []
    },
    {
      "cell_type": "code",
      "metadata": {
        "id": "fI5o-tYkDqRj",
        "colab_type": "code",
        "colab": {}
      },
      "source": [
        ""
      ],
      "execution_count": null,
      "outputs": []
    },
    {
      "cell_type": "code",
      "metadata": {
        "id": "X1gFKJAGDqLG",
        "colab_type": "code",
        "colab": {}
      },
      "source": [
        ""
      ],
      "execution_count": null,
      "outputs": []
    },
    {
      "cell_type": "markdown",
      "metadata": {
        "id": "KjRxEK71nUgO",
        "colab_type": "text"
      },
      "source": [
        "## Steps to approach the problem\n",
        "\n",
        "* Predict how 'New cases' count changed in states after mask mandate\n",
        "* check the type of **rule** - \n",
        "  1. Entire State\n",
        "  2. Entire Territory\n",
        "  3. Parts of State\n",
        "  4. Entire State (Employees Only)\n",
        "  5. Parts of State (Employees Only)\n",
        "  6. No\n",
        "  7. Masks strongly recommended, provides masks for free\n",
        "  8. Entire State (Some Employees)\n",
        "\n",
        "impacts the new cases count\n",
        "\n",
        "* Include/identify latent variables like 'Long weekend' date, 'Rally' date, 'BLM' protests happened date impact in new cases count \n",
        "* Identify datasource for people cooperation in following the rule\n",
        "* Political party ruling the state\n",
        "* Population \n",
        "* Epicenter city of each state\n",
        "* Type of mask (?)\n",
        "\n"
      ]
    },
    {
      "cell_type": "markdown",
      "metadata": {
        "id": "DZPVHGGB06ha",
        "colab_type": "text"
      },
      "source": [
        "## Reference\n",
        "\n",
        "* https://towardsdatascience.com/covid-19-data-processing-58aaa3663f6"
      ]
    }
  ]
}