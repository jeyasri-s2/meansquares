{
  "nbformat": 4,
  "nbformat_minor": 0,
  "metadata": {
    "colab": {
      "name": "6States_Cluster_Analysis_X3_X5.ipynb",
      "provenance": [],
      "collapsed_sections": [],
      "toc_visible": true,
      "mount_file_id": "1BzeYjAgUfUREEQHDtB5KYkCIOpep1IYI",
      "authorship_tag": "ABX9TyNAqhcyVKxQ/4s434xzlzo+",
      "include_colab_link": true
    },
    "kernelspec": {
      "name": "python3",
      "display_name": "Python 3"
    }
  },
  "cells": [
    {
      "cell_type": "markdown",
      "metadata": {
        "id": "view-in-github",
        "colab_type": "text"
      },
      "source": [
        "<a href=\"https://colab.research.google.com/github/aarsanjani/meansquares/blob/master/6States_Cluster_Analysis_X3_X5.ipynb\" target=\"_parent\"><img src=\"https://colab.research.google.com/assets/colab-badge.svg\" alt=\"Open In Colab\"/></a>"
      ]
    },
    {
      "cell_type": "markdown",
      "metadata": {
        "id": "tET5LvzQcS4c"
      },
      "source": [
        "# Cluster analysis for 6 states "
      ]
    },
    {
      "cell_type": "markdown",
      "metadata": {
        "id": "73-LhJM6cYLf"
      },
      "source": [
        "*   Demographics\n",
        "\n",
        "X3_cols = ['% people older than 60', 'Median income', '% African Americans',\n",
        "       '% Hispanic Americans', '% Male', 'Population density','New cases/1000 people']\n",
        "\n",
        "*   Hospitalization\n",
        "\n",
        "X5_cols = ['Hospital beds/1000 people', 'ICUs/1000 people','#days: decreasing ILI cases',\n",
        "           '% hospital bed utilization','% ICU utilization', 'Ventilator shortage','New cases/1000 people']"
      ]
    },
    {
      "cell_type": "markdown",
      "metadata": {
        "id": "ZvUcosaacYvD"
      },
      "source": [
        "## Imports"
      ]
    },
    {
      "cell_type": "code",
      "metadata": {
        "id": "WIxaqNMxcHfz",
        "outputId": "31ae6a4d-f210-4212-b55c-b514402f2c78",
        "colab": {
          "base_uri": "https://localhost:8080/",
          "height": 34
        }
      },
      "source": [
        "from google.colab import drive\n",
        "drive.mount('/content/drive')"
      ],
      "execution_count": null,
      "outputs": [
        {
          "output_type": "stream",
          "text": [
            "Drive already mounted at /content/drive; to attempt to forcibly remount, call drive.mount(\"/content/drive\", force_remount=True).\n"
          ],
          "name": "stdout"
        }
      ]
    },
    {
      "cell_type": "code",
      "metadata": {
        "id": "peAry56jc9PF"
      },
      "source": [
        "import pandas as pd\n",
        "import seaborn as sns\n",
        "import matplotlib.pyplot as plt\n",
        "import numpy as np"
      ],
      "execution_count": null,
      "outputs": []
    },
    {
      "cell_type": "markdown",
      "metadata": {
        "id": "rAzPei5IdnHF"
      },
      "source": [
        "## Load Maryland Data"
      ]
    },
    {
      "cell_type": "code",
      "metadata": {
        "id": "TfqEtf0udqTj",
        "outputId": "e29fc5b5-a164-46c3-e0db-a933ee64c71f",
        "colab": {
          "base_uri": "https://localhost:8080/",
          "height": 377
        }
      },
      "source": [
        "maryland_sd_inertia_6states = pd.read_csv('/content/drive/Shared drives/CMPE 295- Master Project/Covid19-data/Maryland_Inertia_Data/Maryland_inertia_clusterlabeled_Oct23.csv',low_memory=False)\n",
        "maryland_sd_inertia_6states.head()"
      ],
      "execution_count": null,
      "outputs": [
        {
          "output_type": "execute_result",
          "data": {
            "text/html": [
              "<div>\n",
              "<style scoped>\n",
              "    .dataframe tbody tr th:only-of-type {\n",
              "        vertical-align: middle;\n",
              "    }\n",
              "\n",
              "    .dataframe tbody tr th {\n",
              "        vertical-align: top;\n",
              "    }\n",
              "\n",
              "    .dataframe thead th {\n",
              "        text-align: right;\n",
              "    }\n",
              "</style>\n",
              "<table border=\"1\" class=\"dataframe\">\n",
              "  <thead>\n",
              "    <tr style=\"text-align: right;\">\n",
              "      <th></th>\n",
              "      <th>State</th>\n",
              "      <th>Postal Code</th>\n",
              "      <th>STFIPS</th>\n",
              "      <th>CTFIPS</th>\n",
              "      <th>CTNAME</th>\n",
              "      <th>Social distancing index</th>\n",
              "      <th>% staying home</th>\n",
              "      <th>Trips/person</th>\n",
              "      <th>% out-of-county trips</th>\n",
              "      <th>% out-of-state trips</th>\n",
              "      <th>Miles/person</th>\n",
              "      <th>Work trips/person</th>\n",
              "      <th>Non-work trips/person</th>\n",
              "      <th>New COVID cases</th>\n",
              "      <th>Population</th>\n",
              "      <th>% change in consumption</th>\n",
              "      <th>date</th>\n",
              "      <th>Transit mode share</th>\n",
              "      <th>% people older than 60</th>\n",
              "      <th>Median income</th>\n",
              "      <th>% African Americans</th>\n",
              "      <th>% Hispanic Americans</th>\n",
              "      <th>% Male</th>\n",
              "      <th>Population density</th>\n",
              "      <th>Employment density</th>\n",
              "      <th># hot spots/1000 people</th>\n",
              "      <th>Hospital beds/1000 people</th>\n",
              "      <th>ICUs/1000 people</th>\n",
              "      <th># contact tracing workers/1000 people</th>\n",
              "      <th>New cases/1000 people</th>\n",
              "      <th>Active cases/1000 people</th>\n",
              "      <th>#days: decreasing COVID cases</th>\n",
              "      <th>% hospital bed utilization</th>\n",
              "      <th>Testing capacity</th>\n",
              "      <th>Tests done/1000 people</th>\n",
              "      <th>% ICU utilization</th>\n",
              "      <th>Ventilator shortage</th>\n",
              "      <th>Imported COVID cases</th>\n",
              "      <th>COVID exposure/1000 people</th>\n",
              "      <th>#days: decreasing ILI cases</th>\n",
              "      <th>Unemployment claims/1000 people</th>\n",
              "      <th>Unemployment rate</th>\n",
              "      <th>% working from home</th>\n",
              "      <th>Cumulative inflation rate</th>\n",
              "      <th>COVID death rate</th>\n",
              "      <th>cluster</th>\n",
              "      <th>cluster_label</th>\n",
              "    </tr>\n",
              "  </thead>\n",
              "  <tbody>\n",
              "    <tr>\n",
              "      <th>0</th>\n",
              "      <td>New York</td>\n",
              "      <td>NY</td>\n",
              "      <td>36</td>\n",
              "      <td>36005</td>\n",
              "      <td>Bronx County</td>\n",
              "      <td>65</td>\n",
              "      <td>49</td>\n",
              "      <td>2.24</td>\n",
              "      <td>41.1</td>\n",
              "      <td>4.9</td>\n",
              "      <td>16.4</td>\n",
              "      <td>0.35</td>\n",
              "      <td>1.88</td>\n",
              "      <td>0</td>\n",
              "      <td>1432132</td>\n",
              "      <td>-32.5</td>\n",
              "      <td>2020-01-01</td>\n",
              "      <td>59.89</td>\n",
              "      <td>17</td>\n",
              "      <td>38085</td>\n",
              "      <td>29.3</td>\n",
              "      <td>55.9</td>\n",
              "      <td>47.08</td>\n",
              "      <td>25037</td>\n",
              "      <td>5122</td>\n",
              "      <td>65</td>\n",
              "      <td>2.74</td>\n",
              "      <td>0.22</td>\n",
              "      <td>0.029</td>\n",
              "      <td>0.0</td>\n",
              "      <td>0.0</td>\n",
              "      <td>0</td>\n",
              "      <td>63.5</td>\n",
              "      <td>0.0</td>\n",
              "      <td>0.0</td>\n",
              "      <td>0.0</td>\n",
              "      <td>0</td>\n",
              "      <td>0</td>\n",
              "      <td>0.0</td>\n",
              "      <td>0</td>\n",
              "      <td>2.3</td>\n",
              "      <td>3.8</td>\n",
              "      <td>4.2</td>\n",
              "      <td>0.7</td>\n",
              "      <td>0.0</td>\n",
              "      <td>1</td>\n",
              "      <td>cluster_1</td>\n",
              "    </tr>\n",
              "    <tr>\n",
              "      <th>1</th>\n",
              "      <td>New York</td>\n",
              "      <td>NY</td>\n",
              "      <td>36</td>\n",
              "      <td>36005</td>\n",
              "      <td>Bronx County</td>\n",
              "      <td>29</td>\n",
              "      <td>32</td>\n",
              "      <td>3.45</td>\n",
              "      <td>40.1</td>\n",
              "      <td>3.2</td>\n",
              "      <td>22.0</td>\n",
              "      <td>0.69</td>\n",
              "      <td>2.76</td>\n",
              "      <td>0</td>\n",
              "      <td>1432132</td>\n",
              "      <td>-0.9</td>\n",
              "      <td>2020-01-02</td>\n",
              "      <td>59.89</td>\n",
              "      <td>17</td>\n",
              "      <td>38085</td>\n",
              "      <td>29.3</td>\n",
              "      <td>55.9</td>\n",
              "      <td>47.08</td>\n",
              "      <td>25037</td>\n",
              "      <td>5122</td>\n",
              "      <td>65</td>\n",
              "      <td>2.74</td>\n",
              "      <td>0.22</td>\n",
              "      <td>0.029</td>\n",
              "      <td>0.0</td>\n",
              "      <td>0.0</td>\n",
              "      <td>0</td>\n",
              "      <td>63.5</td>\n",
              "      <td>0.0</td>\n",
              "      <td>0.0</td>\n",
              "      <td>0.0</td>\n",
              "      <td>0</td>\n",
              "      <td>0</td>\n",
              "      <td>0.0</td>\n",
              "      <td>0</td>\n",
              "      <td>2.3</td>\n",
              "      <td>3.8</td>\n",
              "      <td>4.2</td>\n",
              "      <td>0.7</td>\n",
              "      <td>0.0</td>\n",
              "      <td>1</td>\n",
              "      <td>cluster_1</td>\n",
              "    </tr>\n",
              "    <tr>\n",
              "      <th>2</th>\n",
              "      <td>New York</td>\n",
              "      <td>NY</td>\n",
              "      <td>36</td>\n",
              "      <td>36005</td>\n",
              "      <td>Bronx County</td>\n",
              "      <td>27</td>\n",
              "      <td>32</td>\n",
              "      <td>3.56</td>\n",
              "      <td>39.7</td>\n",
              "      <td>3.5</td>\n",
              "      <td>22.4</td>\n",
              "      <td>0.71</td>\n",
              "      <td>2.85</td>\n",
              "      <td>0</td>\n",
              "      <td>1432132</td>\n",
              "      <td>2.4</td>\n",
              "      <td>2020-01-03</td>\n",
              "      <td>59.89</td>\n",
              "      <td>17</td>\n",
              "      <td>38085</td>\n",
              "      <td>29.3</td>\n",
              "      <td>55.9</td>\n",
              "      <td>47.08</td>\n",
              "      <td>25037</td>\n",
              "      <td>5122</td>\n",
              "      <td>65</td>\n",
              "      <td>2.74</td>\n",
              "      <td>0.22</td>\n",
              "      <td>0.029</td>\n",
              "      <td>0.0</td>\n",
              "      <td>0.0</td>\n",
              "      <td>0</td>\n",
              "      <td>63.5</td>\n",
              "      <td>0.0</td>\n",
              "      <td>0.0</td>\n",
              "      <td>0.0</td>\n",
              "      <td>0</td>\n",
              "      <td>0</td>\n",
              "      <td>0.0</td>\n",
              "      <td>0</td>\n",
              "      <td>2.3</td>\n",
              "      <td>3.8</td>\n",
              "      <td>4.2</td>\n",
              "      <td>0.7</td>\n",
              "      <td>0.0</td>\n",
              "      <td>1</td>\n",
              "      <td>cluster_1</td>\n",
              "    </tr>\n",
              "    <tr>\n",
              "      <th>3</th>\n",
              "      <td>New York</td>\n",
              "      <td>NY</td>\n",
              "      <td>36</td>\n",
              "      <td>36005</td>\n",
              "      <td>Bronx County</td>\n",
              "      <td>49</td>\n",
              "      <td>41</td>\n",
              "      <td>2.98</td>\n",
              "      <td>39.4</td>\n",
              "      <td>4.2</td>\n",
              "      <td>19.9</td>\n",
              "      <td>0.42</td>\n",
              "      <td>2.56</td>\n",
              "      <td>0</td>\n",
              "      <td>1432132</td>\n",
              "      <td>-8.1</td>\n",
              "      <td>2020-01-04</td>\n",
              "      <td>59.89</td>\n",
              "      <td>17</td>\n",
              "      <td>38085</td>\n",
              "      <td>29.3</td>\n",
              "      <td>55.9</td>\n",
              "      <td>47.08</td>\n",
              "      <td>25037</td>\n",
              "      <td>5122</td>\n",
              "      <td>65</td>\n",
              "      <td>2.74</td>\n",
              "      <td>0.22</td>\n",
              "      <td>0.029</td>\n",
              "      <td>0.0</td>\n",
              "      <td>0.0</td>\n",
              "      <td>0</td>\n",
              "      <td>63.5</td>\n",
              "      <td>0.0</td>\n",
              "      <td>0.0</td>\n",
              "      <td>0.0</td>\n",
              "      <td>0</td>\n",
              "      <td>0</td>\n",
              "      <td>0.0</td>\n",
              "      <td>0</td>\n",
              "      <td>2.3</td>\n",
              "      <td>3.8</td>\n",
              "      <td>4.2</td>\n",
              "      <td>0.7</td>\n",
              "      <td>0.0</td>\n",
              "      <td>1</td>\n",
              "      <td>cluster_1</td>\n",
              "    </tr>\n",
              "    <tr>\n",
              "      <th>4</th>\n",
              "      <td>New York</td>\n",
              "      <td>NY</td>\n",
              "      <td>36</td>\n",
              "      <td>36005</td>\n",
              "      <td>Bronx County</td>\n",
              "      <td>60</td>\n",
              "      <td>48</td>\n",
              "      <td>2.53</td>\n",
              "      <td>39.4</td>\n",
              "      <td>4.0</td>\n",
              "      <td>19.7</td>\n",
              "      <td>0.36</td>\n",
              "      <td>2.17</td>\n",
              "      <td>0</td>\n",
              "      <td>1432132</td>\n",
              "      <td>-22.1</td>\n",
              "      <td>2020-01-05</td>\n",
              "      <td>59.89</td>\n",
              "      <td>17</td>\n",
              "      <td>38085</td>\n",
              "      <td>29.3</td>\n",
              "      <td>55.9</td>\n",
              "      <td>47.08</td>\n",
              "      <td>25037</td>\n",
              "      <td>5122</td>\n",
              "      <td>65</td>\n",
              "      <td>2.74</td>\n",
              "      <td>0.22</td>\n",
              "      <td>0.029</td>\n",
              "      <td>0.0</td>\n",
              "      <td>0.0</td>\n",
              "      <td>0</td>\n",
              "      <td>63.5</td>\n",
              "      <td>0.0</td>\n",
              "      <td>0.0</td>\n",
              "      <td>0.0</td>\n",
              "      <td>0</td>\n",
              "      <td>0</td>\n",
              "      <td>0.0</td>\n",
              "      <td>0</td>\n",
              "      <td>1.2</td>\n",
              "      <td>3.8</td>\n",
              "      <td>4.2</td>\n",
              "      <td>0.7</td>\n",
              "      <td>0.0</td>\n",
              "      <td>1</td>\n",
              "      <td>cluster_1</td>\n",
              "    </tr>\n",
              "  </tbody>\n",
              "</table>\n",
              "</div>"
            ],
            "text/plain": [
              "      State Postal Code  STFIPS  ...  COVID death rate cluster  cluster_label\n",
              "0  New York          NY      36  ...               0.0       1      cluster_1\n",
              "1  New York          NY      36  ...               0.0       1      cluster_1\n",
              "2  New York          NY      36  ...               0.0       1      cluster_1\n",
              "3  New York          NY      36  ...               0.0       1      cluster_1\n",
              "4  New York          NY      36  ...               0.0       1      cluster_1\n",
              "\n",
              "[5 rows x 47 columns]"
            ]
          },
          "metadata": {
            "tags": []
          },
          "execution_count": 3
        }
      ]
    },
    {
      "cell_type": "code",
      "metadata": {
        "id": "fqCxsVf-jRXZ"
      },
      "source": [
        "### X3 Labels\n",
        "X3_cols = ['% people older than 60', 'Median income', '% African Americans',\n",
        "       '% Hispanic Americans', '% Male', 'Population density','New cases/1000 people']"
      ],
      "execution_count": null,
      "outputs": []
    },
    {
      "cell_type": "code",
      "metadata": {
        "id": "lcVa4aYLjEIR",
        "outputId": "5018be4b-af32-4f39-a979-8b979cfa923a",
        "colab": {
          "base_uri": "https://localhost:8080/",
          "height": 204
        }
      },
      "source": [
        "maryland_sd_inertia_6states_X3 = maryland_sd_inertia_6states[X3_cols]\n",
        "maryland_sd_inertia_6states_X3.head()"
      ],
      "execution_count": null,
      "outputs": [
        {
          "output_type": "execute_result",
          "data": {
            "text/html": [
              "<div>\n",
              "<style scoped>\n",
              "    .dataframe tbody tr th:only-of-type {\n",
              "        vertical-align: middle;\n",
              "    }\n",
              "\n",
              "    .dataframe tbody tr th {\n",
              "        vertical-align: top;\n",
              "    }\n",
              "\n",
              "    .dataframe thead th {\n",
              "        text-align: right;\n",
              "    }\n",
              "</style>\n",
              "<table border=\"1\" class=\"dataframe\">\n",
              "  <thead>\n",
              "    <tr style=\"text-align: right;\">\n",
              "      <th></th>\n",
              "      <th>% people older than 60</th>\n",
              "      <th>Median income</th>\n",
              "      <th>% African Americans</th>\n",
              "      <th>% Hispanic Americans</th>\n",
              "      <th>% Male</th>\n",
              "      <th>Population density</th>\n",
              "      <th>New cases/1000 people</th>\n",
              "    </tr>\n",
              "  </thead>\n",
              "  <tbody>\n",
              "    <tr>\n",
              "      <th>0</th>\n",
              "      <td>17</td>\n",
              "      <td>38085</td>\n",
              "      <td>29.3</td>\n",
              "      <td>55.9</td>\n",
              "      <td>47.08</td>\n",
              "      <td>25037</td>\n",
              "      <td>0.0</td>\n",
              "    </tr>\n",
              "    <tr>\n",
              "      <th>1</th>\n",
              "      <td>17</td>\n",
              "      <td>38085</td>\n",
              "      <td>29.3</td>\n",
              "      <td>55.9</td>\n",
              "      <td>47.08</td>\n",
              "      <td>25037</td>\n",
              "      <td>0.0</td>\n",
              "    </tr>\n",
              "    <tr>\n",
              "      <th>2</th>\n",
              "      <td>17</td>\n",
              "      <td>38085</td>\n",
              "      <td>29.3</td>\n",
              "      <td>55.9</td>\n",
              "      <td>47.08</td>\n",
              "      <td>25037</td>\n",
              "      <td>0.0</td>\n",
              "    </tr>\n",
              "    <tr>\n",
              "      <th>3</th>\n",
              "      <td>17</td>\n",
              "      <td>38085</td>\n",
              "      <td>29.3</td>\n",
              "      <td>55.9</td>\n",
              "      <td>47.08</td>\n",
              "      <td>25037</td>\n",
              "      <td>0.0</td>\n",
              "    </tr>\n",
              "    <tr>\n",
              "      <th>4</th>\n",
              "      <td>17</td>\n",
              "      <td>38085</td>\n",
              "      <td>29.3</td>\n",
              "      <td>55.9</td>\n",
              "      <td>47.08</td>\n",
              "      <td>25037</td>\n",
              "      <td>0.0</td>\n",
              "    </tr>\n",
              "  </tbody>\n",
              "</table>\n",
              "</div>"
            ],
            "text/plain": [
              "   % people older than 60  ...  New cases/1000 people\n",
              "0                      17  ...                    0.0\n",
              "1                      17  ...                    0.0\n",
              "2                      17  ...                    0.0\n",
              "3                      17  ...                    0.0\n",
              "4                      17  ...                    0.0\n",
              "\n",
              "[5 rows x 7 columns]"
            ]
          },
          "metadata": {
            "tags": []
          },
          "execution_count": 5
        }
      ]
    },
    {
      "cell_type": "code",
      "metadata": {
        "id": "wVjmI7wpjykL"
      },
      "source": [
        "### X5 Labels\n",
        "X5_cols = ['Hospital beds/1000 people', 'ICUs/1000 people','#days: decreasing ILI cases',\n",
        "           '% hospital bed utilization','% ICU utilization', 'Ventilator shortage','New cases/1000 people']"
      ],
      "execution_count": null,
      "outputs": []
    },
    {
      "cell_type": "code",
      "metadata": {
        "id": "xfJAVoNej8SX",
        "outputId": "6147f177-9a9e-4375-928f-7d6668e73baa",
        "colab": {
          "base_uri": "https://localhost:8080/",
          "height": 221
        }
      },
      "source": [
        "maryland_sd_inertia_6states_X5 = maryland_sd_inertia_6states[X5_cols]\n",
        "maryland_sd_inertia_6states_X5.head()"
      ],
      "execution_count": null,
      "outputs": [
        {
          "output_type": "execute_result",
          "data": {
            "text/html": [
              "<div>\n",
              "<style scoped>\n",
              "    .dataframe tbody tr th:only-of-type {\n",
              "        vertical-align: middle;\n",
              "    }\n",
              "\n",
              "    .dataframe tbody tr th {\n",
              "        vertical-align: top;\n",
              "    }\n",
              "\n",
              "    .dataframe thead th {\n",
              "        text-align: right;\n",
              "    }\n",
              "</style>\n",
              "<table border=\"1\" class=\"dataframe\">\n",
              "  <thead>\n",
              "    <tr style=\"text-align: right;\">\n",
              "      <th></th>\n",
              "      <th>Hospital beds/1000 people</th>\n",
              "      <th>ICUs/1000 people</th>\n",
              "      <th>#days: decreasing ILI cases</th>\n",
              "      <th>% hospital bed utilization</th>\n",
              "      <th>% ICU utilization</th>\n",
              "      <th>Ventilator shortage</th>\n",
              "      <th>New cases/1000 people</th>\n",
              "    </tr>\n",
              "  </thead>\n",
              "  <tbody>\n",
              "    <tr>\n",
              "      <th>0</th>\n",
              "      <td>2.74</td>\n",
              "      <td>0.22</td>\n",
              "      <td>0</td>\n",
              "      <td>63.5</td>\n",
              "      <td>0.0</td>\n",
              "      <td>0</td>\n",
              "      <td>0.0</td>\n",
              "    </tr>\n",
              "    <tr>\n",
              "      <th>1</th>\n",
              "      <td>2.74</td>\n",
              "      <td>0.22</td>\n",
              "      <td>0</td>\n",
              "      <td>63.5</td>\n",
              "      <td>0.0</td>\n",
              "      <td>0</td>\n",
              "      <td>0.0</td>\n",
              "    </tr>\n",
              "    <tr>\n",
              "      <th>2</th>\n",
              "      <td>2.74</td>\n",
              "      <td>0.22</td>\n",
              "      <td>0</td>\n",
              "      <td>63.5</td>\n",
              "      <td>0.0</td>\n",
              "      <td>0</td>\n",
              "      <td>0.0</td>\n",
              "    </tr>\n",
              "    <tr>\n",
              "      <th>3</th>\n",
              "      <td>2.74</td>\n",
              "      <td>0.22</td>\n",
              "      <td>0</td>\n",
              "      <td>63.5</td>\n",
              "      <td>0.0</td>\n",
              "      <td>0</td>\n",
              "      <td>0.0</td>\n",
              "    </tr>\n",
              "    <tr>\n",
              "      <th>4</th>\n",
              "      <td>2.74</td>\n",
              "      <td>0.22</td>\n",
              "      <td>0</td>\n",
              "      <td>63.5</td>\n",
              "      <td>0.0</td>\n",
              "      <td>0</td>\n",
              "      <td>0.0</td>\n",
              "    </tr>\n",
              "  </tbody>\n",
              "</table>\n",
              "</div>"
            ],
            "text/plain": [
              "   Hospital beds/1000 people  ...  New cases/1000 people\n",
              "0                       2.74  ...                    0.0\n",
              "1                       2.74  ...                    0.0\n",
              "2                       2.74  ...                    0.0\n",
              "3                       2.74  ...                    0.0\n",
              "4                       2.74  ...                    0.0\n",
              "\n",
              "[5 rows x 7 columns]"
            ]
          },
          "metadata": {
            "tags": []
          },
          "execution_count": 7
        }
      ]
    },
    {
      "cell_type": "markdown",
      "metadata": {
        "id": "lkHzf9qEuGxJ"
      },
      "source": [
        "## Helper Method"
      ]
    },
    {
      "cell_type": "code",
      "metadata": {
        "id": "wahyvzGJuGAc"
      },
      "source": [
        "# Data handling\n",
        "import pandas as pd\n",
        "import numpy as np\n",
        "from sklearn.preprocessing import MinMaxScaler\n",
        "\n",
        "# Clustering\n",
        "from sklearn.cluster import KMeans, DBSCAN\n",
        "from sklearn import preprocessing\n",
        "from sklearn.metrics import silhouette_score\n",
        "\n",
        "# Dimensionality reduction\n",
        "from sklearn.manifold import TSNE\n",
        "from sklearn.decomposition import PCA\n",
        "\n",
        "# Visualization\n",
        "import seaborn as sns\n",
        "import plotly.express as px\n",
        "import matplotlib.pyplot as plt\n",
        "import mpl_toolkits.mplot3d.axes3d as p3\n",
        "from matplotlib import animation\n",
        "\n",
        "%matplotlib inline \n",
        "\n",
        "\n",
        "def plot_corr(df):\n",
        "    corr = df.corr()\n",
        "    mask = np.zeros_like(corr, dtype=np.bool)\n",
        "    mask[np.triu_indices_from(mask)] = True\n",
        "    f, ax = plt.subplots(figsize=(11, 9))\n",
        "    cmap = sns.diverging_palette(220, 10, as_cmap=True)\n",
        "    sns.heatmap(corr, mask=mask, cmap=cmap, vmax=.3, center=0,\n",
        "                square=True, linewidths=.5, cbar_kws={\"shrink\": .5})\n",
        "    \n",
        "def plot_tsne(tnse_data, kmeans_labels):\n",
        "    df_tsne = pd.DataFrame(tsne_data).rename({0: 'x', 1: 'y'}, axis=1)\n",
        "    df_tsne['z'] = kmeans_labels\n",
        "    sns.scatterplot(x=df_tsne.x, y=df_tsne.y, hue=df_tsne.z, palette=\"Set2\")\n",
        "    plt.show()\n",
        "    \n",
        "def prepare_pca(n_components, data, kmeans_labels):\n",
        "    names = ['x', 'y', 'z']\n",
        "    matrix = PCA(n_components=n_components).fit_transform(data)\n",
        "    df_matrix = pd.DataFrame(matrix)\n",
        "    df_matrix.rename({i:names[i] for i in range(n_components)}, axis=1, inplace=True)\n",
        "    df_matrix['labels'] = kmeans_labels\n",
        "    \n",
        "    return df_matrix\n",
        "\n",
        "def prepare_tsne(n_components, data, kmeans_labels):\n",
        "    names = ['x', 'y', 'z']\n",
        "    matrix = TSNE(n_components=n_components).fit_transform(data)\n",
        "    df_matrix = pd.DataFrame(matrix)\n",
        "    df_matrix.rename({i:names[i] for i in range(n_components)}, axis=1, inplace=True)\n",
        "    df_matrix['labels'] = kmeans_labels\n",
        "    \n",
        "    return df_matrix\n",
        "\n",
        "def plot_3d(df, name='labels'):\n",
        "    iris = px.data.iris()\n",
        "    fig = px.scatter_3d(df, x='x', y='y', z='z',\n",
        "                  color=name, opacity=0.5)\n",
        "    \n",
        "\n",
        "    fig.update_traces(marker=dict(size=3))\n",
        "    fig.show()\n",
        "    \n",
        "def plot_animation(df, label_column, name):\n",
        "    def update(num):\n",
        "        ax.view_init(200, num)\n",
        "\n",
        "    N=360\n",
        "    fig = plt.figure()\n",
        "    ax = fig.add_subplot(111, projection='3d')\n",
        "    ax.scatter(tsne_3d_df['x'], tsne_3d_df['y'], tsne_3d_df['z'], c=tsne_3d_df[label_column],\n",
        "               s=6, depthshade=True, cmap='Paired')\n",
        "    ax.set_zlim(-15, 25)\n",
        "    ax.set_xlim(-20, 20)\n",
        "    plt.tight_layout()\n",
        "    ani = animation.FuncAnimation(fig, update, N, blit=False, interval=50)\n",
        "    ani.save('{}.gif'.format(name), writer='imagemagick')\n",
        "    plt.show()"
      ],
      "execution_count": null,
      "outputs": []
    },
    {
      "cell_type": "markdown",
      "metadata": {
        "id": "dRUdvOctkQ7s"
      },
      "source": [
        "## Fractal Clustering Method"
      ]
    },
    {
      "cell_type": "code",
      "metadata": {
        "id": "t_a6c55dkUcu"
      },
      "source": [
        "def fractal_clustering(df, cluster_label,n_clusters):\n",
        "    df_filtered = df[df['cluster'] == cluster_label]\n",
        "    training_inputs = df_filtered[X_cols].values\n",
        "\n",
        "    X = training_inputs\n",
        "    normalized_vectors = preprocessing.normalize(training_inputs)\n",
        "    normalized_kmeans = KMeans(n_clusters=n_clusters).fit(normalized_vectors)\n",
        "    print('Cosine kmeans:{}'.format(silhouette_score(normalized_vectors,\n",
        "                                          normalized_kmeans.labels_,\n",
        "                                          metric='cosine')))\n",
        "    \n",
        "    pca_df = prepare_pca(2, X, normalized_kmeans.labels_)\n",
        "    sns.scatterplot(x=pca_df.x, y=pca_df.y, hue=pca_df.labels, \n",
        "                palette=\"Set2\")\n",
        "    \n",
        "    df_filtered['cluster'] = pca_df.labels.to_list()\n",
        "  \n",
        "    return df_filtered"
      ],
      "execution_count": null,
      "outputs": []
    },
    {
      "cell_type": "markdown",
      "metadata": {
        "id": "F83-g64PrJDP"
      },
      "source": [
        "## Rename Method"
      ]
    },
    {
      "cell_type": "code",
      "metadata": {
        "id": "MapGuX98rIWZ"
      },
      "source": [
        "def rename_cluster_label(x, prefix = 'cluster_'):\n",
        "  return prefix+str(x)"
      ],
      "execution_count": null,
      "outputs": []
    },
    {
      "cell_type": "markdown",
      "metadata": {
        "id": "TwroyJ5bsjOf"
      },
      "source": [
        "## Siloute Score"
      ]
    },
    {
      "cell_type": "code",
      "metadata": {
        "id": "Xv2yVF5dsvDY",
        "outputId": "c2251d07-b881-4a3a-89f6-9efa1fb8e777",
        "colab": {
          "base_uri": "https://localhost:8080/",
          "height": 34
        }
      },
      "source": [
        "training_inputs = maryland_sd_inertia_6states[X3_cols].values\n",
        "print(training_inputs.shape)"
      ],
      "execution_count": null,
      "outputs": [
        {
          "output_type": "stream",
          "text": [
            "(129545, 7)\n"
          ],
          "name": "stdout"
        }
      ]
    },
    {
      "cell_type": "code",
      "metadata": {
        "id": "-_njPkCbst8u",
        "outputId": "829eb9e1-a5fe-4c73-d917-1f3271f5617e",
        "colab": {
          "base_uri": "https://localhost:8080/",
          "height": 34
        }
      },
      "source": [
        "X = training_inputs\n",
        "print(X.shape)"
      ],
      "execution_count": null,
      "outputs": [
        {
          "output_type": "stream",
          "text": [
            "(129545, 7)\n"
          ],
          "name": "stdout"
        }
      ]
    },
    {
      "cell_type": "code",
      "metadata": {
        "id": "llxdnVStsliy",
        "outputId": "8809ad48-0ddd-42a0-db38-e4ac696ff06d",
        "colab": {
          "base_uri": "https://localhost:8080/",
          "height": 383
        }
      },
      "source": [
        "import seaborn as sns\n",
        "import matplotlib.pyplot as plt\n",
        "from sklearn.cluster import KMeans\n",
        "from sklearn import preprocessing\n",
        "from sklearn.metrics import silhouette_score\n",
        "\n",
        "\n",
        "normalized_vectors = preprocessing.normalize(X)\n",
        "scores = [KMeans(n_clusters=i+2).fit(normalized_vectors).inertia_  \n",
        "          for i in range(10)]\n",
        "sns.lineplot(np.arange(2, 12), scores)\n",
        "plt.xlabel('Number of clusters')\n",
        "plt.ylabel(\"Inertia\")\n",
        "plt.title(\"Inertia of Cosine k-Means versus number of clusters\")\n",
        "plt.savefig(\"intertia_cosine_kmeans.jpg\", dpi=300)"
      ],
      "execution_count": null,
      "outputs": [
        {
          "output_type": "stream",
          "text": [
            "/usr/local/lib/python3.6/dist-packages/seaborn/_decorators.py:43: FutureWarning:\n",
            "\n",
            "Pass the following variables as keyword args: x, y. From version 0.12, the only valid positional argument will be `data`, and passing other arguments without an explicit keyword will result in an error or misinterpretation.\n",
            "\n"
          ],
          "name": "stderr"
        },
        {
          "output_type": "display_data",
          "data": {
            "image/png": "[encoded data removed]",
            "text/plain": [
              "<Figure size 432x288 with 1 Axes>"
            ]
          },
          "metadata": {
            "tags": [],
            "needs_background": "light"
          }
        }
      ]
    },
    {
      "cell_type": "code",
      "metadata": {
        "id": "39Bs9YlXt_IG",
        "outputId": "936d320e-ccbd-4a9a-f5e0-906ce6815bbe",
        "colab": {
          "base_uri": "https://localhost:8080/",
          "height": 34
        }
      },
      "source": [
        "normalized_vectors = preprocessing.normalize(X)\n",
        "normalized_kmeans = KMeans(n_clusters=3).fit(normalized_vectors)\n",
        "\n",
        "print('Cosine kmeans:{}'.format(silhouette_score(normalized_vectors,\n",
        "                                          normalized_kmeans.labels_,\n",
        "                                          metric='cosine')))"
      ],
      "execution_count": null,
      "outputs": [
        {
          "output_type": "stream",
          "text": [
            "Cosine kmeans:0.9975420324605658\n"
          ],
          "name": "stdout"
        }
      ]
    },
    {
      "cell_type": "markdown",
      "metadata": {
        "id": "TUlulPvJrS4V"
      },
      "source": [
        "## First Cluster X3: Demographics"
      ]
    },
    {
      "cell_type": "code",
      "metadata": {
        "id": "jrKzpWTjrWP3",
        "outputId": "0d6acec9-43f1-4aba-a5cb-5f472f482356",
        "colab": {
          "base_uri": "https://localhost:8080/",
          "height": 296
        }
      },
      "source": [
        "pca_df = prepare_pca(2, X, normalized_kmeans.labels_)\n",
        "sns.scatterplot(x=pca_df.x, y=pca_df.y, hue=pca_df.labels, \n",
        "                palette=\"Set2\")"
      ],
      "execution_count": null,
      "outputs": [
        {
          "output_type": "execute_result",
          "data": {
            "text/plain": [
              "<matplotlib.axes._subplots.AxesSubplot at 0x7f4d5ab98a20>"
            ]
          },
          "metadata": {
            "tags": []
          },
          "execution_count": 15
        },
        {
          "output_type": "display_data",
          "data": {
            "image/png": "[encoded data removed]",
            "text/plain": [
              "<Figure size 432x288 with 1 Axes>"
            ]
          },
          "metadata": {
            "tags": [],
            "needs_background": "light"
          }
        }
      ]
    },
    {
      "cell_type": "code",
      "metadata": {
        "id": "VZx9aOuLuXVs",
        "outputId": "e36dd8d4-0c95-44f5-dfc2-5dd7359dd840",
        "colab": {
          "base_uri": "https://localhost:8080/",
          "height": 68
        }
      },
      "source": [
        "for label in pca_df.labels.unique():\n",
        "  print(\"label\", label, \"  shape\",pca_df[pca_df.labels == label].shape)"
      ],
      "execution_count": null,
      "outputs": [
        {
          "output_type": "stream",
          "text": [
            "label 1   shape (861, 3)\n",
            "label 2   shape (287, 3)\n",
            "label 0   shape (128397, 3)\n"
          ],
          "name": "stdout"
        }
      ]
    },
    {
      "cell_type": "code",
      "metadata": {
        "id": "oMVXqYGquZhl",
        "outputId": "83012d48-31b0-41cd-c7b4-ed42126ec81a",
        "colab": {
          "base_uri": "https://localhost:8080/",
          "height": 340
        }
      },
      "source": [
        "maryland_sd_inertia_6states_X3['cluster'] = pca_df.labels.to_list()\n",
        "maryland_sd_inertia_6states_X3.head()"
      ],
      "execution_count": null,
      "outputs": [
        {
          "output_type": "stream",
          "text": [
            "/usr/local/lib/python3.6/dist-packages/ipykernel_launcher.py:1: SettingWithCopyWarning:\n",
            "\n",
            "\n",
            "A value is trying to be set on a copy of a slice from a DataFrame.\n",
            "Try using .loc[row_indexer,col_indexer] = value instead\n",
            "\n",
            "See the caveats in the documentation: https://pandas.pydata.org/pandas-docs/stable/user_guide/indexing.html#returning-a-view-versus-a-copy\n",
            "\n"
          ],
          "name": "stderr"
        },
        {
          "output_type": "execute_result",
          "data": {
            "text/html": [
              "<div>\n",
              "<style scoped>\n",
              "    .dataframe tbody tr th:only-of-type {\n",
              "        vertical-align: middle;\n",
              "    }\n",
              "\n",
              "    .dataframe tbody tr th {\n",
              "        vertical-align: top;\n",
              "    }\n",
              "\n",
              "    .dataframe thead th {\n",
              "        text-align: right;\n",
              "    }\n",
              "</style>\n",
              "<table border=\"1\" class=\"dataframe\">\n",
              "  <thead>\n",
              "    <tr style=\"text-align: right;\">\n",
              "      <th></th>\n",
              "      <th>% people older than 60</th>\n",
              "      <th>Median income</th>\n",
              "      <th>% African Americans</th>\n",
              "      <th>% Hispanic Americans</th>\n",
              "      <th>% Male</th>\n",
              "      <th>Population density</th>\n",
              "      <th>New cases/1000 people</th>\n",
              "      <th>cluster</th>\n",
              "    </tr>\n",
              "  </thead>\n",
              "  <tbody>\n",
              "    <tr>\n",
              "      <th>0</th>\n",
              "      <td>17</td>\n",
              "      <td>38085</td>\n",
              "      <td>29.3</td>\n",
              "      <td>55.9</td>\n",
              "      <td>47.08</td>\n",
              "      <td>25037</td>\n",
              "      <td>0.0</td>\n",
              "      <td>1</td>\n",
              "    </tr>\n",
              "    <tr>\n",
              "      <th>1</th>\n",
              "      <td>17</td>\n",
              "      <td>38085</td>\n",
              "      <td>29.3</td>\n",
              "      <td>55.9</td>\n",
              "      <td>47.08</td>\n",
              "      <td>25037</td>\n",
              "      <td>0.0</td>\n",
              "      <td>1</td>\n",
              "    </tr>\n",
              "    <tr>\n",
              "      <th>2</th>\n",
              "      <td>17</td>\n",
              "      <td>38085</td>\n",
              "      <td>29.3</td>\n",
              "      <td>55.9</td>\n",
              "      <td>47.08</td>\n",
              "      <td>25037</td>\n",
              "      <td>0.0</td>\n",
              "      <td>1</td>\n",
              "    </tr>\n",
              "    <tr>\n",
              "      <th>3</th>\n",
              "      <td>17</td>\n",
              "      <td>38085</td>\n",
              "      <td>29.3</td>\n",
              "      <td>55.9</td>\n",
              "      <td>47.08</td>\n",
              "      <td>25037</td>\n",
              "      <td>0.0</td>\n",
              "      <td>1</td>\n",
              "    </tr>\n",
              "    <tr>\n",
              "      <th>4</th>\n",
              "      <td>17</td>\n",
              "      <td>38085</td>\n",
              "      <td>29.3</td>\n",
              "      <td>55.9</td>\n",
              "      <td>47.08</td>\n",
              "      <td>25037</td>\n",
              "      <td>0.0</td>\n",
              "      <td>1</td>\n",
              "    </tr>\n",
              "  </tbody>\n",
              "</table>\n",
              "</div>"
            ],
            "text/plain": [
              "   % people older than 60  Median income  ...  New cases/1000 people  cluster\n",
              "0                      17          38085  ...                    0.0        1\n",
              "1                      17          38085  ...                    0.0        1\n",
              "2                      17          38085  ...                    0.0        1\n",
              "3                      17          38085  ...                    0.0        1\n",
              "4                      17          38085  ...                    0.0        1\n",
              "\n",
              "[5 rows x 8 columns]"
            ]
          },
          "metadata": {
            "tags": []
          },
          "execution_count": 17
        }
      ]
    },
    {
      "cell_type": "markdown",
      "metadata": {
        "id": "R7xhHYHev122"
      },
      "source": [
        "### Fractal Clustering :: Cluster 0"
      ]
    },
    {
      "cell_type": "code",
      "metadata": {
        "id": "plJISG2Nv64s",
        "outputId": "1e9a8670-ec64-4eb0-fae8-23f4ce9e1036",
        "colab": {
          "base_uri": "https://localhost:8080/",
          "height": 34
        }
      },
      "source": [
        "cluster0 = maryland_sd_inertia_6states_X3[maryland_sd_inertia_6states_X3['cluster'] == 0]\n",
        "print(cluster0.shape)"
      ],
      "execution_count": null,
      "outputs": [
        {
          "output_type": "stream",
          "text": [
            "(128397, 8)\n"
          ],
          "name": "stdout"
        }
      ]
    },
    {
      "cell_type": "code",
      "metadata": {
        "id": "jElSR2l1wQn6"
      },
      "source": [
        "X_cols = X3_cols"
      ],
      "execution_count": null,
      "outputs": []
    },
    {
      "cell_type": "code",
      "metadata": {
        "id": "MsP_T7WrwGMO",
        "outputId": "bf1bda98-4aa2-4731-a6d1-ab5140ed4c4d",
        "colab": {
          "base_uri": "https://localhost:8080/",
          "height": 364
        }
      },
      "source": [
        "df_cluster0 = fractal_clustering(cluster0, cluster_label=0,n_clusters=3)\n",
        "print(df_cluster0.shape)\n",
        "\n",
        "for label in df_cluster0.cluster.unique():\n",
        "  print(\"label\", label, \"  shape\",df_cluster0[df_cluster0.cluster == label].shape)"
      ],
      "execution_count": null,
      "outputs": [
        {
          "output_type": "stream",
          "text": [
            "Cosine kmeans:0.9448842057750658\n",
            "(128397, 8)\n",
            "label 1   shape (1158, 8)\n",
            "label 2   shape (6036, 8)\n",
            "label 0   shape (121203, 8)\n"
          ],
          "name": "stdout"
        },
        {
          "output_type": "display_data",
          "data": {
            "image/png": "[encoded data removed]",
            "text/plain": [
              "<Figure size 432x288 with 1 Axes>"
            ]
          },
          "metadata": {
            "tags": [],
            "needs_background": "light"
          }
        }
      ]
    },
    {
      "cell_type": "markdown",
      "metadata": {
        "id": "pXOnaVdty1wa"
      },
      "source": [
        "### Fractal Clustering :: Cluster_0_0"
      ]
    },
    {
      "cell_type": "code",
      "metadata": {
        "id": "GS4JCHdWyzkD",
        "outputId": "803f72e9-73bc-4e67-af9a-6abaa97f45c9",
        "colab": {
          "base_uri": "https://localhost:8080/",
          "height": 500
        }
      },
      "source": [
        "df_cluster0_0 = fractal_clustering(df_cluster0, cluster_label=0,n_clusters=3)\n",
        "print(df_cluster0_0.shape)\n",
        "\n",
        "for label in df_cluster0_0.cluster.unique():\n",
        "  print(\"label\", label, \"  shape\",df_cluster0_0[df_cluster0_0.cluster == label].shape)"
      ],
      "execution_count": null,
      "outputs": [
        {
          "output_type": "stream",
          "text": [
            "Cosine kmeans:0.6086177200678384\n"
          ],
          "name": "stdout"
        },
        {
          "output_type": "stream",
          "text": [
            "/usr/local/lib/python3.6/dist-packages/ipykernel_launcher.py:16: SettingWithCopyWarning:\n",
            "\n",
            "\n",
            "A value is trying to be set on a copy of a slice from a DataFrame.\n",
            "Try using .loc[row_indexer,col_indexer] = value instead\n",
            "\n",
            "See the caveats in the documentation: https://pandas.pydata.org/pandas-docs/stable/user_guide/indexing.html#returning-a-view-versus-a-copy\n",
            "\n"
          ],
          "name": "stderr"
        },
        {
          "output_type": "stream",
          "text": [
            "(121203, 8)\n",
            "label 1   shape (10469, 8)\n",
            "label 2   shape (25849, 8)\n",
            "label 0   shape (84885, 8)\n"
          ],
          "name": "stdout"
        },
        {
          "output_type": "display_data",
          "data": {
            "image/png": "[encoded data removed]",
            "text/plain": [
              "<Figure size 432x288 with 1 Axes>"
            ]
          },
          "metadata": {
            "tags": [],
            "needs_background": "light"
          }
        }
      ]
    },
    {
      "cell_type": "markdown",
      "metadata": {
        "id": "i8g7RPnKz3DU"
      },
      "source": [
        "#### Fractal clustering :: Cluster 0_0_0"
      ]
    },
    {
      "cell_type": "code",
      "metadata": {
        "id": "6IL4zxZKz2Zl",
        "outputId": "af819316-569f-46ce-bb97-20c9e896a288",
        "colab": {
          "base_uri": "https://localhost:8080/",
          "height": 500
        }
      },
      "source": [
        "df_cluster0_0_0 = fractal_clustering(df_cluster0_0, cluster_label=0,n_clusters=3)\n",
        "print(df_cluster0_0_0.shape)\n",
        "\n",
        "for label in df_cluster0_0_0.cluster.unique():\n",
        "  print(\"label\", label, \"  shape\",df_cluster0_0_0[df_cluster0_0_0.cluster == label].shape)"
      ],
      "execution_count": null,
      "outputs": [
        {
          "output_type": "stream",
          "text": [
            "Cosine kmeans:0.6446326342229313\n"
          ],
          "name": "stdout"
        },
        {
          "output_type": "stream",
          "text": [
            "/usr/local/lib/python3.6/dist-packages/ipykernel_launcher.py:16: SettingWithCopyWarning:\n",
            "\n",
            "\n",
            "A value is trying to be set on a copy of a slice from a DataFrame.\n",
            "Try using .loc[row_indexer,col_indexer] = value instead\n",
            "\n",
            "See the caveats in the documentation: https://pandas.pydata.org/pandas-docs/stable/user_guide/indexing.html#returning-a-view-versus-a-copy\n",
            "\n"
          ],
          "name": "stderr"
        },
        {
          "output_type": "stream",
          "text": [
            "(84885, 8)\n",
            "label 0   shape (57389, 8)\n",
            "label 2   shape (23119, 8)\n",
            "label 1   shape (4377, 8)\n"
          ],
          "name": "stdout"
        },
        {
          "output_type": "display_data",
          "data": {
            "image/png": "[encoded data removed]",
            "text/plain": [
              "<Figure size 432x288 with 1 Axes>"
            ]
          },
          "metadata": {
            "tags": [],
            "needs_background": "light"
          }
        }
      ]
    },
    {
      "cell_type": "code",
      "metadata": {
        "id": "lIF_oacs0Djf",
        "outputId": "d08a41af-fde6-4fb3-c7c6-a2b20224910a",
        "colab": {
          "base_uri": "https://localhost:8080/",
          "height": 153
        }
      },
      "source": [
        "df_cluster0_0_0['cluster_label'] = df_cluster0_0_0['cluster'].apply(lambda x: rename_cluster_label(x,'cluster_0_0_0_'))"
      ],
      "execution_count": null,
      "outputs": [
        {
          "output_type": "stream",
          "text": [
            "/usr/local/lib/python3.6/dist-packages/ipykernel_launcher.py:1: SettingWithCopyWarning:\n",
            "\n",
            "\n",
            "A value is trying to be set on a copy of a slice from a DataFrame.\n",
            "Try using .loc[row_indexer,col_indexer] = value instead\n",
            "\n",
            "See the caveats in the documentation: https://pandas.pydata.org/pandas-docs/stable/user_guide/indexing.html#returning-a-view-versus-a-copy\n",
            "\n"
          ],
          "name": "stderr"
        }
      ]
    },
    {
      "cell_type": "code",
      "metadata": {
        "id": "mNthqIdy0FCk"
      },
      "source": [
        "#final_data = df_cluster0_0_0.copy()"
      ],
      "execution_count": null,
      "outputs": []
    },
    {
      "cell_type": "markdown",
      "metadata": {
        "id": "-mipD65_0ItB"
      },
      "source": [
        "#### Fractal clustering :: Cluster 0_0_1"
      ]
    },
    {
      "cell_type": "code",
      "metadata": {
        "id": "Zdutousm0JH3",
        "outputId": "62de7831-8e55-47c8-8a58-7725a41a9e63",
        "colab": {
          "base_uri": "https://localhost:8080/",
          "height": 500
        }
      },
      "source": [
        "df_cluster0_0_1 = fractal_clustering(df_cluster0_0, cluster_label=1,n_clusters=3)\n",
        "print(df_cluster0_0_1.shape)\n",
        "\n",
        "for label in df_cluster0_0_1.cluster.unique():\n",
        "  print(\"label\", label, \"  shape\",df_cluster0_0_1[df_cluster0_0_1.cluster == label].shape)"
      ],
      "execution_count": null,
      "outputs": [
        {
          "output_type": "stream",
          "text": [
            "Cosine kmeans:0.6820922811646352\n",
            "(10469, 8)\n",
            "label 0   shape (3101, 8)\n",
            "label 2   shape (3644, 8)\n",
            "label 1   shape (3724, 8)\n"
          ],
          "name": "stdout"
        },
        {
          "output_type": "stream",
          "text": [
            "/usr/local/lib/python3.6/dist-packages/ipykernel_launcher.py:16: SettingWithCopyWarning:\n",
            "\n",
            "\n",
            "A value is trying to be set on a copy of a slice from a DataFrame.\n",
            "Try using .loc[row_indexer,col_indexer] = value instead\n",
            "\n",
            "See the caveats in the documentation: https://pandas.pydata.org/pandas-docs/stable/user_guide/indexing.html#returning-a-view-versus-a-copy\n",
            "\n"
          ],
          "name": "stderr"
        },
        {
          "output_type": "display_data",
          "data": {
            "image/png": "[encoded data removed]",
            "text/plain": [
              "<Figure size 432x288 with 1 Axes>"
            ]
          },
          "metadata": {
            "tags": [],
            "needs_background": "light"
          }
        }
      ]
    },
    {
      "cell_type": "code",
      "metadata": {
        "id": "3PsP-f9U0O0w",
        "outputId": "13adf6bc-9e85-4cf9-b632-1e558ea1c7f4",
        "colab": {
          "base_uri": "https://localhost:8080/",
          "height": 170
        }
      },
      "source": [
        "df_cluster0_0_1['cluster_label'] = df_cluster0_0_1['cluster'].apply(lambda x: rename_cluster_label(x,'cluster_0_0_1_'))\n",
        "df_cluster0_0_1.shape"
      ],
      "execution_count": null,
      "outputs": [
        {
          "output_type": "stream",
          "text": [
            "/usr/local/lib/python3.6/dist-packages/ipykernel_launcher.py:1: SettingWithCopyWarning:\n",
            "\n",
            "\n",
            "A value is trying to be set on a copy of a slice from a DataFrame.\n",
            "Try using .loc[row_indexer,col_indexer] = value instead\n",
            "\n",
            "See the caveats in the documentation: https://pandas.pydata.org/pandas-docs/stable/user_guide/indexing.html#returning-a-view-versus-a-copy\n",
            "\n"
          ],
          "name": "stderr"
        },
        {
          "output_type": "execute_result",
          "data": {
            "text/plain": [
              "(10469, 9)"
            ]
          },
          "metadata": {
            "tags": []
          },
          "execution_count": 26
        }
      ]
    },
    {
      "cell_type": "code",
      "metadata": {
        "id": "QLU22Cse0QnO"
      },
      "source": [
        "#final_data.shape"
      ],
      "execution_count": null,
      "outputs": []
    },
    {
      "cell_type": "code",
      "metadata": {
        "id": "dA_Uhr9x0SS_"
      },
      "source": [
        "#final_data = pd.concat([final_data, df_cluster0_0_1])\n",
        "#final_data.shape"
      ],
      "execution_count": null,
      "outputs": []
    },
    {
      "cell_type": "markdown",
      "metadata": {
        "id": "kj5-blKT0Vv1"
      },
      "source": [
        "#### Fractal clustering :: Cluster 0_0_2"
      ]
    },
    {
      "cell_type": "code",
      "metadata": {
        "id": "VX7kPLIs0Wtw",
        "outputId": "9b2dc060-e840-4b52-ed80-78783e830fa0",
        "colab": {
          "base_uri": "https://localhost:8080/",
          "height": 500
        }
      },
      "source": [
        "df_cluster0_0_2 = fractal_clustering(df_cluster0_0, cluster_label=2,n_clusters=3)\n",
        "print(df_cluster0_0_2.shape)\n",
        "\n",
        "for label in df_cluster0_0_2.cluster.unique():\n",
        "  print(\"label\", label, \"  shape\",df_cluster0_0_2[df_cluster0_0_2.cluster == label].shape)"
      ],
      "execution_count": null,
      "outputs": [
        {
          "output_type": "stream",
          "text": [
            "Cosine kmeans:0.7215705148102015\n",
            "(25849, 8)\n",
            "label 1   shape (6990, 8)\n",
            "label 0   shape (18317, 8)\n",
            "label 2   shape (542, 8)\n"
          ],
          "name": "stdout"
        },
        {
          "output_type": "stream",
          "text": [
            "/usr/local/lib/python3.6/dist-packages/ipykernel_launcher.py:16: SettingWithCopyWarning:\n",
            "\n",
            "\n",
            "A value is trying to be set on a copy of a slice from a DataFrame.\n",
            "Try using .loc[row_indexer,col_indexer] = value instead\n",
            "\n",
            "See the caveats in the documentation: https://pandas.pydata.org/pandas-docs/stable/user_guide/indexing.html#returning-a-view-versus-a-copy\n",
            "\n"
          ],
          "name": "stderr"
        },
        {
          "output_type": "display_data",
          "data": {
            "image/png": "[encoded data removed]",
            "text/plain": [
              "<Figure size 432x288 with 1 Axes>"
            ]
          },
          "metadata": {
            "tags": [],
            "needs_background": "light"
          }
        }
      ]
    },
    {
      "cell_type": "code",
      "metadata": {
        "id": "7Fedv7mz0a7p",
        "outputId": "1376a1a8-1d08-4a7d-e4c9-c445e0abf737",
        "colab": {
          "base_uri": "https://localhost:8080/",
          "height": 170
        }
      },
      "source": [
        "df_cluster0_0_2['cluster_label'] = df_cluster0_0_2['cluster'].apply(lambda x: rename_cluster_label(x,'cluster_0_0_2_'))\n",
        "df_cluster0_0_2.shape"
      ],
      "execution_count": null,
      "outputs": [
        {
          "output_type": "stream",
          "text": [
            "/usr/local/lib/python3.6/dist-packages/ipykernel_launcher.py:1: SettingWithCopyWarning:\n",
            "\n",
            "\n",
            "A value is trying to be set on a copy of a slice from a DataFrame.\n",
            "Try using .loc[row_indexer,col_indexer] = value instead\n",
            "\n",
            "See the caveats in the documentation: https://pandas.pydata.org/pandas-docs/stable/user_guide/indexing.html#returning-a-view-versus-a-copy\n",
            "\n"
          ],
          "name": "stderr"
        },
        {
          "output_type": "execute_result",
          "data": {
            "text/plain": [
              "(25849, 9)"
            ]
          },
          "metadata": {
            "tags": []
          },
          "execution_count": 30
        }
      ]
    },
    {
      "cell_type": "code",
      "metadata": {
        "id": "TdgcCi0l0cwQ"
      },
      "source": [
        "#print(final_data.shape)\n",
        "#final_data = pd.concat([final_data, df_cluster0_0_2])\n",
        "#final_data.shape"
      ],
      "execution_count": null,
      "outputs": []
    },
    {
      "cell_type": "code",
      "metadata": {
        "id": "lVzVxvuh0eRp",
        "outputId": "a83e6742-a8e3-4ca2-c296-7ee2ab410658",
        "colab": {
          "base_uri": "https://localhost:8080/",
          "height": 204
        }
      },
      "source": [
        "df_cluster0_0.head()"
      ],
      "execution_count": null,
      "outputs": [
        {
          "output_type": "execute_result",
          "data": {
            "text/html": [
              "<div>\n",
              "<style scoped>\n",
              "    .dataframe tbody tr th:only-of-type {\n",
              "        vertical-align: middle;\n",
              "    }\n",
              "\n",
              "    .dataframe tbody tr th {\n",
              "        vertical-align: top;\n",
              "    }\n",
              "\n",
              "    .dataframe thead th {\n",
              "        text-align: right;\n",
              "    }\n",
              "</style>\n",
              "<table border=\"1\" class=\"dataframe\">\n",
              "  <thead>\n",
              "    <tr style=\"text-align: right;\">\n",
              "      <th></th>\n",
              "      <th>% people older than 60</th>\n",
              "      <th>Median income</th>\n",
              "      <th>% African Americans</th>\n",
              "      <th>% Hispanic Americans</th>\n",
              "      <th>% Male</th>\n",
              "      <th>Population density</th>\n",
              "      <th>New cases/1000 people</th>\n",
              "      <th>cluster</th>\n",
              "    </tr>\n",
              "  </thead>\n",
              "  <tbody>\n",
              "    <tr>\n",
              "      <th>1800</th>\n",
              "      <td>19</td>\n",
              "      <td>76716</td>\n",
              "      <td>9.8</td>\n",
              "      <td>20.0</td>\n",
              "      <td>50.1</td>\n",
              "      <td>451</td>\n",
              "      <td>0.2252</td>\n",
              "      <td>1</td>\n",
              "    </tr>\n",
              "    <tr>\n",
              "      <th>1801</th>\n",
              "      <td>19</td>\n",
              "      <td>76716</td>\n",
              "      <td>9.8</td>\n",
              "      <td>20.0</td>\n",
              "      <td>50.1</td>\n",
              "      <td>451</td>\n",
              "      <td>0.1274</td>\n",
              "      <td>1</td>\n",
              "    </tr>\n",
              "    <tr>\n",
              "      <th>1802</th>\n",
              "      <td>19</td>\n",
              "      <td>76716</td>\n",
              "      <td>9.8</td>\n",
              "      <td>20.0</td>\n",
              "      <td>50.1</td>\n",
              "      <td>451</td>\n",
              "      <td>0.1309</td>\n",
              "      <td>1</td>\n",
              "    </tr>\n",
              "    <tr>\n",
              "      <th>1803</th>\n",
              "      <td>19</td>\n",
              "      <td>76716</td>\n",
              "      <td>9.8</td>\n",
              "      <td>20.0</td>\n",
              "      <td>50.1</td>\n",
              "      <td>451</td>\n",
              "      <td>0.1632</td>\n",
              "      <td>1</td>\n",
              "    </tr>\n",
              "    <tr>\n",
              "      <th>1804</th>\n",
              "      <td>19</td>\n",
              "      <td>76716</td>\n",
              "      <td>9.8</td>\n",
              "      <td>20.0</td>\n",
              "      <td>50.1</td>\n",
              "      <td>451</td>\n",
              "      <td>0.1684</td>\n",
              "      <td>1</td>\n",
              "    </tr>\n",
              "  </tbody>\n",
              "</table>\n",
              "</div>"
            ],
            "text/plain": [
              "      % people older than 60  Median income  ...  New cases/1000 people  cluster\n",
              "1800                      19          76716  ...                 0.2252        1\n",
              "1801                      19          76716  ...                 0.1274        1\n",
              "1802                      19          76716  ...                 0.1309        1\n",
              "1803                      19          76716  ...                 0.1632        1\n",
              "1804                      19          76716  ...                 0.1684        1\n",
              "\n",
              "[5 rows x 8 columns]"
            ]
          },
          "metadata": {
            "tags": []
          },
          "execution_count": 32
        }
      ]
    },
    {
      "cell_type": "markdown",
      "metadata": {
        "id": "ny6z9t4E0iS-"
      },
      "source": [
        "### Fractal clustering :: Cluster_0_1"
      ]
    },
    {
      "cell_type": "code",
      "metadata": {
        "id": "GwmmfaWi0jW8",
        "outputId": "c1b16e3d-f603-4be3-a39f-d6f61dbd3723",
        "colab": {
          "base_uri": "https://localhost:8080/",
          "height": 500
        }
      },
      "source": [
        "df_cluster0_1 = fractal_clustering(df_cluster0, cluster_label=1,n_clusters=3)\n",
        "print(df_cluster0_1.shape)\n",
        "\n",
        "for label in df_cluster0_1.cluster.unique():\n",
        "  print(\"label\", label, \"  shape\",df_cluster0_1[df_cluster0_1.cluster == label].shape)"
      ],
      "execution_count": null,
      "outputs": [
        {
          "output_type": "stream",
          "text": [
            "/usr/local/lib/python3.6/dist-packages/ipykernel_launcher.py:16: SettingWithCopyWarning:\n",
            "\n",
            "\n",
            "A value is trying to be set on a copy of a slice from a DataFrame.\n",
            "Try using .loc[row_indexer,col_indexer] = value instead\n",
            "\n",
            "See the caveats in the documentation: https://pandas.pydata.org/pandas-docs/stable/user_guide/indexing.html#returning-a-view-versus-a-copy\n",
            "\n"
          ],
          "name": "stderr"
        },
        {
          "output_type": "stream",
          "text": [
            "Cosine kmeans:0.8227861728594084\n",
            "(1158, 8)\n",
            "label 0   shape (574, 8)\n",
            "label 2   shape (287, 8)\n",
            "label 1   shape (297, 8)\n"
          ],
          "name": "stdout"
        },
        {
          "output_type": "display_data",
          "data": {
            "image/png": "[encoded data removed]",
            "text/plain": [
              "<Figure size 432x288 with 1 Axes>"
            ]
          },
          "metadata": {
            "tags": [],
            "needs_background": "light"
          }
        }
      ]
    },
    {
      "cell_type": "markdown",
      "metadata": {
        "id": "gvg_e7CY1JdH"
      },
      "source": [
        "#### Fractal Clustering :: Cluster_0_1_0"
      ]
    },
    {
      "cell_type": "code",
      "metadata": {
        "id": "6Hw002wx1MI8",
        "outputId": "7849d057-bb31-44a2-b308-7046e876b7b7",
        "colab": {
          "base_uri": "https://localhost:8080/",
          "height": 500
        }
      },
      "source": [
        "df_cluster0_1_0 = fractal_clustering(df_cluster0_1, cluster_label=0,n_clusters=3)\n",
        "print(df_cluster0_1_0.shape)\n",
        "\n",
        "for label in df_cluster0_1_0.cluster.unique():\n",
        "  print(\"label\", label, \"  shape\",df_cluster0_1_0[df_cluster0_1_0.cluster == label].shape)"
      ],
      "execution_count": null,
      "outputs": [
        {
          "output_type": "stream",
          "text": [
            "Cosine kmeans:0.9393280607216881\n",
            "(574, 8)\n",
            "label 0   shape (258, 8)\n",
            "label 2   shape (29, 8)\n",
            "label 1   shape (287, 8)\n"
          ],
          "name": "stdout"
        },
        {
          "output_type": "stream",
          "text": [
            "/usr/local/lib/python3.6/dist-packages/ipykernel_launcher.py:16: SettingWithCopyWarning:\n",
            "\n",
            "\n",
            "A value is trying to be set on a copy of a slice from a DataFrame.\n",
            "Try using .loc[row_indexer,col_indexer] = value instead\n",
            "\n",
            "See the caveats in the documentation: https://pandas.pydata.org/pandas-docs/stable/user_guide/indexing.html#returning-a-view-versus-a-copy\n",
            "\n"
          ],
          "name": "stderr"
        },
        {
          "output_type": "display_data",
          "data": {
            "image/png": "[encoded data removed]",
            "text/plain": [
              "<Figure size 432x288 with 1 Axes>"
            ]
          },
          "metadata": {
            "tags": [],
            "needs_background": "light"
          }
        }
      ]
    },
    {
      "cell_type": "code",
      "metadata": {
        "id": "zX66IzjL1Qt9",
        "outputId": "3b89309a-6a6b-467f-cc7f-9849111b9a5d",
        "colab": {
          "base_uri": "https://localhost:8080/",
          "height": 170
        }
      },
      "source": [
        "df_cluster0_1_0['cluster_label'] = df_cluster0_1_0['cluster'].apply(lambda x: rename_cluster_label(x,'cluster_0_1_0_'))\n",
        "df_cluster0_1_0.shape"
      ],
      "execution_count": null,
      "outputs": [
        {
          "output_type": "stream",
          "text": [
            "/usr/local/lib/python3.6/dist-packages/ipykernel_launcher.py:1: SettingWithCopyWarning:\n",
            "\n",
            "\n",
            "A value is trying to be set on a copy of a slice from a DataFrame.\n",
            "Try using .loc[row_indexer,col_indexer] = value instead\n",
            "\n",
            "See the caveats in the documentation: https://pandas.pydata.org/pandas-docs/stable/user_guide/indexing.html#returning-a-view-versus-a-copy\n",
            "\n"
          ],
          "name": "stderr"
        },
        {
          "output_type": "execute_result",
          "data": {
            "text/plain": [
              "(574, 9)"
            ]
          },
          "metadata": {
            "tags": []
          },
          "execution_count": 35
        }
      ]
    },
    {
      "cell_type": "code",
      "metadata": {
        "id": "HdoQ2XW_1Sv5"
      },
      "source": [
        "#print(final_data.shape)\n",
        "#final_data = pd.concat([final_data, df_cluster0_1_0])\n",
        "#print(final_data.shape)"
      ],
      "execution_count": null,
      "outputs": []
    },
    {
      "cell_type": "markdown",
      "metadata": {
        "id": "yUmUKHfb1TVq"
      },
      "source": [
        "#### Fractal Clustering :: Cluster_0_1_1"
      ]
    },
    {
      "cell_type": "code",
      "metadata": {
        "id": "ktveicOE1Wsw",
        "outputId": "765d34e1-07b6-40cb-ffb3-79fd31165a97",
        "colab": {
          "base_uri": "https://localhost:8080/",
          "height": 511
        }
      },
      "source": [
        "df_cluster0_1_1 = fractal_clustering(df_cluster0_1, cluster_label=1,n_clusters=3)\n",
        "print(df_cluster0_1_1.shape)\n",
        "\n",
        "for label in df_cluster0_1_1.cluster.unique():\n",
        "  print(\"label\", label, \"  shape\",df_cluster0_1_1[df_cluster0_1_1.cluster == label].shape)"
      ],
      "execution_count": null,
      "outputs": [
        {
          "output_type": "stream",
          "text": [
            "Cosine kmeans:0.9614367878906332\n",
            "(297, 8)\n",
            "label 0   shape (252, 8)\n",
            "label 1   shape (31, 8)\n",
            "label 2   shape (14, 8)\n"
          ],
          "name": "stdout"
        },
        {
          "output_type": "stream",
          "text": [
            "/usr/local/lib/python3.6/dist-packages/ipykernel_launcher.py:16: SettingWithCopyWarning:\n",
            "\n",
            "\n",
            "A value is trying to be set on a copy of a slice from a DataFrame.\n",
            "Try using .loc[row_indexer,col_indexer] = value instead\n",
            "\n",
            "See the caveats in the documentation: https://pandas.pydata.org/pandas-docs/stable/user_guide/indexing.html#returning-a-view-versus-a-copy\n",
            "\n"
          ],
          "name": "stderr"
        },
        {
          "output_type": "display_data",
          "data": {
            "image/png": "[encoded data removed]",
            "text/plain": [
              "<Figure size 432x288 with 1 Axes>"
            ]
          },
          "metadata": {
            "tags": [],
            "needs_background": "light"
          }
        }
      ]
    },
    {
      "cell_type": "code",
      "metadata": {
        "id": "qJv-ZONYMBZI",
        "outputId": "ab685375-bb60-49a4-f236-655cfc6cc531",
        "colab": {
          "base_uri": "https://localhost:8080/",
          "height": 170
        }
      },
      "source": [
        "df_cluster0_1_1['cluster_label'] = df_cluster0_1_1['cluster'].apply(lambda x: rename_cluster_label(x,'cluster_0_1_1_'))\n",
        "df_cluster0_1_1.shape"
      ],
      "execution_count": null,
      "outputs": [
        {
          "output_type": "stream",
          "text": [
            "/usr/local/lib/python3.6/dist-packages/ipykernel_launcher.py:1: SettingWithCopyWarning:\n",
            "\n",
            "\n",
            "A value is trying to be set on a copy of a slice from a DataFrame.\n",
            "Try using .loc[row_indexer,col_indexer] = value instead\n",
            "\n",
            "See the caveats in the documentation: https://pandas.pydata.org/pandas-docs/stable/user_guide/indexing.html#returning-a-view-versus-a-copy\n",
            "\n"
          ],
          "name": "stderr"
        },
        {
          "output_type": "execute_result",
          "data": {
            "text/plain": [
              "(297, 9)"
            ]
          },
          "metadata": {
            "tags": []
          },
          "execution_count": 38
        }
      ]
    },
    {
      "cell_type": "code",
      "metadata": {
        "id": "Ax4K5ilsMEmg"
      },
      "source": [
        "#print(final_data.shape)\n",
        "#final_data = pd.concat([final_data, df_cluster0_1_1])\n",
        "#print(final_data.shape)"
      ],
      "execution_count": null,
      "outputs": []
    },
    {
      "cell_type": "markdown",
      "metadata": {
        "id": "cbTjO8B71XVB"
      },
      "source": [
        "#### Fractal Clustering :: Cluster_0_1_2"
      ]
    },
    {
      "cell_type": "code",
      "metadata": {
        "id": "Uv5d76H01aVK",
        "outputId": "e0cc220a-d1d0-4145-896f-74c971699173",
        "colab": {
          "base_uri": "https://localhost:8080/",
          "height": 511
        }
      },
      "source": [
        "df_cluster0_1_2 = fractal_clustering(df_cluster0_1, cluster_label=2,n_clusters=3)\n",
        "print(df_cluster0_1_2.shape)\n",
        "\n",
        "for label in df_cluster0_1_2.cluster.unique():\n",
        "  print(\"label\", label, \"  shape\",df_cluster0_1_2[df_cluster0_1_2.cluster == label].shape)"
      ],
      "execution_count": null,
      "outputs": [
        {
          "output_type": "stream",
          "text": [
            "Cosine kmeans:0.834446807819803\n",
            "(287, 8)\n",
            "label 2   shape (20, 8)\n",
            "label 1   shape (80, 8)\n",
            "label 0   shape (187, 8)\n"
          ],
          "name": "stdout"
        },
        {
          "output_type": "stream",
          "text": [
            "/usr/local/lib/python3.6/dist-packages/ipykernel_launcher.py:16: SettingWithCopyWarning:\n",
            "\n",
            "\n",
            "A value is trying to be set on a copy of a slice from a DataFrame.\n",
            "Try using .loc[row_indexer,col_indexer] = value instead\n",
            "\n",
            "See the caveats in the documentation: https://pandas.pydata.org/pandas-docs/stable/user_guide/indexing.html#returning-a-view-versus-a-copy\n",
            "\n"
          ],
          "name": "stderr"
        },
        {
          "output_type": "display_data",
          "data": {
            "image/png": "[encoded data removed]",
            "text/plain": [
              "<Figure size 432x288 with 1 Axes>"
            ]
          },
          "metadata": {
            "tags": [],
            "needs_background": "light"
          }
        }
      ]
    },
    {
      "cell_type": "code",
      "metadata": {
        "id": "xDt3S2idMOdv",
        "outputId": "4d5506b0-00fd-46de-941b-a8fc29e2378f",
        "colab": {
          "base_uri": "https://localhost:8080/",
          "height": 170
        }
      },
      "source": [
        "df_cluster0_1_2['cluster_label'] = df_cluster0_1_2['cluster'].apply(lambda x: rename_cluster_label(x,'cluster_0_1_2_'))\n",
        "df_cluster0_1_2.shape"
      ],
      "execution_count": null,
      "outputs": [
        {
          "output_type": "stream",
          "text": [
            "/usr/local/lib/python3.6/dist-packages/ipykernel_launcher.py:1: SettingWithCopyWarning:\n",
            "\n",
            "\n",
            "A value is trying to be set on a copy of a slice from a DataFrame.\n",
            "Try using .loc[row_indexer,col_indexer] = value instead\n",
            "\n",
            "See the caveats in the documentation: https://pandas.pydata.org/pandas-docs/stable/user_guide/indexing.html#returning-a-view-versus-a-copy\n",
            "\n"
          ],
          "name": "stderr"
        },
        {
          "output_type": "execute_result",
          "data": {
            "text/plain": [
              "(287, 9)"
            ]
          },
          "metadata": {
            "tags": []
          },
          "execution_count": 41
        }
      ]
    },
    {
      "cell_type": "code",
      "metadata": {
        "id": "kWrSRyeYMQxr"
      },
      "source": [
        "#print(final_data.shape)\n",
        "#final_data = pd.concat([final_data, df_cluster0_1_2])\n",
        "#print(final_data.shape)"
      ],
      "execution_count": null,
      "outputs": []
    },
    {
      "cell_type": "markdown",
      "metadata": {
        "id": "yZAxPe1WMiCp"
      },
      "source": [
        "### Fractal clustering :: Cluster_0_2"
      ]
    },
    {
      "cell_type": "code",
      "metadata": {
        "id": "IkVdR0X_MiCr",
        "outputId": "83912d65-974b-4697-a53f-3f5cbd90cb2d",
        "colab": {
          "base_uri": "https://localhost:8080/",
          "height": 500
        }
      },
      "source": [
        "df_cluster0_2 = fractal_clustering(df_cluster0, cluster_label=1,n_clusters=3)\n",
        "print(df_cluster0_2.shape)\n",
        "\n",
        "for label in df_cluster0_2.cluster.unique():\n",
        "  print(\"label\", label, \"  shape\",df_cluster0_2[df_cluster0_2.cluster == label].shape)"
      ],
      "execution_count": null,
      "outputs": [
        {
          "output_type": "stream",
          "text": [
            "Cosine kmeans:0.8227861728594084\n",
            "(1158, 8)\n",
            "label 1   shape (574, 8)\n",
            "label 2   shape (287, 8)\n",
            "label 0   shape (297, 8)\n"
          ],
          "name": "stdout"
        },
        {
          "output_type": "stream",
          "text": [
            "/usr/local/lib/python3.6/dist-packages/ipykernel_launcher.py:16: SettingWithCopyWarning:\n",
            "\n",
            "\n",
            "A value is trying to be set on a copy of a slice from a DataFrame.\n",
            "Try using .loc[row_indexer,col_indexer] = value instead\n",
            "\n",
            "See the caveats in the documentation: https://pandas.pydata.org/pandas-docs/stable/user_guide/indexing.html#returning-a-view-versus-a-copy\n",
            "\n"
          ],
          "name": "stderr"
        },
        {
          "output_type": "display_data",
          "data": {
            "image/png": "[encoded data removed]",
            "text/plain": [
              "<Figure size 432x288 with 1 Axes>"
            ]
          },
          "metadata": {
            "tags": [],
            "needs_background": "light"
          }
        }
      ]
    },
    {
      "cell_type": "markdown",
      "metadata": {
        "id": "Lx5iUYapMiCv"
      },
      "source": [
        "#### Fractal Clustering :: Cluster_0_2_0"
      ]
    },
    {
      "cell_type": "code",
      "metadata": {
        "id": "QLIcjMXtMiCw",
        "outputId": "cf353679-9fdc-4849-8cf1-7b323a29f784",
        "colab": {
          "base_uri": "https://localhost:8080/",
          "height": 511
        }
      },
      "source": [
        "df_cluster0_2_0 = fractal_clustering(df_cluster0_2, cluster_label=0,n_clusters=3)\n",
        "print(df_cluster0_2_0.shape)\n",
        "\n",
        "for label in df_cluster0_2_0.cluster.unique():\n",
        "  print(\"label\", label, \"  shape\",df_cluster0_2_0[df_cluster0_2_0.cluster == label].shape)"
      ],
      "execution_count": null,
      "outputs": [
        {
          "output_type": "stream",
          "text": [
            "Cosine kmeans:0.9614367878906332\n",
            "(297, 8)\n",
            "label 0   shape (252, 8)\n",
            "label 1   shape (31, 8)\n",
            "label 2   shape (14, 8)\n"
          ],
          "name": "stdout"
        },
        {
          "output_type": "stream",
          "text": [
            "/usr/local/lib/python3.6/dist-packages/ipykernel_launcher.py:16: SettingWithCopyWarning:\n",
            "\n",
            "\n",
            "A value is trying to be set on a copy of a slice from a DataFrame.\n",
            "Try using .loc[row_indexer,col_indexer] = value instead\n",
            "\n",
            "See the caveats in the documentation: https://pandas.pydata.org/pandas-docs/stable/user_guide/indexing.html#returning-a-view-versus-a-copy\n",
            "\n"
          ],
          "name": "stderr"
        },
        {
          "output_type": "display_data",
          "data": {
            "image/png": "[encoded data removed]",
            "text/plain": [
              "<Figure size 432x288 with 1 Axes>"
            ]
          },
          "metadata": {
            "tags": [],
            "needs_background": "light"
          }
        }
      ]
    },
    {
      "cell_type": "code",
      "metadata": {
        "id": "JH1ea99tMiCz",
        "outputId": "3770acfa-fa09-4c11-b9ba-4577e5c08af2",
        "colab": {
          "base_uri": "https://localhost:8080/",
          "height": 170
        }
      },
      "source": [
        "df_cluster0_2_0['cluster_label'] = df_cluster0_2_0['cluster'].apply(lambda x: rename_cluster_label(x,'cluster_0_2_0_'))\n",
        "df_cluster0_2_0.shape"
      ],
      "execution_count": null,
      "outputs": [
        {
          "output_type": "stream",
          "text": [
            "/usr/local/lib/python3.6/dist-packages/ipykernel_launcher.py:1: SettingWithCopyWarning:\n",
            "\n",
            "\n",
            "A value is trying to be set on a copy of a slice from a DataFrame.\n",
            "Try using .loc[row_indexer,col_indexer] = value instead\n",
            "\n",
            "See the caveats in the documentation: https://pandas.pydata.org/pandas-docs/stable/user_guide/indexing.html#returning-a-view-versus-a-copy\n",
            "\n"
          ],
          "name": "stderr"
        },
        {
          "output_type": "execute_result",
          "data": {
            "text/plain": [
              "(297, 9)"
            ]
          },
          "metadata": {
            "tags": []
          },
          "execution_count": 45
        }
      ]
    },
    {
      "cell_type": "code",
      "metadata": {
        "id": "LvK8oBGjMiC2"
      },
      "source": [
        "#print(final_data.shape)\n",
        "#final_data = pd.concat([final_data, df_cluster0_2_0])\n",
        "#print(final_data.shape)"
      ],
      "execution_count": null,
      "outputs": []
    },
    {
      "cell_type": "markdown",
      "metadata": {
        "id": "lbzy6ODzMiC4"
      },
      "source": [
        "#### Fractal Clustering :: Cluster_0_2_1"
      ]
    },
    {
      "cell_type": "code",
      "metadata": {
        "id": "pVibSvKuMiC5",
        "outputId": "b47fbc1a-7811-4030-e7c3-b4f6f93af38c",
        "colab": {
          "base_uri": "https://localhost:8080/",
          "height": 500
        }
      },
      "source": [
        "df_cluster0_2_1 = fractal_clustering(df_cluster0_2, cluster_label=1,n_clusters=3)\n",
        "print(df_cluster0_2_1.shape)\n",
        "\n",
        "for label in df_cluster0_2_1.cluster.unique():\n",
        "  print(\"label\", label, \"  shape\",df_cluster0_2_1[df_cluster0_2_1.cluster == label].shape)"
      ],
      "execution_count": null,
      "outputs": [
        {
          "output_type": "stream",
          "text": [
            "/usr/local/lib/python3.6/dist-packages/ipykernel_launcher.py:16: SettingWithCopyWarning:\n",
            "\n",
            "\n",
            "A value is trying to be set on a copy of a slice from a DataFrame.\n",
            "Try using .loc[row_indexer,col_indexer] = value instead\n",
            "\n",
            "See the caveats in the documentation: https://pandas.pydata.org/pandas-docs/stable/user_guide/indexing.html#returning-a-view-versus-a-copy\n",
            "\n"
          ],
          "name": "stderr"
        },
        {
          "output_type": "stream",
          "text": [
            "Cosine kmeans:0.9231347928789639\n",
            "(574, 8)\n",
            "label 1   shape (250, 8)\n",
            "label 2   shape (37, 8)\n",
            "label 0   shape (287, 8)\n"
          ],
          "name": "stdout"
        },
        {
          "output_type": "display_data",
          "data": {
            "image/png": "[encoded data removed]",
            "text/plain": [
              "<Figure size 432x288 with 1 Axes>"
            ]
          },
          "metadata": {
            "tags": [],
            "needs_background": "light"
          }
        }
      ]
    },
    {
      "cell_type": "code",
      "metadata": {
        "id": "SFl2VLaJMiC9",
        "outputId": "ff9fa930-08fe-483e-a04b-787f539c6f61",
        "colab": {
          "base_uri": "https://localhost:8080/",
          "height": 170
        }
      },
      "source": [
        "df_cluster0_2_1['cluster_label'] = df_cluster0_2_1['cluster'].apply(lambda x: rename_cluster_label(x,'cluster_0_2_1_'))\n",
        "df_cluster0_2_1.shape"
      ],
      "execution_count": null,
      "outputs": [
        {
          "output_type": "stream",
          "text": [
            "/usr/local/lib/python3.6/dist-packages/ipykernel_launcher.py:1: SettingWithCopyWarning:\n",
            "\n",
            "\n",
            "A value is trying to be set on a copy of a slice from a DataFrame.\n",
            "Try using .loc[row_indexer,col_indexer] = value instead\n",
            "\n",
            "See the caveats in the documentation: https://pandas.pydata.org/pandas-docs/stable/user_guide/indexing.html#returning-a-view-versus-a-copy\n",
            "\n"
          ],
          "name": "stderr"
        },
        {
          "output_type": "execute_result",
          "data": {
            "text/plain": [
              "(574, 9)"
            ]
          },
          "metadata": {
            "tags": []
          },
          "execution_count": 48
        }
      ]
    },
    {
      "cell_type": "code",
      "metadata": {
        "id": "gImnQ1tJMiDA"
      },
      "source": [
        "#print(final_data.shape)\n",
        "#final_data = pd.concat([final_data, df_cluster0_2_1])\n",
        "#print(final_data.shape)"
      ],
      "execution_count": null,
      "outputs": []
    },
    {
      "cell_type": "markdown",
      "metadata": {
        "id": "J-6MYw79MiDD"
      },
      "source": [
        "#### Fractal Clustering :: Cluster_0_2_2"
      ]
    },
    {
      "cell_type": "code",
      "metadata": {
        "id": "HQrXg-9bMiDE",
        "outputId": "edf0058a-aef6-4adc-8387-fe93fe0f6aae",
        "colab": {
          "base_uri": "https://localhost:8080/",
          "height": 511
        }
      },
      "source": [
        "df_cluster0_2_2 = fractal_clustering(df_cluster0_2, cluster_label=2,n_clusters=3)\n",
        "print(df_cluster0_2_2.shape)\n",
        "\n",
        "for label in df_cluster0_2_2.cluster.unique():\n",
        "  print(\"label\", label, \"  shape\",df_cluster0_2_2[df_cluster0_2_2.cluster == label].shape)"
      ],
      "execution_count": null,
      "outputs": [
        {
          "output_type": "stream",
          "text": [
            "/usr/local/lib/python3.6/dist-packages/ipykernel_launcher.py:16: SettingWithCopyWarning:\n",
            "\n",
            "\n",
            "A value is trying to be set on a copy of a slice from a DataFrame.\n",
            "Try using .loc[row_indexer,col_indexer] = value instead\n",
            "\n",
            "See the caveats in the documentation: https://pandas.pydata.org/pandas-docs/stable/user_guide/indexing.html#returning-a-view-versus-a-copy\n",
            "\n"
          ],
          "name": "stderr"
        },
        {
          "output_type": "stream",
          "text": [
            "Cosine kmeans:0.834446807819803\n",
            "(287, 8)\n",
            "label 2   shape (20, 8)\n",
            "label 1   shape (80, 8)\n",
            "label 0   shape (187, 8)\n"
          ],
          "name": "stdout"
        },
        {
          "output_type": "display_data",
          "data": {
            "image/png": "[encoded data removed]",
            "text/plain": [
              "<Figure size 432x288 with 1 Axes>"
            ]
          },
          "metadata": {
            "tags": [],
            "needs_background": "light"
          }
        }
      ]
    },
    {
      "cell_type": "code",
      "metadata": {
        "id": "-r4KVt10MiDG",
        "outputId": "51b9ddd3-37fc-4ffa-cf4e-1e66720d19e7",
        "colab": {
          "base_uri": "https://localhost:8080/",
          "height": 170
        }
      },
      "source": [
        "df_cluster0_2_2['cluster_label'] = df_cluster0_2_2['cluster'].apply(lambda x: rename_cluster_label(x,'cluster_0_2_2_'))\n",
        "df_cluster0_2_2.shape"
      ],
      "execution_count": null,
      "outputs": [
        {
          "output_type": "stream",
          "text": [
            "/usr/local/lib/python3.6/dist-packages/ipykernel_launcher.py:1: SettingWithCopyWarning:\n",
            "\n",
            "\n",
            "A value is trying to be set on a copy of a slice from a DataFrame.\n",
            "Try using .loc[row_indexer,col_indexer] = value instead\n",
            "\n",
            "See the caveats in the documentation: https://pandas.pydata.org/pandas-docs/stable/user_guide/indexing.html#returning-a-view-versus-a-copy\n",
            "\n"
          ],
          "name": "stderr"
        },
        {
          "output_type": "execute_result",
          "data": {
            "text/plain": [
              "(287, 9)"
            ]
          },
          "metadata": {
            "tags": []
          },
          "execution_count": 51
        }
      ]
    },
    {
      "cell_type": "code",
      "metadata": {
        "id": "XfOIcA-xMiDJ"
      },
      "source": [
        "#print(final_data.shape)\n",
        "#final_data = pd.concat([final_data, df_cluster0_2_2])\n",
        "#print(final_data.shape)"
      ],
      "execution_count": null,
      "outputs": []
    },
    {
      "cell_type": "markdown",
      "metadata": {
        "id": "jFjFtmoOOjQ8"
      },
      "source": [
        "## Siloute Score X5"
      ]
    },
    {
      "cell_type": "code",
      "metadata": {
        "id": "wDY2mpOdOjQ9",
        "outputId": "c0cfb94d-442e-403a-a81c-651506d1eccd",
        "colab": {
          "base_uri": "https://localhost:8080/",
          "height": 34
        }
      },
      "source": [
        "training_inputs = maryland_sd_inertia_6states[X5_cols].values\n",
        "print(training_inputs.shape)"
      ],
      "execution_count": null,
      "outputs": [
        {
          "output_type": "stream",
          "text": [
            "(129545, 7)\n"
          ],
          "name": "stdout"
        }
      ]
    },
    {
      "cell_type": "code",
      "metadata": {
        "id": "xFauH1o4OjQ_",
        "outputId": "9392e05c-2ada-4238-d041-01a3797df623",
        "colab": {
          "base_uri": "https://localhost:8080/",
          "height": 34
        }
      },
      "source": [
        "X = training_inputs\n",
        "print(X.shape)"
      ],
      "execution_count": null,
      "outputs": [
        {
          "output_type": "stream",
          "text": [
            "(129545, 7)\n"
          ],
          "name": "stdout"
        }
      ]
    },
    {
      "cell_type": "code",
      "metadata": {
        "id": "Wh5bppPSOjRE",
        "outputId": "3cde372d-3372-4ed3-d4ae-c41b96cb2b24",
        "colab": {
          "base_uri": "https://localhost:8080/",
          "height": 383
        }
      },
      "source": [
        "import seaborn as sns\n",
        "import matplotlib.pyplot as plt\n",
        "from sklearn.cluster import KMeans\n",
        "from sklearn import preprocessing\n",
        "from sklearn.metrics import silhouette_score\n",
        "\n",
        "\n",
        "normalized_vectors = preprocessing.normalize(X)\n",
        "scores = [KMeans(n_clusters=i+2).fit(normalized_vectors).inertia_  \n",
        "          for i in range(10)]\n",
        "sns.lineplot(np.arange(2, 12), scores)\n",
        "plt.xlabel('Number of clusters')\n",
        "plt.ylabel(\"Inertia\")\n",
        "plt.title(\"Inertia of Cosine k-Means versus number of clusters\")\n",
        "plt.savefig(\"intertia_cosine_kmeans.jpg\", dpi=300)"
      ],
      "execution_count": null,
      "outputs": [
        {
          "output_type": "stream",
          "text": [
            "/usr/local/lib/python3.6/dist-packages/seaborn/_decorators.py:43: FutureWarning:\n",
            "\n",
            "Pass the following variables as keyword args: x, y. From version 0.12, the only valid positional argument will be `data`, and passing other arguments without an explicit keyword will result in an error or misinterpretation.\n",
            "\n"
          ],
          "name": "stderr"
        },
        {
          "output_type": "display_data",
          "data": {
            "image/png": "[encoded data removed]",
            "text/plain": [
              "<Figure size 432x288 with 1 Axes>"
            ]
          },
          "metadata": {
            "tags": [],
            "needs_background": "light"
          }
        }
      ]
    },
    {
      "cell_type": "code",
      "metadata": {
        "id": "WMA3OHfPOjRH",
        "outputId": "a3a2b674-e485-48d1-fe33-5448bdc0d958",
        "colab": {
          "base_uri": "https://localhost:8080/",
          "height": 34
        }
      },
      "source": [
        "normalized_vectors = preprocessing.normalize(X)\n",
        "normalized_kmeans = KMeans(n_clusters=3).fit(normalized_vectors)\n",
        "\n",
        "print('Cosine kmeans:{}'.format(silhouette_score(normalized_vectors,\n",
        "                                          normalized_kmeans.labels_,\n",
        "                                          metric='cosine')))"
      ],
      "execution_count": null,
      "outputs": [
        {
          "output_type": "stream",
          "text": [
            "Cosine kmeans:0.7237090334169065\n"
          ],
          "name": "stdout"
        }
      ]
    },
    {
      "cell_type": "markdown",
      "metadata": {
        "id": "5UK3FL3LOQSA"
      },
      "source": [
        "## First Cluster X5: Hospital"
      ]
    },
    {
      "cell_type": "code",
      "metadata": {
        "id": "zvcwo6-GOQSC",
        "outputId": "806e4646-2819-444d-e292-8a55e3775a16",
        "colab": {
          "base_uri": "https://localhost:8080/",
          "height": 296
        }
      },
      "source": [
        "pca_df = prepare_pca(2, X, normalized_kmeans.labels_)\n",
        "sns.scatterplot(x=pca_df.x, y=pca_df.y, hue=pca_df.labels, \n",
        "                palette=\"Set2\")"
      ],
      "execution_count": null,
      "outputs": [
        {
          "output_type": "execute_result",
          "data": {
            "text/plain": [
              "<matplotlib.axes._subplots.AxesSubplot at 0x7f4d58aed4a8>"
            ]
          },
          "metadata": {
            "tags": []
          },
          "execution_count": 57
        },
        {
          "output_type": "display_data",
          "data": {
            "image/png": "[encoded data removed]",
            "text/plain": [
              "<Figure size 432x288 with 1 Axes>"
            ]
          },
          "metadata": {
            "tags": [],
            "needs_background": "light"
          }
        }
      ]
    },
    {
      "cell_type": "code",
      "metadata": {
        "id": "zgG5MJDxOQSH",
        "outputId": "07fddcfb-1ae9-4ee6-cbdd-56b1e7d5fe7d",
        "colab": {
          "base_uri": "https://localhost:8080/",
          "height": 68
        }
      },
      "source": [
        "for label in pca_df.labels.unique():\n",
        "  print(\"label\", label, \"  shape\",pca_df[pca_df.labels == label].shape)"
      ],
      "execution_count": null,
      "outputs": [
        {
          "output_type": "stream",
          "text": [
            "label 2   shape (40910, 3)\n",
            "label 1   shape (60841, 3)\n",
            "label 0   shape (27794, 3)\n"
          ],
          "name": "stdout"
        }
      ]
    },
    {
      "cell_type": "code",
      "metadata": {
        "id": "UmagS93_OQSK",
        "outputId": "38aaf8c7-952b-4d4e-9703-480e6cbcfed2",
        "colab": {
          "base_uri": "https://localhost:8080/",
          "height": 357
        }
      },
      "source": [
        "maryland_sd_inertia_6states_X5['cluster'] = pca_df.labels.to_list()\n",
        "maryland_sd_inertia_6states_X5.head()"
      ],
      "execution_count": null,
      "outputs": [
        {
          "output_type": "stream",
          "text": [
            "/usr/local/lib/python3.6/dist-packages/ipykernel_launcher.py:1: SettingWithCopyWarning:\n",
            "\n",
            "\n",
            "A value is trying to be set on a copy of a slice from a DataFrame.\n",
            "Try using .loc[row_indexer,col_indexer] = value instead\n",
            "\n",
            "See the caveats in the documentation: https://pandas.pydata.org/pandas-docs/stable/user_guide/indexing.html#returning-a-view-versus-a-copy\n",
            "\n"
          ],
          "name": "stderr"
        },
        {
          "output_type": "execute_result",
          "data": {
            "text/html": [
              "<div>\n",
              "<style scoped>\n",
              "    .dataframe tbody tr th:only-of-type {\n",
              "        vertical-align: middle;\n",
              "    }\n",
              "\n",
              "    .dataframe tbody tr th {\n",
              "        vertical-align: top;\n",
              "    }\n",
              "\n",
              "    .dataframe thead th {\n",
              "        text-align: right;\n",
              "    }\n",
              "</style>\n",
              "<table border=\"1\" class=\"dataframe\">\n",
              "  <thead>\n",
              "    <tr style=\"text-align: right;\">\n",
              "      <th></th>\n",
              "      <th>Hospital beds/1000 people</th>\n",
              "      <th>ICUs/1000 people</th>\n",
              "      <th>#days: decreasing ILI cases</th>\n",
              "      <th>% hospital bed utilization</th>\n",
              "      <th>% ICU utilization</th>\n",
              "      <th>Ventilator shortage</th>\n",
              "      <th>New cases/1000 people</th>\n",
              "      <th>cluster</th>\n",
              "    </tr>\n",
              "  </thead>\n",
              "  <tbody>\n",
              "    <tr>\n",
              "      <th>0</th>\n",
              "      <td>2.74</td>\n",
              "      <td>0.22</td>\n",
              "      <td>0</td>\n",
              "      <td>63.5</td>\n",
              "      <td>0.0</td>\n",
              "      <td>0</td>\n",
              "      <td>0.0</td>\n",
              "      <td>2</td>\n",
              "    </tr>\n",
              "    <tr>\n",
              "      <th>1</th>\n",
              "      <td>2.74</td>\n",
              "      <td>0.22</td>\n",
              "      <td>0</td>\n",
              "      <td>63.5</td>\n",
              "      <td>0.0</td>\n",
              "      <td>0</td>\n",
              "      <td>0.0</td>\n",
              "      <td>2</td>\n",
              "    </tr>\n",
              "    <tr>\n",
              "      <th>2</th>\n",
              "      <td>2.74</td>\n",
              "      <td>0.22</td>\n",
              "      <td>0</td>\n",
              "      <td>63.5</td>\n",
              "      <td>0.0</td>\n",
              "      <td>0</td>\n",
              "      <td>0.0</td>\n",
              "      <td>2</td>\n",
              "    </tr>\n",
              "    <tr>\n",
              "      <th>3</th>\n",
              "      <td>2.74</td>\n",
              "      <td>0.22</td>\n",
              "      <td>0</td>\n",
              "      <td>63.5</td>\n",
              "      <td>0.0</td>\n",
              "      <td>0</td>\n",
              "      <td>0.0</td>\n",
              "      <td>2</td>\n",
              "    </tr>\n",
              "    <tr>\n",
              "      <th>4</th>\n",
              "      <td>2.74</td>\n",
              "      <td>0.22</td>\n",
              "      <td>0</td>\n",
              "      <td>63.5</td>\n",
              "      <td>0.0</td>\n",
              "      <td>0</td>\n",
              "      <td>0.0</td>\n",
              "      <td>2</td>\n",
              "    </tr>\n",
              "  </tbody>\n",
              "</table>\n",
              "</div>"
            ],
            "text/plain": [
              "   Hospital beds/1000 people  ICUs/1000 people  ...  New cases/1000 people  cluster\n",
              "0                       2.74              0.22  ...                    0.0        2\n",
              "1                       2.74              0.22  ...                    0.0        2\n",
              "2                       2.74              0.22  ...                    0.0        2\n",
              "3                       2.74              0.22  ...                    0.0        2\n",
              "4                       2.74              0.22  ...                    0.0        2\n",
              "\n",
              "[5 rows x 8 columns]"
            ]
          },
          "metadata": {
            "tags": []
          },
          "execution_count": 59
        }
      ]
    },
    {
      "cell_type": "markdown",
      "metadata": {
        "id": "NK5No9EoOQSM"
      },
      "source": [
        "### Fractal Clustering :: Cluster 0"
      ]
    },
    {
      "cell_type": "code",
      "metadata": {
        "id": "mjL8jyS0OQSN",
        "outputId": "764cdf03-388f-4361-82e9-7c5d1d66d9b4",
        "colab": {
          "base_uri": "https://localhost:8080/",
          "height": 34
        }
      },
      "source": [
        "cluster0 = maryland_sd_inertia_6states_X5[maryland_sd_inertia_6states_X5['cluster'] == 0]\n",
        "print(cluster0.shape)"
      ],
      "execution_count": null,
      "outputs": [
        {
          "output_type": "stream",
          "text": [
            "(27794, 8)\n"
          ],
          "name": "stdout"
        }
      ]
    },
    {
      "cell_type": "code",
      "metadata": {
        "id": "5O4ivPngOQSP"
      },
      "source": [
        "X_cols = X5_cols"
      ],
      "execution_count": null,
      "outputs": []
    },
    {
      "cell_type": "code",
      "metadata": {
        "id": "PrfURfmROQSS",
        "outputId": "08eca93e-b661-4645-acd7-2f0c5d10a3dc",
        "colab": {
          "base_uri": "https://localhost:8080/",
          "height": 364
        }
      },
      "source": [
        "df_cluster0 = fractal_clustering(cluster0, cluster_label=0,n_clusters=3)\n",
        "print(df_cluster0.shape)\n",
        "\n",
        "for label in df_cluster0.cluster.unique():\n",
        "  print(\"label\", label, \"  shape\",df_cluster0[df_cluster0.cluster == label].shape)"
      ],
      "execution_count": null,
      "outputs": [
        {
          "output_type": "stream",
          "text": [
            "Cosine kmeans:0.6365914198539284\n",
            "(27794, 8)\n",
            "label 2   shape (9126, 8)\n",
            "label 0   shape (12584, 8)\n",
            "label 1   shape (6084, 8)\n"
          ],
          "name": "stdout"
        },
        {
          "output_type": "display_data",
          "data": {
            "image/png": "[encoded data removed]",
            "text/plain": [
              "<Figure size 432x288 with 1 Axes>"
            ]
          },
          "metadata": {
            "tags": [],
            "needs_background": "light"
          }
        }
      ]
    },
    {
      "cell_type": "markdown",
      "metadata": {
        "id": "4McvJXhTOQSW"
      },
      "source": [
        "### Fractal Clustering :: Cluster_0_0"
      ]
    },
    {
      "cell_type": "code",
      "metadata": {
        "id": "gOOR__bjOQSX",
        "outputId": "1ba6a0c3-c0c0-4980-917e-3d7c3c782348",
        "colab": {
          "base_uri": "https://localhost:8080/",
          "height": 500
        }
      },
      "source": [
        "df_cluster0_0 = fractal_clustering(df_cluster0, cluster_label=0,n_clusters=3)\n",
        "print(df_cluster0_0.shape)\n",
        "\n",
        "for label in df_cluster0_0.cluster.unique():\n",
        "  print(\"label\", label, \"  shape\",df_cluster0_0[df_cluster0_0.cluster == label].shape)"
      ],
      "execution_count": null,
      "outputs": [
        {
          "output_type": "stream",
          "text": [
            "Cosine kmeans:0.6007805332971343\n",
            "(12584, 8)\n",
            "label 2   shape (5426, 8)\n",
            "label 1   shape (5574, 8)\n",
            "label 0   shape (1584, 8)\n"
          ],
          "name": "stdout"
        },
        {
          "output_type": "stream",
          "text": [
            "/usr/local/lib/python3.6/dist-packages/ipykernel_launcher.py:16: SettingWithCopyWarning:\n",
            "\n",
            "\n",
            "A value is trying to be set on a copy of a slice from a DataFrame.\n",
            "Try using .loc[row_indexer,col_indexer] = value instead\n",
            "\n",
            "See the caveats in the documentation: https://pandas.pydata.org/pandas-docs/stable/user_guide/indexing.html#returning-a-view-versus-a-copy\n",
            "\n"
          ],
          "name": "stderr"
        },
        {
          "output_type": "display_data",
          "data": {
            "image/png": "[encoded data removed]",
            "text/plain": [
              "<Figure size 432x288 with 1 Axes>"
            ]
          },
          "metadata": {
            "tags": [],
            "needs_background": "light"
          }
        }
      ]
    },
    {
      "cell_type": "markdown",
      "metadata": {
        "id": "JWTXStHTOQSZ"
      },
      "source": [
        "#### Fractal clustering :: Cluster 0_0_0"
      ]
    },
    {
      "cell_type": "code",
      "metadata": {
        "id": "fgOhBK-YOQSa",
        "outputId": "12a162c1-d08d-4924-cd03-0f5b6138df73",
        "colab": {
          "base_uri": "https://localhost:8080/",
          "height": 500
        }
      },
      "source": [
        "df_cluster0_0_0 = fractal_clustering(df_cluster0_0, cluster_label=0,n_clusters=3)\n",
        "print(df_cluster0_0_0.shape)\n",
        "\n",
        "for label in df_cluster0_0_0.cluster.unique():\n",
        "  print(\"label\", label, \"  shape\",df_cluster0_0_0[df_cluster0_0_0.cluster == label].shape)"
      ],
      "execution_count": null,
      "outputs": [
        {
          "output_type": "stream",
          "text": [
            "Cosine kmeans:0.7861186283496753\n",
            "(1584, 8)\n",
            "label 2   shape (396, 8)\n",
            "label 0   shape (396, 8)\n",
            "label 1   shape (792, 8)\n"
          ],
          "name": "stdout"
        },
        {
          "output_type": "stream",
          "text": [
            "/usr/local/lib/python3.6/dist-packages/ipykernel_launcher.py:16: SettingWithCopyWarning:\n",
            "\n",
            "\n",
            "A value is trying to be set on a copy of a slice from a DataFrame.\n",
            "Try using .loc[row_indexer,col_indexer] = value instead\n",
            "\n",
            "See the caveats in the documentation: https://pandas.pydata.org/pandas-docs/stable/user_guide/indexing.html#returning-a-view-versus-a-copy\n",
            "\n"
          ],
          "name": "stderr"
        },
        {
          "output_type": "display_data",
          "data": {
            "image/png": "[encoded data removed]",
            "text/plain": [
              "<Figure size 432x288 with 1 Axes>"
            ]
          },
          "metadata": {
            "tags": [],
            "needs_background": "light"
          }
        }
      ]
    },
    {
      "cell_type": "code",
      "metadata": {
        "id": "0XLcgPIfOQSc",
        "outputId": "0d9d3bee-d07c-4510-bf95-d90bf8912931",
        "colab": {
          "base_uri": "https://localhost:8080/",
          "height": 153
        }
      },
      "source": [
        "df_cluster0_0_0['cluster_label'] = df_cluster0_0_0['cluster'].apply(lambda x: rename_cluster_label(x,'cluster_0_0_0_'))"
      ],
      "execution_count": null,
      "outputs": [
        {
          "output_type": "stream",
          "text": [
            "/usr/local/lib/python3.6/dist-packages/ipykernel_launcher.py:1: SettingWithCopyWarning:\n",
            "\n",
            "\n",
            "A value is trying to be set on a copy of a slice from a DataFrame.\n",
            "Try using .loc[row_indexer,col_indexer] = value instead\n",
            "\n",
            "See the caveats in the documentation: https://pandas.pydata.org/pandas-docs/stable/user_guide/indexing.html#returning-a-view-versus-a-copy\n",
            "\n"
          ],
          "name": "stderr"
        }
      ]
    },
    {
      "cell_type": "code",
      "metadata": {
        "id": "jXrKJX0HOQSf"
      },
      "source": [
        "#final_data = df_cluster0_0_0.copy()"
      ],
      "execution_count": null,
      "outputs": []
    },
    {
      "cell_type": "markdown",
      "metadata": {
        "id": "80oI4faAOQSh"
      },
      "source": [
        "#### Fractal clustering :: Cluster 0_0_1"
      ]
    },
    {
      "cell_type": "code",
      "metadata": {
        "id": "CtuGbMWKOQSh",
        "outputId": "fcf80de7-1c23-4f94-9f32-2573ff223e00",
        "colab": {
          "base_uri": "https://localhost:8080/",
          "height": 500
        }
      },
      "source": [
        "df_cluster0_0_1 = fractal_clustering(df_cluster0_0, cluster_label=1,n_clusters=3)\n",
        "print(df_cluster0_0_1.shape)\n",
        "\n",
        "for label in df_cluster0_0_1.cluster.unique():\n",
        "  print(\"label\", label, \"  shape\",df_cluster0_0_1[df_cluster0_0_1.cluster == label].shape)"
      ],
      "execution_count": null,
      "outputs": [
        {
          "output_type": "stream",
          "text": [
            "Cosine kmeans:0.5557200267225024\n",
            "(5574, 8)\n",
            "label 1   shape (1742, 8)\n",
            "label 0   shape (2127, 8)\n",
            "label 2   shape (1705, 8)\n"
          ],
          "name": "stdout"
        },
        {
          "output_type": "stream",
          "text": [
            "/usr/local/lib/python3.6/dist-packages/ipykernel_launcher.py:16: SettingWithCopyWarning:\n",
            "\n",
            "\n",
            "A value is trying to be set on a copy of a slice from a DataFrame.\n",
            "Try using .loc[row_indexer,col_indexer] = value instead\n",
            "\n",
            "See the caveats in the documentation: https://pandas.pydata.org/pandas-docs/stable/user_guide/indexing.html#returning-a-view-versus-a-copy\n",
            "\n"
          ],
          "name": "stderr"
        },
        {
          "output_type": "display_data",
          "data": {
            "image/png": "[encoded data removed]",
            "text/plain": [
              "<Figure size 432x288 with 1 Axes>"
            ]
          },
          "metadata": {
            "tags": [],
            "needs_background": "light"
          }
        }
      ]
    },
    {
      "cell_type": "code",
      "metadata": {
        "id": "VHXc5AcxOQSk",
        "outputId": "0408e389-6315-4eaf-9069-d6f01496bd90",
        "colab": {
          "base_uri": "https://localhost:8080/",
          "height": 170
        }
      },
      "source": [
        "df_cluster0_0_1['cluster_label'] = df_cluster0_0_1['cluster'].apply(lambda x: rename_cluster_label(x,'cluster_0_0_1_'))\n",
        "df_cluster0_0_1.shape"
      ],
      "execution_count": null,
      "outputs": [
        {
          "output_type": "stream",
          "text": [
            "/usr/local/lib/python3.6/dist-packages/ipykernel_launcher.py:1: SettingWithCopyWarning:\n",
            "\n",
            "\n",
            "A value is trying to be set on a copy of a slice from a DataFrame.\n",
            "Try using .loc[row_indexer,col_indexer] = value instead\n",
            "\n",
            "See the caveats in the documentation: https://pandas.pydata.org/pandas-docs/stable/user_guide/indexing.html#returning-a-view-versus-a-copy\n",
            "\n"
          ],
          "name": "stderr"
        },
        {
          "output_type": "execute_result",
          "data": {
            "text/plain": [
              "(5574, 9)"
            ]
          },
          "metadata": {
            "tags": []
          },
          "execution_count": 70
        }
      ]
    },
    {
      "cell_type": "code",
      "metadata": {
        "id": "4dvt71vSOQSm"
      },
      "source": [
        "#final_data.shape"
      ],
      "execution_count": null,
      "outputs": []
    },
    {
      "cell_type": "code",
      "metadata": {
        "id": "zw0aEgoOOQSo"
      },
      "source": [
        "#final_data = pd.concat([final_data, df_cluster0_0_1])\n",
        "#final_data.shape"
      ],
      "execution_count": null,
      "outputs": []
    },
    {
      "cell_type": "markdown",
      "metadata": {
        "id": "5J2XBtw7OQSq"
      },
      "source": [
        "#### Fractal clustering :: Cluster 0_0_2"
      ]
    },
    {
      "cell_type": "code",
      "metadata": {
        "id": "S0zn47VuOQSr",
        "outputId": "8226e037-5500-4de3-ab35-43d414bdbc01",
        "colab": {
          "base_uri": "https://localhost:8080/",
          "height": 500
        }
      },
      "source": [
        "df_cluster0_0_2 = fractal_clustering(df_cluster0_0, cluster_label=2,n_clusters=3)\n",
        "print(df_cluster0_0_2.shape)\n",
        "\n",
        "for label in df_cluster0_0_2.cluster.unique():\n",
        "  print(\"label\", label, \"  shape\",df_cluster0_0_2[df_cluster0_0_2.cluster == label].shape)"
      ],
      "execution_count": null,
      "outputs": [
        {
          "output_type": "stream",
          "text": [
            "Cosine kmeans:0.5413429789758902\n",
            "(5426, 8)\n",
            "label 0   shape (2612, 8)\n",
            "label 1   shape (2382, 8)\n",
            "label 2   shape (432, 8)\n"
          ],
          "name": "stdout"
        },
        {
          "output_type": "stream",
          "text": [
            "/usr/local/lib/python3.6/dist-packages/ipykernel_launcher.py:16: SettingWithCopyWarning:\n",
            "\n",
            "\n",
            "A value is trying to be set on a copy of a slice from a DataFrame.\n",
            "Try using .loc[row_indexer,col_indexer] = value instead\n",
            "\n",
            "See the caveats in the documentation: https://pandas.pydata.org/pandas-docs/stable/user_guide/indexing.html#returning-a-view-versus-a-copy\n",
            "\n"
          ],
          "name": "stderr"
        },
        {
          "output_type": "display_data",
          "data": {
            "image/png": "[encoded data removed]",
            "text/plain": [
              "<Figure size 432x288 with 1 Axes>"
            ]
          },
          "metadata": {
            "tags": [],
            "needs_background": "light"
          }
        }
      ]
    },
    {
      "cell_type": "code",
      "metadata": {
        "id": "5DiqqSYMOQSt",
        "outputId": "572a46ff-20a7-4691-b7b0-8be23d6e0b42",
        "colab": {
          "base_uri": "https://localhost:8080/",
          "height": 170
        }
      },
      "source": [
        "df_cluster0_0_2['cluster_label'] = df_cluster0_0_2['cluster'].apply(lambda x: rename_cluster_label(x,'cluster_0_0_2_'))\n",
        "df_cluster0_0_2.shape"
      ],
      "execution_count": null,
      "outputs": [
        {
          "output_type": "stream",
          "text": [
            "/usr/local/lib/python3.6/dist-packages/ipykernel_launcher.py:1: SettingWithCopyWarning:\n",
            "\n",
            "\n",
            "A value is trying to be set on a copy of a slice from a DataFrame.\n",
            "Try using .loc[row_indexer,col_indexer] = value instead\n",
            "\n",
            "See the caveats in the documentation: https://pandas.pydata.org/pandas-docs/stable/user_guide/indexing.html#returning-a-view-versus-a-copy\n",
            "\n"
          ],
          "name": "stderr"
        },
        {
          "output_type": "execute_result",
          "data": {
            "text/plain": [
              "(5426, 9)"
            ]
          },
          "metadata": {
            "tags": []
          },
          "execution_count": 74
        }
      ]
    },
    {
      "cell_type": "code",
      "metadata": {
        "id": "mBCroQhOOQSv"
      },
      "source": [
        "#print(final_data.shape)\n",
        "#final_data = pd.concat([final_data, df_cluster0_0_2])\n",
        "#final_data.shape"
      ],
      "execution_count": null,
      "outputs": []
    },
    {
      "cell_type": "code",
      "metadata": {
        "id": "ef6lt4vsOQSx",
        "outputId": "0d1aa2fe-6889-46d4-b723-32660381d448",
        "colab": {
          "base_uri": "https://localhost:8080/",
          "height": 221
        }
      },
      "source": [
        "df_cluster0_0.head()"
      ],
      "execution_count": null,
      "outputs": [
        {
          "output_type": "execute_result",
          "data": {
            "text/html": [
              "<div>\n",
              "<style scoped>\n",
              "    .dataframe tbody tr th:only-of-type {\n",
              "        vertical-align: middle;\n",
              "    }\n",
              "\n",
              "    .dataframe tbody tr th {\n",
              "        vertical-align: top;\n",
              "    }\n",
              "\n",
              "    .dataframe thead th {\n",
              "        text-align: right;\n",
              "    }\n",
              "</style>\n",
              "<table border=\"1\" class=\"dataframe\">\n",
              "  <thead>\n",
              "    <tr style=\"text-align: right;\">\n",
              "      <th></th>\n",
              "      <th>Hospital beds/1000 people</th>\n",
              "      <th>ICUs/1000 people</th>\n",
              "      <th>#days: decreasing ILI cases</th>\n",
              "      <th>% hospital bed utilization</th>\n",
              "      <th>% ICU utilization</th>\n",
              "      <th>Ventilator shortage</th>\n",
              "      <th>New cases/1000 people</th>\n",
              "      <th>cluster</th>\n",
              "    </tr>\n",
              "  </thead>\n",
              "  <tbody>\n",
              "    <tr>\n",
              "      <th>214</th>\n",
              "      <td>2.74</td>\n",
              "      <td>0.22</td>\n",
              "      <td>133</td>\n",
              "      <td>64.446575</td>\n",
              "      <td>3.32</td>\n",
              "      <td>105</td>\n",
              "      <td>0.0123</td>\n",
              "      <td>2</td>\n",
              "    </tr>\n",
              "    <tr>\n",
              "      <th>215</th>\n",
              "      <td>2.74</td>\n",
              "      <td>0.22</td>\n",
              "      <td>133</td>\n",
              "      <td>64.409177</td>\n",
              "      <td>3.16</td>\n",
              "      <td>101</td>\n",
              "      <td>0.0000</td>\n",
              "      <td>2</td>\n",
              "    </tr>\n",
              "    <tr>\n",
              "      <th>216</th>\n",
              "      <td>2.74</td>\n",
              "      <td>0.22</td>\n",
              "      <td>140</td>\n",
              "      <td>64.372913</td>\n",
              "      <td>3.23</td>\n",
              "      <td>97</td>\n",
              "      <td>0.0000</td>\n",
              "      <td>2</td>\n",
              "    </tr>\n",
              "    <tr>\n",
              "      <th>217</th>\n",
              "      <td>2.74</td>\n",
              "      <td>0.22</td>\n",
              "      <td>140</td>\n",
              "      <td>64.337901</td>\n",
              "      <td>3.12</td>\n",
              "      <td>93</td>\n",
              "      <td>0.0000</td>\n",
              "      <td>2</td>\n",
              "    </tr>\n",
              "    <tr>\n",
              "      <th>218</th>\n",
              "      <td>2.74</td>\n",
              "      <td>0.22</td>\n",
              "      <td>140</td>\n",
              "      <td>64.304249</td>\n",
              "      <td>3.07</td>\n",
              "      <td>89</td>\n",
              "      <td>0.0000</td>\n",
              "      <td>2</td>\n",
              "    </tr>\n",
              "  </tbody>\n",
              "</table>\n",
              "</div>"
            ],
            "text/plain": [
              "     Hospital beds/1000 people  ...  cluster\n",
              "214                       2.74  ...        2\n",
              "215                       2.74  ...        2\n",
              "216                       2.74  ...        2\n",
              "217                       2.74  ...        2\n",
              "218                       2.74  ...        2\n",
              "\n",
              "[5 rows x 8 columns]"
            ]
          },
          "metadata": {
            "tags": []
          },
          "execution_count": 76
        }
      ]
    },
    {
      "cell_type": "markdown",
      "metadata": {
        "id": "Mw4LPM7TOQSz"
      },
      "source": [
        "### Fractal clustering :: Cluster_0_1"
      ]
    },
    {
      "cell_type": "code",
      "metadata": {
        "id": "L6wpnsyQOQS0",
        "outputId": "eca29e5b-9bc3-4fc0-9985-88cdb8e3b759",
        "colab": {
          "base_uri": "https://localhost:8080/",
          "height": 500
        }
      },
      "source": [
        "df_cluster0_1 = fractal_clustering(df_cluster0, cluster_label=1,n_clusters=3)\n",
        "print(df_cluster0_1.shape)\n",
        "\n",
        "for label in df_cluster0_1.cluster.unique():\n",
        "  print(\"label\", label, \"  shape\",df_cluster0_1[df_cluster0_1.cluster == label].shape)"
      ],
      "execution_count": null,
      "outputs": [
        {
          "output_type": "stream",
          "text": [
            "Cosine kmeans:0.676521558444003\n",
            "(6084, 8)\n",
            "label 2   shape (1080, 8)\n",
            "label 1   shape (3780, 8)\n",
            "label 0   shape (1224, 8)\n"
          ],
          "name": "stdout"
        },
        {
          "output_type": "stream",
          "text": [
            "/usr/local/lib/python3.6/dist-packages/ipykernel_launcher.py:16: SettingWithCopyWarning:\n",
            "\n",
            "\n",
            "A value is trying to be set on a copy of a slice from a DataFrame.\n",
            "Try using .loc[row_indexer,col_indexer] = value instead\n",
            "\n",
            "See the caveats in the documentation: https://pandas.pydata.org/pandas-docs/stable/user_guide/indexing.html#returning-a-view-versus-a-copy\n",
            "\n"
          ],
          "name": "stderr"
        },
        {
          "output_type": "display_data",
          "data": {
            "image/png": "[encoded data removed]",
            "text/plain": [
              "<Figure size 432x288 with 1 Axes>"
            ]
          },
          "metadata": {
            "tags": [],
            "needs_background": "light"
          }
        }
      ]
    },
    {
      "cell_type": "markdown",
      "metadata": {
        "id": "iuLsBAvYOQS2"
      },
      "source": [
        "#### Fractal Clustering :: Cluster_0_1_0"
      ]
    },
    {
      "cell_type": "code",
      "metadata": {
        "id": "oeTHW7LYOQS3",
        "outputId": "47a17f22-55b9-4ea5-c988-a4e2a076ced6",
        "colab": {
          "base_uri": "https://localhost:8080/",
          "height": 500
        }
      },
      "source": [
        "df_cluster0_1_0 = fractal_clustering(df_cluster0_1, cluster_label=0,n_clusters=3)\n",
        "print(df_cluster0_1_0.shape)\n",
        "\n",
        "for label in df_cluster0_1_0.cluster.unique():\n",
        "  print(\"label\", label, \"  shape\",df_cluster0_1_0[df_cluster0_1_0.cluster == label].shape)"
      ],
      "execution_count": null,
      "outputs": [
        {
          "output_type": "stream",
          "text": [
            "Cosine kmeans:0.8922309877244938\n",
            "(1224, 8)\n",
            "label 2   shape (144, 8)\n",
            "label 0   shape (504, 8)\n",
            "label 1   shape (576, 8)\n"
          ],
          "name": "stdout"
        },
        {
          "output_type": "stream",
          "text": [
            "/usr/local/lib/python3.6/dist-packages/ipykernel_launcher.py:16: SettingWithCopyWarning:\n",
            "\n",
            "\n",
            "A value is trying to be set on a copy of a slice from a DataFrame.\n",
            "Try using .loc[row_indexer,col_indexer] = value instead\n",
            "\n",
            "See the caveats in the documentation: https://pandas.pydata.org/pandas-docs/stable/user_guide/indexing.html#returning-a-view-versus-a-copy\n",
            "\n"
          ],
          "name": "stderr"
        },
        {
          "output_type": "display_data",
          "data": {
            "image/png": "[encoded data removed]",
            "text/plain": [
              "<Figure size 432x288 with 1 Axes>"
            ]
          },
          "metadata": {
            "tags": [],
            "needs_background": "light"
          }
        }
      ]
    },
    {
      "cell_type": "code",
      "metadata": {
        "id": "MLjTrErQOQS7",
        "outputId": "344245c4-76ed-4e20-ae6d-c061c006b989",
        "colab": {
          "base_uri": "https://localhost:8080/",
          "height": 170
        }
      },
      "source": [
        "df_cluster0_1_0['cluster_label'] = df_cluster0_1_0['cluster'].apply(lambda x: rename_cluster_label(x,'cluster_0_1_0_'))\n",
        "df_cluster0_1_0.shape"
      ],
      "execution_count": null,
      "outputs": [
        {
          "output_type": "stream",
          "text": [
            "/usr/local/lib/python3.6/dist-packages/ipykernel_launcher.py:1: SettingWithCopyWarning:\n",
            "\n",
            "\n",
            "A value is trying to be set on a copy of a slice from a DataFrame.\n",
            "Try using .loc[row_indexer,col_indexer] = value instead\n",
            "\n",
            "See the caveats in the documentation: https://pandas.pydata.org/pandas-docs/stable/user_guide/indexing.html#returning-a-view-versus-a-copy\n",
            "\n"
          ],
          "name": "stderr"
        },
        {
          "output_type": "execute_result",
          "data": {
            "text/plain": [
              "(1224, 9)"
            ]
          },
          "metadata": {
            "tags": []
          },
          "execution_count": 79
        }
      ]
    },
    {
      "cell_type": "code",
      "metadata": {
        "id": "ATLm3QfxOQS9"
      },
      "source": [
        "#print(final_data.shape)\n",
        "#final_data = pd.concat([final_data, df_cluster0_1_0])\n",
        "#print(final_data.shape)"
      ],
      "execution_count": null,
      "outputs": []
    },
    {
      "cell_type": "markdown",
      "metadata": {
        "id": "Mqp0PY_rOQS_"
      },
      "source": [
        "#### Fractal Clustering :: Cluster_0_1_1"
      ]
    },
    {
      "cell_type": "code",
      "metadata": {
        "id": "nbCUNxr5OQTA",
        "outputId": "a4048d04-ad24-4538-ab04-1e7b84a3af1a",
        "colab": {
          "base_uri": "https://localhost:8080/",
          "height": 503
        }
      },
      "source": [
        "df_cluster0_1_1 = fractal_clustering(df_cluster0_1, cluster_label=1,n_clusters=3)\n",
        "print(df_cluster0_1_1.shape)\n",
        "\n",
        "for label in df_cluster0_1_1.cluster.unique():\n",
        "  print(\"label\", label, \"  shape\",df_cluster0_1_1[df_cluster0_1_1.cluster == label].shape)"
      ],
      "execution_count": null,
      "outputs": [
        {
          "output_type": "stream",
          "text": [
            "Cosine kmeans:0.727551603471302\n",
            "(3780, 8)\n",
            "label 0   shape (1386, 8)\n",
            "label 2   shape (1197, 8)\n",
            "label 1   shape (1197, 8)\n"
          ],
          "name": "stdout"
        },
        {
          "output_type": "stream",
          "text": [
            "/usr/local/lib/python3.6/dist-packages/ipykernel_launcher.py:16: SettingWithCopyWarning:\n",
            "\n",
            "\n",
            "A value is trying to be set on a copy of a slice from a DataFrame.\n",
            "Try using .loc[row_indexer,col_indexer] = value instead\n",
            "\n",
            "See the caveats in the documentation: https://pandas.pydata.org/pandas-docs/stable/user_guide/indexing.html#returning-a-view-versus-a-copy\n",
            "\n"
          ],
          "name": "stderr"
        },
        {
          "output_type": "display_data",
          "data": {
            "image/png": "[encoded data removed]",
            "text/plain": [
              "<Figure size 432x288 with 1 Axes>"
            ]
          },
          "metadata": {
            "tags": [],
            "needs_background": "light"
          }
        }
      ]
    },
    {
      "cell_type": "code",
      "metadata": {
        "id": "18sns6D0OQTC",
        "outputId": "cb1f75c0-d5d1-4047-ae79-e089a9b8713f",
        "colab": {
          "base_uri": "https://localhost:8080/",
          "height": 170
        }
      },
      "source": [
        "df_cluster0_1_1['cluster_label'] = df_cluster0_1_1['cluster'].apply(lambda x: rename_cluster_label(x,'cluster_0_1_1_'))\n",
        "df_cluster0_1_1.shape"
      ],
      "execution_count": null,
      "outputs": [
        {
          "output_type": "stream",
          "text": [
            "/usr/local/lib/python3.6/dist-packages/ipykernel_launcher.py:1: SettingWithCopyWarning:\n",
            "\n",
            "\n",
            "A value is trying to be set on a copy of a slice from a DataFrame.\n",
            "Try using .loc[row_indexer,col_indexer] = value instead\n",
            "\n",
            "See the caveats in the documentation: https://pandas.pydata.org/pandas-docs/stable/user_guide/indexing.html#returning-a-view-versus-a-copy\n",
            "\n"
          ],
          "name": "stderr"
        },
        {
          "output_type": "execute_result",
          "data": {
            "text/plain": [
              "(3780, 9)"
            ]
          },
          "metadata": {
            "tags": []
          },
          "execution_count": 82
        }
      ]
    },
    {
      "cell_type": "code",
      "metadata": {
        "id": "0UAGC3OgOQTE"
      },
      "source": [
        "#print(final_data.shape)\n",
        "#final_data = pd.concat([final_data, df_cluster0_1_1])\n",
        "#print(final_data.shape)"
      ],
      "execution_count": null,
      "outputs": []
    },
    {
      "cell_type": "markdown",
      "metadata": {
        "id": "GOnI9zFXOQTG"
      },
      "source": [
        "#### Fractal Clustering :: Cluster_0_1_2"
      ]
    },
    {
      "cell_type": "code",
      "metadata": {
        "id": "IbdE8v9wOQTG",
        "outputId": "663b0a1c-021f-4deb-bb95-6bef33771e6f",
        "colab": {
          "base_uri": "https://localhost:8080/",
          "height": 500
        }
      },
      "source": [
        "df_cluster0_1_2 = fractal_clustering(df_cluster0_1, cluster_label=2,n_clusters=3)\n",
        "print(df_cluster0_1_2.shape)\n",
        "\n",
        "for label in df_cluster0_1_2.cluster.unique():\n",
        "  print(\"label\", label, \"  shape\",df_cluster0_1_2[df_cluster0_1_2.cluster == label].shape)"
      ],
      "execution_count": null,
      "outputs": [
        {
          "output_type": "stream",
          "text": [
            "/usr/local/lib/python3.6/dist-packages/ipykernel_launcher.py:16: SettingWithCopyWarning:\n",
            "\n",
            "\n",
            "A value is trying to be set on a copy of a slice from a DataFrame.\n",
            "Try using .loc[row_indexer,col_indexer] = value instead\n",
            "\n",
            "See the caveats in the documentation: https://pandas.pydata.org/pandas-docs/stable/user_guide/indexing.html#returning-a-view-versus-a-copy\n",
            "\n"
          ],
          "name": "stderr"
        },
        {
          "output_type": "stream",
          "text": [
            "Cosine kmeans:0.8107357451655317\n",
            "(1080, 8)\n",
            "label 1   shape (612, 8)\n",
            "label 0   shape (171, 8)\n",
            "label 2   shape (297, 8)\n"
          ],
          "name": "stdout"
        },
        {
          "output_type": "display_data",
          "data": {
            "image/png": "[encoded data removed]",
            "text/plain": [
              "<Figure size 432x288 with 1 Axes>"
            ]
          },
          "metadata": {
            "tags": [],
            "needs_background": "light"
          }
        }
      ]
    },
    {
      "cell_type": "code",
      "metadata": {
        "id": "-jWXGKmqOQTI",
        "outputId": "256af26d-5d23-4b9e-f8af-b0255898b860",
        "colab": {
          "base_uri": "https://localhost:8080/",
          "height": 170
        }
      },
      "source": [
        "df_cluster0_1_2['cluster_label'] = df_cluster0_1_2['cluster'].apply(lambda x: rename_cluster_label(x,'cluster_0_1_2_'))\n",
        "df_cluster0_1_2.shape"
      ],
      "execution_count": null,
      "outputs": [
        {
          "output_type": "stream",
          "text": [
            "/usr/local/lib/python3.6/dist-packages/ipykernel_launcher.py:1: SettingWithCopyWarning:\n",
            "\n",
            "\n",
            "A value is trying to be set on a copy of a slice from a DataFrame.\n",
            "Try using .loc[row_indexer,col_indexer] = value instead\n",
            "\n",
            "See the caveats in the documentation: https://pandas.pydata.org/pandas-docs/stable/user_guide/indexing.html#returning-a-view-versus-a-copy\n",
            "\n"
          ],
          "name": "stderr"
        },
        {
          "output_type": "execute_result",
          "data": {
            "text/plain": [
              "(1080, 9)"
            ]
          },
          "metadata": {
            "tags": []
          },
          "execution_count": 85
        }
      ]
    },
    {
      "cell_type": "code",
      "metadata": {
        "id": "37ITGH2OOQTL"
      },
      "source": [
        "#print(final_data.shape)\n",
        "#final_data = pd.concat([final_data, df_cluster0_1_2])\n",
        "#print(final_data.shape)"
      ],
      "execution_count": null,
      "outputs": []
    },
    {
      "cell_type": "markdown",
      "metadata": {
        "id": "Jgwdgd3wOQTN"
      },
      "source": [
        "### Fractal clustering :: Cluster_0_2"
      ]
    },
    {
      "cell_type": "code",
      "metadata": {
        "id": "_qfgwNLNOQTO",
        "outputId": "3327d3fc-d46b-42f0-ede4-f440a6a45156",
        "colab": {
          "base_uri": "https://localhost:8080/",
          "height": 500
        }
      },
      "source": [
        "df_cluster0_2 = fractal_clustering(df_cluster0, cluster_label=1,n_clusters=3)\n",
        "print(df_cluster0_2.shape)\n",
        "\n",
        "for label in df_cluster0_2.cluster.unique():\n",
        "  print(\"label\", label, \"  shape\",df_cluster0_2[df_cluster0_2.cluster == label].shape)"
      ],
      "execution_count": null,
      "outputs": [
        {
          "output_type": "stream",
          "text": [
            "Cosine kmeans:0.676521558444003\n",
            "(6084, 8)\n",
            "label 2   shape (1080, 8)\n",
            "label 0   shape (3780, 8)\n",
            "label 1   shape (1224, 8)\n"
          ],
          "name": "stdout"
        },
        {
          "output_type": "stream",
          "text": [
            "/usr/local/lib/python3.6/dist-packages/ipykernel_launcher.py:16: SettingWithCopyWarning:\n",
            "\n",
            "\n",
            "A value is trying to be set on a copy of a slice from a DataFrame.\n",
            "Try using .loc[row_indexer,col_indexer] = value instead\n",
            "\n",
            "See the caveats in the documentation: https://pandas.pydata.org/pandas-docs/stable/user_guide/indexing.html#returning-a-view-versus-a-copy\n",
            "\n"
          ],
          "name": "stderr"
        },
        {
          "output_type": "display_data",
          "data": {
            "image/png": "[encoded data removed]",
            "text/plain": [
              "<Figure size 432x288 with 1 Axes>"
            ]
          },
          "metadata": {
            "tags": [],
            "needs_background": "light"
          }
        }
      ]
    },
    {
      "cell_type": "markdown",
      "metadata": {
        "id": "_GZyUqDIOQTR"
      },
      "source": [
        "#### Fractal Clustering :: Cluster_0_2_0"
      ]
    },
    {
      "cell_type": "code",
      "metadata": {
        "id": "zDUtBbOrOQTS",
        "outputId": "010c67e7-b04a-4143-c26f-da26a83d8224",
        "colab": {
          "base_uri": "https://localhost:8080/",
          "height": 503
        }
      },
      "source": [
        "df_cluster0_2_0 = fractal_clustering(df_cluster0_2, cluster_label=0,n_clusters=3)\n",
        "print(df_cluster0_2_0.shape)\n",
        "\n",
        "for label in df_cluster0_2_0.cluster.unique():\n",
        "  print(\"label\", label, \"  shape\",df_cluster0_2_0[df_cluster0_2_0.cluster == label].shape)"
      ],
      "execution_count": null,
      "outputs": [
        {
          "output_type": "stream",
          "text": [
            "Cosine kmeans:0.727551603471302\n",
            "(3780, 8)\n",
            "label 1   shape (1386, 8)\n",
            "label 2   shape (1197, 8)\n",
            "label 0   shape (1197, 8)\n"
          ],
          "name": "stdout"
        },
        {
          "output_type": "stream",
          "text": [
            "/usr/local/lib/python3.6/dist-packages/ipykernel_launcher.py:16: SettingWithCopyWarning:\n",
            "\n",
            "\n",
            "A value is trying to be set on a copy of a slice from a DataFrame.\n",
            "Try using .loc[row_indexer,col_indexer] = value instead\n",
            "\n",
            "See the caveats in the documentation: https://pandas.pydata.org/pandas-docs/stable/user_guide/indexing.html#returning-a-view-versus-a-copy\n",
            "\n"
          ],
          "name": "stderr"
        },
        {
          "output_type": "display_data",
          "data": {
            "image/png": "[encoded data removed]",
            "text/plain": [
              "<Figure size 432x288 with 1 Axes>"
            ]
          },
          "metadata": {
            "tags": [],
            "needs_background": "light"
          }
        }
      ]
    },
    {
      "cell_type": "code",
      "metadata": {
        "id": "qJE29nICOQTT",
        "outputId": "5c8152e4-a042-4312-f6a5-23cdd7a508b5",
        "colab": {
          "base_uri": "https://localhost:8080/",
          "height": 170
        }
      },
      "source": [
        "df_cluster0_2_0['cluster_label'] = df_cluster0_2_0['cluster'].apply(lambda x: rename_cluster_label(x,'cluster_0_2_0_'))\n",
        "df_cluster0_2_0.shape"
      ],
      "execution_count": null,
      "outputs": [
        {
          "output_type": "stream",
          "text": [
            "/usr/local/lib/python3.6/dist-packages/ipykernel_launcher.py:1: SettingWithCopyWarning:\n",
            "\n",
            "\n",
            "A value is trying to be set on a copy of a slice from a DataFrame.\n",
            "Try using .loc[row_indexer,col_indexer] = value instead\n",
            "\n",
            "See the caveats in the documentation: https://pandas.pydata.org/pandas-docs/stable/user_guide/indexing.html#returning-a-view-versus-a-copy\n",
            "\n"
          ],
          "name": "stderr"
        },
        {
          "output_type": "execute_result",
          "data": {
            "text/plain": [
              "(3780, 9)"
            ]
          },
          "metadata": {
            "tags": []
          },
          "execution_count": 89
        }
      ]
    },
    {
      "cell_type": "code",
      "metadata": {
        "id": "Q9COXidFOQTW"
      },
      "source": [
        "#print(final_data.shape)\n",
        "#final_data = pd.concat([final_data, df_cluster0_2_0])\n",
        "#print(final_data.shape)"
      ],
      "execution_count": null,
      "outputs": []
    },
    {
      "cell_type": "markdown",
      "metadata": {
        "id": "t3fqbb2lOQTX"
      },
      "source": [
        "#### Fractal Clustering :: Cluster_0_2_1"
      ]
    },
    {
      "cell_type": "code",
      "metadata": {
        "id": "X5mHX8lZOQTZ",
        "outputId": "76488a49-ff46-47ba-98f1-1cc876eab3ed",
        "colab": {
          "base_uri": "https://localhost:8080/",
          "height": 500
        }
      },
      "source": [
        "df_cluster0_2_1 = fractal_clustering(df_cluster0_2, cluster_label=1,n_clusters=3)\n",
        "print(df_cluster0_2_1.shape)\n",
        "\n",
        "for label in df_cluster0_2_1.cluster.unique():\n",
        "  print(\"label\", label, \"  shape\",df_cluster0_2_1[df_cluster0_2_1.cluster == label].shape)"
      ],
      "execution_count": null,
      "outputs": [
        {
          "output_type": "stream",
          "text": [
            "/usr/local/lib/python3.6/dist-packages/ipykernel_launcher.py:16: SettingWithCopyWarning:\n",
            "\n",
            "\n",
            "A value is trying to be set on a copy of a slice from a DataFrame.\n",
            "Try using .loc[row_indexer,col_indexer] = value instead\n",
            "\n",
            "See the caveats in the documentation: https://pandas.pydata.org/pandas-docs/stable/user_guide/indexing.html#returning-a-view-versus-a-copy\n",
            "\n"
          ],
          "name": "stderr"
        },
        {
          "output_type": "stream",
          "text": [
            "Cosine kmeans:0.8922309877244938\n",
            "(1224, 8)\n",
            "label 2   shape (144, 8)\n",
            "label 1   shape (504, 8)\n",
            "label 0   shape (576, 8)\n"
          ],
          "name": "stdout"
        },
        {
          "output_type": "display_data",
          "data": {
            "image/png": "[encoded data removed]",
            "text/plain": [
              "<Figure size 432x288 with 1 Axes>"
            ]
          },
          "metadata": {
            "tags": [],
            "needs_background": "light"
          }
        }
      ]
    },
    {
      "cell_type": "code",
      "metadata": {
        "id": "k2mtCbzgOQTb",
        "outputId": "201faf28-dee0-4a27-9a94-08e6c0d88929",
        "colab": {
          "base_uri": "https://localhost:8080/",
          "height": 170
        }
      },
      "source": [
        "df_cluster0_2_1['cluster_label'] = df_cluster0_2_1['cluster'].apply(lambda x: rename_cluster_label(x,'cluster_0_2_1_'))\n",
        "df_cluster0_2_1.shape"
      ],
      "execution_count": null,
      "outputs": [
        {
          "output_type": "stream",
          "text": [
            "/usr/local/lib/python3.6/dist-packages/ipykernel_launcher.py:1: SettingWithCopyWarning:\n",
            "\n",
            "\n",
            "A value is trying to be set on a copy of a slice from a DataFrame.\n",
            "Try using .loc[row_indexer,col_indexer] = value instead\n",
            "\n",
            "See the caveats in the documentation: https://pandas.pydata.org/pandas-docs/stable/user_guide/indexing.html#returning-a-view-versus-a-copy\n",
            "\n"
          ],
          "name": "stderr"
        },
        {
          "output_type": "execute_result",
          "data": {
            "text/plain": [
              "(1224, 9)"
            ]
          },
          "metadata": {
            "tags": []
          },
          "execution_count": 92
        }
      ]
    },
    {
      "cell_type": "code",
      "metadata": {
        "id": "b-IqbSw0OQTc"
      },
      "source": [
        "#print(final_data.shape)\n",
        "#final_data = pd.concat([final_data, df_cluster0_2_1])\n",
        "#print(final_data.shape)"
      ],
      "execution_count": null,
      "outputs": []
    },
    {
      "cell_type": "markdown",
      "metadata": {
        "id": "mNN77aeNOQTf"
      },
      "source": [
        "#### Fractal Clustering :: Cluster_0_2_2"
      ]
    },
    {
      "cell_type": "code",
      "metadata": {
        "id": "YlZjI9OKOQTg",
        "outputId": "3d319ca0-0250-4f50-f946-d853c7dae076",
        "colab": {
          "base_uri": "https://localhost:8080/",
          "height": 500
        }
      },
      "source": [
        "df_cluster0_2_2 = fractal_clustering(df_cluster0_2, cluster_label=2,n_clusters=3)\n",
        "print(df_cluster0_2_2.shape)\n",
        "\n",
        "for label in df_cluster0_2_2.cluster.unique():\n",
        "  print(\"label\", label, \"  shape\",df_cluster0_2_2[df_cluster0_2_2.cluster == label].shape)"
      ],
      "execution_count": null,
      "outputs": [
        {
          "output_type": "stream",
          "text": [
            "/usr/local/lib/python3.6/dist-packages/ipykernel_launcher.py:16: SettingWithCopyWarning:\n",
            "\n",
            "\n",
            "A value is trying to be set on a copy of a slice from a DataFrame.\n",
            "Try using .loc[row_indexer,col_indexer] = value instead\n",
            "\n",
            "See the caveats in the documentation: https://pandas.pydata.org/pandas-docs/stable/user_guide/indexing.html#returning-a-view-versus-a-copy\n",
            "\n"
          ],
          "name": "stderr"
        },
        {
          "output_type": "stream",
          "text": [
            "Cosine kmeans:0.8107357451655317\n",
            "(1080, 8)\n",
            "label 0   shape (612, 8)\n",
            "label 2   shape (171, 8)\n",
            "label 1   shape (297, 8)\n"
          ],
          "name": "stdout"
        },
        {
          "output_type": "display_data",
          "data": {
            "image/png": "[encoded data removed]",
            "text/plain": [
              "<Figure size 432x288 with 1 Axes>"
            ]
          },
          "metadata": {
            "tags": [],
            "needs_background": "light"
          }
        }
      ]
    },
    {
      "cell_type": "code",
      "metadata": {
        "id": "r9xs_mVmOQTi",
        "outputId": "344afcac-2f6e-4381-862a-3f921e6fabe1",
        "colab": {
          "base_uri": "https://localhost:8080/",
          "height": 170
        }
      },
      "source": [
        "df_cluster0_2_2['cluster_label'] = df_cluster0_2_2['cluster'].apply(lambda x: rename_cluster_label(x,'cluster_0_2_2_'))\n",
        "df_cluster0_2_2.shape"
      ],
      "execution_count": null,
      "outputs": [
        {
          "output_type": "stream",
          "text": [
            "/usr/local/lib/python3.6/dist-packages/ipykernel_launcher.py:1: SettingWithCopyWarning:\n",
            "\n",
            "\n",
            "A value is trying to be set on a copy of a slice from a DataFrame.\n",
            "Try using .loc[row_indexer,col_indexer] = value instead\n",
            "\n",
            "See the caveats in the documentation: https://pandas.pydata.org/pandas-docs/stable/user_guide/indexing.html#returning-a-view-versus-a-copy\n",
            "\n"
          ],
          "name": "stderr"
        },
        {
          "output_type": "execute_result",
          "data": {
            "text/plain": [
              "(1080, 9)"
            ]
          },
          "metadata": {
            "tags": []
          },
          "execution_count": 95
        }
      ]
    },
    {
      "cell_type": "code",
      "metadata": {
        "id": "RwUHtnH5OQTk"
      },
      "source": [
        "#print(final_data.shape)\n",
        "#final_data = pd.concat([final_data, df_cluster0_2_2])\n",
        "#print(final_data.shape)"
      ],
      "execution_count": null,
      "outputs": []
    },
    {
      "cell_type": "markdown",
      "metadata": {
        "id": "m3VRmYoRQe7l"
      },
      "source": [
        "### Fractal Clustering :: Cluster 1"
      ]
    },
    {
      "cell_type": "code",
      "metadata": {
        "id": "bIr2RWVcQe7n",
        "outputId": "cf1bf0c1-d171-4ea3-aa5c-7a25a9594b1b",
        "colab": {
          "base_uri": "https://localhost:8080/",
          "height": 34
        }
      },
      "source": [
        "cluster1 = maryland_sd_inertia_6states_X5[maryland_sd_inertia_6states_X5['cluster'] == 1]\n",
        "print(cluster1.shape)"
      ],
      "execution_count": null,
      "outputs": [
        {
          "output_type": "stream",
          "text": [
            "(60841, 8)\n"
          ],
          "name": "stdout"
        }
      ]
    },
    {
      "cell_type": "code",
      "metadata": {
        "id": "DqPBr0XkQe7r"
      },
      "source": [
        "X_cols = X5_cols"
      ],
      "execution_count": null,
      "outputs": []
    },
    {
      "cell_type": "code",
      "metadata": {
        "id": "wUsljG0JQe7u",
        "outputId": "a04928e2-5145-496b-939d-67e132cbf70d",
        "colab": {
          "base_uri": "https://localhost:8080/",
          "height": 364
        }
      },
      "source": [
        "df_cluster1 = fractal_clustering(cluster1, cluster_label=1,n_clusters=3)\n",
        "print(df_cluster1.shape)\n",
        "\n",
        "for label in df_cluster1.cluster.unique():\n",
        "  print(\"label\", label, \"  shape\",df_cluster1[df_cluster1.cluster == label].shape)"
      ],
      "execution_count": null,
      "outputs": [
        {
          "output_type": "stream",
          "text": [
            "Cosine kmeans:0.5984234852808737\n",
            "(60841, 8)\n",
            "label 2   shape (14082, 8)\n",
            "label 0   shape (18483, 8)\n",
            "label 1   shape (28276, 8)\n"
          ],
          "name": "stdout"
        },
        {
          "output_type": "display_data",
          "data": {
            "image/png": "[encoded data removed]",
            "text/plain": [
              "<Figure size 432x288 with 1 Axes>"
            ]
          },
          "metadata": {
            "tags": [],
            "needs_background": "light"
          }
        }
      ]
    },
    {
      "cell_type": "markdown",
      "metadata": {
        "id": "afPy0v3NSAqg"
      },
      "source": [
        "### Fractal Clustering :: Cluster_1_0"
      ]
    },
    {
      "cell_type": "code",
      "metadata": {
        "id": "rMiLEnt1SAqi",
        "outputId": "c096e726-bc75-4832-9a81-565e05a59b64",
        "colab": {
          "base_uri": "https://localhost:8080/",
          "height": 500
        }
      },
      "source": [
        "df_cluster1_0 = fractal_clustering(df_cluster1, cluster_label=0,n_clusters=3)\n",
        "print(df_cluster1_0.shape)\n",
        "\n",
        "for label in df_cluster1_0.cluster.unique():\n",
        "  print(\"label\", label, \"  shape\",df_cluster1_0[df_cluster1_0.cluster == label].shape)"
      ],
      "execution_count": 102,
      "outputs": [
        {
          "output_type": "stream",
          "text": [
            "Cosine kmeans:0.7468993651813111\n",
            "(18483, 8)\n",
            "label 1   shape (3851, 8)\n",
            "label 2   shape (11124, 8)\n",
            "label 0   shape (3508, 8)\n"
          ],
          "name": "stdout"
        },
        {
          "output_type": "stream",
          "text": [
            "/usr/local/lib/python3.6/dist-packages/ipykernel_launcher.py:16: SettingWithCopyWarning:\n",
            "\n",
            "\n",
            "A value is trying to be set on a copy of a slice from a DataFrame.\n",
            "Try using .loc[row_indexer,col_indexer] = value instead\n",
            "\n",
            "See the caveats in the documentation: https://pandas.pydata.org/pandas-docs/stable/user_guide/indexing.html#returning-a-view-versus-a-copy\n",
            "\n"
          ],
          "name": "stderr"
        },
        {
          "output_type": "display_data",
          "data": {
            "image/png": "[encoded data removed]",
            "text/plain": [
              "<Figure size 432x288 with 1 Axes>"
            ]
          },
          "metadata": {
            "tags": [],
            "needs_background": "light"
          }
        }
      ]
    },
    {
      "cell_type": "markdown",
      "metadata": {
        "id": "8iU9hj5_SAqk"
      },
      "source": [
        "#### Fractal clustering :: Cluster 1_0_0"
      ]
    },
    {
      "cell_type": "code",
      "metadata": {
        "id": "Ng1HmVK8SAqk",
        "outputId": "734f4dd4-78a9-4c16-8715-d1f171c089a4",
        "colab": {
          "base_uri": "https://localhost:8080/",
          "height": 500
        }
      },
      "source": [
        "df_cluster1_0_0 = fractal_clustering(df_cluster1_0, cluster_label=0,n_clusters=3)\n",
        "print(df_cluster1_0_0.shape)\n",
        "\n",
        "for label in df_cluster1_0_0.cluster.unique():\n",
        "  print(\"label\", label, \"  shape\",df_cluster1_0_0[df_cluster1_0_0.cluster == label].shape)"
      ],
      "execution_count": 103,
      "outputs": [
        {
          "output_type": "stream",
          "text": [
            "Cosine kmeans:0.8293790142984419\n",
            "(3508, 8)\n",
            "label 2   shape (372, 8)\n",
            "label 0   shape (1463, 8)\n",
            "label 1   shape (1673, 8)\n"
          ],
          "name": "stdout"
        },
        {
          "output_type": "stream",
          "text": [
            "/usr/local/lib/python3.6/dist-packages/ipykernel_launcher.py:16: SettingWithCopyWarning:\n",
            "\n",
            "\n",
            "A value is trying to be set on a copy of a slice from a DataFrame.\n",
            "Try using .loc[row_indexer,col_indexer] = value instead\n",
            "\n",
            "See the caveats in the documentation: https://pandas.pydata.org/pandas-docs/stable/user_guide/indexing.html#returning-a-view-versus-a-copy\n",
            "\n"
          ],
          "name": "stderr"
        },
        {
          "output_type": "display_data",
          "data": {
            "image/png": "[encoded data removed]",
            "text/plain": [
              "<Figure size 432x288 with 1 Axes>"
            ]
          },
          "metadata": {
            "tags": [],
            "needs_background": "light"
          }
        }
      ]
    },
    {
      "cell_type": "code",
      "metadata": {
        "id": "28QZlQxVSAqm",
        "outputId": "d5f0484e-9eee-49e4-b696-e138005f999b",
        "colab": {
          "base_uri": "https://localhost:8080/",
          "height": 153
        }
      },
      "source": [
        "df_cluster1_0_0['cluster_label'] = df_cluster1_0_0['cluster'].apply(lambda x: rename_cluster_label(x,'cluster_1_0_0_'))"
      ],
      "execution_count": 104,
      "outputs": [
        {
          "output_type": "stream",
          "text": [
            "/usr/local/lib/python3.6/dist-packages/ipykernel_launcher.py:1: SettingWithCopyWarning:\n",
            "\n",
            "\n",
            "A value is trying to be set on a copy of a slice from a DataFrame.\n",
            "Try using .loc[row_indexer,col_indexer] = value instead\n",
            "\n",
            "See the caveats in the documentation: https://pandas.pydata.org/pandas-docs/stable/user_guide/indexing.html#returning-a-view-versus-a-copy\n",
            "\n"
          ],
          "name": "stderr"
        }
      ]
    },
    {
      "cell_type": "code",
      "metadata": {
        "id": "Ai6aGYrvSAqp"
      },
      "source": [
        "#final_data = df_cluster1_0_0.copy()"
      ],
      "execution_count": 105,
      "outputs": []
    },
    {
      "cell_type": "markdown",
      "metadata": {
        "id": "23lpLkeoSAqr"
      },
      "source": [
        "#### Fractal clustering :: Cluster 1_0_1"
      ]
    },
    {
      "cell_type": "code",
      "metadata": {
        "id": "B0CyC5SnSAqr",
        "outputId": "d2f111fe-25d4-4f99-ff68-85585045a6b3",
        "colab": {
          "base_uri": "https://localhost:8080/",
          "height": 500
        }
      },
      "source": [
        "df_cluster1_0_1 = fractal_clustering(df_cluster1_0, cluster_label=1,n_clusters=3)\n",
        "print(df_cluster1_0_1.shape)\n",
        "\n",
        "for label in df_cluster1_0_1.cluster.unique():\n",
        "  print(\"label\", label, \"  shape\",df_cluster1_0_1[df_cluster1_0_1.cluster == label].shape)"
      ],
      "execution_count": 106,
      "outputs": [
        {
          "output_type": "stream",
          "text": [
            "Cosine kmeans:0.9062057463878744\n",
            "(3851, 8)\n",
            "label 1   shape (124, 8)\n",
            "label 2   shape (244, 8)\n",
            "label 0   shape (3483, 8)\n"
          ],
          "name": "stdout"
        },
        {
          "output_type": "stream",
          "text": [
            "/usr/local/lib/python3.6/dist-packages/ipykernel_launcher.py:16: SettingWithCopyWarning:\n",
            "\n",
            "\n",
            "A value is trying to be set on a copy of a slice from a DataFrame.\n",
            "Try using .loc[row_indexer,col_indexer] = value instead\n",
            "\n",
            "See the caveats in the documentation: https://pandas.pydata.org/pandas-docs/stable/user_guide/indexing.html#returning-a-view-versus-a-copy\n",
            "\n"
          ],
          "name": "stderr"
        },
        {
          "output_type": "display_data",
          "data": {
            "image/png": "[encoded data removed]",
            "text/plain": [
              "<Figure size 432x288 with 1 Axes>"
            ]
          },
          "metadata": {
            "tags": [],
            "needs_background": "light"
          }
        }
      ]
    },
    {
      "cell_type": "code",
      "metadata": {
        "id": "QgAJ-YX8SAqw",
        "outputId": "1308418e-a2b7-4a7c-bf81-bb03d2b70fd2",
        "colab": {
          "base_uri": "https://localhost:8080/",
          "height": 170
        }
      },
      "source": [
        "df_cluster1_0_1['cluster_label'] = df_cluster1_0_1['cluster'].apply(lambda x: rename_cluster_label(x,'cluster_1_0_1_'))\n",
        "df_cluster1_0_1.shape"
      ],
      "execution_count": 107,
      "outputs": [
        {
          "output_type": "stream",
          "text": [
            "/usr/local/lib/python3.6/dist-packages/ipykernel_launcher.py:1: SettingWithCopyWarning:\n",
            "\n",
            "\n",
            "A value is trying to be set on a copy of a slice from a DataFrame.\n",
            "Try using .loc[row_indexer,col_indexer] = value instead\n",
            "\n",
            "See the caveats in the documentation: https://pandas.pydata.org/pandas-docs/stable/user_guide/indexing.html#returning-a-view-versus-a-copy\n",
            "\n"
          ],
          "name": "stderr"
        },
        {
          "output_type": "execute_result",
          "data": {
            "text/plain": [
              "(3851, 9)"
            ]
          },
          "metadata": {
            "tags": []
          },
          "execution_count": 107
        }
      ]
    },
    {
      "cell_type": "code",
      "metadata": {
        "id": "78FkuKi2SAqy"
      },
      "source": [
        "#final_data.shape"
      ],
      "execution_count": 108,
      "outputs": []
    },
    {
      "cell_type": "code",
      "metadata": {
        "id": "r9iBggzgSAq1"
      },
      "source": [
        "#final_data = pd.concat([final_data, df_cluster1_0_1])\n",
        "#final_data.shape"
      ],
      "execution_count": 109,
      "outputs": []
    },
    {
      "cell_type": "markdown",
      "metadata": {
        "id": "fKlK48OpSAq2"
      },
      "source": [
        "#### Fractal clustering :: Cluster 1_0_2"
      ]
    },
    {
      "cell_type": "code",
      "metadata": {
        "id": "uJiw0PZASAq3",
        "outputId": "33f434f2-d5cf-4d23-c174-b66ec4d2da4e",
        "colab": {
          "base_uri": "https://localhost:8080/",
          "height": 500
        }
      },
      "source": [
        "df_cluster1_0_2 = fractal_clustering(df_cluster1_0, cluster_label=2,n_clusters=3)\n",
        "print(df_cluster1_0_2.shape)\n",
        "\n",
        "for label in df_cluster1_0_2.cluster.unique():\n",
        "  print(\"label\", label, \"  shape\",df_cluster1_0_2[df_cluster1_0_2.cluster == label].shape)"
      ],
      "execution_count": 110,
      "outputs": [
        {
          "output_type": "stream",
          "text": [
            "Cosine kmeans:0.9186271066913314\n",
            "(11124, 8)\n",
            "label 2   shape (723, 8)\n",
            "label 1   shape (1947, 8)\n",
            "label 0   shape (8454, 8)\n"
          ],
          "name": "stdout"
        },
        {
          "output_type": "stream",
          "text": [
            "/usr/local/lib/python3.6/dist-packages/ipykernel_launcher.py:16: SettingWithCopyWarning:\n",
            "\n",
            "\n",
            "A value is trying to be set on a copy of a slice from a DataFrame.\n",
            "Try using .loc[row_indexer,col_indexer] = value instead\n",
            "\n",
            "See the caveats in the documentation: https://pandas.pydata.org/pandas-docs/stable/user_guide/indexing.html#returning-a-view-versus-a-copy\n",
            "\n"
          ],
          "name": "stderr"
        },
        {
          "output_type": "display_data",
          "data": {
            "image/png": "[encoded data removed]",
            "text/plain": [
              "<Figure size 432x288 with 1 Axes>"
            ]
          },
          "metadata": {
            "tags": [],
            "needs_background": "light"
          }
        }
      ]
    },
    {
      "cell_type": "code",
      "metadata": {
        "id": "wfs6djDSSAq5",
        "outputId": "8764eda4-eb85-41d9-92a3-17b1c9ef676b",
        "colab": {
          "base_uri": "https://localhost:8080/",
          "height": 170
        }
      },
      "source": [
        "df_cluster1_0_2['cluster_label'] = df_cluster1_0_2['cluster'].apply(lambda x: rename_cluster_label(x,'cluster_1_0_2_'))\n",
        "df_cluster1_0_2.shape"
      ],
      "execution_count": 111,
      "outputs": [
        {
          "output_type": "stream",
          "text": [
            "/usr/local/lib/python3.6/dist-packages/ipykernel_launcher.py:1: SettingWithCopyWarning:\n",
            "\n",
            "\n",
            "A value is trying to be set on a copy of a slice from a DataFrame.\n",
            "Try using .loc[row_indexer,col_indexer] = value instead\n",
            "\n",
            "See the caveats in the documentation: https://pandas.pydata.org/pandas-docs/stable/user_guide/indexing.html#returning-a-view-versus-a-copy\n",
            "\n"
          ],
          "name": "stderr"
        },
        {
          "output_type": "execute_result",
          "data": {
            "text/plain": [
              "(11124, 9)"
            ]
          },
          "metadata": {
            "tags": []
          },
          "execution_count": 111
        }
      ]
    },
    {
      "cell_type": "code",
      "metadata": {
        "id": "vDuGMTpMSAq7"
      },
      "source": [
        "#print(final_data.shape)\n",
        "#final_data = pd.concat([final_data, df_cluster1_0_2])\n",
        "#final_data.shape"
      ],
      "execution_count": 112,
      "outputs": []
    },
    {
      "cell_type": "code",
      "metadata": {
        "id": "uMXdkaJnSAq9",
        "outputId": "23af3d2f-989f-4cba-cd9b-04438251f797",
        "colab": {
          "base_uri": "https://localhost:8080/",
          "height": 221
        }
      },
      "source": [
        "df_cluster1_0.head()"
      ],
      "execution_count": 113,
      "outputs": [
        {
          "output_type": "execute_result",
          "data": {
            "text/html": [
              "<div>\n",
              "<style scoped>\n",
              "    .dataframe tbody tr th:only-of-type {\n",
              "        vertical-align: middle;\n",
              "    }\n",
              "\n",
              "    .dataframe tbody tr th {\n",
              "        vertical-align: top;\n",
              "    }\n",
              "\n",
              "    .dataframe thead th {\n",
              "        text-align: right;\n",
              "    }\n",
              "</style>\n",
              "<table border=\"1\" class=\"dataframe\">\n",
              "  <thead>\n",
              "    <tr style=\"text-align: right;\">\n",
              "      <th></th>\n",
              "      <th>Hospital beds/1000 people</th>\n",
              "      <th>ICUs/1000 people</th>\n",
              "      <th>#days: decreasing ILI cases</th>\n",
              "      <th>% hospital bed utilization</th>\n",
              "      <th>% ICU utilization</th>\n",
              "      <th>Ventilator shortage</th>\n",
              "      <th>New cases/1000 people</th>\n",
              "      <th>cluster</th>\n",
              "    </tr>\n",
              "  </thead>\n",
              "  <tbody>\n",
              "    <tr>\n",
              "      <th>78</th>\n",
              "      <td>2.74</td>\n",
              "      <td>0.22</td>\n",
              "      <td>0</td>\n",
              "      <td>65.303013</td>\n",
              "      <td>6.39</td>\n",
              "      <td>270</td>\n",
              "      <td>0.0</td>\n",
              "      <td>1</td>\n",
              "    </tr>\n",
              "    <tr>\n",
              "      <th>79</th>\n",
              "      <td>2.74</td>\n",
              "      <td>0.22</td>\n",
              "      <td>0</td>\n",
              "      <td>65.881120</td>\n",
              "      <td>8.42</td>\n",
              "      <td>355</td>\n",
              "      <td>0.0</td>\n",
              "      <td>1</td>\n",
              "    </tr>\n",
              "    <tr>\n",
              "      <th>80</th>\n",
              "      <td>2.74</td>\n",
              "      <td>0.22</td>\n",
              "      <td>0</td>\n",
              "      <td>66.644313</td>\n",
              "      <td>11.13</td>\n",
              "      <td>469</td>\n",
              "      <td>0.0</td>\n",
              "      <td>1</td>\n",
              "    </tr>\n",
              "    <tr>\n",
              "      <th>81</th>\n",
              "      <td>2.74</td>\n",
              "      <td>0.22</td>\n",
              "      <td>0</td>\n",
              "      <td>67.663325</td>\n",
              "      <td>14.78</td>\n",
              "      <td>623</td>\n",
              "      <td>0.0</td>\n",
              "      <td>1</td>\n",
              "    </tr>\n",
              "    <tr>\n",
              "      <th>82</th>\n",
              "      <td>2.74</td>\n",
              "      <td>0.22</td>\n",
              "      <td>0</td>\n",
              "      <td>68.976494</td>\n",
              "      <td>19.50</td>\n",
              "      <td>822</td>\n",
              "      <td>0.0</td>\n",
              "      <td>1</td>\n",
              "    </tr>\n",
              "  </tbody>\n",
              "</table>\n",
              "</div>"
            ],
            "text/plain": [
              "    Hospital beds/1000 people  ICUs/1000 people  ...  New cases/1000 people  cluster\n",
              "78                       2.74              0.22  ...                    0.0        1\n",
              "79                       2.74              0.22  ...                    0.0        1\n",
              "80                       2.74              0.22  ...                    0.0        1\n",
              "81                       2.74              0.22  ...                    0.0        1\n",
              "82                       2.74              0.22  ...                    0.0        1\n",
              "\n",
              "[5 rows x 8 columns]"
            ]
          },
          "metadata": {
            "tags": []
          },
          "execution_count": 113
        }
      ]
    },
    {
      "cell_type": "markdown",
      "metadata": {
        "id": "s3OVzFOhTJxz"
      },
      "source": [
        "### Fractal clustering :: Cluster_1_1"
      ]
    },
    {
      "cell_type": "code",
      "metadata": {
        "id": "8RDXLXzGTJx6",
        "outputId": "4ccb96e9-e26a-45cd-cf9b-8bce8cbe17f7",
        "colab": {
          "base_uri": "https://localhost:8080/",
          "height": 500
        }
      },
      "source": [
        "df_cluster1_1 = fractal_clustering(df_cluster1, cluster_label=1,n_clusters=3)\n",
        "print(df_cluster1_1.shape)\n",
        "\n",
        "for label in df_cluster1_1.cluster.unique():\n",
        "  print(\"label\", label, \"  shape\",df_cluster1_1[df_cluster1_1.cluster == label].shape)"
      ],
      "execution_count": 114,
      "outputs": [
        {
          "output_type": "stream",
          "text": [
            "Cosine kmeans:0.7486514335506382\n",
            "(28276, 8)\n",
            "label 2   shape (12087, 8)\n",
            "label 0   shape (9702, 8)\n",
            "label 1   shape (6487, 8)\n"
          ],
          "name": "stdout"
        },
        {
          "output_type": "stream",
          "text": [
            "/usr/local/lib/python3.6/dist-packages/ipykernel_launcher.py:16: SettingWithCopyWarning:\n",
            "\n",
            "\n",
            "A value is trying to be set on a copy of a slice from a DataFrame.\n",
            "Try using .loc[row_indexer,col_indexer] = value instead\n",
            "\n",
            "See the caveats in the documentation: https://pandas.pydata.org/pandas-docs/stable/user_guide/indexing.html#returning-a-view-versus-a-copy\n",
            "\n"
          ],
          "name": "stderr"
        },
        {
          "output_type": "display_data",
          "data": {
            "image/png": "[encoded data removed]",
            "text/plain": [
              "<Figure size 432x288 with 1 Axes>"
            ]
          },
          "metadata": {
            "tags": [],
            "needs_background": "light"
          }
        }
      ]
    },
    {
      "cell_type": "markdown",
      "metadata": {
        "id": "fhghtF6iTJx_"
      },
      "source": [
        "#### Fractal Clustering :: Cluster_1_1_0"
      ]
    },
    {
      "cell_type": "code",
      "metadata": {
        "id": "uJR5lgIsTJyA",
        "outputId": "d73ae087-6d8a-4c8f-fb04-7bcbb1d73061",
        "colab": {
          "base_uri": "https://localhost:8080/",
          "height": 500
        }
      },
      "source": [
        "df_cluster1_1_0 = fractal_clustering(df_cluster1_1, cluster_label=0,n_clusters=3)\n",
        "print(df_cluster1_1_0.shape)\n",
        "\n",
        "for label in df_cluster1_1_0.cluster.unique():\n",
        "  print(\"label\", label, \"  shape\",df_cluster1_1_0[df_cluster1_1_0.cluster == label].shape)"
      ],
      "execution_count": 115,
      "outputs": [
        {
          "output_type": "stream",
          "text": [
            "Cosine kmeans:0.8177457309416645\n",
            "(9702, 8)\n",
            "label 2   shape (2781, 8)\n",
            "label 1   shape (4755, 8)\n",
            "label 0   shape (2166, 8)\n"
          ],
          "name": "stdout"
        },
        {
          "output_type": "stream",
          "text": [
            "/usr/local/lib/python3.6/dist-packages/ipykernel_launcher.py:16: SettingWithCopyWarning:\n",
            "\n",
            "\n",
            "A value is trying to be set on a copy of a slice from a DataFrame.\n",
            "Try using .loc[row_indexer,col_indexer] = value instead\n",
            "\n",
            "See the caveats in the documentation: https://pandas.pydata.org/pandas-docs/stable/user_guide/indexing.html#returning-a-view-versus-a-copy\n",
            "\n"
          ],
          "name": "stderr"
        },
        {
          "output_type": "display_data",
          "data": {
            "image/png": "[encoded data removed]",
            "text/plain": [
              "<Figure size 432x288 with 1 Axes>"
            ]
          },
          "metadata": {
            "tags": [],
            "needs_background": "light"
          }
        }
      ]
    },
    {
      "cell_type": "code",
      "metadata": {
        "id": "WB-eneT0TJyC",
        "outputId": "b672b060-f051-46ce-c901-ab3aa83dfd53",
        "colab": {
          "base_uri": "https://localhost:8080/",
          "height": 170
        }
      },
      "source": [
        "df_cluster1_1_0['cluster_label'] = df_cluster1_1_0['cluster'].apply(lambda x: rename_cluster_label(x,'cluster_1_1_0_'))\n",
        "df_cluster1_1_0.shape"
      ],
      "execution_count": 116,
      "outputs": [
        {
          "output_type": "stream",
          "text": [
            "/usr/local/lib/python3.6/dist-packages/ipykernel_launcher.py:1: SettingWithCopyWarning:\n",
            "\n",
            "\n",
            "A value is trying to be set on a copy of a slice from a DataFrame.\n",
            "Try using .loc[row_indexer,col_indexer] = value instead\n",
            "\n",
            "See the caveats in the documentation: https://pandas.pydata.org/pandas-docs/stable/user_guide/indexing.html#returning-a-view-versus-a-copy\n",
            "\n"
          ],
          "name": "stderr"
        },
        {
          "output_type": "execute_result",
          "data": {
            "text/plain": [
              "(9702, 9)"
            ]
          },
          "metadata": {
            "tags": []
          },
          "execution_count": 116
        }
      ]
    },
    {
      "cell_type": "code",
      "metadata": {
        "id": "hTvMIfeBTJyF"
      },
      "source": [
        "#print(final_data.shape)\n",
        "#final_data = pd.concat([final_data, df_cluster1_1_0])\n",
        "#print(final_data.shape)"
      ],
      "execution_count": 117,
      "outputs": []
    },
    {
      "cell_type": "markdown",
      "metadata": {
        "id": "c6wVrhNdTJyH"
      },
      "source": [
        "#### Fractal Clustering :: Cluster_1_1_1"
      ]
    },
    {
      "cell_type": "code",
      "metadata": {
        "id": "SDW48ME3TJyJ",
        "outputId": "59d204ac-5f71-443e-97e9-30de5fa0b97d",
        "colab": {
          "base_uri": "https://localhost:8080/",
          "height": 500
        }
      },
      "source": [
        "df_cluster1_1_1 = fractal_clustering(df_cluster1_1, cluster_label=1,n_clusters=3)\n",
        "print(df_cluster1_1_1.shape)\n",
        "\n",
        "for label in df_cluster1_1_1.cluster.unique():\n",
        "  print(\"label\", label, \"  shape\",df_cluster1_1_1[df_cluster1_1_1.cluster == label].shape)"
      ],
      "execution_count": 118,
      "outputs": [
        {
          "output_type": "stream",
          "text": [
            "Cosine kmeans:0.6831120849049042\n",
            "(6487, 8)\n",
            "label 1   shape (2353, 8)\n",
            "label 0   shape (2356, 8)\n",
            "label 2   shape (1778, 8)\n"
          ],
          "name": "stdout"
        },
        {
          "output_type": "stream",
          "text": [
            "/usr/local/lib/python3.6/dist-packages/ipykernel_launcher.py:16: SettingWithCopyWarning:\n",
            "\n",
            "\n",
            "A value is trying to be set on a copy of a slice from a DataFrame.\n",
            "Try using .loc[row_indexer,col_indexer] = value instead\n",
            "\n",
            "See the caveats in the documentation: https://pandas.pydata.org/pandas-docs/stable/user_guide/indexing.html#returning-a-view-versus-a-copy\n",
            "\n"
          ],
          "name": "stderr"
        },
        {
          "output_type": "display_data",
          "data": {
            "image/png": "[encoded data removed]",
            "text/plain": [
              "<Figure size 432x288 with 1 Axes>"
            ]
          },
          "metadata": {
            "tags": [],
            "needs_background": "light"
          }
        }
      ]
    },
    {
      "cell_type": "code",
      "metadata": {
        "id": "ntE0TyYgTJyL",
        "outputId": "1b99d305-1436-4628-bf6f-14b38e2ffcbc",
        "colab": {
          "base_uri": "https://localhost:8080/",
          "height": 170
        }
      },
      "source": [
        "df_cluster1_1_1['cluster_label'] = df_cluster1_1_1['cluster'].apply(lambda x: rename_cluster_label(x,'cluster_1_1_1_'))\n",
        "df_cluster1_1_1.shape"
      ],
      "execution_count": 119,
      "outputs": [
        {
          "output_type": "stream",
          "text": [
            "/usr/local/lib/python3.6/dist-packages/ipykernel_launcher.py:1: SettingWithCopyWarning:\n",
            "\n",
            "\n",
            "A value is trying to be set on a copy of a slice from a DataFrame.\n",
            "Try using .loc[row_indexer,col_indexer] = value instead\n",
            "\n",
            "See the caveats in the documentation: https://pandas.pydata.org/pandas-docs/stable/user_guide/indexing.html#returning-a-view-versus-a-copy\n",
            "\n"
          ],
          "name": "stderr"
        },
        {
          "output_type": "execute_result",
          "data": {
            "text/plain": [
              "(6487, 9)"
            ]
          },
          "metadata": {
            "tags": []
          },
          "execution_count": 119
        }
      ]
    },
    {
      "cell_type": "code",
      "metadata": {
        "id": "t8vpv36STJyN"
      },
      "source": [
        "#print(final_data.shape)\n",
        "#final_data = pd.concat([final_data, df_cluster0_1_1])\n",
        "#print(final_data.shape)"
      ],
      "execution_count": 120,
      "outputs": []
    },
    {
      "cell_type": "markdown",
      "metadata": {
        "id": "QvnoxjmeTJyP"
      },
      "source": [
        "#### Fractal Clustering :: Cluster_1_1_2"
      ]
    },
    {
      "cell_type": "code",
      "metadata": {
        "id": "wbsosDa1TJyP",
        "outputId": "bd480ae4-b887-4b97-f870-d9586958a36f",
        "colab": {
          "base_uri": "https://localhost:8080/",
          "height": 500
        }
      },
      "source": [
        "df_cluster1_1_2 = fractal_clustering(df_cluster1_1, cluster_label=2,n_clusters=3)\n",
        "print(df_cluster1_1_2.shape)\n",
        "\n",
        "for label in df_cluster1_1_2.cluster.unique():\n",
        "  print(\"label\", label, \"  shape\",df_cluster1_1_2[df_cluster1_1_2.cluster == label].shape)"
      ],
      "execution_count": 121,
      "outputs": [
        {
          "output_type": "stream",
          "text": [
            "Cosine kmeans:0.7238555092664088\n",
            "(12087, 8)\n",
            "label 0   shape (5892, 8)\n",
            "label 1   shape (1369, 8)\n",
            "label 2   shape (4826, 8)\n"
          ],
          "name": "stdout"
        },
        {
          "output_type": "stream",
          "text": [
            "/usr/local/lib/python3.6/dist-packages/ipykernel_launcher.py:16: SettingWithCopyWarning:\n",
            "\n",
            "\n",
            "A value is trying to be set on a copy of a slice from a DataFrame.\n",
            "Try using .loc[row_indexer,col_indexer] = value instead\n",
            "\n",
            "See the caveats in the documentation: https://pandas.pydata.org/pandas-docs/stable/user_guide/indexing.html#returning-a-view-versus-a-copy\n",
            "\n"
          ],
          "name": "stderr"
        },
        {
          "output_type": "display_data",
          "data": {
            "image/png": "[encoded data removed]",
            "text/plain": [
              "<Figure size 432x288 with 1 Axes>"
            ]
          },
          "metadata": {
            "tags": [],
            "needs_background": "light"
          }
        }
      ]
    },
    {
      "cell_type": "code",
      "metadata": {
        "id": "zxM7PkrZTJyR",
        "outputId": "dfc55a1e-5aa1-48b9-f230-6e6a80430df6",
        "colab": {
          "base_uri": "https://localhost:8080/",
          "height": 170
        }
      },
      "source": [
        "df_cluster1_1_2['cluster_label'] = df_cluster1_1_2['cluster'].apply(lambda x: rename_cluster_label(x,'cluster_1_1_2_'))\n",
        "df_cluster1_1_2.shape"
      ],
      "execution_count": 122,
      "outputs": [
        {
          "output_type": "stream",
          "text": [
            "/usr/local/lib/python3.6/dist-packages/ipykernel_launcher.py:1: SettingWithCopyWarning:\n",
            "\n",
            "\n",
            "A value is trying to be set on a copy of a slice from a DataFrame.\n",
            "Try using .loc[row_indexer,col_indexer] = value instead\n",
            "\n",
            "See the caveats in the documentation: https://pandas.pydata.org/pandas-docs/stable/user_guide/indexing.html#returning-a-view-versus-a-copy\n",
            "\n"
          ],
          "name": "stderr"
        },
        {
          "output_type": "execute_result",
          "data": {
            "text/plain": [
              "(12087, 9)"
            ]
          },
          "metadata": {
            "tags": []
          },
          "execution_count": 122
        }
      ]
    },
    {
      "cell_type": "code",
      "metadata": {
        "id": "prwuH2daTJyT"
      },
      "source": [
        "#print(final_data.shape)\n",
        "#final_data = pd.concat([final_data, df_cluster1_1_2])\n",
        "#print(final_data.shape)"
      ],
      "execution_count": 123,
      "outputs": []
    }
  ]
}