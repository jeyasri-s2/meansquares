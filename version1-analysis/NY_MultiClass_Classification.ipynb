{
  "nbformat": 4,
  "nbformat_minor": 0,
  "metadata": {
    "colab": {
      "name": "NY_MultiClass_Classification.ipynb",
      "provenance": [],
      "toc_visible": true,
      "authorship_tag": "ABX9TyP2fqKWYM7pY51GY4O6PE8O",
      "include_colab_link": true
    },
    "kernelspec": {
      "name": "python3",
      "display_name": "Python 3"
    }
  },
  "cells": [
    {
      "cell_type": "markdown",
      "metadata": {
        "id": "view-in-github",
        "colab_type": "text"
      },
      "source": [
        "<a href=\"https://colab.research.google.com/github/aarsanjani/meansquares/blob/master/NY_MultiClass_Classification.ipynb\" target=\"_parent\"><img src=\"https://colab.research.google.com/assets/colab-badge.svg\" alt=\"Open In Colab\"/></a>"
      ]
    },
    {
      "cell_type": "markdown",
      "metadata": {
        "id": "5ZoxViIlpeNw"
      },
      "source": [
        "#Workflow\n",
        "This colab uses the labeled NY data for multi class classification of super spread. \n"
      ]
    },
    {
      "cell_type": "code",
      "metadata": {
        "id": "xcr5OZlldZZz",
        "outputId": "c0cd93ea-cbd3-4a4b-cb99-2817f3548a73",
        "colab": {
          "base_uri": "https://localhost:8080/",
          "height": 34
        }
      },
      "source": [
        "from google.colab import drive\n",
        "drive.mount('/content/drive')"
      ],
      "execution_count": null,
      "outputs": [
        {
          "output_type": "stream",
          "text": [
            "Mounted at /content/drive\n"
          ],
          "name": "stdout"
        }
      ]
    },
    {
      "cell_type": "code",
      "metadata": {
        "id": "cB7woG2seHLG"
      },
      "source": [
        "import pandas as pd\n",
        "\n",
        "from tqdm import tqdm\n",
        "import seaborn as sns\n",
        "import numpy as np\n",
        "import matplotlib.pyplot as plt\n",
        "import os\n",
        "from sklearn.model_selection import train_test_split, KFold, cross_val_score, GridSearchCV, TimeSeriesSplit\n",
        "from sklearn.metrics import classification_report, confusion_matrix, accuracy_score, mean_squared_error\n",
        "from sklearn.multiclass import OneVsRestClassifier"
      ],
      "execution_count": null,
      "outputs": []
    },
    {
      "cell_type": "markdown",
      "metadata": {
        "id": "9qK_nXzveHan"
      },
      "source": [
        "# Load Data"
      ]
    },
    {
      "cell_type": "code",
      "metadata": {
        "id": "2d6rkqakeHao",
        "outputId": "8d94c229-401d-4ea3-cb6c-914a7aa77994",
        "colab": {
          "base_uri": "https://localhost:8080/",
          "height": 333
        }
      },
      "source": [
        "NY_labeled_data = pd.read_csv('/content/drive/Shared drives/CMPE 295- Master Project/Covid19-data/NY_labeledData_Sep26.csv',low_memory=False)\n",
        "NY_labeled_data.head()"
      ],
      "execution_count": null,
      "outputs": [
        {
          "output_type": "execute_result",
          "data": {
            "text/html": [
              "<div>\n",
              "<style scoped>\n",
              "    .dataframe tbody tr th:only-of-type {\n",
              "        vertical-align: middle;\n",
              "    }\n",
              "\n",
              "    .dataframe tbody tr th {\n",
              "        vertical-align: top;\n",
              "    }\n",
              "\n",
              "    .dataframe thead th {\n",
              "        text-align: right;\n",
              "    }\n",
              "</style>\n",
              "<table border=\"1\" class=\"dataframe\">\n",
              "  <thead>\n",
              "    <tr style=\"text-align: right;\">\n",
              "      <th></th>\n",
              "      <th>Date</th>\n",
              "      <th>fips_x</th>\n",
              "      <th>County Name</th>\n",
              "      <th>retail and recreation</th>\n",
              "      <th>grocery and pharmacy</th>\n",
              "      <th>parks</th>\n",
              "      <th>transit stations</th>\n",
              "      <th>workplaces</th>\n",
              "      <th>residential</th>\n",
              "      <th>driving</th>\n",
              "      <th>m50</th>\n",
              "      <th>m50_index</th>\n",
              "      <th>population_density</th>\n",
              "      <th>mask_rule_active</th>\n",
              "      <th>mask_wearing_percent</th>\n",
              "      <th>New cases</th>\n",
              "      <th>rolling_avg_new_cases</th>\n",
              "      <th>population</th>\n",
              "      <th>label</th>\n",
              "      <th>growth_label</th>\n",
              "      <th>New Cases/1k population</th>\n",
              "      <th>growth_label_1k</th>\n",
              "      <th>growth_1k_pop</th>\n",
              "    </tr>\n",
              "  </thead>\n",
              "  <tbody>\n",
              "    <tr>\n",
              "      <th>0</th>\n",
              "      <td>2020-03-01</td>\n",
              "      <td>36001</td>\n",
              "      <td>Albany County</td>\n",
              "      <td>10.0</td>\n",
              "      <td>13.0</td>\n",
              "      <td>19.0</td>\n",
              "      <td>4.0</td>\n",
              "      <td>7.0</td>\n",
              "      <td>-1.0</td>\n",
              "      <td>-4.87</td>\n",
              "      <td>2.616</td>\n",
              "      <td>54</td>\n",
              "      <td>584.364958</td>\n",
              "      <td>0</td>\n",
              "      <td>0.0</td>\n",
              "      <td>0</td>\n",
              "      <td>0.0</td>\n",
              "      <td>305506.0</td>\n",
              "      <td>LessSpread</td>\n",
              "      <td>flat_growth</td>\n",
              "      <td>0.0</td>\n",
              "      <td>flat_growth</td>\n",
              "      <td>0.0</td>\n",
              "    </tr>\n",
              "    <tr>\n",
              "      <th>1</th>\n",
              "      <td>2020-03-01</td>\n",
              "      <td>36123</td>\n",
              "      <td>Yates County</td>\n",
              "      <td>31.0</td>\n",
              "      <td>33.0</td>\n",
              "      <td>0.0</td>\n",
              "      <td>0.0</td>\n",
              "      <td>7.0</td>\n",
              "      <td>0.0</td>\n",
              "      <td>28.14</td>\n",
              "      <td>5.004</td>\n",
              "      <td>72</td>\n",
              "      <td>73.676584</td>\n",
              "      <td>0</td>\n",
              "      <td>0.0</td>\n",
              "      <td>0</td>\n",
              "      <td>0.0</td>\n",
              "      <td>24913.0</td>\n",
              "      <td>LessSpread</td>\n",
              "      <td>flat_growth</td>\n",
              "      <td>0.0</td>\n",
              "      <td>flat_growth</td>\n",
              "      <td>0.0</td>\n",
              "    </tr>\n",
              "    <tr>\n",
              "      <th>2</th>\n",
              "      <td>2020-03-01</td>\n",
              "      <td>36021</td>\n",
              "      <td>Columbia County</td>\n",
              "      <td>21.0</td>\n",
              "      <td>4.0</td>\n",
              "      <td>0.0</td>\n",
              "      <td>25.0</td>\n",
              "      <td>4.0</td>\n",
              "      <td>0.0</td>\n",
              "      <td>19.75</td>\n",
              "      <td>5.337</td>\n",
              "      <td>58</td>\n",
              "      <td>93.682154</td>\n",
              "      <td>0</td>\n",
              "      <td>0.0</td>\n",
              "      <td>0</td>\n",
              "      <td>0.0</td>\n",
              "      <td>59461.0</td>\n",
              "      <td>LessSpread</td>\n",
              "      <td>flat_growth</td>\n",
              "      <td>0.0</td>\n",
              "      <td>flat_growth</td>\n",
              "      <td>0.0</td>\n",
              "    </tr>\n",
              "    <tr>\n",
              "      <th>3</th>\n",
              "      <td>2020-03-01</td>\n",
              "      <td>36095</td>\n",
              "      <td>Schoharie County</td>\n",
              "      <td>26.0</td>\n",
              "      <td>9.0</td>\n",
              "      <td>0.0</td>\n",
              "      <td>0.0</td>\n",
              "      <td>13.0</td>\n",
              "      <td>0.0</td>\n",
              "      <td>24.47</td>\n",
              "      <td>2.137</td>\n",
              "      <td>27</td>\n",
              "      <td>49.852047</td>\n",
              "      <td>0</td>\n",
              "      <td>0.0</td>\n",
              "      <td>0</td>\n",
              "      <td>0.0</td>\n",
              "      <td>30999.0</td>\n",
              "      <td>LessSpread</td>\n",
              "      <td>flat_growth</td>\n",
              "      <td>0.0</td>\n",
              "      <td>flat_growth</td>\n",
              "      <td>0.0</td>\n",
              "    </tr>\n",
              "    <tr>\n",
              "      <th>4</th>\n",
              "      <td>2020-03-01</td>\n",
              "      <td>36033</td>\n",
              "      <td>Franklin County</td>\n",
              "      <td>28.0</td>\n",
              "      <td>27.0</td>\n",
              "      <td>0.0</td>\n",
              "      <td>0.0</td>\n",
              "      <td>7.0</td>\n",
              "      <td>0.0</td>\n",
              "      <td>10.82</td>\n",
              "      <td>2.205</td>\n",
              "      <td>56</td>\n",
              "      <td>30.704920</td>\n",
              "      <td>0</td>\n",
              "      <td>0.0</td>\n",
              "      <td>0</td>\n",
              "      <td>0.0</td>\n",
              "      <td>50022.0</td>\n",
              "      <td>LessSpread</td>\n",
              "      <td>flat_growth</td>\n",
              "      <td>0.0</td>\n",
              "      <td>flat_growth</td>\n",
              "      <td>0.0</td>\n",
              "    </tr>\n",
              "  </tbody>\n",
              "</table>\n",
              "</div>"
            ],
            "text/plain": [
              "         Date  fips_x  ... growth_label_1k  growth_1k_pop\n",
              "0  2020-03-01   36001  ...     flat_growth            0.0\n",
              "1  2020-03-01   36123  ...     flat_growth            0.0\n",
              "2  2020-03-01   36021  ...     flat_growth            0.0\n",
              "3  2020-03-01   36095  ...     flat_growth            0.0\n",
              "4  2020-03-01   36033  ...     flat_growth            0.0\n",
              "\n",
              "[5 rows x 23 columns]"
            ]
          },
          "metadata": {
            "tags": []
          },
          "execution_count": 4
        }
      ]
    },
    {
      "cell_type": "code",
      "metadata": {
        "id": "No89yPE6eHat",
        "outputId": "149b2329-b93c-4771-d021-071c4613276f",
        "colab": {
          "base_uri": "https://localhost:8080/",
          "height": 134
        }
      },
      "source": [
        "NY_labeled_data.columns"
      ],
      "execution_count": null,
      "outputs": [
        {
          "output_type": "execute_result",
          "data": {
            "text/plain": [
              "Index(['Date', 'fips_x', 'County Name', 'retail and recreation',\n",
              "       'grocery and pharmacy', 'parks', 'transit stations', 'workplaces',\n",
              "       'residential', 'driving', 'm50', 'm50_index', 'population_density',\n",
              "       'mask_rule_active', 'mask_wearing_percent', 'New cases',\n",
              "       'rolling_avg_new_cases', 'population', 'label', 'growth_label',\n",
              "       'New Cases/1k population', 'growth_label_1k', 'growth_1k_pop'],\n",
              "      dtype='object')"
            ]
          },
          "metadata": {
            "tags": []
          },
          "execution_count": 5
        }
      ]
    },
    {
      "cell_type": "markdown",
      "metadata": {
        "id": "L3BOUxkLqfOU"
      },
      "source": [
        "# Training and Test data"
      ]
    },
    {
      "cell_type": "code",
      "metadata": {
        "id": "XA83R9ajqkgM"
      },
      "source": [
        "NY_labeled_data[\"label\"] = NY_labeled_data[\"label\"].astype('category')\n",
        "NY_labeled_data['spread_cat']= NY_labeled_data[\"label\"].cat.codes"
      ],
      "execution_count": null,
      "outputs": []
    },
    {
      "cell_type": "code",
      "metadata": {
        "id": "mco4Ks4MoYLV",
        "outputId": "a7243c33-3262-4b2f-c3b0-193712cbeaf2",
        "colab": {
          "base_uri": "https://localhost:8080/",
          "height": 34
        }
      },
      "source": [
        "NY_labeled_data.label.unique() "
      ],
      "execution_count": null,
      "outputs": [
        {
          "output_type": "execute_result",
          "data": {
            "text/plain": [
              "array(['LessSpread', 'SuperSpread', 'Spread', nan], dtype=object)"
            ]
          },
          "metadata": {
            "tags": []
          },
          "execution_count": 12
        }
      ]
    },
    {
      "cell_type": "code",
      "metadata": {
        "id": "8i_n0_SjhGxb"
      },
      "source": [
        "feature_cols= ['retail and recreation',\n",
        "       'grocery and pharmacy', 'parks', 'transit stations', 'workplaces',\n",
        "       'residential', 'driving', 'm50', 'm50_index', 'population_density',\n",
        "       'mask_rule_active', 'mask_wearing_percent', 'New cases',\n",
        "       'rolling_avg_new_cases']\n",
        "target= [ 'spread_cat']\n",
        "\n"
      ],
      "execution_count": null,
      "outputs": []
    },
    {
      "cell_type": "code",
      "metadata": {
        "id": "w7i4bk7tfAuD"
      },
      "source": [
        "X = NY_labeled_data[feature_cols].values\n",
        "Y = NY_labeled_data[target].values"
      ],
      "execution_count": null,
      "outputs": []
    },
    {
      "cell_type": "code",
      "metadata": {
        "id": "xyeDAFqksanw"
      },
      "source": [
        "X_train, X_test, Y_train, Y_test = train_test_split(X, Y, test_size=0.3, random_state=1) # 70% training and 30% test"
      ],
      "execution_count": null,
      "outputs": []
    },
    {
      "cell_type": "markdown",
      "metadata": {
        "id": "qAwIJHBqrlll"
      },
      "source": [
        "# Random Forest"
      ]
    },
    {
      "cell_type": "markdown",
      "metadata": {
        "id": "VghnJY7Eu5qL"
      },
      "source": [
        "## Model"
      ]
    },
    {
      "cell_type": "code",
      "metadata": {
        "id": "n6SknrsRrnz0",
        "outputId": "ca600546-3c45-4e7b-8c5b-8d4da0d78e3c",
        "colab": {
          "base_uri": "https://localhost:8080/",
          "height": 205
        }
      },
      "source": [
        "from sklearn.ensemble import RandomForestClassifier\n",
        "rf_classifier = RandomForestClassifier()\n",
        "rf_classifier.fit(X_train, Y_train)"
      ],
      "execution_count": null,
      "outputs": [
        {
          "output_type": "stream",
          "text": [
            "/usr/local/lib/python3.6/dist-packages/ipykernel_launcher.py:3: DataConversionWarning: A column-vector y was passed when a 1d array was expected. Please change the shape of y to (n_samples,), for example using ravel().\n",
            "  This is separate from the ipykernel package so we can avoid doing imports until\n"
          ],
          "name": "stderr"
        },
        {
          "output_type": "execute_result",
          "data": {
            "text/plain": [
              "RandomForestClassifier(bootstrap=True, ccp_alpha=0.0, class_weight=None,\n",
              "                       criterion='gini', max_depth=None, max_features='auto',\n",
              "                       max_leaf_nodes=None, max_samples=None,\n",
              "                       min_impurity_decrease=0.0, min_impurity_split=None,\n",
              "                       min_samples_leaf=1, min_samples_split=2,\n",
              "                       min_weight_fraction_leaf=0.0, n_estimators=100,\n",
              "                       n_jobs=None, oob_score=False, random_state=None,\n",
              "                       verbose=0, warm_start=False)"
            ]
          },
          "metadata": {
            "tags": []
          },
          "execution_count": 21
        }
      ]
    },
    {
      "cell_type": "code",
      "metadata": {
        "id": "syV1kgczs4QX",
        "outputId": "daa732fe-7929-43c0-fa06-e860b049e67c",
        "colab": {
          "base_uri": "https://localhost:8080/",
          "height": 34
        }
      },
      "source": [
        "Y_pred = rf_classifier.predict(X_test)"
      ],
      "execution_count": null,
      "outputs": [
        {
          "output_type": "stream",
          "text": [
            "Random Forest Accuracy: 1.0\n"
          ],
          "name": "stdout"
        }
      ]
    },
    {
      "cell_type": "markdown",
      "metadata": {
        "id": "5oboWiI1uIrU"
      },
      "source": [
        "## Accuracy"
      ]
    },
    {
      "cell_type": "code",
      "metadata": {
        "id": "gn1EP-hVuHy7"
      },
      "source": [
        "accu_score = accuracy_score(Y_test, Y_pred)\n",
        "print(\"Random Forest Accuracy: \" + str(accu_score))"
      ],
      "execution_count": null,
      "outputs": []
    },
    {
      "cell_type": "code",
      "metadata": {
        "id": "c7Z1yrn3tvAf",
        "outputId": "494e67bc-08d8-4aae-8086-5f82c8f47d6b",
        "colab": {
          "base_uri": "https://localhost:8080/",
          "height": 84
        }
      },
      "source": [
        "conf_mat = confusion_matrix(Y_test, Y_pred)\n",
        "print(conf_mat)"
      ],
      "execution_count": null,
      "outputs": [
        {
          "output_type": "stream",
          "text": [
            "[[   4    0    0    0]\n",
            " [   0 2882    0    0]\n",
            " [   0    0   20    0]\n",
            " [   0    0    0   36]]\n"
          ],
          "name": "stdout"
        }
      ]
    },
    {
      "cell_type": "code",
      "metadata": {
        "id": "cQ8R4Kp7t4vc",
        "outputId": "c7720db1-3192-4473-b5ef-533a52769577",
        "colab": {
          "base_uri": "https://localhost:8080/",
          "height": 332
        }
      },
      "source": [
        "# Visualise classical Confusion M0atrix\n",
        "from sklearn.metrics import confusion_matrix\n",
        "CM = confusion_matrix(Y_test, Y_pred)\n",
        "print(conf_mat)\n",
        "\n",
        "# Visualize it as a heatmap\n",
        "import seaborn\n",
        "seaborn.heatmap(CM)\n",
        "plt.show()"
      ],
      "execution_count": null,
      "outputs": [
        {
          "output_type": "stream",
          "text": [
            "[[   4    0    0    0]\n",
            " [   0 2882    0    0]\n",
            " [   0    0   20    0]\n",
            " [   0    0    0   36]]\n"
          ],
          "name": "stdout"
        },
        {
          "output_type": "display_data",
          "data": {
            "image/png": "[encoded data removed]",
            "text/plain": [
              "<Figure size 432x288 with 2 Axes>"
            ]
          },
          "metadata": {
            "tags": [],
            "needs_background": "light"
          }
        }
      ]
    },
    {
      "cell_type": "markdown",
      "metadata": {
        "id": "L96RBaZKubc9"
      },
      "source": [
        "# KNN"
      ]
    },
    {
      "cell_type": "markdown",
      "metadata": {
        "id": "JT1_0fXXu7pE"
      },
      "source": [
        "## Model"
      ]
    },
    {
      "cell_type": "code",
      "metadata": {
        "id": "OHtyYcYIudlU",
        "outputId": "32946941-8366-4fda-ed77-95e96818a96e",
        "colab": {
          "base_uri": "https://localhost:8080/",
          "height": 121
        }
      },
      "source": [
        "from sklearn.neighbors import KNeighborsClassifier\n",
        "knn_classifier = KNeighborsClassifier()\n",
        "knn_classifier.fit(X_train, Y_train)"
      ],
      "execution_count": null,
      "outputs": [
        {
          "output_type": "stream",
          "text": [
            "/usr/local/lib/python3.6/dist-packages/ipykernel_launcher.py:3: DataConversionWarning: A column-vector y was passed when a 1d array was expected. Please change the shape of y to (n_samples, ), for example using ravel().\n",
            "  This is separate from the ipykernel package so we can avoid doing imports until\n"
          ],
          "name": "stderr"
        },
        {
          "output_type": "execute_result",
          "data": {
            "text/plain": [
              "KNeighborsClassifier(algorithm='auto', leaf_size=30, metric='minkowski',\n",
              "                     metric_params=None, n_jobs=None, n_neighbors=5, p=2,\n",
              "                     weights='uniform')"
            ]
          },
          "metadata": {
            "tags": []
          },
          "execution_count": 35
        }
      ]
    },
    {
      "cell_type": "code",
      "metadata": {
        "id": "E3q318QXurG8"
      },
      "source": [
        "Y_pred = knn_classifier.predict(X_test)"
      ],
      "execution_count": null,
      "outputs": []
    },
    {
      "cell_type": "markdown",
      "metadata": {
        "id": "zndqRbVHu1WB"
      },
      "source": [
        "## Accuracy"
      ]
    },
    {
      "cell_type": "code",
      "metadata": {
        "id": "trXA6_RQu1WD",
        "outputId": "6f306260-f18a-4e36-a747-493baab7ff05",
        "colab": {
          "base_uri": "https://localhost:8080/",
          "height": 34
        }
      },
      "source": [
        "accu_score = accuracy_score(Y_test, Y_pred)\n",
        "print(\"KNN Accuracy: \" + str(accu_score))"
      ],
      "execution_count": null,
      "outputs": [
        {
          "output_type": "stream",
          "text": [
            "Random Forest Accuracy: 0.9840244731475187\n"
          ],
          "name": "stdout"
        }
      ]
    },
    {
      "cell_type": "code",
      "metadata": {
        "id": "TskRpTo9u1WJ",
        "outputId": "f8826241-8445-4ea1-ab61-5ec0c68321c1",
        "colab": {
          "base_uri": "https://localhost:8080/",
          "height": 84
        }
      },
      "source": [
        "conf_mat = confusion_matrix(Y_test, Y_pred)\n",
        "print(conf_mat)"
      ],
      "execution_count": null,
      "outputs": [
        {
          "output_type": "stream",
          "text": [
            "[[   0    4    0    0]\n",
            " [   2 2878    1    1]\n",
            " [   0   12    8    0]\n",
            " [   0   27    0    9]]\n"
          ],
          "name": "stdout"
        }
      ]
    },
    {
      "cell_type": "code",
      "metadata": {
        "id": "i0OOThq4u1WP",
        "outputId": "9eef4dd6-03b4-40ef-992e-a3f33e674cbf",
        "colab": {
          "base_uri": "https://localhost:8080/",
          "height": 332
        }
      },
      "source": [
        "# Visualise classical Confusion M0atrix\n",
        "from sklearn.metrics import confusion_matrix\n",
        "CM = confusion_matrix(Y_test, Y_pred)\n",
        "print(conf_mat)\n",
        "\n",
        "# Visualize it as a heatmap\n",
        "import seaborn\n",
        "seaborn.heatmap(CM)\n",
        "plt.show()"
      ],
      "execution_count": null,
      "outputs": [
        {
          "output_type": "stream",
          "text": [
            "[[   0    4    0    0]\n",
            " [   2 2878    1    1]\n",
            " [   0   12    8    0]\n",
            " [   0   27    0    9]]\n"
          ],
          "name": "stdout"
        },
        {
          "output_type": "display_data",
          "data": {
            "image/png": "[encoded data removed]",
            "text/plain": [
              "<Figure size 432x288 with 2 Axes>"
            ]
          },
          "metadata": {
            "tags": [],
            "needs_background": "light"
          }
        }
      ]
    },
    {
      "cell_type": "markdown",
      "metadata": {
        "id": "mcGU7V5XaXOt"
      },
      "source": [
        "# Ensemble of Binary Classifiers (One vs Rest)"
      ]
    },
    {
      "cell_type": "markdown",
      "metadata": {
        "id": "fnmpnQDpkSI9"
      },
      "source": [
        "##XGBoost"
      ]
    },
    {
      "cell_type": "markdown",
      "metadata": {
        "id": "D-l5GvhuwB3W"
      },
      "source": [
        "### Model"
      ]
    },
    {
      "cell_type": "code",
      "metadata": {
        "id": "Lp9XP6J4bGAF",
        "outputId": "de39330c-54a7-4dbb-b81d-eb328fc7cad2",
        "colab": {
          "base_uri": "https://localhost:8080/",
          "height": 252
        }
      },
      "source": [
        "from xgboost import XGBClassifier\n",
        "\n",
        "xgb_classifier = OneVsRestClassifier(XGBClassifier())\n",
        "xgb_classifier.fit(X_train, Y_train)"
      ],
      "execution_count": null,
      "outputs": [
        {
          "output_type": "execute_result",
          "data": {
            "text/plain": [
              "OneVsRestClassifier(estimator=XGBClassifier(base_score=0.5, booster='gbtree',\n",
              "                                            colsample_bylevel=1,\n",
              "                                            colsample_bynode=1,\n",
              "                                            colsample_bytree=1, gamma=0,\n",
              "                                            learning_rate=0.1, max_delta_step=0,\n",
              "                                            max_depth=3, min_child_weight=1,\n",
              "                                            missing=None, n_estimators=100,\n",
              "                                            n_jobs=1, nthread=None,\n",
              "                                            objective='binary:logistic',\n",
              "                                            random_state=0, reg_alpha=0,\n",
              "                                            reg_lambda=1, scale_pos_weight=1,\n",
              "                                            seed=None, silent=None, subsample=1,\n",
              "                                            verbosity=1),\n",
              "                    n_jobs=None)"
            ]
          },
          "metadata": {
            "tags": []
          },
          "execution_count": 42
        }
      ]
    },
    {
      "cell_type": "code",
      "metadata": {
        "id": "gnsYGrHzvswB"
      },
      "source": [
        "Y_pred = xgb_classifier.predict(X_test)"
      ],
      "execution_count": null,
      "outputs": []
    },
    {
      "cell_type": "markdown",
      "metadata": {
        "id": "4zdeDe5_v9os"
      },
      "source": [
        "### Accuracy"
      ]
    },
    {
      "cell_type": "code",
      "metadata": {
        "id": "mlldZdfgv9ow",
        "outputId": "50022b86-17ec-430a-ae50-863f46f36bc6",
        "colab": {
          "base_uri": "https://localhost:8080/",
          "height": 34
        }
      },
      "source": [
        "accu_score = accuracy_score(Y_test, Y_pred)\n",
        "print(\"XGBoost Accuracy: \" + str(accu_score))"
      ],
      "execution_count": null,
      "outputs": [
        {
          "output_type": "stream",
          "text": [
            "Random Forest Accuracy: 0.9830047586675731\n"
          ],
          "name": "stdout"
        }
      ]
    },
    {
      "cell_type": "code",
      "metadata": {
        "id": "o5E1gp7kv9o-",
        "outputId": "c1bff61b-81d9-4fb7-ff48-043292e218b2",
        "colab": {
          "base_uri": "https://localhost:8080/",
          "height": 84
        }
      },
      "source": [
        "conf_mat = confusion_matrix(Y_test, Y_pred)\n",
        "print(conf_mat)"
      ],
      "execution_count": null,
      "outputs": [
        {
          "output_type": "stream",
          "text": [
            "[[   0    4    0    0]\n",
            " [   0 2880    1    1]\n",
            " [   0   19    1    0]\n",
            " [   0   25    0   11]]\n"
          ],
          "name": "stdout"
        }
      ]
    },
    {
      "cell_type": "code",
      "metadata": {
        "id": "KyNnZZgpv9pJ",
        "outputId": "1adc9188-1985-4453-8a9d-9792fc2d3582",
        "colab": {
          "base_uri": "https://localhost:8080/",
          "height": 332
        }
      },
      "source": [
        "# Visualise classical Confusion M0atrix\n",
        "from sklearn.metrics import confusion_matrix\n",
        "CM = confusion_matrix(Y_test, Y_pred)\n",
        "print(conf_mat)\n",
        "\n",
        "# Visualize it as a heatmap\n",
        "import seaborn\n",
        "seaborn.heatmap(CM)\n",
        "plt.show()"
      ],
      "execution_count": null,
      "outputs": [
        {
          "output_type": "stream",
          "text": [
            "[[   0    4    0    0]\n",
            " [   0 2880    1    1]\n",
            " [   0   19    1    0]\n",
            " [   0   25    0   11]]\n"
          ],
          "name": "stdout"
        },
        {
          "output_type": "display_data",
          "data": {
            "image/png": "[encoded data removed]",
            "text/plain": [
              "<Figure size 432x288 with 2 Axes>"
            ]
          },
          "metadata": {
            "tags": [],
            "needs_background": "light"
          }
        }
      ]
    },
    {
      "cell_type": "markdown",
      "metadata": {
        "id": "sl8HMjZhweaY"
      },
      "source": [
        "## SVM"
      ]
    },
    {
      "cell_type": "markdown",
      "metadata": {
        "id": "9D0zzmSNwiVE"
      },
      "source": [
        "### Model"
      ]
    },
    {
      "cell_type": "code",
      "metadata": {
        "id": "cd9f5MFfwgvd",
        "outputId": "7419c9dc-d1be-4b65-f543-471b4f776e10",
        "colab": {
          "base_uri": "https://localhost:8080/",
          "height": 138
        }
      },
      "source": [
        "from sklearn.svm import SVC\n",
        "\n",
        "svm_classifier = SVC(decision_function_shape='ovr')\n",
        "svm_classifier.fit(X_train, Y_train)\n"
      ],
      "execution_count": 47,
      "outputs": [
        {
          "output_type": "stream",
          "text": [
            "/usr/local/lib/python3.6/dist-packages/sklearn/utils/validation.py:760: DataConversionWarning: A column-vector y was passed when a 1d array was expected. Please change the shape of y to (n_samples, ), for example using ravel().\n",
            "  y = column_or_1d(y, warn=True)\n"
          ],
          "name": "stderr"
        },
        {
          "output_type": "execute_result",
          "data": {
            "text/plain": [
              "SVC(C=1.0, break_ties=False, cache_size=200, class_weight=None, coef0=0.0,\n",
              "    decision_function_shape='ovr', degree=3, gamma='scale', kernel='rbf',\n",
              "    max_iter=-1, probability=False, random_state=None, shrinking=True,\n",
              "    tol=0.001, verbose=False)"
            ]
          },
          "metadata": {
            "tags": []
          },
          "execution_count": 47
        }
      ]
    },
    {
      "cell_type": "code",
      "metadata": {
        "id": "43uTLyC3zLwW"
      },
      "source": [
        "Y_pred = svm_classifier.predict(X_test)"
      ],
      "execution_count": 48,
      "outputs": []
    },
    {
      "cell_type": "markdown",
      "metadata": {
        "id": "X36c2-bEzUH2"
      },
      "source": [
        "### Accuracy"
      ]
    },
    {
      "cell_type": "code",
      "metadata": {
        "id": "mODqw9BFzUH5",
        "outputId": "0b4e697d-697a-4259-cb58-e0138828ca8f",
        "colab": {
          "base_uri": "https://localhost:8080/",
          "height": 34
        }
      },
      "source": [
        "accu_score = accuracy_score(Y_test, Y_pred)\n",
        "print(\"SVM Accuracy: \" + str(accu_score))"
      ],
      "execution_count": 49,
      "outputs": [
        {
          "output_type": "stream",
          "text": [
            "SVM Accuracy: 0.9796057104010877\n"
          ],
          "name": "stdout"
        }
      ]
    },
    {
      "cell_type": "code",
      "metadata": {
        "id": "-yiHkVCtzUIE",
        "outputId": "64bcb9df-caab-453b-ab9c-e12d7e46466d",
        "colab": {
          "base_uri": "https://localhost:8080/",
          "height": 84
        }
      },
      "source": [
        "conf_mat = confusion_matrix(Y_test, Y_pred)\n",
        "print(conf_mat)"
      ],
      "execution_count": 50,
      "outputs": [
        {
          "output_type": "stream",
          "text": [
            "[[   0    4    0    0]\n",
            " [   0 2882    0    0]\n",
            " [   0   20    0    0]\n",
            " [   0   36    0    0]]\n"
          ],
          "name": "stdout"
        }
      ]
    },
    {
      "cell_type": "code",
      "metadata": {
        "id": "PVqwnzwQzUII",
        "outputId": "174fdd7c-9c95-41b6-a131-a2ed987d5046",
        "colab": {
          "base_uri": "https://localhost:8080/",
          "height": 332
        }
      },
      "source": [
        "# Visualise classical Confusion M0atrix\n",
        "from sklearn.metrics import confusion_matrix\n",
        "CM = confusion_matrix(Y_test, Y_pred)\n",
        "print(conf_mat)\n",
        "\n",
        "# Visualize it as a heatmap\n",
        "import seaborn\n",
        "seaborn.heatmap(CM)\n",
        "plt.show()"
      ],
      "execution_count": 51,
      "outputs": [
        {
          "output_type": "stream",
          "text": [
            "[[   0    4    0    0]\n",
            " [   0 2882    0    0]\n",
            " [   0   20    0    0]\n",
            " [   0   36    0    0]]\n"
          ],
          "name": "stdout"
        },
        {
          "output_type": "display_data",
          "data": {
            "image/png": "[encoded data removed]",
            "text/plain": [
              "<Figure size 432x288 with 2 Axes>"
            ]
          },
          "metadata": {
            "tags": [],
            "needs_background": "light"
          }
        }
      ]
    },
    {
      "cell_type": "markdown",
      "metadata": {
        "id": "i1Qlqcvyisig"
      },
      "source": [
        "# References\n",
        "\n",
        "* https://machinelearningmastery.com/multi-label-classification-with-deep-learning/\n",
        "* https://medium.com/@b.terryjack/tips-and-tricks-for-multi-class-classification-c184ae1c8ffc "
      ]
    }
  ]
}