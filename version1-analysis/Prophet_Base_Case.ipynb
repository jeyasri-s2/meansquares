{
  "nbformat": 4,
  "nbformat_minor": 0,
  "metadata": {
    "colab": {
      "name": "Prophet Base Case.ipynb",
      "provenance": [],
      "include_colab_link": true
    },
    "kernelspec": {
      "name": "python3",
      "display_name": "Python 3"
    }
  },
  "cells": [
    {
      "cell_type": "markdown",
      "metadata": {
        "id": "view-in-github",
        "colab_type": "text"
      },
      "source": [
        "<a href=\"https://colab.research.google.com/github/aarsanjani/meansquares/blob/master/Prophet_Base_Case.ipynb\" target=\"_parent\"><img src=\"https://colab.research.google.com/assets/colab-badge.svg\" alt=\"Open In Colab\"/></a>"
      ]
    },
    {
      "cell_type": "markdown",
      "metadata": {
        "id": "8vczEB8AR-SG",
        "colab_type": "text"
      },
      "source": [
        "# Base Case for Prophet data on New York City"
      ]
    },
    {
      "cell_type": "markdown",
      "metadata": {
        "id": "ELzB3aIASWjT",
        "colab_type": "text"
      },
      "source": [
        "## Imports"
      ]
    },
    {
      "cell_type": "code",
      "metadata": {
        "id": "DVydUHqCR4qY",
        "colab_type": "code",
        "colab": {
          "base_uri": "https://localhost:8080/",
          "height": 122
        },
        "outputId": "e46a45ce-cc82-468a-e9b1-1b1969365f2a"
      },
      "source": [
        "from google.colab import drive\n",
        "drive.mount('/content/drive')"
      ],
      "execution_count": 1,
      "outputs": [
        {
          "output_type": "stream",
          "text": [
            "Go to this URL in a browser: https://accounts.google.com/o/oauth2/auth?client_id=947318989803-6bn6qk8qdgf4n4g3pfee6491hc0brc4i.apps.googleusercontent.com&redirect_uri=urn%3aietf%3awg%3aoauth%3a2.0%3aoob&scope=email%20https%3a%2f%2fwww.googleapis.com%2fauth%2fdocs.test%20https%3a%2f%2fwww.googleapis.com%2fauth%2fdrive%20https%3a%2f%2fwww.googleapis.com%2fauth%2fdrive.photos.readonly%20https%3a%2f%2fwww.googleapis.com%2fauth%2fpeopleapi.readonly&response_type=code\n",
            "\n",
            "Enter your authorization code:\n",
            "··········\n",
            "Mounted at /content/drive\n"
          ],
          "name": "stdout"
        }
      ]
    },
    {
      "cell_type": "code",
      "metadata": {
        "id": "jDvldZdASZAL",
        "colab_type": "code",
        "colab": {}
      },
      "source": [
        "import pandas as pd\n",
        "from fbprophet import Prophet\n",
        "from fbprophet.plot import plot_plotly, plot_components_plotly\n",
        "from sklearn import preprocessing\n",
        "from sklearn.model_selection import train_test_split\n",
        "from fbprophet.diagnostics import cross_validation\n",
        "from fbprophet.diagnostics import performance_metrics\n",
        "from fbprophet.plot import plot_cross_validation_metric"
      ],
      "execution_count": 2,
      "outputs": []
    },
    {
      "cell_type": "markdown",
      "metadata": {
        "id": "vn7un89NSi2K",
        "colab_type": "text"
      },
      "source": [
        "## Load Data and Preprocessing"
      ]
    },
    {
      "cell_type": "markdown",
      "metadata": {
        "id": "Gt4nhnvmU7Rl",
        "colab_type": "text"
      },
      "source": [
        "### August 27th Data"
      ]
    },
    {
      "cell_type": "markdown",
      "metadata": {
        "id": "b6I6YjcGVPf4",
        "colab_type": "text"
      },
      "source": [
        "#### Load August 27th Data"
      ]
    },
    {
      "cell_type": "code",
      "metadata": {
        "id": "OODL9AbUShn3",
        "colab_type": "code",
        "colab": {
          "base_uri": "https://localhost:8080/",
          "height": 34
        },
        "outputId": "1fb17eb7-6d68-44ec-c598-303dd61e8c6e"
      },
      "source": [
        "NY_labeledData_Aug27 = pd.read_csv('/content/drive/Shared drives/CMPE 295- Master Project/Covid19-data/NY_labeledData_Aug27.csv',low_memory=False)\n",
        "print(NY_labeledData_Aug27.shape)"
      ],
      "execution_count": 3,
      "outputs": [
        {
          "output_type": "stream",
          "text": [
            "(9690, 18)\n"
          ],
          "name": "stdout"
        }
      ]
    },
    {
      "cell_type": "markdown",
      "metadata": {
        "id": "vgwX8KhjVKZr",
        "colab_type": "text"
      },
      "source": [
        "#### Preprocessing "
      ]
    },
    {
      "cell_type": "markdown",
      "metadata": {
        "id": "yJpceojCe3Cb",
        "colab_type": "text"
      },
      "source": [
        "Total Days: 172\n",
        "\n",
        "30% Reduction: 120 Days\n",
        "\n",
        "Days Difference: 52 Days"
      ]
    },
    {
      "cell_type": "code",
      "metadata": {
        "id": "O729qgdPZ_xU",
        "colab_type": "code",
        "colab": {}
      },
      "source": [
        "NY_labeledData_Aug27 = NY_labeledData_Aug27.astype({'label': 'string'})"
      ],
      "execution_count": 4,
      "outputs": []
    },
    {
      "cell_type": "code",
      "metadata": {
        "id": "5KqTWVA9asIL",
        "colab_type": "code",
        "colab": {}
      },
      "source": [
        "NY_labeledData_Aug27 = NY_labeledData_Aug27.dropna()"
      ],
      "execution_count": 5,
      "outputs": []
    },
    {
      "cell_type": "code",
      "metadata": {
        "id": "uyIkdnO3Ykdl",
        "colab_type": "code",
        "colab": {}
      },
      "source": [
        "NY_labeledData_Aug27['label_y'] = preprocessing.LabelEncoder().fit_transform(NY_labeledData_Aug27['label'])"
      ],
      "execution_count": 6,
      "outputs": []
    },
    {
      "cell_type": "code",
      "metadata": {
        "id": "jLZlX971XIzc",
        "colab_type": "code",
        "colab": {}
      },
      "source": [
        "NY_labeledData_Aug27.rename(columns={'Date': 'ds', 'label_y': 'y'}, inplace=True)"
      ],
      "execution_count": 7,
      "outputs": []
    },
    {
      "cell_type": "code",
      "metadata": {
        "id": "KezUWdl9ikCc",
        "colab_type": "code",
        "colab": {
          "base_uri": "https://localhost:8080/",
          "height": 343
        },
        "outputId": "964f1822-dfa7-49f1-c332-976990d16401"
      },
      "source": [
        "mask = (NY_labeledData_Aug27['ds'] > '2020-03-01') & (NY_labeledData_Aug27['ds'] <= '2020-06-29')\n",
        "NY_labeledData_70 = NY_labeledData_Aug27.loc[mask]\n",
        "NY_labeledData_70.tail()"
      ],
      "execution_count": 8,
      "outputs": [
        {
          "output_type": "execute_result",
          "data": {
            "text/html": [
              "<div>\n",
              "<style scoped>\n",
              "    .dataframe tbody tr th:only-of-type {\n",
              "        vertical-align: middle;\n",
              "    }\n",
              "\n",
              "    .dataframe tbody tr th {\n",
              "        vertical-align: top;\n",
              "    }\n",
              "\n",
              "    .dataframe thead th {\n",
              "        text-align: right;\n",
              "    }\n",
              "</style>\n",
              "<table border=\"1\" class=\"dataframe\">\n",
              "  <thead>\n",
              "    <tr style=\"text-align: right;\">\n",
              "      <th></th>\n",
              "      <th>ds</th>\n",
              "      <th>fips_x</th>\n",
              "      <th>County Name</th>\n",
              "      <th>retail and recreation</th>\n",
              "      <th>grocery and pharmacy</th>\n",
              "      <th>parks</th>\n",
              "      <th>transit stations</th>\n",
              "      <th>workplaces</th>\n",
              "      <th>residential</th>\n",
              "      <th>driving</th>\n",
              "      <th>m50</th>\n",
              "      <th>m50_index</th>\n",
              "      <th>population_density</th>\n",
              "      <th>mask_rule_active</th>\n",
              "      <th>mask_wearing_percent</th>\n",
              "      <th>New cases</th>\n",
              "      <th>rolling_avg_new_cases</th>\n",
              "      <th>label</th>\n",
              "      <th>y</th>\n",
              "    </tr>\n",
              "  </thead>\n",
              "  <tbody>\n",
              "    <tr>\n",
              "      <th>6778</th>\n",
              "      <td>2020-06-29</td>\n",
              "      <td>36057</td>\n",
              "      <td>Montgomery County</td>\n",
              "      <td>-12.0</td>\n",
              "      <td>13.0</td>\n",
              "      <td>0.0</td>\n",
              "      <td>0.0</td>\n",
              "      <td>-31.0</td>\n",
              "      <td>8.0</td>\n",
              "      <td>65.94</td>\n",
              "      <td>4.168</td>\n",
              "      <td>66</td>\n",
              "      <td>122.124355</td>\n",
              "      <td>1</td>\n",
              "      <td>0.749</td>\n",
              "      <td>0</td>\n",
              "      <td>1.428571</td>\n",
              "      <td>LessSpread</td>\n",
              "      <td>0</td>\n",
              "    </tr>\n",
              "    <tr>\n",
              "      <th>6779</th>\n",
              "      <td>2020-06-29</td>\n",
              "      <td>36119</td>\n",
              "      <td>Westchester County</td>\n",
              "      <td>-18.0</td>\n",
              "      <td>-6.0</td>\n",
              "      <td>63.0</td>\n",
              "      <td>-43.0</td>\n",
              "      <td>-45.0</td>\n",
              "      <td>15.0</td>\n",
              "      <td>21.57</td>\n",
              "      <td>2.392</td>\n",
              "      <td>36</td>\n",
              "      <td>2247.400697</td>\n",
              "      <td>1</td>\n",
              "      <td>0.798</td>\n",
              "      <td>18</td>\n",
              "      <td>34.428571</td>\n",
              "      <td>LessSpread</td>\n",
              "      <td>0</td>\n",
              "    </tr>\n",
              "    <tr>\n",
              "      <th>6780</th>\n",
              "      <td>2020-06-29</td>\n",
              "      <td>36017</td>\n",
              "      <td>Chenango County</td>\n",
              "      <td>1.0</td>\n",
              "      <td>19.0</td>\n",
              "      <td>0.0</td>\n",
              "      <td>0.0</td>\n",
              "      <td>-36.0</td>\n",
              "      <td>8.0</td>\n",
              "      <td>92.97</td>\n",
              "      <td>3.845</td>\n",
              "      <td>50</td>\n",
              "      <td>52.830843</td>\n",
              "      <td>1</td>\n",
              "      <td>0.735</td>\n",
              "      <td>0</td>\n",
              "      <td>0.857143</td>\n",
              "      <td>LessSpread</td>\n",
              "      <td>0</td>\n",
              "    </tr>\n",
              "    <tr>\n",
              "      <th>6781</th>\n",
              "      <td>2020-06-29</td>\n",
              "      <td>36063</td>\n",
              "      <td>Niagara County</td>\n",
              "      <td>-9.0</td>\n",
              "      <td>17.0</td>\n",
              "      <td>200.0</td>\n",
              "      <td>-24.0</td>\n",
              "      <td>-33.0</td>\n",
              "      <td>7.0</td>\n",
              "      <td>64.40</td>\n",
              "      <td>3.074</td>\n",
              "      <td>47</td>\n",
              "      <td>400.645149</td>\n",
              "      <td>1</td>\n",
              "      <td>0.730</td>\n",
              "      <td>2</td>\n",
              "      <td>5.000000</td>\n",
              "      <td>LessSpread</td>\n",
              "      <td>0</td>\n",
              "    </tr>\n",
              "    <tr>\n",
              "      <th>6782</th>\n",
              "      <td>2020-06-29</td>\n",
              "      <td>36015</td>\n",
              "      <td>Chemung County</td>\n",
              "      <td>-10.0</td>\n",
              "      <td>11.0</td>\n",
              "      <td>0.0</td>\n",
              "      <td>-43.0</td>\n",
              "      <td>-26.0</td>\n",
              "      <td>7.0</td>\n",
              "      <td>71.85</td>\n",
              "      <td>2.889</td>\n",
              "      <td>49</td>\n",
              "      <td>204.875414</td>\n",
              "      <td>1</td>\n",
              "      <td>0.594</td>\n",
              "      <td>0</td>\n",
              "      <td>0.142857</td>\n",
              "      <td>LessSpread</td>\n",
              "      <td>0</td>\n",
              "    </tr>\n",
              "  </tbody>\n",
              "</table>\n",
              "</div>"
            ],
            "text/plain": [
              "              ds  fips_x  ...       label  y\n",
              "6778  2020-06-29   36057  ...  LessSpread  0\n",
              "6779  2020-06-29   36119  ...  LessSpread  0\n",
              "6780  2020-06-29   36017  ...  LessSpread  0\n",
              "6781  2020-06-29   36063  ...  LessSpread  0\n",
              "6782  2020-06-29   36015  ...  LessSpread  0\n",
              "\n",
              "[5 rows x 19 columns]"
            ]
          },
          "metadata": {
            "tags": []
          },
          "execution_count": 8
        }
      ]
    },
    {
      "cell_type": "code",
      "metadata": {
        "id": "IopMNglcnwmX",
        "colab_type": "code",
        "colab": {}
      },
      "source": [
        "NY_labeledData_70_Ulster_County = NY_labeledData_70.loc[NY_labeledData_70['County Name'] == 'Ulster County']\n",
        "NY_labeledData_Ulster_County = NY_labeledData_Aug27.loc[NY_labeledData_Aug27['County Name'] == 'Ulster County']"
      ],
      "execution_count": 9,
      "outputs": []
    },
    {
      "cell_type": "code",
      "metadata": {
        "id": "lsI4aL7CoPtx",
        "colab_type": "code",
        "colab": {
          "base_uri": "https://localhost:8080/",
          "height": 34
        },
        "outputId": "0f157322-15c0-444a-974e-b2eb705494bf"
      },
      "source": [
        "NY_labeledData_70_Ulster_County['y'].unique()"
      ],
      "execution_count": 10,
      "outputs": [
        {
          "output_type": "execute_result",
          "data": {
            "text/plain": [
              "array([0, 2, 1])"
            ]
          },
          "metadata": {
            "tags": []
          },
          "execution_count": 10
        }
      ]
    },
    {
      "cell_type": "code",
      "metadata": {
        "id": "gbGcOb0BTERX",
        "colab_type": "code",
        "colab": {
          "base_uri": "https://localhost:8080/",
          "height": 343
        },
        "outputId": "e8a57e29-7614-4cfd-828b-2389a7b7ff76"
      },
      "source": [
        "NY_labeledData_Aug27.head()"
      ],
      "execution_count": 11,
      "outputs": [
        {
          "output_type": "execute_result",
          "data": {
            "text/html": [
              "<div>\n",
              "<style scoped>\n",
              "    .dataframe tbody tr th:only-of-type {\n",
              "        vertical-align: middle;\n",
              "    }\n",
              "\n",
              "    .dataframe tbody tr th {\n",
              "        vertical-align: top;\n",
              "    }\n",
              "\n",
              "    .dataframe thead th {\n",
              "        text-align: right;\n",
              "    }\n",
              "</style>\n",
              "<table border=\"1\" class=\"dataframe\">\n",
              "  <thead>\n",
              "    <tr style=\"text-align: right;\">\n",
              "      <th></th>\n",
              "      <th>ds</th>\n",
              "      <th>fips_x</th>\n",
              "      <th>County Name</th>\n",
              "      <th>retail and recreation</th>\n",
              "      <th>grocery and pharmacy</th>\n",
              "      <th>parks</th>\n",
              "      <th>transit stations</th>\n",
              "      <th>workplaces</th>\n",
              "      <th>residential</th>\n",
              "      <th>driving</th>\n",
              "      <th>m50</th>\n",
              "      <th>m50_index</th>\n",
              "      <th>population_density</th>\n",
              "      <th>mask_rule_active</th>\n",
              "      <th>mask_wearing_percent</th>\n",
              "      <th>New cases</th>\n",
              "      <th>rolling_avg_new_cases</th>\n",
              "      <th>label</th>\n",
              "      <th>y</th>\n",
              "    </tr>\n",
              "  </thead>\n",
              "  <tbody>\n",
              "    <tr>\n",
              "      <th>0</th>\n",
              "      <td>2020-03-01</td>\n",
              "      <td>36001</td>\n",
              "      <td>Albany County</td>\n",
              "      <td>10.0</td>\n",
              "      <td>13.0</td>\n",
              "      <td>19.0</td>\n",
              "      <td>4.0</td>\n",
              "      <td>7.0</td>\n",
              "      <td>-1.0</td>\n",
              "      <td>-4.87</td>\n",
              "      <td>2.616</td>\n",
              "      <td>54</td>\n",
              "      <td>584.364958</td>\n",
              "      <td>0</td>\n",
              "      <td>0.0</td>\n",
              "      <td>0</td>\n",
              "      <td>0.0</td>\n",
              "      <td>LessSpread</td>\n",
              "      <td>0</td>\n",
              "    </tr>\n",
              "    <tr>\n",
              "      <th>1</th>\n",
              "      <td>2020-03-01</td>\n",
              "      <td>36003</td>\n",
              "      <td>Allegany County</td>\n",
              "      <td>47.0</td>\n",
              "      <td>13.0</td>\n",
              "      <td>0.0</td>\n",
              "      <td>0.0</td>\n",
              "      <td>1.0</td>\n",
              "      <td>0.0</td>\n",
              "      <td>19.81</td>\n",
              "      <td>0.707</td>\n",
              "      <td>12</td>\n",
              "      <td>44.778541</td>\n",
              "      <td>0</td>\n",
              "      <td>0.0</td>\n",
              "      <td>0</td>\n",
              "      <td>0.0</td>\n",
              "      <td>LessSpread</td>\n",
              "      <td>0</td>\n",
              "    </tr>\n",
              "    <tr>\n",
              "      <th>2</th>\n",
              "      <td>2020-03-01</td>\n",
              "      <td>36123</td>\n",
              "      <td>Yates County</td>\n",
              "      <td>31.0</td>\n",
              "      <td>33.0</td>\n",
              "      <td>0.0</td>\n",
              "      <td>0.0</td>\n",
              "      <td>7.0</td>\n",
              "      <td>0.0</td>\n",
              "      <td>28.14</td>\n",
              "      <td>5.004</td>\n",
              "      <td>72</td>\n",
              "      <td>73.676584</td>\n",
              "      <td>0</td>\n",
              "      <td>0.0</td>\n",
              "      <td>0</td>\n",
              "      <td>0.0</td>\n",
              "      <td>LessSpread</td>\n",
              "      <td>0</td>\n",
              "    </tr>\n",
              "    <tr>\n",
              "      <th>3</th>\n",
              "      <td>2020-03-01</td>\n",
              "      <td>36119</td>\n",
              "      <td>Westchester County</td>\n",
              "      <td>8.0</td>\n",
              "      <td>-1.0</td>\n",
              "      <td>12.0</td>\n",
              "      <td>1.0</td>\n",
              "      <td>0.0</td>\n",
              "      <td>0.0</td>\n",
              "      <td>-4.34</td>\n",
              "      <td>3.903</td>\n",
              "      <td>59</td>\n",
              "      <td>2247.400697</td>\n",
              "      <td>0</td>\n",
              "      <td>0.0</td>\n",
              "      <td>0</td>\n",
              "      <td>0.0</td>\n",
              "      <td>LessSpread</td>\n",
              "      <td>0</td>\n",
              "    </tr>\n",
              "    <tr>\n",
              "      <th>4</th>\n",
              "      <td>2020-03-01</td>\n",
              "      <td>36031</td>\n",
              "      <td>Essex County</td>\n",
              "      <td>16.0</td>\n",
              "      <td>11.0</td>\n",
              "      <td>17.0</td>\n",
              "      <td>0.0</td>\n",
              "      <td>1.0</td>\n",
              "      <td>0.0</td>\n",
              "      <td>60.18</td>\n",
              "      <td>12.600</td>\n",
              "      <td>197</td>\n",
              "      <td>20.557565</td>\n",
              "      <td>0</td>\n",
              "      <td>0.0</td>\n",
              "      <td>0</td>\n",
              "      <td>0.0</td>\n",
              "      <td>LessSpread</td>\n",
              "      <td>0</td>\n",
              "    </tr>\n",
              "  </tbody>\n",
              "</table>\n",
              "</div>"
            ],
            "text/plain": [
              "           ds  fips_x         County Name  ...  rolling_avg_new_cases       label  y\n",
              "0  2020-03-01   36001       Albany County  ...                    0.0  LessSpread  0\n",
              "1  2020-03-01   36003     Allegany County  ...                    0.0  LessSpread  0\n",
              "2  2020-03-01   36123        Yates County  ...                    0.0  LessSpread  0\n",
              "3  2020-03-01   36119  Westchester County  ...                    0.0  LessSpread  0\n",
              "4  2020-03-01   36031        Essex County  ...                    0.0  LessSpread  0\n",
              "\n",
              "[5 rows x 19 columns]"
            ]
          },
          "metadata": {
            "tags": []
          },
          "execution_count": 11
        }
      ]
    },
    {
      "cell_type": "code",
      "metadata": {
        "id": "cnhDgAmnsqi1",
        "colab_type": "code",
        "colab": {
          "base_uri": "https://localhost:8080/",
          "height": 343
        },
        "outputId": "9883c350-333e-441f-9044-3582e80adc25"
      },
      "source": [
        "NY_labeledData_70_Ulster_County.tail()"
      ],
      "execution_count": 32,
      "outputs": [
        {
          "output_type": "execute_result",
          "data": {
            "text/html": [
              "<div>\n",
              "<style scoped>\n",
              "    .dataframe tbody tr th:only-of-type {\n",
              "        vertical-align: middle;\n",
              "    }\n",
              "\n",
              "    .dataframe tbody tr th {\n",
              "        vertical-align: top;\n",
              "    }\n",
              "\n",
              "    .dataframe thead th {\n",
              "        text-align: right;\n",
              "    }\n",
              "</style>\n",
              "<table border=\"1\" class=\"dataframe\">\n",
              "  <thead>\n",
              "    <tr style=\"text-align: right;\">\n",
              "      <th></th>\n",
              "      <th>ds</th>\n",
              "      <th>fips_x</th>\n",
              "      <th>County Name</th>\n",
              "      <th>retail and recreation</th>\n",
              "      <th>grocery and pharmacy</th>\n",
              "      <th>parks</th>\n",
              "      <th>transit stations</th>\n",
              "      <th>workplaces</th>\n",
              "      <th>residential</th>\n",
              "      <th>driving</th>\n",
              "      <th>m50</th>\n",
              "      <th>m50_index</th>\n",
              "      <th>population_density</th>\n",
              "      <th>mask_rule_active</th>\n",
              "      <th>mask_wearing_percent</th>\n",
              "      <th>New cases</th>\n",
              "      <th>rolling_avg_new_cases</th>\n",
              "      <th>label</th>\n",
              "      <th>y</th>\n",
              "    </tr>\n",
              "  </thead>\n",
              "  <tbody>\n",
              "    <tr>\n",
              "      <th>6535</th>\n",
              "      <td>2020-06-25</td>\n",
              "      <td>36111</td>\n",
              "      <td>Ulster County</td>\n",
              "      <td>-12.0</td>\n",
              "      <td>10.0</td>\n",
              "      <td>0.0</td>\n",
              "      <td>6.0</td>\n",
              "      <td>-31.0</td>\n",
              "      <td>10.0</td>\n",
              "      <td>64.96</td>\n",
              "      <td>5.563</td>\n",
              "      <td>85</td>\n",
              "      <td>157.94937</td>\n",
              "      <td>1</td>\n",
              "      <td>0.818</td>\n",
              "      <td>5</td>\n",
              "      <td>2.714286</td>\n",
              "      <td>LessSpread</td>\n",
              "      <td>0</td>\n",
              "    </tr>\n",
              "    <tr>\n",
              "      <th>6556</th>\n",
              "      <td>2020-06-26</td>\n",
              "      <td>36111</td>\n",
              "      <td>Ulster County</td>\n",
              "      <td>-18.0</td>\n",
              "      <td>5.0</td>\n",
              "      <td>0.0</td>\n",
              "      <td>-8.0</td>\n",
              "      <td>-32.0</td>\n",
              "      <td>10.0</td>\n",
              "      <td>86.42</td>\n",
              "      <td>5.941</td>\n",
              "      <td>90</td>\n",
              "      <td>157.94937</td>\n",
              "      <td>1</td>\n",
              "      <td>0.818</td>\n",
              "      <td>3</td>\n",
              "      <td>2.714286</td>\n",
              "      <td>LessSpread</td>\n",
              "      <td>0</td>\n",
              "    </tr>\n",
              "    <tr>\n",
              "      <th>6628</th>\n",
              "      <td>2020-06-27</td>\n",
              "      <td>36111</td>\n",
              "      <td>Ulster County</td>\n",
              "      <td>-23.0</td>\n",
              "      <td>6.0</td>\n",
              "      <td>0.0</td>\n",
              "      <td>9.0</td>\n",
              "      <td>-13.0</td>\n",
              "      <td>6.0</td>\n",
              "      <td>69.99</td>\n",
              "      <td>3.161</td>\n",
              "      <td>48</td>\n",
              "      <td>157.94937</td>\n",
              "      <td>1</td>\n",
              "      <td>0.818</td>\n",
              "      <td>5</td>\n",
              "      <td>3.285714</td>\n",
              "      <td>LessSpread</td>\n",
              "      <td>0</td>\n",
              "    </tr>\n",
              "    <tr>\n",
              "      <th>6669</th>\n",
              "      <td>2020-06-28</td>\n",
              "      <td>36111</td>\n",
              "      <td>Ulster County</td>\n",
              "      <td>-18.0</td>\n",
              "      <td>5.0</td>\n",
              "      <td>199.0</td>\n",
              "      <td>6.0</td>\n",
              "      <td>-5.0</td>\n",
              "      <td>4.0</td>\n",
              "      <td>62.63</td>\n",
              "      <td>2.514</td>\n",
              "      <td>38</td>\n",
              "      <td>157.94937</td>\n",
              "      <td>1</td>\n",
              "      <td>0.818</td>\n",
              "      <td>5</td>\n",
              "      <td>3.428571</td>\n",
              "      <td>LessSpread</td>\n",
              "      <td>0</td>\n",
              "    </tr>\n",
              "    <tr>\n",
              "      <th>6756</th>\n",
              "      <td>2020-06-29</td>\n",
              "      <td>36111</td>\n",
              "      <td>Ulster County</td>\n",
              "      <td>-10.0</td>\n",
              "      <td>5.0</td>\n",
              "      <td>0.0</td>\n",
              "      <td>-2.0</td>\n",
              "      <td>-31.0</td>\n",
              "      <td>10.0</td>\n",
              "      <td>55.25</td>\n",
              "      <td>3.253</td>\n",
              "      <td>49</td>\n",
              "      <td>157.94937</td>\n",
              "      <td>1</td>\n",
              "      <td>0.818</td>\n",
              "      <td>0</td>\n",
              "      <td>3.142857</td>\n",
              "      <td>LessSpread</td>\n",
              "      <td>0</td>\n",
              "    </tr>\n",
              "  </tbody>\n",
              "</table>\n",
              "</div>"
            ],
            "text/plain": [
              "              ds  fips_x    County Name  ...  rolling_avg_new_cases       label  y\n",
              "6535  2020-06-25   36111  Ulster County  ...               2.714286  LessSpread  0\n",
              "6556  2020-06-26   36111  Ulster County  ...               2.714286  LessSpread  0\n",
              "6628  2020-06-27   36111  Ulster County  ...               3.285714  LessSpread  0\n",
              "6669  2020-06-28   36111  Ulster County  ...               3.428571  LessSpread  0\n",
              "6756  2020-06-29   36111  Ulster County  ...               3.142857  LessSpread  0\n",
              "\n",
              "[5 rows x 19 columns]"
            ]
          },
          "metadata": {
            "tags": []
          },
          "execution_count": 32
        }
      ]
    },
    {
      "cell_type": "code",
      "metadata": {
        "id": "Xd0RAwKkrQoe",
        "colab_type": "code",
        "colab": {
          "base_uri": "https://localhost:8080/",
          "height": 343
        },
        "outputId": "f26c7635-1bb1-4dda-8c70-ed9fa55fb01f"
      },
      "source": [
        "NY_labeledData_Aug27.tail()"
      ],
      "execution_count": 12,
      "outputs": [
        {
          "output_type": "execute_result",
          "data": {
            "text/html": [
              "<div>\n",
              "<style scoped>\n",
              "    .dataframe tbody tr th:only-of-type {\n",
              "        vertical-align: middle;\n",
              "    }\n",
              "\n",
              "    .dataframe tbody tr th {\n",
              "        vertical-align: top;\n",
              "    }\n",
              "\n",
              "    .dataframe thead th {\n",
              "        text-align: right;\n",
              "    }\n",
              "</style>\n",
              "<table border=\"1\" class=\"dataframe\">\n",
              "  <thead>\n",
              "    <tr style=\"text-align: right;\">\n",
              "      <th></th>\n",
              "      <th>ds</th>\n",
              "      <th>fips_x</th>\n",
              "      <th>County Name</th>\n",
              "      <th>retail and recreation</th>\n",
              "      <th>grocery and pharmacy</th>\n",
              "      <th>parks</th>\n",
              "      <th>transit stations</th>\n",
              "      <th>workplaces</th>\n",
              "      <th>residential</th>\n",
              "      <th>driving</th>\n",
              "      <th>m50</th>\n",
              "      <th>m50_index</th>\n",
              "      <th>population_density</th>\n",
              "      <th>mask_rule_active</th>\n",
              "      <th>mask_wearing_percent</th>\n",
              "      <th>New cases</th>\n",
              "      <th>rolling_avg_new_cases</th>\n",
              "      <th>label</th>\n",
              "      <th>y</th>\n",
              "    </tr>\n",
              "  </thead>\n",
              "  <tbody>\n",
              "    <tr>\n",
              "      <th>9685</th>\n",
              "      <td>2020-08-19</td>\n",
              "      <td>36099</td>\n",
              "      <td>Seneca County</td>\n",
              "      <td>0.0</td>\n",
              "      <td>0.0</td>\n",
              "      <td>0.0</td>\n",
              "      <td>0.0</td>\n",
              "      <td>0.0</td>\n",
              "      <td>0.0</td>\n",
              "      <td>162.86</td>\n",
              "      <td>6.632</td>\n",
              "      <td>98</td>\n",
              "      <td>105.081709</td>\n",
              "      <td>1</td>\n",
              "      <td>0.864</td>\n",
              "      <td>0</td>\n",
              "      <td>0.571429</td>\n",
              "      <td>LessSpread</td>\n",
              "      <td>0</td>\n",
              "    </tr>\n",
              "    <tr>\n",
              "      <th>9686</th>\n",
              "      <td>2020-08-19</td>\n",
              "      <td>36023</td>\n",
              "      <td>Cortland County</td>\n",
              "      <td>0.0</td>\n",
              "      <td>0.0</td>\n",
              "      <td>0.0</td>\n",
              "      <td>0.0</td>\n",
              "      <td>0.0</td>\n",
              "      <td>0.0</td>\n",
              "      <td>85.52</td>\n",
              "      <td>3.803</td>\n",
              "      <td>141</td>\n",
              "      <td>95.398588</td>\n",
              "      <td>1</td>\n",
              "      <td>0.803</td>\n",
              "      <td>0</td>\n",
              "      <td>0.142857</td>\n",
              "      <td>LessSpread</td>\n",
              "      <td>0</td>\n",
              "    </tr>\n",
              "    <tr>\n",
              "      <th>9687</th>\n",
              "      <td>2020-08-19</td>\n",
              "      <td>36101</td>\n",
              "      <td>Steuben County</td>\n",
              "      <td>0.0</td>\n",
              "      <td>0.0</td>\n",
              "      <td>0.0</td>\n",
              "      <td>0.0</td>\n",
              "      <td>0.0</td>\n",
              "      <td>0.0</td>\n",
              "      <td>103.47</td>\n",
              "      <td>5.512</td>\n",
              "      <td>88</td>\n",
              "      <td>68.590352</td>\n",
              "      <td>1</td>\n",
              "      <td>0.674</td>\n",
              "      <td>0</td>\n",
              "      <td>1.000000</td>\n",
              "      <td>LessSpread</td>\n",
              "      <td>0</td>\n",
              "    </tr>\n",
              "    <tr>\n",
              "      <th>9688</th>\n",
              "      <td>2020-08-19</td>\n",
              "      <td>36103</td>\n",
              "      <td>Suffolk County</td>\n",
              "      <td>0.0</td>\n",
              "      <td>0.0</td>\n",
              "      <td>0.0</td>\n",
              "      <td>0.0</td>\n",
              "      <td>0.0</td>\n",
              "      <td>0.0</td>\n",
              "      <td>60.19</td>\n",
              "      <td>5.039</td>\n",
              "      <td>58</td>\n",
              "      <td>1618.991283</td>\n",
              "      <td>1</td>\n",
              "      <td>0.782</td>\n",
              "      <td>70</td>\n",
              "      <td>51.000000</td>\n",
              "      <td>LessSpread</td>\n",
              "      <td>0</td>\n",
              "    </tr>\n",
              "    <tr>\n",
              "      <th>9689</th>\n",
              "      <td>2020-08-19</td>\n",
              "      <td>36123</td>\n",
              "      <td>Yates County</td>\n",
              "      <td>0.0</td>\n",
              "      <td>0.0</td>\n",
              "      <td>0.0</td>\n",
              "      <td>0.0</td>\n",
              "      <td>0.0</td>\n",
              "      <td>0.0</td>\n",
              "      <td>350.22</td>\n",
              "      <td>6.347</td>\n",
              "      <td>91</td>\n",
              "      <td>73.676584</td>\n",
              "      <td>1</td>\n",
              "      <td>0.884</td>\n",
              "      <td>0</td>\n",
              "      <td>0.285714</td>\n",
              "      <td>LessSpread</td>\n",
              "      <td>0</td>\n",
              "    </tr>\n",
              "  </tbody>\n",
              "</table>\n",
              "</div>"
            ],
            "text/plain": [
              "              ds  fips_x      County Name  ...  rolling_avg_new_cases       label  y\n",
              "9685  2020-08-19   36099    Seneca County  ...               0.571429  LessSpread  0\n",
              "9686  2020-08-19   36023  Cortland County  ...               0.142857  LessSpread  0\n",
              "9687  2020-08-19   36101   Steuben County  ...               1.000000  LessSpread  0\n",
              "9688  2020-08-19   36103   Suffolk County  ...              51.000000  LessSpread  0\n",
              "9689  2020-08-19   36123     Yates County  ...               0.285714  LessSpread  0\n",
              "\n",
              "[5 rows x 19 columns]"
            ]
          },
          "metadata": {
            "tags": []
          },
          "execution_count": 12
        }
      ]
    },
    {
      "cell_type": "markdown",
      "metadata": {
        "id": "DXXIwU69VC2S",
        "colab_type": "text"
      },
      "source": [
        "### August 26 Data"
      ]
    },
    {
      "cell_type": "markdown",
      "metadata": {
        "id": "PB8j-1rwVWEj",
        "colab_type": "text"
      },
      "source": [
        "#### Load August 26 Data"
      ]
    },
    {
      "cell_type": "code",
      "metadata": {
        "id": "j1u4oznuTNVr",
        "colab_type": "code",
        "colab": {
          "base_uri": "https://localhost:8080/",
          "height": 426
        },
        "outputId": "2b8abb79-010e-4bf7-fb8e-1dd766fcdeed"
      },
      "source": [
        "NY_labeledData_Aug26 = pd.read_csv('/content/drive/Shared drives/CMPE 295- Master Project/Covid19-data/NY_sd_inertia_labeledData_Aug26.csv',low_memory=False)\n",
        "print(NY_labeledData_Aug26.shape)"
      ],
      "execution_count": 40,
      "outputs": [
        {
          "output_type": "error",
          "ename": "FileNotFoundError",
          "evalue": "ignored",
          "traceback": [
            "\u001b[0;31m---------------------------------------------------------------------------\u001b[0m",
            "\u001b[0;31mFileNotFoundError\u001b[0m                         Traceback (most recent call last)",
            "\u001b[0;32m<ipython-input-40-9b70280a9a53>\u001b[0m in \u001b[0;36m<module>\u001b[0;34m()\u001b[0m\n\u001b[0;32m----> 1\u001b[0;31m \u001b[0mNY_labeledData_Aug26\u001b[0m \u001b[0;34m=\u001b[0m \u001b[0mpd\u001b[0m\u001b[0;34m.\u001b[0m\u001b[0mread_csv\u001b[0m\u001b[0;34m(\u001b[0m\u001b[0;34m'/content/drive/Shared drives/CMPE 295- Master Project/Covid19-data/NY_sd_inertia_labeledData_Aug26.csv'\u001b[0m\u001b[0;34m,\u001b[0m\u001b[0mlow_memory\u001b[0m\u001b[0;34m=\u001b[0m\u001b[0;32mFalse\u001b[0m\u001b[0;34m)\u001b[0m\u001b[0;34m\u001b[0m\u001b[0;34m\u001b[0m\u001b[0m\n\u001b[0m\u001b[1;32m      2\u001b[0m \u001b[0mprint\u001b[0m\u001b[0;34m(\u001b[0m\u001b[0mNY_labeledData_Aug26\u001b[0m\u001b[0;34m.\u001b[0m\u001b[0mshape\u001b[0m\u001b[0;34m)\u001b[0m\u001b[0;34m\u001b[0m\u001b[0;34m\u001b[0m\u001b[0m\n",
            "\u001b[0;32m/usr/local/lib/python3.6/dist-packages/pandas/io/parsers.py\u001b[0m in \u001b[0;36mparser_f\u001b[0;34m(filepath_or_buffer, sep, delimiter, header, names, index_col, usecols, squeeze, prefix, mangle_dupe_cols, dtype, engine, converters, true_values, false_values, skipinitialspace, skiprows, skipfooter, nrows, na_values, keep_default_na, na_filter, verbose, skip_blank_lines, parse_dates, infer_datetime_format, keep_date_col, date_parser, dayfirst, cache_dates, iterator, chunksize, compression, thousands, decimal, lineterminator, quotechar, quoting, doublequote, escapechar, comment, encoding, dialect, error_bad_lines, warn_bad_lines, delim_whitespace, low_memory, memory_map, float_precision)\u001b[0m\n\u001b[1;32m    674\u001b[0m         )\n\u001b[1;32m    675\u001b[0m \u001b[0;34m\u001b[0m\u001b[0m\n\u001b[0;32m--> 676\u001b[0;31m         \u001b[0;32mreturn\u001b[0m \u001b[0m_read\u001b[0m\u001b[0;34m(\u001b[0m\u001b[0mfilepath_or_buffer\u001b[0m\u001b[0;34m,\u001b[0m \u001b[0mkwds\u001b[0m\u001b[0;34m)\u001b[0m\u001b[0;34m\u001b[0m\u001b[0;34m\u001b[0m\u001b[0m\n\u001b[0m\u001b[1;32m    677\u001b[0m \u001b[0;34m\u001b[0m\u001b[0m\n\u001b[1;32m    678\u001b[0m     \u001b[0mparser_f\u001b[0m\u001b[0;34m.\u001b[0m\u001b[0m__name__\u001b[0m \u001b[0;34m=\u001b[0m \u001b[0mname\u001b[0m\u001b[0;34m\u001b[0m\u001b[0;34m\u001b[0m\u001b[0m\n",
            "\u001b[0;32m/usr/local/lib/python3.6/dist-packages/pandas/io/parsers.py\u001b[0m in \u001b[0;36m_read\u001b[0;34m(filepath_or_buffer, kwds)\u001b[0m\n\u001b[1;32m    446\u001b[0m \u001b[0;34m\u001b[0m\u001b[0m\n\u001b[1;32m    447\u001b[0m     \u001b[0;31m# Create the parser.\u001b[0m\u001b[0;34m\u001b[0m\u001b[0;34m\u001b[0m\u001b[0;34m\u001b[0m\u001b[0m\n\u001b[0;32m--> 448\u001b[0;31m     \u001b[0mparser\u001b[0m \u001b[0;34m=\u001b[0m \u001b[0mTextFileReader\u001b[0m\u001b[0;34m(\u001b[0m\u001b[0mfp_or_buf\u001b[0m\u001b[0;34m,\u001b[0m \u001b[0;34m**\u001b[0m\u001b[0mkwds\u001b[0m\u001b[0;34m)\u001b[0m\u001b[0;34m\u001b[0m\u001b[0;34m\u001b[0m\u001b[0m\n\u001b[0m\u001b[1;32m    449\u001b[0m \u001b[0;34m\u001b[0m\u001b[0m\n\u001b[1;32m    450\u001b[0m     \u001b[0;32mif\u001b[0m \u001b[0mchunksize\u001b[0m \u001b[0;32mor\u001b[0m \u001b[0miterator\u001b[0m\u001b[0;34m:\u001b[0m\u001b[0;34m\u001b[0m\u001b[0;34m\u001b[0m\u001b[0m\n",
            "\u001b[0;32m/usr/local/lib/python3.6/dist-packages/pandas/io/parsers.py\u001b[0m in \u001b[0;36m__init__\u001b[0;34m(self, f, engine, **kwds)\u001b[0m\n\u001b[1;32m    878\u001b[0m             \u001b[0mself\u001b[0m\u001b[0;34m.\u001b[0m\u001b[0moptions\u001b[0m\u001b[0;34m[\u001b[0m\u001b[0;34m\"has_index_names\"\u001b[0m\u001b[0;34m]\u001b[0m \u001b[0;34m=\u001b[0m \u001b[0mkwds\u001b[0m\u001b[0;34m[\u001b[0m\u001b[0;34m\"has_index_names\"\u001b[0m\u001b[0;34m]\u001b[0m\u001b[0;34m\u001b[0m\u001b[0;34m\u001b[0m\u001b[0m\n\u001b[1;32m    879\u001b[0m \u001b[0;34m\u001b[0m\u001b[0m\n\u001b[0;32m--> 880\u001b[0;31m         \u001b[0mself\u001b[0m\u001b[0;34m.\u001b[0m\u001b[0m_make_engine\u001b[0m\u001b[0;34m(\u001b[0m\u001b[0mself\u001b[0m\u001b[0;34m.\u001b[0m\u001b[0mengine\u001b[0m\u001b[0;34m)\u001b[0m\u001b[0;34m\u001b[0m\u001b[0;34m\u001b[0m\u001b[0m\n\u001b[0m\u001b[1;32m    881\u001b[0m \u001b[0;34m\u001b[0m\u001b[0m\n\u001b[1;32m    882\u001b[0m     \u001b[0;32mdef\u001b[0m \u001b[0mclose\u001b[0m\u001b[0;34m(\u001b[0m\u001b[0mself\u001b[0m\u001b[0;34m)\u001b[0m\u001b[0;34m:\u001b[0m\u001b[0;34m\u001b[0m\u001b[0;34m\u001b[0m\u001b[0m\n",
            "\u001b[0;32m/usr/local/lib/python3.6/dist-packages/pandas/io/parsers.py\u001b[0m in \u001b[0;36m_make_engine\u001b[0;34m(self, engine)\u001b[0m\n\u001b[1;32m   1112\u001b[0m     \u001b[0;32mdef\u001b[0m \u001b[0m_make_engine\u001b[0m\u001b[0;34m(\u001b[0m\u001b[0mself\u001b[0m\u001b[0;34m,\u001b[0m \u001b[0mengine\u001b[0m\u001b[0;34m=\u001b[0m\u001b[0;34m\"c\"\u001b[0m\u001b[0;34m)\u001b[0m\u001b[0;34m:\u001b[0m\u001b[0;34m\u001b[0m\u001b[0;34m\u001b[0m\u001b[0m\n\u001b[1;32m   1113\u001b[0m         \u001b[0;32mif\u001b[0m \u001b[0mengine\u001b[0m \u001b[0;34m==\u001b[0m \u001b[0;34m\"c\"\u001b[0m\u001b[0;34m:\u001b[0m\u001b[0;34m\u001b[0m\u001b[0;34m\u001b[0m\u001b[0m\n\u001b[0;32m-> 1114\u001b[0;31m             \u001b[0mself\u001b[0m\u001b[0;34m.\u001b[0m\u001b[0m_engine\u001b[0m \u001b[0;34m=\u001b[0m \u001b[0mCParserWrapper\u001b[0m\u001b[0;34m(\u001b[0m\u001b[0mself\u001b[0m\u001b[0;34m.\u001b[0m\u001b[0mf\u001b[0m\u001b[0;34m,\u001b[0m \u001b[0;34m**\u001b[0m\u001b[0mself\u001b[0m\u001b[0;34m.\u001b[0m\u001b[0moptions\u001b[0m\u001b[0;34m)\u001b[0m\u001b[0;34m\u001b[0m\u001b[0;34m\u001b[0m\u001b[0m\n\u001b[0m\u001b[1;32m   1115\u001b[0m         \u001b[0;32melse\u001b[0m\u001b[0;34m:\u001b[0m\u001b[0;34m\u001b[0m\u001b[0;34m\u001b[0m\u001b[0m\n\u001b[1;32m   1116\u001b[0m             \u001b[0;32mif\u001b[0m \u001b[0mengine\u001b[0m \u001b[0;34m==\u001b[0m \u001b[0;34m\"python\"\u001b[0m\u001b[0;34m:\u001b[0m\u001b[0;34m\u001b[0m\u001b[0;34m\u001b[0m\u001b[0m\n",
            "\u001b[0;32m/usr/local/lib/python3.6/dist-packages/pandas/io/parsers.py\u001b[0m in \u001b[0;36m__init__\u001b[0;34m(self, src, **kwds)\u001b[0m\n\u001b[1;32m   1889\u001b[0m         \u001b[0mkwds\u001b[0m\u001b[0;34m[\u001b[0m\u001b[0;34m\"usecols\"\u001b[0m\u001b[0;34m]\u001b[0m \u001b[0;34m=\u001b[0m \u001b[0mself\u001b[0m\u001b[0;34m.\u001b[0m\u001b[0musecols\u001b[0m\u001b[0;34m\u001b[0m\u001b[0;34m\u001b[0m\u001b[0m\n\u001b[1;32m   1890\u001b[0m \u001b[0;34m\u001b[0m\u001b[0m\n\u001b[0;32m-> 1891\u001b[0;31m         \u001b[0mself\u001b[0m\u001b[0;34m.\u001b[0m\u001b[0m_reader\u001b[0m \u001b[0;34m=\u001b[0m \u001b[0mparsers\u001b[0m\u001b[0;34m.\u001b[0m\u001b[0mTextReader\u001b[0m\u001b[0;34m(\u001b[0m\u001b[0msrc\u001b[0m\u001b[0;34m,\u001b[0m \u001b[0;34m**\u001b[0m\u001b[0mkwds\u001b[0m\u001b[0;34m)\u001b[0m\u001b[0;34m\u001b[0m\u001b[0;34m\u001b[0m\u001b[0m\n\u001b[0m\u001b[1;32m   1892\u001b[0m         \u001b[0mself\u001b[0m\u001b[0;34m.\u001b[0m\u001b[0munnamed_cols\u001b[0m \u001b[0;34m=\u001b[0m \u001b[0mself\u001b[0m\u001b[0;34m.\u001b[0m\u001b[0m_reader\u001b[0m\u001b[0;34m.\u001b[0m\u001b[0munnamed_cols\u001b[0m\u001b[0;34m\u001b[0m\u001b[0;34m\u001b[0m\u001b[0m\n\u001b[1;32m   1893\u001b[0m \u001b[0;34m\u001b[0m\u001b[0m\n",
            "\u001b[0;32mpandas/_libs/parsers.pyx\u001b[0m in \u001b[0;36mpandas._libs.parsers.TextReader.__cinit__\u001b[0;34m()\u001b[0m\n",
            "\u001b[0;32mpandas/_libs/parsers.pyx\u001b[0m in \u001b[0;36mpandas._libs.parsers.TextReader._setup_parser_source\u001b[0;34m()\u001b[0m\n",
            "\u001b[0;31mFileNotFoundError\u001b[0m: [Errno 2] File /content/drive/Shared drives/CMPE 295- Master Project/Covid19-data/NY_sd_inertia_labeledData_Aug26.csv does not exist: '/content/drive/Shared drives/CMPE 295- Master Project/Covid19-data/NY_sd_inertia_labeledData_Aug26.csv'"
          ]
        }
      ]
    },
    {
      "cell_type": "code",
      "metadata": {
        "id": "vWZpDo8eTW9Y",
        "colab_type": "code",
        "colab": {}
      },
      "source": [
        "NY_labeledData_Aug26.head()"
      ],
      "execution_count": null,
      "outputs": []
    },
    {
      "cell_type": "markdown",
      "metadata": {
        "id": "MEMVcZSITloQ",
        "colab_type": "text"
      },
      "source": [
        "## Prophet Model Implementation for August 27rd"
      ]
    },
    {
      "cell_type": "code",
      "metadata": {
        "id": "RFEisGxrTosx",
        "colab_type": "code",
        "colab": {}
      },
      "source": [
        "prophet_model = Prophet()"
      ],
      "execution_count": 41,
      "outputs": []
    },
    {
      "cell_type": "code",
      "metadata": {
        "id": "TC18AZUETtNQ",
        "colab_type": "code",
        "colab": {
          "base_uri": "https://localhost:8080/",
          "height": 68
        },
        "outputId": "46fe3441-549d-420d-816a-b1df15192882"
      },
      "source": [
        "prophet_model.fit(NY_labeledData_70_Ulster_County)"
      ],
      "execution_count": 42,
      "outputs": [
        {
          "output_type": "stream",
          "text": [
            "INFO:fbprophet:Disabling yearly seasonality. Run prophet with yearly_seasonality=True to override this.\n",
            "INFO:fbprophet:Disabling daily seasonality. Run prophet with daily_seasonality=True to override this.\n"
          ],
          "name": "stderr"
        },
        {
          "output_type": "execute_result",
          "data": {
            "text/plain": [
              "<fbprophet.forecaster.Prophet at 0x7f3b138969e8>"
            ]
          },
          "metadata": {
            "tags": []
          },
          "execution_count": 42
        }
      ]
    },
    {
      "cell_type": "code",
      "metadata": {
        "id": "OmKPuWxfT5vS",
        "colab_type": "code",
        "colab": {}
      },
      "source": [
        "future = prophet_model.make_future_dataframe(periods=51)"
      ],
      "execution_count": 43,
      "outputs": []
    },
    {
      "cell_type": "code",
      "metadata": {
        "id": "oRX3-IOMUEN7",
        "colab_type": "code",
        "colab": {
          "base_uri": "https://localhost:8080/",
          "height": 204
        },
        "outputId": "e82aef32-f98d-4024-fa4e-6949d72764db"
      },
      "source": [
        "forecast = prophet_model.predict(future)\n",
        "forecast[['ds', 'yhat', 'yhat_lower', 'yhat_upper']].tail()"
      ],
      "execution_count": 44,
      "outputs": [
        {
          "output_type": "execute_result",
          "data": {
            "text/html": [
              "<div>\n",
              "<style scoped>\n",
              "    .dataframe tbody tr th:only-of-type {\n",
              "        vertical-align: middle;\n",
              "    }\n",
              "\n",
              "    .dataframe tbody tr th {\n",
              "        vertical-align: top;\n",
              "    }\n",
              "\n",
              "    .dataframe thead th {\n",
              "        text-align: right;\n",
              "    }\n",
              "</style>\n",
              "<table border=\"1\" class=\"dataframe\">\n",
              "  <thead>\n",
              "    <tr style=\"text-align: right;\">\n",
              "      <th></th>\n",
              "      <th>ds</th>\n",
              "      <th>yhat</th>\n",
              "      <th>yhat_lower</th>\n",
              "      <th>yhat_upper</th>\n",
              "    </tr>\n",
              "  </thead>\n",
              "  <tbody>\n",
              "    <tr>\n",
              "      <th>164</th>\n",
              "      <td>2020-08-15</td>\n",
              "      <td>-0.641909</td>\n",
              "      <td>-1.400377</td>\n",
              "      <td>0.121260</td>\n",
              "    </tr>\n",
              "    <tr>\n",
              "      <th>165</th>\n",
              "      <td>2020-08-16</td>\n",
              "      <td>-0.641326</td>\n",
              "      <td>-1.371429</td>\n",
              "      <td>0.121575</td>\n",
              "    </tr>\n",
              "    <tr>\n",
              "      <th>166</th>\n",
              "      <td>2020-08-17</td>\n",
              "      <td>-0.670422</td>\n",
              "      <td>-1.422139</td>\n",
              "      <td>0.048145</td>\n",
              "    </tr>\n",
              "    <tr>\n",
              "      <th>167</th>\n",
              "      <td>2020-08-18</td>\n",
              "      <td>-0.711426</td>\n",
              "      <td>-1.471219</td>\n",
              "      <td>0.024633</td>\n",
              "    </tr>\n",
              "    <tr>\n",
              "      <th>168</th>\n",
              "      <td>2020-08-19</td>\n",
              "      <td>-0.710868</td>\n",
              "      <td>-1.473824</td>\n",
              "      <td>0.064632</td>\n",
              "    </tr>\n",
              "  </tbody>\n",
              "</table>\n",
              "</div>"
            ],
            "text/plain": [
              "            ds      yhat  yhat_lower  yhat_upper\n",
              "164 2020-08-15 -0.641909   -1.400377    0.121260\n",
              "165 2020-08-16 -0.641326   -1.371429    0.121575\n",
              "166 2020-08-17 -0.670422   -1.422139    0.048145\n",
              "167 2020-08-18 -0.711426   -1.471219    0.024633\n",
              "168 2020-08-19 -0.710868   -1.473824    0.064632"
            ]
          },
          "metadata": {
            "tags": []
          },
          "execution_count": 44
        }
      ]
    },
    {
      "cell_type": "code",
      "metadata": {
        "id": "-mzDxjpukDoq",
        "colab_type": "code",
        "colab": {
          "base_uri": "https://localhost:8080/",
          "height": 309
        },
        "outputId": "8332ce7d-30ec-4e48-88b8-110db07df81d"
      },
      "source": [
        "forecast.tail()"
      ],
      "execution_count": 45,
      "outputs": [
        {
          "output_type": "execute_result",
          "data": {
            "text/html": [
              "<div>\n",
              "<style scoped>\n",
              "    .dataframe tbody tr th:only-of-type {\n",
              "        vertical-align: middle;\n",
              "    }\n",
              "\n",
              "    .dataframe tbody tr th {\n",
              "        vertical-align: top;\n",
              "    }\n",
              "\n",
              "    .dataframe thead th {\n",
              "        text-align: right;\n",
              "    }\n",
              "</style>\n",
              "<table border=\"1\" class=\"dataframe\">\n",
              "  <thead>\n",
              "    <tr style=\"text-align: right;\">\n",
              "      <th></th>\n",
              "      <th>ds</th>\n",
              "      <th>trend</th>\n",
              "      <th>yhat_lower</th>\n",
              "      <th>yhat_upper</th>\n",
              "      <th>trend_lower</th>\n",
              "      <th>trend_upper</th>\n",
              "      <th>additive_terms</th>\n",
              "      <th>additive_terms_lower</th>\n",
              "      <th>additive_terms_upper</th>\n",
              "      <th>weekly</th>\n",
              "      <th>weekly_lower</th>\n",
              "      <th>weekly_upper</th>\n",
              "      <th>multiplicative_terms</th>\n",
              "      <th>multiplicative_terms_lower</th>\n",
              "      <th>multiplicative_terms_upper</th>\n",
              "      <th>yhat</th>\n",
              "    </tr>\n",
              "  </thead>\n",
              "  <tbody>\n",
              "    <tr>\n",
              "      <th>164</th>\n",
              "      <td>2020-08-15</td>\n",
              "      <td>-0.655841</td>\n",
              "      <td>-1.400377</td>\n",
              "      <td>0.121260</td>\n",
              "      <td>-0.656081</td>\n",
              "      <td>-0.655608</td>\n",
              "      <td>0.013932</td>\n",
              "      <td>0.013932</td>\n",
              "      <td>0.013932</td>\n",
              "      <td>0.013932</td>\n",
              "      <td>0.013932</td>\n",
              "      <td>0.013932</td>\n",
              "      <td>0.0</td>\n",
              "      <td>0.0</td>\n",
              "      <td>0.0</td>\n",
              "      <td>-0.641909</td>\n",
              "    </tr>\n",
              "    <tr>\n",
              "      <th>165</th>\n",
              "      <td>2020-08-16</td>\n",
              "      <td>-0.665452</td>\n",
              "      <td>-1.371429</td>\n",
              "      <td>0.121575</td>\n",
              "      <td>-0.665697</td>\n",
              "      <td>-0.665211</td>\n",
              "      <td>0.024125</td>\n",
              "      <td>0.024125</td>\n",
              "      <td>0.024125</td>\n",
              "      <td>0.024125</td>\n",
              "      <td>0.024125</td>\n",
              "      <td>0.024125</td>\n",
              "      <td>0.0</td>\n",
              "      <td>0.0</td>\n",
              "      <td>0.0</td>\n",
              "      <td>-0.641326</td>\n",
              "    </tr>\n",
              "    <tr>\n",
              "      <th>166</th>\n",
              "      <td>2020-08-17</td>\n",
              "      <td>-0.675063</td>\n",
              "      <td>-1.422139</td>\n",
              "      <td>0.048145</td>\n",
              "      <td>-0.675319</td>\n",
              "      <td>-0.674814</td>\n",
              "      <td>0.004640</td>\n",
              "      <td>0.004640</td>\n",
              "      <td>0.004640</td>\n",
              "      <td>0.004640</td>\n",
              "      <td>0.004640</td>\n",
              "      <td>0.004640</td>\n",
              "      <td>0.0</td>\n",
              "      <td>0.0</td>\n",
              "      <td>0.0</td>\n",
              "      <td>-0.670422</td>\n",
              "    </tr>\n",
              "    <tr>\n",
              "      <th>167</th>\n",
              "      <td>2020-08-18</td>\n",
              "      <td>-0.684674</td>\n",
              "      <td>-1.471219</td>\n",
              "      <td>0.024633</td>\n",
              "      <td>-0.684938</td>\n",
              "      <td>-0.684417</td>\n",
              "      <td>-0.026752</td>\n",
              "      <td>-0.026752</td>\n",
              "      <td>-0.026752</td>\n",
              "      <td>-0.026752</td>\n",
              "      <td>-0.026752</td>\n",
              "      <td>-0.026752</td>\n",
              "      <td>0.0</td>\n",
              "      <td>0.0</td>\n",
              "      <td>0.0</td>\n",
              "      <td>-0.711426</td>\n",
              "    </tr>\n",
              "    <tr>\n",
              "      <th>168</th>\n",
              "      <td>2020-08-19</td>\n",
              "      <td>-0.694285</td>\n",
              "      <td>-1.473824</td>\n",
              "      <td>0.064632</td>\n",
              "      <td>-0.694558</td>\n",
              "      <td>-0.694021</td>\n",
              "      <td>-0.016583</td>\n",
              "      <td>-0.016583</td>\n",
              "      <td>-0.016583</td>\n",
              "      <td>-0.016583</td>\n",
              "      <td>-0.016583</td>\n",
              "      <td>-0.016583</td>\n",
              "      <td>0.0</td>\n",
              "      <td>0.0</td>\n",
              "      <td>0.0</td>\n",
              "      <td>-0.710868</td>\n",
              "    </tr>\n",
              "  </tbody>\n",
              "</table>\n",
              "</div>"
            ],
            "text/plain": [
              "            ds     trend  ...  multiplicative_terms_upper      yhat\n",
              "164 2020-08-15 -0.655841  ...                         0.0 -0.641909\n",
              "165 2020-08-16 -0.665452  ...                         0.0 -0.641326\n",
              "166 2020-08-17 -0.675063  ...                         0.0 -0.670422\n",
              "167 2020-08-18 -0.684674  ...                         0.0 -0.711426\n",
              "168 2020-08-19 -0.694285  ...                         0.0 -0.710868\n",
              "\n",
              "[5 rows x 16 columns]"
            ]
          },
          "metadata": {
            "tags": []
          },
          "execution_count": 45
        }
      ]
    },
    {
      "cell_type": "code",
      "metadata": {
        "id": "Xf6d7_Dzkjzb",
        "colab_type": "code",
        "colab": {
          "base_uri": "https://localhost:8080/",
          "height": 343
        },
        "outputId": "56addb8f-c8ce-4677-8248-c7b5605b2c5d"
      },
      "source": [
        "NY_labeledData_Ulster_County.tail()"
      ],
      "execution_count": 46,
      "outputs": [
        {
          "output_type": "execute_result",
          "data": {
            "text/html": [
              "<div>\n",
              "<style scoped>\n",
              "    .dataframe tbody tr th:only-of-type {\n",
              "        vertical-align: middle;\n",
              "    }\n",
              "\n",
              "    .dataframe tbody tr th {\n",
              "        vertical-align: top;\n",
              "    }\n",
              "\n",
              "    .dataframe thead th {\n",
              "        text-align: right;\n",
              "    }\n",
              "</style>\n",
              "<table border=\"1\" class=\"dataframe\">\n",
              "  <thead>\n",
              "    <tr style=\"text-align: right;\">\n",
              "      <th></th>\n",
              "      <th>ds</th>\n",
              "      <th>fips_x</th>\n",
              "      <th>County Name</th>\n",
              "      <th>retail and recreation</th>\n",
              "      <th>grocery and pharmacy</th>\n",
              "      <th>parks</th>\n",
              "      <th>transit stations</th>\n",
              "      <th>workplaces</th>\n",
              "      <th>residential</th>\n",
              "      <th>driving</th>\n",
              "      <th>m50</th>\n",
              "      <th>m50_index</th>\n",
              "      <th>population_density</th>\n",
              "      <th>mask_rule_active</th>\n",
              "      <th>mask_wearing_percent</th>\n",
              "      <th>New cases</th>\n",
              "      <th>rolling_avg_new_cases</th>\n",
              "      <th>label</th>\n",
              "      <th>y</th>\n",
              "    </tr>\n",
              "  </thead>\n",
              "  <tbody>\n",
              "    <tr>\n",
              "      <th>9405</th>\n",
              "      <td>2020-08-15</td>\n",
              "      <td>36111</td>\n",
              "      <td>Ulster County</td>\n",
              "      <td>-4.0</td>\n",
              "      <td>9.0</td>\n",
              "      <td>0.0</td>\n",
              "      <td>37.0</td>\n",
              "      <td>-14.0</td>\n",
              "      <td>1.0</td>\n",
              "      <td>131.12</td>\n",
              "      <td>5.053</td>\n",
              "      <td>77</td>\n",
              "      <td>157.94937</td>\n",
              "      <td>1</td>\n",
              "      <td>0.818</td>\n",
              "      <td>3</td>\n",
              "      <td>4.571429</td>\n",
              "      <td>LessSpread</td>\n",
              "      <td>0</td>\n",
              "    </tr>\n",
              "    <tr>\n",
              "      <th>9466</th>\n",
              "      <td>2020-08-16</td>\n",
              "      <td>36111</td>\n",
              "      <td>Ulster County</td>\n",
              "      <td>-4.0</td>\n",
              "      <td>1.0</td>\n",
              "      <td>239.0</td>\n",
              "      <td>24.0</td>\n",
              "      <td>-13.0</td>\n",
              "      <td>2.0</td>\n",
              "      <td>109.20</td>\n",
              "      <td>2.003</td>\n",
              "      <td>30</td>\n",
              "      <td>157.94937</td>\n",
              "      <td>1</td>\n",
              "      <td>0.818</td>\n",
              "      <td>6</td>\n",
              "      <td>4.714286</td>\n",
              "      <td>LessSpread</td>\n",
              "      <td>0</td>\n",
              "    </tr>\n",
              "    <tr>\n",
              "      <th>9568</th>\n",
              "      <td>2020-08-17</td>\n",
              "      <td>36111</td>\n",
              "      <td>Ulster County</td>\n",
              "      <td>-4.0</td>\n",
              "      <td>1.0</td>\n",
              "      <td>0.0</td>\n",
              "      <td>20.0</td>\n",
              "      <td>-34.0</td>\n",
              "      <td>8.0</td>\n",
              "      <td>78.11</td>\n",
              "      <td>4.048</td>\n",
              "      <td>62</td>\n",
              "      <td>157.94937</td>\n",
              "      <td>1</td>\n",
              "      <td>0.818</td>\n",
              "      <td>3</td>\n",
              "      <td>3.714286</td>\n",
              "      <td>LessSpread</td>\n",
              "      <td>0</td>\n",
              "    </tr>\n",
              "    <tr>\n",
              "      <th>9632</th>\n",
              "      <td>2020-08-18</td>\n",
              "      <td>36111</td>\n",
              "      <td>Ulster County</td>\n",
              "      <td>0.0</td>\n",
              "      <td>0.0</td>\n",
              "      <td>0.0</td>\n",
              "      <td>0.0</td>\n",
              "      <td>0.0</td>\n",
              "      <td>0.0</td>\n",
              "      <td>87.84</td>\n",
              "      <td>4.134</td>\n",
              "      <td>63</td>\n",
              "      <td>157.94937</td>\n",
              "      <td>1</td>\n",
              "      <td>0.818</td>\n",
              "      <td>2</td>\n",
              "      <td>3.428571</td>\n",
              "      <td>LessSpread</td>\n",
              "      <td>0</td>\n",
              "    </tr>\n",
              "    <tr>\n",
              "      <th>9659</th>\n",
              "      <td>2020-08-19</td>\n",
              "      <td>36111</td>\n",
              "      <td>Ulster County</td>\n",
              "      <td>0.0</td>\n",
              "      <td>0.0</td>\n",
              "      <td>0.0</td>\n",
              "      <td>0.0</td>\n",
              "      <td>0.0</td>\n",
              "      <td>0.0</td>\n",
              "      <td>86.92</td>\n",
              "      <td>4.066</td>\n",
              "      <td>62</td>\n",
              "      <td>157.94937</td>\n",
              "      <td>1</td>\n",
              "      <td>0.818</td>\n",
              "      <td>6</td>\n",
              "      <td>4.142857</td>\n",
              "      <td>LessSpread</td>\n",
              "      <td>0</td>\n",
              "    </tr>\n",
              "  </tbody>\n",
              "</table>\n",
              "</div>"
            ],
            "text/plain": [
              "              ds  fips_x    County Name  ...  rolling_avg_new_cases       label  y\n",
              "9405  2020-08-15   36111  Ulster County  ...               4.571429  LessSpread  0\n",
              "9466  2020-08-16   36111  Ulster County  ...               4.714286  LessSpread  0\n",
              "9568  2020-08-17   36111  Ulster County  ...               3.714286  LessSpread  0\n",
              "9632  2020-08-18   36111  Ulster County  ...               3.428571  LessSpread  0\n",
              "9659  2020-08-19   36111  Ulster County  ...               4.142857  LessSpread  0\n",
              "\n",
              "[5 rows x 19 columns]"
            ]
          },
          "metadata": {
            "tags": []
          },
          "execution_count": 46
        }
      ]
    },
    {
      "cell_type": "code",
      "metadata": {
        "id": "PWNaPm-LpuHt",
        "colab_type": "code",
        "colab": {
          "base_uri": "https://localhost:8080/",
          "height": 34
        },
        "outputId": "e9563bcf-0479-4370-9f70-6902db82dcb2"
      },
      "source": [
        "NY_labeledData_Ulster_County.shape"
      ],
      "execution_count": 47,
      "outputs": [
        {
          "output_type": "execute_result",
          "data": {
            "text/plain": [
              "(170, 19)"
            ]
          },
          "metadata": {
            "tags": []
          },
          "execution_count": 47
        }
      ]
    },
    {
      "cell_type": "code",
      "metadata": {
        "id": "aV3nN05pp7PL",
        "colab_type": "code",
        "colab": {
          "base_uri": "https://localhost:8080/",
          "height": 34
        },
        "outputId": "e987b5a7-52d1-4030-f277-3fd6b6b422f1"
      },
      "source": [
        "NY_labeledData_70_Ulster_County.shape"
      ],
      "execution_count": 48,
      "outputs": [
        {
          "output_type": "execute_result",
          "data": {
            "text/plain": [
              "(118, 19)"
            ]
          },
          "metadata": {
            "tags": []
          },
          "execution_count": 48
        }
      ]
    },
    {
      "cell_type": "code",
      "metadata": {
        "id": "uJmS_SL7qKDi",
        "colab_type": "code",
        "colab": {
          "base_uri": "https://localhost:8080/",
          "height": 34
        },
        "outputId": "cceb983d-f2c0-40f2-a534-bd52bfa23962"
      },
      "source": [
        "future.shape"
      ],
      "execution_count": 49,
      "outputs": [
        {
          "output_type": "execute_result",
          "data": {
            "text/plain": [
              "(169, 1)"
            ]
          },
          "metadata": {
            "tags": []
          },
          "execution_count": 49
        }
      ]
    },
    {
      "cell_type": "markdown",
      "metadata": {
        "id": "YR6lmVAGUtDx",
        "colab_type": "text"
      },
      "source": [
        "### Plot forecast"
      ]
    },
    {
      "cell_type": "code",
      "metadata": {
        "id": "4ulCv8tHUrRp",
        "colab_type": "code",
        "colab": {
          "base_uri": "https://localhost:8080/",
          "height": 441
        },
        "outputId": "9cc7d1e0-903e-45df-e49c-ecff659d0db8"
      },
      "source": [
        "fig1 = prophet_model.plot(forecast)"
      ],
      "execution_count": 52,
      "outputs": [
        {
          "output_type": "display_data",
          "data": {
            "image/png": "[encoded data removed]",
            "text/plain": [
              "<Figure size 720x432 with 1 Axes>"
            ]
          },
          "metadata": {
            "tags": []
          }
        }
      ]
    },
    {
      "cell_type": "code",
      "metadata": {
        "id": "-dVpcMA_UyxT",
        "colab_type": "code",
        "colab": {
          "base_uri": "https://localhost:8080/",
          "height": 441
        },
        "outputId": "bfb3b686-e773-47e2-b92a-12d91555b1b3"
      },
      "source": [
        "fig2 = prophet_model.plot_components(forecast)"
      ],
      "execution_count": 53,
      "outputs": [
        {
          "output_type": "display_data",
          "data": {
            "image/png": "[encoded data removed]",
            "text/plain": [
              "<Figure size 648x432 with 2 Axes>"
            ]
          },
          "metadata": {
            "tags": []
          }
        }
      ]
    },
    {
      "cell_type": "code",
      "metadata": {
        "id": "CLVM_k_oU-q5",
        "colab_type": "code",
        "colab": {
          "base_uri": "https://localhost:8080/",
          "height": 617
        },
        "outputId": "5978b088-aef6-45ae-af6f-ebbde984d328"
      },
      "source": [
        "plot_plotly(prophet_model, forecast)"
      ],
      "execution_count": 54,
      "outputs": [
        {
          "output_type": "display_data",
          "data": {
            "text/html": [
              "<html>\n",
              "<head><meta charset=\"utf-8\" /></head>\n",
              "<body>\n",
              "    <div>\n",
              "            <script src=\"https://cdnjs.cloudflare.com/ajax/libs/mathjax/2.7.5/MathJax.js?config=TeX-AMS-MML_SVG\"></script><script type=\"text/javascript\">if (window.MathJax) {MathJax.Hub.Config({SVG: {font: \"STIX-Web\"}});}</script>\n",
              "                <script type=\"text/javascript\">window.PlotlyConfig = {MathJaxConfig: 'local'};</script>\n",
              "        <script src=\"https://cdn.plot.ly/plotly-latest.min.js\"></script>    \n",
              "            <div id=\"8dc93c11-9cbb-4dd5-842c-4a4945ad1b9c\" class=\"plotly-graph-div\" style=\"height:600px; width:900px;\"></div>\n",
              "            <script type=\"text/javascript\">\n",
              "                \n",
              "                    window.PLOTLYENV=window.PLOTLYENV || {};\n",
              "                    \n",
              "                if (document.getElementById(\"8dc93c11-9cbb-4dd5-842c-4a4945ad1b9c\")) {\n",
              "                    Plotly.newPlot(\n",
              "                        '8dc93c11-9cbb-4dd5-842c-4a4945ad1b9c',\n",
              "                        [{\"marker\": {\"color\": \"black\", \"size\": 4}, \"mode\": \"markers\", \"name\": \"Actual\", \"type\": \"scatter\", \"x\": [\"2020-03-02T00:00:00\", \"2020-03-03T00:00:00\", \"2020-03-04T00:00:00\", \"2020-03-05T00:00:00\", \"2020-03-06T00:00:00\", \"2020-03-07T00:00:00\", \"2020-03-08T00:00:00\", \"2020-03-09T00:00:00\", \"2020-03-10T00:00:00\", \"2020-03-11T00:00:00\", \"2020-03-12T00:00:00\", \"2020-03-13T00:00:00\", \"2020-03-14T00:00:00\", \"2020-03-15T00:00:00\", \"2020-03-16T00:00:00\", \"2020-03-17T00:00:00\", \"2020-03-18T00:00:00\", \"2020-03-19T00:00:00\", \"2020-03-20T00:00:00\", \"2020-03-21T00:00:00\", \"2020-03-22T00:00:00\", \"2020-03-23T00:00:00\", \"2020-03-24T00:00:00\", \"2020-03-25T00:00:00\", \"2020-03-26T00:00:00\", \"2020-03-27T00:00:00\", \"2020-03-28T00:00:00\", \"2020-03-29T00:00:00\", \"2020-03-30T00:00:00\", \"2020-03-31T00:00:00\", \"2020-04-01T00:00:00\", \"2020-04-02T00:00:00\", \"2020-04-03T00:00:00\", \"2020-04-04T00:00:00\", \"2020-04-05T00:00:00\", \"2020-04-06T00:00:00\", \"2020-04-07T00:00:00\", \"2020-04-08T00:00:00\", \"2020-04-09T00:00:00\", \"2020-04-10T00:00:00\", \"2020-04-11T00:00:00\", \"2020-04-12T00:00:00\", \"2020-04-13T00:00:00\", \"2020-04-14T00:00:00\", \"2020-04-15T00:00:00\", \"2020-04-16T00:00:00\", \"2020-04-17T00:00:00\", \"2020-04-18T00:00:00\", \"2020-04-19T00:00:00\", \"2020-04-21T00:00:00\", \"2020-04-22T00:00:00\", \"2020-04-23T00:00:00\", \"2020-04-24T00:00:00\", \"2020-04-25T00:00:00\", \"2020-04-26T00:00:00\", \"2020-04-27T00:00:00\", \"2020-04-28T00:00:00\", \"2020-04-29T00:00:00\", \"2020-04-30T00:00:00\", \"2020-05-01T00:00:00\", \"2020-05-02T00:00:00\", \"2020-05-03T00:00:00\", \"2020-05-04T00:00:00\", \"2020-05-05T00:00:00\", \"2020-05-06T00:00:00\", \"2020-05-07T00:00:00\", \"2020-05-08T00:00:00\", \"2020-05-09T00:00:00\", \"2020-05-10T00:00:00\", \"2020-05-11T00:00:00\", \"2020-05-12T00:00:00\", \"2020-05-13T00:00:00\", \"2020-05-14T00:00:00\", \"2020-05-15T00:00:00\", \"2020-05-16T00:00:00\", \"2020-05-17T00:00:00\", \"2020-05-18T00:00:00\", \"2020-05-19T00:00:00\", \"2020-05-20T00:00:00\", \"2020-05-21T00:00:00\", \"2020-05-22T00:00:00\", \"2020-05-23T00:00:00\", \"2020-05-24T00:00:00\", \"2020-05-25T00:00:00\", \"2020-05-26T00:00:00\", \"2020-05-27T00:00:00\", \"2020-05-28T00:00:00\", \"2020-05-30T00:00:00\", \"2020-05-31T00:00:00\", \"2020-06-01T00:00:00\", \"2020-06-02T00:00:00\", \"2020-06-03T00:00:00\", \"2020-06-04T00:00:00\", \"2020-06-05T00:00:00\", \"2020-06-06T00:00:00\", \"2020-06-07T00:00:00\", \"2020-06-08T00:00:00\", \"2020-06-09T00:00:00\", \"2020-06-10T00:00:00\", \"2020-06-11T00:00:00\", \"2020-06-12T00:00:00\", \"2020-06-13T00:00:00\", \"2020-06-14T00:00:00\", \"2020-06-15T00:00:00\", \"2020-06-16T00:00:00\", \"2020-06-17T00:00:00\", \"2020-06-18T00:00:00\", \"2020-06-19T00:00:00\", \"2020-06-20T00:00:00\", \"2020-06-21T00:00:00\", \"2020-06-22T00:00:00\", \"2020-06-23T00:00:00\", \"2020-06-24T00:00:00\", \"2020-06-25T00:00:00\", \"2020-06-26T00:00:00\", \"2020-06-27T00:00:00\", \"2020-06-28T00:00:00\", \"2020-06-29T00:00:00\"], \"y\": [0, 0, 0, 0, 0, 0, 0, 0, 0, 0, 0, 0, 0, 2, 2, 2, 2, 2, 2, 2, 2, 2, 2, 2, 2, 2, 2, 1, 1, 1, 1, 1, 1, 1, 1, 1, 1, 1, 1, 1, 1, 0, 0, 0, 0, 0, 0, 0, 0, 0, 0, 0, 0, 0, 0, 0, 0, 0, 0, 0, 0, 0, 0, 0, 0, 0, 0, 0, 0, 0, 0, 0, 0, 0, 0, 0, 0, 0, 0, 0, 0, 0, 0, 0, 0, 0, 0, 0, 0, 0, 0, 0, 0, 0, 0, 0, 0, 0, 0, 0, 0, 0, 0, 0, 0, 0, 0, 0, 0, 0, 0, 0, 0, 0, 0, 0, 0, 0]}, {\"hoverinfo\": \"skip\", \"line\": {\"width\": 0}, \"mode\": \"lines\", \"type\": \"scatter\", \"x\": [\"2020-03-02T00:00:00\", \"2020-03-03T00:00:00\", \"2020-03-04T00:00:00\", \"2020-03-05T00:00:00\", \"2020-03-06T00:00:00\", \"2020-03-07T00:00:00\", \"2020-03-08T00:00:00\", \"2020-03-09T00:00:00\", \"2020-03-10T00:00:00\", \"2020-03-11T00:00:00\", \"2020-03-12T00:00:00\", \"2020-03-13T00:00:00\", \"2020-03-14T00:00:00\", \"2020-03-15T00:00:00\", \"2020-03-16T00:00:00\", \"2020-03-17T00:00:00\", \"2020-03-18T00:00:00\", \"2020-03-19T00:00:00\", \"2020-03-20T00:00:00\", \"2020-03-21T00:00:00\", \"2020-03-22T00:00:00\", \"2020-03-23T00:00:00\", \"2020-03-24T00:00:00\", \"2020-03-25T00:00:00\", \"2020-03-26T00:00:00\", \"2020-03-27T00:00:00\", \"2020-03-28T00:00:00\", \"2020-03-29T00:00:00\", \"2020-03-30T00:00:00\", \"2020-03-31T00:00:00\", \"2020-04-01T00:00:00\", \"2020-04-02T00:00:00\", \"2020-04-03T00:00:00\", \"2020-04-04T00:00:00\", \"2020-04-05T00:00:00\", \"2020-04-06T00:00:00\", \"2020-04-07T00:00:00\", \"2020-04-08T00:00:00\", \"2020-04-09T00:00:00\", \"2020-04-10T00:00:00\", \"2020-04-11T00:00:00\", \"2020-04-12T00:00:00\", \"2020-04-13T00:00:00\", \"2020-04-14T00:00:00\", \"2020-04-15T00:00:00\", \"2020-04-16T00:00:00\", \"2020-04-17T00:00:00\", \"2020-04-18T00:00:00\", \"2020-04-19T00:00:00\", \"2020-04-21T00:00:00\", \"2020-04-22T00:00:00\", \"2020-04-23T00:00:00\", \"2020-04-24T00:00:00\", \"2020-04-25T00:00:00\", \"2020-04-26T00:00:00\", \"2020-04-27T00:00:00\", \"2020-04-28T00:00:00\", \"2020-04-29T00:00:00\", \"2020-04-30T00:00:00\", \"2020-05-01T00:00:00\", \"2020-05-02T00:00:00\", \"2020-05-03T00:00:00\", \"2020-05-04T00:00:00\", \"2020-05-05T00:00:00\", \"2020-05-06T00:00:00\", \"2020-05-07T00:00:00\", \"2020-05-08T00:00:00\", \"2020-05-09T00:00:00\", \"2020-05-10T00:00:00\", \"2020-05-11T00:00:00\", \"2020-05-12T00:00:00\", \"2020-05-13T00:00:00\", \"2020-05-14T00:00:00\", \"2020-05-15T00:00:00\", \"2020-05-16T00:00:00\", \"2020-05-17T00:00:00\", \"2020-05-18T00:00:00\", \"2020-05-19T00:00:00\", \"2020-05-20T00:00:00\", \"2020-05-21T00:00:00\", \"2020-05-22T00:00:00\", \"2020-05-23T00:00:00\", \"2020-05-24T00:00:00\", \"2020-05-25T00:00:00\", \"2020-05-26T00:00:00\", \"2020-05-27T00:00:00\", \"2020-05-28T00:00:00\", \"2020-05-30T00:00:00\", \"2020-05-31T00:00:00\", \"2020-06-01T00:00:00\", \"2020-06-02T00:00:00\", \"2020-06-03T00:00:00\", \"2020-06-04T00:00:00\", \"2020-06-05T00:00:00\", \"2020-06-06T00:00:00\", \"2020-06-07T00:00:00\", \"2020-06-08T00:00:00\", \"2020-06-09T00:00:00\", \"2020-06-10T00:00:00\", \"2020-06-11T00:00:00\", \"2020-06-12T00:00:00\", \"2020-06-13T00:00:00\", \"2020-06-14T00:00:00\", \"2020-06-15T00:00:00\", \"2020-06-16T00:00:00\", \"2020-06-17T00:00:00\", \"2020-06-18T00:00:00\", \"2020-06-19T00:00:00\", \"2020-06-20T00:00:00\", \"2020-06-21T00:00:00\", \"2020-06-22T00:00:00\", \"2020-06-23T00:00:00\", \"2020-06-24T00:00:00\", \"2020-06-25T00:00:00\", \"2020-06-26T00:00:00\", \"2020-06-27T00:00:00\", \"2020-06-28T00:00:00\", \"2020-06-29T00:00:00\", \"2020-06-30T00:00:00\", \"2020-07-01T00:00:00\", \"2020-07-02T00:00:00\", \"2020-07-03T00:00:00\", \"2020-07-04T00:00:00\", \"2020-07-05T00:00:00\", \"2020-07-06T00:00:00\", \"2020-07-07T00:00:00\", \"2020-07-08T00:00:00\", \"2020-07-09T00:00:00\", \"2020-07-10T00:00:00\", \"2020-07-11T00:00:00\", \"2020-07-12T00:00:00\", \"2020-07-13T00:00:00\", \"2020-07-14T00:00:00\", \"2020-07-15T00:00:00\", \"2020-07-16T00:00:00\", \"2020-07-17T00:00:00\", \"2020-07-18T00:00:00\", \"2020-07-19T00:00:00\", \"2020-07-20T00:00:00\", \"2020-07-21T00:00:00\", \"2020-07-22T00:00:00\", \"2020-07-23T00:00:00\", \"2020-07-24T00:00:00\", \"2020-07-25T00:00:00\", \"2020-07-26T00:00:00\", \"2020-07-27T00:00:00\", \"2020-07-28T00:00:00\", \"2020-07-29T00:00:00\", \"2020-07-30T00:00:00\", \"2020-07-31T00:00:00\", \"2020-08-01T00:00:00\", \"2020-08-02T00:00:00\", \"2020-08-03T00:00:00\", \"2020-08-04T00:00:00\", \"2020-08-05T00:00:00\", \"2020-08-06T00:00:00\", \"2020-08-07T00:00:00\", \"2020-08-08T00:00:00\", \"2020-08-09T00:00:00\", \"2020-08-10T00:00:00\", \"2020-08-11T00:00:00\", \"2020-08-12T00:00:00\", \"2020-08-13T00:00:00\", \"2020-08-14T00:00:00\", \"2020-08-15T00:00:00\", \"2020-08-16T00:00:00\", \"2020-08-17T00:00:00\", \"2020-08-18T00:00:00\", \"2020-08-19T00:00:00\"], \"y\": [0.18832910193208535, 0.18619171960111416, 0.08677905220215175, 0.1201531604320106, 0.14694435861352617, 0.19592095762935838, 0.10844917602659096, 0.15088623037606208, 0.09351189007888064, 0.06846404611678304, 0.08045158399873449, 0.15590787219887037, 0.06933995512443913, 0.09568873864004881, 0.09087770396866557, -0.010731684303060061, 0.042818099893697316, 0.06262915259374921, 0.048531427162249924, 0.033824899394305406, 0.022546677041135103, -0.06570256149635258, -0.089224106047278, 0.017211397522211472, -0.005837126451852872, -0.01567399770562888, -0.07665404433581209, -0.044966953410674755, -0.09583630199551063, -0.08562888647214831, -0.1619970668458579, -0.09065393614735744, -0.17794279773641503, -0.11549225751296874, -0.10607814053379028, -0.1447474937374665, -0.08942326758566173, -0.21465194443002103, -0.12996842130708403, -0.18146474072996122, -0.1688139791401724, -0.1871070098725076, -0.23540541838040874, -0.24307469458050177, -0.20318359563677713, -0.21168267142146652, -0.2078085354230505, -0.2744651672715276, -0.2659230370748434, -0.305921725833223, -0.33336529382234514, -0.2982761675372628, -0.3360564467179271, -0.30241604776246067, -0.23015165036120483, -0.3160130502103589, -0.3002404441534032, -0.3182579987097967, -0.3887410580800617, -0.3543900143674047, -0.4327471602656328, -0.31814676687834686, -0.41408748788497296, -0.4177413841777794, -0.41246917373313957, -0.48533758090885143, -0.43598098895880466, -0.4806591447720379, -0.47711421824855826, -0.44638425234090295, -0.5566261726970247, -0.5073588123335114, -0.49498309407558283, -0.5176556465307839, -0.47705290565010977, -0.4932930936768911, -0.5524285968521171, -0.5785770726239162, -0.6043412900614852, -0.5758692856049175, -0.5581321072225172, -0.541386537032765, -0.5408243755296376, -0.6617328351891167, -0.6374497766460526, -0.6669715846887854, -0.6553275977116798, -0.6695997211447513, -0.6234303080495166, -0.6700372701494093, -0.7439231669332049, -0.7101915741806245, -0.6984671944549484, -0.683098571043022, -0.7000358351560615, -0.643300434219068, -0.6719319334073395, -0.78719070178683, -0.7455627405802029, -0.7694637317707737, -0.8001063006940594, -0.8069450237054302, -0.7725221475962358, -0.8134713058698833, -0.9074336542890434, -0.9350531465757141, -0.8082714447738568, -0.8495396102465258, -0.8414623116699806, -0.8642525676765273, -0.8250656107807437, -0.9326632640459402, -0.8727731361421465, -0.9388339857712003, -0.8939412254422477, -0.9444971144246783, -0.9117366891023021, -0.8982144639037012, -0.9866270382554528, -0.9395093197447733, -0.9849142039326048, -0.9401891084699607, -1.0013233908410752, -1.0004812616532766, -0.9790774272425947, -1.0479597096128939, -1.0692440161331305, -1.0564242910596977, -1.1130748242576805, -1.066733470546809, -1.0882770219968045, -1.1222916193872303, -1.062098612586862, -1.1519691558933427, -1.0980661856949154, -1.1524575939067023, -1.127791383454725, -1.1245838365664174, -1.1523051706589484, -1.1281533968305804, -1.1524793242100548, -1.182724195817382, -1.1086146980573752, -1.2249377578382294, -1.2524326348725432, -1.251809858985012, -1.2595857344339794, -1.2383706149224885, -1.2865643742799473, -1.2543319065605714, -1.218736191190601, -1.2535094855824145, -1.2924574122897838, -1.2688958111351045, -1.3221501636998783, -1.2925839637978762, -1.280985808806215, -1.3693480885262794, -1.3974415060239078, -1.402979560331467, -1.3706347407416186, -1.2940117839841745, -1.36604974195856, -1.4065455824245092, -1.4003772809276378, -1.3714287142567123, -1.4221388053430124, -1.4712193314937, -1.4738236969255376]}, {\"fill\": \"tonexty\", \"fillcolor\": \"rgba(0, 114, 178, 0.2)\", \"line\": {\"color\": \"#0072B2\", \"width\": 2}, \"mode\": \"lines\", \"name\": \"Predicted\", \"type\": \"scatter\", \"x\": [\"2020-03-02T00:00:00\", \"2020-03-03T00:00:00\", \"2020-03-04T00:00:00\", \"2020-03-05T00:00:00\", \"2020-03-06T00:00:00\", \"2020-03-07T00:00:00\", \"2020-03-08T00:00:00\", \"2020-03-09T00:00:00\", \"2020-03-10T00:00:00\", \"2020-03-11T00:00:00\", \"2020-03-12T00:00:00\", \"2020-03-13T00:00:00\", \"2020-03-14T00:00:00\", \"2020-03-15T00:00:00\", \"2020-03-16T00:00:00\", \"2020-03-17T00:00:00\", \"2020-03-18T00:00:00\", \"2020-03-19T00:00:00\", \"2020-03-20T00:00:00\", \"2020-03-21T00:00:00\", \"2020-03-22T00:00:00\", \"2020-03-23T00:00:00\", \"2020-03-24T00:00:00\", \"2020-03-25T00:00:00\", \"2020-03-26T00:00:00\", \"2020-03-27T00:00:00\", \"2020-03-28T00:00:00\", \"2020-03-29T00:00:00\", \"2020-03-30T00:00:00\", \"2020-03-31T00:00:00\", \"2020-04-01T00:00:00\", \"2020-04-02T00:00:00\", \"2020-04-03T00:00:00\", \"2020-04-04T00:00:00\", \"2020-04-05T00:00:00\", \"2020-04-06T00:00:00\", \"2020-04-07T00:00:00\", \"2020-04-08T00:00:00\", \"2020-04-09T00:00:00\", \"2020-04-10T00:00:00\", \"2020-04-11T00:00:00\", \"2020-04-12T00:00:00\", \"2020-04-13T00:00:00\", \"2020-04-14T00:00:00\", \"2020-04-15T00:00:00\", \"2020-04-16T00:00:00\", \"2020-04-17T00:00:00\", \"2020-04-18T00:00:00\", \"2020-04-19T00:00:00\", \"2020-04-21T00:00:00\", \"2020-04-22T00:00:00\", \"2020-04-23T00:00:00\", \"2020-04-24T00:00:00\", \"2020-04-25T00:00:00\", \"2020-04-26T00:00:00\", \"2020-04-27T00:00:00\", \"2020-04-28T00:00:00\", \"2020-04-29T00:00:00\", \"2020-04-30T00:00:00\", \"2020-05-01T00:00:00\", \"2020-05-02T00:00:00\", \"2020-05-03T00:00:00\", \"2020-05-04T00:00:00\", \"2020-05-05T00:00:00\", \"2020-05-06T00:00:00\", \"2020-05-07T00:00:00\", \"2020-05-08T00:00:00\", \"2020-05-09T00:00:00\", \"2020-05-10T00:00:00\", \"2020-05-11T00:00:00\", \"2020-05-12T00:00:00\", \"2020-05-13T00:00:00\", \"2020-05-14T00:00:00\", \"2020-05-15T00:00:00\", \"2020-05-16T00:00:00\", \"2020-05-17T00:00:00\", \"2020-05-18T00:00:00\", \"2020-05-19T00:00:00\", \"2020-05-20T00:00:00\", \"2020-05-21T00:00:00\", \"2020-05-22T00:00:00\", \"2020-05-23T00:00:00\", \"2020-05-24T00:00:00\", \"2020-05-25T00:00:00\", \"2020-05-26T00:00:00\", \"2020-05-27T00:00:00\", \"2020-05-28T00:00:00\", \"2020-05-30T00:00:00\", \"2020-05-31T00:00:00\", \"2020-06-01T00:00:00\", \"2020-06-02T00:00:00\", \"2020-06-03T00:00:00\", \"2020-06-04T00:00:00\", \"2020-06-05T00:00:00\", \"2020-06-06T00:00:00\", \"2020-06-07T00:00:00\", \"2020-06-08T00:00:00\", \"2020-06-09T00:00:00\", \"2020-06-10T00:00:00\", \"2020-06-11T00:00:00\", \"2020-06-12T00:00:00\", \"2020-06-13T00:00:00\", \"2020-06-14T00:00:00\", \"2020-06-15T00:00:00\", \"2020-06-16T00:00:00\", \"2020-06-17T00:00:00\", \"2020-06-18T00:00:00\", \"2020-06-19T00:00:00\", \"2020-06-20T00:00:00\", \"2020-06-21T00:00:00\", \"2020-06-22T00:00:00\", \"2020-06-23T00:00:00\", \"2020-06-24T00:00:00\", \"2020-06-25T00:00:00\", \"2020-06-26T00:00:00\", \"2020-06-27T00:00:00\", \"2020-06-28T00:00:00\", \"2020-06-29T00:00:00\", \"2020-06-30T00:00:00\", \"2020-07-01T00:00:00\", \"2020-07-02T00:00:00\", \"2020-07-03T00:00:00\", \"2020-07-04T00:00:00\", \"2020-07-05T00:00:00\", \"2020-07-06T00:00:00\", \"2020-07-07T00:00:00\", \"2020-07-08T00:00:00\", \"2020-07-09T00:00:00\", \"2020-07-10T00:00:00\", \"2020-07-11T00:00:00\", \"2020-07-12T00:00:00\", \"2020-07-13T00:00:00\", \"2020-07-14T00:00:00\", \"2020-07-15T00:00:00\", \"2020-07-16T00:00:00\", \"2020-07-17T00:00:00\", \"2020-07-18T00:00:00\", \"2020-07-19T00:00:00\", \"2020-07-20T00:00:00\", \"2020-07-21T00:00:00\", \"2020-07-22T00:00:00\", \"2020-07-23T00:00:00\", \"2020-07-24T00:00:00\", \"2020-07-25T00:00:00\", \"2020-07-26T00:00:00\", \"2020-07-27T00:00:00\", \"2020-07-28T00:00:00\", \"2020-07-29T00:00:00\", \"2020-07-30T00:00:00\", \"2020-07-31T00:00:00\", \"2020-08-01T00:00:00\", \"2020-08-02T00:00:00\", \"2020-08-03T00:00:00\", \"2020-08-04T00:00:00\", \"2020-08-05T00:00:00\", \"2020-08-06T00:00:00\", \"2020-08-07T00:00:00\", \"2020-08-08T00:00:00\", \"2020-08-09T00:00:00\", \"2020-08-10T00:00:00\", \"2020-08-11T00:00:00\", \"2020-08-12T00:00:00\", \"2020-08-13T00:00:00\", \"2020-08-14T00:00:00\", \"2020-08-15T00:00:00\", \"2020-08-16T00:00:00\", \"2020-08-17T00:00:00\", \"2020-08-18T00:00:00\", \"2020-08-19T00:00:00\"], \"y\": [0.9433478146944313, 0.9023838877578867, 0.902981261299287, 0.9035812344059814, 0.9074705769771609, 0.9047816236684179, 0.9054037434554033, 0.8763470579688104, 0.8353831299107463, 0.8359805023307826, 0.8365804743160755, 0.8404698157658435, 0.8377808603365797, 0.8384029780030341, 0.809346290395903, 0.7683823603395226, 0.768979724221539, 0.7695796876687916, 0.7734690205805151, 0.7707800586115834, 0.7714021534191455, 0.7423454429531152, 0.7013814900378803, 0.7019395257011728, 0.7025001609298102, 0.7063501656228268, 0.7036218754352179, 0.7042045981013504, 0.67510851549393, 0.6341051904373443, 0.6346631658587079, 0.6352237407068146, 0.6390736850193224, 0.6363453344511301, 0.6369280563520747, 0.6078319729793092, 0.5668286471574837, 0.5673866218136072, 0.5679471960744779, 0.5717971397997282, 0.5690687886443119, 0.5696515105846272, 0.5405554272367541, 0.4995521014398564, 0.5001100761209075, 0.5006706503672255, 0.5045205941217187, 0.5017922429955124, 0.5023749649649919, 0.43227555583607147, 0.4328335305250015, 0.43339410477923435, 0.43724404849796006, 0.4345156973980845, 0.4350984193939159, 0.4060023361161716, 0.36499901038926474, 0.3655569851673779, 0.3661175595107606, 0.369967503318607, 0.36723915224576353, 0.367821874266416, 0.33872579101344746, 0.29772246531131386, 0.2982804400280029, 0.2988410143099253, 0.30269095805631585, 0.2999626069219863, 0.30054532889112495, 0.271449245586612, 0.2304459198330119, 0.23100389455734172, 0.2315644688508749, 0.23541441260880128, 0.23268606148605542, 0.23326878344052124, 0.20417270012147848, 0.16316937435309414, 0.16372734906278522, 0.16428792342234694, 0.16813786724629703, 0.16540951618957594, 0.16599223822858575, 0.1368961549787585, 0.0958928292796692, 0.09645080405865508, 0.09701137840289745, 0.09813297126040701, 0.09871569334453599, 0.0696196101550826, 0.028616284511995358, 0.029174259347000422, 0.029734833747247585, 0.03358477761195445, 0.030856426582071137, 0.031439148647826806, 0.0023430654400395604, -0.038660260216926076, -0.03810228539588101, -0.0375417110095882, -0.03369176715882368, -0.03642011818871472, -0.035837396122917524, -0.06493347933075821, -0.10593680498770267, -0.10537883016665248, -0.10481825578035729, -0.10096831192960182, -0.10369666295953928, -0.10311394089373183, -0.13221002410157967, -0.1732133497585121, -0.17265537493742364, -0.17209480055117524, -0.16824485670038006, -0.17097320773030186, -0.17039048566449436, -0.19948656887237753, -0.2404898945292887, -0.23993191970825878, -0.23937134532194423, -0.2355214014711425, -0.23824975250106464, -0.2376670304352569, -0.26676311364304334, -0.3077664393000818, -0.30720846447902367, -0.30664789009271876, -0.30279794624193634, -0.3055262972718506, -0.30494357520607135, -0.33403965841384126, -0.3750429840708747, -0.37448500924978884, -0.37392443486349325, -0.3700744910127242, -0.3728028420426751, -0.37222011997683385, -0.4013162031846625, -0.44231952884166786, -0.44176155402063016, -0.44120097963425714, -0.4373510357835025, -0.44007938681343767, -0.43949666474762233, -0.46859274795543676, -0.5095960736123889, -0.5090380987913891, -0.5084775244050317, -0.5046275805542807, -0.5073559315842002, -0.5067732095183665, -0.5358692927262583, -0.5768726183831819, -0.5763146435621604, -0.5757540691758009, -0.5719041253250587, -0.5746324763549862, -0.5740497542891808, -0.6031458374970797, -0.6441491631539751, -0.6435911883329256, -0.6430306139466186, -0.6391806700958466, -0.6419090211257258, -0.6413262990599432, -0.670422382267854, -0.7114257079247126, -0.7108677331036906]}, {\"fill\": \"tonexty\", \"fillcolor\": \"rgba(0, 114, 178, 0.2)\", \"hoverinfo\": \"skip\", \"line\": {\"width\": 0}, \"mode\": \"lines\", \"type\": \"scatter\", \"x\": [\"2020-03-02T00:00:00\", \"2020-03-03T00:00:00\", \"2020-03-04T00:00:00\", \"2020-03-05T00:00:00\", \"2020-03-06T00:00:00\", \"2020-03-07T00:00:00\", \"2020-03-08T00:00:00\", \"2020-03-09T00:00:00\", \"2020-03-10T00:00:00\", \"2020-03-11T00:00:00\", \"2020-03-12T00:00:00\", \"2020-03-13T00:00:00\", \"2020-03-14T00:00:00\", \"2020-03-15T00:00:00\", \"2020-03-16T00:00:00\", \"2020-03-17T00:00:00\", \"2020-03-18T00:00:00\", \"2020-03-19T00:00:00\", \"2020-03-20T00:00:00\", \"2020-03-21T00:00:00\", \"2020-03-22T00:00:00\", \"2020-03-23T00:00:00\", \"2020-03-24T00:00:00\", \"2020-03-25T00:00:00\", \"2020-03-26T00:00:00\", \"2020-03-27T00:00:00\", \"2020-03-28T00:00:00\", \"2020-03-29T00:00:00\", \"2020-03-30T00:00:00\", \"2020-03-31T00:00:00\", \"2020-04-01T00:00:00\", \"2020-04-02T00:00:00\", \"2020-04-03T00:00:00\", \"2020-04-04T00:00:00\", \"2020-04-05T00:00:00\", \"2020-04-06T00:00:00\", \"2020-04-07T00:00:00\", \"2020-04-08T00:00:00\", \"2020-04-09T00:00:00\", \"2020-04-10T00:00:00\", \"2020-04-11T00:00:00\", \"2020-04-12T00:00:00\", \"2020-04-13T00:00:00\", \"2020-04-14T00:00:00\", \"2020-04-15T00:00:00\", \"2020-04-16T00:00:00\", \"2020-04-17T00:00:00\", \"2020-04-18T00:00:00\", \"2020-04-19T00:00:00\", \"2020-04-21T00:00:00\", \"2020-04-22T00:00:00\", \"2020-04-23T00:00:00\", \"2020-04-24T00:00:00\", \"2020-04-25T00:00:00\", \"2020-04-26T00:00:00\", \"2020-04-27T00:00:00\", \"2020-04-28T00:00:00\", \"2020-04-29T00:00:00\", \"2020-04-30T00:00:00\", \"2020-05-01T00:00:00\", \"2020-05-02T00:00:00\", \"2020-05-03T00:00:00\", \"2020-05-04T00:00:00\", \"2020-05-05T00:00:00\", \"2020-05-06T00:00:00\", \"2020-05-07T00:00:00\", \"2020-05-08T00:00:00\", \"2020-05-09T00:00:00\", \"2020-05-10T00:00:00\", \"2020-05-11T00:00:00\", \"2020-05-12T00:00:00\", \"2020-05-13T00:00:00\", \"2020-05-14T00:00:00\", \"2020-05-15T00:00:00\", \"2020-05-16T00:00:00\", \"2020-05-17T00:00:00\", \"2020-05-18T00:00:00\", \"2020-05-19T00:00:00\", \"2020-05-20T00:00:00\", \"2020-05-21T00:00:00\", \"2020-05-22T00:00:00\", \"2020-05-23T00:00:00\", \"2020-05-24T00:00:00\", \"2020-05-25T00:00:00\", \"2020-05-26T00:00:00\", \"2020-05-27T00:00:00\", \"2020-05-28T00:00:00\", \"2020-05-30T00:00:00\", \"2020-05-31T00:00:00\", \"2020-06-01T00:00:00\", \"2020-06-02T00:00:00\", \"2020-06-03T00:00:00\", \"2020-06-04T00:00:00\", \"2020-06-05T00:00:00\", \"2020-06-06T00:00:00\", \"2020-06-07T00:00:00\", \"2020-06-08T00:00:00\", \"2020-06-09T00:00:00\", \"2020-06-10T00:00:00\", \"2020-06-11T00:00:00\", \"2020-06-12T00:00:00\", \"2020-06-13T00:00:00\", \"2020-06-14T00:00:00\", \"2020-06-15T00:00:00\", \"2020-06-16T00:00:00\", \"2020-06-17T00:00:00\", \"2020-06-18T00:00:00\", \"2020-06-19T00:00:00\", \"2020-06-20T00:00:00\", \"2020-06-21T00:00:00\", \"2020-06-22T00:00:00\", \"2020-06-23T00:00:00\", \"2020-06-24T00:00:00\", \"2020-06-25T00:00:00\", \"2020-06-26T00:00:00\", \"2020-06-27T00:00:00\", \"2020-06-28T00:00:00\", \"2020-06-29T00:00:00\", \"2020-06-30T00:00:00\", \"2020-07-01T00:00:00\", \"2020-07-02T00:00:00\", \"2020-07-03T00:00:00\", \"2020-07-04T00:00:00\", \"2020-07-05T00:00:00\", \"2020-07-06T00:00:00\", \"2020-07-07T00:00:00\", \"2020-07-08T00:00:00\", \"2020-07-09T00:00:00\", \"2020-07-10T00:00:00\", \"2020-07-11T00:00:00\", \"2020-07-12T00:00:00\", \"2020-07-13T00:00:00\", \"2020-07-14T00:00:00\", \"2020-07-15T00:00:00\", \"2020-07-16T00:00:00\", \"2020-07-17T00:00:00\", \"2020-07-18T00:00:00\", \"2020-07-19T00:00:00\", \"2020-07-20T00:00:00\", \"2020-07-21T00:00:00\", \"2020-07-22T00:00:00\", \"2020-07-23T00:00:00\", \"2020-07-24T00:00:00\", \"2020-07-25T00:00:00\", \"2020-07-26T00:00:00\", \"2020-07-27T00:00:00\", \"2020-07-28T00:00:00\", \"2020-07-29T00:00:00\", \"2020-07-30T00:00:00\", \"2020-07-31T00:00:00\", \"2020-08-01T00:00:00\", \"2020-08-02T00:00:00\", \"2020-08-03T00:00:00\", \"2020-08-04T00:00:00\", \"2020-08-05T00:00:00\", \"2020-08-06T00:00:00\", \"2020-08-07T00:00:00\", \"2020-08-08T00:00:00\", \"2020-08-09T00:00:00\", \"2020-08-10T00:00:00\", \"2020-08-11T00:00:00\", \"2020-08-12T00:00:00\", \"2020-08-13T00:00:00\", \"2020-08-14T00:00:00\", \"2020-08-15T00:00:00\", \"2020-08-16T00:00:00\", \"2020-08-17T00:00:00\", \"2020-08-18T00:00:00\", \"2020-08-19T00:00:00\"], \"y\": [1.6916622918099569, 1.5898224015372984, 1.6585350402579067, 1.6038228773141507, 1.7013673763008095, 1.6643728036122685, 1.6541843463814478, 1.6235754039911097, 1.5136339148302547, 1.5475115027807578, 1.6151295448853902, 1.5907425885520343, 1.588712093650011, 1.6250288125917418, 1.5245408767547606, 1.4983254854060184, 1.449380072828565, 1.5280791859184912, 1.5244346912754208, 1.486212092282021, 1.5374288070069122, 1.4302538141516274, 1.4292686806442283, 1.4411688583074929, 1.4335818522144577, 1.446930723943755, 1.414687582655956, 1.4035299801187364, 1.4232254587812871, 1.3887495471973694, 1.3505497613451647, 1.3693971350576635, 1.366505742550536, 1.3944647691106997, 1.3563769635129617, 1.3675415418525447, 1.31911710691019, 1.2941913847840247, 1.3485070650957638, 1.2722164898049488, 1.325660165274861, 1.2658582962054405, 1.3202534066942602, 1.2217042327959309, 1.2262247658700753, 1.2731326165290882, 1.2465266155809451, 1.197038509697105, 1.2423965268183415, 1.198950959575956, 1.1454019602020846, 1.2157644720434482, 1.1718361408798323, 1.1295993241934537, 1.11199197866838, 1.1043670099285767, 1.1587869216992246, 1.1004367610226469, 1.1172652191294221, 1.1209352534288393, 1.1147807825037905, 1.1105949863951903, 1.0735705019454655, 1.0405881559297523, 1.040832112430551, 1.0996480524502044, 1.0563386454213404, 1.0775187466031775, 0.9672879595655045, 1.04189347558042, 0.939116404960183, 0.9520692575151686, 0.9919109158946732, 0.9564096518124207, 0.9920355318171462, 0.9717635975310757, 0.961398923316638, 0.9105433214814274, 0.933006173468979, 0.9367198844475413, 0.8823305488673555, 0.9499282391419781, 0.8912722344218544, 0.9097384400231316, 0.833216621315665, 0.8284939785954453, 0.7836208922440021, 0.872527043516018, 0.8415759682053983, 0.8034370032987466, 0.7867970618114649, 0.813212441132551, 0.7264630744245046, 0.7238874875757991, 0.7124151444542979, 0.7531732631656614, 0.7541617394598957, 0.7261013057624907, 0.7282016025570685, 0.6764978805584483, 0.7103006018540173, 0.7254240322912244, 0.7176376594769728, 0.697910952730144, 0.6466273849976969, 0.6267254744731369, 0.6533930752644141, 0.6319295129742553, 0.6070319251469019, 0.649511462206805, 0.5821579153727644, 0.6419668596128222, 0.5682770927797622, 0.5958592161448372, 0.5736859803093892, 0.5549101903184865, 0.6005559413919161, 0.6304473010670542, 0.5111976121280459, 0.491198766511402, 0.45354646530214127, 0.48019164910467727, 0.5333341940705103, 0.4919316004058752, 0.4796771279632451, 0.4550445564731685, 0.40243951895848534, 0.5248723334060892, 0.40681159105570863, 0.40377687164652115, 0.394936409967934, 0.43053988519702785, 0.3419603640405763, 0.33683621847524636, 0.3568880771356827, 0.36318050748211056, 0.3945789088201632, 0.3215585443714051, 0.33484407149424705, 0.31518683550297366, 0.2825204075339215, 0.2843560709113042, 0.3174269343072776, 0.2862716239804496, 0.32318378676802656, 0.3064027203040399, 0.19254483932277014, 0.22374030814077894, 0.20629959726138603, 0.2779961666551634, 0.2532349108014213, 0.27666540523714733, 0.18202927130374214, 0.15258603256082318, 0.2057339555474501, 0.15898887248616733, 0.16464132829659534, 0.17626930173234728, 0.13833988915497392, 0.08499917547547456, 0.059932775000472345, 0.07197439304782946, 0.16262493692734, 0.12243518900219605, 0.12125993481747949, 0.1215750430507213, 0.04814467171008242, 0.024633459798923295, 0.06463195576417018]}],\n",
              "                        {\"height\": 600, \"showlegend\": false, \"template\": {\"data\": {\"bar\": [{\"error_x\": {\"color\": \"#2a3f5f\"}, \"error_y\": {\"color\": \"#2a3f5f\"}, \"marker\": {\"line\": {\"color\": \"#E5ECF6\", \"width\": 0.5}}, \"type\": \"bar\"}], \"barpolar\": [{\"marker\": {\"line\": {\"color\": \"#E5ECF6\", \"width\": 0.5}}, \"type\": \"barpolar\"}], \"carpet\": [{\"aaxis\": {\"endlinecolor\": \"#2a3f5f\", \"gridcolor\": \"white\", \"linecolor\": \"white\", \"minorgridcolor\": \"white\", \"startlinecolor\": \"#2a3f5f\"}, \"baxis\": {\"endlinecolor\": \"#2a3f5f\", \"gridcolor\": \"white\", \"linecolor\": \"white\", \"minorgridcolor\": \"white\", \"startlinecolor\": \"#2a3f5f\"}, \"type\": \"carpet\"}], \"choropleth\": [{\"colorbar\": {\"outlinewidth\": 0, \"ticks\": \"\"}, \"type\": \"choropleth\"}], \"contour\": [{\"colorbar\": {\"outlinewidth\": 0, \"ticks\": \"\"}, \"colorscale\": [[0.0, \"#0d0887\"], [0.1111111111111111, \"#46039f\"], [0.2222222222222222, \"#7201a8\"], [0.3333333333333333, \"#9c179e\"], [0.4444444444444444, \"#bd3786\"], [0.5555555555555556, \"#d8576b\"], [0.6666666666666666, \"#ed7953\"], [0.7777777777777778, \"#fb9f3a\"], [0.8888888888888888, \"#fdca26\"], [1.0, \"#f0f921\"]], \"type\": \"contour\"}], \"contourcarpet\": [{\"colorbar\": {\"outlinewidth\": 0, \"ticks\": \"\"}, \"type\": \"contourcarpet\"}], \"heatmap\": [{\"colorbar\": {\"outlinewidth\": 0, \"ticks\": \"\"}, \"colorscale\": [[0.0, \"#0d0887\"], [0.1111111111111111, \"#46039f\"], [0.2222222222222222, \"#7201a8\"], [0.3333333333333333, \"#9c179e\"], [0.4444444444444444, \"#bd3786\"], [0.5555555555555556, \"#d8576b\"], [0.6666666666666666, \"#ed7953\"], [0.7777777777777778, \"#fb9f3a\"], [0.8888888888888888, \"#fdca26\"], [1.0, \"#f0f921\"]], \"type\": \"heatmap\"}], \"heatmapgl\": [{\"colorbar\": {\"outlinewidth\": 0, \"ticks\": \"\"}, \"colorscale\": [[0.0, \"#0d0887\"], [0.1111111111111111, \"#46039f\"], [0.2222222222222222, \"#7201a8\"], [0.3333333333333333, \"#9c179e\"], [0.4444444444444444, \"#bd3786\"], [0.5555555555555556, \"#d8576b\"], [0.6666666666666666, \"#ed7953\"], [0.7777777777777778, \"#fb9f3a\"], [0.8888888888888888, \"#fdca26\"], [1.0, \"#f0f921\"]], \"type\": \"heatmapgl\"}], \"histogram\": [{\"marker\": {\"colorbar\": {\"outlinewidth\": 0, \"ticks\": \"\"}}, \"type\": \"histogram\"}], \"histogram2d\": [{\"colorbar\": {\"outlinewidth\": 0, \"ticks\": \"\"}, \"colorscale\": [[0.0, \"#0d0887\"], [0.1111111111111111, \"#46039f\"], [0.2222222222222222, \"#7201a8\"], [0.3333333333333333, \"#9c179e\"], [0.4444444444444444, \"#bd3786\"], [0.5555555555555556, \"#d8576b\"], [0.6666666666666666, \"#ed7953\"], [0.7777777777777778, \"#fb9f3a\"], [0.8888888888888888, \"#fdca26\"], [1.0, \"#f0f921\"]], \"type\": \"histogram2d\"}], \"histogram2dcontour\": [{\"colorbar\": {\"outlinewidth\": 0, \"ticks\": \"\"}, \"colorscale\": [[0.0, \"#0d0887\"], [0.1111111111111111, \"#46039f\"], [0.2222222222222222, \"#7201a8\"], [0.3333333333333333, \"#9c179e\"], [0.4444444444444444, \"#bd3786\"], [0.5555555555555556, \"#d8576b\"], [0.6666666666666666, \"#ed7953\"], [0.7777777777777778, \"#fb9f3a\"], [0.8888888888888888, \"#fdca26\"], [1.0, \"#f0f921\"]], \"type\": \"histogram2dcontour\"}], \"mesh3d\": [{\"colorbar\": {\"outlinewidth\": 0, \"ticks\": \"\"}, \"type\": \"mesh3d\"}], \"parcoords\": [{\"line\": {\"colorbar\": {\"outlinewidth\": 0, \"ticks\": \"\"}}, \"type\": \"parcoords\"}], \"pie\": [{\"automargin\": true, \"type\": \"pie\"}], \"scatter\": [{\"marker\": {\"colorbar\": {\"outlinewidth\": 0, \"ticks\": \"\"}}, \"type\": \"scatter\"}], \"scatter3d\": [{\"line\": {\"colorbar\": {\"outlinewidth\": 0, \"ticks\": \"\"}}, \"marker\": {\"colorbar\": {\"outlinewidth\": 0, \"ticks\": \"\"}}, \"type\": \"scatter3d\"}], \"scattercarpet\": [{\"marker\": {\"colorbar\": {\"outlinewidth\": 0, \"ticks\": \"\"}}, \"type\": \"scattercarpet\"}], \"scattergeo\": [{\"marker\": {\"colorbar\": {\"outlinewidth\": 0, \"ticks\": \"\"}}, \"type\": \"scattergeo\"}], \"scattergl\": [{\"marker\": {\"colorbar\": {\"outlinewidth\": 0, \"ticks\": \"\"}}, \"type\": \"scattergl\"}], \"scattermapbox\": [{\"marker\": {\"colorbar\": {\"outlinewidth\": 0, \"ticks\": \"\"}}, \"type\": \"scattermapbox\"}], \"scatterpolar\": [{\"marker\": {\"colorbar\": {\"outlinewidth\": 0, \"ticks\": \"\"}}, \"type\": \"scatterpolar\"}], \"scatterpolargl\": [{\"marker\": {\"colorbar\": {\"outlinewidth\": 0, \"ticks\": \"\"}}, \"type\": \"scatterpolargl\"}], \"scatterternary\": [{\"marker\": {\"colorbar\": {\"outlinewidth\": 0, \"ticks\": \"\"}}, \"type\": \"scatterternary\"}], \"surface\": [{\"colorbar\": {\"outlinewidth\": 0, \"ticks\": \"\"}, \"colorscale\": [[0.0, \"#0d0887\"], [0.1111111111111111, \"#46039f\"], [0.2222222222222222, \"#7201a8\"], [0.3333333333333333, \"#9c179e\"], [0.4444444444444444, \"#bd3786\"], [0.5555555555555556, \"#d8576b\"], [0.6666666666666666, \"#ed7953\"], [0.7777777777777778, \"#fb9f3a\"], [0.8888888888888888, \"#fdca26\"], [1.0, \"#f0f921\"]], \"type\": \"surface\"}], \"table\": [{\"cells\": {\"fill\": {\"color\": \"#EBF0F8\"}, \"line\": {\"color\": \"white\"}}, \"header\": {\"fill\": {\"color\": \"#C8D4E3\"}, \"line\": {\"color\": \"white\"}}, \"type\": \"table\"}]}, \"layout\": {\"annotationdefaults\": {\"arrowcolor\": \"#2a3f5f\", \"arrowhead\": 0, \"arrowwidth\": 1}, \"coloraxis\": {\"colorbar\": {\"outlinewidth\": 0, \"ticks\": \"\"}}, \"colorscale\": {\"diverging\": [[0, \"#8e0152\"], [0.1, \"#c51b7d\"], [0.2, \"#de77ae\"], [0.3, \"#f1b6da\"], [0.4, \"#fde0ef\"], [0.5, \"#f7f7f7\"], [0.6, \"#e6f5d0\"], [0.7, \"#b8e186\"], [0.8, \"#7fbc41\"], [0.9, \"#4d9221\"], [1, \"#276419\"]], \"sequential\": [[0.0, \"#0d0887\"], [0.1111111111111111, \"#46039f\"], [0.2222222222222222, \"#7201a8\"], [0.3333333333333333, \"#9c179e\"], [0.4444444444444444, \"#bd3786\"], [0.5555555555555556, \"#d8576b\"], [0.6666666666666666, \"#ed7953\"], [0.7777777777777778, \"#fb9f3a\"], [0.8888888888888888, \"#fdca26\"], [1.0, \"#f0f921\"]], \"sequentialminus\": [[0.0, \"#0d0887\"], [0.1111111111111111, \"#46039f\"], [0.2222222222222222, \"#7201a8\"], [0.3333333333333333, \"#9c179e\"], [0.4444444444444444, \"#bd3786\"], [0.5555555555555556, \"#d8576b\"], [0.6666666666666666, \"#ed7953\"], [0.7777777777777778, \"#fb9f3a\"], [0.8888888888888888, \"#fdca26\"], [1.0, \"#f0f921\"]]}, \"colorway\": [\"#636efa\", \"#EF553B\", \"#00cc96\", \"#ab63fa\", \"#FFA15A\", \"#19d3f3\", \"#FF6692\", \"#B6E880\", \"#FF97FF\", \"#FECB52\"], \"font\": {\"color\": \"#2a3f5f\"}, \"geo\": {\"bgcolor\": \"white\", \"lakecolor\": \"white\", \"landcolor\": \"#E5ECF6\", \"showlakes\": true, \"showland\": true, \"subunitcolor\": \"white\"}, \"hoverlabel\": {\"align\": \"left\"}, \"hovermode\": \"closest\", \"mapbox\": {\"style\": \"light\"}, \"paper_bgcolor\": \"white\", \"plot_bgcolor\": \"#E5ECF6\", \"polar\": {\"angularaxis\": {\"gridcolor\": \"white\", \"linecolor\": \"white\", \"ticks\": \"\"}, \"bgcolor\": \"#E5ECF6\", \"radialaxis\": {\"gridcolor\": \"white\", \"linecolor\": \"white\", \"ticks\": \"\"}}, \"scene\": {\"xaxis\": {\"backgroundcolor\": \"#E5ECF6\", \"gridcolor\": \"white\", \"gridwidth\": 2, \"linecolor\": \"white\", \"showbackground\": true, \"ticks\": \"\", \"zerolinecolor\": \"white\"}, \"yaxis\": {\"backgroundcolor\": \"#E5ECF6\", \"gridcolor\": \"white\", \"gridwidth\": 2, \"linecolor\": \"white\", \"showbackground\": true, \"ticks\": \"\", \"zerolinecolor\": \"white\"}, \"zaxis\": {\"backgroundcolor\": \"#E5ECF6\", \"gridcolor\": \"white\", \"gridwidth\": 2, \"linecolor\": \"white\", \"showbackground\": true, \"ticks\": \"\", \"zerolinecolor\": \"white\"}}, \"shapedefaults\": {\"line\": {\"color\": \"#2a3f5f\"}}, \"ternary\": {\"aaxis\": {\"gridcolor\": \"white\", \"linecolor\": \"white\", \"ticks\": \"\"}, \"baxis\": {\"gridcolor\": \"white\", \"linecolor\": \"white\", \"ticks\": \"\"}, \"bgcolor\": \"#E5ECF6\", \"caxis\": {\"gridcolor\": \"white\", \"linecolor\": \"white\", \"ticks\": \"\"}}, \"title\": {\"x\": 0.05}, \"xaxis\": {\"automargin\": true, \"gridcolor\": \"white\", \"linecolor\": \"white\", \"ticks\": \"\", \"title\": {\"standoff\": 15}, \"zerolinecolor\": \"white\", \"zerolinewidth\": 2}, \"yaxis\": {\"automargin\": true, \"gridcolor\": \"white\", \"linecolor\": \"white\", \"ticks\": \"\", \"title\": {\"standoff\": 15}, \"zerolinecolor\": \"white\", \"zerolinewidth\": 2}}}, \"width\": 900, \"xaxis\": {\"rangeselector\": {\"buttons\": [{\"count\": 7, \"label\": \"1w\", \"step\": \"day\", \"stepmode\": \"backward\"}, {\"count\": 1, \"label\": \"1m\", \"step\": \"month\", \"stepmode\": \"backward\"}, {\"count\": 6, \"label\": \"6m\", \"step\": \"month\", \"stepmode\": \"backward\"}, {\"count\": 1, \"label\": \"1y\", \"step\": \"year\", \"stepmode\": \"backward\"}, {\"step\": \"all\"}]}, \"rangeslider\": {\"visible\": true}, \"title\": {\"text\": \"ds\"}, \"type\": \"date\"}, \"yaxis\": {\"title\": {\"text\": \"y\"}}},\n",
              "                        {\"responsive\": true}\n",
              "                    ).then(function(){\n",
              "                            \n",
              "var gd = document.getElementById('8dc93c11-9cbb-4dd5-842c-4a4945ad1b9c');\n",
              "var x = new MutationObserver(function (mutations, observer) {{\n",
              "        var display = window.getComputedStyle(gd).display;\n",
              "        if (!display || display === 'none') {{\n",
              "            console.log([gd, 'removed!']);\n",
              "            Plotly.purge(gd);\n",
              "            observer.disconnect();\n",
              "        }}\n",
              "}});\n",
              "\n",
              "// Listen for the removal of the full notebook cells\n",
              "var notebookContainer = gd.closest('#notebook-container');\n",
              "if (notebookContainer) {{\n",
              "    x.observe(notebookContainer, {childList: true});\n",
              "}}\n",
              "\n",
              "// Listen for the clearing of the current output cell\n",
              "var outputEl = gd.closest('.output');\n",
              "if (outputEl) {{\n",
              "    x.observe(outputEl, {childList: true});\n",
              "}}\n",
              "\n",
              "                        })\n",
              "                };\n",
              "                \n",
              "            </script>\n",
              "        </div>\n",
              "</body>\n",
              "</html>"
            ]
          },
          "metadata": {
            "tags": []
          }
        }
      ]
    },
    {
      "cell_type": "code",
      "metadata": {
        "id": "Loz4Ds_BVFlo",
        "colab_type": "code",
        "colab": {
          "base_uri": "https://localhost:8080/",
          "height": 417
        },
        "outputId": "a2563958-55e0-432d-95a2-21d3c8661f73"
      },
      "source": [
        "plot_components_plotly(prophet_model, forecast)"
      ],
      "execution_count": 55,
      "outputs": [
        {
          "output_type": "display_data",
          "data": {
            "text/html": [
              "<html>\n",
              "<head><meta charset=\"utf-8\" /></head>\n",
              "<body>\n",
              "    <div>\n",
              "            <script src=\"https://cdnjs.cloudflare.com/ajax/libs/mathjax/2.7.5/MathJax.js?config=TeX-AMS-MML_SVG\"></script><script type=\"text/javascript\">if (window.MathJax) {MathJax.Hub.Config({SVG: {font: \"STIX-Web\"}});}</script>\n",
              "                <script type=\"text/javascript\">window.PlotlyConfig = {MathJaxConfig: 'local'};</script>\n",
              "        <script src=\"https://cdn.plot.ly/plotly-latest.min.js\"></script>    \n",
              "            <div id=\"aa33f4b6-1cbe-44ff-a8b1-6827318b2189\" class=\"plotly-graph-div\" style=\"height:400px; width:900px;\"></div>\n",
              "            <script type=\"text/javascript\">\n",
              "                \n",
              "                    window.PLOTLYENV=window.PLOTLYENV || {};\n",
              "                    \n",
              "                if (document.getElementById(\"aa33f4b6-1cbe-44ff-a8b1-6827318b2189\")) {\n",
              "                    Plotly.newPlot(\n",
              "                        'aa33f4b6-1cbe-44ff-a8b1-6827318b2189',\n",
              "                        [{\"line\": {\"color\": \"#0072B2\", \"width\": 2}, \"mode\": \"lines\", \"name\": \"trend\", \"type\": \"scatter\", \"x\": [\"2020-03-02T00:00:00\", \"2020-03-03T00:00:00\", \"2020-03-04T00:00:00\", \"2020-03-05T00:00:00\", \"2020-03-06T00:00:00\", \"2020-03-07T00:00:00\", \"2020-03-08T00:00:00\", \"2020-03-09T00:00:00\", \"2020-03-10T00:00:00\", \"2020-03-11T00:00:00\", \"2020-03-12T00:00:00\", \"2020-03-13T00:00:00\", \"2020-03-14T00:00:00\", \"2020-03-15T00:00:00\", \"2020-03-16T00:00:00\", \"2020-03-17T00:00:00\", \"2020-03-18T00:00:00\", \"2020-03-19T00:00:00\", \"2020-03-20T00:00:00\", \"2020-03-21T00:00:00\", \"2020-03-22T00:00:00\", \"2020-03-23T00:00:00\", \"2020-03-24T00:00:00\", \"2020-03-25T00:00:00\", \"2020-03-26T00:00:00\", \"2020-03-27T00:00:00\", \"2020-03-28T00:00:00\", \"2020-03-29T00:00:00\", \"2020-03-30T00:00:00\", \"2020-03-31T00:00:00\", \"2020-04-01T00:00:00\", \"2020-04-02T00:00:00\", \"2020-04-03T00:00:00\", \"2020-04-04T00:00:00\", \"2020-04-05T00:00:00\", \"2020-04-06T00:00:00\", \"2020-04-07T00:00:00\", \"2020-04-08T00:00:00\", \"2020-04-09T00:00:00\", \"2020-04-10T00:00:00\", \"2020-04-11T00:00:00\", \"2020-04-12T00:00:00\", \"2020-04-13T00:00:00\", \"2020-04-14T00:00:00\", \"2020-04-15T00:00:00\", \"2020-04-16T00:00:00\", \"2020-04-17T00:00:00\", \"2020-04-18T00:00:00\", \"2020-04-19T00:00:00\", \"2020-04-21T00:00:00\", \"2020-04-22T00:00:00\", \"2020-04-23T00:00:00\", \"2020-04-24T00:00:00\", \"2020-04-25T00:00:00\", \"2020-04-26T00:00:00\", \"2020-04-27T00:00:00\", \"2020-04-28T00:00:00\", \"2020-04-29T00:00:00\", \"2020-04-30T00:00:00\", \"2020-05-01T00:00:00\", \"2020-05-02T00:00:00\", \"2020-05-03T00:00:00\", \"2020-05-04T00:00:00\", \"2020-05-05T00:00:00\", \"2020-05-06T00:00:00\", \"2020-05-07T00:00:00\", \"2020-05-08T00:00:00\", \"2020-05-09T00:00:00\", \"2020-05-10T00:00:00\", \"2020-05-11T00:00:00\", \"2020-05-12T00:00:00\", \"2020-05-13T00:00:00\", \"2020-05-14T00:00:00\", \"2020-05-15T00:00:00\", \"2020-05-16T00:00:00\", \"2020-05-17T00:00:00\", \"2020-05-18T00:00:00\", \"2020-05-19T00:00:00\", \"2020-05-20T00:00:00\", \"2020-05-21T00:00:00\", \"2020-05-22T00:00:00\", \"2020-05-23T00:00:00\", \"2020-05-24T00:00:00\", \"2020-05-25T00:00:00\", \"2020-05-26T00:00:00\", \"2020-05-27T00:00:00\", \"2020-05-28T00:00:00\", \"2020-05-30T00:00:00\", \"2020-05-31T00:00:00\", \"2020-06-01T00:00:00\", \"2020-06-02T00:00:00\", \"2020-06-03T00:00:00\", \"2020-06-04T00:00:00\", \"2020-06-05T00:00:00\", \"2020-06-06T00:00:00\", \"2020-06-07T00:00:00\", \"2020-06-08T00:00:00\", \"2020-06-09T00:00:00\", \"2020-06-10T00:00:00\", \"2020-06-11T00:00:00\", \"2020-06-12T00:00:00\", \"2020-06-13T00:00:00\", \"2020-06-14T00:00:00\", \"2020-06-15T00:00:00\", \"2020-06-16T00:00:00\", \"2020-06-17T00:00:00\", \"2020-06-18T00:00:00\", \"2020-06-19T00:00:00\", \"2020-06-20T00:00:00\", \"2020-06-21T00:00:00\", \"2020-06-22T00:00:00\", \"2020-06-23T00:00:00\", \"2020-06-24T00:00:00\", \"2020-06-25T00:00:00\", \"2020-06-26T00:00:00\", \"2020-06-27T00:00:00\", \"2020-06-28T00:00:00\", \"2020-06-29T00:00:00\", \"2020-06-30T00:00:00\", \"2020-07-01T00:00:00\", \"2020-07-02T00:00:00\", \"2020-07-03T00:00:00\", \"2020-07-04T00:00:00\", \"2020-07-05T00:00:00\", \"2020-07-06T00:00:00\", \"2020-07-07T00:00:00\", \"2020-07-08T00:00:00\", \"2020-07-09T00:00:00\", \"2020-07-10T00:00:00\", \"2020-07-11T00:00:00\", \"2020-07-12T00:00:00\", \"2020-07-13T00:00:00\", \"2020-07-14T00:00:00\", \"2020-07-15T00:00:00\", \"2020-07-16T00:00:00\", \"2020-07-17T00:00:00\", \"2020-07-18T00:00:00\", \"2020-07-19T00:00:00\", \"2020-07-20T00:00:00\", \"2020-07-21T00:00:00\", \"2020-07-22T00:00:00\", \"2020-07-23T00:00:00\", \"2020-07-24T00:00:00\", \"2020-07-25T00:00:00\", \"2020-07-26T00:00:00\", \"2020-07-27T00:00:00\", \"2020-07-28T00:00:00\", \"2020-07-29T00:00:00\", \"2020-07-30T00:00:00\", \"2020-07-31T00:00:00\", \"2020-08-01T00:00:00\", \"2020-08-02T00:00:00\", \"2020-08-03T00:00:00\", \"2020-08-04T00:00:00\", \"2020-08-05T00:00:00\", \"2020-08-06T00:00:00\", \"2020-08-07T00:00:00\", \"2020-08-08T00:00:00\", \"2020-08-09T00:00:00\", \"2020-08-10T00:00:00\", \"2020-08-11T00:00:00\", \"2020-08-12T00:00:00\", \"2020-08-13T00:00:00\", \"2020-08-14T00:00:00\", \"2020-08-15T00:00:00\", \"2020-08-16T00:00:00\", \"2020-08-17T00:00:00\", \"2020-08-18T00:00:00\", \"2020-08-19T00:00:00\"], \"xaxis\": \"x\", \"y\": [0.9387074866343708, 0.929135950387495, 0.9195644141406191, 0.9099928778937433, 0.9004213416468674, 0.8908498044007903, 0.8812782671547134, 0.8717067299086364, 0.8621351925403684, 0.8525636551721005, 0.8429921178038327, 0.8334205804355647, 0.823849041068959, 0.8142775017023534, 0.8047059623357476, 0.7951344229691419, 0.7855628770628429, 0.775991331156544, 0.766419785250245, 0.7568482393439461, 0.747276677118474, 0.7377051148930021, 0.7281335526675301, 0.7185226785425387, 0.7089118044175472, 0.6993009302925557, 0.6896900561675642, 0.6800791218006881, 0.6704681874338119, 0.6608572530669358, 0.6512463187000597, 0.6416353841945469, 0.6320244496890344, 0.6224135151835215, 0.6128025800513774, 0.6031916449192333, 0.5935807097870891, 0.5839697746549449, 0.5743588395622, 0.564747904469455, 0.55513696937671, 0.5455260342839651, 0.5359150991767203, 0.5263041640694757, 0.516693228962231, 0.5070822938549864, 0.4974713587914286, 0.48786042372787086, 0.478249488664313, 0.45902761846564905, 0.4494166833663171, 0.43980574826698515, 0.4301948131676532, 0.42058387813044973, 0.4109729430932463, 0.40136200805604294, 0.3917510730188396, 0.3821401380086732, 0.37252920299850667, 0.36291826798834037, 0.35330733297817396, 0.3436963979657556, 0.3340854629533374, 0.32447452794091913, 0.31486359286929033, 0.3052526577976613, 0.2956417227260324, 0.2860307876544034, 0.27641985259047375, 0.2668089175265441, 0.2571979824626145, 0.24758704739868498, 0.23797611233860083, 0.2283651772785168, 0.21875424221843287, 0.2091433071398533, 0.1995323720612736, 0.18992143698269404, 0.18031050190411435, 0.17069956691006283, 0.16108863191601153, 0.15147769692196011, 0.1418667619279088, 0.13225582691859583, 0.12264489190928296, 0.11303395689997009, 0.10342302189065733, 0.08420115199279787, 0.07459021704386826, 0.06497928209493853, 0.055368347141622976, 0.045757412188307534, 0.03614647723499209, 0.02653554228167654, 0.016924607314422357, 0.007313672347168287, -0.0022972626200858937, -0.011908197587340186, -0.021519132554594256, -0.031130067521848437, -0.04074100248910262, -0.0503519374563568, -0.05996287242361098, -0.06957380739086505, -0.07918474235811945, -0.08879567732537363, -0.0984066122926276, -0.10801754725988177, -0.11762848222713618, -0.12723941719439014, -0.13685035216164432, -0.1464612871288985, -0.15607222209615268, -0.16568315706340686, -0.17529409203066104, -0.18490502699791522, -0.1945159619651694, -0.20412689693242358, -0.21373783189967777, -0.22334876686693195, -0.2329597018341859, -0.2425706368014403, -0.2521815717686945, -0.26179250673594867, -0.27140344170320285, -0.28101437667045703, -0.290625311637711, -0.3002362466049652, -0.30984718157221935, -0.31945811653947376, -0.32906905150672794, -0.3386799864739821, -0.3482909214412361, -0.35790185640849026, -0.36751279137574444, -0.3771237263429986, -0.386734661310253, -0.3963455962775072, -0.40595653124476117, -0.41556746621201535, -0.4251784011792695, -0.4347893361465237, -0.4444002711137779, -0.45401120608103207, -0.4636221410482865, -0.47323307601554043, -0.4828440109827946, -0.4924549459500488, -0.502065880917303, -0.5116768158845572, -0.5212877508518111, -0.5308986858190655, -0.5405096207863197, -0.5501205557535739, -0.5597314907208281, -0.5693424256880822, -0.5789533606553362, -0.5885642956225904, -0.5981752305898448, -0.607786165557099, -0.6173971005243531, -0.6270080354916073, -0.6366189704588613, -0.6462299054261155, -0.6558408403933697, -0.6654517753606238, -0.6750627103278782, -0.6846736452951324, -0.6942845802623864], \"yaxis\": \"y\"}, {\"line\": {\"color\": \"rgba(0, 114, 178, 0.2)\", \"width\": 0}, \"mode\": \"lines\", \"name\": \"trend_upper\", \"type\": \"scatter\", \"x\": [\"2020-03-02T00:00:00\", \"2020-03-03T00:00:00\", \"2020-03-04T00:00:00\", \"2020-03-05T00:00:00\", \"2020-03-06T00:00:00\", \"2020-03-07T00:00:00\", \"2020-03-08T00:00:00\", \"2020-03-09T00:00:00\", \"2020-03-10T00:00:00\", \"2020-03-11T00:00:00\", \"2020-03-12T00:00:00\", \"2020-03-13T00:00:00\", \"2020-03-14T00:00:00\", \"2020-03-15T00:00:00\", \"2020-03-16T00:00:00\", \"2020-03-17T00:00:00\", \"2020-03-18T00:00:00\", \"2020-03-19T00:00:00\", \"2020-03-20T00:00:00\", \"2020-03-21T00:00:00\", \"2020-03-22T00:00:00\", \"2020-03-23T00:00:00\", \"2020-03-24T00:00:00\", \"2020-03-25T00:00:00\", \"2020-03-26T00:00:00\", \"2020-03-27T00:00:00\", \"2020-03-28T00:00:00\", \"2020-03-29T00:00:00\", \"2020-03-30T00:00:00\", \"2020-03-31T00:00:00\", \"2020-04-01T00:00:00\", \"2020-04-02T00:00:00\", \"2020-04-03T00:00:00\", \"2020-04-04T00:00:00\", \"2020-04-05T00:00:00\", \"2020-04-06T00:00:00\", \"2020-04-07T00:00:00\", \"2020-04-08T00:00:00\", \"2020-04-09T00:00:00\", \"2020-04-10T00:00:00\", \"2020-04-11T00:00:00\", \"2020-04-12T00:00:00\", \"2020-04-13T00:00:00\", \"2020-04-14T00:00:00\", \"2020-04-15T00:00:00\", \"2020-04-16T00:00:00\", \"2020-04-17T00:00:00\", \"2020-04-18T00:00:00\", \"2020-04-19T00:00:00\", \"2020-04-21T00:00:00\", \"2020-04-22T00:00:00\", \"2020-04-23T00:00:00\", \"2020-04-24T00:00:00\", \"2020-04-25T00:00:00\", \"2020-04-26T00:00:00\", \"2020-04-27T00:00:00\", \"2020-04-28T00:00:00\", \"2020-04-29T00:00:00\", \"2020-04-30T00:00:00\", \"2020-05-01T00:00:00\", \"2020-05-02T00:00:00\", \"2020-05-03T00:00:00\", \"2020-05-04T00:00:00\", \"2020-05-05T00:00:00\", \"2020-05-06T00:00:00\", \"2020-05-07T00:00:00\", \"2020-05-08T00:00:00\", \"2020-05-09T00:00:00\", \"2020-05-10T00:00:00\", \"2020-05-11T00:00:00\", \"2020-05-12T00:00:00\", \"2020-05-13T00:00:00\", \"2020-05-14T00:00:00\", \"2020-05-15T00:00:00\", \"2020-05-16T00:00:00\", \"2020-05-17T00:00:00\", \"2020-05-18T00:00:00\", \"2020-05-19T00:00:00\", \"2020-05-20T00:00:00\", \"2020-05-21T00:00:00\", \"2020-05-22T00:00:00\", \"2020-05-23T00:00:00\", \"2020-05-24T00:00:00\", \"2020-05-25T00:00:00\", \"2020-05-26T00:00:00\", \"2020-05-27T00:00:00\", \"2020-05-28T00:00:00\", \"2020-05-30T00:00:00\", \"2020-05-31T00:00:00\", \"2020-06-01T00:00:00\", \"2020-06-02T00:00:00\", \"2020-06-03T00:00:00\", \"2020-06-04T00:00:00\", \"2020-06-05T00:00:00\", \"2020-06-06T00:00:00\", \"2020-06-07T00:00:00\", \"2020-06-08T00:00:00\", \"2020-06-09T00:00:00\", \"2020-06-10T00:00:00\", \"2020-06-11T00:00:00\", \"2020-06-12T00:00:00\", \"2020-06-13T00:00:00\", \"2020-06-14T00:00:00\", \"2020-06-15T00:00:00\", \"2020-06-16T00:00:00\", \"2020-06-17T00:00:00\", \"2020-06-18T00:00:00\", \"2020-06-19T00:00:00\", \"2020-06-20T00:00:00\", \"2020-06-21T00:00:00\", \"2020-06-22T00:00:00\", \"2020-06-23T00:00:00\", \"2020-06-24T00:00:00\", \"2020-06-25T00:00:00\", \"2020-06-26T00:00:00\", \"2020-06-27T00:00:00\", \"2020-06-28T00:00:00\", \"2020-06-29T00:00:00\", \"2020-06-30T00:00:00\", \"2020-07-01T00:00:00\", \"2020-07-02T00:00:00\", \"2020-07-03T00:00:00\", \"2020-07-04T00:00:00\", \"2020-07-05T00:00:00\", \"2020-07-06T00:00:00\", \"2020-07-07T00:00:00\", \"2020-07-08T00:00:00\", \"2020-07-09T00:00:00\", \"2020-07-10T00:00:00\", \"2020-07-11T00:00:00\", \"2020-07-12T00:00:00\", \"2020-07-13T00:00:00\", \"2020-07-14T00:00:00\", \"2020-07-15T00:00:00\", \"2020-07-16T00:00:00\", \"2020-07-17T00:00:00\", \"2020-07-18T00:00:00\", \"2020-07-19T00:00:00\", \"2020-07-20T00:00:00\", \"2020-07-21T00:00:00\", \"2020-07-22T00:00:00\", \"2020-07-23T00:00:00\", \"2020-07-24T00:00:00\", \"2020-07-25T00:00:00\", \"2020-07-26T00:00:00\", \"2020-07-27T00:00:00\", \"2020-07-28T00:00:00\", \"2020-07-29T00:00:00\", \"2020-07-30T00:00:00\", \"2020-07-31T00:00:00\", \"2020-08-01T00:00:00\", \"2020-08-02T00:00:00\", \"2020-08-03T00:00:00\", \"2020-08-04T00:00:00\", \"2020-08-05T00:00:00\", \"2020-08-06T00:00:00\", \"2020-08-07T00:00:00\", \"2020-08-08T00:00:00\", \"2020-08-09T00:00:00\", \"2020-08-10T00:00:00\", \"2020-08-11T00:00:00\", \"2020-08-12T00:00:00\", \"2020-08-13T00:00:00\", \"2020-08-14T00:00:00\", \"2020-08-15T00:00:00\", \"2020-08-16T00:00:00\", \"2020-08-17T00:00:00\", \"2020-08-18T00:00:00\", \"2020-08-19T00:00:00\"], \"xaxis\": \"x\", \"y\": [0.9387074866343708, 0.929135950387495, 0.9195644141406191, 0.9099928778937433, 0.9004213416468674, 0.8908498044007903, 0.8812782671547134, 0.8717067299086364, 0.8621351925403684, 0.8525636551721005, 0.8429921178038327, 0.8334205804355647, 0.823849041068959, 0.8142775017023534, 0.8047059623357476, 0.7951344229691419, 0.7855628770628429, 0.775991331156544, 0.766419785250245, 0.7568482393439461, 0.747276677118474, 0.7377051148930021, 0.7281335526675301, 0.7185226785425387, 0.7089118044175473, 0.6993009302925557, 0.6896900561675642, 0.6800791218006881, 0.6704681874338119, 0.6608572530669358, 0.6512463187000597, 0.6416353841945469, 0.6320244496890344, 0.6224135151835215, 0.6128025800513774, 0.6031916449192333, 0.5935807097870891, 0.5839697746549449, 0.5743588395621999, 0.564747904469455, 0.55513696937671, 0.5455260342839651, 0.5359150991767203, 0.5263041640694757, 0.516693228962231, 0.5070822938549864, 0.4974713587914286, 0.48786042372787086, 0.478249488664313, 0.45902761846564905, 0.4494166833663171, 0.43980574826698515, 0.4301948131676532, 0.42058387813044973, 0.4109729430932463, 0.40136200805604294, 0.3917510730188396, 0.3821401380086732, 0.37252920299850667, 0.36291826798834037, 0.35330733297817396, 0.3436963979657556, 0.3340854629533374, 0.32447452794091913, 0.31486359286929033, 0.3052526577976613, 0.2956417227260324, 0.2860307876544034, 0.27641985259047375, 0.2668089175265441, 0.2571979824626145, 0.24758704739868498, 0.23797611233860083, 0.2283651772785168, 0.21875424221843287, 0.2091433071398533, 0.1995323720612736, 0.18992143698269404, 0.18031050190411435, 0.17069956691006283, 0.16108863191601153, 0.15147769692196011, 0.1418667619279088, 0.13225582691859583, 0.12264489190928296, 0.11303395689997009, 0.10342302189065733, 0.08420115199279787, 0.07459021704386826, 0.06497928209493853, 0.055368347141622976, 0.045757412188307534, 0.03614647723499209, 0.02653554228167654, 0.016924607314422357, 0.007313672347168287, -0.0022972626200858937, -0.011908197587340186, -0.021519132554594256, -0.031130067521848437, -0.04074100248910262, -0.0503519374563568, -0.05996287242361098, -0.06957380739086505, -0.07918474235811945, -0.08879567732537363, -0.0984066122926276, -0.10801754725988177, -0.11762848222713618, -0.12723941719439014, -0.13685035216164432, -0.1464612871288985, -0.15607222209615268, -0.16568315706340686, -0.17529409203066104, -0.18490502699791522, -0.1945159619651694, -0.20412689693242358, -0.2137378042207535, -0.2233479798478122, -0.23295760600517573, -0.24256699347927782, -0.2521761896742587, -0.26178515413001396, -0.2713935505368761, -0.2810024134250993, -0.2906104982935599, -0.30021849885303825, -0.3098262825854549, -0.3194340899273285, -0.32904165522413803, -0.3386483544497904, -0.34825501861411523, -0.3578613789709128, -0.367469289903532, -0.377076456149829, -0.38668294292095373, -0.39628833342421343, -0.40589525837452545, -0.4155009647539628, -0.42510715649232494, -0.434714293706833, -0.4443200659508019, -0.4539261126277411, -0.46353122437608835, -0.4731362615697008, -0.4827408460029296, -0.4923457177151084, -0.5019495812631064, -0.5115522778112721, -0.5211570624560029, -0.530761243698396, -0.5403661375234633, -0.5499689226068649, -0.5595731235914043, -0.5691775536446727, -0.5787808795052326, -0.5883848910497359, -0.5979889431317631, -0.6075908209177222, -0.6171968051525042, -0.6268013609006656, -0.6364010297827649, -0.6460049315433245, -0.6556078833397153, -0.6652112300425337, -0.6748144795625202, -0.6844171133298079, -0.6940208375340513], \"yaxis\": \"y\"}, {\"fill\": \"tonexty\", \"fillcolor\": \"rgba(0, 114, 178, 0.2)\", \"line\": {\"color\": \"rgba(0, 114, 178, 0.2)\", \"width\": 0}, \"mode\": \"lines\", \"name\": \"trend_lower\", \"type\": \"scatter\", \"x\": [\"2020-03-02T00:00:00\", \"2020-03-03T00:00:00\", \"2020-03-04T00:00:00\", \"2020-03-05T00:00:00\", \"2020-03-06T00:00:00\", \"2020-03-07T00:00:00\", \"2020-03-08T00:00:00\", \"2020-03-09T00:00:00\", \"2020-03-10T00:00:00\", \"2020-03-11T00:00:00\", \"2020-03-12T00:00:00\", \"2020-03-13T00:00:00\", \"2020-03-14T00:00:00\", \"2020-03-15T00:00:00\", \"2020-03-16T00:00:00\", \"2020-03-17T00:00:00\", \"2020-03-18T00:00:00\", \"2020-03-19T00:00:00\", \"2020-03-20T00:00:00\", \"2020-03-21T00:00:00\", \"2020-03-22T00:00:00\", \"2020-03-23T00:00:00\", \"2020-03-24T00:00:00\", \"2020-03-25T00:00:00\", \"2020-03-26T00:00:00\", \"2020-03-27T00:00:00\", \"2020-03-28T00:00:00\", \"2020-03-29T00:00:00\", \"2020-03-30T00:00:00\", \"2020-03-31T00:00:00\", \"2020-04-01T00:00:00\", \"2020-04-02T00:00:00\", \"2020-04-03T00:00:00\", \"2020-04-04T00:00:00\", \"2020-04-05T00:00:00\", \"2020-04-06T00:00:00\", \"2020-04-07T00:00:00\", \"2020-04-08T00:00:00\", \"2020-04-09T00:00:00\", \"2020-04-10T00:00:00\", \"2020-04-11T00:00:00\", \"2020-04-12T00:00:00\", \"2020-04-13T00:00:00\", \"2020-04-14T00:00:00\", \"2020-04-15T00:00:00\", \"2020-04-16T00:00:00\", \"2020-04-17T00:00:00\", \"2020-04-18T00:00:00\", \"2020-04-19T00:00:00\", \"2020-04-21T00:00:00\", \"2020-04-22T00:00:00\", \"2020-04-23T00:00:00\", \"2020-04-24T00:00:00\", \"2020-04-25T00:00:00\", \"2020-04-26T00:00:00\", \"2020-04-27T00:00:00\", \"2020-04-28T00:00:00\", \"2020-04-29T00:00:00\", \"2020-04-30T00:00:00\", \"2020-05-01T00:00:00\", \"2020-05-02T00:00:00\", \"2020-05-03T00:00:00\", \"2020-05-04T00:00:00\", \"2020-05-05T00:00:00\", \"2020-05-06T00:00:00\", \"2020-05-07T00:00:00\", \"2020-05-08T00:00:00\", \"2020-05-09T00:00:00\", \"2020-05-10T00:00:00\", \"2020-05-11T00:00:00\", \"2020-05-12T00:00:00\", \"2020-05-13T00:00:00\", \"2020-05-14T00:00:00\", \"2020-05-15T00:00:00\", \"2020-05-16T00:00:00\", \"2020-05-17T00:00:00\", \"2020-05-18T00:00:00\", \"2020-05-19T00:00:00\", \"2020-05-20T00:00:00\", \"2020-05-21T00:00:00\", \"2020-05-22T00:00:00\", \"2020-05-23T00:00:00\", \"2020-05-24T00:00:00\", \"2020-05-25T00:00:00\", \"2020-05-26T00:00:00\", \"2020-05-27T00:00:00\", \"2020-05-28T00:00:00\", \"2020-05-30T00:00:00\", \"2020-05-31T00:00:00\", \"2020-06-01T00:00:00\", \"2020-06-02T00:00:00\", \"2020-06-03T00:00:00\", \"2020-06-04T00:00:00\", \"2020-06-05T00:00:00\", \"2020-06-06T00:00:00\", \"2020-06-07T00:00:00\", \"2020-06-08T00:00:00\", \"2020-06-09T00:00:00\", \"2020-06-10T00:00:00\", \"2020-06-11T00:00:00\", \"2020-06-12T00:00:00\", \"2020-06-13T00:00:00\", \"2020-06-14T00:00:00\", \"2020-06-15T00:00:00\", \"2020-06-16T00:00:00\", \"2020-06-17T00:00:00\", \"2020-06-18T00:00:00\", \"2020-06-19T00:00:00\", \"2020-06-20T00:00:00\", \"2020-06-21T00:00:00\", \"2020-06-22T00:00:00\", \"2020-06-23T00:00:00\", \"2020-06-24T00:00:00\", \"2020-06-25T00:00:00\", \"2020-06-26T00:00:00\", \"2020-06-27T00:00:00\", \"2020-06-28T00:00:00\", \"2020-06-29T00:00:00\", \"2020-06-30T00:00:00\", \"2020-07-01T00:00:00\", \"2020-07-02T00:00:00\", \"2020-07-03T00:00:00\", \"2020-07-04T00:00:00\", \"2020-07-05T00:00:00\", \"2020-07-06T00:00:00\", \"2020-07-07T00:00:00\", \"2020-07-08T00:00:00\", \"2020-07-09T00:00:00\", \"2020-07-10T00:00:00\", \"2020-07-11T00:00:00\", \"2020-07-12T00:00:00\", \"2020-07-13T00:00:00\", \"2020-07-14T00:00:00\", \"2020-07-15T00:00:00\", \"2020-07-16T00:00:00\", \"2020-07-17T00:00:00\", \"2020-07-18T00:00:00\", \"2020-07-19T00:00:00\", \"2020-07-20T00:00:00\", \"2020-07-21T00:00:00\", \"2020-07-22T00:00:00\", \"2020-07-23T00:00:00\", \"2020-07-24T00:00:00\", \"2020-07-25T00:00:00\", \"2020-07-26T00:00:00\", \"2020-07-27T00:00:00\", \"2020-07-28T00:00:00\", \"2020-07-29T00:00:00\", \"2020-07-30T00:00:00\", \"2020-07-31T00:00:00\", \"2020-08-01T00:00:00\", \"2020-08-02T00:00:00\", \"2020-08-03T00:00:00\", \"2020-08-04T00:00:00\", \"2020-08-05T00:00:00\", \"2020-08-06T00:00:00\", \"2020-08-07T00:00:00\", \"2020-08-08T00:00:00\", \"2020-08-09T00:00:00\", \"2020-08-10T00:00:00\", \"2020-08-11T00:00:00\", \"2020-08-12T00:00:00\", \"2020-08-13T00:00:00\", \"2020-08-14T00:00:00\", \"2020-08-15T00:00:00\", \"2020-08-16T00:00:00\", \"2020-08-17T00:00:00\", \"2020-08-18T00:00:00\", \"2020-08-19T00:00:00\"], \"xaxis\": \"x\", \"y\": [0.9387074866343708, 0.929135950387495, 0.9195644141406191, 0.9099928778937433, 0.9004213416468674, 0.8908498044007903, 0.8812782671547134, 0.8717067299086364, 0.8621351925403684, 0.8525636551721005, 0.8429921178038327, 0.8334205804355647, 0.823849041068959, 0.8142775017023534, 0.8047059623357476, 0.7951344229691419, 0.7855628770628429, 0.775991331156544, 0.766419785250245, 0.7568482393439461, 0.747276677118474, 0.7377051148930021, 0.7281335526675301, 0.7185226785425387, 0.7089118044175473, 0.6993009302925557, 0.6896900561675642, 0.6800791218006881, 0.6704681874338119, 0.6608572530669358, 0.6512463187000597, 0.6416353841945469, 0.6320244496890344, 0.6224135151835215, 0.6128025800513774, 0.6031916449192333, 0.5935807097870891, 0.5839697746549449, 0.5743588395621999, 0.564747904469455, 0.55513696937671, 0.5455260342839651, 0.5359150991767203, 0.5263041640694757, 0.516693228962231, 0.5070822938549864, 0.4974713587914286, 0.48786042372787086, 0.478249488664313, 0.45902761846564905, 0.4494166833663171, 0.43980574826698515, 0.4301948131676532, 0.42058387813044973, 0.4109729430932463, 0.40136200805604294, 0.3917510730188396, 0.3821401380086732, 0.37252920299850667, 0.36291826798834037, 0.35330733297817396, 0.3436963979657556, 0.3340854629533374, 0.32447452794091913, 0.31486359286929033, 0.3052526577976613, 0.2956417227260324, 0.2860307876544034, 0.27641985259047375, 0.2668089175265441, 0.2571979824626145, 0.24758704739868498, 0.23797611233860083, 0.2283651772785168, 0.21875424221843287, 0.2091433071398533, 0.1995323720612736, 0.18992143698269404, 0.18031050190411435, 0.17069956691006283, 0.16108863191601153, 0.15147769692196011, 0.1418667619279088, 0.13225582691859583, 0.12264489190928296, 0.11303395689997009, 0.10342302189065733, 0.08420115199279787, 0.07459021704386826, 0.06497928209493853, 0.055368347141622976, 0.045757412188307534, 0.03614647723499209, 0.02653554228167654, 0.016924607314422357, 0.007313672347168287, -0.0022972626200858937, -0.011908197587340186, -0.021519132554594256, -0.031130067521848437, -0.04074100248910262, -0.0503519374563568, -0.05996287242361098, -0.06957380739086505, -0.07918474235811945, -0.08879567732537363, -0.0984066122926276, -0.10801754725988177, -0.11762848222713618, -0.12723941719439014, -0.13685035216164432, -0.1464612871288985, -0.15607222209615268, -0.16568315706340686, -0.17529409203066104, -0.18490502699791522, -0.1945159619651694, -0.20412689693242358, -0.21373783189967777, -0.223349599658132, -0.2329621312057461, -0.24257526936216314, -0.25218855367754267, -0.2618023638403067, -0.2714158178781224, -0.2810298780322197, -0.29064404115582965, -0.300258184428648, -0.30987243679561377, -0.3194866143553482, -0.3291005197365061, -0.33871589584178746, -0.3483310695342956, -0.35794510202643237, -0.367560693537023, -0.37717502990958074, -0.38679091964582635, -0.39640619382466324, -0.4060221559570958, -0.41563737494625264, -0.4252537009960244, -0.4348715462721381, -0.44448823075747174, -0.4541067471528681, -0.4637225700601154, -0.4733382098317264, -0.4829544447798425, -0.49257060296357336, -0.5021896730174161, -0.5118102139005343, -0.5214277155695961, -0.5310456763739869, -0.5406635361596671, -0.5502809966637274, -0.5598981102295384, -0.5695160943754383, -0.5791348885931977, -0.5887517807145181, -0.5983710636045532, -0.6079884832144892, -0.617605998282343, -0.6272241074962814, -0.6368426382740948, -0.6464605944922316, -0.6560810048871359, -0.6656968036348038, -0.6753187110209461, -0.6849377523971543, -0.6945577410012005], \"yaxis\": \"y\"}, {\"line\": {\"color\": \"#0072B2\", \"width\": 2}, \"mode\": \"lines\", \"name\": \"weekly\", \"type\": \"scatter\", \"x\": [\"2017-01-01T00:00:00\", \"2017-01-02T00:00:00\", \"2017-01-03T00:00:00\", \"2017-01-04T00:00:00\", \"2017-01-05T00:00:00\", \"2017-01-06T00:00:00\", \"2017-01-07T00:00:00\"], \"xaxis\": \"x2\", \"y\": [0.024125476300677944, 0.004640328060131618, -0.02675206262960123, -0.01658315284129152, -0.006411643487738498, 0.007049235330274899, 0.013931819267616996], \"yaxis\": \"y2\"}],\n",
              "                        {\"height\": 400, \"showlegend\": false, \"template\": {\"data\": {\"bar\": [{\"error_x\": {\"color\": \"#2a3f5f\"}, \"error_y\": {\"color\": \"#2a3f5f\"}, \"marker\": {\"line\": {\"color\": \"#E5ECF6\", \"width\": 0.5}}, \"type\": \"bar\"}], \"barpolar\": [{\"marker\": {\"line\": {\"color\": \"#E5ECF6\", \"width\": 0.5}}, \"type\": \"barpolar\"}], \"carpet\": [{\"aaxis\": {\"endlinecolor\": \"#2a3f5f\", \"gridcolor\": \"white\", \"linecolor\": \"white\", \"minorgridcolor\": \"white\", \"startlinecolor\": \"#2a3f5f\"}, \"baxis\": {\"endlinecolor\": \"#2a3f5f\", \"gridcolor\": \"white\", \"linecolor\": \"white\", \"minorgridcolor\": \"white\", \"startlinecolor\": \"#2a3f5f\"}, \"type\": \"carpet\"}], \"choropleth\": [{\"colorbar\": {\"outlinewidth\": 0, \"ticks\": \"\"}, \"type\": \"choropleth\"}], \"contour\": [{\"colorbar\": {\"outlinewidth\": 0, \"ticks\": \"\"}, \"colorscale\": [[0.0, \"#0d0887\"], [0.1111111111111111, \"#46039f\"], [0.2222222222222222, \"#7201a8\"], [0.3333333333333333, \"#9c179e\"], [0.4444444444444444, \"#bd3786\"], [0.5555555555555556, \"#d8576b\"], [0.6666666666666666, \"#ed7953\"], [0.7777777777777778, \"#fb9f3a\"], [0.8888888888888888, \"#fdca26\"], [1.0, \"#f0f921\"]], \"type\": \"contour\"}], \"contourcarpet\": [{\"colorbar\": {\"outlinewidth\": 0, \"ticks\": \"\"}, \"type\": \"contourcarpet\"}], \"heatmap\": [{\"colorbar\": {\"outlinewidth\": 0, \"ticks\": \"\"}, \"colorscale\": [[0.0, \"#0d0887\"], [0.1111111111111111, \"#46039f\"], [0.2222222222222222, \"#7201a8\"], [0.3333333333333333, \"#9c179e\"], [0.4444444444444444, \"#bd3786\"], [0.5555555555555556, \"#d8576b\"], [0.6666666666666666, \"#ed7953\"], [0.7777777777777778, \"#fb9f3a\"], [0.8888888888888888, \"#fdca26\"], [1.0, \"#f0f921\"]], \"type\": \"heatmap\"}], \"heatmapgl\": [{\"colorbar\": {\"outlinewidth\": 0, \"ticks\": \"\"}, \"colorscale\": [[0.0, \"#0d0887\"], [0.1111111111111111, \"#46039f\"], [0.2222222222222222, \"#7201a8\"], [0.3333333333333333, \"#9c179e\"], [0.4444444444444444, \"#bd3786\"], [0.5555555555555556, \"#d8576b\"], [0.6666666666666666, \"#ed7953\"], [0.7777777777777778, \"#fb9f3a\"], [0.8888888888888888, \"#fdca26\"], [1.0, \"#f0f921\"]], \"type\": \"heatmapgl\"}], \"histogram\": [{\"marker\": {\"colorbar\": {\"outlinewidth\": 0, \"ticks\": \"\"}}, \"type\": \"histogram\"}], \"histogram2d\": [{\"colorbar\": {\"outlinewidth\": 0, \"ticks\": \"\"}, \"colorscale\": [[0.0, \"#0d0887\"], [0.1111111111111111, \"#46039f\"], [0.2222222222222222, \"#7201a8\"], [0.3333333333333333, \"#9c179e\"], [0.4444444444444444, \"#bd3786\"], [0.5555555555555556, \"#d8576b\"], [0.6666666666666666, \"#ed7953\"], [0.7777777777777778, \"#fb9f3a\"], [0.8888888888888888, \"#fdca26\"], [1.0, \"#f0f921\"]], \"type\": \"histogram2d\"}], \"histogram2dcontour\": [{\"colorbar\": {\"outlinewidth\": 0, \"ticks\": \"\"}, \"colorscale\": [[0.0, \"#0d0887\"], [0.1111111111111111, \"#46039f\"], [0.2222222222222222, \"#7201a8\"], [0.3333333333333333, \"#9c179e\"], [0.4444444444444444, \"#bd3786\"], [0.5555555555555556, \"#d8576b\"], [0.6666666666666666, \"#ed7953\"], [0.7777777777777778, \"#fb9f3a\"], [0.8888888888888888, \"#fdca26\"], [1.0, \"#f0f921\"]], \"type\": \"histogram2dcontour\"}], \"mesh3d\": [{\"colorbar\": {\"outlinewidth\": 0, \"ticks\": \"\"}, \"type\": \"mesh3d\"}], \"parcoords\": [{\"line\": {\"colorbar\": {\"outlinewidth\": 0, \"ticks\": \"\"}}, \"type\": \"parcoords\"}], \"pie\": [{\"automargin\": true, \"type\": \"pie\"}], \"scatter\": [{\"marker\": {\"colorbar\": {\"outlinewidth\": 0, \"ticks\": \"\"}}, \"type\": \"scatter\"}], \"scatter3d\": [{\"line\": {\"colorbar\": {\"outlinewidth\": 0, \"ticks\": \"\"}}, \"marker\": {\"colorbar\": {\"outlinewidth\": 0, \"ticks\": \"\"}}, \"type\": \"scatter3d\"}], \"scattercarpet\": [{\"marker\": {\"colorbar\": {\"outlinewidth\": 0, \"ticks\": \"\"}}, \"type\": \"scattercarpet\"}], \"scattergeo\": [{\"marker\": {\"colorbar\": {\"outlinewidth\": 0, \"ticks\": \"\"}}, \"type\": \"scattergeo\"}], \"scattergl\": [{\"marker\": {\"colorbar\": {\"outlinewidth\": 0, \"ticks\": \"\"}}, \"type\": \"scattergl\"}], \"scattermapbox\": [{\"marker\": {\"colorbar\": {\"outlinewidth\": 0, \"ticks\": \"\"}}, \"type\": \"scattermapbox\"}], \"scatterpolar\": [{\"marker\": {\"colorbar\": {\"outlinewidth\": 0, \"ticks\": \"\"}}, \"type\": \"scatterpolar\"}], \"scatterpolargl\": [{\"marker\": {\"colorbar\": {\"outlinewidth\": 0, \"ticks\": \"\"}}, \"type\": \"scatterpolargl\"}], \"scatterternary\": [{\"marker\": {\"colorbar\": {\"outlinewidth\": 0, \"ticks\": \"\"}}, \"type\": \"scatterternary\"}], \"surface\": [{\"colorbar\": {\"outlinewidth\": 0, \"ticks\": \"\"}, \"colorscale\": [[0.0, \"#0d0887\"], [0.1111111111111111, \"#46039f\"], [0.2222222222222222, \"#7201a8\"], [0.3333333333333333, \"#9c179e\"], [0.4444444444444444, \"#bd3786\"], [0.5555555555555556, \"#d8576b\"], [0.6666666666666666, \"#ed7953\"], [0.7777777777777778, \"#fb9f3a\"], [0.8888888888888888, \"#fdca26\"], [1.0, \"#f0f921\"]], \"type\": \"surface\"}], \"table\": [{\"cells\": {\"fill\": {\"color\": \"#EBF0F8\"}, \"line\": {\"color\": \"white\"}}, \"header\": {\"fill\": {\"color\": \"#C8D4E3\"}, \"line\": {\"color\": \"white\"}}, \"type\": \"table\"}]}, \"layout\": {\"annotationdefaults\": {\"arrowcolor\": \"#2a3f5f\", \"arrowhead\": 0, \"arrowwidth\": 1}, \"coloraxis\": {\"colorbar\": {\"outlinewidth\": 0, \"ticks\": \"\"}}, \"colorscale\": {\"diverging\": [[0, \"#8e0152\"], [0.1, \"#c51b7d\"], [0.2, \"#de77ae\"], [0.3, \"#f1b6da\"], [0.4, \"#fde0ef\"], [0.5, \"#f7f7f7\"], [0.6, \"#e6f5d0\"], [0.7, \"#b8e186\"], [0.8, \"#7fbc41\"], [0.9, \"#4d9221\"], [1, \"#276419\"]], \"sequential\": [[0.0, \"#0d0887\"], [0.1111111111111111, \"#46039f\"], [0.2222222222222222, \"#7201a8\"], [0.3333333333333333, \"#9c179e\"], [0.4444444444444444, \"#bd3786\"], [0.5555555555555556, \"#d8576b\"], [0.6666666666666666, \"#ed7953\"], [0.7777777777777778, \"#fb9f3a\"], [0.8888888888888888, \"#fdca26\"], [1.0, \"#f0f921\"]], \"sequentialminus\": [[0.0, \"#0d0887\"], [0.1111111111111111, \"#46039f\"], [0.2222222222222222, \"#7201a8\"], [0.3333333333333333, \"#9c179e\"], [0.4444444444444444, \"#bd3786\"], [0.5555555555555556, \"#d8576b\"], [0.6666666666666666, \"#ed7953\"], [0.7777777777777778, \"#fb9f3a\"], [0.8888888888888888, \"#fdca26\"], [1.0, \"#f0f921\"]]}, \"colorway\": [\"#636efa\", \"#EF553B\", \"#00cc96\", \"#ab63fa\", \"#FFA15A\", \"#19d3f3\", \"#FF6692\", \"#B6E880\", \"#FF97FF\", \"#FECB52\"], \"font\": {\"color\": \"#2a3f5f\"}, \"geo\": {\"bgcolor\": \"white\", \"lakecolor\": \"white\", \"landcolor\": \"#E5ECF6\", \"showlakes\": true, \"showland\": true, \"subunitcolor\": \"white\"}, \"hoverlabel\": {\"align\": \"left\"}, \"hovermode\": \"closest\", \"mapbox\": {\"style\": \"light\"}, \"paper_bgcolor\": \"white\", \"plot_bgcolor\": \"#E5ECF6\", \"polar\": {\"angularaxis\": {\"gridcolor\": \"white\", \"linecolor\": \"white\", \"ticks\": \"\"}, \"bgcolor\": \"#E5ECF6\", \"radialaxis\": {\"gridcolor\": \"white\", \"linecolor\": \"white\", \"ticks\": \"\"}}, \"scene\": {\"xaxis\": {\"backgroundcolor\": \"#E5ECF6\", \"gridcolor\": \"white\", \"gridwidth\": 2, \"linecolor\": \"white\", \"showbackground\": true, \"ticks\": \"\", \"zerolinecolor\": \"white\"}, \"yaxis\": {\"backgroundcolor\": \"#E5ECF6\", \"gridcolor\": \"white\", \"gridwidth\": 2, \"linecolor\": \"white\", \"showbackground\": true, \"ticks\": \"\", \"zerolinecolor\": \"white\"}, \"zaxis\": {\"backgroundcolor\": \"#E5ECF6\", \"gridcolor\": \"white\", \"gridwidth\": 2, \"linecolor\": \"white\", \"showbackground\": true, \"ticks\": \"\", \"zerolinecolor\": \"white\"}}, \"shapedefaults\": {\"line\": {\"color\": \"#2a3f5f\"}}, \"ternary\": {\"aaxis\": {\"gridcolor\": \"white\", \"linecolor\": \"white\", \"ticks\": \"\"}, \"baxis\": {\"gridcolor\": \"white\", \"linecolor\": \"white\", \"ticks\": \"\"}, \"bgcolor\": \"#E5ECF6\", \"caxis\": {\"gridcolor\": \"white\", \"linecolor\": \"white\", \"ticks\": \"\"}}, \"title\": {\"x\": 0.05}, \"xaxis\": {\"automargin\": true, \"gridcolor\": \"white\", \"linecolor\": \"white\", \"ticks\": \"\", \"title\": {\"standoff\": 15}, \"zerolinecolor\": \"white\", \"zerolinewidth\": 2}, \"yaxis\": {\"automargin\": true, \"gridcolor\": \"white\", \"linecolor\": \"white\", \"ticks\": \"\", \"title\": {\"standoff\": 15}, \"zerolinecolor\": \"white\", \"zerolinewidth\": 2}}}, \"width\": 900, \"xaxis\": {\"anchor\": \"y\", \"domain\": [0.0, 1.0], \"range\": [\"2020-02-22T12:00:00\", \"2020-08-27T12:00:00\"], \"type\": \"date\"}, \"xaxis2\": {\"anchor\": \"y2\", \"domain\": [0.0, 1.0], \"range\": [\"2016-12-31T16:48:00\", \"2017-01-07T07:12:00\"], \"tickformat\": \"%A\", \"type\": \"date\"}, \"yaxis\": {\"anchor\": \"x\", \"domain\": [0.575, 1.0], \"rangemode\": \"normal\", \"title\": {\"text\": \"trend\"}, \"zerolinecolor\": \"#AAA\"}, \"yaxis2\": {\"anchor\": \"x2\", \"domain\": [0.0, 0.425], \"title\": {\"text\": \"weekly\"}, \"zerolinecolor\": \"#AAA\"}},\n",
              "                        {\"responsive\": true}\n",
              "                    ).then(function(){\n",
              "                            \n",
              "var gd = document.getElementById('aa33f4b6-1cbe-44ff-a8b1-6827318b2189');\n",
              "var x = new MutationObserver(function (mutations, observer) {{\n",
              "        var display = window.getComputedStyle(gd).display;\n",
              "        if (!display || display === 'none') {{\n",
              "            console.log([gd, 'removed!']);\n",
              "            Plotly.purge(gd);\n",
              "            observer.disconnect();\n",
              "        }}\n",
              "}});\n",
              "\n",
              "// Listen for the removal of the full notebook cells\n",
              "var notebookContainer = gd.closest('#notebook-container');\n",
              "if (notebookContainer) {{\n",
              "    x.observe(notebookContainer, {childList: true});\n",
              "}}\n",
              "\n",
              "// Listen for the clearing of the current output cell\n",
              "var outputEl = gd.closest('.output');\n",
              "if (outputEl) {{\n",
              "    x.observe(outputEl, {childList: true});\n",
              "}}\n",
              "\n",
              "                        })\n",
              "                };\n",
              "                \n",
              "            </script>\n",
              "        </div>\n",
              "</body>\n",
              "</html>"
            ]
          },
          "metadata": {
            "tags": []
          }
        }
      ]
    },
    {
      "cell_type": "markdown",
      "metadata": {
        "id": "fr3qtRHje8f2",
        "colab_type": "text"
      },
      "source": [
        "### Diagnostics"
      ]
    },
    {
      "cell_type": "code",
      "metadata": {
        "id": "sx_MQzige-eV",
        "colab_type": "code",
        "colab": {
          "base_uri": "https://localhost:8080/",
          "height": 97
        },
        "outputId": "bab93c0f-7ad5-4f58-94b4-16480e014d23"
      },
      "source": [
        "# 172 total days of data (30%)\n",
        "df_cv = cross_validation(prophet_model, initial='118 days', period='1 days', horizon = '1 days')\n",
        "df_cv.tail()"
      ],
      "execution_count": 59,
      "outputs": [
        {
          "output_type": "stream",
          "text": [
            "INFO:fbprophet:Making 1 forecasts with cutoffs between 2020-06-28 00:00:00 and 2020-06-28 00:00:00\n"
          ],
          "name": "stderr"
        },
        {
          "output_type": "execute_result",
          "data": {
            "text/html": [
              "<div>\n",
              "<style scoped>\n",
              "    .dataframe tbody tr th:only-of-type {\n",
              "        vertical-align: middle;\n",
              "    }\n",
              "\n",
              "    .dataframe tbody tr th {\n",
              "        vertical-align: top;\n",
              "    }\n",
              "\n",
              "    .dataframe thead th {\n",
              "        text-align: right;\n",
              "    }\n",
              "</style>\n",
              "<table border=\"1\" class=\"dataframe\">\n",
              "  <thead>\n",
              "    <tr style=\"text-align: right;\">\n",
              "      <th></th>\n",
              "      <th>ds</th>\n",
              "      <th>yhat</th>\n",
              "      <th>yhat_lower</th>\n",
              "      <th>yhat_upper</th>\n",
              "      <th>y</th>\n",
              "      <th>cutoff</th>\n",
              "    </tr>\n",
              "  </thead>\n",
              "  <tbody>\n",
              "    <tr>\n",
              "      <th>0</th>\n",
              "      <td>2020-06-29</td>\n",
              "      <td>-0.206164</td>\n",
              "      <td>-0.981087</td>\n",
              "      <td>0.496</td>\n",
              "      <td>0</td>\n",
              "      <td>2020-06-28</td>\n",
              "    </tr>\n",
              "  </tbody>\n",
              "</table>\n",
              "</div>"
            ],
            "text/plain": [
              "          ds      yhat  yhat_lower  yhat_upper  y     cutoff\n",
              "0 2020-06-29 -0.206164   -0.981087       0.496  0 2020-06-28"
            ]
          },
          "metadata": {
            "tags": []
          },
          "execution_count": 59
        }
      ]
    },
    {
      "cell_type": "code",
      "metadata": {
        "id": "WGnTIpaQfLso",
        "colab_type": "code",
        "colab": {}
      },
      "source": [
        "#cutoffs = pd.to_datetime(['2013-02-15', '2013-08-15', '2014-02-15'])\n",
        "#df_cv2 = cross_validation(m, cutoffs=cutoffs, horizon='365 days')"
      ],
      "execution_count": null,
      "outputs": []
    },
    {
      "cell_type": "code",
      "metadata": {
        "id": "9PN-KeEzfPsY",
        "colab_type": "code",
        "colab": {
          "base_uri": "https://localhost:8080/",
          "height": 97
        },
        "outputId": "e4d0d6ec-4189-40a7-817f-1687313c7352"
      },
      "source": [
        "df_p = performance_metrics(df_cv)\n",
        "df_p.head()"
      ],
      "execution_count": 60,
      "outputs": [
        {
          "output_type": "stream",
          "text": [
            "INFO:fbprophet:Skipping MAPE because y close to 0\n"
          ],
          "name": "stderr"
        },
        {
          "output_type": "execute_result",
          "data": {
            "text/html": [
              "<div>\n",
              "<style scoped>\n",
              "    .dataframe tbody tr th:only-of-type {\n",
              "        vertical-align: middle;\n",
              "    }\n",
              "\n",
              "    .dataframe tbody tr th {\n",
              "        vertical-align: top;\n",
              "    }\n",
              "\n",
              "    .dataframe thead th {\n",
              "        text-align: right;\n",
              "    }\n",
              "</style>\n",
              "<table border=\"1\" class=\"dataframe\">\n",
              "  <thead>\n",
              "    <tr style=\"text-align: right;\">\n",
              "      <th></th>\n",
              "      <th>horizon</th>\n",
              "      <th>mse</th>\n",
              "      <th>rmse</th>\n",
              "      <th>mae</th>\n",
              "      <th>mdape</th>\n",
              "      <th>coverage</th>\n",
              "    </tr>\n",
              "  </thead>\n",
              "  <tbody>\n",
              "    <tr>\n",
              "      <th>0</th>\n",
              "      <td>1 days</td>\n",
              "      <td>0.042504</td>\n",
              "      <td>0.206164</td>\n",
              "      <td>0.206164</td>\n",
              "      <td>inf</td>\n",
              "      <td>1.0</td>\n",
              "    </tr>\n",
              "  </tbody>\n",
              "</table>\n",
              "</div>"
            ],
            "text/plain": [
              "  horizon       mse      rmse       mae  mdape  coverage\n",
              "0  1 days  0.042504  0.206164  0.206164    inf       1.0"
            ]
          },
          "metadata": {
            "tags": []
          },
          "execution_count": 60
        }
      ]
    },
    {
      "cell_type": "code",
      "metadata": {
        "id": "12oHE_VxgLHV",
        "colab_type": "code",
        "colab": {
          "base_uri": "https://localhost:8080/",
          "height": 678
        },
        "outputId": "49372b0d-6df3-4d97-b414-6fce380a5ced"
      },
      "source": [
        "fig = plot_cross_validation_metric(df_cv, metric='mape')"
      ],
      "execution_count": 61,
      "outputs": [
        {
          "output_type": "stream",
          "text": [
            "INFO:fbprophet:Skipping MAPE because y close to 0\n",
            "INFO:fbprophet:Skipping MAPE because y close to 0\n"
          ],
          "name": "stderr"
        },
        {
          "output_type": "error",
          "ename": "TypeError",
          "evalue": "ignored",
          "traceback": [
            "\u001b[0;31m---------------------------------------------------------------------------\u001b[0m",
            "\u001b[0;31mTypeError\u001b[0m                                 Traceback (most recent call last)",
            "\u001b[0;32m<ipython-input-61-db2481a9b2f6>\u001b[0m in \u001b[0;36m<module>\u001b[0;34m()\u001b[0m\n\u001b[0;32m----> 1\u001b[0;31m \u001b[0mfig\u001b[0m \u001b[0;34m=\u001b[0m \u001b[0mplot_cross_validation_metric\u001b[0m\u001b[0;34m(\u001b[0m\u001b[0mdf_cv\u001b[0m\u001b[0;34m,\u001b[0m \u001b[0mmetric\u001b[0m\u001b[0;34m=\u001b[0m\u001b[0;34m'mape'\u001b[0m\u001b[0;34m)\u001b[0m\u001b[0;34m\u001b[0m\u001b[0;34m\u001b[0m\u001b[0m\n\u001b[0m",
            "\u001b[0;32m/usr/local/lib/python3.6/dist-packages/fbprophet/plot.py\u001b[0m in \u001b[0;36mplot_cross_validation_metric\u001b[0;34m(df_cv, metric, rolling_window, ax, figsize)\u001b[0m\n\u001b[1;32m    495\u001b[0m     \u001b[0;31m# Some work because matplotlib does not handle timedelta\u001b[0m\u001b[0;34m\u001b[0m\u001b[0;34m\u001b[0m\u001b[0;34m\u001b[0m\u001b[0m\n\u001b[1;32m    496\u001b[0m     \u001b[0;31m# Target ~10 ticks.\u001b[0m\u001b[0;34m\u001b[0m\u001b[0;34m\u001b[0m\u001b[0;34m\u001b[0m\u001b[0m\n\u001b[0;32m--> 497\u001b[0;31m     \u001b[0mtick_w\u001b[0m \u001b[0;34m=\u001b[0m \u001b[0mmax\u001b[0m\u001b[0;34m(\u001b[0m\u001b[0mdf_none\u001b[0m\u001b[0;34m[\u001b[0m\u001b[0;34m'horizon'\u001b[0m\u001b[0;34m]\u001b[0m\u001b[0;34m.\u001b[0m\u001b[0mastype\u001b[0m\u001b[0;34m(\u001b[0m\u001b[0;34m'timedelta64[ns]'\u001b[0m\u001b[0;34m)\u001b[0m\u001b[0;34m)\u001b[0m \u001b[0;34m/\u001b[0m \u001b[0;36m10.\u001b[0m\u001b[0;34m\u001b[0m\u001b[0;34m\u001b[0m\u001b[0m\n\u001b[0m\u001b[1;32m    498\u001b[0m     \u001b[0;31m# Find the largest time resolution that has <1 unit per bin.\u001b[0m\u001b[0;34m\u001b[0m\u001b[0;34m\u001b[0m\u001b[0;34m\u001b[0m\u001b[0m\n\u001b[1;32m    499\u001b[0m     \u001b[0mdts\u001b[0m \u001b[0;34m=\u001b[0m \u001b[0;34m[\u001b[0m\u001b[0;34m'D'\u001b[0m\u001b[0;34m,\u001b[0m \u001b[0;34m'h'\u001b[0m\u001b[0;34m,\u001b[0m \u001b[0;34m'm'\u001b[0m\u001b[0;34m,\u001b[0m \u001b[0;34m's'\u001b[0m\u001b[0;34m,\u001b[0m \u001b[0;34m'ms'\u001b[0m\u001b[0;34m,\u001b[0m \u001b[0;34m'us'\u001b[0m\u001b[0;34m,\u001b[0m \u001b[0;34m'ns'\u001b[0m\u001b[0;34m]\u001b[0m\u001b[0;34m\u001b[0m\u001b[0;34m\u001b[0m\u001b[0m\n",
            "\u001b[0;31mTypeError\u001b[0m: 'NoneType' object is not subscriptable"
          ]
        },
        {
          "output_type": "display_data",
          "data": {
            "image/png": "[encoded data removed]",
            "text/plain": [
              "<Figure size 720x432 with 1 Axes>"
            ]
          },
          "metadata": {
            "tags": []
          }
        }
      ]
    }
  ]
}