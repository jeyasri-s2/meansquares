{
  "nbformat": 4,
  "nbformat_minor": 0,
  "metadata": {
    "colab": {
      "name": "Industry Employment within California Counties.ipynb",
      "provenance": [],
      "authorship_tag": "ABX9TyN4eSyc1yWabROu5Y/anu+J",
      "include_colab_link": true
    },
    "kernelspec": {
      "name": "python3",
      "display_name": "Python 3"
    }
  },
  "cells": [
    {
      "cell_type": "markdown",
      "metadata": {
        "id": "view-in-github",
        "colab_type": "text"
      },
      "source": [
        "<a href=\"https://colab.research.google.com/github/aarsanjani/meansquares/blob/master/Industry_Employment_within_California_Counties.ipynb\" target=\"_parent\"><img src=\"https://colab.research.google.com/assets/colab-badge.svg\" alt=\"Open In Colab\"/></a>"
      ]
    },
    {
      "cell_type": "code",
      "metadata": {
        "id": "jJBlXcbNsx_s",
        "colab_type": "code",
        "colab": {
          "base_uri": "https://localhost:8080/",
          "height": 122
        },
        "outputId": "478a4fe7-fe51-421b-9cb1-5e847a9845b1"
      },
      "source": [
        "from google.colab import drive\n",
        "drive.mount('/content/drive')"
      ],
      "execution_count": null,
      "outputs": [
        {
          "output_type": "stream",
          "text": [
            "Go to this URL in a browser: https://accounts.google.com/o/oauth2/auth?client_id=947318989803-6bn6qk8qdgf4n4g3pfee6491hc0brc4i.apps.googleusercontent.com&redirect_uri=urn%3aietf%3awg%3aoauth%3a2.0%3aoob&response_type=code&scope=email%20https%3a%2f%2fwww.googleapis.com%2fauth%2fdocs.test%20https%3a%2f%2fwww.googleapis.com%2fauth%2fdrive%20https%3a%2f%2fwww.googleapis.com%2fauth%2fdrive.photos.readonly%20https%3a%2f%2fwww.googleapis.com%2fauth%2fpeopleapi.readonly\n",
            "\n",
            "Enter your authorization code:\n",
            "··········\n",
            "Mounted at /content/drive\n"
          ],
          "name": "stdout"
        }
      ]
    },
    {
      "cell_type": "code",
      "metadata": {
        "id": "8VkGKPops7DC",
        "colab_type": "code",
        "colab": {}
      },
      "source": [
        "import pandas as pd\n"
      ],
      "execution_count": null,
      "outputs": []
    },
    {
      "cell_type": "code",
      "metadata": {
        "id": "zQ6X_gfVs9Q7",
        "colab_type": "code",
        "colab": {
          "base_uri": "https://localhost:8080/",
          "height": 34
        },
        "outputId": "8bc27cc6-fbc3-461a-bdd9-fbbafb3850a2"
      },
      "source": [
        "california_industry_employment = pd.read_csv('https://data.edd.ca.gov/api/views/nt76-4rha/rows.csv',low_memory=False)\n",
        "print(california_industry_employment.shape)"
      ],
      "execution_count": null,
      "outputs": [
        {
          "output_type": "stream",
          "text": [
            "(762990, 8)\n"
          ],
          "name": "stdout"
        }
      ]
    },
    {
      "cell_type": "code",
      "metadata": {
        "id": "bP8J0paouDvi",
        "colab_type": "code",
        "colab": {
          "base_uri": "https://localhost:8080/",
          "height": 204
        },
        "outputId": "d40a9e1e-ebb8-4790-fdab-fbafcc8c7cb0"
      },
      "source": [
        "california_industry_employment.head()"
      ],
      "execution_count": null,
      "outputs": [
        {
          "output_type": "execute_result",
          "data": {
            "text/html": [
              "<div>\n",
              "<style scoped>\n",
              "    .dataframe tbody tr th:only-of-type {\n",
              "        vertical-align: middle;\n",
              "    }\n",
              "\n",
              "    .dataframe tbody tr th {\n",
              "        vertical-align: top;\n",
              "    }\n",
              "\n",
              "    .dataframe thead th {\n",
              "        text-align: right;\n",
              "    }\n",
              "</style>\n",
              "<table border=\"1\" class=\"dataframe\">\n",
              "  <thead>\n",
              "    <tr style=\"text-align: right;\">\n",
              "      <th></th>\n",
              "      <th>Area Type</th>\n",
              "      <th>Area Name</th>\n",
              "      <th>Year</th>\n",
              "      <th>Month</th>\n",
              "      <th>Series Code</th>\n",
              "      <th>Industry Title</th>\n",
              "      <th>Seasonally Adjusted</th>\n",
              "      <th>Current Employment</th>\n",
              "    </tr>\n",
              "  </thead>\n",
              "  <tbody>\n",
              "    <tr>\n",
              "      <th>0</th>\n",
              "      <td>County</td>\n",
              "      <td>Alameda County</td>\n",
              "      <td>2014</td>\n",
              "      <td>January</td>\n",
              "      <td>70000000</td>\n",
              "      <td>Leisure and Hospitality</td>\n",
              "      <td>N</td>\n",
              "      <td>61800</td>\n",
              "    </tr>\n",
              "    <tr>\n",
              "      <th>1</th>\n",
              "      <td>County</td>\n",
              "      <td>Alameda County</td>\n",
              "      <td>2014</td>\n",
              "      <td>January</td>\n",
              "      <td>65620000</td>\n",
              "      <td>Health Care and Social Assistance</td>\n",
              "      <td>N</td>\n",
              "      <td>95300</td>\n",
              "    </tr>\n",
              "    <tr>\n",
              "      <th>2</th>\n",
              "      <td>County</td>\n",
              "      <td>Alameda County</td>\n",
              "      <td>2014</td>\n",
              "      <td>January</td>\n",
              "      <td>65000000</td>\n",
              "      <td>Educational and Health Services</td>\n",
              "      <td>N</td>\n",
              "      <td>110700</td>\n",
              "    </tr>\n",
              "    <tr>\n",
              "      <th>3</th>\n",
              "      <td>County</td>\n",
              "      <td>Alameda County</td>\n",
              "      <td>2014</td>\n",
              "      <td>January</td>\n",
              "      <td>42000000</td>\n",
              "      <td>Retail Trade</td>\n",
              "      <td>N</td>\n",
              "      <td>68500</td>\n",
              "    </tr>\n",
              "    <tr>\n",
              "      <th>4</th>\n",
              "      <td>County</td>\n",
              "      <td>Alameda County</td>\n",
              "      <td>2014</td>\n",
              "      <td>January</td>\n",
              "      <td>60560000</td>\n",
              "      <td>Administrative and Support and Waste Ser</td>\n",
              "      <td>N</td>\n",
              "      <td>35200</td>\n",
              "    </tr>\n",
              "  </tbody>\n",
              "</table>\n",
              "</div>"
            ],
            "text/plain": [
              "  Area Type       Area Name  ...  Seasonally Adjusted Current Employment\n",
              "0    County  Alameda County  ...                    N              61800\n",
              "1    County  Alameda County  ...                    N              95300\n",
              "2    County  Alameda County  ...                    N             110700\n",
              "3    County  Alameda County  ...                    N              68500\n",
              "4    County  Alameda County  ...                    N              35200\n",
              "\n",
              "[5 rows x 8 columns]"
            ]
          },
          "metadata": {
            "tags": []
          },
          "execution_count": 4
        }
      ]
    },
    {
      "cell_type": "code",
      "metadata": {
        "id": "sUp3I_v1vWVj",
        "colab_type": "code",
        "colab": {
          "base_uri": "https://localhost:8080/",
          "height": 204
        },
        "outputId": "28d622b4-65af-4b6c-f542-03b0a0da97a0"
      },
      "source": [
        "california_industry_employment_2020 = california_industry_employment[california_industry_employment['Year'] == 2020]\n",
        "california_industry_employment_2020.tail()"
      ],
      "execution_count": null,
      "outputs": [
        {
          "output_type": "execute_result",
          "data": {
            "text/html": [
              "<div>\n",
              "<style scoped>\n",
              "    .dataframe tbody tr th:only-of-type {\n",
              "        vertical-align: middle;\n",
              "    }\n",
              "\n",
              "    .dataframe tbody tr th {\n",
              "        vertical-align: top;\n",
              "    }\n",
              "\n",
              "    .dataframe thead th {\n",
              "        text-align: right;\n",
              "    }\n",
              "</style>\n",
              "<table border=\"1\" class=\"dataframe\">\n",
              "  <thead>\n",
              "    <tr style=\"text-align: right;\">\n",
              "      <th></th>\n",
              "      <th>Area Type</th>\n",
              "      <th>Area Name</th>\n",
              "      <th>Year</th>\n",
              "      <th>Month</th>\n",
              "      <th>Series Code</th>\n",
              "      <th>Industry Title</th>\n",
              "      <th>Seasonally Adjusted</th>\n",
              "      <th>Current Employment</th>\n",
              "    </tr>\n",
              "  </thead>\n",
              "  <tbody>\n",
              "    <tr>\n",
              "      <th>161193</th>\n",
              "      <td>County</td>\n",
              "      <td>Ventura County</td>\n",
              "      <td>2020</td>\n",
              "      <td>June</td>\n",
              "      <td>65000000</td>\n",
              "      <td>Educational and Health Services</td>\n",
              "      <td>N</td>\n",
              "      <td>47300</td>\n",
              "    </tr>\n",
              "    <tr>\n",
              "      <th>161194</th>\n",
              "      <td>County</td>\n",
              "      <td>Ventura County</td>\n",
              "      <td>2020</td>\n",
              "      <td>June</td>\n",
              "      <td>60561000</td>\n",
              "      <td>Administrative and Support Services</td>\n",
              "      <td>N</td>\n",
              "      <td>16100</td>\n",
              "    </tr>\n",
              "    <tr>\n",
              "      <th>161195</th>\n",
              "      <td>County</td>\n",
              "      <td>Ventura County</td>\n",
              "      <td>2020</td>\n",
              "      <td>June</td>\n",
              "      <td>60560000</td>\n",
              "      <td>Administrative and Support and Waste Ser</td>\n",
              "      <td>N</td>\n",
              "      <td>17000</td>\n",
              "    </tr>\n",
              "    <tr>\n",
              "      <th>161196</th>\n",
              "      <td>County</td>\n",
              "      <td>Ventura County</td>\n",
              "      <td>2020</td>\n",
              "      <td>June</td>\n",
              "      <td>43400089</td>\n",
              "      <td>Transportation and Warehousing</td>\n",
              "      <td>N</td>\n",
              "      <td>5100</td>\n",
              "    </tr>\n",
              "    <tr>\n",
              "      <th>161197</th>\n",
              "      <td>County</td>\n",
              "      <td>Ventura County</td>\n",
              "      <td>2020</td>\n",
              "      <td>June</td>\n",
              "      <td>80000000</td>\n",
              "      <td>Other Services</td>\n",
              "      <td>N</td>\n",
              "      <td>7700</td>\n",
              "    </tr>\n",
              "  </tbody>\n",
              "</table>\n",
              "</div>"
            ],
            "text/plain": [
              "       Area Type       Area Name  ...  Seasonally Adjusted Current Employment\n",
              "161193    County  Ventura County  ...                    N              47300\n",
              "161194    County  Ventura County  ...                    N              16100\n",
              "161195    County  Ventura County  ...                    N              17000\n",
              "161196    County  Ventura County  ...                    N               5100\n",
              "161197    County  Ventura County  ...                    N               7700\n",
              "\n",
              "[5 rows x 8 columns]"
            ]
          },
          "metadata": {
            "tags": []
          },
          "execution_count": 13
        }
      ]
    },
    {
      "cell_type": "code",
      "metadata": {
        "id": "mp4w3lLczRq2",
        "colab_type": "code",
        "colab": {
          "base_uri": "https://localhost:8080/",
          "height": 34
        },
        "outputId": "197207a2-e735-410d-ce66-dc59476d5aad"
      },
      "source": [
        "california_industry_employment_2020.shape"
      ],
      "execution_count": null,
      "outputs": [
        {
          "output_type": "execute_result",
          "data": {
            "text/plain": [
              "(10062, 8)"
            ]
          },
          "metadata": {
            "tags": []
          },
          "execution_count": 21
        }
      ]
    },
    {
      "cell_type": "code",
      "metadata": {
        "id": "X4VEJ9GDx2Pm",
        "colab_type": "code",
        "colab": {
          "base_uri": "https://localhost:8080/",
          "height": 204
        },
        "outputId": "a0b568c0-032f-467e-df67-e63af6c2410c"
      },
      "source": [
        "county_fips = pd.read_csv('https://raw.githubusercontent.com/kjhealy/fips-codes/master/county_fips_master.csv', encoding='latin-1')\n",
        "county_fips.head()"
      ],
      "execution_count": null,
      "outputs": [
        {
          "output_type": "execute_result",
          "data": {
            "text/html": [
              "<div>\n",
              "<style scoped>\n",
              "    .dataframe tbody tr th:only-of-type {\n",
              "        vertical-align: middle;\n",
              "    }\n",
              "\n",
              "    .dataframe tbody tr th {\n",
              "        vertical-align: top;\n",
              "    }\n",
              "\n",
              "    .dataframe thead th {\n",
              "        text-align: right;\n",
              "    }\n",
              "</style>\n",
              "<table border=\"1\" class=\"dataframe\">\n",
              "  <thead>\n",
              "    <tr style=\"text-align: right;\">\n",
              "      <th></th>\n",
              "      <th>fips</th>\n",
              "      <th>county_name</th>\n",
              "      <th>state_abbr</th>\n",
              "      <th>state_name</th>\n",
              "      <th>long_name</th>\n",
              "      <th>sumlev</th>\n",
              "      <th>region</th>\n",
              "      <th>division</th>\n",
              "      <th>state</th>\n",
              "      <th>county</th>\n",
              "      <th>crosswalk</th>\n",
              "      <th>region_name</th>\n",
              "      <th>division_name</th>\n",
              "    </tr>\n",
              "  </thead>\n",
              "  <tbody>\n",
              "    <tr>\n",
              "      <th>0</th>\n",
              "      <td>1001</td>\n",
              "      <td>Autauga County</td>\n",
              "      <td>AL</td>\n",
              "      <td>Alabama</td>\n",
              "      <td>Autauga County AL</td>\n",
              "      <td>50.0</td>\n",
              "      <td>3.0</td>\n",
              "      <td>6.0</td>\n",
              "      <td>1.0</td>\n",
              "      <td>1.0</td>\n",
              "      <td>3-6-1-1</td>\n",
              "      <td>South</td>\n",
              "      <td>East South Central</td>\n",
              "    </tr>\n",
              "    <tr>\n",
              "      <th>1</th>\n",
              "      <td>1003</td>\n",
              "      <td>Baldwin County</td>\n",
              "      <td>AL</td>\n",
              "      <td>Alabama</td>\n",
              "      <td>Baldwin County AL</td>\n",
              "      <td>50.0</td>\n",
              "      <td>3.0</td>\n",
              "      <td>6.0</td>\n",
              "      <td>1.0</td>\n",
              "      <td>3.0</td>\n",
              "      <td>3-6-1-3</td>\n",
              "      <td>South</td>\n",
              "      <td>East South Central</td>\n",
              "    </tr>\n",
              "    <tr>\n",
              "      <th>2</th>\n",
              "      <td>1005</td>\n",
              "      <td>Barbour County</td>\n",
              "      <td>AL</td>\n",
              "      <td>Alabama</td>\n",
              "      <td>Barbour County AL</td>\n",
              "      <td>50.0</td>\n",
              "      <td>3.0</td>\n",
              "      <td>6.0</td>\n",
              "      <td>1.0</td>\n",
              "      <td>5.0</td>\n",
              "      <td>3-6-1-5</td>\n",
              "      <td>South</td>\n",
              "      <td>East South Central</td>\n",
              "    </tr>\n",
              "    <tr>\n",
              "      <th>3</th>\n",
              "      <td>1007</td>\n",
              "      <td>Bibb County</td>\n",
              "      <td>AL</td>\n",
              "      <td>Alabama</td>\n",
              "      <td>Bibb County AL</td>\n",
              "      <td>50.0</td>\n",
              "      <td>3.0</td>\n",
              "      <td>6.0</td>\n",
              "      <td>1.0</td>\n",
              "      <td>7.0</td>\n",
              "      <td>3-6-1-7</td>\n",
              "      <td>South</td>\n",
              "      <td>East South Central</td>\n",
              "    </tr>\n",
              "    <tr>\n",
              "      <th>4</th>\n",
              "      <td>1009</td>\n",
              "      <td>Blount County</td>\n",
              "      <td>AL</td>\n",
              "      <td>Alabama</td>\n",
              "      <td>Blount County AL</td>\n",
              "      <td>50.0</td>\n",
              "      <td>3.0</td>\n",
              "      <td>6.0</td>\n",
              "      <td>1.0</td>\n",
              "      <td>9.0</td>\n",
              "      <td>3-6-1-9</td>\n",
              "      <td>South</td>\n",
              "      <td>East South Central</td>\n",
              "    </tr>\n",
              "  </tbody>\n",
              "</table>\n",
              "</div>"
            ],
            "text/plain": [
              "   fips     county_name state_abbr  ... crosswalk region_name       division_name\n",
              "0  1001  Autauga County         AL  ...   3-6-1-1       South  East South Central\n",
              "1  1003  Baldwin County         AL  ...   3-6-1-3       South  East South Central\n",
              "2  1005  Barbour County         AL  ...   3-6-1-5       South  East South Central\n",
              "3  1007     Bibb County         AL  ...   3-6-1-7       South  East South Central\n",
              "4  1009   Blount County         AL  ...   3-6-1-9       South  East South Central\n",
              "\n",
              "[5 rows x 13 columns]"
            ]
          },
          "metadata": {
            "tags": []
          },
          "execution_count": 15
        }
      ]
    },
    {
      "cell_type": "code",
      "metadata": {
        "id": "sFNLmiV9yi5S",
        "colab_type": "code",
        "colab": {
          "base_uri": "https://localhost:8080/",
          "height": 204
        },
        "outputId": "e0039eb5-c6a8-4432-d0c0-6f4d7bd467d6"
      },
      "source": [
        "county_fips = county_fips[county_fips['state_name'] == 'California']\n",
        "county_fips.head()"
      ],
      "execution_count": null,
      "outputs": [
        {
          "output_type": "execute_result",
          "data": {
            "text/html": [
              "<div>\n",
              "<style scoped>\n",
              "    .dataframe tbody tr th:only-of-type {\n",
              "        vertical-align: middle;\n",
              "    }\n",
              "\n",
              "    .dataframe tbody tr th {\n",
              "        vertical-align: top;\n",
              "    }\n",
              "\n",
              "    .dataframe thead th {\n",
              "        text-align: right;\n",
              "    }\n",
              "</style>\n",
              "<table border=\"1\" class=\"dataframe\">\n",
              "  <thead>\n",
              "    <tr style=\"text-align: right;\">\n",
              "      <th></th>\n",
              "      <th>fips</th>\n",
              "      <th>county_name</th>\n",
              "      <th>state_abbr</th>\n",
              "      <th>state_name</th>\n",
              "      <th>long_name</th>\n",
              "      <th>sumlev</th>\n",
              "      <th>region</th>\n",
              "      <th>division</th>\n",
              "      <th>state</th>\n",
              "      <th>county</th>\n",
              "      <th>crosswalk</th>\n",
              "      <th>region_name</th>\n",
              "      <th>division_name</th>\n",
              "    </tr>\n",
              "  </thead>\n",
              "  <tbody>\n",
              "    <tr>\n",
              "      <th>187</th>\n",
              "      <td>6001</td>\n",
              "      <td>Alameda County</td>\n",
              "      <td>CA</td>\n",
              "      <td>California</td>\n",
              "      <td>Alameda County CA</td>\n",
              "      <td>50.0</td>\n",
              "      <td>4.0</td>\n",
              "      <td>9.0</td>\n",
              "      <td>6.0</td>\n",
              "      <td>1.0</td>\n",
              "      <td>4-9-6-1</td>\n",
              "      <td>West</td>\n",
              "      <td>Pacific</td>\n",
              "    </tr>\n",
              "    <tr>\n",
              "      <th>188</th>\n",
              "      <td>6003</td>\n",
              "      <td>Alpine County</td>\n",
              "      <td>CA</td>\n",
              "      <td>California</td>\n",
              "      <td>Alpine County CA</td>\n",
              "      <td>50.0</td>\n",
              "      <td>4.0</td>\n",
              "      <td>9.0</td>\n",
              "      <td>6.0</td>\n",
              "      <td>3.0</td>\n",
              "      <td>4-9-6-3</td>\n",
              "      <td>West</td>\n",
              "      <td>Pacific</td>\n",
              "    </tr>\n",
              "    <tr>\n",
              "      <th>189</th>\n",
              "      <td>6005</td>\n",
              "      <td>Amador County</td>\n",
              "      <td>CA</td>\n",
              "      <td>California</td>\n",
              "      <td>Amador County CA</td>\n",
              "      <td>50.0</td>\n",
              "      <td>4.0</td>\n",
              "      <td>9.0</td>\n",
              "      <td>6.0</td>\n",
              "      <td>5.0</td>\n",
              "      <td>4-9-6-5</td>\n",
              "      <td>West</td>\n",
              "      <td>Pacific</td>\n",
              "    </tr>\n",
              "    <tr>\n",
              "      <th>190</th>\n",
              "      <td>6007</td>\n",
              "      <td>Butte County</td>\n",
              "      <td>CA</td>\n",
              "      <td>California</td>\n",
              "      <td>Butte County CA</td>\n",
              "      <td>50.0</td>\n",
              "      <td>4.0</td>\n",
              "      <td>9.0</td>\n",
              "      <td>6.0</td>\n",
              "      <td>7.0</td>\n",
              "      <td>4-9-6-7</td>\n",
              "      <td>West</td>\n",
              "      <td>Pacific</td>\n",
              "    </tr>\n",
              "    <tr>\n",
              "      <th>191</th>\n",
              "      <td>6009</td>\n",
              "      <td>Calaveras County</td>\n",
              "      <td>CA</td>\n",
              "      <td>California</td>\n",
              "      <td>Calaveras County CA</td>\n",
              "      <td>50.0</td>\n",
              "      <td>4.0</td>\n",
              "      <td>9.0</td>\n",
              "      <td>6.0</td>\n",
              "      <td>9.0</td>\n",
              "      <td>4-9-6-9</td>\n",
              "      <td>West</td>\n",
              "      <td>Pacific</td>\n",
              "    </tr>\n",
              "  </tbody>\n",
              "</table>\n",
              "</div>"
            ],
            "text/plain": [
              "     fips       county_name state_abbr  ... crosswalk region_name  division_name\n",
              "187  6001    Alameda County         CA  ...   4-9-6-1        West        Pacific\n",
              "188  6003     Alpine County         CA  ...   4-9-6-3        West        Pacific\n",
              "189  6005     Amador County         CA  ...   4-9-6-5        West        Pacific\n",
              "190  6007      Butte County         CA  ...   4-9-6-7        West        Pacific\n",
              "191  6009  Calaveras County         CA  ...   4-9-6-9        West        Pacific\n",
              "\n",
              "[5 rows x 13 columns]"
            ]
          },
          "metadata": {
            "tags": []
          },
          "execution_count": 16
        }
      ]
    },
    {
      "cell_type": "code",
      "metadata": {
        "id": "G_D9yaIUyJvk",
        "colab_type": "code",
        "colab": {
          "base_uri": "https://localhost:8080/",
          "height": 204
        },
        "outputId": "9da7764a-4f74-4420-a732-67e11fa6bec3"
      },
      "source": [
        "county_fips = county_fips.drop(['long_name', 'sumlev', 'region', 'division', 'state', 'county', 'crosswalk', 'region_name', 'division_name'], axis=1)\n",
        "county_fips.head()"
      ],
      "execution_count": null,
      "outputs": [
        {
          "output_type": "execute_result",
          "data": {
            "text/html": [
              "<div>\n",
              "<style scoped>\n",
              "    .dataframe tbody tr th:only-of-type {\n",
              "        vertical-align: middle;\n",
              "    }\n",
              "\n",
              "    .dataframe tbody tr th {\n",
              "        vertical-align: top;\n",
              "    }\n",
              "\n",
              "    .dataframe thead th {\n",
              "        text-align: right;\n",
              "    }\n",
              "</style>\n",
              "<table border=\"1\" class=\"dataframe\">\n",
              "  <thead>\n",
              "    <tr style=\"text-align: right;\">\n",
              "      <th></th>\n",
              "      <th>fips</th>\n",
              "      <th>county_name</th>\n",
              "      <th>state_abbr</th>\n",
              "      <th>state_name</th>\n",
              "    </tr>\n",
              "  </thead>\n",
              "  <tbody>\n",
              "    <tr>\n",
              "      <th>187</th>\n",
              "      <td>6001</td>\n",
              "      <td>Alameda County</td>\n",
              "      <td>CA</td>\n",
              "      <td>California</td>\n",
              "    </tr>\n",
              "    <tr>\n",
              "      <th>188</th>\n",
              "      <td>6003</td>\n",
              "      <td>Alpine County</td>\n",
              "      <td>CA</td>\n",
              "      <td>California</td>\n",
              "    </tr>\n",
              "    <tr>\n",
              "      <th>189</th>\n",
              "      <td>6005</td>\n",
              "      <td>Amador County</td>\n",
              "      <td>CA</td>\n",
              "      <td>California</td>\n",
              "    </tr>\n",
              "    <tr>\n",
              "      <th>190</th>\n",
              "      <td>6007</td>\n",
              "      <td>Butte County</td>\n",
              "      <td>CA</td>\n",
              "      <td>California</td>\n",
              "    </tr>\n",
              "    <tr>\n",
              "      <th>191</th>\n",
              "      <td>6009</td>\n",
              "      <td>Calaveras County</td>\n",
              "      <td>CA</td>\n",
              "      <td>California</td>\n",
              "    </tr>\n",
              "  </tbody>\n",
              "</table>\n",
              "</div>"
            ],
            "text/plain": [
              "     fips       county_name state_abbr  state_name\n",
              "187  6001    Alameda County         CA  California\n",
              "188  6003     Alpine County         CA  California\n",
              "189  6005     Amador County         CA  California\n",
              "190  6007      Butte County         CA  California\n",
              "191  6009  Calaveras County         CA  California"
            ]
          },
          "metadata": {
            "tags": []
          },
          "execution_count": 17
        }
      ]
    },
    {
      "cell_type": "code",
      "metadata": {
        "id": "Hkqdy2aqyvKp",
        "colab_type": "code",
        "colab": {
          "base_uri": "https://localhost:8080/",
          "height": 204
        },
        "outputId": "5e0ff954-7ba1-4a05-ea1d-7513b271ea6b"
      },
      "source": [
        "california_industry_employment_2020_fips = california_industry_employment_2020.merge(county_fips, left_on='Area Name', right_on='county_name')\n",
        "california_industry_employment_2020_fips.head()"
      ],
      "execution_count": null,
      "outputs": [
        {
          "output_type": "execute_result",
          "data": {
            "text/html": [
              "<div>\n",
              "<style scoped>\n",
              "    .dataframe tbody tr th:only-of-type {\n",
              "        vertical-align: middle;\n",
              "    }\n",
              "\n",
              "    .dataframe tbody tr th {\n",
              "        vertical-align: top;\n",
              "    }\n",
              "\n",
              "    .dataframe thead th {\n",
              "        text-align: right;\n",
              "    }\n",
              "</style>\n",
              "<table border=\"1\" class=\"dataframe\">\n",
              "  <thead>\n",
              "    <tr style=\"text-align: right;\">\n",
              "      <th></th>\n",
              "      <th>Area Type</th>\n",
              "      <th>Area Name</th>\n",
              "      <th>Year</th>\n",
              "      <th>Month</th>\n",
              "      <th>Series Code</th>\n",
              "      <th>Industry Title</th>\n",
              "      <th>Seasonally Adjusted</th>\n",
              "      <th>Current Employment</th>\n",
              "      <th>fips</th>\n",
              "      <th>county_name</th>\n",
              "      <th>state_abbr</th>\n",
              "      <th>state_name</th>\n",
              "    </tr>\n",
              "  </thead>\n",
              "  <tbody>\n",
              "    <tr>\n",
              "      <th>0</th>\n",
              "      <td>County</td>\n",
              "      <td>Kern County</td>\n",
              "      <td>2020</td>\n",
              "      <td>January</td>\n",
              "      <td>5000000</td>\n",
              "      <td>Total Private</td>\n",
              "      <td>N</td>\n",
              "      <td>206900</td>\n",
              "      <td>6029</td>\n",
              "      <td>Kern County</td>\n",
              "      <td>CA</td>\n",
              "      <td>California</td>\n",
              "    </tr>\n",
              "    <tr>\n",
              "      <th>1</th>\n",
              "      <td>County</td>\n",
              "      <td>Kern County</td>\n",
              "      <td>2020</td>\n",
              "      <td>January</td>\n",
              "      <td>6000000</td>\n",
              "      <td>Goods Producing</td>\n",
              "      <td>N</td>\n",
              "      <td>38400</td>\n",
              "      <td>6029</td>\n",
              "      <td>Kern County</td>\n",
              "      <td>CA</td>\n",
              "      <td>California</td>\n",
              "    </tr>\n",
              "    <tr>\n",
              "      <th>2</th>\n",
              "      <td>County</td>\n",
              "      <td>Kern County</td>\n",
              "      <td>2020</td>\n",
              "      <td>January</td>\n",
              "      <td>32000000</td>\n",
              "      <td>Nondurable Goods</td>\n",
              "      <td>N</td>\n",
              "      <td>7600</td>\n",
              "      <td>6029</td>\n",
              "      <td>Kern County</td>\n",
              "      <td>CA</td>\n",
              "      <td>California</td>\n",
              "    </tr>\n",
              "    <tr>\n",
              "      <th>3</th>\n",
              "      <td>County</td>\n",
              "      <td>Kern County</td>\n",
              "      <td>2020</td>\n",
              "      <td>January</td>\n",
              "      <td>42000000</td>\n",
              "      <td>Retail Trade</td>\n",
              "      <td>N</td>\n",
              "      <td>31300</td>\n",
              "      <td>6029</td>\n",
              "      <td>Kern County</td>\n",
              "      <td>CA</td>\n",
              "      <td>California</td>\n",
              "    </tr>\n",
              "    <tr>\n",
              "      <th>4</th>\n",
              "      <td>County</td>\n",
              "      <td>Kern County</td>\n",
              "      <td>2020</td>\n",
              "      <td>January</td>\n",
              "      <td>0</td>\n",
              "      <td>Total Nonfarm</td>\n",
              "      <td>N</td>\n",
              "      <td>277200</td>\n",
              "      <td>6029</td>\n",
              "      <td>Kern County</td>\n",
              "      <td>CA</td>\n",
              "      <td>California</td>\n",
              "    </tr>\n",
              "  </tbody>\n",
              "</table>\n",
              "</div>"
            ],
            "text/plain": [
              "  Area Type    Area Name  Year  ...  county_name  state_abbr  state_name\n",
              "0    County  Kern County  2020  ...  Kern County          CA  California\n",
              "1    County  Kern County  2020  ...  Kern County          CA  California\n",
              "2    County  Kern County  2020  ...  Kern County          CA  California\n",
              "3    County  Kern County  2020  ...  Kern County          CA  California\n",
              "4    County  Kern County  2020  ...  Kern County          CA  California\n",
              "\n",
              "[5 rows x 12 columns]"
            ]
          },
          "metadata": {
            "tags": []
          },
          "execution_count": 19
        }
      ]
    },
    {
      "cell_type": "code",
      "metadata": {
        "id": "CKuW1zCBzVIq",
        "colab_type": "code",
        "colab": {
          "base_uri": "https://localhost:8080/",
          "height": 34
        },
        "outputId": "893c53e9-12a8-464b-dc02-fdc8f208b378"
      },
      "source": [
        "california_industry_employment_2020_fips.shape"
      ],
      "execution_count": null,
      "outputs": [
        {
          "output_type": "execute_result",
          "data": {
            "text/plain": [
              "(10062, 12)"
            ]
          },
          "metadata": {
            "tags": []
          },
          "execution_count": 22
        }
      ]
    },
    {
      "cell_type": "code",
      "metadata": {
        "id": "WxrOZ7eRzbae",
        "colab_type": "code",
        "colab": {}
      },
      "source": [
        "california_industry_employment_2020_june_fips = california_industry_employment_2020_fips[california_industry_employment_2020_fips['Month'] == 'June']"
      ],
      "execution_count": null,
      "outputs": []
    },
    {
      "cell_type": "code",
      "metadata": {
        "id": "2lh4Ygk9zzva",
        "colab_type": "code",
        "colab": {
          "base_uri": "https://localhost:8080/",
          "height": 204
        },
        "outputId": "df13ad0b-c940-4944-d538-6bd51b065565"
      },
      "source": [
        "california_industry_employment_2020_june_fips = california_industry_employment_2020_june_fips.drop(['Area Name'],axis=1)\n",
        "california_industry_employment_2020_june_fips.head()"
      ],
      "execution_count": null,
      "outputs": [
        {
          "output_type": "execute_result",
          "data": {
            "text/html": [
              "<div>\n",
              "<style scoped>\n",
              "    .dataframe tbody tr th:only-of-type {\n",
              "        vertical-align: middle;\n",
              "    }\n",
              "\n",
              "    .dataframe tbody tr th {\n",
              "        vertical-align: top;\n",
              "    }\n",
              "\n",
              "    .dataframe thead th {\n",
              "        text-align: right;\n",
              "    }\n",
              "</style>\n",
              "<table border=\"1\" class=\"dataframe\">\n",
              "  <thead>\n",
              "    <tr style=\"text-align: right;\">\n",
              "      <th></th>\n",
              "      <th>Area Type</th>\n",
              "      <th>Year</th>\n",
              "      <th>Month</th>\n",
              "      <th>Series Code</th>\n",
              "      <th>Industry Title</th>\n",
              "      <th>Seasonally Adjusted</th>\n",
              "      <th>Current Employment</th>\n",
              "      <th>fips</th>\n",
              "      <th>county_name</th>\n",
              "      <th>state_abbr</th>\n",
              "      <th>state_name</th>\n",
              "    </tr>\n",
              "  </thead>\n",
              "  <tbody>\n",
              "    <tr>\n",
              "      <th>169</th>\n",
              "      <td>County</td>\n",
              "      <td>2020</td>\n",
              "      <td>June</td>\n",
              "      <td>90930000</td>\n",
              "      <td>Local Government</td>\n",
              "      <td>N</td>\n",
              "      <td>43200</td>\n",
              "      <td>6029</td>\n",
              "      <td>Kern County</td>\n",
              "      <td>CA</td>\n",
              "      <td>California</td>\n",
              "    </tr>\n",
              "    <tr>\n",
              "      <th>281</th>\n",
              "      <td>County</td>\n",
              "      <td>2020</td>\n",
              "      <td>June</td>\n",
              "      <td>0</td>\n",
              "      <td>Total Nonfarm</td>\n",
              "      <td>N</td>\n",
              "      <td>249200</td>\n",
              "      <td>6029</td>\n",
              "      <td>Kern County</td>\n",
              "      <td>CA</td>\n",
              "      <td>California</td>\n",
              "    </tr>\n",
              "    <tr>\n",
              "      <th>282</th>\n",
              "      <td>County</td>\n",
              "      <td>2020</td>\n",
              "      <td>June</td>\n",
              "      <td>0</td>\n",
              "      <td>Total Nonfarm</td>\n",
              "      <td>Y</td>\n",
              "      <td>249000</td>\n",
              "      <td>6029</td>\n",
              "      <td>Kern County</td>\n",
              "      <td>CA</td>\n",
              "      <td>California</td>\n",
              "    </tr>\n",
              "    <tr>\n",
              "      <th>283</th>\n",
              "      <td>County</td>\n",
              "      <td>2020</td>\n",
              "      <td>June</td>\n",
              "      <td>90932994</td>\n",
              "      <td>Special Districts plus Indian Tribes</td>\n",
              "      <td>N</td>\n",
              "      <td>2100</td>\n",
              "      <td>6029</td>\n",
              "      <td>Kern County</td>\n",
              "      <td>CA</td>\n",
              "      <td>California</td>\n",
              "    </tr>\n",
              "    <tr>\n",
              "      <th>284</th>\n",
              "      <td>County</td>\n",
              "      <td>2020</td>\n",
              "      <td>June</td>\n",
              "      <td>90920000</td>\n",
              "      <td>State Government</td>\n",
              "      <td>N</td>\n",
              "      <td>9500</td>\n",
              "      <td>6029</td>\n",
              "      <td>Kern County</td>\n",
              "      <td>CA</td>\n",
              "      <td>California</td>\n",
              "    </tr>\n",
              "  </tbody>\n",
              "</table>\n",
              "</div>"
            ],
            "text/plain": [
              "    Area Type  Year Month  ...  county_name state_abbr  state_name\n",
              "169    County  2020  June  ...  Kern County         CA  California\n",
              "281    County  2020  June  ...  Kern County         CA  California\n",
              "282    County  2020  June  ...  Kern County         CA  California\n",
              "283    County  2020  June  ...  Kern County         CA  California\n",
              "284    County  2020  June  ...  Kern County         CA  California\n",
              "\n",
              "[5 rows x 11 columns]"
            ]
          },
          "metadata": {
            "tags": []
          },
          "execution_count": 24
        }
      ]
    }
  ]
}