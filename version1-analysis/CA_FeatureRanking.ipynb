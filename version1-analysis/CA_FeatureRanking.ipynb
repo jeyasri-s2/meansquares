{
  "nbformat": 4,
  "nbformat_minor": 0,
  "metadata": {
    "colab": {
      "name": "CA_FeatureRanking.ipynb",
      "provenance": [],
      "machine_shape": "hm"
    },
    "kernelspec": {
      "name": "python3",
      "display_name": "Python 3"
    },
    "accelerator": "GPU"
  },
  "cells": [
    {
      "cell_type": "markdown",
      "metadata": {
        "id": "l346AV8oZPe-"
      },
      "source": [
        "# Goal:\n",
        "Using Random Forest to estimate the gini index and feature importance for all features from CA dataset\n",
        "\n",
        "Using Scikit-learn to compute PCA"
      ]
    },
    {
      "cell_type": "markdown",
      "metadata": {
        "id": "thBIWXyoZh3U"
      },
      "source": [
        "## Mount Google drive"
      ]
    },
    {
      "cell_type": "code",
      "metadata": {
        "id": "3N0GpmS9ZJFo",
        "outputId": "53a4dc0b-d59d-4464-db3b-48cf30518fec",
        "colab": {
          "base_uri": "https://localhost:8080/",
          "height": 55
        }
      },
      "source": [
        "from google.colab import drive\n",
        "drive.mount('/content/drive')"
      ],
      "execution_count": 204,
      "outputs": [
        {
          "output_type": "stream",
          "text": [
            "Drive already mounted at /content/drive; to attempt to forcibly remount, call drive.mount(\"/content/drive\", force_remount=True).\n"
          ],
          "name": "stdout"
        }
      ]
    },
    {
      "cell_type": "code",
      "metadata": {
        "id": "ogU_R9SvZjuR"
      },
      "source": [
        "import pandas as pd\n",
        "import seaborn as sns\n",
        "from sklearn import preprocessing\n",
        "from sklearn.model_selection import train_test_split\n",
        "\n",
        "from sklearn.preprocessing import LabelEncoder\n",
        "from sklearn.preprocessing import StandardScaler as ss\n",
        "import itertools\n",
        "from scipy import linalg\n",
        "from sklearn.ensemble import RandomForestClassifier\n",
        "from sklearn.tree import export_graphviz\n",
        "import numpy as np\n",
        "import matplotlib.pyplot as plt"
      ],
      "execution_count": 205,
      "outputs": []
    },
    {
      "cell_type": "markdown",
      "metadata": {
        "id": "mjW80L8CZzrv"
      },
      "source": [
        "# 1.Load data - Combined CA Data"
      ]
    },
    {
      "cell_type": "code",
      "metadata": {
        "id": "HzV2n_7iZwr9",
        "outputId": "70cb55f8-7e5d-4009-d932-957bca35b91b",
        "colab": {
          "base_uri": "https://localhost:8080/",
          "height": 35
        }
      },
      "source": [
        "CA_labeled_data = pd.read_csv('/content/drive/Shared drives/CMPE 295- Master Project/Covid19-data/CA/CA_labeledData_Oct11.csv',low_memory=False)\n",
        "print(CA_labeled_data.shape)"
      ],
      "execution_count": 206,
      "outputs": [
        {
          "output_type": "stream",
          "text": [
            "(9196, 19)\n"
          ],
          "name": "stdout"
        }
      ]
    },
    {
      "cell_type": "code",
      "metadata": {
        "id": "rphAMDm_aBqd",
        "outputId": "5a5804b7-06d8-4757-b8f7-6ee2d0f1313f",
        "colab": {
          "base_uri": "https://localhost:8080/",
          "height": 363
        }
      },
      "source": [
        "CA_labeled_data.dtypes"
      ],
      "execution_count": 207,
      "outputs": [
        {
          "output_type": "execute_result",
          "data": {
            "text/plain": [
              "Date                        object\n",
              "fips_x                       int64\n",
              "County Name                 object\n",
              "population                   int64\n",
              "retail and recreation      float64\n",
              "grocery and pharmacy       float64\n",
              "parks                      float64\n",
              "transit stations           float64\n",
              "workplaces                 float64\n",
              "residential                float64\n",
              "driving                    float64\n",
              "m50                        float64\n",
              "m50_index                    int64\n",
              "population_density         float64\n",
              "mask_rule_active             int64\n",
              "mask_wearing_percent       float64\n",
              "New cases                    int64\n",
              "New Cases/1k population    float64\n",
              "growth_label                object\n",
              "dtype: object"
            ]
          },
          "metadata": {
            "tags": []
          },
          "execution_count": 207
        }
      ]
    },
    {
      "cell_type": "markdown",
      "metadata": {
        "id": "nItxaLWfcCGl"
      },
      "source": [
        "## Preprocessing data \n",
        "\n",
        "* drop na\n",
        "* convert categorical code"
      ]
    },
    {
      "cell_type": "code",
      "metadata": {
        "id": "atHU0JIiaDsb",
        "outputId": "6aff3101-a353-4a83-9eab-8de5acd1228b",
        "colab": {
          "base_uri": "https://localhost:8080/",
          "height": 197
        }
      },
      "source": [
        "CA_labeled_data['growth_code'] = CA_labeled_data['growth_label'].astype('category').cat.codes\n",
        "\n",
        "CA_labeled_data.head(2)"
      ],
      "execution_count": 208,
      "outputs": [
        {
          "output_type": "execute_result",
          "data": {
            "text/html": [
              "<div>\n",
              "<style scoped>\n",
              "    .dataframe tbody tr th:only-of-type {\n",
              "        vertical-align: middle;\n",
              "    }\n",
              "\n",
              "    .dataframe tbody tr th {\n",
              "        vertical-align: top;\n",
              "    }\n",
              "\n",
              "    .dataframe thead th {\n",
              "        text-align: right;\n",
              "    }\n",
              "</style>\n",
              "<table border=\"1\" class=\"dataframe\">\n",
              "  <thead>\n",
              "    <tr style=\"text-align: right;\">\n",
              "      <th></th>\n",
              "      <th>Date</th>\n",
              "      <th>fips_x</th>\n",
              "      <th>County Name</th>\n",
              "      <th>population</th>\n",
              "      <th>retail and recreation</th>\n",
              "      <th>grocery and pharmacy</th>\n",
              "      <th>parks</th>\n",
              "      <th>transit stations</th>\n",
              "      <th>workplaces</th>\n",
              "      <th>residential</th>\n",
              "      <th>driving</th>\n",
              "      <th>m50</th>\n",
              "      <th>m50_index</th>\n",
              "      <th>population_density</th>\n",
              "      <th>mask_rule_active</th>\n",
              "      <th>mask_wearing_percent</th>\n",
              "      <th>New cases</th>\n",
              "      <th>New Cases/1k population</th>\n",
              "      <th>growth_label</th>\n",
              "      <th>growth_code</th>\n",
              "    </tr>\n",
              "  </thead>\n",
              "  <tbody>\n",
              "    <tr>\n",
              "      <th>0</th>\n",
              "      <td>2020-03-01</td>\n",
              "      <td>6001</td>\n",
              "      <td>Alameda County</td>\n",
              "      <td>1671329</td>\n",
              "      <td>6.0</td>\n",
              "      <td>9.0</td>\n",
              "      <td>15.0</td>\n",
              "      <td>1.0</td>\n",
              "      <td>4.0</td>\n",
              "      <td>0.0</td>\n",
              "      <td>-7.65</td>\n",
              "      <td>3.684</td>\n",
              "      <td>58</td>\n",
              "      <td>2261.547725</td>\n",
              "      <td>0</td>\n",
              "      <td>0.0</td>\n",
              "      <td>0</td>\n",
              "      <td>0.0</td>\n",
              "      <td>flat_growth</td>\n",
              "      <td>2</td>\n",
              "    </tr>\n",
              "    <tr>\n",
              "      <th>1</th>\n",
              "      <td>2020-03-02</td>\n",
              "      <td>6001</td>\n",
              "      <td>Alameda County</td>\n",
              "      <td>1671329</td>\n",
              "      <td>4.0</td>\n",
              "      <td>7.0</td>\n",
              "      <td>7.0</td>\n",
              "      <td>-1.0</td>\n",
              "      <td>3.0</td>\n",
              "      <td>0.0</td>\n",
              "      <td>6.76</td>\n",
              "      <td>6.182</td>\n",
              "      <td>98</td>\n",
              "      <td>2261.547725</td>\n",
              "      <td>0</td>\n",
              "      <td>0.0</td>\n",
              "      <td>0</td>\n",
              "      <td>0.0</td>\n",
              "      <td>flat_growth</td>\n",
              "      <td>2</td>\n",
              "    </tr>\n",
              "  </tbody>\n",
              "</table>\n",
              "</div>"
            ],
            "text/plain": [
              "         Date  fips_x  ... growth_label  growth_code\n",
              "0  2020-03-01    6001  ...  flat_growth            2\n",
              "1  2020-03-02    6001  ...  flat_growth            2\n",
              "\n",
              "[2 rows x 20 columns]"
            ]
          },
          "metadata": {
            "tags": []
          },
          "execution_count": 208
        }
      ]
    },
    {
      "cell_type": "code",
      "metadata": {
        "id": "xalDlwRNa4T-"
      },
      "source": [
        "CA_labeled_data = CA_labeled_data.dropna()"
      ],
      "execution_count": 209,
      "outputs": []
    },
    {
      "cell_type": "code",
      "metadata": {
        "id": "oQdh_JQSaXlL"
      },
      "source": [
        "#CA_labeled_data[pd.isna(CA_labeled_data['growth_label'])]"
      ],
      "execution_count": 210,
      "outputs": []
    },
    {
      "cell_type": "code",
      "metadata": {
        "id": "QqIRFkp-aPIE"
      },
      "source": [
        "#CA_labeled_data['label_code'].unique()"
      ],
      "execution_count": 211,
      "outputs": []
    },
    {
      "cell_type": "code",
      "metadata": {
        "id": "u_0KNgMwbAtU",
        "outputId": "43557b92-0afc-4bc5-a893-0722b7fb5084",
        "colab": {
          "base_uri": "https://localhost:8080/",
          "height": 339
        }
      },
      "source": [
        "CA_labeled_data['growth_code'] = CA_labeled_data['growth_label'].astype('category').cat.codes\n",
        "CA_labeled_data.head()"
      ],
      "execution_count": 212,
      "outputs": [
        {
          "output_type": "execute_result",
          "data": {
            "text/html": [
              "<div>\n",
              "<style scoped>\n",
              "    .dataframe tbody tr th:only-of-type {\n",
              "        vertical-align: middle;\n",
              "    }\n",
              "\n",
              "    .dataframe tbody tr th {\n",
              "        vertical-align: top;\n",
              "    }\n",
              "\n",
              "    .dataframe thead th {\n",
              "        text-align: right;\n",
              "    }\n",
              "</style>\n",
              "<table border=\"1\" class=\"dataframe\">\n",
              "  <thead>\n",
              "    <tr style=\"text-align: right;\">\n",
              "      <th></th>\n",
              "      <th>Date</th>\n",
              "      <th>fips_x</th>\n",
              "      <th>County Name</th>\n",
              "      <th>population</th>\n",
              "      <th>retail and recreation</th>\n",
              "      <th>grocery and pharmacy</th>\n",
              "      <th>parks</th>\n",
              "      <th>transit stations</th>\n",
              "      <th>workplaces</th>\n",
              "      <th>residential</th>\n",
              "      <th>driving</th>\n",
              "      <th>m50</th>\n",
              "      <th>m50_index</th>\n",
              "      <th>population_density</th>\n",
              "      <th>mask_rule_active</th>\n",
              "      <th>mask_wearing_percent</th>\n",
              "      <th>New cases</th>\n",
              "      <th>New Cases/1k population</th>\n",
              "      <th>growth_label</th>\n",
              "      <th>growth_code</th>\n",
              "    </tr>\n",
              "  </thead>\n",
              "  <tbody>\n",
              "    <tr>\n",
              "      <th>0</th>\n",
              "      <td>2020-03-01</td>\n",
              "      <td>6001</td>\n",
              "      <td>Alameda County</td>\n",
              "      <td>1671329</td>\n",
              "      <td>6.0</td>\n",
              "      <td>9.0</td>\n",
              "      <td>15.0</td>\n",
              "      <td>1.0</td>\n",
              "      <td>4.0</td>\n",
              "      <td>0.0</td>\n",
              "      <td>-7.65</td>\n",
              "      <td>3.684</td>\n",
              "      <td>58</td>\n",
              "      <td>2261.547725</td>\n",
              "      <td>0</td>\n",
              "      <td>0.0</td>\n",
              "      <td>0</td>\n",
              "      <td>0.000000</td>\n",
              "      <td>flat_growth</td>\n",
              "      <td>2</td>\n",
              "    </tr>\n",
              "    <tr>\n",
              "      <th>1</th>\n",
              "      <td>2020-03-02</td>\n",
              "      <td>6001</td>\n",
              "      <td>Alameda County</td>\n",
              "      <td>1671329</td>\n",
              "      <td>4.0</td>\n",
              "      <td>7.0</td>\n",
              "      <td>7.0</td>\n",
              "      <td>-1.0</td>\n",
              "      <td>3.0</td>\n",
              "      <td>0.0</td>\n",
              "      <td>6.76</td>\n",
              "      <td>6.182</td>\n",
              "      <td>98</td>\n",
              "      <td>2261.547725</td>\n",
              "      <td>0</td>\n",
              "      <td>0.0</td>\n",
              "      <td>0</td>\n",
              "      <td>0.000000</td>\n",
              "      <td>flat_growth</td>\n",
              "      <td>2</td>\n",
              "    </tr>\n",
              "    <tr>\n",
              "      <th>2</th>\n",
              "      <td>2020-03-03</td>\n",
              "      <td>6001</td>\n",
              "      <td>Alameda County</td>\n",
              "      <td>1671329</td>\n",
              "      <td>5.0</td>\n",
              "      <td>12.0</td>\n",
              "      <td>41.0</td>\n",
              "      <td>0.0</td>\n",
              "      <td>1.0</td>\n",
              "      <td>-1.0</td>\n",
              "      <td>13.19</td>\n",
              "      <td>6.271</td>\n",
              "      <td>100</td>\n",
              "      <td>2261.547725</td>\n",
              "      <td>0</td>\n",
              "      <td>0.0</td>\n",
              "      <td>1</td>\n",
              "      <td>0.000598</td>\n",
              "      <td>flat_growth</td>\n",
              "      <td>2</td>\n",
              "    </tr>\n",
              "    <tr>\n",
              "      <th>3</th>\n",
              "      <td>2020-03-04</td>\n",
              "      <td>6001</td>\n",
              "      <td>Alameda County</td>\n",
              "      <td>1671329</td>\n",
              "      <td>1.0</td>\n",
              "      <td>6.0</td>\n",
              "      <td>23.0</td>\n",
              "      <td>-3.0</td>\n",
              "      <td>1.0</td>\n",
              "      <td>0.0</td>\n",
              "      <td>10.67</td>\n",
              "      <td>6.209</td>\n",
              "      <td>99</td>\n",
              "      <td>2261.547725</td>\n",
              "      <td>0</td>\n",
              "      <td>0.0</td>\n",
              "      <td>0</td>\n",
              "      <td>0.000000</td>\n",
              "      <td>flat_growth</td>\n",
              "      <td>2</td>\n",
              "    </tr>\n",
              "    <tr>\n",
              "      <th>4</th>\n",
              "      <td>2020-03-05</td>\n",
              "      <td>6001</td>\n",
              "      <td>Alameda County</td>\n",
              "      <td>1671329</td>\n",
              "      <td>1.0</td>\n",
              "      <td>6.0</td>\n",
              "      <td>12.0</td>\n",
              "      <td>-5.0</td>\n",
              "      <td>-1.0</td>\n",
              "      <td>1.0</td>\n",
              "      <td>11.64</td>\n",
              "      <td>6.654</td>\n",
              "      <td>106</td>\n",
              "      <td>2261.547725</td>\n",
              "      <td>0</td>\n",
              "      <td>0.0</td>\n",
              "      <td>0</td>\n",
              "      <td>0.000000</td>\n",
              "      <td>flat_growth</td>\n",
              "      <td>2</td>\n",
              "    </tr>\n",
              "  </tbody>\n",
              "</table>\n",
              "</div>"
            ],
            "text/plain": [
              "         Date  fips_x  ... growth_label  growth_code\n",
              "0  2020-03-01    6001  ...  flat_growth            2\n",
              "1  2020-03-02    6001  ...  flat_growth            2\n",
              "2  2020-03-03    6001  ...  flat_growth            2\n",
              "3  2020-03-04    6001  ...  flat_growth            2\n",
              "4  2020-03-05    6001  ...  flat_growth            2\n",
              "\n",
              "[5 rows x 20 columns]"
            ]
          },
          "metadata": {
            "tags": []
          },
          "execution_count": 212
        }
      ]
    },
    {
      "cell_type": "markdown",
      "metadata": {
        "id": "lRJY5FP_1FZo"
      },
      "source": [
        "Get unique values of two columns"
      ]
    },
    {
      "cell_type": "code",
      "metadata": {
        "id": "zr56GHGCy1RC",
        "outputId": "1fddae17-7ec4-42b8-e342-a47ef253a17b",
        "colab": {
          "base_uri": "https://localhost:8080/",
          "height": 52
        }
      },
      "source": [
        "pd.unique(CA_labeled_data[['growth_label', 'growth_code']].values.ravel())"
      ],
      "execution_count": 213,
      "outputs": [
        {
          "output_type": "execute_result",
          "data": {
            "text/plain": [
              "array(['flat_growth', 2, 'mild_decrement', 3, 'drastic_growth', 1,\n",
              "       'drastic_decrement', 0, 'mild_growth', 4], dtype=object)"
            ]
          },
          "metadata": {
            "tags": []
          },
          "execution_count": 213
        }
      ]
    },
    {
      "cell_type": "code",
      "metadata": {
        "id": "Rnfoncl0bGfe",
        "outputId": "ba562eb6-365e-410a-e02a-3131241b8694",
        "colab": {
          "base_uri": "https://localhost:8080/",
          "height": 35
        }
      },
      "source": [
        "CA_labeled_data['growth_code'].unique()"
      ],
      "execution_count": 214,
      "outputs": [
        {
          "output_type": "execute_result",
          "data": {
            "text/plain": [
              "array([2, 3, 1, 0, 4], dtype=int8)"
            ]
          },
          "metadata": {
            "tags": []
          },
          "execution_count": 214
        }
      ]
    },
    {
      "cell_type": "code",
      "metadata": {
        "id": "1HVWG1aBcJQo",
        "outputId": "db4b5e18-9172-432a-bf10-6ebef7cc11fb",
        "colab": {
          "base_uri": "https://localhost:8080/",
          "height": 380
        }
      },
      "source": [
        "CA_labeled_data.dtypes"
      ],
      "execution_count": 215,
      "outputs": [
        {
          "output_type": "execute_result",
          "data": {
            "text/plain": [
              "Date                        object\n",
              "fips_x                       int64\n",
              "County Name                 object\n",
              "population                   int64\n",
              "retail and recreation      float64\n",
              "grocery and pharmacy       float64\n",
              "parks                      float64\n",
              "transit stations           float64\n",
              "workplaces                 float64\n",
              "residential                float64\n",
              "driving                    float64\n",
              "m50                        float64\n",
              "m50_index                    int64\n",
              "population_density         float64\n",
              "mask_rule_active             int64\n",
              "mask_wearing_percent       float64\n",
              "New cases                    int64\n",
              "New Cases/1k population    float64\n",
              "growth_label                object\n",
              "growth_code                   int8\n",
              "dtype: object"
            ]
          },
          "metadata": {
            "tags": []
          },
          "execution_count": 215
        }
      ]
    },
    {
      "cell_type": "code",
      "metadata": {
        "id": "Q015pwCsbJRZ"
      },
      "source": [
        "feature_labels = ['retail and recreation','grocery and pharmacy','parks','transit stations','workplaces','residential','driving','m50','m50_index',\n",
        "               'population_density','mask_rule_active']\n",
        "\n",
        "target_column = ['growth_code']\n",
        "\n",
        "X = CA_labeled_data[feature_labels]\n",
        "y = CA_labeled_data[target_column]\n",
        "\n",
        "X_train, X_test, y_train, y_test = train_test_split(X, y, test_size=0.4, random_state=0)\n"
      ],
      "execution_count": 216,
      "outputs": []
    },
    {
      "cell_type": "markdown",
      "metadata": {
        "id": "JCogtyG2c_KJ"
      },
      "source": [
        "## Train Random Forest classifier"
      ]
    },
    {
      "cell_type": "code",
      "metadata": {
        "id": "2WlgVFSHbGWY",
        "outputId": "203622ba-d892-4e55-c677-b3684143013c",
        "colab": {
          "base_uri": "https://localhost:8080/",
          "height": 262
        }
      },
      "source": [
        "# Create a random forest classifier\n",
        "clf = RandomForestClassifier(n_estimators=10000, random_state=0, n_jobs=-1)\n",
        "\n",
        "# Train the classifier\n",
        "clf.fit(X_train, y_train)\n",
        "\n",
        "# Print the name and gini importance of each feature\n",
        "for feature in zip(feature_labels, clf.feature_importances_):\n",
        "    print(feature)"
      ],
      "execution_count": 217,
      "outputs": [
        {
          "output_type": "stream",
          "text": [
            "/usr/local/lib/python3.6/dist-packages/ipykernel_launcher.py:5: DataConversionWarning: A column-vector y was passed when a 1d array was expected. Please change the shape of y to (n_samples,), for example using ravel().\n",
            "  \"\"\"\n"
          ],
          "name": "stderr"
        },
        {
          "output_type": "stream",
          "text": [
            "('retail and recreation', 0.08503314048355048)\n",
            "('grocery and pharmacy', 0.07943895373925938)\n",
            "('parks', 0.08408079218818068)\n",
            "('transit stations', 0.07789576399545989)\n",
            "('workplaces', 0.08956743915603863)\n",
            "('residential', 0.056167234891286485)\n",
            "('driving', 0.14292281122679004)\n",
            "('m50', 0.11107598790850859)\n",
            "('m50_index', 0.0933949981405005)\n",
            "('population_density', 0.0571056224769783)\n",
            "('mask_rule_active', 0.12331725579344704)\n"
          ],
          "name": "stdout"
        }
      ]
    },
    {
      "cell_type": "code",
      "metadata": {
        "id": "3Vc0z9x3dsxZ",
        "outputId": "60abfd5a-52d8-4125-9d4b-7655881088a4",
        "colab": {
          "base_uri": "https://localhost:8080/",
          "height": 262
        }
      },
      "source": [
        "\n",
        "#  Supported criteria are “gini” for the Gini impurity and “entropy” for the information gain. \n",
        "clf = RandomForestClassifier(n_estimators=10000, random_state=0,criterion='entropy', n_jobs=-1)\n",
        "\n",
        "# Train the classifier\n",
        "clf.fit(X_train, y_train)\n",
        "\n",
        "# Print the name and gini importance of each feature\n",
        "for feature in zip(feature_labels, clf.feature_importances_):\n",
        "    print(feature)"
      ],
      "execution_count": 218,
      "outputs": [
        {
          "output_type": "stream",
          "text": [
            "/usr/local/lib/python3.6/dist-packages/ipykernel_launcher.py:6: DataConversionWarning: A column-vector y was passed when a 1d array was expected. Please change the shape of y to (n_samples,), for example using ravel().\n",
            "  \n"
          ],
          "name": "stderr"
        },
        {
          "output_type": "stream",
          "text": [
            "('retail and recreation', 0.08642983298491484)\n",
            "('grocery and pharmacy', 0.08034218966820049)\n",
            "('parks', 0.08201311869057235)\n",
            "('transit stations', 0.07850509302724565)\n",
            "('workplaces', 0.09372899446116155)\n",
            "('residential', 0.057548474286428355)\n",
            "('driving', 0.14072933187439202)\n",
            "('m50', 0.10945621615894073)\n",
            "('m50_index', 0.09316001265069294)\n",
            "('population_density', 0.0633571291290349)\n",
            "('mask_rule_active', 0.11472960706841621)\n"
          ],
          "name": "stdout"
        }
      ]
    },
    {
      "cell_type": "markdown",
      "metadata": {
        "id": "D3zWG9KkfUfd"
      },
      "source": [
        "## PCA Computation"
      ]
    },
    {
      "cell_type": "code",
      "metadata": {
        "id": "E4VmR9P-5JqM",
        "outputId": "dfe5c655-a0e3-44d5-dc39-3c8ae20c7cbd",
        "colab": {
          "base_uri": "https://localhost:8080/",
          "height": 35
        }
      },
      "source": [
        "print(len(feature_labels))"
      ],
      "execution_count": 219,
      "outputs": [
        {
          "output_type": "stream",
          "text": [
            "11\n"
          ],
          "name": "stdout"
        }
      ]
    },
    {
      "cell_type": "code",
      "metadata": {
        "id": "zjEtAIc621LQ",
        "outputId": "ade81892-60c0-402e-f4d5-036d40e8db3a",
        "colab": {
          "base_uri": "https://localhost:8080/",
          "height": 52
        }
      },
      "source": [
        "# split into training and testing datasets\n",
        "\n",
        "\n",
        "X = CA_labeled_data[feature_labels].values\n",
        "y = CA_labeled_data[target_column].values\n",
        "\n",
        "X_train, X_test, y_train, y_test = train_test_split(X, y, test_size=0.3,stratify=y, random_state=0)\n",
        "print(X_train.shape)\n",
        "print(y_train.shape)"
      ],
      "execution_count": 220,
      "outputs": [
        {
          "output_type": "stream",
          "text": [
            "(6437, 11)\n",
            "(6437, 1)\n"
          ],
          "name": "stdout"
        }
      ]
    },
    {
      "cell_type": "code",
      "metadata": {
        "id": "9A68OlBw4WoF"
      },
      "source": [
        "# standardize the features\n",
        "sc = ss()\n",
        "X_train_std = sc.fit_transform(X_train)\n",
        "X_test_std = sc.transform(X_test)"
      ],
      "execution_count": 221,
      "outputs": []
    },
    {
      "cell_type": "code",
      "metadata": {
        "id": "ev-2B1Qf6XTa"
      },
      "source": [
        "from sklearn.decomposition import PCA\n",
        "pca = PCA(n_components=2)\n",
        "principalComponents = pca.fit_transform(X)\n",
        "principalDf = pd.DataFrame(data = principalComponents\n",
        "             , columns = ['principal component 1', 'principal component 2'])"
      ],
      "execution_count": 222,
      "outputs": []
    },
    {
      "cell_type": "code",
      "metadata": {
        "id": "pYJms-Kj8RR6",
        "outputId": "34aceff1-66a6-4d23-df11-785ac2ae78d3",
        "colab": {
          "base_uri": "https://localhost:8080/",
          "height": 407
        }
      },
      "source": [
        "principalDf"
      ],
      "execution_count": 223,
      "outputs": [
        {
          "output_type": "execute_result",
          "data": {
            "text/html": [
              "<div>\n",
              "<style scoped>\n",
              "    .dataframe tbody tr th:only-of-type {\n",
              "        vertical-align: middle;\n",
              "    }\n",
              "\n",
              "    .dataframe tbody tr th {\n",
              "        vertical-align: top;\n",
              "    }\n",
              "\n",
              "    .dataframe thead th {\n",
              "        text-align: right;\n",
              "    }\n",
              "</style>\n",
              "<table border=\"1\" class=\"dataframe\">\n",
              "  <thead>\n",
              "    <tr style=\"text-align: right;\">\n",
              "      <th></th>\n",
              "      <th>principal component 1</th>\n",
              "      <th>principal component 2</th>\n",
              "    </tr>\n",
              "  </thead>\n",
              "  <tbody>\n",
              "    <tr>\n",
              "      <th>0</th>\n",
              "      <td>1485.367326</td>\n",
              "      <td>12.106339</td>\n",
              "    </tr>\n",
              "    <tr>\n",
              "      <th>1</th>\n",
              "      <td>1485.202685</td>\n",
              "      <td>53.028467</td>\n",
              "    </tr>\n",
              "    <tr>\n",
              "      <th>2</th>\n",
              "      <td>1485.077265</td>\n",
              "      <td>56.355243</td>\n",
              "    </tr>\n",
              "    <tr>\n",
              "      <th>3</th>\n",
              "      <td>1485.163752</td>\n",
              "      <td>54.546358</td>\n",
              "    </tr>\n",
              "    <tr>\n",
              "      <th>4</th>\n",
              "      <td>1485.172603</td>\n",
              "      <td>61.321824</td>\n",
              "    </tr>\n",
              "    <tr>\n",
              "      <th>...</th>\n",
              "      <td>...</td>\n",
              "      <td>...</td>\n",
              "    </tr>\n",
              "    <tr>\n",
              "      <th>9191</th>\n",
              "      <td>-651.794386</td>\n",
              "      <td>-5.162801</td>\n",
              "    </tr>\n",
              "    <tr>\n",
              "      <th>9192</th>\n",
              "      <td>-651.772675</td>\n",
              "      <td>2.886101</td>\n",
              "    </tr>\n",
              "    <tr>\n",
              "      <th>9193</th>\n",
              "      <td>-651.781516</td>\n",
              "      <td>-5.401094</td>\n",
              "    </tr>\n",
              "    <tr>\n",
              "      <th>9194</th>\n",
              "      <td>-651.769783</td>\n",
              "      <td>-5.613508</td>\n",
              "    </tr>\n",
              "    <tr>\n",
              "      <th>9195</th>\n",
              "      <td>-651.953197</td>\n",
              "      <td>14.666415</td>\n",
              "    </tr>\n",
              "  </tbody>\n",
              "</table>\n",
              "<p>9196 rows × 2 columns</p>\n",
              "</div>"
            ],
            "text/plain": [
              "      principal component 1  principal component 2\n",
              "0               1485.367326              12.106339\n",
              "1               1485.202685              53.028467\n",
              "2               1485.077265              56.355243\n",
              "3               1485.163752              54.546358\n",
              "4               1485.172603              61.321824\n",
              "...                     ...                    ...\n",
              "9191            -651.794386              -5.162801\n",
              "9192            -651.772675               2.886101\n",
              "9193            -651.781516              -5.401094\n",
              "9194            -651.769783              -5.613508\n",
              "9195            -651.953197              14.666415\n",
              "\n",
              "[9196 rows x 2 columns]"
            ]
          },
          "metadata": {
            "tags": []
          },
          "execution_count": 223
        }
      ]
    },
    {
      "cell_type": "code",
      "metadata": {
        "id": "rDNqe9dF6eZA",
        "outputId": "3a383814-4cd0-4a72-cccd-ba802c705a83",
        "colab": {
          "base_uri": "https://localhost:8080/",
          "height": 407
        }
      },
      "source": [
        "finalDf = pd.concat([principalDf, CA_labeled_data[target_column]],axis=1 )\n",
        "finalDf"
      ],
      "execution_count": 224,
      "outputs": [
        {
          "output_type": "execute_result",
          "data": {
            "text/html": [
              "<div>\n",
              "<style scoped>\n",
              "    .dataframe tbody tr th:only-of-type {\n",
              "        vertical-align: middle;\n",
              "    }\n",
              "\n",
              "    .dataframe tbody tr th {\n",
              "        vertical-align: top;\n",
              "    }\n",
              "\n",
              "    .dataframe thead th {\n",
              "        text-align: right;\n",
              "    }\n",
              "</style>\n",
              "<table border=\"1\" class=\"dataframe\">\n",
              "  <thead>\n",
              "    <tr style=\"text-align: right;\">\n",
              "      <th></th>\n",
              "      <th>principal component 1</th>\n",
              "      <th>principal component 2</th>\n",
              "      <th>growth_code</th>\n",
              "    </tr>\n",
              "  </thead>\n",
              "  <tbody>\n",
              "    <tr>\n",
              "      <th>0</th>\n",
              "      <td>1485.367326</td>\n",
              "      <td>12.106339</td>\n",
              "      <td>2</td>\n",
              "    </tr>\n",
              "    <tr>\n",
              "      <th>1</th>\n",
              "      <td>1485.202685</td>\n",
              "      <td>53.028467</td>\n",
              "      <td>2</td>\n",
              "    </tr>\n",
              "    <tr>\n",
              "      <th>2</th>\n",
              "      <td>1485.077265</td>\n",
              "      <td>56.355243</td>\n",
              "      <td>2</td>\n",
              "    </tr>\n",
              "    <tr>\n",
              "      <th>3</th>\n",
              "      <td>1485.163752</td>\n",
              "      <td>54.546358</td>\n",
              "      <td>2</td>\n",
              "    </tr>\n",
              "    <tr>\n",
              "      <th>4</th>\n",
              "      <td>1485.172603</td>\n",
              "      <td>61.321824</td>\n",
              "      <td>2</td>\n",
              "    </tr>\n",
              "    <tr>\n",
              "      <th>...</th>\n",
              "      <td>...</td>\n",
              "      <td>...</td>\n",
              "      <td>...</td>\n",
              "    </tr>\n",
              "    <tr>\n",
              "      <th>9191</th>\n",
              "      <td>-651.794386</td>\n",
              "      <td>-5.162801</td>\n",
              "      <td>0</td>\n",
              "    </tr>\n",
              "    <tr>\n",
              "      <th>9192</th>\n",
              "      <td>-651.772675</td>\n",
              "      <td>2.886101</td>\n",
              "      <td>1</td>\n",
              "    </tr>\n",
              "    <tr>\n",
              "      <th>9193</th>\n",
              "      <td>-651.781516</td>\n",
              "      <td>-5.401094</td>\n",
              "      <td>4</td>\n",
              "    </tr>\n",
              "    <tr>\n",
              "      <th>9194</th>\n",
              "      <td>-651.769783</td>\n",
              "      <td>-5.613508</td>\n",
              "      <td>0</td>\n",
              "    </tr>\n",
              "    <tr>\n",
              "      <th>9195</th>\n",
              "      <td>-651.953197</td>\n",
              "      <td>14.666415</td>\n",
              "      <td>1</td>\n",
              "    </tr>\n",
              "  </tbody>\n",
              "</table>\n",
              "<p>9196 rows × 3 columns</p>\n",
              "</div>"
            ],
            "text/plain": [
              "      principal component 1  principal component 2  growth_code\n",
              "0               1485.367326              12.106339            2\n",
              "1               1485.202685              53.028467            2\n",
              "2               1485.077265              56.355243            2\n",
              "3               1485.163752              54.546358            2\n",
              "4               1485.172603              61.321824            2\n",
              "...                     ...                    ...          ...\n",
              "9191            -651.794386              -5.162801            0\n",
              "9192            -651.772675               2.886101            1\n",
              "9193            -651.781516              -5.401094            4\n",
              "9194            -651.769783              -5.613508            0\n",
              "9195            -651.953197              14.666415            1\n",
              "\n",
              "[9196 rows x 3 columns]"
            ]
          },
          "metadata": {
            "tags": []
          },
          "execution_count": 224
        }
      ]
    },
    {
      "cell_type": "code",
      "metadata": {
        "id": "nx4DfVPy6uI6",
        "outputId": "3c8e4ad8-4c2a-4e44-f457-3975519f9a35",
        "colab": {
          "base_uri": "https://localhost:8080/",
          "height": 575
        }
      },
      "source": [
        "fig = plt.figure(figsize = (8,8))\n",
        "ax = fig.add_subplot(1,1,1) \n",
        "ax.set_xlabel('Principal Component 1', fontsize = 15)\n",
        "ax.set_ylabel('Principal Component 2', fontsize = 15)\n",
        "ax.set_title('2 component PCA', fontsize = 20)\n",
        "targets = ['LowSpread', 'Spread', 'SuperSpread']\n",
        "targets2 = np.unique(y_train)\n",
        "colors = ['r', 'g', 'b']\n",
        "for target, color in zip(targets2,colors):\n",
        "    print(target)\n",
        "    indicesToKeep = finalDf['growth_code'] == target\n",
        "    ax.scatter(finalDf.loc[indicesToKeep, 'principal component 1']\n",
        "               , finalDf.loc[indicesToKeep, 'principal component 2']\n",
        "               , c = color\n",
        "               , s = 50)\n",
        "ax.legend(targets)\n",
        "ax.grid()"
      ],
      "execution_count": 225,
      "outputs": [
        {
          "output_type": "stream",
          "text": [
            "0\n",
            "1\n",
            "2\n"
          ],
          "name": "stdout"
        },
        {
          "output_type": "display_data",
          "data": {
            "image/png": "[encoded data removed]",
            "text/plain": [
              "<Figure size 576x576 with 1 Axes>"
            ]
          },
          "metadata": {
            "tags": [],
            "needs_background": "light"
          }
        }
      ]
    },
    {
      "cell_type": "code",
      "metadata": {
        "id": "1MDNSQeG4ZWI"
      },
      "source": [
        "#obtain the eigenpairs of the Wine covariance matrix:\n",
        "#data_cov = np.dot(np.transpose(data.values),data.values)\n",
        "#data_cov\n",
        "X_train_cov = np.cov(X_train_std.T)\n",
        "w, v = np.linalg.eig(X_train_cov)"
      ],
      "execution_count": 226,
      "outputs": []
    },
    {
      "cell_type": "code",
      "metadata": {
        "id": "Too9Fkoi4cBt",
        "outputId": "1637f072-775b-47c3-f04f-722595baae15",
        "colab": {
          "base_uri": "https://localhost:8080/",
          "height": 106
        }
      },
      "source": [
        "#The percent of variability contained within each component\n",
        "w_percent = (w/np.sum(w))*100                 \n",
        "print(w, '-> eigenvalues')\n",
        "print(w_percent, ' -> percent of variability explained')"
      ],
      "execution_count": 227,
      "outputs": [
        {
          "output_type": "stream",
          "text": [
            "[4.62807144 1.74450167 1.43901778 0.80376685 0.66266089 0.55432144\n",
            " 0.0800749  0.15493523 0.2412629  0.30559198 0.38750405] -> eigenvalues\n",
            "[42.06684055 15.85664234 13.0799475   7.30583623  6.02325408  5.03850299\n",
            "  0.72784051  1.4082833   2.19295833  2.77767732  3.52221684]  -> percent of variability explained\n"
          ],
          "name": "stdout"
        }
      ]
    },
    {
      "cell_type": "code",
      "metadata": {
        "id": "sxWTQTRD4ebt",
        "outputId": "d404a0ce-718d-4c31-e86c-287a191b7d90",
        "colab": {
          "base_uri": "https://localhost:8080/",
          "height": 295
        }
      },
      "source": [
        "# calculate cumulative sum of explained variances\n",
        "tot = sum(w)\n",
        "var_exp = [(i / tot) for i in sorted(w, reverse=True)]\n",
        "cum_var_exp = np.cumsum(var_exp)\n",
        "\n",
        "# plot explained variances\n",
        "plt.title(\"Component-wise and Cumulative Explained Variance\")\n",
        "plt.bar(range(0,11), var_exp, alpha=0.5,\n",
        "        align='center', label='individual explained variance')\n",
        "plt.step(range(0,11), cum_var_exp, where='mid',\n",
        "         label='Percentage of variability explained')\n",
        "plt.ylabel('Explained variance ratio')\n",
        "plt.xlabel('Principal component index')\n",
        "plt.legend(loc='best')\n",
        "plt.show()"
      ],
      "execution_count": 228,
      "outputs": [
        {
          "output_type": "display_data",
          "data": {
            "image/png": "[encoded data removed]",
            "text/plain": [
              "<Figure size 432x288 with 1 Axes>"
            ]
          },
          "metadata": {
            "tags": [],
            "needs_background": "light"
          }
        }
      ]
    },
    {
      "cell_type": "code",
      "metadata": {
        "id": "SGCUhk0-4hY-",
        "outputId": "a005fde6-5258-4c4c-d2b6-f1fd25266322",
        "colab": {
          "base_uri": "https://localhost:8080/",
          "height": 225
        }
      },
      "source": [
        "# Make a list of (eigenvalue, eigenvector) tuples\n",
        "eigen_pairs = [(np.abs(w[i]), v[:, i]) for i in range(len(w))]\n",
        "\n",
        "# Sort the (eigenvalue, eigenvector) tuples from high to low\n",
        "eigen_pairs.sort(key=lambda k: k[0], reverse=True)\n",
        "w2 = np.hstack((eigen_pairs[0][1][:, np.newaxis], eigen_pairs[1][1][:, np.newaxis]))\n",
        "print('Matrix W2:\\n', w2)"
      ],
      "execution_count": 229,
      "outputs": [
        {
          "output_type": "stream",
          "text": [
            "Matrix W2:\n",
            " [[-0.39552344  0.07998141]\n",
            " [-0.36589215  0.0982739 ]\n",
            " [-0.21179328  0.09691008]\n",
            " [-0.38040442  0.09684882]\n",
            " [-0.34555164  0.0752878 ]\n",
            " [ 0.39298209 -0.08945641]\n",
            " [-0.34110588  0.04563855]\n",
            " [-0.20447183 -0.66076063]\n",
            " [-0.13684472 -0.70689869]\n",
            " [ 0.20837643 -0.09281765]\n",
            " [-0.16115271  0.06704395]]\n"
          ],
          "name": "stdout"
        }
      ]
    },
    {
      "cell_type": "code",
      "metadata": {
        "id": "PvPOq3Ru4nzj",
        "outputId": "7b16af86-c1de-4526-8f4c-3b850ffa16b4",
        "colab": {
          "base_uri": "https://localhost:8080/",
          "height": 138
        }
      },
      "source": [
        "X_train_pca = X_train_std.dot(w2)\n",
        "print(X_train_pca)"
      ],
      "execution_count": 230,
      "outputs": [
        {
          "output_type": "stream",
          "text": [
            "[[-1.10119003  0.86367007]\n",
            " [-1.45014152 -0.04955502]\n",
            " [-2.66535829  0.23351623]\n",
            " ...\n",
            " [-2.43926886 -0.12895523]\n",
            " [-3.03006812 -0.51691563]\n",
            " [ 2.48520212 -0.06023871]]\n"
          ],
          "name": "stdout"
        }
      ]
    },
    {
      "cell_type": "code",
      "metadata": {
        "id": "zZ5Dzp2t6AMb",
        "outputId": "a1ea5546-5afd-48cf-ed1b-ce926c61ff18",
        "colab": {
          "base_uri": "https://localhost:8080/",
          "height": 138
        }
      },
      "source": [
        "np.unique(y_train)\n",
        "X_train_pca"
      ],
      "execution_count": 231,
      "outputs": [
        {
          "output_type": "execute_result",
          "data": {
            "text/plain": [
              "array([[-1.10119003,  0.86367007],\n",
              "       [-1.45014152, -0.04955502],\n",
              "       [-2.66535829,  0.23351623],\n",
              "       ...,\n",
              "       [-2.43926886, -0.12895523],\n",
              "       [-3.03006812, -0.51691563],\n",
              "       [ 2.48520212, -0.06023871]])"
            ]
          },
          "metadata": {
            "tags": []
          },
          "execution_count": 231
        }
      ]
    },
    {
      "cell_type": "markdown",
      "metadata": {
        "id": "eXzHRrL_0Ijd"
      },
      "source": [
        "## Extra tree classifier"
      ]
    },
    {
      "cell_type": "code",
      "metadata": {
        "id": "89L6qNoE0UQI"
      },
      "source": [
        "from sklearn.ensemble import ExtraTreesClassifier\n",
        "from sklearn.feature_selection import RFE"
      ],
      "execution_count": 157,
      "outputs": []
    },
    {
      "cell_type": "code",
      "metadata": {
        "id": "QEUchCb20L2Q",
        "outputId": "4971a8fc-822b-4801-fa34-22ffd5836108",
        "colab": {
          "base_uri": "https://localhost:8080/",
          "height": 155
        }
      },
      "source": [
        "feature_labels = ['retail and recreation','grocery and pharmacy','parks','transit stations','workplaces','residential','driving','m50','m50_index',\n",
        "               'population_density','mask_rule_active']\n",
        "\n",
        "target_column = ['growth_code']\n",
        "\n",
        "print(CA_labeled_data['growth_code'].unique())\n",
        "print(pd.unique(CA_labeled_data[['growth_label', 'growth_code']].values.ravel()))\n",
        "\n",
        "CA_labeled_data_growth0 = CA_labeled_data[(CA_labeled_data['growth_code'] == 0) ]\n",
        "CA_labeled_data_growth1 = CA_labeled_data[(CA_labeled_data['growth_code'] == 1) ]\n",
        "CA_labeled_data_growth2 = CA_labeled_data[(CA_labeled_data['growth_code'] == 2) | (CA_labeled_data['growth_code'] == 3) | (CA_labeled_data['growth_code'] == 4) ]\n",
        "CA_labeled_data_growth3 = CA_labeled_data[CA_labeled_data['growth_code'] == 3]\n",
        "CA_labeled_data_growth4 = CA_labeled_data[CA_labeled_data['growth_code'] == 4]\n",
        "\n",
        "print(CA_labeled_data_growth0.shape)\n",
        "print(CA_labeled_data_growth1.shape)\n",
        "print(CA_labeled_data_growth2.shape)\n",
        "print(CA_labeled_data_growth3.shape)\n",
        "print(CA_labeled_data_growth4.shape)"
      ],
      "execution_count": 248,
      "outputs": [
        {
          "output_type": "stream",
          "text": [
            "[2 3 1 0 4]\n",
            "['flat_growth' 2 'mild_decrement' 3 'drastic_growth' 1 'drastic_decrement'\n",
            " 0 'mild_growth' 4]\n",
            "(1011, 20)\n",
            "(961, 20)\n",
            "(7224, 20)\n",
            "(570, 20)\n",
            "(507, 20)\n"
          ],
          "name": "stdout"
        }
      ]
    },
    {
      "cell_type": "markdown",
      "metadata": {
        "id": "JWk_pBkc0lov"
      },
      "source": [
        "#### Label 0 : Drastic decrement"
      ]
    },
    {
      "cell_type": "code",
      "metadata": {
        "id": "q-Jltab00rAJ",
        "outputId": "255ad421-aa42-44fa-b294-aafe841ef5e5",
        "colab": {
          "base_uri": "https://localhost:8080/",
          "height": 745
        }
      },
      "source": [
        "\n",
        "print(\"** Printing San Bernardino county data for Drastic Growth ** \")\n",
        "print(CA_labeled_data_growth0.shape)\n",
        "X = CA_labeled_data_growth0[feature_labels]\n",
        "y = CA_labeled_data_growth0[target_column]\n",
        "\n",
        "X_train, X_test, y_train, y_test = train_test_split(X, y, test_size=0.4, random_state=0)\n",
        "\n",
        "\n",
        "# Create a random forest classifier\n",
        "clf = RandomForestClassifier(n_estimators=10000, random_state=0, n_jobs=-1)\n",
        "\n",
        "# Train the classifier\n",
        "clf.fit(X_train, y_train)\n",
        "\n",
        "# Print the name and gini importance of each feature\n",
        "for feature in zip(feature_labels, clf.feature_importances_):\n",
        "    print(feature)\n",
        "\n",
        "\n",
        "\n",
        "#  Supported criteria are “gini” for the Gini impurity and “entropy” for the information gain. \n",
        "\n",
        "clf = RandomForestClassifier(n_estimators=10000, random_state=0,criterion='gini', n_jobs=-1)\n",
        "\n",
        "# Train the classifier\n",
        "clf.fit(X_train, y_train)\n",
        "\n",
        "# Print the name and gini importance of each feature\n",
        "for feature in zip(feature_labels, clf.feature_importances_):\n",
        "    print(feature)\n",
        "\n",
        "\n",
        "model = ExtraTreesClassifier()\n",
        "model.fit(X, y.values.ravel())\n",
        "# display the relative importance of each attribute\n",
        "#print(model.feature_importances_)\n",
        "\n",
        "\n",
        "# create the RFE model \n",
        "rfe = RFE(model, 3)\n",
        "rfe = rfe.fit(X, y.values.ravel())\n",
        "# summarize the selection of the attributes\n",
        "#print(rfe.support_)\n",
        "\n",
        "print(\"\\nFeatures with ranking:\\n\")\n",
        "for index in range(len(rfe.ranking_)):\n",
        "  print(feature_labels[index], rfe.ranking_[index])\n",
        "\n",
        "# for index in range(len(rfe.ranking_)):\n",
        "#   print( rfe.ranking_[index])\n",
        "#print(rfe.ranking_)\n",
        "#print(rfe.n_features_)\n",
        "#rfe.n_features_to_select\n"
      ],
      "execution_count": 249,
      "outputs": [
        {
          "output_type": "stream",
          "text": [
            "** Printing San Bernardino county data for Drastic Growth ** \n",
            "(1011, 20)\n"
          ],
          "name": "stdout"
        },
        {
          "output_type": "stream",
          "text": [
            "/usr/local/lib/python3.6/dist-packages/ipykernel_launcher.py:14: DataConversionWarning: A column-vector y was passed when a 1d array was expected. Please change the shape of y to (n_samples,), for example using ravel().\n",
            "  \n"
          ],
          "name": "stderr"
        },
        {
          "output_type": "stream",
          "text": [
            "('retail and recreation', 0.0)\n",
            "('grocery and pharmacy', 0.0)\n",
            "('parks', 0.0)\n",
            "('transit stations', 0.0)\n",
            "('workplaces', 0.0)\n",
            "('residential', 0.0)\n",
            "('driving', 0.0)\n",
            "('m50', 0.0)\n",
            "('m50_index', 0.0)\n",
            "('population_density', 0.0)\n",
            "('mask_rule_active', 0.0)\n"
          ],
          "name": "stdout"
        },
        {
          "output_type": "stream",
          "text": [
            "/usr/local/lib/python3.6/dist-packages/ipykernel_launcher.py:27: DataConversionWarning: A column-vector y was passed when a 1d array was expected. Please change the shape of y to (n_samples,), for example using ravel().\n"
          ],
          "name": "stderr"
        },
        {
          "output_type": "stream",
          "text": [
            "('retail and recreation', 0.0)\n",
            "('grocery and pharmacy', 0.0)\n",
            "('parks', 0.0)\n",
            "('transit stations', 0.0)\n",
            "('workplaces', 0.0)\n",
            "('residential', 0.0)\n",
            "('driving', 0.0)\n",
            "('m50', 0.0)\n",
            "('m50_index', 0.0)\n",
            "('population_density', 0.0)\n",
            "('mask_rule_active', 0.0)\n",
            "\n",
            "Features with ranking:\n",
            "\n",
            "retail and recreation 9\n",
            "grocery and pharmacy 8\n",
            "parks 7\n",
            "transit stations 6\n",
            "workplaces 5\n",
            "residential 4\n",
            "driving 3\n",
            "m50 2\n",
            "m50_index 1\n",
            "population_density 1\n",
            "mask_rule_active 1\n"
          ],
          "name": "stdout"
        }
      ]
    },
    {
      "cell_type": "markdown",
      "metadata": {
        "id": "FWf95IJ800Ly"
      },
      "source": [
        "#### Label 1: Drastic Growth"
      ]
    },
    {
      "cell_type": "code",
      "metadata": {
        "id": "OGWLn3nc03ET",
        "outputId": "e2766bb2-c3c1-4ba8-ecda-15a567e74b87",
        "colab": {
          "base_uri": "https://localhost:8080/",
          "height": 745
        }
      },
      "source": [
        "\n",
        "print(\"** Printing San Bernardino county data for Drastic Growth ** \")\n",
        "print(CA_labeled_data_growth1.shape)\n",
        "X = CA_labeled_data_growth1[feature_labels]\n",
        "y = CA_labeled_data_growth1[target_column]\n",
        "\n",
        "X_train, X_test, y_train, y_test = train_test_split(X, y, test_size=0.4, random_state=0)\n",
        "\n",
        "\n",
        "# Create a random forest classifier\n",
        "clf = RandomForestClassifier(n_estimators=10000, random_state=0, n_jobs=-1)\n",
        "\n",
        "# Train the classifier\n",
        "clf.fit(X_train, y_train)\n",
        "\n",
        "# Print the name and gini importance of each feature\n",
        "for feature in zip(feature_labels, clf.feature_importances_):\n",
        "    print(feature)\n",
        "\n",
        "\n",
        "\n",
        "#  Supported criteria are “gini” for the Gini impurity and “entropy” for the information gain. \n",
        "\n",
        "clf = RandomForestClassifier(n_estimators=10000, random_state=0,criterion='gini', n_jobs=-1)\n",
        "\n",
        "# Train the classifier\n",
        "clf.fit(X_train, y_train)\n",
        "\n",
        "# Print the name and gini importance of each feature\n",
        "for feature in zip(feature_labels, clf.feature_importances_):\n",
        "    print(feature)\n",
        "\n",
        "\n",
        "model = ExtraTreesClassifier()\n",
        "model.fit(X, y.values.ravel())\n",
        "# display the relative importance of each attribute\n",
        "#print(model.feature_importances_)\n",
        "\n",
        "\n",
        "# create the RFE model \n",
        "rfe = RFE(model, 3)\n",
        "rfe = rfe.fit(X, y.values.ravel())\n",
        "# summarize the selection of the attributes\n",
        "#print(rfe.support_)\n",
        "\n",
        "print(\"\\nFeatures with ranking:\\n\")\n",
        "for index in range(len(rfe.ranking_)):\n",
        "  print(feature_labels[index], rfe.ranking_[index])\n",
        "\n",
        "# for index in range(len(rfe.ranking_)):\n",
        "#   print( rfe.ranking_[index])\n",
        "#print(rfe.ranking_)\n",
        "#print(rfe.n_features_)\n",
        "#rfe.n_features_to_select\n"
      ],
      "execution_count": 250,
      "outputs": [
        {
          "output_type": "stream",
          "text": [
            "** Printing San Bernardino county data for Drastic Growth ** \n",
            "(961, 20)\n"
          ],
          "name": "stdout"
        },
        {
          "output_type": "stream",
          "text": [
            "/usr/local/lib/python3.6/dist-packages/ipykernel_launcher.py:14: DataConversionWarning: A column-vector y was passed when a 1d array was expected. Please change the shape of y to (n_samples,), for example using ravel().\n",
            "  \n"
          ],
          "name": "stderr"
        },
        {
          "output_type": "stream",
          "text": [
            "('retail and recreation', 0.0)\n",
            "('grocery and pharmacy', 0.0)\n",
            "('parks', 0.0)\n",
            "('transit stations', 0.0)\n",
            "('workplaces', 0.0)\n",
            "('residential', 0.0)\n",
            "('driving', 0.0)\n",
            "('m50', 0.0)\n",
            "('m50_index', 0.0)\n",
            "('population_density', 0.0)\n",
            "('mask_rule_active', 0.0)\n"
          ],
          "name": "stdout"
        },
        {
          "output_type": "stream",
          "text": [
            "/usr/local/lib/python3.6/dist-packages/ipykernel_launcher.py:27: DataConversionWarning: A column-vector y was passed when a 1d array was expected. Please change the shape of y to (n_samples,), for example using ravel().\n"
          ],
          "name": "stderr"
        },
        {
          "output_type": "stream",
          "text": [
            "('retail and recreation', 0.0)\n",
            "('grocery and pharmacy', 0.0)\n",
            "('parks', 0.0)\n",
            "('transit stations', 0.0)\n",
            "('workplaces', 0.0)\n",
            "('residential', 0.0)\n",
            "('driving', 0.0)\n",
            "('m50', 0.0)\n",
            "('m50_index', 0.0)\n",
            "('population_density', 0.0)\n",
            "('mask_rule_active', 0.0)\n",
            "\n",
            "Features with ranking:\n",
            "\n",
            "retail and recreation 9\n",
            "grocery and pharmacy 8\n",
            "parks 7\n",
            "transit stations 6\n",
            "workplaces 5\n",
            "residential 4\n",
            "driving 3\n",
            "m50 2\n",
            "m50_index 1\n",
            "population_density 1\n",
            "mask_rule_active 1\n"
          ],
          "name": "stdout"
        }
      ]
    },
    {
      "cell_type": "markdown",
      "metadata": {
        "id": "CTwqPnAX1Ou8"
      },
      "source": [
        "### Label 2: Flat growth"
      ]
    },
    {
      "cell_type": "code",
      "metadata": {
        "id": "j41Dnp5H1SZu",
        "outputId": "f8326dbe-aafd-4ac3-c16d-cfc724335683",
        "colab": {
          "base_uri": "https://localhost:8080/",
          "height": 745
        }
      },
      "source": [
        "\n",
        "print(\"** Printing All county data for Flat Growth ** \")\n",
        "print(CA_labeled_data_growth2.shape)\n",
        "X = CA_labeled_data_growth2[feature_labels]\n",
        "y = CA_labeled_data_growth2[target_column]\n",
        "\n",
        "X_train, X_test, y_train, y_test = train_test_split(X, y, test_size=0.4, random_state=0)\n",
        "\n",
        "\n",
        "# Create a random forest classifier\n",
        "clf = RandomForestClassifier(n_estimators=10000, random_state=0, n_jobs=-1)\n",
        "\n",
        "# Train the classifier\n",
        "clf.fit(X_train, y_train)\n",
        "\n",
        "# Print the name and gini importance of each feature\n",
        "for feature in zip(feature_labels, clf.feature_importances_):\n",
        "    print(feature)\n",
        "\n",
        "\n",
        "\n",
        "#  Supported criteria are “gini” for the Gini impurity and “entropy” for the information gain. \n",
        "\n",
        "clf = RandomForestClassifier(n_estimators=10000, random_state=0,criterion='gini', n_jobs=-1)\n",
        "\n",
        "# Train the classifier\n",
        "clf.fit(X_train, y_train)\n",
        "\n",
        "# Print the name and gini importance of each feature\n",
        "for feature in zip(feature_labels, clf.feature_importances_):\n",
        "    print(feature)\n",
        "\n",
        "\n",
        "model = ExtraTreesClassifier()\n",
        "model.fit(X, y.values.ravel())\n",
        "# display the relative importance of each attribute\n",
        "#print(model.feature_importances_)\n",
        "\n",
        "\n",
        "# create the RFE model \n",
        "rfe = RFE(model, 3)\n",
        "rfe = rfe.fit(X, y.values.ravel())\n",
        "# summarize the selection of the attributes\n",
        "#print(rfe.support_)\n",
        "\n",
        "print(\"\\nFeatures with ranking:\\n\")\n",
        "for index in range(len(rfe.ranking_)):\n",
        "  print(feature_labels[index], rfe.ranking_[index])\n",
        "\n",
        "# for index in range(len(rfe.ranking_)):\n",
        "#   print( rfe.ranking_[index])\n",
        "#print(rfe.ranking_)\n",
        "#print(rfe.n_features_)\n",
        "#rfe.n_features_to_select\n"
      ],
      "execution_count": 251,
      "outputs": [
        {
          "output_type": "stream",
          "text": [
            "** Printing All county data for Flat Growth ** \n",
            "(7224, 20)\n"
          ],
          "name": "stdout"
        },
        {
          "output_type": "stream",
          "text": [
            "/usr/local/lib/python3.6/dist-packages/ipykernel_launcher.py:14: DataConversionWarning: A column-vector y was passed when a 1d array was expected. Please change the shape of y to (n_samples,), for example using ravel().\n",
            "  \n"
          ],
          "name": "stderr"
        },
        {
          "output_type": "stream",
          "text": [
            "('retail and recreation', 0.08799969286582769)\n",
            "('grocery and pharmacy', 0.08578920675412036)\n",
            "('parks', 0.09038645269992812)\n",
            "('transit stations', 0.0886086721744834)\n",
            "('workplaces', 0.092460671650324)\n",
            "('residential', 0.06070035200880949)\n",
            "('driving', 0.1468812624542656)\n",
            "('m50', 0.11658073556801789)\n",
            "('m50_index', 0.09903926219659571)\n",
            "('population_density', 0.0689609569405336)\n",
            "('mask_rule_active', 0.06259273468709411)\n"
          ],
          "name": "stdout"
        },
        {
          "output_type": "stream",
          "text": [
            "/usr/local/lib/python3.6/dist-packages/ipykernel_launcher.py:27: DataConversionWarning: A column-vector y was passed when a 1d array was expected. Please change the shape of y to (n_samples,), for example using ravel().\n"
          ],
          "name": "stderr"
        },
        {
          "output_type": "stream",
          "text": [
            "('retail and recreation', 0.08799969286582769)\n",
            "('grocery and pharmacy', 0.08578920675412036)\n",
            "('parks', 0.09038645269992812)\n",
            "('transit stations', 0.0886086721744834)\n",
            "('workplaces', 0.092460671650324)\n",
            "('residential', 0.06070035200880949)\n",
            "('driving', 0.1468812624542656)\n",
            "('m50', 0.11658073556801789)\n",
            "('m50_index', 0.09903926219659571)\n",
            "('population_density', 0.0689609569405336)\n",
            "('mask_rule_active', 0.06259273468709411)\n",
            "\n",
            "Features with ranking:\n",
            "\n",
            "retail and recreation 1\n",
            "grocery and pharmacy 4\n",
            "parks 5\n",
            "transit stations 6\n",
            "workplaces 2\n",
            "residential 7\n",
            "driving 1\n",
            "m50 1\n",
            "m50_index 3\n",
            "population_density 8\n",
            "mask_rule_active 9\n"
          ],
          "name": "stdout"
        }
      ]
    },
    {
      "cell_type": "markdown",
      "metadata": {
        "id": "myVgWayT1Uba"
      },
      "source": [
        "### Label 3: Mild decrement "
      ]
    },
    {
      "cell_type": "code",
      "metadata": {
        "id": "130fPW891TV_",
        "outputId": "d2af651d-3bb2-4b52-dbf5-340b8010bbcf",
        "colab": {
          "base_uri": "https://localhost:8080/",
          "height": 745
        }
      },
      "source": [
        "\n",
        "print(\"** Printing San Bernardino county data for Mild decrement ** \")\n",
        "print(CA_labeled_data_growth3.shape)\n",
        "X = CA_labeled_data_growth3[feature_labels]\n",
        "y = CA_labeled_data_growth3[target_column]\n",
        "\n",
        "X_train, X_test, y_train, y_test = train_test_split(X, y, test_size=0.4, random_state=0)\n",
        "\n",
        "\n",
        "# Create a random forest classifier\n",
        "clf = RandomForestClassifier(n_estimators=10000, random_state=0, n_jobs=-1)\n",
        "\n",
        "# Train the classifier\n",
        "clf.fit(X_train, y_train)\n",
        "\n",
        "# Print the name and gini importance of each feature\n",
        "for feature in zip(feature_labels, clf.feature_importances_):\n",
        "    print(feature)\n",
        "\n",
        "\n",
        "\n",
        "#  Supported criteria are “gini” for the Gini impurity and “entropy” for the information gain. \n",
        "\n",
        "clf = RandomForestClassifier(n_estimators=10000, random_state=0,criterion='gini', n_jobs=-1)\n",
        "\n",
        "# Train the classifier\n",
        "clf.fit(X_train, y_train)\n",
        "\n",
        "# Print the name and gini importance of each feature\n",
        "for feature in zip(feature_labels, clf.feature_importances_):\n",
        "    print(feature)\n",
        "\n",
        "\n",
        "model = ExtraTreesClassifier()\n",
        "model.fit(X, y.values.ravel())\n",
        "# display the relative importance of each attribute\n",
        "#print(model.feature_importances_)\n",
        "\n",
        "\n",
        "# create the RFE model \n",
        "rfe = RFE(model, 3)\n",
        "rfe = rfe.fit(X, y.values.ravel())\n",
        "# summarize the selection of the attributes\n",
        "#print(rfe.support_)\n",
        "\n",
        "print(\"\\nFeatures with ranking:\\n\")\n",
        "for index in range(len(rfe.ranking_)):\n",
        "  print(feature_labels[index], rfe.ranking_[index])\n",
        "\n",
        "# for index in range(len(rfe.ranking_)):\n",
        "#   print( rfe.ranking_[index])\n",
        "#print(rfe.ranking_)\n",
        "#print(rfe.n_features_)\n",
        "#rfe.n_features_to_select\n"
      ],
      "execution_count": 235,
      "outputs": [
        {
          "output_type": "stream",
          "text": [
            "** Printing San Bernardino county data for Mild decrement ** \n",
            "(570, 20)\n"
          ],
          "name": "stdout"
        },
        {
          "output_type": "stream",
          "text": [
            "/usr/local/lib/python3.6/dist-packages/ipykernel_launcher.py:14: DataConversionWarning: A column-vector y was passed when a 1d array was expected. Please change the shape of y to (n_samples,), for example using ravel().\n",
            "  \n"
          ],
          "name": "stderr"
        },
        {
          "output_type": "stream",
          "text": [
            "('retail and recreation', 0.0)\n",
            "('grocery and pharmacy', 0.0)\n",
            "('parks', 0.0)\n",
            "('transit stations', 0.0)\n",
            "('workplaces', 0.0)\n",
            "('residential', 0.0)\n",
            "('driving', 0.0)\n",
            "('m50', 0.0)\n",
            "('m50_index', 0.0)\n",
            "('population_density', 0.0)\n",
            "('mask_rule_active', 0.0)\n"
          ],
          "name": "stdout"
        },
        {
          "output_type": "stream",
          "text": [
            "/usr/local/lib/python3.6/dist-packages/ipykernel_launcher.py:27: DataConversionWarning: A column-vector y was passed when a 1d array was expected. Please change the shape of y to (n_samples,), for example using ravel().\n"
          ],
          "name": "stderr"
        },
        {
          "output_type": "stream",
          "text": [
            "('retail and recreation', 0.0)\n",
            "('grocery and pharmacy', 0.0)\n",
            "('parks', 0.0)\n",
            "('transit stations', 0.0)\n",
            "('workplaces', 0.0)\n",
            "('residential', 0.0)\n",
            "('driving', 0.0)\n",
            "('m50', 0.0)\n",
            "('m50_index', 0.0)\n",
            "('population_density', 0.0)\n",
            "('mask_rule_active', 0.0)\n",
            "\n",
            "Features with ranking:\n",
            "\n",
            "retail and recreation 9\n",
            "grocery and pharmacy 8\n",
            "parks 7\n",
            "transit stations 6\n",
            "workplaces 5\n",
            "residential 4\n",
            "driving 3\n",
            "m50 2\n",
            "m50_index 1\n",
            "population_density 1\n",
            "mask_rule_active 1\n"
          ],
          "name": "stdout"
        }
      ]
    },
    {
      "cell_type": "markdown",
      "metadata": {
        "id": "nsyKATCA1YpR"
      },
      "source": [
        "### Label 4: mild increment"
      ]
    },
    {
      "cell_type": "code",
      "metadata": {
        "id": "Du_ymSdi1ayE",
        "outputId": "90a9a0ce-e3b1-4318-855e-eda251c098f1",
        "colab": {
          "base_uri": "https://localhost:8080/",
          "height": 745
        }
      },
      "source": [
        "\n",
        "print(\"** Printing San Bernardino county data for mild increment ** \")\n",
        "print(CA_labeled_data_growth4.shape)\n",
        "X = CA_labeled_data_growth4[feature_labels]\n",
        "y = CA_labeled_data_growth4[target_column]\n",
        "\n",
        "X_train, X_test, y_train, y_test = train_test_split(X, y, test_size=0.4, random_state=0)\n",
        "\n",
        "\n",
        "# Create a random forest classifier\n",
        "clf = RandomForestClassifier(n_estimators=10000, random_state=0, n_jobs=-1)\n",
        "\n",
        "# Train the classifier\n",
        "clf.fit(X_train, y_train)\n",
        "\n",
        "# Print the name and gini importance of each feature\n",
        "for feature in zip(feature_labels, clf.feature_importances_):\n",
        "    print(feature)\n",
        "\n",
        "\n",
        "\n",
        "#  Supported criteria are “gini” for the Gini impurity and “entropy” for the information gain. \n",
        "\n",
        "clf = RandomForestClassifier(n_estimators=10000, random_state=0,criterion='gini', n_jobs=-1)\n",
        "\n",
        "# Train the classifier\n",
        "clf.fit(X_train, y_train)\n",
        "\n",
        "# Print the name and gini importance of each feature\n",
        "for feature in zip(feature_labels, clf.feature_importances_):\n",
        "    print(feature)\n",
        "\n",
        "\n",
        "model = ExtraTreesClassifier()\n",
        "model.fit(X, y.values.ravel())\n",
        "# display the relative importance of each attribute\n",
        "#print(model.feature_importances_)\n",
        "\n",
        "\n",
        "# create the RFE model \n",
        "rfe = RFE(model, 3)\n",
        "rfe = rfe.fit(X, y.values.ravel())\n",
        "# summarize the selection of the attributes\n",
        "#print(rfe.support_)\n",
        "\n",
        "print(\"\\nFeatures with ranking:\\n\")\n",
        "for index in range(len(rfe.ranking_)):\n",
        "  print(feature_labels[index], rfe.ranking_[index])\n",
        "\n",
        "# for index in range(len(rfe.ranking_)):\n",
        "#   print( rfe.ranking_[index])\n",
        "#print(rfe.ranking_)\n",
        "#print(rfe.n_features_)\n",
        "#rfe.n_features_to_select\n"
      ],
      "execution_count": 236,
      "outputs": [
        {
          "output_type": "stream",
          "text": [
            "** Printing San Bernardino county data for mild increment ** \n",
            "(507, 20)\n"
          ],
          "name": "stdout"
        },
        {
          "output_type": "stream",
          "text": [
            "/usr/local/lib/python3.6/dist-packages/ipykernel_launcher.py:14: DataConversionWarning: A column-vector y was passed when a 1d array was expected. Please change the shape of y to (n_samples,), for example using ravel().\n",
            "  \n"
          ],
          "name": "stderr"
        },
        {
          "output_type": "stream",
          "text": [
            "('retail and recreation', 0.0)\n",
            "('grocery and pharmacy', 0.0)\n",
            "('parks', 0.0)\n",
            "('transit stations', 0.0)\n",
            "('workplaces', 0.0)\n",
            "('residential', 0.0)\n",
            "('driving', 0.0)\n",
            "('m50', 0.0)\n",
            "('m50_index', 0.0)\n",
            "('population_density', 0.0)\n",
            "('mask_rule_active', 0.0)\n"
          ],
          "name": "stdout"
        },
        {
          "output_type": "stream",
          "text": [
            "/usr/local/lib/python3.6/dist-packages/ipykernel_launcher.py:27: DataConversionWarning: A column-vector y was passed when a 1d array was expected. Please change the shape of y to (n_samples,), for example using ravel().\n"
          ],
          "name": "stderr"
        },
        {
          "output_type": "stream",
          "text": [
            "('retail and recreation', 0.0)\n",
            "('grocery and pharmacy', 0.0)\n",
            "('parks', 0.0)\n",
            "('transit stations', 0.0)\n",
            "('workplaces', 0.0)\n",
            "('residential', 0.0)\n",
            "('driving', 0.0)\n",
            "('m50', 0.0)\n",
            "('m50_index', 0.0)\n",
            "('population_density', 0.0)\n",
            "('mask_rule_active', 0.0)\n",
            "\n",
            "Features with ranking:\n",
            "\n",
            "retail and recreation 9\n",
            "grocery and pharmacy 8\n",
            "parks 7\n",
            "transit stations 6\n",
            "workplaces 5\n",
            "residential 4\n",
            "driving 3\n",
            "m50 2\n",
            "m50_index 1\n",
            "population_density 1\n",
            "mask_rule_active 1\n"
          ],
          "name": "stdout"
        }
      ]
    },
    {
      "cell_type": "markdown",
      "metadata": {
        "id": "sjhIpN5vH1mt"
      },
      "source": [
        "# 2.Load data - Maryland Inertia Data"
      ]
    },
    {
      "cell_type": "code",
      "metadata": {
        "id": "xJtA0B_cH1mz",
        "outputId": "a4dc492b-ffbb-46af-a7fd-dc5738b2a647",
        "colab": {
          "base_uri": "https://localhost:8080/",
          "height": 35
        }
      },
      "source": [
        "CA_inertia_labeled_data = pd.read_csv('/content/drive/Shared drives/CMPE 295- Master Project/Covid19-data/CA/CA_sd_inertia_labeledData_Oct11.csv',low_memory=False)\n",
        "print(CA_inertia_labeled_data.shape)"
      ],
      "execution_count": 164,
      "outputs": [
        {
          "output_type": "stream",
          "text": [
            "(12296, 54)\n"
          ],
          "name": "stdout"
        }
      ]
    },
    {
      "cell_type": "code",
      "metadata": {
        "id": "nVew84W1H1nC",
        "outputId": "e7350ebc-ff34-42d9-a324-acf9022dc3cc",
        "colab": {
          "base_uri": "https://localhost:8080/",
          "height": 360
        }
      },
      "source": [
        "CA_inertia_labeled_data.describe()"
      ],
      "execution_count": 165,
      "outputs": [
        {
          "output_type": "execute_result",
          "data": {
            "text/html": [
              "<div>\n",
              "<style scoped>\n",
              "    .dataframe tbody tr th:only-of-type {\n",
              "        vertical-align: middle;\n",
              "    }\n",
              "\n",
              "    .dataframe tbody tr th {\n",
              "        vertical-align: top;\n",
              "    }\n",
              "\n",
              "    .dataframe thead th {\n",
              "        text-align: right;\n",
              "    }\n",
              "</style>\n",
              "<table border=\"1\" class=\"dataframe\">\n",
              "  <thead>\n",
              "    <tr style=\"text-align: right;\">\n",
              "      <th></th>\n",
              "      <th>FIPS</th>\n",
              "      <th>Confirmed</th>\n",
              "      <th>Deaths</th>\n",
              "      <th>New cases</th>\n",
              "      <th>New deaths</th>\n",
              "      <th>mask_rule_active</th>\n",
              "      <th>CTFIPS</th>\n",
              "      <th>STFIPS</th>\n",
              "      <th>Social distancing index</th>\n",
              "      <th>% staying home</th>\n",
              "      <th>Trips/person</th>\n",
              "      <th>% out-of-county trips</th>\n",
              "      <th>% out-of-state trips</th>\n",
              "      <th>Miles/person</th>\n",
              "      <th>Work trips/person</th>\n",
              "      <th>Non-work trips/person</th>\n",
              "      <th>New COVID cases</th>\n",
              "      <th>Population</th>\n",
              "      <th>% change in consumption</th>\n",
              "      <th>Transit mode share</th>\n",
              "      <th>% people older than 60</th>\n",
              "      <th>Median income</th>\n",
              "      <th>% African Americans</th>\n",
              "      <th>% Hispanic Americans</th>\n",
              "      <th>% Male</th>\n",
              "      <th>Population density</th>\n",
              "      <th>Employment density</th>\n",
              "      <th># hot spots/1000 people</th>\n",
              "      <th>Hospital beds/1000 people</th>\n",
              "      <th>ICUs/1000 people</th>\n",
              "      <th># contact tracing workers/1000 people</th>\n",
              "      <th># contact tracing workers/1000 people rank</th>\n",
              "      <th>% people older than 60 rank</th>\n",
              "      <th>COVID exposure/1000 people</th>\n",
              "      <th>#days: decreasing ILI cases</th>\n",
              "      <th>Unemployment claims/1000 people</th>\n",
              "      <th>Unemployment rate</th>\n",
              "      <th>% working from home</th>\n",
              "      <th>Cumulative inflation rate</th>\n",
              "      <th>COVID death rate</th>\n",
              "      <th>New cases/1000 people</th>\n",
              "      <th>Active cases/1000 people</th>\n",
              "      <th>#days: decreasing COVID cases</th>\n",
              "      <th>% hospital bed utilization</th>\n",
              "      <th>Testing capacity</th>\n",
              "      <th>Tests done/1000 people</th>\n",
              "      <th>% ICU utilization</th>\n",
              "      <th>Ventilator shortage</th>\n",
              "      <th>Imported COVID cases</th>\n",
              "    </tr>\n",
              "  </thead>\n",
              "  <tbody>\n",
              "    <tr>\n",
              "      <th>count</th>\n",
              "      <td>12296.0000</td>\n",
              "      <td>12296.000000</td>\n",
              "      <td>12296.000000</td>\n",
              "      <td>12296.000000</td>\n",
              "      <td>12296.000000</td>\n",
              "      <td>12296.000000</td>\n",
              "      <td>12296.0000</td>\n",
              "      <td>12296.0</td>\n",
              "      <td>12296.000000</td>\n",
              "      <td>12296.000000</td>\n",
              "      <td>12296.000000</td>\n",
              "      <td>12296.000000</td>\n",
              "      <td>12296.000000</td>\n",
              "      <td>12296.000000</td>\n",
              "      <td>12296.000000</td>\n",
              "      <td>12296.000000</td>\n",
              "      <td>12296.000000</td>\n",
              "      <td>1.229600e+04</td>\n",
              "      <td>12296.000000</td>\n",
              "      <td>12296.000000</td>\n",
              "      <td>12296.000000</td>\n",
              "      <td>12296.000000</td>\n",
              "      <td>12296.000000</td>\n",
              "      <td>12296.000000</td>\n",
              "      <td>12296.000000</td>\n",
              "      <td>12296.000000</td>\n",
              "      <td>12296.000000</td>\n",
              "      <td>12296.000000</td>\n",
              "      <td>1.229600e+04</td>\n",
              "      <td>1.229600e+04</td>\n",
              "      <td>0.0</td>\n",
              "      <td>0.0</td>\n",
              "      <td>12296.000000</td>\n",
              "      <td>12296.000000</td>\n",
              "      <td>12296.000000</td>\n",
              "      <td>12296.000000</td>\n",
              "      <td>12296.000000</td>\n",
              "      <td>12296.000000</td>\n",
              "      <td>12296.000000</td>\n",
              "      <td>12296.000000</td>\n",
              "      <td>12296.000000</td>\n",
              "      <td>12296.000000</td>\n",
              "      <td>12296.000000</td>\n",
              "      <td>12296.000000</td>\n",
              "      <td>12296.000000</td>\n",
              "      <td>12296.000000</td>\n",
              "      <td>12296.000000</td>\n",
              "      <td>12296.000000</td>\n",
              "      <td>12296.000000</td>\n",
              "    </tr>\n",
              "    <tr>\n",
              "      <th>mean</th>\n",
              "      <td>6058.0000</td>\n",
              "      <td>2531.505612</td>\n",
              "      <td>59.213484</td>\n",
              "      <td>53.047088</td>\n",
              "      <td>0.960475</td>\n",
              "      <td>0.301887</td>\n",
              "      <td>6058.0000</td>\n",
              "      <td>6.0</td>\n",
              "      <td>34.862476</td>\n",
              "      <td>26.085638</td>\n",
              "      <td>3.032430</td>\n",
              "      <td>25.046755</td>\n",
              "      <td>2.983913</td>\n",
              "      <td>39.160662</td>\n",
              "      <td>0.387563</td>\n",
              "      <td>2.644869</td>\n",
              "      <td>53.130042</td>\n",
              "      <td>6.820180e+05</td>\n",
              "      <td>-6.379148</td>\n",
              "      <td>2.899655</td>\n",
              "      <td>23.724138</td>\n",
              "      <td>64378.551724</td>\n",
              "      <td>2.968966</td>\n",
              "      <td>30.324138</td>\n",
              "      <td>50.583621</td>\n",
              "      <td>402.603448</td>\n",
              "      <td>212.637931</td>\n",
              "      <td>133.896552</td>\n",
              "      <td>2.050000e+00</td>\n",
              "      <td>2.200000e-01</td>\n",
              "      <td>NaN</td>\n",
              "      <td>NaN</td>\n",
              "      <td>39.741379</td>\n",
              "      <td>8.829906</td>\n",
              "      <td>52.830189</td>\n",
              "      <td>6.745283</td>\n",
              "      <td>18.265566</td>\n",
              "      <td>22.638208</td>\n",
              "      <td>0.397594</td>\n",
              "      <td>0.890708</td>\n",
              "      <td>0.058497</td>\n",
              "      <td>1.895142</td>\n",
              "      <td>11.376464</td>\n",
              "      <td>56.306571</td>\n",
              "      <td>6.795755</td>\n",
              "      <td>59.918019</td>\n",
              "      <td>12.413632</td>\n",
              "      <td>488.528302</td>\n",
              "      <td>430.063110</td>\n",
              "    </tr>\n",
              "    <tr>\n",
              "      <th>std</th>\n",
              "      <td>33.4827</td>\n",
              "      <td>12806.203050</td>\n",
              "      <td>341.107832</td>\n",
              "      <td>237.604060</td>\n",
              "      <td>5.119259</td>\n",
              "      <td>0.459095</td>\n",
              "      <td>33.4827</td>\n",
              "      <td>0.0</td>\n",
              "      <td>14.622690</td>\n",
              "      <td>6.825513</td>\n",
              "      <td>0.467951</td>\n",
              "      <td>12.090923</td>\n",
              "      <td>6.958225</td>\n",
              "      <td>16.144773</td>\n",
              "      <td>0.154824</td>\n",
              "      <td>0.409967</td>\n",
              "      <td>237.520829</td>\n",
              "      <td>1.462452e+06</td>\n",
              "      <td>14.091174</td>\n",
              "      <td>5.490197</td>\n",
              "      <td>6.794780</td>\n",
              "      <td>18609.544005</td>\n",
              "      <td>2.889408</td>\n",
              "      <td>17.897292</td>\n",
              "      <td>2.471542</td>\n",
              "      <td>766.018814</td>\n",
              "      <td>495.175970</td>\n",
              "      <td>42.718402</td>\n",
              "      <td>4.489924e-13</td>\n",
              "      <td>3.064340e-14</td>\n",
              "      <td>NaN</td>\n",
              "      <td>NaN</td>\n",
              "      <td>34.611831</td>\n",
              "      <td>12.179130</td>\n",
              "      <td>42.906965</td>\n",
              "      <td>5.510029</td>\n",
              "      <td>9.491439</td>\n",
              "      <td>9.884724</td>\n",
              "      <td>0.490272</td>\n",
              "      <td>0.654789</td>\n",
              "      <td>0.131169</td>\n",
              "      <td>2.226533</td>\n",
              "      <td>21.634425</td>\n",
              "      <td>1.853671</td>\n",
              "      <td>5.481033</td>\n",
              "      <td>76.431354</td>\n",
              "      <td>9.054440</td>\n",
              "      <td>374.031220</td>\n",
              "      <td>1170.238201</td>\n",
              "    </tr>\n",
              "    <tr>\n",
              "      <th>min</th>\n",
              "      <td>6001.0000</td>\n",
              "      <td>0.000000</td>\n",
              "      <td>0.000000</td>\n",
              "      <td>-621.000000</td>\n",
              "      <td>-16.000000</td>\n",
              "      <td>0.000000</td>\n",
              "      <td>6001.0000</td>\n",
              "      <td>6.0</td>\n",
              "      <td>0.000000</td>\n",
              "      <td>0.000000</td>\n",
              "      <td>0.280000</td>\n",
              "      <td>2.100000</td>\n",
              "      <td>0.000000</td>\n",
              "      <td>0.100000</td>\n",
              "      <td>0.000000</td>\n",
              "      <td>0.250000</td>\n",
              "      <td>0.000000</td>\n",
              "      <td>1.101000e+03</td>\n",
              "      <td>-100.000000</td>\n",
              "      <td>0.000000</td>\n",
              "      <td>14.000000</td>\n",
              "      <td>38497.000000</td>\n",
              "      <td>0.200000</td>\n",
              "      <td>7.200000</td>\n",
              "      <td>48.180000</td>\n",
              "      <td>2.000000</td>\n",
              "      <td>1.000000</td>\n",
              "      <td>66.000000</td>\n",
              "      <td>2.050000e+00</td>\n",
              "      <td>2.200000e-01</td>\n",
              "      <td>NaN</td>\n",
              "      <td>NaN</td>\n",
              "      <td>1.000000</td>\n",
              "      <td>0.000000</td>\n",
              "      <td>0.000000</td>\n",
              "      <td>0.900000</td>\n",
              "      <td>3.900000</td>\n",
              "      <td>5.700000</td>\n",
              "      <td>-0.600000</td>\n",
              "      <td>0.000000</td>\n",
              "      <td>0.000000</td>\n",
              "      <td>0.000000</td>\n",
              "      <td>0.000000</td>\n",
              "      <td>54.000000</td>\n",
              "      <td>0.000000</td>\n",
              "      <td>0.000000</td>\n",
              "      <td>0.000000</td>\n",
              "      <td>0.000000</td>\n",
              "      <td>0.000000</td>\n",
              "    </tr>\n",
              "    <tr>\n",
              "      <th>25%</th>\n",
              "      <td>6029.0000</td>\n",
              "      <td>0.000000</td>\n",
              "      <td>0.000000</td>\n",
              "      <td>0.000000</td>\n",
              "      <td>0.000000</td>\n",
              "      <td>0.000000</td>\n",
              "      <td>6029.0000</td>\n",
              "      <td>6.0</td>\n",
              "      <td>24.000000</td>\n",
              "      <td>21.000000</td>\n",
              "      <td>2.760000</td>\n",
              "      <td>15.800000</td>\n",
              "      <td>0.100000</td>\n",
              "      <td>30.000000</td>\n",
              "      <td>0.270000</td>\n",
              "      <td>2.410000</td>\n",
              "      <td>0.000000</td>\n",
              "      <td>4.560200e+04</td>\n",
              "      <td>-14.300000</td>\n",
              "      <td>0.540000</td>\n",
              "      <td>18.000000</td>\n",
              "      <td>50905.000000</td>\n",
              "      <td>1.000000</td>\n",
              "      <td>14.500000</td>\n",
              "      <td>49.480000</td>\n",
              "      <td>23.000000</td>\n",
              "      <td>14.000000</td>\n",
              "      <td>102.000000</td>\n",
              "      <td>2.050000e+00</td>\n",
              "      <td>2.200000e-01</td>\n",
              "      <td>NaN</td>\n",
              "      <td>NaN</td>\n",
              "      <td>9.000000</td>\n",
              "      <td>0.187500</td>\n",
              "      <td>14.000000</td>\n",
              "      <td>3.900000</td>\n",
              "      <td>5.675000</td>\n",
              "      <td>19.525000</td>\n",
              "      <td>0.200000</td>\n",
              "      <td>0.077500</td>\n",
              "      <td>0.000000</td>\n",
              "      <td>0.010000</td>\n",
              "      <td>0.000000</td>\n",
              "      <td>54.092556</td>\n",
              "      <td>5.300000</td>\n",
              "      <td>0.030000</td>\n",
              "      <td>0.207500</td>\n",
              "      <td>17.250000</td>\n",
              "      <td>1.000000</td>\n",
              "    </tr>\n",
              "    <tr>\n",
              "      <th>50%</th>\n",
              "      <td>6058.0000</td>\n",
              "      <td>38.000000</td>\n",
              "      <td>1.000000</td>\n",
              "      <td>0.000000</td>\n",
              "      <td>0.000000</td>\n",
              "      <td>0.000000</td>\n",
              "      <td>6058.0000</td>\n",
              "      <td>6.0</td>\n",
              "      <td>33.000000</td>\n",
              "      <td>25.000000</td>\n",
              "      <td>3.050000</td>\n",
              "      <td>23.400000</td>\n",
              "      <td>0.300000</td>\n",
              "      <td>37.500000</td>\n",
              "      <td>0.380000</td>\n",
              "      <td>2.670000</td>\n",
              "      <td>0.000000</td>\n",
              "      <td>1.862525e+05</td>\n",
              "      <td>-5.600000</td>\n",
              "      <td>1.165000</td>\n",
              "      <td>21.000000</td>\n",
              "      <td>59157.500000</td>\n",
              "      <td>1.850000</td>\n",
              "      <td>25.600000</td>\n",
              "      <td>49.855000</td>\n",
              "      <td>107.000000</td>\n",
              "      <td>33.000000</td>\n",
              "      <td>132.000000</td>\n",
              "      <td>2.050000e+00</td>\n",
              "      <td>2.200000e-01</td>\n",
              "      <td>NaN</td>\n",
              "      <td>NaN</td>\n",
              "      <td>21.000000</td>\n",
              "      <td>3.440000</td>\n",
              "      <td>42.000000</td>\n",
              "      <td>6.200000</td>\n",
              "      <td>23.400000</td>\n",
              "      <td>26.700000</td>\n",
              "      <td>0.300000</td>\n",
              "      <td>0.870000</td>\n",
              "      <td>0.008500</td>\n",
              "      <td>1.080000</td>\n",
              "      <td>1.000000</td>\n",
              "      <td>56.782021</td>\n",
              "      <td>6.100000</td>\n",
              "      <td>20.880000</td>\n",
              "      <td>15.155000</td>\n",
              "      <td>629.500000</td>\n",
              "      <td>43.000000</td>\n",
              "    </tr>\n",
              "    <tr>\n",
              "      <th>75%</th>\n",
              "      <td>6087.0000</td>\n",
              "      <td>703.000000</td>\n",
              "      <td>12.000000</td>\n",
              "      <td>14.000000</td>\n",
              "      <td>0.000000</td>\n",
              "      <td>1.000000</td>\n",
              "      <td>6087.0000</td>\n",
              "      <td>6.0</td>\n",
              "      <td>44.000000</td>\n",
              "      <td>29.000000</td>\n",
              "      <td>3.330000</td>\n",
              "      <td>32.200000</td>\n",
              "      <td>1.800000</td>\n",
              "      <td>45.500000</td>\n",
              "      <td>0.490000</td>\n",
              "      <td>2.890000</td>\n",
              "      <td>13.000000</td>\n",
              "      <td>7.526600e+05</td>\n",
              "      <td>1.500000</td>\n",
              "      <td>2.030000</td>\n",
              "      <td>28.000000</td>\n",
              "      <td>76753.000000</td>\n",
              "      <td>3.100000</td>\n",
              "      <td>45.100000</td>\n",
              "      <td>51.010000</td>\n",
              "      <td>326.000000</td>\n",
              "      <td>110.000000</td>\n",
              "      <td>156.000000</td>\n",
              "      <td>2.050000e+00</td>\n",
              "      <td>2.200000e-01</td>\n",
              "      <td>NaN</td>\n",
              "      <td>NaN</td>\n",
              "      <td>73.000000</td>\n",
              "      <td>11.880000</td>\n",
              "      <td>84.000000</td>\n",
              "      <td>7.300000</td>\n",
              "      <td>26.200000</td>\n",
              "      <td>29.100000</td>\n",
              "      <td>0.800000</td>\n",
              "      <td>1.530000</td>\n",
              "      <td>0.055600</td>\n",
              "      <td>2.740000</td>\n",
              "      <td>12.000000</td>\n",
              "      <td>57.276218</td>\n",
              "      <td>7.725000</td>\n",
              "      <td>100.677500</td>\n",
              "      <td>18.612500</td>\n",
              "      <td>686.250000</td>\n",
              "      <td>293.000000</td>\n",
              "    </tr>\n",
              "    <tr>\n",
              "      <th>max</th>\n",
              "      <td>6115.0000</td>\n",
              "      <td>227346.000000</td>\n",
              "      <td>5446.000000</td>\n",
              "      <td>7198.000000</td>\n",
              "      <td>113.000000</td>\n",
              "      <td>1.000000</td>\n",
              "      <td>6115.0000</td>\n",
              "      <td>6.0</td>\n",
              "      <td>93.000000</td>\n",
              "      <td>83.000000</td>\n",
              "      <td>10.610000</td>\n",
              "      <td>93.200000</td>\n",
              "      <td>78.300000</td>\n",
              "      <td>291.200000</td>\n",
              "      <td>0.970000</td>\n",
              "      <td>10.610000</td>\n",
              "      <td>7198.000000</td>\n",
              "      <td>1.010552e+07</td>\n",
              "      <td>256.000000</td>\n",
              "      <td>34.220000</td>\n",
              "      <td>38.000000</td>\n",
              "      <td>116178.000000</td>\n",
              "      <td>13.600000</td>\n",
              "      <td>83.800000</td>\n",
              "      <td>66.290000</td>\n",
              "      <td>3751.000000</td>\n",
              "      <td>3076.000000</td>\n",
              "      <td>293.000000</td>\n",
              "      <td>2.050000e+00</td>\n",
              "      <td>2.200000e-01</td>\n",
              "      <td>NaN</td>\n",
              "      <td>NaN</td>\n",
              "      <td>98.000000</td>\n",
              "      <td>48.190000</td>\n",
              "      <td>140.000000</td>\n",
              "      <td>23.400000</td>\n",
              "      <td>29.700000</td>\n",
              "      <td>33.700000</td>\n",
              "      <td>1.710000</td>\n",
              "      <td>1.850000</td>\n",
              "      <td>2.218500</td>\n",
              "      <td>6.610000</td>\n",
              "      <td>186.000000</td>\n",
              "      <td>60.993535</td>\n",
              "      <td>30.300000</td>\n",
              "      <td>258.560000</td>\n",
              "      <td>26.200000</td>\n",
              "      <td>1345.000000</td>\n",
              "      <td>13571.000000</td>\n",
              "    </tr>\n",
              "  </tbody>\n",
              "</table>\n",
              "</div>"
            ],
            "text/plain": [
              "             FIPS      Confirmed  ...  Ventilator shortage  Imported COVID cases\n",
              "count  12296.0000   12296.000000  ...         12296.000000          12296.000000\n",
              "mean    6058.0000    2531.505612  ...           488.528302            430.063110\n",
              "std       33.4827   12806.203050  ...           374.031220           1170.238201\n",
              "min     6001.0000       0.000000  ...             0.000000              0.000000\n",
              "25%     6029.0000       0.000000  ...            17.250000              1.000000\n",
              "50%     6058.0000      38.000000  ...           629.500000             43.000000\n",
              "75%     6087.0000     703.000000  ...           686.250000            293.000000\n",
              "max     6115.0000  227346.000000  ...          1345.000000          13571.000000\n",
              "\n",
              "[8 rows x 49 columns]"
            ]
          },
          "metadata": {
            "tags": []
          },
          "execution_count": 165
        }
      ]
    },
    {
      "cell_type": "markdown",
      "metadata": {
        "id": "xxeFv1MxH1nJ"
      },
      "source": [
        "## Preprocessing data \n",
        "\n",
        "* drop na\n",
        "* convert categorical code"
      ]
    },
    {
      "cell_type": "code",
      "metadata": {
        "id": "9V8166soH1nK"
      },
      "source": [
        "# CA_inertia_labeled_data['label_code'] = CA_inertia_labeled_data['label'].astype('category').cat.codes\n",
        "\n",
        "# CA_inertia_labeled_data.head(2)"
      ],
      "execution_count": 166,
      "outputs": []
    },
    {
      "cell_type": "code",
      "metadata": {
        "id": "BZzHASxTH1nN"
      },
      "source": [
        "CA_inertia_labeled_data = CA_inertia_labeled_data.fillna(0)"
      ],
      "execution_count": 167,
      "outputs": []
    },
    {
      "cell_type": "code",
      "metadata": {
        "id": "2lpLd0sHH1nQ"
      },
      "source": [
        "# CA_inertia_labeled_data[pd.isna(CA_inertia_labeled_data['label'])]"
      ],
      "execution_count": 168,
      "outputs": []
    },
    {
      "cell_type": "code",
      "metadata": {
        "id": "OuJRtQb1H1nT"
      },
      "source": [
        "# CA_inertia_labeled_data['label_code'].unique()"
      ],
      "execution_count": 169,
      "outputs": []
    },
    {
      "cell_type": "code",
      "metadata": {
        "id": "OwDPP-ZbH1nX",
        "outputId": "0cf4d22d-f22c-4245-d582-16a5bf9934e0",
        "colab": {
          "base_uri": "https://localhost:8080/",
          "height": 391
        }
      },
      "source": [
        "CA_inertia_labeled_data['growth_code'] = CA_inertia_labeled_data['growth_label'].astype('category').cat.codes\n",
        "CA_inertia_labeled_data.head()"
      ],
      "execution_count": 170,
      "outputs": [
        {
          "output_type": "execute_result",
          "data": {
            "text/html": [
              "<div>\n",
              "<style scoped>\n",
              "    .dataframe tbody tr th:only-of-type {\n",
              "        vertical-align: middle;\n",
              "    }\n",
              "\n",
              "    .dataframe tbody tr th {\n",
              "        vertical-align: top;\n",
              "    }\n",
              "\n",
              "    .dataframe thead th {\n",
              "        text-align: right;\n",
              "    }\n",
              "</style>\n",
              "<table border=\"1\" class=\"dataframe\">\n",
              "  <thead>\n",
              "    <tr style=\"text-align: right;\">\n",
              "      <th></th>\n",
              "      <th>Date</th>\n",
              "      <th>Province_State</th>\n",
              "      <th>FIPS</th>\n",
              "      <th>Confirmed</th>\n",
              "      <th>Deaths</th>\n",
              "      <th>New cases</th>\n",
              "      <th>New deaths</th>\n",
              "      <th>mask_rule_active</th>\n",
              "      <th>CTFIPS</th>\n",
              "      <th>CTNAME</th>\n",
              "      <th>STFIPS</th>\n",
              "      <th>Social distancing index</th>\n",
              "      <th>% staying home</th>\n",
              "      <th>Trips/person</th>\n",
              "      <th>% out-of-county trips</th>\n",
              "      <th>% out-of-state trips</th>\n",
              "      <th>Miles/person</th>\n",
              "      <th>Work trips/person</th>\n",
              "      <th>Non-work trips/person</th>\n",
              "      <th>New COVID cases</th>\n",
              "      <th>Population</th>\n",
              "      <th>% change in consumption</th>\n",
              "      <th>date</th>\n",
              "      <th>Transit mode share</th>\n",
              "      <th>% people older than 60</th>\n",
              "      <th>Median income</th>\n",
              "      <th>% African Americans</th>\n",
              "      <th>% Hispanic Americans</th>\n",
              "      <th>% Male</th>\n",
              "      <th>Population density</th>\n",
              "      <th>Employment density</th>\n",
              "      <th># hot spots/1000 people</th>\n",
              "      <th>Hospital beds/1000 people</th>\n",
              "      <th>ICUs/1000 people</th>\n",
              "      <th># contact tracing workers/1000 people</th>\n",
              "      <th># contact tracing workers/1000 people rank</th>\n",
              "      <th>% people older than 60 rank</th>\n",
              "      <th>COVID exposure/1000 people</th>\n",
              "      <th>#days: decreasing ILI cases</th>\n",
              "      <th>Unemployment claims/1000 people</th>\n",
              "      <th>Unemployment rate</th>\n",
              "      <th>% working from home</th>\n",
              "      <th>Cumulative inflation rate</th>\n",
              "      <th>COVID death rate</th>\n",
              "      <th>New cases/1000 people</th>\n",
              "      <th>Active cases/1000 people</th>\n",
              "      <th>#days: decreasing COVID cases</th>\n",
              "      <th>% hospital bed utilization</th>\n",
              "      <th>Testing capacity</th>\n",
              "      <th>Tests done/1000 people</th>\n",
              "      <th>% ICU utilization</th>\n",
              "      <th>Ventilator shortage</th>\n",
              "      <th>Imported COVID cases</th>\n",
              "      <th>growth_label</th>\n",
              "      <th>growth_code</th>\n",
              "    </tr>\n",
              "  </thead>\n",
              "  <tbody>\n",
              "    <tr>\n",
              "      <th>0</th>\n",
              "      <td>2020-01-22</td>\n",
              "      <td>California</td>\n",
              "      <td>6001</td>\n",
              "      <td>0</td>\n",
              "      <td>0</td>\n",
              "      <td>0</td>\n",
              "      <td>0</td>\n",
              "      <td>0</td>\n",
              "      <td>6001</td>\n",
              "      <td>Alameda County</td>\n",
              "      <td>6</td>\n",
              "      <td>18</td>\n",
              "      <td>20</td>\n",
              "      <td>3.29</td>\n",
              "      <td>29.4</td>\n",
              "      <td>0.3</td>\n",
              "      <td>35.9</td>\n",
              "      <td>0.55</td>\n",
              "      <td>2.74</td>\n",
              "      <td>0</td>\n",
              "      <td>1666753</td>\n",
              "      <td>-2.9</td>\n",
              "      <td>2020-01-22</td>\n",
              "      <td>15.04</td>\n",
              "      <td>19</td>\n",
              "      <td>92574</td>\n",
              "      <td>10.5</td>\n",
              "      <td>22.5</td>\n",
              "      <td>49.11</td>\n",
              "      <td>2002</td>\n",
              "      <td>1155</td>\n",
              "      <td>131</td>\n",
              "      <td>2.05</td>\n",
              "      <td>0.22</td>\n",
              "      <td>0.0</td>\n",
              "      <td>0.0</td>\n",
              "      <td>12</td>\n",
              "      <td>0.0</td>\n",
              "      <td>0</td>\n",
              "      <td>1.2</td>\n",
              "      <td>3.9</td>\n",
              "      <td>5.7</td>\n",
              "      <td>0.3</td>\n",
              "      <td>0.0</td>\n",
              "      <td>0.0</td>\n",
              "      <td>0.0</td>\n",
              "      <td>0</td>\n",
              "      <td>54.0</td>\n",
              "      <td>0.0</td>\n",
              "      <td>0.0</td>\n",
              "      <td>0.0</td>\n",
              "      <td>0</td>\n",
              "      <td>0</td>\n",
              "      <td>drastic_decrement</td>\n",
              "      <td>0</td>\n",
              "    </tr>\n",
              "    <tr>\n",
              "      <th>1</th>\n",
              "      <td>2020-01-23</td>\n",
              "      <td>California</td>\n",
              "      <td>6001</td>\n",
              "      <td>0</td>\n",
              "      <td>0</td>\n",
              "      <td>0</td>\n",
              "      <td>0</td>\n",
              "      <td>0</td>\n",
              "      <td>6001</td>\n",
              "      <td>Alameda County</td>\n",
              "      <td>6</td>\n",
              "      <td>15</td>\n",
              "      <td>19</td>\n",
              "      <td>3.36</td>\n",
              "      <td>29.6</td>\n",
              "      <td>0.3</td>\n",
              "      <td>35.4</td>\n",
              "      <td>0.56</td>\n",
              "      <td>2.80</td>\n",
              "      <td>0</td>\n",
              "      <td>1666753</td>\n",
              "      <td>-0.8</td>\n",
              "      <td>2020-01-23</td>\n",
              "      <td>15.04</td>\n",
              "      <td>19</td>\n",
              "      <td>92574</td>\n",
              "      <td>10.5</td>\n",
              "      <td>22.5</td>\n",
              "      <td>49.11</td>\n",
              "      <td>2002</td>\n",
              "      <td>1155</td>\n",
              "      <td>131</td>\n",
              "      <td>2.05</td>\n",
              "      <td>0.22</td>\n",
              "      <td>0.0</td>\n",
              "      <td>0.0</td>\n",
              "      <td>12</td>\n",
              "      <td>0.0</td>\n",
              "      <td>0</td>\n",
              "      <td>1.2</td>\n",
              "      <td>3.9</td>\n",
              "      <td>5.7</td>\n",
              "      <td>0.3</td>\n",
              "      <td>0.0</td>\n",
              "      <td>0.0</td>\n",
              "      <td>0.0</td>\n",
              "      <td>0</td>\n",
              "      <td>54.0</td>\n",
              "      <td>0.0</td>\n",
              "      <td>0.0</td>\n",
              "      <td>0.0</td>\n",
              "      <td>0</td>\n",
              "      <td>0</td>\n",
              "      <td>drastic_decrement</td>\n",
              "      <td>0</td>\n",
              "    </tr>\n",
              "    <tr>\n",
              "      <th>2</th>\n",
              "      <td>2020-01-24</td>\n",
              "      <td>California</td>\n",
              "      <td>6001</td>\n",
              "      <td>0</td>\n",
              "      <td>0</td>\n",
              "      <td>0</td>\n",
              "      <td>0</td>\n",
              "      <td>0</td>\n",
              "      <td>6001</td>\n",
              "      <td>Alameda County</td>\n",
              "      <td>6</td>\n",
              "      <td>15</td>\n",
              "      <td>19</td>\n",
              "      <td>3.48</td>\n",
              "      <td>29.0</td>\n",
              "      <td>0.3</td>\n",
              "      <td>39.1</td>\n",
              "      <td>0.53</td>\n",
              "      <td>2.94</td>\n",
              "      <td>0</td>\n",
              "      <td>1666753</td>\n",
              "      <td>4.1</td>\n",
              "      <td>2020-01-24</td>\n",
              "      <td>15.04</td>\n",
              "      <td>19</td>\n",
              "      <td>92574</td>\n",
              "      <td>10.5</td>\n",
              "      <td>22.5</td>\n",
              "      <td>49.11</td>\n",
              "      <td>2002</td>\n",
              "      <td>1155</td>\n",
              "      <td>131</td>\n",
              "      <td>2.05</td>\n",
              "      <td>0.22</td>\n",
              "      <td>0.0</td>\n",
              "      <td>0.0</td>\n",
              "      <td>12</td>\n",
              "      <td>0.0</td>\n",
              "      <td>0</td>\n",
              "      <td>1.2</td>\n",
              "      <td>3.9</td>\n",
              "      <td>5.7</td>\n",
              "      <td>0.3</td>\n",
              "      <td>0.0</td>\n",
              "      <td>0.0</td>\n",
              "      <td>0.0</td>\n",
              "      <td>0</td>\n",
              "      <td>54.0</td>\n",
              "      <td>0.0</td>\n",
              "      <td>0.0</td>\n",
              "      <td>0.0</td>\n",
              "      <td>0</td>\n",
              "      <td>0</td>\n",
              "      <td>drastic_decrement</td>\n",
              "      <td>0</td>\n",
              "    </tr>\n",
              "    <tr>\n",
              "      <th>3</th>\n",
              "      <td>2020-01-25</td>\n",
              "      <td>California</td>\n",
              "      <td>6001</td>\n",
              "      <td>0</td>\n",
              "      <td>0</td>\n",
              "      <td>0</td>\n",
              "      <td>0</td>\n",
              "      <td>0</td>\n",
              "      <td>6001</td>\n",
              "      <td>Alameda County</td>\n",
              "      <td>6</td>\n",
              "      <td>30</td>\n",
              "      <td>24</td>\n",
              "      <td>3.16</td>\n",
              "      <td>26.6</td>\n",
              "      <td>0.3</td>\n",
              "      <td>36.3</td>\n",
              "      <td>0.27</td>\n",
              "      <td>2.88</td>\n",
              "      <td>0</td>\n",
              "      <td>1666753</td>\n",
              "      <td>2.0</td>\n",
              "      <td>2020-01-25</td>\n",
              "      <td>15.04</td>\n",
              "      <td>19</td>\n",
              "      <td>92574</td>\n",
              "      <td>10.5</td>\n",
              "      <td>22.5</td>\n",
              "      <td>49.11</td>\n",
              "      <td>2002</td>\n",
              "      <td>1155</td>\n",
              "      <td>131</td>\n",
              "      <td>2.05</td>\n",
              "      <td>0.22</td>\n",
              "      <td>0.0</td>\n",
              "      <td>0.0</td>\n",
              "      <td>12</td>\n",
              "      <td>0.0</td>\n",
              "      <td>0</td>\n",
              "      <td>1.2</td>\n",
              "      <td>3.9</td>\n",
              "      <td>5.7</td>\n",
              "      <td>0.3</td>\n",
              "      <td>0.0</td>\n",
              "      <td>0.0</td>\n",
              "      <td>0.0</td>\n",
              "      <td>1</td>\n",
              "      <td>54.0</td>\n",
              "      <td>0.0</td>\n",
              "      <td>0.0</td>\n",
              "      <td>0.0</td>\n",
              "      <td>0</td>\n",
              "      <td>0</td>\n",
              "      <td>drastic_decrement</td>\n",
              "      <td>0</td>\n",
              "    </tr>\n",
              "    <tr>\n",
              "      <th>4</th>\n",
              "      <td>2020-01-26</td>\n",
              "      <td>California</td>\n",
              "      <td>6001</td>\n",
              "      <td>0</td>\n",
              "      <td>0</td>\n",
              "      <td>0</td>\n",
              "      <td>0</td>\n",
              "      <td>0</td>\n",
              "      <td>6001</td>\n",
              "      <td>Alameda County</td>\n",
              "      <td>6</td>\n",
              "      <td>41</td>\n",
              "      <td>28</td>\n",
              "      <td>2.80</td>\n",
              "      <td>25.6</td>\n",
              "      <td>0.4</td>\n",
              "      <td>35.4</td>\n",
              "      <td>0.24</td>\n",
              "      <td>2.56</td>\n",
              "      <td>0</td>\n",
              "      <td>1666753</td>\n",
              "      <td>-9.3</td>\n",
              "      <td>2020-01-26</td>\n",
              "      <td>15.04</td>\n",
              "      <td>19</td>\n",
              "      <td>92574</td>\n",
              "      <td>10.5</td>\n",
              "      <td>22.5</td>\n",
              "      <td>49.11</td>\n",
              "      <td>2002</td>\n",
              "      <td>1155</td>\n",
              "      <td>131</td>\n",
              "      <td>2.05</td>\n",
              "      <td>0.22</td>\n",
              "      <td>0.0</td>\n",
              "      <td>0.0</td>\n",
              "      <td>12</td>\n",
              "      <td>0.0</td>\n",
              "      <td>0</td>\n",
              "      <td>1.1</td>\n",
              "      <td>3.9</td>\n",
              "      <td>5.7</td>\n",
              "      <td>0.3</td>\n",
              "      <td>0.0</td>\n",
              "      <td>0.0</td>\n",
              "      <td>0.0</td>\n",
              "      <td>2</td>\n",
              "      <td>54.0</td>\n",
              "      <td>0.0</td>\n",
              "      <td>0.0</td>\n",
              "      <td>0.0</td>\n",
              "      <td>0</td>\n",
              "      <td>0</td>\n",
              "      <td>drastic_decrement</td>\n",
              "      <td>0</td>\n",
              "    </tr>\n",
              "  </tbody>\n",
              "</table>\n",
              "</div>"
            ],
            "text/plain": [
              "         Date Province_State  ...       growth_label  growth_code\n",
              "0  2020-01-22     California  ...  drastic_decrement            0\n",
              "1  2020-01-23     California  ...  drastic_decrement            0\n",
              "2  2020-01-24     California  ...  drastic_decrement            0\n",
              "3  2020-01-25     California  ...  drastic_decrement            0\n",
              "4  2020-01-26     California  ...  drastic_decrement            0\n",
              "\n",
              "[5 rows x 55 columns]"
            ]
          },
          "metadata": {
            "tags": []
          },
          "execution_count": 170
        }
      ]
    },
    {
      "cell_type": "code",
      "metadata": {
        "id": "Vr7663BUH1na",
        "outputId": "340ac883-0f9c-4890-cf81-752d398df714",
        "colab": {
          "base_uri": "https://localhost:8080/",
          "height": 35
        }
      },
      "source": [
        "CA_inertia_labeled_data['growth_code'].unique()"
      ],
      "execution_count": 171,
      "outputs": [
        {
          "output_type": "execute_result",
          "data": {
            "text/plain": [
              "array([0, 3, 2, 1], dtype=int8)"
            ]
          },
          "metadata": {
            "tags": []
          },
          "execution_count": 171
        }
      ]
    },
    {
      "cell_type": "code",
      "metadata": {
        "id": "5Lakwg_MH1nc",
        "outputId": "6323b337-0788-427b-91b3-9669ed784135",
        "colab": {
          "base_uri": "https://localhost:8080/",
          "height": 985
        }
      },
      "source": [
        "CA_inertia_labeled_data.dtypes"
      ],
      "execution_count": 172,
      "outputs": [
        {
          "output_type": "execute_result",
          "data": {
            "text/plain": [
              "Date                                           object\n",
              "Province_State                                 object\n",
              "FIPS                                            int64\n",
              "Confirmed                                       int64\n",
              "Deaths                                          int64\n",
              "New cases                                       int64\n",
              "New deaths                                      int64\n",
              "mask_rule_active                                int64\n",
              "CTFIPS                                          int64\n",
              "CTNAME                                         object\n",
              "STFIPS                                          int64\n",
              "Social distancing index                         int64\n",
              "% staying home                                  int64\n",
              "Trips/person                                  float64\n",
              "% out-of-county trips                         float64\n",
              "% out-of-state trips                          float64\n",
              "Miles/person                                  float64\n",
              "Work trips/person                             float64\n",
              "Non-work trips/person                         float64\n",
              "New COVID cases                                 int64\n",
              "Population                                      int64\n",
              "% change in consumption                       float64\n",
              "date                                           object\n",
              "Transit mode share                            float64\n",
              "% people older than 60                          int64\n",
              "Median income                                   int64\n",
              "% African Americans                           float64\n",
              "% Hispanic Americans                          float64\n",
              "% Male                                        float64\n",
              "Population density                              int64\n",
              "Employment density                              int64\n",
              "# hot spots/1000 people                         int64\n",
              "Hospital beds/1000 people                     float64\n",
              "ICUs/1000 people                              float64\n",
              "# contact tracing workers/1000 people         float64\n",
              "# contact tracing workers/1000 people rank    float64\n",
              "% people older than 60 rank                     int64\n",
              "COVID exposure/1000 people                    float64\n",
              "#days: decreasing ILI cases                     int64\n",
              "Unemployment claims/1000 people               float64\n",
              "Unemployment rate                             float64\n",
              "% working from home                           float64\n",
              "Cumulative inflation rate                     float64\n",
              "COVID death rate                              float64\n",
              "New cases/1000 people                         float64\n",
              "Active cases/1000 people                      float64\n",
              "#days: decreasing COVID cases                   int64\n",
              "% hospital bed utilization                    float64\n",
              "Testing capacity                              float64\n",
              "Tests done/1000 people                        float64\n",
              "% ICU utilization                             float64\n",
              "Ventilator shortage                             int64\n",
              "Imported COVID cases                            int64\n",
              "growth_label                                   object\n",
              "growth_code                                      int8\n",
              "dtype: object"
            ]
          },
          "metadata": {
            "tags": []
          },
          "execution_count": 172
        }
      ]
    },
    {
      "cell_type": "code",
      "metadata": {
        "id": "_ZXlJGB9I1jI",
        "outputId": "673cbc32-c46a-4125-b07a-96372888ac4b",
        "colab": {
          "base_uri": "https://localhost:8080/",
          "height": 380
        }
      },
      "source": [
        "CA_inertia_labeled_data.columns"
      ],
      "execution_count": 173,
      "outputs": [
        {
          "output_type": "execute_result",
          "data": {
            "text/plain": [
              "Index(['Date', 'Province_State', 'FIPS', 'Confirmed', 'Deaths', 'New cases',\n",
              "       'New deaths', 'mask_rule_active', 'CTFIPS', 'CTNAME', 'STFIPS',\n",
              "       'Social distancing index', '% staying home', 'Trips/person',\n",
              "       '% out-of-county trips', '% out-of-state trips', 'Miles/person',\n",
              "       'Work trips/person', 'Non-work trips/person', 'New COVID cases',\n",
              "       'Population', '% change in consumption', 'date', 'Transit mode share',\n",
              "       '% people older than 60', 'Median income', '% African Americans',\n",
              "       '% Hispanic Americans', '% Male', 'Population density',\n",
              "       'Employment density', '# hot spots/1000 people',\n",
              "       'Hospital beds/1000 people', 'ICUs/1000 people',\n",
              "       '# contact tracing workers/1000 people',\n",
              "       '# contact tracing workers/1000 people rank',\n",
              "       '% people older than 60 rank', 'COVID exposure/1000 people',\n",
              "       '#days: decreasing ILI cases', 'Unemployment claims/1000 people',\n",
              "       'Unemployment rate', '% working from home', 'Cumulative inflation rate',\n",
              "       'COVID death rate', 'New cases/1000 people', 'Active cases/1000 people',\n",
              "       '#days: decreasing COVID cases', '% hospital bed utilization',\n",
              "       'Testing capacity', 'Tests done/1000 people', '% ICU utilization',\n",
              "       'Ventilator shortage', 'Imported COVID cases', 'growth_label',\n",
              "       'growth_code'],\n",
              "      dtype='object')"
            ]
          },
          "metadata": {
            "tags": []
          },
          "execution_count": 173
        }
      ]
    },
    {
      "cell_type": "code",
      "metadata": {
        "id": "FQzk1cQLGieC",
        "outputId": "8e59e00c-8c55-424e-997a-465fddab41de",
        "colab": {
          "base_uri": "https://localhost:8080/",
          "height": 35
        }
      },
      "source": [
        "X.shape"
      ],
      "execution_count": 174,
      "outputs": [
        {
          "output_type": "execute_result",
          "data": {
            "text/plain": [
              "(507, 11)"
            ]
          },
          "metadata": {
            "tags": []
          },
          "execution_count": 174
        }
      ]
    },
    {
      "cell_type": "code",
      "metadata": {
        "id": "6Nx3kdz0H1nf"
      },
      "source": [
        "inertia_feature_labels = ['mask_rule_active','Social distancing index','% staying home', 'Trips/person', '% out-of-county trips',\n",
        "       '% out-of-state trips', 'Miles/person', 'Work trips/person','Non-work trips/person','% change in consumption',\n",
        "       'Transit mode share','% people older than 60', 'Median income', '% African Americans', '% Hispanic Americans',\n",
        "       '% Male', 'Population density','Employment density', '# hot spots/1000 people','Hospital beds/1000 people', 'ICUs/1000 people',\n",
        "       '# contact tracing workers/1000 people rank','% people older than 60 rank', 'COVID exposure/1000 people',\n",
        "       'Unemployment claims/1000 people', 'Unemployment rate','% working from home', 'Cumulative inflation rate',\n",
        "       '% hospital bed utilization', 'Testing capacity','Tests done/1000 people', '% ICU utilization', 'Ventilator shortage'\n",
        "       ]\n",
        "\n",
        "inertia_target_column = ['growth_code']\n",
        "\n",
        "X = CA_inertia_labeled_data[inertia_feature_labels]\n",
        "y = CA_inertia_labeled_data[inertia_target_column]\n",
        "\n",
        "X_train, X_test, y_train, y_test = train_test_split(X, y, test_size=0.4, random_state=0)\n"
      ],
      "execution_count": 202,
      "outputs": []
    },
    {
      "cell_type": "markdown",
      "metadata": {
        "id": "_ejgzSENH1nh"
      },
      "source": [
        "## Train Random Forest classifier"
      ]
    },
    {
      "cell_type": "code",
      "metadata": {
        "id": "alHppjAzH1nh",
        "outputId": "0af45f27-401f-4d2f-b971-90e3d88248d8",
        "colab": {
          "base_uri": "https://localhost:8080/",
          "height": 642
        }
      },
      "source": [
        "# Create a random forest classifier\n",
        "clf = RandomForestClassifier(n_estimators=10000, random_state=0, n_jobs=-1)\n",
        "\n",
        "# Train the classifier\n",
        "clf.fit(X_train, y_train)\n",
        "\n",
        "# Print the name and gini importance of each feature\n",
        "for feature in zip(inertia_feature_labels, clf.feature_importances_):\n",
        "    print(feature)"
      ],
      "execution_count": 176,
      "outputs": [
        {
          "output_type": "stream",
          "text": [
            "/usr/local/lib/python3.6/dist-packages/ipykernel_launcher.py:5: DataConversionWarning: A column-vector y was passed when a 1d array was expected. Please change the shape of y to (n_samples,), for example using ravel().\n",
            "  \"\"\"\n"
          ],
          "name": "stderr"
        },
        {
          "output_type": "stream",
          "text": [
            "('mask_rule_active', 0.013145935258524753)\n",
            "('Social distancing index', 0.027443787338695954)\n",
            "('% staying home', 0.022815673872416273)\n",
            "('Trips/person', 0.029471049223920187)\n",
            "('% out-of-county trips', 0.040753502954102405)\n",
            "('% out-of-state trips', 0.03059064020487365)\n",
            "('Miles/person', 0.03425618464361533)\n",
            "('Work trips/person', 0.037875713971096264)\n",
            "('Non-work trips/person', 0.02872039092735927)\n",
            "('% change in consumption', 0.029956633816725763)\n",
            "('Transit mode share', 0.04848525399363492)\n",
            "('% people older than 60', 0.034733273919375515)\n",
            "('Median income', 0.07643615975724334)\n",
            "('% African Americans', 0.026170452530892823)\n",
            "('% Hispanic Americans', 0.04083158112443873)\n",
            "('% Male', 0.032446242993345885)\n",
            "('Population density', 0.07036737277885578)\n",
            "('Employment density', 0.06384737257537026)\n",
            "('# hot spots/1000 people', 0.029025035685968627)\n",
            "('Hospital beds/1000 people', 0.0)\n",
            "('ICUs/1000 people', 0.0)\n",
            "('# contact tracing workers/1000 people rank', 0.0)\n",
            "('% people older than 60 rank', 0.034124128405072514)\n",
            "('COVID exposure/1000 people', 0.03803057440529094)\n",
            "('Unemployment claims/1000 people', 0.011588319742329056)\n",
            "('Unemployment rate', 0.01388268597259375)\n",
            "('% working from home', 0.012657279557218496)\n",
            "('Cumulative inflation rate', 0.007084411346658922)\n",
            "('% hospital bed utilization', 0.029912372430656597)\n",
            "('Testing capacity', 0.01679074735302895)\n",
            "('Tests done/1000 people', 0.0475134684532804)\n",
            "('% ICU utilization', 0.04079325565599983)\n",
            "('Ventilator shortage', 0.03025049910741473)\n"
          ],
          "name": "stdout"
        }
      ]
    },
    {
      "cell_type": "code",
      "metadata": {
        "id": "FaL8OKY6H1nj",
        "outputId": "cb4bf8d3-de01-40fa-a18d-d6478d0abea8",
        "colab": {
          "base_uri": "https://localhost:8080/",
          "height": 659
        }
      },
      "source": [
        "\n",
        "#  Supported criteria are “gini” for the Gini impurity and “entropy” for the information gain. \n",
        "clf = RandomForestClassifier(n_estimators=10000, random_state=0,criterion='entropy', n_jobs=-1)\n",
        "\n",
        "# Train the classifier\n",
        "clf.fit(X_train, y_train)\n",
        "print(X_train.shape)\n",
        "# Print the name and gini importance of each feature\n",
        "for feature in zip(inertia_feature_labels, clf.feature_importances_):\n",
        "    print(feature)"
      ],
      "execution_count": 177,
      "outputs": [
        {
          "output_type": "stream",
          "text": [
            "/usr/local/lib/python3.6/dist-packages/ipykernel_launcher.py:6: DataConversionWarning: A column-vector y was passed when a 1d array was expected. Please change the shape of y to (n_samples,), for example using ravel().\n",
            "  \n"
          ],
          "name": "stderr"
        },
        {
          "output_type": "stream",
          "text": [
            "(7377, 33)\n",
            "('mask_rule_active', 0.015473067892541426)\n",
            "('Social distancing index', 0.028041252760490947)\n",
            "('% staying home', 0.022774533546743657)\n",
            "('Trips/person', 0.02935581958008254)\n",
            "('% out-of-county trips', 0.03829030128470095)\n",
            "('% out-of-state trips', 0.03017387374318898)\n",
            "('Miles/person', 0.034139052921918066)\n",
            "('Work trips/person', 0.035501006060693924)\n",
            "('Non-work trips/person', 0.028497808630358525)\n",
            "('% change in consumption', 0.029953476937965632)\n",
            "('Transit mode share', 0.044973435901114384)\n",
            "('% people older than 60', 0.0400581738790694)\n",
            "('Median income', 0.06485191785545075)\n",
            "('% African Americans', 0.023543550277372476)\n",
            "('% Hispanic Americans', 0.03581139902086497)\n",
            "('% Male', 0.03538419116217329)\n",
            "('Population density', 0.07358002034019798)\n",
            "('Employment density', 0.0551323091850895)\n",
            "('# hot spots/1000 people', 0.027109653310871538)\n",
            "('Hospital beds/1000 people', 0.0)\n",
            "('ICUs/1000 people', 0.0)\n",
            "('# contact tracing workers/1000 people rank', 0.0)\n",
            "('% people older than 60 rank', 0.039653307615452923)\n",
            "('COVID exposure/1000 people', 0.0421293816921462)\n",
            "('Unemployment claims/1000 people', 0.012167210241799398)\n",
            "('Unemployment rate', 0.015381368072622081)\n",
            "('% working from home', 0.012880835403930615)\n",
            "('Cumulative inflation rate', 0.00725181351736454)\n",
            "('% hospital bed utilization', 0.030910581945567367)\n",
            "('Testing capacity', 0.01789686275019171)\n",
            "('Tests done/1000 people', 0.05331211758756984)\n",
            "('% ICU utilization', 0.04437730035549692)\n",
            "('Ventilator shortage', 0.031394376526969324)\n"
          ],
          "name": "stdout"
        }
      ]
    },
    {
      "cell_type": "code",
      "metadata": {
        "id": "LGl3OepO8Ip-",
        "outputId": "b51f02b5-6c1b-4a9f-9eef-1c1ed304741c",
        "colab": {
          "base_uri": "https://localhost:8080/",
          "height": 35
        }
      },
      "source": [
        "X_train.shape"
      ],
      "execution_count": 178,
      "outputs": [
        {
          "output_type": "execute_result",
          "data": {
            "text/plain": [
              "(7377, 33)"
            ]
          },
          "metadata": {
            "tags": []
          },
          "execution_count": 178
        }
      ]
    },
    {
      "cell_type": "markdown",
      "metadata": {
        "id": "JmJo8b0WH1nm"
      },
      "source": [
        "## PCA Computation"
      ]
    },
    {
      "cell_type": "code",
      "metadata": {
        "id": "QFD0tG7hH1nn",
        "outputId": "65b22692-299f-4935-c185-a07e0cc7de3d",
        "colab": {
          "base_uri": "https://localhost:8080/",
          "height": 35
        }
      },
      "source": [
        "print(len(feature_labels))"
      ],
      "execution_count": 179,
      "outputs": [
        {
          "output_type": "stream",
          "text": [
            "33\n"
          ],
          "name": "stdout"
        }
      ]
    },
    {
      "cell_type": "code",
      "metadata": {
        "id": "4Ih_wCujH1nq",
        "outputId": "53704352-0256-4c5a-9dad-93c2df92290e",
        "colab": {
          "base_uri": "https://localhost:8080/",
          "height": 52
        }
      },
      "source": [
        "# split into training and testing datasets\n",
        "\n",
        "\n",
        "X = CA_inertia_labeled_data[inertia_feature_labels].values\n",
        "y = CA_inertia_labeled_data[inertia_target_column].values\n",
        "\n",
        "X_train, X_test, y_train, y_test = train_test_split(X, y, test_size=0.3,stratify=y, random_state=0)\n",
        "print(X_train.shape)\n",
        "print(y_train.shape)"
      ],
      "execution_count": 203,
      "outputs": [
        {
          "output_type": "stream",
          "text": [
            "(8607, 33)\n",
            "(8607, 1)\n"
          ],
          "name": "stdout"
        }
      ]
    },
    {
      "cell_type": "code",
      "metadata": {
        "id": "IWrdCBzUH1ns"
      },
      "source": [
        "# standardize the features\n",
        "sc = ss()\n",
        "X_train_std = sc.fit_transform(X_train)\n",
        "X_test_std = sc.transform(X_test)"
      ],
      "execution_count": 181,
      "outputs": []
    },
    {
      "cell_type": "code",
      "metadata": {
        "id": "h6N0mNWXH1nu"
      },
      "source": [
        "from sklearn.decomposition import PCA\n",
        "pca = PCA(n_components=2)\n",
        "principalComponents = pca.fit_transform(X)\n",
        "principalDf = pd.DataFrame(data = principalComponents\n",
        "             , columns = ['principal component 1', 'principal component 2'])"
      ],
      "execution_count": 182,
      "outputs": []
    },
    {
      "cell_type": "code",
      "metadata": {
        "id": "jVL_a5G-H1nv",
        "outputId": "c90107a0-d519-4cce-a48c-44b6e03f1777",
        "colab": {
          "base_uri": "https://localhost:8080/",
          "height": 407
        }
      },
      "source": [
        "principalDf"
      ],
      "execution_count": 183,
      "outputs": [
        {
          "output_type": "execute_result",
          "data": {
            "text/html": [
              "<div>\n",
              "<style scoped>\n",
              "    .dataframe tbody tr th:only-of-type {\n",
              "        vertical-align: middle;\n",
              "    }\n",
              "\n",
              "    .dataframe tbody tr th {\n",
              "        vertical-align: top;\n",
              "    }\n",
              "\n",
              "    .dataframe thead th {\n",
              "        text-align: right;\n",
              "    }\n",
              "</style>\n",
              "<table border=\"1\" class=\"dataframe\">\n",
              "  <thead>\n",
              "    <tr style=\"text-align: right;\">\n",
              "      <th></th>\n",
              "      <th>principal component 1</th>\n",
              "      <th>principal component 2</th>\n",
              "    </tr>\n",
              "  </thead>\n",
              "  <tbody>\n",
              "    <tr>\n",
              "      <th>0</th>\n",
              "      <td>28236.537830</td>\n",
              "      <td>1059.912122</td>\n",
              "    </tr>\n",
              "    <tr>\n",
              "      <th>1</th>\n",
              "      <td>28236.536739</td>\n",
              "      <td>1059.901668</td>\n",
              "    </tr>\n",
              "    <tr>\n",
              "      <th>2</th>\n",
              "      <td>28236.535183</td>\n",
              "      <td>1059.887011</td>\n",
              "    </tr>\n",
              "    <tr>\n",
              "      <th>3</th>\n",
              "      <td>28236.540377</td>\n",
              "      <td>1059.948580</td>\n",
              "    </tr>\n",
              "    <tr>\n",
              "      <th>4</th>\n",
              "      <td>28236.545556</td>\n",
              "      <td>1060.000074</td>\n",
              "    </tr>\n",
              "    <tr>\n",
              "      <th>...</th>\n",
              "      <td>...</td>\n",
              "      <td>...</td>\n",
              "    </tr>\n",
              "    <tr>\n",
              "      <th>12291</th>\n",
              "      <td>-11759.502772</td>\n",
              "      <td>-8.952713</td>\n",
              "    </tr>\n",
              "    <tr>\n",
              "      <th>12292</th>\n",
              "      <td>-11759.502642</td>\n",
              "      <td>-8.948701</td>\n",
              "    </tr>\n",
              "    <tr>\n",
              "      <th>12293</th>\n",
              "      <td>-11759.507082</td>\n",
              "      <td>-8.995375</td>\n",
              "    </tr>\n",
              "    <tr>\n",
              "      <th>12294</th>\n",
              "      <td>-11759.506893</td>\n",
              "      <td>-8.969652</td>\n",
              "    </tr>\n",
              "    <tr>\n",
              "      <th>12295</th>\n",
              "      <td>-11759.507976</td>\n",
              "      <td>-8.993404</td>\n",
              "    </tr>\n",
              "  </tbody>\n",
              "</table>\n",
              "<p>12296 rows × 2 columns</p>\n",
              "</div>"
            ],
            "text/plain": [
              "       principal component 1  principal component 2\n",
              "0               28236.537830            1059.912122\n",
              "1               28236.536739            1059.901668\n",
              "2               28236.535183            1059.887011\n",
              "3               28236.540377            1059.948580\n",
              "4               28236.545556            1060.000074\n",
              "...                      ...                    ...\n",
              "12291          -11759.502772              -8.952713\n",
              "12292          -11759.502642              -8.948701\n",
              "12293          -11759.507082              -8.995375\n",
              "12294          -11759.506893              -8.969652\n",
              "12295          -11759.507976              -8.993404\n",
              "\n",
              "[12296 rows x 2 columns]"
            ]
          },
          "metadata": {
            "tags": []
          },
          "execution_count": 183
        }
      ]
    },
    {
      "cell_type": "code",
      "metadata": {
        "id": "Vc2YUxD0H1nx",
        "outputId": "02054b51-6ddf-45ae-a815-9e74e60ed0ec",
        "colab": {
          "base_uri": "https://localhost:8080/",
          "height": 407
        }
      },
      "source": [
        "finalDf = pd.concat([principalDf, CA_inertia_labeled_data[inertia_target_column]],axis=1 )\n",
        "finalDf"
      ],
      "execution_count": 184,
      "outputs": [
        {
          "output_type": "execute_result",
          "data": {
            "text/html": [
              "<div>\n",
              "<style scoped>\n",
              "    .dataframe tbody tr th:only-of-type {\n",
              "        vertical-align: middle;\n",
              "    }\n",
              "\n",
              "    .dataframe tbody tr th {\n",
              "        vertical-align: top;\n",
              "    }\n",
              "\n",
              "    .dataframe thead th {\n",
              "        text-align: right;\n",
              "    }\n",
              "</style>\n",
              "<table border=\"1\" class=\"dataframe\">\n",
              "  <thead>\n",
              "    <tr style=\"text-align: right;\">\n",
              "      <th></th>\n",
              "      <th>principal component 1</th>\n",
              "      <th>principal component 2</th>\n",
              "      <th>growth_code</th>\n",
              "    </tr>\n",
              "  </thead>\n",
              "  <tbody>\n",
              "    <tr>\n",
              "      <th>0</th>\n",
              "      <td>28236.537830</td>\n",
              "      <td>1059.912122</td>\n",
              "      <td>0</td>\n",
              "    </tr>\n",
              "    <tr>\n",
              "      <th>1</th>\n",
              "      <td>28236.536739</td>\n",
              "      <td>1059.901668</td>\n",
              "      <td>0</td>\n",
              "    </tr>\n",
              "    <tr>\n",
              "      <th>2</th>\n",
              "      <td>28236.535183</td>\n",
              "      <td>1059.887011</td>\n",
              "      <td>0</td>\n",
              "    </tr>\n",
              "    <tr>\n",
              "      <th>3</th>\n",
              "      <td>28236.540377</td>\n",
              "      <td>1059.948580</td>\n",
              "      <td>0</td>\n",
              "    </tr>\n",
              "    <tr>\n",
              "      <th>4</th>\n",
              "      <td>28236.545556</td>\n",
              "      <td>1060.000074</td>\n",
              "      <td>0</td>\n",
              "    </tr>\n",
              "    <tr>\n",
              "      <th>...</th>\n",
              "      <td>...</td>\n",
              "      <td>...</td>\n",
              "      <td>...</td>\n",
              "    </tr>\n",
              "    <tr>\n",
              "      <th>12291</th>\n",
              "      <td>-11759.502772</td>\n",
              "      <td>-8.952713</td>\n",
              "      <td>2</td>\n",
              "    </tr>\n",
              "    <tr>\n",
              "      <th>12292</th>\n",
              "      <td>-11759.502642</td>\n",
              "      <td>-8.948701</td>\n",
              "      <td>0</td>\n",
              "    </tr>\n",
              "    <tr>\n",
              "      <th>12293</th>\n",
              "      <td>-11759.507082</td>\n",
              "      <td>-8.995375</td>\n",
              "      <td>1</td>\n",
              "    </tr>\n",
              "    <tr>\n",
              "      <th>12294</th>\n",
              "      <td>-11759.506893</td>\n",
              "      <td>-8.969652</td>\n",
              "      <td>1</td>\n",
              "    </tr>\n",
              "    <tr>\n",
              "      <th>12295</th>\n",
              "      <td>-11759.507976</td>\n",
              "      <td>-8.993404</td>\n",
              "      <td>3</td>\n",
              "    </tr>\n",
              "  </tbody>\n",
              "</table>\n",
              "<p>12296 rows × 3 columns</p>\n",
              "</div>"
            ],
            "text/plain": [
              "       principal component 1  principal component 2  growth_code\n",
              "0               28236.537830            1059.912122            0\n",
              "1               28236.536739            1059.901668            0\n",
              "2               28236.535183            1059.887011            0\n",
              "3               28236.540377            1059.948580            0\n",
              "4               28236.545556            1060.000074            0\n",
              "...                      ...                    ...          ...\n",
              "12291          -11759.502772              -8.952713            2\n",
              "12292          -11759.502642              -8.948701            0\n",
              "12293          -11759.507082              -8.995375            1\n",
              "12294          -11759.506893              -8.969652            1\n",
              "12295          -11759.507976              -8.993404            3\n",
              "\n",
              "[12296 rows x 3 columns]"
            ]
          },
          "metadata": {
            "tags": []
          },
          "execution_count": 184
        }
      ]
    },
    {
      "cell_type": "code",
      "metadata": {
        "id": "5bRiPDyjH1n0",
        "outputId": "872b7f89-dd89-4374-d308-e1f90b2b285a",
        "colab": {
          "base_uri": "https://localhost:8080/",
          "height": 575
        }
      },
      "source": [
        "fig = plt.figure(figsize = (8,8))\n",
        "ax = fig.add_subplot(1,1,1) \n",
        "ax.set_xlabel('Principal Component 1', fontsize = 15)\n",
        "ax.set_ylabel('Principal Component 2', fontsize = 15)\n",
        "ax.set_title('2 component PCA', fontsize = 20)\n",
        "targets = ['LowSpread', 'Spread', 'SuperSpread']\n",
        "targets2 = np.unique(y_train)\n",
        "colors = ['r', 'g', 'b']\n",
        "for target, color in zip(targets2,colors):\n",
        "    print(target)\n",
        "    indicesToKeep = finalDf['growth_code'] == target\n",
        "    ax.scatter(finalDf.loc[indicesToKeep, 'principal component 1']\n",
        "               , finalDf.loc[indicesToKeep, 'principal component 2']\n",
        "               , c = color\n",
        "               , s = 50)\n",
        "ax.legend(targets)\n",
        "ax.grid()"
      ],
      "execution_count": 185,
      "outputs": [
        {
          "output_type": "stream",
          "text": [
            "0\n",
            "1\n",
            "2\n"
          ],
          "name": "stdout"
        },
        {
          "output_type": "display_data",
          "data": {
            "image/png": "[encoded data removed]",
            "text/plain": [
              "<Figure size 576x576 with 1 Axes>"
            ]
          },
          "metadata": {
            "tags": [],
            "needs_background": "light"
          }
        }
      ]
    },
    {
      "cell_type": "code",
      "metadata": {
        "id": "QEFfsLFiH1n1"
      },
      "source": [
        "#obtain the eigenpairs of the Wine covariance matrix:\n",
        "#data_cov = np.dot(np.transpose(data.values),data.values)\n",
        "#data_cov\n",
        "X_train_cov = np.cov(X_train_std.T)\n",
        "w, v = np.linalg.eig(X_train_cov)"
      ],
      "execution_count": 186,
      "outputs": []
    },
    {
      "cell_type": "code",
      "metadata": {
        "id": "1zhis-3HH1n3",
        "outputId": "653aec49-883f-4bbf-830d-c9975ed1b6bb",
        "colab": {
          "base_uri": "https://localhost:8080/",
          "height": 328
        }
      },
      "source": [
        "#The percent of variability contained within each component\n",
        "w_percent = (w/np.sum(w))*100                 \n",
        "print(w, '-> eigenvalues')\n",
        "print(w_percent, ' -> percent of variability explained')"
      ],
      "execution_count": 187,
      "outputs": [
        {
          "output_type": "stream",
          "text": [
            "[6.77028848e+00 5.69126696e+00 4.18239883e+00 3.07585512e+00\n",
            " 1.67024958e+00 1.52577696e+00 1.17470945e+00 1.04257363e+00\n",
            " 7.14805744e-01 6.37614928e-01 5.87190045e-01 5.19639095e-01\n",
            " 4.39363309e-01 4.07083936e-01 3.46519529e-01 2.82309291e-01\n",
            " 1.96078400e-01 1.92497257e-01 1.27063760e-01 1.04688278e-01\n",
            " 8.33390489e-02 8.00887728e-02 5.50079720e-02 3.32457450e-02\n",
            " 2.37677967e-02 3.57446177e-03 6.24001356e-05 1.70854556e-02\n",
            " 8.69859828e-03 1.06431053e-02 0.00000000e+00 0.00000000e+00\n",
            " 0.00000000e+00] -> eigenvalues\n",
            "[2.25650063e+01 1.89686857e+01 1.39397097e+01 1.02516592e+01\n",
            " 5.56685175e+00 5.08533229e+00 3.91524321e+00 3.47484167e+00\n",
            " 2.38240898e+00 2.12513616e+00 1.95707274e+00 1.73192907e+00\n",
            " 1.46437421e+00 1.35678880e+00 1.15493090e+00 9.40921635e-01\n",
            " 6.53518729e-01 6.41582972e-01 4.23496657e-01 3.48920382e-01\n",
            " 2.77764554e-01 2.66931559e-01 1.83338603e-01 1.10806274e-01\n",
            " 7.92167842e-02 1.19134883e-02 2.07976286e-04 5.69449018e-02\n",
            " 2.89919588e-02 3.54728958e-02 0.00000000e+00 0.00000000e+00\n",
            " 0.00000000e+00]  -> percent of variability explained\n"
          ],
          "name": "stdout"
        }
      ]
    },
    {
      "cell_type": "code",
      "metadata": {
        "id": "PNM0ssU3H1n5",
        "outputId": "de5ad9e6-7293-4ee0-b2de-9419d802f29c",
        "colab": {
          "base_uri": "https://localhost:8080/",
          "height": 295
        }
      },
      "source": [
        "# calculate cumulative sum of explained variances\n",
        "tot = sum(w)\n",
        "var_exp = [(i / tot) for i in sorted(w, reverse=True)]\n",
        "cum_var_exp = np.cumsum(var_exp)\n",
        "\n",
        "# plot explained variances\n",
        "plt.title(\"Component-wise and Cumulative Explained Variance\")\n",
        "plt.bar(range(0,33), var_exp, alpha=0.5,\n",
        "        align='center', label='individual explained variance')\n",
        "plt.step(range(0,33), cum_var_exp, where='mid',\n",
        "         label='Percentage of variability explained')\n",
        "plt.ylabel('Explained variance ratio')\n",
        "plt.xlabel('Principal component index')\n",
        "plt.legend(loc='best')\n",
        "plt.show()"
      ],
      "execution_count": 188,
      "outputs": [
        {
          "output_type": "display_data",
          "data": {
            "image/png": "[encoded data removed]",
            "text/plain": [
              "<Figure size 432x288 with 1 Axes>"
            ]
          },
          "metadata": {
            "tags": [],
            "needs_background": "light"
          }
        }
      ]
    },
    {
      "cell_type": "code",
      "metadata": {
        "id": "wQh4CAgfH1n7",
        "outputId": "ed000cd7-3cc8-4c4c-dfea-4020bb984d01",
        "colab": {
          "base_uri": "https://localhost:8080/",
          "height": 605
        }
      },
      "source": [
        "# Make a list of (eigenvalue, eigenvector) tuples\n",
        "eigen_pairs = [(np.abs(w[i]), v[:, i]) for i in range(len(w))]\n",
        "\n",
        "# Sort the (eigenvalue, eigenvector) tuples from high to low\n",
        "eigen_pairs.sort(key=lambda k: k[0], reverse=True)\n",
        "w2 = np.hstack((eigen_pairs[0][1][:, np.newaxis], eigen_pairs[1][1][:, np.newaxis]))\n",
        "print('Matrix W2:\\n', w2)"
      ],
      "execution_count": 189,
      "outputs": [
        {
          "output_type": "stream",
          "text": [
            "Matrix W2:\n",
            " [[ 0.20821804 -0.24806418]\n",
            " [ 0.25008831  0.27225632]\n",
            " [ 0.24427327  0.26870783]\n",
            " [-0.22272953 -0.25633126]\n",
            " [ 0.02746156 -0.06105522]\n",
            " [ 0.01951422 -0.01782175]\n",
            " [-0.05235186 -0.26684766]\n",
            " [-0.22694036 -0.02491195]\n",
            " [-0.16813353 -0.28327607]\n",
            " [-0.16044687 -0.27739742]\n",
            " [ 0.09241578  0.17080242]\n",
            " [-0.00101008 -0.04490956]\n",
            " [ 0.08603629  0.16545714]\n",
            " [ 0.0233578   0.0732212 ]\n",
            " [-0.03063899 -0.02610159]\n",
            " [-0.01708912 -0.0393162 ]\n",
            " [ 0.09044404  0.18290147]\n",
            " [ 0.09636228  0.18770811]\n",
            " [ 0.06425295  0.07789793]\n",
            " [ 0.          0.        ]\n",
            " [ 0.          0.        ]\n",
            " [ 0.          0.        ]\n",
            " [-0.00396731 -0.05069087]\n",
            " [ 0.23322009 -0.26897206]\n",
            " [ 0.18769773  0.1489386 ]\n",
            " [ 0.29513666 -0.1671551 ]\n",
            " [ 0.32300857 -0.02502694]\n",
            " [-0.01250651 -0.10800998]\n",
            " [ 0.29433964 -0.19465842]\n",
            " [ 0.1237698   0.14136713]\n",
            " [ 0.23975412 -0.27867049]\n",
            " [ 0.31398784 -0.1892198 ]\n",
            " [ 0.31122243 -0.20924403]]\n"
          ],
          "name": "stdout"
        }
      ]
    },
    {
      "cell_type": "code",
      "metadata": {
        "id": "gu3mx19IH1n9",
        "outputId": "af1444e9-0dc8-4610-b58a-547ae60ee8c4",
        "colab": {
          "base_uri": "https://localhost:8080/",
          "height": 138
        }
      },
      "source": [
        "X_train_pca = X_train_std.dot(w2)\n",
        "print(X_train_pca)"
      ],
      "execution_count": 190,
      "outputs": [
        {
          "output_type": "stream",
          "text": [
            "[[ 0.76627035  4.45684414]\n",
            " [ 1.77941597  4.10855415]\n",
            " [ 1.51005547 -2.2045616 ]\n",
            " ...\n",
            " [ 0.83288028 -2.6928585 ]\n",
            " [-0.27139501 -1.74207874]\n",
            " [-1.63531039  2.66576593]]\n"
          ],
          "name": "stdout"
        }
      ]
    },
    {
      "cell_type": "code",
      "metadata": {
        "id": "laotJxepH1n-",
        "outputId": "90e50d8f-bad0-424f-b71f-73e4712f5f19",
        "colab": {
          "base_uri": "https://localhost:8080/",
          "height": 138
        }
      },
      "source": [
        "np.unique(y_train)\n",
        "X_train_pca"
      ],
      "execution_count": 191,
      "outputs": [
        {
          "output_type": "execute_result",
          "data": {
            "text/plain": [
              "array([[ 0.76627035,  4.45684414],\n",
              "       [ 1.77941597,  4.10855415],\n",
              "       [ 1.51005547, -2.2045616 ],\n",
              "       ...,\n",
              "       [ 0.83288028, -2.6928585 ],\n",
              "       [-0.27139501, -1.74207874],\n",
              "       [-1.63531039,  2.66576593]])"
            ]
          },
          "metadata": {
            "tags": []
          },
          "execution_count": 191
        }
      ]
    },
    {
      "cell_type": "markdown",
      "metadata": {
        "id": "xyiXoNkL12gU"
      },
      "source": [
        "## Extra tree classifier"
      ]
    },
    {
      "cell_type": "code",
      "metadata": {
        "id": "7OYq2tFI2SKm"
      },
      "source": [
        "inertia_feature_labels = ['mask_rule_active','Social distancing index','% staying home', 'Trips/person', '% out-of-county trips',\n",
        "       '% out-of-state trips', 'Miles/person', 'Work trips/person','Non-work trips/person','% change in consumption',\n",
        "       'Transit mode share','% people older than 60', 'Median income', '% African Americans', '% Hispanic Americans',\n",
        "       '% Male', 'Population density','Employment density', '# hot spots/1000 people','Hospital beds/1000 people', 'ICUs/1000 people',\n",
        "       '# contact tracing workers/1000 people rank','% people older than 60 rank', 'COVID exposure/1000 people',\n",
        "       'Unemployment claims/1000 people', 'Unemployment rate','% working from home', 'Cumulative inflation rate',\n",
        "       '% hospital bed utilization', 'Testing capacity','Tests done/1000 people', '% ICU utilization', 'Ventilator shortage'\n",
        "       ]\n",
        "\n",
        "inertia_target_column = ['growth_code']"
      ],
      "execution_count": 192,
      "outputs": []
    },
    {
      "cell_type": "code",
      "metadata": {
        "id": "HUGmp5Zg2V_K",
        "outputId": "74c19912-5d79-4ecb-b67e-4fb97d5b0cc6",
        "colab": {
          "base_uri": "https://localhost:8080/",
          "height": 155
        }
      },
      "source": [
        "print(CA_inertia_labeled_data['growth_code'].unique())\n",
        "print(pd.unique(CA_inertia_labeled_data[['growth_label', 'growth_code']].values.ravel()))\n",
        "\n",
        "CA_inertia_labeled_data_growth0 = CA_inertia_labeled_data[CA_inertia_labeled_data['growth_code'] == 0]\n",
        "CA_inertia_labeled_data_growth1 = CA_inertia_labeled_data[CA_inertia_labeled_data['growth_code'] == 1]\n",
        "CA_inertia_labeled_data_growth2 = CA_inertia_labeled_data[CA_inertia_labeled_data['growth_code'] == 2]\n",
        "CA_inertia_labeled_data_growth3 = CA_inertia_labeled_data[CA_inertia_labeled_data['growth_code'] == 3]\n",
        "CA_inertia_labeled_data_growth4 = CA_inertia_labeled_data[CA_inertia_labeled_data['growth_code'] == 4]\n",
        "\n",
        "print(CA_inertia_labeled_data_growth0.shape)\n",
        "print(CA_inertia_labeled_data_growth1.shape)\n",
        "print(CA_inertia_labeled_data_growth2.shape)\n",
        "print(CA_inertia_labeled_data_growth3.shape)\n",
        "print(CA_inertia_labeled_data_growth4.shape)"
      ],
      "execution_count": 193,
      "outputs": [
        {
          "output_type": "stream",
          "text": [
            "[0 3 2 1]\n",
            "['drastic_decrement' 0 'mild_decrement' 3 'flat_growth' 2 'drastic_growth'\n",
            " 1]\n",
            "(4801, 55)\n",
            "(457, 55)\n",
            "(1367, 55)\n",
            "(5671, 55)\n",
            "(0, 55)\n"
          ],
          "name": "stdout"
        }
      ]
    },
    {
      "cell_type": "markdown",
      "metadata": {
        "id": "oRUuQVLb15Im"
      },
      "source": [
        "### Label 0: Drastic decrement"
      ]
    },
    {
      "cell_type": "code",
      "metadata": {
        "id": "pnout0IF2wdn",
        "outputId": "ccc0584f-febf-4803-c32b-2e49d4d1923a",
        "colab": {
          "base_uri": "https://localhost:8080/",
          "height": 1000
        }
      },
      "source": [
        "\n",
        "print(\"** Printing San Bernardino county data for mild increment ** \")\n",
        "print(CA_inertia_labeled_data_growth0.shape)\n",
        "X = CA_inertia_labeled_data_growth0[inertia_feature_labels]\n",
        "y = CA_inertia_labeled_data_growth0[inertia_target_column]\n",
        "\n",
        "X_train, X_test, y_train, y_test = train_test_split(X, y, test_size=0.4, random_state=0)\n",
        "\n",
        "\n",
        "# Create a random forest classifier\n",
        "clf = RandomForestClassifier(n_estimators=10000, random_state=0, n_jobs=-1)\n",
        "\n",
        "# Train the classifier\n",
        "clf.fit(X_train, y_train)\n",
        "\n",
        "# Print the name and gini importance of each feature\n",
        "for feature in zip(feature_labels, clf.feature_importances_):\n",
        "    print(feature)\n",
        "\n",
        "\n",
        "\n",
        "#  Supported criteria are “gini” for the Gini impurity and “entropy” for the information gain. \n",
        "\n",
        "clf = RandomForestClassifier(n_estimators=10000, random_state=0,criterion='entropy', n_jobs=-1)\n",
        "\n",
        "# Train the classifier\n",
        "clf.fit(X_train, y_train)\n",
        "\n",
        "# Print the name and gini importance of each feature\n",
        "for feature in zip(feature_labels, clf.feature_importances_):\n",
        "    print(feature)\n",
        "\n",
        "\n",
        "model = ExtraTreesClassifier()\n",
        "model.fit(X, y.values.ravel())\n",
        "# display the relative importance of each attribute\n",
        "#print(model.feature_importances_)\n",
        "\n",
        "\n",
        "# create the RFE model \n",
        "rfe = RFE(model, 3)\n",
        "rfe = rfe.fit(X, y.values.ravel())\n",
        "# summarize the selection of the attributes\n",
        "#print(rfe.support_)\n",
        "\n",
        "print(\"\\nFeatures with ranking:\\n\")\n",
        "for index in range(len(rfe.ranking_)):\n",
        "  print(inertia_feature_labels[index], rfe.ranking_[index])\n",
        "\n",
        "# for index in range(len(rfe.ranking_)):\n",
        "#   print( rfe.ranking_[index])\n",
        "#print(rfe.ranking_)\n",
        "#print(rfe.n_features_)\n",
        "#rfe.n_features_to_select\n"
      ],
      "execution_count": 194,
      "outputs": [
        {
          "output_type": "stream",
          "text": [
            "** Printing San Bernardino county data for mild increment ** \n",
            "(4801, 55)\n"
          ],
          "name": "stdout"
        },
        {
          "output_type": "stream",
          "text": [
            "/usr/local/lib/python3.6/dist-packages/ipykernel_launcher.py:14: DataConversionWarning: A column-vector y was passed when a 1d array was expected. Please change the shape of y to (n_samples,), for example using ravel().\n",
            "  \n"
          ],
          "name": "stderr"
        },
        {
          "output_type": "stream",
          "text": [
            "('mask_rule_active', 0.0)\n",
            "('Social distancing index', 0.0)\n",
            "('% staying home', 0.0)\n",
            "('Trips/person', 0.0)\n",
            "('% out-of-county trips', 0.0)\n",
            "('% out-of-state trips', 0.0)\n",
            "('Miles/person', 0.0)\n",
            "('Work trips/person', 0.0)\n",
            "('Non-work trips/person', 0.0)\n",
            "('% change in consumption', 0.0)\n",
            "('Transit mode share', 0.0)\n",
            "('% people older than 60', 0.0)\n",
            "('Median income', 0.0)\n",
            "('% African Americans', 0.0)\n",
            "('% Hispanic Americans', 0.0)\n",
            "('% Male', 0.0)\n",
            "('Population density', 0.0)\n",
            "('Employment density', 0.0)\n",
            "('# hot spots/1000 people', 0.0)\n",
            "('Hospital beds/1000 people', 0.0)\n",
            "('ICUs/1000 people', 0.0)\n",
            "('# contact tracing workers/1000 people rank', 0.0)\n",
            "('% people older than 60 rank', 0.0)\n",
            "('COVID exposure/1000 people', 0.0)\n",
            "('Unemployment claims/1000 people', 0.0)\n",
            "('Unemployment rate', 0.0)\n",
            "('% working from home', 0.0)\n",
            "('Cumulative inflation rate', 0.0)\n",
            "('% hospital bed utilization', 0.0)\n",
            "('Testing capacity', 0.0)\n",
            "('Tests done/1000 people', 0.0)\n",
            "('% ICU utilization', 0.0)\n",
            "('Ventilator shortage', 0.0)\n"
          ],
          "name": "stdout"
        },
        {
          "output_type": "stream",
          "text": [
            "/usr/local/lib/python3.6/dist-packages/ipykernel_launcher.py:27: DataConversionWarning: A column-vector y was passed when a 1d array was expected. Please change the shape of y to (n_samples,), for example using ravel().\n"
          ],
          "name": "stderr"
        },
        {
          "output_type": "stream",
          "text": [
            "('mask_rule_active', 0.0)\n",
            "('Social distancing index', 0.0)\n",
            "('% staying home', 0.0)\n",
            "('Trips/person', 0.0)\n",
            "('% out-of-county trips', 0.0)\n",
            "('% out-of-state trips', 0.0)\n",
            "('Miles/person', 0.0)\n",
            "('Work trips/person', 0.0)\n",
            "('Non-work trips/person', 0.0)\n",
            "('% change in consumption', 0.0)\n",
            "('Transit mode share', 0.0)\n",
            "('% people older than 60', 0.0)\n",
            "('Median income', 0.0)\n",
            "('% African Americans', 0.0)\n",
            "('% Hispanic Americans', 0.0)\n",
            "('% Male', 0.0)\n",
            "('Population density', 0.0)\n",
            "('Employment density', 0.0)\n",
            "('# hot spots/1000 people', 0.0)\n",
            "('Hospital beds/1000 people', 0.0)\n",
            "('ICUs/1000 people', 0.0)\n",
            "('# contact tracing workers/1000 people rank', 0.0)\n",
            "('% people older than 60 rank', 0.0)\n",
            "('COVID exposure/1000 people', 0.0)\n",
            "('Unemployment claims/1000 people', 0.0)\n",
            "('Unemployment rate', 0.0)\n",
            "('% working from home', 0.0)\n",
            "('Cumulative inflation rate', 0.0)\n",
            "('% hospital bed utilization', 0.0)\n",
            "('Testing capacity', 0.0)\n",
            "('Tests done/1000 people', 0.0)\n",
            "('% ICU utilization', 0.0)\n",
            "('Ventilator shortage', 0.0)\n",
            "\n",
            "Features with ranking:\n",
            "\n",
            "mask_rule_active 31\n",
            "Social distancing index 30\n",
            "% staying home 29\n",
            "Trips/person 28\n",
            "% out-of-county trips 27\n",
            "% out-of-state trips 26\n",
            "Miles/person 25\n",
            "Work trips/person 24\n",
            "Non-work trips/person 23\n",
            "% change in consumption 22\n",
            "Transit mode share 21\n",
            "% people older than 60 20\n",
            "Median income 19\n",
            "% African Americans 18\n",
            "% Hispanic Americans 17\n",
            "% Male 16\n",
            "Population density 15\n",
            "Employment density 14\n",
            "# hot spots/1000 people 13\n",
            "Hospital beds/1000 people 12\n",
            "ICUs/1000 people 11\n",
            "# contact tracing workers/1000 people rank 10\n",
            "% people older than 60 rank 9\n",
            "COVID exposure/1000 people 8\n",
            "Unemployment claims/1000 people 7\n",
            "Unemployment rate 6\n",
            "% working from home 5\n",
            "Cumulative inflation rate 4\n",
            "% hospital bed utilization 3\n",
            "Testing capacity 2\n",
            "Tests done/1000 people 1\n",
            "% ICU utilization 1\n",
            "Ventilator shortage 1\n"
          ],
          "name": "stdout"
        }
      ]
    },
    {
      "cell_type": "markdown",
      "metadata": {
        "id": "59JsZvUy18Ne"
      },
      "source": [
        "### Label 1: Drastic growth"
      ]
    },
    {
      "cell_type": "code",
      "metadata": {
        "id": "7KB_WIkr3FAt",
        "outputId": "2e66323e-cf87-4584-9c25-9cdad10ecda8",
        "colab": {
          "base_uri": "https://localhost:8080/",
          "height": 1000
        }
      },
      "source": [
        "\n",
        "print(\"** Printing All county data for mild increment ** \")\n",
        "print(CA_inertia_labeled_data_growth1.shape)\n",
        "X = CA_inertia_labeled_data_growth1[inertia_feature_labels]\n",
        "y = CA_inertia_labeled_data_growth1[inertia_target_column]\n",
        "\n",
        "X_train, X_test, y_train, y_test = train_test_split(X, y, test_size=0.4, random_state=0)\n",
        "\n",
        "\n",
        "# Create a random forest classifier\n",
        "clf = RandomForestClassifier(n_estimators=10000, random_state=0, n_jobs=-1)\n",
        "\n",
        "# Train the classifier\n",
        "clf.fit(X_train, y_train)\n",
        "\n",
        "# Print the name and gini importance of each feature\n",
        "for feature in zip(feature_labels, clf.feature_importances_):\n",
        "    print(feature)\n",
        "\n",
        "\n",
        "\n",
        "#  Supported criteria are “gini” for the Gini impurity and “entropy” for the information gain. \n",
        "\n",
        "clf = RandomForestClassifier(n_estimators=10000, random_state=0,criterion='entropy', n_jobs=-1)\n",
        "\n",
        "# Train the classifier\n",
        "clf.fit(X_train, y_train)\n",
        "\n",
        "# Print the name and gini importance of each feature\n",
        "for feature in zip(feature_labels, clf.feature_importances_):\n",
        "    print(feature)\n",
        "\n",
        "\n",
        "model = ExtraTreesClassifier()\n",
        "model.fit(X, y.values.ravel())\n",
        "# display the relative importance of each attribute\n",
        "#print(model.feature_importances_)\n",
        "\n",
        "\n",
        "# create the RFE model \n",
        "rfe = RFE(model, 3)\n",
        "rfe = rfe.fit(X, y.values.ravel())\n",
        "# summarize the selection of the attributes\n",
        "#print(rfe.support_)\n",
        "\n",
        "print(\"\\nFeatures with ranking:\\n\")\n",
        "for index in range(len(rfe.ranking_)):\n",
        "  print(inertia_feature_labels[index], rfe.ranking_[index])\n",
        "\n",
        "# for index in range(len(rfe.ranking_)):\n",
        "#   print( rfe.ranking_[index])\n",
        "#print(rfe.ranking_)\n",
        "#print(rfe.n_features_)\n",
        "#rfe.n_features_to_select\n"
      ],
      "execution_count": 195,
      "outputs": [
        {
          "output_type": "stream",
          "text": [
            "** Printing All county data for mild increment ** \n",
            "(457, 55)\n"
          ],
          "name": "stdout"
        },
        {
          "output_type": "stream",
          "text": [
            "/usr/local/lib/python3.6/dist-packages/ipykernel_launcher.py:14: DataConversionWarning: A column-vector y was passed when a 1d array was expected. Please change the shape of y to (n_samples,), for example using ravel().\n",
            "  \n"
          ],
          "name": "stderr"
        },
        {
          "output_type": "stream",
          "text": [
            "('mask_rule_active', 0.0)\n",
            "('Social distancing index', 0.0)\n",
            "('% staying home', 0.0)\n",
            "('Trips/person', 0.0)\n",
            "('% out-of-county trips', 0.0)\n",
            "('% out-of-state trips', 0.0)\n",
            "('Miles/person', 0.0)\n",
            "('Work trips/person', 0.0)\n",
            "('Non-work trips/person', 0.0)\n",
            "('% change in consumption', 0.0)\n",
            "('Transit mode share', 0.0)\n",
            "('% people older than 60', 0.0)\n",
            "('Median income', 0.0)\n",
            "('% African Americans', 0.0)\n",
            "('% Hispanic Americans', 0.0)\n",
            "('% Male', 0.0)\n",
            "('Population density', 0.0)\n",
            "('Employment density', 0.0)\n",
            "('# hot spots/1000 people', 0.0)\n",
            "('Hospital beds/1000 people', 0.0)\n",
            "('ICUs/1000 people', 0.0)\n",
            "('# contact tracing workers/1000 people rank', 0.0)\n",
            "('% people older than 60 rank', 0.0)\n",
            "('COVID exposure/1000 people', 0.0)\n",
            "('Unemployment claims/1000 people', 0.0)\n",
            "('Unemployment rate', 0.0)\n",
            "('% working from home', 0.0)\n",
            "('Cumulative inflation rate', 0.0)\n",
            "('% hospital bed utilization', 0.0)\n",
            "('Testing capacity', 0.0)\n",
            "('Tests done/1000 people', 0.0)\n",
            "('% ICU utilization', 0.0)\n",
            "('Ventilator shortage', 0.0)\n"
          ],
          "name": "stdout"
        },
        {
          "output_type": "stream",
          "text": [
            "/usr/local/lib/python3.6/dist-packages/ipykernel_launcher.py:27: DataConversionWarning: A column-vector y was passed when a 1d array was expected. Please change the shape of y to (n_samples,), for example using ravel().\n"
          ],
          "name": "stderr"
        },
        {
          "output_type": "stream",
          "text": [
            "('mask_rule_active', 0.0)\n",
            "('Social distancing index', 0.0)\n",
            "('% staying home', 0.0)\n",
            "('Trips/person', 0.0)\n",
            "('% out-of-county trips', 0.0)\n",
            "('% out-of-state trips', 0.0)\n",
            "('Miles/person', 0.0)\n",
            "('Work trips/person', 0.0)\n",
            "('Non-work trips/person', 0.0)\n",
            "('% change in consumption', 0.0)\n",
            "('Transit mode share', 0.0)\n",
            "('% people older than 60', 0.0)\n",
            "('Median income', 0.0)\n",
            "('% African Americans', 0.0)\n",
            "('% Hispanic Americans', 0.0)\n",
            "('% Male', 0.0)\n",
            "('Population density', 0.0)\n",
            "('Employment density', 0.0)\n",
            "('# hot spots/1000 people', 0.0)\n",
            "('Hospital beds/1000 people', 0.0)\n",
            "('ICUs/1000 people', 0.0)\n",
            "('# contact tracing workers/1000 people rank', 0.0)\n",
            "('% people older than 60 rank', 0.0)\n",
            "('COVID exposure/1000 people', 0.0)\n",
            "('Unemployment claims/1000 people', 0.0)\n",
            "('Unemployment rate', 0.0)\n",
            "('% working from home', 0.0)\n",
            "('Cumulative inflation rate', 0.0)\n",
            "('% hospital bed utilization', 0.0)\n",
            "('Testing capacity', 0.0)\n",
            "('Tests done/1000 people', 0.0)\n",
            "('% ICU utilization', 0.0)\n",
            "('Ventilator shortage', 0.0)\n",
            "\n",
            "Features with ranking:\n",
            "\n",
            "mask_rule_active 31\n",
            "Social distancing index 30\n",
            "% staying home 29\n",
            "Trips/person 28\n",
            "% out-of-county trips 27\n",
            "% out-of-state trips 26\n",
            "Miles/person 25\n",
            "Work trips/person 24\n",
            "Non-work trips/person 23\n",
            "% change in consumption 22\n",
            "Transit mode share 21\n",
            "% people older than 60 20\n",
            "Median income 19\n",
            "% African Americans 18\n",
            "% Hispanic Americans 17\n",
            "% Male 16\n",
            "Population density 15\n",
            "Employment density 14\n",
            "# hot spots/1000 people 13\n",
            "Hospital beds/1000 people 12\n",
            "ICUs/1000 people 11\n",
            "# contact tracing workers/1000 people rank 10\n",
            "% people older than 60 rank 9\n",
            "COVID exposure/1000 people 8\n",
            "Unemployment claims/1000 people 7\n",
            "Unemployment rate 6\n",
            "% working from home 5\n",
            "Cumulative inflation rate 4\n",
            "% hospital bed utilization 3\n",
            "Testing capacity 2\n",
            "Tests done/1000 people 1\n",
            "% ICU utilization 1\n",
            "Ventilator shortage 1\n"
          ],
          "name": "stdout"
        }
      ]
    },
    {
      "cell_type": "markdown",
      "metadata": {
        "id": "JWct8fto1-lo"
      },
      "source": [
        "### Label 2: Flat growth"
      ]
    },
    {
      "cell_type": "code",
      "metadata": {
        "id": "XBiVXXbR3F_f",
        "outputId": "9aa20c32-354a-4921-8c1b-c49f613cc044",
        "colab": {
          "base_uri": "https://localhost:8080/",
          "height": 1000
        }
      },
      "source": [
        "\n",
        "print(\"** Printing San Bernardino county data for mild increment ** \")\n",
        "print(CA_inertia_labeled_data_growth2.shape)\n",
        "X = CA_inertia_labeled_data_growth2[inertia_feature_labels]\n",
        "y = CA_inertia_labeled_data_growth2[inertia_target_column]\n",
        "\n",
        "X_train, X_test, y_train, y_test = train_test_split(X, y, test_size=0.4, random_state=0)\n",
        "\n",
        "\n",
        "# Create a random forest classifier\n",
        "clf = RandomForestClassifier(n_estimators=10000, random_state=0, n_jobs=-1)\n",
        "\n",
        "# Train the classifier\n",
        "clf.fit(X_train, y_train)\n",
        "\n",
        "# Print the name and gini importance of each feature\n",
        "for feature in zip(feature_labels, clf.feature_importances_):\n",
        "    print(feature)\n",
        "\n",
        "\n",
        "\n",
        "#  Supported criteria are “gini” for the Gini impurity and “entropy” for the information gain. \n",
        "\n",
        "clf = RandomForestClassifier(n_estimators=10000, random_state=0,criterion='entropy', n_jobs=-1)\n",
        "\n",
        "# Train the classifier\n",
        "clf.fit(X_train, y_train)\n",
        "\n",
        "# Print the name and gini importance of each feature\n",
        "for feature in zip(feature_labels, clf.feature_importances_):\n",
        "    print(feature)\n",
        "\n",
        "\n",
        "model = ExtraTreesClassifier()\n",
        "model.fit(X, y.values.ravel())\n",
        "# display the relative importance of each attribute\n",
        "#print(model.feature_importances_)\n",
        "\n",
        "\n",
        "# create the RFE model \n",
        "rfe = RFE(model, 3)\n",
        "rfe = rfe.fit(X, y.values.ravel())\n",
        "# summarize the selection of the attributes\n",
        "#print(rfe.support_)\n",
        "\n",
        "print(\"\\nFeatures with ranking:\\n\")\n",
        "for index in range(len(rfe.ranking_)):\n",
        "  print(inertia_feature_labels[index], rfe.ranking_[index])\n",
        "\n",
        "# for index in range(len(rfe.ranking_)):\n",
        "#   print( rfe.ranking_[index])\n",
        "#print(rfe.ranking_)\n",
        "#print(rfe.n_features_)\n",
        "#rfe.n_features_to_select\n"
      ],
      "execution_count": 196,
      "outputs": [
        {
          "output_type": "stream",
          "text": [
            "** Printing San Bernardino county data for mild increment ** \n",
            "(1367, 55)\n"
          ],
          "name": "stdout"
        },
        {
          "output_type": "stream",
          "text": [
            "/usr/local/lib/python3.6/dist-packages/ipykernel_launcher.py:14: DataConversionWarning: A column-vector y was passed when a 1d array was expected. Please change the shape of y to (n_samples,), for example using ravel().\n",
            "  \n"
          ],
          "name": "stderr"
        },
        {
          "output_type": "stream",
          "text": [
            "('mask_rule_active', 0.0)\n",
            "('Social distancing index', 0.0)\n",
            "('% staying home', 0.0)\n",
            "('Trips/person', 0.0)\n",
            "('% out-of-county trips', 0.0)\n",
            "('% out-of-state trips', 0.0)\n",
            "('Miles/person', 0.0)\n",
            "('Work trips/person', 0.0)\n",
            "('Non-work trips/person', 0.0)\n",
            "('% change in consumption', 0.0)\n",
            "('Transit mode share', 0.0)\n",
            "('% people older than 60', 0.0)\n",
            "('Median income', 0.0)\n",
            "('% African Americans', 0.0)\n",
            "('% Hispanic Americans', 0.0)\n",
            "('% Male', 0.0)\n",
            "('Population density', 0.0)\n",
            "('Employment density', 0.0)\n",
            "('# hot spots/1000 people', 0.0)\n",
            "('Hospital beds/1000 people', 0.0)\n",
            "('ICUs/1000 people', 0.0)\n",
            "('# contact tracing workers/1000 people rank', 0.0)\n",
            "('% people older than 60 rank', 0.0)\n",
            "('COVID exposure/1000 people', 0.0)\n",
            "('Unemployment claims/1000 people', 0.0)\n",
            "('Unemployment rate', 0.0)\n",
            "('% working from home', 0.0)\n",
            "('Cumulative inflation rate', 0.0)\n",
            "('% hospital bed utilization', 0.0)\n",
            "('Testing capacity', 0.0)\n",
            "('Tests done/1000 people', 0.0)\n",
            "('% ICU utilization', 0.0)\n",
            "('Ventilator shortage', 0.0)\n"
          ],
          "name": "stdout"
        },
        {
          "output_type": "stream",
          "text": [
            "/usr/local/lib/python3.6/dist-packages/ipykernel_launcher.py:27: DataConversionWarning: A column-vector y was passed when a 1d array was expected. Please change the shape of y to (n_samples,), for example using ravel().\n"
          ],
          "name": "stderr"
        },
        {
          "output_type": "stream",
          "text": [
            "('mask_rule_active', 0.0)\n",
            "('Social distancing index', 0.0)\n",
            "('% staying home', 0.0)\n",
            "('Trips/person', 0.0)\n",
            "('% out-of-county trips', 0.0)\n",
            "('% out-of-state trips', 0.0)\n",
            "('Miles/person', 0.0)\n",
            "('Work trips/person', 0.0)\n",
            "('Non-work trips/person', 0.0)\n",
            "('% change in consumption', 0.0)\n",
            "('Transit mode share', 0.0)\n",
            "('% people older than 60', 0.0)\n",
            "('Median income', 0.0)\n",
            "('% African Americans', 0.0)\n",
            "('% Hispanic Americans', 0.0)\n",
            "('% Male', 0.0)\n",
            "('Population density', 0.0)\n",
            "('Employment density', 0.0)\n",
            "('# hot spots/1000 people', 0.0)\n",
            "('Hospital beds/1000 people', 0.0)\n",
            "('ICUs/1000 people', 0.0)\n",
            "('# contact tracing workers/1000 people rank', 0.0)\n",
            "('% people older than 60 rank', 0.0)\n",
            "('COVID exposure/1000 people', 0.0)\n",
            "('Unemployment claims/1000 people', 0.0)\n",
            "('Unemployment rate', 0.0)\n",
            "('% working from home', 0.0)\n",
            "('Cumulative inflation rate', 0.0)\n",
            "('% hospital bed utilization', 0.0)\n",
            "('Testing capacity', 0.0)\n",
            "('Tests done/1000 people', 0.0)\n",
            "('% ICU utilization', 0.0)\n",
            "('Ventilator shortage', 0.0)\n",
            "\n",
            "Features with ranking:\n",
            "\n",
            "mask_rule_active 31\n",
            "Social distancing index 30\n",
            "% staying home 29\n",
            "Trips/person 28\n",
            "% out-of-county trips 27\n",
            "% out-of-state trips 26\n",
            "Miles/person 25\n",
            "Work trips/person 24\n",
            "Non-work trips/person 23\n",
            "% change in consumption 22\n",
            "Transit mode share 21\n",
            "% people older than 60 20\n",
            "Median income 19\n",
            "% African Americans 18\n",
            "% Hispanic Americans 17\n",
            "% Male 16\n",
            "Population density 15\n",
            "Employment density 14\n",
            "# hot spots/1000 people 13\n",
            "Hospital beds/1000 people 12\n",
            "ICUs/1000 people 11\n",
            "# contact tracing workers/1000 people rank 10\n",
            "% people older than 60 rank 9\n",
            "COVID exposure/1000 people 8\n",
            "Unemployment claims/1000 people 7\n",
            "Unemployment rate 6\n",
            "% working from home 5\n",
            "Cumulative inflation rate 4\n",
            "% hospital bed utilization 3\n",
            "Testing capacity 2\n",
            "Tests done/1000 people 1\n",
            "% ICU utilization 1\n",
            "Ventilator shortage 1\n"
          ],
          "name": "stdout"
        }
      ]
    },
    {
      "cell_type": "markdown",
      "metadata": {
        "id": "K2Pwl2ck2Ayn"
      },
      "source": [
        "### Label 3: mild decrement"
      ]
    },
    {
      "cell_type": "code",
      "metadata": {
        "id": "HEIrYFS42C75",
        "outputId": "d032dd0a-8c6e-4153-8468-774cd954d2ef",
        "colab": {
          "base_uri": "https://localhost:8080/",
          "height": 1000
        }
      },
      "source": [
        "\n",
        "print(\"** Printing San Bernardino county data for mild increment ** \")\n",
        "print(CA_inertia_labeled_data_growth3.shape)\n",
        "X = CA_inertia_labeled_data_growth3[inertia_feature_labels]\n",
        "y = CA_inertia_labeled_data_growth3[inertia_target_column]\n",
        "\n",
        "X_train, X_test, y_train, y_test = train_test_split(X, y, test_size=0.4, random_state=0)\n",
        "\n",
        "\n",
        "# Create a random forest classifier\n",
        "clf = RandomForestClassifier(n_estimators=10000, random_state=0, n_jobs=-1)\n",
        "\n",
        "# Train the classifier\n",
        "clf.fit(X_train, y_train)\n",
        "\n",
        "# Print the name and gini importance of each feature\n",
        "for feature in zip(feature_labels, clf.feature_importances_):\n",
        "    print(feature)\n",
        "\n",
        "\n",
        "\n",
        "#  Supported criteria are “gini” for the Gini impurity and “entropy” for the information gain. \n",
        "\n",
        "clf = RandomForestClassifier(n_estimators=10000, random_state=0,criterion='entropy', n_jobs=-1)\n",
        "\n",
        "# Train the classifier\n",
        "clf.fit(X_train, y_train)\n",
        "\n",
        "# Print the name and gini importance of each feature\n",
        "for feature in zip(inertia_feature_labels, clf.feature_importances_):\n",
        "    print(feature)\n",
        "\n",
        "\n",
        "model = ExtraTreesClassifier()\n",
        "model.fit(X, y.values.ravel())\n",
        "# display the relative importance of each attribute\n",
        "#print(model.feature_importances_)\n",
        "\n",
        "\n",
        "# create the RFE model \n",
        "rfe = RFE(model, 3)\n",
        "rfe = rfe.fit(X, y.values.ravel())\n",
        "# summarize the selection of the attributes\n",
        "#print(rfe.support_)\n",
        "\n",
        "print(\"\\nFeatures with ranking:\\n\")\n",
        "for index in range(len(rfe.ranking_)):\n",
        "  print(inertia_feature_labels[index], rfe.ranking_[index])\n",
        "\n",
        "# for index in range(len(rfe.ranking_)):\n",
        "#   print( rfe.ranking_[index])\n",
        "#print(rfe.ranking_)\n",
        "#print(rfe.n_features_)\n",
        "#rfe.n_features_to_select\n"
      ],
      "execution_count": 199,
      "outputs": [
        {
          "output_type": "stream",
          "text": [
            "** Printing San Bernardino county data for mild increment ** \n",
            "(5671, 55)\n"
          ],
          "name": "stdout"
        },
        {
          "output_type": "stream",
          "text": [
            "/usr/local/lib/python3.6/dist-packages/ipykernel_launcher.py:14: DataConversionWarning: A column-vector y was passed when a 1d array was expected. Please change the shape of y to (n_samples,), for example using ravel().\n",
            "  \n"
          ],
          "name": "stderr"
        },
        {
          "output_type": "stream",
          "text": [
            "('mask_rule_active', 0.0)\n",
            "('Social distancing index', 0.0)\n",
            "('% staying home', 0.0)\n",
            "('Trips/person', 0.0)\n",
            "('% out-of-county trips', 0.0)\n",
            "('% out-of-state trips', 0.0)\n",
            "('Miles/person', 0.0)\n",
            "('Work trips/person', 0.0)\n",
            "('Non-work trips/person', 0.0)\n",
            "('% change in consumption', 0.0)\n",
            "('Transit mode share', 0.0)\n",
            "('% people older than 60', 0.0)\n",
            "('Median income', 0.0)\n",
            "('% African Americans', 0.0)\n",
            "('% Hispanic Americans', 0.0)\n",
            "('% Male', 0.0)\n",
            "('Population density', 0.0)\n",
            "('Employment density', 0.0)\n",
            "('# hot spots/1000 people', 0.0)\n",
            "('Hospital beds/1000 people', 0.0)\n",
            "('ICUs/1000 people', 0.0)\n",
            "('# contact tracing workers/1000 people rank', 0.0)\n",
            "('% people older than 60 rank', 0.0)\n",
            "('COVID exposure/1000 people', 0.0)\n",
            "('Unemployment claims/1000 people', 0.0)\n",
            "('Unemployment rate', 0.0)\n",
            "('% working from home', 0.0)\n",
            "('Cumulative inflation rate', 0.0)\n",
            "('% hospital bed utilization', 0.0)\n",
            "('Testing capacity', 0.0)\n",
            "('Tests done/1000 people', 0.0)\n",
            "('% ICU utilization', 0.0)\n",
            "('Ventilator shortage', 0.0)\n"
          ],
          "name": "stdout"
        },
        {
          "output_type": "stream",
          "text": [
            "/usr/local/lib/python3.6/dist-packages/ipykernel_launcher.py:27: DataConversionWarning: A column-vector y was passed when a 1d array was expected. Please change the shape of y to (n_samples,), for example using ravel().\n"
          ],
          "name": "stderr"
        },
        {
          "output_type": "stream",
          "text": [
            "('mask_rule_active', 0.0)\n",
            "('Social distancing index', 0.0)\n",
            "('% staying home', 0.0)\n",
            "('Trips/person', 0.0)\n",
            "('% out-of-county trips', 0.0)\n",
            "('% out-of-state trips', 0.0)\n",
            "('Miles/person', 0.0)\n",
            "('Work trips/person', 0.0)\n",
            "('Non-work trips/person', 0.0)\n",
            "('% change in consumption', 0.0)\n",
            "('Transit mode share', 0.0)\n",
            "('% people older than 60', 0.0)\n",
            "('Median income', 0.0)\n",
            "('% African Americans', 0.0)\n",
            "('% Hispanic Americans', 0.0)\n",
            "('% Male', 0.0)\n",
            "('Population density', 0.0)\n",
            "('Employment density', 0.0)\n",
            "('# hot spots/1000 people', 0.0)\n",
            "('Hospital beds/1000 people', 0.0)\n",
            "('ICUs/1000 people', 0.0)\n",
            "('# contact tracing workers/1000 people rank', 0.0)\n",
            "('% people older than 60 rank', 0.0)\n",
            "('COVID exposure/1000 people', 0.0)\n",
            "('Unemployment claims/1000 people', 0.0)\n",
            "('Unemployment rate', 0.0)\n",
            "('% working from home', 0.0)\n",
            "('Cumulative inflation rate', 0.0)\n",
            "('% hospital bed utilization', 0.0)\n",
            "('Testing capacity', 0.0)\n",
            "('Tests done/1000 people', 0.0)\n",
            "('% ICU utilization', 0.0)\n",
            "('Ventilator shortage', 0.0)\n",
            "\n",
            "Features with ranking:\n",
            "\n",
            "mask_rule_active 31\n",
            "Social distancing index 30\n",
            "% staying home 29\n",
            "Trips/person 28\n",
            "% out-of-county trips 27\n",
            "% out-of-state trips 26\n",
            "Miles/person 25\n",
            "Work trips/person 24\n",
            "Non-work trips/person 23\n",
            "% change in consumption 22\n",
            "Transit mode share 21\n",
            "% people older than 60 20\n",
            "Median income 19\n",
            "% African Americans 18\n",
            "% Hispanic Americans 17\n",
            "% Male 16\n",
            "Population density 15\n",
            "Employment density 14\n",
            "# hot spots/1000 people 13\n",
            "Hospital beds/1000 people 12\n",
            "ICUs/1000 people 11\n",
            "# contact tracing workers/1000 people rank 10\n",
            "% people older than 60 rank 9\n",
            "COVID exposure/1000 people 8\n",
            "Unemployment claims/1000 people 7\n",
            "Unemployment rate 6\n",
            "% working from home 5\n",
            "Cumulative inflation rate 4\n",
            "% hospital bed utilization 3\n",
            "Testing capacity 2\n",
            "Tests done/1000 people 1\n",
            "% ICU utilization 1\n",
            "Ventilator shortage 1\n"
          ],
          "name": "stdout"
        }
      ]
    },
    {
      "cell_type": "markdown",
      "metadata": {
        "id": "xSYjjeRy2DrZ"
      },
      "source": [
        "### Label 4: mild increment << NO DATA >>"
      ]
    },
    {
      "cell_type": "markdown",
      "metadata": {
        "id": "8_mHxrLB3jZl"
      },
      "source": [
        "# RUN BEFORE this cell only "
      ]
    },
    {
      "cell_type": "code",
      "metadata": {
        "id": "jHf5BPt_3g9d"
      },
      "source": [
        "print(\"Run before this cell \")"
      ],
      "execution_count": null,
      "outputs": []
    },
    {
      "cell_type": "markdown",
      "metadata": {
        "id": "Uy2qVlSx3oWf"
      },
      "source": [
        "# UNUSED"
      ]
    },
    {
      "cell_type": "markdown",
      "metadata": {
        "id": "GFQjBiuhlzE3"
      },
      "source": [
        "# Selecting three counties in CA\n",
        "* Los Angeles\n",
        "* Riverside\n",
        "* San Bernardino"
      ]
    },
    {
      "cell_type": "markdown",
      "metadata": {
        "id": "CmlAQssCokk1"
      },
      "source": [
        "### Filtered data for county - From Combined Dataset"
      ]
    },
    {
      "cell_type": "code",
      "metadata": {
        "id": "ih0kX50lnoa1",
        "outputId": "de8d02b8-dac3-4642-a729-d7f98dcbc625",
        "colab": {
          "base_uri": "https://localhost:8080/",
          "height": 69
        }
      },
      "source": [
        "la_county_data = CA_labeled_data[CA_labeled_data['County Name'] == 'Los Angeles County']\n",
        "Westchester_county_data = CA_labeled_data[CA_labeled_data['County Name'] == 'Riverside County']\n",
        "Suffolk_county_data = CA_labeled_data[CA_labeled_data['County Name'] == 'San Bernardino County']\n",
        "\n",
        "print(' Nassau county data ',la_county_data.shape)\n",
        "print(' Westchester county data ',Westchester_county_data.shape)\n",
        "print(' Suffolk county data ',Suffolk_county_data.shape)"
      ],
      "execution_count": 119,
      "outputs": [
        {
          "output_type": "stream",
          "text": [
            " Nassau county data  (172, 20)\n",
            " Westchester county data  (172, 20)\n",
            " Suffolk county data  (172, 20)\n"
          ],
          "name": "stdout"
        }
      ]
    },
    {
      "cell_type": "markdown",
      "metadata": {
        "id": "LdNV4ruJpcWF"
      },
      "source": [
        "# Note about growth label\n",
        "\n",
        "growth_code| label\n",
        "----|----\n",
        " 0 | drastic decrement\n",
        " 1 | drastic growth\n",
        " 2 | flat\n",
        " 3 | mild decrement\n",
        " 4 | mild increment\n",
        "\n",
        "\n",
        "\n"
      ]
    },
    {
      "cell_type": "markdown",
      "metadata": {
        "id": "CHT_tjaLy-LP"
      },
      "source": [
        "## LA County"
      ]
    },
    {
      "cell_type": "code",
      "metadata": {
        "id": "0iUouFZVo7Tv",
        "outputId": "498a2a0d-2fd7-40de-e1a3-ddbbca6d339f",
        "colab": {
          "base_uri": "https://localhost:8080/",
          "height": 304
        }
      },
      "source": [
        "feature_labels = ['retail and recreation','grocery and pharmacy','parks','transit stations','workplaces','residential','driving','m50','m50_index',\n",
        "               'population_density','mask_rule_active']\n",
        "\n",
        "target_column = ['growth_code']\n",
        "\n",
        "print(la_county_data['growth_code'].unique())\n",
        "\n",
        "Nassau_county_data_growth0 = Nassau_county_data[Nassau_county_data['growth_code'] == 0]\n",
        "Nassau_county_data_growth1 = Nassau_county_data[Nassau_county_data['growth_code'] == 1]\n",
        "Nassau_county_data_growth2 = Nassau_county_data[Nassau_county_data['growth_code'] == 2]\n",
        "Nassau_county_data_growth3 = Nassau_county_data[Nassau_county_data['growth_code'] == 3]\n",
        "Nassau_county_data_growth4 = Nassau_county_data[Nassau_county_data['growth_code'] == 4]\n",
        "\n",
        "print(Nassau_county_data_growth0.shape)\n",
        "print(Nassau_county_data_growth1.shape)\n",
        "print(Nassau_county_data_growth2.shape)\n",
        "print(Nassau_county_data_growth3.shape)\n",
        "print(Nassau_county_data_growth4.shape)"
      ],
      "execution_count": 120,
      "outputs": [
        {
          "output_type": "stream",
          "text": [
            "[2 3 1 0 4]\n"
          ],
          "name": "stdout"
        },
        {
          "output_type": "error",
          "ename": "NameError",
          "evalue": "ignored",
          "traceback": [
            "\u001b[0;31m---------------------------------------------------------------------------\u001b[0m",
            "\u001b[0;31mNameError\u001b[0m                                 Traceback (most recent call last)",
            "\u001b[0;32m<ipython-input-120-9fe8c30122ab>\u001b[0m in \u001b[0;36m<module>\u001b[0;34m()\u001b[0m\n\u001b[1;32m      6\u001b[0m \u001b[0mprint\u001b[0m\u001b[0;34m(\u001b[0m\u001b[0mla_county_data\u001b[0m\u001b[0;34m[\u001b[0m\u001b[0;34m'growth_code'\u001b[0m\u001b[0;34m]\u001b[0m\u001b[0;34m.\u001b[0m\u001b[0munique\u001b[0m\u001b[0;34m(\u001b[0m\u001b[0;34m)\u001b[0m\u001b[0;34m)\u001b[0m\u001b[0;34m\u001b[0m\u001b[0;34m\u001b[0m\u001b[0m\n\u001b[1;32m      7\u001b[0m \u001b[0;34m\u001b[0m\u001b[0m\n\u001b[0;32m----> 8\u001b[0;31m \u001b[0mNassau_county_data_growth0\u001b[0m \u001b[0;34m=\u001b[0m \u001b[0mNassau_county_data\u001b[0m\u001b[0;34m[\u001b[0m\u001b[0mNassau_county_data\u001b[0m\u001b[0;34m[\u001b[0m\u001b[0;34m'growth_code'\u001b[0m\u001b[0;34m]\u001b[0m \u001b[0;34m==\u001b[0m \u001b[0;36m0\u001b[0m\u001b[0;34m]\u001b[0m\u001b[0;34m\u001b[0m\u001b[0;34m\u001b[0m\u001b[0m\n\u001b[0m\u001b[1;32m      9\u001b[0m \u001b[0mNassau_county_data_growth1\u001b[0m \u001b[0;34m=\u001b[0m \u001b[0mNassau_county_data\u001b[0m\u001b[0;34m[\u001b[0m\u001b[0mNassau_county_data\u001b[0m\u001b[0;34m[\u001b[0m\u001b[0;34m'growth_code'\u001b[0m\u001b[0;34m]\u001b[0m \u001b[0;34m==\u001b[0m \u001b[0;36m1\u001b[0m\u001b[0;34m]\u001b[0m\u001b[0;34m\u001b[0m\u001b[0;34m\u001b[0m\u001b[0m\n\u001b[1;32m     10\u001b[0m \u001b[0mNassau_county_data_growth2\u001b[0m \u001b[0;34m=\u001b[0m \u001b[0mNassau_county_data\u001b[0m\u001b[0;34m[\u001b[0m\u001b[0mNassau_county_data\u001b[0m\u001b[0;34m[\u001b[0m\u001b[0;34m'growth_code'\u001b[0m\u001b[0;34m]\u001b[0m \u001b[0;34m==\u001b[0m \u001b[0;36m2\u001b[0m\u001b[0;34m]\u001b[0m\u001b[0;34m\u001b[0m\u001b[0;34m\u001b[0m\u001b[0m\n",
            "\u001b[0;31mNameError\u001b[0m: name 'Nassau_county_data' is not defined"
          ]
        }
      ]
    },
    {
      "cell_type": "code",
      "metadata": {
        "id": "IhHARRTts6bl"
      },
      "source": [
        "CA_inertia_labeled_data.head()"
      ],
      "execution_count": null,
      "outputs": []
    },
    {
      "cell_type": "markdown",
      "metadata": {
        "id": "lQm7s7zWq_cY"
      },
      "source": [
        "## 1.Drastic Decrement"
      ]
    },
    {
      "cell_type": "code",
      "metadata": {
        "id": "-qCwy-3n9glz"
      },
      "source": [
        "from sklearn.ensemble import RandomForestRegressor\n",
        "print(\"** Printing Los Angeles county data for drastic decrement ** \")\n",
        "\n",
        "X = CA_inertia_labeled_data_growth0[iner]\n",
        "y = CA_inertia_labeled_data_growth0[target_column]\n",
        "print(X.shape)\n",
        "\n",
        "X_train, X_test, y_train, y_test = train_test_split(X, y, test_size=0.4, random_state=0)\n",
        "\n",
        "\n",
        "# Create a random forest classifier\n",
        "clf = RandomForestClassifier(n_estimators=10000, random_state=0, n_jobs=-1)\n",
        "\n",
        "# Train the classifier\n",
        "clf.fit(X_train, y_train)\n",
        "\n",
        "# Print the name and gini importance of each feature\n",
        "for feature in zip(feature_labels, clf.feature_importances_):\n",
        "    print(feature)\n",
        "\n",
        "\n",
        "\n",
        "#  Supported criteria are “gini” for the Gini impurity and “entropy” for the information gain. \n",
        "\n",
        "clf = RandomForestClassifier(n_estimators=10000, random_state=0,criterion='entropy',min_samples_leaf=5, n_jobs=-1)\n",
        "\n",
        "\n",
        "# Train the classifier\n",
        "clf.fit(X_train, y_train)\n",
        "\n",
        "# Print the name and gini importance of each feature\n",
        "for feature in zip(feature_labels, clf.feature_importances_):\n",
        "    print(feature)\n",
        "\n",
        "#print(sorted(zip(clf.feature_importances_, feature_labels), reverse=True))"
      ],
      "execution_count": null,
      "outputs": []
    },
    {
      "cell_type": "markdown",
      "metadata": {
        "id": "y_eRc0Ne-Tyo"
      },
      "source": [
        "## 2.Drastic Growth"
      ]
    },
    {
      "cell_type": "code",
      "metadata": {
        "id": "qxeItEjurTri"
      },
      "source": [
        "print(\"** Printing Los Angeles county data for drastic growth ** \")\n",
        "\n",
        "X = la_county_data_growth1[feature_labels]\n",
        "y = la_county_data_growth1[target_column]\n",
        "print(X.shape)\n",
        "\n",
        "X_train, X_test, y_train, y_test = train_test_split(X, y, test_size=0.4, random_state=0)\n",
        "\n",
        "\n",
        "# Create a random forest classifier\n",
        "clf = RandomForestClassifier(n_estimators=10000, random_state=0, n_jobs=-1)\n",
        "\n",
        "# Train the classifier\n",
        "clf.fit(X_train, y_train)\n",
        "\n",
        "# Print the name and gini importance of each feature\n",
        "for feature in zip(feature_labels, clf.feature_importances_):\n",
        "    print(feature)\n",
        "\n",
        "\n",
        "\n",
        "#  Supported criteria are “gini” for the Gini impurity and “entropy” for the information gain. \n",
        "\n",
        "clf = RandomForestClassifier(n_estimators=10000, random_state=0,criterion='entropy', n_jobs=-1)\n",
        "\n",
        "# Train the classifier\n",
        "clf.fit(X_train, y_train)\n",
        "\n",
        "# Print the name and gini importance of each feature\n",
        "for feature in zip(feature_labels, clf.feature_importances_):\n",
        "    print(feature)\n"
      ],
      "execution_count": null,
      "outputs": []
    },
    {
      "cell_type": "markdown",
      "metadata": {
        "id": "xjvQguTv-bct"
      },
      "source": [
        "## 3.Flat Growth"
      ]
    },
    {
      "cell_type": "code",
      "metadata": {
        "id": "fOgGiAfVr-eN"
      },
      "source": [
        "print(\"** Printing Los Angeles county data for flat growth ** \")\n",
        "\n",
        "X = la_county_data_growth2[feature_labels]\n",
        "y = la_county_data_growth2[target_column]\n",
        "\n",
        "X_train, X_test, y_train, y_test = train_test_split(X, y, test_size=0.4, random_state=0)\n",
        "\n",
        "\n",
        "# Create a random forest classifier\n",
        "clf = RandomForestClassifier(n_estimators=10000, random_state=0, n_jobs=-1)\n",
        "\n",
        "# Train the classifier\n",
        "clf.fit(X_train, y_train)\n",
        "\n",
        "# Print the name and gini importance of each feature\n",
        "for feature in zip(feature_labels, clf.feature_importances_):\n",
        "    print(feature)\n",
        "\n",
        "\n",
        "\n",
        "#  Supported criteria are “gini” for the Gini impurity and “entropy” for the information gain. \n",
        "\n",
        "clf = RandomForestClassifier(n_estimators=10000, random_state=0,criterion='entropy', n_jobs=-1)\n",
        "\n",
        "# Train the classifier\n",
        "clf.fit(X_train, y_train)\n",
        "\n",
        "# Print the name and gini importance of each feature\n",
        "for feature in zip(feature_labels, clf.feature_importances_):\n",
        "    print(feature)\n"
      ],
      "execution_count": null,
      "outputs": []
    },
    {
      "cell_type": "markdown",
      "metadata": {
        "id": "v0z1roc7-sRQ"
      },
      "source": [
        "## 4.Mild Decrement"
      ]
    },
    {
      "cell_type": "code",
      "metadata": {
        "id": "vHc18U_Yr_TQ"
      },
      "source": [
        "print(\"** Printing Los Angeles county data for mild decrement ** \")\n",
        "\n",
        "X = la_county_data_growth3[feature_labels]\n",
        "y = la_county_data_growth3[target_column]\n",
        "\n",
        "X_train, X_test, y_train, y_test = train_test_split(X, y, test_size=0.4, random_state=0)\n",
        "\n",
        "\n",
        "# Create a random forest classifier\n",
        "clf = RandomForestClassifier(n_estimators=10000, random_state=0, n_jobs=-1)\n",
        "\n",
        "# Train the classifier\n",
        "clf.fit(X_train, y_train)\n",
        "\n",
        "# Print the name and gini importance of each feature\n",
        "for feature in zip(feature_labels, clf.feature_importances_):\n",
        "    print(feature)\n",
        "\n",
        "\n",
        "\n",
        "#  Supported criteria are “gini” for the Gini impurity and “entropy” for the information gain. \n",
        "\n",
        "clf = RandomForestClassifier(n_estimators=10000, random_state=0,criterion='entropy', n_jobs=-1)\n",
        "\n",
        "# Train the classifier\n",
        "clf.fit(X_train, y_train)\n",
        "\n",
        "# Print the name and gini importance of each feature\n",
        "for feature in zip(feature_labels, clf.feature_importances_):\n",
        "    print(feature)\n"
      ],
      "execution_count": null,
      "outputs": []
    },
    {
      "cell_type": "markdown",
      "metadata": {
        "id": "M4zS3LJT-2GF"
      },
      "source": [
        "## 5.Mild Increment"
      ]
    },
    {
      "cell_type": "code",
      "metadata": {
        "id": "9p-MEfVVr_80"
      },
      "source": [
        "print(\"** Printing Los Angeles county data for mild increment ** \")\n",
        "\n",
        "X = la_county_data_growth4[feature_labels]\n",
        "y = la_county_data_growth4[target_column]\n",
        "\n",
        "X_train, X_test, y_train, y_test = train_test_split(X, y, test_size=0.4, random_state=0)\n",
        "\n",
        "\n",
        "# Create a random forest classifier\n",
        "clf = RandomForestClassifier(n_estimators=10000, random_state=0, n_jobs=-1)\n",
        "\n",
        "# Train the classifier\n",
        "clf.fit(X_train, y_train)\n",
        "\n",
        "# Print the name and gini importance of each feature\n",
        "for feature in zip(feature_labels, clf.feature_importances_):\n",
        "    print(feature)\n",
        "\n",
        "\n",
        "\n",
        "#  Supported criteria are “gini” for the Gini impurity and “entropy” for the information gain. \n",
        "\n",
        "clf = RandomForestClassifier(n_estimators=10000, random_state=0,criterion='entropy', n_jobs=-1)\n",
        "\n",
        "# Train the classifier\n",
        "clf.fit(X_train, y_train)\n",
        "\n",
        "# Print the name and gini importance of each feature\n",
        "for feature in zip(feature_labels, clf.feature_importances_):\n",
        "    print(feature)\n"
      ],
      "execution_count": null,
      "outputs": []
    },
    {
      "cell_type": "markdown",
      "metadata": {
        "id": "V3iG473ouCfD"
      },
      "source": [
        "## Correlation map"
      ]
    },
    {
      "cell_type": "code",
      "metadata": {
        "id": "KiDL-frruEns"
      },
      "source": [
        "\n",
        "\n",
        "# Correlation\n",
        "\n",
        "corr = la_county_data.corr()\n",
        "g = sns.heatmap(corr, vmax=.9, center=0,\n",
        "               square=True, linewidths=1.5, cbar_kws={\"shrink\": .8}, annot=True, fmt='.2f', cmap='coolwarm')\n",
        "bottom, top = g.get_ylim()\n",
        "g.set_ylim(bottom + 0.5, top - 0.5)\n",
        "sns.despine()\n",
        "g.figure.set_size_inches(16, 10)"
      ],
      "execution_count": null,
      "outputs": []
    },
    {
      "cell_type": "markdown",
      "metadata": {
        "id": "YI-QYT9QJynf"
      },
      "source": [
        "# Feature Importance: Using ExtraTreesClassifier"
      ]
    },
    {
      "cell_type": "code",
      "metadata": {
        "id": "g5U5OO9zLbqe"
      },
      "source": [
        ""
      ],
      "execution_count": null,
      "outputs": []
    },
    {
      "cell_type": "markdown",
      "metadata": {
        "id": "BhssRhQpKAnL"
      },
      "source": [
        "## 1.CA Combined Data"
      ]
    },
    {
      "cell_type": "code",
      "metadata": {
        "id": "tn548-Kl2HGI"
      },
      "source": [
        "pd.unique(CA_labeled_data[['growth_label', 'growth_code']].values.ravel())"
      ],
      "execution_count": null,
      "outputs": []
    },
    {
      "cell_type": "code",
      "metadata": {
        "id": "UIq3DsMDiFAk"
      },
      "source": [
        "feature_labels = ['retail and recreation','grocery and pharmacy','parks','transit stations','workplaces','residential','driving','m50','m50_index',\n",
        "               'population_density','mask_rule_active']\n",
        "\n",
        "target_column = ['growth_code']"
      ],
      "execution_count": null,
      "outputs": []
    },
    {
      "cell_type": "code",
      "metadata": {
        "id": "ntuwYT63KQuT"
      },
      "source": [
        "CA_labeled_data_growth0 = CA_labeled_data[CA_labeled_data['growth_code'] == 0]\n",
        "CA_labeled_data_growth1 = CA_labeled_data[CA_labeled_data['growth_code'] == 1]\n",
        "CA_labeled_data_growth2 = CA_labeled_data[CA_labeled_data['growth_code'] == 2]\n",
        "CA_labeled_data_growth3 = CA_labeled_data[CA_labeled_data['growth_code'] == 3]\n",
        "CA_labeled_data_growth4 = CA_labeled_data[CA_labeled_data['growth_code'] == 4]\n",
        "\n",
        "print(CA_labeled_data_growth0.shape)\n",
        "print(CA_labeled_data_growth1.shape)\n",
        "print(CA_labeled_data_growth2.shape)\n",
        "print(CA_labeled_data_growth3.shape)\n",
        "print(CA_labeled_data_growth4.shape)"
      ],
      "execution_count": null,
      "outputs": []
    },
    {
      "cell_type": "markdown",
      "metadata": {
        "id": "Kud0wcE4Ke0y"
      },
      "source": [
        "### 1.1 Label 0 : Drastic Decrement"
      ]
    },
    {
      "cell_type": "code",
      "metadata": {
        "id": "glcc7GJyL6fj"
      },
      "source": [
        "\n",
        "print(\"** Printing CA all county data for Drastic Decrement ** \")\n",
        "print(CA_labeled_data_growth0.shape)\n",
        "X = CA_labeled_data_growth0[feature_labels]\n",
        "y = CA_labeled_data_growth0[target_column]\n",
        "\n",
        "X_train, X_test, y_train, y_test = train_test_split(X, y, test_size=0.4, random_state=0)\n",
        "\n",
        "\n",
        "# Create a random forest classifier\n",
        "clf = RandomForestClassifier(n_estimators=10000, random_state=0, n_jobs=-1)\n",
        "\n",
        "# Train the classifier\n",
        "clf.fit(X_train, y_train)\n",
        "\n",
        "# Print the name and gini importance of each feature\n",
        "for feature in zip(feature_labels, clf.feature_importances_):\n",
        "    print(feature)\n",
        "\n",
        "\n",
        "\n",
        "#  Supported criteria are “gini” for the Gini impurity and “entropy” for the information gain. \n",
        "\n",
        "clf = RandomForestClassifier(n_estimators=10000, random_state=0,criterion='entropy', n_jobs=-1)\n",
        "\n",
        "# Train the classifier\n",
        "clf.fit(X_train, y_train)\n",
        "\n",
        "# Print the name and gini importance of each feature\n",
        "for feature in zip(feature_labels, clf.feature_importances_):\n",
        "    print(feature)\n",
        "\n",
        "\n",
        "model = ExtraTreesClassifier()\n",
        "model.fit(X, y.values.ravel())\n",
        "# display the relative importance of each attribute\n",
        "#print(model.feature_importances_)\n",
        "\n",
        "\n",
        "# create the RFE model \n",
        "rfe = RFE(model, 3)\n",
        "rfe = rfe.fit(X, y.values.ravel())\n",
        "# summarize the selection of the attributes\n",
        "#print(rfe.support_)\n",
        "\n",
        "print(\"\\nFeatures with ranking:\\n\")\n",
        "for index in range(len(rfe.ranking_)):\n",
        "  print(feature_labels[index], rfe.ranking_[index])\n",
        "\n",
        "for index in range(len(rfe.ranking_)):\n",
        "  print( rfe.ranking_[index])\n",
        "#print(rfe.ranking_)\n",
        "#print(rfe.n_features_)\n",
        "#rfe.n_features_to_select\n"
      ],
      "execution_count": null,
      "outputs": []
    },
    {
      "cell_type": "markdown",
      "metadata": {
        "id": "XrkKktcbN0Kn"
      },
      "source": [
        "### 1.2 Label 1 : Drastic Growth"
      ]
    },
    {
      "cell_type": "code",
      "metadata": {
        "id": "z4n1qk_xN0K8"
      },
      "source": [
        "\n",
        "print(\"** Printing CA all county data for Drastic Growth ** \")\n",
        "print(CA_labeled_data_growth1.shape)\n",
        "X = CA_labeled_data_growth1[feature_labels]\n",
        "y = CA_labeled_data_growth1[target_column]\n",
        "\n",
        "X_train, X_test, y_train, y_test = train_test_split(X, y, test_size=0.4, random_state=0)\n",
        "\n",
        "\n",
        "# Create a random forest classifier\n",
        "clf = RandomForestClassifier(n_estimators=10000, random_state=0, n_jobs=-1)\n",
        "\n",
        "# Train the classifier\n",
        "clf.fit(X_train, y_train)\n",
        "\n",
        "# Print the name and gini importance of each feature\n",
        "for feature in zip(feature_labels, clf.feature_importances_):\n",
        "    print(feature)\n",
        "\n",
        "\n",
        "\n",
        "#  Supported criteria are “gini” for the Gini impurity and “entropy” for the information gain. \n",
        "\n",
        "clf = RandomForestClassifier(n_estimators=10000, random_state=0,criterion='entropy', n_jobs=-1)\n",
        "\n",
        "# Train the classifier\n",
        "clf.fit(X_train, y_train)\n",
        "\n",
        "# Print the name and gini importance of each feature\n",
        "for feature in zip(feature_labels, clf.feature_importances_):\n",
        "    print(feature)\n",
        "\n",
        "\n",
        "model = ExtraTreesClassifier()\n",
        "model.fit(X, y.values.ravel())\n",
        "# display the relative importance of each attribute\n",
        "#print(model.feature_importances_)\n",
        "\n",
        "\n",
        "# create the RFE model \n",
        "rfe = RFE(model, 3)\n",
        "rfe = rfe.fit(X, y.values.ravel())\n",
        "# summarize the selection of the attributes\n",
        "#print(rfe.support_)\n",
        "print(\"\\n*****************************************\")\n",
        "print(\"** Printing CA all county data for Drastic Growth ** \")\n",
        "print(\"\\nFeatures with ranking:\\n\")\n",
        "for index in range(len(rfe.ranking_)):\n",
        "  print(feature_labels[index], rfe.ranking_[index])\n",
        "\n",
        "for index in range(len(rfe.ranking_)):\n",
        "  print( rfe.ranking_[index])\n",
        "#print(rfe.ranking_)\n",
        "#print(rfe.n_features_)\n",
        "#rfe.n_features_to_select\n"
      ],
      "execution_count": null,
      "outputs": []
    },
    {
      "cell_type": "markdown",
      "metadata": {
        "id": "ImMtEtHCPX9V"
      },
      "source": [
        "### 1.3 Label 2 : Flat Growth"
      ]
    },
    {
      "cell_type": "code",
      "metadata": {
        "id": "hQOh156MPX9q"
      },
      "source": [
        "\n",
        "print(\"** Printing CA all county data for Flat Growth ** \")\n",
        "print(CA_labeled_data_growth2.shape)\n",
        "X = CA_labeled_data_growth2[feature_labels]\n",
        "y = CA_labeled_data_growth2[target_column]\n",
        "\n",
        "X_train, X_test, y_train, y_test = train_test_split(X, y, test_size=0.4, random_state=0)\n",
        "\n",
        "\n",
        "# Create a random forest classifier\n",
        "clf = RandomForestClassifier(n_estimators=10000, random_state=0, n_jobs=-1)\n",
        "\n",
        "# Train the classifier\n",
        "clf.fit(X_train, y_train)\n",
        "\n",
        "# Print the name and gini importance of each feature\n",
        "for feature in zip(feature_labels, clf.feature_importances_):\n",
        "    print(feature)\n",
        "\n",
        "\n",
        "\n",
        "#  Supported criteria are “gini” for the Gini impurity and “entropy” for the information gain. \n",
        "\n",
        "clf = RandomForestClassifier(n_estimators=10000, random_state=0,criterion='entropy', n_jobs=-1)\n",
        "\n",
        "# Train the classifier\n",
        "clf.fit(X_train, y_train)\n",
        "\n",
        "# Print the name and gini importance of each feature\n",
        "for feature in zip(feature_labels, clf.feature_importances_):\n",
        "    print(feature)\n",
        "\n",
        "\n",
        "model = ExtraTreesClassifier()\n",
        "model.fit(X, y.values.ravel())\n",
        "# display the relative importance of each attribute\n",
        "#print(model.feature_importances_)\n",
        "\n",
        "\n",
        "# create the RFE model \n",
        "rfe = RFE(model, 3)\n",
        "rfe = rfe.fit(X, y.values.ravel())\n",
        "# summarize the selection of the attributes\n",
        "#print(rfe.support_)\n",
        "print(\"\\n*****************************************\")\n",
        "print(\"** Printing CA all county data for Flat Growth ** \")\n",
        "print(\"\\nFeatures with ranking:\\n\")\n",
        "for index in range(len(rfe.ranking_)):\n",
        "  print(feature_labels[index], rfe.ranking_[index])\n",
        "\n",
        "for index in range(len(rfe.ranking_)):\n",
        "  print( rfe.ranking_[index])\n",
        "#print(rfe.ranking_)\n",
        "#print(rfe.n_features_)\n",
        "#rfe.n_features_to_select\n"
      ],
      "execution_count": null,
      "outputs": []
    },
    {
      "cell_type": "markdown",
      "metadata": {
        "id": "wNgraqN2Piox"
      },
      "source": [
        "### 1.4 Label 3 : Mild Decrement"
      ]
    },
    {
      "cell_type": "code",
      "metadata": {
        "id": "hboyu6NoPipJ"
      },
      "source": [
        "\n",
        "print(\"** Printing CA all county data for Mild Decrement ** \")\n",
        "print(CA_labeled_data_growth3.shape)\n",
        "X = CA_labeled_data_growth3[feature_labels]\n",
        "y = CA_labeled_data_growth3[target_column]\n",
        "\n",
        "X_train, X_test, y_train, y_test = train_test_split(X, y, test_size=0.4, random_state=0)\n",
        "\n",
        "\n",
        "# Create a random forest classifier\n",
        "clf = RandomForestClassifier(n_estimators=10000, random_state=0, n_jobs=-1)\n",
        "\n",
        "# Train the classifier\n",
        "clf.fit(X_train, y_train)\n",
        "\n",
        "# Print the name and gini importance of each feature\n",
        "for feature in zip(feature_labels, clf.feature_importances_):\n",
        "    print(feature)\n",
        "\n",
        "\n",
        "\n",
        "#  Supported criteria are “gini” for the Gini impurity and “entropy” for the information gain. \n",
        "\n",
        "clf = RandomForestClassifier(n_estimators=10000, random_state=0,criterion='entropy', n_jobs=-1)\n",
        "\n",
        "# Train the classifier\n",
        "clf.fit(X_train, y_train)\n",
        "\n",
        "# Print the name and gini importance of each feature\n",
        "for feature in zip(feature_labels, clf.feature_importances_):\n",
        "    print(feature)\n",
        "\n",
        "\n",
        "model = ExtraTreesClassifier()\n",
        "model.fit(X, y.values.ravel())\n",
        "# display the relative importance of each attribute\n",
        "#print(model.feature_importances_)\n",
        "\n",
        "\n",
        "# create the RFE model \n",
        "rfe = RFE(model, 3)\n",
        "rfe = rfe.fit(X, y.values.ravel())\n",
        "# summarize the selection of the attributes\n",
        "#print(rfe.support_)\n",
        "print(\"\\n*****************************************\")\n",
        "print(\"** Printing CA all county data for Mild Decrement ** \")\n",
        "print(\"\\nFeatures with ranking:\\n\")\n",
        "for index in range(len(rfe.ranking_)):\n",
        "  print(feature_labels[index], rfe.ranking_[index])\n",
        "\n",
        "for index in range(len(rfe.ranking_)):\n",
        "  print( rfe.ranking_[index])\n",
        "#print(rfe.ranking_)\n",
        "#print(rfe.n_features_)\n",
        "#rfe.n_features_to_select\n"
      ],
      "execution_count": null,
      "outputs": []
    },
    {
      "cell_type": "markdown",
      "metadata": {
        "id": "FE1-lVb7P3Bt"
      },
      "source": [
        "### 1.5 Label 4 : Mild Increment"
      ]
    },
    {
      "cell_type": "code",
      "metadata": {
        "id": "797O6ngCP3Bx"
      },
      "source": [
        "print(\"** Printing CA all county data for Mild Increment ** \")\n",
        "print(CA_labeled_data_growth4.shape)\n",
        "X = CA_labeled_data_growth4[feature_labels]\n",
        "y = CA_labeled_data_growth4[target_column]\n",
        "\n",
        "X_train, X_test, y_train, y_test = train_test_split(X, y, test_size=0.4, random_state=0)\n",
        "\n",
        "\n",
        "# Create a random forest classifier\n",
        "clf = RandomForestClassifier(n_estimators=10000, random_state=0, n_jobs=-1)\n",
        "\n",
        "# Train the classifier\n",
        "clf.fit(X_train, y_train)\n",
        "\n",
        "# Print the name and gini importance of each feature\n",
        "for feature in zip(feature_labels, clf.feature_importances_):\n",
        "    print(feature)\n",
        "\n",
        "\n",
        "\n",
        "#  Supported criteria are “gini” for the Gini impurity and “entropy” for the information gain. \n",
        "\n",
        "clf = RandomForestClassifier(n_estimators=10000, random_state=0,criterion='entropy', n_jobs=-1)\n",
        "\n",
        "# Train the classifier\n",
        "clf.fit(X_train, y_train)\n",
        "\n",
        "# Print the name and gini importance of each feature\n",
        "for feature in zip(feature_labels, clf.feature_importances_):\n",
        "    print(feature)\n",
        "\n",
        "\n",
        "model = ExtraTreesClassifier()\n",
        "model.fit(X, y.values.ravel())\n",
        "# display the relative importance of each attribute\n",
        "#print(model.feature_importances_)\n",
        "\n",
        "\n",
        "# create the RFE model \n",
        "rfe = RFE(model, 3)\n",
        "rfe = rfe.fit(X, y.values.ravel())\n",
        "# summarize the selection of the attributes\n",
        "#print(rfe.support_)\n",
        "print(\"\\n*****************************************\")\n",
        "print(\"** Printing CA all county data for Mild Increment ** \")\n",
        "print(\"\\nFeatures with ranking:\\n\")\n",
        "for index in range(len(rfe.ranking_)):\n",
        "  print(feature_labels[index], rfe.ranking_[index])\n",
        "\n",
        "\n",
        "for index in range(len(rfe.ranking_)):\n",
        "  print( rfe.ranking_[index])\n",
        "print(rfe.ranking_)\n",
        "#print(rfe.n_features_)\n",
        "#rfe.n_features_to_select\n"
      ],
      "execution_count": null,
      "outputs": []
    },
    {
      "cell_type": "markdown",
      "metadata": {
        "id": "CHlWXNITRYrh"
      },
      "source": [
        "## 2.CA Maryland Inertia Data"
      ]
    },
    {
      "cell_type": "code",
      "metadata": {
        "id": "6nuQBn_v2DCJ"
      },
      "source": [
        "pd.unique(CA_inertia_labeled_data[['growth_label', 'growth_code']].values.ravel())"
      ],
      "execution_count": null,
      "outputs": []
    },
    {
      "cell_type": "code",
      "metadata": {
        "id": "U8nLQP1VRYr3"
      },
      "source": [
        "CA_inertia_labeled_data_growth0 = CA_inertia_labeled_data[CA_inertia_labeled_data['growth_code'] == 0]\n",
        "CA_inertia_labeled_data_growth1 = CA_inertia_labeled_data[CA_inertia_labeled_data['growth_code'] == 1]\n",
        "CA_inertia_labeled_data_growth2 = CA_inertia_labeled_data[CA_inertia_labeled_data['growth_code'] == 2]\n",
        "CA_inertia_labeled_data_growth3 = CA_inertia_labeled_data[CA_inertia_labeled_data['growth_code'] == 3]\n",
        "CA_inertia_labeled_data_growth4 = CA_inertia_labeled_data[CA_inertia_labeled_data['growth_code'] == 4]\n",
        "\n",
        "print(CA_inertia_labeled_data_growth0.shape)\n",
        "print(CA_inertia_labeled_data_growth1.shape)\n",
        "print(CA_inertia_labeled_data_growth2.shape)\n",
        "print(CA_inertia_labeled_data_growth3.shape)\n",
        "print(CA_inertia_labeled_data_growth4.shape)"
      ],
      "execution_count": null,
      "outputs": []
    },
    {
      "cell_type": "code",
      "metadata": {
        "id": "Z714MrhXS_6M"
      },
      "source": [
        "inertia_feature_labels = [ 'mask_rule_active',\n",
        "         'Social distancing index',\n",
        "       '% staying home', 'Trips/person', '% out-of-county trips',\n",
        "       '% out-of-state trips', 'Miles/person', 'Work trips/person',\n",
        "       'Non-work trips/person',  'Population',\n",
        "       '% change in consumption', 'Transit mode share',\n",
        "       '% people older than 60', 'Median income', '% African Americans',\n",
        "       '% Hispanic Americans', '% Male', 'Population density',\n",
        "       'Employment density', '# hot spots/1000 people',\n",
        "       'Hospital beds/1000 people', 'ICUs/1000 people',\n",
        "       '# contact tracing workers/1000 people',\n",
        "       '# contact tracing workers/1000 people rank',\n",
        "       '% people older than 60 rank', 'COVID exposure/1000 people',\n",
        "       'Unemployment claims/1000 people', 'Unemployment rate',\n",
        "       '% working from home', 'Cumulative inflation rate',\n",
        "       '% hospital bed utilization', 'Testing capacity',\n",
        "       'Tests done/1000 people', '% ICU utilization', 'Ventilator shortage']\n",
        "\n",
        "inertia_target_column = ['growth_code']"
      ],
      "execution_count": null,
      "outputs": []
    },
    {
      "cell_type": "markdown",
      "metadata": {
        "id": "rzleeRVqRYsG"
      },
      "source": [
        "### 2.1 Label 0 : Drastic Decrement"
      ]
    },
    {
      "cell_type": "code",
      "metadata": {
        "id": "P6ZtBujTRYsH"
      },
      "source": [
        "\n",
        "print(\"** Printing CA inertia all county data for Drastic Decrement ** \")\n",
        "print(CA_inertia_labeled_data_growth0.shape)\n",
        "X = CA_inertia_labeled_data_growth0[inertia_feature_labels]\n",
        "y = CA_inertia_labeled_data_growth0[inertia_target_column]\n",
        "\n",
        "X_train, X_test, y_train, y_test = train_test_split(X, y, test_size=0.4, random_state=0)\n",
        "\n",
        "\n",
        "# Create a random forest classifier\n",
        "clf = RandomForestClassifier(n_estimators=10000, random_state=0, n_jobs=-1)\n",
        "\n",
        "# Train the classifier\n",
        "clf.fit(X_train, y_train)\n",
        "\n",
        "# Print the name and gini importance of each feature\n",
        "for feature in zip(inertia_feature_labels, clf.feature_importances_):\n",
        "    print(feature)\n",
        "\n",
        "\n",
        "\n",
        "#  Supported criteria are “gini” for the Gini impurity and “entropy” for the information gain. \n",
        "\n",
        "clf = RandomForestClassifier(n_estimators=10000, random_state=0,criterion='entropy', n_jobs=-1)\n",
        "\n",
        "# Train the classifier\n",
        "clf.fit(X_train, y_train)\n",
        "\n",
        "# Print the name and gini importance of each feature\n",
        "for feature in zip(inertia_feature_labels, clf.feature_importances_):\n",
        "    print(feature)\n",
        "\n",
        "\n",
        "model = ExtraTreesClassifier()\n",
        "model.fit(X, y.values.ravel())\n",
        "# display the relative importance of each attribute\n",
        "#print(model.feature_importances_)\n",
        "\n",
        "\n",
        "# create the RFE model \n",
        "rfe = RFE(model, 3)\n",
        "rfe = rfe.fit(X, y.values.ravel())\n",
        "# summarize the selection of the attributes\n",
        "#print(rfe.support_)\n",
        "\n",
        "print(\"\\nFeatures with ranking:\\n\")\n",
        "for index in range(len(rfe.ranking_)):\n",
        "  print(inertia_feature_labels[index], rfe.ranking_[index])\n",
        "\n",
        "# for index in range(len(rfe.ranking_)):\n",
        "#   print( rfe.ranking_[index])\n",
        "#print(rfe.ranking_)\n",
        "#print(rfe.n_features_)\n",
        "#rfe.n_features_to_select\n"
      ],
      "execution_count": null,
      "outputs": []
    },
    {
      "cell_type": "markdown",
      "metadata": {
        "id": "Bu6s7kbNRYsM"
      },
      "source": [
        "### 2.2 Label 1 : Drastic Growth"
      ]
    },
    {
      "cell_type": "code",
      "metadata": {
        "id": "y1Z9vm4dRYsN"
      },
      "source": [
        "\n",
        "print(\"** Printing CA_inertia all county data for Drastic Growth ** \")\n",
        "print(CA_inertia_labeled_data_growth1.shape)\n",
        "X = CA_inertia_labeled_data_growth1[inertia_feature_labels]\n",
        "y = CA_inertia_labeled_data_growth1[inertia_target_column]\n",
        "\n",
        "X_train, X_test, y_train, y_test = train_test_split(X, y, test_size=0.4, random_state=0)\n",
        "\n",
        "\n",
        "# Create a random forest classifier\n",
        "clf = RandomForestClassifier(n_estimators=10000, random_state=0, n_jobs=-1)\n",
        "\n",
        "# Train the classifier\n",
        "clf.fit(X_train, y_train)\n",
        "\n",
        "# Print the name and gini importance of each feature\n",
        "for feature in zip(inertia_feature_labels, clf.feature_importances_):\n",
        "    print(feature)\n",
        "\n",
        "\n",
        "\n",
        "#  Supported criteria are “gini” for the Gini impurity and “entropy” for the information gain. \n",
        "\n",
        "clf = RandomForestClassifier(n_estimators=10000, random_state=0,criterion='entropy', n_jobs=-1)\n",
        "\n",
        "# Train the classifier\n",
        "clf.fit(X_train, y_train)\n",
        "\n",
        "# Print the name and gini importance of each feature\n",
        "for feature in zip(inertia_feature_labels, clf.feature_importances_):\n",
        "    print(feature)\n",
        "\n",
        "\n",
        "model = ExtraTreesClassifier()\n",
        "model.fit(X, y.values.ravel())\n",
        "# display the relative importance of each attribute\n",
        "#print(model.feature_importances_)\n",
        "\n",
        "\n",
        "# create the RFE model \n",
        "rfe = RFE(model, 3)\n",
        "rfe = rfe.fit(X, y.values.ravel())\n",
        "# summarize the selection of the attributes\n",
        "#print(rfe.support_)\n",
        "print(\"\\n*****************************************\")\n",
        "print(\"** Printing CA_inertia all county data for Drastic Growth ** \")\n",
        "print(\"\\nFeatures with ranking:\\n\")\n",
        "for index in range(len(rfe.ranking_)):\n",
        "  print(inertia_feature_labels[index], rfe.ranking_[index])\n",
        "\n",
        "for index in range(len(rfe.ranking_)):\n",
        "  print( rfe.ranking_[index])\n",
        "#print(rfe.ranking_)\n",
        "#print(rfe.n_features_)\n",
        "#rfe.n_features_to_select\n"
      ],
      "execution_count": null,
      "outputs": []
    },
    {
      "cell_type": "markdown",
      "metadata": {
        "id": "narY7dQhRYsR"
      },
      "source": [
        "### 2.3 Label 2 : Flat Growth"
      ]
    },
    {
      "cell_type": "code",
      "metadata": {
        "id": "-70zT7LFRYsS"
      },
      "source": [
        "\n",
        "print(\"** Printing CA_inertia all county data for Flat Growth ** \")\n",
        "print(CA_inertia_labeled_data_growth2.shape)\n",
        "X = CA_inertia_labeled_data_growth2[inertia_feature_labels]\n",
        "y = CA_inertia_labeled_data_growth2[inertia_target_column]\n",
        "\n",
        "X_train, X_test, y_train, y_test = train_test_split(X, y, test_size=0.4, random_state=0)\n",
        "\n",
        "\n",
        "# Create a random forest classifier\n",
        "clf = RandomForestClassifier(n_estimators=10000, random_state=0, n_jobs=-1)\n",
        "\n",
        "# Train the classifier\n",
        "clf.fit(X_train, y_train)\n",
        "\n",
        "# Print the name and gini importance of each feature\n",
        "for feature in zip(inertia_feature_labels, clf.feature_importances_):\n",
        "    print(feature)\n",
        "\n",
        "\n",
        "\n",
        "#  Supported criteria are “gini” for the Gini impurity and “entropy” for the information gain. \n",
        "\n",
        "clf = RandomForestClassifier(n_estimators=10000, random_state=0,criterion='entropy', n_jobs=-1)\n",
        "\n",
        "# Train the classifier\n",
        "clf.fit(X_train, y_train)\n",
        "\n",
        "# Print the name and gini importance of each feature\n",
        "for feature in zip(inertia_feature_labels, clf.feature_importances_):\n",
        "    print(feature)\n",
        "\n",
        "\n",
        "model = ExtraTreesClassifier()\n",
        "model.fit(X, y.values.ravel())\n",
        "# display the relative importance of each attribute\n",
        "#print(model.feature_importances_)\n",
        "\n",
        "\n",
        "# create the RFE model \n",
        "rfe = RFE(model, 3)\n",
        "rfe = rfe.fit(X, y.values.ravel())\n",
        "# summarize the selection of the attributes\n",
        "#print(rfe.support_)\n",
        "print(\"\\n*****************************************\")\n",
        "print(\"** Printing CA_inertia all county data for Flat Growth ** \")\n",
        "print(\"\\nFeatures with ranking:\\n\")\n",
        "for index in range(len(rfe.ranking_)):\n",
        "  print(inertia_feature_labels[index], rfe.ranking_[index])\n",
        "\n",
        "for index in range(len(rfe.ranking_)):\n",
        "  print(rfe.ranking_[index])\n",
        "#print(rfe.ranking_)\n",
        "#print(rfe.n_features_)\n",
        "#rfe.n_features_to_select\n"
      ],
      "execution_count": null,
      "outputs": []
    },
    {
      "cell_type": "markdown",
      "metadata": {
        "id": "W_bQsAGgRYsW"
      },
      "source": [
        "### 2.4 Label 3 : Mild Decrement"
      ]
    },
    {
      "cell_type": "code",
      "metadata": {
        "id": "iXYuipO2RYsX"
      },
      "source": [
        "\n",
        "print(\"** Printing CA_inertia all county data for Mild Decrement ** \")\n",
        "print(CA_inertia_labeled_data_growth3.shape)\n",
        "X = CA_inertia_labeled_data_growth3[inertia_feature_labels]\n",
        "y = CA_inertia_labeled_data_growth3[inertia_target_column]\n",
        "\n",
        "X_train, X_test, y_train, y_test = train_test_split(X, y, test_size=0.4, random_state=0)\n",
        "\n",
        "\n",
        "# Create a random forest classifier\n",
        "clf = RandomForestClassifier(n_estimators=10000, random_state=0, n_jobs=-1)\n",
        "\n",
        "# Train the classifier\n",
        "clf.fit(X_train, y_train)\n",
        "\n",
        "# Print the name and gini importance of each feature\n",
        "for feature in zip(inertia_feature_labels, clf.feature_importances_):\n",
        "    print(feature)\n",
        "\n",
        "\n",
        "\n",
        "#  Supported criteria are “gini” for the Gini impurity and “entropy” for the information gain. \n",
        "\n",
        "clf = RandomForestClassifier(n_estimators=10000, random_state=0,criterion='entropy', n_jobs=-1)\n",
        "\n",
        "# Train the classifier\n",
        "clf.fit(X_train, y_train)\n",
        "\n",
        "# Print the name and gini importance of each feature\n",
        "for feature in zip(inertia_feature_labels, clf.feature_importances_):\n",
        "    print(feature)\n",
        "\n",
        "\n",
        "model = ExtraTreesClassifier()\n",
        "model.fit(X, y.values.ravel())\n",
        "# display the relative importance of each attribute\n",
        "#print(model.feature_importances_)\n",
        "\n",
        "\n",
        "# create the RFE model \n",
        "rfe = RFE(model, 3)\n",
        "rfe = rfe.fit(X, y.values.ravel())\n",
        "# summarize the selection of the attributes\n",
        "#print(rfe.support_)\n",
        "print(\"\\n*****************************************\")\n",
        "print(\"** Printing CA_inertia all county data for Mild Decrement ** \")\n",
        "print(\"\\nFeatures with ranking:\\n\")\n",
        "for index in range(len(rfe.ranking_)):\n",
        "  print(inertia_feature_labels[index], rfe.ranking_[index])\n",
        "\n",
        "\n",
        "for index in range(len(rfe.ranking_)):\n",
        "  print(rfe.ranking_[index])\n",
        "#print(rfe.ranking_)\n",
        "#print(rfe.n_features_)\n",
        "#rfe.n_features_to_select\n"
      ],
      "execution_count": null,
      "outputs": []
    },
    {
      "cell_type": "markdown",
      "metadata": {
        "id": "laRCiTVHRYsc"
      },
      "source": [
        "### 2.5 Label 4 : Mild Increment "
      ]
    },
    {
      "cell_type": "code",
      "metadata": {
        "id": "TlvwNDW5RYsc"
      },
      "source": [
        "print(\"** Printing CA_inertia all county data for Mild Increment ** \")\n",
        "print(CA_inertia_labeled_data_growth4.shape)\n",
        "X = CA_inertia_labeled_data_growth4[inertia_feature_labels]\n",
        "y = CA_inertia_labeled_data_growth4[inertia_target_column]\n",
        "\n",
        "X_train, X_test, y_train, y_test = train_test_split(X, y, test_size=0.4, random_state=0)\n",
        "\n",
        "\n",
        "# Create a random forest classifier\n",
        "clf = RandomForestClassifier(n_estimators=10000, random_state=0, n_jobs=-1)\n",
        "\n",
        "# Train the classifier\n",
        "clf.fit(X_train, y_train)\n",
        "\n",
        "# Print the name and gini importance of each feature\n",
        "for feature in zip(inertia_feature_labels, clf.feature_importances_):\n",
        "    print(feature)\n",
        "\n",
        "\n",
        "\n",
        "#  Supported criteria are “gini” for the Gini impurity and “entropy” for the information gain. \n",
        "\n",
        "clf = RandomForestClassifier(n_estimators=10000, random_state=0,criterion='entropy', n_jobs=-1)\n",
        "\n",
        "# Train the classifier\n",
        "clf.fit(X_train, y_train)\n",
        "\n",
        "# Print the name and gini importance of each feature\n",
        "for feature in zip(inertia_feature_labels, clf.feature_importances_):\n",
        "    print(feature)\n",
        "\n",
        "\n",
        "model = ExtraTreesClassifier()\n",
        "model.fit(X, y.values.ravel())\n",
        "# display the relative importance of each attribute\n",
        "#print(model.feature_importances_)\n",
        "\n",
        "\n",
        "# create the RFE model \n",
        "rfe = RFE(model, 3)\n",
        "rfe = rfe.fit(X, y.values.ravel())\n",
        "# summarize the selection of the attributes\n",
        "#print(rfe.support_)\n",
        "print(\"\\n*****************************************\")\n",
        "print(\"** Printing CA_inertia all county data for Mild Increment ** \")\n",
        "print(\"\\nFeatures with ranking:\\n\")\n",
        "for index in range(len(rfe.ranking_)):\n",
        "  print(inertia_feature_labels[index], rfe.ranking_[index])\n",
        "\n",
        "#print(rfe.ranking_)\n",
        "#print(rfe.n_features_)\n",
        "#rfe.n_features_to_select\n",
        "for index in range(len(rfe.ranking_)):\n",
        "  print(rfe.ranking_[index])"
      ],
      "execution_count": null,
      "outputs": []
    },
    {
      "cell_type": "markdown",
      "metadata": {
        "id": "eeuowjpaZ-Bk"
      },
      "source": [
        "\n",
        "\n",
        "# Feature Importance for : Using SanBernardino \n",
        "\n"
      ]
    },
    {
      "cell_type": "code",
      "metadata": {
        "id": "YYgEazhJadXy"
      },
      "source": [
        "sanBernardio_labeled_data = pd.read_csv('/content/drive/Shared drives/CMPE 295- Master Project/Covid19-data/CA/CA_labeledData_SanBernardino_Oct11.csv',low_memory=False)\n",
        "print(sanBernardio_labeled_data.shape)"
      ],
      "execution_count": null,
      "outputs": []
    },
    {
      "cell_type": "markdown",
      "metadata": {
        "id": "6rq2CSFra5WF"
      },
      "source": [
        "## Preprocessing"
      ]
    },
    {
      "cell_type": "code",
      "metadata": {
        "id": "M3WLPlJzayJr"
      },
      "source": [
        "sanBernardio_labeled_data['growth_code'] = sanBernardio_labeled_data['growth_label'].astype('category').cat.codes\n",
        "\n",
        "sanBernardio_labeled_data.head(2)"
      ],
      "execution_count": null,
      "outputs": []
    },
    {
      "cell_type": "code",
      "metadata": {
        "id": "pR54rfcOc-zW"
      },
      "source": [
        "pd.unique(sanBernardio_labeled_data[['growth_label', 'growth_code']].values.ravel())"
      ],
      "execution_count": null,
      "outputs": []
    },
    {
      "cell_type": "code",
      "metadata": {
        "id": "ZctI5ot6dYM4"
      },
      "source": [
        "sanBernardio_labeled_data_growth0 = sanBernardio_labeled_data[sanBernardio_labeled_data['growth_code'] == 0]\n",
        "sanBernardio_labeled_data_growth1 = sanBernardio_labeled_data[sanBernardio_labeled_data['growth_code'] == 1]\n",
        "sanBernardio_labeled_data_growth2 = sanBernardio_labeled_data[sanBernardio_labeled_data['growth_code'] == 2]\n",
        "sanBernardio_labeled_data_growth3 = sanBernardio_labeled_data[sanBernardio_labeled_data['growth_code'] == 3]\n",
        "sanBernardio_labeled_data_growth4 = sanBernardio_labeled_data[sanBernardio_labeled_data['growth_code'] == 4]\n",
        "\n",
        "print(sanBernardio_labeled_data_growth0.shape)\n",
        "print(sanBernardio_labeled_data_growth1.shape)\n",
        "print(sanBernardio_labeled_data_growth2.shape)\n",
        "print(sanBernardio_labeled_data_growth3.shape)\n",
        "print(sanBernardio_labeled_data_growth4.shape)"
      ],
      "execution_count": null,
      "outputs": []
    },
    {
      "cell_type": "markdown",
      "metadata": {
        "id": "-cXKJEFfeEkE"
      },
      "source": [
        "## Label 0: Drastic decrement San Bernardio county can't run due to low data"
      ]
    },
    {
      "cell_type": "markdown",
      "metadata": {
        "id": "3DWtwW3leZbk"
      },
      "source": [
        "## Label 1: Drastic growth for San Bernardio county"
      ]
    },
    {
      "cell_type": "code",
      "metadata": {
        "id": "YaRUt_VLd_7c"
      },
      "source": [
        "\n",
        "print(\"** Printing San Bernardino county data for Drastic Growth ** \")\n",
        "print(sanBernardio_labeled_data_growth1.shape)\n",
        "X = sanBernardio_labeled_data_growth1[feature_labels]\n",
        "y = sanBernardio_labeled_data_growth1[target_column]\n",
        "\n",
        "X_train, X_test, y_train, y_test = train_test_split(X, y, test_size=0.4, random_state=0)\n",
        "\n",
        "\n",
        "# Create a random forest classifier\n",
        "clf = RandomForestClassifier(n_estimators=10000, random_state=0, n_jobs=-1)\n",
        "\n",
        "# Train the classifier\n",
        "clf.fit(X_train, y_train)\n",
        "\n",
        "# Print the name and gini importance of each feature\n",
        "for feature in zip(feature_labels, clf.feature_importances_):\n",
        "    print(feature)\n",
        "\n",
        "\n",
        "\n",
        "#  Supported criteria are “gini” for the Gini impurity and “entropy” for the information gain. \n",
        "\n",
        "clf = RandomForestClassifier(n_estimators=10000, random_state=0,criterion='entropy', n_jobs=-1)\n",
        "\n",
        "# Train the classifier\n",
        "clf.fit(X_train, y_train)\n",
        "\n",
        "# Print the name and gini importance of each feature\n",
        "for feature in zip(feature_labels, clf.feature_importances_):\n",
        "    print(feature)\n",
        "\n",
        "\n",
        "model = ExtraTreesClassifier()\n",
        "model.fit(X, y.values.ravel())\n",
        "# display the relative importance of each attribute\n",
        "#print(model.feature_importances_)\n",
        "\n",
        "\n",
        "# create the RFE model \n",
        "rfe = RFE(model, 3)\n",
        "rfe = rfe.fit(X, y.values.ravel())\n",
        "# summarize the selection of the attributes\n",
        "#print(rfe.support_)\n",
        "\n",
        "print(\"\\nFeatures with ranking:\\n\")\n",
        "for index in range(len(rfe.ranking_)):\n",
        "  print(feature_labels[index], rfe.ranking_[index])\n",
        "\n",
        "for index in range(len(rfe.ranking_)):\n",
        "  print( rfe.ranking_[index])\n",
        "#print(rfe.ranking_)\n",
        "#print(rfe.n_features_)\n",
        "#rfe.n_features_to_select\n"
      ],
      "execution_count": null,
      "outputs": []
    },
    {
      "cell_type": "markdown",
      "metadata": {
        "id": "RVfja8p5eo_u"
      },
      "source": [
        "## Label 2: Flat growth San Bernardio county"
      ]
    },
    {
      "cell_type": "code",
      "metadata": {
        "id": "uMySl3b3elhA"
      },
      "source": [
        "\n",
        "print(\"** Printing San Bernardino county data for Drastic Growth ** \")\n",
        "print(sanBernardio_labeled_data_growth2.shape)\n",
        "X = sanBernardio_labeled_data_growth2[feature_labels]\n",
        "y = sanBernardio_labeled_data_growth2[target_column]\n",
        "\n",
        "X_train, X_test, y_train, y_test = train_test_split(X, y, test_size=0.4, random_state=0)\n",
        "\n",
        "\n",
        "# Create a random forest classifier\n",
        "clf = RandomForestClassifier(n_estimators=10000, random_state=0, n_jobs=-1)\n",
        "\n",
        "# Train the classifier\n",
        "clf.fit(X_train, y_train)\n",
        "\n",
        "# Print the name and gini importance of each feature\n",
        "for feature in zip(feature_labels, clf.feature_importances_):\n",
        "    print(feature)\n",
        "\n",
        "\n",
        "\n",
        "#  Supported criteria are “gini” for the Gini impurity and “entropy” for the information gain. \n",
        "\n",
        "clf = RandomForestClassifier(n_estimators=10000, random_state=0,criterion='entropy', n_jobs=-1)\n",
        "\n",
        "# Train the classifier\n",
        "clf.fit(X_train, y_train)\n",
        "\n",
        "# Print the name and gini importance of each feature\n",
        "for feature in zip(feature_labels, clf.feature_importances_):\n",
        "    print(feature)\n",
        "\n",
        "\n",
        "model = ExtraTreesClassifier()\n",
        "model.fit(X, y.values.ravel())\n",
        "# display the relative importance of each attribute\n",
        "#print(model.feature_importances_)\n",
        "\n",
        "\n",
        "# create the RFE model \n",
        "rfe = RFE(model, 3)\n",
        "rfe = rfe.fit(X, y.values.ravel())\n",
        "# summarize the selection of the attributes\n",
        "#print(rfe.support_)\n",
        "\n",
        "print(\"\\nFeatures with ranking:\\n\")\n",
        "for index in range(len(rfe.ranking_)):\n",
        "  print(feature_labels[index], rfe.ranking_[index])\n",
        "\n",
        "# for index in range(len(rfe.ranking_)):\n",
        "#   print( rfe.ranking_[index])\n",
        "#print(rfe.ranking_)\n",
        "#print(rfe.n_features_)\n",
        "#rfe.n_features_to_select\n"
      ],
      "execution_count": null,
      "outputs": []
    },
    {
      "cell_type": "markdown",
      "metadata": {
        "id": "tS-1jMXUeved"
      },
      "source": [
        "## Label 3: mild decrement San Bernardio county"
      ]
    },
    {
      "cell_type": "code",
      "metadata": {
        "id": "D8edjkEHe1ld"
      },
      "source": [
        "\n",
        "print(\"** Printing San Bernardino county data for Drastic Growth ** \")\n",
        "print(sanBernardio_labeled_data_growth3.shape)\n",
        "X = sanBernardio_labeled_data_growth3[feature_labels]\n",
        "y = sanBernardio_labeled_data_growth3[target_column]\n",
        "\n",
        "X_train, X_test, y_train, y_test = train_test_split(X, y, test_size=0.4, random_state=0)\n",
        "\n",
        "\n",
        "# Create a random forest classifier\n",
        "clf = RandomForestClassifier(n_estimators=10000, random_state=0, n_jobs=-1)\n",
        "\n",
        "# Train the classifier\n",
        "clf.fit(X_train, y_train)\n",
        "\n",
        "# Print the name and gini importance of each feature\n",
        "for feature in zip(feature_labels, clf.feature_importances_):\n",
        "    print(feature)\n",
        "\n",
        "\n",
        "\n",
        "#  Supported criteria are “gini” for the Gini impurity and “entropy” for the information gain. \n",
        "\n",
        "clf = RandomForestClassifier(n_estimators=10000, random_state=0,criterion='entropy', n_jobs=-1)\n",
        "\n",
        "# Train the classifier\n",
        "clf.fit(X_train, y_train)\n",
        "\n",
        "# Print the name and gini importance of each feature\n",
        "for feature in zip(feature_labels, clf.feature_importances_):\n",
        "    print(feature)\n",
        "\n",
        "\n",
        "model = ExtraTreesClassifier()\n",
        "model.fit(X, y.values.ravel())\n",
        "# display the relative importance of each attribute\n",
        "#print(model.feature_importances_)\n",
        "\n",
        "\n",
        "# create the RFE model \n",
        "rfe = RFE(model, 3)\n",
        "rfe = rfe.fit(X, y.values.ravel())\n",
        "# summarize the selection of the attributes\n",
        "#print(rfe.support_)\n",
        "\n",
        "print(\"\\nFeatures with ranking:\\n\")\n",
        "for index in range(len(rfe.ranking_)):\n",
        "  print(feature_labels[index], rfe.ranking_[index])\n",
        "\n",
        "# for index in range(len(rfe.ranking_)):\n",
        "#   print( rfe.ranking_[index])\n",
        "#print(rfe.ranking_)\n",
        "#print(rfe.n_features_)\n",
        "#rfe.n_features_to_select\n"
      ],
      "execution_count": null,
      "outputs": []
    },
    {
      "cell_type": "markdown",
      "metadata": {
        "id": "pqkqtF95e-3x"
      },
      "source": [
        "## Label 4: Mild increment San bernardio county"
      ]
    },
    {
      "cell_type": "code",
      "metadata": {
        "id": "dTqVDDcWfCyw"
      },
      "source": [
        "\n",
        "print(\"** Printing San Bernardino county data for Drastic Growth ** \")\n",
        "print(sanBernardio_labeled_data_growth4.shape)\n",
        "X = sanBernardio_labeled_data_growth4[feature_labels]\n",
        "y = sanBernardio_labeled_data_growth4[target_column]\n",
        "\n",
        "X_train, X_test, y_train, y_test = train_test_split(X, y, test_size=0.4, random_state=0)\n",
        "\n",
        "\n",
        "# Create a random forest classifier\n",
        "clf = RandomForestClassifier(n_estimators=10000, random_state=0, n_jobs=-1)\n",
        "\n",
        "# Train the classifier\n",
        "clf.fit(X_train, y_train)\n",
        "\n",
        "# Print the name and gini importance of each feature\n",
        "for feature in zip(feature_labels, clf.feature_importances_):\n",
        "    print(feature)\n",
        "\n",
        "\n",
        "\n",
        "#  Supported criteria are “gini” for the Gini impurity and “entropy” for the information gain. \n",
        "\n",
        "clf = RandomForestClassifier(n_estimators=10000, random_state=0,criterion='entropy', n_jobs=-1)\n",
        "\n",
        "# Train the classifier\n",
        "clf.fit(X_train, y_train)\n",
        "\n",
        "# Print the name and gini importance of each feature\n",
        "for feature in zip(feature_labels, clf.feature_importances_):\n",
        "    print(feature)\n",
        "\n",
        "\n",
        "model = ExtraTreesClassifier()\n",
        "model.fit(X, y.values.ravel())\n",
        "# display the relative importance of each attribute\n",
        "#print(model.feature_importances_)\n",
        "\n",
        "\n",
        "# create the RFE model \n",
        "rfe = RFE(model, 3)\n",
        "rfe = rfe.fit(X, y.values.ravel())\n",
        "# summarize the selection of the attributes\n",
        "#print(rfe.support_)\n",
        "\n",
        "print(\"\\nFeatures with ranking:\\n\")\n",
        "for index in range(len(rfe.ranking_)):\n",
        "  print(feature_labels[index], rfe.ranking_[index])\n",
        "\n",
        "# for index in range(len(rfe.ranking_)):\n",
        "#   print( rfe.ranking_[index])\n",
        "#print(rfe.ranking_)\n",
        "#print(rfe.n_features_)\n",
        "#rfe.n_features_to_select\n"
      ],
      "execution_count": null,
      "outputs": []
    },
    {
      "cell_type": "markdown",
      "metadata": {
        "id": "eL5S_VsAad90"
      },
      "source": [
        "# Feature Importance using San Diego"
      ]
    },
    {
      "cell_type": "code",
      "metadata": {
        "id": "jZPsxfmAa7r5"
      },
      "source": [
        "sanDiego_labeled_data = pd.read_csv('/content/drive/Shared drives/CMPE 295- Master Project/Covid19-data/CA/CA_labeledData_SanDiego_Oct11.csv',low_memory=False)\n",
        "print(sanDiego_labeled_data.shape)"
      ],
      "execution_count": null,
      "outputs": []
    },
    {
      "cell_type": "markdown",
      "metadata": {
        "id": "mkGHFRVrbLNx"
      },
      "source": [
        "## Preprocessing"
      ]
    },
    {
      "cell_type": "code",
      "metadata": {
        "id": "eocW1320bKjw"
      },
      "source": [
        "sanDiego_labeled_data['growth_code'] = sanDiego_labeled_data['growth_label'].astype('category').cat.codes\n",
        "\n",
        "sanDiego_labeled_data.head(2)"
      ],
      "execution_count": null,
      "outputs": []
    },
    {
      "cell_type": "code",
      "metadata": {
        "id": "FLTW3PDndNRj"
      },
      "source": [
        "pd.unique(sanDiego_labeled_data[['growth_label', 'growth_code']].values.ravel())"
      ],
      "execution_count": null,
      "outputs": []
    },
    {
      "cell_type": "code",
      "metadata": {
        "id": "7RI8jL-Qdayy"
      },
      "source": [
        "sanDiego_labeled_data_growth0 = sanDiego_labeled_data[sanDiego_labeled_data['growth_code'] == 0]\n",
        "sanDiego_labeled_data_growth1 = sanDiego_labeled_data[sanDiego_labeled_data['growth_code'] == 1]\n",
        "sanDiego_labeled_data_growth2 = sanDiego_labeled_data[sanDiego_labeled_data['growth_code'] == 2]\n",
        "sanDiego_labeled_data_growth3 = sanDiego_labeled_data[sanDiego_labeled_data['growth_code'] == 3]\n",
        "sanDiego_labeled_data_growth4 = sanDiego_labeled_data[sanDiego_labeled_data['growth_code'] == 4]\n",
        "\n",
        "print(sanDiego_labeled_data_growth0.shape)\n",
        "print(sanDiego_labeled_data_growth1.shape)\n",
        "print(sanDiego_labeled_data_growth2.shape)\n",
        "print(sanDiego_labeled_data_growth3.shape)\n",
        "print(sanDiego_labeled_data_growth4.shape)"
      ],
      "execution_count": null,
      "outputs": []
    },
    {
      "cell_type": "markdown",
      "metadata": {
        "id": "LZaPj1xIfM3f"
      },
      "source": [
        "## Label 0: Drastic decrement San Diego county"
      ]
    },
    {
      "cell_type": "code",
      "metadata": {
        "id": "88VOnkdVfluM"
      },
      "source": [
        "\n",
        "print(\"** Printing San Diego county data for Drastic decrement ** \")\n",
        "print(sanDiego_labeled_data_growth0.shape)\n",
        "X = sanDiego_labeled_data_growth0[feature_labels]\n",
        "y = sanDiego_labeled_data_growth0[target_column]\n",
        "\n",
        "X_train, X_test, y_train, y_test = train_test_split(X, y, test_size=0.4, random_state=0)\n",
        "\n",
        "\n",
        "# Create a random forest classifier\n",
        "clf = RandomForestClassifier(n_estimators=10000, random_state=0, n_jobs=-1)\n",
        "\n",
        "# Train the classifier\n",
        "clf.fit(X_train, y_train)\n",
        "\n",
        "# Print the name and gini importance of each feature\n",
        "for feature in zip(feature_labels, clf.feature_importances_):\n",
        "    print(feature)\n",
        "\n",
        "\n",
        "\n",
        "#  Supported criteria are “gini” for the Gini impurity and “entropy” for the information gain. \n",
        "\n",
        "clf = RandomForestClassifier(n_estimators=10000, random_state=0,criterion='entropy', n_jobs=-1)\n",
        "\n",
        "# Train the classifier\n",
        "clf.fit(X_train, y_train)\n",
        "\n",
        "# Print the name and gini importance of each feature\n",
        "for feature in zip(feature_labels, clf.feature_importances_):\n",
        "    print(feature)\n",
        "\n",
        "\n",
        "model = ExtraTreesClassifier()\n",
        "model.fit(X, y.values.ravel())\n",
        "# display the relative importance of each attribute\n",
        "#print(model.feature_importances_)\n",
        "\n",
        "\n",
        "# create the RFE model \n",
        "rfe = RFE(model, 3)\n",
        "rfe = rfe.fit(X, y.values.ravel())\n",
        "# summarize the selection of the attributes\n",
        "#print(rfe.support_)\n",
        "\n",
        "print(\"\\nFeatures with ranking:\\n\")\n",
        "for index in range(len(rfe.ranking_)):\n",
        "  print(feature_labels[index], rfe.ranking_[index])\n",
        "\n",
        "# for index in range(len(rfe.ranking_)):\n",
        "#   print( rfe.ranking_[index])\n",
        "#print(rfe.ranking_)\n",
        "#print(rfe.n_features_)\n",
        "#rfe.n_features_to_select\n"
      ],
      "execution_count": null,
      "outputs": []
    },
    {
      "cell_type": "markdown",
      "metadata": {
        "id": "KxQSlGhkfS8e"
      },
      "source": [
        "## Label 1: Drastic growth San Diego county"
      ]
    },
    {
      "cell_type": "code",
      "metadata": {
        "id": "7D9nvP4mftCI"
      },
      "source": [
        "\n",
        "print(\"** Printing San Diego county data for Drastic growth ** \")\n",
        "print(sanDiego_labeled_data_growth1.shape)\n",
        "X = sanDiego_labeled_data_growth1[feature_labels]\n",
        "y = sanDiego_labeled_data_growth1[target_column]\n",
        "\n",
        "X_train, X_test, y_train, y_test = train_test_split(X, y, test_size=0.4, random_state=0)\n",
        "\n",
        "\n",
        "# Create a random forest classifier\n",
        "clf = RandomForestClassifier(n_estimators=10000, random_state=0, n_jobs=-1)\n",
        "\n",
        "# Train the classifier\n",
        "clf.fit(X_train, y_train)\n",
        "\n",
        "# Print the name and gini importance of each feature\n",
        "for feature in zip(feature_labels, clf.feature_importances_):\n",
        "    print(feature)\n",
        "\n",
        "\n",
        "\n",
        "#  Supported criteria are “gini” for the Gini impurity and “entropy” for the information gain. \n",
        "\n",
        "clf = RandomForestClassifier(n_estimators=10000, random_state=0,criterion='entropy', n_jobs=-1)\n",
        "\n",
        "# Train the classifier\n",
        "clf.fit(X_train, y_train)\n",
        "\n",
        "# Print the name and gini importance of each feature\n",
        "for feature in zip(feature_labels, clf.feature_importances_):\n",
        "    print(feature)\n",
        "\n",
        "\n",
        "model = ExtraTreesClassifier()\n",
        "model.fit(X, y.values.ravel())\n",
        "# display the relative importance of each attribute\n",
        "#print(model.feature_importances_)\n",
        "\n",
        "\n",
        "# create the RFE model \n",
        "rfe = RFE(model, 3)\n",
        "rfe = rfe.fit(X, y.values.ravel())\n",
        "# summarize the selection of the attributes\n",
        "#print(rfe.support_)\n",
        "\n",
        "print(\"\\nFeatures with ranking:\\n\")\n",
        "for index in range(len(rfe.ranking_)):\n",
        "  print(feature_labels[index], rfe.ranking_[index])\n",
        "\n",
        "# for index in range(len(rfe.ranking_)):\n",
        "#   print( rfe.ranking_[index])\n",
        "#print(rfe.ranking_)\n",
        "#print(rfe.n_features_)\n",
        "#rfe.n_features_to_select\n"
      ],
      "execution_count": null,
      "outputs": []
    },
    {
      "cell_type": "markdown",
      "metadata": {
        "id": "xmNsBF0xfXbA"
      },
      "source": [
        "## Label 2: Flat growth San Diego county"
      ]
    },
    {
      "cell_type": "code",
      "metadata": {
        "id": "JjOizWx7f1v7"
      },
      "source": [
        "\n",
        "print(\"** Printing San Diego county data for flat growth ** \")\n",
        "print(sanDiego_labeled_data_growth2.shape)\n",
        "X = sanDiego_labeled_data_growth2[feature_labels]\n",
        "y = sanDiego_labeled_data_growth2[target_column]\n",
        "\n",
        "X_train, X_test, y_train, y_test = train_test_split(X, y, test_size=0.4, random_state=0)\n",
        "\n",
        "\n",
        "# Create a random forest classifier\n",
        "clf = RandomForestClassifier(n_estimators=10000, random_state=0, n_jobs=-1)\n",
        "\n",
        "# Train the classifier\n",
        "clf.fit(X_train, y_train)\n",
        "\n",
        "# Print the name and gini importance of each feature\n",
        "for feature in zip(feature_labels, clf.feature_importances_):\n",
        "    print(feature)\n",
        "\n",
        "\n",
        "\n",
        "#  Supported criteria are “gini” for the Gini impurity and “entropy” for the information gain. \n",
        "\n",
        "clf = RandomForestClassifier(n_estimators=10000, random_state=0,criterion='entropy', n_jobs=-1)\n",
        "\n",
        "# Train the classifier\n",
        "clf.fit(X_train, y_train)\n",
        "\n",
        "# Print the name and gini importance of each feature\n",
        "for feature in zip(feature_labels, clf.feature_importances_):\n",
        "    print(feature)\n",
        "\n",
        "\n",
        "model = ExtraTreesClassifier()\n",
        "model.fit(X, y.values.ravel())\n",
        "# display the relative importance of each attribute\n",
        "#print(model.feature_importances_)\n",
        "\n",
        "\n",
        "# create the RFE model \n",
        "rfe = RFE(model, 3)\n",
        "rfe = rfe.fit(X, y.values.ravel())\n",
        "# summarize the selection of the attributes\n",
        "#print(rfe.support_)\n",
        "\n",
        "print(\"\\nFeatures with ranking:\\n\")\n",
        "for index in range(len(rfe.ranking_)):\n",
        "  print(feature_labels[index], rfe.ranking_[index])\n",
        "\n",
        "# for index in range(len(rfe.ranking_)):\n",
        "#   print( rfe.ranking_[index])\n",
        "#print(rfe.ranking_)\n",
        "#print(rfe.n_features_)\n",
        "#rfe.n_features_to_select\n"
      ],
      "execution_count": null,
      "outputs": []
    },
    {
      "cell_type": "markdown",
      "metadata": {
        "id": "A1N95q6Lfb4y"
      },
      "source": [
        "## Label 3: Mild decrement San Diego county"
      ]
    },
    {
      "cell_type": "code",
      "metadata": {
        "id": "Dc64bks6gCB5"
      },
      "source": [
        "\n",
        "print(\"** Printing San Diego county data for mild decrement ** \")\n",
        "print(sanDiego_labeled_data_growth3.shape)\n",
        "X = sanDiego_labeled_data_growth3[feature_labels]\n",
        "y = sanDiego_labeled_data_growth3[target_column]\n",
        "\n",
        "X_train, X_test, y_train, y_test = train_test_split(X, y, test_size=0.4, random_state=0)\n",
        "\n",
        "\n",
        "# Create a random forest classifier\n",
        "clf = RandomForestClassifier(n_estimators=10000, random_state=0, n_jobs=-1)\n",
        "\n",
        "# Train the classifier\n",
        "clf.fit(X_train, y_train)\n",
        "\n",
        "# Print the name and gini importance of each feature\n",
        "for feature in zip(feature_labels, clf.feature_importances_):\n",
        "    print(feature)\n",
        "\n",
        "\n",
        "\n",
        "#  Supported criteria are “gini” for the Gini impurity and “entropy” for the information gain. \n",
        "\n",
        "clf = RandomForestClassifier(n_estimators=10000, random_state=0,criterion='entropy', n_jobs=-1)\n",
        "\n",
        "# Train the classifier\n",
        "clf.fit(X_train, y_train)\n",
        "\n",
        "# Print the name and gini importance of each feature\n",
        "for feature in zip(feature_labels, clf.feature_importances_):\n",
        "    print(feature)\n",
        "\n",
        "\n",
        "model = ExtraTreesClassifier()\n",
        "model.fit(X, y.values.ravel())\n",
        "# display the relative importance of each attribute\n",
        "#print(model.feature_importances_)\n",
        "\n",
        "\n",
        "# create the RFE model \n",
        "rfe = RFE(model, 3)\n",
        "rfe = rfe.fit(X, y.values.ravel())\n",
        "# summarize the selection of the attributes\n",
        "#print(rfe.support_)\n",
        "\n",
        "print(\"\\nFeatures with ranking:\\n\")\n",
        "for index in range(len(rfe.ranking_)):\n",
        "  print(feature_labels[index], rfe.ranking_[index])\n",
        "\n",
        "# for index in range(len(rfe.ranking_)):\n",
        "#   print( rfe.ranking_[index])\n",
        "#print(rfe.ranking_)\n",
        "#print(rfe.n_features_)\n",
        "#rfe.n_features_to_select\n"
      ],
      "execution_count": null,
      "outputs": []
    },
    {
      "cell_type": "markdown",
      "metadata": {
        "id": "Fk5FZeoPfhOp"
      },
      "source": [
        "## Label 4: Mild increment San Diego county"
      ]
    },
    {
      "cell_type": "code",
      "metadata": {
        "id": "m8VzZ7pTgHo2"
      },
      "source": [
        "\n",
        "print(\"** Printing San Diego county data for mild increment ** \")\n",
        "print(sanDiego_labeled_data_growth4.shape)\n",
        "X = sanDiego_labeled_data_growth4[feature_labels]\n",
        "y = sanDiego_labeled_data_growth4[target_column]\n",
        "\n",
        "X_train, X_test, y_train, y_test = train_test_split(X, y, test_size=0.4, random_state=0)\n",
        "\n",
        "\n",
        "# Create a random forest classifier\n",
        "clf = RandomForestClassifier(n_estimators=10000, random_state=0, n_jobs=-1)\n",
        "\n",
        "# Train the classifier\n",
        "clf.fit(X_train, y_train)\n",
        "\n",
        "# Print the name and gini importance of each feature\n",
        "for feature in zip(feature_labels, clf.feature_importances_):\n",
        "    print(feature)\n",
        "\n",
        "\n",
        "\n",
        "#  Supported criteria are “gini” for the Gini impurity and “entropy” for the information gain. \n",
        "\n",
        "clf = RandomForestClassifier(n_estimators=10000, random_state=0,criterion='entropy', n_jobs=-1)\n",
        "\n",
        "# Train the classifier\n",
        "clf.fit(X_train, y_train)\n",
        "\n",
        "# Print the name and gini importance of each feature\n",
        "for feature in zip(feature_labels, clf.feature_importances_):\n",
        "    print(feature)\n",
        "\n",
        "\n",
        "model = ExtraTreesClassifier()\n",
        "model.fit(X, y.values.ravel())\n",
        "# display the relative importance of each attribute\n",
        "#print(model.feature_importances_)\n",
        "\n",
        "\n",
        "# create the RFE model \n",
        "rfe = RFE(model, 3)\n",
        "rfe = rfe.fit(X, y.values.ravel())\n",
        "# summarize the selection of the attributes\n",
        "#print(rfe.support_)\n",
        "\n",
        "print(\"\\nFeatures with ranking:\\n\")\n",
        "for index in range(len(rfe.ranking_)):\n",
        "  print(feature_labels[index], rfe.ranking_[index])\n",
        "\n",
        "# for index in range(len(rfe.ranking_)):\n",
        "#   print( rfe.ranking_[index])\n",
        "#print(rfe.ranking_)\n",
        "#print(rfe.n_features_)\n",
        "#rfe.n_features_to_select\n"
      ],
      "execution_count": null,
      "outputs": []
    },
    {
      "cell_type": "markdown",
      "metadata": {
        "id": "8M8wqeFZkBs1"
      },
      "source": [
        "# Feature importance using San Bernardio for inertia data"
      ]
    },
    {
      "cell_type": "code",
      "metadata": {
        "id": "AFoW0UYmkLep"
      },
      "source": [
        "sanBernardio_labeled_data2 = pd.read_csv('/content/drive/Shared drives/CMPE 295- Master Project/Covid19-data/CA/CA_sd_inertia_labeledData_SanBernardino_Oct11.csv',low_memory=False)\n",
        "print(sanBernardio_labeled_data2.shape)"
      ],
      "execution_count": null,
      "outputs": []
    },
    {
      "cell_type": "markdown",
      "metadata": {
        "id": "pZt_0IcZkitU"
      },
      "source": [
        "## Preprocessing"
      ]
    },
    {
      "cell_type": "code",
      "metadata": {
        "id": "23m1sIrskcG8"
      },
      "source": [
        "sanBernardio_labeled_data2['growth_code'] = sanBernardio_labeled_data2['growth_label'].astype('category').cat.codes\n",
        "\n",
        "sanBernardio_labeled_data2.head(2)"
      ],
      "execution_count": null,
      "outputs": []
    },
    {
      "cell_type": "code",
      "metadata": {
        "id": "f3gCl-7bkpJq"
      },
      "source": [
        "\n",
        "sanBernardio_labeled_data2 = sanBernardio_labeled_data2.fillna(0)\n",
        "sanBernardio_labeled_data_growth0 = sanBernardio_labeled_data2[sanBernardio_labeled_data2['growth_code'] == 0]\n",
        "sanBernardio_labeled_data_growth1 = sanBernardio_labeled_data2[sanBernardio_labeled_data2['growth_code'] == 1]\n",
        "sanBernardio_labeled_data_growth2 = sanBernardio_labeled_data2[sanBernardio_labeled_data2['growth_code'] == 2]\n",
        "sanBernardio_labeled_data_growth3 = sanBernardio_labeled_data2[sanBernardio_labeled_data2['growth_code'] == 3]\n",
        "sanBernardio_labeled_data_growth4 = sanBernardio_labeled_data2[sanBernardio_labeled_data2['growth_code'] == 4]\n",
        "\n",
        "print(sanBernardio_labeled_data_growth0.shape)\n",
        "print(sanBernardio_labeled_data_growth1.shape)\n",
        "print(sanBernardio_labeled_data_growth2.shape)\n",
        "print(sanBernardio_labeled_data_growth3.shape)\n",
        "print(sanBernardio_labeled_data_growth4.shape)"
      ],
      "execution_count": null,
      "outputs": []
    },
    {
      "cell_type": "code",
      "metadata": {
        "id": "Bk0GCV8FmDNj"
      },
      "source": [
        "feature_labels = ['mask_rule_active','Social distancing index','% staying home', 'Trips/person', '% out-of-county trips',\n",
        "       '% out-of-state trips', 'Miles/person', 'Work trips/person','Non-work trips/person','% change in consumption',\n",
        "       'Transit mode share','% people older than 60', 'Median income', '% African Americans', '% Hispanic Americans',\n",
        "       '% Male', 'Population density','Employment density', '# hot spots/1000 people','Hospital beds/1000 people', 'ICUs/1000 people',\n",
        "       '# contact tracing workers/1000 people rank','% people older than 60 rank', 'COVID exposure/1000 people',\n",
        "       'Unemployment claims/1000 people', 'Unemployment rate','% working from home', 'Cumulative inflation rate',\n",
        "       '% hospital bed utilization', 'Testing capacity','Tests done/1000 people', '% ICU utilization', 'Ventilator shortage'\n",
        "       ]\n",
        "\n",
        "target_column = ['growth_code']"
      ],
      "execution_count": null,
      "outputs": []
    },
    {
      "cell_type": "code",
      "metadata": {
        "id": "Q-IpBQIhmIwz"
      },
      "source": [
        ""
      ],
      "execution_count": null,
      "outputs": []
    },
    {
      "cell_type": "markdown",
      "metadata": {
        "id": "TCl-6VWFk5ZT"
      },
      "source": [
        "## Label 0: Drastic decrement San Bernardio county"
      ]
    },
    {
      "cell_type": "code",
      "metadata": {
        "id": "1IX6l5w6lnOG"
      },
      "source": [
        "\n",
        "print(\"** Printing San Bernardino county data for Drastic Growth ** \")\n",
        "print(sanBernardio_labeled_data_growth0.shape)\n",
        "X = sanBernardio_labeled_data_growth0[feature_labels]\n",
        "y = sanBernardio_labeled_data_growth0[target_column]\n",
        "\n",
        "X_train, X_test, y_train, y_test = train_test_split(X, y, test_size=0.4, random_state=0)\n",
        "\n",
        "\n",
        "# Create a random forest classifier\n",
        "clf = RandomForestClassifier(n_estimators=10000, random_state=0, n_jobs=-1)\n",
        "\n",
        "# Train the classifier\n",
        "clf.fit(X_train, y_train)\n",
        "\n",
        "# Print the name and gini importance of each feature\n",
        "for feature in zip(feature_labels, clf.feature_importances_):\n",
        "    print(feature)\n",
        "\n",
        "\n",
        "\n",
        "#  Supported criteria are “gini” for the Gini impurity and “entropy” for the information gain. \n",
        "\n",
        "clf = RandomForestClassifier(n_estimators=10000, random_state=0,criterion='entropy', n_jobs=-1)\n",
        "\n",
        "# Train the classifier\n",
        "clf.fit(X_train, y_train)\n",
        "\n",
        "# Print the name and gini importance of each feature\n",
        "for feature in zip(feature_labels, clf.feature_importances_):\n",
        "    print(feature)\n",
        "\n",
        "\n",
        "model = ExtraTreesClassifier()\n",
        "model.fit(X, y.values.ravel())\n",
        "# display the relative importance of each attribute\n",
        "#print(model.feature_importances_)\n",
        "\n",
        "\n",
        "# create the RFE model \n",
        "rfe = RFE(model, 3)\n",
        "rfe = rfe.fit(X, y.values.ravel())\n",
        "# summarize the selection of the attributes\n",
        "#print(rfe.support_)\n",
        "\n",
        "print(\"\\nFeatures with ranking:\\n\")\n",
        "for index in range(len(rfe.ranking_)):\n",
        "  print(feature_labels[index], rfe.ranking_[index])\n",
        "\n",
        "for index in range(len(rfe.ranking_)):\n",
        "  print( rfe.ranking_[index])\n",
        "#print(rfe.ranking_)\n",
        "#print(rfe.n_features_)\n",
        "#rfe.n_features_to_select\n"
      ],
      "execution_count": null,
      "outputs": []
    },
    {
      "cell_type": "markdown",
      "metadata": {
        "id": "I4PsDSyRk6YU"
      },
      "source": [
        "## Label 1: Drastic growth San Bernardio county"
      ]
    },
    {
      "cell_type": "code",
      "metadata": {
        "id": "0rKNFxAumT2W"
      },
      "source": [
        "\n",
        "print(\"** Printing San Bernardino county data for Drastic Growth ** \")\n",
        "print(sanBernardio_labeled_data_growth1.shape)\n",
        "X = sanBernardio_labeled_data_growth1[feature_labels]\n",
        "y = sanBernardio_labeled_data_growth1[target_column]\n",
        "\n",
        "X_train, X_test, y_train, y_test = train_test_split(X, y, test_size=0.4, random_state=0)\n",
        "\n",
        "\n",
        "# Create a random forest classifier\n",
        "clf = RandomForestClassifier(n_estimators=10000, random_state=0, n_jobs=-1)\n",
        "\n",
        "# Train the classifier\n",
        "clf.fit(X_train, y_train)\n",
        "\n",
        "# Print the name and gini importance of each feature\n",
        "for feature in zip(feature_labels, clf.feature_importances_):\n",
        "    print(feature)\n",
        "\n",
        "\n",
        "\n",
        "#  Supported criteria are “gini” for the Gini impurity and “entropy” for the information gain. \n",
        "\n",
        "clf = RandomForestClassifier(n_estimators=10000, random_state=0,criterion='entropy', n_jobs=-1)\n",
        "\n",
        "# Train the classifier\n",
        "clf.fit(X_train, y_train)\n",
        "\n",
        "# Print the name and gini importance of each feature\n",
        "for feature in zip(feature_labels, clf.feature_importances_):\n",
        "    print(feature)\n",
        "\n",
        "\n",
        "model = ExtraTreesClassifier()\n",
        "model.fit(X, y.values.ravel())\n",
        "# display the relative importance of each attribute\n",
        "#print(model.feature_importances_)\n",
        "\n",
        "\n",
        "# create the RFE model \n",
        "rfe = RFE(model, 3)\n",
        "rfe = rfe.fit(X, y.values.ravel())\n",
        "# summarize the selection of the attributes\n",
        "#print(rfe.support_)\n",
        "\n",
        "print(\"\\nFeatures with ranking:\\n\")\n",
        "for index in range(len(rfe.ranking_)):\n",
        "  print(feature_labels[index], rfe.ranking_[index])\n",
        "\n",
        "for index in range(len(rfe.ranking_)):\n",
        "  print( rfe.ranking_[index])\n",
        "#print(rfe.ranking_)\n",
        "#print(rfe.n_features_)\n",
        "#rfe.n_features_to_select\n"
      ],
      "execution_count": null,
      "outputs": []
    },
    {
      "cell_type": "markdown",
      "metadata": {
        "id": "82JxnrJek9Dn"
      },
      "source": [
        "## Label 2: Flat growth San Bernardio county"
      ]
    },
    {
      "cell_type": "code",
      "metadata": {
        "id": "PcpWsVOYmXlJ"
      },
      "source": [
        "\n",
        "print(\"** Printing San Bernardino county data for Drastic Growth ** \")\n",
        "print(sanBernardio_labeled_data_growth2.shape)\n",
        "X = sanBernardio_labeled_data_growth2[feature_labels]\n",
        "y = sanBernardio_labeled_data_growth2[target_column]\n",
        "\n",
        "X_train, X_test, y_train, y_test = train_test_split(X, y, test_size=0.4, random_state=0)\n",
        "\n",
        "\n",
        "# Create a random forest classifier\n",
        "clf = RandomForestClassifier(n_estimators=10000, random_state=0, n_jobs=-1)\n",
        "\n",
        "# Train the classifier\n",
        "clf.fit(X_train, y_train)\n",
        "\n",
        "# Print the name and gini importance of each feature\n",
        "for feature in zip(feature_labels, clf.feature_importances_):\n",
        "    print(feature)\n",
        "\n",
        "\n",
        "\n",
        "#  Supported criteria are “gini” for the Gini impurity and “entropy” for the information gain. \n",
        "\n",
        "clf = RandomForestClassifier(n_estimators=10000, random_state=0,criterion='entropy', n_jobs=-1)\n",
        "\n",
        "# Train the classifier\n",
        "clf.fit(X_train, y_train)\n",
        "\n",
        "# Print the name and gini importance of each feature\n",
        "for feature in zip(feature_labels, clf.feature_importances_):\n",
        "    print(feature)\n",
        "\n",
        "\n",
        "model = ExtraTreesClassifier()\n",
        "model.fit(X, y.values.ravel())\n",
        "# display the relative importance of each attribute\n",
        "#print(model.feature_importances_)\n",
        "\n",
        "\n",
        "# create the RFE model \n",
        "rfe = RFE(model, 3)\n",
        "rfe = rfe.fit(X, y.values.ravel())\n",
        "# summarize the selection of the attributes\n",
        "#print(rfe.support_)\n",
        "\n",
        "print(\"\\nFeatures with ranking:\\n\")\n",
        "for index in range(len(rfe.ranking_)):\n",
        "  print(feature_labels[index], rfe.ranking_[index])\n",
        "\n",
        "for index in range(len(rfe.ranking_)):\n",
        "  print( rfe.ranking_[index])\n",
        "#print(rfe.ranking_)\n",
        "#print(rfe.n_features_)\n",
        "#rfe.n_features_to_select\n"
      ],
      "execution_count": null,
      "outputs": []
    },
    {
      "cell_type": "markdown",
      "metadata": {
        "id": "xEiilh1dk_3o"
      },
      "source": [
        "## Label 3: Mild decrement San Bernardio county"
      ]
    },
    {
      "cell_type": "code",
      "metadata": {
        "id": "ZXeSilXPma0x"
      },
      "source": [
        "\n",
        "print(\"** Printing San Bernardino county data for Drastic Growth ** \")\n",
        "print(sanBernardio_labeled_data_growth3.shape)\n",
        "X = sanBernardio_labeled_data_growth3[feature_labels]\n",
        "y = sanBernardio_labeled_data_growth3[target_column]\n",
        "\n",
        "X_train, X_test, y_train, y_test = train_test_split(X, y, test_size=0.4, random_state=0)\n",
        "\n",
        "\n",
        "# Create a random forest classifier\n",
        "clf = RandomForestClassifier(n_estimators=10000, random_state=0, n_jobs=-1)\n",
        "\n",
        "# Train the classifier\n",
        "clf.fit(X_train, y_train)\n",
        "\n",
        "# Print the name and gini importance of each feature\n",
        "for feature in zip(feature_labels, clf.feature_importances_):\n",
        "    print(feature)\n",
        "\n",
        "\n",
        "\n",
        "#  Supported criteria are “gini” for the Gini impurity and “entropy” for the information gain. \n",
        "\n",
        "clf = RandomForestClassifier(n_estimators=10000, random_state=0,criterion='entropy', n_jobs=-1)\n",
        "\n",
        "# Train the classifier\n",
        "clf.fit(X_train, y_train)\n",
        "\n",
        "# Print the name and gini importance of each feature\n",
        "for feature in zip(feature_labels, clf.feature_importances_):\n",
        "    print(feature)\n",
        "\n",
        "\n",
        "model = ExtraTreesClassifier()\n",
        "model.fit(X, y.values.ravel())\n",
        "# display the relative importance of each attribute\n",
        "#print(model.feature_importances_)\n",
        "\n",
        "\n",
        "# create the RFE model \n",
        "rfe = RFE(model, 3)\n",
        "rfe = rfe.fit(X, y.values.ravel())\n",
        "# summarize the selection of the attributes\n",
        "#print(rfe.support_)\n",
        "\n",
        "print(\"\\nFeatures with ranking:\\n\")\n",
        "for index in range(len(rfe.ranking_)):\n",
        "  print(feature_labels[index], rfe.ranking_[index])\n",
        "\n",
        "for index in range(len(rfe.ranking_)):\n",
        "  print( rfe.ranking_[index])\n",
        "#print(rfe.ranking_)\n",
        "#print(rfe.n_features_)\n",
        "#rfe.n_features_to_select\n"
      ],
      "execution_count": null,
      "outputs": []
    },
    {
      "cell_type": "markdown",
      "metadata": {
        "id": "JxCFTBP6lCkb"
      },
      "source": [
        "## Label 4: Mild increment San Bernardio county"
      ]
    },
    {
      "cell_type": "code",
      "metadata": {
        "id": "un4YTpwWmeTm"
      },
      "source": [
        "\n",
        "print(\"** Printing San Bernardino county data for Drastic Growth ** \")\n",
        "print(sanBernardio_labeled_data_growth4.shape)\n",
        "X = sanBernardio_labeled_data_growth4[feature_labels]\n",
        "y = sanBernardio_labeled_data_growth4[target_column]\n",
        "\n",
        "X_train, X_test, y_train, y_test = train_test_split(X, y, test_size=0.4, random_state=0)\n",
        "\n",
        "\n",
        "# Create a random forest classifier\n",
        "clf = RandomForestClassifier(n_estimators=10000, random_state=0, n_jobs=-1)\n",
        "\n",
        "# Train the classifier\n",
        "clf.fit(X_train, y_train)\n",
        "\n",
        "# Print the name and gini importance of each feature\n",
        "for feature in zip(feature_labels, clf.feature_importances_):\n",
        "    print(feature)\n",
        "\n",
        "\n",
        "\n",
        "#  Supported criteria are “gini” for the Gini impurity and “entropy” for the information gain. \n",
        "\n",
        "clf = RandomForestClassifier(n_estimators=10000, random_state=0,criterion='entropy', n_jobs=-1)\n",
        "\n",
        "# Train the classifier\n",
        "clf.fit(X_train, y_train)\n",
        "\n",
        "# Print the name and gini importance of each feature\n",
        "for feature in zip(feature_labels, clf.feature_importances_):\n",
        "    print(feature)\n",
        "\n",
        "\n",
        "model = ExtraTreesClassifier()\n",
        "model.fit(X, y.values.ravel())\n",
        "# display the relative importance of each attribute\n",
        "#print(model.feature_importances_)\n",
        "\n",
        "\n",
        "# create the RFE model \n",
        "rfe = RFE(model, 3)\n",
        "rfe = rfe.fit(X, y.values.ravel())\n",
        "# summarize the selection of the attributes\n",
        "#print(rfe.support_)\n",
        "\n",
        "print(\"\\nFeatures with ranking:\\n\")\n",
        "for index in range(len(rfe.ranking_)):\n",
        "  print(feature_labels[index], rfe.ranking_[index])\n",
        "\n",
        "# for index in range(len(rfe.ranking_)):\n",
        "#   print( rfe.ranking_[index])\n",
        "#print(rfe.ranking_)\n",
        "#print(rfe.n_features_)\n",
        "#rfe.n_features_to_select\n"
      ],
      "execution_count": null,
      "outputs": []
    },
    {
      "cell_type": "markdown",
      "metadata": {
        "id": "aG-SCe6slGlf"
      },
      "source": [
        "# Feature importance using San Diego for inertia data"
      ]
    },
    {
      "cell_type": "code",
      "metadata": {
        "id": "yPkr9BPgmltS"
      },
      "source": [
        "sanDiego_labeled_data2 = pd.read_csv('/content/drive/Shared drives/CMPE 295- Master Project/Covid19-data/CA/CA_sd_inertia_labeledData_sandiego_Oct11.csv',low_memory=False)\n",
        "print(sanDiego_labeled_data2.shape)"
      ],
      "execution_count": null,
      "outputs": []
    },
    {
      "cell_type": "markdown",
      "metadata": {
        "id": "5ClnluJNlLKO"
      },
      "source": [
        "## preprocessing"
      ]
    },
    {
      "cell_type": "code",
      "metadata": {
        "id": "UuTQlWaVm61b"
      },
      "source": [
        "sanDiego_labeled_data2['growth_code'] = sanDiego_labeled_data2['growth_label'].astype('category').cat.codes\n",
        "\n",
        "sanDiego_labeled_data2.head(2)"
      ],
      "execution_count": null,
      "outputs": []
    },
    {
      "cell_type": "code",
      "metadata": {
        "id": "bTi-cKrInAMG"
      },
      "source": [
        "sanDiego_labeled_data2 = sanDiego_labeled_data2.fillna(0)"
      ],
      "execution_count": null,
      "outputs": []
    },
    {
      "cell_type": "code",
      "metadata": {
        "id": "R6P40go5nEHD"
      },
      "source": [
        "sanDiego_labeled_data_growth0 = sanDiego_labeled_data2[sanDiego_labeled_data2['growth_code'] == 0]\n",
        "sanDiego_labeled_data_growth1 = sanDiego_labeled_data2[sanDiego_labeled_data2['growth_code'] == 1]\n",
        "sanDiego_labeled_data_growth2 = sanDiego_labeled_data2[sanDiego_labeled_data2['growth_code'] == 2]\n",
        "sanDiego_labeled_data_growth3 = sanDiego_labeled_data2[sanDiego_labeled_data2['growth_code'] == 3]\n",
        "sanDiego_labeled_data_growth4 = sanDiego_labeled_data2[sanDiego_labeled_data2['growth_code'] == 4]\n",
        "\n",
        "print(sanDiego_labeled_data_growth0.shape)\n",
        "print(sanDiego_labeled_data_growth1.shape)\n",
        "print(sanDiego_labeled_data_growth2.shape)\n",
        "print(sanDiego_labeled_data_growth3.shape)\n",
        "print(sanDiego_labeled_data_growth4.shape)"
      ],
      "execution_count": null,
      "outputs": []
    },
    {
      "cell_type": "markdown",
      "metadata": {
        "id": "KvTJC0talNz0"
      },
      "source": [
        "## Label 0: Drastic decrement San Diego county"
      ]
    },
    {
      "cell_type": "code",
      "metadata": {
        "id": "ZXDsw-DQnR30"
      },
      "source": [
        "\n",
        "print(\"** Printing San Bernardino county data for Drastic Growth ** \")\n",
        "print(sanDiego_labeled_data_growth0.shape)\n",
        "X = sanDiego_labeled_data_growth0[feature_labels]\n",
        "y = sanDiego_labeled_data_growth0[target_column]\n",
        "\n",
        "X_train, X_test, y_train, y_test = train_test_split(X, y, test_size=0.4, random_state=0)\n",
        "\n",
        "\n",
        "# Create a random forest classifier\n",
        "clf = RandomForestClassifier(n_estimators=10000, random_state=0, n_jobs=-1)\n",
        "\n",
        "# Train the classifier\n",
        "clf.fit(X_train, y_train)\n",
        "\n",
        "# Print the name and gini importance of each feature\n",
        "for feature in zip(feature_labels, clf.feature_importances_):\n",
        "    print(feature)\n",
        "\n",
        "\n",
        "\n",
        "#  Supported criteria are “gini” for the Gini impurity and “entropy” for the information gain. \n",
        "\n",
        "clf = RandomForestClassifier(n_estimators=10000, random_state=0,criterion='entropy', n_jobs=-1)\n",
        "\n",
        "# Train the classifier\n",
        "clf.fit(X_train, y_train)\n",
        "\n",
        "# Print the name and gini importance of each feature\n",
        "for feature in zip(feature_labels, clf.feature_importances_):\n",
        "    print(feature)\n",
        "\n",
        "\n",
        "model = ExtraTreesClassifier()\n",
        "model.fit(X, y.values.ravel())\n",
        "# display the relative importance of each attribute\n",
        "#print(model.feature_importances_)\n",
        "\n",
        "\n",
        "# create the RFE model \n",
        "rfe = RFE(model, 3)\n",
        "rfe = rfe.fit(X, y.values.ravel())\n",
        "# summarize the selection of the attributes\n",
        "#print(rfe.support_)\n",
        "\n",
        "print(\"\\nFeatures with ranking:\\n\")\n",
        "for index in range(len(rfe.ranking_)):\n",
        "  print(feature_labels[index], rfe.ranking_[index])\n",
        "\n",
        "# for index in range(len(rfe.ranking_)):\n",
        "#   print( rfe.ranking_[index])\n",
        "#print(rfe.ranking_)\n",
        "#print(rfe.n_features_)\n",
        "#rfe.n_features_to_select\n"
      ],
      "execution_count": null,
      "outputs": []
    },
    {
      "cell_type": "markdown",
      "metadata": {
        "id": "vcCT2PmPlScC"
      },
      "source": [
        "## Label 1: Drastic growth San Diego county"
      ]
    },
    {
      "cell_type": "code",
      "metadata": {
        "id": "TGg35QSpnWSL"
      },
      "source": [
        "\n",
        "print(\"** Printing San Bernardino county data for Drastic Growth ** \")\n",
        "print(sanDiego_labeled_data_growth1.shape)\n",
        "X = sanDiego_labeled_data_growth1[feature_labels]\n",
        "y = sanDiego_labeled_data_growth1[target_column]\n",
        "\n",
        "X_train, X_test, y_train, y_test = train_test_split(X, y, test_size=0.4, random_state=0)\n",
        "\n",
        "\n",
        "# Create a random forest classifier\n",
        "clf = RandomForestClassifier(n_estimators=10000, random_state=0, n_jobs=-1)\n",
        "\n",
        "# Train the classifier\n",
        "clf.fit(X_train, y_train)\n",
        "\n",
        "# Print the name and gini importance of each feature\n",
        "for feature in zip(feature_labels, clf.feature_importances_):\n",
        "    print(feature)\n",
        "\n",
        "\n",
        "\n",
        "#  Supported criteria are “gini” for the Gini impurity and “entropy” for the information gain. \n",
        "\n",
        "clf = RandomForestClassifier(n_estimators=10000, random_state=0,criterion='entropy', n_jobs=-1)\n",
        "\n",
        "# Train the classifier\n",
        "clf.fit(X_train, y_train)\n",
        "\n",
        "# Print the name and gini importance of each feature\n",
        "for feature in zip(feature_labels, clf.feature_importances_):\n",
        "    print(feature)\n",
        "\n",
        "\n",
        "model = ExtraTreesClassifier()\n",
        "model.fit(X, y.values.ravel())\n",
        "# display the relative importance of each attribute\n",
        "#print(model.feature_importances_)\n",
        "\n",
        "\n",
        "# create the RFE model \n",
        "rfe = RFE(model, 3)\n",
        "rfe = rfe.fit(X, y.values.ravel())\n",
        "# summarize the selection of the attributes\n",
        "#print(rfe.support_)\n",
        "\n",
        "print(\"\\nFeatures with ranking:\\n\")\n",
        "for index in range(len(rfe.ranking_)):\n",
        "  print(feature_labels[index], rfe.ranking_[index])\n",
        "\n",
        "# for index in range(len(rfe.ranking_)):\n",
        "#   print( rfe.ranking_[index])\n",
        "#print(rfe.ranking_)\n",
        "#print(rfe.n_features_)\n",
        "#rfe.n_features_to_select\n"
      ],
      "execution_count": null,
      "outputs": []
    },
    {
      "cell_type": "markdown",
      "metadata": {
        "id": "aPSEICGIlWtI"
      },
      "source": [
        "## Label 2: Flat growth San Diego county"
      ]
    },
    {
      "cell_type": "code",
      "metadata": {
        "id": "xltuFA-OnaEY"
      },
      "source": [
        "\n",
        "print(\"** Printing San Bernardino county data for Drastic Growth ** \")\n",
        "print(sanDiego_labeled_data_growth2.shape)\n",
        "X = sanDiego_labeled_data_growth2[feature_labels]\n",
        "y = sanDiego_labeled_data_growth2[target_column]\n",
        "\n",
        "X_train, X_test, y_train, y_test = train_test_split(X, y, test_size=0.4, random_state=0)\n",
        "\n",
        "\n",
        "# Create a random forest classifier\n",
        "clf = RandomForestClassifier(n_estimators=10000, random_state=0, n_jobs=-1)\n",
        "\n",
        "# Train the classifier\n",
        "clf.fit(X_train, y_train)\n",
        "\n",
        "# Print the name and gini importance of each feature\n",
        "for feature in zip(feature_labels, clf.feature_importances_):\n",
        "    print(feature)\n",
        "\n",
        "\n",
        "\n",
        "#  Supported criteria are “gini” for the Gini impurity and “entropy” for the information gain. \n",
        "\n",
        "clf = RandomForestClassifier(n_estimators=10000, random_state=0,criterion='entropy', n_jobs=-1)\n",
        "\n",
        "# Train the classifier\n",
        "clf.fit(X_train, y_train)\n",
        "\n",
        "# Print the name and gini importance of each feature\n",
        "for feature in zip(feature_labels, clf.feature_importances_):\n",
        "    print(feature)\n",
        "\n",
        "\n",
        "model = ExtraTreesClassifier()\n",
        "model.fit(X, y.values.ravel())\n",
        "# display the relative importance of each attribute\n",
        "#print(model.feature_importances_)\n",
        "\n",
        "\n",
        "# create the RFE model \n",
        "rfe = RFE(model, 3)\n",
        "rfe = rfe.fit(X, y.values.ravel())\n",
        "# summarize the selection of the attributes\n",
        "#print(rfe.support_)\n",
        "\n",
        "print(\"\\nFeatures with ranking:\\n\")\n",
        "for index in range(len(rfe.ranking_)):\n",
        "  print(feature_labels[index], rfe.ranking_[index])\n",
        "\n",
        "# for index in range(len(rfe.ranking_)):\n",
        "#   print( rfe.ranking_[index])\n",
        "#print(rfe.ranking_)\n",
        "#print(rfe.n_features_)\n",
        "#rfe.n_features_to_select\n"
      ],
      "execution_count": null,
      "outputs": []
    },
    {
      "cell_type": "markdown",
      "metadata": {
        "id": "aqD14T8qlaG9"
      },
      "source": [
        "## Label 3: Mild decrement San Diego county"
      ]
    },
    {
      "cell_type": "code",
      "metadata": {
        "id": "7pxdtgDhndMd"
      },
      "source": [
        "\n",
        "print(\"** Printing San Bernardino county data for Drastic Growth ** \")\n",
        "print(sanDiego_labeled_data_growth3.shape)\n",
        "X = sanDiego_labeled_data_growth3[feature_labels]\n",
        "y = sanDiego_labeled_data_growth3[target_column]\n",
        "\n",
        "X_train, X_test, y_train, y_test = train_test_split(X, y, test_size=0.4, random_state=0)\n",
        "\n",
        "\n",
        "# Create a random forest classifier\n",
        "clf = RandomForestClassifier(n_estimators=10000, random_state=0, n_jobs=-1)\n",
        "\n",
        "# Train the classifier\n",
        "clf.fit(X_train, y_train)\n",
        "\n",
        "# Print the name and gini importance of each feature\n",
        "for feature in zip(feature_labels, clf.feature_importances_):\n",
        "    print(feature)\n",
        "\n",
        "\n",
        "\n",
        "#  Supported criteria are “gini” for the Gini impurity and “entropy” for the information gain. \n",
        "\n",
        "clf = RandomForestClassifier(n_estimators=10000, random_state=0,criterion='entropy', n_jobs=-1)\n",
        "\n",
        "# Train the classifier\n",
        "clf.fit(X_train, y_train)\n",
        "\n",
        "# Print the name and gini importance of each feature\n",
        "for feature in zip(feature_labels, clf.feature_importances_):\n",
        "    print(feature)\n",
        "\n",
        "\n",
        "model = ExtraTreesClassifier()\n",
        "model.fit(X, y.values.ravel())\n",
        "# display the relative importance of each attribute\n",
        "#print(model.feature_importances_)\n",
        "\n",
        "\n",
        "# create the RFE model \n",
        "rfe = RFE(model, 3)\n",
        "rfe = rfe.fit(X, y.values.ravel())\n",
        "# summarize the selection of the attributes\n",
        "#print(rfe.support_)\n",
        "\n",
        "print(\"\\nFeatures with ranking:\\n\")\n",
        "for index in range(len(rfe.ranking_)):\n",
        "  print(feature_labels[index], rfe.ranking_[index])\n",
        "\n",
        "# for index in range(len(rfe.ranking_)):\n",
        "#   print( rfe.ranking_[index])\n",
        "#print(rfe.ranking_)\n",
        "#print(rfe.n_features_)\n",
        "#rfe.n_features_to_select\n"
      ],
      "execution_count": null,
      "outputs": []
    },
    {
      "cell_type": "markdown",
      "metadata": {
        "id": "7AiQHOt0lelM"
      },
      "source": [
        "## Label 4: Mild increment San Diego county"
      ]
    },
    {
      "cell_type": "code",
      "metadata": {
        "id": "gI3tqzj5ngf9"
      },
      "source": [
        "\n",
        "print(\"** Printing San Bernardino county data for Drastic Growth ** \")\n",
        "print(sanDiego_labeled_data_growth4.shape)\n",
        "X = sanDiego_labeled_data_growth4[feature_labels]\n",
        "y = sanDiego_labeled_data_growth4[target_column]\n",
        "\n",
        "X_train, X_test, y_train, y_test = train_test_split(X, y, test_size=0.4, random_state=0)\n",
        "\n",
        "\n",
        "# Create a random forest classifier\n",
        "clf = RandomForestClassifier(n_estimators=10000, random_state=0, n_jobs=-1)\n",
        "\n",
        "# Train the classifier\n",
        "clf.fit(X_train, y_train)\n",
        "\n",
        "# Print the name and gini importance of each feature\n",
        "for feature in zip(feature_labels, clf.feature_importances_):\n",
        "    print(feature)\n",
        "\n",
        "\n",
        "\n",
        "#  Supported criteria are “gini” for the Gini impurity and “entropy” for the information gain. \n",
        "\n",
        "clf = RandomForestClassifier(n_estimators=10000, random_state=0,criterion='entropy', n_jobs=-1)\n",
        "\n",
        "# Train the classifier\n",
        "clf.fit(X_train, y_train)\n",
        "\n",
        "# Print the name and gini importance of each feature\n",
        "for feature in zip(feature_labels, clf.feature_importances_):\n",
        "    print(feature)\n",
        "\n",
        "\n",
        "model = ExtraTreesClassifier()\n",
        "model.fit(X, y.values.ravel())\n",
        "# display the relative importance of each attribute\n",
        "#print(model.feature_importances_)\n",
        "\n",
        "\n",
        "# create the RFE model \n",
        "rfe = RFE(model, 3)\n",
        "rfe = rfe.fit(X, y.values.ravel())\n",
        "# summarize the selection of the attributes\n",
        "#print(rfe.support_)\n",
        "\n",
        "print(\"\\nFeatures with ranking:\\n\")\n",
        "for index in range(len(rfe.ranking_)):\n",
        "  print(feature_labels[index], rfe.ranking_[index])\n",
        "\n",
        "# for index in range(len(rfe.ranking_)):\n",
        "#   print( rfe.ranking_[index])\n",
        "#print(rfe.ranking_)\n",
        "#print(rfe.n_features_)\n",
        "#rfe.n_features_to_select\n"
      ],
      "execution_count": null,
      "outputs": []
    }
  ]
}