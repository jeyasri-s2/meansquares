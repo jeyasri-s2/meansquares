{
  "nbformat": 4,
  "nbformat_minor": 0,
  "metadata": {
    "colab": {
      "name": "NY_FeatureRanking.ipynb",
      "provenance": [],
      "collapsed_sections": [],
      "toc_visible": true,
      "authorship_tag": "ABX9TyNLb2fNTXR81E8JQjLwu88E",
      "include_colab_link": true
    },
    "kernelspec": {
      "name": "python3",
      "display_name": "Python 3"
    }
  },
  "cells": [
    {
      "cell_type": "markdown",
      "metadata": {
        "id": "view-in-github",
        "colab_type": "text"
      },
      "source": [
        "<a href=\"https://colab.research.google.com/github/aarsanjani/meansquares/blob/master/NY_FeatureRanking.ipynb\" target=\"_parent\"><img src=\"https://colab.research.google.com/assets/colab-badge.svg\" alt=\"Open In Colab\"/></a>"
      ]
    },
    {
      "cell_type": "markdown",
      "metadata": {
        "id": "l346AV8oZPe-",
        "colab_type": "text"
      },
      "source": [
        "# Goal:\n",
        "Using Random Forest to estimate the gini index and feature importance for all features from NY dataset\n",
        "\n",
        "Using Scikit-learn to compute PCA"
      ]
    },
    {
      "cell_type": "markdown",
      "metadata": {
        "id": "thBIWXyoZh3U",
        "colab_type": "text"
      },
      "source": [
        "## Mount Google drive"
      ]
    },
    {
      "cell_type": "code",
      "metadata": {
        "id": "3N0GpmS9ZJFo",
        "colab_type": "code",
        "colab": {
          "base_uri": "https://localhost:8080/",
          "height": 55
        },
        "outputId": "61b034c9-84e8-439c-a87d-8fe6457c23db"
      },
      "source": [
        "from google.colab import drive\n",
        "drive.mount('/content/drive')"
      ],
      "execution_count": 44,
      "outputs": [
        {
          "output_type": "stream",
          "text": [
            "Drive already mounted at /content/drive; to attempt to forcibly remount, call drive.mount(\"/content/drive\", force_remount=True).\n"
          ],
          "name": "stdout"
        }
      ]
    },
    {
      "cell_type": "code",
      "metadata": {
        "id": "ogU_R9SvZjuR",
        "colab_type": "code",
        "colab": {}
      },
      "source": [
        "import pandas as pd\n",
        "import seaborn as sns\n",
        "\n",
        "from sklearn import preprocessing\n",
        "from sklearn.model_selection import train_test_split\n",
        "from sklearn.ensemble import ExtraTreesClassifier\n",
        "from sklearn.feature_selection import RFE\n",
        "from sklearn.preprocessing import LabelEncoder\n",
        "from sklearn.preprocessing import StandardScaler as ss\n",
        "import itertools\n",
        "from scipy import linalg\n",
        "from sklearn.ensemble import RandomForestClassifier\n",
        "from sklearn.tree import export_graphviz\n",
        "import numpy as np\n",
        "import matplotlib.pyplot as plt"
      ],
      "execution_count": 45,
      "outputs": []
    },
    {
      "cell_type": "markdown",
      "metadata": {
        "id": "mjW80L8CZzrv",
        "colab_type": "text"
      },
      "source": [
        "## Load data"
      ]
    },
    {
      "cell_type": "code",
      "metadata": {
        "id": "HzV2n_7iZwr9",
        "colab_type": "code",
        "colab": {
          "base_uri": "https://localhost:8080/",
          "height": 35
        },
        "outputId": "6244d941-b454-4c38-e7e5-ce30b4acd304"
      },
      "source": [
        "NY_labeled_data = pd.read_csv('/content/drive/Shared drives/CMPE 295- Master Project/Covid19-data/NY_labeledData_Sep13.csv',low_memory=False)\n",
        "print(NY_labeled_data.shape)"
      ],
      "execution_count": 46,
      "outputs": [
        {
          "output_type": "stream",
          "text": [
            "(9690, 19)\n"
          ],
          "name": "stdout"
        }
      ]
    },
    {
      "cell_type": "code",
      "metadata": {
        "id": "rphAMDm_aBqd",
        "colab_type": "code",
        "colab": {
          "base_uri": "https://localhost:8080/",
          "height": 363
        },
        "outputId": "08ce703e-b583-47a6-8ae4-8b87fd3e5220"
      },
      "source": [
        "NY_labeled_data.dtypes"
      ],
      "execution_count": 47,
      "outputs": [
        {
          "output_type": "execute_result",
          "data": {
            "text/plain": [
              "Date                      object\n",
              "fips_x                     int64\n",
              "County Name               object\n",
              "retail and recreation    float64\n",
              "grocery and pharmacy     float64\n",
              "parks                    float64\n",
              "transit stations         float64\n",
              "workplaces               float64\n",
              "residential              float64\n",
              "driving                  float64\n",
              "m50                      float64\n",
              "m50_index                  int64\n",
              "population_density       float64\n",
              "mask_rule_active           int64\n",
              "mask_wearing_percent     float64\n",
              "New cases                  int64\n",
              "rolling_avg_new_cases    float64\n",
              "label                     object\n",
              "growth_label              object\n",
              "dtype: object"
            ]
          },
          "metadata": {
            "tags": []
          },
          "execution_count": 47
        }
      ]
    },
    {
      "cell_type": "markdown",
      "metadata": {
        "id": "nItxaLWfcCGl",
        "colab_type": "text"
      },
      "source": [
        "## Preprocessing data \n",
        "\n",
        "* drop na\n",
        "* convert categorical code"
      ]
    },
    {
      "cell_type": "code",
      "metadata": {
        "id": "atHU0JIiaDsb",
        "colab_type": "code",
        "colab": {
          "base_uri": "https://localhost:8080/",
          "height": 197
        },
        "outputId": "6f02ac75-9dc5-467b-8884-863c580aa3e5"
      },
      "source": [
        "NY_labeled_data['label_code'] = NY_labeled_data['label'].astype('category').cat.codes\n",
        "\n",
        "NY_labeled_data.head(2)"
      ],
      "execution_count": 48,
      "outputs": [
        {
          "output_type": "execute_result",
          "data": {
            "text/html": [
              "<div>\n",
              "<style scoped>\n",
              "    .dataframe tbody tr th:only-of-type {\n",
              "        vertical-align: middle;\n",
              "    }\n",
              "\n",
              "    .dataframe tbody tr th {\n",
              "        vertical-align: top;\n",
              "    }\n",
              "\n",
              "    .dataframe thead th {\n",
              "        text-align: right;\n",
              "    }\n",
              "</style>\n",
              "<table border=\"1\" class=\"dataframe\">\n",
              "  <thead>\n",
              "    <tr style=\"text-align: right;\">\n",
              "      <th></th>\n",
              "      <th>Date</th>\n",
              "      <th>fips_x</th>\n",
              "      <th>County Name</th>\n",
              "      <th>retail and recreation</th>\n",
              "      <th>grocery and pharmacy</th>\n",
              "      <th>parks</th>\n",
              "      <th>transit stations</th>\n",
              "      <th>workplaces</th>\n",
              "      <th>residential</th>\n",
              "      <th>driving</th>\n",
              "      <th>m50</th>\n",
              "      <th>m50_index</th>\n",
              "      <th>population_density</th>\n",
              "      <th>mask_rule_active</th>\n",
              "      <th>mask_wearing_percent</th>\n",
              "      <th>New cases</th>\n",
              "      <th>rolling_avg_new_cases</th>\n",
              "      <th>label</th>\n",
              "      <th>growth_label</th>\n",
              "      <th>label_code</th>\n",
              "    </tr>\n",
              "  </thead>\n",
              "  <tbody>\n",
              "    <tr>\n",
              "      <th>0</th>\n",
              "      <td>2020-03-01</td>\n",
              "      <td>36001</td>\n",
              "      <td>Albany County</td>\n",
              "      <td>10.0</td>\n",
              "      <td>13.0</td>\n",
              "      <td>19.0</td>\n",
              "      <td>4.0</td>\n",
              "      <td>7.0</td>\n",
              "      <td>-1.0</td>\n",
              "      <td>-4.87</td>\n",
              "      <td>2.616</td>\n",
              "      <td>54</td>\n",
              "      <td>584.364958</td>\n",
              "      <td>0</td>\n",
              "      <td>0.0</td>\n",
              "      <td>0</td>\n",
              "      <td>0.0</td>\n",
              "      <td>LessSpread</td>\n",
              "      <td>flat_growth</td>\n",
              "      <td>0</td>\n",
              "    </tr>\n",
              "    <tr>\n",
              "      <th>1</th>\n",
              "      <td>2020-03-01</td>\n",
              "      <td>36003</td>\n",
              "      <td>Allegany County</td>\n",
              "      <td>47.0</td>\n",
              "      <td>13.0</td>\n",
              "      <td>0.0</td>\n",
              "      <td>0.0</td>\n",
              "      <td>1.0</td>\n",
              "      <td>0.0</td>\n",
              "      <td>19.81</td>\n",
              "      <td>0.707</td>\n",
              "      <td>12</td>\n",
              "      <td>44.778541</td>\n",
              "      <td>0</td>\n",
              "      <td>0.0</td>\n",
              "      <td>0</td>\n",
              "      <td>0.0</td>\n",
              "      <td>LessSpread</td>\n",
              "      <td>flat_growth</td>\n",
              "      <td>0</td>\n",
              "    </tr>\n",
              "  </tbody>\n",
              "</table>\n",
              "</div>"
            ],
            "text/plain": [
              "         Date  fips_x      County Name  ...       label  growth_label  label_code\n",
              "0  2020-03-01   36001    Albany County  ...  LessSpread   flat_growth           0\n",
              "1  2020-03-01   36003  Allegany County  ...  LessSpread   flat_growth           0\n",
              "\n",
              "[2 rows x 20 columns]"
            ]
          },
          "metadata": {
            "tags": []
          },
          "execution_count": 48
        }
      ]
    },
    {
      "cell_type": "code",
      "metadata": {
        "id": "xalDlwRNa4T-",
        "colab_type": "code",
        "colab": {}
      },
      "source": [
        "NY_labeled_data = NY_labeled_data.dropna()"
      ],
      "execution_count": 49,
      "outputs": []
    },
    {
      "cell_type": "code",
      "metadata": {
        "id": "oQdh_JQSaXlL",
        "colab_type": "code",
        "colab": {
          "base_uri": "https://localhost:8080/",
          "height": 103
        },
        "outputId": "a8e0f594-8354-483b-e32c-1565e5c41f13"
      },
      "source": [
        "NY_labeled_data[pd.isna(NY_labeled_data['label'])]"
      ],
      "execution_count": 50,
      "outputs": [
        {
          "output_type": "execute_result",
          "data": {
            "text/html": [
              "<div>\n",
              "<style scoped>\n",
              "    .dataframe tbody tr th:only-of-type {\n",
              "        vertical-align: middle;\n",
              "    }\n",
              "\n",
              "    .dataframe tbody tr th {\n",
              "        vertical-align: top;\n",
              "    }\n",
              "\n",
              "    .dataframe thead th {\n",
              "        text-align: right;\n",
              "    }\n",
              "</style>\n",
              "<table border=\"1\" class=\"dataframe\">\n",
              "  <thead>\n",
              "    <tr style=\"text-align: right;\">\n",
              "      <th></th>\n",
              "      <th>Date</th>\n",
              "      <th>fips_x</th>\n",
              "      <th>County Name</th>\n",
              "      <th>retail and recreation</th>\n",
              "      <th>grocery and pharmacy</th>\n",
              "      <th>parks</th>\n",
              "      <th>transit stations</th>\n",
              "      <th>workplaces</th>\n",
              "      <th>residential</th>\n",
              "      <th>driving</th>\n",
              "      <th>m50</th>\n",
              "      <th>m50_index</th>\n",
              "      <th>population_density</th>\n",
              "      <th>mask_rule_active</th>\n",
              "      <th>mask_wearing_percent</th>\n",
              "      <th>New cases</th>\n",
              "      <th>rolling_avg_new_cases</th>\n",
              "      <th>label</th>\n",
              "      <th>growth_label</th>\n",
              "      <th>label_code</th>\n",
              "    </tr>\n",
              "  </thead>\n",
              "  <tbody>\n",
              "  </tbody>\n",
              "</table>\n",
              "</div>"
            ],
            "text/plain": [
              "Empty DataFrame\n",
              "Columns: [Date, fips_x, County Name, retail and recreation, grocery and pharmacy, parks, transit stations, workplaces, residential, driving, m50, m50_index, population_density, mask_rule_active, mask_wearing_percent, New cases, rolling_avg_new_cases, label, growth_label, label_code]\n",
              "Index: []"
            ]
          },
          "metadata": {
            "tags": []
          },
          "execution_count": 50
        }
      ]
    },
    {
      "cell_type": "code",
      "metadata": {
        "id": "QqIRFkp-aPIE",
        "colab_type": "code",
        "colab": {
          "base_uri": "https://localhost:8080/",
          "height": 35
        },
        "outputId": "d6a7cce0-0868-4281-c0de-e8e3828fa737"
      },
      "source": [
        "NY_labeled_data['label_code'].unique()"
      ],
      "execution_count": 51,
      "outputs": [
        {
          "output_type": "execute_result",
          "data": {
            "text/plain": [
              "array([0, 2, 1], dtype=int8)"
            ]
          },
          "metadata": {
            "tags": []
          },
          "execution_count": 51
        }
      ]
    },
    {
      "cell_type": "code",
      "metadata": {
        "id": "u_0KNgMwbAtU",
        "colab_type": "code",
        "colab": {
          "base_uri": "https://localhost:8080/",
          "height": 339
        },
        "outputId": "0959dc69-65a3-489c-ef9c-935f818e9796"
      },
      "source": [
        "NY_labeled_data['growth_code'] = NY_labeled_data['growth_label'].astype('category').cat.codes\n",
        "NY_labeled_data.head()"
      ],
      "execution_count": 52,
      "outputs": [
        {
          "output_type": "execute_result",
          "data": {
            "text/html": [
              "<div>\n",
              "<style scoped>\n",
              "    .dataframe tbody tr th:only-of-type {\n",
              "        vertical-align: middle;\n",
              "    }\n",
              "\n",
              "    .dataframe tbody tr th {\n",
              "        vertical-align: top;\n",
              "    }\n",
              "\n",
              "    .dataframe thead th {\n",
              "        text-align: right;\n",
              "    }\n",
              "</style>\n",
              "<table border=\"1\" class=\"dataframe\">\n",
              "  <thead>\n",
              "    <tr style=\"text-align: right;\">\n",
              "      <th></th>\n",
              "      <th>Date</th>\n",
              "      <th>fips_x</th>\n",
              "      <th>County Name</th>\n",
              "      <th>retail and recreation</th>\n",
              "      <th>grocery and pharmacy</th>\n",
              "      <th>parks</th>\n",
              "      <th>transit stations</th>\n",
              "      <th>workplaces</th>\n",
              "      <th>residential</th>\n",
              "      <th>driving</th>\n",
              "      <th>m50</th>\n",
              "      <th>m50_index</th>\n",
              "      <th>population_density</th>\n",
              "      <th>mask_rule_active</th>\n",
              "      <th>mask_wearing_percent</th>\n",
              "      <th>New cases</th>\n",
              "      <th>rolling_avg_new_cases</th>\n",
              "      <th>label</th>\n",
              "      <th>growth_label</th>\n",
              "      <th>label_code</th>\n",
              "      <th>growth_code</th>\n",
              "    </tr>\n",
              "  </thead>\n",
              "  <tbody>\n",
              "    <tr>\n",
              "      <th>0</th>\n",
              "      <td>2020-03-01</td>\n",
              "      <td>36001</td>\n",
              "      <td>Albany County</td>\n",
              "      <td>10.0</td>\n",
              "      <td>13.0</td>\n",
              "      <td>19.0</td>\n",
              "      <td>4.0</td>\n",
              "      <td>7.0</td>\n",
              "      <td>-1.0</td>\n",
              "      <td>-4.87</td>\n",
              "      <td>2.616</td>\n",
              "      <td>54</td>\n",
              "      <td>584.364958</td>\n",
              "      <td>0</td>\n",
              "      <td>0.0</td>\n",
              "      <td>0</td>\n",
              "      <td>0.0</td>\n",
              "      <td>LessSpread</td>\n",
              "      <td>flat_growth</td>\n",
              "      <td>0</td>\n",
              "      <td>2</td>\n",
              "    </tr>\n",
              "    <tr>\n",
              "      <th>1</th>\n",
              "      <td>2020-03-01</td>\n",
              "      <td>36003</td>\n",
              "      <td>Allegany County</td>\n",
              "      <td>47.0</td>\n",
              "      <td>13.0</td>\n",
              "      <td>0.0</td>\n",
              "      <td>0.0</td>\n",
              "      <td>1.0</td>\n",
              "      <td>0.0</td>\n",
              "      <td>19.81</td>\n",
              "      <td>0.707</td>\n",
              "      <td>12</td>\n",
              "      <td>44.778541</td>\n",
              "      <td>0</td>\n",
              "      <td>0.0</td>\n",
              "      <td>0</td>\n",
              "      <td>0.0</td>\n",
              "      <td>LessSpread</td>\n",
              "      <td>flat_growth</td>\n",
              "      <td>0</td>\n",
              "      <td>2</td>\n",
              "    </tr>\n",
              "    <tr>\n",
              "      <th>2</th>\n",
              "      <td>2020-03-01</td>\n",
              "      <td>36123</td>\n",
              "      <td>Yates County</td>\n",
              "      <td>31.0</td>\n",
              "      <td>33.0</td>\n",
              "      <td>0.0</td>\n",
              "      <td>0.0</td>\n",
              "      <td>7.0</td>\n",
              "      <td>0.0</td>\n",
              "      <td>28.14</td>\n",
              "      <td>5.004</td>\n",
              "      <td>72</td>\n",
              "      <td>73.676584</td>\n",
              "      <td>0</td>\n",
              "      <td>0.0</td>\n",
              "      <td>0</td>\n",
              "      <td>0.0</td>\n",
              "      <td>LessSpread</td>\n",
              "      <td>flat_growth</td>\n",
              "      <td>0</td>\n",
              "      <td>2</td>\n",
              "    </tr>\n",
              "    <tr>\n",
              "      <th>3</th>\n",
              "      <td>2020-03-01</td>\n",
              "      <td>36119</td>\n",
              "      <td>Westchester County</td>\n",
              "      <td>8.0</td>\n",
              "      <td>-1.0</td>\n",
              "      <td>12.0</td>\n",
              "      <td>1.0</td>\n",
              "      <td>0.0</td>\n",
              "      <td>0.0</td>\n",
              "      <td>-4.34</td>\n",
              "      <td>3.903</td>\n",
              "      <td>59</td>\n",
              "      <td>2247.400697</td>\n",
              "      <td>0</td>\n",
              "      <td>0.0</td>\n",
              "      <td>0</td>\n",
              "      <td>0.0</td>\n",
              "      <td>LessSpread</td>\n",
              "      <td>flat_growth</td>\n",
              "      <td>0</td>\n",
              "      <td>2</td>\n",
              "    </tr>\n",
              "    <tr>\n",
              "      <th>4</th>\n",
              "      <td>2020-03-01</td>\n",
              "      <td>36031</td>\n",
              "      <td>Essex County</td>\n",
              "      <td>16.0</td>\n",
              "      <td>11.0</td>\n",
              "      <td>17.0</td>\n",
              "      <td>0.0</td>\n",
              "      <td>1.0</td>\n",
              "      <td>0.0</td>\n",
              "      <td>60.18</td>\n",
              "      <td>12.600</td>\n",
              "      <td>197</td>\n",
              "      <td>20.557565</td>\n",
              "      <td>0</td>\n",
              "      <td>0.0</td>\n",
              "      <td>0</td>\n",
              "      <td>0.0</td>\n",
              "      <td>LessSpread</td>\n",
              "      <td>flat_growth</td>\n",
              "      <td>0</td>\n",
              "      <td>2</td>\n",
              "    </tr>\n",
              "  </tbody>\n",
              "</table>\n",
              "</div>"
            ],
            "text/plain": [
              "         Date  fips_x         County Name  ...  growth_label  label_code  growth_code\n",
              "0  2020-03-01   36001       Albany County  ...   flat_growth           0            2\n",
              "1  2020-03-01   36003     Allegany County  ...   flat_growth           0            2\n",
              "2  2020-03-01   36123        Yates County  ...   flat_growth           0            2\n",
              "3  2020-03-01   36119  Westchester County  ...   flat_growth           0            2\n",
              "4  2020-03-01   36031        Essex County  ...   flat_growth           0            2\n",
              "\n",
              "[5 rows x 21 columns]"
            ]
          },
          "metadata": {
            "tags": []
          },
          "execution_count": 52
        }
      ]
    },
    {
      "cell_type": "code",
      "metadata": {
        "id": "Rnfoncl0bGfe",
        "colab_type": "code",
        "colab": {
          "base_uri": "https://localhost:8080/",
          "height": 35
        },
        "outputId": "4bcd652c-c431-4064-9aeb-ec636cfe9e5b"
      },
      "source": [
        "NY_labeled_data['growth_code'].unique()"
      ],
      "execution_count": 53,
      "outputs": [
        {
          "output_type": "execute_result",
          "data": {
            "text/plain": [
              "array([2, 1, 3, 4, 0], dtype=int8)"
            ]
          },
          "metadata": {
            "tags": []
          },
          "execution_count": 53
        }
      ]
    },
    {
      "cell_type": "code",
      "metadata": {
        "id": "1HVWG1aBcJQo",
        "colab_type": "code",
        "colab": {
          "base_uri": "https://localhost:8080/",
          "height": 397
        },
        "outputId": "6af8732d-de6d-4456-d86a-1411e4422670"
      },
      "source": [
        "NY_labeled_data.dtypes"
      ],
      "execution_count": 54,
      "outputs": [
        {
          "output_type": "execute_result",
          "data": {
            "text/plain": [
              "Date                      object\n",
              "fips_x                     int64\n",
              "County Name               object\n",
              "retail and recreation    float64\n",
              "grocery and pharmacy     float64\n",
              "parks                    float64\n",
              "transit stations         float64\n",
              "workplaces               float64\n",
              "residential              float64\n",
              "driving                  float64\n",
              "m50                      float64\n",
              "m50_index                  int64\n",
              "population_density       float64\n",
              "mask_rule_active           int64\n",
              "mask_wearing_percent     float64\n",
              "New cases                  int64\n",
              "rolling_avg_new_cases    float64\n",
              "label                     object\n",
              "growth_label              object\n",
              "label_code                  int8\n",
              "growth_code                 int8\n",
              "dtype: object"
            ]
          },
          "metadata": {
            "tags": []
          },
          "execution_count": 54
        }
      ]
    },
    {
      "cell_type": "code",
      "metadata": {
        "id": "yX_kHC3K5I8j",
        "colab_type": "code",
        "colab": {
          "base_uri": "https://localhost:8080/",
          "height": 35
        },
        "outputId": "34cc83cd-4563-4ff5-fe3a-6d7541e0e9e8"
      },
      "source": [
        "len(feature_labels)"
      ],
      "execution_count": 118,
      "outputs": [
        {
          "output_type": "execute_result",
          "data": {
            "text/plain": [
              "11"
            ]
          },
          "metadata": {
            "tags": []
          },
          "execution_count": 118
        }
      ]
    },
    {
      "cell_type": "code",
      "metadata": {
        "id": "Q015pwCsbJRZ",
        "colab_type": "code",
        "colab": {}
      },
      "source": [
        "feature_labels = ['retail and recreation','grocery and pharmacy','parks','transit stations','workplaces','residential','driving','m50','m50_index',\n",
        "               'population_density','mask_rule_active']\n",
        "\n",
        "target_column = ['label_code']\n",
        "\n",
        "X = NY_labeled_data[feature_labels]\n",
        "y = NY_labeled_data[target_column]\n",
        "\n",
        "X_train, X_test, y_train, y_test = train_test_split(X, y, test_size=0.4, random_state=0)\n"
      ],
      "execution_count": 55,
      "outputs": []
    },
    {
      "cell_type": "markdown",
      "metadata": {
        "id": "JCogtyG2c_KJ",
        "colab_type": "text"
      },
      "source": [
        "# Train Random Forest classifier"
      ]
    },
    {
      "cell_type": "code",
      "metadata": {
        "id": "2WlgVFSHbGWY",
        "colab_type": "code",
        "colab": {
          "base_uri": "https://localhost:8080/",
          "height": 262
        },
        "outputId": "83ed0ea9-9c05-4674-995a-d6906e3f6097"
      },
      "source": [
        "# Create a random forest classifier\n",
        "clf = RandomForestClassifier(n_estimators=10000, random_state=0, n_jobs=-1)\n",
        "\n",
        "# Train the classifier\n",
        "clf.fit(X_train, y_train)\n",
        "\n",
        "# Print the name and gini importance of each feature\n",
        "for feature in zip(feature_labels, clf.feature_importances_):\n",
        "    print(feature)"
      ],
      "execution_count": 56,
      "outputs": [
        {
          "output_type": "stream",
          "text": [
            "/usr/local/lib/python3.6/dist-packages/ipykernel_launcher.py:5: DataConversionWarning: A column-vector y was passed when a 1d array was expected. Please change the shape of y to (n_samples,), for example using ravel().\n",
            "  \"\"\"\n"
          ],
          "name": "stderr"
        },
        {
          "output_type": "stream",
          "text": [
            "('retail and recreation', 0.08533237907689088)\n",
            "('grocery and pharmacy', 0.07432744335920005)\n",
            "('parks', 0.08480298060160986)\n",
            "('transit stations', 0.08796250851161055)\n",
            "('workplaces', 0.09479738178990016)\n",
            "('residential', 0.06285539885421815)\n",
            "('driving', 0.13091202907639612)\n",
            "('m50', 0.09735863140413215)\n",
            "('m50_index', 0.07388504135209598)\n",
            "('population_density', 0.16029826261037747)\n",
            "('mask_rule_active', 0.04746794336356852)\n"
          ],
          "name": "stdout"
        }
      ]
    },
    {
      "cell_type": "code",
      "metadata": {
        "id": "3Vc0z9x3dsxZ",
        "colab_type": "code",
        "colab": {
          "base_uri": "https://localhost:8080/",
          "height": 262
        },
        "outputId": "08767bf1-a3fb-4c0c-dda3-844a89b76bac"
      },
      "source": [
        "\n",
        "#  Supported criteria are “gini” for the Gini impurity and “entropy” for the information gain. \n",
        "\n",
        "clf = RandomForestClassifier(n_estimators=10000, random_state=0,criterion='entropy', n_jobs=-1)\n",
        "\n",
        "# Train the classifier\n",
        "clf.fit(X_train, y_train)\n",
        "\n",
        "# Print the name and gini importance of each feature\n",
        "for feature in zip(feature_labels, clf.feature_importances_):\n",
        "    print(feature)"
      ],
      "execution_count": 57,
      "outputs": [
        {
          "output_type": "stream",
          "text": [
            "/usr/local/lib/python3.6/dist-packages/ipykernel_launcher.py:7: DataConversionWarning: A column-vector y was passed when a 1d array was expected. Please change the shape of y to (n_samples,), for example using ravel().\n",
            "  import sys\n"
          ],
          "name": "stderr"
        },
        {
          "output_type": "stream",
          "text": [
            "('retail and recreation', 0.06739541253738059)\n",
            "('grocery and pharmacy', 0.04860335482970266)\n",
            "('parks', 0.051090256823234766)\n",
            "('transit stations', 0.08608358869920833)\n",
            "('workplaces', 0.06382473110426025)\n",
            "('residential', 0.054494080882956875)\n",
            "('driving', 0.16064985960050648)\n",
            "('m50', 0.06833588120137825)\n",
            "('m50_index', 0.058118905331399844)\n",
            "('population_density', 0.20277183002695343)\n",
            "('mask_rule_active', 0.13863209896301856)\n"
          ],
          "name": "stdout"
        }
      ]
    },
    {
      "cell_type": "markdown",
      "metadata": {
        "id": "D3zWG9KkfUfd",
        "colab_type": "text"
      },
      "source": [
        "# PCA Computation"
      ]
    },
    {
      "cell_type": "code",
      "metadata": {
        "id": "E4VmR9P-5JqM",
        "colab_type": "code",
        "colab": {
          "base_uri": "https://localhost:8080/",
          "height": 35
        },
        "outputId": "d2323756-2531-48e8-f290-46b140ac039d"
      },
      "source": [
        "print(len(feature_labels))"
      ],
      "execution_count": 58,
      "outputs": [
        {
          "output_type": "stream",
          "text": [
            "11\n"
          ],
          "name": "stdout"
        }
      ]
    },
    {
      "cell_type": "code",
      "metadata": {
        "id": "zjEtAIc621LQ",
        "colab_type": "code",
        "colab": {
          "base_uri": "https://localhost:8080/",
          "height": 363
        },
        "outputId": "d1532424-a29e-4922-912b-6113df9f81eb"
      },
      "source": [
        "# split into training and testing datasets\n",
        "\n",
        "\n",
        "X = NY_labeled_data[feature_labels].values\n",
        "y = NY_labeled_data[target_column].values\n",
        "\n",
        "X_train, X_test, y_train, y_test = train_test_split(X, y, test_size=0.3,stratify=y, random_state=0)\n",
        "print(X_train)\n",
        "print(y_train)"
      ],
      "execution_count": 59,
      "outputs": [
        {
          "output_type": "stream",
          "text": [
            "[[-41.          -4.           0.         ...   1.          92.94832241\n",
            "    0.        ]\n",
            " [  0.           0.           0.         ...   0.         103.13346624\n",
            "    1.        ]\n",
            " [-52.         -18.           0.         ...   0.          77.54974226\n",
            "    0.        ]\n",
            " ...\n",
            " [-32.          -2.         142.         ...  35.         474.24509357\n",
            "    1.        ]\n",
            " [ -2.           7.           0.         ...  81.         116.20075466\n",
            "    1.        ]\n",
            " [  1.          20.           0.         ...  74.         123.0746598\n",
            "    1.        ]]\n",
            "[[0]\n",
            " [0]\n",
            " [0]\n",
            " ...\n",
            " [0]\n",
            " [0]\n",
            " [0]]\n"
          ],
          "name": "stdout"
        }
      ]
    },
    {
      "cell_type": "code",
      "metadata": {
        "id": "9A68OlBw4WoF",
        "colab_type": "code",
        "colab": {}
      },
      "source": [
        "# standardize the features\n",
        "sc = ss()\n",
        "X_train_std = sc.fit_transform(X_train)\n",
        "X_test_std = sc.transform(X_test)"
      ],
      "execution_count": 60,
      "outputs": []
    },
    {
      "cell_type": "code",
      "metadata": {
        "id": "ev-2B1Qf6XTa",
        "colab_type": "code",
        "colab": {}
      },
      "source": [
        "from sklearn.decomposition import PCA\n",
        "pca = PCA(n_components=2)\n",
        "principalComponents = pca.fit_transform(X)\n",
        "principalDf = pd.DataFrame(data = principalComponents\n",
        "             , columns = ['principal component 1', 'principal component 2'])"
      ],
      "execution_count": 61,
      "outputs": []
    },
    {
      "cell_type": "code",
      "metadata": {
        "id": "pYJms-Kj8RR6",
        "colab_type": "code",
        "colab": {
          "base_uri": "https://localhost:8080/",
          "height": 407
        },
        "outputId": "8eb6162b-0d72-4c86-be54-453c07669ef1"
      },
      "source": [
        "principalDf"
      ],
      "execution_count": 62,
      "outputs": [
        {
          "output_type": "execute_result",
          "data": {
            "text/html": [
              "<div>\n",
              "<style scoped>\n",
              "    .dataframe tbody tr th:only-of-type {\n",
              "        vertical-align: middle;\n",
              "    }\n",
              "\n",
              "    .dataframe tbody tr th {\n",
              "        vertical-align: top;\n",
              "    }\n",
              "\n",
              "    .dataframe thead th {\n",
              "        text-align: right;\n",
              "    }\n",
              "</style>\n",
              "<table border=\"1\" class=\"dataframe\">\n",
              "  <thead>\n",
              "    <tr style=\"text-align: right;\">\n",
              "      <th></th>\n",
              "      <th>principal component 1</th>\n",
              "      <th>principal component 2</th>\n",
              "    </tr>\n",
              "  </thead>\n",
              "  <tbody>\n",
              "    <tr>\n",
              "      <th>0</th>\n",
              "      <td>-1034.447151</td>\n",
              "      <td>-25.923401</td>\n",
              "    </tr>\n",
              "    <tr>\n",
              "      <th>1</th>\n",
              "      <td>-1574.052167</td>\n",
              "      <td>-12.438974</td>\n",
              "    </tr>\n",
              "    <tr>\n",
              "      <th>2</th>\n",
              "      <td>-1545.203647</td>\n",
              "      <td>16.139235</td>\n",
              "    </tr>\n",
              "    <tr>\n",
              "      <th>3</th>\n",
              "      <td>628.599626</td>\n",
              "      <td>-23.007167</td>\n",
              "    </tr>\n",
              "    <tr>\n",
              "      <th>4</th>\n",
              "      <td>-1598.429868</td>\n",
              "      <td>82.657778</td>\n",
              "    </tr>\n",
              "    <tr>\n",
              "      <th>...</th>\n",
              "      <td>...</td>\n",
              "      <td>...</td>\n",
              "    </tr>\n",
              "    <tr>\n",
              "      <th>9643</th>\n",
              "      <td>-1513.958742</td>\n",
              "      <td>134.111690</td>\n",
              "    </tr>\n",
              "    <tr>\n",
              "      <th>9644</th>\n",
              "      <td>-1523.560144</td>\n",
              "      <td>81.508441</td>\n",
              "    </tr>\n",
              "    <tr>\n",
              "      <th>9645</th>\n",
              "      <td>-1550.360727</td>\n",
              "      <td>78.043523</td>\n",
              "    </tr>\n",
              "    <tr>\n",
              "      <th>9646</th>\n",
              "      <td>0.115867</td>\n",
              "      <td>31.733177</td>\n",
              "    </tr>\n",
              "    <tr>\n",
              "      <th>9647</th>\n",
              "      <td>-1545.621460</td>\n",
              "      <td>296.622322</td>\n",
              "    </tr>\n",
              "  </tbody>\n",
              "</table>\n",
              "<p>9648 rows × 2 columns</p>\n",
              "</div>"
            ],
            "text/plain": [
              "      principal component 1  principal component 2\n",
              "0              -1034.447151             -25.923401\n",
              "1              -1574.052167             -12.438974\n",
              "2              -1545.203647              16.139235\n",
              "3                628.599626             -23.007167\n",
              "4              -1598.429868              82.657778\n",
              "...                     ...                    ...\n",
              "9643           -1513.958742             134.111690\n",
              "9644           -1523.560144              81.508441\n",
              "9645           -1550.360727              78.043523\n",
              "9646               0.115867              31.733177\n",
              "9647           -1545.621460             296.622322\n",
              "\n",
              "[9648 rows x 2 columns]"
            ]
          },
          "metadata": {
            "tags": []
          },
          "execution_count": 62
        }
      ]
    },
    {
      "cell_type": "code",
      "metadata": {
        "id": "rDNqe9dF6eZA",
        "colab_type": "code",
        "colab": {
          "base_uri": "https://localhost:8080/",
          "height": 407
        },
        "outputId": "a4953f5d-49c2-4d6a-850a-2f199ad548dc"
      },
      "source": [
        "finalDf = pd.concat([principalDf, NY_labeled_data[target_column]],axis=1 )\n",
        "finalDf"
      ],
      "execution_count": 63,
      "outputs": [
        {
          "output_type": "execute_result",
          "data": {
            "text/html": [
              "<div>\n",
              "<style scoped>\n",
              "    .dataframe tbody tr th:only-of-type {\n",
              "        vertical-align: middle;\n",
              "    }\n",
              "\n",
              "    .dataframe tbody tr th {\n",
              "        vertical-align: top;\n",
              "    }\n",
              "\n",
              "    .dataframe thead th {\n",
              "        text-align: right;\n",
              "    }\n",
              "</style>\n",
              "<table border=\"1\" class=\"dataframe\">\n",
              "  <thead>\n",
              "    <tr style=\"text-align: right;\">\n",
              "      <th></th>\n",
              "      <th>principal component 1</th>\n",
              "      <th>principal component 2</th>\n",
              "      <th>label_code</th>\n",
              "    </tr>\n",
              "  </thead>\n",
              "  <tbody>\n",
              "    <tr>\n",
              "      <th>0</th>\n",
              "      <td>-1034.447151</td>\n",
              "      <td>-25.923401</td>\n",
              "      <td>0.0</td>\n",
              "    </tr>\n",
              "    <tr>\n",
              "      <th>1</th>\n",
              "      <td>-1574.052167</td>\n",
              "      <td>-12.438974</td>\n",
              "      <td>0.0</td>\n",
              "    </tr>\n",
              "    <tr>\n",
              "      <th>2</th>\n",
              "      <td>-1545.203647</td>\n",
              "      <td>16.139235</td>\n",
              "      <td>0.0</td>\n",
              "    </tr>\n",
              "    <tr>\n",
              "      <th>3</th>\n",
              "      <td>628.599626</td>\n",
              "      <td>-23.007167</td>\n",
              "      <td>0.0</td>\n",
              "    </tr>\n",
              "    <tr>\n",
              "      <th>4</th>\n",
              "      <td>-1598.429868</td>\n",
              "      <td>82.657778</td>\n",
              "      <td>0.0</td>\n",
              "    </tr>\n",
              "    <tr>\n",
              "      <th>...</th>\n",
              "      <td>...</td>\n",
              "      <td>...</td>\n",
              "      <td>...</td>\n",
              "    </tr>\n",
              "    <tr>\n",
              "      <th>9685</th>\n",
              "      <td>NaN</td>\n",
              "      <td>NaN</td>\n",
              "      <td>0.0</td>\n",
              "    </tr>\n",
              "    <tr>\n",
              "      <th>9686</th>\n",
              "      <td>NaN</td>\n",
              "      <td>NaN</td>\n",
              "      <td>0.0</td>\n",
              "    </tr>\n",
              "    <tr>\n",
              "      <th>9687</th>\n",
              "      <td>NaN</td>\n",
              "      <td>NaN</td>\n",
              "      <td>0.0</td>\n",
              "    </tr>\n",
              "    <tr>\n",
              "      <th>9688</th>\n",
              "      <td>NaN</td>\n",
              "      <td>NaN</td>\n",
              "      <td>0.0</td>\n",
              "    </tr>\n",
              "    <tr>\n",
              "      <th>9689</th>\n",
              "      <td>NaN</td>\n",
              "      <td>NaN</td>\n",
              "      <td>0.0</td>\n",
              "    </tr>\n",
              "  </tbody>\n",
              "</table>\n",
              "<p>9690 rows × 3 columns</p>\n",
              "</div>"
            ],
            "text/plain": [
              "      principal component 1  principal component 2  label_code\n",
              "0              -1034.447151             -25.923401         0.0\n",
              "1              -1574.052167             -12.438974         0.0\n",
              "2              -1545.203647              16.139235         0.0\n",
              "3                628.599626             -23.007167         0.0\n",
              "4              -1598.429868              82.657778         0.0\n",
              "...                     ...                    ...         ...\n",
              "9685                    NaN                    NaN         0.0\n",
              "9686                    NaN                    NaN         0.0\n",
              "9687                    NaN                    NaN         0.0\n",
              "9688                    NaN                    NaN         0.0\n",
              "9689                    NaN                    NaN         0.0\n",
              "\n",
              "[9690 rows x 3 columns]"
            ]
          },
          "metadata": {
            "tags": []
          },
          "execution_count": 63
        }
      ]
    },
    {
      "cell_type": "code",
      "metadata": {
        "id": "nx4DfVPy6uI6",
        "colab_type": "code",
        "colab": {
          "base_uri": "https://localhost:8080/",
          "height": 575
        },
        "outputId": "7accc0e4-7d61-4685-8240-59b3f217e58f"
      },
      "source": [
        "fig = plt.figure(figsize = (8,8))\n",
        "ax = fig.add_subplot(1,1,1) \n",
        "ax.set_xlabel('Principal Component 1', fontsize = 15)\n",
        "ax.set_ylabel('Principal Component 2', fontsize = 15)\n",
        "ax.set_title('2 component PCA', fontsize = 20)\n",
        "targets = ['LowSpread', 'Spread', 'SuperSpread']\n",
        "targets2 = np.unique(y_train)\n",
        "colors = ['r', 'g', 'b']\n",
        "for target, color in zip(targets2,colors):\n",
        "    print(target)\n",
        "    indicesToKeep = finalDf['label_code'] == target\n",
        "    ax.scatter(finalDf.loc[indicesToKeep, 'principal component 1']\n",
        "               , finalDf.loc[indicesToKeep, 'principal component 2']\n",
        "               , c = color\n",
        "               , s = 50)\n",
        "ax.legend(targets)\n",
        "ax.grid()"
      ],
      "execution_count": 64,
      "outputs": [
        {
          "output_type": "stream",
          "text": [
            "0\n",
            "1\n",
            "2\n"
          ],
          "name": "stdout"
        },
        {
          "output_type": "display_data",
          "data": {
            "image/png": "[encoded data removed]",
            "text/plain": [
              "<Figure size 576x576 with 1 Axes>"
            ]
          },
          "metadata": {
            "tags": [],
            "needs_background": "light"
          }
        }
      ]
    },
    {
      "cell_type": "code",
      "metadata": {
        "id": "1MDNSQeG4ZWI",
        "colab_type": "code",
        "colab": {}
      },
      "source": [
        "#obtain the eigenpairs of the Wine covariance matrix:\n",
        "#data_cov = np.dot(np.transpose(data.values),data.values)\n",
        "#data_cov\n",
        "X_train_cov = np.cov(X_train_std.T)\n",
        "w, v = np.linalg.eig(X_train_cov)"
      ],
      "execution_count": 65,
      "outputs": []
    },
    {
      "cell_type": "code",
      "metadata": {
        "id": "Too9Fkoi4cBt",
        "colab_type": "code",
        "colab": {
          "base_uri": "https://localhost:8080/",
          "height": 86
        },
        "outputId": "0e92b2ac-b405-481f-82af-289e8723ebb6"
      },
      "source": [
        "#The percent of variability contained within each component\n",
        "w_percent = (w/np.sum(w))*100                 \n",
        "print(w, '-> eigenvalues')\n",
        "print(w_percent, ' -> percent of variability explained')"
      ],
      "execution_count": 66,
      "outputs": [
        {
          "output_type": "stream",
          "text": [
            "[4.94047277 1.45440325 1.10594134 0.88798726 0.73024216 0.54021503\n",
            " 0.17359132 0.186166   0.23395742 0.41623041 0.33242218] -> eigenvalues\n",
            "[44.90673796 13.21988985 10.05252337  8.07141602  6.63758207  4.9103185\n",
            "  1.5778692   1.69216759  2.12657072  3.78335245  3.02157227]  -> percent of variability explained\n"
          ],
          "name": "stdout"
        }
      ]
    },
    {
      "cell_type": "code",
      "metadata": {
        "id": "sxWTQTRD4ebt",
        "colab_type": "code",
        "colab": {
          "base_uri": "https://localhost:8080/",
          "height": 295
        },
        "outputId": "fb36e135-b695-4703-d1e7-82c21e4b3540"
      },
      "source": [
        "# calculate cumulative sum of explained variances\n",
        "tot = sum(w)\n",
        "var_exp = [(i / tot) for i in sorted(w, reverse=True)]\n",
        "cum_var_exp = np.cumsum(var_exp)\n",
        "\n",
        "# plot explained variances\n",
        "plt.title(\"Component-wise and Cumulative Explained Variance\")\n",
        "plt.bar(range(0,11), var_exp, alpha=0.5,\n",
        "        align='center', label='individual explained variance')\n",
        "plt.step(range(0,11), cum_var_exp, where='mid',\n",
        "         label='Percentage of variability explained')\n",
        "plt.ylabel('Explained variance ratio')\n",
        "plt.xlabel('Principal component index')\n",
        "plt.legend(loc='best')\n",
        "plt.show()"
      ],
      "execution_count": 67,
      "outputs": [
        {
          "output_type": "display_data",
          "data": {
            "image/png": "[encoded data removed]",
            "text/plain": [
              "<Figure size 432x288 with 1 Axes>"
            ]
          },
          "metadata": {
            "tags": [],
            "needs_background": "light"
          }
        }
      ]
    },
    {
      "cell_type": "code",
      "metadata": {
        "id": "SGCUhk0-4hY-",
        "colab_type": "code",
        "colab": {
          "base_uri": "https://localhost:8080/",
          "height": 225
        },
        "outputId": "8a0638eb-28ee-4e36-b1bf-f8c628278ca9"
      },
      "source": [
        "# Make a list of (eigenvalue, eigenvector) tuples\n",
        "eigen_pairs = [(np.abs(w[i]), v[:, i]) for i in range(len(w))]\n",
        "\n",
        "# Sort the (eigenvalue, eigenvector) tuples from high to low\n",
        "eigen_pairs.sort(key=lambda k: k[0], reverse=True)\n",
        "w2 = np.hstack((eigen_pairs[0][1][:, np.newaxis], eigen_pairs[1][1][:, np.newaxis]))\n",
        "print('Matrix W2:\\n', w2)"
      ],
      "execution_count": 68,
      "outputs": [
        {
          "output_type": "stream",
          "text": [
            "Matrix W2:\n",
            " [[ 0.39978983 -0.05884997]\n",
            " [ 0.32059784 -0.04310409]\n",
            " [-0.02417421  0.22351982]\n",
            " [ 0.33832886 -0.2052277 ]\n",
            " [ 0.32958449 -0.35442123]\n",
            " [-0.34148284  0.28226578]\n",
            " [ 0.33553458  0.35030871]\n",
            " [ 0.35072823  0.23776764]\n",
            " [ 0.34862223  0.22736867]\n",
            " [-0.16982539  0.14800005]\n",
            " [ 0.10547974  0.66667882]]\n"
          ],
          "name": "stdout"
        }
      ]
    },
    {
      "cell_type": "code",
      "metadata": {
        "id": "PvPOq3Ru4nzj",
        "colab_type": "code",
        "colab": {
          "base_uri": "https://localhost:8080/",
          "height": 138
        },
        "outputId": "c7ff0912-9fed-492e-ac1a-9b1ad3e874c5"
      },
      "source": [
        "X_train_pca = X_train_std.dot(w2)\n",
        "print(X_train_pca)"
      ],
      "execution_count": 69,
      "outputs": [
        {
          "output_type": "stream",
          "text": [
            "[[-2.40209567 -1.5551451 ]\n",
            " [-0.29360447 -0.84097923]\n",
            " [-2.96635059 -1.92824807]\n",
            " ...\n",
            " [-1.40364883  1.31396318]\n",
            " [ 1.29539197  0.74987007]\n",
            " [ 1.59797032  0.513705  ]]\n"
          ],
          "name": "stdout"
        }
      ]
    },
    {
      "cell_type": "code",
      "metadata": {
        "id": "zZ5Dzp2t6AMb",
        "colab_type": "code",
        "colab": {
          "base_uri": "https://localhost:8080/",
          "height": 138
        },
        "outputId": "027d43e3-ac11-43ee-8cd9-62e0d2096ec9"
      },
      "source": [
        "np.unique(y_train)\n",
        "X_train_pca"
      ],
      "execution_count": 70,
      "outputs": [
        {
          "output_type": "execute_result",
          "data": {
            "text/plain": [
              "array([[-2.40209567, -1.5551451 ],\n",
              "       [-0.29360447, -0.84097923],\n",
              "       [-2.96635059, -1.92824807],\n",
              "       ...,\n",
              "       [-1.40364883,  1.31396318],\n",
              "       [ 1.29539197,  0.74987007],\n",
              "       [ 1.59797032,  0.513705  ]])"
            ]
          },
          "metadata": {
            "tags": []
          },
          "execution_count": 70
        }
      ]
    },
    {
      "cell_type": "code",
      "metadata": {
        "id": "Yy7tY3_4nMAh",
        "colab_type": "code",
        "colab": {
          "base_uri": "https://localhost:8080/",
          "height": 397
        },
        "outputId": "63483962-fe14-4745-b474-75d889f27641"
      },
      "source": [
        "NY_labeled_data.dtypes"
      ],
      "execution_count": 71,
      "outputs": [
        {
          "output_type": "execute_result",
          "data": {
            "text/plain": [
              "Date                      object\n",
              "fips_x                     int64\n",
              "County Name               object\n",
              "retail and recreation    float64\n",
              "grocery and pharmacy     float64\n",
              "parks                    float64\n",
              "transit stations         float64\n",
              "workplaces               float64\n",
              "residential              float64\n",
              "driving                  float64\n",
              "m50                      float64\n",
              "m50_index                  int64\n",
              "population_density       float64\n",
              "mask_rule_active           int64\n",
              "mask_wearing_percent     float64\n",
              "New cases                  int64\n",
              "rolling_avg_new_cases    float64\n",
              "label                     object\n",
              "growth_label              object\n",
              "label_code                  int8\n",
              "growth_code                 int8\n",
              "dtype: object"
            ]
          },
          "metadata": {
            "tags": []
          },
          "execution_count": 71
        }
      ]
    },
    {
      "cell_type": "code",
      "metadata": {
        "id": "TCDK47OFmUam",
        "colab_type": "code",
        "colab": {
          "base_uri": "https://localhost:8080/",
          "height": 363
        },
        "outputId": "eeda2e45-58fd-465f-d8c9-03479f2c262f"
      },
      "source": [
        "NY_labeled_data['County Name'].unique()"
      ],
      "execution_count": 72,
      "outputs": [
        {
          "output_type": "execute_result",
          "data": {
            "text/plain": [
              "array(['Albany County', 'Allegany County', 'Yates County',\n",
              "       'Westchester County', 'Essex County', 'Saratoga County',\n",
              "       'Genesee County', 'Livingston County', 'Otsego County',\n",
              "       'Delaware County', 'Warren County', 'Suffolk County',\n",
              "       'New York County', 'St. Lawrence County', 'Greene County',\n",
              "       'Lewis County', 'Putnam County', 'Cortland County',\n",
              "       'Chautauqua County', 'Washington County', 'Oneida County',\n",
              "       'Onondaga County', 'Clinton County', 'Steuben County',\n",
              "       'Dutchess County', 'Schuyler County', 'Chenango County',\n",
              "       'Ulster County', 'Wyoming County', 'Broome County',\n",
              "       'Orange County', 'Montgomery County', 'Monroe County',\n",
              "       'Orleans County', 'Erie County', 'Seneca County',\n",
              "       'Schoharie County', 'Franklin County', 'Schenectady County',\n",
              "       'Fulton County', 'Ontario County', 'Nassau County',\n",
              "       'Madison County', 'Oswego County', 'Chemung County',\n",
              "       'Tompkins County', 'Niagara County', 'Rockland County',\n",
              "       'Cattaraugus County', 'Tioga County', 'Wayne County',\n",
              "       'Herkimer County', 'Rensselaer County', 'Jefferson County',\n",
              "       'Columbia County', 'Cayuga County', 'Sullivan County'],\n",
              "      dtype=object)"
            ]
          },
          "metadata": {
            "tags": []
          },
          "execution_count": 72
        }
      ]
    },
    {
      "cell_type": "markdown",
      "metadata": {
        "id": "GFQjBiuhlzE3",
        "colab_type": "text"
      },
      "source": [
        "# Selecting three counties in Ny\n",
        "* Nassau County\n",
        "* Westchester County\n",
        "* Suffolk County"
      ]
    },
    {
      "cell_type": "markdown",
      "metadata": {
        "id": "CmlAQssCokk1",
        "colab_type": "text"
      },
      "source": [
        "### Filtered data for county"
      ]
    },
    {
      "cell_type": "code",
      "metadata": {
        "id": "ih0kX50lnoa1",
        "colab_type": "code",
        "colab": {
          "base_uri": "https://localhost:8080/",
          "height": 69
        },
        "outputId": "b8ffce76-6e7e-4543-d703-d6e2a35e156b"
      },
      "source": [
        "Nassau_county_data = NY_labeled_data[NY_labeled_data['County Name'] == 'Nassau County']\n",
        "Westchester_county_data = NY_labeled_data[NY_labeled_data['County Name'] == 'Westchester County']\n",
        "Suffolk_county_data = NY_labeled_data[NY_labeled_data['County Name'] == 'Suffolk County']\n",
        "\n",
        "print(' Nassau county data ',Nassau_county_data.shape)\n",
        "print(' Westchester county data ',Westchester_county_data.shape)\n",
        "print(' Suffolk county data ',Suffolk_county_data.shape)"
      ],
      "execution_count": 73,
      "outputs": [
        {
          "output_type": "stream",
          "text": [
            " Nassau county data  (170, 21)\n",
            " Westchester county data  (170, 21)\n",
            " Suffolk county data  (170, 21)\n"
          ],
          "name": "stdout"
        }
      ]
    },
    {
      "cell_type": "markdown",
      "metadata": {
        "id": "LdNV4ruJpcWF",
        "colab_type": "text"
      },
      "source": [
        "# Note about growth label\n",
        "\n",
        "growth_code| label\n",
        "----|----\n",
        " 0 | drastic decrement\n",
        " 1 | drastic growth\n",
        " 2 | flat\n",
        " 3 | mild decrement\n",
        " 4 | mild increment\n",
        "\n",
        "\n",
        "\n"
      ]
    },
    {
      "cell_type": "markdown",
      "metadata": {
        "id": "CHT_tjaLy-LP",
        "colab_type": "text"
      },
      "source": [
        "# Nassau county\n"
      ]
    },
    {
      "cell_type": "code",
      "metadata": {
        "id": "0iUouFZVo7Tv",
        "colab_type": "code",
        "colab": {
          "base_uri": "https://localhost:8080/",
          "height": 104
        },
        "outputId": "3ab2a2cf-3499-4609-da1a-fa8b0c4fcc7c"
      },
      "source": [
        "feature_labels = ['retail and recreation','grocery and pharmacy','parks','transit stations','workplaces','residential','driving','m50','m50_index',\n",
        "               'population_density','mask_rule_active']\n",
        "\n",
        "target_column = ['label_code']\n",
        "\n",
        "print(Nassau_county_data['growth_code'].unique())\n",
        "\n",
        "Nassau_county_data_growth1 = Nassau_county_data[Nassau_county_data['growth_code'] == 1]\n",
        "Nassau_county_data_growth2 = Nassau_county_data[Nassau_county_data['growth_code'] == 2]\n",
        "Nassau_county_data_growth3 = Nassau_county_data[Nassau_county_data['growth_code'] == 3]\n",
        "Nassau_county_data_growth4 = Nassau_county_data[Nassau_county_data['growth_code'] == 4]\n",
        "\n",
        "print(Nassau_county_data_growth1.shape)\n",
        "print(Nassau_county_data_growth2.shape)\n",
        "print(Nassau_county_data_growth3.shape)\n",
        "\n",
        "print(Nassau_county_data_growth4.shape)\n"
      ],
      "execution_count": 74,
      "outputs": [
        {
          "output_type": "stream",
          "text": [
            "[2 1 4 3]\n",
            "(14, 21)\n",
            "(14, 21)\n",
            "(98, 21)\n",
            "(44, 21)\n"
          ],
          "name": "stdout"
        }
      ]
    },
    {
      "cell_type": "code",
      "metadata": {
        "id": "IhHARRTts6bl",
        "colab_type": "code",
        "colab": {
          "base_uri": "https://localhost:8080/",
          "height": 339
        },
        "outputId": "70f0bb17-eb2c-49a2-c51c-541bbaefd08c"
      },
      "source": [
        "Nassau_county_data.head()"
      ],
      "execution_count": 75,
      "outputs": [
        {
          "output_type": "execute_result",
          "data": {
            "text/html": [
              "<div>\n",
              "<style scoped>\n",
              "    .dataframe tbody tr th:only-of-type {\n",
              "        vertical-align: middle;\n",
              "    }\n",
              "\n",
              "    .dataframe tbody tr th {\n",
              "        vertical-align: top;\n",
              "    }\n",
              "\n",
              "    .dataframe thead th {\n",
              "        text-align: right;\n",
              "    }\n",
              "</style>\n",
              "<table border=\"1\" class=\"dataframe\">\n",
              "  <thead>\n",
              "    <tr style=\"text-align: right;\">\n",
              "      <th></th>\n",
              "      <th>Date</th>\n",
              "      <th>fips_x</th>\n",
              "      <th>County Name</th>\n",
              "      <th>retail and recreation</th>\n",
              "      <th>grocery and pharmacy</th>\n",
              "      <th>parks</th>\n",
              "      <th>transit stations</th>\n",
              "      <th>workplaces</th>\n",
              "      <th>residential</th>\n",
              "      <th>driving</th>\n",
              "      <th>m50</th>\n",
              "      <th>m50_index</th>\n",
              "      <th>population_density</th>\n",
              "      <th>mask_rule_active</th>\n",
              "      <th>mask_wearing_percent</th>\n",
              "      <th>New cases</th>\n",
              "      <th>rolling_avg_new_cases</th>\n",
              "      <th>label</th>\n",
              "      <th>growth_label</th>\n",
              "      <th>label_code</th>\n",
              "      <th>growth_code</th>\n",
              "    </tr>\n",
              "  </thead>\n",
              "  <tbody>\n",
              "    <tr>\n",
              "      <th>41</th>\n",
              "      <td>2020-03-01</td>\n",
              "      <td>36059</td>\n",
              "      <td>Nassau County</td>\n",
              "      <td>6.0</td>\n",
              "      <td>4.0</td>\n",
              "      <td>-10.0</td>\n",
              "      <td>-2.0</td>\n",
              "      <td>2.0</td>\n",
              "      <td>0.0</td>\n",
              "      <td>-10.10</td>\n",
              "      <td>3.966</td>\n",
              "      <td>56</td>\n",
              "      <td>4765.81905</td>\n",
              "      <td>0</td>\n",
              "      <td>0.0</td>\n",
              "      <td>0</td>\n",
              "      <td>0.0</td>\n",
              "      <td>LessSpread</td>\n",
              "      <td>flat_growth</td>\n",
              "      <td>0</td>\n",
              "      <td>2</td>\n",
              "    </tr>\n",
              "    <tr>\n",
              "      <th>97</th>\n",
              "      <td>2020-03-02</td>\n",
              "      <td>36059</td>\n",
              "      <td>Nassau County</td>\n",
              "      <td>4.0</td>\n",
              "      <td>5.0</td>\n",
              "      <td>26.0</td>\n",
              "      <td>-6.0</td>\n",
              "      <td>4.0</td>\n",
              "      <td>-1.0</td>\n",
              "      <td>1.24</td>\n",
              "      <td>6.879</td>\n",
              "      <td>98</td>\n",
              "      <td>4765.81905</td>\n",
              "      <td>0</td>\n",
              "      <td>0.0</td>\n",
              "      <td>0</td>\n",
              "      <td>0.0</td>\n",
              "      <td>LessSpread</td>\n",
              "      <td>flat_growth</td>\n",
              "      <td>0</td>\n",
              "      <td>2</td>\n",
              "    </tr>\n",
              "    <tr>\n",
              "      <th>117</th>\n",
              "      <td>2020-03-03</td>\n",
              "      <td>36059</td>\n",
              "      <td>Nassau County</td>\n",
              "      <td>5.0</td>\n",
              "      <td>3.0</td>\n",
              "      <td>3.0</td>\n",
              "      <td>-3.0</td>\n",
              "      <td>3.0</td>\n",
              "      <td>0.0</td>\n",
              "      <td>9.33</td>\n",
              "      <td>6.907</td>\n",
              "      <td>99</td>\n",
              "      <td>4765.81905</td>\n",
              "      <td>0</td>\n",
              "      <td>0.0</td>\n",
              "      <td>0</td>\n",
              "      <td>0.0</td>\n",
              "      <td>LessSpread</td>\n",
              "      <td>flat_growth</td>\n",
              "      <td>0</td>\n",
              "      <td>2</td>\n",
              "    </tr>\n",
              "    <tr>\n",
              "      <th>173</th>\n",
              "      <td>2020-03-04</td>\n",
              "      <td>36059</td>\n",
              "      <td>Nassau County</td>\n",
              "      <td>6.0</td>\n",
              "      <td>7.0</td>\n",
              "      <td>20.0</td>\n",
              "      <td>-5.0</td>\n",
              "      <td>3.0</td>\n",
              "      <td>-1.0</td>\n",
              "      <td>9.39</td>\n",
              "      <td>6.961</td>\n",
              "      <td>100</td>\n",
              "      <td>4765.81905</td>\n",
              "      <td>0</td>\n",
              "      <td>0.0</td>\n",
              "      <td>0</td>\n",
              "      <td>0.0</td>\n",
              "      <td>LessSpread</td>\n",
              "      <td>flat_growth</td>\n",
              "      <td>0</td>\n",
              "      <td>2</td>\n",
              "    </tr>\n",
              "    <tr>\n",
              "      <th>272</th>\n",
              "      <td>2020-03-05</td>\n",
              "      <td>36059</td>\n",
              "      <td>Nassau County</td>\n",
              "      <td>5.0</td>\n",
              "      <td>7.0</td>\n",
              "      <td>25.0</td>\n",
              "      <td>-2.0</td>\n",
              "      <td>4.0</td>\n",
              "      <td>0.0</td>\n",
              "      <td>13.50</td>\n",
              "      <td>7.216</td>\n",
              "      <td>103</td>\n",
              "      <td>4765.81905</td>\n",
              "      <td>0</td>\n",
              "      <td>0.0</td>\n",
              "      <td>1</td>\n",
              "      <td>0.0</td>\n",
              "      <td>LessSpread</td>\n",
              "      <td>flat_growth</td>\n",
              "      <td>0</td>\n",
              "      <td>2</td>\n",
              "    </tr>\n",
              "  </tbody>\n",
              "</table>\n",
              "</div>"
            ],
            "text/plain": [
              "           Date  fips_x    County Name  ...  growth_label  label_code  growth_code\n",
              "41   2020-03-01   36059  Nassau County  ...   flat_growth           0            2\n",
              "97   2020-03-02   36059  Nassau County  ...   flat_growth           0            2\n",
              "117  2020-03-03   36059  Nassau County  ...   flat_growth           0            2\n",
              "173  2020-03-04   36059  Nassau County  ...   flat_growth           0            2\n",
              "272  2020-03-05   36059  Nassau County  ...   flat_growth           0            2\n",
              "\n",
              "[5 rows x 21 columns]"
            ]
          },
          "metadata": {
            "tags": []
          },
          "execution_count": 75
        }
      ]
    },
    {
      "cell_type": "markdown",
      "metadata": {
        "id": "lQm7s7zWq_cY",
        "colab_type": "text"
      },
      "source": [
        "NY city data doesn't have any drastic decrement data. Let's verify the metrics for available growth labels - drastic growth, flat, mild decrement, mild increment"
      ]
    },
    {
      "cell_type": "code",
      "metadata": {
        "id": "qxeItEjurTri",
        "colab_type": "code",
        "colab": {
          "base_uri": "https://localhost:8080/",
          "height": 504
        },
        "outputId": "dc03eadf-60f1-4ccb-c86c-c1275de8efb2"
      },
      "source": [
        "print(\"** Printing Nassay county data for drastic growth ** \")\n",
        "\n",
        "X = Nassau_county_data_growth1[feature_labels]\n",
        "y = Nassau_county_data_growth1[target_column]\n",
        "print(X.shape)\n",
        "\n",
        "X_train, X_test, y_train, y_test = train_test_split(X, y, test_size=0.4, random_state=0)\n",
        "\n",
        "\n",
        "# Create a random forest classifier\n",
        "clf = RandomForestClassifier(n_estimators=10000, random_state=0, n_jobs=-1,min_samples_leaf=5)\n",
        "\n",
        "# Train the classifier\n",
        "clf.fit(X_train, y_train)\n",
        "\n",
        "# Print the name and gini importance of each feature\n",
        "for feature in zip(feature_labels, clf.feature_importances_):\n",
        "    print(feature)\n",
        "\n",
        "\n",
        "\n",
        "#  Supported criteria are “gini” for the Gini impurity and “entropy” for the information gain. \n",
        "\n",
        "clf = RandomForestClassifier(n_estimators=10000, random_state=0,criterion='entropy', n_jobs=-1)\n",
        "\n",
        "# Train the classifier\n",
        "clf.fit(X_train, y_train)\n",
        "\n",
        "# Print the name and gini importance of each feature\n",
        "for feature in zip(feature_labels, clf.feature_importances_):\n",
        "    print(feature)\n"
      ],
      "execution_count": 76,
      "outputs": [
        {
          "output_type": "stream",
          "text": [
            "** Printing Nassay county data for drastic growth ** \n",
            "(14, 11)\n"
          ],
          "name": "stdout"
        },
        {
          "output_type": "stream",
          "text": [
            "/usr/local/lib/python3.6/dist-packages/ipykernel_launcher.py:14: DataConversionWarning: A column-vector y was passed when a 1d array was expected. Please change the shape of y to (n_samples,), for example using ravel().\n",
            "  \n"
          ],
          "name": "stderr"
        },
        {
          "output_type": "stream",
          "text": [
            "('retail and recreation', 0.0)\n",
            "('grocery and pharmacy', 0.0)\n",
            "('parks', 0.0)\n",
            "('transit stations', 0.0)\n",
            "('workplaces', 0.0)\n",
            "('residential', 0.0)\n",
            "('driving', 0.0)\n",
            "('m50', 0.0)\n",
            "('m50_index', 0.0)\n",
            "('population_density', 0.0)\n",
            "('mask_rule_active', 0.0)\n"
          ],
          "name": "stdout"
        },
        {
          "output_type": "stream",
          "text": [
            "/usr/local/lib/python3.6/dist-packages/ipykernel_launcher.py:27: DataConversionWarning: A column-vector y was passed when a 1d array was expected. Please change the shape of y to (n_samples,), for example using ravel().\n"
          ],
          "name": "stderr"
        },
        {
          "output_type": "stream",
          "text": [
            "('retail and recreation', 0.0)\n",
            "('grocery and pharmacy', 0.0)\n",
            "('parks', 0.0)\n",
            "('transit stations', 0.0)\n",
            "('workplaces', 0.0)\n",
            "('residential', 0.0)\n",
            "('driving', 0.0)\n",
            "('m50', 0.0)\n",
            "('m50_index', 0.0)\n",
            "('population_density', 0.0)\n",
            "('mask_rule_active', 0.0)\n"
          ],
          "name": "stdout"
        }
      ]
    },
    {
      "cell_type": "code",
      "metadata": {
        "id": "fOgGiAfVr-eN",
        "colab_type": "code",
        "colab": {
          "base_uri": "https://localhost:8080/",
          "height": 486
        },
        "outputId": "9e24ab68-8475-450d-920d-b9639ad01068"
      },
      "source": [
        "print(\"** Printing Nassau county data for flat growth ** \")\n",
        "\n",
        "X = Nassau_county_data_growth2[feature_labels]\n",
        "y = Nassau_county_data_growth2[target_column]\n",
        "\n",
        "X_train, X_test, y_train, y_test = train_test_split(X, y, test_size=0.4, random_state=0)\n",
        "\n",
        "\n",
        "# Create a random forest classifier\n",
        "clf = RandomForestClassifier(n_estimators=10000, random_state=0, n_jobs=-1)\n",
        "\n",
        "# Train the classifier\n",
        "clf.fit(X_train, y_train)\n",
        "\n",
        "# Print the name and gini importance of each feature\n",
        "for feature in zip(feature_labels, clf.feature_importances_):\n",
        "    print(feature)\n",
        "\n",
        "\n",
        "\n",
        "#  Supported criteria are “gini” for the Gini impurity and “entropy” for the information gain. \n",
        "\n",
        "clf = RandomForestClassifier(n_estimators=10000, random_state=0,criterion='entropy', n_jobs=-1)\n",
        "\n",
        "# Train the classifier\n",
        "clf.fit(X_train, y_train)\n",
        "\n",
        "# Print the name and gini importance of each feature\n",
        "for feature in zip(feature_labels, clf.feature_importances_):\n",
        "    print(feature)\n"
      ],
      "execution_count": 77,
      "outputs": [
        {
          "output_type": "stream",
          "text": [
            "** Printing Nassau county data for flat growth ** \n"
          ],
          "name": "stdout"
        },
        {
          "output_type": "stream",
          "text": [
            "/usr/local/lib/python3.6/dist-packages/ipykernel_launcher.py:13: DataConversionWarning: A column-vector y was passed when a 1d array was expected. Please change the shape of y to (n_samples,), for example using ravel().\n",
            "  del sys.path[0]\n"
          ],
          "name": "stderr"
        },
        {
          "output_type": "stream",
          "text": [
            "('retail and recreation', 0.0)\n",
            "('grocery and pharmacy', 0.0)\n",
            "('parks', 0.0)\n",
            "('transit stations', 0.0)\n",
            "('workplaces', 0.0)\n",
            "('residential', 0.0)\n",
            "('driving', 0.0)\n",
            "('m50', 0.0)\n",
            "('m50_index', 0.0)\n",
            "('population_density', 0.0)\n",
            "('mask_rule_active', 0.0)\n"
          ],
          "name": "stdout"
        },
        {
          "output_type": "stream",
          "text": [
            "/usr/local/lib/python3.6/dist-packages/ipykernel_launcher.py:26: DataConversionWarning: A column-vector y was passed when a 1d array was expected. Please change the shape of y to (n_samples,), for example using ravel().\n"
          ],
          "name": "stderr"
        },
        {
          "output_type": "stream",
          "text": [
            "('retail and recreation', 0.0)\n",
            "('grocery and pharmacy', 0.0)\n",
            "('parks', 0.0)\n",
            "('transit stations', 0.0)\n",
            "('workplaces', 0.0)\n",
            "('residential', 0.0)\n",
            "('driving', 0.0)\n",
            "('m50', 0.0)\n",
            "('m50_index', 0.0)\n",
            "('population_density', 0.0)\n",
            "('mask_rule_active', 0.0)\n"
          ],
          "name": "stdout"
        }
      ]
    },
    {
      "cell_type": "code",
      "metadata": {
        "id": "vHc18U_Yr_TQ",
        "colab_type": "code",
        "colab": {
          "base_uri": "https://localhost:8080/",
          "height": 504
        },
        "outputId": "41ed1812-bab4-488b-cd68-e8cbea9ca2b2"
      },
      "source": [
        "print(\"** Printing Nassau county data for mild decrement ** \")\n",
        "\n",
        "X = Nassau_county_data_growth3[feature_labels]\n",
        "y = Nassau_county_data_growth3[target_column]\n",
        "print(X.shape)\n",
        "X_train, X_test, y_train, y_test = train_test_split(X, y, test_size=0.4, random_state=0)\n",
        "\n",
        "\n",
        "# Create a random forest classifier\n",
        "clf = RandomForestClassifier(n_estimators=10000, random_state=0, n_jobs=-1)\n",
        "\n",
        "# Train the classifier\n",
        "clf.fit(X_train, y_train)\n",
        "\n",
        "# Print the name and gini importance of each feature\n",
        "for feature in zip(feature_labels, clf.feature_importances_):\n",
        "    print(feature)\n",
        "\n",
        "\n",
        "\n",
        "#  Supported criteria are “gini” for the Gini impurity and “entropy” for the information gain. \n",
        "\n",
        "clf = RandomForestClassifier(n_estimators=10000, random_state=0,criterion='entropy', n_jobs=-1)\n",
        "\n",
        "# Train the classifier\n",
        "clf.fit(X_train, y_train)\n",
        "\n",
        "# Print the name and gini importance of each feature\n",
        "for feature in zip(feature_labels, clf.feature_importances_):\n",
        "    print(feature)\n"
      ],
      "execution_count": 78,
      "outputs": [
        {
          "output_type": "stream",
          "text": [
            "** Printing Nassau county data for mild decrement ** \n",
            "(98, 11)\n"
          ],
          "name": "stdout"
        },
        {
          "output_type": "stream",
          "text": [
            "/usr/local/lib/python3.6/dist-packages/ipykernel_launcher.py:13: DataConversionWarning: A column-vector y was passed when a 1d array was expected. Please change the shape of y to (n_samples,), for example using ravel().\n",
            "  del sys.path[0]\n"
          ],
          "name": "stderr"
        },
        {
          "output_type": "stream",
          "text": [
            "('retail and recreation', 0.0)\n",
            "('grocery and pharmacy', 0.0)\n",
            "('parks', 0.0)\n",
            "('transit stations', 0.0)\n",
            "('workplaces', 0.0)\n",
            "('residential', 0.0)\n",
            "('driving', 0.0)\n",
            "('m50', 0.0)\n",
            "('m50_index', 0.0)\n",
            "('population_density', 0.0)\n",
            "('mask_rule_active', 0.0)\n"
          ],
          "name": "stdout"
        },
        {
          "output_type": "stream",
          "text": [
            "/usr/local/lib/python3.6/dist-packages/ipykernel_launcher.py:26: DataConversionWarning: A column-vector y was passed when a 1d array was expected. Please change the shape of y to (n_samples,), for example using ravel().\n"
          ],
          "name": "stderr"
        },
        {
          "output_type": "stream",
          "text": [
            "('retail and recreation', 0.0)\n",
            "('grocery and pharmacy', 0.0)\n",
            "('parks', 0.0)\n",
            "('transit stations', 0.0)\n",
            "('workplaces', 0.0)\n",
            "('residential', 0.0)\n",
            "('driving', 0.0)\n",
            "('m50', 0.0)\n",
            "('m50_index', 0.0)\n",
            "('population_density', 0.0)\n",
            "('mask_rule_active', 0.0)\n"
          ],
          "name": "stdout"
        }
      ]
    },
    {
      "cell_type": "code",
      "metadata": {
        "id": "9p-MEfVVr_80",
        "colab_type": "code",
        "colab": {
          "base_uri": "https://localhost:8080/",
          "height": 504
        },
        "outputId": "d04eabd9-929f-4ac2-d548-b05437097263"
      },
      "source": [
        "\n",
        "print(\"** Printing Nassau county data for mild increment ** \")\n",
        "\n",
        "X = Nassau_county_data_growth4[feature_labels]\n",
        "y = Nassau_county_data_growth4[target_column]\n",
        "print(X.shape)\n",
        "X_train, X_test, y_train, y_test = train_test_split(X, y, test_size=0.4, random_state=0)\n",
        "\n",
        "\n",
        "# Create a random forest classifier\n",
        "clf = RandomForestClassifier(n_estimators=10000, random_state=0, n_jobs=-1)\n",
        "\n",
        "# Train the classifier\n",
        "clf.fit(X_train, y_train)\n",
        "\n",
        "# Print the name and gini importance of each feature\n",
        "for feature in zip(feature_labels, clf.feature_importances_):\n",
        "    print(feature)\n",
        "\n",
        "\n",
        "\n",
        "#  Supported criteria are “gini” for the Gini impurity and “entropy” for the information gain. \n",
        "\n",
        "clf = RandomForestClassifier(n_estimators=10000, random_state=0,criterion='entropy', n_jobs=-1)\n",
        "\n",
        "# Train the classifier\n",
        "clf.fit(X_train, y_train)\n",
        "\n",
        "# Print the name and gini importance of each feature\n",
        "for feature in zip(feature_labels, clf.feature_importances_):\n",
        "    print(feature)\n"
      ],
      "execution_count": 43,
      "outputs": [
        {
          "output_type": "stream",
          "text": [
            "** Printing Nassau county data for mild increment ** \n",
            "(44, 11)\n"
          ],
          "name": "stdout"
        },
        {
          "output_type": "stream",
          "text": [
            "/usr/local/lib/python3.6/dist-packages/ipykernel_launcher.py:14: DataConversionWarning: A column-vector y was passed when a 1d array was expected. Please change the shape of y to (n_samples,), for example using ravel().\n",
            "  \n"
          ],
          "name": "stderr"
        },
        {
          "output_type": "stream",
          "text": [
            "('retail and recreation', 0.0)\n",
            "('grocery and pharmacy', 0.0)\n",
            "('parks', 0.0)\n",
            "('transit stations', 0.0)\n",
            "('workplaces', 0.0)\n",
            "('residential', 0.0)\n",
            "('driving', 0.0)\n",
            "('m50', 0.0)\n",
            "('m50_index', 0.0)\n",
            "('population_density', 0.0)\n",
            "('mask_rule_active', 0.0)\n"
          ],
          "name": "stdout"
        },
        {
          "output_type": "stream",
          "text": [
            "/usr/local/lib/python3.6/dist-packages/ipykernel_launcher.py:27: DataConversionWarning: A column-vector y was passed when a 1d array was expected. Please change the shape of y to (n_samples,), for example using ravel().\n"
          ],
          "name": "stderr"
        },
        {
          "output_type": "stream",
          "text": [
            "('retail and recreation', 0.0)\n",
            "('grocery and pharmacy', 0.0)\n",
            "('parks', 0.0)\n",
            "('transit stations', 0.0)\n",
            "('workplaces', 0.0)\n",
            "('residential', 0.0)\n",
            "('driving', 0.0)\n",
            "('m50', 0.0)\n",
            "('m50_index', 0.0)\n",
            "('population_density', 0.0)\n",
            "('mask_rule_active', 0.0)\n"
          ],
          "name": "stdout"
        }
      ]
    },
    {
      "cell_type": "markdown",
      "metadata": {
        "id": "V3iG473ouCfD",
        "colab_type": "text"
      },
      "source": [
        "## Correlation map"
      ]
    },
    {
      "cell_type": "code",
      "metadata": {
        "id": "KiDL-frruEns",
        "colab_type": "code",
        "colab": {
          "base_uri": "https://localhost:8080/",
          "height": 697
        },
        "outputId": "3a703265-fe5e-4665-9ab4-12f055417876"
      },
      "source": [
        "\n",
        "\n",
        "# Correlation\n",
        "\n",
        "corr = Nassau_county_data.corr()\n",
        "g = sns.heatmap(corr, vmax=.9, center=0,\n",
        "               square=True, linewidths=1.5, cbar_kws={\"shrink\": .8}, annot=True, fmt='.2f', cmap='coolwarm')\n",
        "bottom, top = g.get_ylim()\n",
        "g.set_ylim(bottom + 0.5, top - 0.5)\n",
        "sns.despine()\n",
        "g.figure.set_size_inches(16, 10)"
      ],
      "execution_count": 79,
      "outputs": [
        {
          "output_type": "display_data",
          "data": {
            "image/png": "[encoded data removed]",
            "text/plain": [
              "<Figure size 1152x720 with 2 Axes>"
            ]
          },
          "metadata": {
            "tags": [],
            "needs_background": "light"
          }
        }
      ]
    },
    {
      "cell_type": "markdown",
      "metadata": {
        "id": "p3JvFzwUwTF8",
        "colab_type": "text"
      },
      "source": [
        "# Westchester county "
      ]
    },
    {
      "cell_type": "code",
      "metadata": {
        "id": "1oYJNiUhwU8U",
        "colab_type": "code",
        "colab": {
          "base_uri": "https://localhost:8080/",
          "height": 86
        },
        "outputId": "2b56bf0c-16c2-435c-bbd3-8814b346480a"
      },
      "source": [
        "print(Westchester_county_data['growth_code'].unique())\n",
        "\n",
        "Westchester_county_data_growth2 = Westchester_county_data[Westchester_county_data['growth_code'] == 2]\n",
        "Westchester_county_data_growth3 = Westchester_county_data[Westchester_county_data['growth_code'] == 3]\n",
        "Westchester_county_data_growth4 = Westchester_county_data[Westchester_county_data['growth_code'] == 4]\n",
        "\n",
        "print(Westchester_county_data_growth2.shape)\n",
        "\n",
        "print(Westchester_county_data_growth3.shape)\n",
        "\n",
        "print(Westchester_county_data_growth4.shape)\n",
        "\n"
      ],
      "execution_count": 80,
      "outputs": [
        {
          "output_type": "stream",
          "text": [
            "[2 4 3]\n",
            "(14, 21)\n",
            "(100, 21)\n",
            "(56, 21)\n"
          ],
          "name": "stdout"
        }
      ]
    },
    {
      "cell_type": "code",
      "metadata": {
        "id": "c3hanVVfwlQA",
        "colab_type": "code",
        "colab": {
          "base_uri": "https://localhost:8080/",
          "height": 486
        },
        "outputId": "40ce0ccd-bdbc-4bb3-b1b4-3d5b7106a2ea"
      },
      "source": [
        "\n",
        "print(\"** Printing Westchester county data for mild increment ** \")\n",
        "\n",
        "X = Westchester_county_data_growth2[feature_labels]\n",
        "y = Westchester_county_data_growth2[target_column]\n",
        "\n",
        "X_train, X_test, y_train, y_test = train_test_split(X, y, test_size=0.4, random_state=0)\n",
        "\n",
        "\n",
        "# Create a random forest classifier\n",
        "clf = RandomForestClassifier(n_estimators=10000, random_state=0, n_jobs=-1)\n",
        "\n",
        "# Train the classifier\n",
        "clf.fit(X_train, y_train)\n",
        "\n",
        "# Print the name and gini importance of each feature\n",
        "for feature in zip(feature_labels, clf.feature_importances_):\n",
        "    print(feature)\n",
        "\n",
        "\n",
        "\n",
        "#  Supported criteria are “gini” for the Gini impurity and “entropy” for the information gain. \n",
        "\n",
        "clf = RandomForestClassifier(n_estimators=10000, random_state=0,criterion='entropy', n_jobs=-1)\n",
        "\n",
        "# Train the classifier\n",
        "clf.fit(X_train, y_train)\n",
        "\n",
        "# Print the name and gini importance of each feature\n",
        "for feature in zip(feature_labels, clf.feature_importances_):\n",
        "    print(feature)\n"
      ],
      "execution_count": 81,
      "outputs": [
        {
          "output_type": "stream",
          "text": [
            "** Printing Westchester county data for mild increment ** \n"
          ],
          "name": "stdout"
        },
        {
          "output_type": "stream",
          "text": [
            "/usr/local/lib/python3.6/dist-packages/ipykernel_launcher.py:14: DataConversionWarning: A column-vector y was passed when a 1d array was expected. Please change the shape of y to (n_samples,), for example using ravel().\n",
            "  \n"
          ],
          "name": "stderr"
        },
        {
          "output_type": "stream",
          "text": [
            "('retail and recreation', 0.0)\n",
            "('grocery and pharmacy', 0.0)\n",
            "('parks', 0.0)\n",
            "('transit stations', 0.0)\n",
            "('workplaces', 0.0)\n",
            "('residential', 0.0)\n",
            "('driving', 0.0)\n",
            "('m50', 0.0)\n",
            "('m50_index', 0.0)\n",
            "('population_density', 0.0)\n",
            "('mask_rule_active', 0.0)\n"
          ],
          "name": "stdout"
        },
        {
          "output_type": "stream",
          "text": [
            "/usr/local/lib/python3.6/dist-packages/ipykernel_launcher.py:27: DataConversionWarning: A column-vector y was passed when a 1d array was expected. Please change the shape of y to (n_samples,), for example using ravel().\n"
          ],
          "name": "stderr"
        },
        {
          "output_type": "stream",
          "text": [
            "('retail and recreation', 0.0)\n",
            "('grocery and pharmacy', 0.0)\n",
            "('parks', 0.0)\n",
            "('transit stations', 0.0)\n",
            "('workplaces', 0.0)\n",
            "('residential', 0.0)\n",
            "('driving', 0.0)\n",
            "('m50', 0.0)\n",
            "('m50_index', 0.0)\n",
            "('population_density', 0.0)\n",
            "('mask_rule_active', 0.0)\n"
          ],
          "name": "stdout"
        }
      ]
    },
    {
      "cell_type": "code",
      "metadata": {
        "id": "STzL7E4JwkLv",
        "colab_type": "code",
        "colab": {
          "base_uri": "https://localhost:8080/",
          "height": 486
        },
        "outputId": "7eab6533-86b5-427d-ccb5-ddd9a2db27ce"
      },
      "source": [
        "\n",
        "print(\"** Printing Westchester county data for mild increment ** \")\n",
        "\n",
        "X = Westchester_county_data_growth3[feature_labels]\n",
        "y = Westchester_county_data_growth3[target_column]\n",
        "\n",
        "X_train, X_test, y_train, y_test = train_test_split(X, y, test_size=0.4, random_state=0)\n",
        "\n",
        "\n",
        "# Create a random forest classifier\n",
        "clf = RandomForestClassifier(n_estimators=10000, random_state=0, n_jobs=-1)\n",
        "\n",
        "# Train the classifier\n",
        "clf.fit(X_train, y_train)\n",
        "\n",
        "# Print the name and gini importance of each feature\n",
        "for feature in zip(feature_labels, clf.feature_importances_):\n",
        "    print(feature)\n",
        "\n",
        "\n",
        "\n",
        "#  Supported criteria are “gini” for the Gini impurity and “entropy” for the information gain. \n",
        "\n",
        "clf = RandomForestClassifier(n_estimators=10000, random_state=0,criterion='entropy', n_jobs=-1)\n",
        "\n",
        "# Train the classifier\n",
        "clf.fit(X_train, y_train)\n",
        "\n",
        "# Print the name and gini importance of each feature\n",
        "for feature in zip(feature_labels, clf.feature_importances_):\n",
        "    print(feature)\n"
      ],
      "execution_count": 82,
      "outputs": [
        {
          "output_type": "stream",
          "text": [
            "** Printing Westchester county data for mild increment ** \n"
          ],
          "name": "stdout"
        },
        {
          "output_type": "stream",
          "text": [
            "/usr/local/lib/python3.6/dist-packages/ipykernel_launcher.py:14: DataConversionWarning: A column-vector y was passed when a 1d array was expected. Please change the shape of y to (n_samples,), for example using ravel().\n",
            "  \n"
          ],
          "name": "stderr"
        },
        {
          "output_type": "stream",
          "text": [
            "('retail and recreation', 0.0)\n",
            "('grocery and pharmacy', 0.0)\n",
            "('parks', 0.0)\n",
            "('transit stations', 0.0)\n",
            "('workplaces', 0.0)\n",
            "('residential', 0.0)\n",
            "('driving', 0.0)\n",
            "('m50', 0.0)\n",
            "('m50_index', 0.0)\n",
            "('population_density', 0.0)\n",
            "('mask_rule_active', 0.0)\n"
          ],
          "name": "stdout"
        },
        {
          "output_type": "stream",
          "text": [
            "/usr/local/lib/python3.6/dist-packages/ipykernel_launcher.py:27: DataConversionWarning: A column-vector y was passed when a 1d array was expected. Please change the shape of y to (n_samples,), for example using ravel().\n"
          ],
          "name": "stderr"
        },
        {
          "output_type": "stream",
          "text": [
            "('retail and recreation', 0.0)\n",
            "('grocery and pharmacy', 0.0)\n",
            "('parks', 0.0)\n",
            "('transit stations', 0.0)\n",
            "('workplaces', 0.0)\n",
            "('residential', 0.0)\n",
            "('driving', 0.0)\n",
            "('m50', 0.0)\n",
            "('m50_index', 0.0)\n",
            "('population_density', 0.0)\n",
            "('mask_rule_active', 0.0)\n"
          ],
          "name": "stdout"
        }
      ]
    },
    {
      "cell_type": "code",
      "metadata": {
        "id": "odIMunwJwjKL",
        "colab_type": "code",
        "colab": {
          "base_uri": "https://localhost:8080/",
          "height": 486
        },
        "outputId": "27ef6f5a-94e9-4022-9e0a-a52917443f3b"
      },
      "source": [
        "\n",
        "print(\"** Printing Westchester county data for mild increment ** \")\n",
        "\n",
        "X = Westchester_county_data_growth4[feature_labels]\n",
        "y = Westchester_county_data_growth4[target_column]\n",
        "\n",
        "X_train, X_test, y_train, y_test = train_test_split(X, y, test_size=0.4, random_state=0)\n",
        "\n",
        "\n",
        "# Create a random forest classifier\n",
        "clf = RandomForestClassifier(n_estimators=10000, random_state=0, n_jobs=-1)\n",
        "\n",
        "# Train the classifier\n",
        "clf.fit(X_train, y_train)\n",
        "\n",
        "# Print the name and gini importance of each feature\n",
        "for feature in zip(feature_labels, clf.feature_importances_):\n",
        "    print(feature)\n",
        "\n",
        "\n",
        "\n",
        "#  Supported criteria are “gini” for the Gini impurity and “entropy” for the information gain. \n",
        "\n",
        "clf = RandomForestClassifier(n_estimators=10000, random_state=0,criterion='entropy', n_jobs=-1)\n",
        "\n",
        "# Train the classifier\n",
        "clf.fit(X_train, y_train)\n",
        "\n",
        "# Print the name and gini importance of each feature\n",
        "for feature in zip(feature_labels, clf.feature_importances_):\n",
        "    print(feature)\n"
      ],
      "execution_count": 83,
      "outputs": [
        {
          "output_type": "stream",
          "text": [
            "** Printing Westchester county data for mild increment ** \n"
          ],
          "name": "stdout"
        },
        {
          "output_type": "stream",
          "text": [
            "/usr/local/lib/python3.6/dist-packages/ipykernel_launcher.py:14: DataConversionWarning: A column-vector y was passed when a 1d array was expected. Please change the shape of y to (n_samples,), for example using ravel().\n",
            "  \n"
          ],
          "name": "stderr"
        },
        {
          "output_type": "stream",
          "text": [
            "('retail and recreation', 0.0)\n",
            "('grocery and pharmacy', 0.0)\n",
            "('parks', 0.0)\n",
            "('transit stations', 0.0)\n",
            "('workplaces', 0.0)\n",
            "('residential', 0.0)\n",
            "('driving', 0.0)\n",
            "('m50', 0.0)\n",
            "('m50_index', 0.0)\n",
            "('population_density', 0.0)\n",
            "('mask_rule_active', 0.0)\n"
          ],
          "name": "stdout"
        },
        {
          "output_type": "stream",
          "text": [
            "/usr/local/lib/python3.6/dist-packages/ipykernel_launcher.py:27: DataConversionWarning: A column-vector y was passed when a 1d array was expected. Please change the shape of y to (n_samples,), for example using ravel().\n"
          ],
          "name": "stderr"
        },
        {
          "output_type": "stream",
          "text": [
            "('retail and recreation', 0.0)\n",
            "('grocery and pharmacy', 0.0)\n",
            "('parks', 0.0)\n",
            "('transit stations', 0.0)\n",
            "('workplaces', 0.0)\n",
            "('residential', 0.0)\n",
            "('driving', 0.0)\n",
            "('m50', 0.0)\n",
            "('m50_index', 0.0)\n",
            "('population_density', 0.0)\n",
            "('mask_rule_active', 0.0)\n"
          ],
          "name": "stdout"
        }
      ]
    },
    {
      "cell_type": "markdown",
      "metadata": {
        "id": "kMhruM5xxJ93",
        "colab_type": "text"
      },
      "source": [
        "# Suffolk county"
      ]
    },
    {
      "cell_type": "code",
      "metadata": {
        "id": "LIuaozCpxMMP",
        "colab_type": "code",
        "colab": {
          "base_uri": "https://localhost:8080/",
          "height": 104
        },
        "outputId": "b619472c-0a2b-4107-84ce-abf4ecb4d10c"
      },
      "source": [
        "print(Suffolk_county_data['growth_code'].unique())\n",
        "\n",
        "Suffolk_county_data_growth1 = Suffolk_county_data[Suffolk_county_data['growth_code'] == 1]\n",
        "print(Suffolk_county_data_growth1.shape)\n",
        "Suffolk_county_data_growth2 = Suffolk_county_data[Suffolk_county_data['growth_code'] == 2]\n",
        "print(Suffolk_county_data_growth2.shape)\n",
        "\n",
        "Suffolk_county_data_growth3 = Suffolk_county_data[Suffolk_county_data['growth_code'] == 3]\n",
        "print(Suffolk_county_data_growth3.shape)\n",
        "\n",
        "Suffolk_county_data_growth4 = Suffolk_county_data[Suffolk_county_data['growth_code'] == 4]\n",
        "print(Suffolk_county_data_growth4.shape)\n"
      ],
      "execution_count": 84,
      "outputs": [
        {
          "output_type": "stream",
          "text": [
            "[2 1 3 4]\n",
            "(14, 21)\n",
            "(14, 21)\n",
            "(86, 21)\n",
            "(56, 21)\n"
          ],
          "name": "stdout"
        }
      ]
    },
    {
      "cell_type": "code",
      "metadata": {
        "id": "_VYtXsamxjnb",
        "colab_type": "code",
        "colab": {
          "base_uri": "https://localhost:8080/",
          "height": 486
        },
        "outputId": "44601b85-8e46-4683-8c7b-86ffda18f0b5"
      },
      "source": [
        "\n",
        "print(\"** Printing Suffolk county data for mild increment ** \")\n",
        "\n",
        "X = Suffolk_county_data_growth1[feature_labels]\n",
        "y = Suffolk_county_data_growth1[target_column]\n",
        "\n",
        "X_train, X_test, y_train, y_test = train_test_split(X, y, test_size=0.4, random_state=0)\n",
        "\n",
        "\n",
        "# Create a random forest classifier\n",
        "clf = RandomForestClassifier(n_estimators=10000, random_state=0, n_jobs=-1)\n",
        "\n",
        "# Train the classifier\n",
        "clf.fit(X_train, y_train)\n",
        "\n",
        "# Print the name and gini importance of each feature\n",
        "for feature in zip(feature_labels, clf.feature_importances_):\n",
        "    print(feature)\n",
        "\n",
        "\n",
        "\n",
        "#  Supported criteria are “gini” for the Gini impurity and “entropy” for the information gain. \n",
        "\n",
        "clf = RandomForestClassifier(n_estimators=10000, random_state=0,criterion='entropy', n_jobs=-1)\n",
        "\n",
        "# Train the classifier\n",
        "clf.fit(X_train, y_train)\n",
        "\n",
        "# Print the name and gini importance of each feature\n",
        "for feature in zip(feature_labels, clf.feature_importances_):\n",
        "    print(feature)\n"
      ],
      "execution_count": 85,
      "outputs": [
        {
          "output_type": "stream",
          "text": [
            "** Printing Suffolk county data for mild increment ** \n"
          ],
          "name": "stdout"
        },
        {
          "output_type": "stream",
          "text": [
            "/usr/local/lib/python3.6/dist-packages/ipykernel_launcher.py:14: DataConversionWarning: A column-vector y was passed when a 1d array was expected. Please change the shape of y to (n_samples,), for example using ravel().\n",
            "  \n"
          ],
          "name": "stderr"
        },
        {
          "output_type": "stream",
          "text": [
            "('retail and recreation', 0.0)\n",
            "('grocery and pharmacy', 0.0)\n",
            "('parks', 0.0)\n",
            "('transit stations', 0.0)\n",
            "('workplaces', 0.0)\n",
            "('residential', 0.0)\n",
            "('driving', 0.0)\n",
            "('m50', 0.0)\n",
            "('m50_index', 0.0)\n",
            "('population_density', 0.0)\n",
            "('mask_rule_active', 0.0)\n"
          ],
          "name": "stdout"
        },
        {
          "output_type": "stream",
          "text": [
            "/usr/local/lib/python3.6/dist-packages/ipykernel_launcher.py:27: DataConversionWarning: A column-vector y was passed when a 1d array was expected. Please change the shape of y to (n_samples,), for example using ravel().\n"
          ],
          "name": "stderr"
        },
        {
          "output_type": "stream",
          "text": [
            "('retail and recreation', 0.0)\n",
            "('grocery and pharmacy', 0.0)\n",
            "('parks', 0.0)\n",
            "('transit stations', 0.0)\n",
            "('workplaces', 0.0)\n",
            "('residential', 0.0)\n",
            "('driving', 0.0)\n",
            "('m50', 0.0)\n",
            "('m50_index', 0.0)\n",
            "('population_density', 0.0)\n",
            "('mask_rule_active', 0.0)\n"
          ],
          "name": "stdout"
        }
      ]
    },
    {
      "cell_type": "code",
      "metadata": {
        "id": "0YjQfNDOxo1u",
        "colab_type": "code",
        "colab": {
          "base_uri": "https://localhost:8080/",
          "height": 486
        },
        "outputId": "9e22fd9f-80c2-4ba7-e4c4-e4a443891976"
      },
      "source": [
        "\n",
        "print(\"** Printing Suffolk county data for mild increment ** \")\n",
        "\n",
        "X = Suffolk_county_data_growth2[feature_labels]\n",
        "y = Suffolk_county_data_growth2[target_column]\n",
        "\n",
        "X_train, X_test, y_train, y_test = train_test_split(X, y, test_size=0.4, random_state=0)\n",
        "\n",
        "\n",
        "# Create a random forest classifier\n",
        "clf = RandomForestClassifier(n_estimators=10000, random_state=0, n_jobs=-1)\n",
        "\n",
        "# Train the classifier\n",
        "clf.fit(X_train, y_train)\n",
        "\n",
        "# Print the name and gini importance of each feature\n",
        "for feature in zip(feature_labels, clf.feature_importances_):\n",
        "    print(feature)\n",
        "\n",
        "\n",
        "\n",
        "#  Supported criteria are “gini” for the Gini impurity and “entropy” for the information gain. \n",
        "\n",
        "clf = RandomForestClassifier(n_estimators=10000, random_state=0,criterion='entropy', n_jobs=-1)\n",
        "\n",
        "# Train the classifier\n",
        "clf.fit(X_train, y_train)\n",
        "\n",
        "# Print the name and gini importance of each feature\n",
        "for feature in zip(feature_labels, clf.feature_importances_):\n",
        "    print(feature)\n"
      ],
      "execution_count": 86,
      "outputs": [
        {
          "output_type": "stream",
          "text": [
            "** Printing Suffolk county data for mild increment ** \n"
          ],
          "name": "stdout"
        },
        {
          "output_type": "stream",
          "text": [
            "/usr/local/lib/python3.6/dist-packages/ipykernel_launcher.py:14: DataConversionWarning: A column-vector y was passed when a 1d array was expected. Please change the shape of y to (n_samples,), for example using ravel().\n",
            "  \n"
          ],
          "name": "stderr"
        },
        {
          "output_type": "stream",
          "text": [
            "('retail and recreation', 0.0)\n",
            "('grocery and pharmacy', 0.0)\n",
            "('parks', 0.0)\n",
            "('transit stations', 0.0)\n",
            "('workplaces', 0.0)\n",
            "('residential', 0.0)\n",
            "('driving', 0.0)\n",
            "('m50', 0.0)\n",
            "('m50_index', 0.0)\n",
            "('population_density', 0.0)\n",
            "('mask_rule_active', 0.0)\n"
          ],
          "name": "stdout"
        },
        {
          "output_type": "stream",
          "text": [
            "/usr/local/lib/python3.6/dist-packages/ipykernel_launcher.py:27: DataConversionWarning: A column-vector y was passed when a 1d array was expected. Please change the shape of y to (n_samples,), for example using ravel().\n"
          ],
          "name": "stderr"
        },
        {
          "output_type": "stream",
          "text": [
            "('retail and recreation', 0.0)\n",
            "('grocery and pharmacy', 0.0)\n",
            "('parks', 0.0)\n",
            "('transit stations', 0.0)\n",
            "('workplaces', 0.0)\n",
            "('residential', 0.0)\n",
            "('driving', 0.0)\n",
            "('m50', 0.0)\n",
            "('m50_index', 0.0)\n",
            "('population_density', 0.0)\n",
            "('mask_rule_active', 0.0)\n"
          ],
          "name": "stdout"
        }
      ]
    },
    {
      "cell_type": "code",
      "metadata": {
        "id": "RWaOQxM2xrHe",
        "colab_type": "code",
        "colab": {
          "base_uri": "https://localhost:8080/",
          "height": 486
        },
        "outputId": "abb230b1-96e0-4548-8f71-733a28ce5836"
      },
      "source": [
        "\n",
        "print(\"** Printing Suffolk county data for mild increment ** \")\n",
        "\n",
        "X = Suffolk_county_data_growth3[feature_labels]\n",
        "y = Suffolk_county_data_growth3[target_column]\n",
        "\n",
        "X_train, X_test, y_train, y_test = train_test_split(X, y, test_size=0.4, random_state=0)\n",
        "\n",
        "\n",
        "# Create a random forest classifier\n",
        "clf = RandomForestClassifier(n_estimators=10000, random_state=0, n_jobs=-1)\n",
        "\n",
        "# Train the classifier\n",
        "clf.fit(X_train, y_train)\n",
        "\n",
        "# Print the name and gini importance of each feature\n",
        "for feature in zip(feature_labels, clf.feature_importances_):\n",
        "    print(feature)\n",
        "\n",
        "\n",
        "\n",
        "#  Supported criteria are “gini” for the Gini impurity and “entropy” for the information gain. \n",
        "\n",
        "clf = RandomForestClassifier(n_estimators=10000, random_state=0,criterion='entropy', n_jobs=-1)\n",
        "\n",
        "# Train the classifier\n",
        "clf.fit(X_train, y_train)\n",
        "\n",
        "# Print the name and gini importance of each feature\n",
        "for feature in zip(feature_labels, clf.feature_importances_):\n",
        "    print(feature)\n"
      ],
      "execution_count": 87,
      "outputs": [
        {
          "output_type": "stream",
          "text": [
            "** Printing Suffolk county data for mild increment ** \n"
          ],
          "name": "stdout"
        },
        {
          "output_type": "stream",
          "text": [
            "/usr/local/lib/python3.6/dist-packages/ipykernel_launcher.py:14: DataConversionWarning: A column-vector y was passed when a 1d array was expected. Please change the shape of y to (n_samples,), for example using ravel().\n",
            "  \n"
          ],
          "name": "stderr"
        },
        {
          "output_type": "stream",
          "text": [
            "('retail and recreation', 0.0)\n",
            "('grocery and pharmacy', 0.0)\n",
            "('parks', 0.0)\n",
            "('transit stations', 0.0)\n",
            "('workplaces', 0.0)\n",
            "('residential', 0.0)\n",
            "('driving', 0.0)\n",
            "('m50', 0.0)\n",
            "('m50_index', 0.0)\n",
            "('population_density', 0.0)\n",
            "('mask_rule_active', 0.0)\n"
          ],
          "name": "stdout"
        },
        {
          "output_type": "stream",
          "text": [
            "/usr/local/lib/python3.6/dist-packages/ipykernel_launcher.py:27: DataConversionWarning: A column-vector y was passed when a 1d array was expected. Please change the shape of y to (n_samples,), for example using ravel().\n"
          ],
          "name": "stderr"
        },
        {
          "output_type": "stream",
          "text": [
            "('retail and recreation', 0.0)\n",
            "('grocery and pharmacy', 0.0)\n",
            "('parks', 0.0)\n",
            "('transit stations', 0.0)\n",
            "('workplaces', 0.0)\n",
            "('residential', 0.0)\n",
            "('driving', 0.0)\n",
            "('m50', 0.0)\n",
            "('m50_index', 0.0)\n",
            "('population_density', 0.0)\n",
            "('mask_rule_active', 0.0)\n"
          ],
          "name": "stdout"
        }
      ]
    },
    {
      "cell_type": "code",
      "metadata": {
        "id": "3g3uiDs7xs89",
        "colab_type": "code",
        "colab": {
          "base_uri": "https://localhost:8080/",
          "height": 486
        },
        "outputId": "4b56e82a-aa64-44a4-94f5-73f8ae5db5fa"
      },
      "source": [
        "\n",
        "print(\"** Printing Suffolk county data for mild increment ** \")\n",
        "\n",
        "X = Suffolk_county_data_growth4[feature_labels]\n",
        "y = Suffolk_county_data_growth4[target_column]\n",
        "\n",
        "X_train, X_test, y_train, y_test = train_test_split(X, y, test_size=0.4, random_state=0)\n",
        "\n",
        "\n",
        "# Create a random forest classifier\n",
        "clf = RandomForestClassifier(n_estimators=10000, random_state=0, n_jobs=-1)\n",
        "\n",
        "# Train the classifier\n",
        "clf.fit(X_train, y_train)\n",
        "\n",
        "# Print the name and gini importance of each feature\n",
        "for feature in zip(feature_labels, clf.feature_importances_):\n",
        "    print(feature)\n",
        "\n",
        "\n",
        "\n",
        "#  Supported criteria are “gini” for the Gini impurity and “entropy” for the information gain. \n",
        "\n",
        "clf = RandomForestClassifier(n_estimators=10000, random_state=0,criterion='entropy', n_jobs=-1)\n",
        "\n",
        "# Train the classifier\n",
        "clf.fit(X_train, y_train)\n",
        "\n",
        "# Print the name and gini importance of each feature\n",
        "for feature in zip(feature_labels, clf.feature_importances_):\n",
        "    print(feature)\n"
      ],
      "execution_count": 88,
      "outputs": [
        {
          "output_type": "stream",
          "text": [
            "** Printing Suffolk county data for mild increment ** \n"
          ],
          "name": "stdout"
        },
        {
          "output_type": "stream",
          "text": [
            "/usr/local/lib/python3.6/dist-packages/ipykernel_launcher.py:14: DataConversionWarning: A column-vector y was passed when a 1d array was expected. Please change the shape of y to (n_samples,), for example using ravel().\n",
            "  \n"
          ],
          "name": "stderr"
        },
        {
          "output_type": "stream",
          "text": [
            "('retail and recreation', 0.0)\n",
            "('grocery and pharmacy', 0.0)\n",
            "('parks', 0.0)\n",
            "('transit stations', 0.0)\n",
            "('workplaces', 0.0)\n",
            "('residential', 0.0)\n",
            "('driving', 0.0)\n",
            "('m50', 0.0)\n",
            "('m50_index', 0.0)\n",
            "('population_density', 0.0)\n",
            "('mask_rule_active', 0.0)\n"
          ],
          "name": "stdout"
        },
        {
          "output_type": "stream",
          "text": [
            "/usr/local/lib/python3.6/dist-packages/ipykernel_launcher.py:27: DataConversionWarning: A column-vector y was passed when a 1d array was expected. Please change the shape of y to (n_samples,), for example using ravel().\n"
          ],
          "name": "stderr"
        },
        {
          "output_type": "stream",
          "text": [
            "('retail and recreation', 0.0)\n",
            "('grocery and pharmacy', 0.0)\n",
            "('parks', 0.0)\n",
            "('transit stations', 0.0)\n",
            "('workplaces', 0.0)\n",
            "('residential', 0.0)\n",
            "('driving', 0.0)\n",
            "('m50', 0.0)\n",
            "('m50_index', 0.0)\n",
            "('population_density', 0.0)\n",
            "('mask_rule_active', 0.0)\n"
          ],
          "name": "stdout"
        }
      ]
    },
    {
      "cell_type": "markdown",
      "metadata": {
        "id": "QXZrN9u4z3Sr",
        "colab_type": "text"
      },
      "source": [
        "# Growth label-wise feature selection"
      ]
    },
    {
      "cell_type": "code",
      "metadata": {
        "id": "ZpSscMnxz-hT",
        "colab_type": "code",
        "colab": {
          "base_uri": "https://localhost:8080/",
          "height": 104
        },
        "outputId": "ff91fd04-01b5-4d31-f8fc-579764d37f67"
      },
      "source": [
        "NY_labeled_data_growth1 = NY_labeled_data[NY_labeled_data['growth_code'] == 0]\n",
        "NY_labeled_data_growth2 = NY_labeled_data[NY_labeled_data['growth_code'] == 1]\n",
        "NY_labeled_data_growth3 = NY_labeled_data[NY_labeled_data['growth_code'] == 2]\n",
        "NY_labeled_data_growth4 = NY_labeled_data[NY_labeled_data['growth_code'] == 3]\n",
        "NY_labeled_data_growth5 = NY_labeled_data[NY_labeled_data['growth_code'] == 4]\n",
        "\n",
        "print(NY_labeled_data_growth1.shape)\n",
        "print(NY_labeled_data_growth2.shape)\n",
        "print(NY_labeled_data_growth3.shape)\n",
        "print(NY_labeled_data_growth4.shape)\n",
        "print(NY_labeled_data_growth5.shape)"
      ],
      "execution_count": 108,
      "outputs": [
        {
          "output_type": "stream",
          "text": [
            "(126, 21)\n",
            "(154, 21)\n",
            "(1190, 21)\n",
            "(4018, 21)\n",
            "(4160, 21)\n"
          ],
          "name": "stdout"
        }
      ]
    },
    {
      "cell_type": "markdown",
      "metadata": {
        "id": "0dBCTdfh2--Z",
        "colab_type": "text"
      },
      "source": [
        "### Growth label : 0 -> drastic decrement"
      ]
    },
    {
      "cell_type": "code",
      "metadata": {
        "id": "4bvzAkZkz7bC",
        "colab_type": "code",
        "colab": {
          "base_uri": "https://localhost:8080/",
          "height": 780
        },
        "outputId": "644621c9-93b5-4821-d373-cafee38ca301"
      },
      "source": [
        "\n",
        "print(\"** Printing NY all county data for mild increment ** \")\n",
        "print(NY_labeled_data_growth1.shape)\n",
        "X = NY_labeled_data_growth1[feature_labels]\n",
        "y = NY_labeled_data_growth1[target_column]\n",
        "\n",
        "X_train, X_test, y_train, y_test = train_test_split(X, y, test_size=0.4, random_state=0)\n",
        "\n",
        "\n",
        "# Create a random forest classifier\n",
        "clf = RandomForestClassifier(n_estimators=10000, random_state=0, n_jobs=-1)\n",
        "\n",
        "# Train the classifier\n",
        "clf.fit(X_train, y_train)\n",
        "\n",
        "# Print the name and gini importance of each feature\n",
        "for feature in zip(feature_labels, clf.feature_importances_):\n",
        "    print(feature)\n",
        "\n",
        "\n",
        "\n",
        "#  Supported criteria are “gini” for the Gini impurity and “entropy” for the information gain. \n",
        "\n",
        "clf = RandomForestClassifier(n_estimators=10000, random_state=0,criterion='entropy', n_jobs=-1)\n",
        "\n",
        "# Train the classifier\n",
        "clf.fit(X_train, y_train)\n",
        "\n",
        "# Print the name and gini importance of each feature\n",
        "for feature in zip(feature_labels, clf.feature_importances_):\n",
        "    print(feature)\n",
        "\n",
        "\n",
        "model = ExtraTreesClassifier()\n",
        "model.fit(X, y.values.ravel())\n",
        "# display the relative importance of each attribute\n",
        "print(model.feature_importances_)\n",
        "\n",
        "\n",
        "# create the RFE model and select 3 attributes\n",
        "rfe = RFE(model, 3)\n",
        "rfe = rfe.fit(X, y.values.ravel())\n",
        "# summarize the selection of the attributes\n",
        "print(rfe.support_)\n",
        "for index in range(len(rfe.ranking_)):\n",
        "  print(feature_labels[index], rfe.ranking_[index])\n",
        "\n",
        "print(rfe.ranking_)\n",
        "print(rfe.n_features_)\n",
        "rfe.n_features_to_select\n"
      ],
      "execution_count": 119,
      "outputs": [
        {
          "output_type": "stream",
          "text": [
            "** Printing NY all county data for mild increment ** \n",
            "(126, 21)\n"
          ],
          "name": "stdout"
        },
        {
          "output_type": "stream",
          "text": [
            "/usr/local/lib/python3.6/dist-packages/ipykernel_launcher.py:14: DataConversionWarning: A column-vector y was passed when a 1d array was expected. Please change the shape of y to (n_samples,), for example using ravel().\n",
            "  \n"
          ],
          "name": "stderr"
        },
        {
          "output_type": "stream",
          "text": [
            "('retail and recreation', 0.0)\n",
            "('grocery and pharmacy', 0.0)\n",
            "('parks', 0.0)\n",
            "('transit stations', 0.0)\n",
            "('workplaces', 0.0)\n",
            "('residential', 0.0)\n",
            "('driving', 0.0)\n",
            "('m50', 0.0)\n",
            "('m50_index', 0.0)\n",
            "('population_density', 0.0)\n",
            "('mask_rule_active', 0.0)\n"
          ],
          "name": "stdout"
        },
        {
          "output_type": "stream",
          "text": [
            "/usr/local/lib/python3.6/dist-packages/ipykernel_launcher.py:27: DataConversionWarning: A column-vector y was passed when a 1d array was expected. Please change the shape of y to (n_samples,), for example using ravel().\n"
          ],
          "name": "stderr"
        },
        {
          "output_type": "stream",
          "text": [
            "('retail and recreation', 0.0)\n",
            "('grocery and pharmacy', 0.0)\n",
            "('parks', 0.0)\n",
            "('transit stations', 0.0)\n",
            "('workplaces', 0.0)\n",
            "('residential', 0.0)\n",
            "('driving', 0.0)\n",
            "('m50', 0.0)\n",
            "('m50_index', 0.0)\n",
            "('population_density', 0.0)\n",
            "('mask_rule_active', 0.0)\n",
            "[0. 0. 0. 0. 0. 0. 0. 0. 0. 0. 0.]\n",
            "[False False False False False False False False  True  True  True]\n",
            "retail and recreation 9\n",
            "grocery and pharmacy 8\n",
            "parks 7\n",
            "transit stations 6\n",
            "workplaces 5\n",
            "residential 4\n",
            "driving 3\n",
            "m50 2\n",
            "m50_index 1\n",
            "population_density 1\n",
            "mask_rule_active 1\n",
            "[9 8 7 6 5 4 3 2 1 1 1]\n",
            "3\n"
          ],
          "name": "stdout"
        },
        {
          "output_type": "execute_result",
          "data": {
            "text/plain": [
              "3"
            ]
          },
          "metadata": {
            "tags": []
          },
          "execution_count": 119
        }
      ]
    },
    {
      "cell_type": "markdown",
      "metadata": {
        "id": "vt4EVRMw24sP",
        "colab_type": "text"
      },
      "source": [
        "### Growth label : 1 -> drastic growth"
      ]
    },
    {
      "cell_type": "code",
      "metadata": {
        "id": "mU1jl-W70iv_",
        "colab_type": "code",
        "colab": {
          "base_uri": "https://localhost:8080/",
          "height": 815
        },
        "outputId": "5a01dd22-b3a3-4e51-f52c-9479d412868b"
      },
      "source": [
        "\n",
        "print(\"** Printing NY all county data for drastic growth ** \")\n",
        "print(NY_labeled_data_growth2.shape)\n",
        "X = NY_labeled_data_growth2[feature_labels]\n",
        "y = NY_labeled_data_growth2[target_column]\n",
        "\n",
        "X_train, X_test, y_train, y_test = train_test_split(X, y, test_size=0.2, random_state=0)\n",
        "\n",
        "\n",
        "# Create a random forest classifier\n",
        "clf = RandomForestClassifier(n_estimators=10000, random_state=0, n_jobs=-1)\n",
        "\n",
        "# Train the classifier\n",
        "clf.fit(X_train, y_train)\n",
        "\n",
        "# Print the name and gini importance of each feature\n",
        "for feature in zip(feature_labels, clf.feature_importances_):\n",
        "    print(feature)\n",
        "\n",
        "\n",
        "\n",
        "#  Supported criteria are “gini” for the Gini impurity and “entropy” for the information gain. \n",
        "\n",
        "clf = RandomForestClassifier(n_estimators=10000, random_state=0,criterion='entropy', n_jobs=-1)\n",
        "\n",
        "# Train the classifier\n",
        "clf.fit(X_train, y_train)\n",
        "\n",
        "# Print the name and gini importance of each feature\n",
        "for feature in zip(feature_labels, clf.feature_importances_):\n",
        "    print(feature)\n",
        "\n",
        "model = ExtraTreesClassifier()\n",
        "model.fit(X, y.values.ravel())\n",
        "# display the relative importance of each attribute\n",
        "print(model.feature_importances_)\n",
        "\n",
        "\n",
        "# create the RFE model and select 3 attributes\n",
        "rfe = RFE(model, 3)\n",
        "rfe = rfe.fit(X, y.values.ravel())\n",
        "# summarize the selection of the attributes\n",
        "print(rfe.support_)\n",
        "print(\"Printing feature ranking \")\n",
        "for index in range(len(rfe.ranking_)):\n",
        "  print(feature_labels[index], rfe.ranking_[index])\n",
        "\n",
        "print(rfe.ranking_)\n",
        "print(rfe.n_features_)\n",
        "rfe.n_features_to_select\n"
      ],
      "execution_count": 114,
      "outputs": [
        {
          "output_type": "stream",
          "text": [
            "** Printing NY all county data for drastic growth ** \n",
            "(154, 21)\n"
          ],
          "name": "stdout"
        },
        {
          "output_type": "stream",
          "text": [
            "/usr/local/lib/python3.6/dist-packages/ipykernel_launcher.py:14: DataConversionWarning: A column-vector y was passed when a 1d array was expected. Please change the shape of y to (n_samples,), for example using ravel().\n",
            "  \n"
          ],
          "name": "stderr"
        },
        {
          "output_type": "stream",
          "text": [
            "('retail and recreation', 0.062305349169990094)\n",
            "('grocery and pharmacy', 0.06326112094704883)\n",
            "('parks', 0.060612376476354445)\n",
            "('transit stations', 0.14370222350340056)\n",
            "('workplaces', 0.07459097854075052)\n",
            "('residential', 0.05697868460540367)\n",
            "('driving', 0.07582954750665989)\n",
            "('m50', 0.051780003201368954)\n",
            "('m50_index', 0.03571156357418466)\n",
            "('population_density', 0.3752281524748383)\n",
            "('mask_rule_active', 0.0)\n"
          ],
          "name": "stdout"
        },
        {
          "output_type": "stream",
          "text": [
            "/usr/local/lib/python3.6/dist-packages/ipykernel_launcher.py:27: DataConversionWarning: A column-vector y was passed when a 1d array was expected. Please change the shape of y to (n_samples,), for example using ravel().\n"
          ],
          "name": "stderr"
        },
        {
          "output_type": "stream",
          "text": [
            "('retail and recreation', 0.05933308051503969)\n",
            "('grocery and pharmacy', 0.060300794437508985)\n",
            "('parks', 0.061905733095507384)\n",
            "('transit stations', 0.14795869366895897)\n",
            "('workplaces', 0.07230131832181139)\n",
            "('residential', 0.05418275301229288)\n",
            "('driving', 0.07474650914611664)\n",
            "('m50', 0.04783830819183329)\n",
            "('m50_index', 0.03276305777628411)\n",
            "('population_density', 0.38866975183464675)\n",
            "('mask_rule_active', 0.0)\n",
            "[0.06506826 0.05679944 0.05678151 0.15667878 0.05617211 0.04897742\n",
            " 0.05121903 0.05631978 0.04449905 0.40748461 0.        ]\n",
            "[False False False  True  True False False False False  True False]\n",
            "Printing feature ranking \n",
            "retail and recreation 3\n",
            "grocery and pharmacy 4\n",
            "parks 2\n",
            "transit stations 1\n",
            "workplaces 1\n",
            "residential 7\n",
            "driving 6\n",
            "m50 5\n",
            "m50_index 8\n",
            "population_density 1\n",
            "mask_rule_active 9\n",
            "[3 4 2 1 1 7 6 5 8 1 9]\n",
            "3\n"
          ],
          "name": "stdout"
        },
        {
          "output_type": "execute_result",
          "data": {
            "text/plain": [
              "3"
            ]
          },
          "metadata": {
            "tags": []
          },
          "execution_count": 114
        }
      ]
    },
    {
      "cell_type": "markdown",
      "metadata": {
        "id": "pnxhk1m13Eci",
        "colab_type": "text"
      },
      "source": [
        "### Growth label : 2 -> Flat"
      ]
    },
    {
      "cell_type": "code",
      "metadata": {
        "id": "AbSlaQ8S0k9p",
        "colab_type": "code",
        "colab": {
          "base_uri": "https://localhost:8080/",
          "height": 780
        },
        "outputId": "3bf7cc76-5687-462e-83d0-d1b5ec3be28e"
      },
      "source": [
        "\n",
        "print(\"** Printing NY all county data for flat ** \")\n",
        "\n",
        "X = NY_labeled_data_growth3[feature_labels]\n",
        "y = NY_labeled_data_growth3[target_column]\n",
        "print(X.shape)\n",
        "\n",
        "X_train, X_test, y_train, y_test = train_test_split(X, y, test_size=0.2, random_state=0)\n",
        "\n",
        "\n",
        "# Create a random forest classifier\n",
        "clf = RandomForestClassifier(n_estimators=10000, random_state=0, n_jobs=-1)\n",
        "\n",
        "# Train the classifier\n",
        "clf.fit(X_train, y_train)\n",
        "\n",
        "# Print the name and gini importance of each feature\n",
        "for feature in zip(feature_labels, clf.feature_importances_):\n",
        "    print(feature)\n",
        "\n",
        "\n",
        "\n",
        "#  Supported criteria are “gini” for the Gini impurity and “entropy” for the information gain. \n",
        "\n",
        "clf = RandomForestClassifier(n_estimators=10000, random_state=0,criterion='entropy', n_jobs=-1)\n",
        "\n",
        "# Train the classifier\n",
        "clf.fit(X_train, y_train)\n",
        "\n",
        "# Print the name and gini importance of each feature\n",
        "for feature in zip(feature_labels, clf.feature_importances_):\n",
        "    print(feature)\n",
        "\n",
        "\n",
        "model = ExtraTreesClassifier()\n",
        "model.fit(X, y.values.ravel())\n",
        "# display the relative importance of each attribute\n",
        "print(model.feature_importances_)\n",
        "\n",
        "\n",
        "# create the RFE model and select 3 attributes\n",
        "rfe = RFE(model, 3)\n",
        "rfe = rfe.fit(X, y.values.ravel())\n",
        "# summarize the selection of the attributes\n",
        "print(rfe.support_)\n",
        "for index in range(len(rfe.ranking_)):\n",
        "  print(feature_labels[index], rfe.ranking_[index])\n",
        "\n",
        "print(rfe.ranking_)\n",
        "print(rfe.n_features_)\n",
        "rfe.n_features_to_select\n"
      ],
      "execution_count": 92,
      "outputs": [
        {
          "output_type": "stream",
          "text": [
            "** Printing NY all county data for mild increment ** \n",
            "(4018, 11)\n"
          ],
          "name": "stdout"
        },
        {
          "output_type": "stream",
          "text": [
            "/usr/local/lib/python3.6/dist-packages/ipykernel_launcher.py:15: DataConversionWarning: A column-vector y was passed when a 1d array was expected. Please change the shape of y to (n_samples,), for example using ravel().\n",
            "  from ipykernel import kernelapp as app\n"
          ],
          "name": "stderr"
        },
        {
          "output_type": "stream",
          "text": [
            "('retail and recreation', 0.0)\n",
            "('grocery and pharmacy', 0.0)\n",
            "('parks', 0.0)\n",
            "('transit stations', 0.0)\n",
            "('workplaces', 0.0)\n",
            "('residential', 0.0)\n",
            "('driving', 0.0)\n",
            "('m50', 0.0)\n",
            "('m50_index', 0.0)\n",
            "('population_density', 0.0)\n",
            "('mask_rule_active', 0.0)\n"
          ],
          "name": "stdout"
        },
        {
          "output_type": "stream",
          "text": [
            "/usr/local/lib/python3.6/dist-packages/ipykernel_launcher.py:28: DataConversionWarning: A column-vector y was passed when a 1d array was expected. Please change the shape of y to (n_samples,), for example using ravel().\n"
          ],
          "name": "stderr"
        },
        {
          "output_type": "stream",
          "text": [
            "('retail and recreation', 0.0)\n",
            "('grocery and pharmacy', 0.0)\n",
            "('parks', 0.0)\n",
            "('transit stations', 0.0)\n",
            "('workplaces', 0.0)\n",
            "('residential', 0.0)\n",
            "('driving', 0.0)\n",
            "('m50', 0.0)\n",
            "('m50_index', 0.0)\n",
            "('population_density', 0.0)\n",
            "('mask_rule_active', 0.0)\n",
            "[0. 0. 0. 0. 0. 0. 0. 0. 0. 0. 0.]\n",
            "[False False False False False False False False  True  True  True]\n",
            "retail and recreation 9\n",
            "grocery and pharmacy 8\n",
            "parks 7\n",
            "transit stations 6\n",
            "workplaces 5\n",
            "residential 4\n",
            "driving 3\n",
            "m50 2\n",
            "m50_index 1\n",
            "population_density 1\n",
            "mask_rule_active 1\n",
            "[9 8 7 6 5 4 3 2 1 1 1]\n",
            "3\n"
          ],
          "name": "stdout"
        },
        {
          "output_type": "execute_result",
          "data": {
            "text/plain": [
              "3"
            ]
          },
          "metadata": {
            "tags": []
          },
          "execution_count": 92
        }
      ]
    },
    {
      "cell_type": "markdown",
      "metadata": {
        "id": "O6QFTSg53H6H",
        "colab_type": "text"
      },
      "source": [
        "### Growth label : 3 -> mild decrement"
      ]
    },
    {
      "cell_type": "code",
      "metadata": {
        "id": "i-oibbGq0oex",
        "colab_type": "code",
        "colab": {
          "base_uri": "https://localhost:8080/",
          "height": 763
        },
        "outputId": "3c87a687-d2e8-466d-c611-daa9ef655326"
      },
      "source": [
        "\n",
        "print(\"** Printing NY all county data for mild decrement ** \")\n",
        "\n",
        "X = NY_labeled_data_growth4[feature_labels]\n",
        "y = NY_labeled_data_growth4[target_column]\n",
        "print(X.shape)\n",
        "\n",
        "X_train, X_test, y_train, y_test = train_test_split(X, y, test_size=0.4, random_state=0)\n",
        "\n",
        "\n",
        "# Create a random forest classifier\n",
        "clf = RandomForestClassifier(n_estimators=100, random_state=0, n_jobs=-1, min_samples_leaf= 20)\n",
        "\n",
        "# Train the classifier\n",
        "clf.fit(X_train, y_train)\n",
        "\n",
        "# Print the name and gini importance of each feature\n",
        "for feature in zip(feature_labels, clf.feature_importances_):\n",
        "    print(feature)\n",
        "\n",
        "\n",
        "\n",
        "#  Supported criteria are “gini” for the Gini impurity and “entropy” for the information gain. \n",
        "from sklearn.tree import DecisionTreeClassifier \n",
        "#clf = RandomForestClassifier(n_estimators=10000, random_state=0,criterion='entropy', n_jobs=-1)\n",
        "rf = DecisionTreeClassifier(random_state = 42)\n",
        "# Train the classifier\n",
        "rf.fit(X_train, y_train)\n",
        "\n",
        "# Print the name and gini importance of each feature\n",
        "for feature in zip(feature_labels, rf.feature_importances_):\n",
        "    print(feature)\n",
        "\n",
        "model = ExtraTreesClassifier()\n",
        "model.fit(X, y.values.ravel())\n",
        "# display the relative importance of each attribute\n",
        "print(model.feature_importances_)\n",
        "\n",
        "\n",
        "# create the RFE model and select 3 attributes\n",
        "rfe = RFE(model, 3)\n",
        "rfe = rfe.fit(X, y.values.ravel())\n",
        "# summarize the selection of the attributes\n",
        "print(rfe.support_)\n",
        "for index in range(len(rfe.ranking_)):\n",
        "  print(feature_labels[index], rfe.ranking_[index])\n",
        "\n",
        "#print(rfe.ranking_)\n",
        "print(rfe.n_features_)\n",
        "rfe.n_features_to_select"
      ],
      "execution_count": 116,
      "outputs": [
        {
          "output_type": "stream",
          "text": [
            "** Printing NY all county data for mild increment ** \n",
            "(4018, 11)\n"
          ],
          "name": "stdout"
        },
        {
          "output_type": "stream",
          "text": [
            "/usr/local/lib/python3.6/dist-packages/ipykernel_launcher.py:15: DataConversionWarning: A column-vector y was passed when a 1d array was expected. Please change the shape of y to (n_samples,), for example using ravel().\n",
            "  from ipykernel import kernelapp as app\n"
          ],
          "name": "stderr"
        },
        {
          "output_type": "stream",
          "text": [
            "('retail and recreation', 0.0)\n",
            "('grocery and pharmacy', 0.0)\n",
            "('parks', 0.0)\n",
            "('transit stations', 0.0)\n",
            "('workplaces', 0.0)\n",
            "('residential', 0.0)\n",
            "('driving', 0.0)\n",
            "('m50', 0.0)\n",
            "('m50_index', 0.0)\n",
            "('population_density', 0.0)\n",
            "('mask_rule_active', 0.0)\n",
            "('retail and recreation', 0.0)\n",
            "('grocery and pharmacy', 0.0)\n",
            "('parks', 0.0)\n",
            "('transit stations', 0.0)\n",
            "('workplaces', 0.0)\n",
            "('residential', 0.0)\n",
            "('driving', 0.0)\n",
            "('m50', 0.0)\n",
            "('m50_index', 0.0)\n",
            "('population_density', 0.0)\n",
            "('mask_rule_active', 0.0)\n",
            "[0. 0. 0. 0. 0. 0. 0. 0. 0. 0. 0.]\n",
            "[False False False False False False False False  True  True  True]\n",
            "retail and recreation 9\n",
            "grocery and pharmacy 8\n",
            "parks 7\n",
            "transit stations 6\n",
            "workplaces 5\n",
            "residential 4\n",
            "driving 3\n",
            "m50 2\n",
            "m50_index 1\n",
            "population_density 1\n",
            "mask_rule_active 1\n",
            "[9 8 7 6 5 4 3 2 1 1 1]\n",
            "3\n"
          ],
          "name": "stdout"
        },
        {
          "output_type": "execute_result",
          "data": {
            "text/plain": [
              "3"
            ]
          },
          "metadata": {
            "tags": []
          },
          "execution_count": 116
        }
      ]
    },
    {
      "cell_type": "markdown",
      "metadata": {
        "id": "zFfV6n5f3m6Q",
        "colab_type": "text"
      },
      "source": [
        "### Growth label : 4 -> mild increment"
      ]
    },
    {
      "cell_type": "code",
      "metadata": {
        "id": "9hKoaaBSrnyP",
        "colab_type": "code",
        "colab": {
          "base_uri": "https://localhost:8080/",
          "height": 780
        },
        "outputId": "28f7605e-86fb-4323-92e3-e6a6a523b15b"
      },
      "source": [
        "\n",
        "print(\"** Printing NY all county data for mild increment ** \")\n",
        "\n",
        "X = NY_labeled_data_growth5[feature_labels]\n",
        "y = NY_labeled_data_growth5[target_column]\n",
        "print(X.shape)\n",
        "\n",
        "X_train, X_test, y_train, y_test = train_test_split(X, y, test_size=0.2, random_state=0)\n",
        "\n",
        "\n",
        "# Create a random forest classifier\n",
        "clf = RandomForestClassifier(n_estimators=10000, random_state=0, n_jobs=-1)\n",
        "\n",
        "# Train the classifier\n",
        "clf.fit(X_train, y_train)\n",
        "\n",
        "# Print the name and gini importance of each feature\n",
        "for feature in zip(feature_labels, clf.feature_importances_):\n",
        "    print(feature)\n",
        "\n",
        "\n",
        "\n",
        "#  Supported criteria are “gini” for the Gini impurity and “entropy” for the information gain. \n",
        "\n",
        "clf = RandomForestClassifier(n_estimators=10000, random_state=0,criterion='entropy', n_jobs=-1)\n",
        "\n",
        "# Train the classifier\n",
        "clf.fit(X_train, y_train)\n",
        "\n",
        "# Print the name and gini importance of each feature\n",
        "for feature in zip(feature_labels, clf.feature_importances_):\n",
        "    print(feature)\n",
        "\n",
        "\n",
        "model = ExtraTreesClassifier()\n",
        "model.fit(X, y.values.ravel())\n",
        "# display the relative importance of each attribute\n",
        "print(model.feature_importances_)\n",
        "\n",
        "\n",
        "# create the RFE model and select 3 attributes\n",
        "rfe = RFE(model, 3)\n",
        "rfe = rfe.fit(X, y.values.ravel())\n",
        "# summarize the selection of the attributes\n",
        "print(rfe.support_)\n",
        "for index in range(len(rfe.ranking_)):\n",
        "  print(feature_labels[index], rfe.ranking_[index])\n",
        "\n",
        "print(rfe.ranking_)\n",
        "print(rfe.n_features_)\n",
        "rfe.n_features_to_select\n"
      ],
      "execution_count": 117,
      "outputs": [
        {
          "output_type": "stream",
          "text": [
            "** Printing NY all county data for mild increment ** \n",
            "(4160, 11)\n"
          ],
          "name": "stdout"
        },
        {
          "output_type": "stream",
          "text": [
            "/usr/local/lib/python3.6/dist-packages/ipykernel_launcher.py:15: DataConversionWarning: A column-vector y was passed when a 1d array was expected. Please change the shape of y to (n_samples,), for example using ravel().\n",
            "  from ipykernel import kernelapp as app\n"
          ],
          "name": "stderr"
        },
        {
          "output_type": "stream",
          "text": [
            "('retail and recreation', 0.0)\n",
            "('grocery and pharmacy', 0.0)\n",
            "('parks', 0.0)\n",
            "('transit stations', 0.0)\n",
            "('workplaces', 0.0)\n",
            "('residential', 0.0)\n",
            "('driving', 0.0)\n",
            "('m50', 0.0)\n",
            "('m50_index', 0.0)\n",
            "('population_density', 0.0)\n",
            "('mask_rule_active', 0.0)\n"
          ],
          "name": "stdout"
        },
        {
          "output_type": "stream",
          "text": [
            "/usr/local/lib/python3.6/dist-packages/ipykernel_launcher.py:28: DataConversionWarning: A column-vector y was passed when a 1d array was expected. Please change the shape of y to (n_samples,), for example using ravel().\n"
          ],
          "name": "stderr"
        },
        {
          "output_type": "stream",
          "text": [
            "('retail and recreation', 0.0)\n",
            "('grocery and pharmacy', 0.0)\n",
            "('parks', 0.0)\n",
            "('transit stations', 0.0)\n",
            "('workplaces', 0.0)\n",
            "('residential', 0.0)\n",
            "('driving', 0.0)\n",
            "('m50', 0.0)\n",
            "('m50_index', 0.0)\n",
            "('population_density', 0.0)\n",
            "('mask_rule_active', 0.0)\n",
            "[0. 0. 0. 0. 0. 0. 0. 0. 0. 0. 0.]\n",
            "[False False False False False False False False  True  True  True]\n",
            "retail and recreation 9\n",
            "grocery and pharmacy 8\n",
            "parks 7\n",
            "transit stations 6\n",
            "workplaces 5\n",
            "residential 4\n",
            "driving 3\n",
            "m50 2\n",
            "m50_index 1\n",
            "population_density 1\n",
            "mask_rule_active 1\n",
            "[9 8 7 6 5 4 3 2 1 1 1]\n",
            "3\n"
          ],
          "name": "stdout"
        },
        {
          "output_type": "execute_result",
          "data": {
            "text/plain": [
              "3"
            ]
          },
          "metadata": {
            "tags": []
          },
          "execution_count": 117
        }
      ]
    },
    {
      "cell_type": "markdown",
      "metadata": {
        "id": "84sZVkiWt61B",
        "colab_type": "text"
      },
      "source": [
        "# Verifying Maryland University inertia data"
      ]
    },
    {
      "cell_type": "markdown",
      "metadata": {
        "id": "IHqZs_fKuCPu",
        "colab_type": "text"
      },
      "source": [
        "## Load data"
      ]
    },
    {
      "cell_type": "code",
      "metadata": {
        "id": "rCI70Zs6uIVa",
        "colab_type": "code",
        "colab": {
          "base_uri": "https://localhost:8080/",
          "height": 363
        },
        "outputId": "69c52d60-2062-47ea-b18c-9cfb73dddbf8"
      },
      "source": [
        "!ls '/content/drive/Shared drives/CMPE 295- Master Project/Covid19-data/'"
      ],
      "execution_count": 96,
      "outputs": [
        {
          "output_type": "stream",
          "text": [
            "CA_Covid-19.csv\n",
            "CA-CovidAug22.csv\n",
            "Maryland_University_SocialDistancing_Data\n",
            "mask_rule.csv\n",
            "mask_rule_data.csv\n",
            "Newyork_combinedAug22.csv\n",
            "Newyork_combined.csv\n",
            "NY_Covid-19.csv\n",
            "NY-CovidAug21.csv\n",
            "NY-CovidAug22.csv\n",
            "NY_labeledData_Aug23.csv\n",
            "NY_labeledData_Aug27.csv\n",
            "NY_labeledData_Sep13.csv\n",
            "NY_sd_inertia_labeledData_Aug27.csv\n",
            "NY_sd_inertia_labeledData_Sep13.csv\n",
            "NY_socialDistancingInertiaDataAug25.csv\n",
            "queens_all_combined.csv\n",
            "queens_all_filtered.csv\n",
            "Queens_county.csv\n",
            "Social_Distancing_Inertia_County.csv\n"
          ],
          "name": "stdout"
        }
      ]
    },
    {
      "cell_type": "code",
      "metadata": {
        "id": "LK24exOvt_Ud",
        "colab_type": "code",
        "colab": {
          "base_uri": "https://localhost:8080/",
          "height": 35
        },
        "outputId": "a7fbc0d4-b0d9-437a-a56e-132c4c62fe05"
      },
      "source": [
        "NY_labeled_data_inertia = pd.read_csv('/content/drive/Shared drives/CMPE 295- Master Project/Covid19-data/NY_sd_inertia_labeledData_Sep13.csv',low_memory=False)\n",
        "print(NY_labeled_data_inertia.shape)"
      ],
      "execution_count": 97,
      "outputs": [
        {
          "output_type": "stream",
          "text": [
            "(12296, 56)\n"
          ],
          "name": "stdout"
        }
      ]
    },
    {
      "cell_type": "markdown",
      "metadata": {
        "id": "KqtPQucIup3O",
        "colab_type": "text"
      },
      "source": [
        "## Preprocessing data"
      ]
    },
    {
      "cell_type": "code",
      "metadata": {
        "id": "TESPtOlBuvKD",
        "colab_type": "code",
        "colab": {
          "base_uri": "https://localhost:8080/",
          "height": 155
        },
        "outputId": "2f2d21b9-e239-4803-df75-cd12104fce4a"
      },
      "source": [
        "NY_labeled_data_inertia = NY_labeled_data_inertia.dropna()\n",
        "NY_labeled_data_inertia[pd.isna(NY_labeled_data_inertia['label'])]\n"
      ],
      "execution_count": 98,
      "outputs": [
        {
          "output_type": "execute_result",
          "data": {
            "text/html": [
              "<div>\n",
              "<style scoped>\n",
              "    .dataframe tbody tr th:only-of-type {\n",
              "        vertical-align: middle;\n",
              "    }\n",
              "\n",
              "    .dataframe tbody tr th {\n",
              "        vertical-align: top;\n",
              "    }\n",
              "\n",
              "    .dataframe thead th {\n",
              "        text-align: right;\n",
              "    }\n",
              "</style>\n",
              "<table border=\"1\" class=\"dataframe\">\n",
              "  <thead>\n",
              "    <tr style=\"text-align: right;\">\n",
              "      <th></th>\n",
              "      <th>Date</th>\n",
              "      <th>Province_State</th>\n",
              "      <th>FIPS</th>\n",
              "      <th>New cases</th>\n",
              "      <th>mask_rule_active</th>\n",
              "      <th>CTFIPS</th>\n",
              "      <th>CTNAME</th>\n",
              "      <th>STFIPS</th>\n",
              "      <th>Social distancing index</th>\n",
              "      <th>% staying home</th>\n",
              "      <th>Trips/person</th>\n",
              "      <th>% out-of-county trips</th>\n",
              "      <th>% out-of-state trips</th>\n",
              "      <th>Miles/person</th>\n",
              "      <th>Work trips/person</th>\n",
              "      <th>Non-work trips/person</th>\n",
              "      <th>New COVID cases</th>\n",
              "      <th>Population</th>\n",
              "      <th>% change in consumption</th>\n",
              "      <th>date</th>\n",
              "      <th>Transit mode share</th>\n",
              "      <th>% people older than 60</th>\n",
              "      <th>Median income</th>\n",
              "      <th>% African Americans</th>\n",
              "      <th>% Hispanic Americans</th>\n",
              "      <th>% Male</th>\n",
              "      <th>Population density</th>\n",
              "      <th>Employment density</th>\n",
              "      <th># hot spots/1000 people</th>\n",
              "      <th>Hospital beds/1000 people</th>\n",
              "      <th>ICUs/1000 people</th>\n",
              "      <th># contact tracing workers/1000 people</th>\n",
              "      <th># contact tracing workers/1000 people rank</th>\n",
              "      <th>% people older than 60 rank</th>\n",
              "      <th>COVID exposure/1000 people</th>\n",
              "      <th>Unemployment claims/1000 people</th>\n",
              "      <th>Unemployment rate</th>\n",
              "      <th>% working from home</th>\n",
              "      <th>Cumulative inflation rate</th>\n",
              "      <th>% hospital bed utilization</th>\n",
              "      <th>Testing capacity</th>\n",
              "      <th>Tests done/1000 people</th>\n",
              "      <th>% ICU utilization</th>\n",
              "      <th>Ventilator shortage</th>\n",
              "      <th>Confirmed</th>\n",
              "      <th>Deaths</th>\n",
              "      <th>New deaths</th>\n",
              "      <th>#days: decreasing ILI cases</th>\n",
              "      <th>COVID death rate</th>\n",
              "      <th>New cases/1000 people</th>\n",
              "      <th>Active cases/1000 people</th>\n",
              "      <th>#days: decreasing COVID cases</th>\n",
              "      <th>Imported COVID cases</th>\n",
              "      <th>rolling_avg_new_cases</th>\n",
              "      <th>label</th>\n",
              "      <th>growth_label</th>\n",
              "    </tr>\n",
              "  </thead>\n",
              "  <tbody>\n",
              "  </tbody>\n",
              "</table>\n",
              "</div>"
            ],
            "text/plain": [
              "Empty DataFrame\n",
              "Columns: [Date, Province_State, FIPS, New cases, mask_rule_active, CTFIPS, CTNAME, STFIPS, Social distancing index, % staying home, Trips/person, % out-of-county trips, % out-of-state trips, Miles/person, Work trips/person, Non-work trips/person, New COVID cases, Population, % change in consumption, date, Transit mode share, % people older than 60, Median income, % African Americans, % Hispanic Americans, % Male, Population density, Employment density, # hot spots/1000 people, Hospital beds/1000 people, ICUs/1000 people, # contact tracing workers/1000 people, # contact tracing workers/1000 people rank, % people older than 60 rank, COVID exposure/1000 people, Unemployment claims/1000 people, Unemployment rate, % working from home, Cumulative inflation rate, % hospital bed utilization, Testing capacity, Tests done/1000 people, % ICU utilization, Ventilator shortage, Confirmed, Deaths, New deaths, #days: decreasing ILI cases, COVID death rate, New cases/1000 people, Active cases/1000 people, #days: decreasing COVID cases, Imported COVID cases, rolling_avg_new_cases, label, growth_label]\n",
              "Index: []"
            ]
          },
          "metadata": {
            "tags": []
          },
          "execution_count": 98
        }
      ]
    },
    {
      "cell_type": "code",
      "metadata": {
        "id": "AAGE0npeurwK",
        "colab_type": "code",
        "colab": {
          "base_uri": "https://localhost:8080/",
          "height": 391
        },
        "outputId": "0765a467-490c-41e7-e3c5-b4be10797454"
      },
      "source": [
        "NY_labeled_data_inertia['label_code'] = NY_labeled_data_inertia['label'].astype('category').cat.codes\n",
        "NY_labeled_data_inertia['growth_code'] = NY_labeled_data_inertia['growth_label'].astype('category').cat.codes\n",
        "NY_labeled_data_inertia.head()\n"
      ],
      "execution_count": 99,
      "outputs": [
        {
          "output_type": "execute_result",
          "data": {
            "text/html": [
              "<div>\n",
              "<style scoped>\n",
              "    .dataframe tbody tr th:only-of-type {\n",
              "        vertical-align: middle;\n",
              "    }\n",
              "\n",
              "    .dataframe tbody tr th {\n",
              "        vertical-align: top;\n",
              "    }\n",
              "\n",
              "    .dataframe thead th {\n",
              "        text-align: right;\n",
              "    }\n",
              "</style>\n",
              "<table border=\"1\" class=\"dataframe\">\n",
              "  <thead>\n",
              "    <tr style=\"text-align: right;\">\n",
              "      <th></th>\n",
              "      <th>Date</th>\n",
              "      <th>Province_State</th>\n",
              "      <th>FIPS</th>\n",
              "      <th>New cases</th>\n",
              "      <th>mask_rule_active</th>\n",
              "      <th>CTFIPS</th>\n",
              "      <th>CTNAME</th>\n",
              "      <th>STFIPS</th>\n",
              "      <th>Social distancing index</th>\n",
              "      <th>% staying home</th>\n",
              "      <th>Trips/person</th>\n",
              "      <th>% out-of-county trips</th>\n",
              "      <th>% out-of-state trips</th>\n",
              "      <th>Miles/person</th>\n",
              "      <th>Work trips/person</th>\n",
              "      <th>Non-work trips/person</th>\n",
              "      <th>New COVID cases</th>\n",
              "      <th>Population</th>\n",
              "      <th>% change in consumption</th>\n",
              "      <th>date</th>\n",
              "      <th>Transit mode share</th>\n",
              "      <th>% people older than 60</th>\n",
              "      <th>Median income</th>\n",
              "      <th>% African Americans</th>\n",
              "      <th>% Hispanic Americans</th>\n",
              "      <th>% Male</th>\n",
              "      <th>Population density</th>\n",
              "      <th>Employment density</th>\n",
              "      <th># hot spots/1000 people</th>\n",
              "      <th>Hospital beds/1000 people</th>\n",
              "      <th>ICUs/1000 people</th>\n",
              "      <th># contact tracing workers/1000 people</th>\n",
              "      <th># contact tracing workers/1000 people rank</th>\n",
              "      <th>% people older than 60 rank</th>\n",
              "      <th>COVID exposure/1000 people</th>\n",
              "      <th>Unemployment claims/1000 people</th>\n",
              "      <th>Unemployment rate</th>\n",
              "      <th>% working from home</th>\n",
              "      <th>Cumulative inflation rate</th>\n",
              "      <th>% hospital bed utilization</th>\n",
              "      <th>Testing capacity</th>\n",
              "      <th>Tests done/1000 people</th>\n",
              "      <th>% ICU utilization</th>\n",
              "      <th>Ventilator shortage</th>\n",
              "      <th>Confirmed</th>\n",
              "      <th>Deaths</th>\n",
              "      <th>New deaths</th>\n",
              "      <th>#days: decreasing ILI cases</th>\n",
              "      <th>COVID death rate</th>\n",
              "      <th>New cases/1000 people</th>\n",
              "      <th>Active cases/1000 people</th>\n",
              "      <th>#days: decreasing COVID cases</th>\n",
              "      <th>Imported COVID cases</th>\n",
              "      <th>rolling_avg_new_cases</th>\n",
              "      <th>label</th>\n",
              "      <th>growth_label</th>\n",
              "      <th>label_code</th>\n",
              "      <th>growth_code</th>\n",
              "    </tr>\n",
              "  </thead>\n",
              "  <tbody>\n",
              "    <tr>\n",
              "      <th>0</th>\n",
              "      <td>2020-01-22</td>\n",
              "      <td>New York</td>\n",
              "      <td>36001</td>\n",
              "      <td>0</td>\n",
              "      <td>0</td>\n",
              "      <td>36001</td>\n",
              "      <td>Albany County</td>\n",
              "      <td>36</td>\n",
              "      <td>20</td>\n",
              "      <td>21</td>\n",
              "      <td>4.32</td>\n",
              "      <td>40.3</td>\n",
              "      <td>2.3</td>\n",
              "      <td>35.4</td>\n",
              "      <td>1.06</td>\n",
              "      <td>3.25</td>\n",
              "      <td>0</td>\n",
              "      <td>307117</td>\n",
              "      <td>0.4</td>\n",
              "      <td>2020-01-22</td>\n",
              "      <td>6.06</td>\n",
              "      <td>22</td>\n",
              "      <td>64535</td>\n",
              "      <td>11.7</td>\n",
              "      <td>5.8</td>\n",
              "      <td>48.44</td>\n",
              "      <td>577</td>\n",
              "      <td>465</td>\n",
              "      <td>151</td>\n",
              "      <td>2.74</td>\n",
              "      <td>0.22</td>\n",
              "      <td>0.029</td>\n",
              "      <td>37.0</td>\n",
              "      <td>27</td>\n",
              "      <td>0.0</td>\n",
              "      <td>0.8</td>\n",
              "      <td>3.7</td>\n",
              "      <td>4.2</td>\n",
              "      <td>0.7</td>\n",
              "      <td>63.5</td>\n",
              "      <td>0.0</td>\n",
              "      <td>0.0</td>\n",
              "      <td>0.0</td>\n",
              "      <td>0</td>\n",
              "      <td>0.0</td>\n",
              "      <td>0.0</td>\n",
              "      <td>0.0</td>\n",
              "      <td>0.0</td>\n",
              "      <td>0.0</td>\n",
              "      <td>0.0</td>\n",
              "      <td>0.0</td>\n",
              "      <td>0.0</td>\n",
              "      <td>0.0</td>\n",
              "      <td>0.0</td>\n",
              "      <td>LessSpread</td>\n",
              "      <td>flat_growth</td>\n",
              "      <td>0</td>\n",
              "      <td>2</td>\n",
              "    </tr>\n",
              "    <tr>\n",
              "      <th>1</th>\n",
              "      <td>2020-01-22</td>\n",
              "      <td>New York</td>\n",
              "      <td>36043</td>\n",
              "      <td>0</td>\n",
              "      <td>0</td>\n",
              "      <td>36043</td>\n",
              "      <td>Herkimer County</td>\n",
              "      <td>36</td>\n",
              "      <td>16</td>\n",
              "      <td>20</td>\n",
              "      <td>4.29</td>\n",
              "      <td>35.2</td>\n",
              "      <td>0.4</td>\n",
              "      <td>47.9</td>\n",
              "      <td>1.04</td>\n",
              "      <td>3.25</td>\n",
              "      <td>0</td>\n",
              "      <td>61833</td>\n",
              "      <td>-0.7</td>\n",
              "      <td>2020-01-22</td>\n",
              "      <td>1.04</td>\n",
              "      <td>27</td>\n",
              "      <td>51862</td>\n",
              "      <td>1.1</td>\n",
              "      <td>2.1</td>\n",
              "      <td>49.46</td>\n",
              "      <td>43</td>\n",
              "      <td>12</td>\n",
              "      <td>106</td>\n",
              "      <td>2.74</td>\n",
              "      <td>0.22</td>\n",
              "      <td>0.029</td>\n",
              "      <td>37.0</td>\n",
              "      <td>67</td>\n",
              "      <td>0.0</td>\n",
              "      <td>0.8</td>\n",
              "      <td>3.7</td>\n",
              "      <td>4.2</td>\n",
              "      <td>0.7</td>\n",
              "      <td>63.5</td>\n",
              "      <td>0.0</td>\n",
              "      <td>0.0</td>\n",
              "      <td>0.0</td>\n",
              "      <td>0</td>\n",
              "      <td>0.0</td>\n",
              "      <td>0.0</td>\n",
              "      <td>0.0</td>\n",
              "      <td>0.0</td>\n",
              "      <td>0.0</td>\n",
              "      <td>0.0</td>\n",
              "      <td>0.0</td>\n",
              "      <td>0.0</td>\n",
              "      <td>0.0</td>\n",
              "      <td>0.0</td>\n",
              "      <td>LessSpread</td>\n",
              "      <td>flat_growth</td>\n",
              "      <td>0</td>\n",
              "      <td>2</td>\n",
              "    </tr>\n",
              "    <tr>\n",
              "      <th>2</th>\n",
              "      <td>2020-01-22</td>\n",
              "      <td>New York</td>\n",
              "      <td>36041</td>\n",
              "      <td>0</td>\n",
              "      <td>0</td>\n",
              "      <td>36041</td>\n",
              "      <td>Hamilton County</td>\n",
              "      <td>36</td>\n",
              "      <td>13</td>\n",
              "      <td>16</td>\n",
              "      <td>4.31</td>\n",
              "      <td>37.6</td>\n",
              "      <td>1.6</td>\n",
              "      <td>67.0</td>\n",
              "      <td>0.28</td>\n",
              "      <td>4.03</td>\n",
              "      <td>0</td>\n",
              "      <td>4434</td>\n",
              "      <td>7.0</td>\n",
              "      <td>2020-01-22</td>\n",
              "      <td>0.37</td>\n",
              "      <td>36</td>\n",
              "      <td>57552</td>\n",
              "      <td>0.8</td>\n",
              "      <td>1.6</td>\n",
              "      <td>51.30</td>\n",
              "      <td>3</td>\n",
              "      <td>1</td>\n",
              "      <td>249</td>\n",
              "      <td>2.74</td>\n",
              "      <td>0.22</td>\n",
              "      <td>0.029</td>\n",
              "      <td>37.0</td>\n",
              "      <td>96</td>\n",
              "      <td>0.0</td>\n",
              "      <td>0.8</td>\n",
              "      <td>3.7</td>\n",
              "      <td>4.2</td>\n",
              "      <td>0.7</td>\n",
              "      <td>63.5</td>\n",
              "      <td>0.0</td>\n",
              "      <td>0.0</td>\n",
              "      <td>0.0</td>\n",
              "      <td>0</td>\n",
              "      <td>0.0</td>\n",
              "      <td>0.0</td>\n",
              "      <td>0.0</td>\n",
              "      <td>0.0</td>\n",
              "      <td>0.0</td>\n",
              "      <td>0.0</td>\n",
              "      <td>0.0</td>\n",
              "      <td>0.0</td>\n",
              "      <td>0.0</td>\n",
              "      <td>0.0</td>\n",
              "      <td>LessSpread</td>\n",
              "      <td>flat_growth</td>\n",
              "      <td>0</td>\n",
              "      <td>2</td>\n",
              "    </tr>\n",
              "    <tr>\n",
              "      <th>3</th>\n",
              "      <td>2020-01-22</td>\n",
              "      <td>New York</td>\n",
              "      <td>36111</td>\n",
              "      <td>0</td>\n",
              "      <td>0</td>\n",
              "      <td>36111</td>\n",
              "      <td>Ulster County</td>\n",
              "      <td>36</td>\n",
              "      <td>17</td>\n",
              "      <td>21</td>\n",
              "      <td>4.29</td>\n",
              "      <td>29.4</td>\n",
              "      <td>1.9</td>\n",
              "      <td>45.6</td>\n",
              "      <td>0.92</td>\n",
              "      <td>3.38</td>\n",
              "      <td>0</td>\n",
              "      <td>178599</td>\n",
              "      <td>5.7</td>\n",
              "      <td>2020-01-22</td>\n",
              "      <td>2.47</td>\n",
              "      <td>26</td>\n",
              "      <td>63348</td>\n",
              "      <td>5.4</td>\n",
              "      <td>10.0</td>\n",
              "      <td>49.51</td>\n",
              "      <td>154</td>\n",
              "      <td>86</td>\n",
              "      <td>144</td>\n",
              "      <td>2.74</td>\n",
              "      <td>0.22</td>\n",
              "      <td>0.029</td>\n",
              "      <td>37.0</td>\n",
              "      <td>59</td>\n",
              "      <td>0.0</td>\n",
              "      <td>0.8</td>\n",
              "      <td>3.7</td>\n",
              "      <td>4.2</td>\n",
              "      <td>0.7</td>\n",
              "      <td>63.5</td>\n",
              "      <td>0.0</td>\n",
              "      <td>0.0</td>\n",
              "      <td>0.0</td>\n",
              "      <td>0</td>\n",
              "      <td>0.0</td>\n",
              "      <td>0.0</td>\n",
              "      <td>0.0</td>\n",
              "      <td>0.0</td>\n",
              "      <td>0.0</td>\n",
              "      <td>0.0</td>\n",
              "      <td>0.0</td>\n",
              "      <td>0.0</td>\n",
              "      <td>0.0</td>\n",
              "      <td>0.0</td>\n",
              "      <td>LessSpread</td>\n",
              "      <td>flat_growth</td>\n",
              "      <td>0</td>\n",
              "      <td>2</td>\n",
              "    </tr>\n",
              "    <tr>\n",
              "      <th>4</th>\n",
              "      <td>2020-01-22</td>\n",
              "      <td>New York</td>\n",
              "      <td>36039</td>\n",
              "      <td>0</td>\n",
              "      <td>0</td>\n",
              "      <td>36039</td>\n",
              "      <td>Greene County</td>\n",
              "      <td>36</td>\n",
              "      <td>15</td>\n",
              "      <td>17</td>\n",
              "      <td>4.22</td>\n",
              "      <td>38.9</td>\n",
              "      <td>2.3</td>\n",
              "      <td>53.0</td>\n",
              "      <td>0.92</td>\n",
              "      <td>3.30</td>\n",
              "      <td>0</td>\n",
              "      <td>47491</td>\n",
              "      <td>-4.0</td>\n",
              "      <td>2020-01-22</td>\n",
              "      <td>1.13</td>\n",
              "      <td>29</td>\n",
              "      <td>53617</td>\n",
              "      <td>5.8</td>\n",
              "      <td>5.8</td>\n",
              "      <td>52.30</td>\n",
              "      <td>72</td>\n",
              "      <td>24</td>\n",
              "      <td>135</td>\n",
              "      <td>2.74</td>\n",
              "      <td>0.22</td>\n",
              "      <td>0.029</td>\n",
              "      <td>37.0</td>\n",
              "      <td>78</td>\n",
              "      <td>0.0</td>\n",
              "      <td>0.8</td>\n",
              "      <td>3.7</td>\n",
              "      <td>4.2</td>\n",
              "      <td>0.7</td>\n",
              "      <td>63.5</td>\n",
              "      <td>0.0</td>\n",
              "      <td>0.0</td>\n",
              "      <td>0.0</td>\n",
              "      <td>0</td>\n",
              "      <td>0.0</td>\n",
              "      <td>0.0</td>\n",
              "      <td>0.0</td>\n",
              "      <td>0.0</td>\n",
              "      <td>0.0</td>\n",
              "      <td>0.0</td>\n",
              "      <td>0.0</td>\n",
              "      <td>0.0</td>\n",
              "      <td>0.0</td>\n",
              "      <td>0.0</td>\n",
              "      <td>LessSpread</td>\n",
              "      <td>flat_growth</td>\n",
              "      <td>0</td>\n",
              "      <td>2</td>\n",
              "    </tr>\n",
              "  </tbody>\n",
              "</table>\n",
              "</div>"
            ],
            "text/plain": [
              "         Date Province_State   FIPS  ...  growth_label  label_code  growth_code\n",
              "0  2020-01-22       New York  36001  ...   flat_growth           0            2\n",
              "1  2020-01-22       New York  36043  ...   flat_growth           0            2\n",
              "2  2020-01-22       New York  36041  ...   flat_growth           0            2\n",
              "3  2020-01-22       New York  36111  ...   flat_growth           0            2\n",
              "4  2020-01-22       New York  36039  ...   flat_growth           0            2\n",
              "\n",
              "[5 rows x 58 columns]"
            ]
          },
          "metadata": {
            "tags": []
          },
          "execution_count": 99
        }
      ]
    },
    {
      "cell_type": "code",
      "metadata": {
        "id": "upZ9bJ_TvEID",
        "colab_type": "code",
        "colab": {
          "base_uri": "https://localhost:8080/",
          "height": 397
        },
        "outputId": "3a936632-8f7b-47e4-d4db-eea36c757418"
      },
      "source": [
        "NY_labeled_data_inertia.columns[:-4]"
      ],
      "execution_count": 100,
      "outputs": [
        {
          "output_type": "execute_result",
          "data": {
            "text/plain": [
              "Index(['Date', 'Province_State', 'FIPS', 'New cases', 'mask_rule_active',\n",
              "       'CTFIPS', 'CTNAME', 'STFIPS', 'Social distancing index',\n",
              "       '% staying home', 'Trips/person', '% out-of-county trips',\n",
              "       '% out-of-state trips', 'Miles/person', 'Work trips/person',\n",
              "       'Non-work trips/person', 'New COVID cases', 'Population',\n",
              "       '% change in consumption', 'date', 'Transit mode share',\n",
              "       '% people older than 60', 'Median income', '% African Americans',\n",
              "       '% Hispanic Americans', '% Male', 'Population density',\n",
              "       'Employment density', '# hot spots/1000 people',\n",
              "       'Hospital beds/1000 people', 'ICUs/1000 people',\n",
              "       '# contact tracing workers/1000 people',\n",
              "       '# contact tracing workers/1000 people rank',\n",
              "       '% people older than 60 rank', 'COVID exposure/1000 people',\n",
              "       'Unemployment claims/1000 people', 'Unemployment rate',\n",
              "       '% working from home', 'Cumulative inflation rate',\n",
              "       '% hospital bed utilization', 'Testing capacity',\n",
              "       'Tests done/1000 people', '% ICU utilization', 'Ventilator shortage',\n",
              "       'Confirmed', 'Deaths', 'New deaths', '#days: decreasing ILI cases',\n",
              "       'COVID death rate', 'New cases/1000 people', 'Active cases/1000 people',\n",
              "       '#days: decreasing COVID cases', 'Imported COVID cases',\n",
              "       'rolling_avg_new_cases'],\n",
              "      dtype='object')"
            ]
          },
          "metadata": {
            "tags": []
          },
          "execution_count": 100
        }
      ]
    },
    {
      "cell_type": "code",
      "metadata": {
        "id": "uXBiElK_6ful",
        "colab_type": "code",
        "colab": {
          "base_uri": "https://localhost:8080/",
          "height": 35
        },
        "outputId": "aac04af6-5fe3-46aa-c3f9-adc388089800"
      },
      "source": [
        "len(inertia_feature_labels)"
      ],
      "execution_count": 120,
      "outputs": [
        {
          "output_type": "execute_result",
          "data": {
            "text/plain": [
              "35"
            ]
          },
          "metadata": {
            "tags": []
          },
          "execution_count": 120
        }
      ]
    },
    {
      "cell_type": "code",
      "metadata": {
        "id": "YgT3ZjW_u_rG",
        "colab_type": "code",
        "colab": {}
      },
      "source": [
        "inertia_feature_labels = [ 'mask_rule_active',\n",
        "         'Social distancing index',\n",
        "       '% staying home', 'Trips/person', '% out-of-county trips',\n",
        "       '% out-of-state trips', 'Miles/person', 'Work trips/person',\n",
        "       'Non-work trips/person',  'Population',\n",
        "       '% change in consumption', 'Transit mode share',\n",
        "       '% people older than 60', 'Median income', '% African Americans',\n",
        "       '% Hispanic Americans', '% Male', 'Population density',\n",
        "       'Employment density', '# hot spots/1000 people',\n",
        "       'Hospital beds/1000 people', 'ICUs/1000 people',\n",
        "       '# contact tracing workers/1000 people',\n",
        "       '# contact tracing workers/1000 people rank',\n",
        "       '% people older than 60 rank', 'COVID exposure/1000 people',\n",
        "       'Unemployment claims/1000 people', 'Unemployment rate',\n",
        "       '% working from home', 'Cumulative inflation rate',\n",
        "       '% hospital bed utilization', 'Testing capacity',\n",
        "       'Tests done/1000 people', '% ICU utilization', 'Ventilator shortage']\n",
        "\n",
        "inertia_target_column = ['label_code']\n"
      ],
      "execution_count": 101,
      "outputs": []
    },
    {
      "cell_type": "markdown",
      "metadata": {
        "id": "pHXJz7P20m28",
        "colab_type": "text"
      },
      "source": [
        ""
      ]
    },
    {
      "cell_type": "markdown",
      "metadata": {
        "colab_type": "text",
        "id": "Bmm7MuGF0nac"
      },
      "source": [
        "# Note about growth label\n",
        "\n",
        "growth_code| label\n",
        "----|----\n",
        " 0 | drastic decrement\n",
        " 1 | drastic growth\n",
        " 2 | flat\n",
        " 3 | mild decrement\n",
        " 4 | mild increment\n",
        "\n",
        "\n",
        "\n"
      ]
    },
    {
      "cell_type": "markdown",
      "metadata": {
        "id": "h4Sy-1lTwC4r",
        "colab_type": "text"
      },
      "source": [
        "## Verifying growth label based Ranking"
      ]
    },
    {
      "cell_type": "code",
      "metadata": {
        "id": "Nwd5hGwIwhMx",
        "colab_type": "code",
        "colab": {
          "base_uri": "https://localhost:8080/",
          "height": 391
        },
        "outputId": "42f2c74d-3e9e-4551-aea7-7499311d972e"
      },
      "source": [
        "NY_labeled_data_inertia.head()"
      ],
      "execution_count": 102,
      "outputs": [
        {
          "output_type": "execute_result",
          "data": {
            "text/html": [
              "<div>\n",
              "<style scoped>\n",
              "    .dataframe tbody tr th:only-of-type {\n",
              "        vertical-align: middle;\n",
              "    }\n",
              "\n",
              "    .dataframe tbody tr th {\n",
              "        vertical-align: top;\n",
              "    }\n",
              "\n",
              "    .dataframe thead th {\n",
              "        text-align: right;\n",
              "    }\n",
              "</style>\n",
              "<table border=\"1\" class=\"dataframe\">\n",
              "  <thead>\n",
              "    <tr style=\"text-align: right;\">\n",
              "      <th></th>\n",
              "      <th>Date</th>\n",
              "      <th>Province_State</th>\n",
              "      <th>FIPS</th>\n",
              "      <th>New cases</th>\n",
              "      <th>mask_rule_active</th>\n",
              "      <th>CTFIPS</th>\n",
              "      <th>CTNAME</th>\n",
              "      <th>STFIPS</th>\n",
              "      <th>Social distancing index</th>\n",
              "      <th>% staying home</th>\n",
              "      <th>Trips/person</th>\n",
              "      <th>% out-of-county trips</th>\n",
              "      <th>% out-of-state trips</th>\n",
              "      <th>Miles/person</th>\n",
              "      <th>Work trips/person</th>\n",
              "      <th>Non-work trips/person</th>\n",
              "      <th>New COVID cases</th>\n",
              "      <th>Population</th>\n",
              "      <th>% change in consumption</th>\n",
              "      <th>date</th>\n",
              "      <th>Transit mode share</th>\n",
              "      <th>% people older than 60</th>\n",
              "      <th>Median income</th>\n",
              "      <th>% African Americans</th>\n",
              "      <th>% Hispanic Americans</th>\n",
              "      <th>% Male</th>\n",
              "      <th>Population density</th>\n",
              "      <th>Employment density</th>\n",
              "      <th># hot spots/1000 people</th>\n",
              "      <th>Hospital beds/1000 people</th>\n",
              "      <th>ICUs/1000 people</th>\n",
              "      <th># contact tracing workers/1000 people</th>\n",
              "      <th># contact tracing workers/1000 people rank</th>\n",
              "      <th>% people older than 60 rank</th>\n",
              "      <th>COVID exposure/1000 people</th>\n",
              "      <th>Unemployment claims/1000 people</th>\n",
              "      <th>Unemployment rate</th>\n",
              "      <th>% working from home</th>\n",
              "      <th>Cumulative inflation rate</th>\n",
              "      <th>% hospital bed utilization</th>\n",
              "      <th>Testing capacity</th>\n",
              "      <th>Tests done/1000 people</th>\n",
              "      <th>% ICU utilization</th>\n",
              "      <th>Ventilator shortage</th>\n",
              "      <th>Confirmed</th>\n",
              "      <th>Deaths</th>\n",
              "      <th>New deaths</th>\n",
              "      <th>#days: decreasing ILI cases</th>\n",
              "      <th>COVID death rate</th>\n",
              "      <th>New cases/1000 people</th>\n",
              "      <th>Active cases/1000 people</th>\n",
              "      <th>#days: decreasing COVID cases</th>\n",
              "      <th>Imported COVID cases</th>\n",
              "      <th>rolling_avg_new_cases</th>\n",
              "      <th>label</th>\n",
              "      <th>growth_label</th>\n",
              "      <th>label_code</th>\n",
              "      <th>growth_code</th>\n",
              "    </tr>\n",
              "  </thead>\n",
              "  <tbody>\n",
              "    <tr>\n",
              "      <th>0</th>\n",
              "      <td>2020-01-22</td>\n",
              "      <td>New York</td>\n",
              "      <td>36001</td>\n",
              "      <td>0</td>\n",
              "      <td>0</td>\n",
              "      <td>36001</td>\n",
              "      <td>Albany County</td>\n",
              "      <td>36</td>\n",
              "      <td>20</td>\n",
              "      <td>21</td>\n",
              "      <td>4.32</td>\n",
              "      <td>40.3</td>\n",
              "      <td>2.3</td>\n",
              "      <td>35.4</td>\n",
              "      <td>1.06</td>\n",
              "      <td>3.25</td>\n",
              "      <td>0</td>\n",
              "      <td>307117</td>\n",
              "      <td>0.4</td>\n",
              "      <td>2020-01-22</td>\n",
              "      <td>6.06</td>\n",
              "      <td>22</td>\n",
              "      <td>64535</td>\n",
              "      <td>11.7</td>\n",
              "      <td>5.8</td>\n",
              "      <td>48.44</td>\n",
              "      <td>577</td>\n",
              "      <td>465</td>\n",
              "      <td>151</td>\n",
              "      <td>2.74</td>\n",
              "      <td>0.22</td>\n",
              "      <td>0.029</td>\n",
              "      <td>37.0</td>\n",
              "      <td>27</td>\n",
              "      <td>0.0</td>\n",
              "      <td>0.8</td>\n",
              "      <td>3.7</td>\n",
              "      <td>4.2</td>\n",
              "      <td>0.7</td>\n",
              "      <td>63.5</td>\n",
              "      <td>0.0</td>\n",
              "      <td>0.0</td>\n",
              "      <td>0.0</td>\n",
              "      <td>0</td>\n",
              "      <td>0.0</td>\n",
              "      <td>0.0</td>\n",
              "      <td>0.0</td>\n",
              "      <td>0.0</td>\n",
              "      <td>0.0</td>\n",
              "      <td>0.0</td>\n",
              "      <td>0.0</td>\n",
              "      <td>0.0</td>\n",
              "      <td>0.0</td>\n",
              "      <td>0.0</td>\n",
              "      <td>LessSpread</td>\n",
              "      <td>flat_growth</td>\n",
              "      <td>0</td>\n",
              "      <td>2</td>\n",
              "    </tr>\n",
              "    <tr>\n",
              "      <th>1</th>\n",
              "      <td>2020-01-22</td>\n",
              "      <td>New York</td>\n",
              "      <td>36043</td>\n",
              "      <td>0</td>\n",
              "      <td>0</td>\n",
              "      <td>36043</td>\n",
              "      <td>Herkimer County</td>\n",
              "      <td>36</td>\n",
              "      <td>16</td>\n",
              "      <td>20</td>\n",
              "      <td>4.29</td>\n",
              "      <td>35.2</td>\n",
              "      <td>0.4</td>\n",
              "      <td>47.9</td>\n",
              "      <td>1.04</td>\n",
              "      <td>3.25</td>\n",
              "      <td>0</td>\n",
              "      <td>61833</td>\n",
              "      <td>-0.7</td>\n",
              "      <td>2020-01-22</td>\n",
              "      <td>1.04</td>\n",
              "      <td>27</td>\n",
              "      <td>51862</td>\n",
              "      <td>1.1</td>\n",
              "      <td>2.1</td>\n",
              "      <td>49.46</td>\n",
              "      <td>43</td>\n",
              "      <td>12</td>\n",
              "      <td>106</td>\n",
              "      <td>2.74</td>\n",
              "      <td>0.22</td>\n",
              "      <td>0.029</td>\n",
              "      <td>37.0</td>\n",
              "      <td>67</td>\n",
              "      <td>0.0</td>\n",
              "      <td>0.8</td>\n",
              "      <td>3.7</td>\n",
              "      <td>4.2</td>\n",
              "      <td>0.7</td>\n",
              "      <td>63.5</td>\n",
              "      <td>0.0</td>\n",
              "      <td>0.0</td>\n",
              "      <td>0.0</td>\n",
              "      <td>0</td>\n",
              "      <td>0.0</td>\n",
              "      <td>0.0</td>\n",
              "      <td>0.0</td>\n",
              "      <td>0.0</td>\n",
              "      <td>0.0</td>\n",
              "      <td>0.0</td>\n",
              "      <td>0.0</td>\n",
              "      <td>0.0</td>\n",
              "      <td>0.0</td>\n",
              "      <td>0.0</td>\n",
              "      <td>LessSpread</td>\n",
              "      <td>flat_growth</td>\n",
              "      <td>0</td>\n",
              "      <td>2</td>\n",
              "    </tr>\n",
              "    <tr>\n",
              "      <th>2</th>\n",
              "      <td>2020-01-22</td>\n",
              "      <td>New York</td>\n",
              "      <td>36041</td>\n",
              "      <td>0</td>\n",
              "      <td>0</td>\n",
              "      <td>36041</td>\n",
              "      <td>Hamilton County</td>\n",
              "      <td>36</td>\n",
              "      <td>13</td>\n",
              "      <td>16</td>\n",
              "      <td>4.31</td>\n",
              "      <td>37.6</td>\n",
              "      <td>1.6</td>\n",
              "      <td>67.0</td>\n",
              "      <td>0.28</td>\n",
              "      <td>4.03</td>\n",
              "      <td>0</td>\n",
              "      <td>4434</td>\n",
              "      <td>7.0</td>\n",
              "      <td>2020-01-22</td>\n",
              "      <td>0.37</td>\n",
              "      <td>36</td>\n",
              "      <td>57552</td>\n",
              "      <td>0.8</td>\n",
              "      <td>1.6</td>\n",
              "      <td>51.30</td>\n",
              "      <td>3</td>\n",
              "      <td>1</td>\n",
              "      <td>249</td>\n",
              "      <td>2.74</td>\n",
              "      <td>0.22</td>\n",
              "      <td>0.029</td>\n",
              "      <td>37.0</td>\n",
              "      <td>96</td>\n",
              "      <td>0.0</td>\n",
              "      <td>0.8</td>\n",
              "      <td>3.7</td>\n",
              "      <td>4.2</td>\n",
              "      <td>0.7</td>\n",
              "      <td>63.5</td>\n",
              "      <td>0.0</td>\n",
              "      <td>0.0</td>\n",
              "      <td>0.0</td>\n",
              "      <td>0</td>\n",
              "      <td>0.0</td>\n",
              "      <td>0.0</td>\n",
              "      <td>0.0</td>\n",
              "      <td>0.0</td>\n",
              "      <td>0.0</td>\n",
              "      <td>0.0</td>\n",
              "      <td>0.0</td>\n",
              "      <td>0.0</td>\n",
              "      <td>0.0</td>\n",
              "      <td>0.0</td>\n",
              "      <td>LessSpread</td>\n",
              "      <td>flat_growth</td>\n",
              "      <td>0</td>\n",
              "      <td>2</td>\n",
              "    </tr>\n",
              "    <tr>\n",
              "      <th>3</th>\n",
              "      <td>2020-01-22</td>\n",
              "      <td>New York</td>\n",
              "      <td>36111</td>\n",
              "      <td>0</td>\n",
              "      <td>0</td>\n",
              "      <td>36111</td>\n",
              "      <td>Ulster County</td>\n",
              "      <td>36</td>\n",
              "      <td>17</td>\n",
              "      <td>21</td>\n",
              "      <td>4.29</td>\n",
              "      <td>29.4</td>\n",
              "      <td>1.9</td>\n",
              "      <td>45.6</td>\n",
              "      <td>0.92</td>\n",
              "      <td>3.38</td>\n",
              "      <td>0</td>\n",
              "      <td>178599</td>\n",
              "      <td>5.7</td>\n",
              "      <td>2020-01-22</td>\n",
              "      <td>2.47</td>\n",
              "      <td>26</td>\n",
              "      <td>63348</td>\n",
              "      <td>5.4</td>\n",
              "      <td>10.0</td>\n",
              "      <td>49.51</td>\n",
              "      <td>154</td>\n",
              "      <td>86</td>\n",
              "      <td>144</td>\n",
              "      <td>2.74</td>\n",
              "      <td>0.22</td>\n",
              "      <td>0.029</td>\n",
              "      <td>37.0</td>\n",
              "      <td>59</td>\n",
              "      <td>0.0</td>\n",
              "      <td>0.8</td>\n",
              "      <td>3.7</td>\n",
              "      <td>4.2</td>\n",
              "      <td>0.7</td>\n",
              "      <td>63.5</td>\n",
              "      <td>0.0</td>\n",
              "      <td>0.0</td>\n",
              "      <td>0.0</td>\n",
              "      <td>0</td>\n",
              "      <td>0.0</td>\n",
              "      <td>0.0</td>\n",
              "      <td>0.0</td>\n",
              "      <td>0.0</td>\n",
              "      <td>0.0</td>\n",
              "      <td>0.0</td>\n",
              "      <td>0.0</td>\n",
              "      <td>0.0</td>\n",
              "      <td>0.0</td>\n",
              "      <td>0.0</td>\n",
              "      <td>LessSpread</td>\n",
              "      <td>flat_growth</td>\n",
              "      <td>0</td>\n",
              "      <td>2</td>\n",
              "    </tr>\n",
              "    <tr>\n",
              "      <th>4</th>\n",
              "      <td>2020-01-22</td>\n",
              "      <td>New York</td>\n",
              "      <td>36039</td>\n",
              "      <td>0</td>\n",
              "      <td>0</td>\n",
              "      <td>36039</td>\n",
              "      <td>Greene County</td>\n",
              "      <td>36</td>\n",
              "      <td>15</td>\n",
              "      <td>17</td>\n",
              "      <td>4.22</td>\n",
              "      <td>38.9</td>\n",
              "      <td>2.3</td>\n",
              "      <td>53.0</td>\n",
              "      <td>0.92</td>\n",
              "      <td>3.30</td>\n",
              "      <td>0</td>\n",
              "      <td>47491</td>\n",
              "      <td>-4.0</td>\n",
              "      <td>2020-01-22</td>\n",
              "      <td>1.13</td>\n",
              "      <td>29</td>\n",
              "      <td>53617</td>\n",
              "      <td>5.8</td>\n",
              "      <td>5.8</td>\n",
              "      <td>52.30</td>\n",
              "      <td>72</td>\n",
              "      <td>24</td>\n",
              "      <td>135</td>\n",
              "      <td>2.74</td>\n",
              "      <td>0.22</td>\n",
              "      <td>0.029</td>\n",
              "      <td>37.0</td>\n",
              "      <td>78</td>\n",
              "      <td>0.0</td>\n",
              "      <td>0.8</td>\n",
              "      <td>3.7</td>\n",
              "      <td>4.2</td>\n",
              "      <td>0.7</td>\n",
              "      <td>63.5</td>\n",
              "      <td>0.0</td>\n",
              "      <td>0.0</td>\n",
              "      <td>0.0</td>\n",
              "      <td>0</td>\n",
              "      <td>0.0</td>\n",
              "      <td>0.0</td>\n",
              "      <td>0.0</td>\n",
              "      <td>0.0</td>\n",
              "      <td>0.0</td>\n",
              "      <td>0.0</td>\n",
              "      <td>0.0</td>\n",
              "      <td>0.0</td>\n",
              "      <td>0.0</td>\n",
              "      <td>0.0</td>\n",
              "      <td>LessSpread</td>\n",
              "      <td>flat_growth</td>\n",
              "      <td>0</td>\n",
              "      <td>2</td>\n",
              "    </tr>\n",
              "  </tbody>\n",
              "</table>\n",
              "</div>"
            ],
            "text/plain": [
              "         Date Province_State   FIPS  ...  growth_label  label_code  growth_code\n",
              "0  2020-01-22       New York  36001  ...   flat_growth           0            2\n",
              "1  2020-01-22       New York  36043  ...   flat_growth           0            2\n",
              "2  2020-01-22       New York  36041  ...   flat_growth           0            2\n",
              "3  2020-01-22       New York  36111  ...   flat_growth           0            2\n",
              "4  2020-01-22       New York  36039  ...   flat_growth           0            2\n",
              "\n",
              "[5 rows x 58 columns]"
            ]
          },
          "metadata": {
            "tags": []
          },
          "execution_count": 102
        }
      ]
    },
    {
      "cell_type": "code",
      "metadata": {
        "id": "Vx72pApEwAFY",
        "colab_type": "code",
        "colab": {
          "base_uri": "https://localhost:8080/",
          "height": 104
        },
        "outputId": "c4ce68ee-c087-43b7-b213-a7dc61943b68"
      },
      "source": [
        "\n",
        "NY_labeled_data_inertia_growth1 = NY_labeled_data_inertia[NY_labeled_data_inertia['growth_code'] == 0]\n",
        "NY_labeled_data_inertia_growth2 = NY_labeled_data_inertia[NY_labeled_data_inertia['growth_code'] == 1]\n",
        "NY_labeled_data_inertia_growth3 = NY_labeled_data_inertia[NY_labeled_data_inertia['growth_code'] == 2]\n",
        "NY_labeled_data_inertia_growth4 = NY_labeled_data_inertia[NY_labeled_data_inertia['growth_code'] == 3]\n",
        "NY_labeled_data_inertia_growth5 = NY_labeled_data_inertia[NY_labeled_data_inertia['growth_code'] == 4]\n",
        "\n",
        "print(NY_labeled_data_inertia_growth1.shape)\n",
        "print(NY_labeled_data_inertia_growth2.shape)\n",
        "print(NY_labeled_data_inertia_growth3.shape)\n",
        "print(NY_labeled_data_inertia_growth4.shape)\n",
        "print(NY_labeled_data_inertia_growth5.shape)"
      ],
      "execution_count": 106,
      "outputs": [
        {
          "output_type": "stream",
          "text": [
            "(126, 58)\n",
            "(154, 58)\n",
            "(3522, 58)\n",
            "(4046, 58)\n",
            "(4406, 58)\n"
          ],
          "name": "stdout"
        }
      ]
    },
    {
      "cell_type": "markdown",
      "metadata": {
        "id": "I5PQbs7e2Hvv",
        "colab_type": "text"
      },
      "source": [
        "### Growth label : 0 -> Drastic decrement"
      ]
    },
    {
      "cell_type": "code",
      "metadata": {
        "id": "F3zVV9QE01DU",
        "colab_type": "code",
        "colab": {
          "base_uri": "https://localhost:8080/",
          "height": 1000
        },
        "outputId": "2843d725-6f32-4fcb-b97a-782c490db6c9"
      },
      "source": [
        "\n",
        "print(\"** Printing NY all county data for drastic decrement  ** \")\n",
        "\n",
        "X = NY_labeled_data_inertia_growth1[inertia_feature_labels]\n",
        "y = NY_labeled_data_inertia_growth1[inertia_target_column]\n",
        "print(X.shape)\n",
        "\n",
        "X_train, X_test, y_train, y_test = train_test_split(X, y, test_size=0.2, random_state=0)\n",
        "\n",
        "\n",
        "# Create a random forest classifier\n",
        "clf = RandomForestClassifier(n_estimators=10000, random_state=0, n_jobs=-1)\n",
        "\n",
        "# Train the classifier\n",
        "clf.fit(X_train, y_train)\n",
        "\n",
        "# Print the name and gini importance of each feature\n",
        "for feature in zip(feature_labels, clf.feature_importances_):\n",
        "    print(feature)\n",
        "\n",
        "\n",
        "\n",
        "#  Supported criteria are “gini” for the Gini impurity and “entropy” for the information gain. \n",
        "\n",
        "clf = RandomForestClassifier(n_estimators=10000, random_state=0,criterion='entropy', n_jobs=-1)\n",
        "\n",
        "# Train the classifier\n",
        "clf.fit(X_train, y_train)\n",
        "\n",
        "# Print the name and gini importance of each feature\n",
        "for feature in zip(feature_labels, clf.feature_importances_):\n",
        "    print(feature)\n",
        "\n",
        "\n",
        "model = ExtraTreesClassifier()\n",
        "model.fit(X, y.values.ravel())\n",
        "# display the relative importance of each attribute\n",
        "print(model.feature_importances_)\n",
        "\n",
        "\n",
        "# create the RFE model and select 3 attributes\n",
        "rfe = RFE(model, 3)\n",
        "rfe = rfe.fit(X, y.values.ravel())\n",
        "# summarize the selection of the attributes\n",
        "print(rfe.support_)\n",
        "for index in range(len(rfe.ranking_)):\n",
        "  print(inertia_feature_labels[index], rfe.ranking_[index])\n",
        "\n",
        "print(rfe.ranking_)\n",
        "print(rfe.n_features_)\n",
        "rfe.n_features_to_select\n"
      ],
      "execution_count": 109,
      "outputs": [
        {
          "output_type": "stream",
          "text": [
            "** Printing NY all county data for drastic decrement  ** \n",
            "(126, 35)\n"
          ],
          "name": "stdout"
        },
        {
          "output_type": "stream",
          "text": [
            "/usr/local/lib/python3.6/dist-packages/ipykernel_launcher.py:15: DataConversionWarning: A column-vector y was passed when a 1d array was expected. Please change the shape of y to (n_samples,), for example using ravel().\n",
            "  from ipykernel import kernelapp as app\n"
          ],
          "name": "stderr"
        },
        {
          "output_type": "stream",
          "text": [
            "('retail and recreation', 0.0)\n",
            "('grocery and pharmacy', 0.0)\n",
            "('parks', 0.0)\n",
            "('transit stations', 0.0)\n",
            "('workplaces', 0.0)\n",
            "('residential', 0.0)\n",
            "('driving', 0.0)\n",
            "('m50', 0.0)\n",
            "('m50_index', 0.0)\n",
            "('population_density', 0.0)\n",
            "('mask_rule_active', 0.0)\n"
          ],
          "name": "stdout"
        },
        {
          "output_type": "stream",
          "text": [
            "/usr/local/lib/python3.6/dist-packages/ipykernel_launcher.py:28: DataConversionWarning: A column-vector y was passed when a 1d array was expected. Please change the shape of y to (n_samples,), for example using ravel().\n"
          ],
          "name": "stderr"
        },
        {
          "output_type": "stream",
          "text": [
            "('retail and recreation', 0.0)\n",
            "('grocery and pharmacy', 0.0)\n",
            "('parks', 0.0)\n",
            "('transit stations', 0.0)\n",
            "('workplaces', 0.0)\n",
            "('residential', 0.0)\n",
            "('driving', 0.0)\n",
            "('m50', 0.0)\n",
            "('m50_index', 0.0)\n",
            "('population_density', 0.0)\n",
            "('mask_rule_active', 0.0)\n",
            "[0. 0. 0. 0. 0. 0. 0. 0. 0. 0. 0. 0. 0. 0. 0. 0. 0. 0. 0. 0. 0. 0. 0. 0.\n",
            " 0. 0. 0. 0. 0. 0. 0. 0. 0. 0. 0.]\n",
            "[False False False False False False False False False False False False\n",
            " False False False False False False False False False False False False\n",
            " False False False False False False False False  True  True  True]\n",
            "mask_rule_active 33\n",
            "Social distancing index 32\n",
            "% staying home 31\n",
            "Trips/person 30\n",
            "% out-of-county trips 29\n",
            "% out-of-state trips 28\n",
            "Miles/person 27\n",
            "Work trips/person 26\n",
            "Non-work trips/person 25\n",
            "Population 24\n",
            "% change in consumption 23\n",
            "Transit mode share 22\n",
            "% people older than 60 21\n",
            "Median income 20\n",
            "% African Americans 19\n",
            "% Hispanic Americans 18\n",
            "% Male 17\n",
            "Population density 16\n",
            "Employment density 15\n",
            "# hot spots/1000 people 14\n",
            "Hospital beds/1000 people 13\n",
            "ICUs/1000 people 12\n",
            "# contact tracing workers/1000 people 11\n",
            "# contact tracing workers/1000 people rank 10\n",
            "% people older than 60 rank 9\n",
            "COVID exposure/1000 people 8\n",
            "Unemployment claims/1000 people 7\n",
            "Unemployment rate 6\n",
            "% working from home 5\n",
            "Cumulative inflation rate 4\n",
            "% hospital bed utilization 3\n",
            "Testing capacity 2\n",
            "Tests done/1000 people 1\n",
            "% ICU utilization 1\n",
            "Ventilator shortage 1\n",
            "[33 32 31 30 29 28 27 26 25 24 23 22 21 20 19 18 17 16 15 14 13 12 11 10\n",
            "  9  8  7  6  5  4  3  2  1  1  1]\n",
            "3\n"
          ],
          "name": "stdout"
        },
        {
          "output_type": "execute_result",
          "data": {
            "text/plain": [
              "3"
            ]
          },
          "metadata": {
            "tags": []
          },
          "execution_count": 109
        }
      ]
    },
    {
      "cell_type": "markdown",
      "metadata": {
        "id": "EsUcuRPw2MI9",
        "colab_type": "text"
      },
      "source": [
        "### Growth label : 1 -> drastic growth"
      ]
    },
    {
      "cell_type": "code",
      "metadata": {
        "id": "_GtxJRKr1opY",
        "colab_type": "code",
        "colab": {
          "base_uri": "https://localhost:8080/",
          "height": 1000
        },
        "outputId": "aef100a4-c17b-46de-ccf0-17c31fb2102b"
      },
      "source": [
        "\n",
        "print(\"** Printing NY all county data for drastic growth  ** \")\n",
        "\n",
        "X = NY_labeled_data_inertia_growth2[inertia_feature_labels]\n",
        "y = NY_labeled_data_inertia_growth2[inertia_target_column]\n",
        "print(X.shape)\n",
        "\n",
        "X_train, X_test, y_train, y_test = train_test_split(X, y, test_size=0.2, random_state=0)\n",
        "\n",
        "\n",
        "# Create a random forest classifier\n",
        "clf = RandomForestClassifier(n_estimators=10000, random_state=0, n_jobs=-1)\n",
        "\n",
        "# Train the classifier\n",
        "clf.fit(X_train, y_train)\n",
        "\n",
        "# Print the name and gini importance of each feature\n",
        "for feature in zip(feature_labels, clf.feature_importances_):\n",
        "    print(feature)\n",
        "\n",
        "\n",
        "\n",
        "#  Supported criteria are “gini” for the Gini impurity and “entropy” for the information gain. \n",
        "\n",
        "clf = RandomForestClassifier(n_estimators=10000, random_state=0,criterion='entropy', n_jobs=-1)\n",
        "\n",
        "# Train the classifier\n",
        "clf.fit(X_train, y_train)\n",
        "\n",
        "# Print the name and gini importance of each feature\n",
        "for feature in zip(feature_labels, clf.feature_importances_):\n",
        "    print(feature)\n",
        "\n",
        "\n",
        "model = ExtraTreesClassifier()\n",
        "model.fit(X, y.values.ravel())\n",
        "# display the relative importance of each attribute\n",
        "print(model.feature_importances_)\n",
        "\n",
        "\n",
        "# create the RFE model and select 3 attributes\n",
        "rfe = RFE(model, 3)\n",
        "rfe = rfe.fit(X, y.values.ravel())\n",
        "# summarize the selection of the attributes\n",
        "print(rfe.support_)\n",
        "for index in range(len(rfe.ranking_)):\n",
        "  print(inertia_feature_labels[index], rfe.ranking_[index])\n",
        "\n",
        "print(rfe.ranking_)\n",
        "print(rfe.n_features_)\n",
        "rfe.n_features_to_select\n"
      ],
      "execution_count": 110,
      "outputs": [
        {
          "output_type": "stream",
          "text": [
            "** Printing NY all county data for drastic growth  ** \n",
            "(154, 35)\n"
          ],
          "name": "stdout"
        },
        {
          "output_type": "stream",
          "text": [
            "/usr/local/lib/python3.6/dist-packages/ipykernel_launcher.py:15: DataConversionWarning: A column-vector y was passed when a 1d array was expected. Please change the shape of y to (n_samples,), for example using ravel().\n",
            "  from ipykernel import kernelapp as app\n"
          ],
          "name": "stderr"
        },
        {
          "output_type": "stream",
          "text": [
            "('retail and recreation', 0.0)\n",
            "('grocery and pharmacy', 0.006850877632782389)\n",
            "('parks', 0.011359435754444197)\n",
            "('transit stations', 0.011667072987147805)\n",
            "('workplaces', 0.0716496350292471)\n",
            "('residential', 0.07096215314008088)\n",
            "('driving', 0.007901286850150395)\n",
            "('m50', 0.0065097641047799)\n",
            "('m50_index', 0.012316303082656003)\n",
            "('population_density', 0.05551460767834096)\n",
            "('mask_rule_active', 0.011432467621020017)\n"
          ],
          "name": "stdout"
        },
        {
          "output_type": "stream",
          "text": [
            "/usr/local/lib/python3.6/dist-packages/ipykernel_launcher.py:28: DataConversionWarning: A column-vector y was passed when a 1d array was expected. Please change the shape of y to (n_samples,), for example using ravel().\n"
          ],
          "name": "stderr"
        },
        {
          "output_type": "stream",
          "text": [
            "('retail and recreation', 0.0)\n",
            "('grocery and pharmacy', 0.004723215065145109)\n",
            "('parks', 0.008515618166412667)\n",
            "('transit stations', 0.009263944894002557)\n",
            "('workplaces', 0.08197885882647334)\n",
            "('residential', 0.07082562517147808)\n",
            "('driving', 0.005602928934054962)\n",
            "('m50', 0.004888028676133398)\n",
            "('m50_index', 0.009209818918083026)\n",
            "('population_density', 0.0491327264341384)\n",
            "('mask_rule_active', 0.006760760921724468)\n",
            "[0.         0.00163485 0.00418617 0.00432106 0.0761925  0.07820636\n",
            " 0.00162443 0.00250269 0.00437056 0.05497153 0.00099971 0.064052\n",
            " 0.0831124  0.0684924  0.05457612 0.05466195 0.0746158  0.04858077\n",
            " 0.04838626 0.12463119 0.         0.         0.         0.\n",
            " 0.05911005 0.00596136 0.00242173 0.01413958 0.00786323 0.01149251\n",
            " 0.00972943 0.00146979 0.00371247 0.01281455 0.02116656]\n",
            "[False False False False False False False False False False False  True\n",
            " False False False False  True False False  True False False False False\n",
            " False False False False False False False False False False False]\n",
            "mask_rule_active 33\n",
            "Social distancing index 28\n",
            "% staying home 21\n",
            "Trips/person 25\n",
            "% out-of-county trips 5\n",
            "% out-of-state trips 3\n",
            "Miles/person 24\n",
            "Work trips/person 26\n",
            "Non-work trips/person 20\n",
            "Population 7\n",
            "% change in consumption 22\n",
            "Transit mode share 1\n",
            "% people older than 60 6\n",
            "Median income 10\n",
            "% African Americans 11\n",
            "% Hispanic Americans 8\n",
            "% Male 1\n",
            "Population density 9\n",
            "Employment density 4\n",
            "# hot spots/1000 people 1\n",
            "Hospital beds/1000 people 32\n",
            "ICUs/1000 people 29\n",
            "# contact tracing workers/1000 people 30\n",
            "# contact tracing workers/1000 people rank 31\n",
            "% people older than 60 rank 2\n",
            "COVID exposure/1000 people 16\n",
            "Unemployment claims/1000 people 23\n",
            "Unemployment rate 18\n",
            "% working from home 27\n",
            "Cumulative inflation rate 12\n",
            "% hospital bed utilization 15\n",
            "Testing capacity 19\n",
            "Tests done/1000 people 17\n",
            "% ICU utilization 14\n",
            "Ventilator shortage 13\n",
            "[33 28 21 25  5  3 24 26 20  7 22  1  6 10 11  8  1  9  4  1 32 29 30 31\n",
            "  2 16 23 18 27 12 15 19 17 14 13]\n",
            "3\n"
          ],
          "name": "stdout"
        },
        {
          "output_type": "execute_result",
          "data": {
            "text/plain": [
              "3"
            ]
          },
          "metadata": {
            "tags": []
          },
          "execution_count": 110
        }
      ]
    },
    {
      "cell_type": "markdown",
      "metadata": {
        "id": "XTHBXj1O2Q_7",
        "colab_type": "text"
      },
      "source": [
        "### Growth label : 2 -> Flat"
      ]
    },
    {
      "cell_type": "code",
      "metadata": {
        "id": "3ve0EpcXun-V",
        "colab_type": "code",
        "colab": {
          "base_uri": "https://localhost:8080/",
          "height": 1000
        },
        "outputId": "aa852ed5-911d-4cb5-fd17-976c235d1761"
      },
      "source": [
        "\n",
        "print(\"** Printing NY all county data for Flat  ** \")\n",
        "\n",
        "X = NY_labeled_data_inertia_growth3[inertia_feature_labels]\n",
        "y = NY_labeled_data_inertia_growth3[inertia_target_column]\n",
        "print(X.shape)\n",
        "\n",
        "X_train, X_test, y_train, y_test = train_test_split(X, y, test_size=0.2, random_state=0)\n",
        "\n",
        "\n",
        "# Create a random forest classifier\n",
        "clf = RandomForestClassifier(n_estimators=10000, random_state=0, n_jobs=-1)\n",
        "\n",
        "# Train the classifier\n",
        "clf.fit(X_train, y_train)\n",
        "\n",
        "# Print the name and gini importance of each feature\n",
        "for feature in zip(feature_labels, clf.feature_importances_):\n",
        "    print(feature)\n",
        "\n",
        "\n",
        "\n",
        "#  Supported criteria are “gini” for the Gini impurity and “entropy” for the information gain. \n",
        "\n",
        "clf = RandomForestClassifier(n_estimators=10000, random_state=0,criterion='entropy', n_jobs=-1)\n",
        "\n",
        "# Train the classifier\n",
        "clf.fit(X_train, y_train)\n",
        "\n",
        "# Print the name and gini importance of each feature\n",
        "for feature in zip(feature_labels, clf.feature_importances_):\n",
        "    print(feature)\n",
        "\n",
        "\n",
        "model = ExtraTreesClassifier()\n",
        "model.fit(X, y.values.ravel())\n",
        "# display the relative importance of each attribute\n",
        "print(model.feature_importances_)\n",
        "\n",
        "\n",
        "# create the RFE model and select 3 attributes\n",
        "rfe = RFE(model, 3)\n",
        "rfe = rfe.fit(X, y.values.ravel())\n",
        "# summarize the selection of the attributes\n",
        "print(rfe.support_)\n",
        "for index in range(len(rfe.ranking_)):\n",
        "  print(inertia_feature_labels[index], rfe.ranking_[index])\n",
        "\n",
        "print(rfe.ranking_)\n",
        "print(rfe.n_features_)\n",
        "rfe.n_features_to_select\n"
      ],
      "execution_count": 111,
      "outputs": [
        {
          "output_type": "stream",
          "text": [
            "** Printing NY all county data for Flat  ** \n",
            "(3522, 35)\n"
          ],
          "name": "stdout"
        },
        {
          "output_type": "stream",
          "text": [
            "/usr/local/lib/python3.6/dist-packages/ipykernel_launcher.py:15: DataConversionWarning: A column-vector y was passed when a 1d array was expected. Please change the shape of y to (n_samples,), for example using ravel().\n",
            "  from ipykernel import kernelapp as app\n"
          ],
          "name": "stderr"
        },
        {
          "output_type": "stream",
          "text": [
            "('retail and recreation', 0.0)\n",
            "('grocery and pharmacy', 0.0)\n",
            "('parks', 0.0)\n",
            "('transit stations', 0.0)\n",
            "('workplaces', 0.0)\n",
            "('residential', 0.0)\n",
            "('driving', 0.0)\n",
            "('m50', 0.0)\n",
            "('m50_index', 0.0)\n",
            "('population_density', 0.0)\n",
            "('mask_rule_active', 0.0)\n"
          ],
          "name": "stdout"
        },
        {
          "output_type": "stream",
          "text": [
            "/usr/local/lib/python3.6/dist-packages/ipykernel_launcher.py:28: DataConversionWarning: A column-vector y was passed when a 1d array was expected. Please change the shape of y to (n_samples,), for example using ravel().\n"
          ],
          "name": "stderr"
        },
        {
          "output_type": "stream",
          "text": [
            "('retail and recreation', 0.0)\n",
            "('grocery and pharmacy', 0.0)\n",
            "('parks', 0.0)\n",
            "('transit stations', 0.0)\n",
            "('workplaces', 0.0)\n",
            "('residential', 0.0)\n",
            "('driving', 0.0)\n",
            "('m50', 0.0)\n",
            "('m50_index', 0.0)\n",
            "('population_density', 0.0)\n",
            "('mask_rule_active', 0.0)\n",
            "[0. 0. 0. 0. 0. 0. 0. 0. 0. 0. 0. 0. 0. 0. 0. 0. 0. 0. 0. 0. 0. 0. 0. 0.\n",
            " 0. 0. 0. 0. 0. 0. 0. 0. 0. 0. 0.]\n",
            "[False False False False False False False False False False False False\n",
            " False False False False False False False False False False False False\n",
            " False False False False False False False False  True  True  True]\n",
            "mask_rule_active 33\n",
            "Social distancing index 32\n",
            "% staying home 31\n",
            "Trips/person 30\n",
            "% out-of-county trips 29\n",
            "% out-of-state trips 28\n",
            "Miles/person 27\n",
            "Work trips/person 26\n",
            "Non-work trips/person 25\n",
            "Population 24\n",
            "% change in consumption 23\n",
            "Transit mode share 22\n",
            "% people older than 60 21\n",
            "Median income 20\n",
            "% African Americans 19\n",
            "% Hispanic Americans 18\n",
            "% Male 17\n",
            "Population density 16\n",
            "Employment density 15\n",
            "# hot spots/1000 people 14\n",
            "Hospital beds/1000 people 13\n",
            "ICUs/1000 people 12\n",
            "# contact tracing workers/1000 people 11\n",
            "# contact tracing workers/1000 people rank 10\n",
            "% people older than 60 rank 9\n",
            "COVID exposure/1000 people 8\n",
            "Unemployment claims/1000 people 7\n",
            "Unemployment rate 6\n",
            "% working from home 5\n",
            "Cumulative inflation rate 4\n",
            "% hospital bed utilization 3\n",
            "Testing capacity 2\n",
            "Tests done/1000 people 1\n",
            "% ICU utilization 1\n",
            "Ventilator shortage 1\n",
            "[33 32 31 30 29 28 27 26 25 24 23 22 21 20 19 18 17 16 15 14 13 12 11 10\n",
            "  9  8  7  6  5  4  3  2  1  1  1]\n",
            "3\n"
          ],
          "name": "stdout"
        },
        {
          "output_type": "execute_result",
          "data": {
            "text/plain": [
              "3"
            ]
          },
          "metadata": {
            "tags": []
          },
          "execution_count": 111
        }
      ]
    },
    {
      "cell_type": "markdown",
      "metadata": {
        "id": "FTQ2z5882WcJ",
        "colab_type": "text"
      },
      "source": [
        "### Growth label : 3 -> mild decrement"
      ]
    },
    {
      "cell_type": "code",
      "metadata": {
        "id": "G3n4un4e0hnr",
        "colab_type": "code",
        "colab": {
          "base_uri": "https://localhost:8080/",
          "height": 1000
        },
        "outputId": "f5fd8ce4-6dc7-47f8-977a-50f0efaeb4d5"
      },
      "source": [
        "\n",
        "print(\"** Printing NY all county data for mild decrement ** \")\n",
        "\n",
        "X = NY_labeled_data_inertia_growth4[inertia_feature_labels]\n",
        "y = NY_labeled_data_inertia_growth4[inertia_target_column]\n",
        "print(X.shape)\n",
        "\n",
        "X_train, X_test, y_train, y_test = train_test_split(X, y, test_size=0.2, random_state=0)\n",
        "\n",
        "\n",
        "# Create a random forest classifier\n",
        "clf = RandomForestClassifier(n_estimators=10000, random_state=0, n_jobs=-1)\n",
        "\n",
        "# Train the classifier\n",
        "clf.fit(X_train, y_train)\n",
        "\n",
        "# Print the name and gini importance of each feature\n",
        "for feature in zip(feature_labels, clf.feature_importances_):\n",
        "    print(feature)\n",
        "\n",
        "\n",
        "\n",
        "#  Supported criteria are “gini” for the Gini impurity and “entropy” for the information gain. \n",
        "\n",
        "clf = RandomForestClassifier(n_estimators=10000, random_state=0,criterion='entropy', n_jobs=-1)\n",
        "\n",
        "# Train the classifier\n",
        "clf.fit(X_train, y_train)\n",
        "\n",
        "# Print the name and gini importance of each feature\n",
        "for feature in zip(feature_labels, clf.feature_importances_):\n",
        "    print(feature)\n",
        "\n",
        "\n",
        "model = ExtraTreesClassifier()\n",
        "model.fit(X, y.values.ravel())\n",
        "# display the relative importance of each attribute\n",
        "print(model.feature_importances_)\n",
        "\n",
        "\n",
        "# create the RFE model and select 3 attributes\n",
        "rfe = RFE(model, 3)\n",
        "rfe = rfe.fit(X, y.values.ravel())\n",
        "# summarize the selection of the attributes\n",
        "print(rfe.support_)\n",
        "for index in range(len(rfe.ranking_)):\n",
        "  print(inertia_feature_labels[index], rfe.ranking_[index])\n",
        "\n",
        "print(rfe.ranking_)\n",
        "print(rfe.n_features_)\n",
        "rfe.n_features_to_select\n"
      ],
      "execution_count": 113,
      "outputs": [
        {
          "output_type": "stream",
          "text": [
            "** Printing NY all county data for mild decrement ** \n",
            "(4046, 35)\n"
          ],
          "name": "stdout"
        },
        {
          "output_type": "stream",
          "text": [
            "/usr/local/lib/python3.6/dist-packages/ipykernel_launcher.py:15: DataConversionWarning: A column-vector y was passed when a 1d array was expected. Please change the shape of y to (n_samples,), for example using ravel().\n",
            "  from ipykernel import kernelapp as app\n"
          ],
          "name": "stderr"
        },
        {
          "output_type": "stream",
          "text": [
            "('retail and recreation', 0.0)\n",
            "('grocery and pharmacy', 0.0)\n",
            "('parks', 0.0)\n",
            "('transit stations', 0.0)\n",
            "('workplaces', 0.0)\n",
            "('residential', 0.0)\n",
            "('driving', 0.0)\n",
            "('m50', 0.0)\n",
            "('m50_index', 0.0)\n",
            "('population_density', 0.0)\n",
            "('mask_rule_active', 0.0)\n"
          ],
          "name": "stdout"
        },
        {
          "output_type": "stream",
          "text": [
            "/usr/local/lib/python3.6/dist-packages/ipykernel_launcher.py:28: DataConversionWarning: A column-vector y was passed when a 1d array was expected. Please change the shape of y to (n_samples,), for example using ravel().\n"
          ],
          "name": "stderr"
        },
        {
          "output_type": "stream",
          "text": [
            "('retail and recreation', 0.0)\n",
            "('grocery and pharmacy', 0.0)\n",
            "('parks', 0.0)\n",
            "('transit stations', 0.0)\n",
            "('workplaces', 0.0)\n",
            "('residential', 0.0)\n",
            "('driving', 0.0)\n",
            "('m50', 0.0)\n",
            "('m50_index', 0.0)\n",
            "('population_density', 0.0)\n",
            "('mask_rule_active', 0.0)\n",
            "[0. 0. 0. 0. 0. 0. 0. 0. 0. 0. 0. 0. 0. 0. 0. 0. 0. 0. 0. 0. 0. 0. 0. 0.\n",
            " 0. 0. 0. 0. 0. 0. 0. 0. 0. 0. 0.]\n",
            "[False False False False False False False False False False False False\n",
            " False False False False False False False False False False False False\n",
            " False False False False False False False False  True  True  True]\n",
            "mask_rule_active 33\n",
            "Social distancing index 32\n",
            "% staying home 31\n",
            "Trips/person 30\n",
            "% out-of-county trips 29\n",
            "% out-of-state trips 28\n",
            "Miles/person 27\n",
            "Work trips/person 26\n",
            "Non-work trips/person 25\n",
            "Population 24\n",
            "% change in consumption 23\n",
            "Transit mode share 22\n",
            "% people older than 60 21\n",
            "Median income 20\n",
            "% African Americans 19\n",
            "% Hispanic Americans 18\n",
            "% Male 17\n",
            "Population density 16\n",
            "Employment density 15\n",
            "# hot spots/1000 people 14\n",
            "Hospital beds/1000 people 13\n",
            "ICUs/1000 people 12\n",
            "# contact tracing workers/1000 people 11\n",
            "# contact tracing workers/1000 people rank 10\n",
            "% people older than 60 rank 9\n",
            "COVID exposure/1000 people 8\n",
            "Unemployment claims/1000 people 7\n",
            "Unemployment rate 6\n",
            "% working from home 5\n",
            "Cumulative inflation rate 4\n",
            "% hospital bed utilization 3\n",
            "Testing capacity 2\n",
            "Tests done/1000 people 1\n",
            "% ICU utilization 1\n",
            "Ventilator shortage 1\n",
            "[33 32 31 30 29 28 27 26 25 24 23 22 21 20 19 18 17 16 15 14 13 12 11 10\n",
            "  9  8  7  6  5  4  3  2  1  1  1]\n",
            "3\n"
          ],
          "name": "stdout"
        },
        {
          "output_type": "execute_result",
          "data": {
            "text/plain": [
              "3"
            ]
          },
          "metadata": {
            "tags": []
          },
          "execution_count": 113
        }
      ]
    },
    {
      "cell_type": "markdown",
      "metadata": {
        "id": "OzjsO9lq2aI4",
        "colab_type": "text"
      },
      "source": [
        "### Growth label : 4 -> mild increment"
      ]
    },
    {
      "cell_type": "code",
      "metadata": {
        "id": "6Ummv4uj1yup",
        "colab_type": "code",
        "colab": {
          "base_uri": "https://localhost:8080/",
          "height": 1000
        },
        "outputId": "f49a9e0c-e639-4773-ab1c-a51aec545a60"
      },
      "source": [
        "\n",
        "print(\"** Printing NY all county data for mild increment ** \")\n",
        "\n",
        "X = NY_labeled_data_inertia_growth5[inertia_feature_labels]\n",
        "y = NY_labeled_data_inertia_growth5[inertia_target_column]\n",
        "print(X.shape)\n",
        "\n",
        "X_train, X_test, y_train, y_test = train_test_split(X, y, test_size=0.2, random_state=0)\n",
        "\n",
        "\n",
        "# Create a random forest classifier\n",
        "clf = RandomForestClassifier(n_estimators=10000, random_state=0, n_jobs=-1)\n",
        "\n",
        "# Train the classifier\n",
        "clf.fit(X_train, y_train)\n",
        "\n",
        "# Print the name and gini importance of each feature\n",
        "for feature in zip(feature_labels, clf.feature_importances_):\n",
        "    print(feature)\n",
        "\n",
        "\n",
        "\n",
        "#  Supported criteria are “gini” for the Gini impurity and “entropy” for the information gain. \n",
        "\n",
        "clf = RandomForestClassifier(n_estimators=10000, random_state=0,criterion='entropy', n_jobs=-1)\n",
        "\n",
        "# Train the classifier\n",
        "clf.fit(X_train, y_train)\n",
        "\n",
        "# Print the name and gini importance of each feature\n",
        "for feature in zip(feature_labels, clf.feature_importances_):\n",
        "    print(feature)\n",
        "\n",
        "\n",
        "model = ExtraTreesClassifier()\n",
        "model.fit(X, y.values.ravel())\n",
        "# display the relative importance of each attribute\n",
        "print(model.feature_importances_)\n",
        "\n",
        "\n",
        "# create the RFE model and select 3 attributes\n",
        "rfe = RFE(model, 3)\n",
        "rfe = rfe.fit(X, y.values.ravel())\n",
        "# summarize the selection of the attributes\n",
        "print(rfe.support_)\n",
        "for index in range(len(rfe.ranking_)):\n",
        "  print(inertia_feature_labels[index], rfe.ranking_[index])\n",
        "\n",
        "print(rfe.ranking_)\n",
        "print(rfe.n_features_)\n",
        "rfe.n_features_to_select\n"
      ],
      "execution_count": 112,
      "outputs": [
        {
          "output_type": "stream",
          "text": [
            "** Printing NY all county data for mild increment ** \n",
            "(4406, 35)\n"
          ],
          "name": "stdout"
        },
        {
          "output_type": "stream",
          "text": [
            "/usr/local/lib/python3.6/dist-packages/ipykernel_launcher.py:15: DataConversionWarning: A column-vector y was passed when a 1d array was expected. Please change the shape of y to (n_samples,), for example using ravel().\n",
            "  from ipykernel import kernelapp as app\n"
          ],
          "name": "stderr"
        },
        {
          "output_type": "stream",
          "text": [
            "('retail and recreation', 0.0)\n",
            "('grocery and pharmacy', 0.0)\n",
            "('parks', 0.0)\n",
            "('transit stations', 0.0)\n",
            "('workplaces', 0.0)\n",
            "('residential', 0.0)\n",
            "('driving', 0.0)\n",
            "('m50', 0.0)\n",
            "('m50_index', 0.0)\n",
            "('population_density', 0.0)\n",
            "('mask_rule_active', 0.0)\n"
          ],
          "name": "stdout"
        },
        {
          "output_type": "stream",
          "text": [
            "/usr/local/lib/python3.6/dist-packages/ipykernel_launcher.py:28: DataConversionWarning: A column-vector y was passed when a 1d array was expected. Please change the shape of y to (n_samples,), for example using ravel().\n"
          ],
          "name": "stderr"
        },
        {
          "output_type": "stream",
          "text": [
            "('retail and recreation', 0.0)\n",
            "('grocery and pharmacy', 0.0)\n",
            "('parks', 0.0)\n",
            "('transit stations', 0.0)\n",
            "('workplaces', 0.0)\n",
            "('residential', 0.0)\n",
            "('driving', 0.0)\n",
            "('m50', 0.0)\n",
            "('m50_index', 0.0)\n",
            "('population_density', 0.0)\n",
            "('mask_rule_active', 0.0)\n",
            "[0. 0. 0. 0. 0. 0. 0. 0. 0. 0. 0. 0. 0. 0. 0. 0. 0. 0. 0. 0. 0. 0. 0. 0.\n",
            " 0. 0. 0. 0. 0. 0. 0. 0. 0. 0. 0.]\n",
            "[False False False False False False False False False False False False\n",
            " False False False False False False False False False False False False\n",
            " False False False False False False False False  True  True  True]\n",
            "mask_rule_active 33\n",
            "Social distancing index 32\n",
            "% staying home 31\n",
            "Trips/person 30\n",
            "% out-of-county trips 29\n",
            "% out-of-state trips 28\n",
            "Miles/person 27\n",
            "Work trips/person 26\n",
            "Non-work trips/person 25\n",
            "Population 24\n",
            "% change in consumption 23\n",
            "Transit mode share 22\n",
            "% people older than 60 21\n",
            "Median income 20\n",
            "% African Americans 19\n",
            "% Hispanic Americans 18\n",
            "% Male 17\n",
            "Population density 16\n",
            "Employment density 15\n",
            "# hot spots/1000 people 14\n",
            "Hospital beds/1000 people 13\n",
            "ICUs/1000 people 12\n",
            "# contact tracing workers/1000 people 11\n",
            "# contact tracing workers/1000 people rank 10\n",
            "% people older than 60 rank 9\n",
            "COVID exposure/1000 people 8\n",
            "Unemployment claims/1000 people 7\n",
            "Unemployment rate 6\n",
            "% working from home 5\n",
            "Cumulative inflation rate 4\n",
            "% hospital bed utilization 3\n",
            "Testing capacity 2\n",
            "Tests done/1000 people 1\n",
            "% ICU utilization 1\n",
            "Ventilator shortage 1\n",
            "[33 32 31 30 29 28 27 26 25 24 23 22 21 20 19 18 17 16 15 14 13 12 11 10\n",
            "  9  8  7  6  5  4  3  2  1  1  1]\n",
            "3\n"
          ],
          "name": "stdout"
        },
        {
          "output_type": "execute_result",
          "data": {
            "text/plain": [
              "3"
            ]
          },
          "metadata": {
            "tags": []
          },
          "execution_count": 112
        }
      ]
    }
  ]
}