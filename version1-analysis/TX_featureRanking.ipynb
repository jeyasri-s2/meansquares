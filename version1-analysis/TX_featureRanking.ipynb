{
  "nbformat": 4,
  "nbformat_minor": 0,
  "metadata": {
    "colab": {
      "name": "TX_featureRanking.ipynb",
      "provenance": [],
      "toc_visible": true,
      "authorship_tag": "ABX9TyM4fFvpNkaUDjfOsuDY4pU1",
      "include_colab_link": true
    },
    "kernelspec": {
      "name": "python3",
      "display_name": "Python 3"
    }
  },
  "cells": [
    {
      "cell_type": "markdown",
      "metadata": {
        "id": "view-in-github",
        "colab_type": "text"
      },
      "source": [
        "<a href=\"https://colab.research.google.com/github/aarsanjani/meansquares/blob/master/TX_featureRanking.ipynb\" target=\"_parent\"><img src=\"https://colab.research.google.com/assets/colab-badge.svg\" alt=\"Open In Colab\"/></a>"
      ]
    },
    {
      "cell_type": "markdown",
      "metadata": {
        "id": "l346AV8oZPe-",
        "colab_type": "text"
      },
      "source": [
        "# Goal:\n",
        "Using Random Forest to estimate the gini index and feature importance for all features from NY dataset\n",
        "\n",
        "Using Scikit-learn to compute PCA"
      ]
    },
    {
      "cell_type": "markdown",
      "metadata": {
        "id": "thBIWXyoZh3U",
        "colab_type": "text"
      },
      "source": [
        "## Mount Google drive"
      ]
    },
    {
      "cell_type": "code",
      "metadata": {
        "id": "3N0GpmS9ZJFo",
        "colab_type": "code",
        "colab": {
          "base_uri": "https://localhost:8080/",
          "height": 34
        },
        "outputId": "597a8c7a-56ba-4c43-aae8-28fe30e1fae5"
      },
      "source": [
        "from google.colab import drive\n",
        "drive.mount('/content/drive')"
      ],
      "execution_count": 1,
      "outputs": [
        {
          "output_type": "stream",
          "text": [
            "Mounted at /content/drive\n"
          ],
          "name": "stdout"
        }
      ]
    },
    {
      "cell_type": "code",
      "metadata": {
        "id": "ogU_R9SvZjuR",
        "colab_type": "code",
        "colab": {
          "base_uri": "https://localhost:8080/",
          "height": 71
        },
        "outputId": "e0ddfb4b-c414-42d2-e93c-f214aeea1f59"
      },
      "source": [
        "import pandas as pd\n",
        "import seaborn as sns\n",
        "\n",
        "from sklearn import preprocessing\n",
        "from sklearn.model_selection import train_test_split\n",
        "from sklearn.ensemble import ExtraTreesClassifier\n",
        "from sklearn.feature_selection import RFE\n",
        "from sklearn.preprocessing import LabelEncoder\n",
        "from sklearn.preprocessing import StandardScaler as ss\n",
        "import itertools\n",
        "from scipy import linalg\n",
        "from sklearn.ensemble import RandomForestClassifier\n",
        "from sklearn.tree import export_graphviz\n",
        "import numpy as np\n",
        "import matplotlib.pyplot as plt"
      ],
      "execution_count": 2,
      "outputs": [
        {
          "output_type": "stream",
          "text": [
            "/usr/local/lib/python3.6/dist-packages/statsmodels/tools/_testing.py:19: FutureWarning: pandas.util.testing is deprecated. Use the functions in the public API at pandas.testing instead.\n",
            "  import pandas.util.testing as tm\n"
          ],
          "name": "stderr"
        }
      ]
    },
    {
      "cell_type": "markdown",
      "metadata": {
        "id": "mjW80L8CZzrv",
        "colab_type": "text"
      },
      "source": [
        "## Load data"
      ]
    },
    {
      "cell_type": "code",
      "metadata": {
        "id": "HzV2n_7iZwr9",
        "colab_type": "code",
        "colab": {
          "base_uri": "https://localhost:8080/",
          "height": 34
        },
        "outputId": "6793047a-ee30-48ce-ff11-937068b35860"
      },
      "source": [
        "NY_labeled_data = pd.read_csv('/content/drive/Shared drives/CMPE 295- Master Project/Covid19-data/TX_labeledData_Sep16.csv',low_memory=False)\n",
        "print(NY_labeled_data.shape)"
      ],
      "execution_count": 3,
      "outputs": [
        {
          "output_type": "stream",
          "text": [
            "(73558, 19)\n"
          ],
          "name": "stdout"
        }
      ]
    },
    {
      "cell_type": "code",
      "metadata": {
        "id": "rphAMDm_aBqd",
        "colab_type": "code",
        "colab": {
          "base_uri": "https://localhost:8080/",
          "height": 357
        },
        "outputId": "e39ebe56-bfff-47be-d5c3-db663fb65370"
      },
      "source": [
        "NY_labeled_data.dtypes"
      ],
      "execution_count": 4,
      "outputs": [
        {
          "output_type": "execute_result",
          "data": {
            "text/plain": [
              "Date                      object\n",
              "fips_x                     int64\n",
              "County Name               object\n",
              "retail and recreation    float64\n",
              "grocery and pharmacy     float64\n",
              "parks                    float64\n",
              "transit stations         float64\n",
              "workplaces               float64\n",
              "residential              float64\n",
              "driving                  float64\n",
              "m50                      float64\n",
              "m50_index                  int64\n",
              "population_density       float64\n",
              "mask_rule_active           int64\n",
              "mask_wearing_percent     float64\n",
              "New cases                  int64\n",
              "rolling_avg_new_cases    float64\n",
              "label                     object\n",
              "growth_label              object\n",
              "dtype: object"
            ]
          },
          "metadata": {
            "tags": []
          },
          "execution_count": 4
        }
      ]
    },
    {
      "cell_type": "markdown",
      "metadata": {
        "id": "nItxaLWfcCGl",
        "colab_type": "text"
      },
      "source": [
        "## Preprocessing data \n",
        "\n",
        "* drop na\n",
        "* convert categorical code"
      ]
    },
    {
      "cell_type": "code",
      "metadata": {
        "id": "atHU0JIiaDsb",
        "colab_type": "code",
        "colab": {
          "base_uri": "https://localhost:8080/",
          "height": 199
        },
        "outputId": "6d4ed577-4f53-44e7-f925-a271da7f67da"
      },
      "source": [
        "NY_labeled_data['label_code'] = NY_labeled_data['label'].astype('category').cat.codes\n",
        "\n",
        "NY_labeled_data.head(2)"
      ],
      "execution_count": 5,
      "outputs": [
        {
          "output_type": "execute_result",
          "data": {
            "text/html": [
              "<div>\n",
              "<style scoped>\n",
              "    .dataframe tbody tr th:only-of-type {\n",
              "        vertical-align: middle;\n",
              "    }\n",
              "\n",
              "    .dataframe tbody tr th {\n",
              "        vertical-align: top;\n",
              "    }\n",
              "\n",
              "    .dataframe thead th {\n",
              "        text-align: right;\n",
              "    }\n",
              "</style>\n",
              "<table border=\"1\" class=\"dataframe\">\n",
              "  <thead>\n",
              "    <tr style=\"text-align: right;\">\n",
              "      <th></th>\n",
              "      <th>Date</th>\n",
              "      <th>fips_x</th>\n",
              "      <th>County Name</th>\n",
              "      <th>retail and recreation</th>\n",
              "      <th>grocery and pharmacy</th>\n",
              "      <th>parks</th>\n",
              "      <th>transit stations</th>\n",
              "      <th>workplaces</th>\n",
              "      <th>residential</th>\n",
              "      <th>driving</th>\n",
              "      <th>m50</th>\n",
              "      <th>m50_index</th>\n",
              "      <th>population_density</th>\n",
              "      <th>mask_rule_active</th>\n",
              "      <th>mask_wearing_percent</th>\n",
              "      <th>New cases</th>\n",
              "      <th>rolling_avg_new_cases</th>\n",
              "      <th>label</th>\n",
              "      <th>growth_label</th>\n",
              "      <th>label_code</th>\n",
              "    </tr>\n",
              "  </thead>\n",
              "  <tbody>\n",
              "    <tr>\n",
              "      <th>0</th>\n",
              "      <td>2020-03-01</td>\n",
              "      <td>48001</td>\n",
              "      <td>Anderson County</td>\n",
              "      <td>16.0</td>\n",
              "      <td>15.0</td>\n",
              "      <td>0.0</td>\n",
              "      <td>0.0</td>\n",
              "      <td>3.0</td>\n",
              "      <td>0.0</td>\n",
              "      <td>27.49</td>\n",
              "      <td>8.910</td>\n",
              "      <td>79</td>\n",
              "      <td>54.333710</td>\n",
              "      <td>0</td>\n",
              "      <td>0.0</td>\n",
              "      <td>0</td>\n",
              "      <td>0.0</td>\n",
              "      <td>LessSpread</td>\n",
              "      <td>flat_growth</td>\n",
              "      <td>0</td>\n",
              "    </tr>\n",
              "    <tr>\n",
              "      <th>1</th>\n",
              "      <td>2020-03-01</td>\n",
              "      <td>48215</td>\n",
              "      <td>Hidalgo County</td>\n",
              "      <td>20.0</td>\n",
              "      <td>7.0</td>\n",
              "      <td>14.0</td>\n",
              "      <td>12.0</td>\n",
              "      <td>0.0</td>\n",
              "      <td>-3.0</td>\n",
              "      <td>-2.07</td>\n",
              "      <td>6.021</td>\n",
              "      <td>81</td>\n",
              "      <td>553.010115</td>\n",
              "      <td>0</td>\n",
              "      <td>0.0</td>\n",
              "      <td>0</td>\n",
              "      <td>0.0</td>\n",
              "      <td>LessSpread</td>\n",
              "      <td>flat_growth</td>\n",
              "      <td>0</td>\n",
              "    </tr>\n",
              "  </tbody>\n",
              "</table>\n",
              "</div>"
            ],
            "text/plain": [
              "         Date  fips_x      County Name  ...       label  growth_label  label_code\n",
              "0  2020-03-01   48001  Anderson County  ...  LessSpread   flat_growth           0\n",
              "1  2020-03-01   48215   Hidalgo County  ...  LessSpread   flat_growth           0\n",
              "\n",
              "[2 rows x 20 columns]"
            ]
          },
          "metadata": {
            "tags": []
          },
          "execution_count": 5
        }
      ]
    },
    {
      "cell_type": "code",
      "metadata": {
        "id": "xalDlwRNa4T-",
        "colab_type": "code",
        "colab": {}
      },
      "source": [
        "NY_labeled_data = NY_labeled_data.dropna()"
      ],
      "execution_count": 6,
      "outputs": []
    },
    {
      "cell_type": "code",
      "metadata": {
        "id": "oQdh_JQSaXlL",
        "colab_type": "code",
        "colab": {
          "base_uri": "https://localhost:8080/",
          "height": 103
        },
        "outputId": "af74918c-dfd0-4351-c44a-f7c71a528ed4"
      },
      "source": [
        "NY_labeled_data[pd.isna(NY_labeled_data['label'])]"
      ],
      "execution_count": 7,
      "outputs": [
        {
          "output_type": "execute_result",
          "data": {
            "text/html": [
              "<div>\n",
              "<style scoped>\n",
              "    .dataframe tbody tr th:only-of-type {\n",
              "        vertical-align: middle;\n",
              "    }\n",
              "\n",
              "    .dataframe tbody tr th {\n",
              "        vertical-align: top;\n",
              "    }\n",
              "\n",
              "    .dataframe thead th {\n",
              "        text-align: right;\n",
              "    }\n",
              "</style>\n",
              "<table border=\"1\" class=\"dataframe\">\n",
              "  <thead>\n",
              "    <tr style=\"text-align: right;\">\n",
              "      <th></th>\n",
              "      <th>Date</th>\n",
              "      <th>fips_x</th>\n",
              "      <th>County Name</th>\n",
              "      <th>retail and recreation</th>\n",
              "      <th>grocery and pharmacy</th>\n",
              "      <th>parks</th>\n",
              "      <th>transit stations</th>\n",
              "      <th>workplaces</th>\n",
              "      <th>residential</th>\n",
              "      <th>driving</th>\n",
              "      <th>m50</th>\n",
              "      <th>m50_index</th>\n",
              "      <th>population_density</th>\n",
              "      <th>mask_rule_active</th>\n",
              "      <th>mask_wearing_percent</th>\n",
              "      <th>New cases</th>\n",
              "      <th>rolling_avg_new_cases</th>\n",
              "      <th>label</th>\n",
              "      <th>growth_label</th>\n",
              "      <th>label_code</th>\n",
              "    </tr>\n",
              "  </thead>\n",
              "  <tbody>\n",
              "  </tbody>\n",
              "</table>\n",
              "</div>"
            ],
            "text/plain": [
              "Empty DataFrame\n",
              "Columns: [Date, fips_x, County Name, retail and recreation, grocery and pharmacy, parks, transit stations, workplaces, residential, driving, m50, m50_index, population_density, mask_rule_active, mask_wearing_percent, New cases, rolling_avg_new_cases, label, growth_label, label_code]\n",
              "Index: []"
            ]
          },
          "metadata": {
            "tags": []
          },
          "execution_count": 7
        }
      ]
    },
    {
      "cell_type": "code",
      "metadata": {
        "id": "QqIRFkp-aPIE",
        "colab_type": "code",
        "colab": {
          "base_uri": "https://localhost:8080/",
          "height": 34
        },
        "outputId": "3b5651d2-0e2e-4d96-c94f-fa5439a76f57"
      },
      "source": [
        "NY_labeled_data['label_code'].unique()"
      ],
      "execution_count": 8,
      "outputs": [
        {
          "output_type": "execute_result",
          "data": {
            "text/plain": [
              "array([0, 1, 2], dtype=int8)"
            ]
          },
          "metadata": {
            "tags": []
          },
          "execution_count": 8
        }
      ]
    },
    {
      "cell_type": "code",
      "metadata": {
        "id": "u_0KNgMwbAtU",
        "colab_type": "code",
        "colab": {
          "base_uri": "https://localhost:8080/",
          "height": 343
        },
        "outputId": "16f5cd48-8be8-4f34-84d0-5dbd4a7a5373"
      },
      "source": [
        "NY_labeled_data['growth_code'] = NY_labeled_data['growth_label'].astype('category').cat.codes\n",
        "NY_labeled_data.head()"
      ],
      "execution_count": 9,
      "outputs": [
        {
          "output_type": "execute_result",
          "data": {
            "text/html": [
              "<div>\n",
              "<style scoped>\n",
              "    .dataframe tbody tr th:only-of-type {\n",
              "        vertical-align: middle;\n",
              "    }\n",
              "\n",
              "    .dataframe tbody tr th {\n",
              "        vertical-align: top;\n",
              "    }\n",
              "\n",
              "    .dataframe thead th {\n",
              "        text-align: right;\n",
              "    }\n",
              "</style>\n",
              "<table border=\"1\" class=\"dataframe\">\n",
              "  <thead>\n",
              "    <tr style=\"text-align: right;\">\n",
              "      <th></th>\n",
              "      <th>Date</th>\n",
              "      <th>fips_x</th>\n",
              "      <th>County Name</th>\n",
              "      <th>retail and recreation</th>\n",
              "      <th>grocery and pharmacy</th>\n",
              "      <th>parks</th>\n",
              "      <th>transit stations</th>\n",
              "      <th>workplaces</th>\n",
              "      <th>residential</th>\n",
              "      <th>driving</th>\n",
              "      <th>m50</th>\n",
              "      <th>m50_index</th>\n",
              "      <th>population_density</th>\n",
              "      <th>mask_rule_active</th>\n",
              "      <th>mask_wearing_percent</th>\n",
              "      <th>New cases</th>\n",
              "      <th>rolling_avg_new_cases</th>\n",
              "      <th>label</th>\n",
              "      <th>growth_label</th>\n",
              "      <th>label_code</th>\n",
              "      <th>growth_code</th>\n",
              "    </tr>\n",
              "  </thead>\n",
              "  <tbody>\n",
              "    <tr>\n",
              "      <th>0</th>\n",
              "      <td>2020-03-01</td>\n",
              "      <td>48001</td>\n",
              "      <td>Anderson County</td>\n",
              "      <td>16.0</td>\n",
              "      <td>15.0</td>\n",
              "      <td>0.0</td>\n",
              "      <td>0.0</td>\n",
              "      <td>3.0</td>\n",
              "      <td>0.0</td>\n",
              "      <td>27.49</td>\n",
              "      <td>8.910</td>\n",
              "      <td>79</td>\n",
              "      <td>54.333710</td>\n",
              "      <td>0</td>\n",
              "      <td>0.0</td>\n",
              "      <td>0</td>\n",
              "      <td>0.0</td>\n",
              "      <td>LessSpread</td>\n",
              "      <td>flat_growth</td>\n",
              "      <td>0</td>\n",
              "      <td>2</td>\n",
              "    </tr>\n",
              "    <tr>\n",
              "      <th>1</th>\n",
              "      <td>2020-03-01</td>\n",
              "      <td>48215</td>\n",
              "      <td>Hidalgo County</td>\n",
              "      <td>20.0</td>\n",
              "      <td>7.0</td>\n",
              "      <td>14.0</td>\n",
              "      <td>12.0</td>\n",
              "      <td>0.0</td>\n",
              "      <td>-3.0</td>\n",
              "      <td>-2.07</td>\n",
              "      <td>6.021</td>\n",
              "      <td>81</td>\n",
              "      <td>553.010115</td>\n",
              "      <td>0</td>\n",
              "      <td>0.0</td>\n",
              "      <td>0</td>\n",
              "      <td>0.0</td>\n",
              "      <td>LessSpread</td>\n",
              "      <td>flat_growth</td>\n",
              "      <td>0</td>\n",
              "      <td>2</td>\n",
              "    </tr>\n",
              "    <tr>\n",
              "      <th>2</th>\n",
              "      <td>2020-03-01</td>\n",
              "      <td>48373</td>\n",
              "      <td>Polk County</td>\n",
              "      <td>25.0</td>\n",
              "      <td>19.0</td>\n",
              "      <td>0.0</td>\n",
              "      <td>0.0</td>\n",
              "      <td>3.0</td>\n",
              "      <td>0.0</td>\n",
              "      <td>23.02</td>\n",
              "      <td>10.595</td>\n",
              "      <td>84</td>\n",
              "      <td>48.579591</td>\n",
              "      <td>0</td>\n",
              "      <td>0.0</td>\n",
              "      <td>0</td>\n",
              "      <td>0.0</td>\n",
              "      <td>LessSpread</td>\n",
              "      <td>flat_growth</td>\n",
              "      <td>0</td>\n",
              "      <td>2</td>\n",
              "    </tr>\n",
              "    <tr>\n",
              "      <th>3</th>\n",
              "      <td>2020-03-01</td>\n",
              "      <td>48217</td>\n",
              "      <td>Hill County</td>\n",
              "      <td>22.0</td>\n",
              "      <td>11.0</td>\n",
              "      <td>0.0</td>\n",
              "      <td>13.0</td>\n",
              "      <td>3.0</td>\n",
              "      <td>0.0</td>\n",
              "      <td>72.23</td>\n",
              "      <td>14.110</td>\n",
              "      <td>62</td>\n",
              "      <td>38.221430</td>\n",
              "      <td>0</td>\n",
              "      <td>0.0</td>\n",
              "      <td>0</td>\n",
              "      <td>0.0</td>\n",
              "      <td>LessSpread</td>\n",
              "      <td>flat_growth</td>\n",
              "      <td>0</td>\n",
              "      <td>2</td>\n",
              "    </tr>\n",
              "    <tr>\n",
              "      <th>4</th>\n",
              "      <td>2020-03-01</td>\n",
              "      <td>48219</td>\n",
              "      <td>Hockley County</td>\n",
              "      <td>15.0</td>\n",
              "      <td>14.0</td>\n",
              "      <td>0.0</td>\n",
              "      <td>0.0</td>\n",
              "      <td>3.0</td>\n",
              "      <td>0.0</td>\n",
              "      <td>-33.99</td>\n",
              "      <td>3.309</td>\n",
              "      <td>45</td>\n",
              "      <td>25.342639</td>\n",
              "      <td>0</td>\n",
              "      <td>0.0</td>\n",
              "      <td>0</td>\n",
              "      <td>0.0</td>\n",
              "      <td>LessSpread</td>\n",
              "      <td>flat_growth</td>\n",
              "      <td>0</td>\n",
              "      <td>2</td>\n",
              "    </tr>\n",
              "  </tbody>\n",
              "</table>\n",
              "</div>"
            ],
            "text/plain": [
              "         Date  fips_x      County Name  ...  growth_label  label_code  growth_code\n",
              "0  2020-03-01   48001  Anderson County  ...   flat_growth           0            2\n",
              "1  2020-03-01   48215   Hidalgo County  ...   flat_growth           0            2\n",
              "2  2020-03-01   48373      Polk County  ...   flat_growth           0            2\n",
              "3  2020-03-01   48217      Hill County  ...   flat_growth           0            2\n",
              "4  2020-03-01   48219   Hockley County  ...   flat_growth           0            2\n",
              "\n",
              "[5 rows x 21 columns]"
            ]
          },
          "metadata": {
            "tags": []
          },
          "execution_count": 9
        }
      ]
    },
    {
      "cell_type": "code",
      "metadata": {
        "id": "Rnfoncl0bGfe",
        "colab_type": "code",
        "colab": {
          "base_uri": "https://localhost:8080/",
          "height": 34
        },
        "outputId": "bc10d2b1-03f7-49b8-dc01-ba5adbfb5a4e"
      },
      "source": [
        "NY_labeled_data['growth_code'].unique()"
      ],
      "execution_count": 10,
      "outputs": [
        {
          "output_type": "execute_result",
          "data": {
            "text/plain": [
              "array([2, 4, 0, 3, 1], dtype=int8)"
            ]
          },
          "metadata": {
            "tags": []
          },
          "execution_count": 10
        }
      ]
    },
    {
      "cell_type": "code",
      "metadata": {
        "id": "1HVWG1aBcJQo",
        "colab_type": "code",
        "colab": {
          "base_uri": "https://localhost:8080/",
          "height": 391
        },
        "outputId": "c82a3d2f-def6-407f-d067-5c2ba9273911"
      },
      "source": [
        "NY_labeled_data.dtypes"
      ],
      "execution_count": 11,
      "outputs": [
        {
          "output_type": "execute_result",
          "data": {
            "text/plain": [
              "Date                      object\n",
              "fips_x                     int64\n",
              "County Name               object\n",
              "retail and recreation    float64\n",
              "grocery and pharmacy     float64\n",
              "parks                    float64\n",
              "transit stations         float64\n",
              "workplaces               float64\n",
              "residential              float64\n",
              "driving                  float64\n",
              "m50                      float64\n",
              "m50_index                  int64\n",
              "population_density       float64\n",
              "mask_rule_active           int64\n",
              "mask_wearing_percent     float64\n",
              "New cases                  int64\n",
              "rolling_avg_new_cases    float64\n",
              "label                     object\n",
              "growth_label              object\n",
              "label_code                  int8\n",
              "growth_code                 int8\n",
              "dtype: object"
            ]
          },
          "metadata": {
            "tags": []
          },
          "execution_count": 11
        }
      ]
    },
    {
      "cell_type": "code",
      "metadata": {
        "id": "Q015pwCsbJRZ",
        "colab_type": "code",
        "colab": {}
      },
      "source": [
        "feature_labels = ['retail and recreation','grocery and pharmacy','parks','transit stations','workplaces','residential','driving','m50','m50_index',\n",
        "               'population_density','mask_rule_active']\n",
        "\n",
        "target_column = ['label_code']\n",
        "\n",
        "X = NY_labeled_data[feature_labels]\n",
        "y = NY_labeled_data[target_column]\n",
        "\n",
        "X_train, X_test, y_train, y_test = train_test_split(X, y, test_size=0.4, random_state=0)\n"
      ],
      "execution_count": 12,
      "outputs": []
    },
    {
      "cell_type": "code",
      "metadata": {
        "id": "yX_kHC3K5I8j",
        "colab_type": "code",
        "colab": {
          "base_uri": "https://localhost:8080/",
          "height": 34
        },
        "outputId": "cffb2222-e9b6-4a48-9530-356f24c4ac92"
      },
      "source": [
        "len(feature_labels)"
      ],
      "execution_count": 13,
      "outputs": [
        {
          "output_type": "execute_result",
          "data": {
            "text/plain": [
              "11"
            ]
          },
          "metadata": {
            "tags": []
          },
          "execution_count": 13
        }
      ]
    },
    {
      "cell_type": "markdown",
      "metadata": {
        "id": "D3zWG9KkfUfd",
        "colab_type": "text"
      },
      "source": [
        "# PCA Computation"
      ]
    },
    {
      "cell_type": "code",
      "metadata": {
        "id": "E4VmR9P-5JqM",
        "colab_type": "code",
        "colab": {
          "base_uri": "https://localhost:8080/",
          "height": 34
        },
        "outputId": "cb87ba79-0638-499b-ca81-ff36e2f05a41"
      },
      "source": [
        "print(len(feature_labels))"
      ],
      "execution_count": 14,
      "outputs": [
        {
          "output_type": "stream",
          "text": [
            "11\n"
          ],
          "name": "stdout"
        }
      ]
    },
    {
      "cell_type": "code",
      "metadata": {
        "id": "zjEtAIc621LQ",
        "colab_type": "code",
        "colab": {
          "base_uri": "https://localhost:8080/",
          "height": 357
        },
        "outputId": "c11ac408-3d51-40dd-9e30-dacc71111851"
      },
      "source": [
        "# split into training and testing datasets\n",
        "\n",
        "\n",
        "X = NY_labeled_data[feature_labels].values\n",
        "y = NY_labeled_data[target_column].values\n",
        "\n",
        "X_train, X_test, y_train, y_test = train_test_split(X, y, test_size=0.3,stratify=y, random_state=0)\n",
        "print(X_train)\n",
        "print(y_train)"
      ],
      "execution_count": 15,
      "outputs": [
        {
          "output_type": "stream",
          "text": [
            "[[  0.           0.           0.         ...  34.          48.95419929\n",
            "    0.        ]\n",
            " [  0.           0.           0.         ...  49.           8.30974207\n",
            "    0.        ]\n",
            " [-12.          15.          -2.         ...  74.          67.16435625\n",
            "    0.        ]\n",
            " ...\n",
            " [  0.           0.           0.         ...  49.          31.7680183\n",
            "    1.        ]\n",
            " [ 10.          16.           0.         ...  68.          20.78353322\n",
            "    0.        ]\n",
            " [  3.           0.           0.         ...  77.          71.62363839\n",
            "    1.        ]]\n",
            "[[0]\n",
            " [0]\n",
            " [0]\n",
            " ...\n",
            " [0]\n",
            " [0]\n",
            " [0]]\n"
          ],
          "name": "stdout"
        }
      ]
    },
    {
      "cell_type": "code",
      "metadata": {
        "id": "9A68OlBw4WoF",
        "colab_type": "code",
        "colab": {}
      },
      "source": [
        "# standardize the features\n",
        "sc = ss()\n",
        "X_train_std = sc.fit_transform(X_train)\n",
        "X_test_std = sc.transform(X_test)"
      ],
      "execution_count": 16,
      "outputs": []
    },
    {
      "cell_type": "code",
      "metadata": {
        "id": "ev-2B1Qf6XTa",
        "colab_type": "code",
        "colab": {}
      },
      "source": [
        "from sklearn.decomposition import PCA\n",
        "pca = PCA(n_components=2)\n",
        "principalComponents = pca.fit_transform(X)\n",
        "principalDf = pd.DataFrame(data = principalComponents\n",
        "             , columns = ['principal component 1', 'principal component 2'])"
      ],
      "execution_count": 17,
      "outputs": []
    },
    {
      "cell_type": "code",
      "metadata": {
        "id": "pYJms-Kj8RR6",
        "colab_type": "code",
        "colab": {
          "base_uri": "https://localhost:8080/",
          "height": 419
        },
        "outputId": "4e6217a9-cd7a-4782-bf9b-8a137cad1edd"
      },
      "source": [
        "principalDf"
      ],
      "execution_count": 18,
      "outputs": [
        {
          "output_type": "execute_result",
          "data": {
            "text/html": [
              "<div>\n",
              "<style scoped>\n",
              "    .dataframe tbody tr th:only-of-type {\n",
              "        vertical-align: middle;\n",
              "    }\n",
              "\n",
              "    .dataframe tbody tr th {\n",
              "        vertical-align: top;\n",
              "    }\n",
              "\n",
              "    .dataframe thead th {\n",
              "        text-align: right;\n",
              "    }\n",
              "</style>\n",
              "<table border=\"1\" class=\"dataframe\">\n",
              "  <thead>\n",
              "    <tr style=\"text-align: right;\">\n",
              "      <th></th>\n",
              "      <th>principal component 1</th>\n",
              "      <th>principal component 2</th>\n",
              "    </tr>\n",
              "  </thead>\n",
              "  <tbody>\n",
              "    <tr>\n",
              "      <th>0</th>\n",
              "      <td>-103.302699</td>\n",
              "      <td>11.230071</td>\n",
              "    </tr>\n",
              "    <tr>\n",
              "      <th>1</th>\n",
              "      <td>395.438264</td>\n",
              "      <td>5.909955</td>\n",
              "    </tr>\n",
              "    <tr>\n",
              "      <th>2</th>\n",
              "      <td>-109.167419</td>\n",
              "      <td>13.387976</td>\n",
              "    </tr>\n",
              "    <tr>\n",
              "      <th>3</th>\n",
              "      <td>-120.051308</td>\n",
              "      <td>29.424469</td>\n",
              "    </tr>\n",
              "    <tr>\n",
              "      <th>4</th>\n",
              "      <td>-130.976923</td>\n",
              "      <td>-54.768824</td>\n",
              "    </tr>\n",
              "    <tr>\n",
              "      <th>...</th>\n",
              "      <td>...</td>\n",
              "      <td>...</td>\n",
              "    </tr>\n",
              "    <tr>\n",
              "      <th>73491</th>\n",
              "      <td>852.770435</td>\n",
              "      <td>-2.607198</td>\n",
              "    </tr>\n",
              "    <tr>\n",
              "      <th>73492</th>\n",
              "      <td>-144.835197</td>\n",
              "      <td>-3.006327</td>\n",
              "    </tr>\n",
              "    <tr>\n",
              "      <th>73493</th>\n",
              "      <td>-140.063762</td>\n",
              "      <td>27.162659</td>\n",
              "    </tr>\n",
              "    <tr>\n",
              "      <th>73494</th>\n",
              "      <td>40.351784</td>\n",
              "      <td>-4.567918</td>\n",
              "    </tr>\n",
              "    <tr>\n",
              "      <th>73495</th>\n",
              "      <td>-138.914018</td>\n",
              "      <td>71.636281</td>\n",
              "    </tr>\n",
              "  </tbody>\n",
              "</table>\n",
              "<p>73496 rows × 2 columns</p>\n",
              "</div>"
            ],
            "text/plain": [
              "       principal component 1  principal component 2\n",
              "0                -103.302699              11.230071\n",
              "1                 395.438264               5.909955\n",
              "2                -109.167419              13.387976\n",
              "3                -120.051308              29.424469\n",
              "4                -130.976923             -54.768824\n",
              "...                      ...                    ...\n",
              "73491             852.770435              -2.607198\n",
              "73492            -144.835197              -3.006327\n",
              "73493            -140.063762              27.162659\n",
              "73494              40.351784              -4.567918\n",
              "73495            -138.914018              71.636281\n",
              "\n",
              "[73496 rows x 2 columns]"
            ]
          },
          "metadata": {
            "tags": []
          },
          "execution_count": 18
        }
      ]
    },
    {
      "cell_type": "code",
      "metadata": {
        "id": "rDNqe9dF6eZA",
        "colab_type": "code",
        "colab": {
          "base_uri": "https://localhost:8080/",
          "height": 419
        },
        "outputId": "28c23286-a2c8-4cae-d356-b794703f5ab3"
      },
      "source": [
        "finalDf = pd.concat([principalDf, NY_labeled_data[target_column]],axis=1 )\n",
        "finalDf"
      ],
      "execution_count": 19,
      "outputs": [
        {
          "output_type": "execute_result",
          "data": {
            "text/html": [
              "<div>\n",
              "<style scoped>\n",
              "    .dataframe tbody tr th:only-of-type {\n",
              "        vertical-align: middle;\n",
              "    }\n",
              "\n",
              "    .dataframe tbody tr th {\n",
              "        vertical-align: top;\n",
              "    }\n",
              "\n",
              "    .dataframe thead th {\n",
              "        text-align: right;\n",
              "    }\n",
              "</style>\n",
              "<table border=\"1\" class=\"dataframe\">\n",
              "  <thead>\n",
              "    <tr style=\"text-align: right;\">\n",
              "      <th></th>\n",
              "      <th>principal component 1</th>\n",
              "      <th>principal component 2</th>\n",
              "      <th>label_code</th>\n",
              "    </tr>\n",
              "  </thead>\n",
              "  <tbody>\n",
              "    <tr>\n",
              "      <th>0</th>\n",
              "      <td>-103.302699</td>\n",
              "      <td>11.230071</td>\n",
              "      <td>0.0</td>\n",
              "    </tr>\n",
              "    <tr>\n",
              "      <th>1</th>\n",
              "      <td>395.438264</td>\n",
              "      <td>5.909955</td>\n",
              "      <td>0.0</td>\n",
              "    </tr>\n",
              "    <tr>\n",
              "      <th>2</th>\n",
              "      <td>-109.167419</td>\n",
              "      <td>13.387976</td>\n",
              "      <td>0.0</td>\n",
              "    </tr>\n",
              "    <tr>\n",
              "      <th>3</th>\n",
              "      <td>-120.051308</td>\n",
              "      <td>29.424469</td>\n",
              "      <td>0.0</td>\n",
              "    </tr>\n",
              "    <tr>\n",
              "      <th>4</th>\n",
              "      <td>-130.976923</td>\n",
              "      <td>-54.768824</td>\n",
              "      <td>0.0</td>\n",
              "    </tr>\n",
              "    <tr>\n",
              "      <th>...</th>\n",
              "      <td>...</td>\n",
              "      <td>...</td>\n",
              "      <td>...</td>\n",
              "    </tr>\n",
              "    <tr>\n",
              "      <th>73553</th>\n",
              "      <td>NaN</td>\n",
              "      <td>NaN</td>\n",
              "      <td>0.0</td>\n",
              "    </tr>\n",
              "    <tr>\n",
              "      <th>73554</th>\n",
              "      <td>NaN</td>\n",
              "      <td>NaN</td>\n",
              "      <td>0.0</td>\n",
              "    </tr>\n",
              "    <tr>\n",
              "      <th>73555</th>\n",
              "      <td>NaN</td>\n",
              "      <td>NaN</td>\n",
              "      <td>0.0</td>\n",
              "    </tr>\n",
              "    <tr>\n",
              "      <th>73556</th>\n",
              "      <td>NaN</td>\n",
              "      <td>NaN</td>\n",
              "      <td>0.0</td>\n",
              "    </tr>\n",
              "    <tr>\n",
              "      <th>73557</th>\n",
              "      <td>NaN</td>\n",
              "      <td>NaN</td>\n",
              "      <td>0.0</td>\n",
              "    </tr>\n",
              "  </tbody>\n",
              "</table>\n",
              "<p>73557 rows × 3 columns</p>\n",
              "</div>"
            ],
            "text/plain": [
              "       principal component 1  principal component 2  label_code\n",
              "0                -103.302699              11.230071         0.0\n",
              "1                 395.438264               5.909955         0.0\n",
              "2                -109.167419              13.387976         0.0\n",
              "3                -120.051308              29.424469         0.0\n",
              "4                -130.976923             -54.768824         0.0\n",
              "...                      ...                    ...         ...\n",
              "73553                    NaN                    NaN         0.0\n",
              "73554                    NaN                    NaN         0.0\n",
              "73555                    NaN                    NaN         0.0\n",
              "73556                    NaN                    NaN         0.0\n",
              "73557                    NaN                    NaN         0.0\n",
              "\n",
              "[73557 rows x 3 columns]"
            ]
          },
          "metadata": {
            "tags": []
          },
          "execution_count": 19
        }
      ]
    },
    {
      "cell_type": "code",
      "metadata": {
        "id": "nx4DfVPy6uI6",
        "colab_type": "code",
        "colab": {
          "base_uri": "https://localhost:8080/",
          "height": 574
        },
        "outputId": "affa5b8a-6e58-4308-b646-cab5f184ad93"
      },
      "source": [
        "fig = plt.figure(figsize = (8,8))\n",
        "ax = fig.add_subplot(1,1,1) \n",
        "ax.set_xlabel('Principal Component 1', fontsize = 15)\n",
        "ax.set_ylabel('Principal Component 2', fontsize = 15)\n",
        "ax.set_title('2 component PCA', fontsize = 20)\n",
        "targets = ['LowSpread', 'Spread', 'SuperSpread']\n",
        "targets2 = np.unique(y_train)\n",
        "colors = ['r', 'g', 'b']\n",
        "for target, color in zip(targets2,colors):\n",
        "    print(target)\n",
        "    indicesToKeep = finalDf['label_code'] == target\n",
        "    ax.scatter(finalDf.loc[indicesToKeep, 'principal component 1']\n",
        "               , finalDf.loc[indicesToKeep, 'principal component 2']\n",
        "               , c = color\n",
        "               , s = 50)\n",
        "ax.legend(targets)\n",
        "ax.grid()"
      ],
      "execution_count": 20,
      "outputs": [
        {
          "output_type": "stream",
          "text": [
            "0\n",
            "1\n",
            "2\n"
          ],
          "name": "stdout"
        },
        {
          "output_type": "display_data",
          "data": {
            "image/png": "[encoded data removed]",
            "text/plain": [
              "<Figure size 576x576 with 1 Axes>"
            ]
          },
          "metadata": {
            "tags": [],
            "needs_background": "light"
          }
        }
      ]
    },
    {
      "cell_type": "code",
      "metadata": {
        "id": "1MDNSQeG4ZWI",
        "colab_type": "code",
        "colab": {}
      },
      "source": [
        "#obtain the eigenpairs of the Wine covariance matrix:\n",
        "#data_cov = np.dot(np.transpose(data.values),data.values)\n",
        "#data_cov\n",
        "X_train_cov = np.cov(X_train_std.T)\n",
        "w, v = np.linalg.eig(X_train_cov)"
      ],
      "execution_count": 21,
      "outputs": []
    },
    {
      "cell_type": "code",
      "metadata": {
        "id": "Too9Fkoi4cBt",
        "colab_type": "code",
        "colab": {
          "base_uri": "https://localhost:8080/",
          "height": 85
        },
        "outputId": "90691502-b85a-4c36-e914-5d8b77480b0a"
      },
      "source": [
        "#The percent of variability contained within each component\n",
        "w_percent = (w/np.sum(w))*100                 \n",
        "print(w, '-> eigenvalues')\n",
        "print(w_percent, ' -> percent of variability explained')"
      ],
      "execution_count": 22,
      "outputs": [
        {
          "output_type": "stream",
          "text": [
            "[3.27164006 1.45788484 1.19498189 1.12141648 0.30827446 0.38017774\n",
            " 0.4740978  0.53332643 0.80357513 0.77493946 0.67989954] -> eigenvalues\n",
            "[29.74160424 13.25324094 10.86326054 10.19449709  2.80244063  3.4560941\n",
            "  4.30989619  4.84832781  7.30508649  7.04476722  6.18078476]  -> percent of variability explained\n"
          ],
          "name": "stdout"
        }
      ]
    },
    {
      "cell_type": "code",
      "metadata": {
        "id": "sxWTQTRD4ebt",
        "colab_type": "code",
        "colab": {
          "base_uri": "https://localhost:8080/",
          "height": 295
        },
        "outputId": "acea0e4e-37f9-4777-97a2-70cda87069bb"
      },
      "source": [
        "# calculate cumulative sum of explained variances\n",
        "tot = sum(w)\n",
        "var_exp = [(i / tot) for i in sorted(w, reverse=True)]\n",
        "cum_var_exp = np.cumsum(var_exp)\n",
        "\n",
        "# plot explained variances\n",
        "plt.title(\"Component-wise and Cumulative Explained Variance\")\n",
        "plt.bar(range(0,11), var_exp, alpha=0.5,\n",
        "        align='center', label='individual explained variance')\n",
        "plt.step(range(0,11), cum_var_exp, where='mid',\n",
        "         label='Percentage of variability explained')\n",
        "plt.ylabel('Explained variance ratio')\n",
        "plt.xlabel('Principal component index')\n",
        "plt.legend(loc='best')\n",
        "plt.show()"
      ],
      "execution_count": 23,
      "outputs": [
        {
          "output_type": "display_data",
          "data": {
            "image/png": "[encoded data removed]",
            "text/plain": [
              "<Figure size 432x288 with 1 Axes>"
            ]
          },
          "metadata": {
            "tags": [],
            "needs_background": "light"
          }
        }
      ]
    },
    {
      "cell_type": "code",
      "metadata": {
        "id": "SGCUhk0-4hY-",
        "colab_type": "code",
        "colab": {
          "base_uri": "https://localhost:8080/",
          "height": 221
        },
        "outputId": "c31c940d-7853-4b74-ad08-071a5e8760a9"
      },
      "source": [
        "# Make a list of (eigenvalue, eigenvector) tuples\n",
        "eigen_pairs = [(np.abs(w[i]), v[:, i]) for i in range(len(w))]\n",
        "\n",
        "# Sort the (eigenvalue, eigenvector) tuples from high to low\n",
        "eigen_pairs.sort(key=lambda k: k[0], reverse=True)\n",
        "w2 = np.hstack((eigen_pairs[0][1][:, np.newaxis], eigen_pairs[1][1][:, np.newaxis]))\n",
        "print('Matrix W2:\\n', w2)"
      ],
      "execution_count": 24,
      "outputs": [
        {
          "output_type": "stream",
          "text": [
            "Matrix W2:\n",
            " [[-0.45067746 -0.07788046]\n",
            " [-0.35359914 -0.09292802]\n",
            " [-0.13667382 -0.42289039]\n",
            " [-0.36772902  0.00413043]\n",
            " [-0.3583666   0.31425132]\n",
            " [ 0.38030955 -0.34568785]\n",
            " [-0.30538418 -0.45608443]\n",
            " [-0.13070703  0.01155317]\n",
            " [-0.23695763 -0.2059869 ]\n",
            " [ 0.27150318 -0.36063748]\n",
            " [-0.06844281 -0.45558228]]\n"
          ],
          "name": "stdout"
        }
      ]
    },
    {
      "cell_type": "code",
      "metadata": {
        "id": "PvPOq3Ru4nzj",
        "colab_type": "code",
        "colab": {
          "base_uri": "https://localhost:8080/",
          "height": 136
        },
        "outputId": "b3bb7beb-f2bb-4c6b-c58e-5ad4050db320"
      },
      "source": [
        "X_train_pca = X_train_std.dot(w2)\n",
        "print(X_train_pca)"
      ],
      "execution_count": 25,
      "outputs": [
        {
          "output_type": "stream",
          "text": [
            "[[-1.37118602  0.80526331]\n",
            " [-0.24229243  0.92706253]\n",
            " [ 0.22157952 -0.25122093]\n",
            " ...\n",
            " [-0.96138681  0.02573338]\n",
            " [-1.9959284   1.11419759]\n",
            " [-0.31739056 -1.21762954]]\n"
          ],
          "name": "stdout"
        }
      ]
    },
    {
      "cell_type": "code",
      "metadata": {
        "id": "zZ5Dzp2t6AMb",
        "colab_type": "code",
        "colab": {
          "base_uri": "https://localhost:8080/",
          "height": 136
        },
        "outputId": "a00591da-099d-4514-faf4-017a60c1c4ba"
      },
      "source": [
        "np.unique(y_train)\n",
        "X_train_pca"
      ],
      "execution_count": 26,
      "outputs": [
        {
          "output_type": "execute_result",
          "data": {
            "text/plain": [
              "array([[-1.37118602,  0.80526331],\n",
              "       [-0.24229243,  0.92706253],\n",
              "       [ 0.22157952, -0.25122093],\n",
              "       ...,\n",
              "       [-0.96138681,  0.02573338],\n",
              "       [-1.9959284 ,  1.11419759],\n",
              "       [-0.31739056, -1.21762954]])"
            ]
          },
          "metadata": {
            "tags": []
          },
          "execution_count": 26
        }
      ]
    },
    {
      "cell_type": "code",
      "metadata": {
        "id": "Yy7tY3_4nMAh",
        "colab_type": "code",
        "colab": {
          "base_uri": "https://localhost:8080/",
          "height": 391
        },
        "outputId": "ca904e2b-2954-4572-b276-18cedb20eb46"
      },
      "source": [
        "NY_labeled_data.dtypes"
      ],
      "execution_count": 27,
      "outputs": [
        {
          "output_type": "execute_result",
          "data": {
            "text/plain": [
              "Date                      object\n",
              "fips_x                     int64\n",
              "County Name               object\n",
              "retail and recreation    float64\n",
              "grocery and pharmacy     float64\n",
              "parks                    float64\n",
              "transit stations         float64\n",
              "workplaces               float64\n",
              "residential              float64\n",
              "driving                  float64\n",
              "m50                      float64\n",
              "m50_index                  int64\n",
              "population_density       float64\n",
              "mask_rule_active           int64\n",
              "mask_wearing_percent     float64\n",
              "New cases                  int64\n",
              "rolling_avg_new_cases    float64\n",
              "label                     object\n",
              "growth_label              object\n",
              "label_code                  int8\n",
              "growth_code                 int8\n",
              "dtype: object"
            ]
          },
          "metadata": {
            "tags": []
          },
          "execution_count": 27
        }
      ]
    },
    {
      "cell_type": "code",
      "metadata": {
        "id": "TCDK47OFmUam",
        "colab_type": "code",
        "colab": {
          "base_uri": "https://localhost:8080/",
          "height": 1000
        },
        "outputId": "2172a15e-1a10-4597-c63f-fe7fb6d7b31f"
      },
      "source": [
        "NY_labeled_data['County Name'].unique()"
      ],
      "execution_count": 28,
      "outputs": [
        {
          "output_type": "execute_result",
          "data": {
            "text/plain": [
              "array(['Anderson County', 'Hidalgo County', 'Polk County', 'Hill County',\n",
              "       'Hockley County', 'Pecos County', 'Hood County', 'Parmer County',\n",
              "       'Hopkins County', 'Houston County', 'Parker County',\n",
              "       'Howard County', 'Hunt County', 'Panola County',\n",
              "       'Hutchinson County', 'Palo Pinto County', 'Jack County',\n",
              "       'Jackson County', 'Orange County', 'Jasper County',\n",
              "       'Potter County', 'Henderson County', 'Hays County', 'Rains County',\n",
              "       'Runnels County', 'Gonzales County', 'Rockwall County',\n",
              "       'Gray County', 'Grayson County', 'Robertson County',\n",
              "       'Gregg County', 'Grimes County', 'Refugio County',\n",
              "       'Ochiltree County', 'Guadalupe County', 'Hale County',\n",
              "       'Hamilton County', 'Red River County', 'Hardeman County',\n",
              "       'Hardin County', 'Zapata County', 'Harris County',\n",
              "       'Randall County', 'Harrison County', 'Reeves County',\n",
              "       'Jefferson County', 'Jim Hogg County', 'Jim Wells County',\n",
              "       'Winkler County', 'Liberty County', 'Limestone County',\n",
              "       'Milam County', 'Live Oak County', 'Llano County',\n",
              "       'Midland County', 'Lubbock County', 'Medina County',\n",
              "       'Mitchell County', 'McCulloch County', 'Maverick County',\n",
              "       'Madison County', 'Marion County', 'Matagorda County',\n",
              "       'Martin County', 'McLennan County', 'Gillespie County',\n",
              "       'Leon County', 'Montague County', 'Nueces County',\n",
              "       'Johnson County', 'Jones County', 'Nolan County', 'Karnes County',\n",
              "       'Kaufman County', 'Kendall County', 'Navarro County',\n",
              "       'Kerr County', 'Lee County', 'Kimble County', 'Kleberg County',\n",
              "       'Morris County', 'Lamar County', 'Lamb County', 'Moore County',\n",
              "       'Lampasas County', 'Montgomery County', 'La Salle County',\n",
              "       'Lavaca County', 'Nacogdoches County', 'Galveston County',\n",
              "       'Gaines County', 'Brown County', 'Victoria County',\n",
              "       'Burleson County', 'Burnet County', 'Van Zandt County',\n",
              "       'Wilson County', 'Caldwell County', 'Calhoun County',\n",
              "       'Val Verde County', 'Callahan County', 'Uvalde County',\n",
              "       'Cameron County', 'Camp County', 'Upton County', 'Carson County',\n",
              "       'Cass County', 'Upshur County', 'Chambers County', 'Tyler County',\n",
              "       'Brooks County', 'Walker County', 'Brewster County',\n",
              "       'Waller County', 'Atascosa County', 'Wilbarger County',\n",
              "       'Austin County', 'Wichita County', 'Bailey County',\n",
              "       'Bandera County', 'Wheeler County', 'Bastrop County', 'Bee County',\n",
              "       'Cherokee County', 'Wharton County', 'Bexar County', 'Webb County',\n",
              "       'Blanco County', 'Washington County', 'Bosque County',\n",
              "       'Bowie County', 'Ward County', 'Brazoria County', 'Brazos County',\n",
              "       'Bell County', 'Childress County', 'Trinity County', 'Clay County',\n",
              "       'Somervell County', 'Duval County', 'Eastland County',\n",
              "       'Smith County', 'Ector County', 'Ellis County', 'Shelby County',\n",
              "       'El Paso County', 'Erath County', 'Dimmit County', 'Scurry County',\n",
              "       'Fannin County', 'San Patricio County', 'Fayette County',\n",
              "       'Fort Bend County', 'San Jacinto County', 'Franklin County',\n",
              "       'Freestone County', 'Sabine County', 'Frio County', 'Falls County',\n",
              "       'Rusk County', 'Starr County', 'Denton County', 'Coleman County',\n",
              "       'Travis County', 'Collin County', 'Colorado County',\n",
              "       'Tom Green County', 'Comal County', 'Comanche County',\n",
              "       'Titus County', 'Zavala County', 'DeWitt County', 'Cooke County',\n",
              "       'Terry County', 'Taylor County', 'Culberson County',\n",
              "       'Dallam County', 'Tarrant County', 'Dallas County',\n",
              "       'Dawson County', 'Deaf Smith County', 'Stephens County',\n",
              "       'Coryell County', 'Young County', 'Aransas County',\n",
              "       'Angelina County', 'Willacy County', 'Williamson County',\n",
              "       'Wise County', 'Yoakum County', 'Andrews County', 'Wood County',\n",
              "       'Crane County', 'San Augustine County', 'San Saba County',\n",
              "       'Newton County', 'Archer County', 'Goliad County', 'Reagan County',\n",
              "       'Castro County', 'Swisher County', 'Sutton County',\n",
              "       'Donley County', 'Crockett County', 'Delta County'], dtype=object)"
            ]
          },
          "metadata": {
            "tags": []
          },
          "execution_count": 28
        }
      ]
    },
    {
      "cell_type": "markdown",
      "metadata": {
        "id": "GFQjBiuhlzE3",
        "colab_type": "text"
      },
      "source": [
        "# Selecting three counties in Ny\n",
        "* Austin County\n",
        "* Dallas County\n",
        "* Houston County"
      ]
    },
    {
      "cell_type": "markdown",
      "metadata": {
        "id": "CmlAQssCokk1",
        "colab_type": "text"
      },
      "source": [
        "### Filtered data for county"
      ]
    },
    {
      "cell_type": "code",
      "metadata": {
        "id": "ih0kX50lnoa1",
        "colab_type": "code",
        "colab": {
          "base_uri": "https://localhost:8080/",
          "height": 0
        },
        "outputId": "d042735b-bbbb-437d-ce96-1af4b985d4c2"
      },
      "source": [
        "Nassau_county_data = NY_labeled_data[NY_labeled_data['County Name'] == 'Austin County']\n",
        "Westchester_county_data = NY_labeled_data[NY_labeled_data['County Name'] == 'Dallas County']\n",
        "Suffolk_county_data = NY_labeled_data[NY_labeled_data['County Name'] == 'Houston County']\n",
        "\n",
        "print(' Austin county data ',Nassau_county_data.shape)\n",
        "print(' Dallas county data ',Westchester_county_data.shape)\n",
        "print(' Houston county data ',Suffolk_county_data.shape)"
      ],
      "execution_count": 29,
      "outputs": [
        {
          "output_type": "stream",
          "text": [
            " Austin county data  (378, 21)\n",
            " Dallas county data  (378, 21)\n",
            " Houston county data  (378, 21)\n"
          ],
          "name": "stdout"
        }
      ]
    },
    {
      "cell_type": "markdown",
      "metadata": {
        "id": "LdNV4ruJpcWF",
        "colab_type": "text"
      },
      "source": [
        "# Note about growth label\n",
        "\n",
        "growth_code| label\n",
        "----|----\n",
        " 0 | drastic decrement\n",
        " 1 | drastic growth\n",
        " 2 | flat\n",
        " 3 | mild decrement\n",
        " 4 | mild increment\n",
        "\n",
        "\n",
        "\n"
      ]
    },
    {
      "cell_type": "markdown",
      "metadata": {
        "id": "CHT_tjaLy-LP",
        "colab_type": "text"
      },
      "source": [
        "# Austin county\n"
      ]
    },
    {
      "cell_type": "code",
      "metadata": {
        "id": "0iUouFZVo7Tv",
        "colab_type": "code",
        "colab": {
          "base_uri": "https://localhost:8080/",
          "height": 102
        },
        "outputId": "648453c8-6c93-486f-9820-70a205d08709"
      },
      "source": [
        "feature_labels = ['retail and recreation','grocery and pharmacy','parks','transit stations','workplaces','residential','driving','m50','m50_index',\n",
        "               'population_density','mask_rule_active']\n",
        "\n",
        "target_column = ['label_code']\n",
        "\n",
        "print(Nassau_county_data['growth_code'].unique())\n",
        "\n",
        "Nassau_county_data_growth1 = Nassau_county_data[Nassau_county_data['growth_code'] == 1]\n",
        "Nassau_county_data_growth2 = Nassau_county_data[Nassau_county_data['growth_code'] == 2]\n",
        "Nassau_county_data_growth3 = Nassau_county_data[Nassau_county_data['growth_code'] == 3]\n",
        "Nassau_county_data_growth4 = Nassau_county_data[Nassau_county_data['growth_code'] == 4]\n",
        "\n",
        "print(Nassau_county_data_growth1.shape)\n",
        "print(Nassau_county_data_growth2.shape)\n",
        "print(Nassau_county_data_growth3.shape)\n",
        "\n",
        "print(Nassau_county_data_growth4.shape)\n"
      ],
      "execution_count": 30,
      "outputs": [
        {
          "output_type": "stream",
          "text": [
            "[2 4 3]\n",
            "(0, 21)\n",
            "(56, 21)\n",
            "(140, 21)\n",
            "(182, 21)\n"
          ],
          "name": "stdout"
        }
      ]
    },
    {
      "cell_type": "code",
      "metadata": {
        "id": "IhHARRTts6bl",
        "colab_type": "code",
        "colab": {
          "base_uri": "https://localhost:8080/",
          "height": 343
        },
        "outputId": "1df200a6-5413-4989-f35a-e03cbc86349d"
      },
      "source": [
        "Nassau_county_data.head()"
      ],
      "execution_count": 31,
      "outputs": [
        {
          "output_type": "execute_result",
          "data": {
            "text/html": [
              "<div>\n",
              "<style scoped>\n",
              "    .dataframe tbody tr th:only-of-type {\n",
              "        vertical-align: middle;\n",
              "    }\n",
              "\n",
              "    .dataframe tbody tr th {\n",
              "        vertical-align: top;\n",
              "    }\n",
              "\n",
              "    .dataframe thead th {\n",
              "        text-align: right;\n",
              "    }\n",
              "</style>\n",
              "<table border=\"1\" class=\"dataframe\">\n",
              "  <thead>\n",
              "    <tr style=\"text-align: right;\">\n",
              "      <th></th>\n",
              "      <th>Date</th>\n",
              "      <th>fips_x</th>\n",
              "      <th>County Name</th>\n",
              "      <th>retail and recreation</th>\n",
              "      <th>grocery and pharmacy</th>\n",
              "      <th>parks</th>\n",
              "      <th>transit stations</th>\n",
              "      <th>workplaces</th>\n",
              "      <th>residential</th>\n",
              "      <th>driving</th>\n",
              "      <th>m50</th>\n",
              "      <th>m50_index</th>\n",
              "      <th>population_density</th>\n",
              "      <th>mask_rule_active</th>\n",
              "      <th>mask_wearing_percent</th>\n",
              "      <th>New cases</th>\n",
              "      <th>rolling_avg_new_cases</th>\n",
              "      <th>label</th>\n",
              "      <th>growth_label</th>\n",
              "      <th>label_code</th>\n",
              "      <th>growth_code</th>\n",
              "    </tr>\n",
              "  </thead>\n",
              "  <tbody>\n",
              "    <tr>\n",
              "      <th>121</th>\n",
              "      <td>2020-03-01</td>\n",
              "      <td>48015</td>\n",
              "      <td>Austin County</td>\n",
              "      <td>15.0</td>\n",
              "      <td>10.0</td>\n",
              "      <td>0.0</td>\n",
              "      <td>0.0</td>\n",
              "      <td>4.0</td>\n",
              "      <td>0.0</td>\n",
              "      <td>45.92</td>\n",
              "      <td>14.176</td>\n",
              "      <td>60</td>\n",
              "      <td>46.452491</td>\n",
              "      <td>0</td>\n",
              "      <td>0.0</td>\n",
              "      <td>0</td>\n",
              "      <td>0.0</td>\n",
              "      <td>LessSpread</td>\n",
              "      <td>flat_growth</td>\n",
              "      <td>0</td>\n",
              "      <td>2</td>\n",
              "    </tr>\n",
              "    <tr>\n",
              "      <th>192</th>\n",
              "      <td>2020-03-01</td>\n",
              "      <td>48015</td>\n",
              "      <td>Austin County</td>\n",
              "      <td>15.0</td>\n",
              "      <td>10.0</td>\n",
              "      <td>0.0</td>\n",
              "      <td>0.0</td>\n",
              "      <td>4.0</td>\n",
              "      <td>0.0</td>\n",
              "      <td>45.92</td>\n",
              "      <td>14.176</td>\n",
              "      <td>60</td>\n",
              "      <td>46.452491</td>\n",
              "      <td>0</td>\n",
              "      <td>0.0</td>\n",
              "      <td>0</td>\n",
              "      <td>0.0</td>\n",
              "      <td>LessSpread</td>\n",
              "      <td>flat_growth</td>\n",
              "      <td>0</td>\n",
              "      <td>2</td>\n",
              "    </tr>\n",
              "    <tr>\n",
              "      <th>632</th>\n",
              "      <td>2020-03-02</td>\n",
              "      <td>48015</td>\n",
              "      <td>Austin County</td>\n",
              "      <td>11.0</td>\n",
              "      <td>-2.0</td>\n",
              "      <td>0.0</td>\n",
              "      <td>0.0</td>\n",
              "      <td>6.0</td>\n",
              "      <td>-2.0</td>\n",
              "      <td>11.06</td>\n",
              "      <td>23.325</td>\n",
              "      <td>100</td>\n",
              "      <td>46.452491</td>\n",
              "      <td>0</td>\n",
              "      <td>0.0</td>\n",
              "      <td>0</td>\n",
              "      <td>0.0</td>\n",
              "      <td>LessSpread</td>\n",
              "      <td>flat_growth</td>\n",
              "      <td>0</td>\n",
              "      <td>2</td>\n",
              "    </tr>\n",
              "    <tr>\n",
              "      <th>684</th>\n",
              "      <td>2020-03-02</td>\n",
              "      <td>48015</td>\n",
              "      <td>Austin County</td>\n",
              "      <td>11.0</td>\n",
              "      <td>-2.0</td>\n",
              "      <td>0.0</td>\n",
              "      <td>0.0</td>\n",
              "      <td>6.0</td>\n",
              "      <td>-2.0</td>\n",
              "      <td>11.06</td>\n",
              "      <td>23.325</td>\n",
              "      <td>100</td>\n",
              "      <td>46.452491</td>\n",
              "      <td>0</td>\n",
              "      <td>0.0</td>\n",
              "      <td>0</td>\n",
              "      <td>0.0</td>\n",
              "      <td>LessSpread</td>\n",
              "      <td>flat_growth</td>\n",
              "      <td>0</td>\n",
              "      <td>2</td>\n",
              "    </tr>\n",
              "    <tr>\n",
              "      <th>928</th>\n",
              "      <td>2020-03-03</td>\n",
              "      <td>48015</td>\n",
              "      <td>Austin County</td>\n",
              "      <td>10.0</td>\n",
              "      <td>2.0</td>\n",
              "      <td>0.0</td>\n",
              "      <td>0.0</td>\n",
              "      <td>6.0</td>\n",
              "      <td>-2.0</td>\n",
              "      <td>11.56</td>\n",
              "      <td>19.812</td>\n",
              "      <td>84</td>\n",
              "      <td>46.452491</td>\n",
              "      <td>0</td>\n",
              "      <td>0.0</td>\n",
              "      <td>0</td>\n",
              "      <td>0.0</td>\n",
              "      <td>LessSpread</td>\n",
              "      <td>flat_growth</td>\n",
              "      <td>0</td>\n",
              "      <td>2</td>\n",
              "    </tr>\n",
              "  </tbody>\n",
              "</table>\n",
              "</div>"
            ],
            "text/plain": [
              "           Date  fips_x    County Name  ...  growth_label  label_code  growth_code\n",
              "121  2020-03-01   48015  Austin County  ...   flat_growth           0            2\n",
              "192  2020-03-01   48015  Austin County  ...   flat_growth           0            2\n",
              "632  2020-03-02   48015  Austin County  ...   flat_growth           0            2\n",
              "684  2020-03-02   48015  Austin County  ...   flat_growth           0            2\n",
              "928  2020-03-03   48015  Austin County  ...   flat_growth           0            2\n",
              "\n",
              "[5 rows x 21 columns]"
            ]
          },
          "metadata": {
            "tags": []
          },
          "execution_count": 31
        }
      ]
    },
    {
      "cell_type": "markdown",
      "metadata": {
        "id": "lQm7s7zWq_cY",
        "colab_type": "text"
      },
      "source": [
        "NY city data doesn't have any drastic decrement data. Let's verify the metrics for available growth labels - drastic growth, flat, mild decrement, mild increment"
      ]
    },
    {
      "cell_type": "code",
      "metadata": {
        "id": "qxeItEjurTri",
        "colab_type": "code",
        "colab": {}
      },
      "source": [
        "# print(\"** Printing Austin county data for drastic growth ** \")\n",
        "\n",
        "# X = Nassau_county_data_growth1[feature_labels]\n",
        "# y = Nassau_county_data_growth1[target_column]\n",
        "# print(X.shape)\n",
        "\n",
        "# X_train, X_test, y_train, y_test = train_test_split(X, y, test_size=0.4, random_state=0)\n",
        "\n",
        "\n",
        "# # Create a random forest classifier\n",
        "# clf = RandomForestClassifier(n_estimators=10000, random_state=0, n_jobs=-1,min_samples_leaf=5)\n",
        "\n",
        "# # Train the classifier\n",
        "# clf.fit(X_train, y_train)\n",
        "\n",
        "# # Print the name and gini importance of each feature\n",
        "# for feature in zip(feature_labels, clf.feature_importances_):\n",
        "#     print(feature)\n",
        "\n",
        "\n",
        "\n",
        "# #  Supported criteria are “gini” for the Gini impurity and “entropy” for the information gain. \n",
        "\n",
        "# clf = RandomForestClassifier(n_estimators=10000, random_state=0,criterion='entropy', n_jobs=-1)\n",
        "\n",
        "# # Train the classifier\n",
        "# clf.fit(X_train, y_train)\n",
        "\n",
        "# # Print the name and gini importance of each feature\n",
        "# for feature in zip(feature_labels, clf.feature_importances_):\n",
        "#     print(feature)\n"
      ],
      "execution_count": 32,
      "outputs": []
    },
    {
      "cell_type": "code",
      "metadata": {
        "id": "fOgGiAfVr-eN",
        "colab_type": "code",
        "colab": {
          "base_uri": "https://localhost:8080/",
          "height": 479
        },
        "outputId": "1fc43c3b-78ea-442f-d6e8-a86b6f61a5a1"
      },
      "source": [
        "print(\"** Printing Austin county data for flat growth ** \")\n",
        "\n",
        "X = Nassau_county_data_growth2[feature_labels]\n",
        "y = Nassau_county_data_growth2[target_column]\n",
        "\n",
        "X_train, X_test, y_train, y_test = train_test_split(X, y, test_size=0.4, random_state=0)\n",
        "\n",
        "\n",
        "# Create a random forest classifier\n",
        "clf = RandomForestClassifier(n_estimators=10000, random_state=0, n_jobs=-1)\n",
        "\n",
        "# Train the classifier\n",
        "clf.fit(X_train, y_train)\n",
        "\n",
        "# Print the name and gini importance of each feature\n",
        "for feature in zip(feature_labels, clf.feature_importances_):\n",
        "    print(feature)\n",
        "\n",
        "\n",
        "\n",
        "#  Supported criteria are “gini” for the Gini impurity and “entropy” for the information gain. \n",
        "\n",
        "clf = RandomForestClassifier(n_estimators=10000, random_state=0,criterion='entropy', n_jobs=-1)\n",
        "\n",
        "# Train the classifier\n",
        "clf.fit(X_train, y_train)\n",
        "\n",
        "# Print the name and gini importance of each feature\n",
        "for feature in zip(feature_labels, clf.feature_importances_):\n",
        "    print(feature)\n"
      ],
      "execution_count": 33,
      "outputs": [
        {
          "output_type": "stream",
          "text": [
            "** Printing Austin county data for flat growth ** \n"
          ],
          "name": "stdout"
        },
        {
          "output_type": "stream",
          "text": [
            "/usr/local/lib/python3.6/dist-packages/ipykernel_launcher.py:13: DataConversionWarning: A column-vector y was passed when a 1d array was expected. Please change the shape of y to (n_samples,), for example using ravel().\n",
            "  del sys.path[0]\n"
          ],
          "name": "stderr"
        },
        {
          "output_type": "stream",
          "text": [
            "('retail and recreation', 0.0)\n",
            "('grocery and pharmacy', 0.0)\n",
            "('parks', 0.0)\n",
            "('transit stations', 0.0)\n",
            "('workplaces', 0.0)\n",
            "('residential', 0.0)\n",
            "('driving', 0.0)\n",
            "('m50', 0.0)\n",
            "('m50_index', 0.0)\n",
            "('population_density', 0.0)\n",
            "('mask_rule_active', 0.0)\n"
          ],
          "name": "stdout"
        },
        {
          "output_type": "stream",
          "text": [
            "/usr/local/lib/python3.6/dist-packages/ipykernel_launcher.py:26: DataConversionWarning: A column-vector y was passed when a 1d array was expected. Please change the shape of y to (n_samples,), for example using ravel().\n"
          ],
          "name": "stderr"
        },
        {
          "output_type": "stream",
          "text": [
            "('retail and recreation', 0.0)\n",
            "('grocery and pharmacy', 0.0)\n",
            "('parks', 0.0)\n",
            "('transit stations', 0.0)\n",
            "('workplaces', 0.0)\n",
            "('residential', 0.0)\n",
            "('driving', 0.0)\n",
            "('m50', 0.0)\n",
            "('m50_index', 0.0)\n",
            "('population_density', 0.0)\n",
            "('mask_rule_active', 0.0)\n"
          ],
          "name": "stdout"
        }
      ]
    },
    {
      "cell_type": "code",
      "metadata": {
        "id": "vHc18U_Yr_TQ",
        "colab_type": "code",
        "colab": {
          "base_uri": "https://localhost:8080/",
          "height": 496
        },
        "outputId": "cdcef667-c1c2-42c5-881c-2270e61a37e6"
      },
      "source": [
        "print(\"** Printing Nassau county data for mild decrement ** \")\n",
        "\n",
        "X = Nassau_county_data_growth3[feature_labels]\n",
        "y = Nassau_county_data_growth3[target_column]\n",
        "print(X.shape)\n",
        "X_train, X_test, y_train, y_test = train_test_split(X, y, test_size=0.4, random_state=0)\n",
        "\n",
        "\n",
        "# Create a random forest classifier\n",
        "clf = RandomForestClassifier(n_estimators=10000, random_state=0, n_jobs=-1)\n",
        "\n",
        "# Train the classifier\n",
        "clf.fit(X_train, y_train)\n",
        "\n",
        "# Print the name and gini importance of each feature\n",
        "for feature in zip(feature_labels, clf.feature_importances_):\n",
        "    print(feature)\n",
        "\n",
        "\n",
        "\n",
        "#  Supported criteria are “gini” for the Gini impurity and “entropy” for the information gain. \n",
        "\n",
        "clf = RandomForestClassifier(n_estimators=10000, random_state=0,criterion='entropy', n_jobs=-1)\n",
        "\n",
        "# Train the classifier\n",
        "clf.fit(X_train, y_train)\n",
        "\n",
        "# Print the name and gini importance of each feature\n",
        "for feature in zip(feature_labels, clf.feature_importances_):\n",
        "    print(feature)\n"
      ],
      "execution_count": 34,
      "outputs": [
        {
          "output_type": "stream",
          "text": [
            "** Printing Nassau county data for mild decrement ** \n",
            "(140, 11)\n"
          ],
          "name": "stdout"
        },
        {
          "output_type": "stream",
          "text": [
            "/usr/local/lib/python3.6/dist-packages/ipykernel_launcher.py:13: DataConversionWarning: A column-vector y was passed when a 1d array was expected. Please change the shape of y to (n_samples,), for example using ravel().\n",
            "  del sys.path[0]\n"
          ],
          "name": "stderr"
        },
        {
          "output_type": "stream",
          "text": [
            "('retail and recreation', 0.0)\n",
            "('grocery and pharmacy', 0.0)\n",
            "('parks', 0.0)\n",
            "('transit stations', 0.0)\n",
            "('workplaces', 0.0)\n",
            "('residential', 0.0)\n",
            "('driving', 0.0)\n",
            "('m50', 0.0)\n",
            "('m50_index', 0.0)\n",
            "('population_density', 0.0)\n",
            "('mask_rule_active', 0.0)\n"
          ],
          "name": "stdout"
        },
        {
          "output_type": "stream",
          "text": [
            "/usr/local/lib/python3.6/dist-packages/ipykernel_launcher.py:26: DataConversionWarning: A column-vector y was passed when a 1d array was expected. Please change the shape of y to (n_samples,), for example using ravel().\n"
          ],
          "name": "stderr"
        },
        {
          "output_type": "stream",
          "text": [
            "('retail and recreation', 0.0)\n",
            "('grocery and pharmacy', 0.0)\n",
            "('parks', 0.0)\n",
            "('transit stations', 0.0)\n",
            "('workplaces', 0.0)\n",
            "('residential', 0.0)\n",
            "('driving', 0.0)\n",
            "('m50', 0.0)\n",
            "('m50_index', 0.0)\n",
            "('population_density', 0.0)\n",
            "('mask_rule_active', 0.0)\n"
          ],
          "name": "stdout"
        }
      ]
    },
    {
      "cell_type": "code",
      "metadata": {
        "id": "9p-MEfVVr_80",
        "colab_type": "code",
        "colab": {
          "base_uri": "https://localhost:8080/",
          "height": 496
        },
        "outputId": "b3c8f1f3-5783-4811-bb40-d2ae45c5a868"
      },
      "source": [
        "\n",
        "print(\"** Printing Austin county data for mild increment ** \")\n",
        "\n",
        "X = Nassau_county_data_growth4[feature_labels]\n",
        "y = Nassau_county_data_growth4[target_column]\n",
        "print(X.shape)\n",
        "X_train, X_test, y_train, y_test = train_test_split(X, y, test_size=0.4, random_state=0)\n",
        "\n",
        "\n",
        "# Create a random forest classifier\n",
        "clf = RandomForestClassifier(n_estimators=10000, random_state=0, n_jobs=-1)\n",
        "\n",
        "# Train the classifier\n",
        "clf.fit(X_train, y_train)\n",
        "\n",
        "# Print the name and gini importance of each feature\n",
        "for feature in zip(feature_labels, clf.feature_importances_):\n",
        "    print(feature)\n",
        "\n",
        "\n",
        "\n",
        "#  Supported criteria are “gini” for the Gini impurity and “entropy” for the information gain. \n",
        "\n",
        "clf = RandomForestClassifier(n_estimators=10000, random_state=0,criterion='entropy', n_jobs=-1)\n",
        "\n",
        "# Train the classifier\n",
        "clf.fit(X_train, y_train)\n",
        "\n",
        "# Print the name and gini importance of each feature\n",
        "for feature in zip(feature_labels, clf.feature_importances_):\n",
        "    print(feature)\n"
      ],
      "execution_count": 35,
      "outputs": [
        {
          "output_type": "stream",
          "text": [
            "** Printing Austin county data for mild increment ** \n",
            "(182, 11)\n"
          ],
          "name": "stdout"
        },
        {
          "output_type": "stream",
          "text": [
            "/usr/local/lib/python3.6/dist-packages/ipykernel_launcher.py:14: DataConversionWarning: A column-vector y was passed when a 1d array was expected. Please change the shape of y to (n_samples,), for example using ravel().\n",
            "  \n"
          ],
          "name": "stderr"
        },
        {
          "output_type": "stream",
          "text": [
            "('retail and recreation', 0.0)\n",
            "('grocery and pharmacy', 0.0)\n",
            "('parks', 0.0)\n",
            "('transit stations', 0.0)\n",
            "('workplaces', 0.0)\n",
            "('residential', 0.0)\n",
            "('driving', 0.0)\n",
            "('m50', 0.0)\n",
            "('m50_index', 0.0)\n",
            "('population_density', 0.0)\n",
            "('mask_rule_active', 0.0)\n"
          ],
          "name": "stdout"
        },
        {
          "output_type": "stream",
          "text": [
            "/usr/local/lib/python3.6/dist-packages/ipykernel_launcher.py:27: DataConversionWarning: A column-vector y was passed when a 1d array was expected. Please change the shape of y to (n_samples,), for example using ravel().\n"
          ],
          "name": "stderr"
        },
        {
          "output_type": "stream",
          "text": [
            "('retail and recreation', 0.0)\n",
            "('grocery and pharmacy', 0.0)\n",
            "('parks', 0.0)\n",
            "('transit stations', 0.0)\n",
            "('workplaces', 0.0)\n",
            "('residential', 0.0)\n",
            "('driving', 0.0)\n",
            "('m50', 0.0)\n",
            "('m50_index', 0.0)\n",
            "('population_density', 0.0)\n",
            "('mask_rule_active', 0.0)\n"
          ],
          "name": "stdout"
        }
      ]
    },
    {
      "cell_type": "markdown",
      "metadata": {
        "id": "V3iG473ouCfD",
        "colab_type": "text"
      },
      "source": [
        "## Correlation map"
      ]
    },
    {
      "cell_type": "code",
      "metadata": {
        "id": "KiDL-frruEns",
        "colab_type": "code",
        "colab": {
          "base_uri": "https://localhost:8080/",
          "height": 697
        },
        "outputId": "152877ba-7dee-4e29-8e5c-0dbc576e18ac"
      },
      "source": [
        "\n",
        "\n",
        "# Correlation\n",
        "\n",
        "corr = Nassau_county_data.corr()\n",
        "g = sns.heatmap(corr, vmax=.9, center=0,\n",
        "               square=True, linewidths=1.5, cbar_kws={\"shrink\": .8}, annot=True, fmt='.2f', cmap='coolwarm')\n",
        "bottom, top = g.get_ylim()\n",
        "g.set_ylim(bottom + 0.5, top - 0.5)\n",
        "sns.despine()\n",
        "g.figure.set_size_inches(16, 10)"
      ],
      "execution_count": 36,
      "outputs": [
        {
          "output_type": "display_data",
          "data": {
            "image/png": "[encoded data removed]",
            "text/plain": [
              "<Figure size 1152x720 with 2 Axes>"
            ]
          },
          "metadata": {
            "tags": [],
            "needs_background": "light"
          }
        }
      ]
    },
    {
      "cell_type": "markdown",
      "metadata": {
        "id": "p3JvFzwUwTF8",
        "colab_type": "text"
      },
      "source": [
        "# Dallas county "
      ]
    },
    {
      "cell_type": "code",
      "metadata": {
        "id": "1oYJNiUhwU8U",
        "colab_type": "code",
        "colab": {
          "base_uri": "https://localhost:8080/",
          "height": 85
        },
        "outputId": "43815f15-3114-4aa6-9103-da601343a771"
      },
      "source": [
        "print(Westchester_county_data['growth_code'].unique())\n",
        "\n",
        "Westchester_county_data_growth2 = Westchester_county_data[Westchester_county_data['growth_code'] == 2]\n",
        "Westchester_county_data_growth3 = Westchester_county_data[Westchester_county_data['growth_code'] == 3]\n",
        "Westchester_county_data_growth4 = Westchester_county_data[Westchester_county_data['growth_code'] == 4]\n",
        "\n",
        "print(Westchester_county_data_growth2.shape)\n",
        "\n",
        "print(Westchester_county_data_growth3.shape)\n",
        "\n",
        "print(Westchester_county_data_growth4.shape)\n",
        "\n"
      ],
      "execution_count": 37,
      "outputs": [
        {
          "output_type": "stream",
          "text": [
            "[2 1 4 3]\n",
            "(28, 21)\n",
            "(182, 21)\n",
            "(140, 21)\n"
          ],
          "name": "stdout"
        }
      ]
    },
    {
      "cell_type": "code",
      "metadata": {
        "id": "c3hanVVfwlQA",
        "colab_type": "code",
        "colab": {
          "base_uri": "https://localhost:8080/",
          "height": 479
        },
        "outputId": "bae2f576-9872-47c9-8206-100e1c1c801d"
      },
      "source": [
        "\n",
        "print(\"** Printing Dallas county data for mild increment ** \")\n",
        "\n",
        "X = Westchester_county_data_growth2[feature_labels]\n",
        "y = Westchester_county_data_growth2[target_column]\n",
        "\n",
        "X_train, X_test, y_train, y_test = train_test_split(X, y, test_size=0.4, random_state=0)\n",
        "\n",
        "\n",
        "# Create a random forest classifier\n",
        "clf = RandomForestClassifier(n_estimators=10000, random_state=0, n_jobs=-1)\n",
        "\n",
        "# Train the classifier\n",
        "clf.fit(X_train, y_train)\n",
        "\n",
        "# Print the name and gini importance of each feature\n",
        "for feature in zip(feature_labels, clf.feature_importances_):\n",
        "    print(feature)\n",
        "\n",
        "\n",
        "\n",
        "#  Supported criteria are “gini” for the Gini impurity and “entropy” for the information gain. \n",
        "\n",
        "clf = RandomForestClassifier(n_estimators=10000, random_state=0,criterion='entropy', n_jobs=-1)\n",
        "\n",
        "# Train the classifier\n",
        "clf.fit(X_train, y_train)\n",
        "\n",
        "# Print the name and gini importance of each feature\n",
        "for feature in zip(feature_labels, clf.feature_importances_):\n",
        "    print(feature)\n"
      ],
      "execution_count": 38,
      "outputs": [
        {
          "output_type": "stream",
          "text": [
            "** Printing Dallas county data for mild increment ** \n"
          ],
          "name": "stdout"
        },
        {
          "output_type": "stream",
          "text": [
            "/usr/local/lib/python3.6/dist-packages/ipykernel_launcher.py:14: DataConversionWarning: A column-vector y was passed when a 1d array was expected. Please change the shape of y to (n_samples,), for example using ravel().\n",
            "  \n"
          ],
          "name": "stderr"
        },
        {
          "output_type": "stream",
          "text": [
            "('retail and recreation', 0.0)\n",
            "('grocery and pharmacy', 0.0)\n",
            "('parks', 0.0)\n",
            "('transit stations', 0.0)\n",
            "('workplaces', 0.0)\n",
            "('residential', 0.0)\n",
            "('driving', 0.0)\n",
            "('m50', 0.0)\n",
            "('m50_index', 0.0)\n",
            "('population_density', 0.0)\n",
            "('mask_rule_active', 0.0)\n"
          ],
          "name": "stdout"
        },
        {
          "output_type": "stream",
          "text": [
            "/usr/local/lib/python3.6/dist-packages/ipykernel_launcher.py:27: DataConversionWarning: A column-vector y was passed when a 1d array was expected. Please change the shape of y to (n_samples,), for example using ravel().\n"
          ],
          "name": "stderr"
        },
        {
          "output_type": "stream",
          "text": [
            "('retail and recreation', 0.0)\n",
            "('grocery and pharmacy', 0.0)\n",
            "('parks', 0.0)\n",
            "('transit stations', 0.0)\n",
            "('workplaces', 0.0)\n",
            "('residential', 0.0)\n",
            "('driving', 0.0)\n",
            "('m50', 0.0)\n",
            "('m50_index', 0.0)\n",
            "('population_density', 0.0)\n",
            "('mask_rule_active', 0.0)\n"
          ],
          "name": "stdout"
        }
      ]
    },
    {
      "cell_type": "code",
      "metadata": {
        "id": "STzL7E4JwkLv",
        "colab_type": "code",
        "colab": {
          "base_uri": "https://localhost:8080/",
          "height": 479
        },
        "outputId": "fe48a9ee-1c8d-4ecf-ad9e-f991c1b671f6"
      },
      "source": [
        "\n",
        "print(\"** Printing Dallas county data for mild increment ** \")\n",
        "\n",
        "X = Westchester_county_data_growth3[feature_labels]\n",
        "y = Westchester_county_data_growth3[target_column]\n",
        "\n",
        "X_train, X_test, y_train, y_test = train_test_split(X, y, test_size=0.4, random_state=0)\n",
        "\n",
        "\n",
        "# Create a random forest classifier\n",
        "clf = RandomForestClassifier(n_estimators=10000, random_state=0, n_jobs=-1)\n",
        "\n",
        "# Train the classifier\n",
        "clf.fit(X_train, y_train)\n",
        "\n",
        "# Print the name and gini importance of each feature\n",
        "for feature in zip(feature_labels, clf.feature_importances_):\n",
        "    print(feature)\n",
        "\n",
        "\n",
        "\n",
        "#  Supported criteria are “gini” for the Gini impurity and “entropy” for the information gain. \n",
        "\n",
        "clf = RandomForestClassifier(n_estimators=10000, random_state=0,criterion='entropy', n_jobs=-1)\n",
        "\n",
        "# Train the classifier\n",
        "clf.fit(X_train, y_train)\n",
        "\n",
        "# Print the name and gini importance of each feature\n",
        "for feature in zip(feature_labels, clf.feature_importances_):\n",
        "    print(feature)\n"
      ],
      "execution_count": 39,
      "outputs": [
        {
          "output_type": "stream",
          "text": [
            "** Printing Dallas county data for mild increment ** \n"
          ],
          "name": "stdout"
        },
        {
          "output_type": "stream",
          "text": [
            "/usr/local/lib/python3.6/dist-packages/ipykernel_launcher.py:14: DataConversionWarning: A column-vector y was passed when a 1d array was expected. Please change the shape of y to (n_samples,), for example using ravel().\n",
            "  \n"
          ],
          "name": "stderr"
        },
        {
          "output_type": "stream",
          "text": [
            "('retail and recreation', 0.0)\n",
            "('grocery and pharmacy', 0.0)\n",
            "('parks', 0.0)\n",
            "('transit stations', 0.0)\n",
            "('workplaces', 0.0)\n",
            "('residential', 0.0)\n",
            "('driving', 0.0)\n",
            "('m50', 0.0)\n",
            "('m50_index', 0.0)\n",
            "('population_density', 0.0)\n",
            "('mask_rule_active', 0.0)\n"
          ],
          "name": "stdout"
        },
        {
          "output_type": "stream",
          "text": [
            "/usr/local/lib/python3.6/dist-packages/ipykernel_launcher.py:27: DataConversionWarning: A column-vector y was passed when a 1d array was expected. Please change the shape of y to (n_samples,), for example using ravel().\n"
          ],
          "name": "stderr"
        },
        {
          "output_type": "stream",
          "text": [
            "('retail and recreation', 0.0)\n",
            "('grocery and pharmacy', 0.0)\n",
            "('parks', 0.0)\n",
            "('transit stations', 0.0)\n",
            "('workplaces', 0.0)\n",
            "('residential', 0.0)\n",
            "('driving', 0.0)\n",
            "('m50', 0.0)\n",
            "('m50_index', 0.0)\n",
            "('population_density', 0.0)\n",
            "('mask_rule_active', 0.0)\n"
          ],
          "name": "stdout"
        }
      ]
    },
    {
      "cell_type": "code",
      "metadata": {
        "id": "odIMunwJwjKL",
        "colab_type": "code",
        "colab": {
          "base_uri": "https://localhost:8080/",
          "height": 479
        },
        "outputId": "46b4dafd-0f76-4d73-9734-39b4c0a71dfc"
      },
      "source": [
        "\n",
        "print(\"** Printing Dallas county data for mild increment ** \")\n",
        "\n",
        "X = Westchester_county_data_growth4[feature_labels]\n",
        "y = Westchester_county_data_growth4[target_column]\n",
        "\n",
        "X_train, X_test, y_train, y_test = train_test_split(X, y, test_size=0.4, random_state=0)\n",
        "\n",
        "\n",
        "# Create a random forest classifier\n",
        "clf = RandomForestClassifier(n_estimators=10000, random_state=0, n_jobs=-1)\n",
        "\n",
        "# Train the classifier\n",
        "clf.fit(X_train, y_train)\n",
        "\n",
        "# Print the name and gini importance of each feature\n",
        "for feature in zip(feature_labels, clf.feature_importances_):\n",
        "    print(feature)\n",
        "\n",
        "\n",
        "\n",
        "#  Supported criteria are “gini” for the Gini impurity and “entropy” for the information gain. \n",
        "\n",
        "clf = RandomForestClassifier(n_estimators=10000, random_state=0,criterion='entropy', n_jobs=-1)\n",
        "\n",
        "# Train the classifier\n",
        "clf.fit(X_train, y_train)\n",
        "\n",
        "# Print the name and gini importance of each feature\n",
        "for feature in zip(feature_labels, clf.feature_importances_):\n",
        "    print(feature)\n"
      ],
      "execution_count": 40,
      "outputs": [
        {
          "output_type": "stream",
          "text": [
            "** Printing Dallas county data for mild increment ** \n"
          ],
          "name": "stdout"
        },
        {
          "output_type": "stream",
          "text": [
            "/usr/local/lib/python3.6/dist-packages/ipykernel_launcher.py:14: DataConversionWarning: A column-vector y was passed when a 1d array was expected. Please change the shape of y to (n_samples,), for example using ravel().\n",
            "  \n"
          ],
          "name": "stderr"
        },
        {
          "output_type": "stream",
          "text": [
            "('retail and recreation', 0.0)\n",
            "('grocery and pharmacy', 0.0)\n",
            "('parks', 0.0)\n",
            "('transit stations', 0.0)\n",
            "('workplaces', 0.0)\n",
            "('residential', 0.0)\n",
            "('driving', 0.0)\n",
            "('m50', 0.0)\n",
            "('m50_index', 0.0)\n",
            "('population_density', 0.0)\n",
            "('mask_rule_active', 0.0)\n"
          ],
          "name": "stdout"
        },
        {
          "output_type": "stream",
          "text": [
            "/usr/local/lib/python3.6/dist-packages/ipykernel_launcher.py:27: DataConversionWarning: A column-vector y was passed when a 1d array was expected. Please change the shape of y to (n_samples,), for example using ravel().\n"
          ],
          "name": "stderr"
        },
        {
          "output_type": "stream",
          "text": [
            "('retail and recreation', 0.0)\n",
            "('grocery and pharmacy', 0.0)\n",
            "('parks', 0.0)\n",
            "('transit stations', 0.0)\n",
            "('workplaces', 0.0)\n",
            "('residential', 0.0)\n",
            "('driving', 0.0)\n",
            "('m50', 0.0)\n",
            "('m50_index', 0.0)\n",
            "('population_density', 0.0)\n",
            "('mask_rule_active', 0.0)\n"
          ],
          "name": "stdout"
        }
      ]
    },
    {
      "cell_type": "markdown",
      "metadata": {
        "id": "kMhruM5xxJ93",
        "colab_type": "text"
      },
      "source": [
        "# Suffolk county"
      ]
    },
    {
      "cell_type": "code",
      "metadata": {
        "id": "LIuaozCpxMMP",
        "colab_type": "code",
        "colab": {
          "base_uri": "https://localhost:8080/",
          "height": 102
        },
        "outputId": "ca4230db-95d0-4571-fabb-78444666d2b4"
      },
      "source": [
        "print(Suffolk_county_data['growth_code'].unique())\n",
        "\n",
        "Suffolk_county_data_growth1 = Suffolk_county_data[Suffolk_county_data['growth_code'] == 1]\n",
        "print(Suffolk_county_data_growth1.shape)\n",
        "Suffolk_county_data_growth2 = Suffolk_county_data[Suffolk_county_data['growth_code'] == 2]\n",
        "print(Suffolk_county_data_growth2.shape)\n",
        "\n",
        "Suffolk_county_data_growth3 = Suffolk_county_data[Suffolk_county_data['growth_code'] == 3]\n",
        "print(Suffolk_county_data_growth3.shape)\n",
        "\n",
        "Suffolk_county_data_growth4 = Suffolk_county_data[Suffolk_county_data['growth_code'] == 4]\n",
        "print(Suffolk_county_data_growth4.shape)\n"
      ],
      "execution_count": 41,
      "outputs": [
        {
          "output_type": "stream",
          "text": [
            "[2 3 4]\n",
            "(0, 21)\n",
            "(56, 21)\n",
            "(126, 21)\n",
            "(196, 21)\n"
          ],
          "name": "stdout"
        }
      ]
    },
    {
      "cell_type": "code",
      "metadata": {
        "id": "_VYtXsamxjnb",
        "colab_type": "code",
        "colab": {}
      },
      "source": [
        "\n",
        "# print(\"** Printing Houston county data for mild increment ** \")\n",
        "\n",
        "# X = Suffolk_county_data_growth1[feature_labels]\n",
        "# y = Suffolk_county_data_growth1[target_column]\n",
        "\n",
        "# X_train, X_test, y_train, y_test = train_test_split(X, y, test_size=0.4, random_state=0)\n",
        "\n",
        "\n",
        "# # Create a random forest classifier\n",
        "# clf = RandomForestClassifier(n_estimators=10000, random_state=0, n_jobs=-1)\n",
        "\n",
        "# # Train the classifier\n",
        "# clf.fit(X_train, y_train)\n",
        "\n",
        "# # Print the name and gini importance of each feature\n",
        "# for feature in zip(feature_labels, clf.feature_importances_):\n",
        "#     print(feature)\n",
        "\n",
        "\n",
        "\n",
        "# #  Supported criteria are “gini” for the Gini impurity and “entropy” for the information gain. \n",
        "\n",
        "# clf = RandomForestClassifier(n_estimators=10000, random_state=0,criterion='entropy', n_jobs=-1)\n",
        "\n",
        "# # Train the classifier\n",
        "# clf.fit(X_train, y_train)\n",
        "\n",
        "# # Print the name and gini importance of each feature\n",
        "# for feature in zip(feature_labels, clf.feature_importances_):\n",
        "#     print(feature)\n"
      ],
      "execution_count": 43,
      "outputs": []
    },
    {
      "cell_type": "code",
      "metadata": {
        "id": "0YjQfNDOxo1u",
        "colab_type": "code",
        "colab": {
          "base_uri": "https://localhost:8080/",
          "height": 479
        },
        "outputId": "76bac627-5fcb-45af-e654-ea3cd20cde5e"
      },
      "source": [
        "\n",
        "print(\"** Printing Houston county data for mild increment ** \")\n",
        "\n",
        "X = Suffolk_county_data_growth2[feature_labels]\n",
        "y = Suffolk_county_data_growth2[target_column]\n",
        "\n",
        "X_train, X_test, y_train, y_test = train_test_split(X, y, test_size=0.4, random_state=0)\n",
        "\n",
        "\n",
        "# Create a random forest classifier\n",
        "clf = RandomForestClassifier(n_estimators=10000, random_state=0, n_jobs=-1)\n",
        "\n",
        "# Train the classifier\n",
        "clf.fit(X_train, y_train)\n",
        "\n",
        "# Print the name and gini importance of each feature\n",
        "for feature in zip(feature_labels, clf.feature_importances_):\n",
        "    print(feature)\n",
        "\n",
        "\n",
        "\n",
        "#  Supported criteria are “gini” for the Gini impurity and “entropy” for the information gain. \n",
        "\n",
        "clf = RandomForestClassifier(n_estimators=10000, random_state=0,criterion='entropy', n_jobs=-1)\n",
        "\n",
        "# Train the classifier\n",
        "clf.fit(X_train, y_train)\n",
        "\n",
        "# Print the name and gini importance of each feature\n",
        "for feature in zip(feature_labels, clf.feature_importances_):\n",
        "    print(feature)\n"
      ],
      "execution_count": 44,
      "outputs": [
        {
          "output_type": "stream",
          "text": [
            "** Printing Houston county data for mild increment ** \n"
          ],
          "name": "stdout"
        },
        {
          "output_type": "stream",
          "text": [
            "/usr/local/lib/python3.6/dist-packages/ipykernel_launcher.py:14: DataConversionWarning: A column-vector y was passed when a 1d array was expected. Please change the shape of y to (n_samples,), for example using ravel().\n",
            "  \n"
          ],
          "name": "stderr"
        },
        {
          "output_type": "stream",
          "text": [
            "('retail and recreation', 0.0)\n",
            "('grocery and pharmacy', 0.0)\n",
            "('parks', 0.0)\n",
            "('transit stations', 0.0)\n",
            "('workplaces', 0.0)\n",
            "('residential', 0.0)\n",
            "('driving', 0.0)\n",
            "('m50', 0.0)\n",
            "('m50_index', 0.0)\n",
            "('population_density', 0.0)\n",
            "('mask_rule_active', 0.0)\n"
          ],
          "name": "stdout"
        },
        {
          "output_type": "stream",
          "text": [
            "/usr/local/lib/python3.6/dist-packages/ipykernel_launcher.py:27: DataConversionWarning: A column-vector y was passed when a 1d array was expected. Please change the shape of y to (n_samples,), for example using ravel().\n"
          ],
          "name": "stderr"
        },
        {
          "output_type": "stream",
          "text": [
            "('retail and recreation', 0.0)\n",
            "('grocery and pharmacy', 0.0)\n",
            "('parks', 0.0)\n",
            "('transit stations', 0.0)\n",
            "('workplaces', 0.0)\n",
            "('residential', 0.0)\n",
            "('driving', 0.0)\n",
            "('m50', 0.0)\n",
            "('m50_index', 0.0)\n",
            "('population_density', 0.0)\n",
            "('mask_rule_active', 0.0)\n"
          ],
          "name": "stdout"
        }
      ]
    },
    {
      "cell_type": "code",
      "metadata": {
        "id": "RWaOQxM2xrHe",
        "colab_type": "code",
        "colab": {
          "base_uri": "https://localhost:8080/",
          "height": 479
        },
        "outputId": "af5eb86a-ab91-4072-a219-daaed25a2f4c"
      },
      "source": [
        "\n",
        "print(\"** Printing Houston county data for mild increment ** \")\n",
        "\n",
        "X = Suffolk_county_data_growth3[feature_labels]\n",
        "y = Suffolk_county_data_growth3[target_column]\n",
        "\n",
        "X_train, X_test, y_train, y_test = train_test_split(X, y, test_size=0.4, random_state=0)\n",
        "\n",
        "\n",
        "# Create a random forest classifier\n",
        "clf = RandomForestClassifier(n_estimators=10000, random_state=0, n_jobs=-1)\n",
        "\n",
        "# Train the classifier\n",
        "clf.fit(X_train, y_train)\n",
        "\n",
        "# Print the name and gini importance of each feature\n",
        "for feature in zip(feature_labels, clf.feature_importances_):\n",
        "    print(feature)\n",
        "\n",
        "\n",
        "\n",
        "#  Supported criteria are “gini” for the Gini impurity and “entropy” for the information gain. \n",
        "\n",
        "clf = RandomForestClassifier(n_estimators=10000, random_state=0,criterion='entropy', n_jobs=-1)\n",
        "\n",
        "# Train the classifier\n",
        "clf.fit(X_train, y_train)\n",
        "\n",
        "# Print the name and gini importance of each feature\n",
        "for feature in zip(feature_labels, clf.feature_importances_):\n",
        "    print(feature)\n"
      ],
      "execution_count": 45,
      "outputs": [
        {
          "output_type": "stream",
          "text": [
            "** Printing Houston county data for mild increment ** \n"
          ],
          "name": "stdout"
        },
        {
          "output_type": "stream",
          "text": [
            "/usr/local/lib/python3.6/dist-packages/ipykernel_launcher.py:14: DataConversionWarning: A column-vector y was passed when a 1d array was expected. Please change the shape of y to (n_samples,), for example using ravel().\n",
            "  \n"
          ],
          "name": "stderr"
        },
        {
          "output_type": "stream",
          "text": [
            "('retail and recreation', 0.0)\n",
            "('grocery and pharmacy', 0.0)\n",
            "('parks', 0.0)\n",
            "('transit stations', 0.0)\n",
            "('workplaces', 0.0)\n",
            "('residential', 0.0)\n",
            "('driving', 0.0)\n",
            "('m50', 0.0)\n",
            "('m50_index', 0.0)\n",
            "('population_density', 0.0)\n",
            "('mask_rule_active', 0.0)\n"
          ],
          "name": "stdout"
        },
        {
          "output_type": "stream",
          "text": [
            "/usr/local/lib/python3.6/dist-packages/ipykernel_launcher.py:27: DataConversionWarning: A column-vector y was passed when a 1d array was expected. Please change the shape of y to (n_samples,), for example using ravel().\n"
          ],
          "name": "stderr"
        },
        {
          "output_type": "stream",
          "text": [
            "('retail and recreation', 0.0)\n",
            "('grocery and pharmacy', 0.0)\n",
            "('parks', 0.0)\n",
            "('transit stations', 0.0)\n",
            "('workplaces', 0.0)\n",
            "('residential', 0.0)\n",
            "('driving', 0.0)\n",
            "('m50', 0.0)\n",
            "('m50_index', 0.0)\n",
            "('population_density', 0.0)\n",
            "('mask_rule_active', 0.0)\n"
          ],
          "name": "stdout"
        }
      ]
    },
    {
      "cell_type": "code",
      "metadata": {
        "id": "3g3uiDs7xs89",
        "colab_type": "code",
        "colab": {
          "base_uri": "https://localhost:8080/",
          "height": 479
        },
        "outputId": "03314d7e-fe7a-446c-9a7b-f40c6a1c3229"
      },
      "source": [
        "\n",
        "print(\"** Printing Houston county data for mild increment ** \")\n",
        "\n",
        "X = Suffolk_county_data_growth4[feature_labels]\n",
        "y = Suffolk_county_data_growth4[target_column]\n",
        "\n",
        "X_train, X_test, y_train, y_test = train_test_split(X, y, test_size=0.4, random_state=0)\n",
        "\n",
        "\n",
        "# Create a random forest classifier\n",
        "clf = RandomForestClassifier(n_estimators=10000, random_state=0, n_jobs=-1)\n",
        "\n",
        "# Train the classifier\n",
        "clf.fit(X_train, y_train)\n",
        "\n",
        "# Print the name and gini importance of each feature\n",
        "for feature in zip(feature_labels, clf.feature_importances_):\n",
        "    print(feature)\n",
        "\n",
        "\n",
        "\n",
        "#  Supported criteria are “gini” for the Gini impurity and “entropy” for the information gain. \n",
        "\n",
        "clf = RandomForestClassifier(n_estimators=10000, random_state=0,criterion='entropy', n_jobs=-1)\n",
        "\n",
        "# Train the classifier\n",
        "clf.fit(X_train, y_train)\n",
        "\n",
        "# Print the name and gini importance of each feature\n",
        "for feature in zip(feature_labels, clf.feature_importances_):\n",
        "    print(feature)\n"
      ],
      "execution_count": 46,
      "outputs": [
        {
          "output_type": "stream",
          "text": [
            "** Printing Houston county data for mild increment ** \n"
          ],
          "name": "stdout"
        },
        {
          "output_type": "stream",
          "text": [
            "/usr/local/lib/python3.6/dist-packages/ipykernel_launcher.py:14: DataConversionWarning: A column-vector y was passed when a 1d array was expected. Please change the shape of y to (n_samples,), for example using ravel().\n",
            "  \n"
          ],
          "name": "stderr"
        },
        {
          "output_type": "stream",
          "text": [
            "('retail and recreation', 0.0)\n",
            "('grocery and pharmacy', 0.0)\n",
            "('parks', 0.0)\n",
            "('transit stations', 0.0)\n",
            "('workplaces', 0.0)\n",
            "('residential', 0.0)\n",
            "('driving', 0.0)\n",
            "('m50', 0.0)\n",
            "('m50_index', 0.0)\n",
            "('population_density', 0.0)\n",
            "('mask_rule_active', 0.0)\n"
          ],
          "name": "stdout"
        },
        {
          "output_type": "stream",
          "text": [
            "/usr/local/lib/python3.6/dist-packages/ipykernel_launcher.py:27: DataConversionWarning: A column-vector y was passed when a 1d array was expected. Please change the shape of y to (n_samples,), for example using ravel().\n"
          ],
          "name": "stderr"
        },
        {
          "output_type": "stream",
          "text": [
            "('retail and recreation', 0.0)\n",
            "('grocery and pharmacy', 0.0)\n",
            "('parks', 0.0)\n",
            "('transit stations', 0.0)\n",
            "('workplaces', 0.0)\n",
            "('residential', 0.0)\n",
            "('driving', 0.0)\n",
            "('m50', 0.0)\n",
            "('m50_index', 0.0)\n",
            "('population_density', 0.0)\n",
            "('mask_rule_active', 0.0)\n"
          ],
          "name": "stdout"
        }
      ]
    },
    {
      "cell_type": "markdown",
      "metadata": {
        "id": "QXZrN9u4z3Sr",
        "colab_type": "text"
      },
      "source": [
        "# Growth label-wise feature selection"
      ]
    },
    {
      "cell_type": "code",
      "metadata": {
        "id": "ZpSscMnxz-hT",
        "colab_type": "code",
        "colab": {
          "base_uri": "https://localhost:8080/",
          "height": 102
        },
        "outputId": "5621ff0f-afc9-48d2-ea1b-6081d6e02614"
      },
      "source": [
        "NY_labeled_data_growth1 = NY_labeled_data[NY_labeled_data['growth_code'] == 0]\n",
        "NY_labeled_data_growth2 = NY_labeled_data[NY_labeled_data['growth_code'] == 1]\n",
        "NY_labeled_data_growth3 = NY_labeled_data[NY_labeled_data['growth_code'] == 2]\n",
        "NY_labeled_data_growth4 = NY_labeled_data[NY_labeled_data['growth_code'] == 3]\n",
        "NY_labeled_data_growth5 = NY_labeled_data[NY_labeled_data['growth_code'] == 4]\n",
        "\n",
        "print(NY_labeled_data_growth1.shape)\n",
        "print(NY_labeled_data_growth2.shape)\n",
        "print(NY_labeled_data_growth3.shape)\n",
        "print(NY_labeled_data_growth4.shape)\n",
        "print(NY_labeled_data_growth5.shape)"
      ],
      "execution_count": 47,
      "outputs": [
        {
          "output_type": "stream",
          "text": [
            "(440, 21)\n",
            "(508, 21)\n",
            "(11762, 21)\n",
            "(29592, 21)\n",
            "(31194, 21)\n"
          ],
          "name": "stdout"
        }
      ]
    },
    {
      "cell_type": "markdown",
      "metadata": {
        "id": "0dBCTdfh2--Z",
        "colab_type": "text"
      },
      "source": [
        "### Growth label : 0 -> drastic decrement"
      ]
    },
    {
      "cell_type": "code",
      "metadata": {
        "id": "4bvzAkZkz7bC",
        "colab_type": "code",
        "colab": {
          "base_uri": "https://localhost:8080/",
          "height": 768
        },
        "outputId": "e6596720-f645-4c63-b6dd-a4881a43f91f"
      },
      "source": [
        "\n",
        "print(\"** Printing NY all county data for mild increment ** \")\n",
        "print(NY_labeled_data_growth1.shape)\n",
        "X = NY_labeled_data_growth1[feature_labels]\n",
        "y = NY_labeled_data_growth1[target_column]\n",
        "\n",
        "X_train, X_test, y_train, y_test = train_test_split(X, y, test_size=0.4, random_state=0)\n",
        "\n",
        "\n",
        "# Create a random forest classifier\n",
        "clf = RandomForestClassifier(n_estimators=10000, random_state=0, n_jobs=-1)\n",
        "\n",
        "# Train the classifier\n",
        "clf.fit(X_train, y_train)\n",
        "\n",
        "# Print the name and gini importance of each feature\n",
        "for feature in zip(feature_labels, clf.feature_importances_):\n",
        "    print(feature)\n",
        "\n",
        "\n",
        "\n",
        "#  Supported criteria are “gini” for the Gini impurity and “entropy” for the information gain. \n",
        "\n",
        "clf = RandomForestClassifier(n_estimators=10000, random_state=0,criterion='entropy', n_jobs=-1)\n",
        "\n",
        "# Train the classifier\n",
        "clf.fit(X_train, y_train)\n",
        "\n",
        "# Print the name and gini importance of each feature\n",
        "for feature in zip(feature_labels, clf.feature_importances_):\n",
        "    print(feature)\n",
        "\n",
        "\n",
        "model = ExtraTreesClassifier()\n",
        "model.fit(X, y.values.ravel())\n",
        "# display the relative importance of each attribute\n",
        "print(model.feature_importances_)\n",
        "\n",
        "\n",
        "# create the RFE model and select 3 attributes\n",
        "rfe = RFE(model, 3)\n",
        "rfe = rfe.fit(X, y.values.ravel())\n",
        "# summarize the selection of the attributes\n",
        "print(rfe.support_)\n",
        "for index in range(len(rfe.ranking_)):\n",
        "  print(feature_labels[index], rfe.ranking_[index])\n",
        "\n",
        "print(rfe.ranking_)\n",
        "print(rfe.n_features_)\n",
        "rfe.n_features_to_select\n"
      ],
      "execution_count": 48,
      "outputs": [
        {
          "output_type": "stream",
          "text": [
            "** Printing NY all county data for mild increment ** \n",
            "(440, 21)\n"
          ],
          "name": "stdout"
        },
        {
          "output_type": "stream",
          "text": [
            "/usr/local/lib/python3.6/dist-packages/ipykernel_launcher.py:14: DataConversionWarning: A column-vector y was passed when a 1d array was expected. Please change the shape of y to (n_samples,), for example using ravel().\n",
            "  \n"
          ],
          "name": "stderr"
        },
        {
          "output_type": "stream",
          "text": [
            "('retail and recreation', 0.0)\n",
            "('grocery and pharmacy', 0.0)\n",
            "('parks', 0.0)\n",
            "('transit stations', 0.0)\n",
            "('workplaces', 0.0)\n",
            "('residential', 0.0)\n",
            "('driving', 0.0)\n",
            "('m50', 0.0)\n",
            "('m50_index', 0.0)\n",
            "('population_density', 0.0)\n",
            "('mask_rule_active', 0.0)\n"
          ],
          "name": "stdout"
        },
        {
          "output_type": "stream",
          "text": [
            "/usr/local/lib/python3.6/dist-packages/ipykernel_launcher.py:27: DataConversionWarning: A column-vector y was passed when a 1d array was expected. Please change the shape of y to (n_samples,), for example using ravel().\n"
          ],
          "name": "stderr"
        },
        {
          "output_type": "stream",
          "text": [
            "('retail and recreation', 0.0)\n",
            "('grocery and pharmacy', 0.0)\n",
            "('parks', 0.0)\n",
            "('transit stations', 0.0)\n",
            "('workplaces', 0.0)\n",
            "('residential', 0.0)\n",
            "('driving', 0.0)\n",
            "('m50', 0.0)\n",
            "('m50_index', 0.0)\n",
            "('population_density', 0.0)\n",
            "('mask_rule_active', 0.0)\n",
            "[0. 0. 0. 0. 0. 0. 0. 0. 0. 0. 0.]\n",
            "[False False False False False False False False  True  True  True]\n",
            "retail and recreation 9\n",
            "grocery and pharmacy 8\n",
            "parks 7\n",
            "transit stations 6\n",
            "workplaces 5\n",
            "residential 4\n",
            "driving 3\n",
            "m50 2\n",
            "m50_index 1\n",
            "population_density 1\n",
            "mask_rule_active 1\n",
            "[9 8 7 6 5 4 3 2 1 1 1]\n",
            "3\n"
          ],
          "name": "stdout"
        },
        {
          "output_type": "execute_result",
          "data": {
            "text/plain": [
              "3"
            ]
          },
          "metadata": {
            "tags": []
          },
          "execution_count": 48
        }
      ]
    },
    {
      "cell_type": "markdown",
      "metadata": {
        "id": "vt4EVRMw24sP",
        "colab_type": "text"
      },
      "source": [
        "### Growth label : 1 -> drastic growth"
      ]
    },
    {
      "cell_type": "code",
      "metadata": {
        "id": "mU1jl-W70iv_",
        "colab_type": "code",
        "colab": {
          "base_uri": "https://localhost:8080/",
          "height": 802
        },
        "outputId": "f8ddc240-9b0e-4c35-bd95-60f4b9474e2f"
      },
      "source": [
        "\n",
        "print(\"** Printing NY all county data for drastic growth ** \")\n",
        "print(NY_labeled_data_growth2.shape)\n",
        "X = NY_labeled_data_growth2[feature_labels]\n",
        "y = NY_labeled_data_growth2[target_column]\n",
        "\n",
        "X_train, X_test, y_train, y_test = train_test_split(X, y, test_size=0.2, random_state=0)\n",
        "\n",
        "\n",
        "# Create a random forest classifier\n",
        "clf = RandomForestClassifier(n_estimators=10000, random_state=0, n_jobs=-1)\n",
        "\n",
        "# Train the classifier\n",
        "clf.fit(X_train, y_train)\n",
        "\n",
        "# Print the name and gini importance of each feature\n",
        "for feature in zip(feature_labels, clf.feature_importances_):\n",
        "    print(feature)\n",
        "\n",
        "\n",
        "\n",
        "#  Supported criteria are “gini” for the Gini impurity and “entropy” for the information gain. \n",
        "\n",
        "clf = RandomForestClassifier(n_estimators=10000, random_state=0,criterion='entropy', n_jobs=-1)\n",
        "\n",
        "# Train the classifier\n",
        "clf.fit(X_train, y_train)\n",
        "\n",
        "# Print the name and gini importance of each feature\n",
        "for feature in zip(feature_labels, clf.feature_importances_):\n",
        "    print(feature)\n",
        "\n",
        "model = ExtraTreesClassifier()\n",
        "model.fit(X, y.values.ravel())\n",
        "# display the relative importance of each attribute\n",
        "print(model.feature_importances_)\n",
        "\n",
        "\n",
        "# create the RFE model and select 3 attributes\n",
        "rfe = RFE(model, 3)\n",
        "rfe = rfe.fit(X, y.values.ravel())\n",
        "# summarize the selection of the attributes\n",
        "print(rfe.support_)\n",
        "print(\"Printing feature ranking \")\n",
        "for index in range(len(rfe.ranking_)):\n",
        "  print(feature_labels[index], rfe.ranking_[index])\n",
        "\n",
        "print(rfe.ranking_)\n",
        "print(rfe.n_features_)\n",
        "rfe.n_features_to_select\n"
      ],
      "execution_count": 49,
      "outputs": [
        {
          "output_type": "stream",
          "text": [
            "** Printing NY all county data for drastic growth ** \n",
            "(508, 21)\n"
          ],
          "name": "stdout"
        },
        {
          "output_type": "stream",
          "text": [
            "/usr/local/lib/python3.6/dist-packages/ipykernel_launcher.py:14: DataConversionWarning: A column-vector y was passed when a 1d array was expected. Please change the shape of y to (n_samples,), for example using ravel().\n",
            "  \n"
          ],
          "name": "stderr"
        },
        {
          "output_type": "stream",
          "text": [
            "('retail and recreation', 0.03201509852254878)\n",
            "('grocery and pharmacy', 0.031196902821800068)\n",
            "('parks', 0.05854734787289687)\n",
            "('transit stations', 0.059933047678870456)\n",
            "('workplaces', 0.02585620679110204)\n",
            "('residential', 0.09202719715898297)\n",
            "('driving', 0.04415086486784042)\n",
            "('m50', 0.0857467326079169)\n",
            "('m50_index', 0.05139069715353563)\n",
            "('population_density', 0.5117321767137887)\n",
            "('mask_rule_active', 0.007403727810717232)\n"
          ],
          "name": "stdout"
        },
        {
          "output_type": "stream",
          "text": [
            "/usr/local/lib/python3.6/dist-packages/ipykernel_launcher.py:27: DataConversionWarning: A column-vector y was passed when a 1d array was expected. Please change the shape of y to (n_samples,), for example using ravel().\n"
          ],
          "name": "stderr"
        },
        {
          "output_type": "stream",
          "text": [
            "('retail and recreation', 0.030228852845104362)\n",
            "('grocery and pharmacy', 0.029159119632127684)\n",
            "('parks', 0.05015605418676741)\n",
            "('transit stations', 0.05728052119138343)\n",
            "('workplaces', 0.02498667270365061)\n",
            "('residential', 0.07926126076304259)\n",
            "('driving', 0.052643744479404085)\n",
            "('m50', 0.09488775658366794)\n",
            "('m50_index', 0.058202842264439794)\n",
            "('population_density', 0.5154974542788474)\n",
            "('mask_rule_active', 0.007695721071564659)\n",
            "[0.04542374 0.04240061 0.07530003 0.05756425 0.04026374 0.13438507\n",
            " 0.05899232 0.08859217 0.06639257 0.3746162  0.0160693 ]\n",
            "[False False False False False  True False False  True  True False]\n",
            "Printing feature ranking \n",
            "retail and recreation 6\n",
            "grocery and pharmacy 7\n",
            "parks 3\n",
            "transit stations 4\n",
            "workplaces 8\n",
            "residential 1\n",
            "driving 5\n",
            "m50 2\n",
            "m50_index 1\n",
            "population_density 1\n",
            "mask_rule_active 9\n",
            "[6 7 3 4 8 1 5 2 1 1 9]\n",
            "3\n"
          ],
          "name": "stdout"
        },
        {
          "output_type": "execute_result",
          "data": {
            "text/plain": [
              "3"
            ]
          },
          "metadata": {
            "tags": []
          },
          "execution_count": 49
        }
      ]
    },
    {
      "cell_type": "markdown",
      "metadata": {
        "id": "pnxhk1m13Eci",
        "colab_type": "text"
      },
      "source": [
        "### Growth label : 2 -> Flat"
      ]
    },
    {
      "cell_type": "code",
      "metadata": {
        "id": "AbSlaQ8S0k9p",
        "colab_type": "code",
        "colab": {
          "base_uri": "https://localhost:8080/",
          "height": 768
        },
        "outputId": "5a58cb57-38da-4776-d01c-319ca544f2cb"
      },
      "source": [
        "\n",
        "print(\"** Printing NY all county data for flat ** \")\n",
        "\n",
        "X = NY_labeled_data_growth3[feature_labels]\n",
        "y = NY_labeled_data_growth3[target_column]\n",
        "print(X.shape)\n",
        "\n",
        "X_train, X_test, y_train, y_test = train_test_split(X, y, test_size=0.2, random_state=0)\n",
        "\n",
        "\n",
        "# Create a random forest classifier\n",
        "clf = RandomForestClassifier(n_estimators=10000, random_state=0, n_jobs=-1)\n",
        "\n",
        "# Train the classifier\n",
        "clf.fit(X_train, y_train)\n",
        "\n",
        "# Print the name and gini importance of each feature\n",
        "for feature in zip(feature_labels, clf.feature_importances_):\n",
        "    print(feature)\n",
        "\n",
        "\n",
        "\n",
        "#  Supported criteria are “gini” for the Gini impurity and “entropy” for the information gain. \n",
        "\n",
        "clf = RandomForestClassifier(n_estimators=10000, random_state=0,criterion='entropy', n_jobs=-1)\n",
        "\n",
        "# Train the classifier\n",
        "clf.fit(X_train, y_train)\n",
        "\n",
        "# Print the name and gini importance of each feature\n",
        "for feature in zip(feature_labels, clf.feature_importances_):\n",
        "    print(feature)\n",
        "\n",
        "\n",
        "model = ExtraTreesClassifier()\n",
        "model.fit(X, y.values.ravel())\n",
        "# display the relative importance of each attribute\n",
        "print(model.feature_importances_)\n",
        "\n",
        "\n",
        "# create the RFE model and select 3 attributes\n",
        "rfe = RFE(model, 3)\n",
        "rfe = rfe.fit(X, y.values.ravel())\n",
        "# summarize the selection of the attributes\n",
        "print(rfe.support_)\n",
        "for index in range(len(rfe.ranking_)):\n",
        "  print(feature_labels[index], rfe.ranking_[index])\n",
        "\n",
        "print(rfe.ranking_)\n",
        "print(rfe.n_features_)\n",
        "rfe.n_features_to_select\n"
      ],
      "execution_count": 50,
      "outputs": [
        {
          "output_type": "stream",
          "text": [
            "** Printing NY all county data for flat ** \n",
            "(11762, 11)\n"
          ],
          "name": "stdout"
        },
        {
          "output_type": "stream",
          "text": [
            "/usr/local/lib/python3.6/dist-packages/ipykernel_launcher.py:15: DataConversionWarning: A column-vector y was passed when a 1d array was expected. Please change the shape of y to (n_samples,), for example using ravel().\n",
            "  from ipykernel import kernelapp as app\n"
          ],
          "name": "stderr"
        },
        {
          "output_type": "stream",
          "text": [
            "('retail and recreation', 0.0)\n",
            "('grocery and pharmacy', 0.0)\n",
            "('parks', 0.0)\n",
            "('transit stations', 0.0)\n",
            "('workplaces', 0.0)\n",
            "('residential', 0.0)\n",
            "('driving', 0.0)\n",
            "('m50', 0.0)\n",
            "('m50_index', 0.0)\n",
            "('population_density', 0.0)\n",
            "('mask_rule_active', 0.0)\n"
          ],
          "name": "stdout"
        },
        {
          "output_type": "stream",
          "text": [
            "/usr/local/lib/python3.6/dist-packages/ipykernel_launcher.py:28: DataConversionWarning: A column-vector y was passed when a 1d array was expected. Please change the shape of y to (n_samples,), for example using ravel().\n"
          ],
          "name": "stderr"
        },
        {
          "output_type": "stream",
          "text": [
            "('retail and recreation', 0.0)\n",
            "('grocery and pharmacy', 0.0)\n",
            "('parks', 0.0)\n",
            "('transit stations', 0.0)\n",
            "('workplaces', 0.0)\n",
            "('residential', 0.0)\n",
            "('driving', 0.0)\n",
            "('m50', 0.0)\n",
            "('m50_index', 0.0)\n",
            "('population_density', 0.0)\n",
            "('mask_rule_active', 0.0)\n",
            "[0. 0. 0. 0. 0. 0. 0. 0. 0. 0. 0.]\n",
            "[False False False False False False False False  True  True  True]\n",
            "retail and recreation 9\n",
            "grocery and pharmacy 8\n",
            "parks 7\n",
            "transit stations 6\n",
            "workplaces 5\n",
            "residential 4\n",
            "driving 3\n",
            "m50 2\n",
            "m50_index 1\n",
            "population_density 1\n",
            "mask_rule_active 1\n",
            "[9 8 7 6 5 4 3 2 1 1 1]\n",
            "3\n"
          ],
          "name": "stdout"
        },
        {
          "output_type": "execute_result",
          "data": {
            "text/plain": [
              "3"
            ]
          },
          "metadata": {
            "tags": []
          },
          "execution_count": 50
        }
      ]
    },
    {
      "cell_type": "markdown",
      "metadata": {
        "id": "O6QFTSg53H6H",
        "colab_type": "text"
      },
      "source": [
        "### Growth label : 3 -> mild decrement"
      ]
    },
    {
      "cell_type": "code",
      "metadata": {
        "id": "i-oibbGq0oex",
        "colab_type": "code",
        "colab": {
          "base_uri": "https://localhost:8080/",
          "height": 0
        },
        "outputId": "905d567a-e9a2-4bb5-bab2-5c03121019d3"
      },
      "source": [
        "\n",
        "print(\"** Printing NY all county data for mild decrement ** \")\n",
        "\n",
        "X = NY_labeled_data_growth4[feature_labels]\n",
        "y = NY_labeled_data_growth4[target_column]\n",
        "print(X.shape)\n",
        "\n",
        "X_train, X_test, y_train, y_test = train_test_split(X, y, test_size=0.4, random_state=0)\n",
        "\n",
        "\n",
        "# Create a random forest classifier\n",
        "clf = RandomForestClassifier(n_estimators=100, random_state=0, n_jobs=-1, min_samples_leaf= 20)\n",
        "\n",
        "# Train the classifier\n",
        "clf.fit(X_train, y_train)\n",
        "\n",
        "# Print the name and gini importance of each feature\n",
        "for feature in zip(feature_labels, clf.feature_importances_):\n",
        "    print(feature)\n",
        "\n",
        "\n",
        "\n",
        "#  Supported criteria are “gini” for the Gini impurity and “entropy” for the information gain. \n",
        "from sklearn.tree import DecisionTreeClassifier \n",
        "#clf = RandomForestClassifier(n_estimators=10000, random_state=0,criterion='entropy', n_jobs=-1)\n",
        "rf = DecisionTreeClassifier(random_state = 42)\n",
        "# Train the classifier\n",
        "rf.fit(X_train, y_train)\n",
        "\n",
        "# Print the name and gini importance of each feature\n",
        "for feature in zip(feature_labels, rf.feature_importances_):\n",
        "    print(feature)\n",
        "\n",
        "model = ExtraTreesClassifier()\n",
        "model.fit(X, y.values.ravel())\n",
        "# display the relative importance of each attribute\n",
        "print(model.feature_importances_)\n",
        "\n",
        "\n",
        "# create the RFE model and select 3 attributes\n",
        "rfe = RFE(model, 3)\n",
        "rfe = rfe.fit(X, y.values.ravel())\n",
        "# summarize the selection of the attributes\n",
        "print(rfe.support_)\n",
        "for index in range(len(rfe.ranking_)):\n",
        "  print(feature_labels[index], rfe.ranking_[index])\n",
        "\n",
        "#print(rfe.ranking_)\n",
        "print(rfe.n_features_)\n",
        "rfe.n_features_to_select"
      ],
      "execution_count": 51,
      "outputs": [
        {
          "output_type": "stream",
          "text": [
            "** Printing NY all county data for mild decrement ** \n",
            "(29592, 11)\n"
          ],
          "name": "stdout"
        },
        {
          "output_type": "stream",
          "text": [
            "/usr/local/lib/python3.6/dist-packages/ipykernel_launcher.py:15: DataConversionWarning: A column-vector y was passed when a 1d array was expected. Please change the shape of y to (n_samples,), for example using ravel().\n",
            "  from ipykernel import kernelapp as app\n"
          ],
          "name": "stderr"
        },
        {
          "output_type": "stream",
          "text": [
            "('retail and recreation', 0.12331919528593444)\n",
            "('grocery and pharmacy', 0.24103315613317836)\n",
            "('parks', 0.025468078913423703)\n",
            "('transit stations', 0.06460034651769071)\n",
            "('workplaces', 0.02687257676021801)\n",
            "('residential', 0.062368960679176716)\n",
            "('driving', 0.07963000647737699)\n",
            "('m50', 0.10691930195202093)\n",
            "('m50_index', 0.0757437604612566)\n",
            "('population_density', 0.19386710191737794)\n",
            "('mask_rule_active', 0.0001775149023457504)\n",
            "('retail and recreation', 0.06892537977201821)\n",
            "('grocery and pharmacy', 0.2354233490367704)\n",
            "('parks', 0.02042841390403108)\n",
            "('transit stations', 0.016088995266183518)\n",
            "('workplaces', 0.0469590864682701)\n",
            "('residential', 0.11600300788559204)\n",
            "('driving', 0.06901544636046034)\n",
            "('m50', 0.05899298264267288)\n",
            "('m50_index', 0.16603344009295323)\n",
            "('population_density', 0.20212989857104818)\n",
            "('mask_rule_active', 0.0)\n",
            "[0.16241957 0.14803071 0.05631136 0.08958903 0.06964939 0.07507706\n",
            " 0.1011339  0.06968681 0.07934977 0.14490085 0.00385155]\n",
            "[ True  True False False False False False False False  True False]\n",
            "retail and recreation 1\n",
            "grocery and pharmacy 1\n",
            "parks 8\n",
            "transit stations 2\n",
            "workplaces 7\n",
            "residential 5\n",
            "driving 3\n",
            "m50 6\n",
            "m50_index 4\n",
            "population_density 1\n",
            "mask_rule_active 9\n",
            "3\n"
          ],
          "name": "stdout"
        },
        {
          "output_type": "execute_result",
          "data": {
            "text/plain": [
              "3"
            ]
          },
          "metadata": {
            "tags": []
          },
          "execution_count": 51
        }
      ]
    },
    {
      "cell_type": "markdown",
      "metadata": {
        "id": "zFfV6n5f3m6Q",
        "colab_type": "text"
      },
      "source": [
        "### Growth label : 4 -> mild increment"
      ]
    },
    {
      "cell_type": "code",
      "metadata": {
        "id": "9hKoaaBSrnyP",
        "colab_type": "code",
        "colab": {
          "base_uri": "https://localhost:8080/",
          "height": 785
        },
        "outputId": "ae978e72-34a8-4518-d1df-5600279d7fb7"
      },
      "source": [
        "\n",
        "print(\"** Printing NY all county data for mild increment ** \")\n",
        "\n",
        "X = NY_labeled_data_growth5[feature_labels]\n",
        "y = NY_labeled_data_growth5[target_column]\n",
        "print(X.shape)\n",
        "\n",
        "X_train, X_test, y_train, y_test = train_test_split(X, y, test_size=0.2, random_state=0)\n",
        "\n",
        "\n",
        "# Create a random forest classifier\n",
        "clf = RandomForestClassifier(n_estimators=10000, random_state=0, n_jobs=-1)\n",
        "\n",
        "# Train the classifier\n",
        "clf.fit(X_train, y_train)\n",
        "\n",
        "# Print the name and gini importance of each feature\n",
        "for feature in zip(feature_labels, clf.feature_importances_):\n",
        "    print(feature)\n",
        "\n",
        "\n",
        "\n",
        "#  Supported criteria are “gini” for the Gini impurity and “entropy” for the information gain. \n",
        "\n",
        "clf = RandomForestClassifier(n_estimators=10000, random_state=0,criterion='entropy', n_jobs=-1)\n",
        "\n",
        "# Train the classifier\n",
        "clf.fit(X_train, y_train)\n",
        "\n",
        "# Print the name and gini importance of each feature\n",
        "for feature in zip(feature_labels, clf.feature_importances_):\n",
        "    print(feature)\n",
        "\n",
        "\n",
        "model = ExtraTreesClassifier()\n",
        "model.fit(X, y.values.ravel())\n",
        "# display the relative importance of each attribute\n",
        "print(model.feature_importances_)\n",
        "\n",
        "\n",
        "# create the RFE model and select 3 attributes\n",
        "rfe = RFE(model, 3)\n",
        "rfe = rfe.fit(X, y.values.ravel())\n",
        "# summarize the selection of the attributes\n",
        "print(rfe.support_)\n",
        "for index in range(len(rfe.ranking_)):\n",
        "  print(feature_labels[index], rfe.ranking_[index])\n",
        "\n",
        "print(rfe.ranking_)\n",
        "print(rfe.n_features_)\n",
        "rfe.n_features_to_select\n"
      ],
      "execution_count": 52,
      "outputs": [
        {
          "output_type": "stream",
          "text": [
            "** Printing NY all county data for mild increment ** \n",
            "(31194, 11)\n"
          ],
          "name": "stdout"
        },
        {
          "output_type": "stream",
          "text": [
            "/usr/local/lib/python3.6/dist-packages/ipykernel_launcher.py:15: DataConversionWarning: A column-vector y was passed when a 1d array was expected. Please change the shape of y to (n_samples,), for example using ravel().\n",
            "  from ipykernel import kernelapp as app\n"
          ],
          "name": "stderr"
        },
        {
          "output_type": "stream",
          "text": [
            "('retail and recreation', 0.07421753860216992)\n",
            "('grocery and pharmacy', 0.06483117881906797)\n",
            "('parks', 0.0351280716309974)\n",
            "('transit stations', 0.05586385623800872)\n",
            "('workplaces', 0.1060789682009799)\n",
            "('residential', 0.03423211798180868)\n",
            "('driving', 0.15726594058251392)\n",
            "('m50', 0.14454841668475826)\n",
            "('m50_index', 0.11593306397034855)\n",
            "('population_density', 0.19759714149956042)\n",
            "('mask_rule_active', 0.014303705789786207)\n"
          ],
          "name": "stdout"
        },
        {
          "output_type": "stream",
          "text": [
            "/usr/local/lib/python3.6/dist-packages/ipykernel_launcher.py:28: DataConversionWarning: A column-vector y was passed when a 1d array was expected. Please change the shape of y to (n_samples,), for example using ravel().\n"
          ],
          "name": "stderr"
        },
        {
          "output_type": "stream",
          "text": [
            "('retail and recreation', 0.07310505554583056)\n",
            "('grocery and pharmacy', 0.05295437635680186)\n",
            "('parks', 0.028308772873170403)\n",
            "('transit stations', 0.05877516626093694)\n",
            "('workplaces', 0.09129386499870686)\n",
            "('residential', 0.033266351046018064)\n",
            "('driving', 0.16521888386930908)\n",
            "('m50', 0.12954990299679645)\n",
            "('m50_index', 0.10544368371508406)\n",
            "('population_density', 0.21796836924240623)\n",
            "('mask_rule_active', 0.044115573094939464)\n",
            "[0.08309702 0.06720035 0.04174371 0.06325428 0.12075408 0.0437967\n",
            " 0.14065762 0.13463851 0.12801725 0.1590321  0.01780839]\n",
            "[False False False False False False  True  True False  True False]\n",
            "retail and recreation 4\n",
            "grocery and pharmacy 5\n",
            "parks 8\n",
            "transit stations 6\n",
            "workplaces 3\n",
            "residential 7\n",
            "driving 1\n",
            "m50 1\n",
            "m50_index 2\n",
            "population_density 1\n",
            "mask_rule_active 9\n",
            "[4 5 8 6 3 7 1 1 2 1 9]\n",
            "3\n"
          ],
          "name": "stdout"
        },
        {
          "output_type": "execute_result",
          "data": {
            "text/plain": [
              "3"
            ]
          },
          "metadata": {
            "tags": []
          },
          "execution_count": 52
        }
      ]
    },
    {
      "cell_type": "markdown",
      "metadata": {
        "id": "84sZVkiWt61B",
        "colab_type": "text"
      },
      "source": [
        "# Verifying Maryland University inertia data"
      ]
    },
    {
      "cell_type": "markdown",
      "metadata": {
        "id": "IHqZs_fKuCPu",
        "colab_type": "text"
      },
      "source": [
        "## Load data"
      ]
    },
    {
      "cell_type": "code",
      "metadata": {
        "id": "rCI70Zs6uIVa",
        "colab_type": "code",
        "colab": {
          "base_uri": "https://localhost:8080/",
          "height": 85
        },
        "outputId": "df7b35fa-49e2-41ec-c400-4bc30a21315e"
      },
      "source": [
        "!ls '/content/drive/Shared drives/CMPE 295- Master Project/Covid19-data/'"
      ],
      "execution_count": 53,
      "outputs": [
        {
          "output_type": "stream",
          "text": [
            "Maryland_University_SocialDistancing_Data  TX_labeledData_Sep16.csv\n",
            "NY_sd_inertia_labeledData_Sep13.csv\t   TX_labeledData_Sep17.csv\n",
            "queens_all_combined.csv\t\t\t   TX_sd_inertia_labeledData_Sep18.csv\n",
            "Social_Distancing_Inertia_County.csv\n"
          ],
          "name": "stdout"
        }
      ]
    },
    {
      "cell_type": "code",
      "metadata": {
        "id": "LK24exOvt_Ud",
        "colab_type": "code",
        "colab": {
          "base_uri": "https://localhost:8080/",
          "height": 34
        },
        "outputId": "d973f0a1-a210-46ab-95f4-0c437515d190"
      },
      "source": [
        "NY_labeled_data_inertia = pd.read_csv('/content/drive/Shared drives/CMPE 295- Master Project/Covid19-data/TX_sd_inertia_labeledData_Sep18.csv',low_memory=False)\n",
        "print(NY_labeled_data_inertia.shape)"
      ],
      "execution_count": 54,
      "outputs": [
        {
          "output_type": "stream",
          "text": [
            "(53212, 56)\n"
          ],
          "name": "stdout"
        }
      ]
    },
    {
      "cell_type": "markdown",
      "metadata": {
        "id": "KqtPQucIup3O",
        "colab_type": "text"
      },
      "source": [
        "## Preprocessing data"
      ]
    },
    {
      "cell_type": "code",
      "metadata": {
        "id": "TESPtOlBuvKD",
        "colab_type": "code",
        "colab": {
          "base_uri": "https://localhost:8080/",
          "height": 154
        },
        "outputId": "3178dc53-14f3-4899-fad6-085cafd7497d"
      },
      "source": [
        "NY_labeled_data_inertia = NY_labeled_data_inertia.dropna()\n",
        "NY_labeled_data_inertia[pd.isna(NY_labeled_data_inertia['label'])]\n"
      ],
      "execution_count": 55,
      "outputs": [
        {
          "output_type": "execute_result",
          "data": {
            "text/html": [
              "<div>\n",
              "<style scoped>\n",
              "    .dataframe tbody tr th:only-of-type {\n",
              "        vertical-align: middle;\n",
              "    }\n",
              "\n",
              "    .dataframe tbody tr th {\n",
              "        vertical-align: top;\n",
              "    }\n",
              "\n",
              "    .dataframe thead th {\n",
              "        text-align: right;\n",
              "    }\n",
              "</style>\n",
              "<table border=\"1\" class=\"dataframe\">\n",
              "  <thead>\n",
              "    <tr style=\"text-align: right;\">\n",
              "      <th></th>\n",
              "      <th>Date</th>\n",
              "      <th>Province_State</th>\n",
              "      <th>FIPS</th>\n",
              "      <th>New cases</th>\n",
              "      <th>mask_rule_active</th>\n",
              "      <th>CTFIPS</th>\n",
              "      <th>CTNAME</th>\n",
              "      <th>STFIPS</th>\n",
              "      <th>Social distancing index</th>\n",
              "      <th>% staying home</th>\n",
              "      <th>Trips/person</th>\n",
              "      <th>% out-of-county trips</th>\n",
              "      <th>% out-of-state trips</th>\n",
              "      <th>Miles/person</th>\n",
              "      <th>Work trips/person</th>\n",
              "      <th>Non-work trips/person</th>\n",
              "      <th>New COVID cases</th>\n",
              "      <th>Population</th>\n",
              "      <th>% change in consumption</th>\n",
              "      <th>date</th>\n",
              "      <th>Transit mode share</th>\n",
              "      <th>% people older than 60</th>\n",
              "      <th>Median income</th>\n",
              "      <th>% African Americans</th>\n",
              "      <th>% Hispanic Americans</th>\n",
              "      <th>% Male</th>\n",
              "      <th>Population density</th>\n",
              "      <th>Employment density</th>\n",
              "      <th># hot spots/1000 people</th>\n",
              "      <th>Hospital beds/1000 people</th>\n",
              "      <th>ICUs/1000 people</th>\n",
              "      <th># contact tracing workers/1000 people</th>\n",
              "      <th># contact tracing workers/1000 people rank</th>\n",
              "      <th>% people older than 60 rank</th>\n",
              "      <th>COVID exposure/1000 people</th>\n",
              "      <th>Unemployment claims/1000 people</th>\n",
              "      <th>Unemployment rate</th>\n",
              "      <th>% working from home</th>\n",
              "      <th>Cumulative inflation rate</th>\n",
              "      <th>% hospital bed utilization</th>\n",
              "      <th>Testing capacity</th>\n",
              "      <th>Tests done/1000 people</th>\n",
              "      <th>% ICU utilization</th>\n",
              "      <th>Ventilator shortage</th>\n",
              "      <th>Confirmed</th>\n",
              "      <th>Deaths</th>\n",
              "      <th>New deaths</th>\n",
              "      <th>#days: decreasing ILI cases</th>\n",
              "      <th>COVID death rate</th>\n",
              "      <th>New cases/1000 people</th>\n",
              "      <th>Active cases/1000 people</th>\n",
              "      <th>#days: decreasing COVID cases</th>\n",
              "      <th>Imported COVID cases</th>\n",
              "      <th>rolling_avg_new_cases</th>\n",
              "      <th>label</th>\n",
              "      <th>growth_label</th>\n",
              "    </tr>\n",
              "  </thead>\n",
              "  <tbody>\n",
              "  </tbody>\n",
              "</table>\n",
              "</div>"
            ],
            "text/plain": [
              "Empty DataFrame\n",
              "Columns: [Date, Province_State, FIPS, New cases, mask_rule_active, CTFIPS, CTNAME, STFIPS, Social distancing index, % staying home, Trips/person, % out-of-county trips, % out-of-state trips, Miles/person, Work trips/person, Non-work trips/person, New COVID cases, Population, % change in consumption, date, Transit mode share, % people older than 60, Median income, % African Americans, % Hispanic Americans, % Male, Population density, Employment density, # hot spots/1000 people, Hospital beds/1000 people, ICUs/1000 people, # contact tracing workers/1000 people, # contact tracing workers/1000 people rank, % people older than 60 rank, COVID exposure/1000 people, Unemployment claims/1000 people, Unemployment rate, % working from home, Cumulative inflation rate, % hospital bed utilization, Testing capacity, Tests done/1000 people, % ICU utilization, Ventilator shortage, Confirmed, Deaths, New deaths, #days: decreasing ILI cases, COVID death rate, New cases/1000 people, Active cases/1000 people, #days: decreasing COVID cases, Imported COVID cases, rolling_avg_new_cases, label, growth_label]\n",
              "Index: []"
            ]
          },
          "metadata": {
            "tags": []
          },
          "execution_count": 55
        }
      ]
    },
    {
      "cell_type": "code",
      "metadata": {
        "id": "AAGE0npeurwK",
        "colab_type": "code",
        "colab": {
          "base_uri": "https://localhost:8080/",
          "height": 394
        },
        "outputId": "23c967c9-c39d-44ed-be0c-65e404a0d8dd"
      },
      "source": [
        "NY_labeled_data_inertia['label_code'] = NY_labeled_data_inertia['label'].astype('category').cat.codes\n",
        "NY_labeled_data_inertia['growth_code'] = NY_labeled_data_inertia['growth_label'].astype('category').cat.codes\n",
        "NY_labeled_data_inertia.head()\n"
      ],
      "execution_count": 56,
      "outputs": [
        {
          "output_type": "execute_result",
          "data": {
            "text/html": [
              "<div>\n",
              "<style scoped>\n",
              "    .dataframe tbody tr th:only-of-type {\n",
              "        vertical-align: middle;\n",
              "    }\n",
              "\n",
              "    .dataframe tbody tr th {\n",
              "        vertical-align: top;\n",
              "    }\n",
              "\n",
              "    .dataframe thead th {\n",
              "        text-align: right;\n",
              "    }\n",
              "</style>\n",
              "<table border=\"1\" class=\"dataframe\">\n",
              "  <thead>\n",
              "    <tr style=\"text-align: right;\">\n",
              "      <th></th>\n",
              "      <th>Date</th>\n",
              "      <th>Province_State</th>\n",
              "      <th>FIPS</th>\n",
              "      <th>New cases</th>\n",
              "      <th>mask_rule_active</th>\n",
              "      <th>CTFIPS</th>\n",
              "      <th>CTNAME</th>\n",
              "      <th>STFIPS</th>\n",
              "      <th>Social distancing index</th>\n",
              "      <th>% staying home</th>\n",
              "      <th>Trips/person</th>\n",
              "      <th>% out-of-county trips</th>\n",
              "      <th>% out-of-state trips</th>\n",
              "      <th>Miles/person</th>\n",
              "      <th>Work trips/person</th>\n",
              "      <th>Non-work trips/person</th>\n",
              "      <th>New COVID cases</th>\n",
              "      <th>Population</th>\n",
              "      <th>% change in consumption</th>\n",
              "      <th>date</th>\n",
              "      <th>Transit mode share</th>\n",
              "      <th>% people older than 60</th>\n",
              "      <th>Median income</th>\n",
              "      <th>% African Americans</th>\n",
              "      <th>% Hispanic Americans</th>\n",
              "      <th>% Male</th>\n",
              "      <th>Population density</th>\n",
              "      <th>Employment density</th>\n",
              "      <th># hot spots/1000 people</th>\n",
              "      <th>Hospital beds/1000 people</th>\n",
              "      <th>ICUs/1000 people</th>\n",
              "      <th># contact tracing workers/1000 people</th>\n",
              "      <th># contact tracing workers/1000 people rank</th>\n",
              "      <th>% people older than 60 rank</th>\n",
              "      <th>COVID exposure/1000 people</th>\n",
              "      <th>Unemployment claims/1000 people</th>\n",
              "      <th>Unemployment rate</th>\n",
              "      <th>% working from home</th>\n",
              "      <th>Cumulative inflation rate</th>\n",
              "      <th>% hospital bed utilization</th>\n",
              "      <th>Testing capacity</th>\n",
              "      <th>Tests done/1000 people</th>\n",
              "      <th>% ICU utilization</th>\n",
              "      <th>Ventilator shortage</th>\n",
              "      <th>Confirmed</th>\n",
              "      <th>Deaths</th>\n",
              "      <th>New deaths</th>\n",
              "      <th>#days: decreasing ILI cases</th>\n",
              "      <th>COVID death rate</th>\n",
              "      <th>New cases/1000 people</th>\n",
              "      <th>Active cases/1000 people</th>\n",
              "      <th>#days: decreasing COVID cases</th>\n",
              "      <th>Imported COVID cases</th>\n",
              "      <th>rolling_avg_new_cases</th>\n",
              "      <th>label</th>\n",
              "      <th>growth_label</th>\n",
              "      <th>label_code</th>\n",
              "      <th>growth_code</th>\n",
              "    </tr>\n",
              "  </thead>\n",
              "  <tbody>\n",
              "    <tr>\n",
              "      <th>0</th>\n",
              "      <td>2020-01-22</td>\n",
              "      <td>Texas</td>\n",
              "      <td>48001</td>\n",
              "      <td>0</td>\n",
              "      <td>0</td>\n",
              "      <td>48001</td>\n",
              "      <td>Anderson County</td>\n",
              "      <td>48</td>\n",
              "      <td>15</td>\n",
              "      <td>15</td>\n",
              "      <td>3.31</td>\n",
              "      <td>20.6</td>\n",
              "      <td>0.3</td>\n",
              "      <td>44.4</td>\n",
              "      <td>0.54</td>\n",
              "      <td>2.77</td>\n",
              "      <td>0</td>\n",
              "      <td>58057</td>\n",
              "      <td>-6.2</td>\n",
              "      <td>2020-01-22</td>\n",
              "      <td>0.22</td>\n",
              "      <td>20</td>\n",
              "      <td>43355</td>\n",
              "      <td>21.0</td>\n",
              "      <td>17.5</td>\n",
              "      <td>61.20</td>\n",
              "      <td>54</td>\n",
              "      <td>12</td>\n",
              "      <td>95</td>\n",
              "      <td>2.82</td>\n",
              "      <td>0.3</td>\n",
              "      <td>0.04</td>\n",
              "      <td>26.0</td>\n",
              "      <td>16</td>\n",
              "      <td>0.0</td>\n",
              "      <td>0.5</td>\n",
              "      <td>3.5</td>\n",
              "      <td>4.6</td>\n",
              "      <td>0.2</td>\n",
              "      <td>47.7</td>\n",
              "      <td>0.0</td>\n",
              "      <td>0.0</td>\n",
              "      <td>0.0</td>\n",
              "      <td>0</td>\n",
              "      <td>0.0</td>\n",
              "      <td>0.0</td>\n",
              "      <td>0.0</td>\n",
              "      <td>21.0</td>\n",
              "      <td>0.0</td>\n",
              "      <td>0.0</td>\n",
              "      <td>0.0</td>\n",
              "      <td>0.0</td>\n",
              "      <td>0.0</td>\n",
              "      <td>0.0</td>\n",
              "      <td>LessSpread</td>\n",
              "      <td>flat_growth</td>\n",
              "      <td>0</td>\n",
              "      <td>2</td>\n",
              "    </tr>\n",
              "    <tr>\n",
              "      <th>1</th>\n",
              "      <td>2020-01-22</td>\n",
              "      <td>Texas</td>\n",
              "      <td>48415</td>\n",
              "      <td>0</td>\n",
              "      <td>0</td>\n",
              "      <td>48415</td>\n",
              "      <td>Scurry County</td>\n",
              "      <td>48</td>\n",
              "      <td>10</td>\n",
              "      <td>13</td>\n",
              "      <td>3.89</td>\n",
              "      <td>22.7</td>\n",
              "      <td>0.4</td>\n",
              "      <td>48.6</td>\n",
              "      <td>0.65</td>\n",
              "      <td>3.24</td>\n",
              "      <td>0</td>\n",
              "      <td>16866</td>\n",
              "      <td>9.3</td>\n",
              "      <td>2020-01-22</td>\n",
              "      <td>0.00</td>\n",
              "      <td>20</td>\n",
              "      <td>55889</td>\n",
              "      <td>4.9</td>\n",
              "      <td>40.1</td>\n",
              "      <td>54.67</td>\n",
              "      <td>19</td>\n",
              "      <td>7</td>\n",
              "      <td>118</td>\n",
              "      <td>2.82</td>\n",
              "      <td>0.3</td>\n",
              "      <td>0.04</td>\n",
              "      <td>26.0</td>\n",
              "      <td>16</td>\n",
              "      <td>0.0</td>\n",
              "      <td>0.5</td>\n",
              "      <td>3.5</td>\n",
              "      <td>4.6</td>\n",
              "      <td>0.2</td>\n",
              "      <td>47.7</td>\n",
              "      <td>0.0</td>\n",
              "      <td>0.0</td>\n",
              "      <td>0.0</td>\n",
              "      <td>0</td>\n",
              "      <td>0.0</td>\n",
              "      <td>0.0</td>\n",
              "      <td>0.0</td>\n",
              "      <td>21.0</td>\n",
              "      <td>0.0</td>\n",
              "      <td>0.0</td>\n",
              "      <td>0.0</td>\n",
              "      <td>0.0</td>\n",
              "      <td>0.0</td>\n",
              "      <td>0.0</td>\n",
              "      <td>LessSpread</td>\n",
              "      <td>flat_growth</td>\n",
              "      <td>0</td>\n",
              "      <td>2</td>\n",
              "    </tr>\n",
              "    <tr>\n",
              "      <th>2</th>\n",
              "      <td>2020-01-22</td>\n",
              "      <td>Texas</td>\n",
              "      <td>48095</td>\n",
              "      <td>0</td>\n",
              "      <td>0</td>\n",
              "      <td>48095</td>\n",
              "      <td>Concho County</td>\n",
              "      <td>48</td>\n",
              "      <td>19</td>\n",
              "      <td>21</td>\n",
              "      <td>3.03</td>\n",
              "      <td>45.2</td>\n",
              "      <td>0.6</td>\n",
              "      <td>40.3</td>\n",
              "      <td>0.24</td>\n",
              "      <td>2.79</td>\n",
              "      <td>0</td>\n",
              "      <td>4276</td>\n",
              "      <td>-2.6</td>\n",
              "      <td>2020-01-22</td>\n",
              "      <td>0.00</td>\n",
              "      <td>24</td>\n",
              "      <td>43355</td>\n",
              "      <td>2.1</td>\n",
              "      <td>56.0</td>\n",
              "      <td>66.19</td>\n",
              "      <td>4</td>\n",
              "      <td>1</td>\n",
              "      <td>85</td>\n",
              "      <td>2.82</td>\n",
              "      <td>0.3</td>\n",
              "      <td>0.04</td>\n",
              "      <td>26.0</td>\n",
              "      <td>42</td>\n",
              "      <td>0.0</td>\n",
              "      <td>0.5</td>\n",
              "      <td>3.5</td>\n",
              "      <td>4.6</td>\n",
              "      <td>0.2</td>\n",
              "      <td>47.7</td>\n",
              "      <td>0.0</td>\n",
              "      <td>0.0</td>\n",
              "      <td>0.0</td>\n",
              "      <td>0</td>\n",
              "      <td>0.0</td>\n",
              "      <td>0.0</td>\n",
              "      <td>0.0</td>\n",
              "      <td>21.0</td>\n",
              "      <td>0.0</td>\n",
              "      <td>0.0</td>\n",
              "      <td>0.0</td>\n",
              "      <td>0.0</td>\n",
              "      <td>0.0</td>\n",
              "      <td>0.0</td>\n",
              "      <td>LessSpread</td>\n",
              "      <td>flat_growth</td>\n",
              "      <td>0</td>\n",
              "      <td>2</td>\n",
              "    </tr>\n",
              "    <tr>\n",
              "      <th>3</th>\n",
              "      <td>2020-01-22</td>\n",
              "      <td>Texas</td>\n",
              "      <td>48417</td>\n",
              "      <td>0</td>\n",
              "      <td>0</td>\n",
              "      <td>48417</td>\n",
              "      <td>Shackelford County</td>\n",
              "      <td>48</td>\n",
              "      <td>18</td>\n",
              "      <td>19</td>\n",
              "      <td>3.16</td>\n",
              "      <td>42.3</td>\n",
              "      <td>0.0</td>\n",
              "      <td>40.6</td>\n",
              "      <td>0.53</td>\n",
              "      <td>2.63</td>\n",
              "      <td>0</td>\n",
              "      <td>3253</td>\n",
              "      <td>9.2</td>\n",
              "      <td>2020-01-22</td>\n",
              "      <td>0.00</td>\n",
              "      <td>23</td>\n",
              "      <td>45187</td>\n",
              "      <td>0.2</td>\n",
              "      <td>11.6</td>\n",
              "      <td>53.46</td>\n",
              "      <td>4</td>\n",
              "      <td>1</td>\n",
              "      <td>169</td>\n",
              "      <td>2.82</td>\n",
              "      <td>0.3</td>\n",
              "      <td>0.04</td>\n",
              "      <td>26.0</td>\n",
              "      <td>34</td>\n",
              "      <td>0.0</td>\n",
              "      <td>0.5</td>\n",
              "      <td>3.5</td>\n",
              "      <td>4.6</td>\n",
              "      <td>0.2</td>\n",
              "      <td>47.7</td>\n",
              "      <td>0.0</td>\n",
              "      <td>0.0</td>\n",
              "      <td>0.0</td>\n",
              "      <td>0</td>\n",
              "      <td>0.0</td>\n",
              "      <td>0.0</td>\n",
              "      <td>0.0</td>\n",
              "      <td>21.0</td>\n",
              "      <td>0.0</td>\n",
              "      <td>0.0</td>\n",
              "      <td>0.0</td>\n",
              "      <td>0.0</td>\n",
              "      <td>0.0</td>\n",
              "      <td>0.0</td>\n",
              "      <td>LessSpread</td>\n",
              "      <td>flat_growth</td>\n",
              "      <td>0</td>\n",
              "      <td>2</td>\n",
              "    </tr>\n",
              "    <tr>\n",
              "      <th>4</th>\n",
              "      <td>2020-01-22</td>\n",
              "      <td>Texas</td>\n",
              "      <td>48093</td>\n",
              "      <td>0</td>\n",
              "      <td>0</td>\n",
              "      <td>48093</td>\n",
              "      <td>Comanche County</td>\n",
              "      <td>48</td>\n",
              "      <td>15</td>\n",
              "      <td>17</td>\n",
              "      <td>3.62</td>\n",
              "      <td>26.0</td>\n",
              "      <td>0.2</td>\n",
              "      <td>51.1</td>\n",
              "      <td>0.55</td>\n",
              "      <td>3.07</td>\n",
              "      <td>0</td>\n",
              "      <td>13534</td>\n",
              "      <td>9.5</td>\n",
              "      <td>2020-01-22</td>\n",
              "      <td>0.00</td>\n",
              "      <td>31</td>\n",
              "      <td>47893</td>\n",
              "      <td>0.6</td>\n",
              "      <td>27.6</td>\n",
              "      <td>49.93</td>\n",
              "      <td>14</td>\n",
              "      <td>4</td>\n",
              "      <td>142</td>\n",
              "      <td>2.82</td>\n",
              "      <td>0.3</td>\n",
              "      <td>0.04</td>\n",
              "      <td>26.0</td>\n",
              "      <td>86</td>\n",
              "      <td>0.0</td>\n",
              "      <td>0.5</td>\n",
              "      <td>3.5</td>\n",
              "      <td>4.6</td>\n",
              "      <td>0.2</td>\n",
              "      <td>47.7</td>\n",
              "      <td>0.0</td>\n",
              "      <td>0.0</td>\n",
              "      <td>0.0</td>\n",
              "      <td>0</td>\n",
              "      <td>0.0</td>\n",
              "      <td>0.0</td>\n",
              "      <td>0.0</td>\n",
              "      <td>21.0</td>\n",
              "      <td>0.0</td>\n",
              "      <td>0.0</td>\n",
              "      <td>0.0</td>\n",
              "      <td>0.0</td>\n",
              "      <td>0.0</td>\n",
              "      <td>0.0</td>\n",
              "      <td>LessSpread</td>\n",
              "      <td>flat_growth</td>\n",
              "      <td>0</td>\n",
              "      <td>2</td>\n",
              "    </tr>\n",
              "  </tbody>\n",
              "</table>\n",
              "</div>"
            ],
            "text/plain": [
              "         Date Province_State   FIPS  ...  growth_label  label_code  growth_code\n",
              "0  2020-01-22          Texas  48001  ...   flat_growth           0            2\n",
              "1  2020-01-22          Texas  48415  ...   flat_growth           0            2\n",
              "2  2020-01-22          Texas  48095  ...   flat_growth           0            2\n",
              "3  2020-01-22          Texas  48417  ...   flat_growth           0            2\n",
              "4  2020-01-22          Texas  48093  ...   flat_growth           0            2\n",
              "\n",
              "[5 rows x 58 columns]"
            ]
          },
          "metadata": {
            "tags": []
          },
          "execution_count": 56
        }
      ]
    },
    {
      "cell_type": "code",
      "metadata": {
        "id": "upZ9bJ_TvEID",
        "colab_type": "code",
        "colab": {
          "base_uri": "https://localhost:8080/",
          "height": 391
        },
        "outputId": "e7c2375d-7d20-48eb-d8e5-256ff2c1d06a"
      },
      "source": [
        "NY_labeled_data_inertia.columns[:-4]"
      ],
      "execution_count": 57,
      "outputs": [
        {
          "output_type": "execute_result",
          "data": {
            "text/plain": [
              "Index(['Date', 'Province_State', 'FIPS', 'New cases', 'mask_rule_active',\n",
              "       'CTFIPS', 'CTNAME', 'STFIPS', 'Social distancing index',\n",
              "       '% staying home', 'Trips/person', '% out-of-county trips',\n",
              "       '% out-of-state trips', 'Miles/person', 'Work trips/person',\n",
              "       'Non-work trips/person', 'New COVID cases', 'Population',\n",
              "       '% change in consumption', 'date', 'Transit mode share',\n",
              "       '% people older than 60', 'Median income', '% African Americans',\n",
              "       '% Hispanic Americans', '% Male', 'Population density',\n",
              "       'Employment density', '# hot spots/1000 people',\n",
              "       'Hospital beds/1000 people', 'ICUs/1000 people',\n",
              "       '# contact tracing workers/1000 people',\n",
              "       '# contact tracing workers/1000 people rank',\n",
              "       '% people older than 60 rank', 'COVID exposure/1000 people',\n",
              "       'Unemployment claims/1000 people', 'Unemployment rate',\n",
              "       '% working from home', 'Cumulative inflation rate',\n",
              "       '% hospital bed utilization', 'Testing capacity',\n",
              "       'Tests done/1000 people', '% ICU utilization', 'Ventilator shortage',\n",
              "       'Confirmed', 'Deaths', 'New deaths', '#days: decreasing ILI cases',\n",
              "       'COVID death rate', 'New cases/1000 people', 'Active cases/1000 people',\n",
              "       '#days: decreasing COVID cases', 'Imported COVID cases',\n",
              "       'rolling_avg_new_cases'],\n",
              "      dtype='object')"
            ]
          },
          "metadata": {
            "tags": []
          },
          "execution_count": 57
        }
      ]
    },
    {
      "cell_type": "code",
      "metadata": {
        "id": "YgT3ZjW_u_rG",
        "colab_type": "code",
        "colab": {}
      },
      "source": [
        "inertia_feature_labels = [ 'mask_rule_active',\n",
        "         'Social distancing index',\n",
        "       '% staying home', 'Trips/person', '% out-of-county trips',\n",
        "       '% out-of-state trips', 'Miles/person', 'Work trips/person',\n",
        "       'Non-work trips/person',  'Population',\n",
        "       '% change in consumption', 'Transit mode share',\n",
        "       '% people older than 60', 'Median income', '% African Americans',\n",
        "       '% Hispanic Americans', '% Male', 'Population density',\n",
        "       'Employment density', '# hot spots/1000 people',\n",
        "       'Hospital beds/1000 people', 'ICUs/1000 people',\n",
        "       '# contact tracing workers/1000 people',\n",
        "       '# contact tracing workers/1000 people rank',\n",
        "       '% people older than 60 rank', 'COVID exposure/1000 people',\n",
        "       'Unemployment claims/1000 people', 'Unemployment rate',\n",
        "       '% working from home', 'Cumulative inflation rate',\n",
        "       '% hospital bed utilization', 'Testing capacity',\n",
        "       'Tests done/1000 people', '% ICU utilization', 'Ventilator shortage']\n",
        "\n",
        "inertia_target_column = ['label_code']\n"
      ],
      "execution_count": 59,
      "outputs": []
    },
    {
      "cell_type": "code",
      "metadata": {
        "id": "uXBiElK_6ful",
        "colab_type": "code",
        "colab": {
          "base_uri": "https://localhost:8080/",
          "height": 34
        },
        "outputId": "deaab855-1f81-43a1-e14a-09b47deaff56"
      },
      "source": [
        "len(inertia_feature_labels)"
      ],
      "execution_count": 60,
      "outputs": [
        {
          "output_type": "execute_result",
          "data": {
            "text/plain": [
              "35"
            ]
          },
          "metadata": {
            "tags": []
          },
          "execution_count": 60
        }
      ]
    },
    {
      "cell_type": "markdown",
      "metadata": {
        "colab_type": "text",
        "id": "Bmm7MuGF0nac"
      },
      "source": [
        "# Note about growth label\n",
        "\n",
        "growth_code| label\n",
        "----|----\n",
        " 0 | drastic decrement\n",
        " 1 | drastic growth\n",
        " 2 | flat\n",
        " 3 | mild decrement\n",
        " 4 | mild increment\n",
        "\n",
        "\n",
        "\n"
      ]
    },
    {
      "cell_type": "markdown",
      "metadata": {
        "id": "h4Sy-1lTwC4r",
        "colab_type": "text"
      },
      "source": [
        "## Verifying growth label based Ranking"
      ]
    },
    {
      "cell_type": "code",
      "metadata": {
        "id": "Nwd5hGwIwhMx",
        "colab_type": "code",
        "colab": {
          "base_uri": "https://localhost:8080/",
          "height": 394
        },
        "outputId": "37ef731c-6427-4f9a-86ec-fad4a1e8970d"
      },
      "source": [
        "NY_labeled_data_inertia.head()"
      ],
      "execution_count": 61,
      "outputs": [
        {
          "output_type": "execute_result",
          "data": {
            "text/html": [
              "<div>\n",
              "<style scoped>\n",
              "    .dataframe tbody tr th:only-of-type {\n",
              "        vertical-align: middle;\n",
              "    }\n",
              "\n",
              "    .dataframe tbody tr th {\n",
              "        vertical-align: top;\n",
              "    }\n",
              "\n",
              "    .dataframe thead th {\n",
              "        text-align: right;\n",
              "    }\n",
              "</style>\n",
              "<table border=\"1\" class=\"dataframe\">\n",
              "  <thead>\n",
              "    <tr style=\"text-align: right;\">\n",
              "      <th></th>\n",
              "      <th>Date</th>\n",
              "      <th>Province_State</th>\n",
              "      <th>FIPS</th>\n",
              "      <th>New cases</th>\n",
              "      <th>mask_rule_active</th>\n",
              "      <th>CTFIPS</th>\n",
              "      <th>CTNAME</th>\n",
              "      <th>STFIPS</th>\n",
              "      <th>Social distancing index</th>\n",
              "      <th>% staying home</th>\n",
              "      <th>Trips/person</th>\n",
              "      <th>% out-of-county trips</th>\n",
              "      <th>% out-of-state trips</th>\n",
              "      <th>Miles/person</th>\n",
              "      <th>Work trips/person</th>\n",
              "      <th>Non-work trips/person</th>\n",
              "      <th>New COVID cases</th>\n",
              "      <th>Population</th>\n",
              "      <th>% change in consumption</th>\n",
              "      <th>date</th>\n",
              "      <th>Transit mode share</th>\n",
              "      <th>% people older than 60</th>\n",
              "      <th>Median income</th>\n",
              "      <th>% African Americans</th>\n",
              "      <th>% Hispanic Americans</th>\n",
              "      <th>% Male</th>\n",
              "      <th>Population density</th>\n",
              "      <th>Employment density</th>\n",
              "      <th># hot spots/1000 people</th>\n",
              "      <th>Hospital beds/1000 people</th>\n",
              "      <th>ICUs/1000 people</th>\n",
              "      <th># contact tracing workers/1000 people</th>\n",
              "      <th># contact tracing workers/1000 people rank</th>\n",
              "      <th>% people older than 60 rank</th>\n",
              "      <th>COVID exposure/1000 people</th>\n",
              "      <th>Unemployment claims/1000 people</th>\n",
              "      <th>Unemployment rate</th>\n",
              "      <th>% working from home</th>\n",
              "      <th>Cumulative inflation rate</th>\n",
              "      <th>% hospital bed utilization</th>\n",
              "      <th>Testing capacity</th>\n",
              "      <th>Tests done/1000 people</th>\n",
              "      <th>% ICU utilization</th>\n",
              "      <th>Ventilator shortage</th>\n",
              "      <th>Confirmed</th>\n",
              "      <th>Deaths</th>\n",
              "      <th>New deaths</th>\n",
              "      <th>#days: decreasing ILI cases</th>\n",
              "      <th>COVID death rate</th>\n",
              "      <th>New cases/1000 people</th>\n",
              "      <th>Active cases/1000 people</th>\n",
              "      <th>#days: decreasing COVID cases</th>\n",
              "      <th>Imported COVID cases</th>\n",
              "      <th>rolling_avg_new_cases</th>\n",
              "      <th>label</th>\n",
              "      <th>growth_label</th>\n",
              "      <th>label_code</th>\n",
              "      <th>growth_code</th>\n",
              "    </tr>\n",
              "  </thead>\n",
              "  <tbody>\n",
              "    <tr>\n",
              "      <th>0</th>\n",
              "      <td>2020-01-22</td>\n",
              "      <td>Texas</td>\n",
              "      <td>48001</td>\n",
              "      <td>0</td>\n",
              "      <td>0</td>\n",
              "      <td>48001</td>\n",
              "      <td>Anderson County</td>\n",
              "      <td>48</td>\n",
              "      <td>15</td>\n",
              "      <td>15</td>\n",
              "      <td>3.31</td>\n",
              "      <td>20.6</td>\n",
              "      <td>0.3</td>\n",
              "      <td>44.4</td>\n",
              "      <td>0.54</td>\n",
              "      <td>2.77</td>\n",
              "      <td>0</td>\n",
              "      <td>58057</td>\n",
              "      <td>-6.2</td>\n",
              "      <td>2020-01-22</td>\n",
              "      <td>0.22</td>\n",
              "      <td>20</td>\n",
              "      <td>43355</td>\n",
              "      <td>21.0</td>\n",
              "      <td>17.5</td>\n",
              "      <td>61.20</td>\n",
              "      <td>54</td>\n",
              "      <td>12</td>\n",
              "      <td>95</td>\n",
              "      <td>2.82</td>\n",
              "      <td>0.3</td>\n",
              "      <td>0.04</td>\n",
              "      <td>26.0</td>\n",
              "      <td>16</td>\n",
              "      <td>0.0</td>\n",
              "      <td>0.5</td>\n",
              "      <td>3.5</td>\n",
              "      <td>4.6</td>\n",
              "      <td>0.2</td>\n",
              "      <td>47.7</td>\n",
              "      <td>0.0</td>\n",
              "      <td>0.0</td>\n",
              "      <td>0.0</td>\n",
              "      <td>0</td>\n",
              "      <td>0.0</td>\n",
              "      <td>0.0</td>\n",
              "      <td>0.0</td>\n",
              "      <td>21.0</td>\n",
              "      <td>0.0</td>\n",
              "      <td>0.0</td>\n",
              "      <td>0.0</td>\n",
              "      <td>0.0</td>\n",
              "      <td>0.0</td>\n",
              "      <td>0.0</td>\n",
              "      <td>LessSpread</td>\n",
              "      <td>flat_growth</td>\n",
              "      <td>0</td>\n",
              "      <td>2</td>\n",
              "    </tr>\n",
              "    <tr>\n",
              "      <th>1</th>\n",
              "      <td>2020-01-22</td>\n",
              "      <td>Texas</td>\n",
              "      <td>48415</td>\n",
              "      <td>0</td>\n",
              "      <td>0</td>\n",
              "      <td>48415</td>\n",
              "      <td>Scurry County</td>\n",
              "      <td>48</td>\n",
              "      <td>10</td>\n",
              "      <td>13</td>\n",
              "      <td>3.89</td>\n",
              "      <td>22.7</td>\n",
              "      <td>0.4</td>\n",
              "      <td>48.6</td>\n",
              "      <td>0.65</td>\n",
              "      <td>3.24</td>\n",
              "      <td>0</td>\n",
              "      <td>16866</td>\n",
              "      <td>9.3</td>\n",
              "      <td>2020-01-22</td>\n",
              "      <td>0.00</td>\n",
              "      <td>20</td>\n",
              "      <td>55889</td>\n",
              "      <td>4.9</td>\n",
              "      <td>40.1</td>\n",
              "      <td>54.67</td>\n",
              "      <td>19</td>\n",
              "      <td>7</td>\n",
              "      <td>118</td>\n",
              "      <td>2.82</td>\n",
              "      <td>0.3</td>\n",
              "      <td>0.04</td>\n",
              "      <td>26.0</td>\n",
              "      <td>16</td>\n",
              "      <td>0.0</td>\n",
              "      <td>0.5</td>\n",
              "      <td>3.5</td>\n",
              "      <td>4.6</td>\n",
              "      <td>0.2</td>\n",
              "      <td>47.7</td>\n",
              "      <td>0.0</td>\n",
              "      <td>0.0</td>\n",
              "      <td>0.0</td>\n",
              "      <td>0</td>\n",
              "      <td>0.0</td>\n",
              "      <td>0.0</td>\n",
              "      <td>0.0</td>\n",
              "      <td>21.0</td>\n",
              "      <td>0.0</td>\n",
              "      <td>0.0</td>\n",
              "      <td>0.0</td>\n",
              "      <td>0.0</td>\n",
              "      <td>0.0</td>\n",
              "      <td>0.0</td>\n",
              "      <td>LessSpread</td>\n",
              "      <td>flat_growth</td>\n",
              "      <td>0</td>\n",
              "      <td>2</td>\n",
              "    </tr>\n",
              "    <tr>\n",
              "      <th>2</th>\n",
              "      <td>2020-01-22</td>\n",
              "      <td>Texas</td>\n",
              "      <td>48095</td>\n",
              "      <td>0</td>\n",
              "      <td>0</td>\n",
              "      <td>48095</td>\n",
              "      <td>Concho County</td>\n",
              "      <td>48</td>\n",
              "      <td>19</td>\n",
              "      <td>21</td>\n",
              "      <td>3.03</td>\n",
              "      <td>45.2</td>\n",
              "      <td>0.6</td>\n",
              "      <td>40.3</td>\n",
              "      <td>0.24</td>\n",
              "      <td>2.79</td>\n",
              "      <td>0</td>\n",
              "      <td>4276</td>\n",
              "      <td>-2.6</td>\n",
              "      <td>2020-01-22</td>\n",
              "      <td>0.00</td>\n",
              "      <td>24</td>\n",
              "      <td>43355</td>\n",
              "      <td>2.1</td>\n",
              "      <td>56.0</td>\n",
              "      <td>66.19</td>\n",
              "      <td>4</td>\n",
              "      <td>1</td>\n",
              "      <td>85</td>\n",
              "      <td>2.82</td>\n",
              "      <td>0.3</td>\n",
              "      <td>0.04</td>\n",
              "      <td>26.0</td>\n",
              "      <td>42</td>\n",
              "      <td>0.0</td>\n",
              "      <td>0.5</td>\n",
              "      <td>3.5</td>\n",
              "      <td>4.6</td>\n",
              "      <td>0.2</td>\n",
              "      <td>47.7</td>\n",
              "      <td>0.0</td>\n",
              "      <td>0.0</td>\n",
              "      <td>0.0</td>\n",
              "      <td>0</td>\n",
              "      <td>0.0</td>\n",
              "      <td>0.0</td>\n",
              "      <td>0.0</td>\n",
              "      <td>21.0</td>\n",
              "      <td>0.0</td>\n",
              "      <td>0.0</td>\n",
              "      <td>0.0</td>\n",
              "      <td>0.0</td>\n",
              "      <td>0.0</td>\n",
              "      <td>0.0</td>\n",
              "      <td>LessSpread</td>\n",
              "      <td>flat_growth</td>\n",
              "      <td>0</td>\n",
              "      <td>2</td>\n",
              "    </tr>\n",
              "    <tr>\n",
              "      <th>3</th>\n",
              "      <td>2020-01-22</td>\n",
              "      <td>Texas</td>\n",
              "      <td>48417</td>\n",
              "      <td>0</td>\n",
              "      <td>0</td>\n",
              "      <td>48417</td>\n",
              "      <td>Shackelford County</td>\n",
              "      <td>48</td>\n",
              "      <td>18</td>\n",
              "      <td>19</td>\n",
              "      <td>3.16</td>\n",
              "      <td>42.3</td>\n",
              "      <td>0.0</td>\n",
              "      <td>40.6</td>\n",
              "      <td>0.53</td>\n",
              "      <td>2.63</td>\n",
              "      <td>0</td>\n",
              "      <td>3253</td>\n",
              "      <td>9.2</td>\n",
              "      <td>2020-01-22</td>\n",
              "      <td>0.00</td>\n",
              "      <td>23</td>\n",
              "      <td>45187</td>\n",
              "      <td>0.2</td>\n",
              "      <td>11.6</td>\n",
              "      <td>53.46</td>\n",
              "      <td>4</td>\n",
              "      <td>1</td>\n",
              "      <td>169</td>\n",
              "      <td>2.82</td>\n",
              "      <td>0.3</td>\n",
              "      <td>0.04</td>\n",
              "      <td>26.0</td>\n",
              "      <td>34</td>\n",
              "      <td>0.0</td>\n",
              "      <td>0.5</td>\n",
              "      <td>3.5</td>\n",
              "      <td>4.6</td>\n",
              "      <td>0.2</td>\n",
              "      <td>47.7</td>\n",
              "      <td>0.0</td>\n",
              "      <td>0.0</td>\n",
              "      <td>0.0</td>\n",
              "      <td>0</td>\n",
              "      <td>0.0</td>\n",
              "      <td>0.0</td>\n",
              "      <td>0.0</td>\n",
              "      <td>21.0</td>\n",
              "      <td>0.0</td>\n",
              "      <td>0.0</td>\n",
              "      <td>0.0</td>\n",
              "      <td>0.0</td>\n",
              "      <td>0.0</td>\n",
              "      <td>0.0</td>\n",
              "      <td>LessSpread</td>\n",
              "      <td>flat_growth</td>\n",
              "      <td>0</td>\n",
              "      <td>2</td>\n",
              "    </tr>\n",
              "    <tr>\n",
              "      <th>4</th>\n",
              "      <td>2020-01-22</td>\n",
              "      <td>Texas</td>\n",
              "      <td>48093</td>\n",
              "      <td>0</td>\n",
              "      <td>0</td>\n",
              "      <td>48093</td>\n",
              "      <td>Comanche County</td>\n",
              "      <td>48</td>\n",
              "      <td>15</td>\n",
              "      <td>17</td>\n",
              "      <td>3.62</td>\n",
              "      <td>26.0</td>\n",
              "      <td>0.2</td>\n",
              "      <td>51.1</td>\n",
              "      <td>0.55</td>\n",
              "      <td>3.07</td>\n",
              "      <td>0</td>\n",
              "      <td>13534</td>\n",
              "      <td>9.5</td>\n",
              "      <td>2020-01-22</td>\n",
              "      <td>0.00</td>\n",
              "      <td>31</td>\n",
              "      <td>47893</td>\n",
              "      <td>0.6</td>\n",
              "      <td>27.6</td>\n",
              "      <td>49.93</td>\n",
              "      <td>14</td>\n",
              "      <td>4</td>\n",
              "      <td>142</td>\n",
              "      <td>2.82</td>\n",
              "      <td>0.3</td>\n",
              "      <td>0.04</td>\n",
              "      <td>26.0</td>\n",
              "      <td>86</td>\n",
              "      <td>0.0</td>\n",
              "      <td>0.5</td>\n",
              "      <td>3.5</td>\n",
              "      <td>4.6</td>\n",
              "      <td>0.2</td>\n",
              "      <td>47.7</td>\n",
              "      <td>0.0</td>\n",
              "      <td>0.0</td>\n",
              "      <td>0.0</td>\n",
              "      <td>0</td>\n",
              "      <td>0.0</td>\n",
              "      <td>0.0</td>\n",
              "      <td>0.0</td>\n",
              "      <td>21.0</td>\n",
              "      <td>0.0</td>\n",
              "      <td>0.0</td>\n",
              "      <td>0.0</td>\n",
              "      <td>0.0</td>\n",
              "      <td>0.0</td>\n",
              "      <td>0.0</td>\n",
              "      <td>LessSpread</td>\n",
              "      <td>flat_growth</td>\n",
              "      <td>0</td>\n",
              "      <td>2</td>\n",
              "    </tr>\n",
              "  </tbody>\n",
              "</table>\n",
              "</div>"
            ],
            "text/plain": [
              "         Date Province_State   FIPS  ...  growth_label  label_code  growth_code\n",
              "0  2020-01-22          Texas  48001  ...   flat_growth           0            2\n",
              "1  2020-01-22          Texas  48415  ...   flat_growth           0            2\n",
              "2  2020-01-22          Texas  48095  ...   flat_growth           0            2\n",
              "3  2020-01-22          Texas  48417  ...   flat_growth           0            2\n",
              "4  2020-01-22          Texas  48093  ...   flat_growth           0            2\n",
              "\n",
              "[5 rows x 58 columns]"
            ]
          },
          "metadata": {
            "tags": []
          },
          "execution_count": 61
        }
      ]
    },
    {
      "cell_type": "code",
      "metadata": {
        "id": "Vx72pApEwAFY",
        "colab_type": "code",
        "colab": {
          "base_uri": "https://localhost:8080/",
          "height": 102
        },
        "outputId": "1ab9a229-f5c6-4b84-e0b1-e03f6ce8ba39"
      },
      "source": [
        "\n",
        "NY_labeled_data_inertia_growth1 = NY_labeled_data_inertia[NY_labeled_data_inertia['growth_code'] == 0]\n",
        "NY_labeled_data_inertia_growth2 = NY_labeled_data_inertia[NY_labeled_data_inertia['growth_code'] == 1]\n",
        "NY_labeled_data_inertia_growth3 = NY_labeled_data_inertia[NY_labeled_data_inertia['growth_code'] == 2]\n",
        "NY_labeled_data_inertia_growth4 = NY_labeled_data_inertia[NY_labeled_data_inertia['growth_code'] == 3]\n",
        "NY_labeled_data_inertia_growth5 = NY_labeled_data_inertia[NY_labeled_data_inertia['growth_code'] == 4]\n",
        "\n",
        "print(NY_labeled_data_inertia_growth1.shape)\n",
        "print(NY_labeled_data_inertia_growth2.shape)\n",
        "print(NY_labeled_data_inertia_growth3.shape)\n",
        "print(NY_labeled_data_inertia_growth4.shape)\n",
        "print(NY_labeled_data_inertia_growth5.shape)"
      ],
      "execution_count": 62,
      "outputs": [
        {
          "output_type": "stream",
          "text": [
            "(238, 58)\n",
            "(294, 58)\n",
            "(18600, 58)\n",
            "(17022, 58)\n",
            "(17044, 58)\n"
          ],
          "name": "stdout"
        }
      ]
    },
    {
      "cell_type": "markdown",
      "metadata": {
        "id": "I5PQbs7e2Hvv",
        "colab_type": "text"
      },
      "source": [
        "### Growth label : 0 -> Drastic decrement"
      ]
    },
    {
      "cell_type": "code",
      "metadata": {
        "id": "F3zVV9QE01DU",
        "colab_type": "code",
        "colab": {
          "base_uri": "https://localhost:8080/",
          "height": 1000
        },
        "outputId": "1684c889-06df-4ff1-f530-7c1bd669dbc6"
      },
      "source": [
        "\n",
        "print(\"** Printing NY all county data for drastic decrement  ** \")\n",
        "\n",
        "X = NY_labeled_data_inertia_growth1[inertia_feature_labels]\n",
        "y = NY_labeled_data_inertia_growth1[inertia_target_column]\n",
        "print(X.shape)\n",
        "\n",
        "X_train, X_test, y_train, y_test = train_test_split(X, y, test_size=0.2, random_state=0)\n",
        "\n",
        "\n",
        "# Create a random forest classifier\n",
        "clf = RandomForestClassifier(n_estimators=10000, random_state=0, n_jobs=-1)\n",
        "\n",
        "# Train the classifier\n",
        "clf.fit(X_train, y_train)\n",
        "\n",
        "# Print the name and gini importance of each feature\n",
        "for feature in zip(feature_labels, clf.feature_importances_):\n",
        "    print(feature)\n",
        "\n",
        "\n",
        "\n",
        "#  Supported criteria are “gini” for the Gini impurity and “entropy” for the information gain. \n",
        "\n",
        "clf = RandomForestClassifier(n_estimators=10000, random_state=0,criterion='entropy', n_jobs=-1)\n",
        "\n",
        "# Train the classifier\n",
        "clf.fit(X_train, y_train)\n",
        "\n",
        "# Print the name and gini importance of each feature\n",
        "for feature in zip(feature_labels, clf.feature_importances_):\n",
        "    print(feature)\n",
        "\n",
        "\n",
        "model = ExtraTreesClassifier()\n",
        "model.fit(X, y.values.ravel())\n",
        "# display the relative importance of each attribute\n",
        "print(model.feature_importances_)\n",
        "\n",
        "\n",
        "# create the RFE model and select 3 attributes\n",
        "rfe = RFE(model, 3)\n",
        "rfe = rfe.fit(X, y.values.ravel())\n",
        "# summarize the selection of the attributes\n",
        "print(rfe.support_)\n",
        "for index in range(len(rfe.ranking_)):\n",
        "  print(inertia_feature_labels[index], rfe.ranking_[index])\n",
        "\n",
        "print(rfe.ranking_)\n",
        "print(rfe.n_features_)\n",
        "rfe.n_features_to_select\n"
      ],
      "execution_count": 63,
      "outputs": [
        {
          "output_type": "stream",
          "text": [
            "** Printing NY all county data for drastic decrement  ** \n",
            "(238, 35)\n"
          ],
          "name": "stdout"
        },
        {
          "output_type": "stream",
          "text": [
            "/usr/local/lib/python3.6/dist-packages/ipykernel_launcher.py:15: DataConversionWarning: A column-vector y was passed when a 1d array was expected. Please change the shape of y to (n_samples,), for example using ravel().\n",
            "  from ipykernel import kernelapp as app\n"
          ],
          "name": "stderr"
        },
        {
          "output_type": "stream",
          "text": [
            "('retail and recreation', 0.002229218708101957)\n",
            "('grocery and pharmacy', 0.0007382143156197024)\n",
            "('parks', 0.003564227693351195)\n",
            "('transit stations', 0.0006153024578982471)\n",
            "('workplaces', 0.02021058784196429)\n",
            "('residential', 0.1046683424253909)\n",
            "('driving', 0.008038808976182253)\n",
            "('m50', 0.0016122490016211872)\n",
            "('m50_index', 0.0014274826406176881)\n",
            "('population_density', 0.04117736462291262)\n",
            "('mask_rule_active', 0.001687542390419143)\n"
          ],
          "name": "stdout"
        },
        {
          "output_type": "stream",
          "text": [
            "/usr/local/lib/python3.6/dist-packages/ipykernel_launcher.py:28: DataConversionWarning: A column-vector y was passed when a 1d array was expected. Please change the shape of y to (n_samples,), for example using ravel().\n"
          ],
          "name": "stderr"
        },
        {
          "output_type": "stream",
          "text": [
            "('retail and recreation', 0.001237613473147396)\n",
            "('grocery and pharmacy', 0.0005153510023900714)\n",
            "('parks', 0.0025190221093441528)\n",
            "('transit stations', 0.00034502570005520705)\n",
            "('workplaces', 0.014706417030558708)\n",
            "('residential', 0.10993659027803024)\n",
            "('driving', 0.008715751608539529)\n",
            "('m50', 0.001262254546188023)\n",
            "('m50_index', 0.0009495939349204152)\n",
            "('population_density', 0.037614980267088836)\n",
            "('mask_rule_active', 0.0007865785680838536)\n",
            "[0.00130918 0.00033403 0.00202425 0.00226943 0.00650965 0.07983462\n",
            " 0.01065277 0.00243528 0.00025137 0.07182635 0.00048376 0.03483274\n",
            " 0.05391838 0.03590842 0.04383322 0.03454965 0.01918916 0.06869807\n",
            " 0.09028522 0.07561473 0.         0.         0.         0.\n",
            " 0.06447828 0.04988383 0.04271186 0.02308627 0.00939051 0.04086151\n",
            " 0.02621128 0.00054361 0.06600022 0.01865462 0.02341771]\n",
            "[False False False False False  True False False False  True False False\n",
            " False False False False False  True False False False False False False\n",
            " False False False False False False False False False False False]\n",
            "mask_rule_active 25\n",
            "Social distancing index 26\n",
            "% staying home 29\n",
            "Trips/person 22\n",
            "% out-of-county trips 18\n",
            "% out-of-state trips 1\n",
            "Miles/person 21\n",
            "Work trips/person 23\n",
            "Non-work trips/person 28\n",
            "Population 1\n",
            "% change in consumption 27\n",
            "Transit mode share 12\n",
            "% people older than 60 15\n",
            "Median income 5\n",
            "% African Americans 10\n",
            "% Hispanic Americans 9\n",
            "% Male 19\n",
            "Population density 1\n",
            "Employment density 4\n",
            "# hot spots/1000 people 3\n",
            "Hospital beds/1000 people 33\n",
            "ICUs/1000 people 31\n",
            "# contact tracing workers/1000 people 30\n",
            "# contact tracing workers/1000 people rank 32\n",
            "% people older than 60 rank 11\n",
            "COVID exposure/1000 people 2\n",
            "Unemployment claims/1000 people 7\n",
            "Unemployment rate 13\n",
            "% working from home 20\n",
            "Cumulative inflation rate 14\n",
            "% hospital bed utilization 8\n",
            "Testing capacity 24\n",
            "Tests done/1000 people 6\n",
            "% ICU utilization 16\n",
            "Ventilator shortage 17\n",
            "[25 26 29 22 18  1 21 23 28  1 27 12 15  5 10  9 19  1  4  3 33 31 30 32\n",
            " 11  2  7 13 20 14  8 24  6 16 17]\n",
            "3\n"
          ],
          "name": "stdout"
        },
        {
          "output_type": "execute_result",
          "data": {
            "text/plain": [
              "3"
            ]
          },
          "metadata": {
            "tags": []
          },
          "execution_count": 63
        }
      ]
    },
    {
      "cell_type": "markdown",
      "metadata": {
        "id": "EsUcuRPw2MI9",
        "colab_type": "text"
      },
      "source": [
        "### Growth label : 1 -> drastic growth"
      ]
    },
    {
      "cell_type": "code",
      "metadata": {
        "id": "_GtxJRKr1opY",
        "colab_type": "code",
        "colab": {
          "base_uri": "https://localhost:8080/",
          "height": 1000
        },
        "outputId": "b60d026f-5377-4ae3-b7a5-7a3e77a583f4"
      },
      "source": [
        "\n",
        "print(\"** Printing NY all county data for drastic growth  ** \")\n",
        "\n",
        "X = NY_labeled_data_inertia_growth2[inertia_feature_labels]\n",
        "y = NY_labeled_data_inertia_growth2[inertia_target_column]\n",
        "print(X.shape)\n",
        "\n",
        "X_train, X_test, y_train, y_test = train_test_split(X, y, test_size=0.2, random_state=0)\n",
        "\n",
        "\n",
        "# Create a random forest classifier\n",
        "clf = RandomForestClassifier(n_estimators=10000, random_state=0, n_jobs=-1)\n",
        "\n",
        "# Train the classifier\n",
        "clf.fit(X_train, y_train)\n",
        "\n",
        "# Print the name and gini importance of each feature\n",
        "for feature in zip(feature_labels, clf.feature_importances_):\n",
        "    print(feature)\n",
        "\n",
        "\n",
        "\n",
        "#  Supported criteria are “gini” for the Gini impurity and “entropy” for the information gain. \n",
        "\n",
        "clf = RandomForestClassifier(n_estimators=10000, random_state=0,criterion='entropy', n_jobs=-1)\n",
        "\n",
        "# Train the classifier\n",
        "clf.fit(X_train, y_train)\n",
        "\n",
        "# Print the name and gini importance of each feature\n",
        "for feature in zip(feature_labels, clf.feature_importances_):\n",
        "    print(feature)\n",
        "\n",
        "\n",
        "model = ExtraTreesClassifier()\n",
        "model.fit(X, y.values.ravel())\n",
        "# display the relative importance of each attribute\n",
        "print(model.feature_importances_)\n",
        "\n",
        "\n",
        "# create the RFE model and select 3 attributes\n",
        "rfe = RFE(model, 3)\n",
        "rfe = rfe.fit(X, y.values.ravel())\n",
        "# summarize the selection of the attributes\n",
        "print(rfe.support_)\n",
        "for index in range(len(rfe.ranking_)):\n",
        "  print(inertia_feature_labels[index], rfe.ranking_[index])\n",
        "\n",
        "print(rfe.ranking_)\n",
        "print(rfe.n_features_)\n",
        "rfe.n_features_to_select\n"
      ],
      "execution_count": 64,
      "outputs": [
        {
          "output_type": "stream",
          "text": [
            "** Printing NY all county data for drastic growth  ** \n",
            "(294, 35)\n"
          ],
          "name": "stdout"
        },
        {
          "output_type": "stream",
          "text": [
            "/usr/local/lib/python3.6/dist-packages/ipykernel_launcher.py:15: DataConversionWarning: A column-vector y was passed when a 1d array was expected. Please change the shape of y to (n_samples,), for example using ravel().\n",
            "  from ipykernel import kernelapp as app\n"
          ],
          "name": "stderr"
        },
        {
          "output_type": "stream",
          "text": [
            "('retail and recreation', 1.6815122718404812e-05)\n",
            "('grocery and pharmacy', 0.002677059199320723)\n",
            "('parks', 0.0036953572545082064)\n",
            "('transit stations', 0.003771821908318865)\n",
            "('workplaces', 0.022846535886587974)\n",
            "('residential', 0.019185129022343473)\n",
            "('driving', 0.007042152138681831)\n",
            "('m50', 0.0030235866470552856)\n",
            "('m50_index', 0.006569089844970318)\n",
            "('population_density', 0.11927038566052044)\n",
            "('mask_rule_active', 0.00423971738908993)\n"
          ],
          "name": "stdout"
        },
        {
          "output_type": "stream",
          "text": [
            "/usr/local/lib/python3.6/dist-packages/ipykernel_launcher.py:28: DataConversionWarning: A column-vector y was passed when a 1d array was expected. Please change the shape of y to (n_samples,), for example using ravel().\n"
          ],
          "name": "stderr"
        },
        {
          "output_type": "stream",
          "text": [
            "('retail and recreation', 0.0)\n",
            "('grocery and pharmacy', 0.0017082438026137926)\n",
            "('parks', 0.003061706901725762)\n",
            "('transit stations', 0.00291864385297829)\n",
            "('workplaces', 0.020570346209483076)\n",
            "('residential', 0.02027997370276156)\n",
            "('driving', 0.005893985959530621)\n",
            "('m50', 0.0023093266639936986)\n",
            "('m50_index', 0.006068882805743547)\n",
            "('population_density', 0.12964719915601164)\n",
            "('mask_rule_active', 0.0038361151531941676)\n",
            "[0.00320808 0.00132393 0.00113594 0.00183252 0.01765368 0.01801524\n",
            " 0.00383504 0.00282    0.00432242 0.09992955 0.00107376 0.04956401\n",
            " 0.06211439 0.06227525 0.05441236 0.06645162 0.056134   0.09627469\n",
            " 0.07833775 0.0654519  0.         0.         0.         0.\n",
            " 0.05847113 0.0122346  0.01087803 0.03824809 0.02188841 0.02694835\n",
            " 0.0204442  0.00394443 0.0226381  0.01530464 0.02283389]\n",
            "[False False False False False False False False False  True False False\n",
            " False False False False False  True False  True False False False False\n",
            " False False False False False False False False False False False]\n",
            "mask_rule_active 28\n",
            "Social distancing index 29\n",
            "% staying home 27\n",
            "Trips/person 24\n",
            "% out-of-county trips 14\n",
            "% out-of-state trips 16\n",
            "Miles/person 21\n",
            "Work trips/person 23\n",
            "Non-work trips/person 22\n",
            "Population 1\n",
            "% change in consumption 26\n",
            "Transit mode share 10\n",
            "% people older than 60 3\n",
            "Median income 7\n",
            "% African Americans 8\n",
            "% Hispanic Americans 6\n",
            "% Male 5\n",
            "Population density 1\n",
            "Employment density 2\n",
            "# hot spots/1000 people 1\n",
            "Hospital beds/1000 people 32\n",
            "ICUs/1000 people 33\n",
            "# contact tracing workers/1000 people 31\n",
            "# contact tracing workers/1000 people rank 30\n",
            "% people older than 60 rank 4\n",
            "COVID exposure/1000 people 15\n",
            "Unemployment claims/1000 people 19\n",
            "Unemployment rate 9\n",
            "% working from home 13\n",
            "Cumulative inflation rate 11\n",
            "% hospital bed utilization 12\n",
            "Testing capacity 25\n",
            "Tests done/1000 people 18\n",
            "% ICU utilization 20\n",
            "Ventilator shortage 17\n",
            "[28 29 27 24 14 16 21 23 22  1 26 10  3  7  8  6  5  1  2  1 32 33 31 30\n",
            "  4 15 19  9 13 11 12 25 18 20 17]\n",
            "3\n"
          ],
          "name": "stdout"
        },
        {
          "output_type": "execute_result",
          "data": {
            "text/plain": [
              "3"
            ]
          },
          "metadata": {
            "tags": []
          },
          "execution_count": 64
        }
      ]
    },
    {
      "cell_type": "markdown",
      "metadata": {
        "id": "XTHBXj1O2Q_7",
        "colab_type": "text"
      },
      "source": [
        "### Growth label : 2 -> Flat"
      ]
    },
    {
      "cell_type": "code",
      "metadata": {
        "id": "3ve0EpcXun-V",
        "colab_type": "code",
        "colab": {
          "base_uri": "https://localhost:8080/",
          "height": 1000
        },
        "outputId": "bfec25f7-b557-4f78-bbf5-e13a0b70058f"
      },
      "source": [
        "\n",
        "print(\"** Printing NY all county data for Flat  ** \")\n",
        "\n",
        "X = NY_labeled_data_inertia_growth3[inertia_feature_labels]\n",
        "y = NY_labeled_data_inertia_growth3[inertia_target_column]\n",
        "print(X.shape)\n",
        "\n",
        "X_train, X_test, y_train, y_test = train_test_split(X, y, test_size=0.2, random_state=0)\n",
        "\n",
        "\n",
        "# Create a random forest classifier\n",
        "clf = RandomForestClassifier(n_estimators=10000, random_state=0, n_jobs=-1)\n",
        "\n",
        "# Train the classifier\n",
        "clf.fit(X_train, y_train)\n",
        "\n",
        "# Print the name and gini importance of each feature\n",
        "for feature in zip(feature_labels, clf.feature_importances_):\n",
        "    print(feature)\n",
        "\n",
        "\n",
        "\n",
        "#  Supported criteria are “gini” for the Gini impurity and “entropy” for the information gain. \n",
        "\n",
        "clf = RandomForestClassifier(n_estimators=10000, random_state=0,criterion='entropy', n_jobs=-1)\n",
        "\n",
        "# Train the classifier\n",
        "clf.fit(X_train, y_train)\n",
        "\n",
        "# Print the name and gini importance of each feature\n",
        "for feature in zip(feature_labels, clf.feature_importances_):\n",
        "    print(feature)\n",
        "\n",
        "\n",
        "model = ExtraTreesClassifier()\n",
        "model.fit(X, y.values.ravel())\n",
        "# display the relative importance of each attribute\n",
        "print(model.feature_importances_)\n",
        "\n",
        "\n",
        "# create the RFE model and select 3 attributes\n",
        "rfe = RFE(model, 3)\n",
        "rfe = rfe.fit(X, y.values.ravel())\n",
        "# summarize the selection of the attributes\n",
        "print(rfe.support_)\n",
        "for index in range(len(rfe.ranking_)):\n",
        "  print(inertia_feature_labels[index], rfe.ranking_[index])\n",
        "\n",
        "print(rfe.ranking_)\n",
        "print(rfe.n_features_)\n",
        "rfe.n_features_to_select\n"
      ],
      "execution_count": 65,
      "outputs": [
        {
          "output_type": "stream",
          "text": [
            "** Printing NY all county data for Flat  ** \n",
            "(18600, 35)\n"
          ],
          "name": "stdout"
        },
        {
          "output_type": "stream",
          "text": [
            "/usr/local/lib/python3.6/dist-packages/ipykernel_launcher.py:15: DataConversionWarning: A column-vector y was passed when a 1d array was expected. Please change the shape of y to (n_samples,), for example using ravel().\n",
            "  from ipykernel import kernelapp as app\n"
          ],
          "name": "stderr"
        },
        {
          "output_type": "stream",
          "text": [
            "('retail and recreation', 0.0)\n",
            "('grocery and pharmacy', 0.0)\n",
            "('parks', 0.0)\n",
            "('transit stations', 0.0)\n",
            "('workplaces', 0.0)\n",
            "('residential', 0.0)\n",
            "('driving', 0.0)\n",
            "('m50', 0.0)\n",
            "('m50_index', 0.0)\n",
            "('population_density', 0.0)\n",
            "('mask_rule_active', 0.0)\n"
          ],
          "name": "stdout"
        },
        {
          "output_type": "stream",
          "text": [
            "/usr/local/lib/python3.6/dist-packages/ipykernel_launcher.py:28: DataConversionWarning: A column-vector y was passed when a 1d array was expected. Please change the shape of y to (n_samples,), for example using ravel().\n"
          ],
          "name": "stderr"
        },
        {
          "output_type": "stream",
          "text": [
            "('retail and recreation', 0.0)\n",
            "('grocery and pharmacy', 0.0)\n",
            "('parks', 0.0)\n",
            "('transit stations', 0.0)\n",
            "('workplaces', 0.0)\n",
            "('residential', 0.0)\n",
            "('driving', 0.0)\n",
            "('m50', 0.0)\n",
            "('m50_index', 0.0)\n",
            "('population_density', 0.0)\n",
            "('mask_rule_active', 0.0)\n",
            "[0. 0. 0. 0. 0. 0. 0. 0. 0. 0. 0. 0. 0. 0. 0. 0. 0. 0. 0. 0. 0. 0. 0. 0.\n",
            " 0. 0. 0. 0. 0. 0. 0. 0. 0. 0. 0.]\n",
            "[False False False False False False False False False False False False\n",
            " False False False False False False False False False False False False\n",
            " False False False False False False False False  True  True  True]\n",
            "mask_rule_active 33\n",
            "Social distancing index 32\n",
            "% staying home 31\n",
            "Trips/person 30\n",
            "% out-of-county trips 29\n",
            "% out-of-state trips 28\n",
            "Miles/person 27\n",
            "Work trips/person 26\n",
            "Non-work trips/person 25\n",
            "Population 24\n",
            "% change in consumption 23\n",
            "Transit mode share 22\n",
            "% people older than 60 21\n",
            "Median income 20\n",
            "% African Americans 19\n",
            "% Hispanic Americans 18\n",
            "% Male 17\n",
            "Population density 16\n",
            "Employment density 15\n",
            "# hot spots/1000 people 14\n",
            "Hospital beds/1000 people 13\n",
            "ICUs/1000 people 12\n",
            "# contact tracing workers/1000 people 11\n",
            "# contact tracing workers/1000 people rank 10\n",
            "% people older than 60 rank 9\n",
            "COVID exposure/1000 people 8\n",
            "Unemployment claims/1000 people 7\n",
            "Unemployment rate 6\n",
            "% working from home 5\n",
            "Cumulative inflation rate 4\n",
            "% hospital bed utilization 3\n",
            "Testing capacity 2\n",
            "Tests done/1000 people 1\n",
            "% ICU utilization 1\n",
            "Ventilator shortage 1\n",
            "[33 32 31 30 29 28 27 26 25 24 23 22 21 20 19 18 17 16 15 14 13 12 11 10\n",
            "  9  8  7  6  5  4  3  2  1  1  1]\n",
            "3\n"
          ],
          "name": "stdout"
        },
        {
          "output_type": "execute_result",
          "data": {
            "text/plain": [
              "3"
            ]
          },
          "metadata": {
            "tags": []
          },
          "execution_count": 65
        }
      ]
    },
    {
      "cell_type": "markdown",
      "metadata": {
        "id": "FTQ2z5882WcJ",
        "colab_type": "text"
      },
      "source": [
        "### Growth label : 3 -> mild decrement"
      ]
    },
    {
      "cell_type": "code",
      "metadata": {
        "id": "G3n4un4e0hnr",
        "colab_type": "code",
        "colab": {
          "base_uri": "https://localhost:8080/",
          "height": 1000
        },
        "outputId": "6ed11fd0-3dc4-45ca-913a-82f6b6115b39"
      },
      "source": [
        "\n",
        "print(\"** Printing NY all county data for mild decrement ** \")\n",
        "\n",
        "X = NY_labeled_data_inertia_growth4[inertia_feature_labels]\n",
        "y = NY_labeled_data_inertia_growth4[inertia_target_column]\n",
        "print(X.shape)\n",
        "\n",
        "X_train, X_test, y_train, y_test = train_test_split(X, y, test_size=0.2, random_state=0)\n",
        "\n",
        "\n",
        "# Create a random forest classifier\n",
        "clf = RandomForestClassifier(n_estimators=10000, random_state=0, n_jobs=-1)\n",
        "\n",
        "# Train the classifier\n",
        "clf.fit(X_train, y_train)\n",
        "\n",
        "# Print the name and gini importance of each feature\n",
        "for feature in zip(feature_labels, clf.feature_importances_):\n",
        "    print(feature)\n",
        "\n",
        "\n",
        "\n",
        "#  Supported criteria are “gini” for the Gini impurity and “entropy” for the information gain. \n",
        "\n",
        "clf = RandomForestClassifier(n_estimators=10000, random_state=0,criterion='entropy', n_jobs=-1)\n",
        "\n",
        "# Train the classifier\n",
        "clf.fit(X_train, y_train)\n",
        "\n",
        "# Print the name and gini importance of each feature\n",
        "for feature in zip(feature_labels, clf.feature_importances_):\n",
        "    print(feature)\n",
        "\n",
        "\n",
        "model = ExtraTreesClassifier()\n",
        "model.fit(X, y.values.ravel())\n",
        "# display the relative importance of each attribute\n",
        "print(model.feature_importances_)\n",
        "\n",
        "\n",
        "# create the RFE model and select 3 attributes\n",
        "rfe = RFE(model, 3)\n",
        "rfe = rfe.fit(X, y.values.ravel())\n",
        "# summarize the selection of the attributes\n",
        "print(rfe.support_)\n",
        "for index in range(len(rfe.ranking_)):\n",
        "  print(inertia_feature_labels[index], rfe.ranking_[index])\n",
        "\n",
        "print(rfe.ranking_)\n",
        "print(rfe.n_features_)\n",
        "rfe.n_features_to_select\n"
      ],
      "execution_count": 66,
      "outputs": [
        {
          "output_type": "stream",
          "text": [
            "** Printing NY all county data for mild decrement ** \n",
            "(17022, 35)\n"
          ],
          "name": "stdout"
        },
        {
          "output_type": "stream",
          "text": [
            "/usr/local/lib/python3.6/dist-packages/ipykernel_launcher.py:15: DataConversionWarning: A column-vector y was passed when a 1d array was expected. Please change the shape of y to (n_samples,), for example using ravel().\n",
            "  from ipykernel import kernelapp as app\n"
          ],
          "name": "stderr"
        },
        {
          "output_type": "stream",
          "text": [
            "('retail and recreation', 0.003805986731199468)\n",
            "('grocery and pharmacy', 0.011960284911170047)\n",
            "('parks', 0.011779534032583713)\n",
            "('transit stations', 0.012602558161134397)\n",
            "('workplaces', 0.039734458524159515)\n",
            "('residential', 0.03488196836118721)\n",
            "('driving', 0.024444425676504716)\n",
            "('m50', 0.015160482888369188)\n",
            "('m50_index', 0.013464113209650182)\n",
            "('population_density', 0.08715042218788499)\n",
            "('mask_rule_active', 0.014986193256874145)\n"
          ],
          "name": "stdout"
        },
        {
          "output_type": "stream",
          "text": [
            "/usr/local/lib/python3.6/dist-packages/ipykernel_launcher.py:28: DataConversionWarning: A column-vector y was passed when a 1d array was expected. Please change the shape of y to (n_samples,), for example using ravel().\n"
          ],
          "name": "stderr"
        },
        {
          "output_type": "stream",
          "text": [
            "('retail and recreation', 0.003594606460486641)\n",
            "('grocery and pharmacy', 0.008724204413547333)\n",
            "('parks', 0.008343209348008189)\n",
            "('transit stations', 0.007718257086716721)\n",
            "('workplaces', 0.030703171337259468)\n",
            "('residential', 0.029988595741172613)\n",
            "('driving', 0.019754814870883024)\n",
            "('m50', 0.009652558556286791)\n",
            "('m50_index', 0.00880327133024796)\n",
            "('population_density', 0.08033363770613434)\n",
            "('mask_rule_active', 0.010767771835757408)\n",
            "[0.00535778 0.01431881 0.01442145 0.01291731 0.03541244 0.0310943\n",
            " 0.02250052 0.01649979 0.01406875 0.07840883 0.01390329 0.04812657\n",
            " 0.05503774 0.05989961 0.05454618 0.05391924 0.0435435  0.0705691\n",
            " 0.0625557  0.04789509 0.         0.         0.         0.\n",
            " 0.05338039 0.02147407 0.0218183  0.02020819 0.01687593 0.014961\n",
            " 0.01859941 0.01045584 0.02741128 0.02090032 0.01891927]\n",
            "[False False False False False False False False False  True False False\n",
            " False False False False False  True False False False False False False\n",
            " False False False False False False False False  True False False]\n",
            "mask_rule_active 29\n",
            "Social distancing index 23\n",
            "% staying home 25\n",
            "Trips/person 27\n",
            "% out-of-county trips 15\n",
            "% out-of-state trips 17\n",
            "Miles/person 20\n",
            "Work trips/person 22\n",
            "Non-work trips/person 26\n",
            "Population 1\n",
            "% change in consumption 24\n",
            "Transit mode share 11\n",
            "% people older than 60 6\n",
            "Median income 2\n",
            "% African Americans 8\n",
            "% Hispanic Americans 3\n",
            "% Male 13\n",
            "Population density 1\n",
            "Employment density 5\n",
            "# hot spots/1000 people 9\n",
            "Hospital beds/1000 people 30\n",
            "ICUs/1000 people 31\n",
            "# contact tracing workers/1000 people 32\n",
            "# contact tracing workers/1000 people rank 33\n",
            "% people older than 60 rank 12\n",
            "COVID exposure/1000 people 4\n",
            "Unemployment claims/1000 people 14\n",
            "Unemployment rate 7\n",
            "% working from home 19\n",
            "Cumulative inflation rate 21\n",
            "% hospital bed utilization 18\n",
            "Testing capacity 28\n",
            "Tests done/1000 people 1\n",
            "% ICU utilization 10\n",
            "Ventilator shortage 16\n",
            "[29 23 25 27 15 17 20 22 26  1 24 11  6  2  8  3 13  1  5  9 30 31 32 33\n",
            " 12  4 14  7 19 21 18 28  1 10 16]\n",
            "3\n"
          ],
          "name": "stdout"
        },
        {
          "output_type": "execute_result",
          "data": {
            "text/plain": [
              "3"
            ]
          },
          "metadata": {
            "tags": []
          },
          "execution_count": 66
        }
      ]
    },
    {
      "cell_type": "markdown",
      "metadata": {
        "id": "OzjsO9lq2aI4",
        "colab_type": "text"
      },
      "source": [
        "### Growth label : 4 -> mild increment"
      ]
    },
    {
      "cell_type": "code",
      "metadata": {
        "id": "6Ummv4uj1yup",
        "colab_type": "code",
        "colab": {
          "base_uri": "https://localhost:8080/",
          "height": 1000
        },
        "outputId": "b1e40ce7-b7ee-44c7-e6ff-e9cf3bb39097"
      },
      "source": [
        "\n",
        "print(\"** Printing NY all county data for mild increment ** \")\n",
        "\n",
        "X = NY_labeled_data_inertia_growth5[inertia_feature_labels]\n",
        "y = NY_labeled_data_inertia_growth5[inertia_target_column]\n",
        "print(X.shape)\n",
        "\n",
        "X_train, X_test, y_train, y_test = train_test_split(X, y, test_size=0.2, random_state=0)\n",
        "\n",
        "\n",
        "# Create a random forest classifier\n",
        "clf = RandomForestClassifier(n_estimators=10000, random_state=0, n_jobs=-1)\n",
        "\n",
        "# Train the classifier\n",
        "clf.fit(X_train, y_train)\n",
        "\n",
        "# Print the name and gini importance of each feature\n",
        "for feature in zip(feature_labels, clf.feature_importances_):\n",
        "    print(feature)\n",
        "\n",
        "\n",
        "\n",
        "#  Supported criteria are “gini” for the Gini impurity and “entropy” for the information gain. \n",
        "\n",
        "clf = RandomForestClassifier(n_estimators=10000, random_state=0,criterion='entropy', n_jobs=-1)\n",
        "\n",
        "# Train the classifier\n",
        "clf.fit(X_train, y_train)\n",
        "\n",
        "# Print the name and gini importance of each feature\n",
        "for feature in zip(feature_labels, clf.feature_importances_):\n",
        "    print(feature)\n",
        "\n",
        "\n",
        "model = ExtraTreesClassifier()\n",
        "model.fit(X, y.values.ravel())\n",
        "# display the relative importance of each attribute\n",
        "print(model.feature_importances_)\n",
        "\n",
        "\n",
        "# create the RFE model and select 3 attributes\n",
        "rfe = RFE(model, 3)\n",
        "rfe = rfe.fit(X, y.values.ravel())\n",
        "# summarize the selection of the attributes\n",
        "print(rfe.support_)\n",
        "for index in range(len(rfe.ranking_)):\n",
        "  print(inertia_feature_labels[index], rfe.ranking_[index])\n",
        "\n",
        "print(rfe.ranking_)\n",
        "print(rfe.n_features_)\n",
        "rfe.n_features_to_select\n"
      ],
      "execution_count": 67,
      "outputs": [
        {
          "output_type": "stream",
          "text": [
            "** Printing NY all county data for mild increment ** \n",
            "(17044, 35)\n"
          ],
          "name": "stdout"
        },
        {
          "output_type": "stream",
          "text": [
            "/usr/local/lib/python3.6/dist-packages/ipykernel_launcher.py:15: DataConversionWarning: A column-vector y was passed when a 1d array was expected. Please change the shape of y to (n_samples,), for example using ravel().\n",
            "  from ipykernel import kernelapp as app\n"
          ],
          "name": "stderr"
        },
        {
          "output_type": "stream",
          "text": [
            "('retail and recreation', 0.003071334563581145)\n",
            "('grocery and pharmacy', 0.011687924530537986)\n",
            "('parks', 0.012880382906463685)\n",
            "('transit stations', 0.014100361049880567)\n",
            "('workplaces', 0.03879317226143204)\n",
            "('residential', 0.03433119221181563)\n",
            "('driving', 0.021081434826820983)\n",
            "('m50', 0.020304342138242466)\n",
            "('m50_index', 0.014614900775406817)\n",
            "('population_density', 0.0632569316127214)\n",
            "('mask_rule_active', 0.015772130954790842)\n"
          ],
          "name": "stdout"
        },
        {
          "output_type": "stream",
          "text": [
            "/usr/local/lib/python3.6/dist-packages/ipykernel_launcher.py:28: DataConversionWarning: A column-vector y was passed when a 1d array was expected. Please change the shape of y to (n_samples,), for example using ravel().\n"
          ],
          "name": "stderr"
        },
        {
          "output_type": "stream",
          "text": [
            "('retail and recreation', 0.002974217285647321)\n",
            "('grocery and pharmacy', 0.009216078816858961)\n",
            "('parks', 0.010429010546835905)\n",
            "('transit stations', 0.01124739584707126)\n",
            "('workplaces', 0.035789998652847085)\n",
            "('residential', 0.03158834187636445)\n",
            "('driving', 0.017205692117915967)\n",
            "('m50', 0.018065168170365128)\n",
            "('m50_index', 0.011850022861439173)\n",
            "('population_density', 0.06911018876458501)\n",
            "('mask_rule_active', 0.012256519531714067)\n",
            "[0.0073543  0.01410708 0.01588481 0.01435787 0.0344702  0.03603398\n",
            " 0.01836679 0.0204069  0.01502685 0.05155948 0.01528367 0.04732584\n",
            " 0.0505686  0.05661034 0.05294683 0.05399861 0.05704829 0.05115154\n",
            " 0.05145143 0.05366643 0.         0.         0.         0.\n",
            " 0.05144752 0.02745709 0.02038169 0.02055438 0.01796236 0.0154389\n",
            " 0.02411814 0.0127172  0.03814514 0.02880506 0.02535268]\n",
            "[False False False False False False False False False False False False\n",
            " False  True False False  True False False False False False False False\n",
            " False False False False False False False False  True False False]\n",
            "mask_rule_active 29\n",
            "Social distancing index 27\n",
            "% staying home 23\n",
            "Trips/person 26\n",
            "% out-of-county trips 17\n",
            "% out-of-state trips 15\n",
            "Miles/person 21\n",
            "Work trips/person 20\n",
            "Non-work trips/person 24\n",
            "Population 5\n",
            "% change in consumption 25\n",
            "Transit mode share 13\n",
            "% people older than 60 12\n",
            "Median income 1\n",
            "% African Americans 6\n",
            "% Hispanic Americans 2\n",
            "% Male 1\n",
            "Population density 10\n",
            "Employment density 9\n",
            "# hot spots/1000 people 3\n",
            "Hospital beds/1000 people 33\n",
            "ICUs/1000 people 30\n",
            "# contact tracing workers/1000 people 31\n",
            "# contact tracing workers/1000 people rank 32\n",
            "% people older than 60 rank 8\n",
            "COVID exposure/1000 people 7\n",
            "Unemployment claims/1000 people 18\n",
            "Unemployment rate 11\n",
            "% working from home 19\n",
            "Cumulative inflation rate 22\n",
            "% hospital bed utilization 14\n",
            "Testing capacity 28\n",
            "Tests done/1000 people 1\n",
            "% ICU utilization 4\n",
            "Ventilator shortage 16\n",
            "[29 27 23 26 17 15 21 20 24  5 25 13 12  1  6  2  1 10  9  3 33 30 31 32\n",
            "  8  7 18 11 19 22 14 28  1  4 16]\n",
            "3\n"
          ],
          "name": "stdout"
        },
        {
          "output_type": "execute_result",
          "data": {
            "text/plain": [
              "3"
            ]
          },
          "metadata": {
            "tags": []
          },
          "execution_count": 67
        }
      ]
    }
  ]
}