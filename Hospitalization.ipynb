{
  "nbformat": 4,
  "nbformat_minor": 0,
  "metadata": {
    "colab": {
      "name": "Hospitalization.ipynb",
      "provenance": [],
      "collapsed_sections": [],
      "include_colab_link": true
    },
    "kernelspec": {
      "name": "python3",
      "display_name": "Python 3"
    }
  },
  "cells": [
    {
      "cell_type": "markdown",
      "metadata": {
        "id": "view-in-github",
        "colab_type": "text"
      },
      "source": [
        "<a href=\"https://colab.research.google.com/github/aarsanjani/meansquares/blob/master/Hospitalization.ipynb\" target=\"_parent\"><img src=\"https://colab.research.google.com/assets/colab-badge.svg\" alt=\"Open In Colab\"/></a>"
      ]
    },
    {
      "cell_type": "markdown",
      "metadata": {
        "id": "FqO055H2G2Uh",
        "colab_type": "text"
      },
      "source": [
        "# Hospitalization"
      ]
    },
    {
      "cell_type": "markdown",
      "metadata": {
        "id": "i9ZoCsgvL6A1",
        "colab_type": "text"
      },
      "source": [
        "## Imports"
      ]
    },
    {
      "cell_type": "code",
      "metadata": {
        "id": "KZNxFADyGKqD",
        "colab_type": "code",
        "colab": {
          "base_uri": "https://localhost:8080/",
          "height": 34
        },
        "outputId": "bc09b5d4-f34e-4cd1-c3ba-12468faa5c46"
      },
      "source": [
        "from google.colab import drive\n",
        "drive.mount('/content/drive')"
      ],
      "execution_count": null,
      "outputs": [
        {
          "output_type": "stream",
          "text": [
            "Drive already mounted at /content/drive; to attempt to forcibly remount, call drive.mount(\"/content/drive\", force_remount=True).\n"
          ],
          "name": "stdout"
        }
      ]
    },
    {
      "cell_type": "code",
      "metadata": {
        "id": "puCjNB6mGk-o",
        "colab_type": "code",
        "colab": {}
      },
      "source": [
        "import pandas as pd"
      ],
      "execution_count": null,
      "outputs": []
    },
    {
      "cell_type": "markdown",
      "metadata": {
        "id": "fp-ZumIgL7cM",
        "colab_type": "text"
      },
      "source": [
        "## Load Data"
      ]
    },
    {
      "cell_type": "code",
      "metadata": {
        "id": "k9pN__ZCGlfE",
        "colab_type": "code",
        "colab": {
          "base_uri": "https://localhost:8080/",
          "height": 224
        },
        "outputId": "edb565d5-9cd0-4343-e9bf-480bfb0e1325"
      },
      "source": [
        "hospital_data_county = pd.read_csv('https://data.ca.gov/dataset/529ac907-6ba1-4cb7-9aae-8966fc96aeef/resource/42d33765-20fd-44b8-a978-b083b7542225/download/hospitals_by_county.csv')\n",
        "hospital_data_county.head()"
      ],
      "execution_count": null,
      "outputs": [
        {
          "output_type": "execute_result",
          "data": {
            "text/html": [
              "<div>\n",
              "<style scoped>\n",
              "    .dataframe tbody tr th:only-of-type {\n",
              "        vertical-align: middle;\n",
              "    }\n",
              "\n",
              "    .dataframe tbody tr th {\n",
              "        vertical-align: top;\n",
              "    }\n",
              "\n",
              "    .dataframe thead th {\n",
              "        text-align: right;\n",
              "    }\n",
              "</style>\n",
              "<table border=\"1\" class=\"dataframe\">\n",
              "  <thead>\n",
              "    <tr style=\"text-align: right;\">\n",
              "      <th></th>\n",
              "      <th>county</th>\n",
              "      <th>todays_date</th>\n",
              "      <th>hospitalized_covid_confirmed_patients</th>\n",
              "      <th>hospitalized_suspected_covid_patients</th>\n",
              "      <th>hospitalized_covid_patients</th>\n",
              "      <th>all_hospital_beds</th>\n",
              "      <th>icu_covid_confirmed_patients</th>\n",
              "      <th>icu_suspected_covid_patients</th>\n",
              "      <th>icu_available_beds</th>\n",
              "    </tr>\n",
              "  </thead>\n",
              "  <tbody>\n",
              "    <tr>\n",
              "      <th>0</th>\n",
              "      <td>Yuba</td>\n",
              "      <td>2020-03-29</td>\n",
              "      <td>2.0</td>\n",
              "      <td>12.0</td>\n",
              "      <td>NaN</td>\n",
              "      <td>NaN</td>\n",
              "      <td>2.0</td>\n",
              "      <td>4.0</td>\n",
              "      <td>2.0</td>\n",
              "    </tr>\n",
              "    <tr>\n",
              "      <th>1</th>\n",
              "      <td>Stanislaus</td>\n",
              "      <td>2020-03-29</td>\n",
              "      <td>20.0</td>\n",
              "      <td>48.0</td>\n",
              "      <td>NaN</td>\n",
              "      <td>NaN</td>\n",
              "      <td>9.0</td>\n",
              "      <td>8.0</td>\n",
              "      <td>25.0</td>\n",
              "    </tr>\n",
              "    <tr>\n",
              "      <th>2</th>\n",
              "      <td>Riverside</td>\n",
              "      <td>2020-03-29</td>\n",
              "      <td>44.0</td>\n",
              "      <td>78.0</td>\n",
              "      <td>NaN</td>\n",
              "      <td>NaN</td>\n",
              "      <td>13.0</td>\n",
              "      <td>20.0</td>\n",
              "      <td>46.0</td>\n",
              "    </tr>\n",
              "    <tr>\n",
              "      <th>3</th>\n",
              "      <td>Napa</td>\n",
              "      <td>2020-03-29</td>\n",
              "      <td>0.0</td>\n",
              "      <td>26.0</td>\n",
              "      <td>NaN</td>\n",
              "      <td>NaN</td>\n",
              "      <td>NaN</td>\n",
              "      <td>NaN</td>\n",
              "      <td>5.0</td>\n",
              "    </tr>\n",
              "    <tr>\n",
              "      <th>4</th>\n",
              "      <td>Marin</td>\n",
              "      <td>2020-03-29</td>\n",
              "      <td>7.0</td>\n",
              "      <td>13.0</td>\n",
              "      <td>NaN</td>\n",
              "      <td>NaN</td>\n",
              "      <td>2.0</td>\n",
              "      <td>6.0</td>\n",
              "      <td>11.0</td>\n",
              "    </tr>\n",
              "  </tbody>\n",
              "</table>\n",
              "</div>"
            ],
            "text/plain": [
              "       county todays_date  ...  icu_suspected_covid_patients  icu_available_beds\n",
              "0        Yuba  2020-03-29  ...                           4.0                 2.0\n",
              "1  Stanislaus  2020-03-29  ...                           8.0                25.0\n",
              "2   Riverside  2020-03-29  ...                          20.0                46.0\n",
              "3        Napa  2020-03-29  ...                           NaN                 5.0\n",
              "4       Marin  2020-03-29  ...                           6.0                11.0\n",
              "\n",
              "[5 rows x 9 columns]"
            ]
          },
          "metadata": {
            "tags": []
          },
          "execution_count": 3
        }
      ]
    },
    {
      "cell_type": "code",
      "metadata": {
        "id": "P5Ph1D-MdqwV",
        "colab_type": "code",
        "colab": {
          "base_uri": "https://localhost:8080/",
          "height": 34
        },
        "outputId": "baf84f49-f126-4a61-ec6d-dfe781000e56"
      },
      "source": [
        "hospital_data_county.shape"
      ],
      "execution_count": null,
      "outputs": [
        {
          "output_type": "execute_result",
          "data": {
            "text/plain": [
              "(7781, 9)"
            ]
          },
          "metadata": {
            "tags": []
          },
          "execution_count": 4
        }
      ]
    },
    {
      "cell_type": "markdown",
      "metadata": {
        "id": "2otIyEdxMCD3",
        "colab_type": "text"
      },
      "source": [
        "## Clean Data"
      ]
    },
    {
      "cell_type": "code",
      "metadata": {
        "id": "lhqqw4hobQK_",
        "colab_type": "code",
        "colab": {}
      },
      "source": [
        "hospital_data_county_notna = hospital_data_county[hospital_data_county['hospitalized_covid_patients'].notna()]"
      ],
      "execution_count": null,
      "outputs": []
    },
    {
      "cell_type": "code",
      "metadata": {
        "id": "ixQhFGHxcVIq",
        "colab_type": "code",
        "colab": {
          "base_uri": "https://localhost:8080/",
          "height": 258
        },
        "outputId": "977eff4d-ee13-427f-88d2-84f23ae61e24"
      },
      "source": [
        "hospital_data_county_notna.head()"
      ],
      "execution_count": null,
      "outputs": [
        {
          "output_type": "execute_result",
          "data": {
            "text/html": [
              "<div>\n",
              "<style scoped>\n",
              "    .dataframe tbody tr th:only-of-type {\n",
              "        vertical-align: middle;\n",
              "    }\n",
              "\n",
              "    .dataframe tbody tr th {\n",
              "        vertical-align: top;\n",
              "    }\n",
              "\n",
              "    .dataframe thead th {\n",
              "        text-align: right;\n",
              "    }\n",
              "</style>\n",
              "<table border=\"1\" class=\"dataframe\">\n",
              "  <thead>\n",
              "    <tr style=\"text-align: right;\">\n",
              "      <th></th>\n",
              "      <th>county</th>\n",
              "      <th>todays_date</th>\n",
              "      <th>hospitalized_covid_confirmed_patients</th>\n",
              "      <th>hospitalized_suspected_covid_patients</th>\n",
              "      <th>hospitalized_covid_patients</th>\n",
              "      <th>all_hospital_beds</th>\n",
              "      <th>icu_covid_confirmed_patients</th>\n",
              "      <th>icu_suspected_covid_patients</th>\n",
              "      <th>icu_available_beds</th>\n",
              "    </tr>\n",
              "  </thead>\n",
              "  <tbody>\n",
              "    <tr>\n",
              "      <th>1285</th>\n",
              "      <td>San Mateo</td>\n",
              "      <td>2020-04-21</td>\n",
              "      <td>53.0</td>\n",
              "      <td>14.0</td>\n",
              "      <td>67.0</td>\n",
              "      <td>395.0</td>\n",
              "      <td>19.0</td>\n",
              "      <td>2.0</td>\n",
              "      <td>33.0</td>\n",
              "    </tr>\n",
              "    <tr>\n",
              "      <th>1286</th>\n",
              "      <td>Contra Costa</td>\n",
              "      <td>2020-04-21</td>\n",
              "      <td>33.0</td>\n",
              "      <td>44.0</td>\n",
              "      <td>77.0</td>\n",
              "      <td>1037.0</td>\n",
              "      <td>13.0</td>\n",
              "      <td>11.0</td>\n",
              "      <td>71.0</td>\n",
              "    </tr>\n",
              "    <tr>\n",
              "      <th>1287</th>\n",
              "      <td>Napa</td>\n",
              "      <td>2020-04-21</td>\n",
              "      <td>1.0</td>\n",
              "      <td>1.0</td>\n",
              "      <td>2.0</td>\n",
              "      <td>387.0</td>\n",
              "      <td>1.0</td>\n",
              "      <td>0.0</td>\n",
              "      <td>9.0</td>\n",
              "    </tr>\n",
              "    <tr>\n",
              "      <th>1288</th>\n",
              "      <td>Tuolumne</td>\n",
              "      <td>2020-04-21</td>\n",
              "      <td>0.0</td>\n",
              "      <td>0.0</td>\n",
              "      <td>0.0</td>\n",
              "      <td>90.0</td>\n",
              "      <td>0.0</td>\n",
              "      <td>0.0</td>\n",
              "      <td>3.0</td>\n",
              "    </tr>\n",
              "    <tr>\n",
              "      <th>1289</th>\n",
              "      <td>Ventura</td>\n",
              "      <td>2020-04-21</td>\n",
              "      <td>28.0</td>\n",
              "      <td>28.0</td>\n",
              "      <td>56.0</td>\n",
              "      <td>976.0</td>\n",
              "      <td>9.0</td>\n",
              "      <td>10.0</td>\n",
              "      <td>25.0</td>\n",
              "    </tr>\n",
              "  </tbody>\n",
              "</table>\n",
              "</div>"
            ],
            "text/plain": [
              "            county  ... icu_available_beds\n",
              "1285     San Mateo  ...               33.0\n",
              "1286  Contra Costa  ...               71.0\n",
              "1287          Napa  ...                9.0\n",
              "1288      Tuolumne  ...                3.0\n",
              "1289       Ventura  ...               25.0\n",
              "\n",
              "[5 rows x 9 columns]"
            ]
          },
          "metadata": {
            "tags": []
          },
          "execution_count": 6
        }
      ]
    },
    {
      "cell_type": "code",
      "metadata": {
        "id": "l_ER9mU3dHsg",
        "colab_type": "code",
        "colab": {
          "base_uri": "https://localhost:8080/",
          "height": 34
        },
        "outputId": "2f918a5f-87aa-4c0d-d428-fcacb9b6f968"
      },
      "source": [
        "hospital_data_county_notna.shape"
      ],
      "execution_count": null,
      "outputs": [
        {
          "output_type": "execute_result",
          "data": {
            "text/plain": [
              "(6496, 9)"
            ]
          },
          "metadata": {
            "tags": []
          },
          "execution_count": 7
        }
      ]
    },
    {
      "cell_type": "markdown",
      "metadata": {
        "id": "2KNzEBLlMD7I",
        "colab_type": "text"
      },
      "source": [
        "## Pre Process Data"
      ]
    },
    {
      "cell_type": "code",
      "metadata": {
        "id": "-oSuUd7lMG0V",
        "colab_type": "code",
        "colab": {
          "base_uri": "https://localhost:8080/",
          "height": 224
        },
        "outputId": "a7add273-bec7-4eed-f5c7-dd8d74f59c6e"
      },
      "source": [
        "hospital_data_county.head()"
      ],
      "execution_count": null,
      "outputs": [
        {
          "output_type": "execute_result",
          "data": {
            "text/html": [
              "<div>\n",
              "<style scoped>\n",
              "    .dataframe tbody tr th:only-of-type {\n",
              "        vertical-align: middle;\n",
              "    }\n",
              "\n",
              "    .dataframe tbody tr th {\n",
              "        vertical-align: top;\n",
              "    }\n",
              "\n",
              "    .dataframe thead th {\n",
              "        text-align: right;\n",
              "    }\n",
              "</style>\n",
              "<table border=\"1\" class=\"dataframe\">\n",
              "  <thead>\n",
              "    <tr style=\"text-align: right;\">\n",
              "      <th></th>\n",
              "      <th>county</th>\n",
              "      <th>todays_date</th>\n",
              "      <th>hospitalized_covid_confirmed_patients</th>\n",
              "      <th>hospitalized_suspected_covid_patients</th>\n",
              "      <th>hospitalized_covid_patients</th>\n",
              "      <th>all_hospital_beds</th>\n",
              "      <th>icu_covid_confirmed_patients</th>\n",
              "      <th>icu_suspected_covid_patients</th>\n",
              "      <th>icu_available_beds</th>\n",
              "    </tr>\n",
              "  </thead>\n",
              "  <tbody>\n",
              "    <tr>\n",
              "      <th>0</th>\n",
              "      <td>Yuba</td>\n",
              "      <td>2020-03-29</td>\n",
              "      <td>2.0</td>\n",
              "      <td>12.0</td>\n",
              "      <td>NaN</td>\n",
              "      <td>NaN</td>\n",
              "      <td>2.0</td>\n",
              "      <td>4.0</td>\n",
              "      <td>2.0</td>\n",
              "    </tr>\n",
              "    <tr>\n",
              "      <th>1</th>\n",
              "      <td>Stanislaus</td>\n",
              "      <td>2020-03-29</td>\n",
              "      <td>20.0</td>\n",
              "      <td>48.0</td>\n",
              "      <td>NaN</td>\n",
              "      <td>NaN</td>\n",
              "      <td>9.0</td>\n",
              "      <td>8.0</td>\n",
              "      <td>25.0</td>\n",
              "    </tr>\n",
              "    <tr>\n",
              "      <th>2</th>\n",
              "      <td>Riverside</td>\n",
              "      <td>2020-03-29</td>\n",
              "      <td>44.0</td>\n",
              "      <td>78.0</td>\n",
              "      <td>NaN</td>\n",
              "      <td>NaN</td>\n",
              "      <td>13.0</td>\n",
              "      <td>20.0</td>\n",
              "      <td>46.0</td>\n",
              "    </tr>\n",
              "    <tr>\n",
              "      <th>3</th>\n",
              "      <td>Napa</td>\n",
              "      <td>2020-03-29</td>\n",
              "      <td>0.0</td>\n",
              "      <td>26.0</td>\n",
              "      <td>NaN</td>\n",
              "      <td>NaN</td>\n",
              "      <td>NaN</td>\n",
              "      <td>NaN</td>\n",
              "      <td>5.0</td>\n",
              "    </tr>\n",
              "    <tr>\n",
              "      <th>4</th>\n",
              "      <td>Marin</td>\n",
              "      <td>2020-03-29</td>\n",
              "      <td>7.0</td>\n",
              "      <td>13.0</td>\n",
              "      <td>NaN</td>\n",
              "      <td>NaN</td>\n",
              "      <td>2.0</td>\n",
              "      <td>6.0</td>\n",
              "      <td>11.0</td>\n",
              "    </tr>\n",
              "  </tbody>\n",
              "</table>\n",
              "</div>"
            ],
            "text/plain": [
              "       county todays_date  ...  icu_suspected_covid_patients  icu_available_beds\n",
              "0        Yuba  2020-03-29  ...                           4.0                 2.0\n",
              "1  Stanislaus  2020-03-29  ...                           8.0                25.0\n",
              "2   Riverside  2020-03-29  ...                          20.0                46.0\n",
              "3        Napa  2020-03-29  ...                           NaN                 5.0\n",
              "4       Marin  2020-03-29  ...                           6.0                11.0\n",
              "\n",
              "[5 rows x 9 columns]"
            ]
          },
          "metadata": {
            "tags": []
          },
          "execution_count": 8
        }
      ]
    },
    {
      "cell_type": "code",
      "metadata": {
        "id": "z-NH0jxvQJRN",
        "colab_type": "code",
        "colab": {}
      },
      "source": [
        "ignore_columns = ['county', 'todays_date', 'hospitalized_covid_patients', 'icu_covid_confirmed_patients', 'icu_suspected_covid_patients', 'icu_available_beds']\n",
        "percent_suspected_covid_patients_positive = 1.00\n",
        "complete = 0\n",
        "hospital_data_county['Percent_positive_COVID_Hospital_BED'] = 0\n",
        "hospital_data_county['beds_occupied'] = 0"
      ],
      "execution_count": null,
      "outputs": []
    },
    {
      "cell_type": "markdown",
      "metadata": {
        "id": "-0Xyw1ZSQ22W",
        "colab_type": "text"
      },
      "source": [
        "Formula Used:\n",
        "\n",
        "beds occupied = hospitalized_covid_patient + hospitalized_suspected_covid_patient + hospitalized_covid_confirmed_patients\n",
        "\n",
        "Percent_positive_COVID_Hospital_BED = hospitalized_covid_confirmed_patients + (hospitalized_suspected_covid_patients * *percent that are actually positive*) / all_hospital_beds"
      ]
    },
    {
      "cell_type": "code",
      "metadata": {
        "id": "TpwX7U7BNeYq",
        "colab_type": "code",
        "colab": {
          "base_uri": "https://localhost:8080/",
          "height": 323
        },
        "outputId": "a81e6746-f59b-49bb-a425-085a833884da"
      },
      "source": [
        "for index, row in hospital_data_county.iterrows():\n",
        "  complete = (index / len(hospital_data_county)) * 100\n",
        "  if (complete % 5 == 0):\n",
        "    print(\"Percent Complete:\", complete)\n",
        "  \n",
        "  for column in hospital_data_county.columns:\n",
        "    if (column == 'hospitalized_covid_confirmed_patients'):\n",
        "      hospitalized_covid_confirmed_patients = hospital_data_county[column][index]\n",
        "    elif (column == 'hospitalized_suspected_covid_patients'):\n",
        "      hospitalized_suspected_covid_patients = hospital_data_county[column][index]\n",
        "    elif (column == 'hospitalized_covid_patients'):\n",
        "      hospitalized_covid_patients = hospital_data_county[column][index]\n",
        "    elif (column == 'all_hospital_beds'):\n",
        "      all_hospital_beds = hospital_data_county[column][index]\n",
        "      try:\n",
        "        hospital_data_county['Percent_positive_COVID_Hospital_BED'][index] = (hospitalized_covid_confirmed_patients + (hospitalized_suspected_covid_patients * percent_suspected_covid_patients_positive) + hospitalized_covid_patients) / all_hospital_beds\n",
        "        hospital_data_county['beds_occupied'][index] = hospitalized_covid_confirmed_patients + hospitalized_suspected_covid_patients + hospitalized_covid_patients\n",
        "      except:\n",
        "        hospital_data_county['Percent_positive_COVID_Hospital_BED'][index] = 'NaN'\n",
        "        hospital_data_county['beds_occupied'][index] = hospitalized_covid_confirmed_patients + hospitalized_suspected_covid_patients + hospitalized_covid_patients\n",
        "\n",
        "print(\"Percent Complete: 100.00\")"
      ],
      "execution_count": null,
      "outputs": [
        {
          "output_type": "stream",
          "text": [
            "Percent Complete: 0.0\n"
          ],
          "name": "stdout"
        },
        {
          "output_type": "stream",
          "text": [
            "/usr/local/lib/python3.6/dist-packages/ipykernel_launcher.py:16: SettingWithCopyWarning: \n",
            "A value is trying to be set on a copy of a slice from a DataFrame\n",
            "\n",
            "See the caveats in the documentation: https://pandas.pydata.org/pandas-docs/stable/user_guide/indexing.html#returning-a-view-versus-a-copy\n",
            "  app.launch_new_instance()\n",
            "/usr/local/lib/python3.6/dist-packages/pandas/core/indexing.py:671: SettingWithCopyWarning: \n",
            "A value is trying to be set on a copy of a slice from a DataFrame\n",
            "\n",
            "See the caveats in the documentation: https://pandas.pydata.org/pandas-docs/stable/user_guide/indexing.html#returning-a-view-versus-a-copy\n",
            "  self._setitem_with_indexer(indexer, value)\n",
            "/usr/local/lib/python3.6/dist-packages/ipykernel_launcher.py:17: SettingWithCopyWarning: \n",
            "A value is trying to be set on a copy of a slice from a DataFrame\n",
            "\n",
            "See the caveats in the documentation: https://pandas.pydata.org/pandas-docs/stable/user_guide/indexing.html#returning-a-view-versus-a-copy\n",
            "/usr/local/lib/python3.6/dist-packages/ipykernel_launcher.py:16: RuntimeWarning: invalid value encountered in double_scalars\n",
            "  app.launch_new_instance()\n"
          ],
          "name": "stderr"
        },
        {
          "output_type": "stream",
          "text": [
            "Percent Complete: 100.00\n"
          ],
          "name": "stdout"
        }
      ]
    },
    {
      "cell_type": "code",
      "metadata": {
        "id": "nQRULDs7SJ7E",
        "colab_type": "code",
        "colab": {
          "base_uri": "https://localhost:8080/",
          "height": 241
        },
        "outputId": "2647adc3-8147-44e4-81de-263705ba339e"
      },
      "source": [
        "hospital_data_county.tail()"
      ],
      "execution_count": null,
      "outputs": [
        {
          "output_type": "execute_result",
          "data": {
            "text/html": [
              "<div>\n",
              "<style scoped>\n",
              "    .dataframe tbody tr th:only-of-type {\n",
              "        vertical-align: middle;\n",
              "    }\n",
              "\n",
              "    .dataframe tbody tr th {\n",
              "        vertical-align: top;\n",
              "    }\n",
              "\n",
              "    .dataframe thead th {\n",
              "        text-align: right;\n",
              "    }\n",
              "</style>\n",
              "<table border=\"1\" class=\"dataframe\">\n",
              "  <thead>\n",
              "    <tr style=\"text-align: right;\">\n",
              "      <th></th>\n",
              "      <th>county</th>\n",
              "      <th>todays_date</th>\n",
              "      <th>hospitalized_covid_confirmed_patients</th>\n",
              "      <th>hospitalized_suspected_covid_patients</th>\n",
              "      <th>hospitalized_covid_patients</th>\n",
              "      <th>all_hospital_beds</th>\n",
              "      <th>icu_covid_confirmed_patients</th>\n",
              "      <th>icu_suspected_covid_patients</th>\n",
              "      <th>icu_available_beds</th>\n",
              "      <th>Percent_positive_COVID_Hospital_BED</th>\n",
              "      <th>beds_occupied</th>\n",
              "    </tr>\n",
              "  </thead>\n",
              "  <tbody>\n",
              "    <tr>\n",
              "      <th>7776</th>\n",
              "      <td>Stanislaus</td>\n",
              "      <td>2020-08-14</td>\n",
              "      <td>192.0</td>\n",
              "      <td>51.0</td>\n",
              "      <td>243.0</td>\n",
              "      <td>1308.0</td>\n",
              "      <td>55.0</td>\n",
              "      <td>8.0</td>\n",
              "      <td>13.0</td>\n",
              "      <td>0.371560</td>\n",
              "      <td>486.0</td>\n",
              "    </tr>\n",
              "    <tr>\n",
              "      <th>7777</th>\n",
              "      <td>Calaveras</td>\n",
              "      <td>2020-08-14</td>\n",
              "      <td>3.0</td>\n",
              "      <td>1.0</td>\n",
              "      <td>4.0</td>\n",
              "      <td>33.0</td>\n",
              "      <td>2.0</td>\n",
              "      <td>0.0</td>\n",
              "      <td>5.0</td>\n",
              "      <td>0.242424</td>\n",
              "      <td>8.0</td>\n",
              "    </tr>\n",
              "    <tr>\n",
              "      <th>7778</th>\n",
              "      <td>San Joaquin</td>\n",
              "      <td>2020-08-14</td>\n",
              "      <td>149.0</td>\n",
              "      <td>17.0</td>\n",
              "      <td>166.0</td>\n",
              "      <td>1012.0</td>\n",
              "      <td>54.0</td>\n",
              "      <td>4.0</td>\n",
              "      <td>25.0</td>\n",
              "      <td>0.328063</td>\n",
              "      <td>332.0</td>\n",
              "    </tr>\n",
              "    <tr>\n",
              "      <th>7779</th>\n",
              "      <td>El Dorado</td>\n",
              "      <td>2020-08-14</td>\n",
              "      <td>1.0</td>\n",
              "      <td>0.0</td>\n",
              "      <td>1.0</td>\n",
              "      <td>189.0</td>\n",
              "      <td>1.0</td>\n",
              "      <td>0.0</td>\n",
              "      <td>10.0</td>\n",
              "      <td>0.010582</td>\n",
              "      <td>2.0</td>\n",
              "    </tr>\n",
              "    <tr>\n",
              "      <th>7780</th>\n",
              "      <td>Placer</td>\n",
              "      <td>2020-08-14</td>\n",
              "      <td>53.0</td>\n",
              "      <td>22.0</td>\n",
              "      <td>75.0</td>\n",
              "      <td>740.0</td>\n",
              "      <td>12.0</td>\n",
              "      <td>2.0</td>\n",
              "      <td>28.0</td>\n",
              "      <td>0.202703</td>\n",
              "      <td>150.0</td>\n",
              "    </tr>\n",
              "  </tbody>\n",
              "</table>\n",
              "</div>"
            ],
            "text/plain": [
              "           county  ... beds_occupied\n",
              "7776   Stanislaus  ...         486.0\n",
              "7777    Calaveras  ...           8.0\n",
              "7778  San Joaquin  ...         332.0\n",
              "7779    El Dorado  ...           2.0\n",
              "7780       Placer  ...         150.0\n",
              "\n",
              "[5 rows x 11 columns]"
            ]
          },
          "metadata": {
            "tags": []
          },
          "execution_count": 11
        }
      ]
    },
    {
      "cell_type": "code",
      "metadata": {
        "id": "gGb_uVz6UdBZ",
        "colab_type": "code",
        "colab": {
          "base_uri": "https://localhost:8080/",
          "height": 442
        },
        "outputId": "22856dd5-36bf-4669-ef41-59f9395ecb58"
      },
      "source": [
        "hospital_data_county['hospital_category'] = 6\n",
        "for index, row in hospital_data_county.iterrows():\n",
        "  value = hospital_data_county['Percent_positive_COVID_Hospital_BED'][index]\n",
        "  if (value > 0.8):\n",
        "    hospital_data_county['hospital_category'][index] = 5\n",
        "  elif (value > 0.6 and value <= 0.8):\n",
        "    hospital_data_county['hospital_category'][index] = 4\n",
        "  elif (value > 0.4 and value <= 0.6):\n",
        "    hospital_data_county['hospital_category'][index] = 3\n",
        "  elif (value > 0.2 and value <= 0.4):\n",
        "    hospital_data_county['hospital_category'][index] = 2\n",
        "  else:\n",
        "    hospital_data_county['hospital_category'][index] = 1"
      ],
      "execution_count": null,
      "outputs": [
        {
          "output_type": "stream",
          "text": [
            "/usr/local/lib/python3.6/dist-packages/ipykernel_launcher.py:13: SettingWithCopyWarning: \n",
            "A value is trying to be set on a copy of a slice from a DataFrame\n",
            "\n",
            "See the caveats in the documentation: https://pandas.pydata.org/pandas-docs/stable/user_guide/indexing.html#returning-a-view-versus-a-copy\n",
            "  del sys.path[0]\n",
            "/usr/local/lib/python3.6/dist-packages/ipykernel_launcher.py:11: SettingWithCopyWarning: \n",
            "A value is trying to be set on a copy of a slice from a DataFrame\n",
            "\n",
            "See the caveats in the documentation: https://pandas.pydata.org/pandas-docs/stable/user_guide/indexing.html#returning-a-view-versus-a-copy\n",
            "  # This is added back by InteractiveShellApp.init_path()\n",
            "/usr/local/lib/python3.6/dist-packages/ipykernel_launcher.py:5: SettingWithCopyWarning: \n",
            "A value is trying to be set on a copy of a slice from a DataFrame\n",
            "\n",
            "See the caveats in the documentation: https://pandas.pydata.org/pandas-docs/stable/user_guide/indexing.html#returning-a-view-versus-a-copy\n",
            "  \"\"\"\n",
            "/usr/local/lib/python3.6/dist-packages/ipykernel_launcher.py:9: SettingWithCopyWarning: \n",
            "A value is trying to be set on a copy of a slice from a DataFrame\n",
            "\n",
            "See the caveats in the documentation: https://pandas.pydata.org/pandas-docs/stable/user_guide/indexing.html#returning-a-view-versus-a-copy\n",
            "  if __name__ == '__main__':\n",
            "/usr/local/lib/python3.6/dist-packages/ipykernel_launcher.py:7: SettingWithCopyWarning: \n",
            "A value is trying to be set on a copy of a slice from a DataFrame\n",
            "\n",
            "See the caveats in the documentation: https://pandas.pydata.org/pandas-docs/stable/user_guide/indexing.html#returning-a-view-versus-a-copy\n",
            "  import sys\n"
          ],
          "name": "stderr"
        }
      ]
    },
    {
      "cell_type": "code",
      "metadata": {
        "id": "Vv8fbj3HXCoW",
        "colab_type": "code",
        "colab": {
          "base_uri": "https://localhost:8080/",
          "height": 241
        },
        "outputId": "75d2a8ae-2b4e-4534-a0a0-167fb347ba42"
      },
      "source": [
        "hospital_data_county.tail()"
      ],
      "execution_count": null,
      "outputs": [
        {
          "output_type": "execute_result",
          "data": {
            "text/html": [
              "<div>\n",
              "<style scoped>\n",
              "    .dataframe tbody tr th:only-of-type {\n",
              "        vertical-align: middle;\n",
              "    }\n",
              "\n",
              "    .dataframe tbody tr th {\n",
              "        vertical-align: top;\n",
              "    }\n",
              "\n",
              "    .dataframe thead th {\n",
              "        text-align: right;\n",
              "    }\n",
              "</style>\n",
              "<table border=\"1\" class=\"dataframe\">\n",
              "  <thead>\n",
              "    <tr style=\"text-align: right;\">\n",
              "      <th></th>\n",
              "      <th>county</th>\n",
              "      <th>todays_date</th>\n",
              "      <th>hospitalized_covid_confirmed_patients</th>\n",
              "      <th>hospitalized_suspected_covid_patients</th>\n",
              "      <th>hospitalized_covid_patients</th>\n",
              "      <th>all_hospital_beds</th>\n",
              "      <th>icu_covid_confirmed_patients</th>\n",
              "      <th>icu_suspected_covid_patients</th>\n",
              "      <th>icu_available_beds</th>\n",
              "      <th>Percent_positive_COVID_Hospital_BED</th>\n",
              "      <th>beds_occupied</th>\n",
              "      <th>hospital_category</th>\n",
              "    </tr>\n",
              "  </thead>\n",
              "  <tbody>\n",
              "    <tr>\n",
              "      <th>7776</th>\n",
              "      <td>Stanislaus</td>\n",
              "      <td>2020-08-14</td>\n",
              "      <td>192.0</td>\n",
              "      <td>51.0</td>\n",
              "      <td>243.0</td>\n",
              "      <td>1308.0</td>\n",
              "      <td>55.0</td>\n",
              "      <td>8.0</td>\n",
              "      <td>13.0</td>\n",
              "      <td>0.371560</td>\n",
              "      <td>486.0</td>\n",
              "      <td>2</td>\n",
              "    </tr>\n",
              "    <tr>\n",
              "      <th>7777</th>\n",
              "      <td>Calaveras</td>\n",
              "      <td>2020-08-14</td>\n",
              "      <td>3.0</td>\n",
              "      <td>1.0</td>\n",
              "      <td>4.0</td>\n",
              "      <td>33.0</td>\n",
              "      <td>2.0</td>\n",
              "      <td>0.0</td>\n",
              "      <td>5.0</td>\n",
              "      <td>0.242424</td>\n",
              "      <td>8.0</td>\n",
              "      <td>2</td>\n",
              "    </tr>\n",
              "    <tr>\n",
              "      <th>7778</th>\n",
              "      <td>San Joaquin</td>\n",
              "      <td>2020-08-14</td>\n",
              "      <td>149.0</td>\n",
              "      <td>17.0</td>\n",
              "      <td>166.0</td>\n",
              "      <td>1012.0</td>\n",
              "      <td>54.0</td>\n",
              "      <td>4.0</td>\n",
              "      <td>25.0</td>\n",
              "      <td>0.328063</td>\n",
              "      <td>332.0</td>\n",
              "      <td>2</td>\n",
              "    </tr>\n",
              "    <tr>\n",
              "      <th>7779</th>\n",
              "      <td>El Dorado</td>\n",
              "      <td>2020-08-14</td>\n",
              "      <td>1.0</td>\n",
              "      <td>0.0</td>\n",
              "      <td>1.0</td>\n",
              "      <td>189.0</td>\n",
              "      <td>1.0</td>\n",
              "      <td>0.0</td>\n",
              "      <td>10.0</td>\n",
              "      <td>0.010582</td>\n",
              "      <td>2.0</td>\n",
              "      <td>1</td>\n",
              "    </tr>\n",
              "    <tr>\n",
              "      <th>7780</th>\n",
              "      <td>Placer</td>\n",
              "      <td>2020-08-14</td>\n",
              "      <td>53.0</td>\n",
              "      <td>22.0</td>\n",
              "      <td>75.0</td>\n",
              "      <td>740.0</td>\n",
              "      <td>12.0</td>\n",
              "      <td>2.0</td>\n",
              "      <td>28.0</td>\n",
              "      <td>0.202703</td>\n",
              "      <td>150.0</td>\n",
              "      <td>2</td>\n",
              "    </tr>\n",
              "  </tbody>\n",
              "</table>\n",
              "</div>"
            ],
            "text/plain": [
              "           county todays_date  ...  beds_occupied  hospital_category\n",
              "7776   Stanislaus  2020-08-14  ...          486.0                  2\n",
              "7777    Calaveras  2020-08-14  ...            8.0                  2\n",
              "7778  San Joaquin  2020-08-14  ...          332.0                  2\n",
              "7779    El Dorado  2020-08-14  ...            2.0                  1\n",
              "7780       Placer  2020-08-14  ...          150.0                  2\n",
              "\n",
              "[5 rows x 12 columns]"
            ]
          },
          "metadata": {
            "tags": []
          },
          "execution_count": 13
        }
      ]
    },
    {
      "cell_type": "markdown",
      "metadata": {
        "id": "chjMACv7L2C5",
        "colab_type": "text"
      },
      "source": [
        "## Los Angeles County Data"
      ]
    },
    {
      "cell_type": "code",
      "metadata": {
        "id": "eNn7niUqeba8",
        "colab_type": "code",
        "colab": {
          "base_uri": "https://localhost:8080/",
          "height": 309
        },
        "outputId": "22f1dd16-f348-4a00-caac-e784b4cea0d8"
      },
      "source": [
        "hospital_data_county_LA = hospital_data_county[hospital_data_county['county'] == 'Los Angeles']\n",
        "hospital_data_county_LA.head()"
      ],
      "execution_count": null,
      "outputs": [
        {
          "output_type": "execute_result",
          "data": {
            "text/html": [
              "<div>\n",
              "<style scoped>\n",
              "    .dataframe tbody tr th:only-of-type {\n",
              "        vertical-align: middle;\n",
              "    }\n",
              "\n",
              "    .dataframe tbody tr th {\n",
              "        vertical-align: top;\n",
              "    }\n",
              "\n",
              "    .dataframe thead th {\n",
              "        text-align: right;\n",
              "    }\n",
              "</style>\n",
              "<table border=\"1\" class=\"dataframe\">\n",
              "  <thead>\n",
              "    <tr style=\"text-align: right;\">\n",
              "      <th></th>\n",
              "      <th>county</th>\n",
              "      <th>todays_date</th>\n",
              "      <th>hospitalized_covid_confirmed_patients</th>\n",
              "      <th>hospitalized_suspected_covid_patients</th>\n",
              "      <th>hospitalized_covid_patients</th>\n",
              "      <th>all_hospital_beds</th>\n",
              "      <th>icu_covid_confirmed_patients</th>\n",
              "      <th>icu_suspected_covid_patients</th>\n",
              "      <th>icu_available_beds</th>\n",
              "      <th>Percent_positive_COVID_Hospital_BED</th>\n",
              "      <th>beds_occupied</th>\n",
              "      <th>hospital_category</th>\n",
              "    </tr>\n",
              "  </thead>\n",
              "  <tbody>\n",
              "    <tr>\n",
              "      <th>35</th>\n",
              "      <td>Los Angeles</td>\n",
              "      <td>2020-03-29</td>\n",
              "      <td>489.0</td>\n",
              "      <td>1132.0</td>\n",
              "      <td>NaN</td>\n",
              "      <td>NaN</td>\n",
              "      <td>191.0</td>\n",
              "      <td>182.0</td>\n",
              "      <td>345.0</td>\n",
              "      <td>NaN</td>\n",
              "      <td>NaN</td>\n",
              "      <td>1</td>\n",
              "    </tr>\n",
              "    <tr>\n",
              "      <th>96</th>\n",
              "      <td>Los Angeles</td>\n",
              "      <td>2020-03-30</td>\n",
              "      <td>601.0</td>\n",
              "      <td>1277.0</td>\n",
              "      <td>NaN</td>\n",
              "      <td>NaN</td>\n",
              "      <td>245.0</td>\n",
              "      <td>244.0</td>\n",
              "      <td>456.0</td>\n",
              "      <td>NaN</td>\n",
              "      <td>NaN</td>\n",
              "      <td>1</td>\n",
              "    </tr>\n",
              "    <tr>\n",
              "      <th>148</th>\n",
              "      <td>Los Angeles</td>\n",
              "      <td>2020-03-31</td>\n",
              "      <td>713.0</td>\n",
              "      <td>1239.0</td>\n",
              "      <td>NaN</td>\n",
              "      <td>NaN</td>\n",
              "      <td>315.0</td>\n",
              "      <td>239.0</td>\n",
              "      <td>445.0</td>\n",
              "      <td>NaN</td>\n",
              "      <td>NaN</td>\n",
              "      <td>1</td>\n",
              "    </tr>\n",
              "    <tr>\n",
              "      <th>213</th>\n",
              "      <td>Los Angeles</td>\n",
              "      <td>2020-04-01</td>\n",
              "      <td>739.0</td>\n",
              "      <td>1332.0</td>\n",
              "      <td>NaN</td>\n",
              "      <td>NaN</td>\n",
              "      <td>335.0</td>\n",
              "      <td>220.0</td>\n",
              "      <td>492.0</td>\n",
              "      <td>NaN</td>\n",
              "      <td>NaN</td>\n",
              "      <td>1</td>\n",
              "    </tr>\n",
              "    <tr>\n",
              "      <th>247</th>\n",
              "      <td>Los Angeles</td>\n",
              "      <td>2020-04-02</td>\n",
              "      <td>818.0</td>\n",
              "      <td>1270.0</td>\n",
              "      <td>NaN</td>\n",
              "      <td>NaN</td>\n",
              "      <td>346.0</td>\n",
              "      <td>193.0</td>\n",
              "      <td>488.0</td>\n",
              "      <td>NaN</td>\n",
              "      <td>NaN</td>\n",
              "      <td>1</td>\n",
              "    </tr>\n",
              "  </tbody>\n",
              "</table>\n",
              "</div>"
            ],
            "text/plain": [
              "          county todays_date  ...  beds_occupied  hospital_category\n",
              "35   Los Angeles  2020-03-29  ...            NaN                  1\n",
              "96   Los Angeles  2020-03-30  ...            NaN                  1\n",
              "148  Los Angeles  2020-03-31  ...            NaN                  1\n",
              "213  Los Angeles  2020-04-01  ...            NaN                  1\n",
              "247  Los Angeles  2020-04-02  ...            NaN                  1\n",
              "\n",
              "[5 rows x 12 columns]"
            ]
          },
          "metadata": {
            "tags": []
          },
          "execution_count": 14
        }
      ]
    },
    {
      "cell_type": "code",
      "metadata": {
        "id": "f-6nciXaehL7",
        "colab_type": "code",
        "colab": {
          "base_uri": "https://localhost:8080/",
          "height": 309
        },
        "outputId": "e7daece5-6646-479c-8726-4897b3d5daed"
      },
      "source": [
        "hospital_data_county_LA.tail()"
      ],
      "execution_count": null,
      "outputs": [
        {
          "output_type": "execute_result",
          "data": {
            "text/html": [
              "<div>\n",
              "<style scoped>\n",
              "    .dataframe tbody tr th:only-of-type {\n",
              "        vertical-align: middle;\n",
              "    }\n",
              "\n",
              "    .dataframe tbody tr th {\n",
              "        vertical-align: top;\n",
              "    }\n",
              "\n",
              "    .dataframe thead th {\n",
              "        text-align: right;\n",
              "    }\n",
              "</style>\n",
              "<table border=\"1\" class=\"dataframe\">\n",
              "  <thead>\n",
              "    <tr style=\"text-align: right;\">\n",
              "      <th></th>\n",
              "      <th>county</th>\n",
              "      <th>todays_date</th>\n",
              "      <th>hospitalized_covid_confirmed_patients</th>\n",
              "      <th>hospitalized_suspected_covid_patients</th>\n",
              "      <th>hospitalized_covid_patients</th>\n",
              "      <th>all_hospital_beds</th>\n",
              "      <th>icu_covid_confirmed_patients</th>\n",
              "      <th>icu_suspected_covid_patients</th>\n",
              "      <th>icu_available_beds</th>\n",
              "      <th>Percent_positive_COVID_Hospital_BED</th>\n",
              "      <th>beds_occupied</th>\n",
              "      <th>hospital_category</th>\n",
              "    </tr>\n",
              "  </thead>\n",
              "  <tbody>\n",
              "    <tr>\n",
              "      <th>7546</th>\n",
              "      <td>Los Angeles</td>\n",
              "      <td>2020-08-10</td>\n",
              "      <td>1538.0</td>\n",
              "      <td>446.0</td>\n",
              "      <td>1984.0</td>\n",
              "      <td>19164.0</td>\n",
              "      <td>493.0</td>\n",
              "      <td>58.0</td>\n",
              "      <td>850.0</td>\n",
              "      <td>0.207055</td>\n",
              "      <td>3968.0</td>\n",
              "      <td>2</td>\n",
              "    </tr>\n",
              "    <tr>\n",
              "      <th>7558</th>\n",
              "      <td>Los Angeles</td>\n",
              "      <td>2020-08-11</td>\n",
              "      <td>1481.0</td>\n",
              "      <td>470.0</td>\n",
              "      <td>1951.0</td>\n",
              "      <td>19342.0</td>\n",
              "      <td>481.0</td>\n",
              "      <td>66.0</td>\n",
              "      <td>871.0</td>\n",
              "      <td>0.201737</td>\n",
              "      <td>3902.0</td>\n",
              "      <td>2</td>\n",
              "    </tr>\n",
              "    <tr>\n",
              "      <th>7636</th>\n",
              "      <td>Los Angeles</td>\n",
              "      <td>2020-08-12</td>\n",
              "      <td>1415.0</td>\n",
              "      <td>472.0</td>\n",
              "      <td>1887.0</td>\n",
              "      <td>19364.0</td>\n",
              "      <td>460.0</td>\n",
              "      <td>56.0</td>\n",
              "      <td>842.0</td>\n",
              "      <td>0.194898</td>\n",
              "      <td>3774.0</td>\n",
              "      <td>1</td>\n",
              "    </tr>\n",
              "    <tr>\n",
              "      <th>7702</th>\n",
              "      <td>Los Angeles</td>\n",
              "      <td>2020-08-13</td>\n",
              "      <td>1393.0</td>\n",
              "      <td>520.0</td>\n",
              "      <td>1913.0</td>\n",
              "      <td>19575.0</td>\n",
              "      <td>456.0</td>\n",
              "      <td>72.0</td>\n",
              "      <td>977.0</td>\n",
              "      <td>0.195453</td>\n",
              "      <td>3826.0</td>\n",
              "      <td>1</td>\n",
              "    </tr>\n",
              "    <tr>\n",
              "      <th>7729</th>\n",
              "      <td>Los Angeles</td>\n",
              "      <td>2020-08-14</td>\n",
              "      <td>1357.0</td>\n",
              "      <td>556.0</td>\n",
              "      <td>1913.0</td>\n",
              "      <td>19573.0</td>\n",
              "      <td>441.0</td>\n",
              "      <td>75.0</td>\n",
              "      <td>865.0</td>\n",
              "      <td>0.195473</td>\n",
              "      <td>3826.0</td>\n",
              "      <td>1</td>\n",
              "    </tr>\n",
              "  </tbody>\n",
              "</table>\n",
              "</div>"
            ],
            "text/plain": [
              "           county todays_date  ...  beds_occupied  hospital_category\n",
              "7546  Los Angeles  2020-08-10  ...         3968.0                  2\n",
              "7558  Los Angeles  2020-08-11  ...         3902.0                  2\n",
              "7636  Los Angeles  2020-08-12  ...         3774.0                  1\n",
              "7702  Los Angeles  2020-08-13  ...         3826.0                  1\n",
              "7729  Los Angeles  2020-08-14  ...         3826.0                  1\n",
              "\n",
              "[5 rows x 12 columns]"
            ]
          },
          "metadata": {
            "tags": []
          },
          "execution_count": 15
        }
      ]
    },
    {
      "cell_type": "markdown",
      "metadata": {
        "id": "O-QYXXXedWyu",
        "colab_type": "text"
      },
      "source": [
        "## Counties with category 5 ranking"
      ]
    },
    {
      "cell_type": "code",
      "metadata": {
        "id": "OXbuJ2mldZVm",
        "colab_type": "code",
        "colab": {
          "base_uri": "https://localhost:8080/",
          "height": 224
        },
        "outputId": "94adb4f1-2a38-4bb0-9baa-4161df861e50"
      },
      "source": [
        "hospital_data_county_category_5 = hospital_data_county[hospital_data_county['hospital_category'] == 5]\n",
        "hospital_data_county_category_5.head()"
      ],
      "execution_count": null,
      "outputs": [
        {
          "output_type": "execute_result",
          "data": {
            "text/html": [
              "<div>\n",
              "<style scoped>\n",
              "    .dataframe tbody tr th:only-of-type {\n",
              "        vertical-align: middle;\n",
              "    }\n",
              "\n",
              "    .dataframe tbody tr th {\n",
              "        vertical-align: top;\n",
              "    }\n",
              "\n",
              "    .dataframe thead th {\n",
              "        text-align: right;\n",
              "    }\n",
              "</style>\n",
              "<table border=\"1\" class=\"dataframe\">\n",
              "  <thead>\n",
              "    <tr style=\"text-align: right;\">\n",
              "      <th></th>\n",
              "      <th>county</th>\n",
              "      <th>todays_date</th>\n",
              "      <th>hospitalized_covid_confirmed_patients</th>\n",
              "      <th>hospitalized_suspected_covid_patients</th>\n",
              "      <th>hospitalized_covid_patients</th>\n",
              "      <th>all_hospital_beds</th>\n",
              "      <th>icu_covid_confirmed_patients</th>\n",
              "      <th>icu_suspected_covid_patients</th>\n",
              "      <th>icu_available_beds</th>\n",
              "      <th>Percent_positive_COVID_Hospital_BED</th>\n",
              "      <th>beds_occupied</th>\n",
              "      <th>hospital_category</th>\n",
              "    </tr>\n",
              "  </thead>\n",
              "  <tbody>\n",
              "    <tr>\n",
              "      <th>1312</th>\n",
              "      <td>Sacramento</td>\n",
              "      <td>2020-04-21</td>\n",
              "      <td>54.0</td>\n",
              "      <td>39.0</td>\n",
              "      <td>93.0</td>\n",
              "      <td>50.0</td>\n",
              "      <td>21.0</td>\n",
              "      <td>8.0</td>\n",
              "      <td>72.0</td>\n",
              "      <td>3.720000</td>\n",
              "      <td>186.0</td>\n",
              "      <td>5</td>\n",
              "    </tr>\n",
              "    <tr>\n",
              "      <th>1354</th>\n",
              "      <td>Sacramento</td>\n",
              "      <td>2020-04-22</td>\n",
              "      <td>47.0</td>\n",
              "      <td>23.0</td>\n",
              "      <td>70.0</td>\n",
              "      <td>50.0</td>\n",
              "      <td>18.0</td>\n",
              "      <td>5.0</td>\n",
              "      <td>79.0</td>\n",
              "      <td>2.800000</td>\n",
              "      <td>140.0</td>\n",
              "      <td>5</td>\n",
              "    </tr>\n",
              "    <tr>\n",
              "      <th>4040</th>\n",
              "      <td>Imperial</td>\n",
              "      <td>2020-06-09</td>\n",
              "      <td>83.0</td>\n",
              "      <td>2.0</td>\n",
              "      <td>85.0</td>\n",
              "      <td>212.0</td>\n",
              "      <td>18.0</td>\n",
              "      <td>0.0</td>\n",
              "      <td>2.0</td>\n",
              "      <td>0.801887</td>\n",
              "      <td>170.0</td>\n",
              "      <td>5</td>\n",
              "    </tr>\n",
              "    <tr>\n",
              "      <th>4713</th>\n",
              "      <td>Imperial</td>\n",
              "      <td>2020-06-21</td>\n",
              "      <td>95.0</td>\n",
              "      <td>0.0</td>\n",
              "      <td>95.0</td>\n",
              "      <td>237.0</td>\n",
              "      <td>21.0</td>\n",
              "      <td>0.0</td>\n",
              "      <td>1.0</td>\n",
              "      <td>0.801688</td>\n",
              "      <td>190.0</td>\n",
              "      <td>5</td>\n",
              "    </tr>\n",
              "    <tr>\n",
              "      <th>4798</th>\n",
              "      <td>Imperial</td>\n",
              "      <td>2020-06-22</td>\n",
              "      <td>95.0</td>\n",
              "      <td>0.0</td>\n",
              "      <td>95.0</td>\n",
              "      <td>237.0</td>\n",
              "      <td>17.0</td>\n",
              "      <td>0.0</td>\n",
              "      <td>0.0</td>\n",
              "      <td>0.801688</td>\n",
              "      <td>190.0</td>\n",
              "      <td>5</td>\n",
              "    </tr>\n",
              "  </tbody>\n",
              "</table>\n",
              "</div>"
            ],
            "text/plain": [
              "          county todays_date  ...  beds_occupied  hospital_category\n",
              "1312  Sacramento  2020-04-21  ...          186.0                  5\n",
              "1354  Sacramento  2020-04-22  ...          140.0                  5\n",
              "4040    Imperial  2020-06-09  ...          170.0                  5\n",
              "4713    Imperial  2020-06-21  ...          190.0                  5\n",
              "4798    Imperial  2020-06-22  ...          190.0                  5\n",
              "\n",
              "[5 rows x 12 columns]"
            ]
          },
          "metadata": {
            "tags": []
          },
          "execution_count": 16
        }
      ]
    }
  ]
}