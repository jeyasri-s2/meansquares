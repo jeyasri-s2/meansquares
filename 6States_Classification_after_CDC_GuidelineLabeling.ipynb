{
  "nbformat": 4,
  "nbformat_minor": 0,
  "metadata": {
    "colab": {
      "name": "6States_Classification_after_CDC_GuidelineLabeling.ipynb",
      "provenance": [],
      "authorship_tag": "ABX9TyNNUcm3L7prgCWYdMSnxZoo",
      "include_colab_link": true
    },
    "kernelspec": {
      "name": "python3",
      "display_name": "Python 3"
    }
  },
  "cells": [
    {
      "cell_type": "markdown",
      "metadata": {
        "id": "view-in-github",
        "colab_type": "text"
      },
      "source": [
        "<a href=\"https://colab.research.google.com/github/aarsanjani/meansquares/blob/master/6States_Classification_after_CDC_GuidelineLabeling.ipynb\" target=\"_parent\"><img src=\"https://colab.research.google.com/assets/colab-badge.svg\" alt=\"Open In Colab\"/></a>"
      ]
    },
    {
      "cell_type": "code",
      "metadata": {
        "id": "a7MiHCnA9DL2",
        "outputId": "4dea667f-44e8-47cb-c85f-58a49a6fa634",
        "colab": {
          "base_uri": "https://localhost:8080/"
        }
      },
      "source": [
        "from google.colab import drive\n",
        "drive.mount('/content/drive')"
      ],
      "execution_count": 1,
      "outputs": [
        {
          "output_type": "stream",
          "text": [
            "Mounted at /content/drive\n"
          ],
          "name": "stdout"
        }
      ]
    },
    {
      "cell_type": "code",
      "metadata": {
        "id": "CJtDukJ2bfQo",
        "outputId": "d1f5ebbb-66bf-4754-929f-28904035b293",
        "colab": {
          "base_uri": "https://localhost:8080/"
        }
      },
      "source": [
        "!pip install wget\n",
        "import wget"
      ],
      "execution_count": 3,
      "outputs": [
        {
          "output_type": "stream",
          "text": [
            "Collecting wget\n",
            "  Downloading https://files.pythonhosted.org/packages/47/6a/62e288da7bcda82b935ff0c6cfe542970f04e29c756b0e147251b2fb251f/wget-3.2.zip\n",
            "Building wheels for collected packages: wget\n",
            "  Building wheel for wget (setup.py) ... \u001b[?25l\u001b[?25hdone\n",
            "  Created wheel for wget: filename=wget-3.2-cp36-none-any.whl size=9682 sha256=d4ff5ff0411c01f1e2eb8b92f1ab863bb11d04bb240b72d333d3e0fe6aa87370\n",
            "  Stored in directory: /root/.cache/pip/wheels/40/15/30/7d8f7cea2902b4db79e3fea550d7d7b85ecb27ef992b618f3f\n",
            "Successfully built wget\n",
            "Installing collected packages: wget\n",
            "Successfully installed wget-3.2\n"
          ],
          "name": "stdout"
        }
      ]
    },
    {
      "cell_type": "code",
      "metadata": {
        "id": "82MwOI89bcAA",
        "outputId": "252d260e-7ce4-4ff5-e10e-1a2cc443b191",
        "colab": {
          "base_uri": "https://localhost:8080/"
        }
      },
      "source": [
        "import pandas as pd\n",
        "import numpy as np\n",
        "import warnings\n",
        "from matplotlib import pyplot\n",
        "from pandas import Series, datetime\n",
        "from pandas.plotting import scatter_matrix, autocorrelation_plot\n",
        "from sklearn.preprocessing import StandardScaler\n",
        "from sklearn.model_selection import train_test_split, KFold, cross_val_score, GridSearchCV, TimeSeriesSplit\n",
        "from sklearn.metrics import classification_report, confusion_matrix, accuracy_score, mean_squared_error\n",
        "from sklearn.pipeline import Pipeline\n",
        "from sklearn.linear_model import LogisticRegression\n",
        "from sklearn.tree import DecisionTreeClassifier\n",
        "from sklearn.neighbors import KNeighborsClassifier\n",
        "from sklearn.discriminant_analysis import LinearDiscriminantAnalysis\n",
        "from sklearn.naive_bayes import GaussianNB\n",
        "from sklearn.svm import SVC\n",
        "from sklearn.ensemble import AdaBoostClassifier, GradientBoostingClassifier, RandomForestClassifier, ExtraTreesClassifier\n",
        "from sklearn.metrics import roc_curve, auc\n",
        "import matplotlib.pyplot as plt\n",
        "import random\n",
        "from statsmodels.graphics.tsaplots import plot_acf, plot_pacf\n",
        "from statsmodels.tsa.arima_model import ARIMA\n",
        "from xgboost import XGBClassifier\n",
        "import seaborn as sns\n",
        "import os"
      ],
      "execution_count": 2,
      "outputs": [
        {
          "output_type": "stream",
          "text": [
            "/usr/local/lib/python3.6/dist-packages/statsmodels/tools/_testing.py:19: FutureWarning: pandas.util.testing is deprecated. Use the functions in the public API at pandas.testing instead.\n",
            "  import pandas.util.testing as tm\n"
          ],
          "name": "stderr"
        }
      ]
    },
    {
      "cell_type": "markdown",
      "metadata": {
        "id": "2VGeNhVWImB7"
      },
      "source": [
        "# Load Combined Labeled Dataset"
      ]
    },
    {
      "cell_type": "code",
      "metadata": {
        "id": "OhFlR49gbm2A",
        "outputId": "31bccfd7-3959-44bc-f152-a7f13b59ae13",
        "colab": {
          "base_uri": "https://localhost:8080/",
          "height": 333
        }
      },
      "source": [
        "CA_combined_data = pd.read_csv('/content/drive/Shared drives/CMPE 295- Master Project/Covid19-data/CA/CA_labeledData_CDC_Guideline_Nov01.csv',low_memory=False)\n",
        "CA_combined_data.head()"
      ],
      "execution_count": 4,
      "outputs": [
        {
          "output_type": "execute_result",
          "data": {
            "text/html": [
              "<div>\n",
              "<style scoped>\n",
              "    .dataframe tbody tr th:only-of-type {\n",
              "        vertical-align: middle;\n",
              "    }\n",
              "\n",
              "    .dataframe tbody tr th {\n",
              "        vertical-align: top;\n",
              "    }\n",
              "\n",
              "    .dataframe thead th {\n",
              "        text-align: right;\n",
              "    }\n",
              "</style>\n",
              "<table border=\"1\" class=\"dataframe\">\n",
              "  <thead>\n",
              "    <tr style=\"text-align: right;\">\n",
              "      <th></th>\n",
              "      <th>Date</th>\n",
              "      <th>fips</th>\n",
              "      <th>County Name</th>\n",
              "      <th>population</th>\n",
              "      <th>retail and recreation</th>\n",
              "      <th>grocery and pharmacy</th>\n",
              "      <th>parks</th>\n",
              "      <th>transit stations</th>\n",
              "      <th>workplaces</th>\n",
              "      <th>residential</th>\n",
              "      <th>driving</th>\n",
              "      <th>m50</th>\n",
              "      <th>m50_index</th>\n",
              "      <th>population_density</th>\n",
              "      <th>mask_rule_active</th>\n",
              "      <th>mask_wearing_percent</th>\n",
              "      <th>New cases</th>\n",
              "      <th>New Cases/100k population</th>\n",
              "      <th>countyFIPS</th>\n",
              "      <th>State</th>\n",
              "      <th>county_population</th>\n",
              "      <th>rolling_avg_new_cases/100k</th>\n",
              "      <th>growth_label</th>\n",
              "    </tr>\n",
              "  </thead>\n",
              "  <tbody>\n",
              "    <tr>\n",
              "      <th>0</th>\n",
              "      <td>2020-03-01</td>\n",
              "      <td>6001</td>\n",
              "      <td>Alameda County</td>\n",
              "      <td>1671329</td>\n",
              "      <td>6.0</td>\n",
              "      <td>9.0</td>\n",
              "      <td>15.0</td>\n",
              "      <td>1.0</td>\n",
              "      <td>4.0</td>\n",
              "      <td>0.0</td>\n",
              "      <td>-7.65</td>\n",
              "      <td>3.684</td>\n",
              "      <td>58</td>\n",
              "      <td>2261.547725</td>\n",
              "      <td>0</td>\n",
              "      <td>0.0</td>\n",
              "      <td>0</td>\n",
              "      <td>0.000000</td>\n",
              "      <td>6001</td>\n",
              "      <td>CA</td>\n",
              "      <td>1671329</td>\n",
              "      <td>0.0</td>\n",
              "      <td>minimal</td>\n",
              "    </tr>\n",
              "    <tr>\n",
              "      <th>1</th>\n",
              "      <td>2020-03-02</td>\n",
              "      <td>6001</td>\n",
              "      <td>Alameda County</td>\n",
              "      <td>1671329</td>\n",
              "      <td>4.0</td>\n",
              "      <td>7.0</td>\n",
              "      <td>7.0</td>\n",
              "      <td>-1.0</td>\n",
              "      <td>3.0</td>\n",
              "      <td>0.0</td>\n",
              "      <td>6.76</td>\n",
              "      <td>6.182</td>\n",
              "      <td>98</td>\n",
              "      <td>2261.547725</td>\n",
              "      <td>0</td>\n",
              "      <td>0.0</td>\n",
              "      <td>0</td>\n",
              "      <td>0.000000</td>\n",
              "      <td>6001</td>\n",
              "      <td>CA</td>\n",
              "      <td>1671329</td>\n",
              "      <td>0.0</td>\n",
              "      <td>minimal</td>\n",
              "    </tr>\n",
              "    <tr>\n",
              "      <th>2</th>\n",
              "      <td>2020-03-03</td>\n",
              "      <td>6001</td>\n",
              "      <td>Alameda County</td>\n",
              "      <td>1671329</td>\n",
              "      <td>5.0</td>\n",
              "      <td>12.0</td>\n",
              "      <td>41.0</td>\n",
              "      <td>0.0</td>\n",
              "      <td>1.0</td>\n",
              "      <td>-1.0</td>\n",
              "      <td>13.19</td>\n",
              "      <td>6.271</td>\n",
              "      <td>100</td>\n",
              "      <td>2261.547725</td>\n",
              "      <td>0</td>\n",
              "      <td>0.0</td>\n",
              "      <td>1</td>\n",
              "      <td>0.059833</td>\n",
              "      <td>6001</td>\n",
              "      <td>CA</td>\n",
              "      <td>1671329</td>\n",
              "      <td>0.0</td>\n",
              "      <td>minimal</td>\n",
              "    </tr>\n",
              "    <tr>\n",
              "      <th>3</th>\n",
              "      <td>2020-03-04</td>\n",
              "      <td>6001</td>\n",
              "      <td>Alameda County</td>\n",
              "      <td>1671329</td>\n",
              "      <td>1.0</td>\n",
              "      <td>6.0</td>\n",
              "      <td>23.0</td>\n",
              "      <td>-3.0</td>\n",
              "      <td>1.0</td>\n",
              "      <td>0.0</td>\n",
              "      <td>10.67</td>\n",
              "      <td>6.209</td>\n",
              "      <td>99</td>\n",
              "      <td>2261.547725</td>\n",
              "      <td>0</td>\n",
              "      <td>0.0</td>\n",
              "      <td>0</td>\n",
              "      <td>0.000000</td>\n",
              "      <td>6001</td>\n",
              "      <td>CA</td>\n",
              "      <td>1671329</td>\n",
              "      <td>0.0</td>\n",
              "      <td>minimal</td>\n",
              "    </tr>\n",
              "    <tr>\n",
              "      <th>4</th>\n",
              "      <td>2020-03-05</td>\n",
              "      <td>6001</td>\n",
              "      <td>Alameda County</td>\n",
              "      <td>1671329</td>\n",
              "      <td>1.0</td>\n",
              "      <td>6.0</td>\n",
              "      <td>12.0</td>\n",
              "      <td>-5.0</td>\n",
              "      <td>-1.0</td>\n",
              "      <td>1.0</td>\n",
              "      <td>11.64</td>\n",
              "      <td>6.654</td>\n",
              "      <td>106</td>\n",
              "      <td>2261.547725</td>\n",
              "      <td>0</td>\n",
              "      <td>0.0</td>\n",
              "      <td>0</td>\n",
              "      <td>0.000000</td>\n",
              "      <td>6001</td>\n",
              "      <td>CA</td>\n",
              "      <td>1671329</td>\n",
              "      <td>0.0</td>\n",
              "      <td>minimal</td>\n",
              "    </tr>\n",
              "  </tbody>\n",
              "</table>\n",
              "</div>"
            ],
            "text/plain": [
              "         Date  fips  ... rolling_avg_new_cases/100k  growth_label\n",
              "0  2020-03-01  6001  ...                        0.0       minimal\n",
              "1  2020-03-02  6001  ...                        0.0       minimal\n",
              "2  2020-03-03  6001  ...                        0.0       minimal\n",
              "3  2020-03-04  6001  ...                        0.0       minimal\n",
              "4  2020-03-05  6001  ...                        0.0       minimal\n",
              "\n",
              "[5 rows x 23 columns]"
            ]
          },
          "metadata": {
            "tags": []
          },
          "execution_count": 4
        }
      ]
    },
    {
      "cell_type": "markdown",
      "metadata": {
        "id": "hu17ArURhZrv"
      },
      "source": [
        "### Categorical code"
      ]
    },
    {
      "cell_type": "code",
      "metadata": {
        "id": "LWUoDOJchbcg"
      },
      "source": [
        "CA_combined_data[\"growth_label\"] = CA_combined_data[\"growth_label\"].astype('category')\n",
        "CA_combined_data[\"growth_label_cat\"] = CA_combined_data[\"growth_label\"].cat.codes"
      ],
      "execution_count": 5,
      "outputs": []
    },
    {
      "cell_type": "markdown",
      "metadata": {
        "id": "tV-xnH6ecr8A"
      },
      "source": [
        "## X_col + Y_col"
      ]
    },
    {
      "cell_type": "code",
      "metadata": {
        "id": "WRkDZZ58cw8Q",
        "outputId": "b5597394-6aa1-46d5-926c-0fd9fb0d634e",
        "colab": {
          "base_uri": "https://localhost:8080/"
        }
      },
      "source": [
        "CA_combined_data.columns"
      ],
      "execution_count": 6,
      "outputs": [
        {
          "output_type": "execute_result",
          "data": {
            "text/plain": [
              "Index(['Date', 'fips', 'County Name', 'population', 'retail and recreation',\n",
              "       'grocery and pharmacy', 'parks', 'transit stations', 'workplaces',\n",
              "       'residential', 'driving', 'm50', 'm50_index', 'population_density',\n",
              "       'mask_rule_active', 'mask_wearing_percent', 'New cases',\n",
              "       'New Cases/100k population', 'countyFIPS', 'State', 'county_population',\n",
              "       'rolling_avg_new_cases/100k', 'growth_label', 'growth_label_cat'],\n",
              "      dtype='object')"
            ]
          },
          "metadata": {
            "tags": []
          },
          "execution_count": 6
        }
      ]
    },
    {
      "cell_type": "code",
      "metadata": {
        "id": "wxvhZ98Gb_9Y"
      },
      "source": [
        "Y_col = CA_combined_data['growth_label_cat']\n",
        "X_col = CA_combined_data[['fips','retail and recreation',\n",
        "       'grocery and pharmacy', 'parks', 'transit stations', 'workplaces',\n",
        "       'residential', 'driving', 'm50', 'm50_index', 'population_density',\n",
        "       'mask_rule_active', 'mask_wearing_percent', 'New cases']]"
      ],
      "execution_count": 13,
      "outputs": []
    },
    {
      "cell_type": "markdown",
      "metadata": {
        "id": "aI5ebYzKdmAB"
      },
      "source": [
        "## Split data"
      ]
    },
    {
      "cell_type": "code",
      "metadata": {
        "id": "ZpXijblFdnpq"
      },
      "source": [
        "X_train, X_test, Y_train, Y_test = train_test_split(X_col, Y_col, test_size=0.2, random_state=1)"
      ],
      "execution_count": 14,
      "outputs": []
    },
    {
      "cell_type": "markdown",
      "metadata": {
        "id": "xfVOAV5ToBvB"
      },
      "source": [
        "## Auto ML"
      ]
    },
    {
      "cell_type": "code",
      "metadata": {
        "id": "UC9NxXrqoDiy"
      },
      "source": [
        "num_folds = 10\n",
        "seed = 7\n",
        "scoring = 'accuracy'\n",
        "\n",
        "models = []\n",
        "models.append(('LR' , LogisticRegression()))\n",
        "models.append(('LDA' , LinearDiscriminantAnalysis()))\n",
        "models.append(('KNN' , KNeighborsClassifier()))\n",
        "models.append(('CART' , DecisionTreeClassifier()))\n",
        "models.append(('NB' , GaussianNB()))\n",
        "models.append(('SVM' , SVC()))\n",
        "models.append(('RF' , RandomForestClassifier(n_estimators=50)))\n",
        "models.append(('XGBoost', XGBClassifier()))"
      ],
      "execution_count": 11,
      "outputs": []
    },
    {
      "cell_type": "code",
      "metadata": {
        "id": "YcThk6mUoPAv",
        "outputId": "b904206f-c928-40c4-97b3-76fcd4dfb512",
        "colab": {
          "base_uri": "https://localhost:8080/"
        }
      },
      "source": [
        "results = []\n",
        "names = []\n",
        "\n",
        "'''\n",
        "for name, model in models:\n",
        "    kfold = KFold(n_splits=num_folds, random_state=42)\n",
        "    cv_results = cross_val_score(model, X_train, y_train, cv=kfold, scoring=scoring)\n",
        "    results.append(cv_results)\n",
        "    names.append(name)\n",
        "    msg = \"%s: %f (%f)\" % (name, cv_results.mean(), cv_results.std())\n",
        "    print(msg) '''\n",
        "\n",
        "for name, model in models:\n",
        "    clf = model\n",
        "    clf.fit(X_train, Y_train)\n",
        "    Y_pred = clf.predict(X_test)\n",
        "    accu_score = accuracy_score(Y_test, Y_pred)\n",
        "    print(name + \": \" + str(accu_score))"
      ],
      "execution_count": 15,
      "outputs": [
        {
          "output_type": "stream",
          "text": [
            "/usr/local/lib/python3.6/dist-packages/sklearn/linear_model/_logistic.py:940: ConvergenceWarning: lbfgs failed to converge (status=1):\n",
            "STOP: TOTAL NO. of ITERATIONS REACHED LIMIT.\n",
            "\n",
            "Increase the number of iterations (max_iter) or scale the data as shown in:\n",
            "    https://scikit-learn.org/stable/modules/preprocessing.html\n",
            "Please also refer to the documentation for alternative solver options:\n",
            "    https://scikit-learn.org/stable/modules/linear_model.html#logistic-regression\n",
            "  extra_warning_msg=_LOGISTIC_SOLVER_CONVERGENCE_MSG)\n"
          ],
          "name": "stderr"
        },
        {
          "output_type": "stream",
          "text": [
            "LR: 0.6092391304347826\n",
            "LDA: 0.653804347826087\n",
            "KNN: 0.7527173913043478\n",
            "CART: 0.7375\n",
            "NB: 0.6706521739130434\n",
            "SVM: 0.4494565217391304\n",
            "RF: 0.8043478260869565\n",
            "XGBoost: 0.7570652173913044\n"
          ],
          "name": "stdout"
        }
      ]
    }
  ]
}