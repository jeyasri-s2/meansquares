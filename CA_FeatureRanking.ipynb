{
  "nbformat": 4,
  "nbformat_minor": 0,
  "metadata": {
    "colab": {
      "name": "CA_FeatureRanking.ipynb",
      "provenance": [],
      "toc_visible": true,
      "include_colab_link": true
    },
    "kernelspec": {
      "name": "python3",
      "display_name": "Python 3"
    }
  },
  "cells": [
    {
      "cell_type": "markdown",
      "metadata": {
        "id": "view-in-github",
        "colab_type": "text"
      },
      "source": [
        "<a href=\"https://colab.research.google.com/github/aarsanjani/meansquares/blob/master/CA_FeatureRanking.ipynb\" target=\"_parent\"><img src=\"https://colab.research.google.com/assets/colab-badge.svg\" alt=\"Open In Colab\"/></a>"
      ]
    },
    {
      "cell_type": "markdown",
      "metadata": {
        "id": "l346AV8oZPe-",
        "colab_type": "text"
      },
      "source": [
        "# Goal:\n",
        "Using Random Forest to estimate the gini index and feature importance for all features from CA dataset\n",
        "\n",
        "Using Scikit-learn to compute PCA"
      ]
    },
    {
      "cell_type": "markdown",
      "metadata": {
        "id": "thBIWXyoZh3U",
        "colab_type": "text"
      },
      "source": [
        "## Mount Google drive"
      ]
    },
    {
      "cell_type": "code",
      "metadata": {
        "id": "3N0GpmS9ZJFo",
        "colab_type": "code",
        "colab": {
          "base_uri": "https://localhost:8080/",
          "height": 34
        },
        "outputId": "5929bd57-a933-40c1-e308-bd8ec07d6293"
      },
      "source": [
        "from google.colab import drive\n",
        "drive.mount('/content/drive')"
      ],
      "execution_count": 1,
      "outputs": [
        {
          "output_type": "stream",
          "text": [
            "Mounted at /content/drive\n"
          ],
          "name": "stdout"
        }
      ]
    },
    {
      "cell_type": "code",
      "metadata": {
        "id": "ogU_R9SvZjuR",
        "colab_type": "code",
        "colab": {}
      },
      "source": [
        "import pandas as pd\n",
        "\n",
        "from sklearn import preprocessing\n",
        "from sklearn.model_selection import train_test_split\n",
        "\n",
        "from sklearn.preprocessing import LabelEncoder\n",
        "from sklearn.preprocessing import StandardScaler as ss\n",
        "import itertools\n",
        "from scipy import linalg\n",
        "from sklearn.ensemble import RandomForestClassifier\n",
        "from sklearn.tree import export_graphviz\n",
        "import numpy as np\n",
        "import matplotlib.pyplot as plt"
      ],
      "execution_count": 2,
      "outputs": []
    },
    {
      "cell_type": "markdown",
      "metadata": {
        "id": "mjW80L8CZzrv",
        "colab_type": "text"
      },
      "source": [
        "# 1.Load data - Combined CA Data"
      ]
    },
    {
      "cell_type": "code",
      "metadata": {
        "id": "HzV2n_7iZwr9",
        "colab_type": "code",
        "colab": {
          "base_uri": "https://localhost:8080/",
          "height": 34
        },
        "outputId": "834f043a-b1ad-400c-8001-164d5aab89c5"
      },
      "source": [
        "CA_labeled_data = pd.read_csv('/content/drive/Shared drives/CMPE 295- Master Project/Covid19-data/CA_labeledData_Sep14.csv',low_memory=False)\n",
        "print(CA_labeled_data.shape)"
      ],
      "execution_count": 3,
      "outputs": [
        {
          "output_type": "stream",
          "text": [
            "(9196, 19)\n"
          ],
          "name": "stdout"
        }
      ]
    },
    {
      "cell_type": "code",
      "metadata": {
        "id": "rphAMDm_aBqd",
        "colab_type": "code",
        "colab": {
          "base_uri": "https://localhost:8080/",
          "height": 353
        },
        "outputId": "63dd8ae3-7c14-4fb8-c2b4-294787a834d7"
      },
      "source": [
        "CA_labeled_data.dtypes"
      ],
      "execution_count": 4,
      "outputs": [
        {
          "output_type": "execute_result",
          "data": {
            "text/plain": [
              "Date                      object\n",
              "fips_x                     int64\n",
              "County Name               object\n",
              "retail and recreation    float64\n",
              "grocery and pharmacy     float64\n",
              "parks                    float64\n",
              "transit stations         float64\n",
              "workplaces               float64\n",
              "residential              float64\n",
              "driving                  float64\n",
              "m50                      float64\n",
              "m50_index                  int64\n",
              "population_density       float64\n",
              "mask_rule_active           int64\n",
              "mask_wearing_percent     float64\n",
              "New cases                  int64\n",
              "rolling_avg_new_cases    float64\n",
              "label                     object\n",
              "growth_label              object\n",
              "dtype: object"
            ]
          },
          "metadata": {
            "tags": []
          },
          "execution_count": 4
        }
      ]
    },
    {
      "cell_type": "markdown",
      "metadata": {
        "id": "nItxaLWfcCGl",
        "colab_type": "text"
      },
      "source": [
        "## Preprocessing data \n",
        "\n",
        "* drop na\n",
        "* convert categorical code"
      ]
    },
    {
      "cell_type": "code",
      "metadata": {
        "id": "atHU0JIiaDsb",
        "colab_type": "code",
        "colab": {
          "base_uri": "https://localhost:8080/",
          "height": 194
        },
        "outputId": "cba9ace3-2053-4d54-c42b-438d85ac56cb"
      },
      "source": [
        "CA_labeled_data['label_code'] = CA_labeled_data['label'].astype('category').cat.codes\n",
        "\n",
        "CA_labeled_data.head(2)"
      ],
      "execution_count": 5,
      "outputs": [
        {
          "output_type": "execute_result",
          "data": {
            "text/html": [
              "<div>\n",
              "<style scoped>\n",
              "    .dataframe tbody tr th:only-of-type {\n",
              "        vertical-align: middle;\n",
              "    }\n",
              "\n",
              "    .dataframe tbody tr th {\n",
              "        vertical-align: top;\n",
              "    }\n",
              "\n",
              "    .dataframe thead th {\n",
              "        text-align: right;\n",
              "    }\n",
              "</style>\n",
              "<table border=\"1\" class=\"dataframe\">\n",
              "  <thead>\n",
              "    <tr style=\"text-align: right;\">\n",
              "      <th></th>\n",
              "      <th>Date</th>\n",
              "      <th>fips_x</th>\n",
              "      <th>County Name</th>\n",
              "      <th>retail and recreation</th>\n",
              "      <th>grocery and pharmacy</th>\n",
              "      <th>parks</th>\n",
              "      <th>transit stations</th>\n",
              "      <th>workplaces</th>\n",
              "      <th>residential</th>\n",
              "      <th>driving</th>\n",
              "      <th>m50</th>\n",
              "      <th>m50_index</th>\n",
              "      <th>population_density</th>\n",
              "      <th>mask_rule_active</th>\n",
              "      <th>mask_wearing_percent</th>\n",
              "      <th>New cases</th>\n",
              "      <th>rolling_avg_new_cases</th>\n",
              "      <th>label</th>\n",
              "      <th>growth_label</th>\n",
              "      <th>label_code</th>\n",
              "    </tr>\n",
              "  </thead>\n",
              "  <tbody>\n",
              "    <tr>\n",
              "      <th>0</th>\n",
              "      <td>2020-03-01</td>\n",
              "      <td>6001</td>\n",
              "      <td>Alameda County</td>\n",
              "      <td>6.0</td>\n",
              "      <td>9.0</td>\n",
              "      <td>15.0</td>\n",
              "      <td>1.0</td>\n",
              "      <td>4.0</td>\n",
              "      <td>0.0</td>\n",
              "      <td>-7.65</td>\n",
              "      <td>3.684</td>\n",
              "      <td>58</td>\n",
              "      <td>2261.547725</td>\n",
              "      <td>0</td>\n",
              "      <td>0.0</td>\n",
              "      <td>0</td>\n",
              "      <td>0.0</td>\n",
              "      <td>LessSpread</td>\n",
              "      <td>flat_growth</td>\n",
              "      <td>0</td>\n",
              "    </tr>\n",
              "    <tr>\n",
              "      <th>1</th>\n",
              "      <td>2020-03-01</td>\n",
              "      <td>6067</td>\n",
              "      <td>Sacramento County</td>\n",
              "      <td>11.0</td>\n",
              "      <td>4.0</td>\n",
              "      <td>26.0</td>\n",
              "      <td>1.0</td>\n",
              "      <td>2.0</td>\n",
              "      <td>-1.0</td>\n",
              "      <td>-4.63</td>\n",
              "      <td>3.773</td>\n",
              "      <td>53</td>\n",
              "      <td>1608.950489</td>\n",
              "      <td>0</td>\n",
              "      <td>0.0</td>\n",
              "      <td>0</td>\n",
              "      <td>0.0</td>\n",
              "      <td>LessSpread</td>\n",
              "      <td>flat_growth</td>\n",
              "      <td>0</td>\n",
              "    </tr>\n",
              "  </tbody>\n",
              "</table>\n",
              "</div>"
            ],
            "text/plain": [
              "         Date  fips_x        County Name  ...       label  growth_label  label_code\n",
              "0  2020-03-01    6001     Alameda County  ...  LessSpread   flat_growth           0\n",
              "1  2020-03-01    6067  Sacramento County  ...  LessSpread   flat_growth           0\n",
              "\n",
              "[2 rows x 20 columns]"
            ]
          },
          "metadata": {
            "tags": []
          },
          "execution_count": 5
        }
      ]
    },
    {
      "cell_type": "code",
      "metadata": {
        "id": "xalDlwRNa4T-",
        "colab_type": "code",
        "colab": {}
      },
      "source": [
        "CA_labeled_data = CA_labeled_data.dropna()"
      ],
      "execution_count": 6,
      "outputs": []
    },
    {
      "cell_type": "code",
      "metadata": {
        "id": "oQdh_JQSaXlL",
        "colab_type": "code",
        "colab": {
          "base_uri": "https://localhost:8080/",
          "height": 101
        },
        "outputId": "c100376f-390f-4c27-ea23-c0eeef4bd4f5"
      },
      "source": [
        "CA_labeled_data[pd.isna(CA_labeled_data['label'])]"
      ],
      "execution_count": 7,
      "outputs": [
        {
          "output_type": "execute_result",
          "data": {
            "text/html": [
              "<div>\n",
              "<style scoped>\n",
              "    .dataframe tbody tr th:only-of-type {\n",
              "        vertical-align: middle;\n",
              "    }\n",
              "\n",
              "    .dataframe tbody tr th {\n",
              "        vertical-align: top;\n",
              "    }\n",
              "\n",
              "    .dataframe thead th {\n",
              "        text-align: right;\n",
              "    }\n",
              "</style>\n",
              "<table border=\"1\" class=\"dataframe\">\n",
              "  <thead>\n",
              "    <tr style=\"text-align: right;\">\n",
              "      <th></th>\n",
              "      <th>Date</th>\n",
              "      <th>fips_x</th>\n",
              "      <th>County Name</th>\n",
              "      <th>retail and recreation</th>\n",
              "      <th>grocery and pharmacy</th>\n",
              "      <th>parks</th>\n",
              "      <th>transit stations</th>\n",
              "      <th>workplaces</th>\n",
              "      <th>residential</th>\n",
              "      <th>driving</th>\n",
              "      <th>m50</th>\n",
              "      <th>m50_index</th>\n",
              "      <th>population_density</th>\n",
              "      <th>mask_rule_active</th>\n",
              "      <th>mask_wearing_percent</th>\n",
              "      <th>New cases</th>\n",
              "      <th>rolling_avg_new_cases</th>\n",
              "      <th>label</th>\n",
              "      <th>growth_label</th>\n",
              "      <th>label_code</th>\n",
              "    </tr>\n",
              "  </thead>\n",
              "  <tbody>\n",
              "  </tbody>\n",
              "</table>\n",
              "</div>"
            ],
            "text/plain": [
              "Empty DataFrame\n",
              "Columns: [Date, fips_x, County Name, retail and recreation, grocery and pharmacy, parks, transit stations, workplaces, residential, driving, m50, m50_index, population_density, mask_rule_active, mask_wearing_percent, New cases, rolling_avg_new_cases, label, growth_label, label_code]\n",
              "Index: []"
            ]
          },
          "metadata": {
            "tags": []
          },
          "execution_count": 7
        }
      ]
    },
    {
      "cell_type": "code",
      "metadata": {
        "id": "QqIRFkp-aPIE",
        "colab_type": "code",
        "colab": {
          "base_uri": "https://localhost:8080/",
          "height": 34
        },
        "outputId": "58b214c8-17b1-41e3-c4c0-36559ee104dc"
      },
      "source": [
        "CA_labeled_data['label_code'].unique()"
      ],
      "execution_count": 8,
      "outputs": [
        {
          "output_type": "execute_result",
          "data": {
            "text/plain": [
              "array([0, 1, 2], dtype=int8)"
            ]
          },
          "metadata": {
            "tags": []
          },
          "execution_count": 8
        }
      ]
    },
    {
      "cell_type": "code",
      "metadata": {
        "id": "u_0KNgMwbAtU",
        "colab_type": "code",
        "colab": {
          "base_uri": "https://localhost:8080/",
          "height": 350
        },
        "outputId": "c71d0bac-d008-428e-c4bf-8302660cb4cc"
      },
      "source": [
        "CA_labeled_data['growth_code'] = CA_labeled_data['growth_label'].astype('category').cat.codes\n",
        "CA_labeled_data.head()"
      ],
      "execution_count": 9,
      "outputs": [
        {
          "output_type": "execute_result",
          "data": {
            "text/html": [
              "<div>\n",
              "<style scoped>\n",
              "    .dataframe tbody tr th:only-of-type {\n",
              "        vertical-align: middle;\n",
              "    }\n",
              "\n",
              "    .dataframe tbody tr th {\n",
              "        vertical-align: top;\n",
              "    }\n",
              "\n",
              "    .dataframe thead th {\n",
              "        text-align: right;\n",
              "    }\n",
              "</style>\n",
              "<table border=\"1\" class=\"dataframe\">\n",
              "  <thead>\n",
              "    <tr style=\"text-align: right;\">\n",
              "      <th></th>\n",
              "      <th>Date</th>\n",
              "      <th>fips_x</th>\n",
              "      <th>County Name</th>\n",
              "      <th>retail and recreation</th>\n",
              "      <th>grocery and pharmacy</th>\n",
              "      <th>parks</th>\n",
              "      <th>transit stations</th>\n",
              "      <th>workplaces</th>\n",
              "      <th>residential</th>\n",
              "      <th>driving</th>\n",
              "      <th>m50</th>\n",
              "      <th>m50_index</th>\n",
              "      <th>population_density</th>\n",
              "      <th>mask_rule_active</th>\n",
              "      <th>mask_wearing_percent</th>\n",
              "      <th>New cases</th>\n",
              "      <th>rolling_avg_new_cases</th>\n",
              "      <th>label</th>\n",
              "      <th>growth_label</th>\n",
              "      <th>label_code</th>\n",
              "      <th>growth_code</th>\n",
              "    </tr>\n",
              "  </thead>\n",
              "  <tbody>\n",
              "    <tr>\n",
              "      <th>0</th>\n",
              "      <td>2020-03-01</td>\n",
              "      <td>6001</td>\n",
              "      <td>Alameda County</td>\n",
              "      <td>6.0</td>\n",
              "      <td>9.0</td>\n",
              "      <td>15.0</td>\n",
              "      <td>1.0</td>\n",
              "      <td>4.0</td>\n",
              "      <td>0.0</td>\n",
              "      <td>-7.65</td>\n",
              "      <td>3.684</td>\n",
              "      <td>58</td>\n",
              "      <td>2261.547725</td>\n",
              "      <td>0</td>\n",
              "      <td>0.0</td>\n",
              "      <td>0</td>\n",
              "      <td>0.0</td>\n",
              "      <td>LessSpread</td>\n",
              "      <td>flat_growth</td>\n",
              "      <td>0</td>\n",
              "      <td>2</td>\n",
              "    </tr>\n",
              "    <tr>\n",
              "      <th>1</th>\n",
              "      <td>2020-03-01</td>\n",
              "      <td>6067</td>\n",
              "      <td>Sacramento County</td>\n",
              "      <td>11.0</td>\n",
              "      <td>4.0</td>\n",
              "      <td>26.0</td>\n",
              "      <td>1.0</td>\n",
              "      <td>2.0</td>\n",
              "      <td>-1.0</td>\n",
              "      <td>-4.63</td>\n",
              "      <td>3.773</td>\n",
              "      <td>53</td>\n",
              "      <td>1608.950489</td>\n",
              "      <td>0</td>\n",
              "      <td>0.0</td>\n",
              "      <td>0</td>\n",
              "      <td>0.0</td>\n",
              "      <td>LessSpread</td>\n",
              "      <td>flat_growth</td>\n",
              "      <td>0</td>\n",
              "      <td>2</td>\n",
              "    </tr>\n",
              "    <tr>\n",
              "      <th>2</th>\n",
              "      <td>2020-03-01</td>\n",
              "      <td>6069</td>\n",
              "      <td>San Benito County</td>\n",
              "      <td>2.0</td>\n",
              "      <td>-1.0</td>\n",
              "      <td>-7.0</td>\n",
              "      <td>0.0</td>\n",
              "      <td>0.0</td>\n",
              "      <td>0.0</td>\n",
              "      <td>10.40</td>\n",
              "      <td>3.876</td>\n",
              "      <td>33</td>\n",
              "      <td>45.227585</td>\n",
              "      <td>0</td>\n",
              "      <td>0.0</td>\n",
              "      <td>0</td>\n",
              "      <td>0.0</td>\n",
              "      <td>LessSpread</td>\n",
              "      <td>flat_growth</td>\n",
              "      <td>0</td>\n",
              "      <td>2</td>\n",
              "    </tr>\n",
              "    <tr>\n",
              "      <th>3</th>\n",
              "      <td>2020-03-01</td>\n",
              "      <td>6071</td>\n",
              "      <td>San Bernardino County</td>\n",
              "      <td>5.0</td>\n",
              "      <td>-2.0</td>\n",
              "      <td>-22.0</td>\n",
              "      <td>2.0</td>\n",
              "      <td>-1.0</td>\n",
              "      <td>0.0</td>\n",
              "      <td>10.34</td>\n",
              "      <td>4.508</td>\n",
              "      <td>57</td>\n",
              "      <td>108.694796</td>\n",
              "      <td>0</td>\n",
              "      <td>0.0</td>\n",
              "      <td>0</td>\n",
              "      <td>0.0</td>\n",
              "      <td>LessSpread</td>\n",
              "      <td>flat_growth</td>\n",
              "      <td>0</td>\n",
              "      <td>2</td>\n",
              "    </tr>\n",
              "    <tr>\n",
              "      <th>4</th>\n",
              "      <td>2020-03-01</td>\n",
              "      <td>6073</td>\n",
              "      <td>San Diego County</td>\n",
              "      <td>2.0</td>\n",
              "      <td>-1.0</td>\n",
              "      <td>-20.0</td>\n",
              "      <td>-4.0</td>\n",
              "      <td>2.0</td>\n",
              "      <td>0.0</td>\n",
              "      <td>-4.99</td>\n",
              "      <td>4.555</td>\n",
              "      <td>59</td>\n",
              "      <td>793.587741</td>\n",
              "      <td>0</td>\n",
              "      <td>0.0</td>\n",
              "      <td>0</td>\n",
              "      <td>0.0</td>\n",
              "      <td>LessSpread</td>\n",
              "      <td>flat_growth</td>\n",
              "      <td>0</td>\n",
              "      <td>2</td>\n",
              "    </tr>\n",
              "  </tbody>\n",
              "</table>\n",
              "</div>"
            ],
            "text/plain": [
              "         Date  fips_x  ... label_code  growth_code\n",
              "0  2020-03-01    6001  ...          0            2\n",
              "1  2020-03-01    6067  ...          0            2\n",
              "2  2020-03-01    6069  ...          0            2\n",
              "3  2020-03-01    6071  ...          0            2\n",
              "4  2020-03-01    6073  ...          0            2\n",
              "\n",
              "[5 rows x 21 columns]"
            ]
          },
          "metadata": {
            "tags": []
          },
          "execution_count": 9
        }
      ]
    },
    {
      "cell_type": "code",
      "metadata": {
        "id": "Rnfoncl0bGfe",
        "colab_type": "code",
        "colab": {
          "base_uri": "https://localhost:8080/",
          "height": 34
        },
        "outputId": "ff6cd2da-10a7-4106-ee7b-5cc198a0c0c3"
      },
      "source": [
        "CA_labeled_data['growth_code'].unique()"
      ],
      "execution_count": 10,
      "outputs": [
        {
          "output_type": "execute_result",
          "data": {
            "text/plain": [
              "array([2, 3, 4, 0, 1], dtype=int8)"
            ]
          },
          "metadata": {
            "tags": []
          },
          "execution_count": 10
        }
      ]
    },
    {
      "cell_type": "code",
      "metadata": {
        "id": "1HVWG1aBcJQo",
        "colab_type": "code",
        "colab": {
          "base_uri": "https://localhost:8080/",
          "height": 386
        },
        "outputId": "053ae487-7467-4b11-840f-f9dbe9f7d171"
      },
      "source": [
        "CA_labeled_data.dtypes"
      ],
      "execution_count": 11,
      "outputs": [
        {
          "output_type": "execute_result",
          "data": {
            "text/plain": [
              "Date                      object\n",
              "fips_x                     int64\n",
              "County Name               object\n",
              "retail and recreation    float64\n",
              "grocery and pharmacy     float64\n",
              "parks                    float64\n",
              "transit stations         float64\n",
              "workplaces               float64\n",
              "residential              float64\n",
              "driving                  float64\n",
              "m50                      float64\n",
              "m50_index                  int64\n",
              "population_density       float64\n",
              "mask_rule_active           int64\n",
              "mask_wearing_percent     float64\n",
              "New cases                  int64\n",
              "rolling_avg_new_cases    float64\n",
              "label                     object\n",
              "growth_label              object\n",
              "label_code                  int8\n",
              "growth_code                 int8\n",
              "dtype: object"
            ]
          },
          "metadata": {
            "tags": []
          },
          "execution_count": 11
        }
      ]
    },
    {
      "cell_type": "code",
      "metadata": {
        "id": "Q015pwCsbJRZ",
        "colab_type": "code",
        "colab": {}
      },
      "source": [
        "feature_labels = ['retail and recreation','grocery and pharmacy','parks','transit stations','workplaces','residential','driving','m50','m50_index',\n",
        "               'population_density','mask_rule_active']\n",
        "\n",
        "target_column = ['label_code']\n",
        "\n",
        "X = CA_labeled_data[feature_labels]\n",
        "y = CA_labeled_data[target_column]\n",
        "\n",
        "X_train, X_test, y_train, y_test = train_test_split(X, y, test_size=0.4, random_state=0)\n"
      ],
      "execution_count": 12,
      "outputs": []
    },
    {
      "cell_type": "markdown",
      "metadata": {
        "id": "JCogtyG2c_KJ",
        "colab_type": "text"
      },
      "source": [
        "## Train Random Forest classifier"
      ]
    },
    {
      "cell_type": "code",
      "metadata": {
        "id": "2WlgVFSHbGWY",
        "colab_type": "code",
        "colab": {
          "base_uri": "https://localhost:8080/",
          "height": 255
        },
        "outputId": "23842fa8-8d86-48b1-96bf-e6c8bfad119d"
      },
      "source": [
        "# Create a random forest classifier\n",
        "clf = RandomForestClassifier(n_estimators=10000, random_state=0, n_jobs=-1)\n",
        "\n",
        "# Train the classifier\n",
        "clf.fit(X_train, y_train)\n",
        "\n",
        "# Print the name and gini importance of each feature\n",
        "for feature in zip(feature_labels, clf.feature_importances_):\n",
        "    print(feature)"
      ],
      "execution_count": 13,
      "outputs": [
        {
          "output_type": "stream",
          "text": [
            "/usr/local/lib/python3.6/dist-packages/ipykernel_launcher.py:5: DataConversionWarning: A column-vector y was passed when a 1d array was expected. Please change the shape of y to (n_samples,), for example using ravel().\n",
            "  \"\"\"\n"
          ],
          "name": "stderr"
        },
        {
          "output_type": "stream",
          "text": [
            "('retail and recreation', 0.11404503482729024)\n",
            "('grocery and pharmacy', 0.0977353017159239)\n",
            "('parks', 0.08304739743750444)\n",
            "('transit stations', 0.07089533985243181)\n",
            "('workplaces', 0.08453766703056341)\n",
            "('residential', 0.06283150630172737)\n",
            "('driving', 0.18430359774293176)\n",
            "('m50', 0.10379536502744927)\n",
            "('m50_index', 0.08638292041145693)\n",
            "('population_density', 0.10282015610054916)\n",
            "('mask_rule_active', 0.009605713552171631)\n"
          ],
          "name": "stdout"
        }
      ]
    },
    {
      "cell_type": "code",
      "metadata": {
        "id": "3Vc0z9x3dsxZ",
        "colab_type": "code",
        "colab": {
          "base_uri": "https://localhost:8080/",
          "height": 255
        },
        "outputId": "9d47cb56-0a2c-4d7e-8623-bf568be6821b"
      },
      "source": [
        "\n",
        "#  Supported criteria are “gini” for the Gini impurity and “entropy” for the information gain. \n",
        "clf = RandomForestClassifier(n_estimators=10000, random_state=0,criterion='entropy', n_jobs=-1)\n",
        "\n",
        "# Train the classifier\n",
        "clf.fit(X_train, y_train)\n",
        "\n",
        "# Print the name and gini importance of each feature\n",
        "for feature in zip(feature_labels, clf.feature_importances_):\n",
        "    print(feature)"
      ],
      "execution_count": 14,
      "outputs": [
        {
          "output_type": "stream",
          "text": [
            "/usr/local/lib/python3.6/dist-packages/ipykernel_launcher.py:6: DataConversionWarning: A column-vector y was passed when a 1d array was expected. Please change the shape of y to (n_samples,), for example using ravel().\n",
            "  \n"
          ],
          "name": "stderr"
        },
        {
          "output_type": "stream",
          "text": [
            "('retail and recreation', 0.10842744959745582)\n",
            "('grocery and pharmacy', 0.08938669389635209)\n",
            "('parks', 0.08587410764814926)\n",
            "('transit stations', 0.06943167774920254)\n",
            "('workplaces', 0.0755698414533044)\n",
            "('residential', 0.06139540186683856)\n",
            "('driving', 0.20793673090710485)\n",
            "('m50', 0.08934462864895355)\n",
            "('m50_index', 0.07379536718664355)\n",
            "('population_density', 0.11859726524794632)\n",
            "('mask_rule_active', 0.02024083579804911)\n"
          ],
          "name": "stdout"
        }
      ]
    },
    {
      "cell_type": "markdown",
      "metadata": {
        "id": "D3zWG9KkfUfd",
        "colab_type": "text"
      },
      "source": [
        "## PCA Computation"
      ]
    },
    {
      "cell_type": "code",
      "metadata": {
        "id": "E4VmR9P-5JqM",
        "colab_type": "code",
        "colab": {
          "base_uri": "https://localhost:8080/",
          "height": 0
        },
        "outputId": "e6b1fcf7-a88e-4601-c8d4-5447dd9492c8"
      },
      "source": [
        "print(len(feature_labels))"
      ],
      "execution_count": 15,
      "outputs": [
        {
          "output_type": "stream",
          "text": [
            "11\n"
          ],
          "name": "stdout"
        }
      ]
    },
    {
      "cell_type": "code",
      "metadata": {
        "id": "zjEtAIc621LQ",
        "colab_type": "code",
        "colab": {
          "base_uri": "https://localhost:8080/",
          "height": 0
        },
        "outputId": "191bdbfc-62c3-4bf0-8e5f-23e0e9a48f6f"
      },
      "source": [
        "# split into training and testing datasets\n",
        "\n",
        "\n",
        "X = CA_labeled_data[feature_labels].values\n",
        "y = CA_labeled_data[target_column].values\n",
        "\n",
        "X_train, X_test, y_train, y_test = train_test_split(X, y, test_size=0.3,stratify=y, random_state=0)\n",
        "print(X_train)\n",
        "print(y_train)"
      ],
      "execution_count": 16,
      "outputs": [
        {
          "output_type": "stream",
          "text": [
            "[[  0.           0.         -19.         ...  40.          27.63595894\n",
            "    0.        ]\n",
            " [-36.          -8.         -15.         ...  39.          47.69825714\n",
            "    0.        ]\n",
            " [  2.           7.          14.         ...  94.          24.52991607\n",
            "    0.        ]\n",
            " ...\n",
            " [-37.         -15.         -29.         ...  42.         167.69094946\n",
            "    0.        ]\n",
            " [-34.         -14.         -12.         ...   8.         110.07470743\n",
            "    0.        ]\n",
            " [-32.          -3.          23.         ...  52.         313.69483136\n",
            "    0.        ]]\n",
            "[[1]\n",
            " [0]\n",
            " [0]\n",
            " ...\n",
            " [1]\n",
            " [1]\n",
            " [0]]\n"
          ],
          "name": "stdout"
        }
      ]
    },
    {
      "cell_type": "code",
      "metadata": {
        "id": "9A68OlBw4WoF",
        "colab_type": "code",
        "colab": {}
      },
      "source": [
        "# standardize the features\n",
        "sc = ss()\n",
        "X_train_std = sc.fit_transform(X_train)\n",
        "X_test_std = sc.transform(X_test)"
      ],
      "execution_count": 17,
      "outputs": []
    },
    {
      "cell_type": "code",
      "metadata": {
        "id": "ev-2B1Qf6XTa",
        "colab_type": "code",
        "colab": {}
      },
      "source": [
        "from sklearn.decomposition import PCA\n",
        "pca = PCA(n_components=2)\n",
        "principalComponents = pca.fit_transform(X)\n",
        "principalDf = pd.DataFrame(data = principalComponents\n",
        "             , columns = ['principal component 1', 'principal component 2'])"
      ],
      "execution_count": 18,
      "outputs": []
    },
    {
      "cell_type": "code",
      "metadata": {
        "id": "pYJms-Kj8RR6",
        "colab_type": "code",
        "colab": {
          "base_uri": "https://localhost:8080/",
          "height": 0
        },
        "outputId": "a8299935-041f-4306-873c-fec6e6ed321f"
      },
      "source": [
        "principalDf"
      ],
      "execution_count": 19,
      "outputs": [
        {
          "output_type": "execute_result",
          "data": {
            "text/html": [
              "<div>\n",
              "<style scoped>\n",
              "    .dataframe tbody tr th:only-of-type {\n",
              "        vertical-align: middle;\n",
              "    }\n",
              "\n",
              "    .dataframe tbody tr th {\n",
              "        vertical-align: top;\n",
              "    }\n",
              "\n",
              "    .dataframe thead th {\n",
              "        text-align: right;\n",
              "    }\n",
              "</style>\n",
              "<table border=\"1\" class=\"dataframe\">\n",
              "  <thead>\n",
              "    <tr style=\"text-align: right;\">\n",
              "      <th></th>\n",
              "      <th>principal component 1</th>\n",
              "      <th>principal component 2</th>\n",
              "    </tr>\n",
              "  </thead>\n",
              "  <tbody>\n",
              "    <tr>\n",
              "      <th>0</th>\n",
              "      <td>1484.211987</td>\n",
              "      <td>12.154369</td>\n",
              "    </tr>\n",
              "    <tr>\n",
              "      <th>1</th>\n",
              "      <td>831.609744</td>\n",
              "      <td>5.251019</td>\n",
              "    </tr>\n",
              "    <tr>\n",
              "      <th>2</th>\n",
              "      <td>-731.962746</td>\n",
              "      <td>-20.095525</td>\n",
              "    </tr>\n",
              "    <tr>\n",
              "      <th>3</th>\n",
              "      <td>-668.548597</td>\n",
              "      <td>3.819142</td>\n",
              "    </tr>\n",
              "    <tr>\n",
              "      <th>4</th>\n",
              "      <td>16.412827</td>\n",
              "      <td>6.835767</td>\n",
              "    </tr>\n",
              "    <tr>\n",
              "      <th>...</th>\n",
              "      <td>...</td>\n",
              "      <td>...</td>\n",
              "    </tr>\n",
              "    <tr>\n",
              "      <th>9177</th>\n",
              "      <td>-704.331544</td>\n",
              "      <td>27.927847</td>\n",
              "    </tr>\n",
              "    <tr>\n",
              "      <th>9178</th>\n",
              "      <td>1696.922797</td>\n",
              "      <td>4.767738</td>\n",
              "    </tr>\n",
              "    <tr>\n",
              "      <th>9179</th>\n",
              "      <td>-691.794582</td>\n",
              "      <td>28.715759</td>\n",
              "    </tr>\n",
              "    <tr>\n",
              "      <th>9180</th>\n",
              "      <td>-771.717397</td>\n",
              "      <td>65.912923</td>\n",
              "    </tr>\n",
              "    <tr>\n",
              "      <th>9181</th>\n",
              "      <td>-653.167438</td>\n",
              "      <td>15.340379</td>\n",
              "    </tr>\n",
              "  </tbody>\n",
              "</table>\n",
              "<p>9182 rows × 2 columns</p>\n",
              "</div>"
            ],
            "text/plain": [
              "      principal component 1  principal component 2\n",
              "0               1484.211987              12.154369\n",
              "1                831.609744               5.251019\n",
              "2               -731.962746             -20.095525\n",
              "3               -668.548597               3.819142\n",
              "4                 16.412827               6.835767\n",
              "...                     ...                    ...\n",
              "9177            -704.331544              27.927847\n",
              "9178            1696.922797               4.767738\n",
              "9179            -691.794582              28.715759\n",
              "9180            -771.717397              65.912923\n",
              "9181            -653.167438              15.340379\n",
              "\n",
              "[9182 rows x 2 columns]"
            ]
          },
          "metadata": {
            "tags": []
          },
          "execution_count": 19
        }
      ]
    },
    {
      "cell_type": "code",
      "metadata": {
        "id": "rDNqe9dF6eZA",
        "colab_type": "code",
        "colab": {
          "base_uri": "https://localhost:8080/",
          "height": 0
        },
        "outputId": "fd3d413c-a26a-48e1-f348-78f910362e3b"
      },
      "source": [
        "finalDf = pd.concat([principalDf, CA_labeled_data[target_column]],axis=1 )\n",
        "finalDf"
      ],
      "execution_count": 20,
      "outputs": [
        {
          "output_type": "execute_result",
          "data": {
            "text/html": [
              "<div>\n",
              "<style scoped>\n",
              "    .dataframe tbody tr th:only-of-type {\n",
              "        vertical-align: middle;\n",
              "    }\n",
              "\n",
              "    .dataframe tbody tr th {\n",
              "        vertical-align: top;\n",
              "    }\n",
              "\n",
              "    .dataframe thead th {\n",
              "        text-align: right;\n",
              "    }\n",
              "</style>\n",
              "<table border=\"1\" class=\"dataframe\">\n",
              "  <thead>\n",
              "    <tr style=\"text-align: right;\">\n",
              "      <th></th>\n",
              "      <th>principal component 1</th>\n",
              "      <th>principal component 2</th>\n",
              "      <th>label_code</th>\n",
              "    </tr>\n",
              "  </thead>\n",
              "  <tbody>\n",
              "    <tr>\n",
              "      <th>0</th>\n",
              "      <td>1484.211987</td>\n",
              "      <td>12.154369</td>\n",
              "      <td>0.0</td>\n",
              "    </tr>\n",
              "    <tr>\n",
              "      <th>1</th>\n",
              "      <td>831.609744</td>\n",
              "      <td>5.251019</td>\n",
              "      <td>0.0</td>\n",
              "    </tr>\n",
              "    <tr>\n",
              "      <th>2</th>\n",
              "      <td>-731.962746</td>\n",
              "      <td>-20.095525</td>\n",
              "      <td>0.0</td>\n",
              "    </tr>\n",
              "    <tr>\n",
              "      <th>3</th>\n",
              "      <td>-668.548597</td>\n",
              "      <td>3.819142</td>\n",
              "      <td>0.0</td>\n",
              "    </tr>\n",
              "    <tr>\n",
              "      <th>4</th>\n",
              "      <td>16.412827</td>\n",
              "      <td>6.835767</td>\n",
              "      <td>0.0</td>\n",
              "    </tr>\n",
              "    <tr>\n",
              "      <th>...</th>\n",
              "      <td>...</td>\n",
              "      <td>...</td>\n",
              "      <td>...</td>\n",
              "    </tr>\n",
              "    <tr>\n",
              "      <th>9191</th>\n",
              "      <td>NaN</td>\n",
              "      <td>NaN</td>\n",
              "      <td>0.0</td>\n",
              "    </tr>\n",
              "    <tr>\n",
              "      <th>9192</th>\n",
              "      <td>NaN</td>\n",
              "      <td>NaN</td>\n",
              "      <td>0.0</td>\n",
              "    </tr>\n",
              "    <tr>\n",
              "      <th>9193</th>\n",
              "      <td>NaN</td>\n",
              "      <td>NaN</td>\n",
              "      <td>0.0</td>\n",
              "    </tr>\n",
              "    <tr>\n",
              "      <th>9194</th>\n",
              "      <td>NaN</td>\n",
              "      <td>NaN</td>\n",
              "      <td>0.0</td>\n",
              "    </tr>\n",
              "    <tr>\n",
              "      <th>9195</th>\n",
              "      <td>NaN</td>\n",
              "      <td>NaN</td>\n",
              "      <td>0.0</td>\n",
              "    </tr>\n",
              "  </tbody>\n",
              "</table>\n",
              "<p>9196 rows × 3 columns</p>\n",
              "</div>"
            ],
            "text/plain": [
              "      principal component 1  principal component 2  label_code\n",
              "0               1484.211987              12.154369         0.0\n",
              "1                831.609744               5.251019         0.0\n",
              "2               -731.962746             -20.095525         0.0\n",
              "3               -668.548597               3.819142         0.0\n",
              "4                 16.412827               6.835767         0.0\n",
              "...                     ...                    ...         ...\n",
              "9191                    NaN                    NaN         0.0\n",
              "9192                    NaN                    NaN         0.0\n",
              "9193                    NaN                    NaN         0.0\n",
              "9194                    NaN                    NaN         0.0\n",
              "9195                    NaN                    NaN         0.0\n",
              "\n",
              "[9196 rows x 3 columns]"
            ]
          },
          "metadata": {
            "tags": []
          },
          "execution_count": 20
        }
      ]
    },
    {
      "cell_type": "code",
      "metadata": {
        "id": "nx4DfVPy6uI6",
        "colab_type": "code",
        "colab": {
          "base_uri": "https://localhost:8080/",
          "height": 0
        },
        "outputId": "a432907e-d1b0-401a-f388-5de43e49ead5"
      },
      "source": [
        "fig = plt.figure(figsize = (8,8))\n",
        "ax = fig.add_subplot(1,1,1) \n",
        "ax.set_xlabel('Principal Component 1', fontsize = 15)\n",
        "ax.set_ylabel('Principal Component 2', fontsize = 15)\n",
        "ax.set_title('2 component PCA', fontsize = 20)\n",
        "targets = ['LowSpread', 'Spread', 'SuperSpread']\n",
        "targets2 = np.unique(y_train)\n",
        "colors = ['r', 'g', 'b']\n",
        "for target, color in zip(targets2,colors):\n",
        "    print(target)\n",
        "    indicesToKeep = finalDf['label_code'] == target\n",
        "    ax.scatter(finalDf.loc[indicesToKeep, 'principal component 1']\n",
        "               , finalDf.loc[indicesToKeep, 'principal component 2']\n",
        "               , c = color\n",
        "               , s = 50)\n",
        "ax.legend(targets)\n",
        "ax.grid()"
      ],
      "execution_count": 21,
      "outputs": [
        {
          "output_type": "stream",
          "text": [
            "0\n",
            "1\n",
            "2\n"
          ],
          "name": "stdout"
        },
        {
          "output_type": "display_data",
          "data": {
            "image/png": "[encoded data removed]",
            "text/plain": [
              "<Figure size 576x576 with 1 Axes>"
            ]
          },
          "metadata": {
            "tags": [],
            "needs_background": "light"
          }
        }
      ]
    },
    {
      "cell_type": "code",
      "metadata": {
        "id": "1MDNSQeG4ZWI",
        "colab_type": "code",
        "colab": {}
      },
      "source": [
        "#obtain the eigenpairs of the Wine covariance matrix:\n",
        "#data_cov = np.dot(np.transpose(data.values),data.values)\n",
        "#data_cov\n",
        "X_train_cov = np.cov(X_train_std.T)\n",
        "w, v = np.linalg.eig(X_train_cov)"
      ],
      "execution_count": 22,
      "outputs": []
    },
    {
      "cell_type": "code",
      "metadata": {
        "id": "Too9Fkoi4cBt",
        "colab_type": "code",
        "colab": {
          "base_uri": "https://localhost:8080/",
          "height": 0
        },
        "outputId": "9d0461c2-e503-4bc7-87a8-b750a2401baf"
      },
      "source": [
        "#The percent of variability contained within each component\n",
        "w_percent = (w/np.sum(w))*100                 \n",
        "print(w, '-> eigenvalues')\n",
        "print(w_percent, ' -> percent of variability explained')"
      ],
      "execution_count": 23,
      "outputs": [
        {
          "output_type": "stream",
          "text": [
            "[4.68190471 1.74653449 1.46032377 0.80300952 0.64539697 0.54509859\n",
            " 0.37669832 0.0825042  0.27613096 0.23293532 0.15117495] -> eigenvalues\n",
            "[42.55614759 15.87511586 13.27360507  7.29895067  5.86633225  4.95467068\n",
            "  3.42399731  0.74992146  2.50989083  2.11726438  1.37410389]  -> percent of variability explained\n"
          ],
          "name": "stdout"
        }
      ]
    },
    {
      "cell_type": "code",
      "metadata": {
        "id": "sxWTQTRD4ebt",
        "colab_type": "code",
        "colab": {
          "base_uri": "https://localhost:8080/",
          "height": 0
        },
        "outputId": "71d18f5c-fbb7-43f5-9b1e-c757b2909cc4"
      },
      "source": [
        "# calculate cumulative sum of explained variances\n",
        "tot = sum(w)\n",
        "var_exp = [(i / tot) for i in sorted(w, reverse=True)]\n",
        "cum_var_exp = np.cumsum(var_exp)\n",
        "\n",
        "# plot explained variances\n",
        "plt.title(\"Component-wise and Cumulative Explained Variance\")\n",
        "plt.bar(range(0,11), var_exp, alpha=0.5,\n",
        "        align='center', label='individual explained variance')\n",
        "plt.step(range(0,11), cum_var_exp, where='mid',\n",
        "         label='Percentage of variability explained')\n",
        "plt.ylabel('Explained variance ratio')\n",
        "plt.xlabel('Principal component index')\n",
        "plt.legend(loc='best')\n",
        "plt.show()"
      ],
      "execution_count": 24,
      "outputs": [
        {
          "output_type": "display_data",
          "data": {
            "image/png": "[encoded data removed]",
            "text/plain": [
              "<Figure size 432x288 with 1 Axes>"
            ]
          },
          "metadata": {
            "tags": [],
            "needs_background": "light"
          }
        }
      ]
    },
    {
      "cell_type": "code",
      "metadata": {
        "id": "SGCUhk0-4hY-",
        "colab_type": "code",
        "colab": {
          "base_uri": "https://localhost:8080/",
          "height": 0
        },
        "outputId": "54231ce2-5aac-46b0-8859-106717533445"
      },
      "source": [
        "# Make a list of (eigenvalue, eigenvector) tuples\n",
        "eigen_pairs = [(np.abs(w[i]), v[:, i]) for i in range(len(w))]\n",
        "\n",
        "# Sort the (eigenvalue, eigenvector) tuples from high to low\n",
        "eigen_pairs.sort(key=lambda k: k[0], reverse=True)\n",
        "w2 = np.hstack((eigen_pairs[0][1][:, np.newaxis], eigen_pairs[1][1][:, np.newaxis]))\n",
        "print('Matrix W2:\\n', w2)"
      ],
      "execution_count": 25,
      "outputs": [
        {
          "output_type": "stream",
          "text": [
            "Matrix W2:\n",
            " [[ 0.39802686  0.07548609]\n",
            " [ 0.36806604  0.09620801]\n",
            " [ 0.21207444  0.10891566]\n",
            " [ 0.37897478  0.08480521]\n",
            " [ 0.34828846  0.07030567]\n",
            " [-0.39530182 -0.08205423]\n",
            " [ 0.33752331  0.0546998 ]\n",
            " [ 0.20123608 -0.66139603]\n",
            " [ 0.1330275  -0.7067886 ]\n",
            " [-0.21066697 -0.08990957]\n",
            " [ 0.15310568  0.07902472]]\n"
          ],
          "name": "stdout"
        }
      ]
    },
    {
      "cell_type": "code",
      "metadata": {
        "id": "PvPOq3Ru4nzj",
        "colab_type": "code",
        "colab": {
          "base_uri": "https://localhost:8080/",
          "height": 0
        },
        "outputId": "4d45a27f-1f6f-463b-9b49-302904b8f58b"
      },
      "source": [
        "X_train_pca = X_train_std.dot(w2)\n",
        "print(X_train_pca)"
      ],
      "execution_count": 26,
      "outputs": [
        {
          "output_type": "stream",
          "text": [
            "[[ 1.02907231  0.50060721]\n",
            " [-1.17610228 -0.16989335]\n",
            " [ 2.36704187 -0.15435181]\n",
            " ...\n",
            " [-1.95580732 -0.42506671]\n",
            " [-1.43175017  0.1959066 ]\n",
            " [-0.56951383 -0.15928261]]\n"
          ],
          "name": "stdout"
        }
      ]
    },
    {
      "cell_type": "code",
      "metadata": {
        "id": "zZ5Dzp2t6AMb",
        "colab_type": "code",
        "colab": {
          "base_uri": "https://localhost:8080/",
          "height": 0
        },
        "outputId": "cc27a12e-56ee-4a0c-8774-45e1931977c7"
      },
      "source": [
        "np.unique(y_train)\n",
        "X_train_pca"
      ],
      "execution_count": 27,
      "outputs": [
        {
          "output_type": "execute_result",
          "data": {
            "text/plain": [
              "array([[ 1.02907231,  0.50060721],\n",
              "       [-1.17610228, -0.16989335],\n",
              "       [ 2.36704187, -0.15435181],\n",
              "       ...,\n",
              "       [-1.95580732, -0.42506671],\n",
              "       [-1.43175017,  0.1959066 ],\n",
              "       [-0.56951383, -0.15928261]])"
            ]
          },
          "metadata": {
            "tags": []
          },
          "execution_count": 27
        }
      ]
    },
    {
      "cell_type": "markdown",
      "metadata": {
        "colab_type": "text",
        "id": "sjhIpN5vH1mt"
      },
      "source": [
        "# 2.Load data - Maryland Inertia Data"
      ]
    },
    {
      "cell_type": "code",
      "metadata": {
        "colab_type": "code",
        "id": "xJtA0B_cH1mz",
        "colab": {
          "base_uri": "https://localhost:8080/",
          "height": 34
        },
        "outputId": "3bd08bb7-5cf4-48e0-f1dc-4ae720c0e1d2"
      },
      "source": [
        "CA_inertia_labeled_data = pd.read_csv('/content/drive/Shared drives/CMPE 295- Master Project/Covid19-data/CA_sd_inertia_labeledData_Sep14.csv',low_memory=False)\n",
        "print(CA_inertia_labeled_data.shape)"
      ],
      "execution_count": 28,
      "outputs": [
        {
          "output_type": "stream",
          "text": [
            "(12296, 56)\n"
          ],
          "name": "stdout"
        }
      ]
    },
    {
      "cell_type": "code",
      "metadata": {
        "colab_type": "code",
        "id": "nVew84W1H1nC",
        "colab": {
          "base_uri": "https://localhost:8080/",
          "height": 974
        },
        "outputId": "e75aa7b3-3990-4273-958e-e8bc89e8ee88"
      },
      "source": [
        "CA_inertia_labeled_data.dtypes"
      ],
      "execution_count": 29,
      "outputs": [
        {
          "output_type": "execute_result",
          "data": {
            "text/plain": [
              "Date                                           object\n",
              "Province_State                                 object\n",
              "FIPS                                            int64\n",
              "New cases                                       int64\n",
              "mask_rule_active                                int64\n",
              "CTFIPS                                          int64\n",
              "CTNAME                                         object\n",
              "STFIPS                                          int64\n",
              "Social distancing index                         int64\n",
              "% staying home                                  int64\n",
              "Trips/person                                  float64\n",
              "% out-of-county trips                         float64\n",
              "% out-of-state trips                          float64\n",
              "Miles/person                                  float64\n",
              "Work trips/person                             float64\n",
              "Non-work trips/person                         float64\n",
              "New COVID cases                                 int64\n",
              "Population                                      int64\n",
              "% change in consumption                       float64\n",
              "date                                           object\n",
              "Transit mode share                            float64\n",
              "% people older than 60                          int64\n",
              "Median income                                   int64\n",
              "% African Americans                           float64\n",
              "% Hispanic Americans                          float64\n",
              "% Male                                        float64\n",
              "Population density                              int64\n",
              "Employment density                              int64\n",
              "# hot spots/1000 people                         int64\n",
              "Hospital beds/1000 people                     float64\n",
              "ICUs/1000 people                              float64\n",
              "# contact tracing workers/1000 people         float64\n",
              "# contact tracing workers/1000 people rank    float64\n",
              "% people older than 60 rank                     int64\n",
              "COVID exposure/1000 people                    float64\n",
              "Unemployment claims/1000 people               float64\n",
              "Unemployment rate                             float64\n",
              "% working from home                           float64\n",
              "Cumulative inflation rate                     float64\n",
              "% hospital bed utilization                    float64\n",
              "Testing capacity                              float64\n",
              "Tests done/1000 people                        float64\n",
              "% ICU utilization                             float64\n",
              "Ventilator shortage                             int64\n",
              "Confirmed                                     float64\n",
              "Deaths                                        float64\n",
              "New deaths                                    float64\n",
              "#days: decreasing ILI cases                   float64\n",
              "COVID death rate                              float64\n",
              "New cases/1000 people                         float64\n",
              "Active cases/1000 people                      float64\n",
              "#days: decreasing COVID cases                 float64\n",
              "Imported COVID cases                          float64\n",
              "rolling_avg_new_cases                         float64\n",
              "label                                          object\n",
              "growth_label                                   object\n",
              "dtype: object"
            ]
          },
          "metadata": {
            "tags": []
          },
          "execution_count": 29
        }
      ]
    },
    {
      "cell_type": "markdown",
      "metadata": {
        "colab_type": "text",
        "id": "xxeFv1MxH1nJ"
      },
      "source": [
        "## Preprocessing data \n",
        "\n",
        "* drop na\n",
        "* convert categorical code"
      ]
    },
    {
      "cell_type": "code",
      "metadata": {
        "colab_type": "code",
        "id": "9V8166soH1nK",
        "colab": {
          "base_uri": "https://localhost:8080/",
          "height": 0
        },
        "outputId": "22b53fb1-55df-4787-b62a-273b7c1855c9"
      },
      "source": [
        "CA_inertia_labeled_data['label_code'] = CA_inertia_labeled_data['label'].astype('category').cat.codes\n",
        "\n",
        "CA_inertia_labeled_data.head(2)"
      ],
      "execution_count": 30,
      "outputs": [
        {
          "output_type": "execute_result",
          "data": {
            "text/html": [
              "<div>\n",
              "<style scoped>\n",
              "    .dataframe tbody tr th:only-of-type {\n",
              "        vertical-align: middle;\n",
              "    }\n",
              "\n",
              "    .dataframe tbody tr th {\n",
              "        vertical-align: top;\n",
              "    }\n",
              "\n",
              "    .dataframe thead th {\n",
              "        text-align: right;\n",
              "    }\n",
              "</style>\n",
              "<table border=\"1\" class=\"dataframe\">\n",
              "  <thead>\n",
              "    <tr style=\"text-align: right;\">\n",
              "      <th></th>\n",
              "      <th>Date</th>\n",
              "      <th>Province_State</th>\n",
              "      <th>FIPS</th>\n",
              "      <th>New cases</th>\n",
              "      <th>mask_rule_active</th>\n",
              "      <th>CTFIPS</th>\n",
              "      <th>CTNAME</th>\n",
              "      <th>STFIPS</th>\n",
              "      <th>Social distancing index</th>\n",
              "      <th>% staying home</th>\n",
              "      <th>Trips/person</th>\n",
              "      <th>% out-of-county trips</th>\n",
              "      <th>% out-of-state trips</th>\n",
              "      <th>Miles/person</th>\n",
              "      <th>Work trips/person</th>\n",
              "      <th>Non-work trips/person</th>\n",
              "      <th>New COVID cases</th>\n",
              "      <th>Population</th>\n",
              "      <th>% change in consumption</th>\n",
              "      <th>date</th>\n",
              "      <th>Transit mode share</th>\n",
              "      <th>% people older than 60</th>\n",
              "      <th>Median income</th>\n",
              "      <th>% African Americans</th>\n",
              "      <th>% Hispanic Americans</th>\n",
              "      <th>% Male</th>\n",
              "      <th>Population density</th>\n",
              "      <th>Employment density</th>\n",
              "      <th># hot spots/1000 people</th>\n",
              "      <th>Hospital beds/1000 people</th>\n",
              "      <th>ICUs/1000 people</th>\n",
              "      <th># contact tracing workers/1000 people</th>\n",
              "      <th># contact tracing workers/1000 people rank</th>\n",
              "      <th>% people older than 60 rank</th>\n",
              "      <th>COVID exposure/1000 people</th>\n",
              "      <th>Unemployment claims/1000 people</th>\n",
              "      <th>Unemployment rate</th>\n",
              "      <th>% working from home</th>\n",
              "      <th>Cumulative inflation rate</th>\n",
              "      <th>% hospital bed utilization</th>\n",
              "      <th>Testing capacity</th>\n",
              "      <th>Tests done/1000 people</th>\n",
              "      <th>% ICU utilization</th>\n",
              "      <th>Ventilator shortage</th>\n",
              "      <th>Confirmed</th>\n",
              "      <th>Deaths</th>\n",
              "      <th>New deaths</th>\n",
              "      <th>#days: decreasing ILI cases</th>\n",
              "      <th>COVID death rate</th>\n",
              "      <th>New cases/1000 people</th>\n",
              "      <th>Active cases/1000 people</th>\n",
              "      <th>#days: decreasing COVID cases</th>\n",
              "      <th>Imported COVID cases</th>\n",
              "      <th>rolling_avg_new_cases</th>\n",
              "      <th>label</th>\n",
              "      <th>growth_label</th>\n",
              "      <th>label_code</th>\n",
              "    </tr>\n",
              "  </thead>\n",
              "  <tbody>\n",
              "    <tr>\n",
              "      <th>0</th>\n",
              "      <td>2020-01-22</td>\n",
              "      <td>California</td>\n",
              "      <td>6001</td>\n",
              "      <td>0</td>\n",
              "      <td>0</td>\n",
              "      <td>6001</td>\n",
              "      <td>Alameda County</td>\n",
              "      <td>6</td>\n",
              "      <td>18</td>\n",
              "      <td>20</td>\n",
              "      <td>3.29</td>\n",
              "      <td>29.4</td>\n",
              "      <td>0.3</td>\n",
              "      <td>35.9</td>\n",
              "      <td>0.55</td>\n",
              "      <td>2.74</td>\n",
              "      <td>0</td>\n",
              "      <td>1666753</td>\n",
              "      <td>-2.9</td>\n",
              "      <td>2020-01-22</td>\n",
              "      <td>15.04</td>\n",
              "      <td>19</td>\n",
              "      <td>92574</td>\n",
              "      <td>10.5</td>\n",
              "      <td>22.5</td>\n",
              "      <td>49.11</td>\n",
              "      <td>2002</td>\n",
              "      <td>1155</td>\n",
              "      <td>131</td>\n",
              "      <td>2.05</td>\n",
              "      <td>0.22</td>\n",
              "      <td>0.0</td>\n",
              "      <td>0.0</td>\n",
              "      <td>12</td>\n",
              "      <td>0.0</td>\n",
              "      <td>1.2</td>\n",
              "      <td>3.9</td>\n",
              "      <td>5.7</td>\n",
              "      <td>0.3</td>\n",
              "      <td>54.0</td>\n",
              "      <td>0.0</td>\n",
              "      <td>0.0</td>\n",
              "      <td>0.0</td>\n",
              "      <td>0</td>\n",
              "      <td>0.0</td>\n",
              "      <td>0.0</td>\n",
              "      <td>0.0</td>\n",
              "      <td>0.0</td>\n",
              "      <td>0.0</td>\n",
              "      <td>0.0</td>\n",
              "      <td>0.0</td>\n",
              "      <td>0.0</td>\n",
              "      <td>0.0</td>\n",
              "      <td>0.0</td>\n",
              "      <td>LessSpread</td>\n",
              "      <td>flat_growth</td>\n",
              "      <td>0</td>\n",
              "    </tr>\n",
              "    <tr>\n",
              "      <th>1</th>\n",
              "      <td>2020-01-22</td>\n",
              "      <td>California</td>\n",
              "      <td>6041</td>\n",
              "      <td>0</td>\n",
              "      <td>0</td>\n",
              "      <td>6041</td>\n",
              "      <td>Marin County</td>\n",
              "      <td>6</td>\n",
              "      <td>15</td>\n",
              "      <td>20</td>\n",
              "      <td>3.42</td>\n",
              "      <td>27.8</td>\n",
              "      <td>0.1</td>\n",
              "      <td>42.3</td>\n",
              "      <td>0.52</td>\n",
              "      <td>2.90</td>\n",
              "      <td>0</td>\n",
              "      <td>259666</td>\n",
              "      <td>2.5</td>\n",
              "      <td>2020-01-22</td>\n",
              "      <td>9.51</td>\n",
              "      <td>28</td>\n",
              "      <td>110217</td>\n",
              "      <td>2.2</td>\n",
              "      <td>15.9</td>\n",
              "      <td>48.83</td>\n",
              "      <td>314</td>\n",
              "      <td>308</td>\n",
              "      <td>218</td>\n",
              "      <td>2.05</td>\n",
              "      <td>0.22</td>\n",
              "      <td>0.0</td>\n",
              "      <td>0.0</td>\n",
              "      <td>73</td>\n",
              "      <td>0.0</td>\n",
              "      <td>1.2</td>\n",
              "      <td>3.9</td>\n",
              "      <td>5.7</td>\n",
              "      <td>0.3</td>\n",
              "      <td>54.0</td>\n",
              "      <td>0.0</td>\n",
              "      <td>0.0</td>\n",
              "      <td>0.0</td>\n",
              "      <td>0</td>\n",
              "      <td>0.0</td>\n",
              "      <td>0.0</td>\n",
              "      <td>0.0</td>\n",
              "      <td>0.0</td>\n",
              "      <td>0.0</td>\n",
              "      <td>0.0</td>\n",
              "      <td>0.0</td>\n",
              "      <td>0.0</td>\n",
              "      <td>0.0</td>\n",
              "      <td>0.0</td>\n",
              "      <td>LessSpread</td>\n",
              "      <td>flat_growth</td>\n",
              "      <td>0</td>\n",
              "    </tr>\n",
              "  </tbody>\n",
              "</table>\n",
              "</div>"
            ],
            "text/plain": [
              "         Date Province_State  FIPS  ...       label  growth_label  label_code\n",
              "0  2020-01-22     California  6001  ...  LessSpread   flat_growth           0\n",
              "1  2020-01-22     California  6041  ...  LessSpread   flat_growth           0\n",
              "\n",
              "[2 rows x 57 columns]"
            ]
          },
          "metadata": {
            "tags": []
          },
          "execution_count": 30
        }
      ]
    },
    {
      "cell_type": "code",
      "metadata": {
        "colab_type": "code",
        "id": "BZzHASxTH1nN",
        "colab": {}
      },
      "source": [
        "CA_inertia_labeled_data = CA_inertia_labeled_data.dropna()"
      ],
      "execution_count": 31,
      "outputs": []
    },
    {
      "cell_type": "code",
      "metadata": {
        "colab_type": "code",
        "id": "2lpLd0sHH1nQ",
        "colab": {
          "base_uri": "https://localhost:8080/",
          "height": 0
        },
        "outputId": "b78a163e-16dd-4117-f259-f5ceef189c5e"
      },
      "source": [
        "CA_inertia_labeled_data[pd.isna(CA_inertia_labeled_data['label'])]"
      ],
      "execution_count": 32,
      "outputs": [
        {
          "output_type": "execute_result",
          "data": {
            "text/html": [
              "<div>\n",
              "<style scoped>\n",
              "    .dataframe tbody tr th:only-of-type {\n",
              "        vertical-align: middle;\n",
              "    }\n",
              "\n",
              "    .dataframe tbody tr th {\n",
              "        vertical-align: top;\n",
              "    }\n",
              "\n",
              "    .dataframe thead th {\n",
              "        text-align: right;\n",
              "    }\n",
              "</style>\n",
              "<table border=\"1\" class=\"dataframe\">\n",
              "  <thead>\n",
              "    <tr style=\"text-align: right;\">\n",
              "      <th></th>\n",
              "      <th>Date</th>\n",
              "      <th>Province_State</th>\n",
              "      <th>FIPS</th>\n",
              "      <th>New cases</th>\n",
              "      <th>mask_rule_active</th>\n",
              "      <th>CTFIPS</th>\n",
              "      <th>CTNAME</th>\n",
              "      <th>STFIPS</th>\n",
              "      <th>Social distancing index</th>\n",
              "      <th>% staying home</th>\n",
              "      <th>Trips/person</th>\n",
              "      <th>% out-of-county trips</th>\n",
              "      <th>% out-of-state trips</th>\n",
              "      <th>Miles/person</th>\n",
              "      <th>Work trips/person</th>\n",
              "      <th>Non-work trips/person</th>\n",
              "      <th>New COVID cases</th>\n",
              "      <th>Population</th>\n",
              "      <th>% change in consumption</th>\n",
              "      <th>date</th>\n",
              "      <th>Transit mode share</th>\n",
              "      <th>% people older than 60</th>\n",
              "      <th>Median income</th>\n",
              "      <th>% African Americans</th>\n",
              "      <th>% Hispanic Americans</th>\n",
              "      <th>% Male</th>\n",
              "      <th>Population density</th>\n",
              "      <th>Employment density</th>\n",
              "      <th># hot spots/1000 people</th>\n",
              "      <th>Hospital beds/1000 people</th>\n",
              "      <th>ICUs/1000 people</th>\n",
              "      <th># contact tracing workers/1000 people</th>\n",
              "      <th># contact tracing workers/1000 people rank</th>\n",
              "      <th>% people older than 60 rank</th>\n",
              "      <th>COVID exposure/1000 people</th>\n",
              "      <th>Unemployment claims/1000 people</th>\n",
              "      <th>Unemployment rate</th>\n",
              "      <th>% working from home</th>\n",
              "      <th>Cumulative inflation rate</th>\n",
              "      <th>% hospital bed utilization</th>\n",
              "      <th>Testing capacity</th>\n",
              "      <th>Tests done/1000 people</th>\n",
              "      <th>% ICU utilization</th>\n",
              "      <th>Ventilator shortage</th>\n",
              "      <th>Confirmed</th>\n",
              "      <th>Deaths</th>\n",
              "      <th>New deaths</th>\n",
              "      <th>#days: decreasing ILI cases</th>\n",
              "      <th>COVID death rate</th>\n",
              "      <th>New cases/1000 people</th>\n",
              "      <th>Active cases/1000 people</th>\n",
              "      <th>#days: decreasing COVID cases</th>\n",
              "      <th>Imported COVID cases</th>\n",
              "      <th>rolling_avg_new_cases</th>\n",
              "      <th>label</th>\n",
              "      <th>growth_label</th>\n",
              "      <th>label_code</th>\n",
              "    </tr>\n",
              "  </thead>\n",
              "  <tbody>\n",
              "  </tbody>\n",
              "</table>\n",
              "</div>"
            ],
            "text/plain": [
              "Empty DataFrame\n",
              "Columns: [Date, Province_State, FIPS, New cases, mask_rule_active, CTFIPS, CTNAME, STFIPS, Social distancing index, % staying home, Trips/person, % out-of-county trips, % out-of-state trips, Miles/person, Work trips/person, Non-work trips/person, New COVID cases, Population, % change in consumption, date, Transit mode share, % people older than 60, Median income, % African Americans, % Hispanic Americans, % Male, Population density, Employment density, # hot spots/1000 people, Hospital beds/1000 people, ICUs/1000 people, # contact tracing workers/1000 people, # contact tracing workers/1000 people rank, % people older than 60 rank, COVID exposure/1000 people, Unemployment claims/1000 people, Unemployment rate, % working from home, Cumulative inflation rate, % hospital bed utilization, Testing capacity, Tests done/1000 people, % ICU utilization, Ventilator shortage, Confirmed, Deaths, New deaths, #days: decreasing ILI cases, COVID death rate, New cases/1000 people, Active cases/1000 people, #days: decreasing COVID cases, Imported COVID cases, rolling_avg_new_cases, label, growth_label, label_code]\n",
              "Index: []"
            ]
          },
          "metadata": {
            "tags": []
          },
          "execution_count": 32
        }
      ]
    },
    {
      "cell_type": "code",
      "metadata": {
        "colab_type": "code",
        "id": "OuJRtQb1H1nT",
        "colab": {
          "base_uri": "https://localhost:8080/",
          "height": 0
        },
        "outputId": "6e0e0163-7a20-4596-91fd-59091fb7c2c2"
      },
      "source": [
        "CA_inertia_labeled_data['label_code'].unique()"
      ],
      "execution_count": 33,
      "outputs": [
        {
          "output_type": "execute_result",
          "data": {
            "text/plain": [
              "array([0, 1, 7, 2, 3, 4, 5, 6], dtype=int8)"
            ]
          },
          "metadata": {
            "tags": []
          },
          "execution_count": 33
        }
      ]
    },
    {
      "cell_type": "code",
      "metadata": {
        "colab_type": "code",
        "id": "OwDPP-ZbH1nX",
        "colab": {
          "base_uri": "https://localhost:8080/",
          "height": 0
        },
        "outputId": "f16ac88b-205b-4a5e-ce1a-3b7b466f0883"
      },
      "source": [
        "CA_inertia_labeled_data['growth_code'] = CA_inertia_labeled_data['growth_label'].astype('category').cat.codes\n",
        "CA_inertia_labeled_data.head()"
      ],
      "execution_count": 34,
      "outputs": [
        {
          "output_type": "execute_result",
          "data": {
            "text/html": [
              "<div>\n",
              "<style scoped>\n",
              "    .dataframe tbody tr th:only-of-type {\n",
              "        vertical-align: middle;\n",
              "    }\n",
              "\n",
              "    .dataframe tbody tr th {\n",
              "        vertical-align: top;\n",
              "    }\n",
              "\n",
              "    .dataframe thead th {\n",
              "        text-align: right;\n",
              "    }\n",
              "</style>\n",
              "<table border=\"1\" class=\"dataframe\">\n",
              "  <thead>\n",
              "    <tr style=\"text-align: right;\">\n",
              "      <th></th>\n",
              "      <th>Date</th>\n",
              "      <th>Province_State</th>\n",
              "      <th>FIPS</th>\n",
              "      <th>New cases</th>\n",
              "      <th>mask_rule_active</th>\n",
              "      <th>CTFIPS</th>\n",
              "      <th>CTNAME</th>\n",
              "      <th>STFIPS</th>\n",
              "      <th>Social distancing index</th>\n",
              "      <th>% staying home</th>\n",
              "      <th>Trips/person</th>\n",
              "      <th>% out-of-county trips</th>\n",
              "      <th>% out-of-state trips</th>\n",
              "      <th>Miles/person</th>\n",
              "      <th>Work trips/person</th>\n",
              "      <th>Non-work trips/person</th>\n",
              "      <th>New COVID cases</th>\n",
              "      <th>Population</th>\n",
              "      <th>% change in consumption</th>\n",
              "      <th>date</th>\n",
              "      <th>Transit mode share</th>\n",
              "      <th>% people older than 60</th>\n",
              "      <th>Median income</th>\n",
              "      <th>% African Americans</th>\n",
              "      <th>% Hispanic Americans</th>\n",
              "      <th>% Male</th>\n",
              "      <th>Population density</th>\n",
              "      <th>Employment density</th>\n",
              "      <th># hot spots/1000 people</th>\n",
              "      <th>Hospital beds/1000 people</th>\n",
              "      <th>ICUs/1000 people</th>\n",
              "      <th># contact tracing workers/1000 people</th>\n",
              "      <th># contact tracing workers/1000 people rank</th>\n",
              "      <th>% people older than 60 rank</th>\n",
              "      <th>COVID exposure/1000 people</th>\n",
              "      <th>Unemployment claims/1000 people</th>\n",
              "      <th>Unemployment rate</th>\n",
              "      <th>% working from home</th>\n",
              "      <th>Cumulative inflation rate</th>\n",
              "      <th>% hospital bed utilization</th>\n",
              "      <th>Testing capacity</th>\n",
              "      <th>Tests done/1000 people</th>\n",
              "      <th>% ICU utilization</th>\n",
              "      <th>Ventilator shortage</th>\n",
              "      <th>Confirmed</th>\n",
              "      <th>Deaths</th>\n",
              "      <th>New deaths</th>\n",
              "      <th>#days: decreasing ILI cases</th>\n",
              "      <th>COVID death rate</th>\n",
              "      <th>New cases/1000 people</th>\n",
              "      <th>Active cases/1000 people</th>\n",
              "      <th>#days: decreasing COVID cases</th>\n",
              "      <th>Imported COVID cases</th>\n",
              "      <th>rolling_avg_new_cases</th>\n",
              "      <th>label</th>\n",
              "      <th>growth_label</th>\n",
              "      <th>label_code</th>\n",
              "      <th>growth_code</th>\n",
              "    </tr>\n",
              "  </thead>\n",
              "  <tbody>\n",
              "    <tr>\n",
              "      <th>0</th>\n",
              "      <td>2020-01-22</td>\n",
              "      <td>California</td>\n",
              "      <td>6001</td>\n",
              "      <td>0</td>\n",
              "      <td>0</td>\n",
              "      <td>6001</td>\n",
              "      <td>Alameda County</td>\n",
              "      <td>6</td>\n",
              "      <td>18</td>\n",
              "      <td>20</td>\n",
              "      <td>3.29</td>\n",
              "      <td>29.4</td>\n",
              "      <td>0.3</td>\n",
              "      <td>35.9</td>\n",
              "      <td>0.55</td>\n",
              "      <td>2.74</td>\n",
              "      <td>0</td>\n",
              "      <td>1666753</td>\n",
              "      <td>-2.9</td>\n",
              "      <td>2020-01-22</td>\n",
              "      <td>15.04</td>\n",
              "      <td>19</td>\n",
              "      <td>92574</td>\n",
              "      <td>10.5</td>\n",
              "      <td>22.5</td>\n",
              "      <td>49.11</td>\n",
              "      <td>2002</td>\n",
              "      <td>1155</td>\n",
              "      <td>131</td>\n",
              "      <td>2.05</td>\n",
              "      <td>0.22</td>\n",
              "      <td>0.0</td>\n",
              "      <td>0.0</td>\n",
              "      <td>12</td>\n",
              "      <td>0.0</td>\n",
              "      <td>1.2</td>\n",
              "      <td>3.9</td>\n",
              "      <td>5.7</td>\n",
              "      <td>0.3</td>\n",
              "      <td>54.0</td>\n",
              "      <td>0.0</td>\n",
              "      <td>0.0</td>\n",
              "      <td>0.0</td>\n",
              "      <td>0</td>\n",
              "      <td>0.0</td>\n",
              "      <td>0.0</td>\n",
              "      <td>0.0</td>\n",
              "      <td>0.0</td>\n",
              "      <td>0.0</td>\n",
              "      <td>0.0</td>\n",
              "      <td>0.0</td>\n",
              "      <td>0.0</td>\n",
              "      <td>0.0</td>\n",
              "      <td>0.0</td>\n",
              "      <td>LessSpread</td>\n",
              "      <td>flat_growth</td>\n",
              "      <td>0</td>\n",
              "      <td>2</td>\n",
              "    </tr>\n",
              "    <tr>\n",
              "      <th>1</th>\n",
              "      <td>2020-01-22</td>\n",
              "      <td>California</td>\n",
              "      <td>6041</td>\n",
              "      <td>0</td>\n",
              "      <td>0</td>\n",
              "      <td>6041</td>\n",
              "      <td>Marin County</td>\n",
              "      <td>6</td>\n",
              "      <td>15</td>\n",
              "      <td>20</td>\n",
              "      <td>3.42</td>\n",
              "      <td>27.8</td>\n",
              "      <td>0.1</td>\n",
              "      <td>42.3</td>\n",
              "      <td>0.52</td>\n",
              "      <td>2.90</td>\n",
              "      <td>0</td>\n",
              "      <td>259666</td>\n",
              "      <td>2.5</td>\n",
              "      <td>2020-01-22</td>\n",
              "      <td>9.51</td>\n",
              "      <td>28</td>\n",
              "      <td>110217</td>\n",
              "      <td>2.2</td>\n",
              "      <td>15.9</td>\n",
              "      <td>48.83</td>\n",
              "      <td>314</td>\n",
              "      <td>308</td>\n",
              "      <td>218</td>\n",
              "      <td>2.05</td>\n",
              "      <td>0.22</td>\n",
              "      <td>0.0</td>\n",
              "      <td>0.0</td>\n",
              "      <td>73</td>\n",
              "      <td>0.0</td>\n",
              "      <td>1.2</td>\n",
              "      <td>3.9</td>\n",
              "      <td>5.7</td>\n",
              "      <td>0.3</td>\n",
              "      <td>54.0</td>\n",
              "      <td>0.0</td>\n",
              "      <td>0.0</td>\n",
              "      <td>0.0</td>\n",
              "      <td>0</td>\n",
              "      <td>0.0</td>\n",
              "      <td>0.0</td>\n",
              "      <td>0.0</td>\n",
              "      <td>0.0</td>\n",
              "      <td>0.0</td>\n",
              "      <td>0.0</td>\n",
              "      <td>0.0</td>\n",
              "      <td>0.0</td>\n",
              "      <td>0.0</td>\n",
              "      <td>0.0</td>\n",
              "      <td>LessSpread</td>\n",
              "      <td>flat_growth</td>\n",
              "      <td>0</td>\n",
              "      <td>2</td>\n",
              "    </tr>\n",
              "    <tr>\n",
              "      <th>2</th>\n",
              "      <td>2020-01-22</td>\n",
              "      <td>California</td>\n",
              "      <td>6039</td>\n",
              "      <td>0</td>\n",
              "      <td>0</td>\n",
              "      <td>6039</td>\n",
              "      <td>Madera County</td>\n",
              "      <td>6</td>\n",
              "      <td>18</td>\n",
              "      <td>17</td>\n",
              "      <td>3.55</td>\n",
              "      <td>29.7</td>\n",
              "      <td>0.1</td>\n",
              "      <td>39.9</td>\n",
              "      <td>0.52</td>\n",
              "      <td>3.03</td>\n",
              "      <td>0</td>\n",
              "      <td>157672</td>\n",
              "      <td>1.5</td>\n",
              "      <td>2020-01-22</td>\n",
              "      <td>0.45</td>\n",
              "      <td>19</td>\n",
              "      <td>52884</td>\n",
              "      <td>3.1</td>\n",
              "      <td>57.3</td>\n",
              "      <td>48.18</td>\n",
              "      <td>72</td>\n",
              "      <td>29</td>\n",
              "      <td>81</td>\n",
              "      <td>2.05</td>\n",
              "      <td>0.22</td>\n",
              "      <td>0.0</td>\n",
              "      <td>0.0</td>\n",
              "      <td>12</td>\n",
              "      <td>0.0</td>\n",
              "      <td>1.2</td>\n",
              "      <td>3.9</td>\n",
              "      <td>5.7</td>\n",
              "      <td>0.3</td>\n",
              "      <td>54.0</td>\n",
              "      <td>0.0</td>\n",
              "      <td>0.0</td>\n",
              "      <td>0.0</td>\n",
              "      <td>0</td>\n",
              "      <td>0.0</td>\n",
              "      <td>0.0</td>\n",
              "      <td>0.0</td>\n",
              "      <td>0.0</td>\n",
              "      <td>0.0</td>\n",
              "      <td>0.0</td>\n",
              "      <td>0.0</td>\n",
              "      <td>0.0</td>\n",
              "      <td>0.0</td>\n",
              "      <td>0.0</td>\n",
              "      <td>LessSpread</td>\n",
              "      <td>flat_growth</td>\n",
              "      <td>0</td>\n",
              "      <td>2</td>\n",
              "    </tr>\n",
              "    <tr>\n",
              "      <th>3</th>\n",
              "      <td>2020-01-22</td>\n",
              "      <td>California</td>\n",
              "      <td>6103</td>\n",
              "      <td>0</td>\n",
              "      <td>0</td>\n",
              "      <td>6103</td>\n",
              "      <td>Tehama County</td>\n",
              "      <td>6</td>\n",
              "      <td>18</td>\n",
              "      <td>19</td>\n",
              "      <td>3.47</td>\n",
              "      <td>30.1</td>\n",
              "      <td>1.9</td>\n",
              "      <td>50.6</td>\n",
              "      <td>0.55</td>\n",
              "      <td>2.93</td>\n",
              "      <td>0</td>\n",
              "      <td>63916</td>\n",
              "      <td>5.1</td>\n",
              "      <td>2020-01-22</td>\n",
              "      <td>0.33</td>\n",
              "      <td>26</td>\n",
              "      <td>42899</td>\n",
              "      <td>0.7</td>\n",
              "      <td>24.7</td>\n",
              "      <td>49.71</td>\n",
              "      <td>21</td>\n",
              "      <td>6</td>\n",
              "      <td>106</td>\n",
              "      <td>2.05</td>\n",
              "      <td>0.22</td>\n",
              "      <td>0.0</td>\n",
              "      <td>0.0</td>\n",
              "      <td>59</td>\n",
              "      <td>0.0</td>\n",
              "      <td>1.2</td>\n",
              "      <td>3.9</td>\n",
              "      <td>5.7</td>\n",
              "      <td>0.3</td>\n",
              "      <td>54.0</td>\n",
              "      <td>0.0</td>\n",
              "      <td>0.0</td>\n",
              "      <td>0.0</td>\n",
              "      <td>0</td>\n",
              "      <td>0.0</td>\n",
              "      <td>0.0</td>\n",
              "      <td>0.0</td>\n",
              "      <td>0.0</td>\n",
              "      <td>0.0</td>\n",
              "      <td>0.0</td>\n",
              "      <td>0.0</td>\n",
              "      <td>0.0</td>\n",
              "      <td>0.0</td>\n",
              "      <td>0.0</td>\n",
              "      <td>LessSpread</td>\n",
              "      <td>flat_growth</td>\n",
              "      <td>0</td>\n",
              "      <td>2</td>\n",
              "    </tr>\n",
              "    <tr>\n",
              "      <th>4</th>\n",
              "      <td>2020-01-22</td>\n",
              "      <td>California</td>\n",
              "      <td>6037</td>\n",
              "      <td>0</td>\n",
              "      <td>0</td>\n",
              "      <td>6037</td>\n",
              "      <td>Los Angeles County</td>\n",
              "      <td>6</td>\n",
              "      <td>18</td>\n",
              "      <td>19</td>\n",
              "      <td>3.34</td>\n",
              "      <td>10.9</td>\n",
              "      <td>0.3</td>\n",
              "      <td>32.5</td>\n",
              "      <td>0.62</td>\n",
              "      <td>2.72</td>\n",
              "      <td>0</td>\n",
              "      <td>10105518</td>\n",
              "      <td>-1.7</td>\n",
              "      <td>2020-01-22</td>\n",
              "      <td>6.04</td>\n",
              "      <td>18</td>\n",
              "      <td>64251</td>\n",
              "      <td>7.9</td>\n",
              "      <td>48.5</td>\n",
              "      <td>49.28</td>\n",
              "      <td>2125</td>\n",
              "      <td>972</td>\n",
              "      <td>140</td>\n",
              "      <td>2.05</td>\n",
              "      <td>0.22</td>\n",
              "      <td>0.0</td>\n",
              "      <td>0.0</td>\n",
              "      <td>9</td>\n",
              "      <td>0.0</td>\n",
              "      <td>1.2</td>\n",
              "      <td>3.9</td>\n",
              "      <td>5.7</td>\n",
              "      <td>0.3</td>\n",
              "      <td>54.0</td>\n",
              "      <td>0.0</td>\n",
              "      <td>0.0</td>\n",
              "      <td>0.0</td>\n",
              "      <td>0</td>\n",
              "      <td>0.0</td>\n",
              "      <td>0.0</td>\n",
              "      <td>0.0</td>\n",
              "      <td>0.0</td>\n",
              "      <td>0.0</td>\n",
              "      <td>0.0</td>\n",
              "      <td>0.0</td>\n",
              "      <td>0.0</td>\n",
              "      <td>0.0</td>\n",
              "      <td>0.0</td>\n",
              "      <td>LessSpread</td>\n",
              "      <td>flat_growth</td>\n",
              "      <td>0</td>\n",
              "      <td>2</td>\n",
              "    </tr>\n",
              "  </tbody>\n",
              "</table>\n",
              "</div>"
            ],
            "text/plain": [
              "         Date Province_State  FIPS  ...  growth_label  label_code  growth_code\n",
              "0  2020-01-22     California  6001  ...   flat_growth           0            2\n",
              "1  2020-01-22     California  6041  ...   flat_growth           0            2\n",
              "2  2020-01-22     California  6039  ...   flat_growth           0            2\n",
              "3  2020-01-22     California  6103  ...   flat_growth           0            2\n",
              "4  2020-01-22     California  6037  ...   flat_growth           0            2\n",
              "\n",
              "[5 rows x 58 columns]"
            ]
          },
          "metadata": {
            "tags": []
          },
          "execution_count": 34
        }
      ]
    },
    {
      "cell_type": "code",
      "metadata": {
        "colab_type": "code",
        "id": "Vr7663BUH1na",
        "colab": {
          "base_uri": "https://localhost:8080/",
          "height": 0
        },
        "outputId": "ab6475ce-f61f-43b0-a40a-8181038adf35"
      },
      "source": [
        "CA_inertia_labeled_data['growth_code'].unique()"
      ],
      "execution_count": 35,
      "outputs": [
        {
          "output_type": "execute_result",
          "data": {
            "text/plain": [
              "array([2, 3, 4, 0, 1], dtype=int8)"
            ]
          },
          "metadata": {
            "tags": []
          },
          "execution_count": 35
        }
      ]
    },
    {
      "cell_type": "code",
      "metadata": {
        "colab_type": "code",
        "id": "5Lakwg_MH1nc",
        "colab": {
          "base_uri": "https://localhost:8080/",
          "height": 0
        },
        "outputId": "baaeabd2-0ec8-40e1-c03d-55f28a49b5c2"
      },
      "source": [
        "CA_inertia_labeled_data.dtypes"
      ],
      "execution_count": 36,
      "outputs": [
        {
          "output_type": "execute_result",
          "data": {
            "text/plain": [
              "Date                                           object\n",
              "Province_State                                 object\n",
              "FIPS                                            int64\n",
              "New cases                                       int64\n",
              "mask_rule_active                                int64\n",
              "CTFIPS                                          int64\n",
              "CTNAME                                         object\n",
              "STFIPS                                          int64\n",
              "Social distancing index                         int64\n",
              "% staying home                                  int64\n",
              "Trips/person                                  float64\n",
              "% out-of-county trips                         float64\n",
              "% out-of-state trips                          float64\n",
              "Miles/person                                  float64\n",
              "Work trips/person                             float64\n",
              "Non-work trips/person                         float64\n",
              "New COVID cases                                 int64\n",
              "Population                                      int64\n",
              "% change in consumption                       float64\n",
              "date                                           object\n",
              "Transit mode share                            float64\n",
              "% people older than 60                          int64\n",
              "Median income                                   int64\n",
              "% African Americans                           float64\n",
              "% Hispanic Americans                          float64\n",
              "% Male                                        float64\n",
              "Population density                              int64\n",
              "Employment density                              int64\n",
              "# hot spots/1000 people                         int64\n",
              "Hospital beds/1000 people                     float64\n",
              "ICUs/1000 people                              float64\n",
              "# contact tracing workers/1000 people         float64\n",
              "# contact tracing workers/1000 people rank    float64\n",
              "% people older than 60 rank                     int64\n",
              "COVID exposure/1000 people                    float64\n",
              "Unemployment claims/1000 people               float64\n",
              "Unemployment rate                             float64\n",
              "% working from home                           float64\n",
              "Cumulative inflation rate                     float64\n",
              "% hospital bed utilization                    float64\n",
              "Testing capacity                              float64\n",
              "Tests done/1000 people                        float64\n",
              "% ICU utilization                             float64\n",
              "Ventilator shortage                             int64\n",
              "Confirmed                                     float64\n",
              "Deaths                                        float64\n",
              "New deaths                                    float64\n",
              "#days: decreasing ILI cases                   float64\n",
              "COVID death rate                              float64\n",
              "New cases/1000 people                         float64\n",
              "Active cases/1000 people                      float64\n",
              "#days: decreasing COVID cases                 float64\n",
              "Imported COVID cases                          float64\n",
              "rolling_avg_new_cases                         float64\n",
              "label                                          object\n",
              "growth_label                                   object\n",
              "label_code                                       int8\n",
              "growth_code                                      int8\n",
              "dtype: object"
            ]
          },
          "metadata": {
            "tags": []
          },
          "execution_count": 36
        }
      ]
    },
    {
      "cell_type": "code",
      "metadata": {
        "id": "_ZXlJGB9I1jI",
        "colab_type": "code",
        "colab": {
          "base_uri": "https://localhost:8080/",
          "height": 0
        },
        "outputId": "4cc34dfc-6948-4229-c1f7-65f8bc3ce66c"
      },
      "source": [
        "CA_inertia_labeled_data.columns"
      ],
      "execution_count": 37,
      "outputs": [
        {
          "output_type": "execute_result",
          "data": {
            "text/plain": [
              "Index(['Date', 'Province_State', 'FIPS', 'New cases', 'mask_rule_active',\n",
              "       'CTFIPS', 'CTNAME', 'STFIPS', 'Social distancing index',\n",
              "       '% staying home', 'Trips/person', '% out-of-county trips',\n",
              "       '% out-of-state trips', 'Miles/person', 'Work trips/person',\n",
              "       'Non-work trips/person', 'New COVID cases', 'Population',\n",
              "       '% change in consumption', 'date', 'Transit mode share',\n",
              "       '% people older than 60', 'Median income', '% African Americans',\n",
              "       '% Hispanic Americans', '% Male', 'Population density',\n",
              "       'Employment density', '# hot spots/1000 people',\n",
              "       'Hospital beds/1000 people', 'ICUs/1000 people',\n",
              "       '# contact tracing workers/1000 people',\n",
              "       '# contact tracing workers/1000 people rank',\n",
              "       '% people older than 60 rank', 'COVID exposure/1000 people',\n",
              "       'Unemployment claims/1000 people', 'Unemployment rate',\n",
              "       '% working from home', 'Cumulative inflation rate',\n",
              "       '% hospital bed utilization', 'Testing capacity',\n",
              "       'Tests done/1000 people', '% ICU utilization', 'Ventilator shortage',\n",
              "       'Confirmed', 'Deaths', 'New deaths', '#days: decreasing ILI cases',\n",
              "       'COVID death rate', 'New cases/1000 people', 'Active cases/1000 people',\n",
              "       '#days: decreasing COVID cases', 'Imported COVID cases',\n",
              "       'rolling_avg_new_cases', 'label', 'growth_label', 'label_code',\n",
              "       'growth_code'],\n",
              "      dtype='object')"
            ]
          },
          "metadata": {
            "tags": []
          },
          "execution_count": 37
        }
      ]
    },
    {
      "cell_type": "code",
      "metadata": {
        "colab_type": "code",
        "id": "6Nx3kdz0H1nf",
        "colab": {}
      },
      "source": [
        "feature_labels = ['mask_rule_active','Social distancing index','% staying home', 'Trips/person', '% out-of-county trips',\n",
        "       '% out-of-state trips', 'Miles/person', 'Work trips/person','Non-work trips/person','% change in consumption',\n",
        "       'Transit mode share','% people older than 60', 'Median income', '% African Americans', '% Hispanic Americans',\n",
        "       '% Male', 'Population density','Employment density', '# hot spots/1000 people','Hospital beds/1000 people', 'ICUs/1000 people',\n",
        "       '# contact tracing workers/1000 people rank','% people older than 60 rank', 'COVID exposure/1000 people',\n",
        "       'Unemployment claims/1000 people', 'Unemployment rate','% working from home', 'Cumulative inflation rate',\n",
        "       '% hospital bed utilization', 'Testing capacity','Tests done/1000 people', '% ICU utilization', 'Ventilator shortage'\n",
        "       ]\n",
        "\n",
        "target_column = ['label_code']\n",
        "\n",
        "X = CA_inertia_labeled_data[feature_labels]\n",
        "y = CA_inertia_labeled_data[target_column]\n",
        "\n",
        "X_train, X_test, y_train, y_test = train_test_split(X, y, test_size=0.4, random_state=0)\n"
      ],
      "execution_count": 38,
      "outputs": []
    },
    {
      "cell_type": "markdown",
      "metadata": {
        "colab_type": "text",
        "id": "_ejgzSENH1nh"
      },
      "source": [
        "## Train Random Forest classifier"
      ]
    },
    {
      "cell_type": "code",
      "metadata": {
        "colab_type": "code",
        "id": "alHppjAzH1nh",
        "colab": {
          "base_uri": "https://localhost:8080/",
          "height": 625
        },
        "outputId": "7c12e11a-a4ec-494d-c836-0e03e9b40256"
      },
      "source": [
        "# Create a random forest classifier\n",
        "clf = RandomForestClassifier(n_estimators=10000, random_state=0, n_jobs=-1)\n",
        "\n",
        "# Train the classifier\n",
        "clf.fit(X_train, y_train)\n",
        "\n",
        "# Print the name and gini importance of each feature\n",
        "for feature in zip(feature_labels, clf.feature_importances_):\n",
        "    print(feature)"
      ],
      "execution_count": 39,
      "outputs": [
        {
          "output_type": "stream",
          "text": [
            "/usr/local/lib/python3.6/dist-packages/ipykernel_launcher.py:5: DataConversionWarning: A column-vector y was passed when a 1d array was expected. Please change the shape of y to (n_samples,), for example using ravel().\n",
            "  \"\"\"\n"
          ],
          "name": "stderr"
        },
        {
          "output_type": "stream",
          "text": [
            "('mask_rule_active', 0.004816666537664439)\n",
            "('Social distancing index', 0.019852753081058543)\n",
            "('% staying home', 0.018758588717157694)\n",
            "('Trips/person', 0.02035465261146869)\n",
            "('% out-of-county trips', 0.04269254445155563)\n",
            "('% out-of-state trips', 0.03076218012081099)\n",
            "('Miles/person', 0.029621030711936662)\n",
            "('Work trips/person', 0.02175883499554746)\n",
            "('Non-work trips/person', 0.02070080421822134)\n",
            "('% change in consumption', 0.021179553919735365)\n",
            "('Transit mode share', 0.04461027197002454)\n",
            "('% people older than 60', 0.038133214232357555)\n",
            "('Median income', 0.045573647187780855)\n",
            "('% African Americans', 0.034127049867349775)\n",
            "('% Hispanic Americans', 0.05042938926089247)\n",
            "('% Male', 0.05370803883745204)\n",
            "('Population density', 0.05094197910022197)\n",
            "('Employment density', 0.05039955157867229)\n",
            "('# hot spots/1000 people', 0.03729453508117096)\n",
            "('Hospital beds/1000 people', 0.0)\n",
            "('ICUs/1000 people', 0.0)\n",
            "('# contact tracing workers/1000 people rank', 0.0)\n",
            "('% people older than 60 rank', 0.03822600625966039)\n",
            "('COVID exposure/1000 people', 0.039652607526233535)\n",
            "('Unemployment claims/1000 people', 0.0385425488211284)\n",
            "('Unemployment rate', 0.02804251450351605)\n",
            "('% working from home', 0.02825590524750013)\n",
            "('Cumulative inflation rate', 0.014557854011659032)\n",
            "('% hospital bed utilization', 0.030135917596165192)\n",
            "('Testing capacity', 0.03389963571565496)\n",
            "('Tests done/1000 people', 0.04421856005574581)\n",
            "('% ICU utilization', 0.0330631122517547)\n",
            "('Ventilator shortage', 0.03569005152990256)\n"
          ],
          "name": "stdout"
        }
      ]
    },
    {
      "cell_type": "code",
      "metadata": {
        "colab_type": "code",
        "id": "FaL8OKY6H1nj",
        "colab": {
          "base_uri": "https://localhost:8080/",
          "height": 642
        },
        "outputId": "e9afa032-3772-4aad-b423-6a02d22cddaf"
      },
      "source": [
        "\n",
        "#  Supported criteria are “gini” for the Gini impurity and “entropy” for the information gain. \n",
        "clf = RandomForestClassifier(n_estimators=10000, random_state=0,criterion='entropy', n_jobs=-1)\n",
        "\n",
        "# Train the classifier\n",
        "clf.fit(X_train, y_train)\n",
        "print(X_train.shape)\n",
        "# Print the name and gini importance of each feature\n",
        "for feature in zip(feature_labels, clf.feature_importances_):\n",
        "    print(feature)"
      ],
      "execution_count": 51,
      "outputs": [
        {
          "output_type": "stream",
          "text": [
            "/usr/local/lib/python3.6/dist-packages/ipykernel_launcher.py:6: DataConversionWarning: A column-vector y was passed when a 1d array was expected. Please change the shape of y to (n_samples,), for example using ravel().\n",
            "  \n"
          ],
          "name": "stderr"
        },
        {
          "output_type": "stream",
          "text": [
            "('mask_rule_active', 0.005834463193104688)\n",
            "('Social distancing index', 0.01293049784237391)\n",
            "('% staying home', 0.012077850263960015)\n",
            "('Trips/person', 0.012638264034873824)\n",
            "('% out-of-county trips', 0.036860068988882076)\n",
            "('% out-of-state trips', 0.02795533136023785)\n",
            "('Miles/person', 0.022348234366075866)\n",
            "('Work trips/person', 0.013443455645111412)\n",
            "('Non-work trips/person', 0.013750385015495786)\n",
            "('% change in consumption', 0.014188121025323928)\n",
            "('Transit mode share', 0.05078650401393579)\n",
            "('% people older than 60', 0.037943271014938475)\n",
            "('Median income', 0.04680256811281943)\n",
            "('% African Americans', 0.03445824177132183)\n",
            "('% Hispanic Americans', 0.04515961186187029)\n",
            "('% Male', 0.052633950955536454)\n",
            "('Population density', 0.054183222992225374)\n",
            "('Employment density', 0.053596704124614286)\n",
            "('# hot spots/1000 people', 0.0352137526182921)\n",
            "('Hospital beds/1000 people', 0.0)\n",
            "('ICUs/1000 people', 0.0)\n",
            "('# contact tracing workers/1000 people rank', 0.0)\n",
            "('% people older than 60 rank', 0.03782149420154773)\n",
            "('COVID exposure/1000 people', 0.049244035879408954)\n",
            "('Unemployment claims/1000 people', 0.03962982443574321)\n",
            "('Unemployment rate', 0.0353242165382959)\n",
            "('% working from home', 0.03152571988558082)\n",
            "('Cumulative inflation rate', 0.01968493073281592)\n",
            "('% hospital bed utilization', 0.034212262860258184)\n",
            "('Testing capacity', 0.03809407808300234)\n",
            "('Tests done/1000 people', 0.052966751916711935)\n",
            "('% ICU utilization', 0.03725148630262758)\n",
            "('Ventilator shortage', 0.041440699963014145)\n",
            "33\n"
          ],
          "name": "stdout"
        }
      ]
    },
    {
      "cell_type": "code",
      "metadata": {
        "id": "LGl3OepO8Ip-",
        "colab_type": "code",
        "colab": {
          "base_uri": "https://localhost:8080/",
          "height": 34
        },
        "outputId": "5204b36f-4603-432f-d9ce-618680cf0ec8"
      },
      "source": [
        "X_train.shape"
      ],
      "execution_count": 54,
      "outputs": [
        {
          "output_type": "execute_result",
          "data": {
            "text/plain": [
              "(8597, 33)"
            ]
          },
          "metadata": {
            "tags": []
          },
          "execution_count": 54
        }
      ]
    },
    {
      "cell_type": "markdown",
      "metadata": {
        "colab_type": "text",
        "id": "JmJo8b0WH1nm"
      },
      "source": [
        "## PCA Computation"
      ]
    },
    {
      "cell_type": "code",
      "metadata": {
        "colab_type": "code",
        "id": "QFD0tG7hH1nn",
        "colab": {
          "base_uri": "https://localhost:8080/",
          "height": 34
        },
        "outputId": "b052f7b1-9dc5-447a-a3f4-5a51f045c20a"
      },
      "source": [
        "print(len(feature_labels))"
      ],
      "execution_count": 41,
      "outputs": [
        {
          "output_type": "stream",
          "text": [
            "33\n"
          ],
          "name": "stdout"
        }
      ]
    },
    {
      "cell_type": "code",
      "metadata": {
        "colab_type": "code",
        "id": "4Ih_wCujH1nq",
        "colab": {
          "base_uri": "https://localhost:8080/",
          "height": 252
        },
        "outputId": "2161b6e0-fc62-4185-d125-5471fcfc575f"
      },
      "source": [
        "# split into training and testing datasets\n",
        "\n",
        "\n",
        "X = CA_inertia_labeled_data[feature_labels].values\n",
        "y = CA_inertia_labeled_data[target_column].values\n",
        "\n",
        "X_train, X_test, y_train, y_test = train_test_split(X, y, test_size=0.3,stratify=y, random_state=0)\n",
        "print(X_train)\n",
        "print(y_train)"
      ],
      "execution_count": 42,
      "outputs": [
        {
          "output_type": "stream",
          "text": [
            "[[  0.    27.    19.   ...   0.     0.     0.  ]\n",
            " [  0.    76.    54.   ...  13.3   16.89 659.  ]\n",
            " [  0.    26.    21.   ...   0.     0.     0.  ]\n",
            " ...\n",
            " [  1.    42.    30.   ... 136.68  23.17 713.  ]\n",
            " [  0.    17.    21.   ...   0.     0.     0.  ]\n",
            " [  1.    46.    32.   ... 158.93  24.17 687.  ]]\n",
            "[[0]\n",
            " [0]\n",
            " [0]\n",
            " ...\n",
            " [0]\n",
            " [0]\n",
            " [0]]\n"
          ],
          "name": "stdout"
        }
      ]
    },
    {
      "cell_type": "code",
      "metadata": {
        "colab_type": "code",
        "id": "IWrdCBzUH1ns",
        "colab": {}
      },
      "source": [
        "# standardize the features\n",
        "sc = ss()\n",
        "X_train_std = sc.fit_transform(X_train)\n",
        "X_test_std = sc.transform(X_test)"
      ],
      "execution_count": 43,
      "outputs": []
    },
    {
      "cell_type": "code",
      "metadata": {
        "colab_type": "code",
        "id": "h6N0mNWXH1nu",
        "colab": {}
      },
      "source": [
        "from sklearn.decomposition import PCA\n",
        "pca = PCA(n_components=2)\n",
        "principalComponents = pca.fit_transform(X)\n",
        "principalDf = pd.DataFrame(data = principalComponents\n",
        "             , columns = ['principal component 1', 'principal component 2'])"
      ],
      "execution_count": 44,
      "outputs": []
    },
    {
      "cell_type": "code",
      "metadata": {
        "colab_type": "code",
        "id": "jVL_a5G-H1nv",
        "colab": {
          "base_uri": "https://localhost:8080/",
          "height": 402
        },
        "outputId": "f05b73f6-8505-4771-d286-f3a07a73c8bc"
      },
      "source": [
        "principalDf"
      ],
      "execution_count": 45,
      "outputs": [
        {
          "output_type": "execute_result",
          "data": {
            "text/html": [
              "<div>\n",
              "<style scoped>\n",
              "    .dataframe tbody tr th:only-of-type {\n",
              "        vertical-align: middle;\n",
              "    }\n",
              "\n",
              "    .dataframe tbody tr th {\n",
              "        vertical-align: top;\n",
              "    }\n",
              "\n",
              "    .dataframe thead th {\n",
              "        text-align: right;\n",
              "    }\n",
              "</style>\n",
              "<table border=\"1\" class=\"dataframe\">\n",
              "  <thead>\n",
              "    <tr style=\"text-align: right;\">\n",
              "      <th></th>\n",
              "      <th>principal component 1</th>\n",
              "      <th>principal component 2</th>\n",
              "    </tr>\n",
              "  </thead>\n",
              "  <tbody>\n",
              "    <tr>\n",
              "      <th>0</th>\n",
              "      <td>28227.531076</td>\n",
              "      <td>1059.775993</td>\n",
              "    </tr>\n",
              "    <tr>\n",
              "      <th>1</th>\n",
              "      <td>45810.582949</td>\n",
              "      <td>-1315.263783</td>\n",
              "    </tr>\n",
              "    <tr>\n",
              "      <th>2</th>\n",
              "      <td>-11509.661091</td>\n",
              "      <td>-53.495323</td>\n",
              "    </tr>\n",
              "    <tr>\n",
              "      <th>3</th>\n",
              "      <td>-21492.257250</td>\n",
              "      <td>172.009591</td>\n",
              "    </tr>\n",
              "    <tr>\n",
              "      <th>4</th>\n",
              "      <td>-84.004179</td>\n",
              "      <td>1862.588838</td>\n",
              "    </tr>\n",
              "    <tr>\n",
              "      <th>...</th>\n",
              "      <td>...</td>\n",
              "      <td>...</td>\n",
              "    </tr>\n",
              "    <tr>\n",
              "      <th>12277</th>\n",
              "      <td>-443.012827</td>\n",
              "      <td>-116.837497</td>\n",
              "    </tr>\n",
              "    <tr>\n",
              "      <th>12278</th>\n",
              "      <td>-11125.661486</td>\n",
              "      <td>-132.188116</td>\n",
              "    </tr>\n",
              "    <tr>\n",
              "      <th>12279</th>\n",
              "      <td>19956.236012</td>\n",
              "      <td>-750.979615</td>\n",
              "    </tr>\n",
              "    <tr>\n",
              "      <th>12280</th>\n",
              "      <td>20350.318313</td>\n",
              "      <td>-824.602067</td>\n",
              "    </tr>\n",
              "    <tr>\n",
              "      <th>12281</th>\n",
              "      <td>-11768.502756</td>\n",
              "      <td>-9.200767</td>\n",
              "    </tr>\n",
              "  </tbody>\n",
              "</table>\n",
              "<p>12282 rows × 2 columns</p>\n",
              "</div>"
            ],
            "text/plain": [
              "       principal component 1  principal component 2\n",
              "0               28227.531076            1059.775993\n",
              "1               45810.582949           -1315.263783\n",
              "2              -11509.661091             -53.495323\n",
              "3              -21492.257250             172.009591\n",
              "4                 -84.004179            1862.588838\n",
              "...                      ...                    ...\n",
              "12277            -443.012827            -116.837497\n",
              "12278          -11125.661486            -132.188116\n",
              "12279           19956.236012            -750.979615\n",
              "12280           20350.318313            -824.602067\n",
              "12281          -11768.502756              -9.200767\n",
              "\n",
              "[12282 rows x 2 columns]"
            ]
          },
          "metadata": {
            "tags": []
          },
          "execution_count": 45
        }
      ]
    },
    {
      "cell_type": "code",
      "metadata": {
        "colab_type": "code",
        "id": "Vc2YUxD0H1nx",
        "colab": {
          "base_uri": "https://localhost:8080/",
          "height": 402
        },
        "outputId": "7a349743-f266-4263-fff7-cff852d1b563"
      },
      "source": [
        "finalDf = pd.concat([principalDf, CA_inertia_labeled_data[target_column]],axis=1 )\n",
        "finalDf"
      ],
      "execution_count": 46,
      "outputs": [
        {
          "output_type": "execute_result",
          "data": {
            "text/html": [
              "<div>\n",
              "<style scoped>\n",
              "    .dataframe tbody tr th:only-of-type {\n",
              "        vertical-align: middle;\n",
              "    }\n",
              "\n",
              "    .dataframe tbody tr th {\n",
              "        vertical-align: top;\n",
              "    }\n",
              "\n",
              "    .dataframe thead th {\n",
              "        text-align: right;\n",
              "    }\n",
              "</style>\n",
              "<table border=\"1\" class=\"dataframe\">\n",
              "  <thead>\n",
              "    <tr style=\"text-align: right;\">\n",
              "      <th></th>\n",
              "      <th>principal component 1</th>\n",
              "      <th>principal component 2</th>\n",
              "      <th>label_code</th>\n",
              "    </tr>\n",
              "  </thead>\n",
              "  <tbody>\n",
              "    <tr>\n",
              "      <th>0</th>\n",
              "      <td>28227.531076</td>\n",
              "      <td>1059.775993</td>\n",
              "      <td>0.0</td>\n",
              "    </tr>\n",
              "    <tr>\n",
              "      <th>1</th>\n",
              "      <td>45810.582949</td>\n",
              "      <td>-1315.263783</td>\n",
              "      <td>0.0</td>\n",
              "    </tr>\n",
              "    <tr>\n",
              "      <th>2</th>\n",
              "      <td>-11509.661091</td>\n",
              "      <td>-53.495323</td>\n",
              "      <td>0.0</td>\n",
              "    </tr>\n",
              "    <tr>\n",
              "      <th>3</th>\n",
              "      <td>-21492.257250</td>\n",
              "      <td>172.009591</td>\n",
              "      <td>0.0</td>\n",
              "    </tr>\n",
              "    <tr>\n",
              "      <th>4</th>\n",
              "      <td>-84.004179</td>\n",
              "      <td>1862.588838</td>\n",
              "      <td>0.0</td>\n",
              "    </tr>\n",
              "    <tr>\n",
              "      <th>...</th>\n",
              "      <td>...</td>\n",
              "      <td>...</td>\n",
              "      <td>...</td>\n",
              "    </tr>\n",
              "    <tr>\n",
              "      <th>12291</th>\n",
              "      <td>NaN</td>\n",
              "      <td>NaN</td>\n",
              "      <td>0.0</td>\n",
              "    </tr>\n",
              "    <tr>\n",
              "      <th>12292</th>\n",
              "      <td>NaN</td>\n",
              "      <td>NaN</td>\n",
              "      <td>0.0</td>\n",
              "    </tr>\n",
              "    <tr>\n",
              "      <th>12293</th>\n",
              "      <td>NaN</td>\n",
              "      <td>NaN</td>\n",
              "      <td>0.0</td>\n",
              "    </tr>\n",
              "    <tr>\n",
              "      <th>12294</th>\n",
              "      <td>NaN</td>\n",
              "      <td>NaN</td>\n",
              "      <td>0.0</td>\n",
              "    </tr>\n",
              "    <tr>\n",
              "      <th>12295</th>\n",
              "      <td>NaN</td>\n",
              "      <td>NaN</td>\n",
              "      <td>0.0</td>\n",
              "    </tr>\n",
              "  </tbody>\n",
              "</table>\n",
              "<p>12296 rows × 3 columns</p>\n",
              "</div>"
            ],
            "text/plain": [
              "       principal component 1  principal component 2  label_code\n",
              "0               28227.531076            1059.775993         0.0\n",
              "1               45810.582949           -1315.263783         0.0\n",
              "2              -11509.661091             -53.495323         0.0\n",
              "3              -21492.257250             172.009591         0.0\n",
              "4                 -84.004179            1862.588838         0.0\n",
              "...                      ...                    ...         ...\n",
              "12291                    NaN                    NaN         0.0\n",
              "12292                    NaN                    NaN         0.0\n",
              "12293                    NaN                    NaN         0.0\n",
              "12294                    NaN                    NaN         0.0\n",
              "12295                    NaN                    NaN         0.0\n",
              "\n",
              "[12296 rows x 3 columns]"
            ]
          },
          "metadata": {
            "tags": []
          },
          "execution_count": 46
        }
      ]
    },
    {
      "cell_type": "code",
      "metadata": {
        "colab_type": "code",
        "id": "5bRiPDyjH1n0",
        "colab": {
          "base_uri": "https://localhost:8080/",
          "height": 574
        },
        "outputId": "6e8ea7d3-aee7-4b8e-f4b7-65aafb52b54a"
      },
      "source": [
        "fig = plt.figure(figsize = (8,8))\n",
        "ax = fig.add_subplot(1,1,1) \n",
        "ax.set_xlabel('Principal Component 1', fontsize = 15)\n",
        "ax.set_ylabel('Principal Component 2', fontsize = 15)\n",
        "ax.set_title('2 component PCA', fontsize = 20)\n",
        "targets = ['LowSpread', 'Spread', 'SuperSpread']\n",
        "targets2 = np.unique(y_train)\n",
        "colors = ['r', 'g', 'b']\n",
        "for target, color in zip(targets2,colors):\n",
        "    print(target)\n",
        "    indicesToKeep = finalDf['label_code'] == target\n",
        "    ax.scatter(finalDf.loc[indicesToKeep, 'principal component 1']\n",
        "               , finalDf.loc[indicesToKeep, 'principal component 2']\n",
        "               , c = color\n",
        "               , s = 50)\n",
        "ax.legend(targets)\n",
        "ax.grid()"
      ],
      "execution_count": 47,
      "outputs": [
        {
          "output_type": "stream",
          "text": [
            "0\n",
            "1\n",
            "2\n"
          ],
          "name": "stdout"
        },
        {
          "output_type": "display_data",
          "data": {
            "image/png": "[encoded data removed]",
            "text/plain": [
              "<Figure size 576x576 with 1 Axes>"
            ]
          },
          "metadata": {
            "tags": [],
            "needs_background": "light"
          }
        }
      ]
    },
    {
      "cell_type": "code",
      "metadata": {
        "colab_type": "code",
        "id": "QEFfsLFiH1n1",
        "colab": {}
      },
      "source": [
        "#obtain the eigenpairs of the Wine covariance matrix:\n",
        "#data_cov = np.dot(np.transpose(data.values),data.values)\n",
        "#data_cov\n",
        "X_train_cov = np.cov(X_train_std.T)\n",
        "w, v = np.linalg.eig(X_train_cov)"
      ],
      "execution_count": 48,
      "outputs": []
    },
    {
      "cell_type": "code",
      "metadata": {
        "colab_type": "code",
        "id": "1zhis-3HH1n3",
        "colab": {
          "base_uri": "https://localhost:8080/",
          "height": 319
        },
        "outputId": "9cd7e57a-104f-4dbe-9458-604479b3473b"
      },
      "source": [
        "#The percent of variability contained within each component\n",
        "w_percent = (w/np.sum(w))*100                 \n",
        "print(w, '-> eigenvalues')\n",
        "print(w_percent, ' -> percent of variability explained')"
      ],
      "execution_count": 49,
      "outputs": [
        {
          "output_type": "stream",
          "text": [
            "[6.78176255e+00 5.81147821e+00 4.16384432e+00 3.04806392e+00\n",
            " 1.61826953e+00 1.53809764e+00 1.16678825e+00 1.03959136e+00\n",
            " 7.01948622e-01 6.27560291e-01 5.77938323e-01 5.09886864e-01\n",
            " 4.47042622e-01 4.15067882e-01 3.45739855e-01 2.85653193e-01\n",
            " 1.96523613e-01 1.85829164e-01 1.29835576e-01 1.06867368e-01\n",
            " 8.34215634e-02 7.09720536e-02 5.43499428e-02 3.28227437e-02\n",
            " 2.40888600e-02 1.70102373e-02 3.68163929e-03 8.70515511e-03\n",
            " 1.05842525e-02 6.43972019e-05 0.00000000e+00 0.00000000e+00\n",
            " 0.00000000e+00] -> eigenvalues\n",
            "[2.26032456e+01 1.93693407e+01 1.38778666e+01 1.01590312e+01\n",
            " 5.39360430e+00 5.12639577e+00 3.88884177e+00 3.46490145e+00\n",
            " 2.33955657e+00 2.09162431e+00 1.92623699e+00 1.69942518e+00\n",
            " 1.48996874e+00 1.38339867e+00 1.15233213e+00 9.52066553e-01\n",
            " 6.55002512e-01 6.19358496e-01 4.32734912e-01 3.56183124e-01\n",
            " 2.78039533e-01 2.36545994e-01 1.81145403e-01 1.09396419e-01\n",
            " 8.02868599e-02 5.66941956e-02 1.22707035e-02 2.90138084e-02\n",
            " 3.52767379e-02 2.14632371e-04 0.00000000e+00 0.00000000e+00\n",
            " 0.00000000e+00]  -> percent of variability explained\n"
          ],
          "name": "stdout"
        }
      ]
    },
    {
      "cell_type": "code",
      "metadata": {
        "colab_type": "code",
        "id": "PNM0ssU3H1n5",
        "colab": {
          "base_uri": "https://localhost:8080/",
          "height": 295
        },
        "outputId": "cb756a1f-9423-4086-c6cb-7600139bb940"
      },
      "source": [
        "# calculate cumulative sum of explained variances\n",
        "tot = sum(w)\n",
        "var_exp = [(i / tot) for i in sorted(w, reverse=True)]\n",
        "cum_var_exp = np.cumsum(var_exp)\n",
        "\n",
        "# plot explained variances\n",
        "plt.title(\"Component-wise and Cumulative Explained Variance\")\n",
        "plt.bar(range(0,33), var_exp, alpha=0.5,\n",
        "        align='center', label='individual explained variance')\n",
        "plt.step(range(0,33), cum_var_exp, where='mid',\n",
        "         label='Percentage of variability explained')\n",
        "plt.ylabel('Explained variance ratio')\n",
        "plt.xlabel('Principal component index')\n",
        "plt.legend(loc='best')\n",
        "plt.show()"
      ],
      "execution_count": 55,
      "outputs": [
        {
          "output_type": "display_data",
          "data": {
            "image/png": "[encoded data removed]",
            "text/plain": [
              "<Figure size 432x288 with 1 Axes>"
            ]
          },
          "metadata": {
            "tags": [],
            "needs_background": "light"
          }
        }
      ]
    },
    {
      "cell_type": "code",
      "metadata": {
        "colab_type": "code",
        "id": "wQh4CAgfH1n7",
        "colab": {
          "base_uri": "https://localhost:8080/",
          "height": 588
        },
        "outputId": "a374c4f9-a17b-4d45-8a3d-7263685ce45b"
      },
      "source": [
        "# Make a list of (eigenvalue, eigenvector) tuples\n",
        "eigen_pairs = [(np.abs(w[i]), v[:, i]) for i in range(len(w))]\n",
        "\n",
        "# Sort the (eigenvalue, eigenvector) tuples from high to low\n",
        "eigen_pairs.sort(key=lambda k: k[0], reverse=True)\n",
        "w2 = np.hstack((eigen_pairs[0][1][:, np.newaxis], eigen_pairs[1][1][:, np.newaxis]))\n",
        "print('Matrix W2:\\n', w2)"
      ],
      "execution_count": 56,
      "outputs": [
        {
          "output_type": "stream",
          "text": [
            "Matrix W2:\n",
            " [[ 0.1940274  -0.25832046]\n",
            " [ 0.26011632  0.26166054]\n",
            " [ 0.25422975  0.25760311]\n",
            " [-0.24124271 -0.24238762]\n",
            " [ 0.02797483 -0.06938934]\n",
            " [ 0.03055397 -0.02468673]\n",
            " [-0.0547733  -0.25959361]\n",
            " [-0.23234014 -0.01513562]\n",
            " [-0.18816255 -0.27463045]\n",
            " [-0.17553431 -0.27308295]\n",
            " [ 0.0941035   0.16884234]\n",
            " [ 0.01021858 -0.05188179]\n",
            " [ 0.08916532  0.1617789 ]\n",
            " [ 0.02169667  0.07417045]\n",
            " [-0.04325632 -0.01819944]\n",
            " [-0.01011117 -0.03872893]\n",
            " [ 0.08951304  0.18288666]\n",
            " [ 0.09490567  0.18716268]\n",
            " [ 0.07370409  0.06903931]\n",
            " [ 0.          0.        ]\n",
            " [ 0.          0.        ]\n",
            " [ 0.          0.        ]\n",
            " [ 0.0070063  -0.05711857]\n",
            " [ 0.21671138 -0.28188022]\n",
            " [ 0.19539664  0.13786314]\n",
            " [ 0.28912273 -0.17435323]\n",
            " [ 0.32316934 -0.03909143]\n",
            " [-0.0241219  -0.11691411]\n",
            " [ 0.28450228 -0.20359022]\n",
            " [ 0.12741292  0.13127208]\n",
            " [ 0.22353917 -0.29000211]\n",
            " [ 0.30586772 -0.20034417]\n",
            " [ 0.30105583 -0.22014764]]\n"
          ],
          "name": "stdout"
        }
      ]
    },
    {
      "cell_type": "code",
      "metadata": {
        "colab_type": "code",
        "id": "gu3mx19IH1n9",
        "colab": {
          "base_uri": "https://localhost:8080/",
          "height": 134
        },
        "outputId": "949905b1-d8fc-4b58-9cb9-f47718e5ed4e"
      },
      "source": [
        "X_train_pca = X_train_std.dot(w2)\n",
        "print(X_train_pca)"
      ],
      "execution_count": 57,
      "outputs": [
        {
          "output_type": "stream",
          "text": [
            "[[-4.00499076 -0.1138379 ]\n",
            " [ 5.90065956  7.65371342]\n",
            " [-3.84548918 -0.15591668]\n",
            " ...\n",
            " [ 2.58508625 -0.80861393]\n",
            " [-4.51633132 -0.11895685]\n",
            " [ 3.05058021 -0.40310776]]\n"
          ],
          "name": "stdout"
        }
      ]
    },
    {
      "cell_type": "code",
      "metadata": {
        "colab_type": "code",
        "id": "laotJxepH1n-",
        "colab": {
          "base_uri": "https://localhost:8080/",
          "height": 134
        },
        "outputId": "412ef61e-574a-41b8-fa90-a31472893b8c"
      },
      "source": [
        "np.unique(y_train)\n",
        "X_train_pca"
      ],
      "execution_count": 58,
      "outputs": [
        {
          "output_type": "execute_result",
          "data": {
            "text/plain": [
              "array([[-4.00499076, -0.1138379 ],\n",
              "       [ 5.90065956,  7.65371342],\n",
              "       [-3.84548918, -0.15591668],\n",
              "       ...,\n",
              "       [ 2.58508625, -0.80861393],\n",
              "       [-4.51633132, -0.11895685],\n",
              "       [ 3.05058021, -0.40310776]])"
            ]
          },
          "metadata": {
            "tags": []
          },
          "execution_count": 58
        }
      ]
    }
  ]
}