{
  "nbformat": 4,
  "nbformat_minor": 0,
  "metadata": {
    "colab": {
      "name": "CA_FeatureRanking.ipynb",
      "provenance": [],
      "toc_visible": true,
      "machine_shape": "hm",
      "include_colab_link": true
    },
    "kernelspec": {
      "name": "python3",
      "display_name": "Python 3"
    },
    "accelerator": "GPU"
  },
  "cells": [
    {
      "cell_type": "markdown",
      "metadata": {
        "id": "view-in-github",
        "colab_type": "text"
      },
      "source": [
        "<a href=\"https://colab.research.google.com/github/aarsanjani/meansquares/blob/master/CA_FeatureRanking.ipynb\" target=\"_parent\"><img src=\"https://colab.research.google.com/assets/colab-badge.svg\" alt=\"Open In Colab\"/></a>"
      ]
    },
    {
      "cell_type": "markdown",
      "metadata": {
        "id": "l346AV8oZPe-",
        "colab_type": "text"
      },
      "source": [
        "# Goal:\n",
        "Using Random Forest to estimate the gini index and feature importance for all features from CA dataset\n",
        "\n",
        "Using Scikit-learn to compute PCA"
      ]
    },
    {
      "cell_type": "markdown",
      "metadata": {
        "id": "thBIWXyoZh3U",
        "colab_type": "text"
      },
      "source": [
        "## Mount Google drive"
      ]
    },
    {
      "cell_type": "code",
      "metadata": {
        "id": "3N0GpmS9ZJFo",
        "colab_type": "code",
        "colab": {
          "base_uri": "https://localhost:8080/",
          "height": 34
        },
        "outputId": "7dba905e-2235-40e0-e8f1-ec7099319b72"
      },
      "source": [
        "from google.colab import drive\n",
        "drive.mount('/content/drive')"
      ],
      "execution_count": 1,
      "outputs": [
        {
          "output_type": "stream",
          "text": [
            "Mounted at /content/drive\n"
          ],
          "name": "stdout"
        }
      ]
    },
    {
      "cell_type": "code",
      "metadata": {
        "id": "ogU_R9SvZjuR",
        "colab_type": "code",
        "colab": {
          "base_uri": "https://localhost:8080/",
          "height": 70
        },
        "outputId": "ccfa9bf5-7e1e-4a0c-fd42-05316392d96a"
      },
      "source": [
        "import pandas as pd\n",
        "import seaborn as sns\n",
        "from sklearn import preprocessing\n",
        "from sklearn.model_selection import train_test_split\n",
        "\n",
        "from sklearn.preprocessing import LabelEncoder\n",
        "from sklearn.preprocessing import StandardScaler as ss\n",
        "import itertools\n",
        "from scipy import linalg\n",
        "from sklearn.ensemble import RandomForestClassifier\n",
        "from sklearn.tree import export_graphviz\n",
        "import numpy as np\n",
        "import matplotlib.pyplot as plt"
      ],
      "execution_count": 64,
      "outputs": [
        {
          "output_type": "stream",
          "text": [
            "/usr/local/lib/python3.6/dist-packages/statsmodels/tools/_testing.py:19: FutureWarning: pandas.util.testing is deprecated. Use the functions in the public API at pandas.testing instead.\n",
            "  import pandas.util.testing as tm\n"
          ],
          "name": "stderr"
        }
      ]
    },
    {
      "cell_type": "markdown",
      "metadata": {
        "id": "mjW80L8CZzrv",
        "colab_type": "text"
      },
      "source": [
        "# 1.Load data - Combined CA Data"
      ]
    },
    {
      "cell_type": "code",
      "metadata": {
        "id": "HzV2n_7iZwr9",
        "colab_type": "code",
        "colab": {
          "base_uri": "https://localhost:8080/",
          "height": 34
        },
        "outputId": "a5a0f134-b631-48ea-c53d-945e1434f096"
      },
      "source": [
        "CA_labeled_data = pd.read_csv('/content/drive/Shared drives/CMPE 295- Master Project/Covid19-data/CA_labeledData_Sep17.csv',low_memory=False)\n",
        "print(CA_labeled_data.shape)"
      ],
      "execution_count": 3,
      "outputs": [
        {
          "output_type": "stream",
          "text": [
            "(9196, 19)\n"
          ],
          "name": "stdout"
        }
      ]
    },
    {
      "cell_type": "code",
      "metadata": {
        "id": "rphAMDm_aBqd",
        "colab_type": "code",
        "colab": {
          "base_uri": "https://localhost:8080/",
          "height": 353
        },
        "outputId": "30a2fb82-2ef6-48bd-ccc8-4851ca3be81b"
      },
      "source": [
        "CA_labeled_data.dtypes"
      ],
      "execution_count": 4,
      "outputs": [
        {
          "output_type": "execute_result",
          "data": {
            "text/plain": [
              "Date                      object\n",
              "fips_x                     int64\n",
              "County Name               object\n",
              "retail and recreation    float64\n",
              "grocery and pharmacy     float64\n",
              "parks                    float64\n",
              "transit stations         float64\n",
              "workplaces               float64\n",
              "residential              float64\n",
              "driving                  float64\n",
              "m50                      float64\n",
              "m50_index                  int64\n",
              "population_density       float64\n",
              "mask_rule_active           int64\n",
              "mask_wearing_percent     float64\n",
              "New cases                  int64\n",
              "rolling_avg_new_cases    float64\n",
              "label                     object\n",
              "growth_label              object\n",
              "dtype: object"
            ]
          },
          "metadata": {
            "tags": []
          },
          "execution_count": 4
        }
      ]
    },
    {
      "cell_type": "markdown",
      "metadata": {
        "id": "nItxaLWfcCGl",
        "colab_type": "text"
      },
      "source": [
        "## Preprocessing data \n",
        "\n",
        "* drop na\n",
        "* convert categorical code"
      ]
    },
    {
      "cell_type": "code",
      "metadata": {
        "id": "atHU0JIiaDsb",
        "colab_type": "code",
        "colab": {
          "base_uri": "https://localhost:8080/",
          "height": 194
        },
        "outputId": "4487b6e8-cf88-4d8f-a0c3-1d6e9d1efc67"
      },
      "source": [
        "CA_labeled_data['label_code'] = CA_labeled_data['label'].astype('category').cat.codes\n",
        "\n",
        "CA_labeled_data.head(2)"
      ],
      "execution_count": 5,
      "outputs": [
        {
          "output_type": "execute_result",
          "data": {
            "text/html": [
              "<div>\n",
              "<style scoped>\n",
              "    .dataframe tbody tr th:only-of-type {\n",
              "        vertical-align: middle;\n",
              "    }\n",
              "\n",
              "    .dataframe tbody tr th {\n",
              "        vertical-align: top;\n",
              "    }\n",
              "\n",
              "    .dataframe thead th {\n",
              "        text-align: right;\n",
              "    }\n",
              "</style>\n",
              "<table border=\"1\" class=\"dataframe\">\n",
              "  <thead>\n",
              "    <tr style=\"text-align: right;\">\n",
              "      <th></th>\n",
              "      <th>Date</th>\n",
              "      <th>fips_x</th>\n",
              "      <th>County Name</th>\n",
              "      <th>retail and recreation</th>\n",
              "      <th>grocery and pharmacy</th>\n",
              "      <th>parks</th>\n",
              "      <th>transit stations</th>\n",
              "      <th>workplaces</th>\n",
              "      <th>residential</th>\n",
              "      <th>driving</th>\n",
              "      <th>m50</th>\n",
              "      <th>m50_index</th>\n",
              "      <th>population_density</th>\n",
              "      <th>mask_rule_active</th>\n",
              "      <th>mask_wearing_percent</th>\n",
              "      <th>New cases</th>\n",
              "      <th>rolling_avg_new_cases</th>\n",
              "      <th>label</th>\n",
              "      <th>growth_label</th>\n",
              "      <th>label_code</th>\n",
              "    </tr>\n",
              "  </thead>\n",
              "  <tbody>\n",
              "    <tr>\n",
              "      <th>0</th>\n",
              "      <td>2020-03-01</td>\n",
              "      <td>6001</td>\n",
              "      <td>Alameda County</td>\n",
              "      <td>6.0</td>\n",
              "      <td>9.0</td>\n",
              "      <td>15.0</td>\n",
              "      <td>1.0</td>\n",
              "      <td>4.0</td>\n",
              "      <td>0.0</td>\n",
              "      <td>-7.65</td>\n",
              "      <td>3.684</td>\n",
              "      <td>58</td>\n",
              "      <td>2261.547725</td>\n",
              "      <td>0</td>\n",
              "      <td>0.0</td>\n",
              "      <td>0</td>\n",
              "      <td>0.0</td>\n",
              "      <td>LessSpread</td>\n",
              "      <td>flat_growth</td>\n",
              "      <td>0</td>\n",
              "    </tr>\n",
              "    <tr>\n",
              "      <th>1</th>\n",
              "      <td>2020-03-01</td>\n",
              "      <td>6067</td>\n",
              "      <td>Sacramento County</td>\n",
              "      <td>11.0</td>\n",
              "      <td>4.0</td>\n",
              "      <td>26.0</td>\n",
              "      <td>1.0</td>\n",
              "      <td>2.0</td>\n",
              "      <td>-1.0</td>\n",
              "      <td>-4.63</td>\n",
              "      <td>3.773</td>\n",
              "      <td>53</td>\n",
              "      <td>1608.950489</td>\n",
              "      <td>0</td>\n",
              "      <td>0.0</td>\n",
              "      <td>0</td>\n",
              "      <td>0.0</td>\n",
              "      <td>LessSpread</td>\n",
              "      <td>flat_growth</td>\n",
              "      <td>0</td>\n",
              "    </tr>\n",
              "  </tbody>\n",
              "</table>\n",
              "</div>"
            ],
            "text/plain": [
              "         Date  fips_x        County Name  ...       label  growth_label  label_code\n",
              "0  2020-03-01    6001     Alameda County  ...  LessSpread   flat_growth           0\n",
              "1  2020-03-01    6067  Sacramento County  ...  LessSpread   flat_growth           0\n",
              "\n",
              "[2 rows x 20 columns]"
            ]
          },
          "metadata": {
            "tags": []
          },
          "execution_count": 5
        }
      ]
    },
    {
      "cell_type": "code",
      "metadata": {
        "id": "xalDlwRNa4T-",
        "colab_type": "code",
        "colab": {}
      },
      "source": [
        "CA_labeled_data = CA_labeled_data.dropna()"
      ],
      "execution_count": 6,
      "outputs": []
    },
    {
      "cell_type": "code",
      "metadata": {
        "id": "oQdh_JQSaXlL",
        "colab_type": "code",
        "colab": {
          "base_uri": "https://localhost:8080/",
          "height": 101
        },
        "outputId": "c0705306-3966-40d5-abc3-fd8e91b676a7"
      },
      "source": [
        "CA_labeled_data[pd.isna(CA_labeled_data['label'])]"
      ],
      "execution_count": 7,
      "outputs": [
        {
          "output_type": "execute_result",
          "data": {
            "text/html": [
              "<div>\n",
              "<style scoped>\n",
              "    .dataframe tbody tr th:only-of-type {\n",
              "        vertical-align: middle;\n",
              "    }\n",
              "\n",
              "    .dataframe tbody tr th {\n",
              "        vertical-align: top;\n",
              "    }\n",
              "\n",
              "    .dataframe thead th {\n",
              "        text-align: right;\n",
              "    }\n",
              "</style>\n",
              "<table border=\"1\" class=\"dataframe\">\n",
              "  <thead>\n",
              "    <tr style=\"text-align: right;\">\n",
              "      <th></th>\n",
              "      <th>Date</th>\n",
              "      <th>fips_x</th>\n",
              "      <th>County Name</th>\n",
              "      <th>retail and recreation</th>\n",
              "      <th>grocery and pharmacy</th>\n",
              "      <th>parks</th>\n",
              "      <th>transit stations</th>\n",
              "      <th>workplaces</th>\n",
              "      <th>residential</th>\n",
              "      <th>driving</th>\n",
              "      <th>m50</th>\n",
              "      <th>m50_index</th>\n",
              "      <th>population_density</th>\n",
              "      <th>mask_rule_active</th>\n",
              "      <th>mask_wearing_percent</th>\n",
              "      <th>New cases</th>\n",
              "      <th>rolling_avg_new_cases</th>\n",
              "      <th>label</th>\n",
              "      <th>growth_label</th>\n",
              "      <th>label_code</th>\n",
              "    </tr>\n",
              "  </thead>\n",
              "  <tbody>\n",
              "  </tbody>\n",
              "</table>\n",
              "</div>"
            ],
            "text/plain": [
              "Empty DataFrame\n",
              "Columns: [Date, fips_x, County Name, retail and recreation, grocery and pharmacy, parks, transit stations, workplaces, residential, driving, m50, m50_index, population_density, mask_rule_active, mask_wearing_percent, New cases, rolling_avg_new_cases, label, growth_label, label_code]\n",
              "Index: []"
            ]
          },
          "metadata": {
            "tags": []
          },
          "execution_count": 7
        }
      ]
    },
    {
      "cell_type": "code",
      "metadata": {
        "id": "QqIRFkp-aPIE",
        "colab_type": "code",
        "colab": {
          "base_uri": "https://localhost:8080/",
          "height": 34
        },
        "outputId": "371cdafa-9173-4719-f667-6be08414dedf"
      },
      "source": [
        "CA_labeled_data['label_code'].unique()"
      ],
      "execution_count": 8,
      "outputs": [
        {
          "output_type": "execute_result",
          "data": {
            "text/plain": [
              "array([0, 1, 2], dtype=int8)"
            ]
          },
          "metadata": {
            "tags": []
          },
          "execution_count": 8
        }
      ]
    },
    {
      "cell_type": "code",
      "metadata": {
        "id": "u_0KNgMwbAtU",
        "colab_type": "code",
        "colab": {
          "base_uri": "https://localhost:8080/",
          "height": 350
        },
        "outputId": "4e5d2f6f-fe4d-4434-aa87-9ae2d55d8667"
      },
      "source": [
        "CA_labeled_data['growth_code'] = CA_labeled_data['growth_label'].astype('category').cat.codes\n",
        "CA_labeled_data.head()"
      ],
      "execution_count": 9,
      "outputs": [
        {
          "output_type": "execute_result",
          "data": {
            "text/html": [
              "<div>\n",
              "<style scoped>\n",
              "    .dataframe tbody tr th:only-of-type {\n",
              "        vertical-align: middle;\n",
              "    }\n",
              "\n",
              "    .dataframe tbody tr th {\n",
              "        vertical-align: top;\n",
              "    }\n",
              "\n",
              "    .dataframe thead th {\n",
              "        text-align: right;\n",
              "    }\n",
              "</style>\n",
              "<table border=\"1\" class=\"dataframe\">\n",
              "  <thead>\n",
              "    <tr style=\"text-align: right;\">\n",
              "      <th></th>\n",
              "      <th>Date</th>\n",
              "      <th>fips_x</th>\n",
              "      <th>County Name</th>\n",
              "      <th>retail and recreation</th>\n",
              "      <th>grocery and pharmacy</th>\n",
              "      <th>parks</th>\n",
              "      <th>transit stations</th>\n",
              "      <th>workplaces</th>\n",
              "      <th>residential</th>\n",
              "      <th>driving</th>\n",
              "      <th>m50</th>\n",
              "      <th>m50_index</th>\n",
              "      <th>population_density</th>\n",
              "      <th>mask_rule_active</th>\n",
              "      <th>mask_wearing_percent</th>\n",
              "      <th>New cases</th>\n",
              "      <th>rolling_avg_new_cases</th>\n",
              "      <th>label</th>\n",
              "      <th>growth_label</th>\n",
              "      <th>label_code</th>\n",
              "      <th>growth_code</th>\n",
              "    </tr>\n",
              "  </thead>\n",
              "  <tbody>\n",
              "    <tr>\n",
              "      <th>0</th>\n",
              "      <td>2020-03-01</td>\n",
              "      <td>6001</td>\n",
              "      <td>Alameda County</td>\n",
              "      <td>6.0</td>\n",
              "      <td>9.0</td>\n",
              "      <td>15.0</td>\n",
              "      <td>1.0</td>\n",
              "      <td>4.0</td>\n",
              "      <td>0.0</td>\n",
              "      <td>-7.65</td>\n",
              "      <td>3.684</td>\n",
              "      <td>58</td>\n",
              "      <td>2261.547725</td>\n",
              "      <td>0</td>\n",
              "      <td>0.0</td>\n",
              "      <td>0</td>\n",
              "      <td>0.0</td>\n",
              "      <td>LessSpread</td>\n",
              "      <td>flat_growth</td>\n",
              "      <td>0</td>\n",
              "      <td>2</td>\n",
              "    </tr>\n",
              "    <tr>\n",
              "      <th>1</th>\n",
              "      <td>2020-03-01</td>\n",
              "      <td>6067</td>\n",
              "      <td>Sacramento County</td>\n",
              "      <td>11.0</td>\n",
              "      <td>4.0</td>\n",
              "      <td>26.0</td>\n",
              "      <td>1.0</td>\n",
              "      <td>2.0</td>\n",
              "      <td>-1.0</td>\n",
              "      <td>-4.63</td>\n",
              "      <td>3.773</td>\n",
              "      <td>53</td>\n",
              "      <td>1608.950489</td>\n",
              "      <td>0</td>\n",
              "      <td>0.0</td>\n",
              "      <td>0</td>\n",
              "      <td>0.0</td>\n",
              "      <td>LessSpread</td>\n",
              "      <td>flat_growth</td>\n",
              "      <td>0</td>\n",
              "      <td>2</td>\n",
              "    </tr>\n",
              "    <tr>\n",
              "      <th>2</th>\n",
              "      <td>2020-03-01</td>\n",
              "      <td>6069</td>\n",
              "      <td>San Benito County</td>\n",
              "      <td>2.0</td>\n",
              "      <td>-1.0</td>\n",
              "      <td>-7.0</td>\n",
              "      <td>0.0</td>\n",
              "      <td>0.0</td>\n",
              "      <td>0.0</td>\n",
              "      <td>10.40</td>\n",
              "      <td>3.876</td>\n",
              "      <td>33</td>\n",
              "      <td>45.227585</td>\n",
              "      <td>0</td>\n",
              "      <td>0.0</td>\n",
              "      <td>0</td>\n",
              "      <td>0.0</td>\n",
              "      <td>LessSpread</td>\n",
              "      <td>flat_growth</td>\n",
              "      <td>0</td>\n",
              "      <td>2</td>\n",
              "    </tr>\n",
              "    <tr>\n",
              "      <th>3</th>\n",
              "      <td>2020-03-01</td>\n",
              "      <td>6071</td>\n",
              "      <td>San Bernardino County</td>\n",
              "      <td>5.0</td>\n",
              "      <td>-2.0</td>\n",
              "      <td>-22.0</td>\n",
              "      <td>2.0</td>\n",
              "      <td>-1.0</td>\n",
              "      <td>0.0</td>\n",
              "      <td>10.34</td>\n",
              "      <td>4.508</td>\n",
              "      <td>57</td>\n",
              "      <td>108.694796</td>\n",
              "      <td>0</td>\n",
              "      <td>0.0</td>\n",
              "      <td>0</td>\n",
              "      <td>0.0</td>\n",
              "      <td>LessSpread</td>\n",
              "      <td>flat_growth</td>\n",
              "      <td>0</td>\n",
              "      <td>2</td>\n",
              "    </tr>\n",
              "    <tr>\n",
              "      <th>4</th>\n",
              "      <td>2020-03-01</td>\n",
              "      <td>6073</td>\n",
              "      <td>San Diego County</td>\n",
              "      <td>2.0</td>\n",
              "      <td>-1.0</td>\n",
              "      <td>-20.0</td>\n",
              "      <td>-4.0</td>\n",
              "      <td>2.0</td>\n",
              "      <td>0.0</td>\n",
              "      <td>-4.99</td>\n",
              "      <td>4.555</td>\n",
              "      <td>59</td>\n",
              "      <td>793.587741</td>\n",
              "      <td>0</td>\n",
              "      <td>0.0</td>\n",
              "      <td>0</td>\n",
              "      <td>0.0</td>\n",
              "      <td>LessSpread</td>\n",
              "      <td>flat_growth</td>\n",
              "      <td>0</td>\n",
              "      <td>2</td>\n",
              "    </tr>\n",
              "  </tbody>\n",
              "</table>\n",
              "</div>"
            ],
            "text/plain": [
              "         Date  fips_x  ... label_code  growth_code\n",
              "0  2020-03-01    6001  ...          0            2\n",
              "1  2020-03-01    6067  ...          0            2\n",
              "2  2020-03-01    6069  ...          0            2\n",
              "3  2020-03-01    6071  ...          0            2\n",
              "4  2020-03-01    6073  ...          0            2\n",
              "\n",
              "[5 rows x 21 columns]"
            ]
          },
          "metadata": {
            "tags": []
          },
          "execution_count": 9
        }
      ]
    },
    {
      "cell_type": "code",
      "metadata": {
        "id": "Rnfoncl0bGfe",
        "colab_type": "code",
        "colab": {
          "base_uri": "https://localhost:8080/",
          "height": 34
        },
        "outputId": "6303c77e-6347-42a7-a37e-fe785b257242"
      },
      "source": [
        "CA_labeled_data['growth_code'].unique()"
      ],
      "execution_count": 10,
      "outputs": [
        {
          "output_type": "execute_result",
          "data": {
            "text/plain": [
              "array([2, 3, 4, 0, 1], dtype=int8)"
            ]
          },
          "metadata": {
            "tags": []
          },
          "execution_count": 10
        }
      ]
    },
    {
      "cell_type": "code",
      "metadata": {
        "id": "1HVWG1aBcJQo",
        "colab_type": "code",
        "colab": {
          "base_uri": "https://localhost:8080/",
          "height": 386
        },
        "outputId": "28385f6a-e47c-46d5-f758-05f5c936b519"
      },
      "source": [
        "CA_labeled_data.dtypes"
      ],
      "execution_count": 11,
      "outputs": [
        {
          "output_type": "execute_result",
          "data": {
            "text/plain": [
              "Date                      object\n",
              "fips_x                     int64\n",
              "County Name               object\n",
              "retail and recreation    float64\n",
              "grocery and pharmacy     float64\n",
              "parks                    float64\n",
              "transit stations         float64\n",
              "workplaces               float64\n",
              "residential              float64\n",
              "driving                  float64\n",
              "m50                      float64\n",
              "m50_index                  int64\n",
              "population_density       float64\n",
              "mask_rule_active           int64\n",
              "mask_wearing_percent     float64\n",
              "New cases                  int64\n",
              "rolling_avg_new_cases    float64\n",
              "label                     object\n",
              "growth_label              object\n",
              "label_code                  int8\n",
              "growth_code                 int8\n",
              "dtype: object"
            ]
          },
          "metadata": {
            "tags": []
          },
          "execution_count": 11
        }
      ]
    },
    {
      "cell_type": "code",
      "metadata": {
        "id": "Q015pwCsbJRZ",
        "colab_type": "code",
        "colab": {}
      },
      "source": [
        "feature_labels = ['retail and recreation','grocery and pharmacy','parks','transit stations','workplaces','residential','driving','m50','m50_index',\n",
        "               'population_density','mask_rule_active']\n",
        "\n",
        "target_column = ['label_code']\n",
        "\n",
        "X = CA_labeled_data[feature_labels]\n",
        "y = CA_labeled_data[target_column]\n",
        "\n",
        "X_train, X_test, y_train, y_test = train_test_split(X, y, test_size=0.4, random_state=0)\n"
      ],
      "execution_count": 12,
      "outputs": []
    },
    {
      "cell_type": "markdown",
      "metadata": {
        "id": "JCogtyG2c_KJ",
        "colab_type": "text"
      },
      "source": [
        "## Train Random Forest classifier"
      ]
    },
    {
      "cell_type": "code",
      "metadata": {
        "id": "2WlgVFSHbGWY",
        "colab_type": "code",
        "colab": {
          "base_uri": "https://localhost:8080/",
          "height": 255
        },
        "outputId": "423be8aa-6c0e-4f42-e148-815f56855533"
      },
      "source": [
        "# Create a random forest classifier\n",
        "clf = RandomForestClassifier(n_estimators=10000, random_state=0, n_jobs=-1)\n",
        "\n",
        "# Train the classifier\n",
        "clf.fit(X_train, y_train)\n",
        "\n",
        "# Print the name and gini importance of each feature\n",
        "for feature in zip(feature_labels, clf.feature_importances_):\n",
        "    print(feature)"
      ],
      "execution_count": 13,
      "outputs": [
        {
          "output_type": "stream",
          "text": [
            "/usr/local/lib/python3.6/dist-packages/ipykernel_launcher.py:5: DataConversionWarning: A column-vector y was passed when a 1d array was expected. Please change the shape of y to (n_samples,), for example using ravel().\n",
            "  \"\"\"\n"
          ],
          "name": "stderr"
        },
        {
          "output_type": "stream",
          "text": [
            "('retail and recreation', 0.11404503482729024)\n",
            "('grocery and pharmacy', 0.0977353017159239)\n",
            "('parks', 0.08304739743750444)\n",
            "('transit stations', 0.07089533985243181)\n",
            "('workplaces', 0.08453766703056341)\n",
            "('residential', 0.06283150630172737)\n",
            "('driving', 0.18430359774293176)\n",
            "('m50', 0.10379536502744927)\n",
            "('m50_index', 0.08638292041145693)\n",
            "('population_density', 0.10282015610054916)\n",
            "('mask_rule_active', 0.009605713552171631)\n"
          ],
          "name": "stdout"
        }
      ]
    },
    {
      "cell_type": "code",
      "metadata": {
        "id": "3Vc0z9x3dsxZ",
        "colab_type": "code",
        "colab": {
          "base_uri": "https://localhost:8080/",
          "height": 255
        },
        "outputId": "107a423b-408a-4a98-af1f-0b5e5094dd89"
      },
      "source": [
        "\n",
        "#  Supported criteria are “gini” for the Gini impurity and “entropy” for the information gain. \n",
        "clf = RandomForestClassifier(n_estimators=10000, random_state=0,criterion='entropy', n_jobs=-1)\n",
        "\n",
        "# Train the classifier\n",
        "clf.fit(X_train, y_train)\n",
        "\n",
        "# Print the name and gini importance of each feature\n",
        "for feature in zip(feature_labels, clf.feature_importances_):\n",
        "    print(feature)"
      ],
      "execution_count": 14,
      "outputs": [
        {
          "output_type": "stream",
          "text": [
            "/usr/local/lib/python3.6/dist-packages/ipykernel_launcher.py:6: DataConversionWarning: A column-vector y was passed when a 1d array was expected. Please change the shape of y to (n_samples,), for example using ravel().\n",
            "  \n"
          ],
          "name": "stderr"
        },
        {
          "output_type": "stream",
          "text": [
            "('retail and recreation', 0.10842744959745582)\n",
            "('grocery and pharmacy', 0.08938669389635209)\n",
            "('parks', 0.08587410764814926)\n",
            "('transit stations', 0.06943167774920254)\n",
            "('workplaces', 0.0755698414533044)\n",
            "('residential', 0.06139540186683856)\n",
            "('driving', 0.20793673090710485)\n",
            "('m50', 0.08934462864895355)\n",
            "('m50_index', 0.07379536718664355)\n",
            "('population_density', 0.11859726524794632)\n",
            "('mask_rule_active', 0.02024083579804911)\n"
          ],
          "name": "stdout"
        }
      ]
    },
    {
      "cell_type": "markdown",
      "metadata": {
        "id": "D3zWG9KkfUfd",
        "colab_type": "text"
      },
      "source": [
        "## PCA Computation"
      ]
    },
    {
      "cell_type": "code",
      "metadata": {
        "id": "E4VmR9P-5JqM",
        "colab_type": "code",
        "colab": {
          "base_uri": "https://localhost:8080/",
          "height": 34
        },
        "outputId": "abb00081-889b-478d-fdec-2a9916e6df92"
      },
      "source": [
        "print(len(feature_labels))"
      ],
      "execution_count": 15,
      "outputs": [
        {
          "output_type": "stream",
          "text": [
            "11\n"
          ],
          "name": "stdout"
        }
      ]
    },
    {
      "cell_type": "code",
      "metadata": {
        "id": "zjEtAIc621LQ",
        "colab_type": "code",
        "colab": {
          "base_uri": "https://localhost:8080/",
          "height": 353
        },
        "outputId": "f33f4263-5d4a-44b1-bb12-4efadf9c4a5f"
      },
      "source": [
        "# split into training and testing datasets\n",
        "\n",
        "\n",
        "X = CA_labeled_data[feature_labels].values\n",
        "y = CA_labeled_data[target_column].values\n",
        "\n",
        "X_train, X_test, y_train, y_test = train_test_split(X, y, test_size=0.3,stratify=y, random_state=0)\n",
        "print(X_train)\n",
        "print(y_train)"
      ],
      "execution_count": 16,
      "outputs": [
        {
          "output_type": "stream",
          "text": [
            "[[  0.           0.         -19.         ...  40.          27.63595894\n",
            "    0.        ]\n",
            " [-36.          -8.         -15.         ...  39.          47.69825714\n",
            "    0.        ]\n",
            " [  2.           7.          14.         ...  94.          24.52991607\n",
            "    0.        ]\n",
            " ...\n",
            " [-37.         -15.         -29.         ...  42.         167.69094946\n",
            "    0.        ]\n",
            " [-34.         -14.         -12.         ...   8.         110.07470743\n",
            "    0.        ]\n",
            " [-32.          -3.          23.         ...  52.         313.69483136\n",
            "    0.        ]]\n",
            "[[1]\n",
            " [0]\n",
            " [0]\n",
            " ...\n",
            " [1]\n",
            " [1]\n",
            " [0]]\n"
          ],
          "name": "stdout"
        }
      ]
    },
    {
      "cell_type": "code",
      "metadata": {
        "id": "9A68OlBw4WoF",
        "colab_type": "code",
        "colab": {}
      },
      "source": [
        "# standardize the features\n",
        "sc = ss()\n",
        "X_train_std = sc.fit_transform(X_train)\n",
        "X_test_std = sc.transform(X_test)"
      ],
      "execution_count": 17,
      "outputs": []
    },
    {
      "cell_type": "code",
      "metadata": {
        "id": "ev-2B1Qf6XTa",
        "colab_type": "code",
        "colab": {}
      },
      "source": [
        "from sklearn.decomposition import PCA\n",
        "pca = PCA(n_components=2)\n",
        "principalComponents = pca.fit_transform(X)\n",
        "principalDf = pd.DataFrame(data = principalComponents\n",
        "             , columns = ['principal component 1', 'principal component 2'])"
      ],
      "execution_count": 18,
      "outputs": []
    },
    {
      "cell_type": "code",
      "metadata": {
        "id": "pYJms-Kj8RR6",
        "colab_type": "code",
        "colab": {
          "base_uri": "https://localhost:8080/",
          "height": 402
        },
        "outputId": "b8b03c70-02db-4890-b3e7-b514bdec6521"
      },
      "source": [
        "principalDf"
      ],
      "execution_count": 19,
      "outputs": [
        {
          "output_type": "execute_result",
          "data": {
            "text/html": [
              "<div>\n",
              "<style scoped>\n",
              "    .dataframe tbody tr th:only-of-type {\n",
              "        vertical-align: middle;\n",
              "    }\n",
              "\n",
              "    .dataframe tbody tr th {\n",
              "        vertical-align: top;\n",
              "    }\n",
              "\n",
              "    .dataframe thead th {\n",
              "        text-align: right;\n",
              "    }\n",
              "</style>\n",
              "<table border=\"1\" class=\"dataframe\">\n",
              "  <thead>\n",
              "    <tr style=\"text-align: right;\">\n",
              "      <th></th>\n",
              "      <th>principal component 1</th>\n",
              "      <th>principal component 2</th>\n",
              "    </tr>\n",
              "  </thead>\n",
              "  <tbody>\n",
              "    <tr>\n",
              "      <th>0</th>\n",
              "      <td>1484.211987</td>\n",
              "      <td>12.154369</td>\n",
              "    </tr>\n",
              "    <tr>\n",
              "      <th>1</th>\n",
              "      <td>831.609744</td>\n",
              "      <td>5.251019</td>\n",
              "    </tr>\n",
              "    <tr>\n",
              "      <th>2</th>\n",
              "      <td>-731.962746</td>\n",
              "      <td>-20.095525</td>\n",
              "    </tr>\n",
              "    <tr>\n",
              "      <th>3</th>\n",
              "      <td>-668.548597</td>\n",
              "      <td>3.819142</td>\n",
              "    </tr>\n",
              "    <tr>\n",
              "      <th>4</th>\n",
              "      <td>16.412827</td>\n",
              "      <td>6.835767</td>\n",
              "    </tr>\n",
              "    <tr>\n",
              "      <th>...</th>\n",
              "      <td>...</td>\n",
              "      <td>...</td>\n",
              "    </tr>\n",
              "    <tr>\n",
              "      <th>9177</th>\n",
              "      <td>-704.331544</td>\n",
              "      <td>27.927847</td>\n",
              "    </tr>\n",
              "    <tr>\n",
              "      <th>9178</th>\n",
              "      <td>1696.922797</td>\n",
              "      <td>4.767738</td>\n",
              "    </tr>\n",
              "    <tr>\n",
              "      <th>9179</th>\n",
              "      <td>-691.794582</td>\n",
              "      <td>28.715759</td>\n",
              "    </tr>\n",
              "    <tr>\n",
              "      <th>9180</th>\n",
              "      <td>-771.717397</td>\n",
              "      <td>65.912923</td>\n",
              "    </tr>\n",
              "    <tr>\n",
              "      <th>9181</th>\n",
              "      <td>-653.167438</td>\n",
              "      <td>15.340379</td>\n",
              "    </tr>\n",
              "  </tbody>\n",
              "</table>\n",
              "<p>9182 rows × 2 columns</p>\n",
              "</div>"
            ],
            "text/plain": [
              "      principal component 1  principal component 2\n",
              "0               1484.211987              12.154369\n",
              "1                831.609744               5.251019\n",
              "2               -731.962746             -20.095525\n",
              "3               -668.548597               3.819142\n",
              "4                 16.412827               6.835767\n",
              "...                     ...                    ...\n",
              "9177            -704.331544              27.927847\n",
              "9178            1696.922797               4.767738\n",
              "9179            -691.794582              28.715759\n",
              "9180            -771.717397              65.912923\n",
              "9181            -653.167438              15.340379\n",
              "\n",
              "[9182 rows x 2 columns]"
            ]
          },
          "metadata": {
            "tags": []
          },
          "execution_count": 19
        }
      ]
    },
    {
      "cell_type": "code",
      "metadata": {
        "id": "rDNqe9dF6eZA",
        "colab_type": "code",
        "colab": {
          "base_uri": "https://localhost:8080/",
          "height": 402
        },
        "outputId": "00ea4daa-3f52-4b7b-beb5-2914e2cd5f1e"
      },
      "source": [
        "finalDf = pd.concat([principalDf, CA_labeled_data[target_column]],axis=1 )\n",
        "finalDf"
      ],
      "execution_count": 20,
      "outputs": [
        {
          "output_type": "execute_result",
          "data": {
            "text/html": [
              "<div>\n",
              "<style scoped>\n",
              "    .dataframe tbody tr th:only-of-type {\n",
              "        vertical-align: middle;\n",
              "    }\n",
              "\n",
              "    .dataframe tbody tr th {\n",
              "        vertical-align: top;\n",
              "    }\n",
              "\n",
              "    .dataframe thead th {\n",
              "        text-align: right;\n",
              "    }\n",
              "</style>\n",
              "<table border=\"1\" class=\"dataframe\">\n",
              "  <thead>\n",
              "    <tr style=\"text-align: right;\">\n",
              "      <th></th>\n",
              "      <th>principal component 1</th>\n",
              "      <th>principal component 2</th>\n",
              "      <th>label_code</th>\n",
              "    </tr>\n",
              "  </thead>\n",
              "  <tbody>\n",
              "    <tr>\n",
              "      <th>0</th>\n",
              "      <td>1484.211987</td>\n",
              "      <td>12.154369</td>\n",
              "      <td>0.0</td>\n",
              "    </tr>\n",
              "    <tr>\n",
              "      <th>1</th>\n",
              "      <td>831.609744</td>\n",
              "      <td>5.251019</td>\n",
              "      <td>0.0</td>\n",
              "    </tr>\n",
              "    <tr>\n",
              "      <th>2</th>\n",
              "      <td>-731.962746</td>\n",
              "      <td>-20.095525</td>\n",
              "      <td>0.0</td>\n",
              "    </tr>\n",
              "    <tr>\n",
              "      <th>3</th>\n",
              "      <td>-668.548597</td>\n",
              "      <td>3.819142</td>\n",
              "      <td>0.0</td>\n",
              "    </tr>\n",
              "    <tr>\n",
              "      <th>4</th>\n",
              "      <td>16.412827</td>\n",
              "      <td>6.835767</td>\n",
              "      <td>0.0</td>\n",
              "    </tr>\n",
              "    <tr>\n",
              "      <th>...</th>\n",
              "      <td>...</td>\n",
              "      <td>...</td>\n",
              "      <td>...</td>\n",
              "    </tr>\n",
              "    <tr>\n",
              "      <th>9191</th>\n",
              "      <td>NaN</td>\n",
              "      <td>NaN</td>\n",
              "      <td>0.0</td>\n",
              "    </tr>\n",
              "    <tr>\n",
              "      <th>9192</th>\n",
              "      <td>NaN</td>\n",
              "      <td>NaN</td>\n",
              "      <td>0.0</td>\n",
              "    </tr>\n",
              "    <tr>\n",
              "      <th>9193</th>\n",
              "      <td>NaN</td>\n",
              "      <td>NaN</td>\n",
              "      <td>0.0</td>\n",
              "    </tr>\n",
              "    <tr>\n",
              "      <th>9194</th>\n",
              "      <td>NaN</td>\n",
              "      <td>NaN</td>\n",
              "      <td>0.0</td>\n",
              "    </tr>\n",
              "    <tr>\n",
              "      <th>9195</th>\n",
              "      <td>NaN</td>\n",
              "      <td>NaN</td>\n",
              "      <td>0.0</td>\n",
              "    </tr>\n",
              "  </tbody>\n",
              "</table>\n",
              "<p>9196 rows × 3 columns</p>\n",
              "</div>"
            ],
            "text/plain": [
              "      principal component 1  principal component 2  label_code\n",
              "0               1484.211987              12.154369         0.0\n",
              "1                831.609744               5.251019         0.0\n",
              "2               -731.962746             -20.095525         0.0\n",
              "3               -668.548597               3.819142         0.0\n",
              "4                 16.412827               6.835767         0.0\n",
              "...                     ...                    ...         ...\n",
              "9191                    NaN                    NaN         0.0\n",
              "9192                    NaN                    NaN         0.0\n",
              "9193                    NaN                    NaN         0.0\n",
              "9194                    NaN                    NaN         0.0\n",
              "9195                    NaN                    NaN         0.0\n",
              "\n",
              "[9196 rows x 3 columns]"
            ]
          },
          "metadata": {
            "tags": []
          },
          "execution_count": 20
        }
      ]
    },
    {
      "cell_type": "code",
      "metadata": {
        "id": "nx4DfVPy6uI6",
        "colab_type": "code",
        "colab": {
          "base_uri": "https://localhost:8080/",
          "height": 574
        },
        "outputId": "2056729f-5c03-42ae-f879-ca37a454bc6e"
      },
      "source": [
        "fig = plt.figure(figsize = (8,8))\n",
        "ax = fig.add_subplot(1,1,1) \n",
        "ax.set_xlabel('Principal Component 1', fontsize = 15)\n",
        "ax.set_ylabel('Principal Component 2', fontsize = 15)\n",
        "ax.set_title('2 component PCA', fontsize = 20)\n",
        "targets = ['LowSpread', 'Spread', 'SuperSpread']\n",
        "targets2 = np.unique(y_train)\n",
        "colors = ['r', 'g', 'b']\n",
        "for target, color in zip(targets2,colors):\n",
        "    print(target)\n",
        "    indicesToKeep = finalDf['label_code'] == target\n",
        "    ax.scatter(finalDf.loc[indicesToKeep, 'principal component 1']\n",
        "               , finalDf.loc[indicesToKeep, 'principal component 2']\n",
        "               , c = color\n",
        "               , s = 50)\n",
        "ax.legend(targets)\n",
        "ax.grid()"
      ],
      "execution_count": 21,
      "outputs": [
        {
          "output_type": "stream",
          "text": [
            "0\n",
            "1\n",
            "2\n"
          ],
          "name": "stdout"
        },
        {
          "output_type": "display_data",
          "data": {
            "image/png": "[encoded data removed]",
            "text/plain": [
              "<Figure size 576x576 with 1 Axes>"
            ]
          },
          "metadata": {
            "tags": [],
            "needs_background": "light"
          }
        }
      ]
    },
    {
      "cell_type": "code",
      "metadata": {
        "id": "1MDNSQeG4ZWI",
        "colab_type": "code",
        "colab": {}
      },
      "source": [
        "#obtain the eigenpairs of the Wine covariance matrix:\n",
        "#data_cov = np.dot(np.transpose(data.values),data.values)\n",
        "#data_cov\n",
        "X_train_cov = np.cov(X_train_std.T)\n",
        "w, v = np.linalg.eig(X_train_cov)"
      ],
      "execution_count": 22,
      "outputs": []
    },
    {
      "cell_type": "code",
      "metadata": {
        "id": "Too9Fkoi4cBt",
        "colab_type": "code",
        "colab": {
          "base_uri": "https://localhost:8080/",
          "height": 84
        },
        "outputId": "9719aff6-0119-4c2b-b5cc-da4f438972ac"
      },
      "source": [
        "#The percent of variability contained within each component\n",
        "w_percent = (w/np.sum(w))*100                 \n",
        "print(w, '-> eigenvalues')\n",
        "print(w_percent, ' -> percent of variability explained')"
      ],
      "execution_count": 23,
      "outputs": [
        {
          "output_type": "stream",
          "text": [
            "[4.68190471 1.74653449 1.46032377 0.80300952 0.64539697 0.54509859\n",
            " 0.37669832 0.0825042  0.27613096 0.23293532 0.15117495] -> eigenvalues\n",
            "[42.55614759 15.87511586 13.27360507  7.29895067  5.86633225  4.95467068\n",
            "  3.42399731  0.74992146  2.50989083  2.11726438  1.37410389]  -> percent of variability explained\n"
          ],
          "name": "stdout"
        }
      ]
    },
    {
      "cell_type": "code",
      "metadata": {
        "id": "sxWTQTRD4ebt",
        "colab_type": "code",
        "colab": {
          "base_uri": "https://localhost:8080/",
          "height": 295
        },
        "outputId": "c9837f48-a179-47f0-b791-f02adcbcdccd"
      },
      "source": [
        "# calculate cumulative sum of explained variances\n",
        "tot = sum(w)\n",
        "var_exp = [(i / tot) for i in sorted(w, reverse=True)]\n",
        "cum_var_exp = np.cumsum(var_exp)\n",
        "\n",
        "# plot explained variances\n",
        "plt.title(\"Component-wise and Cumulative Explained Variance\")\n",
        "plt.bar(range(0,11), var_exp, alpha=0.5,\n",
        "        align='center', label='individual explained variance')\n",
        "plt.step(range(0,11), cum_var_exp, where='mid',\n",
        "         label='Percentage of variability explained')\n",
        "plt.ylabel('Explained variance ratio')\n",
        "plt.xlabel('Principal component index')\n",
        "plt.legend(loc='best')\n",
        "plt.show()"
      ],
      "execution_count": 24,
      "outputs": [
        {
          "output_type": "display_data",
          "data": {
            "image/png": "[encoded data removed]",
            "text/plain": [
              "<Figure size 432x288 with 1 Axes>"
            ]
          },
          "metadata": {
            "tags": [],
            "needs_background": "light"
          }
        }
      ]
    },
    {
      "cell_type": "code",
      "metadata": {
        "id": "SGCUhk0-4hY-",
        "colab_type": "code",
        "colab": {
          "base_uri": "https://localhost:8080/",
          "height": 218
        },
        "outputId": "a2552e95-57e1-43be-d472-f7366a14e79a"
      },
      "source": [
        "# Make a list of (eigenvalue, eigenvector) tuples\n",
        "eigen_pairs = [(np.abs(w[i]), v[:, i]) for i in range(len(w))]\n",
        "\n",
        "# Sort the (eigenvalue, eigenvector) tuples from high to low\n",
        "eigen_pairs.sort(key=lambda k: k[0], reverse=True)\n",
        "w2 = np.hstack((eigen_pairs[0][1][:, np.newaxis], eigen_pairs[1][1][:, np.newaxis]))\n",
        "print('Matrix W2:\\n', w2)"
      ],
      "execution_count": 25,
      "outputs": [
        {
          "output_type": "stream",
          "text": [
            "Matrix W2:\n",
            " [[ 0.39802686  0.07548609]\n",
            " [ 0.36806604  0.09620801]\n",
            " [ 0.21207444  0.10891566]\n",
            " [ 0.37897478  0.08480521]\n",
            " [ 0.34828846  0.07030567]\n",
            " [-0.39530182 -0.08205423]\n",
            " [ 0.33752331  0.0546998 ]\n",
            " [ 0.20123608 -0.66139603]\n",
            " [ 0.1330275  -0.7067886 ]\n",
            " [-0.21066697 -0.08990957]\n",
            " [ 0.15310568  0.07902472]]\n"
          ],
          "name": "stdout"
        }
      ]
    },
    {
      "cell_type": "code",
      "metadata": {
        "id": "PvPOq3Ru4nzj",
        "colab_type": "code",
        "colab": {
          "base_uri": "https://localhost:8080/",
          "height": 134
        },
        "outputId": "ed9b699d-f1b0-40d3-ef39-5576c948c8c5"
      },
      "source": [
        "X_train_pca = X_train_std.dot(w2)\n",
        "print(X_train_pca)"
      ],
      "execution_count": 26,
      "outputs": [
        {
          "output_type": "stream",
          "text": [
            "[[ 1.02907231  0.50060721]\n",
            " [-1.17610228 -0.16989335]\n",
            " [ 2.36704187 -0.15435181]\n",
            " ...\n",
            " [-1.95580732 -0.42506671]\n",
            " [-1.43175017  0.1959066 ]\n",
            " [-0.56951383 -0.15928261]]\n"
          ],
          "name": "stdout"
        }
      ]
    },
    {
      "cell_type": "code",
      "metadata": {
        "id": "zZ5Dzp2t6AMb",
        "colab_type": "code",
        "colab": {
          "base_uri": "https://localhost:8080/",
          "height": 134
        },
        "outputId": "ccd97b36-2060-4cb8-b2c7-da045c177700"
      },
      "source": [
        "np.unique(y_train)\n",
        "X_train_pca"
      ],
      "execution_count": 27,
      "outputs": [
        {
          "output_type": "execute_result",
          "data": {
            "text/plain": [
              "array([[ 1.02907231,  0.50060721],\n",
              "       [-1.17610228, -0.16989335],\n",
              "       [ 2.36704187, -0.15435181],\n",
              "       ...,\n",
              "       [-1.95580732, -0.42506671],\n",
              "       [-1.43175017,  0.1959066 ],\n",
              "       [-0.56951383, -0.15928261]])"
            ]
          },
          "metadata": {
            "tags": []
          },
          "execution_count": 27
        }
      ]
    },
    {
      "cell_type": "markdown",
      "metadata": {
        "colab_type": "text",
        "id": "sjhIpN5vH1mt"
      },
      "source": [
        "# 2.Load data - Maryland Inertia Data"
      ]
    },
    {
      "cell_type": "code",
      "metadata": {
        "colab_type": "code",
        "id": "xJtA0B_cH1mz",
        "colab": {
          "base_uri": "https://localhost:8080/",
          "height": 34
        },
        "outputId": "51e75313-4ad4-44cd-e31c-c4ef0ed0a765"
      },
      "source": [
        "CA_inertia_labeled_data = pd.read_csv('/content/drive/Shared drives/CMPE 295- Master Project/Covid19-data/CA_sd_inertia_labeledData_Sep17.csv',low_memory=False)\n",
        "print(CA_inertia_labeled_data.shape)"
      ],
      "execution_count": 28,
      "outputs": [
        {
          "output_type": "stream",
          "text": [
            "(12296, 56)\n"
          ],
          "name": "stdout"
        }
      ]
    },
    {
      "cell_type": "code",
      "metadata": {
        "colab_type": "code",
        "id": "nVew84W1H1nC",
        "colab": {
          "base_uri": "https://localhost:8080/",
          "height": 974
        },
        "outputId": "b790a99e-b2e9-45ac-a28e-37f4405f71a6"
      },
      "source": [
        "CA_inertia_labeled_data.dtypes"
      ],
      "execution_count": 29,
      "outputs": [
        {
          "output_type": "execute_result",
          "data": {
            "text/plain": [
              "Date                                           object\n",
              "Province_State                                 object\n",
              "FIPS                                            int64\n",
              "New cases                                       int64\n",
              "mask_rule_active                                int64\n",
              "CTFIPS                                          int64\n",
              "CTNAME                                         object\n",
              "STFIPS                                          int64\n",
              "Social distancing index                         int64\n",
              "% staying home                                  int64\n",
              "Trips/person                                  float64\n",
              "% out-of-county trips                         float64\n",
              "% out-of-state trips                          float64\n",
              "Miles/person                                  float64\n",
              "Work trips/person                             float64\n",
              "Non-work trips/person                         float64\n",
              "New COVID cases                                 int64\n",
              "Population                                      int64\n",
              "% change in consumption                       float64\n",
              "date                                           object\n",
              "Transit mode share                            float64\n",
              "% people older than 60                          int64\n",
              "Median income                                   int64\n",
              "% African Americans                           float64\n",
              "% Hispanic Americans                          float64\n",
              "% Male                                        float64\n",
              "Population density                              int64\n",
              "Employment density                              int64\n",
              "# hot spots/1000 people                         int64\n",
              "Hospital beds/1000 people                     float64\n",
              "ICUs/1000 people                              float64\n",
              "# contact tracing workers/1000 people         float64\n",
              "# contact tracing workers/1000 people rank    float64\n",
              "% people older than 60 rank                     int64\n",
              "COVID exposure/1000 people                    float64\n",
              "Unemployment claims/1000 people               float64\n",
              "Unemployment rate                             float64\n",
              "% working from home                           float64\n",
              "Cumulative inflation rate                     float64\n",
              "% hospital bed utilization                    float64\n",
              "Testing capacity                              float64\n",
              "Tests done/1000 people                        float64\n",
              "% ICU utilization                             float64\n",
              "Ventilator shortage                             int64\n",
              "Confirmed                                     float64\n",
              "Deaths                                        float64\n",
              "New deaths                                    float64\n",
              "#days: decreasing ILI cases                   float64\n",
              "COVID death rate                              float64\n",
              "New cases/1000 people                         float64\n",
              "Active cases/1000 people                      float64\n",
              "#days: decreasing COVID cases                 float64\n",
              "Imported COVID cases                          float64\n",
              "rolling_avg_new_cases                         float64\n",
              "label                                          object\n",
              "growth_label                                   object\n",
              "dtype: object"
            ]
          },
          "metadata": {
            "tags": []
          },
          "execution_count": 29
        }
      ]
    },
    {
      "cell_type": "markdown",
      "metadata": {
        "colab_type": "text",
        "id": "xxeFv1MxH1nJ"
      },
      "source": [
        "## Preprocessing data \n",
        "\n",
        "* drop na\n",
        "* convert categorical code"
      ]
    },
    {
      "cell_type": "code",
      "metadata": {
        "colab_type": "code",
        "id": "9V8166soH1nK",
        "colab": {
          "base_uri": "https://localhost:8080/",
          "height": 244
        },
        "outputId": "234f6c23-d18c-4ace-badc-362c1d92e271"
      },
      "source": [
        "CA_inertia_labeled_data['label_code'] = CA_inertia_labeled_data['label'].astype('category').cat.codes\n",
        "\n",
        "CA_inertia_labeled_data.head(2)"
      ],
      "execution_count": 30,
      "outputs": [
        {
          "output_type": "execute_result",
          "data": {
            "text/html": [
              "<div>\n",
              "<style scoped>\n",
              "    .dataframe tbody tr th:only-of-type {\n",
              "        vertical-align: middle;\n",
              "    }\n",
              "\n",
              "    .dataframe tbody tr th {\n",
              "        vertical-align: top;\n",
              "    }\n",
              "\n",
              "    .dataframe thead th {\n",
              "        text-align: right;\n",
              "    }\n",
              "</style>\n",
              "<table border=\"1\" class=\"dataframe\">\n",
              "  <thead>\n",
              "    <tr style=\"text-align: right;\">\n",
              "      <th></th>\n",
              "      <th>Date</th>\n",
              "      <th>Province_State</th>\n",
              "      <th>FIPS</th>\n",
              "      <th>New cases</th>\n",
              "      <th>mask_rule_active</th>\n",
              "      <th>CTFIPS</th>\n",
              "      <th>CTNAME</th>\n",
              "      <th>STFIPS</th>\n",
              "      <th>Social distancing index</th>\n",
              "      <th>% staying home</th>\n",
              "      <th>Trips/person</th>\n",
              "      <th>% out-of-county trips</th>\n",
              "      <th>% out-of-state trips</th>\n",
              "      <th>Miles/person</th>\n",
              "      <th>Work trips/person</th>\n",
              "      <th>Non-work trips/person</th>\n",
              "      <th>New COVID cases</th>\n",
              "      <th>Population</th>\n",
              "      <th>% change in consumption</th>\n",
              "      <th>date</th>\n",
              "      <th>Transit mode share</th>\n",
              "      <th>% people older than 60</th>\n",
              "      <th>Median income</th>\n",
              "      <th>% African Americans</th>\n",
              "      <th>% Hispanic Americans</th>\n",
              "      <th>% Male</th>\n",
              "      <th>Population density</th>\n",
              "      <th>Employment density</th>\n",
              "      <th># hot spots/1000 people</th>\n",
              "      <th>Hospital beds/1000 people</th>\n",
              "      <th>ICUs/1000 people</th>\n",
              "      <th># contact tracing workers/1000 people</th>\n",
              "      <th># contact tracing workers/1000 people rank</th>\n",
              "      <th>% people older than 60 rank</th>\n",
              "      <th>COVID exposure/1000 people</th>\n",
              "      <th>Unemployment claims/1000 people</th>\n",
              "      <th>Unemployment rate</th>\n",
              "      <th>% working from home</th>\n",
              "      <th>Cumulative inflation rate</th>\n",
              "      <th>% hospital bed utilization</th>\n",
              "      <th>Testing capacity</th>\n",
              "      <th>Tests done/1000 people</th>\n",
              "      <th>% ICU utilization</th>\n",
              "      <th>Ventilator shortage</th>\n",
              "      <th>Confirmed</th>\n",
              "      <th>Deaths</th>\n",
              "      <th>New deaths</th>\n",
              "      <th>#days: decreasing ILI cases</th>\n",
              "      <th>COVID death rate</th>\n",
              "      <th>New cases/1000 people</th>\n",
              "      <th>Active cases/1000 people</th>\n",
              "      <th>#days: decreasing COVID cases</th>\n",
              "      <th>Imported COVID cases</th>\n",
              "      <th>rolling_avg_new_cases</th>\n",
              "      <th>label</th>\n",
              "      <th>growth_label</th>\n",
              "      <th>label_code</th>\n",
              "    </tr>\n",
              "  </thead>\n",
              "  <tbody>\n",
              "    <tr>\n",
              "      <th>0</th>\n",
              "      <td>2020-01-22</td>\n",
              "      <td>California</td>\n",
              "      <td>6001</td>\n",
              "      <td>0</td>\n",
              "      <td>0</td>\n",
              "      <td>6001</td>\n",
              "      <td>Alameda County</td>\n",
              "      <td>6</td>\n",
              "      <td>18</td>\n",
              "      <td>20</td>\n",
              "      <td>3.29</td>\n",
              "      <td>29.4</td>\n",
              "      <td>0.3</td>\n",
              "      <td>35.9</td>\n",
              "      <td>0.55</td>\n",
              "      <td>2.74</td>\n",
              "      <td>0</td>\n",
              "      <td>1666753</td>\n",
              "      <td>-2.9</td>\n",
              "      <td>2020-01-22</td>\n",
              "      <td>15.04</td>\n",
              "      <td>19</td>\n",
              "      <td>92574</td>\n",
              "      <td>10.5</td>\n",
              "      <td>22.5</td>\n",
              "      <td>49.11</td>\n",
              "      <td>2002</td>\n",
              "      <td>1155</td>\n",
              "      <td>131</td>\n",
              "      <td>2.05</td>\n",
              "      <td>0.22</td>\n",
              "      <td>0.0</td>\n",
              "      <td>0.0</td>\n",
              "      <td>12</td>\n",
              "      <td>0.0</td>\n",
              "      <td>1.2</td>\n",
              "      <td>3.9</td>\n",
              "      <td>5.7</td>\n",
              "      <td>0.3</td>\n",
              "      <td>54.0</td>\n",
              "      <td>0.0</td>\n",
              "      <td>0.0</td>\n",
              "      <td>0.0</td>\n",
              "      <td>0</td>\n",
              "      <td>0.0</td>\n",
              "      <td>0.0</td>\n",
              "      <td>0.0</td>\n",
              "      <td>0.0</td>\n",
              "      <td>0.0</td>\n",
              "      <td>0.0</td>\n",
              "      <td>0.0</td>\n",
              "      <td>0.0</td>\n",
              "      <td>0.0</td>\n",
              "      <td>0.0</td>\n",
              "      <td>LessSpread</td>\n",
              "      <td>flat_growth</td>\n",
              "      <td>0</td>\n",
              "    </tr>\n",
              "    <tr>\n",
              "      <th>1</th>\n",
              "      <td>2020-01-22</td>\n",
              "      <td>California</td>\n",
              "      <td>6041</td>\n",
              "      <td>0</td>\n",
              "      <td>0</td>\n",
              "      <td>6041</td>\n",
              "      <td>Marin County</td>\n",
              "      <td>6</td>\n",
              "      <td>15</td>\n",
              "      <td>20</td>\n",
              "      <td>3.42</td>\n",
              "      <td>27.8</td>\n",
              "      <td>0.1</td>\n",
              "      <td>42.3</td>\n",
              "      <td>0.52</td>\n",
              "      <td>2.90</td>\n",
              "      <td>0</td>\n",
              "      <td>259666</td>\n",
              "      <td>2.5</td>\n",
              "      <td>2020-01-22</td>\n",
              "      <td>9.51</td>\n",
              "      <td>28</td>\n",
              "      <td>110217</td>\n",
              "      <td>2.2</td>\n",
              "      <td>15.9</td>\n",
              "      <td>48.83</td>\n",
              "      <td>314</td>\n",
              "      <td>308</td>\n",
              "      <td>218</td>\n",
              "      <td>2.05</td>\n",
              "      <td>0.22</td>\n",
              "      <td>0.0</td>\n",
              "      <td>0.0</td>\n",
              "      <td>73</td>\n",
              "      <td>0.0</td>\n",
              "      <td>1.2</td>\n",
              "      <td>3.9</td>\n",
              "      <td>5.7</td>\n",
              "      <td>0.3</td>\n",
              "      <td>54.0</td>\n",
              "      <td>0.0</td>\n",
              "      <td>0.0</td>\n",
              "      <td>0.0</td>\n",
              "      <td>0</td>\n",
              "      <td>0.0</td>\n",
              "      <td>0.0</td>\n",
              "      <td>0.0</td>\n",
              "      <td>0.0</td>\n",
              "      <td>0.0</td>\n",
              "      <td>0.0</td>\n",
              "      <td>0.0</td>\n",
              "      <td>0.0</td>\n",
              "      <td>0.0</td>\n",
              "      <td>0.0</td>\n",
              "      <td>LessSpread</td>\n",
              "      <td>flat_growth</td>\n",
              "      <td>0</td>\n",
              "    </tr>\n",
              "  </tbody>\n",
              "</table>\n",
              "</div>"
            ],
            "text/plain": [
              "         Date Province_State  FIPS  ...       label  growth_label  label_code\n",
              "0  2020-01-22     California  6001  ...  LessSpread   flat_growth           0\n",
              "1  2020-01-22     California  6041  ...  LessSpread   flat_growth           0\n",
              "\n",
              "[2 rows x 57 columns]"
            ]
          },
          "metadata": {
            "tags": []
          },
          "execution_count": 30
        }
      ]
    },
    {
      "cell_type": "code",
      "metadata": {
        "colab_type": "code",
        "id": "BZzHASxTH1nN",
        "colab": {}
      },
      "source": [
        "CA_inertia_labeled_data = CA_inertia_labeled_data.dropna()"
      ],
      "execution_count": 31,
      "outputs": []
    },
    {
      "cell_type": "code",
      "metadata": {
        "colab_type": "code",
        "id": "2lpLd0sHH1nQ",
        "colab": {
          "base_uri": "https://localhost:8080/",
          "height": 151
        },
        "outputId": "acef6852-1aba-4f5e-f569-6d8c775371d2"
      },
      "source": [
        "CA_inertia_labeled_data[pd.isna(CA_inertia_labeled_data['label'])]"
      ],
      "execution_count": 32,
      "outputs": [
        {
          "output_type": "execute_result",
          "data": {
            "text/html": [
              "<div>\n",
              "<style scoped>\n",
              "    .dataframe tbody tr th:only-of-type {\n",
              "        vertical-align: middle;\n",
              "    }\n",
              "\n",
              "    .dataframe tbody tr th {\n",
              "        vertical-align: top;\n",
              "    }\n",
              "\n",
              "    .dataframe thead th {\n",
              "        text-align: right;\n",
              "    }\n",
              "</style>\n",
              "<table border=\"1\" class=\"dataframe\">\n",
              "  <thead>\n",
              "    <tr style=\"text-align: right;\">\n",
              "      <th></th>\n",
              "      <th>Date</th>\n",
              "      <th>Province_State</th>\n",
              "      <th>FIPS</th>\n",
              "      <th>New cases</th>\n",
              "      <th>mask_rule_active</th>\n",
              "      <th>CTFIPS</th>\n",
              "      <th>CTNAME</th>\n",
              "      <th>STFIPS</th>\n",
              "      <th>Social distancing index</th>\n",
              "      <th>% staying home</th>\n",
              "      <th>Trips/person</th>\n",
              "      <th>% out-of-county trips</th>\n",
              "      <th>% out-of-state trips</th>\n",
              "      <th>Miles/person</th>\n",
              "      <th>Work trips/person</th>\n",
              "      <th>Non-work trips/person</th>\n",
              "      <th>New COVID cases</th>\n",
              "      <th>Population</th>\n",
              "      <th>% change in consumption</th>\n",
              "      <th>date</th>\n",
              "      <th>Transit mode share</th>\n",
              "      <th>% people older than 60</th>\n",
              "      <th>Median income</th>\n",
              "      <th>% African Americans</th>\n",
              "      <th>% Hispanic Americans</th>\n",
              "      <th>% Male</th>\n",
              "      <th>Population density</th>\n",
              "      <th>Employment density</th>\n",
              "      <th># hot spots/1000 people</th>\n",
              "      <th>Hospital beds/1000 people</th>\n",
              "      <th>ICUs/1000 people</th>\n",
              "      <th># contact tracing workers/1000 people</th>\n",
              "      <th># contact tracing workers/1000 people rank</th>\n",
              "      <th>% people older than 60 rank</th>\n",
              "      <th>COVID exposure/1000 people</th>\n",
              "      <th>Unemployment claims/1000 people</th>\n",
              "      <th>Unemployment rate</th>\n",
              "      <th>% working from home</th>\n",
              "      <th>Cumulative inflation rate</th>\n",
              "      <th>% hospital bed utilization</th>\n",
              "      <th>Testing capacity</th>\n",
              "      <th>Tests done/1000 people</th>\n",
              "      <th>% ICU utilization</th>\n",
              "      <th>Ventilator shortage</th>\n",
              "      <th>Confirmed</th>\n",
              "      <th>Deaths</th>\n",
              "      <th>New deaths</th>\n",
              "      <th>#days: decreasing ILI cases</th>\n",
              "      <th>COVID death rate</th>\n",
              "      <th>New cases/1000 people</th>\n",
              "      <th>Active cases/1000 people</th>\n",
              "      <th>#days: decreasing COVID cases</th>\n",
              "      <th>Imported COVID cases</th>\n",
              "      <th>rolling_avg_new_cases</th>\n",
              "      <th>label</th>\n",
              "      <th>growth_label</th>\n",
              "      <th>label_code</th>\n",
              "    </tr>\n",
              "  </thead>\n",
              "  <tbody>\n",
              "  </tbody>\n",
              "</table>\n",
              "</div>"
            ],
            "text/plain": [
              "Empty DataFrame\n",
              "Columns: [Date, Province_State, FIPS, New cases, mask_rule_active, CTFIPS, CTNAME, STFIPS, Social distancing index, % staying home, Trips/person, % out-of-county trips, % out-of-state trips, Miles/person, Work trips/person, Non-work trips/person, New COVID cases, Population, % change in consumption, date, Transit mode share, % people older than 60, Median income, % African Americans, % Hispanic Americans, % Male, Population density, Employment density, # hot spots/1000 people, Hospital beds/1000 people, ICUs/1000 people, # contact tracing workers/1000 people, # contact tracing workers/1000 people rank, % people older than 60 rank, COVID exposure/1000 people, Unemployment claims/1000 people, Unemployment rate, % working from home, Cumulative inflation rate, % hospital bed utilization, Testing capacity, Tests done/1000 people, % ICU utilization, Ventilator shortage, Confirmed, Deaths, New deaths, #days: decreasing ILI cases, COVID death rate, New cases/1000 people, Active cases/1000 people, #days: decreasing COVID cases, Imported COVID cases, rolling_avg_new_cases, label, growth_label, label_code]\n",
              "Index: []"
            ]
          },
          "metadata": {
            "tags": []
          },
          "execution_count": 32
        }
      ]
    },
    {
      "cell_type": "code",
      "metadata": {
        "colab_type": "code",
        "id": "OuJRtQb1H1nT",
        "colab": {
          "base_uri": "https://localhost:8080/",
          "height": 34
        },
        "outputId": "1bd3043f-81d3-4098-fc5b-6a20ca8c5ea9"
      },
      "source": [
        "CA_inertia_labeled_data['label_code'].unique()"
      ],
      "execution_count": 33,
      "outputs": [
        {
          "output_type": "execute_result",
          "data": {
            "text/plain": [
              "array([0, 1, 2, 3, 4, 5, 6], dtype=int8)"
            ]
          },
          "metadata": {
            "tags": []
          },
          "execution_count": 33
        }
      ]
    },
    {
      "cell_type": "code",
      "metadata": {
        "colab_type": "code",
        "id": "OwDPP-ZbH1nX",
        "colab": {
          "base_uri": "https://localhost:8080/",
          "height": 400
        },
        "outputId": "6c07e75d-f4dc-4ffb-dcd9-3f94f7605969"
      },
      "source": [
        "CA_inertia_labeled_data['growth_code'] = CA_inertia_labeled_data['growth_label'].astype('category').cat.codes\n",
        "CA_inertia_labeled_data.head()"
      ],
      "execution_count": 34,
      "outputs": [
        {
          "output_type": "execute_result",
          "data": {
            "text/html": [
              "<div>\n",
              "<style scoped>\n",
              "    .dataframe tbody tr th:only-of-type {\n",
              "        vertical-align: middle;\n",
              "    }\n",
              "\n",
              "    .dataframe tbody tr th {\n",
              "        vertical-align: top;\n",
              "    }\n",
              "\n",
              "    .dataframe thead th {\n",
              "        text-align: right;\n",
              "    }\n",
              "</style>\n",
              "<table border=\"1\" class=\"dataframe\">\n",
              "  <thead>\n",
              "    <tr style=\"text-align: right;\">\n",
              "      <th></th>\n",
              "      <th>Date</th>\n",
              "      <th>Province_State</th>\n",
              "      <th>FIPS</th>\n",
              "      <th>New cases</th>\n",
              "      <th>mask_rule_active</th>\n",
              "      <th>CTFIPS</th>\n",
              "      <th>CTNAME</th>\n",
              "      <th>STFIPS</th>\n",
              "      <th>Social distancing index</th>\n",
              "      <th>% staying home</th>\n",
              "      <th>Trips/person</th>\n",
              "      <th>% out-of-county trips</th>\n",
              "      <th>% out-of-state trips</th>\n",
              "      <th>Miles/person</th>\n",
              "      <th>Work trips/person</th>\n",
              "      <th>Non-work trips/person</th>\n",
              "      <th>New COVID cases</th>\n",
              "      <th>Population</th>\n",
              "      <th>% change in consumption</th>\n",
              "      <th>date</th>\n",
              "      <th>Transit mode share</th>\n",
              "      <th>% people older than 60</th>\n",
              "      <th>Median income</th>\n",
              "      <th>% African Americans</th>\n",
              "      <th>% Hispanic Americans</th>\n",
              "      <th>% Male</th>\n",
              "      <th>Population density</th>\n",
              "      <th>Employment density</th>\n",
              "      <th># hot spots/1000 people</th>\n",
              "      <th>Hospital beds/1000 people</th>\n",
              "      <th>ICUs/1000 people</th>\n",
              "      <th># contact tracing workers/1000 people</th>\n",
              "      <th># contact tracing workers/1000 people rank</th>\n",
              "      <th>% people older than 60 rank</th>\n",
              "      <th>COVID exposure/1000 people</th>\n",
              "      <th>Unemployment claims/1000 people</th>\n",
              "      <th>Unemployment rate</th>\n",
              "      <th>% working from home</th>\n",
              "      <th>Cumulative inflation rate</th>\n",
              "      <th>% hospital bed utilization</th>\n",
              "      <th>Testing capacity</th>\n",
              "      <th>Tests done/1000 people</th>\n",
              "      <th>% ICU utilization</th>\n",
              "      <th>Ventilator shortage</th>\n",
              "      <th>Confirmed</th>\n",
              "      <th>Deaths</th>\n",
              "      <th>New deaths</th>\n",
              "      <th>#days: decreasing ILI cases</th>\n",
              "      <th>COVID death rate</th>\n",
              "      <th>New cases/1000 people</th>\n",
              "      <th>Active cases/1000 people</th>\n",
              "      <th>#days: decreasing COVID cases</th>\n",
              "      <th>Imported COVID cases</th>\n",
              "      <th>rolling_avg_new_cases</th>\n",
              "      <th>label</th>\n",
              "      <th>growth_label</th>\n",
              "      <th>label_code</th>\n",
              "      <th>growth_code</th>\n",
              "    </tr>\n",
              "  </thead>\n",
              "  <tbody>\n",
              "    <tr>\n",
              "      <th>0</th>\n",
              "      <td>2020-01-22</td>\n",
              "      <td>California</td>\n",
              "      <td>6001</td>\n",
              "      <td>0</td>\n",
              "      <td>0</td>\n",
              "      <td>6001</td>\n",
              "      <td>Alameda County</td>\n",
              "      <td>6</td>\n",
              "      <td>18</td>\n",
              "      <td>20</td>\n",
              "      <td>3.29</td>\n",
              "      <td>29.4</td>\n",
              "      <td>0.3</td>\n",
              "      <td>35.9</td>\n",
              "      <td>0.55</td>\n",
              "      <td>2.74</td>\n",
              "      <td>0</td>\n",
              "      <td>1666753</td>\n",
              "      <td>-2.9</td>\n",
              "      <td>2020-01-22</td>\n",
              "      <td>15.04</td>\n",
              "      <td>19</td>\n",
              "      <td>92574</td>\n",
              "      <td>10.5</td>\n",
              "      <td>22.5</td>\n",
              "      <td>49.11</td>\n",
              "      <td>2002</td>\n",
              "      <td>1155</td>\n",
              "      <td>131</td>\n",
              "      <td>2.05</td>\n",
              "      <td>0.22</td>\n",
              "      <td>0.0</td>\n",
              "      <td>0.0</td>\n",
              "      <td>12</td>\n",
              "      <td>0.0</td>\n",
              "      <td>1.2</td>\n",
              "      <td>3.9</td>\n",
              "      <td>5.7</td>\n",
              "      <td>0.3</td>\n",
              "      <td>54.0</td>\n",
              "      <td>0.0</td>\n",
              "      <td>0.0</td>\n",
              "      <td>0.0</td>\n",
              "      <td>0</td>\n",
              "      <td>0.0</td>\n",
              "      <td>0.0</td>\n",
              "      <td>0.0</td>\n",
              "      <td>0.0</td>\n",
              "      <td>0.0</td>\n",
              "      <td>0.0</td>\n",
              "      <td>0.0</td>\n",
              "      <td>0.0</td>\n",
              "      <td>0.0</td>\n",
              "      <td>0.0</td>\n",
              "      <td>LessSpread</td>\n",
              "      <td>flat_growth</td>\n",
              "      <td>0</td>\n",
              "      <td>1</td>\n",
              "    </tr>\n",
              "    <tr>\n",
              "      <th>1</th>\n",
              "      <td>2020-01-22</td>\n",
              "      <td>California</td>\n",
              "      <td>6041</td>\n",
              "      <td>0</td>\n",
              "      <td>0</td>\n",
              "      <td>6041</td>\n",
              "      <td>Marin County</td>\n",
              "      <td>6</td>\n",
              "      <td>15</td>\n",
              "      <td>20</td>\n",
              "      <td>3.42</td>\n",
              "      <td>27.8</td>\n",
              "      <td>0.1</td>\n",
              "      <td>42.3</td>\n",
              "      <td>0.52</td>\n",
              "      <td>2.90</td>\n",
              "      <td>0</td>\n",
              "      <td>259666</td>\n",
              "      <td>2.5</td>\n",
              "      <td>2020-01-22</td>\n",
              "      <td>9.51</td>\n",
              "      <td>28</td>\n",
              "      <td>110217</td>\n",
              "      <td>2.2</td>\n",
              "      <td>15.9</td>\n",
              "      <td>48.83</td>\n",
              "      <td>314</td>\n",
              "      <td>308</td>\n",
              "      <td>218</td>\n",
              "      <td>2.05</td>\n",
              "      <td>0.22</td>\n",
              "      <td>0.0</td>\n",
              "      <td>0.0</td>\n",
              "      <td>73</td>\n",
              "      <td>0.0</td>\n",
              "      <td>1.2</td>\n",
              "      <td>3.9</td>\n",
              "      <td>5.7</td>\n",
              "      <td>0.3</td>\n",
              "      <td>54.0</td>\n",
              "      <td>0.0</td>\n",
              "      <td>0.0</td>\n",
              "      <td>0.0</td>\n",
              "      <td>0</td>\n",
              "      <td>0.0</td>\n",
              "      <td>0.0</td>\n",
              "      <td>0.0</td>\n",
              "      <td>0.0</td>\n",
              "      <td>0.0</td>\n",
              "      <td>0.0</td>\n",
              "      <td>0.0</td>\n",
              "      <td>0.0</td>\n",
              "      <td>0.0</td>\n",
              "      <td>0.0</td>\n",
              "      <td>LessSpread</td>\n",
              "      <td>flat_growth</td>\n",
              "      <td>0</td>\n",
              "      <td>1</td>\n",
              "    </tr>\n",
              "    <tr>\n",
              "      <th>2</th>\n",
              "      <td>2020-01-22</td>\n",
              "      <td>California</td>\n",
              "      <td>6039</td>\n",
              "      <td>0</td>\n",
              "      <td>0</td>\n",
              "      <td>6039</td>\n",
              "      <td>Madera County</td>\n",
              "      <td>6</td>\n",
              "      <td>18</td>\n",
              "      <td>17</td>\n",
              "      <td>3.55</td>\n",
              "      <td>29.7</td>\n",
              "      <td>0.1</td>\n",
              "      <td>39.9</td>\n",
              "      <td>0.52</td>\n",
              "      <td>3.03</td>\n",
              "      <td>0</td>\n",
              "      <td>157672</td>\n",
              "      <td>1.5</td>\n",
              "      <td>2020-01-22</td>\n",
              "      <td>0.45</td>\n",
              "      <td>19</td>\n",
              "      <td>52884</td>\n",
              "      <td>3.1</td>\n",
              "      <td>57.3</td>\n",
              "      <td>48.18</td>\n",
              "      <td>72</td>\n",
              "      <td>29</td>\n",
              "      <td>81</td>\n",
              "      <td>2.05</td>\n",
              "      <td>0.22</td>\n",
              "      <td>0.0</td>\n",
              "      <td>0.0</td>\n",
              "      <td>12</td>\n",
              "      <td>0.0</td>\n",
              "      <td>1.2</td>\n",
              "      <td>3.9</td>\n",
              "      <td>5.7</td>\n",
              "      <td>0.3</td>\n",
              "      <td>54.0</td>\n",
              "      <td>0.0</td>\n",
              "      <td>0.0</td>\n",
              "      <td>0.0</td>\n",
              "      <td>0</td>\n",
              "      <td>0.0</td>\n",
              "      <td>0.0</td>\n",
              "      <td>0.0</td>\n",
              "      <td>0.0</td>\n",
              "      <td>0.0</td>\n",
              "      <td>0.0</td>\n",
              "      <td>0.0</td>\n",
              "      <td>0.0</td>\n",
              "      <td>0.0</td>\n",
              "      <td>0.0</td>\n",
              "      <td>LessSpread</td>\n",
              "      <td>flat_growth</td>\n",
              "      <td>0</td>\n",
              "      <td>1</td>\n",
              "    </tr>\n",
              "    <tr>\n",
              "      <th>3</th>\n",
              "      <td>2020-01-22</td>\n",
              "      <td>California</td>\n",
              "      <td>6103</td>\n",
              "      <td>0</td>\n",
              "      <td>0</td>\n",
              "      <td>6103</td>\n",
              "      <td>Tehama County</td>\n",
              "      <td>6</td>\n",
              "      <td>18</td>\n",
              "      <td>19</td>\n",
              "      <td>3.47</td>\n",
              "      <td>30.1</td>\n",
              "      <td>1.9</td>\n",
              "      <td>50.6</td>\n",
              "      <td>0.55</td>\n",
              "      <td>2.93</td>\n",
              "      <td>0</td>\n",
              "      <td>63916</td>\n",
              "      <td>5.1</td>\n",
              "      <td>2020-01-22</td>\n",
              "      <td>0.33</td>\n",
              "      <td>26</td>\n",
              "      <td>42899</td>\n",
              "      <td>0.7</td>\n",
              "      <td>24.7</td>\n",
              "      <td>49.71</td>\n",
              "      <td>21</td>\n",
              "      <td>6</td>\n",
              "      <td>106</td>\n",
              "      <td>2.05</td>\n",
              "      <td>0.22</td>\n",
              "      <td>0.0</td>\n",
              "      <td>0.0</td>\n",
              "      <td>59</td>\n",
              "      <td>0.0</td>\n",
              "      <td>1.2</td>\n",
              "      <td>3.9</td>\n",
              "      <td>5.7</td>\n",
              "      <td>0.3</td>\n",
              "      <td>54.0</td>\n",
              "      <td>0.0</td>\n",
              "      <td>0.0</td>\n",
              "      <td>0.0</td>\n",
              "      <td>0</td>\n",
              "      <td>0.0</td>\n",
              "      <td>0.0</td>\n",
              "      <td>0.0</td>\n",
              "      <td>0.0</td>\n",
              "      <td>0.0</td>\n",
              "      <td>0.0</td>\n",
              "      <td>0.0</td>\n",
              "      <td>0.0</td>\n",
              "      <td>0.0</td>\n",
              "      <td>0.0</td>\n",
              "      <td>LessSpread</td>\n",
              "      <td>flat_growth</td>\n",
              "      <td>0</td>\n",
              "      <td>1</td>\n",
              "    </tr>\n",
              "    <tr>\n",
              "      <th>4</th>\n",
              "      <td>2020-01-22</td>\n",
              "      <td>California</td>\n",
              "      <td>6037</td>\n",
              "      <td>0</td>\n",
              "      <td>0</td>\n",
              "      <td>6037</td>\n",
              "      <td>Los Angeles County</td>\n",
              "      <td>6</td>\n",
              "      <td>18</td>\n",
              "      <td>19</td>\n",
              "      <td>3.34</td>\n",
              "      <td>10.9</td>\n",
              "      <td>0.3</td>\n",
              "      <td>32.5</td>\n",
              "      <td>0.62</td>\n",
              "      <td>2.72</td>\n",
              "      <td>0</td>\n",
              "      <td>10105518</td>\n",
              "      <td>-1.7</td>\n",
              "      <td>2020-01-22</td>\n",
              "      <td>6.04</td>\n",
              "      <td>18</td>\n",
              "      <td>64251</td>\n",
              "      <td>7.9</td>\n",
              "      <td>48.5</td>\n",
              "      <td>49.28</td>\n",
              "      <td>2125</td>\n",
              "      <td>972</td>\n",
              "      <td>140</td>\n",
              "      <td>2.05</td>\n",
              "      <td>0.22</td>\n",
              "      <td>0.0</td>\n",
              "      <td>0.0</td>\n",
              "      <td>9</td>\n",
              "      <td>0.0</td>\n",
              "      <td>1.2</td>\n",
              "      <td>3.9</td>\n",
              "      <td>5.7</td>\n",
              "      <td>0.3</td>\n",
              "      <td>54.0</td>\n",
              "      <td>0.0</td>\n",
              "      <td>0.0</td>\n",
              "      <td>0.0</td>\n",
              "      <td>0</td>\n",
              "      <td>0.0</td>\n",
              "      <td>0.0</td>\n",
              "      <td>0.0</td>\n",
              "      <td>0.0</td>\n",
              "      <td>0.0</td>\n",
              "      <td>0.0</td>\n",
              "      <td>0.0</td>\n",
              "      <td>0.0</td>\n",
              "      <td>0.0</td>\n",
              "      <td>0.0</td>\n",
              "      <td>LessSpread</td>\n",
              "      <td>flat_growth</td>\n",
              "      <td>0</td>\n",
              "      <td>1</td>\n",
              "    </tr>\n",
              "  </tbody>\n",
              "</table>\n",
              "</div>"
            ],
            "text/plain": [
              "         Date Province_State  FIPS  ...  growth_label  label_code  growth_code\n",
              "0  2020-01-22     California  6001  ...   flat_growth           0            1\n",
              "1  2020-01-22     California  6041  ...   flat_growth           0            1\n",
              "2  2020-01-22     California  6039  ...   flat_growth           0            1\n",
              "3  2020-01-22     California  6103  ...   flat_growth           0            1\n",
              "4  2020-01-22     California  6037  ...   flat_growth           0            1\n",
              "\n",
              "[5 rows x 58 columns]"
            ]
          },
          "metadata": {
            "tags": []
          },
          "execution_count": 34
        }
      ]
    },
    {
      "cell_type": "code",
      "metadata": {
        "colab_type": "code",
        "id": "Vr7663BUH1na",
        "colab": {
          "base_uri": "https://localhost:8080/",
          "height": 34
        },
        "outputId": "3757420c-c4a8-44e3-f0e3-9a0b2eb5e236"
      },
      "source": [
        "CA_inertia_labeled_data['growth_code'].unique()"
      ],
      "execution_count": 35,
      "outputs": [
        {
          "output_type": "execute_result",
          "data": {
            "text/plain": [
              "array([1, 2, 3, 0], dtype=int8)"
            ]
          },
          "metadata": {
            "tags": []
          },
          "execution_count": 35
        }
      ]
    },
    {
      "cell_type": "code",
      "metadata": {
        "colab_type": "code",
        "id": "5Lakwg_MH1nc",
        "colab": {
          "base_uri": "https://localhost:8080/",
          "height": 1000
        },
        "outputId": "c7ae9893-394f-4d1f-d2e5-0f16a3bdf8aa"
      },
      "source": [
        "CA_inertia_labeled_data.dtypes"
      ],
      "execution_count": 36,
      "outputs": [
        {
          "output_type": "execute_result",
          "data": {
            "text/plain": [
              "Date                                           object\n",
              "Province_State                                 object\n",
              "FIPS                                            int64\n",
              "New cases                                       int64\n",
              "mask_rule_active                                int64\n",
              "CTFIPS                                          int64\n",
              "CTNAME                                         object\n",
              "STFIPS                                          int64\n",
              "Social distancing index                         int64\n",
              "% staying home                                  int64\n",
              "Trips/person                                  float64\n",
              "% out-of-county trips                         float64\n",
              "% out-of-state trips                          float64\n",
              "Miles/person                                  float64\n",
              "Work trips/person                             float64\n",
              "Non-work trips/person                         float64\n",
              "New COVID cases                                 int64\n",
              "Population                                      int64\n",
              "% change in consumption                       float64\n",
              "date                                           object\n",
              "Transit mode share                            float64\n",
              "% people older than 60                          int64\n",
              "Median income                                   int64\n",
              "% African Americans                           float64\n",
              "% Hispanic Americans                          float64\n",
              "% Male                                        float64\n",
              "Population density                              int64\n",
              "Employment density                              int64\n",
              "# hot spots/1000 people                         int64\n",
              "Hospital beds/1000 people                     float64\n",
              "ICUs/1000 people                              float64\n",
              "# contact tracing workers/1000 people         float64\n",
              "# contact tracing workers/1000 people rank    float64\n",
              "% people older than 60 rank                     int64\n",
              "COVID exposure/1000 people                    float64\n",
              "Unemployment claims/1000 people               float64\n",
              "Unemployment rate                             float64\n",
              "% working from home                           float64\n",
              "Cumulative inflation rate                     float64\n",
              "% hospital bed utilization                    float64\n",
              "Testing capacity                              float64\n",
              "Tests done/1000 people                        float64\n",
              "% ICU utilization                             float64\n",
              "Ventilator shortage                             int64\n",
              "Confirmed                                     float64\n",
              "Deaths                                        float64\n",
              "New deaths                                    float64\n",
              "#days: decreasing ILI cases                   float64\n",
              "COVID death rate                              float64\n",
              "New cases/1000 people                         float64\n",
              "Active cases/1000 people                      float64\n",
              "#days: decreasing COVID cases                 float64\n",
              "Imported COVID cases                          float64\n",
              "rolling_avg_new_cases                         float64\n",
              "label                                          object\n",
              "growth_label                                   object\n",
              "label_code                                       int8\n",
              "growth_code                                      int8\n",
              "dtype: object"
            ]
          },
          "metadata": {
            "tags": []
          },
          "execution_count": 36
        }
      ]
    },
    {
      "cell_type": "code",
      "metadata": {
        "id": "_ZXlJGB9I1jI",
        "colab_type": "code",
        "colab": {
          "base_uri": "https://localhost:8080/",
          "height": 403
        },
        "outputId": "32ba075d-8274-4724-e202-1923677dd9a5"
      },
      "source": [
        "CA_inertia_labeled_data.columns"
      ],
      "execution_count": 37,
      "outputs": [
        {
          "output_type": "execute_result",
          "data": {
            "text/plain": [
              "Index(['Date', 'Province_State', 'FIPS', 'New cases', 'mask_rule_active',\n",
              "       'CTFIPS', 'CTNAME', 'STFIPS', 'Social distancing index',\n",
              "       '% staying home', 'Trips/person', '% out-of-county trips',\n",
              "       '% out-of-state trips', 'Miles/person', 'Work trips/person',\n",
              "       'Non-work trips/person', 'New COVID cases', 'Population',\n",
              "       '% change in consumption', 'date', 'Transit mode share',\n",
              "       '% people older than 60', 'Median income', '% African Americans',\n",
              "       '% Hispanic Americans', '% Male', 'Population density',\n",
              "       'Employment density', '# hot spots/1000 people',\n",
              "       'Hospital beds/1000 people', 'ICUs/1000 people',\n",
              "       '# contact tracing workers/1000 people',\n",
              "       '# contact tracing workers/1000 people rank',\n",
              "       '% people older than 60 rank', 'COVID exposure/1000 people',\n",
              "       'Unemployment claims/1000 people', 'Unemployment rate',\n",
              "       '% working from home', 'Cumulative inflation rate',\n",
              "       '% hospital bed utilization', 'Testing capacity',\n",
              "       'Tests done/1000 people', '% ICU utilization', 'Ventilator shortage',\n",
              "       'Confirmed', 'Deaths', 'New deaths', '#days: decreasing ILI cases',\n",
              "       'COVID death rate', 'New cases/1000 people', 'Active cases/1000 people',\n",
              "       '#days: decreasing COVID cases', 'Imported COVID cases',\n",
              "       'rolling_avg_new_cases', 'label', 'growth_label', 'label_code',\n",
              "       'growth_code'],\n",
              "      dtype='object')"
            ]
          },
          "metadata": {
            "tags": []
          },
          "execution_count": 37
        }
      ]
    },
    {
      "cell_type": "code",
      "metadata": {
        "colab_type": "code",
        "id": "6Nx3kdz0H1nf",
        "colab": {}
      },
      "source": [
        "feature_labels = ['mask_rule_active','Social distancing index','% staying home', 'Trips/person', '% out-of-county trips',\n",
        "       '% out-of-state trips', 'Miles/person', 'Work trips/person','Non-work trips/person','% change in consumption',\n",
        "       'Transit mode share','% people older than 60', 'Median income', '% African Americans', '% Hispanic Americans',\n",
        "       '% Male', 'Population density','Employment density', '# hot spots/1000 people','Hospital beds/1000 people', 'ICUs/1000 people',\n",
        "       '# contact tracing workers/1000 people rank','% people older than 60 rank', 'COVID exposure/1000 people',\n",
        "       'Unemployment claims/1000 people', 'Unemployment rate','% working from home', 'Cumulative inflation rate',\n",
        "       '% hospital bed utilization', 'Testing capacity','Tests done/1000 people', '% ICU utilization', 'Ventilator shortage'\n",
        "       ]\n",
        "\n",
        "target_column = ['label_code']\n",
        "\n",
        "X = CA_inertia_labeled_data[feature_labels]\n",
        "y = CA_inertia_labeled_data[target_column]\n",
        "\n",
        "X_train, X_test, y_train, y_test = train_test_split(X, y, test_size=0.4, random_state=0)\n"
      ],
      "execution_count": 38,
      "outputs": []
    },
    {
      "cell_type": "markdown",
      "metadata": {
        "colab_type": "text",
        "id": "_ejgzSENH1nh"
      },
      "source": [
        "## Train Random Forest classifier"
      ]
    },
    {
      "cell_type": "code",
      "metadata": {
        "colab_type": "code",
        "id": "alHppjAzH1nh",
        "colab": {
          "base_uri": "https://localhost:8080/",
          "height": 625
        },
        "outputId": "4d346fdb-e508-41ec-a50d-2d593f5d4493"
      },
      "source": [
        "# Create a random forest classifier\n",
        "clf = RandomForestClassifier(n_estimators=10000, random_state=0, n_jobs=-1)\n",
        "\n",
        "# Train the classifier\n",
        "clf.fit(X_train, y_train)\n",
        "\n",
        "# Print the name and gini importance of each feature\n",
        "for feature in zip(feature_labels, clf.feature_importances_):\n",
        "    print(feature)"
      ],
      "execution_count": 39,
      "outputs": [
        {
          "output_type": "stream",
          "text": [
            "/usr/local/lib/python3.6/dist-packages/ipykernel_launcher.py:5: DataConversionWarning: A column-vector y was passed when a 1d array was expected. Please change the shape of y to (n_samples,), for example using ravel().\n",
            "  \"\"\"\n"
          ],
          "name": "stderr"
        },
        {
          "output_type": "stream",
          "text": [
            "('mask_rule_active', 0.0046779757124752845)\n",
            "('Social distancing index', 0.019429283721131917)\n",
            "('% staying home', 0.018370906069028914)\n",
            "('Trips/person', 0.02128267415154293)\n",
            "('% out-of-county trips', 0.04344262415403291)\n",
            "('% out-of-state trips', 0.02934294202207859)\n",
            "('Miles/person', 0.02826989592978061)\n",
            "('Work trips/person', 0.020498481322269148)\n",
            "('Non-work trips/person', 0.022338588502385005)\n",
            "('% change in consumption', 0.022757448023951576)\n",
            "('Transit mode share', 0.04444429419307492)\n",
            "('% people older than 60', 0.04250859121335983)\n",
            "('Median income', 0.04436345486954704)\n",
            "('% African Americans', 0.03276473716867501)\n",
            "('% Hispanic Americans', 0.049785702148910184)\n",
            "('% Male', 0.05301662606911807)\n",
            "('Population density', 0.05143355350680487)\n",
            "('Employment density', 0.05077159546854234)\n",
            "('# hot spots/1000 people', 0.03626578608769184)\n",
            "('Hospital beds/1000 people', 0.0)\n",
            "('ICUs/1000 people', 0.0)\n",
            "('# contact tracing workers/1000 people rank', 0.0)\n",
            "('% people older than 60 rank', 0.04233984236040259)\n",
            "('COVID exposure/1000 people', 0.03902688660501051)\n",
            "('Unemployment claims/1000 people', 0.03656120055416038)\n",
            "('Unemployment rate', 0.028224905053054895)\n",
            "('% working from home', 0.027152948538465463)\n",
            "('Cumulative inflation rate', 0.014172046653237017)\n",
            "('% hospital bed utilization', 0.030123114294727426)\n",
            "('Testing capacity', 0.03500536931963426)\n",
            "('Tests done/1000 people', 0.04397666833771403)\n",
            "('% ICU utilization', 0.03221386594711169)\n",
            "('Ventilator shortage', 0.035437992002080546)\n"
          ],
          "name": "stdout"
        }
      ]
    },
    {
      "cell_type": "code",
      "metadata": {
        "colab_type": "code",
        "id": "FaL8OKY6H1nj",
        "colab": {
          "base_uri": "https://localhost:8080/",
          "height": 642
        },
        "outputId": "0f65120b-7fbc-4250-884b-8591ff0e0f59"
      },
      "source": [
        "\n",
        "#  Supported criteria are “gini” for the Gini impurity and “entropy” for the information gain. \n",
        "clf = RandomForestClassifier(n_estimators=10000, random_state=0,criterion='entropy', n_jobs=-1)\n",
        "\n",
        "# Train the classifier\n",
        "clf.fit(X_train, y_train)\n",
        "print(X_train.shape)\n",
        "# Print the name and gini importance of each feature\n",
        "for feature in zip(feature_labels, clf.feature_importances_):\n",
        "    print(feature)"
      ],
      "execution_count": 40,
      "outputs": [
        {
          "output_type": "stream",
          "text": [
            "/usr/local/lib/python3.6/dist-packages/ipykernel_launcher.py:6: DataConversionWarning: A column-vector y was passed when a 1d array was expected. Please change the shape of y to (n_samples,), for example using ravel().\n",
            "  \n"
          ],
          "name": "stderr"
        },
        {
          "output_type": "stream",
          "text": [
            "(7352, 33)\n",
            "('mask_rule_active', 0.005631300918691075)\n",
            "('Social distancing index', 0.013586112257437789)\n",
            "('% staying home', 0.012773980544647361)\n",
            "('Trips/person', 0.014243660668561036)\n",
            "('% out-of-county trips', 0.03834616864065094)\n",
            "('% out-of-state trips', 0.02762249640476449)\n",
            "('Miles/person', 0.02246491184203249)\n",
            "('Work trips/person', 0.014076770918171633)\n",
            "('Non-work trips/person', 0.015929068828691238)\n",
            "('% change in consumption', 0.016839076746991817)\n",
            "('Transit mode share', 0.04769183317732047)\n",
            "('% people older than 60', 0.03851257352998927)\n",
            "('Median income', 0.04594299624737143)\n",
            "('% African Americans', 0.03212927579508459)\n",
            "('% Hispanic Americans', 0.0468768086825594)\n",
            "('% Male', 0.05222847928027471)\n",
            "('Population density', 0.054504797574647205)\n",
            "('Employment density', 0.05395864495475357)\n",
            "('# hot spots/1000 people', 0.0345908845603549)\n",
            "('Hospital beds/1000 people', 0.0)\n",
            "('ICUs/1000 people', 0.0)\n",
            "('# contact tracing workers/1000 people rank', 0.0)\n",
            "('% people older than 60 rank', 0.038352211857902635)\n",
            "('COVID exposure/1000 people', 0.04861920077809385)\n",
            "('Unemployment claims/1000 people', 0.03841921430161078)\n",
            "('Unemployment rate', 0.03368497843567884)\n",
            "('% working from home', 0.0319368820619018)\n",
            "('Cumulative inflation rate', 0.01931159136741851)\n",
            "('% hospital bed utilization', 0.033805770270414565)\n",
            "('Testing capacity', 0.039402118748163496)\n",
            "('Tests done/1000 people', 0.05166449926477397)\n",
            "('% ICU utilization', 0.03635305046539967)\n",
            "('Ventilator shortage', 0.04050064087564662)\n"
          ],
          "name": "stdout"
        }
      ]
    },
    {
      "cell_type": "code",
      "metadata": {
        "id": "LGl3OepO8Ip-",
        "colab_type": "code",
        "colab": {
          "base_uri": "https://localhost:8080/",
          "height": 34
        },
        "outputId": "09090511-c2e8-40eb-c132-92644142370e"
      },
      "source": [
        "X_train.shape"
      ],
      "execution_count": 41,
      "outputs": [
        {
          "output_type": "execute_result",
          "data": {
            "text/plain": [
              "(7352, 33)"
            ]
          },
          "metadata": {
            "tags": []
          },
          "execution_count": 41
        }
      ]
    },
    {
      "cell_type": "markdown",
      "metadata": {
        "colab_type": "text",
        "id": "JmJo8b0WH1nm"
      },
      "source": [
        "## PCA Computation"
      ]
    },
    {
      "cell_type": "code",
      "metadata": {
        "colab_type": "code",
        "id": "QFD0tG7hH1nn",
        "colab": {
          "base_uri": "https://localhost:8080/",
          "height": 0
        },
        "outputId": "51316738-5873-442d-90ad-a8644da9b11b"
      },
      "source": [
        "print(len(feature_labels))"
      ],
      "execution_count": 42,
      "outputs": [
        {
          "output_type": "stream",
          "text": [
            "33\n"
          ],
          "name": "stdout"
        }
      ]
    },
    {
      "cell_type": "code",
      "metadata": {
        "colab_type": "code",
        "id": "4Ih_wCujH1nq",
        "colab": {
          "base_uri": "https://localhost:8080/",
          "height": 0
        },
        "outputId": "73570c7d-80c8-4429-f7ff-3d6a6497a683"
      },
      "source": [
        "# split into training and testing datasets\n",
        "\n",
        "\n",
        "X = CA_inertia_labeled_data[feature_labels].values\n",
        "y = CA_inertia_labeled_data[target_column].values\n",
        "\n",
        "X_train, X_test, y_train, y_test = train_test_split(X, y, test_size=0.3,stratify=y, random_state=0)\n",
        "print(X_train)\n",
        "print(y_train)"
      ],
      "execution_count": 43,
      "outputs": [
        {
          "output_type": "stream",
          "text": [
            "[[1.0000e+00 4.4000e+01 2.7000e+01 ... 1.1510e+02 2.1650e+01 6.7700e+02]\n",
            " [1.0000e+00 3.8000e+01 2.8000e+01 ... 2.0997e+02 2.3880e+01 1.1690e+03]\n",
            " [0.0000e+00 6.6000e+01 4.0000e+01 ... 6.1460e+01 1.4920e+01 5.7000e+02]\n",
            " ...\n",
            " [0.0000e+00 3.5000e+01 2.5000e+01 ... 0.0000e+00 0.0000e+00 0.0000e+00]\n",
            " [0.0000e+00 5.2000e+01 3.1000e+01 ... 1.5250e+01 1.7340e+01 6.5700e+02]\n",
            " [0.0000e+00 7.2000e+01 4.4000e+01 ... 6.5600e+00 1.7090e+01 6.6000e+02]]\n",
            "[[0]\n",
            " [0]\n",
            " [0]\n",
            " ...\n",
            " [0]\n",
            " [0]\n",
            " [0]]\n"
          ],
          "name": "stdout"
        }
      ]
    },
    {
      "cell_type": "code",
      "metadata": {
        "colab_type": "code",
        "id": "IWrdCBzUH1ns",
        "colab": {}
      },
      "source": [
        "# standardize the features\n",
        "sc = ss()\n",
        "X_train_std = sc.fit_transform(X_train)\n",
        "X_test_std = sc.transform(X_test)"
      ],
      "execution_count": 44,
      "outputs": []
    },
    {
      "cell_type": "code",
      "metadata": {
        "colab_type": "code",
        "id": "h6N0mNWXH1nu",
        "colab": {}
      },
      "source": [
        "from sklearn.decomposition import PCA\n",
        "pca = PCA(n_components=2)\n",
        "principalComponents = pca.fit_transform(X)\n",
        "principalDf = pd.DataFrame(data = principalComponents\n",
        "             , columns = ['principal component 1', 'principal component 2'])"
      ],
      "execution_count": 45,
      "outputs": []
    },
    {
      "cell_type": "code",
      "metadata": {
        "colab_type": "code",
        "id": "jVL_a5G-H1nv",
        "colab": {
          "base_uri": "https://localhost:8080/",
          "height": 0
        },
        "outputId": "f99e9722-cdc6-49fd-8bf2-6365be829d9b"
      },
      "source": [
        "principalDf"
      ],
      "execution_count": 46,
      "outputs": [
        {
          "output_type": "execute_result",
          "data": {
            "text/html": [
              "<div>\n",
              "<style scoped>\n",
              "    .dataframe tbody tr th:only-of-type {\n",
              "        vertical-align: middle;\n",
              "    }\n",
              "\n",
              "    .dataframe tbody tr th {\n",
              "        vertical-align: top;\n",
              "    }\n",
              "\n",
              "    .dataframe thead th {\n",
              "        text-align: right;\n",
              "    }\n",
              "</style>\n",
              "<table border=\"1\" class=\"dataframe\">\n",
              "  <thead>\n",
              "    <tr style=\"text-align: right;\">\n",
              "      <th></th>\n",
              "      <th>principal component 1</th>\n",
              "      <th>principal component 2</th>\n",
              "    </tr>\n",
              "  </thead>\n",
              "  <tbody>\n",
              "    <tr>\n",
              "      <th>0</th>\n",
              "      <td>28302.319654</td>\n",
              "      <td>1057.801319</td>\n",
              "    </tr>\n",
              "    <tr>\n",
              "      <th>1</th>\n",
              "      <td>45885.232084</td>\n",
              "      <td>-1318.315048</td>\n",
              "    </tr>\n",
              "    <tr>\n",
              "      <th>2</th>\n",
              "      <td>-11434.938131</td>\n",
              "      <td>-53.079277</td>\n",
              "    </tr>\n",
              "    <tr>\n",
              "      <th>3</th>\n",
              "      <td>-21417.520176</td>\n",
              "      <td>173.025836</td>\n",
              "    </tr>\n",
              "    <tr>\n",
              "      <th>4</th>\n",
              "      <td>-9.170724</td>\n",
              "      <td>1862.338141</td>\n",
              "    </tr>\n",
              "    <tr>\n",
              "      <th>...</th>\n",
              "      <td>...</td>\n",
              "      <td>...</td>\n",
              "    </tr>\n",
              "    <tr>\n",
              "      <th>12249</th>\n",
              "      <td>-368.149574</td>\n",
              "      <td>-118.249366</td>\n",
              "    </tr>\n",
              "    <tr>\n",
              "      <th>12250</th>\n",
              "      <td>-11050.796609</td>\n",
              "      <td>-132.965676</td>\n",
              "    </tr>\n",
              "    <tr>\n",
              "      <th>12251</th>\n",
              "      <td>20031.062078</td>\n",
              "      <td>-753.626655</td>\n",
              "    </tr>\n",
              "    <tr>\n",
              "      <th>12252</th>\n",
              "      <td>20425.140796</td>\n",
              "      <td>-827.276356</td>\n",
              "    </tr>\n",
              "    <tr>\n",
              "      <th>12253</th>\n",
              "      <td>-11693.632028</td>\n",
              "      <td>-9.933859</td>\n",
              "    </tr>\n",
              "  </tbody>\n",
              "</table>\n",
              "<p>12254 rows × 2 columns</p>\n",
              "</div>"
            ],
            "text/plain": [
              "       principal component 1  principal component 2\n",
              "0               28302.319654            1057.801319\n",
              "1               45885.232084           -1318.315048\n",
              "2              -11434.938131             -53.079277\n",
              "3              -21417.520176             173.025836\n",
              "4                  -9.170724            1862.338141\n",
              "...                      ...                    ...\n",
              "12249            -368.149574            -118.249366\n",
              "12250          -11050.796609            -132.965676\n",
              "12251           20031.062078            -753.626655\n",
              "12252           20425.140796            -827.276356\n",
              "12253          -11693.632028              -9.933859\n",
              "\n",
              "[12254 rows x 2 columns]"
            ]
          },
          "metadata": {
            "tags": []
          },
          "execution_count": 46
        }
      ]
    },
    {
      "cell_type": "code",
      "metadata": {
        "colab_type": "code",
        "id": "Vc2YUxD0H1nx",
        "colab": {
          "base_uri": "https://localhost:8080/",
          "height": 0
        },
        "outputId": "5f7b2192-7fd7-4c7a-8b64-ba4343e6cca1"
      },
      "source": [
        "finalDf = pd.concat([principalDf, CA_inertia_labeled_data[target_column]],axis=1 )\n",
        "finalDf"
      ],
      "execution_count": 47,
      "outputs": [
        {
          "output_type": "execute_result",
          "data": {
            "text/html": [
              "<div>\n",
              "<style scoped>\n",
              "    .dataframe tbody tr th:only-of-type {\n",
              "        vertical-align: middle;\n",
              "    }\n",
              "\n",
              "    .dataframe tbody tr th {\n",
              "        vertical-align: top;\n",
              "    }\n",
              "\n",
              "    .dataframe thead th {\n",
              "        text-align: right;\n",
              "    }\n",
              "</style>\n",
              "<table border=\"1\" class=\"dataframe\">\n",
              "  <thead>\n",
              "    <tr style=\"text-align: right;\">\n",
              "      <th></th>\n",
              "      <th>principal component 1</th>\n",
              "      <th>principal component 2</th>\n",
              "      <th>label_code</th>\n",
              "    </tr>\n",
              "  </thead>\n",
              "  <tbody>\n",
              "    <tr>\n",
              "      <th>0</th>\n",
              "      <td>28302.319654</td>\n",
              "      <td>1057.801319</td>\n",
              "      <td>0.0</td>\n",
              "    </tr>\n",
              "    <tr>\n",
              "      <th>1</th>\n",
              "      <td>45885.232084</td>\n",
              "      <td>-1318.315048</td>\n",
              "      <td>0.0</td>\n",
              "    </tr>\n",
              "    <tr>\n",
              "      <th>2</th>\n",
              "      <td>-11434.938131</td>\n",
              "      <td>-53.079277</td>\n",
              "      <td>0.0</td>\n",
              "    </tr>\n",
              "    <tr>\n",
              "      <th>3</th>\n",
              "      <td>-21417.520176</td>\n",
              "      <td>173.025836</td>\n",
              "      <td>0.0</td>\n",
              "    </tr>\n",
              "    <tr>\n",
              "      <th>4</th>\n",
              "      <td>-9.170724</td>\n",
              "      <td>1862.338141</td>\n",
              "      <td>0.0</td>\n",
              "    </tr>\n",
              "    <tr>\n",
              "      <th>...</th>\n",
              "      <td>...</td>\n",
              "      <td>...</td>\n",
              "      <td>...</td>\n",
              "    </tr>\n",
              "    <tr>\n",
              "      <th>12291</th>\n",
              "      <td>NaN</td>\n",
              "      <td>NaN</td>\n",
              "      <td>0.0</td>\n",
              "    </tr>\n",
              "    <tr>\n",
              "      <th>12292</th>\n",
              "      <td>NaN</td>\n",
              "      <td>NaN</td>\n",
              "      <td>0.0</td>\n",
              "    </tr>\n",
              "    <tr>\n",
              "      <th>12293</th>\n",
              "      <td>NaN</td>\n",
              "      <td>NaN</td>\n",
              "      <td>0.0</td>\n",
              "    </tr>\n",
              "    <tr>\n",
              "      <th>12294</th>\n",
              "      <td>NaN</td>\n",
              "      <td>NaN</td>\n",
              "      <td>0.0</td>\n",
              "    </tr>\n",
              "    <tr>\n",
              "      <th>12295</th>\n",
              "      <td>NaN</td>\n",
              "      <td>NaN</td>\n",
              "      <td>0.0</td>\n",
              "    </tr>\n",
              "  </tbody>\n",
              "</table>\n",
              "<p>12296 rows × 3 columns</p>\n",
              "</div>"
            ],
            "text/plain": [
              "       principal component 1  principal component 2  label_code\n",
              "0               28302.319654            1057.801319         0.0\n",
              "1               45885.232084           -1318.315048         0.0\n",
              "2              -11434.938131             -53.079277         0.0\n",
              "3              -21417.520176             173.025836         0.0\n",
              "4                  -9.170724            1862.338141         0.0\n",
              "...                      ...                    ...         ...\n",
              "12291                    NaN                    NaN         0.0\n",
              "12292                    NaN                    NaN         0.0\n",
              "12293                    NaN                    NaN         0.0\n",
              "12294                    NaN                    NaN         0.0\n",
              "12295                    NaN                    NaN         0.0\n",
              "\n",
              "[12296 rows x 3 columns]"
            ]
          },
          "metadata": {
            "tags": []
          },
          "execution_count": 47
        }
      ]
    },
    {
      "cell_type": "code",
      "metadata": {
        "colab_type": "code",
        "id": "5bRiPDyjH1n0",
        "colab": {
          "base_uri": "https://localhost:8080/",
          "height": 0
        },
        "outputId": "33257cca-47e4-4d72-81bc-34edc2cd021e"
      },
      "source": [
        "fig = plt.figure(figsize = (8,8))\n",
        "ax = fig.add_subplot(1,1,1) \n",
        "ax.set_xlabel('Principal Component 1', fontsize = 15)\n",
        "ax.set_ylabel('Principal Component 2', fontsize = 15)\n",
        "ax.set_title('2 component PCA', fontsize = 20)\n",
        "targets = ['LowSpread', 'Spread', 'SuperSpread']\n",
        "targets2 = np.unique(y_train)\n",
        "colors = ['r', 'g', 'b']\n",
        "for target, color in zip(targets2,colors):\n",
        "    print(target)\n",
        "    indicesToKeep = finalDf['label_code'] == target\n",
        "    ax.scatter(finalDf.loc[indicesToKeep, 'principal component 1']\n",
        "               , finalDf.loc[indicesToKeep, 'principal component 2']\n",
        "               , c = color\n",
        "               , s = 50)\n",
        "ax.legend(targets)\n",
        "ax.grid()"
      ],
      "execution_count": 48,
      "outputs": [
        {
          "output_type": "stream",
          "text": [
            "0\n",
            "1\n",
            "2\n"
          ],
          "name": "stdout"
        },
        {
          "output_type": "display_data",
          "data": {
            "image/png": "[encoded data removed]",
            "text/plain": [
              "<Figure size 576x576 with 1 Axes>"
            ]
          },
          "metadata": {
            "tags": [],
            "needs_background": "light"
          }
        }
      ]
    },
    {
      "cell_type": "code",
      "metadata": {
        "colab_type": "code",
        "id": "QEFfsLFiH1n1",
        "colab": {}
      },
      "source": [
        "#obtain the eigenpairs of the Wine covariance matrix:\n",
        "#data_cov = np.dot(np.transpose(data.values),data.values)\n",
        "#data_cov\n",
        "X_train_cov = np.cov(X_train_std.T)\n",
        "w, v = np.linalg.eig(X_train_cov)"
      ],
      "execution_count": 49,
      "outputs": []
    },
    {
      "cell_type": "code",
      "metadata": {
        "colab_type": "code",
        "id": "1zhis-3HH1n3",
        "colab": {
          "base_uri": "https://localhost:8080/",
          "height": 0
        },
        "outputId": "9dc406af-90c8-4088-c017-f3f8cd87bf63"
      },
      "source": [
        "#The percent of variability contained within each component\n",
        "w_percent = (w/np.sum(w))*100                 \n",
        "print(w, '-> eigenvalues')\n",
        "print(w_percent, ' -> percent of variability explained')"
      ],
      "execution_count": 50,
      "outputs": [
        {
          "output_type": "stream",
          "text": [
            "[6.74145823e+00 5.75030096e+00 4.14188612e+00 3.03704005e+00\n",
            " 1.63435905e+00 1.53175056e+00 1.18678274e+00 1.04036953e+00\n",
            " 7.16557132e-01 6.50683554e-01 5.90176535e-01 5.20427323e-01\n",
            " 4.50411362e-01 4.13690339e-01 3.56085335e-01 2.89448561e-01\n",
            " 2.00449524e-01 1.95188381e-01 1.30501774e-01 1.07518871e-01\n",
            " 8.30179027e-02 8.10024287e-02 5.49462840e-02 3.43888675e-02\n",
            " 2.41858184e-02 6.18808182e-05 3.72144523e-03 1.76676324e-02\n",
            " 8.65378556e-03 1.07661722e-02 0.00000000e+00 0.00000000e+00\n",
            " 0.00000000e+00] -> eigenvalues\n",
            "[2.24689075e+01 1.91654351e+01 1.38046774e+01 1.01222865e+01\n",
            " 5.44722832e+00 5.10523992e+00 3.95548123e+00 3.46749411e+00\n",
            " 2.38824529e+00 2.16869230e+00 1.96702575e+00 1.73455549e+00\n",
            " 1.50119616e+00 1.37880702e+00 1.18681273e+00 9.64716046e-01\n",
            " 6.68087180e-01 6.50552079e-01 4.34955197e-01 3.58354451e-01\n",
            " 2.76694079e-01 2.69976615e-01 1.83132926e-01 1.14616194e-01\n",
            " 8.06099953e-02 2.06245345e-04 1.24033711e-02 5.88852418e-02\n",
            " 2.88425887e-02 3.58830566e-02 0.00000000e+00 0.00000000e+00\n",
            " 0.00000000e+00]  -> percent of variability explained\n"
          ],
          "name": "stdout"
        }
      ]
    },
    {
      "cell_type": "code",
      "metadata": {
        "colab_type": "code",
        "id": "PNM0ssU3H1n5",
        "colab": {
          "base_uri": "https://localhost:8080/",
          "height": 0
        },
        "outputId": "755a7e96-1fe3-4d0f-fa95-385b1fd52f5b"
      },
      "source": [
        "# calculate cumulative sum of explained variances\n",
        "tot = sum(w)\n",
        "var_exp = [(i / tot) for i in sorted(w, reverse=True)]\n",
        "cum_var_exp = np.cumsum(var_exp)\n",
        "\n",
        "# plot explained variances\n",
        "plt.title(\"Component-wise and Cumulative Explained Variance\")\n",
        "plt.bar(range(0,33), var_exp, alpha=0.5,\n",
        "        align='center', label='individual explained variance')\n",
        "plt.step(range(0,33), cum_var_exp, where='mid',\n",
        "         label='Percentage of variability explained')\n",
        "plt.ylabel('Explained variance ratio')\n",
        "plt.xlabel('Principal component index')\n",
        "plt.legend(loc='best')\n",
        "plt.show()"
      ],
      "execution_count": 51,
      "outputs": [
        {
          "output_type": "display_data",
          "data": {
            "image/png": "[encoded data removed]",
            "text/plain": [
              "<Figure size 432x288 with 1 Axes>"
            ]
          },
          "metadata": {
            "tags": [],
            "needs_background": "light"
          }
        }
      ]
    },
    {
      "cell_type": "code",
      "metadata": {
        "colab_type": "code",
        "id": "wQh4CAgfH1n7",
        "colab": {
          "base_uri": "https://localhost:8080/",
          "height": 0
        },
        "outputId": "f1d7e674-8af5-4acc-fcb1-44900818a5c9"
      },
      "source": [
        "# Make a list of (eigenvalue, eigenvector) tuples\n",
        "eigen_pairs = [(np.abs(w[i]), v[:, i]) for i in range(len(w))]\n",
        "\n",
        "# Sort the (eigenvalue, eigenvector) tuples from high to low\n",
        "eigen_pairs.sort(key=lambda k: k[0], reverse=True)\n",
        "w2 = np.hstack((eigen_pairs[0][1][:, np.newaxis], eigen_pairs[1][1][:, np.newaxis]))\n",
        "print('Matrix W2:\\n', w2)"
      ],
      "execution_count": 52,
      "outputs": [
        {
          "output_type": "stream",
          "text": [
            "Matrix W2:\n",
            " [[ 0.20557639 -0.24887588]\n",
            " [ 0.24898512  0.27388662]\n",
            " [ 0.24306277  0.26782167]\n",
            " [-0.22526388 -0.2518293 ]\n",
            " [ 0.02510662 -0.07804775]\n",
            " [ 0.02226508 -0.03748149]\n",
            " [-0.04687539 -0.26387877]\n",
            " [-0.22820154 -0.01678148]\n",
            " [-0.17026964 -0.28020473]\n",
            " [-0.15977308 -0.2804346 ]\n",
            " [ 0.08819499  0.1693746 ]\n",
            " [ 0.00757221 -0.05984821]\n",
            " [ 0.0855534   0.16748428]\n",
            " [ 0.0176407   0.08005517]\n",
            " [-0.03967367 -0.01111284]\n",
            " [-0.01317277 -0.04341505]\n",
            " [ 0.08515242  0.18912137]\n",
            " [ 0.09038561  0.19208488]\n",
            " [ 0.06435948  0.0578587 ]\n",
            " [ 0.          0.        ]\n",
            " [ 0.          0.        ]\n",
            " [ 0.          0.        ]\n",
            " [ 0.0044419  -0.06506623]\n",
            " [ 0.22982818 -0.2702898 ]\n",
            " [ 0.19109433  0.14989808]\n",
            " [ 0.29677316 -0.16142289]\n",
            " [ 0.32643622 -0.02139502]\n",
            " [-0.01771375 -0.11489284]\n",
            " [ 0.29403112 -0.18949335]\n",
            " [ 0.12434153  0.13945553]\n",
            " [ 0.23690239 -0.27867175]\n",
            " [ 0.31588643 -0.1847491 ]\n",
            " [ 0.31160544 -0.20484769]]\n"
          ],
          "name": "stdout"
        }
      ]
    },
    {
      "cell_type": "code",
      "metadata": {
        "colab_type": "code",
        "id": "gu3mx19IH1n9",
        "colab": {
          "base_uri": "https://localhost:8080/",
          "height": 0
        },
        "outputId": "aefb7e7d-629f-434d-bd16-7a8315f80697"
      },
      "source": [
        "X_train_pca = X_train_std.dot(w2)\n",
        "print(X_train_pca)"
      ],
      "execution_count": 53,
      "outputs": [
        {
          "output_type": "stream",
          "text": [
            "[[ 1.45358628 -1.0303489 ]\n",
            " [ 3.5555724  -1.08924587]\n",
            " [ 3.96451167  2.57510508]\n",
            " ...\n",
            " [-3.32973673  0.96328197]\n",
            " [ 1.35756268  1.86474401]\n",
            " [ 3.59920626  4.80550456]]\n"
          ],
          "name": "stdout"
        }
      ]
    },
    {
      "cell_type": "code",
      "metadata": {
        "colab_type": "code",
        "id": "laotJxepH1n-",
        "colab": {
          "base_uri": "https://localhost:8080/",
          "height": 0
        },
        "outputId": "9ed04fec-1e03-4ed0-9e7f-97d59ebefb05"
      },
      "source": [
        "np.unique(y_train)\n",
        "X_train_pca"
      ],
      "execution_count": 54,
      "outputs": [
        {
          "output_type": "execute_result",
          "data": {
            "text/plain": [
              "array([[ 1.45358628, -1.0303489 ],\n",
              "       [ 3.5555724 , -1.08924587],\n",
              "       [ 3.96451167,  2.57510508],\n",
              "       ...,\n",
              "       [-3.32973673,  0.96328197],\n",
              "       [ 1.35756268,  1.86474401],\n",
              "       [ 3.59920626,  4.80550456]])"
            ]
          },
          "metadata": {
            "tags": []
          },
          "execution_count": 54
        }
      ]
    },
    {
      "cell_type": "markdown",
      "metadata": {
        "id": "GFQjBiuhlzE3",
        "colab_type": "text"
      },
      "source": [
        "# Selecting three counties in CA\n",
        "* Los Angeles\n",
        "* Riverside\n",
        "* San Bernardino"
      ]
    },
    {
      "cell_type": "markdown",
      "metadata": {
        "id": "CmlAQssCokk1",
        "colab_type": "text"
      },
      "source": [
        "### Filtered data for county - From Combined Dataset"
      ]
    },
    {
      "cell_type": "code",
      "metadata": {
        "id": "ih0kX50lnoa1",
        "colab_type": "code",
        "colab": {
          "base_uri": "https://localhost:8080/",
          "height": 67
        },
        "outputId": "a3703806-8a6c-48e3-eb21-1aca6723ea48"
      },
      "source": [
        "Nassau_county_data = CA_labeled_data[CA_labeled_data['County Name'] == 'Los Angeles County']\n",
        "Westchester_county_data = CA_labeled_data[CA_labeled_data['County Name'] == 'Riverside County']\n",
        "Suffolk_county_data = CA_labeled_data[CA_labeled_data['County Name'] == 'San Bernardino County']\n",
        "\n",
        "print(' Nassau county data ',Nassau_county_data.shape)\n",
        "print(' Westchester county data ',Westchester_county_data.shape)\n",
        "print(' Suffolk county data ',Suffolk_county_data.shape)"
      ],
      "execution_count": 55,
      "outputs": [
        {
          "output_type": "stream",
          "text": [
            " Nassau county data  (172, 21)\n",
            " Westchester county data  (172, 21)\n",
            " Suffolk county data  (172, 21)\n"
          ],
          "name": "stdout"
        }
      ]
    },
    {
      "cell_type": "markdown",
      "metadata": {
        "id": "LdNV4ruJpcWF",
        "colab_type": "text"
      },
      "source": [
        "# Note about growth label\n",
        "\n",
        "growth_code| label\n",
        "----|----\n",
        " 0 | drastic decrement\n",
        " 1 | drastic growth\n",
        " 2 | flat\n",
        " 3 | mild decrement\n",
        " 4 | mild increment\n",
        "\n",
        "\n",
        "\n"
      ]
    },
    {
      "cell_type": "markdown",
      "metadata": {
        "id": "CHT_tjaLy-LP",
        "colab_type": "text"
      },
      "source": [
        "# Los Angeles County\n"
      ]
    },
    {
      "cell_type": "code",
      "metadata": {
        "id": "0iUouFZVo7Tv",
        "colab_type": "code",
        "colab": {
          "base_uri": "https://localhost:8080/",
          "height": 118
        },
        "outputId": "c07ad4fe-6107-45ee-b429-bdd124566dca"
      },
      "source": [
        "feature_labels = ['retail and recreation','grocery and pharmacy','parks','transit stations','workplaces','residential','driving','m50','m50_index',\n",
        "               'population_density','mask_rule_active']\n",
        "\n",
        "target_column = ['label_code']\n",
        "\n",
        "print(Nassau_county_data['growth_code'].unique())\n",
        "\n",
        "Nassau_county_data_growth0 = Nassau_county_data[Nassau_county_data['growth_code'] == 0]\n",
        "Nassau_county_data_growth1 = Nassau_county_data[Nassau_county_data['growth_code'] == 1]\n",
        "Nassau_county_data_growth2 = Nassau_county_data[Nassau_county_data['growth_code'] == 2]\n",
        "Nassau_county_data_growth3 = Nassau_county_data[Nassau_county_data['growth_code'] == 3]\n",
        "Nassau_county_data_growth4 = Nassau_county_data[Nassau_county_data['growth_code'] == 4]\n",
        "\n",
        "print(Nassau_county_data_growth0.shape)\n",
        "print(Nassau_county_data_growth1.shape)\n",
        "print(Nassau_county_data_growth2.shape)\n",
        "print(Nassau_county_data_growth3.shape)\n",
        "print(Nassau_county_data_growth4.shape)"
      ],
      "execution_count": 58,
      "outputs": [
        {
          "output_type": "stream",
          "text": [
            "[2 1 4 3 0]\n",
            "(14, 21)\n",
            "(14, 21)\n",
            "(14, 21)\n",
            "(14, 21)\n",
            "(116, 21)\n"
          ],
          "name": "stdout"
        }
      ]
    },
    {
      "cell_type": "code",
      "metadata": {
        "id": "IhHARRTts6bl",
        "colab_type": "code",
        "colab": {
          "base_uri": "https://localhost:8080/",
          "height": 417
        },
        "outputId": "63060b97-0b0f-4499-b22a-f586c2120f79"
      },
      "source": [
        "Nassau_county_data.head()"
      ],
      "execution_count": 57,
      "outputs": [
        {
          "output_type": "execute_result",
          "data": {
            "text/html": [
              "<div>\n",
              "<style scoped>\n",
              "    .dataframe tbody tr th:only-of-type {\n",
              "        vertical-align: middle;\n",
              "    }\n",
              "\n",
              "    .dataframe tbody tr th {\n",
              "        vertical-align: top;\n",
              "    }\n",
              "\n",
              "    .dataframe thead th {\n",
              "        text-align: right;\n",
              "    }\n",
              "</style>\n",
              "<table border=\"1\" class=\"dataframe\">\n",
              "  <thead>\n",
              "    <tr style=\"text-align: right;\">\n",
              "      <th></th>\n",
              "      <th>Date</th>\n",
              "      <th>fips_x</th>\n",
              "      <th>County Name</th>\n",
              "      <th>retail and recreation</th>\n",
              "      <th>grocery and pharmacy</th>\n",
              "      <th>parks</th>\n",
              "      <th>transit stations</th>\n",
              "      <th>workplaces</th>\n",
              "      <th>residential</th>\n",
              "      <th>driving</th>\n",
              "      <th>m50</th>\n",
              "      <th>m50_index</th>\n",
              "      <th>population_density</th>\n",
              "      <th>mask_rule_active</th>\n",
              "      <th>mask_wearing_percent</th>\n",
              "      <th>New cases</th>\n",
              "      <th>rolling_avg_new_cases</th>\n",
              "      <th>label</th>\n",
              "      <th>growth_label</th>\n",
              "      <th>label_code</th>\n",
              "      <th>growth_code</th>\n",
              "    </tr>\n",
              "  </thead>\n",
              "  <tbody>\n",
              "    <tr>\n",
              "      <th>38</th>\n",
              "      <td>2020-03-01</td>\n",
              "      <td>6037</td>\n",
              "      <td>Los Angeles County</td>\n",
              "      <td>4.0</td>\n",
              "      <td>3.0</td>\n",
              "      <td>-5.0</td>\n",
              "      <td>-3.0</td>\n",
              "      <td>1.0</td>\n",
              "      <td>0.0</td>\n",
              "      <td>-4.36</td>\n",
              "      <td>3.996</td>\n",
              "      <td>60</td>\n",
              "      <td>2473.978284</td>\n",
              "      <td>0</td>\n",
              "      <td>0.0</td>\n",
              "      <td>0</td>\n",
              "      <td>0.0</td>\n",
              "      <td>LessSpread</td>\n",
              "      <td>flat_growth</td>\n",
              "      <td>0</td>\n",
              "      <td>2</td>\n",
              "    </tr>\n",
              "    <tr>\n",
              "      <th>93</th>\n",
              "      <td>2020-03-02</td>\n",
              "      <td>6037</td>\n",
              "      <td>Los Angeles County</td>\n",
              "      <td>5.0</td>\n",
              "      <td>5.0</td>\n",
              "      <td>8.0</td>\n",
              "      <td>1.0</td>\n",
              "      <td>4.0</td>\n",
              "      <td>-1.0</td>\n",
              "      <td>7.51</td>\n",
              "      <td>6.502</td>\n",
              "      <td>98</td>\n",
              "      <td>2473.978284</td>\n",
              "      <td>0</td>\n",
              "      <td>0.0</td>\n",
              "      <td>0</td>\n",
              "      <td>0.0</td>\n",
              "      <td>LessSpread</td>\n",
              "      <td>flat_growth</td>\n",
              "      <td>0</td>\n",
              "      <td>2</td>\n",
              "    </tr>\n",
              "    <tr>\n",
              "      <th>115</th>\n",
              "      <td>2020-03-03</td>\n",
              "      <td>6037</td>\n",
              "      <td>Los Angeles County</td>\n",
              "      <td>8.0</td>\n",
              "      <td>7.0</td>\n",
              "      <td>32.0</td>\n",
              "      <td>2.0</td>\n",
              "      <td>3.0</td>\n",
              "      <td>-1.0</td>\n",
              "      <td>17.24</td>\n",
              "      <td>6.591</td>\n",
              "      <td>99</td>\n",
              "      <td>2473.978284</td>\n",
              "      <td>0</td>\n",
              "      <td>0.0</td>\n",
              "      <td>0</td>\n",
              "      <td>0.0</td>\n",
              "      <td>LessSpread</td>\n",
              "      <td>flat_growth</td>\n",
              "      <td>0</td>\n",
              "      <td>2</td>\n",
              "    </tr>\n",
              "    <tr>\n",
              "      <th>196</th>\n",
              "      <td>2020-03-04</td>\n",
              "      <td>6037</td>\n",
              "      <td>Los Angeles County</td>\n",
              "      <td>4.0</td>\n",
              "      <td>6.0</td>\n",
              "      <td>9.0</td>\n",
              "      <td>-1.0</td>\n",
              "      <td>2.0</td>\n",
              "      <td>0.0</td>\n",
              "      <td>13.82</td>\n",
              "      <td>6.595</td>\n",
              "      <td>100</td>\n",
              "      <td>2473.978284</td>\n",
              "      <td>0</td>\n",
              "      <td>0.0</td>\n",
              "      <td>6</td>\n",
              "      <td>0.0</td>\n",
              "      <td>LessSpread</td>\n",
              "      <td>flat_growth</td>\n",
              "      <td>0</td>\n",
              "      <td>2</td>\n",
              "    </tr>\n",
              "    <tr>\n",
              "      <th>267</th>\n",
              "      <td>2020-03-05</td>\n",
              "      <td>6037</td>\n",
              "      <td>Los Angeles County</td>\n",
              "      <td>4.0</td>\n",
              "      <td>7.0</td>\n",
              "      <td>9.0</td>\n",
              "      <td>0.0</td>\n",
              "      <td>2.0</td>\n",
              "      <td>0.0</td>\n",
              "      <td>22.17</td>\n",
              "      <td>7.008</td>\n",
              "      <td>106</td>\n",
              "      <td>2473.978284</td>\n",
              "      <td>0</td>\n",
              "      <td>0.0</td>\n",
              "      <td>4</td>\n",
              "      <td>0.0</td>\n",
              "      <td>LessSpread</td>\n",
              "      <td>flat_growth</td>\n",
              "      <td>0</td>\n",
              "      <td>2</td>\n",
              "    </tr>\n",
              "  </tbody>\n",
              "</table>\n",
              "</div>"
            ],
            "text/plain": [
              "           Date  fips_x  ... label_code  growth_code\n",
              "38   2020-03-01    6037  ...          0            2\n",
              "93   2020-03-02    6037  ...          0            2\n",
              "115  2020-03-03    6037  ...          0            2\n",
              "196  2020-03-04    6037  ...          0            2\n",
              "267  2020-03-05    6037  ...          0            2\n",
              "\n",
              "[5 rows x 21 columns]"
            ]
          },
          "metadata": {
            "tags": []
          },
          "execution_count": 57
        }
      ]
    },
    {
      "cell_type": "markdown",
      "metadata": {
        "id": "lQm7s7zWq_cY",
        "colab_type": "text"
      },
      "source": [
        "## 1.Drastic Decrement"
      ]
    },
    {
      "cell_type": "code",
      "metadata": {
        "id": "-qCwy-3n9glz",
        "colab_type": "code",
        "colab": {
          "base_uri": "https://localhost:8080/",
          "height": 490
        },
        "outputId": "052a7ef4-0cd1-4035-bdc4-a606b954e85b"
      },
      "source": [
        "from sklearn.ensemble import RandomForestRegressor\n",
        "print(\"** Printing Los Angeles county data for drastic decrement ** \")\n",
        "\n",
        "X = Nassau_county_data_growth0[feature_labels]\n",
        "y = Nassau_county_data_growth0[target_column]\n",
        "print(X.shape)\n",
        "\n",
        "X_train, X_test, y_train, y_test = train_test_split(X, y, test_size=0.4, random_state=0)\n",
        "\n",
        "\n",
        "# Create a random forest classifier\n",
        "clf = RandomForestClassifier(n_estimators=10000, random_state=0, n_jobs=-1)\n",
        "\n",
        "# Train the classifier\n",
        "clf.fit(X_train, y_train)\n",
        "\n",
        "# Print the name and gini importance of each feature\n",
        "for feature in zip(feature_labels, clf.feature_importances_):\n",
        "    print(feature)\n",
        "\n",
        "\n",
        "\n",
        "#  Supported criteria are “gini” for the Gini impurity and “entropy” for the information gain. \n",
        "\n",
        "clf = RandomForestClassifier(n_estimators=10000, random_state=0,criterion='entropy',min_samples_leaf=5, n_jobs=-1)\n",
        "\n",
        "\n",
        "# Train the classifier\n",
        "clf.fit(X_train, y_train)\n",
        "\n",
        "# Print the name and gini importance of each feature\n",
        "for feature in zip(feature_labels, clf.feature_importances_):\n",
        "    print(feature)\n",
        "\n",
        "#print(sorted(zip(clf.feature_importances_, feature_labels), reverse=True))"
      ],
      "execution_count": 73,
      "outputs": [
        {
          "output_type": "stream",
          "text": [
            "** Printing Los Angeles county data for drastic decrement ** \n",
            "(14, 11)\n"
          ],
          "name": "stdout"
        },
        {
          "output_type": "stream",
          "text": [
            "/usr/local/lib/python3.6/dist-packages/ipykernel_launcher.py:15: DataConversionWarning: A column-vector y was passed when a 1d array was expected. Please change the shape of y to (n_samples,), for example using ravel().\n",
            "  from ipykernel import kernelapp as app\n"
          ],
          "name": "stderr"
        },
        {
          "output_type": "stream",
          "text": [
            "('retail and recreation', 0.0)\n",
            "('grocery and pharmacy', 0.0)\n",
            "('parks', 0.0)\n",
            "('transit stations', 0.0)\n",
            "('workplaces', 0.0)\n",
            "('residential', 0.0)\n",
            "('driving', 0.0)\n",
            "('m50', 0.0)\n",
            "('m50_index', 0.0)\n",
            "('population_density', 0.0)\n",
            "('mask_rule_active', 0.0)\n"
          ],
          "name": "stdout"
        },
        {
          "output_type": "stream",
          "text": [
            "/usr/local/lib/python3.6/dist-packages/ipykernel_launcher.py:29: DataConversionWarning: A column-vector y was passed when a 1d array was expected. Please change the shape of y to (n_samples,), for example using ravel().\n"
          ],
          "name": "stderr"
        },
        {
          "output_type": "stream",
          "text": [
            "('retail and recreation', 0.0)\n",
            "('grocery and pharmacy', 0.0)\n",
            "('parks', 0.0)\n",
            "('transit stations', 0.0)\n",
            "('workplaces', 0.0)\n",
            "('residential', 0.0)\n",
            "('driving', 0.0)\n",
            "('m50', 0.0)\n",
            "('m50_index', 0.0)\n",
            "('population_density', 0.0)\n",
            "('mask_rule_active', 0.0)\n"
          ],
          "name": "stdout"
        }
      ]
    },
    {
      "cell_type": "markdown",
      "metadata": {
        "id": "y_eRc0Ne-Tyo",
        "colab_type": "text"
      },
      "source": [
        "## 2.Drastic Growth"
      ]
    },
    {
      "cell_type": "code",
      "metadata": {
        "id": "qxeItEjurTri",
        "colab_type": "code",
        "colab": {
          "base_uri": "https://localhost:8080/",
          "height": 490
        },
        "outputId": "6009f3ba-41fd-4a08-a9ef-0ea1905d82e4"
      },
      "source": [
        "print(\"** Printing Los Angeles county data for drastic growth ** \")\n",
        "\n",
        "X = Nassau_county_data_growth1[feature_labels]\n",
        "y = Nassau_county_data_growth1[target_column]\n",
        "print(X.shape)\n",
        "\n",
        "X_train, X_test, y_train, y_test = train_test_split(X, y, test_size=0.4, random_state=0)\n",
        "\n",
        "\n",
        "# Create a random forest classifier\n",
        "clf = RandomForestClassifier(n_estimators=10000, random_state=0, n_jobs=-1)\n",
        "\n",
        "# Train the classifier\n",
        "clf.fit(X_train, y_train)\n",
        "\n",
        "# Print the name and gini importance of each feature\n",
        "for feature in zip(feature_labels, clf.feature_importances_):\n",
        "    print(feature)\n",
        "\n",
        "\n",
        "\n",
        "#  Supported criteria are “gini” for the Gini impurity and “entropy” for the information gain. \n",
        "\n",
        "clf = RandomForestClassifier(n_estimators=10000, random_state=0,criterion='entropy', n_jobs=-1)\n",
        "\n",
        "# Train the classifier\n",
        "clf.fit(X_train, y_train)\n",
        "\n",
        "# Print the name and gini importance of each feature\n",
        "for feature in zip(feature_labels, clf.feature_importances_):\n",
        "    print(feature)\n"
      ],
      "execution_count": 59,
      "outputs": [
        {
          "output_type": "stream",
          "text": [
            "** Printing Nassay county data for drastic growth ** \n",
            "(14, 11)\n"
          ],
          "name": "stdout"
        },
        {
          "output_type": "stream",
          "text": [
            "/usr/local/lib/python3.6/dist-packages/ipykernel_launcher.py:14: DataConversionWarning: A column-vector y was passed when a 1d array was expected. Please change the shape of y to (n_samples,), for example using ravel().\n",
            "  \n"
          ],
          "name": "stderr"
        },
        {
          "output_type": "stream",
          "text": [
            "('retail and recreation', 0.0)\n",
            "('grocery and pharmacy', 0.0)\n",
            "('parks', 0.0)\n",
            "('transit stations', 0.0)\n",
            "('workplaces', 0.0)\n",
            "('residential', 0.0)\n",
            "('driving', 0.0)\n",
            "('m50', 0.0)\n",
            "('m50_index', 0.0)\n",
            "('population_density', 0.0)\n",
            "('mask_rule_active', 0.0)\n"
          ],
          "name": "stdout"
        },
        {
          "output_type": "stream",
          "text": [
            "/usr/local/lib/python3.6/dist-packages/ipykernel_launcher.py:27: DataConversionWarning: A column-vector y was passed when a 1d array was expected. Please change the shape of y to (n_samples,), for example using ravel().\n"
          ],
          "name": "stderr"
        },
        {
          "output_type": "stream",
          "text": [
            "('retail and recreation', 0.0)\n",
            "('grocery and pharmacy', 0.0)\n",
            "('parks', 0.0)\n",
            "('transit stations', 0.0)\n",
            "('workplaces', 0.0)\n",
            "('residential', 0.0)\n",
            "('driving', 0.0)\n",
            "('m50', 0.0)\n",
            "('m50_index', 0.0)\n",
            "('population_density', 0.0)\n",
            "('mask_rule_active', 0.0)\n"
          ],
          "name": "stdout"
        }
      ]
    },
    {
      "cell_type": "markdown",
      "metadata": {
        "id": "xjvQguTv-bct",
        "colab_type": "text"
      },
      "source": [
        "## 3.Flat Growth"
      ]
    },
    {
      "cell_type": "code",
      "metadata": {
        "id": "fOgGiAfVr-eN",
        "colab_type": "code",
        "colab": {
          "base_uri": "https://localhost:8080/",
          "height": 474
        },
        "outputId": "040bcf3d-cf63-4190-8a8c-633b411bcbde"
      },
      "source": [
        "print(\"** Printing Los Angeles county data for flat growth ** \")\n",
        "\n",
        "X = Nassau_county_data_growth2[feature_labels]\n",
        "y = Nassau_county_data_growth2[target_column]\n",
        "\n",
        "X_train, X_test, y_train, y_test = train_test_split(X, y, test_size=0.4, random_state=0)\n",
        "\n",
        "\n",
        "# Create a random forest classifier\n",
        "clf = RandomForestClassifier(n_estimators=10000, random_state=0, n_jobs=-1)\n",
        "\n",
        "# Train the classifier\n",
        "clf.fit(X_train, y_train)\n",
        "\n",
        "# Print the name and gini importance of each feature\n",
        "for feature in zip(feature_labels, clf.feature_importances_):\n",
        "    print(feature)\n",
        "\n",
        "\n",
        "\n",
        "#  Supported criteria are “gini” for the Gini impurity and “entropy” for the information gain. \n",
        "\n",
        "clf = RandomForestClassifier(n_estimators=10000, random_state=0,criterion='entropy', n_jobs=-1)\n",
        "\n",
        "# Train the classifier\n",
        "clf.fit(X_train, y_train)\n",
        "\n",
        "# Print the name and gini importance of each feature\n",
        "for feature in zip(feature_labels, clf.feature_importances_):\n",
        "    print(feature)\n"
      ],
      "execution_count": 60,
      "outputs": [
        {
          "output_type": "stream",
          "text": [
            "** Printing Los Angeles county data for flat growth ** \n"
          ],
          "name": "stdout"
        },
        {
          "output_type": "stream",
          "text": [
            "/usr/local/lib/python3.6/dist-packages/ipykernel_launcher.py:13: DataConversionWarning: A column-vector y was passed when a 1d array was expected. Please change the shape of y to (n_samples,), for example using ravel().\n",
            "  del sys.path[0]\n"
          ],
          "name": "stderr"
        },
        {
          "output_type": "stream",
          "text": [
            "('retail and recreation', 0.0)\n",
            "('grocery and pharmacy', 0.0)\n",
            "('parks', 0.0)\n",
            "('transit stations', 0.0)\n",
            "('workplaces', 0.0)\n",
            "('residential', 0.0)\n",
            "('driving', 0.0)\n",
            "('m50', 0.0)\n",
            "('m50_index', 0.0)\n",
            "('population_density', 0.0)\n",
            "('mask_rule_active', 0.0)\n"
          ],
          "name": "stdout"
        },
        {
          "output_type": "stream",
          "text": [
            "/usr/local/lib/python3.6/dist-packages/ipykernel_launcher.py:26: DataConversionWarning: A column-vector y was passed when a 1d array was expected. Please change the shape of y to (n_samples,), for example using ravel().\n"
          ],
          "name": "stderr"
        },
        {
          "output_type": "stream",
          "text": [
            "('retail and recreation', 0.0)\n",
            "('grocery and pharmacy', 0.0)\n",
            "('parks', 0.0)\n",
            "('transit stations', 0.0)\n",
            "('workplaces', 0.0)\n",
            "('residential', 0.0)\n",
            "('driving', 0.0)\n",
            "('m50', 0.0)\n",
            "('m50_index', 0.0)\n",
            "('population_density', 0.0)\n",
            "('mask_rule_active', 0.0)\n"
          ],
          "name": "stdout"
        }
      ]
    },
    {
      "cell_type": "markdown",
      "metadata": {
        "id": "v0z1roc7-sRQ",
        "colab_type": "text"
      },
      "source": [
        "## 4.Mild Decrement"
      ]
    },
    {
      "cell_type": "code",
      "metadata": {
        "id": "vHc18U_Yr_TQ",
        "colab_type": "code",
        "colab": {
          "base_uri": "https://localhost:8080/",
          "height": 474
        },
        "outputId": "0ac614f6-3b5e-4f5e-b18a-b4a5d9577cdf"
      },
      "source": [
        "print(\"** Printing Los Angeles county data for mild decrement ** \")\n",
        "\n",
        "X = Nassau_county_data_growth3[feature_labels]\n",
        "y = Nassau_county_data_growth3[target_column]\n",
        "\n",
        "X_train, X_test, y_train, y_test = train_test_split(X, y, test_size=0.4, random_state=0)\n",
        "\n",
        "\n",
        "# Create a random forest classifier\n",
        "clf = RandomForestClassifier(n_estimators=10000, random_state=0, n_jobs=-1)\n",
        "\n",
        "# Train the classifier\n",
        "clf.fit(X_train, y_train)\n",
        "\n",
        "# Print the name and gini importance of each feature\n",
        "for feature in zip(feature_labels, clf.feature_importances_):\n",
        "    print(feature)\n",
        "\n",
        "\n",
        "\n",
        "#  Supported criteria are “gini” for the Gini impurity and “entropy” for the information gain. \n",
        "\n",
        "clf = RandomForestClassifier(n_estimators=10000, random_state=0,criterion='entropy', n_jobs=-1)\n",
        "\n",
        "# Train the classifier\n",
        "clf.fit(X_train, y_train)\n",
        "\n",
        "# Print the name and gini importance of each feature\n",
        "for feature in zip(feature_labels, clf.feature_importances_):\n",
        "    print(feature)\n"
      ],
      "execution_count": 61,
      "outputs": [
        {
          "output_type": "stream",
          "text": [
            "** Printing Los Angeles county data for mild decrement ** \n"
          ],
          "name": "stdout"
        },
        {
          "output_type": "stream",
          "text": [
            "/usr/local/lib/python3.6/dist-packages/ipykernel_launcher.py:13: DataConversionWarning: A column-vector y was passed when a 1d array was expected. Please change the shape of y to (n_samples,), for example using ravel().\n",
            "  del sys.path[0]\n"
          ],
          "name": "stderr"
        },
        {
          "output_type": "stream",
          "text": [
            "('retail and recreation', 0.0)\n",
            "('grocery and pharmacy', 0.0)\n",
            "('parks', 0.0)\n",
            "('transit stations', 0.0)\n",
            "('workplaces', 0.0)\n",
            "('residential', 0.0)\n",
            "('driving', 0.0)\n",
            "('m50', 0.0)\n",
            "('m50_index', 0.0)\n",
            "('population_density', 0.0)\n",
            "('mask_rule_active', 0.0)\n"
          ],
          "name": "stdout"
        },
        {
          "output_type": "stream",
          "text": [
            "/usr/local/lib/python3.6/dist-packages/ipykernel_launcher.py:26: DataConversionWarning: A column-vector y was passed when a 1d array was expected. Please change the shape of y to (n_samples,), for example using ravel().\n"
          ],
          "name": "stderr"
        },
        {
          "output_type": "stream",
          "text": [
            "('retail and recreation', 0.0)\n",
            "('grocery and pharmacy', 0.0)\n",
            "('parks', 0.0)\n",
            "('transit stations', 0.0)\n",
            "('workplaces', 0.0)\n",
            "('residential', 0.0)\n",
            "('driving', 0.0)\n",
            "('m50', 0.0)\n",
            "('m50_index', 0.0)\n",
            "('population_density', 0.0)\n",
            "('mask_rule_active', 0.0)\n"
          ],
          "name": "stdout"
        }
      ]
    },
    {
      "cell_type": "markdown",
      "metadata": {
        "id": "M4zS3LJT-2GF",
        "colab_type": "text"
      },
      "source": [
        "## 5.Mild Increment"
      ]
    },
    {
      "cell_type": "code",
      "metadata": {
        "id": "9p-MEfVVr_80",
        "colab_type": "code",
        "colab": {
          "base_uri": "https://localhost:8080/",
          "height": 474
        },
        "outputId": "a49f9b6c-bf5f-4856-a60d-e913eeff5ca4"
      },
      "source": [
        "print(\"** Printing Los Angeles county data for mild increment ** \")\n",
        "\n",
        "X = Nassau_county_data_growth4[feature_labels]\n",
        "y = Nassau_county_data_growth4[target_column]\n",
        "\n",
        "X_train, X_test, y_train, y_test = train_test_split(X, y, test_size=0.4, random_state=0)\n",
        "\n",
        "\n",
        "# Create a random forest classifier\n",
        "clf = RandomForestClassifier(n_estimators=10000, random_state=0, n_jobs=-1)\n",
        "\n",
        "# Train the classifier\n",
        "clf.fit(X_train, y_train)\n",
        "\n",
        "# Print the name and gini importance of each feature\n",
        "for feature in zip(feature_labels, clf.feature_importances_):\n",
        "    print(feature)\n",
        "\n",
        "\n",
        "\n",
        "#  Supported criteria are “gini” for the Gini impurity and “entropy” for the information gain. \n",
        "\n",
        "clf = RandomForestClassifier(n_estimators=10000, random_state=0,criterion='entropy', n_jobs=-1)\n",
        "\n",
        "# Train the classifier\n",
        "clf.fit(X_train, y_train)\n",
        "\n",
        "# Print the name and gini importance of each feature\n",
        "for feature in zip(feature_labels, clf.feature_importances_):\n",
        "    print(feature)\n"
      ],
      "execution_count": 62,
      "outputs": [
        {
          "output_type": "stream",
          "text": [
            "** Printing Los Angeles county data for mild increment ** \n"
          ],
          "name": "stdout"
        },
        {
          "output_type": "stream",
          "text": [
            "/usr/local/lib/python3.6/dist-packages/ipykernel_launcher.py:14: DataConversionWarning: A column-vector y was passed when a 1d array was expected. Please change the shape of y to (n_samples,), for example using ravel().\n",
            "  \n"
          ],
          "name": "stderr"
        },
        {
          "output_type": "stream",
          "text": [
            "('retail and recreation', 0.06977419107960707)\n",
            "('grocery and pharmacy', 0.08958726073268687)\n",
            "('parks', 0.09709231830075055)\n",
            "('transit stations', 0.12735764877310102)\n",
            "('workplaces', 0.19437144913321447)\n",
            "('residential', 0.1570366637876121)\n",
            "('driving', 0.17475272615952686)\n",
            "('m50', 0.05960071056892935)\n",
            "('m50_index', 0.03026002731603643)\n",
            "('population_density', 0.0)\n",
            "('mask_rule_active', 0.0001670041485351708)\n"
          ],
          "name": "stdout"
        },
        {
          "output_type": "stream",
          "text": [
            "/usr/local/lib/python3.6/dist-packages/ipykernel_launcher.py:27: DataConversionWarning: A column-vector y was passed when a 1d array was expected. Please change the shape of y to (n_samples,), for example using ravel().\n"
          ],
          "name": "stderr"
        },
        {
          "output_type": "stream",
          "text": [
            "('retail and recreation', 0.06576386068986492)\n",
            "('grocery and pharmacy', 0.0880660315867933)\n",
            "('parks', 0.1202643696232466)\n",
            "('transit stations', 0.15405773977092102)\n",
            "('workplaces', 0.1633555823672173)\n",
            "('residential', 0.1257757663975504)\n",
            "('driving', 0.20123168213944198)\n",
            "('m50', 0.05197989936984577)\n",
            "('m50_index', 0.02931120620839816)\n",
            "('population_density', 0.0)\n",
            "('mask_rule_active', 0.0001938618467205205)\n"
          ],
          "name": "stdout"
        }
      ]
    },
    {
      "cell_type": "markdown",
      "metadata": {
        "id": "V3iG473ouCfD",
        "colab_type": "text"
      },
      "source": [
        "## Correlation map"
      ]
    },
    {
      "cell_type": "code",
      "metadata": {
        "id": "KiDL-frruEns",
        "colab_type": "code",
        "colab": {
          "base_uri": "https://localhost:8080/",
          "height": 697
        },
        "outputId": "3e98ab0e-cd2d-4aa1-8668-0614114bf427"
      },
      "source": [
        "\n",
        "\n",
        "# Correlation\n",
        "\n",
        "corr = Nassau_county_data.corr()\n",
        "g = sns.heatmap(corr, vmax=.9, center=0,\n",
        "               square=True, linewidths=1.5, cbar_kws={\"shrink\": .8}, annot=True, fmt='.2f', cmap='coolwarm')\n",
        "bottom, top = g.get_ylim()\n",
        "g.set_ylim(bottom + 0.5, top - 0.5)\n",
        "sns.despine()\n",
        "g.figure.set_size_inches(16, 10)"
      ],
      "execution_count": 67,
      "outputs": [
        {
          "output_type": "display_data",
          "data": {
            "image/png": "[encoded data removed]",
            "text/plain": [
              "<Figure size 1152x720 with 2 Axes>"
            ]
          },
          "metadata": {
            "tags": [],
            "needs_background": "light"
          }
        }
      ]
    },
    {
      "cell_type": "markdown",
      "metadata": {
        "id": "YI-QYT9QJynf",
        "colab_type": "text"
      },
      "source": [
        "# Feature Importance: Using ExtraTreesClassifier"
      ]
    },
    {
      "cell_type": "code",
      "metadata": {
        "id": "g5U5OO9zLbqe",
        "colab_type": "code",
        "colab": {}
      },
      "source": [
        "from sklearn.ensemble import ExtraTreesClassifier\n",
        "from sklearn.feature_selection import RFE"
      ],
      "execution_count": 78,
      "outputs": []
    },
    {
      "cell_type": "markdown",
      "metadata": {
        "id": "BhssRhQpKAnL",
        "colab_type": "text"
      },
      "source": [
        "## 1.CA Combined Data"
      ]
    },
    {
      "cell_type": "code",
      "metadata": {
        "id": "ntuwYT63KQuT",
        "colab_type": "code",
        "colab": {
          "base_uri": "https://localhost:8080/",
          "height": 101
        },
        "outputId": "c0674095-2d1d-4c08-c7f2-43f2c90ec2ca"
      },
      "source": [
        "CA_labeled_data_growth0 = CA_labeled_data[CA_labeled_data['growth_code'] == 0]\n",
        "CA_labeled_data_growth1 = CA_labeled_data[CA_labeled_data['growth_code'] == 1]\n",
        "CA_labeled_data_growth2 = CA_labeled_data[CA_labeled_data['growth_code'] == 2]\n",
        "CA_labeled_data_growth3 = CA_labeled_data[CA_labeled_data['growth_code'] == 3]\n",
        "CA_labeled_data_growth4 = CA_labeled_data[CA_labeled_data['growth_code'] == 4]\n",
        "\n",
        "print(CA_labeled_data_growth0.shape)\n",
        "print(CA_labeled_data_growth1.shape)\n",
        "print(CA_labeled_data_growth2.shape)\n",
        "print(CA_labeled_data_growth3.shape)\n",
        "print(CA_labeled_data_growth4.shape)"
      ],
      "execution_count": 87,
      "outputs": [
        {
          "output_type": "stream",
          "text": [
            "(141, 21)\n",
            "(126, 21)\n",
            "(943, 21)\n",
            "(3778, 21)\n",
            "(4194, 21)\n"
          ],
          "name": "stdout"
        }
      ]
    },
    {
      "cell_type": "markdown",
      "metadata": {
        "id": "Kud0wcE4Ke0y",
        "colab_type": "text"
      },
      "source": [
        "### 1.1 Label 0 : Drastic Decrement"
      ]
    },
    {
      "cell_type": "code",
      "metadata": {
        "id": "glcc7GJyL6fj",
        "colab_type": "code",
        "colab": {
          "base_uri": "https://localhost:8080/",
          "height": 726
        },
        "outputId": "512d9789-5871-4081-8cfd-54fccc4a8737"
      },
      "source": [
        "\n",
        "print(\"** Printing CA all county data for Drastic Decrement ** \")\n",
        "print(CA_labeled_data_growth0.shape)\n",
        "X = CA_labeled_data_growth0[feature_labels]\n",
        "y = CA_labeled_data_growth0[target_column]\n",
        "\n",
        "X_train, X_test, y_train, y_test = train_test_split(X, y, test_size=0.4, random_state=0)\n",
        "\n",
        "\n",
        "# Create a random forest classifier\n",
        "clf = RandomForestClassifier(n_estimators=10000, random_state=0, n_jobs=-1)\n",
        "\n",
        "# Train the classifier\n",
        "clf.fit(X_train, y_train)\n",
        "\n",
        "# Print the name and gini importance of each feature\n",
        "for feature in zip(feature_labels, clf.feature_importances_):\n",
        "    print(feature)\n",
        "\n",
        "\n",
        "\n",
        "#  Supported criteria are “gini” for the Gini impurity and “entropy” for the information gain. \n",
        "\n",
        "clf = RandomForestClassifier(n_estimators=10000, random_state=0,criterion='entropy', n_jobs=-1)\n",
        "\n",
        "# Train the classifier\n",
        "clf.fit(X_train, y_train)\n",
        "\n",
        "# Print the name and gini importance of each feature\n",
        "for feature in zip(feature_labels, clf.feature_importances_):\n",
        "    print(feature)\n",
        "\n",
        "\n",
        "model = ExtraTreesClassifier()\n",
        "model.fit(X, y.values.ravel())\n",
        "# display the relative importance of each attribute\n",
        "#print(model.feature_importances_)\n",
        "\n",
        "\n",
        "# create the RFE model \n",
        "rfe = RFE(model, 3)\n",
        "rfe = rfe.fit(X, y.values.ravel())\n",
        "# summarize the selection of the attributes\n",
        "#print(rfe.support_)\n",
        "\n",
        "print(\"\\nFeatures with ranking:\\n\")\n",
        "for index in range(len(rfe.ranking_)):\n",
        "  print(feature_labels[index], rfe.ranking_[index])\n",
        "\n",
        "#print(rfe.ranking_)\n",
        "#print(rfe.n_features_)\n",
        "#rfe.n_features_to_select\n"
      ],
      "execution_count": 88,
      "outputs": [
        {
          "output_type": "stream",
          "text": [
            "** Printing CA all county data for Drastic Decrement ** \n",
            "(141, 21)\n"
          ],
          "name": "stdout"
        },
        {
          "output_type": "stream",
          "text": [
            "/usr/local/lib/python3.6/dist-packages/ipykernel_launcher.py:14: DataConversionWarning: A column-vector y was passed when a 1d array was expected. Please change the shape of y to (n_samples,), for example using ravel().\n",
            "  \n"
          ],
          "name": "stderr"
        },
        {
          "output_type": "stream",
          "text": [
            "('retail and recreation', 0.0900793381695724)\n",
            "('grocery and pharmacy', 0.05083941565113184)\n",
            "('parks', 0.05414467212753291)\n",
            "('transit stations', 0.07672226893084705)\n",
            "('workplaces', 0.11222562571077538)\n",
            "('residential', 0.07722558533153291)\n",
            "('driving', 0.19332208872437218)\n",
            "('m50', 0.06586434369839234)\n",
            "('m50_index', 0.04459500314817932)\n",
            "('population_density', 0.23002343477718215)\n",
            "('mask_rule_active', 0.0049582237304814205)\n"
          ],
          "name": "stdout"
        },
        {
          "output_type": "stream",
          "text": [
            "/usr/local/lib/python3.6/dist-packages/ipykernel_launcher.py:27: DataConversionWarning: A column-vector y was passed when a 1d array was expected. Please change the shape of y to (n_samples,), for example using ravel().\n"
          ],
          "name": "stderr"
        },
        {
          "output_type": "stream",
          "text": [
            "('retail and recreation', 0.07564367522782155)\n",
            "('grocery and pharmacy', 0.05547607126846462)\n",
            "('parks', 0.04248854526387854)\n",
            "('transit stations', 0.07857952022840667)\n",
            "('workplaces', 0.09032848564075757)\n",
            "('residential', 0.06640313529604994)\n",
            "('driving', 0.18115578522338974)\n",
            "('m50', 0.08316317239291356)\n",
            "('m50_index', 0.044590950129606725)\n",
            "('population_density', 0.2705358004096671)\n",
            "('mask_rule_active', 0.011634858919044136)\n",
            "\n",
            "Features with ranking:\n",
            "\n",
            "retail and recreation 2\n",
            "grocery and pharmacy 6\n",
            "parks 3\n",
            "transit stations 5\n",
            "workplaces 4\n",
            "residential 1\n",
            "driving 1\n",
            "m50 7\n",
            "m50_index 8\n",
            "population_density 1\n",
            "mask_rule_active 9\n"
          ],
          "name": "stdout"
        }
      ]
    },
    {
      "cell_type": "markdown",
      "metadata": {
        "colab_type": "text",
        "id": "XrkKktcbN0Kn"
      },
      "source": [
        "### 1.2 Label 1 : Drastic Growth"
      ]
    },
    {
      "cell_type": "code",
      "metadata": {
        "colab_type": "code",
        "id": "z4n1qk_xN0K8",
        "colab": {
          "base_uri": "https://localhost:8080/",
          "height": 0
        },
        "outputId": "8ea077c3-a1df-4455-ebb8-6faec907ce78"
      },
      "source": [
        "\n",
        "print(\"** Printing CA all county data for Drastic Growth ** \")\n",
        "print(CA_labeled_data_growth1.shape)\n",
        "X = CA_labeled_data_growth1[feature_labels]\n",
        "y = CA_labeled_data_growth1[target_column]\n",
        "\n",
        "X_train, X_test, y_train, y_test = train_test_split(X, y, test_size=0.4, random_state=0)\n",
        "\n",
        "\n",
        "# Create a random forest classifier\n",
        "clf = RandomForestClassifier(n_estimators=10000, random_state=0, n_jobs=-1)\n",
        "\n",
        "# Train the classifier\n",
        "clf.fit(X_train, y_train)\n",
        "\n",
        "# Print the name and gini importance of each feature\n",
        "for feature in zip(feature_labels, clf.feature_importances_):\n",
        "    print(feature)\n",
        "\n",
        "\n",
        "\n",
        "#  Supported criteria are “gini” for the Gini impurity and “entropy” for the information gain. \n",
        "\n",
        "clf = RandomForestClassifier(n_estimators=10000, random_state=0,criterion='entropy', n_jobs=-1)\n",
        "\n",
        "# Train the classifier\n",
        "clf.fit(X_train, y_train)\n",
        "\n",
        "# Print the name and gini importance of each feature\n",
        "for feature in zip(feature_labels, clf.feature_importances_):\n",
        "    print(feature)\n",
        "\n",
        "\n",
        "model = ExtraTreesClassifier()\n",
        "model.fit(X, y.values.ravel())\n",
        "# display the relative importance of each attribute\n",
        "#print(model.feature_importances_)\n",
        "\n",
        "\n",
        "# create the RFE model \n",
        "rfe = RFE(model, 3)\n",
        "rfe = rfe.fit(X, y.values.ravel())\n",
        "# summarize the selection of the attributes\n",
        "#print(rfe.support_)\n",
        "print(\"\\n*****************************************\")\n",
        "print(\"** Printing CA all county data for Drastic Growth ** \")\n",
        "print(\"\\nFeatures with ranking:\\n\")\n",
        "for index in range(len(rfe.ranking_)):\n",
        "  print(feature_labels[index], rfe.ranking_[index])\n",
        "\n",
        "#print(rfe.ranking_)\n",
        "#print(rfe.n_features_)\n",
        "#rfe.n_features_to_select\n"
      ],
      "execution_count": 89,
      "outputs": [
        {
          "output_type": "stream",
          "text": [
            "** Printing CA all county data for Drastic Growth ** \n",
            "(126, 21)\n"
          ],
          "name": "stdout"
        },
        {
          "output_type": "stream",
          "text": [
            "/usr/local/lib/python3.6/dist-packages/ipykernel_launcher.py:14: DataConversionWarning: A column-vector y was passed when a 1d array was expected. Please change the shape of y to (n_samples,), for example using ravel().\n",
            "  \n"
          ],
          "name": "stderr"
        },
        {
          "output_type": "stream",
          "text": [
            "('retail and recreation', 0.0)\n",
            "('grocery and pharmacy', 0.0)\n",
            "('parks', 0.0)\n",
            "('transit stations', 0.0)\n",
            "('workplaces', 0.0)\n",
            "('residential', 0.0)\n",
            "('driving', 0.0)\n",
            "('m50', 0.0)\n",
            "('m50_index', 0.0)\n",
            "('population_density', 0.0)\n",
            "('mask_rule_active', 0.0)\n"
          ],
          "name": "stdout"
        },
        {
          "output_type": "stream",
          "text": [
            "/usr/local/lib/python3.6/dist-packages/ipykernel_launcher.py:27: DataConversionWarning: A column-vector y was passed when a 1d array was expected. Please change the shape of y to (n_samples,), for example using ravel().\n"
          ],
          "name": "stderr"
        },
        {
          "output_type": "stream",
          "text": [
            "('retail and recreation', 0.0)\n",
            "('grocery and pharmacy', 0.0)\n",
            "('parks', 0.0)\n",
            "('transit stations', 0.0)\n",
            "('workplaces', 0.0)\n",
            "('residential', 0.0)\n",
            "('driving', 0.0)\n",
            "('m50', 0.0)\n",
            "('m50_index', 0.0)\n",
            "('population_density', 0.0)\n",
            "('mask_rule_active', 0.0)\n",
            "\n",
            "*****************************************\n",
            "** Printing CA all county data for Drastic Growth ** \n",
            "\n",
            "Features with ranking:\n",
            "\n",
            "retail and recreation 9\n",
            "grocery and pharmacy 8\n",
            "parks 7\n",
            "transit stations 6\n",
            "workplaces 5\n",
            "residential 4\n",
            "driving 3\n",
            "m50 2\n",
            "m50_index 1\n",
            "population_density 1\n",
            "mask_rule_active 1\n"
          ],
          "name": "stdout"
        }
      ]
    },
    {
      "cell_type": "markdown",
      "metadata": {
        "colab_type": "text",
        "id": "ImMtEtHCPX9V"
      },
      "source": [
        "### 1.3 Label 2 : Flat Growth"
      ]
    },
    {
      "cell_type": "code",
      "metadata": {
        "colab_type": "code",
        "id": "hQOh156MPX9q",
        "colab": {
          "base_uri": "https://localhost:8080/",
          "height": 776
        },
        "outputId": "e69ec121-33bd-4092-f81b-613d33f2a5de"
      },
      "source": [
        "\n",
        "print(\"** Printing CA all county data for Flat Growth ** \")\n",
        "print(CA_labeled_data_growth2.shape)\n",
        "X = CA_labeled_data_growth2[feature_labels]\n",
        "y = CA_labeled_data_growth2[target_column]\n",
        "\n",
        "X_train, X_test, y_train, y_test = train_test_split(X, y, test_size=0.4, random_state=0)\n",
        "\n",
        "\n",
        "# Create a random forest classifier\n",
        "clf = RandomForestClassifier(n_estimators=10000, random_state=0, n_jobs=-1)\n",
        "\n",
        "# Train the classifier\n",
        "clf.fit(X_train, y_train)\n",
        "\n",
        "# Print the name and gini importance of each feature\n",
        "for feature in zip(feature_labels, clf.feature_importances_):\n",
        "    print(feature)\n",
        "\n",
        "\n",
        "\n",
        "#  Supported criteria are “gini” for the Gini impurity and “entropy” for the information gain. \n",
        "\n",
        "clf = RandomForestClassifier(n_estimators=10000, random_state=0,criterion='entropy', n_jobs=-1)\n",
        "\n",
        "# Train the classifier\n",
        "clf.fit(X_train, y_train)\n",
        "\n",
        "# Print the name and gini importance of each feature\n",
        "for feature in zip(feature_labels, clf.feature_importances_):\n",
        "    print(feature)\n",
        "\n",
        "\n",
        "model = ExtraTreesClassifier()\n",
        "model.fit(X, y.values.ravel())\n",
        "# display the relative importance of each attribute\n",
        "#print(model.feature_importances_)\n",
        "\n",
        "\n",
        "# create the RFE model \n",
        "rfe = RFE(model, 3)\n",
        "rfe = rfe.fit(X, y.values.ravel())\n",
        "# summarize the selection of the attributes\n",
        "#print(rfe.support_)\n",
        "print(\"\\n*****************************************\")\n",
        "print(\"** Printing CA all county data for Flat Growth ** \")\n",
        "print(\"\\nFeatures with ranking:\\n\")\n",
        "for index in range(len(rfe.ranking_)):\n",
        "  print(feature_labels[index], rfe.ranking_[index])\n",
        "\n",
        "#print(rfe.ranking_)\n",
        "#print(rfe.n_features_)\n",
        "#rfe.n_features_to_select\n"
      ],
      "execution_count": 90,
      "outputs": [
        {
          "output_type": "stream",
          "text": [
            "** Printing CA all county data for Flat Growth ** \n",
            "(943, 21)\n"
          ],
          "name": "stdout"
        },
        {
          "output_type": "stream",
          "text": [
            "/usr/local/lib/python3.6/dist-packages/ipykernel_launcher.py:14: DataConversionWarning: A column-vector y was passed when a 1d array was expected. Please change the shape of y to (n_samples,), for example using ravel().\n",
            "  \n"
          ],
          "name": "stderr"
        },
        {
          "output_type": "stream",
          "text": [
            "('retail and recreation', 0.0)\n",
            "('grocery and pharmacy', 0.0)\n",
            "('parks', 0.0)\n",
            "('transit stations', 0.0)\n",
            "('workplaces', 0.0)\n",
            "('residential', 0.0)\n",
            "('driving', 0.0)\n",
            "('m50', 0.0)\n",
            "('m50_index', 0.0)\n",
            "('population_density', 0.0)\n",
            "('mask_rule_active', 0.0)\n"
          ],
          "name": "stdout"
        },
        {
          "output_type": "stream",
          "text": [
            "/usr/local/lib/python3.6/dist-packages/ipykernel_launcher.py:27: DataConversionWarning: A column-vector y was passed when a 1d array was expected. Please change the shape of y to (n_samples,), for example using ravel().\n"
          ],
          "name": "stderr"
        },
        {
          "output_type": "stream",
          "text": [
            "('retail and recreation', 0.0)\n",
            "('grocery and pharmacy', 0.0)\n",
            "('parks', 0.0)\n",
            "('transit stations', 0.0)\n",
            "('workplaces', 0.0)\n",
            "('residential', 0.0)\n",
            "('driving', 0.0)\n",
            "('m50', 0.0)\n",
            "('m50_index', 0.0)\n",
            "('population_density', 0.0)\n",
            "('mask_rule_active', 0.0)\n",
            "\n",
            "*****************************************\n",
            "** Printing CA all county data for Flat Growth ** \n",
            "\n",
            "Features with ranking:\n",
            "\n",
            "retail and recreation 9\n",
            "grocery and pharmacy 8\n",
            "parks 7\n",
            "transit stations 6\n",
            "workplaces 5\n",
            "residential 4\n",
            "driving 3\n",
            "m50 2\n",
            "m50_index 1\n",
            "population_density 1\n",
            "mask_rule_active 1\n"
          ],
          "name": "stdout"
        }
      ]
    },
    {
      "cell_type": "markdown",
      "metadata": {
        "colab_type": "text",
        "id": "wNgraqN2Piox"
      },
      "source": [
        "### 1.4 Label 3 : Mild Decrement"
      ]
    },
    {
      "cell_type": "code",
      "metadata": {
        "colab_type": "code",
        "id": "hboyu6NoPipJ",
        "colab": {
          "base_uri": "https://localhost:8080/",
          "height": 776
        },
        "outputId": "e5eacf18-2017-4604-98ef-0cf7c354f721"
      },
      "source": [
        "\n",
        "print(\"** Printing CA all county data for Mild Decrement ** \")\n",
        "print(CA_labeled_data_growth3.shape)\n",
        "X = CA_labeled_data_growth3[feature_labels]\n",
        "y = CA_labeled_data_growth3[target_column]\n",
        "\n",
        "X_train, X_test, y_train, y_test = train_test_split(X, y, test_size=0.4, random_state=0)\n",
        "\n",
        "\n",
        "# Create a random forest classifier\n",
        "clf = RandomForestClassifier(n_estimators=10000, random_state=0, n_jobs=-1)\n",
        "\n",
        "# Train the classifier\n",
        "clf.fit(X_train, y_train)\n",
        "\n",
        "# Print the name and gini importance of each feature\n",
        "for feature in zip(feature_labels, clf.feature_importances_):\n",
        "    print(feature)\n",
        "\n",
        "\n",
        "\n",
        "#  Supported criteria are “gini” for the Gini impurity and “entropy” for the information gain. \n",
        "\n",
        "clf = RandomForestClassifier(n_estimators=10000, random_state=0,criterion='entropy', n_jobs=-1)\n",
        "\n",
        "# Train the classifier\n",
        "clf.fit(X_train, y_train)\n",
        "\n",
        "# Print the name and gini importance of each feature\n",
        "for feature in zip(feature_labels, clf.feature_importances_):\n",
        "    print(feature)\n",
        "\n",
        "\n",
        "model = ExtraTreesClassifier()\n",
        "model.fit(X, y.values.ravel())\n",
        "# display the relative importance of each attribute\n",
        "#print(model.feature_importances_)\n",
        "\n",
        "\n",
        "# create the RFE model \n",
        "rfe = RFE(model, 3)\n",
        "rfe = rfe.fit(X, y.values.ravel())\n",
        "# summarize the selection of the attributes\n",
        "#print(rfe.support_)\n",
        "print(\"\\n*****************************************\")\n",
        "print(\"** Printing CA all county data for Mild Decrement ** \")\n",
        "print(\"\\nFeatures with ranking:\\n\")\n",
        "for index in range(len(rfe.ranking_)):\n",
        "  print(feature_labels[index], rfe.ranking_[index])\n",
        "\n",
        "#print(rfe.ranking_)\n",
        "#print(rfe.n_features_)\n",
        "#rfe.n_features_to_select\n"
      ],
      "execution_count": 91,
      "outputs": [
        {
          "output_type": "stream",
          "text": [
            "** Printing CA all county data for Mild Decrement ** \n",
            "(3778, 21)\n"
          ],
          "name": "stdout"
        },
        {
          "output_type": "stream",
          "text": [
            "/usr/local/lib/python3.6/dist-packages/ipykernel_launcher.py:14: DataConversionWarning: A column-vector y was passed when a 1d array was expected. Please change the shape of y to (n_samples,), for example using ravel().\n",
            "  \n"
          ],
          "name": "stderr"
        },
        {
          "output_type": "stream",
          "text": [
            "('retail and recreation', 0.08859607018644346)\n",
            "('grocery and pharmacy', 0.10953169061260243)\n",
            "('parks', 0.07890405889533626)\n",
            "('transit stations', 0.08398622605168489)\n",
            "('workplaces', 0.08446128825453446)\n",
            "('residential', 0.0501996085342979)\n",
            "('driving', 0.1546477859459921)\n",
            "('m50', 0.0748110148448377)\n",
            "('m50_index', 0.08066738758726164)\n",
            "('population_density', 0.18806586920057516)\n",
            "('mask_rule_active', 0.006128999886434055)\n"
          ],
          "name": "stdout"
        },
        {
          "output_type": "stream",
          "text": [
            "/usr/local/lib/python3.6/dist-packages/ipykernel_launcher.py:27: DataConversionWarning: A column-vector y was passed when a 1d array was expected. Please change the shape of y to (n_samples,), for example using ravel().\n"
          ],
          "name": "stderr"
        },
        {
          "output_type": "stream",
          "text": [
            "('retail and recreation', 0.0745366117356443)\n",
            "('grocery and pharmacy', 0.07924770843692332)\n",
            "('parks', 0.06543839985862236)\n",
            "('transit stations', 0.08144390578040808)\n",
            "('workplaces', 0.05287749075871725)\n",
            "('residential', 0.04492082166572745)\n",
            "('driving', 0.2281784479416766)\n",
            "('m50', 0.04836071167838866)\n",
            "('m50_index', 0.057067392161992435)\n",
            "('population_density', 0.24075212010048247)\n",
            "('mask_rule_active', 0.027176389881417067)\n",
            "\n",
            "*****************************************\n",
            "** Printing CA all county data for Mild Decrement ** \n",
            "\n",
            "Features with ranking:\n",
            "\n",
            "retail and recreation 1\n",
            "grocery and pharmacy 2\n",
            "parks 4\n",
            "transit stations 3\n",
            "workplaces 5\n",
            "residential 8\n",
            "driving 1\n",
            "m50 7\n",
            "m50_index 6\n",
            "population_density 1\n",
            "mask_rule_active 9\n"
          ],
          "name": "stdout"
        }
      ]
    },
    {
      "cell_type": "markdown",
      "metadata": {
        "colab_type": "text",
        "id": "FE1-lVb7P3Bt"
      },
      "source": [
        "### 1.5 Label 4 : Mild Increment"
      ]
    },
    {
      "cell_type": "code",
      "metadata": {
        "colab_type": "code",
        "id": "797O6ngCP3Bx",
        "colab": {
          "base_uri": "https://localhost:8080/",
          "height": 776
        },
        "outputId": "83f086b9-3b56-4b16-f961-11f05d5e7603"
      },
      "source": [
        "print(\"** Printing CA all county data for Mild Increment ** \")\n",
        "print(CA_labeled_data_growth4.shape)\n",
        "X = CA_labeled_data_growth4[feature_labels]\n",
        "y = CA_labeled_data_growth4[target_column]\n",
        "\n",
        "X_train, X_test, y_train, y_test = train_test_split(X, y, test_size=0.4, random_state=0)\n",
        "\n",
        "\n",
        "# Create a random forest classifier\n",
        "clf = RandomForestClassifier(n_estimators=10000, random_state=0, n_jobs=-1)\n",
        "\n",
        "# Train the classifier\n",
        "clf.fit(X_train, y_train)\n",
        "\n",
        "# Print the name and gini importance of each feature\n",
        "for feature in zip(feature_labels, clf.feature_importances_):\n",
        "    print(feature)\n",
        "\n",
        "\n",
        "\n",
        "#  Supported criteria are “gini” for the Gini impurity and “entropy” for the information gain. \n",
        "\n",
        "clf = RandomForestClassifier(n_estimators=10000, random_state=0,criterion='entropy', n_jobs=-1)\n",
        "\n",
        "# Train the classifier\n",
        "clf.fit(X_train, y_train)\n",
        "\n",
        "# Print the name and gini importance of each feature\n",
        "for feature in zip(feature_labels, clf.feature_importances_):\n",
        "    print(feature)\n",
        "\n",
        "\n",
        "model = ExtraTreesClassifier()\n",
        "model.fit(X, y.values.ravel())\n",
        "# display the relative importance of each attribute\n",
        "#print(model.feature_importances_)\n",
        "\n",
        "\n",
        "# create the RFE model \n",
        "rfe = RFE(model, 3)\n",
        "rfe = rfe.fit(X, y.values.ravel())\n",
        "# summarize the selection of the attributes\n",
        "#print(rfe.support_)\n",
        "print(\"\\n*****************************************\")\n",
        "print(\"** Printing CA all county data for Mild Increment ** \")\n",
        "print(\"\\nFeatures with ranking:\\n\")\n",
        "for index in range(len(rfe.ranking_)):\n",
        "  print(feature_labels[index], rfe.ranking_[index])\n",
        "\n",
        "#print(rfe.ranking_)\n",
        "#print(rfe.n_features_)\n",
        "#rfe.n_features_to_select\n"
      ],
      "execution_count": 92,
      "outputs": [
        {
          "output_type": "stream",
          "text": [
            "** Printing CA all county data for Mild Increment ** \n",
            "(4194, 21)\n"
          ],
          "name": "stdout"
        },
        {
          "output_type": "stream",
          "text": [
            "/usr/local/lib/python3.6/dist-packages/ipykernel_launcher.py:13: DataConversionWarning: A column-vector y was passed when a 1d array was expected. Please change the shape of y to (n_samples,), for example using ravel().\n",
            "  del sys.path[0]\n"
          ],
          "name": "stderr"
        },
        {
          "output_type": "stream",
          "text": [
            "('retail and recreation', 0.1413502695745593)\n",
            "('grocery and pharmacy', 0.08278671096075423)\n",
            "('parks', 0.08013054643788468)\n",
            "('transit stations', 0.06622946998005724)\n",
            "('workplaces', 0.07808589098604934)\n",
            "('residential', 0.06120163066184163)\n",
            "('driving', 0.19570645789502605)\n",
            "('m50', 0.08190706161831468)\n",
            "('m50_index', 0.08063406408966486)\n",
            "('population_density', 0.11096944230613957)\n",
            "('mask_rule_active', 0.02099845548970855)\n"
          ],
          "name": "stdout"
        },
        {
          "output_type": "stream",
          "text": [
            "/usr/local/lib/python3.6/dist-packages/ipykernel_launcher.py:26: DataConversionWarning: A column-vector y was passed when a 1d array was expected. Please change the shape of y to (n_samples,), for example using ravel().\n"
          ],
          "name": "stderr"
        },
        {
          "output_type": "stream",
          "text": [
            "('retail and recreation', 0.1333484946471116)\n",
            "('grocery and pharmacy', 0.07751065333805372)\n",
            "('parks', 0.07915444142155824)\n",
            "('transit stations', 0.06865213337351517)\n",
            "('workplaces', 0.07102936797918591)\n",
            "('residential', 0.05962838896305009)\n",
            "('driving', 0.20225224565136593)\n",
            "('m50', 0.07527253886055622)\n",
            "('m50_index', 0.07169029085919056)\n",
            "('population_density', 0.12514165035684036)\n",
            "('mask_rule_active', 0.03631979454957221)\n",
            "\n",
            "*****************************************\n",
            "** Printing CA all county data for Mild Increment ** \n",
            "\n",
            "Features with ranking:\n",
            "\n",
            "retail and recreation 1\n",
            "grocery and pharmacy 3\n",
            "parks 4\n",
            "transit stations 6\n",
            "workplaces 2\n",
            "residential 8\n",
            "driving 1\n",
            "m50 7\n",
            "m50_index 5\n",
            "population_density 1\n",
            "mask_rule_active 9\n"
          ],
          "name": "stdout"
        }
      ]
    },
    {
      "cell_type": "markdown",
      "metadata": {
        "colab_type": "text",
        "id": "CHlWXNITRYrh"
      },
      "source": [
        "## 2.CA Maryland Inertia Data"
      ]
    },
    {
      "cell_type": "code",
      "metadata": {
        "colab_type": "code",
        "id": "U8nLQP1VRYr3",
        "colab": {
          "base_uri": "https://localhost:8080/",
          "height": 101
        },
        "outputId": "7aa70c17-7cd8-46de-d120-39519826e7e6"
      },
      "source": [
        "CA_inertia_labeled_data_growth0 = CA_inertia_labeled_data[CA_inertia_labeled_data['growth_code'] == 0]\n",
        "CA_inertia_labeled_data_growth1 = CA_inertia_labeled_data[CA_inertia_labeled_data['growth_code'] == 1]\n",
        "CA_inertia_labeled_data_growth2 = CA_inertia_labeled_data[CA_inertia_labeled_data['growth_code'] == 2]\n",
        "CA_inertia_labeled_data_growth3 = CA_inertia_labeled_data[CA_inertia_labeled_data['growth_code'] == 3]\n",
        "CA_inertia_labeled_data_growth4 = CA_inertia_labeled_data[CA_inertia_labeled_data['growth_code'] == 4]\n",
        "\n",
        "print(CA_inertia_labeled_data_growth0.shape)\n",
        "print(CA_inertia_labeled_data_growth1.shape)\n",
        "print(CA_inertia_labeled_data_growth2.shape)\n",
        "print(CA_inertia_labeled_data_growth3.shape)\n",
        "print(CA_inertia_labeled_data_growth4.shape)"
      ],
      "execution_count": 102,
      "outputs": [
        {
          "output_type": "stream",
          "text": [
            "(14, 58)\n",
            "(3102, 58)\n",
            "(4513, 58)\n",
            "(4625, 58)\n",
            "(0, 58)\n"
          ],
          "name": "stdout"
        }
      ]
    },
    {
      "cell_type": "code",
      "metadata": {
        "id": "Z714MrhXS_6M",
        "colab_type": "code",
        "colab": {}
      },
      "source": [
        "inertia_feature_labels = [ 'mask_rule_active',\n",
        "         'Social distancing index',\n",
        "       '% staying home', 'Trips/person', '% out-of-county trips',\n",
        "       '% out-of-state trips', 'Miles/person', 'Work trips/person',\n",
        "       'Non-work trips/person',  'Population',\n",
        "       '% change in consumption', 'Transit mode share',\n",
        "       '% people older than 60', 'Median income', '% African Americans',\n",
        "       '% Hispanic Americans', '% Male', 'Population density',\n",
        "       'Employment density', '# hot spots/1000 people',\n",
        "       'Hospital beds/1000 people', 'ICUs/1000 people',\n",
        "       '# contact tracing workers/1000 people',\n",
        "       '# contact tracing workers/1000 people rank',\n",
        "       '% people older than 60 rank', 'COVID exposure/1000 people',\n",
        "       'Unemployment claims/1000 people', 'Unemployment rate',\n",
        "       '% working from home', 'Cumulative inflation rate',\n",
        "       '% hospital bed utilization', 'Testing capacity',\n",
        "       'Tests done/1000 people', '% ICU utilization', 'Ventilator shortage']\n",
        "\n",
        "inertia_target_column = ['label_code']"
      ],
      "execution_count": 103,
      "outputs": []
    },
    {
      "cell_type": "markdown",
      "metadata": {
        "colab_type": "text",
        "id": "rzleeRVqRYsG"
      },
      "source": [
        "### 2.1 Label 0 : Drastic Decrement"
      ]
    },
    {
      "cell_type": "code",
      "metadata": {
        "colab_type": "code",
        "id": "P6ZtBujTRYsH",
        "colab": {
          "base_uri": "https://localhost:8080/",
          "height": 1000
        },
        "outputId": "0f0393c7-ee46-40c7-e79e-56c2f2034c73"
      },
      "source": [
        "\n",
        "print(\"** Printing CA inertia all county data for Drastic Decrement ** \")\n",
        "print(CA_inertia_labeled_data_growth0.shape)\n",
        "X = CA_inertia_labeled_data_growth0[inertia_feature_labels]\n",
        "y = CA_inertia_labeled_data_growth0[inertia_target_column]\n",
        "\n",
        "X_train, X_test, y_train, y_test = train_test_split(X, y, test_size=0.4, random_state=0)\n",
        "\n",
        "\n",
        "# Create a random forest classifier\n",
        "clf = RandomForestClassifier(n_estimators=10000, random_state=0, n_jobs=-1)\n",
        "\n",
        "# Train the classifier\n",
        "clf.fit(X_train, y_train)\n",
        "\n",
        "# Print the name and gini importance of each feature\n",
        "for feature in zip(inertia_feature_labels, clf.feature_importances_):\n",
        "    print(feature)\n",
        "\n",
        "\n",
        "\n",
        "#  Supported criteria are “gini” for the Gini impurity and “entropy” for the information gain. \n",
        "\n",
        "clf = RandomForestClassifier(n_estimators=10000, random_state=0,criterion='entropy', n_jobs=-1)\n",
        "\n",
        "# Train the classifier\n",
        "clf.fit(X_train, y_train)\n",
        "\n",
        "# Print the name and gini importance of each feature\n",
        "for feature in zip(inertia_feature_labels, clf.feature_importances_):\n",
        "    print(feature)\n",
        "\n",
        "\n",
        "model = ExtraTreesClassifier()\n",
        "model.fit(X, y.values.ravel())\n",
        "# display the relative importance of each attribute\n",
        "#print(model.feature_importances_)\n",
        "\n",
        "\n",
        "# create the RFE model \n",
        "rfe = RFE(model, 3)\n",
        "rfe = rfe.fit(X, y.values.ravel())\n",
        "# summarize the selection of the attributes\n",
        "#print(rfe.support_)\n",
        "\n",
        "print(\"\\nFeatures with ranking:\\n\")\n",
        "for index in range(len(rfe.ranking_)):\n",
        "  print(inertia_feature_labels[index], rfe.ranking_[index])\n",
        "\n",
        "#print(rfe.ranking_)\n",
        "#print(rfe.n_features_)\n",
        "#rfe.n_features_to_select\n"
      ],
      "execution_count": 104,
      "outputs": [
        {
          "output_type": "stream",
          "text": [
            "** Printing CA inertia all county data for Drastic Decrement ** \n",
            "(14, 58)\n"
          ],
          "name": "stdout"
        },
        {
          "output_type": "stream",
          "text": [
            "/usr/local/lib/python3.6/dist-packages/ipykernel_launcher.py:14: DataConversionWarning: A column-vector y was passed when a 1d array was expected. Please change the shape of y to (n_samples,), for example using ravel().\n",
            "  \n"
          ],
          "name": "stderr"
        },
        {
          "output_type": "stream",
          "text": [
            "('mask_rule_active', 0.0)\n",
            "('Social distancing index', 0.0)\n",
            "('% staying home', 0.0)\n",
            "('Trips/person', 0.0)\n",
            "('% out-of-county trips', 0.0)\n",
            "('% out-of-state trips', 0.0)\n",
            "('Miles/person', 0.0)\n",
            "('Work trips/person', 0.0)\n",
            "('Non-work trips/person', 0.0)\n",
            "('Population', 0.0)\n",
            "('% change in consumption', 0.0)\n",
            "('Transit mode share', 0.0)\n",
            "('% people older than 60', 0.0)\n",
            "('Median income', 0.0)\n",
            "('% African Americans', 0.0)\n",
            "('% Hispanic Americans', 0.0)\n",
            "('% Male', 0.0)\n",
            "('Population density', 0.0)\n",
            "('Employment density', 0.0)\n",
            "('# hot spots/1000 people', 0.0)\n",
            "('Hospital beds/1000 people', 0.0)\n",
            "('ICUs/1000 people', 0.0)\n",
            "('# contact tracing workers/1000 people', 0.0)\n",
            "('# contact tracing workers/1000 people rank', 0.0)\n",
            "('% people older than 60 rank', 0.0)\n",
            "('COVID exposure/1000 people', 0.0)\n",
            "('Unemployment claims/1000 people', 0.0)\n",
            "('Unemployment rate', 0.0)\n",
            "('% working from home', 0.0)\n",
            "('Cumulative inflation rate', 0.0)\n",
            "('% hospital bed utilization', 0.0)\n",
            "('Testing capacity', 0.0)\n",
            "('Tests done/1000 people', 0.0)\n",
            "('% ICU utilization', 0.0)\n",
            "('Ventilator shortage', 0.0)\n"
          ],
          "name": "stdout"
        },
        {
          "output_type": "stream",
          "text": [
            "/usr/local/lib/python3.6/dist-packages/ipykernel_launcher.py:27: DataConversionWarning: A column-vector y was passed when a 1d array was expected. Please change the shape of y to (n_samples,), for example using ravel().\n"
          ],
          "name": "stderr"
        },
        {
          "output_type": "stream",
          "text": [
            "('mask_rule_active', 0.0)\n",
            "('Social distancing index', 0.0)\n",
            "('% staying home', 0.0)\n",
            "('Trips/person', 0.0)\n",
            "('% out-of-county trips', 0.0)\n",
            "('% out-of-state trips', 0.0)\n",
            "('Miles/person', 0.0)\n",
            "('Work trips/person', 0.0)\n",
            "('Non-work trips/person', 0.0)\n",
            "('Population', 0.0)\n",
            "('% change in consumption', 0.0)\n",
            "('Transit mode share', 0.0)\n",
            "('% people older than 60', 0.0)\n",
            "('Median income', 0.0)\n",
            "('% African Americans', 0.0)\n",
            "('% Hispanic Americans', 0.0)\n",
            "('% Male', 0.0)\n",
            "('Population density', 0.0)\n",
            "('Employment density', 0.0)\n",
            "('# hot spots/1000 people', 0.0)\n",
            "('Hospital beds/1000 people', 0.0)\n",
            "('ICUs/1000 people', 0.0)\n",
            "('# contact tracing workers/1000 people', 0.0)\n",
            "('# contact tracing workers/1000 people rank', 0.0)\n",
            "('% people older than 60 rank', 0.0)\n",
            "('COVID exposure/1000 people', 0.0)\n",
            "('Unemployment claims/1000 people', 0.0)\n",
            "('Unemployment rate', 0.0)\n",
            "('% working from home', 0.0)\n",
            "('Cumulative inflation rate', 0.0)\n",
            "('% hospital bed utilization', 0.0)\n",
            "('Testing capacity', 0.0)\n",
            "('Tests done/1000 people', 0.0)\n",
            "('% ICU utilization', 0.0)\n",
            "('Ventilator shortage', 0.0)\n",
            "\n",
            "Features with ranking:\n",
            "\n",
            "mask_rule_active 33\n",
            "Social distancing index 32\n",
            "% staying home 31\n",
            "Trips/person 30\n",
            "% out-of-county trips 29\n",
            "% out-of-state trips 28\n",
            "Miles/person 27\n",
            "Work trips/person 26\n",
            "Non-work trips/person 25\n",
            "Population 24\n",
            "% change in consumption 23\n",
            "Transit mode share 22\n",
            "% people older than 60 21\n",
            "Median income 20\n",
            "% African Americans 19\n",
            "% Hispanic Americans 18\n",
            "% Male 17\n",
            "Population density 16\n",
            "Employment density 15\n",
            "# hot spots/1000 people 14\n",
            "Hospital beds/1000 people 13\n",
            "ICUs/1000 people 12\n",
            "# contact tracing workers/1000 people 11\n",
            "# contact tracing workers/1000 people rank 10\n",
            "% people older than 60 rank 9\n",
            "COVID exposure/1000 people 8\n",
            "Unemployment claims/1000 people 7\n",
            "Unemployment rate 6\n",
            "% working from home 5\n",
            "Cumulative inflation rate 4\n",
            "% hospital bed utilization 3\n",
            "Testing capacity 2\n",
            "Tests done/1000 people 1\n",
            "% ICU utilization 1\n",
            "Ventilator shortage 1\n"
          ],
          "name": "stdout"
        }
      ]
    },
    {
      "cell_type": "markdown",
      "metadata": {
        "colab_type": "text",
        "id": "Bu6s7kbNRYsM"
      },
      "source": [
        "### 2.2 Label 1 : Drastic Growth"
      ]
    },
    {
      "cell_type": "code",
      "metadata": {
        "colab_type": "code",
        "id": "y1Z9vm4dRYsN",
        "colab": {
          "base_uri": "https://localhost:8080/",
          "height": 1000
        },
        "outputId": "c95eb76f-1650-4521-faee-ccf08dc077a0"
      },
      "source": [
        "\n",
        "print(\"** Printing CA_inertia all county data for Drastic Growth ** \")\n",
        "print(CA_inertia_labeled_data_growth1.shape)\n",
        "X = CA_inertia_labeled_data_growth1[inertia_feature_labels]\n",
        "y = CA_inertia_labeled_data_growth1[inertia_target_column]\n",
        "\n",
        "X_train, X_test, y_train, y_test = train_test_split(X, y, test_size=0.4, random_state=0)\n",
        "\n",
        "\n",
        "# Create a random forest classifier\n",
        "clf = RandomForestClassifier(n_estimators=10000, random_state=0, n_jobs=-1)\n",
        "\n",
        "# Train the classifier\n",
        "clf.fit(X_train, y_train)\n",
        "\n",
        "# Print the name and gini importance of each feature\n",
        "for feature in zip(inertia_feature_labels, clf.feature_importances_):\n",
        "    print(feature)\n",
        "\n",
        "\n",
        "\n",
        "#  Supported criteria are “gini” for the Gini impurity and “entropy” for the information gain. \n",
        "\n",
        "clf = RandomForestClassifier(n_estimators=10000, random_state=0,criterion='entropy', n_jobs=-1)\n",
        "\n",
        "# Train the classifier\n",
        "clf.fit(X_train, y_train)\n",
        "\n",
        "# Print the name and gini importance of each feature\n",
        "for feature in zip(inertia_feature_labels, clf.feature_importances_):\n",
        "    print(feature)\n",
        "\n",
        "\n",
        "model = ExtraTreesClassifier()\n",
        "model.fit(X, y.values.ravel())\n",
        "# display the relative importance of each attribute\n",
        "#print(model.feature_importances_)\n",
        "\n",
        "\n",
        "# create the RFE model \n",
        "rfe = RFE(model, 3)\n",
        "rfe = rfe.fit(X, y.values.ravel())\n",
        "# summarize the selection of the attributes\n",
        "#print(rfe.support_)\n",
        "print(\"\\n*****************************************\")\n",
        "print(\"** Printing CA_inertia all county data for Drastic Growth ** \")\n",
        "print(\"\\nFeatures with ranking:\\n\")\n",
        "for index in range(len(rfe.ranking_)):\n",
        "  print(inertia_feature_labels[index], rfe.ranking_[index])\n",
        "\n",
        "#print(rfe.ranking_)\n",
        "#print(rfe.n_features_)\n",
        "#rfe.n_features_to_select\n"
      ],
      "execution_count": 105,
      "outputs": [
        {
          "output_type": "stream",
          "text": [
            "** Printing CA_inertia all county data for Drastic Growth ** \n",
            "(3102, 58)\n"
          ],
          "name": "stdout"
        },
        {
          "output_type": "stream",
          "text": [
            "/usr/local/lib/python3.6/dist-packages/ipykernel_launcher.py:14: DataConversionWarning: A column-vector y was passed when a 1d array was expected. Please change the shape of y to (n_samples,), for example using ravel().\n",
            "  \n"
          ],
          "name": "stderr"
        },
        {
          "output_type": "stream",
          "text": [
            "('mask_rule_active', 0.0)\n",
            "('Social distancing index', 0.0)\n",
            "('% staying home', 0.0)\n",
            "('Trips/person', 0.0)\n",
            "('% out-of-county trips', 0.0)\n",
            "('% out-of-state trips', 0.0)\n",
            "('Miles/person', 0.0)\n",
            "('Work trips/person', 0.0)\n",
            "('Non-work trips/person', 0.0)\n",
            "('Population', 0.0)\n",
            "('% change in consumption', 0.0)\n",
            "('Transit mode share', 0.0)\n",
            "('% people older than 60', 0.0)\n",
            "('Median income', 0.0)\n",
            "('% African Americans', 0.0)\n",
            "('% Hispanic Americans', 0.0)\n",
            "('% Male', 0.0)\n",
            "('Population density', 0.0)\n",
            "('Employment density', 0.0)\n",
            "('# hot spots/1000 people', 0.0)\n",
            "('Hospital beds/1000 people', 0.0)\n",
            "('ICUs/1000 people', 0.0)\n",
            "('# contact tracing workers/1000 people', 0.0)\n",
            "('# contact tracing workers/1000 people rank', 0.0)\n",
            "('% people older than 60 rank', 0.0)\n",
            "('COVID exposure/1000 people', 0.0)\n",
            "('Unemployment claims/1000 people', 0.0)\n",
            "('Unemployment rate', 0.0)\n",
            "('% working from home', 0.0)\n",
            "('Cumulative inflation rate', 0.0)\n",
            "('% hospital bed utilization', 0.0)\n",
            "('Testing capacity', 0.0)\n",
            "('Tests done/1000 people', 0.0)\n",
            "('% ICU utilization', 0.0)\n",
            "('Ventilator shortage', 0.0)\n"
          ],
          "name": "stdout"
        },
        {
          "output_type": "stream",
          "text": [
            "/usr/local/lib/python3.6/dist-packages/ipykernel_launcher.py:27: DataConversionWarning: A column-vector y was passed when a 1d array was expected. Please change the shape of y to (n_samples,), for example using ravel().\n"
          ],
          "name": "stderr"
        },
        {
          "output_type": "stream",
          "text": [
            "('mask_rule_active', 0.0)\n",
            "('Social distancing index', 0.0)\n",
            "('% staying home', 0.0)\n",
            "('Trips/person', 0.0)\n",
            "('% out-of-county trips', 0.0)\n",
            "('% out-of-state trips', 0.0)\n",
            "('Miles/person', 0.0)\n",
            "('Work trips/person', 0.0)\n",
            "('Non-work trips/person', 0.0)\n",
            "('Population', 0.0)\n",
            "('% change in consumption', 0.0)\n",
            "('Transit mode share', 0.0)\n",
            "('% people older than 60', 0.0)\n",
            "('Median income', 0.0)\n",
            "('% African Americans', 0.0)\n",
            "('% Hispanic Americans', 0.0)\n",
            "('% Male', 0.0)\n",
            "('Population density', 0.0)\n",
            "('Employment density', 0.0)\n",
            "('# hot spots/1000 people', 0.0)\n",
            "('Hospital beds/1000 people', 0.0)\n",
            "('ICUs/1000 people', 0.0)\n",
            "('# contact tracing workers/1000 people', 0.0)\n",
            "('# contact tracing workers/1000 people rank', 0.0)\n",
            "('% people older than 60 rank', 0.0)\n",
            "('COVID exposure/1000 people', 0.0)\n",
            "('Unemployment claims/1000 people', 0.0)\n",
            "('Unemployment rate', 0.0)\n",
            "('% working from home', 0.0)\n",
            "('Cumulative inflation rate', 0.0)\n",
            "('% hospital bed utilization', 0.0)\n",
            "('Testing capacity', 0.0)\n",
            "('Tests done/1000 people', 0.0)\n",
            "('% ICU utilization', 0.0)\n",
            "('Ventilator shortage', 0.0)\n",
            "\n",
            "*****************************************\n",
            "** Printing CA_inertia all county data for Drastic Growth ** \n",
            "\n",
            "Features with ranking:\n",
            "\n",
            "mask_rule_active 33\n",
            "Social distancing index 32\n",
            "% staying home 31\n",
            "Trips/person 30\n",
            "% out-of-county trips 29\n",
            "% out-of-state trips 28\n",
            "Miles/person 27\n",
            "Work trips/person 26\n",
            "Non-work trips/person 25\n",
            "Population 24\n",
            "% change in consumption 23\n",
            "Transit mode share 22\n",
            "% people older than 60 21\n",
            "Median income 20\n",
            "% African Americans 19\n",
            "% Hispanic Americans 18\n",
            "% Male 17\n",
            "Population density 16\n",
            "Employment density 15\n",
            "# hot spots/1000 people 14\n",
            "Hospital beds/1000 people 13\n",
            "ICUs/1000 people 12\n",
            "# contact tracing workers/1000 people 11\n",
            "# contact tracing workers/1000 people rank 10\n",
            "% people older than 60 rank 9\n",
            "COVID exposure/1000 people 8\n",
            "Unemployment claims/1000 people 7\n",
            "Unemployment rate 6\n",
            "% working from home 5\n",
            "Cumulative inflation rate 4\n",
            "% hospital bed utilization 3\n",
            "Testing capacity 2\n",
            "Tests done/1000 people 1\n",
            "% ICU utilization 1\n",
            "Ventilator shortage 1\n"
          ],
          "name": "stdout"
        }
      ]
    },
    {
      "cell_type": "markdown",
      "metadata": {
        "colab_type": "text",
        "id": "narY7dQhRYsR"
      },
      "source": [
        "### 2.3 Label 2 : Flat Growth"
      ]
    },
    {
      "cell_type": "code",
      "metadata": {
        "colab_type": "code",
        "id": "-70zT7LFRYsS",
        "colab": {
          "base_uri": "https://localhost:8080/",
          "height": 1000
        },
        "outputId": "9f130ab3-b564-4820-f952-977ffe5cbbb2"
      },
      "source": [
        "\n",
        "print(\"** Printing CA_inertia all county data for Flat Growth ** \")\n",
        "print(CA_inertia_labeled_data_growth2.shape)\n",
        "X = CA_inertia_labeled_data_growth2[inertia_feature_labels]\n",
        "y = CA_inertia_labeled_data_growth2[inertia_target_column]\n",
        "\n",
        "X_train, X_test, y_train, y_test = train_test_split(X, y, test_size=0.4, random_state=0)\n",
        "\n",
        "\n",
        "# Create a random forest classifier\n",
        "clf = RandomForestClassifier(n_estimators=10000, random_state=0, n_jobs=-1)\n",
        "\n",
        "# Train the classifier\n",
        "clf.fit(X_train, y_train)\n",
        "\n",
        "# Print the name and gini importance of each feature\n",
        "for feature in zip(inertia_feature_labels, clf.feature_importances_):\n",
        "    print(feature)\n",
        "\n",
        "\n",
        "\n",
        "#  Supported criteria are “gini” for the Gini impurity and “entropy” for the information gain. \n",
        "\n",
        "clf = RandomForestClassifier(n_estimators=10000, random_state=0,criterion='entropy', n_jobs=-1)\n",
        "\n",
        "# Train the classifier\n",
        "clf.fit(X_train, y_train)\n",
        "\n",
        "# Print the name and gini importance of each feature\n",
        "for feature in zip(inertia_feature_labels, clf.feature_importances_):\n",
        "    print(feature)\n",
        "\n",
        "\n",
        "model = ExtraTreesClassifier()\n",
        "model.fit(X, y.values.ravel())\n",
        "# display the relative importance of each attribute\n",
        "#print(model.feature_importances_)\n",
        "\n",
        "\n",
        "# create the RFE model \n",
        "rfe = RFE(model, 3)\n",
        "rfe = rfe.fit(X, y.values.ravel())\n",
        "# summarize the selection of the attributes\n",
        "#print(rfe.support_)\n",
        "print(\"\\n*****************************************\")\n",
        "print(\"** Printing CA_inertia all county data for Flat Growth ** \")\n",
        "print(\"\\nFeatures with ranking:\\n\")\n",
        "for index in range(len(rfe.ranking_)):\n",
        "  print(inertia_feature_labels[index], rfe.ranking_[index])\n",
        "\n",
        "#print(rfe.ranking_)\n",
        "#print(rfe.n_features_)\n",
        "#rfe.n_features_to_select\n"
      ],
      "execution_count": 107,
      "outputs": [
        {
          "output_type": "stream",
          "text": [
            "** Printing CA_inertia all county data for Flat Growth ** \n",
            "(4513, 58)\n"
          ],
          "name": "stdout"
        },
        {
          "output_type": "stream",
          "text": [
            "/usr/local/lib/python3.6/dist-packages/ipykernel_launcher.py:14: DataConversionWarning: A column-vector y was passed when a 1d array was expected. Please change the shape of y to (n_samples,), for example using ravel().\n",
            "  \n"
          ],
          "name": "stderr"
        },
        {
          "output_type": "stream",
          "text": [
            "('mask_rule_active', 0.0012130740210201123)\n",
            "('Social distancing index', 0.018364267733551123)\n",
            "('% staying home', 0.019245600994670622)\n",
            "('Trips/person', 0.011285198442720641)\n",
            "('% out-of-county trips', 0.02703660711301627)\n",
            "('% out-of-state trips', 0.016058614378618753)\n",
            "('Miles/person', 0.013662805088747728)\n",
            "('Work trips/person', 0.010919412564095678)\n",
            "('Non-work trips/person', 0.011375705104120589)\n",
            "('Population', 0.038371257721681165)\n",
            "('% change in consumption', 0.016562158722116024)\n",
            "('Transit mode share', 0.03648738106144143)\n",
            "('% people older than 60', 0.044883762024052705)\n",
            "('Median income', 0.03187328475528982)\n",
            "('% African Americans', 0.041550420621485694)\n",
            "('% Hispanic Americans', 0.05247833766350958)\n",
            "('% Male', 0.08726981665374065)\n",
            "('Population density', 0.041793918778750404)\n",
            "('Employment density', 0.04243656306147771)\n",
            "('# hot spots/1000 people', 0.04920378662690079)\n",
            "('Hospital beds/1000 people', 0.0)\n",
            "('ICUs/1000 people', 0.0)\n",
            "('# contact tracing workers/1000 people', 0.0)\n",
            "('# contact tracing workers/1000 people rank', 0.0)\n",
            "('% people older than 60 rank', 0.045120676120454124)\n",
            "('COVID exposure/1000 people', 0.049395635480601746)\n",
            "('Unemployment claims/1000 people', 0.0426863594734071)\n",
            "('Unemployment rate', 0.04407322874715895)\n",
            "('% working from home', 0.01811023825488407)\n",
            "('Cumulative inflation rate', 0.006237516059049742)\n",
            "('% hospital bed utilization', 0.031322438092879885)\n",
            "('Testing capacity', 0.020222878372040006)\n",
            "('Tests done/1000 people', 0.0465551397534253)\n",
            "('% ICU utilization', 0.035590187134303425)\n",
            "('Ventilator shortage', 0.04861372938078808)\n"
          ],
          "name": "stdout"
        },
        {
          "output_type": "stream",
          "text": [
            "/usr/local/lib/python3.6/dist-packages/ipykernel_launcher.py:27: DataConversionWarning: A column-vector y was passed when a 1d array was expected. Please change the shape of y to (n_samples,), for example using ravel().\n"
          ],
          "name": "stderr"
        },
        {
          "output_type": "stream",
          "text": [
            "('mask_rule_active', 0.004950098355411349)\n",
            "('Social distancing index', 0.016220608589560148)\n",
            "('% staying home', 0.014035044033775838)\n",
            "('Trips/person', 0.0063345703548415054)\n",
            "('% out-of-county trips', 0.01796993286599509)\n",
            "('% out-of-state trips', 0.01274942433359056)\n",
            "('Miles/person', 0.009623296022923021)\n",
            "('Work trips/person', 0.005959220232892642)\n",
            "('Non-work trips/person', 0.007916538791697207)\n",
            "('Population', 0.02970960014526397)\n",
            "('% change in consumption', 0.015042290332226739)\n",
            "('Transit mode share', 0.02955597788208887)\n",
            "('% people older than 60', 0.03644197516174981)\n",
            "('Median income', 0.023781950294863796)\n",
            "('% African Americans', 0.02837067904015789)\n",
            "('% Hispanic Americans', 0.03712421737509074)\n",
            "('% Male', 0.06008516916127611)\n",
            "('Population density', 0.03416997489616335)\n",
            "('Employment density', 0.03792173207799789)\n",
            "('# hot spots/1000 people', 0.031485223881981404)\n",
            "('Hospital beds/1000 people', 0.0)\n",
            "('ICUs/1000 people', 0.0)\n",
            "('# contact tracing workers/1000 people', 0.0)\n",
            "('# contact tracing workers/1000 people rank', 0.0)\n",
            "('% people older than 60 rank', 0.036014252227445046)\n",
            "('COVID exposure/1000 people', 0.08180954082946719)\n",
            "('Unemployment claims/1000 people', 0.03715849324614472)\n",
            "('Unemployment rate', 0.07760243433475966)\n",
            "('% working from home', 0.02393461194758833)\n",
            "('Cumulative inflation rate', 0.006779725679711276)\n",
            "('% hospital bed utilization', 0.044419514994941664)\n",
            "('Testing capacity', 0.026374079788900662)\n",
            "('Tests done/1000 people', 0.07530482081286005)\n",
            "('% ICU utilization', 0.049929210482075916)\n",
            "('Ventilator shortage', 0.08122579182655754)\n",
            "\n",
            "*****************************************\n",
            "** Printing CA_inertia all county data for Flat Growth ** \n",
            "\n",
            "Features with ranking:\n",
            "\n",
            "mask_rule_active 26\n",
            "Social distancing index 21\n",
            "% staying home 23\n",
            "Trips/person 29\n",
            "% out-of-county trips 19\n",
            "% out-of-state trips 20\n",
            "Miles/person 24\n",
            "Work trips/person 28\n",
            "Non-work trips/person 25\n",
            "Population 7\n",
            "% change in consumption 27\n",
            "Transit mode share 10\n",
            "% people older than 60 11\n",
            "Median income 14\n",
            "% African Americans 13\n",
            "% Hispanic Americans 8\n",
            "% Male 1\n",
            "Population density 4\n",
            "Employment density 2\n",
            "# hot spots/1000 people 5\n",
            "Hospital beds/1000 people 32\n",
            "ICUs/1000 people 31\n",
            "# contact tracing workers/1000 people 33\n",
            "# contact tracing workers/1000 people rank 30\n",
            "% people older than 60 rank 1\n",
            "COVID exposure/1000 people 18\n",
            "Unemployment claims/1000 people 1\n",
            "Unemployment rate 3\n",
            "% working from home 9\n",
            "Cumulative inflation rate 22\n",
            "% hospital bed utilization 12\n",
            "Testing capacity 15\n",
            "Tests done/1000 people 17\n",
            "% ICU utilization 16\n",
            "Ventilator shortage 6\n"
          ],
          "name": "stdout"
        }
      ]
    },
    {
      "cell_type": "markdown",
      "metadata": {
        "colab_type": "text",
        "id": "W_bQsAGgRYsW"
      },
      "source": [
        "### 2.4 Label 3 : Mild Decrement"
      ]
    },
    {
      "cell_type": "code",
      "metadata": {
        "colab_type": "code",
        "id": "iXYuipO2RYsX",
        "colab": {
          "base_uri": "https://localhost:8080/",
          "height": 1000
        },
        "outputId": "4bc5ef81-6aef-4d8a-d3e0-8ce63670d6dc"
      },
      "source": [
        "\n",
        "print(\"** Printing CA_inertia all county data for Mild Decrement ** \")\n",
        "print(CA_inertia_labeled_data_growth3.shape)\n",
        "X = CA_inertia_labeled_data_growth3[inertia_feature_labels]\n",
        "y = CA_inertia_labeled_data_growth3[inertia_target_column]\n",
        "\n",
        "X_train, X_test, y_train, y_test = train_test_split(X, y, test_size=0.4, random_state=0)\n",
        "\n",
        "\n",
        "# Create a random forest classifier\n",
        "clf = RandomForestClassifier(n_estimators=10000, random_state=0, n_jobs=-1)\n",
        "\n",
        "# Train the classifier\n",
        "clf.fit(X_train, y_train)\n",
        "\n",
        "# Print the name and gini importance of each feature\n",
        "for feature in zip(inertia_feature_labels, clf.feature_importances_):\n",
        "    print(feature)\n",
        "\n",
        "\n",
        "\n",
        "#  Supported criteria are “gini” for the Gini impurity and “entropy” for the information gain. \n",
        "\n",
        "clf = RandomForestClassifier(n_estimators=10000, random_state=0,criterion='entropy', n_jobs=-1)\n",
        "\n",
        "# Train the classifier\n",
        "clf.fit(X_train, y_train)\n",
        "\n",
        "# Print the name and gini importance of each feature\n",
        "for feature in zip(inertia_feature_labels, clf.feature_importances_):\n",
        "    print(feature)\n",
        "\n",
        "\n",
        "model = ExtraTreesClassifier()\n",
        "model.fit(X, y.values.ravel())\n",
        "# display the relative importance of each attribute\n",
        "#print(model.feature_importances_)\n",
        "\n",
        "\n",
        "# create the RFE model \n",
        "rfe = RFE(model, 3)\n",
        "rfe = rfe.fit(X, y.values.ravel())\n",
        "# summarize the selection of the attributes\n",
        "#print(rfe.support_)\n",
        "print(\"\\n*****************************************\")\n",
        "print(\"** Printing CA_inertia all county data for Mild Decrement ** \")\n",
        "print(\"\\nFeatures with ranking:\\n\")\n",
        "for index in range(len(rfe.ranking_)):\n",
        "  print(inertia_feature_labels[index], rfe.ranking_[index])\n",
        "\n",
        "#print(rfe.ranking_)\n",
        "#print(rfe.n_features_)\n",
        "#rfe.n_features_to_select\n"
      ],
      "execution_count": 108,
      "outputs": [
        {
          "output_type": "stream",
          "text": [
            "** Printing CA_inertia all county data for Mild Decrement ** \n",
            "(4625, 58)\n"
          ],
          "name": "stdout"
        },
        {
          "output_type": "stream",
          "text": [
            "/usr/local/lib/python3.6/dist-packages/ipykernel_launcher.py:14: DataConversionWarning: A column-vector y was passed when a 1d array was expected. Please change the shape of y to (n_samples,), for example using ravel().\n",
            "  \n"
          ],
          "name": "stderr"
        },
        {
          "output_type": "stream",
          "text": [
            "('mask_rule_active', 0.006681068121096966)\n",
            "('Social distancing index', 0.012905421088340044)\n",
            "('% staying home', 0.011516220283729983)\n",
            "('Trips/person', 0.012824299208278843)\n",
            "('% out-of-county trips', 0.0334479013153414)\n",
            "('% out-of-state trips', 0.029116410629325466)\n",
            "('Miles/person', 0.025257952684170432)\n",
            "('Work trips/person', 0.014731346272340101)\n",
            "('Non-work trips/person', 0.013585073902447875)\n",
            "('Population', 0.04462580690386364)\n",
            "('% change in consumption', 0.015102856242382423)\n",
            "('Transit mode share', 0.04258480919284306)\n",
            "('% people older than 60', 0.032957429561322776)\n",
            "('Median income', 0.03654427920332501)\n",
            "('% African Americans', 0.029855694909708717)\n",
            "('% Hispanic Americans', 0.035104816195397646)\n",
            "('% Male', 0.03728875454444808)\n",
            "('Population density', 0.04159943532626643)\n",
            "('Employment density', 0.04037415647117183)\n",
            "('# hot spots/1000 people', 0.03685714071708172)\n",
            "('Hospital beds/1000 people', 0.0)\n",
            "('ICUs/1000 people', 0.0)\n",
            "('# contact tracing workers/1000 people', 0.0)\n",
            "('# contact tracing workers/1000 people rank', 0.0)\n",
            "('% people older than 60 rank', 0.0327001674067064)\n",
            "('COVID exposure/1000 people', 0.0576017934661651)\n",
            "('Unemployment claims/1000 people', 0.027537968393313874)\n",
            "('Unemployment rate', 0.04188811484754864)\n",
            "('% working from home', 0.027346179532117855)\n",
            "('Cumulative inflation rate', 0.014204179181869756)\n",
            "('% hospital bed utilization', 0.03502309963301002)\n",
            "('Testing capacity', 0.05140014881499072)\n",
            "('Tests done/1000 people', 0.06345015917220151)\n",
            "('% ICU utilization', 0.043770303793516804)\n",
            "('Ventilator shortage', 0.052117012985676864)\n"
          ],
          "name": "stdout"
        },
        {
          "output_type": "stream",
          "text": [
            "/usr/local/lib/python3.6/dist-packages/ipykernel_launcher.py:27: DataConversionWarning: A column-vector y was passed when a 1d array was expected. Please change the shape of y to (n_samples,), for example using ravel().\n"
          ],
          "name": "stderr"
        },
        {
          "output_type": "stream",
          "text": [
            "('mask_rule_active', 0.007574421882783021)\n",
            "('Social distancing index', 0.010399285456331592)\n",
            "('% staying home', 0.00882887509599081)\n",
            "('Trips/person', 0.009395245256420728)\n",
            "('% out-of-county trips', 0.030933740588160372)\n",
            "('% out-of-state trips', 0.0279151642376532)\n",
            "('Miles/person', 0.020738713081216092)\n",
            "('Work trips/person', 0.010632713418482194)\n",
            "('Non-work trips/person', 0.010560575519034616)\n",
            "('Population', 0.04620811352982778)\n",
            "('% change in consumption', 0.011397356867160114)\n",
            "('Transit mode share', 0.04210350199885168)\n",
            "('% people older than 60', 0.03137820038514557)\n",
            "('Median income', 0.03643744461338941)\n",
            "('% African Americans', 0.03131690954246489)\n",
            "('% Hispanic Americans', 0.03481549515265411)\n",
            "('% Male', 0.04315296126003624)\n",
            "('Population density', 0.04346980689467577)\n",
            "('Employment density', 0.042852875677189005)\n",
            "('# hot spots/1000 people', 0.03528743522685633)\n",
            "('Hospital beds/1000 people', 0.0)\n",
            "('ICUs/1000 people', 0.0)\n",
            "('# contact tracing workers/1000 people', 0.0)\n",
            "('# contact tracing workers/1000 people rank', 0.0)\n",
            "('% people older than 60 rank', 0.030726070138868772)\n",
            "('COVID exposure/1000 people', 0.0639504277971099)\n",
            "('Unemployment claims/1000 people', 0.02619626249936333)\n",
            "('Unemployment rate', 0.046933595456165524)\n",
            "('% working from home', 0.026886010282002472)\n",
            "('Cumulative inflation rate', 0.014785679052009962)\n",
            "('% hospital bed utilization', 0.03841870893368024)\n",
            "('Testing capacity', 0.04764009316190483)\n",
            "('Tests done/1000 people', 0.06918710631650607)\n",
            "('% ICU utilization', 0.04506186632523767)\n",
            "('Ventilator shortage', 0.054815344352827845)\n",
            "\n",
            "*****************************************\n",
            "** Printing CA_inertia all county data for Mild Decrement ** \n",
            "\n",
            "Features with ranking:\n",
            "\n",
            "mask_rule_active 23\n",
            "Social distancing index 24\n",
            "% staying home 27\n",
            "Trips/person 28\n",
            "% out-of-county trips 18\n",
            "% out-of-state trips 20\n",
            "Miles/person 22\n",
            "Work trips/person 25\n",
            "Non-work trips/person 26\n",
            "Population 16\n",
            "% change in consumption 29\n",
            "Transit mode share 5\n",
            "% people older than 60 3\n",
            "Median income 13\n",
            "% African Americans 15\n",
            "% Hispanic Americans 1\n",
            "% Male 1\n",
            "Population density 6\n",
            "Employment density 8\n",
            "# hot spots/1000 people 12\n",
            "Hospital beds/1000 people 31\n",
            "ICUs/1000 people 30\n",
            "# contact tracing workers/1000 people 32\n",
            "# contact tracing workers/1000 people rank 33\n",
            "% people older than 60 rank 10\n",
            "COVID exposure/1000 people 7\n",
            "Unemployment claims/1000 people 11\n",
            "Unemployment rate 1\n",
            "% working from home 19\n",
            "Cumulative inflation rate 21\n",
            "% hospital bed utilization 17\n",
            "Testing capacity 14\n",
            "Tests done/1000 people 2\n",
            "% ICU utilization 9\n",
            "Ventilator shortage 4\n"
          ],
          "name": "stdout"
        }
      ]
    },
    {
      "cell_type": "markdown",
      "metadata": {
        "colab_type": "text",
        "id": "laRCiTVHRYsc"
      },
      "source": [
        "### 2.5 Label 4 : Mild Increment -No data, need to check labeling"
      ]
    },
    {
      "cell_type": "code",
      "metadata": {
        "colab_type": "code",
        "id": "TlvwNDW5RYsc",
        "colab": {
          "base_uri": "https://localhost:8080/",
          "height": 438
        },
        "outputId": "a6e5e2e7-0b09-4cde-c7d2-cc5d65549964"
      },
      "source": [
        "print(\"** Printing CA_inertia all county data for Mild Increment ** \")\n",
        "print(CA_inertia_labeled_data_growth4.shape)\n",
        "X = CA_inertia_labeled_data_growth4[inertia_feature_labels]\n",
        "y = CA_inertia_labeled_data_growth4[inertia_target_column]\n",
        "\n",
        "X_train, X_test, y_train, y_test = train_test_split(X, y, test_size=0.4, random_state=0)\n",
        "\n",
        "\n",
        "# Create a random forest classifier\n",
        "clf = RandomForestClassifier(n_estimators=10000, random_state=0, n_jobs=-1)\n",
        "\n",
        "# Train the classifier\n",
        "clf.fit(X_train, y_train)\n",
        "\n",
        "# Print the name and gini importance of each feature\n",
        "for feature in zip(inertia_feature_labels, clf.feature_importances_):\n",
        "    print(feature)\n",
        "\n",
        "\n",
        "\n",
        "#  Supported criteria are “gini” for the Gini impurity and “entropy” for the information gain. \n",
        "\n",
        "clf = RandomForestClassifier(n_estimators=10000, random_state=0,criterion='entropy', n_jobs=-1)\n",
        "\n",
        "# Train the classifier\n",
        "clf.fit(X_train, y_train)\n",
        "\n",
        "# Print the name and gini importance of each feature\n",
        "for feature in zip(inertia_feature_labels, clf.feature_importances_):\n",
        "    print(feature)\n",
        "\n",
        "\n",
        "model = ExtraTreesClassifier()\n",
        "model.fit(X, y.values.ravel())\n",
        "# display the relative importance of each attribute\n",
        "#print(model.feature_importances_)\n",
        "\n",
        "\n",
        "# create the RFE model \n",
        "rfe = RFE(model, 3)\n",
        "rfe = rfe.fit(X, y.values.ravel())\n",
        "# summarize the selection of the attributes\n",
        "#print(rfe.support_)\n",
        "print(\"\\n*****************************************\")\n",
        "print(\"** Printing CA_inertia all county data for Mild Increment ** \")\n",
        "print(\"\\nFeatures with ranking:\\n\")\n",
        "for index in range(len(rfe.ranking_)):\n",
        "  print(inertia_feature_labels[index], rfe.ranking_[index])\n",
        "\n",
        "#print(rfe.ranking_)\n",
        "#print(rfe.n_features_)\n",
        "#rfe.n_features_to_select\n"
      ],
      "execution_count": 109,
      "outputs": [
        {
          "output_type": "stream",
          "text": [
            "** Printing CA_inertia all county data for Mild Increment ** \n",
            "(0, 58)\n"
          ],
          "name": "stdout"
        },
        {
          "output_type": "error",
          "ename": "ValueError",
          "evalue": "ignored",
          "traceback": [
            "\u001b[0;31m---------------------------------------------------------------------------\u001b[0m",
            "\u001b[0;31mValueError\u001b[0m                                Traceback (most recent call last)",
            "\u001b[0;32m<ipython-input-109-b41d36ae88fc>\u001b[0m in \u001b[0;36m<module>\u001b[0;34m()\u001b[0m\n\u001b[1;32m      4\u001b[0m \u001b[0my\u001b[0m \u001b[0;34m=\u001b[0m \u001b[0mCA_inertia_labeled_data_growth4\u001b[0m\u001b[0;34m[\u001b[0m\u001b[0minertia_target_column\u001b[0m\u001b[0;34m]\u001b[0m\u001b[0;34m\u001b[0m\u001b[0;34m\u001b[0m\u001b[0m\n\u001b[1;32m      5\u001b[0m \u001b[0;34m\u001b[0m\u001b[0m\n\u001b[0;32m----> 6\u001b[0;31m \u001b[0mX_train\u001b[0m\u001b[0;34m,\u001b[0m \u001b[0mX_test\u001b[0m\u001b[0;34m,\u001b[0m \u001b[0my_train\u001b[0m\u001b[0;34m,\u001b[0m \u001b[0my_test\u001b[0m \u001b[0;34m=\u001b[0m \u001b[0mtrain_test_split\u001b[0m\u001b[0;34m(\u001b[0m\u001b[0mX\u001b[0m\u001b[0;34m,\u001b[0m \u001b[0my\u001b[0m\u001b[0;34m,\u001b[0m \u001b[0mtest_size\u001b[0m\u001b[0;34m=\u001b[0m\u001b[0;36m0.4\u001b[0m\u001b[0;34m,\u001b[0m \u001b[0mrandom_state\u001b[0m\u001b[0;34m=\u001b[0m\u001b[0;36m0\u001b[0m\u001b[0;34m)\u001b[0m\u001b[0;34m\u001b[0m\u001b[0;34m\u001b[0m\u001b[0m\n\u001b[0m\u001b[1;32m      7\u001b[0m \u001b[0;34m\u001b[0m\u001b[0m\n\u001b[1;32m      8\u001b[0m \u001b[0;34m\u001b[0m\u001b[0m\n",
            "\u001b[0;32m/usr/local/lib/python3.6/dist-packages/sklearn/model_selection/_split.py\u001b[0m in \u001b[0;36mtrain_test_split\u001b[0;34m(*arrays, **options)\u001b[0m\n\u001b[1;32m   2120\u001b[0m     \u001b[0mn_samples\u001b[0m \u001b[0;34m=\u001b[0m \u001b[0m_num_samples\u001b[0m\u001b[0;34m(\u001b[0m\u001b[0marrays\u001b[0m\u001b[0;34m[\u001b[0m\u001b[0;36m0\u001b[0m\u001b[0;34m]\u001b[0m\u001b[0;34m)\u001b[0m\u001b[0;34m\u001b[0m\u001b[0;34m\u001b[0m\u001b[0m\n\u001b[1;32m   2121\u001b[0m     n_train, n_test = _validate_shuffle_split(n_samples, test_size, train_size,\n\u001b[0;32m-> 2122\u001b[0;31m                                               default_test_size=0.25)\n\u001b[0m\u001b[1;32m   2123\u001b[0m \u001b[0;34m\u001b[0m\u001b[0m\n\u001b[1;32m   2124\u001b[0m     \u001b[0;32mif\u001b[0m \u001b[0mshuffle\u001b[0m \u001b[0;32mis\u001b[0m \u001b[0;32mFalse\u001b[0m\u001b[0;34m:\u001b[0m\u001b[0;34m\u001b[0m\u001b[0;34m\u001b[0m\u001b[0m\n",
            "\u001b[0;32m/usr/local/lib/python3.6/dist-packages/sklearn/model_selection/_split.py\u001b[0m in \u001b[0;36m_validate_shuffle_split\u001b[0;34m(n_samples, test_size, train_size, default_test_size)\u001b[0m\n\u001b[1;32m   1803\u001b[0m             \u001b[0;34m'resulting train set will be empty. Adjust any of the '\u001b[0m\u001b[0;34m\u001b[0m\u001b[0;34m\u001b[0m\u001b[0m\n\u001b[1;32m   1804\u001b[0m             'aforementioned parameters.'.format(n_samples, test_size,\n\u001b[0;32m-> 1805\u001b[0;31m                                                 train_size)\n\u001b[0m\u001b[1;32m   1806\u001b[0m         )\n\u001b[1;32m   1807\u001b[0m \u001b[0;34m\u001b[0m\u001b[0m\n",
            "\u001b[0;31mValueError\u001b[0m: With n_samples=0, test_size=0.4 and train_size=None, the resulting train set will be empty. Adjust any of the aforementioned parameters."
          ]
        }
      ]
    }
  ]
}