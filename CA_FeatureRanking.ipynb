{
  "nbformat": 4,
  "nbformat_minor": 0,
  "metadata": {
    "colab": {
      "name": "CA_FeatureRanking.ipynb",
      "provenance": [],
      "toc_visible": true,
      "machine_shape": "hm",
      "include_colab_link": true
    },
    "kernelspec": {
      "name": "python3",
      "display_name": "Python 3"
    },
    "accelerator": "GPU"
  },
  "cells": [
    {
      "cell_type": "markdown",
      "metadata": {
        "id": "view-in-github",
        "colab_type": "text"
      },
      "source": [
        "<a href=\"https://colab.research.google.com/github/aarsanjani/meansquares/blob/master/CA_FeatureRanking.ipynb\" target=\"_parent\"><img src=\"https://colab.research.google.com/assets/colab-badge.svg\" alt=\"Open In Colab\"/></a>"
      ]
    },
    {
      "cell_type": "markdown",
      "metadata": {
        "id": "l346AV8oZPe-",
        "colab_type": "text"
      },
      "source": [
        "# Goal:\n",
        "Using Random Forest to estimate the gini index and feature importance for all features from CA dataset\n",
        "\n",
        "Using Scikit-learn to compute PCA"
      ]
    },
    {
      "cell_type": "markdown",
      "metadata": {
        "id": "thBIWXyoZh3U",
        "colab_type": "text"
      },
      "source": [
        "## Mount Google drive"
      ]
    },
    {
      "cell_type": "code",
      "metadata": {
        "id": "3N0GpmS9ZJFo",
        "colab_type": "code",
        "colab": {
          "base_uri": "https://localhost:8080/",
          "height": 34
        },
        "outputId": "822c86e2-1d22-495d-ab33-2088cc78f0c0"
      },
      "source": [
        "from google.colab import drive\n",
        "drive.mount('/content/drive')"
      ],
      "execution_count": 1,
      "outputs": [
        {
          "output_type": "stream",
          "text": [
            "Mounted at /content/drive\n"
          ],
          "name": "stdout"
        }
      ]
    },
    {
      "cell_type": "code",
      "metadata": {
        "id": "ogU_R9SvZjuR",
        "colab_type": "code",
        "colab": {}
      },
      "source": [
        "import pandas as pd\n",
        "\n",
        "from sklearn import preprocessing\n",
        "from sklearn.model_selection import train_test_split\n",
        "\n",
        "from sklearn.preprocessing import LabelEncoder\n",
        "from sklearn.preprocessing import StandardScaler as ss\n",
        "import itertools\n",
        "from scipy import linalg\n",
        "from sklearn.ensemble import RandomForestClassifier\n",
        "from sklearn.tree import export_graphviz\n",
        "import numpy as np\n",
        "import matplotlib.pyplot as plt"
      ],
      "execution_count": 2,
      "outputs": []
    },
    {
      "cell_type": "markdown",
      "metadata": {
        "id": "mjW80L8CZzrv",
        "colab_type": "text"
      },
      "source": [
        "# 1.Load data - Combined CA Data"
      ]
    },
    {
      "cell_type": "code",
      "metadata": {
        "id": "HzV2n_7iZwr9",
        "colab_type": "code",
        "colab": {
          "base_uri": "https://localhost:8080/",
          "height": 34
        },
        "outputId": "db287c4f-1375-4e2d-ab82-6c516c6363ff"
      },
      "source": [
        "CA_labeled_data = pd.read_csv('/content/drive/Shared drives/CMPE 295- Master Project/Covid19-data/CA_labeledData_Sep17.csv',low_memory=False)\n",
        "print(CA_labeled_data.shape)"
      ],
      "execution_count": 3,
      "outputs": [
        {
          "output_type": "stream",
          "text": [
            "(9196, 19)\n"
          ],
          "name": "stdout"
        }
      ]
    },
    {
      "cell_type": "code",
      "metadata": {
        "id": "rphAMDm_aBqd",
        "colab_type": "code",
        "colab": {
          "base_uri": "https://localhost:8080/",
          "height": 353
        },
        "outputId": "6498738f-8221-485e-c1c1-1bd35949ef55"
      },
      "source": [
        "CA_labeled_data.dtypes"
      ],
      "execution_count": 4,
      "outputs": [
        {
          "output_type": "execute_result",
          "data": {
            "text/plain": [
              "Date                      object\n",
              "fips_x                     int64\n",
              "County Name               object\n",
              "retail and recreation    float64\n",
              "grocery and pharmacy     float64\n",
              "parks                    float64\n",
              "transit stations         float64\n",
              "workplaces               float64\n",
              "residential              float64\n",
              "driving                  float64\n",
              "m50                      float64\n",
              "m50_index                  int64\n",
              "population_density       float64\n",
              "mask_rule_active           int64\n",
              "mask_wearing_percent     float64\n",
              "New cases                  int64\n",
              "rolling_avg_new_cases    float64\n",
              "label                     object\n",
              "growth_label              object\n",
              "dtype: object"
            ]
          },
          "metadata": {
            "tags": []
          },
          "execution_count": 4
        }
      ]
    },
    {
      "cell_type": "markdown",
      "metadata": {
        "id": "nItxaLWfcCGl",
        "colab_type": "text"
      },
      "source": [
        "## Preprocessing data \n",
        "\n",
        "* drop na\n",
        "* convert categorical code"
      ]
    },
    {
      "cell_type": "code",
      "metadata": {
        "id": "atHU0JIiaDsb",
        "colab_type": "code",
        "colab": {
          "base_uri": "https://localhost:8080/",
          "height": 194
        },
        "outputId": "b2d08071-048d-4a72-bd26-f81635f3dec4"
      },
      "source": [
        "CA_labeled_data['label_code'] = CA_labeled_data['label'].astype('category').cat.codes\n",
        "\n",
        "CA_labeled_data.head(2)"
      ],
      "execution_count": 5,
      "outputs": [
        {
          "output_type": "execute_result",
          "data": {
            "text/html": [
              "<div>\n",
              "<style scoped>\n",
              "    .dataframe tbody tr th:only-of-type {\n",
              "        vertical-align: middle;\n",
              "    }\n",
              "\n",
              "    .dataframe tbody tr th {\n",
              "        vertical-align: top;\n",
              "    }\n",
              "\n",
              "    .dataframe thead th {\n",
              "        text-align: right;\n",
              "    }\n",
              "</style>\n",
              "<table border=\"1\" class=\"dataframe\">\n",
              "  <thead>\n",
              "    <tr style=\"text-align: right;\">\n",
              "      <th></th>\n",
              "      <th>Date</th>\n",
              "      <th>fips_x</th>\n",
              "      <th>County Name</th>\n",
              "      <th>retail and recreation</th>\n",
              "      <th>grocery and pharmacy</th>\n",
              "      <th>parks</th>\n",
              "      <th>transit stations</th>\n",
              "      <th>workplaces</th>\n",
              "      <th>residential</th>\n",
              "      <th>driving</th>\n",
              "      <th>m50</th>\n",
              "      <th>m50_index</th>\n",
              "      <th>population_density</th>\n",
              "      <th>mask_rule_active</th>\n",
              "      <th>mask_wearing_percent</th>\n",
              "      <th>New cases</th>\n",
              "      <th>rolling_avg_new_cases</th>\n",
              "      <th>label</th>\n",
              "      <th>growth_label</th>\n",
              "      <th>label_code</th>\n",
              "    </tr>\n",
              "  </thead>\n",
              "  <tbody>\n",
              "    <tr>\n",
              "      <th>0</th>\n",
              "      <td>2020-03-01</td>\n",
              "      <td>6001</td>\n",
              "      <td>Alameda County</td>\n",
              "      <td>6.0</td>\n",
              "      <td>9.0</td>\n",
              "      <td>15.0</td>\n",
              "      <td>1.0</td>\n",
              "      <td>4.0</td>\n",
              "      <td>0.0</td>\n",
              "      <td>-7.65</td>\n",
              "      <td>3.684</td>\n",
              "      <td>58</td>\n",
              "      <td>2261.547725</td>\n",
              "      <td>0</td>\n",
              "      <td>0.0</td>\n",
              "      <td>0</td>\n",
              "      <td>0.0</td>\n",
              "      <td>LessSpread</td>\n",
              "      <td>flat_growth</td>\n",
              "      <td>0</td>\n",
              "    </tr>\n",
              "    <tr>\n",
              "      <th>1</th>\n",
              "      <td>2020-03-01</td>\n",
              "      <td>6067</td>\n",
              "      <td>Sacramento County</td>\n",
              "      <td>11.0</td>\n",
              "      <td>4.0</td>\n",
              "      <td>26.0</td>\n",
              "      <td>1.0</td>\n",
              "      <td>2.0</td>\n",
              "      <td>-1.0</td>\n",
              "      <td>-4.63</td>\n",
              "      <td>3.773</td>\n",
              "      <td>53</td>\n",
              "      <td>1608.950489</td>\n",
              "      <td>0</td>\n",
              "      <td>0.0</td>\n",
              "      <td>0</td>\n",
              "      <td>0.0</td>\n",
              "      <td>LessSpread</td>\n",
              "      <td>flat_growth</td>\n",
              "      <td>0</td>\n",
              "    </tr>\n",
              "  </tbody>\n",
              "</table>\n",
              "</div>"
            ],
            "text/plain": [
              "         Date  fips_x        County Name  ...       label  growth_label  label_code\n",
              "0  2020-03-01    6001     Alameda County  ...  LessSpread   flat_growth           0\n",
              "1  2020-03-01    6067  Sacramento County  ...  LessSpread   flat_growth           0\n",
              "\n",
              "[2 rows x 20 columns]"
            ]
          },
          "metadata": {
            "tags": []
          },
          "execution_count": 5
        }
      ]
    },
    {
      "cell_type": "code",
      "metadata": {
        "id": "xalDlwRNa4T-",
        "colab_type": "code",
        "colab": {}
      },
      "source": [
        "CA_labeled_data = CA_labeled_data.dropna()"
      ],
      "execution_count": 6,
      "outputs": []
    },
    {
      "cell_type": "code",
      "metadata": {
        "id": "oQdh_JQSaXlL",
        "colab_type": "code",
        "colab": {
          "base_uri": "https://localhost:8080/",
          "height": 101
        },
        "outputId": "56a866f5-6024-4a7b-ef6a-998b9a11c927"
      },
      "source": [
        "CA_labeled_data[pd.isna(CA_labeled_data['label'])]"
      ],
      "execution_count": 7,
      "outputs": [
        {
          "output_type": "execute_result",
          "data": {
            "text/html": [
              "<div>\n",
              "<style scoped>\n",
              "    .dataframe tbody tr th:only-of-type {\n",
              "        vertical-align: middle;\n",
              "    }\n",
              "\n",
              "    .dataframe tbody tr th {\n",
              "        vertical-align: top;\n",
              "    }\n",
              "\n",
              "    .dataframe thead th {\n",
              "        text-align: right;\n",
              "    }\n",
              "</style>\n",
              "<table border=\"1\" class=\"dataframe\">\n",
              "  <thead>\n",
              "    <tr style=\"text-align: right;\">\n",
              "      <th></th>\n",
              "      <th>Date</th>\n",
              "      <th>fips_x</th>\n",
              "      <th>County Name</th>\n",
              "      <th>retail and recreation</th>\n",
              "      <th>grocery and pharmacy</th>\n",
              "      <th>parks</th>\n",
              "      <th>transit stations</th>\n",
              "      <th>workplaces</th>\n",
              "      <th>residential</th>\n",
              "      <th>driving</th>\n",
              "      <th>m50</th>\n",
              "      <th>m50_index</th>\n",
              "      <th>population_density</th>\n",
              "      <th>mask_rule_active</th>\n",
              "      <th>mask_wearing_percent</th>\n",
              "      <th>New cases</th>\n",
              "      <th>rolling_avg_new_cases</th>\n",
              "      <th>label</th>\n",
              "      <th>growth_label</th>\n",
              "      <th>label_code</th>\n",
              "    </tr>\n",
              "  </thead>\n",
              "  <tbody>\n",
              "  </tbody>\n",
              "</table>\n",
              "</div>"
            ],
            "text/plain": [
              "Empty DataFrame\n",
              "Columns: [Date, fips_x, County Name, retail and recreation, grocery and pharmacy, parks, transit stations, workplaces, residential, driving, m50, m50_index, population_density, mask_rule_active, mask_wearing_percent, New cases, rolling_avg_new_cases, label, growth_label, label_code]\n",
              "Index: []"
            ]
          },
          "metadata": {
            "tags": []
          },
          "execution_count": 7
        }
      ]
    },
    {
      "cell_type": "code",
      "metadata": {
        "id": "QqIRFkp-aPIE",
        "colab_type": "code",
        "colab": {
          "base_uri": "https://localhost:8080/",
          "height": 34
        },
        "outputId": "e3d9ccdf-25b4-47c0-b622-7e2eec24c732"
      },
      "source": [
        "CA_labeled_data['label_code'].unique()"
      ],
      "execution_count": 8,
      "outputs": [
        {
          "output_type": "execute_result",
          "data": {
            "text/plain": [
              "array([0, 1, 2], dtype=int8)"
            ]
          },
          "metadata": {
            "tags": []
          },
          "execution_count": 8
        }
      ]
    },
    {
      "cell_type": "code",
      "metadata": {
        "id": "u_0KNgMwbAtU",
        "colab_type": "code",
        "colab": {
          "base_uri": "https://localhost:8080/",
          "height": 350
        },
        "outputId": "1368eff9-0645-470c-c96a-7e8a1ba44b47"
      },
      "source": [
        "CA_labeled_data['growth_code'] = CA_labeled_data['growth_label'].astype('category').cat.codes\n",
        "CA_labeled_data.head()"
      ],
      "execution_count": 9,
      "outputs": [
        {
          "output_type": "execute_result",
          "data": {
            "text/html": [
              "<div>\n",
              "<style scoped>\n",
              "    .dataframe tbody tr th:only-of-type {\n",
              "        vertical-align: middle;\n",
              "    }\n",
              "\n",
              "    .dataframe tbody tr th {\n",
              "        vertical-align: top;\n",
              "    }\n",
              "\n",
              "    .dataframe thead th {\n",
              "        text-align: right;\n",
              "    }\n",
              "</style>\n",
              "<table border=\"1\" class=\"dataframe\">\n",
              "  <thead>\n",
              "    <tr style=\"text-align: right;\">\n",
              "      <th></th>\n",
              "      <th>Date</th>\n",
              "      <th>fips_x</th>\n",
              "      <th>County Name</th>\n",
              "      <th>retail and recreation</th>\n",
              "      <th>grocery and pharmacy</th>\n",
              "      <th>parks</th>\n",
              "      <th>transit stations</th>\n",
              "      <th>workplaces</th>\n",
              "      <th>residential</th>\n",
              "      <th>driving</th>\n",
              "      <th>m50</th>\n",
              "      <th>m50_index</th>\n",
              "      <th>population_density</th>\n",
              "      <th>mask_rule_active</th>\n",
              "      <th>mask_wearing_percent</th>\n",
              "      <th>New cases</th>\n",
              "      <th>rolling_avg_new_cases</th>\n",
              "      <th>label</th>\n",
              "      <th>growth_label</th>\n",
              "      <th>label_code</th>\n",
              "      <th>growth_code</th>\n",
              "    </tr>\n",
              "  </thead>\n",
              "  <tbody>\n",
              "    <tr>\n",
              "      <th>0</th>\n",
              "      <td>2020-03-01</td>\n",
              "      <td>6001</td>\n",
              "      <td>Alameda County</td>\n",
              "      <td>6.0</td>\n",
              "      <td>9.0</td>\n",
              "      <td>15.0</td>\n",
              "      <td>1.0</td>\n",
              "      <td>4.0</td>\n",
              "      <td>0.0</td>\n",
              "      <td>-7.65</td>\n",
              "      <td>3.684</td>\n",
              "      <td>58</td>\n",
              "      <td>2261.547725</td>\n",
              "      <td>0</td>\n",
              "      <td>0.0</td>\n",
              "      <td>0</td>\n",
              "      <td>0.0</td>\n",
              "      <td>LessSpread</td>\n",
              "      <td>flat_growth</td>\n",
              "      <td>0</td>\n",
              "      <td>2</td>\n",
              "    </tr>\n",
              "    <tr>\n",
              "      <th>1</th>\n",
              "      <td>2020-03-01</td>\n",
              "      <td>6067</td>\n",
              "      <td>Sacramento County</td>\n",
              "      <td>11.0</td>\n",
              "      <td>4.0</td>\n",
              "      <td>26.0</td>\n",
              "      <td>1.0</td>\n",
              "      <td>2.0</td>\n",
              "      <td>-1.0</td>\n",
              "      <td>-4.63</td>\n",
              "      <td>3.773</td>\n",
              "      <td>53</td>\n",
              "      <td>1608.950489</td>\n",
              "      <td>0</td>\n",
              "      <td>0.0</td>\n",
              "      <td>0</td>\n",
              "      <td>0.0</td>\n",
              "      <td>LessSpread</td>\n",
              "      <td>flat_growth</td>\n",
              "      <td>0</td>\n",
              "      <td>2</td>\n",
              "    </tr>\n",
              "    <tr>\n",
              "      <th>2</th>\n",
              "      <td>2020-03-01</td>\n",
              "      <td>6069</td>\n",
              "      <td>San Benito County</td>\n",
              "      <td>2.0</td>\n",
              "      <td>-1.0</td>\n",
              "      <td>-7.0</td>\n",
              "      <td>0.0</td>\n",
              "      <td>0.0</td>\n",
              "      <td>0.0</td>\n",
              "      <td>10.40</td>\n",
              "      <td>3.876</td>\n",
              "      <td>33</td>\n",
              "      <td>45.227585</td>\n",
              "      <td>0</td>\n",
              "      <td>0.0</td>\n",
              "      <td>0</td>\n",
              "      <td>0.0</td>\n",
              "      <td>LessSpread</td>\n",
              "      <td>flat_growth</td>\n",
              "      <td>0</td>\n",
              "      <td>2</td>\n",
              "    </tr>\n",
              "    <tr>\n",
              "      <th>3</th>\n",
              "      <td>2020-03-01</td>\n",
              "      <td>6071</td>\n",
              "      <td>San Bernardino County</td>\n",
              "      <td>5.0</td>\n",
              "      <td>-2.0</td>\n",
              "      <td>-22.0</td>\n",
              "      <td>2.0</td>\n",
              "      <td>-1.0</td>\n",
              "      <td>0.0</td>\n",
              "      <td>10.34</td>\n",
              "      <td>4.508</td>\n",
              "      <td>57</td>\n",
              "      <td>108.694796</td>\n",
              "      <td>0</td>\n",
              "      <td>0.0</td>\n",
              "      <td>0</td>\n",
              "      <td>0.0</td>\n",
              "      <td>LessSpread</td>\n",
              "      <td>flat_growth</td>\n",
              "      <td>0</td>\n",
              "      <td>2</td>\n",
              "    </tr>\n",
              "    <tr>\n",
              "      <th>4</th>\n",
              "      <td>2020-03-01</td>\n",
              "      <td>6073</td>\n",
              "      <td>San Diego County</td>\n",
              "      <td>2.0</td>\n",
              "      <td>-1.0</td>\n",
              "      <td>-20.0</td>\n",
              "      <td>-4.0</td>\n",
              "      <td>2.0</td>\n",
              "      <td>0.0</td>\n",
              "      <td>-4.99</td>\n",
              "      <td>4.555</td>\n",
              "      <td>59</td>\n",
              "      <td>793.587741</td>\n",
              "      <td>0</td>\n",
              "      <td>0.0</td>\n",
              "      <td>0</td>\n",
              "      <td>0.0</td>\n",
              "      <td>LessSpread</td>\n",
              "      <td>flat_growth</td>\n",
              "      <td>0</td>\n",
              "      <td>2</td>\n",
              "    </tr>\n",
              "  </tbody>\n",
              "</table>\n",
              "</div>"
            ],
            "text/plain": [
              "         Date  fips_x  ... label_code  growth_code\n",
              "0  2020-03-01    6001  ...          0            2\n",
              "1  2020-03-01    6067  ...          0            2\n",
              "2  2020-03-01    6069  ...          0            2\n",
              "3  2020-03-01    6071  ...          0            2\n",
              "4  2020-03-01    6073  ...          0            2\n",
              "\n",
              "[5 rows x 21 columns]"
            ]
          },
          "metadata": {
            "tags": []
          },
          "execution_count": 9
        }
      ]
    },
    {
      "cell_type": "code",
      "metadata": {
        "id": "Rnfoncl0bGfe",
        "colab_type": "code",
        "colab": {
          "base_uri": "https://localhost:8080/",
          "height": 34
        },
        "outputId": "a3777b4c-3166-4054-82ab-074a3ee53b43"
      },
      "source": [
        "CA_labeled_data['growth_code'].unique()"
      ],
      "execution_count": 10,
      "outputs": [
        {
          "output_type": "execute_result",
          "data": {
            "text/plain": [
              "array([2, 3, 4, 0, 1], dtype=int8)"
            ]
          },
          "metadata": {
            "tags": []
          },
          "execution_count": 10
        }
      ]
    },
    {
      "cell_type": "code",
      "metadata": {
        "id": "1HVWG1aBcJQo",
        "colab_type": "code",
        "colab": {
          "base_uri": "https://localhost:8080/",
          "height": 386
        },
        "outputId": "eac7c4e6-d8ac-4c25-b513-b5c984201911"
      },
      "source": [
        "CA_labeled_data.dtypes"
      ],
      "execution_count": 11,
      "outputs": [
        {
          "output_type": "execute_result",
          "data": {
            "text/plain": [
              "Date                      object\n",
              "fips_x                     int64\n",
              "County Name               object\n",
              "retail and recreation    float64\n",
              "grocery and pharmacy     float64\n",
              "parks                    float64\n",
              "transit stations         float64\n",
              "workplaces               float64\n",
              "residential              float64\n",
              "driving                  float64\n",
              "m50                      float64\n",
              "m50_index                  int64\n",
              "population_density       float64\n",
              "mask_rule_active           int64\n",
              "mask_wearing_percent     float64\n",
              "New cases                  int64\n",
              "rolling_avg_new_cases    float64\n",
              "label                     object\n",
              "growth_label              object\n",
              "label_code                  int8\n",
              "growth_code                 int8\n",
              "dtype: object"
            ]
          },
          "metadata": {
            "tags": []
          },
          "execution_count": 11
        }
      ]
    },
    {
      "cell_type": "code",
      "metadata": {
        "id": "Q015pwCsbJRZ",
        "colab_type": "code",
        "colab": {}
      },
      "source": [
        "feature_labels = ['retail and recreation','grocery and pharmacy','parks','transit stations','workplaces','residential','driving','m50','m50_index',\n",
        "               'population_density','mask_rule_active']\n",
        "\n",
        "target_column = ['label_code']\n",
        "\n",
        "X = CA_labeled_data[feature_labels]\n",
        "y = CA_labeled_data[target_column]\n",
        "\n",
        "X_train, X_test, y_train, y_test = train_test_split(X, y, test_size=0.4, random_state=0)\n"
      ],
      "execution_count": 12,
      "outputs": []
    },
    {
      "cell_type": "markdown",
      "metadata": {
        "id": "JCogtyG2c_KJ",
        "colab_type": "text"
      },
      "source": [
        "## Train Random Forest classifier"
      ]
    },
    {
      "cell_type": "code",
      "metadata": {
        "id": "2WlgVFSHbGWY",
        "colab_type": "code",
        "colab": {
          "base_uri": "https://localhost:8080/",
          "height": 255
        },
        "outputId": "bb296e18-0b0b-45b0-d418-2fdd093fcb35"
      },
      "source": [
        "# Create a random forest classifier\n",
        "clf = RandomForestClassifier(n_estimators=10000, random_state=0, n_jobs=-1)\n",
        "\n",
        "# Train the classifier\n",
        "clf.fit(X_train, y_train)\n",
        "\n",
        "# Print the name and gini importance of each feature\n",
        "for feature in zip(feature_labels, clf.feature_importances_):\n",
        "    print(feature)"
      ],
      "execution_count": 13,
      "outputs": [
        {
          "output_type": "stream",
          "text": [
            "/usr/local/lib/python3.6/dist-packages/ipykernel_launcher.py:5: DataConversionWarning: A column-vector y was passed when a 1d array was expected. Please change the shape of y to (n_samples,), for example using ravel().\n",
            "  \"\"\"\n"
          ],
          "name": "stderr"
        },
        {
          "output_type": "stream",
          "text": [
            "('retail and recreation', 0.11404503482729024)\n",
            "('grocery and pharmacy', 0.0977353017159239)\n",
            "('parks', 0.08304739743750444)\n",
            "('transit stations', 0.07089533985243181)\n",
            "('workplaces', 0.08453766703056341)\n",
            "('residential', 0.06283150630172737)\n",
            "('driving', 0.18430359774293176)\n",
            "('m50', 0.10379536502744927)\n",
            "('m50_index', 0.08638292041145693)\n",
            "('population_density', 0.10282015610054916)\n",
            "('mask_rule_active', 0.009605713552171631)\n"
          ],
          "name": "stdout"
        }
      ]
    },
    {
      "cell_type": "code",
      "metadata": {
        "id": "3Vc0z9x3dsxZ",
        "colab_type": "code",
        "colab": {
          "base_uri": "https://localhost:8080/",
          "height": 255
        },
        "outputId": "c9cc016f-3aa8-418a-ec5d-01f68f9a0445"
      },
      "source": [
        "\n",
        "#  Supported criteria are “gini” for the Gini impurity and “entropy” for the information gain. \n",
        "clf = RandomForestClassifier(n_estimators=10000, random_state=0,criterion='entropy', n_jobs=-1)\n",
        "\n",
        "# Train the classifier\n",
        "clf.fit(X_train, y_train)\n",
        "\n",
        "# Print the name and gini importance of each feature\n",
        "for feature in zip(feature_labels, clf.feature_importances_):\n",
        "    print(feature)"
      ],
      "execution_count": 14,
      "outputs": [
        {
          "output_type": "stream",
          "text": [
            "/usr/local/lib/python3.6/dist-packages/ipykernel_launcher.py:6: DataConversionWarning: A column-vector y was passed when a 1d array was expected. Please change the shape of y to (n_samples,), for example using ravel().\n",
            "  \n"
          ],
          "name": "stderr"
        },
        {
          "output_type": "stream",
          "text": [
            "('retail and recreation', 0.10842744959745582)\n",
            "('grocery and pharmacy', 0.08938669389635209)\n",
            "('parks', 0.08587410764814926)\n",
            "('transit stations', 0.06943167774920254)\n",
            "('workplaces', 0.0755698414533044)\n",
            "('residential', 0.06139540186683856)\n",
            "('driving', 0.20793673090710485)\n",
            "('m50', 0.08934462864895355)\n",
            "('m50_index', 0.07379536718664355)\n",
            "('population_density', 0.11859726524794632)\n",
            "('mask_rule_active', 0.02024083579804911)\n"
          ],
          "name": "stdout"
        }
      ]
    },
    {
      "cell_type": "markdown",
      "metadata": {
        "id": "D3zWG9KkfUfd",
        "colab_type": "text"
      },
      "source": [
        "## PCA Computation"
      ]
    },
    {
      "cell_type": "code",
      "metadata": {
        "id": "E4VmR9P-5JqM",
        "colab_type": "code",
        "colab": {
          "base_uri": "https://localhost:8080/",
          "height": 34
        },
        "outputId": "a73d3e7c-0055-4602-d897-90e72c0bb411"
      },
      "source": [
        "print(len(feature_labels))"
      ],
      "execution_count": 15,
      "outputs": [
        {
          "output_type": "stream",
          "text": [
            "11\n"
          ],
          "name": "stdout"
        }
      ]
    },
    {
      "cell_type": "code",
      "metadata": {
        "id": "zjEtAIc621LQ",
        "colab_type": "code",
        "colab": {
          "base_uri": "https://localhost:8080/",
          "height": 353
        },
        "outputId": "e2c84ef9-6959-49f7-b975-afa4ecac32d1"
      },
      "source": [
        "# split into training and testing datasets\n",
        "\n",
        "\n",
        "X = CA_labeled_data[feature_labels].values\n",
        "y = CA_labeled_data[target_column].values\n",
        "\n",
        "X_train, X_test, y_train, y_test = train_test_split(X, y, test_size=0.3,stratify=y, random_state=0)\n",
        "print(X_train)\n",
        "print(y_train)"
      ],
      "execution_count": 16,
      "outputs": [
        {
          "output_type": "stream",
          "text": [
            "[[  0.           0.         -19.         ...  40.          27.63595894\n",
            "    0.        ]\n",
            " [-36.          -8.         -15.         ...  39.          47.69825714\n",
            "    0.        ]\n",
            " [  2.           7.          14.         ...  94.          24.52991607\n",
            "    0.        ]\n",
            " ...\n",
            " [-37.         -15.         -29.         ...  42.         167.69094946\n",
            "    0.        ]\n",
            " [-34.         -14.         -12.         ...   8.         110.07470743\n",
            "    0.        ]\n",
            " [-32.          -3.          23.         ...  52.         313.69483136\n",
            "    0.        ]]\n",
            "[[1]\n",
            " [0]\n",
            " [0]\n",
            " ...\n",
            " [1]\n",
            " [1]\n",
            " [0]]\n"
          ],
          "name": "stdout"
        }
      ]
    },
    {
      "cell_type": "code",
      "metadata": {
        "id": "9A68OlBw4WoF",
        "colab_type": "code",
        "colab": {}
      },
      "source": [
        "# standardize the features\n",
        "sc = ss()\n",
        "X_train_std = sc.fit_transform(X_train)\n",
        "X_test_std = sc.transform(X_test)"
      ],
      "execution_count": 17,
      "outputs": []
    },
    {
      "cell_type": "code",
      "metadata": {
        "id": "ev-2B1Qf6XTa",
        "colab_type": "code",
        "colab": {}
      },
      "source": [
        "from sklearn.decomposition import PCA\n",
        "pca = PCA(n_components=2)\n",
        "principalComponents = pca.fit_transform(X)\n",
        "principalDf = pd.DataFrame(data = principalComponents\n",
        "             , columns = ['principal component 1', 'principal component 2'])"
      ],
      "execution_count": 18,
      "outputs": []
    },
    {
      "cell_type": "code",
      "metadata": {
        "id": "pYJms-Kj8RR6",
        "colab_type": "code",
        "colab": {
          "base_uri": "https://localhost:8080/",
          "height": 402
        },
        "outputId": "11184432-047c-48ea-eb85-3be04a6299e3"
      },
      "source": [
        "principalDf"
      ],
      "execution_count": 19,
      "outputs": [
        {
          "output_type": "execute_result",
          "data": {
            "text/html": [
              "<div>\n",
              "<style scoped>\n",
              "    .dataframe tbody tr th:only-of-type {\n",
              "        vertical-align: middle;\n",
              "    }\n",
              "\n",
              "    .dataframe tbody tr th {\n",
              "        vertical-align: top;\n",
              "    }\n",
              "\n",
              "    .dataframe thead th {\n",
              "        text-align: right;\n",
              "    }\n",
              "</style>\n",
              "<table border=\"1\" class=\"dataframe\">\n",
              "  <thead>\n",
              "    <tr style=\"text-align: right;\">\n",
              "      <th></th>\n",
              "      <th>principal component 1</th>\n",
              "      <th>principal component 2</th>\n",
              "    </tr>\n",
              "  </thead>\n",
              "  <tbody>\n",
              "    <tr>\n",
              "      <th>0</th>\n",
              "      <td>1484.211987</td>\n",
              "      <td>12.154369</td>\n",
              "    </tr>\n",
              "    <tr>\n",
              "      <th>1</th>\n",
              "      <td>831.609744</td>\n",
              "      <td>5.251019</td>\n",
              "    </tr>\n",
              "    <tr>\n",
              "      <th>2</th>\n",
              "      <td>-731.962746</td>\n",
              "      <td>-20.095525</td>\n",
              "    </tr>\n",
              "    <tr>\n",
              "      <th>3</th>\n",
              "      <td>-668.548597</td>\n",
              "      <td>3.819142</td>\n",
              "    </tr>\n",
              "    <tr>\n",
              "      <th>4</th>\n",
              "      <td>16.412827</td>\n",
              "      <td>6.835767</td>\n",
              "    </tr>\n",
              "    <tr>\n",
              "      <th>...</th>\n",
              "      <td>...</td>\n",
              "      <td>...</td>\n",
              "    </tr>\n",
              "    <tr>\n",
              "      <th>9177</th>\n",
              "      <td>-704.331544</td>\n",
              "      <td>27.927847</td>\n",
              "    </tr>\n",
              "    <tr>\n",
              "      <th>9178</th>\n",
              "      <td>1696.922797</td>\n",
              "      <td>4.767738</td>\n",
              "    </tr>\n",
              "    <tr>\n",
              "      <th>9179</th>\n",
              "      <td>-691.794582</td>\n",
              "      <td>28.715759</td>\n",
              "    </tr>\n",
              "    <tr>\n",
              "      <th>9180</th>\n",
              "      <td>-771.717397</td>\n",
              "      <td>65.912923</td>\n",
              "    </tr>\n",
              "    <tr>\n",
              "      <th>9181</th>\n",
              "      <td>-653.167438</td>\n",
              "      <td>15.340379</td>\n",
              "    </tr>\n",
              "  </tbody>\n",
              "</table>\n",
              "<p>9182 rows × 2 columns</p>\n",
              "</div>"
            ],
            "text/plain": [
              "      principal component 1  principal component 2\n",
              "0               1484.211987              12.154369\n",
              "1                831.609744               5.251019\n",
              "2               -731.962746             -20.095525\n",
              "3               -668.548597               3.819142\n",
              "4                 16.412827               6.835767\n",
              "...                     ...                    ...\n",
              "9177            -704.331544              27.927847\n",
              "9178            1696.922797               4.767738\n",
              "9179            -691.794582              28.715759\n",
              "9180            -771.717397              65.912923\n",
              "9181            -653.167438              15.340379\n",
              "\n",
              "[9182 rows x 2 columns]"
            ]
          },
          "metadata": {
            "tags": []
          },
          "execution_count": 19
        }
      ]
    },
    {
      "cell_type": "code",
      "metadata": {
        "id": "rDNqe9dF6eZA",
        "colab_type": "code",
        "colab": {
          "base_uri": "https://localhost:8080/",
          "height": 402
        },
        "outputId": "c9775466-2952-4a38-9ee1-4f71783c690f"
      },
      "source": [
        "finalDf = pd.concat([principalDf, CA_labeled_data[target_column]],axis=1 )\n",
        "finalDf"
      ],
      "execution_count": 20,
      "outputs": [
        {
          "output_type": "execute_result",
          "data": {
            "text/html": [
              "<div>\n",
              "<style scoped>\n",
              "    .dataframe tbody tr th:only-of-type {\n",
              "        vertical-align: middle;\n",
              "    }\n",
              "\n",
              "    .dataframe tbody tr th {\n",
              "        vertical-align: top;\n",
              "    }\n",
              "\n",
              "    .dataframe thead th {\n",
              "        text-align: right;\n",
              "    }\n",
              "</style>\n",
              "<table border=\"1\" class=\"dataframe\">\n",
              "  <thead>\n",
              "    <tr style=\"text-align: right;\">\n",
              "      <th></th>\n",
              "      <th>principal component 1</th>\n",
              "      <th>principal component 2</th>\n",
              "      <th>label_code</th>\n",
              "    </tr>\n",
              "  </thead>\n",
              "  <tbody>\n",
              "    <tr>\n",
              "      <th>0</th>\n",
              "      <td>1484.211987</td>\n",
              "      <td>12.154369</td>\n",
              "      <td>0.0</td>\n",
              "    </tr>\n",
              "    <tr>\n",
              "      <th>1</th>\n",
              "      <td>831.609744</td>\n",
              "      <td>5.251019</td>\n",
              "      <td>0.0</td>\n",
              "    </tr>\n",
              "    <tr>\n",
              "      <th>2</th>\n",
              "      <td>-731.962746</td>\n",
              "      <td>-20.095525</td>\n",
              "      <td>0.0</td>\n",
              "    </tr>\n",
              "    <tr>\n",
              "      <th>3</th>\n",
              "      <td>-668.548597</td>\n",
              "      <td>3.819142</td>\n",
              "      <td>0.0</td>\n",
              "    </tr>\n",
              "    <tr>\n",
              "      <th>4</th>\n",
              "      <td>16.412827</td>\n",
              "      <td>6.835767</td>\n",
              "      <td>0.0</td>\n",
              "    </tr>\n",
              "    <tr>\n",
              "      <th>...</th>\n",
              "      <td>...</td>\n",
              "      <td>...</td>\n",
              "      <td>...</td>\n",
              "    </tr>\n",
              "    <tr>\n",
              "      <th>9191</th>\n",
              "      <td>NaN</td>\n",
              "      <td>NaN</td>\n",
              "      <td>0.0</td>\n",
              "    </tr>\n",
              "    <tr>\n",
              "      <th>9192</th>\n",
              "      <td>NaN</td>\n",
              "      <td>NaN</td>\n",
              "      <td>0.0</td>\n",
              "    </tr>\n",
              "    <tr>\n",
              "      <th>9193</th>\n",
              "      <td>NaN</td>\n",
              "      <td>NaN</td>\n",
              "      <td>0.0</td>\n",
              "    </tr>\n",
              "    <tr>\n",
              "      <th>9194</th>\n",
              "      <td>NaN</td>\n",
              "      <td>NaN</td>\n",
              "      <td>0.0</td>\n",
              "    </tr>\n",
              "    <tr>\n",
              "      <th>9195</th>\n",
              "      <td>NaN</td>\n",
              "      <td>NaN</td>\n",
              "      <td>0.0</td>\n",
              "    </tr>\n",
              "  </tbody>\n",
              "</table>\n",
              "<p>9196 rows × 3 columns</p>\n",
              "</div>"
            ],
            "text/plain": [
              "      principal component 1  principal component 2  label_code\n",
              "0               1484.211987              12.154369         0.0\n",
              "1                831.609744               5.251019         0.0\n",
              "2               -731.962746             -20.095525         0.0\n",
              "3               -668.548597               3.819142         0.0\n",
              "4                 16.412827               6.835767         0.0\n",
              "...                     ...                    ...         ...\n",
              "9191                    NaN                    NaN         0.0\n",
              "9192                    NaN                    NaN         0.0\n",
              "9193                    NaN                    NaN         0.0\n",
              "9194                    NaN                    NaN         0.0\n",
              "9195                    NaN                    NaN         0.0\n",
              "\n",
              "[9196 rows x 3 columns]"
            ]
          },
          "metadata": {
            "tags": []
          },
          "execution_count": 20
        }
      ]
    },
    {
      "cell_type": "code",
      "metadata": {
        "id": "nx4DfVPy6uI6",
        "colab_type": "code",
        "colab": {
          "base_uri": "https://localhost:8080/",
          "height": 574
        },
        "outputId": "7430f204-d718-4049-fc93-915840a4555b"
      },
      "source": [
        "fig = plt.figure(figsize = (8,8))\n",
        "ax = fig.add_subplot(1,1,1) \n",
        "ax.set_xlabel('Principal Component 1', fontsize = 15)\n",
        "ax.set_ylabel('Principal Component 2', fontsize = 15)\n",
        "ax.set_title('2 component PCA', fontsize = 20)\n",
        "targets = ['LowSpread', 'Spread', 'SuperSpread']\n",
        "targets2 = np.unique(y_train)\n",
        "colors = ['r', 'g', 'b']\n",
        "for target, color in zip(targets2,colors):\n",
        "    print(target)\n",
        "    indicesToKeep = finalDf['label_code'] == target\n",
        "    ax.scatter(finalDf.loc[indicesToKeep, 'principal component 1']\n",
        "               , finalDf.loc[indicesToKeep, 'principal component 2']\n",
        "               , c = color\n",
        "               , s = 50)\n",
        "ax.legend(targets)\n",
        "ax.grid()"
      ],
      "execution_count": 21,
      "outputs": [
        {
          "output_type": "stream",
          "text": [
            "0\n",
            "1\n",
            "2\n"
          ],
          "name": "stdout"
        },
        {
          "output_type": "display_data",
          "data": {
            "image/png": "[encoded data removed]",
            "text/plain": [
              "<Figure size 576x576 with 1 Axes>"
            ]
          },
          "metadata": {
            "tags": [],
            "needs_background": "light"
          }
        }
      ]
    },
    {
      "cell_type": "code",
      "metadata": {
        "id": "1MDNSQeG4ZWI",
        "colab_type": "code",
        "colab": {}
      },
      "source": [
        "#obtain the eigenpairs of the Wine covariance matrix:\n",
        "#data_cov = np.dot(np.transpose(data.values),data.values)\n",
        "#data_cov\n",
        "X_train_cov = np.cov(X_train_std.T)\n",
        "w, v = np.linalg.eig(X_train_cov)"
      ],
      "execution_count": 22,
      "outputs": []
    },
    {
      "cell_type": "code",
      "metadata": {
        "id": "Too9Fkoi4cBt",
        "colab_type": "code",
        "colab": {
          "base_uri": "https://localhost:8080/",
          "height": 84
        },
        "outputId": "a47fd05e-4855-49ab-d4c4-3ce96defdc4d"
      },
      "source": [
        "#The percent of variability contained within each component\n",
        "w_percent = (w/np.sum(w))*100                 \n",
        "print(w, '-> eigenvalues')\n",
        "print(w_percent, ' -> percent of variability explained')"
      ],
      "execution_count": 23,
      "outputs": [
        {
          "output_type": "stream",
          "text": [
            "[4.68190471 1.74653449 1.46032377 0.80300952 0.64539697 0.54509859\n",
            " 0.37669832 0.0825042  0.27613096 0.23293532 0.15117495] -> eigenvalues\n",
            "[42.55614759 15.87511586 13.27360507  7.29895067  5.86633225  4.95467068\n",
            "  3.42399731  0.74992146  2.50989083  2.11726438  1.37410389]  -> percent of variability explained\n"
          ],
          "name": "stdout"
        }
      ]
    },
    {
      "cell_type": "code",
      "metadata": {
        "id": "sxWTQTRD4ebt",
        "colab_type": "code",
        "colab": {
          "base_uri": "https://localhost:8080/",
          "height": 295
        },
        "outputId": "72e1c2a3-4bbb-4477-a2e8-95bf20b5bc6e"
      },
      "source": [
        "# calculate cumulative sum of explained variances\n",
        "tot = sum(w)\n",
        "var_exp = [(i / tot) for i in sorted(w, reverse=True)]\n",
        "cum_var_exp = np.cumsum(var_exp)\n",
        "\n",
        "# plot explained variances\n",
        "plt.title(\"Component-wise and Cumulative Explained Variance\")\n",
        "plt.bar(range(0,11), var_exp, alpha=0.5,\n",
        "        align='center', label='individual explained variance')\n",
        "plt.step(range(0,11), cum_var_exp, where='mid',\n",
        "         label='Percentage of variability explained')\n",
        "plt.ylabel('Explained variance ratio')\n",
        "plt.xlabel('Principal component index')\n",
        "plt.legend(loc='best')\n",
        "plt.show()"
      ],
      "execution_count": 24,
      "outputs": [
        {
          "output_type": "display_data",
          "data": {
            "image/png": "[encoded data removed]",
            "text/plain": [
              "<Figure size 432x288 with 1 Axes>"
            ]
          },
          "metadata": {
            "tags": [],
            "needs_background": "light"
          }
        }
      ]
    },
    {
      "cell_type": "code",
      "metadata": {
        "id": "SGCUhk0-4hY-",
        "colab_type": "code",
        "colab": {
          "base_uri": "https://localhost:8080/",
          "height": 218
        },
        "outputId": "19b11f92-a4f1-486a-fbe3-803000abf3c4"
      },
      "source": [
        "# Make a list of (eigenvalue, eigenvector) tuples\n",
        "eigen_pairs = [(np.abs(w[i]), v[:, i]) for i in range(len(w))]\n",
        "\n",
        "# Sort the (eigenvalue, eigenvector) tuples from high to low\n",
        "eigen_pairs.sort(key=lambda k: k[0], reverse=True)\n",
        "w2 = np.hstack((eigen_pairs[0][1][:, np.newaxis], eigen_pairs[1][1][:, np.newaxis]))\n",
        "print('Matrix W2:\\n', w2)"
      ],
      "execution_count": 25,
      "outputs": [
        {
          "output_type": "stream",
          "text": [
            "Matrix W2:\n",
            " [[ 0.39802686  0.07548609]\n",
            " [ 0.36806604  0.09620801]\n",
            " [ 0.21207444  0.10891566]\n",
            " [ 0.37897478  0.08480521]\n",
            " [ 0.34828846  0.07030567]\n",
            " [-0.39530182 -0.08205423]\n",
            " [ 0.33752331  0.0546998 ]\n",
            " [ 0.20123608 -0.66139603]\n",
            " [ 0.1330275  -0.7067886 ]\n",
            " [-0.21066697 -0.08990957]\n",
            " [ 0.15310568  0.07902472]]\n"
          ],
          "name": "stdout"
        }
      ]
    },
    {
      "cell_type": "code",
      "metadata": {
        "id": "PvPOq3Ru4nzj",
        "colab_type": "code",
        "colab": {
          "base_uri": "https://localhost:8080/",
          "height": 134
        },
        "outputId": "e6c3a5ea-d46c-46d2-a321-8695e91f6caa"
      },
      "source": [
        "X_train_pca = X_train_std.dot(w2)\n",
        "print(X_train_pca)"
      ],
      "execution_count": 26,
      "outputs": [
        {
          "output_type": "stream",
          "text": [
            "[[ 1.02907231  0.50060721]\n",
            " [-1.17610228 -0.16989335]\n",
            " [ 2.36704187 -0.15435181]\n",
            " ...\n",
            " [-1.95580732 -0.42506671]\n",
            " [-1.43175017  0.1959066 ]\n",
            " [-0.56951383 -0.15928261]]\n"
          ],
          "name": "stdout"
        }
      ]
    },
    {
      "cell_type": "code",
      "metadata": {
        "id": "zZ5Dzp2t6AMb",
        "colab_type": "code",
        "colab": {
          "base_uri": "https://localhost:8080/",
          "height": 134
        },
        "outputId": "c2975969-9304-4a2f-ec2d-5994aa4d593a"
      },
      "source": [
        "np.unique(y_train)\n",
        "X_train_pca"
      ],
      "execution_count": 27,
      "outputs": [
        {
          "output_type": "execute_result",
          "data": {
            "text/plain": [
              "array([[ 1.02907231,  0.50060721],\n",
              "       [-1.17610228, -0.16989335],\n",
              "       [ 2.36704187, -0.15435181],\n",
              "       ...,\n",
              "       [-1.95580732, -0.42506671],\n",
              "       [-1.43175017,  0.1959066 ],\n",
              "       [-0.56951383, -0.15928261]])"
            ]
          },
          "metadata": {
            "tags": []
          },
          "execution_count": 27
        }
      ]
    },
    {
      "cell_type": "markdown",
      "metadata": {
        "colab_type": "text",
        "id": "sjhIpN5vH1mt"
      },
      "source": [
        "# 2.Load data - Maryland Inertia Data"
      ]
    },
    {
      "cell_type": "code",
      "metadata": {
        "colab_type": "code",
        "id": "xJtA0B_cH1mz",
        "colab": {
          "base_uri": "https://localhost:8080/",
          "height": 34
        },
        "outputId": "a9278700-ea77-46db-e948-e197908756cd"
      },
      "source": [
        "CA_inertia_labeled_data = pd.read_csv('/content/drive/Shared drives/CMPE 295- Master Project/Covid19-data/CA_sd_inertia_labeledData_Sep17.csv',low_memory=False)\n",
        "print(CA_inertia_labeled_data.shape)"
      ],
      "execution_count": 28,
      "outputs": [
        {
          "output_type": "stream",
          "text": [
            "(12296, 56)\n"
          ],
          "name": "stdout"
        }
      ]
    },
    {
      "cell_type": "code",
      "metadata": {
        "colab_type": "code",
        "id": "nVew84W1H1nC",
        "colab": {
          "base_uri": "https://localhost:8080/",
          "height": 974
        },
        "outputId": "879d3a08-0e72-4c0a-9365-40f4ddffac28"
      },
      "source": [
        "CA_inertia_labeled_data.dtypes"
      ],
      "execution_count": 29,
      "outputs": [
        {
          "output_type": "execute_result",
          "data": {
            "text/plain": [
              "Date                                           object\n",
              "Province_State                                 object\n",
              "FIPS                                            int64\n",
              "New cases                                       int64\n",
              "mask_rule_active                                int64\n",
              "CTFIPS                                          int64\n",
              "CTNAME                                         object\n",
              "STFIPS                                          int64\n",
              "Social distancing index                         int64\n",
              "% staying home                                  int64\n",
              "Trips/person                                  float64\n",
              "% out-of-county trips                         float64\n",
              "% out-of-state trips                          float64\n",
              "Miles/person                                  float64\n",
              "Work trips/person                             float64\n",
              "Non-work trips/person                         float64\n",
              "New COVID cases                                 int64\n",
              "Population                                      int64\n",
              "% change in consumption                       float64\n",
              "date                                           object\n",
              "Transit mode share                            float64\n",
              "% people older than 60                          int64\n",
              "Median income                                   int64\n",
              "% African Americans                           float64\n",
              "% Hispanic Americans                          float64\n",
              "% Male                                        float64\n",
              "Population density                              int64\n",
              "Employment density                              int64\n",
              "# hot spots/1000 people                         int64\n",
              "Hospital beds/1000 people                     float64\n",
              "ICUs/1000 people                              float64\n",
              "# contact tracing workers/1000 people         float64\n",
              "# contact tracing workers/1000 people rank    float64\n",
              "% people older than 60 rank                     int64\n",
              "COVID exposure/1000 people                    float64\n",
              "Unemployment claims/1000 people               float64\n",
              "Unemployment rate                             float64\n",
              "% working from home                           float64\n",
              "Cumulative inflation rate                     float64\n",
              "% hospital bed utilization                    float64\n",
              "Testing capacity                              float64\n",
              "Tests done/1000 people                        float64\n",
              "% ICU utilization                             float64\n",
              "Ventilator shortage                             int64\n",
              "Confirmed                                     float64\n",
              "Deaths                                        float64\n",
              "New deaths                                    float64\n",
              "#days: decreasing ILI cases                   float64\n",
              "COVID death rate                              float64\n",
              "New cases/1000 people                         float64\n",
              "Active cases/1000 people                      float64\n",
              "#days: decreasing COVID cases                 float64\n",
              "Imported COVID cases                          float64\n",
              "rolling_avg_new_cases                         float64\n",
              "label                                          object\n",
              "growth_label                                   object\n",
              "dtype: object"
            ]
          },
          "metadata": {
            "tags": []
          },
          "execution_count": 29
        }
      ]
    },
    {
      "cell_type": "markdown",
      "metadata": {
        "colab_type": "text",
        "id": "xxeFv1MxH1nJ"
      },
      "source": [
        "## Preprocessing data \n",
        "\n",
        "* drop na\n",
        "* convert categorical code"
      ]
    },
    {
      "cell_type": "code",
      "metadata": {
        "colab_type": "code",
        "id": "9V8166soH1nK",
        "colab": {
          "base_uri": "https://localhost:8080/",
          "height": 244
        },
        "outputId": "204943ec-b0e3-459f-8510-5477d4e7dc5e"
      },
      "source": [
        "CA_inertia_labeled_data['label_code'] = CA_inertia_labeled_data['label'].astype('category').cat.codes\n",
        "\n",
        "CA_inertia_labeled_data.head(2)"
      ],
      "execution_count": 30,
      "outputs": [
        {
          "output_type": "execute_result",
          "data": {
            "text/html": [
              "<div>\n",
              "<style scoped>\n",
              "    .dataframe tbody tr th:only-of-type {\n",
              "        vertical-align: middle;\n",
              "    }\n",
              "\n",
              "    .dataframe tbody tr th {\n",
              "        vertical-align: top;\n",
              "    }\n",
              "\n",
              "    .dataframe thead th {\n",
              "        text-align: right;\n",
              "    }\n",
              "</style>\n",
              "<table border=\"1\" class=\"dataframe\">\n",
              "  <thead>\n",
              "    <tr style=\"text-align: right;\">\n",
              "      <th></th>\n",
              "      <th>Date</th>\n",
              "      <th>Province_State</th>\n",
              "      <th>FIPS</th>\n",
              "      <th>New cases</th>\n",
              "      <th>mask_rule_active</th>\n",
              "      <th>CTFIPS</th>\n",
              "      <th>CTNAME</th>\n",
              "      <th>STFIPS</th>\n",
              "      <th>Social distancing index</th>\n",
              "      <th>% staying home</th>\n",
              "      <th>Trips/person</th>\n",
              "      <th>% out-of-county trips</th>\n",
              "      <th>% out-of-state trips</th>\n",
              "      <th>Miles/person</th>\n",
              "      <th>Work trips/person</th>\n",
              "      <th>Non-work trips/person</th>\n",
              "      <th>New COVID cases</th>\n",
              "      <th>Population</th>\n",
              "      <th>% change in consumption</th>\n",
              "      <th>date</th>\n",
              "      <th>Transit mode share</th>\n",
              "      <th>% people older than 60</th>\n",
              "      <th>Median income</th>\n",
              "      <th>% African Americans</th>\n",
              "      <th>% Hispanic Americans</th>\n",
              "      <th>% Male</th>\n",
              "      <th>Population density</th>\n",
              "      <th>Employment density</th>\n",
              "      <th># hot spots/1000 people</th>\n",
              "      <th>Hospital beds/1000 people</th>\n",
              "      <th>ICUs/1000 people</th>\n",
              "      <th># contact tracing workers/1000 people</th>\n",
              "      <th># contact tracing workers/1000 people rank</th>\n",
              "      <th>% people older than 60 rank</th>\n",
              "      <th>COVID exposure/1000 people</th>\n",
              "      <th>Unemployment claims/1000 people</th>\n",
              "      <th>Unemployment rate</th>\n",
              "      <th>% working from home</th>\n",
              "      <th>Cumulative inflation rate</th>\n",
              "      <th>% hospital bed utilization</th>\n",
              "      <th>Testing capacity</th>\n",
              "      <th>Tests done/1000 people</th>\n",
              "      <th>% ICU utilization</th>\n",
              "      <th>Ventilator shortage</th>\n",
              "      <th>Confirmed</th>\n",
              "      <th>Deaths</th>\n",
              "      <th>New deaths</th>\n",
              "      <th>#days: decreasing ILI cases</th>\n",
              "      <th>COVID death rate</th>\n",
              "      <th>New cases/1000 people</th>\n",
              "      <th>Active cases/1000 people</th>\n",
              "      <th>#days: decreasing COVID cases</th>\n",
              "      <th>Imported COVID cases</th>\n",
              "      <th>rolling_avg_new_cases</th>\n",
              "      <th>label</th>\n",
              "      <th>growth_label</th>\n",
              "      <th>label_code</th>\n",
              "    </tr>\n",
              "  </thead>\n",
              "  <tbody>\n",
              "    <tr>\n",
              "      <th>0</th>\n",
              "      <td>2020-01-22</td>\n",
              "      <td>California</td>\n",
              "      <td>6001</td>\n",
              "      <td>0</td>\n",
              "      <td>0</td>\n",
              "      <td>6001</td>\n",
              "      <td>Alameda County</td>\n",
              "      <td>6</td>\n",
              "      <td>18</td>\n",
              "      <td>20</td>\n",
              "      <td>3.29</td>\n",
              "      <td>29.4</td>\n",
              "      <td>0.3</td>\n",
              "      <td>35.9</td>\n",
              "      <td>0.55</td>\n",
              "      <td>2.74</td>\n",
              "      <td>0</td>\n",
              "      <td>1666753</td>\n",
              "      <td>-2.9</td>\n",
              "      <td>2020-01-22</td>\n",
              "      <td>15.04</td>\n",
              "      <td>19</td>\n",
              "      <td>92574</td>\n",
              "      <td>10.5</td>\n",
              "      <td>22.5</td>\n",
              "      <td>49.11</td>\n",
              "      <td>2002</td>\n",
              "      <td>1155</td>\n",
              "      <td>131</td>\n",
              "      <td>2.05</td>\n",
              "      <td>0.22</td>\n",
              "      <td>0.0</td>\n",
              "      <td>0.0</td>\n",
              "      <td>12</td>\n",
              "      <td>0.0</td>\n",
              "      <td>1.2</td>\n",
              "      <td>3.9</td>\n",
              "      <td>5.7</td>\n",
              "      <td>0.3</td>\n",
              "      <td>54.0</td>\n",
              "      <td>0.0</td>\n",
              "      <td>0.0</td>\n",
              "      <td>0.0</td>\n",
              "      <td>0</td>\n",
              "      <td>0.0</td>\n",
              "      <td>0.0</td>\n",
              "      <td>0.0</td>\n",
              "      <td>0.0</td>\n",
              "      <td>0.0</td>\n",
              "      <td>0.0</td>\n",
              "      <td>0.0</td>\n",
              "      <td>0.0</td>\n",
              "      <td>0.0</td>\n",
              "      <td>0.0</td>\n",
              "      <td>LessSpread</td>\n",
              "      <td>flat_growth</td>\n",
              "      <td>0</td>\n",
              "    </tr>\n",
              "    <tr>\n",
              "      <th>1</th>\n",
              "      <td>2020-01-22</td>\n",
              "      <td>California</td>\n",
              "      <td>6041</td>\n",
              "      <td>0</td>\n",
              "      <td>0</td>\n",
              "      <td>6041</td>\n",
              "      <td>Marin County</td>\n",
              "      <td>6</td>\n",
              "      <td>15</td>\n",
              "      <td>20</td>\n",
              "      <td>3.42</td>\n",
              "      <td>27.8</td>\n",
              "      <td>0.1</td>\n",
              "      <td>42.3</td>\n",
              "      <td>0.52</td>\n",
              "      <td>2.90</td>\n",
              "      <td>0</td>\n",
              "      <td>259666</td>\n",
              "      <td>2.5</td>\n",
              "      <td>2020-01-22</td>\n",
              "      <td>9.51</td>\n",
              "      <td>28</td>\n",
              "      <td>110217</td>\n",
              "      <td>2.2</td>\n",
              "      <td>15.9</td>\n",
              "      <td>48.83</td>\n",
              "      <td>314</td>\n",
              "      <td>308</td>\n",
              "      <td>218</td>\n",
              "      <td>2.05</td>\n",
              "      <td>0.22</td>\n",
              "      <td>0.0</td>\n",
              "      <td>0.0</td>\n",
              "      <td>73</td>\n",
              "      <td>0.0</td>\n",
              "      <td>1.2</td>\n",
              "      <td>3.9</td>\n",
              "      <td>5.7</td>\n",
              "      <td>0.3</td>\n",
              "      <td>54.0</td>\n",
              "      <td>0.0</td>\n",
              "      <td>0.0</td>\n",
              "      <td>0.0</td>\n",
              "      <td>0</td>\n",
              "      <td>0.0</td>\n",
              "      <td>0.0</td>\n",
              "      <td>0.0</td>\n",
              "      <td>0.0</td>\n",
              "      <td>0.0</td>\n",
              "      <td>0.0</td>\n",
              "      <td>0.0</td>\n",
              "      <td>0.0</td>\n",
              "      <td>0.0</td>\n",
              "      <td>0.0</td>\n",
              "      <td>LessSpread</td>\n",
              "      <td>flat_growth</td>\n",
              "      <td>0</td>\n",
              "    </tr>\n",
              "  </tbody>\n",
              "</table>\n",
              "</div>"
            ],
            "text/plain": [
              "         Date Province_State  FIPS  ...       label  growth_label  label_code\n",
              "0  2020-01-22     California  6001  ...  LessSpread   flat_growth           0\n",
              "1  2020-01-22     California  6041  ...  LessSpread   flat_growth           0\n",
              "\n",
              "[2 rows x 57 columns]"
            ]
          },
          "metadata": {
            "tags": []
          },
          "execution_count": 30
        }
      ]
    },
    {
      "cell_type": "code",
      "metadata": {
        "colab_type": "code",
        "id": "BZzHASxTH1nN",
        "colab": {}
      },
      "source": [
        "CA_inertia_labeled_data = CA_inertia_labeled_data.dropna()"
      ],
      "execution_count": 31,
      "outputs": []
    },
    {
      "cell_type": "code",
      "metadata": {
        "colab_type": "code",
        "id": "2lpLd0sHH1nQ",
        "colab": {
          "base_uri": "https://localhost:8080/",
          "height": 151
        },
        "outputId": "24c5b146-2396-4666-c425-b11350f3a7c0"
      },
      "source": [
        "CA_inertia_labeled_data[pd.isna(CA_inertia_labeled_data['label'])]"
      ],
      "execution_count": 32,
      "outputs": [
        {
          "output_type": "execute_result",
          "data": {
            "text/html": [
              "<div>\n",
              "<style scoped>\n",
              "    .dataframe tbody tr th:only-of-type {\n",
              "        vertical-align: middle;\n",
              "    }\n",
              "\n",
              "    .dataframe tbody tr th {\n",
              "        vertical-align: top;\n",
              "    }\n",
              "\n",
              "    .dataframe thead th {\n",
              "        text-align: right;\n",
              "    }\n",
              "</style>\n",
              "<table border=\"1\" class=\"dataframe\">\n",
              "  <thead>\n",
              "    <tr style=\"text-align: right;\">\n",
              "      <th></th>\n",
              "      <th>Date</th>\n",
              "      <th>Province_State</th>\n",
              "      <th>FIPS</th>\n",
              "      <th>New cases</th>\n",
              "      <th>mask_rule_active</th>\n",
              "      <th>CTFIPS</th>\n",
              "      <th>CTNAME</th>\n",
              "      <th>STFIPS</th>\n",
              "      <th>Social distancing index</th>\n",
              "      <th>% staying home</th>\n",
              "      <th>Trips/person</th>\n",
              "      <th>% out-of-county trips</th>\n",
              "      <th>% out-of-state trips</th>\n",
              "      <th>Miles/person</th>\n",
              "      <th>Work trips/person</th>\n",
              "      <th>Non-work trips/person</th>\n",
              "      <th>New COVID cases</th>\n",
              "      <th>Population</th>\n",
              "      <th>% change in consumption</th>\n",
              "      <th>date</th>\n",
              "      <th>Transit mode share</th>\n",
              "      <th>% people older than 60</th>\n",
              "      <th>Median income</th>\n",
              "      <th>% African Americans</th>\n",
              "      <th>% Hispanic Americans</th>\n",
              "      <th>% Male</th>\n",
              "      <th>Population density</th>\n",
              "      <th>Employment density</th>\n",
              "      <th># hot spots/1000 people</th>\n",
              "      <th>Hospital beds/1000 people</th>\n",
              "      <th>ICUs/1000 people</th>\n",
              "      <th># contact tracing workers/1000 people</th>\n",
              "      <th># contact tracing workers/1000 people rank</th>\n",
              "      <th>% people older than 60 rank</th>\n",
              "      <th>COVID exposure/1000 people</th>\n",
              "      <th>Unemployment claims/1000 people</th>\n",
              "      <th>Unemployment rate</th>\n",
              "      <th>% working from home</th>\n",
              "      <th>Cumulative inflation rate</th>\n",
              "      <th>% hospital bed utilization</th>\n",
              "      <th>Testing capacity</th>\n",
              "      <th>Tests done/1000 people</th>\n",
              "      <th>% ICU utilization</th>\n",
              "      <th>Ventilator shortage</th>\n",
              "      <th>Confirmed</th>\n",
              "      <th>Deaths</th>\n",
              "      <th>New deaths</th>\n",
              "      <th>#days: decreasing ILI cases</th>\n",
              "      <th>COVID death rate</th>\n",
              "      <th>New cases/1000 people</th>\n",
              "      <th>Active cases/1000 people</th>\n",
              "      <th>#days: decreasing COVID cases</th>\n",
              "      <th>Imported COVID cases</th>\n",
              "      <th>rolling_avg_new_cases</th>\n",
              "      <th>label</th>\n",
              "      <th>growth_label</th>\n",
              "      <th>label_code</th>\n",
              "    </tr>\n",
              "  </thead>\n",
              "  <tbody>\n",
              "  </tbody>\n",
              "</table>\n",
              "</div>"
            ],
            "text/plain": [
              "Empty DataFrame\n",
              "Columns: [Date, Province_State, FIPS, New cases, mask_rule_active, CTFIPS, CTNAME, STFIPS, Social distancing index, % staying home, Trips/person, % out-of-county trips, % out-of-state trips, Miles/person, Work trips/person, Non-work trips/person, New COVID cases, Population, % change in consumption, date, Transit mode share, % people older than 60, Median income, % African Americans, % Hispanic Americans, % Male, Population density, Employment density, # hot spots/1000 people, Hospital beds/1000 people, ICUs/1000 people, # contact tracing workers/1000 people, # contact tracing workers/1000 people rank, % people older than 60 rank, COVID exposure/1000 people, Unemployment claims/1000 people, Unemployment rate, % working from home, Cumulative inflation rate, % hospital bed utilization, Testing capacity, Tests done/1000 people, % ICU utilization, Ventilator shortage, Confirmed, Deaths, New deaths, #days: decreasing ILI cases, COVID death rate, New cases/1000 people, Active cases/1000 people, #days: decreasing COVID cases, Imported COVID cases, rolling_avg_new_cases, label, growth_label, label_code]\n",
              "Index: []"
            ]
          },
          "metadata": {
            "tags": []
          },
          "execution_count": 32
        }
      ]
    },
    {
      "cell_type": "code",
      "metadata": {
        "colab_type": "code",
        "id": "OuJRtQb1H1nT",
        "colab": {
          "base_uri": "https://localhost:8080/",
          "height": 34
        },
        "outputId": "5634c695-ebec-4ffa-b696-8c92731ff530"
      },
      "source": [
        "CA_inertia_labeled_data['label_code'].unique()"
      ],
      "execution_count": 33,
      "outputs": [
        {
          "output_type": "execute_result",
          "data": {
            "text/plain": [
              "array([0, 1, 2, 3, 4, 5, 6], dtype=int8)"
            ]
          },
          "metadata": {
            "tags": []
          },
          "execution_count": 33
        }
      ]
    },
    {
      "cell_type": "code",
      "metadata": {
        "colab_type": "code",
        "id": "OwDPP-ZbH1nX",
        "colab": {
          "base_uri": "https://localhost:8080/",
          "height": 400
        },
        "outputId": "886bd0a4-ca99-46f3-f942-18ad78d89003"
      },
      "source": [
        "CA_inertia_labeled_data['growth_code'] = CA_inertia_labeled_data['growth_label'].astype('category').cat.codes\n",
        "CA_inertia_labeled_data.head()"
      ],
      "execution_count": 34,
      "outputs": [
        {
          "output_type": "execute_result",
          "data": {
            "text/html": [
              "<div>\n",
              "<style scoped>\n",
              "    .dataframe tbody tr th:only-of-type {\n",
              "        vertical-align: middle;\n",
              "    }\n",
              "\n",
              "    .dataframe tbody tr th {\n",
              "        vertical-align: top;\n",
              "    }\n",
              "\n",
              "    .dataframe thead th {\n",
              "        text-align: right;\n",
              "    }\n",
              "</style>\n",
              "<table border=\"1\" class=\"dataframe\">\n",
              "  <thead>\n",
              "    <tr style=\"text-align: right;\">\n",
              "      <th></th>\n",
              "      <th>Date</th>\n",
              "      <th>Province_State</th>\n",
              "      <th>FIPS</th>\n",
              "      <th>New cases</th>\n",
              "      <th>mask_rule_active</th>\n",
              "      <th>CTFIPS</th>\n",
              "      <th>CTNAME</th>\n",
              "      <th>STFIPS</th>\n",
              "      <th>Social distancing index</th>\n",
              "      <th>% staying home</th>\n",
              "      <th>Trips/person</th>\n",
              "      <th>% out-of-county trips</th>\n",
              "      <th>% out-of-state trips</th>\n",
              "      <th>Miles/person</th>\n",
              "      <th>Work trips/person</th>\n",
              "      <th>Non-work trips/person</th>\n",
              "      <th>New COVID cases</th>\n",
              "      <th>Population</th>\n",
              "      <th>% change in consumption</th>\n",
              "      <th>date</th>\n",
              "      <th>Transit mode share</th>\n",
              "      <th>% people older than 60</th>\n",
              "      <th>Median income</th>\n",
              "      <th>% African Americans</th>\n",
              "      <th>% Hispanic Americans</th>\n",
              "      <th>% Male</th>\n",
              "      <th>Population density</th>\n",
              "      <th>Employment density</th>\n",
              "      <th># hot spots/1000 people</th>\n",
              "      <th>Hospital beds/1000 people</th>\n",
              "      <th>ICUs/1000 people</th>\n",
              "      <th># contact tracing workers/1000 people</th>\n",
              "      <th># contact tracing workers/1000 people rank</th>\n",
              "      <th>% people older than 60 rank</th>\n",
              "      <th>COVID exposure/1000 people</th>\n",
              "      <th>Unemployment claims/1000 people</th>\n",
              "      <th>Unemployment rate</th>\n",
              "      <th>% working from home</th>\n",
              "      <th>Cumulative inflation rate</th>\n",
              "      <th>% hospital bed utilization</th>\n",
              "      <th>Testing capacity</th>\n",
              "      <th>Tests done/1000 people</th>\n",
              "      <th>% ICU utilization</th>\n",
              "      <th>Ventilator shortage</th>\n",
              "      <th>Confirmed</th>\n",
              "      <th>Deaths</th>\n",
              "      <th>New deaths</th>\n",
              "      <th>#days: decreasing ILI cases</th>\n",
              "      <th>COVID death rate</th>\n",
              "      <th>New cases/1000 people</th>\n",
              "      <th>Active cases/1000 people</th>\n",
              "      <th>#days: decreasing COVID cases</th>\n",
              "      <th>Imported COVID cases</th>\n",
              "      <th>rolling_avg_new_cases</th>\n",
              "      <th>label</th>\n",
              "      <th>growth_label</th>\n",
              "      <th>label_code</th>\n",
              "      <th>growth_code</th>\n",
              "    </tr>\n",
              "  </thead>\n",
              "  <tbody>\n",
              "    <tr>\n",
              "      <th>0</th>\n",
              "      <td>2020-01-22</td>\n",
              "      <td>California</td>\n",
              "      <td>6001</td>\n",
              "      <td>0</td>\n",
              "      <td>0</td>\n",
              "      <td>6001</td>\n",
              "      <td>Alameda County</td>\n",
              "      <td>6</td>\n",
              "      <td>18</td>\n",
              "      <td>20</td>\n",
              "      <td>3.29</td>\n",
              "      <td>29.4</td>\n",
              "      <td>0.3</td>\n",
              "      <td>35.9</td>\n",
              "      <td>0.55</td>\n",
              "      <td>2.74</td>\n",
              "      <td>0</td>\n",
              "      <td>1666753</td>\n",
              "      <td>-2.9</td>\n",
              "      <td>2020-01-22</td>\n",
              "      <td>15.04</td>\n",
              "      <td>19</td>\n",
              "      <td>92574</td>\n",
              "      <td>10.5</td>\n",
              "      <td>22.5</td>\n",
              "      <td>49.11</td>\n",
              "      <td>2002</td>\n",
              "      <td>1155</td>\n",
              "      <td>131</td>\n",
              "      <td>2.05</td>\n",
              "      <td>0.22</td>\n",
              "      <td>0.0</td>\n",
              "      <td>0.0</td>\n",
              "      <td>12</td>\n",
              "      <td>0.0</td>\n",
              "      <td>1.2</td>\n",
              "      <td>3.9</td>\n",
              "      <td>5.7</td>\n",
              "      <td>0.3</td>\n",
              "      <td>54.0</td>\n",
              "      <td>0.0</td>\n",
              "      <td>0.0</td>\n",
              "      <td>0.0</td>\n",
              "      <td>0</td>\n",
              "      <td>0.0</td>\n",
              "      <td>0.0</td>\n",
              "      <td>0.0</td>\n",
              "      <td>0.0</td>\n",
              "      <td>0.0</td>\n",
              "      <td>0.0</td>\n",
              "      <td>0.0</td>\n",
              "      <td>0.0</td>\n",
              "      <td>0.0</td>\n",
              "      <td>0.0</td>\n",
              "      <td>LessSpread</td>\n",
              "      <td>flat_growth</td>\n",
              "      <td>0</td>\n",
              "      <td>1</td>\n",
              "    </tr>\n",
              "    <tr>\n",
              "      <th>1</th>\n",
              "      <td>2020-01-22</td>\n",
              "      <td>California</td>\n",
              "      <td>6041</td>\n",
              "      <td>0</td>\n",
              "      <td>0</td>\n",
              "      <td>6041</td>\n",
              "      <td>Marin County</td>\n",
              "      <td>6</td>\n",
              "      <td>15</td>\n",
              "      <td>20</td>\n",
              "      <td>3.42</td>\n",
              "      <td>27.8</td>\n",
              "      <td>0.1</td>\n",
              "      <td>42.3</td>\n",
              "      <td>0.52</td>\n",
              "      <td>2.90</td>\n",
              "      <td>0</td>\n",
              "      <td>259666</td>\n",
              "      <td>2.5</td>\n",
              "      <td>2020-01-22</td>\n",
              "      <td>9.51</td>\n",
              "      <td>28</td>\n",
              "      <td>110217</td>\n",
              "      <td>2.2</td>\n",
              "      <td>15.9</td>\n",
              "      <td>48.83</td>\n",
              "      <td>314</td>\n",
              "      <td>308</td>\n",
              "      <td>218</td>\n",
              "      <td>2.05</td>\n",
              "      <td>0.22</td>\n",
              "      <td>0.0</td>\n",
              "      <td>0.0</td>\n",
              "      <td>73</td>\n",
              "      <td>0.0</td>\n",
              "      <td>1.2</td>\n",
              "      <td>3.9</td>\n",
              "      <td>5.7</td>\n",
              "      <td>0.3</td>\n",
              "      <td>54.0</td>\n",
              "      <td>0.0</td>\n",
              "      <td>0.0</td>\n",
              "      <td>0.0</td>\n",
              "      <td>0</td>\n",
              "      <td>0.0</td>\n",
              "      <td>0.0</td>\n",
              "      <td>0.0</td>\n",
              "      <td>0.0</td>\n",
              "      <td>0.0</td>\n",
              "      <td>0.0</td>\n",
              "      <td>0.0</td>\n",
              "      <td>0.0</td>\n",
              "      <td>0.0</td>\n",
              "      <td>0.0</td>\n",
              "      <td>LessSpread</td>\n",
              "      <td>flat_growth</td>\n",
              "      <td>0</td>\n",
              "      <td>1</td>\n",
              "    </tr>\n",
              "    <tr>\n",
              "      <th>2</th>\n",
              "      <td>2020-01-22</td>\n",
              "      <td>California</td>\n",
              "      <td>6039</td>\n",
              "      <td>0</td>\n",
              "      <td>0</td>\n",
              "      <td>6039</td>\n",
              "      <td>Madera County</td>\n",
              "      <td>6</td>\n",
              "      <td>18</td>\n",
              "      <td>17</td>\n",
              "      <td>3.55</td>\n",
              "      <td>29.7</td>\n",
              "      <td>0.1</td>\n",
              "      <td>39.9</td>\n",
              "      <td>0.52</td>\n",
              "      <td>3.03</td>\n",
              "      <td>0</td>\n",
              "      <td>157672</td>\n",
              "      <td>1.5</td>\n",
              "      <td>2020-01-22</td>\n",
              "      <td>0.45</td>\n",
              "      <td>19</td>\n",
              "      <td>52884</td>\n",
              "      <td>3.1</td>\n",
              "      <td>57.3</td>\n",
              "      <td>48.18</td>\n",
              "      <td>72</td>\n",
              "      <td>29</td>\n",
              "      <td>81</td>\n",
              "      <td>2.05</td>\n",
              "      <td>0.22</td>\n",
              "      <td>0.0</td>\n",
              "      <td>0.0</td>\n",
              "      <td>12</td>\n",
              "      <td>0.0</td>\n",
              "      <td>1.2</td>\n",
              "      <td>3.9</td>\n",
              "      <td>5.7</td>\n",
              "      <td>0.3</td>\n",
              "      <td>54.0</td>\n",
              "      <td>0.0</td>\n",
              "      <td>0.0</td>\n",
              "      <td>0.0</td>\n",
              "      <td>0</td>\n",
              "      <td>0.0</td>\n",
              "      <td>0.0</td>\n",
              "      <td>0.0</td>\n",
              "      <td>0.0</td>\n",
              "      <td>0.0</td>\n",
              "      <td>0.0</td>\n",
              "      <td>0.0</td>\n",
              "      <td>0.0</td>\n",
              "      <td>0.0</td>\n",
              "      <td>0.0</td>\n",
              "      <td>LessSpread</td>\n",
              "      <td>flat_growth</td>\n",
              "      <td>0</td>\n",
              "      <td>1</td>\n",
              "    </tr>\n",
              "    <tr>\n",
              "      <th>3</th>\n",
              "      <td>2020-01-22</td>\n",
              "      <td>California</td>\n",
              "      <td>6103</td>\n",
              "      <td>0</td>\n",
              "      <td>0</td>\n",
              "      <td>6103</td>\n",
              "      <td>Tehama County</td>\n",
              "      <td>6</td>\n",
              "      <td>18</td>\n",
              "      <td>19</td>\n",
              "      <td>3.47</td>\n",
              "      <td>30.1</td>\n",
              "      <td>1.9</td>\n",
              "      <td>50.6</td>\n",
              "      <td>0.55</td>\n",
              "      <td>2.93</td>\n",
              "      <td>0</td>\n",
              "      <td>63916</td>\n",
              "      <td>5.1</td>\n",
              "      <td>2020-01-22</td>\n",
              "      <td>0.33</td>\n",
              "      <td>26</td>\n",
              "      <td>42899</td>\n",
              "      <td>0.7</td>\n",
              "      <td>24.7</td>\n",
              "      <td>49.71</td>\n",
              "      <td>21</td>\n",
              "      <td>6</td>\n",
              "      <td>106</td>\n",
              "      <td>2.05</td>\n",
              "      <td>0.22</td>\n",
              "      <td>0.0</td>\n",
              "      <td>0.0</td>\n",
              "      <td>59</td>\n",
              "      <td>0.0</td>\n",
              "      <td>1.2</td>\n",
              "      <td>3.9</td>\n",
              "      <td>5.7</td>\n",
              "      <td>0.3</td>\n",
              "      <td>54.0</td>\n",
              "      <td>0.0</td>\n",
              "      <td>0.0</td>\n",
              "      <td>0.0</td>\n",
              "      <td>0</td>\n",
              "      <td>0.0</td>\n",
              "      <td>0.0</td>\n",
              "      <td>0.0</td>\n",
              "      <td>0.0</td>\n",
              "      <td>0.0</td>\n",
              "      <td>0.0</td>\n",
              "      <td>0.0</td>\n",
              "      <td>0.0</td>\n",
              "      <td>0.0</td>\n",
              "      <td>0.0</td>\n",
              "      <td>LessSpread</td>\n",
              "      <td>flat_growth</td>\n",
              "      <td>0</td>\n",
              "      <td>1</td>\n",
              "    </tr>\n",
              "    <tr>\n",
              "      <th>4</th>\n",
              "      <td>2020-01-22</td>\n",
              "      <td>California</td>\n",
              "      <td>6037</td>\n",
              "      <td>0</td>\n",
              "      <td>0</td>\n",
              "      <td>6037</td>\n",
              "      <td>Los Angeles County</td>\n",
              "      <td>6</td>\n",
              "      <td>18</td>\n",
              "      <td>19</td>\n",
              "      <td>3.34</td>\n",
              "      <td>10.9</td>\n",
              "      <td>0.3</td>\n",
              "      <td>32.5</td>\n",
              "      <td>0.62</td>\n",
              "      <td>2.72</td>\n",
              "      <td>0</td>\n",
              "      <td>10105518</td>\n",
              "      <td>-1.7</td>\n",
              "      <td>2020-01-22</td>\n",
              "      <td>6.04</td>\n",
              "      <td>18</td>\n",
              "      <td>64251</td>\n",
              "      <td>7.9</td>\n",
              "      <td>48.5</td>\n",
              "      <td>49.28</td>\n",
              "      <td>2125</td>\n",
              "      <td>972</td>\n",
              "      <td>140</td>\n",
              "      <td>2.05</td>\n",
              "      <td>0.22</td>\n",
              "      <td>0.0</td>\n",
              "      <td>0.0</td>\n",
              "      <td>9</td>\n",
              "      <td>0.0</td>\n",
              "      <td>1.2</td>\n",
              "      <td>3.9</td>\n",
              "      <td>5.7</td>\n",
              "      <td>0.3</td>\n",
              "      <td>54.0</td>\n",
              "      <td>0.0</td>\n",
              "      <td>0.0</td>\n",
              "      <td>0.0</td>\n",
              "      <td>0</td>\n",
              "      <td>0.0</td>\n",
              "      <td>0.0</td>\n",
              "      <td>0.0</td>\n",
              "      <td>0.0</td>\n",
              "      <td>0.0</td>\n",
              "      <td>0.0</td>\n",
              "      <td>0.0</td>\n",
              "      <td>0.0</td>\n",
              "      <td>0.0</td>\n",
              "      <td>0.0</td>\n",
              "      <td>LessSpread</td>\n",
              "      <td>flat_growth</td>\n",
              "      <td>0</td>\n",
              "      <td>1</td>\n",
              "    </tr>\n",
              "  </tbody>\n",
              "</table>\n",
              "</div>"
            ],
            "text/plain": [
              "         Date Province_State  FIPS  ...  growth_label  label_code  growth_code\n",
              "0  2020-01-22     California  6001  ...   flat_growth           0            1\n",
              "1  2020-01-22     California  6041  ...   flat_growth           0            1\n",
              "2  2020-01-22     California  6039  ...   flat_growth           0            1\n",
              "3  2020-01-22     California  6103  ...   flat_growth           0            1\n",
              "4  2020-01-22     California  6037  ...   flat_growth           0            1\n",
              "\n",
              "[5 rows x 58 columns]"
            ]
          },
          "metadata": {
            "tags": []
          },
          "execution_count": 34
        }
      ]
    },
    {
      "cell_type": "code",
      "metadata": {
        "colab_type": "code",
        "id": "Vr7663BUH1na",
        "colab": {
          "base_uri": "https://localhost:8080/",
          "height": 34
        },
        "outputId": "1de58e8d-2a39-4b95-bc50-c23a6d5682eb"
      },
      "source": [
        "CA_inertia_labeled_data['growth_code'].unique()"
      ],
      "execution_count": 35,
      "outputs": [
        {
          "output_type": "execute_result",
          "data": {
            "text/plain": [
              "array([1, 2, 3, 0], dtype=int8)"
            ]
          },
          "metadata": {
            "tags": []
          },
          "execution_count": 35
        }
      ]
    },
    {
      "cell_type": "code",
      "metadata": {
        "colab_type": "code",
        "id": "5Lakwg_MH1nc",
        "colab": {
          "base_uri": "https://localhost:8080/",
          "height": 1000
        },
        "outputId": "054b59a7-8b6b-4658-e684-74864d8558d6"
      },
      "source": [
        "CA_inertia_labeled_data.dtypes"
      ],
      "execution_count": 36,
      "outputs": [
        {
          "output_type": "execute_result",
          "data": {
            "text/plain": [
              "Date                                           object\n",
              "Province_State                                 object\n",
              "FIPS                                            int64\n",
              "New cases                                       int64\n",
              "mask_rule_active                                int64\n",
              "CTFIPS                                          int64\n",
              "CTNAME                                         object\n",
              "STFIPS                                          int64\n",
              "Social distancing index                         int64\n",
              "% staying home                                  int64\n",
              "Trips/person                                  float64\n",
              "% out-of-county trips                         float64\n",
              "% out-of-state trips                          float64\n",
              "Miles/person                                  float64\n",
              "Work trips/person                             float64\n",
              "Non-work trips/person                         float64\n",
              "New COVID cases                                 int64\n",
              "Population                                      int64\n",
              "% change in consumption                       float64\n",
              "date                                           object\n",
              "Transit mode share                            float64\n",
              "% people older than 60                          int64\n",
              "Median income                                   int64\n",
              "% African Americans                           float64\n",
              "% Hispanic Americans                          float64\n",
              "% Male                                        float64\n",
              "Population density                              int64\n",
              "Employment density                              int64\n",
              "# hot spots/1000 people                         int64\n",
              "Hospital beds/1000 people                     float64\n",
              "ICUs/1000 people                              float64\n",
              "# contact tracing workers/1000 people         float64\n",
              "# contact tracing workers/1000 people rank    float64\n",
              "% people older than 60 rank                     int64\n",
              "COVID exposure/1000 people                    float64\n",
              "Unemployment claims/1000 people               float64\n",
              "Unemployment rate                             float64\n",
              "% working from home                           float64\n",
              "Cumulative inflation rate                     float64\n",
              "% hospital bed utilization                    float64\n",
              "Testing capacity                              float64\n",
              "Tests done/1000 people                        float64\n",
              "% ICU utilization                             float64\n",
              "Ventilator shortage                             int64\n",
              "Confirmed                                     float64\n",
              "Deaths                                        float64\n",
              "New deaths                                    float64\n",
              "#days: decreasing ILI cases                   float64\n",
              "COVID death rate                              float64\n",
              "New cases/1000 people                         float64\n",
              "Active cases/1000 people                      float64\n",
              "#days: decreasing COVID cases                 float64\n",
              "Imported COVID cases                          float64\n",
              "rolling_avg_new_cases                         float64\n",
              "label                                          object\n",
              "growth_label                                   object\n",
              "label_code                                       int8\n",
              "growth_code                                      int8\n",
              "dtype: object"
            ]
          },
          "metadata": {
            "tags": []
          },
          "execution_count": 36
        }
      ]
    },
    {
      "cell_type": "code",
      "metadata": {
        "id": "_ZXlJGB9I1jI",
        "colab_type": "code",
        "colab": {
          "base_uri": "https://localhost:8080/",
          "height": 403
        },
        "outputId": "f9d5ca80-07a0-4ec9-e66e-666ddb5a094c"
      },
      "source": [
        "CA_inertia_labeled_data.columns"
      ],
      "execution_count": 37,
      "outputs": [
        {
          "output_type": "execute_result",
          "data": {
            "text/plain": [
              "Index(['Date', 'Province_State', 'FIPS', 'New cases', 'mask_rule_active',\n",
              "       'CTFIPS', 'CTNAME', 'STFIPS', 'Social distancing index',\n",
              "       '% staying home', 'Trips/person', '% out-of-county trips',\n",
              "       '% out-of-state trips', 'Miles/person', 'Work trips/person',\n",
              "       'Non-work trips/person', 'New COVID cases', 'Population',\n",
              "       '% change in consumption', 'date', 'Transit mode share',\n",
              "       '% people older than 60', 'Median income', '% African Americans',\n",
              "       '% Hispanic Americans', '% Male', 'Population density',\n",
              "       'Employment density', '# hot spots/1000 people',\n",
              "       'Hospital beds/1000 people', 'ICUs/1000 people',\n",
              "       '# contact tracing workers/1000 people',\n",
              "       '# contact tracing workers/1000 people rank',\n",
              "       '% people older than 60 rank', 'COVID exposure/1000 people',\n",
              "       'Unemployment claims/1000 people', 'Unemployment rate',\n",
              "       '% working from home', 'Cumulative inflation rate',\n",
              "       '% hospital bed utilization', 'Testing capacity',\n",
              "       'Tests done/1000 people', '% ICU utilization', 'Ventilator shortage',\n",
              "       'Confirmed', 'Deaths', 'New deaths', '#days: decreasing ILI cases',\n",
              "       'COVID death rate', 'New cases/1000 people', 'Active cases/1000 people',\n",
              "       '#days: decreasing COVID cases', 'Imported COVID cases',\n",
              "       'rolling_avg_new_cases', 'label', 'growth_label', 'label_code',\n",
              "       'growth_code'],\n",
              "      dtype='object')"
            ]
          },
          "metadata": {
            "tags": []
          },
          "execution_count": 37
        }
      ]
    },
    {
      "cell_type": "code",
      "metadata": {
        "colab_type": "code",
        "id": "6Nx3kdz0H1nf",
        "colab": {}
      },
      "source": [
        "feature_labels = ['mask_rule_active','Social distancing index','% staying home', 'Trips/person', '% out-of-county trips',\n",
        "       '% out-of-state trips', 'Miles/person', 'Work trips/person','Non-work trips/person','% change in consumption',\n",
        "       'Transit mode share','% people older than 60', 'Median income', '% African Americans', '% Hispanic Americans',\n",
        "       '% Male', 'Population density','Employment density', '# hot spots/1000 people','Hospital beds/1000 people', 'ICUs/1000 people',\n",
        "       '# contact tracing workers/1000 people rank','% people older than 60 rank', 'COVID exposure/1000 people',\n",
        "       'Unemployment claims/1000 people', 'Unemployment rate','% working from home', 'Cumulative inflation rate',\n",
        "       '% hospital bed utilization', 'Testing capacity','Tests done/1000 people', '% ICU utilization', 'Ventilator shortage'\n",
        "       ]\n",
        "\n",
        "target_column = ['label_code']\n",
        "\n",
        "X = CA_inertia_labeled_data[feature_labels]\n",
        "y = CA_inertia_labeled_data[target_column]\n",
        "\n",
        "X_train, X_test, y_train, y_test = train_test_split(X, y, test_size=0.4, random_state=0)\n"
      ],
      "execution_count": 38,
      "outputs": []
    },
    {
      "cell_type": "markdown",
      "metadata": {
        "colab_type": "text",
        "id": "_ejgzSENH1nh"
      },
      "source": [
        "## Train Random Forest classifier"
      ]
    },
    {
      "cell_type": "code",
      "metadata": {
        "colab_type": "code",
        "id": "alHppjAzH1nh",
        "colab": {
          "base_uri": "https://localhost:8080/",
          "height": 625
        },
        "outputId": "fc936a3b-2674-4605-ad56-e2998b376802"
      },
      "source": [
        "# Create a random forest classifier\n",
        "clf = RandomForestClassifier(n_estimators=10000, random_state=0, n_jobs=-1)\n",
        "\n",
        "# Train the classifier\n",
        "clf.fit(X_train, y_train)\n",
        "\n",
        "# Print the name and gini importance of each feature\n",
        "for feature in zip(feature_labels, clf.feature_importances_):\n",
        "    print(feature)"
      ],
      "execution_count": 39,
      "outputs": [
        {
          "output_type": "stream",
          "text": [
            "/usr/local/lib/python3.6/dist-packages/ipykernel_launcher.py:5: DataConversionWarning: A column-vector y was passed when a 1d array was expected. Please change the shape of y to (n_samples,), for example using ravel().\n",
            "  \"\"\"\n"
          ],
          "name": "stderr"
        },
        {
          "output_type": "stream",
          "text": [
            "('mask_rule_active', 0.0046779757124752845)\n",
            "('Social distancing index', 0.019429283721131917)\n",
            "('% staying home', 0.018370906069028914)\n",
            "('Trips/person', 0.02128267415154293)\n",
            "('% out-of-county trips', 0.04344262415403291)\n",
            "('% out-of-state trips', 0.02934294202207859)\n",
            "('Miles/person', 0.02826989592978061)\n",
            "('Work trips/person', 0.020498481322269148)\n",
            "('Non-work trips/person', 0.022338588502385005)\n",
            "('% change in consumption', 0.022757448023951576)\n",
            "('Transit mode share', 0.04444429419307492)\n",
            "('% people older than 60', 0.04250859121335983)\n",
            "('Median income', 0.04436345486954704)\n",
            "('% African Americans', 0.03276473716867501)\n",
            "('% Hispanic Americans', 0.049785702148910184)\n",
            "('% Male', 0.05301662606911807)\n",
            "('Population density', 0.05143355350680487)\n",
            "('Employment density', 0.05077159546854234)\n",
            "('# hot spots/1000 people', 0.03626578608769184)\n",
            "('Hospital beds/1000 people', 0.0)\n",
            "('ICUs/1000 people', 0.0)\n",
            "('# contact tracing workers/1000 people rank', 0.0)\n",
            "('% people older than 60 rank', 0.04233984236040259)\n",
            "('COVID exposure/1000 people', 0.03902688660501051)\n",
            "('Unemployment claims/1000 people', 0.03656120055416038)\n",
            "('Unemployment rate', 0.028224905053054895)\n",
            "('% working from home', 0.027152948538465463)\n",
            "('Cumulative inflation rate', 0.014172046653237017)\n",
            "('% hospital bed utilization', 0.030123114294727426)\n",
            "('Testing capacity', 0.03500536931963426)\n",
            "('Tests done/1000 people', 0.04397666833771403)\n",
            "('% ICU utilization', 0.03221386594711169)\n",
            "('Ventilator shortage', 0.035437992002080546)\n"
          ],
          "name": "stdout"
        }
      ]
    },
    {
      "cell_type": "code",
      "metadata": {
        "colab_type": "code",
        "id": "FaL8OKY6H1nj",
        "colab": {
          "base_uri": "https://localhost:8080/",
          "height": 642
        },
        "outputId": "de089af4-7756-4d91-bbc5-424d0736057a"
      },
      "source": [
        "\n",
        "#  Supported criteria are “gini” for the Gini impurity and “entropy” for the information gain. \n",
        "clf = RandomForestClassifier(n_estimators=10000, random_state=0,criterion='entropy', n_jobs=-1)\n",
        "\n",
        "# Train the classifier\n",
        "clf.fit(X_train, y_train)\n",
        "print(X_train.shape)\n",
        "# Print the name and gini importance of each feature\n",
        "for feature in zip(feature_labels, clf.feature_importances_):\n",
        "    print(feature)"
      ],
      "execution_count": 40,
      "outputs": [
        {
          "output_type": "stream",
          "text": [
            "/usr/local/lib/python3.6/dist-packages/ipykernel_launcher.py:6: DataConversionWarning: A column-vector y was passed when a 1d array was expected. Please change the shape of y to (n_samples,), for example using ravel().\n",
            "  \n"
          ],
          "name": "stderr"
        },
        {
          "output_type": "stream",
          "text": [
            "(7352, 33)\n",
            "('mask_rule_active', 0.005631300918691075)\n",
            "('Social distancing index', 0.013586112257437789)\n",
            "('% staying home', 0.012773980544647361)\n",
            "('Trips/person', 0.014243660668561036)\n",
            "('% out-of-county trips', 0.03834616864065094)\n",
            "('% out-of-state trips', 0.02762249640476449)\n",
            "('Miles/person', 0.02246491184203249)\n",
            "('Work trips/person', 0.014076770918171633)\n",
            "('Non-work trips/person', 0.015929068828691238)\n",
            "('% change in consumption', 0.016839076746991817)\n",
            "('Transit mode share', 0.04769183317732047)\n",
            "('% people older than 60', 0.03851257352998927)\n",
            "('Median income', 0.04594299624737143)\n",
            "('% African Americans', 0.03212927579508459)\n",
            "('% Hispanic Americans', 0.0468768086825594)\n",
            "('% Male', 0.05222847928027471)\n",
            "('Population density', 0.054504797574647205)\n",
            "('Employment density', 0.05395864495475357)\n",
            "('# hot spots/1000 people', 0.0345908845603549)\n",
            "('Hospital beds/1000 people', 0.0)\n",
            "('ICUs/1000 people', 0.0)\n",
            "('# contact tracing workers/1000 people rank', 0.0)\n",
            "('% people older than 60 rank', 0.038352211857902635)\n",
            "('COVID exposure/1000 people', 0.04861920077809385)\n",
            "('Unemployment claims/1000 people', 0.03841921430161078)\n",
            "('Unemployment rate', 0.03368497843567884)\n",
            "('% working from home', 0.0319368820619018)\n",
            "('Cumulative inflation rate', 0.01931159136741851)\n",
            "('% hospital bed utilization', 0.033805770270414565)\n",
            "('Testing capacity', 0.039402118748163496)\n",
            "('Tests done/1000 people', 0.05166449926477397)\n",
            "('% ICU utilization', 0.03635305046539967)\n",
            "('Ventilator shortage', 0.04050064087564662)\n"
          ],
          "name": "stdout"
        }
      ]
    },
    {
      "cell_type": "code",
      "metadata": {
        "id": "LGl3OepO8Ip-",
        "colab_type": "code",
        "colab": {
          "base_uri": "https://localhost:8080/",
          "height": 34
        },
        "outputId": "cd61244f-d677-4a22-8b15-7e1ba40aabb7"
      },
      "source": [
        "X_train.shape"
      ],
      "execution_count": 41,
      "outputs": [
        {
          "output_type": "execute_result",
          "data": {
            "text/plain": [
              "(7352, 33)"
            ]
          },
          "metadata": {
            "tags": []
          },
          "execution_count": 41
        }
      ]
    },
    {
      "cell_type": "markdown",
      "metadata": {
        "colab_type": "text",
        "id": "JmJo8b0WH1nm"
      },
      "source": [
        "## PCA Computation"
      ]
    },
    {
      "cell_type": "code",
      "metadata": {
        "colab_type": "code",
        "id": "QFD0tG7hH1nn",
        "colab": {
          "base_uri": "https://localhost:8080/",
          "height": 34
        },
        "outputId": "15b0c517-3133-46b5-e46c-77e25a52fdf7"
      },
      "source": [
        "print(len(feature_labels))"
      ],
      "execution_count": 42,
      "outputs": [
        {
          "output_type": "stream",
          "text": [
            "33\n"
          ],
          "name": "stdout"
        }
      ]
    },
    {
      "cell_type": "code",
      "metadata": {
        "colab_type": "code",
        "id": "4Ih_wCujH1nq",
        "colab": {
          "base_uri": "https://localhost:8080/",
          "height": 252
        },
        "outputId": "065f2c4b-c898-4807-ff15-ad310778f3d1"
      },
      "source": [
        "# split into training and testing datasets\n",
        "\n",
        "\n",
        "X = CA_inertia_labeled_data[feature_labels].values\n",
        "y = CA_inertia_labeled_data[target_column].values\n",
        "\n",
        "X_train, X_test, y_train, y_test = train_test_split(X, y, test_size=0.3,stratify=y, random_state=0)\n",
        "print(X_train)\n",
        "print(y_train)"
      ],
      "execution_count": 43,
      "outputs": [
        {
          "output_type": "stream",
          "text": [
            "[[1.0000e+00 4.4000e+01 2.7000e+01 ... 1.1510e+02 2.1650e+01 6.7700e+02]\n",
            " [1.0000e+00 3.8000e+01 2.8000e+01 ... 2.0997e+02 2.3880e+01 1.1690e+03]\n",
            " [0.0000e+00 6.6000e+01 4.0000e+01 ... 6.1460e+01 1.4920e+01 5.7000e+02]\n",
            " ...\n",
            " [0.0000e+00 3.5000e+01 2.5000e+01 ... 0.0000e+00 0.0000e+00 0.0000e+00]\n",
            " [0.0000e+00 5.2000e+01 3.1000e+01 ... 1.5250e+01 1.7340e+01 6.5700e+02]\n",
            " [0.0000e+00 7.2000e+01 4.4000e+01 ... 6.5600e+00 1.7090e+01 6.6000e+02]]\n",
            "[[0]\n",
            " [0]\n",
            " [0]\n",
            " ...\n",
            " [0]\n",
            " [0]\n",
            " [0]]\n"
          ],
          "name": "stdout"
        }
      ]
    },
    {
      "cell_type": "code",
      "metadata": {
        "colab_type": "code",
        "id": "IWrdCBzUH1ns",
        "colab": {}
      },
      "source": [
        "# standardize the features\n",
        "sc = ss()\n",
        "X_train_std = sc.fit_transform(X_train)\n",
        "X_test_std = sc.transform(X_test)"
      ],
      "execution_count": 44,
      "outputs": []
    },
    {
      "cell_type": "code",
      "metadata": {
        "colab_type": "code",
        "id": "h6N0mNWXH1nu",
        "colab": {}
      },
      "source": [
        "from sklearn.decomposition import PCA\n",
        "pca = PCA(n_components=2)\n",
        "principalComponents = pca.fit_transform(X)\n",
        "principalDf = pd.DataFrame(data = principalComponents\n",
        "             , columns = ['principal component 1', 'principal component 2'])"
      ],
      "execution_count": 45,
      "outputs": []
    },
    {
      "cell_type": "code",
      "metadata": {
        "colab_type": "code",
        "id": "jVL_a5G-H1nv",
        "colab": {
          "base_uri": "https://localhost:8080/",
          "height": 402
        },
        "outputId": "9c87e782-86b9-4666-fbba-af4a2481745c"
      },
      "source": [
        "principalDf"
      ],
      "execution_count": 46,
      "outputs": [
        {
          "output_type": "execute_result",
          "data": {
            "text/html": [
              "<div>\n",
              "<style scoped>\n",
              "    .dataframe tbody tr th:only-of-type {\n",
              "        vertical-align: middle;\n",
              "    }\n",
              "\n",
              "    .dataframe tbody tr th {\n",
              "        vertical-align: top;\n",
              "    }\n",
              "\n",
              "    .dataframe thead th {\n",
              "        text-align: right;\n",
              "    }\n",
              "</style>\n",
              "<table border=\"1\" class=\"dataframe\">\n",
              "  <thead>\n",
              "    <tr style=\"text-align: right;\">\n",
              "      <th></th>\n",
              "      <th>principal component 1</th>\n",
              "      <th>principal component 2</th>\n",
              "    </tr>\n",
              "  </thead>\n",
              "  <tbody>\n",
              "    <tr>\n",
              "      <th>0</th>\n",
              "      <td>28302.319654</td>\n",
              "      <td>1057.801319</td>\n",
              "    </tr>\n",
              "    <tr>\n",
              "      <th>1</th>\n",
              "      <td>45885.232084</td>\n",
              "      <td>-1318.315048</td>\n",
              "    </tr>\n",
              "    <tr>\n",
              "      <th>2</th>\n",
              "      <td>-11434.938131</td>\n",
              "      <td>-53.079277</td>\n",
              "    </tr>\n",
              "    <tr>\n",
              "      <th>3</th>\n",
              "      <td>-21417.520176</td>\n",
              "      <td>173.025836</td>\n",
              "    </tr>\n",
              "    <tr>\n",
              "      <th>4</th>\n",
              "      <td>-9.170724</td>\n",
              "      <td>1862.338141</td>\n",
              "    </tr>\n",
              "    <tr>\n",
              "      <th>...</th>\n",
              "      <td>...</td>\n",
              "      <td>...</td>\n",
              "    </tr>\n",
              "    <tr>\n",
              "      <th>12249</th>\n",
              "      <td>-368.149574</td>\n",
              "      <td>-118.249366</td>\n",
              "    </tr>\n",
              "    <tr>\n",
              "      <th>12250</th>\n",
              "      <td>-11050.796609</td>\n",
              "      <td>-132.965676</td>\n",
              "    </tr>\n",
              "    <tr>\n",
              "      <th>12251</th>\n",
              "      <td>20031.062078</td>\n",
              "      <td>-753.626655</td>\n",
              "    </tr>\n",
              "    <tr>\n",
              "      <th>12252</th>\n",
              "      <td>20425.140796</td>\n",
              "      <td>-827.276356</td>\n",
              "    </tr>\n",
              "    <tr>\n",
              "      <th>12253</th>\n",
              "      <td>-11693.632028</td>\n",
              "      <td>-9.933859</td>\n",
              "    </tr>\n",
              "  </tbody>\n",
              "</table>\n",
              "<p>12254 rows × 2 columns</p>\n",
              "</div>"
            ],
            "text/plain": [
              "       principal component 1  principal component 2\n",
              "0               28302.319654            1057.801319\n",
              "1               45885.232084           -1318.315048\n",
              "2              -11434.938131             -53.079277\n",
              "3              -21417.520176             173.025836\n",
              "4                  -9.170724            1862.338141\n",
              "...                      ...                    ...\n",
              "12249            -368.149574            -118.249366\n",
              "12250          -11050.796609            -132.965676\n",
              "12251           20031.062078            -753.626655\n",
              "12252           20425.140796            -827.276356\n",
              "12253          -11693.632028              -9.933859\n",
              "\n",
              "[12254 rows x 2 columns]"
            ]
          },
          "metadata": {
            "tags": []
          },
          "execution_count": 46
        }
      ]
    },
    {
      "cell_type": "code",
      "metadata": {
        "colab_type": "code",
        "id": "Vc2YUxD0H1nx",
        "colab": {
          "base_uri": "https://localhost:8080/",
          "height": 402
        },
        "outputId": "2764959d-77cc-4563-e6e7-4fbd2ffb677e"
      },
      "source": [
        "finalDf = pd.concat([principalDf, CA_inertia_labeled_data[target_column]],axis=1 )\n",
        "finalDf"
      ],
      "execution_count": 47,
      "outputs": [
        {
          "output_type": "execute_result",
          "data": {
            "text/html": [
              "<div>\n",
              "<style scoped>\n",
              "    .dataframe tbody tr th:only-of-type {\n",
              "        vertical-align: middle;\n",
              "    }\n",
              "\n",
              "    .dataframe tbody tr th {\n",
              "        vertical-align: top;\n",
              "    }\n",
              "\n",
              "    .dataframe thead th {\n",
              "        text-align: right;\n",
              "    }\n",
              "</style>\n",
              "<table border=\"1\" class=\"dataframe\">\n",
              "  <thead>\n",
              "    <tr style=\"text-align: right;\">\n",
              "      <th></th>\n",
              "      <th>principal component 1</th>\n",
              "      <th>principal component 2</th>\n",
              "      <th>label_code</th>\n",
              "    </tr>\n",
              "  </thead>\n",
              "  <tbody>\n",
              "    <tr>\n",
              "      <th>0</th>\n",
              "      <td>28302.319654</td>\n",
              "      <td>1057.801319</td>\n",
              "      <td>0.0</td>\n",
              "    </tr>\n",
              "    <tr>\n",
              "      <th>1</th>\n",
              "      <td>45885.232084</td>\n",
              "      <td>-1318.315048</td>\n",
              "      <td>0.0</td>\n",
              "    </tr>\n",
              "    <tr>\n",
              "      <th>2</th>\n",
              "      <td>-11434.938131</td>\n",
              "      <td>-53.079277</td>\n",
              "      <td>0.0</td>\n",
              "    </tr>\n",
              "    <tr>\n",
              "      <th>3</th>\n",
              "      <td>-21417.520176</td>\n",
              "      <td>173.025836</td>\n",
              "      <td>0.0</td>\n",
              "    </tr>\n",
              "    <tr>\n",
              "      <th>4</th>\n",
              "      <td>-9.170724</td>\n",
              "      <td>1862.338141</td>\n",
              "      <td>0.0</td>\n",
              "    </tr>\n",
              "    <tr>\n",
              "      <th>...</th>\n",
              "      <td>...</td>\n",
              "      <td>...</td>\n",
              "      <td>...</td>\n",
              "    </tr>\n",
              "    <tr>\n",
              "      <th>12291</th>\n",
              "      <td>NaN</td>\n",
              "      <td>NaN</td>\n",
              "      <td>0.0</td>\n",
              "    </tr>\n",
              "    <tr>\n",
              "      <th>12292</th>\n",
              "      <td>NaN</td>\n",
              "      <td>NaN</td>\n",
              "      <td>0.0</td>\n",
              "    </tr>\n",
              "    <tr>\n",
              "      <th>12293</th>\n",
              "      <td>NaN</td>\n",
              "      <td>NaN</td>\n",
              "      <td>0.0</td>\n",
              "    </tr>\n",
              "    <tr>\n",
              "      <th>12294</th>\n",
              "      <td>NaN</td>\n",
              "      <td>NaN</td>\n",
              "      <td>0.0</td>\n",
              "    </tr>\n",
              "    <tr>\n",
              "      <th>12295</th>\n",
              "      <td>NaN</td>\n",
              "      <td>NaN</td>\n",
              "      <td>0.0</td>\n",
              "    </tr>\n",
              "  </tbody>\n",
              "</table>\n",
              "<p>12296 rows × 3 columns</p>\n",
              "</div>"
            ],
            "text/plain": [
              "       principal component 1  principal component 2  label_code\n",
              "0               28302.319654            1057.801319         0.0\n",
              "1               45885.232084           -1318.315048         0.0\n",
              "2              -11434.938131             -53.079277         0.0\n",
              "3              -21417.520176             173.025836         0.0\n",
              "4                  -9.170724            1862.338141         0.0\n",
              "...                      ...                    ...         ...\n",
              "12291                    NaN                    NaN         0.0\n",
              "12292                    NaN                    NaN         0.0\n",
              "12293                    NaN                    NaN         0.0\n",
              "12294                    NaN                    NaN         0.0\n",
              "12295                    NaN                    NaN         0.0\n",
              "\n",
              "[12296 rows x 3 columns]"
            ]
          },
          "metadata": {
            "tags": []
          },
          "execution_count": 47
        }
      ]
    },
    {
      "cell_type": "code",
      "metadata": {
        "colab_type": "code",
        "id": "5bRiPDyjH1n0",
        "colab": {
          "base_uri": "https://localhost:8080/",
          "height": 574
        },
        "outputId": "efcb14f4-6f48-4e73-db2e-99ef30a82fae"
      },
      "source": [
        "fig = plt.figure(figsize = (8,8))\n",
        "ax = fig.add_subplot(1,1,1) \n",
        "ax.set_xlabel('Principal Component 1', fontsize = 15)\n",
        "ax.set_ylabel('Principal Component 2', fontsize = 15)\n",
        "ax.set_title('2 component PCA', fontsize = 20)\n",
        "targets = ['LowSpread', 'Spread', 'SuperSpread']\n",
        "targets2 = np.unique(y_train)\n",
        "colors = ['r', 'g', 'b']\n",
        "for target, color in zip(targets2,colors):\n",
        "    print(target)\n",
        "    indicesToKeep = finalDf['label_code'] == target\n",
        "    ax.scatter(finalDf.loc[indicesToKeep, 'principal component 1']\n",
        "               , finalDf.loc[indicesToKeep, 'principal component 2']\n",
        "               , c = color\n",
        "               , s = 50)\n",
        "ax.legend(targets)\n",
        "ax.grid()"
      ],
      "execution_count": 48,
      "outputs": [
        {
          "output_type": "stream",
          "text": [
            "0\n",
            "1\n",
            "2\n"
          ],
          "name": "stdout"
        },
        {
          "output_type": "display_data",
          "data": {
            "image/png": "[encoded data removed]",
            "text/plain": [
              "<Figure size 576x576 with 1 Axes>"
            ]
          },
          "metadata": {
            "tags": [],
            "needs_background": "light"
          }
        }
      ]
    },
    {
      "cell_type": "code",
      "metadata": {
        "colab_type": "code",
        "id": "QEFfsLFiH1n1",
        "colab": {}
      },
      "source": [
        "#obtain the eigenpairs of the Wine covariance matrix:\n",
        "#data_cov = np.dot(np.transpose(data.values),data.values)\n",
        "#data_cov\n",
        "X_train_cov = np.cov(X_train_std.T)\n",
        "w, v = np.linalg.eig(X_train_cov)"
      ],
      "execution_count": 49,
      "outputs": []
    },
    {
      "cell_type": "code",
      "metadata": {
        "colab_type": "code",
        "id": "1zhis-3HH1n3",
        "colab": {
          "base_uri": "https://localhost:8080/",
          "height": 319
        },
        "outputId": "b4d39ab9-e63f-4e3f-a72d-3df7d4c69b25"
      },
      "source": [
        "#The percent of variability contained within each component\n",
        "w_percent = (w/np.sum(w))*100                 \n",
        "print(w, '-> eigenvalues')\n",
        "print(w_percent, ' -> percent of variability explained')"
      ],
      "execution_count": 50,
      "outputs": [
        {
          "output_type": "stream",
          "text": [
            "[6.74145823e+00 5.75030096e+00 4.14188612e+00 3.03704005e+00\n",
            " 1.63435905e+00 1.53175056e+00 1.18678274e+00 1.04036953e+00\n",
            " 7.16557132e-01 6.50683554e-01 5.90176535e-01 5.20427323e-01\n",
            " 4.50411362e-01 4.13690339e-01 3.56085335e-01 2.89448561e-01\n",
            " 2.00449524e-01 1.95188381e-01 1.30501774e-01 1.07518871e-01\n",
            " 8.30179027e-02 8.10024287e-02 5.49462840e-02 3.43888675e-02\n",
            " 2.41858184e-02 6.18808182e-05 3.72144523e-03 1.76676324e-02\n",
            " 8.65378556e-03 1.07661722e-02 0.00000000e+00 0.00000000e+00\n",
            " 0.00000000e+00] -> eigenvalues\n",
            "[2.24689075e+01 1.91654351e+01 1.38046774e+01 1.01222865e+01\n",
            " 5.44722832e+00 5.10523992e+00 3.95548123e+00 3.46749411e+00\n",
            " 2.38824529e+00 2.16869230e+00 1.96702575e+00 1.73455549e+00\n",
            " 1.50119616e+00 1.37880702e+00 1.18681273e+00 9.64716046e-01\n",
            " 6.68087180e-01 6.50552079e-01 4.34955197e-01 3.58354451e-01\n",
            " 2.76694079e-01 2.69976615e-01 1.83132926e-01 1.14616194e-01\n",
            " 8.06099953e-02 2.06245345e-04 1.24033711e-02 5.88852418e-02\n",
            " 2.88425887e-02 3.58830566e-02 0.00000000e+00 0.00000000e+00\n",
            " 0.00000000e+00]  -> percent of variability explained\n"
          ],
          "name": "stdout"
        }
      ]
    },
    {
      "cell_type": "code",
      "metadata": {
        "colab_type": "code",
        "id": "PNM0ssU3H1n5",
        "colab": {
          "base_uri": "https://localhost:8080/",
          "height": 295
        },
        "outputId": "dad6dddd-748f-48d5-ec45-63baa0f02a62"
      },
      "source": [
        "# calculate cumulative sum of explained variances\n",
        "tot = sum(w)\n",
        "var_exp = [(i / tot) for i in sorted(w, reverse=True)]\n",
        "cum_var_exp = np.cumsum(var_exp)\n",
        "\n",
        "# plot explained variances\n",
        "plt.title(\"Component-wise and Cumulative Explained Variance\")\n",
        "plt.bar(range(0,33), var_exp, alpha=0.5,\n",
        "        align='center', label='individual explained variance')\n",
        "plt.step(range(0,33), cum_var_exp, where='mid',\n",
        "         label='Percentage of variability explained')\n",
        "plt.ylabel('Explained variance ratio')\n",
        "plt.xlabel('Principal component index')\n",
        "plt.legend(loc='best')\n",
        "plt.show()"
      ],
      "execution_count": 51,
      "outputs": [
        {
          "output_type": "display_data",
          "data": {
            "image/png": "[encoded data removed]",
            "text/plain": [
              "<Figure size 432x288 with 1 Axes>"
            ]
          },
          "metadata": {
            "tags": [],
            "needs_background": "light"
          }
        }
      ]
    },
    {
      "cell_type": "code",
      "metadata": {
        "colab_type": "code",
        "id": "wQh4CAgfH1n7",
        "colab": {
          "base_uri": "https://localhost:8080/",
          "height": 588
        },
        "outputId": "f8cf1031-a71a-460e-8256-b11818c64f1c"
      },
      "source": [
        "# Make a list of (eigenvalue, eigenvector) tuples\n",
        "eigen_pairs = [(np.abs(w[i]), v[:, i]) for i in range(len(w))]\n",
        "\n",
        "# Sort the (eigenvalue, eigenvector) tuples from high to low\n",
        "eigen_pairs.sort(key=lambda k: k[0], reverse=True)\n",
        "w2 = np.hstack((eigen_pairs[0][1][:, np.newaxis], eigen_pairs[1][1][:, np.newaxis]))\n",
        "print('Matrix W2:\\n', w2)"
      ],
      "execution_count": 52,
      "outputs": [
        {
          "output_type": "stream",
          "text": [
            "Matrix W2:\n",
            " [[ 0.20557639 -0.24887588]\n",
            " [ 0.24898512  0.27388662]\n",
            " [ 0.24306277  0.26782167]\n",
            " [-0.22526388 -0.2518293 ]\n",
            " [ 0.02510662 -0.07804775]\n",
            " [ 0.02226508 -0.03748149]\n",
            " [-0.04687539 -0.26387877]\n",
            " [-0.22820154 -0.01678148]\n",
            " [-0.17026964 -0.28020473]\n",
            " [-0.15977308 -0.2804346 ]\n",
            " [ 0.08819499  0.1693746 ]\n",
            " [ 0.00757221 -0.05984821]\n",
            " [ 0.0855534   0.16748428]\n",
            " [ 0.0176407   0.08005517]\n",
            " [-0.03967367 -0.01111284]\n",
            " [-0.01317277 -0.04341505]\n",
            " [ 0.08515242  0.18912137]\n",
            " [ 0.09038561  0.19208488]\n",
            " [ 0.06435948  0.0578587 ]\n",
            " [ 0.          0.        ]\n",
            " [ 0.          0.        ]\n",
            " [ 0.          0.        ]\n",
            " [ 0.0044419  -0.06506623]\n",
            " [ 0.22982818 -0.2702898 ]\n",
            " [ 0.19109433  0.14989808]\n",
            " [ 0.29677316 -0.16142289]\n",
            " [ 0.32643622 -0.02139502]\n",
            " [-0.01771375 -0.11489284]\n",
            " [ 0.29403112 -0.18949335]\n",
            " [ 0.12434153  0.13945553]\n",
            " [ 0.23690239 -0.27867175]\n",
            " [ 0.31588643 -0.1847491 ]\n",
            " [ 0.31160544 -0.20484769]]\n"
          ],
          "name": "stdout"
        }
      ]
    },
    {
      "cell_type": "code",
      "metadata": {
        "colab_type": "code",
        "id": "gu3mx19IH1n9",
        "colab": {
          "base_uri": "https://localhost:8080/",
          "height": 134
        },
        "outputId": "c06d4bca-49a3-481d-91df-f5e437e07d8b"
      },
      "source": [
        "X_train_pca = X_train_std.dot(w2)\n",
        "print(X_train_pca)"
      ],
      "execution_count": 53,
      "outputs": [
        {
          "output_type": "stream",
          "text": [
            "[[ 1.45358628 -1.0303489 ]\n",
            " [ 3.5555724  -1.08924587]\n",
            " [ 3.96451167  2.57510508]\n",
            " ...\n",
            " [-3.32973673  0.96328197]\n",
            " [ 1.35756268  1.86474401]\n",
            " [ 3.59920626  4.80550456]]\n"
          ],
          "name": "stdout"
        }
      ]
    },
    {
      "cell_type": "code",
      "metadata": {
        "colab_type": "code",
        "id": "laotJxepH1n-",
        "colab": {
          "base_uri": "https://localhost:8080/",
          "height": 134
        },
        "outputId": "96cebd77-43b1-4c26-94b3-1db4dd36a41c"
      },
      "source": [
        "np.unique(y_train)\n",
        "X_train_pca"
      ],
      "execution_count": 54,
      "outputs": [
        {
          "output_type": "execute_result",
          "data": {
            "text/plain": [
              "array([[ 1.45358628, -1.0303489 ],\n",
              "       [ 3.5555724 , -1.08924587],\n",
              "       [ 3.96451167,  2.57510508],\n",
              "       ...,\n",
              "       [-3.32973673,  0.96328197],\n",
              "       [ 1.35756268,  1.86474401],\n",
              "       [ 3.59920626,  4.80550456]])"
            ]
          },
          "metadata": {
            "tags": []
          },
          "execution_count": 54
        }
      ]
    }
  ]
}