{
  "nbformat": 4,
  "nbformat_minor": 0,
  "metadata": {
    "colab": {
      "name": "CA_FeatureRanking.ipynb",
      "provenance": [],
      "machine_shape": "hm",
      "include_colab_link": true
    },
    "kernelspec": {
      "name": "python3",
      "display_name": "Python 3"
    },
    "accelerator": "GPU"
  },
  "cells": [
    {
      "cell_type": "markdown",
      "metadata": {
        "id": "view-in-github",
        "colab_type": "text"
      },
      "source": [
        "<a href=\"https://colab.research.google.com/github/aarsanjani/meansquares/blob/master/CA_FeatureRanking.ipynb\" target=\"_parent\"><img src=\"https://colab.research.google.com/assets/colab-badge.svg\" alt=\"Open In Colab\"/></a>"
      ]
    },
    {
      "cell_type": "markdown",
      "metadata": {
        "id": "l346AV8oZPe-"
      },
      "source": [
        "# Goal:\n",
        "Using Random Forest to estimate the gini index and feature importance for all features from CA dataset\n",
        "\n",
        "Using Scikit-learn to compute PCA"
      ]
    },
    {
      "cell_type": "markdown",
      "metadata": {
        "id": "thBIWXyoZh3U"
      },
      "source": [
        "## Mount Google drive"
      ]
    },
    {
      "cell_type": "code",
      "metadata": {
        "id": "3N0GpmS9ZJFo",
        "outputId": "12093fe6-9e58-483d-9848-11f0a34aa57f",
        "colab": {
          "base_uri": "https://localhost:8080/",
          "height": 55
        }
      },
      "source": [
        "from google.colab import drive\n",
        "drive.mount('/content/drive')"
      ],
      "execution_count": 74,
      "outputs": [
        {
          "output_type": "stream",
          "text": [
            "Drive already mounted at /content/drive; to attempt to forcibly remount, call drive.mount(\"/content/drive\", force_remount=True).\n"
          ],
          "name": "stdout"
        }
      ]
    },
    {
      "cell_type": "code",
      "metadata": {
        "id": "ogU_R9SvZjuR"
      },
      "source": [
        "import pandas as pd\n",
        "import seaborn as sns\n",
        "from sklearn import preprocessing\n",
        "from sklearn.model_selection import train_test_split\n",
        "\n",
        "from sklearn.preprocessing import LabelEncoder\n",
        "from sklearn.preprocessing import StandardScaler as ss\n",
        "import itertools\n",
        "from scipy import linalg\n",
        "from sklearn.ensemble import RandomForestClassifier\n",
        "from sklearn.tree import export_graphviz\n",
        "import numpy as np\n",
        "import matplotlib.pyplot as plt"
      ],
      "execution_count": 75,
      "outputs": []
    },
    {
      "cell_type": "markdown",
      "metadata": {
        "id": "mjW80L8CZzrv"
      },
      "source": [
        "# 1.Load data - Combined CA Data"
      ]
    },
    {
      "cell_type": "code",
      "metadata": {
        "id": "HzV2n_7iZwr9",
        "outputId": "649d4966-0e0f-447d-8de9-60fe9716b577",
        "colab": {
          "base_uri": "https://localhost:8080/",
          "height": 35
        }
      },
      "source": [
        "CA_labeled_data = pd.read_csv('/content/drive/Shared drives/CMPE 295- Master Project/Covid19-data/CA/CA_labeledData_LosAngeles_Oct11.csv',low_memory=False)\n",
        "print(CA_labeled_data.shape)"
      ],
      "execution_count": 76,
      "outputs": [
        {
          "output_type": "stream",
          "text": [
            "(172, 19)\n"
          ],
          "name": "stdout"
        }
      ]
    },
    {
      "cell_type": "code",
      "metadata": {
        "id": "rphAMDm_aBqd",
        "outputId": "16fd14b6-52dd-4df6-f231-c61d5fbeca34",
        "colab": {
          "base_uri": "https://localhost:8080/",
          "height": 363
        }
      },
      "source": [
        "CA_labeled_data.dtypes"
      ],
      "execution_count": 77,
      "outputs": [
        {
          "output_type": "execute_result",
          "data": {
            "text/plain": [
              "Date                        object\n",
              "fips_x                       int64\n",
              "County Name                 object\n",
              "population                   int64\n",
              "retail and recreation      float64\n",
              "grocery and pharmacy       float64\n",
              "parks                      float64\n",
              "transit stations           float64\n",
              "workplaces                 float64\n",
              "residential                float64\n",
              "driving                    float64\n",
              "m50                        float64\n",
              "m50_index                    int64\n",
              "population_density         float64\n",
              "mask_rule_active             int64\n",
              "mask_wearing_percent       float64\n",
              "New cases                    int64\n",
              "New Cases/1k population    float64\n",
              "growth_label                object\n",
              "dtype: object"
            ]
          },
          "metadata": {
            "tags": []
          },
          "execution_count": 77
        }
      ]
    },
    {
      "cell_type": "markdown",
      "metadata": {
        "id": "nItxaLWfcCGl"
      },
      "source": [
        "## Preprocessing data \n",
        "\n",
        "* drop na\n",
        "* convert categorical code"
      ]
    },
    {
      "cell_type": "code",
      "metadata": {
        "id": "atHU0JIiaDsb",
        "outputId": "7772463f-c58b-4e3c-a7e6-748422ec89b7",
        "colab": {
          "base_uri": "https://localhost:8080/",
          "height": 232
        }
      },
      "source": [
        "CA_labeled_data['growth_code'] = CA_labeled_data['growth_label'].astype('category').cat.codes\n",
        "\n",
        "CA_labeled_data.head(2)"
      ],
      "execution_count": 78,
      "outputs": [
        {
          "output_type": "execute_result",
          "data": {
            "text/html": [
              "<div>\n",
              "<style scoped>\n",
              "    .dataframe tbody tr th:only-of-type {\n",
              "        vertical-align: middle;\n",
              "    }\n",
              "\n",
              "    .dataframe tbody tr th {\n",
              "        vertical-align: top;\n",
              "    }\n",
              "\n",
              "    .dataframe thead th {\n",
              "        text-align: right;\n",
              "    }\n",
              "</style>\n",
              "<table border=\"1\" class=\"dataframe\">\n",
              "  <thead>\n",
              "    <tr style=\"text-align: right;\">\n",
              "      <th></th>\n",
              "      <th>Date</th>\n",
              "      <th>fips_x</th>\n",
              "      <th>County Name</th>\n",
              "      <th>population</th>\n",
              "      <th>retail and recreation</th>\n",
              "      <th>grocery and pharmacy</th>\n",
              "      <th>parks</th>\n",
              "      <th>transit stations</th>\n",
              "      <th>workplaces</th>\n",
              "      <th>residential</th>\n",
              "      <th>driving</th>\n",
              "      <th>m50</th>\n",
              "      <th>m50_index</th>\n",
              "      <th>population_density</th>\n",
              "      <th>mask_rule_active</th>\n",
              "      <th>mask_wearing_percent</th>\n",
              "      <th>New cases</th>\n",
              "      <th>New Cases/1k population</th>\n",
              "      <th>growth_label</th>\n",
              "      <th>growth_code</th>\n",
              "    </tr>\n",
              "  </thead>\n",
              "  <tbody>\n",
              "    <tr>\n",
              "      <th>0</th>\n",
              "      <td>2020-03-01</td>\n",
              "      <td>6037</td>\n",
              "      <td>Los Angeles County</td>\n",
              "      <td>10039107</td>\n",
              "      <td>4.0</td>\n",
              "      <td>3.0</td>\n",
              "      <td>-5.0</td>\n",
              "      <td>-3.0</td>\n",
              "      <td>1.0</td>\n",
              "      <td>0.0</td>\n",
              "      <td>-4.36</td>\n",
              "      <td>3.996</td>\n",
              "      <td>60</td>\n",
              "      <td>2473.978284</td>\n",
              "      <td>0</td>\n",
              "      <td>0.0</td>\n",
              "      <td>0</td>\n",
              "      <td>0.0</td>\n",
              "      <td>drastic_decrement</td>\n",
              "      <td>0</td>\n",
              "    </tr>\n",
              "    <tr>\n",
              "      <th>1</th>\n",
              "      <td>2020-03-02</td>\n",
              "      <td>6037</td>\n",
              "      <td>Los Angeles County</td>\n",
              "      <td>10039107</td>\n",
              "      <td>5.0</td>\n",
              "      <td>5.0</td>\n",
              "      <td>8.0</td>\n",
              "      <td>1.0</td>\n",
              "      <td>4.0</td>\n",
              "      <td>-1.0</td>\n",
              "      <td>7.51</td>\n",
              "      <td>6.502</td>\n",
              "      <td>98</td>\n",
              "      <td>2473.978284</td>\n",
              "      <td>0</td>\n",
              "      <td>0.0</td>\n",
              "      <td>0</td>\n",
              "      <td>0.0</td>\n",
              "      <td>drastic_decrement</td>\n",
              "      <td>0</td>\n",
              "    </tr>\n",
              "  </tbody>\n",
              "</table>\n",
              "</div>"
            ],
            "text/plain": [
              "         Date  fips_x  ...       growth_label  growth_code\n",
              "0  2020-03-01    6037  ...  drastic_decrement            0\n",
              "1  2020-03-02    6037  ...  drastic_decrement            0\n",
              "\n",
              "[2 rows x 20 columns]"
            ]
          },
          "metadata": {
            "tags": []
          },
          "execution_count": 78
        }
      ]
    },
    {
      "cell_type": "code",
      "metadata": {
        "id": "xalDlwRNa4T-"
      },
      "source": [
        "CA_labeled_data = CA_labeled_data.dropna()"
      ],
      "execution_count": 79,
      "outputs": []
    },
    {
      "cell_type": "code",
      "metadata": {
        "id": "oQdh_JQSaXlL"
      },
      "source": [
        "#CA_labeled_data[pd.isna(CA_labeled_data['growth_label'])]"
      ],
      "execution_count": 80,
      "outputs": []
    },
    {
      "cell_type": "code",
      "metadata": {
        "id": "QqIRFkp-aPIE"
      },
      "source": [
        "#CA_labeled_data['label_code'].unique()"
      ],
      "execution_count": 81,
      "outputs": []
    },
    {
      "cell_type": "code",
      "metadata": {
        "id": "u_0KNgMwbAtU",
        "outputId": "f8474678-9cea-45c9-f7eb-e778222c2703",
        "colab": {
          "base_uri": "https://localhost:8080/",
          "height": 425
        }
      },
      "source": [
        "CA_labeled_data['growth_code'] = CA_labeled_data['growth_label'].astype('category').cat.codes\n",
        "CA_labeled_data.head()"
      ],
      "execution_count": 82,
      "outputs": [
        {
          "output_type": "execute_result",
          "data": {
            "text/html": [
              "<div>\n",
              "<style scoped>\n",
              "    .dataframe tbody tr th:only-of-type {\n",
              "        vertical-align: middle;\n",
              "    }\n",
              "\n",
              "    .dataframe tbody tr th {\n",
              "        vertical-align: top;\n",
              "    }\n",
              "\n",
              "    .dataframe thead th {\n",
              "        text-align: right;\n",
              "    }\n",
              "</style>\n",
              "<table border=\"1\" class=\"dataframe\">\n",
              "  <thead>\n",
              "    <tr style=\"text-align: right;\">\n",
              "      <th></th>\n",
              "      <th>Date</th>\n",
              "      <th>fips_x</th>\n",
              "      <th>County Name</th>\n",
              "      <th>population</th>\n",
              "      <th>retail and recreation</th>\n",
              "      <th>grocery and pharmacy</th>\n",
              "      <th>parks</th>\n",
              "      <th>transit stations</th>\n",
              "      <th>workplaces</th>\n",
              "      <th>residential</th>\n",
              "      <th>driving</th>\n",
              "      <th>m50</th>\n",
              "      <th>m50_index</th>\n",
              "      <th>population_density</th>\n",
              "      <th>mask_rule_active</th>\n",
              "      <th>mask_wearing_percent</th>\n",
              "      <th>New cases</th>\n",
              "      <th>New Cases/1k population</th>\n",
              "      <th>growth_label</th>\n",
              "      <th>growth_code</th>\n",
              "    </tr>\n",
              "  </thead>\n",
              "  <tbody>\n",
              "    <tr>\n",
              "      <th>0</th>\n",
              "      <td>2020-03-01</td>\n",
              "      <td>6037</td>\n",
              "      <td>Los Angeles County</td>\n",
              "      <td>10039107</td>\n",
              "      <td>4.0</td>\n",
              "      <td>3.0</td>\n",
              "      <td>-5.0</td>\n",
              "      <td>-3.0</td>\n",
              "      <td>1.0</td>\n",
              "      <td>0.0</td>\n",
              "      <td>-4.36</td>\n",
              "      <td>3.996</td>\n",
              "      <td>60</td>\n",
              "      <td>2473.978284</td>\n",
              "      <td>0</td>\n",
              "      <td>0.0</td>\n",
              "      <td>0</td>\n",
              "      <td>0.000000</td>\n",
              "      <td>drastic_decrement</td>\n",
              "      <td>0</td>\n",
              "    </tr>\n",
              "    <tr>\n",
              "      <th>1</th>\n",
              "      <td>2020-03-02</td>\n",
              "      <td>6037</td>\n",
              "      <td>Los Angeles County</td>\n",
              "      <td>10039107</td>\n",
              "      <td>5.0</td>\n",
              "      <td>5.0</td>\n",
              "      <td>8.0</td>\n",
              "      <td>1.0</td>\n",
              "      <td>4.0</td>\n",
              "      <td>-1.0</td>\n",
              "      <td>7.51</td>\n",
              "      <td>6.502</td>\n",
              "      <td>98</td>\n",
              "      <td>2473.978284</td>\n",
              "      <td>0</td>\n",
              "      <td>0.0</td>\n",
              "      <td>0</td>\n",
              "      <td>0.000000</td>\n",
              "      <td>drastic_decrement</td>\n",
              "      <td>0</td>\n",
              "    </tr>\n",
              "    <tr>\n",
              "      <th>2</th>\n",
              "      <td>2020-03-03</td>\n",
              "      <td>6037</td>\n",
              "      <td>Los Angeles County</td>\n",
              "      <td>10039107</td>\n",
              "      <td>8.0</td>\n",
              "      <td>7.0</td>\n",
              "      <td>32.0</td>\n",
              "      <td>2.0</td>\n",
              "      <td>3.0</td>\n",
              "      <td>-1.0</td>\n",
              "      <td>17.24</td>\n",
              "      <td>6.591</td>\n",
              "      <td>99</td>\n",
              "      <td>2473.978284</td>\n",
              "      <td>0</td>\n",
              "      <td>0.0</td>\n",
              "      <td>0</td>\n",
              "      <td>0.000000</td>\n",
              "      <td>drastic_decrement</td>\n",
              "      <td>0</td>\n",
              "    </tr>\n",
              "    <tr>\n",
              "      <th>3</th>\n",
              "      <td>2020-03-04</td>\n",
              "      <td>6037</td>\n",
              "      <td>Los Angeles County</td>\n",
              "      <td>10039107</td>\n",
              "      <td>4.0</td>\n",
              "      <td>6.0</td>\n",
              "      <td>9.0</td>\n",
              "      <td>-1.0</td>\n",
              "      <td>2.0</td>\n",
              "      <td>0.0</td>\n",
              "      <td>13.82</td>\n",
              "      <td>6.595</td>\n",
              "      <td>100</td>\n",
              "      <td>2473.978284</td>\n",
              "      <td>0</td>\n",
              "      <td>0.0</td>\n",
              "      <td>6</td>\n",
              "      <td>0.000598</td>\n",
              "      <td>drastic_decrement</td>\n",
              "      <td>0</td>\n",
              "    </tr>\n",
              "    <tr>\n",
              "      <th>4</th>\n",
              "      <td>2020-03-05</td>\n",
              "      <td>6037</td>\n",
              "      <td>Los Angeles County</td>\n",
              "      <td>10039107</td>\n",
              "      <td>4.0</td>\n",
              "      <td>7.0</td>\n",
              "      <td>9.0</td>\n",
              "      <td>0.0</td>\n",
              "      <td>2.0</td>\n",
              "      <td>0.0</td>\n",
              "      <td>22.17</td>\n",
              "      <td>7.008</td>\n",
              "      <td>106</td>\n",
              "      <td>2473.978284</td>\n",
              "      <td>0</td>\n",
              "      <td>0.0</td>\n",
              "      <td>4</td>\n",
              "      <td>0.000398</td>\n",
              "      <td>drastic_decrement</td>\n",
              "      <td>0</td>\n",
              "    </tr>\n",
              "  </tbody>\n",
              "</table>\n",
              "</div>"
            ],
            "text/plain": [
              "         Date  fips_x  ...       growth_label  growth_code\n",
              "0  2020-03-01    6037  ...  drastic_decrement            0\n",
              "1  2020-03-02    6037  ...  drastic_decrement            0\n",
              "2  2020-03-03    6037  ...  drastic_decrement            0\n",
              "3  2020-03-04    6037  ...  drastic_decrement            0\n",
              "4  2020-03-05    6037  ...  drastic_decrement            0\n",
              "\n",
              "[5 rows x 20 columns]"
            ]
          },
          "metadata": {
            "tags": []
          },
          "execution_count": 82
        }
      ]
    },
    {
      "cell_type": "markdown",
      "metadata": {
        "id": "lRJY5FP_1FZo"
      },
      "source": [
        "Get unique values of two columns"
      ]
    },
    {
      "cell_type": "code",
      "metadata": {
        "id": "zr56GHGCy1RC",
        "outputId": "e3ba6583-9afc-4e34-8ec7-ad3685771563",
        "colab": {
          "base_uri": "https://localhost:8080/",
          "height": 52
        }
      },
      "source": [
        "pd.unique(CA_labeled_data[['growth_label', 'growth_code']].values.ravel())"
      ],
      "execution_count": 83,
      "outputs": [
        {
          "output_type": "execute_result",
          "data": {
            "text/plain": [
              "array(['drastic_decrement', 0, 'mild_decrement', 3, 'mild_growth', 4,\n",
              "       'flat_growth', 2, 'drastic_growth', 1], dtype=object)"
            ]
          },
          "metadata": {
            "tags": []
          },
          "execution_count": 83
        }
      ]
    },
    {
      "cell_type": "code",
      "metadata": {
        "id": "Rnfoncl0bGfe",
        "outputId": "31e5e53d-1e01-490f-9f40-776d9529530e",
        "colab": {
          "base_uri": "https://localhost:8080/",
          "height": 35
        }
      },
      "source": [
        "CA_labeled_data['growth_code'].unique()"
      ],
      "execution_count": 84,
      "outputs": [
        {
          "output_type": "execute_result",
          "data": {
            "text/plain": [
              "array([0, 3, 4, 2, 1], dtype=int8)"
            ]
          },
          "metadata": {
            "tags": []
          },
          "execution_count": 84
        }
      ]
    },
    {
      "cell_type": "code",
      "metadata": {
        "id": "1HVWG1aBcJQo",
        "outputId": "c8d46be4-6eaa-4936-d6a6-45c69dc9e909",
        "colab": {
          "base_uri": "https://localhost:8080/",
          "height": 380
        }
      },
      "source": [
        "CA_labeled_data.dtypes"
      ],
      "execution_count": 85,
      "outputs": [
        {
          "output_type": "execute_result",
          "data": {
            "text/plain": [
              "Date                        object\n",
              "fips_x                       int64\n",
              "County Name                 object\n",
              "population                   int64\n",
              "retail and recreation      float64\n",
              "grocery and pharmacy       float64\n",
              "parks                      float64\n",
              "transit stations           float64\n",
              "workplaces                 float64\n",
              "residential                float64\n",
              "driving                    float64\n",
              "m50                        float64\n",
              "m50_index                    int64\n",
              "population_density         float64\n",
              "mask_rule_active             int64\n",
              "mask_wearing_percent       float64\n",
              "New cases                    int64\n",
              "New Cases/1k population    float64\n",
              "growth_label                object\n",
              "growth_code                   int8\n",
              "dtype: object"
            ]
          },
          "metadata": {
            "tags": []
          },
          "execution_count": 85
        }
      ]
    },
    {
      "cell_type": "code",
      "metadata": {
        "id": "Q015pwCsbJRZ"
      },
      "source": [
        "feature_labels = ['retail and recreation','grocery and pharmacy','parks','transit stations','workplaces','residential','driving','m50','m50_index',\n",
        "               'population_density','mask_rule_active']\n",
        "\n",
        "target_column = ['growth_code']\n",
        "\n",
        "X = CA_labeled_data[feature_labels]\n",
        "y = CA_labeled_data[target_column]\n",
        "\n",
        "X_train, X_test, y_train, y_test = train_test_split(X, y, test_size=0.4, random_state=0)\n"
      ],
      "execution_count": 86,
      "outputs": []
    },
    {
      "cell_type": "markdown",
      "metadata": {
        "id": "JCogtyG2c_KJ"
      },
      "source": [
        "## Train Random Forest classifier"
      ]
    },
    {
      "cell_type": "code",
      "metadata": {
        "id": "2WlgVFSHbGWY",
        "outputId": "da01665d-2015-416a-d224-3597b42521dd",
        "colab": {
          "base_uri": "https://localhost:8080/",
          "height": 262
        }
      },
      "source": [
        "# Create a random forest classifier\n",
        "clf = RandomForestClassifier(n_estimators=10000, random_state=0, n_jobs=-1)\n",
        "\n",
        "# Train the classifier\n",
        "clf.fit(X_train, y_train)\n",
        "\n",
        "# Print the name and gini importance of each feature\n",
        "for feature in zip(feature_labels, clf.feature_importances_):\n",
        "    print(feature)"
      ],
      "execution_count": 87,
      "outputs": [
        {
          "output_type": "stream",
          "text": [
            "/usr/local/lib/python3.6/dist-packages/ipykernel_launcher.py:5: DataConversionWarning: A column-vector y was passed when a 1d array was expected. Please change the shape of y to (n_samples,), for example using ravel().\n",
            "  \"\"\"\n"
          ],
          "name": "stderr"
        },
        {
          "output_type": "stream",
          "text": [
            "('retail and recreation', 0.11702171770769759)\n",
            "('grocery and pharmacy', 0.1245669258307571)\n",
            "('parks', 0.09253988610269637)\n",
            "('transit stations', 0.08270382295645459)\n",
            "('workplaces', 0.08457439300703676)\n",
            "('residential', 0.07157277412555042)\n",
            "('driving', 0.1583529196139357)\n",
            "('m50', 0.10367041250269068)\n",
            "('m50_index', 0.08769511517757116)\n",
            "('population_density', 0.0)\n",
            "('mask_rule_active', 0.07730203297560982)\n"
          ],
          "name": "stdout"
        }
      ]
    },
    {
      "cell_type": "code",
      "metadata": {
        "id": "3Vc0z9x3dsxZ",
        "outputId": "1f467628-8ea7-4d18-d6ca-ffe5b8d44a6d",
        "colab": {
          "base_uri": "https://localhost:8080/",
          "height": 262
        }
      },
      "source": [
        "\n",
        "#  Supported criteria are “gini” for the Gini impurity and “entropy” for the information gain. \n",
        "clf = RandomForestClassifier(n_estimators=10000, random_state=0,criterion='entropy', n_jobs=-1)\n",
        "\n",
        "# Train the classifier\n",
        "clf.fit(X_train, y_train)\n",
        "\n",
        "# Print the name and gini importance of each feature\n",
        "for feature in zip(feature_labels, clf.feature_importances_):\n",
        "    print(feature)"
      ],
      "execution_count": 88,
      "outputs": [
        {
          "output_type": "stream",
          "text": [
            "/usr/local/lib/python3.6/dist-packages/ipykernel_launcher.py:6: DataConversionWarning: A column-vector y was passed when a 1d array was expected. Please change the shape of y to (n_samples,), for example using ravel().\n",
            "  \n"
          ],
          "name": "stderr"
        },
        {
          "output_type": "stream",
          "text": [
            "('retail and recreation', 0.12563080163711668)\n",
            "('grocery and pharmacy', 0.12922781803420366)\n",
            "('parks', 0.09531517154320582)\n",
            "('transit stations', 0.08592440076185373)\n",
            "('workplaces', 0.07971257117353531)\n",
            "('residential', 0.06511970471752503)\n",
            "('driving', 0.15969964432159825)\n",
            "('m50', 0.10201440456228587)\n",
            "('m50_index', 0.08512559362001011)\n",
            "('population_density', 0.0)\n",
            "('mask_rule_active', 0.07222988962866539)\n"
          ],
          "name": "stdout"
        }
      ]
    },
    {
      "cell_type": "markdown",
      "metadata": {
        "id": "D3zWG9KkfUfd"
      },
      "source": [
        "## PCA Computation"
      ]
    },
    {
      "cell_type": "code",
      "metadata": {
        "id": "E4VmR9P-5JqM",
        "outputId": "2b1023d9-11db-476b-839c-a36585ec7fa6",
        "colab": {
          "base_uri": "https://localhost:8080/",
          "height": 35
        }
      },
      "source": [
        "print(len(feature_labels))"
      ],
      "execution_count": 89,
      "outputs": [
        {
          "output_type": "stream",
          "text": [
            "11\n"
          ],
          "name": "stdout"
        }
      ]
    },
    {
      "cell_type": "code",
      "metadata": {
        "id": "zjEtAIc621LQ",
        "outputId": "c3756dbe-fddc-48eb-c198-303013c02eb7",
        "colab": {
          "base_uri": "https://localhost:8080/",
          "height": 52
        }
      },
      "source": [
        "# split into training and testing datasets\n",
        "\n",
        "\n",
        "X = CA_labeled_data[feature_labels].values\n",
        "y = CA_labeled_data[target_column].values\n",
        "\n",
        "X_train, X_test, y_train, y_test = train_test_split(X, y, test_size=0.3,stratify=y, random_state=0)\n",
        "print(X_train.shape)\n",
        "print(y_train.shape)"
      ],
      "execution_count": 90,
      "outputs": [
        {
          "output_type": "stream",
          "text": [
            "(120, 11)\n",
            "(120, 1)\n"
          ],
          "name": "stdout"
        }
      ]
    },
    {
      "cell_type": "code",
      "metadata": {
        "id": "9A68OlBw4WoF"
      },
      "source": [
        "# standardize the features\n",
        "sc = ss()\n",
        "X_train_std = sc.fit_transform(X_train)\n",
        "X_test_std = sc.transform(X_test)"
      ],
      "execution_count": 91,
      "outputs": []
    },
    {
      "cell_type": "code",
      "metadata": {
        "id": "ev-2B1Qf6XTa"
      },
      "source": [
        "from sklearn.decomposition import PCA\n",
        "pca = PCA(n_components=2)\n",
        "principalComponents = pca.fit_transform(X)\n",
        "principalDf = pd.DataFrame(data = principalComponents\n",
        "             , columns = ['principal component 1', 'principal component 2'])"
      ],
      "execution_count": 92,
      "outputs": []
    },
    {
      "cell_type": "code",
      "metadata": {
        "id": "pYJms-Kj8RR6",
        "outputId": "fe641c78-48a4-4735-d958-f22f8e020fce",
        "colab": {
          "base_uri": "https://localhost:8080/",
          "height": 407
        }
      },
      "source": [
        "principalDf"
      ],
      "execution_count": 93,
      "outputs": [
        {
          "output_type": "execute_result",
          "data": {
            "text/html": [
              "<div>\n",
              "<style scoped>\n",
              "    .dataframe tbody tr th:only-of-type {\n",
              "        vertical-align: middle;\n",
              "    }\n",
              "\n",
              "    .dataframe tbody tr th {\n",
              "        vertical-align: top;\n",
              "    }\n",
              "\n",
              "    .dataframe thead th {\n",
              "        text-align: right;\n",
              "    }\n",
              "</style>\n",
              "<table border=\"1\" class=\"dataframe\">\n",
              "  <thead>\n",
              "    <tr style=\"text-align: right;\">\n",
              "      <th></th>\n",
              "      <th>principal component 1</th>\n",
              "      <th>principal component 2</th>\n",
              "    </tr>\n",
              "  </thead>\n",
              "  <tbody>\n",
              "    <tr>\n",
              "      <th>0</th>\n",
              "      <td>67.762555</td>\n",
              "      <td>32.339484</td>\n",
              "    </tr>\n",
              "    <tr>\n",
              "      <th>1</th>\n",
              "      <td>101.698837</td>\n",
              "      <td>38.260046</td>\n",
              "    </tr>\n",
              "    <tr>\n",
              "      <th>2</th>\n",
              "      <td>117.341807</td>\n",
              "      <td>21.843220</td>\n",
              "    </tr>\n",
              "    <tr>\n",
              "      <th>3</th>\n",
              "      <td>105.170413</td>\n",
              "      <td>33.882759</td>\n",
              "    </tr>\n",
              "    <tr>\n",
              "      <th>4</th>\n",
              "      <td>113.326609</td>\n",
              "      <td>32.205038</td>\n",
              "    </tr>\n",
              "    <tr>\n",
              "      <th>...</th>\n",
              "      <td>...</td>\n",
              "      <td>...</td>\n",
              "    </tr>\n",
              "    <tr>\n",
              "      <th>167</th>\n",
              "      <td>39.226197</td>\n",
              "      <td>-7.910583</td>\n",
              "    </tr>\n",
              "    <tr>\n",
              "      <th>168</th>\n",
              "      <td>45.592815</td>\n",
              "      <td>-5.022222</td>\n",
              "    </tr>\n",
              "    <tr>\n",
              "      <th>169</th>\n",
              "      <td>43.416918</td>\n",
              "      <td>-9.699809</td>\n",
              "    </tr>\n",
              "    <tr>\n",
              "      <th>170</th>\n",
              "      <td>48.605367</td>\n",
              "      <td>-7.162312</td>\n",
              "    </tr>\n",
              "    <tr>\n",
              "      <th>171</th>\n",
              "      <td>66.292250</td>\n",
              "      <td>-8.069435</td>\n",
              "    </tr>\n",
              "  </tbody>\n",
              "</table>\n",
              "<p>172 rows × 2 columns</p>\n",
              "</div>"
            ],
            "text/plain": [
              "     principal component 1  principal component 2\n",
              "0                67.762555              32.339484\n",
              "1               101.698837              38.260046\n",
              "2               117.341807              21.843220\n",
              "3               105.170413              33.882759\n",
              "4               113.326609              32.205038\n",
              "..                     ...                    ...\n",
              "167              39.226197              -7.910583\n",
              "168              45.592815              -5.022222\n",
              "169              43.416918              -9.699809\n",
              "170              48.605367              -7.162312\n",
              "171              66.292250              -8.069435\n",
              "\n",
              "[172 rows x 2 columns]"
            ]
          },
          "metadata": {
            "tags": []
          },
          "execution_count": 93
        }
      ]
    },
    {
      "cell_type": "code",
      "metadata": {
        "id": "rDNqe9dF6eZA",
        "outputId": "5911dc77-5d04-48a2-9aac-9d9bacdec432",
        "colab": {
          "base_uri": "https://localhost:8080/",
          "height": 407
        }
      },
      "source": [
        "finalDf = pd.concat([principalDf, CA_labeled_data[target_column]],axis=1 )\n",
        "finalDf"
      ],
      "execution_count": 94,
      "outputs": [
        {
          "output_type": "execute_result",
          "data": {
            "text/html": [
              "<div>\n",
              "<style scoped>\n",
              "    .dataframe tbody tr th:only-of-type {\n",
              "        vertical-align: middle;\n",
              "    }\n",
              "\n",
              "    .dataframe tbody tr th {\n",
              "        vertical-align: top;\n",
              "    }\n",
              "\n",
              "    .dataframe thead th {\n",
              "        text-align: right;\n",
              "    }\n",
              "</style>\n",
              "<table border=\"1\" class=\"dataframe\">\n",
              "  <thead>\n",
              "    <tr style=\"text-align: right;\">\n",
              "      <th></th>\n",
              "      <th>principal component 1</th>\n",
              "      <th>principal component 2</th>\n",
              "      <th>growth_code</th>\n",
              "    </tr>\n",
              "  </thead>\n",
              "  <tbody>\n",
              "    <tr>\n",
              "      <th>0</th>\n",
              "      <td>67.762555</td>\n",
              "      <td>32.339484</td>\n",
              "      <td>0</td>\n",
              "    </tr>\n",
              "    <tr>\n",
              "      <th>1</th>\n",
              "      <td>101.698837</td>\n",
              "      <td>38.260046</td>\n",
              "      <td>0</td>\n",
              "    </tr>\n",
              "    <tr>\n",
              "      <th>2</th>\n",
              "      <td>117.341807</td>\n",
              "      <td>21.843220</td>\n",
              "      <td>0</td>\n",
              "    </tr>\n",
              "    <tr>\n",
              "      <th>3</th>\n",
              "      <td>105.170413</td>\n",
              "      <td>33.882759</td>\n",
              "      <td>0</td>\n",
              "    </tr>\n",
              "    <tr>\n",
              "      <th>4</th>\n",
              "      <td>113.326609</td>\n",
              "      <td>32.205038</td>\n",
              "      <td>0</td>\n",
              "    </tr>\n",
              "    <tr>\n",
              "      <th>...</th>\n",
              "      <td>...</td>\n",
              "      <td>...</td>\n",
              "      <td>...</td>\n",
              "    </tr>\n",
              "    <tr>\n",
              "      <th>167</th>\n",
              "      <td>39.226197</td>\n",
              "      <td>-7.910583</td>\n",
              "      <td>4</td>\n",
              "    </tr>\n",
              "    <tr>\n",
              "      <th>168</th>\n",
              "      <td>45.592815</td>\n",
              "      <td>-5.022222</td>\n",
              "      <td>2</td>\n",
              "    </tr>\n",
              "    <tr>\n",
              "      <th>169</th>\n",
              "      <td>43.416918</td>\n",
              "      <td>-9.699809</td>\n",
              "      <td>1</td>\n",
              "    </tr>\n",
              "    <tr>\n",
              "      <th>170</th>\n",
              "      <td>48.605367</td>\n",
              "      <td>-7.162312</td>\n",
              "      <td>1</td>\n",
              "    </tr>\n",
              "    <tr>\n",
              "      <th>171</th>\n",
              "      <td>66.292250</td>\n",
              "      <td>-8.069435</td>\n",
              "      <td>1</td>\n",
              "    </tr>\n",
              "  </tbody>\n",
              "</table>\n",
              "<p>172 rows × 3 columns</p>\n",
              "</div>"
            ],
            "text/plain": [
              "     principal component 1  principal component 2  growth_code\n",
              "0                67.762555              32.339484            0\n",
              "1               101.698837              38.260046            0\n",
              "2               117.341807              21.843220            0\n",
              "3               105.170413              33.882759            0\n",
              "4               113.326609              32.205038            0\n",
              "..                     ...                    ...          ...\n",
              "167              39.226197              -7.910583            4\n",
              "168              45.592815              -5.022222            2\n",
              "169              43.416918              -9.699809            1\n",
              "170              48.605367              -7.162312            1\n",
              "171              66.292250              -8.069435            1\n",
              "\n",
              "[172 rows x 3 columns]"
            ]
          },
          "metadata": {
            "tags": []
          },
          "execution_count": 94
        }
      ]
    },
    {
      "cell_type": "code",
      "metadata": {
        "id": "nx4DfVPy6uI6",
        "outputId": "2244bb82-b8d6-4c68-fcb8-08c218c081fd",
        "colab": {
          "base_uri": "https://localhost:8080/",
          "height": 575
        }
      },
      "source": [
        "fig = plt.figure(figsize = (8,8))\n",
        "ax = fig.add_subplot(1,1,1) \n",
        "ax.set_xlabel('Principal Component 1', fontsize = 15)\n",
        "ax.set_ylabel('Principal Component 2', fontsize = 15)\n",
        "ax.set_title('2 component PCA', fontsize = 20)\n",
        "targets = ['LowSpread', 'Spread', 'SuperSpread']\n",
        "targets2 = np.unique(y_train)\n",
        "colors = ['r', 'g', 'b']\n",
        "for target, color in zip(targets2,colors):\n",
        "    print(target)\n",
        "    indicesToKeep = finalDf['growth_code'] == target\n",
        "    ax.scatter(finalDf.loc[indicesToKeep, 'principal component 1']\n",
        "               , finalDf.loc[indicesToKeep, 'principal component 2']\n",
        "               , c = color\n",
        "               , s = 50)\n",
        "ax.legend(targets)\n",
        "ax.grid()"
      ],
      "execution_count": 95,
      "outputs": [
        {
          "output_type": "stream",
          "text": [
            "0\n",
            "1\n",
            "2\n"
          ],
          "name": "stdout"
        },
        {
          "output_type": "display_data",
          "data": {
            "image/png": "[encoded data removed]",
            "text/plain": [
              "<Figure size 576x576 with 1 Axes>"
            ]
          },
          "metadata": {
            "tags": [],
            "needs_background": "light"
          }
        }
      ]
    },
    {
      "cell_type": "code",
      "metadata": {
        "id": "1MDNSQeG4ZWI"
      },
      "source": [
        "#obtain the eigenpairs of the Wine covariance matrix:\n",
        "#data_cov = np.dot(np.transpose(data.values),data.values)\n",
        "#data_cov\n",
        "X_train_cov = np.cov(X_train_std.T)\n",
        "w, v = np.linalg.eig(X_train_cov)"
      ],
      "execution_count": 96,
      "outputs": []
    },
    {
      "cell_type": "code",
      "metadata": {
        "id": "Too9Fkoi4cBt",
        "outputId": "6a4be336-7c2b-4c66-8fcb-bb8dee4702e2",
        "colab": {
          "base_uri": "https://localhost:8080/",
          "height": 121
        }
      },
      "source": [
        "#The percent of variability contained within each component\n",
        "w_percent = (w/np.sum(w))*100                 \n",
        "print(w, '-> eigenvalues')\n",
        "print(w_percent, ' -> percent of variability explained')"
      ],
      "execution_count": 97,
      "outputs": [
        {
          "output_type": "stream",
          "text": [
            "[6.70120608e+00 1.53866145e+00 6.63256008e-01 4.08857916e-01\n",
            " 3.51333253e-01 2.63358058e-01 9.53569345e-02 3.30828544e-02\n",
            " 2.88524416e-02 6.86151652e-05 0.00000000e+00] -> eigenvalues\n",
            "[6.64536270e+01 1.52583927e+01 6.57728874e+00 4.05450767e+00\n",
            " 3.48405476e+00 2.61163407e+00 9.45622934e-01 3.28071639e-01\n",
            " 2.86120046e-01 6.80433722e-04 0.00000000e+00]  -> percent of variability explained\n"
          ],
          "name": "stdout"
        }
      ]
    },
    {
      "cell_type": "code",
      "metadata": {
        "id": "sxWTQTRD4ebt",
        "outputId": "88c25296-3433-473f-a2e8-55c2fddcfe19",
        "colab": {
          "base_uri": "https://localhost:8080/",
          "height": 295
        }
      },
      "source": [
        "# calculate cumulative sum of explained variances\n",
        "tot = sum(w)\n",
        "var_exp = [(i / tot) for i in sorted(w, reverse=True)]\n",
        "cum_var_exp = np.cumsum(var_exp)\n",
        "\n",
        "# plot explained variances\n",
        "plt.title(\"Component-wise and Cumulative Explained Variance\")\n",
        "plt.bar(range(0,11), var_exp, alpha=0.5,\n",
        "        align='center', label='individual explained variance')\n",
        "plt.step(range(0,11), cum_var_exp, where='mid',\n",
        "         label='Percentage of variability explained')\n",
        "plt.ylabel('Explained variance ratio')\n",
        "plt.xlabel('Principal component index')\n",
        "plt.legend(loc='best')\n",
        "plt.show()"
      ],
      "execution_count": 98,
      "outputs": [
        {
          "output_type": "display_data",
          "data": {
            "image/png": "[encoded data removed]",
            "text/plain": [
              "<Figure size 432x288 with 1 Axes>"
            ]
          },
          "metadata": {
            "tags": [],
            "needs_background": "light"
          }
        }
      ]
    },
    {
      "cell_type": "code",
      "metadata": {
        "id": "SGCUhk0-4hY-",
        "outputId": "c551c888-5a74-4c05-fb8c-c4c99e636d52",
        "colab": {
          "base_uri": "https://localhost:8080/",
          "height": 225
        }
      },
      "source": [
        "# Make a list of (eigenvalue, eigenvector) tuples\n",
        "eigen_pairs = [(np.abs(w[i]), v[:, i]) for i in range(len(w))]\n",
        "\n",
        "# Sort the (eigenvalue, eigenvector) tuples from high to low\n",
        "eigen_pairs.sort(key=lambda k: k[0], reverse=True)\n",
        "w2 = np.hstack((eigen_pairs[0][1][:, np.newaxis], eigen_pairs[1][1][:, np.newaxis]))\n",
        "print('Matrix W2:\\n', w2)"
      ],
      "execution_count": 99,
      "outputs": [
        {
          "output_type": "stream",
          "text": [
            "Matrix W2:\n",
            " [[-0.35802649  0.01378385]\n",
            " [-0.32007107 -0.21248524]\n",
            " [-0.29419875  0.36768185]\n",
            " [-0.34904633 -0.07643371]\n",
            " [-0.29164099 -0.37993596]\n",
            " [ 0.32999972  0.13847629]\n",
            " [-0.31912309  0.38546721]\n",
            " [-0.35166774 -0.10997002]\n",
            " [-0.35163566 -0.10983886]\n",
            " [ 0.          0.        ]\n",
            " [-0.13369229  0.690911  ]]\n"
          ],
          "name": "stdout"
        }
      ]
    },
    {
      "cell_type": "code",
      "metadata": {
        "id": "PvPOq3Ru4nzj",
        "outputId": "dc1f3ea3-ce04-468d-89c9-2151fd85f7fb",
        "colab": {
          "base_uri": "https://localhost:8080/",
          "height": 1000
        }
      },
      "source": [
        "X_train_pca = X_train_std.dot(w2)\n",
        "print(X_train_pca)"
      ],
      "execution_count": 100,
      "outputs": [
        {
          "output_type": "stream",
          "text": [
            "[[ 2.68080727 -0.52094351]\n",
            " [-1.11113478  1.73401545]\n",
            " [ 0.72314511  0.43271011]\n",
            " [-6.47531172 -2.30163444]\n",
            " [ 4.62925813 -1.11128284]\n",
            " [-1.41242609  1.43912263]\n",
            " [-1.1020069   1.39452502]\n",
            " [ 0.3943444  -0.43160316]\n",
            " [-0.66611447  1.42702529]\n",
            " [ 0.43225999  0.64038693]\n",
            " [-1.02485544  1.380217  ]\n",
            " [-6.42065216 -2.3002783 ]\n",
            " [-2.69853621  1.34843236]\n",
            " [ 4.19143913 -0.59922438]\n",
            " [-6.83649194 -2.29203158]\n",
            " [-2.65309789  1.24976668]\n",
            " [-1.42034326  1.29459733]\n",
            " [-2.30106316 -2.4396522 ]\n",
            " [ 1.28604354 -0.08277167]\n",
            " [ 4.09259341 -0.41270851]\n",
            " [-0.42054506 -0.05244559]\n",
            " [ 2.55625611 -0.56336524]\n",
            " [-1.5564172   0.89090666]\n",
            " [ 3.02520414 -0.380511  ]\n",
            " [-1.02512755  1.78420234]\n",
            " [ 0.69233357 -0.77570733]\n",
            " [-7.37016229 -1.93640161]\n",
            " [ 3.67627956 -1.2087344 ]\n",
            " [-4.78593775 -2.83115064]\n",
            " [-1.99788778  1.27723188]\n",
            " [-2.96747933  1.29721064]\n",
            " [-0.67310748  1.36619584]\n",
            " [-0.87741389  1.64087455]\n",
            " [ 2.25446484 -0.23831361]\n",
            " [ 3.30451417 -1.11863596]\n",
            " [-2.20566503 -2.39326139]\n",
            " [ 3.6211448  -0.4881247 ]\n",
            " [ 1.93796785 -0.01403638]\n",
            " [-0.84947501  1.03556786]\n",
            " [-0.36558196  1.59396417]\n",
            " [ 2.2063922  -0.36689999]\n",
            " [-1.10888659  1.27674094]\n",
            " [-0.75197143  1.36023838]\n",
            " [-7.48883821 -1.71597309]\n",
            " [-0.42237928  1.6760923 ]\n",
            " [ 0.14353606 -0.83105281]\n",
            " [ 2.18848755 -0.37836923]\n",
            " [ 3.0574812  -0.51185187]\n",
            " [-1.21173821  1.72150421]\n",
            " [ 3.99189905 -0.42838781]\n",
            " [-1.3774367   1.74109759]\n",
            " [-1.02946169  1.39018671]\n",
            " [ 0.31338585 -0.33630053]\n",
            " [ 3.23320817 -0.34168258]\n",
            " [ 0.7787304  -0.15456909]\n",
            " [ 4.34959659 -0.51922884]\n",
            " [-1.35535863  1.41185598]\n",
            " [ 3.17981564 -1.06280834]\n",
            " [-1.5459798  -1.02771626]\n",
            " [ 3.26912733 -0.34170057]\n",
            " [ 1.68359215 -0.19767311]\n",
            " [ 1.8999409  -0.05739422]\n",
            " [-0.78418023  0.55827924]\n",
            " [-5.5111913  -1.78121738]\n",
            " [-0.67987193 -0.25307238]\n",
            " [-1.03961683  1.4190493 ]\n",
            " [-1.77132465  1.32034694]\n",
            " [-5.26782354 -3.17865097]\n",
            " [-0.84024463  1.70361854]\n",
            " [-1.42996708 -1.65392195]\n",
            " [-0.88351124  1.64980373]\n",
            " [-0.60417509  1.52143523]\n",
            " [ 3.19378804 -1.16916406]\n",
            " [ 3.33615257 -1.05716691]\n",
            " [ 2.42573297 -0.51278315]\n",
            " [ 5.13709451 -0.47905157]\n",
            " [-0.7891403   0.65466388]\n",
            " [-0.25702469 -0.82314088]\n",
            " [ 1.55629229 -0.83038009]\n",
            " [-0.79641578 -0.03918534]\n",
            " [ 1.09336218 -0.04253049]\n",
            " [ 3.21349211 -0.42631596]\n",
            " [-0.44754475 -0.14903641]\n",
            " [-0.31947654  1.68108702]\n",
            " [ 1.83439306 -1.10074904]\n",
            " [-1.05829696  0.84672187]\n",
            " [ 1.92408606 -1.02448176]\n",
            " [-3.69184455  1.3499286 ]\n",
            " [-0.72398084  1.70148862]\n",
            " [ 2.89500956 -0.45630231]\n",
            " [ 0.38675968 -0.80107033]\n",
            " [-1.80029199  0.55850755]\n",
            " [-0.95874247 -1.25591065]\n",
            " [-1.00864227  1.40287617]\n",
            " [ 1.6163936   0.35286396]\n",
            " [ 1.51437962 -0.45386072]\n",
            " [-0.69672242 -1.13283838]\n",
            " [ 2.86094793 -0.38714737]\n",
            " [ 3.13522375 -1.12471093]\n",
            " [-0.55941176  1.62225459]\n",
            " [-0.39482904 -0.35275176]\n",
            " [ 0.95212799 -1.08926218]\n",
            " [ 3.10590423 -0.46110451]\n",
            " [-0.47821164  1.0162315 ]\n",
            " [-0.87941482  1.71984027]\n",
            " [ 0.12235508 -0.1563766 ]\n",
            " [-0.43331705  1.59005938]\n",
            " [-1.02667707  1.61904219]\n",
            " [-2.87402166  1.23770896]\n",
            " [ 0.82443923 -0.17610468]\n",
            " [ 0.68351992 -0.13902398]\n",
            " [ 3.14182227 -1.13970455]\n",
            " [-1.31345777  0.8232005 ]\n",
            " [ 2.6377235  -0.47326566]\n",
            " [-3.14558624 -3.10659044]\n",
            " [-0.45254012  1.70634696]\n",
            " [-0.92356217 -0.71978016]\n",
            " [-0.46900321 -0.22326359]\n",
            " [ 0.49362256 -0.53333622]\n",
            " [ 1.94107569 -0.39234369]]\n"
          ],
          "name": "stdout"
        }
      ]
    },
    {
      "cell_type": "code",
      "metadata": {
        "id": "zZ5Dzp2t6AMb",
        "outputId": "f051382c-f2fd-425b-cd8c-2a037a2e01b4",
        "colab": {
          "base_uri": "https://localhost:8080/",
          "height": 1000
        }
      },
      "source": [
        "np.unique(y_train)\n",
        "X_train_pca"
      ],
      "execution_count": 101,
      "outputs": [
        {
          "output_type": "execute_result",
          "data": {
            "text/plain": [
              "array([[ 2.68080727, -0.52094351],\n",
              "       [-1.11113478,  1.73401545],\n",
              "       [ 0.72314511,  0.43271011],\n",
              "       [-6.47531172, -2.30163444],\n",
              "       [ 4.62925813, -1.11128284],\n",
              "       [-1.41242609,  1.43912263],\n",
              "       [-1.1020069 ,  1.39452502],\n",
              "       [ 0.3943444 , -0.43160316],\n",
              "       [-0.66611447,  1.42702529],\n",
              "       [ 0.43225999,  0.64038693],\n",
              "       [-1.02485544,  1.380217  ],\n",
              "       [-6.42065216, -2.3002783 ],\n",
              "       [-2.69853621,  1.34843236],\n",
              "       [ 4.19143913, -0.59922438],\n",
              "       [-6.83649194, -2.29203158],\n",
              "       [-2.65309789,  1.24976668],\n",
              "       [-1.42034326,  1.29459733],\n",
              "       [-2.30106316, -2.4396522 ],\n",
              "       [ 1.28604354, -0.08277167],\n",
              "       [ 4.09259341, -0.41270851],\n",
              "       [-0.42054506, -0.05244559],\n",
              "       [ 2.55625611, -0.56336524],\n",
              "       [-1.5564172 ,  0.89090666],\n",
              "       [ 3.02520414, -0.380511  ],\n",
              "       [-1.02512755,  1.78420234],\n",
              "       [ 0.69233357, -0.77570733],\n",
              "       [-7.37016229, -1.93640161],\n",
              "       [ 3.67627956, -1.2087344 ],\n",
              "       [-4.78593775, -2.83115064],\n",
              "       [-1.99788778,  1.27723188],\n",
              "       [-2.96747933,  1.29721064],\n",
              "       [-0.67310748,  1.36619584],\n",
              "       [-0.87741389,  1.64087455],\n",
              "       [ 2.25446484, -0.23831361],\n",
              "       [ 3.30451417, -1.11863596],\n",
              "       [-2.20566503, -2.39326139],\n",
              "       [ 3.6211448 , -0.4881247 ],\n",
              "       [ 1.93796785, -0.01403638],\n",
              "       [-0.84947501,  1.03556786],\n",
              "       [-0.36558196,  1.59396417],\n",
              "       [ 2.2063922 , -0.36689999],\n",
              "       [-1.10888659,  1.27674094],\n",
              "       [-0.75197143,  1.36023838],\n",
              "       [-7.48883821, -1.71597309],\n",
              "       [-0.42237928,  1.6760923 ],\n",
              "       [ 0.14353606, -0.83105281],\n",
              "       [ 2.18848755, -0.37836923],\n",
              "       [ 3.0574812 , -0.51185187],\n",
              "       [-1.21173821,  1.72150421],\n",
              "       [ 3.99189905, -0.42838781],\n",
              "       [-1.3774367 ,  1.74109759],\n",
              "       [-1.02946169,  1.39018671],\n",
              "       [ 0.31338585, -0.33630053],\n",
              "       [ 3.23320817, -0.34168258],\n",
              "       [ 0.7787304 , -0.15456909],\n",
              "       [ 4.34959659, -0.51922884],\n",
              "       [-1.35535863,  1.41185598],\n",
              "       [ 3.17981564, -1.06280834],\n",
              "       [-1.5459798 , -1.02771626],\n",
              "       [ 3.26912733, -0.34170057],\n",
              "       [ 1.68359215, -0.19767311],\n",
              "       [ 1.8999409 , -0.05739422],\n",
              "       [-0.78418023,  0.55827924],\n",
              "       [-5.5111913 , -1.78121738],\n",
              "       [-0.67987193, -0.25307238],\n",
              "       [-1.03961683,  1.4190493 ],\n",
              "       [-1.77132465,  1.32034694],\n",
              "       [-5.26782354, -3.17865097],\n",
              "       [-0.84024463,  1.70361854],\n",
              "       [-1.42996708, -1.65392195],\n",
              "       [-0.88351124,  1.64980373],\n",
              "       [-0.60417509,  1.52143523],\n",
              "       [ 3.19378804, -1.16916406],\n",
              "       [ 3.33615257, -1.05716691],\n",
              "       [ 2.42573297, -0.51278315],\n",
              "       [ 5.13709451, -0.47905157],\n",
              "       [-0.7891403 ,  0.65466388],\n",
              "       [-0.25702469, -0.82314088],\n",
              "       [ 1.55629229, -0.83038009],\n",
              "       [-0.79641578, -0.03918534],\n",
              "       [ 1.09336218, -0.04253049],\n",
              "       [ 3.21349211, -0.42631596],\n",
              "       [-0.44754475, -0.14903641],\n",
              "       [-0.31947654,  1.68108702],\n",
              "       [ 1.83439306, -1.10074904],\n",
              "       [-1.05829696,  0.84672187],\n",
              "       [ 1.92408606, -1.02448176],\n",
              "       [-3.69184455,  1.3499286 ],\n",
              "       [-0.72398084,  1.70148862],\n",
              "       [ 2.89500956, -0.45630231],\n",
              "       [ 0.38675968, -0.80107033],\n",
              "       [-1.80029199,  0.55850755],\n",
              "       [-0.95874247, -1.25591065],\n",
              "       [-1.00864227,  1.40287617],\n",
              "       [ 1.6163936 ,  0.35286396],\n",
              "       [ 1.51437962, -0.45386072],\n",
              "       [-0.69672242, -1.13283838],\n",
              "       [ 2.86094793, -0.38714737],\n",
              "       [ 3.13522375, -1.12471093],\n",
              "       [-0.55941176,  1.62225459],\n",
              "       [-0.39482904, -0.35275176],\n",
              "       [ 0.95212799, -1.08926218],\n",
              "       [ 3.10590423, -0.46110451],\n",
              "       [-0.47821164,  1.0162315 ],\n",
              "       [-0.87941482,  1.71984027],\n",
              "       [ 0.12235508, -0.1563766 ],\n",
              "       [-0.43331705,  1.59005938],\n",
              "       [-1.02667707,  1.61904219],\n",
              "       [-2.87402166,  1.23770896],\n",
              "       [ 0.82443923, -0.17610468],\n",
              "       [ 0.68351992, -0.13902398],\n",
              "       [ 3.14182227, -1.13970455],\n",
              "       [-1.31345777,  0.8232005 ],\n",
              "       [ 2.6377235 , -0.47326566],\n",
              "       [-3.14558624, -3.10659044],\n",
              "       [-0.45254012,  1.70634696],\n",
              "       [-0.92356217, -0.71978016],\n",
              "       [-0.46900321, -0.22326359],\n",
              "       [ 0.49362256, -0.53333622],\n",
              "       [ 1.94107569, -0.39234369]])"
            ]
          },
          "metadata": {
            "tags": []
          },
          "execution_count": 101
        }
      ]
    },
    {
      "cell_type": "markdown",
      "metadata": {
        "id": "sjhIpN5vH1mt"
      },
      "source": [
        "# 2.Load data - Maryland Inertia Data"
      ]
    },
    {
      "cell_type": "code",
      "metadata": {
        "id": "xJtA0B_cH1mz",
        "outputId": "2c6504cb-2751-4a11-c91f-4eeaf879a073",
        "colab": {
          "base_uri": "https://localhost:8080/",
          "height": 35
        }
      },
      "source": [
        "CA_inertia_labeled_data = pd.read_csv('/content/drive/Shared drives/CMPE 295- Master Project/Covid19-data/CA/CA_sd_inertia_labeledData_LosAngeles_Oct11.csv',low_memory=False)\n",
        "print(CA_inertia_labeled_data.shape)"
      ],
      "execution_count": 114,
      "outputs": [
        {
          "output_type": "stream",
          "text": [
            "(212, 54)\n"
          ],
          "name": "stdout"
        }
      ]
    },
    {
      "cell_type": "code",
      "metadata": {
        "id": "nVew84W1H1nC",
        "outputId": "aefb9524-8bd2-4d90-d29b-d3ae9d9e0c43",
        "colab": {
          "base_uri": "https://localhost:8080/",
          "height": 395
        }
      },
      "source": [
        "CA_inertia_labeled_data.describe()"
      ],
      "execution_count": 115,
      "outputs": [
        {
          "output_type": "execute_result",
          "data": {
            "text/html": [
              "<div>\n",
              "<style scoped>\n",
              "    .dataframe tbody tr th:only-of-type {\n",
              "        vertical-align: middle;\n",
              "    }\n",
              "\n",
              "    .dataframe tbody tr th {\n",
              "        vertical-align: top;\n",
              "    }\n",
              "\n",
              "    .dataframe thead th {\n",
              "        text-align: right;\n",
              "    }\n",
              "</style>\n",
              "<table border=\"1\" class=\"dataframe\">\n",
              "  <thead>\n",
              "    <tr style=\"text-align: right;\">\n",
              "      <th></th>\n",
              "      <th>FIPS</th>\n",
              "      <th>Confirmed</th>\n",
              "      <th>Deaths</th>\n",
              "      <th>New cases</th>\n",
              "      <th>New deaths</th>\n",
              "      <th>mask_rule_active</th>\n",
              "      <th>CTFIPS</th>\n",
              "      <th>STFIPS</th>\n",
              "      <th>Social distancing index</th>\n",
              "      <th>% staying home</th>\n",
              "      <th>Trips/person</th>\n",
              "      <th>% out-of-county trips</th>\n",
              "      <th>% out-of-state trips</th>\n",
              "      <th>Miles/person</th>\n",
              "      <th>Work trips/person</th>\n",
              "      <th>Non-work trips/person</th>\n",
              "      <th>New COVID cases</th>\n",
              "      <th>Population</th>\n",
              "      <th>% change in consumption</th>\n",
              "      <th>Transit mode share</th>\n",
              "      <th>% people older than 60</th>\n",
              "      <th>Median income</th>\n",
              "      <th>% African Americans</th>\n",
              "      <th>% Hispanic Americans</th>\n",
              "      <th>% Male</th>\n",
              "      <th>Population density</th>\n",
              "      <th>Employment density</th>\n",
              "      <th># hot spots/1000 people</th>\n",
              "      <th>Hospital beds/1000 people</th>\n",
              "      <th>ICUs/1000 people</th>\n",
              "      <th># contact tracing workers/1000 people</th>\n",
              "      <th># contact tracing workers/1000 people rank</th>\n",
              "      <th>% people older than 60 rank</th>\n",
              "      <th>COVID exposure/1000 people</th>\n",
              "      <th>#days: decreasing ILI cases</th>\n",
              "      <th>Unemployment claims/1000 people</th>\n",
              "      <th>Unemployment rate</th>\n",
              "      <th>% working from home</th>\n",
              "      <th>Cumulative inflation rate</th>\n",
              "      <th>COVID death rate</th>\n",
              "      <th>New cases/1000 people</th>\n",
              "      <th>Active cases/1000 people</th>\n",
              "      <th>#days: decreasing COVID cases</th>\n",
              "      <th>% hospital bed utilization</th>\n",
              "      <th>Testing capacity</th>\n",
              "      <th>Tests done/1000 people</th>\n",
              "      <th>% ICU utilization</th>\n",
              "      <th>Ventilator shortage</th>\n",
              "      <th>Imported COVID cases</th>\n",
              "    </tr>\n",
              "  </thead>\n",
              "  <tbody>\n",
              "    <tr>\n",
              "      <th>count</th>\n",
              "      <td>212.0</td>\n",
              "      <td>212.000000</td>\n",
              "      <td>212.000000</td>\n",
              "      <td>212.000000</td>\n",
              "      <td>212.000000</td>\n",
              "      <td>212.000000</td>\n",
              "      <td>212.0</td>\n",
              "      <td>212.0</td>\n",
              "      <td>212.000000</td>\n",
              "      <td>212.000000</td>\n",
              "      <td>212.000000</td>\n",
              "      <td>212.000000</td>\n",
              "      <td>212.000000</td>\n",
              "      <td>212.000000</td>\n",
              "      <td>212.000000</td>\n",
              "      <td>212.000000</td>\n",
              "      <td>212.000000</td>\n",
              "      <td>212.0</td>\n",
              "      <td>212.000000</td>\n",
              "      <td>2.120000e+02</td>\n",
              "      <td>212.0</td>\n",
              "      <td>212.0</td>\n",
              "      <td>2.120000e+02</td>\n",
              "      <td>212.0</td>\n",
              "      <td>2.120000e+02</td>\n",
              "      <td>212.0</td>\n",
              "      <td>212.0</td>\n",
              "      <td>212.0</td>\n",
              "      <td>2.120000e+02</td>\n",
              "      <td>2.120000e+02</td>\n",
              "      <td>0.0</td>\n",
              "      <td>0.0</td>\n",
              "      <td>212.0</td>\n",
              "      <td>212.000000</td>\n",
              "      <td>212.000000</td>\n",
              "      <td>212.000000</td>\n",
              "      <td>212.000000</td>\n",
              "      <td>212.000000</td>\n",
              "      <td>212.000000</td>\n",
              "      <td>212.000000</td>\n",
              "      <td>212.000000</td>\n",
              "      <td>212.000000</td>\n",
              "      <td>212.000000</td>\n",
              "      <td>212.000000</td>\n",
              "      <td>212.000000</td>\n",
              "      <td>212.000000</td>\n",
              "      <td>212.000000</td>\n",
              "      <td>212.000000</td>\n",
              "      <td>212.000000</td>\n",
              "    </tr>\n",
              "    <tr>\n",
              "      <th>mean</th>\n",
              "      <td>6037.0</td>\n",
              "      <td>59344.740566</td>\n",
              "      <td>1801.297170</td>\n",
              "      <td>1072.386792</td>\n",
              "      <td>25.688679</td>\n",
              "      <td>0.301887</td>\n",
              "      <td>6037.0</td>\n",
              "      <td>6.0</td>\n",
              "      <td>40.367925</td>\n",
              "      <td>29.377358</td>\n",
              "      <td>2.871321</td>\n",
              "      <td>10.433962</td>\n",
              "      <td>0.339151</td>\n",
              "      <td>29.970755</td>\n",
              "      <td>0.406368</td>\n",
              "      <td>2.464717</td>\n",
              "      <td>1072.386792</td>\n",
              "      <td>10105518.0</td>\n",
              "      <td>-10.880660</td>\n",
              "      <td>6.040000e+00</td>\n",
              "      <td>18.0</td>\n",
              "      <td>64251.0</td>\n",
              "      <td>7.900000e+00</td>\n",
              "      <td>48.5</td>\n",
              "      <td>4.928000e+01</td>\n",
              "      <td>2125.0</td>\n",
              "      <td>972.0</td>\n",
              "      <td>140.0</td>\n",
              "      <td>2.050000e+00</td>\n",
              "      <td>2.200000e-01</td>\n",
              "      <td>NaN</td>\n",
              "      <td>NaN</td>\n",
              "      <td>9.0</td>\n",
              "      <td>8.829906</td>\n",
              "      <td>52.830189</td>\n",
              "      <td>6.745283</td>\n",
              "      <td>18.265566</td>\n",
              "      <td>22.638208</td>\n",
              "      <td>0.397594</td>\n",
              "      <td>0.890708</td>\n",
              "      <td>0.105379</td>\n",
              "      <td>1.895142</td>\n",
              "      <td>3.216981</td>\n",
              "      <td>56.306571</td>\n",
              "      <td>6.795755</td>\n",
              "      <td>59.918019</td>\n",
              "      <td>12.413632</td>\n",
              "      <td>488.528302</td>\n",
              "      <td>3510.033019</td>\n",
              "    </tr>\n",
              "    <tr>\n",
              "      <th>std</th>\n",
              "      <td>0.0</td>\n",
              "      <td>70740.002317</td>\n",
              "      <td>1803.921353</td>\n",
              "      <td>1160.354739</td>\n",
              "      <td>24.433239</td>\n",
              "      <td>0.460163</td>\n",
              "      <td>0.0</td>\n",
              "      <td>0.0</td>\n",
              "      <td>15.190310</td>\n",
              "      <td>6.936343</td>\n",
              "      <td>0.370029</td>\n",
              "      <td>0.809059</td>\n",
              "      <td>0.197437</td>\n",
              "      <td>6.652697</td>\n",
              "      <td>0.150360</td>\n",
              "      <td>0.301543</td>\n",
              "      <td>1160.354739</td>\n",
              "      <td>0.0</td>\n",
              "      <td>10.899835</td>\n",
              "      <td>1.780561e-14</td>\n",
              "      <td>0.0</td>\n",
              "      <td>0.0</td>\n",
              "      <td>2.492786e-14</td>\n",
              "      <td>0.0</td>\n",
              "      <td>7.834469e-14</td>\n",
              "      <td>0.0</td>\n",
              "      <td>0.0</td>\n",
              "      <td>0.0</td>\n",
              "      <td>7.567385e-15</td>\n",
              "      <td>6.398892e-16</td>\n",
              "      <td>NaN</td>\n",
              "      <td>NaN</td>\n",
              "      <td>0.0</td>\n",
              "      <td>12.207460</td>\n",
              "      <td>43.006772</td>\n",
              "      <td>5.522846</td>\n",
              "      <td>9.513517</td>\n",
              "      <td>9.907716</td>\n",
              "      <td>0.491413</td>\n",
              "      <td>0.656312</td>\n",
              "      <td>0.101539</td>\n",
              "      <td>2.231713</td>\n",
              "      <td>6.574408</td>\n",
              "      <td>1.857983</td>\n",
              "      <td>5.493782</td>\n",
              "      <td>76.609141</td>\n",
              "      <td>9.075501</td>\n",
              "      <td>374.901256</td>\n",
              "      <td>4441.806274</td>\n",
              "    </tr>\n",
              "    <tr>\n",
              "      <th>min</th>\n",
              "      <td>6037.0</td>\n",
              "      <td>0.000000</td>\n",
              "      <td>0.000000</td>\n",
              "      <td>0.000000</td>\n",
              "      <td>0.000000</td>\n",
              "      <td>0.000000</td>\n",
              "      <td>6037.0</td>\n",
              "      <td>6.0</td>\n",
              "      <td>13.000000</td>\n",
              "      <td>17.000000</td>\n",
              "      <td>1.790000</td>\n",
              "      <td>7.100000</td>\n",
              "      <td>0.100000</td>\n",
              "      <td>13.800000</td>\n",
              "      <td>0.180000</td>\n",
              "      <td>1.610000</td>\n",
              "      <td>0.000000</td>\n",
              "      <td>10105518.0</td>\n",
              "      <td>-41.800000</td>\n",
              "      <td>6.040000e+00</td>\n",
              "      <td>18.0</td>\n",
              "      <td>64251.0</td>\n",
              "      <td>7.900000e+00</td>\n",
              "      <td>48.5</td>\n",
              "      <td>4.928000e+01</td>\n",
              "      <td>2125.0</td>\n",
              "      <td>972.0</td>\n",
              "      <td>140.0</td>\n",
              "      <td>2.050000e+00</td>\n",
              "      <td>2.200000e-01</td>\n",
              "      <td>NaN</td>\n",
              "      <td>NaN</td>\n",
              "      <td>9.0</td>\n",
              "      <td>0.000000</td>\n",
              "      <td>0.000000</td>\n",
              "      <td>0.900000</td>\n",
              "      <td>3.900000</td>\n",
              "      <td>5.700000</td>\n",
              "      <td>-0.600000</td>\n",
              "      <td>0.000000</td>\n",
              "      <td>0.000000</td>\n",
              "      <td>0.000000</td>\n",
              "      <td>0.000000</td>\n",
              "      <td>54.000000</td>\n",
              "      <td>0.000000</td>\n",
              "      <td>0.000000</td>\n",
              "      <td>0.000000</td>\n",
              "      <td>0.000000</td>\n",
              "      <td>0.000000</td>\n",
              "    </tr>\n",
              "    <tr>\n",
              "      <th>25%</th>\n",
              "      <td>6037.0</td>\n",
              "      <td>53.000000</td>\n",
              "      <td>1.000000</td>\n",
              "      <td>6.750000</td>\n",
              "      <td>0.000000</td>\n",
              "      <td>0.000000</td>\n",
              "      <td>6037.0</td>\n",
              "      <td>6.0</td>\n",
              "      <td>34.000000</td>\n",
              "      <td>26.750000</td>\n",
              "      <td>2.627500</td>\n",
              "      <td>10.100000</td>\n",
              "      <td>0.200000</td>\n",
              "      <td>25.075000</td>\n",
              "      <td>0.250000</td>\n",
              "      <td>2.260000</td>\n",
              "      <td>6.750000</td>\n",
              "      <td>10105518.0</td>\n",
              "      <td>-18.300000</td>\n",
              "      <td>6.040000e+00</td>\n",
              "      <td>18.0</td>\n",
              "      <td>64251.0</td>\n",
              "      <td>7.900000e+00</td>\n",
              "      <td>48.5</td>\n",
              "      <td>4.928000e+01</td>\n",
              "      <td>2125.0</td>\n",
              "      <td>972.0</td>\n",
              "      <td>140.0</td>\n",
              "      <td>2.050000e+00</td>\n",
              "      <td>2.200000e-01</td>\n",
              "      <td>NaN</td>\n",
              "      <td>NaN</td>\n",
              "      <td>9.0</td>\n",
              "      <td>0.187500</td>\n",
              "      <td>14.000000</td>\n",
              "      <td>3.900000</td>\n",
              "      <td>5.675000</td>\n",
              "      <td>19.525000</td>\n",
              "      <td>0.200000</td>\n",
              "      <td>0.077500</td>\n",
              "      <td>0.000850</td>\n",
              "      <td>0.010000</td>\n",
              "      <td>0.000000</td>\n",
              "      <td>54.092556</td>\n",
              "      <td>5.300000</td>\n",
              "      <td>0.030000</td>\n",
              "      <td>0.207500</td>\n",
              "      <td>17.250000</td>\n",
              "      <td>13.750000</td>\n",
              "    </tr>\n",
              "    <tr>\n",
              "      <th>50%</th>\n",
              "      <td>6037.0</td>\n",
              "      <td>29088.000000</td>\n",
              "      <td>1393.500000</td>\n",
              "      <td>837.500000</td>\n",
              "      <td>21.000000</td>\n",
              "      <td>0.000000</td>\n",
              "      <td>6037.0</td>\n",
              "      <td>6.0</td>\n",
              "      <td>40.000000</td>\n",
              "      <td>29.000000</td>\n",
              "      <td>2.870000</td>\n",
              "      <td>10.600000</td>\n",
              "      <td>0.300000</td>\n",
              "      <td>30.900000</td>\n",
              "      <td>0.420000</td>\n",
              "      <td>2.495000</td>\n",
              "      <td>837.500000</td>\n",
              "      <td>10105518.0</td>\n",
              "      <td>-9.800000</td>\n",
              "      <td>6.040000e+00</td>\n",
              "      <td>18.0</td>\n",
              "      <td>64251.0</td>\n",
              "      <td>7.900000e+00</td>\n",
              "      <td>48.5</td>\n",
              "      <td>4.928000e+01</td>\n",
              "      <td>2125.0</td>\n",
              "      <td>972.0</td>\n",
              "      <td>140.0</td>\n",
              "      <td>2.050000e+00</td>\n",
              "      <td>2.200000e-01</td>\n",
              "      <td>NaN</td>\n",
              "      <td>NaN</td>\n",
              "      <td>9.0</td>\n",
              "      <td>3.440000</td>\n",
              "      <td>42.000000</td>\n",
              "      <td>6.200000</td>\n",
              "      <td>23.400000</td>\n",
              "      <td>26.700000</td>\n",
              "      <td>0.300000</td>\n",
              "      <td>0.870000</td>\n",
              "      <td>0.090450</td>\n",
              "      <td>1.080000</td>\n",
              "      <td>0.000000</td>\n",
              "      <td>56.782021</td>\n",
              "      <td>6.100000</td>\n",
              "      <td>20.880000</td>\n",
              "      <td>15.155000</td>\n",
              "      <td>629.500000</td>\n",
              "      <td>1577.000000</td>\n",
              "    </tr>\n",
              "    <tr>\n",
              "      <th>75%</th>\n",
              "      <td>6037.0</td>\n",
              "      <td>98678.000000</td>\n",
              "      <td>3311.500000</td>\n",
              "      <td>1709.250000</td>\n",
              "      <td>46.000000</td>\n",
              "      <td>1.000000</td>\n",
              "      <td>6037.0</td>\n",
              "      <td>6.0</td>\n",
              "      <td>50.250000</td>\n",
              "      <td>33.250000</td>\n",
              "      <td>3.070000</td>\n",
              "      <td>10.900000</td>\n",
              "      <td>0.400000</td>\n",
              "      <td>34.500000</td>\n",
              "      <td>0.440000</td>\n",
              "      <td>2.692500</td>\n",
              "      <td>1709.250000</td>\n",
              "      <td>10105518.0</td>\n",
              "      <td>-2.625000</td>\n",
              "      <td>6.040000e+00</td>\n",
              "      <td>18.0</td>\n",
              "      <td>64251.0</td>\n",
              "      <td>7.900000e+00</td>\n",
              "      <td>48.5</td>\n",
              "      <td>4.928000e+01</td>\n",
              "      <td>2125.0</td>\n",
              "      <td>972.0</td>\n",
              "      <td>140.0</td>\n",
              "      <td>2.050000e+00</td>\n",
              "      <td>2.200000e-01</td>\n",
              "      <td>NaN</td>\n",
              "      <td>NaN</td>\n",
              "      <td>9.0</td>\n",
              "      <td>11.880000</td>\n",
              "      <td>84.000000</td>\n",
              "      <td>7.300000</td>\n",
              "      <td>26.200000</td>\n",
              "      <td>29.100000</td>\n",
              "      <td>0.800000</td>\n",
              "      <td>1.530000</td>\n",
              "      <td>0.163500</td>\n",
              "      <td>2.740000</td>\n",
              "      <td>3.250000</td>\n",
              "      <td>57.276218</td>\n",
              "      <td>7.725000</td>\n",
              "      <td>100.677500</td>\n",
              "      <td>18.612500</td>\n",
              "      <td>686.250000</td>\n",
              "      <td>5328.250000</td>\n",
              "    </tr>\n",
              "    <tr>\n",
              "      <th>max</th>\n",
              "      <td>6037.0</td>\n",
              "      <td>227346.000000</td>\n",
              "      <td>5446.000000</td>\n",
              "      <td>7198.000000</td>\n",
              "      <td>113.000000</td>\n",
              "      <td>1.000000</td>\n",
              "      <td>6037.0</td>\n",
              "      <td>6.0</td>\n",
              "      <td>80.000000</td>\n",
              "      <td>52.000000</td>\n",
              "      <td>3.680000</td>\n",
              "      <td>12.300000</td>\n",
              "      <td>1.300000</td>\n",
              "      <td>50.600000</td>\n",
              "      <td>0.730000</td>\n",
              "      <td>3.070000</td>\n",
              "      <td>7198.000000</td>\n",
              "      <td>10105518.0</td>\n",
              "      <td>11.000000</td>\n",
              "      <td>6.040000e+00</td>\n",
              "      <td>18.0</td>\n",
              "      <td>64251.0</td>\n",
              "      <td>7.900000e+00</td>\n",
              "      <td>48.5</td>\n",
              "      <td>4.928000e+01</td>\n",
              "      <td>2125.0</td>\n",
              "      <td>972.0</td>\n",
              "      <td>140.0</td>\n",
              "      <td>2.050000e+00</td>\n",
              "      <td>2.200000e-01</td>\n",
              "      <td>NaN</td>\n",
              "      <td>NaN</td>\n",
              "      <td>9.0</td>\n",
              "      <td>48.190000</td>\n",
              "      <td>140.000000</td>\n",
              "      <td>23.400000</td>\n",
              "      <td>29.700000</td>\n",
              "      <td>33.700000</td>\n",
              "      <td>1.710000</td>\n",
              "      <td>1.850000</td>\n",
              "      <td>0.426800</td>\n",
              "      <td>6.610000</td>\n",
              "      <td>31.000000</td>\n",
              "      <td>60.993535</td>\n",
              "      <td>30.300000</td>\n",
              "      <td>258.560000</td>\n",
              "      <td>26.200000</td>\n",
              "      <td>1345.000000</td>\n",
              "      <td>13571.000000</td>\n",
              "    </tr>\n",
              "  </tbody>\n",
              "</table>\n",
              "</div>"
            ],
            "text/plain": [
              "         FIPS      Confirmed  ...  Ventilator shortage  Imported COVID cases\n",
              "count   212.0     212.000000  ...           212.000000            212.000000\n",
              "mean   6037.0   59344.740566  ...           488.528302           3510.033019\n",
              "std       0.0   70740.002317  ...           374.901256           4441.806274\n",
              "min    6037.0       0.000000  ...             0.000000              0.000000\n",
              "25%    6037.0      53.000000  ...            17.250000             13.750000\n",
              "50%    6037.0   29088.000000  ...           629.500000           1577.000000\n",
              "75%    6037.0   98678.000000  ...           686.250000           5328.250000\n",
              "max    6037.0  227346.000000  ...          1345.000000          13571.000000\n",
              "\n",
              "[8 rows x 49 columns]"
            ]
          },
          "metadata": {
            "tags": []
          },
          "execution_count": 115
        }
      ]
    },
    {
      "cell_type": "markdown",
      "metadata": {
        "id": "xxeFv1MxH1nJ"
      },
      "source": [
        "## Preprocessing data \n",
        "\n",
        "* drop na\n",
        "* convert categorical code"
      ]
    },
    {
      "cell_type": "code",
      "metadata": {
        "id": "9V8166soH1nK"
      },
      "source": [
        "# CA_inertia_labeled_data['label_code'] = CA_inertia_labeled_data['label'].astype('category').cat.codes\n",
        "\n",
        "# CA_inertia_labeled_data.head(2)"
      ],
      "execution_count": 104,
      "outputs": []
    },
    {
      "cell_type": "code",
      "metadata": {
        "id": "BZzHASxTH1nN"
      },
      "source": [
        "CA_inertia_labeled_data = CA_inertia_labeled_data.fillna(0)"
      ],
      "execution_count": 116,
      "outputs": []
    },
    {
      "cell_type": "code",
      "metadata": {
        "id": "2lpLd0sHH1nQ"
      },
      "source": [
        "# CA_inertia_labeled_data[pd.isna(CA_inertia_labeled_data['label'])]"
      ],
      "execution_count": 106,
      "outputs": []
    },
    {
      "cell_type": "code",
      "metadata": {
        "id": "OuJRtQb1H1nT"
      },
      "source": [
        "# CA_inertia_labeled_data['label_code'].unique()"
      ],
      "execution_count": 107,
      "outputs": []
    },
    {
      "cell_type": "code",
      "metadata": {
        "id": "OwDPP-ZbH1nX",
        "outputId": "edde6ae9-5bab-4096-867b-0f2201add65a",
        "colab": {
          "base_uri": "https://localhost:8080/",
          "height": 477
        }
      },
      "source": [
        "CA_inertia_labeled_data['growth_code'] = CA_inertia_labeled_data['growth_label'].astype('category').cat.codes\n",
        "CA_inertia_labeled_data.head()"
      ],
      "execution_count": 117,
      "outputs": [
        {
          "output_type": "execute_result",
          "data": {
            "text/html": [
              "<div>\n",
              "<style scoped>\n",
              "    .dataframe tbody tr th:only-of-type {\n",
              "        vertical-align: middle;\n",
              "    }\n",
              "\n",
              "    .dataframe tbody tr th {\n",
              "        vertical-align: top;\n",
              "    }\n",
              "\n",
              "    .dataframe thead th {\n",
              "        text-align: right;\n",
              "    }\n",
              "</style>\n",
              "<table border=\"1\" class=\"dataframe\">\n",
              "  <thead>\n",
              "    <tr style=\"text-align: right;\">\n",
              "      <th></th>\n",
              "      <th>Date</th>\n",
              "      <th>Province_State</th>\n",
              "      <th>FIPS</th>\n",
              "      <th>Confirmed</th>\n",
              "      <th>Deaths</th>\n",
              "      <th>New cases</th>\n",
              "      <th>New deaths</th>\n",
              "      <th>mask_rule_active</th>\n",
              "      <th>CTFIPS</th>\n",
              "      <th>CTNAME</th>\n",
              "      <th>STFIPS</th>\n",
              "      <th>Social distancing index</th>\n",
              "      <th>% staying home</th>\n",
              "      <th>Trips/person</th>\n",
              "      <th>% out-of-county trips</th>\n",
              "      <th>% out-of-state trips</th>\n",
              "      <th>Miles/person</th>\n",
              "      <th>Work trips/person</th>\n",
              "      <th>Non-work trips/person</th>\n",
              "      <th>New COVID cases</th>\n",
              "      <th>Population</th>\n",
              "      <th>% change in consumption</th>\n",
              "      <th>date</th>\n",
              "      <th>Transit mode share</th>\n",
              "      <th>% people older than 60</th>\n",
              "      <th>Median income</th>\n",
              "      <th>% African Americans</th>\n",
              "      <th>% Hispanic Americans</th>\n",
              "      <th>% Male</th>\n",
              "      <th>Population density</th>\n",
              "      <th>Employment density</th>\n",
              "      <th># hot spots/1000 people</th>\n",
              "      <th>Hospital beds/1000 people</th>\n",
              "      <th>ICUs/1000 people</th>\n",
              "      <th># contact tracing workers/1000 people</th>\n",
              "      <th># contact tracing workers/1000 people rank</th>\n",
              "      <th>% people older than 60 rank</th>\n",
              "      <th>COVID exposure/1000 people</th>\n",
              "      <th>#days: decreasing ILI cases</th>\n",
              "      <th>Unemployment claims/1000 people</th>\n",
              "      <th>Unemployment rate</th>\n",
              "      <th>% working from home</th>\n",
              "      <th>Cumulative inflation rate</th>\n",
              "      <th>COVID death rate</th>\n",
              "      <th>New cases/1000 people</th>\n",
              "      <th>Active cases/1000 people</th>\n",
              "      <th>#days: decreasing COVID cases</th>\n",
              "      <th>% hospital bed utilization</th>\n",
              "      <th>Testing capacity</th>\n",
              "      <th>Tests done/1000 people</th>\n",
              "      <th>% ICU utilization</th>\n",
              "      <th>Ventilator shortage</th>\n",
              "      <th>Imported COVID cases</th>\n",
              "      <th>growth_label</th>\n",
              "      <th>growth_code</th>\n",
              "    </tr>\n",
              "  </thead>\n",
              "  <tbody>\n",
              "    <tr>\n",
              "      <th>0</th>\n",
              "      <td>2020-01-22</td>\n",
              "      <td>California</td>\n",
              "      <td>6037</td>\n",
              "      <td>0</td>\n",
              "      <td>0</td>\n",
              "      <td>0</td>\n",
              "      <td>0</td>\n",
              "      <td>0</td>\n",
              "      <td>6037</td>\n",
              "      <td>Los Angeles County</td>\n",
              "      <td>6</td>\n",
              "      <td>18</td>\n",
              "      <td>19</td>\n",
              "      <td>3.34</td>\n",
              "      <td>10.9</td>\n",
              "      <td>0.3</td>\n",
              "      <td>32.5</td>\n",
              "      <td>0.62</td>\n",
              "      <td>2.72</td>\n",
              "      <td>0</td>\n",
              "      <td>10105518</td>\n",
              "      <td>-1.7</td>\n",
              "      <td>2020-01-22</td>\n",
              "      <td>6.04</td>\n",
              "      <td>18</td>\n",
              "      <td>64251</td>\n",
              "      <td>7.9</td>\n",
              "      <td>48.5</td>\n",
              "      <td>49.28</td>\n",
              "      <td>2125</td>\n",
              "      <td>972</td>\n",
              "      <td>140</td>\n",
              "      <td>2.05</td>\n",
              "      <td>0.22</td>\n",
              "      <td>0.0</td>\n",
              "      <td>0.0</td>\n",
              "      <td>9</td>\n",
              "      <td>0.0</td>\n",
              "      <td>0</td>\n",
              "      <td>1.2</td>\n",
              "      <td>3.9</td>\n",
              "      <td>5.7</td>\n",
              "      <td>0.3</td>\n",
              "      <td>0.0</td>\n",
              "      <td>0.0</td>\n",
              "      <td>0.0</td>\n",
              "      <td>0</td>\n",
              "      <td>54.0</td>\n",
              "      <td>0.0</td>\n",
              "      <td>0.0</td>\n",
              "      <td>0.0</td>\n",
              "      <td>0</td>\n",
              "      <td>0</td>\n",
              "      <td>drastic_decrement</td>\n",
              "      <td>0</td>\n",
              "    </tr>\n",
              "    <tr>\n",
              "      <th>1</th>\n",
              "      <td>2020-01-23</td>\n",
              "      <td>California</td>\n",
              "      <td>6037</td>\n",
              "      <td>0</td>\n",
              "      <td>0</td>\n",
              "      <td>0</td>\n",
              "      <td>0</td>\n",
              "      <td>0</td>\n",
              "      <td>6037</td>\n",
              "      <td>Los Angeles County</td>\n",
              "      <td>6</td>\n",
              "      <td>15</td>\n",
              "      <td>19</td>\n",
              "      <td>3.43</td>\n",
              "      <td>10.9</td>\n",
              "      <td>0.4</td>\n",
              "      <td>34.7</td>\n",
              "      <td>0.63</td>\n",
              "      <td>2.80</td>\n",
              "      <td>0</td>\n",
              "      <td>10105518</td>\n",
              "      <td>1.2</td>\n",
              "      <td>2020-01-23</td>\n",
              "      <td>6.04</td>\n",
              "      <td>18</td>\n",
              "      <td>64251</td>\n",
              "      <td>7.9</td>\n",
              "      <td>48.5</td>\n",
              "      <td>49.28</td>\n",
              "      <td>2125</td>\n",
              "      <td>972</td>\n",
              "      <td>140</td>\n",
              "      <td>2.05</td>\n",
              "      <td>0.22</td>\n",
              "      <td>0.0</td>\n",
              "      <td>0.0</td>\n",
              "      <td>9</td>\n",
              "      <td>0.0</td>\n",
              "      <td>0</td>\n",
              "      <td>1.2</td>\n",
              "      <td>3.9</td>\n",
              "      <td>5.7</td>\n",
              "      <td>0.3</td>\n",
              "      <td>0.0</td>\n",
              "      <td>0.0</td>\n",
              "      <td>0.0</td>\n",
              "      <td>0</td>\n",
              "      <td>54.0</td>\n",
              "      <td>0.0</td>\n",
              "      <td>0.0</td>\n",
              "      <td>0.0</td>\n",
              "      <td>0</td>\n",
              "      <td>0</td>\n",
              "      <td>drastic_decrement</td>\n",
              "      <td>0</td>\n",
              "    </tr>\n",
              "    <tr>\n",
              "      <th>2</th>\n",
              "      <td>2020-01-24</td>\n",
              "      <td>California</td>\n",
              "      <td>6037</td>\n",
              "      <td>0</td>\n",
              "      <td>0</td>\n",
              "      <td>0</td>\n",
              "      <td>0</td>\n",
              "      <td>0</td>\n",
              "      <td>6037</td>\n",
              "      <td>Los Angeles County</td>\n",
              "      <td>6</td>\n",
              "      <td>14</td>\n",
              "      <td>18</td>\n",
              "      <td>3.53</td>\n",
              "      <td>11.1</td>\n",
              "      <td>0.4</td>\n",
              "      <td>37.4</td>\n",
              "      <td>0.60</td>\n",
              "      <td>2.93</td>\n",
              "      <td>0</td>\n",
              "      <td>10105518</td>\n",
              "      <td>5.9</td>\n",
              "      <td>2020-01-24</td>\n",
              "      <td>6.04</td>\n",
              "      <td>18</td>\n",
              "      <td>64251</td>\n",
              "      <td>7.9</td>\n",
              "      <td>48.5</td>\n",
              "      <td>49.28</td>\n",
              "      <td>2125</td>\n",
              "      <td>972</td>\n",
              "      <td>140</td>\n",
              "      <td>2.05</td>\n",
              "      <td>0.22</td>\n",
              "      <td>0.0</td>\n",
              "      <td>0.0</td>\n",
              "      <td>9</td>\n",
              "      <td>0.0</td>\n",
              "      <td>0</td>\n",
              "      <td>1.2</td>\n",
              "      <td>3.9</td>\n",
              "      <td>5.7</td>\n",
              "      <td>0.3</td>\n",
              "      <td>0.0</td>\n",
              "      <td>0.0</td>\n",
              "      <td>0.0</td>\n",
              "      <td>0</td>\n",
              "      <td>54.0</td>\n",
              "      <td>0.0</td>\n",
              "      <td>0.0</td>\n",
              "      <td>0.0</td>\n",
              "      <td>0</td>\n",
              "      <td>0</td>\n",
              "      <td>drastic_decrement</td>\n",
              "      <td>0</td>\n",
              "    </tr>\n",
              "    <tr>\n",
              "      <th>3</th>\n",
              "      <td>2020-01-25</td>\n",
              "      <td>California</td>\n",
              "      <td>6037</td>\n",
              "      <td>0</td>\n",
              "      <td>0</td>\n",
              "      <td>0</td>\n",
              "      <td>0</td>\n",
              "      <td>0</td>\n",
              "      <td>6037</td>\n",
              "      <td>Los Angeles County</td>\n",
              "      <td>6</td>\n",
              "      <td>25</td>\n",
              "      <td>22</td>\n",
              "      <td>3.24</td>\n",
              "      <td>11.8</td>\n",
              "      <td>0.4</td>\n",
              "      <td>34.6</td>\n",
              "      <td>0.31</td>\n",
              "      <td>2.93</td>\n",
              "      <td>0</td>\n",
              "      <td>10105518</td>\n",
              "      <td>5.9</td>\n",
              "      <td>2020-01-25</td>\n",
              "      <td>6.04</td>\n",
              "      <td>18</td>\n",
              "      <td>64251</td>\n",
              "      <td>7.9</td>\n",
              "      <td>48.5</td>\n",
              "      <td>49.28</td>\n",
              "      <td>2125</td>\n",
              "      <td>972</td>\n",
              "      <td>140</td>\n",
              "      <td>2.05</td>\n",
              "      <td>0.22</td>\n",
              "      <td>0.0</td>\n",
              "      <td>0.0</td>\n",
              "      <td>9</td>\n",
              "      <td>0.0</td>\n",
              "      <td>0</td>\n",
              "      <td>1.2</td>\n",
              "      <td>3.9</td>\n",
              "      <td>5.7</td>\n",
              "      <td>0.3</td>\n",
              "      <td>0.0</td>\n",
              "      <td>0.0</td>\n",
              "      <td>0.0</td>\n",
              "      <td>1</td>\n",
              "      <td>54.0</td>\n",
              "      <td>0.0</td>\n",
              "      <td>0.0</td>\n",
              "      <td>0.0</td>\n",
              "      <td>0</td>\n",
              "      <td>0</td>\n",
              "      <td>drastic_decrement</td>\n",
              "      <td>0</td>\n",
              "    </tr>\n",
              "    <tr>\n",
              "      <th>4</th>\n",
              "      <td>2020-01-26</td>\n",
              "      <td>California</td>\n",
              "      <td>6037</td>\n",
              "      <td>1</td>\n",
              "      <td>0</td>\n",
              "      <td>1</td>\n",
              "      <td>0</td>\n",
              "      <td>0</td>\n",
              "      <td>6037</td>\n",
              "      <td>Los Angeles County</td>\n",
              "      <td>6</td>\n",
              "      <td>37</td>\n",
              "      <td>27</td>\n",
              "      <td>2.83</td>\n",
              "      <td>11.5</td>\n",
              "      <td>0.5</td>\n",
              "      <td>33.5</td>\n",
              "      <td>0.26</td>\n",
              "      <td>2.57</td>\n",
              "      <td>1</td>\n",
              "      <td>10105518</td>\n",
              "      <td>-7.1</td>\n",
              "      <td>2020-01-26</td>\n",
              "      <td>6.04</td>\n",
              "      <td>18</td>\n",
              "      <td>64251</td>\n",
              "      <td>7.9</td>\n",
              "      <td>48.5</td>\n",
              "      <td>49.28</td>\n",
              "      <td>2125</td>\n",
              "      <td>972</td>\n",
              "      <td>140</td>\n",
              "      <td>2.05</td>\n",
              "      <td>0.22</td>\n",
              "      <td>0.0</td>\n",
              "      <td>0.0</td>\n",
              "      <td>9</td>\n",
              "      <td>0.0</td>\n",
              "      <td>0</td>\n",
              "      <td>1.1</td>\n",
              "      <td>3.9</td>\n",
              "      <td>5.7</td>\n",
              "      <td>0.3</td>\n",
              "      <td>0.0</td>\n",
              "      <td>0.0</td>\n",
              "      <td>0.0</td>\n",
              "      <td>0</td>\n",
              "      <td>54.0</td>\n",
              "      <td>0.0</td>\n",
              "      <td>0.0</td>\n",
              "      <td>0.0</td>\n",
              "      <td>0</td>\n",
              "      <td>0</td>\n",
              "      <td>drastic_decrement</td>\n",
              "      <td>0</td>\n",
              "    </tr>\n",
              "  </tbody>\n",
              "</table>\n",
              "</div>"
            ],
            "text/plain": [
              "         Date Province_State  ...       growth_label  growth_code\n",
              "0  2020-01-22     California  ...  drastic_decrement            0\n",
              "1  2020-01-23     California  ...  drastic_decrement            0\n",
              "2  2020-01-24     California  ...  drastic_decrement            0\n",
              "3  2020-01-25     California  ...  drastic_decrement            0\n",
              "4  2020-01-26     California  ...  drastic_decrement            0\n",
              "\n",
              "[5 rows x 55 columns]"
            ]
          },
          "metadata": {
            "tags": []
          },
          "execution_count": 117
        }
      ]
    },
    {
      "cell_type": "code",
      "metadata": {
        "id": "Vr7663BUH1na",
        "outputId": "59c431f5-f719-4caa-fa62-3156714072de",
        "colab": {
          "base_uri": "https://localhost:8080/",
          "height": 35
        }
      },
      "source": [
        "CA_inertia_labeled_data['growth_code'].unique()"
      ],
      "execution_count": 118,
      "outputs": [
        {
          "output_type": "execute_result",
          "data": {
            "text/plain": [
              "array([0, 3, 2, 4, 1], dtype=int8)"
            ]
          },
          "metadata": {
            "tags": []
          },
          "execution_count": 118
        }
      ]
    },
    {
      "cell_type": "code",
      "metadata": {
        "id": "5Lakwg_MH1nc",
        "outputId": "ee88d3f6-08ad-42c2-8227-262a23c6a4cc",
        "colab": {
          "base_uri": "https://localhost:8080/",
          "height": 985
        }
      },
      "source": [
        "CA_inertia_labeled_data.dtypes"
      ],
      "execution_count": 119,
      "outputs": [
        {
          "output_type": "execute_result",
          "data": {
            "text/plain": [
              "Date                                           object\n",
              "Province_State                                 object\n",
              "FIPS                                            int64\n",
              "Confirmed                                       int64\n",
              "Deaths                                          int64\n",
              "New cases                                       int64\n",
              "New deaths                                      int64\n",
              "mask_rule_active                                int64\n",
              "CTFIPS                                          int64\n",
              "CTNAME                                         object\n",
              "STFIPS                                          int64\n",
              "Social distancing index                         int64\n",
              "% staying home                                  int64\n",
              "Trips/person                                  float64\n",
              "% out-of-county trips                         float64\n",
              "% out-of-state trips                          float64\n",
              "Miles/person                                  float64\n",
              "Work trips/person                             float64\n",
              "Non-work trips/person                         float64\n",
              "New COVID cases                                 int64\n",
              "Population                                      int64\n",
              "% change in consumption                       float64\n",
              "date                                           object\n",
              "Transit mode share                            float64\n",
              "% people older than 60                          int64\n",
              "Median income                                   int64\n",
              "% African Americans                           float64\n",
              "% Hispanic Americans                          float64\n",
              "% Male                                        float64\n",
              "Population density                              int64\n",
              "Employment density                              int64\n",
              "# hot spots/1000 people                         int64\n",
              "Hospital beds/1000 people                     float64\n",
              "ICUs/1000 people                              float64\n",
              "# contact tracing workers/1000 people         float64\n",
              "# contact tracing workers/1000 people rank    float64\n",
              "% people older than 60 rank                     int64\n",
              "COVID exposure/1000 people                    float64\n",
              "#days: decreasing ILI cases                     int64\n",
              "Unemployment claims/1000 people               float64\n",
              "Unemployment rate                             float64\n",
              "% working from home                           float64\n",
              "Cumulative inflation rate                     float64\n",
              "COVID death rate                              float64\n",
              "New cases/1000 people                         float64\n",
              "Active cases/1000 people                      float64\n",
              "#days: decreasing COVID cases                   int64\n",
              "% hospital bed utilization                    float64\n",
              "Testing capacity                              float64\n",
              "Tests done/1000 people                        float64\n",
              "% ICU utilization                             float64\n",
              "Ventilator shortage                             int64\n",
              "Imported COVID cases                            int64\n",
              "growth_label                                   object\n",
              "growth_code                                      int8\n",
              "dtype: object"
            ]
          },
          "metadata": {
            "tags": []
          },
          "execution_count": 119
        }
      ]
    },
    {
      "cell_type": "code",
      "metadata": {
        "id": "_ZXlJGB9I1jI",
        "outputId": "15dd1e76-033c-4a7d-898a-f719fa207208",
        "colab": {
          "base_uri": "https://localhost:8080/",
          "height": 380
        }
      },
      "source": [
        "CA_inertia_labeled_data.columns"
      ],
      "execution_count": 111,
      "outputs": [
        {
          "output_type": "execute_result",
          "data": {
            "text/plain": [
              "Index(['Date', 'Province_State', 'FIPS', 'Confirmed', 'Deaths', 'New cases',\n",
              "       'New deaths', 'mask_rule_active', 'CTFIPS', 'CTNAME', 'STFIPS',\n",
              "       'Social distancing index', '% staying home', 'Trips/person',\n",
              "       '% out-of-county trips', '% out-of-state trips', 'Miles/person',\n",
              "       'Work trips/person', 'Non-work trips/person', 'New COVID cases',\n",
              "       'Population', '% change in consumption', 'date', 'Transit mode share',\n",
              "       '% people older than 60', 'Median income', '% African Americans',\n",
              "       '% Hispanic Americans', '% Male', 'Population density',\n",
              "       'Employment density', '# hot spots/1000 people',\n",
              "       'Hospital beds/1000 people', 'ICUs/1000 people',\n",
              "       '# contact tracing workers/1000 people',\n",
              "       '# contact tracing workers/1000 people rank',\n",
              "       '% people older than 60 rank', 'COVID exposure/1000 people',\n",
              "       '#days: decreasing ILI cases', 'Unemployment claims/1000 people',\n",
              "       'Unemployment rate', '% working from home', 'Cumulative inflation rate',\n",
              "       'COVID death rate', 'New cases/1000 people', 'Active cases/1000 people',\n",
              "       '#days: decreasing COVID cases', '% hospital bed utilization',\n",
              "       'Testing capacity', 'Tests done/1000 people', '% ICU utilization',\n",
              "       'Ventilator shortage', 'Imported COVID cases', 'growth_label',\n",
              "       'growth_code'],\n",
              "      dtype='object')"
            ]
          },
          "metadata": {
            "tags": []
          },
          "execution_count": 111
        }
      ]
    },
    {
      "cell_type": "code",
      "metadata": {
        "id": "FQzk1cQLGieC",
        "outputId": "086dac86-e521-4d1d-d7ae-a20b3d0d1bc2",
        "colab": {
          "base_uri": "https://localhost:8080/",
          "height": 35
        }
      },
      "source": [
        "X.shape"
      ],
      "execution_count": 113,
      "outputs": [
        {
          "output_type": "execute_result",
          "data": {
            "text/plain": [
              "(0, 33)"
            ]
          },
          "metadata": {
            "tags": []
          },
          "execution_count": 113
        }
      ]
    },
    {
      "cell_type": "code",
      "metadata": {
        "id": "6Nx3kdz0H1nf"
      },
      "source": [
        "feature_labels = ['mask_rule_active','Social distancing index','% staying home', 'Trips/person', '% out-of-county trips',\n",
        "       '% out-of-state trips', 'Miles/person', 'Work trips/person','Non-work trips/person','% change in consumption',\n",
        "       'Transit mode share','% people older than 60', 'Median income', '% African Americans', '% Hispanic Americans',\n",
        "       '% Male', 'Population density','Employment density', '# hot spots/1000 people','Hospital beds/1000 people', 'ICUs/1000 people',\n",
        "       '# contact tracing workers/1000 people rank','% people older than 60 rank', 'COVID exposure/1000 people',\n",
        "       'Unemployment claims/1000 people', 'Unemployment rate','% working from home', 'Cumulative inflation rate',\n",
        "       '% hospital bed utilization', 'Testing capacity','Tests done/1000 people', '% ICU utilization', 'Ventilator shortage'\n",
        "       ]\n",
        "\n",
        "target_column = ['growth_code']\n",
        "\n",
        "X = CA_inertia_labeled_data[feature_labels]\n",
        "y = CA_inertia_labeled_data[target_column]\n",
        "\n",
        "X_train, X_test, y_train, y_test = train_test_split(X, y, test_size=0.4, random_state=0)\n"
      ],
      "execution_count": 120,
      "outputs": []
    },
    {
      "cell_type": "markdown",
      "metadata": {
        "id": "_ejgzSENH1nh"
      },
      "source": [
        "## Train Random Forest classifier"
      ]
    },
    {
      "cell_type": "code",
      "metadata": {
        "id": "alHppjAzH1nh",
        "outputId": "47d906a4-4c15-4d82-e0b0-5af38803192a",
        "colab": {
          "base_uri": "https://localhost:8080/",
          "height": 642
        }
      },
      "source": [
        "# Create a random forest classifier\n",
        "clf = RandomForestClassifier(n_estimators=10000, random_state=0, n_jobs=-1)\n",
        "\n",
        "# Train the classifier\n",
        "clf.fit(X_train, y_train)\n",
        "\n",
        "# Print the name and gini importance of each feature\n",
        "for feature in zip(feature_labels, clf.feature_importances_):\n",
        "    print(feature)"
      ],
      "execution_count": 121,
      "outputs": [
        {
          "output_type": "stream",
          "text": [
            "/usr/local/lib/python3.6/dist-packages/ipykernel_launcher.py:5: DataConversionWarning: A column-vector y was passed when a 1d array was expected. Please change the shape of y to (n_samples,), for example using ravel().\n",
            "  \"\"\"\n"
          ],
          "name": "stderr"
        },
        {
          "output_type": "stream",
          "text": [
            "('mask_rule_active', 0.03549580541025612)\n",
            "('Social distancing index', 0.03625451218986089)\n",
            "('% staying home', 0.029447997387091595)\n",
            "('Trips/person', 0.029118059181699043)\n",
            "('% out-of-county trips', 0.03209255468267571)\n",
            "('% out-of-state trips', 0.028717288822265513)\n",
            "('Miles/person', 0.05712371185649717)\n",
            "('Work trips/person', 0.026710254344338658)\n",
            "('Non-work trips/person', 0.029316857311423326)\n",
            "('% change in consumption', 0.02952926193855651)\n",
            "('Transit mode share', 0.0)\n",
            "('% people older than 60', 0.0)\n",
            "('Median income', 0.0)\n",
            "('% African Americans', 0.0)\n",
            "('% Hispanic Americans', 0.0)\n",
            "('% Male', 0.0)\n",
            "('Population density', 0.0)\n",
            "('Employment density', 0.0)\n",
            "('# hot spots/1000 people', 0.0)\n",
            "('Hospital beds/1000 people', 0.0)\n",
            "('ICUs/1000 people', 0.0)\n",
            "('# contact tracing workers/1000 people rank', 0.0)\n",
            "('% people older than 60 rank', 0.0)\n",
            "('COVID exposure/1000 people', 0.11484128861635708)\n",
            "('Unemployment claims/1000 people', 0.0405458256927298)\n",
            "('Unemployment rate', 0.05570341307058552)\n",
            "('% working from home', 0.03159314101981319)\n",
            "('Cumulative inflation rate', 0.017078786822595043)\n",
            "('% hospital bed utilization', 0.07345943674903492)\n",
            "('Testing capacity', 0.04124996620646172)\n",
            "('Tests done/1000 people', 0.1233482489453379)\n",
            "('% ICU utilization', 0.09204422466548201)\n",
            "('Ventilator shortage', 0.07632936508693836)\n"
          ],
          "name": "stdout"
        }
      ]
    },
    {
      "cell_type": "code",
      "metadata": {
        "id": "FaL8OKY6H1nj",
        "outputId": "5d772fd8-4501-4f08-d881-333d9a54eb0c",
        "colab": {
          "base_uri": "https://localhost:8080/",
          "height": 659
        }
      },
      "source": [
        "\n",
        "#  Supported criteria are “gini” for the Gini impurity and “entropy” for the information gain. \n",
        "clf = RandomForestClassifier(n_estimators=10000, random_state=0,criterion='entropy', n_jobs=-1)\n",
        "\n",
        "# Train the classifier\n",
        "clf.fit(X_train, y_train)\n",
        "print(X_train.shape)\n",
        "# Print the name and gini importance of each feature\n",
        "for feature in zip(feature_labels, clf.feature_importances_):\n",
        "    print(feature)"
      ],
      "execution_count": 122,
      "outputs": [
        {
          "output_type": "stream",
          "text": [
            "/usr/local/lib/python3.6/dist-packages/ipykernel_launcher.py:6: DataConversionWarning: A column-vector y was passed when a 1d array was expected. Please change the shape of y to (n_samples,), for example using ravel().\n",
            "  \n"
          ],
          "name": "stderr"
        },
        {
          "output_type": "stream",
          "text": [
            "(127, 33)\n",
            "('mask_rule_active', 0.03375480682394056)\n",
            "('Social distancing index', 0.03343693165017526)\n",
            "('% staying home', 0.024522430751290465)\n",
            "('Trips/person', 0.025882833717974355)\n",
            "('% out-of-county trips', 0.0285375299758826)\n",
            "('% out-of-state trips', 0.026778663306476963)\n",
            "('Miles/person', 0.06381335182851713)\n",
            "('Work trips/person', 0.022417721584045612)\n",
            "('Non-work trips/person', 0.025798610922985285)\n",
            "('% change in consumption', 0.025621931592395324)\n",
            "('Transit mode share', 0.0)\n",
            "('% people older than 60', 0.0)\n",
            "('Median income', 0.0)\n",
            "('% African Americans', 0.0)\n",
            "('% Hispanic Americans', 0.0)\n",
            "('% Male', 0.0)\n",
            "('Population density', 0.0)\n",
            "('Employment density', 0.0)\n",
            "('# hot spots/1000 people', 0.0)\n",
            "('Hospital beds/1000 people', 0.0)\n",
            "('ICUs/1000 people', 0.0)\n",
            "('# contact tracing workers/1000 people rank', 0.0)\n",
            "('% people older than 60 rank', 0.0)\n",
            "('COVID exposure/1000 people', 0.12504774036311783)\n",
            "('Unemployment claims/1000 people', 0.039366026751324404)\n",
            "('Unemployment rate', 0.07608350149157987)\n",
            "('% working from home', 0.029236230330869195)\n",
            "('Cumulative inflation rate', 0.02002436019109412)\n",
            "('% hospital bed utilization', 0.06789937983036635)\n",
            "('Testing capacity', 0.036003592843478836)\n",
            "('Tests done/1000 people', 0.13143536137181885)\n",
            "('% ICU utilization', 0.08873624290620159)\n",
            "('Ventilator shortage', 0.07560275176646535)\n"
          ],
          "name": "stdout"
        }
      ]
    },
    {
      "cell_type": "code",
      "metadata": {
        "id": "LGl3OepO8Ip-"
      },
      "source": [
        "X_train.shape"
      ],
      "execution_count": null,
      "outputs": []
    },
    {
      "cell_type": "markdown",
      "metadata": {
        "id": "JmJo8b0WH1nm"
      },
      "source": [
        "## PCA Computation"
      ]
    },
    {
      "cell_type": "code",
      "metadata": {
        "id": "QFD0tG7hH1nn",
        "outputId": "8fc0b558-3504-4a0c-9844-832f848614f0",
        "colab": {
          "base_uri": "https://localhost:8080/",
          "height": 35
        }
      },
      "source": [
        "print(len(feature_labels))"
      ],
      "execution_count": 123,
      "outputs": [
        {
          "output_type": "stream",
          "text": [
            "33\n"
          ],
          "name": "stdout"
        }
      ]
    },
    {
      "cell_type": "code",
      "metadata": {
        "id": "4Ih_wCujH1nq",
        "outputId": "1e746637-e3b3-4bac-e7c6-2873e49fd126",
        "colab": {
          "base_uri": "https://localhost:8080/",
          "height": 52
        }
      },
      "source": [
        "# split into training and testing datasets\n",
        "\n",
        "\n",
        "X = CA_inertia_labeled_data[feature_labels].values\n",
        "y = CA_inertia_labeled_data[target_column].values\n",
        "\n",
        "X_train, X_test, y_train, y_test = train_test_split(X, y, test_size=0.3,stratify=y, random_state=0)\n",
        "print(X_train.shape)\n",
        "print(y_train.shape)"
      ],
      "execution_count": 125,
      "outputs": [
        {
          "output_type": "stream",
          "text": [
            "(148, 33)\n",
            "(148, 1)\n"
          ],
          "name": "stdout"
        }
      ]
    },
    {
      "cell_type": "code",
      "metadata": {
        "id": "IWrdCBzUH1ns"
      },
      "source": [
        "# standardize the features\n",
        "sc = ss()\n",
        "X_train_std = sc.fit_transform(X_train)\n",
        "X_test_std = sc.transform(X_test)"
      ],
      "execution_count": 126,
      "outputs": []
    },
    {
      "cell_type": "code",
      "metadata": {
        "id": "h6N0mNWXH1nu"
      },
      "source": [
        "from sklearn.decomposition import PCA\n",
        "pca = PCA(n_components=2)\n",
        "principalComponents = pca.fit_transform(X)\n",
        "principalDf = pd.DataFrame(data = principalComponents\n",
        "             , columns = ['principal component 1', 'principal component 2'])"
      ],
      "execution_count": 127,
      "outputs": []
    },
    {
      "cell_type": "code",
      "metadata": {
        "id": "jVL_a5G-H1nv",
        "outputId": "a73335f2-b88b-4b58-ab1d-36cdc9865df8",
        "colab": {
          "base_uri": "https://localhost:8080/",
          "height": 407
        }
      },
      "source": [
        "principalDf"
      ],
      "execution_count": 128,
      "outputs": [
        {
          "output_type": "execute_result",
          "data": {
            "text/html": [
              "<div>\n",
              "<style scoped>\n",
              "    .dataframe tbody tr th:only-of-type {\n",
              "        vertical-align: middle;\n",
              "    }\n",
              "\n",
              "    .dataframe tbody tr th {\n",
              "        vertical-align: top;\n",
              "    }\n",
              "\n",
              "    .dataframe thead th {\n",
              "        text-align: right;\n",
              "    }\n",
              "</style>\n",
              "<table border=\"1\" class=\"dataframe\">\n",
              "  <thead>\n",
              "    <tr style=\"text-align: right;\">\n",
              "      <th></th>\n",
              "      <th>principal component 1</th>\n",
              "      <th>principal component 2</th>\n",
              "    </tr>\n",
              "  </thead>\n",
              "  <tbody>\n",
              "    <tr>\n",
              "      <th>0</th>\n",
              "      <td>-492.826340</td>\n",
              "      <td>24.252769</td>\n",
              "    </tr>\n",
              "    <tr>\n",
              "      <th>1</th>\n",
              "      <td>-492.877909</td>\n",
              "      <td>25.313838</td>\n",
              "    </tr>\n",
              "    <tr>\n",
              "      <th>2</th>\n",
              "      <td>-492.913980</td>\n",
              "      <td>26.379720</td>\n",
              "    </tr>\n",
              "    <tr>\n",
              "      <th>3</th>\n",
              "      <td>-492.734881</td>\n",
              "      <td>24.009998</td>\n",
              "    </tr>\n",
              "    <tr>\n",
              "      <th>4</th>\n",
              "      <td>-492.477964</td>\n",
              "      <td>19.988455</td>\n",
              "    </tr>\n",
              "    <tr>\n",
              "      <th>...</th>\n",
              "      <td>...</td>\n",
              "      <td>...</td>\n",
              "    </tr>\n",
              "    <tr>\n",
              "      <th>207</th>\n",
              "      <td>825.813090</td>\n",
              "      <td>60.937451</td>\n",
              "    </tr>\n",
              "    <tr>\n",
              "      <th>208</th>\n",
              "      <td>830.255587</td>\n",
              "      <td>63.608635</td>\n",
              "    </tr>\n",
              "    <tr>\n",
              "      <th>209</th>\n",
              "      <td>833.634258</td>\n",
              "      <td>66.423031</td>\n",
              "    </tr>\n",
              "    <tr>\n",
              "      <th>210</th>\n",
              "      <td>866.536933</td>\n",
              "      <td>63.788564</td>\n",
              "    </tr>\n",
              "    <tr>\n",
              "      <th>211</th>\n",
              "      <td>877.671311</td>\n",
              "      <td>65.381336</td>\n",
              "    </tr>\n",
              "  </tbody>\n",
              "</table>\n",
              "<p>212 rows × 2 columns</p>\n",
              "</div>"
            ],
            "text/plain": [
              "     principal component 1  principal component 2\n",
              "0              -492.826340              24.252769\n",
              "1              -492.877909              25.313838\n",
              "2              -492.913980              26.379720\n",
              "3              -492.734881              24.009998\n",
              "4              -492.477964              19.988455\n",
              "..                     ...                    ...\n",
              "207             825.813090              60.937451\n",
              "208             830.255587              63.608635\n",
              "209             833.634258              66.423031\n",
              "210             866.536933              63.788564\n",
              "211             877.671311              65.381336\n",
              "\n",
              "[212 rows x 2 columns]"
            ]
          },
          "metadata": {
            "tags": []
          },
          "execution_count": 128
        }
      ]
    },
    {
      "cell_type": "code",
      "metadata": {
        "id": "Vc2YUxD0H1nx",
        "outputId": "777560b9-3d14-4c68-a8dd-4c1e4bf848f8",
        "colab": {
          "base_uri": "https://localhost:8080/",
          "height": 407
        }
      },
      "source": [
        "finalDf = pd.concat([principalDf, CA_inertia_labeled_data[target_column]],axis=1 )\n",
        "finalDf"
      ],
      "execution_count": 129,
      "outputs": [
        {
          "output_type": "execute_result",
          "data": {
            "text/html": [
              "<div>\n",
              "<style scoped>\n",
              "    .dataframe tbody tr th:only-of-type {\n",
              "        vertical-align: middle;\n",
              "    }\n",
              "\n",
              "    .dataframe tbody tr th {\n",
              "        vertical-align: top;\n",
              "    }\n",
              "\n",
              "    .dataframe thead th {\n",
              "        text-align: right;\n",
              "    }\n",
              "</style>\n",
              "<table border=\"1\" class=\"dataframe\">\n",
              "  <thead>\n",
              "    <tr style=\"text-align: right;\">\n",
              "      <th></th>\n",
              "      <th>principal component 1</th>\n",
              "      <th>principal component 2</th>\n",
              "      <th>growth_code</th>\n",
              "    </tr>\n",
              "  </thead>\n",
              "  <tbody>\n",
              "    <tr>\n",
              "      <th>0</th>\n",
              "      <td>-492.826340</td>\n",
              "      <td>24.252769</td>\n",
              "      <td>0</td>\n",
              "    </tr>\n",
              "    <tr>\n",
              "      <th>1</th>\n",
              "      <td>-492.877909</td>\n",
              "      <td>25.313838</td>\n",
              "      <td>0</td>\n",
              "    </tr>\n",
              "    <tr>\n",
              "      <th>2</th>\n",
              "      <td>-492.913980</td>\n",
              "      <td>26.379720</td>\n",
              "      <td>0</td>\n",
              "    </tr>\n",
              "    <tr>\n",
              "      <th>3</th>\n",
              "      <td>-492.734881</td>\n",
              "      <td>24.009998</td>\n",
              "      <td>0</td>\n",
              "    </tr>\n",
              "    <tr>\n",
              "      <th>4</th>\n",
              "      <td>-492.477964</td>\n",
              "      <td>19.988455</td>\n",
              "      <td>0</td>\n",
              "    </tr>\n",
              "    <tr>\n",
              "      <th>...</th>\n",
              "      <td>...</td>\n",
              "      <td>...</td>\n",
              "      <td>...</td>\n",
              "    </tr>\n",
              "    <tr>\n",
              "      <th>207</th>\n",
              "      <td>825.813090</td>\n",
              "      <td>60.937451</td>\n",
              "      <td>1</td>\n",
              "    </tr>\n",
              "    <tr>\n",
              "      <th>208</th>\n",
              "      <td>830.255587</td>\n",
              "      <td>63.608635</td>\n",
              "      <td>1</td>\n",
              "    </tr>\n",
              "    <tr>\n",
              "      <th>209</th>\n",
              "      <td>833.634258</td>\n",
              "      <td>66.423031</td>\n",
              "      <td>4</td>\n",
              "    </tr>\n",
              "    <tr>\n",
              "      <th>210</th>\n",
              "      <td>866.536933</td>\n",
              "      <td>63.788564</td>\n",
              "      <td>4</td>\n",
              "    </tr>\n",
              "    <tr>\n",
              "      <th>211</th>\n",
              "      <td>877.671311</td>\n",
              "      <td>65.381336</td>\n",
              "      <td>4</td>\n",
              "    </tr>\n",
              "  </tbody>\n",
              "</table>\n",
              "<p>212 rows × 3 columns</p>\n",
              "</div>"
            ],
            "text/plain": [
              "     principal component 1  principal component 2  growth_code\n",
              "0              -492.826340              24.252769            0\n",
              "1              -492.877909              25.313838            0\n",
              "2              -492.913980              26.379720            0\n",
              "3              -492.734881              24.009998            0\n",
              "4              -492.477964              19.988455            0\n",
              "..                     ...                    ...          ...\n",
              "207             825.813090              60.937451            1\n",
              "208             830.255587              63.608635            1\n",
              "209             833.634258              66.423031            4\n",
              "210             866.536933              63.788564            4\n",
              "211             877.671311              65.381336            4\n",
              "\n",
              "[212 rows x 3 columns]"
            ]
          },
          "metadata": {
            "tags": []
          },
          "execution_count": 129
        }
      ]
    },
    {
      "cell_type": "code",
      "metadata": {
        "id": "5bRiPDyjH1n0",
        "outputId": "087f8508-b1e8-4c85-d9b7-4bbce526a574",
        "colab": {
          "base_uri": "https://localhost:8080/",
          "height": 575
        }
      },
      "source": [
        "fig = plt.figure(figsize = (8,8))\n",
        "ax = fig.add_subplot(1,1,1) \n",
        "ax.set_xlabel('Principal Component 1', fontsize = 15)\n",
        "ax.set_ylabel('Principal Component 2', fontsize = 15)\n",
        "ax.set_title('2 component PCA', fontsize = 20)\n",
        "targets = ['LowSpread', 'Spread', 'SuperSpread']\n",
        "targets2 = np.unique(y_train)\n",
        "colors = ['r', 'g', 'b']\n",
        "for target, color in zip(targets2,colors):\n",
        "    print(target)\n",
        "    indicesToKeep = finalDf['growth_code'] == target\n",
        "    ax.scatter(finalDf.loc[indicesToKeep, 'principal component 1']\n",
        "               , finalDf.loc[indicesToKeep, 'principal component 2']\n",
        "               , c = color\n",
        "               , s = 50)\n",
        "ax.legend(targets)\n",
        "ax.grid()"
      ],
      "execution_count": 131,
      "outputs": [
        {
          "output_type": "stream",
          "text": [
            "0\n",
            "1\n",
            "2\n"
          ],
          "name": "stdout"
        },
        {
          "output_type": "display_data",
          "data": {
            "image/png": "[encoded data removed]",
            "text/plain": [
              "<Figure size 576x576 with 1 Axes>"
            ]
          },
          "metadata": {
            "tags": [],
            "needs_background": "light"
          }
        }
      ]
    },
    {
      "cell_type": "code",
      "metadata": {
        "id": "QEFfsLFiH1n1"
      },
      "source": [
        "#obtain the eigenpairs of the Wine covariance matrix:\n",
        "#data_cov = np.dot(np.transpose(data.values),data.values)\n",
        "#data_cov\n",
        "X_train_cov = np.cov(X_train_std.T)\n",
        "w, v = np.linalg.eig(X_train_cov)"
      ],
      "execution_count": 132,
      "outputs": []
    },
    {
      "cell_type": "code",
      "metadata": {
        "id": "1zhis-3HH1n3",
        "outputId": "d56e2a93-07f3-49db-dfda-a2a24b5331c4",
        "colab": {
          "base_uri": "https://localhost:8080/",
          "height": 328
        }
      },
      "source": [
        "#The percent of variability contained within each component\n",
        "w_percent = (w/np.sum(w))*100                 \n",
        "print(w, '-> eigenvalues')\n",
        "print(w_percent, ' -> percent of variability explained')"
      ],
      "execution_count": 133,
      "outputs": [
        {
          "output_type": "stream",
          "text": [
            "[8.56391901e+00 6.33900956e+00 1.75462854e+00 1.00114158e+00\n",
            " 7.50104245e-01 4.93667825e-01 4.48907556e-01 2.61700090e-01\n",
            " 2.11066595e-01 1.11114135e-01 6.26548978e-02 5.03292496e-02\n",
            " 3.73177472e-02 1.93809902e-02 1.57774346e-02 7.93026731e-03\n",
            " 4.08171223e-03 3.21006544e-03 2.97429715e-06 1.09943689e-04\n",
            " 0.00000000e+00 0.00000000e+00 0.00000000e+00 0.00000000e+00\n",
            " 0.00000000e+00 0.00000000e+00 0.00000000e+00 0.00000000e+00\n",
            " 0.00000000e+00 0.00000000e+00 0.00000000e+00 0.00000000e+00\n",
            " 0.00000000e+00] -> eigenvalues\n",
            "[4.25302735e+01 3.14808921e+01 8.71386471e+00 4.97188557e+00\n",
            " 3.72517986e+00 2.45166116e+00 2.22937199e+00 1.29965923e+00\n",
            " 1.04820235e+00 5.51816820e-01 3.11157770e-01 2.49945936e-01\n",
            " 1.85328002e-01 9.62501877e-02 7.83541515e-02 3.93834221e-02\n",
            " 2.02706655e-02 1.59418790e-02 1.47710028e-05 5.46004134e-04\n",
            " 0.00000000e+00 0.00000000e+00 0.00000000e+00 0.00000000e+00\n",
            " 0.00000000e+00 0.00000000e+00 0.00000000e+00 0.00000000e+00\n",
            " 0.00000000e+00 0.00000000e+00 0.00000000e+00 0.00000000e+00\n",
            " 0.00000000e+00]  -> percent of variability explained\n"
          ],
          "name": "stdout"
        }
      ]
    },
    {
      "cell_type": "code",
      "metadata": {
        "id": "PNM0ssU3H1n5",
        "outputId": "db4a9434-aecd-4266-d130-b626011a8b66",
        "colab": {
          "base_uri": "https://localhost:8080/",
          "height": 295
        }
      },
      "source": [
        "# calculate cumulative sum of explained variances\n",
        "tot = sum(w)\n",
        "var_exp = [(i / tot) for i in sorted(w, reverse=True)]\n",
        "cum_var_exp = np.cumsum(var_exp)\n",
        "\n",
        "# plot explained variances\n",
        "plt.title(\"Component-wise and Cumulative Explained Variance\")\n",
        "plt.bar(range(0,33), var_exp, alpha=0.5,\n",
        "        align='center', label='individual explained variance')\n",
        "plt.step(range(0,33), cum_var_exp, where='mid',\n",
        "         label='Percentage of variability explained')\n",
        "plt.ylabel('Explained variance ratio')\n",
        "plt.xlabel('Principal component index')\n",
        "plt.legend(loc='best')\n",
        "plt.show()"
      ],
      "execution_count": 134,
      "outputs": [
        {
          "output_type": "display_data",
          "data": {
            "image/png": "[encoded data removed]",
            "text/plain": [
              "<Figure size 432x288 with 1 Axes>"
            ]
          },
          "metadata": {
            "tags": [],
            "needs_background": "light"
          }
        }
      ]
    },
    {
      "cell_type": "code",
      "metadata": {
        "id": "wQh4CAgfH1n7",
        "outputId": "70eb92ab-083e-49c5-b4d3-41215901f917",
        "colab": {
          "base_uri": "https://localhost:8080/",
          "height": 605
        }
      },
      "source": [
        "# Make a list of (eigenvalue, eigenvector) tuples\n",
        "eigen_pairs = [(np.abs(w[i]), v[:, i]) for i in range(len(w))]\n",
        "\n",
        "# Sort the (eigenvalue, eigenvector) tuples from high to low\n",
        "eigen_pairs.sort(key=lambda k: k[0], reverse=True)\n",
        "w2 = np.hstack((eigen_pairs[0][1][:, np.newaxis], eigen_pairs[1][1][:, np.newaxis]))\n",
        "print('Matrix W2:\\n', w2)"
      ],
      "execution_count": 135,
      "outputs": [
        {
          "output_type": "stream",
          "text": [
            "Matrix W2:\n",
            " [[-0.04269282  0.34388811]\n",
            " [-0.32877961 -0.0664776 ]\n",
            " [-0.32761779 -0.06328518]\n",
            " [ 0.31325494  0.07137371]\n",
            " [ 0.21068431  0.17234579]\n",
            " [ 0.12155542  0.26871305]\n",
            " [ 0.23756253  0.25101735]\n",
            " [ 0.20325939 -0.1268208 ]\n",
            " [ 0.27546444  0.15292671]\n",
            " [ 0.27550704  0.15279319]\n",
            " [ 0.          0.        ]\n",
            " [ 0.          0.        ]\n",
            " [ 0.          0.        ]\n",
            " [ 0.          0.        ]\n",
            " [ 0.          0.        ]\n",
            " [ 0.          0.        ]\n",
            " [ 0.          0.        ]\n",
            " [ 0.          0.        ]\n",
            " [ 0.          0.        ]\n",
            " [ 0.          0.        ]\n",
            " [ 0.          0.        ]\n",
            " [ 0.          0.        ]\n",
            " [ 0.          0.        ]\n",
            " [-0.05618409  0.37083395]\n",
            " [-0.26645945 -0.08805732]\n",
            " [-0.20773292  0.24645554]\n",
            " [-0.30638492  0.11729539]\n",
            " [ 0.11670614  0.13695227]\n",
            " [-0.18527409  0.27469997]\n",
            " [-0.18705458 -0.10934556]\n",
            " [-0.05974344  0.37765971]\n",
            " [-0.20375563  0.28565921]\n",
            " [-0.19161591  0.30052653]]\n"
          ],
          "name": "stdout"
        }
      ]
    },
    {
      "cell_type": "code",
      "metadata": {
        "id": "gu3mx19IH1n9",
        "outputId": "6f364508-26d8-455b-9942-560acb779edb",
        "colab": {
          "base_uri": "https://localhost:8080/",
          "height": 1000
        }
      },
      "source": [
        "X_train_pca = X_train_std.dot(w2)\n",
        "print(X_train_pca)"
      ],
      "execution_count": 136,
      "outputs": [
        {
          "output_type": "stream",
          "text": [
            "[[-4.34461117e-01 -4.66616325e-02]\n",
            " [-4.83395032e+00 -2.72013259e+00]\n",
            " [-6.31025258e-01  2.79541271e+00]\n",
            " [-3.28250004e+00 -1.84029714e+00]\n",
            " [-6.35822307e-01  3.71481876e+00]\n",
            " [-4.51119601e+00 -3.13148549e+00]\n",
            " [-1.51194362e+00 -6.60251765e-01]\n",
            " [ 3.45938042e+00 -1.02265498e+00]\n",
            " [-2.54750473e+00 -1.36695235e+00]\n",
            " [-3.08370198e+00 -1.04994652e+00]\n",
            " [-4.11208004e+00 -1.65519551e+00]\n",
            " [-4.47940865e+00 -3.04797260e+00]\n",
            " [ 3.11865427e-01  6.46067662e-01]\n",
            " [-2.22536039e+00 -1.19418949e+00]\n",
            " [-1.48664412e+00 -7.57853724e-02]\n",
            " [-2.73138519e+00 -3.58074283e+00]\n",
            " [-2.99154764e+00 -2.86357338e-01]\n",
            " [-3.20730801e+00 -1.73439081e+00]\n",
            " [-3.67176611e-01  3.62049388e+00]\n",
            " [-2.83727606e+00 -3.62561640e+00]\n",
            " [-3.91039368e-01  4.90463469e+00]\n",
            " [-1.39481081e+00  2.63229412e+00]\n",
            " [-4.12281956e+00 -3.56646718e+00]\n",
            " [-1.88084733e-02  2.13202970e-01]\n",
            " [ 4.92778122e+00 -1.48607536e+00]\n",
            " [-4.72974189e+00 -2.04713679e+00]\n",
            " [ 5.30631362e+00 -1.24673893e+00]\n",
            " [ 5.65355394e+00 -1.04953004e+00]\n",
            " [-8.52449101e-01  1.97527067e+00]\n",
            " [-3.17876400e+00 -1.46882068e+00]\n",
            " [ 4.98534260e+00 -1.53633835e+00]\n",
            " [-1.19857939e+00  4.28906861e+00]\n",
            " [ 4.68856014e+00 -1.77670934e+00]\n",
            " [-3.41833032e-01  1.55217578e+00]\n",
            " [-1.56578047e+00 -9.82443255e-01]\n",
            " [ 4.76278844e+00 -1.52616334e+00]\n",
            " [-8.86426160e-01  4.21363222e+00]\n",
            " [ 2.57039682e-01  1.93096147e+00]\n",
            " [-5.02289904e-01  3.04558275e+00]\n",
            " [ 1.40190003e-03  5.11035490e+00]\n",
            " [-2.13257287e-01  5.22699676e-02]\n",
            " [-2.94978033e-01  1.88866611e+00]\n",
            " [-8.42480218e-01  2.69875296e+00]\n",
            " [-5.57355290e+00 -4.42421853e+00]\n",
            " [-3.88347542e-01  6.54336821e+00]\n",
            " [ 3.49283402e+00 -2.03519682e+00]\n",
            " [-2.12487587e+00 -5.14985044e-01]\n",
            " [ 1.61379783e+00 -2.41566430e+00]\n",
            " [ 4.73336653e-01  5.85233587e-01]\n",
            " [ 2.98336216e+00 -1.38362783e+00]\n",
            " [ 4.77199143e-01  2.47377280e+00]\n",
            " [-7.19590591e-01  4.57732943e-01]\n",
            " [-3.62709926e+00 -2.07419740e+00]\n",
            " [-1.37113179e+00 -5.84131138e-01]\n",
            " [-3.32407975e-01  5.49274839e-01]\n",
            " [-4.39659969e-01 -1.61646276e-01]\n",
            " [-1.33287195e+00  2.73856503e+00]\n",
            " [ 1.63916778e+00 -2.35170872e+00]\n",
            " [ 4.44205323e-01  3.59017315e+00]\n",
            " [-7.98023354e-01  2.14782501e+00]\n",
            " [ 5.15285647e+00 -1.33383221e+00]\n",
            " [ 4.87651184e+00 -1.46690037e+00]\n",
            " [-4.74776754e-01  1.94534871e+00]\n",
            " [-3.32239723e-01  3.90051535e-01]\n",
            " [-8.80093919e-01  2.73913590e+00]\n",
            " [ 4.37887324e+00 -9.89733325e-01]\n",
            " [ 3.23795335e+00 -2.34905240e+00]\n",
            " [ 3.09612857e-02  2.56190446e+00]\n",
            " [-1.18633389e+00  4.28504512e+00]\n",
            " [ 5.78621297e+00 -9.42633966e-01]\n",
            " [-8.07863886e-01  6.87070267e-03]\n",
            " [ 2.82363536e-01  3.85291961e+00]\n",
            " [-3.73422428e+00 -2.71071664e+00]\n",
            " [-6.65672109e-01  2.96175716e+00]\n",
            " [-1.07696805e+00  2.09006538e+00]\n",
            " [-2.11794145e-01  2.76175308e+00]\n",
            " [-4.61348246e+00 -3.92972226e+00]\n",
            " [-7.07978887e-02  2.47347541e-01]\n",
            " [ 2.97905061e-01  2.26339434e+00]\n",
            " [-1.71143509e+00 -9.69426422e-01]\n",
            " [-4.84949461e-01  2.16623033e+00]\n",
            " [-3.82271774e+00 -3.56331673e+00]\n",
            " [ 4.93832823e+00 -1.53667762e+00]\n",
            " [-2.50192779e+00 -8.21017556e-01]\n",
            " [-1.77777194e+00  1.28156639e-01]\n",
            " [-8.35016339e-01  2.87615743e+00]\n",
            " [-7.44075210e+00 -3.63501075e+00]\n",
            " [ 8.24967027e-01 -2.61648357e+00]\n",
            " [-2.27587483e+00 -1.26226806e+00]\n",
            " [-1.07010580e+00  8.57274380e-02]\n",
            " [ 5.71869257e+00 -9.84011814e-01]\n",
            " [-1.99685290e+00 -1.09109504e+00]\n",
            " [-1.36776164e+00 -9.22575806e-01]\n",
            " [-2.78832597e+00 -3.56165128e+00]\n",
            " [ 4.65055673e+00 -1.59682692e+00]\n",
            " [-9.34162224e-01 -5.78274442e-01]\n",
            " [ 5.24975483e+00 -1.63401237e+00]\n",
            " [ 1.32167342e-01  8.08938377e-01]\n",
            " [-2.02968527e+00 -1.17883938e+00]\n",
            " [-4.54393929e-01  1.79813169e+00]\n",
            " [-7.69818127e-01 -2.78492547e+00]\n",
            " [-3.17246731e+00 -2.00235795e+00]\n",
            " [ 5.15429688e+00 -1.55990590e+00]\n",
            " [-6.67917865e-01  2.47183541e+00]\n",
            " [ 8.05598219e-01  7.23937814e+00]\n",
            " [-1.61823026e+00  3.31959304e-01]\n",
            " [-5.66076704e-01  2.73763286e+00]\n",
            " [-1.99342035e+00 -1.19543484e+00]\n",
            " [-2.78719720e+00  2.68698477e+00]\n",
            " [ 4.21932681e+00 -1.91906200e+00]\n",
            " [ 4.04959343e+00 -1.95106660e+00]\n",
            " [ 1.40663046e-01  6.45134359e+00]\n",
            " [ 1.68911594e+00 -2.04910614e+00]\n",
            " [ 4.83092544e+00 -8.13435354e-01]\n",
            " [-1.41387848e+00  1.91326546e+00]\n",
            " [-1.56561302e+00 -8.78147293e-01]\n",
            " [ 4.39674050e+00 -9.30474108e-01]\n",
            " [ 5.37418757e+00 -1.34270449e+00]\n",
            " [-7.33103478e-01 -4.20871341e-01]\n",
            " [-1.00469403e+00  2.42048280e+00]\n",
            " [-6.90747741e-01  2.38790204e+00]\n",
            " [-6.29181646e-02  6.76912089e+00]\n",
            " [-1.35019589e+00  2.20703524e+00]\n",
            " [ 2.08460666e+00 -1.56903528e+00]\n",
            " [-2.34239055e-01  6.44831282e+00]\n",
            " [ 4.84433104e+00 -1.77426201e+00]\n",
            " [ 4.77796085e+00 -1.70828930e+00]\n",
            " [ 4.66443262e+00 -8.98519290e-01]\n",
            " [ 5.03095021e+00 -1.65373793e+00]\n",
            " [-2.94977130e+00 -1.61070069e+00]\n",
            " [ 4.66461951e+00 -1.74595192e+00]\n",
            " [ 4.59177244e+00 -1.49744116e+00]\n",
            " [-1.91709019e+00  1.39638345e+00]\n",
            " [ 4.94427614e+00 -1.52190219e+00]\n",
            " [-2.91807282e+00 -3.70798564e+00]\n",
            " [ 3.13588606e-01  3.82877561e+00]\n",
            " [ 2.52518802e+00 -1.60223838e+00]\n",
            " [-1.01076066e-01  2.01425609e+00]\n",
            " [-1.68135189e-03  3.17056401e+00]\n",
            " [-3.92658553e+00 -2.42956891e+00]\n",
            " [ 5.45446723e+00 -1.17930414e+00]\n",
            " [-1.38796585e+00 -8.02880970e-01]\n",
            " [-4.05686088e+00 -3.00943495e+00]\n",
            " [-2.76169088e-03  1.55833483e-01]\n",
            " [-3.34087799e-01 -1.89645078e-01]\n",
            " [ 9.68580700e-01 -2.53799910e+00]\n",
            " [-2.13075249e+00 -3.43826042e+00]\n",
            " [ 4.93858146e-01 -2.90044730e+00]]\n"
          ],
          "name": "stdout"
        }
      ]
    },
    {
      "cell_type": "code",
      "metadata": {
        "id": "laotJxepH1n-",
        "outputId": "36c3e1ea-7cf0-47a4-ed7a-a9cf0c04e6e5",
        "colab": {
          "base_uri": "https://localhost:8080/",
          "height": 1000
        }
      },
      "source": [
        "np.unique(y_train)\n",
        "X_train_pca"
      ],
      "execution_count": 137,
      "outputs": [
        {
          "output_type": "execute_result",
          "data": {
            "text/plain": [
              "array([[-4.34461117e-01, -4.66616325e-02],\n",
              "       [-4.83395032e+00, -2.72013259e+00],\n",
              "       [-6.31025258e-01,  2.79541271e+00],\n",
              "       [-3.28250004e+00, -1.84029714e+00],\n",
              "       [-6.35822307e-01,  3.71481876e+00],\n",
              "       [-4.51119601e+00, -3.13148549e+00],\n",
              "       [-1.51194362e+00, -6.60251765e-01],\n",
              "       [ 3.45938042e+00, -1.02265498e+00],\n",
              "       [-2.54750473e+00, -1.36695235e+00],\n",
              "       [-3.08370198e+00, -1.04994652e+00],\n",
              "       [-4.11208004e+00, -1.65519551e+00],\n",
              "       [-4.47940865e+00, -3.04797260e+00],\n",
              "       [ 3.11865427e-01,  6.46067662e-01],\n",
              "       [-2.22536039e+00, -1.19418949e+00],\n",
              "       [-1.48664412e+00, -7.57853724e-02],\n",
              "       [-2.73138519e+00, -3.58074283e+00],\n",
              "       [-2.99154764e+00, -2.86357338e-01],\n",
              "       [-3.20730801e+00, -1.73439081e+00],\n",
              "       [-3.67176611e-01,  3.62049388e+00],\n",
              "       [-2.83727606e+00, -3.62561640e+00],\n",
              "       [-3.91039368e-01,  4.90463469e+00],\n",
              "       [-1.39481081e+00,  2.63229412e+00],\n",
              "       [-4.12281956e+00, -3.56646718e+00],\n",
              "       [-1.88084733e-02,  2.13202970e-01],\n",
              "       [ 4.92778122e+00, -1.48607536e+00],\n",
              "       [-4.72974189e+00, -2.04713679e+00],\n",
              "       [ 5.30631362e+00, -1.24673893e+00],\n",
              "       [ 5.65355394e+00, -1.04953004e+00],\n",
              "       [-8.52449101e-01,  1.97527067e+00],\n",
              "       [-3.17876400e+00, -1.46882068e+00],\n",
              "       [ 4.98534260e+00, -1.53633835e+00],\n",
              "       [-1.19857939e+00,  4.28906861e+00],\n",
              "       [ 4.68856014e+00, -1.77670934e+00],\n",
              "       [-3.41833032e-01,  1.55217578e+00],\n",
              "       [-1.56578047e+00, -9.82443255e-01],\n",
              "       [ 4.76278844e+00, -1.52616334e+00],\n",
              "       [-8.86426160e-01,  4.21363222e+00],\n",
              "       [ 2.57039682e-01,  1.93096147e+00],\n",
              "       [-5.02289904e-01,  3.04558275e+00],\n",
              "       [ 1.40190003e-03,  5.11035490e+00],\n",
              "       [-2.13257287e-01,  5.22699676e-02],\n",
              "       [-2.94978033e-01,  1.88866611e+00],\n",
              "       [-8.42480218e-01,  2.69875296e+00],\n",
              "       [-5.57355290e+00, -4.42421853e+00],\n",
              "       [-3.88347542e-01,  6.54336821e+00],\n",
              "       [ 3.49283402e+00, -2.03519682e+00],\n",
              "       [-2.12487587e+00, -5.14985044e-01],\n",
              "       [ 1.61379783e+00, -2.41566430e+00],\n",
              "       [ 4.73336653e-01,  5.85233587e-01],\n",
              "       [ 2.98336216e+00, -1.38362783e+00],\n",
              "       [ 4.77199143e-01,  2.47377280e+00],\n",
              "       [-7.19590591e-01,  4.57732943e-01],\n",
              "       [-3.62709926e+00, -2.07419740e+00],\n",
              "       [-1.37113179e+00, -5.84131138e-01],\n",
              "       [-3.32407975e-01,  5.49274839e-01],\n",
              "       [-4.39659969e-01, -1.61646276e-01],\n",
              "       [-1.33287195e+00,  2.73856503e+00],\n",
              "       [ 1.63916778e+00, -2.35170872e+00],\n",
              "       [ 4.44205323e-01,  3.59017315e+00],\n",
              "       [-7.98023354e-01,  2.14782501e+00],\n",
              "       [ 5.15285647e+00, -1.33383221e+00],\n",
              "       [ 4.87651184e+00, -1.46690037e+00],\n",
              "       [-4.74776754e-01,  1.94534871e+00],\n",
              "       [-3.32239723e-01,  3.90051535e-01],\n",
              "       [-8.80093919e-01,  2.73913590e+00],\n",
              "       [ 4.37887324e+00, -9.89733325e-01],\n",
              "       [ 3.23795335e+00, -2.34905240e+00],\n",
              "       [ 3.09612857e-02,  2.56190446e+00],\n",
              "       [-1.18633389e+00,  4.28504512e+00],\n",
              "       [ 5.78621297e+00, -9.42633966e-01],\n",
              "       [-8.07863886e-01,  6.87070267e-03],\n",
              "       [ 2.82363536e-01,  3.85291961e+00],\n",
              "       [-3.73422428e+00, -2.71071664e+00],\n",
              "       [-6.65672109e-01,  2.96175716e+00],\n",
              "       [-1.07696805e+00,  2.09006538e+00],\n",
              "       [-2.11794145e-01,  2.76175308e+00],\n",
              "       [-4.61348246e+00, -3.92972226e+00],\n",
              "       [-7.07978887e-02,  2.47347541e-01],\n",
              "       [ 2.97905061e-01,  2.26339434e+00],\n",
              "       [-1.71143509e+00, -9.69426422e-01],\n",
              "       [-4.84949461e-01,  2.16623033e+00],\n",
              "       [-3.82271774e+00, -3.56331673e+00],\n",
              "       [ 4.93832823e+00, -1.53667762e+00],\n",
              "       [-2.50192779e+00, -8.21017556e-01],\n",
              "       [-1.77777194e+00,  1.28156639e-01],\n",
              "       [-8.35016339e-01,  2.87615743e+00],\n",
              "       [-7.44075210e+00, -3.63501075e+00],\n",
              "       [ 8.24967027e-01, -2.61648357e+00],\n",
              "       [-2.27587483e+00, -1.26226806e+00],\n",
              "       [-1.07010580e+00,  8.57274380e-02],\n",
              "       [ 5.71869257e+00, -9.84011814e-01],\n",
              "       [-1.99685290e+00, -1.09109504e+00],\n",
              "       [-1.36776164e+00, -9.22575806e-01],\n",
              "       [-2.78832597e+00, -3.56165128e+00],\n",
              "       [ 4.65055673e+00, -1.59682692e+00],\n",
              "       [-9.34162224e-01, -5.78274442e-01],\n",
              "       [ 5.24975483e+00, -1.63401237e+00],\n",
              "       [ 1.32167342e-01,  8.08938377e-01],\n",
              "       [-2.02968527e+00, -1.17883938e+00],\n",
              "       [-4.54393929e-01,  1.79813169e+00],\n",
              "       [-7.69818127e-01, -2.78492547e+00],\n",
              "       [-3.17246731e+00, -2.00235795e+00],\n",
              "       [ 5.15429688e+00, -1.55990590e+00],\n",
              "       [-6.67917865e-01,  2.47183541e+00],\n",
              "       [ 8.05598219e-01,  7.23937814e+00],\n",
              "       [-1.61823026e+00,  3.31959304e-01],\n",
              "       [-5.66076704e-01,  2.73763286e+00],\n",
              "       [-1.99342035e+00, -1.19543484e+00],\n",
              "       [-2.78719720e+00,  2.68698477e+00],\n",
              "       [ 4.21932681e+00, -1.91906200e+00],\n",
              "       [ 4.04959343e+00, -1.95106660e+00],\n",
              "       [ 1.40663046e-01,  6.45134359e+00],\n",
              "       [ 1.68911594e+00, -2.04910614e+00],\n",
              "       [ 4.83092544e+00, -8.13435354e-01],\n",
              "       [-1.41387848e+00,  1.91326546e+00],\n",
              "       [-1.56561302e+00, -8.78147293e-01],\n",
              "       [ 4.39674050e+00, -9.30474108e-01],\n",
              "       [ 5.37418757e+00, -1.34270449e+00],\n",
              "       [-7.33103478e-01, -4.20871341e-01],\n",
              "       [-1.00469403e+00,  2.42048280e+00],\n",
              "       [-6.90747741e-01,  2.38790204e+00],\n",
              "       [-6.29181646e-02,  6.76912089e+00],\n",
              "       [-1.35019589e+00,  2.20703524e+00],\n",
              "       [ 2.08460666e+00, -1.56903528e+00],\n",
              "       [-2.34239055e-01,  6.44831282e+00],\n",
              "       [ 4.84433104e+00, -1.77426201e+00],\n",
              "       [ 4.77796085e+00, -1.70828930e+00],\n",
              "       [ 4.66443262e+00, -8.98519290e-01],\n",
              "       [ 5.03095021e+00, -1.65373793e+00],\n",
              "       [-2.94977130e+00, -1.61070069e+00],\n",
              "       [ 4.66461951e+00, -1.74595192e+00],\n",
              "       [ 4.59177244e+00, -1.49744116e+00],\n",
              "       [-1.91709019e+00,  1.39638345e+00],\n",
              "       [ 4.94427614e+00, -1.52190219e+00],\n",
              "       [-2.91807282e+00, -3.70798564e+00],\n",
              "       [ 3.13588606e-01,  3.82877561e+00],\n",
              "       [ 2.52518802e+00, -1.60223838e+00],\n",
              "       [-1.01076066e-01,  2.01425609e+00],\n",
              "       [-1.68135189e-03,  3.17056401e+00],\n",
              "       [-3.92658553e+00, -2.42956891e+00],\n",
              "       [ 5.45446723e+00, -1.17930414e+00],\n",
              "       [-1.38796585e+00, -8.02880970e-01],\n",
              "       [-4.05686088e+00, -3.00943495e+00],\n",
              "       [-2.76169088e-03,  1.55833483e-01],\n",
              "       [-3.34087799e-01, -1.89645078e-01],\n",
              "       [ 9.68580700e-01, -2.53799910e+00],\n",
              "       [-2.13075249e+00, -3.43826042e+00],\n",
              "       [ 4.93858146e-01, -2.90044730e+00]])"
            ]
          },
          "metadata": {
            "tags": []
          },
          "execution_count": 137
        }
      ]
    },
    {
      "cell_type": "markdown",
      "metadata": {
        "id": "GFQjBiuhlzE3"
      },
      "source": [
        "# Selecting three counties in CA\n",
        "* Los Angeles\n",
        "* Riverside\n",
        "* San Bernardino"
      ]
    },
    {
      "cell_type": "markdown",
      "metadata": {
        "id": "CmlAQssCokk1"
      },
      "source": [
        "### Filtered data for county - From Combined Dataset"
      ]
    },
    {
      "cell_type": "code",
      "metadata": {
        "id": "ih0kX50lnoa1",
        "outputId": "7c762067-b85a-4a52-fac3-c2be01c877b8",
        "colab": {
          "base_uri": "https://localhost:8080/",
          "height": 69
        }
      },
      "source": [
        "la_county_data = CA_labeled_data[CA_labeled_data['County Name'] == 'Los Angeles County']\n",
        "Westchester_county_data = CA_labeled_data[CA_labeled_data['County Name'] == 'Riverside County']\n",
        "Suffolk_county_data = CA_labeled_data[CA_labeled_data['County Name'] == 'San Bernardino County']\n",
        "\n",
        "print(' Nassau county data ',la_county_data.shape)\n",
        "print(' Westchester county data ',Westchester_county_data.shape)\n",
        "print(' Suffolk county data ',Suffolk_county_data.shape)"
      ],
      "execution_count": 138,
      "outputs": [
        {
          "output_type": "stream",
          "text": [
            " Nassau county data  (172, 20)\n",
            " Westchester county data  (0, 20)\n",
            " Suffolk county data  (0, 20)\n"
          ],
          "name": "stdout"
        }
      ]
    },
    {
      "cell_type": "markdown",
      "metadata": {
        "id": "LdNV4ruJpcWF"
      },
      "source": [
        "# Note about growth label\n",
        "\n",
        "growth_code| label\n",
        "----|----\n",
        " 0 | drastic decrement\n",
        " 1 | drastic growth\n",
        " 2 | flat\n",
        " 3 | mild decrement\n",
        " 4 | mild increment\n",
        "\n",
        "\n",
        "\n"
      ]
    },
    {
      "cell_type": "markdown",
      "metadata": {
        "id": "CHT_tjaLy-LP"
      },
      "source": [
        "# Los Angeles County\n"
      ]
    },
    {
      "cell_type": "code",
      "metadata": {
        "id": "0iUouFZVo7Tv",
        "outputId": "f91c21f4-100b-404c-a4a3-4e30448d3b02",
        "colab": {
          "base_uri": "https://localhost:8080/",
          "height": 121
        }
      },
      "source": [
        "feature_labels = ['retail and recreation','grocery and pharmacy','parks','transit stations','workplaces','residential','driving','m50','m50_index',\n",
        "               'population_density','mask_rule_active']\n",
        "\n",
        "target_column = ['growth_code']\n",
        "\n",
        "print(la_county_data['growth_code'].unique())\n",
        "\n",
        "la_county_data_growth0 = la_county_data[la_county_data['growth_code'] == 0]\n",
        "la_county_data_growth1 = la_county_data[la_county_data['growth_code'] == 1]\n",
        "la_county_data_growth2 = la_county_data[la_county_data['growth_code'] == 2]\n",
        "la_county_data_growth3 = la_county_data[la_county_data['growth_code'] == 3]\n",
        "la_county_data_growth4 = la_county_data[la_county_data['growth_code'] == 4]\n",
        "\n",
        "print(la_county_data_growth0.shape)\n",
        "print(la_county_data_growth1.shape)\n",
        "print(la_county_data_growth2.shape)\n",
        "print(la_county_data_growth3.shape)\n",
        "print(la_county_data_growth4.shape)"
      ],
      "execution_count": 139,
      "outputs": [
        {
          "output_type": "stream",
          "text": [
            "[0 3 4 2 1]\n",
            "(36, 20)\n",
            "(64, 20)\n",
            "(24, 20)\n",
            "(26, 20)\n",
            "(22, 20)\n"
          ],
          "name": "stdout"
        }
      ]
    },
    {
      "cell_type": "code",
      "metadata": {
        "id": "IhHARRTts6bl",
        "outputId": "3626131a-8c5c-4176-f4a5-085c5aaba0df",
        "colab": {
          "base_uri": "https://localhost:8080/",
          "height": 425
        }
      },
      "source": [
        "la_county_data.head()"
      ],
      "execution_count": 140,
      "outputs": [
        {
          "output_type": "execute_result",
          "data": {
            "text/html": [
              "<div>\n",
              "<style scoped>\n",
              "    .dataframe tbody tr th:only-of-type {\n",
              "        vertical-align: middle;\n",
              "    }\n",
              "\n",
              "    .dataframe tbody tr th {\n",
              "        vertical-align: top;\n",
              "    }\n",
              "\n",
              "    .dataframe thead th {\n",
              "        text-align: right;\n",
              "    }\n",
              "</style>\n",
              "<table border=\"1\" class=\"dataframe\">\n",
              "  <thead>\n",
              "    <tr style=\"text-align: right;\">\n",
              "      <th></th>\n",
              "      <th>Date</th>\n",
              "      <th>fips_x</th>\n",
              "      <th>County Name</th>\n",
              "      <th>population</th>\n",
              "      <th>retail and recreation</th>\n",
              "      <th>grocery and pharmacy</th>\n",
              "      <th>parks</th>\n",
              "      <th>transit stations</th>\n",
              "      <th>workplaces</th>\n",
              "      <th>residential</th>\n",
              "      <th>driving</th>\n",
              "      <th>m50</th>\n",
              "      <th>m50_index</th>\n",
              "      <th>population_density</th>\n",
              "      <th>mask_rule_active</th>\n",
              "      <th>mask_wearing_percent</th>\n",
              "      <th>New cases</th>\n",
              "      <th>New Cases/1k population</th>\n",
              "      <th>growth_label</th>\n",
              "      <th>growth_code</th>\n",
              "    </tr>\n",
              "  </thead>\n",
              "  <tbody>\n",
              "    <tr>\n",
              "      <th>0</th>\n",
              "      <td>2020-03-01</td>\n",
              "      <td>6037</td>\n",
              "      <td>Los Angeles County</td>\n",
              "      <td>10039107</td>\n",
              "      <td>4.0</td>\n",
              "      <td>3.0</td>\n",
              "      <td>-5.0</td>\n",
              "      <td>-3.0</td>\n",
              "      <td>1.0</td>\n",
              "      <td>0.0</td>\n",
              "      <td>-4.36</td>\n",
              "      <td>3.996</td>\n",
              "      <td>60</td>\n",
              "      <td>2473.978284</td>\n",
              "      <td>0</td>\n",
              "      <td>0.0</td>\n",
              "      <td>0</td>\n",
              "      <td>0.000000</td>\n",
              "      <td>drastic_decrement</td>\n",
              "      <td>0</td>\n",
              "    </tr>\n",
              "    <tr>\n",
              "      <th>1</th>\n",
              "      <td>2020-03-02</td>\n",
              "      <td>6037</td>\n",
              "      <td>Los Angeles County</td>\n",
              "      <td>10039107</td>\n",
              "      <td>5.0</td>\n",
              "      <td>5.0</td>\n",
              "      <td>8.0</td>\n",
              "      <td>1.0</td>\n",
              "      <td>4.0</td>\n",
              "      <td>-1.0</td>\n",
              "      <td>7.51</td>\n",
              "      <td>6.502</td>\n",
              "      <td>98</td>\n",
              "      <td>2473.978284</td>\n",
              "      <td>0</td>\n",
              "      <td>0.0</td>\n",
              "      <td>0</td>\n",
              "      <td>0.000000</td>\n",
              "      <td>drastic_decrement</td>\n",
              "      <td>0</td>\n",
              "    </tr>\n",
              "    <tr>\n",
              "      <th>2</th>\n",
              "      <td>2020-03-03</td>\n",
              "      <td>6037</td>\n",
              "      <td>Los Angeles County</td>\n",
              "      <td>10039107</td>\n",
              "      <td>8.0</td>\n",
              "      <td>7.0</td>\n",
              "      <td>32.0</td>\n",
              "      <td>2.0</td>\n",
              "      <td>3.0</td>\n",
              "      <td>-1.0</td>\n",
              "      <td>17.24</td>\n",
              "      <td>6.591</td>\n",
              "      <td>99</td>\n",
              "      <td>2473.978284</td>\n",
              "      <td>0</td>\n",
              "      <td>0.0</td>\n",
              "      <td>0</td>\n",
              "      <td>0.000000</td>\n",
              "      <td>drastic_decrement</td>\n",
              "      <td>0</td>\n",
              "    </tr>\n",
              "    <tr>\n",
              "      <th>3</th>\n",
              "      <td>2020-03-04</td>\n",
              "      <td>6037</td>\n",
              "      <td>Los Angeles County</td>\n",
              "      <td>10039107</td>\n",
              "      <td>4.0</td>\n",
              "      <td>6.0</td>\n",
              "      <td>9.0</td>\n",
              "      <td>-1.0</td>\n",
              "      <td>2.0</td>\n",
              "      <td>0.0</td>\n",
              "      <td>13.82</td>\n",
              "      <td>6.595</td>\n",
              "      <td>100</td>\n",
              "      <td>2473.978284</td>\n",
              "      <td>0</td>\n",
              "      <td>0.0</td>\n",
              "      <td>6</td>\n",
              "      <td>0.000598</td>\n",
              "      <td>drastic_decrement</td>\n",
              "      <td>0</td>\n",
              "    </tr>\n",
              "    <tr>\n",
              "      <th>4</th>\n",
              "      <td>2020-03-05</td>\n",
              "      <td>6037</td>\n",
              "      <td>Los Angeles County</td>\n",
              "      <td>10039107</td>\n",
              "      <td>4.0</td>\n",
              "      <td>7.0</td>\n",
              "      <td>9.0</td>\n",
              "      <td>0.0</td>\n",
              "      <td>2.0</td>\n",
              "      <td>0.0</td>\n",
              "      <td>22.17</td>\n",
              "      <td>7.008</td>\n",
              "      <td>106</td>\n",
              "      <td>2473.978284</td>\n",
              "      <td>0</td>\n",
              "      <td>0.0</td>\n",
              "      <td>4</td>\n",
              "      <td>0.000398</td>\n",
              "      <td>drastic_decrement</td>\n",
              "      <td>0</td>\n",
              "    </tr>\n",
              "  </tbody>\n",
              "</table>\n",
              "</div>"
            ],
            "text/plain": [
              "         Date  fips_x  ...       growth_label  growth_code\n",
              "0  2020-03-01    6037  ...  drastic_decrement            0\n",
              "1  2020-03-02    6037  ...  drastic_decrement            0\n",
              "2  2020-03-03    6037  ...  drastic_decrement            0\n",
              "3  2020-03-04    6037  ...  drastic_decrement            0\n",
              "4  2020-03-05    6037  ...  drastic_decrement            0\n",
              "\n",
              "[5 rows x 20 columns]"
            ]
          },
          "metadata": {
            "tags": []
          },
          "execution_count": 140
        }
      ]
    },
    {
      "cell_type": "markdown",
      "metadata": {
        "id": "lQm7s7zWq_cY"
      },
      "source": [
        "## 1.Drastic Decrement"
      ]
    },
    {
      "cell_type": "code",
      "metadata": {
        "id": "-qCwy-3n9glz",
        "outputId": "7b90f78d-a76a-4914-ac2a-4749ad58e1ef",
        "colab": {
          "base_uri": "https://localhost:8080/",
          "height": 504
        }
      },
      "source": [
        "from sklearn.ensemble import RandomForestRegressor\n",
        "print(\"** Printing Los Angeles county data for drastic decrement ** \")\n",
        "\n",
        "X = la_county_data_growth0[feature_labels]\n",
        "y = la_county_data_growth0[target_column]\n",
        "print(X.shape)\n",
        "\n",
        "X_train, X_test, y_train, y_test = train_test_split(X, y, test_size=0.4, random_state=0)\n",
        "\n",
        "\n",
        "# Create a random forest classifier\n",
        "clf = RandomForestClassifier(n_estimators=10000, random_state=0, n_jobs=-1)\n",
        "\n",
        "# Train the classifier\n",
        "clf.fit(X_train, y_train)\n",
        "\n",
        "# Print the name and gini importance of each feature\n",
        "for feature in zip(feature_labels, clf.feature_importances_):\n",
        "    print(feature)\n",
        "\n",
        "\n",
        "\n",
        "#  Supported criteria are “gini” for the Gini impurity and “entropy” for the information gain. \n",
        "\n",
        "clf = RandomForestClassifier(n_estimators=10000, random_state=0,criterion='entropy',min_samples_leaf=5, n_jobs=-1)\n",
        "\n",
        "\n",
        "# Train the classifier\n",
        "clf.fit(X_train, y_train)\n",
        "\n",
        "# Print the name and gini importance of each feature\n",
        "for feature in zip(feature_labels, clf.feature_importances_):\n",
        "    print(feature)\n",
        "\n",
        "#print(sorted(zip(clf.feature_importances_, feature_labels), reverse=True))"
      ],
      "execution_count": 141,
      "outputs": [
        {
          "output_type": "stream",
          "text": [
            "** Printing Los Angeles county data for drastic decrement ** \n",
            "(36, 11)\n"
          ],
          "name": "stdout"
        },
        {
          "output_type": "stream",
          "text": [
            "/usr/local/lib/python3.6/dist-packages/ipykernel_launcher.py:15: DataConversionWarning: A column-vector y was passed when a 1d array was expected. Please change the shape of y to (n_samples,), for example using ravel().\n",
            "  from ipykernel import kernelapp as app\n"
          ],
          "name": "stderr"
        },
        {
          "output_type": "stream",
          "text": [
            "('retail and recreation', 0.0)\n",
            "('grocery and pharmacy', 0.0)\n",
            "('parks', 0.0)\n",
            "('transit stations', 0.0)\n",
            "('workplaces', 0.0)\n",
            "('residential', 0.0)\n",
            "('driving', 0.0)\n",
            "('m50', 0.0)\n",
            "('m50_index', 0.0)\n",
            "('population_density', 0.0)\n",
            "('mask_rule_active', 0.0)\n"
          ],
          "name": "stdout"
        },
        {
          "output_type": "stream",
          "text": [
            "/usr/local/lib/python3.6/dist-packages/ipykernel_launcher.py:29: DataConversionWarning: A column-vector y was passed when a 1d array was expected. Please change the shape of y to (n_samples,), for example using ravel().\n"
          ],
          "name": "stderr"
        },
        {
          "output_type": "stream",
          "text": [
            "('retail and recreation', 0.0)\n",
            "('grocery and pharmacy', 0.0)\n",
            "('parks', 0.0)\n",
            "('transit stations', 0.0)\n",
            "('workplaces', 0.0)\n",
            "('residential', 0.0)\n",
            "('driving', 0.0)\n",
            "('m50', 0.0)\n",
            "('m50_index', 0.0)\n",
            "('population_density', 0.0)\n",
            "('mask_rule_active', 0.0)\n"
          ],
          "name": "stdout"
        }
      ]
    },
    {
      "cell_type": "markdown",
      "metadata": {
        "id": "y_eRc0Ne-Tyo"
      },
      "source": [
        "## 2.Drastic Growth"
      ]
    },
    {
      "cell_type": "code",
      "metadata": {
        "id": "qxeItEjurTri",
        "outputId": "f939677f-c369-4c3d-9dd9-ed96679861ce",
        "colab": {
          "base_uri": "https://localhost:8080/",
          "height": 504
        }
      },
      "source": [
        "print(\"** Printing Los Angeles county data for drastic growth ** \")\n",
        "\n",
        "X = la_county_data_growth1[feature_labels]\n",
        "y = la_county_data_growth1[target_column]\n",
        "print(X.shape)\n",
        "\n",
        "X_train, X_test, y_train, y_test = train_test_split(X, y, test_size=0.4, random_state=0)\n",
        "\n",
        "\n",
        "# Create a random forest classifier\n",
        "clf = RandomForestClassifier(n_estimators=10000, random_state=0, n_jobs=-1)\n",
        "\n",
        "# Train the classifier\n",
        "clf.fit(X_train, y_train)\n",
        "\n",
        "# Print the name and gini importance of each feature\n",
        "for feature in zip(feature_labels, clf.feature_importances_):\n",
        "    print(feature)\n",
        "\n",
        "\n",
        "\n",
        "#  Supported criteria are “gini” for the Gini impurity and “entropy” for the information gain. \n",
        "\n",
        "clf = RandomForestClassifier(n_estimators=10000, random_state=0,criterion='entropy', n_jobs=-1)\n",
        "\n",
        "# Train the classifier\n",
        "clf.fit(X_train, y_train)\n",
        "\n",
        "# Print the name and gini importance of each feature\n",
        "for feature in zip(feature_labels, clf.feature_importances_):\n",
        "    print(feature)\n"
      ],
      "execution_count": 142,
      "outputs": [
        {
          "output_type": "stream",
          "text": [
            "** Printing Los Angeles county data for drastic growth ** \n",
            "(64, 11)\n"
          ],
          "name": "stdout"
        },
        {
          "output_type": "stream",
          "text": [
            "/usr/local/lib/python3.6/dist-packages/ipykernel_launcher.py:14: DataConversionWarning: A column-vector y was passed when a 1d array was expected. Please change the shape of y to (n_samples,), for example using ravel().\n",
            "  \n"
          ],
          "name": "stderr"
        },
        {
          "output_type": "stream",
          "text": [
            "('retail and recreation', 0.0)\n",
            "('grocery and pharmacy', 0.0)\n",
            "('parks', 0.0)\n",
            "('transit stations', 0.0)\n",
            "('workplaces', 0.0)\n",
            "('residential', 0.0)\n",
            "('driving', 0.0)\n",
            "('m50', 0.0)\n",
            "('m50_index', 0.0)\n",
            "('population_density', 0.0)\n",
            "('mask_rule_active', 0.0)\n"
          ],
          "name": "stdout"
        },
        {
          "output_type": "stream",
          "text": [
            "/usr/local/lib/python3.6/dist-packages/ipykernel_launcher.py:27: DataConversionWarning: A column-vector y was passed when a 1d array was expected. Please change the shape of y to (n_samples,), for example using ravel().\n"
          ],
          "name": "stderr"
        },
        {
          "output_type": "stream",
          "text": [
            "('retail and recreation', 0.0)\n",
            "('grocery and pharmacy', 0.0)\n",
            "('parks', 0.0)\n",
            "('transit stations', 0.0)\n",
            "('workplaces', 0.0)\n",
            "('residential', 0.0)\n",
            "('driving', 0.0)\n",
            "('m50', 0.0)\n",
            "('m50_index', 0.0)\n",
            "('population_density', 0.0)\n",
            "('mask_rule_active', 0.0)\n"
          ],
          "name": "stdout"
        }
      ]
    },
    {
      "cell_type": "markdown",
      "metadata": {
        "id": "xjvQguTv-bct"
      },
      "source": [
        "## 3.Flat Growth"
      ]
    },
    {
      "cell_type": "code",
      "metadata": {
        "id": "fOgGiAfVr-eN",
        "outputId": "6727bfcf-74ab-44c4-a09f-eb8ec313de31",
        "colab": {
          "base_uri": "https://localhost:8080/",
          "height": 486
        }
      },
      "source": [
        "print(\"** Printing Los Angeles county data for flat growth ** \")\n",
        "\n",
        "X = la_county_data_growth2[feature_labels]\n",
        "y = la_county_data_growth2[target_column]\n",
        "\n",
        "X_train, X_test, y_train, y_test = train_test_split(X, y, test_size=0.4, random_state=0)\n",
        "\n",
        "\n",
        "# Create a random forest classifier\n",
        "clf = RandomForestClassifier(n_estimators=10000, random_state=0, n_jobs=-1)\n",
        "\n",
        "# Train the classifier\n",
        "clf.fit(X_train, y_train)\n",
        "\n",
        "# Print the name and gini importance of each feature\n",
        "for feature in zip(feature_labels, clf.feature_importances_):\n",
        "    print(feature)\n",
        "\n",
        "\n",
        "\n",
        "#  Supported criteria are “gini” for the Gini impurity and “entropy” for the information gain. \n",
        "\n",
        "clf = RandomForestClassifier(n_estimators=10000, random_state=0,criterion='entropy', n_jobs=-1)\n",
        "\n",
        "# Train the classifier\n",
        "clf.fit(X_train, y_train)\n",
        "\n",
        "# Print the name and gini importance of each feature\n",
        "for feature in zip(feature_labels, clf.feature_importances_):\n",
        "    print(feature)\n"
      ],
      "execution_count": 143,
      "outputs": [
        {
          "output_type": "stream",
          "text": [
            "** Printing Los Angeles county data for flat growth ** \n"
          ],
          "name": "stdout"
        },
        {
          "output_type": "stream",
          "text": [
            "/usr/local/lib/python3.6/dist-packages/ipykernel_launcher.py:13: DataConversionWarning: A column-vector y was passed when a 1d array was expected. Please change the shape of y to (n_samples,), for example using ravel().\n",
            "  del sys.path[0]\n"
          ],
          "name": "stderr"
        },
        {
          "output_type": "stream",
          "text": [
            "('retail and recreation', 0.0)\n",
            "('grocery and pharmacy', 0.0)\n",
            "('parks', 0.0)\n",
            "('transit stations', 0.0)\n",
            "('workplaces', 0.0)\n",
            "('residential', 0.0)\n",
            "('driving', 0.0)\n",
            "('m50', 0.0)\n",
            "('m50_index', 0.0)\n",
            "('population_density', 0.0)\n",
            "('mask_rule_active', 0.0)\n"
          ],
          "name": "stdout"
        },
        {
          "output_type": "stream",
          "text": [
            "/usr/local/lib/python3.6/dist-packages/ipykernel_launcher.py:26: DataConversionWarning: A column-vector y was passed when a 1d array was expected. Please change the shape of y to (n_samples,), for example using ravel().\n"
          ],
          "name": "stderr"
        },
        {
          "output_type": "stream",
          "text": [
            "('retail and recreation', 0.0)\n",
            "('grocery and pharmacy', 0.0)\n",
            "('parks', 0.0)\n",
            "('transit stations', 0.0)\n",
            "('workplaces', 0.0)\n",
            "('residential', 0.0)\n",
            "('driving', 0.0)\n",
            "('m50', 0.0)\n",
            "('m50_index', 0.0)\n",
            "('population_density', 0.0)\n",
            "('mask_rule_active', 0.0)\n"
          ],
          "name": "stdout"
        }
      ]
    },
    {
      "cell_type": "markdown",
      "metadata": {
        "id": "v0z1roc7-sRQ"
      },
      "source": [
        "## 4.Mild Decrement"
      ]
    },
    {
      "cell_type": "code",
      "metadata": {
        "id": "vHc18U_Yr_TQ",
        "outputId": "1aff38c9-0b30-434d-a079-a658d34ebfd3",
        "colab": {
          "base_uri": "https://localhost:8080/",
          "height": 486
        }
      },
      "source": [
        "print(\"** Printing Los Angeles county data for mild decrement ** \")\n",
        "\n",
        "X = la_county_data_growth3[feature_labels]\n",
        "y = la_county_data_growth3[target_column]\n",
        "\n",
        "X_train, X_test, y_train, y_test = train_test_split(X, y, test_size=0.4, random_state=0)\n",
        "\n",
        "\n",
        "# Create a random forest classifier\n",
        "clf = RandomForestClassifier(n_estimators=10000, random_state=0, n_jobs=-1)\n",
        "\n",
        "# Train the classifier\n",
        "clf.fit(X_train, y_train)\n",
        "\n",
        "# Print the name and gini importance of each feature\n",
        "for feature in zip(feature_labels, clf.feature_importances_):\n",
        "    print(feature)\n",
        "\n",
        "\n",
        "\n",
        "#  Supported criteria are “gini” for the Gini impurity and “entropy” for the information gain. \n",
        "\n",
        "clf = RandomForestClassifier(n_estimators=10000, random_state=0,criterion='entropy', n_jobs=-1)\n",
        "\n",
        "# Train the classifier\n",
        "clf.fit(X_train, y_train)\n",
        "\n",
        "# Print the name and gini importance of each feature\n",
        "for feature in zip(feature_labels, clf.feature_importances_):\n",
        "    print(feature)\n"
      ],
      "execution_count": 144,
      "outputs": [
        {
          "output_type": "stream",
          "text": [
            "** Printing Los Angeles county data for mild decrement ** \n"
          ],
          "name": "stdout"
        },
        {
          "output_type": "stream",
          "text": [
            "/usr/local/lib/python3.6/dist-packages/ipykernel_launcher.py:13: DataConversionWarning: A column-vector y was passed when a 1d array was expected. Please change the shape of y to (n_samples,), for example using ravel().\n",
            "  del sys.path[0]\n"
          ],
          "name": "stderr"
        },
        {
          "output_type": "stream",
          "text": [
            "('retail and recreation', 0.0)\n",
            "('grocery and pharmacy', 0.0)\n",
            "('parks', 0.0)\n",
            "('transit stations', 0.0)\n",
            "('workplaces', 0.0)\n",
            "('residential', 0.0)\n",
            "('driving', 0.0)\n",
            "('m50', 0.0)\n",
            "('m50_index', 0.0)\n",
            "('population_density', 0.0)\n",
            "('mask_rule_active', 0.0)\n"
          ],
          "name": "stdout"
        },
        {
          "output_type": "stream",
          "text": [
            "/usr/local/lib/python3.6/dist-packages/ipykernel_launcher.py:26: DataConversionWarning: A column-vector y was passed when a 1d array was expected. Please change the shape of y to (n_samples,), for example using ravel().\n"
          ],
          "name": "stderr"
        },
        {
          "output_type": "stream",
          "text": [
            "('retail and recreation', 0.0)\n",
            "('grocery and pharmacy', 0.0)\n",
            "('parks', 0.0)\n",
            "('transit stations', 0.0)\n",
            "('workplaces', 0.0)\n",
            "('residential', 0.0)\n",
            "('driving', 0.0)\n",
            "('m50', 0.0)\n",
            "('m50_index', 0.0)\n",
            "('population_density', 0.0)\n",
            "('mask_rule_active', 0.0)\n"
          ],
          "name": "stdout"
        }
      ]
    },
    {
      "cell_type": "markdown",
      "metadata": {
        "id": "M4zS3LJT-2GF"
      },
      "source": [
        "## 5.Mild Increment"
      ]
    },
    {
      "cell_type": "code",
      "metadata": {
        "id": "9p-MEfVVr_80",
        "outputId": "cc0f5707-d624-4c58-dc95-0eccc997e8fb",
        "colab": {
          "base_uri": "https://localhost:8080/",
          "height": 486
        }
      },
      "source": [
        "print(\"** Printing Los Angeles county data for mild increment ** \")\n",
        "\n",
        "X = la_county_data_growth4[feature_labels]\n",
        "y = la_county_data_growth4[target_column]\n",
        "\n",
        "X_train, X_test, y_train, y_test = train_test_split(X, y, test_size=0.4, random_state=0)\n",
        "\n",
        "\n",
        "# Create a random forest classifier\n",
        "clf = RandomForestClassifier(n_estimators=10000, random_state=0, n_jobs=-1)\n",
        "\n",
        "# Train the classifier\n",
        "clf.fit(X_train, y_train)\n",
        "\n",
        "# Print the name and gini importance of each feature\n",
        "for feature in zip(feature_labels, clf.feature_importances_):\n",
        "    print(feature)\n",
        "\n",
        "\n",
        "\n",
        "#  Supported criteria are “gini” for the Gini impurity and “entropy” for the information gain. \n",
        "\n",
        "clf = RandomForestClassifier(n_estimators=10000, random_state=0,criterion='entropy', n_jobs=-1)\n",
        "\n",
        "# Train the classifier\n",
        "clf.fit(X_train, y_train)\n",
        "\n",
        "# Print the name and gini importance of each feature\n",
        "for feature in zip(feature_labels, clf.feature_importances_):\n",
        "    print(feature)\n"
      ],
      "execution_count": 145,
      "outputs": [
        {
          "output_type": "stream",
          "text": [
            "** Printing Los Angeles county data for mild increment ** \n"
          ],
          "name": "stdout"
        },
        {
          "output_type": "stream",
          "text": [
            "/usr/local/lib/python3.6/dist-packages/ipykernel_launcher.py:13: DataConversionWarning: A column-vector y was passed when a 1d array was expected. Please change the shape of y to (n_samples,), for example using ravel().\n",
            "  del sys.path[0]\n"
          ],
          "name": "stderr"
        },
        {
          "output_type": "stream",
          "text": [
            "('retail and recreation', 0.0)\n",
            "('grocery and pharmacy', 0.0)\n",
            "('parks', 0.0)\n",
            "('transit stations', 0.0)\n",
            "('workplaces', 0.0)\n",
            "('residential', 0.0)\n",
            "('driving', 0.0)\n",
            "('m50', 0.0)\n",
            "('m50_index', 0.0)\n",
            "('population_density', 0.0)\n",
            "('mask_rule_active', 0.0)\n"
          ],
          "name": "stdout"
        },
        {
          "output_type": "stream",
          "text": [
            "/usr/local/lib/python3.6/dist-packages/ipykernel_launcher.py:26: DataConversionWarning: A column-vector y was passed when a 1d array was expected. Please change the shape of y to (n_samples,), for example using ravel().\n"
          ],
          "name": "stderr"
        },
        {
          "output_type": "stream",
          "text": [
            "('retail and recreation', 0.0)\n",
            "('grocery and pharmacy', 0.0)\n",
            "('parks', 0.0)\n",
            "('transit stations', 0.0)\n",
            "('workplaces', 0.0)\n",
            "('residential', 0.0)\n",
            "('driving', 0.0)\n",
            "('m50', 0.0)\n",
            "('m50_index', 0.0)\n",
            "('population_density', 0.0)\n",
            "('mask_rule_active', 0.0)\n"
          ],
          "name": "stdout"
        }
      ]
    },
    {
      "cell_type": "markdown",
      "metadata": {
        "id": "V3iG473ouCfD"
      },
      "source": [
        "## Correlation map"
      ]
    },
    {
      "cell_type": "code",
      "metadata": {
        "id": "KiDL-frruEns"
      },
      "source": [
        "\n",
        "\n",
        "# Correlation\n",
        "\n",
        "corr = la_county_data.corr()\n",
        "g = sns.heatmap(corr, vmax=.9, center=0,\n",
        "               square=True, linewidths=1.5, cbar_kws={\"shrink\": .8}, annot=True, fmt='.2f', cmap='coolwarm')\n",
        "bottom, top = g.get_ylim()\n",
        "g.set_ylim(bottom + 0.5, top - 0.5)\n",
        "sns.despine()\n",
        "g.figure.set_size_inches(16, 10)"
      ],
      "execution_count": null,
      "outputs": []
    },
    {
      "cell_type": "markdown",
      "metadata": {
        "id": "YI-QYT9QJynf"
      },
      "source": [
        "# Feature Importance: Using ExtraTreesClassifier"
      ]
    },
    {
      "cell_type": "code",
      "metadata": {
        "id": "g5U5OO9zLbqe"
      },
      "source": [
        "from sklearn.ensemble import ExtraTreesClassifier\n",
        "from sklearn.feature_selection import RFE"
      ],
      "execution_count": 146,
      "outputs": []
    },
    {
      "cell_type": "markdown",
      "metadata": {
        "id": "BhssRhQpKAnL"
      },
      "source": [
        "## 1.CA Combined Data"
      ]
    },
    {
      "cell_type": "code",
      "metadata": {
        "id": "tn548-Kl2HGI",
        "outputId": "10bfbd99-3f84-407e-90d2-0f7ed2b873b8",
        "colab": {
          "base_uri": "https://localhost:8080/",
          "height": 52
        }
      },
      "source": [
        "pd.unique(CA_labeled_data[['growth_label', 'growth_code']].values.ravel())"
      ],
      "execution_count": 147,
      "outputs": [
        {
          "output_type": "execute_result",
          "data": {
            "text/plain": [
              "array(['drastic_decrement', 0, 'mild_decrement', 3, 'mild_growth', 4,\n",
              "       'flat_growth', 2, 'drastic_growth', 1], dtype=object)"
            ]
          },
          "metadata": {
            "tags": []
          },
          "execution_count": 147
        }
      ]
    },
    {
      "cell_type": "code",
      "metadata": {
        "id": "ntuwYT63KQuT",
        "outputId": "09093b32-df89-4a37-eab2-1851a662ff6f",
        "colab": {
          "base_uri": "https://localhost:8080/",
          "height": 104
        }
      },
      "source": [
        "CA_labeled_data_growth0 = CA_labeled_data[CA_labeled_data['growth_code'] == 0]\n",
        "CA_labeled_data_growth1 = CA_labeled_data[CA_labeled_data['growth_code'] == 1]\n",
        "CA_labeled_data_growth2 = CA_labeled_data[CA_labeled_data['growth_code'] == 2]\n",
        "CA_labeled_data_growth3 = CA_labeled_data[CA_labeled_data['growth_code'] == 3]\n",
        "CA_labeled_data_growth4 = CA_labeled_data[CA_labeled_data['growth_code'] == 4]\n",
        "\n",
        "print(CA_labeled_data_growth0.shape)\n",
        "print(CA_labeled_data_growth1.shape)\n",
        "print(CA_labeled_data_growth2.shape)\n",
        "print(CA_labeled_data_growth3.shape)\n",
        "print(CA_labeled_data_growth4.shape)"
      ],
      "execution_count": 148,
      "outputs": [
        {
          "output_type": "stream",
          "text": [
            "(36, 20)\n",
            "(64, 20)\n",
            "(24, 20)\n",
            "(26, 20)\n",
            "(22, 20)\n"
          ],
          "name": "stdout"
        }
      ]
    },
    {
      "cell_type": "markdown",
      "metadata": {
        "id": "Kud0wcE4Ke0y"
      },
      "source": [
        "### 1.1 Label 0 : Drastic Decrement"
      ]
    },
    {
      "cell_type": "code",
      "metadata": {
        "id": "glcc7GJyL6fj",
        "outputId": "40cc22cb-31c5-4784-86b5-1b01cc06790a",
        "colab": {
          "base_uri": "https://localhost:8080/",
          "height": 935
        }
      },
      "source": [
        "\n",
        "print(\"** Printing CA all county data for Drastic Decrement ** \")\n",
        "print(CA_labeled_data_growth0.shape)\n",
        "X = CA_labeled_data_growth0[feature_labels]\n",
        "y = CA_labeled_data_growth0[target_column]\n",
        "\n",
        "X_train, X_test, y_train, y_test = train_test_split(X, y, test_size=0.4, random_state=0)\n",
        "\n",
        "\n",
        "# Create a random forest classifier\n",
        "clf = RandomForestClassifier(n_estimators=10000, random_state=0, n_jobs=-1)\n",
        "\n",
        "# Train the classifier\n",
        "clf.fit(X_train, y_train)\n",
        "\n",
        "# Print the name and gini importance of each feature\n",
        "for feature in zip(feature_labels, clf.feature_importances_):\n",
        "    print(feature)\n",
        "\n",
        "\n",
        "\n",
        "#  Supported criteria are “gini” for the Gini impurity and “entropy” for the information gain. \n",
        "\n",
        "clf = RandomForestClassifier(n_estimators=10000, random_state=0,criterion='entropy', n_jobs=-1)\n",
        "\n",
        "# Train the classifier\n",
        "clf.fit(X_train, y_train)\n",
        "\n",
        "# Print the name and gini importance of each feature\n",
        "for feature in zip(feature_labels, clf.feature_importances_):\n",
        "    print(feature)\n",
        "\n",
        "\n",
        "model = ExtraTreesClassifier()\n",
        "model.fit(X, y.values.ravel())\n",
        "# display the relative importance of each attribute\n",
        "#print(model.feature_importances_)\n",
        "\n",
        "\n",
        "# create the RFE model \n",
        "rfe = RFE(model, 3)\n",
        "rfe = rfe.fit(X, y.values.ravel())\n",
        "# summarize the selection of the attributes\n",
        "#print(rfe.support_)\n",
        "\n",
        "print(\"\\nFeatures with ranking:\\n\")\n",
        "for index in range(len(rfe.ranking_)):\n",
        "  print(feature_labels[index], rfe.ranking_[index])\n",
        "\n",
        "for index in range(len(rfe.ranking_)):\n",
        "  print( rfe.ranking_[index])\n",
        "#print(rfe.ranking_)\n",
        "#print(rfe.n_features_)\n",
        "#rfe.n_features_to_select\n"
      ],
      "execution_count": 149,
      "outputs": [
        {
          "output_type": "stream",
          "text": [
            "** Printing CA all county data for Drastic Decrement ** \n",
            "(36, 20)\n"
          ],
          "name": "stdout"
        },
        {
          "output_type": "stream",
          "text": [
            "/usr/local/lib/python3.6/dist-packages/ipykernel_launcher.py:14: DataConversionWarning: A column-vector y was passed when a 1d array was expected. Please change the shape of y to (n_samples,), for example using ravel().\n",
            "  \n"
          ],
          "name": "stderr"
        },
        {
          "output_type": "stream",
          "text": [
            "('retail and recreation', 0.0)\n",
            "('grocery and pharmacy', 0.0)\n",
            "('parks', 0.0)\n",
            "('transit stations', 0.0)\n",
            "('workplaces', 0.0)\n",
            "('residential', 0.0)\n",
            "('driving', 0.0)\n",
            "('m50', 0.0)\n",
            "('m50_index', 0.0)\n",
            "('population_density', 0.0)\n",
            "('mask_rule_active', 0.0)\n"
          ],
          "name": "stdout"
        },
        {
          "output_type": "stream",
          "text": [
            "/usr/local/lib/python3.6/dist-packages/ipykernel_launcher.py:27: DataConversionWarning: A column-vector y was passed when a 1d array was expected. Please change the shape of y to (n_samples,), for example using ravel().\n"
          ],
          "name": "stderr"
        },
        {
          "output_type": "stream",
          "text": [
            "('retail and recreation', 0.0)\n",
            "('grocery and pharmacy', 0.0)\n",
            "('parks', 0.0)\n",
            "('transit stations', 0.0)\n",
            "('workplaces', 0.0)\n",
            "('residential', 0.0)\n",
            "('driving', 0.0)\n",
            "('m50', 0.0)\n",
            "('m50_index', 0.0)\n",
            "('population_density', 0.0)\n",
            "('mask_rule_active', 0.0)\n",
            "\n",
            "Features with ranking:\n",
            "\n",
            "retail and recreation 9\n",
            "grocery and pharmacy 8\n",
            "parks 7\n",
            "transit stations 6\n",
            "workplaces 5\n",
            "residential 4\n",
            "driving 3\n",
            "m50 2\n",
            "m50_index 1\n",
            "population_density 1\n",
            "mask_rule_active 1\n",
            "9\n",
            "8\n",
            "7\n",
            "6\n",
            "5\n",
            "4\n",
            "3\n",
            "2\n",
            "1\n",
            "1\n",
            "1\n"
          ],
          "name": "stdout"
        }
      ]
    },
    {
      "cell_type": "markdown",
      "metadata": {
        "id": "XrkKktcbN0Kn"
      },
      "source": [
        "### 1.2 Label 1 : Drastic Growth"
      ]
    },
    {
      "cell_type": "code",
      "metadata": {
        "id": "z4n1qk_xN0K8",
        "outputId": "1ae02287-bec8-4835-c261-ba69409d279e",
        "colab": {
          "base_uri": "https://localhost:8080/",
          "height": 987
        }
      },
      "source": [
        "\n",
        "print(\"** Printing CA all county data for Drastic Growth ** \")\n",
        "print(CA_labeled_data_growth1.shape)\n",
        "X = CA_labeled_data_growth1[feature_labels]\n",
        "y = CA_labeled_data_growth1[target_column]\n",
        "\n",
        "X_train, X_test, y_train, y_test = train_test_split(X, y, test_size=0.4, random_state=0)\n",
        "\n",
        "\n",
        "# Create a random forest classifier\n",
        "clf = RandomForestClassifier(n_estimators=10000, random_state=0, n_jobs=-1)\n",
        "\n",
        "# Train the classifier\n",
        "clf.fit(X_train, y_train)\n",
        "\n",
        "# Print the name and gini importance of each feature\n",
        "for feature in zip(feature_labels, clf.feature_importances_):\n",
        "    print(feature)\n",
        "\n",
        "\n",
        "\n",
        "#  Supported criteria are “gini” for the Gini impurity and “entropy” for the information gain. \n",
        "\n",
        "clf = RandomForestClassifier(n_estimators=10000, random_state=0,criterion='entropy', n_jobs=-1)\n",
        "\n",
        "# Train the classifier\n",
        "clf.fit(X_train, y_train)\n",
        "\n",
        "# Print the name and gini importance of each feature\n",
        "for feature in zip(feature_labels, clf.feature_importances_):\n",
        "    print(feature)\n",
        "\n",
        "\n",
        "model = ExtraTreesClassifier()\n",
        "model.fit(X, y.values.ravel())\n",
        "# display the relative importance of each attribute\n",
        "#print(model.feature_importances_)\n",
        "\n",
        "\n",
        "# create the RFE model \n",
        "rfe = RFE(model, 3)\n",
        "rfe = rfe.fit(X, y.values.ravel())\n",
        "# summarize the selection of the attributes\n",
        "#print(rfe.support_)\n",
        "print(\"\\n*****************************************\")\n",
        "print(\"** Printing CA all county data for Drastic Growth ** \")\n",
        "print(\"\\nFeatures with ranking:\\n\")\n",
        "for index in range(len(rfe.ranking_)):\n",
        "  print(feature_labels[index], rfe.ranking_[index])\n",
        "\n",
        "for index in range(len(rfe.ranking_)):\n",
        "  print( rfe.ranking_[index])\n",
        "#print(rfe.ranking_)\n",
        "#print(rfe.n_features_)\n",
        "#rfe.n_features_to_select\n"
      ],
      "execution_count": 150,
      "outputs": [
        {
          "output_type": "stream",
          "text": [
            "** Printing CA all county data for Drastic Growth ** \n",
            "(64, 20)\n"
          ],
          "name": "stdout"
        },
        {
          "output_type": "stream",
          "text": [
            "/usr/local/lib/python3.6/dist-packages/ipykernel_launcher.py:14: DataConversionWarning: A column-vector y was passed when a 1d array was expected. Please change the shape of y to (n_samples,), for example using ravel().\n",
            "  \n"
          ],
          "name": "stderr"
        },
        {
          "output_type": "stream",
          "text": [
            "('retail and recreation', 0.0)\n",
            "('grocery and pharmacy', 0.0)\n",
            "('parks', 0.0)\n",
            "('transit stations', 0.0)\n",
            "('workplaces', 0.0)\n",
            "('residential', 0.0)\n",
            "('driving', 0.0)\n",
            "('m50', 0.0)\n",
            "('m50_index', 0.0)\n",
            "('population_density', 0.0)\n",
            "('mask_rule_active', 0.0)\n"
          ],
          "name": "stdout"
        },
        {
          "output_type": "stream",
          "text": [
            "/usr/local/lib/python3.6/dist-packages/ipykernel_launcher.py:27: DataConversionWarning: A column-vector y was passed when a 1d array was expected. Please change the shape of y to (n_samples,), for example using ravel().\n"
          ],
          "name": "stderr"
        },
        {
          "output_type": "stream",
          "text": [
            "('retail and recreation', 0.0)\n",
            "('grocery and pharmacy', 0.0)\n",
            "('parks', 0.0)\n",
            "('transit stations', 0.0)\n",
            "('workplaces', 0.0)\n",
            "('residential', 0.0)\n",
            "('driving', 0.0)\n",
            "('m50', 0.0)\n",
            "('m50_index', 0.0)\n",
            "('population_density', 0.0)\n",
            "('mask_rule_active', 0.0)\n",
            "\n",
            "*****************************************\n",
            "** Printing CA all county data for Drastic Growth ** \n",
            "\n",
            "Features with ranking:\n",
            "\n",
            "retail and recreation 9\n",
            "grocery and pharmacy 8\n",
            "parks 7\n",
            "transit stations 6\n",
            "workplaces 5\n",
            "residential 4\n",
            "driving 3\n",
            "m50 2\n",
            "m50_index 1\n",
            "population_density 1\n",
            "mask_rule_active 1\n",
            "9\n",
            "8\n",
            "7\n",
            "6\n",
            "5\n",
            "4\n",
            "3\n",
            "2\n",
            "1\n",
            "1\n",
            "1\n"
          ],
          "name": "stdout"
        }
      ]
    },
    {
      "cell_type": "markdown",
      "metadata": {
        "id": "ImMtEtHCPX9V"
      },
      "source": [
        "### 1.3 Label 2 : Flat Growth"
      ]
    },
    {
      "cell_type": "code",
      "metadata": {
        "id": "hQOh156MPX9q",
        "outputId": "451178a3-bf02-439d-eef8-6fe4aab6457e",
        "colab": {
          "base_uri": "https://localhost:8080/",
          "height": 987
        }
      },
      "source": [
        "\n",
        "print(\"** Printing CA all county data for Flat Growth ** \")\n",
        "print(CA_labeled_data_growth2.shape)\n",
        "X = CA_labeled_data_growth2[feature_labels]\n",
        "y = CA_labeled_data_growth2[target_column]\n",
        "\n",
        "X_train, X_test, y_train, y_test = train_test_split(X, y, test_size=0.4, random_state=0)\n",
        "\n",
        "\n",
        "# Create a random forest classifier\n",
        "clf = RandomForestClassifier(n_estimators=10000, random_state=0, n_jobs=-1)\n",
        "\n",
        "# Train the classifier\n",
        "clf.fit(X_train, y_train)\n",
        "\n",
        "# Print the name and gini importance of each feature\n",
        "for feature in zip(feature_labels, clf.feature_importances_):\n",
        "    print(feature)\n",
        "\n",
        "\n",
        "\n",
        "#  Supported criteria are “gini” for the Gini impurity and “entropy” for the information gain. \n",
        "\n",
        "clf = RandomForestClassifier(n_estimators=10000, random_state=0,criterion='entropy', n_jobs=-1)\n",
        "\n",
        "# Train the classifier\n",
        "clf.fit(X_train, y_train)\n",
        "\n",
        "# Print the name and gini importance of each feature\n",
        "for feature in zip(feature_labels, clf.feature_importances_):\n",
        "    print(feature)\n",
        "\n",
        "\n",
        "model = ExtraTreesClassifier()\n",
        "model.fit(X, y.values.ravel())\n",
        "# display the relative importance of each attribute\n",
        "#print(model.feature_importances_)\n",
        "\n",
        "\n",
        "# create the RFE model \n",
        "rfe = RFE(model, 3)\n",
        "rfe = rfe.fit(X, y.values.ravel())\n",
        "# summarize the selection of the attributes\n",
        "#print(rfe.support_)\n",
        "print(\"\\n*****************************************\")\n",
        "print(\"** Printing CA all county data for Flat Growth ** \")\n",
        "print(\"\\nFeatures with ranking:\\n\")\n",
        "for index in range(len(rfe.ranking_)):\n",
        "  print(feature_labels[index], rfe.ranking_[index])\n",
        "\n",
        "for index in range(len(rfe.ranking_)):\n",
        "  print( rfe.ranking_[index])\n",
        "#print(rfe.ranking_)\n",
        "#print(rfe.n_features_)\n",
        "#rfe.n_features_to_select\n"
      ],
      "execution_count": 151,
      "outputs": [
        {
          "output_type": "stream",
          "text": [
            "** Printing CA all county data for Flat Growth ** \n",
            "(24, 20)\n"
          ],
          "name": "stdout"
        },
        {
          "output_type": "stream",
          "text": [
            "/usr/local/lib/python3.6/dist-packages/ipykernel_launcher.py:14: DataConversionWarning: A column-vector y was passed when a 1d array was expected. Please change the shape of y to (n_samples,), for example using ravel().\n",
            "  \n"
          ],
          "name": "stderr"
        },
        {
          "output_type": "stream",
          "text": [
            "('retail and recreation', 0.0)\n",
            "('grocery and pharmacy', 0.0)\n",
            "('parks', 0.0)\n",
            "('transit stations', 0.0)\n",
            "('workplaces', 0.0)\n",
            "('residential', 0.0)\n",
            "('driving', 0.0)\n",
            "('m50', 0.0)\n",
            "('m50_index', 0.0)\n",
            "('population_density', 0.0)\n",
            "('mask_rule_active', 0.0)\n"
          ],
          "name": "stdout"
        },
        {
          "output_type": "stream",
          "text": [
            "/usr/local/lib/python3.6/dist-packages/ipykernel_launcher.py:27: DataConversionWarning: A column-vector y was passed when a 1d array was expected. Please change the shape of y to (n_samples,), for example using ravel().\n"
          ],
          "name": "stderr"
        },
        {
          "output_type": "stream",
          "text": [
            "('retail and recreation', 0.0)\n",
            "('grocery and pharmacy', 0.0)\n",
            "('parks', 0.0)\n",
            "('transit stations', 0.0)\n",
            "('workplaces', 0.0)\n",
            "('residential', 0.0)\n",
            "('driving', 0.0)\n",
            "('m50', 0.0)\n",
            "('m50_index', 0.0)\n",
            "('population_density', 0.0)\n",
            "('mask_rule_active', 0.0)\n",
            "\n",
            "*****************************************\n",
            "** Printing CA all county data for Flat Growth ** \n",
            "\n",
            "Features with ranking:\n",
            "\n",
            "retail and recreation 9\n",
            "grocery and pharmacy 8\n",
            "parks 7\n",
            "transit stations 6\n",
            "workplaces 5\n",
            "residential 4\n",
            "driving 3\n",
            "m50 2\n",
            "m50_index 1\n",
            "population_density 1\n",
            "mask_rule_active 1\n",
            "9\n",
            "8\n",
            "7\n",
            "6\n",
            "5\n",
            "4\n",
            "3\n",
            "2\n",
            "1\n",
            "1\n",
            "1\n"
          ],
          "name": "stdout"
        }
      ]
    },
    {
      "cell_type": "markdown",
      "metadata": {
        "id": "wNgraqN2Piox"
      },
      "source": [
        "### 1.4 Label 3 : Mild Decrement"
      ]
    },
    {
      "cell_type": "code",
      "metadata": {
        "id": "hboyu6NoPipJ",
        "outputId": "a47742c0-185a-4480-98d5-0b313ae077c8",
        "colab": {
          "base_uri": "https://localhost:8080/",
          "height": 987
        }
      },
      "source": [
        "\n",
        "print(\"** Printing CA all county data for Mild Decrement ** \")\n",
        "print(CA_labeled_data_growth3.shape)\n",
        "X = CA_labeled_data_growth3[feature_labels]\n",
        "y = CA_labeled_data_growth3[target_column]\n",
        "\n",
        "X_train, X_test, y_train, y_test = train_test_split(X, y, test_size=0.4, random_state=0)\n",
        "\n",
        "\n",
        "# Create a random forest classifier\n",
        "clf = RandomForestClassifier(n_estimators=10000, random_state=0, n_jobs=-1)\n",
        "\n",
        "# Train the classifier\n",
        "clf.fit(X_train, y_train)\n",
        "\n",
        "# Print the name and gini importance of each feature\n",
        "for feature in zip(feature_labels, clf.feature_importances_):\n",
        "    print(feature)\n",
        "\n",
        "\n",
        "\n",
        "#  Supported criteria are “gini” for the Gini impurity and “entropy” for the information gain. \n",
        "\n",
        "clf = RandomForestClassifier(n_estimators=10000, random_state=0,criterion='entropy', n_jobs=-1)\n",
        "\n",
        "# Train the classifier\n",
        "clf.fit(X_train, y_train)\n",
        "\n",
        "# Print the name and gini importance of each feature\n",
        "for feature in zip(feature_labels, clf.feature_importances_):\n",
        "    print(feature)\n",
        "\n",
        "\n",
        "model = ExtraTreesClassifier()\n",
        "model.fit(X, y.values.ravel())\n",
        "# display the relative importance of each attribute\n",
        "#print(model.feature_importances_)\n",
        "\n",
        "\n",
        "# create the RFE model \n",
        "rfe = RFE(model, 3)\n",
        "rfe = rfe.fit(X, y.values.ravel())\n",
        "# summarize the selection of the attributes\n",
        "#print(rfe.support_)\n",
        "print(\"\\n*****************************************\")\n",
        "print(\"** Printing CA all county data for Mild Decrement ** \")\n",
        "print(\"\\nFeatures with ranking:\\n\")\n",
        "for index in range(len(rfe.ranking_)):\n",
        "  print(feature_labels[index], rfe.ranking_[index])\n",
        "\n",
        "for index in range(len(rfe.ranking_)):\n",
        "  print( rfe.ranking_[index])\n",
        "#print(rfe.ranking_)\n",
        "#print(rfe.n_features_)\n",
        "#rfe.n_features_to_select\n"
      ],
      "execution_count": 152,
      "outputs": [
        {
          "output_type": "stream",
          "text": [
            "** Printing CA all county data for Mild Decrement ** \n",
            "(26, 20)\n"
          ],
          "name": "stdout"
        },
        {
          "output_type": "stream",
          "text": [
            "/usr/local/lib/python3.6/dist-packages/ipykernel_launcher.py:14: DataConversionWarning: A column-vector y was passed when a 1d array was expected. Please change the shape of y to (n_samples,), for example using ravel().\n",
            "  \n"
          ],
          "name": "stderr"
        },
        {
          "output_type": "stream",
          "text": [
            "('retail and recreation', 0.0)\n",
            "('grocery and pharmacy', 0.0)\n",
            "('parks', 0.0)\n",
            "('transit stations', 0.0)\n",
            "('workplaces', 0.0)\n",
            "('residential', 0.0)\n",
            "('driving', 0.0)\n",
            "('m50', 0.0)\n",
            "('m50_index', 0.0)\n",
            "('population_density', 0.0)\n",
            "('mask_rule_active', 0.0)\n"
          ],
          "name": "stdout"
        },
        {
          "output_type": "stream",
          "text": [
            "/usr/local/lib/python3.6/dist-packages/ipykernel_launcher.py:27: DataConversionWarning: A column-vector y was passed when a 1d array was expected. Please change the shape of y to (n_samples,), for example using ravel().\n"
          ],
          "name": "stderr"
        },
        {
          "output_type": "stream",
          "text": [
            "('retail and recreation', 0.0)\n",
            "('grocery and pharmacy', 0.0)\n",
            "('parks', 0.0)\n",
            "('transit stations', 0.0)\n",
            "('workplaces', 0.0)\n",
            "('residential', 0.0)\n",
            "('driving', 0.0)\n",
            "('m50', 0.0)\n",
            "('m50_index', 0.0)\n",
            "('population_density', 0.0)\n",
            "('mask_rule_active', 0.0)\n",
            "\n",
            "*****************************************\n",
            "** Printing CA all county data for Mild Decrement ** \n",
            "\n",
            "Features with ranking:\n",
            "\n",
            "retail and recreation 9\n",
            "grocery and pharmacy 8\n",
            "parks 7\n",
            "transit stations 6\n",
            "workplaces 5\n",
            "residential 4\n",
            "driving 3\n",
            "m50 2\n",
            "m50_index 1\n",
            "population_density 1\n",
            "mask_rule_active 1\n",
            "9\n",
            "8\n",
            "7\n",
            "6\n",
            "5\n",
            "4\n",
            "3\n",
            "2\n",
            "1\n",
            "1\n",
            "1\n"
          ],
          "name": "stdout"
        }
      ]
    },
    {
      "cell_type": "markdown",
      "metadata": {
        "id": "FE1-lVb7P3Bt"
      },
      "source": [
        "### 1.5 Label 4 : Mild Increment"
      ]
    },
    {
      "cell_type": "code",
      "metadata": {
        "id": "797O6ngCP3Bx",
        "outputId": "ac85f991-2e1c-407e-b3cd-dd43f4f28927",
        "colab": {
          "base_uri": "https://localhost:8080/",
          "height": 987
        }
      },
      "source": [
        "print(\"** Printing CA all county data for Mild Increment ** \")\n",
        "print(CA_labeled_data_growth4.shape)\n",
        "X = CA_labeled_data_growth4[feature_labels]\n",
        "y = CA_labeled_data_growth4[target_column]\n",
        "\n",
        "X_train, X_test, y_train, y_test = train_test_split(X, y, test_size=0.4, random_state=0)\n",
        "\n",
        "\n",
        "# Create a random forest classifier\n",
        "clf = RandomForestClassifier(n_estimators=10000, random_state=0, n_jobs=-1)\n",
        "\n",
        "# Train the classifier\n",
        "clf.fit(X_train, y_train)\n",
        "\n",
        "# Print the name and gini importance of each feature\n",
        "for feature in zip(feature_labels, clf.feature_importances_):\n",
        "    print(feature)\n",
        "\n",
        "\n",
        "\n",
        "#  Supported criteria are “gini” for the Gini impurity and “entropy” for the information gain. \n",
        "\n",
        "clf = RandomForestClassifier(n_estimators=10000, random_state=0,criterion='entropy', n_jobs=-1)\n",
        "\n",
        "# Train the classifier\n",
        "clf.fit(X_train, y_train)\n",
        "\n",
        "# Print the name and gini importance of each feature\n",
        "for feature in zip(feature_labels, clf.feature_importances_):\n",
        "    print(feature)\n",
        "\n",
        "\n",
        "model = ExtraTreesClassifier()\n",
        "model.fit(X, y.values.ravel())\n",
        "# display the relative importance of each attribute\n",
        "#print(model.feature_importances_)\n",
        "\n",
        "\n",
        "# create the RFE model \n",
        "rfe = RFE(model, 3)\n",
        "rfe = rfe.fit(X, y.values.ravel())\n",
        "# summarize the selection of the attributes\n",
        "#print(rfe.support_)\n",
        "print(\"\\n*****************************************\")\n",
        "print(\"** Printing CA all county data for Mild Increment ** \")\n",
        "print(\"\\nFeatures with ranking:\\n\")\n",
        "for index in range(len(rfe.ranking_)):\n",
        "  print(feature_labels[index], rfe.ranking_[index])\n",
        "\n",
        "\n",
        "for index in range(len(rfe.ranking_)):\n",
        "  print( rfe.ranking_[index])\n",
        "#print(rfe.ranking_)\n",
        "#print(rfe.n_features_)\n",
        "#rfe.n_features_to_select\n"
      ],
      "execution_count": 153,
      "outputs": [
        {
          "output_type": "stream",
          "text": [
            "** Printing CA all county data for Mild Increment ** \n",
            "(22, 20)\n"
          ],
          "name": "stdout"
        },
        {
          "output_type": "stream",
          "text": [
            "/usr/local/lib/python3.6/dist-packages/ipykernel_launcher.py:13: DataConversionWarning: A column-vector y was passed when a 1d array was expected. Please change the shape of y to (n_samples,), for example using ravel().\n",
            "  del sys.path[0]\n"
          ],
          "name": "stderr"
        },
        {
          "output_type": "stream",
          "text": [
            "('retail and recreation', 0.0)\n",
            "('grocery and pharmacy', 0.0)\n",
            "('parks', 0.0)\n",
            "('transit stations', 0.0)\n",
            "('workplaces', 0.0)\n",
            "('residential', 0.0)\n",
            "('driving', 0.0)\n",
            "('m50', 0.0)\n",
            "('m50_index', 0.0)\n",
            "('population_density', 0.0)\n",
            "('mask_rule_active', 0.0)\n"
          ],
          "name": "stdout"
        },
        {
          "output_type": "stream",
          "text": [
            "/usr/local/lib/python3.6/dist-packages/ipykernel_launcher.py:26: DataConversionWarning: A column-vector y was passed when a 1d array was expected. Please change the shape of y to (n_samples,), for example using ravel().\n"
          ],
          "name": "stderr"
        },
        {
          "output_type": "stream",
          "text": [
            "('retail and recreation', 0.0)\n",
            "('grocery and pharmacy', 0.0)\n",
            "('parks', 0.0)\n",
            "('transit stations', 0.0)\n",
            "('workplaces', 0.0)\n",
            "('residential', 0.0)\n",
            "('driving', 0.0)\n",
            "('m50', 0.0)\n",
            "('m50_index', 0.0)\n",
            "('population_density', 0.0)\n",
            "('mask_rule_active', 0.0)\n",
            "\n",
            "*****************************************\n",
            "** Printing CA all county data for Mild Increment ** \n",
            "\n",
            "Features with ranking:\n",
            "\n",
            "retail and recreation 9\n",
            "grocery and pharmacy 8\n",
            "parks 7\n",
            "transit stations 6\n",
            "workplaces 5\n",
            "residential 4\n",
            "driving 3\n",
            "m50 2\n",
            "m50_index 1\n",
            "population_density 1\n",
            "mask_rule_active 1\n",
            "9\n",
            "8\n",
            "7\n",
            "6\n",
            "5\n",
            "4\n",
            "3\n",
            "2\n",
            "1\n",
            "1\n",
            "1\n"
          ],
          "name": "stdout"
        }
      ]
    },
    {
      "cell_type": "markdown",
      "metadata": {
        "id": "CHlWXNITRYrh"
      },
      "source": [
        "## 2.CA Maryland Inertia Data"
      ]
    },
    {
      "cell_type": "code",
      "metadata": {
        "id": "6nuQBn_v2DCJ",
        "outputId": "dbc52e14-58f1-4053-d975-719955143636",
        "colab": {
          "base_uri": "https://localhost:8080/",
          "height": 52
        }
      },
      "source": [
        "pd.unique(CA_inertia_labeled_data[['growth_label', 'growth_code']].values.ravel())"
      ],
      "execution_count": 154,
      "outputs": [
        {
          "output_type": "execute_result",
          "data": {
            "text/plain": [
              "array(['drastic_decrement', 0, 'mild_decrement', 3, 'flat_growth', 2,\n",
              "       'mild_growth', 4, 'drastic_growth', 1], dtype=object)"
            ]
          },
          "metadata": {
            "tags": []
          },
          "execution_count": 154
        }
      ]
    },
    {
      "cell_type": "code",
      "metadata": {
        "id": "U8nLQP1VRYr3",
        "outputId": "dd21904d-9990-4845-fe1d-df3ec82708d2",
        "colab": {
          "base_uri": "https://localhost:8080/",
          "height": 104
        }
      },
      "source": [
        "CA_inertia_labeled_data_growth0 = CA_inertia_labeled_data[CA_inertia_labeled_data['growth_code'] == 0]\n",
        "CA_inertia_labeled_data_growth1 = CA_inertia_labeled_data[CA_inertia_labeled_data['growth_code'] == 1]\n",
        "CA_inertia_labeled_data_growth2 = CA_inertia_labeled_data[CA_inertia_labeled_data['growth_code'] == 2]\n",
        "CA_inertia_labeled_data_growth3 = CA_inertia_labeled_data[CA_inertia_labeled_data['growth_code'] == 3]\n",
        "CA_inertia_labeled_data_growth4 = CA_inertia_labeled_data[CA_inertia_labeled_data['growth_code'] == 4]\n",
        "\n",
        "print(CA_inertia_labeled_data_growth0.shape)\n",
        "print(CA_inertia_labeled_data_growth1.shape)\n",
        "print(CA_inertia_labeled_data_growth2.shape)\n",
        "print(CA_inertia_labeled_data_growth3.shape)\n",
        "print(CA_inertia_labeled_data_growth4.shape)"
      ],
      "execution_count": 155,
      "outputs": [
        {
          "output_type": "stream",
          "text": [
            "(73, 55)\n",
            "(64, 55)\n",
            "(23, 55)\n",
            "(23, 55)\n",
            "(29, 55)\n"
          ],
          "name": "stdout"
        }
      ]
    },
    {
      "cell_type": "code",
      "metadata": {
        "id": "Z714MrhXS_6M"
      },
      "source": [
        "inertia_feature_labels = [ 'mask_rule_active',\n",
        "         'Social distancing index',\n",
        "       '% staying home', 'Trips/person', '% out-of-county trips',\n",
        "       '% out-of-state trips', 'Miles/person', 'Work trips/person',\n",
        "       'Non-work trips/person',  'Population',\n",
        "       '% change in consumption', 'Transit mode share',\n",
        "       '% people older than 60', 'Median income', '% African Americans',\n",
        "       '% Hispanic Americans', '% Male', 'Population density',\n",
        "       'Employment density', '# hot spots/1000 people',\n",
        "       'Hospital beds/1000 people', 'ICUs/1000 people',\n",
        "       '# contact tracing workers/1000 people',\n",
        "       '# contact tracing workers/1000 people rank',\n",
        "       '% people older than 60 rank', 'COVID exposure/1000 people',\n",
        "       'Unemployment claims/1000 people', 'Unemployment rate',\n",
        "       '% working from home', 'Cumulative inflation rate',\n",
        "       '% hospital bed utilization', 'Testing capacity',\n",
        "       'Tests done/1000 people', '% ICU utilization', 'Ventilator shortage']\n",
        "\n",
        "inertia_target_column = ['growth_code']"
      ],
      "execution_count": 158,
      "outputs": []
    },
    {
      "cell_type": "markdown",
      "metadata": {
        "id": "rzleeRVqRYsG"
      },
      "source": [
        "### 2.1 Label 0 : Drastic Decrement"
      ]
    },
    {
      "cell_type": "code",
      "metadata": {
        "id": "P6ZtBujTRYsH",
        "outputId": "31b45b25-bdd8-43f8-d58f-ca0285e0f617",
        "colab": {
          "base_uri": "https://localhost:8080/",
          "height": 1000
        }
      },
      "source": [
        "\n",
        "print(\"** Printing CA inertia all county data for Drastic Decrement ** \")\n",
        "print(CA_inertia_labeled_data_growth0.shape)\n",
        "X = CA_inertia_labeled_data_growth0[inertia_feature_labels]\n",
        "y = CA_inertia_labeled_data_growth0[inertia_target_column]\n",
        "\n",
        "X_train, X_test, y_train, y_test = train_test_split(X, y, test_size=0.4, random_state=0)\n",
        "\n",
        "\n",
        "# Create a random forest classifier\n",
        "clf = RandomForestClassifier(n_estimators=10000, random_state=0, n_jobs=-1)\n",
        "\n",
        "# Train the classifier\n",
        "clf.fit(X_train, y_train)\n",
        "\n",
        "# Print the name and gini importance of each feature\n",
        "for feature in zip(inertia_feature_labels, clf.feature_importances_):\n",
        "    print(feature)\n",
        "\n",
        "\n",
        "\n",
        "#  Supported criteria are “gini” for the Gini impurity and “entropy” for the information gain. \n",
        "\n",
        "clf = RandomForestClassifier(n_estimators=10000, random_state=0,criterion='entropy', n_jobs=-1)\n",
        "\n",
        "# Train the classifier\n",
        "clf.fit(X_train, y_train)\n",
        "\n",
        "# Print the name and gini importance of each feature\n",
        "for feature in zip(inertia_feature_labels, clf.feature_importances_):\n",
        "    print(feature)\n",
        "\n",
        "\n",
        "model = ExtraTreesClassifier()\n",
        "model.fit(X, y.values.ravel())\n",
        "# display the relative importance of each attribute\n",
        "#print(model.feature_importances_)\n",
        "\n",
        "\n",
        "# create the RFE model \n",
        "rfe = RFE(model, 3)\n",
        "rfe = rfe.fit(X, y.values.ravel())\n",
        "# summarize the selection of the attributes\n",
        "#print(rfe.support_)\n",
        "\n",
        "print(\"\\nFeatures with ranking:\\n\")\n",
        "for index in range(len(rfe.ranking_)):\n",
        "  print(inertia_feature_labels[index], rfe.ranking_[index])\n",
        "\n",
        "for index in range(len(rfe.ranking_)):\n",
        "  print( rfe.ranking_[index])\n",
        "#print(rfe.ranking_)\n",
        "#print(rfe.n_features_)\n",
        "#rfe.n_features_to_select\n"
      ],
      "execution_count": 159,
      "outputs": [
        {
          "output_type": "stream",
          "text": [
            "** Printing CA inertia all county data for Drastic Decrement ** \n",
            "(73, 55)\n"
          ],
          "name": "stdout"
        },
        {
          "output_type": "stream",
          "text": [
            "/usr/local/lib/python3.6/dist-packages/ipykernel_launcher.py:14: DataConversionWarning: A column-vector y was passed when a 1d array was expected. Please change the shape of y to (n_samples,), for example using ravel().\n",
            "  \n"
          ],
          "name": "stderr"
        },
        {
          "output_type": "stream",
          "text": [
            "('mask_rule_active', 0.0)\n",
            "('Social distancing index', 0.0)\n",
            "('% staying home', 0.0)\n",
            "('Trips/person', 0.0)\n",
            "('% out-of-county trips', 0.0)\n",
            "('% out-of-state trips', 0.0)\n",
            "('Miles/person', 0.0)\n",
            "('Work trips/person', 0.0)\n",
            "('Non-work trips/person', 0.0)\n",
            "('Population', 0.0)\n",
            "('% change in consumption', 0.0)\n",
            "('Transit mode share', 0.0)\n",
            "('% people older than 60', 0.0)\n",
            "('Median income', 0.0)\n",
            "('% African Americans', 0.0)\n",
            "('% Hispanic Americans', 0.0)\n",
            "('% Male', 0.0)\n",
            "('Population density', 0.0)\n",
            "('Employment density', 0.0)\n",
            "('# hot spots/1000 people', 0.0)\n",
            "('Hospital beds/1000 people', 0.0)\n",
            "('ICUs/1000 people', 0.0)\n",
            "('# contact tracing workers/1000 people', 0.0)\n",
            "('# contact tracing workers/1000 people rank', 0.0)\n",
            "('% people older than 60 rank', 0.0)\n",
            "('COVID exposure/1000 people', 0.0)\n",
            "('Unemployment claims/1000 people', 0.0)\n",
            "('Unemployment rate', 0.0)\n",
            "('% working from home', 0.0)\n",
            "('Cumulative inflation rate', 0.0)\n",
            "('% hospital bed utilization', 0.0)\n",
            "('Testing capacity', 0.0)\n",
            "('Tests done/1000 people', 0.0)\n",
            "('% ICU utilization', 0.0)\n",
            "('Ventilator shortage', 0.0)\n"
          ],
          "name": "stdout"
        },
        {
          "output_type": "stream",
          "text": [
            "/usr/local/lib/python3.6/dist-packages/ipykernel_launcher.py:27: DataConversionWarning: A column-vector y was passed when a 1d array was expected. Please change the shape of y to (n_samples,), for example using ravel().\n"
          ],
          "name": "stderr"
        },
        {
          "output_type": "stream",
          "text": [
            "('mask_rule_active', 0.0)\n",
            "('Social distancing index', 0.0)\n",
            "('% staying home', 0.0)\n",
            "('Trips/person', 0.0)\n",
            "('% out-of-county trips', 0.0)\n",
            "('% out-of-state trips', 0.0)\n",
            "('Miles/person', 0.0)\n",
            "('Work trips/person', 0.0)\n",
            "('Non-work trips/person', 0.0)\n",
            "('Population', 0.0)\n",
            "('% change in consumption', 0.0)\n",
            "('Transit mode share', 0.0)\n",
            "('% people older than 60', 0.0)\n",
            "('Median income', 0.0)\n",
            "('% African Americans', 0.0)\n",
            "('% Hispanic Americans', 0.0)\n",
            "('% Male', 0.0)\n",
            "('Population density', 0.0)\n",
            "('Employment density', 0.0)\n",
            "('# hot spots/1000 people', 0.0)\n",
            "('Hospital beds/1000 people', 0.0)\n",
            "('ICUs/1000 people', 0.0)\n",
            "('# contact tracing workers/1000 people', 0.0)\n",
            "('# contact tracing workers/1000 people rank', 0.0)\n",
            "('% people older than 60 rank', 0.0)\n",
            "('COVID exposure/1000 people', 0.0)\n",
            "('Unemployment claims/1000 people', 0.0)\n",
            "('Unemployment rate', 0.0)\n",
            "('% working from home', 0.0)\n",
            "('Cumulative inflation rate', 0.0)\n",
            "('% hospital bed utilization', 0.0)\n",
            "('Testing capacity', 0.0)\n",
            "('Tests done/1000 people', 0.0)\n",
            "('% ICU utilization', 0.0)\n",
            "('Ventilator shortage', 0.0)\n",
            "\n",
            "Features with ranking:\n",
            "\n",
            "mask_rule_active 33\n",
            "Social distancing index 32\n",
            "% staying home 31\n",
            "Trips/person 30\n",
            "% out-of-county trips 29\n",
            "% out-of-state trips 28\n",
            "Miles/person 27\n",
            "Work trips/person 26\n",
            "Non-work trips/person 25\n",
            "Population 24\n",
            "% change in consumption 23\n",
            "Transit mode share 22\n",
            "% people older than 60 21\n",
            "Median income 20\n",
            "% African Americans 19\n",
            "% Hispanic Americans 18\n",
            "% Male 17\n",
            "Population density 16\n",
            "Employment density 15\n",
            "# hot spots/1000 people 14\n",
            "Hospital beds/1000 people 13\n",
            "ICUs/1000 people 12\n",
            "# contact tracing workers/1000 people 11\n",
            "# contact tracing workers/1000 people rank 10\n",
            "% people older than 60 rank 9\n",
            "COVID exposure/1000 people 8\n",
            "Unemployment claims/1000 people 7\n",
            "Unemployment rate 6\n",
            "% working from home 5\n",
            "Cumulative inflation rate 4\n",
            "% hospital bed utilization 3\n",
            "Testing capacity 2\n",
            "Tests done/1000 people 1\n",
            "% ICU utilization 1\n",
            "Ventilator shortage 1\n",
            "33\n",
            "32\n",
            "31\n",
            "30\n",
            "29\n",
            "28\n",
            "27\n",
            "26\n",
            "25\n",
            "24\n",
            "23\n",
            "22\n",
            "21\n",
            "20\n",
            "19\n",
            "18\n",
            "17\n",
            "16\n",
            "15\n",
            "14\n",
            "13\n",
            "12\n",
            "11\n",
            "10\n",
            "9\n",
            "8\n",
            "7\n",
            "6\n",
            "5\n",
            "4\n",
            "3\n",
            "2\n",
            "1\n",
            "1\n",
            "1\n"
          ],
          "name": "stdout"
        }
      ]
    },
    {
      "cell_type": "markdown",
      "metadata": {
        "id": "Bu6s7kbNRYsM"
      },
      "source": [
        "### 2.2 Label 1 : Drastic Growth"
      ]
    },
    {
      "cell_type": "code",
      "metadata": {
        "id": "y1Z9vm4dRYsN",
        "outputId": "a94bf92e-0c4e-452e-936c-60ead48f8529",
        "colab": {
          "base_uri": "https://localhost:8080/",
          "height": 1000
        }
      },
      "source": [
        "\n",
        "print(\"** Printing CA_inertia all county data for Drastic Growth ** \")\n",
        "print(CA_inertia_labeled_data_growth1.shape)\n",
        "X = CA_inertia_labeled_data_growth1[inertia_feature_labels]\n",
        "y = CA_inertia_labeled_data_growth1[inertia_target_column]\n",
        "\n",
        "X_train, X_test, y_train, y_test = train_test_split(X, y, test_size=0.4, random_state=0)\n",
        "\n",
        "\n",
        "# Create a random forest classifier\n",
        "clf = RandomForestClassifier(n_estimators=10000, random_state=0, n_jobs=-1)\n",
        "\n",
        "# Train the classifier\n",
        "clf.fit(X_train, y_train)\n",
        "\n",
        "# Print the name and gini importance of each feature\n",
        "for feature in zip(inertia_feature_labels, clf.feature_importances_):\n",
        "    print(feature)\n",
        "\n",
        "\n",
        "\n",
        "#  Supported criteria are “gini” for the Gini impurity and “entropy” for the information gain. \n",
        "\n",
        "clf = RandomForestClassifier(n_estimators=10000, random_state=0,criterion='entropy', n_jobs=-1)\n",
        "\n",
        "# Train the classifier\n",
        "clf.fit(X_train, y_train)\n",
        "\n",
        "# Print the name and gini importance of each feature\n",
        "for feature in zip(inertia_feature_labels, clf.feature_importances_):\n",
        "    print(feature)\n",
        "\n",
        "\n",
        "model = ExtraTreesClassifier()\n",
        "model.fit(X, y.values.ravel())\n",
        "# display the relative importance of each attribute\n",
        "#print(model.feature_importances_)\n",
        "\n",
        "\n",
        "# create the RFE model \n",
        "rfe = RFE(model, 3)\n",
        "rfe = rfe.fit(X, y.values.ravel())\n",
        "# summarize the selection of the attributes\n",
        "#print(rfe.support_)\n",
        "print(\"\\n*****************************************\")\n",
        "print(\"** Printing CA_inertia all county data for Drastic Growth ** \")\n",
        "print(\"\\nFeatures with ranking:\\n\")\n",
        "for index in range(len(rfe.ranking_)):\n",
        "  print(inertia_feature_labels[index], rfe.ranking_[index])\n",
        "\n",
        "for index in range(len(rfe.ranking_)):\n",
        "  print( rfe.ranking_[index])\n",
        "#print(rfe.ranking_)\n",
        "#print(rfe.n_features_)\n",
        "#rfe.n_features_to_select\n"
      ],
      "execution_count": 160,
      "outputs": [
        {
          "output_type": "stream",
          "text": [
            "** Printing CA_inertia all county data for Drastic Growth ** \n",
            "(64, 55)\n"
          ],
          "name": "stdout"
        },
        {
          "output_type": "stream",
          "text": [
            "/usr/local/lib/python3.6/dist-packages/ipykernel_launcher.py:14: DataConversionWarning: A column-vector y was passed when a 1d array was expected. Please change the shape of y to (n_samples,), for example using ravel().\n",
            "  \n"
          ],
          "name": "stderr"
        },
        {
          "output_type": "stream",
          "text": [
            "('mask_rule_active', 0.0)\n",
            "('Social distancing index', 0.0)\n",
            "('% staying home', 0.0)\n",
            "('Trips/person', 0.0)\n",
            "('% out-of-county trips', 0.0)\n",
            "('% out-of-state trips', 0.0)\n",
            "('Miles/person', 0.0)\n",
            "('Work trips/person', 0.0)\n",
            "('Non-work trips/person', 0.0)\n",
            "('Population', 0.0)\n",
            "('% change in consumption', 0.0)\n",
            "('Transit mode share', 0.0)\n",
            "('% people older than 60', 0.0)\n",
            "('Median income', 0.0)\n",
            "('% African Americans', 0.0)\n",
            "('% Hispanic Americans', 0.0)\n",
            "('% Male', 0.0)\n",
            "('Population density', 0.0)\n",
            "('Employment density', 0.0)\n",
            "('# hot spots/1000 people', 0.0)\n",
            "('Hospital beds/1000 people', 0.0)\n",
            "('ICUs/1000 people', 0.0)\n",
            "('# contact tracing workers/1000 people', 0.0)\n",
            "('# contact tracing workers/1000 people rank', 0.0)\n",
            "('% people older than 60 rank', 0.0)\n",
            "('COVID exposure/1000 people', 0.0)\n",
            "('Unemployment claims/1000 people', 0.0)\n",
            "('Unemployment rate', 0.0)\n",
            "('% working from home', 0.0)\n",
            "('Cumulative inflation rate', 0.0)\n",
            "('% hospital bed utilization', 0.0)\n",
            "('Testing capacity', 0.0)\n",
            "('Tests done/1000 people', 0.0)\n",
            "('% ICU utilization', 0.0)\n",
            "('Ventilator shortage', 0.0)\n"
          ],
          "name": "stdout"
        },
        {
          "output_type": "stream",
          "text": [
            "/usr/local/lib/python3.6/dist-packages/ipykernel_launcher.py:27: DataConversionWarning: A column-vector y was passed when a 1d array was expected. Please change the shape of y to (n_samples,), for example using ravel().\n"
          ],
          "name": "stderr"
        },
        {
          "output_type": "stream",
          "text": [
            "('mask_rule_active', 0.0)\n",
            "('Social distancing index', 0.0)\n",
            "('% staying home', 0.0)\n",
            "('Trips/person', 0.0)\n",
            "('% out-of-county trips', 0.0)\n",
            "('% out-of-state trips', 0.0)\n",
            "('Miles/person', 0.0)\n",
            "('Work trips/person', 0.0)\n",
            "('Non-work trips/person', 0.0)\n",
            "('Population', 0.0)\n",
            "('% change in consumption', 0.0)\n",
            "('Transit mode share', 0.0)\n",
            "('% people older than 60', 0.0)\n",
            "('Median income', 0.0)\n",
            "('% African Americans', 0.0)\n",
            "('% Hispanic Americans', 0.0)\n",
            "('% Male', 0.0)\n",
            "('Population density', 0.0)\n",
            "('Employment density', 0.0)\n",
            "('# hot spots/1000 people', 0.0)\n",
            "('Hospital beds/1000 people', 0.0)\n",
            "('ICUs/1000 people', 0.0)\n",
            "('# contact tracing workers/1000 people', 0.0)\n",
            "('# contact tracing workers/1000 people rank', 0.0)\n",
            "('% people older than 60 rank', 0.0)\n",
            "('COVID exposure/1000 people', 0.0)\n",
            "('Unemployment claims/1000 people', 0.0)\n",
            "('Unemployment rate', 0.0)\n",
            "('% working from home', 0.0)\n",
            "('Cumulative inflation rate', 0.0)\n",
            "('% hospital bed utilization', 0.0)\n",
            "('Testing capacity', 0.0)\n",
            "('Tests done/1000 people', 0.0)\n",
            "('% ICU utilization', 0.0)\n",
            "('Ventilator shortage', 0.0)\n",
            "\n",
            "*****************************************\n",
            "** Printing CA_inertia all county data for Drastic Growth ** \n",
            "\n",
            "Features with ranking:\n",
            "\n",
            "mask_rule_active 33\n",
            "Social distancing index 32\n",
            "% staying home 31\n",
            "Trips/person 30\n",
            "% out-of-county trips 29\n",
            "% out-of-state trips 28\n",
            "Miles/person 27\n",
            "Work trips/person 26\n",
            "Non-work trips/person 25\n",
            "Population 24\n",
            "% change in consumption 23\n",
            "Transit mode share 22\n",
            "% people older than 60 21\n",
            "Median income 20\n",
            "% African Americans 19\n",
            "% Hispanic Americans 18\n",
            "% Male 17\n",
            "Population density 16\n",
            "Employment density 15\n",
            "# hot spots/1000 people 14\n",
            "Hospital beds/1000 people 13\n",
            "ICUs/1000 people 12\n",
            "# contact tracing workers/1000 people 11\n",
            "# contact tracing workers/1000 people rank 10\n",
            "% people older than 60 rank 9\n",
            "COVID exposure/1000 people 8\n",
            "Unemployment claims/1000 people 7\n",
            "Unemployment rate 6\n",
            "% working from home 5\n",
            "Cumulative inflation rate 4\n",
            "% hospital bed utilization 3\n",
            "Testing capacity 2\n",
            "Tests done/1000 people 1\n",
            "% ICU utilization 1\n",
            "Ventilator shortage 1\n",
            "33\n",
            "32\n",
            "31\n",
            "30\n",
            "29\n",
            "28\n",
            "27\n",
            "26\n",
            "25\n",
            "24\n",
            "23\n",
            "22\n",
            "21\n",
            "20\n",
            "19\n",
            "18\n",
            "17\n",
            "16\n",
            "15\n",
            "14\n",
            "13\n",
            "12\n",
            "11\n",
            "10\n",
            "9\n",
            "8\n",
            "7\n",
            "6\n",
            "5\n",
            "4\n",
            "3\n",
            "2\n",
            "1\n",
            "1\n",
            "1\n"
          ],
          "name": "stdout"
        }
      ]
    },
    {
      "cell_type": "markdown",
      "metadata": {
        "id": "narY7dQhRYsR"
      },
      "source": [
        "### 2.3 Label 2 : Flat Growth"
      ]
    },
    {
      "cell_type": "code",
      "metadata": {
        "id": "-70zT7LFRYsS",
        "outputId": "c0a4f47e-603d-4b78-8972-92a1c0a74d04",
        "colab": {
          "base_uri": "https://localhost:8080/",
          "height": 1000
        }
      },
      "source": [
        "\n",
        "print(\"** Printing CA_inertia all county data for Flat Growth ** \")\n",
        "print(CA_inertia_labeled_data_growth2.shape)\n",
        "X = CA_inertia_labeled_data_growth2[inertia_feature_labels]\n",
        "y = CA_inertia_labeled_data_growth2[inertia_target_column]\n",
        "\n",
        "X_train, X_test, y_train, y_test = train_test_split(X, y, test_size=0.4, random_state=0)\n",
        "\n",
        "\n",
        "# Create a random forest classifier\n",
        "clf = RandomForestClassifier(n_estimators=10000, random_state=0, n_jobs=-1)\n",
        "\n",
        "# Train the classifier\n",
        "clf.fit(X_train, y_train)\n",
        "\n",
        "# Print the name and gini importance of each feature\n",
        "for feature in zip(inertia_feature_labels, clf.feature_importances_):\n",
        "    print(feature)\n",
        "\n",
        "\n",
        "\n",
        "#  Supported criteria are “gini” for the Gini impurity and “entropy” for the information gain. \n",
        "\n",
        "clf = RandomForestClassifier(n_estimators=10000, random_state=0,criterion='entropy', n_jobs=-1)\n",
        "\n",
        "# Train the classifier\n",
        "clf.fit(X_train, y_train)\n",
        "\n",
        "# Print the name and gini importance of each feature\n",
        "for feature in zip(inertia_feature_labels, clf.feature_importances_):\n",
        "    print(feature)\n",
        "\n",
        "\n",
        "model = ExtraTreesClassifier()\n",
        "model.fit(X, y.values.ravel())\n",
        "# display the relative importance of each attribute\n",
        "#print(model.feature_importances_)\n",
        "\n",
        "\n",
        "# create the RFE model \n",
        "rfe = RFE(model, 3)\n",
        "rfe = rfe.fit(X, y.values.ravel())\n",
        "# summarize the selection of the attributes\n",
        "#print(rfe.support_)\n",
        "print(\"\\n*****************************************\")\n",
        "print(\"** Printing CA_inertia all county data for Flat Growth ** \")\n",
        "print(\"\\nFeatures with ranking:\\n\")\n",
        "for index in range(len(rfe.ranking_)):\n",
        "  print(inertia_feature_labels[index], rfe.ranking_[index])\n",
        "\n",
        "for index in range(len(rfe.ranking_)):\n",
        "  print(rfe.ranking_[index])\n",
        "#print(rfe.ranking_)\n",
        "#print(rfe.n_features_)\n",
        "#rfe.n_features_to_select\n"
      ],
      "execution_count": 161,
      "outputs": [
        {
          "output_type": "stream",
          "text": [
            "** Printing CA_inertia all county data for Flat Growth ** \n",
            "(23, 55)\n"
          ],
          "name": "stdout"
        },
        {
          "output_type": "stream",
          "text": [
            "/usr/local/lib/python3.6/dist-packages/ipykernel_launcher.py:14: DataConversionWarning: A column-vector y was passed when a 1d array was expected. Please change the shape of y to (n_samples,), for example using ravel().\n",
            "  \n"
          ],
          "name": "stderr"
        },
        {
          "output_type": "stream",
          "text": [
            "('mask_rule_active', 0.0)\n",
            "('Social distancing index', 0.0)\n",
            "('% staying home', 0.0)\n",
            "('Trips/person', 0.0)\n",
            "('% out-of-county trips', 0.0)\n",
            "('% out-of-state trips', 0.0)\n",
            "('Miles/person', 0.0)\n",
            "('Work trips/person', 0.0)\n",
            "('Non-work trips/person', 0.0)\n",
            "('Population', 0.0)\n",
            "('% change in consumption', 0.0)\n",
            "('Transit mode share', 0.0)\n",
            "('% people older than 60', 0.0)\n",
            "('Median income', 0.0)\n",
            "('% African Americans', 0.0)\n",
            "('% Hispanic Americans', 0.0)\n",
            "('% Male', 0.0)\n",
            "('Population density', 0.0)\n",
            "('Employment density', 0.0)\n",
            "('# hot spots/1000 people', 0.0)\n",
            "('Hospital beds/1000 people', 0.0)\n",
            "('ICUs/1000 people', 0.0)\n",
            "('# contact tracing workers/1000 people', 0.0)\n",
            "('# contact tracing workers/1000 people rank', 0.0)\n",
            "('% people older than 60 rank', 0.0)\n",
            "('COVID exposure/1000 people', 0.0)\n",
            "('Unemployment claims/1000 people', 0.0)\n",
            "('Unemployment rate', 0.0)\n",
            "('% working from home', 0.0)\n",
            "('Cumulative inflation rate', 0.0)\n",
            "('% hospital bed utilization', 0.0)\n",
            "('Testing capacity', 0.0)\n",
            "('Tests done/1000 people', 0.0)\n",
            "('% ICU utilization', 0.0)\n",
            "('Ventilator shortage', 0.0)\n"
          ],
          "name": "stdout"
        },
        {
          "output_type": "stream",
          "text": [
            "/usr/local/lib/python3.6/dist-packages/ipykernel_launcher.py:27: DataConversionWarning: A column-vector y was passed when a 1d array was expected. Please change the shape of y to (n_samples,), for example using ravel().\n"
          ],
          "name": "stderr"
        },
        {
          "output_type": "stream",
          "text": [
            "('mask_rule_active', 0.0)\n",
            "('Social distancing index', 0.0)\n",
            "('% staying home', 0.0)\n",
            "('Trips/person', 0.0)\n",
            "('% out-of-county trips', 0.0)\n",
            "('% out-of-state trips', 0.0)\n",
            "('Miles/person', 0.0)\n",
            "('Work trips/person', 0.0)\n",
            "('Non-work trips/person', 0.0)\n",
            "('Population', 0.0)\n",
            "('% change in consumption', 0.0)\n",
            "('Transit mode share', 0.0)\n",
            "('% people older than 60', 0.0)\n",
            "('Median income', 0.0)\n",
            "('% African Americans', 0.0)\n",
            "('% Hispanic Americans', 0.0)\n",
            "('% Male', 0.0)\n",
            "('Population density', 0.0)\n",
            "('Employment density', 0.0)\n",
            "('# hot spots/1000 people', 0.0)\n",
            "('Hospital beds/1000 people', 0.0)\n",
            "('ICUs/1000 people', 0.0)\n",
            "('# contact tracing workers/1000 people', 0.0)\n",
            "('# contact tracing workers/1000 people rank', 0.0)\n",
            "('% people older than 60 rank', 0.0)\n",
            "('COVID exposure/1000 people', 0.0)\n",
            "('Unemployment claims/1000 people', 0.0)\n",
            "('Unemployment rate', 0.0)\n",
            "('% working from home', 0.0)\n",
            "('Cumulative inflation rate', 0.0)\n",
            "('% hospital bed utilization', 0.0)\n",
            "('Testing capacity', 0.0)\n",
            "('Tests done/1000 people', 0.0)\n",
            "('% ICU utilization', 0.0)\n",
            "('Ventilator shortage', 0.0)\n",
            "\n",
            "*****************************************\n",
            "** Printing CA_inertia all county data for Flat Growth ** \n",
            "\n",
            "Features with ranking:\n",
            "\n",
            "mask_rule_active 33\n",
            "Social distancing index 32\n",
            "% staying home 31\n",
            "Trips/person 30\n",
            "% out-of-county trips 29\n",
            "% out-of-state trips 28\n",
            "Miles/person 27\n",
            "Work trips/person 26\n",
            "Non-work trips/person 25\n",
            "Population 24\n",
            "% change in consumption 23\n",
            "Transit mode share 22\n",
            "% people older than 60 21\n",
            "Median income 20\n",
            "% African Americans 19\n",
            "% Hispanic Americans 18\n",
            "% Male 17\n",
            "Population density 16\n",
            "Employment density 15\n",
            "# hot spots/1000 people 14\n",
            "Hospital beds/1000 people 13\n",
            "ICUs/1000 people 12\n",
            "# contact tracing workers/1000 people 11\n",
            "# contact tracing workers/1000 people rank 10\n",
            "% people older than 60 rank 9\n",
            "COVID exposure/1000 people 8\n",
            "Unemployment claims/1000 people 7\n",
            "Unemployment rate 6\n",
            "% working from home 5\n",
            "Cumulative inflation rate 4\n",
            "% hospital bed utilization 3\n",
            "Testing capacity 2\n",
            "Tests done/1000 people 1\n",
            "% ICU utilization 1\n",
            "Ventilator shortage 1\n",
            "33\n",
            "32\n",
            "31\n",
            "30\n",
            "29\n",
            "28\n",
            "27\n",
            "26\n",
            "25\n",
            "24\n",
            "23\n",
            "22\n",
            "21\n",
            "20\n",
            "19\n",
            "18\n",
            "17\n",
            "16\n",
            "15\n",
            "14\n",
            "13\n",
            "12\n",
            "11\n",
            "10\n",
            "9\n",
            "8\n",
            "7\n",
            "6\n",
            "5\n",
            "4\n",
            "3\n",
            "2\n",
            "1\n",
            "1\n",
            "1\n"
          ],
          "name": "stdout"
        }
      ]
    },
    {
      "cell_type": "markdown",
      "metadata": {
        "id": "W_bQsAGgRYsW"
      },
      "source": [
        "### 2.4 Label 3 : Mild Decrement"
      ]
    },
    {
      "cell_type": "code",
      "metadata": {
        "id": "iXYuipO2RYsX",
        "outputId": "5cf54810-c1e4-4f16-b301-95aed218af6b",
        "colab": {
          "base_uri": "https://localhost:8080/",
          "height": 1000
        }
      },
      "source": [
        "\n",
        "print(\"** Printing CA_inertia all county data for Mild Decrement ** \")\n",
        "print(CA_inertia_labeled_data_growth3.shape)\n",
        "X = CA_inertia_labeled_data_growth3[inertia_feature_labels]\n",
        "y = CA_inertia_labeled_data_growth3[inertia_target_column]\n",
        "\n",
        "X_train, X_test, y_train, y_test = train_test_split(X, y, test_size=0.4, random_state=0)\n",
        "\n",
        "\n",
        "# Create a random forest classifier\n",
        "clf = RandomForestClassifier(n_estimators=10000, random_state=0, n_jobs=-1)\n",
        "\n",
        "# Train the classifier\n",
        "clf.fit(X_train, y_train)\n",
        "\n",
        "# Print the name and gini importance of each feature\n",
        "for feature in zip(inertia_feature_labels, clf.feature_importances_):\n",
        "    print(feature)\n",
        "\n",
        "\n",
        "\n",
        "#  Supported criteria are “gini” for the Gini impurity and “entropy” for the information gain. \n",
        "\n",
        "clf = RandomForestClassifier(n_estimators=10000, random_state=0,criterion='entropy', n_jobs=-1)\n",
        "\n",
        "# Train the classifier\n",
        "clf.fit(X_train, y_train)\n",
        "\n",
        "# Print the name and gini importance of each feature\n",
        "for feature in zip(inertia_feature_labels, clf.feature_importances_):\n",
        "    print(feature)\n",
        "\n",
        "\n",
        "model = ExtraTreesClassifier()\n",
        "model.fit(X, y.values.ravel())\n",
        "# display the relative importance of each attribute\n",
        "#print(model.feature_importances_)\n",
        "\n",
        "\n",
        "# create the RFE model \n",
        "rfe = RFE(model, 3)\n",
        "rfe = rfe.fit(X, y.values.ravel())\n",
        "# summarize the selection of the attributes\n",
        "#print(rfe.support_)\n",
        "print(\"\\n*****************************************\")\n",
        "print(\"** Printing CA_inertia all county data for Mild Decrement ** \")\n",
        "print(\"\\nFeatures with ranking:\\n\")\n",
        "for index in range(len(rfe.ranking_)):\n",
        "  print(inertia_feature_labels[index], rfe.ranking_[index])\n",
        "\n",
        "\n",
        "for index in range(len(rfe.ranking_)):\n",
        "  print(rfe.ranking_[index])\n",
        "#print(rfe.ranking_)\n",
        "#print(rfe.n_features_)\n",
        "#rfe.n_features_to_select\n"
      ],
      "execution_count": 162,
      "outputs": [
        {
          "output_type": "stream",
          "text": [
            "** Printing CA_inertia all county data for Mild Decrement ** \n",
            "(23, 55)\n"
          ],
          "name": "stdout"
        },
        {
          "output_type": "stream",
          "text": [
            "/usr/local/lib/python3.6/dist-packages/ipykernel_launcher.py:14: DataConversionWarning: A column-vector y was passed when a 1d array was expected. Please change the shape of y to (n_samples,), for example using ravel().\n",
            "  \n"
          ],
          "name": "stderr"
        },
        {
          "output_type": "stream",
          "text": [
            "('mask_rule_active', 0.0)\n",
            "('Social distancing index', 0.0)\n",
            "('% staying home', 0.0)\n",
            "('Trips/person', 0.0)\n",
            "('% out-of-county trips', 0.0)\n",
            "('% out-of-state trips', 0.0)\n",
            "('Miles/person', 0.0)\n",
            "('Work trips/person', 0.0)\n",
            "('Non-work trips/person', 0.0)\n",
            "('Population', 0.0)\n",
            "('% change in consumption', 0.0)\n",
            "('Transit mode share', 0.0)\n",
            "('% people older than 60', 0.0)\n",
            "('Median income', 0.0)\n",
            "('% African Americans', 0.0)\n",
            "('% Hispanic Americans', 0.0)\n",
            "('% Male', 0.0)\n",
            "('Population density', 0.0)\n",
            "('Employment density', 0.0)\n",
            "('# hot spots/1000 people', 0.0)\n",
            "('Hospital beds/1000 people', 0.0)\n",
            "('ICUs/1000 people', 0.0)\n",
            "('# contact tracing workers/1000 people', 0.0)\n",
            "('# contact tracing workers/1000 people rank', 0.0)\n",
            "('% people older than 60 rank', 0.0)\n",
            "('COVID exposure/1000 people', 0.0)\n",
            "('Unemployment claims/1000 people', 0.0)\n",
            "('Unemployment rate', 0.0)\n",
            "('% working from home', 0.0)\n",
            "('Cumulative inflation rate', 0.0)\n",
            "('% hospital bed utilization', 0.0)\n",
            "('Testing capacity', 0.0)\n",
            "('Tests done/1000 people', 0.0)\n",
            "('% ICU utilization', 0.0)\n",
            "('Ventilator shortage', 0.0)\n"
          ],
          "name": "stdout"
        },
        {
          "output_type": "stream",
          "text": [
            "/usr/local/lib/python3.6/dist-packages/ipykernel_launcher.py:27: DataConversionWarning: A column-vector y was passed when a 1d array was expected. Please change the shape of y to (n_samples,), for example using ravel().\n"
          ],
          "name": "stderr"
        },
        {
          "output_type": "stream",
          "text": [
            "('mask_rule_active', 0.0)\n",
            "('Social distancing index', 0.0)\n",
            "('% staying home', 0.0)\n",
            "('Trips/person', 0.0)\n",
            "('% out-of-county trips', 0.0)\n",
            "('% out-of-state trips', 0.0)\n",
            "('Miles/person', 0.0)\n",
            "('Work trips/person', 0.0)\n",
            "('Non-work trips/person', 0.0)\n",
            "('Population', 0.0)\n",
            "('% change in consumption', 0.0)\n",
            "('Transit mode share', 0.0)\n",
            "('% people older than 60', 0.0)\n",
            "('Median income', 0.0)\n",
            "('% African Americans', 0.0)\n",
            "('% Hispanic Americans', 0.0)\n",
            "('% Male', 0.0)\n",
            "('Population density', 0.0)\n",
            "('Employment density', 0.0)\n",
            "('# hot spots/1000 people', 0.0)\n",
            "('Hospital beds/1000 people', 0.0)\n",
            "('ICUs/1000 people', 0.0)\n",
            "('# contact tracing workers/1000 people', 0.0)\n",
            "('# contact tracing workers/1000 people rank', 0.0)\n",
            "('% people older than 60 rank', 0.0)\n",
            "('COVID exposure/1000 people', 0.0)\n",
            "('Unemployment claims/1000 people', 0.0)\n",
            "('Unemployment rate', 0.0)\n",
            "('% working from home', 0.0)\n",
            "('Cumulative inflation rate', 0.0)\n",
            "('% hospital bed utilization', 0.0)\n",
            "('Testing capacity', 0.0)\n",
            "('Tests done/1000 people', 0.0)\n",
            "('% ICU utilization', 0.0)\n",
            "('Ventilator shortage', 0.0)\n",
            "\n",
            "*****************************************\n",
            "** Printing CA_inertia all county data for Mild Decrement ** \n",
            "\n",
            "Features with ranking:\n",
            "\n",
            "mask_rule_active 33\n",
            "Social distancing index 32\n",
            "% staying home 31\n",
            "Trips/person 30\n",
            "% out-of-county trips 29\n",
            "% out-of-state trips 28\n",
            "Miles/person 27\n",
            "Work trips/person 26\n",
            "Non-work trips/person 25\n",
            "Population 24\n",
            "% change in consumption 23\n",
            "Transit mode share 22\n",
            "% people older than 60 21\n",
            "Median income 20\n",
            "% African Americans 19\n",
            "% Hispanic Americans 18\n",
            "% Male 17\n",
            "Population density 16\n",
            "Employment density 15\n",
            "# hot spots/1000 people 14\n",
            "Hospital beds/1000 people 13\n",
            "ICUs/1000 people 12\n",
            "# contact tracing workers/1000 people 11\n",
            "# contact tracing workers/1000 people rank 10\n",
            "% people older than 60 rank 9\n",
            "COVID exposure/1000 people 8\n",
            "Unemployment claims/1000 people 7\n",
            "Unemployment rate 6\n",
            "% working from home 5\n",
            "Cumulative inflation rate 4\n",
            "% hospital bed utilization 3\n",
            "Testing capacity 2\n",
            "Tests done/1000 people 1\n",
            "% ICU utilization 1\n",
            "Ventilator shortage 1\n",
            "33\n",
            "32\n",
            "31\n",
            "30\n",
            "29\n",
            "28\n",
            "27\n",
            "26\n",
            "25\n",
            "24\n",
            "23\n",
            "22\n",
            "21\n",
            "20\n",
            "19\n",
            "18\n",
            "17\n",
            "16\n",
            "15\n",
            "14\n",
            "13\n",
            "12\n",
            "11\n",
            "10\n",
            "9\n",
            "8\n",
            "7\n",
            "6\n",
            "5\n",
            "4\n",
            "3\n",
            "2\n",
            "1\n",
            "1\n",
            "1\n"
          ],
          "name": "stdout"
        }
      ]
    },
    {
      "cell_type": "markdown",
      "metadata": {
        "id": "laRCiTVHRYsc"
      },
      "source": [
        "### 2.5 Label 4 : Mild Increment -No data, need to check labeling"
      ]
    },
    {
      "cell_type": "code",
      "metadata": {
        "id": "TlvwNDW5RYsc",
        "outputId": "cb39ed59-a3f2-47ed-b35e-94124da5a41e",
        "colab": {
          "base_uri": "https://localhost:8080/",
          "height": 1000
        }
      },
      "source": [
        "print(\"** Printing CA_inertia all county data for Mild Increment ** \")\n",
        "print(CA_inertia_labeled_data_growth4.shape)\n",
        "X = CA_inertia_labeled_data_growth4[inertia_feature_labels]\n",
        "y = CA_inertia_labeled_data_growth4[inertia_target_column]\n",
        "\n",
        "X_train, X_test, y_train, y_test = train_test_split(X, y, test_size=0.4, random_state=0)\n",
        "\n",
        "\n",
        "# Create a random forest classifier\n",
        "clf = RandomForestClassifier(n_estimators=10000, random_state=0, n_jobs=-1)\n",
        "\n",
        "# Train the classifier\n",
        "clf.fit(X_train, y_train)\n",
        "\n",
        "# Print the name and gini importance of each feature\n",
        "for feature in zip(inertia_feature_labels, clf.feature_importances_):\n",
        "    print(feature)\n",
        "\n",
        "\n",
        "\n",
        "#  Supported criteria are “gini” for the Gini impurity and “entropy” for the information gain. \n",
        "\n",
        "clf = RandomForestClassifier(n_estimators=10000, random_state=0,criterion='entropy', n_jobs=-1)\n",
        "\n",
        "# Train the classifier\n",
        "clf.fit(X_train, y_train)\n",
        "\n",
        "# Print the name and gini importance of each feature\n",
        "for feature in zip(inertia_feature_labels, clf.feature_importances_):\n",
        "    print(feature)\n",
        "\n",
        "\n",
        "model = ExtraTreesClassifier()\n",
        "model.fit(X, y.values.ravel())\n",
        "# display the relative importance of each attribute\n",
        "#print(model.feature_importances_)\n",
        "\n",
        "\n",
        "# create the RFE model \n",
        "rfe = RFE(model, 3)\n",
        "rfe = rfe.fit(X, y.values.ravel())\n",
        "# summarize the selection of the attributes\n",
        "#print(rfe.support_)\n",
        "print(\"\\n*****************************************\")\n",
        "print(\"** Printing CA_inertia all county data for Mild Increment ** \")\n",
        "print(\"\\nFeatures with ranking:\\n\")\n",
        "for index in range(len(rfe.ranking_)):\n",
        "  print(inertia_feature_labels[index], rfe.ranking_[index])\n",
        "\n",
        "#print(rfe.ranking_)\n",
        "#print(rfe.n_features_)\n",
        "#rfe.n_features_to_select\n",
        "for index in range(len(rfe.ranking_)):\n",
        "  print(rfe.ranking_[index])"
      ],
      "execution_count": 163,
      "outputs": [
        {
          "output_type": "stream",
          "text": [
            "** Printing CA_inertia all county data for Mild Increment ** \n",
            "(29, 55)\n"
          ],
          "name": "stdout"
        },
        {
          "output_type": "stream",
          "text": [
            "/usr/local/lib/python3.6/dist-packages/ipykernel_launcher.py:13: DataConversionWarning: A column-vector y was passed when a 1d array was expected. Please change the shape of y to (n_samples,), for example using ravel().\n",
            "  del sys.path[0]\n"
          ],
          "name": "stderr"
        },
        {
          "output_type": "stream",
          "text": [
            "('mask_rule_active', 0.0)\n",
            "('Social distancing index', 0.0)\n",
            "('% staying home', 0.0)\n",
            "('Trips/person', 0.0)\n",
            "('% out-of-county trips', 0.0)\n",
            "('% out-of-state trips', 0.0)\n",
            "('Miles/person', 0.0)\n",
            "('Work trips/person', 0.0)\n",
            "('Non-work trips/person', 0.0)\n",
            "('Population', 0.0)\n",
            "('% change in consumption', 0.0)\n",
            "('Transit mode share', 0.0)\n",
            "('% people older than 60', 0.0)\n",
            "('Median income', 0.0)\n",
            "('% African Americans', 0.0)\n",
            "('% Hispanic Americans', 0.0)\n",
            "('% Male', 0.0)\n",
            "('Population density', 0.0)\n",
            "('Employment density', 0.0)\n",
            "('# hot spots/1000 people', 0.0)\n",
            "('Hospital beds/1000 people', 0.0)\n",
            "('ICUs/1000 people', 0.0)\n",
            "('# contact tracing workers/1000 people', 0.0)\n",
            "('# contact tracing workers/1000 people rank', 0.0)\n",
            "('% people older than 60 rank', 0.0)\n",
            "('COVID exposure/1000 people', 0.0)\n",
            "('Unemployment claims/1000 people', 0.0)\n",
            "('Unemployment rate', 0.0)\n",
            "('% working from home', 0.0)\n",
            "('Cumulative inflation rate', 0.0)\n",
            "('% hospital bed utilization', 0.0)\n",
            "('Testing capacity', 0.0)\n",
            "('Tests done/1000 people', 0.0)\n",
            "('% ICU utilization', 0.0)\n",
            "('Ventilator shortage', 0.0)\n"
          ],
          "name": "stdout"
        },
        {
          "output_type": "stream",
          "text": [
            "/usr/local/lib/python3.6/dist-packages/ipykernel_launcher.py:26: DataConversionWarning: A column-vector y was passed when a 1d array was expected. Please change the shape of y to (n_samples,), for example using ravel().\n"
          ],
          "name": "stderr"
        },
        {
          "output_type": "stream",
          "text": [
            "('mask_rule_active', 0.0)\n",
            "('Social distancing index', 0.0)\n",
            "('% staying home', 0.0)\n",
            "('Trips/person', 0.0)\n",
            "('% out-of-county trips', 0.0)\n",
            "('% out-of-state trips', 0.0)\n",
            "('Miles/person', 0.0)\n",
            "('Work trips/person', 0.0)\n",
            "('Non-work trips/person', 0.0)\n",
            "('Population', 0.0)\n",
            "('% change in consumption', 0.0)\n",
            "('Transit mode share', 0.0)\n",
            "('% people older than 60', 0.0)\n",
            "('Median income', 0.0)\n",
            "('% African Americans', 0.0)\n",
            "('% Hispanic Americans', 0.0)\n",
            "('% Male', 0.0)\n",
            "('Population density', 0.0)\n",
            "('Employment density', 0.0)\n",
            "('# hot spots/1000 people', 0.0)\n",
            "('Hospital beds/1000 people', 0.0)\n",
            "('ICUs/1000 people', 0.0)\n",
            "('# contact tracing workers/1000 people', 0.0)\n",
            "('# contact tracing workers/1000 people rank', 0.0)\n",
            "('% people older than 60 rank', 0.0)\n",
            "('COVID exposure/1000 people', 0.0)\n",
            "('Unemployment claims/1000 people', 0.0)\n",
            "('Unemployment rate', 0.0)\n",
            "('% working from home', 0.0)\n",
            "('Cumulative inflation rate', 0.0)\n",
            "('% hospital bed utilization', 0.0)\n",
            "('Testing capacity', 0.0)\n",
            "('Tests done/1000 people', 0.0)\n",
            "('% ICU utilization', 0.0)\n",
            "('Ventilator shortage', 0.0)\n",
            "\n",
            "*****************************************\n",
            "** Printing CA_inertia all county data for Mild Increment ** \n",
            "\n",
            "Features with ranking:\n",
            "\n",
            "mask_rule_active 33\n",
            "Social distancing index 32\n",
            "% staying home 31\n",
            "Trips/person 30\n",
            "% out-of-county trips 29\n",
            "% out-of-state trips 28\n",
            "Miles/person 27\n",
            "Work trips/person 26\n",
            "Non-work trips/person 25\n",
            "Population 24\n",
            "% change in consumption 23\n",
            "Transit mode share 22\n",
            "% people older than 60 21\n",
            "Median income 20\n",
            "% African Americans 19\n",
            "% Hispanic Americans 18\n",
            "% Male 17\n",
            "Population density 16\n",
            "Employment density 15\n",
            "# hot spots/1000 people 14\n",
            "Hospital beds/1000 people 13\n",
            "ICUs/1000 people 12\n",
            "# contact tracing workers/1000 people 11\n",
            "# contact tracing workers/1000 people rank 10\n",
            "% people older than 60 rank 9\n",
            "COVID exposure/1000 people 8\n",
            "Unemployment claims/1000 people 7\n",
            "Unemployment rate 6\n",
            "% working from home 5\n",
            "Cumulative inflation rate 4\n",
            "% hospital bed utilization 3\n",
            "Testing capacity 2\n",
            "Tests done/1000 people 1\n",
            "% ICU utilization 1\n",
            "Ventilator shortage 1\n",
            "33\n",
            "32\n",
            "31\n",
            "30\n",
            "29\n",
            "28\n",
            "27\n",
            "26\n",
            "25\n",
            "24\n",
            "23\n",
            "22\n",
            "21\n",
            "20\n",
            "19\n",
            "18\n",
            "17\n",
            "16\n",
            "15\n",
            "14\n",
            "13\n",
            "12\n",
            "11\n",
            "10\n",
            "9\n",
            "8\n",
            "7\n",
            "6\n",
            "5\n",
            "4\n",
            "3\n",
            "2\n",
            "1\n",
            "1\n",
            "1\n"
          ],
          "name": "stdout"
        }
      ]
    }
  ]
}