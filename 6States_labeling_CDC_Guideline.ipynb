{
  "nbformat": 4,
  "nbformat_minor": 0,
  "metadata": {
    "colab": {
      "name": "6States_labeling_CDC_Guideline.ipynb",
      "provenance": [],
      "toc_visible": true,
      "machine_shape": "hm",
      "include_colab_link": true
    },
    "kernelspec": {
      "name": "python3",
      "display_name": "Python 3"
    },
    "accelerator": "GPU"
  },
  "cells": [
    {
      "cell_type": "markdown",
      "metadata": {
        "id": "view-in-github",
        "colab_type": "text"
      },
      "source": [
        "<a href=\"https://colab.research.google.com/github/aarsanjani/meansquares/blob/master/6States_labeling_CDC_Guideline.ipynb\" target=\"_parent\"><img src=\"https://colab.research.google.com/assets/colab-badge.svg\" alt=\"Open In Colab\"/></a>"
      ]
    },
    {
      "cell_type": "code",
      "metadata": {
        "id": "a7MiHCnA9DL2"
      },
      "source": [
        "from google.colab import drive\n",
        "drive.mount('/content/drive')"
      ],
      "execution_count": null,
      "outputs": []
    },
    {
      "cell_type": "code",
      "metadata": {
        "id": "gOcvZ8Xa9GrS"
      },
      "source": [
        "import pandas as pd\n",
        "import seaborn as sns\n",
        "from sklearn import preprocessing\n",
        "from sklearn.model_selection import train_test_split\n",
        "\n",
        "from sklearn.preprocessing import LabelEncoder\n",
        "from sklearn.preprocessing import StandardScaler as ss\n",
        "import itertools\n",
        "from scipy import linalg\n",
        "from sklearn.ensemble import RandomForestClassifier\n",
        "from sklearn.tree import export_graphviz\n",
        "import numpy as np\n",
        "import matplotlib.pyplot as plt"
      ],
      "execution_count": 3,
      "outputs": []
    },
    {
      "cell_type": "code",
      "metadata": {
        "id": "k1ddEzAJrKFK",
        "outputId": "73da1b1d-e226-436d-e44b-a20eab2ea26b",
        "colab": {
          "base_uri": "https://localhost:8080/"
        }
      },
      "source": [
        "!pip install wget\n",
        "import wget"
      ],
      "execution_count": 8,
      "outputs": [
        {
          "output_type": "stream",
          "text": [
            "Requirement already satisfied: wget in /usr/local/lib/python3.6/dist-packages (3.2)\n"
          ],
          "name": "stdout"
        }
      ]
    },
    {
      "cell_type": "markdown",
      "metadata": {
        "id": "VsVZXbVoJ5-N"
      },
      "source": [
        "# Load County Population\n"
      ]
    },
    {
      "cell_type": "code",
      "metadata": {
        "id": "WZno5k12J9BI",
        "outputId": "928ee265-7a4e-41fa-e242-c278811ff4c5",
        "colab": {
          "base_uri": "https://localhost:8080/"
        }
      },
      "source": [
        "county_population_US = pd.read_csv('https://usafactsstatic.blob.core.windows.net/public/data/covid-19/covid_county_population_usafacts.csv',low_memory=False)\n",
        "print(county_population_US.shape)"
      ],
      "execution_count": 4,
      "outputs": [
        {
          "output_type": "stream",
          "text": [
            "(3195, 4)\n"
          ],
          "name": "stdout"
        }
      ]
    },
    {
      "cell_type": "code",
      "metadata": {
        "id": "IEHB_7mnKAuI",
        "outputId": "0591ccd0-e6b8-477e-f208-8eb71259c065",
        "colab": {
          "base_uri": "https://localhost:8080/"
        }
      },
      "source": [
        "wget.download('https://usafactsstatic.blob.core.windows.net/public/data/covid-19/covid_county_population_usafacts.csv')\n",
        "county_population_US = pd.read_csv('covid_county_population_usafacts.csv',low_memory=False)\n",
        "print(county_population_US.shape)\n"
      ],
      "execution_count": 9,
      "outputs": [
        {
          "output_type": "stream",
          "text": [
            "(3195, 4)\n"
          ],
          "name": "stdout"
        }
      ]
    },
    {
      "cell_type": "code",
      "metadata": {
        "id": "9aVG7gFdKQQm",
        "outputId": "7d25f587-7e4b-43b5-e9be-517d1f490c80",
        "colab": {
          "base_uri": "https://localhost:8080/",
          "height": 106
        }
      },
      "source": [
        "county_population_US.head(2)"
      ],
      "execution_count": 10,
      "outputs": [
        {
          "output_type": "execute_result",
          "data": {
            "text/html": [
              "<div>\n",
              "<style scoped>\n",
              "    .dataframe tbody tr th:only-of-type {\n",
              "        vertical-align: middle;\n",
              "    }\n",
              "\n",
              "    .dataframe tbody tr th {\n",
              "        vertical-align: top;\n",
              "    }\n",
              "\n",
              "    .dataframe thead th {\n",
              "        text-align: right;\n",
              "    }\n",
              "</style>\n",
              "<table border=\"1\" class=\"dataframe\">\n",
              "  <thead>\n",
              "    <tr style=\"text-align: right;\">\n",
              "      <th></th>\n",
              "      <th>countyFIPS</th>\n",
              "      <th>County Name</th>\n",
              "      <th>State</th>\n",
              "      <th>population</th>\n",
              "    </tr>\n",
              "  </thead>\n",
              "  <tbody>\n",
              "    <tr>\n",
              "      <th>0</th>\n",
              "      <td>0</td>\n",
              "      <td>Statewide Unallocated</td>\n",
              "      <td>AL</td>\n",
              "      <td>0</td>\n",
              "    </tr>\n",
              "    <tr>\n",
              "      <th>1</th>\n",
              "      <td>1001</td>\n",
              "      <td>Autauga County</td>\n",
              "      <td>AL</td>\n",
              "      <td>55869</td>\n",
              "    </tr>\n",
              "  </tbody>\n",
              "</table>\n",
              "</div>"
            ],
            "text/plain": [
              "   countyFIPS            County Name State  population\n",
              "0           0  Statewide Unallocated    AL           0\n",
              "1        1001         Autauga County    AL       55869"
            ]
          },
          "metadata": {
            "tags": []
          },
          "execution_count": 10
        }
      ]
    },
    {
      "cell_type": "markdown",
      "metadata": {
        "id": "2VGeNhVWImB7"
      },
      "source": [
        "# Load Combined Dataset"
      ]
    },
    {
      "cell_type": "code",
      "metadata": {
        "id": "wMT2xtwU9Mvt",
        "outputId": "29b40420-a989-46b3-83c5-0112ede3c290",
        "colab": {
          "base_uri": "https://localhost:8080/",
          "height": 421
        }
      },
      "source": [
        "CA_combined_data = pd.read_csv('/content/drive/Shared drives/CMPE 295- Master Project/Covid19-data/CA/CA_combined_Sep25.csv',low_memory=False)\n",
        "CA_combined_data.head()"
      ],
      "execution_count": 11,
      "outputs": [
        {
          "output_type": "error",
          "ename": "FileNotFoundError",
          "evalue": "ignored",
          "traceback": [
            "\u001b[0;31m---------------------------------------------------------------------------\u001b[0m",
            "\u001b[0;31mFileNotFoundError\u001b[0m                         Traceback (most recent call last)",
            "\u001b[0;32m<ipython-input-11-c898d7baf0aa>\u001b[0m in \u001b[0;36m<module>\u001b[0;34m()\u001b[0m\n\u001b[0;32m----> 1\u001b[0;31m \u001b[0mCA_combined_data\u001b[0m \u001b[0;34m=\u001b[0m \u001b[0mpd\u001b[0m\u001b[0;34m.\u001b[0m\u001b[0mread_csv\u001b[0m\u001b[0;34m(\u001b[0m\u001b[0;34m'/content/drive/Shared drives/CMPE 295- Master Project/Covid19-data/CA/CA_combined_Sep25.csv'\u001b[0m\u001b[0;34m,\u001b[0m\u001b[0mlow_memory\u001b[0m\u001b[0;34m=\u001b[0m\u001b[0;32mFalse\u001b[0m\u001b[0;34m)\u001b[0m\u001b[0;34m\u001b[0m\u001b[0;34m\u001b[0m\u001b[0m\n\u001b[0m\u001b[1;32m      2\u001b[0m \u001b[0mCA_combined_data\u001b[0m\u001b[0;34m.\u001b[0m\u001b[0mhead\u001b[0m\u001b[0;34m(\u001b[0m\u001b[0;34m)\u001b[0m\u001b[0;34m\u001b[0m\u001b[0;34m\u001b[0m\u001b[0m\n",
            "\u001b[0;32m/usr/local/lib/python3.6/dist-packages/pandas/io/parsers.py\u001b[0m in \u001b[0;36mread_csv\u001b[0;34m(filepath_or_buffer, sep, delimiter, header, names, index_col, usecols, squeeze, prefix, mangle_dupe_cols, dtype, engine, converters, true_values, false_values, skipinitialspace, skiprows, skipfooter, nrows, na_values, keep_default_na, na_filter, verbose, skip_blank_lines, parse_dates, infer_datetime_format, keep_date_col, date_parser, dayfirst, cache_dates, iterator, chunksize, compression, thousands, decimal, lineterminator, quotechar, quoting, doublequote, escapechar, comment, encoding, dialect, error_bad_lines, warn_bad_lines, delim_whitespace, low_memory, memory_map, float_precision)\u001b[0m\n\u001b[1;32m    684\u001b[0m     )\n\u001b[1;32m    685\u001b[0m \u001b[0;34m\u001b[0m\u001b[0m\n\u001b[0;32m--> 686\u001b[0;31m     \u001b[0;32mreturn\u001b[0m \u001b[0m_read\u001b[0m\u001b[0;34m(\u001b[0m\u001b[0mfilepath_or_buffer\u001b[0m\u001b[0;34m,\u001b[0m \u001b[0mkwds\u001b[0m\u001b[0;34m)\u001b[0m\u001b[0;34m\u001b[0m\u001b[0;34m\u001b[0m\u001b[0m\n\u001b[0m\u001b[1;32m    687\u001b[0m \u001b[0;34m\u001b[0m\u001b[0m\n\u001b[1;32m    688\u001b[0m \u001b[0;34m\u001b[0m\u001b[0m\n",
            "\u001b[0;32m/usr/local/lib/python3.6/dist-packages/pandas/io/parsers.py\u001b[0m in \u001b[0;36m_read\u001b[0;34m(filepath_or_buffer, kwds)\u001b[0m\n\u001b[1;32m    450\u001b[0m \u001b[0;34m\u001b[0m\u001b[0m\n\u001b[1;32m    451\u001b[0m     \u001b[0;31m# Create the parser.\u001b[0m\u001b[0;34m\u001b[0m\u001b[0;34m\u001b[0m\u001b[0;34m\u001b[0m\u001b[0m\n\u001b[0;32m--> 452\u001b[0;31m     \u001b[0mparser\u001b[0m \u001b[0;34m=\u001b[0m \u001b[0mTextFileReader\u001b[0m\u001b[0;34m(\u001b[0m\u001b[0mfp_or_buf\u001b[0m\u001b[0;34m,\u001b[0m \u001b[0;34m**\u001b[0m\u001b[0mkwds\u001b[0m\u001b[0;34m)\u001b[0m\u001b[0;34m\u001b[0m\u001b[0;34m\u001b[0m\u001b[0m\n\u001b[0m\u001b[1;32m    453\u001b[0m \u001b[0;34m\u001b[0m\u001b[0m\n\u001b[1;32m    454\u001b[0m     \u001b[0;32mif\u001b[0m \u001b[0mchunksize\u001b[0m \u001b[0;32mor\u001b[0m \u001b[0miterator\u001b[0m\u001b[0;34m:\u001b[0m\u001b[0;34m\u001b[0m\u001b[0;34m\u001b[0m\u001b[0m\n",
            "\u001b[0;32m/usr/local/lib/python3.6/dist-packages/pandas/io/parsers.py\u001b[0m in \u001b[0;36m__init__\u001b[0;34m(self, f, engine, **kwds)\u001b[0m\n\u001b[1;32m    944\u001b[0m             \u001b[0mself\u001b[0m\u001b[0;34m.\u001b[0m\u001b[0moptions\u001b[0m\u001b[0;34m[\u001b[0m\u001b[0;34m\"has_index_names\"\u001b[0m\u001b[0;34m]\u001b[0m \u001b[0;34m=\u001b[0m \u001b[0mkwds\u001b[0m\u001b[0;34m[\u001b[0m\u001b[0;34m\"has_index_names\"\u001b[0m\u001b[0;34m]\u001b[0m\u001b[0;34m\u001b[0m\u001b[0;34m\u001b[0m\u001b[0m\n\u001b[1;32m    945\u001b[0m \u001b[0;34m\u001b[0m\u001b[0m\n\u001b[0;32m--> 946\u001b[0;31m         \u001b[0mself\u001b[0m\u001b[0;34m.\u001b[0m\u001b[0m_make_engine\u001b[0m\u001b[0;34m(\u001b[0m\u001b[0mself\u001b[0m\u001b[0;34m.\u001b[0m\u001b[0mengine\u001b[0m\u001b[0;34m)\u001b[0m\u001b[0;34m\u001b[0m\u001b[0;34m\u001b[0m\u001b[0m\n\u001b[0m\u001b[1;32m    947\u001b[0m \u001b[0;34m\u001b[0m\u001b[0m\n\u001b[1;32m    948\u001b[0m     \u001b[0;32mdef\u001b[0m \u001b[0mclose\u001b[0m\u001b[0;34m(\u001b[0m\u001b[0mself\u001b[0m\u001b[0;34m)\u001b[0m\u001b[0;34m:\u001b[0m\u001b[0;34m\u001b[0m\u001b[0;34m\u001b[0m\u001b[0m\n",
            "\u001b[0;32m/usr/local/lib/python3.6/dist-packages/pandas/io/parsers.py\u001b[0m in \u001b[0;36m_make_engine\u001b[0;34m(self, engine)\u001b[0m\n\u001b[1;32m   1176\u001b[0m     \u001b[0;32mdef\u001b[0m \u001b[0m_make_engine\u001b[0m\u001b[0;34m(\u001b[0m\u001b[0mself\u001b[0m\u001b[0;34m,\u001b[0m \u001b[0mengine\u001b[0m\u001b[0;34m=\u001b[0m\u001b[0;34m\"c\"\u001b[0m\u001b[0;34m)\u001b[0m\u001b[0;34m:\u001b[0m\u001b[0;34m\u001b[0m\u001b[0;34m\u001b[0m\u001b[0m\n\u001b[1;32m   1177\u001b[0m         \u001b[0;32mif\u001b[0m \u001b[0mengine\u001b[0m \u001b[0;34m==\u001b[0m \u001b[0;34m\"c\"\u001b[0m\u001b[0;34m:\u001b[0m\u001b[0;34m\u001b[0m\u001b[0;34m\u001b[0m\u001b[0m\n\u001b[0;32m-> 1178\u001b[0;31m             \u001b[0mself\u001b[0m\u001b[0;34m.\u001b[0m\u001b[0m_engine\u001b[0m \u001b[0;34m=\u001b[0m \u001b[0mCParserWrapper\u001b[0m\u001b[0;34m(\u001b[0m\u001b[0mself\u001b[0m\u001b[0;34m.\u001b[0m\u001b[0mf\u001b[0m\u001b[0;34m,\u001b[0m \u001b[0;34m**\u001b[0m\u001b[0mself\u001b[0m\u001b[0;34m.\u001b[0m\u001b[0moptions\u001b[0m\u001b[0;34m)\u001b[0m\u001b[0;34m\u001b[0m\u001b[0;34m\u001b[0m\u001b[0m\n\u001b[0m\u001b[1;32m   1179\u001b[0m         \u001b[0;32melse\u001b[0m\u001b[0;34m:\u001b[0m\u001b[0;34m\u001b[0m\u001b[0;34m\u001b[0m\u001b[0m\n\u001b[1;32m   1180\u001b[0m             \u001b[0;32mif\u001b[0m \u001b[0mengine\u001b[0m \u001b[0;34m==\u001b[0m \u001b[0;34m\"python\"\u001b[0m\u001b[0;34m:\u001b[0m\u001b[0;34m\u001b[0m\u001b[0;34m\u001b[0m\u001b[0m\n",
            "\u001b[0;32m/usr/local/lib/python3.6/dist-packages/pandas/io/parsers.py\u001b[0m in \u001b[0;36m__init__\u001b[0;34m(self, src, **kwds)\u001b[0m\n\u001b[1;32m   2006\u001b[0m         \u001b[0mkwds\u001b[0m\u001b[0;34m[\u001b[0m\u001b[0;34m\"usecols\"\u001b[0m\u001b[0;34m]\u001b[0m \u001b[0;34m=\u001b[0m \u001b[0mself\u001b[0m\u001b[0;34m.\u001b[0m\u001b[0musecols\u001b[0m\u001b[0;34m\u001b[0m\u001b[0;34m\u001b[0m\u001b[0m\n\u001b[1;32m   2007\u001b[0m \u001b[0;34m\u001b[0m\u001b[0m\n\u001b[0;32m-> 2008\u001b[0;31m         \u001b[0mself\u001b[0m\u001b[0;34m.\u001b[0m\u001b[0m_reader\u001b[0m \u001b[0;34m=\u001b[0m \u001b[0mparsers\u001b[0m\u001b[0;34m.\u001b[0m\u001b[0mTextReader\u001b[0m\u001b[0;34m(\u001b[0m\u001b[0msrc\u001b[0m\u001b[0;34m,\u001b[0m \u001b[0;34m**\u001b[0m\u001b[0mkwds\u001b[0m\u001b[0;34m)\u001b[0m\u001b[0;34m\u001b[0m\u001b[0;34m\u001b[0m\u001b[0m\n\u001b[0m\u001b[1;32m   2009\u001b[0m         \u001b[0mself\u001b[0m\u001b[0;34m.\u001b[0m\u001b[0munnamed_cols\u001b[0m \u001b[0;34m=\u001b[0m \u001b[0mself\u001b[0m\u001b[0;34m.\u001b[0m\u001b[0m_reader\u001b[0m\u001b[0;34m.\u001b[0m\u001b[0munnamed_cols\u001b[0m\u001b[0;34m\u001b[0m\u001b[0;34m\u001b[0m\u001b[0m\n\u001b[1;32m   2010\u001b[0m \u001b[0;34m\u001b[0m\u001b[0m\n",
            "\u001b[0;32mpandas/_libs/parsers.pyx\u001b[0m in \u001b[0;36mpandas._libs.parsers.TextReader.__cinit__\u001b[0;34m()\u001b[0m\n",
            "\u001b[0;32mpandas/_libs/parsers.pyx\u001b[0m in \u001b[0;36mpandas._libs.parsers.TextReader._setup_parser_source\u001b[0;34m()\u001b[0m\n",
            "\u001b[0;31mFileNotFoundError\u001b[0m: [Errno 2] No such file or directory: '/content/drive/Shared drives/CMPE 295- Master Project/Covid19-data/CA/CA_combined_Sep25.csv'"
          ]
        }
      ]
    },
    {
      "cell_type": "code",
      "metadata": {
        "id": "WNYApC-j9O3E",
        "outputId": "ead6f199-5382-4996-ddc0-1265052df561",
        "colab": {
          "base_uri": "https://localhost:8080/",
          "height": 197
        }
      },
      "source": [
        "CA_combined_data['New Cases/1k population'] = CA_combined_data['New cases']*1000/ CA_combined_data['population']\n",
        "CA_combined_data.tail(2)"
      ],
      "execution_count": null,
      "outputs": [
        {
          "output_type": "execute_result",
          "data": {
            "text/html": [
              "<div>\n",
              "<style scoped>\n",
              "    .dataframe tbody tr th:only-of-type {\n",
              "        vertical-align: middle;\n",
              "    }\n",
              "\n",
              "    .dataframe tbody tr th {\n",
              "        vertical-align: top;\n",
              "    }\n",
              "\n",
              "    .dataframe thead th {\n",
              "        text-align: right;\n",
              "    }\n",
              "</style>\n",
              "<table border=\"1\" class=\"dataframe\">\n",
              "  <thead>\n",
              "    <tr style=\"text-align: right;\">\n",
              "      <th></th>\n",
              "      <th>Date</th>\n",
              "      <th>fips_x</th>\n",
              "      <th>County Name</th>\n",
              "      <th>population</th>\n",
              "      <th>retail and recreation</th>\n",
              "      <th>grocery and pharmacy</th>\n",
              "      <th>parks</th>\n",
              "      <th>transit stations</th>\n",
              "      <th>workplaces</th>\n",
              "      <th>residential</th>\n",
              "      <th>driving</th>\n",
              "      <th>m50</th>\n",
              "      <th>m50_index</th>\n",
              "      <th>population_density</th>\n",
              "      <th>mask_rule_active</th>\n",
              "      <th>mask_wearing_percent</th>\n",
              "      <th>New cases</th>\n",
              "      <th>New Cases/1k population</th>\n",
              "    </tr>\n",
              "  </thead>\n",
              "  <tbody>\n",
              "    <tr>\n",
              "      <th>9194</th>\n",
              "      <td>2020-08-20</td>\n",
              "      <td>6115</td>\n",
              "      <td>Yuba County</td>\n",
              "      <td>78668</td>\n",
              "      <td>0.0</td>\n",
              "      <td>0.0</td>\n",
              "      <td>0.0</td>\n",
              "      <td>0.0</td>\n",
              "      <td>-33.0</td>\n",
              "      <td>8.0</td>\n",
              "      <td>59.48</td>\n",
              "      <td>4.096</td>\n",
              "      <td>43</td>\n",
              "      <td>124.506204</td>\n",
              "      <td>1</td>\n",
              "      <td>0.669</td>\n",
              "      <td>0</td>\n",
              "      <td>0.000000</td>\n",
              "    </tr>\n",
              "    <tr>\n",
              "      <th>9195</th>\n",
              "      <td>2020-08-21</td>\n",
              "      <td>6115</td>\n",
              "      <td>Yuba County</td>\n",
              "      <td>78668</td>\n",
              "      <td>0.0</td>\n",
              "      <td>0.0</td>\n",
              "      <td>0.0</td>\n",
              "      <td>0.0</td>\n",
              "      <td>-33.0</td>\n",
              "      <td>10.0</td>\n",
              "      <td>84.31</td>\n",
              "      <td>5.820</td>\n",
              "      <td>61</td>\n",
              "      <td>124.506204</td>\n",
              "      <td>1</td>\n",
              "      <td>0.669</td>\n",
              "      <td>8</td>\n",
              "      <td>0.101693</td>\n",
              "    </tr>\n",
              "  </tbody>\n",
              "</table>\n",
              "</div>"
            ],
            "text/plain": [
              "            Date  fips_x  ... New cases  New Cases/1k population\n",
              "9194  2020-08-20    6115  ...         0                 0.000000\n",
              "9195  2020-08-21    6115  ...         8                 0.101693\n",
              "\n",
              "[2 rows x 18 columns]"
            ]
          },
          "metadata": {
            "tags": []
          },
          "execution_count": 11
        }
      ]
    },
    {
      "cell_type": "markdown",
      "metadata": {
        "id": "crEg5qYTgrI1"
      },
      "source": [
        "# Apply for all counties"
      ]
    },
    {
      "cell_type": "code",
      "metadata": {
        "id": "X-6R6tGdgtI0"
      },
      "source": [
        "county_names = CA_combined_data['County Name'].unique()"
      ],
      "execution_count": null,
      "outputs": []
    },
    {
      "cell_type": "code",
      "metadata": {
        "id": "DaUAKoHMgw2o",
        "outputId": "e8e8c6e1-f073-450c-a4f5-e6d553cf1b04",
        "colab": {
          "base_uri": "https://localhost:8080/",
          "height": 1000
        }
      },
      "source": [
        "for county in county_names:\n",
        "    print('county name: ',county)\n",
        "    county_data = CA_combined_data[CA_combined_data['County Name']== county]\n",
        "    new_cases_1k_la_list = county_data['New Cases/1k population'].values\n",
        "    diffArr = np.diff(new_cases_1k_la_list)\n",
        "    growth_values =[]\n",
        "    growth_values.append(0.0) # making first value as 0, as np.diff leaves first values as NA\n",
        "    \n",
        "    growth_values.extend(diffArr)\n",
        "    county_data['growth_values'] = growth_values\n",
        "\n",
        "    minVal = np.min(growth_values)\n",
        "    maxVal = np.max(growth_values)\n",
        "    meanVal= np.mean(growth_values, axis=0)\n",
        "    stdVal = np.std(growth_values, axis=0)\n",
        "    debug = False\n",
        "    if debug:\n",
        "      print(\"min : \",minVal)\n",
        "      print(\"max : \",maxVal)\n",
        "      print('Mean: ', np.mean(growth_values, axis=0))\n",
        "      print('Standard Deviation:', np.std(growth_values, axis=0))\n",
        "      print('. (meanVal + (stdVal * 1) / 3). ',(meanVal + (stdVal * 1) / 3))\n",
        "      print('. (meanVal - (stdVal * 1) / 3). ',(meanVal - (stdVal * 1) / 3))\n",
        "      print('. (meanVal + (stdVal * 2) / 3). ',(meanVal + (stdVal * 2) / 3))\n",
        "      print('. (meanVal - (stdVal * 2) / 3). ',(meanVal - (stdVal * 2) / 3))\n",
        "      print('. (meanVal + (stdVal * 3) / 3). ',(meanVal + (stdVal * 3) / 3))\n",
        "      print('. (meanVal - (stdVal * 3) / 3). ',(meanVal - (stdVal * 3) / 3))\n",
        "      print(\"min : \",minVal)\n",
        "      print('. (meanVal - (stdVal * 1) / 2). ',(meanVal - (stdVal * 1) / 2))\n",
        "      print('. (meanVal - (stdVal * 2) / 2). ',(meanVal - (stdVal * 2) / 2))\n",
        "      print('. (meanVal - (stdVal * 3) / 2). ',(meanVal - (stdVal * 3) / 2))\n",
        "\n",
        "      print(\"max : \",maxVal)\n",
        "      print('. (meanVal + (stdVal * 1) / 2). ',(meanVal + (stdVal * 1) / 2))\n",
        "      print('. (meanVal + (stdVal * 2) / 2). ',(meanVal + (stdVal * 2) / 2))\n",
        "      print('. (meanVal + (stdVal * 3) / 2). ',(meanVal + (stdVal * 3) / 2))\n",
        "\n",
        "      print(\"min : \",minVal)\n",
        "      print('. (meanVal - (stdVal * 1)). ',(meanVal - (stdVal * 1)))\n",
        "      print('. (meanVal - (stdVal * 2)). ',(meanVal - (stdVal * 2)))\n",
        "      print('. (meanVal - (stdVal * 3)). ',(meanVal - (stdVal * 3)))\n",
        "\n",
        "      print(\"max : \",maxVal)\n",
        "      print('. (meanVal + (stdVal * 1)). ',(meanVal + (stdVal * 1)))\n",
        "      print('. (meanVal + (stdVal * 2)). ',(meanVal + (stdVal * 2)))\n",
        "      print('. (meanVal + (stdVal * 3)). ',(meanVal + (stdVal * 3)))\n",
        "\n",
        "\n",
        "    for index, row in (county_data.iterrows()):\n",
        "\n",
        "      i = row['growth_values']\n",
        "\n",
        "      if  i > (meanVal + (stdVal * 2) / 3) :\n",
        "          #print(\"Label: \", i, \"drastic_growth\")\n",
        "          label =  'drastic_growth'\n",
        "      elif ( i > (meanVal + (stdVal * 1) / 3) and i <= (meanVal + (stdVal * 2) / 3)):\n",
        "          #print(\"Label: \", i, \"mild_growth\")\n",
        "          label =  'mild_growth'\n",
        "      elif (i >= (meanVal - (stdVal * 1) / 3) and i <= (meanVal + (stdVal * 1) / 3)):\n",
        "          #print(\"Label: \", i, \"flat_growth\")\n",
        "          label = 'flat_growth'\n",
        "      elif (i < (meanVal - (stdVal * 1) / 3) and i >= (meanVal - (stdVal * 2) / 3)):\n",
        "          #print(\"Label: \", i, \"mild_decrement\")\n",
        "          label = 'mild_decrement'\n",
        "      elif (i < (meanVal - (stdVal * 2) / 3)):\n",
        "          #print(\"Label: \", i, \"drastic_decrement\")\n",
        "          label = 'drastic_decrement'\n",
        "    \n",
        "      date = row['Date']\n",
        "      #print(i,county, date, label)\n",
        "\n",
        "      df_index = (CA_combined_data['County Name'] == county) & (CA_combined_data['Date'] == date) \n",
        "      #print(df_weekData)\n",
        "      CA_combined_data.loc[df_index,'growth_label'] = label\n",
        "    #break"
      ],
      "execution_count": null,
      "outputs": [
        {
          "output_type": "stream",
          "text": [
            "county name:  Alameda County\n"
          ],
          "name": "stdout"
        },
        {
          "output_type": "stream",
          "text": [
            "/usr/local/lib/python3.6/dist-packages/ipykernel_launcher.py:10: SettingWithCopyWarning: \n",
            "A value is trying to be set on a copy of a slice from a DataFrame.\n",
            "Try using .loc[row_indexer,col_indexer] = value instead\n",
            "\n",
            "See the caveats in the documentation: https://pandas.pydata.org/pandas-docs/stable/user_guide/indexing.html#returning-a-view-versus-a-copy\n",
            "  # Remove the CWD from sys.path while we load stuff.\n"
          ],
          "name": "stderr"
        },
        {
          "output_type": "stream",
          "text": [
            "county name:  Amador County\n",
            "county name:  Butte County\n",
            "county name:  Calaveras County\n",
            "county name:  Colusa County\n",
            "county name:  Contra Costa County\n",
            "county name:  Del Norte County\n",
            "county name:  El Dorado County\n",
            "county name:  Fresno County\n",
            "county name:  Glenn County\n",
            "county name:  Humboldt County\n",
            "county name:  Imperial County\n",
            "county name:  Inyo County\n",
            "county name:  Kern County\n",
            "county name:  Kings County\n",
            "county name:  Lake County\n",
            "county name:  Lassen County\n",
            "county name:  Los Angeles County\n",
            "county name:  Madera County\n",
            "county name:  Marin County\n",
            "county name:  Mariposa County\n",
            "county name:  Mendocino County\n",
            "county name:  Merced County\n",
            "county name:  Mono County\n",
            "county name:  Monterey County\n",
            "county name:  Napa County\n",
            "county name:  Nevada County\n",
            "county name:  Orange County\n",
            "county name:  Placer County\n",
            "county name:  Plumas County\n",
            "county name:  Riverside County\n",
            "county name:  Sacramento County\n",
            "county name:  San Benito County\n",
            "county name:  San Bernardino County\n",
            "county name:  San Diego County\n",
            "county name:  San Francisco County\n",
            "county name:  San Joaquin County\n",
            "county name:  San Luis Obispo County\n",
            "county name:  San Mateo County\n",
            "county name:  Santa Barbara County\n",
            "county name:  Santa Clara County\n",
            "county name:  Santa Cruz County\n",
            "county name:  Shasta County\n",
            "county name:  Siskiyou County\n",
            "county name:  Solano County\n",
            "county name:  Sonoma County\n",
            "county name:  Stanislaus County\n",
            "county name:  Sutter County\n",
            "county name:  Tehama County\n",
            "county name:  Tulare County\n",
            "county name:  Tuolumne County\n",
            "county name:  Ventura County\n",
            "county name:  Yolo County\n",
            "county name:  Yuba County\n"
          ],
          "name": "stdout"
        }
      ]
    },
    {
      "cell_type": "markdown",
      "metadata": {
        "id": "zT12M9QCv3h5"
      },
      "source": [
        "### Verifying with plot"
      ]
    },
    {
      "cell_type": "code",
      "metadata": {
        "id": "OK73WtXjv5fM",
        "outputId": "be05bce0-67a7-4a38-f157-b0aa458b36aa",
        "colab": {
          "base_uri": "https://localhost:8080/",
          "height": 688
        }
      },
      "source": [
        "alameda_data = CA_combined_data[CA_combined_data['County Name'] == 'Los Angeles County']\n",
        "\n",
        "new_cases_1k_la_list = alameda_data['New Cases/1k population'].values\n",
        "diffArr = np.diff(new_cases_1k_la_list)\n",
        "growth_values =[]\n",
        "growth_values.append(0.0) # making first value as 0, as np.diff leaves first values as NA\n",
        "    \n",
        "growth_values.extend(diffArr)\n",
        "\n",
        "alameda_data['growth_code'] = alameda_data['growth_label'].astype('category').cat.codes\n",
        "print(pd.unique(alameda_data[['growth_label', 'growth_code']].values.ravel()))\n",
        "new_cases_1k_la_list = alameda_data['New Cases/1k population'].values\n",
        "plt.plot(growth_values)\n",
        "plt.show()\n",
        "alameda_labelflat_growth = alameda_data[alameda_data['growth_label'] == 'flat_growth']\n",
        "print(alameda_labelflat_growth.shape)\n",
        "#alameda_labelflat_growth\n",
        "\n",
        "N = 5\n",
        "x = alameda_data['growth_code'].values\n",
        "y = growth_values #alameda_data['New Cases/1k population'].values\n",
        "colors = np.random.rand(N)\n",
        "area = (30 * np.random.rand(N))**2  # 0 to 15 point radii\n",
        "\n",
        "plt.scatter(x, y, alpha=0.5)\n",
        "plt.show()\n"
      ],
      "execution_count": null,
      "outputs": [
        {
          "output_type": "stream",
          "text": [
            "['flat_growth' 2 'mild_decrement' 3 'drastic_growth' 1 'drastic_decrement'\n",
            " 0 'mild_growth' 4]\n"
          ],
          "name": "stdout"
        },
        {
          "output_type": "stream",
          "text": [
            "/usr/local/lib/python3.6/dist-packages/ipykernel_launcher.py:10: SettingWithCopyWarning: \n",
            "A value is trying to be set on a copy of a slice from a DataFrame.\n",
            "Try using .loc[row_indexer,col_indexer] = value instead\n",
            "\n",
            "See the caveats in the documentation: https://pandas.pydata.org/pandas-docs/stable/user_guide/indexing.html#returning-a-view-versus-a-copy\n",
            "  # Remove the CWD from sys.path while we load stuff.\n"
          ],
          "name": "stderr"
        },
        {
          "output_type": "display_data",
          "data": {
            "image/png": "[encoded data removed]",
            "text/plain": [
              "<Figure size 432x288 with 1 Axes>"
            ]
          },
          "metadata": {
            "tags": [],
            "needs_background": "light"
          }
        },
        {
          "output_type": "stream",
          "text": [
            "(102, 20)\n"
          ],
          "name": "stdout"
        },
        {
          "output_type": "display_data",
          "data": {
            "image/png": "[encoded data removed]",
            "text/plain": [
              "<Figure size 432x288 with 1 Axes>"
            ]
          },
          "metadata": {
            "tags": [],
            "needs_background": "light"
          }
        }
      ]
    },
    {
      "cell_type": "markdown",
      "metadata": {
        "id": "JUwTI8RKv6Jl"
      },
      "source": [
        "## Export to CSV file to drive"
      ]
    },
    {
      "cell_type": "code",
      "metadata": {
        "id": "L186HizSg0Dr",
        "outputId": "0b204321-4f67-42f4-8d3e-918dd6d590e8",
        "colab": {
          "base_uri": "https://localhost:8080/",
          "height": 35
        }
      },
      "source": [
        "from datetime import datetime\n",
        "location = '/content/drive/Shared drives/CMPE 295- Master Project/Covid19-data/CA/'\n",
        "filename = 'CA_labeledData_'+datetime.now().strftime(\"%b%d\")+'.csv' #%Y%m%d\n",
        "print(filename)\n",
        "CA_combined_data.to_csv(location+filename,index=False)"
      ],
      "execution_count": null,
      "outputs": [
        {
          "output_type": "stream",
          "text": [
            "CA_labeledData_Oct11.csv\n"
          ],
          "name": "stdout"
        }
      ]
    },
    {
      "cell_type": "markdown",
      "metadata": {
        "id": "XcRhfYzHGv5f"
      },
      "source": [
        "## 1.Filter-Los Angeles County"
      ]
    },
    {
      "cell_type": "code",
      "metadata": {
        "id": "CtP24oJV9f33",
        "outputId": "3be198c9-7bcf-4262-c34a-4c56593d5d25",
        "colab": {
          "base_uri": "https://localhost:8080/",
          "height": 296
        }
      },
      "source": [
        "CA_combined_data_test_la = CA_combined_data[CA_combined_data['County Name']== 'Los Angeles County']\n",
        "CA_combined_data_test_la.head(3)"
      ],
      "execution_count": null,
      "outputs": [
        {
          "output_type": "execute_result",
          "data": {
            "text/html": [
              "<div>\n",
              "<style scoped>\n",
              "    .dataframe tbody tr th:only-of-type {\n",
              "        vertical-align: middle;\n",
              "    }\n",
              "\n",
              "    .dataframe tbody tr th {\n",
              "        vertical-align: top;\n",
              "    }\n",
              "\n",
              "    .dataframe thead th {\n",
              "        text-align: right;\n",
              "    }\n",
              "</style>\n",
              "<table border=\"1\" class=\"dataframe\">\n",
              "  <thead>\n",
              "    <tr style=\"text-align: right;\">\n",
              "      <th></th>\n",
              "      <th>Date</th>\n",
              "      <th>fips_x</th>\n",
              "      <th>County Name</th>\n",
              "      <th>population</th>\n",
              "      <th>retail and recreation</th>\n",
              "      <th>grocery and pharmacy</th>\n",
              "      <th>parks</th>\n",
              "      <th>transit stations</th>\n",
              "      <th>workplaces</th>\n",
              "      <th>residential</th>\n",
              "      <th>driving</th>\n",
              "      <th>m50</th>\n",
              "      <th>m50_index</th>\n",
              "      <th>population_density</th>\n",
              "      <th>mask_rule_active</th>\n",
              "      <th>mask_wearing_percent</th>\n",
              "      <th>New cases</th>\n",
              "      <th>New Cases/1k population</th>\n",
              "      <th>growth_label</th>\n",
              "    </tr>\n",
              "  </thead>\n",
              "  <tbody>\n",
              "    <tr>\n",
              "      <th>2924</th>\n",
              "      <td>2020-03-01</td>\n",
              "      <td>6037</td>\n",
              "      <td>Los Angeles County</td>\n",
              "      <td>10039107</td>\n",
              "      <td>4.0</td>\n",
              "      <td>3.0</td>\n",
              "      <td>-5.0</td>\n",
              "      <td>-3.0</td>\n",
              "      <td>1.0</td>\n",
              "      <td>0.0</td>\n",
              "      <td>-4.36</td>\n",
              "      <td>3.996</td>\n",
              "      <td>60</td>\n",
              "      <td>2473.978284</td>\n",
              "      <td>0</td>\n",
              "      <td>0.0</td>\n",
              "      <td>0</td>\n",
              "      <td>0.0</td>\n",
              "      <td>flat_growth</td>\n",
              "    </tr>\n",
              "    <tr>\n",
              "      <th>2925</th>\n",
              "      <td>2020-03-02</td>\n",
              "      <td>6037</td>\n",
              "      <td>Los Angeles County</td>\n",
              "      <td>10039107</td>\n",
              "      <td>5.0</td>\n",
              "      <td>5.0</td>\n",
              "      <td>8.0</td>\n",
              "      <td>1.0</td>\n",
              "      <td>4.0</td>\n",
              "      <td>-1.0</td>\n",
              "      <td>7.51</td>\n",
              "      <td>6.502</td>\n",
              "      <td>98</td>\n",
              "      <td>2473.978284</td>\n",
              "      <td>0</td>\n",
              "      <td>0.0</td>\n",
              "      <td>0</td>\n",
              "      <td>0.0</td>\n",
              "      <td>flat_growth</td>\n",
              "    </tr>\n",
              "    <tr>\n",
              "      <th>2926</th>\n",
              "      <td>2020-03-03</td>\n",
              "      <td>6037</td>\n",
              "      <td>Los Angeles County</td>\n",
              "      <td>10039107</td>\n",
              "      <td>8.0</td>\n",
              "      <td>7.0</td>\n",
              "      <td>32.0</td>\n",
              "      <td>2.0</td>\n",
              "      <td>3.0</td>\n",
              "      <td>-1.0</td>\n",
              "      <td>17.24</td>\n",
              "      <td>6.591</td>\n",
              "      <td>99</td>\n",
              "      <td>2473.978284</td>\n",
              "      <td>0</td>\n",
              "      <td>0.0</td>\n",
              "      <td>0</td>\n",
              "      <td>0.0</td>\n",
              "      <td>flat_growth</td>\n",
              "    </tr>\n",
              "  </tbody>\n",
              "</table>\n",
              "</div>"
            ],
            "text/plain": [
              "            Date  fips_x  ... New Cases/1k population  growth_label\n",
              "2924  2020-03-01    6037  ...                     0.0   flat_growth\n",
              "2925  2020-03-02    6037  ...                     0.0   flat_growth\n",
              "2926  2020-03-03    6037  ...                     0.0   flat_growth\n",
              "\n",
              "[3 rows x 19 columns]"
            ]
          },
          "metadata": {
            "tags": []
          },
          "execution_count": 16
        }
      ]
    },
    {
      "cell_type": "code",
      "metadata": {
        "id": "a_QC_K_A9mmj"
      },
      "source": [
        "new_cases_1k_la_list = CA_combined_data_test_la ['New Cases/1k population'].values"
      ],
      "execution_count": null,
      "outputs": []
    },
    {
      "cell_type": "markdown",
      "metadata": {
        "id": "ubvmGO4VCI5H"
      },
      "source": [
        "### Finding mean, std. dev"
      ]
    },
    {
      "cell_type": "code",
      "metadata": {
        "id": "zebcfDQ49xmS",
        "outputId": "c1be7e42-bcb2-4607-82da-58f9f9238028",
        "colab": {
          "base_uri": "https://localhost:8080/",
          "height": 52
        }
      },
      "source": [
        "meanVal= np.mean(new_cases_1k_la_list, axis=0)\n",
        "stdVal = np.std(new_cases_1k_la_list, axis=0)\n",
        "print('Mean: ', np.mean(new_cases_1k_la_list, axis=0))\n",
        "print('Standard Deviation:', np.std(new_cases_1k_la_list, axis=0))"
      ],
      "execution_count": null,
      "outputs": [
        {
          "output_type": "stream",
          "text": [
            "Mean:  0.13074045747898344\n",
            "Standard Deviation: 0.11493892995460023\n"
          ],
          "name": "stdout"
        }
      ]
    },
    {
      "cell_type": "markdown",
      "metadata": {
        "id": "_BnkKBPfCJ2g"
      },
      "source": [
        "### Method to compute normal distribution to label the data "
      ]
    },
    {
      "cell_type": "code",
      "metadata": {
        "id": "kQ-JBZn-9zx1"
      },
      "source": [
        "  def determine_growth_label_stdev(i,meanVal,stdVal):\n",
        "    if (i > (meanVal + (stdVal * 1) / 3)):\n",
        "        #print(\"Label: \", i, \"drastic_growth\")\n",
        "        return 'drastic_growth'\n",
        "    elif ( i > (meanVal) and i <= (meanVal + (stdVal * 1) / 3)):\n",
        "        #print(\"Label: \", i, \"mild_growth\")\n",
        "        return 'mild_growth'\n",
        "    elif (i >= (meanVal - (stdVal * 1) / 3) and i <= meanVal):\n",
        "        #print(\"Label: \", i, \"flat_growth\")\n",
        "        return 'flat_growth'\n",
        "    elif (i < (meanVal - (stdVal * 1) / 3) and i >= (meanVal - (stdVal * 2) / 3)):\n",
        "        #print(\"Label: \", i, \"mild_decrement\")\n",
        "        return 'mild_decrement'\n",
        "    elif (i < (meanVal - (stdVal * 2) / 3)):\n",
        "        #print(\"Label: \", i, \"drastic_decrement\")\n",
        "        return 'drastic_decrement'\n",
        "    "
      ],
      "execution_count": null,
      "outputs": []
    },
    {
      "cell_type": "code",
      "metadata": {
        "id": "GQClRYEZ92r8",
        "outputId": "445c5385-45b4-4d49-8d82-5bf73c705968",
        "colab": {
          "base_uri": "https://localhost:8080/",
          "height": 465
        }
      },
      "source": [
        "CA_combined_data_test_la['growth_label'] = CA_combined_data_test_la['New Cases/1k population'].apply(lambda x: determine_growth_label_stdev(x,meanVal,stdVal) )\n",
        "CA_combined_data_test_la.head(4)"
      ],
      "execution_count": null,
      "outputs": [
        {
          "output_type": "stream",
          "text": [
            "/usr/local/lib/python3.6/dist-packages/ipykernel_launcher.py:1: SettingWithCopyWarning: \n",
            "A value is trying to be set on a copy of a slice from a DataFrame.\n",
            "Try using .loc[row_indexer,col_indexer] = value instead\n",
            "\n",
            "See the caveats in the documentation: https://pandas.pydata.org/pandas-docs/stable/user_guide/indexing.html#returning-a-view-versus-a-copy\n",
            "  \"\"\"Entry point for launching an IPython kernel.\n"
          ],
          "name": "stderr"
        },
        {
          "output_type": "execute_result",
          "data": {
            "text/html": [
              "<div>\n",
              "<style scoped>\n",
              "    .dataframe tbody tr th:only-of-type {\n",
              "        vertical-align: middle;\n",
              "    }\n",
              "\n",
              "    .dataframe tbody tr th {\n",
              "        vertical-align: top;\n",
              "    }\n",
              "\n",
              "    .dataframe thead th {\n",
              "        text-align: right;\n",
              "    }\n",
              "</style>\n",
              "<table border=\"1\" class=\"dataframe\">\n",
              "  <thead>\n",
              "    <tr style=\"text-align: right;\">\n",
              "      <th></th>\n",
              "      <th>Date</th>\n",
              "      <th>fips_x</th>\n",
              "      <th>County Name</th>\n",
              "      <th>population</th>\n",
              "      <th>retail and recreation</th>\n",
              "      <th>grocery and pharmacy</th>\n",
              "      <th>parks</th>\n",
              "      <th>transit stations</th>\n",
              "      <th>workplaces</th>\n",
              "      <th>residential</th>\n",
              "      <th>driving</th>\n",
              "      <th>m50</th>\n",
              "      <th>m50_index</th>\n",
              "      <th>population_density</th>\n",
              "      <th>mask_rule_active</th>\n",
              "      <th>mask_wearing_percent</th>\n",
              "      <th>New cases</th>\n",
              "      <th>New Cases/1k population</th>\n",
              "      <th>growth_label</th>\n",
              "    </tr>\n",
              "  </thead>\n",
              "  <tbody>\n",
              "    <tr>\n",
              "      <th>2924</th>\n",
              "      <td>2020-03-01</td>\n",
              "      <td>6037</td>\n",
              "      <td>Los Angeles County</td>\n",
              "      <td>10039107</td>\n",
              "      <td>4.0</td>\n",
              "      <td>3.0</td>\n",
              "      <td>-5.0</td>\n",
              "      <td>-3.0</td>\n",
              "      <td>1.0</td>\n",
              "      <td>0.0</td>\n",
              "      <td>-4.36</td>\n",
              "      <td>3.996</td>\n",
              "      <td>60</td>\n",
              "      <td>2473.978284</td>\n",
              "      <td>0</td>\n",
              "      <td>0.0</td>\n",
              "      <td>0</td>\n",
              "      <td>0.000000</td>\n",
              "      <td>drastic_decrement</td>\n",
              "    </tr>\n",
              "    <tr>\n",
              "      <th>2925</th>\n",
              "      <td>2020-03-02</td>\n",
              "      <td>6037</td>\n",
              "      <td>Los Angeles County</td>\n",
              "      <td>10039107</td>\n",
              "      <td>5.0</td>\n",
              "      <td>5.0</td>\n",
              "      <td>8.0</td>\n",
              "      <td>1.0</td>\n",
              "      <td>4.0</td>\n",
              "      <td>-1.0</td>\n",
              "      <td>7.51</td>\n",
              "      <td>6.502</td>\n",
              "      <td>98</td>\n",
              "      <td>2473.978284</td>\n",
              "      <td>0</td>\n",
              "      <td>0.0</td>\n",
              "      <td>0</td>\n",
              "      <td>0.000000</td>\n",
              "      <td>drastic_decrement</td>\n",
              "    </tr>\n",
              "    <tr>\n",
              "      <th>2926</th>\n",
              "      <td>2020-03-03</td>\n",
              "      <td>6037</td>\n",
              "      <td>Los Angeles County</td>\n",
              "      <td>10039107</td>\n",
              "      <td>8.0</td>\n",
              "      <td>7.0</td>\n",
              "      <td>32.0</td>\n",
              "      <td>2.0</td>\n",
              "      <td>3.0</td>\n",
              "      <td>-1.0</td>\n",
              "      <td>17.24</td>\n",
              "      <td>6.591</td>\n",
              "      <td>99</td>\n",
              "      <td>2473.978284</td>\n",
              "      <td>0</td>\n",
              "      <td>0.0</td>\n",
              "      <td>0</td>\n",
              "      <td>0.000000</td>\n",
              "      <td>drastic_decrement</td>\n",
              "    </tr>\n",
              "    <tr>\n",
              "      <th>2927</th>\n",
              "      <td>2020-03-04</td>\n",
              "      <td>6037</td>\n",
              "      <td>Los Angeles County</td>\n",
              "      <td>10039107</td>\n",
              "      <td>4.0</td>\n",
              "      <td>6.0</td>\n",
              "      <td>9.0</td>\n",
              "      <td>-1.0</td>\n",
              "      <td>2.0</td>\n",
              "      <td>0.0</td>\n",
              "      <td>13.82</td>\n",
              "      <td>6.595</td>\n",
              "      <td>100</td>\n",
              "      <td>2473.978284</td>\n",
              "      <td>0</td>\n",
              "      <td>0.0</td>\n",
              "      <td>6</td>\n",
              "      <td>0.000598</td>\n",
              "      <td>drastic_decrement</td>\n",
              "    </tr>\n",
              "  </tbody>\n",
              "</table>\n",
              "</div>"
            ],
            "text/plain": [
              "            Date  fips_x  ... New Cases/1k population       growth_label\n",
              "2924  2020-03-01    6037  ...                0.000000  drastic_decrement\n",
              "2925  2020-03-02    6037  ...                0.000000  drastic_decrement\n",
              "2926  2020-03-03    6037  ...                0.000000  drastic_decrement\n",
              "2927  2020-03-04    6037  ...                0.000598  drastic_decrement\n",
              "\n",
              "[4 rows x 19 columns]"
            ]
          },
          "metadata": {
            "tags": []
          },
          "execution_count": 20
        }
      ]
    },
    {
      "cell_type": "code",
      "metadata": {
        "id": "WBF_owznABWz",
        "outputId": "8c820638-9ce0-44ec-f0a6-134371703e85",
        "colab": {
          "base_uri": "https://localhost:8080/",
          "height": 104
        }
      },
      "source": [
        "print(CA_combined_data_test_la[CA_combined_data_test_la['growth_label'] == 'drastic_growth'].shape)\n",
        "print(CA_combined_data_test_la[CA_combined_data_test_la['growth_label'] == 'mild_decrement'].shape)\n",
        "print(CA_combined_data_test_la[CA_combined_data_test_la['growth_label'] == 'drastic_decrement'].shape)\n",
        "print(CA_combined_data_test_la[CA_combined_data_test_la['growth_label'] == 'mild_growth'].shape)\n",
        "print(CA_combined_data_test_la[CA_combined_data_test_la['growth_label'] == 'flat_growth'].shape)\n"
      ],
      "execution_count": null,
      "outputs": [
        {
          "output_type": "stream",
          "text": [
            "(55, 19)\n",
            "(26, 19)\n",
            "(50, 19)\n",
            "(17, 19)\n",
            "(24, 19)\n"
          ],
          "name": "stdout"
        }
      ]
    },
    {
      "cell_type": "code",
      "metadata": {
        "id": "ObQZ7FbjABjx",
        "outputId": "dd22337e-b014-41ca-a784-42e28c944ccc",
        "colab": {
          "base_uri": "https://localhost:8080/",
          "height": 104
        }
      },
      "source": [
        "print(CA_combined_data_test_la[CA_combined_data_test_la['growth_label'] == 'drastic_growth'].shape)\n",
        "print(CA_combined_data_test_la[CA_combined_data_test_la['growth_label'] == 'mild_decrement'].shape)\n",
        "print(CA_combined_data_test_la[CA_combined_data_test_la['growth_label'] == 'drastic_decrement'].shape)\n",
        "print(CA_combined_data_test_la[CA_combined_data_test_la['growth_label'] == 'mild_growth'].shape)\n",
        "print(CA_combined_data_test_la[CA_combined_data_test_la['growth_label'] == 'flat_growth'].shape)\n"
      ],
      "execution_count": null,
      "outputs": [
        {
          "output_type": "stream",
          "text": [
            "(55, 19)\n",
            "(26, 19)\n",
            "(50, 19)\n",
            "(17, 19)\n",
            "(24, 19)\n"
          ],
          "name": "stdout"
        }
      ]
    },
    {
      "cell_type": "markdown",
      "metadata": {
        "id": "5-HbA6SIHsr0"
      },
      "source": [
        "### Export CSV File"
      ]
    },
    {
      "cell_type": "code",
      "metadata": {
        "id": "9mpJJ4Fq-O8N",
        "outputId": "3fe0c1a0-eaee-4506-fb9f-587e098217ae",
        "colab": {
          "base_uri": "https://localhost:8080/"
        }
      },
      "source": [
        "from datetime import datetime\n",
        "location = '/content/drive/Shared drives/CMPE 295- Master Project/Covid19-data/CA/'\n",
        "filename = 'CA_labeledData_LosAngeles_'+datetime.now().strftime(\"%b%d\")+'.csv' #%Y%m%d\n",
        "print(filename)\n",
        "CA_combined_data_test_la.to_csv(location+filename,index=False)"
      ],
      "execution_count": null,
      "outputs": [
        {
          "output_type": "stream",
          "text": [
            "CA_labeledData_LosAngeles_Oct11.csv\n"
          ],
          "name": "stdout"
        }
      ]
    },
    {
      "cell_type": "markdown",
      "metadata": {
        "id": "wITkE1yu-erL"
      },
      "source": [
        "# Loading Inertia"
      ]
    },
    {
      "cell_type": "code",
      "metadata": {
        "id": "qQwFuyGg-gNf",
        "outputId": "5501e62b-db43-431e-bfed-f005e601a810",
        "colab": {
          "base_uri": "https://localhost:8080/",
          "height": 421
        }
      },
      "source": [
        "CA_combined_sd_inertia_data = pd.read_csv('/content/drive/Shared drives/CMPE 295- Master Project/Covid19-data/CA/CA_socialDistancingInertiaData_Sep25.csv',low_memory=False)\n",
        "CA_combined_sd_inertia_data.head()"
      ],
      "execution_count": 12,
      "outputs": [
        {
          "output_type": "error",
          "ename": "FileNotFoundError",
          "evalue": "ignored",
          "traceback": [
            "\u001b[0;31m---------------------------------------------------------------------------\u001b[0m",
            "\u001b[0;31mFileNotFoundError\u001b[0m                         Traceback (most recent call last)",
            "\u001b[0;32m<ipython-input-12-cc3c33726ba1>\u001b[0m in \u001b[0;36m<module>\u001b[0;34m()\u001b[0m\n\u001b[0;32m----> 1\u001b[0;31m \u001b[0mCA_combined_sd_inertia_data\u001b[0m \u001b[0;34m=\u001b[0m \u001b[0mpd\u001b[0m\u001b[0;34m.\u001b[0m\u001b[0mread_csv\u001b[0m\u001b[0;34m(\u001b[0m\u001b[0;34m'/content/drive/Shared drives/CMPE 295- Master Project/Covid19-data/CA/CA_socialDistancingInertiaData_Sep25.csv'\u001b[0m\u001b[0;34m,\u001b[0m\u001b[0mlow_memory\u001b[0m\u001b[0;34m=\u001b[0m\u001b[0;32mFalse\u001b[0m\u001b[0;34m)\u001b[0m\u001b[0;34m\u001b[0m\u001b[0;34m\u001b[0m\u001b[0m\n\u001b[0m\u001b[1;32m      2\u001b[0m \u001b[0mCA_combined_sd_inertia_data\u001b[0m\u001b[0;34m.\u001b[0m\u001b[0mhead\u001b[0m\u001b[0;34m(\u001b[0m\u001b[0;34m)\u001b[0m\u001b[0;34m\u001b[0m\u001b[0;34m\u001b[0m\u001b[0m\n",
            "\u001b[0;32m/usr/local/lib/python3.6/dist-packages/pandas/io/parsers.py\u001b[0m in \u001b[0;36mread_csv\u001b[0;34m(filepath_or_buffer, sep, delimiter, header, names, index_col, usecols, squeeze, prefix, mangle_dupe_cols, dtype, engine, converters, true_values, false_values, skipinitialspace, skiprows, skipfooter, nrows, na_values, keep_default_na, na_filter, verbose, skip_blank_lines, parse_dates, infer_datetime_format, keep_date_col, date_parser, dayfirst, cache_dates, iterator, chunksize, compression, thousands, decimal, lineterminator, quotechar, quoting, doublequote, escapechar, comment, encoding, dialect, error_bad_lines, warn_bad_lines, delim_whitespace, low_memory, memory_map, float_precision)\u001b[0m\n\u001b[1;32m    684\u001b[0m     )\n\u001b[1;32m    685\u001b[0m \u001b[0;34m\u001b[0m\u001b[0m\n\u001b[0;32m--> 686\u001b[0;31m     \u001b[0;32mreturn\u001b[0m \u001b[0m_read\u001b[0m\u001b[0;34m(\u001b[0m\u001b[0mfilepath_or_buffer\u001b[0m\u001b[0;34m,\u001b[0m \u001b[0mkwds\u001b[0m\u001b[0;34m)\u001b[0m\u001b[0;34m\u001b[0m\u001b[0;34m\u001b[0m\u001b[0m\n\u001b[0m\u001b[1;32m    687\u001b[0m \u001b[0;34m\u001b[0m\u001b[0m\n\u001b[1;32m    688\u001b[0m \u001b[0;34m\u001b[0m\u001b[0m\n",
            "\u001b[0;32m/usr/local/lib/python3.6/dist-packages/pandas/io/parsers.py\u001b[0m in \u001b[0;36m_read\u001b[0;34m(filepath_or_buffer, kwds)\u001b[0m\n\u001b[1;32m    450\u001b[0m \u001b[0;34m\u001b[0m\u001b[0m\n\u001b[1;32m    451\u001b[0m     \u001b[0;31m# Create the parser.\u001b[0m\u001b[0;34m\u001b[0m\u001b[0;34m\u001b[0m\u001b[0;34m\u001b[0m\u001b[0m\n\u001b[0;32m--> 452\u001b[0;31m     \u001b[0mparser\u001b[0m \u001b[0;34m=\u001b[0m \u001b[0mTextFileReader\u001b[0m\u001b[0;34m(\u001b[0m\u001b[0mfp_or_buf\u001b[0m\u001b[0;34m,\u001b[0m \u001b[0;34m**\u001b[0m\u001b[0mkwds\u001b[0m\u001b[0;34m)\u001b[0m\u001b[0;34m\u001b[0m\u001b[0;34m\u001b[0m\u001b[0m\n\u001b[0m\u001b[1;32m    453\u001b[0m \u001b[0;34m\u001b[0m\u001b[0m\n\u001b[1;32m    454\u001b[0m     \u001b[0;32mif\u001b[0m \u001b[0mchunksize\u001b[0m \u001b[0;32mor\u001b[0m \u001b[0miterator\u001b[0m\u001b[0;34m:\u001b[0m\u001b[0;34m\u001b[0m\u001b[0;34m\u001b[0m\u001b[0m\n",
            "\u001b[0;32m/usr/local/lib/python3.6/dist-packages/pandas/io/parsers.py\u001b[0m in \u001b[0;36m__init__\u001b[0;34m(self, f, engine, **kwds)\u001b[0m\n\u001b[1;32m    944\u001b[0m             \u001b[0mself\u001b[0m\u001b[0;34m.\u001b[0m\u001b[0moptions\u001b[0m\u001b[0;34m[\u001b[0m\u001b[0;34m\"has_index_names\"\u001b[0m\u001b[0;34m]\u001b[0m \u001b[0;34m=\u001b[0m \u001b[0mkwds\u001b[0m\u001b[0;34m[\u001b[0m\u001b[0;34m\"has_index_names\"\u001b[0m\u001b[0;34m]\u001b[0m\u001b[0;34m\u001b[0m\u001b[0;34m\u001b[0m\u001b[0m\n\u001b[1;32m    945\u001b[0m \u001b[0;34m\u001b[0m\u001b[0m\n\u001b[0;32m--> 946\u001b[0;31m         \u001b[0mself\u001b[0m\u001b[0;34m.\u001b[0m\u001b[0m_make_engine\u001b[0m\u001b[0;34m(\u001b[0m\u001b[0mself\u001b[0m\u001b[0;34m.\u001b[0m\u001b[0mengine\u001b[0m\u001b[0;34m)\u001b[0m\u001b[0;34m\u001b[0m\u001b[0;34m\u001b[0m\u001b[0m\n\u001b[0m\u001b[1;32m    947\u001b[0m \u001b[0;34m\u001b[0m\u001b[0m\n\u001b[1;32m    948\u001b[0m     \u001b[0;32mdef\u001b[0m \u001b[0mclose\u001b[0m\u001b[0;34m(\u001b[0m\u001b[0mself\u001b[0m\u001b[0;34m)\u001b[0m\u001b[0;34m:\u001b[0m\u001b[0;34m\u001b[0m\u001b[0;34m\u001b[0m\u001b[0m\n",
            "\u001b[0;32m/usr/local/lib/python3.6/dist-packages/pandas/io/parsers.py\u001b[0m in \u001b[0;36m_make_engine\u001b[0;34m(self, engine)\u001b[0m\n\u001b[1;32m   1176\u001b[0m     \u001b[0;32mdef\u001b[0m \u001b[0m_make_engine\u001b[0m\u001b[0;34m(\u001b[0m\u001b[0mself\u001b[0m\u001b[0;34m,\u001b[0m \u001b[0mengine\u001b[0m\u001b[0;34m=\u001b[0m\u001b[0;34m\"c\"\u001b[0m\u001b[0;34m)\u001b[0m\u001b[0;34m:\u001b[0m\u001b[0;34m\u001b[0m\u001b[0;34m\u001b[0m\u001b[0m\n\u001b[1;32m   1177\u001b[0m         \u001b[0;32mif\u001b[0m \u001b[0mengine\u001b[0m \u001b[0;34m==\u001b[0m \u001b[0;34m\"c\"\u001b[0m\u001b[0;34m:\u001b[0m\u001b[0;34m\u001b[0m\u001b[0;34m\u001b[0m\u001b[0m\n\u001b[0;32m-> 1178\u001b[0;31m             \u001b[0mself\u001b[0m\u001b[0;34m.\u001b[0m\u001b[0m_engine\u001b[0m \u001b[0;34m=\u001b[0m \u001b[0mCParserWrapper\u001b[0m\u001b[0;34m(\u001b[0m\u001b[0mself\u001b[0m\u001b[0;34m.\u001b[0m\u001b[0mf\u001b[0m\u001b[0;34m,\u001b[0m \u001b[0;34m**\u001b[0m\u001b[0mself\u001b[0m\u001b[0;34m.\u001b[0m\u001b[0moptions\u001b[0m\u001b[0;34m)\u001b[0m\u001b[0;34m\u001b[0m\u001b[0;34m\u001b[0m\u001b[0m\n\u001b[0m\u001b[1;32m   1179\u001b[0m         \u001b[0;32melse\u001b[0m\u001b[0;34m:\u001b[0m\u001b[0;34m\u001b[0m\u001b[0;34m\u001b[0m\u001b[0m\n\u001b[1;32m   1180\u001b[0m             \u001b[0;32mif\u001b[0m \u001b[0mengine\u001b[0m \u001b[0;34m==\u001b[0m \u001b[0;34m\"python\"\u001b[0m\u001b[0;34m:\u001b[0m\u001b[0;34m\u001b[0m\u001b[0;34m\u001b[0m\u001b[0m\n",
            "\u001b[0;32m/usr/local/lib/python3.6/dist-packages/pandas/io/parsers.py\u001b[0m in \u001b[0;36m__init__\u001b[0;34m(self, src, **kwds)\u001b[0m\n\u001b[1;32m   2006\u001b[0m         \u001b[0mkwds\u001b[0m\u001b[0;34m[\u001b[0m\u001b[0;34m\"usecols\"\u001b[0m\u001b[0;34m]\u001b[0m \u001b[0;34m=\u001b[0m \u001b[0mself\u001b[0m\u001b[0;34m.\u001b[0m\u001b[0musecols\u001b[0m\u001b[0;34m\u001b[0m\u001b[0;34m\u001b[0m\u001b[0m\n\u001b[1;32m   2007\u001b[0m \u001b[0;34m\u001b[0m\u001b[0m\n\u001b[0;32m-> 2008\u001b[0;31m         \u001b[0mself\u001b[0m\u001b[0;34m.\u001b[0m\u001b[0m_reader\u001b[0m \u001b[0;34m=\u001b[0m \u001b[0mparsers\u001b[0m\u001b[0;34m.\u001b[0m\u001b[0mTextReader\u001b[0m\u001b[0;34m(\u001b[0m\u001b[0msrc\u001b[0m\u001b[0;34m,\u001b[0m \u001b[0;34m**\u001b[0m\u001b[0mkwds\u001b[0m\u001b[0;34m)\u001b[0m\u001b[0;34m\u001b[0m\u001b[0;34m\u001b[0m\u001b[0m\n\u001b[0m\u001b[1;32m   2009\u001b[0m         \u001b[0mself\u001b[0m\u001b[0;34m.\u001b[0m\u001b[0munnamed_cols\u001b[0m \u001b[0;34m=\u001b[0m \u001b[0mself\u001b[0m\u001b[0;34m.\u001b[0m\u001b[0m_reader\u001b[0m\u001b[0;34m.\u001b[0m\u001b[0munnamed_cols\u001b[0m\u001b[0;34m\u001b[0m\u001b[0;34m\u001b[0m\u001b[0m\n\u001b[1;32m   2010\u001b[0m \u001b[0;34m\u001b[0m\u001b[0m\n",
            "\u001b[0;32mpandas/_libs/parsers.pyx\u001b[0m in \u001b[0;36mpandas._libs.parsers.TextReader.__cinit__\u001b[0;34m()\u001b[0m\n",
            "\u001b[0;32mpandas/_libs/parsers.pyx\u001b[0m in \u001b[0;36mpandas._libs.parsers.TextReader._setup_parser_source\u001b[0;34m()\u001b[0m\n",
            "\u001b[0;31mFileNotFoundError\u001b[0m: [Errno 2] No such file or directory: '/content/drive/Shared drives/CMPE 295- Master Project/Covid19-data/CA/CA_socialDistancingInertiaData_Sep25.csv'"
          ]
        }
      ]
    },
    {
      "cell_type": "markdown",
      "metadata": {
        "id": "L8fY5jCTj7gz"
      },
      "source": [
        "## Apply for all counties"
      ]
    },
    {
      "cell_type": "code",
      "metadata": {
        "id": "aDm3UYQqj9un"
      },
      "source": [
        "county_names = CA_combined_sd_inertia_data['CTNAME'].unique()"
      ],
      "execution_count": null,
      "outputs": []
    },
    {
      "cell_type": "code",
      "metadata": {
        "id": "QJ4ha19YkC6t",
        "outputId": "287f459c-b74a-4f9f-a27b-b0d0f8e931e6",
        "colab": {
          "base_uri": "https://localhost:8080/",
          "height": 1000
        }
      },
      "source": [
        "for county in county_names:\n",
        "    print('county :',county)\n",
        "    county_data = CA_combined_sd_inertia_data[CA_combined_sd_inertia_data['CTNAME']== county]\n",
        "    new_cases_1k_la_list = county_data['New cases/1000 people'].values\n",
        "    diffArr = np.diff(new_cases_1k_la_list)\n",
        "    growth_values =[]\n",
        "    growth_values.append(0.0) # making first value as 0, as np.diff leaves first values as NA\n",
        "    \n",
        "    growth_values.extend(diffArr)\n",
        "    county_data['growth_values'] = growth_values\n",
        "\n",
        "    minVal = np.min(growth_values)\n",
        "    maxVal = np.max(growth_values)\n",
        "    meanVal= np.mean(growth_values, axis=0)\n",
        "    stdVal = np.std(growth_values, axis=0)\n",
        "    debug = False\n",
        "    if debug:\n",
        "      print(\"min : \",minVal)\n",
        "      print(\"max : \",maxVal)\n",
        "      print('Mean: ', np.mean(growth_values, axis=0))\n",
        "      print('Standard Deviation:', np.std(growth_values, axis=0))\n",
        "      print('. (meanVal + (stdVal * 1) / 3). ',(meanVal + (stdVal * 1) / 3))\n",
        "      print('. (meanVal - (stdVal * 1) / 3). ',(meanVal - (stdVal * 1) / 3))\n",
        "      print('. (meanVal + (stdVal * 2) / 3). ',(meanVal + (stdVal * 2) / 3))\n",
        "      print('. (meanVal - (stdVal * 2) / 3). ',(meanVal - (stdVal * 2) / 3))\n",
        "      print('. (meanVal + (stdVal * 3) / 3). ',(meanVal + (stdVal * 3) / 3))\n",
        "      print('. (meanVal - (stdVal * 3) / 3). ',(meanVal - (stdVal * 3) / 3))\n",
        "      print(\"min : \",minVal)\n",
        "      print('. (meanVal - (stdVal * 1) / 2). ',(meanVal - (stdVal * 1) / 2))\n",
        "      print('. (meanVal - (stdVal * 2) / 2). ',(meanVal - (stdVal * 2) / 2))\n",
        "      print('. (meanVal - (stdVal * 3) / 2). ',(meanVal - (stdVal * 3) / 2))\n",
        "\n",
        "      print(\"max : \",maxVal)\n",
        "      print('. (meanVal + (stdVal * 1) / 2). ',(meanVal + (stdVal * 1) / 2))\n",
        "      print('. (meanVal + (stdVal * 2) / 2). ',(meanVal + (stdVal * 2) / 2))\n",
        "      print('. (meanVal + (stdVal * 3) / 2). ',(meanVal + (stdVal * 3) / 2))\n",
        "\n",
        "      print(\"min : \",minVal)\n",
        "      print('. (meanVal - (stdVal * 1)). ',(meanVal - (stdVal * 1)))\n",
        "      print('. (meanVal - (stdVal * 2)). ',(meanVal - (stdVal * 2)))\n",
        "      print('. (meanVal - (stdVal * 3)). ',(meanVal - (stdVal * 3)))\n",
        "\n",
        "      print(\"max : \",maxVal)\n",
        "      print('. (meanVal + (stdVal * 1)). ',(meanVal + (stdVal * 1)))\n",
        "      print('. (meanVal + (stdVal * 2)). ',(meanVal + (stdVal * 2)))\n",
        "      print('. (meanVal + (stdVal * 3)). ',(meanVal + (stdVal * 3)))\n",
        "\n",
        "    meanVal= np.mean(new_cases_1k_la_list, axis=0)\n",
        "    stdVal = np.std(new_cases_1k_la_list, axis=0)\n",
        "    #print('Mean: ', np.mean(new_cases_1k_la_list, axis=0))\n",
        "    #print('Standard Deviation:', np.std(new_cases_1k_la_list, axis=0))\n",
        "    for index, row in (county_data.iterrows()):\n",
        "\n",
        "      i = row['growth_values']\n",
        "\n",
        "      if (i > (meanVal + (stdVal * 1) / 3)):\n",
        "          #print(\"Label: \", i, \"drastic_growth\")\n",
        "          label =  'drastic_growth'\n",
        "      elif ( i > (meanVal + (stdVal * 2) /3) and i <= (meanVal + (stdVal * 1) / 3)):\n",
        "          #print(\"Label: \", i, \"mild_growth\")\n",
        "          label =  'mild_growth'\n",
        "      elif (i >= (meanVal - (stdVal * 1) / 3) and i <= meanVal and i <= (meanVal + (stdVal * 1) / 3)):\n",
        "          #print(\"Label: \", i, \"flat_growth\")\n",
        "          label = 'flat_growth'\n",
        "      elif (i < (meanVal - (stdVal * 1) / 3) and i >= (meanVal - (stdVal * 2) / 3)):\n",
        "          #print(\"Label: \", i, \"mild_decrement\")\n",
        "          label = 'mild_decrement'\n",
        "      elif (i < (meanVal - (stdVal * 2) / 3)):\n",
        "          #print(\"Label: \", i, \"drastic_decrement\")\n",
        "          label = 'drastic_decrement'\n",
        "    \n",
        "      date = row['Date']\n",
        "      #print(i,county, date, label)\n",
        "\n",
        "      df_index = (CA_combined_sd_inertia_data['CTNAME'] == county) & (CA_combined_sd_inertia_data['Date'] == date) \n",
        "      #print(df_weekData)\n",
        "      CA_combined_sd_inertia_data.loc[df_index,'growth_label'] = label\n",
        "    #break\n",
        "    "
      ],
      "execution_count": null,
      "outputs": [
        {
          "output_type": "stream",
          "text": [
            "county : Alameda County\n"
          ],
          "name": "stdout"
        },
        {
          "output_type": "stream",
          "text": [
            "/usr/local/lib/python3.6/dist-packages/ipykernel_launcher.py:10: SettingWithCopyWarning: \n",
            "A value is trying to be set on a copy of a slice from a DataFrame.\n",
            "Try using .loc[row_indexer,col_indexer] = value instead\n",
            "\n",
            "See the caveats in the documentation: https://pandas.pydata.org/pandas-docs/stable/user_guide/indexing.html#returning-a-view-versus-a-copy\n",
            "  # Remove the CWD from sys.path while we load stuff.\n"
          ],
          "name": "stderr"
        },
        {
          "output_type": "stream",
          "text": [
            "county : Alpine County\n",
            "county : Amador County\n",
            "county : Butte County\n",
            "county : Calaveras County\n",
            "county : Colusa County\n",
            "county : Contra Costa County\n",
            "county : Del Norte County\n",
            "county : El Dorado County\n",
            "county : Fresno County\n",
            "county : Glenn County\n",
            "county : Humboldt County\n",
            "county : Imperial County\n",
            "county : Inyo County\n",
            "county : Kern County\n",
            "county : Kings County\n",
            "county : Lake County\n",
            "county : Lassen County\n",
            "county : Los Angeles County\n",
            "county : Madera County\n",
            "county : Marin County\n",
            "county : Mariposa County\n",
            "county : Mendocino County\n",
            "county : Merced County\n",
            "county : Modoc County\n",
            "county : Mono County\n",
            "county : Monterey County\n",
            "county : Napa County\n",
            "county : Nevada County\n",
            "county : Orange County\n",
            "county : Placer County\n",
            "county : Plumas County\n",
            "county : Riverside County\n",
            "county : Sacramento County\n",
            "county : San Benito County\n",
            "county : San Bernardino County\n",
            "county : San Diego County\n",
            "county : San Francisco County\n",
            "county : San Joaquin County\n",
            "county : San Luis Obispo County\n",
            "county : San Mateo County\n",
            "county : Santa Barbara County\n",
            "county : Santa Clara County\n",
            "county : Santa Cruz County\n",
            "county : Shasta County\n",
            "county : Sierra County\n",
            "county : Siskiyou County\n",
            "county : Solano County\n",
            "county : Sonoma County\n",
            "county : Stanislaus County\n",
            "county : Sutter County\n",
            "county : Tehama County\n",
            "county : Trinity County\n",
            "county : Tulare County\n",
            "county : Tuolumne County\n",
            "county : Ventura County\n",
            "county : Yolo County\n",
            "county : Yuba County\n"
          ],
          "name": "stdout"
        }
      ]
    },
    {
      "cell_type": "markdown",
      "metadata": {
        "id": "wCujvq0mwIa3"
      },
      "source": [
        "### Verifying the labeling with plot"
      ]
    },
    {
      "cell_type": "code",
      "metadata": {
        "id": "Ofn0qmiWwKux",
        "outputId": "54087ca8-c6cb-4b61-b714-730c76cc1bac",
        "colab": {
          "base_uri": "https://localhost:8080/",
          "height": 688
        }
      },
      "source": [
        "alameda_data = CA_combined_data[CA_combined_data['County Name'] == 'Los Angeles County']\n",
        "\n",
        "new_cases_1k_la_list = alameda_data['New Cases/1k population'].values\n",
        "diffArr = np.diff(new_cases_1k_la_list)\n",
        "growth_values =[]\n",
        "growth_values.append(0.0) # making first value as 0, as np.diff leaves first values as NA\n",
        "    \n",
        "growth_values.extend(diffArr)\n",
        "\n",
        "alameda_data['growth_code'] = alameda_data['growth_label'].astype('category').cat.codes\n",
        "print(pd.unique(alameda_data[['growth_label', 'growth_code']].values.ravel()))\n",
        "new_cases_1k_la_list = alameda_data['New Cases/1k population'].values\n",
        "plt.plot(growth_values)\n",
        "plt.show()\n",
        "alameda_labelflat_growth = alameda_data[alameda_data['growth_label'] == 'flat_growth']\n",
        "print(alameda_labelflat_growth.shape)\n",
        "#alameda_labelflat_growth\n",
        "\n",
        "N = 5\n",
        "x = alameda_data['growth_code'].values\n",
        "y = growth_values #alameda_data['New Cases/1k population'].values\n",
        "colors = np.random.rand(N)\n",
        "area = (30 * np.random.rand(N))**2  # 0 to 15 point radii\n",
        "\n",
        "plt.scatter(x, y, alpha=0.5)\n",
        "plt.show()\n"
      ],
      "execution_count": null,
      "outputs": [
        {
          "output_type": "stream",
          "text": [
            "['flat_growth' 2 'mild_decrement' 3 'drastic_growth' 1 'drastic_decrement'\n",
            " 0 'mild_growth' 4]\n"
          ],
          "name": "stdout"
        },
        {
          "output_type": "stream",
          "text": [
            "/usr/local/lib/python3.6/dist-packages/ipykernel_launcher.py:10: SettingWithCopyWarning: \n",
            "A value is trying to be set on a copy of a slice from a DataFrame.\n",
            "Try using .loc[row_indexer,col_indexer] = value instead\n",
            "\n",
            "See the caveats in the documentation: https://pandas.pydata.org/pandas-docs/stable/user_guide/indexing.html#returning-a-view-versus-a-copy\n",
            "  # Remove the CWD from sys.path while we load stuff.\n"
          ],
          "name": "stderr"
        },
        {
          "output_type": "display_data",
          "data": {
            "image/png": "[encoded data removed]",
            "text/plain": [
              "<Figure size 432x288 with 1 Axes>"
            ]
          },
          "metadata": {
            "tags": [],
            "needs_background": "light"
          }
        },
        {
          "output_type": "stream",
          "text": [
            "(102, 20)\n"
          ],
          "name": "stdout"
        },
        {
          "output_type": "display_data",
          "data": {
            "image/png": "[encoded data removed]",
            "text/plain": [
              "<Figure size 432x288 with 1 Axes>"
            ]
          },
          "metadata": {
            "tags": [],
            "needs_background": "light"
          }
        }
      ]
    },
    {
      "cell_type": "markdown",
      "metadata": {
        "id": "nHVGJ7z8kIE2"
      },
      "source": [
        "## Export to csv"
      ]
    },
    {
      "cell_type": "code",
      "metadata": {
        "id": "28gO9CUekGDP",
        "outputId": "b83af3f4-dd55-47ab-9220-523636e92a40",
        "colab": {
          "base_uri": "https://localhost:8080/",
          "height": 35
        }
      },
      "source": [
        "from datetime import datetime\n",
        "location = '/content/drive/Shared drives/CMPE 295- Master Project/Covid19-data/CA/'\n",
        "filename = 'CA_sd_inertia_labeledData_'+datetime.now().strftime(\"%b%d\")+'.csv' #%Y%m%d\n",
        "print(filename)\n",
        "CA_combined_sd_inertia_data.to_csv(location+filename,index=False)"
      ],
      "execution_count": null,
      "outputs": [
        {
          "output_type": "stream",
          "text": [
            "CA_sd_inertia_labeledData_Oct11.csv\n"
          ],
          "name": "stdout"
        }
      ]
    },
    {
      "cell_type": "markdown",
      "metadata": {
        "id": "zSHZ9SjkHh8C"
      },
      "source": [
        "## 1.Filter-Los Angeles County"
      ]
    },
    {
      "cell_type": "code",
      "metadata": {
        "id": "4VuAXBVd_Di-",
        "outputId": "acae3fcf-9f48-4e66-9f6a-089551030b47",
        "colab": {
          "base_uri": "https://localhost:8080/",
          "height": 348
        }
      },
      "source": [
        "CA_combined_sd_inertia_data_la = CA_combined_sd_inertia_data[CA_combined_sd_inertia_data['CTNAME']== 'Los Angeles County']\n",
        "CA_combined_sd_inertia_data_la.head(3)"
      ],
      "execution_count": null,
      "outputs": [
        {
          "output_type": "execute_result",
          "data": {
            "text/html": [
              "<div>\n",
              "<style scoped>\n",
              "    .dataframe tbody tr th:only-of-type {\n",
              "        vertical-align: middle;\n",
              "    }\n",
              "\n",
              "    .dataframe tbody tr th {\n",
              "        vertical-align: top;\n",
              "    }\n",
              "\n",
              "    .dataframe thead th {\n",
              "        text-align: right;\n",
              "    }\n",
              "</style>\n",
              "<table border=\"1\" class=\"dataframe\">\n",
              "  <thead>\n",
              "    <tr style=\"text-align: right;\">\n",
              "      <th></th>\n",
              "      <th>Date</th>\n",
              "      <th>Province_State</th>\n",
              "      <th>FIPS</th>\n",
              "      <th>Confirmed</th>\n",
              "      <th>Deaths</th>\n",
              "      <th>New cases</th>\n",
              "      <th>New deaths</th>\n",
              "      <th>mask_rule_active</th>\n",
              "      <th>CTFIPS</th>\n",
              "      <th>CTNAME</th>\n",
              "      <th>STFIPS</th>\n",
              "      <th>Social distancing index</th>\n",
              "      <th>% staying home</th>\n",
              "      <th>Trips/person</th>\n",
              "      <th>% out-of-county trips</th>\n",
              "      <th>% out-of-state trips</th>\n",
              "      <th>Miles/person</th>\n",
              "      <th>Work trips/person</th>\n",
              "      <th>Non-work trips/person</th>\n",
              "      <th>New COVID cases</th>\n",
              "      <th>Population</th>\n",
              "      <th>% change in consumption</th>\n",
              "      <th>date</th>\n",
              "      <th>Transit mode share</th>\n",
              "      <th>% people older than 60</th>\n",
              "      <th>Median income</th>\n",
              "      <th>% African Americans</th>\n",
              "      <th>% Hispanic Americans</th>\n",
              "      <th>% Male</th>\n",
              "      <th>Population density</th>\n",
              "      <th>Employment density</th>\n",
              "      <th># hot spots/1000 people</th>\n",
              "      <th>Hospital beds/1000 people</th>\n",
              "      <th>ICUs/1000 people</th>\n",
              "      <th># contact tracing workers/1000 people</th>\n",
              "      <th># contact tracing workers/1000 people rank</th>\n",
              "      <th>% people older than 60 rank</th>\n",
              "      <th>COVID exposure/1000 people</th>\n",
              "      <th>#days: decreasing ILI cases</th>\n",
              "      <th>Unemployment claims/1000 people</th>\n",
              "      <th>Unemployment rate</th>\n",
              "      <th>% working from home</th>\n",
              "      <th>Cumulative inflation rate</th>\n",
              "      <th>COVID death rate</th>\n",
              "      <th>New cases/1000 people</th>\n",
              "      <th>Active cases/1000 people</th>\n",
              "      <th>#days: decreasing COVID cases</th>\n",
              "      <th>% hospital bed utilization</th>\n",
              "      <th>Testing capacity</th>\n",
              "      <th>Tests done/1000 people</th>\n",
              "      <th>% ICU utilization</th>\n",
              "      <th>Ventilator shortage</th>\n",
              "      <th>Imported COVID cases</th>\n",
              "      <th>growth_label</th>\n",
              "    </tr>\n",
              "  </thead>\n",
              "  <tbody>\n",
              "    <tr>\n",
              "      <th>3816</th>\n",
              "      <td>2020-01-22</td>\n",
              "      <td>California</td>\n",
              "      <td>6037</td>\n",
              "      <td>0</td>\n",
              "      <td>0</td>\n",
              "      <td>0</td>\n",
              "      <td>0</td>\n",
              "      <td>0</td>\n",
              "      <td>6037</td>\n",
              "      <td>Los Angeles County</td>\n",
              "      <td>6</td>\n",
              "      <td>18</td>\n",
              "      <td>19</td>\n",
              "      <td>3.34</td>\n",
              "      <td>10.9</td>\n",
              "      <td>0.3</td>\n",
              "      <td>32.5</td>\n",
              "      <td>0.62</td>\n",
              "      <td>2.72</td>\n",
              "      <td>0</td>\n",
              "      <td>10105518</td>\n",
              "      <td>-1.7</td>\n",
              "      <td>2020-01-22</td>\n",
              "      <td>6.04</td>\n",
              "      <td>18</td>\n",
              "      <td>64251</td>\n",
              "      <td>7.9</td>\n",
              "      <td>48.5</td>\n",
              "      <td>49.28</td>\n",
              "      <td>2125</td>\n",
              "      <td>972</td>\n",
              "      <td>140</td>\n",
              "      <td>2.05</td>\n",
              "      <td>0.22</td>\n",
              "      <td>NaN</td>\n",
              "      <td>NaN</td>\n",
              "      <td>9</td>\n",
              "      <td>0.0</td>\n",
              "      <td>0</td>\n",
              "      <td>1.2</td>\n",
              "      <td>3.9</td>\n",
              "      <td>5.7</td>\n",
              "      <td>0.3</td>\n",
              "      <td>0.0</td>\n",
              "      <td>0.0</td>\n",
              "      <td>0.0</td>\n",
              "      <td>0</td>\n",
              "      <td>54.0</td>\n",
              "      <td>0.0</td>\n",
              "      <td>0.0</td>\n",
              "      <td>0.0</td>\n",
              "      <td>0</td>\n",
              "      <td>0</td>\n",
              "      <td>drastic_decrement</td>\n",
              "    </tr>\n",
              "    <tr>\n",
              "      <th>3817</th>\n",
              "      <td>2020-01-23</td>\n",
              "      <td>California</td>\n",
              "      <td>6037</td>\n",
              "      <td>0</td>\n",
              "      <td>0</td>\n",
              "      <td>0</td>\n",
              "      <td>0</td>\n",
              "      <td>0</td>\n",
              "      <td>6037</td>\n",
              "      <td>Los Angeles County</td>\n",
              "      <td>6</td>\n",
              "      <td>15</td>\n",
              "      <td>19</td>\n",
              "      <td>3.43</td>\n",
              "      <td>10.9</td>\n",
              "      <td>0.4</td>\n",
              "      <td>34.7</td>\n",
              "      <td>0.63</td>\n",
              "      <td>2.80</td>\n",
              "      <td>0</td>\n",
              "      <td>10105518</td>\n",
              "      <td>1.2</td>\n",
              "      <td>2020-01-23</td>\n",
              "      <td>6.04</td>\n",
              "      <td>18</td>\n",
              "      <td>64251</td>\n",
              "      <td>7.9</td>\n",
              "      <td>48.5</td>\n",
              "      <td>49.28</td>\n",
              "      <td>2125</td>\n",
              "      <td>972</td>\n",
              "      <td>140</td>\n",
              "      <td>2.05</td>\n",
              "      <td>0.22</td>\n",
              "      <td>NaN</td>\n",
              "      <td>NaN</td>\n",
              "      <td>9</td>\n",
              "      <td>0.0</td>\n",
              "      <td>0</td>\n",
              "      <td>1.2</td>\n",
              "      <td>3.9</td>\n",
              "      <td>5.7</td>\n",
              "      <td>0.3</td>\n",
              "      <td>0.0</td>\n",
              "      <td>0.0</td>\n",
              "      <td>0.0</td>\n",
              "      <td>0</td>\n",
              "      <td>54.0</td>\n",
              "      <td>0.0</td>\n",
              "      <td>0.0</td>\n",
              "      <td>0.0</td>\n",
              "      <td>0</td>\n",
              "      <td>0</td>\n",
              "      <td>drastic_decrement</td>\n",
              "    </tr>\n",
              "    <tr>\n",
              "      <th>3818</th>\n",
              "      <td>2020-01-24</td>\n",
              "      <td>California</td>\n",
              "      <td>6037</td>\n",
              "      <td>0</td>\n",
              "      <td>0</td>\n",
              "      <td>0</td>\n",
              "      <td>0</td>\n",
              "      <td>0</td>\n",
              "      <td>6037</td>\n",
              "      <td>Los Angeles County</td>\n",
              "      <td>6</td>\n",
              "      <td>14</td>\n",
              "      <td>18</td>\n",
              "      <td>3.53</td>\n",
              "      <td>11.1</td>\n",
              "      <td>0.4</td>\n",
              "      <td>37.4</td>\n",
              "      <td>0.60</td>\n",
              "      <td>2.93</td>\n",
              "      <td>0</td>\n",
              "      <td>10105518</td>\n",
              "      <td>5.9</td>\n",
              "      <td>2020-01-24</td>\n",
              "      <td>6.04</td>\n",
              "      <td>18</td>\n",
              "      <td>64251</td>\n",
              "      <td>7.9</td>\n",
              "      <td>48.5</td>\n",
              "      <td>49.28</td>\n",
              "      <td>2125</td>\n",
              "      <td>972</td>\n",
              "      <td>140</td>\n",
              "      <td>2.05</td>\n",
              "      <td>0.22</td>\n",
              "      <td>NaN</td>\n",
              "      <td>NaN</td>\n",
              "      <td>9</td>\n",
              "      <td>0.0</td>\n",
              "      <td>0</td>\n",
              "      <td>1.2</td>\n",
              "      <td>3.9</td>\n",
              "      <td>5.7</td>\n",
              "      <td>0.3</td>\n",
              "      <td>0.0</td>\n",
              "      <td>0.0</td>\n",
              "      <td>0.0</td>\n",
              "      <td>0</td>\n",
              "      <td>54.0</td>\n",
              "      <td>0.0</td>\n",
              "      <td>0.0</td>\n",
              "      <td>0.0</td>\n",
              "      <td>0</td>\n",
              "      <td>0</td>\n",
              "      <td>drastic_decrement</td>\n",
              "    </tr>\n",
              "  </tbody>\n",
              "</table>\n",
              "</div>"
            ],
            "text/plain": [
              "            Date Province_State  ...  Imported COVID cases       growth_label\n",
              "3816  2020-01-22     California  ...                     0  drastic_decrement\n",
              "3817  2020-01-23     California  ...                     0  drastic_decrement\n",
              "3818  2020-01-24     California  ...                     0  drastic_decrement\n",
              "\n",
              "[3 rows x 54 columns]"
            ]
          },
          "metadata": {
            "tags": []
          },
          "execution_count": 45
        }
      ]
    },
    {
      "cell_type": "code",
      "metadata": {
        "id": "N0EFz0zV_Uxe"
      },
      "source": [
        "new_cases_1k_la_list = CA_combined_sd_inertia_data_la['New cases/1000 people'].values"
      ],
      "execution_count": null,
      "outputs": []
    },
    {
      "cell_type": "markdown",
      "metadata": {
        "id": "BqceFBlDCCLx"
      },
      "source": [
        "### Finding mean, std. dev"
      ]
    },
    {
      "cell_type": "code",
      "metadata": {
        "id": "8ZyE00of_h9q",
        "outputId": "fd104645-28f8-4538-b305-31cf8cab6485",
        "colab": {
          "base_uri": "https://localhost:8080/"
        }
      },
      "source": [
        "meanVal= np.mean(new_cases_1k_la_list, axis=0)\n",
        "stdVal = np.std(new_cases_1k_la_list, axis=0)\n",
        "print('Mean: ', np.mean(new_cases_1k_la_list, axis=0))\n",
        "print('Standard Deviation:', np.std(new_cases_1k_la_list, axis=0))"
      ],
      "execution_count": null,
      "outputs": [
        {
          "output_type": "stream",
          "text": [
            "Mean:  0.10537877358490563\n",
            "Standard Deviation: 0.10129884785989024\n"
          ],
          "name": "stdout"
        }
      ]
    },
    {
      "cell_type": "markdown",
      "metadata": {
        "id": "u3UE2u2wCT1_"
      },
      "source": [
        "### Method to compute normal distribution to label the data "
      ]
    },
    {
      "cell_type": "code",
      "metadata": {
        "id": "ElxsWcWF_h0x"
      },
      "source": [
        "  def determine_growth_label_stdev(i,meanVal,stdVal):\n",
        "    if (i > (meanVal + (stdVal * 1) / 3)):\n",
        "        #print(\"Label: \", i, \"drastic_growth\")\n",
        "        return 'drastic_growth'\n",
        "    elif ( i > (meanVal) and i <= (meanVal + (stdVal * 1) / 3)):\n",
        "        #print(\"Label: \", i, \"mild_growth\")\n",
        "        return 'mild_growth'\n",
        "    elif (i >= (meanVal - (stdVal * 1) / 3) and i <= meanVal):\n",
        "        #print(\"Label: \", i, \"flat_growth\")\n",
        "        return 'flat_growth'\n",
        "    elif (i < (meanVal - (stdVal * 1) / 3) and i >= (meanVal - (stdVal * 2) / 3)):\n",
        "        #print(\"Label: \", i, \"mild_decrement\")\n",
        "        return 'mild_decrement'\n",
        "    elif (i < (meanVal - (stdVal * 2) / 3)):\n",
        "        #print(\"Label: \", i, \"drastic_decrement\")\n",
        "        return 'drastic_decrement'\n",
        "    "
      ],
      "execution_count": null,
      "outputs": []
    },
    {
      "cell_type": "code",
      "metadata": {
        "id": "jMW5DBHl_meI",
        "outputId": "6083c55b-bb3d-4dda-d25b-80782b4b4d6d",
        "colab": {
          "base_uri": "https://localhost:8080/"
        }
      },
      "source": [
        "CA_combined_sd_inertia_data_la['growth_label'] = CA_combined_sd_inertia_data_la['New cases/1000 people'].apply(lambda x: determine_growth_label_stdev(x,meanVal,stdVal) )\n",
        "CA_combined_sd_inertia_data_la.head(4)"
      ],
      "execution_count": null,
      "outputs": [
        {
          "output_type": "stream",
          "text": [
            "/usr/local/lib/python3.6/dist-packages/ipykernel_launcher.py:1: SettingWithCopyWarning: \n",
            "A value is trying to be set on a copy of a slice from a DataFrame.\n",
            "Try using .loc[row_indexer,col_indexer] = value instead\n",
            "\n",
            "See the caveats in the documentation: https://pandas.pydata.org/pandas-docs/stable/user_guide/indexing.html#returning-a-view-versus-a-copy\n",
            "  \"\"\"Entry point for launching an IPython kernel.\n"
          ],
          "name": "stderr"
        },
        {
          "output_type": "execute_result",
          "data": {
            "text/html": [
              "<div>\n",
              "<style scoped>\n",
              "    .dataframe tbody tr th:only-of-type {\n",
              "        vertical-align: middle;\n",
              "    }\n",
              "\n",
              "    .dataframe tbody tr th {\n",
              "        vertical-align: top;\n",
              "    }\n",
              "\n",
              "    .dataframe thead th {\n",
              "        text-align: right;\n",
              "    }\n",
              "</style>\n",
              "<table border=\"1\" class=\"dataframe\">\n",
              "  <thead>\n",
              "    <tr style=\"text-align: right;\">\n",
              "      <th></th>\n",
              "      <th>Date</th>\n",
              "      <th>Province_State</th>\n",
              "      <th>FIPS</th>\n",
              "      <th>Confirmed</th>\n",
              "      <th>Deaths</th>\n",
              "      <th>New cases</th>\n",
              "      <th>New deaths</th>\n",
              "      <th>mask_rule_active</th>\n",
              "      <th>CTFIPS</th>\n",
              "      <th>CTNAME</th>\n",
              "      <th>STFIPS</th>\n",
              "      <th>Social distancing index</th>\n",
              "      <th>% staying home</th>\n",
              "      <th>Trips/person</th>\n",
              "      <th>% out-of-county trips</th>\n",
              "      <th>% out-of-state trips</th>\n",
              "      <th>Miles/person</th>\n",
              "      <th>Work trips/person</th>\n",
              "      <th>Non-work trips/person</th>\n",
              "      <th>New COVID cases</th>\n",
              "      <th>Population</th>\n",
              "      <th>% change in consumption</th>\n",
              "      <th>date</th>\n",
              "      <th>Transit mode share</th>\n",
              "      <th>% people older than 60</th>\n",
              "      <th>Median income</th>\n",
              "      <th>% African Americans</th>\n",
              "      <th>% Hispanic Americans</th>\n",
              "      <th>% Male</th>\n",
              "      <th>Population density</th>\n",
              "      <th>Employment density</th>\n",
              "      <th># hot spots/1000 people</th>\n",
              "      <th>Hospital beds/1000 people</th>\n",
              "      <th>ICUs/1000 people</th>\n",
              "      <th># contact tracing workers/1000 people</th>\n",
              "      <th># contact tracing workers/1000 people rank</th>\n",
              "      <th>% people older than 60 rank</th>\n",
              "      <th>COVID exposure/1000 people</th>\n",
              "      <th>#days: decreasing ILI cases</th>\n",
              "      <th>Unemployment claims/1000 people</th>\n",
              "      <th>Unemployment rate</th>\n",
              "      <th>% working from home</th>\n",
              "      <th>Cumulative inflation rate</th>\n",
              "      <th>COVID death rate</th>\n",
              "      <th>New cases/1000 people</th>\n",
              "      <th>Active cases/1000 people</th>\n",
              "      <th>#days: decreasing COVID cases</th>\n",
              "      <th>% hospital bed utilization</th>\n",
              "      <th>Testing capacity</th>\n",
              "      <th>Tests done/1000 people</th>\n",
              "      <th>% ICU utilization</th>\n",
              "      <th>Ventilator shortage</th>\n",
              "      <th>Imported COVID cases</th>\n",
              "      <th>growth_label</th>\n",
              "    </tr>\n",
              "  </thead>\n",
              "  <tbody>\n",
              "    <tr>\n",
              "      <th>3816</th>\n",
              "      <td>2020-01-22</td>\n",
              "      <td>California</td>\n",
              "      <td>6037</td>\n",
              "      <td>0</td>\n",
              "      <td>0</td>\n",
              "      <td>0</td>\n",
              "      <td>0</td>\n",
              "      <td>0</td>\n",
              "      <td>6037</td>\n",
              "      <td>Los Angeles County</td>\n",
              "      <td>6</td>\n",
              "      <td>18</td>\n",
              "      <td>19</td>\n",
              "      <td>3.34</td>\n",
              "      <td>10.9</td>\n",
              "      <td>0.3</td>\n",
              "      <td>32.5</td>\n",
              "      <td>0.62</td>\n",
              "      <td>2.72</td>\n",
              "      <td>0</td>\n",
              "      <td>10105518</td>\n",
              "      <td>-1.7</td>\n",
              "      <td>2020-01-22</td>\n",
              "      <td>6.04</td>\n",
              "      <td>18</td>\n",
              "      <td>64251</td>\n",
              "      <td>7.9</td>\n",
              "      <td>48.5</td>\n",
              "      <td>49.28</td>\n",
              "      <td>2125</td>\n",
              "      <td>972</td>\n",
              "      <td>140</td>\n",
              "      <td>2.05</td>\n",
              "      <td>0.22</td>\n",
              "      <td>NaN</td>\n",
              "      <td>NaN</td>\n",
              "      <td>9</td>\n",
              "      <td>0.0</td>\n",
              "      <td>0</td>\n",
              "      <td>1.2</td>\n",
              "      <td>3.9</td>\n",
              "      <td>5.7</td>\n",
              "      <td>0.3</td>\n",
              "      <td>0.0</td>\n",
              "      <td>0.0</td>\n",
              "      <td>0.0</td>\n",
              "      <td>0</td>\n",
              "      <td>54.0</td>\n",
              "      <td>0.0</td>\n",
              "      <td>0.0</td>\n",
              "      <td>0.0</td>\n",
              "      <td>0</td>\n",
              "      <td>0</td>\n",
              "      <td>drastic_decrement</td>\n",
              "    </tr>\n",
              "    <tr>\n",
              "      <th>3817</th>\n",
              "      <td>2020-01-23</td>\n",
              "      <td>California</td>\n",
              "      <td>6037</td>\n",
              "      <td>0</td>\n",
              "      <td>0</td>\n",
              "      <td>0</td>\n",
              "      <td>0</td>\n",
              "      <td>0</td>\n",
              "      <td>6037</td>\n",
              "      <td>Los Angeles County</td>\n",
              "      <td>6</td>\n",
              "      <td>15</td>\n",
              "      <td>19</td>\n",
              "      <td>3.43</td>\n",
              "      <td>10.9</td>\n",
              "      <td>0.4</td>\n",
              "      <td>34.7</td>\n",
              "      <td>0.63</td>\n",
              "      <td>2.80</td>\n",
              "      <td>0</td>\n",
              "      <td>10105518</td>\n",
              "      <td>1.2</td>\n",
              "      <td>2020-01-23</td>\n",
              "      <td>6.04</td>\n",
              "      <td>18</td>\n",
              "      <td>64251</td>\n",
              "      <td>7.9</td>\n",
              "      <td>48.5</td>\n",
              "      <td>49.28</td>\n",
              "      <td>2125</td>\n",
              "      <td>972</td>\n",
              "      <td>140</td>\n",
              "      <td>2.05</td>\n",
              "      <td>0.22</td>\n",
              "      <td>NaN</td>\n",
              "      <td>NaN</td>\n",
              "      <td>9</td>\n",
              "      <td>0.0</td>\n",
              "      <td>0</td>\n",
              "      <td>1.2</td>\n",
              "      <td>3.9</td>\n",
              "      <td>5.7</td>\n",
              "      <td>0.3</td>\n",
              "      <td>0.0</td>\n",
              "      <td>0.0</td>\n",
              "      <td>0.0</td>\n",
              "      <td>0</td>\n",
              "      <td>54.0</td>\n",
              "      <td>0.0</td>\n",
              "      <td>0.0</td>\n",
              "      <td>0.0</td>\n",
              "      <td>0</td>\n",
              "      <td>0</td>\n",
              "      <td>drastic_decrement</td>\n",
              "    </tr>\n",
              "    <tr>\n",
              "      <th>3818</th>\n",
              "      <td>2020-01-24</td>\n",
              "      <td>California</td>\n",
              "      <td>6037</td>\n",
              "      <td>0</td>\n",
              "      <td>0</td>\n",
              "      <td>0</td>\n",
              "      <td>0</td>\n",
              "      <td>0</td>\n",
              "      <td>6037</td>\n",
              "      <td>Los Angeles County</td>\n",
              "      <td>6</td>\n",
              "      <td>14</td>\n",
              "      <td>18</td>\n",
              "      <td>3.53</td>\n",
              "      <td>11.1</td>\n",
              "      <td>0.4</td>\n",
              "      <td>37.4</td>\n",
              "      <td>0.60</td>\n",
              "      <td>2.93</td>\n",
              "      <td>0</td>\n",
              "      <td>10105518</td>\n",
              "      <td>5.9</td>\n",
              "      <td>2020-01-24</td>\n",
              "      <td>6.04</td>\n",
              "      <td>18</td>\n",
              "      <td>64251</td>\n",
              "      <td>7.9</td>\n",
              "      <td>48.5</td>\n",
              "      <td>49.28</td>\n",
              "      <td>2125</td>\n",
              "      <td>972</td>\n",
              "      <td>140</td>\n",
              "      <td>2.05</td>\n",
              "      <td>0.22</td>\n",
              "      <td>NaN</td>\n",
              "      <td>NaN</td>\n",
              "      <td>9</td>\n",
              "      <td>0.0</td>\n",
              "      <td>0</td>\n",
              "      <td>1.2</td>\n",
              "      <td>3.9</td>\n",
              "      <td>5.7</td>\n",
              "      <td>0.3</td>\n",
              "      <td>0.0</td>\n",
              "      <td>0.0</td>\n",
              "      <td>0.0</td>\n",
              "      <td>0</td>\n",
              "      <td>54.0</td>\n",
              "      <td>0.0</td>\n",
              "      <td>0.0</td>\n",
              "      <td>0.0</td>\n",
              "      <td>0</td>\n",
              "      <td>0</td>\n",
              "      <td>drastic_decrement</td>\n",
              "    </tr>\n",
              "    <tr>\n",
              "      <th>3819</th>\n",
              "      <td>2020-01-25</td>\n",
              "      <td>California</td>\n",
              "      <td>6037</td>\n",
              "      <td>0</td>\n",
              "      <td>0</td>\n",
              "      <td>0</td>\n",
              "      <td>0</td>\n",
              "      <td>0</td>\n",
              "      <td>6037</td>\n",
              "      <td>Los Angeles County</td>\n",
              "      <td>6</td>\n",
              "      <td>25</td>\n",
              "      <td>22</td>\n",
              "      <td>3.24</td>\n",
              "      <td>11.8</td>\n",
              "      <td>0.4</td>\n",
              "      <td>34.6</td>\n",
              "      <td>0.31</td>\n",
              "      <td>2.93</td>\n",
              "      <td>0</td>\n",
              "      <td>10105518</td>\n",
              "      <td>5.9</td>\n",
              "      <td>2020-01-25</td>\n",
              "      <td>6.04</td>\n",
              "      <td>18</td>\n",
              "      <td>64251</td>\n",
              "      <td>7.9</td>\n",
              "      <td>48.5</td>\n",
              "      <td>49.28</td>\n",
              "      <td>2125</td>\n",
              "      <td>972</td>\n",
              "      <td>140</td>\n",
              "      <td>2.05</td>\n",
              "      <td>0.22</td>\n",
              "      <td>NaN</td>\n",
              "      <td>NaN</td>\n",
              "      <td>9</td>\n",
              "      <td>0.0</td>\n",
              "      <td>0</td>\n",
              "      <td>1.2</td>\n",
              "      <td>3.9</td>\n",
              "      <td>5.7</td>\n",
              "      <td>0.3</td>\n",
              "      <td>0.0</td>\n",
              "      <td>0.0</td>\n",
              "      <td>0.0</td>\n",
              "      <td>1</td>\n",
              "      <td>54.0</td>\n",
              "      <td>0.0</td>\n",
              "      <td>0.0</td>\n",
              "      <td>0.0</td>\n",
              "      <td>0</td>\n",
              "      <td>0</td>\n",
              "      <td>drastic_decrement</td>\n",
              "    </tr>\n",
              "  </tbody>\n",
              "</table>\n",
              "</div>"
            ],
            "text/plain": [
              "            Date Province_State  ...  Imported COVID cases       growth_label\n",
              "3816  2020-01-22     California  ...                     0  drastic_decrement\n",
              "3817  2020-01-23     California  ...                     0  drastic_decrement\n",
              "3818  2020-01-24     California  ...                     0  drastic_decrement\n",
              "3819  2020-01-25     California  ...                     0  drastic_decrement\n",
              "\n",
              "[4 rows x 54 columns]"
            ]
          },
          "metadata": {
            "tags": []
          },
          "execution_count": 49
        }
      ]
    },
    {
      "cell_type": "markdown",
      "metadata": {
        "id": "a4fi9AeJHzBp"
      },
      "source": [
        "### Export CSV File"
      ]
    },
    {
      "cell_type": "code",
      "metadata": {
        "id": "4UsgkglVA1dV",
        "outputId": "ffe616f0-5b3a-4191-cbb0-94eef98729fd",
        "colab": {
          "base_uri": "https://localhost:8080/"
        }
      },
      "source": [
        "from datetime import datetime\n",
        "location = '/content/drive/Shared drives/CMPE 295- Master Project/Covid19-data/CA/'\n",
        "filename = 'CA_sd_inertia_labeledData_LosAngeles_'+datetime.now().strftime(\"%b%d\")+'.csv' #%Y%m%d\n",
        "print(filename)\n",
        "CA_combined_sd_inertia_data_la.to_csv(location+filename,index=False)"
      ],
      "execution_count": null,
      "outputs": [
        {
          "output_type": "stream",
          "text": [
            "CA_sd_inertia_labeledData_LosAngeles_Oct11.csv\n"
          ],
          "name": "stdout"
        }
      ]
    },
    {
      "cell_type": "code",
      "metadata": {
        "id": "GBpHZsrWBVGb",
        "outputId": "9f8855d5-f4d3-4284-f1e1-f54bb111efb6",
        "colab": {
          "base_uri": "https://localhost:8080/"
        }
      },
      "source": [
        "print(CA_combined_sd_inertia_data_la[CA_combined_sd_inertia_data_la['growth_label'] == 'drastic_growth'].shape)\n",
        "print(CA_combined_sd_inertia_data_la[CA_combined_sd_inertia_data_la['growth_label'] == 'mild_decrement'].shape)\n",
        "print(CA_combined_sd_inertia_data_la[CA_combined_sd_inertia_data_la['growth_label'] == 'drastic_decrement'].shape)\n",
        "print(CA_combined_sd_inertia_data_la[CA_combined_sd_inertia_data_la['growth_label'] == 'mild_growth'].shape)\n",
        "print(CA_combined_sd_inertia_data_la[CA_combined_sd_inertia_data_la['growth_label'] == 'flat_growth'].shape)\n"
      ],
      "execution_count": null,
      "outputs": [
        {
          "output_type": "stream",
          "text": [
            "(64, 54)\n",
            "(23, 54)\n",
            "(73, 54)\n",
            "(29, 54)\n",
            "(23, 54)\n"
          ],
          "name": "stdout"
        }
      ]
    },
    {
      "cell_type": "markdown",
      "metadata": {
        "id": "eHnRExMqJ57A"
      },
      "source": [
        "## 2.Filter-San Diego County"
      ]
    },
    {
      "cell_type": "code",
      "metadata": {
        "id": "OoEJY_D4J57G",
        "outputId": "a7b796a0-0655-40d2-9f57-38e75b2418bb",
        "colab": {
          "base_uri": "https://localhost:8080/",
          "height": 348
        }
      },
      "source": [
        "CA_combined_sd_inertia_data_sd = CA_combined_sd_inertia_data[CA_combined_sd_inertia_data['CTNAME']== 'San Diego County']\n",
        "CA_combined_sd_inertia_data_sd.head(3)"
      ],
      "execution_count": null,
      "outputs": [
        {
          "output_type": "execute_result",
          "data": {
            "text/html": [
              "<div>\n",
              "<style scoped>\n",
              "    .dataframe tbody tr th:only-of-type {\n",
              "        vertical-align: middle;\n",
              "    }\n",
              "\n",
              "    .dataframe tbody tr th {\n",
              "        vertical-align: top;\n",
              "    }\n",
              "\n",
              "    .dataframe thead th {\n",
              "        text-align: right;\n",
              "    }\n",
              "</style>\n",
              "<table border=\"1\" class=\"dataframe\">\n",
              "  <thead>\n",
              "    <tr style=\"text-align: right;\">\n",
              "      <th></th>\n",
              "      <th>Date</th>\n",
              "      <th>Province_State</th>\n",
              "      <th>FIPS</th>\n",
              "      <th>Confirmed</th>\n",
              "      <th>Deaths</th>\n",
              "      <th>New cases</th>\n",
              "      <th>New deaths</th>\n",
              "      <th>mask_rule_active</th>\n",
              "      <th>CTFIPS</th>\n",
              "      <th>CTNAME</th>\n",
              "      <th>STFIPS</th>\n",
              "      <th>Social distancing index</th>\n",
              "      <th>% staying home</th>\n",
              "      <th>Trips/person</th>\n",
              "      <th>% out-of-county trips</th>\n",
              "      <th>% out-of-state trips</th>\n",
              "      <th>Miles/person</th>\n",
              "      <th>Work trips/person</th>\n",
              "      <th>Non-work trips/person</th>\n",
              "      <th>New COVID cases</th>\n",
              "      <th>Population</th>\n",
              "      <th>% change in consumption</th>\n",
              "      <th>date</th>\n",
              "      <th>Transit mode share</th>\n",
              "      <th>% people older than 60</th>\n",
              "      <th>Median income</th>\n",
              "      <th>% African Americans</th>\n",
              "      <th>% Hispanic Americans</th>\n",
              "      <th>% Male</th>\n",
              "      <th>Population density</th>\n",
              "      <th>Employment density</th>\n",
              "      <th># hot spots/1000 people</th>\n",
              "      <th>Hospital beds/1000 people</th>\n",
              "      <th>ICUs/1000 people</th>\n",
              "      <th># contact tracing workers/1000 people</th>\n",
              "      <th># contact tracing workers/1000 people rank</th>\n",
              "      <th>% people older than 60 rank</th>\n",
              "      <th>COVID exposure/1000 people</th>\n",
              "      <th>#days: decreasing ILI cases</th>\n",
              "      <th>Unemployment claims/1000 people</th>\n",
              "      <th>Unemployment rate</th>\n",
              "      <th>% working from home</th>\n",
              "      <th>Cumulative inflation rate</th>\n",
              "      <th>COVID death rate</th>\n",
              "      <th>New cases/1000 people</th>\n",
              "      <th>Active cases/1000 people</th>\n",
              "      <th>#days: decreasing COVID cases</th>\n",
              "      <th>% hospital bed utilization</th>\n",
              "      <th>Testing capacity</th>\n",
              "      <th>Tests done/1000 people</th>\n",
              "      <th>% ICU utilization</th>\n",
              "      <th>Ventilator shortage</th>\n",
              "      <th>Imported COVID cases</th>\n",
              "      <th>growth_label</th>\n",
              "    </tr>\n",
              "  </thead>\n",
              "  <tbody>\n",
              "    <tr>\n",
              "      <th>7632</th>\n",
              "      <td>2020-01-22</td>\n",
              "      <td>California</td>\n",
              "      <td>6073</td>\n",
              "      <td>0</td>\n",
              "      <td>0</td>\n",
              "      <td>0</td>\n",
              "      <td>0</td>\n",
              "      <td>0</td>\n",
              "      <td>6073</td>\n",
              "      <td>San Diego County</td>\n",
              "      <td>6</td>\n",
              "      <td>17</td>\n",
              "      <td>18</td>\n",
              "      <td>3.45</td>\n",
              "      <td>4.6</td>\n",
              "      <td>0.7</td>\n",
              "      <td>34.9</td>\n",
              "      <td>0.60</td>\n",
              "      <td>2.84</td>\n",
              "      <td>0</td>\n",
              "      <td>3343364</td>\n",
              "      <td>0.8</td>\n",
              "      <td>2020-01-22</td>\n",
              "      <td>2.9</td>\n",
              "      <td>19</td>\n",
              "      <td>74855</td>\n",
              "      <td>4.7</td>\n",
              "      <td>33.5</td>\n",
              "      <td>50.32</td>\n",
              "      <td>730</td>\n",
              "      <td>407</td>\n",
              "      <td>143</td>\n",
              "      <td>2.05</td>\n",
              "      <td>0.22</td>\n",
              "      <td>NaN</td>\n",
              "      <td>NaN</td>\n",
              "      <td>12</td>\n",
              "      <td>0.0</td>\n",
              "      <td>0</td>\n",
              "      <td>1.2</td>\n",
              "      <td>3.9</td>\n",
              "      <td>5.7</td>\n",
              "      <td>0.3</td>\n",
              "      <td>0.0</td>\n",
              "      <td>0.0</td>\n",
              "      <td>0.0</td>\n",
              "      <td>0</td>\n",
              "      <td>54.0</td>\n",
              "      <td>0.0</td>\n",
              "      <td>0.0</td>\n",
              "      <td>0.0</td>\n",
              "      <td>0</td>\n",
              "      <td>0</td>\n",
              "      <td>drastic_decrement</td>\n",
              "    </tr>\n",
              "    <tr>\n",
              "      <th>7633</th>\n",
              "      <td>2020-01-23</td>\n",
              "      <td>California</td>\n",
              "      <td>6073</td>\n",
              "      <td>0</td>\n",
              "      <td>0</td>\n",
              "      <td>0</td>\n",
              "      <td>0</td>\n",
              "      <td>0</td>\n",
              "      <td>6073</td>\n",
              "      <td>San Diego County</td>\n",
              "      <td>6</td>\n",
              "      <td>13</td>\n",
              "      <td>17</td>\n",
              "      <td>3.50</td>\n",
              "      <td>5.1</td>\n",
              "      <td>0.7</td>\n",
              "      <td>38.2</td>\n",
              "      <td>0.61</td>\n",
              "      <td>2.88</td>\n",
              "      <td>0</td>\n",
              "      <td>3343364</td>\n",
              "      <td>2.2</td>\n",
              "      <td>2020-01-23</td>\n",
              "      <td>2.9</td>\n",
              "      <td>19</td>\n",
              "      <td>74855</td>\n",
              "      <td>4.7</td>\n",
              "      <td>33.5</td>\n",
              "      <td>50.32</td>\n",
              "      <td>730</td>\n",
              "      <td>407</td>\n",
              "      <td>143</td>\n",
              "      <td>2.05</td>\n",
              "      <td>0.22</td>\n",
              "      <td>NaN</td>\n",
              "      <td>NaN</td>\n",
              "      <td>12</td>\n",
              "      <td>0.0</td>\n",
              "      <td>0</td>\n",
              "      <td>1.2</td>\n",
              "      <td>3.9</td>\n",
              "      <td>5.7</td>\n",
              "      <td>0.3</td>\n",
              "      <td>0.0</td>\n",
              "      <td>0.0</td>\n",
              "      <td>0.0</td>\n",
              "      <td>0</td>\n",
              "      <td>54.0</td>\n",
              "      <td>0.0</td>\n",
              "      <td>0.0</td>\n",
              "      <td>0.0</td>\n",
              "      <td>0</td>\n",
              "      <td>0</td>\n",
              "      <td>drastic_decrement</td>\n",
              "    </tr>\n",
              "    <tr>\n",
              "      <th>7634</th>\n",
              "      <td>2020-01-24</td>\n",
              "      <td>California</td>\n",
              "      <td>6073</td>\n",
              "      <td>0</td>\n",
              "      <td>0</td>\n",
              "      <td>0</td>\n",
              "      <td>0</td>\n",
              "      <td>0</td>\n",
              "      <td>6073</td>\n",
              "      <td>San Diego County</td>\n",
              "      <td>6</td>\n",
              "      <td>13</td>\n",
              "      <td>17</td>\n",
              "      <td>3.63</td>\n",
              "      <td>5.4</td>\n",
              "      <td>0.7</td>\n",
              "      <td>39.7</td>\n",
              "      <td>0.58</td>\n",
              "      <td>3.04</td>\n",
              "      <td>0</td>\n",
              "      <td>3343364</td>\n",
              "      <td>7.9</td>\n",
              "      <td>2020-01-24</td>\n",
              "      <td>2.9</td>\n",
              "      <td>19</td>\n",
              "      <td>74855</td>\n",
              "      <td>4.7</td>\n",
              "      <td>33.5</td>\n",
              "      <td>50.32</td>\n",
              "      <td>730</td>\n",
              "      <td>407</td>\n",
              "      <td>143</td>\n",
              "      <td>2.05</td>\n",
              "      <td>0.22</td>\n",
              "      <td>NaN</td>\n",
              "      <td>NaN</td>\n",
              "      <td>12</td>\n",
              "      <td>0.0</td>\n",
              "      <td>0</td>\n",
              "      <td>1.2</td>\n",
              "      <td>3.9</td>\n",
              "      <td>5.7</td>\n",
              "      <td>0.3</td>\n",
              "      <td>0.0</td>\n",
              "      <td>0.0</td>\n",
              "      <td>0.0</td>\n",
              "      <td>0</td>\n",
              "      <td>54.0</td>\n",
              "      <td>0.0</td>\n",
              "      <td>0.0</td>\n",
              "      <td>0.0</td>\n",
              "      <td>0</td>\n",
              "      <td>0</td>\n",
              "      <td>drastic_decrement</td>\n",
              "    </tr>\n",
              "  </tbody>\n",
              "</table>\n",
              "</div>"
            ],
            "text/plain": [
              "            Date Province_State  ...  Imported COVID cases       growth_label\n",
              "7632  2020-01-22     California  ...                     0  drastic_decrement\n",
              "7633  2020-01-23     California  ...                     0  drastic_decrement\n",
              "7634  2020-01-24     California  ...                     0  drastic_decrement\n",
              "\n",
              "[3 rows x 54 columns]"
            ]
          },
          "metadata": {
            "tags": []
          },
          "execution_count": 52
        }
      ]
    },
    {
      "cell_type": "code",
      "metadata": {
        "id": "QXtV-Pv9J57L"
      },
      "source": [
        "new_cases_1k_la_list = CA_combined_sd_inertia_data_sd['New cases/1000 people'].values"
      ],
      "execution_count": null,
      "outputs": []
    },
    {
      "cell_type": "markdown",
      "metadata": {
        "id": "y8GnaXdEJ57O"
      },
      "source": [
        "### Finding mean, std. dev"
      ]
    },
    {
      "cell_type": "code",
      "metadata": {
        "id": "tZzKhWkfJ57P",
        "outputId": "2807fe2d-c00c-48d8-9a54-1935cdde3ffa",
        "colab": {
          "base_uri": "https://localhost:8080/"
        }
      },
      "source": [
        "meanVal= np.mean(new_cases_1k_la_list, axis=0)\n",
        "stdVal = np.std(new_cases_1k_la_list, axis=0)\n",
        "print('Mean: ', np.mean(new_cases_1k_la_list, axis=0))\n",
        "print('Standard Deviation:', np.std(new_cases_1k_la_list, axis=0))"
      ],
      "execution_count": null,
      "outputs": [
        {
          "output_type": "stream",
          "text": [
            "Mean:  0.04982216981132076\n",
            "Standard Deviation: 0.05325510896750634\n"
          ],
          "name": "stdout"
        }
      ]
    },
    {
      "cell_type": "markdown",
      "metadata": {
        "id": "YCXVnOvbJ57R"
      },
      "source": [
        "### Method to compute normal distribution to label the data "
      ]
    },
    {
      "cell_type": "code",
      "metadata": {
        "id": "SdvqmOOoJ57S"
      },
      "source": [
        "  def determine_growth_label_stdev(i,meanVal,stdVal):\n",
        "    if (i > (meanVal + (stdVal * 1) / 3)):\n",
        "        #print(\"Label: \", i, \"drastic_growth\")\n",
        "        return 'drastic_growth'\n",
        "    elif ( i > (meanVal) and i <= (meanVal + (stdVal * 1) / 3)):\n",
        "        #print(\"Label: \", i, \"mild_growth\")\n",
        "        return 'mild_growth'\n",
        "    elif (i >= (meanVal - (stdVal * 1) / 3) and i <= meanVal):\n",
        "        #print(\"Label: \", i, \"flat_growth\")\n",
        "        return 'flat_growth'\n",
        "    elif (i < (meanVal - (stdVal * 1) / 3) and i >= (meanVal - (stdVal * 2) / 3)):\n",
        "        #print(\"Label: \", i, \"mild_decrement\")\n",
        "        return 'mild_decrement'\n",
        "    elif (i < (meanVal - (stdVal * 2) / 3)):\n",
        "        #print(\"Label: \", i, \"drastic_decrement\")\n",
        "        return 'drastic_decrement'\n",
        "    "
      ],
      "execution_count": null,
      "outputs": []
    },
    {
      "cell_type": "code",
      "metadata": {
        "id": "Q_UAqguGJ57U",
        "outputId": "2cce4a8e-653e-49fd-bb20-5464a5287395",
        "colab": {
          "base_uri": "https://localhost:8080/"
        }
      },
      "source": [
        "CA_combined_sd_inertia_data_sd['growth_label'] = CA_combined_sd_inertia_data_sd['New cases/1000 people'].apply(lambda x: determine_growth_label_stdev(x,meanVal,stdVal) )\n",
        "CA_combined_sd_inertia_data_sd.head(4)"
      ],
      "execution_count": null,
      "outputs": [
        {
          "output_type": "stream",
          "text": [
            "/usr/local/lib/python3.6/dist-packages/ipykernel_launcher.py:1: SettingWithCopyWarning: \n",
            "A value is trying to be set on a copy of a slice from a DataFrame.\n",
            "Try using .loc[row_indexer,col_indexer] = value instead\n",
            "\n",
            "See the caveats in the documentation: https://pandas.pydata.org/pandas-docs/stable/user_guide/indexing.html#returning-a-view-versus-a-copy\n",
            "  \"\"\"Entry point for launching an IPython kernel.\n"
          ],
          "name": "stderr"
        },
        {
          "output_type": "execute_result",
          "data": {
            "text/html": [
              "<div>\n",
              "<style scoped>\n",
              "    .dataframe tbody tr th:only-of-type {\n",
              "        vertical-align: middle;\n",
              "    }\n",
              "\n",
              "    .dataframe tbody tr th {\n",
              "        vertical-align: top;\n",
              "    }\n",
              "\n",
              "    .dataframe thead th {\n",
              "        text-align: right;\n",
              "    }\n",
              "</style>\n",
              "<table border=\"1\" class=\"dataframe\">\n",
              "  <thead>\n",
              "    <tr style=\"text-align: right;\">\n",
              "      <th></th>\n",
              "      <th>Date</th>\n",
              "      <th>Province_State</th>\n",
              "      <th>FIPS</th>\n",
              "      <th>Confirmed</th>\n",
              "      <th>Deaths</th>\n",
              "      <th>New cases</th>\n",
              "      <th>New deaths</th>\n",
              "      <th>mask_rule_active</th>\n",
              "      <th>CTFIPS</th>\n",
              "      <th>CTNAME</th>\n",
              "      <th>STFIPS</th>\n",
              "      <th>Social distancing index</th>\n",
              "      <th>% staying home</th>\n",
              "      <th>Trips/person</th>\n",
              "      <th>% out-of-county trips</th>\n",
              "      <th>% out-of-state trips</th>\n",
              "      <th>Miles/person</th>\n",
              "      <th>Work trips/person</th>\n",
              "      <th>Non-work trips/person</th>\n",
              "      <th>New COVID cases</th>\n",
              "      <th>Population</th>\n",
              "      <th>% change in consumption</th>\n",
              "      <th>date</th>\n",
              "      <th>Transit mode share</th>\n",
              "      <th>% people older than 60</th>\n",
              "      <th>Median income</th>\n",
              "      <th>% African Americans</th>\n",
              "      <th>% Hispanic Americans</th>\n",
              "      <th>% Male</th>\n",
              "      <th>Population density</th>\n",
              "      <th>Employment density</th>\n",
              "      <th># hot spots/1000 people</th>\n",
              "      <th>Hospital beds/1000 people</th>\n",
              "      <th>ICUs/1000 people</th>\n",
              "      <th># contact tracing workers/1000 people</th>\n",
              "      <th># contact tracing workers/1000 people rank</th>\n",
              "      <th>% people older than 60 rank</th>\n",
              "      <th>COVID exposure/1000 people</th>\n",
              "      <th>#days: decreasing ILI cases</th>\n",
              "      <th>Unemployment claims/1000 people</th>\n",
              "      <th>Unemployment rate</th>\n",
              "      <th>% working from home</th>\n",
              "      <th>Cumulative inflation rate</th>\n",
              "      <th>COVID death rate</th>\n",
              "      <th>New cases/1000 people</th>\n",
              "      <th>Active cases/1000 people</th>\n",
              "      <th>#days: decreasing COVID cases</th>\n",
              "      <th>% hospital bed utilization</th>\n",
              "      <th>Testing capacity</th>\n",
              "      <th>Tests done/1000 people</th>\n",
              "      <th>% ICU utilization</th>\n",
              "      <th>Ventilator shortage</th>\n",
              "      <th>Imported COVID cases</th>\n",
              "      <th>growth_label</th>\n",
              "    </tr>\n",
              "  </thead>\n",
              "  <tbody>\n",
              "    <tr>\n",
              "      <th>7632</th>\n",
              "      <td>2020-01-22</td>\n",
              "      <td>California</td>\n",
              "      <td>6073</td>\n",
              "      <td>0</td>\n",
              "      <td>0</td>\n",
              "      <td>0</td>\n",
              "      <td>0</td>\n",
              "      <td>0</td>\n",
              "      <td>6073</td>\n",
              "      <td>San Diego County</td>\n",
              "      <td>6</td>\n",
              "      <td>17</td>\n",
              "      <td>18</td>\n",
              "      <td>3.45</td>\n",
              "      <td>4.6</td>\n",
              "      <td>0.7</td>\n",
              "      <td>34.9</td>\n",
              "      <td>0.60</td>\n",
              "      <td>2.84</td>\n",
              "      <td>0</td>\n",
              "      <td>3343364</td>\n",
              "      <td>0.8</td>\n",
              "      <td>2020-01-22</td>\n",
              "      <td>2.9</td>\n",
              "      <td>19</td>\n",
              "      <td>74855</td>\n",
              "      <td>4.7</td>\n",
              "      <td>33.5</td>\n",
              "      <td>50.32</td>\n",
              "      <td>730</td>\n",
              "      <td>407</td>\n",
              "      <td>143</td>\n",
              "      <td>2.05</td>\n",
              "      <td>0.22</td>\n",
              "      <td>NaN</td>\n",
              "      <td>NaN</td>\n",
              "      <td>12</td>\n",
              "      <td>0.0</td>\n",
              "      <td>0</td>\n",
              "      <td>1.2</td>\n",
              "      <td>3.9</td>\n",
              "      <td>5.7</td>\n",
              "      <td>0.3</td>\n",
              "      <td>0.0</td>\n",
              "      <td>0.0</td>\n",
              "      <td>0.0</td>\n",
              "      <td>0</td>\n",
              "      <td>54.0</td>\n",
              "      <td>0.0</td>\n",
              "      <td>0.0</td>\n",
              "      <td>0.0</td>\n",
              "      <td>0</td>\n",
              "      <td>0</td>\n",
              "      <td>drastic_decrement</td>\n",
              "    </tr>\n",
              "    <tr>\n",
              "      <th>7633</th>\n",
              "      <td>2020-01-23</td>\n",
              "      <td>California</td>\n",
              "      <td>6073</td>\n",
              "      <td>0</td>\n",
              "      <td>0</td>\n",
              "      <td>0</td>\n",
              "      <td>0</td>\n",
              "      <td>0</td>\n",
              "      <td>6073</td>\n",
              "      <td>San Diego County</td>\n",
              "      <td>6</td>\n",
              "      <td>13</td>\n",
              "      <td>17</td>\n",
              "      <td>3.50</td>\n",
              "      <td>5.1</td>\n",
              "      <td>0.7</td>\n",
              "      <td>38.2</td>\n",
              "      <td>0.61</td>\n",
              "      <td>2.88</td>\n",
              "      <td>0</td>\n",
              "      <td>3343364</td>\n",
              "      <td>2.2</td>\n",
              "      <td>2020-01-23</td>\n",
              "      <td>2.9</td>\n",
              "      <td>19</td>\n",
              "      <td>74855</td>\n",
              "      <td>4.7</td>\n",
              "      <td>33.5</td>\n",
              "      <td>50.32</td>\n",
              "      <td>730</td>\n",
              "      <td>407</td>\n",
              "      <td>143</td>\n",
              "      <td>2.05</td>\n",
              "      <td>0.22</td>\n",
              "      <td>NaN</td>\n",
              "      <td>NaN</td>\n",
              "      <td>12</td>\n",
              "      <td>0.0</td>\n",
              "      <td>0</td>\n",
              "      <td>1.2</td>\n",
              "      <td>3.9</td>\n",
              "      <td>5.7</td>\n",
              "      <td>0.3</td>\n",
              "      <td>0.0</td>\n",
              "      <td>0.0</td>\n",
              "      <td>0.0</td>\n",
              "      <td>0</td>\n",
              "      <td>54.0</td>\n",
              "      <td>0.0</td>\n",
              "      <td>0.0</td>\n",
              "      <td>0.0</td>\n",
              "      <td>0</td>\n",
              "      <td>0</td>\n",
              "      <td>drastic_decrement</td>\n",
              "    </tr>\n",
              "    <tr>\n",
              "      <th>7634</th>\n",
              "      <td>2020-01-24</td>\n",
              "      <td>California</td>\n",
              "      <td>6073</td>\n",
              "      <td>0</td>\n",
              "      <td>0</td>\n",
              "      <td>0</td>\n",
              "      <td>0</td>\n",
              "      <td>0</td>\n",
              "      <td>6073</td>\n",
              "      <td>San Diego County</td>\n",
              "      <td>6</td>\n",
              "      <td>13</td>\n",
              "      <td>17</td>\n",
              "      <td>3.63</td>\n",
              "      <td>5.4</td>\n",
              "      <td>0.7</td>\n",
              "      <td>39.7</td>\n",
              "      <td>0.58</td>\n",
              "      <td>3.04</td>\n",
              "      <td>0</td>\n",
              "      <td>3343364</td>\n",
              "      <td>7.9</td>\n",
              "      <td>2020-01-24</td>\n",
              "      <td>2.9</td>\n",
              "      <td>19</td>\n",
              "      <td>74855</td>\n",
              "      <td>4.7</td>\n",
              "      <td>33.5</td>\n",
              "      <td>50.32</td>\n",
              "      <td>730</td>\n",
              "      <td>407</td>\n",
              "      <td>143</td>\n",
              "      <td>2.05</td>\n",
              "      <td>0.22</td>\n",
              "      <td>NaN</td>\n",
              "      <td>NaN</td>\n",
              "      <td>12</td>\n",
              "      <td>0.0</td>\n",
              "      <td>0</td>\n",
              "      <td>1.2</td>\n",
              "      <td>3.9</td>\n",
              "      <td>5.7</td>\n",
              "      <td>0.3</td>\n",
              "      <td>0.0</td>\n",
              "      <td>0.0</td>\n",
              "      <td>0.0</td>\n",
              "      <td>0</td>\n",
              "      <td>54.0</td>\n",
              "      <td>0.0</td>\n",
              "      <td>0.0</td>\n",
              "      <td>0.0</td>\n",
              "      <td>0</td>\n",
              "      <td>0</td>\n",
              "      <td>drastic_decrement</td>\n",
              "    </tr>\n",
              "    <tr>\n",
              "      <th>7635</th>\n",
              "      <td>2020-01-25</td>\n",
              "      <td>California</td>\n",
              "      <td>6073</td>\n",
              "      <td>0</td>\n",
              "      <td>0</td>\n",
              "      <td>0</td>\n",
              "      <td>0</td>\n",
              "      <td>0</td>\n",
              "      <td>6073</td>\n",
              "      <td>San Diego County</td>\n",
              "      <td>6</td>\n",
              "      <td>25</td>\n",
              "      <td>22</td>\n",
              "      <td>3.26</td>\n",
              "      <td>6.3</td>\n",
              "      <td>0.8</td>\n",
              "      <td>37.0</td>\n",
              "      <td>0.30</td>\n",
              "      <td>2.96</td>\n",
              "      <td>0</td>\n",
              "      <td>3343364</td>\n",
              "      <td>5.0</td>\n",
              "      <td>2020-01-25</td>\n",
              "      <td>2.9</td>\n",
              "      <td>19</td>\n",
              "      <td>74855</td>\n",
              "      <td>4.7</td>\n",
              "      <td>33.5</td>\n",
              "      <td>50.32</td>\n",
              "      <td>730</td>\n",
              "      <td>407</td>\n",
              "      <td>143</td>\n",
              "      <td>2.05</td>\n",
              "      <td>0.22</td>\n",
              "      <td>NaN</td>\n",
              "      <td>NaN</td>\n",
              "      <td>12</td>\n",
              "      <td>0.0</td>\n",
              "      <td>0</td>\n",
              "      <td>1.2</td>\n",
              "      <td>3.9</td>\n",
              "      <td>5.7</td>\n",
              "      <td>0.3</td>\n",
              "      <td>0.0</td>\n",
              "      <td>0.0</td>\n",
              "      <td>0.0</td>\n",
              "      <td>1</td>\n",
              "      <td>54.0</td>\n",
              "      <td>0.0</td>\n",
              "      <td>0.0</td>\n",
              "      <td>0.0</td>\n",
              "      <td>0</td>\n",
              "      <td>0</td>\n",
              "      <td>drastic_decrement</td>\n",
              "    </tr>\n",
              "  </tbody>\n",
              "</table>\n",
              "</div>"
            ],
            "text/plain": [
              "            Date Province_State  ...  Imported COVID cases       growth_label\n",
              "7632  2020-01-22     California  ...                     0  drastic_decrement\n",
              "7633  2020-01-23     California  ...                     0  drastic_decrement\n",
              "7634  2020-01-24     California  ...                     0  drastic_decrement\n",
              "7635  2020-01-25     California  ...                     0  drastic_decrement\n",
              "\n",
              "[4 rows x 54 columns]"
            ]
          },
          "metadata": {
            "tags": []
          },
          "execution_count": 56
        }
      ]
    },
    {
      "cell_type": "markdown",
      "metadata": {
        "id": "3M4lnmgQJ57X"
      },
      "source": [
        "### Export CSV File"
      ]
    },
    {
      "cell_type": "code",
      "metadata": {
        "id": "DQgz0UBVJ57Y",
        "outputId": "2c97816d-cec4-461f-b784-2cb9ca84af36",
        "colab": {
          "base_uri": "https://localhost:8080/"
        }
      },
      "source": [
        "from datetime import datetime\n",
        "location = '/content/drive/Shared drives/CMPE 295- Master Project/Covid19-data/CA/'\n",
        "filename = 'CA_sd_inertia_labeledData_sandiego_'+datetime.now().strftime(\"%b%d\")+'.csv' #%Y%m%d\n",
        "print(filename)\n",
        "CA_combined_sd_inertia_data_sd.to_csv(location+filename,index=False)"
      ],
      "execution_count": null,
      "outputs": [
        {
          "output_type": "stream",
          "text": [
            "CA_sd_inertia_labeledData_sandiego_Oct11.csv\n"
          ],
          "name": "stdout"
        }
      ]
    },
    {
      "cell_type": "code",
      "metadata": {
        "id": "T4y22VdyJ57a",
        "outputId": "012471eb-b6f5-4e30-bdd9-f320ac1fb78b",
        "colab": {
          "base_uri": "https://localhost:8080/"
        }
      },
      "source": [
        "print(CA_combined_sd_inertia_data_sd[CA_combined_sd_inertia_data_sd['growth_label'] == 'drastic_growth'].shape)\n",
        "print(CA_combined_sd_inertia_data_sd[CA_combined_sd_inertia_data_sd['growth_label'] == 'mild_decrement'].shape)\n",
        "print(CA_combined_sd_inertia_data_sd[CA_combined_sd_inertia_data_sd['growth_label'] == 'drastic_decrement'].shape)\n",
        "print(CA_combined_sd_inertia_data_sd[CA_combined_sd_inertia_data_sd['growth_label'] == 'mild_growth'].shape)\n",
        "print(CA_combined_sd_inertia_data_sd[CA_combined_sd_inertia_data_sd['growth_label'] == 'flat_growth'].shape)\n"
      ],
      "execution_count": null,
      "outputs": [
        {
          "output_type": "stream",
          "text": [
            "(59, 54)\n",
            "(37, 54)\n",
            "(66, 54)\n",
            "(11, 54)\n",
            "(39, 54)\n"
          ],
          "name": "stdout"
        }
      ]
    },
    {
      "cell_type": "markdown",
      "metadata": {
        "id": "BDWO3labLMPY"
      },
      "source": [
        "## 3.Filter-San Bernardino County"
      ]
    },
    {
      "cell_type": "code",
      "metadata": {
        "id": "75TnHaqiLMPf",
        "outputId": "2f6abfa7-efe5-40e0-f67e-9e0b8c07d455",
        "colab": {
          "base_uri": "https://localhost:8080/",
          "height": 348
        }
      },
      "source": [
        "CA_combined_sd_inertia_data_sb = CA_combined_sd_inertia_data[CA_combined_sd_inertia_data['CTNAME']== 'San Bernardino County']\n",
        "CA_combined_sd_inertia_data_sb.head(3)"
      ],
      "execution_count": null,
      "outputs": [
        {
          "output_type": "execute_result",
          "data": {
            "text/html": [
              "<div>\n",
              "<style scoped>\n",
              "    .dataframe tbody tr th:only-of-type {\n",
              "        vertical-align: middle;\n",
              "    }\n",
              "\n",
              "    .dataframe tbody tr th {\n",
              "        vertical-align: top;\n",
              "    }\n",
              "\n",
              "    .dataframe thead th {\n",
              "        text-align: right;\n",
              "    }\n",
              "</style>\n",
              "<table border=\"1\" class=\"dataframe\">\n",
              "  <thead>\n",
              "    <tr style=\"text-align: right;\">\n",
              "      <th></th>\n",
              "      <th>Date</th>\n",
              "      <th>Province_State</th>\n",
              "      <th>FIPS</th>\n",
              "      <th>Confirmed</th>\n",
              "      <th>Deaths</th>\n",
              "      <th>New cases</th>\n",
              "      <th>New deaths</th>\n",
              "      <th>mask_rule_active</th>\n",
              "      <th>CTFIPS</th>\n",
              "      <th>CTNAME</th>\n",
              "      <th>STFIPS</th>\n",
              "      <th>Social distancing index</th>\n",
              "      <th>% staying home</th>\n",
              "      <th>Trips/person</th>\n",
              "      <th>% out-of-county trips</th>\n",
              "      <th>% out-of-state trips</th>\n",
              "      <th>Miles/person</th>\n",
              "      <th>Work trips/person</th>\n",
              "      <th>Non-work trips/person</th>\n",
              "      <th>New COVID cases</th>\n",
              "      <th>Population</th>\n",
              "      <th>% change in consumption</th>\n",
              "      <th>date</th>\n",
              "      <th>Transit mode share</th>\n",
              "      <th>% people older than 60</th>\n",
              "      <th>Median income</th>\n",
              "      <th>% African Americans</th>\n",
              "      <th>% Hispanic Americans</th>\n",
              "      <th>% Male</th>\n",
              "      <th>Population density</th>\n",
              "      <th>Employment density</th>\n",
              "      <th># hot spots/1000 people</th>\n",
              "      <th>Hospital beds/1000 people</th>\n",
              "      <th>ICUs/1000 people</th>\n",
              "      <th># contact tracing workers/1000 people</th>\n",
              "      <th># contact tracing workers/1000 people rank</th>\n",
              "      <th>% people older than 60 rank</th>\n",
              "      <th>COVID exposure/1000 people</th>\n",
              "      <th>#days: decreasing ILI cases</th>\n",
              "      <th>Unemployment claims/1000 people</th>\n",
              "      <th>Unemployment rate</th>\n",
              "      <th>% working from home</th>\n",
              "      <th>Cumulative inflation rate</th>\n",
              "      <th>COVID death rate</th>\n",
              "      <th>New cases/1000 people</th>\n",
              "      <th>Active cases/1000 people</th>\n",
              "      <th>#days: decreasing COVID cases</th>\n",
              "      <th>% hospital bed utilization</th>\n",
              "      <th>Testing capacity</th>\n",
              "      <th>Tests done/1000 people</th>\n",
              "      <th>% ICU utilization</th>\n",
              "      <th>Ventilator shortage</th>\n",
              "      <th>Imported COVID cases</th>\n",
              "      <th>growth_label</th>\n",
              "    </tr>\n",
              "  </thead>\n",
              "  <tbody>\n",
              "    <tr>\n",
              "      <th>7420</th>\n",
              "      <td>2020-01-22</td>\n",
              "      <td>California</td>\n",
              "      <td>6071</td>\n",
              "      <td>0</td>\n",
              "      <td>0</td>\n",
              "      <td>0</td>\n",
              "      <td>0</td>\n",
              "      <td>0</td>\n",
              "      <td>6071</td>\n",
              "      <td>San Bernardino County</td>\n",
              "      <td>6</td>\n",
              "      <td>15</td>\n",
              "      <td>18</td>\n",
              "      <td>3.53</td>\n",
              "      <td>25.3</td>\n",
              "      <td>1.9</td>\n",
              "      <td>46.3</td>\n",
              "      <td>0.62</td>\n",
              "      <td>2.92</td>\n",
              "      <td>0</td>\n",
              "      <td>2171603</td>\n",
              "      <td>0.6</td>\n",
              "      <td>2020-01-22</td>\n",
              "      <td>1.5</td>\n",
              "      <td>16</td>\n",
              "      <td>60164</td>\n",
              "      <td>7.9</td>\n",
              "      <td>52.8</td>\n",
              "      <td>49.75</td>\n",
              "      <td>106</td>\n",
              "      <td>35</td>\n",
              "      <td>98</td>\n",
              "      <td>2.05</td>\n",
              "      <td>0.22</td>\n",
              "      <td>NaN</td>\n",
              "      <td>NaN</td>\n",
              "      <td>4</td>\n",
              "      <td>0.0</td>\n",
              "      <td>0</td>\n",
              "      <td>1.2</td>\n",
              "      <td>3.9</td>\n",
              "      <td>5.7</td>\n",
              "      <td>0.3</td>\n",
              "      <td>0.0</td>\n",
              "      <td>0.0</td>\n",
              "      <td>0.0</td>\n",
              "      <td>0</td>\n",
              "      <td>54.0</td>\n",
              "      <td>0.0</td>\n",
              "      <td>0.0</td>\n",
              "      <td>0.0</td>\n",
              "      <td>0</td>\n",
              "      <td>0</td>\n",
              "      <td>drastic_decrement</td>\n",
              "    </tr>\n",
              "    <tr>\n",
              "      <th>7421</th>\n",
              "      <td>2020-01-23</td>\n",
              "      <td>California</td>\n",
              "      <td>6071</td>\n",
              "      <td>0</td>\n",
              "      <td>0</td>\n",
              "      <td>0</td>\n",
              "      <td>0</td>\n",
              "      <td>0</td>\n",
              "      <td>6071</td>\n",
              "      <td>San Bernardino County</td>\n",
              "      <td>6</td>\n",
              "      <td>13</td>\n",
              "      <td>17</td>\n",
              "      <td>3.62</td>\n",
              "      <td>25.6</td>\n",
              "      <td>2.0</td>\n",
              "      <td>48.5</td>\n",
              "      <td>0.63</td>\n",
              "      <td>2.99</td>\n",
              "      <td>0</td>\n",
              "      <td>2171603</td>\n",
              "      <td>3.0</td>\n",
              "      <td>2020-01-23</td>\n",
              "      <td>1.5</td>\n",
              "      <td>16</td>\n",
              "      <td>60164</td>\n",
              "      <td>7.9</td>\n",
              "      <td>52.8</td>\n",
              "      <td>49.75</td>\n",
              "      <td>106</td>\n",
              "      <td>35</td>\n",
              "      <td>98</td>\n",
              "      <td>2.05</td>\n",
              "      <td>0.22</td>\n",
              "      <td>NaN</td>\n",
              "      <td>NaN</td>\n",
              "      <td>4</td>\n",
              "      <td>0.0</td>\n",
              "      <td>0</td>\n",
              "      <td>1.2</td>\n",
              "      <td>3.9</td>\n",
              "      <td>5.7</td>\n",
              "      <td>0.3</td>\n",
              "      <td>0.0</td>\n",
              "      <td>0.0</td>\n",
              "      <td>0.0</td>\n",
              "      <td>0</td>\n",
              "      <td>54.0</td>\n",
              "      <td>0.0</td>\n",
              "      <td>0.0</td>\n",
              "      <td>0.0</td>\n",
              "      <td>0</td>\n",
              "      <td>0</td>\n",
              "      <td>drastic_decrement</td>\n",
              "    </tr>\n",
              "    <tr>\n",
              "      <th>7422</th>\n",
              "      <td>2020-01-24</td>\n",
              "      <td>California</td>\n",
              "      <td>6071</td>\n",
              "      <td>0</td>\n",
              "      <td>0</td>\n",
              "      <td>0</td>\n",
              "      <td>0</td>\n",
              "      <td>0</td>\n",
              "      <td>6071</td>\n",
              "      <td>San Bernardino County</td>\n",
              "      <td>6</td>\n",
              "      <td>13</td>\n",
              "      <td>16</td>\n",
              "      <td>3.77</td>\n",
              "      <td>25.8</td>\n",
              "      <td>2.4</td>\n",
              "      <td>50.4</td>\n",
              "      <td>0.61</td>\n",
              "      <td>3.16</td>\n",
              "      <td>0</td>\n",
              "      <td>2171603</td>\n",
              "      <td>8.9</td>\n",
              "      <td>2020-01-24</td>\n",
              "      <td>1.5</td>\n",
              "      <td>16</td>\n",
              "      <td>60164</td>\n",
              "      <td>7.9</td>\n",
              "      <td>52.8</td>\n",
              "      <td>49.75</td>\n",
              "      <td>106</td>\n",
              "      <td>35</td>\n",
              "      <td>98</td>\n",
              "      <td>2.05</td>\n",
              "      <td>0.22</td>\n",
              "      <td>NaN</td>\n",
              "      <td>NaN</td>\n",
              "      <td>4</td>\n",
              "      <td>0.0</td>\n",
              "      <td>0</td>\n",
              "      <td>1.2</td>\n",
              "      <td>3.9</td>\n",
              "      <td>5.7</td>\n",
              "      <td>0.3</td>\n",
              "      <td>0.0</td>\n",
              "      <td>0.0</td>\n",
              "      <td>0.0</td>\n",
              "      <td>0</td>\n",
              "      <td>54.0</td>\n",
              "      <td>0.0</td>\n",
              "      <td>0.0</td>\n",
              "      <td>0.0</td>\n",
              "      <td>0</td>\n",
              "      <td>0</td>\n",
              "      <td>drastic_decrement</td>\n",
              "    </tr>\n",
              "  </tbody>\n",
              "</table>\n",
              "</div>"
            ],
            "text/plain": [
              "            Date Province_State  ...  Imported COVID cases       growth_label\n",
              "7420  2020-01-22     California  ...                     0  drastic_decrement\n",
              "7421  2020-01-23     California  ...                     0  drastic_decrement\n",
              "7422  2020-01-24     California  ...                     0  drastic_decrement\n",
              "\n",
              "[3 rows x 54 columns]"
            ]
          },
          "metadata": {
            "tags": []
          },
          "execution_count": 59
        }
      ]
    },
    {
      "cell_type": "code",
      "metadata": {
        "id": "yaz3b4FpLMPk"
      },
      "source": [
        "new_cases_1k_la_list = CA_combined_sd_inertia_data_sb['New cases/1000 people'].values"
      ],
      "execution_count": null,
      "outputs": []
    },
    {
      "cell_type": "markdown",
      "metadata": {
        "id": "VFc2o_qyLMPn"
      },
      "source": [
        "### Finding mean, std. dev"
      ]
    },
    {
      "cell_type": "code",
      "metadata": {
        "id": "ISOwh2rLLMPo",
        "outputId": "7c2217f0-8b41-4d6f-853f-ebd0bcd6c3cb",
        "colab": {
          "base_uri": "https://localhost:8080/"
        }
      },
      "source": [
        "meanVal= np.mean(new_cases_1k_la_list, axis=0)\n",
        "stdVal = np.std(new_cases_1k_la_list, axis=0)\n",
        "print('Mean: ', np.mean(new_cases_1k_la_list, axis=0))\n",
        "print('Standard Deviation:', np.std(new_cases_1k_la_list, axis=0))"
      ],
      "execution_count": null,
      "outputs": [
        {
          "output_type": "stream",
          "text": [
            "Mean:  0.09443490566037738\n",
            "Standard Deviation: 0.12868128761243755\n"
          ],
          "name": "stdout"
        }
      ]
    },
    {
      "cell_type": "markdown",
      "metadata": {
        "id": "hCPzwOD8LMPq"
      },
      "source": [
        "### Method to compute normal distribution to label the data "
      ]
    },
    {
      "cell_type": "code",
      "metadata": {
        "id": "-XsOjO_PLMPr"
      },
      "source": [
        "  def determine_growth_label_stdev(i,meanVal,stdVal):\n",
        "    if (i > (meanVal + (stdVal * 1) / 3)):\n",
        "        #print(\"Label: \", i, \"drastic_growth\")\n",
        "        return 'drastic_growth'\n",
        "    elif ( i > (meanVal) and i <= (meanVal + (stdVal * 1) / 3)):\n",
        "        #print(\"Label: \", i, \"mild_growth\")\n",
        "        return 'mild_growth'\n",
        "    elif (i >= (meanVal - (stdVal * 1) / 3) and i <= meanVal):\n",
        "        #print(\"Label: \", i, \"flat_growth\")\n",
        "        return 'flat_growth'\n",
        "    elif (i < (meanVal - (stdVal * 1) / 3) and i >= (meanVal - (stdVal * 2) / 3)):\n",
        "        #print(\"Label: \", i, \"mild_decrement\")\n",
        "        return 'mild_decrement'\n",
        "    elif (i < (meanVal - (stdVal * 2) / 3)):\n",
        "        #print(\"Label: \", i, \"drastic_decrement\")\n",
        "        return 'drastic_decrement'\n",
        "    "
      ],
      "execution_count": null,
      "outputs": []
    },
    {
      "cell_type": "code",
      "metadata": {
        "id": "z5MR31lgLMPt",
        "outputId": "7b966307-1bbb-495a-ec31-cb0414f1ced3",
        "colab": {
          "base_uri": "https://localhost:8080/"
        }
      },
      "source": [
        "CA_combined_sd_inertia_data_sb['growth_label'] = CA_combined_sd_inertia_data_sb['New cases/1000 people'].apply(lambda x: determine_growth_label_stdev(x,meanVal,stdVal) )\n",
        "CA_combined_sd_inertia_data_sb.head(4)"
      ],
      "execution_count": null,
      "outputs": [
        {
          "output_type": "stream",
          "text": [
            "/usr/local/lib/python3.6/dist-packages/ipykernel_launcher.py:1: SettingWithCopyWarning: \n",
            "A value is trying to be set on a copy of a slice from a DataFrame.\n",
            "Try using .loc[row_indexer,col_indexer] = value instead\n",
            "\n",
            "See the caveats in the documentation: https://pandas.pydata.org/pandas-docs/stable/user_guide/indexing.html#returning-a-view-versus-a-copy\n",
            "  \"\"\"Entry point for launching an IPython kernel.\n"
          ],
          "name": "stderr"
        },
        {
          "output_type": "execute_result",
          "data": {
            "text/html": [
              "<div>\n",
              "<style scoped>\n",
              "    .dataframe tbody tr th:only-of-type {\n",
              "        vertical-align: middle;\n",
              "    }\n",
              "\n",
              "    .dataframe tbody tr th {\n",
              "        vertical-align: top;\n",
              "    }\n",
              "\n",
              "    .dataframe thead th {\n",
              "        text-align: right;\n",
              "    }\n",
              "</style>\n",
              "<table border=\"1\" class=\"dataframe\">\n",
              "  <thead>\n",
              "    <tr style=\"text-align: right;\">\n",
              "      <th></th>\n",
              "      <th>Date</th>\n",
              "      <th>Province_State</th>\n",
              "      <th>FIPS</th>\n",
              "      <th>Confirmed</th>\n",
              "      <th>Deaths</th>\n",
              "      <th>New cases</th>\n",
              "      <th>New deaths</th>\n",
              "      <th>mask_rule_active</th>\n",
              "      <th>CTFIPS</th>\n",
              "      <th>CTNAME</th>\n",
              "      <th>STFIPS</th>\n",
              "      <th>Social distancing index</th>\n",
              "      <th>% staying home</th>\n",
              "      <th>Trips/person</th>\n",
              "      <th>% out-of-county trips</th>\n",
              "      <th>% out-of-state trips</th>\n",
              "      <th>Miles/person</th>\n",
              "      <th>Work trips/person</th>\n",
              "      <th>Non-work trips/person</th>\n",
              "      <th>New COVID cases</th>\n",
              "      <th>Population</th>\n",
              "      <th>% change in consumption</th>\n",
              "      <th>date</th>\n",
              "      <th>Transit mode share</th>\n",
              "      <th>% people older than 60</th>\n",
              "      <th>Median income</th>\n",
              "      <th>% African Americans</th>\n",
              "      <th>% Hispanic Americans</th>\n",
              "      <th>% Male</th>\n",
              "      <th>Population density</th>\n",
              "      <th>Employment density</th>\n",
              "      <th># hot spots/1000 people</th>\n",
              "      <th>Hospital beds/1000 people</th>\n",
              "      <th>ICUs/1000 people</th>\n",
              "      <th># contact tracing workers/1000 people</th>\n",
              "      <th># contact tracing workers/1000 people rank</th>\n",
              "      <th>% people older than 60 rank</th>\n",
              "      <th>COVID exposure/1000 people</th>\n",
              "      <th>#days: decreasing ILI cases</th>\n",
              "      <th>Unemployment claims/1000 people</th>\n",
              "      <th>Unemployment rate</th>\n",
              "      <th>% working from home</th>\n",
              "      <th>Cumulative inflation rate</th>\n",
              "      <th>COVID death rate</th>\n",
              "      <th>New cases/1000 people</th>\n",
              "      <th>Active cases/1000 people</th>\n",
              "      <th>#days: decreasing COVID cases</th>\n",
              "      <th>% hospital bed utilization</th>\n",
              "      <th>Testing capacity</th>\n",
              "      <th>Tests done/1000 people</th>\n",
              "      <th>% ICU utilization</th>\n",
              "      <th>Ventilator shortage</th>\n",
              "      <th>Imported COVID cases</th>\n",
              "      <th>growth_label</th>\n",
              "    </tr>\n",
              "  </thead>\n",
              "  <tbody>\n",
              "    <tr>\n",
              "      <th>7420</th>\n",
              "      <td>2020-01-22</td>\n",
              "      <td>California</td>\n",
              "      <td>6071</td>\n",
              "      <td>0</td>\n",
              "      <td>0</td>\n",
              "      <td>0</td>\n",
              "      <td>0</td>\n",
              "      <td>0</td>\n",
              "      <td>6071</td>\n",
              "      <td>San Bernardino County</td>\n",
              "      <td>6</td>\n",
              "      <td>15</td>\n",
              "      <td>18</td>\n",
              "      <td>3.53</td>\n",
              "      <td>25.3</td>\n",
              "      <td>1.9</td>\n",
              "      <td>46.3</td>\n",
              "      <td>0.62</td>\n",
              "      <td>2.92</td>\n",
              "      <td>0</td>\n",
              "      <td>2171603</td>\n",
              "      <td>0.6</td>\n",
              "      <td>2020-01-22</td>\n",
              "      <td>1.5</td>\n",
              "      <td>16</td>\n",
              "      <td>60164</td>\n",
              "      <td>7.9</td>\n",
              "      <td>52.8</td>\n",
              "      <td>49.75</td>\n",
              "      <td>106</td>\n",
              "      <td>35</td>\n",
              "      <td>98</td>\n",
              "      <td>2.05</td>\n",
              "      <td>0.22</td>\n",
              "      <td>NaN</td>\n",
              "      <td>NaN</td>\n",
              "      <td>4</td>\n",
              "      <td>0.0</td>\n",
              "      <td>0</td>\n",
              "      <td>1.2</td>\n",
              "      <td>3.9</td>\n",
              "      <td>5.7</td>\n",
              "      <td>0.3</td>\n",
              "      <td>0.0</td>\n",
              "      <td>0.0</td>\n",
              "      <td>0.0</td>\n",
              "      <td>0</td>\n",
              "      <td>54.0</td>\n",
              "      <td>0.0</td>\n",
              "      <td>0.0</td>\n",
              "      <td>0.0</td>\n",
              "      <td>0</td>\n",
              "      <td>0</td>\n",
              "      <td>drastic_decrement</td>\n",
              "    </tr>\n",
              "    <tr>\n",
              "      <th>7421</th>\n",
              "      <td>2020-01-23</td>\n",
              "      <td>California</td>\n",
              "      <td>6071</td>\n",
              "      <td>0</td>\n",
              "      <td>0</td>\n",
              "      <td>0</td>\n",
              "      <td>0</td>\n",
              "      <td>0</td>\n",
              "      <td>6071</td>\n",
              "      <td>San Bernardino County</td>\n",
              "      <td>6</td>\n",
              "      <td>13</td>\n",
              "      <td>17</td>\n",
              "      <td>3.62</td>\n",
              "      <td>25.6</td>\n",
              "      <td>2.0</td>\n",
              "      <td>48.5</td>\n",
              "      <td>0.63</td>\n",
              "      <td>2.99</td>\n",
              "      <td>0</td>\n",
              "      <td>2171603</td>\n",
              "      <td>3.0</td>\n",
              "      <td>2020-01-23</td>\n",
              "      <td>1.5</td>\n",
              "      <td>16</td>\n",
              "      <td>60164</td>\n",
              "      <td>7.9</td>\n",
              "      <td>52.8</td>\n",
              "      <td>49.75</td>\n",
              "      <td>106</td>\n",
              "      <td>35</td>\n",
              "      <td>98</td>\n",
              "      <td>2.05</td>\n",
              "      <td>0.22</td>\n",
              "      <td>NaN</td>\n",
              "      <td>NaN</td>\n",
              "      <td>4</td>\n",
              "      <td>0.0</td>\n",
              "      <td>0</td>\n",
              "      <td>1.2</td>\n",
              "      <td>3.9</td>\n",
              "      <td>5.7</td>\n",
              "      <td>0.3</td>\n",
              "      <td>0.0</td>\n",
              "      <td>0.0</td>\n",
              "      <td>0.0</td>\n",
              "      <td>0</td>\n",
              "      <td>54.0</td>\n",
              "      <td>0.0</td>\n",
              "      <td>0.0</td>\n",
              "      <td>0.0</td>\n",
              "      <td>0</td>\n",
              "      <td>0</td>\n",
              "      <td>drastic_decrement</td>\n",
              "    </tr>\n",
              "    <tr>\n",
              "      <th>7422</th>\n",
              "      <td>2020-01-24</td>\n",
              "      <td>California</td>\n",
              "      <td>6071</td>\n",
              "      <td>0</td>\n",
              "      <td>0</td>\n",
              "      <td>0</td>\n",
              "      <td>0</td>\n",
              "      <td>0</td>\n",
              "      <td>6071</td>\n",
              "      <td>San Bernardino County</td>\n",
              "      <td>6</td>\n",
              "      <td>13</td>\n",
              "      <td>16</td>\n",
              "      <td>3.77</td>\n",
              "      <td>25.8</td>\n",
              "      <td>2.4</td>\n",
              "      <td>50.4</td>\n",
              "      <td>0.61</td>\n",
              "      <td>3.16</td>\n",
              "      <td>0</td>\n",
              "      <td>2171603</td>\n",
              "      <td>8.9</td>\n",
              "      <td>2020-01-24</td>\n",
              "      <td>1.5</td>\n",
              "      <td>16</td>\n",
              "      <td>60164</td>\n",
              "      <td>7.9</td>\n",
              "      <td>52.8</td>\n",
              "      <td>49.75</td>\n",
              "      <td>106</td>\n",
              "      <td>35</td>\n",
              "      <td>98</td>\n",
              "      <td>2.05</td>\n",
              "      <td>0.22</td>\n",
              "      <td>NaN</td>\n",
              "      <td>NaN</td>\n",
              "      <td>4</td>\n",
              "      <td>0.0</td>\n",
              "      <td>0</td>\n",
              "      <td>1.2</td>\n",
              "      <td>3.9</td>\n",
              "      <td>5.7</td>\n",
              "      <td>0.3</td>\n",
              "      <td>0.0</td>\n",
              "      <td>0.0</td>\n",
              "      <td>0.0</td>\n",
              "      <td>0</td>\n",
              "      <td>54.0</td>\n",
              "      <td>0.0</td>\n",
              "      <td>0.0</td>\n",
              "      <td>0.0</td>\n",
              "      <td>0</td>\n",
              "      <td>0</td>\n",
              "      <td>drastic_decrement</td>\n",
              "    </tr>\n",
              "    <tr>\n",
              "      <th>7423</th>\n",
              "      <td>2020-01-25</td>\n",
              "      <td>California</td>\n",
              "      <td>6071</td>\n",
              "      <td>0</td>\n",
              "      <td>0</td>\n",
              "      <td>0</td>\n",
              "      <td>0</td>\n",
              "      <td>0</td>\n",
              "      <td>6071</td>\n",
              "      <td>San Bernardino County</td>\n",
              "      <td>6</td>\n",
              "      <td>27</td>\n",
              "      <td>21</td>\n",
              "      <td>3.29</td>\n",
              "      <td>27.1</td>\n",
              "      <td>2.3</td>\n",
              "      <td>45.3</td>\n",
              "      <td>0.31</td>\n",
              "      <td>2.99</td>\n",
              "      <td>0</td>\n",
              "      <td>2171603</td>\n",
              "      <td>3.0</td>\n",
              "      <td>2020-01-25</td>\n",
              "      <td>1.5</td>\n",
              "      <td>16</td>\n",
              "      <td>60164</td>\n",
              "      <td>7.9</td>\n",
              "      <td>52.8</td>\n",
              "      <td>49.75</td>\n",
              "      <td>106</td>\n",
              "      <td>35</td>\n",
              "      <td>98</td>\n",
              "      <td>2.05</td>\n",
              "      <td>0.22</td>\n",
              "      <td>NaN</td>\n",
              "      <td>NaN</td>\n",
              "      <td>4</td>\n",
              "      <td>0.0</td>\n",
              "      <td>0</td>\n",
              "      <td>1.2</td>\n",
              "      <td>3.9</td>\n",
              "      <td>5.7</td>\n",
              "      <td>0.3</td>\n",
              "      <td>0.0</td>\n",
              "      <td>0.0</td>\n",
              "      <td>0.0</td>\n",
              "      <td>1</td>\n",
              "      <td>54.0</td>\n",
              "      <td>0.0</td>\n",
              "      <td>0.0</td>\n",
              "      <td>0.0</td>\n",
              "      <td>0</td>\n",
              "      <td>0</td>\n",
              "      <td>drastic_decrement</td>\n",
              "    </tr>\n",
              "  </tbody>\n",
              "</table>\n",
              "</div>"
            ],
            "text/plain": [
              "            Date Province_State  ...  Imported COVID cases       growth_label\n",
              "7420  2020-01-22     California  ...                     0  drastic_decrement\n",
              "7421  2020-01-23     California  ...                     0  drastic_decrement\n",
              "7422  2020-01-24     California  ...                     0  drastic_decrement\n",
              "7423  2020-01-25     California  ...                     0  drastic_decrement\n",
              "\n",
              "[4 rows x 54 columns]"
            ]
          },
          "metadata": {
            "tags": []
          },
          "execution_count": 63
        }
      ]
    },
    {
      "cell_type": "markdown",
      "metadata": {
        "id": "S-Qjwv7CLMPv"
      },
      "source": [
        "### Export CSV File"
      ]
    },
    {
      "cell_type": "code",
      "metadata": {
        "id": "HJaxfZoALMPw",
        "outputId": "0e01abff-5260-4183-da0a-bbe4c39dcb65",
        "colab": {
          "base_uri": "https://localhost:8080/"
        }
      },
      "source": [
        "from datetime import datetime\n",
        "location = '/content/drive/Shared drives/CMPE 295- Master Project/Covid19-data/CA/'\n",
        "filename = 'CA_sd_inertia_labeledData_SanBernardino_'+datetime.now().strftime(\"%b%d\")+'.csv' #%Y%m%d\n",
        "print(filename)\n",
        "CA_combined_sd_inertia_data_sb.to_csv(location+filename,index=False)"
      ],
      "execution_count": null,
      "outputs": [
        {
          "output_type": "stream",
          "text": [
            "CA_sd_inertia_labeledData_SanBernardino_Oct11.csv\n"
          ],
          "name": "stdout"
        }
      ]
    },
    {
      "cell_type": "code",
      "metadata": {
        "id": "HJ2WkO05LMPy",
        "outputId": "45790101-5d9a-4e43-89f4-e031657a0fd5",
        "colab": {
          "base_uri": "https://localhost:8080/"
        }
      },
      "source": [
        "print(CA_combined_sd_inertia_data_sb[CA_combined_sd_inertia_data_sb['growth_label'] == 'drastic_growth'].shape)\n",
        "print(CA_combined_sd_inertia_data_sb[CA_combined_sd_inertia_data_sb['growth_label'] == 'mild_decrement'].shape)\n",
        "print(CA_combined_sd_inertia_data_sb[CA_combined_sd_inertia_data_sb['growth_label'] == 'drastic_decrement'].shape)\n",
        "print(CA_combined_sd_inertia_data_sb[CA_combined_sd_inertia_data_sb['growth_label'] == 'mild_growth'].shape)\n",
        "print(CA_combined_sd_inertia_data_sb[CA_combined_sd_inertia_data_sb['growth_label'] == 'flat_growth'].shape)\n"
      ],
      "execution_count": null,
      "outputs": [
        {
          "output_type": "stream",
          "text": [
            "(57, 54)\n",
            "(53, 54)\n",
            "(70, 54)\n",
            "(10, 54)\n",
            "(22, 54)\n"
          ],
          "name": "stdout"
        }
      ]
    }
  ]
}