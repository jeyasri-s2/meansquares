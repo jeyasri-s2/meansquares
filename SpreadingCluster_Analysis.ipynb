{
  "nbformat": 4,
  "nbformat_minor": 0,
  "metadata": {
    "colab": {
      "name": "SpreadingCluster_Analysis.ipynb",
      "provenance": [],
      "authorship_tag": "ABX9TyMYEJKxe8qSzfCvglzuEKmt",
      "include_colab_link": true
    },
    "kernelspec": {
      "name": "python3",
      "display_name": "Python 3"
    }
  },
  "cells": [
    {
      "cell_type": "markdown",
      "metadata": {
        "id": "view-in-github",
        "colab_type": "text"
      },
      "source": [
        "<a href=\"https://colab.research.google.com/github/aarsanjani/meansquares/blob/master/SpreadingCluster_Analysis.ipynb\" target=\"_parent\"><img src=\"https://colab.research.google.com/assets/colab-badge.svg\" alt=\"Open In Colab\"/></a>"
      ]
    },
    {
      "cell_type": "markdown",
      "metadata": {
        "id": "G8TFEIZhF3Dw"
      },
      "source": [
        "## Mount Google Drive"
      ]
    },
    {
      "cell_type": "code",
      "metadata": {
        "id": "qwLOyvvSFvkW",
        "outputId": "9a53a6f4-61ac-4eee-db20-84731d13a774",
        "colab": {
          "base_uri": "https://localhost:8080/",
          "height": 35
        }
      },
      "source": [
        "from google.colab import drive\n",
        "drive.mount('/content/drive')"
      ],
      "execution_count": 1,
      "outputs": [
        {
          "output_type": "stream",
          "text": [
            "Mounted at /content/drive\n"
          ],
          "name": "stdout"
        }
      ]
    },
    {
      "cell_type": "code",
      "metadata": {
        "id": "OXnpOE7NFwV7"
      },
      "source": [
        "file_path = '/content/drive/Shared drives/CMPE 295- Master Project/Covid19-data/Maryland_Inertia_Data/Maryland_inertia_testingCluster_Oct24.csv'"
      ],
      "execution_count": 2,
      "outputs": []
    },
    {
      "cell_type": "code",
      "metadata": {
        "id": "nQt7zQLXF6uk",
        "outputId": "b68133fd-b4de-4953-9663-e19800ec1aaf",
        "colab": {
          "base_uri": "https://localhost:8080/",
          "height": 72
        }
      },
      "source": [
        "import pandas as pd\n",
        " \n",
        "from PIL import Image\n",
        "\n",
        "from tqdm import tqdm\n",
        "import seaborn as sns\n",
        "import numpy as np\n",
        "import matplotlib.pyplot as plt\n",
        "\n",
        "import seaborn as sns\n",
        "import os\n",
        "from pandas import Series, datetime\n",
        "from pandas.plotting import scatter_matrix, autocorrelation_plot\n",
        "from sklearn.preprocessing import StandardScaler, RobustScaler\n",
        "from sklearn.model_selection import train_test_split, KFold, cross_val_score, GridSearchCV, TimeSeriesSplit\n",
        "from sklearn import metrics\n",
        "from sklearn.metrics import classification_report, confusion_matrix, accuracy_score, mean_squared_error\n",
        "\n",
        "from sklearn.metrics import roc_curve, auc\n",
        "import random\n",
        "from statsmodels.graphics.tsaplots import plot_acf, plot_pacf\n"
      ],
      "execution_count": 5,
      "outputs": [
        {
          "output_type": "stream",
          "text": [
            "/usr/local/lib/python3.6/dist-packages/statsmodels/tools/_testing.py:19: FutureWarning: pandas.util.testing is deprecated. Use the functions in the public API at pandas.testing instead.\n",
            "  import pandas.util.testing as tm\n"
          ],
          "name": "stderr"
        }
      ]
    },
    {
      "cell_type": "markdown",
      "metadata": {
        "id": "p6raPnjaF_T9"
      },
      "source": [
        "## Load data"
      ]
    },
    {
      "cell_type": "code",
      "metadata": {
        "id": "DwNPVQi9GA8v",
        "outputId": "a7d3d7f7-5a2c-42d4-d08c-07e946980d1b",
        "colab": {
          "base_uri": "https://localhost:8080/",
          "height": 374
        }
      },
      "source": [
        "spreading_data = pd.read_csv(file_path, low_memory=False)\n",
        "spreading_data.head(5)"
      ],
      "execution_count": 8,
      "outputs": [
        {
          "output_type": "execute_result",
          "data": {
            "text/html": [
              "<div>\n",
              "<style scoped>\n",
              "    .dataframe tbody tr th:only-of-type {\n",
              "        vertical-align: middle;\n",
              "    }\n",
              "\n",
              "    .dataframe tbody tr th {\n",
              "        vertical-align: top;\n",
              "    }\n",
              "\n",
              "    .dataframe thead th {\n",
              "        text-align: right;\n",
              "    }\n",
              "</style>\n",
              "<table border=\"1\" class=\"dataframe\">\n",
              "  <thead>\n",
              "    <tr style=\"text-align: right;\">\n",
              "      <th></th>\n",
              "      <th>State</th>\n",
              "      <th>Postal Code</th>\n",
              "      <th>STFIPS</th>\n",
              "      <th>CTFIPS</th>\n",
              "      <th>CTNAME</th>\n",
              "      <th>Social distancing index</th>\n",
              "      <th>% staying home</th>\n",
              "      <th>Trips/person</th>\n",
              "      <th>% out-of-county trips</th>\n",
              "      <th>% out-of-state trips</th>\n",
              "      <th>Miles/person</th>\n",
              "      <th>Work trips/person</th>\n",
              "      <th>Non-work trips/person</th>\n",
              "      <th>New COVID cases</th>\n",
              "      <th>Population</th>\n",
              "      <th>% change in consumption</th>\n",
              "      <th>date</th>\n",
              "      <th>Transit mode share</th>\n",
              "      <th>% people older than 60</th>\n",
              "      <th>Median income</th>\n",
              "      <th>% African Americans</th>\n",
              "      <th>% Hispanic Americans</th>\n",
              "      <th>% Male</th>\n",
              "      <th>Population density</th>\n",
              "      <th>Employment density</th>\n",
              "      <th># hot spots/1000 people</th>\n",
              "      <th>Hospital beds/1000 people</th>\n",
              "      <th>ICUs/1000 people</th>\n",
              "      <th># contact tracing workers/1000 people</th>\n",
              "      <th>New cases/1000 people</th>\n",
              "      <th>Active cases/1000 people</th>\n",
              "      <th>#days: decreasing COVID cases</th>\n",
              "      <th>% hospital bed utilization</th>\n",
              "      <th>Testing capacity</th>\n",
              "      <th>Tests done/1000 people</th>\n",
              "      <th>% ICU utilization</th>\n",
              "      <th>Ventilator shortage</th>\n",
              "      <th>Imported COVID cases</th>\n",
              "      <th>COVID exposure/1000 people</th>\n",
              "      <th>#days: decreasing ILI cases</th>\n",
              "      <th>Unemployment claims/1000 people</th>\n",
              "      <th>Unemployment rate</th>\n",
              "      <th>% working from home</th>\n",
              "      <th>Cumulative inflation rate</th>\n",
              "      <th>COVID death rate</th>\n",
              "      <th>cluster</th>\n",
              "      <th>cluster_label</th>\n",
              "    </tr>\n",
              "  </thead>\n",
              "  <tbody>\n",
              "    <tr>\n",
              "      <th>0</th>\n",
              "      <td>Iowa</td>\n",
              "      <td>IA</td>\n",
              "      <td>19</td>\n",
              "      <td>19001</td>\n",
              "      <td>Adair County</td>\n",
              "      <td>21</td>\n",
              "      <td>19</td>\n",
              "      <td>3.17</td>\n",
              "      <td>62.3</td>\n",
              "      <td>13.0</td>\n",
              "      <td>53.0</td>\n",
              "      <td>0.35</td>\n",
              "      <td>2.82</td>\n",
              "      <td>0</td>\n",
              "      <td>7063</td>\n",
              "      <td>-5.4</td>\n",
              "      <td>2020-06-01</td>\n",
              "      <td>0.34</td>\n",
              "      <td>31</td>\n",
              "      <td>51859</td>\n",
              "      <td>0.4</td>\n",
              "      <td>1.9</td>\n",
              "      <td>49.35</td>\n",
              "      <td>12</td>\n",
              "      <td>5</td>\n",
              "      <td>169</td>\n",
              "      <td>3.69</td>\n",
              "      <td>0.26</td>\n",
              "      <td>0.011</td>\n",
              "      <td>0.0</td>\n",
              "      <td>3.45</td>\n",
              "      <td>3</td>\n",
              "      <td>37.398260</td>\n",
              "      <td>12.4</td>\n",
              "      <td>50.40</td>\n",
              "      <td>15.26</td>\n",
              "      <td>157</td>\n",
              "      <td>47</td>\n",
              "      <td>4.99</td>\n",
              "      <td>112</td>\n",
              "      <td>3.2</td>\n",
              "      <td>8.5</td>\n",
              "      <td>30.7</td>\n",
              "      <td>0.59</td>\n",
              "      <td>3.53</td>\n",
              "      <td>1</td>\n",
              "      <td>cluster_0_0_0_1</td>\n",
              "    </tr>\n",
              "    <tr>\n",
              "      <th>1</th>\n",
              "      <td>Iowa</td>\n",
              "      <td>IA</td>\n",
              "      <td>19</td>\n",
              "      <td>19001</td>\n",
              "      <td>Adair County</td>\n",
              "      <td>19</td>\n",
              "      <td>18</td>\n",
              "      <td>3.89</td>\n",
              "      <td>60.5</td>\n",
              "      <td>13.0</td>\n",
              "      <td>53.5</td>\n",
              "      <td>0.34</td>\n",
              "      <td>3.55</td>\n",
              "      <td>0</td>\n",
              "      <td>7063</td>\n",
              "      <td>19.1</td>\n",
              "      <td>2020-06-03</td>\n",
              "      <td>0.34</td>\n",
              "      <td>31</td>\n",
              "      <td>51859</td>\n",
              "      <td>0.4</td>\n",
              "      <td>1.9</td>\n",
              "      <td>49.35</td>\n",
              "      <td>12</td>\n",
              "      <td>5</td>\n",
              "      <td>169</td>\n",
              "      <td>3.69</td>\n",
              "      <td>0.26</td>\n",
              "      <td>0.011</td>\n",
              "      <td>0.0</td>\n",
              "      <td>3.31</td>\n",
              "      <td>5</td>\n",
              "      <td>37.532097</td>\n",
              "      <td>12.2</td>\n",
              "      <td>52.10</td>\n",
              "      <td>14.16</td>\n",
              "      <td>160</td>\n",
              "      <td>52</td>\n",
              "      <td>5.21</td>\n",
              "      <td>119</td>\n",
              "      <td>3.2</td>\n",
              "      <td>8.5</td>\n",
              "      <td>30.7</td>\n",
              "      <td>0.59</td>\n",
              "      <td>3.49</td>\n",
              "      <td>1</td>\n",
              "      <td>cluster_0_0_0_1</td>\n",
              "    </tr>\n",
              "    <tr>\n",
              "      <th>2</th>\n",
              "      <td>Iowa</td>\n",
              "      <td>IA</td>\n",
              "      <td>19</td>\n",
              "      <td>19001</td>\n",
              "      <td>Adair County</td>\n",
              "      <td>19</td>\n",
              "      <td>18</td>\n",
              "      <td>3.66</td>\n",
              "      <td>57.6</td>\n",
              "      <td>13.0</td>\n",
              "      <td>54.6</td>\n",
              "      <td>0.34</td>\n",
              "      <td>3.32</td>\n",
              "      <td>0</td>\n",
              "      <td>7063</td>\n",
              "      <td>11.4</td>\n",
              "      <td>2020-06-04</td>\n",
              "      <td>0.34</td>\n",
              "      <td>31</td>\n",
              "      <td>51859</td>\n",
              "      <td>0.4</td>\n",
              "      <td>1.9</td>\n",
              "      <td>49.35</td>\n",
              "      <td>12</td>\n",
              "      <td>5</td>\n",
              "      <td>169</td>\n",
              "      <td>3.69</td>\n",
              "      <td>0.26</td>\n",
              "      <td>0.011</td>\n",
              "      <td>0.0</td>\n",
              "      <td>3.31</td>\n",
              "      <td>6</td>\n",
              "      <td>35.324382</td>\n",
              "      <td>11.9</td>\n",
              "      <td>55.43</td>\n",
              "      <td>12.82</td>\n",
              "      <td>114</td>\n",
              "      <td>43</td>\n",
              "      <td>5.37</td>\n",
              "      <td>119</td>\n",
              "      <td>3.2</td>\n",
              "      <td>8.5</td>\n",
              "      <td>30.7</td>\n",
              "      <td>0.59</td>\n",
              "      <td>3.44</td>\n",
              "      <td>1</td>\n",
              "      <td>cluster_0_0_0_1</td>\n",
              "    </tr>\n",
              "    <tr>\n",
              "      <th>3</th>\n",
              "      <td>Iowa</td>\n",
              "      <td>IA</td>\n",
              "      <td>19</td>\n",
              "      <td>19001</td>\n",
              "      <td>Adair County</td>\n",
              "      <td>15</td>\n",
              "      <td>16</td>\n",
              "      <td>4.13</td>\n",
              "      <td>57.8</td>\n",
              "      <td>13.8</td>\n",
              "      <td>71.9</td>\n",
              "      <td>0.31</td>\n",
              "      <td>3.82</td>\n",
              "      <td>0</td>\n",
              "      <td>7063</td>\n",
              "      <td>28.1</td>\n",
              "      <td>2020-06-05</td>\n",
              "      <td>0.34</td>\n",
              "      <td>31</td>\n",
              "      <td>51859</td>\n",
              "      <td>0.4</td>\n",
              "      <td>1.9</td>\n",
              "      <td>49.35</td>\n",
              "      <td>12</td>\n",
              "      <td>5</td>\n",
              "      <td>169</td>\n",
              "      <td>3.69</td>\n",
              "      <td>0.26</td>\n",
              "      <td>0.011</td>\n",
              "      <td>0.0</td>\n",
              "      <td>3.33</td>\n",
              "      <td>7</td>\n",
              "      <td>35.362079</td>\n",
              "      <td>11.7</td>\n",
              "      <td>57.24</td>\n",
              "      <td>12.45</td>\n",
              "      <td>115</td>\n",
              "      <td>51</td>\n",
              "      <td>5.47</td>\n",
              "      <td>119</td>\n",
              "      <td>3.2</td>\n",
              "      <td>8.5</td>\n",
              "      <td>30.7</td>\n",
              "      <td>0.59</td>\n",
              "      <td>3.43</td>\n",
              "      <td>1</td>\n",
              "      <td>cluster_0_0_0_1</td>\n",
              "    </tr>\n",
              "    <tr>\n",
              "      <th>4</th>\n",
              "      <td>Iowa</td>\n",
              "      <td>IA</td>\n",
              "      <td>19</td>\n",
              "      <td>19001</td>\n",
              "      <td>Adair County</td>\n",
              "      <td>23</td>\n",
              "      <td>19</td>\n",
              "      <td>3.71</td>\n",
              "      <td>59.4</td>\n",
              "      <td>15.6</td>\n",
              "      <td>48.7</td>\n",
              "      <td>0.31</td>\n",
              "      <td>3.40</td>\n",
              "      <td>0</td>\n",
              "      <td>7063</td>\n",
              "      <td>14.0</td>\n",
              "      <td>2020-06-06</td>\n",
              "      <td>0.34</td>\n",
              "      <td>31</td>\n",
              "      <td>51859</td>\n",
              "      <td>0.4</td>\n",
              "      <td>1.9</td>\n",
              "      <td>49.35</td>\n",
              "      <td>12</td>\n",
              "      <td>5</td>\n",
              "      <td>169</td>\n",
              "      <td>3.69</td>\n",
              "      <td>0.26</td>\n",
              "      <td>0.011</td>\n",
              "      <td>0.0</td>\n",
              "      <td>3.22</td>\n",
              "      <td>8</td>\n",
              "      <td>34.771728</td>\n",
              "      <td>11.6</td>\n",
              "      <td>58.53</td>\n",
              "      <td>12.45</td>\n",
              "      <td>102</td>\n",
              "      <td>52</td>\n",
              "      <td>5.58</td>\n",
              "      <td>119</td>\n",
              "      <td>3.2</td>\n",
              "      <td>8.5</td>\n",
              "      <td>30.7</td>\n",
              "      <td>0.59</td>\n",
              "      <td>3.40</td>\n",
              "      <td>1</td>\n",
              "      <td>cluster_0_0_0_1</td>\n",
              "    </tr>\n",
              "  </tbody>\n",
              "</table>\n",
              "</div>"
            ],
            "text/plain": [
              "  State Postal Code  STFIPS  ...  COVID death rate cluster    cluster_label\n",
              "0  Iowa          IA      19  ...              3.53       1  cluster_0_0_0_1\n",
              "1  Iowa          IA      19  ...              3.49       1  cluster_0_0_0_1\n",
              "2  Iowa          IA      19  ...              3.44       1  cluster_0_0_0_1\n",
              "3  Iowa          IA      19  ...              3.43       1  cluster_0_0_0_1\n",
              "4  Iowa          IA      19  ...              3.40       1  cluster_0_0_0_1\n",
              "\n",
              "[5 rows x 47 columns]"
            ]
          },
          "metadata": {
            "tags": []
          },
          "execution_count": 8
        }
      ]
    },
    {
      "cell_type": "markdown",
      "metadata": {
        "id": "hwCifZBAGYY2"
      },
      "source": [
        "# Number of clusters"
      ]
    },
    {
      "cell_type": "code",
      "metadata": {
        "id": "z_5AgensGaR7",
        "outputId": "b359a5a5-b5e7-4383-adaa-63c154c1ec1c",
        "colab": {
          "base_uri": "https://localhost:8080/",
          "height": 484
        }
      },
      "source": [
        "print(len(spreading_data.cluster_label.unique()))\n",
        "spreading_data.cluster_label.unique()"
      ],
      "execution_count": 9,
      "outputs": [
        {
          "output_type": "stream",
          "text": [
            "75\n"
          ],
          "name": "stdout"
        },
        {
          "output_type": "execute_result",
          "data": {
            "text/plain": [
              "array(['cluster_0_0_0_1', 'cluster_0_0_0_2', 'cluster_0_0_0_0',\n",
              "       'cluster_0_0_1_1', 'cluster_0_0_1_2', 'cluster_0_0_1_0',\n",
              "       'cluster_0_0_2_1', 'cluster_0_0_2_2', 'cluster_0_0_2_0',\n",
              "       'cluster_0_1_0_1', 'cluster_0_1_0_2', 'cluster_0_1_0_0',\n",
              "       'cluster_0_1_1_2', 'cluster_0_1_1_0', 'cluster_0_1_1_1',\n",
              "       'cluster_0_1_2_0', 'cluster_0_1_2_2', 'cluster_0_1_2_1',\n",
              "       'cluster_0_2_0_0', 'cluster_0_2_0_2', 'cluster_0_2_0_1',\n",
              "       'cluster_0_2_1_0', 'cluster_0_2_1_1', 'cluster_0_2_1_2',\n",
              "       'cluster_0_2_2_1', 'cluster_0_2_2_2', 'cluster_0_2_2_0',\n",
              "       'cluster_1_0_0_1', 'cluster_1_0_0_0', 'cluster_1_0_0_2',\n",
              "       'cluster_1_0_1_2', 'cluster_1_0_1_1', 'cluster_1_0_1_0',\n",
              "       'cluster_1_0_2_1', 'cluster_1_0_2_2', 'cluster_1_0_2_0',\n",
              "       'cluster_1_1_0_2', 'cluster_1_1_0_0', 'cluster_1_1_0_1',\n",
              "       'cluster_1_1_1_0', 'cluster_1_1_1_1', 'cluster_1_1_1_2',\n",
              "       'cluster_1_1_2_1', 'cluster_1_1_2_0', 'cluster_1_1_2_2',\n",
              "       'cluster_1_2_0_2', 'cluster_1_2_0_0', 'cluster_1_2_0_1',\n",
              "       'cluster_1_2_1_2', 'cluster_1_2_1_0', 'cluster_1_2_1_1',\n",
              "       'cluster_1_2_2_2', 'cluster_1_2_2_1', 'cluster_1_2_2_0',\n",
              "       'cluster_2_0_0_1', 'cluster_2_0_0_0', 'cluster_2_0_0_2',\n",
              "       'cluster_2_0_1_0', 'cluster_2_0_1_1', 'cluster_2_0_1_2',\n",
              "       'cluster_2_0_2_0', 'cluster_2_0_2_1', 'cluster_2_0_2_2',\n",
              "       'cluster_2_1_0_1', 'cluster_2_1_0_2', 'cluster_2_1_0_0',\n",
              "       'cluster_2_2_2', 'cluster_2_2_1', 'cluster_2_2_0',\n",
              "       'cluster_2_1_1_2', 'cluster_2_1_1_0', 'cluster_2_1_1_1',\n",
              "       'cluster_2_1_2_0', 'cluster_2_1_2_1', 'cluster_2_1_2_2'],\n",
              "      dtype=object)"
            ]
          },
          "metadata": {
            "tags": []
          },
          "execution_count": 9
        }
      ]
    }
  ]
}