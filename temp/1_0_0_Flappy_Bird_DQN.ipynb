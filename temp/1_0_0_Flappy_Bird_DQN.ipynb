{
  "nbformat": 4,
  "nbformat_minor": 0,
  "metadata": {
    "kernelspec": {
      "display_name": "Python 3",
      "language": "python",
      "name": "python3"
    },
    "language_info": {
      "codemirror_mode": {
        "name": "ipython",
        "version": 2
      },
      "file_extension": ".py",
      "mimetype": "text/x-python",
      "name": "python",
      "nbconvert_exporter": "python",
      "pygments_lexer": "ipython2",
      "version": "2.7.16"
    },
    "colab": {
      "name": "1.0.0 - Flappy Bird - DQN.ipynb",
      "provenance": [],
      "include_colab_link": true
    }
  },
  "cells": [
    {
      "cell_type": "markdown",
      "metadata": {
        "id": "view-in-github",
        "colab_type": "text"
      },
      "source": [
        "<a href=\"https://colab.research.google.com/github/aarsanjani/meansquares/blob/master/temp/1_0_0_Flappy_Bird_DQN.ipynb\" target=\"_parent\"><img src=\"https://colab.research.google.com/assets/colab-badge.svg\" alt=\"Open In Colab\"/></a>"
      ]
    },
    {
      "cell_type": "markdown",
      "metadata": {
        "id": "bCJgc8_BMjhs"
      },
      "source": [
        " <a href=\"https://colab.research.google.com/github/ypeleg/keras_rl_tutorial/blob/master/1.0.0%20-%20Flappy%20Bird%20-%20DQN.ipynb\" target=\"_parent\"><img src=\"https://colab.research.google.com/assets/colab-badge.svg\" alt=\"Open In Colab\"/></a>"
      ]
    },
    {
      "cell_type": "markdown",
      "metadata": {
        "id": "pyomvuSyMjht"
      },
      "source": [
        "------"
      ]
    },
    {
      "cell_type": "markdown",
      "metadata": {
        "id": "jEZvZY46Mjhu"
      },
      "source": [
        "<div> \n",
        "    <center><strong><h5>Reinforcement Learning Tutorial!</h5></strong></center>\n",
        "    <center><strong><h2>1.0.0 Hands On Tutorial - Flappy Bird</h2></strong></center> \n",
        "<div>"
      ]
    },
    {
      "cell_type": "markdown",
      "metadata": {
        "id": "K0ysD_JtMjhv"
      },
      "source": [
        "------"
      ]
    },
    {
      "cell_type": "markdown",
      "metadata": {
        "id": "zInVeyMlMjhv"
      },
      "source": [
        "\n",
        "<table>\n",
        "  <tr>\n",
        "    <td><img src=\"img/animation1.gif?raw=true\" width=\"400\"></td>\n",
        "  </tr>\n",
        "</table>"
      ]
    },
    {
      "cell_type": "markdown",
      "metadata": {
        "id": "X0YSfOo_Mjhw"
      },
      "source": [
        "### Installations & Imports"
      ]
    },
    {
      "cell_type": "code",
      "metadata": {
        "id": "M5E4yPihMjhx"
      },
      "source": [
        "!pip install pygame\n",
        "import os \n",
        "os.chdir('/content')\n",
        "os.listdir('.')\n",
        "if not os.path.exists('keras_rl_tutorial'): os.system('git clone https://github.com/ypeleg/keras_rl_tutorial/')\n",
        "os.chdir('keras_rl_tutorial')\n",
        "os.environ['SDL_VIDEODRIVER']='dummy'\n",
        "import pygame.transform\n",
        "import pygame.display\n",
        "pygame.display.init()\n",
        "import sys \n",
        "import keras\n",
        "import pygame \n",
        "import matplotlib.pyplot as plt\n",
        "%matplotlib inline\n",
        "import matplotlib\n",
        "import pylab\n",
        "import sys\n",
        "sys.path.append(\"game/\")\n",
        "import random\n",
        "import numpy as np\n",
        "from collections import deque\n",
        "from game import wrapped_flappy_bird as game\n",
        "from keras.models import Model\n",
        "from keras.models import Sequential\n",
        "from keras.optimizers import SGD , Adam\n",
        "from keras.layers.convolutional import Convolution2D, MaxPooling2D\n",
        "from keras.layers import Dense, Dropout, Activation, Flatten, Input\n",
        "# These are for the Live Demo on stage\n",
        "vstack = np.vstack\n",
        "argmax = np.argmax\n",
        "append = lambda x, y: np.append(x, y, axis=3)"
      ],
      "execution_count": null,
      "outputs": []
    },
    {
      "cell_type": "markdown",
      "metadata": {
        "id": "RgkKSPoHMjh0"
      },
      "source": [
        "### Installations "
      ]
    },
    {
      "cell_type": "code",
      "metadata": {
        "id": "AspjqPWGMjh1"
      },
      "source": [
        "MODE = 'Train'\n",
        "GAMMA = 0.99\n",
        "BATCH = 32\n",
        "\n",
        "def build_model():\n",
        "    inp = Input(shape=(80, 80, 4))\n",
        "    X = Convolution2D(32, (8, 8), subsample=(4, 4), border_mode='same')(inp)\n",
        "    X = Activation('relu')(X)\n",
        "    X = Convolution2D(64, (4, 4), subsample=(2, 2), border_mode='same')(X)\n",
        "    X = Activation('relu')(X)\n",
        "    X = Convolution2D(64, (3, 3), subsample=(1, 1), border_mode='same')(X)\n",
        "    X = Activation('relu')(X)\n",
        "    X = Flatten()(X)\n",
        "    X = Dense(512)(X)\n",
        "    X = Activation('relu')(X)\n",
        "    X = Dense(2)(X)\n",
        "    model = Model(inputs=inp, outputs=X)\n",
        "    model.summary()\n",
        "    model.compile(loss='mse', optimizer=Adam(lr=1e-4))\n",
        "    return model\n",
        "\n",
        "def init_flappybird():\n",
        "    env = game.GameState()\n",
        "    x_t, r_0, terminal = env.step(0)\n",
        "    x_t = x_t.reshape(x_t.shape[1], x_t.shape[2])\n",
        "    s_t = np.stack((x_t, x_t, x_t, x_t), axis=2)\n",
        "    s_t = s_t.reshape(1, s_t.shape[0], s_t.shape[1], s_t.shape[2])\n",
        "    return env, s_t"
      ],
      "execution_count": null,
      "outputs": []
    },
    {
      "cell_type": "markdown",
      "metadata": {
        "id": "2CE2eXswMjh3"
      },
      "source": [
        "### Simple DQN For flappy bird "
      ]
    },
    {
      "cell_type": "code",
      "metadata": {
        "id": "ditW2jMLMjh4"
      },
      "source": [
        "# Actual Algorithm Goes here:\n",
        "\n",
        "\n",
        "\n",
        "\n",
        "\n",
        "\n",
        "\n",
        "\n",
        "\n",
        "\n",
        "\n",
        "\n",
        "\n",
        "\n",
        "\n",
        "\n"
      ],
      "execution_count": null,
      "outputs": []
    }
  ]
}