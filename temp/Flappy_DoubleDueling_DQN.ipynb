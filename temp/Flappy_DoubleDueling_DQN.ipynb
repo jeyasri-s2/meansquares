{
  "nbformat": 4,
  "nbformat_minor": 0,
  "metadata": {
    "kernelspec": {
      "display_name": "Python 3",
      "language": "python",
      "name": "python3"
    },
    "language_info": {
      "codemirror_mode": {
        "name": "ipython",
        "version": 3
      },
      "file_extension": ".py",
      "mimetype": "text/x-python",
      "name": "python",
      "nbconvert_exporter": "python",
      "pygments_lexer": "ipython3",
      "version": "3.6.3"
    },
    "colab": {
      "name": " Flappy_DoubleDueling_DQN.ipynb",
      "provenance": [],
      "toc_visible": true,
      "machine_shape": "hm",
      "include_colab_link": true
    },
    "accelerator": "GPU"
  },
  "cells": [
    {
      "cell_type": "markdown",
      "metadata": {
        "id": "view-in-github",
        "colab_type": "text"
      },
      "source": [
        "<a href=\"https://colab.research.google.com/github/aarsanjani/meansquares/blob/master/temp/Flappy_DoubleDueling_DQN.ipynb\" target=\"_parent\"><img src=\"https://colab.research.google.com/assets/colab-badge.svg\" alt=\"Open In Colab\"/></a>"
      ]
    },
    {
      "cell_type": "markdown",
      "metadata": {
        "id": "Y0dL2PwhXNgF"
      },
      "source": [
        "## Double Dueling Deep Q Network Learning with Priortized Experienced Reply"
      ]
    },
    {
      "cell_type": "markdown",
      "metadata": {
        "id": "W437Q5gRY2jQ"
      },
      "source": [
        "#Setup"
      ]
    },
    {
      "cell_type": "code",
      "metadata": {
        "colab": {
          "base_uri": "https://localhost:8080/"
        },
        "id": "i1nxr3n4pfzZ",
        "outputId": "d4ace37d-c942-48bc-caf7-234c7a5c5fed"
      },
      "source": [
        "from google.colab import drive\n",
        "drive.mount('/content/drive')"
      ],
      "execution_count": null,
      "outputs": [
        {
          "output_type": "stream",
          "text": [
            "Drive already mounted at /content/drive; to attempt to forcibly remount, call drive.mount(\"/content/drive\", force_remount=True).\n"
          ],
          "name": "stdout"
        }
      ]
    },
    {
      "cell_type": "code",
      "metadata": {
        "colab": {
          "base_uri": "https://localhost:8080/"
        },
        "id": "fHpkDkDhYz2t",
        "outputId": "0c25d86f-3c86-4846-e8f6-3fe09c30ca03"
      },
      "source": [
        "!pip install torch\n",
        "!pip install torchvision\n",
        "!pip install opencv-python"
      ],
      "execution_count": null,
      "outputs": [
        {
          "output_type": "stream",
          "text": [
            "Requirement already satisfied: torch in /usr/local/lib/python3.6/dist-packages (1.7.0+cu101)\n",
            "Requirement already satisfied: dataclasses in /usr/local/lib/python3.6/dist-packages (from torch) (0.8)\n",
            "Requirement already satisfied: typing-extensions in /usr/local/lib/python3.6/dist-packages (from torch) (3.7.4.3)\n",
            "Requirement already satisfied: future in /usr/local/lib/python3.6/dist-packages (from torch) (0.16.0)\n",
            "Requirement already satisfied: numpy in /usr/local/lib/python3.6/dist-packages (from torch) (1.18.5)\n",
            "Requirement already satisfied: torchvision in /usr/local/lib/python3.6/dist-packages (0.8.1+cu101)\n",
            "Requirement already satisfied: numpy in /usr/local/lib/python3.6/dist-packages (from torchvision) (1.18.5)\n",
            "Requirement already satisfied: torch==1.7.0 in /usr/local/lib/python3.6/dist-packages (from torchvision) (1.7.0+cu101)\n",
            "Requirement already satisfied: pillow>=4.1.1 in /usr/local/lib/python3.6/dist-packages (from torchvision) (7.0.0)\n",
            "Requirement already satisfied: typing-extensions in /usr/local/lib/python3.6/dist-packages (from torch==1.7.0->torchvision) (3.7.4.3)\n",
            "Requirement already satisfied: dataclasses in /usr/local/lib/python3.6/dist-packages (from torch==1.7.0->torchvision) (0.8)\n",
            "Requirement already satisfied: future in /usr/local/lib/python3.6/dist-packages (from torch==1.7.0->torchvision) (0.16.0)\n",
            "Requirement already satisfied: opencv-python in /usr/local/lib/python3.6/dist-packages (4.1.2.30)\n",
            "Requirement already satisfied: numpy>=1.11.3 in /usr/local/lib/python3.6/dist-packages (from opencv-python) (1.18.5)\n"
          ],
          "name": "stdout"
        }
      ]
    },
    {
      "cell_type": "code",
      "metadata": {
        "id": "JV4RaAvlXNgF"
      },
      "source": [
        "import os,sys\n",
        "import cv2\n",
        "import numpy as np\n",
        "import time\n",
        "%matplotlib inline\n",
        "import matplotlib.pyplot as plt"
      ],
      "execution_count": null,
      "outputs": []
    },
    {
      "cell_type": "code",
      "metadata": {
        "id": "OeiMuN03ZjYg"
      },
      "source": [
        "os.chdir('../')"
      ],
      "execution_count": null,
      "outputs": []
    },
    {
      "cell_type": "code",
      "metadata": {
        "colab": {
          "base_uri": "https://localhost:8080/"
        },
        "id": "ZfeCgBQ8ZnIz",
        "outputId": "8540275d-ade4-435b-d307-e75a80eadc79"
      },
      "source": [
        "!git clone https://github.com/adityajn105/flappy-bird-deep-q-learning.git"
      ],
      "execution_count": null,
      "outputs": [
        {
          "output_type": "stream",
          "text": [
            "Cloning into 'flappy-bird-deep-q-learning'...\n",
            "remote: Enumerating objects: 88, done.\u001b[K\n",
            "remote: Total 88 (delta 0), reused 0 (delta 0), pack-reused 88\u001b[K\n",
            "Unpacking objects: 100% (88/88), done.\n"
          ],
          "name": "stdout"
        }
      ]
    },
    {
      "cell_type": "code",
      "metadata": {
        "colab": {
          "base_uri": "https://localhost:8080/"
        },
        "id": "hhZubFpWZzRZ",
        "outputId": "2189baee-5a49-4b61-e31b-7ffa7b74260e"
      },
      "source": [
        "!ls"
      ],
      "execution_count": null,
      "outputs": [
        {
          "output_type": "stream",
          "text": [
            "bin\t etc\t\t\t      lib64  root   sys\t\t       var\n",
            "boot\t flappy-bird-deep-q-learning  media  run    tensorflow-1.15.2\n",
            "content  home\t\t\t      mnt    sbin   tmp\n",
            "datalab  lib\t\t\t      opt    srv    tools\n",
            "dev\t lib32\t\t\t      proc   swift  usr\n"
          ],
          "name": "stdout"
        }
      ]
    },
    {
      "cell_type": "code",
      "metadata": {
        "colab": {
          "base_uri": "https://localhost:8080/"
        },
        "id": "y-VXDvm7Z781",
        "outputId": "5d68735b-2c19-43f9-b823-c44418dba40a"
      },
      "source": [
        "os.chdir('flappy-bird-deep-q-learning')\n",
        "!ls"
      ],
      "execution_count": null,
      "outputs": [
        {
          "output_type": "stream",
          "text": [
            " assets\t\t\t  game\t\t README.md\n",
            " checkpoints\t\t  LICENSE\t requirements.txt\n",
            "'Deep Q Learning.ipynb'   play_game.py\t screenshots\n"
          ],
          "name": "stdout"
        }
      ]
    },
    {
      "cell_type": "code",
      "metadata": {
        "id": "GLiPvf-yZaZv"
      },
      "source": [
        "#sys.path.append('game/')\n",
        "os.chdir('game')\n"
      ],
      "execution_count": null,
      "outputs": []
    },
    {
      "cell_type": "code",
      "metadata": {
        "colab": {
          "base_uri": "https://localhost:8080/"
        },
        "id": "jeE_wCOOb2fe",
        "outputId": "f8d9041e-4628-4758-8c36-23ba184ac351"
      },
      "source": [
        "!pip install pygame "
      ],
      "execution_count": null,
      "outputs": [
        {
          "output_type": "stream",
          "text": [
            "Collecting pygame\n",
            "\u001b[?25l  Downloading https://files.pythonhosted.org/packages/87/4c/2ebe8ab1a695a446574bc48d96eb3503649893be8c769e7fafd65fd18833/pygame-2.0.0-cp36-cp36m-manylinux1_x86_64.whl (11.5MB)\n",
            "\u001b[K     |████████████████████████████████| 11.5MB 174kB/s \n",
            "\u001b[?25hInstalling collected packages: pygame\n",
            "Successfully installed pygame-2.0.0\n"
          ],
          "name": "stdout"
        }
      ]
    },
    {
      "cell_type": "code",
      "metadata": {
        "colab": {
          "base_uri": "https://localhost:8080/"
        },
        "id": "76AF_irCbUNc",
        "outputId": "28b10187-10e5-406b-fe94-0f3b086e61f9"
      },
      "source": [
        "import pygame\n",
        "DISPLAY = True\n",
        "if not DISPLAY:\n",
        "    os.environ[\"SDL_VIDEODRIVER\"] = \"dummy\""
      ],
      "execution_count": null,
      "outputs": [
        {
          "output_type": "stream",
          "text": [
            "pygame 2.0.0 (SDL 2.0.12, python 3.6.9)\n",
            "Hello from the pygame community. https://www.pygame.org/contribute.html\n"
          ],
          "name": "stdout"
        }
      ]
    },
    {
      "cell_type": "markdown",
      "metadata": {
        "id": "FPOjpx62q0yG"
      },
      "source": [
        "# Not working part"
      ]
    },
    {
      "cell_type": "code",
      "metadata": {
        "colab": {
          "base_uri": "https://localhost:8080/"
        },
        "id": "KHLNn6zudU7F",
        "outputId": "04f92969-9bf2-419f-8bc4-645fbdd2b33c"
      },
      "source": [
        "import os\n",
        "os.environ['SDL_VIDEODRIVER']='dummy'\n",
        "import pygame\n",
        "pygame.display.set_mode((640,480))\n",
        "pygame.init()\n",
        "pygame.display.init()\n",
        "print( pygame.display.list_modes() )"
      ],
      "execution_count": null,
      "outputs": [
        {
          "output_type": "stream",
          "text": [
            "[(640, 480)]\n"
          ],
          "name": "stdout"
        }
      ]
    },
    {
      "cell_type": "code",
      "metadata": {
        "colab": {
          "base_uri": "https://localhost:8080/"
        },
        "id": "RK2kfNV4dhui",
        "outputId": "dd13d810-de26-48b0-b14c-de260d5afbc8"
      },
      "source": [
        "!ls"
      ],
      "execution_count": null,
      "outputs": [
        {
          "output_type": "stream",
          "text": [
            "flappy_utils.py  flappy_wrapped.py\n"
          ],
          "name": "stdout"
        }
      ]
    },
    {
      "cell_type": "code",
      "metadata": {
        "colab": {
          "base_uri": "https://localhost:8080/"
        },
        "id": "d8hRyunlnsqm",
        "outputId": "b1889516-4c1c-4959-a275-23ffbf35af76"
      },
      "source": [
        "os.getcwd()\n",
        "!ls"
      ],
      "execution_count": null,
      "outputs": [
        {
          "output_type": "stream",
          "text": [
            "flappy_utils.py  flappy_wrapped.py\n"
          ],
          "name": "stdout"
        }
      ]
    },
    {
      "cell_type": "code",
      "metadata": {
        "id": "5-tF3Knjd6Ko"
      },
      "source": [
        "sys.path.append('game/')"
      ],
      "execution_count": null,
      "outputs": []
    },
    {
      "cell_type": "code",
      "metadata": {
        "colab": {
          "base_uri": "https://localhost:8080/",
          "height": 320
        },
        "id": "SUqTQyRboM1E",
        "outputId": "c717dab6-5a5d-461c-c0bb-b0c3c8679f57"
      },
      "source": [
        "import flappy_utils\n",
        "import flappy_wrapped as game"
      ],
      "execution_count": null,
      "outputs": [
        {
          "output_type": "error",
          "ename": "FileNotFoundError",
          "evalue": "ignored",
          "traceback": [
            "\u001b[0;31m---------------------------------------------------------------------------\u001b[0m",
            "\u001b[0;31mFileNotFoundError\u001b[0m                         Traceback (most recent call last)",
            "\u001b[0;32m<ipython-input-16-c143cea0172a>\u001b[0m in \u001b[0;36m<module>\u001b[0;34m()\u001b[0m\n\u001b[1;32m      1\u001b[0m \u001b[0;32mimport\u001b[0m \u001b[0mflappy_utils\u001b[0m\u001b[0;34m\u001b[0m\u001b[0;34m\u001b[0m\u001b[0m\n\u001b[0;32m----> 2\u001b[0;31m \u001b[0;32mimport\u001b[0m \u001b[0mflappy_wrapped\u001b[0m \u001b[0;32mas\u001b[0m \u001b[0mgame\u001b[0m\u001b[0;34m\u001b[0m\u001b[0;34m\u001b[0m\u001b[0m\n\u001b[0m",
            "\u001b[0;32m/flappy-bird-deep-q-learning/game/flappy_wrapped.py\u001b[0m in \u001b[0;36m<module>\u001b[0;34m()\u001b[0m\n\u001b[1;32m     17\u001b[0m \u001b[0mpygame\u001b[0m\u001b[0;34m.\u001b[0m\u001b[0mdisplay\u001b[0m\u001b[0;34m.\u001b[0m\u001b[0mset_caption\u001b[0m\u001b[0;34m(\u001b[0m\u001b[0;34m'Flappy Bird'\u001b[0m\u001b[0;34m)\u001b[0m\u001b[0;34m\u001b[0m\u001b[0;34m\u001b[0m\u001b[0m\n\u001b[1;32m     18\u001b[0m \u001b[0;34m\u001b[0m\u001b[0m\n\u001b[0;32m---> 19\u001b[0;31m \u001b[0mIMAGES\u001b[0m\u001b[0;34m,\u001b[0m \u001b[0mSOUNDS\u001b[0m\u001b[0;34m,\u001b[0m \u001b[0mHITMASKS\u001b[0m \u001b[0;34m=\u001b[0m \u001b[0mflappy_bird_utils\u001b[0m\u001b[0;34m.\u001b[0m\u001b[0mload\u001b[0m\u001b[0;34m(\u001b[0m\u001b[0;34m)\u001b[0m\u001b[0;34m\u001b[0m\u001b[0;34m\u001b[0m\u001b[0m\n\u001b[0m\u001b[1;32m     20\u001b[0m \u001b[0mPIPEGAPSIZE\u001b[0m \u001b[0;34m=\u001b[0m \u001b[0;36m100\u001b[0m \u001b[0;31m# gap between upper and lower part of pipe\u001b[0m\u001b[0;34m\u001b[0m\u001b[0;34m\u001b[0m\u001b[0m\n\u001b[1;32m     21\u001b[0m \u001b[0mBASEY\u001b[0m \u001b[0;34m=\u001b[0m \u001b[0mSCREENHEIGHT\u001b[0m \u001b[0;34m*\u001b[0m \u001b[0;36m0.79\u001b[0m\u001b[0;34m\u001b[0m\u001b[0;34m\u001b[0m\u001b[0m\n",
            "\u001b[0;32m/flappy-bird-deep-q-learning/game/flappy_utils.py\u001b[0m in \u001b[0;36mload\u001b[0;34m()\u001b[0m\n\u001b[1;32m     19\u001b[0m     \u001b[0;31m# numbers sprites for score display\u001b[0m\u001b[0;34m\u001b[0m\u001b[0;34m\u001b[0m\u001b[0;34m\u001b[0m\u001b[0m\n\u001b[1;32m     20\u001b[0m     IMAGES['numbers'] = (\n\u001b[0;32m---> 21\u001b[0;31m         \u001b[0mpygame\u001b[0m\u001b[0;34m.\u001b[0m\u001b[0mimage\u001b[0m\u001b[0;34m.\u001b[0m\u001b[0mload\u001b[0m\u001b[0;34m(\u001b[0m\u001b[0;34m'assets/sprites/0.png'\u001b[0m\u001b[0;34m)\u001b[0m\u001b[0;34m.\u001b[0m\u001b[0mconvert_alpha\u001b[0m\u001b[0;34m(\u001b[0m\u001b[0;34m)\u001b[0m\u001b[0;34m,\u001b[0m\u001b[0;34m\u001b[0m\u001b[0;34m\u001b[0m\u001b[0m\n\u001b[0m\u001b[1;32m     22\u001b[0m         \u001b[0mpygame\u001b[0m\u001b[0;34m.\u001b[0m\u001b[0mimage\u001b[0m\u001b[0;34m.\u001b[0m\u001b[0mload\u001b[0m\u001b[0;34m(\u001b[0m\u001b[0;34m'assets/sprites/1.png'\u001b[0m\u001b[0;34m)\u001b[0m\u001b[0;34m.\u001b[0m\u001b[0mconvert_alpha\u001b[0m\u001b[0;34m(\u001b[0m\u001b[0;34m)\u001b[0m\u001b[0;34m,\u001b[0m\u001b[0;34m\u001b[0m\u001b[0;34m\u001b[0m\u001b[0m\n\u001b[1;32m     23\u001b[0m         \u001b[0mpygame\u001b[0m\u001b[0;34m.\u001b[0m\u001b[0mimage\u001b[0m\u001b[0;34m.\u001b[0m\u001b[0mload\u001b[0m\u001b[0;34m(\u001b[0m\u001b[0;34m'assets/sprites/2.png'\u001b[0m\u001b[0;34m)\u001b[0m\u001b[0;34m.\u001b[0m\u001b[0mconvert_alpha\u001b[0m\u001b[0;34m(\u001b[0m\u001b[0;34m)\u001b[0m\u001b[0;34m,\u001b[0m\u001b[0;34m\u001b[0m\u001b[0;34m\u001b[0m\u001b[0m\n",
            "\u001b[0;31mFileNotFoundError\u001b[0m: No such file or directory."
          ]
        }
      ]
    },
    {
      "cell_type": "markdown",
      "metadata": {
        "id": "12O-rWbimq5H"
      },
      "source": [
        "#Loading *flappy_wrapped* from drive"
      ]
    },
    {
      "cell_type": "code",
      "metadata": {
        "colab": {
          "base_uri": "https://localhost:8080/"
        },
        "id": "UXGd7ar_nKFc",
        "outputId": "1ccf5d20-4ab0-40f8-9325-48439dc5bce5"
      },
      "source": [
        "import os \n",
        "\n",
        "# Set your working directory to a folder in your Google Drive. This way, if your notebook times out,\n",
        "# your files will be saved in your Google Drive!\n",
        "\n",
        "# the base Google Drive directory\n",
        "root_dir = \"/content/drive/Shared drives/\"\n",
        "\n",
        "# choose where you want your project files to be saved\n",
        "project_folder = \"MeanSquare-Drive/RL-assignment/flappy-bird-deep-q-learning/\"\n",
        "\n",
        "def create_and_set_working_directory(project_folder):\n",
        "  # check if your project folder exists. if not, it will be created.\n",
        "  if os.path.isdir(root_dir + project_folder) == False:\n",
        "    os.mkdir(root_dir + project_folder)\n",
        "    print(root_dir + project_folder + ' did not exist but was created.')\n",
        "\n",
        "  # change the OS to use your project folder as the working directory\n",
        "  os.chdir(root_dir + project_folder)\n",
        "\n",
        "  # create a test file to make sure it shows up in the right place\n",
        "  !touch 'new_file_in_working_directory.txt'\n",
        "  print('\\nYour working directory was changed to ' + root_dir + project_folder + \\\n",
        "        \"\\n\\nAn empty text file was created there. You can also run !pwd to confirm the current working directory.\" )\n",
        "\n",
        "create_and_set_working_directory(project_folder)"
      ],
      "execution_count": null,
      "outputs": [
        {
          "output_type": "stream",
          "text": [
            "\n",
            "Your working directory was changed to /content/drive/Shared drives/MeanSquare-Drive/RL-assignment/flappy-bird-deep-q-learning/\n",
            "\n",
            "An empty text file was created there. You can also run !pwd to confirm the current working directory.\n"
          ],
          "name": "stdout"
        }
      ]
    },
    {
      "cell_type": "code",
      "metadata": {
        "id": "YhLJX2ncncSI"
      },
      "source": [
        "import sys\n",
        "sys.path.append('/content/drive/Shared drives/MeanSquare-Drive/RL-assignment/flappy-bird-deep-q-learning')"
      ],
      "execution_count": null,
      "outputs": []
    },
    {
      "cell_type": "code",
      "metadata": {
        "colab": {
          "base_uri": "https://localhost:8080/",
          "height": 35
        },
        "id": "Yd052Ebanhq7",
        "outputId": "7f1f1191-5b37-4685-d4f6-bfcdbeb534ef"
      },
      "source": [
        "os.getcwd()"
      ],
      "execution_count": null,
      "outputs": [
        {
          "output_type": "execute_result",
          "data": {
            "application/vnd.google.colaboratory.intrinsic+json": {
              "type": "string"
            },
            "text/plain": [
              "'/content/drive/Shared drives/MeanSquare-Drive/RL-assignment/flappy-bird-deep-q-learning'"
            ]
          },
          "metadata": {
            "tags": []
          },
          "execution_count": 19
        }
      ]
    },
    {
      "cell_type": "code",
      "metadata": {
        "id": "FOYpBoRybqLT"
      },
      "source": [
        "import flappy_wrapped as game"
      ],
      "execution_count": null,
      "outputs": []
    },
    {
      "cell_type": "markdown",
      "metadata": {
        "id": "94fHEFHKm0Wu"
      },
      "source": [
        "# KERNEL"
      ]
    },
    {
      "cell_type": "code",
      "metadata": {
        "id": "R-PPnNO2XNgF"
      },
      "source": [
        "KERNEL = np.array([[-1,-1,-1], [-1, 9,-1],[-1,-1,-1]])\n",
        "def processFrame(frame):\n",
        "    frame = frame[55:288,0:400] #crop image\n",
        "    frame = cv2.cvtColor(frame,cv2.COLOR_BGR2GRAY) #convert image to black and white\n",
        "    frame = cv2.resize(frame,(84,84),interpolation=cv2.INTER_AREA)\n",
        "    _ , frame = cv2.threshold(frame,50,255,cv2.THRESH_BINARY)\n",
        "    #frame = cv2.blur(frame,(5,5))\n",
        "    frame = cv2.filter2D(frame,-1,KERNEL)\n",
        "    #frame = cv2.Canny(frame,100,200)\n",
        "    frame = frame.astype(np.float64)/255.0\n",
        "    return frame"
      ],
      "execution_count": null,
      "outputs": []
    },
    {
      "cell_type": "markdown",
      "metadata": {
        "id": "iUp1niiUp0J5"
      },
      "source": [
        "# Dueling DQN"
      ]
    },
    {
      "cell_type": "code",
      "metadata": {
        "id": "cXjfXGmdXNgF"
      },
      "source": [
        "import torch\n",
        "import torch.nn as nn\n",
        "import torch.optim as optim\n",
        "\n",
        "#Dueling DQN\n",
        "class DDQN(nn.Module):\n",
        "    def __init__(self,input_shape,nactions):\n",
        "        super(DDQN,self).__init__()\n",
        "        self.nactions = nactions\n",
        "        self.conv = nn.Sequential(\n",
        "            nn.Conv2d(input_shape[0],32,kernel_size=4,stride=2),\n",
        "            nn.ReLU(),\n",
        "            nn.Conv2d(32,64,kernel_size=3,stride=2),\n",
        "            nn.ReLU(),\n",
        "            nn.Conv2d(64,64,kernel_size=2,stride=1),\n",
        "            nn.ReLU()\n",
        "        )\n",
        "        \n",
        "        conv_out_size = self._get_conv_out(input_shape)\n",
        "        \n",
        "        #scs - action network with 'nactions with q value' as output\n",
        "        self.fca = nn.Sequential(\n",
        "            nn.Linear( conv_out_size, 512),\n",
        "            nn.ReLU(),\n",
        "            nn.Linear( 512, nactions )\n",
        "        )\n",
        "        \n",
        "        #scs - value network with single value output\n",
        "        self.fcv = nn.Sequential(\n",
        "            nn.Linear(conv_out_size,512),\n",
        "            nn.ReLU(),\n",
        "            nn.Linear(512,1)\n",
        "        )\n",
        "        \n",
        "    def _get_conv_out(self,shape):\n",
        "        o = self.conv( torch.zeros(1,*shape) )\n",
        "        return int(np.prod(o.size()))\n",
        "    \n",
        "    def forward(self,x):\n",
        "        conv_out = self.conv(x).view(x.size()[0], -1)\n",
        "        action_v = self.fca(conv_out)\n",
        "        value_v = self.fcv(conv_out).expand(x.size(0), self.nactions)\n",
        "        #scs aggregation layer:  Q(s,a) = V(s) + A(s,a)\n",
        "        return value_v + action_v - action_v.mean(1).unsqueeze(1).expand(x.size(0), self.nactions)"
      ],
      "execution_count": null,
      "outputs": []
    },
    {
      "cell_type": "markdown",
      "metadata": {
        "id": "x1INjeA_p4dP"
      },
      "source": [
        "# Hyperparam"
      ]
    },
    {
      "cell_type": "code",
      "metadata": {
        "id": "kBab3NBGXNgF"
      },
      "source": [
        "ACTIONS = [0,1]\n",
        "EXPERIENCE_BUFFER_SIZE = 2000 #-> update\n",
        "STATE_DIM = 4\n",
        "GAMMA = 0.99 # -> update\n",
        "EPSILON_START = 1\n",
        "EPSILON_FINAL = 0.001\n",
        "EPSILON_DECAY_FRAMES = (10**4)/3 # -> update\n",
        "MEAN_GOAL_REWARD = 1.2 #10 # +1 for escaping death\n",
        "BATCH_SIZE = 32 #-> update\n",
        "MIN_EXP_BUFFER_SIZE = 500 #-> update\n",
        "SYNC_TARGET_FRAMES = 30 # tau ,go in times of 30 or 30/2 value- change this value for differeny sync time with target_net\n",
        "LEARNING_RATE = 1e-4 #-> update\n",
        "SKIP_FRAME = 2 #-> update\n",
        "INITIAL_SKIP = [0,1,0,1,0,1,0,0,0,1,0,1,0,1,0,1,0,0,0,0,0,0,0,1,0,1,0,1,0,1,0,1,0,1]"
      ],
      "execution_count": null,
      "outputs": []
    },
    {
      "cell_type": "markdown",
      "metadata": {
        "id": "Je_1gzbhp7sn"
      },
      "source": [
        "# ExperienceBuffer"
      ]
    },
    {
      "cell_type": "code",
      "metadata": {
        "id": "cu8kxJg9XNgF"
      },
      "source": [
        "import collections\n",
        "class ExperienceBuffer():\n",
        "    def __init__(self,capacity):\n",
        "        self.buffer = collections.deque(maxlen=capacity)\n",
        "        self.priority = collections.deque(maxlen=capacity)\n",
        "    \n",
        "    def clear(self):\n",
        "        self.buffer.clear()\n",
        "        self.priority.clear()\n",
        "        \n",
        "    def __len__(self):\n",
        "        return len(self.buffer)\n",
        "    \n",
        "    def append(self,exp,p):\n",
        "        self.buffer.append(exp)\n",
        "        self.priority.append(p)\n",
        "        \n",
        "    def sample(self,batch_size):\n",
        "        probs = np.array(self.priority)/sum(np.array(self.priority))\n",
        "        indices = np.random.choice( range(len(self.buffer)), batch_size, p = probs)\n",
        "        states,actions,rewards,dones,next_states = zip(*[ self.buffer[idx] for idx in indices ])\n",
        "        return np.array(states), np.array(actions), np.array(rewards, dtype=np.float32),\\\n",
        "    np.array(dones,dtype=np.uint8), np.array(next_states)"
      ],
      "execution_count": null,
      "outputs": []
    },
    {
      "cell_type": "markdown",
      "metadata": {
        "id": "HsBGXEKhp-b6"
      },
      "source": [
        "# Agent"
      ]
    },
    {
      "cell_type": "code",
      "metadata": {
        "id": "vdPkRwlIXNgF",
        "colab": {
          "base_uri": "https://localhost:8080/",
          "height": 346
        },
        "outputId": "01a5ba98-5914-4f19-bf5d-ed7eb07e0f73"
      },
      "source": [
        "class Agent():\n",
        "    def __init__(self,env,buffer,state_buffer_size = STATE_DIM):\n",
        "        self.env = env\n",
        "        self.exp_buffer = buffer\n",
        "        self.state = collections.deque(maxlen = STATE_DIM)\n",
        "        self.next_state= collections.deque(maxlen = STATE_DIM)\n",
        "        self._reset()\n",
        "        \n",
        "    def _reset(self):\n",
        "        self.total_rewards = 0\n",
        "        self.state.clear()\n",
        "        self.next_state.clear()\n",
        "        \n",
        "        for i in INITIAL_SKIP[:-7]:\n",
        "            frame,reward,done = self.env.frame_step(i)\n",
        "            self.total_rewards+=reward\n",
        "            if done:\n",
        "                self._reset()\n",
        "        frame = processFrame(frame)\n",
        "        self.state.append(frame)\n",
        "        self.next_state.append(frame)\n",
        "\n",
        "        for i in INITIAL_SKIP[-7:-5]:\n",
        "            frame,reward,done = self.env.frame_step(i)\n",
        "            self.total_rewards+=reward\n",
        "            if done:\n",
        "                self._reset()\n",
        "        frame = processFrame(frame)\n",
        "        self.state.append(frame)\n",
        "        self.next_state.append(frame)\n",
        "        \n",
        "        for i in INITIAL_SKIP[-5:-3]:\n",
        "            frame,reward,done = self.env.frame_step(i)\n",
        "            self.total_rewards+=reward\n",
        "            if done:\n",
        "                self._reset()\n",
        "        frame = processFrame(frame)\n",
        "        self.state.append(frame)\n",
        "        self.next_state.append(frame)\n",
        "        \n",
        "        for i in INITIAL_SKIP[-3:-1]:\n",
        "            frame,reward,done = self.env.frame_step(i)\n",
        "            self.total_rewards+=reward\n",
        "            if done:\n",
        "                self._reset()\n",
        "        frame = processFrame(frame)\n",
        "        self.state.append(frame)\n",
        "        self.next_state.append(frame)\n",
        "    \n",
        "    def step(self,net,tgt_net,epsilon=0.9,device='cpu'):\n",
        "        self.total_rewards = 0\n",
        "        if np.random.random() < epsilon:\n",
        "            action = np.random.choice(ACTIONS)\n",
        "        else:\n",
        "            #scs taking state and action\n",
        "            state_v = torch.tensor(np.array([self.state],copy=False),dtype=torch.float32).to(device)\n",
        "            action = int(torch.argmax(net(state_v)))\n",
        "       \n",
        "        frame,reward,done = self.env.frame_step(action)\n",
        "        self.total_rewards += reward\n",
        "        for _ in range(SKIP_FRAME):\n",
        "                frame,reward,done =  self.env.frame_step(action)\n",
        "                self.total_rewards += reward\n",
        "                if done:\n",
        "                    break\n",
        "                    \n",
        "        frame = processFrame(frame)\n",
        "        self.next_state.append(frame)\n",
        "        \n",
        "        if len(self.next_state)==STATE_DIM and len(self.state)==STATE_DIM:\n",
        "            #PER - Prioritized Experience Replay\n",
        "            o = net( torch.tensor( np.array([self.state]),dtype=torch.float32).to(device)).to('cpu').detach().numpy()[0][action]\n",
        "            e = float(torch.max(tgt_net( torch.tensor( np.array([self.next_state]),dtype=torch.float32).to(device))))\n",
        "            #scs priority\n",
        "            p = abs(o-e)+0.0001\n",
        "            print(\"priority \", p)\n",
        "            #scs (exp = state, action, reward, state_next), priority\n",
        "            self.exp_buffer.append((self.state.copy(),action,int(self.total_rewards),done,self.next_state.copy()),p)\n",
        "        \n",
        "        self.state.append(frame)\n",
        "        \n",
        "        end_reward = int(self.total_rewards)\n",
        "        if done:\n",
        "            self._reset()\n",
        "        \n",
        "        return end_reward"
      ],
      "execution_count": null,
      "outputs": [
        {
          "output_type": "error",
          "ename": "NameError",
          "evalue": "ignored",
          "traceback": [
            "\u001b[0;31m---------------------------------------------------------------------------\u001b[0m",
            "\u001b[0;31mNameError\u001b[0m                                 Traceback (most recent call last)",
            "\u001b[0;32m<ipython-input-1-494f60a08583>\u001b[0m in \u001b[0;36m<module>\u001b[0;34m()\u001b[0m\n\u001b[0;32m----> 1\u001b[0;31m \u001b[0;32mclass\u001b[0m \u001b[0mAgent\u001b[0m\u001b[0;34m(\u001b[0m\u001b[0;34m)\u001b[0m\u001b[0;34m:\u001b[0m\u001b[0;34m\u001b[0m\u001b[0;34m\u001b[0m\u001b[0m\n\u001b[0m\u001b[1;32m      2\u001b[0m     \u001b[0;32mdef\u001b[0m \u001b[0m__init__\u001b[0m\u001b[0;34m(\u001b[0m\u001b[0mself\u001b[0m\u001b[0;34m,\u001b[0m\u001b[0menv\u001b[0m\u001b[0;34m,\u001b[0m\u001b[0mbuffer\u001b[0m\u001b[0;34m,\u001b[0m\u001b[0mstate_buffer_size\u001b[0m \u001b[0;34m=\u001b[0m \u001b[0mSTATE_DIM\u001b[0m\u001b[0;34m)\u001b[0m\u001b[0;34m:\u001b[0m\u001b[0;34m\u001b[0m\u001b[0;34m\u001b[0m\u001b[0m\n\u001b[1;32m      3\u001b[0m         \u001b[0mself\u001b[0m\u001b[0;34m.\u001b[0m\u001b[0menv\u001b[0m \u001b[0;34m=\u001b[0m \u001b[0menv\u001b[0m\u001b[0;34m\u001b[0m\u001b[0;34m\u001b[0m\u001b[0m\n\u001b[1;32m      4\u001b[0m         \u001b[0mself\u001b[0m\u001b[0;34m.\u001b[0m\u001b[0mexp_buffer\u001b[0m \u001b[0;34m=\u001b[0m \u001b[0mbuffer\u001b[0m\u001b[0;34m\u001b[0m\u001b[0;34m\u001b[0m\u001b[0m\n\u001b[1;32m      5\u001b[0m         \u001b[0mself\u001b[0m\u001b[0;34m.\u001b[0m\u001b[0mstate\u001b[0m \u001b[0;34m=\u001b[0m \u001b[0mcollections\u001b[0m\u001b[0;34m.\u001b[0m\u001b[0mdeque\u001b[0m\u001b[0;34m(\u001b[0m\u001b[0mmaxlen\u001b[0m \u001b[0;34m=\u001b[0m \u001b[0mSTATE_DIM\u001b[0m\u001b[0;34m)\u001b[0m\u001b[0;34m\u001b[0m\u001b[0;34m\u001b[0m\u001b[0m\n",
            "\u001b[0;32m<ipython-input-1-494f60a08583>\u001b[0m in \u001b[0;36mAgent\u001b[0;34m()\u001b[0m\n\u001b[1;32m      1\u001b[0m \u001b[0;32mclass\u001b[0m \u001b[0mAgent\u001b[0m\u001b[0;34m(\u001b[0m\u001b[0;34m)\u001b[0m\u001b[0;34m:\u001b[0m\u001b[0;34m\u001b[0m\u001b[0;34m\u001b[0m\u001b[0m\n\u001b[0;32m----> 2\u001b[0;31m     \u001b[0;32mdef\u001b[0m \u001b[0m__init__\u001b[0m\u001b[0;34m(\u001b[0m\u001b[0mself\u001b[0m\u001b[0;34m,\u001b[0m\u001b[0menv\u001b[0m\u001b[0;34m,\u001b[0m\u001b[0mbuffer\u001b[0m\u001b[0;34m,\u001b[0m\u001b[0mstate_buffer_size\u001b[0m \u001b[0;34m=\u001b[0m \u001b[0mSTATE_DIM\u001b[0m\u001b[0;34m)\u001b[0m\u001b[0;34m:\u001b[0m\u001b[0;34m\u001b[0m\u001b[0;34m\u001b[0m\u001b[0m\n\u001b[0m\u001b[1;32m      3\u001b[0m         \u001b[0mself\u001b[0m\u001b[0;34m.\u001b[0m\u001b[0menv\u001b[0m \u001b[0;34m=\u001b[0m \u001b[0menv\u001b[0m\u001b[0;34m\u001b[0m\u001b[0;34m\u001b[0m\u001b[0m\n\u001b[1;32m      4\u001b[0m         \u001b[0mself\u001b[0m\u001b[0;34m.\u001b[0m\u001b[0mexp_buffer\u001b[0m \u001b[0;34m=\u001b[0m \u001b[0mbuffer\u001b[0m\u001b[0;34m\u001b[0m\u001b[0;34m\u001b[0m\u001b[0m\n\u001b[1;32m      5\u001b[0m         \u001b[0mself\u001b[0m\u001b[0;34m.\u001b[0m\u001b[0mstate\u001b[0m \u001b[0;34m=\u001b[0m \u001b[0mcollections\u001b[0m\u001b[0;34m.\u001b[0m\u001b[0mdeque\u001b[0m\u001b[0;34m(\u001b[0m\u001b[0mmaxlen\u001b[0m \u001b[0;34m=\u001b[0m \u001b[0mSTATE_DIM\u001b[0m\u001b[0;34m)\u001b[0m\u001b[0;34m\u001b[0m\u001b[0;34m\u001b[0m\u001b[0m\n",
            "\u001b[0;31mNameError\u001b[0m: name 'STATE_DIM' is not defined"
          ]
        }
      ]
    },
    {
      "cell_type": "markdown",
      "metadata": {
        "id": "UhWwPqBPqBnC"
      },
      "source": [
        "# Loss"
      ]
    },
    {
      "cell_type": "code",
      "metadata": {
        "id": "TaGIaZClXNgF"
      },
      "source": [
        "def calc_loss(batch,net,tgt_net,device='cpu'):\n",
        "    states,actions,rewards,dones,next_states = batch\n",
        "    \n",
        "    states_v = torch.tensor(states,dtype=torch.float32).to(device)\n",
        "    actions_v = torch.tensor(actions,dtype=torch.long).to(device)\n",
        "    rewards_v = torch.tensor(rewards).to(device)\n",
        "    dones_v = torch.ByteTensor(dones).to(device)\n",
        "    next_states_v = torch.tensor(next_states,dtype=torch.float32).to(device)\n",
        "    \n",
        "    state_action_values = net(states_v).gather(1, actions_v.unsqueeze(-1)).squeeze(-1) # Q(S,A) = V + A\n",
        "    next_state_action_values = tgt_net(next_states_v).max(1)[0] # max(Q(A))\n",
        "    next_state_action_values[dones_v] = 0.0\n",
        "    next_state_action_values = next_state_action_values.detach() \n",
        "    \n",
        "    expected_values = rewards_v +  next_state_action_values * GAMMA # rewards + max(Q(A)) * discount_factor\n",
        "    return nn.MSELoss()(state_action_values,expected_values)"
      ],
      "execution_count": null,
      "outputs": []
    },
    {
      "cell_type": "markdown",
      "metadata": {
        "id": "nAjMYmNcqEx7"
      },
      "source": [
        "# Training"
      ]
    },
    {
      "cell_type": "code",
      "metadata": {
        "scrolled": false,
        "id": "HTUzIvMBXNgF",
        "colab": {
          "base_uri": "https://localhost:8080/",
          "height": 1000
        },
        "outputId": "4e1f20d0-060f-4f59-e614-8c97fe6d47fe"
      },
      "source": [
        "all_losses = []\n",
        "device = torch.device( \"cuda\" if torch.cuda.is_available() else \"cpu\" )\n",
        "\n",
        "#Double Dueling DQN\n",
        "net = DDQN( (STATE_DIM,84,84), len(ACTIONS) ).to(device)\n",
        "print(\"net: \", net)\n",
        "tgt_net = DDQN( (STATE_DIM,84,84), len(ACTIONS) ).to(device)\n",
        "print(\"tgt_net: \",tgt_net)\n",
        "\n",
        "env = game.GameState()\n",
        "print(\"env: \",env)\n",
        "buffer = ExperienceBuffer(EXPERIENCE_BUFFER_SIZE)\n",
        "print(\"buffer: \",buffer)\n",
        "agent = Agent(env,buffer)\n",
        "print(\"agent: \",agent)\n",
        "epsilon = EPSILON_START\n",
        "print(\"epsilon: \",epsilon)\n",
        "optimizer = optim.Adam(net.parameters(),lr=LEARNING_RATE)\n",
        "print(\"optimizer: \",optimizer)\n",
        "\n",
        "total_rewards = []\n",
        "best_mean_reward = float('-inf')\n",
        "last_mean = float('-inf')\n",
        "game_id = 0\n",
        "while True:\n",
        "    epsilon = max( EPSILON_FINAL , EPSILON_START - game_id/EPSILON_DECAY_FRAMES )\n",
        "    print(\"inside loop, epsilon\",epsilon)\n",
        "    reward = agent.step(net,tgt_net,epsilon,device=device)\n",
        "    print(\"reward: \",reward)\n",
        "    if reward != 0:\n",
        "        game_id += 1\n",
        "        total_rewards.append(reward)\n",
        "        mean_reward = np.mean(total_rewards[-100:])\n",
        "        print(\"mean_reward: \",mean_reward)\n",
        "\n",
        "        if game_id%5 == 0:  #scs why 5 here?\n",
        "            print(\"GAME : {} | EPSILON : {:.4f} | MEAN REWARD : {}\".format( game_id, epsilon, mean_reward ))\n",
        "            print(\"##############################################################\")\n",
        "        if best_mean_reward < mean_reward:\n",
        "            best_mean_reward = mean_reward\n",
        "            print(\"best_mean_reward \", best_mean_reward)\n",
        "            print(\"last_mean: \", last_mean)\n",
        "            if best_mean_reward - last_mean >= 0.1:\n",
        "                torch.save(net.state_dict(),'checkpoints/flappy_best_model.dat')\n",
        "                print(\"REWARD {} -> {}. Model Saved\".format(last_mean,mean_reward))\n",
        "                last_mean = best_mean_reward\n",
        "\n",
        "        if game_id % SYNC_TARGET_FRAMES == 0:\n",
        "            tgt_net.load_state_dict(net.state_dict()) # step of dwelling, using net DDQN weights to load target DDQN\n",
        "            \n",
        "        if mean_reward >= MEAN_GOAL_REWARD:\n",
        "            print(\"Learned in {} Games.\".format(game_id))\n",
        "            break\n",
        "    \n",
        "    if len(buffer) < MIN_EXP_BUFFER_SIZE:\n",
        "        continue\n",
        "    \n",
        "    optimizer.zero_grad()\n",
        "    batch = buffer.sample(BATCH_SIZE)\n",
        "    print(\"batch: \", batch)\n",
        "    loss_t = calc_loss(batch,net,tgt_net,device=device)\n",
        "    print(\"loss_t: \", loss_t)\n",
        "    all_losses.append(float(loss_t))\n",
        "    loss_t.backward()\n",
        "    optimizer.step()"
      ],
      "execution_count": null,
      "outputs": [
        {
          "output_type": "stream",
          "text": [
            "net:  DDQN(\n",
            "  (conv): Sequential(\n",
            "    (0): Conv2d(4, 32, kernel_size=(4, 4), stride=(2, 2))\n",
            "    (1): ReLU()\n",
            "    (2): Conv2d(32, 64, kernel_size=(3, 3), stride=(2, 2))\n",
            "    (3): ReLU()\n",
            "    (4): Conv2d(64, 64, kernel_size=(2, 2), stride=(1, 1))\n",
            "    (5): ReLU()\n",
            "  )\n",
            "  (fca): Sequential(\n",
            "    (0): Linear(in_features=23104, out_features=512, bias=True)\n",
            "    (1): ReLU()\n",
            "    (2): Linear(in_features=512, out_features=2, bias=True)\n",
            "  )\n",
            "  (fcv): Sequential(\n",
            "    (0): Linear(in_features=23104, out_features=512, bias=True)\n",
            "    (1): ReLU()\n",
            "    (2): Linear(in_features=512, out_features=1, bias=True)\n",
            "  )\n",
            ")\n",
            "tgt_net:  DDQN(\n",
            "  (conv): Sequential(\n",
            "    (0): Conv2d(4, 32, kernel_size=(4, 4), stride=(2, 2))\n",
            "    (1): ReLU()\n",
            "    (2): Conv2d(32, 64, kernel_size=(3, 3), stride=(2, 2))\n",
            "    (3): ReLU()\n",
            "    (4): Conv2d(64, 64, kernel_size=(2, 2), stride=(1, 1))\n",
            "    (5): ReLU()\n",
            "  )\n",
            "  (fca): Sequential(\n",
            "    (0): Linear(in_features=23104, out_features=512, bias=True)\n",
            "    (1): ReLU()\n",
            "    (2): Linear(in_features=512, out_features=2, bias=True)\n",
            "  )\n",
            "  (fcv): Sequential(\n",
            "    (0): Linear(in_features=23104, out_features=512, bias=True)\n",
            "    (1): ReLU()\n",
            "    (2): Linear(in_features=512, out_features=1, bias=True)\n",
            "  )\n",
            ")\n",
            "env:  <flappy_wrapped.GameState object at 0x7f3b2ff7f080>\n",
            "buffer:  <__main__.ExperienceBuffer object at 0x7f3b2ff7f048>\n",
            "agent:  <__main__.Agent object at 0x7f3b2ff7fba8>\n",
            "epsilon:  1\n",
            "optimizer:  Adam (\n",
            "Parameter Group 0\n",
            "    amsgrad: False\n",
            "    betas: (0.9, 0.999)\n",
            "    eps: 1e-08\n",
            "    lr: 0.0001\n",
            "    weight_decay: 0\n",
            ")\n",
            "inside loop, epsilon 1.0\n",
            "priority  0.011647174304723739\n",
            "reward:  0\n",
            "inside loop, epsilon 1.0\n",
            "priority  0.08228612894415856\n",
            "reward:  0\n",
            "inside loop, epsilon 1.0\n",
            "priority  0.015422636812925338\n",
            "reward:  0\n",
            "inside loop, epsilon 1.0\n",
            "priority  0.022446481680870056\n",
            "reward:  0\n",
            "inside loop, epsilon 1.0\n",
            "priority  0.010225771164894103\n",
            "reward:  0\n",
            "inside loop, epsilon 1.0\n",
            "priority  0.08495199697315693\n",
            "reward:  -1\n",
            "mean_reward:  -1.0\n",
            "best_mean_reward  -1.0\n",
            "last_mean:  -inf\n",
            "REWARD -inf -> -1.0. Model Saved\n",
            "inside loop, epsilon 0.9997\n",
            "priority  0.08486842194795609\n",
            "reward:  0\n",
            "inside loop, epsilon 0.9997\n",
            "priority  0.018819106912612914\n",
            "reward:  0\n",
            "inside loop, epsilon 0.9997\n",
            "priority  0.09021110663414002\n",
            "reward:  0\n",
            "inside loop, epsilon 0.9997\n",
            "priority  0.026301948523521423\n",
            "reward:  0\n",
            "inside loop, epsilon 0.9997\n",
            "priority  0.07818856666088105\n",
            "reward:  0\n",
            "inside loop, epsilon 0.9997\n",
            "priority  0.0008292553782463074\n",
            "reward:  0\n",
            "inside loop, epsilon 0.9997\n",
            "priority  0.07415418902635575\n",
            "reward:  -1\n",
            "mean_reward:  -1.0\n",
            "inside loop, epsilon 0.9994\n",
            "priority  0.08206142315864563\n",
            "reward:  0\n",
            "inside loop, epsilon 0.9994\n",
            "priority  0.019867645746469497\n",
            "reward:  0\n",
            "inside loop, epsilon 0.9994\n",
            "priority  0.09257938171029091\n",
            "reward:  0\n",
            "inside loop, epsilon 0.9994\n",
            "priority  0.08172650465965271\n",
            "reward:  0\n",
            "inside loop, epsilon 0.9994\n",
            "priority  0.08144758844971657\n",
            "reward:  0\n",
            "inside loop, epsilon 0.9994\n",
            "priority  0.004106527364253998\n",
            "reward:  0\n",
            "inside loop, epsilon 0.9994\n",
            "priority  0.009326579219102859\n",
            "reward:  0\n",
            "inside loop, epsilon 0.9994\n",
            "priority  0.0872124304831028\n",
            "reward:  0\n",
            "inside loop, epsilon 0.9994\n",
            "priority  0.08848990330696106\n",
            "reward:  0\n",
            "inside loop, epsilon 0.9994\n",
            "priority  0.09078671427667141\n",
            "reward:  1\n",
            "mean_reward:  -0.3333333333333333\n",
            "best_mean_reward  -0.3333333333333333\n",
            "last_mean:  -1.0\n",
            "REWARD -1.0 -> -0.3333333333333333. Model Saved\n",
            "inside loop, epsilon 0.9991\n",
            "priority  0.08152313547432423\n",
            "reward:  0\n",
            "inside loop, epsilon 0.9991\n",
            "priority  0.013464210724830627\n",
            "reward:  0\n",
            "inside loop, epsilon 0.9991\n",
            "priority  0.08635424280762673\n",
            "reward:  0\n",
            "inside loop, epsilon 0.9991\n",
            "priority  0.011762982404232025\n",
            "reward:  0\n",
            "inside loop, epsilon 0.9991\n",
            "priority  0.09334755892157555\n",
            "reward:  0\n",
            "inside loop, epsilon 0.9991\n",
            "priority  0.07414866814613343\n",
            "reward:  0\n",
            "inside loop, epsilon 0.9991\n",
            "priority  0.07399141619205475\n",
            "reward:  0\n",
            "inside loop, epsilon 0.9991\n",
            "priority  0.006023695862293244\n",
            "reward:  0\n",
            "inside loop, epsilon 0.9991\n",
            "priority  0.008013917303085327\n",
            "reward:  -1\n",
            "mean_reward:  -0.5\n",
            "inside loop, epsilon 0.9988\n",
            "priority  0.0873463658452034\n",
            "reward:  0\n",
            "inside loop, epsilon 0.9988\n",
            "priority  0.0006582086741924286\n",
            "reward:  0\n",
            "inside loop, epsilon 0.9988\n",
            "priority  0.07140224630236626\n",
            "reward:  0\n",
            "inside loop, epsilon 0.9988\n",
            "priority  0.07979574630260468\n",
            "reward:  0\n",
            "inside loop, epsilon 0.9988\n",
            "priority  0.004787502980232239\n",
            "reward:  0\n",
            "inside loop, epsilon 0.9988\n",
            "priority  0.009711200541257858\n",
            "reward:  0\n",
            "inside loop, epsilon 0.9988\n",
            "priority  0.0023491849958896635\n",
            "reward:  0\n",
            "inside loop, epsilon 0.9988\n",
            "priority  0.007376035845279694\n",
            "reward:  0\n",
            "inside loop, epsilon 0.9988\n",
            "priority  0.014396099543571472\n",
            "reward:  0\n",
            "inside loop, epsilon 0.9988\n",
            "priority  0.07125908153355122\n",
            "reward:  0\n",
            "inside loop, epsilon 0.9988\n",
            "priority  0.07442841323316098\n",
            "reward:  0\n",
            "inside loop, epsilon 0.9988\n",
            "priority  0.07756906578540802\n",
            "reward:  0\n",
            "inside loop, epsilon 0.9988\n",
            "priority  0.08217103610038758\n",
            "reward:  0\n",
            "inside loop, epsilon 0.9988\n",
            "priority  0.07987427169680596\n",
            "reward:  0\n",
            "inside loop, epsilon 0.9988\n",
            "priority  0.020565504378080367\n",
            "reward:  0\n",
            "inside loop, epsilon 0.9988\n",
            "priority  0.0031331350862979887\n",
            "reward:  -1\n",
            "mean_reward:  -0.6\n",
            "GAME : 5 | EPSILON : 0.9988 | MEAN REWARD : -0.6\n",
            "##############################################################\n",
            "inside loop, epsilon 0.9985\n",
            "priority  0.08403710479140282\n",
            "reward:  0\n",
            "inside loop, epsilon 0.9985\n",
            "priority  0.08083200657963753\n",
            "reward:  0\n",
            "inside loop, epsilon 0.9985\n",
            "priority  0.09085858071446419\n",
            "reward:  0\n",
            "inside loop, epsilon 0.9985\n",
            "priority  0.07750729302167893\n",
            "reward:  0\n",
            "inside loop, epsilon 0.9985\n",
            "priority  0.01568149605989456\n",
            "reward:  0\n",
            "inside loop, epsilon 0.9985\n",
            "priority  0.08190121704936028\n",
            "reward:  -1\n",
            "mean_reward:  -0.6666666666666666\n",
            "inside loop, epsilon 0.9982\n",
            "priority  0.011972030794620513\n",
            "reward:  0\n",
            "inside loop, epsilon 0.9982\n",
            "priority  0.017846083438396453\n",
            "reward:  0\n",
            "inside loop, epsilon 0.9982\n",
            "priority  0.09106050262451172\n",
            "reward:  0\n",
            "inside loop, epsilon 0.9982\n",
            "priority  0.024779291993379592\n",
            "reward:  0\n",
            "inside loop, epsilon 0.9982\n",
            "priority  0.009965034371614456\n",
            "reward:  0\n",
            "inside loop, epsilon 0.9982\n",
            "priority  0.07980885746181011\n",
            "reward:  -1\n",
            "mean_reward:  -0.7142857142857143\n",
            "inside loop, epsilon 0.9979\n",
            "priority  0.0793548805475235\n",
            "reward:  0\n",
            "inside loop, epsilon 0.9979\n",
            "priority  0.020273445343971252\n",
            "reward:  0\n",
            "inside loop, epsilon 0.9979\n",
            "priority  0.017925350165367126\n",
            "reward:  0\n",
            "inside loop, epsilon 0.9979\n",
            "priority  0.07867613265514374\n",
            "reward:  0\n",
            "inside loop, epsilon 0.9979\n",
            "priority  0.011952126568555831\n",
            "reward:  0\n",
            "inside loop, epsilon 0.9979\n",
            "priority  0.004837615585327149\n",
            "reward:  -1\n",
            "mean_reward:  -0.75\n",
            "inside loop, epsilon 0.9976\n",
            "priority  0.010354278779029846\n",
            "reward:  0\n",
            "inside loop, epsilon 0.9976\n",
            "priority  0.0841163603425026\n",
            "reward:  0\n",
            "inside loop, epsilon 0.9976\n",
            "priority  0.012079356408119201\n",
            "reward:  0\n",
            "inside loop, epsilon 0.9976\n",
            "priority  0.0772954171359539\n",
            "reward:  0\n",
            "inside loop, epsilon 0.9976\n",
            "priority  0.008544860577583312\n",
            "reward:  0\n",
            "inside loop, epsilon 0.9976\n",
            "priority  0.07887003774046898\n",
            "reward:  -1\n",
            "mean_reward:  -0.7777777777777778\n",
            "inside loop, epsilon 0.9973\n",
            "priority  0.08403710479140282\n",
            "reward:  0\n",
            "inside loop, epsilon 0.9973\n",
            "priority  0.08057856017947197\n",
            "reward:  0\n",
            "inside loop, epsilon 0.9973\n",
            "priority  0.011794386601448058\n",
            "reward:  0\n",
            "inside loop, epsilon 0.9973\n",
            "priority  0.02604713121652603\n",
            "reward:  0\n",
            "inside loop, epsilon 0.9973\n",
            "priority  0.0755300281405449\n",
            "reward:  0\n",
            "inside loop, epsilon 0.9973\n",
            "priority  0.07620565796494484\n",
            "reward:  0\n",
            "inside loop, epsilon 0.9973\n",
            "priority  0.006164638495445252\n",
            "reward:  -1\n",
            "mean_reward:  -0.8\n",
            "GAME : 10 | EPSILON : 0.9973 | MEAN REWARD : -0.8\n",
            "##############################################################\n",
            "inside loop, epsilon 0.997\n",
            "priority  0.08193156326413155\n",
            "reward:  0\n",
            "inside loop, epsilon 0.997\n",
            "priority  0.020161086863279342\n",
            "reward:  0\n",
            "inside loop, epsilon 0.997\n",
            "priority  0.012776835060119628\n",
            "reward:  0\n",
            "inside loop, epsilon 0.997\n",
            "priority  0.024820367044210433\n",
            "reward:  0\n",
            "inside loop, epsilon 0.997\n",
            "priority  0.07725442404150963\n",
            "reward:  0\n",
            "inside loop, epsilon 0.997\n",
            "priority  0.002856066620349884\n",
            "reward:  -1\n",
            "mean_reward:  -0.8181818181818182\n",
            "inside loop, epsilon 0.9967\n",
            "priority  0.08215612748861313\n",
            "reward:  0\n",
            "inside loop, epsilon 0.9967\n",
            "priority  0.08350537548065186\n",
            "reward:  0\n",
            "inside loop, epsilon 0.9967\n",
            "priority  0.0940445048570633\n",
            "reward:  0\n",
            "inside loop, epsilon 0.9967\n",
            "priority  0.026081653481721877\n",
            "reward:  0\n",
            "inside loop, epsilon 0.9967\n",
            "priority  0.016321001744270324\n",
            "reward:  0\n",
            "inside loop, epsilon 0.9967\n",
            "priority  0.004016479647159577\n",
            "reward:  0\n",
            "inside loop, epsilon 0.9967\n",
            "priority  0.008349305188655853\n",
            "reward:  0\n",
            "inside loop, epsilon 0.9967\n",
            "priority  0.09620116481781006\n",
            "reward:  0\n",
            "inside loop, epsilon 0.9967\n",
            "priority  0.09990432689189911\n",
            "reward:  0\n",
            "inside loop, epsilon 0.9967\n",
            "priority  0.09609454700946808\n",
            "reward:  1\n",
            "mean_reward:  -0.6666666666666666\n",
            "inside loop, epsilon 0.9964\n",
            "priority  0.012354387140274047\n",
            "reward:  0\n",
            "inside loop, epsilon 0.9964\n",
            "priority  0.01543522829413414\n",
            "reward:  -1\n",
            "mean_reward:  -0.6923076923076923\n",
            "inside loop, epsilon 0.9961\n",
            "priority  0.018845534121990203\n",
            "reward:  0\n",
            "inside loop, epsilon 0.9961\n",
            "priority  0.07616399431824684\n",
            "reward:  0\n",
            "inside loop, epsilon 0.9961\n",
            "priority  0.014343558049201965\n",
            "reward:  0\n",
            "inside loop, epsilon 0.9961\n",
            "priority  0.028103308922052383\n",
            "reward:  0\n",
            "inside loop, epsilon 0.9961\n",
            "priority  0.008545583283901214\n",
            "reward:  0\n",
            "inside loop, epsilon 0.9961\n",
            "priority  0.007589684969186783\n",
            "reward:  -1\n",
            "mean_reward:  -0.7142857142857143\n",
            "inside loop, epsilon 0.9958\n",
            "priority  0.009594468569755554\n",
            "reward:  0\n",
            "inside loop, epsilon 0.9958\n",
            "priority  0.08085989410281182\n",
            "reward:  0\n",
            "inside loop, epsilon 0.9958\n",
            "priority  0.09166805649399758\n",
            "reward:  0\n",
            "inside loop, epsilon 0.9958\n",
            "priority  0.07734112272262574\n",
            "reward:  0\n",
            "inside loop, epsilon 0.9958\n",
            "priority  0.008016241884231567\n",
            "reward:  0\n",
            "inside loop, epsilon 0.9958\n",
            "priority  0.00047168338894844054\n",
            "reward:  0\n",
            "inside loop, epsilon 0.9958\n",
            "priority  0.07301728258132935\n",
            "reward:  0\n",
            "inside loop, epsilon 0.9958\n",
            "priority  0.08043237233757973\n",
            "reward:  -1\n",
            "mean_reward:  -0.7333333333333333\n",
            "GAME : 15 | EPSILON : 0.9958 | MEAN REWARD : -0.7333333333333333\n",
            "##############################################################\n",
            "inside loop, epsilon 0.9955\n",
            "priority  0.004447115755081177\n",
            "reward:  0\n",
            "inside loop, epsilon 0.9955\n",
            "priority  0.00457121262550354\n",
            "reward:  0\n",
            "inside loop, epsilon 0.9955\n",
            "priority  0.07027942890524864\n",
            "reward:  0\n",
            "inside loop, epsilon 0.9955\n",
            "priority  0.010556237941980361\n",
            "reward:  0\n",
            "inside loop, epsilon 0.9955\n",
            "priority  0.07344267348051071\n",
            "reward:  0\n",
            "inside loop, epsilon 0.9955\n",
            "priority  0.0055335258901119235\n",
            "reward:  0\n",
            "inside loop, epsilon 0.9955\n",
            "priority  0.08252406509816647\n",
            "reward:  0\n",
            "inside loop, epsilon 0.9955\n",
            "priority  0.07682817818820477\n",
            "reward:  0\n",
            "inside loop, epsilon 0.9955\n",
            "priority  0.013931652700901031\n",
            "reward:  0\n",
            "inside loop, epsilon 0.9955\n",
            "priority  0.02004466781616211\n",
            "reward:  0\n",
            "inside loop, epsilon 0.9955\n",
            "priority  0.01497298309803009\n",
            "reward:  0\n",
            "inside loop, epsilon 0.9955\n",
            "priority  0.010156890547275543\n",
            "reward:  0\n",
            "inside loop, epsilon 0.9955\n",
            "priority  0.006514912641048432\n",
            "reward:  0\n",
            "inside loop, epsilon 0.9955\n",
            "priority  0.017259942537546157\n",
            "reward:  0\n",
            "inside loop, epsilon 0.9955\n",
            "priority  0.018998449838161468\n",
            "reward:  0\n",
            "inside loop, epsilon 0.9955\n",
            "priority  0.08002684841156006\n",
            "reward:  -1\n",
            "mean_reward:  -0.75\n",
            "inside loop, epsilon 0.9952\n",
            "priority  0.01172201166152954\n",
            "reward:  0\n",
            "inside loop, epsilon 0.9952\n",
            "priority  0.08234815875291825\n",
            "reward:  0\n",
            "inside loop, epsilon 0.9952\n",
            "priority  0.010199444538354873\n",
            "reward:  0\n",
            "inside loop, epsilon 0.9952\n",
            "priority  0.02533159235715866\n",
            "reward:  0\n",
            "inside loop, epsilon 0.9952\n",
            "priority  0.012424992567300796\n",
            "reward:  0\n",
            "inside loop, epsilon 0.9952\n",
            "priority  0.07738284597396851\n",
            "reward:  -1\n",
            "mean_reward:  -0.7647058823529411\n",
            "inside loop, epsilon 0.9949\n",
            "priority  0.08218202570676804\n",
            "reward:  0\n",
            "inside loop, epsilon 0.9949\n",
            "priority  0.08309221470952034\n",
            "reward:  0\n",
            "inside loop, epsilon 0.9949\n",
            "priority  0.013956217265129089\n",
            "reward:  0\n",
            "inside loop, epsilon 0.9949\n",
            "priority  0.027451677417755126\n",
            "reward:  0\n",
            "inside loop, epsilon 0.9949\n",
            "priority  0.0125344602227211\n",
            "reward:  0\n",
            "inside loop, epsilon 0.9949\n",
            "priority  0.07882580364346504\n",
            "reward:  0\n",
            "inside loop, epsilon 0.9949\n",
            "priority  0.06901459785401821\n",
            "reward:  0\n",
            "inside loop, epsilon 0.9949\n",
            "priority  0.0844996275216341\n",
            "reward:  0\n",
            "inside loop, epsilon 0.9949\n",
            "priority  0.0025362653493881224\n",
            "reward:  0\n",
            "inside loop, epsilon 0.9949\n",
            "priority  0.0057819170713424685\n",
            "reward:  0\n",
            "inside loop, epsilon 0.9949\n",
            "priority  0.012840857899188995\n",
            "reward:  0\n",
            "inside loop, epsilon 0.9949\n",
            "priority  0.02085737714767456\n",
            "reward:  0\n",
            "inside loop, epsilon 0.9949\n",
            "priority  0.0924628993332386\n",
            "reward:  0\n",
            "inside loop, epsilon 0.9949\n",
            "priority  0.07787354121208191\n",
            "reward:  0\n",
            "inside loop, epsilon 0.9949\n",
            "priority  0.07839910144209862\n",
            "reward:  0\n",
            "inside loop, epsilon 0.9949\n",
            "priority  0.08117354864478112\n",
            "reward:  0\n",
            "inside loop, epsilon 0.9949\n",
            "priority  0.007380014455318451\n",
            "reward:  0\n",
            "inside loop, epsilon 0.9949\n",
            "priority  0.005329875445365906\n",
            "reward:  -1\n",
            "mean_reward:  -0.7777777777777778\n",
            "inside loop, epsilon 0.9946\n",
            "priority  0.01158451492190361\n",
            "reward:  0\n",
            "inside loop, epsilon 0.9946\n",
            "priority  0.017297228968143463\n",
            "reward:  0\n",
            "inside loop, epsilon 0.9946\n",
            "priority  0.0933178981602192\n",
            "reward:  0\n",
            "inside loop, epsilon 0.9946\n",
            "priority  0.022447234189510345\n",
            "reward:  0\n",
            "inside loop, epsilon 0.9946\n",
            "priority  0.010330734944343566\n",
            "reward:  0\n",
            "inside loop, epsilon 0.9946\n",
            "priority  0.0005056207835674286\n",
            "reward:  -1\n",
            "mean_reward:  -0.7894736842105263\n",
            "inside loop, epsilon 0.9943\n",
            "priority  0.012546727603673934\n",
            "reward:  0\n",
            "inside loop, epsilon 0.9943\n",
            "priority  0.021203091537952422\n",
            "reward:  0\n",
            "inside loop, epsilon 0.9943\n",
            "priority  0.09274367818832398\n",
            "reward:  0\n",
            "inside loop, epsilon 0.9943\n",
            "priority  0.07742934132218361\n",
            "reward:  0\n",
            "inside loop, epsilon 0.9943\n",
            "priority  0.01408475095629692\n",
            "reward:  0\n",
            "inside loop, epsilon 0.9943\n",
            "priority  0.07860667089223862\n"
          ],
          "name": "stdout"
        },
        {
          "output_type": "error",
          "ename": "KeyboardInterrupt",
          "evalue": "ignored",
          "traceback": [
            "\u001b[0;31m---------------------------------------------------------------------------\u001b[0m",
            "\u001b[0;31mKeyboardInterrupt\u001b[0m                         Traceback (most recent call last)",
            "\u001b[0;32m<ipython-input-30-19f8f037bd04>\u001b[0m in \u001b[0;36m<module>\u001b[0;34m()\u001b[0m\n\u001b[1;32m     26\u001b[0m     \u001b[0mepsilon\u001b[0m \u001b[0;34m=\u001b[0m \u001b[0mmax\u001b[0m\u001b[0;34m(\u001b[0m \u001b[0mEPSILON_FINAL\u001b[0m \u001b[0;34m,\u001b[0m \u001b[0mEPSILON_START\u001b[0m \u001b[0;34m-\u001b[0m \u001b[0mgame_id\u001b[0m\u001b[0;34m/\u001b[0m\u001b[0mEPSILON_DECAY_FRAMES\u001b[0m \u001b[0;34m)\u001b[0m\u001b[0;34m\u001b[0m\u001b[0;34m\u001b[0m\u001b[0m\n\u001b[1;32m     27\u001b[0m     \u001b[0mprint\u001b[0m\u001b[0;34m(\u001b[0m\u001b[0;34m\"inside loop, epsilon\"\u001b[0m\u001b[0;34m,\u001b[0m\u001b[0mepsilon\u001b[0m\u001b[0;34m)\u001b[0m\u001b[0;34m\u001b[0m\u001b[0;34m\u001b[0m\u001b[0m\n\u001b[0;32m---> 28\u001b[0;31m     \u001b[0mreward\u001b[0m \u001b[0;34m=\u001b[0m \u001b[0magent\u001b[0m\u001b[0;34m.\u001b[0m\u001b[0mstep\u001b[0m\u001b[0;34m(\u001b[0m\u001b[0mnet\u001b[0m\u001b[0;34m,\u001b[0m\u001b[0mtgt_net\u001b[0m\u001b[0;34m,\u001b[0m\u001b[0mepsilon\u001b[0m\u001b[0;34m,\u001b[0m\u001b[0mdevice\u001b[0m\u001b[0;34m=\u001b[0m\u001b[0mdevice\u001b[0m\u001b[0;34m)\u001b[0m\u001b[0;34m\u001b[0m\u001b[0;34m\u001b[0m\u001b[0m\n\u001b[0m\u001b[1;32m     29\u001b[0m     \u001b[0mprint\u001b[0m\u001b[0;34m(\u001b[0m\u001b[0;34m\"reward: \"\u001b[0m\u001b[0;34m,\u001b[0m\u001b[0mreward\u001b[0m\u001b[0;34m)\u001b[0m\u001b[0;34m\u001b[0m\u001b[0;34m\u001b[0m\u001b[0m\n\u001b[1;32m     30\u001b[0m     \u001b[0;32mif\u001b[0m \u001b[0mreward\u001b[0m \u001b[0;34m!=\u001b[0m \u001b[0;36m0\u001b[0m\u001b[0;34m:\u001b[0m\u001b[0;34m\u001b[0m\u001b[0;34m\u001b[0m\u001b[0m\n",
            "\u001b[0;32m<ipython-input-26-494f60a08583>\u001b[0m in \u001b[0;36mstep\u001b[0;34m(self, net, tgt_net, epsilon, device)\u001b[0m\n\u001b[1;32m     82\u001b[0m         \u001b[0mend_reward\u001b[0m \u001b[0;34m=\u001b[0m \u001b[0mint\u001b[0m\u001b[0;34m(\u001b[0m\u001b[0mself\u001b[0m\u001b[0;34m.\u001b[0m\u001b[0mtotal_rewards\u001b[0m\u001b[0;34m)\u001b[0m\u001b[0;34m\u001b[0m\u001b[0;34m\u001b[0m\u001b[0m\n\u001b[1;32m     83\u001b[0m         \u001b[0;32mif\u001b[0m \u001b[0mdone\u001b[0m\u001b[0;34m:\u001b[0m\u001b[0;34m\u001b[0m\u001b[0;34m\u001b[0m\u001b[0m\n\u001b[0;32m---> 84\u001b[0;31m             \u001b[0mself\u001b[0m\u001b[0;34m.\u001b[0m\u001b[0m_reset\u001b[0m\u001b[0;34m(\u001b[0m\u001b[0;34m)\u001b[0m\u001b[0;34m\u001b[0m\u001b[0;34m\u001b[0m\u001b[0m\n\u001b[0m\u001b[1;32m     85\u001b[0m \u001b[0;34m\u001b[0m\u001b[0m\n\u001b[1;32m     86\u001b[0m         \u001b[0;32mreturn\u001b[0m \u001b[0mend_reward\u001b[0m\u001b[0;34m\u001b[0m\u001b[0;34m\u001b[0m\u001b[0m\n",
            "\u001b[0;32m<ipython-input-26-494f60a08583>\u001b[0m in \u001b[0;36m_reset\u001b[0;34m(self)\u001b[0m\n\u001b[1;32m     40\u001b[0m \u001b[0;34m\u001b[0m\u001b[0m\n\u001b[1;32m     41\u001b[0m         \u001b[0;32mfor\u001b[0m \u001b[0mi\u001b[0m \u001b[0;32min\u001b[0m \u001b[0mINITIAL_SKIP\u001b[0m\u001b[0;34m[\u001b[0m\u001b[0;34m-\u001b[0m\u001b[0;36m3\u001b[0m\u001b[0;34m:\u001b[0m\u001b[0;34m-\u001b[0m\u001b[0;36m1\u001b[0m\u001b[0;34m]\u001b[0m\u001b[0;34m:\u001b[0m\u001b[0;34m\u001b[0m\u001b[0;34m\u001b[0m\u001b[0m\n\u001b[0;32m---> 42\u001b[0;31m             \u001b[0mframe\u001b[0m\u001b[0;34m,\u001b[0m\u001b[0mreward\u001b[0m\u001b[0;34m,\u001b[0m\u001b[0mdone\u001b[0m \u001b[0;34m=\u001b[0m \u001b[0mself\u001b[0m\u001b[0;34m.\u001b[0m\u001b[0menv\u001b[0m\u001b[0;34m.\u001b[0m\u001b[0mframe_step\u001b[0m\u001b[0;34m(\u001b[0m\u001b[0mi\u001b[0m\u001b[0;34m)\u001b[0m\u001b[0;34m\u001b[0m\u001b[0;34m\u001b[0m\u001b[0m\n\u001b[0m\u001b[1;32m     43\u001b[0m             \u001b[0mself\u001b[0m\u001b[0;34m.\u001b[0m\u001b[0mtotal_rewards\u001b[0m\u001b[0;34m+=\u001b[0m\u001b[0mreward\u001b[0m\u001b[0;34m\u001b[0m\u001b[0;34m\u001b[0m\u001b[0m\n\u001b[1;32m     44\u001b[0m             \u001b[0;32mif\u001b[0m \u001b[0mdone\u001b[0m\u001b[0;34m:\u001b[0m\u001b[0;34m\u001b[0m\u001b[0;34m\u001b[0m\u001b[0m\n",
            "\u001b[0;32m/content/drive/Shareddrives/MeanSquare-Drive/RL-assignment/flappy-bird-deep-q-learning/game/flappy_wrapped.py\u001b[0m in \u001b[0;36mframe_step\u001b[0;34m(self, input_action)\u001b[0m\n\u001b[1;32m    146\u001b[0m         \u001b[0mimage_data\u001b[0m \u001b[0;34m=\u001b[0m \u001b[0mpygame\u001b[0m\u001b[0;34m.\u001b[0m\u001b[0msurfarray\u001b[0m\u001b[0;34m.\u001b[0m\u001b[0marray3d\u001b[0m\u001b[0;34m(\u001b[0m\u001b[0mpygame\u001b[0m\u001b[0;34m.\u001b[0m\u001b[0mdisplay\u001b[0m\u001b[0;34m.\u001b[0m\u001b[0mget_surface\u001b[0m\u001b[0;34m(\u001b[0m\u001b[0;34m)\u001b[0m\u001b[0;34m)\u001b[0m\u001b[0;34m\u001b[0m\u001b[0;34m\u001b[0m\u001b[0m\n\u001b[1;32m    147\u001b[0m         \u001b[0mpygame\u001b[0m\u001b[0;34m.\u001b[0m\u001b[0mdisplay\u001b[0m\u001b[0;34m.\u001b[0m\u001b[0mupdate\u001b[0m\u001b[0;34m(\u001b[0m\u001b[0;34m)\u001b[0m\u001b[0;34m\u001b[0m\u001b[0;34m\u001b[0m\u001b[0m\n\u001b[0;32m--> 148\u001b[0;31m         \u001b[0mFPSCLOCK\u001b[0m\u001b[0;34m.\u001b[0m\u001b[0mtick\u001b[0m\u001b[0;34m(\u001b[0m\u001b[0mFPS\u001b[0m\u001b[0;34m)\u001b[0m\u001b[0;34m\u001b[0m\u001b[0;34m\u001b[0m\u001b[0m\n\u001b[0m\u001b[1;32m    149\u001b[0m         \u001b[0;31m#print self.upperPipes[0]['y'] + PIPE_HEIGHT - int(BASEY * 0.2)\u001b[0m\u001b[0;34m\u001b[0m\u001b[0;34m\u001b[0m\u001b[0;34m\u001b[0m\u001b[0m\n\u001b[1;32m    150\u001b[0m         \u001b[0;32mreturn\u001b[0m \u001b[0mimage_data\u001b[0m\u001b[0;34m,\u001b[0m \u001b[0mreward\u001b[0m\u001b[0;34m,\u001b[0m \u001b[0mterminal\u001b[0m\u001b[0;34m\u001b[0m\u001b[0;34m\u001b[0m\u001b[0m\n",
            "\u001b[0;31mKeyboardInterrupt\u001b[0m: "
          ]
        }
      ]
    },
    {
      "cell_type": "markdown",
      "metadata": {
        "id": "opvcJvJ_tQgm"
      },
      "source": [
        "# Run Model"
      ]
    },
    {
      "cell_type": "code",
      "metadata": {
        "id": "kHfNZn9TtaLt"
      },
      "source": [
        "import play_game"
      ],
      "execution_count": null,
      "outputs": []
    },
    {
      "cell_type": "code",
      "metadata": {
        "colab": {
          "base_uri": "https://localhost:8080/",
          "height": 35
        },
        "id": "Qi4PDIPYtquO",
        "outputId": "7d7d2b2e-99d7-40e6-8ff2-da4fe215e37b"
      },
      "source": [
        "os.getcwd()"
      ],
      "execution_count": null,
      "outputs": [
        {
          "output_type": "execute_result",
          "data": {
            "application/vnd.google.colaboratory.intrinsic+json": {
              "type": "string"
            },
            "text/plain": [
              "'/content/drive/Shareddrives/MeanSquare-Drive/RL-assignment/flappy-bird-deep-q-learning'"
            ]
          },
          "metadata": {
            "tags": []
          },
          "execution_count": 22
        }
      ]
    },
    {
      "cell_type": "code",
      "metadata": {
        "colab": {
          "base_uri": "https://localhost:8080/"
        },
        "id": "-EgLRUXutwfN",
        "outputId": "b01d953b-6fcc-49df-ecc3-2122c7666190"
      },
      "source": [
        "!ls"
      ],
      "execution_count": null,
      "outputs": [
        {
          "output_type": "stream",
          "text": [
            " assets\t\t\t  LICENSE\t\t\t      README.md\n",
            " checkpoints\t\t  new_file_in_working_directory.txt   requirements.txt\n",
            "'Deep Q Learning.ipynb'   play_game.py\t\t\t      screenshots\n",
            " game\t\t\t  __pycache__\n"
          ],
          "name": "stdout"
        }
      ]
    },
    {
      "cell_type": "code",
      "metadata": {
        "colab": {
          "base_uri": "https://localhost:8080/"
        },
        "id": "ZkF7eVt8tSrm",
        "outputId": "4902db00-711a-42ec-967e-9a138f0b6934"
      },
      "source": [
        "!python 'play_game.py' --model 'checkpoints/flappy_best_model_game.dat'"
      ],
      "execution_count": null,
      "outputs": [
        {
          "output_type": "stream",
          "text": [
            "pygame 2.0.0 (SDL 2.0.12, python 3.6.9)\n",
            "Hello from the pygame community. https://www.pygame.org/contribute.html\n",
            "ALSA lib confmisc.c:767:(parse_card) cannot find card '0'\n",
            "ALSA lib conf.c:4528:(_snd_config_evaluate) function snd_func_card_driver returned error: No such file or directory\n",
            "ALSA lib confmisc.c:392:(snd_func_concat) error evaluating strings\n",
            "ALSA lib conf.c:4528:(_snd_config_evaluate) function snd_func_concat returned error: No such file or directory\n",
            "ALSA lib confmisc.c:1246:(snd_func_refer) error evaluating name\n",
            "ALSA lib conf.c:4528:(_snd_config_evaluate) function snd_func_refer returned error: No such file or directory\n",
            "ALSA lib conf.c:5007:(snd_config_expand) Evaluate error: No such file or directory\n",
            "ALSA lib pcm.c:2495:(snd_pcm_open_noupdate) Unknown PCM default\n",
            "Please Press Enter to Start\n",
            "\n",
            "\n",
            "\n",
            "Traceback (most recent call last):\n",
            "  File \"play_game.py\", line 103, in <module>\n",
            "    frame,reward,done = env.frame_step(action)\n",
            "  File \"game/flappy_wrapped.py\", line 148, in frame_step\n",
            "    FPSCLOCK.tick(FPS)\n",
            "KeyboardInterrupt\n"
          ],
          "name": "stdout"
        }
      ]
    },
    {
      "cell_type": "markdown",
      "metadata": {
        "id": "c8TNbyQMgDMV"
      },
      "source": [
        "# References"
      ]
    },
    {
      "cell_type": "markdown",
      "metadata": {
        "id": "2lji3qolgFpY"
      },
      "source": [
        "* Why state dim is 4 ?\n",
        "https://towardsdatascience.com/use-reinforcement-learning-to-train-a-flappy-bird-never-to-die-35b9625aaecc "
      ]
    },
    {
      "cell_type": "markdown",
      "metadata": {
        "id": "Zhb9idgHi9vg"
      },
      "source": [
        "# Explanation on Implementation\n",
        "\n",
        "\n",
        "Implementation\n",
        "* Implementing fixed q-targets is pretty straightforward:\n",
        "\n",
        "* First, we create two networks (DQNetwork, TargetNetwork)\n",
        "* Then, we create a function that will take our DQNetwork parameters and copy them to our TargetNetwork\n",
        "* Finally, during the training, we calculate the TD target using our target network. We update the target network with the DQNetwork every tau step (tau is an hyper-parameter that we define)."
      ]
    },
    {
      "cell_type": "code",
      "metadata": {
        "id": "JnCidZ12gEqy"
      },
      "source": [
        ""
      ],
      "execution_count": null,
      "outputs": []
    }
  ]
}