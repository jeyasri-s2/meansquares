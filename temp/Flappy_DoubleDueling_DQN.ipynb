{
  "nbformat": 4,
  "nbformat_minor": 0,
  "metadata": {
    "kernelspec": {
      "display_name": "Python 3",
      "language": "python",
      "name": "python3"
    },
    "language_info": {
      "codemirror_mode": {
        "name": "ipython",
        "version": 3
      },
      "file_extension": ".py",
      "mimetype": "text/x-python",
      "name": "python",
      "nbconvert_exporter": "python",
      "pygments_lexer": "ipython3",
      "version": "3.6.3"
    },
    "colab": {
      "name": " Flappy_DoubleDueling_DQN.ipynb",
      "provenance": [],
      "toc_visible": true,
      "machine_shape": "hm",
      "include_colab_link": true
    },
    "accelerator": "GPU"
  },
  "cells": [
    {
      "cell_type": "markdown",
      "metadata": {
        "id": "view-in-github",
        "colab_type": "text"
      },
      "source": [
        "<a href=\"https://colab.research.google.com/github/aarsanjani/meansquares/blob/master/temp/Flappy_DoubleDueling_DQN.ipynb\" target=\"_parent\"><img src=\"https://colab.research.google.com/assets/colab-badge.svg\" alt=\"Open In Colab\"/></a>"
      ]
    },
    {
      "cell_type": "markdown",
      "metadata": {
        "id": "Y0dL2PwhXNgF"
      },
      "source": [
        "## Double Dueling Deep Q Network Learning with Priortized Experienced Reply"
      ]
    },
    {
      "cell_type": "markdown",
      "metadata": {
        "id": "W437Q5gRY2jQ"
      },
      "source": [
        "#Setup"
      ]
    },
    {
      "cell_type": "code",
      "metadata": {
        "id": "i1nxr3n4pfzZ",
        "outputId": "77a0e59d-312c-42b9-ddf0-ae999f5e0750",
        "colab": {
          "base_uri": "https://localhost:8080/"
        }
      },
      "source": [
        "from google.colab import drive\n",
        "drive.mount('/content/drive')"
      ],
      "execution_count": 1,
      "outputs": [
        {
          "output_type": "stream",
          "text": [
            "Mounted at /content/drive\n"
          ],
          "name": "stdout"
        }
      ]
    },
    {
      "cell_type": "code",
      "metadata": {
        "colab": {
          "base_uri": "https://localhost:8080/"
        },
        "id": "fHpkDkDhYz2t",
        "outputId": "d0d3cd89-4d46-40bb-af18-84494763c745"
      },
      "source": [
        "!pip install torch\n",
        "!pip install torchvision\n",
        "!pip install opencv-python"
      ],
      "execution_count": 2,
      "outputs": [
        {
          "output_type": "stream",
          "text": [
            "Requirement already satisfied: torch in /usr/local/lib/python3.6/dist-packages (1.7.0+cu101)\n",
            "Requirement already satisfied: numpy in /usr/local/lib/python3.6/dist-packages (from torch) (1.18.5)\n",
            "Requirement already satisfied: typing-extensions in /usr/local/lib/python3.6/dist-packages (from torch) (3.7.4.3)\n",
            "Requirement already satisfied: future in /usr/local/lib/python3.6/dist-packages (from torch) (0.16.0)\n",
            "Requirement already satisfied: dataclasses in /usr/local/lib/python3.6/dist-packages (from torch) (0.7)\n",
            "Requirement already satisfied: torchvision in /usr/local/lib/python3.6/dist-packages (0.8.1+cu101)\n",
            "Requirement already satisfied: torch==1.7.0 in /usr/local/lib/python3.6/dist-packages (from torchvision) (1.7.0+cu101)\n",
            "Requirement already satisfied: pillow>=4.1.1 in /usr/local/lib/python3.6/dist-packages (from torchvision) (7.0.0)\n",
            "Requirement already satisfied: numpy in /usr/local/lib/python3.6/dist-packages (from torchvision) (1.18.5)\n",
            "Requirement already satisfied: typing-extensions in /usr/local/lib/python3.6/dist-packages (from torch==1.7.0->torchvision) (3.7.4.3)\n",
            "Requirement already satisfied: future in /usr/local/lib/python3.6/dist-packages (from torch==1.7.0->torchvision) (0.16.0)\n",
            "Requirement already satisfied: dataclasses in /usr/local/lib/python3.6/dist-packages (from torch==1.7.0->torchvision) (0.7)\n",
            "Requirement already satisfied: opencv-python in /usr/local/lib/python3.6/dist-packages (4.1.2.30)\n",
            "Requirement already satisfied: numpy>=1.11.3 in /usr/local/lib/python3.6/dist-packages (from opencv-python) (1.18.5)\n"
          ],
          "name": "stdout"
        }
      ]
    },
    {
      "cell_type": "code",
      "metadata": {
        "id": "JV4RaAvlXNgF"
      },
      "source": [
        "import os,sys\n",
        "import cv2\n",
        "import numpy as np\n",
        "import time\n",
        "%matplotlib inline\n",
        "import matplotlib.pyplot as plt"
      ],
      "execution_count": 3,
      "outputs": []
    },
    {
      "cell_type": "code",
      "metadata": {
        "id": "OeiMuN03ZjYg"
      },
      "source": [
        "os.chdir('../')"
      ],
      "execution_count": 4,
      "outputs": []
    },
    {
      "cell_type": "code",
      "metadata": {
        "colab": {
          "base_uri": "https://localhost:8080/"
        },
        "id": "ZfeCgBQ8ZnIz",
        "outputId": "b9695556-0bfa-465b-f49f-4718a8034a1d"
      },
      "source": [
        "!git clone https://github.com/adityajn105/flappy-bird-deep-q-learning.git"
      ],
      "execution_count": 5,
      "outputs": [
        {
          "output_type": "stream",
          "text": [
            "Cloning into 'flappy-bird-deep-q-learning'...\n",
            "remote: Enumerating objects: 88, done.\u001b[K\n",
            "remote: Total 88 (delta 0), reused 0 (delta 0), pack-reused 88\u001b[K\n",
            "Unpacking objects: 100% (88/88), done.\n"
          ],
          "name": "stdout"
        }
      ]
    },
    {
      "cell_type": "code",
      "metadata": {
        "colab": {
          "base_uri": "https://localhost:8080/"
        },
        "id": "hhZubFpWZzRZ",
        "outputId": "45dd7ce2-a671-48a3-c24d-1d0f581bf3d9"
      },
      "source": [
        "!ls"
      ],
      "execution_count": 6,
      "outputs": [
        {
          "output_type": "stream",
          "text": [
            "bin\t etc\t\t\t      lib64  root   sys\t\t       var\n",
            "boot\t flappy-bird-deep-q-learning  media  run    tensorflow-1.15.2\n",
            "content  home\t\t\t      mnt    sbin   tmp\n",
            "datalab  lib\t\t\t      opt    srv    tools\n",
            "dev\t lib32\t\t\t      proc   swift  usr\n"
          ],
          "name": "stdout"
        }
      ]
    },
    {
      "cell_type": "code",
      "metadata": {
        "colab": {
          "base_uri": "https://localhost:8080/"
        },
        "id": "y-VXDvm7Z781",
        "outputId": "ee3e37c2-059e-4bbe-ca74-8bd27beb549f"
      },
      "source": [
        "os.chdir('flappy-bird-deep-q-learning')\n",
        "!ls"
      ],
      "execution_count": 7,
      "outputs": [
        {
          "output_type": "stream",
          "text": [
            " assets\t\t\t  game\t\t README.md\n",
            " checkpoints\t\t  LICENSE\t requirements.txt\n",
            "'Deep Q Learning.ipynb'   play_game.py\t screenshots\n"
          ],
          "name": "stdout"
        }
      ]
    },
    {
      "cell_type": "code",
      "metadata": {
        "id": "GLiPvf-yZaZv"
      },
      "source": [
        "#sys.path.append('game/')\n",
        "os.chdir('game')\n"
      ],
      "execution_count": 8,
      "outputs": []
    },
    {
      "cell_type": "code",
      "metadata": {
        "colab": {
          "base_uri": "https://localhost:8080/"
        },
        "id": "jeE_wCOOb2fe",
        "outputId": "f513ef91-9c4e-4d2f-ac4d-78cb741acddd"
      },
      "source": [
        "!pip install pygame "
      ],
      "execution_count": 9,
      "outputs": [
        {
          "output_type": "stream",
          "text": [
            "Collecting pygame\n",
            "\u001b[?25l  Downloading https://files.pythonhosted.org/packages/87/4c/2ebe8ab1a695a446574bc48d96eb3503649893be8c769e7fafd65fd18833/pygame-2.0.0-cp36-cp36m-manylinux1_x86_64.whl (11.5MB)\n",
            "\u001b[K     |████████████████████████████████| 11.5MB 11.4MB/s \n",
            "\u001b[?25hInstalling collected packages: pygame\n",
            "Successfully installed pygame-2.0.0\n"
          ],
          "name": "stdout"
        }
      ]
    },
    {
      "cell_type": "code",
      "metadata": {
        "colab": {
          "base_uri": "https://localhost:8080/"
        },
        "id": "76AF_irCbUNc",
        "outputId": "3d9f5423-de88-4f36-ee60-ff72c502cce0"
      },
      "source": [
        "import pygame\n",
        "DISPLAY = True\n",
        "if not DISPLAY:\n",
        "    os.environ[\"SDL_VIDEODRIVER\"] = \"dummy\""
      ],
      "execution_count": 10,
      "outputs": [
        {
          "output_type": "stream",
          "text": [
            "pygame 2.0.0 (SDL 2.0.12, python 3.6.9)\n",
            "Hello from the pygame community. https://www.pygame.org/contribute.html\n"
          ],
          "name": "stdout"
        }
      ]
    },
    {
      "cell_type": "markdown",
      "metadata": {
        "id": "FPOjpx62q0yG"
      },
      "source": [
        "# Not working part"
      ]
    },
    {
      "cell_type": "code",
      "metadata": {
        "colab": {
          "base_uri": "https://localhost:8080/"
        },
        "id": "KHLNn6zudU7F",
        "outputId": "c2895d35-a912-45f1-e39b-020e503026b6"
      },
      "source": [
        "import os\n",
        "os.environ['SDL_VIDEODRIVER']='dummy'\n",
        "import pygame\n",
        "pygame.display.set_mode((640,480))\n",
        "pygame.init()\n",
        "pygame.display.init()\n",
        "print( pygame.display.list_modes() )"
      ],
      "execution_count": 11,
      "outputs": [
        {
          "output_type": "stream",
          "text": [
            "[(640, 480)]\n"
          ],
          "name": "stdout"
        }
      ]
    },
    {
      "cell_type": "code",
      "metadata": {
        "colab": {
          "base_uri": "https://localhost:8080/"
        },
        "id": "RK2kfNV4dhui",
        "outputId": "4b1eb506-5d63-47ab-c2a2-a9963e2a31f7"
      },
      "source": [
        "!ls"
      ],
      "execution_count": 12,
      "outputs": [
        {
          "output_type": "stream",
          "text": [
            "flappy_utils.py  flappy_wrapped.py\n"
          ],
          "name": "stdout"
        }
      ]
    },
    {
      "cell_type": "code",
      "metadata": {
        "id": "d8hRyunlnsqm",
        "outputId": "f3155f62-bba0-4353-a54d-9720c27705b9",
        "colab": {
          "base_uri": "https://localhost:8080/"
        }
      },
      "source": [
        "os.getcwd()\n",
        "!ls"
      ],
      "execution_count": 13,
      "outputs": [
        {
          "output_type": "stream",
          "text": [
            "flappy_utils.py  flappy_wrapped.py\n"
          ],
          "name": "stdout"
        }
      ]
    },
    {
      "cell_type": "code",
      "metadata": {
        "id": "5-tF3Knjd6Ko"
      },
      "source": [
        "sys.path.append('game/')"
      ],
      "execution_count": 14,
      "outputs": []
    },
    {
      "cell_type": "code",
      "metadata": {
        "id": "SUqTQyRboM1E",
        "outputId": "7f61606b-23d3-450f-a17a-f23c80cda887",
        "colab": {
          "base_uri": "https://localhost:8080/",
          "height": 320
        }
      },
      "source": [
        "import flappy_utils\n",
        "import flappy_wrapped as game"
      ],
      "execution_count": 15,
      "outputs": [
        {
          "output_type": "error",
          "ename": "FileNotFoundError",
          "evalue": "ignored",
          "traceback": [
            "\u001b[0;31m---------------------------------------------------------------------------\u001b[0m",
            "\u001b[0;31mFileNotFoundError\u001b[0m                         Traceback (most recent call last)",
            "\u001b[0;32m<ipython-input-15-c143cea0172a>\u001b[0m in \u001b[0;36m<module>\u001b[0;34m()\u001b[0m\n\u001b[1;32m      1\u001b[0m \u001b[0;32mimport\u001b[0m \u001b[0mflappy_utils\u001b[0m\u001b[0;34m\u001b[0m\u001b[0;34m\u001b[0m\u001b[0m\n\u001b[0;32m----> 2\u001b[0;31m \u001b[0;32mimport\u001b[0m \u001b[0mflappy_wrapped\u001b[0m \u001b[0;32mas\u001b[0m \u001b[0mgame\u001b[0m\u001b[0;34m\u001b[0m\u001b[0;34m\u001b[0m\u001b[0m\n\u001b[0m",
            "\u001b[0;32m/flappy-bird-deep-q-learning/game/flappy_wrapped.py\u001b[0m in \u001b[0;36m<module>\u001b[0;34m()\u001b[0m\n\u001b[1;32m     17\u001b[0m \u001b[0mpygame\u001b[0m\u001b[0;34m.\u001b[0m\u001b[0mdisplay\u001b[0m\u001b[0;34m.\u001b[0m\u001b[0mset_caption\u001b[0m\u001b[0;34m(\u001b[0m\u001b[0;34m'Flappy Bird'\u001b[0m\u001b[0;34m)\u001b[0m\u001b[0;34m\u001b[0m\u001b[0;34m\u001b[0m\u001b[0m\n\u001b[1;32m     18\u001b[0m \u001b[0;34m\u001b[0m\u001b[0m\n\u001b[0;32m---> 19\u001b[0;31m \u001b[0mIMAGES\u001b[0m\u001b[0;34m,\u001b[0m \u001b[0mSOUNDS\u001b[0m\u001b[0;34m,\u001b[0m \u001b[0mHITMASKS\u001b[0m \u001b[0;34m=\u001b[0m \u001b[0mflappy_bird_utils\u001b[0m\u001b[0;34m.\u001b[0m\u001b[0mload\u001b[0m\u001b[0;34m(\u001b[0m\u001b[0;34m)\u001b[0m\u001b[0;34m\u001b[0m\u001b[0;34m\u001b[0m\u001b[0m\n\u001b[0m\u001b[1;32m     20\u001b[0m \u001b[0mPIPEGAPSIZE\u001b[0m \u001b[0;34m=\u001b[0m \u001b[0;36m100\u001b[0m \u001b[0;31m# gap between upper and lower part of pipe\u001b[0m\u001b[0;34m\u001b[0m\u001b[0;34m\u001b[0m\u001b[0m\n\u001b[1;32m     21\u001b[0m \u001b[0mBASEY\u001b[0m \u001b[0;34m=\u001b[0m \u001b[0mSCREENHEIGHT\u001b[0m \u001b[0;34m*\u001b[0m \u001b[0;36m0.79\u001b[0m\u001b[0;34m\u001b[0m\u001b[0;34m\u001b[0m\u001b[0m\n",
            "\u001b[0;32m/flappy-bird-deep-q-learning/game/flappy_utils.py\u001b[0m in \u001b[0;36mload\u001b[0;34m()\u001b[0m\n\u001b[1;32m     19\u001b[0m     \u001b[0;31m# numbers sprites for score display\u001b[0m\u001b[0;34m\u001b[0m\u001b[0;34m\u001b[0m\u001b[0;34m\u001b[0m\u001b[0m\n\u001b[1;32m     20\u001b[0m     IMAGES['numbers'] = (\n\u001b[0;32m---> 21\u001b[0;31m         \u001b[0mpygame\u001b[0m\u001b[0;34m.\u001b[0m\u001b[0mimage\u001b[0m\u001b[0;34m.\u001b[0m\u001b[0mload\u001b[0m\u001b[0;34m(\u001b[0m\u001b[0;34m'assets/sprites/0.png'\u001b[0m\u001b[0;34m)\u001b[0m\u001b[0;34m.\u001b[0m\u001b[0mconvert_alpha\u001b[0m\u001b[0;34m(\u001b[0m\u001b[0;34m)\u001b[0m\u001b[0;34m,\u001b[0m\u001b[0;34m\u001b[0m\u001b[0;34m\u001b[0m\u001b[0m\n\u001b[0m\u001b[1;32m     22\u001b[0m         \u001b[0mpygame\u001b[0m\u001b[0;34m.\u001b[0m\u001b[0mimage\u001b[0m\u001b[0;34m.\u001b[0m\u001b[0mload\u001b[0m\u001b[0;34m(\u001b[0m\u001b[0;34m'assets/sprites/1.png'\u001b[0m\u001b[0;34m)\u001b[0m\u001b[0;34m.\u001b[0m\u001b[0mconvert_alpha\u001b[0m\u001b[0;34m(\u001b[0m\u001b[0;34m)\u001b[0m\u001b[0;34m,\u001b[0m\u001b[0;34m\u001b[0m\u001b[0;34m\u001b[0m\u001b[0m\n\u001b[1;32m     23\u001b[0m         \u001b[0mpygame\u001b[0m\u001b[0;34m.\u001b[0m\u001b[0mimage\u001b[0m\u001b[0;34m.\u001b[0m\u001b[0mload\u001b[0m\u001b[0;34m(\u001b[0m\u001b[0;34m'assets/sprites/2.png'\u001b[0m\u001b[0;34m)\u001b[0m\u001b[0;34m.\u001b[0m\u001b[0mconvert_alpha\u001b[0m\u001b[0;34m(\u001b[0m\u001b[0;34m)\u001b[0m\u001b[0;34m,\u001b[0m\u001b[0;34m\u001b[0m\u001b[0;34m\u001b[0m\u001b[0m\n",
            "\u001b[0;31mFileNotFoundError\u001b[0m: No such file or directory."
          ]
        }
      ]
    },
    {
      "cell_type": "markdown",
      "metadata": {
        "id": "12O-rWbimq5H"
      },
      "source": [
        "#Loading *flappy_wrapped* from drive"
      ]
    },
    {
      "cell_type": "code",
      "metadata": {
        "id": "UXGd7ar_nKFc",
        "outputId": "78a51bbe-6b81-4a76-c045-51a9f37db769",
        "colab": {
          "base_uri": "https://localhost:8080/"
        }
      },
      "source": [
        "import os \n",
        "\n",
        "# Set your working directory to a folder in your Google Drive. This way, if your notebook times out,\n",
        "# your files will be saved in your Google Drive!\n",
        "\n",
        "# the base Google Drive directory\n",
        "root_dir = \"/content/drive/Shared drives/\"\n",
        "\n",
        "# choose where you want your project files to be saved\n",
        "project_folder = \"MeanSquare-Drive/RL-assignment/flappy-bird-deep-q-learning/\"\n",
        "\n",
        "def create_and_set_working_directory(project_folder):\n",
        "  # check if your project folder exists. if not, it will be created.\n",
        "  if os.path.isdir(root_dir + project_folder) == False:\n",
        "    os.mkdir(root_dir + project_folder)\n",
        "    print(root_dir + project_folder + ' did not exist but was created.')\n",
        "\n",
        "  # change the OS to use your project folder as the working directory\n",
        "  os.chdir(root_dir + project_folder)\n",
        "\n",
        "  # create a test file to make sure it shows up in the right place\n",
        "  !touch 'new_file_in_working_directory.txt'\n",
        "  print('\\nYour working directory was changed to ' + root_dir + project_folder + \\\n",
        "        \"\\n\\nAn empty text file was created there. You can also run !pwd to confirm the current working directory.\" )\n",
        "\n",
        "create_and_set_working_directory(project_folder)"
      ],
      "execution_count": 16,
      "outputs": [
        {
          "output_type": "stream",
          "text": [
            "\n",
            "Your working directory was changed to /content/drive/Shared drives/MeanSquare-Drive/RL-assignment/flappy-bird-deep-q-learning/\n",
            "\n",
            "An empty text file was created there. You can also run !pwd to confirm the current working directory.\n"
          ],
          "name": "stdout"
        }
      ]
    },
    {
      "cell_type": "code",
      "metadata": {
        "id": "YhLJX2ncncSI"
      },
      "source": [
        "import sys\n",
        "sys.path.append('/content/drive/Shared drives/MeanSquare-Drive/RL-assignment/flappy-bird-deep-q-learning')"
      ],
      "execution_count": 17,
      "outputs": []
    },
    {
      "cell_type": "code",
      "metadata": {
        "id": "Yd052Ebanhq7",
        "outputId": "4e585448-fa3f-46cb-e68d-043d66474e2c",
        "colab": {
          "base_uri": "https://localhost:8080/",
          "height": 35
        }
      },
      "source": [
        "os.getcwd()"
      ],
      "execution_count": 18,
      "outputs": [
        {
          "output_type": "execute_result",
          "data": {
            "application/vnd.google.colaboratory.intrinsic+json": {
              "type": "string"
            },
            "text/plain": [
              "'/content/drive/Shared drives/MeanSquare-Drive/RL-assignment/flappy-bird-deep-q-learning'"
            ]
          },
          "metadata": {
            "tags": []
          },
          "execution_count": 18
        }
      ]
    },
    {
      "cell_type": "code",
      "metadata": {
        "id": "FOYpBoRybqLT"
      },
      "source": [
        "import flappy_wrapped as game"
      ],
      "execution_count": 19,
      "outputs": []
    },
    {
      "cell_type": "markdown",
      "metadata": {
        "id": "94fHEFHKm0Wu"
      },
      "source": [
        "# KERNEL"
      ]
    },
    {
      "cell_type": "code",
      "metadata": {
        "id": "R-PPnNO2XNgF"
      },
      "source": [
        "KERNEL = np.array([[-1,-1,-1], [-1, 9,-1],[-1,-1,-1]])\n",
        "def processFrame(frame):\n",
        "    frame = frame[55:288,0:400] #crop image\n",
        "    frame = cv2.cvtColor(frame,cv2.COLOR_BGR2GRAY) #convert image to black and white\n",
        "    frame = cv2.resize(frame,(84,84),interpolation=cv2.INTER_AREA)\n",
        "    _ , frame = cv2.threshold(frame,50,255,cv2.THRESH_BINARY)\n",
        "    #frame = cv2.blur(frame,(5,5))\n",
        "    frame = cv2.filter2D(frame,-1,KERNEL)\n",
        "    #frame = cv2.Canny(frame,100,200)\n",
        "    frame = frame.astype(np.float64)/255.0\n",
        "    return frame"
      ],
      "execution_count": 20,
      "outputs": []
    },
    {
      "cell_type": "markdown",
      "metadata": {
        "id": "iUp1niiUp0J5"
      },
      "source": [
        "# Dueling DQN"
      ]
    },
    {
      "cell_type": "code",
      "metadata": {
        "id": "cXjfXGmdXNgF"
      },
      "source": [
        "import torch\n",
        "import torch.nn as nn\n",
        "import torch.optim as optim\n",
        "\n",
        "#Dueling DQN\n",
        "class DDQN(nn.Module):\n",
        "    def __init__(self,input_shape,nactions):\n",
        "        super(DDQN,self).__init__()\n",
        "        self.nactions = nactions\n",
        "        self.conv = nn.Sequential(\n",
        "            nn.Conv2d(input_shape[0],32,kernel_size=4,stride=2),\n",
        "            nn.ReLU(),\n",
        "            nn.Conv2d(32,64,kernel_size=3,stride=2),\n",
        "            nn.ReLU(),\n",
        "            nn.Conv2d(64,64,kernel_size=2,stride=1),\n",
        "            nn.ReLU()\n",
        "        )\n",
        "        \n",
        "        conv_out_size = self._get_conv_out(input_shape)\n",
        "        \n",
        "        self.fca = nn.Sequential(\n",
        "            nn.Linear( conv_out_size, 512),\n",
        "            nn.ReLU(),\n",
        "            nn.Linear( 512, nactions )\n",
        "        )\n",
        "        \n",
        "        self.fcv = nn.Sequential(\n",
        "            nn.Linear(conv_out_size,512),\n",
        "            nn.ReLU(),\n",
        "            nn.Linear(512,1)\n",
        "        )\n",
        "        \n",
        "    def _get_conv_out(self,shape):\n",
        "        o = self.conv( torch.zeros(1,*shape) )\n",
        "        return int(np.prod(o.size()))\n",
        "    \n",
        "    def forward(self,x):\n",
        "        conv_out = self.conv(x).view(x.size()[0], -1)\n",
        "        action_v = self.fca(conv_out)\n",
        "        value_v = self.fcv(conv_out).expand(x.size(0), self.nactions)\n",
        "        return value_v + action_v - action_v.mean(1).unsqueeze(1).expand(x.size(0), self.nactions)"
      ],
      "execution_count": 21,
      "outputs": []
    },
    {
      "cell_type": "markdown",
      "metadata": {
        "id": "x1INjeA_p4dP"
      },
      "source": [
        "# Hyperparam"
      ]
    },
    {
      "cell_type": "code",
      "metadata": {
        "id": "kBab3NBGXNgF"
      },
      "source": [
        "ACTIONS = [0,1]\n",
        "EXPERIENCE_BUFFER_SIZE = 2000\n",
        "STATE_DIM = 4\n",
        "GAMMA = 0.99\n",
        "EPSILON_START = 1\n",
        "EPSILON_FINAL = 0.001\n",
        "EPSILON_DECAY_FRAMES = (10**4)/3\n",
        "MEAN_GOAL_REWARD = 10\n",
        "BATCH_SIZE = 32\n",
        "MIN_EXP_BUFFER_SIZE = 500\n",
        "SYNC_TARGET_FRAMES = 30\n",
        "LEARNING_RATE = 1e-4\n",
        "SKIP_FRAME = 2\n",
        "INITIAL_SKIP = [0,1,0,1,0,1,0,0,0,1,0,1,0,1,0,1,0,0,0,0,0,0,0,1,0,1,0,1,0,1,0,1,0,1]"
      ],
      "execution_count": 22,
      "outputs": []
    },
    {
      "cell_type": "markdown",
      "metadata": {
        "id": "Je_1gzbhp7sn"
      },
      "source": [
        "# ExperienceBuffer"
      ]
    },
    {
      "cell_type": "code",
      "metadata": {
        "id": "cu8kxJg9XNgF"
      },
      "source": [
        "import collections\n",
        "class ExperienceBuffer():\n",
        "    def __init__(self,capacity):\n",
        "        self.buffer = collections.deque(maxlen=capacity)\n",
        "        self.priority = collections.deque(maxlen=capacity)\n",
        "    \n",
        "    def clear(self):\n",
        "        self.buffer.clear()\n",
        "        self.priority.clear()\n",
        "        \n",
        "    def __len__(self):\n",
        "        return len(self.buffer)\n",
        "    \n",
        "    def append(self,exp,p):\n",
        "        self.buffer.append(exp)\n",
        "        self.priority.append(p)\n",
        "        \n",
        "    def sample(self,batch_size):\n",
        "        probs = np.array(self.priority)/sum(np.array(self.priority))\n",
        "        indices = np.random.choice( range(len(self.buffer)), batch_size, p = probs)\n",
        "        states,actions,rewards,dones,next_states = zip(*[ self.buffer[idx] for idx in indices ])\n",
        "        return np.array(states), np.array(actions), np.array(rewards, dtype=np.float32),\\\n",
        "    np.array(dones,dtype=np.uint8), np.array(next_states)"
      ],
      "execution_count": 23,
      "outputs": []
    },
    {
      "cell_type": "markdown",
      "metadata": {
        "id": "HsBGXEKhp-b6"
      },
      "source": [
        "# Agent"
      ]
    },
    {
      "cell_type": "code",
      "metadata": {
        "id": "vdPkRwlIXNgF"
      },
      "source": [
        "class Agent():\n",
        "    def __init__(self,env,buffer,state_buffer_size = STATE_DIM):\n",
        "        self.env = env\n",
        "        self.exp_buffer = buffer\n",
        "        self.state = collections.deque(maxlen = STATE_DIM)\n",
        "        self.next_state= collections.deque(maxlen = STATE_DIM)\n",
        "        self._reset()\n",
        "        \n",
        "    def _reset(self):\n",
        "        self.total_rewards = 0\n",
        "        self.state.clear()\n",
        "        self.next_state.clear()\n",
        "        \n",
        "        for i in INITIAL_SKIP[:-7]:\n",
        "            frame,reward,done = self.env.frame_step(i)\n",
        "            self.total_rewards+=reward\n",
        "            if done:\n",
        "                self._reset()\n",
        "        frame = processFrame(frame)\n",
        "        self.state.append(frame)\n",
        "        self.next_state.append(frame)\n",
        "\n",
        "        for i in INITIAL_SKIP[-7:-5]:\n",
        "            frame,reward,done = self.env.frame_step(i)\n",
        "            self.total_rewards+=reward\n",
        "            if done:\n",
        "                self._reset()\n",
        "        frame = processFrame(frame)\n",
        "        self.state.append(frame)\n",
        "        self.next_state.append(frame)\n",
        "        \n",
        "        for i in INITIAL_SKIP[-5:-3]:\n",
        "            frame,reward,done = self.env.frame_step(i)\n",
        "            self.total_rewards+=reward\n",
        "            if done:\n",
        "                self._reset()\n",
        "        frame = processFrame(frame)\n",
        "        self.state.append(frame)\n",
        "        self.next_state.append(frame)\n",
        "        \n",
        "        for i in INITIAL_SKIP[-3:-1]:\n",
        "            frame,reward,done = self.env.frame_step(i)\n",
        "            self.total_rewards+=reward\n",
        "            if done:\n",
        "                self._reset()\n",
        "        frame = processFrame(frame)\n",
        "        self.state.append(frame)\n",
        "        self.next_state.append(frame)\n",
        "    \n",
        "    def step(self,net,tgt_net,epsilon=0.9,device='cpu'):\n",
        "        self.total_rewards = 0\n",
        "        if np.random.random() < epsilon:\n",
        "            action = np.random.choice(ACTIONS)\n",
        "        else:\n",
        "            state_v = torch.tensor(np.array([self.state],copy=False),dtype=torch.float32).to(device)\n",
        "            action = int(torch.argmax(net(state_v)))\n",
        "       \n",
        "        frame,reward,done = self.env.frame_step(action)\n",
        "        self.total_rewards += reward\n",
        "        for _ in range(SKIP_FRAME):\n",
        "                frame,reward,done =  self.env.frame_step(action)\n",
        "                self.total_rewards += reward\n",
        "                if done:\n",
        "                    break\n",
        "                    \n",
        "        frame = processFrame(frame)\n",
        "        self.next_state.append(frame)\n",
        "        \n",
        "        if len(self.next_state)==STATE_DIM and len(self.state)==STATE_DIM:\n",
        "            #PER - Prioritized Experience Replay\n",
        "            o = net( torch.tensor( np.array([self.state]),dtype=torch.float32).to(device)).to('cpu').detach().numpy()[0][action]\n",
        "            e = float(torch.max(tgt_net( torch.tensor( np.array([self.next_state]),dtype=torch.float32).to(device))))\n",
        "            p = abs(o-e)+0.0001\n",
        "            self.exp_buffer.append((self.state.copy(),action,int(self.total_rewards),done,self.next_state.copy()),p)\n",
        "        \n",
        "        self.state.append(frame)\n",
        "        \n",
        "        end_reward = int(self.total_rewards)\n",
        "        if done:\n",
        "            self._reset()\n",
        "        \n",
        "        return end_reward"
      ],
      "execution_count": 24,
      "outputs": []
    },
    {
      "cell_type": "markdown",
      "metadata": {
        "id": "UhWwPqBPqBnC"
      },
      "source": [
        "# Loss"
      ]
    },
    {
      "cell_type": "code",
      "metadata": {
        "id": "TaGIaZClXNgF"
      },
      "source": [
        "def calc_loss(batch,net,tgt_net,device='cpu'):\n",
        "    states,actions,rewards,dones,next_states = batch\n",
        "    \n",
        "    states_v = torch.tensor(states,dtype=torch.float32).to(device)\n",
        "    actions_v = torch.tensor(actions,dtype=torch.long).to(device)\n",
        "    rewards_v = torch.tensor(rewards).to(device)\n",
        "    dones_v = torch.ByteTensor(dones).to(device)\n",
        "    next_states_v = torch.tensor(next_states,dtype=torch.float32).to(device)\n",
        "    \n",
        "    state_action_values = net(states_v).gather(1, actions_v.unsqueeze(-1)).squeeze(-1)\n",
        "    next_state_action_values = tgt_net(next_states_v).max(1)[0]\n",
        "    next_state_action_values[dones_v] = 0.0\n",
        "    next_state_action_values = next_state_action_values.detach() \n",
        "    \n",
        "    expected_values = rewards_v +  next_state_action_values * GAMMA\n",
        "    return nn.MSELoss()(state_action_values,expected_values)"
      ],
      "execution_count": 25,
      "outputs": []
    },
    {
      "cell_type": "markdown",
      "metadata": {
        "id": "nAjMYmNcqEx7"
      },
      "source": [
        "# Training"
      ]
    },
    {
      "cell_type": "code",
      "metadata": {
        "scrolled": false,
        "id": "HTUzIvMBXNgF",
        "colab": {
          "base_uri": "https://localhost:8080/"
        },
        "outputId": "347d2257-5dab-42f4-a74a-28bd2eb47376"
      },
      "source": [
        "all_losses = []\n",
        "device = torch.device( \"cuda\" if torch.cuda.is_available() else \"cpu\" )\n",
        "\n",
        "#Double Dueling DQN\n",
        "net = DDQN( (STATE_DIM,84,84), len(ACTIONS) ).to(device)\n",
        "tgt_net = DDQN( (STATE_DIM,84,84), len(ACTIONS) ).to(device)\n",
        "\n",
        "env = game.GameState()\n",
        "buffer = ExperienceBuffer(EXPERIENCE_BUFFER_SIZE)\n",
        "agent = Agent(env,buffer)\n",
        "epsilon = EPSILON_START\n",
        "optimizer = optim.Adam(net.parameters(),lr=LEARNING_RATE)\n",
        "\n",
        "total_rewards = []\n",
        "best_mean_reward = float('-inf')\n",
        "last_mean = float('-inf')\n",
        "game_id = 0\n",
        "while True:\n",
        "    epsilon = max( EPSILON_FINAL , EPSILON_START - game_id/EPSILON_DECAY_FRAMES )\n",
        "    \n",
        "    reward = agent.step(net,tgt_net,epsilon,device=device)\n",
        "    if reward != 0:\n",
        "        game_id += 1\n",
        "        total_rewards.append(reward)\n",
        "        mean_reward = np.mean(total_rewards[-100:])\n",
        "        if game_id%5 == 0:\n",
        "            print(\"GAME : {} | EPSILON : {:.4f} | MEAN REWARD : {}\".format( game_id, epsilon, mean_reward ))\n",
        "        if best_mean_reward < mean_reward:\n",
        "            best_mean_reward = mean_reward\n",
        "            \n",
        "            if best_mean_reward - last_mean >= 0.1:\n",
        "                torch.save(net.state_dict(),'checkpoints/flappy_best_model.dat')\n",
        "                print(\"REWARD {} -> {}. Model Saved\".format(last_mean,mean_reward))\n",
        "                last_mean = best_mean_reward\n",
        "\n",
        "        if game_id % SYNC_TARGET_FRAMES == 0:\n",
        "            tgt_net.load_state_dict(net.state_dict())\n",
        "            \n",
        "        if mean_reward >= MEAN_GOAL_REWARD:\n",
        "            print(\"Learned in {} Games.\".format(game_id))\n",
        "            break\n",
        "    \n",
        "    if len(buffer) < MIN_EXP_BUFFER_SIZE:\n",
        "        continue\n",
        "    \n",
        "    optimizer.zero_grad()\n",
        "    batch = buffer.sample(BATCH_SIZE)\n",
        "    loss_t = calc_loss(batch,net,tgt_net,device=device)\n",
        "    all_losses.append(float(loss_t))\n",
        "    loss_t.backward()\n",
        "    optimizer.step()"
      ],
      "execution_count": null,
      "outputs": [
        {
          "output_type": "stream",
          "text": [
            "REWARD -inf -> -1.0. Model Saved\n",
            "GAME : 5 | EPSILON : 0.9988 | MEAN REWARD : -1.0\n",
            "GAME : 10 | EPSILON : 0.9973 | MEAN REWARD : -1.0\n",
            "GAME : 15 | EPSILON : 0.9958 | MEAN REWARD : -1.0\n",
            "GAME : 20 | EPSILON : 0.9943 | MEAN REWARD : -1.0\n",
            "GAME : 25 | EPSILON : 0.9928 | MEAN REWARD : -1.0\n"
          ],
          "name": "stdout"
        }
      ]
    }
  ]
}