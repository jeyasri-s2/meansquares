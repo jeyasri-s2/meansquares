{
  "nbformat": 4,
  "nbformat_minor": 0,
  "metadata": {
    "colab": {
      "name": "ddpg_pendulum_tf2",
      "provenance": [],
      "collapsed_sections": [],
      "toc_visible": true,
      "include_colab_link": true
    },
    "kernelspec": {
      "display_name": "Python 3",
      "language": "python",
      "name": "python3"
    },
    "language_info": {
      "codemirror_mode": {
        "name": "ipython",
        "version": 3
      },
      "file_extension": ".py",
      "mimetype": "text/x-python",
      "name": "python",
      "nbconvert_exporter": "python",
      "pygments_lexer": "ipython3",
      "version": "3.7.0"
    },
    "accelerator": "TPU"
  },
  "cells": [
    {
      "cell_type": "markdown",
      "metadata": {
        "id": "view-in-github",
        "colab_type": "text"
      },
      "source": [
        "<a href=\"https://colab.research.google.com/github/aarsanjani/meansquares/blob/master/temp/ddpg_pendulum_tf2.ipynb\" target=\"_parent\"><img src=\"https://colab.research.google.com/assets/colab-badge.svg\" alt=\"Open In Colab\"/></a>"
      ]
    },
    {
      "cell_type": "markdown",
      "metadata": {
        "id": "mUtYCsBey2O5"
      },
      "source": [
        "# Deep Deterministic Policy Gradient (DDPG)\n",
        "\n",
        "**Author:** [amifunny](https://github.com/amifunny)<br>\n",
        "**Date created:** 2020/06/04<br>\n",
        "**Last modified:** 2020/09/21<br>\n",
        "**Description:** Implementing DDPG algorithm on the Inverted Pendulum Problem."
      ]
    },
    {
      "cell_type": "markdown",
      "metadata": {
        "id": "HODtfL8Zy2O5"
      },
      "source": [
        "## Introduction\n",
        "\n",
        "**Deep Deterministic Policy Gradient (DDPG)** is a model-free off-policy algorithm for\n",
        "learning continous actions.\n",
        "\n",
        "It combines ideas from DPG (Deterministic Policy Gradient) and DQN (Deep Q-Network).\n",
        "It uses Experience Replay and slow-learning target networks from DQN, and it is based on\n",
        "DPG,\n",
        "which can operate over continuous action spaces.\n",
        "\n",
        "This tutorial closely follow this paper -\n",
        "[Continuous control with deep reinforcement learning](https://arxiv.org/pdf/1509.02971.pdf)\n",
        "\n",
        "## Problem\n",
        "\n",
        "We are trying to solve the classic **Inverted Pendulum** control problem.\n",
        "In this setting, we can take only two actions: swing left or swing right.\n",
        "\n",
        "What make this problem challenging for Q-Learning Algorithms is that actions\n",
        "are **continuous** instead of being **discrete**. That is, instead of using two\n",
        "discrete actions like `-1` or `+1`, we have to select from infinite actions\n",
        "ranging from `-2` to `+2`.\n",
        "\n",
        "## Quick theory\n",
        "\n",
        "Just like the Actor-Critic method, we have two networks:\n",
        "\n",
        "1. Actor - It proposes an action given a state.\n",
        "2. Critic - It predicts if the action is good (positive value) or bad (negative value)\n",
        "given a state and an action.\n",
        "\n",
        "DDPG uses two more techniques not present in the original DQN:\n",
        "\n",
        "**First, it uses two Target networks.**\n",
        "\n",
        "**Why?** Because it add stability to training. In short, we are learning from estimated\n",
        "targets and Target networks are updated slowly, hence keeping our estimated targets\n",
        "stable.\n",
        "\n",
        "Conceptually, this is like saying, \"I have an idea of how to play this well,\n",
        "I'm going to try it out for a bit until I find something better\",\n",
        "as opposed to saying \"I'm going to re-learn how to play this entire game after every\n",
        "move\".\n",
        "See this [StackOverflow answer](https://stackoverflow.com/a/54238556/13475679).\n",
        "\n",
        "**Second, it uses Experience Replay.**\n",
        "\n",
        "We store list of tuples `(state, action, reward, next_state)`, and instead of\n",
        "learning only from recent experience, we learn from sampling all of our experience\n",
        "accumulated so far.\n",
        "\n",
        "Now, let's see how is it implemented."
      ]
    },
    {
      "cell_type": "code",
      "metadata": {
        "id": "kciX53hVy2O5"
      },
      "source": [
        "import gym\n",
        "import tensorflow as tf\n",
        "from tensorflow.keras import layers\n",
        "import numpy as np\n",
        "import matplotlib.pyplot as plt"
      ],
      "execution_count": null,
      "outputs": []
    },
    {
      "cell_type": "markdown",
      "metadata": {
        "id": "Gxscmi8Zy2O5"
      },
      "source": [
        "We use [OpenAIGym](http://gym.openai.com/docs) to create the environment.\n",
        "We will use the `upper_bound` parameter to scale our actions later."
      ]
    },
    {
      "cell_type": "code",
      "metadata": {
        "id": "cnzl4HFpy2O5",
        "colab": {
          "base_uri": "https://localhost:8080/"
        },
        "outputId": "58d50066-df63-44ca-91b8-4eb9738489e4"
      },
      "source": [
        "problem = \"Pendulum-v0\"\n",
        "env = gym.make(problem)\n",
        "\n",
        "num_states = env.observation_space.shape[0]\n",
        "print(\"Size of State Space ->  {}\".format(num_states))\n",
        "num_actions = env.action_space.shape[0]\n",
        "print(\"Size of Action Space ->  {}\".format(num_actions))\n",
        "\n",
        "upper_bound = env.action_space.high[0]\n",
        "lower_bound = env.action_space.low[0]\n",
        "\n",
        "print(\"Max Value of Action ->  {}\".format(upper_bound))\n",
        "print(\"Min Value of Action ->  {}\".format(lower_bound))"
      ],
      "execution_count": null,
      "outputs": [
        {
          "output_type": "stream",
          "text": [
            "Size of State Space ->  3\n",
            "Size of Action Space ->  1\n",
            "Max Value of Action ->  2.0\n",
            "Min Value of Action ->  -2.0\n"
          ],
          "name": "stdout"
        }
      ]
    },
    {
      "cell_type": "markdown",
      "metadata": {
        "id": "76p9ePpdy2O5"
      },
      "source": [
        "To implement better exploration by the Actor network, we use noisy perturbations,\n",
        "specifically\n",
        "an **Ornstein-Uhlenbeck process** for generating noise, as described in the paper.\n",
        "It samples noise from a correlated normal distribution."
      ]
    },
    {
      "cell_type": "code",
      "metadata": {
        "id": "U3o6DEaey2O5"
      },
      "source": [
        "\n",
        "class OUActionNoise:\n",
        "    def __init__(self, mean, std_deviation, theta=0.15, dt=1e-2, x_initial=None):\n",
        "        self.theta = theta\n",
        "        self.mean = mean\n",
        "        self.std_dev = std_deviation\n",
        "        self.dt = dt\n",
        "        self.x_initial = x_initial\n",
        "        self.reset()\n",
        "\n",
        "    def __call__(self):\n",
        "        # Formula taken from https://www.wikipedia.org/wiki/Ornstein-Uhlenbeck_process.\n",
        "        x = (\n",
        "            self.x_prev\n",
        "            + self.theta * (self.mean - self.x_prev) * self.dt\n",
        "            + self.std_dev * np.sqrt(self.dt) * np.random.normal(size=self.mean.shape)\n",
        "        )\n",
        "        # Store x into x_prev\n",
        "        # Makes next noise dependent on current one\n",
        "        self.x_prev = x\n",
        "        return x\n",
        "\n",
        "    def reset(self):\n",
        "        if self.x_initial is not None:\n",
        "            self.x_prev = self.x_initial\n",
        "        else:\n",
        "            self.x_prev = np.zeros_like(self.mean)\n"
      ],
      "execution_count": null,
      "outputs": []
    },
    {
      "cell_type": "markdown",
      "metadata": {
        "id": "QwprcTg1y2O5"
      },
      "source": [
        "The `Buffer` class implements Experience Replay.\n",
        "\n",
        "---\n",
        "![Algorithm](https://i.imgur.com/mS6iGyJ.jpg)\n",
        "---\n",
        "\n",
        "\n",
        "**Critic loss** - Mean Squared Error of `y - Q(s, a)`\n",
        "where `y` is the expected return as seen by the Target network,\n",
        "and `Q(s, a)` is action value predicted by the Critic network. `y` is a moving target\n",
        "that the critic model tries to achieve; we make this target\n",
        "stable by updating the Target model slowly.\n",
        "\n",
        "**Actor loss** - This is computed using the mean of the value given by the Critic network\n",
        "for the actions taken by the Actor network. We seek to maximize this quantity.\n",
        "\n",
        "Hence we update the Actor network so that it produces actions that get\n",
        "the maximum predicted value as seen by the Critic, for a given state."
      ]
    },
    {
      "cell_type": "code",
      "metadata": {
        "id": "51dcxAWMy2O5"
      },
      "source": [
        "\n",
        "class Buffer:\n",
        "    def __init__(self, buffer_capacity=100000, batch_size=64):\n",
        "        # Number of \"experiences\" to store at max\n",
        "        self.buffer_capacity = buffer_capacity\n",
        "        # Num of tuples to train on.\n",
        "        self.batch_size = batch_size\n",
        "\n",
        "        # Its tells us num of times record() was called.\n",
        "        self.buffer_counter = 0\n",
        "\n",
        "        # Instead of list of tuples as the exp.replay concept go\n",
        "        # We use different np.arrays for each tuple element\n",
        "        self.state_buffer = np.zeros((self.buffer_capacity, num_states))\n",
        "        self.action_buffer = np.zeros((self.buffer_capacity, num_actions))\n",
        "        self.reward_buffer = np.zeros((self.buffer_capacity, 1))\n",
        "        self.next_state_buffer = np.zeros((self.buffer_capacity, num_states))\n",
        "\n",
        "    # Takes (s,a,r,s') obervation tuple as input\n",
        "    def record(self, obs_tuple):\n",
        "        # Set index to zero if buffer_capacity is exceeded,\n",
        "        # replacing old records\n",
        "        index = self.buffer_counter % self.buffer_capacity\n",
        "\n",
        "        self.state_buffer[index] = obs_tuple[0]\n",
        "        self.action_buffer[index] = obs_tuple[1]\n",
        "        self.reward_buffer[index] = obs_tuple[2]\n",
        "        self.next_state_buffer[index] = obs_tuple[3]\n",
        "\n",
        "        self.buffer_counter += 1\n",
        "\n",
        "    # Eager execution is turned on by default in TensorFlow 2. Decorating with tf.function allows\n",
        "    # TensorFlow to build a static graph out of the logic and computations in our function.\n",
        "    # This provides a large speed up for blocks of code that contain many small TensorFlow operations such as this one.\n",
        "    @tf.function\n",
        "    def update(\n",
        "        self, state_batch, action_batch, reward_batch, next_state_batch,\n",
        "    ):\n",
        "        # Training and updating Actor & Critic networks.\n",
        "        # See Pseudo Code.\n",
        "        with tf.GradientTape() as tape:\n",
        "            target_actions = target_actor(next_state_batch, training=True)\n",
        "            y = reward_batch + gamma * target_critic(\n",
        "                [next_state_batch, target_actions], training=True\n",
        "            )\n",
        "            critic_value = critic_model([state_batch, action_batch], training=True)\n",
        "            critic_loss = tf.math.reduce_mean(tf.math.square(y - critic_value))\n",
        "\n",
        "        critic_grad = tape.gradient(critic_loss, critic_model.trainable_variables)\n",
        "        critic_optimizer.apply_gradients(\n",
        "            zip(critic_grad, critic_model.trainable_variables)\n",
        "        )\n",
        "\n",
        "        with tf.GradientTape() as tape:\n",
        "            actions = actor_model(state_batch, training=True)\n",
        "            critic_value = critic_model([state_batch, actions], training=True)\n",
        "            # Used `-value` as we want to maximize the value given\n",
        "            # by the critic for our actions\n",
        "            actor_loss = -tf.math.reduce_mean(critic_value)\n",
        "\n",
        "        actor_grad = tape.gradient(actor_loss, actor_model.trainable_variables)\n",
        "        actor_optimizer.apply_gradients(\n",
        "            zip(actor_grad, actor_model.trainable_variables)\n",
        "        )\n",
        "\n",
        "    # We compute the loss and update parameters\n",
        "    def learn(self):\n",
        "        # Get sampling range\n",
        "        record_range = min(self.buffer_counter, self.buffer_capacity)\n",
        "        # Randomly sample indices\n",
        "        batch_indices = np.random.choice(record_range, self.batch_size)\n",
        "\n",
        "        # Convert to tensors\n",
        "        state_batch = tf.convert_to_tensor(self.state_buffer[batch_indices])\n",
        "        action_batch = tf.convert_to_tensor(self.action_buffer[batch_indices])\n",
        "        reward_batch = tf.convert_to_tensor(self.reward_buffer[batch_indices])\n",
        "        reward_batch = tf.cast(reward_batch, dtype=tf.float32)\n",
        "        next_state_batch = tf.convert_to_tensor(self.next_state_buffer[batch_indices])\n",
        "\n",
        "        self.update(state_batch, action_batch, reward_batch, next_state_batch)\n",
        "\n",
        "\n",
        "# This update target parameters slowly\n",
        "# Based on rate `tau`, which is much less than one.\n",
        "@tf.function\n",
        "def update_target(target_weights, weights, tau):\n",
        "    for (a, b) in zip(target_weights, weights):\n",
        "        a.assign(b * tau + a * (1 - tau))\n"
      ],
      "execution_count": null,
      "outputs": []
    },
    {
      "cell_type": "markdown",
      "metadata": {
        "id": "VevkMwYcy2O5"
      },
      "source": [
        "Here we define the Actor and Critic networks. These are basic Dense models\n",
        "with `ReLU` activation.\n",
        "\n",
        "Note: We need the initialization for last layer of the Actor to be between\n",
        "`-0.003` and `0.003` as this prevents us from getting `1` or `-1` output values in\n",
        "the initial stages, which would squash our gradients to zero,\n",
        "as we use the `tanh` activation."
      ]
    },
    {
      "cell_type": "code",
      "metadata": {
        "id": "LWaB7disy2O5"
      },
      "source": [
        "\n",
        "def get_actor():\n",
        "    # Initialize weights between -3e-3 and 3-e3\n",
        "    last_init = tf.random_uniform_initializer(minval=-0.003, maxval=0.003)\n",
        "\n",
        "    inputs = layers.Input(shape=(num_states,))\n",
        "    out = layers.Dense(256, activation=\"relu\")(inputs)\n",
        "    out = layers.Dense(256, activation=\"relu\")(out)\n",
        "    outputs = layers.Dense(1, activation=\"tanh\", kernel_initializer=last_init)(out)\n",
        "\n",
        "    # Our upper bound is 2.0 for Pendulum.\n",
        "    outputs = outputs * upper_bound\n",
        "    model = tf.keras.Model(inputs, outputs)\n",
        "    return model\n",
        "\n",
        "\n",
        "def get_critic():\n",
        "    # State as input\n",
        "    state_input = layers.Input(shape=(num_states))\n",
        "    state_out = layers.Dense(16, activation=\"relu\")(state_input)\n",
        "    state_out = layers.Dense(32, activation=\"relu\")(state_out)\n",
        "\n",
        "    # Action as input\n",
        "    action_input = layers.Input(shape=(num_actions))\n",
        "    action_out = layers.Dense(32, activation=\"relu\")(action_input)\n",
        "\n",
        "    # Both are passed through seperate layer before concatenating\n",
        "    concat = layers.Concatenate()([state_out, action_out])\n",
        "\n",
        "    out = layers.Dense(256, activation=\"relu\")(concat)\n",
        "    out = layers.Dense(256, activation=\"relu\")(out)\n",
        "    outputs = layers.Dense(1)(out)\n",
        "\n",
        "    # Outputs single value for give state-action\n",
        "    model = tf.keras.Model([state_input, action_input], outputs)\n",
        "\n",
        "    return model\n"
      ],
      "execution_count": null,
      "outputs": []
    },
    {
      "cell_type": "markdown",
      "metadata": {
        "id": "z0KZE8Wxy2O5"
      },
      "source": [
        "`policy()` returns an action sampled from our Actor network plus some noise for\n",
        "exploration."
      ]
    },
    {
      "cell_type": "code",
      "metadata": {
        "id": "XquuqxELy2O5"
      },
      "source": [
        "\n",
        "def policy(state, noise_object):\n",
        "    sampled_actions = tf.squeeze(actor_model(state))\n",
        "    noise = noise_object()\n",
        "    # Adding noise to action\n",
        "    sampled_actions = sampled_actions.numpy() + noise\n",
        "\n",
        "    # We make sure action is within bounds\n",
        "    legal_action = np.clip(sampled_actions, lower_bound, upper_bound)\n",
        "\n",
        "    return [np.squeeze(legal_action)]\n"
      ],
      "execution_count": null,
      "outputs": []
    },
    {
      "cell_type": "markdown",
      "metadata": {
        "id": "UxShfc35y2O5"
      },
      "source": [
        "## Training hyperparameters"
      ]
    },
    {
      "cell_type": "code",
      "metadata": {
        "id": "3nOW5iidy2O5"
      },
      "source": [
        "std_dev = 0.2\n",
        "ou_noise = OUActionNoise(mean=np.zeros(1), std_deviation=float(std_dev) * np.ones(1))\n",
        "\n",
        "actor_model = get_actor()\n",
        "critic_model = get_critic()\n",
        "\n",
        "target_actor = get_actor()\n",
        "target_critic = get_critic()\n",
        "\n",
        "# Making the weights equal initially\n",
        "target_actor.set_weights(actor_model.get_weights())\n",
        "target_critic.set_weights(critic_model.get_weights())\n",
        "\n",
        "# Learning rate for actor-critic models\n",
        "critic_lr = 0.002\n",
        "actor_lr = 0.001\n",
        "\n",
        "critic_optimizer = tf.keras.optimizers.Adam(critic_lr)\n",
        "actor_optimizer = tf.keras.optimizers.Adam(actor_lr)\n",
        "\n",
        "total_episodes = 100\n",
        "# Discount factor for future rewards\n",
        "gamma = 0.99\n",
        "# Used to update target networks\n",
        "tau = 0.005\n",
        "\n",
        "buffer = Buffer(50000, 64)"
      ],
      "execution_count": null,
      "outputs": []
    },
    {
      "cell_type": "markdown",
      "metadata": {
        "id": "eGiqN-Cvy2O5"
      },
      "source": [
        "Now we implement our main training loop, and iterate over episodes.\n",
        "We sample actions using `policy()` and train with `learn()` at each time step,\n",
        "along with updating the Target networks at a rate `tau`."
      ]
    },
    {
      "cell_type": "code",
      "metadata": {
        "id": "98wQRW03y2O5",
        "colab": {
          "base_uri": "https://localhost:8080/",
          "height": 1000
        },
        "outputId": "2d7c8f25-06ce-47be-bbf3-4e20b9920130"
      },
      "source": [
        "# To store reward history of each episode\n",
        "ep_reward_list = []\n",
        "# To store average reward history of last few episodes\n",
        "avg_reward_list = []\n",
        "\n",
        "# Takes about 4 min to train\n",
        "for ep in range(total_episodes):\n",
        "\n",
        "    prev_state = env.reset()\n",
        "    episodic_reward = 0\n",
        "\n",
        "    while True:\n",
        "        # Uncomment this to see the Actor in action\n",
        "        # But not in a python notebook.\n",
        "        # env.render()\n",
        "\n",
        "        tf_prev_state = tf.expand_dims(tf.convert_to_tensor(prev_state), 0)\n",
        "\n",
        "        action = policy(tf_prev_state, ou_noise)\n",
        "        # Recieve state and reward from environment.\n",
        "        state, reward, done, info = env.step(action)\n",
        "\n",
        "        buffer.record((prev_state, action, reward, state))\n",
        "        episodic_reward += reward\n",
        "\n",
        "        buffer.learn()\n",
        "        update_target(target_actor.variables, actor_model.variables, tau)\n",
        "        update_target(target_critic.variables, critic_model.variables, tau)\n",
        "\n",
        "        # End this episode when `done` is True\n",
        "        if done:\n",
        "            break\n",
        "\n",
        "        prev_state = state\n",
        "\n",
        "    ep_reward_list.append(episodic_reward)\n",
        "\n",
        "    # Mean of last 40 episodes\n",
        "    avg_reward = np.mean(ep_reward_list[-40:])\n",
        "    print(\"Episode * {} * Avg Reward is ==> {}\".format(ep, avg_reward))\n",
        "    avg_reward_list.append(avg_reward)\n",
        "\n",
        "# Plotting graph\n",
        "# Episodes versus Avg. Rewards\n",
        "plt.plot(avg_reward_list)\n",
        "plt.xlabel(\"Episode\")\n",
        "plt.ylabel(\"Avg. Epsiodic Reward\")\n",
        "plt.show()"
      ],
      "execution_count": null,
      "outputs": [
        {
          "output_type": "stream",
          "text": [
            "Episode * 0 * Avg Reward is ==> -1224.9826731412543\n",
            "Episode * 1 * Avg Reward is ==> -1169.3630616066212\n",
            "Episode * 2 * Avg Reward is ==> -1296.6107751237641\n",
            "Episode * 3 * Avg Reward is ==> -1359.0092889187333\n",
            "Episode * 4 * Avg Reward is ==> -1388.6434132923357\n",
            "Episode * 5 * Avg Reward is ==> -1407.9994481116537\n",
            "Episode * 6 * Avg Reward is ==> -1422.139558311743\n",
            "Episode * 7 * Avg Reward is ==> -1396.664229535639\n",
            "Episode * 8 * Avg Reward is ==> -1379.6112880658363\n",
            "Episode * 9 * Avg Reward is ==> -1334.073204145729\n",
            "Episode * 10 * Avg Reward is ==> -1309.6788518707908\n",
            "Episode * 11 * Avg Reward is ==> -1268.0636864807082\n",
            "Episode * 12 * Avg Reward is ==> -1237.88370233957\n",
            "Episode * 13 * Avg Reward is ==> -1207.5530744243058\n",
            "Episode * 14 * Avg Reward is ==> -1127.5115768022595\n",
            "Episode * 15 * Avg Reward is ==> -1081.9563414946638\n",
            "Episode * 16 * Avg Reward is ==> -1041.4175218263017\n",
            "Episode * 17 * Avg Reward is ==> -998.3783338630716\n",
            "Episode * 18 * Avg Reward is ==> -965.5615547547935\n",
            "Episode * 19 * Avg Reward is ==> -929.7882230289263\n",
            "Episode * 20 * Avg Reward is ==> -891.47092088098\n",
            "Episode * 21 * Avg Reward is ==> -857.0238550000072\n",
            "Episode * 22 * Avg Reward is ==> -825.3514185690966\n",
            "Episode * 23 * Avg Reward is ==> -796.5297044310701\n",
            "Episode * 24 * Avg Reward is ==> -769.8781738995254\n",
            "Episode * 25 * Avg Reward is ==> -745.1105069220074\n",
            "Episode * 26 * Avg Reward is ==> -722.3210737510128\n",
            "Episode * 27 * Avg Reward is ==> -705.0076690554017\n",
            "Episode * 28 * Avg Reward is ==> -697.8834213327483\n",
            "Episode * 29 * Avg Reward is ==> -679.0127912564396\n",
            "Episode * 30 * Avg Reward is ==> -664.9152561936011\n",
            "Episode * 31 * Avg Reward is ==> -648.3326457183324\n",
            "Episode * 32 * Avg Reward is ==> -640.1298163201018\n",
            "Episode * 33 * Avg Reward is ==> -624.7767803167297\n",
            "Episode * 34 * Avg Reward is ==> -610.7436084333209\n",
            "Episode * 35 * Avg Reward is ==> -603.5856635350476\n",
            "Episode * 36 * Avg Reward is ==> -597.4839469326253\n",
            "Episode * 37 * Avg Reward is ==> -588.1893914078236\n",
            "Episode * 38 * Avg Reward is ==> -579.3832569327077\n",
            "Episode * 39 * Avg Reward is ==> -571.5210154013545\n",
            "Episode * 40 * Avg Reward is ==> -544.0052455245503\n",
            "Episode * 41 * Avg Reward is ==> -524.6489762397252\n",
            "Episode * 42 * Avg Reward is ==> -489.035393034795\n",
            "Episode * 43 * Avg Reward is ==> -453.3782059011977\n",
            "Episode * 44 * Avg Reward is ==> -418.69211927568523\n",
            "Episode * 45 * Avg Reward is ==> -387.0146709909207\n",
            "Episode * 46 * Avg Reward is ==> -349.51696722593863\n",
            "Episode * 47 * Avg Reward is ==> -319.39091479285713\n",
            "Episode * 48 * Avg Reward is ==> -290.4390296706896\n",
            "Episode * 49 * Avg Reward is ==> -273.8460452403475\n",
            "Episode * 50 * Avg Reward is ==> -250.42659926703536\n",
            "Episode * 51 * Avg Reward is ==> -233.25624865133256\n",
            "Episode * 52 * Avg Reward is ==> -220.67160854001312\n",
            "Episode * 53 * Avg Reward is ==> -203.4160657603988\n",
            "Episode * 54 * Avg Reward is ==> -206.53387153588272\n",
            "Episode * 55 * Avg Reward is ==> -199.55659565777458\n",
            "Episode * 56 * Avg Reward is ==> -195.86718163381965\n",
            "Episode * 57 * Avg Reward is ==> -189.21957426604942\n",
            "Episode * 58 * Avg Reward is ==> -183.03327923513578\n",
            "Episode * 59 * Avg Reward is ==> -179.78161697297966\n",
            "Episode * 60 * Avg Reward is ==> -179.59905645971753\n",
            "Episode * 61 * Avg Reward is ==> -181.99540541462562\n",
            "Episode * 62 * Avg Reward is ==> -181.88987711183844\n",
            "Episode * 63 * Avg Reward is ==> -184.63609563247672\n",
            "Episode * 64 * Avg Reward is ==> -184.35999292854072\n",
            "Episode * 65 * Avg Reward is ==> -186.93783603309393\n",
            "Episode * 66 * Avg Reward is ==> -186.78308709805435\n",
            "Episode * 67 * Avg Reward is ==> -186.60153891374725\n",
            "Episode * 68 * Avg Reward is ==> -180.32207103903747\n",
            "Episode * 69 * Avg Reward is ==> -183.07527042910766\n",
            "Episode * 70 * Avg Reward is ==> -182.61857163518226\n",
            "Episode * 71 * Avg Reward is ==> -182.4172951470043\n",
            "Episode * 72 * Avg Reward is ==> -175.86783524687843\n",
            "Episode * 73 * Avg Reward is ==> -175.91299838089188\n",
            "Episode * 74 * Avg Reward is ==> -175.50301558393053\n",
            "Episode * 75 * Avg Reward is ==> -169.94632787776118\n",
            "Episode * 76 * Avg Reward is ==> -163.54726731896616\n",
            "Episode * 77 * Avg Reward is ==> -163.556577183191\n",
            "Episode * 78 * Avg Reward is ==> -157.4843727366539\n",
            "Episode * 79 * Avg Reward is ==> -153.8123725408264\n",
            "Episode * 80 * Avg Reward is ==> -156.63980866825514\n",
            "Episode * 81 * Avg Reward is ==> -148.17500415330582\n",
            "Episode * 82 * Avg Reward is ==> -148.1225041214099\n",
            "Episode * 83 * Avg Reward is ==> -148.26557927451032\n",
            "Episode * 84 * Avg Reward is ==> -145.36512650691697\n",
            "Episode * 85 * Avg Reward is ==> -142.43392227434168\n",
            "Episode * 86 * Avg Reward is ==> -145.26016140095848\n",
            "Episode * 87 * Avg Reward is ==> -144.98570068689642\n",
            "Episode * 88 * Avg Reward is ==> -146.0321971138669\n",
            "Episode * 89 * Avg Reward is ==> -145.6511857343462\n",
            "Episode * 90 * Avg Reward is ==> -151.7203737360354\n",
            "Episode * 91 * Avg Reward is ==> -151.78899396609603\n",
            "Episode * 92 * Avg Reward is ==> -145.59346711967007\n",
            "Episode * 93 * Avg Reward is ==> -148.5765903304196\n",
            "Episode * 94 * Avg Reward is ==> -145.3383256845845\n",
            "Episode * 95 * Avg Reward is ==> -145.52967530851566\n",
            "Episode * 96 * Avg Reward is ==> -142.40355779220388\n",
            "Episode * 97 * Avg Reward is ==> -145.42419712552004\n",
            "Episode * 98 * Avg Reward is ==> -147.94104850344792\n",
            "Episode * 99 * Avg Reward is ==> -145.03849311966567\n"
          ],
          "name": "stdout"
        },
        {
          "output_type": "display_data",
          "data": {
            "image/png": "[encoded data removed]",
            "text/plain": [
              "<Figure size 432x288 with 1 Axes>"
            ]
          },
          "metadata": {
            "tags": [],
            "needs_background": "light"
          }
        }
      ]
    },
    {
      "cell_type": "markdown",
      "metadata": {
        "id": "iWgMuVC7y2O5"
      },
      "source": [
        "If training proceeds correctly, the average episodic reward will increase with time.\n",
        "\n",
        "Feel free to try different learning rates, `tau` values, and architectures for the\n",
        "Actor and Critic networks.\n",
        "\n",
        "The Inverted Pendulum problem has low complexity, but DDPG work great on many other\n",
        "problems.\n",
        "\n",
        "Another great environment to try this on is `LunarLandingContinuous-v2`, but it will take\n",
        "more episodes to obtain good results."
      ]
    },
    {
      "cell_type": "code",
      "metadata": {
        "id": "9Cfgsjhry2O5"
      },
      "source": [
        "# Save the weights\n",
        "actor_model.save_weights(\"pendulum_actor.h5\")\n",
        "critic_model.save_weights(\"pendulum_critic.h5\")\n",
        "\n",
        "target_actor.save_weights(\"pendulum_target_actor.h5\")\n",
        "target_critic.save_weights(\"pendulum_target_critic.h5\")"
      ],
      "execution_count": null,
      "outputs": []
    },
    {
      "cell_type": "markdown",
      "metadata": {
        "id": "c9KsX-n9y2O5"
      },
      "source": [
        "Before Training:\n",
        "\n",
        "![before_img](https://i.imgur.com/ox6b9rC.gif)"
      ]
    },
    {
      "cell_type": "markdown",
      "metadata": {
        "id": "buT3NIqEy2O5"
      },
      "source": [
        "After 100 episodes:\n",
        "\n",
        "![after_img](https://i.imgur.com/eEH8Cz6.gif)"
      ]
    }
  ]
}