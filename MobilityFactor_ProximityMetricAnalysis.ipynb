{
  "nbformat": 4,
  "nbformat_minor": 0,
  "metadata": {
    "colab": {
      "name": "MobilityFactor- ProximityMetricAnalysis.ipynb",
      "provenance": [],
      "toc_visible": true,
      "authorship_tag": "ABX9TyNB8FdxszClSvzyf5ObNW0y",
      "include_colab_link": true
    },
    "kernelspec": {
      "name": "python3",
      "display_name": "Python 3"
    }
  },
  "cells": [
    {
      "cell_type": "markdown",
      "metadata": {
        "id": "view-in-github",
        "colab_type": "text"
      },
      "source": [
        "<a href=\"https://colab.research.google.com/github/aarsanjani/meansquares/blob/master/MobilityFactor_ProximityMetricAnalysis.ipynb\" target=\"_parent\"><img src=\"https://colab.research.google.com/assets/colab-badge.svg\" alt=\"Open In Colab\"/></a>"
      ]
    },
    {
      "cell_type": "markdown",
      "metadata": {
        "id": "uOtnT8SUbDxV",
        "colab_type": "text"
      },
      "source": [
        "# Data source  \n",
        "\n",
        "* https://github.com/ActiveConclusion/COVID19_mobility"
      ]
    },
    {
      "cell_type": "markdown",
      "metadata": {
        "id": "zXmEUEWSbPe2",
        "colab_type": "text"
      },
      "source": [
        "## Google Mobility Data "
      ]
    },
    {
      "cell_type": "code",
      "metadata": {
        "id": "6DEHHPgybhuv",
        "colab_type": "code",
        "colab": {
          "base_uri": "https://localhost:8080/",
          "height": 190
        },
        "outputId": "1f0bc07c-c232-42f8-ca3c-2e3fc638c196"
      },
      "source": [
        "!pip install wget"
      ],
      "execution_count": null,
      "outputs": [
        {
          "output_type": "stream",
          "text": [
            "Collecting wget\n",
            "  Downloading https://files.pythonhosted.org/packages/47/6a/62e288da7bcda82b935ff0c6cfe542970f04e29c756b0e147251b2fb251f/wget-3.2.zip\n",
            "Building wheels for collected packages: wget\n",
            "  Building wheel for wget (setup.py) ... \u001b[?25l\u001b[?25hdone\n",
            "  Created wheel for wget: filename=wget-3.2-cp36-none-any.whl size=9682 sha256=2e278fd07d6379402d1983d1f175d18e0ffea0d663d0e7ab729e7f011e7a0b91\n",
            "  Stored in directory: /root/.cache/pip/wheels/40/15/30/7d8f7cea2902b4db79e3fea550d7d7b85ecb27ef992b618f3f\n",
            "Successfully built wget\n",
            "Installing collected packages: wget\n",
            "Successfully installed wget-3.2\n"
          ],
          "name": "stdout"
        }
      ]
    },
    {
      "cell_type": "code",
      "metadata": {
        "id": "eJOF-zkHbpNE",
        "colab_type": "code",
        "colab": {
          "base_uri": "https://localhost:8080/",
          "height": 71
        },
        "outputId": "5444db65-53ca-4ce2-a1f4-cb3ce141b3c5"
      },
      "source": [
        "import pandas as pd\n",
        "import seaborn as sns\n",
        "import numpy as np\n",
        "import matplotlib.pyplot as plt\n",
        "import os\n",
        "import wget\n",
        "from pandas import Series, datetime\n",
        "from pandas.plotting import scatter_matrix, autocorrelation_plot\n",
        "from sklearn.preprocessing import StandardScaler, RobustScaler\n",
        "from sklearn.model_selection import train_test_split, KFold, cross_val_score, GridSearchCV, TimeSeriesSplit\n",
        "from sklearn import metrics\n",
        "from sklearn.metrics import classification_report, confusion_matrix, accuracy_score, mean_squared_error\n",
        "from sklearn.pipeline import Pipeline\n",
        "from sklearn.linear_model import LogisticRegression\n",
        "from sklearn.tree import DecisionTreeClassifier\n",
        "from sklearn.neighbors import KNeighborsClassifier\n",
        "from sklearn.discriminant_analysis import LinearDiscriminantAnalysis\n",
        "from sklearn.naive_bayes import GaussianNB\n",
        "from sklearn.cluster import KMeans\n",
        "from sklearn.svm import SVC\n",
        "from sklearn.ensemble import AdaBoostClassifier, GradientBoostingClassifier, RandomForestClassifier, ExtraTreesClassifier\n",
        "from sklearn.metrics import roc_curve, auc\n",
        "import random\n",
        "from statsmodels.graphics.tsaplots import plot_acf, plot_pacf\n",
        "from statsmodels.tsa.arima_model import ARIMA\n",
        "from xgboost import XGBClassifier\n",
        "from sklearn.mixture import GaussianMixture"
      ],
      "execution_count": null,
      "outputs": [
        {
          "output_type": "stream",
          "text": [
            "/usr/local/lib/python3.6/dist-packages/statsmodels/tools/_testing.py:19: FutureWarning: pandas.util.testing is deprecated. Use the functions in the public API at pandas.testing instead.\n",
            "  import pandas.util.testing as tm\n"
          ],
          "name": "stderr"
        }
      ]
    },
    {
      "cell_type": "code",
      "metadata": {
        "id": "-_C1aBVYazVz",
        "colab_type": "code",
        "colab": {}
      },
      "source": [
        "google_data_url = 'https://raw.githubusercontent.com/ActiveConclusion/COVID19_mobility/master/google_reports/mobility_report_US.csv'\n",
        "\n",
        "google_filename = wget.download(google_data_url)"
      ],
      "execution_count": null,
      "outputs": []
    },
    {
      "cell_type": "code",
      "metadata": {
        "id": "FGpOEtIJbsgG",
        "colab_type": "code",
        "colab": {
          "base_uri": "https://localhost:8080/",
          "height": 179
        },
        "outputId": "c511de67-7020-4efa-94f3-521693157288"
      },
      "source": [
        "google_mobility_data = pd.read_csv(google_filename,low_memory=False)\n",
        "google_mobility_data.head(2)"
      ],
      "execution_count": null,
      "outputs": [
        {
          "output_type": "execute_result",
          "data": {
            "text/html": [
              "<div>\n",
              "<style scoped>\n",
              "    .dataframe tbody tr th:only-of-type {\n",
              "        vertical-align: middle;\n",
              "    }\n",
              "\n",
              "    .dataframe tbody tr th {\n",
              "        vertical-align: top;\n",
              "    }\n",
              "\n",
              "    .dataframe thead th {\n",
              "        text-align: right;\n",
              "    }\n",
              "</style>\n",
              "<table border=\"1\" class=\"dataframe\">\n",
              "  <thead>\n",
              "    <tr style=\"text-align: right;\">\n",
              "      <th></th>\n",
              "      <th>state</th>\n",
              "      <th>county</th>\n",
              "      <th>date</th>\n",
              "      <th>retail and recreation</th>\n",
              "      <th>grocery and pharmacy</th>\n",
              "      <th>parks</th>\n",
              "      <th>transit stations</th>\n",
              "      <th>workplaces</th>\n",
              "      <th>residential</th>\n",
              "    </tr>\n",
              "  </thead>\n",
              "  <tbody>\n",
              "    <tr>\n",
              "      <th>0</th>\n",
              "      <td>Total</td>\n",
              "      <td>Total</td>\n",
              "      <td>2020-02-15</td>\n",
              "      <td>6.0</td>\n",
              "      <td>2.0</td>\n",
              "      <td>15.0</td>\n",
              "      <td>3.0</td>\n",
              "      <td>2.0</td>\n",
              "      <td>-1.0</td>\n",
              "    </tr>\n",
              "    <tr>\n",
              "      <th>1</th>\n",
              "      <td>Total</td>\n",
              "      <td>Total</td>\n",
              "      <td>2020-02-16</td>\n",
              "      <td>7.0</td>\n",
              "      <td>1.0</td>\n",
              "      <td>16.0</td>\n",
              "      <td>2.0</td>\n",
              "      <td>0.0</td>\n",
              "      <td>-1.0</td>\n",
              "    </tr>\n",
              "  </tbody>\n",
              "</table>\n",
              "</div>"
            ],
            "text/plain": [
              "   state county        date  ...  transit stations  workplaces  residential\n",
              "0  Total  Total  2020-02-15  ...               3.0         2.0         -1.0\n",
              "1  Total  Total  2020-02-16  ...               2.0         0.0         -1.0\n",
              "\n",
              "[2 rows x 9 columns]"
            ]
          },
          "metadata": {
            "tags": []
          },
          "execution_count": 5
        }
      ]
    },
    {
      "cell_type": "markdown",
      "metadata": {
        "id": "fXDeCB3wb35D",
        "colab_type": "text"
      },
      "source": [
        "Note: This dataset has only US data, hence I am filtering state 'California' "
      ]
    },
    {
      "cell_type": "code",
      "metadata": {
        "id": "XVvUzxcEb13T",
        "colab_type": "code",
        "colab": {
          "base_uri": "https://localhost:8080/",
          "height": 216
        },
        "outputId": "a80774e8-ec43-4c83-8055-4f6770c249fa"
      },
      "source": [
        "CA_GoogleMobility_data = google_mobility_data[google_mobility_data['state'] == 'California']\n",
        "print(CA_GoogleMobility_data.shape)\n",
        "CA_GoogleMobility_data.tail(2)"
      ],
      "execution_count": null,
      "outputs": [
        {
          "output_type": "stream",
          "text": [
            "(9981, 9)\n"
          ],
          "name": "stdout"
        },
        {
          "output_type": "execute_result",
          "data": {
            "text/html": [
              "<div>\n",
              "<style scoped>\n",
              "    .dataframe tbody tr th:only-of-type {\n",
              "        vertical-align: middle;\n",
              "    }\n",
              "\n",
              "    .dataframe tbody tr th {\n",
              "        vertical-align: top;\n",
              "    }\n",
              "\n",
              "    .dataframe thead th {\n",
              "        text-align: right;\n",
              "    }\n",
              "</style>\n",
              "<table border=\"1\" class=\"dataframe\">\n",
              "  <thead>\n",
              "    <tr style=\"text-align: right;\">\n",
              "      <th></th>\n",
              "      <th>state</th>\n",
              "      <th>county</th>\n",
              "      <th>date</th>\n",
              "      <th>retail and recreation</th>\n",
              "      <th>grocery and pharmacy</th>\n",
              "      <th>parks</th>\n",
              "      <th>transit stations</th>\n",
              "      <th>workplaces</th>\n",
              "      <th>residential</th>\n",
              "    </tr>\n",
              "  </thead>\n",
              "  <tbody>\n",
              "    <tr>\n",
              "      <th>37857</th>\n",
              "      <td>California</td>\n",
              "      <td>Yuba County</td>\n",
              "      <td>2020-08-08</td>\n",
              "      <td>-11.0</td>\n",
              "      <td>17.0</td>\n",
              "      <td>NaN</td>\n",
              "      <td>NaN</td>\n",
              "      <td>-15.0</td>\n",
              "      <td>2.0</td>\n",
              "    </tr>\n",
              "    <tr>\n",
              "      <th>37858</th>\n",
              "      <td>California</td>\n",
              "      <td>Yuba County</td>\n",
              "      <td>2020-08-09</td>\n",
              "      <td>-1.0</td>\n",
              "      <td>19.0</td>\n",
              "      <td>NaN</td>\n",
              "      <td>NaN</td>\n",
              "      <td>-18.0</td>\n",
              "      <td>1.0</td>\n",
              "    </tr>\n",
              "  </tbody>\n",
              "</table>\n",
              "</div>"
            ],
            "text/plain": [
              "            state       county  ... workplaces  residential\n",
              "37857  California  Yuba County  ...      -15.0          2.0\n",
              "37858  California  Yuba County  ...      -18.0          1.0\n",
              "\n",
              "[2 rows x 9 columns]"
            ]
          },
          "metadata": {
            "tags": []
          },
          "execution_count": 7
        }
      ]
    },
    {
      "cell_type": "markdown",
      "metadata": {
        "id": "eVrxuxpKcca6",
        "colab_type": "text"
      },
      "source": [
        "### Data Information\n",
        "\n",
        "Google captures People's purpose of visit\n",
        "\n",
        "* Retail and Recreation\n",
        "* Grocery and Pharmacy\n",
        "* Parks\n",
        "* Transit stations\n",
        "* Workplaces\n",
        "* Residential\n",
        "\n",
        "\n",
        "**Google note:** These Community Mobility Reports aim to provide insights into what has changed in response to policies aimed at combating COVID-19. The reports chart movement trends over time by geography, across different categories of places such as retail and recreation, groceries and pharmacies, parks, transit stations, workplaces, and residential."
      ]
    },
    {
      "cell_type": "markdown",
      "metadata": {
        "id": "1ekh1I9sdKE8",
        "colab_type": "text"
      },
      "source": [
        "## Apple Mobility data "
      ]
    },
    {
      "cell_type": "code",
      "metadata": {
        "id": "WCUsTk9VcXnz",
        "colab_type": "code",
        "colab": {}
      },
      "source": [
        "apple_report_url = 'https://raw.githubusercontent.com/ActiveConclusion/COVID19_mobility/master/apple_reports/apple_mobility_report_US.csv'\n",
        "\n",
        "apple_filename = wget.download(apple_report_url)"
      ],
      "execution_count": null,
      "outputs": []
    },
    {
      "cell_type": "code",
      "metadata": {
        "id": "Hge647EPdcPz",
        "colab_type": "code",
        "colab": {
          "base_uri": "https://localhost:8080/",
          "height": 111
        },
        "outputId": "b49549a1-9c64-4081-90c8-f2047503c77d"
      },
      "source": [
        "apple_mobility_data = pd.read_csv(apple_filename,low_memory=False)\n",
        "apple_mobility_data.tail(2)"
      ],
      "execution_count": null,
      "outputs": [
        {
          "output_type": "execute_result",
          "data": {
            "text/html": [
              "<div>\n",
              "<style scoped>\n",
              "    .dataframe tbody tr th:only-of-type {\n",
              "        vertical-align: middle;\n",
              "    }\n",
              "\n",
              "    .dataframe tbody tr th {\n",
              "        vertical-align: top;\n",
              "    }\n",
              "\n",
              "    .dataframe thead th {\n",
              "        text-align: right;\n",
              "    }\n",
              "</style>\n",
              "<table border=\"1\" class=\"dataframe\">\n",
              "  <thead>\n",
              "    <tr style=\"text-align: right;\">\n",
              "      <th></th>\n",
              "      <th>state</th>\n",
              "      <th>county_and_city</th>\n",
              "      <th>geo_type</th>\n",
              "      <th>date</th>\n",
              "      <th>driving</th>\n",
              "      <th>transit</th>\n",
              "      <th>walking</th>\n",
              "    </tr>\n",
              "  </thead>\n",
              "  <tbody>\n",
              "    <tr>\n",
              "      <th>473758</th>\n",
              "      <td>Wyoming</td>\n",
              "      <td>Uinta County</td>\n",
              "      <td>county</td>\n",
              "      <td>2020-08-10</td>\n",
              "      <td>259.61</td>\n",
              "      <td>NaN</td>\n",
              "      <td>NaN</td>\n",
              "    </tr>\n",
              "    <tr>\n",
              "      <th>473759</th>\n",
              "      <td>Wyoming</td>\n",
              "      <td>Uinta County</td>\n",
              "      <td>county</td>\n",
              "      <td>2020-08-11</td>\n",
              "      <td>258.68</td>\n",
              "      <td>NaN</td>\n",
              "      <td>NaN</td>\n",
              "    </tr>\n",
              "  </tbody>\n",
              "</table>\n",
              "</div>"
            ],
            "text/plain": [
              "          state county_and_city geo_type        date  driving  transit  walking\n",
              "473758  Wyoming    Uinta County   county  2020-08-10   259.61      NaN      NaN\n",
              "473759  Wyoming    Uinta County   county  2020-08-11   258.68      NaN      NaN"
            ]
          },
          "metadata": {
            "tags": []
          },
          "execution_count": 10
        }
      ]
    },
    {
      "cell_type": "code",
      "metadata": {
        "id": "z3wYdSHhdiO7",
        "colab_type": "code",
        "colab": {
          "base_uri": "https://localhost:8080/",
          "height": 128
        },
        "outputId": "b4837e1f-0315-4397-a5fd-2e3cf15b649f"
      },
      "source": [
        "CA_AppleMobility_data = apple_mobility_data[apple_mobility_data['state'] == 'California']\n",
        "print(CA_AppleMobility_data.shape)\n",
        "CA_AppleMobility_data.tail(2)\n"
      ],
      "execution_count": null,
      "outputs": [
        {
          "output_type": "stream",
          "text": [
            "(15750, 7)\n"
          ],
          "name": "stdout"
        },
        {
          "output_type": "execute_result",
          "data": {
            "text/html": [
              "<div>\n",
              "<style scoped>\n",
              "    .dataframe tbody tr th:only-of-type {\n",
              "        vertical-align: middle;\n",
              "    }\n",
              "\n",
              "    .dataframe tbody tr th {\n",
              "        vertical-align: top;\n",
              "    }\n",
              "\n",
              "    .dataframe thead th {\n",
              "        text-align: right;\n",
              "    }\n",
              "</style>\n",
              "<table border=\"1\" class=\"dataframe\">\n",
              "  <thead>\n",
              "    <tr style=\"text-align: right;\">\n",
              "      <th></th>\n",
              "      <th>state</th>\n",
              "      <th>county_and_city</th>\n",
              "      <th>geo_type</th>\n",
              "      <th>date</th>\n",
              "      <th>driving</th>\n",
              "      <th>transit</th>\n",
              "      <th>walking</th>\n",
              "    </tr>\n",
              "  </thead>\n",
              "  <tbody>\n",
              "    <tr>\n",
              "      <th>42838</th>\n",
              "      <td>California</td>\n",
              "      <td>Yuba County</td>\n",
              "      <td>county</td>\n",
              "      <td>2020-08-10</td>\n",
              "      <td>65.03</td>\n",
              "      <td>NaN</td>\n",
              "      <td>NaN</td>\n",
              "    </tr>\n",
              "    <tr>\n",
              "      <th>42839</th>\n",
              "      <td>California</td>\n",
              "      <td>Yuba County</td>\n",
              "      <td>county</td>\n",
              "      <td>2020-08-11</td>\n",
              "      <td>60.60</td>\n",
              "      <td>NaN</td>\n",
              "      <td>NaN</td>\n",
              "    </tr>\n",
              "  </tbody>\n",
              "</table>\n",
              "</div>"
            ],
            "text/plain": [
              "            state county_and_city geo_type  ... driving  transit  walking\n",
              "42838  California     Yuba County   county  ...   65.03      NaN      NaN\n",
              "42839  California     Yuba County   county  ...   60.60      NaN      NaN\n",
              "\n",
              "[2 rows x 7 columns]"
            ]
          },
          "metadata": {
            "tags": []
          },
          "execution_count": 11
        }
      ]
    },
    {
      "cell_type": "markdown",
      "metadata": {
        "id": "Gr4VRaw6dvz8",
        "colab_type": "text"
      },
      "source": [
        "### Data information\n",
        "\n",
        "Apple mobility data has the following columns\n",
        "* driving\n",
        "* transit\n",
        "* walking\n",
        "\n",
        "**Apple note**: The CSV file shows a relative volume of directions requests per country/region or city compared to a baseline volume on January 13th, 2020.\n",
        "\n",
        "Day defined as midnight-to-midnight, Pacific time. Cities represent usage in greater metropolitan areas and are stably defined during this period. In many countries/regions and cities, relative volume has increased since January 13th, consistent with normal, seasonal usage of Apple Maps. Day of week effects are important to normalize as you use this data. "
      ]
    },
    {
      "cell_type": "markdown",
      "metadata": {
        "id": "kPTg3l78f9yK",
        "colab_type": "text"
      },
      "source": [
        "## Amalgamation of Google and Apple data"
      ]
    },
    {
      "cell_type": "code",
      "metadata": {
        "id": "ZEIqmXf2gG5k",
        "colab_type": "code",
        "colab": {}
      },
      "source": [
        "merged_data = pd.concat()"
      ],
      "execution_count": null,
      "outputs": []
    }
  ]
}