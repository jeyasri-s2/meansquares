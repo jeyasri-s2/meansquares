{
  "nbformat": 4,
  "nbformat_minor": 0,
  "metadata": {
    "colab": {
      "name": "SARIMAX-countyLevelForRegions.ipynb",
      "provenance": [],
      "collapsed_sections": [],
      "toc_visible": true,
      "machine_shape": "hm",
      "include_colab_link": true
    },
    "kernelspec": {
      "display_name": "Python 3",
      "name": "python3"
    },
    "language_info": {
      "name": "python"
    },
    "accelerator": "GPU"
  },
  "cells": [
    {
      "cell_type": "markdown",
      "metadata": {
        "id": "view-in-github",
        "colab_type": "text"
      },
      "source": [
        "<a href=\"https://colab.research.google.com/github/aarsanjani/meansquares/blob/master/version2/modeling/SARIMAX/SARIMAX_countyLevelForRegions.ipynb\" target=\"_parent\"><img src=\"https://colab.research.google.com/assets/colab-badge.svg\" alt=\"Open In Colab\"/></a>"
      ]
    },
    {
      "cell_type": "markdown",
      "metadata": {
        "id": "DAwiWlV-PCjp"
      },
      "source": [
        "# SARIMAX Prediction for COVID Cases\n",
        "\n",
        "https://github.com/Violet-Spiral/covid-xprize/blob/main/models/sarima_models.ipynb"
      ]
    },
    {
      "cell_type": "markdown",
      "metadata": {
        "id": "IAZ7AJ5MPGeT"
      },
      "source": [
        "## Imports"
      ]
    },
    {
      "cell_type": "code",
      "metadata": {
        "colab": {
          "base_uri": "https://localhost:8080/"
        },
        "id": "jPMcUibrO7b6",
        "outputId": "d499a5f3-65c3-4a07-cc5d-28682a42113b"
      },
      "source": [
        "from google.colab import drive\n",
        "drive.mount('/content/drive',force_remount=True)"
      ],
      "execution_count": 1,
      "outputs": [
        {
          "output_type": "stream",
          "text": [
            "Mounted at /content/drive\n"
          ],
          "name": "stdout"
        }
      ]
    },
    {
      "cell_type": "code",
      "metadata": {
        "colab": {
          "base_uri": "https://localhost:8080/"
        },
        "id": "7xuVEUiKPPW7",
        "outputId": "60bce11b-2bce-4209-86e2-90800b8370dd"
      },
      "source": [
        "import pandas as pd\n",
        "import numpy as np\n",
        "from statsmodels.tsa.seasonal import seasonal_decompose\n",
        "from statsmodels.graphics.tsaplots import plot_acf, plot_pacf\n",
        "from statsmodels.tsa.statespace.sarimax import SARIMAX\n",
        "import matplotlib.pyplot as plt\n",
        "plt.style.use('fivethirtyeight')\n",
        "plt.rcParams['figure.figsize'] = (15,10)\n",
        "from sklearn.metrics import mean_squared_error\n",
        "#import sys\n",
        "#from pathlib import Path\n",
        "#import sys\n",
        "#sys.path.append(\"../\")\n",
        "#from src.model_testing import *\n",
        "\n",
        "import plotly.graph_objects as go\n",
        "\n",
        "import pickle\n",
        "from tqdm import tqdm\n",
        "\n",
        "pd.set_option('display.max_rows', 10)"
      ],
      "execution_count": 2,
      "outputs": [
        {
          "output_type": "stream",
          "text": [
            "/usr/local/lib/python3.7/dist-packages/statsmodels/tools/_testing.py:19: FutureWarning: pandas.util.testing is deprecated. Use the functions in the public API at pandas.testing instead.\n",
            "  import pandas.util.testing as tm\n"
          ],
          "name": "stderr"
        }
      ]
    },
    {
      "cell_type": "markdown",
      "metadata": {
        "id": "hze3eSo7TuKX"
      },
      "source": [
        "## Util method"
      ]
    },
    {
      "cell_type": "code",
      "metadata": {
        "id": "sZZqOkSWSbEM"
      },
      "source": [
        "def mean_percent_error(y_test, y_hat):\n",
        "    from math import e\n",
        "    error = np.abs(y_test - y_hat)\n",
        "    percent_error = error/(y_test + e)\n",
        "    mean_percent_error = percent_error.sum() / len(y_test)\n",
        "    return mean_percent_error"
      ],
      "execution_count": 3,
      "outputs": []
    },
    {
      "cell_type": "markdown",
      "metadata": {
        "id": "f4k8XCG3PHrv"
      },
      "source": [
        "## Load Datasets"
      ]
    },
    {
      "cell_type": "code",
      "metadata": {
        "colab": {
          "base_uri": "https://localhost:8080/",
          "height": 333
        },
        "id": "dSkmDWR4Pd0o",
        "outputId": "f392052c-54b8-45be-dadd-7265bb9b0302"
      },
      "source": [
        "superset_data = pd.read_csv('/content/drive/Shared drives/CMPE 295- Master Project/projectdata-2021/AllStates_Superset_dataset_Mar26.csv',low_memory=False)\n",
        "superset_data.head()"
      ],
      "execution_count": 4,
      "outputs": [
        {
          "output_type": "execute_result",
          "data": {
            "text/html": [
              "<div>\n",
              "<style scoped>\n",
              "    .dataframe tbody tr th:only-of-type {\n",
              "        vertical-align: middle;\n",
              "    }\n",
              "\n",
              "    .dataframe tbody tr th {\n",
              "        vertical-align: top;\n",
              "    }\n",
              "\n",
              "    .dataframe thead th {\n",
              "        text-align: right;\n",
              "    }\n",
              "</style>\n",
              "<table border=\"1\" class=\"dataframe\">\n",
              "  <thead>\n",
              "    <tr style=\"text-align: right;\">\n",
              "      <th></th>\n",
              "      <th>Date</th>\n",
              "      <th>Province_State</th>\n",
              "      <th>FIPS</th>\n",
              "      <th>New cases</th>\n",
              "      <th>County Name</th>\n",
              "      <th>mask_rule_severity</th>\n",
              "      <th>m50</th>\n",
              "      <th>m50_index</th>\n",
              "      <th>retail_and_recreation_percent_change_from_baseline</th>\n",
              "      <th>grocery_and_pharmacy_percent_change_from_baseline</th>\n",
              "      <th>parks_percent_change_from_baseline</th>\n",
              "      <th>transit_stations_percent_change_from_baseline</th>\n",
              "      <th>workplaces_percent_change_from_baseline</th>\n",
              "      <th>residential_percent_change_from_baseline</th>\n",
              "      <th>PopDensity</th>\n",
              "      <th>State_Name</th>\n",
              "      <th>Social.distancing.index</th>\n",
              "      <th>X..staying.home</th>\n",
              "      <th>Trips.person</th>\n",
              "      <th>X..out.of.county.trips</th>\n",
              "      <th>X..out.of.state.trips</th>\n",
              "      <th>Miles.person</th>\n",
              "      <th>Work.trips.person</th>\n",
              "      <th>Non.work.trips.person</th>\n",
              "      <th>New.COVID.cases</th>\n",
              "      <th>Population</th>\n",
              "      <th>X..change.in.consumption</th>\n",
              "      <th>Transit.mode.share</th>\n",
              "      <th>X..people.older.than.60</th>\n",
              "      <th>Median.income</th>\n",
              "      <th>X..African.Americans</th>\n",
              "      <th>X..Hispanic.Americans</th>\n",
              "      <th>X..Male</th>\n",
              "      <th>Employment.density</th>\n",
              "      <th>X..hot.spots.1000.people</th>\n",
              "      <th>Hospital.beds.1000.people</th>\n",
              "      <th>ICUs.1000.people</th>\n",
              "      <th>X..contact.tracing.workers.1000.people</th>\n",
              "      <th>New.cases.1000.people</th>\n",
              "      <th>Active.cases.1000.people</th>\n",
              "      <th>X.days..decreasing.COVID.cases</th>\n",
              "      <th>X..hospital.bed.utilization</th>\n",
              "      <th>Testing.capacity</th>\n",
              "      <th>Tests.done.1000.people</th>\n",
              "      <th>X..ICU.utilization</th>\n",
              "      <th>Ventilator.shortage</th>\n",
              "      <th>Imported.COVID.cases</th>\n",
              "      <th>COVID.exposure.1000.people</th>\n",
              "      <th>X.days..decreasing.ILI.cases</th>\n",
              "      <th>Unemployment.claims.1000.people</th>\n",
              "      <th>Unemployment.rate</th>\n",
              "      <th>X..working.from.home</th>\n",
              "      <th>Cumulative.inflation.rate</th>\n",
              "      <th>COVID.death.rate</th>\n",
              "      <th>New Cases/100k population</th>\n",
              "      <th>rolling_avg_new_cases/100k</th>\n",
              "    </tr>\n",
              "  </thead>\n",
              "  <tbody>\n",
              "    <tr>\n",
              "      <th>0</th>\n",
              "      <td>2020-03-01</td>\n",
              "      <td>Alabama</td>\n",
              "      <td>1001</td>\n",
              "      <td>0</td>\n",
              "      <td>Autauga County</td>\n",
              "      <td>0.0</td>\n",
              "      <td>7.194</td>\n",
              "      <td>49</td>\n",
              "      <td>15.0</td>\n",
              "      <td>13.0</td>\n",
              "      <td>0.0</td>\n",
              "      <td>0.0</td>\n",
              "      <td>3.0</td>\n",
              "      <td>0.0</td>\n",
              "      <td>35.853419</td>\n",
              "      <td>Alabama</td>\n",
              "      <td>35</td>\n",
              "      <td>22</td>\n",
              "      <td>2.81</td>\n",
              "      <td>41.6</td>\n",
              "      <td>1.0</td>\n",
              "      <td>32.9</td>\n",
              "      <td>0.26</td>\n",
              "      <td>2.55</td>\n",
              "      <td>0</td>\n",
              "      <td>55601</td>\n",
              "      <td>-1.2</td>\n",
              "      <td>0.11</td>\n",
              "      <td>19</td>\n",
              "      <td>58786</td>\n",
              "      <td>19.0</td>\n",
              "      <td>2.8</td>\n",
              "      <td>48.68</td>\n",
              "      <td>19</td>\n",
              "      <td>101</td>\n",
              "      <td>3.79</td>\n",
              "      <td>0.33</td>\n",
              "      <td>0.025</td>\n",
              "      <td>0.0</td>\n",
              "      <td>0.0</td>\n",
              "      <td>37</td>\n",
              "      <td>47.1</td>\n",
              "      <td>0.0</td>\n",
              "      <td>0.0</td>\n",
              "      <td>0.0</td>\n",
              "      <td>0</td>\n",
              "      <td>0</td>\n",
              "      <td>0.0</td>\n",
              "      <td>28</td>\n",
              "      <td>0.4</td>\n",
              "      <td>3.5</td>\n",
              "      <td>3.2</td>\n",
              "      <td>0.3</td>\n",
              "      <td>0.0</td>\n",
              "      <td>0.0</td>\n",
              "      <td>0.0</td>\n",
              "    </tr>\n",
              "    <tr>\n",
              "      <th>1</th>\n",
              "      <td>2020-03-02</td>\n",
              "      <td>Alabama</td>\n",
              "      <td>1001</td>\n",
              "      <td>0</td>\n",
              "      <td>Autauga County</td>\n",
              "      <td>0.0</td>\n",
              "      <td>14.587</td>\n",
              "      <td>100</td>\n",
              "      <td>15.0</td>\n",
              "      <td>4.0</td>\n",
              "      <td>0.0</td>\n",
              "      <td>0.0</td>\n",
              "      <td>5.0</td>\n",
              "      <td>-1.0</td>\n",
              "      <td>35.853419</td>\n",
              "      <td>Alabama</td>\n",
              "      <td>11</td>\n",
              "      <td>13</td>\n",
              "      <td>3.33</td>\n",
              "      <td>40.9</td>\n",
              "      <td>0.5</td>\n",
              "      <td>42.0</td>\n",
              "      <td>0.80</td>\n",
              "      <td>2.53</td>\n",
              "      <td>0</td>\n",
              "      <td>55601</td>\n",
              "      <td>-1.9</td>\n",
              "      <td>0.11</td>\n",
              "      <td>19</td>\n",
              "      <td>58786</td>\n",
              "      <td>19.0</td>\n",
              "      <td>2.8</td>\n",
              "      <td>48.68</td>\n",
              "      <td>19</td>\n",
              "      <td>101</td>\n",
              "      <td>3.79</td>\n",
              "      <td>0.33</td>\n",
              "      <td>0.025</td>\n",
              "      <td>0.0</td>\n",
              "      <td>0.0</td>\n",
              "      <td>38</td>\n",
              "      <td>47.1</td>\n",
              "      <td>0.0</td>\n",
              "      <td>0.0</td>\n",
              "      <td>0.0</td>\n",
              "      <td>0</td>\n",
              "      <td>0</td>\n",
              "      <td>0.0</td>\n",
              "      <td>28</td>\n",
              "      <td>0.4</td>\n",
              "      <td>3.5</td>\n",
              "      <td>3.2</td>\n",
              "      <td>0.3</td>\n",
              "      <td>0.0</td>\n",
              "      <td>0.0</td>\n",
              "      <td>0.0</td>\n",
              "    </tr>\n",
              "    <tr>\n",
              "      <th>2</th>\n",
              "      <td>2020-03-03</td>\n",
              "      <td>Alabama</td>\n",
              "      <td>1001</td>\n",
              "      <td>0</td>\n",
              "      <td>Autauga County</td>\n",
              "      <td>0.0</td>\n",
              "      <td>13.865</td>\n",
              "      <td>95</td>\n",
              "      <td>22.0</td>\n",
              "      <td>8.0</td>\n",
              "      <td>0.0</td>\n",
              "      <td>0.0</td>\n",
              "      <td>4.0</td>\n",
              "      <td>-1.0</td>\n",
              "      <td>35.853419</td>\n",
              "      <td>Alabama</td>\n",
              "      <td>10</td>\n",
              "      <td>13</td>\n",
              "      <td>3.30</td>\n",
              "      <td>40.6</td>\n",
              "      <td>0.4</td>\n",
              "      <td>37.4</td>\n",
              "      <td>0.77</td>\n",
              "      <td>2.53</td>\n",
              "      <td>0</td>\n",
              "      <td>55601</td>\n",
              "      <td>-1.9</td>\n",
              "      <td>0.11</td>\n",
              "      <td>19</td>\n",
              "      <td>58786</td>\n",
              "      <td>19.0</td>\n",
              "      <td>2.8</td>\n",
              "      <td>48.68</td>\n",
              "      <td>19</td>\n",
              "      <td>101</td>\n",
              "      <td>3.79</td>\n",
              "      <td>0.33</td>\n",
              "      <td>0.025</td>\n",
              "      <td>0.0</td>\n",
              "      <td>0.0</td>\n",
              "      <td>39</td>\n",
              "      <td>47.1</td>\n",
              "      <td>0.0</td>\n",
              "      <td>0.0</td>\n",
              "      <td>0.0</td>\n",
              "      <td>0</td>\n",
              "      <td>0</td>\n",
              "      <td>0.0</td>\n",
              "      <td>35</td>\n",
              "      <td>0.4</td>\n",
              "      <td>3.5</td>\n",
              "      <td>3.2</td>\n",
              "      <td>0.3</td>\n",
              "      <td>0.0</td>\n",
              "      <td>0.0</td>\n",
              "      <td>0.0</td>\n",
              "    </tr>\n",
              "    <tr>\n",
              "      <th>3</th>\n",
              "      <td>2020-03-04</td>\n",
              "      <td>Alabama</td>\n",
              "      <td>1001</td>\n",
              "      <td>0</td>\n",
              "      <td>Autauga County</td>\n",
              "      <td>0.0</td>\n",
              "      <td>13.880</td>\n",
              "      <td>95</td>\n",
              "      <td>5.0</td>\n",
              "      <td>-4.0</td>\n",
              "      <td>0.0</td>\n",
              "      <td>0.0</td>\n",
              "      <td>3.0</td>\n",
              "      <td>2.0</td>\n",
              "      <td>35.853419</td>\n",
              "      <td>Alabama</td>\n",
              "      <td>19</td>\n",
              "      <td>16</td>\n",
              "      <td>3.04</td>\n",
              "      <td>40.7</td>\n",
              "      <td>0.5</td>\n",
              "      <td>35.4</td>\n",
              "      <td>0.77</td>\n",
              "      <td>2.27</td>\n",
              "      <td>0</td>\n",
              "      <td>55601</td>\n",
              "      <td>-12.0</td>\n",
              "      <td>0.11</td>\n",
              "      <td>19</td>\n",
              "      <td>58786</td>\n",
              "      <td>19.0</td>\n",
              "      <td>2.8</td>\n",
              "      <td>48.68</td>\n",
              "      <td>19</td>\n",
              "      <td>101</td>\n",
              "      <td>3.79</td>\n",
              "      <td>0.33</td>\n",
              "      <td>0.025</td>\n",
              "      <td>0.0</td>\n",
              "      <td>0.0</td>\n",
              "      <td>40</td>\n",
              "      <td>47.1</td>\n",
              "      <td>0.0</td>\n",
              "      <td>0.0</td>\n",
              "      <td>0.0</td>\n",
              "      <td>0</td>\n",
              "      <td>0</td>\n",
              "      <td>0.0</td>\n",
              "      <td>35</td>\n",
              "      <td>0.4</td>\n",
              "      <td>3.5</td>\n",
              "      <td>3.2</td>\n",
              "      <td>0.3</td>\n",
              "      <td>0.0</td>\n",
              "      <td>0.0</td>\n",
              "      <td>0.0</td>\n",
              "    </tr>\n",
              "    <tr>\n",
              "      <th>4</th>\n",
              "      <td>2020-03-05</td>\n",
              "      <td>Alabama</td>\n",
              "      <td>1001</td>\n",
              "      <td>0</td>\n",
              "      <td>Autauga County</td>\n",
              "      <td>0.0</td>\n",
              "      <td>14.659</td>\n",
              "      <td>100</td>\n",
              "      <td>7.0</td>\n",
              "      <td>12.0</td>\n",
              "      <td>0.0</td>\n",
              "      <td>0.0</td>\n",
              "      <td>3.0</td>\n",
              "      <td>1.0</td>\n",
              "      <td>35.853419</td>\n",
              "      <td>Alabama</td>\n",
              "      <td>12</td>\n",
              "      <td>14</td>\n",
              "      <td>3.29</td>\n",
              "      <td>41.5</td>\n",
              "      <td>0.6</td>\n",
              "      <td>43.2</td>\n",
              "      <td>0.83</td>\n",
              "      <td>2.46</td>\n",
              "      <td>0</td>\n",
              "      <td>55601</td>\n",
              "      <td>-4.7</td>\n",
              "      <td>0.11</td>\n",
              "      <td>19</td>\n",
              "      <td>58786</td>\n",
              "      <td>19.0</td>\n",
              "      <td>2.8</td>\n",
              "      <td>48.68</td>\n",
              "      <td>19</td>\n",
              "      <td>101</td>\n",
              "      <td>3.79</td>\n",
              "      <td>0.33</td>\n",
              "      <td>0.025</td>\n",
              "      <td>0.0</td>\n",
              "      <td>0.0</td>\n",
              "      <td>41</td>\n",
              "      <td>47.1</td>\n",
              "      <td>0.0</td>\n",
              "      <td>0.0</td>\n",
              "      <td>0.0</td>\n",
              "      <td>0</td>\n",
              "      <td>0</td>\n",
              "      <td>0.0</td>\n",
              "      <td>35</td>\n",
              "      <td>0.4</td>\n",
              "      <td>3.5</td>\n",
              "      <td>3.2</td>\n",
              "      <td>0.3</td>\n",
              "      <td>0.0</td>\n",
              "      <td>0.0</td>\n",
              "      <td>0.0</td>\n",
              "    </tr>\n",
              "  </tbody>\n",
              "</table>\n",
              "</div>"
            ],
            "text/plain": [
              "         Date  ... rolling_avg_new_cases/100k\n",
              "0  2020-03-01  ...                        0.0\n",
              "1  2020-03-02  ...                        0.0\n",
              "2  2020-03-03  ...                        0.0\n",
              "3  2020-03-04  ...                        0.0\n",
              "4  2020-03-05  ...                        0.0\n",
              "\n",
              "[5 rows x 56 columns]"
            ]
          },
          "metadata": {
            "tags": []
          },
          "execution_count": 4
        }
      ]
    },
    {
      "cell_type": "code",
      "metadata": {
        "id": "JtxbGxjRYiWk"
      },
      "source": [
        "superset_data['Date'] =  pd.to_datetime(superset_data['Date'], format='%Y-%m-%d')"
      ],
      "execution_count": 5,
      "outputs": []
    },
    {
      "cell_type": "code",
      "metadata": {
        "id": "8MVVkCKcQU-f"
      },
      "source": [
        "superset_data = superset_data.set_index('Date')"
      ],
      "execution_count": 6,
      "outputs": []
    },
    {
      "cell_type": "code",
      "metadata": {
        "colab": {
          "base_uri": "https://localhost:8080/",
          "height": 363
        },
        "id": "cCf03yDdQOtR",
        "outputId": "220586ae-1700-4602-ad85-7b9514aaca61"
      },
      "source": [
        "superset_data.tail()"
      ],
      "execution_count": 7,
      "outputs": [
        {
          "output_type": "execute_result",
          "data": {
            "text/html": [
              "<div>\n",
              "<style scoped>\n",
              "    .dataframe tbody tr th:only-of-type {\n",
              "        vertical-align: middle;\n",
              "    }\n",
              "\n",
              "    .dataframe tbody tr th {\n",
              "        vertical-align: top;\n",
              "    }\n",
              "\n",
              "    .dataframe thead th {\n",
              "        text-align: right;\n",
              "    }\n",
              "</style>\n",
              "<table border=\"1\" class=\"dataframe\">\n",
              "  <thead>\n",
              "    <tr style=\"text-align: right;\">\n",
              "      <th></th>\n",
              "      <th>Province_State</th>\n",
              "      <th>FIPS</th>\n",
              "      <th>New cases</th>\n",
              "      <th>County Name</th>\n",
              "      <th>mask_rule_severity</th>\n",
              "      <th>m50</th>\n",
              "      <th>m50_index</th>\n",
              "      <th>retail_and_recreation_percent_change_from_baseline</th>\n",
              "      <th>grocery_and_pharmacy_percent_change_from_baseline</th>\n",
              "      <th>parks_percent_change_from_baseline</th>\n",
              "      <th>transit_stations_percent_change_from_baseline</th>\n",
              "      <th>workplaces_percent_change_from_baseline</th>\n",
              "      <th>residential_percent_change_from_baseline</th>\n",
              "      <th>PopDensity</th>\n",
              "      <th>State_Name</th>\n",
              "      <th>Social.distancing.index</th>\n",
              "      <th>X..staying.home</th>\n",
              "      <th>Trips.person</th>\n",
              "      <th>X..out.of.county.trips</th>\n",
              "      <th>X..out.of.state.trips</th>\n",
              "      <th>Miles.person</th>\n",
              "      <th>Work.trips.person</th>\n",
              "      <th>Non.work.trips.person</th>\n",
              "      <th>New.COVID.cases</th>\n",
              "      <th>Population</th>\n",
              "      <th>X..change.in.consumption</th>\n",
              "      <th>Transit.mode.share</th>\n",
              "      <th>X..people.older.than.60</th>\n",
              "      <th>Median.income</th>\n",
              "      <th>X..African.Americans</th>\n",
              "      <th>X..Hispanic.Americans</th>\n",
              "      <th>X..Male</th>\n",
              "      <th>Employment.density</th>\n",
              "      <th>X..hot.spots.1000.people</th>\n",
              "      <th>Hospital.beds.1000.people</th>\n",
              "      <th>ICUs.1000.people</th>\n",
              "      <th>X..contact.tracing.workers.1000.people</th>\n",
              "      <th>New.cases.1000.people</th>\n",
              "      <th>Active.cases.1000.people</th>\n",
              "      <th>X.days..decreasing.COVID.cases</th>\n",
              "      <th>X..hospital.bed.utilization</th>\n",
              "      <th>Testing.capacity</th>\n",
              "      <th>Tests.done.1000.people</th>\n",
              "      <th>X..ICU.utilization</th>\n",
              "      <th>Ventilator.shortage</th>\n",
              "      <th>Imported.COVID.cases</th>\n",
              "      <th>COVID.exposure.1000.people</th>\n",
              "      <th>X.days..decreasing.ILI.cases</th>\n",
              "      <th>Unemployment.claims.1000.people</th>\n",
              "      <th>Unemployment.rate</th>\n",
              "      <th>X..working.from.home</th>\n",
              "      <th>Cumulative.inflation.rate</th>\n",
              "      <th>COVID.death.rate</th>\n",
              "      <th>New Cases/100k population</th>\n",
              "      <th>rolling_avg_new_cases/100k</th>\n",
              "    </tr>\n",
              "    <tr>\n",
              "      <th>Date</th>\n",
              "      <th></th>\n",
              "      <th></th>\n",
              "      <th></th>\n",
              "      <th></th>\n",
              "      <th></th>\n",
              "      <th></th>\n",
              "      <th></th>\n",
              "      <th></th>\n",
              "      <th></th>\n",
              "      <th></th>\n",
              "      <th></th>\n",
              "      <th></th>\n",
              "      <th></th>\n",
              "      <th></th>\n",
              "      <th></th>\n",
              "      <th></th>\n",
              "      <th></th>\n",
              "      <th></th>\n",
              "      <th></th>\n",
              "      <th></th>\n",
              "      <th></th>\n",
              "      <th></th>\n",
              "      <th></th>\n",
              "      <th></th>\n",
              "      <th></th>\n",
              "      <th></th>\n",
              "      <th></th>\n",
              "      <th></th>\n",
              "      <th></th>\n",
              "      <th></th>\n",
              "      <th></th>\n",
              "      <th></th>\n",
              "      <th></th>\n",
              "      <th></th>\n",
              "      <th></th>\n",
              "      <th></th>\n",
              "      <th></th>\n",
              "      <th></th>\n",
              "      <th></th>\n",
              "      <th></th>\n",
              "      <th></th>\n",
              "      <th></th>\n",
              "      <th></th>\n",
              "      <th></th>\n",
              "      <th></th>\n",
              "      <th></th>\n",
              "      <th></th>\n",
              "      <th></th>\n",
              "      <th></th>\n",
              "      <th></th>\n",
              "      <th></th>\n",
              "      <th></th>\n",
              "      <th></th>\n",
              "      <th></th>\n",
              "      <th></th>\n",
              "    </tr>\n",
              "  </thead>\n",
              "  <tbody>\n",
              "    <tr>\n",
              "      <th>2020-12-24</th>\n",
              "      <td>Wyoming</td>\n",
              "      <td>56041</td>\n",
              "      <td>0</td>\n",
              "      <td>Uinta County</td>\n",
              "      <td>0.0</td>\n",
              "      <td>2.945</td>\n",
              "      <td>94</td>\n",
              "      <td>5.0</td>\n",
              "      <td>0.0</td>\n",
              "      <td>0.0</td>\n",
              "      <td>-10.0</td>\n",
              "      <td>-53.0</td>\n",
              "      <td>12.0</td>\n",
              "      <td>3.822405</td>\n",
              "      <td>Wyoming</td>\n",
              "      <td>30</td>\n",
              "      <td>22</td>\n",
              "      <td>3.44</td>\n",
              "      <td>26.0</td>\n",
              "      <td>17.6</td>\n",
              "      <td>39.0</td>\n",
              "      <td>0.61</td>\n",
              "      <td>2.83</td>\n",
              "      <td>0</td>\n",
              "      <td>20299</td>\n",
              "      <td>13.6</td>\n",
              "      <td>3.6</td>\n",
              "      <td>18</td>\n",
              "      <td>58235</td>\n",
              "      <td>0.1</td>\n",
              "      <td>9.1</td>\n",
              "      <td>50.97</td>\n",
              "      <td>5</td>\n",
              "      <td>147</td>\n",
              "      <td>3.76</td>\n",
              "      <td>0.5</td>\n",
              "      <td>0.017</td>\n",
              "      <td>0.4762</td>\n",
              "      <td>21.64</td>\n",
              "      <td>0</td>\n",
              "      <td>47.413044</td>\n",
              "      <td>8.9</td>\n",
              "      <td>827.97</td>\n",
              "      <td>17.25</td>\n",
              "      <td>24</td>\n",
              "      <td>240</td>\n",
              "      <td>57.17</td>\n",
              "      <td>77</td>\n",
              "      <td>1.0</td>\n",
              "      <td>6.5</td>\n",
              "      <td>27.1</td>\n",
              "      <td>1.3</td>\n",
              "      <td>1.13</td>\n",
              "      <td>0.000000</td>\n",
              "      <td>68.265150</td>\n",
              "    </tr>\n",
              "    <tr>\n",
              "      <th>2020-12-25</th>\n",
              "      <td>Wyoming</td>\n",
              "      <td>56041</td>\n",
              "      <td>0</td>\n",
              "      <td>Uinta County</td>\n",
              "      <td>0.0</td>\n",
              "      <td>1.042</td>\n",
              "      <td>33</td>\n",
              "      <td>-93.0</td>\n",
              "      <td>0.0</td>\n",
              "      <td>0.0</td>\n",
              "      <td>-16.0</td>\n",
              "      <td>-79.0</td>\n",
              "      <td>22.0</td>\n",
              "      <td>3.822405</td>\n",
              "      <td>Wyoming</td>\n",
              "      <td>50</td>\n",
              "      <td>33</td>\n",
              "      <td>2.31</td>\n",
              "      <td>29.9</td>\n",
              "      <td>20.1</td>\n",
              "      <td>53.1</td>\n",
              "      <td>0.61</td>\n",
              "      <td>1.70</td>\n",
              "      <td>0</td>\n",
              "      <td>20299</td>\n",
              "      <td>-31.8</td>\n",
              "      <td>3.6</td>\n",
              "      <td>18</td>\n",
              "      <td>58235</td>\n",
              "      <td>0.1</td>\n",
              "      <td>9.1</td>\n",
              "      <td>50.97</td>\n",
              "      <td>5</td>\n",
              "      <td>147</td>\n",
              "      <td>3.76</td>\n",
              "      <td>0.5</td>\n",
              "      <td>0.017</td>\n",
              "      <td>0.2463</td>\n",
              "      <td>20.25</td>\n",
              "      <td>1</td>\n",
              "      <td>47.503677</td>\n",
              "      <td>8.9</td>\n",
              "      <td>827.97</td>\n",
              "      <td>17.42</td>\n",
              "      <td>24</td>\n",
              "      <td>174</td>\n",
              "      <td>56.50</td>\n",
              "      <td>77</td>\n",
              "      <td>1.0</td>\n",
              "      <td>6.5</td>\n",
              "      <td>27.1</td>\n",
              "      <td>1.3</td>\n",
              "      <td>1.14</td>\n",
              "      <td>0.000000</td>\n",
              "      <td>53.486097</td>\n",
              "    </tr>\n",
              "    <tr>\n",
              "      <th>2020-12-26</th>\n",
              "      <td>Wyoming</td>\n",
              "      <td>56041</td>\n",
              "      <td>20</td>\n",
              "      <td>Uinta County</td>\n",
              "      <td>0.0</td>\n",
              "      <td>1.902</td>\n",
              "      <td>60</td>\n",
              "      <td>-10.0</td>\n",
              "      <td>0.0</td>\n",
              "      <td>0.0</td>\n",
              "      <td>-24.0</td>\n",
              "      <td>-16.0</td>\n",
              "      <td>0.0</td>\n",
              "      <td>3.822405</td>\n",
              "      <td>Wyoming</td>\n",
              "      <td>35</td>\n",
              "      <td>27</td>\n",
              "      <td>3.00</td>\n",
              "      <td>33.9</td>\n",
              "      <td>24.6</td>\n",
              "      <td>48.6</td>\n",
              "      <td>0.62</td>\n",
              "      <td>2.37</td>\n",
              "      <td>20</td>\n",
              "      <td>20299</td>\n",
              "      <td>-4.9</td>\n",
              "      <td>3.6</td>\n",
              "      <td>18</td>\n",
              "      <td>58235</td>\n",
              "      <td>0.1</td>\n",
              "      <td>9.1</td>\n",
              "      <td>50.97</td>\n",
              "      <td>5</td>\n",
              "      <td>147</td>\n",
              "      <td>3.76</td>\n",
              "      <td>0.5</td>\n",
              "      <td>0.017</td>\n",
              "      <td>0.3284</td>\n",
              "      <td>21.08</td>\n",
              "      <td>2</td>\n",
              "      <td>47.600503</td>\n",
              "      <td>9.0</td>\n",
              "      <td>827.97</td>\n",
              "      <td>17.60</td>\n",
              "      <td>24</td>\n",
              "      <td>279</td>\n",
              "      <td>56.50</td>\n",
              "      <td>77</td>\n",
              "      <td>1.0</td>\n",
              "      <td>6.5</td>\n",
              "      <td>27.1</td>\n",
              "      <td>1.3</td>\n",
              "      <td>1.14</td>\n",
              "      <td>98.527021</td>\n",
              "      <td>62.635035</td>\n",
              "    </tr>\n",
              "    <tr>\n",
              "      <th>2020-12-27</th>\n",
              "      <td>Wyoming</td>\n",
              "      <td>56041</td>\n",
              "      <td>2</td>\n",
              "      <td>Uinta County</td>\n",
              "      <td>0.0</td>\n",
              "      <td>1.774</td>\n",
              "      <td>56</td>\n",
              "      <td>0.0</td>\n",
              "      <td>0.0</td>\n",
              "      <td>0.0</td>\n",
              "      <td>-3.0</td>\n",
              "      <td>-16.0</td>\n",
              "      <td>0.0</td>\n",
              "      <td>3.822405</td>\n",
              "      <td>Wyoming</td>\n",
              "      <td>36</td>\n",
              "      <td>28</td>\n",
              "      <td>2.60</td>\n",
              "      <td>40.6</td>\n",
              "      <td>31.0</td>\n",
              "      <td>63.4</td>\n",
              "      <td>0.69</td>\n",
              "      <td>1.91</td>\n",
              "      <td>2</td>\n",
              "      <td>20299</td>\n",
              "      <td>-23.3</td>\n",
              "      <td>3.6</td>\n",
              "      <td>18</td>\n",
              "      <td>58235</td>\n",
              "      <td>0.1</td>\n",
              "      <td>9.1</td>\n",
              "      <td>50.97</td>\n",
              "      <td>5</td>\n",
              "      <td>147</td>\n",
              "      <td>3.76</td>\n",
              "      <td>0.5</td>\n",
              "      <td>0.017</td>\n",
              "      <td>0.3613</td>\n",
              "      <td>19.44</td>\n",
              "      <td>3</td>\n",
              "      <td>47.707402</td>\n",
              "      <td>9.0</td>\n",
              "      <td>827.97</td>\n",
              "      <td>17.80</td>\n",
              "      <td>25</td>\n",
              "      <td>294</td>\n",
              "      <td>56.50</td>\n",
              "      <td>77</td>\n",
              "      <td>1.0</td>\n",
              "      <td>6.5</td>\n",
              "      <td>27.1</td>\n",
              "      <td>1.3</td>\n",
              "      <td>1.14</td>\n",
              "      <td>9.852702</td>\n",
              "      <td>57.004919</td>\n",
              "    </tr>\n",
              "    <tr>\n",
              "      <th>2020-12-28</th>\n",
              "      <td>Wyoming</td>\n",
              "      <td>56041</td>\n",
              "      <td>10</td>\n",
              "      <td>Uinta County</td>\n",
              "      <td>0.0</td>\n",
              "      <td>2.423</td>\n",
              "      <td>77</td>\n",
              "      <td>0.0</td>\n",
              "      <td>0.0</td>\n",
              "      <td>0.0</td>\n",
              "      <td>4.0</td>\n",
              "      <td>-31.0</td>\n",
              "      <td>8.0</td>\n",
              "      <td>3.822405</td>\n",
              "      <td>Wyoming</td>\n",
              "      <td>33</td>\n",
              "      <td>25</td>\n",
              "      <td>3.12</td>\n",
              "      <td>30.1</td>\n",
              "      <td>18.3</td>\n",
              "      <td>41.9</td>\n",
              "      <td>0.85</td>\n",
              "      <td>2.27</td>\n",
              "      <td>10</td>\n",
              "      <td>20299</td>\n",
              "      <td>-8.9</td>\n",
              "      <td>3.6</td>\n",
              "      <td>18</td>\n",
              "      <td>58235</td>\n",
              "      <td>0.1</td>\n",
              "      <td>9.1</td>\n",
              "      <td>50.97</td>\n",
              "      <td>5</td>\n",
              "      <td>147</td>\n",
              "      <td>3.76</td>\n",
              "      <td>0.5</td>\n",
              "      <td>0.017</td>\n",
              "      <td>0.5255</td>\n",
              "      <td>19.99</td>\n",
              "      <td>4</td>\n",
              "      <td>47.820319</td>\n",
              "      <td>8.9</td>\n",
              "      <td>853.47</td>\n",
              "      <td>18.00</td>\n",
              "      <td>25</td>\n",
              "      <td>241</td>\n",
              "      <td>56.50</td>\n",
              "      <td>77</td>\n",
              "      <td>1.0</td>\n",
              "      <td>6.5</td>\n",
              "      <td>27.1</td>\n",
              "      <td>1.3</td>\n",
              "      <td>1.14</td>\n",
              "      <td>49.263511</td>\n",
              "      <td>42.929631</td>\n",
              "    </tr>\n",
              "  </tbody>\n",
              "</table>\n",
              "</div>"
            ],
            "text/plain": [
              "           Province_State  ...  rolling_avg_new_cases/100k\n",
              "Date                       ...                            \n",
              "2020-12-24        Wyoming  ...                   68.265150\n",
              "2020-12-25        Wyoming  ...                   53.486097\n",
              "2020-12-26        Wyoming  ...                   62.635035\n",
              "2020-12-27        Wyoming  ...                   57.004919\n",
              "2020-12-28        Wyoming  ...                   42.929631\n",
              "\n",
              "[5 rows x 55 columns]"
            ]
          },
          "metadata": {
            "tags": []
          },
          "execution_count": 7
        }
      ]
    },
    {
      "cell_type": "markdown",
      "metadata": {
        "id": "wp7RQTEUiiBN"
      },
      "source": [
        "## SARIMAX County Level"
      ]
    },
    {
      "cell_type": "markdown",
      "metadata": {
        "id": "Yi8hQgDE9IdL"
      },
      "source": [
        "## Variable declaration"
      ]
    },
    {
      "cell_type": "code",
      "metadata": {
        "id": "-oU9PswTiksp"
      },
      "source": [
        "county_name = 'Washington County'\n",
        "state_name = 'Oregon'\n",
        "state_code = 'OR'\n",
        "county_code = 'WC'\n",
        "#DONE"
      ],
      "execution_count": null,
      "outputs": []
    },
    {
      "cell_type": "code",
      "metadata": {
        "id": "Ui9sqaZHCRe3"
      },
      "source": [
        "state_name = 'California'\n",
        "county_name = 'Solano County'\n",
        "state_code = 'CA'\n",
        "county_code = 'SL'\n",
        "#DONE"
      ],
      "execution_count": null,
      "outputs": []
    },
    {
      "cell_type": "code",
      "metadata": {
        "id": "fCIpPDBdB0WB"
      },
      "source": [
        "state_name='Iowa'\n",
        "county_name = 'Polk County'\n",
        "state_code = 'IA'\n",
        "county_code = 'PL'\n",
        "#DONE"
      ],
      "execution_count": 24,
      "outputs": []
    },
    {
      "cell_type": "code",
      "metadata": {
        "id": "H_wiHc5pB445"
      },
      "source": [
        "state_name = 'Wisconsin'\n",
        "county_name = 'Milwaukee County'\n",
        "state_code = 'WI'\n",
        "county_code = 'ML'\n",
        "#DONE"
      ],
      "execution_count": 64,
      "outputs": []
    },
    {
      "cell_type": "code",
      "metadata": {
        "id": "XQrbMT-cCFbP"
      },
      "source": [
        "state_name = 'Arkansas'\n",
        "county_name = 'Pulaski County'\n",
        "state_code = 'AR'\n",
        "county_code = 'PU'\n",
        "#DONE"
      ],
      "execution_count": 95,
      "outputs": []
    },
    {
      "cell_type": "code",
      "metadata": {
        "id": "VV63WFQ2CRh0"
      },
      "source": [
        "state_name = 'Texas'\n",
        "county_name = 'Collin County'\n",
        "state_code = 'TX'\n",
        "county_code = 'CL'\n",
        "#DONE"
      ],
      "execution_count": 131,
      "outputs": []
    },
    {
      "cell_type": "code",
      "metadata": {
        "id": "wVfS9fDwCHdV"
      },
      "source": [
        "state_name = 'New Jersey'\n",
        "county_name = 'Bergen County'\n",
        "state_code = 'NJ'\n",
        "county_code = 'BR'\n",
        "#DONE"
      ],
      "execution_count": 157,
      "outputs": []
    },
    {
      "cell_type": "code",
      "metadata": {
        "id": "zjzxWljXCHad"
      },
      "source": [
        "state_name = 'New York'\n",
        "county_name = 'Queens County'\n",
        "state_code = 'NY'\n",
        "county_code = 'QU'\n",
        "#"
      ],
      "execution_count": 187,
      "outputs": []
    },
    {
      "cell_type": "markdown",
      "metadata": {
        "id": "8Yt_DE1d9Or6"
      },
      "source": [
        "## Loading data"
      ]
    },
    {
      "cell_type": "code",
      "metadata": {
        "colab": {
          "base_uri": "https://localhost:8080/",
          "height": 0
        },
        "id": "978TiSrcRkLH",
        "outputId": "33084935-373d-45b0-f939-419dc2c2f8a2"
      },
      "source": [
        "state_county_superset_data = superset_data[(superset_data['County Name'] == county_name) & (superset_data['Province_State'] == state_name)]\n",
        "print(state_county_superset_data.shape)\n",
        "state_county_superset_data.head()"
      ],
      "execution_count": 188,
      "outputs": [
        {
          "output_type": "stream",
          "text": [
            "(292, 55)\n"
          ],
          "name": "stdout"
        },
        {
          "output_type": "execute_result",
          "data": {
            "text/html": [
              "<div>\n",
              "<style scoped>\n",
              "    .dataframe tbody tr th:only-of-type {\n",
              "        vertical-align: middle;\n",
              "    }\n",
              "\n",
              "    .dataframe tbody tr th {\n",
              "        vertical-align: top;\n",
              "    }\n",
              "\n",
              "    .dataframe thead th {\n",
              "        text-align: right;\n",
              "    }\n",
              "</style>\n",
              "<table border=\"1\" class=\"dataframe\">\n",
              "  <thead>\n",
              "    <tr style=\"text-align: right;\">\n",
              "      <th></th>\n",
              "      <th>Province_State</th>\n",
              "      <th>FIPS</th>\n",
              "      <th>New cases</th>\n",
              "      <th>County Name</th>\n",
              "      <th>mask_rule_severity</th>\n",
              "      <th>m50</th>\n",
              "      <th>m50_index</th>\n",
              "      <th>retail_and_recreation_percent_change_from_baseline</th>\n",
              "      <th>grocery_and_pharmacy_percent_change_from_baseline</th>\n",
              "      <th>parks_percent_change_from_baseline</th>\n",
              "      <th>transit_stations_percent_change_from_baseline</th>\n",
              "      <th>workplaces_percent_change_from_baseline</th>\n",
              "      <th>residential_percent_change_from_baseline</th>\n",
              "      <th>PopDensity</th>\n",
              "      <th>State_Name</th>\n",
              "      <th>Social.distancing.index</th>\n",
              "      <th>X..staying.home</th>\n",
              "      <th>Trips.person</th>\n",
              "      <th>X..out.of.county.trips</th>\n",
              "      <th>X..out.of.state.trips</th>\n",
              "      <th>Miles.person</th>\n",
              "      <th>Work.trips.person</th>\n",
              "      <th>Non.work.trips.person</th>\n",
              "      <th>New.COVID.cases</th>\n",
              "      <th>Population</th>\n",
              "      <th>X..change.in.consumption</th>\n",
              "      <th>Transit.mode.share</th>\n",
              "      <th>X..people.older.than.60</th>\n",
              "      <th>Median.income</th>\n",
              "      <th>X..African.Americans</th>\n",
              "      <th>X..Hispanic.Americans</th>\n",
              "      <th>X..Male</th>\n",
              "      <th>Employment.density</th>\n",
              "      <th>X..hot.spots.1000.people</th>\n",
              "      <th>Hospital.beds.1000.people</th>\n",
              "      <th>ICUs.1000.people</th>\n",
              "      <th>X..contact.tracing.workers.1000.people</th>\n",
              "      <th>New.cases.1000.people</th>\n",
              "      <th>Active.cases.1000.people</th>\n",
              "      <th>X.days..decreasing.COVID.cases</th>\n",
              "      <th>X..hospital.bed.utilization</th>\n",
              "      <th>Testing.capacity</th>\n",
              "      <th>Tests.done.1000.people</th>\n",
              "      <th>X..ICU.utilization</th>\n",
              "      <th>Ventilator.shortage</th>\n",
              "      <th>Imported.COVID.cases</th>\n",
              "      <th>COVID.exposure.1000.people</th>\n",
              "      <th>X.days..decreasing.ILI.cases</th>\n",
              "      <th>Unemployment.claims.1000.people</th>\n",
              "      <th>Unemployment.rate</th>\n",
              "      <th>X..working.from.home</th>\n",
              "      <th>Cumulative.inflation.rate</th>\n",
              "      <th>COVID.death.rate</th>\n",
              "      <th>New Cases/100k population</th>\n",
              "      <th>rolling_avg_new_cases/100k</th>\n",
              "    </tr>\n",
              "    <tr>\n",
              "      <th>Date</th>\n",
              "      <th></th>\n",
              "      <th></th>\n",
              "      <th></th>\n",
              "      <th></th>\n",
              "      <th></th>\n",
              "      <th></th>\n",
              "      <th></th>\n",
              "      <th></th>\n",
              "      <th></th>\n",
              "      <th></th>\n",
              "      <th></th>\n",
              "      <th></th>\n",
              "      <th></th>\n",
              "      <th></th>\n",
              "      <th></th>\n",
              "      <th></th>\n",
              "      <th></th>\n",
              "      <th></th>\n",
              "      <th></th>\n",
              "      <th></th>\n",
              "      <th></th>\n",
              "      <th></th>\n",
              "      <th></th>\n",
              "      <th></th>\n",
              "      <th></th>\n",
              "      <th></th>\n",
              "      <th></th>\n",
              "      <th></th>\n",
              "      <th></th>\n",
              "      <th></th>\n",
              "      <th></th>\n",
              "      <th></th>\n",
              "      <th></th>\n",
              "      <th></th>\n",
              "      <th></th>\n",
              "      <th></th>\n",
              "      <th></th>\n",
              "      <th></th>\n",
              "      <th></th>\n",
              "      <th></th>\n",
              "      <th></th>\n",
              "      <th></th>\n",
              "      <th></th>\n",
              "      <th></th>\n",
              "      <th></th>\n",
              "      <th></th>\n",
              "      <th></th>\n",
              "      <th></th>\n",
              "      <th></th>\n",
              "      <th></th>\n",
              "      <th></th>\n",
              "      <th></th>\n",
              "      <th></th>\n",
              "      <th></th>\n",
              "      <th></th>\n",
              "    </tr>\n",
              "  </thead>\n",
              "  <tbody>\n",
              "    <tr>\n",
              "      <th>2020-03-01</th>\n",
              "      <td>New York</td>\n",
              "      <td>36081</td>\n",
              "      <td>0</td>\n",
              "      <td>Queens County</td>\n",
              "      <td>0.0</td>\n",
              "      <td>1.339</td>\n",
              "      <td>35</td>\n",
              "      <td>3.0</td>\n",
              "      <td>1.0</td>\n",
              "      <td>14.0</td>\n",
              "      <td>-4.0</td>\n",
              "      <td>1.0</td>\n",
              "      <td>0.0</td>\n",
              "      <td>8158.437153</td>\n",
              "      <td>New York</td>\n",
              "      <td>46</td>\n",
              "      <td>37</td>\n",
              "      <td>3.26</td>\n",
              "      <td>38.4</td>\n",
              "      <td>4.7</td>\n",
              "      <td>32.0</td>\n",
              "      <td>0.43</td>\n",
              "      <td>2.83</td>\n",
              "      <td>0</td>\n",
              "      <td>2278906</td>\n",
              "      <td>-6.3</td>\n",
              "      <td>51.31</td>\n",
              "      <td>21</td>\n",
              "      <td>64987</td>\n",
              "      <td>17.2</td>\n",
              "      <td>28.0</td>\n",
              "      <td>48.49</td>\n",
              "      <td>3300</td>\n",
              "      <td>81</td>\n",
              "      <td>2.74</td>\n",
              "      <td>0.22</td>\n",
              "      <td>0.029</td>\n",
              "      <td>0.0</td>\n",
              "      <td>0.0</td>\n",
              "      <td>37</td>\n",
              "      <td>63.5</td>\n",
              "      <td>0.0</td>\n",
              "      <td>0.00</td>\n",
              "      <td>0.0</td>\n",
              "      <td>0</td>\n",
              "      <td>0</td>\n",
              "      <td>0.00</td>\n",
              "      <td>28</td>\n",
              "      <td>0.7</td>\n",
              "      <td>4.5</td>\n",
              "      <td>4.2</td>\n",
              "      <td>0.8</td>\n",
              "      <td>0.0</td>\n",
              "      <td>0.0</td>\n",
              "      <td>0.0</td>\n",
              "    </tr>\n",
              "    <tr>\n",
              "      <th>2020-03-02</th>\n",
              "      <td>New York</td>\n",
              "      <td>36081</td>\n",
              "      <td>0</td>\n",
              "      <td>Queens County</td>\n",
              "      <td>0.0</td>\n",
              "      <td>3.813</td>\n",
              "      <td>99</td>\n",
              "      <td>4.0</td>\n",
              "      <td>5.0</td>\n",
              "      <td>25.0</td>\n",
              "      <td>-4.0</td>\n",
              "      <td>6.0</td>\n",
              "      <td>0.0</td>\n",
              "      <td>8158.437153</td>\n",
              "      <td>New York</td>\n",
              "      <td>21</td>\n",
              "      <td>25</td>\n",
              "      <td>3.95</td>\n",
              "      <td>40.4</td>\n",
              "      <td>3.3</td>\n",
              "      <td>29.5</td>\n",
              "      <td>0.90</td>\n",
              "      <td>3.06</td>\n",
              "      <td>0</td>\n",
              "      <td>2278906</td>\n",
              "      <td>1.3</td>\n",
              "      <td>51.31</td>\n",
              "      <td>21</td>\n",
              "      <td>64987</td>\n",
              "      <td>17.2</td>\n",
              "      <td>28.0</td>\n",
              "      <td>48.49</td>\n",
              "      <td>3300</td>\n",
              "      <td>81</td>\n",
              "      <td>2.74</td>\n",
              "      <td>0.22</td>\n",
              "      <td>0.029</td>\n",
              "      <td>0.0</td>\n",
              "      <td>0.0</td>\n",
              "      <td>38</td>\n",
              "      <td>63.5</td>\n",
              "      <td>0.0</td>\n",
              "      <td>0.00</td>\n",
              "      <td>0.0</td>\n",
              "      <td>0</td>\n",
              "      <td>0</td>\n",
              "      <td>0.01</td>\n",
              "      <td>28</td>\n",
              "      <td>0.7</td>\n",
              "      <td>4.5</td>\n",
              "      <td>4.2</td>\n",
              "      <td>0.8</td>\n",
              "      <td>0.0</td>\n",
              "      <td>0.0</td>\n",
              "      <td>0.0</td>\n",
              "    </tr>\n",
              "    <tr>\n",
              "      <th>2020-03-03</th>\n",
              "      <td>New York</td>\n",
              "      <td>36081</td>\n",
              "      <td>0</td>\n",
              "      <td>Queens County</td>\n",
              "      <td>0.0</td>\n",
              "      <td>3.747</td>\n",
              "      <td>98</td>\n",
              "      <td>2.0</td>\n",
              "      <td>4.0</td>\n",
              "      <td>9.0</td>\n",
              "      <td>-3.0</td>\n",
              "      <td>4.0</td>\n",
              "      <td>0.0</td>\n",
              "      <td>8158.437153</td>\n",
              "      <td>New York</td>\n",
              "      <td>20</td>\n",
              "      <td>25</td>\n",
              "      <td>3.97</td>\n",
              "      <td>40.8</td>\n",
              "      <td>3.0</td>\n",
              "      <td>29.3</td>\n",
              "      <td>0.90</td>\n",
              "      <td>3.07</td>\n",
              "      <td>0</td>\n",
              "      <td>2278906</td>\n",
              "      <td>1.7</td>\n",
              "      <td>51.31</td>\n",
              "      <td>21</td>\n",
              "      <td>64987</td>\n",
              "      <td>17.2</td>\n",
              "      <td>28.0</td>\n",
              "      <td>48.49</td>\n",
              "      <td>3300</td>\n",
              "      <td>81</td>\n",
              "      <td>2.74</td>\n",
              "      <td>0.22</td>\n",
              "      <td>0.029</td>\n",
              "      <td>0.0</td>\n",
              "      <td>0.0</td>\n",
              "      <td>39</td>\n",
              "      <td>63.5</td>\n",
              "      <td>0.0</td>\n",
              "      <td>0.00</td>\n",
              "      <td>0.0</td>\n",
              "      <td>0</td>\n",
              "      <td>0</td>\n",
              "      <td>0.01</td>\n",
              "      <td>35</td>\n",
              "      <td>0.7</td>\n",
              "      <td>4.5</td>\n",
              "      <td>4.2</td>\n",
              "      <td>0.8</td>\n",
              "      <td>0.0</td>\n",
              "      <td>0.0</td>\n",
              "      <td>0.0</td>\n",
              "    </tr>\n",
              "    <tr>\n",
              "      <th>2020-03-04</th>\n",
              "      <td>New York</td>\n",
              "      <td>36081</td>\n",
              "      <td>0</td>\n",
              "      <td>Queens County</td>\n",
              "      <td>0.0</td>\n",
              "      <td>3.822</td>\n",
              "      <td>99</td>\n",
              "      <td>7.0</td>\n",
              "      <td>8.0</td>\n",
              "      <td>28.0</td>\n",
              "      <td>-4.0</td>\n",
              "      <td>2.0</td>\n",
              "      <td>0.0</td>\n",
              "      <td>8158.437153</td>\n",
              "      <td>New York</td>\n",
              "      <td>20</td>\n",
              "      <td>24</td>\n",
              "      <td>4.03</td>\n",
              "      <td>41.1</td>\n",
              "      <td>3.1</td>\n",
              "      <td>29.2</td>\n",
              "      <td>0.90</td>\n",
              "      <td>3.13</td>\n",
              "      <td>0</td>\n",
              "      <td>2278906</td>\n",
              "      <td>3.6</td>\n",
              "      <td>51.31</td>\n",
              "      <td>21</td>\n",
              "      <td>64987</td>\n",
              "      <td>17.2</td>\n",
              "      <td>28.0</td>\n",
              "      <td>48.49</td>\n",
              "      <td>3300</td>\n",
              "      <td>81</td>\n",
              "      <td>2.74</td>\n",
              "      <td>0.22</td>\n",
              "      <td>0.029</td>\n",
              "      <td>0.0</td>\n",
              "      <td>0.0</td>\n",
              "      <td>40</td>\n",
              "      <td>63.5</td>\n",
              "      <td>11.1</td>\n",
              "      <td>0.00</td>\n",
              "      <td>0.0</td>\n",
              "      <td>0</td>\n",
              "      <td>1</td>\n",
              "      <td>0.04</td>\n",
              "      <td>35</td>\n",
              "      <td>0.7</td>\n",
              "      <td>4.5</td>\n",
              "      <td>4.2</td>\n",
              "      <td>0.8</td>\n",
              "      <td>0.0</td>\n",
              "      <td>0.0</td>\n",
              "      <td>0.0</td>\n",
              "    </tr>\n",
              "    <tr>\n",
              "      <th>2020-03-05</th>\n",
              "      <td>New York</td>\n",
              "      <td>36081</td>\n",
              "      <td>0</td>\n",
              "      <td>Queens County</td>\n",
              "      <td>0.0</td>\n",
              "      <td>4.052</td>\n",
              "      <td>106</td>\n",
              "      <td>8.0</td>\n",
              "      <td>8.0</td>\n",
              "      <td>31.0</td>\n",
              "      <td>-2.0</td>\n",
              "      <td>3.0</td>\n",
              "      <td>0.0</td>\n",
              "      <td>8158.437153</td>\n",
              "      <td>New York</td>\n",
              "      <td>20</td>\n",
              "      <td>24</td>\n",
              "      <td>4.10</td>\n",
              "      <td>41.0</td>\n",
              "      <td>3.1</td>\n",
              "      <td>29.4</td>\n",
              "      <td>0.89</td>\n",
              "      <td>3.21</td>\n",
              "      <td>0</td>\n",
              "      <td>2278906</td>\n",
              "      <td>6.3</td>\n",
              "      <td>51.31</td>\n",
              "      <td>21</td>\n",
              "      <td>64987</td>\n",
              "      <td>17.2</td>\n",
              "      <td>28.0</td>\n",
              "      <td>48.49</td>\n",
              "      <td>3300</td>\n",
              "      <td>81</td>\n",
              "      <td>2.74</td>\n",
              "      <td>0.22</td>\n",
              "      <td>0.029</td>\n",
              "      <td>0.0</td>\n",
              "      <td>0.0</td>\n",
              "      <td>41</td>\n",
              "      <td>63.5</td>\n",
              "      <td>22.4</td>\n",
              "      <td>0.01</td>\n",
              "      <td>0.0</td>\n",
              "      <td>0</td>\n",
              "      <td>3</td>\n",
              "      <td>0.05</td>\n",
              "      <td>35</td>\n",
              "      <td>0.7</td>\n",
              "      <td>4.5</td>\n",
              "      <td>4.2</td>\n",
              "      <td>0.8</td>\n",
              "      <td>0.0</td>\n",
              "      <td>0.0</td>\n",
              "      <td>0.0</td>\n",
              "    </tr>\n",
              "  </tbody>\n",
              "</table>\n",
              "</div>"
            ],
            "text/plain": [
              "           Province_State  ...  rolling_avg_new_cases/100k\n",
              "Date                       ...                            \n",
              "2020-03-01       New York  ...                         0.0\n",
              "2020-03-02       New York  ...                         0.0\n",
              "2020-03-03       New York  ...                         0.0\n",
              "2020-03-04       New York  ...                         0.0\n",
              "2020-03-05       New York  ...                         0.0\n",
              "\n",
              "[5 rows x 55 columns]"
            ]
          },
          "metadata": {
            "tags": []
          },
          "execution_count": 188
        }
      ]
    },
    {
      "cell_type": "markdown",
      "metadata": {
        "id": "d8_BC8qqojAm"
      },
      "source": [
        " **Note**:\n",
        " I have removed the other columns and verified with only date column"
      ]
    },
    {
      "cell_type": "markdown",
      "metadata": {
        "id": "vBQNIkiX9TgW"
      },
      "source": [
        "## filter columns"
      ]
    },
    {
      "cell_type": "code",
      "metadata": {
        "colab": {
          "base_uri": "https://localhost:8080/",
          "height": 0
        },
        "id": "RTOsTIzoEOvs",
        "outputId": "7d93562d-521c-43a7-eeb8-230b98594e20"
      },
      "source": [
        "#columns = ['Tests.done.1000.people','X..staying.home','Unemployment.rate','X..people.older.than.60','X..working.from.home','X.days..decreasing.ILI.cases','X..Male','X..out.of.county.trips','parks_percent_change_from_baseline','Work.trips.person','m50_index','FIPS','Imported.COVID.cases','X..out.of.state.trips','Miles.person','X.days..decreasing.COVID.cases','grocery_and_pharmacy_percent_change_from_baseline','transit_stations_percent_change_from_baseline','Testing.capacity','retail_and_recreation_percent_change_from_baseline','Unemployment.claims.1000.people', 'New Cases/100k population']\n",
        "columns = ['New Cases/100k population']\n",
        "state_county_superset_data = state_county_superset_data[columns]\n",
        "state_county_superset_data.head()"
      ],
      "execution_count": 189,
      "outputs": [
        {
          "output_type": "execute_result",
          "data": {
            "text/html": [
              "<div>\n",
              "<style scoped>\n",
              "    .dataframe tbody tr th:only-of-type {\n",
              "        vertical-align: middle;\n",
              "    }\n",
              "\n",
              "    .dataframe tbody tr th {\n",
              "        vertical-align: top;\n",
              "    }\n",
              "\n",
              "    .dataframe thead th {\n",
              "        text-align: right;\n",
              "    }\n",
              "</style>\n",
              "<table border=\"1\" class=\"dataframe\">\n",
              "  <thead>\n",
              "    <tr style=\"text-align: right;\">\n",
              "      <th></th>\n",
              "      <th>New Cases/100k population</th>\n",
              "    </tr>\n",
              "    <tr>\n",
              "      <th>Date</th>\n",
              "      <th></th>\n",
              "    </tr>\n",
              "  </thead>\n",
              "  <tbody>\n",
              "    <tr>\n",
              "      <th>2020-03-01</th>\n",
              "      <td>0.0</td>\n",
              "    </tr>\n",
              "    <tr>\n",
              "      <th>2020-03-02</th>\n",
              "      <td>0.0</td>\n",
              "    </tr>\n",
              "    <tr>\n",
              "      <th>2020-03-03</th>\n",
              "      <td>0.0</td>\n",
              "    </tr>\n",
              "    <tr>\n",
              "      <th>2020-03-04</th>\n",
              "      <td>0.0</td>\n",
              "    </tr>\n",
              "    <tr>\n",
              "      <th>2020-03-05</th>\n",
              "      <td>0.0</td>\n",
              "    </tr>\n",
              "  </tbody>\n",
              "</table>\n",
              "</div>"
            ],
            "text/plain": [
              "            New Cases/100k population\n",
              "Date                                 \n",
              "2020-03-01                        0.0\n",
              "2020-03-02                        0.0\n",
              "2020-03-03                        0.0\n",
              "2020-03-04                        0.0\n",
              "2020-03-05                        0.0"
            ]
          },
          "metadata": {
            "tags": []
          },
          "execution_count": 189
        }
      ]
    },
    {
      "cell_type": "code",
      "metadata": {
        "colab": {
          "base_uri": "https://localhost:8080/"
        },
        "id": "txXodzEBEOvv",
        "outputId": "73f6897b-f3fe-48e9-f80e-1c310a99d014"
      },
      "source": [
        "state_county_superset_data.shape"
      ],
      "execution_count": 190,
      "outputs": [
        {
          "output_type": "execute_result",
          "data": {
            "text/plain": [
              "(292, 1)"
            ]
          },
          "metadata": {
            "tags": []
          },
          "execution_count": 190
        }
      ]
    },
    {
      "cell_type": "markdown",
      "metadata": {
        "id": "p-3EXsqzEOvw"
      },
      "source": [
        "### Check Date Range"
      ]
    },
    {
      "cell_type": "code",
      "metadata": {
        "id": "w2-8tM6xEOvy"
      },
      "source": [
        "state_county_superset_data = state_county_superset_data.reindex(pd.date_range(\"2020-03-01\", \"2020-12-28\"), fill_value=0.0)"
      ],
      "execution_count": 191,
      "outputs": []
    },
    {
      "cell_type": "markdown",
      "metadata": {
        "id": "ELYcPteuEOv0"
      },
      "source": [
        "### Plot 'New Cases/100k population'"
      ]
    },
    {
      "cell_type": "code",
      "metadata": {
        "colab": {
          "base_uri": "https://localhost:8080/",
          "height": 0
        },
        "id": "iM8ms6VnEOv0",
        "outputId": "646deaba-46ec-4a2d-cb38-971b71744aa2"
      },
      "source": [
        "# differencing of one day turns total cases into daily new cases\n",
        "# by tracking the change rather than the total\n",
        "prediction = 'New Cases/100k population'\n",
        "plt.plot(state_county_superset_data[prediction].diff(1)[:])"
      ],
      "execution_count": 192,
      "outputs": [
        {
          "output_type": "execute_result",
          "data": {
            "text/plain": [
              "[<matplotlib.lines.Line2D at 0x7ff57dc23ad0>]"
            ]
          },
          "metadata": {
            "tags": []
          },
          "execution_count": 192
        },
        {
          "output_type": "display_data",
          "data": {
            "image/png": "[encoded data removed]",
            "text/plain": [
              "<Figure size 1080x720 with 1 Axes>"
            ]
          },
          "metadata": {
            "tags": []
          }
        }
      ]
    },
    {
      "cell_type": "markdown",
      "metadata": {
        "id": "CWMGVPKCEOv2"
      },
      "source": [
        "## Test and Training Split"
      ]
    },
    {
      "cell_type": "code",
      "metadata": {
        "id": "89eRsZ1eEOv2"
      },
      "source": [
        "prediction = 'New Cases/100k population'\n",
        "region = 'United States'\n",
        "\n",
        "#dfjanusa = dfjan[(dfjan['Jurisdiction'] == 'NAT_TOTAL') & (dfjan['CountryName'] == region)][:-1]\n",
        "\n",
        "true_value = state_county_superset_data[prediction]\n",
        "true_value.index.freq = 'D'\n",
        "true_value = true_value.interpolate(method = 'time', limit_direction = 'forward', limit_area = 'inside').fillna(0.0)\n",
        "\n",
        "train = true_value[true_value.index < '2020-12-01']\n",
        "test = true_value[true_value.index >= '2020-12-01']\n",
        "train\n",
        "\n",
        "#train-test split-temp\n",
        "state_county_superset_data = state_county_superset_data.fillna(method = 'ffill')\n",
        "train_df = state_county_superset_data[state_county_superset_data.index < '2020-12-01']\n",
        "test_df = state_county_superset_data[(state_county_superset_data.index >= '2020-12-01') & (state_county_superset_data.index < '2021-01-01')]\n",
        "\n",
        "train = train_df[prediction]\n",
        "test = test_df[prediction]\n",
        "true = state_county_superset_data[prediction]\n",
        "train.index.freq = 'D'\n",
        "test.index.freq = 'D'\n",
        "true.index.freq = 'D'"
      ],
      "execution_count": 193,
      "outputs": []
    },
    {
      "cell_type": "code",
      "metadata": {
        "colab": {
          "base_uri": "https://localhost:8080/"
        },
        "id": "8hWc1SESEOv4",
        "outputId": "11e4666d-26e7-4a57-cc94-6ab4154084ea"
      },
      "source": [
        "print(\"train:\", train.shape)\n",
        "print(\"test:\", test.shape)"
      ],
      "execution_count": 194,
      "outputs": [
        {
          "output_type": "stream",
          "text": [
            "train: (275,)\n",
            "test: (28,)\n"
          ],
          "name": "stdout"
        }
      ]
    },
    {
      "cell_type": "code",
      "metadata": {
        "colab": {
          "base_uri": "https://localhost:8080/"
        },
        "id": "HRgTZmdeGRIL",
        "outputId": "cc62a1f1-3eb8-4c79-e85f-0fc01c4925f6"
      },
      "source": [
        "train.head(2)"
      ],
      "execution_count": 195,
      "outputs": [
        {
          "output_type": "execute_result",
          "data": {
            "text/plain": [
              "2020-03-01    0.0\n",
              "2020-03-02    0.0\n",
              "Freq: D, Name: New Cases/100k population, dtype: float64"
            ]
          },
          "metadata": {
            "tags": []
          },
          "execution_count": 195
        }
      ]
    },
    {
      "cell_type": "markdown",
      "metadata": {
        "id": "jdCdgY69F5Xt"
      },
      "source": [
        "## Seasonal Decompose"
      ]
    },
    {
      "cell_type": "code",
      "metadata": {
        "colab": {
          "base_uri": "https://localhost:8080/",
          "height": 662
        },
        "id": "SN8ky0JeF8NW",
        "outputId": "9ec60589-2596-43d7-e122-6e16f1c915ae"
      },
      "source": [
        "df = state_county_superset_data.fillna(method = 'ffill')\n",
        "results = seasonal_decompose(train_df[prediction],two_sided = True, model='additive')\n",
        "results.plot()\n",
        "plt.show()"
      ],
      "execution_count": 196,
      "outputs": [
        {
          "output_type": "display_data",
          "data": {
            "image/png": "[encoded data removed]",
            "text/plain": [
              "<Figure size 1080x720 with 4 Axes>"
            ]
          },
          "metadata": {
            "tags": []
          }
        }
      ]
    },
    {
      "cell_type": "code",
      "metadata": {
        "colab": {
          "base_uri": "https://localhost:8080/"
        },
        "id": "GELljBfkyMts",
        "outputId": "e99b278a-cf09-41b8-a3f8-c0933fb80a09"
      },
      "source": [
        "len(train.index.day_name())"
      ],
      "execution_count": 197,
      "outputs": [
        {
          "output_type": "execute_result",
          "data": {
            "text/plain": [
              "275"
            ]
          },
          "metadata": {
            "tags": []
          },
          "execution_count": 197
        }
      ]
    },
    {
      "cell_type": "code",
      "metadata": {
        "colab": {
          "base_uri": "https://localhost:8080/"
        },
        "id": "jtuEqb1IyRIJ",
        "outputId": "274a5aa0-f087-47e0-cb1d-0eb310dfe32d"
      },
      "source": [
        "len(train_df['New Cases/100k population'].values)"
      ],
      "execution_count": 198,
      "outputs": [
        {
          "output_type": "execute_result",
          "data": {
            "text/plain": [
              "275"
            ]
          },
          "metadata": {
            "tags": []
          },
          "execution_count": 198
        }
      ]
    },
    {
      "cell_type": "markdown",
      "metadata": {
        "id": "-P_mVm789fRN"
      },
      "source": [
        "### Visualizing `cases`  Vs `day of the week`"
      ]
    },
    {
      "cell_type": "code",
      "metadata": {
        "colab": {
          "base_uri": "https://localhost:8080/",
          "height": 0
        },
        "id": "_oXHIpH2Hb4b",
        "outputId": "a5b5c66a-d382-4774-8281-7ccfd911e4c6"
      },
      "source": [
        "import seaborn as sns\n",
        "ax = plt.subplot()\n",
        "sns.barplot(x=train.index.day_name(), y=train_df[prediction].values, ax=ax, ci=False,\n",
        "           order = ['Sunday','Monday','Tuesday','Wednesday','Thursday','Friday','Saturday'])\n",
        "#ax.set_ylim([3600000,4000000])\n",
        "ax.set_title('Average Infections by Day of the Week')\n",
        "ax.set_ylabel('Average Infections')\n",
        "ax.set_xlabel('Day of the Week')"
      ],
      "execution_count": 199,
      "outputs": [
        {
          "output_type": "execute_result",
          "data": {
            "text/plain": [
              "Text(0.5, 0, 'Day of the Week')"
            ]
          },
          "metadata": {
            "tags": []
          },
          "execution_count": 199
        },
        {
          "output_type": "display_data",
          "data": {
            "image/png": "[encoded data removed]",
            "text/plain": [
              "<Figure size 1080x720 with 1 Axes>"
            ]
          },
          "metadata": {
            "tags": []
          }
        }
      ]
    },
    {
      "cell_type": "markdown",
      "metadata": {
        "id": "_vxv8dATEOv5"
      },
      "source": [
        "### Sarimax Model"
      ]
    },
    {
      "cell_type": "markdown",
      "metadata": {
        "id": "78UgI5evNRZk"
      },
      "source": [
        "### Determine hyperparameter"
      ]
    },
    {
      "cell_type": "code",
      "metadata": {
        "colab": {
          "base_uri": "https://localhost:8080/",
          "height": 1000
        },
        "id": "WpVzrXyjMDcr",
        "outputId": "bd51a5e8-102b-4a69-cb84-546e4698788b"
      },
      "source": [
        "cbrt_train =  np.cbrt(train)\n",
        "flag = True\n",
        "test_results = pd.DataFrame(columns = ['MPE'])\n",
        "for p in range(0,4):\n",
        "    for d in range(1,3):\n",
        "        for q in range(0,4):\n",
        "            for P in range(0,4):\n",
        "                for D in range(1,3):\n",
        "                    for Q in range(0,4):\n",
        "                        model = SARIMAX(cbrt_train, order =(p,d,q), seasonal_order = (P,D,Q,7),\n",
        "                                       freq = 'D')\n",
        "                        fit_model = model.fit(maxiter = 200, disp = False)\n",
        "                        yhat = fit_model.forecast(len(test))\n",
        "                        yhat = yhat**3\n",
        "                        ind = f'order = ({p},{d},{q}), seasonal_order = ({P},{D},{Q},7)'\n",
        "                        mpe = mean_percent_error(test,yhat)\n",
        "                        print(f'trying {ind}, MPE = {mpe}')\n",
        "                        test_results.loc[ind,'MPE'] = mpe\n",
        "                        if mpe <=2.1:\n",
        "                          break\n",
        "\n",
        "test_results.min()"
      ],
      "execution_count": 200,
      "outputs": [
        {
          "output_type": "stream",
          "text": [
            "trying order = (0,1,0), seasonal_order = (0,1,0,7), MPE = 6.842720378106847\n",
            "trying order = (0,1,0), seasonal_order = (0,1,1,7), MPE = 4.832109538225895\n",
            "trying order = (0,1,0), seasonal_order = (0,1,2,7), MPE = 4.903322069233414\n",
            "trying order = (0,1,0), seasonal_order = (0,1,3,7), MPE = 4.90126362765617\n",
            "trying order = (0,1,0), seasonal_order = (0,2,0,7), MPE = 16.19954821092982\n"
          ],
          "name": "stdout"
        },
        {
          "output_type": "stream",
          "text": [
            "/usr/local/lib/python3.7/dist-packages/statsmodels/base/model.py:512: ConvergenceWarning:\n",
            "\n",
            "Maximum Likelihood optimization failed to converge. Check mle_retvals\n",
            "\n",
            "/usr/local/lib/python3.7/dist-packages/statsmodels/tsa/statespace/sarimax.py:993: UserWarning:\n",
            "\n",
            "Non-invertible starting seasonal moving average Using zeros as starting parameters.\n",
            "\n"
          ],
          "name": "stderr"
        },
        {
          "output_type": "stream",
          "text": [
            "trying order = (0,1,0), seasonal_order = (0,2,1,7), MPE = 6.929024719931344\n",
            "trying order = (0,1,0), seasonal_order = (0,2,2,7), MPE = 3.978560245946538\n",
            "trying order = (0,1,0), seasonal_order = (0,2,3,7), MPE = 3.6381843983967657\n",
            "trying order = (0,1,0), seasonal_order = (1,1,0,7), MPE = 5.510360624122531\n",
            "trying order = (0,1,0), seasonal_order = (1,1,1,7), MPE = 4.901604419262332\n",
            "trying order = (0,1,0), seasonal_order = (1,1,2,7), MPE = 4.862722424354705\n",
            "trying order = (0,1,0), seasonal_order = (1,1,3,7), MPE = 4.862252900075382\n",
            "trying order = (0,1,0), seasonal_order = (1,2,0,7), MPE = 6.628866094890079\n",
            "trying order = (0,1,0), seasonal_order = (1,2,1,7), MPE = 5.453949653092219\n",
            "trying order = (0,1,0), seasonal_order = (1,2,2,7), MPE = 3.6093868193930945\n",
            "trying order = (0,1,0), seasonal_order = (1,2,3,7), MPE = 3.698976779081884\n",
            "trying order = (0,1,0), seasonal_order = (2,1,0,7), MPE = 5.659817011158418\n",
            "trying order = (0,1,0), seasonal_order = (2,1,1,7), MPE = 4.897832850859392\n",
            "trying order = (0,1,0), seasonal_order = (2,1,2,7), MPE = 4.861601776823542\n",
            "trying order = (0,1,0), seasonal_order = (2,1,3,7), MPE = 4.524119039497785\n",
            "trying order = (0,1,0), seasonal_order = (2,2,0,7), MPE = 4.631209242726449\n",
            "trying order = (0,1,0), seasonal_order = (2,2,1,7), MPE = 5.285436295306717\n",
            "trying order = (0,1,0), seasonal_order = (2,2,2,7), MPE = 3.682838774451674\n",
            "trying order = (0,1,0), seasonal_order = (2,2,3,7), MPE = 3.565243209374016\n",
            "trying order = (0,1,0), seasonal_order = (3,1,0,7), MPE = 6.0024521019838675\n",
            "trying order = (0,1,0), seasonal_order = (3,1,1,7), MPE = 5.01205472439393\n",
            "trying order = (0,1,0), seasonal_order = (3,1,2,7), MPE = 4.883864862542275\n",
            "trying order = (0,1,0), seasonal_order = (3,1,3,7), MPE = 4.912285737382613\n",
            "trying order = (0,1,0), seasonal_order = (3,2,0,7), MPE = 5.529926919389687\n",
            "trying order = (0,1,0), seasonal_order = (3,2,1,7), MPE = 5.501294404453029\n",
            "trying order = (0,1,0), seasonal_order = (3,2,2,7), MPE = 5.016504690529446\n",
            "trying order = (0,1,0), seasonal_order = (3,2,3,7), MPE = 3.564469569722554\n",
            "trying order = (0,1,1), seasonal_order = (0,1,0,7), MPE = 3.787369645193594\n",
            "trying order = (0,1,1), seasonal_order = (0,1,1,7), MPE = 3.6801273972607436\n",
            "trying order = (0,1,1), seasonal_order = (0,1,2,7), MPE = 3.685976145930943\n",
            "trying order = (0,1,1), seasonal_order = (0,1,3,7), MPE = 3.683760205632416\n",
            "trying order = (0,1,1), seasonal_order = (0,2,0,7), MPE = 3.731173215846886\n",
            "trying order = (0,1,1), seasonal_order = (0,2,1,7), MPE = 3.722628603678406\n",
            "trying order = (0,1,1), seasonal_order = (0,2,2,7), MPE = 3.5112560915016635\n",
            "trying order = (0,1,1), seasonal_order = (0,2,3,7), MPE = 3.3128210091849373\n",
            "trying order = (0,1,1), seasonal_order = (1,1,0,7), MPE = 3.72462695764573\n",
            "trying order = (0,1,1), seasonal_order = (1,1,1,7), MPE = 3.685037485649701\n",
            "trying order = (0,1,1), seasonal_order = (1,1,2,7), MPE = 3.699906298473549\n",
            "trying order = (0,1,1), seasonal_order = (1,1,3,7), MPE = 3.6384664962300035\n",
            "trying order = (0,1,1), seasonal_order = (1,2,0,7), MPE = 2.593104623678047\n",
            "trying order = (0,1,1), seasonal_order = (1,2,1,7), MPE = 3.574232936873434\n",
            "trying order = (0,1,1), seasonal_order = (1,2,2,7), MPE = 3.345729078695045\n",
            "trying order = (0,1,1), seasonal_order = (1,2,3,7), MPE = 3.4138007947006934\n",
            "trying order = (0,1,1), seasonal_order = (2,1,0,7), MPE = 4.142087754000526\n",
            "trying order = (0,1,1), seasonal_order = (2,1,1,7), MPE = 3.687162544764193\n",
            "trying order = (0,1,1), seasonal_order = (2,1,2,7), MPE = 3.636794260523729\n",
            "trying order = (0,1,1), seasonal_order = (2,1,3,7), MPE = 3.6840268340381206\n",
            "trying order = (0,1,1), seasonal_order = (2,2,0,7), MPE = 2.7646348258459246\n",
            "trying order = (0,1,1), seasonal_order = (2,2,1,7), MPE = 3.784396461424507\n",
            "trying order = (0,1,1), seasonal_order = (2,2,2,7), MPE = 3.539433476764357\n",
            "trying order = (0,1,1), seasonal_order = (2,2,3,7), MPE = 3.20942492216707\n",
            "trying order = (0,1,1), seasonal_order = (3,1,0,7), MPE = 4.357600237667823\n",
            "trying order = (0,1,1), seasonal_order = (3,1,1,7), MPE = 3.822891087985694\n",
            "trying order = (0,1,1), seasonal_order = (3,1,2,7), MPE = 3.7179450926533946\n",
            "trying order = (0,1,1), seasonal_order = (3,1,3,7), MPE = 3.7241797141289577\n",
            "trying order = (0,1,1), seasonal_order = (3,2,0,7), MPE = 3.538137245760899\n",
            "trying order = (0,1,1), seasonal_order = (3,2,1,7), MPE = 3.905284571413664\n",
            "trying order = (0,1,1), seasonal_order = (3,2,2,7), MPE = 3.709585992805999\n",
            "trying order = (0,1,1), seasonal_order = (3,2,3,7), MPE = 2.895147361721656\n",
            "trying order = (0,1,2), seasonal_order = (0,1,0,7), MPE = 3.8921022365188063\n",
            "trying order = (0,1,2), seasonal_order = (0,1,1,7), MPE = 3.665034981719051\n",
            "trying order = (0,1,2), seasonal_order = (0,1,2,7), MPE = 3.6763380642789616\n",
            "trying order = (0,1,2), seasonal_order = (0,1,3,7), MPE = 3.674545295414352\n",
            "trying order = (0,1,2), seasonal_order = (0,2,0,7), MPE = 4.6662609588112725\n",
            "trying order = (0,1,2), seasonal_order = (0,2,1,7), MPE = 3.7986674748939326\n",
            "trying order = (0,1,2), seasonal_order = (0,2,2,7), MPE = 3.496988654153962\n",
            "trying order = (0,1,2), seasonal_order = (0,2,3,7), MPE = 3.281114148532954\n",
            "trying order = (0,1,2), seasonal_order = (1,1,0,7), MPE = 3.7688110794505705\n",
            "trying order = (0,1,2), seasonal_order = (1,1,1,7), MPE = 3.6760999945635513\n",
            "trying order = (0,1,2), seasonal_order = (1,1,2,7), MPE = 3.681601806234874\n",
            "trying order = (0,1,2), seasonal_order = (1,1,3,7), MPE = 3.622428516770257\n",
            "trying order = (0,1,2), seasonal_order = (1,2,0,7), MPE = 2.643042247597875\n",
            "trying order = (0,1,2), seasonal_order = (1,2,1,7), MPE = 3.610638635315795\n",
            "trying order = (0,1,2), seasonal_order = (1,2,2,7), MPE = 3.330710416191434\n",
            "trying order = (0,1,2), seasonal_order = (1,2,3,7), MPE = 3.3850877865009266\n",
            "trying order = (0,1,2), seasonal_order = (2,1,0,7), MPE = 4.1506239806558884\n",
            "trying order = (0,1,2), seasonal_order = (2,1,1,7), MPE = 3.6781287333444532\n",
            "trying order = (0,1,2), seasonal_order = (2,1,2,7), MPE = 3.621676395049516\n",
            "trying order = (0,1,2), seasonal_order = (2,1,3,7), MPE = 3.667538440033206\n",
            "trying order = (0,1,2), seasonal_order = (2,2,0,7), MPE = 2.784773919507835\n",
            "trying order = (0,1,2), seasonal_order = (2,2,1,7), MPE = 3.793903710010338\n",
            "trying order = (0,1,2), seasonal_order = (2,2,2,7), MPE = 3.132000749514397\n",
            "trying order = (0,1,2), seasonal_order = (2,2,3,7), MPE = 3.1759525361525403\n",
            "trying order = (0,1,2), seasonal_order = (3,1,0,7), MPE = 4.376360682544865\n",
            "trying order = (0,1,2), seasonal_order = (3,1,1,7), MPE = 3.8104956646090273\n",
            "trying order = (0,1,2), seasonal_order = (3,1,2,7), MPE = 3.7031435936880475\n",
            "trying order = (0,1,2), seasonal_order = (3,1,3,7), MPE = 3.7070003508694143\n",
            "trying order = (0,1,2), seasonal_order = (3,2,0,7), MPE = 3.5831731747166224\n",
            "trying order = (0,1,2), seasonal_order = (3,2,1,7), MPE = 3.9198004876414716\n",
            "trying order = (0,1,2), seasonal_order = (3,2,2,7), MPE = 3.7169750914170847\n",
            "trying order = (0,1,2), seasonal_order = (3,2,3,7), MPE = 3.42839123744412\n",
            "trying order = (0,1,3), seasonal_order = (0,1,0,7), MPE = 3.8994366111379164\n",
            "trying order = (0,1,3), seasonal_order = (0,1,1,7), MPE = 3.668125934378497\n",
            "trying order = (0,1,3), seasonal_order = (0,1,2,7), MPE = 3.6822439135862295\n",
            "trying order = (0,1,3), seasonal_order = (0,1,3,7), MPE = 3.679372914375638\n",
            "trying order = (0,1,3), seasonal_order = (0,2,0,7), MPE = 4.6666875577115245\n",
            "trying order = (0,1,3), seasonal_order = (0,2,1,7), MPE = 3.797166998472002\n",
            "trying order = (0,1,3), seasonal_order = (0,2,2,7), MPE = 3.4945248447984203\n",
            "trying order = (0,1,3), seasonal_order = (0,2,3,7), MPE = 3.2181907250240833\n",
            "trying order = (0,1,3), seasonal_order = (1,1,0,7), MPE = 3.7443240312750183\n",
            "trying order = (0,1,3), seasonal_order = (1,1,1,7), MPE = 3.681433520107249\n",
            "trying order = (0,1,3), seasonal_order = (1,1,2,7), MPE = 3.6840487982399748\n",
            "trying order = (0,1,3), seasonal_order = (1,1,3,7), MPE = 3.621582910589779\n",
            "trying order = (0,1,3), seasonal_order = (1,2,0,7), MPE = 2.6471166391610113\n",
            "trying order = (0,1,3), seasonal_order = (1,2,1,7), MPE = 3.608329774838188\n",
            "trying order = (0,1,3), seasonal_order = (1,2,2,7), MPE = 3.194824203049952\n",
            "trying order = (0,1,3), seasonal_order = (1,2,3,7), MPE = 3.374431920879244\n",
            "trying order = (0,1,3), seasonal_order = (2,1,0,7), MPE = 4.114782570492753\n",
            "trying order = (0,1,3), seasonal_order = (2,1,1,7), MPE = 3.6835779126553825\n",
            "trying order = (0,1,3), seasonal_order = (2,1,2,7), MPE = 3.620437415274771\n",
            "trying order = (0,1,3), seasonal_order = (2,1,3,7), MPE = 3.686640491243337\n",
            "trying order = (0,1,3), seasonal_order = (2,2,0,7), MPE = 2.7516827630249483\n",
            "trying order = (0,1,3), seasonal_order = (2,2,1,7), MPE = 3.7784230433493713\n",
            "trying order = (0,1,3), seasonal_order = (2,2,2,7), MPE = 3.4113516880092196\n",
            "trying order = (0,1,3), seasonal_order = (2,2,3,7), MPE = 3.1383993792207727\n",
            "trying order = (0,1,3), seasonal_order = (3,1,0,7), MPE = 4.346231792786169\n",
            "trying order = (0,1,3), seasonal_order = (3,1,1,7), MPE = 3.810812994188732\n",
            "trying order = (0,1,3), seasonal_order = (3,1,2,7), MPE = 3.702179693783955\n",
            "trying order = (0,1,3), seasonal_order = (3,1,3,7), MPE = 3.6705196185281657\n",
            "trying order = (0,1,3), seasonal_order = (3,2,0,7), MPE = 3.5125085821375968\n",
            "trying order = (0,1,3), seasonal_order = (3,2,1,7), MPE = 3.9107049250600574\n",
            "trying order = (0,1,3), seasonal_order = (3,2,2,7), MPE = 3.6898704041610237\n",
            "trying order = (0,1,3), seasonal_order = (3,2,3,7), MPE = 3.299231146011177\n",
            "trying order = (0,2,0), seasonal_order = (0,1,0,7), MPE = 3703.1920377555984\n",
            "trying order = (0,2,0), seasonal_order = (0,1,1,7), MPE = 919.6581587576904\n",
            "trying order = (0,2,0), seasonal_order = (0,1,2,7), MPE = 984.8765513958868\n",
            "trying order = (0,2,0), seasonal_order = (0,1,3,7), MPE = 986.8850964415439\n",
            "trying order = (0,2,0), seasonal_order = (0,2,0,7), MPE = 23729.4980879876\n",
            "trying order = (0,2,0), seasonal_order = (0,2,1,7), MPE = 3813.4302568356366\n",
            "trying order = (0,2,0), seasonal_order = (0,2,2,7), MPE = 817.1195640893236\n",
            "trying order = (0,2,0), seasonal_order = (0,2,3,7), MPE = 807.5378210816647\n",
            "trying order = (0,2,0), seasonal_order = (1,1,0,7), MPE = 1786.9803753110302\n",
            "trying order = (0,2,0), seasonal_order = (1,1,1,7), MPE = 982.4444378544225\n",
            "trying order = (0,2,0), seasonal_order = (1,1,2,7), MPE = 957.8057782449874\n",
            "trying order = (0,2,0), seasonal_order = (1,1,3,7), MPE = 953.1362742663194\n",
            "trying order = (0,2,0), seasonal_order = (1,2,0,7), MPE = 7329.420122620671\n",
            "trying order = (0,2,0), seasonal_order = (1,2,1,7), MPE = 1887.8074749959303\n",
            "trying order = (0,2,0), seasonal_order = (1,2,2,7), MPE = 802.1065438433525\n",
            "trying order = (0,2,0), seasonal_order = (1,2,3,7), MPE = 689.8858876785631\n",
            "trying order = (0,2,0), seasonal_order = (2,1,0,7), MPE = 1382.6970270274292\n",
            "trying order = (0,2,0), seasonal_order = (2,1,1,7), MPE = 982.6473040938428\n",
            "trying order = (0,2,0), seasonal_order = (2,1,2,7), MPE = 952.5659375915528\n",
            "trying order = (0,2,0), seasonal_order = (2,1,3,7), MPE = 627.6813633288805\n",
            "trying order = (0,2,0), seasonal_order = (2,2,0,7), MPE = 4251.457603185079\n",
            "trying order = (0,2,0), seasonal_order = (2,2,1,7), MPE = 1472.0535480707124\n",
            "trying order = (0,2,0), seasonal_order = (2,2,2,7), MPE = 803.4712554027391\n",
            "trying order = (0,2,0), seasonal_order = (2,2,3,7), MPE = 693.6679404396169\n",
            "trying order = (0,2,0), seasonal_order = (3,1,0,7), MPE = 1212.6934898303236\n",
            "trying order = (0,2,0), seasonal_order = (3,1,1,7), MPE = 983.0585079199689\n",
            "trying order = (0,2,0), seasonal_order = (3,1,2,7), MPE = 956.4325106291872\n",
            "trying order = (0,2,0), seasonal_order = (3,1,3,7), MPE = 620.1767559165683\n",
            "trying order = (0,2,0), seasonal_order = (3,2,0,7), MPE = 2870.3059391728375\n",
            "trying order = (0,2,0), seasonal_order = (3,2,1,7), MPE = 1314.7781878171286\n",
            "trying order = (0,2,0), seasonal_order = (3,2,2,7), MPE = 1428.428601995139\n",
            "trying order = (0,2,0), seasonal_order = (3,2,3,7), MPE = 700.8721110910774\n"
          ],
          "name": "stdout"
        },
        {
          "output_type": "stream",
          "text": [
            "/usr/local/lib/python3.7/dist-packages/statsmodels/tsa/statespace/sarimax.py:961: UserWarning:\n",
            "\n",
            "Non-invertible starting MA parameters found. Using zeros as starting parameters.\n",
            "\n"
          ],
          "name": "stderr"
        },
        {
          "output_type": "stream",
          "text": [
            "trying order = (0,2,1), seasonal_order = (0,1,0,7), MPE = 7.043703469831464\n",
            "trying order = (0,2,1), seasonal_order = (0,1,1,7), MPE = 4.320072434955067\n",
            "trying order = (0,2,1), seasonal_order = (0,1,2,7), MPE = 4.415605604389613\n",
            "trying order = (0,2,1), seasonal_order = (0,1,3,7), MPE = 4.410984230664978\n",
            "trying order = (0,2,1), seasonal_order = (0,2,0,7), MPE = 15.372823986780606\n",
            "trying order = (0,2,1), seasonal_order = (0,2,1,7), MPE = 7.328924614782834\n",
            "trying order = (0,2,1), seasonal_order = (0,2,2,7), MPE = 9.677608727118956\n",
            "trying order = (0,2,1), seasonal_order = (0,2,3,7), MPE = 9.829871787332591\n",
            "trying order = (0,2,1), seasonal_order = (1,1,0,7), MPE = 5.497775181696999\n",
            "trying order = (0,2,1), seasonal_order = (1,1,1,7), MPE = 4.415042771915923\n",
            "trying order = (0,2,1), seasonal_order = (1,1,2,7), MPE = 4.323417761106089\n",
            "trying order = (0,2,1), seasonal_order = (1,1,3,7), MPE = 4.324195240211465\n",
            "trying order = (0,2,1), seasonal_order = (1,2,0,7), MPE = 5.611563161897453\n",
            "trying order = (0,2,1), seasonal_order = (1,2,1,7), MPE = 6.206676007837481\n",
            "trying order = (0,2,1), seasonal_order = (1,2,2,7), MPE = 9.82561873481104\n",
            "trying order = (0,2,1), seasonal_order = (1,2,3,7), MPE = 9.243253716206073\n",
            "trying order = (0,2,1), seasonal_order = (2,1,0,7), MPE = 5.321603479048264\n",
            "trying order = (0,2,1), seasonal_order = (2,1,1,7), MPE = 4.4100817419717755\n",
            "trying order = (0,2,1), seasonal_order = (2,1,2,7), MPE = 4.324110697455753\n",
            "trying order = (0,2,1), seasonal_order = (2,1,3,7), MPE = 3.9557853313919145\n",
            "trying order = (0,2,1), seasonal_order = (2,2,0,7), MPE = 4.171926976308268\n",
            "trying order = (0,2,1), seasonal_order = (2,2,1,7), MPE = 7.389416619035635\n",
            "trying order = (0,2,1), seasonal_order = (2,2,2,7), MPE = 9.854456775390487\n",
            "trying order = (0,2,1), seasonal_order = (2,2,3,7), MPE = 9.312819158190887\n",
            "trying order = (0,2,1), seasonal_order = (3,1,0,7), MPE = 5.558643746819912\n",
            "trying order = (0,2,1), seasonal_order = (3,1,1,7), MPE = 4.428884697903459\n",
            "trying order = (0,2,1), seasonal_order = (3,1,2,7), MPE = 4.3338786485300425\n",
            "trying order = (0,2,1), seasonal_order = (3,1,3,7), MPE = 3.977169290281016\n",
            "trying order = (0,2,1), seasonal_order = (3,2,0,7), MPE = 5.107450827603091\n",
            "trying order = (0,2,1), seasonal_order = (3,2,1,7), MPE = 8.243591592494308\n",
            "trying order = (0,2,1), seasonal_order = (3,2,2,7), MPE = 6.955505413080638\n",
            "trying order = (0,2,1), seasonal_order = (3,2,3,7), MPE = 9.138786394482235\n",
            "trying order = (0,2,2), seasonal_order = (0,1,0,7), MPE = 3.7167730103155527\n",
            "trying order = (0,2,2), seasonal_order = (0,1,1,7), MPE = 3.8306393931362837\n",
            "trying order = (0,2,2), seasonal_order = (0,1,2,7), MPE = 3.8501285962066056\n",
            "trying order = (0,2,2), seasonal_order = (0,1,3,7), MPE = 3.883096657078815\n",
            "trying order = (0,2,2), seasonal_order = (0,2,0,7), MPE = 3.272480062273185\n",
            "trying order = (0,2,2), seasonal_order = (0,2,1,7), MPE = 3.997276655733672\n",
            "trying order = (0,2,2), seasonal_order = (0,2,2,7), MPE = 4.759401417542365\n",
            "trying order = (0,2,2), seasonal_order = (0,2,3,7), MPE = 5.144764651045473\n",
            "trying order = (0,2,2), seasonal_order = (1,1,0,7), MPE = 3.566877090179537\n",
            "trying order = (0,2,2), seasonal_order = (1,1,1,7), MPE = 3.845412850196891\n",
            "trying order = (0,2,2), seasonal_order = (1,1,2,7), MPE = 3.840863381381186\n",
            "trying order = (0,2,2), seasonal_order = (1,1,3,7), MPE = 3.7739207865628055\n",
            "trying order = (0,2,2), seasonal_order = (1,2,0,7), MPE = 2.206550827247136\n",
            "trying order = (0,2,2), seasonal_order = (1,2,1,7), MPE = 4.151499029772428\n",
            "trying order = (0,2,2), seasonal_order = (1,2,2,7), MPE = 8.12196087413657\n",
            "trying order = (0,2,2), seasonal_order = (1,2,3,7), MPE = 4.5950410492568725\n",
            "trying order = (0,2,2), seasonal_order = (2,1,0,7), MPE = 3.8931806272133174\n",
            "trying order = (0,2,2), seasonal_order = (2,1,1,7), MPE = 3.867796406168393\n",
            "trying order = (0,2,2), seasonal_order = (2,1,2,7), MPE = 3.7698156341243916\n",
            "trying order = (0,2,2), seasonal_order = (2,1,3,7), MPE = 3.760560982088165\n",
            "trying order = (0,2,2), seasonal_order = (2,2,0,7), MPE = 2.46759624486722\n",
            "trying order = (0,2,2), seasonal_order = (2,2,1,7), MPE = 5.488863160231014\n",
            "trying order = (0,2,2), seasonal_order = (2,2,2,7), MPE = 7.8942340569198866\n",
            "trying order = (0,2,2), seasonal_order = (2,2,3,7), MPE = 4.836769711227933\n",
            "trying order = (0,2,2), seasonal_order = (3,1,0,7), MPE = 4.383035075838508\n",
            "trying order = (0,2,2), seasonal_order = (3,1,1,7), MPE = 3.8493632521025165\n",
            "trying order = (0,2,2), seasonal_order = (3,1,2,7), MPE = 3.7962272582624794\n",
            "trying order = (0,2,2), seasonal_order = (3,1,3,7), MPE = 3.781713090942413\n",
            "trying order = (0,2,2), seasonal_order = (3,2,0,7), MPE = 3.3071282056340197\n",
            "trying order = (0,2,2), seasonal_order = (3,2,1,7), MPE = 5.779802962036955\n",
            "trying order = (0,2,2), seasonal_order = (3,2,2,7), MPE = 5.291564937650881\n",
            "trying order = (0,2,2), seasonal_order = (3,2,3,7), MPE = 4.722636270127171\n",
            "trying order = (0,2,3), seasonal_order = (0,1,0,7), MPE = 3.789203388348191\n",
            "trying order = (0,2,3), seasonal_order = (0,1,1,7), MPE = 3.8509521124102397\n",
            "trying order = (0,2,3), seasonal_order = (0,1,2,7), MPE = 3.8845185415800807\n",
            "trying order = (0,2,3), seasonal_order = (0,1,3,7), MPE = 3.9243561247546426\n",
            "trying order = (0,2,3), seasonal_order = (0,2,0,7), MPE = 5.574000076830785\n",
            "trying order = (0,2,3), seasonal_order = (0,2,1,7), MPE = 4.183840461676775\n",
            "trying order = (0,2,3), seasonal_order = (0,2,2,7), MPE = 4.221213402045335\n",
            "trying order = (0,2,3), seasonal_order = (0,2,3,7), MPE = 4.878640969657007\n",
            "trying order = (0,2,3), seasonal_order = (1,1,0,7), MPE = 3.5996816535882203\n",
            "trying order = (0,2,3), seasonal_order = (1,1,1,7), MPE = 3.87765498638305\n",
            "trying order = (0,2,3), seasonal_order = (1,1,2,7), MPE = 3.881104932354141\n",
            "trying order = (0,2,3), seasonal_order = (1,1,3,7), MPE = 3.8489567332293193\n",
            "trying order = (0,2,3), seasonal_order = (1,2,0,7), MPE = 2.250127717021423\n",
            "trying order = (0,2,3), seasonal_order = (1,2,1,7), MPE = 4.231158541369369\n",
            "trying order = (0,2,3), seasonal_order = (1,2,2,7), MPE = 7.969348527308132\n",
            "trying order = (0,2,3), seasonal_order = (1,2,3,7), MPE = 4.183204360932934\n"
          ],
          "name": "stdout"
        },
        {
          "output_type": "stream",
          "text": [
            "/usr/local/lib/python3.7/dist-packages/statsmodels/base/model.py:512: ConvergenceWarning:\n",
            "\n",
            "Maximum Likelihood optimization failed to converge. Check mle_retvals\n",
            "\n"
          ],
          "name": "stderr"
        },
        {
          "output_type": "stream",
          "text": [
            "trying order = (0,2,3), seasonal_order = (2,1,0,7), MPE = 3.907013852749114\n",
            "trying order = (0,2,3), seasonal_order = (2,1,1,7), MPE = 3.90836948768424\n",
            "trying order = (0,2,3), seasonal_order = (2,1,2,7), MPE = 3.845113474500786\n",
            "trying order = (0,2,3), seasonal_order = (2,1,3,7), MPE = 3.8477996555133385\n",
            "trying order = (0,2,3), seasonal_order = (2,2,0,7), MPE = 2.4792411112219312\n",
            "trying order = (0,2,3), seasonal_order = (2,2,1,7), MPE = 5.532785296148179\n",
            "trying order = (0,2,3), seasonal_order = (2,2,2,7), MPE = 7.9591874537605785\n",
            "trying order = (0,2,3), seasonal_order = (2,2,3,7), MPE = 4.557806380337343\n",
            "trying order = (0,2,3), seasonal_order = (3,1,0,7), MPE = 4.435945098781601\n",
            "trying order = (0,2,3), seasonal_order = (3,1,1,7), MPE = 3.8843866557804776\n",
            "trying order = (0,2,3), seasonal_order = (3,1,2,7), MPE = 3.837729525801845\n",
            "trying order = (0,2,3), seasonal_order = (3,1,3,7), MPE = 3.8278045849527693\n",
            "trying order = (0,2,3), seasonal_order = (3,2,0,7), MPE = 3.3460969120593447\n",
            "trying order = (0,2,3), seasonal_order = (3,2,1,7), MPE = 5.692943066246131\n",
            "trying order = (0,2,3), seasonal_order = (3,2,2,7), MPE = 5.320828143270278\n",
            "trying order = (0,2,3), seasonal_order = (3,2,3,7), MPE = 4.4580437347642725\n",
            "trying order = (1,1,0), seasonal_order = (0,1,0,7), MPE = 3.7882640653276693\n",
            "trying order = (1,1,0), seasonal_order = (0,1,1,7), MPE = 3.7499169310535225\n",
            "trying order = (1,1,0), seasonal_order = (0,1,2,7), MPE = 3.7528018257661606\n",
            "trying order = (1,1,0), seasonal_order = (0,1,3,7), MPE = 3.755710687360122\n",
            "trying order = (1,1,0), seasonal_order = (0,2,0,7), MPE = 5.623024608682556\n"
          ],
          "name": "stdout"
        },
        {
          "output_type": "stream",
          "text": [
            "/usr/local/lib/python3.7/dist-packages/statsmodels/base/model.py:512: ConvergenceWarning:\n",
            "\n",
            "Maximum Likelihood optimization failed to converge. Check mle_retvals\n",
            "\n"
          ],
          "name": "stderr"
        },
        {
          "output_type": "stream",
          "text": [
            "trying order = (1,1,0), seasonal_order = (0,2,1,7), MPE = 3.773063275691453\n",
            "trying order = (1,1,0), seasonal_order = (0,2,2,7), MPE = 2.8680518272653264\n",
            "trying order = (1,1,0), seasonal_order = (0,2,3,7), MPE = 2.78906434836878\n",
            "trying order = (1,1,0), seasonal_order = (1,1,0,7), MPE = 3.6278724852377677\n",
            "trying order = (1,1,0), seasonal_order = (1,1,1,7), MPE = 3.752313198121467\n",
            "trying order = (1,1,0), seasonal_order = (1,1,2,7), MPE = 3.7377858607695194\n",
            "trying order = (1,1,0), seasonal_order = (1,1,3,7), MPE = 3.738097176634664\n",
            "trying order = (1,1,0), seasonal_order = (1,2,0,7), MPE = 3.0500503171997155\n",
            "trying order = (1,1,0), seasonal_order = (1,2,1,7), MPE = 3.5297624095071995\n",
            "trying order = (1,1,0), seasonal_order = (1,2,2,7), MPE = 2.7798409334257603\n",
            "trying order = (1,1,0), seasonal_order = (1,2,3,7), MPE = 2.8840062741375214\n",
            "trying order = (1,1,0), seasonal_order = (2,1,0,7), MPE = 3.954321518015163\n",
            "trying order = (1,1,0), seasonal_order = (2,1,1,7), MPE = 3.7531975723241047\n",
            "trying order = (1,1,0), seasonal_order = (2,1,2,7), MPE = 3.737931166381905\n",
            "trying order = (1,1,0), seasonal_order = (2,1,3,7), MPE = 3.7293295049786606\n",
            "trying order = (1,1,0), seasonal_order = (2,2,0,7), MPE = 2.456074554185802\n",
            "trying order = (1,1,0), seasonal_order = (2,2,1,7), MPE = 3.646805084053825\n",
            "trying order = (1,1,0), seasonal_order = (2,2,2,7), MPE = 2.859522965275751\n",
            "trying order = (1,1,0), seasonal_order = (2,2,3,7), MPE = 2.762513875547002\n",
            "trying order = (1,1,0), seasonal_order = (3,1,0,7), MPE = 4.2529992224980075\n",
            "trying order = (1,1,0), seasonal_order = (3,1,1,7), MPE = 3.845682290457631\n",
            "trying order = (1,1,0), seasonal_order = (3,1,2,7), MPE = 3.7375252114604103\n",
            "trying order = (1,1,0), seasonal_order = (3,1,3,7), MPE = 3.720134494965597\n",
            "trying order = (1,1,0), seasonal_order = (3,2,0,7), MPE = 3.2030515517032643\n",
            "trying order = (1,1,0), seasonal_order = (3,2,1,7), MPE = 3.841635684510694\n",
            "trying order = (1,1,0), seasonal_order = (3,2,2,7), MPE = 3.5242179317689937\n"
          ],
          "name": "stdout"
        },
        {
          "output_type": "error",
          "ename": "KeyboardInterrupt",
          "evalue": "ignored",
          "traceback": [
            "\u001b[0;31m---------------------------------------------------------------------------\u001b[0m",
            "\u001b[0;31mKeyboardInterrupt\u001b[0m                         Traceback (most recent call last)",
            "\u001b[0;32m<ipython-input-200-32552284c188>\u001b[0m in \u001b[0;36m<module>\u001b[0;34m()\u001b[0m\n\u001b[1;32m     10\u001b[0m                         model = SARIMAX(cbrt_train, order =(p,d,q), seasonal_order = (P,D,Q,7),\n\u001b[1;32m     11\u001b[0m                                        freq = 'D')\n\u001b[0;32m---> 12\u001b[0;31m                         \u001b[0mfit_model\u001b[0m \u001b[0;34m=\u001b[0m \u001b[0mmodel\u001b[0m\u001b[0;34m.\u001b[0m\u001b[0mfit\u001b[0m\u001b[0;34m(\u001b[0m\u001b[0mmaxiter\u001b[0m \u001b[0;34m=\u001b[0m \u001b[0;36m200\u001b[0m\u001b[0;34m,\u001b[0m \u001b[0mdisp\u001b[0m \u001b[0;34m=\u001b[0m \u001b[0;32mFalse\u001b[0m\u001b[0;34m)\u001b[0m\u001b[0;34m\u001b[0m\u001b[0;34m\u001b[0m\u001b[0m\n\u001b[0m\u001b[1;32m     13\u001b[0m                         \u001b[0myhat\u001b[0m \u001b[0;34m=\u001b[0m \u001b[0mfit_model\u001b[0m\u001b[0;34m.\u001b[0m\u001b[0mforecast\u001b[0m\u001b[0;34m(\u001b[0m\u001b[0mlen\u001b[0m\u001b[0;34m(\u001b[0m\u001b[0mtest\u001b[0m\u001b[0;34m)\u001b[0m\u001b[0;34m)\u001b[0m\u001b[0;34m\u001b[0m\u001b[0;34m\u001b[0m\u001b[0m\n\u001b[1;32m     14\u001b[0m                         \u001b[0myhat\u001b[0m \u001b[0;34m=\u001b[0m \u001b[0myhat\u001b[0m\u001b[0;34m**\u001b[0m\u001b[0;36m3\u001b[0m\u001b[0;34m\u001b[0m\u001b[0;34m\u001b[0m\u001b[0m\n",
            "\u001b[0;32m/usr/local/lib/python3.7/dist-packages/statsmodels/tsa/statespace/mlemodel.py\u001b[0m in \u001b[0;36mfit\u001b[0;34m(self, start_params, transformed, cov_type, cov_kwds, method, maxiter, full_output, disp, callback, return_params, optim_score, optim_complex_step, optim_hessian, flags, **kwargs)\u001b[0m\n\u001b[1;32m    481\u001b[0m                                            \u001b[0mfull_output\u001b[0m\u001b[0;34m=\u001b[0m\u001b[0mfull_output\u001b[0m\u001b[0;34m,\u001b[0m\u001b[0;34m\u001b[0m\u001b[0;34m\u001b[0m\u001b[0m\n\u001b[1;32m    482\u001b[0m                                            \u001b[0mdisp\u001b[0m\u001b[0;34m=\u001b[0m\u001b[0mdisp\u001b[0m\u001b[0;34m,\u001b[0m \u001b[0mcallback\u001b[0m\u001b[0;34m=\u001b[0m\u001b[0mcallback\u001b[0m\u001b[0;34m,\u001b[0m\u001b[0;34m\u001b[0m\u001b[0;34m\u001b[0m\u001b[0m\n\u001b[0;32m--> 483\u001b[0;31m                                            skip_hessian=True, **kwargs)\n\u001b[0m\u001b[1;32m    484\u001b[0m \u001b[0;34m\u001b[0m\u001b[0m\n\u001b[1;32m    485\u001b[0m         \u001b[0;31m# Just return the fitted parameters if requested\u001b[0m\u001b[0;34m\u001b[0m\u001b[0;34m\u001b[0m\u001b[0;34m\u001b[0m\u001b[0m\n",
            "\u001b[0;32m/usr/local/lib/python3.7/dist-packages/statsmodels/base/model.py\u001b[0m in \u001b[0;36mfit\u001b[0;34m(self, start_params, method, maxiter, full_output, disp, fargs, callback, retall, skip_hessian, **kwargs)\u001b[0m\n\u001b[1;32m    468\u001b[0m                                                        \u001b[0mcallback\u001b[0m\u001b[0;34m=\u001b[0m\u001b[0mcallback\u001b[0m\u001b[0;34m,\u001b[0m\u001b[0;34m\u001b[0m\u001b[0;34m\u001b[0m\u001b[0m\n\u001b[1;32m    469\u001b[0m                                                        \u001b[0mretall\u001b[0m\u001b[0;34m=\u001b[0m\u001b[0mretall\u001b[0m\u001b[0;34m,\u001b[0m\u001b[0;34m\u001b[0m\u001b[0;34m\u001b[0m\u001b[0m\n\u001b[0;32m--> 470\u001b[0;31m                                                        full_output=full_output)\n\u001b[0m\u001b[1;32m    471\u001b[0m \u001b[0;34m\u001b[0m\u001b[0m\n\u001b[1;32m    472\u001b[0m         \u001b[0;31m# NOTE: this is for fit_regularized and should be generalized\u001b[0m\u001b[0;34m\u001b[0m\u001b[0;34m\u001b[0m\u001b[0;34m\u001b[0m\u001b[0m\n",
            "\u001b[0;32m/usr/local/lib/python3.7/dist-packages/statsmodels/base/optimizer.py\u001b[0m in \u001b[0;36m_fit\u001b[0;34m(self, objective, gradient, start_params, fargs, kwargs, hessian, method, maxiter, full_output, disp, callback, retall)\u001b[0m\n\u001b[1;32m    217\u001b[0m                             \u001b[0mdisp\u001b[0m\u001b[0;34m=\u001b[0m\u001b[0mdisp\u001b[0m\u001b[0;34m,\u001b[0m \u001b[0mmaxiter\u001b[0m\u001b[0;34m=\u001b[0m\u001b[0mmaxiter\u001b[0m\u001b[0;34m,\u001b[0m \u001b[0mcallback\u001b[0m\u001b[0;34m=\u001b[0m\u001b[0mcallback\u001b[0m\u001b[0;34m,\u001b[0m\u001b[0;34m\u001b[0m\u001b[0;34m\u001b[0m\u001b[0m\n\u001b[1;32m    218\u001b[0m                             \u001b[0mretall\u001b[0m\u001b[0;34m=\u001b[0m\u001b[0mretall\u001b[0m\u001b[0;34m,\u001b[0m \u001b[0mfull_output\u001b[0m\u001b[0;34m=\u001b[0m\u001b[0mfull_output\u001b[0m\u001b[0;34m,\u001b[0m\u001b[0;34m\u001b[0m\u001b[0;34m\u001b[0m\u001b[0m\n\u001b[0;32m--> 219\u001b[0;31m                             hess=hessian)\n\u001b[0m\u001b[1;32m    220\u001b[0m \u001b[0;34m\u001b[0m\u001b[0m\n\u001b[1;32m    221\u001b[0m         optim_settings = {'optimizer': method, 'start_params': start_params,\n",
            "\u001b[0;32m/usr/local/lib/python3.7/dist-packages/statsmodels/base/optimizer.py\u001b[0m in \u001b[0;36m_fit_lbfgs\u001b[0;34m(f, score, start_params, fargs, kwargs, disp, maxiter, callback, retall, full_output, hess)\u001b[0m\n\u001b[1;32m    437\u001b[0m                                      \u001b[0mcallback\u001b[0m\u001b[0;34m=\u001b[0m\u001b[0mcallback\u001b[0m\u001b[0;34m,\u001b[0m \u001b[0margs\u001b[0m\u001b[0;34m=\u001b[0m\u001b[0mfargs\u001b[0m\u001b[0;34m,\u001b[0m\u001b[0;34m\u001b[0m\u001b[0;34m\u001b[0m\u001b[0m\n\u001b[1;32m    438\u001b[0m                                      \u001b[0mbounds\u001b[0m\u001b[0;34m=\u001b[0m\u001b[0mbounds\u001b[0m\u001b[0;34m,\u001b[0m \u001b[0mdisp\u001b[0m\u001b[0;34m=\u001b[0m\u001b[0mdisp\u001b[0m\u001b[0;34m,\u001b[0m\u001b[0;34m\u001b[0m\u001b[0;34m\u001b[0m\u001b[0m\n\u001b[0;32m--> 439\u001b[0;31m                                      **extra_kwargs)\n\u001b[0m\u001b[1;32m    440\u001b[0m \u001b[0;34m\u001b[0m\u001b[0m\n\u001b[1;32m    441\u001b[0m     \u001b[0;32mif\u001b[0m \u001b[0mfull_output\u001b[0m\u001b[0;34m:\u001b[0m\u001b[0;34m\u001b[0m\u001b[0;34m\u001b[0m\u001b[0m\n",
            "\u001b[0;32m/usr/local/lib/python3.7/dist-packages/scipy/optimize/lbfgsb.py\u001b[0m in \u001b[0;36mfmin_l_bfgs_b\u001b[0;34m(func, x0, fprime, args, approx_grad, bounds, m, factr, pgtol, epsilon, iprint, maxfun, maxiter, disp, callback, maxls)\u001b[0m\n\u001b[1;32m    197\u001b[0m \u001b[0;34m\u001b[0m\u001b[0m\n\u001b[1;32m    198\u001b[0m     res = _minimize_lbfgsb(fun, x0, args=args, jac=jac, bounds=bounds,\n\u001b[0;32m--> 199\u001b[0;31m                            **opts)\n\u001b[0m\u001b[1;32m    200\u001b[0m     d = {'grad': res['jac'],\n\u001b[1;32m    201\u001b[0m          \u001b[0;34m'task'\u001b[0m\u001b[0;34m:\u001b[0m \u001b[0mres\u001b[0m\u001b[0;34m[\u001b[0m\u001b[0;34m'message'\u001b[0m\u001b[0;34m]\u001b[0m\u001b[0;34m,\u001b[0m\u001b[0;34m\u001b[0m\u001b[0;34m\u001b[0m\u001b[0m\n",
            "\u001b[0;32m/usr/local/lib/python3.7/dist-packages/scipy/optimize/lbfgsb.py\u001b[0m in \u001b[0;36m_minimize_lbfgsb\u001b[0;34m(fun, x0, args, jac, bounds, disp, maxcor, ftol, gtol, eps, maxfun, maxiter, iprint, callback, maxls, **unknown_options)\u001b[0m\n\u001b[1;32m    343\u001b[0m             \u001b[0;31m# until the completion of the current minimization iteration.\u001b[0m\u001b[0;34m\u001b[0m\u001b[0;34m\u001b[0m\u001b[0;34m\u001b[0m\u001b[0m\n\u001b[1;32m    344\u001b[0m             \u001b[0;31m# Overwrite f and g:\u001b[0m\u001b[0;34m\u001b[0m\u001b[0;34m\u001b[0m\u001b[0;34m\u001b[0m\u001b[0m\n\u001b[0;32m--> 345\u001b[0;31m             \u001b[0mf\u001b[0m\u001b[0;34m,\u001b[0m \u001b[0mg\u001b[0m \u001b[0;34m=\u001b[0m \u001b[0mfunc_and_grad\u001b[0m\u001b[0;34m(\u001b[0m\u001b[0mx\u001b[0m\u001b[0;34m)\u001b[0m\u001b[0;34m\u001b[0m\u001b[0;34m\u001b[0m\u001b[0m\n\u001b[0m\u001b[1;32m    346\u001b[0m         \u001b[0;32melif\u001b[0m \u001b[0mtask_str\u001b[0m\u001b[0;34m.\u001b[0m\u001b[0mstartswith\u001b[0m\u001b[0;34m(\u001b[0m\u001b[0;34mb'NEW_X'\u001b[0m\u001b[0;34m)\u001b[0m\u001b[0;34m:\u001b[0m\u001b[0;34m\u001b[0m\u001b[0;34m\u001b[0m\u001b[0m\n\u001b[1;32m    347\u001b[0m             \u001b[0;31m# new iteration\u001b[0m\u001b[0;34m\u001b[0m\u001b[0;34m\u001b[0m\u001b[0;34m\u001b[0m\u001b[0m\n",
            "\u001b[0;32m/usr/local/lib/python3.7/dist-packages/scipy/optimize/lbfgsb.py\u001b[0m in \u001b[0;36mfunc_and_grad\u001b[0;34m(x)\u001b[0m\n\u001b[1;32m    289\u001b[0m         \u001b[0;32mdef\u001b[0m \u001b[0mfunc_and_grad\u001b[0m\u001b[0;34m(\u001b[0m\u001b[0mx\u001b[0m\u001b[0;34m)\u001b[0m\u001b[0;34m:\u001b[0m\u001b[0;34m\u001b[0m\u001b[0;34m\u001b[0m\u001b[0m\n\u001b[1;32m    290\u001b[0m             \u001b[0mf\u001b[0m \u001b[0;34m=\u001b[0m \u001b[0mfun\u001b[0m\u001b[0;34m(\u001b[0m\u001b[0mx\u001b[0m\u001b[0;34m,\u001b[0m \u001b[0;34m*\u001b[0m\u001b[0margs\u001b[0m\u001b[0;34m)\u001b[0m\u001b[0;34m\u001b[0m\u001b[0;34m\u001b[0m\u001b[0m\n\u001b[0;32m--> 291\u001b[0;31m             \u001b[0mg\u001b[0m \u001b[0;34m=\u001b[0m \u001b[0m_approx_fprime_helper\u001b[0m\u001b[0;34m(\u001b[0m\u001b[0mx\u001b[0m\u001b[0;34m,\u001b[0m \u001b[0mfun\u001b[0m\u001b[0;34m,\u001b[0m \u001b[0mepsilon\u001b[0m\u001b[0;34m,\u001b[0m \u001b[0margs\u001b[0m\u001b[0;34m=\u001b[0m\u001b[0margs\u001b[0m\u001b[0;34m,\u001b[0m \u001b[0mf0\u001b[0m\u001b[0;34m=\u001b[0m\u001b[0mf\u001b[0m\u001b[0;34m)\u001b[0m\u001b[0;34m\u001b[0m\u001b[0;34m\u001b[0m\u001b[0m\n\u001b[0m\u001b[1;32m    292\u001b[0m             \u001b[0;32mreturn\u001b[0m \u001b[0mf\u001b[0m\u001b[0;34m,\u001b[0m \u001b[0mg\u001b[0m\u001b[0;34m\u001b[0m\u001b[0;34m\u001b[0m\u001b[0m\n\u001b[1;32m    293\u001b[0m     \u001b[0;32melse\u001b[0m\u001b[0;34m:\u001b[0m\u001b[0;34m\u001b[0m\u001b[0;34m\u001b[0m\u001b[0m\n",
            "\u001b[0;32m/usr/local/lib/python3.7/dist-packages/scipy/optimize/optimize.py\u001b[0m in \u001b[0;36m_approx_fprime_helper\u001b[0;34m(xk, f, epsilon, args, f0)\u001b[0m\n\u001b[1;32m    695\u001b[0m         \u001b[0mei\u001b[0m\u001b[0;34m[\u001b[0m\u001b[0mk\u001b[0m\u001b[0;34m]\u001b[0m \u001b[0;34m=\u001b[0m \u001b[0;36m1.0\u001b[0m\u001b[0;34m\u001b[0m\u001b[0;34m\u001b[0m\u001b[0m\n\u001b[1;32m    696\u001b[0m         \u001b[0md\u001b[0m \u001b[0;34m=\u001b[0m \u001b[0mepsilon\u001b[0m \u001b[0;34m*\u001b[0m \u001b[0mei\u001b[0m\u001b[0;34m\u001b[0m\u001b[0;34m\u001b[0m\u001b[0m\n\u001b[0;32m--> 697\u001b[0;31m         \u001b[0mdf\u001b[0m \u001b[0;34m=\u001b[0m \u001b[0;34m(\u001b[0m\u001b[0mf\u001b[0m\u001b[0;34m(\u001b[0m\u001b[0;34m*\u001b[0m\u001b[0;34m(\u001b[0m\u001b[0;34m(\u001b[0m\u001b[0mxk\u001b[0m \u001b[0;34m+\u001b[0m \u001b[0md\u001b[0m\u001b[0;34m,\u001b[0m\u001b[0;34m)\u001b[0m \u001b[0;34m+\u001b[0m \u001b[0margs\u001b[0m\u001b[0;34m)\u001b[0m\u001b[0;34m)\u001b[0m \u001b[0;34m-\u001b[0m \u001b[0mf0\u001b[0m\u001b[0;34m)\u001b[0m \u001b[0;34m/\u001b[0m \u001b[0md\u001b[0m\u001b[0;34m[\u001b[0m\u001b[0mk\u001b[0m\u001b[0;34m]\u001b[0m\u001b[0;34m\u001b[0m\u001b[0;34m\u001b[0m\u001b[0m\n\u001b[0m\u001b[1;32m    698\u001b[0m         \u001b[0;32mif\u001b[0m \u001b[0;32mnot\u001b[0m \u001b[0mnp\u001b[0m\u001b[0;34m.\u001b[0m\u001b[0misscalar\u001b[0m\u001b[0;34m(\u001b[0m\u001b[0mdf\u001b[0m\u001b[0;34m)\u001b[0m\u001b[0;34m:\u001b[0m\u001b[0;34m\u001b[0m\u001b[0;34m\u001b[0m\u001b[0m\n\u001b[1;32m    699\u001b[0m             \u001b[0;32mtry\u001b[0m\u001b[0;34m:\u001b[0m\u001b[0;34m\u001b[0m\u001b[0;34m\u001b[0m\u001b[0m\n",
            "\u001b[0;32m/usr/local/lib/python3.7/dist-packages/scipy/optimize/optimize.py\u001b[0m in \u001b[0;36mfunction_wrapper\u001b[0;34m(*wrapper_args)\u001b[0m\n\u001b[1;32m    325\u001b[0m     \u001b[0;32mdef\u001b[0m \u001b[0mfunction_wrapper\u001b[0m\u001b[0;34m(\u001b[0m\u001b[0;34m*\u001b[0m\u001b[0mwrapper_args\u001b[0m\u001b[0;34m)\u001b[0m\u001b[0;34m:\u001b[0m\u001b[0;34m\u001b[0m\u001b[0;34m\u001b[0m\u001b[0m\n\u001b[1;32m    326\u001b[0m         \u001b[0mncalls\u001b[0m\u001b[0;34m[\u001b[0m\u001b[0;36m0\u001b[0m\u001b[0;34m]\u001b[0m \u001b[0;34m+=\u001b[0m \u001b[0;36m1\u001b[0m\u001b[0;34m\u001b[0m\u001b[0;34m\u001b[0m\u001b[0m\n\u001b[0;32m--> 327\u001b[0;31m         \u001b[0;32mreturn\u001b[0m \u001b[0mfunction\u001b[0m\u001b[0;34m(\u001b[0m\u001b[0;34m*\u001b[0m\u001b[0;34m(\u001b[0m\u001b[0mwrapper_args\u001b[0m \u001b[0;34m+\u001b[0m \u001b[0margs\u001b[0m\u001b[0;34m)\u001b[0m\u001b[0;34m)\u001b[0m\u001b[0;34m\u001b[0m\u001b[0;34m\u001b[0m\u001b[0m\n\u001b[0m\u001b[1;32m    328\u001b[0m \u001b[0;34m\u001b[0m\u001b[0m\n\u001b[1;32m    329\u001b[0m     \u001b[0;32mreturn\u001b[0m \u001b[0mncalls\u001b[0m\u001b[0;34m,\u001b[0m \u001b[0mfunction_wrapper\u001b[0m\u001b[0;34m\u001b[0m\u001b[0;34m\u001b[0m\u001b[0m\n",
            "\u001b[0;32m/usr/local/lib/python3.7/dist-packages/statsmodels/base/model.py\u001b[0m in \u001b[0;36mf\u001b[0;34m(params, *args)\u001b[0m\n\u001b[1;32m    442\u001b[0m \u001b[0;34m\u001b[0m\u001b[0m\n\u001b[1;32m    443\u001b[0m         \u001b[0;32mdef\u001b[0m \u001b[0mf\u001b[0m\u001b[0;34m(\u001b[0m\u001b[0mparams\u001b[0m\u001b[0;34m,\u001b[0m \u001b[0;34m*\u001b[0m\u001b[0margs\u001b[0m\u001b[0;34m)\u001b[0m\u001b[0;34m:\u001b[0m\u001b[0;34m\u001b[0m\u001b[0;34m\u001b[0m\u001b[0m\n\u001b[0;32m--> 444\u001b[0;31m             \u001b[0;32mreturn\u001b[0m \u001b[0;34m-\u001b[0m\u001b[0mself\u001b[0m\u001b[0;34m.\u001b[0m\u001b[0mloglike\u001b[0m\u001b[0;34m(\u001b[0m\u001b[0mparams\u001b[0m\u001b[0;34m,\u001b[0m \u001b[0;34m*\u001b[0m\u001b[0margs\u001b[0m\u001b[0;34m)\u001b[0m \u001b[0;34m/\u001b[0m \u001b[0mnobs\u001b[0m\u001b[0;34m\u001b[0m\u001b[0;34m\u001b[0m\u001b[0m\n\u001b[0m\u001b[1;32m    445\u001b[0m \u001b[0;34m\u001b[0m\u001b[0m\n\u001b[1;32m    446\u001b[0m         \u001b[0;32mif\u001b[0m \u001b[0mmethod\u001b[0m \u001b[0;34m==\u001b[0m \u001b[0;34m'newton'\u001b[0m\u001b[0;34m:\u001b[0m\u001b[0;34m\u001b[0m\u001b[0;34m\u001b[0m\u001b[0m\n",
            "\u001b[0;32m/usr/local/lib/python3.7/dist-packages/statsmodels/tsa/statespace/mlemodel.py\u001b[0m in \u001b[0;36mloglike\u001b[0;34m(self, params, *args, **kwargs)\u001b[0m\n\u001b[1;32m    658\u001b[0m             \u001b[0mkwargs\u001b[0m\u001b[0;34m[\u001b[0m\u001b[0;34m'inversion_method'\u001b[0m\u001b[0;34m]\u001b[0m \u001b[0;34m=\u001b[0m \u001b[0mINVERT_UNIVARIATE\u001b[0m \u001b[0;34m|\u001b[0m \u001b[0mSOLVE_LU\u001b[0m\u001b[0;34m\u001b[0m\u001b[0;34m\u001b[0m\u001b[0m\n\u001b[1;32m    659\u001b[0m \u001b[0;34m\u001b[0m\u001b[0m\n\u001b[0;32m--> 660\u001b[0;31m         \u001b[0mloglike\u001b[0m \u001b[0;34m=\u001b[0m \u001b[0mself\u001b[0m\u001b[0;34m.\u001b[0m\u001b[0mssm\u001b[0m\u001b[0;34m.\u001b[0m\u001b[0mloglike\u001b[0m\u001b[0;34m(\u001b[0m\u001b[0mcomplex_step\u001b[0m\u001b[0;34m=\u001b[0m\u001b[0mcomplex_step\u001b[0m\u001b[0;34m,\u001b[0m \u001b[0;34m**\u001b[0m\u001b[0mkwargs\u001b[0m\u001b[0;34m)\u001b[0m\u001b[0;34m\u001b[0m\u001b[0;34m\u001b[0m\u001b[0m\n\u001b[0m\u001b[1;32m    661\u001b[0m \u001b[0;34m\u001b[0m\u001b[0m\n\u001b[1;32m    662\u001b[0m         \u001b[0;31m# Koopman, Shephard, and Doornik recommend maximizing the average\u001b[0m\u001b[0;34m\u001b[0m\u001b[0;34m\u001b[0m\u001b[0;34m\u001b[0m\u001b[0m\n",
            "\u001b[0;32m/usr/local/lib/python3.7/dist-packages/statsmodels/tsa/statespace/kalman_filter.py\u001b[0m in \u001b[0;36mloglike\u001b[0;34m(self, **kwargs)\u001b[0m\n\u001b[1;32m    873\u001b[0m                                ' MEMORY_NO_LIKELIHOOD option is selected.')\n\u001b[1;32m    874\u001b[0m         \u001b[0mkwargs\u001b[0m\u001b[0;34m[\u001b[0m\u001b[0;34m'conserve_memory'\u001b[0m\u001b[0;34m]\u001b[0m \u001b[0;34m=\u001b[0m \u001b[0mMEMORY_CONSERVE\u001b[0m \u001b[0;34m^\u001b[0m \u001b[0mMEMORY_NO_LIKELIHOOD\u001b[0m\u001b[0;34m\u001b[0m\u001b[0;34m\u001b[0m\u001b[0m\n\u001b[0;32m--> 875\u001b[0;31m         \u001b[0mkfilter\u001b[0m \u001b[0;34m=\u001b[0m \u001b[0mself\u001b[0m\u001b[0;34m.\u001b[0m\u001b[0m_filter\u001b[0m\u001b[0;34m(\u001b[0m\u001b[0;34m**\u001b[0m\u001b[0mkwargs\u001b[0m\u001b[0;34m)\u001b[0m\u001b[0;34m\u001b[0m\u001b[0;34m\u001b[0m\u001b[0m\n\u001b[0m\u001b[1;32m    876\u001b[0m         loglikelihood_burn = kwargs.get('loglikelihood_burn',\n\u001b[1;32m    877\u001b[0m                                         self.loglikelihood_burn)\n",
            "\u001b[0;32m/usr/local/lib/python3.7/dist-packages/statsmodels/tsa/statespace/kalman_filter.py\u001b[0m in \u001b[0;36m_filter\u001b[0;34m(self, filter_method, inversion_method, stability_method, conserve_memory, filter_timing, tolerance, loglikelihood_burn, complex_step)\u001b[0m\n\u001b[1;32m    800\u001b[0m \u001b[0;34m\u001b[0m\u001b[0m\n\u001b[1;32m    801\u001b[0m         \u001b[0;31m# Run the filter\u001b[0m\u001b[0;34m\u001b[0m\u001b[0;34m\u001b[0m\u001b[0;34m\u001b[0m\u001b[0m\n\u001b[0;32m--> 802\u001b[0;31m         \u001b[0mkfilter\u001b[0m\u001b[0;34m(\u001b[0m\u001b[0;34m)\u001b[0m\u001b[0;34m\u001b[0m\u001b[0;34m\u001b[0m\u001b[0m\n\u001b[0m\u001b[1;32m    803\u001b[0m \u001b[0;34m\u001b[0m\u001b[0m\n\u001b[1;32m    804\u001b[0m         \u001b[0;32mreturn\u001b[0m \u001b[0mkfilter\u001b[0m\u001b[0;34m\u001b[0m\u001b[0;34m\u001b[0m\u001b[0m\n",
            "\u001b[0;31mKeyboardInterrupt\u001b[0m: "
          ]
        }
      ]
    },
    {
      "cell_type": "code",
      "metadata": {
        "colab": {
          "base_uri": "https://localhost:8080/"
        },
        "id": "jbEoFdpRn9Rr",
        "outputId": "745e6ea3-0f40-4c51-f465-edee6f43998e"
      },
      "source": [
        "test_results.min()"
      ],
      "execution_count": 201,
      "outputs": [
        {
          "output_type": "execute_result",
          "data": {
            "text/plain": [
              "MPE    2.206551\n",
              "dtype: float64"
            ]
          },
          "metadata": {
            "tags": []
          },
          "execution_count": 201
        }
      ]
    },
    {
      "cell_type": "code",
      "metadata": {
        "colab": {
          "base_uri": "https://localhost:8080/",
          "height": 316
        },
        "id": "0c347DY9MUTz",
        "outputId": "09ca3843-ceda-45b2-bd97-bb4235a1f82e"
      },
      "source": [
        "test_results.sort_values(by = 'MPE') [11:20]"
      ],
      "execution_count": 202,
      "outputs": [
        {
          "output_type": "execute_result",
          "data": {
            "text/html": [
              "<div>\n",
              "<style scoped>\n",
              "    .dataframe tbody tr th:only-of-type {\n",
              "        vertical-align: middle;\n",
              "    }\n",
              "\n",
              "    .dataframe tbody tr th {\n",
              "        vertical-align: top;\n",
              "    }\n",
              "\n",
              "    .dataframe thead th {\n",
              "        text-align: right;\n",
              "    }\n",
              "</style>\n",
              "<table border=\"1\" class=\"dataframe\">\n",
              "  <thead>\n",
              "    <tr style=\"text-align: right;\">\n",
              "      <th></th>\n",
              "      <th>MPE</th>\n",
              "    </tr>\n",
              "  </thead>\n",
              "  <tbody>\n",
              "    <tr>\n",
              "      <th>order = (1,1,0), seasonal_order = (1,2,2,7)</th>\n",
              "      <td>2.77984</td>\n",
              "    </tr>\n",
              "    <tr>\n",
              "      <th>order = (0,1,2), seasonal_order = (2,2,0,7)</th>\n",
              "      <td>2.78477</td>\n",
              "    </tr>\n",
              "    <tr>\n",
              "      <th>order = (1,1,0), seasonal_order = (0,2,3,7)</th>\n",
              "      <td>2.78906</td>\n",
              "    </tr>\n",
              "    <tr>\n",
              "      <th>order = (1,1,0), seasonal_order = (2,2,2,7)</th>\n",
              "      <td>2.85952</td>\n",
              "    </tr>\n",
              "    <tr>\n",
              "      <th>order = (1,1,0), seasonal_order = (0,2,2,7)</th>\n",
              "      <td>2.86805</td>\n",
              "    </tr>\n",
              "    <tr>\n",
              "      <th>order = (1,1,0), seasonal_order = (1,2,3,7)</th>\n",
              "      <td>2.88401</td>\n",
              "    </tr>\n",
              "    <tr>\n",
              "      <th>order = (0,1,1), seasonal_order = (3,2,3,7)</th>\n",
              "      <td>2.89515</td>\n",
              "    </tr>\n",
              "    <tr>\n",
              "      <th>order = (1,1,0), seasonal_order = (1,2,0,7)</th>\n",
              "      <td>3.05005</td>\n",
              "    </tr>\n",
              "    <tr>\n",
              "      <th>order = (0,1,2), seasonal_order = (2,2,2,7)</th>\n",
              "      <td>3.132</td>\n",
              "    </tr>\n",
              "  </tbody>\n",
              "</table>\n",
              "</div>"
            ],
            "text/plain": [
              "                                                 MPE\n",
              "order = (1,1,0), seasonal_order = (1,2,2,7)  2.77984\n",
              "order = (0,1,2), seasonal_order = (2,2,0,7)  2.78477\n",
              "order = (1,1,0), seasonal_order = (0,2,3,7)  2.78906\n",
              "order = (1,1,0), seasonal_order = (2,2,2,7)  2.85952\n",
              "order = (1,1,0), seasonal_order = (0,2,2,7)  2.86805\n",
              "order = (1,1,0), seasonal_order = (1,2,3,7)  2.88401\n",
              "order = (0,1,1), seasonal_order = (3,2,3,7)  2.89515\n",
              "order = (1,1,0), seasonal_order = (1,2,0,7)  3.05005\n",
              "order = (0,1,2), seasonal_order = (2,2,2,7)    3.132"
            ]
          },
          "metadata": {
            "tags": []
          },
          "execution_count": 202
        }
      ]
    },
    {
      "cell_type": "code",
      "metadata": {
        "colab": {
          "base_uri": "https://localhost:8080/",
          "height": 581
        },
        "id": "Cair1W2QOw6C",
        "outputId": "1090a5eb-82fb-4274-b01c-15bc88b99edf"
      },
      "source": [
        "cbrt_train =  np.cbrt(train)\n",
        "\n",
        "model2 = SARIMAX(cbrt_train, order = (0,1,2), seasonal_order = (2,2,2,7),\n",
        "                                       freq = 'D')\n",
        "fit_model2 = model2.fit(maxiter = 200, disp = False)\n",
        "yhat = fit_model2.forecast(len(test)+30)**3\n",
        "mpe = mean_percent_error(test,yhat)\n",
        "print(f'mpe = {mpe}')\n",
        "\n",
        "fig = go.Figure(layout_title_text = f'January Prediction from 2020 Data: Accuracy= {round((1-mpe)*100,2)}%',)\n",
        "plt.plot(yhat, label='Prediction')\n",
        "plt.plot(true, label='True')\n",
        "plt.legend()\n",
        "plt.title(f'True vs Predicted COVID-19 {prediction} in {region} from {yhat.index.date.min()} through {yhat.index.date.max()}') \n",
        "plt.savefig('SARIMA_prediction2021_01_05.png')\n",
        "pickle.dump(fit_model2, open('SARIMAX_prediction_model.pickle', 'wb'))"
      ],
      "execution_count": 205,
      "outputs": [
        {
          "output_type": "stream",
          "text": [
            "mpe = 3.132000749514397\n"
          ],
          "name": "stdout"
        },
        {
          "output_type": "display_data",
          "data": {
            "image/png": "[encoded data removed]",
            "text/plain": [
              "<Figure size 1080x720 with 1 Axes>"
            ]
          },
          "metadata": {
            "tags": []
          }
        }
      ]
    },
    {
      "cell_type": "code",
      "metadata": {
        "colab": {
          "base_uri": "https://localhost:8080/"
        },
        "id": "ZFjkgent16WJ",
        "outputId": "79a9cf31-6f9c-40c2-c64b-2a796a11952d"
      },
      "source": [
        "yhat"
      ],
      "execution_count": 206,
      "outputs": [
        {
          "output_type": "execute_result",
          "data": {
            "text/plain": [
              "2020-12-01    21.436698\n",
              "2020-12-02    19.680558\n",
              "2020-12-03    27.755948\n",
              "2020-12-04    28.875769\n",
              "2020-12-05    31.003964\n",
              "                ...    \n",
              "2021-01-23    30.910412\n",
              "2021-01-24    26.631685\n",
              "2021-01-25    33.686437\n",
              "2021-01-26    22.481765\n",
              "2021-01-27    19.973275\n",
              "Freq: D, Length: 58, dtype: float64"
            ]
          },
          "metadata": {
            "tags": []
          },
          "execution_count": 206
        }
      ]
    },
    {
      "cell_type": "code",
      "metadata": {
        "colab": {
          "base_uri": "https://localhost:8080/",
          "height": 345
        },
        "id": "Zs3uhuMC186d",
        "outputId": "f1b26caf-c1a6-4b8e-8614-f924c896d8cb"
      },
      "source": [
        "test_df[['New Cases/100k population']].tail(10)"
      ],
      "execution_count": 207,
      "outputs": [
        {
          "output_type": "execute_result",
          "data": {
            "text/html": [
              "<div>\n",
              "<style scoped>\n",
              "    .dataframe tbody tr th:only-of-type {\n",
              "        vertical-align: middle;\n",
              "    }\n",
              "\n",
              "    .dataframe tbody tr th {\n",
              "        vertical-align: top;\n",
              "    }\n",
              "\n",
              "    .dataframe thead th {\n",
              "        text-align: right;\n",
              "    }\n",
              "</style>\n",
              "<table border=\"1\" class=\"dataframe\">\n",
              "  <thead>\n",
              "    <tr style=\"text-align: right;\">\n",
              "      <th></th>\n",
              "      <th>New Cases/100k population</th>\n",
              "    </tr>\n",
              "  </thead>\n",
              "  <tbody>\n",
              "    <tr>\n",
              "      <th>2020-12-19</th>\n",
              "      <td>44.495034</td>\n",
              "    </tr>\n",
              "    <tr>\n",
              "      <th>2020-12-20</th>\n",
              "      <td>30.189924</td>\n",
              "    </tr>\n",
              "    <tr>\n",
              "      <th>2020-12-21</th>\n",
              "      <td>50.462810</td>\n",
              "    </tr>\n",
              "    <tr>\n",
              "      <th>2020-12-22</th>\n",
              "      <td>43.046971</td>\n",
              "    </tr>\n",
              "    <tr>\n",
              "      <th>2020-12-23</th>\n",
              "      <td>38.000690</td>\n",
              "    </tr>\n",
              "    <tr>\n",
              "      <th>2020-12-24</th>\n",
              "      <td>67.664046</td>\n",
              "    </tr>\n",
              "    <tr>\n",
              "      <th>2020-12-25</th>\n",
              "      <td>62.222839</td>\n",
              "    </tr>\n",
              "    <tr>\n",
              "      <th>2020-12-26</th>\n",
              "      <td>57.132677</td>\n",
              "    </tr>\n",
              "    <tr>\n",
              "      <th>2020-12-27</th>\n",
              "      <td>43.836823</td>\n",
              "    </tr>\n",
              "    <tr>\n",
              "      <th>2020-12-28</th>\n",
              "      <td>17.771685</td>\n",
              "    </tr>\n",
              "  </tbody>\n",
              "</table>\n",
              "</div>"
            ],
            "text/plain": [
              "            New Cases/100k population\n",
              "2020-12-19                  44.495034\n",
              "2020-12-20                  30.189924\n",
              "2020-12-21                  50.462810\n",
              "2020-12-22                  43.046971\n",
              "2020-12-23                  38.000690\n",
              "2020-12-24                  67.664046\n",
              "2020-12-25                  62.222839\n",
              "2020-12-26                  57.132677\n",
              "2020-12-27                  43.836823\n",
              "2020-12-28                  17.771685"
            ]
          },
          "metadata": {
            "tags": []
          },
          "execution_count": 207
        }
      ]
    },
    {
      "cell_type": "code",
      "metadata": {
        "colab": {
          "base_uri": "https://localhost:8080/"
        },
        "id": "gt8Vfl19-K1f",
        "outputId": "7f04c8e7-9e29-4ff1-ebe5-d05916f85e90"
      },
      "source": [
        "yhat.keys()\n",
        "yhat"
      ],
      "execution_count": 208,
      "outputs": [
        {
          "output_type": "execute_result",
          "data": {
            "text/plain": [
              "2020-12-01    21.436698\n",
              "2020-12-02    19.680558\n",
              "2020-12-03    27.755948\n",
              "2020-12-04    28.875769\n",
              "2020-12-05    31.003964\n",
              "                ...    \n",
              "2021-01-23    30.910412\n",
              "2021-01-24    26.631685\n",
              "2021-01-25    33.686437\n",
              "2021-01-26    22.481765\n",
              "2021-01-27    19.973275\n",
              "Freq: D, Length: 58, dtype: float64"
            ]
          },
          "metadata": {
            "tags": []
          },
          "execution_count": 208
        }
      ]
    },
    {
      "cell_type": "markdown",
      "metadata": {
        "id": "WWNkk_U-_eWZ"
      },
      "source": [
        "## Create dataframe from `yhat` value"
      ]
    },
    {
      "cell_type": "code",
      "metadata": {
        "id": "69vWMDyQwCg1"
      },
      "source": [
        "lst = []\n",
        "\n",
        "for y in train.keys():\n",
        "  #print(y)\n",
        "  row = {}\n",
        "  row['Date'] = y\n",
        "  row['Province_State'] = state_name\n",
        "  row['County Name'] = county_name\n",
        "  row['New Cases/100k population'] = train[y]\n",
        "  lst.append(row)"
      ],
      "execution_count": 209,
      "outputs": []
    },
    {
      "cell_type": "code",
      "metadata": {
        "id": "PAsJVWR19-JL"
      },
      "source": [
        "\n",
        "for y in yhat.keys():\n",
        "  #print(y)\n",
        "  row = {}\n",
        "  row['Date'] = y\n",
        "  row['Province_State'] = state_name\n",
        "  row['County Name'] = county_name\n",
        "  row['New Cases/100k population'] = yhat[y]\n",
        "  lst.append(row)\n",
        "\n",
        "df_estimates = pd.DataFrame(lst) "
      ],
      "execution_count": 210,
      "outputs": []
    },
    {
      "cell_type": "code",
      "metadata": {
        "colab": {
          "base_uri": "https://localhost:8080/",
          "height": 196
        },
        "id": "9At3ei-__WEt",
        "outputId": "c399f5c2-6cfe-424f-af64-47d3ccb1cb3b"
      },
      "source": [
        "#dec-jan\n",
        "df_estimates.head()"
      ],
      "execution_count": 211,
      "outputs": [
        {
          "output_type": "execute_result",
          "data": {
            "text/html": [
              "<div>\n",
              "<style scoped>\n",
              "    .dataframe tbody tr th:only-of-type {\n",
              "        vertical-align: middle;\n",
              "    }\n",
              "\n",
              "    .dataframe tbody tr th {\n",
              "        vertical-align: top;\n",
              "    }\n",
              "\n",
              "    .dataframe thead th {\n",
              "        text-align: right;\n",
              "    }\n",
              "</style>\n",
              "<table border=\"1\" class=\"dataframe\">\n",
              "  <thead>\n",
              "    <tr style=\"text-align: right;\">\n",
              "      <th></th>\n",
              "      <th>Date</th>\n",
              "      <th>Province_State</th>\n",
              "      <th>County Name</th>\n",
              "      <th>New Cases/100k population</th>\n",
              "    </tr>\n",
              "  </thead>\n",
              "  <tbody>\n",
              "    <tr>\n",
              "      <th>0</th>\n",
              "      <td>2020-03-01</td>\n",
              "      <td>New York</td>\n",
              "      <td>Queens County</td>\n",
              "      <td>0.0</td>\n",
              "    </tr>\n",
              "    <tr>\n",
              "      <th>1</th>\n",
              "      <td>2020-03-02</td>\n",
              "      <td>New York</td>\n",
              "      <td>Queens County</td>\n",
              "      <td>0.0</td>\n",
              "    </tr>\n",
              "    <tr>\n",
              "      <th>2</th>\n",
              "      <td>2020-03-03</td>\n",
              "      <td>New York</td>\n",
              "      <td>Queens County</td>\n",
              "      <td>0.0</td>\n",
              "    </tr>\n",
              "    <tr>\n",
              "      <th>3</th>\n",
              "      <td>2020-03-04</td>\n",
              "      <td>New York</td>\n",
              "      <td>Queens County</td>\n",
              "      <td>0.0</td>\n",
              "    </tr>\n",
              "    <tr>\n",
              "      <th>4</th>\n",
              "      <td>2020-03-05</td>\n",
              "      <td>New York</td>\n",
              "      <td>Queens County</td>\n",
              "      <td>0.0</td>\n",
              "    </tr>\n",
              "  </tbody>\n",
              "</table>\n",
              "</div>"
            ],
            "text/plain": [
              "        Date Province_State    County Name  New Cases/100k population\n",
              "0 2020-03-01       New York  Queens County                        0.0\n",
              "1 2020-03-02       New York  Queens County                        0.0\n",
              "2 2020-03-03       New York  Queens County                        0.0\n",
              "3 2020-03-04       New York  Queens County                        0.0\n",
              "4 2020-03-05       New York  Queens County                        0.0"
            ]
          },
          "metadata": {
            "tags": []
          },
          "execution_count": 211
        }
      ]
    },
    {
      "cell_type": "code",
      "metadata": {
        "colab": {
          "base_uri": "https://localhost:8080/",
          "height": 196
        },
        "id": "16dG_9AJ_ZHN",
        "outputId": "dfb2b298-dda3-49cc-bb4c-b9a65972d652"
      },
      "source": [
        "df_estimates.tail()"
      ],
      "execution_count": 212,
      "outputs": [
        {
          "output_type": "execute_result",
          "data": {
            "text/html": [
              "<div>\n",
              "<style scoped>\n",
              "    .dataframe tbody tr th:only-of-type {\n",
              "        vertical-align: middle;\n",
              "    }\n",
              "\n",
              "    .dataframe tbody tr th {\n",
              "        vertical-align: top;\n",
              "    }\n",
              "\n",
              "    .dataframe thead th {\n",
              "        text-align: right;\n",
              "    }\n",
              "</style>\n",
              "<table border=\"1\" class=\"dataframe\">\n",
              "  <thead>\n",
              "    <tr style=\"text-align: right;\">\n",
              "      <th></th>\n",
              "      <th>Date</th>\n",
              "      <th>Province_State</th>\n",
              "      <th>County Name</th>\n",
              "      <th>New Cases/100k population</th>\n",
              "    </tr>\n",
              "  </thead>\n",
              "  <tbody>\n",
              "    <tr>\n",
              "      <th>328</th>\n",
              "      <td>2021-01-23</td>\n",
              "      <td>New York</td>\n",
              "      <td>Queens County</td>\n",
              "      <td>30.910412</td>\n",
              "    </tr>\n",
              "    <tr>\n",
              "      <th>329</th>\n",
              "      <td>2021-01-24</td>\n",
              "      <td>New York</td>\n",
              "      <td>Queens County</td>\n",
              "      <td>26.631685</td>\n",
              "    </tr>\n",
              "    <tr>\n",
              "      <th>330</th>\n",
              "      <td>2021-01-25</td>\n",
              "      <td>New York</td>\n",
              "      <td>Queens County</td>\n",
              "      <td>33.686437</td>\n",
              "    </tr>\n",
              "    <tr>\n",
              "      <th>331</th>\n",
              "      <td>2021-01-26</td>\n",
              "      <td>New York</td>\n",
              "      <td>Queens County</td>\n",
              "      <td>22.481765</td>\n",
              "    </tr>\n",
              "    <tr>\n",
              "      <th>332</th>\n",
              "      <td>2021-01-27</td>\n",
              "      <td>New York</td>\n",
              "      <td>Queens County</td>\n",
              "      <td>19.973275</td>\n",
              "    </tr>\n",
              "  </tbody>\n",
              "</table>\n",
              "</div>"
            ],
            "text/plain": [
              "          Date Province_State    County Name  New Cases/100k population\n",
              "328 2021-01-23       New York  Queens County                  30.910412\n",
              "329 2021-01-24       New York  Queens County                  26.631685\n",
              "330 2021-01-25       New York  Queens County                  33.686437\n",
              "331 2021-01-26       New York  Queens County                  22.481765\n",
              "332 2021-01-27       New York  Queens County                  19.973275"
            ]
          },
          "metadata": {
            "tags": []
          },
          "execution_count": 212
        }
      ]
    },
    {
      "cell_type": "markdown",
      "metadata": {
        "id": "DNzJ29Ui_mC9"
      },
      "source": [
        "## Export file to csv"
      ]
    },
    {
      "cell_type": "code",
      "metadata": {
        "colab": {
          "base_uri": "https://localhost:8080/"
        },
        "id": "pDx51XVj_okn",
        "outputId": "45996a06-b471-4fe8-d354-9924abdb76e4"
      },
      "source": [
        "from datetime import datetime\n",
        "location = '/content/drive/Shared drives/CMPE 295- Master Project/projectdata-2021/'\n",
        "filename = state_code+'_'+county_code+'_SARIMAX_estimates'+datetime.now().strftime(\"%b%d\")+'.csv' \n",
        "\n",
        "print(filename)\n",
        "df_estimates.to_csv(location+filename,index=False)"
      ],
      "execution_count": 213,
      "outputs": [
        {
          "output_type": "stream",
          "text": [
            "NY_QU_SARIMAX_estimatesApr03.csv\n"
          ],
          "name": "stdout"
        }
      ]
    },
    {
      "cell_type": "markdown",
      "metadata": {
        "id": "SDBnMUI9DiM3"
      },
      "source": [
        "# Result \n",
        "\n",
        "\n",
        "|NO|State | County | MPE|\n",
        "|--- |--- | --- | ---|\n",
        "1.|OR|Washington county | 4.728401442576541|\n",
        "2.|CA|Solano county|2.348202453583898|\n",
        "3.|IA|Polk County |2.35827|\n",
        "4.|WI|Milwaukee County|3.3387177750692456|\n",
        "5.|AR|Pulaski County|3.3210407278818366|\n",
        "6.|TX|Collin County|3.3021706074014867|\n",
        "7.|NJ|Bergen County|3.2695330172904375|\n",
        "8.|NY|Queens County|3.132000749514397 |\n"
      ]
    },
    {
      "cell_type": "code",
      "metadata": {
        "id": "g058aYgn-RhB"
      },
      "source": [
        ""
      ],
      "execution_count": null,
      "outputs": []
    }
  ]
}