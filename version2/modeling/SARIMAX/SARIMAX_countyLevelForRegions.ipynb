{
  "nbformat": 4,
  "nbformat_minor": 0,
  "metadata": {
    "colab": {
      "name": "SARIMAX-countyLevelForRegions.ipynb",
      "provenance": [],
      "collapsed_sections": [],
      "toc_visible": true,
      "include_colab_link": true
    },
    "kernelspec": {
      "display_name": "Python 3",
      "name": "python3"
    },
    "language_info": {
      "name": "python"
    }
  },
  "cells": [
    {
      "cell_type": "markdown",
      "metadata": {
        "id": "view-in-github",
        "colab_type": "text"
      },
      "source": [
        "<a href=\"https://colab.research.google.com/github/aarsanjani/meansquares/blob/master/version2/modeling/SARIMAX/SARIMAX_countyLevelForRegions.ipynb\" target=\"_parent\"><img src=\"https://colab.research.google.com/assets/colab-badge.svg\" alt=\"Open In Colab\"/></a>"
      ]
    },
    {
      "cell_type": "markdown",
      "metadata": {
        "id": "DAwiWlV-PCjp"
      },
      "source": [
        "# SARIMAX Prediction for COVID Cases\n",
        "\n",
        "https://github.com/Violet-Spiral/covid-xprize/blob/main/models/sarima_models.ipynb"
      ]
    },
    {
      "cell_type": "markdown",
      "metadata": {
        "id": "IAZ7AJ5MPGeT"
      },
      "source": [
        "## Imports"
      ]
    },
    {
      "cell_type": "code",
      "metadata": {
        "colab": {
          "base_uri": "https://localhost:8080/"
        },
        "id": "jPMcUibrO7b6",
        "outputId": "e86d3444-1853-4e09-f7bc-7c62843285f1"
      },
      "source": [
        "from google.colab import drive\n",
        "drive.mount('/content/drive',force_remount=True)"
      ],
      "execution_count": 1,
      "outputs": [
        {
          "output_type": "stream",
          "text": [
            "Mounted at /content/drive\n"
          ],
          "name": "stdout"
        }
      ]
    },
    {
      "cell_type": "code",
      "metadata": {
        "colab": {
          "base_uri": "https://localhost:8080/"
        },
        "id": "7xuVEUiKPPW7",
        "outputId": "4277559c-fed4-4ef3-a54c-76786e40e9c5"
      },
      "source": [
        "import pandas as pd\n",
        "import numpy as np\n",
        "from statsmodels.tsa.seasonal import seasonal_decompose\n",
        "from statsmodels.graphics.tsaplots import plot_acf, plot_pacf\n",
        "from statsmodels.tsa.statespace.sarimax import SARIMAX\n",
        "import matplotlib.pyplot as plt\n",
        "plt.style.use('fivethirtyeight')\n",
        "plt.rcParams['figure.figsize'] = (15,10)\n",
        "from sklearn.metrics import mean_squared_error\n",
        "#import sys\n",
        "#from pathlib import Path\n",
        "#import sys\n",
        "#sys.path.append(\"../\")\n",
        "#from src.model_testing import *\n",
        "\n",
        "import plotly.graph_objects as go\n",
        "\n",
        "import pickle\n",
        "from tqdm import tqdm\n",
        "\n",
        "pd.set_option('display.max_rows', 10)"
      ],
      "execution_count": 2,
      "outputs": [
        {
          "output_type": "stream",
          "text": [
            "/usr/local/lib/python3.7/dist-packages/statsmodels/tools/_testing.py:19: FutureWarning: pandas.util.testing is deprecated. Use the functions in the public API at pandas.testing instead.\n",
            "  import pandas.util.testing as tm\n"
          ],
          "name": "stderr"
        }
      ]
    },
    {
      "cell_type": "markdown",
      "metadata": {
        "id": "hze3eSo7TuKX"
      },
      "source": [
        "## Util method"
      ]
    },
    {
      "cell_type": "code",
      "metadata": {
        "id": "sZZqOkSWSbEM"
      },
      "source": [
        "def mean_percent_error(y_test, y_hat):\n",
        "    from math import e\n",
        "    error = np.abs(y_test - y_hat)\n",
        "    percent_error = error/(y_test + e)\n",
        "    mean_percent_error = percent_error.sum() / len(y_test)\n",
        "    return mean_percent_error"
      ],
      "execution_count": 3,
      "outputs": []
    },
    {
      "cell_type": "markdown",
      "metadata": {
        "id": "f4k8XCG3PHrv"
      },
      "source": [
        "## Load Datasets"
      ]
    },
    {
      "cell_type": "code",
      "metadata": {
        "colab": {
          "base_uri": "https://localhost:8080/",
          "height": 343
        },
        "id": "dSkmDWR4Pd0o",
        "outputId": "7e1f1b6f-fd37-41d5-fb36-48d2dfbad01e"
      },
      "source": [
        "superset_data = pd.read_csv('/content/drive/Shared drives/CMPE 295- Master Project/projectdata-2021/AllStates_Superset_dataset_Mar26.csv',low_memory=False)\n",
        "superset_data.head()"
      ],
      "execution_count": 4,
      "outputs": [
        {
          "output_type": "execute_result",
          "data": {
            "text/html": [
              "<div>\n",
              "<style scoped>\n",
              "    .dataframe tbody tr th:only-of-type {\n",
              "        vertical-align: middle;\n",
              "    }\n",
              "\n",
              "    .dataframe tbody tr th {\n",
              "        vertical-align: top;\n",
              "    }\n",
              "\n",
              "    .dataframe thead th {\n",
              "        text-align: right;\n",
              "    }\n",
              "</style>\n",
              "<table border=\"1\" class=\"dataframe\">\n",
              "  <thead>\n",
              "    <tr style=\"text-align: right;\">\n",
              "      <th></th>\n",
              "      <th>Date</th>\n",
              "      <th>Province_State</th>\n",
              "      <th>FIPS</th>\n",
              "      <th>New cases</th>\n",
              "      <th>County Name</th>\n",
              "      <th>mask_rule_severity</th>\n",
              "      <th>m50</th>\n",
              "      <th>m50_index</th>\n",
              "      <th>retail_and_recreation_percent_change_from_baseline</th>\n",
              "      <th>grocery_and_pharmacy_percent_change_from_baseline</th>\n",
              "      <th>parks_percent_change_from_baseline</th>\n",
              "      <th>transit_stations_percent_change_from_baseline</th>\n",
              "      <th>workplaces_percent_change_from_baseline</th>\n",
              "      <th>residential_percent_change_from_baseline</th>\n",
              "      <th>PopDensity</th>\n",
              "      <th>State_Name</th>\n",
              "      <th>Social.distancing.index</th>\n",
              "      <th>X..staying.home</th>\n",
              "      <th>Trips.person</th>\n",
              "      <th>X..out.of.county.trips</th>\n",
              "      <th>X..out.of.state.trips</th>\n",
              "      <th>Miles.person</th>\n",
              "      <th>Work.trips.person</th>\n",
              "      <th>Non.work.trips.person</th>\n",
              "      <th>New.COVID.cases</th>\n",
              "      <th>Population</th>\n",
              "      <th>X..change.in.consumption</th>\n",
              "      <th>Transit.mode.share</th>\n",
              "      <th>X..people.older.than.60</th>\n",
              "      <th>Median.income</th>\n",
              "      <th>X..African.Americans</th>\n",
              "      <th>X..Hispanic.Americans</th>\n",
              "      <th>X..Male</th>\n",
              "      <th>Employment.density</th>\n",
              "      <th>X..hot.spots.1000.people</th>\n",
              "      <th>Hospital.beds.1000.people</th>\n",
              "      <th>ICUs.1000.people</th>\n",
              "      <th>X..contact.tracing.workers.1000.people</th>\n",
              "      <th>New.cases.1000.people</th>\n",
              "      <th>Active.cases.1000.people</th>\n",
              "      <th>X.days..decreasing.COVID.cases</th>\n",
              "      <th>X..hospital.bed.utilization</th>\n",
              "      <th>Testing.capacity</th>\n",
              "      <th>Tests.done.1000.people</th>\n",
              "      <th>X..ICU.utilization</th>\n",
              "      <th>Ventilator.shortage</th>\n",
              "      <th>Imported.COVID.cases</th>\n",
              "      <th>COVID.exposure.1000.people</th>\n",
              "      <th>X.days..decreasing.ILI.cases</th>\n",
              "      <th>Unemployment.claims.1000.people</th>\n",
              "      <th>Unemployment.rate</th>\n",
              "      <th>X..working.from.home</th>\n",
              "      <th>Cumulative.inflation.rate</th>\n",
              "      <th>COVID.death.rate</th>\n",
              "      <th>New Cases/100k population</th>\n",
              "      <th>rolling_avg_new_cases/100k</th>\n",
              "    </tr>\n",
              "  </thead>\n",
              "  <tbody>\n",
              "    <tr>\n",
              "      <th>0</th>\n",
              "      <td>2020-03-01</td>\n",
              "      <td>Alabama</td>\n",
              "      <td>1001</td>\n",
              "      <td>0</td>\n",
              "      <td>Autauga County</td>\n",
              "      <td>0.0</td>\n",
              "      <td>7.194</td>\n",
              "      <td>49</td>\n",
              "      <td>15.0</td>\n",
              "      <td>13.0</td>\n",
              "      <td>0.0</td>\n",
              "      <td>0.0</td>\n",
              "      <td>3.0</td>\n",
              "      <td>0.0</td>\n",
              "      <td>35.853419</td>\n",
              "      <td>Alabama</td>\n",
              "      <td>35</td>\n",
              "      <td>22</td>\n",
              "      <td>2.81</td>\n",
              "      <td>41.6</td>\n",
              "      <td>1.0</td>\n",
              "      <td>32.9</td>\n",
              "      <td>0.26</td>\n",
              "      <td>2.55</td>\n",
              "      <td>0</td>\n",
              "      <td>55601</td>\n",
              "      <td>-1.2</td>\n",
              "      <td>0.11</td>\n",
              "      <td>19</td>\n",
              "      <td>58786</td>\n",
              "      <td>19.0</td>\n",
              "      <td>2.8</td>\n",
              "      <td>48.68</td>\n",
              "      <td>19</td>\n",
              "      <td>101</td>\n",
              "      <td>3.79</td>\n",
              "      <td>0.33</td>\n",
              "      <td>0.025</td>\n",
              "      <td>0.0</td>\n",
              "      <td>0.0</td>\n",
              "      <td>37</td>\n",
              "      <td>47.1</td>\n",
              "      <td>0.0</td>\n",
              "      <td>0.0</td>\n",
              "      <td>0.0</td>\n",
              "      <td>0</td>\n",
              "      <td>0</td>\n",
              "      <td>0.0</td>\n",
              "      <td>28</td>\n",
              "      <td>0.4</td>\n",
              "      <td>3.5</td>\n",
              "      <td>3.2</td>\n",
              "      <td>0.3</td>\n",
              "      <td>0.0</td>\n",
              "      <td>0.0</td>\n",
              "      <td>0.0</td>\n",
              "    </tr>\n",
              "    <tr>\n",
              "      <th>1</th>\n",
              "      <td>2020-03-02</td>\n",
              "      <td>Alabama</td>\n",
              "      <td>1001</td>\n",
              "      <td>0</td>\n",
              "      <td>Autauga County</td>\n",
              "      <td>0.0</td>\n",
              "      <td>14.587</td>\n",
              "      <td>100</td>\n",
              "      <td>15.0</td>\n",
              "      <td>4.0</td>\n",
              "      <td>0.0</td>\n",
              "      <td>0.0</td>\n",
              "      <td>5.0</td>\n",
              "      <td>-1.0</td>\n",
              "      <td>35.853419</td>\n",
              "      <td>Alabama</td>\n",
              "      <td>11</td>\n",
              "      <td>13</td>\n",
              "      <td>3.33</td>\n",
              "      <td>40.9</td>\n",
              "      <td>0.5</td>\n",
              "      <td>42.0</td>\n",
              "      <td>0.80</td>\n",
              "      <td>2.53</td>\n",
              "      <td>0</td>\n",
              "      <td>55601</td>\n",
              "      <td>-1.9</td>\n",
              "      <td>0.11</td>\n",
              "      <td>19</td>\n",
              "      <td>58786</td>\n",
              "      <td>19.0</td>\n",
              "      <td>2.8</td>\n",
              "      <td>48.68</td>\n",
              "      <td>19</td>\n",
              "      <td>101</td>\n",
              "      <td>3.79</td>\n",
              "      <td>0.33</td>\n",
              "      <td>0.025</td>\n",
              "      <td>0.0</td>\n",
              "      <td>0.0</td>\n",
              "      <td>38</td>\n",
              "      <td>47.1</td>\n",
              "      <td>0.0</td>\n",
              "      <td>0.0</td>\n",
              "      <td>0.0</td>\n",
              "      <td>0</td>\n",
              "      <td>0</td>\n",
              "      <td>0.0</td>\n",
              "      <td>28</td>\n",
              "      <td>0.4</td>\n",
              "      <td>3.5</td>\n",
              "      <td>3.2</td>\n",
              "      <td>0.3</td>\n",
              "      <td>0.0</td>\n",
              "      <td>0.0</td>\n",
              "      <td>0.0</td>\n",
              "    </tr>\n",
              "    <tr>\n",
              "      <th>2</th>\n",
              "      <td>2020-03-03</td>\n",
              "      <td>Alabama</td>\n",
              "      <td>1001</td>\n",
              "      <td>0</td>\n",
              "      <td>Autauga County</td>\n",
              "      <td>0.0</td>\n",
              "      <td>13.865</td>\n",
              "      <td>95</td>\n",
              "      <td>22.0</td>\n",
              "      <td>8.0</td>\n",
              "      <td>0.0</td>\n",
              "      <td>0.0</td>\n",
              "      <td>4.0</td>\n",
              "      <td>-1.0</td>\n",
              "      <td>35.853419</td>\n",
              "      <td>Alabama</td>\n",
              "      <td>10</td>\n",
              "      <td>13</td>\n",
              "      <td>3.30</td>\n",
              "      <td>40.6</td>\n",
              "      <td>0.4</td>\n",
              "      <td>37.4</td>\n",
              "      <td>0.77</td>\n",
              "      <td>2.53</td>\n",
              "      <td>0</td>\n",
              "      <td>55601</td>\n",
              "      <td>-1.9</td>\n",
              "      <td>0.11</td>\n",
              "      <td>19</td>\n",
              "      <td>58786</td>\n",
              "      <td>19.0</td>\n",
              "      <td>2.8</td>\n",
              "      <td>48.68</td>\n",
              "      <td>19</td>\n",
              "      <td>101</td>\n",
              "      <td>3.79</td>\n",
              "      <td>0.33</td>\n",
              "      <td>0.025</td>\n",
              "      <td>0.0</td>\n",
              "      <td>0.0</td>\n",
              "      <td>39</td>\n",
              "      <td>47.1</td>\n",
              "      <td>0.0</td>\n",
              "      <td>0.0</td>\n",
              "      <td>0.0</td>\n",
              "      <td>0</td>\n",
              "      <td>0</td>\n",
              "      <td>0.0</td>\n",
              "      <td>35</td>\n",
              "      <td>0.4</td>\n",
              "      <td>3.5</td>\n",
              "      <td>3.2</td>\n",
              "      <td>0.3</td>\n",
              "      <td>0.0</td>\n",
              "      <td>0.0</td>\n",
              "      <td>0.0</td>\n",
              "    </tr>\n",
              "    <tr>\n",
              "      <th>3</th>\n",
              "      <td>2020-03-04</td>\n",
              "      <td>Alabama</td>\n",
              "      <td>1001</td>\n",
              "      <td>0</td>\n",
              "      <td>Autauga County</td>\n",
              "      <td>0.0</td>\n",
              "      <td>13.880</td>\n",
              "      <td>95</td>\n",
              "      <td>5.0</td>\n",
              "      <td>-4.0</td>\n",
              "      <td>0.0</td>\n",
              "      <td>0.0</td>\n",
              "      <td>3.0</td>\n",
              "      <td>2.0</td>\n",
              "      <td>35.853419</td>\n",
              "      <td>Alabama</td>\n",
              "      <td>19</td>\n",
              "      <td>16</td>\n",
              "      <td>3.04</td>\n",
              "      <td>40.7</td>\n",
              "      <td>0.5</td>\n",
              "      <td>35.4</td>\n",
              "      <td>0.77</td>\n",
              "      <td>2.27</td>\n",
              "      <td>0</td>\n",
              "      <td>55601</td>\n",
              "      <td>-12.0</td>\n",
              "      <td>0.11</td>\n",
              "      <td>19</td>\n",
              "      <td>58786</td>\n",
              "      <td>19.0</td>\n",
              "      <td>2.8</td>\n",
              "      <td>48.68</td>\n",
              "      <td>19</td>\n",
              "      <td>101</td>\n",
              "      <td>3.79</td>\n",
              "      <td>0.33</td>\n",
              "      <td>0.025</td>\n",
              "      <td>0.0</td>\n",
              "      <td>0.0</td>\n",
              "      <td>40</td>\n",
              "      <td>47.1</td>\n",
              "      <td>0.0</td>\n",
              "      <td>0.0</td>\n",
              "      <td>0.0</td>\n",
              "      <td>0</td>\n",
              "      <td>0</td>\n",
              "      <td>0.0</td>\n",
              "      <td>35</td>\n",
              "      <td>0.4</td>\n",
              "      <td>3.5</td>\n",
              "      <td>3.2</td>\n",
              "      <td>0.3</td>\n",
              "      <td>0.0</td>\n",
              "      <td>0.0</td>\n",
              "      <td>0.0</td>\n",
              "    </tr>\n",
              "    <tr>\n",
              "      <th>4</th>\n",
              "      <td>2020-03-05</td>\n",
              "      <td>Alabama</td>\n",
              "      <td>1001</td>\n",
              "      <td>0</td>\n",
              "      <td>Autauga County</td>\n",
              "      <td>0.0</td>\n",
              "      <td>14.659</td>\n",
              "      <td>100</td>\n",
              "      <td>7.0</td>\n",
              "      <td>12.0</td>\n",
              "      <td>0.0</td>\n",
              "      <td>0.0</td>\n",
              "      <td>3.0</td>\n",
              "      <td>1.0</td>\n",
              "      <td>35.853419</td>\n",
              "      <td>Alabama</td>\n",
              "      <td>12</td>\n",
              "      <td>14</td>\n",
              "      <td>3.29</td>\n",
              "      <td>41.5</td>\n",
              "      <td>0.6</td>\n",
              "      <td>43.2</td>\n",
              "      <td>0.83</td>\n",
              "      <td>2.46</td>\n",
              "      <td>0</td>\n",
              "      <td>55601</td>\n",
              "      <td>-4.7</td>\n",
              "      <td>0.11</td>\n",
              "      <td>19</td>\n",
              "      <td>58786</td>\n",
              "      <td>19.0</td>\n",
              "      <td>2.8</td>\n",
              "      <td>48.68</td>\n",
              "      <td>19</td>\n",
              "      <td>101</td>\n",
              "      <td>3.79</td>\n",
              "      <td>0.33</td>\n",
              "      <td>0.025</td>\n",
              "      <td>0.0</td>\n",
              "      <td>0.0</td>\n",
              "      <td>41</td>\n",
              "      <td>47.1</td>\n",
              "      <td>0.0</td>\n",
              "      <td>0.0</td>\n",
              "      <td>0.0</td>\n",
              "      <td>0</td>\n",
              "      <td>0</td>\n",
              "      <td>0.0</td>\n",
              "      <td>35</td>\n",
              "      <td>0.4</td>\n",
              "      <td>3.5</td>\n",
              "      <td>3.2</td>\n",
              "      <td>0.3</td>\n",
              "      <td>0.0</td>\n",
              "      <td>0.0</td>\n",
              "      <td>0.0</td>\n",
              "    </tr>\n",
              "  </tbody>\n",
              "</table>\n",
              "</div>"
            ],
            "text/plain": [
              "         Date  ... rolling_avg_new_cases/100k\n",
              "0  2020-03-01  ...                        0.0\n",
              "1  2020-03-02  ...                        0.0\n",
              "2  2020-03-03  ...                        0.0\n",
              "3  2020-03-04  ...                        0.0\n",
              "4  2020-03-05  ...                        0.0\n",
              "\n",
              "[5 rows x 56 columns]"
            ]
          },
          "metadata": {
            "tags": []
          },
          "execution_count": 4
        }
      ]
    },
    {
      "cell_type": "code",
      "metadata": {
        "id": "JtxbGxjRYiWk"
      },
      "source": [
        "superset_data['Date'] =  pd.to_datetime(superset_data['Date'], format='%Y-%m-%d')"
      ],
      "execution_count": 5,
      "outputs": []
    },
    {
      "cell_type": "code",
      "metadata": {
        "id": "8MVVkCKcQU-f"
      },
      "source": [
        "superset_data = superset_data.set_index('Date')"
      ],
      "execution_count": 6,
      "outputs": []
    },
    {
      "cell_type": "code",
      "metadata": {
        "colab": {
          "base_uri": "https://localhost:8080/",
          "height": 374
        },
        "id": "cCf03yDdQOtR",
        "outputId": "48930da2-22fb-46b4-e453-35fc9bfeb646"
      },
      "source": [
        "superset_data.tail()"
      ],
      "execution_count": 7,
      "outputs": [
        {
          "output_type": "execute_result",
          "data": {
            "text/html": [
              "<div>\n",
              "<style scoped>\n",
              "    .dataframe tbody tr th:only-of-type {\n",
              "        vertical-align: middle;\n",
              "    }\n",
              "\n",
              "    .dataframe tbody tr th {\n",
              "        vertical-align: top;\n",
              "    }\n",
              "\n",
              "    .dataframe thead th {\n",
              "        text-align: right;\n",
              "    }\n",
              "</style>\n",
              "<table border=\"1\" class=\"dataframe\">\n",
              "  <thead>\n",
              "    <tr style=\"text-align: right;\">\n",
              "      <th></th>\n",
              "      <th>Province_State</th>\n",
              "      <th>FIPS</th>\n",
              "      <th>New cases</th>\n",
              "      <th>County Name</th>\n",
              "      <th>mask_rule_severity</th>\n",
              "      <th>m50</th>\n",
              "      <th>m50_index</th>\n",
              "      <th>retail_and_recreation_percent_change_from_baseline</th>\n",
              "      <th>grocery_and_pharmacy_percent_change_from_baseline</th>\n",
              "      <th>parks_percent_change_from_baseline</th>\n",
              "      <th>transit_stations_percent_change_from_baseline</th>\n",
              "      <th>workplaces_percent_change_from_baseline</th>\n",
              "      <th>residential_percent_change_from_baseline</th>\n",
              "      <th>PopDensity</th>\n",
              "      <th>State_Name</th>\n",
              "      <th>Social.distancing.index</th>\n",
              "      <th>X..staying.home</th>\n",
              "      <th>Trips.person</th>\n",
              "      <th>X..out.of.county.trips</th>\n",
              "      <th>X..out.of.state.trips</th>\n",
              "      <th>Miles.person</th>\n",
              "      <th>Work.trips.person</th>\n",
              "      <th>Non.work.trips.person</th>\n",
              "      <th>New.COVID.cases</th>\n",
              "      <th>Population</th>\n",
              "      <th>X..change.in.consumption</th>\n",
              "      <th>Transit.mode.share</th>\n",
              "      <th>X..people.older.than.60</th>\n",
              "      <th>Median.income</th>\n",
              "      <th>X..African.Americans</th>\n",
              "      <th>X..Hispanic.Americans</th>\n",
              "      <th>X..Male</th>\n",
              "      <th>Employment.density</th>\n",
              "      <th>X..hot.spots.1000.people</th>\n",
              "      <th>Hospital.beds.1000.people</th>\n",
              "      <th>ICUs.1000.people</th>\n",
              "      <th>X..contact.tracing.workers.1000.people</th>\n",
              "      <th>New.cases.1000.people</th>\n",
              "      <th>Active.cases.1000.people</th>\n",
              "      <th>X.days..decreasing.COVID.cases</th>\n",
              "      <th>X..hospital.bed.utilization</th>\n",
              "      <th>Testing.capacity</th>\n",
              "      <th>Tests.done.1000.people</th>\n",
              "      <th>X..ICU.utilization</th>\n",
              "      <th>Ventilator.shortage</th>\n",
              "      <th>Imported.COVID.cases</th>\n",
              "      <th>COVID.exposure.1000.people</th>\n",
              "      <th>X.days..decreasing.ILI.cases</th>\n",
              "      <th>Unemployment.claims.1000.people</th>\n",
              "      <th>Unemployment.rate</th>\n",
              "      <th>X..working.from.home</th>\n",
              "      <th>Cumulative.inflation.rate</th>\n",
              "      <th>COVID.death.rate</th>\n",
              "      <th>New Cases/100k population</th>\n",
              "      <th>rolling_avg_new_cases/100k</th>\n",
              "    </tr>\n",
              "    <tr>\n",
              "      <th>Date</th>\n",
              "      <th></th>\n",
              "      <th></th>\n",
              "      <th></th>\n",
              "      <th></th>\n",
              "      <th></th>\n",
              "      <th></th>\n",
              "      <th></th>\n",
              "      <th></th>\n",
              "      <th></th>\n",
              "      <th></th>\n",
              "      <th></th>\n",
              "      <th></th>\n",
              "      <th></th>\n",
              "      <th></th>\n",
              "      <th></th>\n",
              "      <th></th>\n",
              "      <th></th>\n",
              "      <th></th>\n",
              "      <th></th>\n",
              "      <th></th>\n",
              "      <th></th>\n",
              "      <th></th>\n",
              "      <th></th>\n",
              "      <th></th>\n",
              "      <th></th>\n",
              "      <th></th>\n",
              "      <th></th>\n",
              "      <th></th>\n",
              "      <th></th>\n",
              "      <th></th>\n",
              "      <th></th>\n",
              "      <th></th>\n",
              "      <th></th>\n",
              "      <th></th>\n",
              "      <th></th>\n",
              "      <th></th>\n",
              "      <th></th>\n",
              "      <th></th>\n",
              "      <th></th>\n",
              "      <th></th>\n",
              "      <th></th>\n",
              "      <th></th>\n",
              "      <th></th>\n",
              "      <th></th>\n",
              "      <th></th>\n",
              "      <th></th>\n",
              "      <th></th>\n",
              "      <th></th>\n",
              "      <th></th>\n",
              "      <th></th>\n",
              "      <th></th>\n",
              "      <th></th>\n",
              "      <th></th>\n",
              "      <th></th>\n",
              "      <th></th>\n",
              "    </tr>\n",
              "  </thead>\n",
              "  <tbody>\n",
              "    <tr>\n",
              "      <th>2020-12-24</th>\n",
              "      <td>Wyoming</td>\n",
              "      <td>56041</td>\n",
              "      <td>0</td>\n",
              "      <td>Uinta County</td>\n",
              "      <td>0.0</td>\n",
              "      <td>2.945</td>\n",
              "      <td>94</td>\n",
              "      <td>5.0</td>\n",
              "      <td>0.0</td>\n",
              "      <td>0.0</td>\n",
              "      <td>-10.0</td>\n",
              "      <td>-53.0</td>\n",
              "      <td>12.0</td>\n",
              "      <td>3.822405</td>\n",
              "      <td>Wyoming</td>\n",
              "      <td>30</td>\n",
              "      <td>22</td>\n",
              "      <td>3.44</td>\n",
              "      <td>26.0</td>\n",
              "      <td>17.6</td>\n",
              "      <td>39.0</td>\n",
              "      <td>0.61</td>\n",
              "      <td>2.83</td>\n",
              "      <td>0</td>\n",
              "      <td>20299</td>\n",
              "      <td>13.6</td>\n",
              "      <td>3.6</td>\n",
              "      <td>18</td>\n",
              "      <td>58235</td>\n",
              "      <td>0.1</td>\n",
              "      <td>9.1</td>\n",
              "      <td>50.97</td>\n",
              "      <td>5</td>\n",
              "      <td>147</td>\n",
              "      <td>3.76</td>\n",
              "      <td>0.5</td>\n",
              "      <td>0.017</td>\n",
              "      <td>0.4762</td>\n",
              "      <td>21.64</td>\n",
              "      <td>0</td>\n",
              "      <td>47.413044</td>\n",
              "      <td>8.9</td>\n",
              "      <td>827.97</td>\n",
              "      <td>17.25</td>\n",
              "      <td>24</td>\n",
              "      <td>240</td>\n",
              "      <td>57.17</td>\n",
              "      <td>77</td>\n",
              "      <td>1.0</td>\n",
              "      <td>6.5</td>\n",
              "      <td>27.1</td>\n",
              "      <td>1.3</td>\n",
              "      <td>1.13</td>\n",
              "      <td>0.000000</td>\n",
              "      <td>68.265150</td>\n",
              "    </tr>\n",
              "    <tr>\n",
              "      <th>2020-12-25</th>\n",
              "      <td>Wyoming</td>\n",
              "      <td>56041</td>\n",
              "      <td>0</td>\n",
              "      <td>Uinta County</td>\n",
              "      <td>0.0</td>\n",
              "      <td>1.042</td>\n",
              "      <td>33</td>\n",
              "      <td>-93.0</td>\n",
              "      <td>0.0</td>\n",
              "      <td>0.0</td>\n",
              "      <td>-16.0</td>\n",
              "      <td>-79.0</td>\n",
              "      <td>22.0</td>\n",
              "      <td>3.822405</td>\n",
              "      <td>Wyoming</td>\n",
              "      <td>50</td>\n",
              "      <td>33</td>\n",
              "      <td>2.31</td>\n",
              "      <td>29.9</td>\n",
              "      <td>20.1</td>\n",
              "      <td>53.1</td>\n",
              "      <td>0.61</td>\n",
              "      <td>1.70</td>\n",
              "      <td>0</td>\n",
              "      <td>20299</td>\n",
              "      <td>-31.8</td>\n",
              "      <td>3.6</td>\n",
              "      <td>18</td>\n",
              "      <td>58235</td>\n",
              "      <td>0.1</td>\n",
              "      <td>9.1</td>\n",
              "      <td>50.97</td>\n",
              "      <td>5</td>\n",
              "      <td>147</td>\n",
              "      <td>3.76</td>\n",
              "      <td>0.5</td>\n",
              "      <td>0.017</td>\n",
              "      <td>0.2463</td>\n",
              "      <td>20.25</td>\n",
              "      <td>1</td>\n",
              "      <td>47.503677</td>\n",
              "      <td>8.9</td>\n",
              "      <td>827.97</td>\n",
              "      <td>17.42</td>\n",
              "      <td>24</td>\n",
              "      <td>174</td>\n",
              "      <td>56.50</td>\n",
              "      <td>77</td>\n",
              "      <td>1.0</td>\n",
              "      <td>6.5</td>\n",
              "      <td>27.1</td>\n",
              "      <td>1.3</td>\n",
              "      <td>1.14</td>\n",
              "      <td>0.000000</td>\n",
              "      <td>53.486097</td>\n",
              "    </tr>\n",
              "    <tr>\n",
              "      <th>2020-12-26</th>\n",
              "      <td>Wyoming</td>\n",
              "      <td>56041</td>\n",
              "      <td>20</td>\n",
              "      <td>Uinta County</td>\n",
              "      <td>0.0</td>\n",
              "      <td>1.902</td>\n",
              "      <td>60</td>\n",
              "      <td>-10.0</td>\n",
              "      <td>0.0</td>\n",
              "      <td>0.0</td>\n",
              "      <td>-24.0</td>\n",
              "      <td>-16.0</td>\n",
              "      <td>0.0</td>\n",
              "      <td>3.822405</td>\n",
              "      <td>Wyoming</td>\n",
              "      <td>35</td>\n",
              "      <td>27</td>\n",
              "      <td>3.00</td>\n",
              "      <td>33.9</td>\n",
              "      <td>24.6</td>\n",
              "      <td>48.6</td>\n",
              "      <td>0.62</td>\n",
              "      <td>2.37</td>\n",
              "      <td>20</td>\n",
              "      <td>20299</td>\n",
              "      <td>-4.9</td>\n",
              "      <td>3.6</td>\n",
              "      <td>18</td>\n",
              "      <td>58235</td>\n",
              "      <td>0.1</td>\n",
              "      <td>9.1</td>\n",
              "      <td>50.97</td>\n",
              "      <td>5</td>\n",
              "      <td>147</td>\n",
              "      <td>3.76</td>\n",
              "      <td>0.5</td>\n",
              "      <td>0.017</td>\n",
              "      <td>0.3284</td>\n",
              "      <td>21.08</td>\n",
              "      <td>2</td>\n",
              "      <td>47.600503</td>\n",
              "      <td>9.0</td>\n",
              "      <td>827.97</td>\n",
              "      <td>17.60</td>\n",
              "      <td>24</td>\n",
              "      <td>279</td>\n",
              "      <td>56.50</td>\n",
              "      <td>77</td>\n",
              "      <td>1.0</td>\n",
              "      <td>6.5</td>\n",
              "      <td>27.1</td>\n",
              "      <td>1.3</td>\n",
              "      <td>1.14</td>\n",
              "      <td>98.527021</td>\n",
              "      <td>62.635035</td>\n",
              "    </tr>\n",
              "    <tr>\n",
              "      <th>2020-12-27</th>\n",
              "      <td>Wyoming</td>\n",
              "      <td>56041</td>\n",
              "      <td>2</td>\n",
              "      <td>Uinta County</td>\n",
              "      <td>0.0</td>\n",
              "      <td>1.774</td>\n",
              "      <td>56</td>\n",
              "      <td>0.0</td>\n",
              "      <td>0.0</td>\n",
              "      <td>0.0</td>\n",
              "      <td>-3.0</td>\n",
              "      <td>-16.0</td>\n",
              "      <td>0.0</td>\n",
              "      <td>3.822405</td>\n",
              "      <td>Wyoming</td>\n",
              "      <td>36</td>\n",
              "      <td>28</td>\n",
              "      <td>2.60</td>\n",
              "      <td>40.6</td>\n",
              "      <td>31.0</td>\n",
              "      <td>63.4</td>\n",
              "      <td>0.69</td>\n",
              "      <td>1.91</td>\n",
              "      <td>2</td>\n",
              "      <td>20299</td>\n",
              "      <td>-23.3</td>\n",
              "      <td>3.6</td>\n",
              "      <td>18</td>\n",
              "      <td>58235</td>\n",
              "      <td>0.1</td>\n",
              "      <td>9.1</td>\n",
              "      <td>50.97</td>\n",
              "      <td>5</td>\n",
              "      <td>147</td>\n",
              "      <td>3.76</td>\n",
              "      <td>0.5</td>\n",
              "      <td>0.017</td>\n",
              "      <td>0.3613</td>\n",
              "      <td>19.44</td>\n",
              "      <td>3</td>\n",
              "      <td>47.707402</td>\n",
              "      <td>9.0</td>\n",
              "      <td>827.97</td>\n",
              "      <td>17.80</td>\n",
              "      <td>25</td>\n",
              "      <td>294</td>\n",
              "      <td>56.50</td>\n",
              "      <td>77</td>\n",
              "      <td>1.0</td>\n",
              "      <td>6.5</td>\n",
              "      <td>27.1</td>\n",
              "      <td>1.3</td>\n",
              "      <td>1.14</td>\n",
              "      <td>9.852702</td>\n",
              "      <td>57.004919</td>\n",
              "    </tr>\n",
              "    <tr>\n",
              "      <th>2020-12-28</th>\n",
              "      <td>Wyoming</td>\n",
              "      <td>56041</td>\n",
              "      <td>10</td>\n",
              "      <td>Uinta County</td>\n",
              "      <td>0.0</td>\n",
              "      <td>2.423</td>\n",
              "      <td>77</td>\n",
              "      <td>0.0</td>\n",
              "      <td>0.0</td>\n",
              "      <td>0.0</td>\n",
              "      <td>4.0</td>\n",
              "      <td>-31.0</td>\n",
              "      <td>8.0</td>\n",
              "      <td>3.822405</td>\n",
              "      <td>Wyoming</td>\n",
              "      <td>33</td>\n",
              "      <td>25</td>\n",
              "      <td>3.12</td>\n",
              "      <td>30.1</td>\n",
              "      <td>18.3</td>\n",
              "      <td>41.9</td>\n",
              "      <td>0.85</td>\n",
              "      <td>2.27</td>\n",
              "      <td>10</td>\n",
              "      <td>20299</td>\n",
              "      <td>-8.9</td>\n",
              "      <td>3.6</td>\n",
              "      <td>18</td>\n",
              "      <td>58235</td>\n",
              "      <td>0.1</td>\n",
              "      <td>9.1</td>\n",
              "      <td>50.97</td>\n",
              "      <td>5</td>\n",
              "      <td>147</td>\n",
              "      <td>3.76</td>\n",
              "      <td>0.5</td>\n",
              "      <td>0.017</td>\n",
              "      <td>0.5255</td>\n",
              "      <td>19.99</td>\n",
              "      <td>4</td>\n",
              "      <td>47.820319</td>\n",
              "      <td>8.9</td>\n",
              "      <td>853.47</td>\n",
              "      <td>18.00</td>\n",
              "      <td>25</td>\n",
              "      <td>241</td>\n",
              "      <td>56.50</td>\n",
              "      <td>77</td>\n",
              "      <td>1.0</td>\n",
              "      <td>6.5</td>\n",
              "      <td>27.1</td>\n",
              "      <td>1.3</td>\n",
              "      <td>1.14</td>\n",
              "      <td>49.263511</td>\n",
              "      <td>42.929631</td>\n",
              "    </tr>\n",
              "  </tbody>\n",
              "</table>\n",
              "</div>"
            ],
            "text/plain": [
              "           Province_State  ...  rolling_avg_new_cases/100k\n",
              "Date                       ...                            \n",
              "2020-12-24        Wyoming  ...                   68.265150\n",
              "2020-12-25        Wyoming  ...                   53.486097\n",
              "2020-12-26        Wyoming  ...                   62.635035\n",
              "2020-12-27        Wyoming  ...                   57.004919\n",
              "2020-12-28        Wyoming  ...                   42.929631\n",
              "\n",
              "[5 rows x 55 columns]"
            ]
          },
          "metadata": {
            "tags": []
          },
          "execution_count": 7
        }
      ]
    },
    {
      "cell_type": "markdown",
      "metadata": {
        "id": "wp7RQTEUiiBN"
      },
      "source": [
        "## SARIMAX County Level"
      ]
    },
    {
      "cell_type": "markdown",
      "metadata": {
        "id": "Yi8hQgDE9IdL"
      },
      "source": [
        "## Variable declaration"
      ]
    },
    {
      "cell_type": "code",
      "metadata": {
        "id": "-oU9PswTiksp"
      },
      "source": [
        "county_name = 'Washington County'\n",
        "state_name = 'Oregon'\n",
        "state_code = 'OR'\n",
        "county_code = 'WC'\n",
        "#DONE"
      ],
      "execution_count": null,
      "outputs": []
    },
    {
      "cell_type": "code",
      "metadata": {
        "id": "Ui9sqaZHCRe3"
      },
      "source": [
        "state_name = 'California'\n",
        "county_name = 'Solano County'\n",
        "state_code = 'CA'\n",
        "county_code = 'SL'"
      ],
      "execution_count": 35,
      "outputs": []
    },
    {
      "cell_type": "code",
      "metadata": {
        "id": "fCIpPDBdB0WB"
      },
      "source": [
        "state_name='Iowa'\n",
        "county_name = 'Polk County'\n",
        "state_code = 'IA'\n",
        "county_code = 'PL'"
      ],
      "execution_count": null,
      "outputs": []
    },
    {
      "cell_type": "code",
      "metadata": {
        "id": "H_wiHc5pB445"
      },
      "source": [
        "state_name = 'Wisconsin'\n",
        "county_name = 'Milwaukee County'\n",
        "state_code = 'WI'\n",
        "county_code = 'ML'"
      ],
      "execution_count": null,
      "outputs": []
    },
    {
      "cell_type": "code",
      "metadata": {
        "id": "XQrbMT-cCFbP"
      },
      "source": [
        "state_name = 'Arkansas'\n",
        "county_name = 'Pulaski County'\n",
        "state_code = 'AK'\n",
        "county_code = 'PU'"
      ],
      "execution_count": null,
      "outputs": []
    },
    {
      "cell_type": "code",
      "metadata": {
        "id": "VV63WFQ2CRh0"
      },
      "source": [
        "state_name = 'Texas'\n",
        "county_name = 'Collin County'\n",
        "state_code = 'TX'\n",
        "county_code = 'HA'"
      ],
      "execution_count": null,
      "outputs": []
    },
    {
      "cell_type": "code",
      "metadata": {
        "id": "wVfS9fDwCHdV"
      },
      "source": [
        "state_name = 'New Jersey'\n",
        "county_name = 'Bergen County'\n",
        "state_code = 'NJ'\n",
        "county_code = 'BR'"
      ],
      "execution_count": null,
      "outputs": []
    },
    {
      "cell_type": "code",
      "metadata": {
        "id": "zjzxWljXCHad"
      },
      "source": [
        "state_name = 'New York'\n",
        "county_name = 'Queens County'\n",
        "state_code = 'NY'\n",
        "county_code = 'QU'"
      ],
      "execution_count": null,
      "outputs": []
    },
    {
      "cell_type": "markdown",
      "metadata": {
        "id": "8Yt_DE1d9Or6"
      },
      "source": [
        "## Loading data"
      ]
    },
    {
      "cell_type": "code",
      "metadata": {
        "colab": {
          "base_uri": "https://localhost:8080/",
          "height": 391
        },
        "id": "978TiSrcRkLH",
        "outputId": "f488dd67-3635-446f-80ac-5829d8c01d4b"
      },
      "source": [
        "state_county_superset_data = superset_data[(superset_data['County Name'] == county_name) & (superset_data['Province_State'] == state_name)]\n",
        "print(state_county_superset_data.shape)\n",
        "state_county_superset_data.head()"
      ],
      "execution_count": 9,
      "outputs": [
        {
          "output_type": "stream",
          "text": [
            "(292, 55)\n"
          ],
          "name": "stdout"
        },
        {
          "output_type": "execute_result",
          "data": {
            "text/html": [
              "<div>\n",
              "<style scoped>\n",
              "    .dataframe tbody tr th:only-of-type {\n",
              "        vertical-align: middle;\n",
              "    }\n",
              "\n",
              "    .dataframe tbody tr th {\n",
              "        vertical-align: top;\n",
              "    }\n",
              "\n",
              "    .dataframe thead th {\n",
              "        text-align: right;\n",
              "    }\n",
              "</style>\n",
              "<table border=\"1\" class=\"dataframe\">\n",
              "  <thead>\n",
              "    <tr style=\"text-align: right;\">\n",
              "      <th></th>\n",
              "      <th>Province_State</th>\n",
              "      <th>FIPS</th>\n",
              "      <th>New cases</th>\n",
              "      <th>County Name</th>\n",
              "      <th>mask_rule_severity</th>\n",
              "      <th>m50</th>\n",
              "      <th>m50_index</th>\n",
              "      <th>retail_and_recreation_percent_change_from_baseline</th>\n",
              "      <th>grocery_and_pharmacy_percent_change_from_baseline</th>\n",
              "      <th>parks_percent_change_from_baseline</th>\n",
              "      <th>transit_stations_percent_change_from_baseline</th>\n",
              "      <th>workplaces_percent_change_from_baseline</th>\n",
              "      <th>residential_percent_change_from_baseline</th>\n",
              "      <th>PopDensity</th>\n",
              "      <th>State_Name</th>\n",
              "      <th>Social.distancing.index</th>\n",
              "      <th>X..staying.home</th>\n",
              "      <th>Trips.person</th>\n",
              "      <th>X..out.of.county.trips</th>\n",
              "      <th>X..out.of.state.trips</th>\n",
              "      <th>Miles.person</th>\n",
              "      <th>Work.trips.person</th>\n",
              "      <th>Non.work.trips.person</th>\n",
              "      <th>New.COVID.cases</th>\n",
              "      <th>Population</th>\n",
              "      <th>X..change.in.consumption</th>\n",
              "      <th>Transit.mode.share</th>\n",
              "      <th>X..people.older.than.60</th>\n",
              "      <th>Median.income</th>\n",
              "      <th>X..African.Americans</th>\n",
              "      <th>X..Hispanic.Americans</th>\n",
              "      <th>X..Male</th>\n",
              "      <th>Employment.density</th>\n",
              "      <th>X..hot.spots.1000.people</th>\n",
              "      <th>Hospital.beds.1000.people</th>\n",
              "      <th>ICUs.1000.people</th>\n",
              "      <th>X..contact.tracing.workers.1000.people</th>\n",
              "      <th>New.cases.1000.people</th>\n",
              "      <th>Active.cases.1000.people</th>\n",
              "      <th>X.days..decreasing.COVID.cases</th>\n",
              "      <th>X..hospital.bed.utilization</th>\n",
              "      <th>Testing.capacity</th>\n",
              "      <th>Tests.done.1000.people</th>\n",
              "      <th>X..ICU.utilization</th>\n",
              "      <th>Ventilator.shortage</th>\n",
              "      <th>Imported.COVID.cases</th>\n",
              "      <th>COVID.exposure.1000.people</th>\n",
              "      <th>X.days..decreasing.ILI.cases</th>\n",
              "      <th>Unemployment.claims.1000.people</th>\n",
              "      <th>Unemployment.rate</th>\n",
              "      <th>X..working.from.home</th>\n",
              "      <th>Cumulative.inflation.rate</th>\n",
              "      <th>COVID.death.rate</th>\n",
              "      <th>New Cases/100k population</th>\n",
              "      <th>rolling_avg_new_cases/100k</th>\n",
              "    </tr>\n",
              "    <tr>\n",
              "      <th>Date</th>\n",
              "      <th></th>\n",
              "      <th></th>\n",
              "      <th></th>\n",
              "      <th></th>\n",
              "      <th></th>\n",
              "      <th></th>\n",
              "      <th></th>\n",
              "      <th></th>\n",
              "      <th></th>\n",
              "      <th></th>\n",
              "      <th></th>\n",
              "      <th></th>\n",
              "      <th></th>\n",
              "      <th></th>\n",
              "      <th></th>\n",
              "      <th></th>\n",
              "      <th></th>\n",
              "      <th></th>\n",
              "      <th></th>\n",
              "      <th></th>\n",
              "      <th></th>\n",
              "      <th></th>\n",
              "      <th></th>\n",
              "      <th></th>\n",
              "      <th></th>\n",
              "      <th></th>\n",
              "      <th></th>\n",
              "      <th></th>\n",
              "      <th></th>\n",
              "      <th></th>\n",
              "      <th></th>\n",
              "      <th></th>\n",
              "      <th></th>\n",
              "      <th></th>\n",
              "      <th></th>\n",
              "      <th></th>\n",
              "      <th></th>\n",
              "      <th></th>\n",
              "      <th></th>\n",
              "      <th></th>\n",
              "      <th></th>\n",
              "      <th></th>\n",
              "      <th></th>\n",
              "      <th></th>\n",
              "      <th></th>\n",
              "      <th></th>\n",
              "      <th></th>\n",
              "      <th></th>\n",
              "      <th></th>\n",
              "      <th></th>\n",
              "      <th></th>\n",
              "      <th></th>\n",
              "      <th></th>\n",
              "      <th></th>\n",
              "      <th></th>\n",
              "    </tr>\n",
              "  </thead>\n",
              "  <tbody>\n",
              "    <tr>\n",
              "      <th>2020-03-01</th>\n",
              "      <td>California</td>\n",
              "      <td>6095</td>\n",
              "      <td>0</td>\n",
              "      <td>Solano County</td>\n",
              "      <td>0.0</td>\n",
              "      <td>3.327</td>\n",
              "      <td>46</td>\n",
              "      <td>7.0</td>\n",
              "      <td>5.0</td>\n",
              "      <td>17.0</td>\n",
              "      <td>6.0</td>\n",
              "      <td>2.0</td>\n",
              "      <td>-1.0</td>\n",
              "      <td>206.044406</td>\n",
              "      <td>California</td>\n",
              "      <td>41</td>\n",
              "      <td>26</td>\n",
              "      <td>2.95</td>\n",
              "      <td>28.6</td>\n",
              "      <td>0.2</td>\n",
              "      <td>37.5</td>\n",
              "      <td>0.24</td>\n",
              "      <td>2.71</td>\n",
              "      <td>0</td>\n",
              "      <td>446610</td>\n",
              "      <td>-8.8</td>\n",
              "      <td>2.99</td>\n",
              "      <td>21</td>\n",
              "      <td>77609</td>\n",
              "      <td>13.6</td>\n",
              "      <td>26.1</td>\n",
              "      <td>49.7</td>\n",
              "      <td>180</td>\n",
              "      <td>102</td>\n",
              "      <td>2.05</td>\n",
              "      <td>0.22</td>\n",
              "      <td>0.0</td>\n",
              "      <td>0.0</td>\n",
              "      <td>0.0</td>\n",
              "      <td>37</td>\n",
              "      <td>54.0</td>\n",
              "      <td>0.0</td>\n",
              "      <td>0.00</td>\n",
              "      <td>0.0</td>\n",
              "      <td>0</td>\n",
              "      <td>0</td>\n",
              "      <td>0.05</td>\n",
              "      <td>35</td>\n",
              "      <td>1.1</td>\n",
              "      <td>5.3</td>\n",
              "      <td>5.7</td>\n",
              "      <td>0.6</td>\n",
              "      <td>0.00</td>\n",
              "      <td>0.0</td>\n",
              "      <td>0.0</td>\n",
              "    </tr>\n",
              "    <tr>\n",
              "      <th>2020-03-02</th>\n",
              "      <td>California</td>\n",
              "      <td>6095</td>\n",
              "      <td>0</td>\n",
              "      <td>Solano County</td>\n",
              "      <td>0.0</td>\n",
              "      <td>6.810</td>\n",
              "      <td>95</td>\n",
              "      <td>7.0</td>\n",
              "      <td>5.0</td>\n",
              "      <td>11.0</td>\n",
              "      <td>7.0</td>\n",
              "      <td>3.0</td>\n",
              "      <td>-1.0</td>\n",
              "      <td>206.044406</td>\n",
              "      <td>California</td>\n",
              "      <td>16</td>\n",
              "      <td>18</td>\n",
              "      <td>3.61</td>\n",
              "      <td>27.3</td>\n",
              "      <td>0.2</td>\n",
              "      <td>44.6</td>\n",
              "      <td>0.61</td>\n",
              "      <td>3.00</td>\n",
              "      <td>0</td>\n",
              "      <td>446610</td>\n",
              "      <td>1.0</td>\n",
              "      <td>2.99</td>\n",
              "      <td>21</td>\n",
              "      <td>77609</td>\n",
              "      <td>13.6</td>\n",
              "      <td>26.1</td>\n",
              "      <td>49.7</td>\n",
              "      <td>180</td>\n",
              "      <td>102</td>\n",
              "      <td>2.05</td>\n",
              "      <td>0.22</td>\n",
              "      <td>0.0</td>\n",
              "      <td>0.0</td>\n",
              "      <td>0.0</td>\n",
              "      <td>38</td>\n",
              "      <td>54.0</td>\n",
              "      <td>0.0</td>\n",
              "      <td>0.00</td>\n",
              "      <td>0.0</td>\n",
              "      <td>0</td>\n",
              "      <td>0</td>\n",
              "      <td>0.05</td>\n",
              "      <td>35</td>\n",
              "      <td>1.1</td>\n",
              "      <td>5.3</td>\n",
              "      <td>5.7</td>\n",
              "      <td>0.6</td>\n",
              "      <td>0.00</td>\n",
              "      <td>0.0</td>\n",
              "      <td>0.0</td>\n",
              "    </tr>\n",
              "    <tr>\n",
              "      <th>2020-03-03</th>\n",
              "      <td>California</td>\n",
              "      <td>6095</td>\n",
              "      <td>0</td>\n",
              "      <td>Solano County</td>\n",
              "      <td>0.0</td>\n",
              "      <td>7.146</td>\n",
              "      <td>99</td>\n",
              "      <td>8.0</td>\n",
              "      <td>10.0</td>\n",
              "      <td>29.0</td>\n",
              "      <td>8.0</td>\n",
              "      <td>3.0</td>\n",
              "      <td>-1.0</td>\n",
              "      <td>206.044406</td>\n",
              "      <td>California</td>\n",
              "      <td>14</td>\n",
              "      <td>17</td>\n",
              "      <td>3.82</td>\n",
              "      <td>27.0</td>\n",
              "      <td>0.2</td>\n",
              "      <td>41.8</td>\n",
              "      <td>0.65</td>\n",
              "      <td>3.17</td>\n",
              "      <td>0</td>\n",
              "      <td>446610</td>\n",
              "      <td>6.7</td>\n",
              "      <td>2.99</td>\n",
              "      <td>21</td>\n",
              "      <td>77609</td>\n",
              "      <td>13.6</td>\n",
              "      <td>26.1</td>\n",
              "      <td>49.7</td>\n",
              "      <td>180</td>\n",
              "      <td>102</td>\n",
              "      <td>2.05</td>\n",
              "      <td>0.22</td>\n",
              "      <td>0.0</td>\n",
              "      <td>0.0</td>\n",
              "      <td>0.0</td>\n",
              "      <td>39</td>\n",
              "      <td>54.0</td>\n",
              "      <td>0.0</td>\n",
              "      <td>0.00</td>\n",
              "      <td>0.0</td>\n",
              "      <td>0</td>\n",
              "      <td>0</td>\n",
              "      <td>0.05</td>\n",
              "      <td>42</td>\n",
              "      <td>1.1</td>\n",
              "      <td>5.3</td>\n",
              "      <td>5.7</td>\n",
              "      <td>0.6</td>\n",
              "      <td>0.00</td>\n",
              "      <td>0.0</td>\n",
              "      <td>0.0</td>\n",
              "    </tr>\n",
              "    <tr>\n",
              "      <th>2020-03-04</th>\n",
              "      <td>California</td>\n",
              "      <td>6095</td>\n",
              "      <td>0</td>\n",
              "      <td>Solano County</td>\n",
              "      <td>0.0</td>\n",
              "      <td>7.148</td>\n",
              "      <td>100</td>\n",
              "      <td>4.0</td>\n",
              "      <td>6.0</td>\n",
              "      <td>22.0</td>\n",
              "      <td>3.0</td>\n",
              "      <td>2.0</td>\n",
              "      <td>-1.0</td>\n",
              "      <td>206.044406</td>\n",
              "      <td>California</td>\n",
              "      <td>13</td>\n",
              "      <td>17</td>\n",
              "      <td>3.75</td>\n",
              "      <td>27.4</td>\n",
              "      <td>0.1</td>\n",
              "      <td>45.6</td>\n",
              "      <td>0.66</td>\n",
              "      <td>3.09</td>\n",
              "      <td>0</td>\n",
              "      <td>446610</td>\n",
              "      <td>4.0</td>\n",
              "      <td>2.99</td>\n",
              "      <td>21</td>\n",
              "      <td>77609</td>\n",
              "      <td>13.6</td>\n",
              "      <td>26.1</td>\n",
              "      <td>49.7</td>\n",
              "      <td>180</td>\n",
              "      <td>102</td>\n",
              "      <td>2.05</td>\n",
              "      <td>0.22</td>\n",
              "      <td>0.0</td>\n",
              "      <td>0.0</td>\n",
              "      <td>0.0</td>\n",
              "      <td>40</td>\n",
              "      <td>54.0</td>\n",
              "      <td>10.3</td>\n",
              "      <td>0.01</td>\n",
              "      <td>0.0</td>\n",
              "      <td>0</td>\n",
              "      <td>0</td>\n",
              "      <td>0.06</td>\n",
              "      <td>42</td>\n",
              "      <td>1.1</td>\n",
              "      <td>5.3</td>\n",
              "      <td>5.7</td>\n",
              "      <td>0.6</td>\n",
              "      <td>0.04</td>\n",
              "      <td>0.0</td>\n",
              "      <td>0.0</td>\n",
              "    </tr>\n",
              "    <tr>\n",
              "      <th>2020-03-05</th>\n",
              "      <td>California</td>\n",
              "      <td>6095</td>\n",
              "      <td>0</td>\n",
              "      <td>Solano County</td>\n",
              "      <td>0.0</td>\n",
              "      <td>7.804</td>\n",
              "      <td>109</td>\n",
              "      <td>5.0</td>\n",
              "      <td>3.0</td>\n",
              "      <td>23.0</td>\n",
              "      <td>4.0</td>\n",
              "      <td>2.0</td>\n",
              "      <td>-1.0</td>\n",
              "      <td>206.044406</td>\n",
              "      <td>California</td>\n",
              "      <td>13</td>\n",
              "      <td>17</td>\n",
              "      <td>3.75</td>\n",
              "      <td>27.7</td>\n",
              "      <td>0.2</td>\n",
              "      <td>50.1</td>\n",
              "      <td>0.69</td>\n",
              "      <td>3.06</td>\n",
              "      <td>0</td>\n",
              "      <td>446610</td>\n",
              "      <td>3.0</td>\n",
              "      <td>2.99</td>\n",
              "      <td>21</td>\n",
              "      <td>77609</td>\n",
              "      <td>13.6</td>\n",
              "      <td>26.1</td>\n",
              "      <td>49.7</td>\n",
              "      <td>180</td>\n",
              "      <td>102</td>\n",
              "      <td>2.05</td>\n",
              "      <td>0.22</td>\n",
              "      <td>0.0</td>\n",
              "      <td>0.0</td>\n",
              "      <td>0.0</td>\n",
              "      <td>41</td>\n",
              "      <td>54.0</td>\n",
              "      <td>10.3</td>\n",
              "      <td>0.01</td>\n",
              "      <td>0.0</td>\n",
              "      <td>0</td>\n",
              "      <td>0</td>\n",
              "      <td>0.06</td>\n",
              "      <td>42</td>\n",
              "      <td>1.1</td>\n",
              "      <td>5.3</td>\n",
              "      <td>5.7</td>\n",
              "      <td>0.6</td>\n",
              "      <td>0.04</td>\n",
              "      <td>0.0</td>\n",
              "      <td>0.0</td>\n",
              "    </tr>\n",
              "  </tbody>\n",
              "</table>\n",
              "</div>"
            ],
            "text/plain": [
              "           Province_State  ...  rolling_avg_new_cases/100k\n",
              "Date                       ...                            \n",
              "2020-03-01     California  ...                         0.0\n",
              "2020-03-02     California  ...                         0.0\n",
              "2020-03-03     California  ...                         0.0\n",
              "2020-03-04     California  ...                         0.0\n",
              "2020-03-05     California  ...                         0.0\n",
              "\n",
              "[5 rows x 55 columns]"
            ]
          },
          "metadata": {
            "tags": []
          },
          "execution_count": 9
        }
      ]
    },
    {
      "cell_type": "markdown",
      "metadata": {
        "id": "d8_BC8qqojAm"
      },
      "source": [
        " **Note**:\n",
        " I have removed the other columns and verified with only date column"
      ]
    },
    {
      "cell_type": "markdown",
      "metadata": {
        "id": "vBQNIkiX9TgW"
      },
      "source": [
        "## filter columns"
      ]
    },
    {
      "cell_type": "code",
      "metadata": {
        "colab": {
          "base_uri": "https://localhost:8080/",
          "height": 235
        },
        "id": "RTOsTIzoEOvs",
        "outputId": "dd7cc6f2-7061-4fdd-8460-dc9f1a0f5e5e"
      },
      "source": [
        "#columns = ['Tests.done.1000.people','X..staying.home','Unemployment.rate','X..people.older.than.60','X..working.from.home','X.days..decreasing.ILI.cases','X..Male','X..out.of.county.trips','parks_percent_change_from_baseline','Work.trips.person','m50_index','FIPS','Imported.COVID.cases','X..out.of.state.trips','Miles.person','X.days..decreasing.COVID.cases','grocery_and_pharmacy_percent_change_from_baseline','transit_stations_percent_change_from_baseline','Testing.capacity','retail_and_recreation_percent_change_from_baseline','Unemployment.claims.1000.people', 'New Cases/100k population']\n",
        "columns = ['New Cases/100k population']\n",
        "state_county_superset_data = state_county_superset_data[columns]\n",
        "state_county_superset_data.head()"
      ],
      "execution_count": 10,
      "outputs": [
        {
          "output_type": "execute_result",
          "data": {
            "text/html": [
              "<div>\n",
              "<style scoped>\n",
              "    .dataframe tbody tr th:only-of-type {\n",
              "        vertical-align: middle;\n",
              "    }\n",
              "\n",
              "    .dataframe tbody tr th {\n",
              "        vertical-align: top;\n",
              "    }\n",
              "\n",
              "    .dataframe thead th {\n",
              "        text-align: right;\n",
              "    }\n",
              "</style>\n",
              "<table border=\"1\" class=\"dataframe\">\n",
              "  <thead>\n",
              "    <tr style=\"text-align: right;\">\n",
              "      <th></th>\n",
              "      <th>New Cases/100k population</th>\n",
              "    </tr>\n",
              "    <tr>\n",
              "      <th>Date</th>\n",
              "      <th></th>\n",
              "    </tr>\n",
              "  </thead>\n",
              "  <tbody>\n",
              "    <tr>\n",
              "      <th>2020-03-01</th>\n",
              "      <td>0.0</td>\n",
              "    </tr>\n",
              "    <tr>\n",
              "      <th>2020-03-02</th>\n",
              "      <td>0.0</td>\n",
              "    </tr>\n",
              "    <tr>\n",
              "      <th>2020-03-03</th>\n",
              "      <td>0.0</td>\n",
              "    </tr>\n",
              "    <tr>\n",
              "      <th>2020-03-04</th>\n",
              "      <td>0.0</td>\n",
              "    </tr>\n",
              "    <tr>\n",
              "      <th>2020-03-05</th>\n",
              "      <td>0.0</td>\n",
              "    </tr>\n",
              "  </tbody>\n",
              "</table>\n",
              "</div>"
            ],
            "text/plain": [
              "            New Cases/100k population\n",
              "Date                                 \n",
              "2020-03-01                        0.0\n",
              "2020-03-02                        0.0\n",
              "2020-03-03                        0.0\n",
              "2020-03-04                        0.0\n",
              "2020-03-05                        0.0"
            ]
          },
          "metadata": {
            "tags": []
          },
          "execution_count": 10
        }
      ]
    },
    {
      "cell_type": "code",
      "metadata": {
        "colab": {
          "base_uri": "https://localhost:8080/"
        },
        "id": "txXodzEBEOvv",
        "outputId": "52c8e761-75c3-4b15-d80c-69aed8eeaf86"
      },
      "source": [
        "state_county_superset_data.shape"
      ],
      "execution_count": null,
      "outputs": [
        {
          "output_type": "execute_result",
          "data": {
            "text/plain": [
              "(292, 1)"
            ]
          },
          "metadata": {
            "tags": []
          },
          "execution_count": 85
        }
      ]
    },
    {
      "cell_type": "markdown",
      "metadata": {
        "id": "p-3EXsqzEOvw"
      },
      "source": [
        "### Check Date Range"
      ]
    },
    {
      "cell_type": "code",
      "metadata": {
        "id": "w2-8tM6xEOvy"
      },
      "source": [
        "state_county_superset_data = state_county_superset_data.reindex(pd.date_range(\"2020-03-01\", \"2020-12-28\"), fill_value=0.0)"
      ],
      "execution_count": 11,
      "outputs": []
    },
    {
      "cell_type": "markdown",
      "metadata": {
        "id": "ELYcPteuEOv0"
      },
      "source": [
        "### Plot 'New Cases/100k population'"
      ]
    },
    {
      "cell_type": "code",
      "metadata": {
        "colab": {
          "base_uri": "https://localhost:8080/",
          "height": 641
        },
        "id": "iM8ms6VnEOv0",
        "outputId": "e97a16f6-0e9c-4233-8e15-d7608de251c5"
      },
      "source": [
        "# differencing of one day turns total cases into daily new cases\n",
        "# by tracking the change rather than the total\n",
        "prediction = 'New Cases/100k population'\n",
        "plt.plot(state_county_superset_data[prediction].diff(1)[:])"
      ],
      "execution_count": 12,
      "outputs": [
        {
          "output_type": "execute_result",
          "data": {
            "text/plain": [
              "[<matplotlib.lines.Line2D at 0x7fd2a0c9d890>]"
            ]
          },
          "metadata": {
            "tags": []
          },
          "execution_count": 12
        },
        {
          "output_type": "display_data",
          "data": {
            "image/png": "[encoded data removed]",
            "text/plain": [
              "<Figure size 1080x720 with 1 Axes>"
            ]
          },
          "metadata": {
            "tags": []
          }
        }
      ]
    },
    {
      "cell_type": "markdown",
      "metadata": {
        "id": "CWMGVPKCEOv2"
      },
      "source": [
        "## Test and Training Split"
      ]
    },
    {
      "cell_type": "code",
      "metadata": {
        "id": "89eRsZ1eEOv2"
      },
      "source": [
        "prediction = 'New Cases/100k population'\n",
        "region = 'United States'\n",
        "\n",
        "#dfjanusa = dfjan[(dfjan['Jurisdiction'] == 'NAT_TOTAL') & (dfjan['CountryName'] == region)][:-1]\n",
        "\n",
        "true_value = state_county_superset_data[prediction]\n",
        "true_value.index.freq = 'D'\n",
        "true_value = true_value.interpolate(method = 'time', limit_direction = 'forward', limit_area = 'inside').fillna(0.0)\n",
        "\n",
        "train = true_value[true_value.index < '2020-12-01']\n",
        "test = true_value[true_value.index >= '2020-12-01']\n",
        "train\n",
        "\n",
        "#train-test split-temp\n",
        "state_county_superset_data = state_county_superset_data.fillna(method = 'ffill')\n",
        "train_df = state_county_superset_data[state_county_superset_data.index < '2020-12-01']\n",
        "test_df = state_county_superset_data[(state_county_superset_data.index >= '2020-12-01') & (state_county_superset_data.index < '2021-01-01')]\n",
        "\n",
        "train = train_df[prediction]\n",
        "test = test_df[prediction]\n",
        "true = state_county_superset_data[prediction]\n",
        "train.index.freq = 'D'\n",
        "test.index.freq = 'D'\n",
        "true.index.freq = 'D'"
      ],
      "execution_count": 13,
      "outputs": []
    },
    {
      "cell_type": "code",
      "metadata": {
        "colab": {
          "base_uri": "https://localhost:8080/"
        },
        "id": "8hWc1SESEOv4",
        "outputId": "d524f384-052f-4e07-f388-d20ef86c2fab"
      },
      "source": [
        "print(\"train:\", train.shape)\n",
        "print(\"test:\", test.shape)"
      ],
      "execution_count": 14,
      "outputs": [
        {
          "output_type": "stream",
          "text": [
            "train: (275,)\n",
            "test: (28,)\n"
          ],
          "name": "stdout"
        }
      ]
    },
    {
      "cell_type": "code",
      "metadata": {
        "colab": {
          "base_uri": "https://localhost:8080/"
        },
        "id": "HRgTZmdeGRIL",
        "outputId": "a93357d6-2033-4b7f-e3f5-0f4ae1eed326"
      },
      "source": [
        "train.head(2)"
      ],
      "execution_count": 15,
      "outputs": [
        {
          "output_type": "execute_result",
          "data": {
            "text/plain": [
              "2020-03-01    0.0\n",
              "2020-03-02    0.0\n",
              "Freq: D, Name: New Cases/100k population, dtype: float64"
            ]
          },
          "metadata": {
            "tags": []
          },
          "execution_count": 15
        }
      ]
    },
    {
      "cell_type": "markdown",
      "metadata": {
        "id": "jdCdgY69F5Xt"
      },
      "source": [
        "## Seasonal Decompose"
      ]
    },
    {
      "cell_type": "code",
      "metadata": {
        "colab": {
          "base_uri": "https://localhost:8080/",
          "height": 664
        },
        "id": "SN8ky0JeF8NW",
        "outputId": "a5db0eb3-8cb9-42f4-f382-7a1226cc31c3"
      },
      "source": [
        "df = state_county_superset_data.fillna(method = 'ffill')\n",
        "results = seasonal_decompose(train_df[prediction],two_sided = True, model='additive')\n",
        "results.plot()\n",
        "plt.show()"
      ],
      "execution_count": 16,
      "outputs": [
        {
          "output_type": "display_data",
          "data": {
            "image/png": "[encoded data removed]",
            "text/plain": [
              "<Figure size 1080x720 with 4 Axes>"
            ]
          },
          "metadata": {
            "tags": []
          }
        }
      ]
    },
    {
      "cell_type": "code",
      "metadata": {
        "colab": {
          "base_uri": "https://localhost:8080/"
        },
        "id": "GELljBfkyMts",
        "outputId": "b676dde9-4a63-4502-8575-e920d475a3f5"
      },
      "source": [
        "len(train.index.day_name())"
      ],
      "execution_count": 17,
      "outputs": [
        {
          "output_type": "execute_result",
          "data": {
            "text/plain": [
              "275"
            ]
          },
          "metadata": {
            "tags": []
          },
          "execution_count": 17
        }
      ]
    },
    {
      "cell_type": "code",
      "metadata": {
        "colab": {
          "base_uri": "https://localhost:8080/"
        },
        "id": "jtuEqb1IyRIJ",
        "outputId": "0e6fb059-d54e-4815-fdcb-9d066d0bf135"
      },
      "source": [
        "len(train_df['New Cases/100k population'].values)"
      ],
      "execution_count": 18,
      "outputs": [
        {
          "output_type": "execute_result",
          "data": {
            "text/plain": [
              "275"
            ]
          },
          "metadata": {
            "tags": []
          },
          "execution_count": 18
        }
      ]
    },
    {
      "cell_type": "markdown",
      "metadata": {
        "id": "-P_mVm789fRN"
      },
      "source": [
        "### Visualizing `cases`  Vs `day of the week`"
      ]
    },
    {
      "cell_type": "code",
      "metadata": {
        "colab": {
          "base_uri": "https://localhost:8080/",
          "height": 679
        },
        "id": "_oXHIpH2Hb4b",
        "outputId": "4c5c8bd0-81b0-4699-ae0e-f751abb38c44"
      },
      "source": [
        "import seaborn as sns\n",
        "ax = plt.subplot()\n",
        "sns.barplot(x=train.index.day_name(), y=train_df[prediction].values, ax=ax, ci=False,\n",
        "           order = ['Sunday','Monday','Tuesday','Wednesday','Thursday','Friday','Saturday'])\n",
        "#ax.set_ylim([3600000,4000000])\n",
        "ax.set_title('Average Infections by Day of the Week')\n",
        "ax.set_ylabel('Average Infections')\n",
        "ax.set_xlabel('Day of the Week')"
      ],
      "execution_count": 19,
      "outputs": [
        {
          "output_type": "execute_result",
          "data": {
            "text/plain": [
              "Text(0.5, 0, 'Day of the Week')"
            ]
          },
          "metadata": {
            "tags": []
          },
          "execution_count": 19
        },
        {
          "output_type": "display_data",
          "data": {
            "image/png": "[encoded data removed]",
            "text/plain": [
              "<Figure size 1080x720 with 1 Axes>"
            ]
          },
          "metadata": {
            "tags": []
          }
        }
      ]
    },
    {
      "cell_type": "markdown",
      "metadata": {
        "id": "_vxv8dATEOv5"
      },
      "source": [
        "### Sarimax Model"
      ]
    },
    {
      "cell_type": "markdown",
      "metadata": {
        "id": "78UgI5evNRZk"
      },
      "source": [
        "### Determine hyperparameter"
      ]
    },
    {
      "cell_type": "code",
      "metadata": {
        "colab": {
          "base_uri": "https://localhost:8080/",
          "height": 392
        },
        "id": "WpVzrXyjMDcr",
        "outputId": "a66403f6-0e1f-45fb-b3cc-0caa66ac9291"
      },
      "source": [
        "\n",
        "test_results = pd.DataFrame(columns = ['MPE'])\n",
        "for p in range(0,4):\n",
        "    for d in range(1,3):\n",
        "        for q in range(0,4):\n",
        "            for P in range(0,4):\n",
        "                for D in range(1,3):\n",
        "                    for Q in range(0,4):\n",
        "                        model = SARIMAX(cbrt_train, order =(p,d,q), seasonal_order = (P,D,Q,7),\n",
        "                                       freq = 'D')\n",
        "                        fit_model = model.fit(maxiter = 200, disp = False)\n",
        "                        yhat = fit_model.forecast(len(test))\n",
        "                        yhat = yhat**3\n",
        "                        ind = f'order = ({p},{d},{q}), seasonal_order = ({P},{D},{Q},7)'\n",
        "                        mpe = mean_percent_error(test,yhat)\n",
        "                        print(f'trying {ind}, MPE = {mpe}')\n",
        "                        test_results.loc[ind,'MPE'] = mpe\n",
        "\n",
        "test_results.min()"
      ],
      "execution_count": 24,
      "outputs": [
        {
          "output_type": "error",
          "ename": "KeyboardInterrupt",
          "evalue": "ignored",
          "traceback": [
            "\u001b[0;31m---------------------------------------------------------------------------\u001b[0m",
            "\u001b[0;31mKeyboardInterrupt\u001b[0m                         Traceback (most recent call last)",
            "\u001b[0;32m<ipython-input-24-b8f499331820>\u001b[0m in \u001b[0;36m<module>\u001b[0;34m()\u001b[0m\n\u001b[1;32m      9\u001b[0m                         model = SARIMAX(cbrt_train, order =(p,d,q), seasonal_order = (P,D,Q,7),\n\u001b[1;32m     10\u001b[0m                                        freq = 'D')\n\u001b[0;32m---> 11\u001b[0;31m                         \u001b[0mfit_model\u001b[0m \u001b[0;34m=\u001b[0m \u001b[0mmodel\u001b[0m\u001b[0;34m.\u001b[0m\u001b[0mfit\u001b[0m\u001b[0;34m(\u001b[0m\u001b[0mmaxiter\u001b[0m \u001b[0;34m=\u001b[0m \u001b[0;36m200\u001b[0m\u001b[0;34m,\u001b[0m \u001b[0mdisp\u001b[0m \u001b[0;34m=\u001b[0m \u001b[0;32mFalse\u001b[0m\u001b[0;34m)\u001b[0m\u001b[0;34m\u001b[0m\u001b[0;34m\u001b[0m\u001b[0m\n\u001b[0m\u001b[1;32m     12\u001b[0m                         \u001b[0myhat\u001b[0m \u001b[0;34m=\u001b[0m \u001b[0mfit_model\u001b[0m\u001b[0;34m.\u001b[0m\u001b[0mforecast\u001b[0m\u001b[0;34m(\u001b[0m\u001b[0mlen\u001b[0m\u001b[0;34m(\u001b[0m\u001b[0mtest\u001b[0m\u001b[0;34m)\u001b[0m\u001b[0;34m)\u001b[0m\u001b[0;34m\u001b[0m\u001b[0;34m\u001b[0m\u001b[0m\n\u001b[1;32m     13\u001b[0m                         \u001b[0myhat\u001b[0m \u001b[0;34m=\u001b[0m \u001b[0myhat\u001b[0m\u001b[0;34m**\u001b[0m\u001b[0;36m3\u001b[0m\u001b[0;34m\u001b[0m\u001b[0;34m\u001b[0m\u001b[0m\n",
            "\u001b[0;32m/usr/local/lib/python3.7/dist-packages/statsmodels/tsa/statespace/mlemodel.py\u001b[0m in \u001b[0;36mfit\u001b[0;34m(self, start_params, transformed, cov_type, cov_kwds, method, maxiter, full_output, disp, callback, return_params, optim_score, optim_complex_step, optim_hessian, flags, **kwargs)\u001b[0m\n\u001b[1;32m    481\u001b[0m                                            \u001b[0mfull_output\u001b[0m\u001b[0;34m=\u001b[0m\u001b[0mfull_output\u001b[0m\u001b[0;34m,\u001b[0m\u001b[0;34m\u001b[0m\u001b[0;34m\u001b[0m\u001b[0m\n\u001b[1;32m    482\u001b[0m                                            \u001b[0mdisp\u001b[0m\u001b[0;34m=\u001b[0m\u001b[0mdisp\u001b[0m\u001b[0;34m,\u001b[0m \u001b[0mcallback\u001b[0m\u001b[0;34m=\u001b[0m\u001b[0mcallback\u001b[0m\u001b[0;34m,\u001b[0m\u001b[0;34m\u001b[0m\u001b[0;34m\u001b[0m\u001b[0m\n\u001b[0;32m--> 483\u001b[0;31m                                            skip_hessian=True, **kwargs)\n\u001b[0m\u001b[1;32m    484\u001b[0m \u001b[0;34m\u001b[0m\u001b[0m\n\u001b[1;32m    485\u001b[0m         \u001b[0;31m# Just return the fitted parameters if requested\u001b[0m\u001b[0;34m\u001b[0m\u001b[0;34m\u001b[0m\u001b[0;34m\u001b[0m\u001b[0m\n",
            "\u001b[0;32m/usr/local/lib/python3.7/dist-packages/statsmodels/base/model.py\u001b[0m in \u001b[0;36mfit\u001b[0;34m(self, start_params, method, maxiter, full_output, disp, fargs, callback, retall, skip_hessian, **kwargs)\u001b[0m\n\u001b[1;32m    468\u001b[0m                                                        \u001b[0mcallback\u001b[0m\u001b[0;34m=\u001b[0m\u001b[0mcallback\u001b[0m\u001b[0;34m,\u001b[0m\u001b[0;34m\u001b[0m\u001b[0;34m\u001b[0m\u001b[0m\n\u001b[1;32m    469\u001b[0m                                                        \u001b[0mretall\u001b[0m\u001b[0;34m=\u001b[0m\u001b[0mretall\u001b[0m\u001b[0;34m,\u001b[0m\u001b[0;34m\u001b[0m\u001b[0;34m\u001b[0m\u001b[0m\n\u001b[0;32m--> 470\u001b[0;31m                                                        full_output=full_output)\n\u001b[0m\u001b[1;32m    471\u001b[0m \u001b[0;34m\u001b[0m\u001b[0m\n\u001b[1;32m    472\u001b[0m         \u001b[0;31m# NOTE: this is for fit_regularized and should be generalized\u001b[0m\u001b[0;34m\u001b[0m\u001b[0;34m\u001b[0m\u001b[0;34m\u001b[0m\u001b[0m\n",
            "\u001b[0;32m/usr/local/lib/python3.7/dist-packages/statsmodels/base/optimizer.py\u001b[0m in \u001b[0;36m_fit\u001b[0;34m(self, objective, gradient, start_params, fargs, kwargs, hessian, method, maxiter, full_output, disp, callback, retall)\u001b[0m\n\u001b[1;32m    217\u001b[0m                             \u001b[0mdisp\u001b[0m\u001b[0;34m=\u001b[0m\u001b[0mdisp\u001b[0m\u001b[0;34m,\u001b[0m \u001b[0mmaxiter\u001b[0m\u001b[0;34m=\u001b[0m\u001b[0mmaxiter\u001b[0m\u001b[0;34m,\u001b[0m \u001b[0mcallback\u001b[0m\u001b[0;34m=\u001b[0m\u001b[0mcallback\u001b[0m\u001b[0;34m,\u001b[0m\u001b[0;34m\u001b[0m\u001b[0;34m\u001b[0m\u001b[0m\n\u001b[1;32m    218\u001b[0m                             \u001b[0mretall\u001b[0m\u001b[0;34m=\u001b[0m\u001b[0mretall\u001b[0m\u001b[0;34m,\u001b[0m \u001b[0mfull_output\u001b[0m\u001b[0;34m=\u001b[0m\u001b[0mfull_output\u001b[0m\u001b[0;34m,\u001b[0m\u001b[0;34m\u001b[0m\u001b[0;34m\u001b[0m\u001b[0m\n\u001b[0;32m--> 219\u001b[0;31m                             hess=hessian)\n\u001b[0m\u001b[1;32m    220\u001b[0m \u001b[0;34m\u001b[0m\u001b[0m\n\u001b[1;32m    221\u001b[0m         optim_settings = {'optimizer': method, 'start_params': start_params,\n",
            "\u001b[0;32m/usr/local/lib/python3.7/dist-packages/statsmodels/base/optimizer.py\u001b[0m in \u001b[0;36m_fit_lbfgs\u001b[0;34m(f, score, start_params, fargs, kwargs, disp, maxiter, callback, retall, full_output, hess)\u001b[0m\n\u001b[1;32m    437\u001b[0m                                      \u001b[0mcallback\u001b[0m\u001b[0;34m=\u001b[0m\u001b[0mcallback\u001b[0m\u001b[0;34m,\u001b[0m \u001b[0margs\u001b[0m\u001b[0;34m=\u001b[0m\u001b[0mfargs\u001b[0m\u001b[0;34m,\u001b[0m\u001b[0;34m\u001b[0m\u001b[0;34m\u001b[0m\u001b[0m\n\u001b[1;32m    438\u001b[0m                                      \u001b[0mbounds\u001b[0m\u001b[0;34m=\u001b[0m\u001b[0mbounds\u001b[0m\u001b[0;34m,\u001b[0m \u001b[0mdisp\u001b[0m\u001b[0;34m=\u001b[0m\u001b[0mdisp\u001b[0m\u001b[0;34m,\u001b[0m\u001b[0;34m\u001b[0m\u001b[0;34m\u001b[0m\u001b[0m\n\u001b[0;32m--> 439\u001b[0;31m                                      **extra_kwargs)\n\u001b[0m\u001b[1;32m    440\u001b[0m \u001b[0;34m\u001b[0m\u001b[0m\n\u001b[1;32m    441\u001b[0m     \u001b[0;32mif\u001b[0m \u001b[0mfull_output\u001b[0m\u001b[0;34m:\u001b[0m\u001b[0;34m\u001b[0m\u001b[0;34m\u001b[0m\u001b[0m\n",
            "\u001b[0;32m/usr/local/lib/python3.7/dist-packages/scipy/optimize/lbfgsb.py\u001b[0m in \u001b[0;36mfmin_l_bfgs_b\u001b[0;34m(func, x0, fprime, args, approx_grad, bounds, m, factr, pgtol, epsilon, iprint, maxfun, maxiter, disp, callback, maxls)\u001b[0m\n\u001b[1;32m    197\u001b[0m \u001b[0;34m\u001b[0m\u001b[0m\n\u001b[1;32m    198\u001b[0m     res = _minimize_lbfgsb(fun, x0, args=args, jac=jac, bounds=bounds,\n\u001b[0;32m--> 199\u001b[0;31m                            **opts)\n\u001b[0m\u001b[1;32m    200\u001b[0m     d = {'grad': res['jac'],\n\u001b[1;32m    201\u001b[0m          \u001b[0;34m'task'\u001b[0m\u001b[0;34m:\u001b[0m \u001b[0mres\u001b[0m\u001b[0;34m[\u001b[0m\u001b[0;34m'message'\u001b[0m\u001b[0;34m]\u001b[0m\u001b[0;34m,\u001b[0m\u001b[0;34m\u001b[0m\u001b[0;34m\u001b[0m\u001b[0m\n",
            "\u001b[0;32m/usr/local/lib/python3.7/dist-packages/scipy/optimize/lbfgsb.py\u001b[0m in \u001b[0;36m_minimize_lbfgsb\u001b[0;34m(fun, x0, args, jac, bounds, disp, maxcor, ftol, gtol, eps, maxfun, maxiter, iprint, callback, maxls, **unknown_options)\u001b[0m\n\u001b[1;32m    343\u001b[0m             \u001b[0;31m# until the completion of the current minimization iteration.\u001b[0m\u001b[0;34m\u001b[0m\u001b[0;34m\u001b[0m\u001b[0;34m\u001b[0m\u001b[0m\n\u001b[1;32m    344\u001b[0m             \u001b[0;31m# Overwrite f and g:\u001b[0m\u001b[0;34m\u001b[0m\u001b[0;34m\u001b[0m\u001b[0;34m\u001b[0m\u001b[0m\n\u001b[0;32m--> 345\u001b[0;31m             \u001b[0mf\u001b[0m\u001b[0;34m,\u001b[0m \u001b[0mg\u001b[0m \u001b[0;34m=\u001b[0m \u001b[0mfunc_and_grad\u001b[0m\u001b[0;34m(\u001b[0m\u001b[0mx\u001b[0m\u001b[0;34m)\u001b[0m\u001b[0;34m\u001b[0m\u001b[0;34m\u001b[0m\u001b[0m\n\u001b[0m\u001b[1;32m    346\u001b[0m         \u001b[0;32melif\u001b[0m \u001b[0mtask_str\u001b[0m\u001b[0;34m.\u001b[0m\u001b[0mstartswith\u001b[0m\u001b[0;34m(\u001b[0m\u001b[0;34mb'NEW_X'\u001b[0m\u001b[0;34m)\u001b[0m\u001b[0;34m:\u001b[0m\u001b[0;34m\u001b[0m\u001b[0;34m\u001b[0m\u001b[0m\n\u001b[1;32m    347\u001b[0m             \u001b[0;31m# new iteration\u001b[0m\u001b[0;34m\u001b[0m\u001b[0;34m\u001b[0m\u001b[0;34m\u001b[0m\u001b[0m\n",
            "\u001b[0;32m/usr/local/lib/python3.7/dist-packages/scipy/optimize/lbfgsb.py\u001b[0m in \u001b[0;36mfunc_and_grad\u001b[0;34m(x)\u001b[0m\n\u001b[1;32m    289\u001b[0m         \u001b[0;32mdef\u001b[0m \u001b[0mfunc_and_grad\u001b[0m\u001b[0;34m(\u001b[0m\u001b[0mx\u001b[0m\u001b[0;34m)\u001b[0m\u001b[0;34m:\u001b[0m\u001b[0;34m\u001b[0m\u001b[0;34m\u001b[0m\u001b[0m\n\u001b[1;32m    290\u001b[0m             \u001b[0mf\u001b[0m \u001b[0;34m=\u001b[0m \u001b[0mfun\u001b[0m\u001b[0;34m(\u001b[0m\u001b[0mx\u001b[0m\u001b[0;34m,\u001b[0m \u001b[0;34m*\u001b[0m\u001b[0margs\u001b[0m\u001b[0;34m)\u001b[0m\u001b[0;34m\u001b[0m\u001b[0;34m\u001b[0m\u001b[0m\n\u001b[0;32m--> 291\u001b[0;31m             \u001b[0mg\u001b[0m \u001b[0;34m=\u001b[0m \u001b[0m_approx_fprime_helper\u001b[0m\u001b[0;34m(\u001b[0m\u001b[0mx\u001b[0m\u001b[0;34m,\u001b[0m \u001b[0mfun\u001b[0m\u001b[0;34m,\u001b[0m \u001b[0mepsilon\u001b[0m\u001b[0;34m,\u001b[0m \u001b[0margs\u001b[0m\u001b[0;34m=\u001b[0m\u001b[0margs\u001b[0m\u001b[0;34m,\u001b[0m \u001b[0mf0\u001b[0m\u001b[0;34m=\u001b[0m\u001b[0mf\u001b[0m\u001b[0;34m)\u001b[0m\u001b[0;34m\u001b[0m\u001b[0;34m\u001b[0m\u001b[0m\n\u001b[0m\u001b[1;32m    292\u001b[0m             \u001b[0;32mreturn\u001b[0m \u001b[0mf\u001b[0m\u001b[0;34m,\u001b[0m \u001b[0mg\u001b[0m\u001b[0;34m\u001b[0m\u001b[0;34m\u001b[0m\u001b[0m\n\u001b[1;32m    293\u001b[0m     \u001b[0;32melse\u001b[0m\u001b[0;34m:\u001b[0m\u001b[0;34m\u001b[0m\u001b[0;34m\u001b[0m\u001b[0m\n",
            "\u001b[0;32m/usr/local/lib/python3.7/dist-packages/scipy/optimize/optimize.py\u001b[0m in \u001b[0;36m_approx_fprime_helper\u001b[0;34m(xk, f, epsilon, args, f0)\u001b[0m\n\u001b[1;32m    695\u001b[0m         \u001b[0mei\u001b[0m\u001b[0;34m[\u001b[0m\u001b[0mk\u001b[0m\u001b[0;34m]\u001b[0m \u001b[0;34m=\u001b[0m \u001b[0;36m1.0\u001b[0m\u001b[0;34m\u001b[0m\u001b[0;34m\u001b[0m\u001b[0m\n\u001b[1;32m    696\u001b[0m         \u001b[0md\u001b[0m \u001b[0;34m=\u001b[0m \u001b[0mepsilon\u001b[0m \u001b[0;34m*\u001b[0m \u001b[0mei\u001b[0m\u001b[0;34m\u001b[0m\u001b[0;34m\u001b[0m\u001b[0m\n\u001b[0;32m--> 697\u001b[0;31m         \u001b[0mdf\u001b[0m \u001b[0;34m=\u001b[0m \u001b[0;34m(\u001b[0m\u001b[0mf\u001b[0m\u001b[0;34m(\u001b[0m\u001b[0;34m*\u001b[0m\u001b[0;34m(\u001b[0m\u001b[0;34m(\u001b[0m\u001b[0mxk\u001b[0m \u001b[0;34m+\u001b[0m \u001b[0md\u001b[0m\u001b[0;34m,\u001b[0m\u001b[0;34m)\u001b[0m \u001b[0;34m+\u001b[0m \u001b[0margs\u001b[0m\u001b[0;34m)\u001b[0m\u001b[0;34m)\u001b[0m \u001b[0;34m-\u001b[0m \u001b[0mf0\u001b[0m\u001b[0;34m)\u001b[0m \u001b[0;34m/\u001b[0m \u001b[0md\u001b[0m\u001b[0;34m[\u001b[0m\u001b[0mk\u001b[0m\u001b[0;34m]\u001b[0m\u001b[0;34m\u001b[0m\u001b[0;34m\u001b[0m\u001b[0m\n\u001b[0m\u001b[1;32m    698\u001b[0m         \u001b[0;32mif\u001b[0m \u001b[0;32mnot\u001b[0m \u001b[0mnp\u001b[0m\u001b[0;34m.\u001b[0m\u001b[0misscalar\u001b[0m\u001b[0;34m(\u001b[0m\u001b[0mdf\u001b[0m\u001b[0;34m)\u001b[0m\u001b[0;34m:\u001b[0m\u001b[0;34m\u001b[0m\u001b[0;34m\u001b[0m\u001b[0m\n\u001b[1;32m    699\u001b[0m             \u001b[0;32mtry\u001b[0m\u001b[0;34m:\u001b[0m\u001b[0;34m\u001b[0m\u001b[0;34m\u001b[0m\u001b[0m\n",
            "\u001b[0;32m/usr/local/lib/python3.7/dist-packages/scipy/optimize/optimize.py\u001b[0m in \u001b[0;36mfunction_wrapper\u001b[0;34m(*wrapper_args)\u001b[0m\n\u001b[1;32m    325\u001b[0m     \u001b[0;32mdef\u001b[0m \u001b[0mfunction_wrapper\u001b[0m\u001b[0;34m(\u001b[0m\u001b[0;34m*\u001b[0m\u001b[0mwrapper_args\u001b[0m\u001b[0;34m)\u001b[0m\u001b[0;34m:\u001b[0m\u001b[0;34m\u001b[0m\u001b[0;34m\u001b[0m\u001b[0m\n\u001b[1;32m    326\u001b[0m         \u001b[0mncalls\u001b[0m\u001b[0;34m[\u001b[0m\u001b[0;36m0\u001b[0m\u001b[0;34m]\u001b[0m \u001b[0;34m+=\u001b[0m \u001b[0;36m1\u001b[0m\u001b[0;34m\u001b[0m\u001b[0;34m\u001b[0m\u001b[0m\n\u001b[0;32m--> 327\u001b[0;31m         \u001b[0;32mreturn\u001b[0m \u001b[0mfunction\u001b[0m\u001b[0;34m(\u001b[0m\u001b[0;34m*\u001b[0m\u001b[0;34m(\u001b[0m\u001b[0mwrapper_args\u001b[0m \u001b[0;34m+\u001b[0m \u001b[0margs\u001b[0m\u001b[0;34m)\u001b[0m\u001b[0;34m)\u001b[0m\u001b[0;34m\u001b[0m\u001b[0;34m\u001b[0m\u001b[0m\n\u001b[0m\u001b[1;32m    328\u001b[0m \u001b[0;34m\u001b[0m\u001b[0m\n\u001b[1;32m    329\u001b[0m     \u001b[0;32mreturn\u001b[0m \u001b[0mncalls\u001b[0m\u001b[0;34m,\u001b[0m \u001b[0mfunction_wrapper\u001b[0m\u001b[0;34m\u001b[0m\u001b[0;34m\u001b[0m\u001b[0m\n",
            "\u001b[0;32m/usr/local/lib/python3.7/dist-packages/statsmodels/base/model.py\u001b[0m in \u001b[0;36mf\u001b[0;34m(params, *args)\u001b[0m\n\u001b[1;32m    442\u001b[0m \u001b[0;34m\u001b[0m\u001b[0m\n\u001b[1;32m    443\u001b[0m         \u001b[0;32mdef\u001b[0m \u001b[0mf\u001b[0m\u001b[0;34m(\u001b[0m\u001b[0mparams\u001b[0m\u001b[0;34m,\u001b[0m \u001b[0;34m*\u001b[0m\u001b[0margs\u001b[0m\u001b[0;34m)\u001b[0m\u001b[0;34m:\u001b[0m\u001b[0;34m\u001b[0m\u001b[0;34m\u001b[0m\u001b[0m\n\u001b[0;32m--> 444\u001b[0;31m             \u001b[0;32mreturn\u001b[0m \u001b[0;34m-\u001b[0m\u001b[0mself\u001b[0m\u001b[0;34m.\u001b[0m\u001b[0mloglike\u001b[0m\u001b[0;34m(\u001b[0m\u001b[0mparams\u001b[0m\u001b[0;34m,\u001b[0m \u001b[0;34m*\u001b[0m\u001b[0margs\u001b[0m\u001b[0;34m)\u001b[0m \u001b[0;34m/\u001b[0m \u001b[0mnobs\u001b[0m\u001b[0;34m\u001b[0m\u001b[0;34m\u001b[0m\u001b[0m\n\u001b[0m\u001b[1;32m    445\u001b[0m \u001b[0;34m\u001b[0m\u001b[0m\n\u001b[1;32m    446\u001b[0m         \u001b[0;32mif\u001b[0m \u001b[0mmethod\u001b[0m \u001b[0;34m==\u001b[0m \u001b[0;34m'newton'\u001b[0m\u001b[0;34m:\u001b[0m\u001b[0;34m\u001b[0m\u001b[0;34m\u001b[0m\u001b[0m\n",
            "\u001b[0;32m/usr/local/lib/python3.7/dist-packages/statsmodels/tsa/statespace/mlemodel.py\u001b[0m in \u001b[0;36mloglike\u001b[0;34m(self, params, *args, **kwargs)\u001b[0m\n\u001b[1;32m    658\u001b[0m             \u001b[0mkwargs\u001b[0m\u001b[0;34m[\u001b[0m\u001b[0;34m'inversion_method'\u001b[0m\u001b[0;34m]\u001b[0m \u001b[0;34m=\u001b[0m \u001b[0mINVERT_UNIVARIATE\u001b[0m \u001b[0;34m|\u001b[0m \u001b[0mSOLVE_LU\u001b[0m\u001b[0;34m\u001b[0m\u001b[0;34m\u001b[0m\u001b[0m\n\u001b[1;32m    659\u001b[0m \u001b[0;34m\u001b[0m\u001b[0m\n\u001b[0;32m--> 660\u001b[0;31m         \u001b[0mloglike\u001b[0m \u001b[0;34m=\u001b[0m \u001b[0mself\u001b[0m\u001b[0;34m.\u001b[0m\u001b[0mssm\u001b[0m\u001b[0;34m.\u001b[0m\u001b[0mloglike\u001b[0m\u001b[0;34m(\u001b[0m\u001b[0mcomplex_step\u001b[0m\u001b[0;34m=\u001b[0m\u001b[0mcomplex_step\u001b[0m\u001b[0;34m,\u001b[0m \u001b[0;34m**\u001b[0m\u001b[0mkwargs\u001b[0m\u001b[0;34m)\u001b[0m\u001b[0;34m\u001b[0m\u001b[0;34m\u001b[0m\u001b[0m\n\u001b[0m\u001b[1;32m    661\u001b[0m \u001b[0;34m\u001b[0m\u001b[0m\n\u001b[1;32m    662\u001b[0m         \u001b[0;31m# Koopman, Shephard, and Doornik recommend maximizing the average\u001b[0m\u001b[0;34m\u001b[0m\u001b[0;34m\u001b[0m\u001b[0;34m\u001b[0m\u001b[0m\n",
            "\u001b[0;32m/usr/local/lib/python3.7/dist-packages/statsmodels/tsa/statespace/kalman_filter.py\u001b[0m in \u001b[0;36mloglike\u001b[0;34m(self, **kwargs)\u001b[0m\n\u001b[1;32m    873\u001b[0m                                ' MEMORY_NO_LIKELIHOOD option is selected.')\n\u001b[1;32m    874\u001b[0m         \u001b[0mkwargs\u001b[0m\u001b[0;34m[\u001b[0m\u001b[0;34m'conserve_memory'\u001b[0m\u001b[0;34m]\u001b[0m \u001b[0;34m=\u001b[0m \u001b[0mMEMORY_CONSERVE\u001b[0m \u001b[0;34m^\u001b[0m \u001b[0mMEMORY_NO_LIKELIHOOD\u001b[0m\u001b[0;34m\u001b[0m\u001b[0;34m\u001b[0m\u001b[0m\n\u001b[0;32m--> 875\u001b[0;31m         \u001b[0mkfilter\u001b[0m \u001b[0;34m=\u001b[0m \u001b[0mself\u001b[0m\u001b[0;34m.\u001b[0m\u001b[0m_filter\u001b[0m\u001b[0;34m(\u001b[0m\u001b[0;34m**\u001b[0m\u001b[0mkwargs\u001b[0m\u001b[0;34m)\u001b[0m\u001b[0;34m\u001b[0m\u001b[0;34m\u001b[0m\u001b[0m\n\u001b[0m\u001b[1;32m    876\u001b[0m         loglikelihood_burn = kwargs.get('loglikelihood_burn',\n\u001b[1;32m    877\u001b[0m                                         self.loglikelihood_burn)\n",
            "\u001b[0;32m/usr/local/lib/python3.7/dist-packages/statsmodels/tsa/statespace/kalman_filter.py\u001b[0m in \u001b[0;36m_filter\u001b[0;34m(self, filter_method, inversion_method, stability_method, conserve_memory, filter_timing, tolerance, loglikelihood_burn, complex_step)\u001b[0m\n\u001b[1;32m    797\u001b[0m \u001b[0;34m\u001b[0m\u001b[0m\n\u001b[1;32m    798\u001b[0m         \u001b[0;31m# Initialize the state\u001b[0m\u001b[0;34m\u001b[0m\u001b[0;34m\u001b[0m\u001b[0;34m\u001b[0m\u001b[0m\n\u001b[0;32m--> 799\u001b[0;31m         \u001b[0mself\u001b[0m\u001b[0;34m.\u001b[0m\u001b[0m_initialize_state\u001b[0m\u001b[0;34m(\u001b[0m\u001b[0mprefix\u001b[0m\u001b[0;34m=\u001b[0m\u001b[0mprefix\u001b[0m\u001b[0;34m,\u001b[0m \u001b[0mcomplex_step\u001b[0m\u001b[0;34m=\u001b[0m\u001b[0mcomplex_step\u001b[0m\u001b[0;34m)\u001b[0m\u001b[0;34m\u001b[0m\u001b[0;34m\u001b[0m\u001b[0m\n\u001b[0m\u001b[1;32m    800\u001b[0m \u001b[0;34m\u001b[0m\u001b[0m\n\u001b[1;32m    801\u001b[0m         \u001b[0;31m# Run the filter\u001b[0m\u001b[0;34m\u001b[0m\u001b[0;34m\u001b[0m\u001b[0;34m\u001b[0m\u001b[0m\n",
            "\u001b[0;32m/usr/local/lib/python3.7/dist-packages/statsmodels/tsa/statespace/representation.py\u001b[0m in \u001b[0;36m_initialize_state\u001b[0;34m(self, prefix, complex_step)\u001b[0m\n\u001b[1;32m    759\u001b[0m                 \u001b[0;32mraise\u001b[0m \u001b[0mRuntimeError\u001b[0m\u001b[0;34m(\u001b[0m\u001b[0;34m'Initialization is incomplete.'\u001b[0m\u001b[0;34m)\u001b[0m\u001b[0;34m\u001b[0m\u001b[0;34m\u001b[0m\u001b[0m\n\u001b[1;32m    760\u001b[0m             self._statespaces[prefix].initialize(self.initialization,\n\u001b[0;32m--> 761\u001b[0;31m                                                  complex_step=complex_step)\n\u001b[0m\u001b[1;32m    762\u001b[0m         \u001b[0;32melse\u001b[0m\u001b[0;34m:\u001b[0m\u001b[0;34m\u001b[0m\u001b[0;34m\u001b[0m\u001b[0m\n\u001b[1;32m    763\u001b[0m             \u001b[0;32mraise\u001b[0m \u001b[0mRuntimeError\u001b[0m\u001b[0;34m(\u001b[0m\u001b[0;34m'Statespace model not initialized.'\u001b[0m\u001b[0;34m)\u001b[0m\u001b[0;34m\u001b[0m\u001b[0;34m\u001b[0m\u001b[0m\n",
            "\u001b[0;31mKeyboardInterrupt\u001b[0m: "
          ]
        }
      ]
    },
    {
      "cell_type": "code",
      "metadata": {
        "colab": {
          "base_uri": "https://localhost:8080/"
        },
        "id": "jbEoFdpRn9Rr",
        "outputId": "63a4d649-a0cd-4d35-8935-5b126195408c"
      },
      "source": [
        "test_results.min()"
      ],
      "execution_count": 25,
      "outputs": [
        {
          "output_type": "execute_result",
          "data": {
            "text/plain": [
              "MPE    2.348202\n",
              "dtype: float64"
            ]
          },
          "metadata": {
            "tags": []
          },
          "execution_count": 25
        }
      ]
    },
    {
      "cell_type": "code",
      "metadata": {
        "colab": {
          "base_uri": "https://localhost:8080/",
          "height": 419
        },
        "id": "0c347DY9MUTz",
        "outputId": "1ac21107-dc94-4c77-d807-a62394da78c5"
      },
      "source": [
        "test_results.sort_values(by = 'MPE')"
      ],
      "execution_count": 26,
      "outputs": [
        {
          "output_type": "execute_result",
          "data": {
            "text/html": [
              "<div>\n",
              "<style scoped>\n",
              "    .dataframe tbody tr th:only-of-type {\n",
              "        vertical-align: middle;\n",
              "    }\n",
              "\n",
              "    .dataframe tbody tr th {\n",
              "        vertical-align: top;\n",
              "    }\n",
              "\n",
              "    .dataframe thead th {\n",
              "        text-align: right;\n",
              "    }\n",
              "</style>\n",
              "<table border=\"1\" class=\"dataframe\">\n",
              "  <thead>\n",
              "    <tr style=\"text-align: right;\">\n",
              "      <th></th>\n",
              "      <th>MPE</th>\n",
              "    </tr>\n",
              "  </thead>\n",
              "  <tbody>\n",
              "    <tr>\n",
              "      <th>order = (0,1,1), seasonal_order = (1,1,2,7)</th>\n",
              "      <td>2.3482</td>\n",
              "    </tr>\n",
              "    <tr>\n",
              "      <th>order = (0,1,1), seasonal_order = (3,1,2,7)</th>\n",
              "      <td>2.37527</td>\n",
              "    </tr>\n",
              "    <tr>\n",
              "      <th>order = (0,1,1), seasonal_order = (3,1,1,7)</th>\n",
              "      <td>2.3753</td>\n",
              "    </tr>\n",
              "    <tr>\n",
              "      <th>order = (0,1,1), seasonal_order = (0,1,1,7)</th>\n",
              "      <td>2.38443</td>\n",
              "    </tr>\n",
              "    <tr>\n",
              "      <th>order = (0,1,1), seasonal_order = (3,1,3,7)</th>\n",
              "      <td>2.45119</td>\n",
              "    </tr>\n",
              "    <tr>\n",
              "      <th>...</th>\n",
              "      <td>...</td>\n",
              "    </tr>\n",
              "    <tr>\n",
              "      <th>order = (0,2,0), seasonal_order = (3,2,0,7)</th>\n",
              "      <td>386394</td>\n",
              "    </tr>\n",
              "    <tr>\n",
              "      <th>order = (0,2,0), seasonal_order = (0,2,1,7)</th>\n",
              "      <td>451256</td>\n",
              "    </tr>\n",
              "    <tr>\n",
              "      <th>order = (0,2,0), seasonal_order = (2,2,0,7)</th>\n",
              "      <td>551596</td>\n",
              "    </tr>\n",
              "    <tr>\n",
              "      <th>order = (0,2,0), seasonal_order = (1,2,0,7)</th>\n",
              "      <td>1.26576e+06</td>\n",
              "    </tr>\n",
              "    <tr>\n",
              "      <th>order = (0,2,0), seasonal_order = (0,2,0,7)</th>\n",
              "      <td>4.39119e+06</td>\n",
              "    </tr>\n",
              "  </tbody>\n",
              "</table>\n",
              "<p>223 rows × 1 columns</p>\n",
              "</div>"
            ],
            "text/plain": [
              "                                                     MPE\n",
              "order = (0,1,1), seasonal_order = (1,1,2,7)       2.3482\n",
              "order = (0,1,1), seasonal_order = (3,1,2,7)      2.37527\n",
              "order = (0,1,1), seasonal_order = (3,1,1,7)       2.3753\n",
              "order = (0,1,1), seasonal_order = (0,1,1,7)      2.38443\n",
              "order = (0,1,1), seasonal_order = (3,1,3,7)      2.45119\n",
              "...                                                  ...\n",
              "order = (0,2,0), seasonal_order = (3,2,0,7)       386394\n",
              "order = (0,2,0), seasonal_order = (0,2,1,7)       451256\n",
              "order = (0,2,0), seasonal_order = (2,2,0,7)       551596\n",
              "order = (0,2,0), seasonal_order = (1,2,0,7)  1.26576e+06\n",
              "order = (0,2,0), seasonal_order = (0,2,0,7)  4.39119e+06\n",
              "\n",
              "[223 rows x 1 columns]"
            ]
          },
          "metadata": {
            "tags": []
          },
          "execution_count": 26
        }
      ]
    },
    {
      "cell_type": "code",
      "metadata": {
        "colab": {
          "base_uri": "https://localhost:8080/",
          "height": 651
        },
        "id": "Cair1W2QOw6C",
        "outputId": "68549993-e066-4452-f67f-0173d9ec3854"
      },
      "source": [
        "cbrt_train =  np.cbrt(train)\n",
        "\n",
        "model2 = SARIMAX(cbrt_train, order = (0,1,1), seasonal_order = (1,1,2,7),\n",
        "                                       freq = 'D')\n",
        "fit_model2 = model2.fit(maxiter = 200, disp = False)\n",
        "yhat = fit_model2.forecast(len(test)+30)**3\n",
        "mpe = mean_percent_error(test,yhat)\n",
        "print(f'mpe = {mpe}')\n",
        "\n",
        "fig = go.Figure(layout_title_text = f'January Prediction from 2020 Data: Accuracy= {round((1-mpe)*100,2)}%',)\n",
        "plt.plot(yhat, label='Prediction')\n",
        "plt.plot(true, label='True')\n",
        "plt.legend()\n",
        "plt.title(f'True vs Predicted COVID-19 {prediction} in {region} from {yhat.index.date.min()} through {yhat.index.date.max()}') \n",
        "plt.savefig('SARIMA_prediction2021_01_05.png')\n",
        "pickle.dump(fit_model2, open('SARIMAX_prediction_model.pickle', 'wb'))"
      ],
      "execution_count": 27,
      "outputs": [
        {
          "output_type": "stream",
          "text": [
            "/usr/local/lib/python3.7/dist-packages/statsmodels/tsa/statespace/sarimax.py:993: UserWarning:\n",
            "\n",
            "Non-invertible starting seasonal moving average Using zeros as starting parameters.\n",
            "\n"
          ],
          "name": "stderr"
        },
        {
          "output_type": "stream",
          "text": [
            "mpe = 2.348202453583898\n"
          ],
          "name": "stdout"
        },
        {
          "output_type": "display_data",
          "data": {
            "image/png": "[encoded data removed]",
            "text/plain": [
              "<Figure size 1080x720 with 1 Axes>"
            ]
          },
          "metadata": {
            "tags": []
          }
        }
      ]
    },
    {
      "cell_type": "code",
      "metadata": {
        "colab": {
          "base_uri": "https://localhost:8080/"
        },
        "id": "ZFjkgent16WJ",
        "outputId": "e4655e35-f46e-423b-ec50-879fa03eeefa"
      },
      "source": [
        "yhat"
      ],
      "execution_count": 28,
      "outputs": [
        {
          "output_type": "execute_result",
          "data": {
            "text/plain": [
              "2020-12-01    26.143124\n",
              "2020-12-02    11.939787\n",
              "2020-12-03    12.049236\n",
              "2020-12-04    10.220302\n",
              "2020-12-05     0.237851\n",
              "                ...    \n",
              "2021-01-23     0.824221\n",
              "2021-01-24     2.246187\n",
              "2021-01-25    64.193552\n",
              "2021-01-26    37.972076\n",
              "2021-01-27    21.895653\n",
              "Freq: D, Length: 58, dtype: float64"
            ]
          },
          "metadata": {
            "tags": []
          },
          "execution_count": 28
        }
      ]
    },
    {
      "cell_type": "code",
      "metadata": {
        "colab": {
          "base_uri": "https://localhost:8080/",
          "height": 359
        },
        "id": "Zs3uhuMC186d",
        "outputId": "16cd2a51-dafd-49c3-ddf9-50191378b093"
      },
      "source": [
        "test_df[['New Cases/100k population']].tail(10)"
      ],
      "execution_count": 29,
      "outputs": [
        {
          "output_type": "execute_result",
          "data": {
            "text/html": [
              "<div>\n",
              "<style scoped>\n",
              "    .dataframe tbody tr th:only-of-type {\n",
              "        vertical-align: middle;\n",
              "    }\n",
              "\n",
              "    .dataframe tbody tr th {\n",
              "        vertical-align: top;\n",
              "    }\n",
              "\n",
              "    .dataframe thead th {\n",
              "        text-align: right;\n",
              "    }\n",
              "</style>\n",
              "<table border=\"1\" class=\"dataframe\">\n",
              "  <thead>\n",
              "    <tr style=\"text-align: right;\">\n",
              "      <th></th>\n",
              "      <th>New Cases/100k population</th>\n",
              "    </tr>\n",
              "  </thead>\n",
              "  <tbody>\n",
              "    <tr>\n",
              "      <th>2020-12-19</th>\n",
              "      <td>0.000000</td>\n",
              "    </tr>\n",
              "    <tr>\n",
              "      <th>2020-12-20</th>\n",
              "      <td>43.886165</td>\n",
              "    </tr>\n",
              "    <tr>\n",
              "      <th>2020-12-21</th>\n",
              "      <td>228.387183</td>\n",
              "    </tr>\n",
              "    <tr>\n",
              "      <th>2020-12-22</th>\n",
              "      <td>77.024697</td>\n",
              "    </tr>\n",
              "    <tr>\n",
              "      <th>2020-12-23</th>\n",
              "      <td>61.798885</td>\n",
              "    </tr>\n",
              "    <tr>\n",
              "      <th>2020-12-24</th>\n",
              "      <td>108.819776</td>\n",
              "    </tr>\n",
              "    <tr>\n",
              "      <th>2020-12-25</th>\n",
              "      <td>0.000000</td>\n",
              "    </tr>\n",
              "    <tr>\n",
              "      <th>2020-12-26</th>\n",
              "      <td>0.000000</td>\n",
              "    </tr>\n",
              "    <tr>\n",
              "      <th>2020-12-27</th>\n",
              "      <td>44.333983</td>\n",
              "    </tr>\n",
              "    <tr>\n",
              "      <th>2020-12-28</th>\n",
              "      <td>221.669913</td>\n",
              "    </tr>\n",
              "  </tbody>\n",
              "</table>\n",
              "</div>"
            ],
            "text/plain": [
              "            New Cases/100k population\n",
              "2020-12-19                   0.000000\n",
              "2020-12-20                  43.886165\n",
              "2020-12-21                 228.387183\n",
              "2020-12-22                  77.024697\n",
              "2020-12-23                  61.798885\n",
              "2020-12-24                 108.819776\n",
              "2020-12-25                   0.000000\n",
              "2020-12-26                   0.000000\n",
              "2020-12-27                  44.333983\n",
              "2020-12-28                 221.669913"
            ]
          },
          "metadata": {
            "tags": []
          },
          "execution_count": 29
        }
      ]
    },
    {
      "cell_type": "code",
      "metadata": {
        "colab": {
          "base_uri": "https://localhost:8080/"
        },
        "id": "gt8Vfl19-K1f",
        "outputId": "1d6d29c9-b437-49a9-f9c9-364720d4fd8c"
      },
      "source": [
        "yhat.keys()\n",
        "yhat"
      ],
      "execution_count": 30,
      "outputs": [
        {
          "output_type": "execute_result",
          "data": {
            "text/plain": [
              "2020-12-01    26.143124\n",
              "2020-12-02    11.939787\n",
              "2020-12-03    12.049236\n",
              "2020-12-04    10.220302\n",
              "2020-12-05     0.237851\n",
              "                ...    \n",
              "2021-01-23     0.824221\n",
              "2021-01-24     2.246187\n",
              "2021-01-25    64.193552\n",
              "2021-01-26    37.972076\n",
              "2021-01-27    21.895653\n",
              "Freq: D, Length: 58, dtype: float64"
            ]
          },
          "metadata": {
            "tags": []
          },
          "execution_count": 30
        }
      ]
    },
    {
      "cell_type": "markdown",
      "metadata": {
        "id": "WWNkk_U-_eWZ"
      },
      "source": [
        "## Create dataframe from `yhat` value"
      ]
    },
    {
      "cell_type": "code",
      "metadata": {
        "id": "PAsJVWR19-JL"
      },
      "source": [
        "lst = []\n",
        "\n",
        "for y in yhat.keys():\n",
        "  #print(y)\n",
        "  row = {}\n",
        "  row['Date'] = y\n",
        "  row['Province_State'] = state_name\n",
        "  row['County Name'] = county_name\n",
        "  row['New Cases/100k population'] = yhat[y]\n",
        "  lst.append(row)\n",
        "\n",
        "df_estimates = pd.DataFrame(lst) "
      ],
      "execution_count": 31,
      "outputs": []
    },
    {
      "cell_type": "code",
      "metadata": {
        "colab": {
          "base_uri": "https://localhost:8080/",
          "height": 204
        },
        "id": "9At3ei-__WEt",
        "outputId": "197c2d16-e2d4-460d-e037-9302e6e03662"
      },
      "source": [
        "df_estimates.head()"
      ],
      "execution_count": 32,
      "outputs": [
        {
          "output_type": "execute_result",
          "data": {
            "text/html": [
              "<div>\n",
              "<style scoped>\n",
              "    .dataframe tbody tr th:only-of-type {\n",
              "        vertical-align: middle;\n",
              "    }\n",
              "\n",
              "    .dataframe tbody tr th {\n",
              "        vertical-align: top;\n",
              "    }\n",
              "\n",
              "    .dataframe thead th {\n",
              "        text-align: right;\n",
              "    }\n",
              "</style>\n",
              "<table border=\"1\" class=\"dataframe\">\n",
              "  <thead>\n",
              "    <tr style=\"text-align: right;\">\n",
              "      <th></th>\n",
              "      <th>Date</th>\n",
              "      <th>Province_State</th>\n",
              "      <th>County Name</th>\n",
              "      <th>New Cases/100k population</th>\n",
              "    </tr>\n",
              "  </thead>\n",
              "  <tbody>\n",
              "    <tr>\n",
              "      <th>0</th>\n",
              "      <td>2020-12-01</td>\n",
              "      <td>California</td>\n",
              "      <td>Solano County</td>\n",
              "      <td>26.143124</td>\n",
              "    </tr>\n",
              "    <tr>\n",
              "      <th>1</th>\n",
              "      <td>2020-12-02</td>\n",
              "      <td>California</td>\n",
              "      <td>Solano County</td>\n",
              "      <td>11.939787</td>\n",
              "    </tr>\n",
              "    <tr>\n",
              "      <th>2</th>\n",
              "      <td>2020-12-03</td>\n",
              "      <td>California</td>\n",
              "      <td>Solano County</td>\n",
              "      <td>12.049236</td>\n",
              "    </tr>\n",
              "    <tr>\n",
              "      <th>3</th>\n",
              "      <td>2020-12-04</td>\n",
              "      <td>California</td>\n",
              "      <td>Solano County</td>\n",
              "      <td>10.220302</td>\n",
              "    </tr>\n",
              "    <tr>\n",
              "      <th>4</th>\n",
              "      <td>2020-12-05</td>\n",
              "      <td>California</td>\n",
              "      <td>Solano County</td>\n",
              "      <td>0.237851</td>\n",
              "    </tr>\n",
              "  </tbody>\n",
              "</table>\n",
              "</div>"
            ],
            "text/plain": [
              "        Date Province_State    County Name  New Cases/100k population\n",
              "0 2020-12-01     California  Solano County                  26.143124\n",
              "1 2020-12-02     California  Solano County                  11.939787\n",
              "2 2020-12-03     California  Solano County                  12.049236\n",
              "3 2020-12-04     California  Solano County                  10.220302\n",
              "4 2020-12-05     California  Solano County                   0.237851"
            ]
          },
          "metadata": {
            "tags": []
          },
          "execution_count": 32
        }
      ]
    },
    {
      "cell_type": "code",
      "metadata": {
        "colab": {
          "base_uri": "https://localhost:8080/",
          "height": 204
        },
        "id": "16dG_9AJ_ZHN",
        "outputId": "8786d017-608e-4949-bbc2-77f38279f6a2"
      },
      "source": [
        "df_estimates.tail()"
      ],
      "execution_count": 33,
      "outputs": [
        {
          "output_type": "execute_result",
          "data": {
            "text/html": [
              "<div>\n",
              "<style scoped>\n",
              "    .dataframe tbody tr th:only-of-type {\n",
              "        vertical-align: middle;\n",
              "    }\n",
              "\n",
              "    .dataframe tbody tr th {\n",
              "        vertical-align: top;\n",
              "    }\n",
              "\n",
              "    .dataframe thead th {\n",
              "        text-align: right;\n",
              "    }\n",
              "</style>\n",
              "<table border=\"1\" class=\"dataframe\">\n",
              "  <thead>\n",
              "    <tr style=\"text-align: right;\">\n",
              "      <th></th>\n",
              "      <th>Date</th>\n",
              "      <th>Province_State</th>\n",
              "      <th>County Name</th>\n",
              "      <th>New Cases/100k population</th>\n",
              "    </tr>\n",
              "  </thead>\n",
              "  <tbody>\n",
              "    <tr>\n",
              "      <th>53</th>\n",
              "      <td>2021-01-23</td>\n",
              "      <td>California</td>\n",
              "      <td>Solano County</td>\n",
              "      <td>0.824221</td>\n",
              "    </tr>\n",
              "    <tr>\n",
              "      <th>54</th>\n",
              "      <td>2021-01-24</td>\n",
              "      <td>California</td>\n",
              "      <td>Solano County</td>\n",
              "      <td>2.246187</td>\n",
              "    </tr>\n",
              "    <tr>\n",
              "      <th>55</th>\n",
              "      <td>2021-01-25</td>\n",
              "      <td>California</td>\n",
              "      <td>Solano County</td>\n",
              "      <td>64.193552</td>\n",
              "    </tr>\n",
              "    <tr>\n",
              "      <th>56</th>\n",
              "      <td>2021-01-26</td>\n",
              "      <td>California</td>\n",
              "      <td>Solano County</td>\n",
              "      <td>37.972076</td>\n",
              "    </tr>\n",
              "    <tr>\n",
              "      <th>57</th>\n",
              "      <td>2021-01-27</td>\n",
              "      <td>California</td>\n",
              "      <td>Solano County</td>\n",
              "      <td>21.895653</td>\n",
              "    </tr>\n",
              "  </tbody>\n",
              "</table>\n",
              "</div>"
            ],
            "text/plain": [
              "         Date Province_State    County Name  New Cases/100k population\n",
              "53 2021-01-23     California  Solano County                   0.824221\n",
              "54 2021-01-24     California  Solano County                   2.246187\n",
              "55 2021-01-25     California  Solano County                  64.193552\n",
              "56 2021-01-26     California  Solano County                  37.972076\n",
              "57 2021-01-27     California  Solano County                  21.895653"
            ]
          },
          "metadata": {
            "tags": []
          },
          "execution_count": 33
        }
      ]
    },
    {
      "cell_type": "markdown",
      "metadata": {
        "id": "DNzJ29Ui_mC9"
      },
      "source": [
        "## Export file to csv"
      ]
    },
    {
      "cell_type": "code",
      "metadata": {
        "colab": {
          "base_uri": "https://localhost:8080/"
        },
        "id": "pDx51XVj_okn",
        "outputId": "52d12754-9b89-4b62-b542-d9c5e005b9ad"
      },
      "source": [
        "from datetime import datetime\n",
        "location = '/content/drive/Shared drives/CMPE 295- Master Project/projectdata-2021/'\n",
        "filename = state_code+'_'+county_code+'_SARIMAX_estimates'+datetime.now().strftime(\"%b%d\")+'.csv' \n",
        "\n",
        "print(filename)\n",
        "df_estimates.to_csv(location+filename,index=False)"
      ],
      "execution_count": 36,
      "outputs": [
        {
          "output_type": "stream",
          "text": [
            "CA_SL_SARIMAX_estimatesApr03.csv\n"
          ],
          "name": "stdout"
        }
      ]
    },
    {
      "cell_type": "markdown",
      "metadata": {
        "id": "SDBnMUI9DiM3"
      },
      "source": [
        "# Result \n",
        "\n",
        "\n",
        "|State | County | MPE|\n",
        "|--- | --- | ---|\n",
        "|OR|Washington county | 4.728401442576541|\n",
        "|CA|Solano county|2.348202453583898\n"
      ]
    }
  ]
}