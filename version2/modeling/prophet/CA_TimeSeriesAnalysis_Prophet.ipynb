{
  "nbformat": 4,
  "nbformat_minor": 0,
  "metadata": {
    "colab": {
      "name": "CA_TimeSeriesAnalysis_Prophet.ipynb",
      "provenance": [],
      "collapsed_sections": [],
      "toc_visible": true,
      "include_colab_link": true
    },
    "kernelspec": {
      "name": "python3",
      "display_name": "Python 3"
    },
    "widgets": {
      "application/vnd.jupyter.widget-state+json": {
        "8e9a781397c24be2ab32b9ce6c63ad5d": {
          "model_module": "@jupyter-widgets/controls",
          "model_name": "HBoxModel",
          "state": {
            "_view_name": "HBoxView",
            "_dom_classes": [],
            "_model_name": "HBoxModel",
            "_view_module": "@jupyter-widgets/controls",
            "_model_module_version": "1.5.0",
            "_view_count": null,
            "_view_module_version": "1.5.0",
            "box_style": "",
            "layout": "IPY_MODEL_f16a273c55ad417588e27ea057c605a5",
            "_model_module": "@jupyter-widgets/controls",
            "children": [
              "IPY_MODEL_ef7aad67edc443aaab39b2392e2b332c",
              "IPY_MODEL_e203dd40bc74412294d5fef6b3d75f9c"
            ]
          }
        },
        "f16a273c55ad417588e27ea057c605a5": {
          "model_module": "@jupyter-widgets/base",
          "model_name": "LayoutModel",
          "state": {
            "_view_name": "LayoutView",
            "grid_template_rows": null,
            "right": null,
            "justify_content": null,
            "_view_module": "@jupyter-widgets/base",
            "overflow": null,
            "_model_module_version": "1.2.0",
            "_view_count": null,
            "flex_flow": null,
            "width": null,
            "min_width": null,
            "border": null,
            "align_items": null,
            "bottom": null,
            "_model_module": "@jupyter-widgets/base",
            "top": null,
            "grid_column": null,
            "overflow_y": null,
            "overflow_x": null,
            "grid_auto_flow": null,
            "grid_area": null,
            "grid_template_columns": null,
            "flex": null,
            "_model_name": "LayoutModel",
            "justify_items": null,
            "grid_row": null,
            "max_height": null,
            "align_content": null,
            "visibility": null,
            "align_self": null,
            "height": null,
            "min_height": null,
            "padding": null,
            "grid_auto_rows": null,
            "grid_gap": null,
            "max_width": null,
            "order": null,
            "_view_module_version": "1.2.0",
            "grid_template_areas": null,
            "object_position": null,
            "object_fit": null,
            "grid_auto_columns": null,
            "margin": null,
            "display": null,
            "left": null
          }
        },
        "ef7aad67edc443aaab39b2392e2b332c": {
          "model_module": "@jupyter-widgets/controls",
          "model_name": "FloatProgressModel",
          "state": {
            "_view_name": "ProgressView",
            "style": "IPY_MODEL_a68d3a736c0e43f48289e95f5b446254",
            "_dom_classes": [],
            "description": "100%",
            "_model_name": "FloatProgressModel",
            "bar_style": "success",
            "max": 1,
            "_view_module": "@jupyter-widgets/controls",
            "_model_module_version": "1.5.0",
            "value": 1,
            "_view_count": null,
            "_view_module_version": "1.5.0",
            "orientation": "horizontal",
            "min": 0,
            "description_tooltip": null,
            "_model_module": "@jupyter-widgets/controls",
            "layout": "IPY_MODEL_af30bb9f4fa64075afbdd8b0ca27cf57"
          }
        },
        "e203dd40bc74412294d5fef6b3d75f9c": {
          "model_module": "@jupyter-widgets/controls",
          "model_name": "HTMLModel",
          "state": {
            "_view_name": "HTMLView",
            "style": "IPY_MODEL_d21d9bb78c4449e481af636ee1bc202a",
            "_dom_classes": [],
            "description": "",
            "_model_name": "HTMLModel",
            "placeholder": "​",
            "_view_module": "@jupyter-widgets/controls",
            "_model_module_version": "1.5.0",
            "value": " 1/1 [03:35&lt;00:00, 215.92s/it]",
            "_view_count": null,
            "_view_module_version": "1.5.0",
            "description_tooltip": null,
            "_model_module": "@jupyter-widgets/controls",
            "layout": "IPY_MODEL_e5b6e3cd98e14f28b56559fe9759cb79"
          }
        },
        "a68d3a736c0e43f48289e95f5b446254": {
          "model_module": "@jupyter-widgets/controls",
          "model_name": "ProgressStyleModel",
          "state": {
            "_view_name": "StyleView",
            "_model_name": "ProgressStyleModel",
            "description_width": "initial",
            "_view_module": "@jupyter-widgets/base",
            "_model_module_version": "1.5.0",
            "_view_count": null,
            "_view_module_version": "1.2.0",
            "bar_color": null,
            "_model_module": "@jupyter-widgets/controls"
          }
        },
        "af30bb9f4fa64075afbdd8b0ca27cf57": {
          "model_module": "@jupyter-widgets/base",
          "model_name": "LayoutModel",
          "state": {
            "_view_name": "LayoutView",
            "grid_template_rows": null,
            "right": null,
            "justify_content": null,
            "_view_module": "@jupyter-widgets/base",
            "overflow": null,
            "_model_module_version": "1.2.0",
            "_view_count": null,
            "flex_flow": null,
            "width": null,
            "min_width": null,
            "border": null,
            "align_items": null,
            "bottom": null,
            "_model_module": "@jupyter-widgets/base",
            "top": null,
            "grid_column": null,
            "overflow_y": null,
            "overflow_x": null,
            "grid_auto_flow": null,
            "grid_area": null,
            "grid_template_columns": null,
            "flex": null,
            "_model_name": "LayoutModel",
            "justify_items": null,
            "grid_row": null,
            "max_height": null,
            "align_content": null,
            "visibility": null,
            "align_self": null,
            "height": null,
            "min_height": null,
            "padding": null,
            "grid_auto_rows": null,
            "grid_gap": null,
            "max_width": null,
            "order": null,
            "_view_module_version": "1.2.0",
            "grid_template_areas": null,
            "object_position": null,
            "object_fit": null,
            "grid_auto_columns": null,
            "margin": null,
            "display": null,
            "left": null
          }
        },
        "d21d9bb78c4449e481af636ee1bc202a": {
          "model_module": "@jupyter-widgets/controls",
          "model_name": "DescriptionStyleModel",
          "state": {
            "_view_name": "StyleView",
            "_model_name": "DescriptionStyleModel",
            "description_width": "",
            "_view_module": "@jupyter-widgets/base",
            "_model_module_version": "1.5.0",
            "_view_count": null,
            "_view_module_version": "1.2.0",
            "_model_module": "@jupyter-widgets/controls"
          }
        },
        "e5b6e3cd98e14f28b56559fe9759cb79": {
          "model_module": "@jupyter-widgets/base",
          "model_name": "LayoutModel",
          "state": {
            "_view_name": "LayoutView",
            "grid_template_rows": null,
            "right": null,
            "justify_content": null,
            "_view_module": "@jupyter-widgets/base",
            "overflow": null,
            "_model_module_version": "1.2.0",
            "_view_count": null,
            "flex_flow": null,
            "width": null,
            "min_width": null,
            "border": null,
            "align_items": null,
            "bottom": null,
            "_model_module": "@jupyter-widgets/base",
            "top": null,
            "grid_column": null,
            "overflow_y": null,
            "overflow_x": null,
            "grid_auto_flow": null,
            "grid_area": null,
            "grid_template_columns": null,
            "flex": null,
            "_model_name": "LayoutModel",
            "justify_items": null,
            "grid_row": null,
            "max_height": null,
            "align_content": null,
            "visibility": null,
            "align_self": null,
            "height": null,
            "min_height": null,
            "padding": null,
            "grid_auto_rows": null,
            "grid_gap": null,
            "max_width": null,
            "order": null,
            "_view_module_version": "1.2.0",
            "grid_template_areas": null,
            "object_position": null,
            "object_fit": null,
            "grid_auto_columns": null,
            "margin": null,
            "display": null,
            "left": null
          }
        }
      }
    }
  },
  "cells": [
    {
      "cell_type": "markdown",
      "metadata": {
        "id": "view-in-github",
        "colab_type": "text"
      },
      "source": [
        "<a href=\"https://colab.research.google.com/github/aarsanjani/meansquares/blob/master/version2/modeling/prophet/CA_TimeSeriesAnalysis_Prophet.ipynb\" target=\"_parent\"><img src=\"https://colab.research.google.com/assets/colab-badge.svg\" alt=\"Open In Colab\"/></a>"
      ]
    },
    {
      "cell_type": "markdown",
      "metadata": {
        "id": "boKToYTln-Gg"
      },
      "source": [
        "# CA Prophet"
      ]
    },
    {
      "cell_type": "markdown",
      "metadata": {
        "id": "1XZE4_8qoJJQ"
      },
      "source": [
        "## Imports"
      ]
    },
    {
      "cell_type": "code",
      "metadata": {
        "id": "U9vA50xjnxzi",
        "colab": {
          "base_uri": "https://localhost:8080/"
        },
        "outputId": "0527d58a-94fa-4060-da65-941ef5c36a82"
      },
      "source": [
        "from google.colab import drive\n",
        "drive.mount('/content/drive')"
      ],
      "execution_count": 1,
      "outputs": [
        {
          "output_type": "stream",
          "text": [
            "Drive already mounted at /content/drive; to attempt to forcibly remount, call drive.mount(\"/content/drive\", force_remount=True).\n"
          ],
          "name": "stdout"
        }
      ]
    },
    {
      "cell_type": "code",
      "metadata": {
        "id": "C4mP0tZFopX0"
      },
      "source": [
        "import pandas as pd\n",
        "from fbprophet import Prophet\n",
        "from fbprophet.plot import plot_plotly, plot_components_plotly\n",
        "from sklearn.model_selection import train_test_split\n",
        "from sklearn import preprocessing\n",
        "from fbprophet.diagnostics import cross_validation\n",
        "from fbprophet.diagnostics import performance_metrics"
      ],
      "execution_count": 2,
      "outputs": []
    },
    {
      "cell_type": "markdown",
      "metadata": {
        "id": "yV0rYBj9uH9C"
      },
      "source": [
        "## Texas Data"
      ]
    },
    {
      "cell_type": "code",
      "metadata": {
        "id": "uEqMDIW7oDNs",
        "colab": {
          "base_uri": "https://localhost:8080/",
          "height": 326
        },
        "outputId": "f04f45d8-4a06-4f28-837b-ac8537a513d2"
      },
      "source": [
        "CA_labeledData = pd.read_csv('/content/drive/Shared drives/CMPE 295- Master Project/projectdata-2021/CA_alldatasets_Jan13.csv',low_memory=False)\n",
        "CA_labeledData.tail()"
      ],
      "execution_count": 3,
      "outputs": [
        {
          "output_type": "execute_result",
          "data": {
            "text/html": [
              "<div>\n",
              "<style scoped>\n",
              "    .dataframe tbody tr th:only-of-type {\n",
              "        vertical-align: middle;\n",
              "    }\n",
              "\n",
              "    .dataframe tbody tr th {\n",
              "        vertical-align: top;\n",
              "    }\n",
              "\n",
              "    .dataframe thead th {\n",
              "        text-align: right;\n",
              "    }\n",
              "</style>\n",
              "<table border=\"1\" class=\"dataframe\">\n",
              "  <thead>\n",
              "    <tr style=\"text-align: right;\">\n",
              "      <th></th>\n",
              "      <th>Date</th>\n",
              "      <th>Province_State</th>\n",
              "      <th>FIPS</th>\n",
              "      <th>New cases</th>\n",
              "      <th>County Name</th>\n",
              "      <th>population</th>\n",
              "      <th>mask_rule_active</th>\n",
              "      <th>m50</th>\n",
              "      <th>m50_index</th>\n",
              "      <th>retail_and_recreation_percent_change_from_baseline</th>\n",
              "      <th>grocery_and_pharmacy_percent_change_from_baseline</th>\n",
              "      <th>parks_percent_change_from_baseline</th>\n",
              "      <th>transit_stations_percent_change_from_baseline</th>\n",
              "      <th>workplaces_percent_change_from_baseline</th>\n",
              "      <th>residential_percent_change_from_baseline</th>\n",
              "    </tr>\n",
              "  </thead>\n",
              "  <tbody>\n",
              "    <tr>\n",
              "      <th>15816</th>\n",
              "      <td>2021-01-01</td>\n",
              "      <td>California</td>\n",
              "      <td>6115</td>\n",
              "      <td>40</td>\n",
              "      <td>Yuba County</td>\n",
              "      <td>78668</td>\n",
              "      <td>1</td>\n",
              "      <td>0.427</td>\n",
              "      <td>4</td>\n",
              "      <td>-36.0</td>\n",
              "      <td>-23.0</td>\n",
              "      <td>18.0</td>\n",
              "      <td>-55.0</td>\n",
              "      <td>-68.0</td>\n",
              "      <td>22.0</td>\n",
              "    </tr>\n",
              "    <tr>\n",
              "      <th>15817</th>\n",
              "      <td>2021-01-02</td>\n",
              "      <td>California</td>\n",
              "      <td>6115</td>\n",
              "      <td>0</td>\n",
              "      <td>Yuba County</td>\n",
              "      <td>78668</td>\n",
              "      <td>1</td>\n",
              "      <td>1.502</td>\n",
              "      <td>15</td>\n",
              "      <td>-17.0</td>\n",
              "      <td>-11.0</td>\n",
              "      <td>8.0</td>\n",
              "      <td>-41.0</td>\n",
              "      <td>-19.0</td>\n",
              "      <td>8.0</td>\n",
              "    </tr>\n",
              "    <tr>\n",
              "      <th>15818</th>\n",
              "      <td>2021-01-03</td>\n",
              "      <td>California</td>\n",
              "      <td>6115</td>\n",
              "      <td>32</td>\n",
              "      <td>Yuba County</td>\n",
              "      <td>78668</td>\n",
              "      <td>1</td>\n",
              "      <td>0.161</td>\n",
              "      <td>1</td>\n",
              "      <td>-11.0</td>\n",
              "      <td>-7.0</td>\n",
              "      <td>33.0</td>\n",
              "      <td>NaN</td>\n",
              "      <td>-10.0</td>\n",
              "      <td>5.0</td>\n",
              "    </tr>\n",
              "    <tr>\n",
              "      <th>15819</th>\n",
              "      <td>2021-01-04</td>\n",
              "      <td>California</td>\n",
              "      <td>6115</td>\n",
              "      <td>36</td>\n",
              "      <td>Yuba County</td>\n",
              "      <td>78668</td>\n",
              "      <td>1</td>\n",
              "      <td>0.074</td>\n",
              "      <td>0</td>\n",
              "      <td>-18.0</td>\n",
              "      <td>-8.0</td>\n",
              "      <td>-2.0</td>\n",
              "      <td>-32.0</td>\n",
              "      <td>-35.0</td>\n",
              "      <td>12.0</td>\n",
              "    </tr>\n",
              "    <tr>\n",
              "      <th>15820</th>\n",
              "      <td>2021-01-05</td>\n",
              "      <td>California</td>\n",
              "      <td>6115</td>\n",
              "      <td>102</td>\n",
              "      <td>Yuba County</td>\n",
              "      <td>78668</td>\n",
              "      <td>1</td>\n",
              "      <td>0.574</td>\n",
              "      <td>6</td>\n",
              "      <td>-14.0</td>\n",
              "      <td>-6.0</td>\n",
              "      <td>NaN</td>\n",
              "      <td>-26.0</td>\n",
              "      <td>-30.0</td>\n",
              "      <td>10.0</td>\n",
              "    </tr>\n",
              "  </tbody>\n",
              "</table>\n",
              "</div>"
            ],
            "text/plain": [
              "             Date  ... residential_percent_change_from_baseline\n",
              "15816  2021-01-01  ...                                     22.0\n",
              "15817  2021-01-02  ...                                      8.0\n",
              "15818  2021-01-03  ...                                      5.0\n",
              "15819  2021-01-04  ...                                     12.0\n",
              "15820  2021-01-05  ...                                     10.0\n",
              "\n",
              "[5 rows x 15 columns]"
            ]
          },
          "metadata": {
            "tags": []
          },
          "execution_count": 3
        }
      ]
    },
    {
      "cell_type": "code",
      "metadata": {
        "id": "rZc3bBdPse6d"
      },
      "source": [
        "CA_labeledData = CA_labeledData.dropna()"
      ],
      "execution_count": 4,
      "outputs": []
    },
    {
      "cell_type": "code",
      "metadata": {
        "id": "LA2ZwyNIslZy"
      },
      "source": [
        "CA_labeledData['label_y'] = preprocessing.LabelEncoder().fit_transform(CA_labeledData['New cases'])"
      ],
      "execution_count": 5,
      "outputs": []
    },
    {
      "cell_type": "code",
      "metadata": {
        "id": "8h5T5dePwFa4"
      },
      "source": [
        "CA_labeledData['County Name Label'] = preprocessing.LabelEncoder().fit_transform(CA_labeledData['County Name'])"
      ],
      "execution_count": 6,
      "outputs": []
    },
    {
      "cell_type": "code",
      "metadata": {
        "id": "S_98ZWbgsn8c"
      },
      "source": [
        "CA_labeledData.rename(columns={'Date': 'ds', 'label_y': 'y'}, inplace=True)"
      ],
      "execution_count": 7,
      "outputs": []
    },
    {
      "cell_type": "code",
      "metadata": {
        "id": "ZoFf0WQTptg-"
      },
      "source": [
        "train, test = train_test_split(CA_labeledData, test_size=0.2, shuffle=False)"
      ],
      "execution_count": 8,
      "outputs": []
    },
    {
      "cell_type": "code",
      "metadata": {
        "id": "lee2ST1usLe8",
        "colab": {
          "base_uri": "https://localhost:8080/",
          "height": 343
        },
        "outputId": "01b229d5-66d5-4697-dc35-ad4f7b8931bd"
      },
      "source": [
        "train.head()"
      ],
      "execution_count": 9,
      "outputs": [
        {
          "output_type": "execute_result",
          "data": {
            "text/html": [
              "<div>\n",
              "<style scoped>\n",
              "    .dataframe tbody tr th:only-of-type {\n",
              "        vertical-align: middle;\n",
              "    }\n",
              "\n",
              "    .dataframe tbody tr th {\n",
              "        vertical-align: top;\n",
              "    }\n",
              "\n",
              "    .dataframe thead th {\n",
              "        text-align: right;\n",
              "    }\n",
              "</style>\n",
              "<table border=\"1\" class=\"dataframe\">\n",
              "  <thead>\n",
              "    <tr style=\"text-align: right;\">\n",
              "      <th></th>\n",
              "      <th>ds</th>\n",
              "      <th>Province_State</th>\n",
              "      <th>FIPS</th>\n",
              "      <th>New cases</th>\n",
              "      <th>County Name</th>\n",
              "      <th>population</th>\n",
              "      <th>mask_rule_active</th>\n",
              "      <th>m50</th>\n",
              "      <th>m50_index</th>\n",
              "      <th>retail_and_recreation_percent_change_from_baseline</th>\n",
              "      <th>grocery_and_pharmacy_percent_change_from_baseline</th>\n",
              "      <th>parks_percent_change_from_baseline</th>\n",
              "      <th>transit_stations_percent_change_from_baseline</th>\n",
              "      <th>workplaces_percent_change_from_baseline</th>\n",
              "      <th>residential_percent_change_from_baseline</th>\n",
              "      <th>y</th>\n",
              "      <th>County Name Label</th>\n",
              "    </tr>\n",
              "  </thead>\n",
              "  <tbody>\n",
              "    <tr>\n",
              "      <th>0</th>\n",
              "      <td>2020-03-01</td>\n",
              "      <td>California</td>\n",
              "      <td>6001</td>\n",
              "      <td>0</td>\n",
              "      <td>Alameda County</td>\n",
              "      <td>1671329</td>\n",
              "      <td>0</td>\n",
              "      <td>3.684</td>\n",
              "      <td>58</td>\n",
              "      <td>6.0</td>\n",
              "      <td>9.0</td>\n",
              "      <td>15.0</td>\n",
              "      <td>1.0</td>\n",
              "      <td>4.0</td>\n",
              "      <td>0.0</td>\n",
              "      <td>16</td>\n",
              "      <td>0</td>\n",
              "    </tr>\n",
              "    <tr>\n",
              "      <th>1</th>\n",
              "      <td>2020-03-02</td>\n",
              "      <td>California</td>\n",
              "      <td>6001</td>\n",
              "      <td>0</td>\n",
              "      <td>Alameda County</td>\n",
              "      <td>1671329</td>\n",
              "      <td>0</td>\n",
              "      <td>6.182</td>\n",
              "      <td>98</td>\n",
              "      <td>4.0</td>\n",
              "      <td>7.0</td>\n",
              "      <td>7.0</td>\n",
              "      <td>-1.0</td>\n",
              "      <td>3.0</td>\n",
              "      <td>0.0</td>\n",
              "      <td>16</td>\n",
              "      <td>0</td>\n",
              "    </tr>\n",
              "    <tr>\n",
              "      <th>2</th>\n",
              "      <td>2020-03-03</td>\n",
              "      <td>California</td>\n",
              "      <td>6001</td>\n",
              "      <td>1</td>\n",
              "      <td>Alameda County</td>\n",
              "      <td>1671329</td>\n",
              "      <td>0</td>\n",
              "      <td>6.271</td>\n",
              "      <td>100</td>\n",
              "      <td>5.0</td>\n",
              "      <td>12.0</td>\n",
              "      <td>41.0</td>\n",
              "      <td>0.0</td>\n",
              "      <td>1.0</td>\n",
              "      <td>-1.0</td>\n",
              "      <td>17</td>\n",
              "      <td>0</td>\n",
              "    </tr>\n",
              "    <tr>\n",
              "      <th>3</th>\n",
              "      <td>2020-03-04</td>\n",
              "      <td>California</td>\n",
              "      <td>6001</td>\n",
              "      <td>0</td>\n",
              "      <td>Alameda County</td>\n",
              "      <td>1671329</td>\n",
              "      <td>0</td>\n",
              "      <td>6.209</td>\n",
              "      <td>99</td>\n",
              "      <td>1.0</td>\n",
              "      <td>6.0</td>\n",
              "      <td>23.0</td>\n",
              "      <td>-3.0</td>\n",
              "      <td>1.0</td>\n",
              "      <td>0.0</td>\n",
              "      <td>16</td>\n",
              "      <td>0</td>\n",
              "    </tr>\n",
              "    <tr>\n",
              "      <th>4</th>\n",
              "      <td>2020-03-05</td>\n",
              "      <td>California</td>\n",
              "      <td>6001</td>\n",
              "      <td>0</td>\n",
              "      <td>Alameda County</td>\n",
              "      <td>1671329</td>\n",
              "      <td>0</td>\n",
              "      <td>6.654</td>\n",
              "      <td>106</td>\n",
              "      <td>1.0</td>\n",
              "      <td>6.0</td>\n",
              "      <td>12.0</td>\n",
              "      <td>-5.0</td>\n",
              "      <td>-1.0</td>\n",
              "      <td>1.0</td>\n",
              "      <td>16</td>\n",
              "      <td>0</td>\n",
              "    </tr>\n",
              "  </tbody>\n",
              "</table>\n",
              "</div>"
            ],
            "text/plain": [
              "           ds Province_State  ...   y  County Name Label\n",
              "0  2020-03-01     California  ...  16                  0\n",
              "1  2020-03-02     California  ...  16                  0\n",
              "2  2020-03-03     California  ...  17                  0\n",
              "3  2020-03-04     California  ...  16                  0\n",
              "4  2020-03-05     California  ...  16                  0\n",
              "\n",
              "[5 rows x 17 columns]"
            ]
          },
          "metadata": {
            "tags": []
          },
          "execution_count": 9
        }
      ]
    },
    {
      "cell_type": "code",
      "metadata": {
        "id": "_25MLq-jsNQH",
        "colab": {
          "base_uri": "https://localhost:8080/",
          "height": 343
        },
        "outputId": "2c67aa5c-a86b-4027-cee6-4dc6103a1453"
      },
      "source": [
        "test.tail()"
      ],
      "execution_count": 10,
      "outputs": [
        {
          "output_type": "execute_result",
          "data": {
            "text/html": [
              "<div>\n",
              "<style scoped>\n",
              "    .dataframe tbody tr th:only-of-type {\n",
              "        vertical-align: middle;\n",
              "    }\n",
              "\n",
              "    .dataframe tbody tr th {\n",
              "        vertical-align: top;\n",
              "    }\n",
              "\n",
              "    .dataframe thead th {\n",
              "        text-align: right;\n",
              "    }\n",
              "</style>\n",
              "<table border=\"1\" class=\"dataframe\">\n",
              "  <thead>\n",
              "    <tr style=\"text-align: right;\">\n",
              "      <th></th>\n",
              "      <th>ds</th>\n",
              "      <th>Province_State</th>\n",
              "      <th>FIPS</th>\n",
              "      <th>New cases</th>\n",
              "      <th>County Name</th>\n",
              "      <th>population</th>\n",
              "      <th>mask_rule_active</th>\n",
              "      <th>m50</th>\n",
              "      <th>m50_index</th>\n",
              "      <th>retail_and_recreation_percent_change_from_baseline</th>\n",
              "      <th>grocery_and_pharmacy_percent_change_from_baseline</th>\n",
              "      <th>parks_percent_change_from_baseline</th>\n",
              "      <th>transit_stations_percent_change_from_baseline</th>\n",
              "      <th>workplaces_percent_change_from_baseline</th>\n",
              "      <th>residential_percent_change_from_baseline</th>\n",
              "      <th>y</th>\n",
              "      <th>County Name Label</th>\n",
              "    </tr>\n",
              "  </thead>\n",
              "  <tbody>\n",
              "    <tr>\n",
              "      <th>15810</th>\n",
              "      <td>2020-12-26</td>\n",
              "      <td>California</td>\n",
              "      <td>6115</td>\n",
              "      <td>0</td>\n",
              "      <td>Yuba County</td>\n",
              "      <td>78668</td>\n",
              "      <td>1</td>\n",
              "      <td>0.732</td>\n",
              "      <td>7</td>\n",
              "      <td>-23.0</td>\n",
              "      <td>-17.0</td>\n",
              "      <td>11.0</td>\n",
              "      <td>-38.0</td>\n",
              "      <td>-22.0</td>\n",
              "      <td>9.0</td>\n",
              "      <td>16</td>\n",
              "      <td>43</td>\n",
              "    </tr>\n",
              "    <tr>\n",
              "      <th>15814</th>\n",
              "      <td>2020-12-30</td>\n",
              "      <td>California</td>\n",
              "      <td>6115</td>\n",
              "      <td>21</td>\n",
              "      <td>Yuba County</td>\n",
              "      <td>78668</td>\n",
              "      <td>1</td>\n",
              "      <td>1.431</td>\n",
              "      <td>15</td>\n",
              "      <td>-15.0</td>\n",
              "      <td>-9.0</td>\n",
              "      <td>23.0</td>\n",
              "      <td>-42.0</td>\n",
              "      <td>-38.0</td>\n",
              "      <td>12.0</td>\n",
              "      <td>37</td>\n",
              "      <td>43</td>\n",
              "    </tr>\n",
              "    <tr>\n",
              "      <th>15816</th>\n",
              "      <td>2021-01-01</td>\n",
              "      <td>California</td>\n",
              "      <td>6115</td>\n",
              "      <td>40</td>\n",
              "      <td>Yuba County</td>\n",
              "      <td>78668</td>\n",
              "      <td>1</td>\n",
              "      <td>0.427</td>\n",
              "      <td>4</td>\n",
              "      <td>-36.0</td>\n",
              "      <td>-23.0</td>\n",
              "      <td>18.0</td>\n",
              "      <td>-55.0</td>\n",
              "      <td>-68.0</td>\n",
              "      <td>22.0</td>\n",
              "      <td>56</td>\n",
              "      <td>43</td>\n",
              "    </tr>\n",
              "    <tr>\n",
              "      <th>15817</th>\n",
              "      <td>2021-01-02</td>\n",
              "      <td>California</td>\n",
              "      <td>6115</td>\n",
              "      <td>0</td>\n",
              "      <td>Yuba County</td>\n",
              "      <td>78668</td>\n",
              "      <td>1</td>\n",
              "      <td>1.502</td>\n",
              "      <td>15</td>\n",
              "      <td>-17.0</td>\n",
              "      <td>-11.0</td>\n",
              "      <td>8.0</td>\n",
              "      <td>-41.0</td>\n",
              "      <td>-19.0</td>\n",
              "      <td>8.0</td>\n",
              "      <td>16</td>\n",
              "      <td>43</td>\n",
              "    </tr>\n",
              "    <tr>\n",
              "      <th>15819</th>\n",
              "      <td>2021-01-04</td>\n",
              "      <td>California</td>\n",
              "      <td>6115</td>\n",
              "      <td>36</td>\n",
              "      <td>Yuba County</td>\n",
              "      <td>78668</td>\n",
              "      <td>1</td>\n",
              "      <td>0.074</td>\n",
              "      <td>0</td>\n",
              "      <td>-18.0</td>\n",
              "      <td>-8.0</td>\n",
              "      <td>-2.0</td>\n",
              "      <td>-32.0</td>\n",
              "      <td>-35.0</td>\n",
              "      <td>12.0</td>\n",
              "      <td>52</td>\n",
              "      <td>43</td>\n",
              "    </tr>\n",
              "  </tbody>\n",
              "</table>\n",
              "</div>"
            ],
            "text/plain": [
              "               ds Province_State  ...   y  County Name Label\n",
              "15810  2020-12-26     California  ...  16                 43\n",
              "15814  2020-12-30     California  ...  37                 43\n",
              "15816  2021-01-01     California  ...  56                 43\n",
              "15817  2021-01-02     California  ...  16                 43\n",
              "15819  2021-01-04     California  ...  52                 43\n",
              "\n",
              "[5 rows x 17 columns]"
            ]
          },
          "metadata": {
            "tags": []
          },
          "execution_count": 10
        }
      ]
    },
    {
      "cell_type": "markdown",
      "metadata": {
        "id": "ZfH7VqBzIdT8"
      },
      "source": [
        "## Los Angeles County"
      ]
    },
    {
      "cell_type": "code",
      "metadata": {
        "id": "_3M280zeI43B",
        "colab": {
          "base_uri": "https://localhost:8080/",
          "height": 428
        },
        "outputId": "af0ee1fc-90fa-4677-a87e-009c5e23f394"
      },
      "source": [
        "CA_labeledData_LA = CA_labeledData[CA_labeledData['County Name'] == 'Los Angeles County']\n",
        "CA_labeledData_LA = CA_labeledData_LA.reset_index(drop=True)\n",
        "CA_labeledData_LA.tail()"
      ],
      "execution_count": 11,
      "outputs": [
        {
          "output_type": "execute_result",
          "data": {
            "text/html": [
              "<div>\n",
              "<style scoped>\n",
              "    .dataframe tbody tr th:only-of-type {\n",
              "        vertical-align: middle;\n",
              "    }\n",
              "\n",
              "    .dataframe tbody tr th {\n",
              "        vertical-align: top;\n",
              "    }\n",
              "\n",
              "    .dataframe thead th {\n",
              "        text-align: right;\n",
              "    }\n",
              "</style>\n",
              "<table border=\"1\" class=\"dataframe\">\n",
              "  <thead>\n",
              "    <tr style=\"text-align: right;\">\n",
              "      <th></th>\n",
              "      <th>ds</th>\n",
              "      <th>Province_State</th>\n",
              "      <th>FIPS</th>\n",
              "      <th>New cases</th>\n",
              "      <th>County Name</th>\n",
              "      <th>population</th>\n",
              "      <th>mask_rule_active</th>\n",
              "      <th>m50</th>\n",
              "      <th>m50_index</th>\n",
              "      <th>retail_and_recreation_percent_change_from_baseline</th>\n",
              "      <th>grocery_and_pharmacy_percent_change_from_baseline</th>\n",
              "      <th>parks_percent_change_from_baseline</th>\n",
              "      <th>transit_stations_percent_change_from_baseline</th>\n",
              "      <th>workplaces_percent_change_from_baseline</th>\n",
              "      <th>residential_percent_change_from_baseline</th>\n",
              "      <th>y</th>\n",
              "      <th>County Name Label</th>\n",
              "    </tr>\n",
              "  </thead>\n",
              "  <tbody>\n",
              "    <tr>\n",
              "      <th>295</th>\n",
              "      <td>2021-01-01</td>\n",
              "      <td>California</td>\n",
              "      <td>6037</td>\n",
              "      <td>19980</td>\n",
              "      <td>Los Angeles County</td>\n",
              "      <td>10039107</td>\n",
              "      <td>1</td>\n",
              "      <td>0.057</td>\n",
              "      <td>0</td>\n",
              "      <td>-57.0</td>\n",
              "      <td>-40.0</td>\n",
              "      <td>-24.0</td>\n",
              "      <td>-69.0</td>\n",
              "      <td>-80.0</td>\n",
              "      <td>31.0</td>\n",
              "      <td>1165</td>\n",
              "      <td>11</td>\n",
              "    </tr>\n",
              "    <tr>\n",
              "      <th>296</th>\n",
              "      <td>2021-01-02</td>\n",
              "      <td>California</td>\n",
              "      <td>6037</td>\n",
              "      <td>15628</td>\n",
              "      <td>Los Angeles County</td>\n",
              "      <td>10039107</td>\n",
              "      <td>1</td>\n",
              "      <td>0.376</td>\n",
              "      <td>5</td>\n",
              "      <td>-42.0</td>\n",
              "      <td>-20.0</td>\n",
              "      <td>-36.0</td>\n",
              "      <td>-48.0</td>\n",
              "      <td>-35.0</td>\n",
              "      <td>14.0</td>\n",
              "      <td>1163</td>\n",
              "      <td>11</td>\n",
              "    </tr>\n",
              "    <tr>\n",
              "      <th>297</th>\n",
              "      <td>2021-01-03</td>\n",
              "      <td>California</td>\n",
              "      <td>6037</td>\n",
              "      <td>12429</td>\n",
              "      <td>Los Angeles County</td>\n",
              "      <td>10039107</td>\n",
              "      <td>1</td>\n",
              "      <td>0.075</td>\n",
              "      <td>1</td>\n",
              "      <td>-40.0</td>\n",
              "      <td>-22.0</td>\n",
              "      <td>-31.0</td>\n",
              "      <td>-46.0</td>\n",
              "      <td>-27.0</td>\n",
              "      <td>11.0</td>\n",
              "      <td>1152</td>\n",
              "      <td>11</td>\n",
              "    </tr>\n",
              "    <tr>\n",
              "      <th>298</th>\n",
              "      <td>2021-01-04</td>\n",
              "      <td>California</td>\n",
              "      <td>6037</td>\n",
              "      <td>8859</td>\n",
              "      <td>Los Angeles County</td>\n",
              "      <td>10039107</td>\n",
              "      <td>1</td>\n",
              "      <td>0.127</td>\n",
              "      <td>1</td>\n",
              "      <td>-34.0</td>\n",
              "      <td>-17.0</td>\n",
              "      <td>-32.0</td>\n",
              "      <td>-48.0</td>\n",
              "      <td>-45.0</td>\n",
              "      <td>16.0</td>\n",
              "      <td>1146</td>\n",
              "      <td>11</td>\n",
              "    </tr>\n",
              "    <tr>\n",
              "      <th>299</th>\n",
              "      <td>2021-01-05</td>\n",
              "      <td>California</td>\n",
              "      <td>6037</td>\n",
              "      <td>13113</td>\n",
              "      <td>Los Angeles County</td>\n",
              "      <td>10039107</td>\n",
              "      <td>1</td>\n",
              "      <td>0.130</td>\n",
              "      <td>1</td>\n",
              "      <td>-36.0</td>\n",
              "      <td>-16.0</td>\n",
              "      <td>-32.0</td>\n",
              "      <td>-47.0</td>\n",
              "      <td>-46.0</td>\n",
              "      <td>18.0</td>\n",
              "      <td>1156</td>\n",
              "      <td>11</td>\n",
              "    </tr>\n",
              "  </tbody>\n",
              "</table>\n",
              "</div>"
            ],
            "text/plain": [
              "             ds Province_State  ...     y  County Name Label\n",
              "295  2021-01-01     California  ...  1165                 11\n",
              "296  2021-01-02     California  ...  1163                 11\n",
              "297  2021-01-03     California  ...  1152                 11\n",
              "298  2021-01-04     California  ...  1146                 11\n",
              "299  2021-01-05     California  ...  1156                 11\n",
              "\n",
              "[5 rows x 17 columns]"
            ]
          },
          "metadata": {
            "tags": []
          },
          "execution_count": 11
        }
      ]
    },
    {
      "cell_type": "code",
      "metadata": {
        "id": "CRRcQZadk_ku",
        "colab": {
          "base_uri": "https://localhost:8080/",
          "height": 428
        },
        "outputId": "657b9771-48f7-4e17-fd8a-20e86247be7a"
      },
      "source": [
        "CA_labeledData_LA.head()"
      ],
      "execution_count": 12,
      "outputs": [
        {
          "output_type": "execute_result",
          "data": {
            "text/html": [
              "<div>\n",
              "<style scoped>\n",
              "    .dataframe tbody tr th:only-of-type {\n",
              "        vertical-align: middle;\n",
              "    }\n",
              "\n",
              "    .dataframe tbody tr th {\n",
              "        vertical-align: top;\n",
              "    }\n",
              "\n",
              "    .dataframe thead th {\n",
              "        text-align: right;\n",
              "    }\n",
              "</style>\n",
              "<table border=\"1\" class=\"dataframe\">\n",
              "  <thead>\n",
              "    <tr style=\"text-align: right;\">\n",
              "      <th></th>\n",
              "      <th>ds</th>\n",
              "      <th>Province_State</th>\n",
              "      <th>FIPS</th>\n",
              "      <th>New cases</th>\n",
              "      <th>County Name</th>\n",
              "      <th>population</th>\n",
              "      <th>mask_rule_active</th>\n",
              "      <th>m50</th>\n",
              "      <th>m50_index</th>\n",
              "      <th>retail_and_recreation_percent_change_from_baseline</th>\n",
              "      <th>grocery_and_pharmacy_percent_change_from_baseline</th>\n",
              "      <th>parks_percent_change_from_baseline</th>\n",
              "      <th>transit_stations_percent_change_from_baseline</th>\n",
              "      <th>workplaces_percent_change_from_baseline</th>\n",
              "      <th>residential_percent_change_from_baseline</th>\n",
              "      <th>y</th>\n",
              "      <th>County Name Label</th>\n",
              "    </tr>\n",
              "  </thead>\n",
              "  <tbody>\n",
              "    <tr>\n",
              "      <th>0</th>\n",
              "      <td>2020-03-01</td>\n",
              "      <td>California</td>\n",
              "      <td>6037</td>\n",
              "      <td>0</td>\n",
              "      <td>Los Angeles County</td>\n",
              "      <td>10039107</td>\n",
              "      <td>0</td>\n",
              "      <td>3.996</td>\n",
              "      <td>60</td>\n",
              "      <td>4.0</td>\n",
              "      <td>3.0</td>\n",
              "      <td>-5.0</td>\n",
              "      <td>-3.0</td>\n",
              "      <td>1.0</td>\n",
              "      <td>0.0</td>\n",
              "      <td>16</td>\n",
              "      <td>11</td>\n",
              "    </tr>\n",
              "    <tr>\n",
              "      <th>1</th>\n",
              "      <td>2020-03-02</td>\n",
              "      <td>California</td>\n",
              "      <td>6037</td>\n",
              "      <td>0</td>\n",
              "      <td>Los Angeles County</td>\n",
              "      <td>10039107</td>\n",
              "      <td>0</td>\n",
              "      <td>6.502</td>\n",
              "      <td>98</td>\n",
              "      <td>5.0</td>\n",
              "      <td>5.0</td>\n",
              "      <td>8.0</td>\n",
              "      <td>1.0</td>\n",
              "      <td>4.0</td>\n",
              "      <td>-1.0</td>\n",
              "      <td>16</td>\n",
              "      <td>11</td>\n",
              "    </tr>\n",
              "    <tr>\n",
              "      <th>2</th>\n",
              "      <td>2020-03-03</td>\n",
              "      <td>California</td>\n",
              "      <td>6037</td>\n",
              "      <td>0</td>\n",
              "      <td>Los Angeles County</td>\n",
              "      <td>10039107</td>\n",
              "      <td>0</td>\n",
              "      <td>6.591</td>\n",
              "      <td>99</td>\n",
              "      <td>8.0</td>\n",
              "      <td>7.0</td>\n",
              "      <td>32.0</td>\n",
              "      <td>2.0</td>\n",
              "      <td>3.0</td>\n",
              "      <td>-1.0</td>\n",
              "      <td>16</td>\n",
              "      <td>11</td>\n",
              "    </tr>\n",
              "    <tr>\n",
              "      <th>3</th>\n",
              "      <td>2020-03-04</td>\n",
              "      <td>California</td>\n",
              "      <td>6037</td>\n",
              "      <td>6</td>\n",
              "      <td>Los Angeles County</td>\n",
              "      <td>10039107</td>\n",
              "      <td>0</td>\n",
              "      <td>6.595</td>\n",
              "      <td>100</td>\n",
              "      <td>4.0</td>\n",
              "      <td>6.0</td>\n",
              "      <td>9.0</td>\n",
              "      <td>-1.0</td>\n",
              "      <td>2.0</td>\n",
              "      <td>0.0</td>\n",
              "      <td>22</td>\n",
              "      <td>11</td>\n",
              "    </tr>\n",
              "    <tr>\n",
              "      <th>4</th>\n",
              "      <td>2020-03-05</td>\n",
              "      <td>California</td>\n",
              "      <td>6037</td>\n",
              "      <td>4</td>\n",
              "      <td>Los Angeles County</td>\n",
              "      <td>10039107</td>\n",
              "      <td>0</td>\n",
              "      <td>7.008</td>\n",
              "      <td>106</td>\n",
              "      <td>4.0</td>\n",
              "      <td>7.0</td>\n",
              "      <td>9.0</td>\n",
              "      <td>0.0</td>\n",
              "      <td>2.0</td>\n",
              "      <td>0.0</td>\n",
              "      <td>20</td>\n",
              "      <td>11</td>\n",
              "    </tr>\n",
              "  </tbody>\n",
              "</table>\n",
              "</div>"
            ],
            "text/plain": [
              "           ds Province_State  ...   y  County Name Label\n",
              "0  2020-03-01     California  ...  16                 11\n",
              "1  2020-03-02     California  ...  16                 11\n",
              "2  2020-03-03     California  ...  16                 11\n",
              "3  2020-03-04     California  ...  22                 11\n",
              "4  2020-03-05     California  ...  20                 11\n",
              "\n",
              "[5 rows x 17 columns]"
            ]
          },
          "metadata": {
            "tags": []
          },
          "execution_count": 12
        }
      ]
    },
    {
      "cell_type": "code",
      "metadata": {
        "id": "qbzIAjiMJSt0"
      },
      "source": [
        "train_LA, test_LA = train_test_split(CA_labeledData_LA, test_size=0.2, shuffle=False)"
      ],
      "execution_count": 13,
      "outputs": []
    },
    {
      "cell_type": "code",
      "metadata": {
        "id": "4uAtQ6PcJ3O7"
      },
      "source": [
        "m = Prophet()"
      ],
      "execution_count": 14,
      "outputs": []
    },
    {
      "cell_type": "code",
      "metadata": {
        "id": "W3201HUEJ3O-",
        "colab": {
          "base_uri": "https://localhost:8080/"
        },
        "outputId": "8eb81f69-cac6-450a-b78e-bc2996622ab5"
      },
      "source": [
        "#m.add_regressor('County Name Label')\n",
        "m.add_regressor('population')\n",
        "m.add_regressor('mask_rule_active')\n",
        "#m.add_regressor('m50')\n",
        "m.add_regressor('m50_index')\n",
        "m.add_regressor('retail_and_recreation_percent_change_from_baseline')\n",
        "m.add_regressor('grocery_and_pharmacy_percent_change_from_baseline')\n",
        "m.add_regressor('parks_percent_change_from_baseline')\n",
        "m.add_regressor('transit_stations_percent_change_from_baseline')\n",
        "m.add_regressor('workplaces_percent_change_from_baseline')\n",
        "m.add_regressor('residential_percent_change_from_baseline')"
      ],
      "execution_count": 15,
      "outputs": [
        {
          "output_type": "execute_result",
          "data": {
            "text/plain": [
              "<fbprophet.forecaster.Prophet at 0x7f9464e31550>"
            ]
          },
          "metadata": {
            "tags": []
          },
          "execution_count": 15
        }
      ]
    },
    {
      "cell_type": "code",
      "metadata": {
        "id": "3pFkC_p4J3PB",
        "colab": {
          "base_uri": "https://localhost:8080/"
        },
        "outputId": "5bedac7c-ff9f-48e7-9cc3-a7e8fe23641c"
      },
      "source": [
        "m.fit(train_LA)"
      ],
      "execution_count": 16,
      "outputs": [
        {
          "output_type": "stream",
          "text": [
            "INFO:fbprophet:Disabling yearly seasonality. Run prophet with yearly_seasonality=True to override this.\n",
            "INFO:fbprophet:Disabling daily seasonality. Run prophet with daily_seasonality=True to override this.\n",
            "WARNING:fbprophet.models:Optimization terminated abnormally. Falling back to Newton.\n"
          ],
          "name": "stderr"
        },
        {
          "output_type": "execute_result",
          "data": {
            "text/plain": [
              "<fbprophet.forecaster.Prophet at 0x7f9464e31550>"
            ]
          },
          "metadata": {
            "tags": []
          },
          "execution_count": 16
        }
      ]
    },
    {
      "cell_type": "code",
      "metadata": {
        "id": "jpEfwKvcJ3PG",
        "colab": {
          "base_uri": "https://localhost:8080/",
          "height": 204
        },
        "outputId": "3ff474ef-0c95-4c8c-b8ca-7b74e63023d8"
      },
      "source": [
        "future = m.make_future_dataframe(periods=60)\n",
        "future.tail()"
      ],
      "execution_count": 17,
      "outputs": [
        {
          "output_type": "execute_result",
          "data": {
            "text/html": [
              "<div>\n",
              "<style scoped>\n",
              "    .dataframe tbody tr th:only-of-type {\n",
              "        vertical-align: middle;\n",
              "    }\n",
              "\n",
              "    .dataframe tbody tr th {\n",
              "        vertical-align: top;\n",
              "    }\n",
              "\n",
              "    .dataframe thead th {\n",
              "        text-align: right;\n",
              "    }\n",
              "</style>\n",
              "<table border=\"1\" class=\"dataframe\">\n",
              "  <thead>\n",
              "    <tr style=\"text-align: right;\">\n",
              "      <th></th>\n",
              "      <th>ds</th>\n",
              "    </tr>\n",
              "  </thead>\n",
              "  <tbody>\n",
              "    <tr>\n",
              "      <th>295</th>\n",
              "      <td>2020-12-24</td>\n",
              "    </tr>\n",
              "    <tr>\n",
              "      <th>296</th>\n",
              "      <td>2020-12-25</td>\n",
              "    </tr>\n",
              "    <tr>\n",
              "      <th>297</th>\n",
              "      <td>2020-12-26</td>\n",
              "    </tr>\n",
              "    <tr>\n",
              "      <th>298</th>\n",
              "      <td>2020-12-27</td>\n",
              "    </tr>\n",
              "    <tr>\n",
              "      <th>299</th>\n",
              "      <td>2020-12-28</td>\n",
              "    </tr>\n",
              "  </tbody>\n",
              "</table>\n",
              "</div>"
            ],
            "text/plain": [
              "            ds\n",
              "295 2020-12-24\n",
              "296 2020-12-25\n",
              "297 2020-12-26\n",
              "298 2020-12-27\n",
              "299 2020-12-28"
            ]
          },
          "metadata": {
            "tags": []
          },
          "execution_count": 17
        }
      ]
    },
    {
      "cell_type": "code",
      "metadata": {
        "id": "c2CNd-o2nWF9",
        "colab": {
          "base_uri": "https://localhost:8080/"
        },
        "outputId": "f198202a-5a77-408c-8b2a-cfb476050c9f"
      },
      "source": [
        "future.shape"
      ],
      "execution_count": 18,
      "outputs": [
        {
          "output_type": "execute_result",
          "data": {
            "text/plain": [
              "(300, 1)"
            ]
          },
          "metadata": {
            "tags": []
          },
          "execution_count": 18
        }
      ]
    },
    {
      "cell_type": "code",
      "metadata": {
        "id": "KU821BCbnYlp",
        "colab": {
          "base_uri": "https://localhost:8080/"
        },
        "outputId": "17919e5f-1929-4138-a6ac-a63468375a35"
      },
      "source": [
        "train_LA.shape"
      ],
      "execution_count": 19,
      "outputs": [
        {
          "output_type": "execute_result",
          "data": {
            "text/plain": [
              "(240, 17)"
            ]
          },
          "metadata": {
            "tags": []
          },
          "execution_count": 19
        }
      ]
    },
    {
      "cell_type": "code",
      "metadata": {
        "id": "ED03anLinhe5",
        "colab": {
          "base_uri": "https://localhost:8080/"
        },
        "outputId": "39d40c8d-e9d1-40f3-e2e6-2ea83bee4544"
      },
      "source": [
        "test_LA.shape"
      ],
      "execution_count": 20,
      "outputs": [
        {
          "output_type": "execute_result",
          "data": {
            "text/plain": [
              "(60, 17)"
            ]
          },
          "metadata": {
            "tags": []
          },
          "execution_count": 20
        }
      ]
    },
    {
      "cell_type": "code",
      "metadata": {
        "id": "bRkQFKOxnvNU",
        "colab": {
          "base_uri": "https://localhost:8080/"
        },
        "outputId": "cf994272-1f92-4430-b402-2d656fc97382"
      },
      "source": [
        "CA_labeledData_LA.shape"
      ],
      "execution_count": 21,
      "outputs": [
        {
          "output_type": "execute_result",
          "data": {
            "text/plain": [
              "(300, 17)"
            ]
          },
          "metadata": {
            "tags": []
          },
          "execution_count": 21
        }
      ]
    },
    {
      "cell_type": "code",
      "metadata": {
        "id": "jnNaZMdfDn1R"
      },
      "source": [
        "#future['County Name Label'] = CA_labeledData_LA['County Name Label']\n",
        "future['population'] = CA_labeledData_LA['population']\n",
        "future['mask_rule_active'] = CA_labeledData_LA['mask_rule_active']\n",
        "#future['m50'] = CA_labeledData_LA['m50']\n",
        "future['m50_index'] = CA_labeledData_LA['m50_index']\n",
        "future['retail_and_recreation_percent_change_from_baseline'] = CA_labeledData_LA['retail_and_recreation_percent_change_from_baseline']\n",
        "future['grocery_and_pharmacy_percent_change_from_baseline'] = CA_labeledData_LA['grocery_and_pharmacy_percent_change_from_baseline']\n",
        "future['parks_percent_change_from_baseline'] = CA_labeledData_LA['parks_percent_change_from_baseline']\n",
        "future['transit_stations_percent_change_from_baseline'] = CA_labeledData_LA['transit_stations_percent_change_from_baseline']\n",
        "future['workplaces_percent_change_from_baseline'] = CA_labeledData_LA['workplaces_percent_change_from_baseline']\n",
        "future['residential_percent_change_from_baseline'] = CA_labeledData_LA['residential_percent_change_from_baseline']"
      ],
      "execution_count": 22,
      "outputs": []
    },
    {
      "cell_type": "code",
      "metadata": {
        "id": "itmYT0fEJ3PM",
        "colab": {
          "base_uri": "https://localhost:8080/",
          "height": 309
        },
        "outputId": "4c065ce4-ae1e-45c1-9ae3-f354db642932"
      },
      "source": [
        "forecast = m.predict(future)\n",
        "forecast.tail()"
      ],
      "execution_count": 23,
      "outputs": [
        {
          "output_type": "execute_result",
          "data": {
            "text/html": [
              "<div>\n",
              "<style scoped>\n",
              "    .dataframe tbody tr th:only-of-type {\n",
              "        vertical-align: middle;\n",
              "    }\n",
              "\n",
              "    .dataframe tbody tr th {\n",
              "        vertical-align: top;\n",
              "    }\n",
              "\n",
              "    .dataframe thead th {\n",
              "        text-align: right;\n",
              "    }\n",
              "</style>\n",
              "<table border=\"1\" class=\"dataframe\">\n",
              "  <thead>\n",
              "    <tr style=\"text-align: right;\">\n",
              "      <th></th>\n",
              "      <th>ds</th>\n",
              "      <th>trend</th>\n",
              "      <th>yhat_lower</th>\n",
              "      <th>yhat_upper</th>\n",
              "      <th>trend_lower</th>\n",
              "      <th>trend_upper</th>\n",
              "      <th>additive_terms</th>\n",
              "      <th>additive_terms_lower</th>\n",
              "      <th>additive_terms_upper</th>\n",
              "      <th>extra_regressors_additive</th>\n",
              "      <th>extra_regressors_additive_lower</th>\n",
              "      <th>extra_regressors_additive_upper</th>\n",
              "      <th>grocery_and_pharmacy_percent_change_from_baseline</th>\n",
              "      <th>grocery_and_pharmacy_percent_change_from_baseline_lower</th>\n",
              "      <th>grocery_and_pharmacy_percent_change_from_baseline_upper</th>\n",
              "      <th>m50_index</th>\n",
              "      <th>m50_index_lower</th>\n",
              "      <th>m50_index_upper</th>\n",
              "      <th>mask_rule_active</th>\n",
              "      <th>mask_rule_active_lower</th>\n",
              "      <th>mask_rule_active_upper</th>\n",
              "      <th>parks_percent_change_from_baseline</th>\n",
              "      <th>parks_percent_change_from_baseline_lower</th>\n",
              "      <th>parks_percent_change_from_baseline_upper</th>\n",
              "      <th>population</th>\n",
              "      <th>population_lower</th>\n",
              "      <th>population_upper</th>\n",
              "      <th>residential_percent_change_from_baseline</th>\n",
              "      <th>residential_percent_change_from_baseline_lower</th>\n",
              "      <th>residential_percent_change_from_baseline_upper</th>\n",
              "      <th>retail_and_recreation_percent_change_from_baseline</th>\n",
              "      <th>retail_and_recreation_percent_change_from_baseline_lower</th>\n",
              "      <th>retail_and_recreation_percent_change_from_baseline_upper</th>\n",
              "      <th>transit_stations_percent_change_from_baseline</th>\n",
              "      <th>transit_stations_percent_change_from_baseline_lower</th>\n",
              "      <th>transit_stations_percent_change_from_baseline_upper</th>\n",
              "      <th>weekly</th>\n",
              "      <th>weekly_lower</th>\n",
              "      <th>weekly_upper</th>\n",
              "      <th>workplaces_percent_change_from_baseline</th>\n",
              "      <th>workplaces_percent_change_from_baseline_lower</th>\n",
              "      <th>workplaces_percent_change_from_baseline_upper</th>\n",
              "      <th>multiplicative_terms</th>\n",
              "      <th>multiplicative_terms_lower</th>\n",
              "      <th>multiplicative_terms_upper</th>\n",
              "      <th>yhat</th>\n",
              "    </tr>\n",
              "  </thead>\n",
              "  <tbody>\n",
              "    <tr>\n",
              "      <th>295</th>\n",
              "      <td>2020-12-24</td>\n",
              "      <td>1087.733180</td>\n",
              "      <td>1462.349839</td>\n",
              "      <td>2629.742619</td>\n",
              "      <td>1087.632038</td>\n",
              "      <td>1087.836765</td>\n",
              "      <td>961.731892</td>\n",
              "      <td>961.731892</td>\n",
              "      <td>961.731892</td>\n",
              "      <td>930.753245</td>\n",
              "      <td>930.753245</td>\n",
              "      <td>930.753245</td>\n",
              "      <td>-35.569817</td>\n",
              "      <td>-35.569817</td>\n",
              "      <td>-35.569817</td>\n",
              "      <td>49.057777</td>\n",
              "      <td>49.057777</td>\n",
              "      <td>49.057777</td>\n",
              "      <td>-195.33418</td>\n",
              "      <td>-195.33418</td>\n",
              "      <td>-195.33418</td>\n",
              "      <td>-122.990251</td>\n",
              "      <td>-122.990251</td>\n",
              "      <td>-122.990251</td>\n",
              "      <td>599.142436</td>\n",
              "      <td>599.142436</td>\n",
              "      <td>599.142436</td>\n",
              "      <td>641.944289</td>\n",
              "      <td>641.944289</td>\n",
              "      <td>641.944289</td>\n",
              "      <td>401.929337</td>\n",
              "      <td>401.929337</td>\n",
              "      <td>401.929337</td>\n",
              "      <td>96.567872</td>\n",
              "      <td>96.567872</td>\n",
              "      <td>96.567872</td>\n",
              "      <td>30.978647</td>\n",
              "      <td>30.978647</td>\n",
              "      <td>30.978647</td>\n",
              "      <td>-503.994219</td>\n",
              "      <td>-503.994219</td>\n",
              "      <td>-503.994219</td>\n",
              "      <td>0.0</td>\n",
              "      <td>0.0</td>\n",
              "      <td>0.0</td>\n",
              "      <td>2049.465072</td>\n",
              "    </tr>\n",
              "    <tr>\n",
              "      <th>296</th>\n",
              "      <td>2020-12-25</td>\n",
              "      <td>1091.483541</td>\n",
              "      <td>790.489723</td>\n",
              "      <td>1947.266232</td>\n",
              "      <td>1091.379181</td>\n",
              "      <td>1091.590060</td>\n",
              "      <td>270.526899</td>\n",
              "      <td>270.526899</td>\n",
              "      <td>270.526899</td>\n",
              "      <td>238.908130</td>\n",
              "      <td>238.908130</td>\n",
              "      <td>238.908130</td>\n",
              "      <td>-10.268228</td>\n",
              "      <td>-10.268228</td>\n",
              "      <td>-10.268228</td>\n",
              "      <td>40.338978</td>\n",
              "      <td>40.338978</td>\n",
              "      <td>40.338978</td>\n",
              "      <td>-195.33418</td>\n",
              "      <td>-195.33418</td>\n",
              "      <td>-195.33418</td>\n",
              "      <td>-359.446808</td>\n",
              "      <td>-359.446808</td>\n",
              "      <td>-359.446808</td>\n",
              "      <td>599.142436</td>\n",
              "      <td>599.142436</td>\n",
              "      <td>599.142436</td>\n",
              "      <td>-6.035102</td>\n",
              "      <td>-6.035102</td>\n",
              "      <td>-6.035102</td>\n",
              "      <td>134.915937</td>\n",
              "      <td>134.915937</td>\n",
              "      <td>134.915937</td>\n",
              "      <td>27.197565</td>\n",
              "      <td>27.197565</td>\n",
              "      <td>27.197565</td>\n",
              "      <td>31.618770</td>\n",
              "      <td>31.618770</td>\n",
              "      <td>31.618770</td>\n",
              "      <td>8.397531</td>\n",
              "      <td>8.397531</td>\n",
              "      <td>8.397531</td>\n",
              "      <td>0.0</td>\n",
              "      <td>0.0</td>\n",
              "      <td>0.0</td>\n",
              "      <td>1362.010440</td>\n",
              "    </tr>\n",
              "    <tr>\n",
              "      <th>297</th>\n",
              "      <td>2020-12-26</td>\n",
              "      <td>1095.233901</td>\n",
              "      <td>880.573483</td>\n",
              "      <td>1994.692361</td>\n",
              "      <td>1095.127369</td>\n",
              "      <td>1095.343228</td>\n",
              "      <td>348.646920</td>\n",
              "      <td>348.646920</td>\n",
              "      <td>348.646920</td>\n",
              "      <td>276.410656</td>\n",
              "      <td>276.410656</td>\n",
              "      <td>276.410656</td>\n",
              "      <td>-12.798387</td>\n",
              "      <td>-12.798387</td>\n",
              "      <td>-12.798387</td>\n",
              "      <td>47.314017</td>\n",
              "      <td>47.314017</td>\n",
              "      <td>47.314017</td>\n",
              "      <td>-195.33418</td>\n",
              "      <td>-195.33418</td>\n",
              "      <td>-195.33418</td>\n",
              "      <td>-260.923243</td>\n",
              "      <td>-260.923243</td>\n",
              "      <td>-260.923243</td>\n",
              "      <td>599.142436</td>\n",
              "      <td>599.142436</td>\n",
              "      <td>599.142436</td>\n",
              "      <td>-120.384407</td>\n",
              "      <td>-120.384407</td>\n",
              "      <td>-120.384407</td>\n",
              "      <td>99.314151</td>\n",
              "      <td>99.314151</td>\n",
              "      <td>99.314151</td>\n",
              "      <td>20.590869</td>\n",
              "      <td>20.590869</td>\n",
              "      <td>20.590869</td>\n",
              "      <td>72.236265</td>\n",
              "      <td>72.236265</td>\n",
              "      <td>72.236265</td>\n",
              "      <td>99.489398</td>\n",
              "      <td>99.489398</td>\n",
              "      <td>99.489398</td>\n",
              "      <td>0.0</td>\n",
              "      <td>0.0</td>\n",
              "      <td>0.0</td>\n",
              "      <td>1443.880822</td>\n",
              "    </tr>\n",
              "    <tr>\n",
              "      <th>298</th>\n",
              "      <td>2020-12-27</td>\n",
              "      <td>1098.984262</td>\n",
              "      <td>657.967968</td>\n",
              "      <td>1742.492196</td>\n",
              "      <td>1098.875206</td>\n",
              "      <td>1099.096728</td>\n",
              "      <td>118.113583</td>\n",
              "      <td>118.113583</td>\n",
              "      <td>118.113583</td>\n",
              "      <td>148.458149</td>\n",
              "      <td>148.458149</td>\n",
              "      <td>148.458149</td>\n",
              "      <td>-6.472990</td>\n",
              "      <td>-6.472990</td>\n",
              "      <td>-6.472990</td>\n",
              "      <td>47.314017</td>\n",
              "      <td>47.314017</td>\n",
              "      <td>47.314017</td>\n",
              "      <td>-195.33418</td>\n",
              "      <td>-195.33418</td>\n",
              "      <td>-195.33418</td>\n",
              "      <td>-280.627956</td>\n",
              "      <td>-280.627956</td>\n",
              "      <td>-280.627956</td>\n",
              "      <td>599.142436</td>\n",
              "      <td>599.142436</td>\n",
              "      <td>599.142436</td>\n",
              "      <td>70.197767</td>\n",
              "      <td>70.197767</td>\n",
              "      <td>70.197767</td>\n",
              "      <td>-7.491209</td>\n",
              "      <td>-7.491209</td>\n",
              "      <td>-7.491209</td>\n",
              "      <td>27.197565</td>\n",
              "      <td>27.197565</td>\n",
              "      <td>27.197565</td>\n",
              "      <td>-30.344567</td>\n",
              "      <td>-30.344567</td>\n",
              "      <td>-30.344567</td>\n",
              "      <td>-105.467302</td>\n",
              "      <td>-105.467302</td>\n",
              "      <td>-105.467302</td>\n",
              "      <td>0.0</td>\n",
              "      <td>0.0</td>\n",
              "      <td>0.0</td>\n",
              "      <td>1217.097845</td>\n",
              "    </tr>\n",
              "    <tr>\n",
              "      <th>299</th>\n",
              "      <td>2020-12-28</td>\n",
              "      <td>1102.734623</td>\n",
              "      <td>734.853122</td>\n",
              "      <td>1926.765150</td>\n",
              "      <td>1102.621729</td>\n",
              "      <td>1102.849836</td>\n",
              "      <td>171.471844</td>\n",
              "      <td>171.471844</td>\n",
              "      <td>171.471844</td>\n",
              "      <td>246.868054</td>\n",
              "      <td>246.868054</td>\n",
              "      <td>246.868054</td>\n",
              "      <td>-5.207910</td>\n",
              "      <td>-5.207910</td>\n",
              "      <td>-5.207910</td>\n",
              "      <td>47.314017</td>\n",
              "      <td>47.314017</td>\n",
              "      <td>47.314017</td>\n",
              "      <td>-195.33418</td>\n",
              "      <td>-195.33418</td>\n",
              "      <td>-195.33418</td>\n",
              "      <td>-280.627956</td>\n",
              "      <td>-280.627956</td>\n",
              "      <td>-280.627956</td>\n",
              "      <td>599.142436</td>\n",
              "      <td>599.142436</td>\n",
              "      <td>599.142436</td>\n",
              "      <td>146.430637</td>\n",
              "      <td>146.430637</td>\n",
              "      <td>146.430637</td>\n",
              "      <td>28.110577</td>\n",
              "      <td>28.110577</td>\n",
              "      <td>28.110577</td>\n",
              "      <td>23.894217</td>\n",
              "      <td>23.894217</td>\n",
              "      <td>23.894217</td>\n",
              "      <td>-75.396210</td>\n",
              "      <td>-75.396210</td>\n",
              "      <td>-75.396210</td>\n",
              "      <td>-116.853785</td>\n",
              "      <td>-116.853785</td>\n",
              "      <td>-116.853785</td>\n",
              "      <td>0.0</td>\n",
              "      <td>0.0</td>\n",
              "      <td>0.0</td>\n",
              "      <td>1274.206466</td>\n",
              "    </tr>\n",
              "  </tbody>\n",
              "</table>\n",
              "</div>"
            ],
            "text/plain": [
              "            ds        trend  ...  multiplicative_terms_upper         yhat\n",
              "295 2020-12-24  1087.733180  ...                         0.0  2049.465072\n",
              "296 2020-12-25  1091.483541  ...                         0.0  1362.010440\n",
              "297 2020-12-26  1095.233901  ...                         0.0  1443.880822\n",
              "298 2020-12-27  1098.984262  ...                         0.0  1217.097845\n",
              "299 2020-12-28  1102.734623  ...                         0.0  1274.206466\n",
              "\n",
              "[5 rows x 46 columns]"
            ]
          },
          "metadata": {
            "tags": []
          },
          "execution_count": 23
        }
      ]
    },
    {
      "cell_type": "code",
      "metadata": {
        "id": "1oTKWtylJ3PP",
        "colab": {
          "base_uri": "https://localhost:8080/",
          "height": 441
        },
        "outputId": "f7a26858-2b73-492b-bcfe-fb78b0ac866c"
      },
      "source": [
        "fig1 = m.plot(forecast)"
      ],
      "execution_count": 24,
      "outputs": [
        {
          "output_type": "display_data",
          "data": {
            "image/png": "[encoded data removed]",
            "text/plain": [
              "<Figure size 720x432 with 1 Axes>"
            ]
          },
          "metadata": {
            "tags": []
          }
        }
      ]
    },
    {
      "cell_type": "code",
      "metadata": {
        "id": "VhtJDc_jJ3PR",
        "colab": {
          "base_uri": "https://localhost:8080/",
          "height": 657
        },
        "outputId": "90e818b2-ad7f-4df6-9189-c9508f8630a0"
      },
      "source": [
        "fig2 = m.plot_components(forecast)"
      ],
      "execution_count": 25,
      "outputs": [
        {
          "output_type": "display_data",
          "data": {
            "image/png": "[encoded data removed]",
            "text/plain": [
              "<Figure size 648x648 with 3 Axes>"
            ]
          },
          "metadata": {
            "tags": []
          }
        }
      ]
    },
    {
      "cell_type": "code",
      "metadata": {
        "id": "xSQkxYFWJ3PV",
        "colab": {
          "base_uri": "https://localhost:8080/",
          "height": 617
        },
        "outputId": "51f3b3f7-18e8-4630-94d5-a188703a368f"
      },
      "source": [
        "plot_components_plotly(m, forecast)"
      ],
      "execution_count": 26,
      "outputs": [
        {
          "output_type": "display_data",
          "data": {
            "text/html": [
              "<html>\n",
              "<head><meta charset=\"utf-8\" /></head>\n",
              "<body>\n",
              "    <div>\n",
              "            <script src=\"https://cdnjs.cloudflare.com/ajax/libs/mathjax/2.7.5/MathJax.js?config=TeX-AMS-MML_SVG\"></script><script type=\"text/javascript\">if (window.MathJax) {MathJax.Hub.Config({SVG: {font: \"STIX-Web\"}});}</script>\n",
              "                <script type=\"text/javascript\">window.PlotlyConfig = {MathJaxConfig: 'local'};</script>\n",
              "        <script src=\"https://cdn.plot.ly/plotly-latest.min.js\"></script>    \n",
              "            <div id=\"2276d390-3946-438a-acf3-30a10017a5cc\" class=\"plotly-graph-div\" style=\"height:600px; width:900px;\"></div>\n",
              "            <script type=\"text/javascript\">\n",
              "                \n",
              "                    window.PLOTLYENV=window.PLOTLYENV || {};\n",
              "                    \n",
              "                if (document.getElementById(\"2276d390-3946-438a-acf3-30a10017a5cc\")) {\n",
              "                    Plotly.newPlot(\n",
              "                        '2276d390-3946-438a-acf3-30a10017a5cc',\n",
              "                        [{\"line\": {\"color\": \"#0072B2\", \"width\": 2}, \"mode\": \"lines\", \"name\": \"trend\", \"type\": \"scatter\", \"x\": [\"2020-03-01T00:00:00\", \"2020-03-02T00:00:00\", \"2020-03-03T00:00:00\", \"2020-03-04T00:00:00\", \"2020-03-05T00:00:00\", \"2020-03-06T00:00:00\", \"2020-03-07T00:00:00\", \"2020-03-08T00:00:00\", \"2020-03-09T00:00:00\", \"2020-03-10T00:00:00\", \"2020-03-11T00:00:00\", \"2020-03-12T00:00:00\", \"2020-03-13T00:00:00\", \"2020-03-14T00:00:00\", \"2020-03-15T00:00:00\", \"2020-03-16T00:00:00\", \"2020-03-17T00:00:00\", \"2020-03-18T00:00:00\", \"2020-03-19T00:00:00\", \"2020-03-20T00:00:00\", \"2020-03-21T00:00:00\", \"2020-03-22T00:00:00\", \"2020-03-23T00:00:00\", \"2020-03-24T00:00:00\", \"2020-03-25T00:00:00\", \"2020-03-26T00:00:00\", \"2020-03-27T00:00:00\", \"2020-03-28T00:00:00\", \"2020-03-29T00:00:00\", \"2020-03-30T00:00:00\", \"2020-03-31T00:00:00\", \"2020-04-01T00:00:00\", \"2020-04-02T00:00:00\", \"2020-04-03T00:00:00\", \"2020-04-04T00:00:00\", \"2020-04-05T00:00:00\", \"2020-04-06T00:00:00\", \"2020-04-07T00:00:00\", \"2020-04-08T00:00:00\", \"2020-04-09T00:00:00\", \"2020-04-10T00:00:00\", \"2020-04-11T00:00:00\", \"2020-04-12T00:00:00\", \"2020-04-13T00:00:00\", \"2020-04-14T00:00:00\", \"2020-04-15T00:00:00\", \"2020-04-16T00:00:00\", \"2020-04-17T00:00:00\", \"2020-04-18T00:00:00\", \"2020-04-19T00:00:00\", \"2020-04-21T00:00:00\", \"2020-04-22T00:00:00\", \"2020-04-23T00:00:00\", \"2020-04-24T00:00:00\", \"2020-04-25T00:00:00\", \"2020-04-26T00:00:00\", \"2020-04-27T00:00:00\", \"2020-04-28T00:00:00\", \"2020-04-29T00:00:00\", \"2020-04-30T00:00:00\", \"2020-05-01T00:00:00\", \"2020-05-02T00:00:00\", \"2020-05-03T00:00:00\", \"2020-05-04T00:00:00\", \"2020-05-05T00:00:00\", \"2020-05-06T00:00:00\", \"2020-05-07T00:00:00\", \"2020-05-08T00:00:00\", \"2020-05-09T00:00:00\", \"2020-05-10T00:00:00\", \"2020-05-11T00:00:00\", \"2020-05-12T00:00:00\", \"2020-05-13T00:00:00\", \"2020-05-14T00:00:00\", \"2020-05-15T00:00:00\", \"2020-05-16T00:00:00\", \"2020-05-17T00:00:00\", \"2020-05-18T00:00:00\", \"2020-05-19T00:00:00\", \"2020-05-20T00:00:00\", \"2020-05-21T00:00:00\", \"2020-05-22T00:00:00\", \"2020-05-23T00:00:00\", \"2020-05-24T00:00:00\", \"2020-05-25T00:00:00\", \"2020-05-26T00:00:00\", \"2020-05-27T00:00:00\", \"2020-05-28T00:00:00\", \"2020-05-30T00:00:00\", \"2020-05-31T00:00:00\", \"2020-06-01T00:00:00\", \"2020-06-02T00:00:00\", \"2020-06-03T00:00:00\", \"2020-06-04T00:00:00\", \"2020-06-05T00:00:00\", \"2020-06-06T00:00:00\", \"2020-06-07T00:00:00\", \"2020-06-08T00:00:00\", \"2020-06-09T00:00:00\", \"2020-06-10T00:00:00\", \"2020-06-11T00:00:00\", \"2020-06-12T00:00:00\", \"2020-06-13T00:00:00\", \"2020-06-14T00:00:00\", \"2020-06-15T00:00:00\", \"2020-06-16T00:00:00\", \"2020-06-17T00:00:00\", \"2020-06-18T00:00:00\", \"2020-06-19T00:00:00\", \"2020-06-20T00:00:00\", \"2020-06-21T00:00:00\", \"2020-06-22T00:00:00\", \"2020-06-23T00:00:00\", \"2020-06-24T00:00:00\", \"2020-06-25T00:00:00\", \"2020-06-26T00:00:00\", \"2020-06-27T00:00:00\", \"2020-06-28T00:00:00\", \"2020-06-29T00:00:00\", \"2020-06-30T00:00:00\", \"2020-07-01T00:00:00\", \"2020-07-02T00:00:00\", \"2020-07-03T00:00:00\", \"2020-07-04T00:00:00\", \"2020-07-05T00:00:00\", \"2020-07-06T00:00:00\", \"2020-07-07T00:00:00\", \"2020-07-08T00:00:00\", \"2020-07-09T00:00:00\", \"2020-07-10T00:00:00\", \"2020-07-11T00:00:00\", \"2020-07-12T00:00:00\", \"2020-07-13T00:00:00\", \"2020-07-14T00:00:00\", \"2020-07-15T00:00:00\", \"2020-07-16T00:00:00\", \"2020-07-17T00:00:00\", \"2020-07-18T00:00:00\", \"2020-07-19T00:00:00\", \"2020-07-20T00:00:00\", \"2020-07-21T00:00:00\", \"2020-07-22T00:00:00\", \"2020-07-23T00:00:00\", \"2020-07-24T00:00:00\", \"2020-07-25T00:00:00\", \"2020-07-26T00:00:00\", \"2020-07-27T00:00:00\", \"2020-07-28T00:00:00\", \"2020-07-29T00:00:00\", \"2020-07-30T00:00:00\", \"2020-07-31T00:00:00\", \"2020-08-01T00:00:00\", \"2020-08-02T00:00:00\", \"2020-08-03T00:00:00\", \"2020-08-04T00:00:00\", \"2020-08-05T00:00:00\", \"2020-08-06T00:00:00\", \"2020-08-07T00:00:00\", \"2020-08-08T00:00:00\", \"2020-08-09T00:00:00\", \"2020-08-10T00:00:00\", \"2020-08-11T00:00:00\", \"2020-08-12T00:00:00\", \"2020-08-13T00:00:00\", \"2020-08-14T00:00:00\", \"2020-08-15T00:00:00\", \"2020-08-16T00:00:00\", \"2020-08-17T00:00:00\", \"2020-08-18T00:00:00\", \"2020-08-19T00:00:00\", \"2020-08-20T00:00:00\", \"2020-08-21T00:00:00\", \"2020-08-22T00:00:00\", \"2020-08-23T00:00:00\", \"2020-08-24T00:00:00\", \"2020-08-25T00:00:00\", \"2020-08-26T00:00:00\", \"2020-08-27T00:00:00\", \"2020-08-28T00:00:00\", \"2020-08-29T00:00:00\", \"2020-08-30T00:00:00\", \"2020-08-31T00:00:00\", \"2020-09-01T00:00:00\", \"2020-09-02T00:00:00\", \"2020-09-03T00:00:00\", \"2020-09-04T00:00:00\", \"2020-09-05T00:00:00\", \"2020-09-06T00:00:00\", \"2020-09-07T00:00:00\", \"2020-09-08T00:00:00\", \"2020-09-09T00:00:00\", \"2020-09-10T00:00:00\", \"2020-09-11T00:00:00\", \"2020-09-12T00:00:00\", \"2020-09-13T00:00:00\", \"2020-09-14T00:00:00\", \"2020-09-15T00:00:00\", \"2020-09-16T00:00:00\", \"2020-09-17T00:00:00\", \"2020-09-18T00:00:00\", \"2020-09-19T00:00:00\", \"2020-09-20T00:00:00\", \"2020-09-21T00:00:00\", \"2020-09-22T00:00:00\", \"2020-09-23T00:00:00\", \"2020-09-24T00:00:00\", \"2020-09-25T00:00:00\", \"2020-09-26T00:00:00\", \"2020-09-27T00:00:00\", \"2020-09-28T00:00:00\", \"2020-09-29T00:00:00\", \"2020-09-30T00:00:00\", \"2020-10-01T00:00:00\", \"2020-10-02T00:00:00\", \"2020-10-03T00:00:00\", \"2020-10-04T00:00:00\", \"2020-10-05T00:00:00\", \"2020-10-06T00:00:00\", \"2020-10-07T00:00:00\", \"2020-10-09T00:00:00\", \"2020-10-10T00:00:00\", \"2020-10-11T00:00:00\", \"2020-10-12T00:00:00\", \"2020-10-13T00:00:00\", \"2020-10-14T00:00:00\", \"2020-10-15T00:00:00\", \"2020-10-16T00:00:00\", \"2020-10-17T00:00:00\", \"2020-10-18T00:00:00\", \"2020-10-19T00:00:00\", \"2020-10-20T00:00:00\", \"2020-10-21T00:00:00\", \"2020-10-22T00:00:00\", \"2020-10-23T00:00:00\", \"2020-10-24T00:00:00\", \"2020-10-25T00:00:00\", \"2020-10-26T00:00:00\", \"2020-10-27T00:00:00\", \"2020-10-28T00:00:00\", \"2020-10-29T00:00:00\", \"2020-10-30T00:00:00\", \"2020-10-31T00:00:00\", \"2020-11-01T00:00:00\", \"2020-11-02T00:00:00\", \"2020-11-03T00:00:00\", \"2020-11-04T00:00:00\", \"2020-11-05T00:00:00\", \"2020-11-06T00:00:00\", \"2020-11-07T00:00:00\", \"2020-11-08T00:00:00\", \"2020-11-09T00:00:00\", \"2020-11-10T00:00:00\", \"2020-11-11T00:00:00\", \"2020-11-12T00:00:00\", \"2020-11-13T00:00:00\", \"2020-11-14T00:00:00\", \"2020-11-15T00:00:00\", \"2020-11-16T00:00:00\", \"2020-11-17T00:00:00\", \"2020-11-18T00:00:00\", \"2020-11-19T00:00:00\", \"2020-11-20T00:00:00\", \"2020-11-21T00:00:00\", \"2020-11-22T00:00:00\", \"2020-11-23T00:00:00\", \"2020-11-24T00:00:00\", \"2020-11-25T00:00:00\", \"2020-11-26T00:00:00\", \"2020-11-27T00:00:00\", \"2020-11-28T00:00:00\", \"2020-11-29T00:00:00\", \"2020-11-30T00:00:00\", \"2020-12-01T00:00:00\", \"2020-12-02T00:00:00\", \"2020-12-03T00:00:00\", \"2020-12-04T00:00:00\", \"2020-12-05T00:00:00\", \"2020-12-06T00:00:00\", \"2020-12-07T00:00:00\", \"2020-12-08T00:00:00\", \"2020-12-09T00:00:00\", \"2020-12-10T00:00:00\", \"2020-12-11T00:00:00\", \"2020-12-12T00:00:00\", \"2020-12-13T00:00:00\", \"2020-12-14T00:00:00\", \"2020-12-15T00:00:00\", \"2020-12-16T00:00:00\", \"2020-12-17T00:00:00\", \"2020-12-18T00:00:00\", \"2020-12-19T00:00:00\", \"2020-12-20T00:00:00\", \"2020-12-21T00:00:00\", \"2020-12-22T00:00:00\", \"2020-12-23T00:00:00\", \"2020-12-24T00:00:00\", \"2020-12-25T00:00:00\", \"2020-12-26T00:00:00\", \"2020-12-27T00:00:00\", \"2020-12-28T00:00:00\"], \"xaxis\": \"x\", \"y\": [-31.616595053949624, -27.84681330294629, -24.07703155194296, -20.307249800939623, -16.537468049936294, -12.76768629893296, -8.997904547929627, -5.228122796926293, -1.4583410459229629, 2.310641239359379, 6.079623524641721, 9.848605809924063, 13.617588095206413, 17.386570380488756, 21.155552665771097, 24.924534951053445, 28.6927169398378, 32.460898928622164, 36.22908091740653, 39.99726290619088, 43.76544489497525, 47.5336268837596, 51.30180887254397, 55.06999086132832, 58.83736267300185, 62.6047344846754, 66.37210629634893, 70.13947810802247, 73.906849919696, 77.67422173136953, 81.44159354304308, 85.2089653547166, 88.9754940314755, 92.7420227082344, 96.50855138499331, 100.27508006175219, 104.0416087385111, 107.80813741527, 111.5746660920289, 115.34032565363069, 119.10598521523245, 122.87164477683422, 126.637304338436, 130.40296390003778, 134.16862346163953, 137.9342830232413, 141.69994258484306, 145.46471134759958, 149.22948011035606, 152.99424887311253, 160.5237863986255, 164.288555161382, 168.05332392413848, 171.81809268689494, 175.58194753001334, 179.34580237313176, 183.10965721625016, 186.87351205936855, 190.63736690248695, 194.40122174560537, 198.16507658872376, 201.9289314318422, 205.6918579186232, 209.45478440540427, 213.21771089218527, 216.98063737896632, 220.74356386574738, 224.50649035252843, 228.2694168393094, 232.03234332609043, 235.79433429157365, 239.55632525705676, 243.3183162225399, 247.08030718802303, 250.8422981535062, 254.60428911898933, 258.36628008447246, 262.1273287873066, 265.8883774901408, 269.649426192975, 273.41047489580916, 277.1715235986433, 280.9325723014775, 284.69362100431164, 288.4546697071458, 292.2147643456309, 295.974858984116, 299.7349536226011, 307.25514289957135, 311.0152375380564, 314.77533217654155, 318.53542681502665, 322.29552145351175, 326.0546450984139, 329.81376874331596, 333.57289238821807, 337.33201603312017, 341.09113967802233, 344.85026332292443, 348.6093869678265, 352.3675327361876, 356.1256785045489, 359.88382427291003, 363.6419700412712, 367.4001158096323, 371.1582615779936, 374.91640734635473, 378.6745531147158, 382.4317186535003, 386.18888419228483, 389.9460497310693, 393.7032152698538, 397.46038080863826, 401.2175463474228, 404.9747118862072, 408.73187742499175, 412.4880748459155, 416.2442722668394, 420.0004696877632, 423.756667108687, 427.51286452961085, 431.26906195053465, 435.02525937145845, 438.78051996453576, 442.5357805576132, 446.29104115069055, 450.0463017437678, 453.80156233684517, 457.55682292992253, 461.31208352299984, 465.06734411607715, 468.82171019917104, 472.57607628226503, 476.3304423653589, 480.08480844845275, 483.83917453154663, 487.59354061464046, 491.34790669773435, 495.1022727808283, 498.85581102427693, 502.6093492677257, 506.3628875111744, 510.11642575462304, 513.8699639980716, 517.6235022415203, 521.3770404849689, 525.1298254208122, 528.8826103566554, 532.6353952924987, 536.388180228342, 540.1409651641852, 543.8937501000285, 547.6465350358717, 551.3993199717149, 555.1514501438642, 558.9035803160136, 562.6557104881631, 566.4078406603124, 570.1599708324618, 573.912101004611, 577.6642311767606, 581.415802128735, 585.1673730807095, 588.918944032684, 592.6705149846586, 596.422085936633, 600.1736568886075, 603.9252278405819, 607.6767987925565, 611.4279171563511, 615.1790355201458, 618.9301538839404, 622.6812722477353, 626.43239061153, 630.1835089753246, 633.9346273391193, 637.6857457029138, 641.4365185126597, 645.1872913224056, 648.9380641321516, 652.6888369418976, 656.4396097516435, 660.1903825613894, 663.9411553711354, 667.6916744724899, 671.4421935738446, 675.1927126751991, 678.9432317765536, 682.6937508779084, 686.4442699792629, 690.1947890806175, 693.9453081819721, 697.6956688661957, 701.4460295504193, 705.1963902346429, 708.9467509188664, 712.6971116030901, 716.4474722873136, 720.1978329715373, 723.9481936557609, 727.6985543399844, 731.448915024208, 735.1992757084315, 738.9496363926552, 742.6999970768787, 746.4503577611024, 750.200718445326, 753.9510791295495, 757.701439813773, 761.4518004979966, 765.2021611822202, 768.9525218664437, 772.7028825506675, 776.453243234891, 780.2036039191146, 783.9539646033382, 787.7043252875618, 791.4546859717854, 795.2050466560089, 802.7057680244561, 806.4561287086797, 810.2064893929032, 813.9568500771268, 817.7072107613503, 821.4575714455741, 825.2079321297977, 828.9582928140212, 832.7086534982449, 836.4590141824684, 840.209374866692, 843.9597355509155, 847.7100962351391, 851.4604569193626, 855.2108176035862, 858.9611782878098, 862.7115389720335, 866.4618996562571, 870.2122603404807, 873.9626210247043, 877.7129817089278, 881.4633423931515, 885.2137030773749, 888.9640637615986, 892.714424445822, 896.4647851300457, 900.2151458142692, 903.9655064984929, 907.7158671827164, 911.46622786694, 915.2165885511637, 918.9669492353871, 922.7173099196109, 926.4676706038343, 930.218031288058, 933.9683919722816, 937.7187526565052, 941.4691133407288, 945.2194740249523, 948.969834709176, 952.7201953933994, 956.4705560776231, 960.2209167618465, 963.9712774460702, 967.7216381302936, 971.4719988145173, 975.2223594987411, 978.9727201829646, 982.7230808671883, 986.4734415514117, 990.2238022356354, 993.9741629198588, 997.7245236040825, 1001.4748842883062, 1005.2252449725296, 1008.9756056567533, 1012.7259663409768, 1016.4763270252004, 1020.2266877094239, 1023.9770483936477, 1027.727409077871, 1031.4777697620948, 1035.2281304463183, 1038.978491130542, 1042.7288518147654, 1046.479212498989, 1050.2295731832128, 1053.9799338674363, 1057.7302945516599, 1061.4806552358834, 1065.231015920107, 1068.9813766043308, 1072.731737288554, 1076.4820979727779, 1080.2324586570012, 1083.982819341225, 1087.7331800254485, 1091.483540709672, 1095.2339013938956, 1098.9842620781194, 1102.734622762343], \"yaxis\": \"y\"}, {\"line\": {\"color\": \"rgba(0, 114, 178, 0.2)\", \"width\": 0}, \"mode\": \"lines\", \"name\": \"trend_upper\", \"type\": \"scatter\", \"x\": [\"2020-03-01T00:00:00\", \"2020-03-02T00:00:00\", \"2020-03-03T00:00:00\", \"2020-03-04T00:00:00\", \"2020-03-05T00:00:00\", \"2020-03-06T00:00:00\", \"2020-03-07T00:00:00\", \"2020-03-08T00:00:00\", \"2020-03-09T00:00:00\", \"2020-03-10T00:00:00\", \"2020-03-11T00:00:00\", \"2020-03-12T00:00:00\", \"2020-03-13T00:00:00\", \"2020-03-14T00:00:00\", \"2020-03-15T00:00:00\", \"2020-03-16T00:00:00\", \"2020-03-17T00:00:00\", \"2020-03-18T00:00:00\", \"2020-03-19T00:00:00\", \"2020-03-20T00:00:00\", \"2020-03-21T00:00:00\", \"2020-03-22T00:00:00\", \"2020-03-23T00:00:00\", \"2020-03-24T00:00:00\", \"2020-03-25T00:00:00\", \"2020-03-26T00:00:00\", \"2020-03-27T00:00:00\", \"2020-03-28T00:00:00\", \"2020-03-29T00:00:00\", \"2020-03-30T00:00:00\", \"2020-03-31T00:00:00\", \"2020-04-01T00:00:00\", \"2020-04-02T00:00:00\", \"2020-04-03T00:00:00\", \"2020-04-04T00:00:00\", \"2020-04-05T00:00:00\", \"2020-04-06T00:00:00\", \"2020-04-07T00:00:00\", \"2020-04-08T00:00:00\", \"2020-04-09T00:00:00\", \"2020-04-10T00:00:00\", \"2020-04-11T00:00:00\", \"2020-04-12T00:00:00\", \"2020-04-13T00:00:00\", \"2020-04-14T00:00:00\", \"2020-04-15T00:00:00\", \"2020-04-16T00:00:00\", \"2020-04-17T00:00:00\", \"2020-04-18T00:00:00\", \"2020-04-19T00:00:00\", \"2020-04-21T00:00:00\", \"2020-04-22T00:00:00\", \"2020-04-23T00:00:00\", \"2020-04-24T00:00:00\", \"2020-04-25T00:00:00\", \"2020-04-26T00:00:00\", \"2020-04-27T00:00:00\", \"2020-04-28T00:00:00\", \"2020-04-29T00:00:00\", \"2020-04-30T00:00:00\", \"2020-05-01T00:00:00\", \"2020-05-02T00:00:00\", \"2020-05-03T00:00:00\", \"2020-05-04T00:00:00\", \"2020-05-05T00:00:00\", \"2020-05-06T00:00:00\", \"2020-05-07T00:00:00\", \"2020-05-08T00:00:00\", \"2020-05-09T00:00:00\", \"2020-05-10T00:00:00\", \"2020-05-11T00:00:00\", \"2020-05-12T00:00:00\", \"2020-05-13T00:00:00\", \"2020-05-14T00:00:00\", \"2020-05-15T00:00:00\", \"2020-05-16T00:00:00\", \"2020-05-17T00:00:00\", \"2020-05-18T00:00:00\", \"2020-05-19T00:00:00\", \"2020-05-20T00:00:00\", \"2020-05-21T00:00:00\", \"2020-05-22T00:00:00\", \"2020-05-23T00:00:00\", \"2020-05-24T00:00:00\", \"2020-05-25T00:00:00\", \"2020-05-26T00:00:00\", \"2020-05-27T00:00:00\", \"2020-05-28T00:00:00\", \"2020-05-30T00:00:00\", \"2020-05-31T00:00:00\", \"2020-06-01T00:00:00\", \"2020-06-02T00:00:00\", \"2020-06-03T00:00:00\", \"2020-06-04T00:00:00\", \"2020-06-05T00:00:00\", \"2020-06-06T00:00:00\", \"2020-06-07T00:00:00\", \"2020-06-08T00:00:00\", \"2020-06-09T00:00:00\", \"2020-06-10T00:00:00\", \"2020-06-11T00:00:00\", \"2020-06-12T00:00:00\", \"2020-06-13T00:00:00\", \"2020-06-14T00:00:00\", \"2020-06-15T00:00:00\", \"2020-06-16T00:00:00\", \"2020-06-17T00:00:00\", \"2020-06-18T00:00:00\", \"2020-06-19T00:00:00\", \"2020-06-20T00:00:00\", \"2020-06-21T00:00:00\", \"2020-06-22T00:00:00\", \"2020-06-23T00:00:00\", \"2020-06-24T00:00:00\", \"2020-06-25T00:00:00\", \"2020-06-26T00:00:00\", \"2020-06-27T00:00:00\", \"2020-06-28T00:00:00\", \"2020-06-29T00:00:00\", \"2020-06-30T00:00:00\", \"2020-07-01T00:00:00\", \"2020-07-02T00:00:00\", \"2020-07-03T00:00:00\", \"2020-07-04T00:00:00\", \"2020-07-05T00:00:00\", \"2020-07-06T00:00:00\", \"2020-07-07T00:00:00\", \"2020-07-08T00:00:00\", \"2020-07-09T00:00:00\", \"2020-07-10T00:00:00\", \"2020-07-11T00:00:00\", \"2020-07-12T00:00:00\", \"2020-07-13T00:00:00\", \"2020-07-14T00:00:00\", \"2020-07-15T00:00:00\", \"2020-07-16T00:00:00\", \"2020-07-17T00:00:00\", \"2020-07-18T00:00:00\", \"2020-07-19T00:00:00\", \"2020-07-20T00:00:00\", \"2020-07-21T00:00:00\", \"2020-07-22T00:00:00\", \"2020-07-23T00:00:00\", \"2020-07-24T00:00:00\", \"2020-07-25T00:00:00\", \"2020-07-26T00:00:00\", \"2020-07-27T00:00:00\", \"2020-07-28T00:00:00\", \"2020-07-29T00:00:00\", \"2020-07-30T00:00:00\", \"2020-07-31T00:00:00\", \"2020-08-01T00:00:00\", \"2020-08-02T00:00:00\", \"2020-08-03T00:00:00\", \"2020-08-04T00:00:00\", \"2020-08-05T00:00:00\", \"2020-08-06T00:00:00\", \"2020-08-07T00:00:00\", \"2020-08-08T00:00:00\", \"2020-08-09T00:00:00\", \"2020-08-10T00:00:00\", \"2020-08-11T00:00:00\", \"2020-08-12T00:00:00\", \"2020-08-13T00:00:00\", \"2020-08-14T00:00:00\", \"2020-08-15T00:00:00\", \"2020-08-16T00:00:00\", \"2020-08-17T00:00:00\", \"2020-08-18T00:00:00\", \"2020-08-19T00:00:00\", \"2020-08-20T00:00:00\", \"2020-08-21T00:00:00\", \"2020-08-22T00:00:00\", \"2020-08-23T00:00:00\", \"2020-08-24T00:00:00\", \"2020-08-25T00:00:00\", \"2020-08-26T00:00:00\", \"2020-08-27T00:00:00\", \"2020-08-28T00:00:00\", \"2020-08-29T00:00:00\", \"2020-08-30T00:00:00\", \"2020-08-31T00:00:00\", \"2020-09-01T00:00:00\", \"2020-09-02T00:00:00\", \"2020-09-03T00:00:00\", \"2020-09-04T00:00:00\", \"2020-09-05T00:00:00\", \"2020-09-06T00:00:00\", \"2020-09-07T00:00:00\", \"2020-09-08T00:00:00\", \"2020-09-09T00:00:00\", \"2020-09-10T00:00:00\", \"2020-09-11T00:00:00\", \"2020-09-12T00:00:00\", \"2020-09-13T00:00:00\", \"2020-09-14T00:00:00\", \"2020-09-15T00:00:00\", \"2020-09-16T00:00:00\", \"2020-09-17T00:00:00\", \"2020-09-18T00:00:00\", \"2020-09-19T00:00:00\", \"2020-09-20T00:00:00\", \"2020-09-21T00:00:00\", \"2020-09-22T00:00:00\", \"2020-09-23T00:00:00\", \"2020-09-24T00:00:00\", \"2020-09-25T00:00:00\", \"2020-09-26T00:00:00\", \"2020-09-27T00:00:00\", \"2020-09-28T00:00:00\", \"2020-09-29T00:00:00\", \"2020-09-30T00:00:00\", \"2020-10-01T00:00:00\", \"2020-10-02T00:00:00\", \"2020-10-03T00:00:00\", \"2020-10-04T00:00:00\", \"2020-10-05T00:00:00\", \"2020-10-06T00:00:00\", \"2020-10-07T00:00:00\", \"2020-10-09T00:00:00\", \"2020-10-10T00:00:00\", \"2020-10-11T00:00:00\", \"2020-10-12T00:00:00\", \"2020-10-13T00:00:00\", \"2020-10-14T00:00:00\", \"2020-10-15T00:00:00\", \"2020-10-16T00:00:00\", \"2020-10-17T00:00:00\", \"2020-10-18T00:00:00\", \"2020-10-19T00:00:00\", \"2020-10-20T00:00:00\", \"2020-10-21T00:00:00\", \"2020-10-22T00:00:00\", \"2020-10-23T00:00:00\", \"2020-10-24T00:00:00\", \"2020-10-25T00:00:00\", \"2020-10-26T00:00:00\", \"2020-10-27T00:00:00\", \"2020-10-28T00:00:00\", \"2020-10-29T00:00:00\", \"2020-10-30T00:00:00\", \"2020-10-31T00:00:00\", \"2020-11-01T00:00:00\", \"2020-11-02T00:00:00\", \"2020-11-03T00:00:00\", \"2020-11-04T00:00:00\", \"2020-11-05T00:00:00\", \"2020-11-06T00:00:00\", \"2020-11-07T00:00:00\", \"2020-11-08T00:00:00\", \"2020-11-09T00:00:00\", \"2020-11-10T00:00:00\", \"2020-11-11T00:00:00\", \"2020-11-12T00:00:00\", \"2020-11-13T00:00:00\", \"2020-11-14T00:00:00\", \"2020-11-15T00:00:00\", \"2020-11-16T00:00:00\", \"2020-11-17T00:00:00\", \"2020-11-18T00:00:00\", \"2020-11-19T00:00:00\", \"2020-11-20T00:00:00\", \"2020-11-21T00:00:00\", \"2020-11-22T00:00:00\", \"2020-11-23T00:00:00\", \"2020-11-24T00:00:00\", \"2020-11-25T00:00:00\", \"2020-11-26T00:00:00\", \"2020-11-27T00:00:00\", \"2020-11-28T00:00:00\", \"2020-11-29T00:00:00\", \"2020-11-30T00:00:00\", \"2020-12-01T00:00:00\", \"2020-12-02T00:00:00\", \"2020-12-03T00:00:00\", \"2020-12-04T00:00:00\", \"2020-12-05T00:00:00\", \"2020-12-06T00:00:00\", \"2020-12-07T00:00:00\", \"2020-12-08T00:00:00\", \"2020-12-09T00:00:00\", \"2020-12-10T00:00:00\", \"2020-12-11T00:00:00\", \"2020-12-12T00:00:00\", \"2020-12-13T00:00:00\", \"2020-12-14T00:00:00\", \"2020-12-15T00:00:00\", \"2020-12-16T00:00:00\", \"2020-12-17T00:00:00\", \"2020-12-18T00:00:00\", \"2020-12-19T00:00:00\", \"2020-12-20T00:00:00\", \"2020-12-21T00:00:00\", \"2020-12-22T00:00:00\", \"2020-12-23T00:00:00\", \"2020-12-24T00:00:00\", \"2020-12-25T00:00:00\", \"2020-12-26T00:00:00\", \"2020-12-27T00:00:00\", \"2020-12-28T00:00:00\"], \"xaxis\": \"x\", \"y\": [-31.616595053949624, -27.846813302946288, -24.07703155194296, -20.307249800939623, -16.537468049936294, -12.76768629893296, -8.997904547929627, -5.228122796926293, -1.4583410459229629, 2.310641239359379, 6.07962352464172, 9.848605809924063, 13.617588095206413, 17.386570380488756, 21.155552665771097, 24.924534951053445, 28.6927169398378, 32.460898928622164, 36.22908091740653, 39.99726290619088, 43.76544489497525, 47.5336268837596, 51.30180887254397, 55.06999086132832, 58.83736267300185, 62.6047344846754, 66.37210629634893, 70.13947810802247, 73.906849919696, 77.67422173136953, 81.44159354304308, 85.2089653547166, 88.9754940314755, 92.7420227082344, 96.50855138499331, 100.27508006175219, 104.0416087385111, 107.80813741527, 111.5746660920289, 115.34032565363069, 119.10598521523245, 122.87164477683422, 126.637304338436, 130.40296390003778, 134.16862346163953, 137.9342830232413, 141.69994258484306, 145.46471134759958, 149.22948011035606, 152.99424887311253, 160.5237863986255, 164.288555161382, 168.05332392413845, 171.81809268689494, 175.58194753001334, 179.34580237313176, 183.10965721625016, 186.87351205936855, 190.63736690248695, 194.40122174560537, 198.16507658872376, 201.92893143184222, 205.6918579186232, 209.45478440540427, 213.21771089218527, 216.98063737896632, 220.74356386574738, 224.50649035252843, 228.2694168393094, 232.03234332609043, 235.79433429157365, 239.55632525705676, 243.3183162225399, 247.08030718802303, 250.8422981535062, 254.60428911898933, 258.36628008447246, 262.1273287873066, 265.8883774901408, 269.649426192975, 273.41047489580916, 277.1715235986433, 280.9325723014775, 284.69362100431164, 288.4546697071458, 292.2147643456309, 295.974858984116, 299.7349536226011, 307.25514289957135, 311.0152375380564, 314.77533217654155, 318.53542681502665, 322.29552145351175, 326.0546450984139, 329.81376874331596, 333.57289238821807, 337.33201603312017, 341.09113967802233, 344.85026332292443, 348.6093869678265, 352.3675327361876, 356.1256785045489, 359.88382427291003, 363.6419700412712, 367.4001158096323, 371.1582615779936, 374.91640734635473, 378.6745531147158, 382.4317186535003, 386.18888419228483, 389.94604973106937, 393.7032152698538, 397.4603808086383, 401.2175463474228, 404.9747118862073, 408.73187742499175, 412.4880748459155, 416.2442722668394, 420.0004696877632, 423.756667108687, 427.51286452961085, 431.26906195053465, 435.02525937145845, 438.78051996453576, 442.5357805576132, 446.29104115069055, 450.0463017437678, 453.80156233684517, 457.55682292992253, 461.31208352299984, 465.06734411607715, 468.82171019917104, 472.57607628226503, 476.3304423653589, 480.08480844845275, 483.83917453154663, 487.59354061464046, 491.34790669773435, 495.1022727808283, 498.85581102427693, 502.6093492677257, 506.3628875111744, 510.11642575462304, 513.8699639980716, 517.6235022415203, 521.3770404849689, 525.1298254208122, 528.8826103566554, 532.6353952924987, 536.388180228342, 540.1409651641852, 543.8937501000285, 547.6465350358717, 551.3993199717149, 555.1514501438642, 558.9035803160136, 562.6557104881631, 566.4078406603124, 570.1599708324618, 573.912101004611, 577.6642311767606, 581.415802128735, 585.1673730807095, 588.918944032684, 592.6705149846586, 596.422085936633, 600.1736568886075, 603.9252278405819, 607.6767987925565, 611.4279171563511, 615.1790355201458, 618.9301538839404, 622.6812722477353, 626.43239061153, 630.1835089753246, 633.9346273391193, 637.6857457029138, 641.4365185126597, 645.1872913224056, 648.9380641321516, 652.6888369418976, 656.4396097516435, 660.1903825613894, 663.9411553711354, 667.6916744724899, 671.4421935738446, 675.1927126751991, 678.9432317765536, 682.6937508779084, 686.4442699792629, 690.1947890806175, 693.9453081819721, 697.6956688661957, 701.4460295504193, 705.1963902346429, 708.9467509188664, 712.6971116030901, 716.4474722873136, 720.1978329715373, 723.9481936557609, 727.6985543399844, 731.448915024208, 735.1992757084315, 738.9496363926552, 742.6999970768787, 746.4503577611024, 750.200718445326, 753.9510791295495, 757.701439813773, 761.4518004979966, 765.2021611822202, 768.9525218664437, 772.7028825506675, 776.453243234891, 780.2036039191146, 783.9539646033382, 787.7043252875618, 791.4546859717854, 795.2050466560089, 802.7057680244561, 806.4561287086797, 810.2064893929032, 813.9568500771268, 817.7072107613503, 821.4575714455741, 825.2079321297977, 828.9582928140212, 832.7086534982449, 836.4590141824684, 840.2093748666919, 843.9597355509156, 847.7100962351392, 851.4604569193626, 855.2108176035862, 858.9611782878098, 862.7115389720336, 866.4618996562571, 870.2122603404807, 873.9626210247043, 877.7129817089278, 881.4633423931515, 885.213711515566, 888.9643288634874, 892.715200597626, 896.4661471978804, 900.2173166069063, 903.9684775541042, 907.719777182778, 911.4711999866992, 915.2227737604604, 918.9744511098877, 922.7259716483445, 926.4775567858898, 930.2292464713786, 933.9812291292333, 937.732739964767, 941.4851166421099, 945.237112226971, 948.9890599142348, 952.7410278250018, 956.4929296961949, 960.2447014182177, 963.9975195975129, 967.7497729783647, 971.5018570147826, 975.2546906701099, 979.0071671300724, 982.7589421163993, 986.5112773345688, 990.2633283418032, 994.0156306449962, 997.7681086436421, 1001.5208311536925, 1005.2728229077153, 1009.025173665469, 1012.7778747748234, 1016.5300882569512, 1020.282872011951, 1024.035207427778, 1027.7882800379975, 1031.541240273428, 1035.294299962058, 1039.0467254575844, 1042.799660079116, 1046.5531835840575, 1050.3062508143291, 1054.0585145068337, 1057.8117331075673, 1061.5649517083011, 1065.317724682341, 1069.0706835377969, 1072.8233419583535, 1076.57752540488, 1080.3305494844167, 1084.0836198361549, 1087.8367649365218, 1091.590060074858, 1095.3432283755292, 1099.0967284155797, 1102.849836354338], \"yaxis\": \"y\"}, {\"fill\": \"tonexty\", \"fillcolor\": \"rgba(0, 114, 178, 0.2)\", \"line\": {\"color\": \"rgba(0, 114, 178, 0.2)\", \"width\": 0}, \"mode\": \"lines\", \"name\": \"trend_lower\", \"type\": \"scatter\", \"x\": [\"2020-03-01T00:00:00\", \"2020-03-02T00:00:00\", \"2020-03-03T00:00:00\", \"2020-03-04T00:00:00\", \"2020-03-05T00:00:00\", \"2020-03-06T00:00:00\", \"2020-03-07T00:00:00\", \"2020-03-08T00:00:00\", \"2020-03-09T00:00:00\", \"2020-03-10T00:00:00\", \"2020-03-11T00:00:00\", \"2020-03-12T00:00:00\", \"2020-03-13T00:00:00\", \"2020-03-14T00:00:00\", \"2020-03-15T00:00:00\", \"2020-03-16T00:00:00\", \"2020-03-17T00:00:00\", \"2020-03-18T00:00:00\", \"2020-03-19T00:00:00\", \"2020-03-20T00:00:00\", \"2020-03-21T00:00:00\", \"2020-03-22T00:00:00\", \"2020-03-23T00:00:00\", \"2020-03-24T00:00:00\", \"2020-03-25T00:00:00\", \"2020-03-26T00:00:00\", \"2020-03-27T00:00:00\", \"2020-03-28T00:00:00\", \"2020-03-29T00:00:00\", \"2020-03-30T00:00:00\", \"2020-03-31T00:00:00\", \"2020-04-01T00:00:00\", \"2020-04-02T00:00:00\", \"2020-04-03T00:00:00\", \"2020-04-04T00:00:00\", \"2020-04-05T00:00:00\", \"2020-04-06T00:00:00\", \"2020-04-07T00:00:00\", \"2020-04-08T00:00:00\", \"2020-04-09T00:00:00\", \"2020-04-10T00:00:00\", \"2020-04-11T00:00:00\", \"2020-04-12T00:00:00\", \"2020-04-13T00:00:00\", \"2020-04-14T00:00:00\", \"2020-04-15T00:00:00\", \"2020-04-16T00:00:00\", \"2020-04-17T00:00:00\", \"2020-04-18T00:00:00\", \"2020-04-19T00:00:00\", \"2020-04-21T00:00:00\", \"2020-04-22T00:00:00\", \"2020-04-23T00:00:00\", \"2020-04-24T00:00:00\", \"2020-04-25T00:00:00\", \"2020-04-26T00:00:00\", \"2020-04-27T00:00:00\", \"2020-04-28T00:00:00\", \"2020-04-29T00:00:00\", \"2020-04-30T00:00:00\", \"2020-05-01T00:00:00\", \"2020-05-02T00:00:00\", \"2020-05-03T00:00:00\", \"2020-05-04T00:00:00\", \"2020-05-05T00:00:00\", \"2020-05-06T00:00:00\", \"2020-05-07T00:00:00\", \"2020-05-08T00:00:00\", \"2020-05-09T00:00:00\", \"2020-05-10T00:00:00\", \"2020-05-11T00:00:00\", \"2020-05-12T00:00:00\", \"2020-05-13T00:00:00\", \"2020-05-14T00:00:00\", \"2020-05-15T00:00:00\", \"2020-05-16T00:00:00\", \"2020-05-17T00:00:00\", \"2020-05-18T00:00:00\", \"2020-05-19T00:00:00\", \"2020-05-20T00:00:00\", \"2020-05-21T00:00:00\", \"2020-05-22T00:00:00\", \"2020-05-23T00:00:00\", \"2020-05-24T00:00:00\", \"2020-05-25T00:00:00\", \"2020-05-26T00:00:00\", \"2020-05-27T00:00:00\", \"2020-05-28T00:00:00\", \"2020-05-30T00:00:00\", \"2020-05-31T00:00:00\", \"2020-06-01T00:00:00\", \"2020-06-02T00:00:00\", \"2020-06-03T00:00:00\", \"2020-06-04T00:00:00\", \"2020-06-05T00:00:00\", \"2020-06-06T00:00:00\", \"2020-06-07T00:00:00\", \"2020-06-08T00:00:00\", \"2020-06-09T00:00:00\", \"2020-06-10T00:00:00\", \"2020-06-11T00:00:00\", \"2020-06-12T00:00:00\", \"2020-06-13T00:00:00\", \"2020-06-14T00:00:00\", \"2020-06-15T00:00:00\", \"2020-06-16T00:00:00\", \"2020-06-17T00:00:00\", \"2020-06-18T00:00:00\", \"2020-06-19T00:00:00\", \"2020-06-20T00:00:00\", \"2020-06-21T00:00:00\", \"2020-06-22T00:00:00\", \"2020-06-23T00:00:00\", \"2020-06-24T00:00:00\", \"2020-06-25T00:00:00\", \"2020-06-26T00:00:00\", \"2020-06-27T00:00:00\", \"2020-06-28T00:00:00\", \"2020-06-29T00:00:00\", \"2020-06-30T00:00:00\", \"2020-07-01T00:00:00\", \"2020-07-02T00:00:00\", \"2020-07-03T00:00:00\", \"2020-07-04T00:00:00\", \"2020-07-05T00:00:00\", \"2020-07-06T00:00:00\", \"2020-07-07T00:00:00\", \"2020-07-08T00:00:00\", \"2020-07-09T00:00:00\", \"2020-07-10T00:00:00\", \"2020-07-11T00:00:00\", \"2020-07-12T00:00:00\", \"2020-07-13T00:00:00\", \"2020-07-14T00:00:00\", \"2020-07-15T00:00:00\", \"2020-07-16T00:00:00\", \"2020-07-17T00:00:00\", \"2020-07-18T00:00:00\", \"2020-07-19T00:00:00\", \"2020-07-20T00:00:00\", \"2020-07-21T00:00:00\", \"2020-07-22T00:00:00\", \"2020-07-23T00:00:00\", \"2020-07-24T00:00:00\", \"2020-07-25T00:00:00\", \"2020-07-26T00:00:00\", \"2020-07-27T00:00:00\", \"2020-07-28T00:00:00\", \"2020-07-29T00:00:00\", \"2020-07-30T00:00:00\", \"2020-07-31T00:00:00\", \"2020-08-01T00:00:00\", \"2020-08-02T00:00:00\", \"2020-08-03T00:00:00\", \"2020-08-04T00:00:00\", \"2020-08-05T00:00:00\", \"2020-08-06T00:00:00\", \"2020-08-07T00:00:00\", \"2020-08-08T00:00:00\", \"2020-08-09T00:00:00\", \"2020-08-10T00:00:00\", \"2020-08-11T00:00:00\", \"2020-08-12T00:00:00\", \"2020-08-13T00:00:00\", \"2020-08-14T00:00:00\", \"2020-08-15T00:00:00\", \"2020-08-16T00:00:00\", \"2020-08-17T00:00:00\", \"2020-08-18T00:00:00\", \"2020-08-19T00:00:00\", \"2020-08-20T00:00:00\", \"2020-08-21T00:00:00\", \"2020-08-22T00:00:00\", \"2020-08-23T00:00:00\", \"2020-08-24T00:00:00\", \"2020-08-25T00:00:00\", \"2020-08-26T00:00:00\", \"2020-08-27T00:00:00\", \"2020-08-28T00:00:00\", \"2020-08-29T00:00:00\", \"2020-08-30T00:00:00\", \"2020-08-31T00:00:00\", \"2020-09-01T00:00:00\", \"2020-09-02T00:00:00\", \"2020-09-03T00:00:00\", \"2020-09-04T00:00:00\", \"2020-09-05T00:00:00\", \"2020-09-06T00:00:00\", \"2020-09-07T00:00:00\", \"2020-09-08T00:00:00\", \"2020-09-09T00:00:00\", \"2020-09-10T00:00:00\", \"2020-09-11T00:00:00\", \"2020-09-12T00:00:00\", \"2020-09-13T00:00:00\", \"2020-09-14T00:00:00\", \"2020-09-15T00:00:00\", \"2020-09-16T00:00:00\", \"2020-09-17T00:00:00\", \"2020-09-18T00:00:00\", \"2020-09-19T00:00:00\", \"2020-09-20T00:00:00\", \"2020-09-21T00:00:00\", \"2020-09-22T00:00:00\", \"2020-09-23T00:00:00\", \"2020-09-24T00:00:00\", \"2020-09-25T00:00:00\", \"2020-09-26T00:00:00\", \"2020-09-27T00:00:00\", \"2020-09-28T00:00:00\", \"2020-09-29T00:00:00\", \"2020-09-30T00:00:00\", \"2020-10-01T00:00:00\", \"2020-10-02T00:00:00\", \"2020-10-03T00:00:00\", \"2020-10-04T00:00:00\", \"2020-10-05T00:00:00\", \"2020-10-06T00:00:00\", \"2020-10-07T00:00:00\", \"2020-10-09T00:00:00\", \"2020-10-10T00:00:00\", \"2020-10-11T00:00:00\", \"2020-10-12T00:00:00\", \"2020-10-13T00:00:00\", \"2020-10-14T00:00:00\", \"2020-10-15T00:00:00\", \"2020-10-16T00:00:00\", \"2020-10-17T00:00:00\", \"2020-10-18T00:00:00\", \"2020-10-19T00:00:00\", \"2020-10-20T00:00:00\", \"2020-10-21T00:00:00\", \"2020-10-22T00:00:00\", \"2020-10-23T00:00:00\", \"2020-10-24T00:00:00\", \"2020-10-25T00:00:00\", \"2020-10-26T00:00:00\", \"2020-10-27T00:00:00\", \"2020-10-28T00:00:00\", \"2020-10-29T00:00:00\", \"2020-10-30T00:00:00\", \"2020-10-31T00:00:00\", \"2020-11-01T00:00:00\", \"2020-11-02T00:00:00\", \"2020-11-03T00:00:00\", \"2020-11-04T00:00:00\", \"2020-11-05T00:00:00\", \"2020-11-06T00:00:00\", \"2020-11-07T00:00:00\", \"2020-11-08T00:00:00\", \"2020-11-09T00:00:00\", \"2020-11-10T00:00:00\", \"2020-11-11T00:00:00\", \"2020-11-12T00:00:00\", \"2020-11-13T00:00:00\", \"2020-11-14T00:00:00\", \"2020-11-15T00:00:00\", \"2020-11-16T00:00:00\", \"2020-11-17T00:00:00\", \"2020-11-18T00:00:00\", \"2020-11-19T00:00:00\", \"2020-11-20T00:00:00\", \"2020-11-21T00:00:00\", \"2020-11-22T00:00:00\", \"2020-11-23T00:00:00\", \"2020-11-24T00:00:00\", \"2020-11-25T00:00:00\", \"2020-11-26T00:00:00\", \"2020-11-27T00:00:00\", \"2020-11-28T00:00:00\", \"2020-11-29T00:00:00\", \"2020-11-30T00:00:00\", \"2020-12-01T00:00:00\", \"2020-12-02T00:00:00\", \"2020-12-03T00:00:00\", \"2020-12-04T00:00:00\", \"2020-12-05T00:00:00\", \"2020-12-06T00:00:00\", \"2020-12-07T00:00:00\", \"2020-12-08T00:00:00\", \"2020-12-09T00:00:00\", \"2020-12-10T00:00:00\", \"2020-12-11T00:00:00\", \"2020-12-12T00:00:00\", \"2020-12-13T00:00:00\", \"2020-12-14T00:00:00\", \"2020-12-15T00:00:00\", \"2020-12-16T00:00:00\", \"2020-12-17T00:00:00\", \"2020-12-18T00:00:00\", \"2020-12-19T00:00:00\", \"2020-12-20T00:00:00\", \"2020-12-21T00:00:00\", \"2020-12-22T00:00:00\", \"2020-12-23T00:00:00\", \"2020-12-24T00:00:00\", \"2020-12-25T00:00:00\", \"2020-12-26T00:00:00\", \"2020-12-27T00:00:00\", \"2020-12-28T00:00:00\"], \"xaxis\": \"x\", \"y\": [-31.616595053949624, -27.846813302946288, -24.07703155194296, -20.307249800939623, -16.537468049936294, -12.76768629893296, -8.997904547929627, -5.228122796926293, -1.4583410459229629, 2.310641239359379, 6.07962352464172, 9.848605809924063, 13.617588095206413, 17.386570380488756, 21.155552665771097, 24.924534951053445, 28.6927169398378, 32.460898928622164, 36.22908091740653, 39.99726290619088, 43.76544489497525, 47.5336268837596, 51.30180887254397, 55.06999086132832, 58.83736267300185, 62.6047344846754, 66.37210629634893, 70.13947810802247, 73.906849919696, 77.67422173136953, 81.44159354304308, 85.2089653547166, 88.9754940314755, 92.7420227082344, 96.50855138499331, 100.27508006175219, 104.0416087385111, 107.80813741527, 111.5746660920289, 115.34032565363069, 119.10598521523245, 122.87164477683422, 126.637304338436, 130.40296390003778, 134.16862346163953, 137.9342830232413, 141.69994258484306, 145.46471134759958, 149.22948011035606, 152.99424887311253, 160.5237863986255, 164.288555161382, 168.05332392413845, 171.81809268689494, 175.58194753001334, 179.34580237313176, 183.10965721625016, 186.87351205936855, 190.63736690248695, 194.40122174560537, 198.16507658872376, 201.92893143184222, 205.6918579186232, 209.45478440540427, 213.21771089218527, 216.98063737896632, 220.74356386574738, 224.50649035252843, 228.2694168393094, 232.03234332609043, 235.79433429157365, 239.55632525705676, 243.3183162225399, 247.08030718802303, 250.8422981535062, 254.60428911898933, 258.36628008447246, 262.1273287873066, 265.8883774901408, 269.649426192975, 273.41047489580916, 277.1715235986433, 280.9325723014775, 284.69362100431164, 288.4546697071458, 292.2147643456309, 295.974858984116, 299.7349536226011, 307.25514289957135, 311.0152375380564, 314.77533217654155, 318.53542681502665, 322.29552145351175, 326.0546450984139, 329.81376874331596, 333.57289238821807, 337.33201603312017, 341.09113967802233, 344.85026332292443, 348.6093869678265, 352.3675327361876, 356.1256785045489, 359.88382427291003, 363.6419700412712, 367.4001158096323, 371.1582615779936, 374.91640734635473, 378.6745531147158, 382.4317186535003, 386.18888419228483, 389.94604973106937, 393.7032152698538, 397.4603808086383, 401.2175463474228, 404.9747118862073, 408.73187742499175, 412.4880748459155, 416.2442722668394, 420.0004696877632, 423.756667108687, 427.51286452961085, 431.26906195053465, 435.02525937145845, 438.78051996453576, 442.5357805576132, 446.29104115069055, 450.0463017437678, 453.80156233684517, 457.55682292992253, 461.31208352299984, 465.06734411607715, 468.82171019917104, 472.57607628226503, 476.3304423653589, 480.08480844845275, 483.83917453154663, 487.59354061464046, 491.34790669773435, 495.1022727808283, 498.85581102427693, 502.6093492677257, 506.3628875111744, 510.11642575462304, 513.8699639980716, 517.6235022415203, 521.3770404849689, 525.1298254208122, 528.8826103566554, 532.6353952924987, 536.388180228342, 540.1409651641852, 543.8937501000285, 547.6465350358717, 551.3993199717149, 555.1514501438642, 558.9035803160136, 562.6557104881631, 566.4078406603124, 570.1599708324618, 573.912101004611, 577.6642311767606, 581.415802128735, 585.1673730807095, 588.918944032684, 592.6705149846586, 596.422085936633, 600.1736568886075, 603.9252278405819, 607.6767987925565, 611.4279171563511, 615.1790355201458, 618.9301538839404, 622.6812722477353, 626.43239061153, 630.1835089753246, 633.9346273391193, 637.6857457029138, 641.4365185126597, 645.1872913224056, 648.9380641321516, 652.6888369418976, 656.4396097516435, 660.1903825613894, 663.9411553711354, 667.6916744724899, 671.4421935738446, 675.1927126751991, 678.9432317765536, 682.6937508779084, 686.4442699792629, 690.1947890806175, 693.9453081819721, 697.6956688661957, 701.4460295504193, 705.1963902346429, 708.9467509188664, 712.6971116030901, 716.4474722873136, 720.1978329715373, 723.9481936557609, 727.6985543399844, 731.448915024208, 735.1992757084315, 738.9496363926552, 742.6999970768787, 746.4503577611024, 750.200718445326, 753.9510791295495, 757.701439813773, 761.4518004979966, 765.2021611822202, 768.9525218664437, 772.7028825506675, 776.453243234891, 780.2036039191146, 783.9539646033382, 787.7043252875618, 791.4546859717854, 795.2050466560089, 802.7057680244561, 806.4561287086797, 810.2064893929032, 813.9568500771268, 817.7072107613503, 821.4575714455741, 825.2079321297977, 828.9582928140212, 832.7086534982449, 836.4590141824684, 840.2093748666919, 843.9597355509156, 847.7100962351392, 851.4604569193626, 855.2108176035862, 858.9611782878098, 862.7115389720336, 866.4618996562571, 870.2122603404807, 873.9626210247043, 877.7129817089278, 881.4633423931515, 885.2137030773749, 888.9638794445616, 892.7138202043442, 896.4636571481609, 900.2131634178962, 903.9628828079095, 907.7126272138726, 911.4622443594661, 915.2115308081683, 918.9605794074797, 922.7097188404596, 926.4591314413756, 930.208280090122, 933.9574796199213, 937.7066170461092, 941.4555225804017, 945.2046746267401, 948.9537921828423, 952.7026708532842, 956.451730789475, 960.2001870133306, 963.9490403495228, 967.697990304299, 971.4467759180613, 975.1958851436883, 978.9442544405397, 982.6927039216356, 986.4409225882476, 990.1897809123069, 993.9380383831933, 997.687047549181, 1001.4351459198836, 1005.1841334045607, 1008.9325026402039, 1012.6807612260098, 1016.428872802711, 1020.1764927308575, 1023.9241996719092, 1027.6720662442008, 1031.4204478276115, 1035.167917082142, 1038.9152377729874, 1042.662712652787, 1046.4102098250212, 1050.1576710728525, 1053.9057076338863, 1057.6528361522608, 1061.400882725936, 1065.1475556446298, 1068.894854919025, 1072.6435010980176, 1076.3904813320466, 1080.1373752973548, 1083.8848639738155, 1087.6320381412363, 1091.3791805346689, 1095.1273688286822, 1098.8752056549274, 1102.6217289647493], \"yaxis\": \"y\"}, {\"line\": {\"color\": \"#0072B2\", \"width\": 2}, \"mode\": \"lines\", \"name\": \"extra_regressors_additive\", \"type\": \"scatter\", \"x\": [\"2020-03-01T00:00:00\", \"2020-03-02T00:00:00\", \"2020-03-03T00:00:00\", \"2020-03-04T00:00:00\", \"2020-03-05T00:00:00\", \"2020-03-06T00:00:00\", \"2020-03-07T00:00:00\", \"2020-03-08T00:00:00\", \"2020-03-09T00:00:00\", \"2020-03-10T00:00:00\", \"2020-03-11T00:00:00\", \"2020-03-12T00:00:00\", \"2020-03-13T00:00:00\", \"2020-03-14T00:00:00\", \"2020-03-15T00:00:00\", \"2020-03-16T00:00:00\", \"2020-03-17T00:00:00\", \"2020-03-18T00:00:00\", \"2020-03-19T00:00:00\", \"2020-03-20T00:00:00\", \"2020-03-21T00:00:00\", \"2020-03-22T00:00:00\", \"2020-03-23T00:00:00\", \"2020-03-24T00:00:00\", \"2020-03-25T00:00:00\", \"2020-03-26T00:00:00\", \"2020-03-27T00:00:00\", \"2020-03-28T00:00:00\", \"2020-03-29T00:00:00\", \"2020-03-30T00:00:00\", \"2020-03-31T00:00:00\", \"2020-04-01T00:00:00\", \"2020-04-02T00:00:00\", \"2020-04-03T00:00:00\", \"2020-04-04T00:00:00\", \"2020-04-05T00:00:00\", \"2020-04-06T00:00:00\", \"2020-04-07T00:00:00\", \"2020-04-08T00:00:00\", \"2020-04-09T00:00:00\", \"2020-04-10T00:00:00\", \"2020-04-11T00:00:00\", \"2020-04-12T00:00:00\", \"2020-04-13T00:00:00\", \"2020-04-14T00:00:00\", \"2020-04-15T00:00:00\", \"2020-04-16T00:00:00\", \"2020-04-17T00:00:00\", \"2020-04-18T00:00:00\", \"2020-04-19T00:00:00\", \"2020-04-21T00:00:00\", \"2020-04-22T00:00:00\", \"2020-04-23T00:00:00\", \"2020-04-24T00:00:00\", \"2020-04-25T00:00:00\", \"2020-04-26T00:00:00\", \"2020-04-27T00:00:00\", \"2020-04-28T00:00:00\", \"2020-04-29T00:00:00\", \"2020-04-30T00:00:00\", \"2020-05-01T00:00:00\", \"2020-05-02T00:00:00\", \"2020-05-03T00:00:00\", \"2020-05-04T00:00:00\", \"2020-05-05T00:00:00\", \"2020-05-06T00:00:00\", \"2020-05-07T00:00:00\", \"2020-05-08T00:00:00\", \"2020-05-09T00:00:00\", \"2020-05-10T00:00:00\", \"2020-05-11T00:00:00\", \"2020-05-12T00:00:00\", \"2020-05-13T00:00:00\", \"2020-05-14T00:00:00\", \"2020-05-15T00:00:00\", \"2020-05-16T00:00:00\", \"2020-05-17T00:00:00\", \"2020-05-18T00:00:00\", \"2020-05-19T00:00:00\", \"2020-05-20T00:00:00\", \"2020-05-21T00:00:00\", \"2020-05-22T00:00:00\", \"2020-05-23T00:00:00\", \"2020-05-24T00:00:00\", \"2020-05-25T00:00:00\", \"2020-05-26T00:00:00\", \"2020-05-27T00:00:00\", \"2020-05-28T00:00:00\", \"2020-05-30T00:00:00\", \"2020-05-31T00:00:00\", \"2020-06-01T00:00:00\", \"2020-06-02T00:00:00\", \"2020-06-03T00:00:00\", \"2020-06-04T00:00:00\", \"2020-06-05T00:00:00\", \"2020-06-06T00:00:00\", \"2020-06-07T00:00:00\", \"2020-06-08T00:00:00\", \"2020-06-09T00:00:00\", \"2020-06-10T00:00:00\", \"2020-06-11T00:00:00\", \"2020-06-12T00:00:00\", \"2020-06-13T00:00:00\", \"2020-06-14T00:00:00\", \"2020-06-15T00:00:00\", \"2020-06-16T00:00:00\", \"2020-06-17T00:00:00\", \"2020-06-18T00:00:00\", \"2020-06-19T00:00:00\", \"2020-06-20T00:00:00\", \"2020-06-21T00:00:00\", \"2020-06-22T00:00:00\", \"2020-06-23T00:00:00\", \"2020-06-24T00:00:00\", \"2020-06-25T00:00:00\", \"2020-06-26T00:00:00\", \"2020-06-27T00:00:00\", \"2020-06-28T00:00:00\", \"2020-06-29T00:00:00\", \"2020-06-30T00:00:00\", \"2020-07-01T00:00:00\", \"2020-07-02T00:00:00\", \"2020-07-03T00:00:00\", \"2020-07-04T00:00:00\", \"2020-07-05T00:00:00\", \"2020-07-06T00:00:00\", \"2020-07-07T00:00:00\", \"2020-07-08T00:00:00\", \"2020-07-09T00:00:00\", \"2020-07-10T00:00:00\", \"2020-07-11T00:00:00\", \"2020-07-12T00:00:00\", \"2020-07-13T00:00:00\", \"2020-07-14T00:00:00\", \"2020-07-15T00:00:00\", \"2020-07-16T00:00:00\", \"2020-07-17T00:00:00\", \"2020-07-18T00:00:00\", \"2020-07-19T00:00:00\", \"2020-07-20T00:00:00\", \"2020-07-21T00:00:00\", \"2020-07-22T00:00:00\", \"2020-07-23T00:00:00\", \"2020-07-24T00:00:00\", \"2020-07-25T00:00:00\", \"2020-07-26T00:00:00\", \"2020-07-27T00:00:00\", \"2020-07-28T00:00:00\", \"2020-07-29T00:00:00\", \"2020-07-30T00:00:00\", \"2020-07-31T00:00:00\", \"2020-08-01T00:00:00\", \"2020-08-02T00:00:00\", \"2020-08-03T00:00:00\", \"2020-08-04T00:00:00\", \"2020-08-05T00:00:00\", \"2020-08-06T00:00:00\", \"2020-08-07T00:00:00\", \"2020-08-08T00:00:00\", \"2020-08-09T00:00:00\", \"2020-08-10T00:00:00\", \"2020-08-11T00:00:00\", \"2020-08-12T00:00:00\", \"2020-08-13T00:00:00\", \"2020-08-14T00:00:00\", \"2020-08-15T00:00:00\", \"2020-08-16T00:00:00\", \"2020-08-17T00:00:00\", \"2020-08-18T00:00:00\", \"2020-08-19T00:00:00\", \"2020-08-20T00:00:00\", \"2020-08-21T00:00:00\", \"2020-08-22T00:00:00\", \"2020-08-23T00:00:00\", \"2020-08-24T00:00:00\", \"2020-08-25T00:00:00\", \"2020-08-26T00:00:00\", \"2020-08-27T00:00:00\", \"2020-08-28T00:00:00\", \"2020-08-29T00:00:00\", \"2020-08-30T00:00:00\", \"2020-08-31T00:00:00\", \"2020-09-01T00:00:00\", \"2020-09-02T00:00:00\", \"2020-09-03T00:00:00\", \"2020-09-04T00:00:00\", \"2020-09-05T00:00:00\", \"2020-09-06T00:00:00\", \"2020-09-07T00:00:00\", \"2020-09-08T00:00:00\", \"2020-09-09T00:00:00\", \"2020-09-10T00:00:00\", \"2020-09-11T00:00:00\", \"2020-09-12T00:00:00\", \"2020-09-13T00:00:00\", \"2020-09-14T00:00:00\", \"2020-09-15T00:00:00\", \"2020-09-16T00:00:00\", \"2020-09-17T00:00:00\", \"2020-09-18T00:00:00\", \"2020-09-19T00:00:00\", \"2020-09-20T00:00:00\", \"2020-09-21T00:00:00\", \"2020-09-22T00:00:00\", \"2020-09-23T00:00:00\", \"2020-09-24T00:00:00\", \"2020-09-25T00:00:00\", \"2020-09-26T00:00:00\", \"2020-09-27T00:00:00\", \"2020-09-28T00:00:00\", \"2020-09-29T00:00:00\", \"2020-09-30T00:00:00\", \"2020-10-01T00:00:00\", \"2020-10-02T00:00:00\", \"2020-10-03T00:00:00\", \"2020-10-04T00:00:00\", \"2020-10-05T00:00:00\", \"2020-10-06T00:00:00\", \"2020-10-07T00:00:00\", \"2020-10-09T00:00:00\", \"2020-10-10T00:00:00\", \"2020-10-11T00:00:00\", \"2020-10-12T00:00:00\", \"2020-10-13T00:00:00\", \"2020-10-14T00:00:00\", \"2020-10-15T00:00:00\", \"2020-10-16T00:00:00\", \"2020-10-17T00:00:00\", \"2020-10-18T00:00:00\", \"2020-10-19T00:00:00\", \"2020-10-20T00:00:00\", \"2020-10-21T00:00:00\", \"2020-10-22T00:00:00\", \"2020-10-23T00:00:00\", \"2020-10-24T00:00:00\", \"2020-10-25T00:00:00\", \"2020-10-26T00:00:00\", \"2020-10-27T00:00:00\", \"2020-10-28T00:00:00\", \"2020-10-29T00:00:00\", \"2020-10-30T00:00:00\", \"2020-10-31T00:00:00\", \"2020-11-01T00:00:00\", \"2020-11-02T00:00:00\", \"2020-11-03T00:00:00\", \"2020-11-04T00:00:00\", \"2020-11-05T00:00:00\", \"2020-11-06T00:00:00\", \"2020-11-07T00:00:00\", \"2020-11-08T00:00:00\", \"2020-11-09T00:00:00\", \"2020-11-10T00:00:00\", \"2020-11-11T00:00:00\", \"2020-11-12T00:00:00\", \"2020-11-13T00:00:00\", \"2020-11-14T00:00:00\", \"2020-11-15T00:00:00\", \"2020-11-16T00:00:00\", \"2020-11-17T00:00:00\", \"2020-11-18T00:00:00\", \"2020-11-19T00:00:00\", \"2020-11-20T00:00:00\", \"2020-11-21T00:00:00\", \"2020-11-22T00:00:00\", \"2020-11-23T00:00:00\", \"2020-11-24T00:00:00\", \"2020-11-25T00:00:00\", \"2020-11-26T00:00:00\", \"2020-11-27T00:00:00\", \"2020-11-28T00:00:00\", \"2020-11-29T00:00:00\", \"2020-11-30T00:00:00\", \"2020-12-01T00:00:00\", \"2020-12-02T00:00:00\", \"2020-12-03T00:00:00\", \"2020-12-04T00:00:00\", \"2020-12-05T00:00:00\", \"2020-12-06T00:00:00\", \"2020-12-07T00:00:00\", \"2020-12-08T00:00:00\", \"2020-12-09T00:00:00\", \"2020-12-10T00:00:00\", \"2020-12-11T00:00:00\", \"2020-12-12T00:00:00\", \"2020-12-13T00:00:00\", \"2020-12-14T00:00:00\", \"2020-12-15T00:00:00\", \"2020-12-16T00:00:00\", \"2020-12-17T00:00:00\", \"2020-12-18T00:00:00\", \"2020-12-19T00:00:00\", \"2020-12-20T00:00:00\", \"2020-12-21T00:00:00\", \"2020-12-22T00:00:00\", \"2020-12-23T00:00:00\", \"2020-12-24T00:00:00\", \"2020-12-25T00:00:00\", \"2020-12-26T00:00:00\", \"2020-12-27T00:00:00\", \"2020-12-28T00:00:00\"], \"xaxis\": \"x2\", \"y\": [-112.92998703670338, 44.52729765250644, 450.1342997359928, 101.76062781195255, 89.25980013683741, 64.27408449689625, 62.53891178364047, 318.0070291564378, 95.21530752776094, -405.5575893694302, 101.9604467271064, -366.3830880982168, -386.7870566056588, -327.03469673199686, 147.84406565188203, -135.022451819039, 385.6711526828327, 671.9762464336825, 491.41889217815987, 731.8673762111335, 863.042696854395, 675.2730726755993, 680.6919877904421, 679.952711239184, 674.7214316736943, 688.537537692587, 780.6619561324153, 463.4500736251857, 423.7075274950143, 609.3051536679072, 561.5173596847098, 611.1620453086275, 633.1181005007317, 655.5037075696184, 399.2294121844477, 229.69454727205937, 364.48254446534895, 431.1021795945451, 522.5387916231957, 383.8068811596007, 534.4624628792981, 398.82576620017915, 228.40839761553516, 482.28984338347016, 654.2883439311918, 729.3127666420421, 833.3913946257105, 814.2384621008197, 511.50261364517235, 528.3894839003124, 855.4284090213926, 896.10291464764, 884.6885193148969, 868.3597784081795, 570.1546066545169, 537.1509044267616, 821.4043217451331, 541.1645263840496, 769.6355406500618, 739.3563543853445, 838.6321585286854, 568.77238825452, 594.8920407244262, 774.5176114079557, 822.7092456863982, 845.1155554198604, 836.8198603942631, 906.6980290325888, 641.7804140799115, 554.8894286286459, 902.080894901587, 909.1193431305192, 986.5386673303003, 1006.5099771348308, 1063.9157060142559, 846.1200011719637, 975.0426624914638, 640.6964593316995, 960.7341394933603, 998.1499714106866, 997.6712909874235, 1021.5939514567343, 829.3940149801608, 1100.4416376603726, 1515.5118952737712, 962.15533129434, 1014.6386628314577, 993.1381660951746, 897.6301953962928, 878.0258210160265, 667.326580538868, 762.6535897980883, 810.5259025577653, 824.5571687470622, 753.1360648554573, 711.8939686545152, 926.8203046926, 783.2572000985575, 845.6934219072784, 797.9094281033653, 769.645975662335, 820.4659970101408, 709.3864968407977, 919.9013889484075, 763.74858407962, 838.9144795648613, 824.5638311937848, 535.7290818254136, 514.3438702977602, 348.8850045120309, 540.1952658102571, 530.0913723505831, 581.1107506362964, 576.0958688662865, 552.6091273698142, 549.7254120157166, 448.42703166223083, 544.0228843242917, 487.518384454803, 457.4183212142135, 439.028410526218, 418.95887251612464, 493.2681662023392, 312.72265302961335, 340.03246089034127, 444.60362204472796, 542.9889385942984, 590.4317771864595, 550.970327208166, 547.447871498846, 377.9276466446584, 522.0091283738445, 419.52073241912626, 560.1926424343626, 614.8448910933444, 612.756899571931, 653.8560865302798, 519.0393352509922, 621.2705804562603, 587.6976078483708, 635.3973518071483, 625.1511904716485, 648.634131788837, 626.8351788007012, 476.8537159502714, 652.2607647739264, 530.9659687672361, 617.0952433533862, 625.8140426292023, 556.4184394864947, 598.8304565983566, 450.8500254864002, 617.6536606990841, 500.00091968991717, 572.9999510697761, 568.2473519275495, 613.1787661970743, 601.4418028101478, 497.1315067151004, 623.4362069365669, 526.2575679575245, 590.1745053031492, 572.3480008181518, 518.3552800720386, 473.4708788419872, 338.1195852105159, 456.7914425639388, 331.9084812329805, 375.70191531078626, 428.58273992317635, 394.92794798469686, 420.22098703622964, 310.91402981204703, 446.3641859486464, 327.5514029103611, 431.9858624047715, 496.7820497034295, 478.82109646141924, 431.50093361195985, 368.1530369458896, 514.7200032717616, 383.9228236875757, 438.39749562242656, 428.7081256036824, 351.0199038898757, 320.54952187348977, 198.4113313387349, 336.3473006230237, 524.2991471140949, 250.28172357701283, 317.4292752663474, 173.45069303039037, 164.64825821631905, 66.04562130335574, 160.5962729189675, 202.67361999744276, 258.6134828087736, 296.01610482969795, 268.4124280917232, 227.88313292862628, 195.96758792260943, 337.4909988063798, 247.36832484844115, 286.7739508635039, 291.07933395318054, 228.3176150193739, 194.4447387856265, 165.6755582781841, 312.77140393919626, 166.35494416293616, 166.53026700777943, 143.019413708976, 127.97680153934493, 115.74439544365602, 108.58572007617481, 215.2922439758653, 128.68500170986857, 210.21866063125324, 245.00993644038638, 182.08340857768718, 143.59647013528584, 297.7361412863968, 215.05869549101945, 243.31589956250087, 306.0271717942436, 234.5963765618984, 191.39939732349004, 169.04770322946874, 268.2814441930751, 166.11173553312392, 220.15085501183, 241.41515622987612, 228.10001756450842, 147.0532002526256, 107.2981059238259, 100.87318204895199, 8.55597979420265, 83.64300269547512, 182.35885417449148, 147.3014575926008, 121.3741915224343, 66.2812006872017, 185.0833739350955, 200.13208329311368, 317.8876820322538, 227.11439809575631, 185.29788395409295, 115.16747066933533, -213.84273279450463, -120.40382498298175, -9.256885787174246, 14.365850766307494, 182.67490585453535, 70.53301327904722, 94.98407714889886, 63.20605735439285, 204.45196962487708, 89.25807859943293, 148.57867655550598, 112.47259833719481, 67.35321215409502, 78.73037068117594, 63.570113803287306, 150.4133640464605, -61.15478311733064, 6.448554941928649, -161.895040044757, 538.7081977826635, 331.33877150226095, 145.20594532496304, 227.84117675944435, 58.75762399455457, 117.93517209435436, 159.22280690087752, 98.81567619584123, 146.54369865292796, 27.945640133103023, 135.38222517791053, -71.38861779465309, 156.45187669172617, 195.7925168166274, 151.78367477823076, 90.42774677412729, 182.20224324905527, 115.51951475641658, 1.5275515699833166, -208.99072284580413, -193.60068975496648, 994.8247605049053, 276.02838247776714, 257.6135803239589, -189.5574563404302, 156.64790007634772, 195.91197560775282, 97.37117219543978, 930.7532450396078, 238.90812961481035, 276.41065555188425, 148.45814928983867, 246.86805357633963], \"yaxis\": \"y2\"}, {\"line\": {\"color\": \"#0072B2\", \"width\": 2}, \"mode\": \"lines\", \"name\": \"weekly\", \"type\": \"scatter\", \"x\": [\"2017-01-01T00:00:00\", \"2017-01-02T00:00:00\", \"2017-01-03T00:00:00\", \"2017-01-04T00:00:00\", \"2017-01-05T00:00:00\", \"2017-01-06T00:00:00\", \"2017-01-07T00:00:00\"], \"xaxis\": \"x3\", \"y\": [-30.344566557218176, -75.39621005759587, -48.325628852521724, 19.232723726455433, 30.978647305773034, 31.618769607864955, 72.23626482711781], \"yaxis\": \"y3\"}],\n",
              "                        {\"height\": 600, \"showlegend\": false, \"template\": {\"data\": {\"bar\": [{\"error_x\": {\"color\": \"#2a3f5f\"}, \"error_y\": {\"color\": \"#2a3f5f\"}, \"marker\": {\"line\": {\"color\": \"#E5ECF6\", \"width\": 0.5}}, \"type\": \"bar\"}], \"barpolar\": [{\"marker\": {\"line\": {\"color\": \"#E5ECF6\", \"width\": 0.5}}, \"type\": \"barpolar\"}], \"carpet\": [{\"aaxis\": {\"endlinecolor\": \"#2a3f5f\", \"gridcolor\": \"white\", \"linecolor\": \"white\", \"minorgridcolor\": \"white\", \"startlinecolor\": \"#2a3f5f\"}, \"baxis\": {\"endlinecolor\": \"#2a3f5f\", \"gridcolor\": \"white\", \"linecolor\": \"white\", \"minorgridcolor\": \"white\", \"startlinecolor\": \"#2a3f5f\"}, \"type\": \"carpet\"}], \"choropleth\": [{\"colorbar\": {\"outlinewidth\": 0, \"ticks\": \"\"}, \"type\": \"choropleth\"}], \"contour\": [{\"colorbar\": {\"outlinewidth\": 0, \"ticks\": \"\"}, \"colorscale\": [[0.0, \"#0d0887\"], [0.1111111111111111, \"#46039f\"], [0.2222222222222222, \"#7201a8\"], [0.3333333333333333, \"#9c179e\"], [0.4444444444444444, \"#bd3786\"], [0.5555555555555556, \"#d8576b\"], [0.6666666666666666, \"#ed7953\"], [0.7777777777777778, \"#fb9f3a\"], [0.8888888888888888, \"#fdca26\"], [1.0, \"#f0f921\"]], \"type\": \"contour\"}], \"contourcarpet\": [{\"colorbar\": {\"outlinewidth\": 0, \"ticks\": \"\"}, \"type\": \"contourcarpet\"}], \"heatmap\": [{\"colorbar\": {\"outlinewidth\": 0, \"ticks\": \"\"}, \"colorscale\": [[0.0, \"#0d0887\"], [0.1111111111111111, \"#46039f\"], [0.2222222222222222, \"#7201a8\"], [0.3333333333333333, \"#9c179e\"], [0.4444444444444444, \"#bd3786\"], [0.5555555555555556, \"#d8576b\"], [0.6666666666666666, \"#ed7953\"], [0.7777777777777778, \"#fb9f3a\"], [0.8888888888888888, \"#fdca26\"], [1.0, \"#f0f921\"]], \"type\": \"heatmap\"}], \"heatmapgl\": [{\"colorbar\": {\"outlinewidth\": 0, \"ticks\": \"\"}, \"colorscale\": [[0.0, \"#0d0887\"], [0.1111111111111111, \"#46039f\"], [0.2222222222222222, \"#7201a8\"], [0.3333333333333333, \"#9c179e\"], [0.4444444444444444, \"#bd3786\"], [0.5555555555555556, \"#d8576b\"], [0.6666666666666666, \"#ed7953\"], [0.7777777777777778, \"#fb9f3a\"], [0.8888888888888888, \"#fdca26\"], [1.0, \"#f0f921\"]], \"type\": \"heatmapgl\"}], \"histogram\": [{\"marker\": {\"colorbar\": {\"outlinewidth\": 0, \"ticks\": \"\"}}, \"type\": \"histogram\"}], \"histogram2d\": [{\"colorbar\": {\"outlinewidth\": 0, \"ticks\": \"\"}, \"colorscale\": [[0.0, \"#0d0887\"], [0.1111111111111111, \"#46039f\"], [0.2222222222222222, \"#7201a8\"], [0.3333333333333333, \"#9c179e\"], [0.4444444444444444, \"#bd3786\"], [0.5555555555555556, \"#d8576b\"], [0.6666666666666666, \"#ed7953\"], [0.7777777777777778, \"#fb9f3a\"], [0.8888888888888888, \"#fdca26\"], [1.0, \"#f0f921\"]], \"type\": \"histogram2d\"}], \"histogram2dcontour\": [{\"colorbar\": {\"outlinewidth\": 0, \"ticks\": \"\"}, \"colorscale\": [[0.0, \"#0d0887\"], [0.1111111111111111, \"#46039f\"], [0.2222222222222222, \"#7201a8\"], [0.3333333333333333, \"#9c179e\"], [0.4444444444444444, \"#bd3786\"], [0.5555555555555556, \"#d8576b\"], [0.6666666666666666, \"#ed7953\"], [0.7777777777777778, \"#fb9f3a\"], [0.8888888888888888, \"#fdca26\"], [1.0, \"#f0f921\"]], \"type\": \"histogram2dcontour\"}], \"mesh3d\": [{\"colorbar\": {\"outlinewidth\": 0, \"ticks\": \"\"}, \"type\": \"mesh3d\"}], \"parcoords\": [{\"line\": {\"colorbar\": {\"outlinewidth\": 0, \"ticks\": \"\"}}, \"type\": \"parcoords\"}], \"pie\": [{\"automargin\": true, \"type\": \"pie\"}], \"scatter\": [{\"marker\": {\"colorbar\": {\"outlinewidth\": 0, \"ticks\": \"\"}}, \"type\": \"scatter\"}], \"scatter3d\": [{\"line\": {\"colorbar\": {\"outlinewidth\": 0, \"ticks\": \"\"}}, \"marker\": {\"colorbar\": {\"outlinewidth\": 0, \"ticks\": \"\"}}, \"type\": \"scatter3d\"}], \"scattercarpet\": [{\"marker\": {\"colorbar\": {\"outlinewidth\": 0, \"ticks\": \"\"}}, \"type\": \"scattercarpet\"}], \"scattergeo\": [{\"marker\": {\"colorbar\": {\"outlinewidth\": 0, \"ticks\": \"\"}}, \"type\": \"scattergeo\"}], \"scattergl\": [{\"marker\": {\"colorbar\": {\"outlinewidth\": 0, \"ticks\": \"\"}}, \"type\": \"scattergl\"}], \"scattermapbox\": [{\"marker\": {\"colorbar\": {\"outlinewidth\": 0, \"ticks\": \"\"}}, \"type\": \"scattermapbox\"}], \"scatterpolar\": [{\"marker\": {\"colorbar\": {\"outlinewidth\": 0, \"ticks\": \"\"}}, \"type\": \"scatterpolar\"}], \"scatterpolargl\": [{\"marker\": {\"colorbar\": {\"outlinewidth\": 0, \"ticks\": \"\"}}, \"type\": \"scatterpolargl\"}], \"scatterternary\": [{\"marker\": {\"colorbar\": {\"outlinewidth\": 0, \"ticks\": \"\"}}, \"type\": \"scatterternary\"}], \"surface\": [{\"colorbar\": {\"outlinewidth\": 0, \"ticks\": \"\"}, \"colorscale\": [[0.0, \"#0d0887\"], [0.1111111111111111, \"#46039f\"], [0.2222222222222222, \"#7201a8\"], [0.3333333333333333, \"#9c179e\"], [0.4444444444444444, \"#bd3786\"], [0.5555555555555556, \"#d8576b\"], [0.6666666666666666, \"#ed7953\"], [0.7777777777777778, \"#fb9f3a\"], [0.8888888888888888, \"#fdca26\"], [1.0, \"#f0f921\"]], \"type\": \"surface\"}], \"table\": [{\"cells\": {\"fill\": {\"color\": \"#EBF0F8\"}, \"line\": {\"color\": \"white\"}}, \"header\": {\"fill\": {\"color\": \"#C8D4E3\"}, \"line\": {\"color\": \"white\"}}, \"type\": \"table\"}]}, \"layout\": {\"annotationdefaults\": {\"arrowcolor\": \"#2a3f5f\", \"arrowhead\": 0, \"arrowwidth\": 1}, \"coloraxis\": {\"colorbar\": {\"outlinewidth\": 0, \"ticks\": \"\"}}, \"colorscale\": {\"diverging\": [[0, \"#8e0152\"], [0.1, \"#c51b7d\"], [0.2, \"#de77ae\"], [0.3, \"#f1b6da\"], [0.4, \"#fde0ef\"], [0.5, \"#f7f7f7\"], [0.6, \"#e6f5d0\"], [0.7, \"#b8e186\"], [0.8, \"#7fbc41\"], [0.9, \"#4d9221\"], [1, \"#276419\"]], \"sequential\": [[0.0, \"#0d0887\"], [0.1111111111111111, \"#46039f\"], [0.2222222222222222, \"#7201a8\"], [0.3333333333333333, \"#9c179e\"], [0.4444444444444444, \"#bd3786\"], [0.5555555555555556, \"#d8576b\"], [0.6666666666666666, \"#ed7953\"], [0.7777777777777778, \"#fb9f3a\"], [0.8888888888888888, \"#fdca26\"], [1.0, \"#f0f921\"]], \"sequentialminus\": [[0.0, \"#0d0887\"], [0.1111111111111111, \"#46039f\"], [0.2222222222222222, \"#7201a8\"], [0.3333333333333333, \"#9c179e\"], [0.4444444444444444, \"#bd3786\"], [0.5555555555555556, \"#d8576b\"], [0.6666666666666666, \"#ed7953\"], [0.7777777777777778, \"#fb9f3a\"], [0.8888888888888888, \"#fdca26\"], [1.0, \"#f0f921\"]]}, \"colorway\": [\"#636efa\", \"#EF553B\", \"#00cc96\", \"#ab63fa\", \"#FFA15A\", \"#19d3f3\", \"#FF6692\", \"#B6E880\", \"#FF97FF\", \"#FECB52\"], \"font\": {\"color\": \"#2a3f5f\"}, \"geo\": {\"bgcolor\": \"white\", \"lakecolor\": \"white\", \"landcolor\": \"#E5ECF6\", \"showlakes\": true, \"showland\": true, \"subunitcolor\": \"white\"}, \"hoverlabel\": {\"align\": \"left\"}, \"hovermode\": \"closest\", \"mapbox\": {\"style\": \"light\"}, \"paper_bgcolor\": \"white\", \"plot_bgcolor\": \"#E5ECF6\", \"polar\": {\"angularaxis\": {\"gridcolor\": \"white\", \"linecolor\": \"white\", \"ticks\": \"\"}, \"bgcolor\": \"#E5ECF6\", \"radialaxis\": {\"gridcolor\": \"white\", \"linecolor\": \"white\", \"ticks\": \"\"}}, \"scene\": {\"xaxis\": {\"backgroundcolor\": \"#E5ECF6\", \"gridcolor\": \"white\", \"gridwidth\": 2, \"linecolor\": \"white\", \"showbackground\": true, \"ticks\": \"\", \"zerolinecolor\": \"white\"}, \"yaxis\": {\"backgroundcolor\": \"#E5ECF6\", \"gridcolor\": \"white\", \"gridwidth\": 2, \"linecolor\": \"white\", \"showbackground\": true, \"ticks\": \"\", \"zerolinecolor\": \"white\"}, \"zaxis\": {\"backgroundcolor\": \"#E5ECF6\", \"gridcolor\": \"white\", \"gridwidth\": 2, \"linecolor\": \"white\", \"showbackground\": true, \"ticks\": \"\", \"zerolinecolor\": \"white\"}}, \"shapedefaults\": {\"line\": {\"color\": \"#2a3f5f\"}}, \"ternary\": {\"aaxis\": {\"gridcolor\": \"white\", \"linecolor\": \"white\", \"ticks\": \"\"}, \"baxis\": {\"gridcolor\": \"white\", \"linecolor\": \"white\", \"ticks\": \"\"}, \"bgcolor\": \"#E5ECF6\", \"caxis\": {\"gridcolor\": \"white\", \"linecolor\": \"white\", \"ticks\": \"\"}}, \"title\": {\"x\": 0.05}, \"xaxis\": {\"automargin\": true, \"gridcolor\": \"white\", \"linecolor\": \"white\", \"ticks\": \"\", \"title\": {\"standoff\": 15}, \"zerolinecolor\": \"white\", \"zerolinewidth\": 2}, \"yaxis\": {\"automargin\": true, \"gridcolor\": \"white\", \"linecolor\": \"white\", \"ticks\": \"\", \"title\": {\"standoff\": 15}, \"zerolinecolor\": \"white\", \"zerolinewidth\": 2}}}, \"width\": 900, \"xaxis\": {\"anchor\": \"y\", \"domain\": [0.0, 1.0], \"range\": [\"2020-02-14T21:36:00\", \"2021-01-12T02:24:00\"], \"type\": \"date\"}, \"xaxis2\": {\"anchor\": \"y2\", \"domain\": [0.0, 1.0], \"range\": [\"2020-02-14T21:36:00\", \"2021-01-12T02:24:00\"], \"type\": \"date\"}, \"xaxis3\": {\"anchor\": \"y3\", \"domain\": [0.0, 1.0], \"range\": [\"2016-12-31T16:48:00\", \"2017-01-07T07:12:00\"], \"tickformat\": \"%A\", \"type\": \"date\"}, \"yaxis\": {\"anchor\": \"x\", \"domain\": [0.7333333333333333, 1.0], \"rangemode\": \"normal\", \"title\": {\"text\": \"trend\"}, \"zerolinecolor\": \"#AAA\"}, \"yaxis2\": {\"anchor\": \"x2\", \"domain\": [0.36666666666666664, 0.6333333333333333], \"rangemode\": \"tozero\", \"title\": {\"text\": \"extra_regressors_additive\"}, \"zerolinecolor\": \"#AAA\"}, \"yaxis3\": {\"anchor\": \"x3\", \"domain\": [0.0, 0.26666666666666666], \"title\": {\"text\": \"weekly\"}, \"zerolinecolor\": \"#AAA\"}},\n",
              "                        {\"responsive\": true}\n",
              "                    ).then(function(){\n",
              "                            \n",
              "var gd = document.getElementById('2276d390-3946-438a-acf3-30a10017a5cc');\n",
              "var x = new MutationObserver(function (mutations, observer) {{\n",
              "        var display = window.getComputedStyle(gd).display;\n",
              "        if (!display || display === 'none') {{\n",
              "            console.log([gd, 'removed!']);\n",
              "            Plotly.purge(gd);\n",
              "            observer.disconnect();\n",
              "        }}\n",
              "}});\n",
              "\n",
              "// Listen for the removal of the full notebook cells\n",
              "var notebookContainer = gd.closest('#notebook-container');\n",
              "if (notebookContainer) {{\n",
              "    x.observe(notebookContainer, {childList: true});\n",
              "}}\n",
              "\n",
              "// Listen for the clearing of the current output cell\n",
              "var outputEl = gd.closest('.output');\n",
              "if (outputEl) {{\n",
              "    x.observe(outputEl, {childList: true});\n",
              "}}\n",
              "\n",
              "                        })\n",
              "                };\n",
              "                \n",
              "            </script>\n",
              "        </div>\n",
              "</body>\n",
              "</html>"
            ]
          },
          "metadata": {
            "tags": []
          }
        }
      ]
    },
    {
      "cell_type": "code",
      "metadata": {
        "id": "23ZEozYOJ3PY",
        "colab": {
          "base_uri": "https://localhost:8080/",
          "height": 617
        },
        "outputId": "1a80a150-e9e3-4823-b2e5-8b3317cc40a1"
      },
      "source": [
        "plot_plotly(m, forecast)"
      ],
      "execution_count": 27,
      "outputs": [
        {
          "output_type": "display_data",
          "data": {
            "text/html": [
              "<html>\n",
              "<head><meta charset=\"utf-8\" /></head>\n",
              "<body>\n",
              "    <div>\n",
              "            <script src=\"https://cdnjs.cloudflare.com/ajax/libs/mathjax/2.7.5/MathJax.js?config=TeX-AMS-MML_SVG\"></script><script type=\"text/javascript\">if (window.MathJax) {MathJax.Hub.Config({SVG: {font: \"STIX-Web\"}});}</script>\n",
              "                <script type=\"text/javascript\">window.PlotlyConfig = {MathJaxConfig: 'local'};</script>\n",
              "        <script src=\"https://cdn.plot.ly/plotly-latest.min.js\"></script>    \n",
              "            <div id=\"cd0c969a-4d5d-45d7-9318-12cd819f3e48\" class=\"plotly-graph-div\" style=\"height:600px; width:900px;\"></div>\n",
              "            <script type=\"text/javascript\">\n",
              "                \n",
              "                    window.PLOTLYENV=window.PLOTLYENV || {};\n",
              "                    \n",
              "                if (document.getElementById(\"cd0c969a-4d5d-45d7-9318-12cd819f3e48\")) {\n",
              "                    Plotly.newPlot(\n",
              "                        'cd0c969a-4d5d-45d7-9318-12cd819f3e48',\n",
              "                        [{\"marker\": {\"color\": \"black\", \"size\": 4}, \"mode\": \"markers\", \"name\": \"Actual\", \"type\": \"scatter\", \"x\": [\"2020-03-01T00:00:00\", \"2020-03-02T00:00:00\", \"2020-03-03T00:00:00\", \"2020-03-04T00:00:00\", \"2020-03-05T00:00:00\", \"2020-03-06T00:00:00\", \"2020-03-07T00:00:00\", \"2020-03-08T00:00:00\", \"2020-03-09T00:00:00\", \"2020-03-10T00:00:00\", \"2020-03-11T00:00:00\", \"2020-03-12T00:00:00\", \"2020-03-13T00:00:00\", \"2020-03-14T00:00:00\", \"2020-03-15T00:00:00\", \"2020-03-16T00:00:00\", \"2020-03-17T00:00:00\", \"2020-03-18T00:00:00\", \"2020-03-19T00:00:00\", \"2020-03-20T00:00:00\", \"2020-03-21T00:00:00\", \"2020-03-22T00:00:00\", \"2020-03-23T00:00:00\", \"2020-03-24T00:00:00\", \"2020-03-25T00:00:00\", \"2020-03-26T00:00:00\", \"2020-03-27T00:00:00\", \"2020-03-28T00:00:00\", \"2020-03-29T00:00:00\", \"2020-03-30T00:00:00\", \"2020-03-31T00:00:00\", \"2020-04-01T00:00:00\", \"2020-04-02T00:00:00\", \"2020-04-03T00:00:00\", \"2020-04-04T00:00:00\", \"2020-04-05T00:00:00\", \"2020-04-06T00:00:00\", \"2020-04-07T00:00:00\", \"2020-04-08T00:00:00\", \"2020-04-09T00:00:00\", \"2020-04-10T00:00:00\", \"2020-04-11T00:00:00\", \"2020-04-12T00:00:00\", \"2020-04-13T00:00:00\", \"2020-04-14T00:00:00\", \"2020-04-15T00:00:00\", \"2020-04-16T00:00:00\", \"2020-04-17T00:00:00\", \"2020-04-18T00:00:00\", \"2020-04-19T00:00:00\", \"2020-04-21T00:00:00\", \"2020-04-22T00:00:00\", \"2020-04-23T00:00:00\", \"2020-04-24T00:00:00\", \"2020-04-25T00:00:00\", \"2020-04-26T00:00:00\", \"2020-04-27T00:00:00\", \"2020-04-28T00:00:00\", \"2020-04-29T00:00:00\", \"2020-04-30T00:00:00\", \"2020-05-01T00:00:00\", \"2020-05-02T00:00:00\", \"2020-05-03T00:00:00\", \"2020-05-04T00:00:00\", \"2020-05-05T00:00:00\", \"2020-05-06T00:00:00\", \"2020-05-07T00:00:00\", \"2020-05-08T00:00:00\", \"2020-05-09T00:00:00\", \"2020-05-10T00:00:00\", \"2020-05-11T00:00:00\", \"2020-05-12T00:00:00\", \"2020-05-13T00:00:00\", \"2020-05-14T00:00:00\", \"2020-05-15T00:00:00\", \"2020-05-16T00:00:00\", \"2020-05-17T00:00:00\", \"2020-05-18T00:00:00\", \"2020-05-19T00:00:00\", \"2020-05-20T00:00:00\", \"2020-05-21T00:00:00\", \"2020-05-22T00:00:00\", \"2020-05-23T00:00:00\", \"2020-05-24T00:00:00\", \"2020-05-25T00:00:00\", \"2020-05-26T00:00:00\", \"2020-05-27T00:00:00\", \"2020-05-28T00:00:00\", \"2020-05-30T00:00:00\", \"2020-05-31T00:00:00\", \"2020-06-01T00:00:00\", \"2020-06-02T00:00:00\", \"2020-06-03T00:00:00\", \"2020-06-04T00:00:00\", \"2020-06-05T00:00:00\", \"2020-06-06T00:00:00\", \"2020-06-07T00:00:00\", \"2020-06-08T00:00:00\", \"2020-06-09T00:00:00\", \"2020-06-10T00:00:00\", \"2020-06-11T00:00:00\", \"2020-06-12T00:00:00\", \"2020-06-13T00:00:00\", \"2020-06-14T00:00:00\", \"2020-06-15T00:00:00\", \"2020-06-16T00:00:00\", \"2020-06-17T00:00:00\", \"2020-06-18T00:00:00\", \"2020-06-19T00:00:00\", \"2020-06-20T00:00:00\", \"2020-06-21T00:00:00\", \"2020-06-22T00:00:00\", \"2020-06-23T00:00:00\", \"2020-06-24T00:00:00\", \"2020-06-25T00:00:00\", \"2020-06-26T00:00:00\", \"2020-06-27T00:00:00\", \"2020-06-28T00:00:00\", \"2020-06-29T00:00:00\", \"2020-06-30T00:00:00\", \"2020-07-01T00:00:00\", \"2020-07-02T00:00:00\", \"2020-07-03T00:00:00\", \"2020-07-04T00:00:00\", \"2020-07-05T00:00:00\", \"2020-07-06T00:00:00\", \"2020-07-07T00:00:00\", \"2020-07-08T00:00:00\", \"2020-07-09T00:00:00\", \"2020-07-10T00:00:00\", \"2020-07-11T00:00:00\", \"2020-07-12T00:00:00\", \"2020-07-13T00:00:00\", \"2020-07-14T00:00:00\", \"2020-07-15T00:00:00\", \"2020-07-16T00:00:00\", \"2020-07-17T00:00:00\", \"2020-07-18T00:00:00\", \"2020-07-19T00:00:00\", \"2020-07-20T00:00:00\", \"2020-07-21T00:00:00\", \"2020-07-22T00:00:00\", \"2020-07-23T00:00:00\", \"2020-07-24T00:00:00\", \"2020-07-25T00:00:00\", \"2020-07-26T00:00:00\", \"2020-07-27T00:00:00\", \"2020-07-28T00:00:00\", \"2020-07-29T00:00:00\", \"2020-07-30T00:00:00\", \"2020-07-31T00:00:00\", \"2020-08-01T00:00:00\", \"2020-08-02T00:00:00\", \"2020-08-03T00:00:00\", \"2020-08-04T00:00:00\", \"2020-08-05T00:00:00\", \"2020-08-06T00:00:00\", \"2020-08-07T00:00:00\", \"2020-08-08T00:00:00\", \"2020-08-09T00:00:00\", \"2020-08-10T00:00:00\", \"2020-08-11T00:00:00\", \"2020-08-12T00:00:00\", \"2020-08-13T00:00:00\", \"2020-08-14T00:00:00\", \"2020-08-15T00:00:00\", \"2020-08-16T00:00:00\", \"2020-08-17T00:00:00\", \"2020-08-18T00:00:00\", \"2020-08-19T00:00:00\", \"2020-08-20T00:00:00\", \"2020-08-21T00:00:00\", \"2020-08-22T00:00:00\", \"2020-08-23T00:00:00\", \"2020-08-24T00:00:00\", \"2020-08-25T00:00:00\", \"2020-08-26T00:00:00\", \"2020-08-27T00:00:00\", \"2020-08-28T00:00:00\", \"2020-08-29T00:00:00\", \"2020-08-30T00:00:00\", \"2020-08-31T00:00:00\", \"2020-09-01T00:00:00\", \"2020-09-02T00:00:00\", \"2020-09-03T00:00:00\", \"2020-09-04T00:00:00\", \"2020-09-05T00:00:00\", \"2020-09-06T00:00:00\", \"2020-09-07T00:00:00\", \"2020-09-08T00:00:00\", \"2020-09-09T00:00:00\", \"2020-09-10T00:00:00\", \"2020-09-11T00:00:00\", \"2020-09-12T00:00:00\", \"2020-09-13T00:00:00\", \"2020-09-14T00:00:00\", \"2020-09-15T00:00:00\", \"2020-09-16T00:00:00\", \"2020-09-17T00:00:00\", \"2020-09-18T00:00:00\", \"2020-09-19T00:00:00\", \"2020-09-20T00:00:00\", \"2020-09-21T00:00:00\", \"2020-09-22T00:00:00\", \"2020-09-23T00:00:00\", \"2020-09-24T00:00:00\", \"2020-09-25T00:00:00\", \"2020-09-26T00:00:00\", \"2020-09-27T00:00:00\", \"2020-09-28T00:00:00\", \"2020-09-29T00:00:00\", \"2020-09-30T00:00:00\", \"2020-10-01T00:00:00\", \"2020-10-02T00:00:00\", \"2020-10-03T00:00:00\", \"2020-10-04T00:00:00\", \"2020-10-05T00:00:00\", \"2020-10-06T00:00:00\", \"2020-10-07T00:00:00\", \"2020-10-09T00:00:00\", \"2020-10-10T00:00:00\", \"2020-10-11T00:00:00\", \"2020-10-12T00:00:00\", \"2020-10-13T00:00:00\", \"2020-10-14T00:00:00\", \"2020-10-15T00:00:00\", \"2020-10-16T00:00:00\", \"2020-10-17T00:00:00\", \"2020-10-18T00:00:00\", \"2020-10-19T00:00:00\", \"2020-10-20T00:00:00\", \"2020-10-21T00:00:00\", \"2020-10-22T00:00:00\", \"2020-10-23T00:00:00\", \"2020-10-24T00:00:00\", \"2020-10-25T00:00:00\", \"2020-10-26T00:00:00\", \"2020-10-27T00:00:00\", \"2020-10-28T00:00:00\", \"2020-10-29T00:00:00\"], \"y\": [16, 16, 16, 22, 20, 18, 17, 16, 16, 22, 23, 21, 24, 29, 16, 57, 66, 62, 57, 77, 16, 131, 145, 142, 166, 425, 252, 16, 376, 601, 531, 497, 519, 514, 55, 905, 429, 543, 587, 407, 488, 26, 446, 526, 583, 472, 350, 532, 586, 333, 902, 892, 829, 792, 563, 439, 722, 551, 926, 654, 810, 592, 694, 518, 944, 705, 716, 696, 755, 464, 544, 767, 901, 720, 756, 812, 605, 451, 839, 900, 849, 805, 813, 740, 790, 976, 752, 832, 1002, 878, 793, 866, 810, 919, 909, 898, 920, 716, 878, 857, 978, 937, 932, 773, 699, 902, 1005, 828, 896, 1000, 959, 1044, 1033, 842, 985, 973, 990, 1037, 1071, 1062, 974, 1009, 30, 36, 1139, 934, 1109, 1032, 965, 1028, 1065, 1080, 1059, 1110, 1047, 1120, 1052, 1051, 1054, 1077, 1066, 1075, 964, 1001, 1088, 955, 992, 1046, 1126, 1042, 1034, 1020, 899, 956, 982, 1023, 1070, 1072, 1036, 972, 989, 344, 1090, 158, 1118, 995, 834, 881, 731, 963, 930, 960, 942, 805, 863, 733, 943, 941, 922, 894, 786, 798, 666, 916, 818, 915, 846, 686, 487, 427, 585, 856, 810, 836, 697, 617, 404, 832, 843, 872, 895, 780, 603, 628, 865, 824, 907, 867, 698, 608, 705, 796, 822, 887, 783, 757, 388, 750, 939, 871, 879, 777, 717, 674, 883, 858, 809, 750, 328, 751, 599, 477, 1096, 1053, 1007, 702, 720, 921, 891, 957]}, {\"hoverinfo\": \"skip\", \"line\": {\"width\": 0}, \"mode\": \"lines\", \"type\": \"scatter\", \"x\": [\"2020-03-01T00:00:00\", \"2020-03-02T00:00:00\", \"2020-03-03T00:00:00\", \"2020-03-04T00:00:00\", \"2020-03-05T00:00:00\", \"2020-03-06T00:00:00\", \"2020-03-07T00:00:00\", \"2020-03-08T00:00:00\", \"2020-03-09T00:00:00\", \"2020-03-10T00:00:00\", \"2020-03-11T00:00:00\", \"2020-03-12T00:00:00\", \"2020-03-13T00:00:00\", \"2020-03-14T00:00:00\", \"2020-03-15T00:00:00\", \"2020-03-16T00:00:00\", \"2020-03-17T00:00:00\", \"2020-03-18T00:00:00\", \"2020-03-19T00:00:00\", \"2020-03-20T00:00:00\", \"2020-03-21T00:00:00\", \"2020-03-22T00:00:00\", \"2020-03-23T00:00:00\", \"2020-03-24T00:00:00\", \"2020-03-25T00:00:00\", \"2020-03-26T00:00:00\", \"2020-03-27T00:00:00\", \"2020-03-28T00:00:00\", \"2020-03-29T00:00:00\", \"2020-03-30T00:00:00\", \"2020-03-31T00:00:00\", \"2020-04-01T00:00:00\", \"2020-04-02T00:00:00\", \"2020-04-03T00:00:00\", \"2020-04-04T00:00:00\", \"2020-04-05T00:00:00\", \"2020-04-06T00:00:00\", \"2020-04-07T00:00:00\", \"2020-04-08T00:00:00\", \"2020-04-09T00:00:00\", \"2020-04-10T00:00:00\", \"2020-04-11T00:00:00\", \"2020-04-12T00:00:00\", \"2020-04-13T00:00:00\", \"2020-04-14T00:00:00\", \"2020-04-15T00:00:00\", \"2020-04-16T00:00:00\", \"2020-04-17T00:00:00\", \"2020-04-18T00:00:00\", \"2020-04-19T00:00:00\", \"2020-04-21T00:00:00\", \"2020-04-22T00:00:00\", \"2020-04-23T00:00:00\", \"2020-04-24T00:00:00\", \"2020-04-25T00:00:00\", \"2020-04-26T00:00:00\", \"2020-04-27T00:00:00\", \"2020-04-28T00:00:00\", \"2020-04-29T00:00:00\", \"2020-04-30T00:00:00\", \"2020-05-01T00:00:00\", \"2020-05-02T00:00:00\", \"2020-05-03T00:00:00\", \"2020-05-04T00:00:00\", \"2020-05-05T00:00:00\", \"2020-05-06T00:00:00\", \"2020-05-07T00:00:00\", \"2020-05-08T00:00:00\", \"2020-05-09T00:00:00\", \"2020-05-10T00:00:00\", \"2020-05-11T00:00:00\", \"2020-05-12T00:00:00\", \"2020-05-13T00:00:00\", \"2020-05-14T00:00:00\", \"2020-05-15T00:00:00\", \"2020-05-16T00:00:00\", \"2020-05-17T00:00:00\", \"2020-05-18T00:00:00\", \"2020-05-19T00:00:00\", \"2020-05-20T00:00:00\", \"2020-05-21T00:00:00\", \"2020-05-22T00:00:00\", \"2020-05-23T00:00:00\", \"2020-05-24T00:00:00\", \"2020-05-25T00:00:00\", \"2020-05-26T00:00:00\", \"2020-05-27T00:00:00\", \"2020-05-28T00:00:00\", \"2020-05-30T00:00:00\", \"2020-05-31T00:00:00\", \"2020-06-01T00:00:00\", \"2020-06-02T00:00:00\", \"2020-06-03T00:00:00\", \"2020-06-04T00:00:00\", \"2020-06-05T00:00:00\", \"2020-06-06T00:00:00\", \"2020-06-07T00:00:00\", \"2020-06-08T00:00:00\", \"2020-06-09T00:00:00\", \"2020-06-10T00:00:00\", \"2020-06-11T00:00:00\", \"2020-06-12T00:00:00\", \"2020-06-13T00:00:00\", \"2020-06-14T00:00:00\", \"2020-06-15T00:00:00\", \"2020-06-16T00:00:00\", \"2020-06-17T00:00:00\", \"2020-06-18T00:00:00\", \"2020-06-19T00:00:00\", \"2020-06-20T00:00:00\", \"2020-06-21T00:00:00\", \"2020-06-22T00:00:00\", \"2020-06-23T00:00:00\", \"2020-06-24T00:00:00\", \"2020-06-25T00:00:00\", \"2020-06-26T00:00:00\", \"2020-06-27T00:00:00\", \"2020-06-28T00:00:00\", \"2020-06-29T00:00:00\", \"2020-06-30T00:00:00\", \"2020-07-01T00:00:00\", \"2020-07-02T00:00:00\", \"2020-07-03T00:00:00\", \"2020-07-04T00:00:00\", \"2020-07-05T00:00:00\", \"2020-07-06T00:00:00\", \"2020-07-07T00:00:00\", \"2020-07-08T00:00:00\", \"2020-07-09T00:00:00\", \"2020-07-10T00:00:00\", \"2020-07-11T00:00:00\", \"2020-07-12T00:00:00\", \"2020-07-13T00:00:00\", \"2020-07-14T00:00:00\", \"2020-07-15T00:00:00\", \"2020-07-16T00:00:00\", \"2020-07-17T00:00:00\", \"2020-07-18T00:00:00\", \"2020-07-19T00:00:00\", \"2020-07-20T00:00:00\", \"2020-07-21T00:00:00\", \"2020-07-22T00:00:00\", \"2020-07-23T00:00:00\", \"2020-07-24T00:00:00\", \"2020-07-25T00:00:00\", \"2020-07-26T00:00:00\", \"2020-07-27T00:00:00\", \"2020-07-28T00:00:00\", \"2020-07-29T00:00:00\", \"2020-07-30T00:00:00\", \"2020-07-31T00:00:00\", \"2020-08-01T00:00:00\", \"2020-08-02T00:00:00\", \"2020-08-03T00:00:00\", \"2020-08-04T00:00:00\", \"2020-08-05T00:00:00\", \"2020-08-06T00:00:00\", \"2020-08-07T00:00:00\", \"2020-08-08T00:00:00\", \"2020-08-09T00:00:00\", \"2020-08-10T00:00:00\", \"2020-08-11T00:00:00\", \"2020-08-12T00:00:00\", \"2020-08-13T00:00:00\", \"2020-08-14T00:00:00\", \"2020-08-15T00:00:00\", \"2020-08-16T00:00:00\", \"2020-08-17T00:00:00\", \"2020-08-18T00:00:00\", \"2020-08-19T00:00:00\", \"2020-08-20T00:00:00\", \"2020-08-21T00:00:00\", \"2020-08-22T00:00:00\", \"2020-08-23T00:00:00\", \"2020-08-24T00:00:00\", \"2020-08-25T00:00:00\", \"2020-08-26T00:00:00\", \"2020-08-27T00:00:00\", \"2020-08-28T00:00:00\", \"2020-08-29T00:00:00\", \"2020-08-30T00:00:00\", \"2020-08-31T00:00:00\", \"2020-09-01T00:00:00\", \"2020-09-02T00:00:00\", \"2020-09-03T00:00:00\", \"2020-09-04T00:00:00\", \"2020-09-05T00:00:00\", \"2020-09-06T00:00:00\", \"2020-09-07T00:00:00\", \"2020-09-08T00:00:00\", \"2020-09-09T00:00:00\", \"2020-09-10T00:00:00\", \"2020-09-11T00:00:00\", \"2020-09-12T00:00:00\", \"2020-09-13T00:00:00\", \"2020-09-14T00:00:00\", \"2020-09-15T00:00:00\", \"2020-09-16T00:00:00\", \"2020-09-17T00:00:00\", \"2020-09-18T00:00:00\", \"2020-09-19T00:00:00\", \"2020-09-20T00:00:00\", \"2020-09-21T00:00:00\", \"2020-09-22T00:00:00\", \"2020-09-23T00:00:00\", \"2020-09-24T00:00:00\", \"2020-09-25T00:00:00\", \"2020-09-26T00:00:00\", \"2020-09-27T00:00:00\", \"2020-09-28T00:00:00\", \"2020-09-29T00:00:00\", \"2020-09-30T00:00:00\", \"2020-10-01T00:00:00\", \"2020-10-02T00:00:00\", \"2020-10-03T00:00:00\", \"2020-10-04T00:00:00\", \"2020-10-05T00:00:00\", \"2020-10-06T00:00:00\", \"2020-10-07T00:00:00\", \"2020-10-09T00:00:00\", \"2020-10-10T00:00:00\", \"2020-10-11T00:00:00\", \"2020-10-12T00:00:00\", \"2020-10-13T00:00:00\", \"2020-10-14T00:00:00\", \"2020-10-15T00:00:00\", \"2020-10-16T00:00:00\", \"2020-10-17T00:00:00\", \"2020-10-18T00:00:00\", \"2020-10-19T00:00:00\", \"2020-10-20T00:00:00\", \"2020-10-21T00:00:00\", \"2020-10-22T00:00:00\", \"2020-10-23T00:00:00\", \"2020-10-24T00:00:00\", \"2020-10-25T00:00:00\", \"2020-10-26T00:00:00\", \"2020-10-27T00:00:00\", \"2020-10-28T00:00:00\", \"2020-10-29T00:00:00\", \"2020-10-30T00:00:00\", \"2020-10-31T00:00:00\", \"2020-11-01T00:00:00\", \"2020-11-02T00:00:00\", \"2020-11-03T00:00:00\", \"2020-11-04T00:00:00\", \"2020-11-05T00:00:00\", \"2020-11-06T00:00:00\", \"2020-11-07T00:00:00\", \"2020-11-08T00:00:00\", \"2020-11-09T00:00:00\", \"2020-11-10T00:00:00\", \"2020-11-11T00:00:00\", \"2020-11-12T00:00:00\", \"2020-11-13T00:00:00\", \"2020-11-14T00:00:00\", \"2020-11-15T00:00:00\", \"2020-11-16T00:00:00\", \"2020-11-17T00:00:00\", \"2020-11-18T00:00:00\", \"2020-11-19T00:00:00\", \"2020-11-20T00:00:00\", \"2020-11-21T00:00:00\", \"2020-11-22T00:00:00\", \"2020-11-23T00:00:00\", \"2020-11-24T00:00:00\", \"2020-11-25T00:00:00\", \"2020-11-26T00:00:00\", \"2020-11-27T00:00:00\", \"2020-11-28T00:00:00\", \"2020-11-29T00:00:00\", \"2020-11-30T00:00:00\", \"2020-12-01T00:00:00\", \"2020-12-02T00:00:00\", \"2020-12-03T00:00:00\", \"2020-12-04T00:00:00\", \"2020-12-05T00:00:00\", \"2020-12-06T00:00:00\", \"2020-12-07T00:00:00\", \"2020-12-08T00:00:00\", \"2020-12-09T00:00:00\", \"2020-12-10T00:00:00\", \"2020-12-11T00:00:00\", \"2020-12-12T00:00:00\", \"2020-12-13T00:00:00\", \"2020-12-14T00:00:00\", \"2020-12-15T00:00:00\", \"2020-12-16T00:00:00\", \"2020-12-17T00:00:00\", \"2020-12-18T00:00:00\", \"2020-12-19T00:00:00\", \"2020-12-20T00:00:00\", \"2020-12-21T00:00:00\", \"2020-12-22T00:00:00\", \"2020-12-23T00:00:00\", \"2020-12-24T00:00:00\", \"2020-12-25T00:00:00\", \"2020-12-26T00:00:00\", \"2020-12-27T00:00:00\", \"2020-12-28T00:00:00\"], \"y\": [-702.8330524850547, -655.9868432374835, -158.96137880055284, -455.8247278405983, -467.25619099836, -495.2914377761231, -483.68307505720196, -264.99387209506256, -558.4158339656361, -1037.656005353274, -436.35225956861586, -875.2699859539991, -941.8734412069033, -839.3792489377809, -415.89536913974337, -797.8949919160822, -172.51199031813022, 131.63281767037336, -30.820955368033776, 233.408942418913, 359.33068334310997, 105.46484727478439, 74.63459004902106, 154.88074181359792, 193.07556450761933, 188.6613543895501, 273.1699952980257, -2.5023273316117347, -131.11509835701864, 36.92172214520119, 17.039974911757003, 163.7937948627974, 172.49233643392506, 240.13376857700288, -1.681136043244592, -285.58000970018884, -169.55251475758374, -85.04200028426804, 69.52900828114143, -73.53836238515626, 113.17304335764715, -7.564279259840051, -245.89387824641452, -20.93390163871075, 169.39095195189773, 314.58494543529565, 392.2733217250639, 427.2731557910768, 204.9394664807393, 72.37017566196347, 412.2412724001414, 500.0365906693497, 495.84045998150896, 503.6334998048424, 258.5422039405641, 64.86529453036142, 325.0761685642903, 104.1233906259899, 409.4523794541622, 396.33153503886746, 497.1808088956982, 269.5667385284952, 210.37833606174323, 302.6448164914742, 438.4088323529721, 502.9922772737412, 518.9452795653831, 592.6251410042912, 410.3899813281845, 203.8758906037783, 484.3739694445312, 558.2364421618611, 687.1631592481773, 711.1891811503924, 755.2107509068938, 617.3615377300657, 627.989991046397, 248.1200248852467, 592.0458017967254, 737.357349613355, 718.9561194887146, 737.2354620059122, 627.0680243541761, 777.2383476921357, 1171.1065601497241, 644.4580734513024, 750.8109606844235, 754.1258315034024, 689.7079305428341, 621.2943831318732, 316.83516548898893, 466.31188727585135, 548.587347281861, 660.0861655733693, 567.5237840700555, 595.8555420676894, 669.8770078797462, 451.32324985868195, 578.9132069388631, 586.3122793067922, 582.6950278845828, 609.9078956420864, 540.2343449120829, 627.0037934387586, 451.7117169512332, 543.2895173281545, 637.1022871952265, 379.8784704662685, 338.12902004546856, 242.37916070746383, 302.6686555199195, 247.71399166559996, 360.74668170617707, 442.41160488475646, 396.3914692903278, 446.58608619157576, 348.70264588288666, 382.1298311525835, 235.3477770648477, 256.5600583767716, 342.2581078320279, 312.8217369117804, 384.27306559649804, 227.42289254367088, 206.046742360698, 251.89921264270689, 319.9421849392942, 508.74617586205744, 484.573417760997, 427.4118820743357, 363.3723188431127, 417.6487799064726, 286.95544305036253, 467.2958621214182, 559.4859007138728, 517.5367687637942, 551.7904809925295, 530.4978737575927, 518.2971677475183, 396.62236175897124, 508.7781522476255, 599.5404599640075, 629.1216777173499, 664.8283976332324, 511.561392539717, 556.3169609691504, 374.4942110976363, 518.7827477715794, 646.3093372437619, 545.9335326491826, 638.0945452426731, 527.1951485229337, 584.5420033394382, 398.11090490420503, 489.8188244488162, 574.0266757908252, 663.9933060985674, 621.4201572846084, 584.6466365023718, 595.2255192691173, 392.0084271313406, 571.709166052137, 587.2397581366121, 604.9472527708324, 579.687648614221, 415.3027532008123, 446.85987507852917, 275.7120018481215, 339.2777016592696, 486.204917187674, 488.48455009069835, 438.75041821949554, 414.0439989380271, 470.2231754735909, 325.85205149914765, 444.1985868236526, 618.8645733131592, 593.5696405888285, 549.2897949266817, 510.0358937553661, 563.7130047877586, 405.7902248805736, 469.1693407680943, 514.9553218516386, 444.79202937569136, 427.3004352910269, 404.70510921251076, 408.8376891451264, 573.0042824346158, 286.8281020850829, 467.1545782517021, 328.5804544197681, 337.96477358778407, 263.62623940237734, 246.72136395766, 237.1366067276574, 332.1815383625159, 436.8037698786691, 417.91422400259876, 373.508240550995, 431.6713597161248, 458.15093958862906, 359.73262265778936, 417.1974112178828, 460.6358647933747, 399.5051295458565, 411.85814002038376, 441.10450053293147, 435.6035905834188, 301.4428520042926, 312.1145763905688, 337.8098577102943, 387.7122196475451, 344.87225503572927, 404.84425038880624, 370.4298288978239, 312.5224653408306, 383.4031268001796, 472.2713343655062, 459.3746558576026, 471.82964601709403, 509.05172051524363, 375.44616548512795, 457.3122069246237, 578.858710721268, 520.0419249248469, 464.042596678985, 457.93685016186123, 487.3520335355371, 384.33879123026395, 415.5882669401742, 531.1131968610218, 505.53566491730777, 449.2021895347078, 471.2627951879722, 331.8662296673976, 232.7255016167212, 325.00886949838934, 505.7569383179326, 448.86565195332224, 443.714816800281, 466.6282264299734, 436.9205992894168, 453.95887238203215, 625.2732897989687, 552.0703755689708, 552.4270611030948, 489.2996235898595, 187.1960327990398, 198.23540150228962, 273.3616600397355, 322.41561754065714, 567.457921641201, 438.33535144980345, 455.9533075684479, 480.3524973894292, 550.1148803051269, 374.92286014486297, 483.94818484229666, 465.142865949879, 485.0730069144739, 468.0904296222636, 500.4829013135882, 545.9918716986397, 247.28217375565333, 356.79027782687973, 254.02457043812706, 970.2237585541068, 812.3671939997613, 654.3041977690856, 590.9945799077727, 419.6375868637208, 466.28491431138127, 602.066302034271, 546.0692211119626, 582.9076741349608, 549.8793461875857, 514.1839397455497, 287.3581074870393, 588.6628756069102, 646.6394274980075, 620.3253623110149, 609.909355119081, 754.0786265968485, 614.3860042108222, 384.0584881238482, 200.51735013343742, 290.002327189146, 1515.5924295210477, 778.7369161563327, 839.7357518326517, 317.4587753332842, 564.6339436713544, 685.0470672849855, 602.2601342606785, 1462.3498390480636, 790.4897230978293, 880.5734829683845, 657.9679680726064, 734.8531216065858]}, {\"fill\": \"tonexty\", \"fillcolor\": \"rgba(0, 114, 178, 0.2)\", \"line\": {\"color\": \"#0072B2\", \"width\": 2}, \"mode\": \"lines\", \"name\": \"Predicted\", \"type\": \"scatter\", \"x\": [\"2020-03-01T00:00:00\", \"2020-03-02T00:00:00\", \"2020-03-03T00:00:00\", \"2020-03-04T00:00:00\", \"2020-03-05T00:00:00\", \"2020-03-06T00:00:00\", \"2020-03-07T00:00:00\", \"2020-03-08T00:00:00\", \"2020-03-09T00:00:00\", \"2020-03-10T00:00:00\", \"2020-03-11T00:00:00\", \"2020-03-12T00:00:00\", \"2020-03-13T00:00:00\", \"2020-03-14T00:00:00\", \"2020-03-15T00:00:00\", \"2020-03-16T00:00:00\", \"2020-03-17T00:00:00\", \"2020-03-18T00:00:00\", \"2020-03-19T00:00:00\", \"2020-03-20T00:00:00\", \"2020-03-21T00:00:00\", \"2020-03-22T00:00:00\", \"2020-03-23T00:00:00\", \"2020-03-24T00:00:00\", \"2020-03-25T00:00:00\", \"2020-03-26T00:00:00\", \"2020-03-27T00:00:00\", \"2020-03-28T00:00:00\", \"2020-03-29T00:00:00\", \"2020-03-30T00:00:00\", \"2020-03-31T00:00:00\", \"2020-04-01T00:00:00\", \"2020-04-02T00:00:00\", \"2020-04-03T00:00:00\", \"2020-04-04T00:00:00\", \"2020-04-05T00:00:00\", \"2020-04-06T00:00:00\", \"2020-04-07T00:00:00\", \"2020-04-08T00:00:00\", \"2020-04-09T00:00:00\", \"2020-04-10T00:00:00\", \"2020-04-11T00:00:00\", \"2020-04-12T00:00:00\", \"2020-04-13T00:00:00\", \"2020-04-14T00:00:00\", \"2020-04-15T00:00:00\", \"2020-04-16T00:00:00\", \"2020-04-17T00:00:00\", \"2020-04-18T00:00:00\", \"2020-04-19T00:00:00\", \"2020-04-21T00:00:00\", \"2020-04-22T00:00:00\", \"2020-04-23T00:00:00\", \"2020-04-24T00:00:00\", \"2020-04-25T00:00:00\", \"2020-04-26T00:00:00\", \"2020-04-27T00:00:00\", \"2020-04-28T00:00:00\", \"2020-04-29T00:00:00\", \"2020-04-30T00:00:00\", \"2020-05-01T00:00:00\", \"2020-05-02T00:00:00\", \"2020-05-03T00:00:00\", \"2020-05-04T00:00:00\", \"2020-05-05T00:00:00\", \"2020-05-06T00:00:00\", \"2020-05-07T00:00:00\", \"2020-05-08T00:00:00\", \"2020-05-09T00:00:00\", \"2020-05-10T00:00:00\", \"2020-05-11T00:00:00\", \"2020-05-12T00:00:00\", \"2020-05-13T00:00:00\", \"2020-05-14T00:00:00\", \"2020-05-15T00:00:00\", \"2020-05-16T00:00:00\", \"2020-05-17T00:00:00\", \"2020-05-18T00:00:00\", \"2020-05-19T00:00:00\", \"2020-05-20T00:00:00\", \"2020-05-21T00:00:00\", \"2020-05-22T00:00:00\", \"2020-05-23T00:00:00\", \"2020-05-24T00:00:00\", \"2020-05-25T00:00:00\", \"2020-05-26T00:00:00\", \"2020-05-27T00:00:00\", \"2020-05-28T00:00:00\", \"2020-05-30T00:00:00\", \"2020-05-31T00:00:00\", \"2020-06-01T00:00:00\", \"2020-06-02T00:00:00\", \"2020-06-03T00:00:00\", \"2020-06-04T00:00:00\", \"2020-06-05T00:00:00\", \"2020-06-06T00:00:00\", \"2020-06-07T00:00:00\", \"2020-06-08T00:00:00\", \"2020-06-09T00:00:00\", \"2020-06-10T00:00:00\", \"2020-06-11T00:00:00\", \"2020-06-12T00:00:00\", \"2020-06-13T00:00:00\", \"2020-06-14T00:00:00\", \"2020-06-15T00:00:00\", \"2020-06-16T00:00:00\", \"2020-06-17T00:00:00\", \"2020-06-18T00:00:00\", \"2020-06-19T00:00:00\", \"2020-06-20T00:00:00\", \"2020-06-21T00:00:00\", \"2020-06-22T00:00:00\", \"2020-06-23T00:00:00\", \"2020-06-24T00:00:00\", \"2020-06-25T00:00:00\", \"2020-06-26T00:00:00\", \"2020-06-27T00:00:00\", \"2020-06-28T00:00:00\", \"2020-06-29T00:00:00\", \"2020-06-30T00:00:00\", \"2020-07-01T00:00:00\", \"2020-07-02T00:00:00\", \"2020-07-03T00:00:00\", \"2020-07-04T00:00:00\", \"2020-07-05T00:00:00\", \"2020-07-06T00:00:00\", \"2020-07-07T00:00:00\", \"2020-07-08T00:00:00\", \"2020-07-09T00:00:00\", \"2020-07-10T00:00:00\", \"2020-07-11T00:00:00\", \"2020-07-12T00:00:00\", \"2020-07-13T00:00:00\", \"2020-07-14T00:00:00\", \"2020-07-15T00:00:00\", \"2020-07-16T00:00:00\", \"2020-07-17T00:00:00\", \"2020-07-18T00:00:00\", \"2020-07-19T00:00:00\", \"2020-07-20T00:00:00\", \"2020-07-21T00:00:00\", \"2020-07-22T00:00:00\", \"2020-07-23T00:00:00\", \"2020-07-24T00:00:00\", \"2020-07-25T00:00:00\", \"2020-07-26T00:00:00\", \"2020-07-27T00:00:00\", \"2020-07-28T00:00:00\", \"2020-07-29T00:00:00\", \"2020-07-30T00:00:00\", \"2020-07-31T00:00:00\", \"2020-08-01T00:00:00\", \"2020-08-02T00:00:00\", \"2020-08-03T00:00:00\", \"2020-08-04T00:00:00\", \"2020-08-05T00:00:00\", \"2020-08-06T00:00:00\", \"2020-08-07T00:00:00\", \"2020-08-08T00:00:00\", \"2020-08-09T00:00:00\", \"2020-08-10T00:00:00\", \"2020-08-11T00:00:00\", \"2020-08-12T00:00:00\", \"2020-08-13T00:00:00\", \"2020-08-14T00:00:00\", \"2020-08-15T00:00:00\", \"2020-08-16T00:00:00\", \"2020-08-17T00:00:00\", \"2020-08-18T00:00:00\", \"2020-08-19T00:00:00\", \"2020-08-20T00:00:00\", \"2020-08-21T00:00:00\", \"2020-08-22T00:00:00\", \"2020-08-23T00:00:00\", \"2020-08-24T00:00:00\", \"2020-08-25T00:00:00\", \"2020-08-26T00:00:00\", \"2020-08-27T00:00:00\", \"2020-08-28T00:00:00\", \"2020-08-29T00:00:00\", \"2020-08-30T00:00:00\", \"2020-08-31T00:00:00\", \"2020-09-01T00:00:00\", \"2020-09-02T00:00:00\", \"2020-09-03T00:00:00\", \"2020-09-04T00:00:00\", \"2020-09-05T00:00:00\", \"2020-09-06T00:00:00\", \"2020-09-07T00:00:00\", \"2020-09-08T00:00:00\", \"2020-09-09T00:00:00\", \"2020-09-10T00:00:00\", \"2020-09-11T00:00:00\", \"2020-09-12T00:00:00\", \"2020-09-13T00:00:00\", \"2020-09-14T00:00:00\", \"2020-09-15T00:00:00\", \"2020-09-16T00:00:00\", \"2020-09-17T00:00:00\", \"2020-09-18T00:00:00\", \"2020-09-19T00:00:00\", \"2020-09-20T00:00:00\", \"2020-09-21T00:00:00\", \"2020-09-22T00:00:00\", \"2020-09-23T00:00:00\", \"2020-09-24T00:00:00\", \"2020-09-25T00:00:00\", \"2020-09-26T00:00:00\", \"2020-09-27T00:00:00\", \"2020-09-28T00:00:00\", \"2020-09-29T00:00:00\", \"2020-09-30T00:00:00\", \"2020-10-01T00:00:00\", \"2020-10-02T00:00:00\", \"2020-10-03T00:00:00\", \"2020-10-04T00:00:00\", \"2020-10-05T00:00:00\", \"2020-10-06T00:00:00\", \"2020-10-07T00:00:00\", \"2020-10-09T00:00:00\", \"2020-10-10T00:00:00\", \"2020-10-11T00:00:00\", \"2020-10-12T00:00:00\", \"2020-10-13T00:00:00\", \"2020-10-14T00:00:00\", \"2020-10-15T00:00:00\", \"2020-10-16T00:00:00\", \"2020-10-17T00:00:00\", \"2020-10-18T00:00:00\", \"2020-10-19T00:00:00\", \"2020-10-20T00:00:00\", \"2020-10-21T00:00:00\", \"2020-10-22T00:00:00\", \"2020-10-23T00:00:00\", \"2020-10-24T00:00:00\", \"2020-10-25T00:00:00\", \"2020-10-26T00:00:00\", \"2020-10-27T00:00:00\", \"2020-10-28T00:00:00\", \"2020-10-29T00:00:00\", \"2020-10-30T00:00:00\", \"2020-10-31T00:00:00\", \"2020-11-01T00:00:00\", \"2020-11-02T00:00:00\", \"2020-11-03T00:00:00\", \"2020-11-04T00:00:00\", \"2020-11-05T00:00:00\", \"2020-11-06T00:00:00\", \"2020-11-07T00:00:00\", \"2020-11-08T00:00:00\", \"2020-11-09T00:00:00\", \"2020-11-10T00:00:00\", \"2020-11-11T00:00:00\", \"2020-11-12T00:00:00\", \"2020-11-13T00:00:00\", \"2020-11-14T00:00:00\", \"2020-11-15T00:00:00\", \"2020-11-16T00:00:00\", \"2020-11-17T00:00:00\", \"2020-11-18T00:00:00\", \"2020-11-19T00:00:00\", \"2020-11-20T00:00:00\", \"2020-11-21T00:00:00\", \"2020-11-22T00:00:00\", \"2020-11-23T00:00:00\", \"2020-11-24T00:00:00\", \"2020-11-25T00:00:00\", \"2020-11-26T00:00:00\", \"2020-11-27T00:00:00\", \"2020-11-28T00:00:00\", \"2020-11-29T00:00:00\", \"2020-11-30T00:00:00\", \"2020-12-01T00:00:00\", \"2020-12-02T00:00:00\", \"2020-12-03T00:00:00\", \"2020-12-04T00:00:00\", \"2020-12-05T00:00:00\", \"2020-12-06T00:00:00\", \"2020-12-07T00:00:00\", \"2020-12-08T00:00:00\", \"2020-12-09T00:00:00\", \"2020-12-10T00:00:00\", \"2020-12-11T00:00:00\", \"2020-12-12T00:00:00\", \"2020-12-13T00:00:00\", \"2020-12-14T00:00:00\", \"2020-12-15T00:00:00\", \"2020-12-16T00:00:00\", \"2020-12-17T00:00:00\", \"2020-12-18T00:00:00\", \"2020-12-19T00:00:00\", \"2020-12-20T00:00:00\", \"2020-12-21T00:00:00\", \"2020-12-22T00:00:00\", \"2020-12-23T00:00:00\", \"2020-12-24T00:00:00\", \"2020-12-25T00:00:00\", \"2020-12-26T00:00:00\", \"2020-12-27T00:00:00\", \"2020-12-28T00:00:00\"], \"y\": [-174.8911486476321, -58.715725708031286, 377.73163933156917, 100.68610173745171, 103.70097939272884, 83.12516780592185, 125.77727206284418, 282.4343398024362, 18.36075642427688, -451.5725769824708, 127.27279397818425, -325.55583498253793, -341.55069890254504, -237.4118615244098, 138.65505176050868, -185.49412692557252, 366.0382407702546, 723.6698690887378, 558.6266204012483, 803.4834087251631, 979.0444065764534, 692.4621330021455, 656.5975866054418, 686.6970732482738, 752.7915180731152, 782.1209194830582, 878.6528320366147, 605.8258165602762, 467.26981085742796, 611.5831653416383, 594.6333243751751, 715.6037343897603, 753.07224183793, 779.8644998857778, 567.9742283966023, 299.62506077684736, 393.1279431462642, 490.584688157318, 653.346181441638, 530.1258541189746, 685.1872177024042, 593.9336758041396, 324.7011353969649, 537.2965972259549, 740.131338540415, 886.479773391694, 1006.0699845163216, 991.3219430563677, 732.9683585826594, 651.0391662163225, 967.6265665673592, 1079.6241935355351, 1083.720490544824, 1071.7966407030974, 817.9728190116259, 686.1521402427219, 929.1177689038348, 679.7124095907434, 979.5056312789538, 964.7362234366656, 1068.4160047252376, 842.9375845135513, 770.2393320858089, 908.5761857557857, 987.6013277260859, 1081.328916525334, 1088.5420715657467, 1162.8232889930205, 942.286095746375, 756.5772053974267, 1062.4790191356292, 1100.3500395350625, 1249.0897072792282, 1284.5689316286102, 1346.3767737756768, 1172.9605551181119, 1203.0643760185308, 827.4275780614364, 1178.2968881309716, 1287.032121330047, 1302.0604131890098, 1330.3842446633041, 1182.562852108762, 1354.7906921076237, 1728.57035492339, 1206.0444667875222, 1329.846245541956, 1323.8517670234842, 1277.1216031229528, 1158.6964919969532, 906.705702657857, 1032.8633877607467, 1152.0541477377622, 1181.5904611512983, 1114.5686032066428, 1117.7031258698269, 1233.8077541685213, 1048.9521297190013, 1142.2180563775923, 1165.7515387975684, 1152.9921557042721, 1208.210445122571, 1141.5065859407662, 1253.1987924327987, 1055.7524898316478, 1161.7471122902284, 1218.7129622666193, 945.3822822458994, 928.3943585591531, 807.3101535314674, 899.7967489844038, 848.3983775628752, 930.2455025924855, 996.5461389402915, 988.5624865618161, 990.0760590486129, 933.1513713352829, 929.9225900341125, 832.1226440849789, 832.8493594704354, 885.7739987822915, 881.2065817724746, 959.9121951817768, 823.7394378212705, 752.2236748908399, 815.4984531378614, 944.7096114856818, 1063.4660632497644, 1039.505797443831, 1040.3787246297738, 915.2312555878218, 960.4862720158588, 816.7005986438082, 988.1974559474177, 1114.162423268254, 1127.5747214091468, 1173.0683967527793, 1082.623506775906, 1086.0282866798357, 1011.1572088151078, 1089.681072222651, 1150.7468017092663, 1189.7292048492432, 1172.3239124066436, 1066.7134830189561, 1143.2932387015735, 980.6995841304135, 1097.6522248574793, 1177.6821616480356, 1123.785267020547, 1170.5901913704242, 1066.980040413578, 1134.9556291779522, 976.0040296040404, 1079.825772361159, 1146.3836559700003, 1206.8131239909683, 1199.4684130783546, 1139.527742374676, 1167.0037413841324, 1028.5255890767362, 1123.2646785794832, 1176.7480976252955, 1138.252871410478, 1097.7601634344712, 1006.777935974268, 1026.6205328954045, 860.4374990159189, 935.0530852506995, 1059.243380805959, 1041.0856308106188, 1070.7699105280703, 1005.8315668868663, 1042.4520100029656, 882.3387018281413, 1017.5948608912315, 1153.7005191327721, 1151.236262279782, 1108.3069945422144, 1089.3273659052184, 1137.064273656379, 964.9662233816489, 1050.2622493313338, 1111.8820047013492, 1049.6902256681828, 1023.610485055258, 945.840308841096, 984.9459658422281, 1131.596687934476, 888.4003647037778, 1026.856788073377, 898.3746485181109, 893.96269669045, 839.727915680922, 835.4480965961652, 836.2241608587435, 922.9849655593498, 1031.6963008434209, 1019.5889083690294, 983.4500961923342, 995.9024070897057, 1038.5953472735148, 907.1713904993497, 977.3979584038225, 1053.0120547564657, 1005.7466200861722, 976.2642268387677, 991.8629022348102, 1040.1282771958001, 852.4105346033841, 883.406799337647, 931.2046593019287, 931.6583313958223, 923.8164082864371, 961.0255888223709, 968.9016420219655, 840.9931169398558, 953.3477177504435, 1059.447706822796, 1016.4079462099821, 1022.2888636710118, 1077.598064122407, 953.6193355105459, 1012.6974814712403, 1146.7174669662043, 1090.7829559974534, 1051.9764597454246, 1073.9926215548533, 1074.3958918185817, 930.9249003422583, 1015.7849617103118, 1108.3579761915046, 1110.539121789653, 1033.882787464137, 1038.4955490387604, 933.2401544639274, 799.6216693928076, 905.5296341835062, 1075.5541989255767, 1055.9930866073314, 1034.4563035235856, 1023.7311685916859, 1043.7028711395399, 1017.4502976813827, 1166.0268383099306, 1146.5622676365092, 1120.2420377583157, 1054.5021074600002, 769.8597598996182, 764.4681970109858, 834.313853390634, 888.7575318333069, 1128.3753001848504, 1031.729691872949, 1060.5712387290603, 1073.1610748380856, 1115.5765164083134, 959.0813425668491, 1049.2228824121512, 1084.425517457061, 1054.8024155374887, 1070.5700570509139, 1099.77765607651, 1087.7904356193928, 834.9210056395561, 933.3452855881229, 836.3104038645661, 1552.4099259555496, 1349.4309826615759, 1207.6660123877357, 1191.470773122287, 981.0859375410494, 1071.0844275302911, 1183.6807755998682, 1138.7699291584063, 1190.8884346016764, 1116.6582319854056, 1125.2643463302493, 877.1922205415059, 1135.8536569172118, 1246.5030103051804, 1217.9904525302923, 1161.0250075125152, 1297.1673598909279, 1131.6541606982241, 976.3609146956129, 796.6635821690043, 883.362328523149, 2087.284063046552, 1372.878168005669, 1398.8312217553616, 852.8297143909006, 1157.7337879915851, 1227.8188054121101, 1200.5867152631174, 2049.465072370747, 1362.010439932352, 1443.880821772945, 1217.0978448106387, 1274.2064662811165]}, {\"fill\": \"tonexty\", \"fillcolor\": \"rgba(0, 114, 178, 0.2)\", \"hoverinfo\": \"skip\", \"line\": {\"width\": 0}, \"mode\": \"lines\", \"type\": \"scatter\", \"x\": [\"2020-03-01T00:00:00\", \"2020-03-02T00:00:00\", \"2020-03-03T00:00:00\", \"2020-03-04T00:00:00\", \"2020-03-05T00:00:00\", \"2020-03-06T00:00:00\", \"2020-03-07T00:00:00\", \"2020-03-08T00:00:00\", \"2020-03-09T00:00:00\", \"2020-03-10T00:00:00\", \"2020-03-11T00:00:00\", \"2020-03-12T00:00:00\", \"2020-03-13T00:00:00\", \"2020-03-14T00:00:00\", \"2020-03-15T00:00:00\", \"2020-03-16T00:00:00\", \"2020-03-17T00:00:00\", \"2020-03-18T00:00:00\", \"2020-03-19T00:00:00\", \"2020-03-20T00:00:00\", \"2020-03-21T00:00:00\", \"2020-03-22T00:00:00\", \"2020-03-23T00:00:00\", \"2020-03-24T00:00:00\", \"2020-03-25T00:00:00\", \"2020-03-26T00:00:00\", \"2020-03-27T00:00:00\", \"2020-03-28T00:00:00\", \"2020-03-29T00:00:00\", \"2020-03-30T00:00:00\", \"2020-03-31T00:00:00\", \"2020-04-01T00:00:00\", \"2020-04-02T00:00:00\", \"2020-04-03T00:00:00\", \"2020-04-04T00:00:00\", \"2020-04-05T00:00:00\", \"2020-04-06T00:00:00\", \"2020-04-07T00:00:00\", \"2020-04-08T00:00:00\", \"2020-04-09T00:00:00\", \"2020-04-10T00:00:00\", \"2020-04-11T00:00:00\", \"2020-04-12T00:00:00\", \"2020-04-13T00:00:00\", \"2020-04-14T00:00:00\", \"2020-04-15T00:00:00\", \"2020-04-16T00:00:00\", \"2020-04-17T00:00:00\", \"2020-04-18T00:00:00\", \"2020-04-19T00:00:00\", \"2020-04-21T00:00:00\", \"2020-04-22T00:00:00\", \"2020-04-23T00:00:00\", \"2020-04-24T00:00:00\", \"2020-04-25T00:00:00\", \"2020-04-26T00:00:00\", \"2020-04-27T00:00:00\", \"2020-04-28T00:00:00\", \"2020-04-29T00:00:00\", \"2020-04-30T00:00:00\", \"2020-05-01T00:00:00\", \"2020-05-02T00:00:00\", \"2020-05-03T00:00:00\", \"2020-05-04T00:00:00\", \"2020-05-05T00:00:00\", \"2020-05-06T00:00:00\", \"2020-05-07T00:00:00\", \"2020-05-08T00:00:00\", \"2020-05-09T00:00:00\", \"2020-05-10T00:00:00\", \"2020-05-11T00:00:00\", \"2020-05-12T00:00:00\", \"2020-05-13T00:00:00\", \"2020-05-14T00:00:00\", \"2020-05-15T00:00:00\", \"2020-05-16T00:00:00\", \"2020-05-17T00:00:00\", \"2020-05-18T00:00:00\", \"2020-05-19T00:00:00\", \"2020-05-20T00:00:00\", \"2020-05-21T00:00:00\", \"2020-05-22T00:00:00\", \"2020-05-23T00:00:00\", \"2020-05-24T00:00:00\", \"2020-05-25T00:00:00\", \"2020-05-26T00:00:00\", \"2020-05-27T00:00:00\", \"2020-05-28T00:00:00\", \"2020-05-30T00:00:00\", \"2020-05-31T00:00:00\", \"2020-06-01T00:00:00\", \"2020-06-02T00:00:00\", \"2020-06-03T00:00:00\", \"2020-06-04T00:00:00\", \"2020-06-05T00:00:00\", \"2020-06-06T00:00:00\", \"2020-06-07T00:00:00\", \"2020-06-08T00:00:00\", \"2020-06-09T00:00:00\", \"2020-06-10T00:00:00\", \"2020-06-11T00:00:00\", \"2020-06-12T00:00:00\", \"2020-06-13T00:00:00\", \"2020-06-14T00:00:00\", \"2020-06-15T00:00:00\", \"2020-06-16T00:00:00\", \"2020-06-17T00:00:00\", \"2020-06-18T00:00:00\", \"2020-06-19T00:00:00\", \"2020-06-20T00:00:00\", \"2020-06-21T00:00:00\", \"2020-06-22T00:00:00\", \"2020-06-23T00:00:00\", \"2020-06-24T00:00:00\", \"2020-06-25T00:00:00\", \"2020-06-26T00:00:00\", \"2020-06-27T00:00:00\", \"2020-06-28T00:00:00\", \"2020-06-29T00:00:00\", \"2020-06-30T00:00:00\", \"2020-07-01T00:00:00\", \"2020-07-02T00:00:00\", \"2020-07-03T00:00:00\", \"2020-07-04T00:00:00\", \"2020-07-05T00:00:00\", \"2020-07-06T00:00:00\", \"2020-07-07T00:00:00\", \"2020-07-08T00:00:00\", \"2020-07-09T00:00:00\", \"2020-07-10T00:00:00\", \"2020-07-11T00:00:00\", \"2020-07-12T00:00:00\", \"2020-07-13T00:00:00\", \"2020-07-14T00:00:00\", \"2020-07-15T00:00:00\", \"2020-07-16T00:00:00\", \"2020-07-17T00:00:00\", \"2020-07-18T00:00:00\", \"2020-07-19T00:00:00\", \"2020-07-20T00:00:00\", \"2020-07-21T00:00:00\", \"2020-07-22T00:00:00\", \"2020-07-23T00:00:00\", \"2020-07-24T00:00:00\", \"2020-07-25T00:00:00\", \"2020-07-26T00:00:00\", \"2020-07-27T00:00:00\", \"2020-07-28T00:00:00\", \"2020-07-29T00:00:00\", \"2020-07-30T00:00:00\", \"2020-07-31T00:00:00\", \"2020-08-01T00:00:00\", \"2020-08-02T00:00:00\", \"2020-08-03T00:00:00\", \"2020-08-04T00:00:00\", \"2020-08-05T00:00:00\", \"2020-08-06T00:00:00\", \"2020-08-07T00:00:00\", \"2020-08-08T00:00:00\", \"2020-08-09T00:00:00\", \"2020-08-10T00:00:00\", \"2020-08-11T00:00:00\", \"2020-08-12T00:00:00\", \"2020-08-13T00:00:00\", \"2020-08-14T00:00:00\", \"2020-08-15T00:00:00\", \"2020-08-16T00:00:00\", \"2020-08-17T00:00:00\", \"2020-08-18T00:00:00\", \"2020-08-19T00:00:00\", \"2020-08-20T00:00:00\", \"2020-08-21T00:00:00\", \"2020-08-22T00:00:00\", \"2020-08-23T00:00:00\", \"2020-08-24T00:00:00\", \"2020-08-25T00:00:00\", \"2020-08-26T00:00:00\", \"2020-08-27T00:00:00\", \"2020-08-28T00:00:00\", \"2020-08-29T00:00:00\", \"2020-08-30T00:00:00\", \"2020-08-31T00:00:00\", \"2020-09-01T00:00:00\", \"2020-09-02T00:00:00\", \"2020-09-03T00:00:00\", \"2020-09-04T00:00:00\", \"2020-09-05T00:00:00\", \"2020-09-06T00:00:00\", \"2020-09-07T00:00:00\", \"2020-09-08T00:00:00\", \"2020-09-09T00:00:00\", \"2020-09-10T00:00:00\", \"2020-09-11T00:00:00\", \"2020-09-12T00:00:00\", \"2020-09-13T00:00:00\", \"2020-09-14T00:00:00\", \"2020-09-15T00:00:00\", \"2020-09-16T00:00:00\", \"2020-09-17T00:00:00\", \"2020-09-18T00:00:00\", \"2020-09-19T00:00:00\", \"2020-09-20T00:00:00\", \"2020-09-21T00:00:00\", \"2020-09-22T00:00:00\", \"2020-09-23T00:00:00\", \"2020-09-24T00:00:00\", \"2020-09-25T00:00:00\", \"2020-09-26T00:00:00\", \"2020-09-27T00:00:00\", \"2020-09-28T00:00:00\", \"2020-09-29T00:00:00\", \"2020-09-30T00:00:00\", \"2020-10-01T00:00:00\", \"2020-10-02T00:00:00\", \"2020-10-03T00:00:00\", \"2020-10-04T00:00:00\", \"2020-10-05T00:00:00\", \"2020-10-06T00:00:00\", \"2020-10-07T00:00:00\", \"2020-10-09T00:00:00\", \"2020-10-10T00:00:00\", \"2020-10-11T00:00:00\", \"2020-10-12T00:00:00\", \"2020-10-13T00:00:00\", \"2020-10-14T00:00:00\", \"2020-10-15T00:00:00\", \"2020-10-16T00:00:00\", \"2020-10-17T00:00:00\", \"2020-10-18T00:00:00\", \"2020-10-19T00:00:00\", \"2020-10-20T00:00:00\", \"2020-10-21T00:00:00\", \"2020-10-22T00:00:00\", \"2020-10-23T00:00:00\", \"2020-10-24T00:00:00\", \"2020-10-25T00:00:00\", \"2020-10-26T00:00:00\", \"2020-10-27T00:00:00\", \"2020-10-28T00:00:00\", \"2020-10-29T00:00:00\", \"2020-10-30T00:00:00\", \"2020-10-31T00:00:00\", \"2020-11-01T00:00:00\", \"2020-11-02T00:00:00\", \"2020-11-03T00:00:00\", \"2020-11-04T00:00:00\", \"2020-11-05T00:00:00\", \"2020-11-06T00:00:00\", \"2020-11-07T00:00:00\", \"2020-11-08T00:00:00\", \"2020-11-09T00:00:00\", \"2020-11-10T00:00:00\", \"2020-11-11T00:00:00\", \"2020-11-12T00:00:00\", \"2020-11-13T00:00:00\", \"2020-11-14T00:00:00\", \"2020-11-15T00:00:00\", \"2020-11-16T00:00:00\", \"2020-11-17T00:00:00\", \"2020-11-18T00:00:00\", \"2020-11-19T00:00:00\", \"2020-11-20T00:00:00\", \"2020-11-21T00:00:00\", \"2020-11-22T00:00:00\", \"2020-11-23T00:00:00\", \"2020-11-24T00:00:00\", \"2020-11-25T00:00:00\", \"2020-11-26T00:00:00\", \"2020-11-27T00:00:00\", \"2020-11-28T00:00:00\", \"2020-11-29T00:00:00\", \"2020-11-30T00:00:00\", \"2020-12-01T00:00:00\", \"2020-12-02T00:00:00\", \"2020-12-03T00:00:00\", \"2020-12-04T00:00:00\", \"2020-12-05T00:00:00\", \"2020-12-06T00:00:00\", \"2020-12-07T00:00:00\", \"2020-12-08T00:00:00\", \"2020-12-09T00:00:00\", \"2020-12-10T00:00:00\", \"2020-12-11T00:00:00\", \"2020-12-12T00:00:00\", \"2020-12-13T00:00:00\", \"2020-12-14T00:00:00\", \"2020-12-15T00:00:00\", \"2020-12-16T00:00:00\", \"2020-12-17T00:00:00\", \"2020-12-18T00:00:00\", \"2020-12-19T00:00:00\", \"2020-12-20T00:00:00\", \"2020-12-21T00:00:00\", \"2020-12-22T00:00:00\", \"2020-12-23T00:00:00\", \"2020-12-24T00:00:00\", \"2020-12-25T00:00:00\", \"2020-12-26T00:00:00\", \"2020-12-27T00:00:00\", \"2020-12-28T00:00:00\"], \"y\": [390.50971455720764, 499.3538584451839, 964.9883157432866, 667.4097004904081, 662.1442036721523, 647.9129603015045, 676.6170612073676, 878.5859933370983, 595.2963270553355, 105.05061033753918, 648.092611769724, 257.33549486735984, 243.73884993073605, 305.24996940448824, 695.7478907328004, 374.0420215743272, 969.4544115674778, 1288.213562940944, 1131.0388858894742, 1330.308934838172, 1551.6169798362582, 1240.526685527207, 1229.5522642312376, 1280.9294812978137, 1295.119445475618, 1339.9405306243982, 1433.3087042103016, 1188.142185971142, 1030.0624480673773, 1185.7606151809837, 1193.4723521985977, 1268.7393684497326, 1309.3521096323605, 1338.1092592239954, 1094.5677057873802, 900.5299566538521, 971.7204417552215, 1016.5029188104247, 1230.4472319901472, 1055.8894693912491, 1231.6614365517864, 1132.5521645490956, 917.6534829916434, 1070.333425152758, 1286.5786180894015, 1466.0973166219903, 1549.1731735099745, 1560.0951534993678, 1279.2503936282171, 1187.7033260525259, 1539.056863234895, 1684.682752033003, 1610.98112118394, 1671.2259156207201, 1365.777888487803, 1221.6245870976345, 1510.3668794404175, 1233.3998722378592, 1589.2635973950391, 1516.4786574271782, 1641.2195083482495, 1378.3146872279397, 1305.0358845538506, 1496.2871385261728, 1578.6372578736143, 1628.060126962185, 1656.2133402146865, 1752.7312248360756, 1500.4397490038991, 1335.5099795779622, 1631.2115621462926, 1701.9509320344414, 1801.4591879356026, 1829.0687094963394, 1906.3481747462863, 1799.053977386074, 1776.1598827765677, 1432.7883787518967, 1742.9718266138507, 1881.8669026257762, 1785.5895233337646, 1860.342458341877, 1750.3142308369106, 1914.1440121231642, 2325.7664062097892, 1764.8074501852536, 1929.471728573178, 1936.506941710749, 1863.4034589588246, 1736.8216614342973, 1481.8765794806352, 1579.1168848053733, 1703.5699911744603, 1766.0994058191147, 1698.7774809338152, 1685.1276843292578, 1812.3013106798855, 1622.163997044884, 1701.1959243526128, 1763.3400568084458, 1715.2693181212887, 1798.6428224943973, 1731.0365430260288, 1808.5158741795187, 1672.4387668308939, 1726.6482273184906, 1743.4201433640924, 1503.2833849747483, 1476.4561111078742, 1407.8596260998793, 1443.1087297251022, 1403.6421133327412, 1487.695939860133, 1610.4501445943843, 1532.678156101033, 1582.2307527908442, 1534.0815452312117, 1531.0765969830172, 1360.2813864176715, 1361.1427560650118, 1471.1563323361215, 1427.667918945413, 1531.3459188251386, 1390.809835619678, 1335.7659471938478, 1365.8457711790156, 1519.8212740575639, 1602.762561990202, 1561.9861877060894, 1579.5812371477343, 1492.1130693855764, 1516.955857567995, 1386.3645290787827, 1513.7478642051622, 1709.679070395875, 1689.6029996719626, 1763.3488812813728, 1649.9172618398068, 1647.148883235306, 1573.0438915978393, 1662.3058706170946, 1770.3486005587868, 1795.9495363177853, 1713.849117003626, 1641.0371525224466, 1704.6312241839287, 1514.0689406225508, 1656.0512837126191, 1753.962219761717, 1732.9934186459975, 1760.557941857071, 1629.6657689315484, 1721.2661894373475, 1549.035113183935, 1635.2848243680035, 1717.3836503720486, 1758.4576242940802, 1727.1430995342828, 1688.4359295848035, 1726.772146062996, 1575.775265446474, 1691.4748087303085, 1753.2173024400622, 1756.0657159192144, 1674.9620116279084, 1543.5189573474518, 1576.2279602622498, 1440.806101573781, 1490.3267005005582, 1613.4575484999064, 1609.472952449509, 1591.5709324571073, 1567.0172217926288, 1617.9731639215322, 1474.9297503220416, 1618.4294135388523, 1736.5318820037055, 1731.3654172933007, 1685.990015449402, 1667.7640984165378, 1729.2372640960612, 1558.3465530606795, 1606.9470599530289, 1672.7909854587624, 1611.0952368100775, 1582.3536228848948, 1525.412326333284, 1549.0129243493302, 1708.4843454543916, 1428.227541640455, 1590.2343037608518, 1459.4819336429275, 1483.9148003760329, 1446.779386414503, 1444.617173552183, 1372.5894411309844, 1479.2269547987837, 1546.0403450726424, 1615.9156175238095, 1534.3616874049767, 1553.7387126568901, 1600.187603398655, 1537.2932657450187, 1536.4849507318888, 1590.6640784967542, 1612.0925307060159, 1514.835563486662, 1560.7709491571832, 1569.2806554064357, 1447.3921153780811, 1475.4620615191109, 1515.4164525242054, 1495.5010865026256, 1515.925355361041, 1543.5396099553204, 1507.34313549273, 1447.238359725762, 1553.7312469976948, 1658.2119135889736, 1588.5278584868067, 1607.3895164645153, 1639.423511625967, 1527.542968019547, 1592.8829998882172, 1739.6835485104443, 1715.1019941779227, 1596.4338425860954, 1652.8753722435179, 1628.3503804814318, 1509.228918687304, 1591.8767663496114, 1676.933300385018, 1649.951996807663, 1629.0784596968151, 1603.7407004945003, 1518.3142495382317, 1375.5932704760755, 1513.0676150266702, 1657.4174176666893, 1545.0041246694755, 1581.535797194475, 1574.814886891646, 1604.7843775544195, 1590.1162586925666, 1703.7949232015012, 1716.1326411208518, 1725.5470387281093, 1649.1150460333924, 1334.7567608394222, 1274.6824074378144, 1404.2402709543699, 1439.295405841925, 1737.2753442383746, 1549.5066359734215, 1610.9764165617048, 1618.2238899937552, 1716.2287250210911, 1564.146203114708, 1651.7887750197556, 1643.2773960856791, 1626.6828130303527, 1631.7345408437093, 1685.807210435569, 1607.0641968659284, 1460.2330312380925, 1497.8338322415323, 1385.5999900547426, 2095.331748705521, 1899.4609939817847, 1779.000077557624, 1770.0884715379557, 1560.244501349995, 1617.5439137592762, 1760.0254807818483, 1768.3276317949208, 1784.0728094306883, 1699.7172761841302, 1705.3465280129983, 1442.06764132872, 1675.6183073940977, 1838.9555257850584, 1774.771237338284, 1715.3433547580846, 1868.4679891527612, 1711.8234381515786, 1579.4007449682554, 1378.6171495676372, 1470.1933925206472, 2634.935455615747, 1943.7406943308188, 1970.7411455875585, 1447.9985369270225, 1709.2135579822052, 1814.9577666438174, 1795.92277954501, 2629.7426187720334, 1947.2662321166663, 1994.6923611473806, 1742.4921955873608, 1926.7651498927924]}],\n",
              "                        {\"height\": 600, \"showlegend\": false, \"template\": {\"data\": {\"bar\": [{\"error_x\": {\"color\": \"#2a3f5f\"}, \"error_y\": {\"color\": \"#2a3f5f\"}, \"marker\": {\"line\": {\"color\": \"#E5ECF6\", \"width\": 0.5}}, \"type\": \"bar\"}], \"barpolar\": [{\"marker\": {\"line\": {\"color\": \"#E5ECF6\", \"width\": 0.5}}, \"type\": \"barpolar\"}], \"carpet\": [{\"aaxis\": {\"endlinecolor\": \"#2a3f5f\", \"gridcolor\": \"white\", \"linecolor\": \"white\", \"minorgridcolor\": \"white\", \"startlinecolor\": \"#2a3f5f\"}, \"baxis\": {\"endlinecolor\": \"#2a3f5f\", \"gridcolor\": \"white\", \"linecolor\": \"white\", \"minorgridcolor\": \"white\", \"startlinecolor\": \"#2a3f5f\"}, \"type\": \"carpet\"}], \"choropleth\": [{\"colorbar\": {\"outlinewidth\": 0, \"ticks\": \"\"}, \"type\": \"choropleth\"}], \"contour\": [{\"colorbar\": {\"outlinewidth\": 0, \"ticks\": \"\"}, \"colorscale\": [[0.0, \"#0d0887\"], [0.1111111111111111, \"#46039f\"], [0.2222222222222222, \"#7201a8\"], [0.3333333333333333, \"#9c179e\"], [0.4444444444444444, \"#bd3786\"], [0.5555555555555556, \"#d8576b\"], [0.6666666666666666, \"#ed7953\"], [0.7777777777777778, \"#fb9f3a\"], [0.8888888888888888, \"#fdca26\"], [1.0, \"#f0f921\"]], \"type\": \"contour\"}], \"contourcarpet\": [{\"colorbar\": {\"outlinewidth\": 0, \"ticks\": \"\"}, \"type\": \"contourcarpet\"}], \"heatmap\": [{\"colorbar\": {\"outlinewidth\": 0, \"ticks\": \"\"}, \"colorscale\": [[0.0, \"#0d0887\"], [0.1111111111111111, \"#46039f\"], [0.2222222222222222, \"#7201a8\"], [0.3333333333333333, \"#9c179e\"], [0.4444444444444444, \"#bd3786\"], [0.5555555555555556, \"#d8576b\"], [0.6666666666666666, \"#ed7953\"], [0.7777777777777778, \"#fb9f3a\"], [0.8888888888888888, \"#fdca26\"], [1.0, \"#f0f921\"]], \"type\": \"heatmap\"}], \"heatmapgl\": [{\"colorbar\": {\"outlinewidth\": 0, \"ticks\": \"\"}, \"colorscale\": [[0.0, \"#0d0887\"], [0.1111111111111111, \"#46039f\"], [0.2222222222222222, \"#7201a8\"], [0.3333333333333333, \"#9c179e\"], [0.4444444444444444, \"#bd3786\"], [0.5555555555555556, \"#d8576b\"], [0.6666666666666666, \"#ed7953\"], [0.7777777777777778, \"#fb9f3a\"], [0.8888888888888888, \"#fdca26\"], [1.0, \"#f0f921\"]], \"type\": \"heatmapgl\"}], \"histogram\": [{\"marker\": {\"colorbar\": {\"outlinewidth\": 0, \"ticks\": \"\"}}, \"type\": \"histogram\"}], \"histogram2d\": [{\"colorbar\": {\"outlinewidth\": 0, \"ticks\": \"\"}, \"colorscale\": [[0.0, \"#0d0887\"], [0.1111111111111111, \"#46039f\"], [0.2222222222222222, \"#7201a8\"], [0.3333333333333333, \"#9c179e\"], [0.4444444444444444, \"#bd3786\"], [0.5555555555555556, \"#d8576b\"], [0.6666666666666666, \"#ed7953\"], [0.7777777777777778, \"#fb9f3a\"], [0.8888888888888888, \"#fdca26\"], [1.0, \"#f0f921\"]], \"type\": \"histogram2d\"}], \"histogram2dcontour\": [{\"colorbar\": {\"outlinewidth\": 0, \"ticks\": \"\"}, \"colorscale\": [[0.0, \"#0d0887\"], [0.1111111111111111, \"#46039f\"], [0.2222222222222222, \"#7201a8\"], [0.3333333333333333, \"#9c179e\"], [0.4444444444444444, \"#bd3786\"], [0.5555555555555556, \"#d8576b\"], [0.6666666666666666, \"#ed7953\"], [0.7777777777777778, \"#fb9f3a\"], [0.8888888888888888, \"#fdca26\"], [1.0, \"#f0f921\"]], \"type\": \"histogram2dcontour\"}], \"mesh3d\": [{\"colorbar\": {\"outlinewidth\": 0, \"ticks\": \"\"}, \"type\": \"mesh3d\"}], \"parcoords\": [{\"line\": {\"colorbar\": {\"outlinewidth\": 0, \"ticks\": \"\"}}, \"type\": \"parcoords\"}], \"pie\": [{\"automargin\": true, \"type\": \"pie\"}], \"scatter\": [{\"marker\": {\"colorbar\": {\"outlinewidth\": 0, \"ticks\": \"\"}}, \"type\": \"scatter\"}], \"scatter3d\": [{\"line\": {\"colorbar\": {\"outlinewidth\": 0, \"ticks\": \"\"}}, \"marker\": {\"colorbar\": {\"outlinewidth\": 0, \"ticks\": \"\"}}, \"type\": \"scatter3d\"}], \"scattercarpet\": [{\"marker\": {\"colorbar\": {\"outlinewidth\": 0, \"ticks\": \"\"}}, \"type\": \"scattercarpet\"}], \"scattergeo\": [{\"marker\": {\"colorbar\": {\"outlinewidth\": 0, \"ticks\": \"\"}}, \"type\": \"scattergeo\"}], \"scattergl\": [{\"marker\": {\"colorbar\": {\"outlinewidth\": 0, \"ticks\": \"\"}}, \"type\": \"scattergl\"}], \"scattermapbox\": [{\"marker\": {\"colorbar\": {\"outlinewidth\": 0, \"ticks\": \"\"}}, \"type\": \"scattermapbox\"}], \"scatterpolar\": [{\"marker\": {\"colorbar\": {\"outlinewidth\": 0, \"ticks\": \"\"}}, \"type\": \"scatterpolar\"}], \"scatterpolargl\": [{\"marker\": {\"colorbar\": {\"outlinewidth\": 0, \"ticks\": \"\"}}, \"type\": \"scatterpolargl\"}], \"scatterternary\": [{\"marker\": {\"colorbar\": {\"outlinewidth\": 0, \"ticks\": \"\"}}, \"type\": \"scatterternary\"}], \"surface\": [{\"colorbar\": {\"outlinewidth\": 0, \"ticks\": \"\"}, \"colorscale\": [[0.0, \"#0d0887\"], [0.1111111111111111, \"#46039f\"], [0.2222222222222222, \"#7201a8\"], [0.3333333333333333, \"#9c179e\"], [0.4444444444444444, \"#bd3786\"], [0.5555555555555556, \"#d8576b\"], [0.6666666666666666, \"#ed7953\"], [0.7777777777777778, \"#fb9f3a\"], [0.8888888888888888, \"#fdca26\"], [1.0, \"#f0f921\"]], \"type\": \"surface\"}], \"table\": [{\"cells\": {\"fill\": {\"color\": \"#EBF0F8\"}, \"line\": {\"color\": \"white\"}}, \"header\": {\"fill\": {\"color\": \"#C8D4E3\"}, \"line\": {\"color\": \"white\"}}, \"type\": \"table\"}]}, \"layout\": {\"annotationdefaults\": {\"arrowcolor\": \"#2a3f5f\", \"arrowhead\": 0, \"arrowwidth\": 1}, \"coloraxis\": {\"colorbar\": {\"outlinewidth\": 0, \"ticks\": \"\"}}, \"colorscale\": {\"diverging\": [[0, \"#8e0152\"], [0.1, \"#c51b7d\"], [0.2, \"#de77ae\"], [0.3, \"#f1b6da\"], [0.4, \"#fde0ef\"], [0.5, \"#f7f7f7\"], [0.6, \"#e6f5d0\"], [0.7, \"#b8e186\"], [0.8, \"#7fbc41\"], [0.9, \"#4d9221\"], [1, \"#276419\"]], \"sequential\": [[0.0, \"#0d0887\"], [0.1111111111111111, \"#46039f\"], [0.2222222222222222, \"#7201a8\"], [0.3333333333333333, \"#9c179e\"], [0.4444444444444444, \"#bd3786\"], [0.5555555555555556, \"#d8576b\"], [0.6666666666666666, \"#ed7953\"], [0.7777777777777778, \"#fb9f3a\"], [0.8888888888888888, \"#fdca26\"], [1.0, \"#f0f921\"]], \"sequentialminus\": [[0.0, \"#0d0887\"], [0.1111111111111111, \"#46039f\"], [0.2222222222222222, \"#7201a8\"], [0.3333333333333333, \"#9c179e\"], [0.4444444444444444, \"#bd3786\"], [0.5555555555555556, \"#d8576b\"], [0.6666666666666666, \"#ed7953\"], [0.7777777777777778, \"#fb9f3a\"], [0.8888888888888888, \"#fdca26\"], [1.0, \"#f0f921\"]]}, \"colorway\": [\"#636efa\", \"#EF553B\", \"#00cc96\", \"#ab63fa\", \"#FFA15A\", \"#19d3f3\", \"#FF6692\", \"#B6E880\", \"#FF97FF\", \"#FECB52\"], \"font\": {\"color\": \"#2a3f5f\"}, \"geo\": {\"bgcolor\": \"white\", \"lakecolor\": \"white\", \"landcolor\": \"#E5ECF6\", \"showlakes\": true, \"showland\": true, \"subunitcolor\": \"white\"}, \"hoverlabel\": {\"align\": \"left\"}, \"hovermode\": \"closest\", \"mapbox\": {\"style\": \"light\"}, \"paper_bgcolor\": \"white\", \"plot_bgcolor\": \"#E5ECF6\", \"polar\": {\"angularaxis\": {\"gridcolor\": \"white\", \"linecolor\": \"white\", \"ticks\": \"\"}, \"bgcolor\": \"#E5ECF6\", \"radialaxis\": {\"gridcolor\": \"white\", \"linecolor\": \"white\", \"ticks\": \"\"}}, \"scene\": {\"xaxis\": {\"backgroundcolor\": \"#E5ECF6\", \"gridcolor\": \"white\", \"gridwidth\": 2, \"linecolor\": \"white\", \"showbackground\": true, \"ticks\": \"\", \"zerolinecolor\": \"white\"}, \"yaxis\": {\"backgroundcolor\": \"#E5ECF6\", \"gridcolor\": \"white\", \"gridwidth\": 2, \"linecolor\": \"white\", \"showbackground\": true, \"ticks\": \"\", \"zerolinecolor\": \"white\"}, \"zaxis\": {\"backgroundcolor\": \"#E5ECF6\", \"gridcolor\": \"white\", \"gridwidth\": 2, \"linecolor\": \"white\", \"showbackground\": true, \"ticks\": \"\", \"zerolinecolor\": \"white\"}}, \"shapedefaults\": {\"line\": {\"color\": \"#2a3f5f\"}}, \"ternary\": {\"aaxis\": {\"gridcolor\": \"white\", \"linecolor\": \"white\", \"ticks\": \"\"}, \"baxis\": {\"gridcolor\": \"white\", \"linecolor\": \"white\", \"ticks\": \"\"}, \"bgcolor\": \"#E5ECF6\", \"caxis\": {\"gridcolor\": \"white\", \"linecolor\": \"white\", \"ticks\": \"\"}}, \"title\": {\"x\": 0.05}, \"xaxis\": {\"automargin\": true, \"gridcolor\": \"white\", \"linecolor\": \"white\", \"ticks\": \"\", \"title\": {\"standoff\": 15}, \"zerolinecolor\": \"white\", \"zerolinewidth\": 2}, \"yaxis\": {\"automargin\": true, \"gridcolor\": \"white\", \"linecolor\": \"white\", \"ticks\": \"\", \"title\": {\"standoff\": 15}, \"zerolinecolor\": \"white\", \"zerolinewidth\": 2}}}, \"width\": 900, \"xaxis\": {\"rangeselector\": {\"buttons\": [{\"count\": 7, \"label\": \"1w\", \"step\": \"day\", \"stepmode\": \"backward\"}, {\"count\": 1, \"label\": \"1m\", \"step\": \"month\", \"stepmode\": \"backward\"}, {\"count\": 6, \"label\": \"6m\", \"step\": \"month\", \"stepmode\": \"backward\"}, {\"count\": 1, \"label\": \"1y\", \"step\": \"year\", \"stepmode\": \"backward\"}, {\"step\": \"all\"}]}, \"rangeslider\": {\"visible\": true}, \"title\": {\"text\": \"ds\"}, \"type\": \"date\"}, \"yaxis\": {\"title\": {\"text\": \"y\"}}},\n",
              "                        {\"responsive\": true}\n",
              "                    ).then(function(){\n",
              "                            \n",
              "var gd = document.getElementById('cd0c969a-4d5d-45d7-9318-12cd819f3e48');\n",
              "var x = new MutationObserver(function (mutations, observer) {{\n",
              "        var display = window.getComputedStyle(gd).display;\n",
              "        if (!display || display === 'none') {{\n",
              "            console.log([gd, 'removed!']);\n",
              "            Plotly.purge(gd);\n",
              "            observer.disconnect();\n",
              "        }}\n",
              "}});\n",
              "\n",
              "// Listen for the removal of the full notebook cells\n",
              "var notebookContainer = gd.closest('#notebook-container');\n",
              "if (notebookContainer) {{\n",
              "    x.observe(notebookContainer, {childList: true});\n",
              "}}\n",
              "\n",
              "// Listen for the clearing of the current output cell\n",
              "var outputEl = gd.closest('.output');\n",
              "if (outputEl) {{\n",
              "    x.observe(outputEl, {childList: true});\n",
              "}}\n",
              "\n",
              "                        })\n",
              "                };\n",
              "                \n",
              "            </script>\n",
              "        </div>\n",
              "</body>\n",
              "</html>"
            ]
          },
          "metadata": {
            "tags": []
          }
        }
      ]
    },
    {
      "cell_type": "code",
      "metadata": {
        "id": "dngSz8BZJ3Pa",
        "colab": {
          "base_uri": "https://localhost:8080/",
          "height": 1000,
          "referenced_widgets": [
            "8e9a781397c24be2ab32b9ce6c63ad5d",
            "f16a273c55ad417588e27ea057c605a5",
            "ef7aad67edc443aaab39b2392e2b332c",
            "e203dd40bc74412294d5fef6b3d75f9c",
            "a68d3a736c0e43f48289e95f5b446254",
            "af30bb9f4fa64075afbdd8b0ca27cf57",
            "d21d9bb78c4449e481af636ee1bc202a",
            "e5b6e3cd98e14f28b56559fe9759cb79"
          ]
        },
        "outputId": "b8eebdec-49ed-43bb-99de-5eda937186e5"
      },
      "source": [
        "cross_validation_results = cross_validation(m, period='15 days', horizon='59 days')\n",
        "print(cross_validation_results)"
      ],
      "execution_count": 28,
      "outputs": [
        {
          "output_type": "stream",
          "text": [
            "INFO:fbprophet:Making 1 forecasts with cutoffs between 2020-08-31 00:00:00 and 2020-08-31 00:00:00\n"
          ],
          "name": "stderr"
        },
        {
          "output_type": "display_data",
          "data": {
            "application/vnd.jupyter.widget-view+json": {
              "model_id": "8e9a781397c24be2ab32b9ce6c63ad5d",
              "version_minor": 0,
              "version_major": 2
            },
            "text/plain": [
              "HBox(children=(FloatProgress(value=0.0, max=1.0), HTML(value='')))"
            ]
          },
          "metadata": {
            "tags": []
          }
        },
        {
          "output_type": "stream",
          "text": [
            "WARNING:fbprophet.models:Optimization terminated abnormally. Falling back to Newton.\n"
          ],
          "name": "stderr"
        },
        {
          "output_type": "stream",
          "text": [
            "\n",
            "           ds         yhat  yhat_lower   yhat_upper     y     cutoff\n",
            "0  2020-09-01  1235.853432  473.047229  2019.860869   666 2020-08-31\n",
            "1  2020-09-02  1270.621828  515.397968  2047.954069   916 2020-08-31\n",
            "2  2020-09-03  1208.912419  425.367565  1955.708725   818 2020-08-31\n",
            "3  2020-09-04  1215.333757  446.065182  1956.890095   915 2020-08-31\n",
            "4  2020-09-05  1176.397352  383.992361  1940.261961   846 2020-08-31\n",
            "5  2020-09-06  1228.393591  463.302623  2044.212399   686 2020-08-31\n",
            "6  2020-09-07  1400.217443  634.936164  2193.103119   487 2020-08-31\n",
            "7  2020-09-08  1245.108681  549.869341  2063.414792   427 2020-08-31\n",
            "8  2020-09-09  1287.811524  467.506697  2088.188675   585 2020-08-31\n",
            "9  2020-09-10  1208.332906  468.417174  1978.073988   856 2020-08-31\n",
            "10 2020-09-11  1204.703529  441.181583  1933.881656   810 2020-08-31\n",
            "11 2020-09-12  1121.546818  359.668517  1900.733865   836 2020-08-31\n",
            "12 2020-09-13  1176.326860  382.380117  1953.272487   697 2020-08-31\n",
            "13 2020-09-14  1172.806539  379.953086  1931.127827   617 2020-08-31\n",
            "14 2020-09-15  1248.199341  487.254831  1994.249944   404 2020-08-31\n",
            "15 2020-09-16  1292.104835  538.111893  2033.668702   832 2020-08-31\n",
            "16 2020-09-17  1258.292086  488.208250  2092.520464   843 2020-08-31\n",
            "17 2020-09-18  1246.939550  486.556469  2050.056473   872 2020-08-31\n",
            "18 2020-09-19  1199.094648  399.551356  1970.629124   895 2020-08-31\n",
            "19 2020-09-20  1253.110634  498.456772  1979.443926   780 2020-08-31\n",
            "20 2020-09-21  1219.273279  471.181800  2020.035944   603 2020-08-31\n",
            "21 2020-09-22  1291.921482  542.207846  2047.719014   628 2020-08-31\n",
            "22 2020-09-23  1319.723641  497.502384  2100.563166   865 2020-08-31\n",
            "23 2020-09-24  1266.525536  564.305788  2013.404745   824 2020-08-31\n",
            "24 2020-09-25  1253.194765  504.205772  2044.178551   907 2020-08-31\n",
            "25 2020-09-26  1197.353217  411.892382  1954.273509   867 2020-08-31\n",
            "26 2020-09-27  1267.286660  534.677231  2021.147006   698 2020-08-31\n",
            "27 2020-09-28  1245.147057  435.576469  1969.759818   608 2020-08-31\n",
            "28 2020-09-29  1290.459440  513.760777  2066.666230   705 2020-08-31\n",
            "29 2020-09-30  1313.757949  574.515136  2065.789662   796 2020-08-31\n",
            "30 2020-10-01  1234.996143  459.886087  2023.658340   822 2020-08-31\n",
            "31 2020-10-02  1266.532802  522.109002  2061.040511   887 2020-08-31\n",
            "32 2020-10-03  1246.561141  471.900877  2013.756075   783 2020-08-31\n",
            "33 2020-10-04  1292.356741  572.009233  2061.408430   757 2020-08-31\n",
            "34 2020-10-05  1278.911201  544.960266  2006.240156   388 2020-08-31\n",
            "35 2020-10-06  1350.794677  609.482549  2160.062652   750 2020-08-31\n",
            "36 2020-10-07  1400.631758  638.215706  2179.437890   939 2020-08-31\n",
            "37 2020-10-09  1337.525470  577.027436  2147.912645   871 2020-08-31\n",
            "38 2020-10-10  1275.075017  508.920574  2024.260178   879 2020-08-31\n",
            "39 2020-10-11  1341.172685  609.280932  2109.408770   777 2020-08-31\n",
            "40 2020-10-12  1339.295271  596.918617  2094.181832   717 2020-08-31\n",
            "41 2020-10-13  1400.421532  643.732338  2150.134867   674 2020-08-31\n",
            "42 2020-10-14  1433.272183  673.098880  2268.521496   883 2020-08-31\n",
            "43 2020-10-15  1379.000464  651.145266  2108.087553   858 2020-08-31\n",
            "44 2020-10-16  1382.073388  578.772673  2121.462055   809 2020-08-31\n",
            "45 2020-10-17  1331.783462  590.432669  2114.183598   750 2020-08-31\n",
            "46 2020-10-18  1381.833220  586.274051  2095.512858   328 2020-08-31\n",
            "47 2020-10-19  1360.334063  606.453638  2071.162808   751 2020-08-31\n",
            "48 2020-10-20  1430.558774  676.892913  2191.796123   599 2020-08-31\n",
            "49 2020-10-21  1467.773741  749.303875  2265.849212   477 2020-08-31\n",
            "50 2020-10-22  1412.616149  652.826679  2185.902007  1096 2020-08-31\n",
            "51 2020-10-23  1401.262067  528.129298  2113.119592  1053 2020-08-31\n",
            "52 2020-10-24  1349.126265  539.014330  2152.722908  1007 2020-08-31\n",
            "53 2020-10-25  1373.650123  595.604076  2172.573118   702 2020-08-31\n",
            "54 2020-10-26  1349.023283  541.885359  2081.895394   720 2020-08-31\n",
            "55 2020-10-27  1427.846122  613.930058  2175.344093   921 2020-08-31\n",
            "56 2020-10-28  1468.071171  715.607133  2289.429067   891 2020-08-31\n",
            "57 2020-10-29  1421.492960  669.936676  2155.190659   957 2020-08-31\n"
          ],
          "name": "stdout"
        }
      ]
    },
    {
      "cell_type": "code",
      "metadata": {
        "id": "EWP0v9hPJ3Pd",
        "colab": {
          "base_uri": "https://localhost:8080/"
        },
        "outputId": "dd8479c9-65c7-45aa-83fd-93a721014f23"
      },
      "source": [
        "performance_metrics_results = performance_metrics(cross_validation_results)\n",
        "print(performance_metrics_results)"
      ],
      "execution_count": 29,
      "outputs": [
        {
          "output_type": "stream",
          "text": [
            "   horizon            mse        rmse         mae      mape     mdape  coverage\n",
            "0   5 days  160532.974080  400.665664  389.223758  0.487888  0.390541       1.0\n",
            "1   6 days  154424.548685  392.968890  383.731789  0.474893  0.390541       1.0\n",
            "2   7 days  296066.440223  544.119877  495.450912  0.772503  0.477888       0.8\n",
            "3   8 days  399364.299138  631.952767  580.890165  1.060114  0.790661       0.6\n",
            "4   9 days  480113.033747  692.901893  661.385718  1.234745  1.201387       0.6\n",
            "5  10 days  483108.247053  695.059887  665.772829  1.238958  1.201387       0.6\n",
            "6  11 days  455428.260700  674.854251  636.234817  1.178283  1.201387       0.6\n",
            "7  12 days  304942.437942  552.215934  510.700692  0.871558  0.487288       0.8\n",
            "8  13 days  217032.922888  465.867924  442.944327  0.625909  0.487288       1.0\n",
            "9  14 days  180028.296830  424.297416  413.543330  0.565795  0.487288       1.0\n",
            "10 15 days  297735.106866  545.651085  511.916617  0.901395  0.687700       0.8\n",
            "11 16 days  308916.223530  555.802324  524.996878  0.914539  0.687700       0.8\n",
            "12 17 days  327102.329889  571.928606  550.945932  0.944754  0.687700       0.8\n",
            "13 18 days  309267.415494  556.118167  530.068470  0.893209  0.553011       0.8\n",
            "14 19 days  265977.944794  515.730496  479.726092  0.780999  0.492636       0.8\n",
            "15 20 days  168210.173883  410.134336  405.508351  0.484389  0.492636       1.0\n",
            "16 21 days  201829.433093  449.254308  436.742040  0.578189  0.492636       1.0\n",
            "17 22 days  255494.276544  505.464417  486.467919  0.691102  0.606552       1.0\n",
            "18 23 days  268733.061296  518.394696  502.424737  0.710245  0.606552       1.0\n",
            "19 24 days  289404.120387  537.962936  530.110915  0.749700  0.606552       1.0\n",
            "20 25 days  268607.549019  518.273624  504.727741  0.704728  0.537046       1.0\n",
            "21 26 days  214475.647654  463.115156  447.543728  0.576532  0.525692       1.0\n",
            "22 27 days  191134.761120  437.189617  428.616764  0.528211  0.525692       1.0\n",
            "23 28 days  230971.317515  480.594754  465.101447  0.632661  0.537046       1.0\n",
            "24 29 days  260358.098720  510.252975  493.688228  0.691339  0.815597       1.0\n",
            "25 30 days  290002.594435  538.518890  528.000865  0.745091  0.815597       1.0\n",
            "26 31 days  302289.107617  549.808246  544.529450  0.769371  0.815597       1.0\n",
            "27 32 days  266280.676883  516.023911  506.578678  0.691828  0.650450       1.0\n",
            "28 33 days  228067.188721  477.563806  471.861495  0.600647  0.592032       1.0\n",
            "29 34 days  216836.005408  465.656532  461.840955  0.576000  0.592032       1.0\n",
            "30 35 days  321965.900227  567.420391  536.471606  0.905143  0.592032       0.8\n",
            "31 36 days  360043.586307  600.036321  574.031312  0.964869  0.707208       0.8\n",
            "32 37 days  373855.332748  611.437104  590.451104  0.977617  0.707208       0.8\n",
            "33 39 days  374406.749315  611.887857  591.043969  0.966334  0.707208       0.8\n",
            "34 40 days  348460.465233  590.305400  563.187625  0.915012  0.535621       0.8\n",
            "35 41 days  253374.075405  503.362767  497.839922  0.600998  0.535621       1.0\n",
            "36 42 days  258633.507485  508.560230  502.140040  0.614369  0.535621       1.0\n",
            "37 43 days  321550.379782  567.054124  555.097995  0.731600  0.726091       1.0\n",
            "38 44 days  338581.072002  581.877197  571.847338  0.749113  0.726091       1.0\n",
            "39 45 days  361494.284888  601.243948  596.832427  0.780439  0.726091       1.0\n",
            "40 46 days  363518.742753  602.925155  598.612568  0.776895  0.708373       1.0\n",
            "41 47 days  353762.861108  594.779674  590.510206  0.758454  0.708373       1.0\n",
            "42 48 days  470338.103913  685.812003  655.992543  1.185480  0.708373       0.8\n",
            "43 49 days  484035.809003  695.726821  667.804920  1.223116  0.775711       0.8\n",
            "44 50 days  568045.511050  753.687940  729.916581  1.379320  0.811364       0.6\n",
            "45 51 days  698689.410400  835.876432  813.456652  1.653064  1.388245       0.4\n",
            "46 52 days  651044.168284  806.873081  760.423189  1.555698  1.388245       0.4\n",
            "47 53 days  453188.570591  673.192818  619.308959  0.979264  0.811364       0.6\n",
            "48 54 days  402341.046736  634.303592  565.867399  0.884941  0.339748       0.6\n",
            "49 55 days  354265.825536  595.202340  533.885669  0.798645  0.339748       0.8\n",
            "50 56 days  237073.362621  486.901800  461.535578  0.557955  0.339748       1.0\n",
            "51 57 days  268402.803736  518.076060  499.581572  0.610243  0.550322       1.0\n",
            "52 58 days  310747.737621  557.447520  545.343393  0.673629  0.647667       1.0\n",
            "53 59 days  330488.403270  574.881208  569.816732  0.702752  0.647667       1.0\n"
          ],
          "name": "stdout"
        }
      ]
    }
  ]
}