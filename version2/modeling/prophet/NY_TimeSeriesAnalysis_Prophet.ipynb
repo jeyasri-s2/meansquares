{
  "nbformat": 4,
  "nbformat_minor": 0,
  "metadata": {
    "colab": {
      "name": "NY_TimeSeriesAnalysis_Prophet.ipynb",
      "provenance": [],
      "collapsed_sections": [],
      "toc_visible": true
    },
    "kernelspec": {
      "name": "python3",
      "display_name": "Python 3"
    },
    "widgets": {
      "application/vnd.jupyter.widget-state+json": {
        "d89254c9fe5645398b8a9da0f59728e9": {
          "model_module": "@jupyter-widgets/controls",
          "model_name": "HBoxModel",
          "state": {
            "_view_name": "HBoxView",
            "_dom_classes": [],
            "_model_name": "HBoxModel",
            "_view_module": "@jupyter-widgets/controls",
            "_model_module_version": "1.5.0",
            "_view_count": null,
            "_view_module_version": "1.5.0",
            "box_style": "",
            "layout": "IPY_MODEL_3f11ee0bf40c4b698f3ed160996b1b81",
            "_model_module": "@jupyter-widgets/controls",
            "children": [
              "IPY_MODEL_c3fffe22e94c471ebbba4beaaca81d74",
              "IPY_MODEL_7253d90314b64e1b80795d37848cd624"
            ]
          }
        },
        "3f11ee0bf40c4b698f3ed160996b1b81": {
          "model_module": "@jupyter-widgets/base",
          "model_name": "LayoutModel",
          "state": {
            "_view_name": "LayoutView",
            "grid_template_rows": null,
            "right": null,
            "justify_content": null,
            "_view_module": "@jupyter-widgets/base",
            "overflow": null,
            "_model_module_version": "1.2.0",
            "_view_count": null,
            "flex_flow": null,
            "width": null,
            "min_width": null,
            "border": null,
            "align_items": null,
            "bottom": null,
            "_model_module": "@jupyter-widgets/base",
            "top": null,
            "grid_column": null,
            "overflow_y": null,
            "overflow_x": null,
            "grid_auto_flow": null,
            "grid_area": null,
            "grid_template_columns": null,
            "flex": null,
            "_model_name": "LayoutModel",
            "justify_items": null,
            "grid_row": null,
            "max_height": null,
            "align_content": null,
            "visibility": null,
            "align_self": null,
            "height": null,
            "min_height": null,
            "padding": null,
            "grid_auto_rows": null,
            "grid_gap": null,
            "max_width": null,
            "order": null,
            "_view_module_version": "1.2.0",
            "grid_template_areas": null,
            "object_position": null,
            "object_fit": null,
            "grid_auto_columns": null,
            "margin": null,
            "display": null,
            "left": null
          }
        },
        "c3fffe22e94c471ebbba4beaaca81d74": {
          "model_module": "@jupyter-widgets/controls",
          "model_name": "FloatProgressModel",
          "state": {
            "_view_name": "ProgressView",
            "style": "IPY_MODEL_f0945adc9ac74971ab69df55ac255548",
            "_dom_classes": [],
            "description": "100%",
            "_model_name": "FloatProgressModel",
            "bar_style": "success",
            "max": 1,
            "_view_module": "@jupyter-widgets/controls",
            "_model_module_version": "1.5.0",
            "value": 1,
            "_view_count": null,
            "_view_module_version": "1.5.0",
            "orientation": "horizontal",
            "min": 0,
            "description_tooltip": null,
            "_model_module": "@jupyter-widgets/controls",
            "layout": "IPY_MODEL_639f72550d2f4aef8c1d3efc755d0831"
          }
        },
        "7253d90314b64e1b80795d37848cd624": {
          "model_module": "@jupyter-widgets/controls",
          "model_name": "HTMLModel",
          "state": {
            "_view_name": "HTMLView",
            "style": "IPY_MODEL_cdfd4f08513142c089379f79460c3d1f",
            "_dom_classes": [],
            "description": "",
            "_model_name": "HTMLModel",
            "placeholder": "​",
            "_view_module": "@jupyter-widgets/controls",
            "_model_module_version": "1.5.0",
            "value": " 1/1 [00:04&lt;00:00,  4.51s/it]",
            "_view_count": null,
            "_view_module_version": "1.5.0",
            "description_tooltip": null,
            "_model_module": "@jupyter-widgets/controls",
            "layout": "IPY_MODEL_243a5a0f4c6446108ef03d7052f04835"
          }
        },
        "f0945adc9ac74971ab69df55ac255548": {
          "model_module": "@jupyter-widgets/controls",
          "model_name": "ProgressStyleModel",
          "state": {
            "_view_name": "StyleView",
            "_model_name": "ProgressStyleModel",
            "description_width": "initial",
            "_view_module": "@jupyter-widgets/base",
            "_model_module_version": "1.5.0",
            "_view_count": null,
            "_view_module_version": "1.2.0",
            "bar_color": null,
            "_model_module": "@jupyter-widgets/controls"
          }
        },
        "639f72550d2f4aef8c1d3efc755d0831": {
          "model_module": "@jupyter-widgets/base",
          "model_name": "LayoutModel",
          "state": {
            "_view_name": "LayoutView",
            "grid_template_rows": null,
            "right": null,
            "justify_content": null,
            "_view_module": "@jupyter-widgets/base",
            "overflow": null,
            "_model_module_version": "1.2.0",
            "_view_count": null,
            "flex_flow": null,
            "width": null,
            "min_width": null,
            "border": null,
            "align_items": null,
            "bottom": null,
            "_model_module": "@jupyter-widgets/base",
            "top": null,
            "grid_column": null,
            "overflow_y": null,
            "overflow_x": null,
            "grid_auto_flow": null,
            "grid_area": null,
            "grid_template_columns": null,
            "flex": null,
            "_model_name": "LayoutModel",
            "justify_items": null,
            "grid_row": null,
            "max_height": null,
            "align_content": null,
            "visibility": null,
            "align_self": null,
            "height": null,
            "min_height": null,
            "padding": null,
            "grid_auto_rows": null,
            "grid_gap": null,
            "max_width": null,
            "order": null,
            "_view_module_version": "1.2.0",
            "grid_template_areas": null,
            "object_position": null,
            "object_fit": null,
            "grid_auto_columns": null,
            "margin": null,
            "display": null,
            "left": null
          }
        },
        "cdfd4f08513142c089379f79460c3d1f": {
          "model_module": "@jupyter-widgets/controls",
          "model_name": "DescriptionStyleModel",
          "state": {
            "_view_name": "StyleView",
            "_model_name": "DescriptionStyleModel",
            "description_width": "",
            "_view_module": "@jupyter-widgets/base",
            "_model_module_version": "1.5.0",
            "_view_count": null,
            "_view_module_version": "1.2.0",
            "_model_module": "@jupyter-widgets/controls"
          }
        },
        "243a5a0f4c6446108ef03d7052f04835": {
          "model_module": "@jupyter-widgets/base",
          "model_name": "LayoutModel",
          "state": {
            "_view_name": "LayoutView",
            "grid_template_rows": null,
            "right": null,
            "justify_content": null,
            "_view_module": "@jupyter-widgets/base",
            "overflow": null,
            "_model_module_version": "1.2.0",
            "_view_count": null,
            "flex_flow": null,
            "width": null,
            "min_width": null,
            "border": null,
            "align_items": null,
            "bottom": null,
            "_model_module": "@jupyter-widgets/base",
            "top": null,
            "grid_column": null,
            "overflow_y": null,
            "overflow_x": null,
            "grid_auto_flow": null,
            "grid_area": null,
            "grid_template_columns": null,
            "flex": null,
            "_model_name": "LayoutModel",
            "justify_items": null,
            "grid_row": null,
            "max_height": null,
            "align_content": null,
            "visibility": null,
            "align_self": null,
            "height": null,
            "min_height": null,
            "padding": null,
            "grid_auto_rows": null,
            "grid_gap": null,
            "max_width": null,
            "order": null,
            "_view_module_version": "1.2.0",
            "grid_template_areas": null,
            "object_position": null,
            "object_fit": null,
            "grid_auto_columns": null,
            "margin": null,
            "display": null,
            "left": null
          }
        }
      }
    }
  },
  "cells": [
    {
      "cell_type": "markdown",
      "metadata": {
        "id": "boKToYTln-Gg"
      },
      "source": [
        "# NY Prophet"
      ]
    },
    {
      "cell_type": "markdown",
      "metadata": {
        "id": "1XZE4_8qoJJQ"
      },
      "source": [
        "## Imports"
      ]
    },
    {
      "cell_type": "code",
      "metadata": {
        "id": "U9vA50xjnxzi",
        "colab": {
          "base_uri": "https://localhost:8080/"
        },
        "outputId": "6756e7b3-9426-4bf2-fd7c-c33fd4193ced"
      },
      "source": [
        "from google.colab import drive\n",
        "drive.mount('/content/drive')"
      ],
      "execution_count": 1,
      "outputs": [
        {
          "output_type": "stream",
          "text": [
            "Drive already mounted at /content/drive; to attempt to forcibly remount, call drive.mount(\"/content/drive\", force_remount=True).\n"
          ],
          "name": "stdout"
        }
      ]
    },
    {
      "cell_type": "code",
      "metadata": {
        "id": "C4mP0tZFopX0"
      },
      "source": [
        "import pandas as pd\n",
        "from fbprophet import Prophet\n",
        "from fbprophet.plot import plot_plotly, plot_components_plotly\n",
        "from sklearn.model_selection import train_test_split\n",
        "from sklearn import preprocessing\n",
        "from fbprophet.diagnostics import cross_validation\n",
        "from fbprophet.diagnostics import performance_metrics"
      ],
      "execution_count": 2,
      "outputs": []
    },
    {
      "cell_type": "markdown",
      "metadata": {
        "id": "yV0rYBj9uH9C"
      },
      "source": [
        "## New York Data"
      ]
    },
    {
      "cell_type": "code",
      "metadata": {
        "id": "uEqMDIW7oDNs",
        "colab": {
          "base_uri": "https://localhost:8080/",
          "height": 326
        },
        "outputId": "c59757cc-53b4-479e-fd56-20ecfa63b69e"
      },
      "source": [
        "NY_labeledData = pd.read_csv('/content/drive/Shared drives/CMPE 295- Master Project/projectdata-2021/NY_alldatasets_Jan13.csv',low_memory=False)\n",
        "NY_labeledData.tail()"
      ],
      "execution_count": 3,
      "outputs": [
        {
          "output_type": "execute_result",
          "data": {
            "text/html": [
              "<div>\n",
              "<style scoped>\n",
              "    .dataframe tbody tr th:only-of-type {\n",
              "        vertical-align: middle;\n",
              "    }\n",
              "\n",
              "    .dataframe tbody tr th {\n",
              "        vertical-align: top;\n",
              "    }\n",
              "\n",
              "    .dataframe thead th {\n",
              "        text-align: right;\n",
              "    }\n",
              "</style>\n",
              "<table border=\"1\" class=\"dataframe\">\n",
              "  <thead>\n",
              "    <tr style=\"text-align: right;\">\n",
              "      <th></th>\n",
              "      <th>Date</th>\n",
              "      <th>Province_State</th>\n",
              "      <th>FIPS</th>\n",
              "      <th>New cases</th>\n",
              "      <th>County Name</th>\n",
              "      <th>population</th>\n",
              "      <th>mask_rule_active</th>\n",
              "      <th>m50</th>\n",
              "      <th>m50_index</th>\n",
              "      <th>retail_and_recreation_percent_change_from_baseline</th>\n",
              "      <th>grocery_and_pharmacy_percent_change_from_baseline</th>\n",
              "      <th>parks_percent_change_from_baseline</th>\n",
              "      <th>transit_stations_percent_change_from_baseline</th>\n",
              "      <th>workplaces_percent_change_from_baseline</th>\n",
              "      <th>residential_percent_change_from_baseline</th>\n",
              "    </tr>\n",
              "  </thead>\n",
              "  <tbody>\n",
              "    <tr>\n",
              "      <th>17733</th>\n",
              "      <td>2021-01-01</td>\n",
              "      <td>New York</td>\n",
              "      <td>36123</td>\n",
              "      <td>21</td>\n",
              "      <td>Yates County</td>\n",
              "      <td>24913</td>\n",
              "      <td>1</td>\n",
              "      <td>0.756</td>\n",
              "      <td>10</td>\n",
              "      <td>NaN</td>\n",
              "      <td>NaN</td>\n",
              "      <td>NaN</td>\n",
              "      <td>NaN</td>\n",
              "      <td>-73.0</td>\n",
              "      <td>NaN</td>\n",
              "    </tr>\n",
              "    <tr>\n",
              "      <th>17734</th>\n",
              "      <td>2021-01-02</td>\n",
              "      <td>New York</td>\n",
              "      <td>36123</td>\n",
              "      <td>17</td>\n",
              "      <td>Yates County</td>\n",
              "      <td>24913</td>\n",
              "      <td>1</td>\n",
              "      <td>2.683</td>\n",
              "      <td>38</td>\n",
              "      <td>NaN</td>\n",
              "      <td>NaN</td>\n",
              "      <td>NaN</td>\n",
              "      <td>NaN</td>\n",
              "      <td>-12.0</td>\n",
              "      <td>NaN</td>\n",
              "    </tr>\n",
              "    <tr>\n",
              "      <th>17735</th>\n",
              "      <td>2021-01-03</td>\n",
              "      <td>New York</td>\n",
              "      <td>36123</td>\n",
              "      <td>18</td>\n",
              "      <td>Yates County</td>\n",
              "      <td>24913</td>\n",
              "      <td>1</td>\n",
              "      <td>0.758</td>\n",
              "      <td>10</td>\n",
              "      <td>NaN</td>\n",
              "      <td>NaN</td>\n",
              "      <td>NaN</td>\n",
              "      <td>NaN</td>\n",
              "      <td>-3.0</td>\n",
              "      <td>NaN</td>\n",
              "    </tr>\n",
              "    <tr>\n",
              "      <th>17736</th>\n",
              "      <td>2021-01-04</td>\n",
              "      <td>New York</td>\n",
              "      <td>36123</td>\n",
              "      <td>15</td>\n",
              "      <td>Yates County</td>\n",
              "      <td>24913</td>\n",
              "      <td>1</td>\n",
              "      <td>2.325</td>\n",
              "      <td>33</td>\n",
              "      <td>NaN</td>\n",
              "      <td>8.0</td>\n",
              "      <td>NaN</td>\n",
              "      <td>NaN</td>\n",
              "      <td>-16.0</td>\n",
              "      <td>8.0</td>\n",
              "    </tr>\n",
              "    <tr>\n",
              "      <th>17737</th>\n",
              "      <td>2021-01-05</td>\n",
              "      <td>New York</td>\n",
              "      <td>36123</td>\n",
              "      <td>11</td>\n",
              "      <td>Yates County</td>\n",
              "      <td>24913</td>\n",
              "      <td>1</td>\n",
              "      <td>1.719</td>\n",
              "      <td>24</td>\n",
              "      <td>NaN</td>\n",
              "      <td>8.0</td>\n",
              "      <td>NaN</td>\n",
              "      <td>NaN</td>\n",
              "      <td>-16.0</td>\n",
              "      <td>8.0</td>\n",
              "    </tr>\n",
              "  </tbody>\n",
              "</table>\n",
              "</div>"
            ],
            "text/plain": [
              "             Date  ... residential_percent_change_from_baseline\n",
              "17733  2021-01-01  ...                                      NaN\n",
              "17734  2021-01-02  ...                                      NaN\n",
              "17735  2021-01-03  ...                                      NaN\n",
              "17736  2021-01-04  ...                                      8.0\n",
              "17737  2021-01-05  ...                                      8.0\n",
              "\n",
              "[5 rows x 15 columns]"
            ]
          },
          "metadata": {
            "tags": []
          },
          "execution_count": 3
        }
      ]
    },
    {
      "cell_type": "code",
      "metadata": {
        "id": "rZc3bBdPse6d"
      },
      "source": [
        "NY_labeledData = NY_labeledData.dropna()"
      ],
      "execution_count": 4,
      "outputs": []
    },
    {
      "cell_type": "code",
      "metadata": {
        "id": "LA2ZwyNIslZy"
      },
      "source": [
        "NY_labeledData['label_y'] = preprocessing.LabelEncoder().fit_transform(NY_labeledData['New cases'])"
      ],
      "execution_count": 5,
      "outputs": []
    },
    {
      "cell_type": "code",
      "metadata": {
        "id": "8h5T5dePwFa4"
      },
      "source": [
        "NY_labeledData['County Name Label'] = preprocessing.LabelEncoder().fit_transform(NY_labeledData['County Name'])"
      ],
      "execution_count": 6,
      "outputs": []
    },
    {
      "cell_type": "code",
      "metadata": {
        "id": "S_98ZWbgsn8c"
      },
      "source": [
        "NY_labeledData.rename(columns={'Date': 'ds', 'label_y': 'y'}, inplace=True)"
      ],
      "execution_count": 7,
      "outputs": []
    },
    {
      "cell_type": "code",
      "metadata": {
        "id": "ZoFf0WQTptg-"
      },
      "source": [
        "train, test = train_test_split(NY_labeledData, test_size=0.2, shuffle=False)"
      ],
      "execution_count": 8,
      "outputs": []
    },
    {
      "cell_type": "code",
      "metadata": {
        "id": "lee2ST1usLe8",
        "colab": {
          "base_uri": "https://localhost:8080/",
          "height": 343
        },
        "outputId": "0743a6f0-b088-4ad7-9df8-6fea0c4146e5"
      },
      "source": [
        "train.head()"
      ],
      "execution_count": 9,
      "outputs": [
        {
          "output_type": "execute_result",
          "data": {
            "text/html": [
              "<div>\n",
              "<style scoped>\n",
              "    .dataframe tbody tr th:only-of-type {\n",
              "        vertical-align: middle;\n",
              "    }\n",
              "\n",
              "    .dataframe tbody tr th {\n",
              "        vertical-align: top;\n",
              "    }\n",
              "\n",
              "    .dataframe thead th {\n",
              "        text-align: right;\n",
              "    }\n",
              "</style>\n",
              "<table border=\"1\" class=\"dataframe\">\n",
              "  <thead>\n",
              "    <tr style=\"text-align: right;\">\n",
              "      <th></th>\n",
              "      <th>ds</th>\n",
              "      <th>Province_State</th>\n",
              "      <th>FIPS</th>\n",
              "      <th>New cases</th>\n",
              "      <th>County Name</th>\n",
              "      <th>population</th>\n",
              "      <th>mask_rule_active</th>\n",
              "      <th>m50</th>\n",
              "      <th>m50_index</th>\n",
              "      <th>retail_and_recreation_percent_change_from_baseline</th>\n",
              "      <th>grocery_and_pharmacy_percent_change_from_baseline</th>\n",
              "      <th>parks_percent_change_from_baseline</th>\n",
              "      <th>transit_stations_percent_change_from_baseline</th>\n",
              "      <th>workplaces_percent_change_from_baseline</th>\n",
              "      <th>residential_percent_change_from_baseline</th>\n",
              "      <th>y</th>\n",
              "      <th>County Name Label</th>\n",
              "    </tr>\n",
              "  </thead>\n",
              "  <tbody>\n",
              "    <tr>\n",
              "      <th>0</th>\n",
              "      <td>2020-03-01</td>\n",
              "      <td>New York</td>\n",
              "      <td>36001</td>\n",
              "      <td>0</td>\n",
              "      <td>Albany County</td>\n",
              "      <td>305506</td>\n",
              "      <td>0</td>\n",
              "      <td>2.616</td>\n",
              "      <td>54</td>\n",
              "      <td>10.0</td>\n",
              "      <td>13.0</td>\n",
              "      <td>19.0</td>\n",
              "      <td>4.0</td>\n",
              "      <td>7.0</td>\n",
              "      <td>-1.0</td>\n",
              "      <td>9</td>\n",
              "      <td>0</td>\n",
              "    </tr>\n",
              "    <tr>\n",
              "      <th>1</th>\n",
              "      <td>2020-03-02</td>\n",
              "      <td>New York</td>\n",
              "      <td>36001</td>\n",
              "      <td>0</td>\n",
              "      <td>Albany County</td>\n",
              "      <td>305506</td>\n",
              "      <td>0</td>\n",
              "      <td>4.680</td>\n",
              "      <td>97</td>\n",
              "      <td>11.0</td>\n",
              "      <td>15.0</td>\n",
              "      <td>29.0</td>\n",
              "      <td>5.0</td>\n",
              "      <td>3.0</td>\n",
              "      <td>0.0</td>\n",
              "      <td>9</td>\n",
              "      <td>0</td>\n",
              "    </tr>\n",
              "    <tr>\n",
              "      <th>2</th>\n",
              "      <td>2020-03-03</td>\n",
              "      <td>New York</td>\n",
              "      <td>36001</td>\n",
              "      <td>0</td>\n",
              "      <td>Albany County</td>\n",
              "      <td>305506</td>\n",
              "      <td>0</td>\n",
              "      <td>4.778</td>\n",
              "      <td>100</td>\n",
              "      <td>8.0</td>\n",
              "      <td>15.0</td>\n",
              "      <td>41.0</td>\n",
              "      <td>8.0</td>\n",
              "      <td>3.0</td>\n",
              "      <td>-1.0</td>\n",
              "      <td>9</td>\n",
              "      <td>0</td>\n",
              "    </tr>\n",
              "    <tr>\n",
              "      <th>3</th>\n",
              "      <td>2020-03-04</td>\n",
              "      <td>New York</td>\n",
              "      <td>36001</td>\n",
              "      <td>0</td>\n",
              "      <td>Albany County</td>\n",
              "      <td>305506</td>\n",
              "      <td>0</td>\n",
              "      <td>4.486</td>\n",
              "      <td>93</td>\n",
              "      <td>7.0</td>\n",
              "      <td>8.0</td>\n",
              "      <td>6.0</td>\n",
              "      <td>2.0</td>\n",
              "      <td>3.0</td>\n",
              "      <td>0.0</td>\n",
              "      <td>9</td>\n",
              "      <td>0</td>\n",
              "    </tr>\n",
              "    <tr>\n",
              "      <th>4</th>\n",
              "      <td>2020-03-05</td>\n",
              "      <td>New York</td>\n",
              "      <td>36001</td>\n",
              "      <td>0</td>\n",
              "      <td>Albany County</td>\n",
              "      <td>305506</td>\n",
              "      <td>0</td>\n",
              "      <td>5.129</td>\n",
              "      <td>107</td>\n",
              "      <td>5.0</td>\n",
              "      <td>13.0</td>\n",
              "      <td>18.0</td>\n",
              "      <td>2.0</td>\n",
              "      <td>3.0</td>\n",
              "      <td>-1.0</td>\n",
              "      <td>9</td>\n",
              "      <td>0</td>\n",
              "    </tr>\n",
              "  </tbody>\n",
              "</table>\n",
              "</div>"
            ],
            "text/plain": [
              "           ds Province_State  ...  y  County Name Label\n",
              "0  2020-03-01       New York  ...  9                  0\n",
              "1  2020-03-02       New York  ...  9                  0\n",
              "2  2020-03-03       New York  ...  9                  0\n",
              "3  2020-03-04       New York  ...  9                  0\n",
              "4  2020-03-05       New York  ...  9                  0\n",
              "\n",
              "[5 rows x 17 columns]"
            ]
          },
          "metadata": {
            "tags": []
          },
          "execution_count": 9
        }
      ]
    },
    {
      "cell_type": "code",
      "metadata": {
        "id": "_25MLq-jsNQH",
        "colab": {
          "base_uri": "https://localhost:8080/",
          "height": 343
        },
        "outputId": "94ac29b0-9469-4f1c-99fb-b1d671d6be77"
      },
      "source": [
        "test.tail()"
      ],
      "execution_count": 10,
      "outputs": [
        {
          "output_type": "execute_result",
          "data": {
            "text/html": [
              "<div>\n",
              "<style scoped>\n",
              "    .dataframe tbody tr th:only-of-type {\n",
              "        vertical-align: middle;\n",
              "    }\n",
              "\n",
              "    .dataframe tbody tr th {\n",
              "        vertical-align: top;\n",
              "    }\n",
              "\n",
              "    .dataframe thead th {\n",
              "        text-align: right;\n",
              "    }\n",
              "</style>\n",
              "<table border=\"1\" class=\"dataframe\">\n",
              "  <thead>\n",
              "    <tr style=\"text-align: right;\">\n",
              "      <th></th>\n",
              "      <th>ds</th>\n",
              "      <th>Province_State</th>\n",
              "      <th>FIPS</th>\n",
              "      <th>New cases</th>\n",
              "      <th>County Name</th>\n",
              "      <th>population</th>\n",
              "      <th>mask_rule_active</th>\n",
              "      <th>m50</th>\n",
              "      <th>m50_index</th>\n",
              "      <th>retail_and_recreation_percent_change_from_baseline</th>\n",
              "      <th>grocery_and_pharmacy_percent_change_from_baseline</th>\n",
              "      <th>parks_percent_change_from_baseline</th>\n",
              "      <th>transit_stations_percent_change_from_baseline</th>\n",
              "      <th>workplaces_percent_change_from_baseline</th>\n",
              "      <th>residential_percent_change_from_baseline</th>\n",
              "      <th>y</th>\n",
              "      <th>County Name Label</th>\n",
              "    </tr>\n",
              "  </thead>\n",
              "  <tbody>\n",
              "    <tr>\n",
              "      <th>17164</th>\n",
              "      <td>2021-01-01</td>\n",
              "      <td>New York</td>\n",
              "      <td>36119</td>\n",
              "      <td>953</td>\n",
              "      <td>Westchester County</td>\n",
              "      <td>967506</td>\n",
              "      <td>1</td>\n",
              "      <td>0.939</td>\n",
              "      <td>14</td>\n",
              "      <td>-59.0</td>\n",
              "      <td>-46.0</td>\n",
              "      <td>-18.0</td>\n",
              "      <td>-77.0</td>\n",
              "      <td>-79.0</td>\n",
              "      <td>31.0</td>\n",
              "      <td>668</td>\n",
              "      <td>27</td>\n",
              "    </tr>\n",
              "    <tr>\n",
              "      <th>17165</th>\n",
              "      <td>2021-01-02</td>\n",
              "      <td>New York</td>\n",
              "      <td>36119</td>\n",
              "      <td>1013</td>\n",
              "      <td>Westchester County</td>\n",
              "      <td>967506</td>\n",
              "      <td>1</td>\n",
              "      <td>2.517</td>\n",
              "      <td>38</td>\n",
              "      <td>-28.0</td>\n",
              "      <td>-16.0</td>\n",
              "      <td>50.0</td>\n",
              "      <td>-38.0</td>\n",
              "      <td>-24.0</td>\n",
              "      <td>10.0</td>\n",
              "      <td>687</td>\n",
              "      <td>27</td>\n",
              "    </tr>\n",
              "    <tr>\n",
              "      <th>17166</th>\n",
              "      <td>2021-01-03</td>\n",
              "      <td>New York</td>\n",
              "      <td>36119</td>\n",
              "      <td>591</td>\n",
              "      <td>Westchester County</td>\n",
              "      <td>967506</td>\n",
              "      <td>1</td>\n",
              "      <td>0.706</td>\n",
              "      <td>10</td>\n",
              "      <td>-37.0</td>\n",
              "      <td>-25.0</td>\n",
              "      <td>-20.0</td>\n",
              "      <td>-51.0</td>\n",
              "      <td>-26.0</td>\n",
              "      <td>11.0</td>\n",
              "      <td>521</td>\n",
              "      <td>27</td>\n",
              "    </tr>\n",
              "    <tr>\n",
              "      <th>17167</th>\n",
              "      <td>2021-01-04</td>\n",
              "      <td>New York</td>\n",
              "      <td>36119</td>\n",
              "      <td>544</td>\n",
              "      <td>Westchester County</td>\n",
              "      <td>967506</td>\n",
              "      <td>1</td>\n",
              "      <td>1.684</td>\n",
              "      <td>25</td>\n",
              "      <td>-23.0</td>\n",
              "      <td>-10.0</td>\n",
              "      <td>1.0</td>\n",
              "      <td>-53.0</td>\n",
              "      <td>-43.0</td>\n",
              "      <td>16.0</td>\n",
              "      <td>499</td>\n",
              "      <td>27</td>\n",
              "    </tr>\n",
              "    <tr>\n",
              "      <th>17168</th>\n",
              "      <td>2021-01-05</td>\n",
              "      <td>New York</td>\n",
              "      <td>36119</td>\n",
              "      <td>619</td>\n",
              "      <td>Westchester County</td>\n",
              "      <td>967506</td>\n",
              "      <td>1</td>\n",
              "      <td>1.512</td>\n",
              "      <td>23</td>\n",
              "      <td>-23.0</td>\n",
              "      <td>-6.0</td>\n",
              "      <td>2.0</td>\n",
              "      <td>-52.0</td>\n",
              "      <td>-42.0</td>\n",
              "      <td>17.0</td>\n",
              "      <td>537</td>\n",
              "      <td>27</td>\n",
              "    </tr>\n",
              "  </tbody>\n",
              "</table>\n",
              "</div>"
            ],
            "text/plain": [
              "               ds Province_State  ...    y  County Name Label\n",
              "17164  2021-01-01       New York  ...  668                 27\n",
              "17165  2021-01-02       New York  ...  687                 27\n",
              "17166  2021-01-03       New York  ...  521                 27\n",
              "17167  2021-01-04       New York  ...  499                 27\n",
              "17168  2021-01-05       New York  ...  537                 27\n",
              "\n",
              "[5 rows x 17 columns]"
            ]
          },
          "metadata": {
            "tags": []
          },
          "execution_count": 10
        }
      ]
    },
    {
      "cell_type": "markdown",
      "metadata": {
        "id": "ZfH7VqBzIdT8"
      },
      "source": [
        "## Nassau County"
      ]
    },
    {
      "cell_type": "code",
      "metadata": {
        "id": "_3M280zeI43B",
        "colab": {
          "base_uri": "https://localhost:8080/",
          "height": 343
        },
        "outputId": "adb173cc-6d13-46b7-c27a-6e8ac4187c81"
      },
      "source": [
        "NY_labeledData_Nassau = NY_labeledData[NY_labeledData['County Name'] == 'Nassau County']\n",
        "NY_labeledData_Nassau = NY_labeledData_Nassau.reset_index(drop=True)\n",
        "NY_labeledData_Nassau.tail()"
      ],
      "execution_count": 11,
      "outputs": [
        {
          "output_type": "execute_result",
          "data": {
            "text/html": [
              "<div>\n",
              "<style scoped>\n",
              "    .dataframe tbody tr th:only-of-type {\n",
              "        vertical-align: middle;\n",
              "    }\n",
              "\n",
              "    .dataframe tbody tr th {\n",
              "        vertical-align: top;\n",
              "    }\n",
              "\n",
              "    .dataframe thead th {\n",
              "        text-align: right;\n",
              "    }\n",
              "</style>\n",
              "<table border=\"1\" class=\"dataframe\">\n",
              "  <thead>\n",
              "    <tr style=\"text-align: right;\">\n",
              "      <th></th>\n",
              "      <th>ds</th>\n",
              "      <th>Province_State</th>\n",
              "      <th>FIPS</th>\n",
              "      <th>New cases</th>\n",
              "      <th>County Name</th>\n",
              "      <th>population</th>\n",
              "      <th>mask_rule_active</th>\n",
              "      <th>m50</th>\n",
              "      <th>m50_index</th>\n",
              "      <th>retail_and_recreation_percent_change_from_baseline</th>\n",
              "      <th>grocery_and_pharmacy_percent_change_from_baseline</th>\n",
              "      <th>parks_percent_change_from_baseline</th>\n",
              "      <th>transit_stations_percent_change_from_baseline</th>\n",
              "      <th>workplaces_percent_change_from_baseline</th>\n",
              "      <th>residential_percent_change_from_baseline</th>\n",
              "      <th>y</th>\n",
              "      <th>County Name Label</th>\n",
              "    </tr>\n",
              "  </thead>\n",
              "  <tbody>\n",
              "    <tr>\n",
              "      <th>272</th>\n",
              "      <td>2021-01-01</td>\n",
              "      <td>New York</td>\n",
              "      <td>36059</td>\n",
              "      <td>1556</td>\n",
              "      <td>Nassau County</td>\n",
              "      <td>1356924</td>\n",
              "      <td>1</td>\n",
              "      <td>1.135</td>\n",
              "      <td>16</td>\n",
              "      <td>-55.0</td>\n",
              "      <td>-44.0</td>\n",
              "      <td>-6.0</td>\n",
              "      <td>-81.0</td>\n",
              "      <td>-79.0</td>\n",
              "      <td>32.0</td>\n",
              "      <td>791</td>\n",
              "      <td>7</td>\n",
              "    </tr>\n",
              "    <tr>\n",
              "      <th>273</th>\n",
              "      <td>2021-01-02</td>\n",
              "      <td>New York</td>\n",
              "      <td>36059</td>\n",
              "      <td>1409</td>\n",
              "      <td>Nassau County</td>\n",
              "      <td>1356924</td>\n",
              "      <td>1</td>\n",
              "      <td>2.359</td>\n",
              "      <td>33</td>\n",
              "      <td>-26.0</td>\n",
              "      <td>-16.0</td>\n",
              "      <td>59.0</td>\n",
              "      <td>-49.0</td>\n",
              "      <td>-23.0</td>\n",
              "      <td>10.0</td>\n",
              "      <td>775</td>\n",
              "      <td>7</td>\n",
              "    </tr>\n",
              "    <tr>\n",
              "      <th>274</th>\n",
              "      <td>2021-01-03</td>\n",
              "      <td>New York</td>\n",
              "      <td>36059</td>\n",
              "      <td>1166</td>\n",
              "      <td>Nassau County</td>\n",
              "      <td>1356924</td>\n",
              "      <td>1</td>\n",
              "      <td>0.976</td>\n",
              "      <td>14</td>\n",
              "      <td>-36.0</td>\n",
              "      <td>-29.0</td>\n",
              "      <td>-48.0</td>\n",
              "      <td>-58.0</td>\n",
              "      <td>-22.0</td>\n",
              "      <td>11.0</td>\n",
              "      <td>729</td>\n",
              "      <td>7</td>\n",
              "    </tr>\n",
              "    <tr>\n",
              "      <th>275</th>\n",
              "      <td>2021-01-04</td>\n",
              "      <td>New York</td>\n",
              "      <td>36059</td>\n",
              "      <td>1071</td>\n",
              "      <td>Nassau County</td>\n",
              "      <td>1356924</td>\n",
              "      <td>1</td>\n",
              "      <td>1.966</td>\n",
              "      <td>28</td>\n",
              "      <td>-23.0</td>\n",
              "      <td>-14.0</td>\n",
              "      <td>8.0</td>\n",
              "      <td>-56.0</td>\n",
              "      <td>-41.0</td>\n",
              "      <td>16.0</td>\n",
              "      <td>709</td>\n",
              "      <td>7</td>\n",
              "    </tr>\n",
              "    <tr>\n",
              "      <th>276</th>\n",
              "      <td>2021-01-05</td>\n",
              "      <td>New York</td>\n",
              "      <td>36059</td>\n",
              "      <td>1273</td>\n",
              "      <td>Nassau County</td>\n",
              "      <td>1356924</td>\n",
              "      <td>1</td>\n",
              "      <td>1.876</td>\n",
              "      <td>26</td>\n",
              "      <td>-22.0</td>\n",
              "      <td>-12.0</td>\n",
              "      <td>-1.0</td>\n",
              "      <td>-55.0</td>\n",
              "      <td>-40.0</td>\n",
              "      <td>16.0</td>\n",
              "      <td>756</td>\n",
              "      <td>7</td>\n",
              "    </tr>\n",
              "  </tbody>\n",
              "</table>\n",
              "</div>"
            ],
            "text/plain": [
              "             ds Province_State  ...    y  County Name Label\n",
              "272  2021-01-01       New York  ...  791                  7\n",
              "273  2021-01-02       New York  ...  775                  7\n",
              "274  2021-01-03       New York  ...  729                  7\n",
              "275  2021-01-04       New York  ...  709                  7\n",
              "276  2021-01-05       New York  ...  756                  7\n",
              "\n",
              "[5 rows x 17 columns]"
            ]
          },
          "metadata": {
            "tags": []
          },
          "execution_count": 11
        }
      ]
    },
    {
      "cell_type": "code",
      "metadata": {
        "id": "CRRcQZadk_ku",
        "colab": {
          "base_uri": "https://localhost:8080/",
          "height": 343
        },
        "outputId": "5ed96ab3-6132-4d2f-c893-e82a6ace25c3"
      },
      "source": [
        "NY_labeledData_Nassau.head()"
      ],
      "execution_count": 12,
      "outputs": [
        {
          "output_type": "execute_result",
          "data": {
            "text/html": [
              "<div>\n",
              "<style scoped>\n",
              "    .dataframe tbody tr th:only-of-type {\n",
              "        vertical-align: middle;\n",
              "    }\n",
              "\n",
              "    .dataframe tbody tr th {\n",
              "        vertical-align: top;\n",
              "    }\n",
              "\n",
              "    .dataframe thead th {\n",
              "        text-align: right;\n",
              "    }\n",
              "</style>\n",
              "<table border=\"1\" class=\"dataframe\">\n",
              "  <thead>\n",
              "    <tr style=\"text-align: right;\">\n",
              "      <th></th>\n",
              "      <th>ds</th>\n",
              "      <th>Province_State</th>\n",
              "      <th>FIPS</th>\n",
              "      <th>New cases</th>\n",
              "      <th>County Name</th>\n",
              "      <th>population</th>\n",
              "      <th>mask_rule_active</th>\n",
              "      <th>m50</th>\n",
              "      <th>m50_index</th>\n",
              "      <th>retail_and_recreation_percent_change_from_baseline</th>\n",
              "      <th>grocery_and_pharmacy_percent_change_from_baseline</th>\n",
              "      <th>parks_percent_change_from_baseline</th>\n",
              "      <th>transit_stations_percent_change_from_baseline</th>\n",
              "      <th>workplaces_percent_change_from_baseline</th>\n",
              "      <th>residential_percent_change_from_baseline</th>\n",
              "      <th>y</th>\n",
              "      <th>County Name Label</th>\n",
              "    </tr>\n",
              "  </thead>\n",
              "  <tbody>\n",
              "    <tr>\n",
              "      <th>0</th>\n",
              "      <td>2020-03-01</td>\n",
              "      <td>New York</td>\n",
              "      <td>36059</td>\n",
              "      <td>0</td>\n",
              "      <td>Nassau County</td>\n",
              "      <td>1356924</td>\n",
              "      <td>0</td>\n",
              "      <td>3.966</td>\n",
              "      <td>56</td>\n",
              "      <td>6.0</td>\n",
              "      <td>4.0</td>\n",
              "      <td>-10.0</td>\n",
              "      <td>-2.0</td>\n",
              "      <td>2.0</td>\n",
              "      <td>0.0</td>\n",
              "      <td>9</td>\n",
              "      <td>7</td>\n",
              "    </tr>\n",
              "    <tr>\n",
              "      <th>1</th>\n",
              "      <td>2020-03-02</td>\n",
              "      <td>New York</td>\n",
              "      <td>36059</td>\n",
              "      <td>0</td>\n",
              "      <td>Nassau County</td>\n",
              "      <td>1356924</td>\n",
              "      <td>0</td>\n",
              "      <td>6.879</td>\n",
              "      <td>98</td>\n",
              "      <td>4.0</td>\n",
              "      <td>5.0</td>\n",
              "      <td>26.0</td>\n",
              "      <td>-6.0</td>\n",
              "      <td>4.0</td>\n",
              "      <td>-1.0</td>\n",
              "      <td>9</td>\n",
              "      <td>7</td>\n",
              "    </tr>\n",
              "    <tr>\n",
              "      <th>2</th>\n",
              "      <td>2020-03-03</td>\n",
              "      <td>New York</td>\n",
              "      <td>36059</td>\n",
              "      <td>0</td>\n",
              "      <td>Nassau County</td>\n",
              "      <td>1356924</td>\n",
              "      <td>0</td>\n",
              "      <td>6.907</td>\n",
              "      <td>99</td>\n",
              "      <td>5.0</td>\n",
              "      <td>3.0</td>\n",
              "      <td>3.0</td>\n",
              "      <td>-3.0</td>\n",
              "      <td>3.0</td>\n",
              "      <td>0.0</td>\n",
              "      <td>9</td>\n",
              "      <td>7</td>\n",
              "    </tr>\n",
              "    <tr>\n",
              "      <th>3</th>\n",
              "      <td>2020-03-04</td>\n",
              "      <td>New York</td>\n",
              "      <td>36059</td>\n",
              "      <td>0</td>\n",
              "      <td>Nassau County</td>\n",
              "      <td>1356924</td>\n",
              "      <td>0</td>\n",
              "      <td>6.961</td>\n",
              "      <td>100</td>\n",
              "      <td>6.0</td>\n",
              "      <td>7.0</td>\n",
              "      <td>20.0</td>\n",
              "      <td>-5.0</td>\n",
              "      <td>3.0</td>\n",
              "      <td>-1.0</td>\n",
              "      <td>9</td>\n",
              "      <td>7</td>\n",
              "    </tr>\n",
              "    <tr>\n",
              "      <th>4</th>\n",
              "      <td>2020-03-05</td>\n",
              "      <td>New York</td>\n",
              "      <td>36059</td>\n",
              "      <td>1</td>\n",
              "      <td>Nassau County</td>\n",
              "      <td>1356924</td>\n",
              "      <td>0</td>\n",
              "      <td>7.216</td>\n",
              "      <td>103</td>\n",
              "      <td>5.0</td>\n",
              "      <td>7.0</td>\n",
              "      <td>25.0</td>\n",
              "      <td>-2.0</td>\n",
              "      <td>4.0</td>\n",
              "      <td>0.0</td>\n",
              "      <td>10</td>\n",
              "      <td>7</td>\n",
              "    </tr>\n",
              "  </tbody>\n",
              "</table>\n",
              "</div>"
            ],
            "text/plain": [
              "           ds Province_State  ...   y  County Name Label\n",
              "0  2020-03-01       New York  ...   9                  7\n",
              "1  2020-03-02       New York  ...   9                  7\n",
              "2  2020-03-03       New York  ...   9                  7\n",
              "3  2020-03-04       New York  ...   9                  7\n",
              "4  2020-03-05       New York  ...  10                  7\n",
              "\n",
              "[5 rows x 17 columns]"
            ]
          },
          "metadata": {
            "tags": []
          },
          "execution_count": 12
        }
      ]
    },
    {
      "cell_type": "code",
      "metadata": {
        "id": "qbzIAjiMJSt0"
      },
      "source": [
        "train_Nassau, test_Nassau = train_test_split(NY_labeledData_Nassau, test_size=0.2, shuffle=False)"
      ],
      "execution_count": 13,
      "outputs": []
    },
    {
      "cell_type": "code",
      "metadata": {
        "id": "4uAtQ6PcJ3O7"
      },
      "source": [
        "m = Prophet()"
      ],
      "execution_count": 14,
      "outputs": []
    },
    {
      "cell_type": "code",
      "metadata": {
        "id": "W3201HUEJ3O-",
        "colab": {
          "base_uri": "https://localhost:8080/"
        },
        "outputId": "8a4408b9-ccfb-4217-a409-e6e565655bbd"
      },
      "source": [
        "#m.add_regressor('County Name Label')\n",
        "m.add_regressor('population')\n",
        "m.add_regressor('mask_rule_active')\n",
        "#m.add_regressor('m50')\n",
        "m.add_regressor('m50_index')\n",
        "m.add_regressor('retail_and_recreation_percent_change_from_baseline')\n",
        "m.add_regressor('grocery_and_pharmacy_percent_change_from_baseline')\n",
        "m.add_regressor('parks_percent_change_from_baseline')\n",
        "m.add_regressor('transit_stations_percent_change_from_baseline')\n",
        "m.add_regressor('workplaces_percent_change_from_baseline')\n",
        "m.add_regressor('residential_percent_change_from_baseline')"
      ],
      "execution_count": 15,
      "outputs": [
        {
          "output_type": "execute_result",
          "data": {
            "text/plain": [
              "<fbprophet.forecaster.Prophet at 0x7f913dcc3828>"
            ]
          },
          "metadata": {
            "tags": []
          },
          "execution_count": 15
        }
      ]
    },
    {
      "cell_type": "code",
      "metadata": {
        "id": "3pFkC_p4J3PB",
        "colab": {
          "base_uri": "https://localhost:8080/"
        },
        "outputId": "9a5c288f-817f-4a32-c433-bcb585fb1c96"
      },
      "source": [
        "m.fit(train_Nassau)"
      ],
      "execution_count": 16,
      "outputs": [
        {
          "output_type": "stream",
          "text": [
            "INFO:fbprophet:Disabling yearly seasonality. Run prophet with yearly_seasonality=True to override this.\n",
            "INFO:fbprophet:Disabling daily seasonality. Run prophet with daily_seasonality=True to override this.\n",
            "WARNING:fbprophet.models:Optimization terminated abnormally. Falling back to Newton.\n"
          ],
          "name": "stderr"
        },
        {
          "output_type": "execute_result",
          "data": {
            "text/plain": [
              "<fbprophet.forecaster.Prophet at 0x7f913dcc3828>"
            ]
          },
          "metadata": {
            "tags": []
          },
          "execution_count": 16
        }
      ]
    },
    {
      "cell_type": "code",
      "metadata": {
        "id": "jpEfwKvcJ3PG",
        "colab": {
          "base_uri": "https://localhost:8080/",
          "height": 204
        },
        "outputId": "3e5c8b1e-2786-4c65-9f29-706a161d7306"
      },
      "source": [
        "future = m.make_future_dataframe(periods=56)\n",
        "future.tail()"
      ],
      "execution_count": 17,
      "outputs": [
        {
          "output_type": "execute_result",
          "data": {
            "text/html": [
              "<div>\n",
              "<style scoped>\n",
              "    .dataframe tbody tr th:only-of-type {\n",
              "        vertical-align: middle;\n",
              "    }\n",
              "\n",
              "    .dataframe tbody tr th {\n",
              "        vertical-align: top;\n",
              "    }\n",
              "\n",
              "    .dataframe thead th {\n",
              "        text-align: right;\n",
              "    }\n",
              "</style>\n",
              "<table border=\"1\" class=\"dataframe\">\n",
              "  <thead>\n",
              "    <tr style=\"text-align: right;\">\n",
              "      <th></th>\n",
              "      <th>ds</th>\n",
              "    </tr>\n",
              "  </thead>\n",
              "  <tbody>\n",
              "    <tr>\n",
              "      <th>272</th>\n",
              "      <td>2020-12-24</td>\n",
              "    </tr>\n",
              "    <tr>\n",
              "      <th>273</th>\n",
              "      <td>2020-12-25</td>\n",
              "    </tr>\n",
              "    <tr>\n",
              "      <th>274</th>\n",
              "      <td>2020-12-26</td>\n",
              "    </tr>\n",
              "    <tr>\n",
              "      <th>275</th>\n",
              "      <td>2020-12-27</td>\n",
              "    </tr>\n",
              "    <tr>\n",
              "      <th>276</th>\n",
              "      <td>2020-12-28</td>\n",
              "    </tr>\n",
              "  </tbody>\n",
              "</table>\n",
              "</div>"
            ],
            "text/plain": [
              "            ds\n",
              "272 2020-12-24\n",
              "273 2020-12-25\n",
              "274 2020-12-26\n",
              "275 2020-12-27\n",
              "276 2020-12-28"
            ]
          },
          "metadata": {
            "tags": []
          },
          "execution_count": 17
        }
      ]
    },
    {
      "cell_type": "code",
      "metadata": {
        "id": "c2CNd-o2nWF9",
        "colab": {
          "base_uri": "https://localhost:8080/"
        },
        "outputId": "a4e2cca9-dadf-4d24-e8cf-13f61d8ea892"
      },
      "source": [
        "future.shape"
      ],
      "execution_count": 18,
      "outputs": [
        {
          "output_type": "execute_result",
          "data": {
            "text/plain": [
              "(277, 1)"
            ]
          },
          "metadata": {
            "tags": []
          },
          "execution_count": 18
        }
      ]
    },
    {
      "cell_type": "code",
      "metadata": {
        "id": "KU821BCbnYlp",
        "colab": {
          "base_uri": "https://localhost:8080/"
        },
        "outputId": "b07b7ee6-3117-41f7-cbb2-e528c16d9c50"
      },
      "source": [
        "train_Nassau.shape"
      ],
      "execution_count": 19,
      "outputs": [
        {
          "output_type": "execute_result",
          "data": {
            "text/plain": [
              "(221, 17)"
            ]
          },
          "metadata": {
            "tags": []
          },
          "execution_count": 19
        }
      ]
    },
    {
      "cell_type": "code",
      "metadata": {
        "id": "ED03anLinhe5",
        "colab": {
          "base_uri": "https://localhost:8080/"
        },
        "outputId": "b811c7c6-135a-4872-fda5-013c76ddb52a"
      },
      "source": [
        "test_Nassau.shape"
      ],
      "execution_count": 20,
      "outputs": [
        {
          "output_type": "execute_result",
          "data": {
            "text/plain": [
              "(56, 17)"
            ]
          },
          "metadata": {
            "tags": []
          },
          "execution_count": 20
        }
      ]
    },
    {
      "cell_type": "code",
      "metadata": {
        "id": "bRkQFKOxnvNU",
        "colab": {
          "base_uri": "https://localhost:8080/"
        },
        "outputId": "2d34a2c7-74cf-4b96-e4e2-24b9160f94ac"
      },
      "source": [
        "NY_labeledData_Nassau.shape"
      ],
      "execution_count": 21,
      "outputs": [
        {
          "output_type": "execute_result",
          "data": {
            "text/plain": [
              "(277, 17)"
            ]
          },
          "metadata": {
            "tags": []
          },
          "execution_count": 21
        }
      ]
    },
    {
      "cell_type": "code",
      "metadata": {
        "id": "jnNaZMdfDn1R"
      },
      "source": [
        "#future['County Name Label'] = NY_labeledData_Nassau['County Name Label']\n",
        "future['population'] = NY_labeledData_Nassau['population']\n",
        "future['mask_rule_active'] = NY_labeledData_Nassau['mask_rule_active']\n",
        "#future['m50'] = NY_labeledData_Nassau['m50']\n",
        "future['m50_index'] = NY_labeledData_Nassau['m50_index']\n",
        "future['retail_and_recreation_percent_change_from_baseline'] = NY_labeledData_Nassau['retail_and_recreation_percent_change_from_baseline']\n",
        "future['grocery_and_pharmacy_percent_change_from_baseline'] = NY_labeledData_Nassau['grocery_and_pharmacy_percent_change_from_baseline']\n",
        "future['parks_percent_change_from_baseline'] = NY_labeledData_Nassau['parks_percent_change_from_baseline']\n",
        "future['transit_stations_percent_change_from_baseline'] = NY_labeledData_Nassau['transit_stations_percent_change_from_baseline']\n",
        "future['workplaces_percent_change_from_baseline'] = NY_labeledData_Nassau['workplaces_percent_change_from_baseline']\n",
        "future['residential_percent_change_from_baseline'] = NY_labeledData_Nassau['residential_percent_change_from_baseline']"
      ],
      "execution_count": 22,
      "outputs": []
    },
    {
      "cell_type": "code",
      "metadata": {
        "id": "itmYT0fEJ3PM",
        "colab": {
          "base_uri": "https://localhost:8080/",
          "height": 309
        },
        "outputId": "c8ed2d5d-3bc8-4d29-a0ee-101168c76101"
      },
      "source": [
        "forecast = m.predict(future)\n",
        "forecast.tail()"
      ],
      "execution_count": 23,
      "outputs": [
        {
          "output_type": "execute_result",
          "data": {
            "text/html": [
              "<div>\n",
              "<style scoped>\n",
              "    .dataframe tbody tr th:only-of-type {\n",
              "        vertical-align: middle;\n",
              "    }\n",
              "\n",
              "    .dataframe tbody tr th {\n",
              "        vertical-align: top;\n",
              "    }\n",
              "\n",
              "    .dataframe thead th {\n",
              "        text-align: right;\n",
              "    }\n",
              "</style>\n",
              "<table border=\"1\" class=\"dataframe\">\n",
              "  <thead>\n",
              "    <tr style=\"text-align: right;\">\n",
              "      <th></th>\n",
              "      <th>ds</th>\n",
              "      <th>trend</th>\n",
              "      <th>yhat_lower</th>\n",
              "      <th>yhat_upper</th>\n",
              "      <th>trend_lower</th>\n",
              "      <th>trend_upper</th>\n",
              "      <th>additive_terms</th>\n",
              "      <th>additive_terms_lower</th>\n",
              "      <th>additive_terms_upper</th>\n",
              "      <th>extra_regressors_additive</th>\n",
              "      <th>extra_regressors_additive_lower</th>\n",
              "      <th>extra_regressors_additive_upper</th>\n",
              "      <th>grocery_and_pharmacy_percent_change_from_baseline</th>\n",
              "      <th>grocery_and_pharmacy_percent_change_from_baseline_lower</th>\n",
              "      <th>grocery_and_pharmacy_percent_change_from_baseline_upper</th>\n",
              "      <th>m50_index</th>\n",
              "      <th>m50_index_lower</th>\n",
              "      <th>m50_index_upper</th>\n",
              "      <th>mask_rule_active</th>\n",
              "      <th>mask_rule_active_lower</th>\n",
              "      <th>mask_rule_active_upper</th>\n",
              "      <th>parks_percent_change_from_baseline</th>\n",
              "      <th>parks_percent_change_from_baseline_lower</th>\n",
              "      <th>parks_percent_change_from_baseline_upper</th>\n",
              "      <th>population</th>\n",
              "      <th>population_lower</th>\n",
              "      <th>population_upper</th>\n",
              "      <th>residential_percent_change_from_baseline</th>\n",
              "      <th>residential_percent_change_from_baseline_lower</th>\n",
              "      <th>residential_percent_change_from_baseline_upper</th>\n",
              "      <th>retail_and_recreation_percent_change_from_baseline</th>\n",
              "      <th>retail_and_recreation_percent_change_from_baseline_lower</th>\n",
              "      <th>retail_and_recreation_percent_change_from_baseline_upper</th>\n",
              "      <th>transit_stations_percent_change_from_baseline</th>\n",
              "      <th>transit_stations_percent_change_from_baseline_lower</th>\n",
              "      <th>transit_stations_percent_change_from_baseline_upper</th>\n",
              "      <th>weekly</th>\n",
              "      <th>weekly_lower</th>\n",
              "      <th>weekly_upper</th>\n",
              "      <th>workplaces_percent_change_from_baseline</th>\n",
              "      <th>workplaces_percent_change_from_baseline_lower</th>\n",
              "      <th>workplaces_percent_change_from_baseline_upper</th>\n",
              "      <th>multiplicative_terms</th>\n",
              "      <th>multiplicative_terms_lower</th>\n",
              "      <th>multiplicative_terms_upper</th>\n",
              "      <th>yhat</th>\n",
              "    </tr>\n",
              "  </thead>\n",
              "  <tbody>\n",
              "    <tr>\n",
              "      <th>272</th>\n",
              "      <td>2020-12-24</td>\n",
              "      <td>103.516966</td>\n",
              "      <td>691.941819</td>\n",
              "      <td>884.935338</td>\n",
              "      <td>91.202558</td>\n",
              "      <td>114.611039</td>\n",
              "      <td>688.958075</td>\n",
              "      <td>688.958075</td>\n",
              "      <td>688.958075</td>\n",
              "      <td>746.466045</td>\n",
              "      <td>746.466045</td>\n",
              "      <td>746.466045</td>\n",
              "      <td>95.567951</td>\n",
              "      <td>95.567951</td>\n",
              "      <td>95.567951</td>\n",
              "      <td>-68.421159</td>\n",
              "      <td>-68.421159</td>\n",
              "      <td>-68.421159</td>\n",
              "      <td>-200.354741</td>\n",
              "      <td>-200.354741</td>\n",
              "      <td>-200.354741</td>\n",
              "      <td>-12.221767</td>\n",
              "      <td>-12.221767</td>\n",
              "      <td>-12.221767</td>\n",
              "      <td>381.547289</td>\n",
              "      <td>381.547289</td>\n",
              "      <td>381.547289</td>\n",
              "      <td>203.405827</td>\n",
              "      <td>203.405827</td>\n",
              "      <td>203.405827</td>\n",
              "      <td>114.240428</td>\n",
              "      <td>114.240428</td>\n",
              "      <td>114.240428</td>\n",
              "      <td>-4.594577</td>\n",
              "      <td>-4.594577</td>\n",
              "      <td>-4.594577</td>\n",
              "      <td>-57.507970</td>\n",
              "      <td>-57.507970</td>\n",
              "      <td>-57.507970</td>\n",
              "      <td>237.296795</td>\n",
              "      <td>237.296795</td>\n",
              "      <td>237.296795</td>\n",
              "      <td>0.0</td>\n",
              "      <td>0.0</td>\n",
              "      <td>0.0</td>\n",
              "      <td>792.475041</td>\n",
              "    </tr>\n",
              "    <tr>\n",
              "      <th>273</th>\n",
              "      <td>2020-12-25</td>\n",
              "      <td>104.623533</td>\n",
              "      <td>-30.919425</td>\n",
              "      <td>157.089164</td>\n",
              "      <td>92.075444</td>\n",
              "      <td>115.935080</td>\n",
              "      <td>-38.881108</td>\n",
              "      <td>-38.881108</td>\n",
              "      <td>-38.881108</td>\n",
              "      <td>35.421300</td>\n",
              "      <td>35.421300</td>\n",
              "      <td>35.421300</td>\n",
              "      <td>21.153143</td>\n",
              "      <td>21.153143</td>\n",
              "      <td>21.153143</td>\n",
              "      <td>5.045058</td>\n",
              "      <td>5.045058</td>\n",
              "      <td>5.045058</td>\n",
              "      <td>-200.354741</td>\n",
              "      <td>-200.354741</td>\n",
              "      <td>-200.354741</td>\n",
              "      <td>-4.632691</td>\n",
              "      <td>-4.632691</td>\n",
              "      <td>-4.632691</td>\n",
              "      <td>381.547289</td>\n",
              "      <td>381.547289</td>\n",
              "      <td>381.547289</td>\n",
              "      <td>-61.375734</td>\n",
              "      <td>-61.375734</td>\n",
              "      <td>-61.375734</td>\n",
              "      <td>-20.250186</td>\n",
              "      <td>-20.250186</td>\n",
              "      <td>-20.250186</td>\n",
              "      <td>-0.354905</td>\n",
              "      <td>-0.354905</td>\n",
              "      <td>-0.354905</td>\n",
              "      <td>-74.302407</td>\n",
              "      <td>-74.302407</td>\n",
              "      <td>-74.302407</td>\n",
              "      <td>-85.355933</td>\n",
              "      <td>-85.355933</td>\n",
              "      <td>-85.355933</td>\n",
              "      <td>0.0</td>\n",
              "      <td>0.0</td>\n",
              "      <td>0.0</td>\n",
              "      <td>65.742426</td>\n",
              "    </tr>\n",
              "    <tr>\n",
              "      <th>274</th>\n",
              "      <td>2020-12-26</td>\n",
              "      <td>105.730101</td>\n",
              "      <td>219.825878</td>\n",
              "      <td>410.870983</td>\n",
              "      <td>92.881377</td>\n",
              "      <td>117.321359</td>\n",
              "      <td>205.985187</td>\n",
              "      <td>205.985187</td>\n",
              "      <td>205.985187</td>\n",
              "      <td>26.826480</td>\n",
              "      <td>26.826480</td>\n",
              "      <td>26.826480</td>\n",
              "      <td>55.702875</td>\n",
              "      <td>55.702875</td>\n",
              "      <td>55.702875</td>\n",
              "      <td>-77.064243</td>\n",
              "      <td>-77.064243</td>\n",
              "      <td>-77.064243</td>\n",
              "      <td>-200.354741</td>\n",
              "      <td>-200.354741</td>\n",
              "      <td>-200.354741</td>\n",
              "      <td>-17.125478</td>\n",
              "      <td>-17.125478</td>\n",
              "      <td>-17.125478</td>\n",
              "      <td>381.547289</td>\n",
              "      <td>381.547289</td>\n",
              "      <td>381.547289</td>\n",
              "      <td>-49.340209</td>\n",
              "      <td>-49.340209</td>\n",
              "      <td>-49.340209</td>\n",
              "      <td>26.125888</td>\n",
              "      <td>26.125888</td>\n",
              "      <td>26.125888</td>\n",
              "      <td>-1.547313</td>\n",
              "      <td>-1.547313</td>\n",
              "      <td>-1.547313</td>\n",
              "      <td>179.158707</td>\n",
              "      <td>179.158707</td>\n",
              "      <td>179.158707</td>\n",
              "      <td>-91.117589</td>\n",
              "      <td>-91.117589</td>\n",
              "      <td>-91.117589</td>\n",
              "      <td>0.0</td>\n",
              "      <td>0.0</td>\n",
              "      <td>0.0</td>\n",
              "      <td>311.715287</td>\n",
              "    </tr>\n",
              "    <tr>\n",
              "      <th>275</th>\n",
              "      <td>2020-12-27</td>\n",
              "      <td>106.836668</td>\n",
              "      <td>354.969184</td>\n",
              "      <td>548.681323</td>\n",
              "      <td>93.541931</td>\n",
              "      <td>118.691377</td>\n",
              "      <td>347.393303</td>\n",
              "      <td>347.393303</td>\n",
              "      <td>347.393303</td>\n",
              "      <td>163.626447</td>\n",
              "      <td>163.626447</td>\n",
              "      <td>163.626447</td>\n",
              "      <td>15.837799</td>\n",
              "      <td>15.837799</td>\n",
              "      <td>15.837799</td>\n",
              "      <td>-16.562653</td>\n",
              "      <td>-16.562653</td>\n",
              "      <td>-16.562653</td>\n",
              "      <td>-200.354741</td>\n",
              "      <td>-200.354741</td>\n",
              "      <td>-200.354741</td>\n",
              "      <td>-10.587197</td>\n",
              "      <td>-10.587197</td>\n",
              "      <td>-10.587197</td>\n",
              "      <td>381.547289</td>\n",
              "      <td>381.547289</td>\n",
              "      <td>381.547289</td>\n",
              "      <td>10.837419</td>\n",
              "      <td>10.837419</td>\n",
              "      <td>10.837419</td>\n",
              "      <td>-34.163008</td>\n",
              "      <td>-34.163008</td>\n",
              "      <td>-34.163008</td>\n",
              "      <td>-1.282333</td>\n",
              "      <td>-1.282333</td>\n",
              "      <td>-1.282333</td>\n",
              "      <td>183.766855</td>\n",
              "      <td>183.766855</td>\n",
              "      <td>183.766855</td>\n",
              "      <td>18.353872</td>\n",
              "      <td>18.353872</td>\n",
              "      <td>18.353872</td>\n",
              "      <td>0.0</td>\n",
              "      <td>0.0</td>\n",
              "      <td>0.0</td>\n",
              "      <td>454.229971</td>\n",
              "    </tr>\n",
              "    <tr>\n",
              "      <th>276</th>\n",
              "      <td>2020-12-28</td>\n",
              "      <td>107.943235</td>\n",
              "      <td>62.974287</td>\n",
              "      <td>249.427784</td>\n",
              "      <td>94.247891</td>\n",
              "      <td>120.118231</td>\n",
              "      <td>44.889724</td>\n",
              "      <td>44.889724</td>\n",
              "      <td>44.889724</td>\n",
              "      <td>138.350451</td>\n",
              "      <td>138.350451</td>\n",
              "      <td>138.350451</td>\n",
              "      <td>10.522456</td>\n",
              "      <td>10.522456</td>\n",
              "      <td>10.522456</td>\n",
              "      <td>-25.205737</td>\n",
              "      <td>-25.205737</td>\n",
              "      <td>-25.205737</td>\n",
              "      <td>-200.354741</td>\n",
              "      <td>-200.354741</td>\n",
              "      <td>-200.354741</td>\n",
              "      <td>-11.637992</td>\n",
              "      <td>-11.637992</td>\n",
              "      <td>-11.637992</td>\n",
              "      <td>381.547289</td>\n",
              "      <td>381.547289</td>\n",
              "      <td>381.547289</td>\n",
              "      <td>10.837419</td>\n",
              "      <td>10.837419</td>\n",
              "      <td>10.837419</td>\n",
              "      <td>-38.800616</td>\n",
              "      <td>-38.800616</td>\n",
              "      <td>-38.800616</td>\n",
              "      <td>-1.149843</td>\n",
              "      <td>-1.149843</td>\n",
              "      <td>-1.149843</td>\n",
              "      <td>-93.460728</td>\n",
              "      <td>-93.460728</td>\n",
              "      <td>-93.460728</td>\n",
              "      <td>12.592216</td>\n",
              "      <td>12.592216</td>\n",
              "      <td>12.592216</td>\n",
              "      <td>0.0</td>\n",
              "      <td>0.0</td>\n",
              "      <td>0.0</td>\n",
              "      <td>152.832958</td>\n",
              "    </tr>\n",
              "  </tbody>\n",
              "</table>\n",
              "</div>"
            ],
            "text/plain": [
              "            ds       trend  ...  multiplicative_terms_upper        yhat\n",
              "272 2020-12-24  103.516966  ...                         0.0  792.475041\n",
              "273 2020-12-25  104.623533  ...                         0.0   65.742426\n",
              "274 2020-12-26  105.730101  ...                         0.0  311.715287\n",
              "275 2020-12-27  106.836668  ...                         0.0  454.229971\n",
              "276 2020-12-28  107.943235  ...                         0.0  152.832958\n",
              "\n",
              "[5 rows x 46 columns]"
            ]
          },
          "metadata": {
            "tags": []
          },
          "execution_count": 23
        }
      ]
    },
    {
      "cell_type": "code",
      "metadata": {
        "id": "1oTKWtylJ3PP",
        "colab": {
          "base_uri": "https://localhost:8080/",
          "height": 441
        },
        "outputId": "67b5b396-152e-4af8-f863-600891e80c90"
      },
      "source": [
        "fig1 = m.plot(forecast)"
      ],
      "execution_count": 24,
      "outputs": [
        {
          "output_type": "display_data",
          "data": {
            "image/png": "[encoded data removed]",
            "text/plain": [
              "<Figure size 720x432 with 1 Axes>"
            ]
          },
          "metadata": {
            "tags": []
          }
        }
      ]
    },
    {
      "cell_type": "code",
      "metadata": {
        "id": "VhtJDc_jJ3PR",
        "colab": {
          "base_uri": "https://localhost:8080/",
          "height": 657
        },
        "outputId": "30e7c236-ce29-4962-e6ff-cae974598fdc"
      },
      "source": [
        "fig2 = m.plot_components(forecast)"
      ],
      "execution_count": 25,
      "outputs": [
        {
          "output_type": "display_data",
          "data": {
            "image/png": "[encoded data removed]",
            "text/plain": [
              "<Figure size 648x648 with 3 Axes>"
            ]
          },
          "metadata": {
            "tags": []
          }
        }
      ]
    },
    {
      "cell_type": "code",
      "metadata": {
        "id": "xSQkxYFWJ3PV",
        "colab": {
          "base_uri": "https://localhost:8080/",
          "height": 617
        },
        "outputId": "d43e4081-f553-4f6c-c795-2f760f5d2ff5"
      },
      "source": [
        "plot_components_plotly(m, forecast)"
      ],
      "execution_count": 26,
      "outputs": [
        {
          "output_type": "display_data",
          "data": {
            "text/html": [
              "<html>\n",
              "<head><meta charset=\"utf-8\" /></head>\n",
              "<body>\n",
              "    <div>\n",
              "            <script src=\"https://cdnjs.cloudflare.com/ajax/libs/mathjax/2.7.5/MathJax.js?config=TeX-AMS-MML_SVG\"></script><script type=\"text/javascript\">if (window.MathJax) {MathJax.Hub.Config({SVG: {font: \"STIX-Web\"}});}</script>\n",
              "                <script type=\"text/javascript\">window.PlotlyConfig = {MathJaxConfig: 'local'};</script>\n",
              "        <script src=\"https://cdn.plot.ly/plotly-latest.min.js\"></script>    \n",
              "            <div id=\"09bde5b8-93e9-4fff-8289-f1cf42755cba\" class=\"plotly-graph-div\" style=\"height:600px; width:900px;\"></div>\n",
              "            <script type=\"text/javascript\">\n",
              "                \n",
              "                    window.PLOTLYENV=window.PLOTLYENV || {};\n",
              "                    \n",
              "                if (document.getElementById(\"09bde5b8-93e9-4fff-8289-f1cf42755cba\")) {\n",
              "                    Plotly.newPlot(\n",
              "                        '09bde5b8-93e9-4fff-8289-f1cf42755cba',\n",
              "                        [{\"line\": {\"color\": \"#0072B2\", \"width\": 2}, \"mode\": \"lines\", \"name\": \"trend\", \"type\": \"scatter\", \"x\": [\"2020-03-01T00:00:00\", \"2020-03-02T00:00:00\", \"2020-03-03T00:00:00\", \"2020-03-04T00:00:00\", \"2020-03-05T00:00:00\", \"2020-03-06T00:00:00\", \"2020-03-07T00:00:00\", \"2020-03-08T00:00:00\", \"2020-03-09T00:00:00\", \"2020-03-10T00:00:00\", \"2020-03-11T00:00:00\", \"2020-03-12T00:00:00\", \"2020-03-13T00:00:00\", \"2020-03-14T00:00:00\", \"2020-03-15T00:00:00\", \"2020-03-16T00:00:00\", \"2020-03-17T00:00:00\", \"2020-03-18T00:00:00\", \"2020-03-19T00:00:00\", \"2020-03-20T00:00:00\", \"2020-03-21T00:00:00\", \"2020-03-22T00:00:00\", \"2020-03-23T00:00:00\", \"2020-03-24T00:00:00\", \"2020-03-25T00:00:00\", \"2020-03-26T00:00:00\", \"2020-03-27T00:00:00\", \"2020-03-28T00:00:00\", \"2020-03-29T00:00:00\", \"2020-03-30T00:00:00\", \"2020-03-31T00:00:00\", \"2020-04-01T00:00:00\", \"2020-04-02T00:00:00\", \"2020-04-03T00:00:00\", \"2020-04-04T00:00:00\", \"2020-04-05T00:00:00\", \"2020-04-06T00:00:00\", \"2020-04-07T00:00:00\", \"2020-04-08T00:00:00\", \"2020-04-09T00:00:00\", \"2020-04-10T00:00:00\", \"2020-04-11T00:00:00\", \"2020-04-12T00:00:00\", \"2020-04-13T00:00:00\", \"2020-04-14T00:00:00\", \"2020-04-15T00:00:00\", \"2020-04-16T00:00:00\", \"2020-04-17T00:00:00\", \"2020-04-18T00:00:00\", \"2020-04-19T00:00:00\", \"2020-04-21T00:00:00\", \"2020-04-22T00:00:00\", \"2020-04-23T00:00:00\", \"2020-04-24T00:00:00\", \"2020-04-25T00:00:00\", \"2020-04-26T00:00:00\", \"2020-04-27T00:00:00\", \"2020-04-28T00:00:00\", \"2020-04-29T00:00:00\", \"2020-04-30T00:00:00\", \"2020-05-01T00:00:00\", \"2020-05-02T00:00:00\", \"2020-05-03T00:00:00\", \"2020-05-04T00:00:00\", \"2020-05-05T00:00:00\", \"2020-05-06T00:00:00\", \"2020-05-07T00:00:00\", \"2020-05-08T00:00:00\", \"2020-05-09T00:00:00\", \"2020-05-10T00:00:00\", \"2020-05-11T00:00:00\", \"2020-05-12T00:00:00\", \"2020-05-13T00:00:00\", \"2020-05-14T00:00:00\", \"2020-05-15T00:00:00\", \"2020-05-16T00:00:00\", \"2020-05-17T00:00:00\", \"2020-05-18T00:00:00\", \"2020-05-19T00:00:00\", \"2020-05-20T00:00:00\", \"2020-05-21T00:00:00\", \"2020-05-22T00:00:00\", \"2020-05-23T00:00:00\", \"2020-05-24T00:00:00\", \"2020-05-25T00:00:00\", \"2020-05-26T00:00:00\", \"2020-05-27T00:00:00\", \"2020-05-28T00:00:00\", \"2020-05-30T00:00:00\", \"2020-05-31T00:00:00\", \"2020-06-01T00:00:00\", \"2020-06-02T00:00:00\", \"2020-06-03T00:00:00\", \"2020-06-04T00:00:00\", \"2020-06-05T00:00:00\", \"2020-06-06T00:00:00\", \"2020-06-07T00:00:00\", \"2020-06-08T00:00:00\", \"2020-06-09T00:00:00\", \"2020-06-10T00:00:00\", \"2020-06-11T00:00:00\", \"2020-06-12T00:00:00\", \"2020-06-13T00:00:00\", \"2020-06-14T00:00:00\", \"2020-06-15T00:00:00\", \"2020-06-16T00:00:00\", \"2020-06-17T00:00:00\", \"2020-06-18T00:00:00\", \"2020-06-19T00:00:00\", \"2020-06-20T00:00:00\", \"2020-06-21T00:00:00\", \"2020-06-22T00:00:00\", \"2020-06-23T00:00:00\", \"2020-06-24T00:00:00\", \"2020-06-25T00:00:00\", \"2020-06-26T00:00:00\", \"2020-06-27T00:00:00\", \"2020-06-28T00:00:00\", \"2020-06-29T00:00:00\", \"2020-06-30T00:00:00\", \"2020-07-01T00:00:00\", \"2020-07-02T00:00:00\", \"2020-07-03T00:00:00\", \"2020-07-04T00:00:00\", \"2020-07-05T00:00:00\", \"2020-07-06T00:00:00\", \"2020-07-07T00:00:00\", \"2020-07-08T00:00:00\", \"2020-07-09T00:00:00\", \"2020-07-10T00:00:00\", \"2020-07-11T00:00:00\", \"2020-07-12T00:00:00\", \"2020-07-13T00:00:00\", \"2020-07-14T00:00:00\", \"2020-07-15T00:00:00\", \"2020-07-16T00:00:00\", \"2020-07-17T00:00:00\", \"2020-07-18T00:00:00\", \"2020-07-19T00:00:00\", \"2020-07-20T00:00:00\", \"2020-07-21T00:00:00\", \"2020-07-22T00:00:00\", \"2020-07-23T00:00:00\", \"2020-07-24T00:00:00\", \"2020-07-25T00:00:00\", \"2020-07-26T00:00:00\", \"2020-07-27T00:00:00\", \"2020-07-28T00:00:00\", \"2020-07-29T00:00:00\", \"2020-07-30T00:00:00\", \"2020-07-31T00:00:00\", \"2020-08-01T00:00:00\", \"2020-08-02T00:00:00\", \"2020-08-03T00:00:00\", \"2020-08-04T00:00:00\", \"2020-08-05T00:00:00\", \"2020-08-06T00:00:00\", \"2020-08-07T00:00:00\", \"2020-08-08T00:00:00\", \"2020-08-09T00:00:00\", \"2020-08-10T00:00:00\", \"2020-08-11T00:00:00\", \"2020-08-12T00:00:00\", \"2020-08-13T00:00:00\", \"2020-08-14T00:00:00\", \"2020-08-15T00:00:00\", \"2020-08-16T00:00:00\", \"2020-08-23T00:00:00\", \"2020-09-10T00:00:00\", \"2020-09-11T00:00:00\", \"2020-09-12T00:00:00\", \"2020-09-13T00:00:00\", \"2020-09-14T00:00:00\", \"2020-09-15T00:00:00\", \"2020-09-16T00:00:00\", \"2020-09-17T00:00:00\", \"2020-09-18T00:00:00\", \"2020-09-19T00:00:00\", \"2020-09-20T00:00:00\", \"2020-09-21T00:00:00\", \"2020-09-22T00:00:00\", \"2020-09-23T00:00:00\", \"2020-09-24T00:00:00\", \"2020-09-25T00:00:00\", \"2020-09-26T00:00:00\", \"2020-09-27T00:00:00\", \"2020-09-28T00:00:00\", \"2020-09-29T00:00:00\", \"2020-09-30T00:00:00\", \"2020-10-01T00:00:00\", \"2020-10-02T00:00:00\", \"2020-10-03T00:00:00\", \"2020-10-04T00:00:00\", \"2020-10-05T00:00:00\", \"2020-10-06T00:00:00\", \"2020-10-07T00:00:00\", \"2020-10-09T00:00:00\", \"2020-10-10T00:00:00\", \"2020-10-11T00:00:00\", \"2020-10-12T00:00:00\", \"2020-10-13T00:00:00\", \"2020-10-14T00:00:00\", \"2020-10-15T00:00:00\", \"2020-10-16T00:00:00\", \"2020-10-17T00:00:00\", \"2020-10-18T00:00:00\", \"2020-10-19T00:00:00\", \"2020-10-20T00:00:00\", \"2020-10-21T00:00:00\", \"2020-10-22T00:00:00\", \"2020-10-23T00:00:00\", \"2020-10-24T00:00:00\", \"2020-10-25T00:00:00\", \"2020-10-26T00:00:00\", \"2020-10-27T00:00:00\", \"2020-10-28T00:00:00\", \"2020-10-29T00:00:00\", \"2020-10-30T00:00:00\", \"2020-10-31T00:00:00\", \"2020-11-01T00:00:00\", \"2020-11-02T00:00:00\", \"2020-11-03T00:00:00\", \"2020-11-04T00:00:00\", \"2020-11-05T00:00:00\", \"2020-11-06T00:00:00\", \"2020-11-07T00:00:00\", \"2020-11-08T00:00:00\", \"2020-11-09T00:00:00\", \"2020-11-10T00:00:00\", \"2020-11-11T00:00:00\", \"2020-11-12T00:00:00\", \"2020-11-13T00:00:00\", \"2020-11-14T00:00:00\", \"2020-11-15T00:00:00\", \"2020-11-16T00:00:00\", \"2020-11-17T00:00:00\", \"2020-11-18T00:00:00\", \"2020-11-19T00:00:00\", \"2020-11-20T00:00:00\", \"2020-11-21T00:00:00\", \"2020-11-22T00:00:00\", \"2020-11-23T00:00:00\", \"2020-11-24T00:00:00\", \"2020-11-25T00:00:00\", \"2020-11-26T00:00:00\", \"2020-11-27T00:00:00\", \"2020-11-28T00:00:00\", \"2020-11-29T00:00:00\", \"2020-11-30T00:00:00\", \"2020-12-01T00:00:00\", \"2020-12-02T00:00:00\", \"2020-12-03T00:00:00\", \"2020-12-04T00:00:00\", \"2020-12-05T00:00:00\", \"2020-12-06T00:00:00\", \"2020-12-07T00:00:00\", \"2020-12-08T00:00:00\", \"2020-12-09T00:00:00\", \"2020-12-10T00:00:00\", \"2020-12-11T00:00:00\", \"2020-12-12T00:00:00\", \"2020-12-13T00:00:00\", \"2020-12-14T00:00:00\", \"2020-12-15T00:00:00\", \"2020-12-16T00:00:00\", \"2020-12-17T00:00:00\", \"2020-12-18T00:00:00\", \"2020-12-19T00:00:00\", \"2020-12-20T00:00:00\", \"2020-12-21T00:00:00\", \"2020-12-22T00:00:00\", \"2020-12-23T00:00:00\", \"2020-12-24T00:00:00\", \"2020-12-25T00:00:00\", \"2020-12-26T00:00:00\", \"2020-12-27T00:00:00\", \"2020-12-28T00:00:00\"], \"xaxis\": \"x\", \"y\": [8.333839974867127, 6.917306988623953, 5.500774002380781, 4.084241016137608, 2.6677080298944347, 1.2511750436512632, -0.1653579425919112, -1.5818909288350826, -2.9984239143354356, -4.4149568998357855, -5.831489885336137, -7.2480228708364915, -8.664555856336843, -10.081088841837195, -11.497621827337547, -12.914154814071496, -14.33068780080545, -15.7472207875394, -17.163753774273346, -18.5802867610073, -19.996819747741245, -21.413352734475204, -22.82988572067545, -24.246418706875687, -25.662951693075936, -27.079484679276188, -28.496017665476426, -29.91255065167668, -31.329083637876916, -32.74561662422829, -34.162149610579654, -35.578682596931024, -36.9952155832824, -38.41174856963377, -39.828281555985136, -41.24481454233651, -42.661347527925976, -44.07788051351545, -45.494413499104915, -46.91094648469439, -48.327479470283855, -49.744012455873325, -51.16054544146281, -52.57707842801063, -53.993611414558444, -55.41014440110626, -56.82667738765407, -58.2432103742019, -59.659743360749715, -61.076276347297544, -63.90934231942297, -65.32587530548568, -66.7424082915484, -68.1589412776111, -69.57547426367381, -70.99200724973653, -72.40854023579924, -73.82507322214097, -75.24160620848268, -76.6581391948244, -78.07467218116612, -79.49120516750783, -80.90773815384956, -82.3242711401913, -83.74080412577354, -85.15733711135579, -86.57387009693802, -87.99040308252029, -89.40693606810254, -90.82346905368479, -92.24000203926704, -93.65508719968383, -95.07017236010064, -96.48525752051746, -97.90034268093427, -99.3154278413511, -100.73051300176789, -102.14559816218471, -103.55838248239827, -104.97116680261182, -106.3839511228254, -107.79673544303894, -109.2095197632525, -110.62230408346608, -112.03508840367962, -113.44460178989011, -114.8541151761006, -116.2636285623111, -119.08265533473207, -120.49216872094257, -121.90168210715305, -123.31119549336353, -122.20702196282751, -121.10284843229152, -119.99867490175552, -118.89450137121953, -117.79032784068355, -116.68615431014753, -115.58198077961154, -114.47553095432771, -113.3690811290439, -112.26263130376007, -111.15618147847626, -110.04973165319242, -108.94328182790862, -107.83683200262482, -106.73031902731803, -105.62380605201126, -104.51729307670453, -103.41078010139776, -102.304267126091, -101.19775415078425, -100.09124117547748, -98.98468787302939, -97.87813457058127, -96.77158126813316, -95.66502796568504, -94.55847466323692, -93.4519213607888, -92.34536805834067, -91.23880342243099, -90.13223878652131, -89.02567415061166, -87.91910951470196, -86.81254487879228, -85.70598024288263, -84.59941560697295, -83.49285079650684, -82.38628598604075, -81.27972117557464, -80.17315636510848, -79.06659155464239, -77.96002674417628, -76.85346193371011, -75.74689489081322, -74.64032784791632, -73.5337608050194, -72.4271937621225, -71.32062671922561, -70.2140596763287, -69.10749263343179, -68.00092558886642, -66.89435854430106, -65.78779149973568, -64.68122445517031, -63.57465741060494, -62.46809036603956, -61.36152332147417, -60.25495627736219, -59.14838923325021, -58.04182218913817, -56.93525514502619, -55.82868810091418, -54.72212105680217, -53.61555401269017, -52.508986969411424, -51.40241992613263, -50.295852882853886, -49.18928583957512, -48.082718796296376, -46.97615175301758, -45.86958470973882, -44.763017665838255, -43.65645062193765, -42.54988357803709, -41.44331653413655, -40.336749490235945, -32.59078018293198, -12.672573392721727, -11.566006347958348, -10.459439303194923, -9.352872258431542, -8.246305213668164, -7.139738168904739, -6.033171124141359, -4.926604079377979, -3.820037033565292, -2.713469987752605, -1.6069029419399632, -0.5003358961272761, 0.6062311496854109, 1.712798195498098, 2.8193652413107397, 3.925932287123427, 5.032499332936114, 6.139066378748801, 7.245633424561443, 8.352200470374129, 9.458767516186818, 10.565334561999459, 11.671901607812192, 12.778468653624833, 13.88503569943752, 14.991602745250207, 16.098169791062848, 17.204736836875536, 19.41787092850091, 20.52443797431355, 21.63100502012624, 22.737572065938927, 23.844139111751566, 24.950706157564255, 26.05727320337694, 27.16384024918963, 28.270407295002272, 29.376974340814957, 30.483541386627643, 31.590108432440285, 32.69667547825297, 33.80324252406566, 34.90980956987835, 36.01637661569099, 37.122943661503676, 38.229510707316365, 39.336077753129004, 40.44264479894169, 41.54921184475438, 42.65577889056706, 43.76234593637971, 44.8689129821924, 45.97548002800508, 47.08204707381777, 48.18861411963041, 49.2951811654431, 50.401748211255786, 51.508315257068425, 52.614882302881156, 53.721449348693845, 54.82801639450649, 55.93458344031917, 57.04115048613186, 58.1477175319445, 59.25428457775719, 60.36085162356983, 61.46741866938252, 62.57398571519521, 63.680552761007846, 64.78711980682054, 65.89368685263327, 67.00025389844586, 68.1068209442586, 69.21338799007128, 70.31995503588392, 71.42652208169662, 72.5330891275093, 73.63965617332194, 74.74622321913463, 75.85279026494732, 76.95935731075996, 78.06592435657265, 79.17249140238538, 80.27905844819797, 81.38562549401071, 82.49219253982335, 83.59875958563603, 84.70532663144873, 85.81189367726137, 86.91846072307405, 88.02502776888673, 89.13159481469938, 90.23816186051207, 91.34472890632475, 92.4512959521374, 93.55786299795012, 94.66443004376282, 95.77099708957546, 96.87756413538814, 97.98413118120084, 99.09069822701348, 100.19726527282616, 101.30383231863884, 102.4103993644515, 103.51696641026417, 104.62353345607681, 105.73010050188951, 106.83666754770223, 107.94323459351483], \"yaxis\": \"y\"}, {\"line\": {\"color\": \"rgba(0, 114, 178, 0.2)\", \"width\": 0}, \"mode\": \"lines\", \"name\": \"trend_upper\", \"type\": \"scatter\", \"x\": [\"2020-03-01T00:00:00\", \"2020-03-02T00:00:00\", \"2020-03-03T00:00:00\", \"2020-03-04T00:00:00\", \"2020-03-05T00:00:00\", \"2020-03-06T00:00:00\", \"2020-03-07T00:00:00\", \"2020-03-08T00:00:00\", \"2020-03-09T00:00:00\", \"2020-03-10T00:00:00\", \"2020-03-11T00:00:00\", \"2020-03-12T00:00:00\", \"2020-03-13T00:00:00\", \"2020-03-14T00:00:00\", \"2020-03-15T00:00:00\", \"2020-03-16T00:00:00\", \"2020-03-17T00:00:00\", \"2020-03-18T00:00:00\", \"2020-03-19T00:00:00\", \"2020-03-20T00:00:00\", \"2020-03-21T00:00:00\", \"2020-03-22T00:00:00\", \"2020-03-23T00:00:00\", \"2020-03-24T00:00:00\", \"2020-03-25T00:00:00\", \"2020-03-26T00:00:00\", \"2020-03-27T00:00:00\", \"2020-03-28T00:00:00\", \"2020-03-29T00:00:00\", \"2020-03-30T00:00:00\", \"2020-03-31T00:00:00\", \"2020-04-01T00:00:00\", \"2020-04-02T00:00:00\", \"2020-04-03T00:00:00\", \"2020-04-04T00:00:00\", \"2020-04-05T00:00:00\", \"2020-04-06T00:00:00\", \"2020-04-07T00:00:00\", \"2020-04-08T00:00:00\", \"2020-04-09T00:00:00\", \"2020-04-10T00:00:00\", \"2020-04-11T00:00:00\", \"2020-04-12T00:00:00\", \"2020-04-13T00:00:00\", \"2020-04-14T00:00:00\", \"2020-04-15T00:00:00\", \"2020-04-16T00:00:00\", \"2020-04-17T00:00:00\", \"2020-04-18T00:00:00\", \"2020-04-19T00:00:00\", \"2020-04-21T00:00:00\", \"2020-04-22T00:00:00\", \"2020-04-23T00:00:00\", \"2020-04-24T00:00:00\", \"2020-04-25T00:00:00\", \"2020-04-26T00:00:00\", \"2020-04-27T00:00:00\", \"2020-04-28T00:00:00\", \"2020-04-29T00:00:00\", \"2020-04-30T00:00:00\", \"2020-05-01T00:00:00\", \"2020-05-02T00:00:00\", \"2020-05-03T00:00:00\", \"2020-05-04T00:00:00\", \"2020-05-05T00:00:00\", \"2020-05-06T00:00:00\", \"2020-05-07T00:00:00\", \"2020-05-08T00:00:00\", \"2020-05-09T00:00:00\", \"2020-05-10T00:00:00\", \"2020-05-11T00:00:00\", \"2020-05-12T00:00:00\", \"2020-05-13T00:00:00\", \"2020-05-14T00:00:00\", \"2020-05-15T00:00:00\", \"2020-05-16T00:00:00\", \"2020-05-17T00:00:00\", \"2020-05-18T00:00:00\", \"2020-05-19T00:00:00\", \"2020-05-20T00:00:00\", \"2020-05-21T00:00:00\", \"2020-05-22T00:00:00\", \"2020-05-23T00:00:00\", \"2020-05-24T00:00:00\", \"2020-05-25T00:00:00\", \"2020-05-26T00:00:00\", \"2020-05-27T00:00:00\", \"2020-05-28T00:00:00\", \"2020-05-30T00:00:00\", \"2020-05-31T00:00:00\", \"2020-06-01T00:00:00\", \"2020-06-02T00:00:00\", \"2020-06-03T00:00:00\", \"2020-06-04T00:00:00\", \"2020-06-05T00:00:00\", \"2020-06-06T00:00:00\", \"2020-06-07T00:00:00\", \"2020-06-08T00:00:00\", \"2020-06-09T00:00:00\", \"2020-06-10T00:00:00\", \"2020-06-11T00:00:00\", \"2020-06-12T00:00:00\", \"2020-06-13T00:00:00\", \"2020-06-14T00:00:00\", \"2020-06-15T00:00:00\", \"2020-06-16T00:00:00\", \"2020-06-17T00:00:00\", \"2020-06-18T00:00:00\", \"2020-06-19T00:00:00\", \"2020-06-20T00:00:00\", \"2020-06-21T00:00:00\", \"2020-06-22T00:00:00\", \"2020-06-23T00:00:00\", \"2020-06-24T00:00:00\", \"2020-06-25T00:00:00\", \"2020-06-26T00:00:00\", \"2020-06-27T00:00:00\", \"2020-06-28T00:00:00\", \"2020-06-29T00:00:00\", \"2020-06-30T00:00:00\", \"2020-07-01T00:00:00\", \"2020-07-02T00:00:00\", \"2020-07-03T00:00:00\", \"2020-07-04T00:00:00\", \"2020-07-05T00:00:00\", \"2020-07-06T00:00:00\", \"2020-07-07T00:00:00\", \"2020-07-08T00:00:00\", \"2020-07-09T00:00:00\", \"2020-07-10T00:00:00\", \"2020-07-11T00:00:00\", \"2020-07-12T00:00:00\", \"2020-07-13T00:00:00\", \"2020-07-14T00:00:00\", \"2020-07-15T00:00:00\", \"2020-07-16T00:00:00\", \"2020-07-17T00:00:00\", \"2020-07-18T00:00:00\", \"2020-07-19T00:00:00\", \"2020-07-20T00:00:00\", \"2020-07-21T00:00:00\", \"2020-07-22T00:00:00\", \"2020-07-23T00:00:00\", \"2020-07-24T00:00:00\", \"2020-07-25T00:00:00\", \"2020-07-26T00:00:00\", \"2020-07-27T00:00:00\", \"2020-07-28T00:00:00\", \"2020-07-29T00:00:00\", \"2020-07-30T00:00:00\", \"2020-07-31T00:00:00\", \"2020-08-01T00:00:00\", \"2020-08-02T00:00:00\", \"2020-08-03T00:00:00\", \"2020-08-04T00:00:00\", \"2020-08-05T00:00:00\", \"2020-08-06T00:00:00\", \"2020-08-07T00:00:00\", \"2020-08-08T00:00:00\", \"2020-08-09T00:00:00\", \"2020-08-10T00:00:00\", \"2020-08-11T00:00:00\", \"2020-08-12T00:00:00\", \"2020-08-13T00:00:00\", \"2020-08-14T00:00:00\", \"2020-08-15T00:00:00\", \"2020-08-16T00:00:00\", \"2020-08-23T00:00:00\", \"2020-09-10T00:00:00\", \"2020-09-11T00:00:00\", \"2020-09-12T00:00:00\", \"2020-09-13T00:00:00\", \"2020-09-14T00:00:00\", \"2020-09-15T00:00:00\", \"2020-09-16T00:00:00\", \"2020-09-17T00:00:00\", \"2020-09-18T00:00:00\", \"2020-09-19T00:00:00\", \"2020-09-20T00:00:00\", \"2020-09-21T00:00:00\", \"2020-09-22T00:00:00\", \"2020-09-23T00:00:00\", \"2020-09-24T00:00:00\", \"2020-09-25T00:00:00\", \"2020-09-26T00:00:00\", \"2020-09-27T00:00:00\", \"2020-09-28T00:00:00\", \"2020-09-29T00:00:00\", \"2020-09-30T00:00:00\", \"2020-10-01T00:00:00\", \"2020-10-02T00:00:00\", \"2020-10-03T00:00:00\", \"2020-10-04T00:00:00\", \"2020-10-05T00:00:00\", \"2020-10-06T00:00:00\", \"2020-10-07T00:00:00\", \"2020-10-09T00:00:00\", \"2020-10-10T00:00:00\", \"2020-10-11T00:00:00\", \"2020-10-12T00:00:00\", \"2020-10-13T00:00:00\", \"2020-10-14T00:00:00\", \"2020-10-15T00:00:00\", \"2020-10-16T00:00:00\", \"2020-10-17T00:00:00\", \"2020-10-18T00:00:00\", \"2020-10-19T00:00:00\", \"2020-10-20T00:00:00\", \"2020-10-21T00:00:00\", \"2020-10-22T00:00:00\", \"2020-10-23T00:00:00\", \"2020-10-24T00:00:00\", \"2020-10-25T00:00:00\", \"2020-10-26T00:00:00\", \"2020-10-27T00:00:00\", \"2020-10-28T00:00:00\", \"2020-10-29T00:00:00\", \"2020-10-30T00:00:00\", \"2020-10-31T00:00:00\", \"2020-11-01T00:00:00\", \"2020-11-02T00:00:00\", \"2020-11-03T00:00:00\", \"2020-11-04T00:00:00\", \"2020-11-05T00:00:00\", \"2020-11-06T00:00:00\", \"2020-11-07T00:00:00\", \"2020-11-08T00:00:00\", \"2020-11-09T00:00:00\", \"2020-11-10T00:00:00\", \"2020-11-11T00:00:00\", \"2020-11-12T00:00:00\", \"2020-11-13T00:00:00\", \"2020-11-14T00:00:00\", \"2020-11-15T00:00:00\", \"2020-11-16T00:00:00\", \"2020-11-17T00:00:00\", \"2020-11-18T00:00:00\", \"2020-11-19T00:00:00\", \"2020-11-20T00:00:00\", \"2020-11-21T00:00:00\", \"2020-11-22T00:00:00\", \"2020-11-23T00:00:00\", \"2020-11-24T00:00:00\", \"2020-11-25T00:00:00\", \"2020-11-26T00:00:00\", \"2020-11-27T00:00:00\", \"2020-11-28T00:00:00\", \"2020-11-29T00:00:00\", \"2020-11-30T00:00:00\", \"2020-12-01T00:00:00\", \"2020-12-02T00:00:00\", \"2020-12-03T00:00:00\", \"2020-12-04T00:00:00\", \"2020-12-05T00:00:00\", \"2020-12-06T00:00:00\", \"2020-12-07T00:00:00\", \"2020-12-08T00:00:00\", \"2020-12-09T00:00:00\", \"2020-12-10T00:00:00\", \"2020-12-11T00:00:00\", \"2020-12-12T00:00:00\", \"2020-12-13T00:00:00\", \"2020-12-14T00:00:00\", \"2020-12-15T00:00:00\", \"2020-12-16T00:00:00\", \"2020-12-17T00:00:00\", \"2020-12-18T00:00:00\", \"2020-12-19T00:00:00\", \"2020-12-20T00:00:00\", \"2020-12-21T00:00:00\", \"2020-12-22T00:00:00\", \"2020-12-23T00:00:00\", \"2020-12-24T00:00:00\", \"2020-12-25T00:00:00\", \"2020-12-26T00:00:00\", \"2020-12-27T00:00:00\", \"2020-12-28T00:00:00\"], \"xaxis\": \"x\", \"y\": [8.333839974867127, 6.917306988623953, 5.500774002380781, 4.084241016137608, 2.6677080298944347, 1.2511750436512632, -0.1653579425919112, -1.5818909288350826, -2.9984239143354356, -4.4149568998357855, -5.831489885336137, -7.2480228708364915, -8.664555856336843, -10.081088841837195, -11.497621827337547, -12.914154814071496, -14.33068780080545, -15.7472207875394, -17.163753774273346, -18.5802867610073, -19.996819747741245, -21.413352734475204, -22.82988572067545, -24.246418706875687, -25.662951693075936, -27.079484679276188, -28.496017665476426, -29.912550651676675, -31.329083637876916, -32.74561662422829, -34.162149610579654, -35.578682596931024, -36.9952155832824, -38.41174856963377, -39.828281555985136, -41.24481454233651, -42.661347527925976, -44.07788051351545, -45.494413499104915, -46.91094648469439, -48.327479470283855, -49.74401245587333, -51.16054544146281, -52.57707842801062, -53.993611414558444, -55.41014440110626, -56.82667738765407, -58.2432103742019, -59.659743360749715, -61.076276347297544, -63.90934231942297, -65.32587530548568, -66.7424082915484, -68.1589412776111, -69.57547426367381, -70.99200724973653, -72.40854023579924, -73.82507322214097, -75.24160620848268, -76.6581391948244, -78.07467218116612, -79.49120516750783, -80.90773815384956, -82.3242711401913, -83.74080412577354, -85.15733711135579, -86.57387009693802, -87.99040308252029, -89.40693606810254, -90.82346905368479, -92.24000203926704, -93.65508719968383, -95.07017236010064, -96.48525752051746, -97.90034268093427, -99.3154278413511, -100.73051300176789, -102.14559816218471, -103.55838248239827, -104.97116680261182, -106.3839511228254, -107.79673544303894, -109.2095197632525, -110.62230408346608, -112.03508840367962, -113.44460178989011, -114.8541151761006, -116.2636285623111, -119.08265533473207, -120.49216872094257, -121.90168210715305, -123.31119549336353, -122.20702196282751, -121.10284843229152, -119.99867490175552, -118.89450137121953, -117.79032784068355, -116.68615431014753, -115.58198077961154, -114.47553095432772, -113.3690811290439, -112.26263130376007, -111.15618147847626, -110.04973165319242, -108.94328182790862, -107.83683200262482, -106.73031902731805, -105.62380605201126, -104.51729307670453, -103.41078010139776, -102.304267126091, -101.19775415078425, -100.09124117547748, -98.98468787302939, -97.87813457058127, -96.77158126813316, -95.66502796568504, -94.55847466323692, -93.4519213607888, -92.34536805834067, -91.23880342243099, -90.1322387865213, -89.02567415061166, -87.91910951470196, -86.81254487879228, -85.70598024288263, -84.59941560697295, -83.49285079650684, -82.38628598604075, -81.27972117557464, -80.17315636510848, -79.06659155464239, -77.96002674417628, -76.85346193371011, -75.74689489081322, -74.64032784791632, -73.5337608050194, -72.4271937621225, -71.32062671922561, -70.2140596763287, -69.10749263343179, -68.00092558886642, -66.89435854430106, -65.78779149973568, -64.68122445517031, -63.57465741060494, -62.46809036603956, -61.36152332147417, -60.25495627736219, -59.14838923325021, -58.04182218913817, -56.93525514502619, -55.82868810091418, -54.72212105680217, -53.61555401269017, -52.508986969411424, -51.40241992613263, -50.295852882853886, -49.18928583957512, -48.082718796296376, -46.97615175301758, -45.86958470973882, -44.76301766583825, -43.65645062193765, -42.54988357803709, -41.44331653413655, -40.336749490235945, -32.59078018293198, -12.672573392721727, -11.566006347958348, -10.459439303194923, -9.352872258431542, -8.246305213668164, -7.139738168904739, -6.033171124141359, -4.926604079377979, -3.820037033565292, -2.713469987752605, -1.6069029419399632, -0.5003358961272761, 0.6062311496854109, 1.712798195498098, 2.8193652413107397, 3.925932287123427, 5.032499332936114, 6.139066378748801, 7.245633424561443, 8.352200470374129, 9.458767516186818, 10.565334561999457, 11.671901607812192, 12.778468653624833, 13.88503569943752, 14.991602745250207, 16.098169791062848, 17.204736836875536, 19.41787092850091, 20.52443797431355, 21.63100502012624, 22.737572065938927, 23.844139111751566, 24.950706157564255, 26.05727320337694, 27.16384024918963, 28.270407295002272, 29.376974340814957, 30.483541386627643, 31.590108432440285, 32.69667547825297, 33.80324252406566, 34.90980956987835, 36.01637661569099, 37.122943661503676, 38.229510707316365, 39.336077753129004, 40.44264479894169, 41.54921184475438, 42.65577889056706, 43.7623459363797, 44.8689129821924, 45.97548002800508, 47.08204707381777, 48.18861411963041, 49.32287796971181, 50.48620425108675, 51.67920440577256, 52.84672054811436, 54.06946438613969, 55.27544588905244, 56.52342943566348, 57.74153124010724, 58.97429240585168, 60.21233106478882, 61.451859045034645, 62.69511886334614, 63.96844416072837, 65.24911414366278, 66.59597172192646, 67.94481891151149, 69.24682657546178, 70.54253621786717, 71.87447018922813, 73.15098191920973, 74.40226129995492, 75.79523814133, 77.15676274551578, 78.48593397525393, 79.85919673719985, 81.23883904499094, 82.61301182736916, 83.99142576696171, 85.34995192146258, 86.7489686611337, 88.12739951149683, 89.47536721911129, 90.87163148803046, 92.28800563266508, 93.64189300980883, 95.05400935937493, 96.43585347546377, 97.82530763805397, 99.2073862859201, 100.52110252962636, 101.95198295110512, 103.2908243105103, 104.66158196409242, 106.05717447425809, 107.5185721137252, 108.86164534952937, 110.21211261926858, 111.67391522231937, 113.0614723281009, 114.61103945889433, 115.93507980355143, 117.3213588747855, 118.69137731230752, 120.11823140466797], \"yaxis\": \"y\"}, {\"fill\": \"tonexty\", \"fillcolor\": \"rgba(0, 114, 178, 0.2)\", \"line\": {\"color\": \"rgba(0, 114, 178, 0.2)\", \"width\": 0}, \"mode\": \"lines\", \"name\": \"trend_lower\", \"type\": \"scatter\", \"x\": [\"2020-03-01T00:00:00\", \"2020-03-02T00:00:00\", \"2020-03-03T00:00:00\", \"2020-03-04T00:00:00\", \"2020-03-05T00:00:00\", \"2020-03-06T00:00:00\", \"2020-03-07T00:00:00\", \"2020-03-08T00:00:00\", \"2020-03-09T00:00:00\", \"2020-03-10T00:00:00\", \"2020-03-11T00:00:00\", \"2020-03-12T00:00:00\", \"2020-03-13T00:00:00\", \"2020-03-14T00:00:00\", \"2020-03-15T00:00:00\", \"2020-03-16T00:00:00\", \"2020-03-17T00:00:00\", \"2020-03-18T00:00:00\", \"2020-03-19T00:00:00\", \"2020-03-20T00:00:00\", \"2020-03-21T00:00:00\", \"2020-03-22T00:00:00\", \"2020-03-23T00:00:00\", \"2020-03-24T00:00:00\", \"2020-03-25T00:00:00\", \"2020-03-26T00:00:00\", \"2020-03-27T00:00:00\", \"2020-03-28T00:00:00\", \"2020-03-29T00:00:00\", \"2020-03-30T00:00:00\", \"2020-03-31T00:00:00\", \"2020-04-01T00:00:00\", \"2020-04-02T00:00:00\", \"2020-04-03T00:00:00\", \"2020-04-04T00:00:00\", \"2020-04-05T00:00:00\", \"2020-04-06T00:00:00\", \"2020-04-07T00:00:00\", \"2020-04-08T00:00:00\", \"2020-04-09T00:00:00\", \"2020-04-10T00:00:00\", \"2020-04-11T00:00:00\", \"2020-04-12T00:00:00\", \"2020-04-13T00:00:00\", \"2020-04-14T00:00:00\", \"2020-04-15T00:00:00\", \"2020-04-16T00:00:00\", \"2020-04-17T00:00:00\", \"2020-04-18T00:00:00\", \"2020-04-19T00:00:00\", \"2020-04-21T00:00:00\", \"2020-04-22T00:00:00\", \"2020-04-23T00:00:00\", \"2020-04-24T00:00:00\", \"2020-04-25T00:00:00\", \"2020-04-26T00:00:00\", \"2020-04-27T00:00:00\", \"2020-04-28T00:00:00\", \"2020-04-29T00:00:00\", \"2020-04-30T00:00:00\", \"2020-05-01T00:00:00\", \"2020-05-02T00:00:00\", \"2020-05-03T00:00:00\", \"2020-05-04T00:00:00\", \"2020-05-05T00:00:00\", \"2020-05-06T00:00:00\", \"2020-05-07T00:00:00\", \"2020-05-08T00:00:00\", \"2020-05-09T00:00:00\", \"2020-05-10T00:00:00\", \"2020-05-11T00:00:00\", \"2020-05-12T00:00:00\", \"2020-05-13T00:00:00\", \"2020-05-14T00:00:00\", \"2020-05-15T00:00:00\", \"2020-05-16T00:00:00\", \"2020-05-17T00:00:00\", \"2020-05-18T00:00:00\", \"2020-05-19T00:00:00\", \"2020-05-20T00:00:00\", \"2020-05-21T00:00:00\", \"2020-05-22T00:00:00\", \"2020-05-23T00:00:00\", \"2020-05-24T00:00:00\", \"2020-05-25T00:00:00\", \"2020-05-26T00:00:00\", \"2020-05-27T00:00:00\", \"2020-05-28T00:00:00\", \"2020-05-30T00:00:00\", \"2020-05-31T00:00:00\", \"2020-06-01T00:00:00\", \"2020-06-02T00:00:00\", \"2020-06-03T00:00:00\", \"2020-06-04T00:00:00\", \"2020-06-05T00:00:00\", \"2020-06-06T00:00:00\", \"2020-06-07T00:00:00\", \"2020-06-08T00:00:00\", \"2020-06-09T00:00:00\", \"2020-06-10T00:00:00\", \"2020-06-11T00:00:00\", \"2020-06-12T00:00:00\", \"2020-06-13T00:00:00\", \"2020-06-14T00:00:00\", \"2020-06-15T00:00:00\", \"2020-06-16T00:00:00\", \"2020-06-17T00:00:00\", \"2020-06-18T00:00:00\", \"2020-06-19T00:00:00\", \"2020-06-20T00:00:00\", \"2020-06-21T00:00:00\", \"2020-06-22T00:00:00\", \"2020-06-23T00:00:00\", \"2020-06-24T00:00:00\", \"2020-06-25T00:00:00\", \"2020-06-26T00:00:00\", \"2020-06-27T00:00:00\", \"2020-06-28T00:00:00\", \"2020-06-29T00:00:00\", \"2020-06-30T00:00:00\", \"2020-07-01T00:00:00\", \"2020-07-02T00:00:00\", \"2020-07-03T00:00:00\", \"2020-07-04T00:00:00\", \"2020-07-05T00:00:00\", \"2020-07-06T00:00:00\", \"2020-07-07T00:00:00\", \"2020-07-08T00:00:00\", \"2020-07-09T00:00:00\", \"2020-07-10T00:00:00\", \"2020-07-11T00:00:00\", \"2020-07-12T00:00:00\", \"2020-07-13T00:00:00\", \"2020-07-14T00:00:00\", \"2020-07-15T00:00:00\", \"2020-07-16T00:00:00\", \"2020-07-17T00:00:00\", \"2020-07-18T00:00:00\", \"2020-07-19T00:00:00\", \"2020-07-20T00:00:00\", \"2020-07-21T00:00:00\", \"2020-07-22T00:00:00\", \"2020-07-23T00:00:00\", \"2020-07-24T00:00:00\", \"2020-07-25T00:00:00\", \"2020-07-26T00:00:00\", \"2020-07-27T00:00:00\", \"2020-07-28T00:00:00\", \"2020-07-29T00:00:00\", \"2020-07-30T00:00:00\", \"2020-07-31T00:00:00\", \"2020-08-01T00:00:00\", \"2020-08-02T00:00:00\", \"2020-08-03T00:00:00\", \"2020-08-04T00:00:00\", \"2020-08-05T00:00:00\", \"2020-08-06T00:00:00\", \"2020-08-07T00:00:00\", \"2020-08-08T00:00:00\", \"2020-08-09T00:00:00\", \"2020-08-10T00:00:00\", \"2020-08-11T00:00:00\", \"2020-08-12T00:00:00\", \"2020-08-13T00:00:00\", \"2020-08-14T00:00:00\", \"2020-08-15T00:00:00\", \"2020-08-16T00:00:00\", \"2020-08-23T00:00:00\", \"2020-09-10T00:00:00\", \"2020-09-11T00:00:00\", \"2020-09-12T00:00:00\", \"2020-09-13T00:00:00\", \"2020-09-14T00:00:00\", \"2020-09-15T00:00:00\", \"2020-09-16T00:00:00\", \"2020-09-17T00:00:00\", \"2020-09-18T00:00:00\", \"2020-09-19T00:00:00\", \"2020-09-20T00:00:00\", \"2020-09-21T00:00:00\", \"2020-09-22T00:00:00\", \"2020-09-23T00:00:00\", \"2020-09-24T00:00:00\", \"2020-09-25T00:00:00\", \"2020-09-26T00:00:00\", \"2020-09-27T00:00:00\", \"2020-09-28T00:00:00\", \"2020-09-29T00:00:00\", \"2020-09-30T00:00:00\", \"2020-10-01T00:00:00\", \"2020-10-02T00:00:00\", \"2020-10-03T00:00:00\", \"2020-10-04T00:00:00\", \"2020-10-05T00:00:00\", \"2020-10-06T00:00:00\", \"2020-10-07T00:00:00\", \"2020-10-09T00:00:00\", \"2020-10-10T00:00:00\", \"2020-10-11T00:00:00\", \"2020-10-12T00:00:00\", \"2020-10-13T00:00:00\", \"2020-10-14T00:00:00\", \"2020-10-15T00:00:00\", \"2020-10-16T00:00:00\", \"2020-10-17T00:00:00\", \"2020-10-18T00:00:00\", \"2020-10-19T00:00:00\", \"2020-10-20T00:00:00\", \"2020-10-21T00:00:00\", \"2020-10-22T00:00:00\", \"2020-10-23T00:00:00\", \"2020-10-24T00:00:00\", \"2020-10-25T00:00:00\", \"2020-10-26T00:00:00\", \"2020-10-27T00:00:00\", \"2020-10-28T00:00:00\", \"2020-10-29T00:00:00\", \"2020-10-30T00:00:00\", \"2020-10-31T00:00:00\", \"2020-11-01T00:00:00\", \"2020-11-02T00:00:00\", \"2020-11-03T00:00:00\", \"2020-11-04T00:00:00\", \"2020-11-05T00:00:00\", \"2020-11-06T00:00:00\", \"2020-11-07T00:00:00\", \"2020-11-08T00:00:00\", \"2020-11-09T00:00:00\", \"2020-11-10T00:00:00\", \"2020-11-11T00:00:00\", \"2020-11-12T00:00:00\", \"2020-11-13T00:00:00\", \"2020-11-14T00:00:00\", \"2020-11-15T00:00:00\", \"2020-11-16T00:00:00\", \"2020-11-17T00:00:00\", \"2020-11-18T00:00:00\", \"2020-11-19T00:00:00\", \"2020-11-20T00:00:00\", \"2020-11-21T00:00:00\", \"2020-11-22T00:00:00\", \"2020-11-23T00:00:00\", \"2020-11-24T00:00:00\", \"2020-11-25T00:00:00\", \"2020-11-26T00:00:00\", \"2020-11-27T00:00:00\", \"2020-11-28T00:00:00\", \"2020-11-29T00:00:00\", \"2020-11-30T00:00:00\", \"2020-12-01T00:00:00\", \"2020-12-02T00:00:00\", \"2020-12-03T00:00:00\", \"2020-12-04T00:00:00\", \"2020-12-05T00:00:00\", \"2020-12-06T00:00:00\", \"2020-12-07T00:00:00\", \"2020-12-08T00:00:00\", \"2020-12-09T00:00:00\", \"2020-12-10T00:00:00\", \"2020-12-11T00:00:00\", \"2020-12-12T00:00:00\", \"2020-12-13T00:00:00\", \"2020-12-14T00:00:00\", \"2020-12-15T00:00:00\", \"2020-12-16T00:00:00\", \"2020-12-17T00:00:00\", \"2020-12-18T00:00:00\", \"2020-12-19T00:00:00\", \"2020-12-20T00:00:00\", \"2020-12-21T00:00:00\", \"2020-12-22T00:00:00\", \"2020-12-23T00:00:00\", \"2020-12-24T00:00:00\", \"2020-12-25T00:00:00\", \"2020-12-26T00:00:00\", \"2020-12-27T00:00:00\", \"2020-12-28T00:00:00\"], \"xaxis\": \"x\", \"y\": [8.333839974867127, 6.917306988623953, 5.500774002380781, 4.084241016137608, 2.6677080298944347, 1.2511750436512632, -0.1653579425919112, -1.5818909288350826, -2.9984239143354356, -4.4149568998357855, -5.831489885336137, -7.2480228708364915, -8.664555856336843, -10.081088841837195, -11.497621827337547, -12.914154814071496, -14.33068780080545, -15.7472207875394, -17.163753774273346, -18.5802867610073, -19.996819747741245, -21.413352734475204, -22.82988572067545, -24.246418706875687, -25.662951693075936, -27.079484679276188, -28.496017665476426, -29.912550651676675, -31.329083637876916, -32.74561662422829, -34.162149610579654, -35.578682596931024, -36.9952155832824, -38.41174856963377, -39.828281555985136, -41.24481454233651, -42.661347527925976, -44.07788051351545, -45.494413499104915, -46.91094648469439, -48.327479470283855, -49.74401245587333, -51.16054544146281, -52.57707842801062, -53.993611414558444, -55.41014440110626, -56.82667738765407, -58.2432103742019, -59.659743360749715, -61.076276347297544, -63.90934231942297, -65.32587530548568, -66.7424082915484, -68.1589412776111, -69.57547426367381, -70.99200724973653, -72.40854023579924, -73.82507322214097, -75.24160620848268, -76.6581391948244, -78.07467218116612, -79.49120516750783, -80.90773815384956, -82.3242711401913, -83.74080412577354, -85.15733711135579, -86.57387009693802, -87.99040308252029, -89.40693606810254, -90.82346905368479, -92.24000203926704, -93.65508719968383, -95.07017236010064, -96.48525752051746, -97.90034268093427, -99.3154278413511, -100.73051300176789, -102.14559816218471, -103.55838248239827, -104.97116680261182, -106.3839511228254, -107.79673544303894, -109.2095197632525, -110.62230408346608, -112.03508840367962, -113.44460178989011, -114.8541151761006, -116.2636285623111, -119.08265533473207, -120.49216872094257, -121.90168210715305, -123.31119549336353, -122.20702196282751, -121.10284843229152, -119.99867490175552, -118.89450137121953, -117.79032784068355, -116.68615431014753, -115.58198077961154, -114.47553095432772, -113.3690811290439, -112.26263130376007, -111.15618147847626, -110.04973165319242, -108.94328182790862, -107.83683200262482, -106.73031902731805, -105.62380605201126, -104.51729307670453, -103.41078010139776, -102.304267126091, -101.19775415078425, -100.09124117547748, -98.98468787302939, -97.87813457058127, -96.77158126813316, -95.66502796568504, -94.55847466323692, -93.4519213607888, -92.34536805834067, -91.23880342243099, -90.1322387865213, -89.02567415061166, -87.91910951470196, -86.81254487879228, -85.70598024288263, -84.59941560697295, -83.49285079650684, -82.38628598604075, -81.27972117557464, -80.17315636510848, -79.06659155464239, -77.96002674417628, -76.85346193371011, -75.74689489081322, -74.64032784791632, -73.5337608050194, -72.4271937621225, -71.32062671922561, -70.2140596763287, -69.10749263343179, -68.00092558886642, -66.89435854430106, -65.78779149973568, -64.68122445517031, -63.57465741060494, -62.46809036603956, -61.36152332147417, -60.25495627736219, -59.14838923325021, -58.04182218913817, -56.93525514502619, -55.82868810091418, -54.72212105680217, -53.61555401269017, -52.508986969411424, -51.40241992613263, -50.295852882853886, -49.18928583957512, -48.082718796296376, -46.97615175301758, -45.86958470973882, -44.76301766583825, -43.65645062193765, -42.54988357803709, -41.44331653413655, -40.336749490235945, -32.59078018293198, -12.672573392721727, -11.566006347958348, -10.459439303194923, -9.352872258431542, -8.246305213668164, -7.139738168904739, -6.033171124141359, -4.926604079377979, -3.820037033565292, -2.713469987752605, -1.6069029419399632, -0.5003358961272761, 0.6062311496854109, 1.712798195498098, 2.8193652413107397, 3.925932287123427, 5.032499332936114, 6.139066378748801, 7.245633424561443, 8.352200470374129, 9.458767516186818, 10.565334561999457, 11.671901607812192, 12.778468653624833, 13.88503569943752, 14.991602745250207, 16.098169791062848, 17.204736836875536, 19.41787092850091, 20.52443797431355, 21.63100502012624, 22.737572065938927, 23.844139111751566, 24.950706157564255, 26.05727320337694, 27.16384024918963, 28.270407295002272, 29.376974340814957, 30.483541386627643, 31.590108432440285, 32.69667547825297, 33.80324252406566, 34.90980956987835, 36.01637661569099, 37.122943661503676, 38.229510707316365, 39.336077753129004, 40.44264479894169, 41.54921184475438, 42.65577889056706, 43.7623459363797, 44.8689129821924, 45.97548002800508, 47.08204707381777, 48.186068398324544, 49.245227293837594, 50.2632958984817, 51.275861150775974, 52.29218220961653, 53.2710834173662, 54.25855818274807, 55.244291681459345, 56.19643583098369, 57.14246658409944, 58.01715545455208, 58.927733842531985, 59.85389154950728, 60.76900346211244, 61.58457206767453, 62.48654591900446, 63.32506799090922, 64.25298121285739, 65.12937984683647, 65.97346764924333, 66.77813982654946, 67.71026176857494, 68.54529094372553, 69.31475842446136, 70.17508083251865, 70.98362004815036, 71.82738759634108, 72.67834466631672, 73.62688041396643, 74.38502705564743, 75.19931569894361, 76.0110138617508, 76.87277686769379, 77.58371978624494, 78.44430664373675, 79.19897296901837, 79.93501047383155, 80.73043361013711, 81.44958852812623, 82.29475074676755, 83.11991251898567, 84.00519018806428, 84.7450524001477, 85.41465591597951, 86.11558668230781, 86.90556450183159, 87.70512993545272, 88.88582662630965, 89.73352159866587, 90.4640620677107, 91.20255822317107, 92.07544364334032, 92.88137671199462, 93.54193138862352, 94.24789082142209], \"yaxis\": \"y\"}, {\"line\": {\"color\": \"#0072B2\", \"width\": 2}, \"mode\": \"lines\", \"name\": \"extra_regressors_additive\", \"type\": \"scatter\", \"x\": [\"2020-03-01T00:00:00\", \"2020-03-02T00:00:00\", \"2020-03-03T00:00:00\", \"2020-03-04T00:00:00\", \"2020-03-05T00:00:00\", \"2020-03-06T00:00:00\", \"2020-03-07T00:00:00\", \"2020-03-08T00:00:00\", \"2020-03-09T00:00:00\", \"2020-03-10T00:00:00\", \"2020-03-11T00:00:00\", \"2020-03-12T00:00:00\", \"2020-03-13T00:00:00\", \"2020-03-14T00:00:00\", \"2020-03-15T00:00:00\", \"2020-03-16T00:00:00\", \"2020-03-17T00:00:00\", \"2020-03-18T00:00:00\", \"2020-03-19T00:00:00\", \"2020-03-20T00:00:00\", \"2020-03-21T00:00:00\", \"2020-03-22T00:00:00\", \"2020-03-23T00:00:00\", \"2020-03-24T00:00:00\", \"2020-03-25T00:00:00\", \"2020-03-26T00:00:00\", \"2020-03-27T00:00:00\", \"2020-03-28T00:00:00\", \"2020-03-29T00:00:00\", \"2020-03-30T00:00:00\", \"2020-03-31T00:00:00\", \"2020-04-01T00:00:00\", \"2020-04-02T00:00:00\", \"2020-04-03T00:00:00\", \"2020-04-04T00:00:00\", \"2020-04-05T00:00:00\", \"2020-04-06T00:00:00\", \"2020-04-07T00:00:00\", \"2020-04-08T00:00:00\", \"2020-04-09T00:00:00\", \"2020-04-10T00:00:00\", \"2020-04-11T00:00:00\", \"2020-04-12T00:00:00\", \"2020-04-13T00:00:00\", \"2020-04-14T00:00:00\", \"2020-04-15T00:00:00\", \"2020-04-16T00:00:00\", \"2020-04-17T00:00:00\", \"2020-04-18T00:00:00\", \"2020-04-19T00:00:00\", \"2020-04-21T00:00:00\", \"2020-04-22T00:00:00\", \"2020-04-23T00:00:00\", \"2020-04-24T00:00:00\", \"2020-04-25T00:00:00\", \"2020-04-26T00:00:00\", \"2020-04-27T00:00:00\", \"2020-04-28T00:00:00\", \"2020-04-29T00:00:00\", \"2020-04-30T00:00:00\", \"2020-05-01T00:00:00\", \"2020-05-02T00:00:00\", \"2020-05-03T00:00:00\", \"2020-05-04T00:00:00\", \"2020-05-05T00:00:00\", \"2020-05-06T00:00:00\", \"2020-05-07T00:00:00\", \"2020-05-08T00:00:00\", \"2020-05-09T00:00:00\", \"2020-05-10T00:00:00\", \"2020-05-11T00:00:00\", \"2020-05-12T00:00:00\", \"2020-05-13T00:00:00\", \"2020-05-14T00:00:00\", \"2020-05-15T00:00:00\", \"2020-05-16T00:00:00\", \"2020-05-17T00:00:00\", \"2020-05-18T00:00:00\", \"2020-05-19T00:00:00\", \"2020-05-20T00:00:00\", \"2020-05-21T00:00:00\", \"2020-05-22T00:00:00\", \"2020-05-23T00:00:00\", \"2020-05-24T00:00:00\", \"2020-05-25T00:00:00\", \"2020-05-26T00:00:00\", \"2020-05-27T00:00:00\", \"2020-05-28T00:00:00\", \"2020-05-30T00:00:00\", \"2020-05-31T00:00:00\", \"2020-06-01T00:00:00\", \"2020-06-02T00:00:00\", \"2020-06-03T00:00:00\", \"2020-06-04T00:00:00\", \"2020-06-05T00:00:00\", \"2020-06-06T00:00:00\", \"2020-06-07T00:00:00\", \"2020-06-08T00:00:00\", \"2020-06-09T00:00:00\", \"2020-06-10T00:00:00\", \"2020-06-11T00:00:00\", \"2020-06-12T00:00:00\", \"2020-06-13T00:00:00\", \"2020-06-14T00:00:00\", \"2020-06-15T00:00:00\", \"2020-06-16T00:00:00\", \"2020-06-17T00:00:00\", \"2020-06-18T00:00:00\", \"2020-06-19T00:00:00\", \"2020-06-20T00:00:00\", \"2020-06-21T00:00:00\", \"2020-06-22T00:00:00\", \"2020-06-23T00:00:00\", \"2020-06-24T00:00:00\", \"2020-06-25T00:00:00\", \"2020-06-26T00:00:00\", \"2020-06-27T00:00:00\", \"2020-06-28T00:00:00\", \"2020-06-29T00:00:00\", \"2020-06-30T00:00:00\", \"2020-07-01T00:00:00\", \"2020-07-02T00:00:00\", \"2020-07-03T00:00:00\", \"2020-07-04T00:00:00\", \"2020-07-05T00:00:00\", \"2020-07-06T00:00:00\", \"2020-07-07T00:00:00\", \"2020-07-08T00:00:00\", \"2020-07-09T00:00:00\", \"2020-07-10T00:00:00\", \"2020-07-11T00:00:00\", \"2020-07-12T00:00:00\", \"2020-07-13T00:00:00\", \"2020-07-14T00:00:00\", \"2020-07-15T00:00:00\", \"2020-07-16T00:00:00\", \"2020-07-17T00:00:00\", \"2020-07-18T00:00:00\", \"2020-07-19T00:00:00\", \"2020-07-20T00:00:00\", \"2020-07-21T00:00:00\", \"2020-07-22T00:00:00\", \"2020-07-23T00:00:00\", \"2020-07-24T00:00:00\", \"2020-07-25T00:00:00\", \"2020-07-26T00:00:00\", \"2020-07-27T00:00:00\", \"2020-07-28T00:00:00\", \"2020-07-29T00:00:00\", \"2020-07-30T00:00:00\", \"2020-07-31T00:00:00\", \"2020-08-01T00:00:00\", \"2020-08-02T00:00:00\", \"2020-08-03T00:00:00\", \"2020-08-04T00:00:00\", \"2020-08-05T00:00:00\", \"2020-08-06T00:00:00\", \"2020-08-07T00:00:00\", \"2020-08-08T00:00:00\", \"2020-08-09T00:00:00\", \"2020-08-10T00:00:00\", \"2020-08-11T00:00:00\", \"2020-08-12T00:00:00\", \"2020-08-13T00:00:00\", \"2020-08-14T00:00:00\", \"2020-08-15T00:00:00\", \"2020-08-16T00:00:00\", \"2020-08-23T00:00:00\", \"2020-09-10T00:00:00\", \"2020-09-11T00:00:00\", \"2020-09-12T00:00:00\", \"2020-09-13T00:00:00\", \"2020-09-14T00:00:00\", \"2020-09-15T00:00:00\", \"2020-09-16T00:00:00\", \"2020-09-17T00:00:00\", \"2020-09-18T00:00:00\", \"2020-09-19T00:00:00\", \"2020-09-20T00:00:00\", \"2020-09-21T00:00:00\", \"2020-09-22T00:00:00\", \"2020-09-23T00:00:00\", \"2020-09-24T00:00:00\", \"2020-09-25T00:00:00\", \"2020-09-26T00:00:00\", \"2020-09-27T00:00:00\", \"2020-09-28T00:00:00\", \"2020-09-29T00:00:00\", \"2020-09-30T00:00:00\", \"2020-10-01T00:00:00\", \"2020-10-02T00:00:00\", \"2020-10-03T00:00:00\", \"2020-10-04T00:00:00\", \"2020-10-05T00:00:00\", \"2020-10-06T00:00:00\", \"2020-10-07T00:00:00\", \"2020-10-09T00:00:00\", \"2020-10-10T00:00:00\", \"2020-10-11T00:00:00\", \"2020-10-12T00:00:00\", \"2020-10-13T00:00:00\", \"2020-10-14T00:00:00\", \"2020-10-15T00:00:00\", \"2020-10-16T00:00:00\", \"2020-10-17T00:00:00\", \"2020-10-18T00:00:00\", \"2020-10-19T00:00:00\", \"2020-10-20T00:00:00\", \"2020-10-21T00:00:00\", \"2020-10-22T00:00:00\", \"2020-10-23T00:00:00\", \"2020-10-24T00:00:00\", \"2020-10-25T00:00:00\", \"2020-10-26T00:00:00\", \"2020-10-27T00:00:00\", \"2020-10-28T00:00:00\", \"2020-10-29T00:00:00\", \"2020-10-30T00:00:00\", \"2020-10-31T00:00:00\", \"2020-11-01T00:00:00\", \"2020-11-02T00:00:00\", \"2020-11-03T00:00:00\", \"2020-11-04T00:00:00\", \"2020-11-05T00:00:00\", \"2020-11-06T00:00:00\", \"2020-11-07T00:00:00\", \"2020-11-08T00:00:00\", \"2020-11-09T00:00:00\", \"2020-11-10T00:00:00\", \"2020-11-11T00:00:00\", \"2020-11-12T00:00:00\", \"2020-11-13T00:00:00\", \"2020-11-14T00:00:00\", \"2020-11-15T00:00:00\", \"2020-11-16T00:00:00\", \"2020-11-17T00:00:00\", \"2020-11-18T00:00:00\", \"2020-11-19T00:00:00\", \"2020-11-20T00:00:00\", \"2020-11-21T00:00:00\", \"2020-11-22T00:00:00\", \"2020-11-23T00:00:00\", \"2020-11-24T00:00:00\", \"2020-11-25T00:00:00\", \"2020-11-26T00:00:00\", \"2020-11-27T00:00:00\", \"2020-11-28T00:00:00\", \"2020-11-29T00:00:00\", \"2020-11-30T00:00:00\", \"2020-12-01T00:00:00\", \"2020-12-02T00:00:00\", \"2020-12-03T00:00:00\", \"2020-12-04T00:00:00\", \"2020-12-05T00:00:00\", \"2020-12-06T00:00:00\", \"2020-12-07T00:00:00\", \"2020-12-08T00:00:00\", \"2020-12-09T00:00:00\", \"2020-12-10T00:00:00\", \"2020-12-11T00:00:00\", \"2020-12-12T00:00:00\", \"2020-12-13T00:00:00\", \"2020-12-14T00:00:00\", \"2020-12-15T00:00:00\", \"2020-12-16T00:00:00\", \"2020-12-17T00:00:00\", \"2020-12-18T00:00:00\", \"2020-12-19T00:00:00\", \"2020-12-20T00:00:00\", \"2020-12-21T00:00:00\", \"2020-12-22T00:00:00\", \"2020-12-23T00:00:00\", \"2020-12-24T00:00:00\", \"2020-12-25T00:00:00\", \"2020-12-26T00:00:00\", \"2020-12-27T00:00:00\", \"2020-12-28T00:00:00\"], \"xaxis\": \"x2\", \"y\": [-132.61108790728366, 35.62561088646619, 56.134174459821956, 34.871752590607024, 59.729100513209396, 100.25177818216709, -74.99025262849736, -114.76705236750442, 26.63435581322741, 63.325100824191296, 46.99905768516236, -14.255472310931125, 37.87894504082256, -90.11761972395955, -36.369679065622165, 150.16412926273108, 270.2228531388292, 305.9111984270861, 408.5011620595459, 433.417321291773, 248.5353213285579, 374.61738334898024, 742.3125910811062, 618.2922265310285, 683.7363139089763, 660.383598819614, 682.7169158682802, 554.639312628491, 556.5633634442038, 702.5282614915089, 724.3200387540438, 708.7340726316601, 733.7048785043684, 777.6199281664578, 543.9697561803252, 553.8077323558225, 718.1292499132845, 753.3765716268848, 765.0325197274304, 824.4910842163416, 826.5914800465515, 532.2756168511495, 702.3342980033387, 908.2843603599767, 740.2442210505657, 552.9079590677514, 550.6896138051791, 554.3758833145633, 380.4494495300761, 320.02323890578344, 576.6131543312745, 512.7818791529701, 533.4361157262668, 582.2043883422252, 293.46982765764113, 376.1270765903895, 505.42100146008033, 407.8322258341156, 517.6574164061548, 517.325655953651, 498.3174278442258, 237.71162932980943, 227.79256593201313, 413.6821965073057, 398.4697450421642, 432.9294350698734, 390.696675948698, 412.6906381118371, 144.38027680030478, 131.68780955406578, 426.5194559086518, 388.97256461343966, 360.6300309228967, 363.44571677103653, 392.3866713080252, 164.8134641804435, 133.15793908224808, 350.45937244466154, 323.9359672680779, 345.7205654050169, 362.9589318245544, 400.3073678988713, 167.77557416133916, 90.88287464144493, 562.7374273093363, 351.9401182549602, 330.5430172692938, 328.986779720354, 50.690219295640524, -4.000238774371701, 310.54329870463255, 295.96477579667965, 321.5573293481102, 299.76480742669264, 338.9370012246721, 52.56528562209954, -10.683030023305905, 272.132034705549, 285.99531349349735, 244.96397604169442, 294.8042971615203, 244.7542944039254, -11.204527456870146, -78.18231783740539, 188.57100041559255, 204.4500334646865, 239.04303263322552, 236.9827015005792, 244.37016917019437, -55.77563219102044, -75.94832219587153, 196.30329651871344, 216.52064892970253, 170.79533657226602, 220.66250124937488, 245.220536835661, -33.345063027732, -87.585674800072, 159.34142643827346, 174.15613432416146, 175.46700940594897, 170.8622898365771, 276.32813801778957, 135.35496478511376, -25.955754113495445, 233.22042639793932, 209.5718348309305, 215.12393632712033, 221.9912102744071, 321.44659931429936, -72.23365080588741, -41.139410534002195, 202.88151246796764, 257.18362661496434, 200.14884633883236, 205.02213298167516, 272.9956130707086, -21.179355619327783, -92.57212442910246, 193.4228678602925, 171.70315593303863, 173.7217781899179, 158.6527941238402, 211.8033190309307, -84.60968753101672, -123.48109918890023, 162.34006777838547, 166.10392764945547, 143.06794911272758, 154.8639709910764, 155.2408333716537, -76.74584337745759, -166.03183356802776, 107.22807954890511, 222.91700989988024, 100.32185403005666, 100.71998916716474, 156.3659580904469, -105.3350838844661, -156.20175597076388, 145.93243603135147, 170.71149247931845, 162.81680741061774, 155.56995695219865, 180.8990884033838, -27.767125247371972, -86.15864726451427, -95.4964918819519, 180.41910567977297, 193.0839515997577, -91.36258346336768, -132.50665141163577, 120.32425004577154, 114.46917418495865, 139.06141767997295, 135.5424344698007, 173.35845170256297, -65.77283604609113, -120.5167792464134, 117.36893231779776, 121.29526399354455, 122.45627255024894, 145.18814473434446, 148.83627410321623, -70.29410603498627, -95.93973758438085, 190.01120790122962, 160.61504476373113, 163.72875576955974, 157.73893384108013, 164.63620995070437, -61.733610657070535, -106.2516652843692, 95.86075198138684, 128.18155933550534, 150.63222944232945, 143.47323861715665, -29.88827993739503, -68.05439739432992, 287.17793218438845, 159.5811749695784, 139.74846227135976, 140.02053488466854, 235.66786152612025, -72.04650645562576, -85.64962909507659, 139.79251191685583, 163.57410145338793, 142.59628897360182, 139.98914182311412, 169.8468305289757, -62.257551272429176, -114.34018777396818, 136.76083941563883, 121.95789579951688, 136.92533653608814, 191.56079360946023, 170.4529594668113, -137.9177103312685, -81.82897759687748, 124.84151845304027, 153.24458418410754, 175.7738019838284, 129.9624932636876, 146.2740229042898, -76.52808001243456, -99.88595799464701, 112.18862650799238, 154.6100587189973, 233.4136399644841, 167.65424542189135, 177.0086919084766, -71.8464420080582, -86.68491386364238, 125.07719771545595, 156.26379845487764, 176.00342913078066, 162.85245987749752, 188.5824285059265, -60.64723093067778, -103.17662429353528, 101.39821192895691, 73.05812053174745, 13.026888255070267, 726.9416222312855, 372.45413623688296, -14.224459614741507, -78.6537442306121, 238.88886196218382, 131.9368635809254, 154.79270620088116, 146.42752934457056, 198.36611559536217, -3.0184094980527783, -113.78932996387437, 122.60912634591935, 162.47028094663935, 132.06853083656137, 106.78591539328545, -86.5470991604962, -93.65753758630176, 82.22728082027811, 29.267275578691834, -25.712952758646193, 120.69029762668009, 889.1099670187043, 78.00356279617333, -14.202901165593406, 214.48799418793945, 226.14930000866525, 175.60806595537386, 187.83780155888985, 746.466045443316, 35.421299541912944, 26.82647954968299, 163.6264474961855, 138.35045110074543], \"yaxis\": \"y2\"}, {\"line\": {\"color\": \"#0072B2\", \"width\": 2}, \"mode\": \"lines\", \"name\": \"weekly\", \"type\": \"scatter\", \"x\": [\"2017-01-01T00:00:00\", \"2017-01-02T00:00:00\", \"2017-01-03T00:00:00\", \"2017-01-04T00:00:00\", \"2017-01-05T00:00:00\", \"2017-01-06T00:00:00\", \"2017-01-07T00:00:00\"], \"xaxis\": \"x3\", \"y\": [183.76685546351115, -93.46072754668455, -83.80284601833353, -53.85161152902073, -57.507970434600885, -74.30240733876727, 179.1587074036559], \"yaxis\": \"y3\"}],\n",
              "                        {\"height\": 600, \"showlegend\": false, \"template\": {\"data\": {\"bar\": [{\"error_x\": {\"color\": \"#2a3f5f\"}, \"error_y\": {\"color\": \"#2a3f5f\"}, \"marker\": {\"line\": {\"color\": \"#E5ECF6\", \"width\": 0.5}}, \"type\": \"bar\"}], \"barpolar\": [{\"marker\": {\"line\": {\"color\": \"#E5ECF6\", \"width\": 0.5}}, \"type\": \"barpolar\"}], \"carpet\": [{\"aaxis\": {\"endlinecolor\": \"#2a3f5f\", \"gridcolor\": \"white\", \"linecolor\": \"white\", \"minorgridcolor\": \"white\", \"startlinecolor\": \"#2a3f5f\"}, \"baxis\": {\"endlinecolor\": \"#2a3f5f\", \"gridcolor\": \"white\", \"linecolor\": \"white\", \"minorgridcolor\": \"white\", \"startlinecolor\": \"#2a3f5f\"}, \"type\": \"carpet\"}], \"choropleth\": [{\"colorbar\": {\"outlinewidth\": 0, \"ticks\": \"\"}, \"type\": \"choropleth\"}], \"contour\": [{\"colorbar\": {\"outlinewidth\": 0, \"ticks\": \"\"}, \"colorscale\": [[0.0, \"#0d0887\"], [0.1111111111111111, \"#46039f\"], [0.2222222222222222, \"#7201a8\"], [0.3333333333333333, \"#9c179e\"], [0.4444444444444444, \"#bd3786\"], [0.5555555555555556, \"#d8576b\"], [0.6666666666666666, \"#ed7953\"], [0.7777777777777778, \"#fb9f3a\"], [0.8888888888888888, \"#fdca26\"], [1.0, \"#f0f921\"]], \"type\": \"contour\"}], \"contourcarpet\": [{\"colorbar\": {\"outlinewidth\": 0, \"ticks\": \"\"}, \"type\": \"contourcarpet\"}], \"heatmap\": [{\"colorbar\": {\"outlinewidth\": 0, \"ticks\": \"\"}, \"colorscale\": [[0.0, \"#0d0887\"], [0.1111111111111111, \"#46039f\"], [0.2222222222222222, \"#7201a8\"], [0.3333333333333333, \"#9c179e\"], [0.4444444444444444, \"#bd3786\"], [0.5555555555555556, \"#d8576b\"], [0.6666666666666666, \"#ed7953\"], [0.7777777777777778, \"#fb9f3a\"], [0.8888888888888888, \"#fdca26\"], [1.0, \"#f0f921\"]], \"type\": \"heatmap\"}], \"heatmapgl\": [{\"colorbar\": {\"outlinewidth\": 0, \"ticks\": \"\"}, \"colorscale\": [[0.0, \"#0d0887\"], [0.1111111111111111, \"#46039f\"], [0.2222222222222222, \"#7201a8\"], [0.3333333333333333, \"#9c179e\"], [0.4444444444444444, \"#bd3786\"], [0.5555555555555556, \"#d8576b\"], [0.6666666666666666, \"#ed7953\"], [0.7777777777777778, \"#fb9f3a\"], [0.8888888888888888, \"#fdca26\"], [1.0, \"#f0f921\"]], \"type\": \"heatmapgl\"}], \"histogram\": [{\"marker\": {\"colorbar\": {\"outlinewidth\": 0, \"ticks\": \"\"}}, \"type\": \"histogram\"}], \"histogram2d\": [{\"colorbar\": {\"outlinewidth\": 0, \"ticks\": \"\"}, \"colorscale\": [[0.0, \"#0d0887\"], [0.1111111111111111, \"#46039f\"], [0.2222222222222222, \"#7201a8\"], [0.3333333333333333, \"#9c179e\"], [0.4444444444444444, \"#bd3786\"], [0.5555555555555556, \"#d8576b\"], [0.6666666666666666, \"#ed7953\"], [0.7777777777777778, \"#fb9f3a\"], [0.8888888888888888, \"#fdca26\"], [1.0, \"#f0f921\"]], \"type\": \"histogram2d\"}], \"histogram2dcontour\": [{\"colorbar\": {\"outlinewidth\": 0, \"ticks\": \"\"}, \"colorscale\": [[0.0, \"#0d0887\"], [0.1111111111111111, \"#46039f\"], [0.2222222222222222, \"#7201a8\"], [0.3333333333333333, \"#9c179e\"], [0.4444444444444444, \"#bd3786\"], [0.5555555555555556, \"#d8576b\"], [0.6666666666666666, \"#ed7953\"], [0.7777777777777778, \"#fb9f3a\"], [0.8888888888888888, \"#fdca26\"], [1.0, \"#f0f921\"]], \"type\": \"histogram2dcontour\"}], \"mesh3d\": [{\"colorbar\": {\"outlinewidth\": 0, \"ticks\": \"\"}, \"type\": \"mesh3d\"}], \"parcoords\": [{\"line\": {\"colorbar\": {\"outlinewidth\": 0, \"ticks\": \"\"}}, \"type\": \"parcoords\"}], \"pie\": [{\"automargin\": true, \"type\": \"pie\"}], \"scatter\": [{\"marker\": {\"colorbar\": {\"outlinewidth\": 0, \"ticks\": \"\"}}, \"type\": \"scatter\"}], \"scatter3d\": [{\"line\": {\"colorbar\": {\"outlinewidth\": 0, \"ticks\": \"\"}}, \"marker\": {\"colorbar\": {\"outlinewidth\": 0, \"ticks\": \"\"}}, \"type\": \"scatter3d\"}], \"scattercarpet\": [{\"marker\": {\"colorbar\": {\"outlinewidth\": 0, \"ticks\": \"\"}}, \"type\": \"scattercarpet\"}], \"scattergeo\": [{\"marker\": {\"colorbar\": {\"outlinewidth\": 0, \"ticks\": \"\"}}, \"type\": \"scattergeo\"}], \"scattergl\": [{\"marker\": {\"colorbar\": {\"outlinewidth\": 0, \"ticks\": \"\"}}, \"type\": \"scattergl\"}], \"scattermapbox\": [{\"marker\": {\"colorbar\": {\"outlinewidth\": 0, \"ticks\": \"\"}}, \"type\": \"scattermapbox\"}], \"scatterpolar\": [{\"marker\": {\"colorbar\": {\"outlinewidth\": 0, \"ticks\": \"\"}}, \"type\": \"scatterpolar\"}], \"scatterpolargl\": [{\"marker\": {\"colorbar\": {\"outlinewidth\": 0, \"ticks\": \"\"}}, \"type\": \"scatterpolargl\"}], \"scatterternary\": [{\"marker\": {\"colorbar\": {\"outlinewidth\": 0, \"ticks\": \"\"}}, \"type\": \"scatterternary\"}], \"surface\": [{\"colorbar\": {\"outlinewidth\": 0, \"ticks\": \"\"}, \"colorscale\": [[0.0, \"#0d0887\"], [0.1111111111111111, \"#46039f\"], [0.2222222222222222, \"#7201a8\"], [0.3333333333333333, \"#9c179e\"], [0.4444444444444444, \"#bd3786\"], [0.5555555555555556, \"#d8576b\"], [0.6666666666666666, \"#ed7953\"], [0.7777777777777778, \"#fb9f3a\"], [0.8888888888888888, \"#fdca26\"], [1.0, \"#f0f921\"]], \"type\": \"surface\"}], \"table\": [{\"cells\": {\"fill\": {\"color\": \"#EBF0F8\"}, \"line\": {\"color\": \"white\"}}, \"header\": {\"fill\": {\"color\": \"#C8D4E3\"}, \"line\": {\"color\": \"white\"}}, \"type\": \"table\"}]}, \"layout\": {\"annotationdefaults\": {\"arrowcolor\": \"#2a3f5f\", \"arrowhead\": 0, \"arrowwidth\": 1}, \"coloraxis\": {\"colorbar\": {\"outlinewidth\": 0, \"ticks\": \"\"}}, \"colorscale\": {\"diverging\": [[0, \"#8e0152\"], [0.1, \"#c51b7d\"], [0.2, \"#de77ae\"], [0.3, \"#f1b6da\"], [0.4, \"#fde0ef\"], [0.5, \"#f7f7f7\"], [0.6, \"#e6f5d0\"], [0.7, \"#b8e186\"], [0.8, \"#7fbc41\"], [0.9, \"#4d9221\"], [1, \"#276419\"]], \"sequential\": [[0.0, \"#0d0887\"], [0.1111111111111111, \"#46039f\"], [0.2222222222222222, \"#7201a8\"], [0.3333333333333333, \"#9c179e\"], [0.4444444444444444, \"#bd3786\"], [0.5555555555555556, \"#d8576b\"], [0.6666666666666666, \"#ed7953\"], [0.7777777777777778, \"#fb9f3a\"], [0.8888888888888888, \"#fdca26\"], [1.0, \"#f0f921\"]], \"sequentialminus\": [[0.0, \"#0d0887\"], [0.1111111111111111, \"#46039f\"], [0.2222222222222222, \"#7201a8\"], [0.3333333333333333, \"#9c179e\"], [0.4444444444444444, \"#bd3786\"], [0.5555555555555556, \"#d8576b\"], [0.6666666666666666, \"#ed7953\"], [0.7777777777777778, \"#fb9f3a\"], [0.8888888888888888, \"#fdca26\"], [1.0, \"#f0f921\"]]}, \"colorway\": [\"#636efa\", \"#EF553B\", \"#00cc96\", \"#ab63fa\", \"#FFA15A\", \"#19d3f3\", \"#FF6692\", \"#B6E880\", \"#FF97FF\", \"#FECB52\"], \"font\": {\"color\": \"#2a3f5f\"}, \"geo\": {\"bgcolor\": \"white\", \"lakecolor\": \"white\", \"landcolor\": \"#E5ECF6\", \"showlakes\": true, \"showland\": true, \"subunitcolor\": \"white\"}, \"hoverlabel\": {\"align\": \"left\"}, \"hovermode\": \"closest\", \"mapbox\": {\"style\": \"light\"}, \"paper_bgcolor\": \"white\", \"plot_bgcolor\": \"#E5ECF6\", \"polar\": {\"angularaxis\": {\"gridcolor\": \"white\", \"linecolor\": \"white\", \"ticks\": \"\"}, \"bgcolor\": \"#E5ECF6\", \"radialaxis\": {\"gridcolor\": \"white\", \"linecolor\": \"white\", \"ticks\": \"\"}}, \"scene\": {\"xaxis\": {\"backgroundcolor\": \"#E5ECF6\", \"gridcolor\": \"white\", \"gridwidth\": 2, \"linecolor\": \"white\", \"showbackground\": true, \"ticks\": \"\", \"zerolinecolor\": \"white\"}, \"yaxis\": {\"backgroundcolor\": \"#E5ECF6\", \"gridcolor\": \"white\", \"gridwidth\": 2, \"linecolor\": \"white\", \"showbackground\": true, \"ticks\": \"\", \"zerolinecolor\": \"white\"}, \"zaxis\": {\"backgroundcolor\": \"#E5ECF6\", \"gridcolor\": \"white\", \"gridwidth\": 2, \"linecolor\": \"white\", \"showbackground\": true, \"ticks\": \"\", \"zerolinecolor\": \"white\"}}, \"shapedefaults\": {\"line\": {\"color\": \"#2a3f5f\"}}, \"ternary\": {\"aaxis\": {\"gridcolor\": \"white\", \"linecolor\": \"white\", \"ticks\": \"\"}, \"baxis\": {\"gridcolor\": \"white\", \"linecolor\": \"white\", \"ticks\": \"\"}, \"bgcolor\": \"#E5ECF6\", \"caxis\": {\"gridcolor\": \"white\", \"linecolor\": \"white\", \"ticks\": \"\"}}, \"title\": {\"x\": 0.05}, \"xaxis\": {\"automargin\": true, \"gridcolor\": \"white\", \"linecolor\": \"white\", \"ticks\": \"\", \"title\": {\"standoff\": 15}, \"zerolinecolor\": \"white\", \"zerolinewidth\": 2}, \"yaxis\": {\"automargin\": true, \"gridcolor\": \"white\", \"linecolor\": \"white\", \"ticks\": \"\", \"title\": {\"standoff\": 15}, \"zerolinecolor\": \"white\", \"zerolinewidth\": 2}}}, \"width\": 900, \"xaxis\": {\"anchor\": \"y\", \"domain\": [0.0, 1.0], \"range\": [\"2020-02-14T21:36:00\", \"2021-01-12T02:24:00\"], \"type\": \"date\"}, \"xaxis2\": {\"anchor\": \"y2\", \"domain\": [0.0, 1.0], \"range\": [\"2020-02-14T21:36:00\", \"2021-01-12T02:24:00\"], \"type\": \"date\"}, \"xaxis3\": {\"anchor\": \"y3\", \"domain\": [0.0, 1.0], \"range\": [\"2016-12-31T16:48:00\", \"2017-01-07T07:12:00\"], \"tickformat\": \"%A\", \"type\": \"date\"}, \"yaxis\": {\"anchor\": \"x\", \"domain\": [0.7333333333333333, 1.0], \"rangemode\": \"normal\", \"title\": {\"text\": \"trend\"}, \"zerolinecolor\": \"#AAA\"}, \"yaxis2\": {\"anchor\": \"x2\", \"domain\": [0.36666666666666664, 0.6333333333333333], \"rangemode\": \"tozero\", \"title\": {\"text\": \"extra_regressors_additive\"}, \"zerolinecolor\": \"#AAA\"}, \"yaxis3\": {\"anchor\": \"x3\", \"domain\": [0.0, 0.26666666666666666], \"title\": {\"text\": \"weekly\"}, \"zerolinecolor\": \"#AAA\"}},\n",
              "                        {\"responsive\": true}\n",
              "                    ).then(function(){\n",
              "                            \n",
              "var gd = document.getElementById('09bde5b8-93e9-4fff-8289-f1cf42755cba');\n",
              "var x = new MutationObserver(function (mutations, observer) {{\n",
              "        var display = window.getComputedStyle(gd).display;\n",
              "        if (!display || display === 'none') {{\n",
              "            console.log([gd, 'removed!']);\n",
              "            Plotly.purge(gd);\n",
              "            observer.disconnect();\n",
              "        }}\n",
              "}});\n",
              "\n",
              "// Listen for the removal of the full notebook cells\n",
              "var notebookContainer = gd.closest('#notebook-container');\n",
              "if (notebookContainer) {{\n",
              "    x.observe(notebookContainer, {childList: true});\n",
              "}}\n",
              "\n",
              "// Listen for the clearing of the current output cell\n",
              "var outputEl = gd.closest('.output');\n",
              "if (outputEl) {{\n",
              "    x.observe(outputEl, {childList: true});\n",
              "}}\n",
              "\n",
              "                        })\n",
              "                };\n",
              "                \n",
              "            </script>\n",
              "        </div>\n",
              "</body>\n",
              "</html>"
            ]
          },
          "metadata": {
            "tags": []
          }
        }
      ]
    },
    {
      "cell_type": "code",
      "metadata": {
        "id": "23ZEozYOJ3PY",
        "colab": {
          "base_uri": "https://localhost:8080/",
          "height": 617
        },
        "outputId": "9b761f04-3995-417f-da08-e97f67af24fd"
      },
      "source": [
        "plot_plotly(m, forecast)"
      ],
      "execution_count": 27,
      "outputs": [
        {
          "output_type": "display_data",
          "data": {
            "text/html": [
              "<html>\n",
              "<head><meta charset=\"utf-8\" /></head>\n",
              "<body>\n",
              "    <div>\n",
              "            <script src=\"https://cdnjs.cloudflare.com/ajax/libs/mathjax/2.7.5/MathJax.js?config=TeX-AMS-MML_SVG\"></script><script type=\"text/javascript\">if (window.MathJax) {MathJax.Hub.Config({SVG: {font: \"STIX-Web\"}});}</script>\n",
              "                <script type=\"text/javascript\">window.PlotlyConfig = {MathJaxConfig: 'local'};</script>\n",
              "        <script src=\"https://cdn.plot.ly/plotly-latest.min.js\"></script>    \n",
              "            <div id=\"936034ad-233b-410d-a806-9bef9e8a76a3\" class=\"plotly-graph-div\" style=\"height:600px; width:900px;\"></div>\n",
              "            <script type=\"text/javascript\">\n",
              "                \n",
              "                    window.PLOTLYENV=window.PLOTLYENV || {};\n",
              "                    \n",
              "                if (document.getElementById(\"936034ad-233b-410d-a806-9bef9e8a76a3\")) {\n",
              "                    Plotly.newPlot(\n",
              "                        '936034ad-233b-410d-a806-9bef9e8a76a3',\n",
              "                        [{\"marker\": {\"color\": \"black\", \"size\": 4}, \"mode\": \"markers\", \"name\": \"Actual\", \"type\": \"scatter\", \"x\": [\"2020-03-01T00:00:00\", \"2020-03-02T00:00:00\", \"2020-03-03T00:00:00\", \"2020-03-04T00:00:00\", \"2020-03-05T00:00:00\", \"2020-03-06T00:00:00\", \"2020-03-07T00:00:00\", \"2020-03-08T00:00:00\", \"2020-03-09T00:00:00\", \"2020-03-10T00:00:00\", \"2020-03-11T00:00:00\", \"2020-03-12T00:00:00\", \"2020-03-13T00:00:00\", \"2020-03-14T00:00:00\", \"2020-03-15T00:00:00\", \"2020-03-16T00:00:00\", \"2020-03-17T00:00:00\", \"2020-03-18T00:00:00\", \"2020-03-19T00:00:00\", \"2020-03-20T00:00:00\", \"2020-03-21T00:00:00\", \"2020-03-22T00:00:00\", \"2020-03-23T00:00:00\", \"2020-03-24T00:00:00\", \"2020-03-25T00:00:00\", \"2020-03-26T00:00:00\", \"2020-03-27T00:00:00\", \"2020-03-28T00:00:00\", \"2020-03-29T00:00:00\", \"2020-03-30T00:00:00\", \"2020-03-31T00:00:00\", \"2020-04-01T00:00:00\", \"2020-04-02T00:00:00\", \"2020-04-03T00:00:00\", \"2020-04-04T00:00:00\", \"2020-04-05T00:00:00\", \"2020-04-06T00:00:00\", \"2020-04-07T00:00:00\", \"2020-04-08T00:00:00\", \"2020-04-09T00:00:00\", \"2020-04-10T00:00:00\", \"2020-04-11T00:00:00\", \"2020-04-12T00:00:00\", \"2020-04-13T00:00:00\", \"2020-04-14T00:00:00\", \"2020-04-15T00:00:00\", \"2020-04-16T00:00:00\", \"2020-04-17T00:00:00\", \"2020-04-18T00:00:00\", \"2020-04-19T00:00:00\", \"2020-04-21T00:00:00\", \"2020-04-22T00:00:00\", \"2020-04-23T00:00:00\", \"2020-04-24T00:00:00\", \"2020-04-25T00:00:00\", \"2020-04-26T00:00:00\", \"2020-04-27T00:00:00\", \"2020-04-28T00:00:00\", \"2020-04-29T00:00:00\", \"2020-04-30T00:00:00\", \"2020-05-01T00:00:00\", \"2020-05-02T00:00:00\", \"2020-05-03T00:00:00\", \"2020-05-04T00:00:00\", \"2020-05-05T00:00:00\", \"2020-05-06T00:00:00\", \"2020-05-07T00:00:00\", \"2020-05-08T00:00:00\", \"2020-05-09T00:00:00\", \"2020-05-10T00:00:00\", \"2020-05-11T00:00:00\", \"2020-05-12T00:00:00\", \"2020-05-13T00:00:00\", \"2020-05-14T00:00:00\", \"2020-05-15T00:00:00\", \"2020-05-16T00:00:00\", \"2020-05-17T00:00:00\", \"2020-05-18T00:00:00\", \"2020-05-19T00:00:00\", \"2020-05-20T00:00:00\", \"2020-05-21T00:00:00\", \"2020-05-22T00:00:00\", \"2020-05-23T00:00:00\", \"2020-05-24T00:00:00\", \"2020-05-25T00:00:00\", \"2020-05-26T00:00:00\", \"2020-05-27T00:00:00\", \"2020-05-28T00:00:00\", \"2020-05-30T00:00:00\", \"2020-05-31T00:00:00\", \"2020-06-01T00:00:00\", \"2020-06-02T00:00:00\", \"2020-06-03T00:00:00\", \"2020-06-04T00:00:00\", \"2020-06-05T00:00:00\", \"2020-06-06T00:00:00\", \"2020-06-07T00:00:00\", \"2020-06-08T00:00:00\", \"2020-06-09T00:00:00\", \"2020-06-10T00:00:00\", \"2020-06-11T00:00:00\", \"2020-06-12T00:00:00\", \"2020-06-13T00:00:00\", \"2020-06-14T00:00:00\", \"2020-06-15T00:00:00\", \"2020-06-16T00:00:00\", \"2020-06-17T00:00:00\", \"2020-06-18T00:00:00\", \"2020-06-19T00:00:00\", \"2020-06-20T00:00:00\", \"2020-06-21T00:00:00\", \"2020-06-22T00:00:00\", \"2020-06-23T00:00:00\", \"2020-06-24T00:00:00\", \"2020-06-25T00:00:00\", \"2020-06-26T00:00:00\", \"2020-06-27T00:00:00\", \"2020-06-28T00:00:00\", \"2020-06-29T00:00:00\", \"2020-06-30T00:00:00\", \"2020-07-01T00:00:00\", \"2020-07-02T00:00:00\", \"2020-07-03T00:00:00\", \"2020-07-04T00:00:00\", \"2020-07-05T00:00:00\", \"2020-07-06T00:00:00\", \"2020-07-07T00:00:00\", \"2020-07-08T00:00:00\", \"2020-07-09T00:00:00\", \"2020-07-10T00:00:00\", \"2020-07-11T00:00:00\", \"2020-07-12T00:00:00\", \"2020-07-13T00:00:00\", \"2020-07-14T00:00:00\", \"2020-07-15T00:00:00\", \"2020-07-16T00:00:00\", \"2020-07-17T00:00:00\", \"2020-07-18T00:00:00\", \"2020-07-19T00:00:00\", \"2020-07-20T00:00:00\", \"2020-07-21T00:00:00\", \"2020-07-22T00:00:00\", \"2020-07-23T00:00:00\", \"2020-07-24T00:00:00\", \"2020-07-25T00:00:00\", \"2020-07-26T00:00:00\", \"2020-07-27T00:00:00\", \"2020-07-28T00:00:00\", \"2020-07-29T00:00:00\", \"2020-07-30T00:00:00\", \"2020-07-31T00:00:00\", \"2020-08-01T00:00:00\", \"2020-08-02T00:00:00\", \"2020-08-03T00:00:00\", \"2020-08-04T00:00:00\", \"2020-08-05T00:00:00\", \"2020-08-06T00:00:00\", \"2020-08-07T00:00:00\", \"2020-08-08T00:00:00\", \"2020-08-09T00:00:00\", \"2020-08-10T00:00:00\", \"2020-08-11T00:00:00\", \"2020-08-12T00:00:00\", \"2020-08-13T00:00:00\", \"2020-08-14T00:00:00\", \"2020-08-15T00:00:00\", \"2020-08-16T00:00:00\", \"2020-08-23T00:00:00\", \"2020-09-10T00:00:00\", \"2020-09-11T00:00:00\", \"2020-09-12T00:00:00\", \"2020-09-13T00:00:00\", \"2020-09-14T00:00:00\", \"2020-09-15T00:00:00\", \"2020-09-16T00:00:00\", \"2020-09-17T00:00:00\", \"2020-09-18T00:00:00\", \"2020-09-19T00:00:00\", \"2020-09-20T00:00:00\", \"2020-09-21T00:00:00\", \"2020-09-22T00:00:00\", \"2020-09-23T00:00:00\", \"2020-09-24T00:00:00\", \"2020-09-25T00:00:00\", \"2020-09-26T00:00:00\", \"2020-09-27T00:00:00\", \"2020-09-28T00:00:00\", \"2020-09-29T00:00:00\", \"2020-09-30T00:00:00\", \"2020-10-01T00:00:00\", \"2020-10-02T00:00:00\", \"2020-10-03T00:00:00\", \"2020-10-04T00:00:00\", \"2020-10-05T00:00:00\", \"2020-10-06T00:00:00\", \"2020-10-07T00:00:00\", \"2020-10-09T00:00:00\", \"2020-10-10T00:00:00\", \"2020-10-11T00:00:00\", \"2020-10-12T00:00:00\", \"2020-10-13T00:00:00\", \"2020-10-14T00:00:00\", \"2020-10-15T00:00:00\", \"2020-10-16T00:00:00\", \"2020-10-17T00:00:00\", \"2020-10-18T00:00:00\", \"2020-10-19T00:00:00\", \"2020-10-20T00:00:00\", \"2020-10-21T00:00:00\", \"2020-10-22T00:00:00\", \"2020-10-23T00:00:00\", \"2020-10-24T00:00:00\", \"2020-10-25T00:00:00\", \"2020-10-26T00:00:00\", \"2020-10-27T00:00:00\", \"2020-10-28T00:00:00\", \"2020-10-29T00:00:00\", \"2020-10-30T00:00:00\", \"2020-10-31T00:00:00\", \"2020-11-01T00:00:00\", \"2020-11-02T00:00:00\"], \"y\": [9, 9, 9, 9, 10, 9, 12, 10, 21, 11, 18, 22, 19, 26, 20, 39, 40, 147, 103, 374, 454, 568, 497, 411, 401, 545, 605, 648, 658, 655, 736, 685, 694, 777, 763, 703, 742, 681, 816, 792, 769, 710, 673, 630, 653, 781, 706, 617, 553, 639, 388, 451, 507, 553, 694, 597, 339, 227, 404, 345, 310, 351, 267, 192, 194, 205, 249, 226, 223, 196, 129, 106, 162, 165, 130, 178, 112, 98, 79, 82, 128, 130, 127, 120, 79, 76, 69, 115, 90, 98, 92, 102, 81, 78, 93, 65, 60, 52, 42, 44, 54, 63, 67, 41, 45, 59, 39, 38, 47, 65, 45, 43, 40, 50, 70, 47, 50, 38, 35, 36, 55, 66, 46, 50, 52, 31, 44, 43, 51, 77, 44, 49, 56, 78, 48, 53, 58, 48, 37, 65, 60, 45, 60, 53, 64, 54, 66, 51, 50, 67, 54, 77, 60, 67, 65, 55, 61, 55, 57, 36, 44, 43, 46, 43, 54, 60, 47, 49, 82, 114, 92, 87, 61, 86, 75, 92, 72, 111, 73, 50, 75, 72, 55, 80, 80, 76, 77, 89, 75, 81, 114, 142, 88, 65, 99, 133, 89, 114, 101, 74, 110, 94, 97, 114, 126, 111, 70, 83, 142, 86, 110, 170, 118, 74, 128, 176, 185, 175, 160, 145, 122]}, {\"hoverinfo\": \"skip\", \"line\": {\"width\": 0}, \"mode\": \"lines\", \"type\": \"scatter\", \"x\": [\"2020-03-01T00:00:00\", \"2020-03-02T00:00:00\", \"2020-03-03T00:00:00\", \"2020-03-04T00:00:00\", \"2020-03-05T00:00:00\", \"2020-03-06T00:00:00\", \"2020-03-07T00:00:00\", \"2020-03-08T00:00:00\", \"2020-03-09T00:00:00\", \"2020-03-10T00:00:00\", \"2020-03-11T00:00:00\", \"2020-03-12T00:00:00\", \"2020-03-13T00:00:00\", \"2020-03-14T00:00:00\", \"2020-03-15T00:00:00\", \"2020-03-16T00:00:00\", \"2020-03-17T00:00:00\", \"2020-03-18T00:00:00\", \"2020-03-19T00:00:00\", \"2020-03-20T00:00:00\", \"2020-03-21T00:00:00\", \"2020-03-22T00:00:00\", \"2020-03-23T00:00:00\", \"2020-03-24T00:00:00\", \"2020-03-25T00:00:00\", \"2020-03-26T00:00:00\", \"2020-03-27T00:00:00\", \"2020-03-28T00:00:00\", \"2020-03-29T00:00:00\", \"2020-03-30T00:00:00\", \"2020-03-31T00:00:00\", \"2020-04-01T00:00:00\", \"2020-04-02T00:00:00\", \"2020-04-03T00:00:00\", \"2020-04-04T00:00:00\", \"2020-04-05T00:00:00\", \"2020-04-06T00:00:00\", \"2020-04-07T00:00:00\", \"2020-04-08T00:00:00\", \"2020-04-09T00:00:00\", \"2020-04-10T00:00:00\", \"2020-04-11T00:00:00\", \"2020-04-12T00:00:00\", \"2020-04-13T00:00:00\", \"2020-04-14T00:00:00\", \"2020-04-15T00:00:00\", \"2020-04-16T00:00:00\", \"2020-04-17T00:00:00\", \"2020-04-18T00:00:00\", \"2020-04-19T00:00:00\", \"2020-04-21T00:00:00\", \"2020-04-22T00:00:00\", \"2020-04-23T00:00:00\", \"2020-04-24T00:00:00\", \"2020-04-25T00:00:00\", \"2020-04-26T00:00:00\", \"2020-04-27T00:00:00\", \"2020-04-28T00:00:00\", \"2020-04-29T00:00:00\", \"2020-04-30T00:00:00\", \"2020-05-01T00:00:00\", \"2020-05-02T00:00:00\", \"2020-05-03T00:00:00\", \"2020-05-04T00:00:00\", \"2020-05-05T00:00:00\", \"2020-05-06T00:00:00\", \"2020-05-07T00:00:00\", \"2020-05-08T00:00:00\", \"2020-05-09T00:00:00\", \"2020-05-10T00:00:00\", \"2020-05-11T00:00:00\", \"2020-05-12T00:00:00\", \"2020-05-13T00:00:00\", \"2020-05-14T00:00:00\", \"2020-05-15T00:00:00\", \"2020-05-16T00:00:00\", \"2020-05-17T00:00:00\", \"2020-05-18T00:00:00\", \"2020-05-19T00:00:00\", \"2020-05-20T00:00:00\", \"2020-05-21T00:00:00\", \"2020-05-22T00:00:00\", \"2020-05-23T00:00:00\", \"2020-05-24T00:00:00\", \"2020-05-25T00:00:00\", \"2020-05-26T00:00:00\", \"2020-05-27T00:00:00\", \"2020-05-28T00:00:00\", \"2020-05-30T00:00:00\", \"2020-05-31T00:00:00\", \"2020-06-01T00:00:00\", \"2020-06-02T00:00:00\", \"2020-06-03T00:00:00\", \"2020-06-04T00:00:00\", \"2020-06-05T00:00:00\", \"2020-06-06T00:00:00\", \"2020-06-07T00:00:00\", \"2020-06-08T00:00:00\", \"2020-06-09T00:00:00\", \"2020-06-10T00:00:00\", \"2020-06-11T00:00:00\", \"2020-06-12T00:00:00\", \"2020-06-13T00:00:00\", \"2020-06-14T00:00:00\", \"2020-06-15T00:00:00\", \"2020-06-16T00:00:00\", \"2020-06-17T00:00:00\", \"2020-06-18T00:00:00\", \"2020-06-19T00:00:00\", \"2020-06-20T00:00:00\", \"2020-06-21T00:00:00\", \"2020-06-22T00:00:00\", \"2020-06-23T00:00:00\", \"2020-06-24T00:00:00\", \"2020-06-25T00:00:00\", \"2020-06-26T00:00:00\", \"2020-06-27T00:00:00\", \"2020-06-28T00:00:00\", \"2020-06-29T00:00:00\", \"2020-06-30T00:00:00\", \"2020-07-01T00:00:00\", \"2020-07-02T00:00:00\", \"2020-07-03T00:00:00\", \"2020-07-04T00:00:00\", \"2020-07-05T00:00:00\", \"2020-07-06T00:00:00\", \"2020-07-07T00:00:00\", \"2020-07-08T00:00:00\", \"2020-07-09T00:00:00\", \"2020-07-10T00:00:00\", \"2020-07-11T00:00:00\", \"2020-07-12T00:00:00\", \"2020-07-13T00:00:00\", \"2020-07-14T00:00:00\", \"2020-07-15T00:00:00\", \"2020-07-16T00:00:00\", \"2020-07-17T00:00:00\", \"2020-07-18T00:00:00\", \"2020-07-19T00:00:00\", \"2020-07-20T00:00:00\", \"2020-07-21T00:00:00\", \"2020-07-22T00:00:00\", \"2020-07-23T00:00:00\", \"2020-07-24T00:00:00\", \"2020-07-25T00:00:00\", \"2020-07-26T00:00:00\", \"2020-07-27T00:00:00\", \"2020-07-28T00:00:00\", \"2020-07-29T00:00:00\", \"2020-07-30T00:00:00\", \"2020-07-31T00:00:00\", \"2020-08-01T00:00:00\", \"2020-08-02T00:00:00\", \"2020-08-03T00:00:00\", \"2020-08-04T00:00:00\", \"2020-08-05T00:00:00\", \"2020-08-06T00:00:00\", \"2020-08-07T00:00:00\", \"2020-08-08T00:00:00\", \"2020-08-09T00:00:00\", \"2020-08-10T00:00:00\", \"2020-08-11T00:00:00\", \"2020-08-12T00:00:00\", \"2020-08-13T00:00:00\", \"2020-08-14T00:00:00\", \"2020-08-15T00:00:00\", \"2020-08-16T00:00:00\", \"2020-08-23T00:00:00\", \"2020-09-10T00:00:00\", \"2020-09-11T00:00:00\", \"2020-09-12T00:00:00\", \"2020-09-13T00:00:00\", \"2020-09-14T00:00:00\", \"2020-09-15T00:00:00\", \"2020-09-16T00:00:00\", \"2020-09-17T00:00:00\", \"2020-09-18T00:00:00\", \"2020-09-19T00:00:00\", \"2020-09-20T00:00:00\", \"2020-09-21T00:00:00\", \"2020-09-22T00:00:00\", \"2020-09-23T00:00:00\", \"2020-09-24T00:00:00\", \"2020-09-25T00:00:00\", \"2020-09-26T00:00:00\", \"2020-09-27T00:00:00\", \"2020-09-28T00:00:00\", \"2020-09-29T00:00:00\", \"2020-09-30T00:00:00\", \"2020-10-01T00:00:00\", \"2020-10-02T00:00:00\", \"2020-10-03T00:00:00\", \"2020-10-04T00:00:00\", \"2020-10-05T00:00:00\", \"2020-10-06T00:00:00\", \"2020-10-07T00:00:00\", \"2020-10-09T00:00:00\", \"2020-10-10T00:00:00\", \"2020-10-11T00:00:00\", \"2020-10-12T00:00:00\", \"2020-10-13T00:00:00\", \"2020-10-14T00:00:00\", \"2020-10-15T00:00:00\", \"2020-10-16T00:00:00\", \"2020-10-17T00:00:00\", \"2020-10-18T00:00:00\", \"2020-10-19T00:00:00\", \"2020-10-20T00:00:00\", \"2020-10-21T00:00:00\", \"2020-10-22T00:00:00\", \"2020-10-23T00:00:00\", \"2020-10-24T00:00:00\", \"2020-10-25T00:00:00\", \"2020-10-26T00:00:00\", \"2020-10-27T00:00:00\", \"2020-10-28T00:00:00\", \"2020-10-29T00:00:00\", \"2020-10-30T00:00:00\", \"2020-10-31T00:00:00\", \"2020-11-01T00:00:00\", \"2020-11-02T00:00:00\", \"2020-11-03T00:00:00\", \"2020-11-04T00:00:00\", \"2020-11-05T00:00:00\", \"2020-11-06T00:00:00\", \"2020-11-07T00:00:00\", \"2020-11-08T00:00:00\", \"2020-11-09T00:00:00\", \"2020-11-10T00:00:00\", \"2020-11-11T00:00:00\", \"2020-11-12T00:00:00\", \"2020-11-13T00:00:00\", \"2020-11-14T00:00:00\", \"2020-11-15T00:00:00\", \"2020-11-16T00:00:00\", \"2020-11-17T00:00:00\", \"2020-11-18T00:00:00\", \"2020-11-19T00:00:00\", \"2020-11-20T00:00:00\", \"2020-11-21T00:00:00\", \"2020-11-22T00:00:00\", \"2020-11-23T00:00:00\", \"2020-11-24T00:00:00\", \"2020-11-25T00:00:00\", \"2020-11-26T00:00:00\", \"2020-11-27T00:00:00\", \"2020-11-28T00:00:00\", \"2020-11-29T00:00:00\", \"2020-11-30T00:00:00\", \"2020-12-01T00:00:00\", \"2020-12-02T00:00:00\", \"2020-12-03T00:00:00\", \"2020-12-04T00:00:00\", \"2020-12-05T00:00:00\", \"2020-12-06T00:00:00\", \"2020-12-07T00:00:00\", \"2020-12-08T00:00:00\", \"2020-12-09T00:00:00\", \"2020-12-10T00:00:00\", \"2020-12-11T00:00:00\", \"2020-12-12T00:00:00\", \"2020-12-13T00:00:00\", \"2020-12-14T00:00:00\", \"2020-12-15T00:00:00\", \"2020-12-16T00:00:00\", \"2020-12-17T00:00:00\", \"2020-12-18T00:00:00\", \"2020-12-19T00:00:00\", \"2020-12-20T00:00:00\", \"2020-12-21T00:00:00\", \"2020-12-22T00:00:00\", \"2020-12-23T00:00:00\", \"2020-12-24T00:00:00\", \"2020-12-25T00:00:00\", \"2020-12-26T00:00:00\", \"2020-12-27T00:00:00\", \"2020-12-28T00:00:00\"], \"y\": [-35.19948440498659, -139.7227827503121, -121.61620849680018, -114.42800241862594, -91.22084721362127, -79.12442682164834, 4.616482041148076, -24.825102205975902, -166.9506919328693, -120.7091079386422, -105.39464347073523, -171.73465833250606, -132.00376026317792, -13.939633807704825, 42.46112609852179, -45.502121434467014, 67.94897934468533, 138.28886151779685, 237.51191325123304, 246.6562296339376, 318.1845427873382, 444.85019183293326, 527.6134106874233, 412.0189059068893, 510.19194384938714, 475.2078105476043, 481.33900762877926, 616.6299473903864, 610.6561984453815, 480.3695220307223, 512.3829051080689, 518.4243058412145, 545.2196294228094, 566.9386437301737, 584.0261601538219, 600.8192616801588, 486.25327374874587, 526.5034467230545, 569.1262070348105, 623.0969971929543, 611.043652290841, 566.9346408436736, 738.4589689486961, 669.3354632979033, 510.3217096698279, 359.1327886509214, 339.15654065236157, 332.3537399919001, 411.8733716704909, 343.89247076658853, 338.15801224141615, 296.8117101217717, 310.5078687319234, 343.14922785580836, 314.06728295865184, 393.0514315622472, 249.02380852061205, 164.153997757824, 290.78652654680434, 283.12119215628394, 250.6892571025933, 241.6583990660046, 234.61305757630262, 145.72834575243107, 135.1665752745862, 207.15638739299615, 150.10503810895284, 158.72099838756074, 138.4048170023572, 125.73749486354666, 144.4590136541536, 123.80710932045764, 114.77216349244458, 120.38542329114087, 130.39091373584318, 156.61316834147436, 124.27892070703578, 61.66495547120965, 43.23759153659829, 91.02035351736518, 104.23814449908281, 122.85707189772809, 143.0897170731979, 75.68400278928976, 263.4393994585311, 64.07598179742183, 65.53909783948558, 59.34190176909252, 18.391775913331053, -33.01539108815193, 3.6219323195105617, -8.069649096959157, 51.86879135732618, 27.05202407517384, 46.69788606327866, 16.290308794745414, -37.79720385808158, -36.771594947032966, -0.9645727477452974, -16.49110968241163, 28.294439773989772, -33.131239003274366, -30.592144768710877, -100.59989908133777, -102.33578048115342, -81.98872093039533, -18.13416330077207, -34.49176071538304, -30.412404217145255, -74.07068293255156, -88.29861736824265, -91.951451471843, -63.24945561783317, -76.87608154861715, -29.42355148722055, -23.941769439977175, -39.18035948894422, -99.11818279934907, -117.77911643048819, -93.86133968330978, -67.1859443215522, -78.58750141546453, 26.322659716190856, 135.74793710719732, -22.697963263329463, -42.49790046131926, -54.31929676567437, -12.579251678717611, -8.9299649866878, 60.15742578029453, -57.36387164217937, -37.360005923551846, -56.98089147547253, 3.0610968765608253, -24.74892396314147, -21.08454387340377, 35.28927914355314, -5.401428342911815, -75.14034958487257, -60.27505750573306, -74.12865915269604, -35.55988532976389, -63.1900470491428, -23.803309783913004, -69.63573453439457, -91.54438381200697, -88.8491594744126, -71.33854417038935, -63.61223762821251, -62.41196388860754, -71.28526405565333, -52.45276952738543, -134.92824724790768, -134.4593370710695, -6.725400637119952, -105.551399023314, -103.2280387833076, -63.18544363877794, -71.86272598369365, -117.18980642530397, -94.40482106549811, -56.643614530918306, -26.819323972025405, -33.74967437105392, -30.09895327827741, 8.56069549321775, -39.492299459654234, -37.53664158427888, 13.400988502370414, 17.423867613942058, -16.73932792114413, -47.60616049960941, -75.6955997266177, -65.80725597652491, -5.44074825337524, -21.628869961230325, 2.760512310492559, 15.629727095441616, -34.52301026428905, -72.80012196322791, -64.51359767597867, -28.738493242073133, -1.5317300002285517, -17.09126186514138, 32.00704448782296, -1.9247657997880756, 8.86007372865596, -14.57473093216003, 30.135364022265474, 17.539943216436495, 9.35245486354373, 29.156189180083224, -4.037409360626142, -74.70994203797429, -33.62057076546692, 14.768382821207476, -6.7228337044120074, 71.99300597666672, 41.08720164025187, 119.61921727041255, 0.7509936207162313, 8.063271976783094, 4.546187440263925, 97.24957053923656, 39.769672254228, 31.65154961521078, -11.868164253248652, 7.066421419844406, 29.17229718465102, 18.48000541243771, 37.96450227411339, 56.62579735194761, 8.329300665917588, -13.169739422782465, -17.73170676541801, 22.392918592670227, 82.46692823871798, 43.15652347303113, -9.709611137822591, 50.585234979960305, -23.15619140881791, 19.390901084465426, 73.7248154328174, 22.146618474328832, 25.58659013269551, 55.16635628289607, 49.84482261292831, -30.657575376101818, 31.480301936688452, 145.25744758572512, 68.84890392796414, 69.02584869263826, 73.61421763061178, 69.49001831279118, -8.5218126870297, 38.68832529623075, 90.43943812074187, 74.49122812548441, 87.69591732580456, 85.58921697763046, 58.969743913014184, -14.821157483755728, -26.485484873645618, -63.187673557597414, 642.0962549743678, 275.8453283180264, 149.1286853778348, 86.40704280497499, 126.56476063181194, 32.34367144851308, 83.80823882009504, 74.54278180530977, 104.60755023231461, 162.701675601359, 54.61526557275254, 20.53186008476977, 71.2343032278426, 70.09042678349202, 37.438284155453985, -166.72071743470542, 78.85198245582852, 269.1728526189255, -63.24870281345016, -113.65560502135578, 63.846253771046634, 831.0086600456124, -5.322669264593872, 163.61599888916064, 408.42521494803447, 127.58549077229172, 100.8029711302754, 135.79233939606013, 691.9418193985787, -30.919425073389842, 219.82587810712175, 354.9691841438216, 62.974286950821195]}, {\"fill\": \"tonexty\", \"fillcolor\": \"rgba(0, 114, 178, 0.2)\", \"line\": {\"color\": \"#0072B2\", \"width\": 2}, \"mode\": \"lines\", \"name\": \"Predicted\", \"type\": \"scatter\", \"x\": [\"2020-03-01T00:00:00\", \"2020-03-02T00:00:00\", \"2020-03-03T00:00:00\", \"2020-03-04T00:00:00\", \"2020-03-05T00:00:00\", \"2020-03-06T00:00:00\", \"2020-03-07T00:00:00\", \"2020-03-08T00:00:00\", \"2020-03-09T00:00:00\", \"2020-03-10T00:00:00\", \"2020-03-11T00:00:00\", \"2020-03-12T00:00:00\", \"2020-03-13T00:00:00\", \"2020-03-14T00:00:00\", \"2020-03-15T00:00:00\", \"2020-03-16T00:00:00\", \"2020-03-17T00:00:00\", \"2020-03-18T00:00:00\", \"2020-03-19T00:00:00\", \"2020-03-20T00:00:00\", \"2020-03-21T00:00:00\", \"2020-03-22T00:00:00\", \"2020-03-23T00:00:00\", \"2020-03-24T00:00:00\", \"2020-03-25T00:00:00\", \"2020-03-26T00:00:00\", \"2020-03-27T00:00:00\", \"2020-03-28T00:00:00\", \"2020-03-29T00:00:00\", \"2020-03-30T00:00:00\", \"2020-03-31T00:00:00\", \"2020-04-01T00:00:00\", \"2020-04-02T00:00:00\", \"2020-04-03T00:00:00\", \"2020-04-04T00:00:00\", \"2020-04-05T00:00:00\", \"2020-04-06T00:00:00\", \"2020-04-07T00:00:00\", \"2020-04-08T00:00:00\", \"2020-04-09T00:00:00\", \"2020-04-10T00:00:00\", \"2020-04-11T00:00:00\", \"2020-04-12T00:00:00\", \"2020-04-13T00:00:00\", \"2020-04-14T00:00:00\", \"2020-04-15T00:00:00\", \"2020-04-16T00:00:00\", \"2020-04-17T00:00:00\", \"2020-04-18T00:00:00\", \"2020-04-19T00:00:00\", \"2020-04-21T00:00:00\", \"2020-04-22T00:00:00\", \"2020-04-23T00:00:00\", \"2020-04-24T00:00:00\", \"2020-04-25T00:00:00\", \"2020-04-26T00:00:00\", \"2020-04-27T00:00:00\", \"2020-04-28T00:00:00\", \"2020-04-29T00:00:00\", \"2020-04-30T00:00:00\", \"2020-05-01T00:00:00\", \"2020-05-02T00:00:00\", \"2020-05-03T00:00:00\", \"2020-05-04T00:00:00\", \"2020-05-05T00:00:00\", \"2020-05-06T00:00:00\", \"2020-05-07T00:00:00\", \"2020-05-08T00:00:00\", \"2020-05-09T00:00:00\", \"2020-05-10T00:00:00\", \"2020-05-11T00:00:00\", \"2020-05-12T00:00:00\", \"2020-05-13T00:00:00\", \"2020-05-14T00:00:00\", \"2020-05-15T00:00:00\", \"2020-05-16T00:00:00\", \"2020-05-17T00:00:00\", \"2020-05-18T00:00:00\", \"2020-05-19T00:00:00\", \"2020-05-20T00:00:00\", \"2020-05-21T00:00:00\", \"2020-05-22T00:00:00\", \"2020-05-23T00:00:00\", \"2020-05-24T00:00:00\", \"2020-05-25T00:00:00\", \"2020-05-26T00:00:00\", \"2020-05-27T00:00:00\", \"2020-05-28T00:00:00\", \"2020-05-30T00:00:00\", \"2020-05-31T00:00:00\", \"2020-06-01T00:00:00\", \"2020-06-02T00:00:00\", \"2020-06-03T00:00:00\", \"2020-06-04T00:00:00\", \"2020-06-05T00:00:00\", \"2020-06-06T00:00:00\", \"2020-06-07T00:00:00\", \"2020-06-08T00:00:00\", \"2020-06-09T00:00:00\", \"2020-06-10T00:00:00\", \"2020-06-11T00:00:00\", \"2020-06-12T00:00:00\", \"2020-06-13T00:00:00\", \"2020-06-14T00:00:00\", \"2020-06-15T00:00:00\", \"2020-06-16T00:00:00\", \"2020-06-17T00:00:00\", \"2020-06-18T00:00:00\", \"2020-06-19T00:00:00\", \"2020-06-20T00:00:00\", \"2020-06-21T00:00:00\", \"2020-06-22T00:00:00\", \"2020-06-23T00:00:00\", \"2020-06-24T00:00:00\", \"2020-06-25T00:00:00\", \"2020-06-26T00:00:00\", \"2020-06-27T00:00:00\", \"2020-06-28T00:00:00\", \"2020-06-29T00:00:00\", \"2020-06-30T00:00:00\", \"2020-07-01T00:00:00\", \"2020-07-02T00:00:00\", \"2020-07-03T00:00:00\", \"2020-07-04T00:00:00\", \"2020-07-05T00:00:00\", \"2020-07-06T00:00:00\", \"2020-07-07T00:00:00\", \"2020-07-08T00:00:00\", \"2020-07-09T00:00:00\", \"2020-07-10T00:00:00\", \"2020-07-11T00:00:00\", \"2020-07-12T00:00:00\", \"2020-07-13T00:00:00\", \"2020-07-14T00:00:00\", \"2020-07-15T00:00:00\", \"2020-07-16T00:00:00\", \"2020-07-17T00:00:00\", \"2020-07-18T00:00:00\", \"2020-07-19T00:00:00\", \"2020-07-20T00:00:00\", \"2020-07-21T00:00:00\", \"2020-07-22T00:00:00\", \"2020-07-23T00:00:00\", \"2020-07-24T00:00:00\", \"2020-07-25T00:00:00\", \"2020-07-26T00:00:00\", \"2020-07-27T00:00:00\", \"2020-07-28T00:00:00\", \"2020-07-29T00:00:00\", \"2020-07-30T00:00:00\", \"2020-07-31T00:00:00\", \"2020-08-01T00:00:00\", \"2020-08-02T00:00:00\", \"2020-08-03T00:00:00\", \"2020-08-04T00:00:00\", \"2020-08-05T00:00:00\", \"2020-08-06T00:00:00\", \"2020-08-07T00:00:00\", \"2020-08-08T00:00:00\", \"2020-08-09T00:00:00\", \"2020-08-10T00:00:00\", \"2020-08-11T00:00:00\", \"2020-08-12T00:00:00\", \"2020-08-13T00:00:00\", \"2020-08-14T00:00:00\", \"2020-08-15T00:00:00\", \"2020-08-16T00:00:00\", \"2020-08-23T00:00:00\", \"2020-09-10T00:00:00\", \"2020-09-11T00:00:00\", \"2020-09-12T00:00:00\", \"2020-09-13T00:00:00\", \"2020-09-14T00:00:00\", \"2020-09-15T00:00:00\", \"2020-09-16T00:00:00\", \"2020-09-17T00:00:00\", \"2020-09-18T00:00:00\", \"2020-09-19T00:00:00\", \"2020-09-20T00:00:00\", \"2020-09-21T00:00:00\", \"2020-09-22T00:00:00\", \"2020-09-23T00:00:00\", \"2020-09-24T00:00:00\", \"2020-09-25T00:00:00\", \"2020-09-26T00:00:00\", \"2020-09-27T00:00:00\", \"2020-09-28T00:00:00\", \"2020-09-29T00:00:00\", \"2020-09-30T00:00:00\", \"2020-10-01T00:00:00\", \"2020-10-02T00:00:00\", \"2020-10-03T00:00:00\", \"2020-10-04T00:00:00\", \"2020-10-05T00:00:00\", \"2020-10-06T00:00:00\", \"2020-10-07T00:00:00\", \"2020-10-09T00:00:00\", \"2020-10-10T00:00:00\", \"2020-10-11T00:00:00\", \"2020-10-12T00:00:00\", \"2020-10-13T00:00:00\", \"2020-10-14T00:00:00\", \"2020-10-15T00:00:00\", \"2020-10-16T00:00:00\", \"2020-10-17T00:00:00\", \"2020-10-18T00:00:00\", \"2020-10-19T00:00:00\", \"2020-10-20T00:00:00\", \"2020-10-21T00:00:00\", \"2020-10-22T00:00:00\", \"2020-10-23T00:00:00\", \"2020-10-24T00:00:00\", \"2020-10-25T00:00:00\", \"2020-10-26T00:00:00\", \"2020-10-27T00:00:00\", \"2020-10-28T00:00:00\", \"2020-10-29T00:00:00\", \"2020-10-30T00:00:00\", \"2020-10-31T00:00:00\", \"2020-11-01T00:00:00\", \"2020-11-02T00:00:00\", \"2020-11-03T00:00:00\", \"2020-11-04T00:00:00\", \"2020-11-05T00:00:00\", \"2020-11-06T00:00:00\", \"2020-11-07T00:00:00\", \"2020-11-08T00:00:00\", \"2020-11-09T00:00:00\", \"2020-11-10T00:00:00\", \"2020-11-11T00:00:00\", \"2020-11-12T00:00:00\", \"2020-11-13T00:00:00\", \"2020-11-14T00:00:00\", \"2020-11-15T00:00:00\", \"2020-11-16T00:00:00\", \"2020-11-17T00:00:00\", \"2020-11-18T00:00:00\", \"2020-11-19T00:00:00\", \"2020-11-20T00:00:00\", \"2020-11-21T00:00:00\", \"2020-11-22T00:00:00\", \"2020-11-23T00:00:00\", \"2020-11-24T00:00:00\", \"2020-11-25T00:00:00\", \"2020-11-26T00:00:00\", \"2020-11-27T00:00:00\", \"2020-11-28T00:00:00\", \"2020-11-29T00:00:00\", \"2020-11-30T00:00:00\", \"2020-12-01T00:00:00\", \"2020-12-02T00:00:00\", \"2020-12-03T00:00:00\", \"2020-12-04T00:00:00\", \"2020-12-05T00:00:00\", \"2020-12-06T00:00:00\", \"2020-12-07T00:00:00\", \"2020-12-08T00:00:00\", \"2020-12-09T00:00:00\", \"2020-12-10T00:00:00\", \"2020-12-11T00:00:00\", \"2020-12-12T00:00:00\", \"2020-12-13T00:00:00\", \"2020-12-14T00:00:00\", \"2020-12-15T00:00:00\", \"2020-12-16T00:00:00\", \"2020-12-17T00:00:00\", \"2020-12-18T00:00:00\", \"2020-12-19T00:00:00\", \"2020-12-20T00:00:00\", \"2020-12-21T00:00:00\", \"2020-12-22T00:00:00\", \"2020-12-23T00:00:00\", \"2020-12-24T00:00:00\", \"2020-12-25T00:00:00\", \"2020-12-26T00:00:00\", \"2020-12-27T00:00:00\", \"2020-12-28T00:00:00\"], \"y\": [59.48960753164081, -50.91780967188926, -22.167897556098104, -14.895617922327837, 4.8888381086293, 27.200545887292787, 104.00309683240653, 67.41791216740417, -69.82479564746731, -24.892702093856297, -12.684043729227511, -79.01146561621682, -45.08801815367484, 78.95999883801572, 135.89955457069317, 43.78924690211507, 172.08931931981527, 236.31236611051173, 333.82943785084865, 340.5346271918757, 407.6972089847154, 536.9708860780672, 626.0219778138725, 510.2429618061192, 604.2217506867852, 575.7961437057071, 579.9184908640866, 703.8854693807992, 709.0011352697982, 576.3219173203656, 606.3550431250508, 619.3037785056327, 639.2016924864805, 664.9057722580872, 683.3001820276475, 696.329773277423, 582.0071748384296, 625.4958450950451, 665.6864946992478, 720.0721672969512, 703.9615932378955, 661.6903117989002, 834.9406080259453, 762.2465543850235, 602.4477636177719, 443.64620313758616, 436.3549659830925, 421.8302656019697, 499.94841357280626, 442.71381802224147, 428.9009659933222, 393.6043923184273, 409.1857370001952, 439.74303972620277, 403.0530607977639, 488.9019248043177, 339.5517336777733, 250.20430659344856, 388.56419866865053, 383.1595463243285, 345.94034832430344, 337.37913156542055, 330.6516832417375, 237.89719782042135, 230.92609489803965, 293.92048642949806, 246.61483541717126, 250.39782769054102, 234.13204813563783, 224.6311959638643, 240.81872632267778, 211.51463139540803, 211.708247033713, 209.45248881583962, 220.18392128848774, 244.6567437423837, 216.19428154364968, 154.8530467362186, 136.57473876733513, 186.89778707334074, 199.06701026695868, 218.2082251174018, 237.72476180169474, 164.02742602183696, 357.2416113593847, 154.69267044681476, 161.83729056414762, 155.21518072365228, 110.76627136483322, 59.27444796845313, 95.1808890510222, 88.85073428514983, 145.49869585623907, 121.15398855980362, 144.63591898392923, 112.8294916546606, 55.293497599687186, 61.98515284875889, 86.61048669542541, 76.63683355835862, 123.92724559790432, 58.18925576135068, 56.79799846875086, -4.465194026455563, -13.83300895914391, 12.810355443604635, 78.46110207690138, 73.85092501390504, 65.55046875484788, 19.972295111001387, 5.514266142312067, 1.6448148210874933, 32.62656173594294, 17.959037170232534, 65.2763962443943, 74.14654822905851, 50.14861641008882, 1.622706000651803, -27.571222469542235, -1.992079752458011, 30.376594454450384, 23.22208061556576, 113.00005652868889, 226.59456267400384, 70.99855647135921, 54.053718608649845, 41.169573205767875, 77.7794740015647, 82.0969538539016, 165.8644708006007, 26.751900232912973, 63.56085337513473, 31.460758177199295, 96.52731866315362, 70.5503399189891, 72.8738346993193, 125.15944492683576, 85.55215802178085, 19.874104315137416, 29.748080637357916, 18.792817281595376, 51.869241071941204, 34.2504651448929, 71.71312019251422, 29.86779541713028, -3.2889011361304625, 6.411249865383354, 20.939558309589906, 28.961381306290612, 38.207611323205164, 22.8966038440074, 45.47760888091983, -38.0936662051016, -40.9547690548735, 85.49860986888787, -6.0387444684275735, -8.19040119367962, 31.767697869257496, 24.634337679679092, -20.517619303087578, 5.495556731343598, 41.0390617513665, 64.20217821572541, 54.40553589581279, 64.04679748628178, 109.94826562206751, 57.27145870890864, 55.67958339868429, 110.23856185271045, 107.21553791323275, 77.33668463682497, 41.90733179300557, 18.61721728579758, 23.526589997731495, 79.17663502677226, 73.10785995599112, 95.23600733060368, 110.67240136986052, 61.64317327563116, 23.40786887535087, 38.098649125082495, 70.31745921670648, 90.49953954124886, 78.45979905140852, 113.89710070197094, 93.96618425803871, 103.7961137792862, 85.16439921596107, 119.33591175670793, 110.79629796846652, 102.00570421956586, 130.2035654004311, 91.40022587864834, 17.391627179946898, 60.47688310812991, 113.98535475020186, 88.5887022070718, 169.794865441112, 137.34346309006497, 216.45477670345198, 99.62246806289494, 110.8475568998407, 108.569837653367, 188.52929443670442, 135.38260824289236, 127.49420070991634, 76.81532575659422, 111.36136386756817, 121.44135292277348, 116.28441391276488, 130.4542327604213, 152.9175327468639, 106.54961135139968, 81.52962257570923, 77.49112753438912, 123.516369805984, 175.60203501970895, 138.8063310189259, 85.00334300879952, 146.8067908488653, 77.35627093459098, 116.52378523975773, 170.1108045744149, 121.74970399465032, 122.37336377745811, 154.13894264787493, 136.49577977191683, 72.4493483100466, 125.63522909504205, 235.49661187577817, 167.187425473336, 160.85400210160418, 166.56654997279583, 157.44279322329623, 93.083888838185, 135.03493815170026, 185.83237036268315, 170.13160924965615, 180.1737080199155, 185.5117303711817, 148.69705211400137, 77.15087237201797, 59.57522954926208, 30.601798807697023, 741.9667409241581, 371.79138507173326, 239.68047100789298, 180.965901498302, 222.38749172591974, 126.19994191930371, 180.11358607419868, 169.1986173579252, 205.44933375036413, 258.6324904455871, 153.57628508563775, 113.85372543113559, 164.47932860570967, 165.1353800305863, 137.3029727277084, -71.71791168482522, 175.73933167788263, 357.33886519016505, 28.257843984240125, -15.957935779181284, 161.50311614141256, 927.3729936737253, 100.57871959289804, 262.9399374195965, 497.34554787864744, 232.8858377348884, 193.10905225553083, 236.39658939432968, 792.4750414190509, 65.74242565930666, 311.7152874548839, 454.2299705072685, 152.83295814747206]}, {\"fill\": \"tonexty\", \"fillcolor\": \"rgba(0, 114, 178, 0.2)\", \"hoverinfo\": \"skip\", \"line\": {\"width\": 0}, \"mode\": \"lines\", \"type\": \"scatter\", \"x\": [\"2020-03-01T00:00:00\", \"2020-03-02T00:00:00\", \"2020-03-03T00:00:00\", \"2020-03-04T00:00:00\", \"2020-03-05T00:00:00\", \"2020-03-06T00:00:00\", \"2020-03-07T00:00:00\", \"2020-03-08T00:00:00\", \"2020-03-09T00:00:00\", \"2020-03-10T00:00:00\", \"2020-03-11T00:00:00\", \"2020-03-12T00:00:00\", \"2020-03-13T00:00:00\", \"2020-03-14T00:00:00\", \"2020-03-15T00:00:00\", \"2020-03-16T00:00:00\", \"2020-03-17T00:00:00\", \"2020-03-18T00:00:00\", \"2020-03-19T00:00:00\", \"2020-03-20T00:00:00\", \"2020-03-21T00:00:00\", \"2020-03-22T00:00:00\", \"2020-03-23T00:00:00\", \"2020-03-24T00:00:00\", \"2020-03-25T00:00:00\", \"2020-03-26T00:00:00\", \"2020-03-27T00:00:00\", \"2020-03-28T00:00:00\", \"2020-03-29T00:00:00\", \"2020-03-30T00:00:00\", \"2020-03-31T00:00:00\", \"2020-04-01T00:00:00\", \"2020-04-02T00:00:00\", \"2020-04-03T00:00:00\", \"2020-04-04T00:00:00\", \"2020-04-05T00:00:00\", \"2020-04-06T00:00:00\", \"2020-04-07T00:00:00\", \"2020-04-08T00:00:00\", \"2020-04-09T00:00:00\", \"2020-04-10T00:00:00\", \"2020-04-11T00:00:00\", \"2020-04-12T00:00:00\", \"2020-04-13T00:00:00\", \"2020-04-14T00:00:00\", \"2020-04-15T00:00:00\", \"2020-04-16T00:00:00\", \"2020-04-17T00:00:00\", \"2020-04-18T00:00:00\", \"2020-04-19T00:00:00\", \"2020-04-21T00:00:00\", \"2020-04-22T00:00:00\", \"2020-04-23T00:00:00\", \"2020-04-24T00:00:00\", \"2020-04-25T00:00:00\", \"2020-04-26T00:00:00\", \"2020-04-27T00:00:00\", \"2020-04-28T00:00:00\", \"2020-04-29T00:00:00\", \"2020-04-30T00:00:00\", \"2020-05-01T00:00:00\", \"2020-05-02T00:00:00\", \"2020-05-03T00:00:00\", \"2020-05-04T00:00:00\", \"2020-05-05T00:00:00\", \"2020-05-06T00:00:00\", \"2020-05-07T00:00:00\", \"2020-05-08T00:00:00\", \"2020-05-09T00:00:00\", \"2020-05-10T00:00:00\", \"2020-05-11T00:00:00\", \"2020-05-12T00:00:00\", \"2020-05-13T00:00:00\", \"2020-05-14T00:00:00\", \"2020-05-15T00:00:00\", \"2020-05-16T00:00:00\", \"2020-05-17T00:00:00\", \"2020-05-18T00:00:00\", \"2020-05-19T00:00:00\", \"2020-05-20T00:00:00\", \"2020-05-21T00:00:00\", \"2020-05-22T00:00:00\", \"2020-05-23T00:00:00\", \"2020-05-24T00:00:00\", \"2020-05-25T00:00:00\", \"2020-05-26T00:00:00\", \"2020-05-27T00:00:00\", \"2020-05-28T00:00:00\", \"2020-05-30T00:00:00\", \"2020-05-31T00:00:00\", \"2020-06-01T00:00:00\", \"2020-06-02T00:00:00\", \"2020-06-03T00:00:00\", \"2020-06-04T00:00:00\", \"2020-06-05T00:00:00\", \"2020-06-06T00:00:00\", \"2020-06-07T00:00:00\", \"2020-06-08T00:00:00\", \"2020-06-09T00:00:00\", \"2020-06-10T00:00:00\", \"2020-06-11T00:00:00\", \"2020-06-12T00:00:00\", \"2020-06-13T00:00:00\", \"2020-06-14T00:00:00\", \"2020-06-15T00:00:00\", \"2020-06-16T00:00:00\", \"2020-06-17T00:00:00\", \"2020-06-18T00:00:00\", \"2020-06-19T00:00:00\", \"2020-06-20T00:00:00\", \"2020-06-21T00:00:00\", \"2020-06-22T00:00:00\", \"2020-06-23T00:00:00\", \"2020-06-24T00:00:00\", \"2020-06-25T00:00:00\", \"2020-06-26T00:00:00\", \"2020-06-27T00:00:00\", \"2020-06-28T00:00:00\", \"2020-06-29T00:00:00\", \"2020-06-30T00:00:00\", \"2020-07-01T00:00:00\", \"2020-07-02T00:00:00\", \"2020-07-03T00:00:00\", \"2020-07-04T00:00:00\", \"2020-07-05T00:00:00\", \"2020-07-06T00:00:00\", \"2020-07-07T00:00:00\", \"2020-07-08T00:00:00\", \"2020-07-09T00:00:00\", \"2020-07-10T00:00:00\", \"2020-07-11T00:00:00\", \"2020-07-12T00:00:00\", \"2020-07-13T00:00:00\", \"2020-07-14T00:00:00\", \"2020-07-15T00:00:00\", \"2020-07-16T00:00:00\", \"2020-07-17T00:00:00\", \"2020-07-18T00:00:00\", \"2020-07-19T00:00:00\", \"2020-07-20T00:00:00\", \"2020-07-21T00:00:00\", \"2020-07-22T00:00:00\", \"2020-07-23T00:00:00\", \"2020-07-24T00:00:00\", \"2020-07-25T00:00:00\", \"2020-07-26T00:00:00\", \"2020-07-27T00:00:00\", \"2020-07-28T00:00:00\", \"2020-07-29T00:00:00\", \"2020-07-30T00:00:00\", \"2020-07-31T00:00:00\", \"2020-08-01T00:00:00\", \"2020-08-02T00:00:00\", \"2020-08-03T00:00:00\", \"2020-08-04T00:00:00\", \"2020-08-05T00:00:00\", \"2020-08-06T00:00:00\", \"2020-08-07T00:00:00\", \"2020-08-08T00:00:00\", \"2020-08-09T00:00:00\", \"2020-08-10T00:00:00\", \"2020-08-11T00:00:00\", \"2020-08-12T00:00:00\", \"2020-08-13T00:00:00\", \"2020-08-14T00:00:00\", \"2020-08-15T00:00:00\", \"2020-08-16T00:00:00\", \"2020-08-23T00:00:00\", \"2020-09-10T00:00:00\", \"2020-09-11T00:00:00\", \"2020-09-12T00:00:00\", \"2020-09-13T00:00:00\", \"2020-09-14T00:00:00\", \"2020-09-15T00:00:00\", \"2020-09-16T00:00:00\", \"2020-09-17T00:00:00\", \"2020-09-18T00:00:00\", \"2020-09-19T00:00:00\", \"2020-09-20T00:00:00\", \"2020-09-21T00:00:00\", \"2020-09-22T00:00:00\", \"2020-09-23T00:00:00\", \"2020-09-24T00:00:00\", \"2020-09-25T00:00:00\", \"2020-09-26T00:00:00\", \"2020-09-27T00:00:00\", \"2020-09-28T00:00:00\", \"2020-09-29T00:00:00\", \"2020-09-30T00:00:00\", \"2020-10-01T00:00:00\", \"2020-10-02T00:00:00\", \"2020-10-03T00:00:00\", \"2020-10-04T00:00:00\", \"2020-10-05T00:00:00\", \"2020-10-06T00:00:00\", \"2020-10-07T00:00:00\", \"2020-10-09T00:00:00\", \"2020-10-10T00:00:00\", \"2020-10-11T00:00:00\", \"2020-10-12T00:00:00\", \"2020-10-13T00:00:00\", \"2020-10-14T00:00:00\", \"2020-10-15T00:00:00\", \"2020-10-16T00:00:00\", \"2020-10-17T00:00:00\", \"2020-10-18T00:00:00\", \"2020-10-19T00:00:00\", \"2020-10-20T00:00:00\", \"2020-10-21T00:00:00\", \"2020-10-22T00:00:00\", \"2020-10-23T00:00:00\", \"2020-10-24T00:00:00\", \"2020-10-25T00:00:00\", \"2020-10-26T00:00:00\", \"2020-10-27T00:00:00\", \"2020-10-28T00:00:00\", \"2020-10-29T00:00:00\", \"2020-10-30T00:00:00\", \"2020-10-31T00:00:00\", \"2020-11-01T00:00:00\", \"2020-11-02T00:00:00\", \"2020-11-03T00:00:00\", \"2020-11-04T00:00:00\", \"2020-11-05T00:00:00\", \"2020-11-06T00:00:00\", \"2020-11-07T00:00:00\", \"2020-11-08T00:00:00\", \"2020-11-09T00:00:00\", \"2020-11-10T00:00:00\", \"2020-11-11T00:00:00\", \"2020-11-12T00:00:00\", \"2020-11-13T00:00:00\", \"2020-11-14T00:00:00\", \"2020-11-15T00:00:00\", \"2020-11-16T00:00:00\", \"2020-11-17T00:00:00\", \"2020-11-18T00:00:00\", \"2020-11-19T00:00:00\", \"2020-11-20T00:00:00\", \"2020-11-21T00:00:00\", \"2020-11-22T00:00:00\", \"2020-11-23T00:00:00\", \"2020-11-24T00:00:00\", \"2020-11-25T00:00:00\", \"2020-11-26T00:00:00\", \"2020-11-27T00:00:00\", \"2020-11-28T00:00:00\", \"2020-11-29T00:00:00\", \"2020-11-30T00:00:00\", \"2020-12-01T00:00:00\", \"2020-12-02T00:00:00\", \"2020-12-03T00:00:00\", \"2020-12-04T00:00:00\", \"2020-12-05T00:00:00\", \"2020-12-06T00:00:00\", \"2020-12-07T00:00:00\", \"2020-12-08T00:00:00\", \"2020-12-09T00:00:00\", \"2020-12-10T00:00:00\", \"2020-12-11T00:00:00\", \"2020-12-12T00:00:00\", \"2020-12-13T00:00:00\", \"2020-12-14T00:00:00\", \"2020-12-15T00:00:00\", \"2020-12-16T00:00:00\", \"2020-12-17T00:00:00\", \"2020-12-18T00:00:00\", \"2020-12-19T00:00:00\", \"2020-12-20T00:00:00\", \"2020-12-21T00:00:00\", \"2020-12-22T00:00:00\", \"2020-12-23T00:00:00\", \"2020-12-24T00:00:00\", \"2020-12-25T00:00:00\", \"2020-12-26T00:00:00\", \"2020-12-27T00:00:00\", \"2020-12-28T00:00:00\"], \"y\": [152.4613156018387, 47.80514475028683, 68.1416104947273, 76.28886861788321, 104.12345071127743, 115.30157777861058, 200.19167136717246, 167.63232485917558, 21.840905964081472, 70.08651253222544, 77.34751882681417, 15.009982292677996, 45.078050747751405, 171.81377735738738, 234.68757032607525, 134.59041829776072, 269.0781554714105, 330.8085181976012, 424.9184855889758, 441.55540967671084, 505.3387326423296, 629.171264284549, 724.1186617341814, 594.7387840388749, 692.1733818828683, 668.5140626966919, 676.9232641783351, 797.3072983150005, 804.0858165237424, 661.9072925156082, 691.8344092170325, 709.9963213409302, 732.2617726848443, 753.5148598137974, 780.4903496411864, 790.7913249434214, 671.9875642799368, 720.0815399237518, 762.6431795796752, 819.7911212636753, 796.8422497534896, 751.5860041268472, 932.5966133693671, 856.1998020060447, 703.1641287158691, 539.694638286453, 531.7502148630196, 516.7017760546241, 594.3432038227547, 539.6203175457491, 524.9604899532666, 488.94258975682084, 496.89669217293044, 538.1857188203979, 508.1382920944697, 583.5171381985548, 434.7731342879363, 343.06693461009843, 483.5089886637488, 480.24761825782275, 444.7646438910525, 432.76061923078237, 417.85485660477207, 328.226393000402, 324.0841207981276, 389.51440947635814, 340.6634270423036, 343.0715516841895, 327.8326629043691, 313.54885097937597, 334.164363057019, 307.53737806935516, 308.36398074708944, 302.5149156596318, 313.7906641232635, 338.4083371254289, 311.89902992981575, 247.26823768397907, 236.35721645614356, 283.7814108248153, 300.5458782523141, 316.97453541356344, 328.59584670596934, 260.05376784590476, 453.3707912105703, 244.38106711208593, 253.08953304964157, 250.19057975641527, 208.44208683238728, 153.4723832544226, 186.69767336345856, 190.94359057835405, 241.25367424633563, 221.7773016307812, 240.14763055848766, 211.21791594156394, 152.64411301963554, 153.83696614607788, 179.30570399913879, 168.24440573462056, 213.7005098514149, 147.7636517586192, 153.363251032646, 84.87365303829739, 67.89181293096455, 111.09180366704277, 172.26485308351883, 165.942101347035, 155.75807766553172, 119.14019069262014, 114.54847006305745, 94.96377602458294, 128.93553011147654, 107.73769292826415, 161.48808595509018, 165.94666752236878, 149.87721148167986, 95.76466791122446, 70.52015779143908, 89.9126753925261, 126.36755802917673, 115.0718702222832, 204.95400592954175, 321.7079350978629, 165.42717069678852, 142.09655697038292, 135.74040464486757, 177.4360351416159, 177.7620746421183, 260.82195515836514, 115.81818676764753, 156.24971913076448, 133.4765489916413, 192.82915289239497, 167.80166438180973, 168.5112731661537, 219.1845915889647, 181.13257279165134, 114.37749872723715, 120.96411706917112, 120.36888243227983, 144.7568703009605, 123.16589708553666, 158.48046352646858, 122.02728674633686, 85.29003277168019, 101.23393629834536, 109.81971055932223, 133.08149137699576, 133.9661234235148, 121.91946892700217, 135.69069401845928, 52.32472392829561, 51.95731304447328, 179.9564395089617, 79.43700307526403, 87.07016614367127, 122.68766177069612, 120.88831506636964, 74.46206732445074, 96.51501535934614, 136.14526573219703, 153.79503992258668, 157.9074134752907, 164.63111960877777, 200.75318349159755, 159.33012244067183, 152.36027492685287, 206.30119826547022, 208.7139830011086, 170.7397159586516, 136.84224243902776, 110.16814453050546, 120.9625005631444, 177.47447410863734, 160.9853501697396, 186.53175320529832, 200.01463442282784, 153.8316144984948, 120.1749280325756, 139.01039942541178, 164.0225999290783, 188.59580658429314, 168.86946515279504, 214.52060192980278, 187.30587151888056, 194.4491460919406, 184.67876449365366, 211.6877103255479, 198.23094418931908, 203.94520146069638, 219.2650843183586, 190.04465288456734, 113.5582186003833, 156.55778980478607, 202.97330323207515, 188.76932806422093, 267.79955781259724, 227.06952156325144, 309.2792537563546, 201.90318421345188, 202.18009305249828, 202.6702677074683, 282.43303674326586, 234.14021223900124, 219.6319972630668, 167.7204102965887, 209.05311358035192, 215.37283210048903, 211.1480293473869, 220.0976769887901, 245.5085583050006, 202.1602919169394, 173.36507042784157, 163.30343761216338, 211.71059280010363, 274.1142219705339, 224.89088261055963, 172.57265574069808, 241.0068093111699, 168.23705217999427, 208.00137505341866, 257.0821060130385, 216.65129599848814, 213.24112641911864, 253.5720391907982, 231.31509925334825, 166.6674764628291, 213.04358617857017, 333.32295013835164, 262.6098238548533, 252.34782441496122, 262.53162520135163, 256.6426423432029, 191.79854868929075, 235.51786221812668, 276.4213488019197, 264.78288478124944, 279.562628451831, 276.4745776958269, 241.48554621682388, 179.63399421771663, 160.19526956063447, 129.84593698535338, 832.7419578897109, 471.2949195511249, 335.3837140142117, 276.497096000887, 317.27361394557005, 209.94546437052915, 267.14289581641583, 266.0993996279838, 303.1925136611632, 356.0545997777075, 245.4263863243987, 204.614076915554, 258.62349296403795, 257.3157435333814, 218.97932570252377, 25.447531612781646, 265.46363686616604, 452.66145163795363, 115.34791889211456, 79.7895377496617, 254.85189989951266, 1023.3783419032293, 198.59149367495164, 354.21313315230907, 592.6787385069667, 327.42970116328746, 286.9065763872397, 334.60842916533284, 884.9353377739735, 157.08916430601326, 410.8709831932898, 548.6813225588729, 249.42778433622502]}],\n",
              "                        {\"height\": 600, \"showlegend\": false, \"template\": {\"data\": {\"bar\": [{\"error_x\": {\"color\": \"#2a3f5f\"}, \"error_y\": {\"color\": \"#2a3f5f\"}, \"marker\": {\"line\": {\"color\": \"#E5ECF6\", \"width\": 0.5}}, \"type\": \"bar\"}], \"barpolar\": [{\"marker\": {\"line\": {\"color\": \"#E5ECF6\", \"width\": 0.5}}, \"type\": \"barpolar\"}], \"carpet\": [{\"aaxis\": {\"endlinecolor\": \"#2a3f5f\", \"gridcolor\": \"white\", \"linecolor\": \"white\", \"minorgridcolor\": \"white\", \"startlinecolor\": \"#2a3f5f\"}, \"baxis\": {\"endlinecolor\": \"#2a3f5f\", \"gridcolor\": \"white\", \"linecolor\": \"white\", \"minorgridcolor\": \"white\", \"startlinecolor\": \"#2a3f5f\"}, \"type\": \"carpet\"}], \"choropleth\": [{\"colorbar\": {\"outlinewidth\": 0, \"ticks\": \"\"}, \"type\": \"choropleth\"}], \"contour\": [{\"colorbar\": {\"outlinewidth\": 0, \"ticks\": \"\"}, \"colorscale\": [[0.0, \"#0d0887\"], [0.1111111111111111, \"#46039f\"], [0.2222222222222222, \"#7201a8\"], [0.3333333333333333, \"#9c179e\"], [0.4444444444444444, \"#bd3786\"], [0.5555555555555556, \"#d8576b\"], [0.6666666666666666, \"#ed7953\"], [0.7777777777777778, \"#fb9f3a\"], [0.8888888888888888, \"#fdca26\"], [1.0, \"#f0f921\"]], \"type\": \"contour\"}], \"contourcarpet\": [{\"colorbar\": {\"outlinewidth\": 0, \"ticks\": \"\"}, \"type\": \"contourcarpet\"}], \"heatmap\": [{\"colorbar\": {\"outlinewidth\": 0, \"ticks\": \"\"}, \"colorscale\": [[0.0, \"#0d0887\"], [0.1111111111111111, \"#46039f\"], [0.2222222222222222, \"#7201a8\"], [0.3333333333333333, \"#9c179e\"], [0.4444444444444444, \"#bd3786\"], [0.5555555555555556, \"#d8576b\"], [0.6666666666666666, \"#ed7953\"], [0.7777777777777778, \"#fb9f3a\"], [0.8888888888888888, \"#fdca26\"], [1.0, \"#f0f921\"]], \"type\": \"heatmap\"}], \"heatmapgl\": [{\"colorbar\": {\"outlinewidth\": 0, \"ticks\": \"\"}, \"colorscale\": [[0.0, \"#0d0887\"], [0.1111111111111111, \"#46039f\"], [0.2222222222222222, \"#7201a8\"], [0.3333333333333333, \"#9c179e\"], [0.4444444444444444, \"#bd3786\"], [0.5555555555555556, \"#d8576b\"], [0.6666666666666666, \"#ed7953\"], [0.7777777777777778, \"#fb9f3a\"], [0.8888888888888888, \"#fdca26\"], [1.0, \"#f0f921\"]], \"type\": \"heatmapgl\"}], \"histogram\": [{\"marker\": {\"colorbar\": {\"outlinewidth\": 0, \"ticks\": \"\"}}, \"type\": \"histogram\"}], \"histogram2d\": [{\"colorbar\": {\"outlinewidth\": 0, \"ticks\": \"\"}, \"colorscale\": [[0.0, \"#0d0887\"], [0.1111111111111111, \"#46039f\"], [0.2222222222222222, \"#7201a8\"], [0.3333333333333333, \"#9c179e\"], [0.4444444444444444, \"#bd3786\"], [0.5555555555555556, \"#d8576b\"], [0.6666666666666666, \"#ed7953\"], [0.7777777777777778, \"#fb9f3a\"], [0.8888888888888888, \"#fdca26\"], [1.0, \"#f0f921\"]], \"type\": \"histogram2d\"}], \"histogram2dcontour\": [{\"colorbar\": {\"outlinewidth\": 0, \"ticks\": \"\"}, \"colorscale\": [[0.0, \"#0d0887\"], [0.1111111111111111, \"#46039f\"], [0.2222222222222222, \"#7201a8\"], [0.3333333333333333, \"#9c179e\"], [0.4444444444444444, \"#bd3786\"], [0.5555555555555556, \"#d8576b\"], [0.6666666666666666, \"#ed7953\"], [0.7777777777777778, \"#fb9f3a\"], [0.8888888888888888, \"#fdca26\"], [1.0, \"#f0f921\"]], \"type\": \"histogram2dcontour\"}], \"mesh3d\": [{\"colorbar\": {\"outlinewidth\": 0, \"ticks\": \"\"}, \"type\": \"mesh3d\"}], \"parcoords\": [{\"line\": {\"colorbar\": {\"outlinewidth\": 0, \"ticks\": \"\"}}, \"type\": \"parcoords\"}], \"pie\": [{\"automargin\": true, \"type\": \"pie\"}], \"scatter\": [{\"marker\": {\"colorbar\": {\"outlinewidth\": 0, \"ticks\": \"\"}}, \"type\": \"scatter\"}], \"scatter3d\": [{\"line\": {\"colorbar\": {\"outlinewidth\": 0, \"ticks\": \"\"}}, \"marker\": {\"colorbar\": {\"outlinewidth\": 0, \"ticks\": \"\"}}, \"type\": \"scatter3d\"}], \"scattercarpet\": [{\"marker\": {\"colorbar\": {\"outlinewidth\": 0, \"ticks\": \"\"}}, \"type\": \"scattercarpet\"}], \"scattergeo\": [{\"marker\": {\"colorbar\": {\"outlinewidth\": 0, \"ticks\": \"\"}}, \"type\": \"scattergeo\"}], \"scattergl\": [{\"marker\": {\"colorbar\": {\"outlinewidth\": 0, \"ticks\": \"\"}}, \"type\": \"scattergl\"}], \"scattermapbox\": [{\"marker\": {\"colorbar\": {\"outlinewidth\": 0, \"ticks\": \"\"}}, \"type\": \"scattermapbox\"}], \"scatterpolar\": [{\"marker\": {\"colorbar\": {\"outlinewidth\": 0, \"ticks\": \"\"}}, \"type\": \"scatterpolar\"}], \"scatterpolargl\": [{\"marker\": {\"colorbar\": {\"outlinewidth\": 0, \"ticks\": \"\"}}, \"type\": \"scatterpolargl\"}], \"scatterternary\": [{\"marker\": {\"colorbar\": {\"outlinewidth\": 0, \"ticks\": \"\"}}, \"type\": \"scatterternary\"}], \"surface\": [{\"colorbar\": {\"outlinewidth\": 0, \"ticks\": \"\"}, \"colorscale\": [[0.0, \"#0d0887\"], [0.1111111111111111, \"#46039f\"], [0.2222222222222222, \"#7201a8\"], [0.3333333333333333, \"#9c179e\"], [0.4444444444444444, \"#bd3786\"], [0.5555555555555556, \"#d8576b\"], [0.6666666666666666, \"#ed7953\"], [0.7777777777777778, \"#fb9f3a\"], [0.8888888888888888, \"#fdca26\"], [1.0, \"#f0f921\"]], \"type\": \"surface\"}], \"table\": [{\"cells\": {\"fill\": {\"color\": \"#EBF0F8\"}, \"line\": {\"color\": \"white\"}}, \"header\": {\"fill\": {\"color\": \"#C8D4E3\"}, \"line\": {\"color\": \"white\"}}, \"type\": \"table\"}]}, \"layout\": {\"annotationdefaults\": {\"arrowcolor\": \"#2a3f5f\", \"arrowhead\": 0, \"arrowwidth\": 1}, \"coloraxis\": {\"colorbar\": {\"outlinewidth\": 0, \"ticks\": \"\"}}, \"colorscale\": {\"diverging\": [[0, \"#8e0152\"], [0.1, \"#c51b7d\"], [0.2, \"#de77ae\"], [0.3, \"#f1b6da\"], [0.4, \"#fde0ef\"], [0.5, \"#f7f7f7\"], [0.6, \"#e6f5d0\"], [0.7, \"#b8e186\"], [0.8, \"#7fbc41\"], [0.9, \"#4d9221\"], [1, \"#276419\"]], \"sequential\": [[0.0, \"#0d0887\"], [0.1111111111111111, \"#46039f\"], [0.2222222222222222, \"#7201a8\"], [0.3333333333333333, \"#9c179e\"], [0.4444444444444444, \"#bd3786\"], [0.5555555555555556, \"#d8576b\"], [0.6666666666666666, \"#ed7953\"], [0.7777777777777778, \"#fb9f3a\"], [0.8888888888888888, \"#fdca26\"], [1.0, \"#f0f921\"]], \"sequentialminus\": [[0.0, \"#0d0887\"], [0.1111111111111111, \"#46039f\"], [0.2222222222222222, \"#7201a8\"], [0.3333333333333333, \"#9c179e\"], [0.4444444444444444, \"#bd3786\"], [0.5555555555555556, \"#d8576b\"], [0.6666666666666666, \"#ed7953\"], [0.7777777777777778, \"#fb9f3a\"], [0.8888888888888888, \"#fdca26\"], [1.0, \"#f0f921\"]]}, \"colorway\": [\"#636efa\", \"#EF553B\", \"#00cc96\", \"#ab63fa\", \"#FFA15A\", \"#19d3f3\", \"#FF6692\", \"#B6E880\", \"#FF97FF\", \"#FECB52\"], \"font\": {\"color\": \"#2a3f5f\"}, \"geo\": {\"bgcolor\": \"white\", \"lakecolor\": \"white\", \"landcolor\": \"#E5ECF6\", \"showlakes\": true, \"showland\": true, \"subunitcolor\": \"white\"}, \"hoverlabel\": {\"align\": \"left\"}, \"hovermode\": \"closest\", \"mapbox\": {\"style\": \"light\"}, \"paper_bgcolor\": \"white\", \"plot_bgcolor\": \"#E5ECF6\", \"polar\": {\"angularaxis\": {\"gridcolor\": \"white\", \"linecolor\": \"white\", \"ticks\": \"\"}, \"bgcolor\": \"#E5ECF6\", \"radialaxis\": {\"gridcolor\": \"white\", \"linecolor\": \"white\", \"ticks\": \"\"}}, \"scene\": {\"xaxis\": {\"backgroundcolor\": \"#E5ECF6\", \"gridcolor\": \"white\", \"gridwidth\": 2, \"linecolor\": \"white\", \"showbackground\": true, \"ticks\": \"\", \"zerolinecolor\": \"white\"}, \"yaxis\": {\"backgroundcolor\": \"#E5ECF6\", \"gridcolor\": \"white\", \"gridwidth\": 2, \"linecolor\": \"white\", \"showbackground\": true, \"ticks\": \"\", \"zerolinecolor\": \"white\"}, \"zaxis\": {\"backgroundcolor\": \"#E5ECF6\", \"gridcolor\": \"white\", \"gridwidth\": 2, \"linecolor\": \"white\", \"showbackground\": true, \"ticks\": \"\", \"zerolinecolor\": \"white\"}}, \"shapedefaults\": {\"line\": {\"color\": \"#2a3f5f\"}}, \"ternary\": {\"aaxis\": {\"gridcolor\": \"white\", \"linecolor\": \"white\", \"ticks\": \"\"}, \"baxis\": {\"gridcolor\": \"white\", \"linecolor\": \"white\", \"ticks\": \"\"}, \"bgcolor\": \"#E5ECF6\", \"caxis\": {\"gridcolor\": \"white\", \"linecolor\": \"white\", \"ticks\": \"\"}}, \"title\": {\"x\": 0.05}, \"xaxis\": {\"automargin\": true, \"gridcolor\": \"white\", \"linecolor\": \"white\", \"ticks\": \"\", \"title\": {\"standoff\": 15}, \"zerolinecolor\": \"white\", \"zerolinewidth\": 2}, \"yaxis\": {\"automargin\": true, \"gridcolor\": \"white\", \"linecolor\": \"white\", \"ticks\": \"\", \"title\": {\"standoff\": 15}, \"zerolinecolor\": \"white\", \"zerolinewidth\": 2}}}, \"width\": 900, \"xaxis\": {\"rangeselector\": {\"buttons\": [{\"count\": 7, \"label\": \"1w\", \"step\": \"day\", \"stepmode\": \"backward\"}, {\"count\": 1, \"label\": \"1m\", \"step\": \"month\", \"stepmode\": \"backward\"}, {\"count\": 6, \"label\": \"6m\", \"step\": \"month\", \"stepmode\": \"backward\"}, {\"count\": 1, \"label\": \"1y\", \"step\": \"year\", \"stepmode\": \"backward\"}, {\"step\": \"all\"}]}, \"rangeslider\": {\"visible\": true}, \"title\": {\"text\": \"ds\"}, \"type\": \"date\"}, \"yaxis\": {\"title\": {\"text\": \"y\"}}},\n",
              "                        {\"responsive\": true}\n",
              "                    ).then(function(){\n",
              "                            \n",
              "var gd = document.getElementById('936034ad-233b-410d-a806-9bef9e8a76a3');\n",
              "var x = new MutationObserver(function (mutations, observer) {{\n",
              "        var display = window.getComputedStyle(gd).display;\n",
              "        if (!display || display === 'none') {{\n",
              "            console.log([gd, 'removed!']);\n",
              "            Plotly.purge(gd);\n",
              "            observer.disconnect();\n",
              "        }}\n",
              "}});\n",
              "\n",
              "// Listen for the removal of the full notebook cells\n",
              "var notebookContainer = gd.closest('#notebook-container');\n",
              "if (notebookContainer) {{\n",
              "    x.observe(notebookContainer, {childList: true});\n",
              "}}\n",
              "\n",
              "// Listen for the clearing of the current output cell\n",
              "var outputEl = gd.closest('.output');\n",
              "if (outputEl) {{\n",
              "    x.observe(outputEl, {childList: true});\n",
              "}}\n",
              "\n",
              "                        })\n",
              "                };\n",
              "                \n",
              "            </script>\n",
              "        </div>\n",
              "</body>\n",
              "</html>"
            ]
          },
          "metadata": {
            "tags": []
          }
        }
      ]
    },
    {
      "cell_type": "code",
      "metadata": {
        "id": "dngSz8BZJ3Pa",
        "colab": {
          "base_uri": "https://localhost:8080/",
          "height": 1000,
          "referenced_widgets": [
            "d89254c9fe5645398b8a9da0f59728e9",
            "3f11ee0bf40c4b698f3ed160996b1b81",
            "c3fffe22e94c471ebbba4beaaca81d74",
            "7253d90314b64e1b80795d37848cd624",
            "f0945adc9ac74971ab69df55ac255548",
            "639f72550d2f4aef8c1d3efc755d0831",
            "cdfd4f08513142c089379f79460c3d1f",
            "243a5a0f4c6446108ef03d7052f04835"
          ]
        },
        "outputId": "ebb9d090-8f90-49e2-9af0-d528a780749c"
      },
      "source": [
        "cross_validation_results = cross_validation(m, period='15 days', horizon='59 days')\n",
        "print(cross_validation_results)"
      ],
      "execution_count": 28,
      "outputs": [
        {
          "output_type": "stream",
          "text": [
            "INFO:fbprophet:Making 1 forecasts with cutoffs between 2020-09-04 00:00:00 and 2020-09-04 00:00:00\n"
          ],
          "name": "stderr"
        },
        {
          "output_type": "display_data",
          "data": {
            "application/vnd.jupyter.widget-view+json": {
              "model_id": "d89254c9fe5645398b8a9da0f59728e9",
              "version_minor": 0,
              "version_major": 2
            },
            "text/plain": [
              "HBox(children=(FloatProgress(value=0.0, max=1.0), HTML(value='')))"
            ]
          },
          "metadata": {
            "tags": []
          }
        },
        {
          "output_type": "stream",
          "text": [
            "WARNING:fbprophet.models:Optimization terminated abnormally. Falling back to Newton.\n"
          ],
          "name": "stderr"
        },
        {
          "output_type": "stream",
          "text": [
            "\n",
            "           ds        yhat  yhat_lower  yhat_upper    y     cutoff\n",
            "0  2020-09-10  125.760163   25.977948  230.892630   82 2020-09-04\n",
            "1  2020-09-11  121.681027   14.807823  225.963527  114 2020-09-04\n",
            "2  2020-09-12   89.750278  -14.805147  192.828055   92 2020-09-04\n",
            "3  2020-09-13   53.483065  -42.591503  151.861429   87 2020-09-04\n",
            "4  2020-09-14   31.210891  -77.914458  130.797668   61 2020-09-04\n",
            "5  2020-09-15   27.068452  -76.048253  124.575133   86 2020-09-04\n",
            "6  2020-09-16   90.750386   -7.784538  184.963575   75 2020-09-04\n",
            "7  2020-09-17   90.577759  -15.713256  190.458032   92 2020-09-04\n",
            "8  2020-09-18  112.664998    8.707904  218.040906   72 2020-09-04\n",
            "9  2020-09-19  126.891748   23.506440  216.059504  111 2020-09-04\n",
            "10 2020-09-20   74.240630  -21.301837  180.802495   73 2020-09-04\n",
            "11 2020-09-21   38.769337  -60.958381  141.774111   50 2020-09-04\n",
            "12 2020-09-22   44.833629  -53.973026  147.023596   75 2020-09-04\n",
            "13 2020-09-23   84.461442  -27.533263  184.040062   72 2020-09-04\n",
            "14 2020-09-24  111.565967    9.316236  217.069675   55 2020-09-04\n",
            "15 2020-09-25   95.609835   -3.644341  198.430682   80 2020-09-04\n",
            "16 2020-09-26  133.109052   28.364597  234.467241   80 2020-09-04\n",
            "17 2020-09-27  113.214753    7.576064  216.120558   76 2020-09-04\n",
            "18 2020-09-28  124.819478   27.813539  230.685703   77 2020-09-04\n",
            "19 2020-09-29   98.525492    0.966419  208.670788   89 2020-09-04\n",
            "20 2020-09-30  140.910500   40.009349  237.668111   75 2020-09-04\n",
            "21 2020-10-01  139.267610   33.232402  243.862314   81 2020-09-04\n",
            "22 2020-10-02  123.821553   16.220255  227.244534  114 2020-09-04\n",
            "23 2020-10-03  153.112437   49.690529  251.935409  142 2020-09-04\n",
            "24 2020-10-04  111.630417    8.204991  215.445718   88 2020-09-04\n",
            "25 2020-10-05   36.472288  -61.478754  142.731038   65 2020-09-04\n",
            "26 2020-10-06   74.925778  -32.417664  188.737894   99 2020-09-04\n",
            "27 2020-10-07  135.458559   31.918035  237.232661  133 2020-09-04\n",
            "28 2020-10-09  110.067334    7.909076  215.877069   89 2020-09-04\n",
            "29 2020-10-10  197.677806   97.683464  294.948655  114 2020-09-04\n",
            "30 2020-10-11  162.071732   68.471008  263.481226  101 2020-09-04\n",
            "31 2020-10-12  244.151431  143.066056  351.048802   74 2020-09-04\n",
            "32 2020-10-13  117.801239   12.832214  222.370357  110 2020-09-04\n",
            "33 2020-10-14  135.483844   27.233419  241.997126   94 2020-09-04\n",
            "34 2020-10-15  138.427607   34.525345  240.755850   97 2020-09-04\n",
            "35 2020-10-16  215.937038  105.064728  311.357509  114 2020-09-04\n",
            "36 2020-10-17  163.922529   65.298710  265.706408  126 2020-09-04\n",
            "37 2020-10-18  155.590628   39.736271  254.807325  111 2020-09-04\n",
            "38 2020-10-19  105.907870    1.646507  207.494285   70 2020-09-04\n",
            "39 2020-10-20  132.733359   27.573113  244.570425   83 2020-09-04\n",
            "40 2020-10-21  147.190767   48.104268  257.046266  142 2020-09-04\n",
            "41 2020-10-22  145.966608   45.003572  251.972555   86 2020-09-04\n",
            "42 2020-10-23  158.595549   53.287738  259.175934  110 2020-09-04\n",
            "43 2020-10-24  180.791553   79.355243  282.615468  170 2020-09-04\n",
            "44 2020-10-25  130.783584   27.929385  232.056169  118 2020-09-04\n",
            "45 2020-10-26  110.228155    8.815381  221.077417   74 2020-09-04\n",
            "46 2020-10-27   97.737111   -3.671548  205.868312  128 2020-09-04\n",
            "47 2020-10-28  149.226142   37.475761  259.606910  176 2020-09-04\n",
            "48 2020-10-29  205.567245   89.307615  319.268026  185 2020-09-04\n",
            "49 2020-10-30  169.448335   68.208969  266.810238  175 2020-09-04\n",
            "50 2020-10-31  110.043707   11.269494  211.956446  160 2020-09-04\n",
            "51 2020-11-01  173.222843   69.086297  282.428314  145 2020-09-04\n",
            "52 2020-11-02  108.032214    2.150109  215.851608  122 2020-09-04\n"
          ],
          "name": "stdout"
        }
      ]
    },
    {
      "cell_type": "code",
      "metadata": {
        "id": "EWP0v9hPJ3Pd",
        "colab": {
          "base_uri": "https://localhost:8080/"
        },
        "outputId": "b01169b7-c46c-45c7-9d8c-05e1b146de68"
      },
      "source": [
        "performance_metrics_results = performance_metrics(cross_validation_results)\n",
        "print(performance_metrics_results)"
      ],
      "execution_count": 29,
      "outputs": [
        {
          "output_type": "stream",
          "text": [
            "   horizon          mse       rmse        mae      mape     mdape  coverage\n",
            "0  10 days   797.957443  28.248141  23.399391  0.299818  0.385252       1.0\n",
            "1  11 days  1109.552541  33.309947  26.433668  0.330136  0.385252       1.0\n",
            "2  12 days  1147.367840  33.872819  28.047540  0.358661  0.385252       1.0\n",
            "3  13 days  1146.760144  33.863847  27.882044  0.356863  0.385252       1.0\n",
            "4  14 days  1252.811574  35.395078  29.311656  0.392771  0.488346       1.0\n",
            "5  15 days  1125.842897  33.553582  26.532184  0.323735  0.210005       1.0\n",
            "6  16 days   431.565267  20.774149  14.994001  0.190084  0.143169       1.0\n",
            "7  17 days   407.175894  20.178600  14.090056  0.193006  0.143169       1.0\n",
            "8  18 days   588.773328  24.264652  19.838882  0.270357  0.224613       1.0\n",
            "9  19 days   289.102416  17.003012  14.198171  0.192014  0.173076       1.0\n",
            "10 20 days   878.534603  29.640084  22.333015  0.369075  0.224613       1.0\n",
            "11 21 days   926.960158  30.446020  25.206855  0.404700  0.224613       1.0\n",
            "12 22 days  1465.848879  38.286406  33.582533  0.492550  0.402218       1.0\n",
            "13 23 days  1560.834461  39.507398  34.992210  0.510040  0.489668       1.0\n",
            "14 24 days  1987.117447  44.577096  42.063817  0.599632  0.621032       1.0\n",
            "15 25 days  1365.322728  36.950274  32.655722  0.415343  0.489668       1.0\n",
            "16 26 days  2185.428145  46.748563  42.715855  0.552080  0.621032       1.0\n",
            "17 27 days  2300.336752  47.961826  43.747567  0.563178  0.621032       1.0\n",
            "18 28 days  2042.641762  45.195594  38.268927  0.482475  0.621032       1.0\n",
            "19 29 days  1609.998520  40.124787  30.927518  0.373920  0.107028       1.0\n",
            "20 30 days  1703.530839  41.273852  33.748503  0.406220  0.268527       1.0\n",
            "21 31 days   997.458106  31.582560  26.271946  0.318236  0.268527       1.0\n",
            "22 32 days   434.348849  20.841038  19.433268  0.223000  0.243174       1.0\n",
            "23 33 days   416.265172  20.402578  17.960669  0.209466  0.243174       1.0\n",
            "24 35 days   480.334435  21.916533  19.951649  0.241157  0.243174       1.0\n",
            "25 36 days  1769.050165  42.060078  31.961127  0.334255  0.243174       1.0\n",
            "26 37 days  2352.235388  48.499849  38.469931  0.367411  0.243174       1.0\n",
            "27 38 days  8026.623625  89.591426  67.685372  0.778645  0.604671       0.8\n",
            "28 39 days  8037.586588  89.652588  68.753908  0.789132  0.604671       0.8\n",
            "29 40 days  8293.001930  91.065921  72.837210  0.830054  0.604671       0.8\n",
            "30 41 days  7235.856204  85.063836  64.387170  0.768668  0.441317       0.8\n",
            "31 42 days  8568.136841  92.564231  72.560232  0.826571  0.441317       0.8\n",
            "32 43 days  3065.458621  55.366584  46.114451  0.426897  0.427089       1.0\n",
            "33 44 days  3450.951582  58.744800  53.472329  0.493056  0.427089       1.0\n",
            "34 45 days  3364.644753  58.005558  52.357134  0.507387  0.427089       1.0\n",
            "35 46 days  3516.076834  59.296516  54.018285  0.541808  0.512970       1.0\n",
            "36 47 days  1443.233716  37.989916  34.669031  0.370282  0.401717       1.0\n",
            "37 48 days  1874.808882  43.299063  39.077847  0.449545  0.512970       1.0\n",
            "38 49 days  1949.449522  44.152571  39.878831  0.457557  0.512970       1.0\n",
            "39 50 days  1714.866018  41.410941  34.855567  0.367659  0.441778       1.0\n",
            "40 51 days  1252.868621  35.395884  27.465612  0.269487  0.108335       1.0\n",
            "41 52 days  1509.975647  38.858405  33.673090  0.360090  0.441778       1.0\n",
            "42 53 days   973.945324  31.208097  27.732346  0.267918  0.236429       1.0\n",
            "43 54 days   645.007752  25.397003  23.368008  0.209988  0.152124       1.0\n",
            "44 55 days   706.318543  26.576654  25.323146  0.219526  0.152124       1.0\n",
            "45 56 days   679.798733  26.072950  23.876762  0.204204  0.152124       1.0\n",
            "46 57 days   916.429143  30.272581  26.622390  0.168736  0.152124       1.0\n",
            "47 58 days   892.566426  29.875850  26.214381  0.160378  0.152124       1.0\n",
            "48 59 days   788.218340  28.075226  23.653166  0.152851  0.114490       1.0\n"
          ],
          "name": "stdout"
        }
      ]
    }
  ]
}