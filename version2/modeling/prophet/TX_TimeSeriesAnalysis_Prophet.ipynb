{
  "nbformat": 4,
  "nbformat_minor": 0,
  "metadata": {
    "colab": {
      "name": "TX_TimeSeriesAnalysis_Prophet.ipynb",
      "provenance": [],
      "collapsed_sections": [],
      "toc_visible": true,
      "include_colab_link": true
    },
    "kernelspec": {
      "name": "python3",
      "display_name": "Python 3"
    },
    "widgets": {
      "application/vnd.jupyter.widget-state+json": {
        "156d97ee2aa64331bc5d1a524751fa7b": {
          "model_module": "@jupyter-widgets/controls",
          "model_name": "HBoxModel",
          "state": {
            "_view_name": "HBoxView",
            "_dom_classes": [],
            "_model_name": "HBoxModel",
            "_view_module": "@jupyter-widgets/controls",
            "_model_module_version": "1.5.0",
            "_view_count": null,
            "_view_module_version": "1.5.0",
            "box_style": "",
            "layout": "IPY_MODEL_b48f84729eb042a6a77a729cf93bf950",
            "_model_module": "@jupyter-widgets/controls",
            "children": [
              "IPY_MODEL_5036315888ef47018caea4b0f24f96e0",
              "IPY_MODEL_24b987f260834dafa7f3425efb128f87"
            ]
          }
        },
        "b48f84729eb042a6a77a729cf93bf950": {
          "model_module": "@jupyter-widgets/base",
          "model_name": "LayoutModel",
          "state": {
            "_view_name": "LayoutView",
            "grid_template_rows": null,
            "right": null,
            "justify_content": null,
            "_view_module": "@jupyter-widgets/base",
            "overflow": null,
            "_model_module_version": "1.2.0",
            "_view_count": null,
            "flex_flow": null,
            "width": null,
            "min_width": null,
            "border": null,
            "align_items": null,
            "bottom": null,
            "_model_module": "@jupyter-widgets/base",
            "top": null,
            "grid_column": null,
            "overflow_y": null,
            "overflow_x": null,
            "grid_auto_flow": null,
            "grid_area": null,
            "grid_template_columns": null,
            "flex": null,
            "_model_name": "LayoutModel",
            "justify_items": null,
            "grid_row": null,
            "max_height": null,
            "align_content": null,
            "visibility": null,
            "align_self": null,
            "height": null,
            "min_height": null,
            "padding": null,
            "grid_auto_rows": null,
            "grid_gap": null,
            "max_width": null,
            "order": null,
            "_view_module_version": "1.2.0",
            "grid_template_areas": null,
            "object_position": null,
            "object_fit": null,
            "grid_auto_columns": null,
            "margin": null,
            "display": null,
            "left": null
          }
        },
        "5036315888ef47018caea4b0f24f96e0": {
          "model_module": "@jupyter-widgets/controls",
          "model_name": "FloatProgressModel",
          "state": {
            "_view_name": "ProgressView",
            "style": "IPY_MODEL_c4327d69a5df42eab22f315fde8151ab",
            "_dom_classes": [],
            "description": "100%",
            "_model_name": "FloatProgressModel",
            "bar_style": "success",
            "max": 1,
            "_view_module": "@jupyter-widgets/controls",
            "_model_module_version": "1.5.0",
            "value": 1,
            "_view_count": null,
            "_view_module_version": "1.5.0",
            "orientation": "horizontal",
            "min": 0,
            "description_tooltip": null,
            "_model_module": "@jupyter-widgets/controls",
            "layout": "IPY_MODEL_da36337d20bf4de38afa55bf9c3f6db0"
          }
        },
        "24b987f260834dafa7f3425efb128f87": {
          "model_module": "@jupyter-widgets/controls",
          "model_name": "HTMLModel",
          "state": {
            "_view_name": "HTMLView",
            "style": "IPY_MODEL_3db29c9bd33c4385b9c5a899e673b28c",
            "_dom_classes": [],
            "description": "",
            "_model_name": "HTMLModel",
            "placeholder": "​",
            "_view_module": "@jupyter-widgets/controls",
            "_model_module_version": "1.5.0",
            "value": " 1/1 [00:03&lt;00:00,  3.58s/it]",
            "_view_count": null,
            "_view_module_version": "1.5.0",
            "description_tooltip": null,
            "_model_module": "@jupyter-widgets/controls",
            "layout": "IPY_MODEL_a76b480956294046b4928a37816fe15d"
          }
        },
        "c4327d69a5df42eab22f315fde8151ab": {
          "model_module": "@jupyter-widgets/controls",
          "model_name": "ProgressStyleModel",
          "state": {
            "_view_name": "StyleView",
            "_model_name": "ProgressStyleModel",
            "description_width": "initial",
            "_view_module": "@jupyter-widgets/base",
            "_model_module_version": "1.5.0",
            "_view_count": null,
            "_view_module_version": "1.2.0",
            "bar_color": null,
            "_model_module": "@jupyter-widgets/controls"
          }
        },
        "da36337d20bf4de38afa55bf9c3f6db0": {
          "model_module": "@jupyter-widgets/base",
          "model_name": "LayoutModel",
          "state": {
            "_view_name": "LayoutView",
            "grid_template_rows": null,
            "right": null,
            "justify_content": null,
            "_view_module": "@jupyter-widgets/base",
            "overflow": null,
            "_model_module_version": "1.2.0",
            "_view_count": null,
            "flex_flow": null,
            "width": null,
            "min_width": null,
            "border": null,
            "align_items": null,
            "bottom": null,
            "_model_module": "@jupyter-widgets/base",
            "top": null,
            "grid_column": null,
            "overflow_y": null,
            "overflow_x": null,
            "grid_auto_flow": null,
            "grid_area": null,
            "grid_template_columns": null,
            "flex": null,
            "_model_name": "LayoutModel",
            "justify_items": null,
            "grid_row": null,
            "max_height": null,
            "align_content": null,
            "visibility": null,
            "align_self": null,
            "height": null,
            "min_height": null,
            "padding": null,
            "grid_auto_rows": null,
            "grid_gap": null,
            "max_width": null,
            "order": null,
            "_view_module_version": "1.2.0",
            "grid_template_areas": null,
            "object_position": null,
            "object_fit": null,
            "grid_auto_columns": null,
            "margin": null,
            "display": null,
            "left": null
          }
        },
        "3db29c9bd33c4385b9c5a899e673b28c": {
          "model_module": "@jupyter-widgets/controls",
          "model_name": "DescriptionStyleModel",
          "state": {
            "_view_name": "StyleView",
            "_model_name": "DescriptionStyleModel",
            "description_width": "",
            "_view_module": "@jupyter-widgets/base",
            "_model_module_version": "1.5.0",
            "_view_count": null,
            "_view_module_version": "1.2.0",
            "_model_module": "@jupyter-widgets/controls"
          }
        },
        "a76b480956294046b4928a37816fe15d": {
          "model_module": "@jupyter-widgets/base",
          "model_name": "LayoutModel",
          "state": {
            "_view_name": "LayoutView",
            "grid_template_rows": null,
            "right": null,
            "justify_content": null,
            "_view_module": "@jupyter-widgets/base",
            "overflow": null,
            "_model_module_version": "1.2.0",
            "_view_count": null,
            "flex_flow": null,
            "width": null,
            "min_width": null,
            "border": null,
            "align_items": null,
            "bottom": null,
            "_model_module": "@jupyter-widgets/base",
            "top": null,
            "grid_column": null,
            "overflow_y": null,
            "overflow_x": null,
            "grid_auto_flow": null,
            "grid_area": null,
            "grid_template_columns": null,
            "flex": null,
            "_model_name": "LayoutModel",
            "justify_items": null,
            "grid_row": null,
            "max_height": null,
            "align_content": null,
            "visibility": null,
            "align_self": null,
            "height": null,
            "min_height": null,
            "padding": null,
            "grid_auto_rows": null,
            "grid_gap": null,
            "max_width": null,
            "order": null,
            "_view_module_version": "1.2.0",
            "grid_template_areas": null,
            "object_position": null,
            "object_fit": null,
            "grid_auto_columns": null,
            "margin": null,
            "display": null,
            "left": null
          }
        }
      }
    }
  },
  "cells": [
    {
      "cell_type": "markdown",
      "metadata": {
        "id": "view-in-github",
        "colab_type": "text"
      },
      "source": [
        "<a href=\"https://colab.research.google.com/github/aarsanjani/meansquares/blob/master/version2/modeling/prophet/TX_TimeSeriesAnalysis_Prophet.ipynb\" target=\"_parent\"><img src=\"https://colab.research.google.com/assets/colab-badge.svg\" alt=\"Open In Colab\"/></a>"
      ]
    },
    {
      "cell_type": "markdown",
      "metadata": {
        "id": "boKToYTln-Gg"
      },
      "source": [
        "# TX Prophet"
      ]
    },
    {
      "cell_type": "markdown",
      "metadata": {
        "id": "1XZE4_8qoJJQ"
      },
      "source": [
        "## Imports"
      ]
    },
    {
      "cell_type": "code",
      "metadata": {
        "id": "U9vA50xjnxzi",
        "colab": {
          "base_uri": "https://localhost:8080/"
        },
        "outputId": "1740147c-2f20-46d6-a1d6-e558df1bad57"
      },
      "source": [
        "from google.colab import drive\n",
        "drive.mount('/content/drive')"
      ],
      "execution_count": 1,
      "outputs": [
        {
          "output_type": "stream",
          "text": [
            "Drive already mounted at /content/drive; to attempt to forcibly remount, call drive.mount(\"/content/drive\", force_remount=True).\n"
          ],
          "name": "stdout"
        }
      ]
    },
    {
      "cell_type": "code",
      "metadata": {
        "id": "C4mP0tZFopX0"
      },
      "source": [
        "import pandas as pd\n",
        "from fbprophet import Prophet\n",
        "from fbprophet.plot import plot_plotly, plot_components_plotly\n",
        "from sklearn.model_selection import train_test_split\n",
        "from sklearn import preprocessing\n",
        "from fbprophet.diagnostics import cross_validation\n",
        "from fbprophet.diagnostics import performance_metrics"
      ],
      "execution_count": 2,
      "outputs": []
    },
    {
      "cell_type": "markdown",
      "metadata": {
        "id": "yV0rYBj9uH9C"
      },
      "source": [
        "## Texas Data"
      ]
    },
    {
      "cell_type": "code",
      "metadata": {
        "id": "uEqMDIW7oDNs",
        "colab": {
          "base_uri": "https://localhost:8080/",
          "height": 326
        },
        "outputId": "bf8dc833-7103-4678-adcb-5ebccc8de6ff"
      },
      "source": [
        "TX_labeledData = pd.read_csv('/content/drive/Shared drives/CMPE 295- Master Project/projectdata-2021/TX_alldatasets_Jan11.csv',low_memory=False)\n",
        "TX_labeledData.tail()"
      ],
      "execution_count": 3,
      "outputs": [
        {
          "output_type": "execute_result",
          "data": {
            "text/html": [
              "<div>\n",
              "<style scoped>\n",
              "    .dataframe tbody tr th:only-of-type {\n",
              "        vertical-align: middle;\n",
              "    }\n",
              "\n",
              "    .dataframe tbody tr th {\n",
              "        vertical-align: top;\n",
              "    }\n",
              "\n",
              "    .dataframe thead th {\n",
              "        text-align: right;\n",
              "    }\n",
              "</style>\n",
              "<table border=\"1\" class=\"dataframe\">\n",
              "  <thead>\n",
              "    <tr style=\"text-align: right;\">\n",
              "      <th></th>\n",
              "      <th>Date</th>\n",
              "      <th>Province_State</th>\n",
              "      <th>FIPS</th>\n",
              "      <th>New cases</th>\n",
              "      <th>County Name</th>\n",
              "      <th>population</th>\n",
              "      <th>mask_rule_active</th>\n",
              "      <th>m50</th>\n",
              "      <th>m50_index</th>\n",
              "      <th>retail_and_recreation_percent_change_from_baseline</th>\n",
              "      <th>grocery_and_pharmacy_percent_change_from_baseline</th>\n",
              "      <th>parks_percent_change_from_baseline</th>\n",
              "      <th>transit_stations_percent_change_from_baseline</th>\n",
              "      <th>workplaces_percent_change_from_baseline</th>\n",
              "      <th>residential_percent_change_from_baseline</th>\n",
              "    </tr>\n",
              "  </thead>\n",
              "  <tbody>\n",
              "    <tr>\n",
              "      <th>53458</th>\n",
              "      <td>2020-12-30</td>\n",
              "      <td>Texas</td>\n",
              "      <td>48507</td>\n",
              "      <td>10</td>\n",
              "      <td>Zavala County</td>\n",
              "      <td>11840</td>\n",
              "      <td>1</td>\n",
              "      <td>4.564</td>\n",
              "      <td>47</td>\n",
              "      <td>0.0</td>\n",
              "      <td>0.0</td>\n",
              "      <td>0.0</td>\n",
              "      <td>0.0</td>\n",
              "      <td>-38.0</td>\n",
              "      <td>0.0</td>\n",
              "    </tr>\n",
              "    <tr>\n",
              "      <th>53459</th>\n",
              "      <td>2020-12-31</td>\n",
              "      <td>Texas</td>\n",
              "      <td>48507</td>\n",
              "      <td>5</td>\n",
              "      <td>Zavala County</td>\n",
              "      <td>11840</td>\n",
              "      <td>1</td>\n",
              "      <td>3.274</td>\n",
              "      <td>34</td>\n",
              "      <td>0.0</td>\n",
              "      <td>0.0</td>\n",
              "      <td>0.0</td>\n",
              "      <td>0.0</td>\n",
              "      <td>-44.0</td>\n",
              "      <td>0.0</td>\n",
              "    </tr>\n",
              "    <tr>\n",
              "      <th>53460</th>\n",
              "      <td>2021-01-01</td>\n",
              "      <td>Texas</td>\n",
              "      <td>48507</td>\n",
              "      <td>0</td>\n",
              "      <td>Zavala County</td>\n",
              "      <td>11840</td>\n",
              "      <td>1</td>\n",
              "      <td>1.683</td>\n",
              "      <td>17</td>\n",
              "      <td>0.0</td>\n",
              "      <td>0.0</td>\n",
              "      <td>0.0</td>\n",
              "      <td>0.0</td>\n",
              "      <td>-61.0</td>\n",
              "      <td>0.0</td>\n",
              "    </tr>\n",
              "    <tr>\n",
              "      <th>53461</th>\n",
              "      <td>2021-01-04</td>\n",
              "      <td>Texas</td>\n",
              "      <td>48507</td>\n",
              "      <td>0</td>\n",
              "      <td>Zavala County</td>\n",
              "      <td>11840</td>\n",
              "      <td>1</td>\n",
              "      <td>10.211</td>\n",
              "      <td>106</td>\n",
              "      <td>0.0</td>\n",
              "      <td>0.0</td>\n",
              "      <td>0.0</td>\n",
              "      <td>0.0</td>\n",
              "      <td>-32.0</td>\n",
              "      <td>0.0</td>\n",
              "    </tr>\n",
              "    <tr>\n",
              "      <th>53462</th>\n",
              "      <td>2021-01-05</td>\n",
              "      <td>Texas</td>\n",
              "      <td>48507</td>\n",
              "      <td>98</td>\n",
              "      <td>Zavala County</td>\n",
              "      <td>11840</td>\n",
              "      <td>1</td>\n",
              "      <td>1.758</td>\n",
              "      <td>18</td>\n",
              "      <td>0.0</td>\n",
              "      <td>0.0</td>\n",
              "      <td>0.0</td>\n",
              "      <td>0.0</td>\n",
              "      <td>-31.0</td>\n",
              "      <td>0.0</td>\n",
              "    </tr>\n",
              "  </tbody>\n",
              "</table>\n",
              "</div>"
            ],
            "text/plain": [
              "             Date  ... residential_percent_change_from_baseline\n",
              "53458  2020-12-30  ...                                      0.0\n",
              "53459  2020-12-31  ...                                      0.0\n",
              "53460  2021-01-01  ...                                      0.0\n",
              "53461  2021-01-04  ...                                      0.0\n",
              "53462  2021-01-05  ...                                      0.0\n",
              "\n",
              "[5 rows x 15 columns]"
            ]
          },
          "metadata": {
            "tags": []
          },
          "execution_count": 3
        }
      ]
    },
    {
      "cell_type": "code",
      "metadata": {
        "id": "rZc3bBdPse6d"
      },
      "source": [
        "TX_labeledData = TX_labeledData.dropna()"
      ],
      "execution_count": 4,
      "outputs": []
    },
    {
      "cell_type": "code",
      "metadata": {
        "id": "LA2ZwyNIslZy"
      },
      "source": [
        "TX_labeledData['label_y'] = preprocessing.LabelEncoder().fit_transform(TX_labeledData['New cases'])"
      ],
      "execution_count": 5,
      "outputs": []
    },
    {
      "cell_type": "code",
      "metadata": {
        "id": "8h5T5dePwFa4"
      },
      "source": [
        "TX_labeledData['County Name Label'] = preprocessing.LabelEncoder().fit_transform(TX_labeledData['County Name'])"
      ],
      "execution_count": 6,
      "outputs": []
    },
    {
      "cell_type": "code",
      "metadata": {
        "id": "S_98ZWbgsn8c"
      },
      "source": [
        "TX_labeledData.rename(columns={'Date': 'ds', 'label_y': 'y'}, inplace=True)"
      ],
      "execution_count": 7,
      "outputs": []
    },
    {
      "cell_type": "code",
      "metadata": {
        "id": "ZoFf0WQTptg-"
      },
      "source": [
        "train, test = train_test_split(TX_labeledData, test_size=0.2, shuffle=False)"
      ],
      "execution_count": 8,
      "outputs": []
    },
    {
      "cell_type": "code",
      "metadata": {
        "id": "lee2ST1usLe8",
        "colab": {
          "base_uri": "https://localhost:8080/",
          "height": 343
        },
        "outputId": "9fb9696e-10d2-4bae-ab8b-ce68caa20c87"
      },
      "source": [
        "train.head()"
      ],
      "execution_count": 9,
      "outputs": [
        {
          "output_type": "execute_result",
          "data": {
            "text/html": [
              "<div>\n",
              "<style scoped>\n",
              "    .dataframe tbody tr th:only-of-type {\n",
              "        vertical-align: middle;\n",
              "    }\n",
              "\n",
              "    .dataframe tbody tr th {\n",
              "        vertical-align: top;\n",
              "    }\n",
              "\n",
              "    .dataframe thead th {\n",
              "        text-align: right;\n",
              "    }\n",
              "</style>\n",
              "<table border=\"1\" class=\"dataframe\">\n",
              "  <thead>\n",
              "    <tr style=\"text-align: right;\">\n",
              "      <th></th>\n",
              "      <th>ds</th>\n",
              "      <th>Province_State</th>\n",
              "      <th>FIPS</th>\n",
              "      <th>New cases</th>\n",
              "      <th>County Name</th>\n",
              "      <th>population</th>\n",
              "      <th>mask_rule_active</th>\n",
              "      <th>m50</th>\n",
              "      <th>m50_index</th>\n",
              "      <th>retail_and_recreation_percent_change_from_baseline</th>\n",
              "      <th>grocery_and_pharmacy_percent_change_from_baseline</th>\n",
              "      <th>parks_percent_change_from_baseline</th>\n",
              "      <th>transit_stations_percent_change_from_baseline</th>\n",
              "      <th>workplaces_percent_change_from_baseline</th>\n",
              "      <th>residential_percent_change_from_baseline</th>\n",
              "      <th>y</th>\n",
              "      <th>County Name Label</th>\n",
              "    </tr>\n",
              "  </thead>\n",
              "  <tbody>\n",
              "    <tr>\n",
              "      <th>0</th>\n",
              "      <td>2020-03-01</td>\n",
              "      <td>Texas</td>\n",
              "      <td>48001</td>\n",
              "      <td>0</td>\n",
              "      <td>Anderson County</td>\n",
              "      <td>57735</td>\n",
              "      <td>0</td>\n",
              "      <td>8.910</td>\n",
              "      <td>79</td>\n",
              "      <td>16.0</td>\n",
              "      <td>15.0</td>\n",
              "      <td>0.0</td>\n",
              "      <td>0.0</td>\n",
              "      <td>3.0</td>\n",
              "      <td>0.0</td>\n",
              "      <td>62</td>\n",
              "      <td>0</td>\n",
              "    </tr>\n",
              "    <tr>\n",
              "      <th>1</th>\n",
              "      <td>2020-03-02</td>\n",
              "      <td>Texas</td>\n",
              "      <td>48001</td>\n",
              "      <td>0</td>\n",
              "      <td>Anderson County</td>\n",
              "      <td>57735</td>\n",
              "      <td>0</td>\n",
              "      <td>10.708</td>\n",
              "      <td>95</td>\n",
              "      <td>14.0</td>\n",
              "      <td>7.0</td>\n",
              "      <td>0.0</td>\n",
              "      <td>0.0</td>\n",
              "      <td>2.0</td>\n",
              "      <td>-1.0</td>\n",
              "      <td>62</td>\n",
              "      <td>0</td>\n",
              "    </tr>\n",
              "    <tr>\n",
              "      <th>2</th>\n",
              "      <td>2020-03-03</td>\n",
              "      <td>Texas</td>\n",
              "      <td>48001</td>\n",
              "      <td>0</td>\n",
              "      <td>Anderson County</td>\n",
              "      <td>57735</td>\n",
              "      <td>0</td>\n",
              "      <td>12.118</td>\n",
              "      <td>107</td>\n",
              "      <td>21.0</td>\n",
              "      <td>8.0</td>\n",
              "      <td>0.0</td>\n",
              "      <td>0.0</td>\n",
              "      <td>2.0</td>\n",
              "      <td>-2.0</td>\n",
              "      <td>62</td>\n",
              "      <td>0</td>\n",
              "    </tr>\n",
              "    <tr>\n",
              "      <th>3</th>\n",
              "      <td>2020-03-04</td>\n",
              "      <td>Texas</td>\n",
              "      <td>48001</td>\n",
              "      <td>0</td>\n",
              "      <td>Anderson County</td>\n",
              "      <td>57735</td>\n",
              "      <td>0</td>\n",
              "      <td>9.156</td>\n",
              "      <td>81</td>\n",
              "      <td>12.0</td>\n",
              "      <td>5.0</td>\n",
              "      <td>0.0</td>\n",
              "      <td>0.0</td>\n",
              "      <td>1.0</td>\n",
              "      <td>2.0</td>\n",
              "      <td>62</td>\n",
              "      <td>0</td>\n",
              "    </tr>\n",
              "    <tr>\n",
              "      <th>4</th>\n",
              "      <td>2020-03-05</td>\n",
              "      <td>Texas</td>\n",
              "      <td>48001</td>\n",
              "      <td>0</td>\n",
              "      <td>Anderson County</td>\n",
              "      <td>57735</td>\n",
              "      <td>0</td>\n",
              "      <td>11.230</td>\n",
              "      <td>100</td>\n",
              "      <td>18.0</td>\n",
              "      <td>13.0</td>\n",
              "      <td>0.0</td>\n",
              "      <td>0.0</td>\n",
              "      <td>3.0</td>\n",
              "      <td>-3.0</td>\n",
              "      <td>62</td>\n",
              "      <td>0</td>\n",
              "    </tr>\n",
              "  </tbody>\n",
              "</table>\n",
              "</div>"
            ],
            "text/plain": [
              "           ds Province_State  ...   y  County Name Label\n",
              "0  2020-03-01          Texas  ...  62                  0\n",
              "1  2020-03-02          Texas  ...  62                  0\n",
              "2  2020-03-03          Texas  ...  62                  0\n",
              "3  2020-03-04          Texas  ...  62                  0\n",
              "4  2020-03-05          Texas  ...  62                  0\n",
              "\n",
              "[5 rows x 17 columns]"
            ]
          },
          "metadata": {
            "tags": []
          },
          "execution_count": 9
        }
      ]
    },
    {
      "cell_type": "code",
      "metadata": {
        "id": "_25MLq-jsNQH",
        "colab": {
          "base_uri": "https://localhost:8080/",
          "height": 343
        },
        "outputId": "3afe7d4e-4047-4c97-b954-49cc58204b0b"
      },
      "source": [
        "test.tail()"
      ],
      "execution_count": 10,
      "outputs": [
        {
          "output_type": "execute_result",
          "data": {
            "text/html": [
              "<div>\n",
              "<style scoped>\n",
              "    .dataframe tbody tr th:only-of-type {\n",
              "        vertical-align: middle;\n",
              "    }\n",
              "\n",
              "    .dataframe tbody tr th {\n",
              "        vertical-align: top;\n",
              "    }\n",
              "\n",
              "    .dataframe thead th {\n",
              "        text-align: right;\n",
              "    }\n",
              "</style>\n",
              "<table border=\"1\" class=\"dataframe\">\n",
              "  <thead>\n",
              "    <tr style=\"text-align: right;\">\n",
              "      <th></th>\n",
              "      <th>ds</th>\n",
              "      <th>Province_State</th>\n",
              "      <th>FIPS</th>\n",
              "      <th>New cases</th>\n",
              "      <th>County Name</th>\n",
              "      <th>population</th>\n",
              "      <th>mask_rule_active</th>\n",
              "      <th>m50</th>\n",
              "      <th>m50_index</th>\n",
              "      <th>retail_and_recreation_percent_change_from_baseline</th>\n",
              "      <th>grocery_and_pharmacy_percent_change_from_baseline</th>\n",
              "      <th>parks_percent_change_from_baseline</th>\n",
              "      <th>transit_stations_percent_change_from_baseline</th>\n",
              "      <th>workplaces_percent_change_from_baseline</th>\n",
              "      <th>residential_percent_change_from_baseline</th>\n",
              "      <th>y</th>\n",
              "      <th>County Name Label</th>\n",
              "    </tr>\n",
              "  </thead>\n",
              "  <tbody>\n",
              "    <tr>\n",
              "      <th>53458</th>\n",
              "      <td>2020-12-30</td>\n",
              "      <td>Texas</td>\n",
              "      <td>48507</td>\n",
              "      <td>10</td>\n",
              "      <td>Zavala County</td>\n",
              "      <td>11840</td>\n",
              "      <td>1</td>\n",
              "      <td>4.564</td>\n",
              "      <td>47</td>\n",
              "      <td>0.0</td>\n",
              "      <td>0.0</td>\n",
              "      <td>0.0</td>\n",
              "      <td>0.0</td>\n",
              "      <td>-38.0</td>\n",
              "      <td>0.0</td>\n",
              "      <td>72</td>\n",
              "      <td>205</td>\n",
              "    </tr>\n",
              "    <tr>\n",
              "      <th>53459</th>\n",
              "      <td>2020-12-31</td>\n",
              "      <td>Texas</td>\n",
              "      <td>48507</td>\n",
              "      <td>5</td>\n",
              "      <td>Zavala County</td>\n",
              "      <td>11840</td>\n",
              "      <td>1</td>\n",
              "      <td>3.274</td>\n",
              "      <td>34</td>\n",
              "      <td>0.0</td>\n",
              "      <td>0.0</td>\n",
              "      <td>0.0</td>\n",
              "      <td>0.0</td>\n",
              "      <td>-44.0</td>\n",
              "      <td>0.0</td>\n",
              "      <td>67</td>\n",
              "      <td>205</td>\n",
              "    </tr>\n",
              "    <tr>\n",
              "      <th>53460</th>\n",
              "      <td>2021-01-01</td>\n",
              "      <td>Texas</td>\n",
              "      <td>48507</td>\n",
              "      <td>0</td>\n",
              "      <td>Zavala County</td>\n",
              "      <td>11840</td>\n",
              "      <td>1</td>\n",
              "      <td>1.683</td>\n",
              "      <td>17</td>\n",
              "      <td>0.0</td>\n",
              "      <td>0.0</td>\n",
              "      <td>0.0</td>\n",
              "      <td>0.0</td>\n",
              "      <td>-61.0</td>\n",
              "      <td>0.0</td>\n",
              "      <td>62</td>\n",
              "      <td>205</td>\n",
              "    </tr>\n",
              "    <tr>\n",
              "      <th>53461</th>\n",
              "      <td>2021-01-04</td>\n",
              "      <td>Texas</td>\n",
              "      <td>48507</td>\n",
              "      <td>0</td>\n",
              "      <td>Zavala County</td>\n",
              "      <td>11840</td>\n",
              "      <td>1</td>\n",
              "      <td>10.211</td>\n",
              "      <td>106</td>\n",
              "      <td>0.0</td>\n",
              "      <td>0.0</td>\n",
              "      <td>0.0</td>\n",
              "      <td>0.0</td>\n",
              "      <td>-32.0</td>\n",
              "      <td>0.0</td>\n",
              "      <td>62</td>\n",
              "      <td>205</td>\n",
              "    </tr>\n",
              "    <tr>\n",
              "      <th>53462</th>\n",
              "      <td>2021-01-05</td>\n",
              "      <td>Texas</td>\n",
              "      <td>48507</td>\n",
              "      <td>98</td>\n",
              "      <td>Zavala County</td>\n",
              "      <td>11840</td>\n",
              "      <td>1</td>\n",
              "      <td>1.758</td>\n",
              "      <td>18</td>\n",
              "      <td>0.0</td>\n",
              "      <td>0.0</td>\n",
              "      <td>0.0</td>\n",
              "      <td>0.0</td>\n",
              "      <td>-31.0</td>\n",
              "      <td>0.0</td>\n",
              "      <td>160</td>\n",
              "      <td>205</td>\n",
              "    </tr>\n",
              "  </tbody>\n",
              "</table>\n",
              "</div>"
            ],
            "text/plain": [
              "               ds Province_State  ...    y  County Name Label\n",
              "53458  2020-12-30          Texas  ...   72                205\n",
              "53459  2020-12-31          Texas  ...   67                205\n",
              "53460  2021-01-01          Texas  ...   62                205\n",
              "53461  2021-01-04          Texas  ...   62                205\n",
              "53462  2021-01-05          Texas  ...  160                205\n",
              "\n",
              "[5 rows x 17 columns]"
            ]
          },
          "metadata": {
            "tags": []
          },
          "execution_count": 10
        }
      ]
    },
    {
      "cell_type": "markdown",
      "metadata": {
        "id": "ZfH7VqBzIdT8"
      },
      "source": [
        "## Harris County"
      ]
    },
    {
      "cell_type": "code",
      "metadata": {
        "id": "_3M280zeI43B",
        "colab": {
          "base_uri": "https://localhost:8080/",
          "height": 343
        },
        "outputId": "da4c7bac-d79d-4b6f-c8ca-cea38dcca1b6"
      },
      "source": [
        "TX_labeledData_Harris = TX_labeledData[TX_labeledData['County Name'] == 'Harris County']\n",
        "TX_labeledData_Harris = TX_labeledData_Harris.reset_index(drop=True)\n",
        "TX_labeledData_Harris.tail()"
      ],
      "execution_count": 11,
      "outputs": [
        {
          "output_type": "execute_result",
          "data": {
            "text/html": [
              "<div>\n",
              "<style scoped>\n",
              "    .dataframe tbody tr th:only-of-type {\n",
              "        vertical-align: middle;\n",
              "    }\n",
              "\n",
              "    .dataframe tbody tr th {\n",
              "        vertical-align: top;\n",
              "    }\n",
              "\n",
              "    .dataframe thead th {\n",
              "        text-align: right;\n",
              "    }\n",
              "</style>\n",
              "<table border=\"1\" class=\"dataframe\">\n",
              "  <thead>\n",
              "    <tr style=\"text-align: right;\">\n",
              "      <th></th>\n",
              "      <th>ds</th>\n",
              "      <th>Province_State</th>\n",
              "      <th>FIPS</th>\n",
              "      <th>New cases</th>\n",
              "      <th>County Name</th>\n",
              "      <th>population</th>\n",
              "      <th>mask_rule_active</th>\n",
              "      <th>m50</th>\n",
              "      <th>m50_index</th>\n",
              "      <th>retail_and_recreation_percent_change_from_baseline</th>\n",
              "      <th>grocery_and_pharmacy_percent_change_from_baseline</th>\n",
              "      <th>parks_percent_change_from_baseline</th>\n",
              "      <th>transit_stations_percent_change_from_baseline</th>\n",
              "      <th>workplaces_percent_change_from_baseline</th>\n",
              "      <th>residential_percent_change_from_baseline</th>\n",
              "      <th>y</th>\n",
              "      <th>County Name Label</th>\n",
              "    </tr>\n",
              "  </thead>\n",
              "  <tbody>\n",
              "    <tr>\n",
              "      <th>295</th>\n",
              "      <td>2021-01-01</td>\n",
              "      <td>Texas</td>\n",
              "      <td>48201</td>\n",
              "      <td>1930</td>\n",
              "      <td>Harris County</td>\n",
              "      <td>4713325</td>\n",
              "      <td>1</td>\n",
              "      <td>3.197</td>\n",
              "      <td>35</td>\n",
              "      <td>-42.0</td>\n",
              "      <td>-32.0</td>\n",
              "      <td>-24.0</td>\n",
              "      <td>-58.0</td>\n",
              "      <td>-76.0</td>\n",
              "      <td>27.0</td>\n",
              "      <td>1027</td>\n",
              "      <td>81</td>\n",
              "    </tr>\n",
              "    <tr>\n",
              "      <th>296</th>\n",
              "      <td>2021-01-02</td>\n",
              "      <td>Texas</td>\n",
              "      <td>48201</td>\n",
              "      <td>3402</td>\n",
              "      <td>Harris County</td>\n",
              "      <td>4713325</td>\n",
              "      <td>1</td>\n",
              "      <td>4.527</td>\n",
              "      <td>50</td>\n",
              "      <td>-23.0</td>\n",
              "      <td>-15.0</td>\n",
              "      <td>-30.0</td>\n",
              "      <td>-32.0</td>\n",
              "      <td>-25.0</td>\n",
              "      <td>9.0</td>\n",
              "      <td>1075</td>\n",
              "      <td>81</td>\n",
              "    </tr>\n",
              "    <tr>\n",
              "      <th>297</th>\n",
              "      <td>2021-01-03</td>\n",
              "      <td>Texas</td>\n",
              "      <td>48201</td>\n",
              "      <td>2492</td>\n",
              "      <td>Harris County</td>\n",
              "      <td>4713325</td>\n",
              "      <td>1</td>\n",
              "      <td>3.457</td>\n",
              "      <td>38</td>\n",
              "      <td>-19.0</td>\n",
              "      <td>-17.0</td>\n",
              "      <td>-19.0</td>\n",
              "      <td>-27.0</td>\n",
              "      <td>-16.0</td>\n",
              "      <td>6.0</td>\n",
              "      <td>1058</td>\n",
              "      <td>81</td>\n",
              "    </tr>\n",
              "    <tr>\n",
              "      <th>298</th>\n",
              "      <td>2021-01-04</td>\n",
              "      <td>Texas</td>\n",
              "      <td>48201</td>\n",
              "      <td>1907</td>\n",
              "      <td>Harris County</td>\n",
              "      <td>4713325</td>\n",
              "      <td>1</td>\n",
              "      <td>4.742</td>\n",
              "      <td>52</td>\n",
              "      <td>-14.0</td>\n",
              "      <td>-9.0</td>\n",
              "      <td>-17.0</td>\n",
              "      <td>-33.0</td>\n",
              "      <td>-35.0</td>\n",
              "      <td>11.0</td>\n",
              "      <td>1024</td>\n",
              "      <td>81</td>\n",
              "    </tr>\n",
              "    <tr>\n",
              "      <th>299</th>\n",
              "      <td>2021-01-05</td>\n",
              "      <td>Texas</td>\n",
              "      <td>48201</td>\n",
              "      <td>2030</td>\n",
              "      <td>Harris County</td>\n",
              "      <td>4713325</td>\n",
              "      <td>1</td>\n",
              "      <td>4.616</td>\n",
              "      <td>51</td>\n",
              "      <td>-16.0</td>\n",
              "      <td>-6.0</td>\n",
              "      <td>-15.0</td>\n",
              "      <td>-34.0</td>\n",
              "      <td>-34.0</td>\n",
              "      <td>12.0</td>\n",
              "      <td>1035</td>\n",
              "      <td>81</td>\n",
              "    </tr>\n",
              "  </tbody>\n",
              "</table>\n",
              "</div>"
            ],
            "text/plain": [
              "             ds Province_State  ...     y  County Name Label\n",
              "295  2021-01-01          Texas  ...  1027                 81\n",
              "296  2021-01-02          Texas  ...  1075                 81\n",
              "297  2021-01-03          Texas  ...  1058                 81\n",
              "298  2021-01-04          Texas  ...  1024                 81\n",
              "299  2021-01-05          Texas  ...  1035                 81\n",
              "\n",
              "[5 rows x 17 columns]"
            ]
          },
          "metadata": {
            "tags": []
          },
          "execution_count": 11
        }
      ]
    },
    {
      "cell_type": "code",
      "metadata": {
        "id": "CRRcQZadk_ku",
        "colab": {
          "base_uri": "https://localhost:8080/",
          "height": 343
        },
        "outputId": "a08dc8c3-0bf9-432e-b63e-7135b27ed826"
      },
      "source": [
        "TX_labeledData_Harris.head()"
      ],
      "execution_count": 12,
      "outputs": [
        {
          "output_type": "execute_result",
          "data": {
            "text/html": [
              "<div>\n",
              "<style scoped>\n",
              "    .dataframe tbody tr th:only-of-type {\n",
              "        vertical-align: middle;\n",
              "    }\n",
              "\n",
              "    .dataframe tbody tr th {\n",
              "        vertical-align: top;\n",
              "    }\n",
              "\n",
              "    .dataframe thead th {\n",
              "        text-align: right;\n",
              "    }\n",
              "</style>\n",
              "<table border=\"1\" class=\"dataframe\">\n",
              "  <thead>\n",
              "    <tr style=\"text-align: right;\">\n",
              "      <th></th>\n",
              "      <th>ds</th>\n",
              "      <th>Province_State</th>\n",
              "      <th>FIPS</th>\n",
              "      <th>New cases</th>\n",
              "      <th>County Name</th>\n",
              "      <th>population</th>\n",
              "      <th>mask_rule_active</th>\n",
              "      <th>m50</th>\n",
              "      <th>m50_index</th>\n",
              "      <th>retail_and_recreation_percent_change_from_baseline</th>\n",
              "      <th>grocery_and_pharmacy_percent_change_from_baseline</th>\n",
              "      <th>parks_percent_change_from_baseline</th>\n",
              "      <th>transit_stations_percent_change_from_baseline</th>\n",
              "      <th>workplaces_percent_change_from_baseline</th>\n",
              "      <th>residential_percent_change_from_baseline</th>\n",
              "      <th>y</th>\n",
              "      <th>County Name Label</th>\n",
              "    </tr>\n",
              "  </thead>\n",
              "  <tbody>\n",
              "    <tr>\n",
              "      <th>0</th>\n",
              "      <td>2020-03-01</td>\n",
              "      <td>Texas</td>\n",
              "      <td>48201</td>\n",
              "      <td>0</td>\n",
              "      <td>Harris County</td>\n",
              "      <td>4713325</td>\n",
              "      <td>0</td>\n",
              "      <td>6.316</td>\n",
              "      <td>70</td>\n",
              "      <td>10.0</td>\n",
              "      <td>5.0</td>\n",
              "      <td>-8.0</td>\n",
              "      <td>1.0</td>\n",
              "      <td>3.0</td>\n",
              "      <td>-1.0</td>\n",
              "      <td>62</td>\n",
              "      <td>81</td>\n",
              "    </tr>\n",
              "    <tr>\n",
              "      <th>1</th>\n",
              "      <td>2020-03-02</td>\n",
              "      <td>Texas</td>\n",
              "      <td>48201</td>\n",
              "      <td>0</td>\n",
              "      <td>Harris County</td>\n",
              "      <td>4713325</td>\n",
              "      <td>0</td>\n",
              "      <td>8.717</td>\n",
              "      <td>97</td>\n",
              "      <td>9.0</td>\n",
              "      <td>7.0</td>\n",
              "      <td>11.0</td>\n",
              "      <td>0.0</td>\n",
              "      <td>4.0</td>\n",
              "      <td>-2.0</td>\n",
              "      <td>62</td>\n",
              "      <td>81</td>\n",
              "    </tr>\n",
              "    <tr>\n",
              "      <th>2</th>\n",
              "      <td>2020-03-03</td>\n",
              "      <td>Texas</td>\n",
              "      <td>48201</td>\n",
              "      <td>0</td>\n",
              "      <td>Harris County</td>\n",
              "      <td>4713325</td>\n",
              "      <td>0</td>\n",
              "      <td>8.948</td>\n",
              "      <td>100</td>\n",
              "      <td>13.0</td>\n",
              "      <td>10.0</td>\n",
              "      <td>27.0</td>\n",
              "      <td>2.0</td>\n",
              "      <td>3.0</td>\n",
              "      <td>-2.0</td>\n",
              "      <td>62</td>\n",
              "      <td>81</td>\n",
              "    </tr>\n",
              "    <tr>\n",
              "      <th>3</th>\n",
              "      <td>2020-03-04</td>\n",
              "      <td>Texas</td>\n",
              "      <td>48201</td>\n",
              "      <td>0</td>\n",
              "      <td>Harris County</td>\n",
              "      <td>4713325</td>\n",
              "      <td>0</td>\n",
              "      <td>8.837</td>\n",
              "      <td>98</td>\n",
              "      <td>8.0</td>\n",
              "      <td>8.0</td>\n",
              "      <td>1.0</td>\n",
              "      <td>0.0</td>\n",
              "      <td>2.0</td>\n",
              "      <td>0.0</td>\n",
              "      <td>62</td>\n",
              "      <td>81</td>\n",
              "    </tr>\n",
              "    <tr>\n",
              "      <th>4</th>\n",
              "      <td>2020-03-05</td>\n",
              "      <td>Texas</td>\n",
              "      <td>48201</td>\n",
              "      <td>2</td>\n",
              "      <td>Harris County</td>\n",
              "      <td>4713325</td>\n",
              "      <td>0</td>\n",
              "      <td>9.644</td>\n",
              "      <td>107</td>\n",
              "      <td>10.0</td>\n",
              "      <td>9.0</td>\n",
              "      <td>31.0</td>\n",
              "      <td>3.0</td>\n",
              "      <td>3.0</td>\n",
              "      <td>-2.0</td>\n",
              "      <td>64</td>\n",
              "      <td>81</td>\n",
              "    </tr>\n",
              "  </tbody>\n",
              "</table>\n",
              "</div>"
            ],
            "text/plain": [
              "           ds Province_State  ...   y  County Name Label\n",
              "0  2020-03-01          Texas  ...  62                 81\n",
              "1  2020-03-02          Texas  ...  62                 81\n",
              "2  2020-03-03          Texas  ...  62                 81\n",
              "3  2020-03-04          Texas  ...  62                 81\n",
              "4  2020-03-05          Texas  ...  64                 81\n",
              "\n",
              "[5 rows x 17 columns]"
            ]
          },
          "metadata": {
            "tags": []
          },
          "execution_count": 12
        }
      ]
    },
    {
      "cell_type": "code",
      "metadata": {
        "id": "qbzIAjiMJSt0"
      },
      "source": [
        "train_Harris, test_Harris = train_test_split(TX_labeledData_Harris, test_size=0.2, shuffle=False)"
      ],
      "execution_count": 13,
      "outputs": []
    },
    {
      "cell_type": "code",
      "metadata": {
        "id": "4uAtQ6PcJ3O7"
      },
      "source": [
        "m = Prophet()"
      ],
      "execution_count": 14,
      "outputs": []
    },
    {
      "cell_type": "code",
      "metadata": {
        "id": "W3201HUEJ3O-",
        "colab": {
          "base_uri": "https://localhost:8080/"
        },
        "outputId": "9bf1341d-1f2f-4fc7-8f3f-8be47c18f2aa"
      },
      "source": [
        "#m.add_regressor('County Name Label')\n",
        "m.add_regressor('population')\n",
        "m.add_regressor('mask_rule_active')\n",
        "#m.add_regressor('m50')\n",
        "m.add_regressor('m50_index')\n",
        "m.add_regressor('retail_and_recreation_percent_change_from_baseline')\n",
        "m.add_regressor('grocery_and_pharmacy_percent_change_from_baseline')\n",
        "m.add_regressor('parks_percent_change_from_baseline')\n",
        "m.add_regressor('transit_stations_percent_change_from_baseline')\n",
        "m.add_regressor('workplaces_percent_change_from_baseline')\n",
        "m.add_regressor('residential_percent_change_from_baseline')"
      ],
      "execution_count": 15,
      "outputs": [
        {
          "output_type": "execute_result",
          "data": {
            "text/plain": [
              "<fbprophet.forecaster.Prophet at 0x7fa788b40d68>"
            ]
          },
          "metadata": {
            "tags": []
          },
          "execution_count": 15
        }
      ]
    },
    {
      "cell_type": "code",
      "metadata": {
        "id": "3pFkC_p4J3PB",
        "colab": {
          "base_uri": "https://localhost:8080/"
        },
        "outputId": "23e56122-2dfa-49ed-c2db-2a3617d33d95"
      },
      "source": [
        "m.fit(train_Harris)"
      ],
      "execution_count": 16,
      "outputs": [
        {
          "output_type": "stream",
          "text": [
            "INFO:fbprophet:Disabling yearly seasonality. Run prophet with yearly_seasonality=True to override this.\n",
            "INFO:fbprophet:Disabling daily seasonality. Run prophet with daily_seasonality=True to override this.\n",
            "WARNING:fbprophet.models:Optimization terminated abnormally. Falling back to Newton.\n"
          ],
          "name": "stderr"
        },
        {
          "output_type": "execute_result",
          "data": {
            "text/plain": [
              "<fbprophet.forecaster.Prophet at 0x7fa788b40d68>"
            ]
          },
          "metadata": {
            "tags": []
          },
          "execution_count": 16
        }
      ]
    },
    {
      "cell_type": "code",
      "metadata": {
        "id": "jpEfwKvcJ3PG",
        "colab": {
          "base_uri": "https://localhost:8080/",
          "height": 204
        },
        "outputId": "f6ce0560-54f7-4694-ac9c-e5e4b802c87b"
      },
      "source": [
        "future = m.make_future_dataframe(periods=60)\n",
        "future.tail()"
      ],
      "execution_count": 17,
      "outputs": [
        {
          "output_type": "execute_result",
          "data": {
            "text/html": [
              "<div>\n",
              "<style scoped>\n",
              "    .dataframe tbody tr th:only-of-type {\n",
              "        vertical-align: middle;\n",
              "    }\n",
              "\n",
              "    .dataframe tbody tr th {\n",
              "        vertical-align: top;\n",
              "    }\n",
              "\n",
              "    .dataframe thead th {\n",
              "        text-align: right;\n",
              "    }\n",
              "</style>\n",
              "<table border=\"1\" class=\"dataframe\">\n",
              "  <thead>\n",
              "    <tr style=\"text-align: right;\">\n",
              "      <th></th>\n",
              "      <th>ds</th>\n",
              "    </tr>\n",
              "  </thead>\n",
              "  <tbody>\n",
              "    <tr>\n",
              "      <th>295</th>\n",
              "      <td>2020-12-24</td>\n",
              "    </tr>\n",
              "    <tr>\n",
              "      <th>296</th>\n",
              "      <td>2020-12-25</td>\n",
              "    </tr>\n",
              "    <tr>\n",
              "      <th>297</th>\n",
              "      <td>2020-12-26</td>\n",
              "    </tr>\n",
              "    <tr>\n",
              "      <th>298</th>\n",
              "      <td>2020-12-27</td>\n",
              "    </tr>\n",
              "    <tr>\n",
              "      <th>299</th>\n",
              "      <td>2020-12-28</td>\n",
              "    </tr>\n",
              "  </tbody>\n",
              "</table>\n",
              "</div>"
            ],
            "text/plain": [
              "            ds\n",
              "295 2020-12-24\n",
              "296 2020-12-25\n",
              "297 2020-12-26\n",
              "298 2020-12-27\n",
              "299 2020-12-28"
            ]
          },
          "metadata": {
            "tags": []
          },
          "execution_count": 17
        }
      ]
    },
    {
      "cell_type": "code",
      "metadata": {
        "id": "c2CNd-o2nWF9",
        "colab": {
          "base_uri": "https://localhost:8080/"
        },
        "outputId": "521a97b1-2ab9-4110-ee0a-7973d948af16"
      },
      "source": [
        "future.shape"
      ],
      "execution_count": 18,
      "outputs": [
        {
          "output_type": "execute_result",
          "data": {
            "text/plain": [
              "(300, 1)"
            ]
          },
          "metadata": {
            "tags": []
          },
          "execution_count": 18
        }
      ]
    },
    {
      "cell_type": "code",
      "metadata": {
        "id": "KU821BCbnYlp",
        "colab": {
          "base_uri": "https://localhost:8080/"
        },
        "outputId": "59bcab9a-6e66-49cf-e5d4-62d6db4e9fec"
      },
      "source": [
        "train_Harris.shape"
      ],
      "execution_count": 19,
      "outputs": [
        {
          "output_type": "execute_result",
          "data": {
            "text/plain": [
              "(240, 17)"
            ]
          },
          "metadata": {
            "tags": []
          },
          "execution_count": 19
        }
      ]
    },
    {
      "cell_type": "code",
      "metadata": {
        "id": "ED03anLinhe5",
        "colab": {
          "base_uri": "https://localhost:8080/"
        },
        "outputId": "9da78f75-72df-4573-ef5c-e4e465a3f5cc"
      },
      "source": [
        "test_Harris.shape"
      ],
      "execution_count": 20,
      "outputs": [
        {
          "output_type": "execute_result",
          "data": {
            "text/plain": [
              "(60, 17)"
            ]
          },
          "metadata": {
            "tags": []
          },
          "execution_count": 20
        }
      ]
    },
    {
      "cell_type": "code",
      "metadata": {
        "id": "bRkQFKOxnvNU",
        "colab": {
          "base_uri": "https://localhost:8080/"
        },
        "outputId": "edbd50e7-1971-494e-f078-30f4f0527f85"
      },
      "source": [
        "TX_labeledData_Harris.shape"
      ],
      "execution_count": 21,
      "outputs": [
        {
          "output_type": "execute_result",
          "data": {
            "text/plain": [
              "(300, 17)"
            ]
          },
          "metadata": {
            "tags": []
          },
          "execution_count": 21
        }
      ]
    },
    {
      "cell_type": "code",
      "metadata": {
        "id": "jnNaZMdfDn1R"
      },
      "source": [
        "#future['County Name Label'] = TX_labeledData_Harris['County Name Label']\n",
        "future['population'] = TX_labeledData_Harris['population']\n",
        "future['mask_rule_active'] = TX_labeledData_Harris['mask_rule_active']\n",
        "#future['m50'] = TX_labeledData_Harris['m50']\n",
        "future['m50_index'] = TX_labeledData_Harris['m50_index']\n",
        "future['retail_and_recreation_percent_change_from_baseline'] = TX_labeledData_Harris['retail_and_recreation_percent_change_from_baseline']\n",
        "future['grocery_and_pharmacy_percent_change_from_baseline'] = TX_labeledData_Harris['grocery_and_pharmacy_percent_change_from_baseline']\n",
        "future['parks_percent_change_from_baseline'] = TX_labeledData_Harris['parks_percent_change_from_baseline']\n",
        "future['transit_stations_percent_change_from_baseline'] = TX_labeledData_Harris['transit_stations_percent_change_from_baseline']\n",
        "future['workplaces_percent_change_from_baseline'] = TX_labeledData_Harris['workplaces_percent_change_from_baseline']\n",
        "future['residential_percent_change_from_baseline'] = TX_labeledData_Harris['residential_percent_change_from_baseline']"
      ],
      "execution_count": 22,
      "outputs": []
    },
    {
      "cell_type": "code",
      "metadata": {
        "id": "itmYT0fEJ3PM",
        "colab": {
          "base_uri": "https://localhost:8080/",
          "height": 309
        },
        "outputId": "6a5e3876-4d79-470e-8a54-0d0cc4cbef1d"
      },
      "source": [
        "forecast = m.predict(future)\n",
        "forecast.tail()"
      ],
      "execution_count": 23,
      "outputs": [
        {
          "output_type": "execute_result",
          "data": {
            "text/html": [
              "<div>\n",
              "<style scoped>\n",
              "    .dataframe tbody tr th:only-of-type {\n",
              "        vertical-align: middle;\n",
              "    }\n",
              "\n",
              "    .dataframe tbody tr th {\n",
              "        vertical-align: top;\n",
              "    }\n",
              "\n",
              "    .dataframe thead th {\n",
              "        text-align: right;\n",
              "    }\n",
              "</style>\n",
              "<table border=\"1\" class=\"dataframe\">\n",
              "  <thead>\n",
              "    <tr style=\"text-align: right;\">\n",
              "      <th></th>\n",
              "      <th>ds</th>\n",
              "      <th>trend</th>\n",
              "      <th>yhat_lower</th>\n",
              "      <th>yhat_upper</th>\n",
              "      <th>trend_lower</th>\n",
              "      <th>trend_upper</th>\n",
              "      <th>additive_terms</th>\n",
              "      <th>additive_terms_lower</th>\n",
              "      <th>additive_terms_upper</th>\n",
              "      <th>extra_regressors_additive</th>\n",
              "      <th>extra_regressors_additive_lower</th>\n",
              "      <th>extra_regressors_additive_upper</th>\n",
              "      <th>grocery_and_pharmacy_percent_change_from_baseline</th>\n",
              "      <th>grocery_and_pharmacy_percent_change_from_baseline_lower</th>\n",
              "      <th>grocery_and_pharmacy_percent_change_from_baseline_upper</th>\n",
              "      <th>m50_index</th>\n",
              "      <th>m50_index_lower</th>\n",
              "      <th>m50_index_upper</th>\n",
              "      <th>mask_rule_active</th>\n",
              "      <th>mask_rule_active_lower</th>\n",
              "      <th>mask_rule_active_upper</th>\n",
              "      <th>parks_percent_change_from_baseline</th>\n",
              "      <th>parks_percent_change_from_baseline_lower</th>\n",
              "      <th>parks_percent_change_from_baseline_upper</th>\n",
              "      <th>population</th>\n",
              "      <th>population_lower</th>\n",
              "      <th>population_upper</th>\n",
              "      <th>residential_percent_change_from_baseline</th>\n",
              "      <th>residential_percent_change_from_baseline_lower</th>\n",
              "      <th>residential_percent_change_from_baseline_upper</th>\n",
              "      <th>retail_and_recreation_percent_change_from_baseline</th>\n",
              "      <th>retail_and_recreation_percent_change_from_baseline_lower</th>\n",
              "      <th>retail_and_recreation_percent_change_from_baseline_upper</th>\n",
              "      <th>transit_stations_percent_change_from_baseline</th>\n",
              "      <th>transit_stations_percent_change_from_baseline_lower</th>\n",
              "      <th>transit_stations_percent_change_from_baseline_upper</th>\n",
              "      <th>weekly</th>\n",
              "      <th>weekly_lower</th>\n",
              "      <th>weekly_upper</th>\n",
              "      <th>workplaces_percent_change_from_baseline</th>\n",
              "      <th>workplaces_percent_change_from_baseline_lower</th>\n",
              "      <th>workplaces_percent_change_from_baseline_upper</th>\n",
              "      <th>multiplicative_terms</th>\n",
              "      <th>multiplicative_terms_lower</th>\n",
              "      <th>multiplicative_terms_upper</th>\n",
              "      <th>yhat</th>\n",
              "    </tr>\n",
              "  </thead>\n",
              "  <tbody>\n",
              "    <tr>\n",
              "      <th>295</th>\n",
              "      <td>2020-12-24</td>\n",
              "      <td>185.216085</td>\n",
              "      <td>209.081151</td>\n",
              "      <td>587.196850</td>\n",
              "      <td>131.528736</td>\n",
              "      <td>232.350016</td>\n",
              "      <td>217.715048</td>\n",
              "      <td>217.715048</td>\n",
              "      <td>217.715048</td>\n",
              "      <td>181.093824</td>\n",
              "      <td>181.093824</td>\n",
              "      <td>181.093824</td>\n",
              "      <td>30.593150</td>\n",
              "      <td>30.593150</td>\n",
              "      <td>30.593150</td>\n",
              "      <td>-2.418425</td>\n",
              "      <td>-2.418425</td>\n",
              "      <td>-2.418425</td>\n",
              "      <td>208.504223</td>\n",
              "      <td>208.504223</td>\n",
              "      <td>208.504223</td>\n",
              "      <td>37.610992</td>\n",
              "      <td>37.610992</td>\n",
              "      <td>37.610992</td>\n",
              "      <td>-76.843992</td>\n",
              "      <td>-76.843992</td>\n",
              "      <td>-76.843992</td>\n",
              "      <td>171.800370</td>\n",
              "      <td>171.800370</td>\n",
              "      <td>171.800370</td>\n",
              "      <td>77.161778</td>\n",
              "      <td>77.161778</td>\n",
              "      <td>77.161778</td>\n",
              "      <td>-150.286807</td>\n",
              "      <td>-150.286807</td>\n",
              "      <td>-150.286807</td>\n",
              "      <td>36.621223</td>\n",
              "      <td>36.621223</td>\n",
              "      <td>36.621223</td>\n",
              "      <td>-115.027464</td>\n",
              "      <td>-115.027464</td>\n",
              "      <td>-115.027464</td>\n",
              "      <td>0.0</td>\n",
              "      <td>0.0</td>\n",
              "      <td>0.0</td>\n",
              "      <td>402.931133</td>\n",
              "    </tr>\n",
              "    <tr>\n",
              "      <th>296</th>\n",
              "      <td>2020-12-25</td>\n",
              "      <td>181.257253</td>\n",
              "      <td>285.317687</td>\n",
              "      <td>653.436993</td>\n",
              "      <td>126.294666</td>\n",
              "      <td>229.674873</td>\n",
              "      <td>292.357509</td>\n",
              "      <td>292.357509</td>\n",
              "      <td>292.357509</td>\n",
              "      <td>263.435276</td>\n",
              "      <td>263.435276</td>\n",
              "      <td>263.435276</td>\n",
              "      <td>9.296434</td>\n",
              "      <td>9.296434</td>\n",
              "      <td>9.296434</td>\n",
              "      <td>-0.506627</td>\n",
              "      <td>-0.506627</td>\n",
              "      <td>-0.506627</td>\n",
              "      <td>208.504223</td>\n",
              "      <td>208.504223</td>\n",
              "      <td>208.504223</td>\n",
              "      <td>51.040159</td>\n",
              "      <td>51.040159</td>\n",
              "      <td>51.040159</td>\n",
              "      <td>-76.843992</td>\n",
              "      <td>-76.843992</td>\n",
              "      <td>-76.843992</td>\n",
              "      <td>-34.074137</td>\n",
              "      <td>-34.074137</td>\n",
              "      <td>-34.074137</td>\n",
              "      <td>9.104194</td>\n",
              "      <td>9.104194</td>\n",
              "      <td>9.104194</td>\n",
              "      <td>75.143404</td>\n",
              "      <td>75.143404</td>\n",
              "      <td>75.143404</td>\n",
              "      <td>28.922233</td>\n",
              "      <td>28.922233</td>\n",
              "      <td>28.922233</td>\n",
              "      <td>21.771619</td>\n",
              "      <td>21.771619</td>\n",
              "      <td>21.771619</td>\n",
              "      <td>0.0</td>\n",
              "      <td>0.0</td>\n",
              "      <td>0.0</td>\n",
              "      <td>473.614763</td>\n",
              "    </tr>\n",
              "    <tr>\n",
              "      <th>297</th>\n",
              "      <td>2020-12-26</td>\n",
              "      <td>177.298421</td>\n",
              "      <td>205.041967</td>\n",
              "      <td>567.152735</td>\n",
              "      <td>120.751219</td>\n",
              "      <td>226.790357</td>\n",
              "      <td>218.024371</td>\n",
              "      <td>218.024371</td>\n",
              "      <td>218.024371</td>\n",
              "      <td>258.643843</td>\n",
              "      <td>258.643843</td>\n",
              "      <td>258.643843</td>\n",
              "      <td>11.801930</td>\n",
              "      <td>11.801930</td>\n",
              "      <td>11.801930</td>\n",
              "      <td>-2.036065</td>\n",
              "      <td>-2.036065</td>\n",
              "      <td>-2.036065</td>\n",
              "      <td>208.504223</td>\n",
              "      <td>208.504223</td>\n",
              "      <td>208.504223</td>\n",
              "      <td>26.420020</td>\n",
              "      <td>26.420020</td>\n",
              "      <td>26.420020</td>\n",
              "      <td>-76.843992</td>\n",
              "      <td>-76.843992</td>\n",
              "      <td>-76.843992</td>\n",
              "      <td>-68.386555</td>\n",
              "      <td>-68.386555</td>\n",
              "      <td>-68.386555</td>\n",
              "      <td>-5.223718</td>\n",
              "      <td>-5.223718</td>\n",
              "      <td>-5.223718</td>\n",
              "      <td>118.495367</td>\n",
              "      <td>118.495367</td>\n",
              "      <td>118.495367</td>\n",
              "      <td>-40.619472</td>\n",
              "      <td>-40.619472</td>\n",
              "      <td>-40.619472</td>\n",
              "      <td>45.912633</td>\n",
              "      <td>45.912633</td>\n",
              "      <td>45.912633</td>\n",
              "      <td>0.0</td>\n",
              "      <td>0.0</td>\n",
              "      <td>0.0</td>\n",
              "      <td>395.322792</td>\n",
              "    </tr>\n",
              "    <tr>\n",
              "      <th>298</th>\n",
              "      <td>2020-12-27</td>\n",
              "      <td>173.339589</td>\n",
              "      <td>83.111310</td>\n",
              "      <td>474.181025</td>\n",
              "      <td>114.786664</td>\n",
              "      <td>224.427059</td>\n",
              "      <td>104.530786</td>\n",
              "      <td>104.530786</td>\n",
              "      <td>104.530786</td>\n",
              "      <td>182.220568</td>\n",
              "      <td>182.220568</td>\n",
              "      <td>182.220568</td>\n",
              "      <td>1.779946</td>\n",
              "      <td>1.779946</td>\n",
              "      <td>1.779946</td>\n",
              "      <td>-0.251720</td>\n",
              "      <td>-0.251720</td>\n",
              "      <td>-0.251720</td>\n",
              "      <td>208.504223</td>\n",
              "      <td>208.504223</td>\n",
              "      <td>208.504223</td>\n",
              "      <td>21.943631</td>\n",
              "      <td>21.943631</td>\n",
              "      <td>21.943631</td>\n",
              "      <td>-76.843992</td>\n",
              "      <td>-76.843992</td>\n",
              "      <td>-76.843992</td>\n",
              "      <td>-11.199192</td>\n",
              "      <td>-11.199192</td>\n",
              "      <td>-11.199192</td>\n",
              "      <td>-23.133609</td>\n",
              "      <td>-23.133609</td>\n",
              "      <td>-23.133609</td>\n",
              "      <td>66.473011</td>\n",
              "      <td>66.473011</td>\n",
              "      <td>66.473011</td>\n",
              "      <td>-77.689782</td>\n",
              "      <td>-77.689782</td>\n",
              "      <td>-77.689782</td>\n",
              "      <td>-5.051731</td>\n",
              "      <td>-5.051731</td>\n",
              "      <td>-5.051731</td>\n",
              "      <td>0.0</td>\n",
              "      <td>0.0</td>\n",
              "      <td>0.0</td>\n",
              "      <td>277.870375</td>\n",
              "    </tr>\n",
              "    <tr>\n",
              "      <th>299</th>\n",
              "      <td>2020-12-28</td>\n",
              "      <td>169.380757</td>\n",
              "      <td>178.987871</td>\n",
              "      <td>554.591221</td>\n",
              "      <td>109.846294</td>\n",
              "      <td>221.454667</td>\n",
              "      <td>189.556918</td>\n",
              "      <td>189.556918</td>\n",
              "      <td>189.556918</td>\n",
              "      <td>186.471853</td>\n",
              "      <td>186.471853</td>\n",
              "      <td>186.471853</td>\n",
              "      <td>-1.978298</td>\n",
              "      <td>-1.978298</td>\n",
              "      <td>-1.978298</td>\n",
              "      <td>-0.379173</td>\n",
              "      <td>-0.379173</td>\n",
              "      <td>-0.379173</td>\n",
              "      <td>208.504223</td>\n",
              "      <td>208.504223</td>\n",
              "      <td>208.504223</td>\n",
              "      <td>17.467242</td>\n",
              "      <td>17.467242</td>\n",
              "      <td>17.467242</td>\n",
              "      <td>-76.843992</td>\n",
              "      <td>-76.843992</td>\n",
              "      <td>-76.843992</td>\n",
              "      <td>0.238281</td>\n",
              "      <td>0.238281</td>\n",
              "      <td>0.238281</td>\n",
              "      <td>-15.969652</td>\n",
              "      <td>-15.969652</td>\n",
              "      <td>-15.969652</td>\n",
              "      <td>57.802618</td>\n",
              "      <td>57.802618</td>\n",
              "      <td>57.802618</td>\n",
              "      <td>3.085065</td>\n",
              "      <td>3.085065</td>\n",
              "      <td>3.085065</td>\n",
              "      <td>-2.369396</td>\n",
              "      <td>-2.369396</td>\n",
              "      <td>-2.369396</td>\n",
              "      <td>0.0</td>\n",
              "      <td>0.0</td>\n",
              "      <td>0.0</td>\n",
              "      <td>358.937675</td>\n",
              "    </tr>\n",
              "  </tbody>\n",
              "</table>\n",
              "</div>"
            ],
            "text/plain": [
              "            ds       trend  ...  multiplicative_terms_upper        yhat\n",
              "295 2020-12-24  185.216085  ...                         0.0  402.931133\n",
              "296 2020-12-25  181.257253  ...                         0.0  473.614763\n",
              "297 2020-12-26  177.298421  ...                         0.0  395.322792\n",
              "298 2020-12-27  173.339589  ...                         0.0  277.870375\n",
              "299 2020-12-28  169.380757  ...                         0.0  358.937675\n",
              "\n",
              "[5 rows x 46 columns]"
            ]
          },
          "metadata": {
            "tags": []
          },
          "execution_count": 23
        }
      ]
    },
    {
      "cell_type": "code",
      "metadata": {
        "id": "1oTKWtylJ3PP",
        "colab": {
          "base_uri": "https://localhost:8080/",
          "height": 441
        },
        "outputId": "ce886708-8303-45dd-81eb-ddcbebcf9a6d"
      },
      "source": [
        "fig1 = m.plot(forecast)"
      ],
      "execution_count": 24,
      "outputs": [
        {
          "output_type": "display_data",
          "data": {
            "image/png": "[encoded data removed]",
            "text/plain": [
              "<Figure size 720x432 with 1 Axes>"
            ]
          },
          "metadata": {
            "tags": []
          }
        }
      ]
    },
    {
      "cell_type": "code",
      "metadata": {
        "id": "VhtJDc_jJ3PR",
        "colab": {
          "base_uri": "https://localhost:8080/",
          "height": 657
        },
        "outputId": "799a4a39-62f3-4af9-b89f-0b9223ca6f10"
      },
      "source": [
        "fig2 = m.plot_components(forecast)"
      ],
      "execution_count": 25,
      "outputs": [
        {
          "output_type": "display_data",
          "data": {
            "image/png": "[encoded data removed]",
            "text/plain": [
              "<Figure size 648x648 with 3 Axes>"
            ]
          },
          "metadata": {
            "tags": []
          }
        }
      ]
    },
    {
      "cell_type": "code",
      "metadata": {
        "id": "xSQkxYFWJ3PV",
        "colab": {
          "base_uri": "https://localhost:8080/",
          "height": 617
        },
        "outputId": "d9cceac0-2b8d-46c7-962c-3321fff1e8ee"
      },
      "source": [
        "plot_components_plotly(m, forecast)"
      ],
      "execution_count": 26,
      "outputs": [
        {
          "output_type": "display_data",
          "data": {
            "text/html": [
              "<html>\n",
              "<head><meta charset=\"utf-8\" /></head>\n",
              "<body>\n",
              "    <div>\n",
              "            <script src=\"https://cdnjs.cloudflare.com/ajax/libs/mathjax/2.7.5/MathJax.js?config=TeX-AMS-MML_SVG\"></script><script type=\"text/javascript\">if (window.MathJax) {MathJax.Hub.Config({SVG: {font: \"STIX-Web\"}});}</script>\n",
              "                <script type=\"text/javascript\">window.PlotlyConfig = {MathJaxConfig: 'local'};</script>\n",
              "        <script src=\"https://cdn.plot.ly/plotly-latest.min.js\"></script>    \n",
              "            <div id=\"ff3db70f-cf5c-432d-82bd-79fcd49e0196\" class=\"plotly-graph-div\" style=\"height:600px; width:900px;\"></div>\n",
              "            <script type=\"text/javascript\">\n",
              "                \n",
              "                    window.PLOTLYENV=window.PLOTLYENV || {};\n",
              "                    \n",
              "                if (document.getElementById(\"ff3db70f-cf5c-432d-82bd-79fcd49e0196\")) {\n",
              "                    Plotly.newPlot(\n",
              "                        'ff3db70f-cf5c-432d-82bd-79fcd49e0196',\n",
              "                        [{\"line\": {\"color\": \"#0072B2\", \"width\": 2}, \"mode\": \"lines\", \"name\": \"trend\", \"type\": \"scatter\", \"x\": [\"2020-03-01T00:00:00\", \"2020-03-02T00:00:00\", \"2020-03-03T00:00:00\", \"2020-03-04T00:00:00\", \"2020-03-05T00:00:00\", \"2020-03-06T00:00:00\", \"2020-03-07T00:00:00\", \"2020-03-08T00:00:00\", \"2020-03-09T00:00:00\", \"2020-03-10T00:00:00\", \"2020-03-11T00:00:00\", \"2020-03-12T00:00:00\", \"2020-03-13T00:00:00\", \"2020-03-14T00:00:00\", \"2020-03-15T00:00:00\", \"2020-03-16T00:00:00\", \"2020-03-17T00:00:00\", \"2020-03-18T00:00:00\", \"2020-03-19T00:00:00\", \"2020-03-20T00:00:00\", \"2020-03-21T00:00:00\", \"2020-03-22T00:00:00\", \"2020-03-23T00:00:00\", \"2020-03-24T00:00:00\", \"2020-03-25T00:00:00\", \"2020-03-26T00:00:00\", \"2020-03-27T00:00:00\", \"2020-03-28T00:00:00\", \"2020-03-29T00:00:00\", \"2020-03-30T00:00:00\", \"2020-03-31T00:00:00\", \"2020-04-01T00:00:00\", \"2020-04-02T00:00:00\", \"2020-04-03T00:00:00\", \"2020-04-04T00:00:00\", \"2020-04-05T00:00:00\", \"2020-04-06T00:00:00\", \"2020-04-07T00:00:00\", \"2020-04-08T00:00:00\", \"2020-04-09T00:00:00\", \"2020-04-10T00:00:00\", \"2020-04-11T00:00:00\", \"2020-04-12T00:00:00\", \"2020-04-13T00:00:00\", \"2020-04-14T00:00:00\", \"2020-04-15T00:00:00\", \"2020-04-16T00:00:00\", \"2020-04-17T00:00:00\", \"2020-04-18T00:00:00\", \"2020-04-19T00:00:00\", \"2020-04-21T00:00:00\", \"2020-04-22T00:00:00\", \"2020-04-23T00:00:00\", \"2020-04-24T00:00:00\", \"2020-04-25T00:00:00\", \"2020-04-26T00:00:00\", \"2020-04-27T00:00:00\", \"2020-04-28T00:00:00\", \"2020-04-29T00:00:00\", \"2020-04-30T00:00:00\", \"2020-05-01T00:00:00\", \"2020-05-02T00:00:00\", \"2020-05-03T00:00:00\", \"2020-05-04T00:00:00\", \"2020-05-05T00:00:00\", \"2020-05-06T00:00:00\", \"2020-05-07T00:00:00\", \"2020-05-08T00:00:00\", \"2020-05-09T00:00:00\", \"2020-05-10T00:00:00\", \"2020-05-11T00:00:00\", \"2020-05-12T00:00:00\", \"2020-05-13T00:00:00\", \"2020-05-14T00:00:00\", \"2020-05-15T00:00:00\", \"2020-05-16T00:00:00\", \"2020-05-17T00:00:00\", \"2020-05-18T00:00:00\", \"2020-05-19T00:00:00\", \"2020-05-20T00:00:00\", \"2020-05-21T00:00:00\", \"2020-05-22T00:00:00\", \"2020-05-23T00:00:00\", \"2020-05-24T00:00:00\", \"2020-05-25T00:00:00\", \"2020-05-26T00:00:00\", \"2020-05-27T00:00:00\", \"2020-05-28T00:00:00\", \"2020-05-30T00:00:00\", \"2020-05-31T00:00:00\", \"2020-06-01T00:00:00\", \"2020-06-02T00:00:00\", \"2020-06-03T00:00:00\", \"2020-06-04T00:00:00\", \"2020-06-05T00:00:00\", \"2020-06-06T00:00:00\", \"2020-06-07T00:00:00\", \"2020-06-08T00:00:00\", \"2020-06-09T00:00:00\", \"2020-06-10T00:00:00\", \"2020-06-11T00:00:00\", \"2020-06-12T00:00:00\", \"2020-06-13T00:00:00\", \"2020-06-14T00:00:00\", \"2020-06-15T00:00:00\", \"2020-06-16T00:00:00\", \"2020-06-17T00:00:00\", \"2020-06-18T00:00:00\", \"2020-06-19T00:00:00\", \"2020-06-20T00:00:00\", \"2020-06-21T00:00:00\", \"2020-06-22T00:00:00\", \"2020-06-23T00:00:00\", \"2020-06-24T00:00:00\", \"2020-06-25T00:00:00\", \"2020-06-26T00:00:00\", \"2020-06-27T00:00:00\", \"2020-06-28T00:00:00\", \"2020-06-29T00:00:00\", \"2020-06-30T00:00:00\", \"2020-07-01T00:00:00\", \"2020-07-02T00:00:00\", \"2020-07-03T00:00:00\", \"2020-07-04T00:00:00\", \"2020-07-05T00:00:00\", \"2020-07-06T00:00:00\", \"2020-07-07T00:00:00\", \"2020-07-08T00:00:00\", \"2020-07-09T00:00:00\", \"2020-07-10T00:00:00\", \"2020-07-11T00:00:00\", \"2020-07-12T00:00:00\", \"2020-07-13T00:00:00\", \"2020-07-14T00:00:00\", \"2020-07-15T00:00:00\", \"2020-07-16T00:00:00\", \"2020-07-17T00:00:00\", \"2020-07-18T00:00:00\", \"2020-07-19T00:00:00\", \"2020-07-20T00:00:00\", \"2020-07-21T00:00:00\", \"2020-07-22T00:00:00\", \"2020-07-23T00:00:00\", \"2020-07-24T00:00:00\", \"2020-07-25T00:00:00\", \"2020-07-26T00:00:00\", \"2020-07-27T00:00:00\", \"2020-07-28T00:00:00\", \"2020-07-29T00:00:00\", \"2020-07-30T00:00:00\", \"2020-07-31T00:00:00\", \"2020-08-01T00:00:00\", \"2020-08-02T00:00:00\", \"2020-08-03T00:00:00\", \"2020-08-04T00:00:00\", \"2020-08-05T00:00:00\", \"2020-08-06T00:00:00\", \"2020-08-07T00:00:00\", \"2020-08-08T00:00:00\", \"2020-08-09T00:00:00\", \"2020-08-10T00:00:00\", \"2020-08-11T00:00:00\", \"2020-08-12T00:00:00\", \"2020-08-13T00:00:00\", \"2020-08-14T00:00:00\", \"2020-08-15T00:00:00\", \"2020-08-16T00:00:00\", \"2020-08-17T00:00:00\", \"2020-08-18T00:00:00\", \"2020-08-19T00:00:00\", \"2020-08-20T00:00:00\", \"2020-08-21T00:00:00\", \"2020-08-22T00:00:00\", \"2020-08-23T00:00:00\", \"2020-08-24T00:00:00\", \"2020-08-25T00:00:00\", \"2020-08-26T00:00:00\", \"2020-08-27T00:00:00\", \"2020-08-28T00:00:00\", \"2020-08-29T00:00:00\", \"2020-08-30T00:00:00\", \"2020-08-31T00:00:00\", \"2020-09-01T00:00:00\", \"2020-09-02T00:00:00\", \"2020-09-03T00:00:00\", \"2020-09-04T00:00:00\", \"2020-09-05T00:00:00\", \"2020-09-06T00:00:00\", \"2020-09-07T00:00:00\", \"2020-09-08T00:00:00\", \"2020-09-09T00:00:00\", \"2020-09-10T00:00:00\", \"2020-09-11T00:00:00\", \"2020-09-12T00:00:00\", \"2020-09-13T00:00:00\", \"2020-09-14T00:00:00\", \"2020-09-15T00:00:00\", \"2020-09-16T00:00:00\", \"2020-09-17T00:00:00\", \"2020-09-18T00:00:00\", \"2020-09-19T00:00:00\", \"2020-09-20T00:00:00\", \"2020-09-21T00:00:00\", \"2020-09-22T00:00:00\", \"2020-09-23T00:00:00\", \"2020-09-24T00:00:00\", \"2020-09-25T00:00:00\", \"2020-09-26T00:00:00\", \"2020-09-27T00:00:00\", \"2020-09-28T00:00:00\", \"2020-09-29T00:00:00\", \"2020-09-30T00:00:00\", \"2020-10-01T00:00:00\", \"2020-10-02T00:00:00\", \"2020-10-03T00:00:00\", \"2020-10-04T00:00:00\", \"2020-10-05T00:00:00\", \"2020-10-06T00:00:00\", \"2020-10-07T00:00:00\", \"2020-10-09T00:00:00\", \"2020-10-10T00:00:00\", \"2020-10-11T00:00:00\", \"2020-10-12T00:00:00\", \"2020-10-13T00:00:00\", \"2020-10-14T00:00:00\", \"2020-10-15T00:00:00\", \"2020-10-16T00:00:00\", \"2020-10-17T00:00:00\", \"2020-10-18T00:00:00\", \"2020-10-19T00:00:00\", \"2020-10-20T00:00:00\", \"2020-10-21T00:00:00\", \"2020-10-22T00:00:00\", \"2020-10-23T00:00:00\", \"2020-10-24T00:00:00\", \"2020-10-25T00:00:00\", \"2020-10-26T00:00:00\", \"2020-10-27T00:00:00\", \"2020-10-28T00:00:00\", \"2020-10-29T00:00:00\", \"2020-10-30T00:00:00\", \"2020-10-31T00:00:00\", \"2020-11-01T00:00:00\", \"2020-11-02T00:00:00\", \"2020-11-03T00:00:00\", \"2020-11-04T00:00:00\", \"2020-11-05T00:00:00\", \"2020-11-06T00:00:00\", \"2020-11-07T00:00:00\", \"2020-11-08T00:00:00\", \"2020-11-09T00:00:00\", \"2020-11-10T00:00:00\", \"2020-11-11T00:00:00\", \"2020-11-12T00:00:00\", \"2020-11-13T00:00:00\", \"2020-11-14T00:00:00\", \"2020-11-15T00:00:00\", \"2020-11-16T00:00:00\", \"2020-11-17T00:00:00\", \"2020-11-18T00:00:00\", \"2020-11-19T00:00:00\", \"2020-11-20T00:00:00\", \"2020-11-21T00:00:00\", \"2020-11-22T00:00:00\", \"2020-11-23T00:00:00\", \"2020-11-24T00:00:00\", \"2020-11-25T00:00:00\", \"2020-11-26T00:00:00\", \"2020-11-27T00:00:00\", \"2020-11-28T00:00:00\", \"2020-11-29T00:00:00\", \"2020-11-30T00:00:00\", \"2020-12-01T00:00:00\", \"2020-12-02T00:00:00\", \"2020-12-03T00:00:00\", \"2020-12-04T00:00:00\", \"2020-12-05T00:00:00\", \"2020-12-06T00:00:00\", \"2020-12-07T00:00:00\", \"2020-12-08T00:00:00\", \"2020-12-09T00:00:00\", \"2020-12-10T00:00:00\", \"2020-12-11T00:00:00\", \"2020-12-12T00:00:00\", \"2020-12-13T00:00:00\", \"2020-12-14T00:00:00\", \"2020-12-15T00:00:00\", \"2020-12-16T00:00:00\", \"2020-12-17T00:00:00\", \"2020-12-18T00:00:00\", \"2020-12-19T00:00:00\", \"2020-12-20T00:00:00\", \"2020-12-21T00:00:00\", \"2020-12-22T00:00:00\", \"2020-12-23T00:00:00\", \"2020-12-24T00:00:00\", \"2020-12-25T00:00:00\", \"2020-12-26T00:00:00\", \"2020-12-27T00:00:00\", \"2020-12-28T00:00:00\"], \"xaxis\": \"x\", \"y\": [2.9478551994411637, 8.86037241509043, 14.772889630739696, 20.68540684638896, 26.597924062038224, 32.5104412776875, 38.42295849333676, 44.335475708986024, 50.247992924635284, 56.160510133536405, 62.07302734243754, 67.98554455133866, 73.89806176023978, 79.81057896914092, 85.72309617804204, 91.63561338694316, 97.54813058698191, 103.46064778702069, 109.37316498705945, 115.2856821870982, 121.19819938713697, 127.11071658717574, 133.02323378721448, 138.93575098725327, 144.84826820780594, 150.76078542835864, 156.67330264891132, 162.585819869464, 168.4983370900167, 174.4108543105694, 180.32337153112204, 186.2358887516747, 192.14840597281102, 198.0609231939473, 203.97344041508362, 209.88595763621987, 215.79847485735618, 221.71099207849244, 227.62350929962878, 233.53602651759596, 239.44854373556316, 245.36106095353037, 251.27357817149758, 257.18609538946475, 263.098612607432, 269.0111298253992, 274.92364704336643, 280.8361642447787, 286.7486814461909, 292.6611986476032, 304.48623305042776, 310.39875025184, 316.3112674532523, 322.2237846546646, 328.1363018293846, 334.04881900410453, 339.9613361788245, 345.8738533535446, 351.7863705282645, 357.69888770298456, 363.6114048777045, 369.5239220524245, 375.4364392342695, 381.34895641611445, 387.2614735979594, 393.1739907798044, 399.08650796164943, 404.99902514349435, 410.9115423253393, 416.8240595071843, 422.7365766904308, 428.6490938736773, 434.5616110569238, 440.4741282401703, 446.3866454234169, 452.29916260666334, 458.2116797899098, 464.12419695301907, 470.03671411612834, 475.9492312792376, 481.8617484423468, 487.77426560545604, 493.68678276856537, 499.5992999316746, 505.51181709478374, 511.42433426336, 517.3368514319362, 523.2493686005125, 535.0744029376649, 540.9869201062412, 546.8994372748174, 552.8119544433937, 558.7244716119699, 564.6369763556614, 570.5494810993529, 576.4619858430443, 582.3744905867358, 588.2869953304272, 594.1995000741186, 600.1120048178101, 606.0243476177599, 611.9366904177099, 617.8490332176597, 623.7613760176096, 629.6737188175593, 635.5860616175092, 641.498404417459, 647.4107472174089, 653.3223984519019, 659.234049686395, 665.1457009208882, 671.0573521553812, 676.9690033898742, 682.8806546243674, 688.7923058588603, 694.7039570933534, 700.6121303768003, 706.5203036602471, 712.428476943694, 718.3366502271408, 724.2448235105876, 730.1529967940345, 736.0611700774813, 738.1021700053965, 740.1431699333119, 742.1841698612272, 744.2251697891425, 746.2661697170578, 748.3071696449731, 750.3481695728885, 752.3891695008037, 754.4268355774747, 756.4645016541455, 758.5021677308163, 760.5398338074872, 762.5774998841578, 764.6151659608287, 766.6528320374995, 768.6904981141703, 770.7255275263665, 772.7605569385624, 774.7955863507585, 776.8306157629545, 778.8656451751506, 780.9006745873465, 782.9357039995426, 778.9818458880986, 775.0279877766546, 771.0741296652105, 767.1202715537665, 763.1664134423226, 759.2125553308787, 755.2586972194347, 751.3048391079907, 747.3481676675568, 743.3914962271231, 739.4348247866892, 735.4781533462555, 731.5214819058217, 727.564810465388, 723.6081390249542, 719.6497491651892, 715.691359305424, 711.7329694456588, 707.7745795858937, 703.8161897261285, 699.8577998663634, 695.8994100065984, 691.9410201468332, 687.9825080365404, 684.0239959262473, 680.0654838159544, 676.1069717056612, 672.1484595953683, 668.1899474850752, 664.2314353747823, 660.2729232644895, 656.3144111388237, 652.3558990131579, 648.3973868874922, 644.4388747618264, 640.4803626361607, 636.5218505104949, 632.5633383848294, 628.6046029850362, 624.6458675852431, 620.6871321854499, 616.7283967856569, 612.7696613858635, 608.8109259860703, 604.8521905862772, 600.893455186484, 596.9346230918313, 592.9757909971786, 589.016958902526, 585.0581268078734, 581.0992947132206, 577.140462618568, 573.1816305239154, 569.2227984292628, 565.2639663346101, 561.3051342399575, 557.3463021453049, 553.3874700506523, 549.4286379559995, 545.4698058613468, 541.5109737666942, 537.5521416720414, 533.5933095773888, 529.6344774827362, 525.6756453880836, 521.716813293431, 517.7579811987782, 513.7991491041256, 509.840317009473, 505.88148491482036, 501.92265282016774, 497.9638207255151, 494.0049886308625, 486.0873244415571, 482.12849234690435, 478.16966025225173, 474.2108281575991, 470.2519960629465, 466.29316396829387, 462.33433187364125, 458.37549977898857, 454.41666768433583, 450.4578355896832, 446.4990034950306, 442.540171400378, 438.58133930572535, 434.62250721107273, 430.66367511642, 426.7048430217673, 422.7460109271146, 418.78717883246196, 414.82834673780934, 410.8695146431567, 406.9106825485041, 402.95185045385136, 398.99301835919886, 395.03418626454607, 391.0753541698936, 387.1165220752408, 383.1576899805882, 379.19885788593547, 375.24002579128296, 371.2811936966302, 367.3223616019775, 363.363529507325, 359.4046974126722, 355.4458653180197, 351.48703322336695, 347.52820112871444, 343.5693690340617, 339.610536939409, 335.65170484475647, 331.69287275010373, 327.7340406554511, 323.7752085607983, 319.8163764661458, 315.8575443714931, 311.89871227684057, 307.93988018218784, 303.9810480875351, 300.0222159928826, 296.06338389822986, 292.10455180357735, 288.14571970892456, 284.18688761427205, 280.2280555196193, 276.2692234249666, 272.3103913303141, 268.35155923566134, 264.39272714100883, 260.4338950463561, 256.4750629517036, 252.51623085705083, 248.55739876239807, 244.59856666774533, 240.6397345730926, 236.6809024784401, 232.72207038378733, 228.76323828913482, 224.80440619448208, 220.84557409982958, 216.88674200517684, 212.92790991052408, 208.96907781587157, 205.01024572121884, 201.05141362656633, 197.09258153191357, 193.13374943726106, 189.17491734260832, 185.21608524795582, 181.25725315330308, 177.29842105865032, 173.3395889639978, 169.38075686934508], \"yaxis\": \"y\"}, {\"line\": {\"color\": \"rgba(0, 114, 178, 0.2)\", \"width\": 0}, \"mode\": \"lines\", \"name\": \"trend_upper\", \"type\": \"scatter\", \"x\": [\"2020-03-01T00:00:00\", \"2020-03-02T00:00:00\", \"2020-03-03T00:00:00\", \"2020-03-04T00:00:00\", \"2020-03-05T00:00:00\", \"2020-03-06T00:00:00\", \"2020-03-07T00:00:00\", \"2020-03-08T00:00:00\", \"2020-03-09T00:00:00\", \"2020-03-10T00:00:00\", \"2020-03-11T00:00:00\", \"2020-03-12T00:00:00\", \"2020-03-13T00:00:00\", \"2020-03-14T00:00:00\", \"2020-03-15T00:00:00\", \"2020-03-16T00:00:00\", \"2020-03-17T00:00:00\", \"2020-03-18T00:00:00\", \"2020-03-19T00:00:00\", \"2020-03-20T00:00:00\", \"2020-03-21T00:00:00\", \"2020-03-22T00:00:00\", \"2020-03-23T00:00:00\", \"2020-03-24T00:00:00\", \"2020-03-25T00:00:00\", \"2020-03-26T00:00:00\", \"2020-03-27T00:00:00\", \"2020-03-28T00:00:00\", \"2020-03-29T00:00:00\", \"2020-03-30T00:00:00\", \"2020-03-31T00:00:00\", \"2020-04-01T00:00:00\", \"2020-04-02T00:00:00\", \"2020-04-03T00:00:00\", \"2020-04-04T00:00:00\", \"2020-04-05T00:00:00\", \"2020-04-06T00:00:00\", \"2020-04-07T00:00:00\", \"2020-04-08T00:00:00\", \"2020-04-09T00:00:00\", \"2020-04-10T00:00:00\", \"2020-04-11T00:00:00\", \"2020-04-12T00:00:00\", \"2020-04-13T00:00:00\", \"2020-04-14T00:00:00\", \"2020-04-15T00:00:00\", \"2020-04-16T00:00:00\", \"2020-04-17T00:00:00\", \"2020-04-18T00:00:00\", \"2020-04-19T00:00:00\", \"2020-04-21T00:00:00\", \"2020-04-22T00:00:00\", \"2020-04-23T00:00:00\", \"2020-04-24T00:00:00\", \"2020-04-25T00:00:00\", \"2020-04-26T00:00:00\", \"2020-04-27T00:00:00\", \"2020-04-28T00:00:00\", \"2020-04-29T00:00:00\", \"2020-04-30T00:00:00\", \"2020-05-01T00:00:00\", \"2020-05-02T00:00:00\", \"2020-05-03T00:00:00\", \"2020-05-04T00:00:00\", \"2020-05-05T00:00:00\", \"2020-05-06T00:00:00\", \"2020-05-07T00:00:00\", \"2020-05-08T00:00:00\", \"2020-05-09T00:00:00\", \"2020-05-10T00:00:00\", \"2020-05-11T00:00:00\", \"2020-05-12T00:00:00\", \"2020-05-13T00:00:00\", \"2020-05-14T00:00:00\", \"2020-05-15T00:00:00\", \"2020-05-16T00:00:00\", \"2020-05-17T00:00:00\", \"2020-05-18T00:00:00\", \"2020-05-19T00:00:00\", \"2020-05-20T00:00:00\", \"2020-05-21T00:00:00\", \"2020-05-22T00:00:00\", \"2020-05-23T00:00:00\", \"2020-05-24T00:00:00\", \"2020-05-25T00:00:00\", \"2020-05-26T00:00:00\", \"2020-05-27T00:00:00\", \"2020-05-28T00:00:00\", \"2020-05-30T00:00:00\", \"2020-05-31T00:00:00\", \"2020-06-01T00:00:00\", \"2020-06-02T00:00:00\", \"2020-06-03T00:00:00\", \"2020-06-04T00:00:00\", \"2020-06-05T00:00:00\", \"2020-06-06T00:00:00\", \"2020-06-07T00:00:00\", \"2020-06-08T00:00:00\", \"2020-06-09T00:00:00\", \"2020-06-10T00:00:00\", \"2020-06-11T00:00:00\", \"2020-06-12T00:00:00\", \"2020-06-13T00:00:00\", \"2020-06-14T00:00:00\", \"2020-06-15T00:00:00\", \"2020-06-16T00:00:00\", \"2020-06-17T00:00:00\", \"2020-06-18T00:00:00\", \"2020-06-19T00:00:00\", \"2020-06-20T00:00:00\", \"2020-06-21T00:00:00\", \"2020-06-22T00:00:00\", \"2020-06-23T00:00:00\", \"2020-06-24T00:00:00\", \"2020-06-25T00:00:00\", \"2020-06-26T00:00:00\", \"2020-06-27T00:00:00\", \"2020-06-28T00:00:00\", \"2020-06-29T00:00:00\", \"2020-06-30T00:00:00\", \"2020-07-01T00:00:00\", \"2020-07-02T00:00:00\", \"2020-07-03T00:00:00\", \"2020-07-04T00:00:00\", \"2020-07-05T00:00:00\", \"2020-07-06T00:00:00\", \"2020-07-07T00:00:00\", \"2020-07-08T00:00:00\", \"2020-07-09T00:00:00\", \"2020-07-10T00:00:00\", \"2020-07-11T00:00:00\", \"2020-07-12T00:00:00\", \"2020-07-13T00:00:00\", \"2020-07-14T00:00:00\", \"2020-07-15T00:00:00\", \"2020-07-16T00:00:00\", \"2020-07-17T00:00:00\", \"2020-07-18T00:00:00\", \"2020-07-19T00:00:00\", \"2020-07-20T00:00:00\", \"2020-07-21T00:00:00\", \"2020-07-22T00:00:00\", \"2020-07-23T00:00:00\", \"2020-07-24T00:00:00\", \"2020-07-25T00:00:00\", \"2020-07-26T00:00:00\", \"2020-07-27T00:00:00\", \"2020-07-28T00:00:00\", \"2020-07-29T00:00:00\", \"2020-07-30T00:00:00\", \"2020-07-31T00:00:00\", \"2020-08-01T00:00:00\", \"2020-08-02T00:00:00\", \"2020-08-03T00:00:00\", \"2020-08-04T00:00:00\", \"2020-08-05T00:00:00\", \"2020-08-06T00:00:00\", \"2020-08-07T00:00:00\", \"2020-08-08T00:00:00\", \"2020-08-09T00:00:00\", \"2020-08-10T00:00:00\", \"2020-08-11T00:00:00\", \"2020-08-12T00:00:00\", \"2020-08-13T00:00:00\", \"2020-08-14T00:00:00\", \"2020-08-15T00:00:00\", \"2020-08-16T00:00:00\", \"2020-08-17T00:00:00\", \"2020-08-18T00:00:00\", \"2020-08-19T00:00:00\", \"2020-08-20T00:00:00\", \"2020-08-21T00:00:00\", \"2020-08-22T00:00:00\", \"2020-08-23T00:00:00\", \"2020-08-24T00:00:00\", \"2020-08-25T00:00:00\", \"2020-08-26T00:00:00\", \"2020-08-27T00:00:00\", \"2020-08-28T00:00:00\", \"2020-08-29T00:00:00\", \"2020-08-30T00:00:00\", \"2020-08-31T00:00:00\", \"2020-09-01T00:00:00\", \"2020-09-02T00:00:00\", \"2020-09-03T00:00:00\", \"2020-09-04T00:00:00\", \"2020-09-05T00:00:00\", \"2020-09-06T00:00:00\", \"2020-09-07T00:00:00\", \"2020-09-08T00:00:00\", \"2020-09-09T00:00:00\", \"2020-09-10T00:00:00\", \"2020-09-11T00:00:00\", \"2020-09-12T00:00:00\", \"2020-09-13T00:00:00\", \"2020-09-14T00:00:00\", \"2020-09-15T00:00:00\", \"2020-09-16T00:00:00\", \"2020-09-17T00:00:00\", \"2020-09-18T00:00:00\", \"2020-09-19T00:00:00\", \"2020-09-20T00:00:00\", \"2020-09-21T00:00:00\", \"2020-09-22T00:00:00\", \"2020-09-23T00:00:00\", \"2020-09-24T00:00:00\", \"2020-09-25T00:00:00\", \"2020-09-26T00:00:00\", \"2020-09-27T00:00:00\", \"2020-09-28T00:00:00\", \"2020-09-29T00:00:00\", \"2020-09-30T00:00:00\", \"2020-10-01T00:00:00\", \"2020-10-02T00:00:00\", \"2020-10-03T00:00:00\", \"2020-10-04T00:00:00\", \"2020-10-05T00:00:00\", \"2020-10-06T00:00:00\", \"2020-10-07T00:00:00\", \"2020-10-09T00:00:00\", \"2020-10-10T00:00:00\", \"2020-10-11T00:00:00\", \"2020-10-12T00:00:00\", \"2020-10-13T00:00:00\", \"2020-10-14T00:00:00\", \"2020-10-15T00:00:00\", \"2020-10-16T00:00:00\", \"2020-10-17T00:00:00\", \"2020-10-18T00:00:00\", \"2020-10-19T00:00:00\", \"2020-10-20T00:00:00\", \"2020-10-21T00:00:00\", \"2020-10-22T00:00:00\", \"2020-10-23T00:00:00\", \"2020-10-24T00:00:00\", \"2020-10-25T00:00:00\", \"2020-10-26T00:00:00\", \"2020-10-27T00:00:00\", \"2020-10-28T00:00:00\", \"2020-10-29T00:00:00\", \"2020-10-30T00:00:00\", \"2020-10-31T00:00:00\", \"2020-11-01T00:00:00\", \"2020-11-02T00:00:00\", \"2020-11-03T00:00:00\", \"2020-11-04T00:00:00\", \"2020-11-05T00:00:00\", \"2020-11-06T00:00:00\", \"2020-11-07T00:00:00\", \"2020-11-08T00:00:00\", \"2020-11-09T00:00:00\", \"2020-11-10T00:00:00\", \"2020-11-11T00:00:00\", \"2020-11-12T00:00:00\", \"2020-11-13T00:00:00\", \"2020-11-14T00:00:00\", \"2020-11-15T00:00:00\", \"2020-11-16T00:00:00\", \"2020-11-17T00:00:00\", \"2020-11-18T00:00:00\", \"2020-11-19T00:00:00\", \"2020-11-20T00:00:00\", \"2020-11-21T00:00:00\", \"2020-11-22T00:00:00\", \"2020-11-23T00:00:00\", \"2020-11-24T00:00:00\", \"2020-11-25T00:00:00\", \"2020-11-26T00:00:00\", \"2020-11-27T00:00:00\", \"2020-11-28T00:00:00\", \"2020-11-29T00:00:00\", \"2020-11-30T00:00:00\", \"2020-12-01T00:00:00\", \"2020-12-02T00:00:00\", \"2020-12-03T00:00:00\", \"2020-12-04T00:00:00\", \"2020-12-05T00:00:00\", \"2020-12-06T00:00:00\", \"2020-12-07T00:00:00\", \"2020-12-08T00:00:00\", \"2020-12-09T00:00:00\", \"2020-12-10T00:00:00\", \"2020-12-11T00:00:00\", \"2020-12-12T00:00:00\", \"2020-12-13T00:00:00\", \"2020-12-14T00:00:00\", \"2020-12-15T00:00:00\", \"2020-12-16T00:00:00\", \"2020-12-17T00:00:00\", \"2020-12-18T00:00:00\", \"2020-12-19T00:00:00\", \"2020-12-20T00:00:00\", \"2020-12-21T00:00:00\", \"2020-12-22T00:00:00\", \"2020-12-23T00:00:00\", \"2020-12-24T00:00:00\", \"2020-12-25T00:00:00\", \"2020-12-26T00:00:00\", \"2020-12-27T00:00:00\", \"2020-12-28T00:00:00\"], \"xaxis\": \"x\", \"y\": [2.9478551994411637, 8.86037241509043, 14.772889630739696, 20.68540684638896, 26.597924062038224, 32.5104412776875, 38.42295849333676, 44.335475708986024, 50.247992924635284, 56.160510133536405, 62.07302734243754, 67.98554455133866, 73.89806176023978, 79.81057896914092, 85.72309617804204, 91.63561338694316, 97.54813058698191, 103.46064778702069, 109.37316498705945, 115.2856821870982, 121.19819938713697, 127.11071658717574, 133.02323378721448, 138.93575098725327, 144.84826820780594, 150.76078542835864, 156.67330264891132, 162.585819869464, 168.4983370900167, 174.4108543105694, 180.323371531122, 186.23588875167474, 192.14840597281102, 198.0609231939473, 203.97344041508362, 209.88595763621987, 215.79847485735618, 221.71099207849244, 227.62350929962878, 233.53602651759596, 239.44854373556316, 245.36106095353037, 251.27357817149755, 257.18609538946475, 263.098612607432, 269.0111298253992, 274.92364704336643, 280.8361642447787, 286.7486814461909, 292.6611986476032, 304.48623305042776, 310.39875025184, 316.3112674532523, 322.2237846546646, 328.1363018293846, 334.04881900410453, 339.9613361788245, 345.8738533535446, 351.7863705282645, 357.69888770298456, 363.6114048777045, 369.5239220524245, 375.4364392342695, 381.34895641611445, 387.2614735979594, 393.1739907798044, 399.08650796164943, 404.99902514349435, 410.9115423253393, 416.8240595071843, 422.7365766904308, 428.6490938736773, 434.5616110569238, 440.4741282401703, 446.3866454234169, 452.29916260666334, 458.2116797899098, 464.12419695301907, 470.03671411612834, 475.9492312792376, 481.8617484423469, 487.77426560545604, 493.68678276856537, 499.5992999316746, 505.51181709478374, 511.42433426336, 517.3368514319362, 523.2493686005125, 535.0744029376649, 540.9869201062412, 546.8994372748174, 552.8119544433937, 558.7244716119699, 564.6369763556614, 570.5494810993529, 576.4619858430443, 582.3744905867358, 588.2869953304272, 594.1995000741186, 600.1120048178101, 606.0243476177598, 611.9366904177099, 617.8490332176597, 623.7613760176096, 629.6737188175593, 635.5860616175092, 641.498404417459, 647.4107472174089, 653.3223984519019, 659.234049686395, 665.1457009208882, 671.0573521553812, 676.9690033898742, 682.8806546243675, 688.7923058588603, 694.7039570933534, 700.6121303768003, 706.5203036602471, 712.428476943694, 718.3366502271408, 724.2448235105876, 730.1529967940345, 736.0611700774813, 738.1021700053965, 740.1431699333118, 742.1841698612272, 744.2251697891425, 746.2661697170577, 748.3071696449731, 750.3481695728885, 752.3891695008037, 754.4268355774747, 756.4645016541455, 758.5021677308163, 760.5398338074872, 762.5774998841578, 764.6151659608287, 766.6528320374995, 768.6904981141703, 770.7255275263665, 772.7605569385624, 774.7955863507585, 776.8306157629545, 778.8656451751506, 780.9006745873465, 782.9357039995426, 778.9818458880986, 775.0279877766546, 771.0741296652105, 767.1202715537665, 763.1664134423224, 759.2125553308786, 755.2586972194347, 751.3048391079907, 747.3481676675568, 743.3914962271231, 739.4348247866892, 735.4781533462555, 731.5214819058217, 727.564810465388, 723.6081390249542, 719.6497491651892, 715.691359305424, 711.7329694456588, 707.7745795858937, 703.8161897261285, 699.8577998663634, 695.8994100065984, 691.9410201468332, 687.9825080365404, 684.0239959262472, 680.0654838159544, 676.1069717056612, 672.1484595953683, 668.1899474850752, 664.2314353747822, 660.2729232644895, 656.3144111388237, 652.3558990131579, 648.3973868874922, 644.4388747618264, 640.4803626361607, 636.5218505104949, 632.5633383848294, 628.6046029850362, 624.6458675852431, 620.6871321854499, 616.7283967856569, 612.7696613858635, 608.8109259860703, 604.8521905862772, 600.893455186484, 596.9346230918313, 592.9757909971786, 589.016958902526, 585.0581268078734, 581.0992947132206, 577.140462618568, 573.1816305239154, 569.2227984292628, 565.2639663346101, 561.3051342399575, 557.3463021453049, 553.3874700506523, 549.4286379559995, 545.4698058613468, 541.5109737666942, 537.5521416720414, 533.5933095773888, 529.6344774827362, 525.6756453880836, 521.716813293431, 517.7579811987782, 513.7991491041256, 509.840317009473, 505.88148491482036, 501.92265282016774, 497.9638207255151, 494.0049886308625, 486.0873244415571, 482.1284923469043, 478.16966025225173, 474.2108281575991, 470.2519960629465, 466.29316396829387, 462.33433187364125, 458.37549977898857, 454.41666768433583, 450.4578355896832, 446.4990034950306, 442.540171400378, 438.58133930572535, 434.62250721107273, 430.66367511642, 426.7048430217673, 422.7460109271146, 418.78717883246196, 414.82834673780934, 410.8695146431567, 406.9106825485041, 402.95185045385136, 398.99301835919886, 395.1267389371151, 391.46209068697607, 387.74315156606167, 384.032547625083, 380.3649652108269, 376.89728296989904, 373.3661232841223, 369.9541759347115, 366.4582235945662, 362.90930475785945, 359.4223282970465, 356.0345564041129, 352.7180600815096, 349.36174414902587, 345.9897141781513, 342.72321218297003, 339.3550175022799, 336.365373594016, 333.14279686349886, 329.72000280858254, 326.5425584457365, 323.3587391266128, 320.4794032547787, 317.00638275637215, 314.0165216410558, 311.1960169773973, 307.9135349824616, 304.8982195500975, 301.9199441722861, 299.0199807062628, 295.87067085021584, 292.3604338184466, 289.46170651573476, 286.4468730103256, 283.19903239810054, 280.4984632954267, 277.64235553676156, 274.8314349645677, 272.2398774732596, 269.0164204188325, 266.16791979812797, 262.9288056881677, 260.23674551923455, 257.22888896215085, 255.02596297970365, 252.53903948377865, 249.38363309417028, 247.0036359085187, 244.12914832834997, 241.81471681864002, 240.06792471190494, 237.91277113204512, 235.10247448296974, 232.35001644137705, 229.67487263802107, 226.79035703291768, 224.42705917541332, 221.45466720522586], \"yaxis\": \"y\"}, {\"fill\": \"tonexty\", \"fillcolor\": \"rgba(0, 114, 178, 0.2)\", \"line\": {\"color\": \"rgba(0, 114, 178, 0.2)\", \"width\": 0}, \"mode\": \"lines\", \"name\": \"trend_lower\", \"type\": \"scatter\", \"x\": [\"2020-03-01T00:00:00\", \"2020-03-02T00:00:00\", \"2020-03-03T00:00:00\", \"2020-03-04T00:00:00\", \"2020-03-05T00:00:00\", \"2020-03-06T00:00:00\", \"2020-03-07T00:00:00\", \"2020-03-08T00:00:00\", \"2020-03-09T00:00:00\", \"2020-03-10T00:00:00\", \"2020-03-11T00:00:00\", \"2020-03-12T00:00:00\", \"2020-03-13T00:00:00\", \"2020-03-14T00:00:00\", \"2020-03-15T00:00:00\", \"2020-03-16T00:00:00\", \"2020-03-17T00:00:00\", \"2020-03-18T00:00:00\", \"2020-03-19T00:00:00\", \"2020-03-20T00:00:00\", \"2020-03-21T00:00:00\", \"2020-03-22T00:00:00\", \"2020-03-23T00:00:00\", \"2020-03-24T00:00:00\", \"2020-03-25T00:00:00\", \"2020-03-26T00:00:00\", \"2020-03-27T00:00:00\", \"2020-03-28T00:00:00\", \"2020-03-29T00:00:00\", \"2020-03-30T00:00:00\", \"2020-03-31T00:00:00\", \"2020-04-01T00:00:00\", \"2020-04-02T00:00:00\", \"2020-04-03T00:00:00\", \"2020-04-04T00:00:00\", \"2020-04-05T00:00:00\", \"2020-04-06T00:00:00\", \"2020-04-07T00:00:00\", \"2020-04-08T00:00:00\", \"2020-04-09T00:00:00\", \"2020-04-10T00:00:00\", \"2020-04-11T00:00:00\", \"2020-04-12T00:00:00\", \"2020-04-13T00:00:00\", \"2020-04-14T00:00:00\", \"2020-04-15T00:00:00\", \"2020-04-16T00:00:00\", \"2020-04-17T00:00:00\", \"2020-04-18T00:00:00\", \"2020-04-19T00:00:00\", \"2020-04-21T00:00:00\", \"2020-04-22T00:00:00\", \"2020-04-23T00:00:00\", \"2020-04-24T00:00:00\", \"2020-04-25T00:00:00\", \"2020-04-26T00:00:00\", \"2020-04-27T00:00:00\", \"2020-04-28T00:00:00\", \"2020-04-29T00:00:00\", \"2020-04-30T00:00:00\", \"2020-05-01T00:00:00\", \"2020-05-02T00:00:00\", \"2020-05-03T00:00:00\", \"2020-05-04T00:00:00\", \"2020-05-05T00:00:00\", \"2020-05-06T00:00:00\", \"2020-05-07T00:00:00\", \"2020-05-08T00:00:00\", \"2020-05-09T00:00:00\", \"2020-05-10T00:00:00\", \"2020-05-11T00:00:00\", \"2020-05-12T00:00:00\", \"2020-05-13T00:00:00\", \"2020-05-14T00:00:00\", \"2020-05-15T00:00:00\", \"2020-05-16T00:00:00\", \"2020-05-17T00:00:00\", \"2020-05-18T00:00:00\", \"2020-05-19T00:00:00\", \"2020-05-20T00:00:00\", \"2020-05-21T00:00:00\", \"2020-05-22T00:00:00\", \"2020-05-23T00:00:00\", \"2020-05-24T00:00:00\", \"2020-05-25T00:00:00\", \"2020-05-26T00:00:00\", \"2020-05-27T00:00:00\", \"2020-05-28T00:00:00\", \"2020-05-30T00:00:00\", \"2020-05-31T00:00:00\", \"2020-06-01T00:00:00\", \"2020-06-02T00:00:00\", \"2020-06-03T00:00:00\", \"2020-06-04T00:00:00\", \"2020-06-05T00:00:00\", \"2020-06-06T00:00:00\", \"2020-06-07T00:00:00\", \"2020-06-08T00:00:00\", \"2020-06-09T00:00:00\", \"2020-06-10T00:00:00\", \"2020-06-11T00:00:00\", \"2020-06-12T00:00:00\", \"2020-06-13T00:00:00\", \"2020-06-14T00:00:00\", \"2020-06-15T00:00:00\", \"2020-06-16T00:00:00\", \"2020-06-17T00:00:00\", \"2020-06-18T00:00:00\", \"2020-06-19T00:00:00\", \"2020-06-20T00:00:00\", \"2020-06-21T00:00:00\", \"2020-06-22T00:00:00\", \"2020-06-23T00:00:00\", \"2020-06-24T00:00:00\", \"2020-06-25T00:00:00\", \"2020-06-26T00:00:00\", \"2020-06-27T00:00:00\", \"2020-06-28T00:00:00\", \"2020-06-29T00:00:00\", \"2020-06-30T00:00:00\", \"2020-07-01T00:00:00\", \"2020-07-02T00:00:00\", \"2020-07-03T00:00:00\", \"2020-07-04T00:00:00\", \"2020-07-05T00:00:00\", \"2020-07-06T00:00:00\", \"2020-07-07T00:00:00\", \"2020-07-08T00:00:00\", \"2020-07-09T00:00:00\", \"2020-07-10T00:00:00\", \"2020-07-11T00:00:00\", \"2020-07-12T00:00:00\", \"2020-07-13T00:00:00\", \"2020-07-14T00:00:00\", \"2020-07-15T00:00:00\", \"2020-07-16T00:00:00\", \"2020-07-17T00:00:00\", \"2020-07-18T00:00:00\", \"2020-07-19T00:00:00\", \"2020-07-20T00:00:00\", \"2020-07-21T00:00:00\", \"2020-07-22T00:00:00\", \"2020-07-23T00:00:00\", \"2020-07-24T00:00:00\", \"2020-07-25T00:00:00\", \"2020-07-26T00:00:00\", \"2020-07-27T00:00:00\", \"2020-07-28T00:00:00\", \"2020-07-29T00:00:00\", \"2020-07-30T00:00:00\", \"2020-07-31T00:00:00\", \"2020-08-01T00:00:00\", \"2020-08-02T00:00:00\", \"2020-08-03T00:00:00\", \"2020-08-04T00:00:00\", \"2020-08-05T00:00:00\", \"2020-08-06T00:00:00\", \"2020-08-07T00:00:00\", \"2020-08-08T00:00:00\", \"2020-08-09T00:00:00\", \"2020-08-10T00:00:00\", \"2020-08-11T00:00:00\", \"2020-08-12T00:00:00\", \"2020-08-13T00:00:00\", \"2020-08-14T00:00:00\", \"2020-08-15T00:00:00\", \"2020-08-16T00:00:00\", \"2020-08-17T00:00:00\", \"2020-08-18T00:00:00\", \"2020-08-19T00:00:00\", \"2020-08-20T00:00:00\", \"2020-08-21T00:00:00\", \"2020-08-22T00:00:00\", \"2020-08-23T00:00:00\", \"2020-08-24T00:00:00\", \"2020-08-25T00:00:00\", \"2020-08-26T00:00:00\", \"2020-08-27T00:00:00\", \"2020-08-28T00:00:00\", \"2020-08-29T00:00:00\", \"2020-08-30T00:00:00\", \"2020-08-31T00:00:00\", \"2020-09-01T00:00:00\", \"2020-09-02T00:00:00\", \"2020-09-03T00:00:00\", \"2020-09-04T00:00:00\", \"2020-09-05T00:00:00\", \"2020-09-06T00:00:00\", \"2020-09-07T00:00:00\", \"2020-09-08T00:00:00\", \"2020-09-09T00:00:00\", \"2020-09-10T00:00:00\", \"2020-09-11T00:00:00\", \"2020-09-12T00:00:00\", \"2020-09-13T00:00:00\", \"2020-09-14T00:00:00\", \"2020-09-15T00:00:00\", \"2020-09-16T00:00:00\", \"2020-09-17T00:00:00\", \"2020-09-18T00:00:00\", \"2020-09-19T00:00:00\", \"2020-09-20T00:00:00\", \"2020-09-21T00:00:00\", \"2020-09-22T00:00:00\", \"2020-09-23T00:00:00\", \"2020-09-24T00:00:00\", \"2020-09-25T00:00:00\", \"2020-09-26T00:00:00\", \"2020-09-27T00:00:00\", \"2020-09-28T00:00:00\", \"2020-09-29T00:00:00\", \"2020-09-30T00:00:00\", \"2020-10-01T00:00:00\", \"2020-10-02T00:00:00\", \"2020-10-03T00:00:00\", \"2020-10-04T00:00:00\", \"2020-10-05T00:00:00\", \"2020-10-06T00:00:00\", \"2020-10-07T00:00:00\", \"2020-10-09T00:00:00\", \"2020-10-10T00:00:00\", \"2020-10-11T00:00:00\", \"2020-10-12T00:00:00\", \"2020-10-13T00:00:00\", \"2020-10-14T00:00:00\", \"2020-10-15T00:00:00\", \"2020-10-16T00:00:00\", \"2020-10-17T00:00:00\", \"2020-10-18T00:00:00\", \"2020-10-19T00:00:00\", \"2020-10-20T00:00:00\", \"2020-10-21T00:00:00\", \"2020-10-22T00:00:00\", \"2020-10-23T00:00:00\", \"2020-10-24T00:00:00\", \"2020-10-25T00:00:00\", \"2020-10-26T00:00:00\", \"2020-10-27T00:00:00\", \"2020-10-28T00:00:00\", \"2020-10-29T00:00:00\", \"2020-10-30T00:00:00\", \"2020-10-31T00:00:00\", \"2020-11-01T00:00:00\", \"2020-11-02T00:00:00\", \"2020-11-03T00:00:00\", \"2020-11-04T00:00:00\", \"2020-11-05T00:00:00\", \"2020-11-06T00:00:00\", \"2020-11-07T00:00:00\", \"2020-11-08T00:00:00\", \"2020-11-09T00:00:00\", \"2020-11-10T00:00:00\", \"2020-11-11T00:00:00\", \"2020-11-12T00:00:00\", \"2020-11-13T00:00:00\", \"2020-11-14T00:00:00\", \"2020-11-15T00:00:00\", \"2020-11-16T00:00:00\", \"2020-11-17T00:00:00\", \"2020-11-18T00:00:00\", \"2020-11-19T00:00:00\", \"2020-11-20T00:00:00\", \"2020-11-21T00:00:00\", \"2020-11-22T00:00:00\", \"2020-11-23T00:00:00\", \"2020-11-24T00:00:00\", \"2020-11-25T00:00:00\", \"2020-11-26T00:00:00\", \"2020-11-27T00:00:00\", \"2020-11-28T00:00:00\", \"2020-11-29T00:00:00\", \"2020-11-30T00:00:00\", \"2020-12-01T00:00:00\", \"2020-12-02T00:00:00\", \"2020-12-03T00:00:00\", \"2020-12-04T00:00:00\", \"2020-12-05T00:00:00\", \"2020-12-06T00:00:00\", \"2020-12-07T00:00:00\", \"2020-12-08T00:00:00\", \"2020-12-09T00:00:00\", \"2020-12-10T00:00:00\", \"2020-12-11T00:00:00\", \"2020-12-12T00:00:00\", \"2020-12-13T00:00:00\", \"2020-12-14T00:00:00\", \"2020-12-15T00:00:00\", \"2020-12-16T00:00:00\", \"2020-12-17T00:00:00\", \"2020-12-18T00:00:00\", \"2020-12-19T00:00:00\", \"2020-12-20T00:00:00\", \"2020-12-21T00:00:00\", \"2020-12-22T00:00:00\", \"2020-12-23T00:00:00\", \"2020-12-24T00:00:00\", \"2020-12-25T00:00:00\", \"2020-12-26T00:00:00\", \"2020-12-27T00:00:00\", \"2020-12-28T00:00:00\"], \"xaxis\": \"x\", \"y\": [2.9478551994411637, 8.86037241509043, 14.772889630739696, 20.68540684638896, 26.597924062038224, 32.5104412776875, 38.42295849333676, 44.335475708986024, 50.247992924635284, 56.160510133536405, 62.07302734243754, 67.98554455133866, 73.89806176023978, 79.81057896914092, 85.72309617804204, 91.63561338694316, 97.54813058698191, 103.46064778702069, 109.37316498705945, 115.2856821870982, 121.19819938713697, 127.11071658717574, 133.02323378721448, 138.93575098725327, 144.84826820780594, 150.76078542835864, 156.67330264891132, 162.585819869464, 168.4983370900167, 174.4108543105694, 180.323371531122, 186.23588875167474, 192.14840597281102, 198.0609231939473, 203.97344041508362, 209.88595763621987, 215.79847485735618, 221.71099207849244, 227.62350929962878, 233.53602651759596, 239.44854373556316, 245.36106095353037, 251.27357817149755, 257.18609538946475, 263.098612607432, 269.0111298253992, 274.92364704336643, 280.8361642447787, 286.7486814461909, 292.6611986476032, 304.48623305042776, 310.39875025184, 316.3112674532523, 322.2237846546646, 328.1363018293846, 334.04881900410453, 339.9613361788245, 345.8738533535446, 351.7863705282645, 357.69888770298456, 363.6114048777045, 369.5239220524245, 375.4364392342695, 381.34895641611445, 387.2614735979594, 393.1739907798044, 399.08650796164943, 404.99902514349435, 410.9115423253393, 416.8240595071843, 422.7365766904308, 428.6490938736773, 434.5616110569238, 440.4741282401703, 446.3866454234169, 452.29916260666334, 458.2116797899098, 464.12419695301907, 470.03671411612834, 475.9492312792376, 481.8617484423469, 487.77426560545604, 493.68678276856537, 499.5992999316746, 505.51181709478374, 511.42433426336, 517.3368514319362, 523.2493686005125, 535.0744029376649, 540.9869201062412, 546.8994372748174, 552.8119544433937, 558.7244716119699, 564.6369763556614, 570.5494810993529, 576.4619858430443, 582.3744905867358, 588.2869953304272, 594.1995000741186, 600.1120048178101, 606.0243476177598, 611.9366904177099, 617.8490332176597, 623.7613760176096, 629.6737188175593, 635.5860616175092, 641.498404417459, 647.4107472174089, 653.3223984519019, 659.234049686395, 665.1457009208882, 671.0573521553812, 676.9690033898742, 682.8806546243675, 688.7923058588603, 694.7039570933534, 700.6121303768003, 706.5203036602471, 712.428476943694, 718.3366502271408, 724.2448235105876, 730.1529967940345, 736.0611700774813, 738.1021700053965, 740.1431699333118, 742.1841698612272, 744.2251697891425, 746.2661697170577, 748.3071696449731, 750.3481695728885, 752.3891695008037, 754.4268355774747, 756.4645016541455, 758.5021677308163, 760.5398338074872, 762.5774998841578, 764.6151659608287, 766.6528320374995, 768.6904981141703, 770.7255275263665, 772.7605569385624, 774.7955863507585, 776.8306157629545, 778.8656451751506, 780.9006745873465, 782.9357039995426, 778.9818458880986, 775.0279877766546, 771.0741296652105, 767.1202715537665, 763.1664134423224, 759.2125553308786, 755.2586972194347, 751.3048391079907, 747.3481676675568, 743.3914962271231, 739.4348247866892, 735.4781533462555, 731.5214819058217, 727.564810465388, 723.6081390249542, 719.6497491651892, 715.691359305424, 711.7329694456588, 707.7745795858937, 703.8161897261285, 699.8577998663634, 695.8994100065984, 691.9410201468332, 687.9825080365404, 684.0239959262472, 680.0654838159544, 676.1069717056612, 672.1484595953683, 668.1899474850752, 664.2314353747822, 660.2729232644895, 656.3144111388237, 652.3558990131579, 648.3973868874922, 644.4388747618264, 640.4803626361607, 636.5218505104949, 632.5633383848294, 628.6046029850362, 624.6458675852431, 620.6871321854499, 616.7283967856569, 612.7696613858635, 608.8109259860703, 604.8521905862772, 600.893455186484, 596.9346230918313, 592.9757909971786, 589.016958902526, 585.0581268078734, 581.0992947132206, 577.140462618568, 573.1816305239154, 569.2227984292628, 565.2639663346101, 561.3051342399575, 557.3463021453049, 553.3874700506523, 549.4286379559995, 545.4698058613468, 541.5109737666942, 537.5521416720414, 533.5933095773888, 529.6344774827362, 525.6756453880836, 521.716813293431, 517.7579811987782, 513.7991491041256, 509.840317009473, 505.88148491482036, 501.92265282016774, 497.9638207255151, 494.0049886308625, 486.0873244415571, 482.1284923469043, 478.16966025225173, 474.2108281575991, 470.2519960629465, 466.29316396829387, 462.33433187364125, 458.37549977898857, 454.41666768433583, 450.4578355896832, 446.4990034950306, 442.540171400378, 438.58133930572535, 434.62250721107273, 430.66367511642, 426.7048430217673, 422.7460109271146, 418.78717883246196, 414.82834673780934, 410.8695146431567, 406.9106825485041, 402.95185045385136, 398.99301835919886, 394.8449888707762, 390.6788925897548, 386.3808763363967, 381.99229397863206, 377.62031262343135, 373.1713663294399, 368.59010167181117, 364.1213174479441, 359.6217956732442, 355.17443198854716, 350.60180460998123, 345.963768308201, 341.3787495710019, 336.5408565442347, 331.85660733131334, 327.0965534544111, 322.2191041157058, 317.4226713681866, 312.73224090403573, 307.8311494544804, 303.21471634809586, 298.37049917986076, 293.47520820487097, 288.53241309200996, 283.7222946667822, 278.8574230903741, 273.98809232797845, 268.9842263732727, 263.7850056380581, 258.81497994170417, 253.44615722875395, 248.41719543460923, 243.33875894386128, 237.82123245335055, 232.5256896400751, 227.615154478611, 222.20407038009958, 216.94246172587663, 211.10359594763497, 205.93994667710612, 200.1940485936976, 194.81967613106693, 189.6666063181048, 184.137330929579, 179.04027079246168, 173.86287724282886, 168.54010903162927, 163.262776169588, 157.67822609767268, 152.72099967691383, 148.10578914358885, 142.718055554664, 136.90589750756186, 131.52873621023733, 126.29466560342046, 120.75121867700994, 114.7866640820226, 109.84629404531869], \"yaxis\": \"y\"}, {\"line\": {\"color\": \"#0072B2\", \"width\": 2}, \"mode\": \"lines\", \"name\": \"extra_regressors_additive\", \"type\": \"scatter\", \"x\": [\"2020-03-01T00:00:00\", \"2020-03-02T00:00:00\", \"2020-03-03T00:00:00\", \"2020-03-04T00:00:00\", \"2020-03-05T00:00:00\", \"2020-03-06T00:00:00\", \"2020-03-07T00:00:00\", \"2020-03-08T00:00:00\", \"2020-03-09T00:00:00\", \"2020-03-10T00:00:00\", \"2020-03-11T00:00:00\", \"2020-03-12T00:00:00\", \"2020-03-13T00:00:00\", \"2020-03-14T00:00:00\", \"2020-03-15T00:00:00\", \"2020-03-16T00:00:00\", \"2020-03-17T00:00:00\", \"2020-03-18T00:00:00\", \"2020-03-19T00:00:00\", \"2020-03-20T00:00:00\", \"2020-03-21T00:00:00\", \"2020-03-22T00:00:00\", \"2020-03-23T00:00:00\", \"2020-03-24T00:00:00\", \"2020-03-25T00:00:00\", \"2020-03-26T00:00:00\", \"2020-03-27T00:00:00\", \"2020-03-28T00:00:00\", \"2020-03-29T00:00:00\", \"2020-03-30T00:00:00\", \"2020-03-31T00:00:00\", \"2020-04-01T00:00:00\", \"2020-04-02T00:00:00\", \"2020-04-03T00:00:00\", \"2020-04-04T00:00:00\", \"2020-04-05T00:00:00\", \"2020-04-06T00:00:00\", \"2020-04-07T00:00:00\", \"2020-04-08T00:00:00\", \"2020-04-09T00:00:00\", \"2020-04-10T00:00:00\", \"2020-04-11T00:00:00\", \"2020-04-12T00:00:00\", \"2020-04-13T00:00:00\", \"2020-04-14T00:00:00\", \"2020-04-15T00:00:00\", \"2020-04-16T00:00:00\", \"2020-04-17T00:00:00\", \"2020-04-18T00:00:00\", \"2020-04-19T00:00:00\", \"2020-04-21T00:00:00\", \"2020-04-22T00:00:00\", \"2020-04-23T00:00:00\", \"2020-04-24T00:00:00\", \"2020-04-25T00:00:00\", \"2020-04-26T00:00:00\", \"2020-04-27T00:00:00\", \"2020-04-28T00:00:00\", \"2020-04-29T00:00:00\", \"2020-04-30T00:00:00\", \"2020-05-01T00:00:00\", \"2020-05-02T00:00:00\", \"2020-05-03T00:00:00\", \"2020-05-04T00:00:00\", \"2020-05-05T00:00:00\", \"2020-05-06T00:00:00\", \"2020-05-07T00:00:00\", \"2020-05-08T00:00:00\", \"2020-05-09T00:00:00\", \"2020-05-10T00:00:00\", \"2020-05-11T00:00:00\", \"2020-05-12T00:00:00\", \"2020-05-13T00:00:00\", \"2020-05-14T00:00:00\", \"2020-05-15T00:00:00\", \"2020-05-16T00:00:00\", \"2020-05-17T00:00:00\", \"2020-05-18T00:00:00\", \"2020-05-19T00:00:00\", \"2020-05-20T00:00:00\", \"2020-05-21T00:00:00\", \"2020-05-22T00:00:00\", \"2020-05-23T00:00:00\", \"2020-05-24T00:00:00\", \"2020-05-25T00:00:00\", \"2020-05-26T00:00:00\", \"2020-05-27T00:00:00\", \"2020-05-28T00:00:00\", \"2020-05-30T00:00:00\", \"2020-05-31T00:00:00\", \"2020-06-01T00:00:00\", \"2020-06-02T00:00:00\", \"2020-06-03T00:00:00\", \"2020-06-04T00:00:00\", \"2020-06-05T00:00:00\", \"2020-06-06T00:00:00\", \"2020-06-07T00:00:00\", \"2020-06-08T00:00:00\", \"2020-06-09T00:00:00\", \"2020-06-10T00:00:00\", \"2020-06-11T00:00:00\", \"2020-06-12T00:00:00\", \"2020-06-13T00:00:00\", \"2020-06-14T00:00:00\", \"2020-06-15T00:00:00\", \"2020-06-16T00:00:00\", \"2020-06-17T00:00:00\", \"2020-06-18T00:00:00\", \"2020-06-19T00:00:00\", \"2020-06-20T00:00:00\", \"2020-06-21T00:00:00\", \"2020-06-22T00:00:00\", \"2020-06-23T00:00:00\", \"2020-06-24T00:00:00\", \"2020-06-25T00:00:00\", \"2020-06-26T00:00:00\", \"2020-06-27T00:00:00\", \"2020-06-28T00:00:00\", \"2020-06-29T00:00:00\", \"2020-06-30T00:00:00\", \"2020-07-01T00:00:00\", \"2020-07-02T00:00:00\", \"2020-07-03T00:00:00\", \"2020-07-04T00:00:00\", \"2020-07-05T00:00:00\", \"2020-07-06T00:00:00\", \"2020-07-07T00:00:00\", \"2020-07-08T00:00:00\", \"2020-07-09T00:00:00\", \"2020-07-10T00:00:00\", \"2020-07-11T00:00:00\", \"2020-07-12T00:00:00\", \"2020-07-13T00:00:00\", \"2020-07-14T00:00:00\", \"2020-07-15T00:00:00\", \"2020-07-16T00:00:00\", \"2020-07-17T00:00:00\", \"2020-07-18T00:00:00\", \"2020-07-19T00:00:00\", \"2020-07-20T00:00:00\", \"2020-07-21T00:00:00\", \"2020-07-22T00:00:00\", \"2020-07-23T00:00:00\", \"2020-07-24T00:00:00\", \"2020-07-25T00:00:00\", \"2020-07-26T00:00:00\", \"2020-07-27T00:00:00\", \"2020-07-28T00:00:00\", \"2020-07-29T00:00:00\", \"2020-07-30T00:00:00\", \"2020-07-31T00:00:00\", \"2020-08-01T00:00:00\", \"2020-08-02T00:00:00\", \"2020-08-03T00:00:00\", \"2020-08-04T00:00:00\", \"2020-08-05T00:00:00\", \"2020-08-06T00:00:00\", \"2020-08-07T00:00:00\", \"2020-08-08T00:00:00\", \"2020-08-09T00:00:00\", \"2020-08-10T00:00:00\", \"2020-08-11T00:00:00\", \"2020-08-12T00:00:00\", \"2020-08-13T00:00:00\", \"2020-08-14T00:00:00\", \"2020-08-15T00:00:00\", \"2020-08-16T00:00:00\", \"2020-08-17T00:00:00\", \"2020-08-18T00:00:00\", \"2020-08-19T00:00:00\", \"2020-08-20T00:00:00\", \"2020-08-21T00:00:00\", \"2020-08-22T00:00:00\", \"2020-08-23T00:00:00\", \"2020-08-24T00:00:00\", \"2020-08-25T00:00:00\", \"2020-08-26T00:00:00\", \"2020-08-27T00:00:00\", \"2020-08-28T00:00:00\", \"2020-08-29T00:00:00\", \"2020-08-30T00:00:00\", \"2020-08-31T00:00:00\", \"2020-09-01T00:00:00\", \"2020-09-02T00:00:00\", \"2020-09-03T00:00:00\", \"2020-09-04T00:00:00\", \"2020-09-05T00:00:00\", \"2020-09-06T00:00:00\", \"2020-09-07T00:00:00\", \"2020-09-08T00:00:00\", \"2020-09-09T00:00:00\", \"2020-09-10T00:00:00\", \"2020-09-11T00:00:00\", \"2020-09-12T00:00:00\", \"2020-09-13T00:00:00\", \"2020-09-14T00:00:00\", \"2020-09-15T00:00:00\", \"2020-09-16T00:00:00\", \"2020-09-17T00:00:00\", \"2020-09-18T00:00:00\", \"2020-09-19T00:00:00\", \"2020-09-20T00:00:00\", \"2020-09-21T00:00:00\", \"2020-09-22T00:00:00\", \"2020-09-23T00:00:00\", \"2020-09-24T00:00:00\", \"2020-09-25T00:00:00\", \"2020-09-26T00:00:00\", \"2020-09-27T00:00:00\", \"2020-09-28T00:00:00\", \"2020-09-29T00:00:00\", \"2020-09-30T00:00:00\", \"2020-10-01T00:00:00\", \"2020-10-02T00:00:00\", \"2020-10-03T00:00:00\", \"2020-10-04T00:00:00\", \"2020-10-05T00:00:00\", \"2020-10-06T00:00:00\", \"2020-10-07T00:00:00\", \"2020-10-09T00:00:00\", \"2020-10-10T00:00:00\", \"2020-10-11T00:00:00\", \"2020-10-12T00:00:00\", \"2020-10-13T00:00:00\", \"2020-10-14T00:00:00\", \"2020-10-15T00:00:00\", \"2020-10-16T00:00:00\", \"2020-10-17T00:00:00\", \"2020-10-18T00:00:00\", \"2020-10-19T00:00:00\", \"2020-10-20T00:00:00\", \"2020-10-21T00:00:00\", \"2020-10-22T00:00:00\", \"2020-10-23T00:00:00\", \"2020-10-24T00:00:00\", \"2020-10-25T00:00:00\", \"2020-10-26T00:00:00\", \"2020-10-27T00:00:00\", \"2020-10-28T00:00:00\", \"2020-10-29T00:00:00\", \"2020-10-30T00:00:00\", \"2020-10-31T00:00:00\", \"2020-11-01T00:00:00\", \"2020-11-02T00:00:00\", \"2020-11-03T00:00:00\", \"2020-11-04T00:00:00\", \"2020-11-05T00:00:00\", \"2020-11-06T00:00:00\", \"2020-11-07T00:00:00\", \"2020-11-08T00:00:00\", \"2020-11-09T00:00:00\", \"2020-11-10T00:00:00\", \"2020-11-11T00:00:00\", \"2020-11-12T00:00:00\", \"2020-11-13T00:00:00\", \"2020-11-14T00:00:00\", \"2020-11-15T00:00:00\", \"2020-11-16T00:00:00\", \"2020-11-17T00:00:00\", \"2020-11-18T00:00:00\", \"2020-11-19T00:00:00\", \"2020-11-20T00:00:00\", \"2020-11-21T00:00:00\", \"2020-11-22T00:00:00\", \"2020-11-23T00:00:00\", \"2020-11-24T00:00:00\", \"2020-11-25T00:00:00\", \"2020-11-26T00:00:00\", \"2020-11-27T00:00:00\", \"2020-11-28T00:00:00\", \"2020-11-29T00:00:00\", \"2020-11-30T00:00:00\", \"2020-12-01T00:00:00\", \"2020-12-02T00:00:00\", \"2020-12-03T00:00:00\", \"2020-12-04T00:00:00\", \"2020-12-05T00:00:00\", \"2020-12-06T00:00:00\", \"2020-12-07T00:00:00\", \"2020-12-08T00:00:00\", \"2020-12-09T00:00:00\", \"2020-12-10T00:00:00\", \"2020-12-11T00:00:00\", \"2020-12-12T00:00:00\", \"2020-12-13T00:00:00\", \"2020-12-14T00:00:00\", \"2020-12-15T00:00:00\", \"2020-12-16T00:00:00\", \"2020-12-17T00:00:00\", \"2020-12-18T00:00:00\", \"2020-12-19T00:00:00\", \"2020-12-20T00:00:00\", \"2020-12-21T00:00:00\", \"2020-12-22T00:00:00\", \"2020-12-23T00:00:00\", \"2020-12-24T00:00:00\", \"2020-12-25T00:00:00\", \"2020-12-26T00:00:00\", \"2020-12-27T00:00:00\", \"2020-12-28T00:00:00\"], \"xaxis\": \"x2\", \"y\": [111.83321624344269, 56.399711023509276, 17.54325409031585, 98.74861394690589, 30.15172394576805, 64.74231043938035, 115.35635743089118, 55.22989755473393, 29.22695104239352, 12.216897886114623, -68.01902927863014, -96.65600157026249, -26.84561032415057, 103.44197886013501, 50.21615144742253, -22.299362465225848, 1.732781505947933, -63.73097298049459, -71.02115128784105, 84.42287133840539, 128.8710493857111, 11.917351064324672, -64.8515923402481, -61.06351519471493, 22.816819516966714, -1.5884804770598018, 21.208274370384462, 54.24809648742279, -79.67052607998265, -33.77943413235474, -53.05368975938587, -87.17360426598576, -43.11317614001991, -1.8716751881549614, 72.46965827563645, -87.91880648429976, -15.005874919105871, -32.319647141967685, -53.54704180885981, -24.083384364915883, 41.85863253881767, 37.4739741694125, 14.746600959913323, -54.01498734036016, -45.75750212484557, -96.54855884152482, -85.25801091291079, -16.21463291317785, 27.07743763677015, -47.750379468701496, -85.48397037349952, -81.08041659761875, -105.69560539267346, -57.171148840350284, -4.919476780403234, -122.4176697306255, -107.49148344627467, -90.08529873898605, -92.693942581683, -107.80102316338022, -77.19358168931389, -43.61458207529946, -147.2176206776167, -143.37898849278986, -91.31937767181826, -167.19800538332603, -143.72027179001287, -80.14515400323967, -80.29224135468091, -179.52827990499787, -146.75248826394065, -118.012781631334, -157.27481290434727, -137.13613593486795, -22.250524695790876, -49.11481276489175, -159.81301848307763, -168.7739972514595, -148.89300141143386, -173.74570383897975, -160.0239954128856, -114.40870525257718, -82.70238537826216, -118.01986796024639, -251.0230676394526, -128.14292005193573, -121.21708378064892, -144.30008594808234, -56.8088585014912, -85.46191129093111, -167.14995038277945, -188.4503318732739, -157.21835587633552, -174.91839060475093, -140.9674679344986, -83.5995016661284, -165.71556862445885, -163.1355821090036, -146.81972995318037, -197.0314165352938, -185.6562831764343, -145.7480260428329, -89.09616305652892, -161.01830637725774, -164.94339131845481, -165.0861626190006, -206.5922055357865, -176.5303878676629, -134.93776027166962, -83.37209706926882, -111.38254159437548, -34.649360963776196, -118.6358829553989, -101.46728589577883, -43.91583916452167, -30.270920292768796, 0.7862841876197691, -75.71566600562883, -118.6584528962926, -109.53802458411351, -132.27145689488154, -133.49059666830237, 73.22260102459946, 167.67518021895225, 142.42957148262266, 112.90836894290939, 136.16850856225867, 88.83840162726985, 94.91905186125824, 137.87946023984114, 186.88637353156741, 136.3758826523674, 101.70537872592529, 96.6661004952248, 81.089898188915, 92.4494150309118, 135.09983693112088, 172.43400213363975, 99.99980773276262, 105.68780581575047, 126.33736384135814, 95.74723184258835, 61.33859375118394, 126.30704050548965, 231.27571681713357, 155.99881358026582, 93.63762258140906, 121.14165027131705, 112.96613532575712, 73.19218057237535, 117.66933071073419, 204.54433195861705, 115.59026785524391, 58.72078837148787, 90.07063961606335, 55.92896415722995, 73.33831961817789, 116.62437966459467, 155.07531070027264, 104.82647888857791, 65.73807042554887, 74.77002180501059, 58.68042755204419, 88.01799596656234, 130.7032074198602, 165.0601346268166, 129.78149073205836, 107.19385559138337, 109.0281196082775, 75.87412877310342, 105.60967338233804, 128.6103843435927, 169.63529504336486, 132.9920897922736, 93.9800125680864, 75.37747178898654, 78.95097622575854, 87.68569516893497, 200.54031869531102, 194.95642619366026, 152.98376541733137, 119.20624186917595, 107.31253206074797, 90.09096555122005, 118.87762956877609, 167.32468874249687, 160.55795760254307, 75.05531440613825, -9.917887009114922, 170.77768171225793, 135.5301610693559, 141.45186507347543, 136.20388282232224, 138.92202309577476, 117.52379922936741, 105.82528130189087, 101.0292588125248, 92.32247188452216, 100.00863604867702, 107.38332810724489, 105.57478369401787, 170.18402317978456, 234.44118989931107, 282.74448444292375, 153.8555165915221, 132.19733673523734, 122.4094084706405, 121.33007593031144, 93.87440054329393, 114.90149774726092, 98.60679291954874, 80.5703535731245, 110.92243840269245, 145.82688966632733, 138.89616135603737, 107.41664360118928, 124.22169999544303, 116.30817910049691, 112.46694118117446, 201.35735158159372, 164.08964475190504, 142.39341939170674, 121.53485059201246, 126.03595603263501, 116.14366160427319, 136.17011510122097, 210.58465694806603, 173.19245299849018, 134.14581836370715, 152.36484522800757, 144.23072021787297, 136.03932878525816, 138.0446356677962, 179.53753913906374, 186.31399422034582, 152.5737047185968, 156.04168862752627, 173.99423056850804, 191.5076942355917, 132.2000118933534, 147.3254455666195, 163.70344425673957, 158.65385653795013, 165.27685130276515, 105.86426079971976, 158.6768389605654, 153.0897886144861, 190.78534224839206, 150.11580455145958, 144.15821844911673, 160.67646529409018, 148.75459557175614, 119.17629208592729, 153.816872543468, 195.8866021492604, 176.688296603032, 152.68530680007328, 159.95755267922752, 157.16114282962462, 151.84521195134366, 158.44249890082537, 211.6264592972041, 238.73589828737613, 170.49369682856553, 113.89270412216113, 139.0927893006924, 40.39698993563401, 157.69365060023662, 235.87575965076792, 340.0211177554716, 294.83048974149926, 200.34097445708667, 223.70510325625338, 250.7864275739533, 181.3981287820529, 203.83468916794354, 236.34628720674604, 186.04866267906044, 158.0292217566037, 167.10695453433016, 130.2469884484831, 148.90965029915307, 360.1136615518837, 223.73448163648365, 82.2008181874289, 102.7336271029853, 94.17087125058262, 60.801758970920645, 290.9076002220811, 238.26450458981208, 258.82655918179114, 131.93292572423456, 151.50674643124557, 181.38467020871636, 170.4238300718604, 181.09382436370282, 263.4352764886762, 258.6438430820909, 182.22056764014442, 186.4718526914074], \"yaxis\": \"y2\"}, {\"line\": {\"color\": \"#0072B2\", \"width\": 2}, \"mode\": \"lines\", \"name\": \"weekly\", \"type\": \"scatter\", \"x\": [\"2017-01-01T00:00:00\", \"2017-01-02T00:00:00\", \"2017-01-03T00:00:00\", \"2017-01-04T00:00:00\", \"2017-01-05T00:00:00\", \"2017-01-06T00:00:00\", \"2017-01-07T00:00:00\"], \"xaxis\": \"x3\", \"y\": [-77.68978155003218, 3.0850652326027816, 17.871622342109426, 31.80910959006273, 36.62122341977839, 28.922233001566397, -40.61947203607257], \"yaxis\": \"y3\"}],\n",
              "                        {\"height\": 600, \"showlegend\": false, \"template\": {\"data\": {\"bar\": [{\"error_x\": {\"color\": \"#2a3f5f\"}, \"error_y\": {\"color\": \"#2a3f5f\"}, \"marker\": {\"line\": {\"color\": \"#E5ECF6\", \"width\": 0.5}}, \"type\": \"bar\"}], \"barpolar\": [{\"marker\": {\"line\": {\"color\": \"#E5ECF6\", \"width\": 0.5}}, \"type\": \"barpolar\"}], \"carpet\": [{\"aaxis\": {\"endlinecolor\": \"#2a3f5f\", \"gridcolor\": \"white\", \"linecolor\": \"white\", \"minorgridcolor\": \"white\", \"startlinecolor\": \"#2a3f5f\"}, \"baxis\": {\"endlinecolor\": \"#2a3f5f\", \"gridcolor\": \"white\", \"linecolor\": \"white\", \"minorgridcolor\": \"white\", \"startlinecolor\": \"#2a3f5f\"}, \"type\": \"carpet\"}], \"choropleth\": [{\"colorbar\": {\"outlinewidth\": 0, \"ticks\": \"\"}, \"type\": \"choropleth\"}], \"contour\": [{\"colorbar\": {\"outlinewidth\": 0, \"ticks\": \"\"}, \"colorscale\": [[0.0, \"#0d0887\"], [0.1111111111111111, \"#46039f\"], [0.2222222222222222, \"#7201a8\"], [0.3333333333333333, \"#9c179e\"], [0.4444444444444444, \"#bd3786\"], [0.5555555555555556, \"#d8576b\"], [0.6666666666666666, \"#ed7953\"], [0.7777777777777778, \"#fb9f3a\"], [0.8888888888888888, \"#fdca26\"], [1.0, \"#f0f921\"]], \"type\": \"contour\"}], \"contourcarpet\": [{\"colorbar\": {\"outlinewidth\": 0, \"ticks\": \"\"}, \"type\": \"contourcarpet\"}], \"heatmap\": [{\"colorbar\": {\"outlinewidth\": 0, \"ticks\": \"\"}, \"colorscale\": [[0.0, \"#0d0887\"], [0.1111111111111111, \"#46039f\"], [0.2222222222222222, \"#7201a8\"], [0.3333333333333333, \"#9c179e\"], [0.4444444444444444, \"#bd3786\"], [0.5555555555555556, \"#d8576b\"], [0.6666666666666666, \"#ed7953\"], [0.7777777777777778, \"#fb9f3a\"], [0.8888888888888888, \"#fdca26\"], [1.0, \"#f0f921\"]], \"type\": \"heatmap\"}], \"heatmapgl\": [{\"colorbar\": {\"outlinewidth\": 0, \"ticks\": \"\"}, \"colorscale\": [[0.0, \"#0d0887\"], [0.1111111111111111, \"#46039f\"], [0.2222222222222222, \"#7201a8\"], [0.3333333333333333, \"#9c179e\"], [0.4444444444444444, \"#bd3786\"], [0.5555555555555556, \"#d8576b\"], [0.6666666666666666, \"#ed7953\"], [0.7777777777777778, \"#fb9f3a\"], [0.8888888888888888, \"#fdca26\"], [1.0, \"#f0f921\"]], \"type\": \"heatmapgl\"}], \"histogram\": [{\"marker\": {\"colorbar\": {\"outlinewidth\": 0, \"ticks\": \"\"}}, \"type\": \"histogram\"}], \"histogram2d\": [{\"colorbar\": {\"outlinewidth\": 0, \"ticks\": \"\"}, \"colorscale\": [[0.0, \"#0d0887\"], [0.1111111111111111, \"#46039f\"], [0.2222222222222222, \"#7201a8\"], [0.3333333333333333, \"#9c179e\"], [0.4444444444444444, \"#bd3786\"], [0.5555555555555556, \"#d8576b\"], [0.6666666666666666, \"#ed7953\"], [0.7777777777777778, \"#fb9f3a\"], [0.8888888888888888, \"#fdca26\"], [1.0, \"#f0f921\"]], \"type\": \"histogram2d\"}], \"histogram2dcontour\": [{\"colorbar\": {\"outlinewidth\": 0, \"ticks\": \"\"}, \"colorscale\": [[0.0, \"#0d0887\"], [0.1111111111111111, \"#46039f\"], [0.2222222222222222, \"#7201a8\"], [0.3333333333333333, \"#9c179e\"], [0.4444444444444444, \"#bd3786\"], [0.5555555555555556, \"#d8576b\"], [0.6666666666666666, \"#ed7953\"], [0.7777777777777778, \"#fb9f3a\"], [0.8888888888888888, \"#fdca26\"], [1.0, \"#f0f921\"]], \"type\": \"histogram2dcontour\"}], \"mesh3d\": [{\"colorbar\": {\"outlinewidth\": 0, \"ticks\": \"\"}, \"type\": \"mesh3d\"}], \"parcoords\": [{\"line\": {\"colorbar\": {\"outlinewidth\": 0, \"ticks\": \"\"}}, \"type\": \"parcoords\"}], \"pie\": [{\"automargin\": true, \"type\": \"pie\"}], \"scatter\": [{\"marker\": {\"colorbar\": {\"outlinewidth\": 0, \"ticks\": \"\"}}, \"type\": \"scatter\"}], \"scatter3d\": [{\"line\": {\"colorbar\": {\"outlinewidth\": 0, \"ticks\": \"\"}}, \"marker\": {\"colorbar\": {\"outlinewidth\": 0, \"ticks\": \"\"}}, \"type\": \"scatter3d\"}], \"scattercarpet\": [{\"marker\": {\"colorbar\": {\"outlinewidth\": 0, \"ticks\": \"\"}}, \"type\": \"scattercarpet\"}], \"scattergeo\": [{\"marker\": {\"colorbar\": {\"outlinewidth\": 0, \"ticks\": \"\"}}, \"type\": \"scattergeo\"}], \"scattergl\": [{\"marker\": {\"colorbar\": {\"outlinewidth\": 0, \"ticks\": \"\"}}, \"type\": \"scattergl\"}], \"scattermapbox\": [{\"marker\": {\"colorbar\": {\"outlinewidth\": 0, \"ticks\": \"\"}}, \"type\": \"scattermapbox\"}], \"scatterpolar\": [{\"marker\": {\"colorbar\": {\"outlinewidth\": 0, \"ticks\": \"\"}}, \"type\": \"scatterpolar\"}], \"scatterpolargl\": [{\"marker\": {\"colorbar\": {\"outlinewidth\": 0, \"ticks\": \"\"}}, \"type\": \"scatterpolargl\"}], \"scatterternary\": [{\"marker\": {\"colorbar\": {\"outlinewidth\": 0, \"ticks\": \"\"}}, \"type\": \"scatterternary\"}], \"surface\": [{\"colorbar\": {\"outlinewidth\": 0, \"ticks\": \"\"}, \"colorscale\": [[0.0, \"#0d0887\"], [0.1111111111111111, \"#46039f\"], [0.2222222222222222, \"#7201a8\"], [0.3333333333333333, \"#9c179e\"], [0.4444444444444444, \"#bd3786\"], [0.5555555555555556, \"#d8576b\"], [0.6666666666666666, \"#ed7953\"], [0.7777777777777778, \"#fb9f3a\"], [0.8888888888888888, \"#fdca26\"], [1.0, \"#f0f921\"]], \"type\": \"surface\"}], \"table\": [{\"cells\": {\"fill\": {\"color\": \"#EBF0F8\"}, \"line\": {\"color\": \"white\"}}, \"header\": {\"fill\": {\"color\": \"#C8D4E3\"}, \"line\": {\"color\": \"white\"}}, \"type\": \"table\"}]}, \"layout\": {\"annotationdefaults\": {\"arrowcolor\": \"#2a3f5f\", \"arrowhead\": 0, \"arrowwidth\": 1}, \"coloraxis\": {\"colorbar\": {\"outlinewidth\": 0, \"ticks\": \"\"}}, \"colorscale\": {\"diverging\": [[0, \"#8e0152\"], [0.1, \"#c51b7d\"], [0.2, \"#de77ae\"], [0.3, \"#f1b6da\"], [0.4, \"#fde0ef\"], [0.5, \"#f7f7f7\"], [0.6, \"#e6f5d0\"], [0.7, \"#b8e186\"], [0.8, \"#7fbc41\"], [0.9, \"#4d9221\"], [1, \"#276419\"]], \"sequential\": [[0.0, \"#0d0887\"], [0.1111111111111111, \"#46039f\"], [0.2222222222222222, \"#7201a8\"], [0.3333333333333333, \"#9c179e\"], [0.4444444444444444, \"#bd3786\"], [0.5555555555555556, \"#d8576b\"], [0.6666666666666666, \"#ed7953\"], [0.7777777777777778, \"#fb9f3a\"], [0.8888888888888888, \"#fdca26\"], [1.0, \"#f0f921\"]], \"sequentialminus\": [[0.0, \"#0d0887\"], [0.1111111111111111, \"#46039f\"], [0.2222222222222222, \"#7201a8\"], [0.3333333333333333, \"#9c179e\"], [0.4444444444444444, \"#bd3786\"], [0.5555555555555556, \"#d8576b\"], [0.6666666666666666, \"#ed7953\"], [0.7777777777777778, \"#fb9f3a\"], [0.8888888888888888, \"#fdca26\"], [1.0, \"#f0f921\"]]}, \"colorway\": [\"#636efa\", \"#EF553B\", \"#00cc96\", \"#ab63fa\", \"#FFA15A\", \"#19d3f3\", \"#FF6692\", \"#B6E880\", \"#FF97FF\", \"#FECB52\"], \"font\": {\"color\": \"#2a3f5f\"}, \"geo\": {\"bgcolor\": \"white\", \"lakecolor\": \"white\", \"landcolor\": \"#E5ECF6\", \"showlakes\": true, \"showland\": true, \"subunitcolor\": \"white\"}, \"hoverlabel\": {\"align\": \"left\"}, \"hovermode\": \"closest\", \"mapbox\": {\"style\": \"light\"}, \"paper_bgcolor\": \"white\", \"plot_bgcolor\": \"#E5ECF6\", \"polar\": {\"angularaxis\": {\"gridcolor\": \"white\", \"linecolor\": \"white\", \"ticks\": \"\"}, \"bgcolor\": \"#E5ECF6\", \"radialaxis\": {\"gridcolor\": \"white\", \"linecolor\": \"white\", \"ticks\": \"\"}}, \"scene\": {\"xaxis\": {\"backgroundcolor\": \"#E5ECF6\", \"gridcolor\": \"white\", \"gridwidth\": 2, \"linecolor\": \"white\", \"showbackground\": true, \"ticks\": \"\", \"zerolinecolor\": \"white\"}, \"yaxis\": {\"backgroundcolor\": \"#E5ECF6\", \"gridcolor\": \"white\", \"gridwidth\": 2, \"linecolor\": \"white\", \"showbackground\": true, \"ticks\": \"\", \"zerolinecolor\": \"white\"}, \"zaxis\": {\"backgroundcolor\": \"#E5ECF6\", \"gridcolor\": \"white\", \"gridwidth\": 2, \"linecolor\": \"white\", \"showbackground\": true, \"ticks\": \"\", \"zerolinecolor\": \"white\"}}, \"shapedefaults\": {\"line\": {\"color\": \"#2a3f5f\"}}, \"ternary\": {\"aaxis\": {\"gridcolor\": \"white\", \"linecolor\": \"white\", \"ticks\": \"\"}, \"baxis\": {\"gridcolor\": \"white\", \"linecolor\": \"white\", \"ticks\": \"\"}, \"bgcolor\": \"#E5ECF6\", \"caxis\": {\"gridcolor\": \"white\", \"linecolor\": \"white\", \"ticks\": \"\"}}, \"title\": {\"x\": 0.05}, \"xaxis\": {\"automargin\": true, \"gridcolor\": \"white\", \"linecolor\": \"white\", \"ticks\": \"\", \"title\": {\"standoff\": 15}, \"zerolinecolor\": \"white\", \"zerolinewidth\": 2}, \"yaxis\": {\"automargin\": true, \"gridcolor\": \"white\", \"linecolor\": \"white\", \"ticks\": \"\", \"title\": {\"standoff\": 15}, \"zerolinecolor\": \"white\", \"zerolinewidth\": 2}}}, \"width\": 900, \"xaxis\": {\"anchor\": \"y\", \"domain\": [0.0, 1.0], \"range\": [\"2020-02-14T21:36:00\", \"2021-01-12T02:24:00\"], \"type\": \"date\"}, \"xaxis2\": {\"anchor\": \"y2\", \"domain\": [0.0, 1.0], \"range\": [\"2020-02-14T21:36:00\", \"2021-01-12T02:24:00\"], \"type\": \"date\"}, \"xaxis3\": {\"anchor\": \"y3\", \"domain\": [0.0, 1.0], \"range\": [\"2016-12-31T16:48:00\", \"2017-01-07T07:12:00\"], \"tickformat\": \"%A\", \"type\": \"date\"}, \"yaxis\": {\"anchor\": \"x\", \"domain\": [0.7333333333333333, 1.0], \"rangemode\": \"normal\", \"title\": {\"text\": \"trend\"}, \"zerolinecolor\": \"#AAA\"}, \"yaxis2\": {\"anchor\": \"x2\", \"domain\": [0.36666666666666664, 0.6333333333333333], \"rangemode\": \"tozero\", \"title\": {\"text\": \"extra_regressors_additive\"}, \"zerolinecolor\": \"#AAA\"}, \"yaxis3\": {\"anchor\": \"x3\", \"domain\": [0.0, 0.26666666666666666], \"title\": {\"text\": \"weekly\"}, \"zerolinecolor\": \"#AAA\"}},\n",
              "                        {\"responsive\": true}\n",
              "                    ).then(function(){\n",
              "                            \n",
              "var gd = document.getElementById('ff3db70f-cf5c-432d-82bd-79fcd49e0196');\n",
              "var x = new MutationObserver(function (mutations, observer) {{\n",
              "        var display = window.getComputedStyle(gd).display;\n",
              "        if (!display || display === 'none') {{\n",
              "            console.log([gd, 'removed!']);\n",
              "            Plotly.purge(gd);\n",
              "            observer.disconnect();\n",
              "        }}\n",
              "}});\n",
              "\n",
              "// Listen for the removal of the full notebook cells\n",
              "var notebookContainer = gd.closest('#notebook-container');\n",
              "if (notebookContainer) {{\n",
              "    x.observe(notebookContainer, {childList: true});\n",
              "}}\n",
              "\n",
              "// Listen for the clearing of the current output cell\n",
              "var outputEl = gd.closest('.output');\n",
              "if (outputEl) {{\n",
              "    x.observe(outputEl, {childList: true});\n",
              "}}\n",
              "\n",
              "                        })\n",
              "                };\n",
              "                \n",
              "            </script>\n",
              "        </div>\n",
              "</body>\n",
              "</html>"
            ]
          },
          "metadata": {
            "tags": []
          }
        }
      ]
    },
    {
      "cell_type": "code",
      "metadata": {
        "id": "23ZEozYOJ3PY",
        "colab": {
          "base_uri": "https://localhost:8080/",
          "height": 617
        },
        "outputId": "3c5d53d9-1758-4b6e-fe1b-93dd2b4395f0"
      },
      "source": [
        "plot_plotly(m, forecast)"
      ],
      "execution_count": 27,
      "outputs": [
        {
          "output_type": "display_data",
          "data": {
            "text/html": [
              "<html>\n",
              "<head><meta charset=\"utf-8\" /></head>\n",
              "<body>\n",
              "    <div>\n",
              "            <script src=\"https://cdnjs.cloudflare.com/ajax/libs/mathjax/2.7.5/MathJax.js?config=TeX-AMS-MML_SVG\"></script><script type=\"text/javascript\">if (window.MathJax) {MathJax.Hub.Config({SVG: {font: \"STIX-Web\"}});}</script>\n",
              "                <script type=\"text/javascript\">window.PlotlyConfig = {MathJaxConfig: 'local'};</script>\n",
              "        <script src=\"https://cdn.plot.ly/plotly-latest.min.js\"></script>    \n",
              "            <div id=\"a83d761c-6282-4c96-bfdc-4e3e2aa6a92c\" class=\"plotly-graph-div\" style=\"height:600px; width:900px;\"></div>\n",
              "            <script type=\"text/javascript\">\n",
              "                \n",
              "                    window.PLOTLYENV=window.PLOTLYENV || {};\n",
              "                    \n",
              "                if (document.getElementById(\"a83d761c-6282-4c96-bfdc-4e3e2aa6a92c\")) {\n",
              "                    Plotly.newPlot(\n",
              "                        'a83d761c-6282-4c96-bfdc-4e3e2aa6a92c',\n",
              "                        [{\"marker\": {\"color\": \"black\", \"size\": 4}, \"mode\": \"markers\", \"name\": \"Actual\", \"type\": \"scatter\", \"x\": [\"2020-03-01T00:00:00\", \"2020-03-02T00:00:00\", \"2020-03-03T00:00:00\", \"2020-03-04T00:00:00\", \"2020-03-05T00:00:00\", \"2020-03-06T00:00:00\", \"2020-03-07T00:00:00\", \"2020-03-08T00:00:00\", \"2020-03-09T00:00:00\", \"2020-03-10T00:00:00\", \"2020-03-11T00:00:00\", \"2020-03-12T00:00:00\", \"2020-03-13T00:00:00\", \"2020-03-14T00:00:00\", \"2020-03-15T00:00:00\", \"2020-03-16T00:00:00\", \"2020-03-17T00:00:00\", \"2020-03-18T00:00:00\", \"2020-03-19T00:00:00\", \"2020-03-20T00:00:00\", \"2020-03-21T00:00:00\", \"2020-03-22T00:00:00\", \"2020-03-23T00:00:00\", \"2020-03-24T00:00:00\", \"2020-03-25T00:00:00\", \"2020-03-26T00:00:00\", \"2020-03-27T00:00:00\", \"2020-03-28T00:00:00\", \"2020-03-29T00:00:00\", \"2020-03-30T00:00:00\", \"2020-03-31T00:00:00\", \"2020-04-01T00:00:00\", \"2020-04-02T00:00:00\", \"2020-04-03T00:00:00\", \"2020-04-04T00:00:00\", \"2020-04-05T00:00:00\", \"2020-04-06T00:00:00\", \"2020-04-07T00:00:00\", \"2020-04-08T00:00:00\", \"2020-04-09T00:00:00\", \"2020-04-10T00:00:00\", \"2020-04-11T00:00:00\", \"2020-04-12T00:00:00\", \"2020-04-13T00:00:00\", \"2020-04-14T00:00:00\", \"2020-04-15T00:00:00\", \"2020-04-16T00:00:00\", \"2020-04-17T00:00:00\", \"2020-04-18T00:00:00\", \"2020-04-19T00:00:00\", \"2020-04-21T00:00:00\", \"2020-04-22T00:00:00\", \"2020-04-23T00:00:00\", \"2020-04-24T00:00:00\", \"2020-04-25T00:00:00\", \"2020-04-26T00:00:00\", \"2020-04-27T00:00:00\", \"2020-04-28T00:00:00\", \"2020-04-29T00:00:00\", \"2020-04-30T00:00:00\", \"2020-05-01T00:00:00\", \"2020-05-02T00:00:00\", \"2020-05-03T00:00:00\", \"2020-05-04T00:00:00\", \"2020-05-05T00:00:00\", \"2020-05-06T00:00:00\", \"2020-05-07T00:00:00\", \"2020-05-08T00:00:00\", \"2020-05-09T00:00:00\", \"2020-05-10T00:00:00\", \"2020-05-11T00:00:00\", \"2020-05-12T00:00:00\", \"2020-05-13T00:00:00\", \"2020-05-14T00:00:00\", \"2020-05-15T00:00:00\", \"2020-05-16T00:00:00\", \"2020-05-17T00:00:00\", \"2020-05-18T00:00:00\", \"2020-05-19T00:00:00\", \"2020-05-20T00:00:00\", \"2020-05-21T00:00:00\", \"2020-05-22T00:00:00\", \"2020-05-23T00:00:00\", \"2020-05-24T00:00:00\", \"2020-05-25T00:00:00\", \"2020-05-26T00:00:00\", \"2020-05-27T00:00:00\", \"2020-05-28T00:00:00\", \"2020-05-30T00:00:00\", \"2020-05-31T00:00:00\", \"2020-06-01T00:00:00\", \"2020-06-02T00:00:00\", \"2020-06-03T00:00:00\", \"2020-06-04T00:00:00\", \"2020-06-05T00:00:00\", \"2020-06-06T00:00:00\", \"2020-06-07T00:00:00\", \"2020-06-08T00:00:00\", \"2020-06-09T00:00:00\", \"2020-06-10T00:00:00\", \"2020-06-11T00:00:00\", \"2020-06-12T00:00:00\", \"2020-06-13T00:00:00\", \"2020-06-14T00:00:00\", \"2020-06-15T00:00:00\", \"2020-06-16T00:00:00\", \"2020-06-17T00:00:00\", \"2020-06-18T00:00:00\", \"2020-06-19T00:00:00\", \"2020-06-20T00:00:00\", \"2020-06-21T00:00:00\", \"2020-06-22T00:00:00\", \"2020-06-23T00:00:00\", \"2020-06-24T00:00:00\", \"2020-06-25T00:00:00\", \"2020-06-26T00:00:00\", \"2020-06-27T00:00:00\", \"2020-06-28T00:00:00\", \"2020-06-29T00:00:00\", \"2020-06-30T00:00:00\", \"2020-07-01T00:00:00\", \"2020-07-02T00:00:00\", \"2020-07-03T00:00:00\", \"2020-07-04T00:00:00\", \"2020-07-05T00:00:00\", \"2020-07-06T00:00:00\", \"2020-07-07T00:00:00\", \"2020-07-08T00:00:00\", \"2020-07-09T00:00:00\", \"2020-07-10T00:00:00\", \"2020-07-11T00:00:00\", \"2020-07-12T00:00:00\", \"2020-07-13T00:00:00\", \"2020-07-14T00:00:00\", \"2020-07-15T00:00:00\", \"2020-07-16T00:00:00\", \"2020-07-17T00:00:00\", \"2020-07-18T00:00:00\", \"2020-07-19T00:00:00\", \"2020-07-20T00:00:00\", \"2020-07-21T00:00:00\", \"2020-07-22T00:00:00\", \"2020-07-23T00:00:00\", \"2020-07-24T00:00:00\", \"2020-07-25T00:00:00\", \"2020-07-26T00:00:00\", \"2020-07-27T00:00:00\", \"2020-07-28T00:00:00\", \"2020-07-29T00:00:00\", \"2020-07-30T00:00:00\", \"2020-07-31T00:00:00\", \"2020-08-01T00:00:00\", \"2020-08-02T00:00:00\", \"2020-08-03T00:00:00\", \"2020-08-04T00:00:00\", \"2020-08-05T00:00:00\", \"2020-08-06T00:00:00\", \"2020-08-07T00:00:00\", \"2020-08-08T00:00:00\", \"2020-08-09T00:00:00\", \"2020-08-10T00:00:00\", \"2020-08-11T00:00:00\", \"2020-08-12T00:00:00\", \"2020-08-13T00:00:00\", \"2020-08-14T00:00:00\", \"2020-08-15T00:00:00\", \"2020-08-16T00:00:00\", \"2020-08-17T00:00:00\", \"2020-08-18T00:00:00\", \"2020-08-19T00:00:00\", \"2020-08-20T00:00:00\", \"2020-08-21T00:00:00\", \"2020-08-22T00:00:00\", \"2020-08-23T00:00:00\", \"2020-08-24T00:00:00\", \"2020-08-25T00:00:00\", \"2020-08-26T00:00:00\", \"2020-08-27T00:00:00\", \"2020-08-28T00:00:00\", \"2020-08-29T00:00:00\", \"2020-08-30T00:00:00\", \"2020-08-31T00:00:00\", \"2020-09-01T00:00:00\", \"2020-09-02T00:00:00\", \"2020-09-03T00:00:00\", \"2020-09-04T00:00:00\", \"2020-09-05T00:00:00\", \"2020-09-06T00:00:00\", \"2020-09-07T00:00:00\", \"2020-09-08T00:00:00\", \"2020-09-09T00:00:00\", \"2020-09-10T00:00:00\", \"2020-09-11T00:00:00\", \"2020-09-12T00:00:00\", \"2020-09-13T00:00:00\", \"2020-09-14T00:00:00\", \"2020-09-15T00:00:00\", \"2020-09-16T00:00:00\", \"2020-09-17T00:00:00\", \"2020-09-18T00:00:00\", \"2020-09-19T00:00:00\", \"2020-09-20T00:00:00\", \"2020-09-21T00:00:00\", \"2020-09-22T00:00:00\", \"2020-09-23T00:00:00\", \"2020-09-24T00:00:00\", \"2020-09-25T00:00:00\", \"2020-09-26T00:00:00\", \"2020-09-27T00:00:00\", \"2020-09-28T00:00:00\", \"2020-09-29T00:00:00\", \"2020-09-30T00:00:00\", \"2020-10-01T00:00:00\", \"2020-10-02T00:00:00\", \"2020-10-03T00:00:00\", \"2020-10-04T00:00:00\", \"2020-10-05T00:00:00\", \"2020-10-06T00:00:00\", \"2020-10-07T00:00:00\", \"2020-10-09T00:00:00\", \"2020-10-10T00:00:00\", \"2020-10-11T00:00:00\", \"2020-10-12T00:00:00\", \"2020-10-13T00:00:00\", \"2020-10-14T00:00:00\", \"2020-10-15T00:00:00\", \"2020-10-16T00:00:00\", \"2020-10-17T00:00:00\", \"2020-10-18T00:00:00\", \"2020-10-19T00:00:00\", \"2020-10-20T00:00:00\", \"2020-10-21T00:00:00\", \"2020-10-22T00:00:00\", \"2020-10-23T00:00:00\", \"2020-10-24T00:00:00\", \"2020-10-25T00:00:00\", \"2020-10-26T00:00:00\", \"2020-10-27T00:00:00\", \"2020-10-28T00:00:00\", \"2020-10-29T00:00:00\"], \"y\": [62, 62, 62, 62, 64, 63, 64, 62, 63, 62, 63, 64, 62, 64, 62, 64, 65, 69, 69, 87, 75, 68, 66, 118, 113, 80, 88, 278, 143, 99, 179, 229, 170, 213, 240, 173, 470, 399, 257, 698, 276, 362, 130, 177, 225, 252, 271, 216, 255, 232, 228, 130, 181, 214, 62, 208, 62, 261, 396, 257, 257, 219, 192, 191, 223, 178, 195, 279, 271, 137, 360, 302, 267, 258, 295, 138, 400, 232, 286, 298, 250, 305, 306, 213, 136, 348, 323, 290, 273, 118, 446, 424, 303, 397, 399, 530, 225, 394, 382, 376, 374, 386, 438, 272, 549, 481, 501, 453, 883, 873, 241, 1032, 934, 932, 894, 897, 795, 176, 957, 688, 952, 902, 887, 622, 682, 881, 974, 695, 794, 851, 1029, 950, 1033, 994, 928, 984, 981, 900, 815, 926, 937, 954, 970, 885, 965, 896, 770, 961, 962, 1006, 1044, 1025, 1008, 960, 951, 935, 827, 905, 946, 876, 753, 808, 824, 804, 875, 869, 589, 686, 803, 751, 813, 831, 854, 729, 740, 786, 794, 618, 947, 979, 863, 767, 790, 620, 716, 828, 803, 731, 62, 558, 708, 717, 904, 446, 830, 940, 1067, 487, 778, 758, 759, 588, 1087, 566, 580, 670, 774, 398, 532, 415, 632, 426, 773, 1066, 846, 555, 483, 572, 646, 461, 501, 573, 364, 473, 718, 415, 619, 442, 468, 455, 483, 768, 699, 662, 823, 437, 558, 406, 798, 503]}, {\"hoverinfo\": \"skip\", \"line\": {\"width\": 0}, \"mode\": \"lines\", \"type\": \"scatter\", \"x\": [\"2020-03-01T00:00:00\", \"2020-03-02T00:00:00\", \"2020-03-03T00:00:00\", \"2020-03-04T00:00:00\", \"2020-03-05T00:00:00\", \"2020-03-06T00:00:00\", \"2020-03-07T00:00:00\", \"2020-03-08T00:00:00\", \"2020-03-09T00:00:00\", \"2020-03-10T00:00:00\", \"2020-03-11T00:00:00\", \"2020-03-12T00:00:00\", \"2020-03-13T00:00:00\", \"2020-03-14T00:00:00\", \"2020-03-15T00:00:00\", \"2020-03-16T00:00:00\", \"2020-03-17T00:00:00\", \"2020-03-18T00:00:00\", \"2020-03-19T00:00:00\", \"2020-03-20T00:00:00\", \"2020-03-21T00:00:00\", \"2020-03-22T00:00:00\", \"2020-03-23T00:00:00\", \"2020-03-24T00:00:00\", \"2020-03-25T00:00:00\", \"2020-03-26T00:00:00\", \"2020-03-27T00:00:00\", \"2020-03-28T00:00:00\", \"2020-03-29T00:00:00\", \"2020-03-30T00:00:00\", \"2020-03-31T00:00:00\", \"2020-04-01T00:00:00\", \"2020-04-02T00:00:00\", \"2020-04-03T00:00:00\", \"2020-04-04T00:00:00\", \"2020-04-05T00:00:00\", \"2020-04-06T00:00:00\", \"2020-04-07T00:00:00\", \"2020-04-08T00:00:00\", \"2020-04-09T00:00:00\", \"2020-04-10T00:00:00\", \"2020-04-11T00:00:00\", \"2020-04-12T00:00:00\", \"2020-04-13T00:00:00\", \"2020-04-14T00:00:00\", \"2020-04-15T00:00:00\", \"2020-04-16T00:00:00\", \"2020-04-17T00:00:00\", \"2020-04-18T00:00:00\", \"2020-04-19T00:00:00\", \"2020-04-21T00:00:00\", \"2020-04-22T00:00:00\", \"2020-04-23T00:00:00\", \"2020-04-24T00:00:00\", \"2020-04-25T00:00:00\", \"2020-04-26T00:00:00\", \"2020-04-27T00:00:00\", \"2020-04-28T00:00:00\", \"2020-04-29T00:00:00\", \"2020-04-30T00:00:00\", \"2020-05-01T00:00:00\", \"2020-05-02T00:00:00\", \"2020-05-03T00:00:00\", \"2020-05-04T00:00:00\", \"2020-05-05T00:00:00\", \"2020-05-06T00:00:00\", \"2020-05-07T00:00:00\", \"2020-05-08T00:00:00\", \"2020-05-09T00:00:00\", \"2020-05-10T00:00:00\", \"2020-05-11T00:00:00\", \"2020-05-12T00:00:00\", \"2020-05-13T00:00:00\", \"2020-05-14T00:00:00\", \"2020-05-15T00:00:00\", \"2020-05-16T00:00:00\", \"2020-05-17T00:00:00\", \"2020-05-18T00:00:00\", \"2020-05-19T00:00:00\", \"2020-05-20T00:00:00\", \"2020-05-21T00:00:00\", \"2020-05-22T00:00:00\", \"2020-05-23T00:00:00\", \"2020-05-24T00:00:00\", \"2020-05-25T00:00:00\", \"2020-05-26T00:00:00\", \"2020-05-27T00:00:00\", \"2020-05-28T00:00:00\", \"2020-05-30T00:00:00\", \"2020-05-31T00:00:00\", \"2020-06-01T00:00:00\", \"2020-06-02T00:00:00\", \"2020-06-03T00:00:00\", \"2020-06-04T00:00:00\", \"2020-06-05T00:00:00\", \"2020-06-06T00:00:00\", \"2020-06-07T00:00:00\", \"2020-06-08T00:00:00\", \"2020-06-09T00:00:00\", \"2020-06-10T00:00:00\", \"2020-06-11T00:00:00\", \"2020-06-12T00:00:00\", \"2020-06-13T00:00:00\", \"2020-06-14T00:00:00\", \"2020-06-15T00:00:00\", \"2020-06-16T00:00:00\", \"2020-06-17T00:00:00\", \"2020-06-18T00:00:00\", \"2020-06-19T00:00:00\", \"2020-06-20T00:00:00\", \"2020-06-21T00:00:00\", \"2020-06-22T00:00:00\", \"2020-06-23T00:00:00\", \"2020-06-24T00:00:00\", \"2020-06-25T00:00:00\", \"2020-06-26T00:00:00\", \"2020-06-27T00:00:00\", \"2020-06-28T00:00:00\", \"2020-06-29T00:00:00\", \"2020-06-30T00:00:00\", \"2020-07-01T00:00:00\", \"2020-07-02T00:00:00\", \"2020-07-03T00:00:00\", \"2020-07-04T00:00:00\", \"2020-07-05T00:00:00\", \"2020-07-06T00:00:00\", \"2020-07-07T00:00:00\", \"2020-07-08T00:00:00\", \"2020-07-09T00:00:00\", \"2020-07-10T00:00:00\", \"2020-07-11T00:00:00\", \"2020-07-12T00:00:00\", \"2020-07-13T00:00:00\", \"2020-07-14T00:00:00\", \"2020-07-15T00:00:00\", \"2020-07-16T00:00:00\", \"2020-07-17T00:00:00\", \"2020-07-18T00:00:00\", \"2020-07-19T00:00:00\", \"2020-07-20T00:00:00\", \"2020-07-21T00:00:00\", \"2020-07-22T00:00:00\", \"2020-07-23T00:00:00\", \"2020-07-24T00:00:00\", \"2020-07-25T00:00:00\", \"2020-07-26T00:00:00\", \"2020-07-27T00:00:00\", \"2020-07-28T00:00:00\", \"2020-07-29T00:00:00\", \"2020-07-30T00:00:00\", \"2020-07-31T00:00:00\", \"2020-08-01T00:00:00\", \"2020-08-02T00:00:00\", \"2020-08-03T00:00:00\", \"2020-08-04T00:00:00\", \"2020-08-05T00:00:00\", \"2020-08-06T00:00:00\", \"2020-08-07T00:00:00\", \"2020-08-08T00:00:00\", \"2020-08-09T00:00:00\", \"2020-08-10T00:00:00\", \"2020-08-11T00:00:00\", \"2020-08-12T00:00:00\", \"2020-08-13T00:00:00\", \"2020-08-14T00:00:00\", \"2020-08-15T00:00:00\", \"2020-08-16T00:00:00\", \"2020-08-17T00:00:00\", \"2020-08-18T00:00:00\", \"2020-08-19T00:00:00\", \"2020-08-20T00:00:00\", \"2020-08-21T00:00:00\", \"2020-08-22T00:00:00\", \"2020-08-23T00:00:00\", \"2020-08-24T00:00:00\", \"2020-08-25T00:00:00\", \"2020-08-26T00:00:00\", \"2020-08-27T00:00:00\", \"2020-08-28T00:00:00\", \"2020-08-29T00:00:00\", \"2020-08-30T00:00:00\", \"2020-08-31T00:00:00\", \"2020-09-01T00:00:00\", \"2020-09-02T00:00:00\", \"2020-09-03T00:00:00\", \"2020-09-04T00:00:00\", \"2020-09-05T00:00:00\", \"2020-09-06T00:00:00\", \"2020-09-07T00:00:00\", \"2020-09-08T00:00:00\", \"2020-09-09T00:00:00\", \"2020-09-10T00:00:00\", \"2020-09-11T00:00:00\", \"2020-09-12T00:00:00\", \"2020-09-13T00:00:00\", \"2020-09-14T00:00:00\", \"2020-09-15T00:00:00\", \"2020-09-16T00:00:00\", \"2020-09-17T00:00:00\", \"2020-09-18T00:00:00\", \"2020-09-19T00:00:00\", \"2020-09-20T00:00:00\", \"2020-09-21T00:00:00\", \"2020-09-22T00:00:00\", \"2020-09-23T00:00:00\", \"2020-09-24T00:00:00\", \"2020-09-25T00:00:00\", \"2020-09-26T00:00:00\", \"2020-09-27T00:00:00\", \"2020-09-28T00:00:00\", \"2020-09-29T00:00:00\", \"2020-09-30T00:00:00\", \"2020-10-01T00:00:00\", \"2020-10-02T00:00:00\", \"2020-10-03T00:00:00\", \"2020-10-04T00:00:00\", \"2020-10-05T00:00:00\", \"2020-10-06T00:00:00\", \"2020-10-07T00:00:00\", \"2020-10-09T00:00:00\", \"2020-10-10T00:00:00\", \"2020-10-11T00:00:00\", \"2020-10-12T00:00:00\", \"2020-10-13T00:00:00\", \"2020-10-14T00:00:00\", \"2020-10-15T00:00:00\", \"2020-10-16T00:00:00\", \"2020-10-17T00:00:00\", \"2020-10-18T00:00:00\", \"2020-10-19T00:00:00\", \"2020-10-20T00:00:00\", \"2020-10-21T00:00:00\", \"2020-10-22T00:00:00\", \"2020-10-23T00:00:00\", \"2020-10-24T00:00:00\", \"2020-10-25T00:00:00\", \"2020-10-26T00:00:00\", \"2020-10-27T00:00:00\", \"2020-10-28T00:00:00\", \"2020-10-29T00:00:00\", \"2020-10-30T00:00:00\", \"2020-10-31T00:00:00\", \"2020-11-01T00:00:00\", \"2020-11-02T00:00:00\", \"2020-11-03T00:00:00\", \"2020-11-04T00:00:00\", \"2020-11-05T00:00:00\", \"2020-11-06T00:00:00\", \"2020-11-07T00:00:00\", \"2020-11-08T00:00:00\", \"2020-11-09T00:00:00\", \"2020-11-10T00:00:00\", \"2020-11-11T00:00:00\", \"2020-11-12T00:00:00\", \"2020-11-13T00:00:00\", \"2020-11-14T00:00:00\", \"2020-11-15T00:00:00\", \"2020-11-16T00:00:00\", \"2020-11-17T00:00:00\", \"2020-11-18T00:00:00\", \"2020-11-19T00:00:00\", \"2020-11-20T00:00:00\", \"2020-11-21T00:00:00\", \"2020-11-22T00:00:00\", \"2020-11-23T00:00:00\", \"2020-11-24T00:00:00\", \"2020-11-25T00:00:00\", \"2020-11-26T00:00:00\", \"2020-11-27T00:00:00\", \"2020-11-28T00:00:00\", \"2020-11-29T00:00:00\", \"2020-11-30T00:00:00\", \"2020-12-01T00:00:00\", \"2020-12-02T00:00:00\", \"2020-12-03T00:00:00\", \"2020-12-04T00:00:00\", \"2020-12-05T00:00:00\", \"2020-12-06T00:00:00\", \"2020-12-07T00:00:00\", \"2020-12-08T00:00:00\", \"2020-12-09T00:00:00\", \"2020-12-10T00:00:00\", \"2020-12-11T00:00:00\", \"2020-12-12T00:00:00\", \"2020-12-13T00:00:00\", \"2020-12-14T00:00:00\", \"2020-12-15T00:00:00\", \"2020-12-16T00:00:00\", \"2020-12-17T00:00:00\", \"2020-12-18T00:00:00\", \"2020-12-19T00:00:00\", \"2020-12-20T00:00:00\", \"2020-12-21T00:00:00\", \"2020-12-22T00:00:00\", \"2020-12-23T00:00:00\", \"2020-12-24T00:00:00\", \"2020-12-25T00:00:00\", \"2020-12-26T00:00:00\", \"2020-12-27T00:00:00\", \"2020-12-28T00:00:00\"], \"y\": [-136.41281635935354, -103.85580215372941, -123.17216662529718, -36.57055264011874, -91.12104877422604, -58.63513381384842, -58.55839145185628, -153.59302297760246, -94.37659070680404, -88.46920678460245, -142.24620557853964, -177.9282473998034, -90.36311637175439, -35.89298924618555, -115.98987348912783, -124.73965112859754, -62.6816118799409, -112.5972356237726, -115.2126869824906, 38.08511851619228, 26.852001898576397, -119.06267068722663, -116.5595228461199, -92.13497567273768, 7.210146830281598, 9.758664479701197, 30.363758696349997, -5.9643275082418485, -168.90353947295145, -34.91222718347238, -48.9692199559258, -30.227780565967674, 10.904533807879151, 60.309454696720024, 51.15071312859265, -134.935244566971, 26.945781034777557, 16.296128730625824, 35.71395564687327, 52.17531918545984, 131.44068280979494, 71.47381796578945, 1.7511910404374755, 25.74011552229915, 57.30872176164196, 32.0586563693971, 50.72332132634502, 110.60813805716347, 96.37496810644417, -3.0728314127106406, 45.19391691543627, 84.75414909709676, 54.96941806514796, 107.65900814999797, 109.48021998815275, -38.71923562097532, 47.75296202233752, 101.19497120877199, 110.14788796119805, 111.4225620227767, 136.3647598430494, 114.90602293592517, -20.602989944374887, 54.11714289497763, 128.94146501574247, 83.6314829737605, 104.23769429138441, 186.5198371664716, 102.6470194721199, -25.315352976951154, 98.71779265894698, 151.28021322077217, 131.65472096875857, 158.78622593277197, 273.6897199783409, 173.04110060206494, 37.16232540832044, 130.349846286989, 153.87263504957505, 144.3866641574883, 179.91730329116598, 234.09498387609403, 189.62540433609692, 136.71846276376382, 78.86971955643229, 217.90194425413435, 260.281135011118, 245.8386576231009, 270.6739982687987, 199.94616082429403, 209.03410509583898, 212.39406996646332, 250.51849460799605, 251.78825320392582, 281.02642789384214, 258.0765401054654, 150.9988887904651, 231.65678585043972, 273.0896662183462, 252.81737382654467, 287.3336232894527, 318.6797413448613, 315.7937832887909, 210.3748831410193, 288.45505535100415, 297.9994283425779, 286.3069972598988, 323.68868347493003, 364.7484279314939, 355.00513435026136, 298.6014102476689, 460.3598163146329, 402.1814885209649, 427.8149800540694, 510.8319474729401, 503.4001745660848, 492.1918180271737, 383.11898993416685, 419.71732975016135, 459.86316960084866, 450.89709149047576, 450.0725564668233, 659.3000873267765, 691.8279719869781, 623.2220560356863, 677.1710564387909, 714.9636661452686, 692.4310381618945, 704.1814564149738, 743.5122101263867, 719.6602453767512, 636.9042623887061, 680.3175339037824, 706.8086973163183, 696.8260348737068, 718.0636743936496, 748.9346817008269, 726.3861520235828, 608.959856926329, 705.6467706091072, 742.5783242942837, 722.1525380620983, 704.8935081482641, 746.7857525615959, 782.142193527703, 690.7099752230288, 693.822957454682, 730.487085740742, 726.575886515256, 693.000168425605, 727.6851825798789, 745.742777489283, 618.0935958824408, 633.5535241632397, 670.4693552703566, 649.650882279421, 681.6883125225177, 697.0427458279142, 679.1259427920681, 583.7957432290941, 619.3034023902545, 633.3202145095497, 614.3185991038828, 663.6003079690423, 688.0445435451071, 644.2441808490337, 573.567247556744, 637.6763931226913, 636.9008314821488, 620.6792837009923, 644.3323720496196, 667.1840626309137, 613.7027950931615, 554.4614831239363, 584.3852629251977, 579.4271644042581, 583.6481187426361, 603.8108487800034, 710.1097576410923, 610.9925224334779, 533.1522800454302, 578.598523613038, 582.1323544353334, 560.6692746227465, 603.1753047225357, 641.4453575738063, 570.2580220920041, 443.98980769926993, 429.08831543075854, 603.761079716021, 600.4140770709502, 604.7495326904874, 584.9168090156074, 509.9773340706687, 460.4622285416975, 502.496090831595, 516.1260309258064, 521.9622631491811, 526.7114370922973, 537.0418561412638, 442.20329910271363, 465.46404981112266, 629.3293268718412, 679.9211874713824, 548.1832634132152, 541.593110254894, 505.96464783447755, 433.65261051321494, 368.6002160639185, 474.5855195400456, 476.637699169489, 458.53383370634816, 484.333101474283, 500.49850640036254, 418.0677579022961, 354.81245431647216, 455.4628146658779, 458.4608240903698, 468.4981168129597, 545.5471019929477, 421.5735912348628, 383.1320054612867, 418.6480346324549, 434.9220462391917, 431.75004915149754, 469.8340586415703, 508.5269480496328, 403.3804949538335, 341.1928268289282, 433.5504595744558, 427.9695737669177, 425.89909752432334, 438.0326637892212, 446.559188960636, 382.67199981836006, 318.60864240391163, 396.49730151215766, 413.4624659139905, 465.3537292968434, 397.9812859577314, 395.6262681344491, 336.51366326143676, 297.3808477210804, 371.3920697283737, 331.69065027454667, 393.3825795928866, 394.36028664332133, 425.5674521547646, 290.47650915682675, 264.3298915830737, 346.32225409507976, 351.1215704022698, 322.42500853756235, 357.2985009253205, 398.49169001256354, 295.3791009177202, 234.5232374710182, 321.3082080837486, 330.50561013703486, 319.5077676868632, 347.93922843051433, 388.7529483021448, 311.9973756126333, 223.47524917290718, 253.73162265309347, 288.1531272353989, 176.5827765043077, 309.2085789161153, 374.94431557694537, 396.41087877917806, 322.3091863707062, 307.4892205711737, 343.0580733453054, 374.0271336698918, 298.01391722876855, 311.9793254084218, 285.65869598199424, 174.14070120452453, 237.20731758940835, 246.69922483745586, 232.79383498605347, 237.29059374996262, 442.95684149776804, 235.44093673675297, 47.664716785968714, 158.37683653002492, 153.96511739619237, 119.09782159561313, 357.2474348187384, 280.6781693150712, 236.41822247832292, 66.78555111101815, 171.895189607695, 210.1409579639671, 190.77298821849027, 209.08115050465966, 285.3176870804507, 205.04196741418883, 83.11131047671934, 178.98787148762997]}, {\"fill\": \"tonexty\", \"fillcolor\": \"rgba(0, 114, 178, 0.2)\", \"line\": {\"color\": \"#0072B2\", \"width\": 2}, \"mode\": \"lines\", \"name\": \"Predicted\", \"type\": \"scatter\", \"x\": [\"2020-03-01T00:00:00\", \"2020-03-02T00:00:00\", \"2020-03-03T00:00:00\", \"2020-03-04T00:00:00\", \"2020-03-05T00:00:00\", \"2020-03-06T00:00:00\", \"2020-03-07T00:00:00\", \"2020-03-08T00:00:00\", \"2020-03-09T00:00:00\", \"2020-03-10T00:00:00\", \"2020-03-11T00:00:00\", \"2020-03-12T00:00:00\", \"2020-03-13T00:00:00\", \"2020-03-14T00:00:00\", \"2020-03-15T00:00:00\", \"2020-03-16T00:00:00\", \"2020-03-17T00:00:00\", \"2020-03-18T00:00:00\", \"2020-03-19T00:00:00\", \"2020-03-20T00:00:00\", \"2020-03-21T00:00:00\", \"2020-03-22T00:00:00\", \"2020-03-23T00:00:00\", \"2020-03-24T00:00:00\", \"2020-03-25T00:00:00\", \"2020-03-26T00:00:00\", \"2020-03-27T00:00:00\", \"2020-03-28T00:00:00\", \"2020-03-29T00:00:00\", \"2020-03-30T00:00:00\", \"2020-03-31T00:00:00\", \"2020-04-01T00:00:00\", \"2020-04-02T00:00:00\", \"2020-04-03T00:00:00\", \"2020-04-04T00:00:00\", \"2020-04-05T00:00:00\", \"2020-04-06T00:00:00\", \"2020-04-07T00:00:00\", \"2020-04-08T00:00:00\", \"2020-04-09T00:00:00\", \"2020-04-10T00:00:00\", \"2020-04-11T00:00:00\", \"2020-04-12T00:00:00\", \"2020-04-13T00:00:00\", \"2020-04-14T00:00:00\", \"2020-04-15T00:00:00\", \"2020-04-16T00:00:00\", \"2020-04-17T00:00:00\", \"2020-04-18T00:00:00\", \"2020-04-19T00:00:00\", \"2020-04-21T00:00:00\", \"2020-04-22T00:00:00\", \"2020-04-23T00:00:00\", \"2020-04-24T00:00:00\", \"2020-04-25T00:00:00\", \"2020-04-26T00:00:00\", \"2020-04-27T00:00:00\", \"2020-04-28T00:00:00\", \"2020-04-29T00:00:00\", \"2020-04-30T00:00:00\", \"2020-05-01T00:00:00\", \"2020-05-02T00:00:00\", \"2020-05-03T00:00:00\", \"2020-05-04T00:00:00\", \"2020-05-05T00:00:00\", \"2020-05-06T00:00:00\", \"2020-05-07T00:00:00\", \"2020-05-08T00:00:00\", \"2020-05-09T00:00:00\", \"2020-05-10T00:00:00\", \"2020-05-11T00:00:00\", \"2020-05-12T00:00:00\", \"2020-05-13T00:00:00\", \"2020-05-14T00:00:00\", \"2020-05-15T00:00:00\", \"2020-05-16T00:00:00\", \"2020-05-17T00:00:00\", \"2020-05-18T00:00:00\", \"2020-05-19T00:00:00\", \"2020-05-20T00:00:00\", \"2020-05-21T00:00:00\", \"2020-05-22T00:00:00\", \"2020-05-23T00:00:00\", \"2020-05-24T00:00:00\", \"2020-05-25T00:00:00\", \"2020-05-26T00:00:00\", \"2020-05-27T00:00:00\", \"2020-05-28T00:00:00\", \"2020-05-30T00:00:00\", \"2020-05-31T00:00:00\", \"2020-06-01T00:00:00\", \"2020-06-02T00:00:00\", \"2020-06-03T00:00:00\", \"2020-06-04T00:00:00\", \"2020-06-05T00:00:00\", \"2020-06-06T00:00:00\", \"2020-06-07T00:00:00\", \"2020-06-08T00:00:00\", \"2020-06-09T00:00:00\", \"2020-06-10T00:00:00\", \"2020-06-11T00:00:00\", \"2020-06-12T00:00:00\", \"2020-06-13T00:00:00\", \"2020-06-14T00:00:00\", \"2020-06-15T00:00:00\", \"2020-06-16T00:00:00\", \"2020-06-17T00:00:00\", \"2020-06-18T00:00:00\", \"2020-06-19T00:00:00\", \"2020-06-20T00:00:00\", \"2020-06-21T00:00:00\", \"2020-06-22T00:00:00\", \"2020-06-23T00:00:00\", \"2020-06-24T00:00:00\", \"2020-06-25T00:00:00\", \"2020-06-26T00:00:00\", \"2020-06-27T00:00:00\", \"2020-06-28T00:00:00\", \"2020-06-29T00:00:00\", \"2020-06-30T00:00:00\", \"2020-07-01T00:00:00\", \"2020-07-02T00:00:00\", \"2020-07-03T00:00:00\", \"2020-07-04T00:00:00\", \"2020-07-05T00:00:00\", \"2020-07-06T00:00:00\", \"2020-07-07T00:00:00\", \"2020-07-08T00:00:00\", \"2020-07-09T00:00:00\", \"2020-07-10T00:00:00\", \"2020-07-11T00:00:00\", \"2020-07-12T00:00:00\", \"2020-07-13T00:00:00\", \"2020-07-14T00:00:00\", \"2020-07-15T00:00:00\", \"2020-07-16T00:00:00\", \"2020-07-17T00:00:00\", \"2020-07-18T00:00:00\", \"2020-07-19T00:00:00\", \"2020-07-20T00:00:00\", \"2020-07-21T00:00:00\", \"2020-07-22T00:00:00\", \"2020-07-23T00:00:00\", \"2020-07-24T00:00:00\", \"2020-07-25T00:00:00\", \"2020-07-26T00:00:00\", \"2020-07-27T00:00:00\", \"2020-07-28T00:00:00\", \"2020-07-29T00:00:00\", \"2020-07-30T00:00:00\", \"2020-07-31T00:00:00\", \"2020-08-01T00:00:00\", \"2020-08-02T00:00:00\", \"2020-08-03T00:00:00\", \"2020-08-04T00:00:00\", \"2020-08-05T00:00:00\", \"2020-08-06T00:00:00\", \"2020-08-07T00:00:00\", \"2020-08-08T00:00:00\", \"2020-08-09T00:00:00\", \"2020-08-10T00:00:00\", \"2020-08-11T00:00:00\", \"2020-08-12T00:00:00\", \"2020-08-13T00:00:00\", \"2020-08-14T00:00:00\", \"2020-08-15T00:00:00\", \"2020-08-16T00:00:00\", \"2020-08-17T00:00:00\", \"2020-08-18T00:00:00\", \"2020-08-19T00:00:00\", \"2020-08-20T00:00:00\", \"2020-08-21T00:00:00\", \"2020-08-22T00:00:00\", \"2020-08-23T00:00:00\", \"2020-08-24T00:00:00\", \"2020-08-25T00:00:00\", \"2020-08-26T00:00:00\", \"2020-08-27T00:00:00\", \"2020-08-28T00:00:00\", \"2020-08-29T00:00:00\", \"2020-08-30T00:00:00\", \"2020-08-31T00:00:00\", \"2020-09-01T00:00:00\", \"2020-09-02T00:00:00\", \"2020-09-03T00:00:00\", \"2020-09-04T00:00:00\", \"2020-09-05T00:00:00\", \"2020-09-06T00:00:00\", \"2020-09-07T00:00:00\", \"2020-09-08T00:00:00\", \"2020-09-09T00:00:00\", \"2020-09-10T00:00:00\", \"2020-09-11T00:00:00\", \"2020-09-12T00:00:00\", \"2020-09-13T00:00:00\", \"2020-09-14T00:00:00\", \"2020-09-15T00:00:00\", \"2020-09-16T00:00:00\", \"2020-09-17T00:00:00\", \"2020-09-18T00:00:00\", \"2020-09-19T00:00:00\", \"2020-09-20T00:00:00\", \"2020-09-21T00:00:00\", \"2020-09-22T00:00:00\", \"2020-09-23T00:00:00\", \"2020-09-24T00:00:00\", \"2020-09-25T00:00:00\", \"2020-09-26T00:00:00\", \"2020-09-27T00:00:00\", \"2020-09-28T00:00:00\", \"2020-09-29T00:00:00\", \"2020-09-30T00:00:00\", \"2020-10-01T00:00:00\", \"2020-10-02T00:00:00\", \"2020-10-03T00:00:00\", \"2020-10-04T00:00:00\", \"2020-10-05T00:00:00\", \"2020-10-06T00:00:00\", \"2020-10-07T00:00:00\", \"2020-10-09T00:00:00\", \"2020-10-10T00:00:00\", \"2020-10-11T00:00:00\", \"2020-10-12T00:00:00\", \"2020-10-13T00:00:00\", \"2020-10-14T00:00:00\", \"2020-10-15T00:00:00\", \"2020-10-16T00:00:00\", \"2020-10-17T00:00:00\", \"2020-10-18T00:00:00\", \"2020-10-19T00:00:00\", \"2020-10-20T00:00:00\", \"2020-10-21T00:00:00\", \"2020-10-22T00:00:00\", \"2020-10-23T00:00:00\", \"2020-10-24T00:00:00\", \"2020-10-25T00:00:00\", \"2020-10-26T00:00:00\", \"2020-10-27T00:00:00\", \"2020-10-28T00:00:00\", \"2020-10-29T00:00:00\", \"2020-10-30T00:00:00\", \"2020-10-31T00:00:00\", \"2020-11-01T00:00:00\", \"2020-11-02T00:00:00\", \"2020-11-03T00:00:00\", \"2020-11-04T00:00:00\", \"2020-11-05T00:00:00\", \"2020-11-06T00:00:00\", \"2020-11-07T00:00:00\", \"2020-11-08T00:00:00\", \"2020-11-09T00:00:00\", \"2020-11-10T00:00:00\", \"2020-11-11T00:00:00\", \"2020-11-12T00:00:00\", \"2020-11-13T00:00:00\", \"2020-11-14T00:00:00\", \"2020-11-15T00:00:00\", \"2020-11-16T00:00:00\", \"2020-11-17T00:00:00\", \"2020-11-18T00:00:00\", \"2020-11-19T00:00:00\", \"2020-11-20T00:00:00\", \"2020-11-21T00:00:00\", \"2020-11-22T00:00:00\", \"2020-11-23T00:00:00\", \"2020-11-24T00:00:00\", \"2020-11-25T00:00:00\", \"2020-11-26T00:00:00\", \"2020-11-27T00:00:00\", \"2020-11-28T00:00:00\", \"2020-11-29T00:00:00\", \"2020-11-30T00:00:00\", \"2020-12-01T00:00:00\", \"2020-12-02T00:00:00\", \"2020-12-03T00:00:00\", \"2020-12-04T00:00:00\", \"2020-12-05T00:00:00\", \"2020-12-06T00:00:00\", \"2020-12-07T00:00:00\", \"2020-12-08T00:00:00\", \"2020-12-09T00:00:00\", \"2020-12-10T00:00:00\", \"2020-12-11T00:00:00\", \"2020-12-12T00:00:00\", \"2020-12-13T00:00:00\", \"2020-12-14T00:00:00\", \"2020-12-15T00:00:00\", \"2020-12-16T00:00:00\", \"2020-12-17T00:00:00\", \"2020-12-18T00:00:00\", \"2020-12-19T00:00:00\", \"2020-12-20T00:00:00\", \"2020-12-21T00:00:00\", \"2020-12-22T00:00:00\", \"2020-12-23T00:00:00\", \"2020-12-24T00:00:00\", \"2020-12-25T00:00:00\", \"2020-12-26T00:00:00\", \"2020-12-27T00:00:00\", \"2020-12-28T00:00:00\"], \"y\": [37.09128989275552, 68.34514867131976, 50.18776606317509, 151.24313038337277, 93.37087142758128, 126.17498471857022, 113.1598438882063, 21.87559171365178, 82.5600091995312, 86.24903036177722, 25.863107653876234, 7.950766400810728, 75.97468443745657, 142.63308579314761, 58.249466075408854, 72.42131615427247, 117.15253443504363, 71.53878439658583, 74.97323711891246, 228.6307865271067, 209.44977673668296, 61.338286101457214, 71.25670667955828, 95.74385813467768, 199.47419731486073, 185.79352837109494, 206.80381002084218, 176.21444432068495, 11.138029460003281, 143.71648541087518, 145.14130411385054, 130.87139407576794, 185.65645325254673, 225.11148100736037, 235.82362665477157, 44.277369601820965, 203.87766517094764, 207.26296727864573, 205.88557708083883, 246.07386557246647, 310.22940927581385, 242.2155630868877, 188.33039758127666, 206.25617328183873, 235.21273282471404, 204.27168057393516, 226.28685955019262, 293.5437643330554, 273.20664704693905, 167.22103762882762, 236.87388501904985, 261.12744324432293, 247.2368854803466, 293.9748688157905, 282.59735301285264, 133.9413677234174, 235.55491796511905, 273.6601769566678, 290.90153753662406, 286.5190879593316, 315.3400561899459, 285.28986794124967, 150.52903700660366, 241.0550331559465, 313.813718268276, 257.7850949865619, 291.9874595913946, 353.7761041418316, 289.99982893467643, 159.60599805214974, 279.0691536591489, 328.5079345844658, 309.0959077426383, 339.95921572509116, 453.05835372914623, 362.56487780582273, 220.70887975685568, 298.4352649340166, 339.0153350468046, 334.01263703031054, 358.4589764492809, 402.2877933543424, 370.3649253542477, 303.88965042133566, 257.5738146878249, 401.15303655354097, 427.92887724133084, 415.5705060721292, 437.6460724000115, 377.83522726523006, 382.83455212458443, 382.2332449122431, 433.31522532571887, 426.33980917071153, 458.50424616649684, 452.24301214078685, 338.9691404122093, 428.2364784540228, 465.2513924630556, 434.88969787254166, 456.9892878610861, 495.11089737646284, 488.13339812489505, 385.0532880902158, 467.81539273175645, 488.37152134061364, 466.7153084717388, 507.5015827695373, 547.3068711817614, 535.2424805811438, 476.07337777634166, 639.4930564242937, 576.2047427766058, 613.2224783186957, 681.4976901140806, 693.355269802057, 660.778942528401, 553.1148561045072, 596.8550892801428, 626.6702479851455, 623.7824762057916, 633.2836235455048, 838.2060041035747, 865.1578781882929, 804.8829598658838, 858.1776040366605, 898.2653006935259, 866.913680934404, 879.8474449259636, 917.1498628140887, 898.6560709962087, 813.1129366797561, 861.2549456126472, 873.0398905681725, 873.4388415864695, 891.6481383347614, 928.6372358935442, 898.46736213523, 791.0005242969071, 879.4983985747302, 916.9695431220586, 902.3519277834425, 874.7904329339323, 934.0949186821782, 971.5569193685342, 861.244736029795, 875.7045337021896, 914.0412603900847, 915.8493745810042, 876.9336755458952, 909.757977154538, 923.1374152535129, 793.1591835245968, 813.1106927121973, 855.2904296257398, 831.1295699744305, 849.3943678246512, 881.0247660122747, 845.977320570005, 754.7015078038489, 792.4312746832586, 812.291393312326, 806.1808964475366, 836.3721888319559, 867.4000200074142, 828.2568523168889, 751.9495090483649, 806.1783308308059, 818.8407620972309, 795.665746399703, 826.2548927283508, 837.5981011612291, 805.1227947128632, 727.4507678375976, 765.2550252857521, 757.4805295058768, 771.0330090802981, 780.6213297274837, 881.8184507100159, 802.7343410452428, 719.732858629126, 762.77166973798, 761.7060049133763, 754.4634135261405, 784.1034559736393, 820.8927893293085, 740.6256177520465, 614.0939296417758, 605.9368396094287, 797.4602300404493, 772.1914612457025, 778.9665436796658, 762.0607389156654, 691.2783420569702, 628.8509765819342, 693.9684733422425, 700.0001758678542, 701.2720440931505, 709.8114899923296, 705.5283595379628, 630.2192779925382, 653.7993758696192, 794.8725572771311, 854.0035768357104, 735.0932641375728, 714.2883660162809, 692.8426152389472, 618.2627455661564, 549.77792857062, 647.621040462565, 642.1540606497542, 634.0962764566476, 665.3016430212695, 688.5482717720871, 608.1170063293471, 535.6083469659594, 629.2294180482313, 632.143622168128, 638.2810394020698, 716.3669090246499, 605.5986650625395, 542.8732980937923, 598.8307439822848, 614.1595744376851, 614.2459351626284, 635.1256703946513, 697.8823897285754, 586.9896486468094, 506.9138724032366, 601.9489139557483, 604.6425139603801, 606.4297776810857, 609.2883662986085, 639.1234472569478, 572.3993652060597, 497.6299340956178, 577.913932692767, 606.6941996484342, 634.1863184687915, 575.731917861628, 579.1995290219564, 522.0769905798483, 475.99826125246267, 559.4372707052039, 510.85240521708397, 573.6436385312377, 568.9098699201514, 594.9476010410256, 480.7775262121831, 433.7907985010256, 527.125060034013, 526.0309153265457, 506.43126699402194, 541.9251291866669, 572.3370362795613, 479.63819360122017, 414.6060621894737, 498.6943227566187, 506.72563792185235, 511.3883621968981, 518.8389308814151, 560.3650687648795, 513.973970622889, 404.70262755541006, 424.9176495370523, 460.94545973033917, 372.22831551856075, 490.3782579182175, 556.9025444558182, 587.5473654283792, 501.32759580565926, 483.6540952094461, 517.8459490233572, 554.9059284943525, 486.3709114375673, 497.14964931058273, 456.1607102169785, 364.8339440806645, 413.63051784616107, 433.5359756388531, 406.6546647063044, 426.17060829197806, 625.7167970319757, 415.8370799841805, 233.2742749265243, 330.6230985300425, 332.888067692531, 309.4976105661643, 540.4567335523684, 476.1558154072005, 423.21733286681274, 255.29455780072632, 351.6843931957711, 392.3900419880839, 391.4078570045265, 402.9311330313813, 473.6147626435178, 395.3227921047974, 277.87037505412775, 358.93767479341716]}, {\"fill\": \"tonexty\", \"fillcolor\": \"rgba(0, 114, 178, 0.2)\", \"hoverinfo\": \"skip\", \"line\": {\"width\": 0}, \"mode\": \"lines\", \"type\": \"scatter\", \"x\": [\"2020-03-01T00:00:00\", \"2020-03-02T00:00:00\", \"2020-03-03T00:00:00\", \"2020-03-04T00:00:00\", \"2020-03-05T00:00:00\", \"2020-03-06T00:00:00\", \"2020-03-07T00:00:00\", \"2020-03-08T00:00:00\", \"2020-03-09T00:00:00\", \"2020-03-10T00:00:00\", \"2020-03-11T00:00:00\", \"2020-03-12T00:00:00\", \"2020-03-13T00:00:00\", \"2020-03-14T00:00:00\", \"2020-03-15T00:00:00\", \"2020-03-16T00:00:00\", \"2020-03-17T00:00:00\", \"2020-03-18T00:00:00\", \"2020-03-19T00:00:00\", \"2020-03-20T00:00:00\", \"2020-03-21T00:00:00\", \"2020-03-22T00:00:00\", \"2020-03-23T00:00:00\", \"2020-03-24T00:00:00\", \"2020-03-25T00:00:00\", \"2020-03-26T00:00:00\", \"2020-03-27T00:00:00\", \"2020-03-28T00:00:00\", \"2020-03-29T00:00:00\", \"2020-03-30T00:00:00\", \"2020-03-31T00:00:00\", \"2020-04-01T00:00:00\", \"2020-04-02T00:00:00\", \"2020-04-03T00:00:00\", \"2020-04-04T00:00:00\", \"2020-04-05T00:00:00\", \"2020-04-06T00:00:00\", \"2020-04-07T00:00:00\", \"2020-04-08T00:00:00\", \"2020-04-09T00:00:00\", \"2020-04-10T00:00:00\", \"2020-04-11T00:00:00\", \"2020-04-12T00:00:00\", \"2020-04-13T00:00:00\", \"2020-04-14T00:00:00\", \"2020-04-15T00:00:00\", \"2020-04-16T00:00:00\", \"2020-04-17T00:00:00\", \"2020-04-18T00:00:00\", \"2020-04-19T00:00:00\", \"2020-04-21T00:00:00\", \"2020-04-22T00:00:00\", \"2020-04-23T00:00:00\", \"2020-04-24T00:00:00\", \"2020-04-25T00:00:00\", \"2020-04-26T00:00:00\", \"2020-04-27T00:00:00\", \"2020-04-28T00:00:00\", \"2020-04-29T00:00:00\", \"2020-04-30T00:00:00\", \"2020-05-01T00:00:00\", \"2020-05-02T00:00:00\", \"2020-05-03T00:00:00\", \"2020-05-04T00:00:00\", \"2020-05-05T00:00:00\", \"2020-05-06T00:00:00\", \"2020-05-07T00:00:00\", \"2020-05-08T00:00:00\", \"2020-05-09T00:00:00\", \"2020-05-10T00:00:00\", \"2020-05-11T00:00:00\", \"2020-05-12T00:00:00\", \"2020-05-13T00:00:00\", \"2020-05-14T00:00:00\", \"2020-05-15T00:00:00\", \"2020-05-16T00:00:00\", \"2020-05-17T00:00:00\", \"2020-05-18T00:00:00\", \"2020-05-19T00:00:00\", \"2020-05-20T00:00:00\", \"2020-05-21T00:00:00\", \"2020-05-22T00:00:00\", \"2020-05-23T00:00:00\", \"2020-05-24T00:00:00\", \"2020-05-25T00:00:00\", \"2020-05-26T00:00:00\", \"2020-05-27T00:00:00\", \"2020-05-28T00:00:00\", \"2020-05-30T00:00:00\", \"2020-05-31T00:00:00\", \"2020-06-01T00:00:00\", \"2020-06-02T00:00:00\", \"2020-06-03T00:00:00\", \"2020-06-04T00:00:00\", \"2020-06-05T00:00:00\", \"2020-06-06T00:00:00\", \"2020-06-07T00:00:00\", \"2020-06-08T00:00:00\", \"2020-06-09T00:00:00\", \"2020-06-10T00:00:00\", \"2020-06-11T00:00:00\", \"2020-06-12T00:00:00\", \"2020-06-13T00:00:00\", \"2020-06-14T00:00:00\", \"2020-06-15T00:00:00\", \"2020-06-16T00:00:00\", \"2020-06-17T00:00:00\", \"2020-06-18T00:00:00\", \"2020-06-19T00:00:00\", \"2020-06-20T00:00:00\", \"2020-06-21T00:00:00\", \"2020-06-22T00:00:00\", \"2020-06-23T00:00:00\", \"2020-06-24T00:00:00\", \"2020-06-25T00:00:00\", \"2020-06-26T00:00:00\", \"2020-06-27T00:00:00\", \"2020-06-28T00:00:00\", \"2020-06-29T00:00:00\", \"2020-06-30T00:00:00\", \"2020-07-01T00:00:00\", \"2020-07-02T00:00:00\", \"2020-07-03T00:00:00\", \"2020-07-04T00:00:00\", \"2020-07-05T00:00:00\", \"2020-07-06T00:00:00\", \"2020-07-07T00:00:00\", \"2020-07-08T00:00:00\", \"2020-07-09T00:00:00\", \"2020-07-10T00:00:00\", \"2020-07-11T00:00:00\", \"2020-07-12T00:00:00\", \"2020-07-13T00:00:00\", \"2020-07-14T00:00:00\", \"2020-07-15T00:00:00\", \"2020-07-16T00:00:00\", \"2020-07-17T00:00:00\", \"2020-07-18T00:00:00\", \"2020-07-19T00:00:00\", \"2020-07-20T00:00:00\", \"2020-07-21T00:00:00\", \"2020-07-22T00:00:00\", \"2020-07-23T00:00:00\", \"2020-07-24T00:00:00\", \"2020-07-25T00:00:00\", \"2020-07-26T00:00:00\", \"2020-07-27T00:00:00\", \"2020-07-28T00:00:00\", \"2020-07-29T00:00:00\", \"2020-07-30T00:00:00\", \"2020-07-31T00:00:00\", \"2020-08-01T00:00:00\", \"2020-08-02T00:00:00\", \"2020-08-03T00:00:00\", \"2020-08-04T00:00:00\", \"2020-08-05T00:00:00\", \"2020-08-06T00:00:00\", \"2020-08-07T00:00:00\", \"2020-08-08T00:00:00\", \"2020-08-09T00:00:00\", \"2020-08-10T00:00:00\", \"2020-08-11T00:00:00\", \"2020-08-12T00:00:00\", \"2020-08-13T00:00:00\", \"2020-08-14T00:00:00\", \"2020-08-15T00:00:00\", \"2020-08-16T00:00:00\", \"2020-08-17T00:00:00\", \"2020-08-18T00:00:00\", \"2020-08-19T00:00:00\", \"2020-08-20T00:00:00\", \"2020-08-21T00:00:00\", \"2020-08-22T00:00:00\", \"2020-08-23T00:00:00\", \"2020-08-24T00:00:00\", \"2020-08-25T00:00:00\", \"2020-08-26T00:00:00\", \"2020-08-27T00:00:00\", \"2020-08-28T00:00:00\", \"2020-08-29T00:00:00\", \"2020-08-30T00:00:00\", \"2020-08-31T00:00:00\", \"2020-09-01T00:00:00\", \"2020-09-02T00:00:00\", \"2020-09-03T00:00:00\", \"2020-09-04T00:00:00\", \"2020-09-05T00:00:00\", \"2020-09-06T00:00:00\", \"2020-09-07T00:00:00\", \"2020-09-08T00:00:00\", \"2020-09-09T00:00:00\", \"2020-09-10T00:00:00\", \"2020-09-11T00:00:00\", \"2020-09-12T00:00:00\", \"2020-09-13T00:00:00\", \"2020-09-14T00:00:00\", \"2020-09-15T00:00:00\", \"2020-09-16T00:00:00\", \"2020-09-17T00:00:00\", \"2020-09-18T00:00:00\", \"2020-09-19T00:00:00\", \"2020-09-20T00:00:00\", \"2020-09-21T00:00:00\", \"2020-09-22T00:00:00\", \"2020-09-23T00:00:00\", \"2020-09-24T00:00:00\", \"2020-09-25T00:00:00\", \"2020-09-26T00:00:00\", \"2020-09-27T00:00:00\", \"2020-09-28T00:00:00\", \"2020-09-29T00:00:00\", \"2020-09-30T00:00:00\", \"2020-10-01T00:00:00\", \"2020-10-02T00:00:00\", \"2020-10-03T00:00:00\", \"2020-10-04T00:00:00\", \"2020-10-05T00:00:00\", \"2020-10-06T00:00:00\", \"2020-10-07T00:00:00\", \"2020-10-09T00:00:00\", \"2020-10-10T00:00:00\", \"2020-10-11T00:00:00\", \"2020-10-12T00:00:00\", \"2020-10-13T00:00:00\", \"2020-10-14T00:00:00\", \"2020-10-15T00:00:00\", \"2020-10-16T00:00:00\", \"2020-10-17T00:00:00\", \"2020-10-18T00:00:00\", \"2020-10-19T00:00:00\", \"2020-10-20T00:00:00\", \"2020-10-21T00:00:00\", \"2020-10-22T00:00:00\", \"2020-10-23T00:00:00\", \"2020-10-24T00:00:00\", \"2020-10-25T00:00:00\", \"2020-10-26T00:00:00\", \"2020-10-27T00:00:00\", \"2020-10-28T00:00:00\", \"2020-10-29T00:00:00\", \"2020-10-30T00:00:00\", \"2020-10-31T00:00:00\", \"2020-11-01T00:00:00\", \"2020-11-02T00:00:00\", \"2020-11-03T00:00:00\", \"2020-11-04T00:00:00\", \"2020-11-05T00:00:00\", \"2020-11-06T00:00:00\", \"2020-11-07T00:00:00\", \"2020-11-08T00:00:00\", \"2020-11-09T00:00:00\", \"2020-11-10T00:00:00\", \"2020-11-11T00:00:00\", \"2020-11-12T00:00:00\", \"2020-11-13T00:00:00\", \"2020-11-14T00:00:00\", \"2020-11-15T00:00:00\", \"2020-11-16T00:00:00\", \"2020-11-17T00:00:00\", \"2020-11-18T00:00:00\", \"2020-11-19T00:00:00\", \"2020-11-20T00:00:00\", \"2020-11-21T00:00:00\", \"2020-11-22T00:00:00\", \"2020-11-23T00:00:00\", \"2020-11-24T00:00:00\", \"2020-11-25T00:00:00\", \"2020-11-26T00:00:00\", \"2020-11-27T00:00:00\", \"2020-11-28T00:00:00\", \"2020-11-29T00:00:00\", \"2020-11-30T00:00:00\", \"2020-12-01T00:00:00\", \"2020-12-02T00:00:00\", \"2020-12-03T00:00:00\", \"2020-12-04T00:00:00\", \"2020-12-05T00:00:00\", \"2020-12-06T00:00:00\", \"2020-12-07T00:00:00\", \"2020-12-08T00:00:00\", \"2020-12-09T00:00:00\", \"2020-12-10T00:00:00\", \"2020-12-11T00:00:00\", \"2020-12-12T00:00:00\", \"2020-12-13T00:00:00\", \"2020-12-14T00:00:00\", \"2020-12-15T00:00:00\", \"2020-12-16T00:00:00\", \"2020-12-17T00:00:00\", \"2020-12-18T00:00:00\", \"2020-12-19T00:00:00\", \"2020-12-20T00:00:00\", \"2020-12-21T00:00:00\", \"2020-12-22T00:00:00\", \"2020-12-23T00:00:00\", \"2020-12-24T00:00:00\", \"2020-12-25T00:00:00\", \"2020-12-26T00:00:00\", \"2020-12-27T00:00:00\", \"2020-12-28T00:00:00\"], \"y\": [215.00217649884672, 243.75718819310583, 223.05706377950466, 324.5549009035816, 260.59100605870066, 292.3612773916513, 284.7708994282114, 199.2311799611583, 260.20875279055826, 275.27171530419093, 188.5689374514228, 191.25865334438691, 259.8029558009849, 312.007269923833, 238.5797032960803, 240.4011259167308, 304.0732833202286, 231.0701283658634, 247.6330461941737, 403.1349961364106, 377.0818269647419, 226.7604675546769, 244.84152032397142, 277.5052273100778, 371.58442941562765, 373.06737826134446, 390.2837079807892, 349.2567001280836, 204.79686171075485, 323.05425130758164, 326.6793778786531, 319.9669024123463, 362.2088013231777, 422.79763219852725, 414.8898593595363, 237.5973274142615, 395.0048186558141, 381.3145905830071, 387.9532246359792, 413.06317478503604, 486.8380164905852, 431.93869485672025, 363.60518240712287, 379.6905289910107, 415.729990862226, 387.7630617740399, 399.66499371356895, 477.73244837633223, 451.46503232543523, 343.3963753018522, 407.80149772590045, 429.9499187052794, 434.65389254326385, 471.67950330651394, 472.78558864393113, 305.7239824094764, 423.7613624137195, 464.85919953403004, 474.1540078389476, 466.54611635503767, 479.2346842537292, 471.67742494029096, 327.37095655484825, 407.7649172832486, 494.7556945571357, 438.0165428355367, 490.6886771244917, 536.7957682485705, 472.9677829270498, 338.10020050756015, 458.4602774559429, 516.2819986173286, 480.9358522041832, 516.0648073481848, 635.6980675852984, 544.3578118580072, 388.7101537120554, 485.9685144561847, 512.3509974471339, 505.1025660471148, 536.2446508503358, 589.9661308885653, 556.2707637916812, 479.7369112593392, 439.045903137533, 583.568840403078, 599.7842988359569, 588.3152757467171, 620.3996000836886, 536.0662185954288, 575.8571045428713, 552.038950861321, 614.2667494863966, 598.9218026009687, 632.3671064686022, 621.405721459174, 529.6254708788128, 603.2153552268742, 639.7211191159982, 612.052882608224, 633.9912258571844, 672.9600081932275, 666.4291406147462, 562.4138023616787, 661.6721315220518, 664.4074689785949, 647.5680033674857, 691.5553918660551, 737.2519900578411, 723.988335869655, 651.6754092799554, 817.6293941926136, 767.5588700527213, 785.8864882134526, 845.9507979620331, 871.2925184170014, 851.7249557199605, 730.5167380937431, 767.0878718954992, 807.4998620845979, 805.6403575529457, 830.4913467509293, 1013.8121599974867, 1037.6089907175415, 984.9288845415712, 1043.050479819883, 1069.847471055444, 1043.1641116994174, 1070.3305669998938, 1119.975780713511, 1070.4430586289527, 990.6668898885905, 1034.122006100621, 1048.0134859158663, 1049.4910965499662, 1068.64785573355, 1105.358087699152, 1082.4042936515525, 967.2667087792353, 1067.7699738312685, 1083.0614017310786, 1073.548724553801, 1040.9638536773673, 1100.5350953784834, 1138.9141667300023, 1050.1675197330176, 1055.0416806007734, 1087.6626025958226, 1104.2785356924508, 1046.4391072520245, 1067.9979357756067, 1104.21498516699, 979.2197418423237, 995.7334251317457, 1028.388623017603, 1004.8470382305522, 1028.4210749731349, 1057.2490180647785, 1032.885288152465, 942.3313168679776, 981.5777869034579, 988.6449560625831, 979.1030232906515, 1022.1795893500407, 1053.5509980021866, 1011.6384720360022, 949.2437754436263, 979.9210982680926, 1016.1335140413343, 963.9486863138014, 1007.8888713374363, 1015.2712722236515, 983.5342873977613, 906.320620093613, 942.1635775395428, 941.3405634513397, 954.1765977067505, 975.0240935656362, 1056.196923430173, 991.2426597325436, 885.0540877350867, 941.1551879229748, 934.5047190927022, 935.2029341552189, 977.0609766018165, 1007.9955798840756, 916.8166153010504, 783.2952181755073, 763.8457260097473, 978.8149688018624, 948.2532489709239, 960.9398980278752, 946.2407253055843, 877.3811474493352, 808.4281699538168, 872.5322530147054, 879.6595444265294, 879.1046009063234, 887.7674353979837, 864.7516012393927, 809.6104437561231, 836.0960952793547, 961.9310675870919, 1045.4928615488218, 920.9826150618402, 886.0874261159969, 870.9441907911439, 804.9691051207808, 726.5387097571976, 826.3386985995079, 815.7056855458093, 824.87599137202, 830.4020146245158, 868.4439198846351, 787.4387433464267, 721.1552695954595, 818.1701382155553, 822.6075814552511, 822.1217701120352, 883.5338912313808, 784.3910486325371, 725.1838637951777, 772.7856008321971, 788.2137900818536, 779.9495457509878, 819.3047207635559, 881.5386883598818, 774.1406858461796, 677.3939525754581, 768.8151713586304, 788.3977954056827, 788.732570031912, 794.0575484005873, 828.3935511260531, 754.4493693622983, 670.0892690078451, 770.058645520251, 779.0898145315136, 815.155497560872, 754.3790674720161, 745.6889870368298, 695.9737948720777, 669.2079889972105, 732.8299261863547, 683.3373547248588, 753.3461007198771, 743.482200275573, 789.0140256341709, 667.9728407518237, 622.8929452707628, 718.3997598488122, 703.197838840215, 689.7862010845996, 718.7425602780474, 753.2624211631457, 647.3155484283637, 596.7389253925274, 676.7877905534732, 688.1755692871359, 686.0886196187193, 687.8980788355591, 726.238793055747, 687.907520106919, 597.6223619176018, 602.362505830458, 656.4391782464347, 543.9446894913441, 675.8064549931784, 736.7970068713182, 758.8472296000682, 683.7830135865124, 657.5230450357375, 711.3341330647312, 715.5806113285613, 669.4857280523906, 686.1147669764356, 629.8256975152123, 538.100696281163, 595.9232318631721, 615.7511705740122, 592.6013562606097, 614.7370855613576, 804.637752252484, 588.3173381453867, 416.662911598958, 508.6901865309083, 513.2800510978898, 493.179154831545, 722.9070171020013, 652.7851794116801, 605.563751033368, 427.7933332873657, 545.6473258574782, 579.7633308836575, 560.7399426677151, 587.1968503321895, 653.4369925720721, 567.152734603377, 474.1810253979231, 554.5912214685407]}],\n",
              "                        {\"height\": 600, \"showlegend\": false, \"template\": {\"data\": {\"bar\": [{\"error_x\": {\"color\": \"#2a3f5f\"}, \"error_y\": {\"color\": \"#2a3f5f\"}, \"marker\": {\"line\": {\"color\": \"#E5ECF6\", \"width\": 0.5}}, \"type\": \"bar\"}], \"barpolar\": [{\"marker\": {\"line\": {\"color\": \"#E5ECF6\", \"width\": 0.5}}, \"type\": \"barpolar\"}], \"carpet\": [{\"aaxis\": {\"endlinecolor\": \"#2a3f5f\", \"gridcolor\": \"white\", \"linecolor\": \"white\", \"minorgridcolor\": \"white\", \"startlinecolor\": \"#2a3f5f\"}, \"baxis\": {\"endlinecolor\": \"#2a3f5f\", \"gridcolor\": \"white\", \"linecolor\": \"white\", \"minorgridcolor\": \"white\", \"startlinecolor\": \"#2a3f5f\"}, \"type\": \"carpet\"}], \"choropleth\": [{\"colorbar\": {\"outlinewidth\": 0, \"ticks\": \"\"}, \"type\": \"choropleth\"}], \"contour\": [{\"colorbar\": {\"outlinewidth\": 0, \"ticks\": \"\"}, \"colorscale\": [[0.0, \"#0d0887\"], [0.1111111111111111, \"#46039f\"], [0.2222222222222222, \"#7201a8\"], [0.3333333333333333, \"#9c179e\"], [0.4444444444444444, \"#bd3786\"], [0.5555555555555556, \"#d8576b\"], [0.6666666666666666, \"#ed7953\"], [0.7777777777777778, \"#fb9f3a\"], [0.8888888888888888, \"#fdca26\"], [1.0, \"#f0f921\"]], \"type\": \"contour\"}], \"contourcarpet\": [{\"colorbar\": {\"outlinewidth\": 0, \"ticks\": \"\"}, \"type\": \"contourcarpet\"}], \"heatmap\": [{\"colorbar\": {\"outlinewidth\": 0, \"ticks\": \"\"}, \"colorscale\": [[0.0, \"#0d0887\"], [0.1111111111111111, \"#46039f\"], [0.2222222222222222, \"#7201a8\"], [0.3333333333333333, \"#9c179e\"], [0.4444444444444444, \"#bd3786\"], [0.5555555555555556, \"#d8576b\"], [0.6666666666666666, \"#ed7953\"], [0.7777777777777778, \"#fb9f3a\"], [0.8888888888888888, \"#fdca26\"], [1.0, \"#f0f921\"]], \"type\": \"heatmap\"}], \"heatmapgl\": [{\"colorbar\": {\"outlinewidth\": 0, \"ticks\": \"\"}, \"colorscale\": [[0.0, \"#0d0887\"], [0.1111111111111111, \"#46039f\"], [0.2222222222222222, \"#7201a8\"], [0.3333333333333333, \"#9c179e\"], [0.4444444444444444, \"#bd3786\"], [0.5555555555555556, \"#d8576b\"], [0.6666666666666666, \"#ed7953\"], [0.7777777777777778, \"#fb9f3a\"], [0.8888888888888888, \"#fdca26\"], [1.0, \"#f0f921\"]], \"type\": \"heatmapgl\"}], \"histogram\": [{\"marker\": {\"colorbar\": {\"outlinewidth\": 0, \"ticks\": \"\"}}, \"type\": \"histogram\"}], \"histogram2d\": [{\"colorbar\": {\"outlinewidth\": 0, \"ticks\": \"\"}, \"colorscale\": [[0.0, \"#0d0887\"], [0.1111111111111111, \"#46039f\"], [0.2222222222222222, \"#7201a8\"], [0.3333333333333333, \"#9c179e\"], [0.4444444444444444, \"#bd3786\"], [0.5555555555555556, \"#d8576b\"], [0.6666666666666666, \"#ed7953\"], [0.7777777777777778, \"#fb9f3a\"], [0.8888888888888888, \"#fdca26\"], [1.0, \"#f0f921\"]], \"type\": \"histogram2d\"}], \"histogram2dcontour\": [{\"colorbar\": {\"outlinewidth\": 0, \"ticks\": \"\"}, \"colorscale\": [[0.0, \"#0d0887\"], [0.1111111111111111, \"#46039f\"], [0.2222222222222222, \"#7201a8\"], [0.3333333333333333, \"#9c179e\"], [0.4444444444444444, \"#bd3786\"], [0.5555555555555556, \"#d8576b\"], [0.6666666666666666, \"#ed7953\"], [0.7777777777777778, \"#fb9f3a\"], [0.8888888888888888, \"#fdca26\"], [1.0, \"#f0f921\"]], \"type\": \"histogram2dcontour\"}], \"mesh3d\": [{\"colorbar\": {\"outlinewidth\": 0, \"ticks\": \"\"}, \"type\": \"mesh3d\"}], \"parcoords\": [{\"line\": {\"colorbar\": {\"outlinewidth\": 0, \"ticks\": \"\"}}, \"type\": \"parcoords\"}], \"pie\": [{\"automargin\": true, \"type\": \"pie\"}], \"scatter\": [{\"marker\": {\"colorbar\": {\"outlinewidth\": 0, \"ticks\": \"\"}}, \"type\": \"scatter\"}], \"scatter3d\": [{\"line\": {\"colorbar\": {\"outlinewidth\": 0, \"ticks\": \"\"}}, \"marker\": {\"colorbar\": {\"outlinewidth\": 0, \"ticks\": \"\"}}, \"type\": \"scatter3d\"}], \"scattercarpet\": [{\"marker\": {\"colorbar\": {\"outlinewidth\": 0, \"ticks\": \"\"}}, \"type\": \"scattercarpet\"}], \"scattergeo\": [{\"marker\": {\"colorbar\": {\"outlinewidth\": 0, \"ticks\": \"\"}}, \"type\": \"scattergeo\"}], \"scattergl\": [{\"marker\": {\"colorbar\": {\"outlinewidth\": 0, \"ticks\": \"\"}}, \"type\": \"scattergl\"}], \"scattermapbox\": [{\"marker\": {\"colorbar\": {\"outlinewidth\": 0, \"ticks\": \"\"}}, \"type\": \"scattermapbox\"}], \"scatterpolar\": [{\"marker\": {\"colorbar\": {\"outlinewidth\": 0, \"ticks\": \"\"}}, \"type\": \"scatterpolar\"}], \"scatterpolargl\": [{\"marker\": {\"colorbar\": {\"outlinewidth\": 0, \"ticks\": \"\"}}, \"type\": \"scatterpolargl\"}], \"scatterternary\": [{\"marker\": {\"colorbar\": {\"outlinewidth\": 0, \"ticks\": \"\"}}, \"type\": \"scatterternary\"}], \"surface\": [{\"colorbar\": {\"outlinewidth\": 0, \"ticks\": \"\"}, \"colorscale\": [[0.0, \"#0d0887\"], [0.1111111111111111, \"#46039f\"], [0.2222222222222222, \"#7201a8\"], [0.3333333333333333, \"#9c179e\"], [0.4444444444444444, \"#bd3786\"], [0.5555555555555556, \"#d8576b\"], [0.6666666666666666, \"#ed7953\"], [0.7777777777777778, \"#fb9f3a\"], [0.8888888888888888, \"#fdca26\"], [1.0, \"#f0f921\"]], \"type\": \"surface\"}], \"table\": [{\"cells\": {\"fill\": {\"color\": \"#EBF0F8\"}, \"line\": {\"color\": \"white\"}}, \"header\": {\"fill\": {\"color\": \"#C8D4E3\"}, \"line\": {\"color\": \"white\"}}, \"type\": \"table\"}]}, \"layout\": {\"annotationdefaults\": {\"arrowcolor\": \"#2a3f5f\", \"arrowhead\": 0, \"arrowwidth\": 1}, \"coloraxis\": {\"colorbar\": {\"outlinewidth\": 0, \"ticks\": \"\"}}, \"colorscale\": {\"diverging\": [[0, \"#8e0152\"], [0.1, \"#c51b7d\"], [0.2, \"#de77ae\"], [0.3, \"#f1b6da\"], [0.4, \"#fde0ef\"], [0.5, \"#f7f7f7\"], [0.6, \"#e6f5d0\"], [0.7, \"#b8e186\"], [0.8, \"#7fbc41\"], [0.9, \"#4d9221\"], [1, \"#276419\"]], \"sequential\": [[0.0, \"#0d0887\"], [0.1111111111111111, \"#46039f\"], [0.2222222222222222, \"#7201a8\"], [0.3333333333333333, \"#9c179e\"], [0.4444444444444444, \"#bd3786\"], [0.5555555555555556, \"#d8576b\"], [0.6666666666666666, \"#ed7953\"], [0.7777777777777778, \"#fb9f3a\"], [0.8888888888888888, \"#fdca26\"], [1.0, \"#f0f921\"]], \"sequentialminus\": [[0.0, \"#0d0887\"], [0.1111111111111111, \"#46039f\"], [0.2222222222222222, \"#7201a8\"], [0.3333333333333333, \"#9c179e\"], [0.4444444444444444, \"#bd3786\"], [0.5555555555555556, \"#d8576b\"], [0.6666666666666666, \"#ed7953\"], [0.7777777777777778, \"#fb9f3a\"], [0.8888888888888888, \"#fdca26\"], [1.0, \"#f0f921\"]]}, \"colorway\": [\"#636efa\", \"#EF553B\", \"#00cc96\", \"#ab63fa\", \"#FFA15A\", \"#19d3f3\", \"#FF6692\", \"#B6E880\", \"#FF97FF\", \"#FECB52\"], \"font\": {\"color\": \"#2a3f5f\"}, \"geo\": {\"bgcolor\": \"white\", \"lakecolor\": \"white\", \"landcolor\": \"#E5ECF6\", \"showlakes\": true, \"showland\": true, \"subunitcolor\": \"white\"}, \"hoverlabel\": {\"align\": \"left\"}, \"hovermode\": \"closest\", \"mapbox\": {\"style\": \"light\"}, \"paper_bgcolor\": \"white\", \"plot_bgcolor\": \"#E5ECF6\", \"polar\": {\"angularaxis\": {\"gridcolor\": \"white\", \"linecolor\": \"white\", \"ticks\": \"\"}, \"bgcolor\": \"#E5ECF6\", \"radialaxis\": {\"gridcolor\": \"white\", \"linecolor\": \"white\", \"ticks\": \"\"}}, \"scene\": {\"xaxis\": {\"backgroundcolor\": \"#E5ECF6\", \"gridcolor\": \"white\", \"gridwidth\": 2, \"linecolor\": \"white\", \"showbackground\": true, \"ticks\": \"\", \"zerolinecolor\": \"white\"}, \"yaxis\": {\"backgroundcolor\": \"#E5ECF6\", \"gridcolor\": \"white\", \"gridwidth\": 2, \"linecolor\": \"white\", \"showbackground\": true, \"ticks\": \"\", \"zerolinecolor\": \"white\"}, \"zaxis\": {\"backgroundcolor\": \"#E5ECF6\", \"gridcolor\": \"white\", \"gridwidth\": 2, \"linecolor\": \"white\", \"showbackground\": true, \"ticks\": \"\", \"zerolinecolor\": \"white\"}}, \"shapedefaults\": {\"line\": {\"color\": \"#2a3f5f\"}}, \"ternary\": {\"aaxis\": {\"gridcolor\": \"white\", \"linecolor\": \"white\", \"ticks\": \"\"}, \"baxis\": {\"gridcolor\": \"white\", \"linecolor\": \"white\", \"ticks\": \"\"}, \"bgcolor\": \"#E5ECF6\", \"caxis\": {\"gridcolor\": \"white\", \"linecolor\": \"white\", \"ticks\": \"\"}}, \"title\": {\"x\": 0.05}, \"xaxis\": {\"automargin\": true, \"gridcolor\": \"white\", \"linecolor\": \"white\", \"ticks\": \"\", \"title\": {\"standoff\": 15}, \"zerolinecolor\": \"white\", \"zerolinewidth\": 2}, \"yaxis\": {\"automargin\": true, \"gridcolor\": \"white\", \"linecolor\": \"white\", \"ticks\": \"\", \"title\": {\"standoff\": 15}, \"zerolinecolor\": \"white\", \"zerolinewidth\": 2}}}, \"width\": 900, \"xaxis\": {\"rangeselector\": {\"buttons\": [{\"count\": 7, \"label\": \"1w\", \"step\": \"day\", \"stepmode\": \"backward\"}, {\"count\": 1, \"label\": \"1m\", \"step\": \"month\", \"stepmode\": \"backward\"}, {\"count\": 6, \"label\": \"6m\", \"step\": \"month\", \"stepmode\": \"backward\"}, {\"count\": 1, \"label\": \"1y\", \"step\": \"year\", \"stepmode\": \"backward\"}, {\"step\": \"all\"}]}, \"rangeslider\": {\"visible\": true}, \"title\": {\"text\": \"ds\"}, \"type\": \"date\"}, \"yaxis\": {\"title\": {\"text\": \"y\"}}},\n",
              "                        {\"responsive\": true}\n",
              "                    ).then(function(){\n",
              "                            \n",
              "var gd = document.getElementById('a83d761c-6282-4c96-bfdc-4e3e2aa6a92c');\n",
              "var x = new MutationObserver(function (mutations, observer) {{\n",
              "        var display = window.getComputedStyle(gd).display;\n",
              "        if (!display || display === 'none') {{\n",
              "            console.log([gd, 'removed!']);\n",
              "            Plotly.purge(gd);\n",
              "            observer.disconnect();\n",
              "        }}\n",
              "}});\n",
              "\n",
              "// Listen for the removal of the full notebook cells\n",
              "var notebookContainer = gd.closest('#notebook-container');\n",
              "if (notebookContainer) {{\n",
              "    x.observe(notebookContainer, {childList: true});\n",
              "}}\n",
              "\n",
              "// Listen for the clearing of the current output cell\n",
              "var outputEl = gd.closest('.output');\n",
              "if (outputEl) {{\n",
              "    x.observe(outputEl, {childList: true});\n",
              "}}\n",
              "\n",
              "                        })\n",
              "                };\n",
              "                \n",
              "            </script>\n",
              "        </div>\n",
              "</body>\n",
              "</html>"
            ]
          },
          "metadata": {
            "tags": []
          }
        }
      ]
    },
    {
      "cell_type": "code",
      "metadata": {
        "id": "dngSz8BZJ3Pa",
        "colab": {
          "base_uri": "https://localhost:8080/",
          "height": 1000,
          "referenced_widgets": [
            "156d97ee2aa64331bc5d1a524751fa7b",
            "b48f84729eb042a6a77a729cf93bf950",
            "5036315888ef47018caea4b0f24f96e0",
            "24b987f260834dafa7f3425efb128f87",
            "c4327d69a5df42eab22f315fde8151ab",
            "da36337d20bf4de38afa55bf9c3f6db0",
            "3db29c9bd33c4385b9c5a899e673b28c",
            "a76b480956294046b4928a37816fe15d"
          ]
        },
        "outputId": "9299394b-9b42-425d-abd6-a8c2aba14b49"
      },
      "source": [
        "cross_validation_results = cross_validation(m, period='15 days', horizon='59 days')\n",
        "print(cross_validation_results)"
      ],
      "execution_count": 28,
      "outputs": [
        {
          "output_type": "stream",
          "text": [
            "INFO:fbprophet:Making 1 forecasts with cutoffs between 2020-08-31 00:00:00 and 2020-08-31 00:00:00\n"
          ],
          "name": "stderr"
        },
        {
          "output_type": "display_data",
          "data": {
            "application/vnd.jupyter.widget-view+json": {
              "model_id": "156d97ee2aa64331bc5d1a524751fa7b",
              "version_minor": 0,
              "version_major": 2
            },
            "text/plain": [
              "HBox(children=(FloatProgress(value=0.0, max=1.0), HTML(value='')))"
            ]
          },
          "metadata": {
            "tags": []
          }
        },
        {
          "output_type": "stream",
          "text": [
            "WARNING:fbprophet.models:Optimization terminated abnormally. Falling back to Newton.\n"
          ],
          "name": "stderr"
        },
        {
          "output_type": "stream",
          "text": [
            "\n",
            "           ds         yhat   yhat_lower   yhat_upper     y     cutoff\n",
            "0  2020-09-01   934.347069   772.831889  1095.264695   790 2020-08-31\n",
            "1  2020-09-02   921.479035   768.883319  1086.074164   620 2020-08-31\n",
            "2  2020-09-03   972.804813   814.164377  1138.727043   716 2020-08-31\n",
            "3  2020-09-04   990.232796   826.873326  1147.163436   828 2020-08-31\n",
            "4  2020-09-05   901.073340   744.719648  1057.291757   803 2020-08-31\n",
            "5  2020-09-06   747.421342   584.865056   900.796697   731 2020-08-31\n",
            "6  2020-09-07   909.759902   762.679120  1071.790701    62 2020-08-31\n",
            "7  2020-09-08  1048.878688   894.131098  1215.013288   558 2020-08-31\n",
            "8  2020-09-09   985.806479   830.442834  1133.701887   708 2020-08-31\n",
            "9  2020-09-10   984.869129   824.022740  1151.409677   717 2020-08-31\n",
            "10 2020-09-11   922.314879   765.527763  1075.664972   904 2020-08-31\n",
            "11 2020-09-12   847.248921   692.268429  1005.112826   446 2020-08-31\n",
            "12 2020-09-13   812.509749   668.595655   970.173102   830 2020-08-31\n",
            "13 2020-09-14   909.440992   746.740077  1070.630963   940 2020-08-31\n",
            "14 2020-09-15   913.483353   764.156303  1071.956555  1067 2020-08-31\n",
            "15 2020-09-16   905.365952   747.081123  1060.887488   487 2020-08-31\n",
            "16 2020-09-17   915.029250   759.617677  1073.660929   778 2020-08-31\n",
            "17 2020-09-18   868.021014   709.848043  1032.027413   758 2020-08-31\n",
            "18 2020-09-19   809.986961   662.723090   955.390462   759 2020-08-31\n",
            "19 2020-09-20   881.879130   729.359455  1036.423578   588 2020-08-31\n",
            "20 2020-09-21  1097.934314   930.851386  1252.190055  1087 2020-08-31\n",
            "21 2020-09-22  1205.618742  1050.034313  1364.679418   566 2020-08-31\n",
            "22 2020-09-23   995.082307   840.157065  1149.589983   580 2020-08-31\n",
            "23 2020-09-24   957.948926   804.401588  1120.203717   670 2020-08-31\n",
            "24 2020-09-25   884.238397   741.107929  1034.936896   774 2020-08-31\n",
            "25 2020-09-26   808.073957   650.794418   952.969485   398 2020-08-31\n",
            "26 2020-09-27   767.920097   595.694655   915.484422   532 2020-08-31\n",
            "27 2020-09-28   921.511523   766.276509  1073.370727   415 2020-08-31\n",
            "28 2020-09-29   904.626819   739.770356  1068.013934   632 2020-08-31\n",
            "29 2020-09-30   901.031407   741.633641  1063.953241   426 2020-08-31\n",
            "30 2020-10-01   935.837632   764.431421  1083.326805   773 2020-08-31\n",
            "31 2020-10-02   940.307181   790.058428  1091.867808  1066 2020-08-31\n",
            "32 2020-10-03   875.057861   722.563100  1038.083009   846 2020-08-31\n",
            "33 2020-10-04   823.575781   677.951611   977.982819   555 2020-08-31\n",
            "34 2020-10-05   954.627080   794.933277  1092.121369   483 2020-08-31\n",
            "35 2020-10-06   956.622423   794.538230  1108.087618   572 2020-08-31\n",
            "36 2020-10-07   952.400417   805.409919  1113.740888   646 2020-08-31\n",
            "37 2020-10-09  1028.337334   865.217586  1177.341238   461 2020-08-31\n",
            "38 2020-10-10   906.976527   739.721375  1059.195853   501 2020-08-31\n",
            "39 2020-10-11   874.820346   721.294535  1036.881428   573 2020-08-31\n",
            "40 2020-10-12   973.380868   811.767175  1132.448639   364 2020-08-31\n",
            "41 2020-10-13   971.475063   817.105914  1137.259000   473 2020-08-31\n",
            "42 2020-10-14   960.156007   806.003617  1116.485093   718 2020-08-31\n",
            "43 2020-10-15   988.454794   834.666511  1141.742685   415 2020-08-31\n",
            "44 2020-10-16  1038.369194   876.241823  1200.907628   619 2020-08-31\n",
            "45 2020-10-17   934.602098   782.266632  1102.985931   442 2020-08-31\n",
            "46 2020-10-18   874.085216   710.907856  1035.790786   468 2020-08-31\n",
            "47 2020-10-19  1001.673446   839.145568  1163.585464   455 2020-08-31\n",
            "48 2020-10-20  1000.580847   846.939665  1156.335199   483 2020-08-31\n",
            "49 2020-10-21   995.370440   834.782733  1160.674520   768 2020-08-31\n",
            "50 2020-10-22   992.946701   828.123402  1153.708022   699 2020-08-31\n",
            "51 2020-10-23  1000.852300   834.966147  1158.587868   662 2020-08-31\n",
            "52 2020-10-24   966.563974   803.630025  1116.199409   823 2020-08-31\n",
            "53 2020-10-25   902.519899   740.062634  1078.835017   437 2020-08-31\n",
            "54 2020-10-26  1008.153582   845.920782  1179.630225   558 2020-08-31\n",
            "55 2020-10-27  1046.755762   884.483360  1203.181613   406 2020-08-31\n",
            "56 2020-10-28  1065.730048   895.274278  1218.376028   798 2020-08-31\n",
            "57 2020-10-29   985.662442   811.272225  1147.040022   503 2020-08-31\n"
          ],
          "name": "stdout"
        }
      ]
    },
    {
      "cell_type": "code",
      "metadata": {
        "id": "EWP0v9hPJ3Pd",
        "colab": {
          "base_uri": "https://localhost:8080/"
        },
        "outputId": "7879513f-7c8f-4149-a52a-f4797f205f19"
      },
      "source": [
        "performance_metrics_results = performance_metrics(cross_validation_results)\n",
        "print(performance_metrics_results)"
      ],
      "execution_count": 29,
      "outputs": [
        {
          "output_type": "stream",
          "text": [
            "   horizon            mse        rmse         mae      mape     mdape  coverage\n",
            "0   5 days   42722.451393  206.694101  192.587411  0.269141  0.195933       0.6\n",
            "1   6 days   38609.168214  196.492158  167.002265  0.237091  0.195933       0.6\n",
            "2   7 days  164170.616690  405.179734  276.258439  2.874549  0.195933       0.6\n",
            "3   8 days  199173.251548  446.288305  323.073214  2.978758  0.195933       0.6\n",
            "4   9 days  209344.643463  457.541958  346.187950  3.018048  0.392382       0.4\n",
            "5  10 days  221771.741562  470.926472  380.147108  3.068340  0.392382       0.2\n",
            "6  11 days  221784.896422  470.940438  380.525815  3.067899  0.392382       0.2\n",
            "7  12 days  110245.665658  332.032627  291.223619  0.513122  0.392382       0.2\n",
            "8  13 days   62114.470173  249.227748  196.545932  0.341395  0.373597       0.4\n",
            "9  14 days   46865.952812  216.485456  147.096438  0.269420  0.032510       0.6\n",
            "10 15 days   37228.650921  192.947275  124.225941  0.223476  0.032510       0.8\n",
            "11 16 days   72167.577936  268.640239  204.236156  0.391238  0.143877       0.6\n",
            "12 17 days   43722.841645  209.100076  151.392222  0.246531  0.143877       0.8\n",
            "13 18 days   46082.584559  214.668546  169.898374  0.271346  0.145146       0.8\n",
            "14 19 days   46415.748009  215.443143  173.983965  0.278280  0.145146       0.8\n",
            "15 20 days   58975.264388  242.848233  202.056461  0.349463  0.176130       0.6\n",
            "16 21 days   23993.162262  154.897264  120.570134  0.179661  0.145146       0.8\n",
            "17 22 days  102060.186239  319.468600  221.088032  0.370449  0.145146       0.6\n",
            "18 23 days  134097.925841  366.193836  282.100291  0.484552  0.499794       0.4\n",
            "19 24 days  150160.908615  387.506011  329.492684  0.557071  0.499794       0.2\n",
            "20 25 days  135318.420856  367.856522  292.764537  0.485598  0.429775       0.4\n",
            "21 26 days  168926.639123  411.006860  372.592466  0.689653  0.715659       0.2\n",
            "22 27 days   98235.870503  313.426021  291.852737  0.552331  0.443459       0.2\n",
            "23 28 days  115087.990838  339.246210  310.138580  0.653301  0.443459       0.2\n",
            "24 29 days  113370.150511  336.704842  307.074159  0.653621  0.443459       0.2\n",
            "25 30 days  156070.617160  395.057739  380.032761  0.848155  1.030337       0.0\n",
            "26 31 days  127741.705923  357.409717  330.585496  0.684219  0.443459       0.2\n",
            "27 32 days  119769.784425  346.077714  308.540040  0.619109  0.431372       0.4\n",
            "28 33 days   68627.871659  261.969219  213.049308  0.381877  0.210657       0.6\n",
            "29 34 days   68189.385180  261.130973  212.239100  0.392386  0.210657       0.6\n",
            "30 35 days   67544.838205  259.893898  211.558235  0.364658  0.210657       0.6\n",
            "31 36 days   91828.500914  303.032178  255.915193  0.457010  0.483920       0.4\n",
            "32 37 days  107445.007017  327.788052  292.056712  0.528288  0.483920       0.2\n",
            "33 39 days  171650.465286  414.307211  399.712607  0.767552  0.672417       0.0\n",
            "34 40 days  190187.263379  436.104647  427.192756  0.832835  0.810332       0.0\n",
            "35 41 days  163919.947151  404.870284  393.231409  0.742891  0.672417       0.0\n",
            "36 42 days  208602.073962  456.729760  438.183098  0.943233  0.810332       0.0\n",
            "37 43 days  239521.308624  489.409142  476.598028  1.059144  1.053858       0.0\n",
            "38 44 days  186874.884843  432.290278  411.561762  0.880463  0.810332       0.0\n",
            "39 45 days  219681.576849  468.702013  445.057416  0.994760  1.053858       0.0\n",
            "40 46 days  236636.576692  486.453057  468.567185  1.024912  1.053858       0.0\n",
            "41 47 days  210898.933775  459.237339  445.211431  0.912984  1.053858       0.0\n",
            "42 48 days  194184.496623  440.663700  426.733462  0.875753  0.867703       0.0\n",
            "43 49 days  242226.961492  492.165583  487.636950  1.048596  1.114484       0.0\n",
            "44 50 days  230034.867986  479.619503  476.462160  0.986552  1.071596       0.0\n",
            "45 51 days  205200.227311  452.990317  438.062410  0.910264  1.071596       0.0\n",
            "46 52 days  173949.794492  417.072889  398.331330  0.771472  0.867703       0.0\n",
            "47 53 days  163932.930146  404.886318  384.884747  0.700303  0.511861       0.0\n",
            "48 54 days  108284.681828  329.066379  304.262852  0.494895  0.420525       0.2\n",
            "49 55 days   98048.450496  313.126892  293.850663  0.493629  0.420525       0.2\n",
            "50 56 days  128236.636605  358.101433  338.407291  0.595763  0.511861       0.2\n",
            "51 57 days  193069.293272  439.396510  407.769103  0.827301  0.806727       0.2\n",
            "52 58 days  184440.992719  429.465939  393.544653  0.792029  0.806727       0.2\n",
            "53 59 days  226911.476321  476.352261  461.364347  0.949055  0.959567       0.0\n"
          ],
          "name": "stdout"
        }
      ]
    }
  ]
}