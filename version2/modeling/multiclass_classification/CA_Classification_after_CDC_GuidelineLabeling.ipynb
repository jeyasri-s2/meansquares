{
  "nbformat": 4,
  "nbformat_minor": 0,
  "metadata": {
    "colab": {
      "name": "CA_Classification_after_CDC_GuidelineLabeling.ipynb",
      "provenance": [],
      "collapsed_sections": [],
      "toc_visible": true,
      "machine_shape": "hm",
      "include_colab_link": true
    },
    "kernelspec": {
      "name": "python3",
      "display_name": "Python 3"
    },
    "accelerator": "GPU"
  },
  "cells": [
    {
      "cell_type": "markdown",
      "metadata": {
        "id": "view-in-github",
        "colab_type": "text"
      },
      "source": [
        "<a href=\"https://colab.research.google.com/github/aarsanjani/meansquares/blob/master/version2/modeling/multiclass_classification/CA_Classification_after_CDC_GuidelineLabeling.ipynb\" target=\"_parent\"><img src=\"https://colab.research.google.com/assets/colab-badge.svg\" alt=\"Open In Colab\"/></a>"
      ]
    },
    {
      "cell_type": "markdown",
      "metadata": {
        "id": "20ZQ97FFY6Sg"
      },
      "source": [
        "# Goal:\r\n",
        "\r\n",
        "* This colab is for multi class classification of CDC guidelined labeled data for combined datasets and maryland inertia data for California State"
      ]
    },
    {
      "cell_type": "code",
      "metadata": {
        "id": "a7MiHCnA9DL2",
        "colab": {
          "base_uri": "https://localhost:8080/"
        },
        "outputId": "0d07ef61-6432-405c-ff34-219695fc79a0"
      },
      "source": [
        "from google.colab import drive\n",
        "drive.mount('/content/drive')"
      ],
      "execution_count": 52,
      "outputs": [
        {
          "output_type": "stream",
          "text": [
            "Drive already mounted at /content/drive; to attempt to forcibly remount, call drive.mount(\"/content/drive\", force_remount=True).\n"
          ],
          "name": "stdout"
        }
      ]
    },
    {
      "cell_type": "code",
      "metadata": {
        "id": "CJtDukJ2bfQo",
        "colab": {
          "base_uri": "https://localhost:8080/"
        },
        "outputId": "a579b01d-1ea5-4b16-f34c-428b4df3113a"
      },
      "source": [
        "!pip install wget\n",
        "import wget"
      ],
      "execution_count": 53,
      "outputs": [
        {
          "output_type": "stream",
          "text": [
            "Requirement already satisfied: wget in /usr/local/lib/python3.6/dist-packages (3.2)\n"
          ],
          "name": "stdout"
        }
      ]
    },
    {
      "cell_type": "code",
      "metadata": {
        "id": "82MwOI89bcAA"
      },
      "source": [
        "import pandas as pd\n",
        "import numpy as np\n",
        "import warnings\n",
        "from matplotlib import pyplot\n",
        "from pandas import Series, datetime\n",
        "from pandas.plotting import scatter_matrix, autocorrelation_plot\n",
        "from sklearn.preprocessing import StandardScaler\n",
        "from sklearn.model_selection import train_test_split, KFold, cross_val_score, GridSearchCV, TimeSeriesSplit\n",
        "from sklearn.metrics import classification_report, confusion_matrix, accuracy_score, mean_squared_error\n",
        "from sklearn.pipeline import Pipeline\n",
        "from sklearn.linear_model import LogisticRegression\n",
        "from sklearn.tree import DecisionTreeClassifier\n",
        "from sklearn.neighbors import KNeighborsClassifier\n",
        "from sklearn.discriminant_analysis import LinearDiscriminantAnalysis\n",
        "from sklearn.naive_bayes import GaussianNB\n",
        "from sklearn.svm import SVC\n",
        "from sklearn.ensemble import AdaBoostClassifier, GradientBoostingClassifier, RandomForestClassifier, ExtraTreesClassifier\n",
        "from sklearn.metrics import roc_curve, auc\n",
        "import matplotlib.pyplot as plt\n",
        "import random\n",
        "from statsmodels.graphics.tsaplots import plot_acf, plot_pacf\n",
        "from statsmodels.tsa.arima_model import ARIMA\n",
        "from xgboost import XGBClassifier\n",
        "import seaborn as sns\n",
        "import os"
      ],
      "execution_count": 54,
      "outputs": []
    },
    {
      "cell_type": "code",
      "metadata": {
        "colab": {
          "base_uri": "https://localhost:8080/"
        },
        "id": "ke2viUyjXtBW",
        "outputId": "e125e7e5-c995-47f4-cad2-38ea33033512"
      },
      "source": [
        "!ls  '/content/drive/Shared drives/CMPE 295- Master Project/projectdata-2021'"
      ],
      "execution_count": 55,
      "outputs": [
        {
          "output_type": "stream",
          "text": [
            " CA_alldatasets_Jan13.csv\n",
            " CA_CombinedData_Labeled_CDCGuideline_Jan14.csv\n",
            " CA_CombinedData_Labeled_CDCGuideline_Jan15.csv\n",
            " CA_CovidDataJan10.csv\n",
            " CA_GoogleMobilityDataJan10.csv\n",
            " CA_MarylandData_Labeled_CDCGuideline_Jan14.csv\n",
            " CA_MarylandData_Labeled_CDCGuideline_Jan15.csv\n",
            " CA_processedMarylandData_Jan11.csv\n",
            " CA_SocialDistancingDataJan10.csv\n",
            " computed_CA_mobility_data.csv\n",
            " data-mask_for_all.csv\n",
            " election_results_2021.csv\n",
            " maryland_inertia_data_allstates_Jan11.csv\n",
            " maryland_inertia_raw_dec28_2020.csv\n",
            " Mask_Rule_Jan10.csv\n",
            " NY_alldatasets_Jan13.csv\n",
            " NY_CovidDataJan10.csv\n",
            " NY_GoogleMobilityDataJan10.csv\n",
            " NY_processedMarylandData_Jan11.csv\n",
            " NY_SocialDistancingDataJan10.csv\n",
            "'Policy_Map_(Sized)_Full_Data_data.csv'\n",
            " TX_alldatasets_Jan11.csv\n",
            " TX_CovidDataJan10.csv\n",
            " TX_GoogleMobilityDataJan10.csv\n",
            " TX_processedMarylandData_Jan11.csv\n",
            " TX_processedMarylandData_Jan11.gsheet\n",
            " TX_SocialDistancingDataJan10.csv\n"
          ],
          "name": "stdout"
        }
      ]
    },
    {
      "cell_type": "markdown",
      "metadata": {
        "id": "jfqIl-jBX2Pw"
      },
      "source": [
        "# File Location"
      ]
    },
    {
      "cell_type": "code",
      "metadata": {
        "id": "LIHZLpzlX57e"
      },
      "source": [
        "location = '/content/drive/Shared drives/CMPE 295- Master Project/projectdata-2021/'"
      ],
      "execution_count": 56,
      "outputs": []
    },
    {
      "cell_type": "markdown",
      "metadata": {
        "id": "2VGeNhVWImB7"
      },
      "source": [
        "# Load Combined Labeled Dataset"
      ]
    },
    {
      "cell_type": "code",
      "metadata": {
        "id": "OhFlR49gbm2A",
        "colab": {
          "base_uri": "https://localhost:8080/",
          "height": 333
        },
        "outputId": "2bf47986-14fc-4805-bf8b-78abdba004c9"
      },
      "source": [
        "CA_combined_data = pd.read_csv(location+'CA_CombinedData_Labeled_CDCGuideline_Jan14.csv',low_memory=False)\n",
        "CA_combined_data.head()"
      ],
      "execution_count": 57,
      "outputs": [
        {
          "output_type": "execute_result",
          "data": {
            "text/html": [
              "<div>\n",
              "<style scoped>\n",
              "    .dataframe tbody tr th:only-of-type {\n",
              "        vertical-align: middle;\n",
              "    }\n",
              "\n",
              "    .dataframe tbody tr th {\n",
              "        vertical-align: top;\n",
              "    }\n",
              "\n",
              "    .dataframe thead th {\n",
              "        text-align: right;\n",
              "    }\n",
              "</style>\n",
              "<table border=\"1\" class=\"dataframe\">\n",
              "  <thead>\n",
              "    <tr style=\"text-align: right;\">\n",
              "      <th></th>\n",
              "      <th>Date</th>\n",
              "      <th>Province_State</th>\n",
              "      <th>FIPS</th>\n",
              "      <th>County Name</th>\n",
              "      <th>population</th>\n",
              "      <th>mask_rule_active</th>\n",
              "      <th>m50</th>\n",
              "      <th>m50_index</th>\n",
              "      <th>retail_and_recreation_percent_change_from_baseline</th>\n",
              "      <th>grocery_and_pharmacy_percent_change_from_baseline</th>\n",
              "      <th>parks_percent_change_from_baseline</th>\n",
              "      <th>transit_stations_percent_change_from_baseline</th>\n",
              "      <th>workplaces_percent_change_from_baseline</th>\n",
              "      <th>residential_percent_change_from_baseline</th>\n",
              "      <th>New Cases/100k population</th>\n",
              "      <th>rolling_avg_new_cases/100k</th>\n",
              "      <th>New cases</th>\n",
              "      <th>growth_label</th>\n",
              "    </tr>\n",
              "  </thead>\n",
              "  <tbody>\n",
              "    <tr>\n",
              "      <th>0</th>\n",
              "      <td>2020-03-01</td>\n",
              "      <td>California</td>\n",
              "      <td>6001</td>\n",
              "      <td>Alameda County</td>\n",
              "      <td>1671329</td>\n",
              "      <td>0</td>\n",
              "      <td>3.684</td>\n",
              "      <td>58</td>\n",
              "      <td>6.0</td>\n",
              "      <td>9.0</td>\n",
              "      <td>15.0</td>\n",
              "      <td>1.0</td>\n",
              "      <td>4.0</td>\n",
              "      <td>0.0</td>\n",
              "      <td>0.000000</td>\n",
              "      <td>0.0</td>\n",
              "      <td>0.0</td>\n",
              "      <td>minimal</td>\n",
              "    </tr>\n",
              "    <tr>\n",
              "      <th>1</th>\n",
              "      <td>2020-03-02</td>\n",
              "      <td>California</td>\n",
              "      <td>6001</td>\n",
              "      <td>Alameda County</td>\n",
              "      <td>1671329</td>\n",
              "      <td>0</td>\n",
              "      <td>6.182</td>\n",
              "      <td>98</td>\n",
              "      <td>4.0</td>\n",
              "      <td>7.0</td>\n",
              "      <td>7.0</td>\n",
              "      <td>-1.0</td>\n",
              "      <td>3.0</td>\n",
              "      <td>0.0</td>\n",
              "      <td>0.000000</td>\n",
              "      <td>0.0</td>\n",
              "      <td>0.0</td>\n",
              "      <td>minimal</td>\n",
              "    </tr>\n",
              "    <tr>\n",
              "      <th>2</th>\n",
              "      <td>2020-03-03</td>\n",
              "      <td>California</td>\n",
              "      <td>6001</td>\n",
              "      <td>Alameda County</td>\n",
              "      <td>1671329</td>\n",
              "      <td>0</td>\n",
              "      <td>6.271</td>\n",
              "      <td>100</td>\n",
              "      <td>5.0</td>\n",
              "      <td>12.0</td>\n",
              "      <td>41.0</td>\n",
              "      <td>0.0</td>\n",
              "      <td>1.0</td>\n",
              "      <td>-1.0</td>\n",
              "      <td>0.059833</td>\n",
              "      <td>0.0</td>\n",
              "      <td>1.0</td>\n",
              "      <td>minimal</td>\n",
              "    </tr>\n",
              "    <tr>\n",
              "      <th>3</th>\n",
              "      <td>2020-03-04</td>\n",
              "      <td>California</td>\n",
              "      <td>6001</td>\n",
              "      <td>Alameda County</td>\n",
              "      <td>1671329</td>\n",
              "      <td>0</td>\n",
              "      <td>6.209</td>\n",
              "      <td>99</td>\n",
              "      <td>1.0</td>\n",
              "      <td>6.0</td>\n",
              "      <td>23.0</td>\n",
              "      <td>-3.0</td>\n",
              "      <td>1.0</td>\n",
              "      <td>0.0</td>\n",
              "      <td>0.000000</td>\n",
              "      <td>0.0</td>\n",
              "      <td>0.0</td>\n",
              "      <td>minimal</td>\n",
              "    </tr>\n",
              "    <tr>\n",
              "      <th>4</th>\n",
              "      <td>2020-03-05</td>\n",
              "      <td>California</td>\n",
              "      <td>6001</td>\n",
              "      <td>Alameda County</td>\n",
              "      <td>1671329</td>\n",
              "      <td>0</td>\n",
              "      <td>6.654</td>\n",
              "      <td>106</td>\n",
              "      <td>1.0</td>\n",
              "      <td>6.0</td>\n",
              "      <td>12.0</td>\n",
              "      <td>-5.0</td>\n",
              "      <td>-1.0</td>\n",
              "      <td>1.0</td>\n",
              "      <td>0.000000</td>\n",
              "      <td>0.0</td>\n",
              "      <td>0.0</td>\n",
              "      <td>minimal</td>\n",
              "    </tr>\n",
              "  </tbody>\n",
              "</table>\n",
              "</div>"
            ],
            "text/plain": [
              "         Date Province_State  ...  New cases growth_label\n",
              "0  2020-03-01     California  ...        0.0      minimal\n",
              "1  2020-03-02     California  ...        0.0      minimal\n",
              "2  2020-03-03     California  ...        1.0      minimal\n",
              "3  2020-03-04     California  ...        0.0      minimal\n",
              "4  2020-03-05     California  ...        0.0      minimal\n",
              "\n",
              "[5 rows x 18 columns]"
            ]
          },
          "metadata": {
            "tags": []
          },
          "execution_count": 57
        }
      ]
    },
    {
      "cell_type": "markdown",
      "metadata": {
        "id": "hu17ArURhZrv"
      },
      "source": [
        "### Categorical code"
      ]
    },
    {
      "cell_type": "code",
      "metadata": {
        "id": "LWUoDOJchbcg"
      },
      "source": [
        "CA_combined_data[\"growth_label\"] = CA_combined_data[\"growth_label\"].astype('category')\n",
        "CA_combined_data[\"growth_label_cat\"] = CA_combined_data[\"growth_label\"].cat.codes"
      ],
      "execution_count": 58,
      "outputs": []
    },
    {
      "cell_type": "markdown",
      "metadata": {
        "id": "tV-xnH6ecr8A"
      },
      "source": [
        "## X_col + Y_col"
      ]
    },
    {
      "cell_type": "code",
      "metadata": {
        "id": "WRkDZZ58cw8Q",
        "colab": {
          "base_uri": "https://localhost:8080/"
        },
        "outputId": "36420621-a395-498a-aedf-d389af6e75a5"
      },
      "source": [
        "CA_combined_data.columns"
      ],
      "execution_count": 59,
      "outputs": [
        {
          "output_type": "execute_result",
          "data": {
            "text/plain": [
              "Index(['Date', 'Province_State', 'FIPS', 'County Name', 'population',\n",
              "       'mask_rule_active', 'm50', 'm50_index',\n",
              "       'retail_and_recreation_percent_change_from_baseline',\n",
              "       'grocery_and_pharmacy_percent_change_from_baseline',\n",
              "       'parks_percent_change_from_baseline',\n",
              "       'transit_stations_percent_change_from_baseline',\n",
              "       'workplaces_percent_change_from_baseline',\n",
              "       'residential_percent_change_from_baseline', 'New Cases/100k population',\n",
              "       'rolling_avg_new_cases/100k', 'New cases', 'growth_label',\n",
              "       'growth_label_cat'],\n",
              "      dtype='object')"
            ]
          },
          "metadata": {
            "tags": []
          },
          "execution_count": 59
        }
      ]
    },
    {
      "cell_type": "code",
      "metadata": {
        "id": "eS_QEVdWYd5f"
      },
      "source": [
        "# don't use it; just for reference - version 1\r\n",
        "old_col =['FIPS','retail and recreation',\r\n",
        "       'grocery and pharmacy', 'parks', 'transit stations', 'workplaces',\r\n",
        "       'residential', 'driving', 'm50', 'm50_index', 'population_density',\r\n",
        "       'mask_rule_active', 'mask_wearing_percent']"
      ],
      "execution_count": 60,
      "outputs": []
    },
    {
      "cell_type": "code",
      "metadata": {
        "id": "wxvhZ98Gb_9Y"
      },
      "source": [
        "Y_col = CA_combined_data['growth_label_cat']\n",
        "X_col = CA_combined_data[['FIPS','mask_rule_active', 'm50', 'm50_index',\n",
        "       'retail_and_recreation_percent_change_from_baseline',\n",
        "       'grocery_and_pharmacy_percent_change_from_baseline',\n",
        "       'parks_percent_change_from_baseline',\n",
        "       'transit_stations_percent_change_from_baseline',\n",
        "       'workplaces_percent_change_from_baseline',\n",
        "       'residential_percent_change_from_baseline']] #'New cases' # 'population_density'"
      ],
      "execution_count": 61,
      "outputs": []
    },
    {
      "cell_type": "markdown",
      "metadata": {
        "id": "aI5ebYzKdmAB"
      },
      "source": [
        "## Split data"
      ]
    },
    {
      "cell_type": "code",
      "metadata": {
        "id": "ZpXijblFdnpq"
      },
      "source": [
        "X_train, X_test, Y_train, Y_test = train_test_split(X_col, Y_col, test_size=0.2, random_state=1)"
      ],
      "execution_count": 62,
      "outputs": []
    },
    {
      "cell_type": "markdown",
      "metadata": {
        "id": "xfVOAV5ToBvB"
      },
      "source": [
        "## Auto ML"
      ]
    },
    {
      "cell_type": "code",
      "metadata": {
        "id": "UC9NxXrqoDiy"
      },
      "source": [
        "num_folds = 10\n",
        "seed = 7\n",
        "scoring = 'accuracy'\n",
        "\n",
        "models = []\n",
        "models.append(('LR' , LogisticRegression()))\n",
        "models.append(('LDA' , LinearDiscriminantAnalysis()))\n",
        "models.append(('KNN' , KNeighborsClassifier()))\n",
        "models.append(('CART' , DecisionTreeClassifier()))\n",
        "models.append(('NB' , GaussianNB()))\n",
        "models.append(('SVM' , SVC()))\n",
        "models.append(('RF' , RandomForestClassifier(n_estimators=50)))\n",
        "models.append(('XGBoost', XGBClassifier()))"
      ],
      "execution_count": 63,
      "outputs": []
    },
    {
      "cell_type": "code",
      "metadata": {
        "id": "YcThk6mUoPAv",
        "colab": {
          "base_uri": "https://localhost:8080/"
        },
        "outputId": "77ffcadd-d304-4377-d58b-370813728df5"
      },
      "source": [
        "results = []\n",
        "names = []\n",
        "\n",
        "'''\n",
        "for name, model in models:\n",
        "    kfold = KFold(n_splits=num_folds, random_state=42)\n",
        "    cv_results = cross_val_score(model, X_train, y_train, cv=kfold, scoring=scoring)\n",
        "    results.append(cv_results)\n",
        "    names.append(name)\n",
        "    msg = \"%s: %f (%f)\" % (name, cv_results.mean(), cv_results.std())\n",
        "    print(msg) '''\n",
        "\n",
        "for name, model in models:\n",
        "    clf = model\n",
        "    clf.fit(X_train, Y_train)\n",
        "    Y_pred = clf.predict(X_test)\n",
        "    accu_score = accuracy_score(Y_test, Y_pred)\n",
        "    print(name + \": \" + str(accu_score))"
      ],
      "execution_count": 64,
      "outputs": [
        {
          "output_type": "stream",
          "text": [
            "/usr/local/lib/python3.6/dist-packages/sklearn/linear_model/_logistic.py:940: ConvergenceWarning: lbfgs failed to converge (status=1):\n",
            "STOP: TOTAL NO. of ITERATIONS REACHED LIMIT.\n",
            "\n",
            "Increase the number of iterations (max_iter) or scale the data as shown in:\n",
            "    https://scikit-learn.org/stable/modules/preprocessing.html\n",
            "Please also refer to the documentation for alternative solver options:\n",
            "    https://scikit-learn.org/stable/modules/linear_model.html#logistic-regression\n",
            "  extra_warning_msg=_LOGISTIC_SOLVER_CONVERGENCE_MSG)\n"
          ],
          "name": "stderr"
        },
        {
          "output_type": "stream",
          "text": [
            "LR: 0.5071090047393365\n",
            "LDA: 0.6925750394944707\n",
            "KNN: 0.7074249605055293\n",
            "CART: 0.721958925750395\n",
            "NB: 0.6467614533965245\n",
            "SVM: 0.4767772511848341\n",
            "RF: 0.7898894154818326\n",
            "XGBoost: 0.7358609794628752\n"
          ],
          "name": "stdout"
        }
      ]
    },
    {
      "cell_type": "markdown",
      "metadata": {
        "id": "fWv1UjHBgLGW"
      },
      "source": [
        "# Load Inertia Labeled Dataset"
      ]
    },
    {
      "cell_type": "code",
      "metadata": {
        "id": "8L2ObORcgLGx",
        "colab": {
          "base_uri": "https://localhost:8080/",
          "height": 333
        },
        "outputId": "a990bab8-5fba-4f60-e216-b7934f0f071a"
      },
      "source": [
        "maryland_sd_inertia = pd.read_csv(location+'CA_MarylandData_Labeled_CDCGuideline_Jan14.csv',low_memory=False)\n",
        "maryland_sd_inertia.head()"
      ],
      "execution_count": 65,
      "outputs": [
        {
          "output_type": "execute_result",
          "data": {
            "text/html": [
              "<div>\n",
              "<style scoped>\n",
              "    .dataframe tbody tr th:only-of-type {\n",
              "        vertical-align: middle;\n",
              "    }\n",
              "\n",
              "    .dataframe tbody tr th {\n",
              "        vertical-align: top;\n",
              "    }\n",
              "\n",
              "    .dataframe thead th {\n",
              "        text-align: right;\n",
              "    }\n",
              "</style>\n",
              "<table border=\"1\" class=\"dataframe\">\n",
              "  <thead>\n",
              "    <tr style=\"text-align: right;\">\n",
              "      <th></th>\n",
              "      <th>County Name</th>\n",
              "      <th>State</th>\n",
              "      <th>population</th>\n",
              "      <th>CTFIPS</th>\n",
              "      <th>CTNAME</th>\n",
              "      <th>STFIPS</th>\n",
              "      <th>Social.distancing.index</th>\n",
              "      <th>X..staying.home</th>\n",
              "      <th>Trips.person</th>\n",
              "      <th>X..out.of.county.trips</th>\n",
              "      <th>X..out.of.state.trips</th>\n",
              "      <th>Miles.person</th>\n",
              "      <th>Work.trips.person</th>\n",
              "      <th>Non.work.trips.person</th>\n",
              "      <th>New.COVID.cases</th>\n",
              "      <th>Population</th>\n",
              "      <th>X..change.in.consumption</th>\n",
              "      <th>date</th>\n",
              "      <th>Transit.mode.share</th>\n",
              "      <th>X..people.older.than.60</th>\n",
              "      <th>Median.income</th>\n",
              "      <th>X..African.Americans</th>\n",
              "      <th>X..Hispanic.Americans</th>\n",
              "      <th>X..Male</th>\n",
              "      <th>Population.density</th>\n",
              "      <th>Employment.density</th>\n",
              "      <th>X..hot.spots.1000.people</th>\n",
              "      <th>Hospital.beds.1000.people</th>\n",
              "      <th>ICUs.1000.people</th>\n",
              "      <th>X..contact.tracing.workers.1000.people</th>\n",
              "      <th>New.cases.1000.people</th>\n",
              "      <th>Active.cases.1000.people</th>\n",
              "      <th>X.days..decreasing.COVID.cases</th>\n",
              "      <th>X..hospital.bed.utilization</th>\n",
              "      <th>Testing.capacity</th>\n",
              "      <th>Tests.done.1000.people</th>\n",
              "      <th>X..ICU.utilization</th>\n",
              "      <th>Ventilator.shortage</th>\n",
              "      <th>Imported.COVID.cases</th>\n",
              "      <th>COVID.exposure.1000.people</th>\n",
              "      <th>X.days..decreasing.ILI.cases</th>\n",
              "      <th>Unemployment.claims.1000.people</th>\n",
              "      <th>Unemployment.rate</th>\n",
              "      <th>X..working.from.home</th>\n",
              "      <th>Cumulative.inflation.rate</th>\n",
              "      <th>COVID.death.rate</th>\n",
              "      <th>New Cases/100k population</th>\n",
              "      <th>rolling_avg_new_cases/100k</th>\n",
              "      <th>countyFIPS</th>\n",
              "      <th>growth_label</th>\n",
              "    </tr>\n",
              "  </thead>\n",
              "  <tbody>\n",
              "    <tr>\n",
              "      <th>0</th>\n",
              "      <td>Alameda County</td>\n",
              "      <td>CA</td>\n",
              "      <td>1671329</td>\n",
              "      <td>6001</td>\n",
              "      <td>Alameda County</td>\n",
              "      <td>6</td>\n",
              "      <td>50</td>\n",
              "      <td>32</td>\n",
              "      <td>2.41</td>\n",
              "      <td>26.1</td>\n",
              "      <td>0.4</td>\n",
              "      <td>38.0</td>\n",
              "      <td>0.20</td>\n",
              "      <td>2.21</td>\n",
              "      <td>0</td>\n",
              "      <td>1666753</td>\n",
              "      <td>-21.7</td>\n",
              "      <td>2020-01-01</td>\n",
              "      <td>15.04</td>\n",
              "      <td>19</td>\n",
              "      <td>92574</td>\n",
              "      <td>10.5</td>\n",
              "      <td>22.5</td>\n",
              "      <td>49.11</td>\n",
              "      <td>2002</td>\n",
              "      <td>1155</td>\n",
              "      <td>131</td>\n",
              "      <td>2.05</td>\n",
              "      <td>0.22</td>\n",
              "      <td>0.0</td>\n",
              "      <td>0.0</td>\n",
              "      <td>0.0</td>\n",
              "      <td>0</td>\n",
              "      <td>54.0</td>\n",
              "      <td>0.0</td>\n",
              "      <td>0.0</td>\n",
              "      <td>0.0</td>\n",
              "      <td>0</td>\n",
              "      <td>0</td>\n",
              "      <td>0.0</td>\n",
              "      <td>0</td>\n",
              "      <td>0.9</td>\n",
              "      <td>3.9</td>\n",
              "      <td>5.7</td>\n",
              "      <td>0.3</td>\n",
              "      <td>0.0</td>\n",
              "      <td>0.0</td>\n",
              "      <td>0.0</td>\n",
              "      <td>6001.0</td>\n",
              "      <td>minimal</td>\n",
              "    </tr>\n",
              "    <tr>\n",
              "      <th>1</th>\n",
              "      <td>Alameda County</td>\n",
              "      <td>CA</td>\n",
              "      <td>1671329</td>\n",
              "      <td>6001</td>\n",
              "      <td>Alameda County</td>\n",
              "      <td>6</td>\n",
              "      <td>24</td>\n",
              "      <td>22</td>\n",
              "      <td>3.17</td>\n",
              "      <td>27.9</td>\n",
              "      <td>0.4</td>\n",
              "      <td>38.5</td>\n",
              "      <td>0.50</td>\n",
              "      <td>2.66</td>\n",
              "      <td>0</td>\n",
              "      <td>1666753</td>\n",
              "      <td>-5.8</td>\n",
              "      <td>2020-01-02</td>\n",
              "      <td>15.04</td>\n",
              "      <td>19</td>\n",
              "      <td>92574</td>\n",
              "      <td>10.5</td>\n",
              "      <td>22.5</td>\n",
              "      <td>49.11</td>\n",
              "      <td>2002</td>\n",
              "      <td>1155</td>\n",
              "      <td>131</td>\n",
              "      <td>2.05</td>\n",
              "      <td>0.22</td>\n",
              "      <td>0.0</td>\n",
              "      <td>0.0</td>\n",
              "      <td>0.0</td>\n",
              "      <td>0</td>\n",
              "      <td>54.0</td>\n",
              "      <td>0.0</td>\n",
              "      <td>0.0</td>\n",
              "      <td>0.0</td>\n",
              "      <td>0</td>\n",
              "      <td>0</td>\n",
              "      <td>0.0</td>\n",
              "      <td>0</td>\n",
              "      <td>0.9</td>\n",
              "      <td>3.9</td>\n",
              "      <td>5.7</td>\n",
              "      <td>0.3</td>\n",
              "      <td>0.0</td>\n",
              "      <td>0.0</td>\n",
              "      <td>0.0</td>\n",
              "      <td>6001.0</td>\n",
              "      <td>minimal</td>\n",
              "    </tr>\n",
              "    <tr>\n",
              "      <th>2</th>\n",
              "      <td>Alameda County</td>\n",
              "      <td>CA</td>\n",
              "      <td>1671329</td>\n",
              "      <td>6001</td>\n",
              "      <td>Alameda County</td>\n",
              "      <td>6</td>\n",
              "      <td>21</td>\n",
              "      <td>21</td>\n",
              "      <td>3.28</td>\n",
              "      <td>27.2</td>\n",
              "      <td>0.4</td>\n",
              "      <td>41.0</td>\n",
              "      <td>0.51</td>\n",
              "      <td>2.78</td>\n",
              "      <td>0</td>\n",
              "      <td>1666753</td>\n",
              "      <td>-1.5</td>\n",
              "      <td>2020-01-03</td>\n",
              "      <td>15.04</td>\n",
              "      <td>19</td>\n",
              "      <td>92574</td>\n",
              "      <td>10.5</td>\n",
              "      <td>22.5</td>\n",
              "      <td>49.11</td>\n",
              "      <td>2002</td>\n",
              "      <td>1155</td>\n",
              "      <td>131</td>\n",
              "      <td>2.05</td>\n",
              "      <td>0.22</td>\n",
              "      <td>0.0</td>\n",
              "      <td>0.0</td>\n",
              "      <td>0.0</td>\n",
              "      <td>0</td>\n",
              "      <td>54.0</td>\n",
              "      <td>0.0</td>\n",
              "      <td>0.0</td>\n",
              "      <td>0.0</td>\n",
              "      <td>0</td>\n",
              "      <td>0</td>\n",
              "      <td>0.0</td>\n",
              "      <td>0</td>\n",
              "      <td>0.9</td>\n",
              "      <td>3.9</td>\n",
              "      <td>5.7</td>\n",
              "      <td>0.3</td>\n",
              "      <td>0.0</td>\n",
              "      <td>0.0</td>\n",
              "      <td>0.0</td>\n",
              "      <td>6001.0</td>\n",
              "      <td>minimal</td>\n",
              "    </tr>\n",
              "    <tr>\n",
              "      <th>3</th>\n",
              "      <td>Alameda County</td>\n",
              "      <td>CA</td>\n",
              "      <td>1671329</td>\n",
              "      <td>6001</td>\n",
              "      <td>Alameda County</td>\n",
              "      <td>6</td>\n",
              "      <td>34</td>\n",
              "      <td>25</td>\n",
              "      <td>3.03</td>\n",
              "      <td>25.8</td>\n",
              "      <td>0.3</td>\n",
              "      <td>41.1</td>\n",
              "      <td>0.26</td>\n",
              "      <td>2.76</td>\n",
              "      <td>0</td>\n",
              "      <td>1666753</td>\n",
              "      <td>-2.2</td>\n",
              "      <td>2020-01-04</td>\n",
              "      <td>15.04</td>\n",
              "      <td>19</td>\n",
              "      <td>92574</td>\n",
              "      <td>10.5</td>\n",
              "      <td>22.5</td>\n",
              "      <td>49.11</td>\n",
              "      <td>2002</td>\n",
              "      <td>1155</td>\n",
              "      <td>131</td>\n",
              "      <td>2.05</td>\n",
              "      <td>0.22</td>\n",
              "      <td>0.0</td>\n",
              "      <td>0.0</td>\n",
              "      <td>0.0</td>\n",
              "      <td>0</td>\n",
              "      <td>54.0</td>\n",
              "      <td>0.0</td>\n",
              "      <td>0.0</td>\n",
              "      <td>0.0</td>\n",
              "      <td>0</td>\n",
              "      <td>0</td>\n",
              "      <td>0.0</td>\n",
              "      <td>0</td>\n",
              "      <td>0.9</td>\n",
              "      <td>3.9</td>\n",
              "      <td>5.7</td>\n",
              "      <td>0.3</td>\n",
              "      <td>0.0</td>\n",
              "      <td>0.0</td>\n",
              "      <td>0.0</td>\n",
              "      <td>6001.0</td>\n",
              "      <td>minimal</td>\n",
              "    </tr>\n",
              "    <tr>\n",
              "      <th>4</th>\n",
              "      <td>Alameda County</td>\n",
              "      <td>CA</td>\n",
              "      <td>1671329</td>\n",
              "      <td>6001</td>\n",
              "      <td>Alameda County</td>\n",
              "      <td>6</td>\n",
              "      <td>44</td>\n",
              "      <td>29</td>\n",
              "      <td>2.72</td>\n",
              "      <td>24.5</td>\n",
              "      <td>0.4</td>\n",
              "      <td>35.8</td>\n",
              "      <td>0.24</td>\n",
              "      <td>2.48</td>\n",
              "      <td>0</td>\n",
              "      <td>1666753</td>\n",
              "      <td>-12.1</td>\n",
              "      <td>2020-01-05</td>\n",
              "      <td>15.04</td>\n",
              "      <td>19</td>\n",
              "      <td>92574</td>\n",
              "      <td>10.5</td>\n",
              "      <td>22.5</td>\n",
              "      <td>49.11</td>\n",
              "      <td>2002</td>\n",
              "      <td>1155</td>\n",
              "      <td>131</td>\n",
              "      <td>2.05</td>\n",
              "      <td>0.22</td>\n",
              "      <td>0.0</td>\n",
              "      <td>0.0</td>\n",
              "      <td>0.0</td>\n",
              "      <td>0</td>\n",
              "      <td>54.0</td>\n",
              "      <td>0.0</td>\n",
              "      <td>0.0</td>\n",
              "      <td>0.0</td>\n",
              "      <td>0</td>\n",
              "      <td>0</td>\n",
              "      <td>0.0</td>\n",
              "      <td>0</td>\n",
              "      <td>1.3</td>\n",
              "      <td>3.9</td>\n",
              "      <td>5.7</td>\n",
              "      <td>0.3</td>\n",
              "      <td>0.0</td>\n",
              "      <td>0.0</td>\n",
              "      <td>0.0</td>\n",
              "      <td>6001.0</td>\n",
              "      <td>minimal</td>\n",
              "    </tr>\n",
              "  </tbody>\n",
              "</table>\n",
              "</div>"
            ],
            "text/plain": [
              "      County Name State  ...  countyFIPS  growth_label\n",
              "0  Alameda County    CA  ...      6001.0       minimal\n",
              "1  Alameda County    CA  ...      6001.0       minimal\n",
              "2  Alameda County    CA  ...      6001.0       minimal\n",
              "3  Alameda County    CA  ...      6001.0       minimal\n",
              "4  Alameda County    CA  ...      6001.0       minimal\n",
              "\n",
              "[5 rows x 50 columns]"
            ]
          },
          "metadata": {
            "tags": []
          },
          "execution_count": 65
        }
      ]
    },
    {
      "cell_type": "markdown",
      "metadata": {
        "id": "LoQNvLtcgLHA"
      },
      "source": [
        "### Categorical code"
      ]
    },
    {
      "cell_type": "code",
      "metadata": {
        "id": "KD8tWgssgLHB"
      },
      "source": [
        "maryland_sd_inertia[\"growth_label\"] = maryland_sd_inertia[\"growth_label\"].astype('category')\n",
        "maryland_sd_inertia[\"growth_label_cat\"] = maryland_sd_inertia[\"growth_label\"].cat.codes"
      ],
      "execution_count": 66,
      "outputs": []
    },
    {
      "cell_type": "code",
      "metadata": {
        "id": "Vw3sSn2H0FHs",
        "colab": {
          "base_uri": "https://localhost:8080/"
        },
        "outputId": "5afc0819-569a-45b0-98c1-83cc909ed5b2"
      },
      "source": [
        "\n",
        "pd.unique(maryland_sd_inertia[['growth_label', 'growth_label_cat']].values.ravel('K'))"
      ],
      "execution_count": 67,
      "outputs": [
        {
          "output_type": "execute_result",
          "data": {
            "text/plain": [
              "array(['minimal', 'moderate', 0, 1], dtype=object)"
            ]
          },
          "metadata": {
            "tags": []
          },
          "execution_count": 67
        }
      ]
    },
    {
      "cell_type": "markdown",
      "metadata": {
        "id": "gPSoDVH4gLHF"
      },
      "source": [
        "## X_col + Y_col"
      ]
    },
    {
      "cell_type": "code",
      "metadata": {
        "id": "5dEW8VCZgLHF",
        "colab": {
          "base_uri": "https://localhost:8080/"
        },
        "outputId": "e2aabdf4-fc98-4b6f-a689-0a5c724c604c"
      },
      "source": [
        "maryland_sd_inertia.columns"
      ],
      "execution_count": 68,
      "outputs": [
        {
          "output_type": "execute_result",
          "data": {
            "text/plain": [
              "Index(['County Name', 'State', 'population', 'CTFIPS', 'CTNAME', 'STFIPS',\n",
              "       'Social.distancing.index', 'X..staying.home', 'Trips.person',\n",
              "       'X..out.of.county.trips', 'X..out.of.state.trips', 'Miles.person',\n",
              "       'Work.trips.person', 'Non.work.trips.person', 'New.COVID.cases',\n",
              "       'Population', 'X..change.in.consumption', 'date', 'Transit.mode.share',\n",
              "       'X..people.older.than.60', 'Median.income', 'X..African.Americans',\n",
              "       'X..Hispanic.Americans', 'X..Male', 'Population.density',\n",
              "       'Employment.density', 'X..hot.spots.1000.people',\n",
              "       'Hospital.beds.1000.people', 'ICUs.1000.people',\n",
              "       'X..contact.tracing.workers.1000.people', 'New.cases.1000.people',\n",
              "       'Active.cases.1000.people', 'X.days..decreasing.COVID.cases',\n",
              "       'X..hospital.bed.utilization', 'Testing.capacity',\n",
              "       'Tests.done.1000.people', 'X..ICU.utilization', 'Ventilator.shortage',\n",
              "       'Imported.COVID.cases', 'COVID.exposure.1000.people',\n",
              "       'X.days..decreasing.ILI.cases', 'Unemployment.claims.1000.people',\n",
              "       'Unemployment.rate', 'X..working.from.home',\n",
              "       'Cumulative.inflation.rate', 'COVID.death.rate',\n",
              "       'New Cases/100k population', 'rolling_avg_new_cases/100k', 'countyFIPS',\n",
              "       'growth_label', 'growth_label_cat'],\n",
              "      dtype='object')"
            ]
          },
          "metadata": {
            "tags": []
          },
          "execution_count": 68
        }
      ]
    },
    {
      "cell_type": "code",
      "metadata": {
        "id": "QwxbMPRqarNU"
      },
      "source": [
        "#not using this; just for version-1 reference\r\n",
        "old_col =['CTFIPS','Social distancing index', '% staying home', 'Trips/person',\r\n",
        "       '% out-of-county trips', '% out-of-state trips', 'Miles/person',\r\n",
        "       'Work trips/person', 'Non-work trips/person','Population','Transit mode share',\r\n",
        "       '% people older than 60', 'Median income', '% African Americans',\r\n",
        "       '% Hispanic Americans', '% Male', 'Population density',\r\n",
        "       'Employment density', '# hot spots/1000 people',\r\n",
        "       'Hospital beds/1000 people', 'ICUs/1000 people',\r\n",
        "       '# contact tracing workers/1000 people','% hospital bed utilization', 'Testing capacity',\r\n",
        "       'Tests done/1000 people', '% ICU utilization', 'Ventilator shortage',\r\n",
        "       'Imported COVID cases', 'COVID exposure/1000 people',\r\n",
        "       '#days: decreasing ILI cases', 'Unemployment claims/1000 people',\r\n",
        "       'Unemployment rate', '% working from home', 'Cumulative inflation rate']"
      ],
      "execution_count": 69,
      "outputs": []
    },
    {
      "cell_type": "code",
      "metadata": {
        "id": "Kc7EVKfFgLHI"
      },
      "source": [
        "Y_col = maryland_sd_inertia['growth_label_cat']\n",
        "X_col = maryland_sd_inertia[['CTFIPS','Social.distancing.index', 'X..staying.home', 'Trips.person',\n",
        "       'X..out.of.county.trips', 'X..out.of.state.trips', 'Miles.person',\n",
        "       'Work.trips.person', 'Non.work.trips.person', 'New.COVID.cases',\n",
        "       'Population', 'X..change.in.consumption', 'Transit.mode.share',\n",
        "       'X..people.older.than.60', 'Median.income', 'X..African.Americans',\n",
        "       'X..Hispanic.Americans', 'X..Male', 'Population.density',\n",
        "       'Employment.density', 'X..hot.spots.1000.people',\n",
        "       'Hospital.beds.1000.people', 'ICUs.1000.people',\n",
        "       'X..contact.tracing.workers.1000.people', 'New.cases.1000.people',\n",
        "       'Active.cases.1000.people', 'X.days..decreasing.COVID.cases',\n",
        "       'X..hospital.bed.utilization', 'Testing.capacity',\n",
        "       'Tests.done.1000.people', 'X..ICU.utilization', 'Ventilator.shortage',\n",
        "       'Imported.COVID.cases', 'COVID.exposure.1000.people',\n",
        "       'X.days..decreasing.ILI.cases', 'Unemployment.claims.1000.people',\n",
        "       'Unemployment.rate', 'X..working.from.home','Cumulative.inflation.rate']]"
      ],
      "execution_count": 70,
      "outputs": []
    },
    {
      "cell_type": "markdown",
      "metadata": {
        "id": "c9JKhlM5gLHL"
      },
      "source": [
        "## Split data"
      ]
    },
    {
      "cell_type": "code",
      "metadata": {
        "id": "BXijClxlgLHL"
      },
      "source": [
        "X_train, X_test, Y_train, Y_test = train_test_split(X_col, Y_col, test_size=0.2, random_state=1)"
      ],
      "execution_count": 71,
      "outputs": []
    },
    {
      "cell_type": "markdown",
      "metadata": {
        "id": "QL924HZ_gLHN"
      },
      "source": [
        "## Auto ML- Model with Evaluation"
      ]
    },
    {
      "cell_type": "code",
      "metadata": {
        "id": "XnngsZHRgLHO"
      },
      "source": [
        "num_folds = 10\n",
        "seed = 7\n",
        "scoring = 'accuracy'\n",
        "\n",
        "models = []\n",
        "models.append(('LR' , LogisticRegression()))\n",
        "models.append(('LDA' , LinearDiscriminantAnalysis()))\n",
        "models.append(('KNN' , KNeighborsClassifier()))\n",
        "models.append(('CART' , DecisionTreeClassifier()))\n",
        "models.append(('NB' , GaussianNB()))\n",
        "#models.append(('SVM' , SVC()))\n",
        "models.append(('RF' , RandomForestClassifier(n_estimators=50)))\n",
        "models.append(('XGBoost', XGBClassifier()))"
      ],
      "execution_count": 72,
      "outputs": []
    },
    {
      "cell_type": "code",
      "metadata": {
        "id": "cal0nOjZgLHQ",
        "colab": {
          "base_uri": "https://localhost:8080/"
        },
        "outputId": "b45d2fac-e436-416e-abde-2221b374fd50"
      },
      "source": [
        "results = []\n",
        "names = []\n",
        "\n",
        "'''\n",
        "for name, model in models:\n",
        "    kfold = KFold(n_splits=num_folds, random_state=42)\n",
        "    cv_results = cross_val_score(model, X_train, y_train, cv=kfold, scoring=scoring)\n",
        "    results.append(cv_results)\n",
        "    names.append(name)\n",
        "    msg = \"%s: %f (%f)\" % (name, cv_results.mean(), cv_results.std())\n",
        "    print(msg) '''\n",
        "\n",
        "for name, model in models:\n",
        "    clf = model\n",
        "    clf.fit(X_train, Y_train)\n",
        "    Y_pred = clf.predict(X_test)\n",
        "    accu_score = accuracy_score(Y_test, Y_pred)\n",
        "    print(name + \": \" + str(accu_score))\n",
        "\n",
        "   "
      ],
      "execution_count": 73,
      "outputs": [
        {
          "output_type": "stream",
          "text": [
            "/usr/local/lib/python3.6/dist-packages/sklearn/linear_model/_logistic.py:940: ConvergenceWarning: lbfgs failed to converge (status=1):\n",
            "STOP: TOTAL NO. of ITERATIONS REACHED LIMIT.\n",
            "\n",
            "Increase the number of iterations (max_iter) or scale the data as shown in:\n",
            "    https://scikit-learn.org/stable/modules/preprocessing.html\n",
            "Please also refer to the documentation for alternative solver options:\n",
            "    https://scikit-learn.org/stable/modules/linear_model.html#logistic-regression\n",
            "  extra_warning_msg=_LOGISTIC_SOLVER_CONVERGENCE_MSG)\n"
          ],
          "name": "stderr"
        },
        {
          "output_type": "stream",
          "text": [
            "LR: 0.9620042745191166\n",
            "LDA: 0.9883638090714795\n",
            "KNN: 0.994538114462123\n",
            "CART: 1.0\n",
            "NB: 0.9451436713369746\n",
            "RF: 1.0\n",
            "XGBoost: 1.0\n"
          ],
          "name": "stdout"
        }
      ]
    },
    {
      "cell_type": "markdown",
      "metadata": {
        "id": "4BhgPxzj2ISn"
      },
      "source": [
        "## Random Forest- Model with Evaluation"
      ]
    },
    {
      "cell_type": "code",
      "metadata": {
        "id": "4kotPiwM2ISt"
      },
      "source": [
        "num_folds = 10\n",
        "seed = 7\n",
        "scoring = 'accuracy'\n",
        "\n",
        "models = []\n",
        "#models.append(('LR' , LogisticRegression()))\n",
        "#models.append(('LDA' , LinearDiscriminantAnalysis()))\n",
        "#models.append(('KNN' , KNeighborsClassifier()))\n",
        "#models.append(('CART' , DecisionTreeClassifier()))\n",
        "#models.append(('NB' , GaussianNB()))\n",
        "#models.append(('SVM' , SVC()))\n",
        "models.append(('RF' , RandomForestClassifier(n_estimators=50)))\n",
        "#models.append(('XGBoost', XGBClassifier()))"
      ],
      "execution_count": 74,
      "outputs": []
    },
    {
      "cell_type": "markdown",
      "metadata": {
        "id": "LTdlAEkr6_62"
      },
      "source": [
        "https://towardsdatascience.com/confusion-matrix-for-your-multi-class-machine-learning-model-ff9aa3bf7826"
      ]
    },
    {
      "cell_type": "code",
      "metadata": {
        "id": "6Q1-_jNW2IS7",
        "colab": {
          "base_uri": "https://localhost:8080/"
        },
        "outputId": "6cab365b-61b9-4fdc-d100-2f0f404697de"
      },
      "source": [
        "results = []\n",
        "names = []\n",
        "\n",
        "'''\n",
        "for name, model in models:\n",
        "    kfold = KFold(n_splits=num_folds, random_state=42)\n",
        "    cv_results = cross_val_score(model, X_train, y_train, cv=kfold, scoring=scoring)\n",
        "    results.append(cv_results)\n",
        "    names.append(name)\n",
        "    msg = \"%s: %f (%f)\" % (name, cv_results.mean(), cv_results.std())\n",
        "    print(msg) '''\n",
        "\n",
        "for name, model in models:\n",
        "    clf = model\n",
        "    clf.fit(X_train, Y_train)\n",
        "    Y_pred = clf.predict(X_test)\n",
        "    accu_score = accuracy_score(Y_test, Y_pred)\n",
        "    print(name + \": \" + str(accu_score))\n",
        "\n",
        "    #importing confusion matrix\n",
        "    from sklearn.metrics import confusion_matrix\n",
        "    confusion = confusion_matrix(Y_test, Y_pred)\n",
        "    print('Confusion Matrix\\n')\n",
        "    print(confusion)\n",
        "\n",
        "    #importing accuracy_score, precision_score, recall_score, f1_score\n",
        "    from sklearn.metrics import accuracy_score, precision_score, recall_score, f1_score\n",
        "    print('\\nAccuracy: {:.2f}\\n'.format(accuracy_score(Y_test, Y_pred)))\n",
        "\n",
        "    print('Micro Precision: {:.2f}'.format(precision_score(Y_test, Y_pred, average='micro')))\n",
        "    print('Micro Recall: {:.2f}'.format(recall_score(Y_test, Y_pred, average='micro')))\n",
        "    print('Micro F1-score: {:.2f}\\n'.format(f1_score(Y_test, Y_pred, average='micro')))\n",
        "\n",
        "    print('Macro Precision: {:.2f}'.format(precision_score(Y_test, Y_pred, average='macro')))\n",
        "    print('Macro Recall: {:.2f}'.format(recall_score(Y_test, Y_pred, average='macro')))\n",
        "    print('Macro F1-score: {:.2f}\\n'.format(f1_score(Y_test, Y_pred, average='macro')))\n",
        "\n",
        "    print('Weighted Precision: {:.2f}'.format(precision_score(Y_test, Y_pred, average='weighted')))\n",
        "    print('Weighted Recall: {:.2f}'.format(recall_score(Y_test, Y_pred, average='weighted')))\n",
        "    print('Weighted F1-score: {:.2f}'.format(f1_score(Y_test, Y_pred, average='weighted')))\n",
        "\n",
        "    from sklearn.metrics import classification_report\n",
        "    print('\\nClassification Report\\n')\n",
        "    #giving error-check later\n",
        "    #print(classification_report(Y_test, Y_pred, target_names=['class1: minimal', 'class2: moderate', 'class3: substantial', 'class4: widespread']))"
      ],
      "execution_count": 75,
      "outputs": [
        {
          "output_type": "stream",
          "text": [
            "RF: 1.0\n",
            "Confusion Matrix\n",
            "\n",
            "[[2163    0]\n",
            " [   0 2048]]\n",
            "\n",
            "Accuracy: 1.00\n",
            "\n",
            "Micro Precision: 1.00\n",
            "Micro Recall: 1.00\n",
            "Micro F1-score: 1.00\n",
            "\n",
            "Macro Precision: 1.00\n",
            "Macro Recall: 1.00\n",
            "Macro F1-score: 1.00\n",
            "\n",
            "Weighted Precision: 1.00\n",
            "Weighted Recall: 1.00\n",
            "Weighted F1-score: 1.00\n",
            "\n",
            "Classification Report\n",
            "\n"
          ],
          "name": "stdout"
        }
      ]
    }
  ]
}