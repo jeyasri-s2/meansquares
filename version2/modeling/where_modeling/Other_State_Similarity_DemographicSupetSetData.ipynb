{
  "nbformat": 4,
  "nbformat_minor": 0,
  "metadata": {
    "colab": {
      "name": "Other_State_Similarity_DemographicSupetSetData.ipynb",
      "provenance": [],
      "collapsed_sections": [
        "T654a74ieSSx",
        "UHx9oTFxxSkb",
        "SAYFFr0j37Vj",
        "Mj2icEW7xuZR",
        "asqXUIJ_HNWv"
      ],
      "toc_visible": true,
      "machine_shape": "hm",
      "include_colab_link": true
    },
    "kernelspec": {
      "name": "python3",
      "display_name": "Python 3"
    },
    "accelerator": "TPU"
  },
  "cells": [
    {
      "cell_type": "markdown",
      "metadata": {
        "id": "view-in-github",
        "colab_type": "text"
      },
      "source": [
        "<a href=\"https://colab.research.google.com/github/aarsanjani/meansquares/blob/master/version2/modeling/where_modeling/Other_State_Similarity_DemographicSupetSetData.ipynb\" target=\"_parent\"><img src=\"https://colab.research.google.com/assets/colab-badge.svg\" alt=\"Open In Colab\"/></a>"
      ]
    },
    {
      "cell_type": "markdown",
      "metadata": {
        "id": "I1GiiKEAklnj"
      },
      "source": [
        "# Goal\n",
        "\n",
        "This colab is for KNN similarity \n",
        "* to find the counties from Oregon, that are similar to CA widespread counties\n",
        "*  California (West-side), Wisconsin (mid-west), Texas (south central), and New York (middle Atlantic).  \n",
        "* Texas(TX)-Arkansas (AR)\n",
        "* New York (NY)-New Jersey (NJ)\n",
        "* Wisconsin(WI) -Iowa(IA)\n"
      ]
    },
    {
      "cell_type": "markdown",
      "metadata": {
        "id": "FU90auh8nSS_"
      },
      "source": [
        "# Mount drive"
      ]
    },
    {
      "cell_type": "code",
      "metadata": {
        "colab": {
          "base_uri": "https://localhost:8080/"
        },
        "id": "gQmt77GRkUtY",
        "outputId": "466a5fd6-0859-4f8a-fcf9-636c4da4a0b2"
      },
      "source": [
        "from google.colab import drive\n",
        "drive.mount('/content/drive',force_remount=True)"
      ],
      "execution_count": null,
      "outputs": [
        {
          "output_type": "stream",
          "text": [
            "Mounted at /content/drive\n"
          ],
          "name": "stdout"
        }
      ]
    },
    {
      "cell_type": "code",
      "metadata": {
        "id": "SAUrQ8v8mLJl"
      },
      "source": [
        "import os\n",
        "os.environ[\"TF_CPP_MIN_LOG_LEVEL\"]=\"2\"\n",
        "import warnings; warnings.simplefilter('ignore')"
      ],
      "execution_count": null,
      "outputs": []
    },
    {
      "cell_type": "code",
      "metadata": {
        "id": "rkeD0QHlkw6d"
      },
      "source": [
        "#drive.flush_and_unmount(600000)"
      ],
      "execution_count": null,
      "outputs": []
    },
    {
      "cell_type": "code",
      "metadata": {
        "id": "DpKb85STmNrk",
        "colab": {
          "base_uri": "https://localhost:8080/"
        },
        "outputId": "8afad971-2e9d-4779-b947-5e9f448b09b4"
      },
      "source": [
        "!ls '/content/drive/Shared drives/CMPE 295- Master Project/projectdata-2021'"
      ],
      "execution_count": null,
      "outputs": [
        {
          "output_type": "stream",
          "text": [
            " All_CovidDataFeb20.csv\n",
            " alldatasets_Feb20.csv\n",
            " alldatasets_Mar26.csv\n",
            " All_GoogleMobilityDataFeb20.csv\n",
            " All_SocialDistancingDataFeb20.csv\n",
            " AllStates_Superset_dataset_Feb20.csv\n",
            " AllStates_Superset_dataset_Feb21.csv\n",
            " AllStates_Superset_dataset_Mar26.csv\n",
            " CA_alldatasets_Feb05.csv\n",
            " CA_alldatasets_Jan13.csv\n",
            " CA_CombinedData_Labeled_CDCGuideline_Feb05.csv\n",
            " CA_CombinedData_Labeled_CDCGuideline_Feb06.csv\n",
            " CA_CombinedData_Labeled_CDCGuideline_Jan15.csv\n",
            " CA_combined_Feb04.csv\n",
            " CA_CovidDataJan10.csv\n",
            " CA_dataset_Feb11.csv\n",
            " CA_GoogleMobilityDataJan10.csv\n",
            " CA_MarylandData_Labeled_CDCGuideline_Feb05.csv\n",
            " CA_MarylandData_Labeled_CDCGuideline_Feb06.csv\n",
            " CA_MarylandData_Labeled_CDCGuideline_Jan15.csv\n",
            " CA_processedMarylandData_Feb04.csv\n",
            " CA_processedMarylandData_Feb05.csv\n",
            " CA_processedMarylandData_Feb12.csv\n",
            " CA_processedMarylandData_Jan11.csv\n",
            " CA_SocialDistancingDataJan10.csv\n",
            " CA_socialDistancingInertiaData_Feb04.csv\n",
            " CA_SuperData_Labeled_CDCGuideline_Feb13.csv\n",
            " CA_SuperData_Labeled_Guideline_Feb26.csv\n",
            " CA_Superset_bins_dataset_Feb20.csv\n",
            " CA_Superset_dataset_Feb12.csv\n",
            " computed_CA_mobility_data.csv\n",
            " data-mask_for_all.csv\n",
            " election_results_2021.csv\n",
            " maryland_inertia_data_allstates_Feb04.csv\n",
            " maryland_inertia_data_allstates_Feb05.csv\n",
            " maryland_inertia_data_allstates_Feb12.csv\n",
            " maryland_inertia_data_allstates_Jan11.csv\n",
            " maryland_inertia_raw_dec28_2020.csv\n",
            " Mask_Rule_Feb05.csv\n",
            " Mask_Rule_Feb20.csv\n",
            " Mask_Rule_Jan10.csv\n",
            " models\n",
            " NY_alldatasets_Jan13.csv\n",
            " NY_CombinedData_Labeled_CDCGuideline_Feb07.csv\n",
            " NY_CombinedData_Labeled_CDCGuideline_Jan15.csv\n",
            " NY_CovidDataJan10.csv\n",
            " NY_GoogleMobilityDataJan10.csv\n",
            " NY_MarylandData_Labeled_CDCGuideline_Feb07.csv\n",
            " NY_MarylandData_Labeled_CDCGuideline_Jan15.csv\n",
            " NY_processedMarylandData_Feb04.csv\n",
            " NY_processedMarylandData_Feb12.csv\n",
            " NY_processedMarylandData_Jan11.csv\n",
            " NY_prophet_bayesian_results_Mar29.csv\n",
            " NY_prophet_estimates_Mar28.csv\n",
            " NY_SocialDistancingDataJan10.csv\n",
            " oregon_total.csv\n",
            " oregon_validation.csv\n",
            " OR_prophet_bayesian_results_Mar26.csv\n",
            " OR_prophet_bayesian_results_Mar29.csv\n",
            " OR_prophet_estimates_Mar26.csv\n",
            " OR_prophet_estimates_Mar28.csv\n",
            " OR_SuperData_demographic_Mar09.csv\n",
            " OR_SuperData_demographic_Mar26.csv\n",
            " OR_SuperData_With_Demographic_SimilarityScore_Mar06.csv\n",
            " OR_SuperData_With_Demographic_SimilarityScore_Mar08.csv\n",
            " OR_SuperData_With_SimilarityScore_Feb24.csv\n",
            " OR_SuperData_With_SimilarityScore_Mar04.csv\n",
            " OR_SuperData_With_SimilarityScore_Mar26.csv\n",
            " OR_Superset_bins_dataset_Feb20.csv\n",
            " OR_Superset_bins_dataset_Feb21.csv\n",
            " OR_Superset_bins_dataset_Mar03.csv\n",
            " OR_Superset_bins_dataset_Mar04.csv\n",
            " OR_Superset_bins_dataset_Mar26.csv\n",
            "'Policy_Map_(Sized)_Full_Data_data.csv'\n",
            " population-density\n",
            " TX_alldatasets_Jan11.csv\n",
            " TX_CombinedData_Labeled_CDCGuideline_Feb07.csv\n",
            " TX_CombinedData_Labeled_CDCGuideline_Jan15.csv\n",
            " TX_CovidDataJan10.csv\n",
            " TX_GoogleMobilityDataJan10.csv\n",
            " TX_MarylandData_Labeled_CDCGuideline_Feb07.csv\n",
            " TX_MarylandData_Labeled_CDCGuideline_Jan15.csv\n",
            " TX_processedMarylandData_Feb04.csv\n",
            " TX_processedMarylandData_Feb12.csv\n",
            " TX_processedMarylandData_Jan11.csv\n",
            " TX_processedMarylandData_Jan11.gsheet\n",
            " TX_prophet_bayesian_results_Mar29.csv\n",
            " TX_prophet_estimates_Mar29.csv\n",
            " TX_SocialDistancingDataJan10.csv\n",
            " WI_alldatasets_Feb07.csv\n",
            " WI_CovidDataFeb07.csv\n",
            " WI_GoogleMobilityDataFeb07.csv\n",
            " WI_maryland_inertia_data_allstates_Feb07.csv\n",
            " WI_processedMarylandData_Feb07.csv\n",
            " WI_SocialDistancingDataFeb07.csv\n"
          ],
          "name": "stdout"
        }
      ]
    },
    {
      "cell_type": "markdown",
      "metadata": {
        "id": "dNXkM53vnQHE"
      },
      "source": [
        "# Import package"
      ]
    },
    {
      "cell_type": "code",
      "metadata": {
        "id": "Pv27zOJmnMDc"
      },
      "source": [
        "import pandas as pd\n",
        "import seaborn as sns\n",
        "from sklearn import preprocessing\n",
        "from sklearn.model_selection import train_test_split\n",
        "\n",
        "from sklearn.preprocessing import LabelEncoder\n",
        "from sklearn.preprocessing import StandardScaler as ss\n",
        "import itertools\n",
        "from scipy import linalg\n",
        "from sklearn.ensemble import RandomForestClassifier\n",
        "from sklearn.tree import export_graphviz\n",
        "import numpy as np\n",
        "import matplotlib.pyplot as plt\n",
        "from tqdm import tqdm"
      ],
      "execution_count": null,
      "outputs": []
    },
    {
      "cell_type": "markdown",
      "metadata": {
        "id": "Z0g0J8_u2ltx"
      },
      "source": [
        "# Pipeline"
      ]
    },
    {
      "cell_type": "code",
      "metadata": {
        "id": "x0kDdYZY2pDX"
      },
      "source": [
        "base_state= \"Wisconsin\"\n",
        "similar_state= \"Iowa\"\n",
        "similar_state_initial = 'IA'"
      ],
      "execution_count": null,
      "outputs": []
    },
    {
      "cell_type": "markdown",
      "metadata": {
        "id": "KqaBJN4WvOHU"
      },
      "source": [
        "# Load Oregon Superset Data from All states csv"
      ]
    },
    {
      "cell_type": "code",
      "metadata": {
        "id": "p2oCzVZ3vEVH",
        "colab": {
          "base_uri": "https://localhost:8080/",
          "height": 194
        },
        "outputId": "aa7ac164-2269-4570-f92c-bf21f26dbb5c"
      },
      "source": [
        "location = '/content/drive/Shared drives/CMPE 295- Master Project/projectdata-2021/'\n",
        "all_states_data = pd.read_csv(location+'AllStates_Superset_dataset_Mar26.csv', low_memory=False)\n",
        "all_states_data.head(2)"
      ],
      "execution_count": null,
      "outputs": [
        {
          "output_type": "execute_result",
          "data": {
            "text/html": [
              "<div>\n",
              "<style scoped>\n",
              "    .dataframe tbody tr th:only-of-type {\n",
              "        vertical-align: middle;\n",
              "    }\n",
              "\n",
              "    .dataframe tbody tr th {\n",
              "        vertical-align: top;\n",
              "    }\n",
              "\n",
              "    .dataframe thead th {\n",
              "        text-align: right;\n",
              "    }\n",
              "</style>\n",
              "<table border=\"1\" class=\"dataframe\">\n",
              "  <thead>\n",
              "    <tr style=\"text-align: right;\">\n",
              "      <th></th>\n",
              "      <th>Date</th>\n",
              "      <th>Province_State</th>\n",
              "      <th>FIPS</th>\n",
              "      <th>New cases</th>\n",
              "      <th>County Name</th>\n",
              "      <th>mask_rule_severity</th>\n",
              "      <th>m50</th>\n",
              "      <th>m50_index</th>\n",
              "      <th>retail_and_recreation_percent_change_from_baseline</th>\n",
              "      <th>grocery_and_pharmacy_percent_change_from_baseline</th>\n",
              "      <th>parks_percent_change_from_baseline</th>\n",
              "      <th>transit_stations_percent_change_from_baseline</th>\n",
              "      <th>workplaces_percent_change_from_baseline</th>\n",
              "      <th>residential_percent_change_from_baseline</th>\n",
              "      <th>PopDensity</th>\n",
              "      <th>State_Name</th>\n",
              "      <th>Social.distancing.index</th>\n",
              "      <th>X..staying.home</th>\n",
              "      <th>Trips.person</th>\n",
              "      <th>X..out.of.county.trips</th>\n",
              "      <th>X..out.of.state.trips</th>\n",
              "      <th>Miles.person</th>\n",
              "      <th>Work.trips.person</th>\n",
              "      <th>Non.work.trips.person</th>\n",
              "      <th>New.COVID.cases</th>\n",
              "      <th>Population</th>\n",
              "      <th>X..change.in.consumption</th>\n",
              "      <th>Transit.mode.share</th>\n",
              "      <th>X..people.older.than.60</th>\n",
              "      <th>Median.income</th>\n",
              "      <th>X..African.Americans</th>\n",
              "      <th>X..Hispanic.Americans</th>\n",
              "      <th>X..Male</th>\n",
              "      <th>Employment.density</th>\n",
              "      <th>X..hot.spots.1000.people</th>\n",
              "      <th>Hospital.beds.1000.people</th>\n",
              "      <th>ICUs.1000.people</th>\n",
              "      <th>X..contact.tracing.workers.1000.people</th>\n",
              "      <th>New.cases.1000.people</th>\n",
              "      <th>Active.cases.1000.people</th>\n",
              "      <th>X.days..decreasing.COVID.cases</th>\n",
              "      <th>X..hospital.bed.utilization</th>\n",
              "      <th>Testing.capacity</th>\n",
              "      <th>Tests.done.1000.people</th>\n",
              "      <th>X..ICU.utilization</th>\n",
              "      <th>Ventilator.shortage</th>\n",
              "      <th>Imported.COVID.cases</th>\n",
              "      <th>COVID.exposure.1000.people</th>\n",
              "      <th>X.days..decreasing.ILI.cases</th>\n",
              "      <th>Unemployment.claims.1000.people</th>\n",
              "      <th>Unemployment.rate</th>\n",
              "      <th>X..working.from.home</th>\n",
              "      <th>Cumulative.inflation.rate</th>\n",
              "      <th>COVID.death.rate</th>\n",
              "      <th>New Cases/100k population</th>\n",
              "      <th>rolling_avg_new_cases/100k</th>\n",
              "    </tr>\n",
              "  </thead>\n",
              "  <tbody>\n",
              "    <tr>\n",
              "      <th>0</th>\n",
              "      <td>2020-03-01</td>\n",
              "      <td>Alabama</td>\n",
              "      <td>1001</td>\n",
              "      <td>0</td>\n",
              "      <td>Autauga County</td>\n",
              "      <td>0.0</td>\n",
              "      <td>7.194</td>\n",
              "      <td>49</td>\n",
              "      <td>15.0</td>\n",
              "      <td>13.0</td>\n",
              "      <td>0.0</td>\n",
              "      <td>0.0</td>\n",
              "      <td>3.0</td>\n",
              "      <td>0.0</td>\n",
              "      <td>35.853419</td>\n",
              "      <td>Alabama</td>\n",
              "      <td>35</td>\n",
              "      <td>22</td>\n",
              "      <td>2.81</td>\n",
              "      <td>41.6</td>\n",
              "      <td>1.0</td>\n",
              "      <td>32.9</td>\n",
              "      <td>0.26</td>\n",
              "      <td>2.55</td>\n",
              "      <td>0</td>\n",
              "      <td>55601</td>\n",
              "      <td>-1.2</td>\n",
              "      <td>0.11</td>\n",
              "      <td>19</td>\n",
              "      <td>58786</td>\n",
              "      <td>19.0</td>\n",
              "      <td>2.8</td>\n",
              "      <td>48.68</td>\n",
              "      <td>19</td>\n",
              "      <td>101</td>\n",
              "      <td>3.79</td>\n",
              "      <td>0.33</td>\n",
              "      <td>0.025</td>\n",
              "      <td>0.0</td>\n",
              "      <td>0.0</td>\n",
              "      <td>37</td>\n",
              "      <td>47.1</td>\n",
              "      <td>0.0</td>\n",
              "      <td>0.0</td>\n",
              "      <td>0.0</td>\n",
              "      <td>0</td>\n",
              "      <td>0</td>\n",
              "      <td>0.0</td>\n",
              "      <td>28</td>\n",
              "      <td>0.4</td>\n",
              "      <td>3.5</td>\n",
              "      <td>3.2</td>\n",
              "      <td>0.3</td>\n",
              "      <td>0.0</td>\n",
              "      <td>0.0</td>\n",
              "      <td>0.0</td>\n",
              "    </tr>\n",
              "    <tr>\n",
              "      <th>1</th>\n",
              "      <td>2020-03-02</td>\n",
              "      <td>Alabama</td>\n",
              "      <td>1001</td>\n",
              "      <td>0</td>\n",
              "      <td>Autauga County</td>\n",
              "      <td>0.0</td>\n",
              "      <td>14.587</td>\n",
              "      <td>100</td>\n",
              "      <td>15.0</td>\n",
              "      <td>4.0</td>\n",
              "      <td>0.0</td>\n",
              "      <td>0.0</td>\n",
              "      <td>5.0</td>\n",
              "      <td>-1.0</td>\n",
              "      <td>35.853419</td>\n",
              "      <td>Alabama</td>\n",
              "      <td>11</td>\n",
              "      <td>13</td>\n",
              "      <td>3.33</td>\n",
              "      <td>40.9</td>\n",
              "      <td>0.5</td>\n",
              "      <td>42.0</td>\n",
              "      <td>0.80</td>\n",
              "      <td>2.53</td>\n",
              "      <td>0</td>\n",
              "      <td>55601</td>\n",
              "      <td>-1.9</td>\n",
              "      <td>0.11</td>\n",
              "      <td>19</td>\n",
              "      <td>58786</td>\n",
              "      <td>19.0</td>\n",
              "      <td>2.8</td>\n",
              "      <td>48.68</td>\n",
              "      <td>19</td>\n",
              "      <td>101</td>\n",
              "      <td>3.79</td>\n",
              "      <td>0.33</td>\n",
              "      <td>0.025</td>\n",
              "      <td>0.0</td>\n",
              "      <td>0.0</td>\n",
              "      <td>38</td>\n",
              "      <td>47.1</td>\n",
              "      <td>0.0</td>\n",
              "      <td>0.0</td>\n",
              "      <td>0.0</td>\n",
              "      <td>0</td>\n",
              "      <td>0</td>\n",
              "      <td>0.0</td>\n",
              "      <td>28</td>\n",
              "      <td>0.4</td>\n",
              "      <td>3.5</td>\n",
              "      <td>3.2</td>\n",
              "      <td>0.3</td>\n",
              "      <td>0.0</td>\n",
              "      <td>0.0</td>\n",
              "      <td>0.0</td>\n",
              "    </tr>\n",
              "  </tbody>\n",
              "</table>\n",
              "</div>"
            ],
            "text/plain": [
              "         Date  ... rolling_avg_new_cases/100k\n",
              "0  2020-03-01  ...                        0.0\n",
              "1  2020-03-02  ...                        0.0\n",
              "\n",
              "[2 rows x 56 columns]"
            ]
          },
          "metadata": {
            "tags": []
          },
          "execution_count": 183
        }
      ]
    },
    {
      "cell_type": "code",
      "metadata": {
        "colab": {
          "base_uri": "https://localhost:8080/",
          "height": 194
        },
        "id": "1fCgeSI3wQmq",
        "outputId": "1d1f2f2a-ce46-4c68-e432-5fa7f6ac0583"
      },
      "source": [
        "OR_superset_data = all_states_data[all_states_data['Province_State'] == similar_state]\n",
        "OR_superset_data.head(2)"
      ],
      "execution_count": null,
      "outputs": [
        {
          "output_type": "execute_result",
          "data": {
            "text/html": [
              "<div>\n",
              "<style scoped>\n",
              "    .dataframe tbody tr th:only-of-type {\n",
              "        vertical-align: middle;\n",
              "    }\n",
              "\n",
              "    .dataframe tbody tr th {\n",
              "        vertical-align: top;\n",
              "    }\n",
              "\n",
              "    .dataframe thead th {\n",
              "        text-align: right;\n",
              "    }\n",
              "</style>\n",
              "<table border=\"1\" class=\"dataframe\">\n",
              "  <thead>\n",
              "    <tr style=\"text-align: right;\">\n",
              "      <th></th>\n",
              "      <th>Date</th>\n",
              "      <th>Province_State</th>\n",
              "      <th>FIPS</th>\n",
              "      <th>New cases</th>\n",
              "      <th>County Name</th>\n",
              "      <th>mask_rule_severity</th>\n",
              "      <th>m50</th>\n",
              "      <th>m50_index</th>\n",
              "      <th>retail_and_recreation_percent_change_from_baseline</th>\n",
              "      <th>grocery_and_pharmacy_percent_change_from_baseline</th>\n",
              "      <th>parks_percent_change_from_baseline</th>\n",
              "      <th>transit_stations_percent_change_from_baseline</th>\n",
              "      <th>workplaces_percent_change_from_baseline</th>\n",
              "      <th>residential_percent_change_from_baseline</th>\n",
              "      <th>PopDensity</th>\n",
              "      <th>State_Name</th>\n",
              "      <th>Social.distancing.index</th>\n",
              "      <th>X..staying.home</th>\n",
              "      <th>Trips.person</th>\n",
              "      <th>X..out.of.county.trips</th>\n",
              "      <th>X..out.of.state.trips</th>\n",
              "      <th>Miles.person</th>\n",
              "      <th>Work.trips.person</th>\n",
              "      <th>Non.work.trips.person</th>\n",
              "      <th>New.COVID.cases</th>\n",
              "      <th>Population</th>\n",
              "      <th>X..change.in.consumption</th>\n",
              "      <th>Transit.mode.share</th>\n",
              "      <th>X..people.older.than.60</th>\n",
              "      <th>Median.income</th>\n",
              "      <th>X..African.Americans</th>\n",
              "      <th>X..Hispanic.Americans</th>\n",
              "      <th>X..Male</th>\n",
              "      <th>Employment.density</th>\n",
              "      <th>X..hot.spots.1000.people</th>\n",
              "      <th>Hospital.beds.1000.people</th>\n",
              "      <th>ICUs.1000.people</th>\n",
              "      <th>X..contact.tracing.workers.1000.people</th>\n",
              "      <th>New.cases.1000.people</th>\n",
              "      <th>Active.cases.1000.people</th>\n",
              "      <th>X.days..decreasing.COVID.cases</th>\n",
              "      <th>X..hospital.bed.utilization</th>\n",
              "      <th>Testing.capacity</th>\n",
              "      <th>Tests.done.1000.people</th>\n",
              "      <th>X..ICU.utilization</th>\n",
              "      <th>Ventilator.shortage</th>\n",
              "      <th>Imported.COVID.cases</th>\n",
              "      <th>COVID.exposure.1000.people</th>\n",
              "      <th>X.days..decreasing.ILI.cases</th>\n",
              "      <th>Unemployment.claims.1000.people</th>\n",
              "      <th>Unemployment.rate</th>\n",
              "      <th>X..working.from.home</th>\n",
              "      <th>Cumulative.inflation.rate</th>\n",
              "      <th>COVID.death.rate</th>\n",
              "      <th>New Cases/100k population</th>\n",
              "      <th>rolling_avg_new_cases/100k</th>\n",
              "    </tr>\n",
              "  </thead>\n",
              "  <tbody>\n",
              "    <tr>\n",
              "      <th>2966</th>\n",
              "      <td>2020-03-02</td>\n",
              "      <td>Iowa</td>\n",
              "      <td>19023</td>\n",
              "      <td>0</td>\n",
              "      <td>Butler County</td>\n",
              "      <td>0.0</td>\n",
              "      <td>19.894</td>\n",
              "      <td>117</td>\n",
              "      <td>0.0</td>\n",
              "      <td>-6.0</td>\n",
              "      <td>0.0</td>\n",
              "      <td>0.0</td>\n",
              "      <td>4.0</td>\n",
              "      <td>0.0</td>\n",
              "      <td>9.806636</td>\n",
              "      <td>Iowa</td>\n",
              "      <td>14</td>\n",
              "      <td>15</td>\n",
              "      <td>3.69</td>\n",
              "      <td>39.5</td>\n",
              "      <td>0.8</td>\n",
              "      <td>54.6</td>\n",
              "      <td>0.72</td>\n",
              "      <td>2.97</td>\n",
              "      <td>0</td>\n",
              "      <td>14539</td>\n",
              "      <td>14.2</td>\n",
              "      <td>0.21</td>\n",
              "      <td>29</td>\n",
              "      <td>55999</td>\n",
              "      <td>0.5</td>\n",
              "      <td>1.3</td>\n",
              "      <td>50.09</td>\n",
              "      <td>6</td>\n",
              "      <td>143</td>\n",
              "      <td>3.69</td>\n",
              "      <td>0.26</td>\n",
              "      <td>0.011</td>\n",
              "      <td>0.0</td>\n",
              "      <td>0.0</td>\n",
              "      <td>38</td>\n",
              "      <td>30.0</td>\n",
              "      <td>0.0</td>\n",
              "      <td>0.0</td>\n",
              "      <td>0.0</td>\n",
              "      <td>0</td>\n",
              "      <td>0</td>\n",
              "      <td>0.0</td>\n",
              "      <td>21</td>\n",
              "      <td>0.8</td>\n",
              "      <td>3.7</td>\n",
              "      <td>4.8</td>\n",
              "      <td>0.5</td>\n",
              "      <td>0.0</td>\n",
              "      <td>0.0</td>\n",
              "      <td>32.665505</td>\n",
              "    </tr>\n",
              "    <tr>\n",
              "      <th>2967</th>\n",
              "      <td>2020-03-03</td>\n",
              "      <td>Iowa</td>\n",
              "      <td>19023</td>\n",
              "      <td>0</td>\n",
              "      <td>Butler County</td>\n",
              "      <td>0.0</td>\n",
              "      <td>16.906</td>\n",
              "      <td>100</td>\n",
              "      <td>0.0</td>\n",
              "      <td>0.0</td>\n",
              "      <td>0.0</td>\n",
              "      <td>0.0</td>\n",
              "      <td>1.0</td>\n",
              "      <td>0.0</td>\n",
              "      <td>9.806636</td>\n",
              "      <td>Iowa</td>\n",
              "      <td>11</td>\n",
              "      <td>13</td>\n",
              "      <td>3.74</td>\n",
              "      <td>41.4</td>\n",
              "      <td>0.3</td>\n",
              "      <td>57.3</td>\n",
              "      <td>0.77</td>\n",
              "      <td>2.97</td>\n",
              "      <td>0</td>\n",
              "      <td>14539</td>\n",
              "      <td>14.2</td>\n",
              "      <td>0.21</td>\n",
              "      <td>29</td>\n",
              "      <td>55999</td>\n",
              "      <td>0.5</td>\n",
              "      <td>1.3</td>\n",
              "      <td>50.09</td>\n",
              "      <td>6</td>\n",
              "      <td>143</td>\n",
              "      <td>3.69</td>\n",
              "      <td>0.26</td>\n",
              "      <td>0.011</td>\n",
              "      <td>0.0</td>\n",
              "      <td>0.0</td>\n",
              "      <td>39</td>\n",
              "      <td>30.0</td>\n",
              "      <td>0.0</td>\n",
              "      <td>0.0</td>\n",
              "      <td>0.0</td>\n",
              "      <td>0</td>\n",
              "      <td>0</td>\n",
              "      <td>0.0</td>\n",
              "      <td>28</td>\n",
              "      <td>0.8</td>\n",
              "      <td>3.7</td>\n",
              "      <td>4.8</td>\n",
              "      <td>0.5</td>\n",
              "      <td>0.0</td>\n",
              "      <td>0.0</td>\n",
              "      <td>24.680604</td>\n",
              "    </tr>\n",
              "  </tbody>\n",
              "</table>\n",
              "</div>"
            ],
            "text/plain": [
              "            Date  ... rolling_avg_new_cases/100k\n",
              "2966  2020-03-02  ...                  32.665505\n",
              "2967  2020-03-03  ...                  24.680604\n",
              "\n",
              "[2 rows x 56 columns]"
            ]
          },
          "metadata": {
            "tags": []
          },
          "execution_count": 226
        }
      ]
    },
    {
      "cell_type": "code",
      "metadata": {
        "colab": {
          "base_uri": "https://localhost:8080/",
          "height": 194
        },
        "id": "HWtr-iixwg8-",
        "outputId": "474f1a5c-afd8-4445-ef85-e18e145bd694"
      },
      "source": [
        "OR_superset_data['positivity_rate'] = (OR_superset_data['New.cases.1000.people'] / OR_superset_data['Tests.done.1000.people'])* 100/1000\n",
        "OR_superset_data.head(2)"
      ],
      "execution_count": null,
      "outputs": [
        {
          "output_type": "execute_result",
          "data": {
            "text/html": [
              "<div>\n",
              "<style scoped>\n",
              "    .dataframe tbody tr th:only-of-type {\n",
              "        vertical-align: middle;\n",
              "    }\n",
              "\n",
              "    .dataframe tbody tr th {\n",
              "        vertical-align: top;\n",
              "    }\n",
              "\n",
              "    .dataframe thead th {\n",
              "        text-align: right;\n",
              "    }\n",
              "</style>\n",
              "<table border=\"1\" class=\"dataframe\">\n",
              "  <thead>\n",
              "    <tr style=\"text-align: right;\">\n",
              "      <th></th>\n",
              "      <th>Date</th>\n",
              "      <th>Province_State</th>\n",
              "      <th>FIPS</th>\n",
              "      <th>New cases</th>\n",
              "      <th>County Name</th>\n",
              "      <th>mask_rule_severity</th>\n",
              "      <th>m50</th>\n",
              "      <th>m50_index</th>\n",
              "      <th>retail_and_recreation_percent_change_from_baseline</th>\n",
              "      <th>grocery_and_pharmacy_percent_change_from_baseline</th>\n",
              "      <th>parks_percent_change_from_baseline</th>\n",
              "      <th>transit_stations_percent_change_from_baseline</th>\n",
              "      <th>workplaces_percent_change_from_baseline</th>\n",
              "      <th>residential_percent_change_from_baseline</th>\n",
              "      <th>PopDensity</th>\n",
              "      <th>State_Name</th>\n",
              "      <th>Social.distancing.index</th>\n",
              "      <th>X..staying.home</th>\n",
              "      <th>Trips.person</th>\n",
              "      <th>X..out.of.county.trips</th>\n",
              "      <th>X..out.of.state.trips</th>\n",
              "      <th>Miles.person</th>\n",
              "      <th>Work.trips.person</th>\n",
              "      <th>Non.work.trips.person</th>\n",
              "      <th>New.COVID.cases</th>\n",
              "      <th>Population</th>\n",
              "      <th>X..change.in.consumption</th>\n",
              "      <th>Transit.mode.share</th>\n",
              "      <th>X..people.older.than.60</th>\n",
              "      <th>Median.income</th>\n",
              "      <th>X..African.Americans</th>\n",
              "      <th>X..Hispanic.Americans</th>\n",
              "      <th>X..Male</th>\n",
              "      <th>Employment.density</th>\n",
              "      <th>X..hot.spots.1000.people</th>\n",
              "      <th>Hospital.beds.1000.people</th>\n",
              "      <th>ICUs.1000.people</th>\n",
              "      <th>X..contact.tracing.workers.1000.people</th>\n",
              "      <th>New.cases.1000.people</th>\n",
              "      <th>Active.cases.1000.people</th>\n",
              "      <th>X.days..decreasing.COVID.cases</th>\n",
              "      <th>X..hospital.bed.utilization</th>\n",
              "      <th>Testing.capacity</th>\n",
              "      <th>Tests.done.1000.people</th>\n",
              "      <th>X..ICU.utilization</th>\n",
              "      <th>Ventilator.shortage</th>\n",
              "      <th>Imported.COVID.cases</th>\n",
              "      <th>COVID.exposure.1000.people</th>\n",
              "      <th>X.days..decreasing.ILI.cases</th>\n",
              "      <th>Unemployment.claims.1000.people</th>\n",
              "      <th>Unemployment.rate</th>\n",
              "      <th>X..working.from.home</th>\n",
              "      <th>Cumulative.inflation.rate</th>\n",
              "      <th>COVID.death.rate</th>\n",
              "      <th>New Cases/100k population</th>\n",
              "      <th>rolling_avg_new_cases/100k</th>\n",
              "      <th>positivity_rate</th>\n",
              "    </tr>\n",
              "  </thead>\n",
              "  <tbody>\n",
              "    <tr>\n",
              "      <th>2966</th>\n",
              "      <td>2020-03-02</td>\n",
              "      <td>Iowa</td>\n",
              "      <td>19023</td>\n",
              "      <td>0</td>\n",
              "      <td>Butler County</td>\n",
              "      <td>0.0</td>\n",
              "      <td>19.894</td>\n",
              "      <td>117</td>\n",
              "      <td>0.0</td>\n",
              "      <td>-6.0</td>\n",
              "      <td>0.0</td>\n",
              "      <td>0.0</td>\n",
              "      <td>4.0</td>\n",
              "      <td>0.0</td>\n",
              "      <td>9.806636</td>\n",
              "      <td>Iowa</td>\n",
              "      <td>14</td>\n",
              "      <td>15</td>\n",
              "      <td>3.69</td>\n",
              "      <td>39.5</td>\n",
              "      <td>0.8</td>\n",
              "      <td>54.6</td>\n",
              "      <td>0.72</td>\n",
              "      <td>2.97</td>\n",
              "      <td>0</td>\n",
              "      <td>14539</td>\n",
              "      <td>14.2</td>\n",
              "      <td>0.21</td>\n",
              "      <td>29</td>\n",
              "      <td>55999</td>\n",
              "      <td>0.5</td>\n",
              "      <td>1.3</td>\n",
              "      <td>50.09</td>\n",
              "      <td>6</td>\n",
              "      <td>143</td>\n",
              "      <td>3.69</td>\n",
              "      <td>0.26</td>\n",
              "      <td>0.011</td>\n",
              "      <td>0.0</td>\n",
              "      <td>0.0</td>\n",
              "      <td>38</td>\n",
              "      <td>30.0</td>\n",
              "      <td>0.0</td>\n",
              "      <td>0.0</td>\n",
              "      <td>0.0</td>\n",
              "      <td>0</td>\n",
              "      <td>0</td>\n",
              "      <td>0.0</td>\n",
              "      <td>21</td>\n",
              "      <td>0.8</td>\n",
              "      <td>3.7</td>\n",
              "      <td>4.8</td>\n",
              "      <td>0.5</td>\n",
              "      <td>0.0</td>\n",
              "      <td>0.0</td>\n",
              "      <td>32.665505</td>\n",
              "      <td>NaN</td>\n",
              "    </tr>\n",
              "    <tr>\n",
              "      <th>2967</th>\n",
              "      <td>2020-03-03</td>\n",
              "      <td>Iowa</td>\n",
              "      <td>19023</td>\n",
              "      <td>0</td>\n",
              "      <td>Butler County</td>\n",
              "      <td>0.0</td>\n",
              "      <td>16.906</td>\n",
              "      <td>100</td>\n",
              "      <td>0.0</td>\n",
              "      <td>0.0</td>\n",
              "      <td>0.0</td>\n",
              "      <td>0.0</td>\n",
              "      <td>1.0</td>\n",
              "      <td>0.0</td>\n",
              "      <td>9.806636</td>\n",
              "      <td>Iowa</td>\n",
              "      <td>11</td>\n",
              "      <td>13</td>\n",
              "      <td>3.74</td>\n",
              "      <td>41.4</td>\n",
              "      <td>0.3</td>\n",
              "      <td>57.3</td>\n",
              "      <td>0.77</td>\n",
              "      <td>2.97</td>\n",
              "      <td>0</td>\n",
              "      <td>14539</td>\n",
              "      <td>14.2</td>\n",
              "      <td>0.21</td>\n",
              "      <td>29</td>\n",
              "      <td>55999</td>\n",
              "      <td>0.5</td>\n",
              "      <td>1.3</td>\n",
              "      <td>50.09</td>\n",
              "      <td>6</td>\n",
              "      <td>143</td>\n",
              "      <td>3.69</td>\n",
              "      <td>0.26</td>\n",
              "      <td>0.011</td>\n",
              "      <td>0.0</td>\n",
              "      <td>0.0</td>\n",
              "      <td>39</td>\n",
              "      <td>30.0</td>\n",
              "      <td>0.0</td>\n",
              "      <td>0.0</td>\n",
              "      <td>0.0</td>\n",
              "      <td>0</td>\n",
              "      <td>0</td>\n",
              "      <td>0.0</td>\n",
              "      <td>28</td>\n",
              "      <td>0.8</td>\n",
              "      <td>3.7</td>\n",
              "      <td>4.8</td>\n",
              "      <td>0.5</td>\n",
              "      <td>0.0</td>\n",
              "      <td>0.0</td>\n",
              "      <td>24.680604</td>\n",
              "      <td>NaN</td>\n",
              "    </tr>\n",
              "  </tbody>\n",
              "</table>\n",
              "</div>"
            ],
            "text/plain": [
              "            Date Province_State  ...  rolling_avg_new_cases/100k  positivity_rate\n",
              "2966  2020-03-02           Iowa  ...                   32.665505              NaN\n",
              "2967  2020-03-03           Iowa  ...                   24.680604              NaN\n",
              "\n",
              "[2 rows x 57 columns]"
            ]
          },
          "metadata": {
            "tags": []
          },
          "execution_count": 227
        }
      ]
    },
    {
      "cell_type": "code",
      "metadata": {
        "colab": {
          "base_uri": "https://localhost:8080/"
        },
        "id": "_hdZqZVNN4js",
        "outputId": "d1658515-0f0a-41aa-be59-16173839f951"
      },
      "source": [
        "print(OR_superset_data['County Name'].nunique())\n",
        "OR_superset_data['County Name'].unique()"
      ],
      "execution_count": null,
      "outputs": [
        {
          "output_type": "stream",
          "text": [
            "92\n"
          ],
          "name": "stdout"
        },
        {
          "output_type": "execute_result",
          "data": {
            "text/plain": [
              "array(['Butler County', 'Calhoun County', 'Cherokee County',\n",
              "       'Clarke County', 'Clay County', 'Dallas County', 'Fayette County',\n",
              "       'Franklin County', 'Greene County', 'Henry County',\n",
              "       'Jackson County', 'Jefferson County', 'Lee County',\n",
              "       'Madison County', 'Marion County', 'Marshall County',\n",
              "       'Monroe County', 'Montgomery County', 'Shelby County',\n",
              "       'Washington County', 'Benton County', 'Boone County',\n",
              "       'Carroll County', 'Crawford County', 'Howard County',\n",
              "       'Johnson County', 'Polk County', 'Scott County', 'Union County',\n",
              "       'Humboldt County', 'Fremont County', 'Hamilton County',\n",
              "       'Taylor County', 'Clayton County', 'Decatur County',\n",
              "       'Floyd County', 'Jasper County', 'Jones County', 'Mitchell County',\n",
              "       'Worth County', 'Cass County', 'Clinton County', 'Grundy County',\n",
              "       'Hancock County', 'Warren County', 'Winnebago County',\n",
              "       'Delaware County', 'Harrison County', 'Adair County',\n",
              "       'Allamakee County', 'Appanoose County', 'Black Hawk County',\n",
              "       'Bremer County', 'Buchanan County', 'Buena Vista County',\n",
              "       'Cedar County', 'Cerro Gordo County', 'Chickasaw County',\n",
              "       'Davis County', 'Des Moines County', 'Dickinson County',\n",
              "       'Dubuque County', 'Emmet County', 'Guthrie County',\n",
              "       'Hardin County', 'Ida County', 'Iowa County', 'Keokuk County',\n",
              "       'Kossuth County', 'Linn County', 'Louisa County', 'Lucas County',\n",
              "       'Mahaska County', 'Mills County', 'Monona County',\n",
              "       'Muscatine County', \"O'Brien County\", 'Page County',\n",
              "       'Palo Alto County', 'Plymouth County', 'Pocahontas County',\n",
              "       'Pottawattamie County', 'Poweshiek County', 'Sac County',\n",
              "       'Sioux County', 'Story County', 'Tama County', 'Wapello County',\n",
              "       'Webster County', 'Winneshiek County', 'Woodbury County',\n",
              "       'Wright County'], dtype=object)"
            ]
          },
          "metadata": {
            "tags": []
          },
          "execution_count": 228
        }
      ]
    },
    {
      "cell_type": "markdown",
      "metadata": {
        "id": "IgQMAiJvkp0W"
      },
      "source": [
        "#  Load CA Superset Labeled Data"
      ]
    },
    {
      "cell_type": "code",
      "metadata": {
        "id": "tvjz6T10kx1P",
        "colab": {
          "base_uri": "https://localhost:8080/",
          "height": 333
        },
        "outputId": "362a7f3a-79a3-4c45-9758-975ec3bfbb00"
      },
      "source": [
        "ca_labeled_superset_data = all_states_data[all_states_data['Province_State'] == base_state]\n",
        "ca_labeled_superset_data.head()"
      ],
      "execution_count": null,
      "outputs": [
        {
          "output_type": "execute_result",
          "data": {
            "text/html": [
              "<div>\n",
              "<style scoped>\n",
              "    .dataframe tbody tr th:only-of-type {\n",
              "        vertical-align: middle;\n",
              "    }\n",
              "\n",
              "    .dataframe tbody tr th {\n",
              "        vertical-align: top;\n",
              "    }\n",
              "\n",
              "    .dataframe thead th {\n",
              "        text-align: right;\n",
              "    }\n",
              "</style>\n",
              "<table border=\"1\" class=\"dataframe\">\n",
              "  <thead>\n",
              "    <tr style=\"text-align: right;\">\n",
              "      <th></th>\n",
              "      <th>Date</th>\n",
              "      <th>Province_State</th>\n",
              "      <th>FIPS</th>\n",
              "      <th>New cases</th>\n",
              "      <th>County Name</th>\n",
              "      <th>mask_rule_severity</th>\n",
              "      <th>m50</th>\n",
              "      <th>m50_index</th>\n",
              "      <th>retail_and_recreation_percent_change_from_baseline</th>\n",
              "      <th>grocery_and_pharmacy_percent_change_from_baseline</th>\n",
              "      <th>parks_percent_change_from_baseline</th>\n",
              "      <th>transit_stations_percent_change_from_baseline</th>\n",
              "      <th>workplaces_percent_change_from_baseline</th>\n",
              "      <th>residential_percent_change_from_baseline</th>\n",
              "      <th>PopDensity</th>\n",
              "      <th>State_Name</th>\n",
              "      <th>Social.distancing.index</th>\n",
              "      <th>X..staying.home</th>\n",
              "      <th>Trips.person</th>\n",
              "      <th>X..out.of.county.trips</th>\n",
              "      <th>X..out.of.state.trips</th>\n",
              "      <th>Miles.person</th>\n",
              "      <th>Work.trips.person</th>\n",
              "      <th>Non.work.trips.person</th>\n",
              "      <th>New.COVID.cases</th>\n",
              "      <th>Population</th>\n",
              "      <th>X..change.in.consumption</th>\n",
              "      <th>Transit.mode.share</th>\n",
              "      <th>X..people.older.than.60</th>\n",
              "      <th>Median.income</th>\n",
              "      <th>X..African.Americans</th>\n",
              "      <th>X..Hispanic.Americans</th>\n",
              "      <th>X..Male</th>\n",
              "      <th>Employment.density</th>\n",
              "      <th>X..hot.spots.1000.people</th>\n",
              "      <th>Hospital.beds.1000.people</th>\n",
              "      <th>ICUs.1000.people</th>\n",
              "      <th>X..contact.tracing.workers.1000.people</th>\n",
              "      <th>New.cases.1000.people</th>\n",
              "      <th>Active.cases.1000.people</th>\n",
              "      <th>X.days..decreasing.COVID.cases</th>\n",
              "      <th>X..hospital.bed.utilization</th>\n",
              "      <th>Testing.capacity</th>\n",
              "      <th>Tests.done.1000.people</th>\n",
              "      <th>X..ICU.utilization</th>\n",
              "      <th>Ventilator.shortage</th>\n",
              "      <th>Imported.COVID.cases</th>\n",
              "      <th>COVID.exposure.1000.people</th>\n",
              "      <th>X.days..decreasing.ILI.cases</th>\n",
              "      <th>Unemployment.claims.1000.people</th>\n",
              "      <th>Unemployment.rate</th>\n",
              "      <th>X..working.from.home</th>\n",
              "      <th>Cumulative.inflation.rate</th>\n",
              "      <th>COVID.death.rate</th>\n",
              "      <th>New Cases/100k population</th>\n",
              "      <th>rolling_avg_new_cases/100k</th>\n",
              "    </tr>\n",
              "  </thead>\n",
              "  <tbody>\n",
              "    <tr>\n",
              "      <th>44512</th>\n",
              "      <td>2020-03-01</td>\n",
              "      <td>Wisconsin</td>\n",
              "      <td>55053</td>\n",
              "      <td>0</td>\n",
              "      <td>Jackson County</td>\n",
              "      <td>0.0</td>\n",
              "      <td>2.500</td>\n",
              "      <td>30</td>\n",
              "      <td>22.0</td>\n",
              "      <td>0.0</td>\n",
              "      <td>0.0</td>\n",
              "      <td>23.0</td>\n",
              "      <td>11.0</td>\n",
              "      <td>0.0</td>\n",
              "      <td>8.019932</td>\n",
              "      <td>Wisconsin</td>\n",
              "      <td>27</td>\n",
              "      <td>19</td>\n",
              "      <td>3.27</td>\n",
              "      <td>45.0</td>\n",
              "      <td>7.6</td>\n",
              "      <td>40.7</td>\n",
              "      <td>0.34</td>\n",
              "      <td>2.94</td>\n",
              "      <td>0</td>\n",
              "      <td>20478</td>\n",
              "      <td>3.2</td>\n",
              "      <td>0.13</td>\n",
              "      <td>26</td>\n",
              "      <td>52984</td>\n",
              "      <td>2.1</td>\n",
              "      <td>3.3</td>\n",
              "      <td>53.42</td>\n",
              "      <td>9</td>\n",
              "      <td>120</td>\n",
              "      <td>3.01</td>\n",
              "      <td>0.27</td>\n",
              "      <td>0.045</td>\n",
              "      <td>0.0</td>\n",
              "      <td>0.0</td>\n",
              "      <td>37</td>\n",
              "      <td>41.3</td>\n",
              "      <td>0.0</td>\n",
              "      <td>0.0</td>\n",
              "      <td>0.0</td>\n",
              "      <td>0</td>\n",
              "      <td>0</td>\n",
              "      <td>0.0</td>\n",
              "      <td>7</td>\n",
              "      <td>0.9</td>\n",
              "      <td>3.4</td>\n",
              "      <td>4.5</td>\n",
              "      <td>0.0</td>\n",
              "      <td>0.0</td>\n",
              "      <td>0.0</td>\n",
              "      <td>41.305451</td>\n",
              "    </tr>\n",
              "    <tr>\n",
              "      <th>44513</th>\n",
              "      <td>2020-03-02</td>\n",
              "      <td>Wisconsin</td>\n",
              "      <td>55053</td>\n",
              "      <td>0</td>\n",
              "      <td>Jackson County</td>\n",
              "      <td>0.0</td>\n",
              "      <td>8.198</td>\n",
              "      <td>99</td>\n",
              "      <td>0.0</td>\n",
              "      <td>4.0</td>\n",
              "      <td>0.0</td>\n",
              "      <td>14.0</td>\n",
              "      <td>4.0</td>\n",
              "      <td>0.0</td>\n",
              "      <td>8.019932</td>\n",
              "      <td>Wisconsin</td>\n",
              "      <td>19</td>\n",
              "      <td>18</td>\n",
              "      <td>3.44</td>\n",
              "      <td>40.1</td>\n",
              "      <td>6.1</td>\n",
              "      <td>51.1</td>\n",
              "      <td>0.53</td>\n",
              "      <td>2.91</td>\n",
              "      <td>0</td>\n",
              "      <td>20478</td>\n",
              "      <td>2.1</td>\n",
              "      <td>0.13</td>\n",
              "      <td>26</td>\n",
              "      <td>52984</td>\n",
              "      <td>2.1</td>\n",
              "      <td>3.3</td>\n",
              "      <td>53.42</td>\n",
              "      <td>9</td>\n",
              "      <td>120</td>\n",
              "      <td>3.01</td>\n",
              "      <td>0.27</td>\n",
              "      <td>0.045</td>\n",
              "      <td>0.0</td>\n",
              "      <td>0.0</td>\n",
              "      <td>38</td>\n",
              "      <td>41.3</td>\n",
              "      <td>0.0</td>\n",
              "      <td>0.0</td>\n",
              "      <td>0.0</td>\n",
              "      <td>0</td>\n",
              "      <td>0</td>\n",
              "      <td>0.0</td>\n",
              "      <td>7</td>\n",
              "      <td>0.9</td>\n",
              "      <td>3.4</td>\n",
              "      <td>4.5</td>\n",
              "      <td>0.0</td>\n",
              "      <td>0.0</td>\n",
              "      <td>0.0</td>\n",
              "      <td>35.831235</td>\n",
              "    </tr>\n",
              "    <tr>\n",
              "      <th>44514</th>\n",
              "      <td>2020-03-03</td>\n",
              "      <td>Wisconsin</td>\n",
              "      <td>55053</td>\n",
              "      <td>0</td>\n",
              "      <td>Jackson County</td>\n",
              "      <td>0.0</td>\n",
              "      <td>5.540</td>\n",
              "      <td>67</td>\n",
              "      <td>11.0</td>\n",
              "      <td>6.0</td>\n",
              "      <td>0.0</td>\n",
              "      <td>22.0</td>\n",
              "      <td>3.0</td>\n",
              "      <td>0.0</td>\n",
              "      <td>8.019932</td>\n",
              "      <td>Wisconsin</td>\n",
              "      <td>16</td>\n",
              "      <td>18</td>\n",
              "      <td>3.76</td>\n",
              "      <td>40.0</td>\n",
              "      <td>6.8</td>\n",
              "      <td>57.8</td>\n",
              "      <td>0.50</td>\n",
              "      <td>3.26</td>\n",
              "      <td>0</td>\n",
              "      <td>20478</td>\n",
              "      <td>14.4</td>\n",
              "      <td>0.13</td>\n",
              "      <td>26</td>\n",
              "      <td>52984</td>\n",
              "      <td>2.1</td>\n",
              "      <td>3.3</td>\n",
              "      <td>53.42</td>\n",
              "      <td>9</td>\n",
              "      <td>120</td>\n",
              "      <td>3.01</td>\n",
              "      <td>0.27</td>\n",
              "      <td>0.045</td>\n",
              "      <td>0.0</td>\n",
              "      <td>0.0</td>\n",
              "      <td>39</td>\n",
              "      <td>41.3</td>\n",
              "      <td>0.0</td>\n",
              "      <td>0.0</td>\n",
              "      <td>0.0</td>\n",
              "      <td>0</td>\n",
              "      <td>0</td>\n",
              "      <td>0.0</td>\n",
              "      <td>14</td>\n",
              "      <td>0.9</td>\n",
              "      <td>3.4</td>\n",
              "      <td>4.5</td>\n",
              "      <td>0.0</td>\n",
              "      <td>0.0</td>\n",
              "      <td>0.0</td>\n",
              "      <td>27.371082</td>\n",
              "    </tr>\n",
              "    <tr>\n",
              "      <th>44515</th>\n",
              "      <td>2020-03-04</td>\n",
              "      <td>Wisconsin</td>\n",
              "      <td>55053</td>\n",
              "      <td>0</td>\n",
              "      <td>Jackson County</td>\n",
              "      <td>0.0</td>\n",
              "      <td>8.236</td>\n",
              "      <td>100</td>\n",
              "      <td>10.0</td>\n",
              "      <td>2.0</td>\n",
              "      <td>0.0</td>\n",
              "      <td>6.0</td>\n",
              "      <td>4.0</td>\n",
              "      <td>0.0</td>\n",
              "      <td>8.019932</td>\n",
              "      <td>Wisconsin</td>\n",
              "      <td>14</td>\n",
              "      <td>17</td>\n",
              "      <td>3.65</td>\n",
              "      <td>38.7</td>\n",
              "      <td>7.2</td>\n",
              "      <td>57.4</td>\n",
              "      <td>0.65</td>\n",
              "      <td>3.00</td>\n",
              "      <td>0</td>\n",
              "      <td>20478</td>\n",
              "      <td>5.3</td>\n",
              "      <td>0.13</td>\n",
              "      <td>26</td>\n",
              "      <td>52984</td>\n",
              "      <td>2.1</td>\n",
              "      <td>3.3</td>\n",
              "      <td>53.42</td>\n",
              "      <td>9</td>\n",
              "      <td>120</td>\n",
              "      <td>3.01</td>\n",
              "      <td>0.27</td>\n",
              "      <td>0.045</td>\n",
              "      <td>0.0</td>\n",
              "      <td>0.0</td>\n",
              "      <td>40</td>\n",
              "      <td>41.3</td>\n",
              "      <td>5.0</td>\n",
              "      <td>0.0</td>\n",
              "      <td>0.0</td>\n",
              "      <td>0</td>\n",
              "      <td>0</td>\n",
              "      <td>0.0</td>\n",
              "      <td>14</td>\n",
              "      <td>0.9</td>\n",
              "      <td>3.4</td>\n",
              "      <td>4.5</td>\n",
              "      <td>0.0</td>\n",
              "      <td>0.0</td>\n",
              "      <td>0.0</td>\n",
              "      <td>18.413273</td>\n",
              "    </tr>\n",
              "    <tr>\n",
              "      <th>44516</th>\n",
              "      <td>2020-03-05</td>\n",
              "      <td>Wisconsin</td>\n",
              "      <td>55053</td>\n",
              "      <td>0</td>\n",
              "      <td>Jackson County</td>\n",
              "      <td>0.0</td>\n",
              "      <td>11.741</td>\n",
              "      <td>142</td>\n",
              "      <td>19.0</td>\n",
              "      <td>-4.0</td>\n",
              "      <td>0.0</td>\n",
              "      <td>1.0</td>\n",
              "      <td>2.0</td>\n",
              "      <td>0.0</td>\n",
              "      <td>8.019932</td>\n",
              "      <td>Wisconsin</td>\n",
              "      <td>12</td>\n",
              "      <td>16</td>\n",
              "      <td>3.55</td>\n",
              "      <td>42.6</td>\n",
              "      <td>6.6</td>\n",
              "      <td>54.9</td>\n",
              "      <td>0.58</td>\n",
              "      <td>2.97</td>\n",
              "      <td>0</td>\n",
              "      <td>20478</td>\n",
              "      <td>4.2</td>\n",
              "      <td>0.13</td>\n",
              "      <td>26</td>\n",
              "      <td>52984</td>\n",
              "      <td>2.1</td>\n",
              "      <td>3.3</td>\n",
              "      <td>53.42</td>\n",
              "      <td>9</td>\n",
              "      <td>120</td>\n",
              "      <td>3.01</td>\n",
              "      <td>0.27</td>\n",
              "      <td>0.045</td>\n",
              "      <td>0.0</td>\n",
              "      <td>0.0</td>\n",
              "      <td>41</td>\n",
              "      <td>41.3</td>\n",
              "      <td>5.0</td>\n",
              "      <td>0.0</td>\n",
              "      <td>0.0</td>\n",
              "      <td>0</td>\n",
              "      <td>0</td>\n",
              "      <td>0.0</td>\n",
              "      <td>14</td>\n",
              "      <td>0.9</td>\n",
              "      <td>3.4</td>\n",
              "      <td>4.5</td>\n",
              "      <td>0.0</td>\n",
              "      <td>0.0</td>\n",
              "      <td>0.0</td>\n",
              "      <td>12.441401</td>\n",
              "    </tr>\n",
              "  </tbody>\n",
              "</table>\n",
              "</div>"
            ],
            "text/plain": [
              "             Date  ... rolling_avg_new_cases/100k\n",
              "44512  2020-03-01  ...                  41.305451\n",
              "44513  2020-03-02  ...                  35.831235\n",
              "44514  2020-03-03  ...                  27.371082\n",
              "44515  2020-03-04  ...                  18.413273\n",
              "44516  2020-03-05  ...                  12.441401\n",
              "\n",
              "[5 rows x 56 columns]"
            ]
          },
          "metadata": {
            "tags": []
          },
          "execution_count": 229
        }
      ]
    },
    {
      "cell_type": "code",
      "metadata": {
        "colab": {
          "base_uri": "https://localhost:8080/"
        },
        "id": "QwpPaVCbYObP",
        "outputId": "6e789e8f-f6ee-44ab-d448-181f76b3f892"
      },
      "source": [
        "ca_labeled_superset_data['Province_State'].unique()"
      ],
      "execution_count": null,
      "outputs": [
        {
          "output_type": "execute_result",
          "data": {
            "text/plain": [
              "array(['Wisconsin'], dtype=object)"
            ]
          },
          "metadata": {
            "tags": []
          },
          "execution_count": 230
        }
      ]
    },
    {
      "cell_type": "code",
      "metadata": {
        "colab": {
          "base_uri": "https://localhost:8080/"
        },
        "id": "wkBQkEX1_LSa",
        "outputId": "80c5158f-921b-4835-d33f-7aa9a3ae58a5"
      },
      "source": [
        "ca_labeled_superset_data.shape"
      ],
      "execution_count": null,
      "outputs": [
        {
          "output_type": "execute_result",
          "data": {
            "text/plain": [
              "(17862, 56)"
            ]
          },
          "metadata": {
            "tags": []
          },
          "execution_count": 231
        }
      ]
    },
    {
      "cell_type": "code",
      "metadata": {
        "colab": {
          "base_uri": "https://localhost:8080/"
        },
        "id": "A6DfoN1S6GVC",
        "outputId": "a411d02c-6bdf-443a-8412-9c1916315c8b"
      },
      "source": [
        "print(\"CA data - date range :\", (ca_labeled_superset_data.Date.min(),ca_labeled_superset_data.Date.max()))\n",
        "print(\"Oregon data - date ranges :\", (OR_superset_data.Date.min(),OR_superset_data.Date.max()))"
      ],
      "execution_count": null,
      "outputs": [
        {
          "output_type": "stream",
          "text": [
            "CA data - date range : ('2020-03-01', '2020-12-28')\n",
            "Oregon data - date ranges : ('2020-03-01', '2020-12-28')\n"
          ],
          "name": "stdout"
        }
      ]
    },
    {
      "cell_type": "markdown",
      "metadata": {
        "id": "T654a74ieSSx"
      },
      "source": [
        "\n",
        "# Note (selected columns )\n",
        "\n",
        "'Province_State', 'FIPS', 'County Name','PopDensity', 'State_Name','State', 'CTFIPS', 'CTNAME', 'STFIPS',\n",
        "'X..people.older.than.60', 'Median.income', 'X..African.Americans',\n",
        "       'X..Hispanic.Americans', 'X..Male', 'Employment.density','Testing.capacity', 'Ventilator.shortage','Unemployment.rate','Unemployment.claims.1000.people',"
      ]
    },
    {
      "cell_type": "markdown",
      "metadata": {
        "id": "dxqzlipYQJU9"
      },
      "source": [
        "**Summary**: The latent features (loc2vec features ) describe the probalistic causal behaviour of the pandemic. The features are responsible for describing the sudden increase or surge of the pandemic. The counties with closest \n",
        "\n",
        "* Surge in LA -> Surge in WA county in OR\n"
      ]
    },
    {
      "cell_type": "markdown",
      "metadata": {
        "id": "UHx9oTFxxSkb"
      },
      "source": [
        "# Filter columns with Demographic features"
      ]
    },
    {
      "cell_type": "code",
      "metadata": {
        "id": "0mzXj__hxXVA"
      },
      "source": [
        "demographic_cols = [ 'FIPS', 'County Name', 'PopDensity', #'STFIPS', # remove FIPS also during knn\n",
        "                 'X..people.older.than.60', 'Median.income', \n",
        "                 'X..African.Americans', 'X..Hispanic.Americans',\n",
        "                  'X..Male', 'Employment.density','Testing.capacity',\n",
        "                 'Ventilator.shortage','Unemployment.rate','Unemployment.claims.1000.people']"
      ],
      "execution_count": null,
      "outputs": []
    },
    {
      "cell_type": "markdown",
      "metadata": {
        "id": "SAYFFr0j37Vj"
      },
      "source": [
        "# TODO: Plot the charatertics of demographic data to represent they are similar.\n",
        "* Ventilator shortage\n",
        "* ICU utilization"
      ]
    },
    {
      "cell_type": "code",
      "metadata": {
        "id": "LuvMSg6qxdup"
      },
      "source": [
        "or_superset_data_filtered = OR_superset_data[demographic_cols]\n",
        "ca_superset_data_filtered = ca_labeled_superset_data[demographic_cols]"
      ],
      "execution_count": null,
      "outputs": []
    },
    {
      "cell_type": "markdown",
      "metadata": {
        "id": "Mj2icEW7xuZR"
      },
      "source": [
        "# Data Analysis"
      ]
    },
    {
      "cell_type": "code",
      "metadata": {
        "colab": {
          "base_uri": "https://localhost:8080/"
        },
        "id": "V107rJwvnPlS",
        "outputId": "5d1aa7cf-ab59-4476-a990-79e3c5cdd76a"
      },
      "source": [
        "or_superset_data_filtered.describe().T"
      ],
      "execution_count": null,
      "outputs": [
        {
          "output_type": "execute_result",
          "data": {
            "text/html": [
              "<div>\n",
              "<style scoped>\n",
              "    .dataframe tbody tr th:only-of-type {\n",
              "        vertical-align: middle;\n",
              "    }\n",
              "\n",
              "    .dataframe tbody tr th {\n",
              "        vertical-align: top;\n",
              "    }\n",
              "\n",
              "    .dataframe thead th {\n",
              "        text-align: right;\n",
              "    }\n",
              "</style>\n",
              "<table border=\"1\" class=\"dataframe\">\n",
              "  <thead>\n",
              "    <tr style=\"text-align: right;\">\n",
              "      <th></th>\n",
              "      <th>count</th>\n",
              "      <th>mean</th>\n",
              "      <th>std</th>\n",
              "      <th>min</th>\n",
              "      <th>25%</th>\n",
              "      <th>50%</th>\n",
              "      <th>75%</th>\n",
              "      <th>max</th>\n",
              "    </tr>\n",
              "  </thead>\n",
              "  <tbody>\n",
              "    <tr>\n",
              "      <th>FIPS</th>\n",
              "      <td>22051.0</td>\n",
              "      <td>19098.901229</td>\n",
              "      <td>56.147327</td>\n",
              "      <td>19001.000000</td>\n",
              "      <td>19049.000000</td>\n",
              "      <td>19099.000000</td>\n",
              "      <td>19149.000000</td>\n",
              "      <td>19197.000000</td>\n",
              "    </tr>\n",
              "    <tr>\n",
              "      <th>PopDensity</th>\n",
              "      <td>22051.0</td>\n",
              "      <td>25.268047</td>\n",
              "      <td>42.532875</td>\n",
              "      <td>4.501245</td>\n",
              "      <td>8.749441</td>\n",
              "      <td>11.534637</td>\n",
              "      <td>21.972087</td>\n",
              "      <td>320.017403</td>\n",
              "    </tr>\n",
              "    <tr>\n",
              "      <th>X..people.older.than.60</th>\n",
              "      <td>22051.0</td>\n",
              "      <td>26.027074</td>\n",
              "      <td>3.682039</td>\n",
              "      <td>16.000000</td>\n",
              "      <td>24.000000</td>\n",
              "      <td>26.000000</td>\n",
              "      <td>29.000000</td>\n",
              "      <td>33.000000</td>\n",
              "    </tr>\n",
              "    <tr>\n",
              "      <th>Median.income</th>\n",
              "      <td>22051.0</td>\n",
              "      <td>55777.930978</td>\n",
              "      <td>7200.903343</td>\n",
              "      <td>41111.000000</td>\n",
              "      <td>51043.000000</td>\n",
              "      <td>54554.000000</td>\n",
              "      <td>58803.000000</td>\n",
              "      <td>84790.000000</td>\n",
              "    </tr>\n",
              "    <tr>\n",
              "      <th>X..African.Americans</th>\n",
              "      <td>22051.0</td>\n",
              "      <td>1.607528</td>\n",
              "      <td>1.802651</td>\n",
              "      <td>0.000000</td>\n",
              "      <td>0.500000</td>\n",
              "      <td>0.900000</td>\n",
              "      <td>1.900000</td>\n",
              "      <td>9.000000</td>\n",
              "    </tr>\n",
              "    <tr>\n",
              "      <th>X..Hispanic.Americans</th>\n",
              "      <td>22051.0</td>\n",
              "      <td>5.009537</td>\n",
              "      <td>5.170692</td>\n",
              "      <td>0.700000</td>\n",
              "      <td>2.100000</td>\n",
              "      <td>2.900000</td>\n",
              "      <td>5.600000</td>\n",
              "      <td>27.800000</td>\n",
              "    </tr>\n",
              "    <tr>\n",
              "      <th>X..Male</th>\n",
              "      <td>22051.0</td>\n",
              "      <td>49.813628</td>\n",
              "      <td>0.812626</td>\n",
              "      <td>47.950000</td>\n",
              "      <td>49.250000</td>\n",
              "      <td>49.800000</td>\n",
              "      <td>50.290000</td>\n",
              "      <td>52.090000</td>\n",
              "    </tr>\n",
              "    <tr>\n",
              "      <th>Employment.density</th>\n",
              "      <td>22051.0</td>\n",
              "      <td>31.914879</td>\n",
              "      <td>64.658274</td>\n",
              "      <td>3.000000</td>\n",
              "      <td>8.000000</td>\n",
              "      <td>12.000000</td>\n",
              "      <td>24.000000</td>\n",
              "      <td>485.000000</td>\n",
              "    </tr>\n",
              "    <tr>\n",
              "      <th>Testing.capacity</th>\n",
              "      <td>22051.0</td>\n",
              "      <td>12.290712</td>\n",
              "      <td>4.585545</td>\n",
              "      <td>0.000000</td>\n",
              "      <td>9.400000</td>\n",
              "      <td>11.300000</td>\n",
              "      <td>15.400000</td>\n",
              "      <td>31.400000</td>\n",
              "    </tr>\n",
              "    <tr>\n",
              "      <th>Ventilator.shortage</th>\n",
              "      <td>22051.0</td>\n",
              "      <td>60.435445</td>\n",
              "      <td>43.003455</td>\n",
              "      <td>0.000000</td>\n",
              "      <td>31.000000</td>\n",
              "      <td>46.000000</td>\n",
              "      <td>95.000000</td>\n",
              "      <td>170.000000</td>\n",
              "    </tr>\n",
              "    <tr>\n",
              "      <th>Unemployment.rate</th>\n",
              "      <td>22051.0</td>\n",
              "      <td>6.406331</td>\n",
              "      <td>2.384874</td>\n",
              "      <td>3.600000</td>\n",
              "      <td>4.000000</td>\n",
              "      <td>6.000000</td>\n",
              "      <td>8.500000</td>\n",
              "      <td>10.800000</td>\n",
              "    </tr>\n",
              "    <tr>\n",
              "      <th>Unemployment.claims.1000.people</th>\n",
              "      <td>22051.0</td>\n",
              "      <td>4.367240</td>\n",
              "      <td>4.888932</td>\n",
              "      <td>0.800000</td>\n",
              "      <td>1.800000</td>\n",
              "      <td>2.200000</td>\n",
              "      <td>4.100000</td>\n",
              "      <td>21.300000</td>\n",
              "    </tr>\n",
              "  </tbody>\n",
              "</table>\n",
              "</div>"
            ],
            "text/plain": [
              "                                   count  ...           max\n",
              "FIPS                             22051.0  ...  19197.000000\n",
              "PopDensity                       22051.0  ...    320.017403\n",
              "X..people.older.than.60          22051.0  ...     33.000000\n",
              "Median.income                    22051.0  ...  84790.000000\n",
              "X..African.Americans             22051.0  ...      9.000000\n",
              "X..Hispanic.Americans            22051.0  ...     27.800000\n",
              "X..Male                          22051.0  ...     52.090000\n",
              "Employment.density               22051.0  ...    485.000000\n",
              "Testing.capacity                 22051.0  ...     31.400000\n",
              "Ventilator.shortage              22051.0  ...    170.000000\n",
              "Unemployment.rate                22051.0  ...     10.800000\n",
              "Unemployment.claims.1000.people  22051.0  ...     21.300000\n",
              "\n",
              "[12 rows x 8 columns]"
            ]
          },
          "metadata": {
            "tags": []
          },
          "execution_count": 235
        }
      ]
    },
    {
      "cell_type": "code",
      "metadata": {
        "colab": {
          "base_uri": "https://localhost:8080/"
        },
        "id": "jXh-hvS-nGtV",
        "outputId": "8994a9fd-0713-4f2f-8e97-5275dec52fe5"
      },
      "source": [
        "ca_superset_data_filtered.describe().T"
      ],
      "execution_count": null,
      "outputs": [
        {
          "output_type": "execute_result",
          "data": {
            "text/html": [
              "<div>\n",
              "<style scoped>\n",
              "    .dataframe tbody tr th:only-of-type {\n",
              "        vertical-align: middle;\n",
              "    }\n",
              "\n",
              "    .dataframe tbody tr th {\n",
              "        vertical-align: top;\n",
              "    }\n",
              "\n",
              "    .dataframe thead th {\n",
              "        text-align: right;\n",
              "    }\n",
              "</style>\n",
              "<table border=\"1\" class=\"dataframe\">\n",
              "  <thead>\n",
              "    <tr style=\"text-align: right;\">\n",
              "      <th></th>\n",
              "      <th>count</th>\n",
              "      <th>mean</th>\n",
              "      <th>std</th>\n",
              "      <th>min</th>\n",
              "      <th>25%</th>\n",
              "      <th>50%</th>\n",
              "      <th>75%</th>\n",
              "      <th>max</th>\n",
              "    </tr>\n",
              "  </thead>\n",
              "  <tbody>\n",
              "    <tr>\n",
              "      <th>FIPS</th>\n",
              "      <td>17862.0</td>\n",
              "      <td>55072.555705</td>\n",
              "      <td>41.065994</td>\n",
              "      <td>55001.000000</td>\n",
              "      <td>55035.000000</td>\n",
              "      <td>55073.000000</td>\n",
              "      <td>55107.000000</td>\n",
              "      <td>55141.000000</td>\n",
              "    </tr>\n",
              "    <tr>\n",
              "      <th>PopDensity</th>\n",
              "      <td>17862.0</td>\n",
              "      <td>73.842899</td>\n",
              "      <td>197.252971</td>\n",
              "      <td>4.153341</td>\n",
              "      <td>12.236395</td>\n",
              "      <td>21.981493</td>\n",
              "      <td>60.420364</td>\n",
              "      <td>1525.658962</td>\n",
              "    </tr>\n",
              "    <tr>\n",
              "      <th>X..people.older.than.60</th>\n",
              "      <td>17862.0</td>\n",
              "      <td>26.061247</td>\n",
              "      <td>4.956984</td>\n",
              "      <td>18.000000</td>\n",
              "      <td>23.000000</td>\n",
              "      <td>25.000000</td>\n",
              "      <td>29.000000</td>\n",
              "      <td>40.000000</td>\n",
              "    </tr>\n",
              "    <tr>\n",
              "      <th>Median.income</th>\n",
              "      <td>17862.0</td>\n",
              "      <td>56894.986172</td>\n",
              "      <td>8313.017442</td>\n",
              "      <td>43280.000000</td>\n",
              "      <td>51335.000000</td>\n",
              "      <td>56268.000000</td>\n",
              "      <td>59749.000000</td>\n",
              "      <td>84331.000000</td>\n",
              "    </tr>\n",
              "    <tr>\n",
              "      <th>X..African.Americans</th>\n",
              "      <td>17862.0</td>\n",
              "      <td>1.795398</td>\n",
              "      <td>3.561445</td>\n",
              "      <td>0.300000</td>\n",
              "      <td>0.500000</td>\n",
              "      <td>0.800000</td>\n",
              "      <td>1.600000</td>\n",
              "      <td>26.100000</td>\n",
              "    </tr>\n",
              "    <tr>\n",
              "      <th>X..Hispanic.Americans</th>\n",
              "      <td>17862.0</td>\n",
              "      <td>3.974605</td>\n",
              "      <td>2.934228</td>\n",
              "      <td>1.400000</td>\n",
              "      <td>1.900000</td>\n",
              "      <td>3.000000</td>\n",
              "      <td>4.600000</td>\n",
              "      <td>14.700000</td>\n",
              "    </tr>\n",
              "    <tr>\n",
              "      <th>X..Male</th>\n",
              "      <td>17862.0</td>\n",
              "      <td>50.378127</td>\n",
              "      <td>1.052415</td>\n",
              "      <td>48.380000</td>\n",
              "      <td>49.620000</td>\n",
              "      <td>50.270000</td>\n",
              "      <td>50.720000</td>\n",
              "      <td>53.720000</td>\n",
              "    </tr>\n",
              "    <tr>\n",
              "      <th>Employment.density</th>\n",
              "      <td>17862.0</td>\n",
              "      <td>56.365581</td>\n",
              "      <td>89.061402</td>\n",
              "      <td>4.000000</td>\n",
              "      <td>10.000000</td>\n",
              "      <td>19.000000</td>\n",
              "      <td>54.000000</td>\n",
              "      <td>447.000000</td>\n",
              "    </tr>\n",
              "    <tr>\n",
              "      <th>Testing.capacity</th>\n",
              "      <td>17862.0</td>\n",
              "      <td>6.854389</td>\n",
              "      <td>1.774540</td>\n",
              "      <td>0.000000</td>\n",
              "      <td>5.600000</td>\n",
              "      <td>6.200000</td>\n",
              "      <td>8.500000</td>\n",
              "      <td>10.100000</td>\n",
              "    </tr>\n",
              "    <tr>\n",
              "      <th>Ventilator.shortage</th>\n",
              "      <td>17862.0</td>\n",
              "      <td>102.525697</td>\n",
              "      <td>84.704414</td>\n",
              "      <td>0.000000</td>\n",
              "      <td>53.000000</td>\n",
              "      <td>72.000000</td>\n",
              "      <td>124.000000</td>\n",
              "      <td>354.000000</td>\n",
              "    </tr>\n",
              "    <tr>\n",
              "      <th>Unemployment.rate</th>\n",
              "      <td>17862.0</td>\n",
              "      <td>7.680489</td>\n",
              "      <td>2.890482</td>\n",
              "      <td>3.400000</td>\n",
              "      <td>5.500000</td>\n",
              "      <td>6.700000</td>\n",
              "      <td>8.700000</td>\n",
              "      <td>14.100000</td>\n",
              "    </tr>\n",
              "    <tr>\n",
              "      <th>Unemployment.claims.1000.people</th>\n",
              "      <td>17862.0</td>\n",
              "      <td>4.695689</td>\n",
              "      <td>3.965956</td>\n",
              "      <td>0.900000</td>\n",
              "      <td>2.400000</td>\n",
              "      <td>2.900000</td>\n",
              "      <td>4.900000</td>\n",
              "      <td>19.000000</td>\n",
              "    </tr>\n",
              "  </tbody>\n",
              "</table>\n",
              "</div>"
            ],
            "text/plain": [
              "                                   count  ...           max\n",
              "FIPS                             17862.0  ...  55141.000000\n",
              "PopDensity                       17862.0  ...   1525.658962\n",
              "X..people.older.than.60          17862.0  ...     40.000000\n",
              "Median.income                    17862.0  ...  84331.000000\n",
              "X..African.Americans             17862.0  ...     26.100000\n",
              "X..Hispanic.Americans            17862.0  ...     14.700000\n",
              "X..Male                          17862.0  ...     53.720000\n",
              "Employment.density               17862.0  ...    447.000000\n",
              "Testing.capacity                 17862.0  ...     10.100000\n",
              "Ventilator.shortage              17862.0  ...    354.000000\n",
              "Unemployment.rate                17862.0  ...     14.100000\n",
              "Unemployment.claims.1000.people  17862.0  ...     19.000000\n",
              "\n",
              "[12 rows x 8 columns]"
            ]
          },
          "metadata": {
            "tags": []
          },
          "execution_count": 236
        }
      ]
    },
    {
      "cell_type": "markdown",
      "metadata": {
        "id": "asqXUIJ_HNWv"
      },
      "source": [
        "# KNN Similarity - Util method\n",
        "\n"
      ]
    },
    {
      "cell_type": "code",
      "metadata": {
        "id": "HxvYwZkwiEPY"
      },
      "source": [
        "from scipy.spatial.distance import cosine\n",
        "from sklearn.metrics.pairwise import cosine_similarity,cosine_distances\n",
        "from tqdm import tqdm\n",
        "\n",
        "def key_consine_similarity(tupple):\n",
        "    return tupple[1]\n",
        "\n",
        "# This method computes the distance between each vectors with predicted_vectors input\n",
        "# in our case, vectors is CA data , predicted_vectors is OR data\n",
        "\n",
        "def get_computed_similarities(vectors, predicted_vectors, reverse=False):\n",
        "    \n",
        "    data_size = len(vectors) # size of your CA data\n",
        "    #print(\"len of OR:\", len(predicted_vectors)) #size of OR\n",
        "    #print(\"len of CA:\", data_size)\n",
        "    cosine_similarities = []\n",
        "    simiarity_ids = []\n",
        "    cosine_distances = []\n",
        "\n",
        "    for i in range(len(predicted_vectors)): #OR\n",
        "      max_cosine = 0\n",
        "      max_j = -1\n",
        "      #print('actual : ',predicted_vectors[i],' reshaped : ',predicted_vectors[i].reshape(1,-1))\n",
        "      for j in range(data_size): #CA\n",
        "        ##cosine_sim_val = (1 - cosine(vectors[j], predicted_vectors[i]))\n",
        "        # if i == 31:\n",
        "        #   print(vectors[j].reshape(1,-1))\n",
        "        #   print(predicted_vectors[i].reshape(1,-1))\n",
        "        cosine_sim_val = cosine_similarity(vectors[j].reshape(1,-1), predicted_vectors[i].reshape(1,-1)) \n",
        "        if max_cosine < cosine_sim_val:\n",
        "            max_cosine = cosine_sim_val\n",
        "            max_j = j\n",
        "      cosine_similarities.append((max_j, max_cosine))\n",
        "      simiarity_ids.append(max_j)\n",
        "      cosine_distances.append(max_cosine)\n",
        "        #if cosine_sim_val > 0.5: # update threshold\n",
        "          #continue\n",
        "      #if i > 50: break\n",
        "        \n",
        "    #print('len cosine_similarities : ',len(cosine_similarities))\n",
        "    #return sorted(cosine_similarities, key=key_consine_similarity, reverse=reverse)\n",
        "    return simiarity_ids,cosine_distances,cosine_similarities\n"
      ],
      "execution_count": null,
      "outputs": []
    },
    {
      "cell_type": "markdown",
      "metadata": {
        "id": "gNh4mtlAyOFm"
      },
      "source": [
        "# Data visualization county level"
      ]
    },
    {
      "cell_type": "code",
      "metadata": {
        "colab": {
          "base_uri": "https://localhost:8080/"
        },
        "id": "FNqfJQ3YyQx_",
        "outputId": "739e6a15-eddb-4aa0-dd82-4b3cb96d91c0"
      },
      "source": [
        "or_counties = or_superset_data_filtered['County Name'].unique()\n",
        "ca_counties = ca_superset_data_filtered['County Name'].unique()\n",
        "print(' # of similar counties : ',len(or_counties))\n",
        "print(' # of base counties : ',len(ca_counties))"
      ],
      "execution_count": null,
      "outputs": [
        {
          "output_type": "stream",
          "text": [
            " # of similar counties :  92\n",
            " # of base counties :  65\n"
          ],
          "name": "stdout"
        }
      ]
    },
    {
      "cell_type": "markdown",
      "metadata": {
        "id": "aNg2LrYc0bkZ"
      },
      "source": [
        "**Quick note:** We would like to reduce the county data to single vector. Hence we are checking whether any column exceeds std.dev of more than 50. this 50 is adjusted as per the column category . for instance, median income can be tolerated to even 1000.0 value"
      ]
    },
    {
      "cell_type": "markdown",
      "metadata": {
        "id": "I5PPWtNt041A"
      },
      "source": [
        ""
      ]
    },
    {
      "cell_type": "code",
      "metadata": {
        "id": "yJ-wHup-9Trj"
      },
      "source": [
        "demographic_numeric_cols = [ 'PopDensity', #'STFIPS', # remove FIPS also during knn\n",
        "                 'X..people.older.than.60', 'Median.income', \n",
        "                 'X..African.Americans', 'X..Hispanic.Americans',\n",
        "                  'X..Male', 'Employment.density','Testing.capacity',\n",
        "                 'Ventilator.shortage','Unemployment.rate','Unemployment.claims.1000.people']"
      ],
      "execution_count": null,
      "outputs": []
    },
    {
      "cell_type": "code",
      "metadata": {
        "id": "-2ucprFP05Tj"
      },
      "source": [
        "THRESHOLD = 10.0"
      ],
      "execution_count": null,
      "outputs": []
    },
    {
      "cell_type": "markdown",
      "metadata": {
        "id": "0CEP6Vdv1jUV"
      },
      "source": [
        "## Checking OR counties"
      ]
    },
    {
      "cell_type": "code",
      "metadata": {
        "colab": {
          "base_uri": "https://localhost:8080/"
        },
        "id": "KTSngLNSy5cR",
        "outputId": "164d4266-bd06-4f01-b153-ba8db2b34dd4"
      },
      "source": [
        "for or_county in or_counties:\n",
        "  #print(\"######.  \",or_county,\" .######\")\n",
        "  county_data = or_superset_data_filtered[or_superset_data_filtered['County Name'] == or_county]\n",
        "  for col in demographic_numeric_cols:\n",
        "    std_dev = np.std(county_data[col].values)\n",
        "    if std_dev > THRESHOLD:\n",
        "      print(or_county,'| column name :',col,' | value: ',np.std(county_data[col].values)) \n",
        "\n",
        "print(\"** NOTE: prints nothing indicates no column has HUGE standard deviation\") "
      ],
      "execution_count": null,
      "outputs": [
        {
          "output_type": "stream",
          "text": [
            "Butler County | column name : Ventilator.shortage  | value:  43.847218989097634\n",
            "Calhoun County | column name : Ventilator.shortage  | value:  43.420479602267186\n",
            "Cherokee County | column name : Ventilator.shortage  | value:  44.064292800406996\n",
            "Clarke County | column name : Ventilator.shortage  | value:  44.26072045511207\n",
            "Clay County | column name : Ventilator.shortage  | value:  43.16587891752837\n",
            "Dallas County | column name : Ventilator.shortage  | value:  41.83718579851905\n",
            "Fayette County | column name : Ventilator.shortage  | value:  43.16587891752837\n",
            "Franklin County | column name : Ventilator.shortage  | value:  43.847218989097634\n",
            "Greene County | column name : Ventilator.shortage  | value:  43.75740526720641\n",
            "Henry County | column name : Ventilator.shortage  | value:  43.16587891752837\n",
            "Jackson County | column name : Ventilator.shortage  | value:  43.16587891752837\n",
            "Jefferson County | column name : Ventilator.shortage  | value:  43.67173392925629\n",
            "Lee County | column name : Ventilator.shortage  | value:  41.99863260967783\n",
            "Madison County | column name : Ventilator.shortage  | value:  43.55667145638354\n",
            "Marion County | column name : Ventilator.shortage  | value:  42.04797799017785\n",
            "Marshall County | column name : Ventilator.shortage  | value:  41.99863260967783\n",
            "Monroe County | column name : Ventilator.shortage  | value:  43.59746746056552\n",
            "Montgomery County | column name : Ventilator.shortage  | value:  43.95509874648396\n",
            "Shelby County | column name : Ventilator.shortage  | value:  43.807080130101234\n",
            "Washington County | column name : Ventilator.shortage  | value:  43.16587891752837\n",
            "Benton County | column name : Ventilator.shortage  | value:  43.11485303123108\n",
            "Boone County | column name : Ventilator.shortage  | value:  42.04797799017785\n",
            "Carroll County | column name : Ventilator.shortage  | value:  43.41807753847982\n",
            "Crawford County | column name : Ventilator.shortage  | value:  43.40090516899914\n",
            "Howard County | column name : Ventilator.shortage  | value:  40.55823987872691\n",
            "Johnson County | column name : Ventilator.shortage  | value:  41.67539922252143\n",
            "Polk County | column name : Ventilator.shortage  | value:  41.67539922252143\n",
            "Scott County | column name : Ventilator.shortage  | value:  41.67539922252143\n",
            "Union County | column name : Ventilator.shortage  | value:  43.55667145638354\n",
            "Humboldt County | column name : Ventilator.shortage  | value:  43.878502387036015\n",
            "Fremont County | column name : Ventilator.shortage  | value:  43.3079164638929\n",
            "Hamilton County | column name : Ventilator.shortage  | value:  43.313260149819946\n",
            "Taylor County | column name : Ventilator.shortage  | value:  42.63643878431341\n",
            "Clayton County | column name : Ventilator.shortage  | value:  43.99807662573097\n",
            "Decatur County | column name : Ventilator.shortage  | value:  43.97757635027334\n",
            "Floyd County | column name : Ventilator.shortage  | value:  43.214560606192435\n",
            "Jasper County | column name : Ventilator.shortage  | value:  41.99863260967783\n",
            "Jones County | column name : Ventilator.shortage  | value:  43.16587891752837\n",
            "Mitchell County | column name : Ventilator.shortage  | value:  43.764319785952914\n",
            "Worth County | column name : Ventilator.shortage  | value:  43.351349012566935\n",
            "Cass County | column name : Ventilator.shortage  | value:  43.55667145638354\n",
            "Clinton County | column name : Ventilator.shortage  | value:  41.99863260967783\n",
            "Grundy County | column name : Ventilator.shortage  | value:  43.847218989097634\n",
            "Hancock County | column name : Ventilator.shortage  | value:  44.108387063553444\n",
            "Warren County | column name : Ventilator.shortage  | value:  41.99863260967783\n",
            "Winnebago County | column name : Ventilator.shortage  | value:  44.108387063553444\n",
            "Delaware County | column name : Ventilator.shortage  | value:  43.48681097146713\n",
            "Harrison County | column name : Ventilator.shortage  | value:  43.6278189022082\n",
            "Adair County | column name : Ventilator.shortage  | value:  44.21821392879782\n",
            "Allamakee County | column name : Ventilator.shortage  | value:  44.108387063553444\n",
            "Appanoose County | column name : Ventilator.shortage  | value:  44.449036642744545\n",
            "Black Hawk County | column name : Ventilator.shortage  | value:  41.67539922252143\n",
            "Bremer County | column name : Ventilator.shortage  | value:  43.16587891752837\n",
            "Buchanan County | column name : Ventilator.shortage  | value:  43.42264239294969\n",
            "Buena Vista County | column name : Ventilator.shortage  | value:  43.16587891752837\n",
            "Cedar County | column name : Ventilator.shortage  | value:  43.492501915878485\n",
            "Cerro Gordo County | column name : Ventilator.shortage  | value:  41.99863260967783\n",
            "Chickasaw County | column name : Ventilator.shortage  | value:  44.108387063553444\n",
            "Davis County | column name : Ventilator.shortage  | value:  43.38288909791134\n",
            "Des Moines County | column name : Ventilator.shortage  | value:  41.99863260967783\n",
            "Dickinson County | column name : Ventilator.shortage  | value:  43.76374414588197\n",
            "Dubuque County | column name : Ventilator.shortage  | value:  41.67539922252143\n",
            "Emmet County | column name : Ventilator.shortage  | value:  43.55037463838477\n",
            "Guthrie County | column name : Ventilator.shortage  | value:  43.420479602267186\n",
            "Hardin County | column name : Ventilator.shortage  | value:  43.22140296628402\n",
            "Ida County | column name : Ventilator.shortage  | value:  43.10843075249227\n",
            "Iowa County | column name : Ventilator.shortage  | value:  43.50859639762943\n",
            "Keokuk County | column name : Ventilator.shortage  | value:  43.420479602267186\n",
            "Kossuth County | column name : Ventilator.shortage  | value:  43.36648824795939\n",
            "Linn County | column name : Ventilator.shortage  | value:  41.67539922252143\n",
            "Louisa County | column name : Ventilator.shortage  | value:  43.420479602267186\n",
            "Lucas County | column name : Ventilator.shortage  | value:  43.750370612406456\n",
            "Mahaska County | column name : Ventilator.shortage  | value:  43.16587891752837\n",
            "Mills County | column name : Ventilator.shortage  | value:  43.403237620450604\n",
            "Monona County | column name : Ventilator.shortage  | value:  43.80030837664147\n",
            "Muscatine County | column name : Ventilator.shortage  | value:  41.99863260967783\n",
            "O'Brien County | column name : Ventilator.shortage  | value:  43.55667145638354\n",
            "Page County | column name : Ventilator.shortage  | value:  43.16587891752837\n",
            "Palo Alto County | column name : Ventilator.shortage  | value:  43.797374483990865\n",
            "Plymouth County | column name : Ventilator.shortage  | value:  42.17372856990587\n",
            "Pocahontas County | column name : Ventilator.shortage  | value:  42.56530863513319\n",
            "Pottawattamie County | column name : Ventilator.shortage  | value:  41.67539922252143\n",
            "Poweshiek County | column name : Ventilator.shortage  | value:  43.16587891752837\n",
            "Sac County | column name : Ventilator.shortage  | value:  43.420479602267186\n",
            "Sioux County | column name : Ventilator.shortage  | value:  41.99863260967783\n",
            "Story County | column name : Ventilator.shortage  | value:  41.67539922252143\n",
            "Tama County | column name : Ventilator.shortage  | value:  43.16587891752837\n",
            "Wapello County | column name : Ventilator.shortage  | value:  41.99863260967783\n",
            "Webster County | column name : Ventilator.shortage  | value:  41.99863260967783\n",
            "Winneshiek County | column name : Ventilator.shortage  | value:  43.08859034869118\n",
            "Woodbury County | column name : Ventilator.shortage  | value:  41.67539922252143\n",
            "Wright County | column name : Ventilator.shortage  | value:  43.33539886662903\n",
            "** NOTE: prints nothing indicates no column has HUGE standard deviation\n"
          ],
          "name": "stdout"
        }
      ]
    },
    {
      "cell_type": "markdown",
      "metadata": {
        "id": "okeoR2Kv1h9y"
      },
      "source": [
        "## Checking CA counties"
      ]
    },
    {
      "cell_type": "code",
      "metadata": {
        "colab": {
          "base_uri": "https://localhost:8080/"
        },
        "id": "v8an_Z8p1Ysf",
        "outputId": "09ab52b5-cb06-47ca-ed9c-e4df81c4e855"
      },
      "source": [
        "for ca_county in ca_counties:\n",
        "  #print(\"######.  \",or_county,\" .######\")\n",
        "  ca_county_data = ca_superset_data_filtered[ca_superset_data_filtered['County Name'] == ca_county]\n",
        "  for col in demographic_numeric_cols:\n",
        "    std_dev = np.std(ca_county_data[col].values)\n",
        "    if std_dev > THRESHOLD:\n",
        "      print(ca_county,'| column name :',col,' | value: ',np.std(ca_county_data[col].values)) \n",
        "\n",
        "print(\"**NOTE: prints nothing indicates no column has HUGE standard deviation\") "
      ],
      "execution_count": null,
      "outputs": [
        {
          "output_type": "stream",
          "text": [
            "Jackson County | column name : Ventilator.shortage  | value:  86.12266931003934\n",
            "Jefferson County | column name : Ventilator.shortage  | value:  83.95229948241033\n",
            "Monroe County | column name : Ventilator.shortage  | value:  84.4162454679175\n",
            "Washington County | column name : Ventilator.shortage  | value:  83.95229948241033\n",
            "Clark County | column name : Ventilator.shortage  | value:  84.4891103948638\n",
            "Columbia County | column name : Ventilator.shortage  | value:  84.4162454679175\n",
            "Crawford County | column name : Ventilator.shortage  | value:  85.59091180077581\n",
            "Grant County | column name : Ventilator.shortage  | value:  84.4162454679175\n",
            "Lafayette County | column name : Ventilator.shortage  | value:  84.33136259362699\n",
            "Lincoln County | column name : Ventilator.shortage  | value:  84.74377599589099\n",
            "Polk County | column name : Ventilator.shortage  | value:  84.4162454679175\n",
            "Adams County | column name : Ventilator.shortage  | value:  86.12266931003934\n",
            "Douglas County | column name : Ventilator.shortage  | value:  84.4162454679175\n",
            "Taylor County | column name : Ventilator.shortage  | value:  84.85161616954976\n",
            "Dodge County | column name : Ventilator.shortage  | value:  83.95229948241033\n",
            "Pierce County | column name : Ventilator.shortage  | value:  84.4162454679175\n",
            "Richland County | column name : Ventilator.shortage  | value:  86.12266931003934\n",
            "Winnebago County | column name : Ventilator.shortage  | value:  83.95229948241033\n",
            "Brown County | column name : Ventilator.shortage  | value:  83.95229948241033\n",
            "Iowa County | column name : Ventilator.shortage  | value:  86.12266931003934\n",
            "Green County | column name : Ventilator.shortage  | value:  84.4162454679175\n",
            "Chippewa County | column name : Ventilator.shortage  | value:  84.4162454679175\n",
            "Marquette County | column name : Ventilator.shortage  | value:  86.12266931003934\n",
            "Rock County | column name : Ventilator.shortage  | value:  83.95229948241033\n",
            "Vernon County | column name : Ventilator.shortage  | value:  86.12266931003934\n",
            "Buffalo County | column name : Ventilator.shortage  | value:  85.25489701717594\n",
            "Oneida County | column name : Ventilator.shortage  | value:  84.4891103948638\n",
            "Ashland County | column name : Ventilator.shortage  | value:  85.70838124109007\n",
            "Portage County | column name : Ventilator.shortage  | value:  84.02538317750685\n",
            "Wood County | column name : Ventilator.shortage  | value:  83.95229948241033\n",
            "Rusk County | column name : Ventilator.shortage  | value:  85.72802211062611\n",
            "Barron County | column name : Ventilator.shortage  | value:  84.4162454679175\n",
            "Burnett County | column name : Ventilator.shortage  | value:  84.5586900353366\n",
            "Calumet County | column name : Ventilator.shortage  | value:  84.4162454679175\n",
            "Dane County | column name : Ventilator.shortage  | value:  83.95229948241033\n",
            "Door County | column name : Ventilator.shortage  | value:  86.12266931003934\n",
            "Dunn County | column name : Ventilator.shortage  | value:  84.4162454679175\n",
            "Eau Claire County | column name : Ventilator.shortage  | value:  83.95229948241033\n",
            "Fond du Lac County | column name : Ventilator.shortage  | value:  83.95229948241033\n",
            "Green Lake County | column name : Ventilator.shortage  | value:  86.12266931003934\n",
            "Juneau County | column name : Ventilator.shortage  | value:  84.56684679629507\n",
            "Kenosha County | column name : Ventilator.shortage  | value:  83.95229948241033\n",
            "Kewaunee County | column name : Ventilator.shortage  | value:  86.12266931003934\n",
            "La Crosse County | column name : Ventilator.shortage  | value:  83.95229948241033\n",
            "Langlade County | column name : Ventilator.shortage  | value:  86.12266931003934\n",
            "Manitowoc County | column name : Ventilator.shortage  | value:  83.95229948241033\n",
            "Marathon County | column name : Ventilator.shortage  | value:  83.95229948241033\n",
            "Marinette County | column name : Ventilator.shortage  | value:  84.4162454679175\n",
            "Milwaukee County | column name : Ventilator.shortage  | value:  83.95229948241033\n",
            "Oconto County | column name : Ventilator.shortage  | value:  84.63957545540819\n",
            "Outagamie County | column name : Ventilator.shortage  | value:  83.95229948241033\n",
            "Ozaukee County | column name : Ventilator.shortage  | value:  84.18309709366065\n",
            "Price County | column name : Ventilator.shortage  | value:  85.51275093103347\n",
            "Racine County | column name : Ventilator.shortage  | value:  83.95229948241033\n",
            "Sauk County | column name : Ventilator.shortage  | value:  83.95229948241033\n",
            "Sawyer County | column name : Ventilator.shortage  | value:  86.12266931003934\n",
            "Shawano County | column name : Ventilator.shortage  | value:  84.4162454679175\n",
            "Sheboygan County | column name : Ventilator.shortage  | value:  83.95229948241033\n",
            "Trempealeau County | column name : Ventilator.shortage  | value:  84.4162454679175\n",
            "Vilas County | column name : Ventilator.shortage  | value:  86.12266931003934\n",
            "Walworth County | column name : Ventilator.shortage  | value:  83.95229948241033\n",
            "Washburn County | column name : Ventilator.shortage  | value:  84.85543699756596\n",
            "Waukesha County | column name : Ventilator.shortage  | value:  83.95229948241033\n",
            "Waupaca County | column name : Ventilator.shortage  | value:  84.4162454679175\n",
            "Waushara County | column name : Ventilator.shortage  | value:  86.12266931003934\n",
            "**NOTE: prints nothing indicates no column has HUGE standard deviation\n"
          ],
          "name": "stdout"
        }
      ]
    },
    {
      "cell_type": "markdown",
      "metadata": {
        "id": "kPtf4fmH2BFj"
      },
      "source": [
        "## Observation: \n",
        "\n",
        "By checking across all the columns in Arkansas and Texas data. We have noticed Ventilator shortage and Testing.capacity' column has a significant difference. \n",
        "\n",
        "\n",
        "So to avoid discrepancies , we are dropping Ventilator.shortage and Testing.capacity' column from further analysis on reducing data"
      ]
    },
    {
      "cell_type": "markdown",
      "metadata": {
        "id": "vJ8dDdk9yNsu"
      },
      "source": [
        "## Filtered Demographic column after **data analysis**"
      ]
    },
    {
      "cell_type": "code",
      "metadata": {
        "id": "ItZzkOwl2koO"
      },
      "source": [
        "demographic_filtered_cols = [ 'PopDensity', #'STFIPS', # remove FIPS also during knn\n",
        "                 'X..people.older.than.60', 'Median.income', \n",
        "                 'X..African.Americans', 'X..Hispanic.Americans',\n",
        "                  'X..Male', 'Employment.density','Testing.capacity',\n",
        "                 'Unemployment.rate','Unemployment.claims.1000.people']\n",
        "demographic_filtered_cols1 = [ 'PopDensity', #'STFIPS', # remove FIPS also during knn\n",
        "                 'X..people.older.than.60', 'Median.income', \n",
        "                 'X..African.Americans', 'X..Hispanic.Americans',\n",
        "                  'X..Male', 'Employment.density'#,'Testing.capacity',\n",
        "                 'Unemployment.rate','Unemployment.claims.1000.people']"
      ],
      "execution_count": null,
      "outputs": []
    },
    {
      "cell_type": "markdown",
      "metadata": {
        "id": "8WKVpv8i3GhC"
      },
      "source": [
        "## Reduce each county by mean"
      ]
    },
    {
      "cell_type": "markdown",
      "metadata": {
        "id": "Std9OD4i3LCF"
      },
      "source": [
        "#### Applying for Oregan"
      ]
    },
    {
      "cell_type": "code",
      "metadata": {
        "id": "rGPa2Xi137ZZ"
      },
      "source": [
        "or_demographic_df = pd.DataFrame(columns=[ 'FIPS','County Name','PopDensity', #'STFIPS', # remove FIPS also during knn\n",
        "                 'X..people.older.than.60', 'Median.income', \n",
        "                 'X..African.Americans', 'X..Hispanic.Americans',\n",
        "                  'X..Male', 'Employment.density', 'Testing.capacity',\n",
        "                 'Unemployment.rate','Unemployment.claims.1000.people'],index=None)\n"
      ],
      "execution_count": null,
      "outputs": []
    },
    {
      "cell_type": "code",
      "metadata": {
        "colab": {
          "base_uri": "https://localhost:8080/"
        },
        "id": "3LZMrG9G4Soa",
        "outputId": "7b0630b7-0459-4960-d2fd-9c3e6a603e16"
      },
      "source": [
        "or_superset_data_filtered.columns"
      ],
      "execution_count": null,
      "outputs": [
        {
          "output_type": "execute_result",
          "data": {
            "text/plain": [
              "Index(['FIPS', 'County Name', 'PopDensity', 'X..people.older.than.60',\n",
              "       'Median.income', 'X..African.Americans', 'X..Hispanic.Americans',\n",
              "       'X..Male', 'Employment.density', 'Testing.capacity',\n",
              "       'Ventilator.shortage', 'Unemployment.rate',\n",
              "       'Unemployment.claims.1000.people'],\n",
              "      dtype='object')"
            ]
          },
          "metadata": {
            "tags": []
          },
          "execution_count": 245
        }
      ]
    },
    {
      "cell_type": "code",
      "metadata": {
        "colab": {
          "base_uri": "https://localhost:8080/"
        },
        "id": "cb9S0bum3GNN",
        "outputId": "28e633ec-41f7-4ba3-b8b6-9ced7eb5d97b"
      },
      "source": [
        "for or_county in tqdm(or_counties):\n",
        "  county_data = or_superset_data_filtered[or_superset_data_filtered['County Name'] == or_county]\n",
        "  #print(county_data.FIPS.unique().tolist()[0])\n",
        "  #print(county_data.mean(axis=1))\n",
        "  reduced_df = county_data[['PopDensity', 'X..people.older.than.60',\n",
        "       'Median.income', 'X..African.Americans', 'X..Hispanic.Americans',\n",
        "       'X..Male', 'Employment.density', 'Testing.capacity',\n",
        "       'Unemployment.rate',\n",
        "       'Unemployment.claims.1000.people']].apply(lambda x : x.mean()) \n",
        "  \n",
        "  reduced_df['County Name'] = or_county\n",
        "  reduced_df['FIPS'] = county_data.FIPS.unique().tolist()[0]\n",
        "  or_demographic_df = or_demographic_df.append(reduced_df, ignore_index=True)\n",
        "  #print(reduced_df.head()) \n",
        "\n"
      ],
      "execution_count": null,
      "outputs": [
        {
          "output_type": "stream",
          "text": [
            "100%|██████████| 92/92 [00:00<00:00, 105.24it/s]\n"
          ],
          "name": "stderr"
        }
      ]
    },
    {
      "cell_type": "code",
      "metadata": {
        "colab": {
          "base_uri": "https://localhost:8080/",
          "height": 317
        },
        "id": "I1b-d8Bw5l58",
        "outputId": "0dc84eb2-1cdd-4347-db9e-cf9ade47c6c1"
      },
      "source": [
        "or_demographic_df.head()"
      ],
      "execution_count": null,
      "outputs": [
        {
          "output_type": "execute_result",
          "data": {
            "text/html": [
              "<div>\n",
              "<style scoped>\n",
              "    .dataframe tbody tr th:only-of-type {\n",
              "        vertical-align: middle;\n",
              "    }\n",
              "\n",
              "    .dataframe tbody tr th {\n",
              "        vertical-align: top;\n",
              "    }\n",
              "\n",
              "    .dataframe thead th {\n",
              "        text-align: right;\n",
              "    }\n",
              "</style>\n",
              "<table border=\"1\" class=\"dataframe\">\n",
              "  <thead>\n",
              "    <tr style=\"text-align: right;\">\n",
              "      <th></th>\n",
              "      <th>FIPS</th>\n",
              "      <th>County Name</th>\n",
              "      <th>PopDensity</th>\n",
              "      <th>X..people.older.than.60</th>\n",
              "      <th>Median.income</th>\n",
              "      <th>X..African.Americans</th>\n",
              "      <th>X..Hispanic.Americans</th>\n",
              "      <th>X..Male</th>\n",
              "      <th>Employment.density</th>\n",
              "      <th>Testing.capacity</th>\n",
              "      <th>Unemployment.rate</th>\n",
              "      <th>Unemployment.claims.1000.people</th>\n",
              "    </tr>\n",
              "  </thead>\n",
              "  <tbody>\n",
              "    <tr>\n",
              "      <th>0</th>\n",
              "      <td>19023</td>\n",
              "      <td>Butler County</td>\n",
              "      <td>9.806636</td>\n",
              "      <td>29.0</td>\n",
              "      <td>55999.0</td>\n",
              "      <td>0.5</td>\n",
              "      <td>1.3</td>\n",
              "      <td>50.09</td>\n",
              "      <td>6.0</td>\n",
              "      <td>12.251020</td>\n",
              "      <td>6.454082</td>\n",
              "      <td>4.739796</td>\n",
              "    </tr>\n",
              "    <tr>\n",
              "      <th>1</th>\n",
              "      <td>19025</td>\n",
              "      <td>Calhoun County</td>\n",
              "      <td>6.626489</td>\n",
              "      <td>31.0</td>\n",
              "      <td>50800.0</td>\n",
              "      <td>1.2</td>\n",
              "      <td>1.9</td>\n",
              "      <td>51.57</td>\n",
              "      <td>5.0</td>\n",
              "      <td>12.461702</td>\n",
              "      <td>6.425000</td>\n",
              "      <td>4.360638</td>\n",
              "    </tr>\n",
              "    <tr>\n",
              "      <th>2</th>\n",
              "      <td>19035</td>\n",
              "      <td>Cherokee County</td>\n",
              "      <td>7.675107</td>\n",
              "      <td>32.0</td>\n",
              "      <td>54658.0</td>\n",
              "      <td>2.3</td>\n",
              "      <td>1.3</td>\n",
              "      <td>50.54</td>\n",
              "      <td>9.0</td>\n",
              "      <td>12.142000</td>\n",
              "      <td>6.423000</td>\n",
              "      <td>4.736500</td>\n",
              "    </tr>\n",
              "    <tr>\n",
              "      <th>3</th>\n",
              "      <td>19039</td>\n",
              "      <td>Clarke County</td>\n",
              "      <td>8.311870</td>\n",
              "      <td>25.0</td>\n",
              "      <td>51571.0</td>\n",
              "      <td>0.1</td>\n",
              "      <td>13.2</td>\n",
              "      <td>50.52</td>\n",
              "      <td>10.0</td>\n",
              "      <td>12.388053</td>\n",
              "      <td>6.617257</td>\n",
              "      <td>4.728319</td>\n",
              "    </tr>\n",
              "    <tr>\n",
              "      <th>4</th>\n",
              "      <td>19041</td>\n",
              "      <td>Clay County</td>\n",
              "      <td>11.103779</td>\n",
              "      <td>28.0</td>\n",
              "      <td>47874.0</td>\n",
              "      <td>0.3</td>\n",
              "      <td>3.5</td>\n",
              "      <td>49.35</td>\n",
              "      <td>16.0</td>\n",
              "      <td>12.356929</td>\n",
              "      <td>6.422097</td>\n",
              "      <td>4.336330</td>\n",
              "    </tr>\n",
              "  </tbody>\n",
              "</table>\n",
              "</div>"
            ],
            "text/plain": [
              "    FIPS      County Name  ...  Unemployment.rate  Unemployment.claims.1000.people\n",
              "0  19023    Butler County  ...           6.454082                         4.739796\n",
              "1  19025   Calhoun County  ...           6.425000                         4.360638\n",
              "2  19035  Cherokee County  ...           6.423000                         4.736500\n",
              "3  19039    Clarke County  ...           6.617257                         4.728319\n",
              "4  19041      Clay County  ...           6.422097                         4.336330\n",
              "\n",
              "[5 rows x 12 columns]"
            ]
          },
          "metadata": {
            "tags": []
          },
          "execution_count": 247
        }
      ]
    },
    {
      "cell_type": "markdown",
      "metadata": {
        "id": "nCfGI5VY3Own"
      },
      "source": [
        "#### Applying for California"
      ]
    },
    {
      "cell_type": "code",
      "metadata": {
        "id": "tWdPT0I14Do0"
      },
      "source": [
        "ca_demographic_df = pd.DataFrame(columns=[ 'FIPS','County Name','PopDensity', #'STFIPS', # remove FIPS also during knn\n",
        "                 'X..people.older.than.60', 'Median.income', \n",
        "                 'X..African.Americans', 'X..Hispanic.Americans',\n",
        "                  'X..Male', 'Employment.density' ,'Testing.capacity',\n",
        "                 'Unemployment.rate','Unemployment.claims.1000.people'])\n"
      ],
      "execution_count": null,
      "outputs": []
    },
    {
      "cell_type": "code",
      "metadata": {
        "colab": {
          "base_uri": "https://localhost:8080/"
        },
        "id": "6qlqqHwz3SMH",
        "outputId": "e7e3a7e5-cb3f-4a13-a430-6ea18304b0ec"
      },
      "source": [
        "for ca_county in tqdm(ca_counties):\n",
        "  county_data = ca_superset_data_filtered[ca_superset_data_filtered['County Name'] == ca_county]\n",
        "  #print(county_data.FIPS.unique().tolist()[0])\n",
        "  #print(county_data.mean(axis=1))\n",
        "  reduced_df = county_data[['PopDensity', 'X..people.older.than.60',\n",
        "       'Median.income', 'X..African.Americans', 'X..Hispanic.Americans',\n",
        "       'X..Male', 'Employment.density', 'Testing.capacity',\n",
        "       'Unemployment.rate',\n",
        "       'Unemployment.claims.1000.people']].apply(lambda x : x.mean()) \n",
        "  \n",
        "  reduced_df['County Name'] = ca_county\n",
        "  reduced_df['FIPS'] = county_data.FIPS.unique().tolist()[0]\n",
        "  ca_demographic_df = ca_demographic_df.append(reduced_df, ignore_index=True)\n",
        "  #print(reduced_df.head()) \n",
        "\n"
      ],
      "execution_count": null,
      "outputs": [
        {
          "output_type": "stream",
          "text": [
            "100%|██████████| 65/65 [00:00<00:00, 109.41it/s]\n"
          ],
          "name": "stderr"
        }
      ]
    },
    {
      "cell_type": "code",
      "metadata": {
        "colab": {
          "base_uri": "https://localhost:8080/",
          "height": 317
        },
        "id": "g2tUBRuC8UNB",
        "outputId": "993e3748-554c-4931-f759-42689167f173"
      },
      "source": [
        "ca_demographic_df.head()"
      ],
      "execution_count": null,
      "outputs": [
        {
          "output_type": "execute_result",
          "data": {
            "text/html": [
              "<div>\n",
              "<style scoped>\n",
              "    .dataframe tbody tr th:only-of-type {\n",
              "        vertical-align: middle;\n",
              "    }\n",
              "\n",
              "    .dataframe tbody tr th {\n",
              "        vertical-align: top;\n",
              "    }\n",
              "\n",
              "    .dataframe thead th {\n",
              "        text-align: right;\n",
              "    }\n",
              "</style>\n",
              "<table border=\"1\" class=\"dataframe\">\n",
              "  <thead>\n",
              "    <tr style=\"text-align: right;\">\n",
              "      <th></th>\n",
              "      <th>FIPS</th>\n",
              "      <th>County Name</th>\n",
              "      <th>PopDensity</th>\n",
              "      <th>X..people.older.than.60</th>\n",
              "      <th>Median.income</th>\n",
              "      <th>X..African.Americans</th>\n",
              "      <th>X..Hispanic.Americans</th>\n",
              "      <th>X..Male</th>\n",
              "      <th>Employment.density</th>\n",
              "      <th>Testing.capacity</th>\n",
              "      <th>Unemployment.rate</th>\n",
              "      <th>Unemployment.claims.1000.people</th>\n",
              "    </tr>\n",
              "  </thead>\n",
              "  <tbody>\n",
              "    <tr>\n",
              "      <th>0</th>\n",
              "      <td>55053</td>\n",
              "      <td>Jackson County</td>\n",
              "      <td>8.019932</td>\n",
              "      <td>26.0</td>\n",
              "      <td>52984.0</td>\n",
              "      <td>2.1</td>\n",
              "      <td>3.3</td>\n",
              "      <td>53.42</td>\n",
              "      <td>9.0</td>\n",
              "      <td>6.955056</td>\n",
              "      <td>7.773783</td>\n",
              "      <td>4.808240</td>\n",
              "    </tr>\n",
              "    <tr>\n",
              "      <th>1</th>\n",
              "      <td>55055</td>\n",
              "      <td>Jefferson County</td>\n",
              "      <td>58.735534</td>\n",
              "      <td>22.0</td>\n",
              "      <td>63676.0</td>\n",
              "      <td>0.8</td>\n",
              "      <td>7.0</td>\n",
              "      <td>50.02</td>\n",
              "      <td>57.0</td>\n",
              "      <td>6.786301</td>\n",
              "      <td>7.604110</td>\n",
              "      <td>4.583219</td>\n",
              "    </tr>\n",
              "    <tr>\n",
              "      <th>2</th>\n",
              "      <td>55081</td>\n",
              "      <td>Monroe County</td>\n",
              "      <td>19.500882</td>\n",
              "      <td>23.0</td>\n",
              "      <td>58178.0</td>\n",
              "      <td>1.6</td>\n",
              "      <td>4.4</td>\n",
              "      <td>50.59</td>\n",
              "      <td>19.0</td>\n",
              "      <td>6.830769</td>\n",
              "      <td>7.642308</td>\n",
              "      <td>4.633916</td>\n",
              "    </tr>\n",
              "    <tr>\n",
              "      <th>3</th>\n",
              "      <td>55131</td>\n",
              "      <td>Washington County</td>\n",
              "      <td>120.620011</td>\n",
              "      <td>23.0</td>\n",
              "      <td>74062.0</td>\n",
              "      <td>1.2</td>\n",
              "      <td>3.1</td>\n",
              "      <td>49.62</td>\n",
              "      <td>121.0</td>\n",
              "      <td>6.786301</td>\n",
              "      <td>7.604110</td>\n",
              "      <td>4.583219</td>\n",
              "    </tr>\n",
              "    <tr>\n",
              "      <th>4</th>\n",
              "      <td>55019</td>\n",
              "      <td>Clark County</td>\n",
              "      <td>11.008594</td>\n",
              "      <td>23.0</td>\n",
              "      <td>51872.0</td>\n",
              "      <td>0.3</td>\n",
              "      <td>4.4</td>\n",
              "      <td>50.67</td>\n",
              "      <td>8.0</td>\n",
              "      <td>6.838246</td>\n",
              "      <td>7.650175</td>\n",
              "      <td>4.643158</td>\n",
              "    </tr>\n",
              "  </tbody>\n",
              "</table>\n",
              "</div>"
            ],
            "text/plain": [
              "    FIPS        County Name  ...  Unemployment.rate  Unemployment.claims.1000.people\n",
              "0  55053     Jackson County  ...           7.773783                         4.808240\n",
              "1  55055   Jefferson County  ...           7.604110                         4.583219\n",
              "2  55081      Monroe County  ...           7.642308                         4.633916\n",
              "3  55131  Washington County  ...           7.604110                         4.583219\n",
              "4  55019       Clark County  ...           7.650175                         4.643158\n",
              "\n",
              "[5 rows x 12 columns]"
            ]
          },
          "metadata": {
            "tags": []
          },
          "execution_count": 250
        }
      ]
    },
    {
      "cell_type": "code",
      "metadata": {
        "colab": {
          "base_uri": "https://localhost:8080/"
        },
        "id": "oGkQlXqn8WpS",
        "outputId": "532ab439-fe2b-4d6f-c090-0e5bcd37996b"
      },
      "source": [
        "print(ca_demographic_df.shape)\n",
        "print(or_demographic_df.shape)"
      ],
      "execution_count": null,
      "outputs": [
        {
          "output_type": "stream",
          "text": [
            "(65, 12)\n",
            "(92, 12)\n"
          ],
          "name": "stdout"
        }
      ]
    },
    {
      "cell_type": "code",
      "metadata": {
        "colab": {
          "base_uri": "https://localhost:8080/"
        },
        "id": "puHAV1ci_DHu",
        "outputId": "0eb73c12-b791-4587-8f5d-6bf4d33515e7"
      },
      "source": [
        "or_demographic_df['County Name'].nunique()"
      ],
      "execution_count": null,
      "outputs": [
        {
          "output_type": "execute_result",
          "data": {
            "text/plain": [
              "92"
            ]
          },
          "metadata": {
            "tags": []
          },
          "execution_count": 252
        }
      ]
    },
    {
      "cell_type": "markdown",
      "metadata": {
        "id": "tbM7eZ4l8puH"
      },
      "source": [
        "# Running similarity code"
      ]
    },
    {
      "cell_type": "code",
      "metadata": {
        "id": "zG3-rsj50IL4"
      },
      "source": [
        "demographic_numeric_cols = [ 'PopDensity',\n",
        "                 'X..people.older.than.60', 'Median.income', \n",
        "                 'X..African.Americans', 'X..Hispanic.Americans',\n",
        "                  'X..Male', 'Employment.density' ,'Testing.capacity',\n",
        "                 'Unemployment.rate','Unemployment.claims.1000.people']"
      ],
      "execution_count": null,
      "outputs": []
    },
    {
      "cell_type": "code",
      "metadata": {
        "id": "C6K2RRWS-yiz",
        "colab": {
          "base_uri": "https://localhost:8080/"
        },
        "outputId": "d542f20a-abb7-4100-95e4-9b6a3d4bbed2"
      },
      "source": [
        "%%time\n",
        "simiarity_ids,cosine_distances,cosine_similarities = get_computed_similarities(vectors=ca_demographic_df[demographic_numeric_cols].values, predicted_vectors=or_demographic_df[demographic_numeric_cols].values)"
      ],
      "execution_count": null,
      "outputs": [
        {
          "output_type": "stream",
          "text": [
            "CPU times: user 1.16 s, sys: 22.2 ms, total: 1.19 s\n",
            "Wall time: 1.16 s\n"
          ],
          "name": "stdout"
        }
      ]
    },
    {
      "cell_type": "code",
      "metadata": {
        "id": "K8-ivtEc90ZT"
      },
      "source": [
        "or_demographic_df['Cosine_similarity'] = cosine_similarities"
      ],
      "execution_count": null,
      "outputs": []
    },
    {
      "cell_type": "markdown",
      "metadata": {
        "id": "lTxK4bmE2ely"
      },
      "source": [
        "## Extracting cosine distance "
      ]
    },
    {
      "cell_type": "code",
      "metadata": {
        "colab": {
          "base_uri": "https://localhost:8080/",
          "height": 317
        },
        "id": "D4vLu6VH2hKH",
        "outputId": "7d8b5060-75e4-441b-c21d-dc08e4499bf7"
      },
      "source": [
        "cosine_distance_array = []\n",
        "for cosine_distance in cosine_distances:\n",
        "  #print(cosine_distance[0][0])\n",
        "  cosine_distance_array.append(cosine_distance[0][0])\n",
        "  \n",
        "\n",
        "\n",
        "or_demographic_df['cosine_distance'] = cosine_distance_array\n",
        "or_demographic_df.head()"
      ],
      "execution_count": null,
      "outputs": [
        {
          "output_type": "execute_result",
          "data": {
            "text/html": [
              "<div>\n",
              "<style scoped>\n",
              "    .dataframe tbody tr th:only-of-type {\n",
              "        vertical-align: middle;\n",
              "    }\n",
              "\n",
              "    .dataframe tbody tr th {\n",
              "        vertical-align: top;\n",
              "    }\n",
              "\n",
              "    .dataframe thead th {\n",
              "        text-align: right;\n",
              "    }\n",
              "</style>\n",
              "<table border=\"1\" class=\"dataframe\">\n",
              "  <thead>\n",
              "    <tr style=\"text-align: right;\">\n",
              "      <th></th>\n",
              "      <th>FIPS</th>\n",
              "      <th>County Name</th>\n",
              "      <th>PopDensity</th>\n",
              "      <th>X..people.older.than.60</th>\n",
              "      <th>Median.income</th>\n",
              "      <th>X..African.Americans</th>\n",
              "      <th>X..Hispanic.Americans</th>\n",
              "      <th>X..Male</th>\n",
              "      <th>Employment.density</th>\n",
              "      <th>Testing.capacity</th>\n",
              "      <th>Unemployment.rate</th>\n",
              "      <th>Unemployment.claims.1000.people</th>\n",
              "      <th>Cosine_similarity</th>\n",
              "      <th>cosine_distance</th>\n",
              "    </tr>\n",
              "  </thead>\n",
              "  <tbody>\n",
              "    <tr>\n",
              "      <th>0</th>\n",
              "      <td>19023</td>\n",
              "      <td>Butler County</td>\n",
              "      <td>9.806636</td>\n",
              "      <td>29.0</td>\n",
              "      <td>55999.0</td>\n",
              "      <td>0.5</td>\n",
              "      <td>1.3</td>\n",
              "      <td>50.09</td>\n",
              "      <td>6.0</td>\n",
              "      <td>12.251020</td>\n",
              "      <td>6.454082</td>\n",
              "      <td>4.739796</td>\n",
              "      <td>(25, [[0.9999999932799077]])</td>\n",
              "      <td>1.0</td>\n",
              "    </tr>\n",
              "    <tr>\n",
              "      <th>1</th>\n",
              "      <td>19025</td>\n",
              "      <td>Calhoun County</td>\n",
              "      <td>6.626489</td>\n",
              "      <td>31.0</td>\n",
              "      <td>50800.0</td>\n",
              "      <td>1.2</td>\n",
              "      <td>1.9</td>\n",
              "      <td>51.57</td>\n",
              "      <td>5.0</td>\n",
              "      <td>12.461702</td>\n",
              "      <td>6.425000</td>\n",
              "      <td>4.360638</td>\n",
              "      <td>(61, [[0.9999999881545241]])</td>\n",
              "      <td>1.0</td>\n",
              "    </tr>\n",
              "    <tr>\n",
              "      <th>2</th>\n",
              "      <td>19035</td>\n",
              "      <td>Cherokee County</td>\n",
              "      <td>7.675107</td>\n",
              "      <td>32.0</td>\n",
              "      <td>54658.0</td>\n",
              "      <td>2.3</td>\n",
              "      <td>1.3</td>\n",
              "      <td>50.54</td>\n",
              "      <td>9.0</td>\n",
              "      <td>12.142000</td>\n",
              "      <td>6.423000</td>\n",
              "      <td>4.736500</td>\n",
              "      <td>(13, [[0.9999999893382104]])</td>\n",
              "      <td>1.0</td>\n",
              "    </tr>\n",
              "    <tr>\n",
              "      <th>3</th>\n",
              "      <td>19039</td>\n",
              "      <td>Clarke County</td>\n",
              "      <td>8.311870</td>\n",
              "      <td>25.0</td>\n",
              "      <td>51571.0</td>\n",
              "      <td>0.1</td>\n",
              "      <td>13.2</td>\n",
              "      <td>50.52</td>\n",
              "      <td>10.0</td>\n",
              "      <td>12.388053</td>\n",
              "      <td>6.617257</td>\n",
              "      <td>4.728319</td>\n",
              "      <td>(4, [[0.9999999763395062]])</td>\n",
              "      <td>1.0</td>\n",
              "    </tr>\n",
              "    <tr>\n",
              "      <th>4</th>\n",
              "      <td>19041</td>\n",
              "      <td>Clay County</td>\n",
              "      <td>11.103779</td>\n",
              "      <td>28.0</td>\n",
              "      <td>47874.0</td>\n",
              "      <td>0.3</td>\n",
              "      <td>3.5</td>\n",
              "      <td>49.35</td>\n",
              "      <td>16.0</td>\n",
              "      <td>12.356929</td>\n",
              "      <td>6.422097</td>\n",
              "      <td>4.336330</td>\n",
              "      <td>(6, [[0.9999999883326229]])</td>\n",
              "      <td>1.0</td>\n",
              "    </tr>\n",
              "  </tbody>\n",
              "</table>\n",
              "</div>"
            ],
            "text/plain": [
              "    FIPS      County Name  ...             Cosine_similarity  cosine_distance\n",
              "0  19023    Butler County  ...  (25, [[0.9999999932799077]])              1.0\n",
              "1  19025   Calhoun County  ...  (61, [[0.9999999881545241]])              1.0\n",
              "2  19035  Cherokee County  ...  (13, [[0.9999999893382104]])              1.0\n",
              "3  19039    Clarke County  ...   (4, [[0.9999999763395062]])              1.0\n",
              "4  19041      Clay County  ...   (6, [[0.9999999883326229]])              1.0\n",
              "\n",
              "[5 rows x 14 columns]"
            ]
          },
          "metadata": {
            "tags": []
          },
          "execution_count": 256
        }
      ]
    },
    {
      "cell_type": "code",
      "metadata": {
        "colab": {
          "base_uri": "https://localhost:8080/"
        },
        "id": "-OTM-l7w-UxM",
        "outputId": "4d3b9a7a-64bb-476f-a169-a97a0fab9372"
      },
      "source": [
        "ca_demographic_df.columns"
      ],
      "execution_count": null,
      "outputs": [
        {
          "output_type": "execute_result",
          "data": {
            "text/plain": [
              "Index(['FIPS', 'County Name', 'PopDensity', 'X..people.older.than.60',\n",
              "       'Median.income', 'X..African.Americans', 'X..Hispanic.Americans',\n",
              "       'X..Male', 'Employment.density', 'Testing.capacity',\n",
              "       'Unemployment.rate', 'Unemployment.claims.1000.people'],\n",
              "      dtype='object')"
            ]
          },
          "metadata": {
            "tags": []
          },
          "execution_count": 257
        }
      ]
    },
    {
      "cell_type": "code",
      "metadata": {
        "colab": {
          "base_uri": "https://localhost:8080/"
        },
        "id": "x5dEwq7p-9eG",
        "outputId": "5c68f4a5-a815-48d1-b900-919840e50f31"
      },
      "source": [
        "print(or_demographic_df.shape)\n",
        "ca_demographic_df.shape"
      ],
      "execution_count": null,
      "outputs": [
        {
          "output_type": "stream",
          "text": [
            "(92, 14)\n"
          ],
          "name": "stdout"
        },
        {
          "output_type": "execute_result",
          "data": {
            "text/plain": [
              "(65, 12)"
            ]
          },
          "metadata": {
            "tags": []
          },
          "execution_count": 258
        }
      ]
    },
    {
      "cell_type": "code",
      "metadata": {
        "colab": {
          "base_uri": "https://localhost:8080/"
        },
        "id": "-wMmDnSn1yQ6",
        "outputId": "59a28efe-9ef9-4821-ed65-274a2a9ee3d6"
      },
      "source": [
        "county_names = []\n",
        "FIPS = []\n",
        "for id in tqdm(simiarity_ids):\n",
        "  #print(id)\n",
        "  df = ca_demographic_df[ca_demographic_df.index == id][['County Name','FIPS']]\n",
        "  county_names.append(df['County Name'].tolist()[0])\n",
        "  FIPS.append(df['FIPS'].tolist()[0])\n",
        "  #print(df['County Name'], df['FIPS'])\n",
        "  \n"
      ],
      "execution_count": null,
      "outputs": [
        {
          "output_type": "stream",
          "text": [
            "100%|██████████| 92/92 [00:00<00:00, 851.54it/s]\n"
          ],
          "name": "stderr"
        }
      ]
    },
    {
      "cell_type": "code",
      "metadata": {
        "id": "eYBI8CQi-rYP"
      },
      "source": [
        "or_demographic_df['similarity_fips'] = FIPS\n",
        "or_demographic_df['similarity_county'] = county_names"
      ],
      "execution_count": null,
      "outputs": []
    },
    {
      "cell_type": "code",
      "metadata": {
        "colab": {
          "base_uri": "https://localhost:8080/",
          "height": 317
        },
        "id": "jTZdRpmt-wuN",
        "outputId": "ff3cf7b8-8bc1-471c-d5b3-ce39e35d216f"
      },
      "source": [
        "or_demographic_df.head()"
      ],
      "execution_count": null,
      "outputs": [
        {
          "output_type": "execute_result",
          "data": {
            "text/html": [
              "<div>\n",
              "<style scoped>\n",
              "    .dataframe tbody tr th:only-of-type {\n",
              "        vertical-align: middle;\n",
              "    }\n",
              "\n",
              "    .dataframe tbody tr th {\n",
              "        vertical-align: top;\n",
              "    }\n",
              "\n",
              "    .dataframe thead th {\n",
              "        text-align: right;\n",
              "    }\n",
              "</style>\n",
              "<table border=\"1\" class=\"dataframe\">\n",
              "  <thead>\n",
              "    <tr style=\"text-align: right;\">\n",
              "      <th></th>\n",
              "      <th>FIPS</th>\n",
              "      <th>County Name</th>\n",
              "      <th>PopDensity</th>\n",
              "      <th>X..people.older.than.60</th>\n",
              "      <th>Median.income</th>\n",
              "      <th>X..African.Americans</th>\n",
              "      <th>X..Hispanic.Americans</th>\n",
              "      <th>X..Male</th>\n",
              "      <th>Employment.density</th>\n",
              "      <th>Testing.capacity</th>\n",
              "      <th>Unemployment.rate</th>\n",
              "      <th>Unemployment.claims.1000.people</th>\n",
              "      <th>Cosine_similarity</th>\n",
              "      <th>cosine_distance</th>\n",
              "      <th>similarity_fips</th>\n",
              "      <th>similarity_county</th>\n",
              "    </tr>\n",
              "  </thead>\n",
              "  <tbody>\n",
              "    <tr>\n",
              "      <th>0</th>\n",
              "      <td>19023</td>\n",
              "      <td>Butler County</td>\n",
              "      <td>9.806636</td>\n",
              "      <td>29.0</td>\n",
              "      <td>55999.0</td>\n",
              "      <td>0.5</td>\n",
              "      <td>1.3</td>\n",
              "      <td>50.09</td>\n",
              "      <td>6.0</td>\n",
              "      <td>12.251020</td>\n",
              "      <td>6.454082</td>\n",
              "      <td>4.739796</td>\n",
              "      <td>(25, [[0.9999999932799077]])</td>\n",
              "      <td>1.0</td>\n",
              "      <td>55011</td>\n",
              "      <td>Buffalo County</td>\n",
              "    </tr>\n",
              "    <tr>\n",
              "      <th>1</th>\n",
              "      <td>19025</td>\n",
              "      <td>Calhoun County</td>\n",
              "      <td>6.626489</td>\n",
              "      <td>31.0</td>\n",
              "      <td>50800.0</td>\n",
              "      <td>1.2</td>\n",
              "      <td>1.9</td>\n",
              "      <td>51.57</td>\n",
              "      <td>5.0</td>\n",
              "      <td>12.461702</td>\n",
              "      <td>6.425000</td>\n",
              "      <td>4.360638</td>\n",
              "      <td>(61, [[0.9999999881545241]])</td>\n",
              "      <td>1.0</td>\n",
              "      <td>55129</td>\n",
              "      <td>Washburn County</td>\n",
              "    </tr>\n",
              "    <tr>\n",
              "      <th>2</th>\n",
              "      <td>19035</td>\n",
              "      <td>Cherokee County</td>\n",
              "      <td>7.675107</td>\n",
              "      <td>32.0</td>\n",
              "      <td>54658.0</td>\n",
              "      <td>2.3</td>\n",
              "      <td>1.3</td>\n",
              "      <td>50.54</td>\n",
              "      <td>9.0</td>\n",
              "      <td>12.142000</td>\n",
              "      <td>6.423000</td>\n",
              "      <td>4.736500</td>\n",
              "      <td>(13, [[0.9999999893382104]])</td>\n",
              "      <td>1.0</td>\n",
              "      <td>55119</td>\n",
              "      <td>Taylor County</td>\n",
              "    </tr>\n",
              "    <tr>\n",
              "      <th>3</th>\n",
              "      <td>19039</td>\n",
              "      <td>Clarke County</td>\n",
              "      <td>8.311870</td>\n",
              "      <td>25.0</td>\n",
              "      <td>51571.0</td>\n",
              "      <td>0.1</td>\n",
              "      <td>13.2</td>\n",
              "      <td>50.52</td>\n",
              "      <td>10.0</td>\n",
              "      <td>12.388053</td>\n",
              "      <td>6.617257</td>\n",
              "      <td>4.728319</td>\n",
              "      <td>(4, [[0.9999999763395062]])</td>\n",
              "      <td>1.0</td>\n",
              "      <td>55019</td>\n",
              "      <td>Clark County</td>\n",
              "    </tr>\n",
              "    <tr>\n",
              "      <th>4</th>\n",
              "      <td>19041</td>\n",
              "      <td>Clay County</td>\n",
              "      <td>11.103779</td>\n",
              "      <td>28.0</td>\n",
              "      <td>47874.0</td>\n",
              "      <td>0.3</td>\n",
              "      <td>3.5</td>\n",
              "      <td>49.35</td>\n",
              "      <td>16.0</td>\n",
              "      <td>12.356929</td>\n",
              "      <td>6.422097</td>\n",
              "      <td>4.336330</td>\n",
              "      <td>(6, [[0.9999999883326229]])</td>\n",
              "      <td>1.0</td>\n",
              "      <td>55023</td>\n",
              "      <td>Crawford County</td>\n",
              "    </tr>\n",
              "  </tbody>\n",
              "</table>\n",
              "</div>"
            ],
            "text/plain": [
              "    FIPS      County Name  ...  similarity_fips  similarity_county\n",
              "0  19023    Butler County  ...            55011     Buffalo County\n",
              "1  19025   Calhoun County  ...            55129    Washburn County\n",
              "2  19035  Cherokee County  ...            55119      Taylor County\n",
              "3  19039    Clarke County  ...            55019       Clark County\n",
              "4  19041      Clay County  ...            55023    Crawford County\n",
              "\n",
              "[5 rows x 16 columns]"
            ]
          },
          "metadata": {
            "tags": []
          },
          "execution_count": 261
        }
      ]
    },
    {
      "cell_type": "markdown",
      "metadata": {
        "id": "Y0cbvBEO_Qsj"
      },
      "source": [
        "### Save Temp File to CSV [For Analysis]"
      ]
    },
    {
      "cell_type": "code",
      "metadata": {
        "colab": {
          "base_uri": "https://localhost:8080/"
        },
        "id": "G5qa1Bp__Wng",
        "outputId": "160273b2-a990-4392-94c3-5978ac02da8d"
      },
      "source": [
        "from datetime import datetime\n",
        "location = '/content/drive/Shared drives/CMPE 295- Master Project/projectdata-2021/'\n",
        "filename = similar_state_initial +'_SuperData_demographic_'+datetime.now().strftime(\"%b%d\")+'.csv' #%Y%m%d\n",
        "print(filename)\n",
        "or_demographic_df.to_csv(location+filename,index=False)"
      ],
      "execution_count": null,
      "outputs": [
        {
          "output_type": "stream",
          "text": [
            "Iowa_SuperData_demographic_Mar30.csv\n"
          ],
          "name": "stdout"
        }
      ]
    },
    {
      "cell_type": "code",
      "metadata": {
        "id": "H1zQorSh1hRy"
      },
      "source": [
        "location = '/content/drive/Shared drives/CMPE 295- Master Project/projectdata-2021/'\n",
        "\n",
        "data = pd.read_csv(OR_SuperData_demographic_Mar26.csv)"
      ],
      "execution_count": null,
      "outputs": []
    },
    {
      "cell_type": "markdown",
      "metadata": {
        "id": "LNddkmLb_7Zv"
      },
      "source": [
        "# Visualization from similar county "
      ]
    },
    {
      "cell_type": "code",
      "metadata": {
        "colab": {
          "base_uri": "https://localhost:8080/"
        },
        "id": "d3Tx-eXgBApr",
        "outputId": "cdf918fe-8b9e-4d9a-dcc0-ee9ee8bb9f26"
      },
      "source": [
        "OR_superset_data.columns"
      ],
      "execution_count": null,
      "outputs": [
        {
          "output_type": "execute_result",
          "data": {
            "text/plain": [
              "Index(['Date', 'Province_State', 'FIPS', 'New cases', 'County Name',\n",
              "       'mask_rule_severity', 'm50', 'm50_index',\n",
              "       'retail_and_recreation_percent_change_from_baseline',\n",
              "       'grocery_and_pharmacy_percent_change_from_baseline',\n",
              "       'parks_percent_change_from_baseline',\n",
              "       'transit_stations_percent_change_from_baseline',\n",
              "       'workplaces_percent_change_from_baseline',\n",
              "       'residential_percent_change_from_baseline', 'PopDensity', 'State_Name',\n",
              "       'State', 'CTFIPS', 'CTNAME', 'STFIPS', 'Social.distancing.index',\n",
              "       'X..staying.home', 'Trips.person', 'X..out.of.county.trips',\n",
              "       'X..out.of.state.trips', 'Miles.person', 'Work.trips.person',\n",
              "       'Non.work.trips.person', 'New.COVID.cases', 'Population',\n",
              "       'X..change.in.consumption', 'Transit.mode.share',\n",
              "       'X..people.older.than.60', 'Median.income', 'X..African.Americans',\n",
              "       'X..Hispanic.Americans', 'X..Male', 'Employment.density',\n",
              "       'X..hot.spots.1000.people', 'Hospital.beds.1000.people',\n",
              "       'ICUs.1000.people', 'X..contact.tracing.workers.1000.people',\n",
              "       'New.cases.1000.people', 'Active.cases.1000.people',\n",
              "       'X.days..decreasing.COVID.cases', 'X..hospital.bed.utilization',\n",
              "       'Testing.capacity', 'Tests.done.1000.people', 'X..ICU.utilization',\n",
              "       'Ventilator.shortage', 'Imported.COVID.cases',\n",
              "       'COVID.exposure.1000.people', 'X.days..decreasing.ILI.cases',\n",
              "       'Unemployment.claims.1000.people', 'Unemployment.rate',\n",
              "       'X..working.from.home', 'Cumulative.inflation.rate', 'COVID.death.rate',\n",
              "       'New Cases/100k population', 'rolling_avg_new_cases/100k',\n",
              "       'positivity_rate'],\n",
              "      dtype='object')"
            ]
          },
          "metadata": {
            "tags": []
          },
          "execution_count": 166
        }
      ]
    },
    {
      "cell_type": "code",
      "metadata": {
        "id": "r1kfAFAJBBR1"
      },
      "source": [
        "df_jefferson_county = or_demographic_df[or_demographic_df['County Name'] == 'Jefferson County']\n",
        "df_jefferson_county.head(2)"
      ],
      "execution_count": null,
      "outputs": []
    },
    {
      "cell_type": "code",
      "metadata": {
        "colab": {
          "base_uri": "https://localhost:8080/",
          "height": 199
        },
        "id": "K3YaeqLaUlmf",
        "outputId": "e9b6d414-309c-42ef-f9ad-dd27034ece57"
      },
      "source": [
        "df_jefferson_county = OR_superset_data[OR_superset_data['County Name'] == 'Jefferson County']\n",
        "df_jefferson_county.head(2)"
      ],
      "execution_count": null,
      "outputs": [
        {
          "output_type": "execute_result",
          "data": {
            "text/html": [
              "<div>\n",
              "<style scoped>\n",
              "    .dataframe tbody tr th:only-of-type {\n",
              "        vertical-align: middle;\n",
              "    }\n",
              "\n",
              "    .dataframe tbody tr th {\n",
              "        vertical-align: top;\n",
              "    }\n",
              "\n",
              "    .dataframe thead th {\n",
              "        text-align: right;\n",
              "    }\n",
              "</style>\n",
              "<table border=\"1\" class=\"dataframe\">\n",
              "  <thead>\n",
              "    <tr style=\"text-align: right;\">\n",
              "      <th></th>\n",
              "      <th>Date</th>\n",
              "      <th>Province_State</th>\n",
              "      <th>FIPS</th>\n",
              "      <th>New cases</th>\n",
              "      <th>County Name</th>\n",
              "      <th>mask_rule_severity</th>\n",
              "      <th>m50</th>\n",
              "      <th>m50_index</th>\n",
              "      <th>retail_and_recreation_percent_change_from_baseline</th>\n",
              "      <th>grocery_and_pharmacy_percent_change_from_baseline</th>\n",
              "      <th>parks_percent_change_from_baseline</th>\n",
              "      <th>transit_stations_percent_change_from_baseline</th>\n",
              "      <th>workplaces_percent_change_from_baseline</th>\n",
              "      <th>residential_percent_change_from_baseline</th>\n",
              "      <th>PopDensity</th>\n",
              "      <th>State_Name</th>\n",
              "      <th>Social.distancing.index</th>\n",
              "      <th>X..staying.home</th>\n",
              "      <th>Trips.person</th>\n",
              "      <th>X..out.of.county.trips</th>\n",
              "      <th>X..out.of.state.trips</th>\n",
              "      <th>Miles.person</th>\n",
              "      <th>Work.trips.person</th>\n",
              "      <th>Non.work.trips.person</th>\n",
              "      <th>New.COVID.cases</th>\n",
              "      <th>Population</th>\n",
              "      <th>X..change.in.consumption</th>\n",
              "      <th>Transit.mode.share</th>\n",
              "      <th>X..people.older.than.60</th>\n",
              "      <th>Median.income</th>\n",
              "      <th>X..African.Americans</th>\n",
              "      <th>X..Hispanic.Americans</th>\n",
              "      <th>X..Male</th>\n",
              "      <th>Employment.density</th>\n",
              "      <th>X..hot.spots.1000.people</th>\n",
              "      <th>Hospital.beds.1000.people</th>\n",
              "      <th>ICUs.1000.people</th>\n",
              "      <th>X..contact.tracing.workers.1000.people</th>\n",
              "      <th>New.cases.1000.people</th>\n",
              "      <th>Active.cases.1000.people</th>\n",
              "      <th>X.days..decreasing.COVID.cases</th>\n",
              "      <th>X..hospital.bed.utilization</th>\n",
              "      <th>Testing.capacity</th>\n",
              "      <th>Tests.done.1000.people</th>\n",
              "      <th>X..ICU.utilization</th>\n",
              "      <th>Ventilator.shortage</th>\n",
              "      <th>Imported.COVID.cases</th>\n",
              "      <th>COVID.exposure.1000.people</th>\n",
              "      <th>X.days..decreasing.ILI.cases</th>\n",
              "      <th>Unemployment.claims.1000.people</th>\n",
              "      <th>Unemployment.rate</th>\n",
              "      <th>X..working.from.home</th>\n",
              "      <th>Cumulative.inflation.rate</th>\n",
              "      <th>COVID.death.rate</th>\n",
              "      <th>New Cases/100k population</th>\n",
              "      <th>rolling_avg_new_cases/100k</th>\n",
              "      <th>positivity_rate</th>\n",
              "    </tr>\n",
              "  </thead>\n",
              "  <tbody>\n",
              "    <tr>\n",
              "      <th>49016</th>\n",
              "      <td>2020-03-01</td>\n",
              "      <td>Oregon</td>\n",
              "      <td>41031</td>\n",
              "      <td>0</td>\n",
              "      <td>Jefferson County</td>\n",
              "      <td>0.0</td>\n",
              "      <td>2.552</td>\n",
              "      <td>43</td>\n",
              "      <td>27.0</td>\n",
              "      <td>11.0</td>\n",
              "      <td>0.0</td>\n",
              "      <td>0.0</td>\n",
              "      <td>1.0</td>\n",
              "      <td>0.0</td>\n",
              "      <td>5.013675</td>\n",
              "      <td>Oregon</td>\n",
              "      <td>27</td>\n",
              "      <td>23</td>\n",
              "      <td>3.33</td>\n",
              "      <td>32.4</td>\n",
              "      <td>2.0</td>\n",
              "      <td>42.2</td>\n",
              "      <td>0.30</td>\n",
              "      <td>3.03</td>\n",
              "      <td>0</td>\n",
              "      <td>24192</td>\n",
              "      <td>4.0</td>\n",
              "      <td>1.08</td>\n",
              "      <td>26</td>\n",
              "      <td>50339</td>\n",
              "      <td>0.9</td>\n",
              "      <td>20.0</td>\n",
              "      <td>51.89</td>\n",
              "      <td>4</td>\n",
              "      <td>102</td>\n",
              "      <td>2.2</td>\n",
              "      <td>0.2</td>\n",
              "      <td>0.024</td>\n",
              "      <td>0.0</td>\n",
              "      <td>0.0</td>\n",
              "      <td>37</td>\n",
              "      <td>48.8</td>\n",
              "      <td>0.0</td>\n",
              "      <td>0.0</td>\n",
              "      <td>0.0</td>\n",
              "      <td>0</td>\n",
              "      <td>0</td>\n",
              "      <td>0.04</td>\n",
              "      <td>0</td>\n",
              "      <td>1.0</td>\n",
              "      <td>3.3</td>\n",
              "      <td>6.8</td>\n",
              "      <td>0.6</td>\n",
              "      <td>0.0</td>\n",
              "      <td>0.0</td>\n",
              "      <td>49.308272</td>\n",
              "      <td>NaN</td>\n",
              "    </tr>\n",
              "    <tr>\n",
              "      <th>49017</th>\n",
              "      <td>2020-03-02</td>\n",
              "      <td>Oregon</td>\n",
              "      <td>41031</td>\n",
              "      <td>0</td>\n",
              "      <td>Jefferson County</td>\n",
              "      <td>0.0</td>\n",
              "      <td>4.749</td>\n",
              "      <td>81</td>\n",
              "      <td>17.0</td>\n",
              "      <td>9.0</td>\n",
              "      <td>0.0</td>\n",
              "      <td>0.0</td>\n",
              "      <td>3.0</td>\n",
              "      <td>-2.0</td>\n",
              "      <td>5.013675</td>\n",
              "      <td>Oregon</td>\n",
              "      <td>18</td>\n",
              "      <td>19</td>\n",
              "      <td>3.74</td>\n",
              "      <td>29.2</td>\n",
              "      <td>1.4</td>\n",
              "      <td>38.6</td>\n",
              "      <td>0.57</td>\n",
              "      <td>3.17</td>\n",
              "      <td>0</td>\n",
              "      <td>24192</td>\n",
              "      <td>8.8</td>\n",
              "      <td>1.08</td>\n",
              "      <td>26</td>\n",
              "      <td>50339</td>\n",
              "      <td>0.9</td>\n",
              "      <td>20.0</td>\n",
              "      <td>51.89</td>\n",
              "      <td>4</td>\n",
              "      <td>102</td>\n",
              "      <td>2.2</td>\n",
              "      <td>0.2</td>\n",
              "      <td>0.024</td>\n",
              "      <td>0.0</td>\n",
              "      <td>0.0</td>\n",
              "      <td>38</td>\n",
              "      <td>48.8</td>\n",
              "      <td>0.0</td>\n",
              "      <td>0.0</td>\n",
              "      <td>0.0</td>\n",
              "      <td>0</td>\n",
              "      <td>0</td>\n",
              "      <td>0.07</td>\n",
              "      <td>0</td>\n",
              "      <td>1.0</td>\n",
              "      <td>3.3</td>\n",
              "      <td>6.8</td>\n",
              "      <td>0.6</td>\n",
              "      <td>0.0</td>\n",
              "      <td>0.0</td>\n",
              "      <td>33.451427</td>\n",
              "      <td>NaN</td>\n",
              "    </tr>\n",
              "  </tbody>\n",
              "</table>\n",
              "</div>"
            ],
            "text/plain": [
              "             Date Province_State  ...  rolling_avg_new_cases/100k  positivity_rate\n",
              "49016  2020-03-01         Oregon  ...                   49.308272              NaN\n",
              "49017  2020-03-02         Oregon  ...                   33.451427              NaN\n",
              "\n",
              "[2 rows x 57 columns]"
            ]
          },
          "metadata": {
            "tags": []
          },
          "execution_count": 49
        }
      ]
    },
    {
      "cell_type": "code",
      "metadata": {
        "colab": {
          "base_uri": "https://localhost:8080/",
          "height": 199
        },
        "id": "o1FcSbNPAOiV",
        "outputId": "df4e1db3-16c2-468d-cb5d-747b13026c7e"
      },
      "source": [
        "df_Mendocino_county = ca_labeled_superset_data[ca_labeled_superset_data['County Name'] == 'Mendocino County']\n",
        "df_Mendocino_county.head(2)"
      ],
      "execution_count": null,
      "outputs": [
        {
          "output_type": "execute_result",
          "data": {
            "text/html": [
              "<div>\n",
              "<style scoped>\n",
              "    .dataframe tbody tr th:only-of-type {\n",
              "        vertical-align: middle;\n",
              "    }\n",
              "\n",
              "    .dataframe tbody tr th {\n",
              "        vertical-align: top;\n",
              "    }\n",
              "\n",
              "    .dataframe thead th {\n",
              "        text-align: right;\n",
              "    }\n",
              "</style>\n",
              "<table border=\"1\" class=\"dataframe\">\n",
              "  <thead>\n",
              "    <tr style=\"text-align: right;\">\n",
              "      <th></th>\n",
              "      <th>Date</th>\n",
              "      <th>Province_State</th>\n",
              "      <th>FIPS</th>\n",
              "      <th>New cases</th>\n",
              "      <th>County Name</th>\n",
              "      <th>mask_rule_severity</th>\n",
              "      <th>m50</th>\n",
              "      <th>m50_index</th>\n",
              "      <th>retail_and_recreation_percent_change_from_baseline</th>\n",
              "      <th>grocery_and_pharmacy_percent_change_from_baseline</th>\n",
              "      <th>parks_percent_change_from_baseline</th>\n",
              "      <th>transit_stations_percent_change_from_baseline</th>\n",
              "      <th>workplaces_percent_change_from_baseline</th>\n",
              "      <th>residential_percent_change_from_baseline</th>\n",
              "      <th>PopDensity</th>\n",
              "      <th>State_Name</th>\n",
              "      <th>State</th>\n",
              "      <th>CTFIPS</th>\n",
              "      <th>CTNAME</th>\n",
              "      <th>STFIPS</th>\n",
              "      <th>Social.distancing.index</th>\n",
              "      <th>X..staying.home</th>\n",
              "      <th>Trips.person</th>\n",
              "      <th>X..out.of.county.trips</th>\n",
              "      <th>X..out.of.state.trips</th>\n",
              "      <th>Miles.person</th>\n",
              "      <th>Work.trips.person</th>\n",
              "      <th>Non.work.trips.person</th>\n",
              "      <th>New.COVID.cases</th>\n",
              "      <th>Population</th>\n",
              "      <th>X..change.in.consumption</th>\n",
              "      <th>Transit.mode.share</th>\n",
              "      <th>X..people.older.than.60</th>\n",
              "      <th>Median.income</th>\n",
              "      <th>X..African.Americans</th>\n",
              "      <th>X..Hispanic.Americans</th>\n",
              "      <th>X..Male</th>\n",
              "      <th>Employment.density</th>\n",
              "      <th>X..hot.spots.1000.people</th>\n",
              "      <th>Hospital.beds.1000.people</th>\n",
              "      <th>ICUs.1000.people</th>\n",
              "      <th>X..contact.tracing.workers.1000.people</th>\n",
              "      <th>New.cases.1000.people</th>\n",
              "      <th>Active.cases.1000.people</th>\n",
              "      <th>X.days..decreasing.COVID.cases</th>\n",
              "      <th>X..hospital.bed.utilization</th>\n",
              "      <th>Testing.capacity</th>\n",
              "      <th>Tests.done.1000.people</th>\n",
              "      <th>X..ICU.utilization</th>\n",
              "      <th>Ventilator.shortage</th>\n",
              "      <th>Imported.COVID.cases</th>\n",
              "      <th>COVID.exposure.1000.people</th>\n",
              "      <th>X.days..decreasing.ILI.cases</th>\n",
              "      <th>Unemployment.claims.1000.people</th>\n",
              "      <th>Unemployment.rate</th>\n",
              "      <th>X..working.from.home</th>\n",
              "      <th>Cumulative.inflation.rate</th>\n",
              "      <th>COVID.death.rate</th>\n",
              "      <th>New Cases/100k population</th>\n",
              "      <th>positivity_rate</th>\n",
              "      <th>rolling_avg_new_cases/100k</th>\n",
              "      <th>daily_growth_range</th>\n",
              "      <th>growth_label</th>\n",
              "    </tr>\n",
              "  </thead>\n",
              "  <tbody>\n",
              "    <tr>\n",
              "      <th>5896</th>\n",
              "      <td>2020-03-01</td>\n",
              "      <td>California</td>\n",
              "      <td>6045</td>\n",
              "      <td>0</td>\n",
              "      <td>Mendocino County</td>\n",
              "      <td>0.0</td>\n",
              "      <td>1.881</td>\n",
              "      <td>58</td>\n",
              "      <td>25.0</td>\n",
              "      <td>-1.0</td>\n",
              "      <td>31.0</td>\n",
              "      <td>0.0</td>\n",
              "      <td>2.0</td>\n",
              "      <td>-1.0</td>\n",
              "      <td>9.626461</td>\n",
              "      <td>California</td>\n",
              "      <td>CA</td>\n",
              "      <td>6045</td>\n",
              "      <td>Mendocino County</td>\n",
              "      <td>6</td>\n",
              "      <td>37</td>\n",
              "      <td>29</td>\n",
              "      <td>2.89</td>\n",
              "      <td>15.3</td>\n",
              "      <td>0.1</td>\n",
              "      <td>33.1</td>\n",
              "      <td>0.32</td>\n",
              "      <td>2.58</td>\n",
              "      <td>0</td>\n",
              "      <td>87606</td>\n",
              "      <td>-3.8</td>\n",
              "      <td>0.25</td>\n",
              "      <td>28</td>\n",
              "      <td>49233</td>\n",
              "      <td>0.6</td>\n",
              "      <td>24.8</td>\n",
              "      <td>49.69</td>\n",
              "      <td>9</td>\n",
              "      <td>154</td>\n",
              "      <td>2.05</td>\n",
              "      <td>0.22</td>\n",
              "      <td>0.0</td>\n",
              "      <td>0.0</td>\n",
              "      <td>0.0</td>\n",
              "      <td>37</td>\n",
              "      <td>54.0</td>\n",
              "      <td>0.0</td>\n",
              "      <td>0.0</td>\n",
              "      <td>0.0</td>\n",
              "      <td>0</td>\n",
              "      <td>0</td>\n",
              "      <td>0.05</td>\n",
              "      <td>35</td>\n",
              "      <td>1.1</td>\n",
              "      <td>5.3</td>\n",
              "      <td>5.7</td>\n",
              "      <td>0.6</td>\n",
              "      <td>0.0</td>\n",
              "      <td>0.0</td>\n",
              "      <td>0.0</td>\n",
              "      <td>0.0</td>\n",
              "      <td>0.0</td>\n",
              "      <td>nochange</td>\n",
              "    </tr>\n",
              "    <tr>\n",
              "      <th>5897</th>\n",
              "      <td>2020-03-02</td>\n",
              "      <td>California</td>\n",
              "      <td>6045</td>\n",
              "      <td>0</td>\n",
              "      <td>Mendocino County</td>\n",
              "      <td>0.0</td>\n",
              "      <td>3.212</td>\n",
              "      <td>100</td>\n",
              "      <td>12.0</td>\n",
              "      <td>2.0</td>\n",
              "      <td>4.0</td>\n",
              "      <td>0.0</td>\n",
              "      <td>4.0</td>\n",
              "      <td>-1.0</td>\n",
              "      <td>9.626461</td>\n",
              "      <td>California</td>\n",
              "      <td>CA</td>\n",
              "      <td>6045</td>\n",
              "      <td>Mendocino County</td>\n",
              "      <td>6</td>\n",
              "      <td>20</td>\n",
              "      <td>22</td>\n",
              "      <td>3.53</td>\n",
              "      <td>11.7</td>\n",
              "      <td>0.0</td>\n",
              "      <td>33.0</td>\n",
              "      <td>0.66</td>\n",
              "      <td>2.88</td>\n",
              "      <td>0</td>\n",
              "      <td>87606</td>\n",
              "      <td>7.3</td>\n",
              "      <td>0.25</td>\n",
              "      <td>28</td>\n",
              "      <td>49233</td>\n",
              "      <td>0.6</td>\n",
              "      <td>24.8</td>\n",
              "      <td>49.69</td>\n",
              "      <td>9</td>\n",
              "      <td>154</td>\n",
              "      <td>2.05</td>\n",
              "      <td>0.22</td>\n",
              "      <td>0.0</td>\n",
              "      <td>0.0</td>\n",
              "      <td>0.0</td>\n",
              "      <td>38</td>\n",
              "      <td>54.0</td>\n",
              "      <td>0.0</td>\n",
              "      <td>0.0</td>\n",
              "      <td>0.0</td>\n",
              "      <td>0</td>\n",
              "      <td>0</td>\n",
              "      <td>0.05</td>\n",
              "      <td>35</td>\n",
              "      <td>1.1</td>\n",
              "      <td>5.3</td>\n",
              "      <td>5.7</td>\n",
              "      <td>0.6</td>\n",
              "      <td>0.0</td>\n",
              "      <td>0.0</td>\n",
              "      <td>0.0</td>\n",
              "      <td>0.0</td>\n",
              "      <td>0.0</td>\n",
              "      <td>nochange</td>\n",
              "    </tr>\n",
              "  </tbody>\n",
              "</table>\n",
              "</div>"
            ],
            "text/plain": [
              "            Date Province_State  ...  daily_growth_range  growth_label\n",
              "5896  2020-03-01     California  ...                 0.0      nochange\n",
              "5897  2020-03-02     California  ...                 0.0      nochange\n",
              "\n",
              "[2 rows x 63 columns]"
            ]
          },
          "metadata": {
            "tags": []
          },
          "execution_count": 45
        }
      ]
    },
    {
      "cell_type": "code",
      "metadata": {
        "colab": {
          "base_uri": "https://localhost:8080/",
          "height": 334
        },
        "id": "byL6xA0W__Om",
        "outputId": "0c7d09bd-4869-49ee-c362-9f4b81229f1f"
      },
      "source": [
        "# TODO\n",
        "plt.figure(figsize=(12,5))\n",
        "plt.xlabel('New Cases/100k population')\n",
        "\n",
        "ax1 = df_jefferson_county[\"New Cases/100k population\"].plot(color='blue', grid=True, label='Jefferson County(OR)')\n",
        "ax2 = df_Mendocino_county[\"New Cases/100k population\"].plot(color='red', grid=True, secondary_y=True, label='Mendocino County(CA)')\n",
        "\n",
        "h1, l1 = ax1.get_legend_handles_labels()\n",
        "h2, l2 = ax2.get_legend_handles_labels()\n",
        "\n",
        "\n",
        "plt.legend(h1+h2, l1+l2, loc=2)\n",
        "plt.show()"
      ],
      "execution_count": null,
      "outputs": [
        {
          "output_type": "display_data",
          "data": {
            "image/png": "[encoded data removed]",
            "text/plain": [
              "<Figure size 864x360 with 2 Axes>"
            ]
          },
          "metadata": {
            "tags": [],
            "needs_background": "light"
          }
        }
      ]
    },
    {
      "cell_type": "markdown",
      "metadata": {
        "id": "Q70u7aa5NApN"
      },
      "source": [
        "##### Decisions after Observation and Analysis\n",
        "* filter each county\n",
        "* check how each column of demographic is varying - std.dev\n",
        "* std.dev is zero -> Eg., Pop.Density\n",
        "* std.dev less -> mean\n",
        "* std.dev is too high -> we will use worst case like min() or max() \n",
        "\n",
        "* **Decisions after Observation and Analysis** :\n",
        "> * std.dev is zero for these columns: [X..people.older.than.60,Median.income, X..Hispanic.Americans,Employment.density]; Hence taking the columns values as it is.\n",
        "> * worst case scenerios for these columns [ 'Testing.capacity' (min),'Ventilator.shortage' (?max),'Unemployment.rate'(max),'Unemployment.claims.1000.people'(max)] -#columns that are somewhat related to pandemic\n",
        "> * Removed Median Income, adding this was causing some issues, all the OR counties were mapping to Santa Clara County only"
      ]
    },
    {
      "cell_type": "code",
      "metadata": {
        "colab": {
          "base_uri": "https://localhost:8080/"
        },
        "id": "G24-7Il7YleB",
        "outputId": "5f64d1ec-c5d6-47c8-c628-009e6e0e990d"
      },
      "source": [
        "or_bin_superset_data_filtered.columns"
      ],
      "execution_count": null,
      "outputs": [
        {
          "output_type": "execute_result",
          "data": {
            "text/plain": [
              "Index(['FIPS', 'County Name', 'PopDensity', 'X..people.older.than.60',\n",
              "       'Median.income', 'X..African.Americans', 'X..Hispanic.Americans',\n",
              "       'X..Male', 'Employment.density', 'Testing.capacity',\n",
              "       'Ventilator.shortage', 'Unemployment.rate',\n",
              "       'Unemployment.claims.1000.people'],\n",
              "      dtype='object')"
            ]
          },
          "metadata": {
            "tags": []
          },
          "execution_count": 37
        }
      ]
    },
    {
      "cell_type": "code",
      "metadata": {
        "id": "a4QvH6Yiq9m-"
      },
      "source": [
        "or_county_list = or_bin_superset_data_filtered['County Name'].unique()"
      ],
      "execution_count": null,
      "outputs": []
    },
    {
      "cell_type": "code",
      "metadata": {
        "colab": {
          "base_uri": "https://localhost:8080/",
          "height": 144
        },
        "id": "khMknaQEiLdu",
        "outputId": "061d0180-e251-4ff2-ae55-4a9777cc6a22"
      },
      "source": [
        "print(len(or_knn_df))\n",
        "or_knn_df.head(2)"
      ],
      "execution_count": null,
      "outputs": [
        {
          "output_type": "stream",
          "text": [
            "32\n"
          ],
          "name": "stdout"
        },
        {
          "output_type": "execute_result",
          "data": {
            "text/html": [
              "<div>\n",
              "<style scoped>\n",
              "    .dataframe tbody tr th:only-of-type {\n",
              "        vertical-align: middle;\n",
              "    }\n",
              "\n",
              "    .dataframe tbody tr th {\n",
              "        vertical-align: top;\n",
              "    }\n",
              "\n",
              "    .dataframe thead th {\n",
              "        text-align: right;\n",
              "    }\n",
              "</style>\n",
              "<table border=\"1\" class=\"dataframe\">\n",
              "  <thead>\n",
              "    <tr style=\"text-align: right;\">\n",
              "      <th></th>\n",
              "      <th>PopDensity</th>\n",
              "      <th>X..people.older.than.60</th>\n",
              "      <th>X..African.Americans</th>\n",
              "      <th>X..Hispanic.Americans</th>\n",
              "      <th>X..Male</th>\n",
              "      <th>Employment.density</th>\n",
              "      <th>Testing.capacity</th>\n",
              "      <th>Ventilator.shortage</th>\n",
              "      <th>Unemployment.rate</th>\n",
              "      <th>Unemployment.claims.1000.people</th>\n",
              "    </tr>\n",
              "  </thead>\n",
              "  <tbody>\n",
              "    <tr>\n",
              "      <th>0</th>\n",
              "      <td>5.013675</td>\n",
              "      <td>26.0</td>\n",
              "      <td>0.9</td>\n",
              "      <td>20.0</td>\n",
              "      <td>51.89</td>\n",
              "      <td>4.0</td>\n",
              "      <td>4.710101</td>\n",
              "      <td>27.081916</td>\n",
              "      <td>9.096906</td>\n",
              "      <td>3.830935</td>\n",
              "    </tr>\n",
              "    <tr>\n",
              "      <th>1</th>\n",
              "      <td>0.372079</td>\n",
              "      <td>33.0</td>\n",
              "      <td>0.2</td>\n",
              "      <td>8.0</td>\n",
              "      <td>53.45</td>\n",
              "      <td>1.0</td>\n",
              "      <td>4.699273</td>\n",
              "      <td>24.482247</td>\n",
              "      <td>9.144470</td>\n",
              "      <td>3.957321</td>\n",
              "    </tr>\n",
              "  </tbody>\n",
              "</table>\n",
              "</div>"
            ],
            "text/plain": [
              "   PopDensity  X..people.older.than.60  X..African.Americans  \\\n",
              "0    5.013675                     26.0                   0.9   \n",
              "1    0.372079                     33.0                   0.2   \n",
              "\n",
              "   X..Hispanic.Americans  X..Male  Employment.density  Testing.capacity  \\\n",
              "0                   20.0    51.89                 4.0          4.710101   \n",
              "1                    8.0    53.45                 1.0          4.699273   \n",
              "\n",
              "   Ventilator.shortage  Unemployment.rate  Unemployment.claims.1000.people  \n",
              "0            27.081916           9.096906                         3.830935  \n",
              "1            24.482247           9.144470                         3.957321  "
            ]
          },
          "metadata": {
            "tags": []
          },
          "execution_count": 39
        }
      ]
    },
    {
      "cell_type": "code",
      "metadata": {
        "colab": {
          "base_uri": "https://localhost:8080/",
          "height": 177
        },
        "id": "UpLVq6MhoDx9",
        "outputId": "5080411d-2070-4112-ab23-afb451f70b0e"
      },
      "source": [
        "or_knn_df_with_county.head(2)"
      ],
      "execution_count": null,
      "outputs": [
        {
          "output_type": "execute_result",
          "data": {
            "text/html": [
              "<div>\n",
              "<style scoped>\n",
              "    .dataframe tbody tr th:only-of-type {\n",
              "        vertical-align: middle;\n",
              "    }\n",
              "\n",
              "    .dataframe tbody tr th {\n",
              "        vertical-align: top;\n",
              "    }\n",
              "\n",
              "    .dataframe thead th {\n",
              "        text-align: right;\n",
              "    }\n",
              "</style>\n",
              "<table border=\"1\" class=\"dataframe\">\n",
              "  <thead>\n",
              "    <tr style=\"text-align: right;\">\n",
              "      <th></th>\n",
              "      <th>FIPS</th>\n",
              "      <th>County Name</th>\n",
              "      <th>PopDensity</th>\n",
              "      <th>X..people.older.than.60</th>\n",
              "      <th>Median.income</th>\n",
              "      <th>X..African.Americans</th>\n",
              "      <th>X..Hispanic.Americans</th>\n",
              "      <th>X..Male</th>\n",
              "      <th>Employment.density</th>\n",
              "      <th>Testing.capacity</th>\n",
              "      <th>Ventilator.shortage</th>\n",
              "      <th>Unemployment.rate</th>\n",
              "      <th>Unemployment.claims.1000.people</th>\n",
              "    </tr>\n",
              "  </thead>\n",
              "  <tbody>\n",
              "    <tr>\n",
              "      <th>0</th>\n",
              "      <td>41031.0</td>\n",
              "      <td>Jefferson County</td>\n",
              "      <td>5.013675</td>\n",
              "      <td>26.0</td>\n",
              "      <td>50339.0</td>\n",
              "      <td>0.9</td>\n",
              "      <td>20.0</td>\n",
              "      <td>51.89</td>\n",
              "      <td>4.0</td>\n",
              "      <td>4.710101</td>\n",
              "      <td>27.081916</td>\n",
              "      <td>9.096906</td>\n",
              "      <td>3.830935</td>\n",
              "    </tr>\n",
              "    <tr>\n",
              "      <th>1</th>\n",
              "      <td>41037.0</td>\n",
              "      <td>Lake County</td>\n",
              "      <td>0.372079</td>\n",
              "      <td>33.0</td>\n",
              "      <td>36627.0</td>\n",
              "      <td>0.2</td>\n",
              "      <td>8.0</td>\n",
              "      <td>53.45</td>\n",
              "      <td>1.0</td>\n",
              "      <td>4.699273</td>\n",
              "      <td>24.482247</td>\n",
              "      <td>9.144470</td>\n",
              "      <td>3.957321</td>\n",
              "    </tr>\n",
              "  </tbody>\n",
              "</table>\n",
              "</div>"
            ],
            "text/plain": [
              "      FIPS       County Name  PopDensity  X..people.older.than.60  \\\n",
              "0  41031.0  Jefferson County    5.013675                     26.0   \n",
              "1  41037.0       Lake County    0.372079                     33.0   \n",
              "\n",
              "   Median.income  X..African.Americans  X..Hispanic.Americans  X..Male  \\\n",
              "0        50339.0                   0.9                   20.0    51.89   \n",
              "1        36627.0                   0.2                    8.0    53.45   \n",
              "\n",
              "   Employment.density  Testing.capacity  Ventilator.shortage  \\\n",
              "0                 4.0          4.710101            27.081916   \n",
              "1                 1.0          4.699273            24.482247   \n",
              "\n",
              "   Unemployment.rate  Unemployment.claims.1000.people  \n",
              "0           9.096906                         3.830935  \n",
              "1           9.144470                         3.957321  "
            ]
          },
          "metadata": {
            "tags": []
          },
          "execution_count": 40
        }
      ]
    }
  ]
}