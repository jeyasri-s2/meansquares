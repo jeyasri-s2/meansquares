{
  "nbformat": 4,
  "nbformat_minor": 0,
  "metadata": {
    "colab": {
      "name": "CA_KNN_RF_MergeSupetSetData.ipynb",
      "provenance": [],
      "collapsed_sections": [],
      "toc_visible": true,
      "machine_shape": "hm",
      "include_colab_link": true
    },
    "kernelspec": {
      "name": "python3",
      "display_name": "Python 3"
    },
    "accelerator": "GPU"
  },
  "cells": [
    {
      "cell_type": "markdown",
      "metadata": {
        "id": "view-in-github",
        "colab_type": "text"
      },
      "source": [
        "<a href=\"https://colab.research.google.com/github/aarsanjani/meansquares/blob/master/version2/modeling/where_modeling/CA_KNN_RF_MergeSupetSetData.ipynb\" target=\"_parent\"><img src=\"https://colab.research.google.com/assets/colab-badge.svg\" alt=\"Open In Colab\"/></a>"
      ]
    },
    {
      "cell_type": "markdown",
      "metadata": {
        "id": "I1GiiKEAklnj"
      },
      "source": [
        "# Goal\n",
        "\n",
        "This colab is for KNN similarity \n",
        "* to find the counties from Oregon, that are similar to CA widespread counties\n"
      ]
    },
    {
      "cell_type": "markdown",
      "metadata": {
        "id": "FU90auh8nSS_"
      },
      "source": [
        "# Mount drive"
      ]
    },
    {
      "cell_type": "code",
      "metadata": {
        "colab": {
          "base_uri": "https://localhost:8080/"
        },
        "id": "gQmt77GRkUtY",
        "outputId": "e6bfd45a-54cb-4730-91c0-065271f99281"
      },
      "source": [
        "from google.colab import drive\n",
        "drive.mount('/content/drive',force_remount=True)"
      ],
      "execution_count": 1,
      "outputs": [
        {
          "output_type": "stream",
          "text": [
            "Mounted at /content/drive\n"
          ],
          "name": "stdout"
        }
      ]
    },
    {
      "cell_type": "code",
      "metadata": {
        "id": "SAUrQ8v8mLJl"
      },
      "source": [
        "import os\n",
        "os.environ[\"TF_CPP_MIN_LOG_LEVEL\"]=\"2\"\n",
        "import warnings; warnings.simplefilter('ignore')"
      ],
      "execution_count": 2,
      "outputs": []
    },
    {
      "cell_type": "code",
      "metadata": {
        "id": "rkeD0QHlkw6d"
      },
      "source": [
        "#drive.flush_and_unmount(600000)"
      ],
      "execution_count": 3,
      "outputs": []
    },
    {
      "cell_type": "code",
      "metadata": {
        "id": "DpKb85STmNrk",
        "colab": {
          "base_uri": "https://localhost:8080/"
        },
        "outputId": "2546cb01-79a6-4a10-d72f-eeac46a9de19"
      },
      "source": [
        "!ls '/content/drive/Shared drives/CMPE 295- Master Project/projectdata-2021'"
      ],
      "execution_count": 4,
      "outputs": [
        {
          "output_type": "stream",
          "text": [
            " All_CovidDataFeb20.csv\n",
            " alldatasets_Feb20.csv\n",
            " All_GoogleMobilityDataFeb20.csv\n",
            " All_SocialDistancingDataFeb20.csv\n",
            " AllStates_Superset_dataset_Feb20.csv\n",
            " AllStates_Superset_dataset_Feb21.csv\n",
            " CA_alldatasets_Feb05.csv\n",
            " CA_alldatasets_Jan13.csv\n",
            " CA_CombinedData_Labeled_CDCGuideline_Feb05.csv\n",
            " CA_CombinedData_Labeled_CDCGuideline_Feb06.csv\n",
            " CA_CombinedData_Labeled_CDCGuideline_Jan15.csv\n",
            " CA_combined_Feb04.csv\n",
            " CA_CovidDataJan10.csv\n",
            " CA_dataset_Feb11.csv\n",
            " CA_GoogleMobilityDataJan10.csv\n",
            " CA_MarylandData_Labeled_CDCGuideline_Feb05.csv\n",
            " CA_MarylandData_Labeled_CDCGuideline_Feb06.csv\n",
            " CA_MarylandData_Labeled_CDCGuideline_Jan15.csv\n",
            " CA_processedMarylandData_Feb04.csv\n",
            " CA_processedMarylandData_Feb05.csv\n",
            " CA_processedMarylandData_Feb12.csv\n",
            " CA_processedMarylandData_Jan11.csv\n",
            " CART.pkl\n",
            " CA_SocialDistancingDataJan10.csv\n",
            " CA_socialDistancingInertiaData_Feb04.csv\n",
            " CA_SuperData_Labeled_CDCGuideline_Feb13.csv\n",
            " CA_Superset_bins_dataset_Feb20.csv\n",
            " CA_Superset_dataset_Feb12.csv\n",
            " computed_CA_mobility_data.csv\n",
            " data-mask_for_all.csv\n",
            " election_results_2021.csv\n",
            " KNN.pkl\n",
            " LDA.pkl\n",
            " LR.pkl\n",
            " maryland_inertia_data_allstates_Feb04.csv\n",
            " maryland_inertia_data_allstates_Feb05.csv\n",
            " maryland_inertia_data_allstates_Feb12.csv\n",
            " maryland_inertia_data_allstates_Jan11.csv\n",
            " maryland_inertia_raw_dec28_2020.csv\n",
            " Mask_Rule_Feb05.csv\n",
            " Mask_Rule_Feb20.csv\n",
            " Mask_Rule_Jan10.csv\n",
            " NB.pkl\n",
            " NY_alldatasets_Jan13.csv\n",
            " NY_CombinedData_Labeled_CDCGuideline_Feb07.csv\n",
            " NY_CombinedData_Labeled_CDCGuideline_Jan15.csv\n",
            " NY_CovidDataJan10.csv\n",
            " NY_GoogleMobilityDataJan10.csv\n",
            " NY_MarylandData_Labeled_CDCGuideline_Feb07.csv\n",
            " NY_MarylandData_Labeled_CDCGuideline_Jan15.csv\n",
            " NY_processedMarylandData_Feb04.csv\n",
            " NY_processedMarylandData_Feb12.csv\n",
            " NY_processedMarylandData_Jan11.csv\n",
            " NY_SocialDistancingDataJan10.csv\n",
            " OR_SuperData_With_SimilarityScore_Feb24.csv\n",
            " OR_Superset_bins_dataset_Feb20.csv\n",
            " OR_Superset_bins_dataset_Feb21.csv\n",
            "'Policy_Map_(Sized)_Full_Data_data.csv'\n",
            " population-density\n",
            " RF.pkl\n",
            " TX_alldatasets_Jan11.csv\n",
            " TX_CombinedData_Labeled_CDCGuideline_Feb07.csv\n",
            " TX_CombinedData_Labeled_CDCGuideline_Jan15.csv\n",
            " TX_CovidDataJan10.csv\n",
            " TX_GoogleMobilityDataJan10.csv\n",
            " TX_MarylandData_Labeled_CDCGuideline_Feb07.csv\n",
            " TX_MarylandData_Labeled_CDCGuideline_Jan15.csv\n",
            " TX_processedMarylandData_Feb04.csv\n",
            " TX_processedMarylandData_Feb12.csv\n",
            " TX_processedMarylandData_Jan11.csv\n",
            " TX_processedMarylandData_Jan11.gsheet\n",
            " TX_SocialDistancingDataJan10.csv\n",
            " WI_alldatasets_Feb07.csv\n",
            " WI_CovidDataFeb07.csv\n",
            " WI_GoogleMobilityDataFeb07.csv\n",
            " WI_maryland_inertia_data_allstates_Feb07.csv\n",
            " WI_processedMarylandData_Feb07.csv\n",
            " WI_SocialDistancingDataFeb07.csv\n",
            " XGBoost.pkl\n"
          ],
          "name": "stdout"
        }
      ]
    },
    {
      "cell_type": "markdown",
      "metadata": {
        "id": "dNXkM53vnQHE"
      },
      "source": [
        "# Import package"
      ]
    },
    {
      "cell_type": "code",
      "metadata": {
        "id": "Pv27zOJmnMDc"
      },
      "source": [
        "import pandas as pd\n",
        "import seaborn as sns\n",
        "from sklearn import preprocessing\n",
        "from sklearn.model_selection import train_test_split\n",
        "import pickle\n",
        "\n",
        "from sklearn.preprocessing import LabelEncoder\n",
        "from sklearn.preprocessing import StandardScaler as ss\n",
        "import itertools\n",
        "from scipy import linalg\n",
        "from sklearn.ensemble import RandomForestClassifier\n",
        "from sklearn.tree import export_graphviz\n",
        "import numpy as np\n",
        "import matplotlib.pyplot as plt"
      ],
      "execution_count": 5,
      "outputs": []
    },
    {
      "cell_type": "markdown",
      "metadata": {
        "id": "KqaBJN4WvOHU"
      },
      "source": [
        "# Load Oregon Binning Superset Data"
      ]
    },
    {
      "cell_type": "code",
      "metadata": {
        "id": "wIsoGn9Cm0VP"
      },
      "source": [
        "or_bin_superset_data = pd.read_csv('/content/drive/Shared drives/CMPE 295- Master Project/projectdata-2021/AllStates_Superset_dataset_Feb21.csv',low_memory=False)\n",
        "\n"
      ],
      "execution_count": 6,
      "outputs": []
    },
    {
      "cell_type": "code",
      "metadata": {
        "colab": {
          "base_uri": "https://localhost:8080/"
        },
        "id": "3THOmEUwx2Hh",
        "outputId": "850c7638-6ec1-4f4c-d1ef-51a5c104fdac"
      },
      "source": [
        "print(or_bin_superset_data.shape)\n"
      ],
      "execution_count": 7,
      "outputs": [
        {
          "output_type": "stream",
          "text": [
            "(3101381, 60)\n"
          ],
          "name": "stdout"
        }
      ]
    },
    {
      "cell_type": "code",
      "metadata": {
        "colab": {
          "base_uri": "https://localhost:8080/"
        },
        "id": "HNHTJYXRcGXD",
        "outputId": "17cbe6b5-efc9-4333-b023-25b4a2312d85"
      },
      "source": [
        "or_bin_superset_data = or_bin_superset_data[or_bin_superset_data['Province_State'] == 'Oregon']\r\n",
        "print(or_bin_superset_data.shape)"
      ],
      "execution_count": 8,
      "outputs": [
        {
          "output_type": "stream",
          "text": [
            "(56916, 60)\n"
          ],
          "name": "stdout"
        }
      ]
    },
    {
      "cell_type": "code",
      "metadata": {
        "colab": {
          "base_uri": "https://localhost:8080/",
          "height": 194
        },
        "id": "gmmH4DLqva0m",
        "outputId": "dc521250-7f55-404b-b882-ee4490f00846"
      },
      "source": [
        "or_bin_superset_data.head(2)"
      ],
      "execution_count": 9,
      "outputs": [
        {
          "output_type": "execute_result",
          "data": {
            "text/html": [
              "<div>\n",
              "<style scoped>\n",
              "    .dataframe tbody tr th:only-of-type {\n",
              "        vertical-align: middle;\n",
              "    }\n",
              "\n",
              "    .dataframe tbody tr th {\n",
              "        vertical-align: top;\n",
              "    }\n",
              "\n",
              "    .dataframe thead th {\n",
              "        text-align: right;\n",
              "    }\n",
              "</style>\n",
              "<table border=\"1\" class=\"dataframe\">\n",
              "  <thead>\n",
              "    <tr style=\"text-align: right;\">\n",
              "      <th></th>\n",
              "      <th>Date</th>\n",
              "      <th>Province_State</th>\n",
              "      <th>FIPS</th>\n",
              "      <th>New cases</th>\n",
              "      <th>County Name</th>\n",
              "      <th>mask_rule_severity</th>\n",
              "      <th>m50</th>\n",
              "      <th>m50_index</th>\n",
              "      <th>retail_and_recreation_percent_change_from_baseline</th>\n",
              "      <th>grocery_and_pharmacy_percent_change_from_baseline</th>\n",
              "      <th>parks_percent_change_from_baseline</th>\n",
              "      <th>transit_stations_percent_change_from_baseline</th>\n",
              "      <th>workplaces_percent_change_from_baseline</th>\n",
              "      <th>residential_percent_change_from_baseline</th>\n",
              "      <th>PopDensity</th>\n",
              "      <th>State_Name</th>\n",
              "      <th>State</th>\n",
              "      <th>CTFIPS</th>\n",
              "      <th>CTNAME</th>\n",
              "      <th>STFIPS</th>\n",
              "      <th>Social.distancing.index</th>\n",
              "      <th>X..staying.home</th>\n",
              "      <th>Trips.person</th>\n",
              "      <th>X..out.of.county.trips</th>\n",
              "      <th>X..out.of.state.trips</th>\n",
              "      <th>Miles.person</th>\n",
              "      <th>Work.trips.person</th>\n",
              "      <th>Non.work.trips.person</th>\n",
              "      <th>New.COVID.cases</th>\n",
              "      <th>Population</th>\n",
              "      <th>X..change.in.consumption</th>\n",
              "      <th>Transit.mode.share</th>\n",
              "      <th>X..people.older.than.60</th>\n",
              "      <th>Median.income</th>\n",
              "      <th>X..African.Americans</th>\n",
              "      <th>X..Hispanic.Americans</th>\n",
              "      <th>X..Male</th>\n",
              "      <th>Employment.density</th>\n",
              "      <th>X..hot.spots.1000.people</th>\n",
              "      <th>Hospital.beds.1000.people</th>\n",
              "      <th>ICUs.1000.people</th>\n",
              "      <th>X..contact.tracing.workers.1000.people</th>\n",
              "      <th>New.cases.1000.people</th>\n",
              "      <th>Active.cases.1000.people</th>\n",
              "      <th>X.days..decreasing.COVID.cases</th>\n",
              "      <th>X..hospital.bed.utilization</th>\n",
              "      <th>Testing.capacity</th>\n",
              "      <th>Tests.done.1000.people</th>\n",
              "      <th>X..ICU.utilization</th>\n",
              "      <th>Ventilator.shortage</th>\n",
              "      <th>Imported.COVID.cases</th>\n",
              "      <th>COVID.exposure.1000.people</th>\n",
              "      <th>X.days..decreasing.ILI.cases</th>\n",
              "      <th>Unemployment.claims.1000.people</th>\n",
              "      <th>Unemployment.rate</th>\n",
              "      <th>X..working.from.home</th>\n",
              "      <th>Cumulative.inflation.rate</th>\n",
              "      <th>COVID.death.rate</th>\n",
              "      <th>New Cases/100k population</th>\n",
              "      <th>rolling_avg_new_cases/100k</th>\n",
              "    </tr>\n",
              "  </thead>\n",
              "  <tbody>\n",
              "    <tr>\n",
              "      <th>45007</th>\n",
              "      <td>2020-03-01</td>\n",
              "      <td>Oregon</td>\n",
              "      <td>41031</td>\n",
              "      <td>0</td>\n",
              "      <td>Jefferson County</td>\n",
              "      <td>0.0</td>\n",
              "      <td>7.866</td>\n",
              "      <td>79</td>\n",
              "      <td>27.0</td>\n",
              "      <td>11.0</td>\n",
              "      <td>0.0</td>\n",
              "      <td>0.0</td>\n",
              "      <td>1.0</td>\n",
              "      <td>0.0</td>\n",
              "      <td>5.013675</td>\n",
              "      <td>Oregon</td>\n",
              "      <td>OR</td>\n",
              "      <td>41031</td>\n",
              "      <td>Jefferson County</td>\n",
              "      <td>41</td>\n",
              "      <td>27</td>\n",
              "      <td>23</td>\n",
              "      <td>3.33</td>\n",
              "      <td>32.4</td>\n",
              "      <td>2.0</td>\n",
              "      <td>42.2</td>\n",
              "      <td>0.3</td>\n",
              "      <td>3.03</td>\n",
              "      <td>0</td>\n",
              "      <td>24192</td>\n",
              "      <td>4.0</td>\n",
              "      <td>1.08</td>\n",
              "      <td>26</td>\n",
              "      <td>50339</td>\n",
              "      <td>0.9</td>\n",
              "      <td>20.0</td>\n",
              "      <td>51.89</td>\n",
              "      <td>4</td>\n",
              "      <td>102</td>\n",
              "      <td>2.2</td>\n",
              "      <td>0.2</td>\n",
              "      <td>0.024</td>\n",
              "      <td>0.0</td>\n",
              "      <td>0.0</td>\n",
              "      <td>37</td>\n",
              "      <td>48.8</td>\n",
              "      <td>0.0</td>\n",
              "      <td>0.0</td>\n",
              "      <td>0.0</td>\n",
              "      <td>0</td>\n",
              "      <td>0</td>\n",
              "      <td>0.04</td>\n",
              "      <td>0</td>\n",
              "      <td>1.0</td>\n",
              "      <td>3.3</td>\n",
              "      <td>6.8</td>\n",
              "      <td>0.6</td>\n",
              "      <td>0.0</td>\n",
              "      <td>0.0</td>\n",
              "      <td>39.919097</td>\n",
              "    </tr>\n",
              "    <tr>\n",
              "      <th>45008</th>\n",
              "      <td>2020-03-01</td>\n",
              "      <td>Oregon</td>\n",
              "      <td>41031</td>\n",
              "      <td>0</td>\n",
              "      <td>Jefferson County</td>\n",
              "      <td>0.0</td>\n",
              "      <td>5.389</td>\n",
              "      <td>69</td>\n",
              "      <td>27.0</td>\n",
              "      <td>11.0</td>\n",
              "      <td>0.0</td>\n",
              "      <td>0.0</td>\n",
              "      <td>1.0</td>\n",
              "      <td>0.0</td>\n",
              "      <td>5.013675</td>\n",
              "      <td>Oregon</td>\n",
              "      <td>OR</td>\n",
              "      <td>41031</td>\n",
              "      <td>Jefferson County</td>\n",
              "      <td>41</td>\n",
              "      <td>27</td>\n",
              "      <td>23</td>\n",
              "      <td>3.33</td>\n",
              "      <td>32.4</td>\n",
              "      <td>2.0</td>\n",
              "      <td>42.2</td>\n",
              "      <td>0.3</td>\n",
              "      <td>3.03</td>\n",
              "      <td>0</td>\n",
              "      <td>24192</td>\n",
              "      <td>4.0</td>\n",
              "      <td>1.08</td>\n",
              "      <td>26</td>\n",
              "      <td>50339</td>\n",
              "      <td>0.9</td>\n",
              "      <td>20.0</td>\n",
              "      <td>51.89</td>\n",
              "      <td>4</td>\n",
              "      <td>102</td>\n",
              "      <td>2.2</td>\n",
              "      <td>0.2</td>\n",
              "      <td>0.024</td>\n",
              "      <td>0.0</td>\n",
              "      <td>0.0</td>\n",
              "      <td>37</td>\n",
              "      <td>48.8</td>\n",
              "      <td>0.0</td>\n",
              "      <td>0.0</td>\n",
              "      <td>0.0</td>\n",
              "      <td>0</td>\n",
              "      <td>0</td>\n",
              "      <td>0.04</td>\n",
              "      <td>0</td>\n",
              "      <td>1.0</td>\n",
              "      <td>3.3</td>\n",
              "      <td>6.8</td>\n",
              "      <td>0.6</td>\n",
              "      <td>0.0</td>\n",
              "      <td>0.0</td>\n",
              "      <td>33.265914</td>\n",
              "    </tr>\n",
              "  </tbody>\n",
              "</table>\n",
              "</div>"
            ],
            "text/plain": [
              "             Date  ... rolling_avg_new_cases/100k\n",
              "45007  2020-03-01  ...                  39.919097\n",
              "45008  2020-03-01  ...                  33.265914\n",
              "\n",
              "[2 rows x 60 columns]"
            ]
          },
          "metadata": {
            "tags": []
          },
          "execution_count": 9
        }
      ]
    },
    {
      "cell_type": "markdown",
      "metadata": {
        "id": "sPhcE98TY7vt"
      },
      "source": [
        "# XTest-YTest\r\n",
        "\r\n",
        "array(['minimal', 'moderate', 'substantial', 'widespread', 0, 1, 2, 3],\r\n",
        "      dtype=object)"
      ]
    },
    {
      "cell_type": "code",
      "metadata": {
        "id": "IIFZRbikZOPz"
      },
      "source": [
        "#Y_col = merged_superset['growth_label_cat']\r\n",
        "X_col = ['CTFIPS','mask_rule_severity','m50_index','retail_and_recreation_percent_change_from_baseline',\r\n",
        "                'grocery_and_pharmacy_percent_change_from_baseline','parks_percent_change_from_baseline',\r\n",
        "                'transit_stations_percent_change_from_baseline','workplaces_percent_change_from_baseline',\r\n",
        "                'residential_percent_change_from_baseline','PopDensity','Social.distancing.index',\r\n",
        "                'X..staying.home','Trips.person','X..out.of.county.trips',\t'X..out.of.state.trips',\r\n",
        "                'Miles.person',\t'Work.trips.person','Non.work.trips.person','X..change.in.consumption',\r\n",
        "                'Transit.mode.share','X..people.older.than.60',\t'Median.income',\t'X..African.Americans',\r\n",
        "                'X..Hispanic.Americans',\t'X..Male','Employment.density',\t'X..hot.spots.1000.people',\r\n",
        "                'Hospital.beds.1000.people',\t'ICUs.1000.people',\r\n",
        "                #'New.cases.1000.people',\t\r\n",
        "                'Active.cases.1000.people',\t'X.days..decreasing.COVID.cases',\r\n",
        "                'X..hospital.bed.utilization',\t'Testing.capacity',\t'Tests.done.1000.people',\t'X..ICU.utilization',\r\n",
        "                'Ventilator.shortage',\t'Imported.COVID.cases',\t'COVID.exposure.1000.people',\t'X.days..decreasing.ILI.cases',\r\n",
        "                'Unemployment.claims.1000.people',\t'Unemployment.rate',\t'X..working.from.home',\r\n",
        "                'Cumulative.inflation.rate'\t,'COVID.death.rate'#,\r\n",
        "                #'positivity_rate'\r\n",
        "                ]"
      ],
      "execution_count": 10,
      "outputs": []
    },
    {
      "cell_type": "code",
      "metadata": {
        "id": "WPavpxuQaA80"
      },
      "source": [
        "X_test = or_bin_superset_data[X_col]"
      ],
      "execution_count": 11,
      "outputs": []
    },
    {
      "cell_type": "markdown",
      "metadata": {
        "id": "E8wf-Xp-aRI7"
      },
      "source": [
        "# Load RF Model"
      ]
    },
    {
      "cell_type": "code",
      "metadata": {
        "colab": {
          "base_uri": "https://localhost:8080/"
        },
        "id": "IDhIR27Vajqp",
        "outputId": "502ace0f-b82f-4854-c879-71b85d06c824"
      },
      "source": [
        "location = '/content/drive/Shared drives/CMPE 295- Master Project/projectdata-2021/'\r\n",
        "filename = location+'RF.pkl'\r\n",
        "\r\n",
        "\r\n",
        "# Load the pickled model \r\n",
        "loaded_model = pickle.load(open(filename, 'rb'))\r\n",
        "      \r\n",
        "# Use the loaded pickled model to make predictions\r\n",
        "#Y_test = pd.DataFrame(columns = 'growth_label_cat') \r\n",
        "Y_test= loaded_model.predict(X_test) \r\n",
        "\r\n",
        "accuracy = loaded_model.score(X_test, Y_test)\r\n",
        "print(\"accuracy=\", accuracy)"
      ],
      "execution_count": 13,
      "outputs": [
        {
          "output_type": "stream",
          "text": [
            "accuracy= 1.0\n"
          ],
          "name": "stdout"
        }
      ]
    },
    {
      "cell_type": "markdown",
      "metadata": {
        "id": "aD-6cjdXdqu8"
      },
      "source": [
        "# Load KNN Model"
      ]
    },
    {
      "cell_type": "code",
      "metadata": {
        "colab": {
          "base_uri": "https://localhost:8080/"
        },
        "id": "3fLYmV47dqvV",
        "outputId": "b7076cf2-f304-4b3d-9a77-384f472f46ce"
      },
      "source": [
        "location = '/content/drive/Shared drives/CMPE 295- Master Project/projectdata-2021/'\r\n",
        "filename = location+'KNN.pkl'\r\n",
        "\r\n",
        "\r\n",
        "# Load the pickled model \r\n",
        "loaded_model = pickle.load(open(filename, 'rb'))\r\n",
        "      \r\n",
        "# Use the loaded pickled model to make predictions\r\n",
        "#Y_test = pd.DataFrame(columns = 'growth_label_cat') \r\n",
        "Y_test= loaded_model.predict(X_test) \r\n",
        "\r\n",
        "accuracy = loaded_model.score(X_test, Y_test)\r\n",
        "print(\"accuracy=\", accuracy)"
      ],
      "execution_count": 14,
      "outputs": [
        {
          "output_type": "stream",
          "text": [
            "accuracy= 1.0\n"
          ],
          "name": "stdout"
        }
      ]
    },
    {
      "cell_type": "markdown",
      "metadata": {
        "id": "8vmSgYu6eHq-"
      },
      "source": [
        "# Load XGBoost Model"
      ]
    },
    {
      "cell_type": "code",
      "metadata": {
        "colab": {
          "base_uri": "https://localhost:8080/"
        },
        "id": "FIuGwsVKeHrA",
        "outputId": "b02b8992-f4f7-4818-a5c3-b48c196b458c"
      },
      "source": [
        "location = '/content/drive/Shared drives/CMPE 295- Master Project/projectdata-2021/'\r\n",
        "filename = location+'XGBoost.pkl'\r\n",
        "\r\n",
        "\r\n",
        "# Load the pickled model \r\n",
        "loaded_model = pickle.load(open(filename, 'rb'))\r\n",
        "      \r\n",
        "# Use the loaded pickled model to make predictions\r\n",
        "#Y_test = pd.DataFrame(columns = 'growth_label_cat') \r\n",
        "Y_test= loaded_model.predict(X_test) \r\n",
        "\r\n",
        "accuracy = loaded_model.score(X_test, Y_test)\r\n",
        "print(\"accuracy=\", accuracy)"
      ],
      "execution_count": 15,
      "outputs": [
        {
          "output_type": "stream",
          "text": [
            "accuracy= 1.0\n"
          ],
          "name": "stdout"
        }
      ]
    }
  ]
}