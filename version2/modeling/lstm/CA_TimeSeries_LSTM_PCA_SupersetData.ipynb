{
  "nbformat": 4,
  "nbformat_minor": 0,
  "metadata": {
    "colab": {
      "name": "CA_TimeSeries_LSTM_PCA_SupersetData.ipynb",
      "provenance": [],
      "collapsed_sections": [],
      "include_colab_link": true
    },
    "kernelspec": {
      "name": "python3",
      "display_name": "Python 3"
    }
  },
  "cells": [
    {
      "cell_type": "markdown",
      "metadata": {
        "id": "view-in-github",
        "colab_type": "text"
      },
      "source": [
        "<a href=\"https://colab.research.google.com/github/aarsanjani/meansquares/blob/master/version2/modeling/lstm/CA_TimeSeries_LSTM_PCA_SupersetData.ipynb\" target=\"_parent\"><img src=\"https://colab.research.google.com/assets/colab-badge.svg\" alt=\"Open In Colab\"/></a>"
      ]
    },
    {
      "cell_type": "markdown",
      "metadata": {
        "id": "Peb3i3j910ZZ"
      },
      "source": [
        "# Goal\n",
        "\n",
        "This colab finds the possible 'New Cases' in some counties in California after PCA analysis "
      ]
    },
    {
      "cell_type": "markdown",
      "metadata": {
        "id": "A2o8leQh2a0W"
      },
      "source": [
        "# Mount Google Drive"
      ]
    },
    {
      "cell_type": "code",
      "metadata": {
        "colab": {
          "base_uri": "https://localhost:8080/"
        },
        "id": "DxQcfW0N1vzY",
        "outputId": "3561db07-e5bb-403e-ef1a-202f436a4129"
      },
      "source": [
        "from google.colab import drive\n",
        "drive.mount('/content/drive',force_remount=True)"
      ],
      "execution_count": 1,
      "outputs": [
        {
          "output_type": "stream",
          "text": [
            "Mounted at /content/drive\n"
          ],
          "name": "stdout"
        }
      ]
    },
    {
      "cell_type": "code",
      "metadata": {
        "colab": {
          "base_uri": "https://localhost:8080/"
        },
        "id": "PeVbIdh82kTF",
        "outputId": "5bd7b2e9-ce4c-428e-f4c4-5c5d82d65510"
      },
      "source": [
        "!ls '/content/drive/Shared drives/CMPE 295- Master Project/projectdata-2021'"
      ],
      "execution_count": 2,
      "outputs": [
        {
          "output_type": "stream",
          "text": [
            " CA_alldatasets_Feb05.csv\n",
            " CA_alldatasets_Jan13.csv\n",
            " CA_CombinedData_Labeled_CDCGuideline_Feb05.csv\n",
            " CA_CombinedData_Labeled_CDCGuideline_Feb06.csv\n",
            " CA_CombinedData_Labeled_CDCGuideline_Jan15.csv\n",
            " CA_combined_Feb04.csv\n",
            " CA_CovidDataJan10.csv\n",
            " CA_dataset_Feb11.csv\n",
            " CA_GoogleMobilityDataJan10.csv\n",
            " CA_MarylandData_Labeled_CDCGuideline_Feb05.csv\n",
            " CA_MarylandData_Labeled_CDCGuideline_Feb06.csv\n",
            " CA_MarylandData_Labeled_CDCGuideline_Jan15.csv\n",
            " CA_processedMarylandData_Feb04.csv\n",
            " CA_processedMarylandData_Feb05.csv\n",
            " CA_processedMarylandData_Feb12.csv\n",
            " CA_processedMarylandData_Jan11.csv\n",
            " CA_SocialDistancingDataJan10.csv\n",
            " CA_socialDistancingInertiaData_Feb04.csv\n",
            " CA_Superset_dataset_Feb12.csv\n",
            " computed_CA_mobility_data.csv\n",
            " data-mask_for_all.csv\n",
            " election_results_2021.csv\n",
            " maryland_inertia_data_allstates_Feb04.csv\n",
            " maryland_inertia_data_allstates_Feb05.csv\n",
            " maryland_inertia_data_allstates_Feb12.csv\n",
            " maryland_inertia_data_allstates_Jan11.csv\n",
            " maryland_inertia_raw_dec28_2020.csv\n",
            " Mask_Rule_Feb05.csv\n",
            " Mask_Rule_Jan10.csv\n",
            " NY_alldatasets_Jan13.csv\n",
            " NY_CombinedData_Labeled_CDCGuideline_Feb07.csv\n",
            " NY_CombinedData_Labeled_CDCGuideline_Jan15.csv\n",
            " NY_CovidDataJan10.csv\n",
            " NY_GoogleMobilityDataJan10.csv\n",
            " NY_MarylandData_Labeled_CDCGuideline_Feb07.csv\n",
            " NY_MarylandData_Labeled_CDCGuideline_Jan15.csv\n",
            " NY_processedMarylandData_Feb04.csv\n",
            " NY_processedMarylandData_Feb12.csv\n",
            " NY_processedMarylandData_Jan11.csv\n",
            " NY_SocialDistancingDataJan10.csv\n",
            "'Policy_Map_(Sized)_Full_Data_data.csv'\n",
            " population-density\n",
            " TX_alldatasets_Jan11.csv\n",
            " TX_CombinedData_Labeled_CDCGuideline_Feb07.csv\n",
            " TX_CombinedData_Labeled_CDCGuideline_Jan15.csv\n",
            " TX_CovidDataJan10.csv\n",
            " TX_GoogleMobilityDataJan10.csv\n",
            " TX_MarylandData_Labeled_CDCGuideline_Feb07.csv\n",
            " TX_MarylandData_Labeled_CDCGuideline_Jan15.csv\n",
            " TX_processedMarylandData_Feb04.csv\n",
            " TX_processedMarylandData_Feb12.csv\n",
            " TX_processedMarylandData_Jan11.csv\n",
            " TX_processedMarylandData_Jan11.gsheet\n",
            " TX_SocialDistancingDataJan10.csv\n",
            " WI_alldatasets_Feb07.csv\n",
            " WI_CovidDataFeb07.csv\n",
            " WI_GoogleMobilityDataFeb07.csv\n",
            " WI_maryland_inertia_data_allstates_Feb07.csv\n",
            " WI_processedMarylandData_Feb07.csv\n",
            " WI_SocialDistancingDataFeb07.csv\n"
          ],
          "name": "stdout"
        }
      ]
    },
    {
      "cell_type": "code",
      "metadata": {
        "id": "558T4YGp2z8V",
        "colab": {
          "base_uri": "https://localhost:8080/"
        },
        "outputId": "fb02f753-0d8a-4c4a-e109-b0050f14168e"
      },
      "source": [
        "import pandas as pd\n",
        "\n",
        "from tqdm import tqdm\n",
        "import seaborn as sns\n",
        "import numpy as np\n",
        "import matplotlib.pyplot as plt\n",
        "import os\n",
        "from pandas import Series, datetime\n",
        "from pandas.plotting import scatter_matrix, autocorrelation_plot\n",
        "from sklearn.preprocessing import StandardScaler, RobustScaler\n",
        "from sklearn.model_selection import train_test_split, KFold, cross_val_score, GridSearchCV, TimeSeriesSplit\n",
        "from sklearn import metrics\n",
        "from sklearn.metrics import classification_report, confusion_matrix, accuracy_score, mean_squared_error,precision_score\n",
        "from sklearn.pipeline import Pipeline\n",
        "from sklearn.linear_model import LogisticRegression\n",
        "from sklearn.tree import DecisionTreeClassifier\n",
        "from sklearn.neighbors import KNeighborsClassifier\n",
        "from sklearn.discriminant_analysis import LinearDiscriminantAnalysis\n",
        "from sklearn.naive_bayes import GaussianNB\n",
        "from sklearn.cluster import KMeans\n",
        "from sklearn.svm import SVC\n",
        "from sklearn.ensemble import AdaBoostClassifier, GradientBoostingClassifier, RandomForestClassifier, ExtraTreesClassifier\n",
        "from sklearn.metrics import roc_curve, auc\n",
        "import random\n",
        "from statsmodels.graphics.tsaplots import plot_acf, plot_pacf\n",
        "from statsmodels.tsa.arima_model import ARIMA\n",
        "from xgboost import XGBClassifier\n",
        "from sklearn.mixture import GaussianMixture\n",
        "from sklearn.metrics import median_absolute_error, mean_absolute_error\n",
        "\n",
        "\n",
        "import numpy as np\n",
        "import matplotlib.pyplot as plt\n",
        "import pandas as pd\n",
        "pd.set_option('display.float_format', lambda x: '%.4f' % x)\n",
        "import seaborn as sns\n",
        "sns.set_context(\"paper\", font_scale=1.3)\n",
        "sns.set_style('white')\n",
        "import warnings\n",
        "warnings.filterwarnings('ignore')\n",
        "from time import time\n",
        "import matplotlib.ticker as tkr\n",
        "from scipy import stats\n",
        "from statsmodels.tsa.stattools import adfuller\n",
        "from sklearn import preprocessing\n",
        "from statsmodels.tsa.stattools import pacf\n",
        "%matplotlib inline\n",
        "import math\n",
        "import keras\n",
        "from keras.models import Sequential\n",
        "from keras.layers import Dense\n",
        "from keras.layers import LSTM\n",
        "from keras.layers import Dropout\n",
        "from keras.layers import *\n",
        "from sklearn.preprocessing import MinMaxScaler\n",
        "from sklearn.metrics import mean_squared_error\n",
        "from sklearn.metrics import mean_absolute_error\n",
        "from keras.callbacks import EarlyStopping\n"
      ],
      "execution_count": 3,
      "outputs": [
        {
          "output_type": "stream",
          "text": [
            "/usr/local/lib/python3.6/dist-packages/statsmodels/tools/_testing.py:19: FutureWarning: pandas.util.testing is deprecated. Use the functions in the public API at pandas.testing instead.\n",
            "  import pandas.util.testing as tm\n"
          ],
          "name": "stderr"
        }
      ]
    },
    {
      "cell_type": "markdown",
      "metadata": {
        "id": "kn7FlI762nFk"
      },
      "source": [
        "# Load superset data for CA"
      ]
    },
    {
      "cell_type": "code",
      "metadata": {
        "colab": {
          "base_uri": "https://localhost:8080/",
          "height": 317
        },
        "id": "vxUcxn622pxX",
        "outputId": "e91375cc-cd97-4384-ae91-510840a65ac7"
      },
      "source": [
        "CA_superset_data = pd.read_csv('/content/drive/Shared drives/CMPE 295- Master Project/projectdata-2021/CA_Superset_dataset_Feb12.csv',low_memory=False)\n",
        "CA_superset_data.head()"
      ],
      "execution_count": 5,
      "outputs": [
        {
          "output_type": "execute_result",
          "data": {
            "text/html": [
              "<div>\n",
              "<style scoped>\n",
              "    .dataframe tbody tr th:only-of-type {\n",
              "        vertical-align: middle;\n",
              "    }\n",
              "\n",
              "    .dataframe tbody tr th {\n",
              "        vertical-align: top;\n",
              "    }\n",
              "\n",
              "    .dataframe thead th {\n",
              "        text-align: right;\n",
              "    }\n",
              "</style>\n",
              "<table border=\"1\" class=\"dataframe\">\n",
              "  <thead>\n",
              "    <tr style=\"text-align: right;\">\n",
              "      <th></th>\n",
              "      <th>Date</th>\n",
              "      <th>Province_State</th>\n",
              "      <th>FIPS</th>\n",
              "      <th>New cases</th>\n",
              "      <th>County Name</th>\n",
              "      <th>mask_rule_severity</th>\n",
              "      <th>m50</th>\n",
              "      <th>m50_index</th>\n",
              "      <th>retail_and_recreation_percent_change_from_baseline</th>\n",
              "      <th>grocery_and_pharmacy_percent_change_from_baseline</th>\n",
              "      <th>parks_percent_change_from_baseline</th>\n",
              "      <th>transit_stations_percent_change_from_baseline</th>\n",
              "      <th>workplaces_percent_change_from_baseline</th>\n",
              "      <th>residential_percent_change_from_baseline</th>\n",
              "      <th>PopDensity</th>\n",
              "      <th>State_Name</th>\n",
              "      <th>State</th>\n",
              "      <th>CTFIPS</th>\n",
              "      <th>CTNAME</th>\n",
              "      <th>STFIPS</th>\n",
              "      <th>Social.distancing.index</th>\n",
              "      <th>X..staying.home</th>\n",
              "      <th>Trips.person</th>\n",
              "      <th>X..out.of.county.trips</th>\n",
              "      <th>X..out.of.state.trips</th>\n",
              "      <th>Miles.person</th>\n",
              "      <th>Work.trips.person</th>\n",
              "      <th>Non.work.trips.person</th>\n",
              "      <th>New.COVID.cases</th>\n",
              "      <th>Population</th>\n",
              "      <th>X..change.in.consumption</th>\n",
              "      <th>Transit.mode.share</th>\n",
              "      <th>X..people.older.than.60</th>\n",
              "      <th>Median.income</th>\n",
              "      <th>X..African.Americans</th>\n",
              "      <th>X..Hispanic.Americans</th>\n",
              "      <th>X..Male</th>\n",
              "      <th>Employment.density</th>\n",
              "      <th>X..hot.spots.1000.people</th>\n",
              "      <th>Hospital.beds.1000.people</th>\n",
              "      <th>ICUs.1000.people</th>\n",
              "      <th>X..contact.tracing.workers.1000.people</th>\n",
              "      <th>New.cases.1000.people</th>\n",
              "      <th>Active.cases.1000.people</th>\n",
              "      <th>X.days..decreasing.COVID.cases</th>\n",
              "      <th>X..hospital.bed.utilization</th>\n",
              "      <th>Testing.capacity</th>\n",
              "      <th>Tests.done.1000.people</th>\n",
              "      <th>X..ICU.utilization</th>\n",
              "      <th>Ventilator.shortage</th>\n",
              "      <th>Imported.COVID.cases</th>\n",
              "      <th>COVID.exposure.1000.people</th>\n",
              "      <th>X.days..decreasing.ILI.cases</th>\n",
              "      <th>Unemployment.claims.1000.people</th>\n",
              "      <th>Unemployment.rate</th>\n",
              "      <th>X..working.from.home</th>\n",
              "      <th>Cumulative.inflation.rate</th>\n",
              "      <th>COVID.death.rate</th>\n",
              "    </tr>\n",
              "  </thead>\n",
              "  <tbody>\n",
              "    <tr>\n",
              "      <th>0</th>\n",
              "      <td>2020-03-01</td>\n",
              "      <td>California</td>\n",
              "      <td>6001</td>\n",
              "      <td>0</td>\n",
              "      <td>Alameda County</td>\n",
              "      <td>0.0000</td>\n",
              "      <td>3.6840</td>\n",
              "      <td>58</td>\n",
              "      <td>6.0000</td>\n",
              "      <td>9.0000</td>\n",
              "      <td>15.0000</td>\n",
              "      <td>1.0000</td>\n",
              "      <td>4.0000</td>\n",
              "      <td>0.0000</td>\n",
              "      <td>860.7571</td>\n",
              "      <td>California</td>\n",
              "      <td>CA</td>\n",
              "      <td>6001</td>\n",
              "      <td>Alameda County</td>\n",
              "      <td>6</td>\n",
              "      <td>37</td>\n",
              "      <td>26</td>\n",
              "      <td>2.9300</td>\n",
              "      <td>25.4000</td>\n",
              "      <td>0.4000</td>\n",
              "      <td>36.8000</td>\n",
              "      <td>0.2500</td>\n",
              "      <td>2.6800</td>\n",
              "      <td>0</td>\n",
              "      <td>1666753</td>\n",
              "      <td>-5.1000</td>\n",
              "      <td>15.0400</td>\n",
              "      <td>19</td>\n",
              "      <td>92574</td>\n",
              "      <td>10.5000</td>\n",
              "      <td>22.5000</td>\n",
              "      <td>49.1100</td>\n",
              "      <td>1155</td>\n",
              "      <td>131</td>\n",
              "      <td>2.0500</td>\n",
              "      <td>0.2200</td>\n",
              "      <td>nan</td>\n",
              "      <td>0.0000</td>\n",
              "      <td>0.0000</td>\n",
              "      <td>37</td>\n",
              "      <td>54.0000</td>\n",
              "      <td>0.0000</td>\n",
              "      <td>0.0000</td>\n",
              "      <td>0.0000</td>\n",
              "      <td>0</td>\n",
              "      <td>0</td>\n",
              "      <td>0.0500</td>\n",
              "      <td>35</td>\n",
              "      <td>1.1000</td>\n",
              "      <td>5.3000</td>\n",
              "      <td>5.7000</td>\n",
              "      <td>0.6000</td>\n",
              "      <td>0.0000</td>\n",
              "    </tr>\n",
              "    <tr>\n",
              "      <th>1</th>\n",
              "      <td>2020-03-02</td>\n",
              "      <td>California</td>\n",
              "      <td>6001</td>\n",
              "      <td>0</td>\n",
              "      <td>Alameda County</td>\n",
              "      <td>0.0000</td>\n",
              "      <td>6.1820</td>\n",
              "      <td>98</td>\n",
              "      <td>4.0000</td>\n",
              "      <td>7.0000</td>\n",
              "      <td>7.0000</td>\n",
              "      <td>-1.0000</td>\n",
              "      <td>3.0000</td>\n",
              "      <td>0.0000</td>\n",
              "      <td>860.7571</td>\n",
              "      <td>California</td>\n",
              "      <td>CA</td>\n",
              "      <td>6001</td>\n",
              "      <td>Alameda County</td>\n",
              "      <td>6</td>\n",
              "      <td>17</td>\n",
              "      <td>20</td>\n",
              "      <td>3.3800</td>\n",
              "      <td>28.2000</td>\n",
              "      <td>0.4000</td>\n",
              "      <td>38.1000</td>\n",
              "      <td>0.6300</td>\n",
              "      <td>2.7400</td>\n",
              "      <td>0</td>\n",
              "      <td>1666753</td>\n",
              "      <td>-2.9000</td>\n",
              "      <td>15.0400</td>\n",
              "      <td>19</td>\n",
              "      <td>92574</td>\n",
              "      <td>10.5000</td>\n",
              "      <td>22.5000</td>\n",
              "      <td>49.1100</td>\n",
              "      <td>1155</td>\n",
              "      <td>131</td>\n",
              "      <td>2.0500</td>\n",
              "      <td>0.2200</td>\n",
              "      <td>nan</td>\n",
              "      <td>0.0000</td>\n",
              "      <td>0.0000</td>\n",
              "      <td>38</td>\n",
              "      <td>54.0000</td>\n",
              "      <td>0.0000</td>\n",
              "      <td>0.0000</td>\n",
              "      <td>0.0000</td>\n",
              "      <td>0</td>\n",
              "      <td>0</td>\n",
              "      <td>0.0500</td>\n",
              "      <td>35</td>\n",
              "      <td>1.1000</td>\n",
              "      <td>5.3000</td>\n",
              "      <td>5.7000</td>\n",
              "      <td>0.6000</td>\n",
              "      <td>0.0000</td>\n",
              "    </tr>\n",
              "    <tr>\n",
              "      <th>2</th>\n",
              "      <td>2020-03-03</td>\n",
              "      <td>California</td>\n",
              "      <td>6001</td>\n",
              "      <td>1</td>\n",
              "      <td>Alameda County</td>\n",
              "      <td>0.0000</td>\n",
              "      <td>6.2710</td>\n",
              "      <td>100</td>\n",
              "      <td>5.0000</td>\n",
              "      <td>12.0000</td>\n",
              "      <td>41.0000</td>\n",
              "      <td>0.0000</td>\n",
              "      <td>1.0000</td>\n",
              "      <td>-1.0000</td>\n",
              "      <td>860.7571</td>\n",
              "      <td>California</td>\n",
              "      <td>CA</td>\n",
              "      <td>6001</td>\n",
              "      <td>Alameda County</td>\n",
              "      <td>6</td>\n",
              "      <td>16</td>\n",
              "      <td>18</td>\n",
              "      <td>3.6100</td>\n",
              "      <td>27.1000</td>\n",
              "      <td>0.3000</td>\n",
              "      <td>32.7000</td>\n",
              "      <td>0.6700</td>\n",
              "      <td>2.9400</td>\n",
              "      <td>1</td>\n",
              "      <td>1666753</td>\n",
              "      <td>4.1000</td>\n",
              "      <td>15.0400</td>\n",
              "      <td>19</td>\n",
              "      <td>92574</td>\n",
              "      <td>10.5000</td>\n",
              "      <td>22.5000</td>\n",
              "      <td>49.1100</td>\n",
              "      <td>1155</td>\n",
              "      <td>131</td>\n",
              "      <td>2.0500</td>\n",
              "      <td>0.2200</td>\n",
              "      <td>nan</td>\n",
              "      <td>0.0002</td>\n",
              "      <td>0.0000</td>\n",
              "      <td>0</td>\n",
              "      <td>54.0000</td>\n",
              "      <td>0.0000</td>\n",
              "      <td>0.0000</td>\n",
              "      <td>0.0000</td>\n",
              "      <td>0</td>\n",
              "      <td>1</td>\n",
              "      <td>0.0500</td>\n",
              "      <td>42</td>\n",
              "      <td>1.1000</td>\n",
              "      <td>5.3000</td>\n",
              "      <td>5.7000</td>\n",
              "      <td>0.6000</td>\n",
              "      <td>0.0000</td>\n",
              "    </tr>\n",
              "    <tr>\n",
              "      <th>3</th>\n",
              "      <td>2020-03-04</td>\n",
              "      <td>California</td>\n",
              "      <td>6001</td>\n",
              "      <td>0</td>\n",
              "      <td>Alameda County</td>\n",
              "      <td>0.0000</td>\n",
              "      <td>6.2090</td>\n",
              "      <td>99</td>\n",
              "      <td>1.0000</td>\n",
              "      <td>6.0000</td>\n",
              "      <td>23.0000</td>\n",
              "      <td>-3.0000</td>\n",
              "      <td>1.0000</td>\n",
              "      <td>0.0000</td>\n",
              "      <td>860.7571</td>\n",
              "      <td>California</td>\n",
              "      <td>CA</td>\n",
              "      <td>6001</td>\n",
              "      <td>Alameda County</td>\n",
              "      <td>6</td>\n",
              "      <td>14</td>\n",
              "      <td>18</td>\n",
              "      <td>3.5500</td>\n",
              "      <td>27.9000</td>\n",
              "      <td>0.3000</td>\n",
              "      <td>36.9000</td>\n",
              "      <td>0.6800</td>\n",
              "      <td>2.8700</td>\n",
              "      <td>0</td>\n",
              "      <td>1666753</td>\n",
              "      <td>1.7000</td>\n",
              "      <td>15.0400</td>\n",
              "      <td>19</td>\n",
              "      <td>92574</td>\n",
              "      <td>10.5000</td>\n",
              "      <td>22.5000</td>\n",
              "      <td>49.1100</td>\n",
              "      <td>1155</td>\n",
              "      <td>131</td>\n",
              "      <td>2.0500</td>\n",
              "      <td>0.2200</td>\n",
              "      <td>nan</td>\n",
              "      <td>0.0002</td>\n",
              "      <td>0.0000</td>\n",
              "      <td>0</td>\n",
              "      <td>54.0000</td>\n",
              "      <td>10.3000</td>\n",
              "      <td>0.0100</td>\n",
              "      <td>0.0000</td>\n",
              "      <td>0</td>\n",
              "      <td>1</td>\n",
              "      <td>0.0600</td>\n",
              "      <td>42</td>\n",
              "      <td>1.1000</td>\n",
              "      <td>5.3000</td>\n",
              "      <td>5.7000</td>\n",
              "      <td>0.6000</td>\n",
              "      <td>0.0400</td>\n",
              "    </tr>\n",
              "    <tr>\n",
              "      <th>4</th>\n",
              "      <td>2020-03-05</td>\n",
              "      <td>California</td>\n",
              "      <td>6001</td>\n",
              "      <td>0</td>\n",
              "      <td>Alameda County</td>\n",
              "      <td>0.0000</td>\n",
              "      <td>6.6540</td>\n",
              "      <td>106</td>\n",
              "      <td>1.0000</td>\n",
              "      <td>6.0000</td>\n",
              "      <td>12.0000</td>\n",
              "      <td>-5.0000</td>\n",
              "      <td>-1.0000</td>\n",
              "      <td>1.0000</td>\n",
              "      <td>860.7571</td>\n",
              "      <td>California</td>\n",
              "      <td>CA</td>\n",
              "      <td>6001</td>\n",
              "      <td>Alameda County</td>\n",
              "      <td>6</td>\n",
              "      <td>15</td>\n",
              "      <td>19</td>\n",
              "      <td>3.5400</td>\n",
              "      <td>28.1000</td>\n",
              "      <td>0.3000</td>\n",
              "      <td>36.8000</td>\n",
              "      <td>0.6600</td>\n",
              "      <td>2.8800</td>\n",
              "      <td>0</td>\n",
              "      <td>1666753</td>\n",
              "      <td>2.0000</td>\n",
              "      <td>15.0400</td>\n",
              "      <td>19</td>\n",
              "      <td>92574</td>\n",
              "      <td>10.5000</td>\n",
              "      <td>22.5000</td>\n",
              "      <td>49.1100</td>\n",
              "      <td>1155</td>\n",
              "      <td>131</td>\n",
              "      <td>2.0500</td>\n",
              "      <td>0.2200</td>\n",
              "      <td>nan</td>\n",
              "      <td>0.0002</td>\n",
              "      <td>0.0000</td>\n",
              "      <td>0</td>\n",
              "      <td>54.0000</td>\n",
              "      <td>10.3000</td>\n",
              "      <td>0.0100</td>\n",
              "      <td>0.0000</td>\n",
              "      <td>0</td>\n",
              "      <td>1</td>\n",
              "      <td>0.0600</td>\n",
              "      <td>42</td>\n",
              "      <td>1.1000</td>\n",
              "      <td>5.3000</td>\n",
              "      <td>5.7000</td>\n",
              "      <td>0.6000</td>\n",
              "      <td>0.0400</td>\n",
              "    </tr>\n",
              "  </tbody>\n",
              "</table>\n",
              "</div>"
            ],
            "text/plain": [
              "         Date Province_State  ...  Cumulative.inflation.rate  COVID.death.rate\n",
              "0  2020-03-01     California  ...                     0.6000            0.0000\n",
              "1  2020-03-02     California  ...                     0.6000            0.0000\n",
              "2  2020-03-03     California  ...                     0.6000            0.0000\n",
              "3  2020-03-04     California  ...                     0.6000            0.0400\n",
              "4  2020-03-05     California  ...                     0.6000            0.0400\n",
              "\n",
              "[5 rows x 58 columns]"
            ]
          },
          "metadata": {
            "tags": []
          },
          "execution_count": 5
        }
      ]
    },
    {
      "cell_type": "markdown",
      "metadata": {
        "id": "dz88ruhHdbgI"
      },
      "source": [
        "## Group the data"
      ]
    },
    {
      "cell_type": "code",
      "metadata": {
        "colab": {
          "base_uri": "https://localhost:8080/"
        },
        "id": "ulNUOh09dni3",
        "outputId": "81efacbf-73bf-4633-ae59-a026c033af22"
      },
      "source": [
        "CA_superset_data.columns"
      ],
      "execution_count": 6,
      "outputs": [
        {
          "output_type": "execute_result",
          "data": {
            "text/plain": [
              "Index(['Date', 'Province_State', 'FIPS', 'New cases', 'County Name',\n",
              "       'mask_rule_severity', 'm50', 'm50_index',\n",
              "       'retail_and_recreation_percent_change_from_baseline',\n",
              "       'grocery_and_pharmacy_percent_change_from_baseline',\n",
              "       'parks_percent_change_from_baseline',\n",
              "       'transit_stations_percent_change_from_baseline',\n",
              "       'workplaces_percent_change_from_baseline',\n",
              "       'residential_percent_change_from_baseline', 'PopDensity', 'State_Name',\n",
              "       'State', 'CTFIPS', 'CTNAME', 'STFIPS', 'Social.distancing.index',\n",
              "       'X..staying.home', 'Trips.person', 'X..out.of.county.trips',\n",
              "       'X..out.of.state.trips', 'Miles.person', 'Work.trips.person',\n",
              "       'Non.work.trips.person', 'New.COVID.cases', 'Population',\n",
              "       'X..change.in.consumption', 'Transit.mode.share',\n",
              "       'X..people.older.than.60', 'Median.income', 'X..African.Americans',\n",
              "       'X..Hispanic.Americans', 'X..Male', 'Employment.density',\n",
              "       'X..hot.spots.1000.people', 'Hospital.beds.1000.people',\n",
              "       'ICUs.1000.people', 'X..contact.tracing.workers.1000.people',\n",
              "       'New.cases.1000.people', 'Active.cases.1000.people',\n",
              "       'X.days..decreasing.COVID.cases', 'X..hospital.bed.utilization',\n",
              "       'Testing.capacity', 'Tests.done.1000.people', 'X..ICU.utilization',\n",
              "       'Ventilator.shortage', 'Imported.COVID.cases',\n",
              "       'COVID.exposure.1000.people', 'X.days..decreasing.ILI.cases',\n",
              "       'Unemployment.claims.1000.people', 'Unemployment.rate',\n",
              "       'X..working.from.home', 'Cumulative.inflation.rate',\n",
              "       'COVID.death.rate'],\n",
              "      dtype='object')"
            ]
          },
          "metadata": {
            "tags": []
          },
          "execution_count": 6
        }
      ]
    },
    {
      "cell_type": "code",
      "metadata": {
        "id": "ZSl-K2oLdrlI"
      },
      "source": [
        "x_col_demographics = ['PopDensity','X..people.older.than.60',\r\n",
        "                      'Median.income', 'X..African.Americans',\r\n",
        "                      'X..Hispanic.Americans', 'X..Male','Date','New cases']"
      ],
      "execution_count": 13,
      "outputs": []
    },
    {
      "cell_type": "code",
      "metadata": {
        "id": "luR-aqZyfIAa"
      },
      "source": [
        "x_col_hospitalization_testing = ['Hospital.beds.1000.people',\r\n",
        "       'ICUs.1000.people', \r\n",
        "       'X..hospital.bed.utilization',\r\n",
        "       'Testing.capacity', 'Tests.done.1000.people', 'X..ICU.utilization',\r\n",
        "       'Ventilator.shortage','Date','New cases'] #'X..contact.tracing.workers.1000.people',"
      ],
      "execution_count": 14,
      "outputs": []
    },
    {
      "cell_type": "code",
      "metadata": {
        "id": "AKJ_Xx1RfxLL"
      },
      "source": [
        "x_col_mobility = ['retail_and_recreation_percent_change_from_baseline',\r\n",
        "       'grocery_and_pharmacy_percent_change_from_baseline','parks_percent_change_from_baseline',\r\n",
        "       'transit_stations_percent_change_from_baseline','workplaces_percent_change_from_baseline',\r\n",
        "       'residential_percent_change_from_baseline',\r\n",
        "       'X..staying.home', 'Trips.person', 'X..out.of.county.trips',\r\n",
        "       'X..out.of.state.trips', 'Miles.person', 'Work.trips.person',\r\n",
        "       'Non.work.trips.person','X..working.from.home','Date','New cases']"
      ],
      "execution_count": 15,
      "outputs": []
    },
    {
      "cell_type": "code",
      "metadata": {
        "id": "-TTb78Pegu9X"
      },
      "source": [
        "x_col_socialdistancing = ['m50', 'm50_index','Social.distancing.index','Date','New cases']"
      ],
      "execution_count": 16,
      "outputs": []
    },
    {
      "cell_type": "code",
      "metadata": {
        "id": "-cKerz6Lg87o"
      },
      "source": [
        "x_col_maskrule = ['mask_rule_severity','Date','New cases']"
      ],
      "execution_count": 17,
      "outputs": []
    },
    {
      "cell_type": "markdown",
      "metadata": {
        "id": "cbtvxoJClYz-"
      },
      "source": [
        "# LSTM: Demographic Group"
      ]
    },
    {
      "cell_type": "code",
      "metadata": {
        "id": "Pt7fcXxd2vu5"
      },
      "source": [
        "X_cols_all = x_col_demographics\n",
        "\n",
        "X_cols_feature_selected = ['X..people.older.than.60', 'Median.income', 'X..Male',\n",
        "                           'X..African.Americans', 'PopDensity'\n",
        "                           ,'Date','New cases']\n"
      ],
      "execution_count": 39,
      "outputs": []
    },
    {
      "cell_type": "code",
      "metadata": {
        "colab": {
          "base_uri": "https://localhost:8080/",
          "height": 330
        },
        "id": "hstwWs6s3Ht-",
        "outputId": "8e8ad8d4-e10f-4a52-a3b9-32475c3941cd"
      },
      "source": [
        "LA_combined_data_all = CA_superset_data[CA_superset_data['County Name'] == 'Los Angeles County'][X_cols_all]\n",
        "print(LA_combined_data_all.shape)\n",
        "\n",
        "LA_combined_data_featured = CA_superset_data[CA_superset_data['County Name'] == 'Los Angeles County'][X_cols_feature_selected]\n",
        "print(LA_combined_data_featured.shape)\n",
        "LA_combined_data_all.head(5)"
      ],
      "execution_count": 40,
      "outputs": [
        {
          "output_type": "stream",
          "text": [
            "(292, 8)\n",
            "(292, 7)\n"
          ],
          "name": "stdout"
        },
        {
          "output_type": "execute_result",
          "data": {
            "text/html": [
              "<div>\n",
              "<style scoped>\n",
              "    .dataframe tbody tr th:only-of-type {\n",
              "        vertical-align: middle;\n",
              "    }\n",
              "\n",
              "    .dataframe tbody tr th {\n",
              "        vertical-align: top;\n",
              "    }\n",
              "\n",
              "    .dataframe thead th {\n",
              "        text-align: right;\n",
              "    }\n",
              "</style>\n",
              "<table border=\"1\" class=\"dataframe\">\n",
              "  <thead>\n",
              "    <tr style=\"text-align: right;\">\n",
              "      <th></th>\n",
              "      <th>PopDensity</th>\n",
              "      <th>X..people.older.than.60</th>\n",
              "      <th>Median.income</th>\n",
              "      <th>X..African.Americans</th>\n",
              "      <th>X..Hispanic.Americans</th>\n",
              "      <th>X..Male</th>\n",
              "      <th>Date</th>\n",
              "      <th>New cases</th>\n",
              "    </tr>\n",
              "  </thead>\n",
              "  <tbody>\n",
              "    <tr>\n",
              "      <th>4804</th>\n",
              "      <td>960.7428</td>\n",
              "      <td>18</td>\n",
              "      <td>64251</td>\n",
              "      <td>7.9000</td>\n",
              "      <td>48.5000</td>\n",
              "      <td>49.2800</td>\n",
              "      <td>2020-03-01</td>\n",
              "      <td>0</td>\n",
              "    </tr>\n",
              "    <tr>\n",
              "      <th>4805</th>\n",
              "      <td>960.7428</td>\n",
              "      <td>18</td>\n",
              "      <td>64251</td>\n",
              "      <td>7.9000</td>\n",
              "      <td>48.5000</td>\n",
              "      <td>49.2800</td>\n",
              "      <td>2020-03-02</td>\n",
              "      <td>0</td>\n",
              "    </tr>\n",
              "    <tr>\n",
              "      <th>4806</th>\n",
              "      <td>960.7428</td>\n",
              "      <td>18</td>\n",
              "      <td>64251</td>\n",
              "      <td>7.9000</td>\n",
              "      <td>48.5000</td>\n",
              "      <td>49.2800</td>\n",
              "      <td>2020-03-03</td>\n",
              "      <td>0</td>\n",
              "    </tr>\n",
              "    <tr>\n",
              "      <th>4807</th>\n",
              "      <td>960.7428</td>\n",
              "      <td>18</td>\n",
              "      <td>64251</td>\n",
              "      <td>7.9000</td>\n",
              "      <td>48.5000</td>\n",
              "      <td>49.2800</td>\n",
              "      <td>2020-03-04</td>\n",
              "      <td>6</td>\n",
              "    </tr>\n",
              "    <tr>\n",
              "      <th>4808</th>\n",
              "      <td>960.7428</td>\n",
              "      <td>18</td>\n",
              "      <td>64251</td>\n",
              "      <td>7.9000</td>\n",
              "      <td>48.5000</td>\n",
              "      <td>49.2800</td>\n",
              "      <td>2020-03-05</td>\n",
              "      <td>4</td>\n",
              "    </tr>\n",
              "  </tbody>\n",
              "</table>\n",
              "</div>"
            ],
            "text/plain": [
              "      PopDensity  X..people.older.than.60  ...        Date  New cases\n",
              "4804    960.7428                       18  ...  2020-03-01          0\n",
              "4805    960.7428                       18  ...  2020-03-02          0\n",
              "4806    960.7428                       18  ...  2020-03-03          0\n",
              "4807    960.7428                       18  ...  2020-03-04          6\n",
              "4808    960.7428                       18  ...  2020-03-05          4\n",
              "\n",
              "[5 rows x 8 columns]"
            ]
          },
          "metadata": {
            "tags": []
          },
          "execution_count": 40
        }
      ]
    },
    {
      "cell_type": "code",
      "metadata": {
        "id": "aGVzYJFr4Mjg"
      },
      "source": [
        "from datetime import datetime\n",
        "# load data\n",
        "def parse(x):\n",
        "\treturn datetime.strptime(x, '%Y-%m-%d')\n",
        " \n",
        "def datetime_to_float(d):\n",
        "    date_time_obj = datetime.strptime(d, '%Y-%m-%d')\n",
        "    return date_time_obj.timestamp()"
      ],
      "execution_count": 41,
      "outputs": []
    },
    {
      "cell_type": "code",
      "metadata": {
        "colab": {
          "base_uri": "https://localhost:8080/"
        },
        "id": "ZmXCI5gI6vfs",
        "outputId": "ff0acf12-75d1-4689-baf3-205f59183d8b"
      },
      "source": [
        "len(LA_combined_data_featured.columns)"
      ],
      "execution_count": 42,
      "outputs": [
        {
          "output_type": "execute_result",
          "data": {
            "text/plain": [
              "7"
            ]
          },
          "metadata": {
            "tags": []
          },
          "execution_count": 42
        }
      ]
    },
    {
      "cell_type": "code",
      "metadata": {
        "colab": {
          "base_uri": "https://localhost:8080/",
          "height": 196
        },
        "id": "v5nndUDn4BHm",
        "outputId": "c1069ccb-f6ca-4de8-8968-65d788721cc9"
      },
      "source": [
        "LA_combined_data_featured['Date'] = LA_combined_data_featured['Date'].apply(lambda x: datetime_to_float(x))\n",
        "LA_combined_data_all['Date'] = LA_combined_data_all['Date'].apply(lambda x: datetime_to_float(x))\n",
        "\n",
        "#Harris_combined_data.index.name = 'Date'\n",
        "LA_combined_data_featured.head()"
      ],
      "execution_count": 43,
      "outputs": [
        {
          "output_type": "execute_result",
          "data": {
            "text/html": [
              "<div>\n",
              "<style scoped>\n",
              "    .dataframe tbody tr th:only-of-type {\n",
              "        vertical-align: middle;\n",
              "    }\n",
              "\n",
              "    .dataframe tbody tr th {\n",
              "        vertical-align: top;\n",
              "    }\n",
              "\n",
              "    .dataframe thead th {\n",
              "        text-align: right;\n",
              "    }\n",
              "</style>\n",
              "<table border=\"1\" class=\"dataframe\">\n",
              "  <thead>\n",
              "    <tr style=\"text-align: right;\">\n",
              "      <th></th>\n",
              "      <th>X..people.older.than.60</th>\n",
              "      <th>Median.income</th>\n",
              "      <th>X..Male</th>\n",
              "      <th>X..African.Americans</th>\n",
              "      <th>PopDensity</th>\n",
              "      <th>Date</th>\n",
              "      <th>New cases</th>\n",
              "    </tr>\n",
              "  </thead>\n",
              "  <tbody>\n",
              "    <tr>\n",
              "      <th>4804</th>\n",
              "      <td>18</td>\n",
              "      <td>64251</td>\n",
              "      <td>49.2800</td>\n",
              "      <td>7.9000</td>\n",
              "      <td>960.7428</td>\n",
              "      <td>1583020800.0000</td>\n",
              "      <td>0</td>\n",
              "    </tr>\n",
              "    <tr>\n",
              "      <th>4805</th>\n",
              "      <td>18</td>\n",
              "      <td>64251</td>\n",
              "      <td>49.2800</td>\n",
              "      <td>7.9000</td>\n",
              "      <td>960.7428</td>\n",
              "      <td>1583107200.0000</td>\n",
              "      <td>0</td>\n",
              "    </tr>\n",
              "    <tr>\n",
              "      <th>4806</th>\n",
              "      <td>18</td>\n",
              "      <td>64251</td>\n",
              "      <td>49.2800</td>\n",
              "      <td>7.9000</td>\n",
              "      <td>960.7428</td>\n",
              "      <td>1583193600.0000</td>\n",
              "      <td>0</td>\n",
              "    </tr>\n",
              "    <tr>\n",
              "      <th>4807</th>\n",
              "      <td>18</td>\n",
              "      <td>64251</td>\n",
              "      <td>49.2800</td>\n",
              "      <td>7.9000</td>\n",
              "      <td>960.7428</td>\n",
              "      <td>1583280000.0000</td>\n",
              "      <td>6</td>\n",
              "    </tr>\n",
              "    <tr>\n",
              "      <th>4808</th>\n",
              "      <td>18</td>\n",
              "      <td>64251</td>\n",
              "      <td>49.2800</td>\n",
              "      <td>7.9000</td>\n",
              "      <td>960.7428</td>\n",
              "      <td>1583366400.0000</td>\n",
              "      <td>4</td>\n",
              "    </tr>\n",
              "  </tbody>\n",
              "</table>\n",
              "</div>"
            ],
            "text/plain": [
              "      X..people.older.than.60  Median.income  ...            Date  New cases\n",
              "4804                       18          64251  ... 1583020800.0000          0\n",
              "4805                       18          64251  ... 1583107200.0000          0\n",
              "4806                       18          64251  ... 1583193600.0000          0\n",
              "4807                       18          64251  ... 1583280000.0000          6\n",
              "4808                       18          64251  ... 1583366400.0000          4\n",
              "\n",
              "[5 rows x 7 columns]"
            ]
          },
          "metadata": {
            "tags": []
          },
          "execution_count": 43
        }
      ]
    },
    {
      "cell_type": "code",
      "metadata": {
        "colab": {
          "base_uri": "https://localhost:8080/"
        },
        "id": "Tz-elIxItS42",
        "outputId": "de6301ab-f0b3-49bb-d598-15f244ad21b6"
      },
      "source": [
        "print(len(LA_combined_data_featured.columns))\n",
        "LA_combined_data_featured.dtypes"
      ],
      "execution_count": 44,
      "outputs": [
        {
          "output_type": "stream",
          "text": [
            "7\n"
          ],
          "name": "stdout"
        },
        {
          "output_type": "execute_result",
          "data": {
            "text/plain": [
              "X..people.older.than.60      int64\n",
              "Median.income                int64\n",
              "X..Male                    float64\n",
              "X..African.Americans       float64\n",
              "PopDensity                 float64\n",
              "Date                       float64\n",
              "New cases                    int64\n",
              "dtype: object"
            ]
          },
          "metadata": {
            "tags": []
          },
          "execution_count": 44
        }
      ]
    },
    {
      "cell_type": "markdown",
      "metadata": {
        "id": "G6ZZezSa4dLQ"
      },
      "source": [
        "## Preprocessing data for LSTM"
      ]
    },
    {
      "cell_type": "code",
      "metadata": {
        "id": "skQx3frs5lWf"
      },
      "source": [
        "LA_combined_data_all_selected = LA_combined_data_all[X_cols_all]\n",
        "LA_combined_data_featured_selected = LA_combined_data_featured[X_cols_feature_selected]"
      ],
      "execution_count": 45,
      "outputs": []
    },
    {
      "cell_type": "code",
      "metadata": {
        "id": "Zc1ijcNL45mk"
      },
      "source": [
        "\n",
        "# prepare data for lstm\n",
        "from pandas import read_csv\n",
        "from pandas import DataFrame\n",
        "from pandas import concat\n",
        "from sklearn.preprocessing import LabelEncoder\n",
        "from sklearn.preprocessing import MinMaxScaler\n",
        " \n",
        "# convert series to supervised learning\n",
        "def series_to_supervised(data, n_in=1, n_out=1, dropnan=True):\n",
        "\tn_vars = 1 if type(data) is list else data.shape[1]\n",
        "\tdf = DataFrame(data)\n",
        "\tcols, names = list(), list()\n",
        "\t# input sequence (t-n, ... t-1)\n",
        "\tfor i in range(n_in, 0, -1):\n",
        "\t\tcols.append(df.shift(i))\n",
        "\t\tnames += [('var%d(t-%d)' % (j+1, i)) for j in range(n_vars)]\n",
        "\t# forecast sequence (t, t+1, ... t+n)\n",
        "\tfor i in range(0, n_out):\n",
        "\t\tcols.append(df.shift(-i))\n",
        "\t\tif i == 0:\n",
        "\t\t\tnames += [('var%d(t)' % (j+1)) for j in range(n_vars)]\n",
        "\t\telse:\n",
        "\t\t\tnames += [('var%d(t+%d)' % (j+1, i)) for j in range(n_vars)]\n",
        "\t# put it all together\n",
        "\tagg = concat(cols, axis=1)\n",
        "\tagg.columns = names\n",
        "\t# drop rows with NaN values\n",
        "\tif dropnan:\n",
        "\t\tagg.dropna(inplace=True)\n",
        "\treturn agg"
      ],
      "execution_count": 46,
      "outputs": []
    },
    {
      "cell_type": "markdown",
      "metadata": {
        "id": "t3heHKNijDjM"
      },
      "source": [
        "## All values for CA training data"
      ]
    },
    {
      "cell_type": "code",
      "metadata": {
        "colab": {
          "base_uri": "https://localhost:8080/"
        },
        "id": "p7WIkt3l4OCu",
        "outputId": "6efd4b41-9048-47bc-d8e9-b9d4b40ee20c"
      },
      "source": [
        "values = LA_combined_data_all_selected.values\n",
        "# integer encode direction\n",
        "encoder = LabelEncoder()\n",
        "values[:,len(X_cols_all)-1] = encoder.fit_transform(values[:,len(X_cols_all)-1])\n",
        "# ensure all data is float\n",
        "values = values.astype('float32')\n",
        "# normalize features\n",
        "scaler = MinMaxScaler(feature_range=(0, 1))\n",
        "scaled = scaler.fit_transform(values)\n",
        "# frame as supervised learning\n",
        "reframed = series_to_supervised(scaled, 1, 1)\n",
        "# drop columns we don't want to predict\n",
        "#reframed.drop(reframed.columns[[9,10,11,12,13,14,15]], axis=1, inplace=True)\n",
        "print(reframed.head())"
      ],
      "execution_count": 47,
      "outputs": [
        {
          "output_type": "stream",
          "text": [
            "   var1(t-1)  var2(t-1)  var3(t-1)  ...  var6(t)  var7(t)  var8(t)\n",
            "1     0.0000     0.0000     0.0000  ...   0.0000   0.0033   0.0000\n",
            "2     0.0000     0.0000     0.0000  ...   0.0000   0.0066   0.0000\n",
            "3     0.0000     0.0000     0.0000  ...   0.0000   0.0099   0.0186\n",
            "4     0.0000     0.0000     0.0000  ...   0.0000   0.0132   0.0112\n",
            "5     0.0000     0.0000     0.0000  ...   0.0000   0.0166   0.0074\n",
            "\n",
            "[5 rows x 16 columns]\n"
          ],
          "name": "stdout"
        }
      ]
    },
    {
      "cell_type": "markdown",
      "metadata": {
        "id": "1tqQokoY4l1R"
      },
      "source": [
        "## Train Test Split"
      ]
    },
    {
      "cell_type": "code",
      "metadata": {
        "colab": {
          "base_uri": "https://localhost:8080/"
        },
        "id": "ZrYxatVf8NUr",
        "outputId": "50754d3c-2244-40b6-9cb9-9f9400af4a4b"
      },
      "source": [
        "values.shape[0]"
      ],
      "execution_count": 48,
      "outputs": [
        {
          "output_type": "execute_result",
          "data": {
            "text/plain": [
              "292"
            ]
          },
          "metadata": {
            "tags": []
          },
          "execution_count": 48
        }
      ]
    },
    {
      "cell_type": "code",
      "metadata": {
        "colab": {
          "base_uri": "https://localhost:8080/"
        },
        "id": "J3BradOz4ilu",
        "outputId": "d0e39a64-fe72-4950-f06d-d428efbc6aa0"
      },
      "source": [
        "\n",
        "# split into train and test sets\n",
        "values = reframed.values\n",
        "rows_count = values.shape[0]\n",
        "# split the 1/5 value\n",
        "train_split = rows_count//5\n",
        "\n",
        "n_train_hours = train_split * 4\n",
        "\n",
        "print(n_train_hours)\n",
        "print('values shape ',values.shape)\n",
        "train = values[:n_train_hours, :]\n",
        "test = values[n_train_hours:, :]\n",
        "# split into input and outputs\n",
        "train_X, train_y = train[:, :-1], train[:, -1]\n",
        "test_X, test_y = test[:, :-1], test[:, -1]\n",
        "# reshape input to be 3D [samples, timesteps, features]\n",
        "train_X = train_X.reshape((train_X.shape[0], 1, train_X.shape[1]))\n",
        "test_X = test_X.reshape((test_X.shape[0], 1, test_X.shape[1]))\n",
        "print(train_X.shape, train_y.shape, test_X.shape, test_y.shape)"
      ],
      "execution_count": 49,
      "outputs": [
        {
          "output_type": "stream",
          "text": [
            "232\n",
            "values shape  (291, 16)\n",
            "(232, 1, 15) (232,) (59, 1, 15) (59,)\n"
          ],
          "name": "stdout"
        }
      ]
    },
    {
      "cell_type": "markdown",
      "metadata": {
        "id": "F_jMzaXy4q0d"
      },
      "source": [
        "## Training LSTM"
      ]
    },
    {
      "cell_type": "code",
      "metadata": {
        "colab": {
          "base_uri": "https://localhost:8080/",
          "height": 1000
        },
        "id": "F8tOKWVO4oJk",
        "outputId": "6731fa16-096a-44d8-e273-17607895f220"
      },
      "source": [
        "...\n",
        "# design network\n",
        "model = Sequential()\n",
        "model.add(LSTM(50, input_shape=(train_X.shape[1], train_X.shape[2])))\n",
        "model.add(Dense(1))\n",
        "model.compile(loss='mae', optimizer='adam')\n",
        "# fit network\n",
        "history = model.fit(train_X, train_y, epochs=100, batch_size=72, validation_data=(test_X, test_y), verbose=2, shuffle=False)\n",
        "# plot history\n",
        "plt.plot(history.history['loss'], label='train')\n",
        "plt.plot(history.history['val_loss'], label='test')\n",
        "plt.legend()\n",
        "plt.show()"
      ],
      "execution_count": 50,
      "outputs": [
        {
          "output_type": "stream",
          "text": [
            "Epoch 1/100\n",
            "4/4 - 2s - loss: 0.4301 - val_loss: 0.8124\n",
            "Epoch 2/100\n",
            "4/4 - 0s - loss: 0.4058 - val_loss: 0.7735\n",
            "Epoch 3/100\n",
            "4/4 - 0s - loss: 0.3824 - val_loss: 0.7355\n",
            "Epoch 4/100\n",
            "4/4 - 0s - loss: 0.3599 - val_loss: 0.6978\n",
            "Epoch 5/100\n",
            "4/4 - 0s - loss: 0.3383 - val_loss: 0.6602\n",
            "Epoch 6/100\n",
            "4/4 - 0s - loss: 0.3180 - val_loss: 0.6228\n",
            "Epoch 7/100\n",
            "4/4 - 0s - loss: 0.2987 - val_loss: 0.5853\n",
            "Epoch 8/100\n",
            "4/4 - 0s - loss: 0.2805 - val_loss: 0.5488\n",
            "Epoch 9/100\n",
            "4/4 - 0s - loss: 0.2628 - val_loss: 0.5124\n",
            "Epoch 10/100\n",
            "4/4 - 0s - loss: 0.2461 - val_loss: 0.4767\n",
            "Epoch 11/100\n",
            "4/4 - 0s - loss: 0.2310 - val_loss: 0.4415\n",
            "Epoch 12/100\n",
            "4/4 - 0s - loss: 0.2177 - val_loss: 0.4080\n",
            "Epoch 13/100\n",
            "4/4 - 0s - loss: 0.2066 - val_loss: 0.3769\n",
            "Epoch 14/100\n",
            "4/4 - 0s - loss: 0.1988 - val_loss: 0.3495\n",
            "Epoch 15/100\n",
            "4/4 - 0s - loss: 0.1928 - val_loss: 0.3264\n",
            "Epoch 16/100\n",
            "4/4 - 0s - loss: 0.1885 - val_loss: 0.3077\n",
            "Epoch 17/100\n",
            "4/4 - 0s - loss: 0.1855 - val_loss: 0.2923\n",
            "Epoch 18/100\n",
            "4/4 - 0s - loss: 0.1833 - val_loss: 0.2805\n",
            "Epoch 19/100\n",
            "4/4 - 0s - loss: 0.1818 - val_loss: 0.2727\n",
            "Epoch 20/100\n",
            "4/4 - 0s - loss: 0.1807 - val_loss: 0.2679\n",
            "Epoch 21/100\n",
            "4/4 - 0s - loss: 0.1799 - val_loss: 0.2652\n",
            "Epoch 22/100\n",
            "4/4 - 0s - loss: 0.1792 - val_loss: 0.2639\n",
            "Epoch 23/100\n",
            "4/4 - 0s - loss: 0.1787 - val_loss: 0.2637\n",
            "Epoch 24/100\n",
            "4/4 - 0s - loss: 0.1782 - val_loss: 0.2640\n",
            "Epoch 25/100\n",
            "4/4 - 0s - loss: 0.1778 - val_loss: 0.2646\n",
            "Epoch 26/100\n",
            "4/4 - 0s - loss: 0.1774 - val_loss: 0.2650\n",
            "Epoch 27/100\n",
            "4/4 - 0s - loss: 0.1770 - val_loss: 0.2653\n",
            "Epoch 28/100\n",
            "4/4 - 0s - loss: 0.1766 - val_loss: 0.2654\n",
            "Epoch 29/100\n",
            "4/4 - 0s - loss: 0.1762 - val_loss: 0.2655\n",
            "Epoch 30/100\n",
            "4/4 - 0s - loss: 0.1758 - val_loss: 0.2654\n",
            "Epoch 31/100\n",
            "4/4 - 0s - loss: 0.1753 - val_loss: 0.2654\n",
            "Epoch 32/100\n",
            "4/4 - 0s - loss: 0.1749 - val_loss: 0.2654\n",
            "Epoch 33/100\n",
            "4/4 - 0s - loss: 0.1745 - val_loss: 0.2656\n",
            "Epoch 34/100\n",
            "4/4 - 0s - loss: 0.1741 - val_loss: 0.2657\n",
            "Epoch 35/100\n",
            "4/4 - 0s - loss: 0.1737 - val_loss: 0.2658\n",
            "Epoch 36/100\n",
            "4/4 - 0s - loss: 0.1733 - val_loss: 0.2660\n",
            "Epoch 37/100\n",
            "4/4 - 0s - loss: 0.1729 - val_loss: 0.2661\n",
            "Epoch 38/100\n",
            "4/4 - 0s - loss: 0.1724 - val_loss: 0.2661\n",
            "Epoch 39/100\n",
            "4/4 - 0s - loss: 0.1720 - val_loss: 0.2662\n",
            "Epoch 40/100\n",
            "4/4 - 0s - loss: 0.1716 - val_loss: 0.2664\n",
            "Epoch 41/100\n",
            "4/4 - 0s - loss: 0.1712 - val_loss: 0.2665\n",
            "Epoch 42/100\n",
            "4/4 - 0s - loss: 0.1708 - val_loss: 0.2663\n",
            "Epoch 43/100\n",
            "4/4 - 0s - loss: 0.1703 - val_loss: 0.2650\n",
            "Epoch 44/100\n",
            "4/4 - 0s - loss: 0.1697 - val_loss: 0.2630\n",
            "Epoch 45/100\n",
            "4/4 - 0s - loss: 0.1691 - val_loss: 0.2608\n",
            "Epoch 46/100\n",
            "4/4 - 0s - loss: 0.1685 - val_loss: 0.2595\n",
            "Epoch 47/100\n",
            "4/4 - 0s - loss: 0.1679 - val_loss: 0.2587\n",
            "Epoch 48/100\n",
            "4/4 - 0s - loss: 0.1674 - val_loss: 0.2584\n",
            "Epoch 49/100\n",
            "4/4 - 0s - loss: 0.1670 - val_loss: 0.2578\n",
            "Epoch 50/100\n",
            "4/4 - 0s - loss: 0.1664 - val_loss: 0.2561\n",
            "Epoch 51/100\n",
            "4/4 - 0s - loss: 0.1658 - val_loss: 0.2542\n",
            "Epoch 52/100\n",
            "4/4 - 0s - loss: 0.1652 - val_loss: 0.2530\n",
            "Epoch 53/100\n",
            "4/4 - 0s - loss: 0.1646 - val_loss: 0.2523\n",
            "Epoch 54/100\n",
            "4/4 - 0s - loss: 0.1641 - val_loss: 0.2514\n",
            "Epoch 55/100\n",
            "4/4 - 0s - loss: 0.1635 - val_loss: 0.2491\n",
            "Epoch 56/100\n",
            "4/4 - 0s - loss: 0.1627 - val_loss: 0.2456\n",
            "Epoch 57/100\n",
            "4/4 - 0s - loss: 0.1619 - val_loss: 0.2423\n",
            "Epoch 58/100\n",
            "4/4 - 0s - loss: 0.1612 - val_loss: 0.2391\n",
            "Epoch 59/100\n",
            "4/4 - 0s - loss: 0.1604 - val_loss: 0.2357\n",
            "Epoch 60/100\n",
            "4/4 - 0s - loss: 0.1596 - val_loss: 0.2318\n",
            "Epoch 61/100\n",
            "4/4 - 0s - loss: 0.1588 - val_loss: 0.2286\n",
            "Epoch 62/100\n",
            "4/4 - 0s - loss: 0.1581 - val_loss: 0.2253\n",
            "Epoch 63/100\n",
            "4/4 - 0s - loss: 0.1573 - val_loss: 0.2217\n",
            "Epoch 64/100\n",
            "4/4 - 0s - loss: 0.1566 - val_loss: 0.2185\n",
            "Epoch 65/100\n",
            "4/4 - 0s - loss: 0.1558 - val_loss: 0.2153\n",
            "Epoch 66/100\n",
            "4/4 - 0s - loss: 0.1550 - val_loss: 0.2118\n",
            "Epoch 67/100\n",
            "4/4 - 0s - loss: 0.1543 - val_loss: 0.2085\n",
            "Epoch 68/100\n",
            "4/4 - 0s - loss: 0.1535 - val_loss: 0.2049\n",
            "Epoch 69/100\n",
            "4/4 - 0s - loss: 0.1528 - val_loss: 0.2019\n",
            "Epoch 70/100\n",
            "4/4 - 0s - loss: 0.1521 - val_loss: 0.1988\n",
            "Epoch 71/100\n",
            "4/4 - 0s - loss: 0.1515 - val_loss: 0.1955\n",
            "Epoch 72/100\n",
            "4/4 - 0s - loss: 0.1508 - val_loss: 0.1922\n",
            "Epoch 73/100\n",
            "4/4 - 0s - loss: 0.1502 - val_loss: 0.1892\n",
            "Epoch 74/100\n",
            "4/4 - 0s - loss: 0.1496 - val_loss: 0.1865\n",
            "Epoch 75/100\n",
            "4/4 - 0s - loss: 0.1490 - val_loss: 0.1840\n",
            "Epoch 76/100\n",
            "4/4 - 0s - loss: 0.1485 - val_loss: 0.1816\n",
            "Epoch 77/100\n",
            "4/4 - 0s - loss: 0.1479 - val_loss: 0.1799\n",
            "Epoch 78/100\n",
            "4/4 - 0s - loss: 0.1475 - val_loss: 0.1795\n",
            "Epoch 79/100\n",
            "4/4 - 0s - loss: 0.1471 - val_loss: 0.1795\n",
            "Epoch 80/100\n",
            "4/4 - 0s - loss: 0.1467 - val_loss: 0.1787\n",
            "Epoch 81/100\n",
            "4/4 - 0s - loss: 0.1463 - val_loss: 0.1774\n",
            "Epoch 82/100\n",
            "4/4 - 0s - loss: 0.1458 - val_loss: 0.1758\n",
            "Epoch 83/100\n",
            "4/4 - 0s - loss: 0.1453 - val_loss: 0.1739\n",
            "Epoch 84/100\n",
            "4/4 - 0s - loss: 0.1448 - val_loss: 0.1720\n",
            "Epoch 85/100\n",
            "4/4 - 0s - loss: 0.1443 - val_loss: 0.1700\n",
            "Epoch 86/100\n",
            "4/4 - 0s - loss: 0.1438 - val_loss: 0.1686\n",
            "Epoch 87/100\n",
            "4/4 - 0s - loss: 0.1434 - val_loss: 0.1681\n",
            "Epoch 88/100\n",
            "4/4 - 0s - loss: 0.1430 - val_loss: 0.1671\n",
            "Epoch 89/100\n",
            "4/4 - 0s - loss: 0.1426 - val_loss: 0.1658\n",
            "Epoch 90/100\n",
            "4/4 - 0s - loss: 0.1422 - val_loss: 0.1643\n",
            "Epoch 91/100\n",
            "4/4 - 0s - loss: 0.1418 - val_loss: 0.1627\n",
            "Epoch 92/100\n",
            "4/4 - 0s - loss: 0.1413 - val_loss: 0.1614\n",
            "Epoch 93/100\n",
            "4/4 - 0s - loss: 0.1409 - val_loss: 0.1610\n",
            "Epoch 94/100\n",
            "4/4 - 0s - loss: 0.1405 - val_loss: 0.1601\n",
            "Epoch 95/100\n",
            "4/4 - 0s - loss: 0.1401 - val_loss: 0.1589\n",
            "Epoch 96/100\n",
            "4/4 - 0s - loss: 0.1397 - val_loss: 0.1573\n",
            "Epoch 97/100\n",
            "4/4 - 0s - loss: 0.1392 - val_loss: 0.1553\n",
            "Epoch 98/100\n",
            "4/4 - 0s - loss: 0.1387 - val_loss: 0.1536\n",
            "Epoch 99/100\n",
            "4/4 - 0s - loss: 0.1384 - val_loss: 0.1529\n",
            "Epoch 100/100\n",
            "4/4 - 0s - loss: 0.1381 - val_loss: 0.1535\n"
          ],
          "name": "stdout"
        },
        {
          "output_type": "display_data",
          "data": {
            "image/png": "[encoded data removed]",
            "text/plain": [
              "<Figure size 432x288 with 1 Axes>"
            ]
          },
          "metadata": {
            "tags": [],
            "needs_background": "light"
          }
        }
      ]
    },
    {
      "cell_type": "markdown",
      "metadata": {
        "id": "ZnFmDLEa4w7g"
      },
      "source": [
        "## Test"
      ]
    },
    {
      "cell_type": "code",
      "metadata": {
        "colab": {
          "base_uri": "https://localhost:8080/"
        },
        "id": "2G98UOaR4yJ8",
        "outputId": "073c2496-e03e-486a-aa03-59f7580108c5"
      },
      "source": [
        "import math\n",
        "\n",
        "# make a prediction\n",
        "yhat = model.predict(test_X)\n",
        "test_X1 = test_X.reshape((test_X.shape[0], test_X.shape[2]))\n",
        "# invert scaling for forecast\n",
        "inv_yhat = concatenate((yhat, test_X1[:, 1:]), axis=1)\n",
        "print(inv_yhat.shape)\n",
        "#inv_yhat = scaler.inverse_transform(inv_yhat)\n",
        "inv_yhat = inv_yhat[:,0]\n",
        "# invert scaling for actual\n",
        "test_y = test_y.reshape((len(test_y), 1))\n",
        "inv_y = concatenate((test_y, test_X1[:, 1:]), axis=1)\n",
        "#inv_y = scaler.inverse_transform(inv_y)\n",
        "inv_y = inv_y[:,0]\n",
        "# calculate RMSE\n",
        "mse = mean_squared_error(inv_y, inv_yhat)\n",
        "print('Test MSE: %.3f' % mse)\n",
        "rmse = math.sqrt(mean_squared_error(inv_y, inv_yhat))\n",
        "print('Test RMSE: %.3f' % rmse)\n",
        "\n",
        "print('median_absolute_error', median_absolute_error(inv_y, inv_yhat))\n",
        "print('mean_absolute_error', mean_absolute_error(inv_y, inv_yhat))"
      ],
      "execution_count": 51,
      "outputs": [
        {
          "output_type": "stream",
          "text": [
            "(59, 15)\n",
            "Test MSE: 0.043\n",
            "Test RMSE: 0.208\n",
            "median_absolute_error 0.12862939\n",
            "mean_absolute_error 0.15349914\n"
          ],
          "name": "stdout"
        }
      ]
    },
    {
      "cell_type": "markdown",
      "metadata": {
        "id": "xKq3c8_9jQXa"
      },
      "source": [
        "## Preprocessing feature selected data for training"
      ]
    },
    {
      "cell_type": "code",
      "metadata": {
        "colab": {
          "base_uri": "https://localhost:8080/"
        },
        "id": "awyC3BSCjnqY",
        "outputId": "0c3115d5-931e-4058-9a4e-8a16f46dff7e"
      },
      "source": [
        "len(LA_combined_data_featured_selected.columns)"
      ],
      "execution_count": 52,
      "outputs": [
        {
          "output_type": "execute_result",
          "data": {
            "text/plain": [
              "7"
            ]
          },
          "metadata": {
            "tags": []
          },
          "execution_count": 52
        }
      ]
    },
    {
      "cell_type": "code",
      "metadata": {
        "colab": {
          "base_uri": "https://localhost:8080/"
        },
        "id": "Op6wtKgcjUNm",
        "outputId": "03647d14-3d06-4cc8-a8ed-4a1ac87398da"
      },
      "source": [
        "values = LA_combined_data_featured_selected.values\n",
        "# integer encode direction\n",
        "encoder = LabelEncoder()\n",
        "values[:,6] = encoder.fit_transform(values[:,6])\n",
        "# ensure all data is float\n",
        "values = values.astype('float32')\n",
        "# normalize features\n",
        "scaler = MinMaxScaler(feature_range=(0, 1))\n",
        "scaled = scaler.fit_transform(values)\n",
        "# frame as supervised learning\n",
        "reframed = series_to_supervised(scaled, 1, 1)\n",
        "# drop columns we don't want to predict\n",
        "#reframed.drop(reframed.columns[[9,10,11,12,13,14,15]], axis=1, inplace=True)\n",
        "print(reframed.head())"
      ],
      "execution_count": 53,
      "outputs": [
        {
          "output_type": "stream",
          "text": [
            "   var1(t-1)  var2(t-1)  var3(t-1)  ...  var5(t)  var6(t)  var7(t)\n",
            "1     0.0000     0.0000     0.0000  ...   0.0000   0.0033   0.0000\n",
            "2     0.0000     0.0000     0.0000  ...   0.0000   0.0066   0.0000\n",
            "3     0.0000     0.0000     0.0000  ...   0.0000   0.0099   0.0186\n",
            "4     0.0000     0.0000     0.0000  ...   0.0000   0.0132   0.0112\n",
            "5     0.0000     0.0000     0.0000  ...   0.0000   0.0166   0.0074\n",
            "\n",
            "[5 rows x 14 columns]\n"
          ],
          "name": "stdout"
        }
      ]
    },
    {
      "cell_type": "markdown",
      "metadata": {
        "id": "CtNQl7UFjhBG"
      },
      "source": [
        "### Train Test split"
      ]
    },
    {
      "cell_type": "code",
      "metadata": {
        "colab": {
          "base_uri": "https://localhost:8080/"
        },
        "id": "9uQoint5jUdo",
        "outputId": "f3ff247b-44d9-4581-e3d1-474b4b6ab238"
      },
      "source": [
        "\n",
        "# split into train and test sets\n",
        "values = reframed.values\n",
        "rows_count = values.shape[0]\n",
        "# split the 1/5 value\n",
        "train_split = rows_count//5\n",
        "\n",
        "n_train_hours = train_split * 4\n",
        "\n",
        "print(n_train_hours)\n",
        "print('values shape ',values.shape)\n",
        "train = values[:n_train_hours, :]\n",
        "test = values[n_train_hours:, :]\n",
        "# split into input and outputs\n",
        "train_X, train_y = train[:, :-1], train[:, -1]\n",
        "test_X, test_y = test[:, :-1], test[:, -1]\n",
        "# reshape input to be 3D [samples, timesteps, features]\n",
        "train_X = train_X.reshape((train_X.shape[0], 1, train_X.shape[1]))\n",
        "test_X = test_X.reshape((test_X.shape[0], 1, test_X.shape[1]))\n",
        "print(train_X.shape, train_y.shape, test_X.shape, test_y.shape)"
      ],
      "execution_count": 54,
      "outputs": [
        {
          "output_type": "stream",
          "text": [
            "232\n",
            "values shape  (291, 14)\n",
            "(232, 1, 13) (232,) (59, 1, 13) (59,)\n"
          ],
          "name": "stdout"
        }
      ]
    },
    {
      "cell_type": "markdown",
      "metadata": {
        "id": "_UahqIBqjvVP"
      },
      "source": [
        "### Training LSTM for feature selected data"
      ]
    },
    {
      "cell_type": "code",
      "metadata": {
        "colab": {
          "base_uri": "https://localhost:8080/"
        },
        "id": "w8-AFQysjUbC",
        "outputId": "e28d58b1-f4ae-45e2-a974-10849c4be97d"
      },
      "source": [
        "...\n",
        "# design network\n",
        "model = Sequential()\n",
        "model.add(LSTM(50, input_shape=(train_X.shape[1], train_X.shape[2])))\n",
        "model.add(Dense(1))\n",
        "model.compile(loss='mae', optimizer='adam')\n",
        "# fit network\n",
        "history = model.fit(train_X, train_y, epochs=200, batch_size=72, validation_data=(test_X, test_y), verbose=2, shuffle=False)\n"
      ],
      "execution_count": 55,
      "outputs": [
        {
          "output_type": "stream",
          "text": [
            "Epoch 1/200\n",
            "4/4 - 2s - loss: 0.3714 - val_loss: 0.6972\n",
            "Epoch 2/200\n",
            "4/4 - 0s - loss: 0.3477 - val_loss: 0.6588\n",
            "Epoch 3/200\n",
            "4/4 - 0s - loss: 0.3255 - val_loss: 0.6198\n",
            "Epoch 4/200\n",
            "4/4 - 0s - loss: 0.3042 - val_loss: 0.5803\n",
            "Epoch 5/200\n",
            "4/4 - 0s - loss: 0.2836 - val_loss: 0.5414\n",
            "Epoch 6/200\n",
            "4/4 - 0s - loss: 0.2637 - val_loss: 0.5021\n",
            "Epoch 7/200\n",
            "4/4 - 0s - loss: 0.2452 - val_loss: 0.4640\n",
            "Epoch 8/200\n",
            "4/4 - 0s - loss: 0.2290 - val_loss: 0.4267\n",
            "Epoch 9/200\n",
            "4/4 - 0s - loss: 0.2147 - val_loss: 0.3909\n",
            "Epoch 10/200\n",
            "4/4 - 0s - loss: 0.2029 - val_loss: 0.3581\n",
            "Epoch 11/200\n",
            "4/4 - 0s - loss: 0.1945 - val_loss: 0.3302\n",
            "Epoch 12/200\n",
            "4/4 - 0s - loss: 0.1883 - val_loss: 0.3072\n",
            "Epoch 13/200\n",
            "4/4 - 0s - loss: 0.1842 - val_loss: 0.2883\n",
            "Epoch 14/200\n",
            "4/4 - 0s - loss: 0.1814 - val_loss: 0.2737\n",
            "Epoch 15/200\n",
            "4/4 - 0s - loss: 0.1794 - val_loss: 0.2641\n",
            "Epoch 16/200\n",
            "4/4 - 0s - loss: 0.1782 - val_loss: 0.2583\n",
            "Epoch 17/200\n",
            "4/4 - 0s - loss: 0.1772 - val_loss: 0.2552\n",
            "Epoch 18/200\n",
            "4/4 - 0s - loss: 0.1765 - val_loss: 0.2538\n",
            "Epoch 19/200\n",
            "4/4 - 0s - loss: 0.1758 - val_loss: 0.2536\n",
            "Epoch 20/200\n",
            "4/4 - 0s - loss: 0.1753 - val_loss: 0.2540\n",
            "Epoch 21/200\n",
            "4/4 - 0s - loss: 0.1748 - val_loss: 0.2550\n",
            "Epoch 22/200\n",
            "4/4 - 0s - loss: 0.1743 - val_loss: 0.2562\n",
            "Epoch 23/200\n",
            "4/4 - 0s - loss: 0.1739 - val_loss: 0.2575\n",
            "Epoch 24/200\n",
            "4/4 - 0s - loss: 0.1735 - val_loss: 0.2584\n",
            "Epoch 25/200\n",
            "4/4 - 0s - loss: 0.1731 - val_loss: 0.2588\n",
            "Epoch 26/200\n",
            "4/4 - 0s - loss: 0.1726 - val_loss: 0.2587\n",
            "Epoch 27/200\n",
            "4/4 - 0s - loss: 0.1720 - val_loss: 0.2585\n",
            "Epoch 28/200\n",
            "4/4 - 0s - loss: 0.1714 - val_loss: 0.2582\n",
            "Epoch 29/200\n",
            "4/4 - 0s - loss: 0.1709 - val_loss: 0.2579\n",
            "Epoch 30/200\n",
            "4/4 - 0s - loss: 0.1703 - val_loss: 0.2575\n",
            "Epoch 31/200\n",
            "4/4 - 0s - loss: 0.1698 - val_loss: 0.2572\n",
            "Epoch 32/200\n",
            "4/4 - 0s - loss: 0.1692 - val_loss: 0.2571\n",
            "Epoch 33/200\n",
            "4/4 - 0s - loss: 0.1687 - val_loss: 0.2569\n",
            "Epoch 34/200\n",
            "4/4 - 0s - loss: 0.1681 - val_loss: 0.2566\n",
            "Epoch 35/200\n",
            "4/4 - 0s - loss: 0.1676 - val_loss: 0.2562\n",
            "Epoch 36/200\n",
            "4/4 - 0s - loss: 0.1670 - val_loss: 0.2557\n",
            "Epoch 37/200\n",
            "4/4 - 0s - loss: 0.1664 - val_loss: 0.2550\n",
            "Epoch 38/200\n",
            "4/4 - 0s - loss: 0.1658 - val_loss: 0.2543\n",
            "Epoch 39/200\n",
            "4/4 - 0s - loss: 0.1652 - val_loss: 0.2535\n",
            "Epoch 40/200\n",
            "4/4 - 0s - loss: 0.1645 - val_loss: 0.2527\n",
            "Epoch 41/200\n",
            "4/4 - 0s - loss: 0.1639 - val_loss: 0.2518\n",
            "Epoch 42/200\n",
            "4/4 - 0s - loss: 0.1632 - val_loss: 0.2508\n",
            "Epoch 43/200\n",
            "4/4 - 0s - loss: 0.1625 - val_loss: 0.2498\n",
            "Epoch 44/200\n",
            "4/4 - 0s - loss: 0.1618 - val_loss: 0.2487\n",
            "Epoch 45/200\n",
            "4/4 - 0s - loss: 0.1611 - val_loss: 0.2476\n",
            "Epoch 46/200\n",
            "4/4 - 0s - loss: 0.1604 - val_loss: 0.2461\n",
            "Epoch 47/200\n",
            "4/4 - 0s - loss: 0.1596 - val_loss: 0.2430\n",
            "Epoch 48/200\n",
            "4/4 - 0s - loss: 0.1586 - val_loss: 0.2382\n",
            "Epoch 49/200\n",
            "4/4 - 0s - loss: 0.1575 - val_loss: 0.2327\n",
            "Epoch 50/200\n",
            "4/4 - 0s - loss: 0.1565 - val_loss: 0.2280\n",
            "Epoch 51/200\n",
            "4/4 - 0s - loss: 0.1555 - val_loss: 0.2240\n",
            "Epoch 52/200\n",
            "4/4 - 0s - loss: 0.1545 - val_loss: 0.2199\n",
            "Epoch 53/200\n",
            "4/4 - 0s - loss: 0.1535 - val_loss: 0.2154\n",
            "Epoch 54/200\n",
            "4/4 - 0s - loss: 0.1526 - val_loss: 0.2113\n",
            "Epoch 55/200\n",
            "4/4 - 0s - loss: 0.1516 - val_loss: 0.2068\n",
            "Epoch 56/200\n",
            "4/4 - 0s - loss: 0.1507 - val_loss: 0.2025\n",
            "Epoch 57/200\n",
            "4/4 - 0s - loss: 0.1499 - val_loss: 0.1982\n",
            "Epoch 58/200\n",
            "4/4 - 0s - loss: 0.1491 - val_loss: 0.1942\n",
            "Epoch 59/200\n",
            "4/4 - 0s - loss: 0.1483 - val_loss: 0.1907\n",
            "Epoch 60/200\n",
            "4/4 - 0s - loss: 0.1476 - val_loss: 0.1876\n",
            "Epoch 61/200\n",
            "4/4 - 0s - loss: 0.1469 - val_loss: 0.1848\n",
            "Epoch 62/200\n",
            "4/4 - 0s - loss: 0.1463 - val_loss: 0.1821\n",
            "Epoch 63/200\n",
            "4/4 - 0s - loss: 0.1456 - val_loss: 0.1795\n",
            "Epoch 64/200\n",
            "4/4 - 0s - loss: 0.1449 - val_loss: 0.1775\n",
            "Epoch 65/200\n",
            "4/4 - 0s - loss: 0.1444 - val_loss: 0.1768\n",
            "Epoch 66/200\n",
            "4/4 - 0s - loss: 0.1439 - val_loss: 0.1757\n",
            "Epoch 67/200\n",
            "4/4 - 0s - loss: 0.1434 - val_loss: 0.1743\n",
            "Epoch 68/200\n",
            "4/4 - 0s - loss: 0.1428 - val_loss: 0.1727\n",
            "Epoch 69/200\n",
            "4/4 - 0s - loss: 0.1423 - val_loss: 0.1710\n",
            "Epoch 70/200\n",
            "4/4 - 0s - loss: 0.1418 - val_loss: 0.1691\n",
            "Epoch 71/200\n",
            "4/4 - 0s - loss: 0.1412 - val_loss: 0.1671\n",
            "Epoch 72/200\n",
            "4/4 - 0s - loss: 0.1407 - val_loss: 0.1651\n",
            "Epoch 73/200\n",
            "4/4 - 0s - loss: 0.1401 - val_loss: 0.1636\n",
            "Epoch 74/200\n",
            "4/4 - 0s - loss: 0.1396 - val_loss: 0.1630\n",
            "Epoch 75/200\n",
            "4/4 - 0s - loss: 0.1391 - val_loss: 0.1619\n",
            "Epoch 76/200\n",
            "4/4 - 0s - loss: 0.1386 - val_loss: 0.1605\n",
            "Epoch 77/200\n",
            "4/4 - 0s - loss: 0.1381 - val_loss: 0.1597\n",
            "Epoch 78/200\n",
            "4/4 - 0s - loss: 0.1377 - val_loss: 0.1593\n",
            "Epoch 79/200\n",
            "4/4 - 0s - loss: 0.1374 - val_loss: 0.1586\n",
            "Epoch 80/200\n",
            "4/4 - 0s - loss: 0.1370 - val_loss: 0.1575\n",
            "Epoch 81/200\n",
            "4/4 - 0s - loss: 0.1366 - val_loss: 0.1559\n",
            "Epoch 82/200\n",
            "4/4 - 0s - loss: 0.1362 - val_loss: 0.1541\n",
            "Epoch 83/200\n",
            "4/4 - 0s - loss: 0.1358 - val_loss: 0.1522\n",
            "Epoch 84/200\n",
            "4/4 - 0s - loss: 0.1353 - val_loss: 0.1501\n",
            "Epoch 85/200\n",
            "4/4 - 0s - loss: 0.1349 - val_loss: 0.1479\n",
            "Epoch 86/200\n",
            "4/4 - 0s - loss: 0.1344 - val_loss: 0.1459\n",
            "Epoch 87/200\n",
            "4/4 - 0s - loss: 0.1340 - val_loss: 0.1441\n",
            "Epoch 88/200\n",
            "4/4 - 0s - loss: 0.1335 - val_loss: 0.1426\n",
            "Epoch 89/200\n",
            "4/4 - 0s - loss: 0.1331 - val_loss: 0.1415\n",
            "Epoch 90/200\n",
            "4/4 - 0s - loss: 0.1327 - val_loss: 0.1405\n",
            "Epoch 91/200\n",
            "4/4 - 0s - loss: 0.1324 - val_loss: 0.1393\n",
            "Epoch 92/200\n",
            "4/4 - 0s - loss: 0.1320 - val_loss: 0.1379\n",
            "Epoch 93/200\n",
            "4/4 - 0s - loss: 0.1316 - val_loss: 0.1364\n",
            "Epoch 94/200\n",
            "4/4 - 0s - loss: 0.1312 - val_loss: 0.1356\n",
            "Epoch 95/200\n",
            "4/4 - 0s - loss: 0.1309 - val_loss: 0.1356\n",
            "Epoch 96/200\n",
            "4/4 - 0s - loss: 0.1307 - val_loss: 0.1361\n",
            "Epoch 97/200\n",
            "4/4 - 0s - loss: 0.1305 - val_loss: 0.1368\n",
            "Epoch 98/200\n",
            "4/4 - 0s - loss: 0.1303 - val_loss: 0.1375\n",
            "Epoch 99/200\n",
            "4/4 - 0s - loss: 0.1301 - val_loss: 0.1380\n",
            "Epoch 100/200\n",
            "4/4 - 0s - loss: 0.1300 - val_loss: 0.1383\n",
            "Epoch 101/200\n",
            "4/4 - 0s - loss: 0.1298 - val_loss: 0.1382\n",
            "Epoch 102/200\n",
            "4/4 - 0s - loss: 0.1296 - val_loss: 0.1377\n",
            "Epoch 103/200\n",
            "4/4 - 0s - loss: 0.1294 - val_loss: 0.1369\n",
            "Epoch 104/200\n",
            "4/4 - 0s - loss: 0.1292 - val_loss: 0.1360\n",
            "Epoch 105/200\n",
            "4/4 - 0s - loss: 0.1289 - val_loss: 0.1348\n",
            "Epoch 106/200\n",
            "4/4 - 0s - loss: 0.1286 - val_loss: 0.1334\n",
            "Epoch 107/200\n",
            "4/4 - 0s - loss: 0.1283 - val_loss: 0.1320\n",
            "Epoch 108/200\n",
            "4/4 - 0s - loss: 0.1281 - val_loss: 0.1312\n",
            "Epoch 109/200\n",
            "4/4 - 0s - loss: 0.1279 - val_loss: 0.1308\n",
            "Epoch 110/200\n",
            "4/4 - 0s - loss: 0.1277 - val_loss: 0.1306\n",
            "Epoch 111/200\n",
            "4/4 - 0s - loss: 0.1276 - val_loss: 0.1305\n",
            "Epoch 112/200\n",
            "4/4 - 0s - loss: 0.1275 - val_loss: 0.1309\n",
            "Epoch 113/200\n",
            "4/4 - 0s - loss: 0.1275 - val_loss: 0.1313\n",
            "Epoch 114/200\n",
            "4/4 - 0s - loss: 0.1274 - val_loss: 0.1314\n",
            "Epoch 115/200\n",
            "4/4 - 0s - loss: 0.1274 - val_loss: 0.1312\n",
            "Epoch 116/200\n",
            "4/4 - 0s - loss: 0.1273 - val_loss: 0.1310\n",
            "Epoch 117/200\n",
            "4/4 - 0s - loss: 0.1272 - val_loss: 0.1307\n",
            "Epoch 118/200\n",
            "4/4 - 0s - loss: 0.1271 - val_loss: 0.1303\n",
            "Epoch 119/200\n",
            "4/4 - 0s - loss: 0.1270 - val_loss: 0.1299\n",
            "Epoch 120/200\n",
            "4/4 - 0s - loss: 0.1270 - val_loss: 0.1295\n",
            "Epoch 121/200\n",
            "4/4 - 0s - loss: 0.1269 - val_loss: 0.1290\n",
            "Epoch 122/200\n",
            "4/4 - 0s - loss: 0.1268 - val_loss: 0.1288\n",
            "Epoch 123/200\n",
            "4/4 - 0s - loss: 0.1267 - val_loss: 0.1289\n",
            "Epoch 124/200\n",
            "4/4 - 0s - loss: 0.1267 - val_loss: 0.1292\n",
            "Epoch 125/200\n",
            "4/4 - 0s - loss: 0.1266 - val_loss: 0.1297\n",
            "Epoch 126/200\n",
            "4/4 - 0s - loss: 0.1266 - val_loss: 0.1301\n",
            "Epoch 127/200\n",
            "4/4 - 0s - loss: 0.1266 - val_loss: 0.1302\n",
            "Epoch 128/200\n",
            "4/4 - 0s - loss: 0.1265 - val_loss: 0.1303\n",
            "Epoch 129/200\n",
            "4/4 - 0s - loss: 0.1265 - val_loss: 0.1308\n",
            "Epoch 130/200\n",
            "4/4 - 0s - loss: 0.1265 - val_loss: 0.1318\n",
            "Epoch 131/200\n",
            "4/4 - 0s - loss: 0.1265 - val_loss: 0.1332\n",
            "Epoch 132/200\n",
            "4/4 - 0s - loss: 0.1266 - val_loss: 0.1344\n",
            "Epoch 133/200\n",
            "4/4 - 0s - loss: 0.1267 - val_loss: 0.1352\n",
            "Epoch 134/200\n",
            "4/4 - 0s - loss: 0.1267 - val_loss: 0.1358\n",
            "Epoch 135/200\n",
            "4/4 - 0s - loss: 0.1267 - val_loss: 0.1369\n",
            "Epoch 136/200\n",
            "4/4 - 0s - loss: 0.1267 - val_loss: 0.1384\n",
            "Epoch 137/200\n",
            "4/4 - 0s - loss: 0.1268 - val_loss: 0.1397\n",
            "Epoch 138/200\n",
            "4/4 - 0s - loss: 0.1268 - val_loss: 0.1404\n",
            "Epoch 139/200\n",
            "4/4 - 0s - loss: 0.1268 - val_loss: 0.1414\n",
            "Epoch 140/200\n",
            "4/4 - 0s - loss: 0.1269 - val_loss: 0.1429\n",
            "Epoch 141/200\n",
            "4/4 - 0s - loss: 0.1270 - val_loss: 0.1433\n",
            "Epoch 142/200\n",
            "4/4 - 0s - loss: 0.1269 - val_loss: 0.1420\n",
            "Epoch 143/200\n",
            "4/4 - 0s - loss: 0.1268 - val_loss: 0.1415\n",
            "Epoch 144/200\n",
            "4/4 - 0s - loss: 0.1267 - val_loss: 0.1416\n",
            "Epoch 145/200\n",
            "4/4 - 0s - loss: 0.1267 - val_loss: 0.1420\n",
            "Epoch 146/200\n",
            "4/4 - 0s - loss: 0.1267 - val_loss: 0.1419\n",
            "Epoch 147/200\n",
            "4/4 - 0s - loss: 0.1267 - val_loss: 0.1404\n",
            "Epoch 148/200\n",
            "4/4 - 0s - loss: 0.1265 - val_loss: 0.1398\n",
            "Epoch 149/200\n",
            "4/4 - 0s - loss: 0.1265 - val_loss: 0.1398\n",
            "Epoch 150/200\n",
            "4/4 - 0s - loss: 0.1265 - val_loss: 0.1402\n",
            "Epoch 151/200\n",
            "4/4 - 0s - loss: 0.1265 - val_loss: 0.1408\n",
            "Epoch 152/200\n",
            "4/4 - 0s - loss: 0.1265 - val_loss: 0.1415\n",
            "Epoch 153/200\n",
            "4/4 - 0s - loss: 0.1265 - val_loss: 0.1417\n",
            "Epoch 154/200\n",
            "4/4 - 0s - loss: 0.1265 - val_loss: 0.1403\n",
            "Epoch 155/200\n",
            "4/4 - 0s - loss: 0.1264 - val_loss: 0.1401\n",
            "Epoch 156/200\n",
            "4/4 - 0s - loss: 0.1263 - val_loss: 0.1409\n",
            "Epoch 157/200\n",
            "4/4 - 0s - loss: 0.1264 - val_loss: 0.1414\n",
            "Epoch 158/200\n",
            "4/4 - 0s - loss: 0.1264 - val_loss: 0.1406\n",
            "Epoch 159/200\n",
            "4/4 - 0s - loss: 0.1263 - val_loss: 0.1410\n",
            "Epoch 160/200\n",
            "4/4 - 0s - loss: 0.1263 - val_loss: 0.1416\n",
            "Epoch 161/200\n",
            "4/4 - 0s - loss: 0.1263 - val_loss: 0.1405\n",
            "Epoch 162/200\n",
            "4/4 - 0s - loss: 0.1262 - val_loss: 0.1390\n",
            "Epoch 163/200\n",
            "4/4 - 0s - loss: 0.1261 - val_loss: 0.1391\n",
            "Epoch 164/200\n",
            "4/4 - 0s - loss: 0.1261 - val_loss: 0.1402\n",
            "Epoch 165/200\n",
            "4/4 - 0s - loss: 0.1262 - val_loss: 0.1413\n",
            "Epoch 166/200\n",
            "4/4 - 0s - loss: 0.1262 - val_loss: 0.1404\n",
            "Epoch 167/200\n",
            "4/4 - 0s - loss: 0.1261 - val_loss: 0.1391\n",
            "Epoch 168/200\n",
            "4/4 - 0s - loss: 0.1260 - val_loss: 0.1393\n",
            "Epoch 169/200\n",
            "4/4 - 0s - loss: 0.1260 - val_loss: 0.1406\n",
            "Epoch 170/200\n",
            "4/4 - 0s - loss: 0.1261 - val_loss: 0.1417\n",
            "Epoch 171/200\n",
            "4/4 - 0s - loss: 0.1261 - val_loss: 0.1406\n",
            "Epoch 172/200\n",
            "4/4 - 0s - loss: 0.1260 - val_loss: 0.1388\n",
            "Epoch 173/200\n",
            "4/4 - 0s - loss: 0.1259 - val_loss: 0.1391\n",
            "Epoch 174/200\n",
            "4/4 - 0s - loss: 0.1259 - val_loss: 0.1406\n",
            "Epoch 175/200\n",
            "4/4 - 0s - loss: 0.1260 - val_loss: 0.1416\n",
            "Epoch 176/200\n",
            "4/4 - 0s - loss: 0.1260 - val_loss: 0.1404\n",
            "Epoch 177/200\n",
            "4/4 - 0s - loss: 0.1259 - val_loss: 0.1386\n",
            "Epoch 178/200\n",
            "4/4 - 0s - loss: 0.1258 - val_loss: 0.1388\n",
            "Epoch 179/200\n",
            "4/4 - 0s - loss: 0.1258 - val_loss: 0.1403\n",
            "Epoch 180/200\n",
            "4/4 - 0s - loss: 0.1259 - val_loss: 0.1413\n",
            "Epoch 181/200\n",
            "4/4 - 0s - loss: 0.1259 - val_loss: 0.1401\n",
            "Epoch 182/200\n",
            "4/4 - 0s - loss: 0.1257 - val_loss: 0.1388\n",
            "Epoch 183/200\n",
            "4/4 - 0s - loss: 0.1257 - val_loss: 0.1396\n",
            "Epoch 184/200\n",
            "4/4 - 0s - loss: 0.1257 - val_loss: 0.1407\n",
            "Epoch 185/200\n",
            "4/4 - 0s - loss: 0.1257 - val_loss: 0.1404\n",
            "Epoch 186/200\n",
            "4/4 - 0s - loss: 0.1257 - val_loss: 0.1410\n",
            "Epoch 187/200\n",
            "4/4 - 0s - loss: 0.1257 - val_loss: 0.1414\n",
            "Epoch 188/200\n",
            "4/4 - 0s - loss: 0.1257 - val_loss: 0.1406\n",
            "Epoch 189/200\n",
            "4/4 - 0s - loss: 0.1256 - val_loss: 0.1409\n",
            "Epoch 190/200\n",
            "4/4 - 0s - loss: 0.1257 - val_loss: 0.1411\n",
            "Epoch 191/200\n",
            "4/4 - 0s - loss: 0.1256 - val_loss: 0.1405\n",
            "Epoch 192/200\n",
            "4/4 - 0s - loss: 0.1256 - val_loss: 0.1407\n",
            "Epoch 193/200\n",
            "4/4 - 0s - loss: 0.1255 - val_loss: 0.1403\n",
            "Epoch 194/200\n",
            "4/4 - 0s - loss: 0.1255 - val_loss: 0.1409\n",
            "Epoch 195/200\n",
            "4/4 - 0s - loss: 0.1255 - val_loss: 0.1408\n",
            "Epoch 196/200\n",
            "4/4 - 0s - loss: 0.1255 - val_loss: 0.1410\n",
            "Epoch 197/200\n",
            "4/4 - 0s - loss: 0.1255 - val_loss: 0.1403\n",
            "Epoch 198/200\n",
            "4/4 - 0s - loss: 0.1254 - val_loss: 0.1408\n",
            "Epoch 199/200\n",
            "4/4 - 0s - loss: 0.1254 - val_loss: 0.1409\n",
            "Epoch 200/200\n",
            "4/4 - 0s - loss: 0.1254 - val_loss: 0.1416\n"
          ],
          "name": "stdout"
        }
      ]
    },
    {
      "cell_type": "code",
      "metadata": {
        "colab": {
          "base_uri": "https://localhost:8080/",
          "height": 267
        },
        "id": "wqeHch9kyQFJ",
        "outputId": "9b62ccb6-ea5f-4611-c341-8c75c8cce1eb"
      },
      "source": [
        "# plot history\n",
        "plt.plot(history.history['loss'], label='train')\n",
        "plt.plot(history.history['val_loss'], label='test')\n",
        "plt.legend()\n",
        "plt.show()"
      ],
      "execution_count": 56,
      "outputs": [
        {
          "output_type": "display_data",
          "data": {
            "image/png": "[encoded data removed]",
            "text/plain": [
              "<Figure size 432x288 with 1 Axes>"
            ]
          },
          "metadata": {
            "tags": [],
            "needs_background": "light"
          }
        }
      ]
    },
    {
      "cell_type": "markdown",
      "metadata": {
        "id": "gX1VImIbj8zi"
      },
      "source": [
        "### Testing feature selected data"
      ]
    },
    {
      "cell_type": "code",
      "metadata": {
        "colab": {
          "base_uri": "https://localhost:8080/"
        },
        "id": "DaqF9091jzf0",
        "outputId": "d7203578-0c55-4ab0-90ad-6d40f3d52bbf"
      },
      "source": [
        "import math\n",
        "\n",
        "# make a prediction\n",
        "yhat = model.predict(test_X)\n",
        "test_X1 = test_X.reshape((test_X.shape[0], test_X.shape[2]))\n",
        "# invert scaling for forecast\n",
        "inv_yhat = concatenate((yhat, test_X1[:, 1:]), axis=1)\n",
        "print(inv_yhat.shape)\n",
        "#inv_yhat = scaler.inverse_transform(inv_yhat)\n",
        "inv_yhat = inv_yhat[:,0]\n",
        "# invert scaling for actual\n",
        "test_y = test_y.reshape((len(test_y), 1))\n",
        "inv_y = concatenate((test_y, test_X1[:, 1:]), axis=1)\n",
        "#inv_y = scaler.inverse_transform(inv_y)\n",
        "inv_y = inv_y[:,0]\n",
        "# calculate RMSE\n",
        "mse = mean_squared_error(inv_y, inv_yhat)\n",
        "print('Test MSE: %.3f' % mse)\n",
        "rmse = math.sqrt(mean_squared_error(inv_y, inv_yhat))\n",
        "print('Test RMSE: %.3f' % rmse)\n",
        "print('median_absolute_error', median_absolute_error(inv_y, inv_yhat))\n",
        "print('mean_absolute_error', mean_absolute_error(inv_y, inv_yhat))"
      ],
      "execution_count": 57,
      "outputs": [
        {
          "output_type": "stream",
          "text": [
            "(59, 13)\n",
            "Test MSE: 0.050\n",
            "Test RMSE: 0.223\n",
            "median_absolute_error 0.095648944\n",
            "mean_absolute_error 0.14162844\n"
          ],
          "name": "stdout"
        }
      ]
    },
    {
      "cell_type": "markdown",
      "metadata": {
        "id": "qBS3h8iqoLCo"
      },
      "source": [
        "# LSTM: Hospitalization and testing Group"
      ]
    },
    {
      "cell_type": "code",
      "metadata": {
        "id": "p7jSrWZRoLDK"
      },
      "source": [
        "X_cols_all = x_col_hospitalization_testing\n",
        "\n",
        "X_cols_feature_selected = ['X..hospital.bed.utilization', 'Testing.capacity','Tests.done.1000.people'\n",
        "                           ,'Date','New cases']\n"
      ],
      "execution_count": 58,
      "outputs": []
    },
    {
      "cell_type": "code",
      "metadata": {
        "colab": {
          "base_uri": "https://localhost:8080/",
          "height": 350
        },
        "id": "DhdOCPSdoLDL",
        "outputId": "c38c3ca7-dfc4-472c-956a-6e161b17062c"
      },
      "source": [
        "LA_combined_data_all = CA_superset_data[CA_superset_data['County Name'] == 'Los Angeles County'][X_cols_all]\n",
        "print(LA_combined_data_all.shape)\n",
        "\n",
        "LA_combined_data_featured = CA_superset_data[CA_superset_data['County Name'] == 'Los Angeles County'][X_cols_feature_selected]\n",
        "print(LA_combined_data_featured.shape)\n",
        "LA_combined_data_all.head(5)"
      ],
      "execution_count": 59,
      "outputs": [
        {
          "output_type": "stream",
          "text": [
            "(292, 9)\n",
            "(292, 5)\n"
          ],
          "name": "stdout"
        },
        {
          "output_type": "execute_result",
          "data": {
            "text/html": [
              "<div>\n",
              "<style scoped>\n",
              "    .dataframe tbody tr th:only-of-type {\n",
              "        vertical-align: middle;\n",
              "    }\n",
              "\n",
              "    .dataframe tbody tr th {\n",
              "        vertical-align: top;\n",
              "    }\n",
              "\n",
              "    .dataframe thead th {\n",
              "        text-align: right;\n",
              "    }\n",
              "</style>\n",
              "<table border=\"1\" class=\"dataframe\">\n",
              "  <thead>\n",
              "    <tr style=\"text-align: right;\">\n",
              "      <th></th>\n",
              "      <th>Hospital.beds.1000.people</th>\n",
              "      <th>ICUs.1000.people</th>\n",
              "      <th>X..hospital.bed.utilization</th>\n",
              "      <th>Testing.capacity</th>\n",
              "      <th>Tests.done.1000.people</th>\n",
              "      <th>X..ICU.utilization</th>\n",
              "      <th>Ventilator.shortage</th>\n",
              "      <th>Date</th>\n",
              "      <th>New cases</th>\n",
              "    </tr>\n",
              "  </thead>\n",
              "  <tbody>\n",
              "    <tr>\n",
              "      <th>4804</th>\n",
              "      <td>2.0500</td>\n",
              "      <td>0.2200</td>\n",
              "      <td>54.0000</td>\n",
              "      <td>0.0000</td>\n",
              "      <td>0.0000</td>\n",
              "      <td>0.0000</td>\n",
              "      <td>0</td>\n",
              "      <td>2020-03-01</td>\n",
              "      <td>0</td>\n",
              "    </tr>\n",
              "    <tr>\n",
              "      <th>4805</th>\n",
              "      <td>2.0500</td>\n",
              "      <td>0.2200</td>\n",
              "      <td>54.0000</td>\n",
              "      <td>0.0000</td>\n",
              "      <td>0.0000</td>\n",
              "      <td>0.0000</td>\n",
              "      <td>0</td>\n",
              "      <td>2020-03-02</td>\n",
              "      <td>0</td>\n",
              "    </tr>\n",
              "    <tr>\n",
              "      <th>4806</th>\n",
              "      <td>2.0500</td>\n",
              "      <td>0.2200</td>\n",
              "      <td>54.0000</td>\n",
              "      <td>0.0000</td>\n",
              "      <td>0.0000</td>\n",
              "      <td>0.0000</td>\n",
              "      <td>0</td>\n",
              "      <td>2020-03-03</td>\n",
              "      <td>0</td>\n",
              "    </tr>\n",
              "    <tr>\n",
              "      <th>4807</th>\n",
              "      <td>2.0500</td>\n",
              "      <td>0.2200</td>\n",
              "      <td>54.0000</td>\n",
              "      <td>10.3000</td>\n",
              "      <td>0.0100</td>\n",
              "      <td>0.0000</td>\n",
              "      <td>0</td>\n",
              "      <td>2020-03-04</td>\n",
              "      <td>6</td>\n",
              "    </tr>\n",
              "    <tr>\n",
              "      <th>4808</th>\n",
              "      <td>2.0500</td>\n",
              "      <td>0.2200</td>\n",
              "      <td>54.0000</td>\n",
              "      <td>10.3000</td>\n",
              "      <td>0.0100</td>\n",
              "      <td>0.0000</td>\n",
              "      <td>0</td>\n",
              "      <td>2020-03-05</td>\n",
              "      <td>4</td>\n",
              "    </tr>\n",
              "  </tbody>\n",
              "</table>\n",
              "</div>"
            ],
            "text/plain": [
              "      Hospital.beds.1000.people  ICUs.1000.people  ...        Date  New cases\n",
              "4804                     2.0500            0.2200  ...  2020-03-01          0\n",
              "4805                     2.0500            0.2200  ...  2020-03-02          0\n",
              "4806                     2.0500            0.2200  ...  2020-03-03          0\n",
              "4807                     2.0500            0.2200  ...  2020-03-04          6\n",
              "4808                     2.0500            0.2200  ...  2020-03-05          4\n",
              "\n",
              "[5 rows x 9 columns]"
            ]
          },
          "metadata": {
            "tags": []
          },
          "execution_count": 59
        }
      ]
    },
    {
      "cell_type": "code",
      "metadata": {
        "id": "asEGY01coLDM"
      },
      "source": [
        "from datetime import datetime\n",
        "# load data\n",
        "def parse(x):\n",
        "\treturn datetime.strptime(x, '%Y-%m-%d')\n",
        " \n",
        "def datetime_to_float(d):\n",
        "    date_time_obj = datetime.strptime(d, '%Y-%m-%d')\n",
        "    return date_time_obj.timestamp()"
      ],
      "execution_count": 60,
      "outputs": []
    },
    {
      "cell_type": "code",
      "metadata": {
        "colab": {
          "base_uri": "https://localhost:8080/"
        },
        "id": "N4OpSZAkoLDN",
        "outputId": "ad327312-ca36-4fcb-fb38-0050076e4058"
      },
      "source": [
        "len(LA_combined_data_featured.columns)"
      ],
      "execution_count": 61,
      "outputs": [
        {
          "output_type": "execute_result",
          "data": {
            "text/plain": [
              "5"
            ]
          },
          "metadata": {
            "tags": []
          },
          "execution_count": 61
        }
      ]
    },
    {
      "cell_type": "code",
      "metadata": {
        "colab": {
          "base_uri": "https://localhost:8080/",
          "height": 196
        },
        "id": "e0kDd3GUoLDN",
        "outputId": "c9e65aec-dd27-4769-d309-153b4408d2d0"
      },
      "source": [
        "LA_combined_data_featured['Date'] = LA_combined_data_featured['Date'].apply(lambda x: datetime_to_float(x))\n",
        "LA_combined_data_all['Date'] = LA_combined_data_all['Date'].apply(lambda x: datetime_to_float(x))\n",
        "\n",
        "#Harris_combined_data.index.name = 'Date'\n",
        "LA_combined_data_featured.head()"
      ],
      "execution_count": 62,
      "outputs": [
        {
          "output_type": "execute_result",
          "data": {
            "text/html": [
              "<div>\n",
              "<style scoped>\n",
              "    .dataframe tbody tr th:only-of-type {\n",
              "        vertical-align: middle;\n",
              "    }\n",
              "\n",
              "    .dataframe tbody tr th {\n",
              "        vertical-align: top;\n",
              "    }\n",
              "\n",
              "    .dataframe thead th {\n",
              "        text-align: right;\n",
              "    }\n",
              "</style>\n",
              "<table border=\"1\" class=\"dataframe\">\n",
              "  <thead>\n",
              "    <tr style=\"text-align: right;\">\n",
              "      <th></th>\n",
              "      <th>X..hospital.bed.utilization</th>\n",
              "      <th>Testing.capacity</th>\n",
              "      <th>Tests.done.1000.people</th>\n",
              "      <th>Date</th>\n",
              "      <th>New cases</th>\n",
              "    </tr>\n",
              "  </thead>\n",
              "  <tbody>\n",
              "    <tr>\n",
              "      <th>4804</th>\n",
              "      <td>54.0000</td>\n",
              "      <td>0.0000</td>\n",
              "      <td>0.0000</td>\n",
              "      <td>1583020800.0000</td>\n",
              "      <td>0</td>\n",
              "    </tr>\n",
              "    <tr>\n",
              "      <th>4805</th>\n",
              "      <td>54.0000</td>\n",
              "      <td>0.0000</td>\n",
              "      <td>0.0000</td>\n",
              "      <td>1583107200.0000</td>\n",
              "      <td>0</td>\n",
              "    </tr>\n",
              "    <tr>\n",
              "      <th>4806</th>\n",
              "      <td>54.0000</td>\n",
              "      <td>0.0000</td>\n",
              "      <td>0.0000</td>\n",
              "      <td>1583193600.0000</td>\n",
              "      <td>0</td>\n",
              "    </tr>\n",
              "    <tr>\n",
              "      <th>4807</th>\n",
              "      <td>54.0000</td>\n",
              "      <td>10.3000</td>\n",
              "      <td>0.0100</td>\n",
              "      <td>1583280000.0000</td>\n",
              "      <td>6</td>\n",
              "    </tr>\n",
              "    <tr>\n",
              "      <th>4808</th>\n",
              "      <td>54.0000</td>\n",
              "      <td>10.3000</td>\n",
              "      <td>0.0100</td>\n",
              "      <td>1583366400.0000</td>\n",
              "      <td>4</td>\n",
              "    </tr>\n",
              "  </tbody>\n",
              "</table>\n",
              "</div>"
            ],
            "text/plain": [
              "      X..hospital.bed.utilization  Testing.capacity  ...            Date  New cases\n",
              "4804                      54.0000            0.0000  ... 1583020800.0000          0\n",
              "4805                      54.0000            0.0000  ... 1583107200.0000          0\n",
              "4806                      54.0000            0.0000  ... 1583193600.0000          0\n",
              "4807                      54.0000           10.3000  ... 1583280000.0000          6\n",
              "4808                      54.0000           10.3000  ... 1583366400.0000          4\n",
              "\n",
              "[5 rows x 5 columns]"
            ]
          },
          "metadata": {
            "tags": []
          },
          "execution_count": 62
        }
      ]
    },
    {
      "cell_type": "code",
      "metadata": {
        "colab": {
          "base_uri": "https://localhost:8080/"
        },
        "id": "eQvpzYsaoLDO",
        "outputId": "64677867-d437-49da-d476-b389aa040f84"
      },
      "source": [
        "print(len(LA_combined_data_featured.columns))\n",
        "LA_combined_data_featured.dtypes"
      ],
      "execution_count": 63,
      "outputs": [
        {
          "output_type": "stream",
          "text": [
            "5\n"
          ],
          "name": "stdout"
        },
        {
          "output_type": "execute_result",
          "data": {
            "text/plain": [
              "X..hospital.bed.utilization    float64\n",
              "Testing.capacity               float64\n",
              "Tests.done.1000.people         float64\n",
              "Date                           float64\n",
              "New cases                        int64\n",
              "dtype: object"
            ]
          },
          "metadata": {
            "tags": []
          },
          "execution_count": 63
        }
      ]
    },
    {
      "cell_type": "markdown",
      "metadata": {
        "id": "MfKXE4UIoLDO"
      },
      "source": [
        "## Preprocessing data for LSTM"
      ]
    },
    {
      "cell_type": "code",
      "metadata": {
        "id": "i6Mkz4kwoLDP"
      },
      "source": [
        "LA_combined_data_all_selected = LA_combined_data_all[X_cols_all]\n",
        "LA_combined_data_featured_selected = LA_combined_data_featured[X_cols_feature_selected]"
      ],
      "execution_count": 64,
      "outputs": []
    },
    {
      "cell_type": "code",
      "metadata": {
        "id": "XTuDJAzFoLDP"
      },
      "source": [
        "\n",
        "# prepare data for lstm\n",
        "from pandas import read_csv\n",
        "from pandas import DataFrame\n",
        "from pandas import concat\n",
        "from sklearn.preprocessing import LabelEncoder\n",
        "from sklearn.preprocessing import MinMaxScaler\n",
        " \n",
        "# convert series to supervised learning\n",
        "def series_to_supervised(data, n_in=1, n_out=1, dropnan=True):\n",
        "\tn_vars = 1 if type(data) is list else data.shape[1]\n",
        "\tdf = DataFrame(data)\n",
        "\tcols, names = list(), list()\n",
        "\t# input sequence (t-n, ... t-1)\n",
        "\tfor i in range(n_in, 0, -1):\n",
        "\t\tcols.append(df.shift(i))\n",
        "\t\tnames += [('var%d(t-%d)' % (j+1, i)) for j in range(n_vars)]\n",
        "\t# forecast sequence (t, t+1, ... t+n)\n",
        "\tfor i in range(0, n_out):\n",
        "\t\tcols.append(df.shift(-i))\n",
        "\t\tif i == 0:\n",
        "\t\t\tnames += [('var%d(t)' % (j+1)) for j in range(n_vars)]\n",
        "\t\telse:\n",
        "\t\t\tnames += [('var%d(t+%d)' % (j+1, i)) for j in range(n_vars)]\n",
        "\t# put it all together\n",
        "\tagg = concat(cols, axis=1)\n",
        "\tagg.columns = names\n",
        "\t# drop rows with NaN values\n",
        "\tif dropnan:\n",
        "\t\tagg.dropna(inplace=True)\n",
        "\treturn agg"
      ],
      "execution_count": 65,
      "outputs": []
    },
    {
      "cell_type": "markdown",
      "metadata": {
        "id": "WR7ppBNCoLDQ"
      },
      "source": [
        "## All values for CA training data"
      ]
    },
    {
      "cell_type": "code",
      "metadata": {
        "colab": {
          "base_uri": "https://localhost:8080/"
        },
        "id": "a7BZI3hDoLDQ",
        "outputId": "23cb9e66-724b-4488-e420-0832f75b7d7a"
      },
      "source": [
        "values = LA_combined_data_all_selected.values\n",
        "# integer encode direction\n",
        "encoder = LabelEncoder()\n",
        "values[:,len(X_cols_all)-1] = encoder.fit_transform(values[:,len(X_cols_all)-1])\n",
        "# ensure all data is float\n",
        "values = values.astype('float32')\n",
        "# normalize features\n",
        "scaler = MinMaxScaler(feature_range=(0, 1))\n",
        "scaled = scaler.fit_transform(values)\n",
        "# frame as supervised learning\n",
        "reframed = series_to_supervised(scaled, 1, 1)\n",
        "# drop columns we don't want to predict\n",
        "#reframed.drop(reframed.columns[[9,10,11,12,13,14,15]], axis=1, inplace=True)\n",
        "print(reframed.head())"
      ],
      "execution_count": 66,
      "outputs": [
        {
          "output_type": "stream",
          "text": [
            "   var1(t-1)  var2(t-1)  var3(t-1)  ...  var7(t)  var8(t)  var9(t)\n",
            "1     0.0000     0.0000     0.0000  ...   0.0000   0.0033   0.0000\n",
            "2     0.0000     0.0000     0.0000  ...   0.0000   0.0066   0.0000\n",
            "3     0.0000     0.0000     0.0000  ...   0.0000   0.0099   0.0186\n",
            "4     0.0000     0.0000     0.0000  ...   0.0000   0.0132   0.0112\n",
            "5     0.0000     0.0000     0.0000  ...   0.0003   0.0166   0.0074\n",
            "\n",
            "[5 rows x 18 columns]\n"
          ],
          "name": "stdout"
        }
      ]
    },
    {
      "cell_type": "markdown",
      "metadata": {
        "id": "c2h1QolXoLDQ"
      },
      "source": [
        "## Train Test Split"
      ]
    },
    {
      "cell_type": "code",
      "metadata": {
        "colab": {
          "base_uri": "https://localhost:8080/"
        },
        "id": "aWxCEFMRoLDR",
        "outputId": "46f1fc25-95a6-49a1-f4dd-aa644394d13d"
      },
      "source": [
        "values.shape[0]"
      ],
      "execution_count": 67,
      "outputs": [
        {
          "output_type": "execute_result",
          "data": {
            "text/plain": [
              "292"
            ]
          },
          "metadata": {
            "tags": []
          },
          "execution_count": 67
        }
      ]
    },
    {
      "cell_type": "code",
      "metadata": {
        "colab": {
          "base_uri": "https://localhost:8080/"
        },
        "id": "WZf3ra56oLDR",
        "outputId": "dd4a7878-a913-4902-8a44-746e0edeef3a"
      },
      "source": [
        "\n",
        "# split into train and test sets\n",
        "values = reframed.values\n",
        "rows_count = values.shape[0]\n",
        "# split the 1/5 value\n",
        "train_split = rows_count//5\n",
        "\n",
        "n_train_hours = train_split * 4\n",
        "\n",
        "print(n_train_hours)\n",
        "print('values shape ',values.shape)\n",
        "train = values[:n_train_hours, :]\n",
        "test = values[n_train_hours:, :]\n",
        "# split into input and outputs\n",
        "train_X, train_y = train[:, :-1], train[:, -1]\n",
        "test_X, test_y = test[:, :-1], test[:, -1]\n",
        "# reshape input to be 3D [samples, timesteps, features]\n",
        "train_X = train_X.reshape((train_X.shape[0], 1, train_X.shape[1]))\n",
        "test_X = test_X.reshape((test_X.shape[0], 1, test_X.shape[1]))\n",
        "print(train_X.shape, train_y.shape, test_X.shape, test_y.shape)"
      ],
      "execution_count": 68,
      "outputs": [
        {
          "output_type": "stream",
          "text": [
            "232\n",
            "values shape  (291, 18)\n",
            "(232, 1, 17) (232,) (59, 1, 17) (59,)\n"
          ],
          "name": "stdout"
        }
      ]
    },
    {
      "cell_type": "markdown",
      "metadata": {
        "id": "EO9fFm4ooLDS"
      },
      "source": [
        "## Training LSTM"
      ]
    },
    {
      "cell_type": "code",
      "metadata": {
        "colab": {
          "base_uri": "https://localhost:8080/",
          "height": 1000
        },
        "id": "VjJTXtDfoLDS",
        "outputId": "82943bd6-e8ae-4cf5-f136-e9e034fbfc75"
      },
      "source": [
        "...\n",
        "# design network\n",
        "model = Sequential()\n",
        "model.add(LSTM(50, input_shape=(train_X.shape[1], train_X.shape[2])))\n",
        "model.add(Dense(1))\n",
        "model.compile(loss='mae', optimizer='adam')\n",
        "# fit network\n",
        "history = model.fit(train_X, train_y, epochs=100, batch_size=72, validation_data=(test_X, test_y), verbose=2, shuffle=False)\n",
        "# plot history\n",
        "plt.plot(history.history['loss'], label='train')\n",
        "plt.plot(history.history['val_loss'], label='test')\n",
        "plt.legend()\n",
        "plt.show()"
      ],
      "execution_count": 69,
      "outputs": [
        {
          "output_type": "stream",
          "text": [
            "Epoch 1/100\n",
            "4/4 - 2s - loss: 0.3903 - val_loss: 0.7000\n",
            "Epoch 2/100\n",
            "4/4 - 0s - loss: 0.3448 - val_loss: 0.6231\n",
            "Epoch 3/100\n",
            "4/4 - 0s - loss: 0.3046 - val_loss: 0.5490\n",
            "Epoch 4/100\n",
            "4/4 - 0s - loss: 0.2672 - val_loss: 0.4749\n",
            "Epoch 5/100\n",
            "4/4 - 0s - loss: 0.2358 - val_loss: 0.4031\n",
            "Epoch 6/100\n",
            "4/4 - 0s - loss: 0.2128 - val_loss: 0.3378\n",
            "Epoch 7/100\n",
            "4/4 - 0s - loss: 0.1968 - val_loss: 0.2812\n",
            "Epoch 8/100\n",
            "4/4 - 0s - loss: 0.1869 - val_loss: 0.2370\n",
            "Epoch 9/100\n",
            "4/4 - 0s - loss: 0.1805 - val_loss: 0.2095\n",
            "Epoch 10/100\n",
            "4/4 - 0s - loss: 0.1769 - val_loss: 0.1982\n",
            "Epoch 11/100\n",
            "4/4 - 0s - loss: 0.1742 - val_loss: 0.1930\n",
            "Epoch 12/100\n",
            "4/4 - 0s - loss: 0.1719 - val_loss: 0.1922\n",
            "Epoch 13/100\n",
            "4/4 - 0s - loss: 0.1698 - val_loss: 0.1946\n",
            "Epoch 14/100\n",
            "4/4 - 0s - loss: 0.1678 - val_loss: 0.1992\n",
            "Epoch 15/100\n",
            "4/4 - 0s - loss: 0.1660 - val_loss: 0.2044\n",
            "Epoch 16/100\n",
            "4/4 - 0s - loss: 0.1643 - val_loss: 0.2087\n",
            "Epoch 17/100\n",
            "4/4 - 0s - loss: 0.1625 - val_loss: 0.2112\n",
            "Epoch 18/100\n",
            "4/4 - 0s - loss: 0.1606 - val_loss: 0.2124\n",
            "Epoch 19/100\n",
            "4/4 - 0s - loss: 0.1586 - val_loss: 0.2130\n",
            "Epoch 20/100\n",
            "4/4 - 0s - loss: 0.1566 - val_loss: 0.2135\n",
            "Epoch 21/100\n",
            "4/4 - 0s - loss: 0.1545 - val_loss: 0.2138\n",
            "Epoch 22/100\n",
            "4/4 - 0s - loss: 0.1525 - val_loss: 0.2147\n",
            "Epoch 23/100\n",
            "4/4 - 0s - loss: 0.1506 - val_loss: 0.2157\n",
            "Epoch 24/100\n",
            "4/4 - 0s - loss: 0.1487 - val_loss: 0.2167\n",
            "Epoch 25/100\n",
            "4/4 - 0s - loss: 0.1467 - val_loss: 0.2176\n",
            "Epoch 26/100\n",
            "4/4 - 0s - loss: 0.1446 - val_loss: 0.2184\n",
            "Epoch 27/100\n",
            "4/4 - 0s - loss: 0.1425 - val_loss: 0.2194\n",
            "Epoch 28/100\n",
            "4/4 - 0s - loss: 0.1406 - val_loss: 0.2203\n",
            "Epoch 29/100\n",
            "4/4 - 0s - loss: 0.1387 - val_loss: 0.2214\n",
            "Epoch 30/100\n",
            "4/4 - 0s - loss: 0.1370 - val_loss: 0.2228\n",
            "Epoch 31/100\n",
            "4/4 - 0s - loss: 0.1355 - val_loss: 0.2246\n",
            "Epoch 32/100\n",
            "4/4 - 0s - loss: 0.1343 - val_loss: 0.2266\n",
            "Epoch 33/100\n",
            "4/4 - 0s - loss: 0.1331 - val_loss: 0.2287\n",
            "Epoch 34/100\n",
            "4/4 - 0s - loss: 0.1320 - val_loss: 0.2309\n",
            "Epoch 35/100\n",
            "4/4 - 0s - loss: 0.1310 - val_loss: 0.2331\n",
            "Epoch 36/100\n",
            "4/4 - 0s - loss: 0.1302 - val_loss: 0.2352\n",
            "Epoch 37/100\n",
            "4/4 - 0s - loss: 0.1294 - val_loss: 0.2368\n",
            "Epoch 38/100\n",
            "4/4 - 0s - loss: 0.1288 - val_loss: 0.2374\n",
            "Epoch 39/100\n",
            "4/4 - 0s - loss: 0.1281 - val_loss: 0.2376\n",
            "Epoch 40/100\n",
            "4/4 - 0s - loss: 0.1274 - val_loss: 0.2378\n",
            "Epoch 41/100\n",
            "4/4 - 0s - loss: 0.1269 - val_loss: 0.2382\n",
            "Epoch 42/100\n",
            "4/4 - 0s - loss: 0.1265 - val_loss: 0.2391\n",
            "Epoch 43/100\n",
            "4/4 - 0s - loss: 0.1262 - val_loss: 0.2399\n",
            "Epoch 44/100\n",
            "4/4 - 0s - loss: 0.1259 - val_loss: 0.2403\n",
            "Epoch 45/100\n",
            "4/4 - 0s - loss: 0.1257 - val_loss: 0.2402\n",
            "Epoch 46/100\n",
            "4/4 - 0s - loss: 0.1254 - val_loss: 0.2399\n",
            "Epoch 47/100\n",
            "4/4 - 0s - loss: 0.1252 - val_loss: 0.2394\n",
            "Epoch 48/100\n",
            "4/4 - 0s - loss: 0.1249 - val_loss: 0.2389\n",
            "Epoch 49/100\n",
            "4/4 - 0s - loss: 0.1246 - val_loss: 0.2383\n",
            "Epoch 50/100\n",
            "4/4 - 0s - loss: 0.1244 - val_loss: 0.2378\n",
            "Epoch 51/100\n",
            "4/4 - 0s - loss: 0.1242 - val_loss: 0.2374\n",
            "Epoch 52/100\n",
            "4/4 - 0s - loss: 0.1240 - val_loss: 0.2370\n",
            "Epoch 53/100\n",
            "4/4 - 0s - loss: 0.1237 - val_loss: 0.2367\n",
            "Epoch 54/100\n",
            "4/4 - 0s - loss: 0.1235 - val_loss: 0.2364\n",
            "Epoch 55/100\n",
            "4/4 - 0s - loss: 0.1233 - val_loss: 0.2361\n",
            "Epoch 56/100\n",
            "4/4 - 0s - loss: 0.1231 - val_loss: 0.2357\n",
            "Epoch 57/100\n",
            "4/4 - 0s - loss: 0.1228 - val_loss: 0.2354\n",
            "Epoch 58/100\n",
            "4/4 - 0s - loss: 0.1226 - val_loss: 0.2351\n",
            "Epoch 59/100\n",
            "4/4 - 0s - loss: 0.1224 - val_loss: 0.2346\n",
            "Epoch 60/100\n",
            "4/4 - 0s - loss: 0.1222 - val_loss: 0.2341\n",
            "Epoch 61/100\n",
            "4/4 - 0s - loss: 0.1219 - val_loss: 0.2335\n",
            "Epoch 62/100\n",
            "4/4 - 0s - loss: 0.1217 - val_loss: 0.2330\n",
            "Epoch 63/100\n",
            "4/4 - 0s - loss: 0.1215 - val_loss: 0.2322\n",
            "Epoch 64/100\n",
            "4/4 - 0s - loss: 0.1213 - val_loss: 0.2306\n",
            "Epoch 65/100\n",
            "4/4 - 0s - loss: 0.1211 - val_loss: 0.2295\n",
            "Epoch 66/100\n",
            "4/4 - 0s - loss: 0.1209 - val_loss: 0.2288\n",
            "Epoch 67/100\n",
            "4/4 - 0s - loss: 0.1207 - val_loss: 0.2281\n",
            "Epoch 68/100\n",
            "4/4 - 0s - loss: 0.1205 - val_loss: 0.2275\n",
            "Epoch 69/100\n",
            "4/4 - 0s - loss: 0.1203 - val_loss: 0.2268\n",
            "Epoch 70/100\n",
            "4/4 - 0s - loss: 0.1201 - val_loss: 0.2262\n",
            "Epoch 71/100\n",
            "4/4 - 0s - loss: 0.1199 - val_loss: 0.2252\n",
            "Epoch 72/100\n",
            "4/4 - 0s - loss: 0.1197 - val_loss: 0.2233\n",
            "Epoch 73/100\n",
            "4/4 - 0s - loss: 0.1195 - val_loss: 0.2219\n",
            "Epoch 74/100\n",
            "4/4 - 0s - loss: 0.1192 - val_loss: 0.2210\n",
            "Epoch 75/100\n",
            "4/4 - 0s - loss: 0.1190 - val_loss: 0.2204\n",
            "Epoch 76/100\n",
            "4/4 - 0s - loss: 0.1188 - val_loss: 0.2198\n",
            "Epoch 77/100\n",
            "4/4 - 0s - loss: 0.1186 - val_loss: 0.2192\n",
            "Epoch 78/100\n",
            "4/4 - 0s - loss: 0.1183 - val_loss: 0.2185\n",
            "Epoch 79/100\n",
            "4/4 - 0s - loss: 0.1181 - val_loss: 0.2177\n",
            "Epoch 80/100\n",
            "4/4 - 0s - loss: 0.1179 - val_loss: 0.2165\n",
            "Epoch 81/100\n",
            "4/4 - 0s - loss: 0.1177 - val_loss: 0.2147\n",
            "Epoch 82/100\n",
            "4/4 - 0s - loss: 0.1175 - val_loss: 0.2137\n",
            "Epoch 83/100\n",
            "4/4 - 0s - loss: 0.1173 - val_loss: 0.2131\n",
            "Epoch 84/100\n",
            "4/4 - 0s - loss: 0.1170 - val_loss: 0.2124\n",
            "Epoch 85/100\n",
            "4/4 - 0s - loss: 0.1168 - val_loss: 0.2104\n",
            "Epoch 86/100\n",
            "4/4 - 0s - loss: 0.1167 - val_loss: 0.2081\n",
            "Epoch 87/100\n",
            "4/4 - 0s - loss: 0.1165 - val_loss: 0.2071\n",
            "Epoch 88/100\n",
            "4/4 - 0s - loss: 0.1162 - val_loss: 0.2071\n",
            "Epoch 89/100\n",
            "4/4 - 0s - loss: 0.1160 - val_loss: 0.2068\n",
            "Epoch 90/100\n",
            "4/4 - 0s - loss: 0.1159 - val_loss: 0.2048\n",
            "Epoch 91/100\n",
            "4/4 - 0s - loss: 0.1157 - val_loss: 0.2031\n",
            "Epoch 92/100\n",
            "4/4 - 0s - loss: 0.1156 - val_loss: 0.2033\n",
            "Epoch 93/100\n",
            "4/4 - 0s - loss: 0.1154 - val_loss: 0.2040\n",
            "Epoch 94/100\n",
            "4/4 - 0s - loss: 0.1152 - val_loss: 0.2023\n",
            "Epoch 95/100\n",
            "4/4 - 0s - loss: 0.1151 - val_loss: 0.2007\n",
            "Epoch 96/100\n",
            "4/4 - 0s - loss: 0.1149 - val_loss: 0.2004\n",
            "Epoch 97/100\n",
            "4/4 - 0s - loss: 0.1148 - val_loss: 0.1995\n",
            "Epoch 98/100\n",
            "4/4 - 0s - loss: 0.1146 - val_loss: 0.1990\n",
            "Epoch 99/100\n",
            "4/4 - 0s - loss: 0.1145 - val_loss: 0.1974\n",
            "Epoch 100/100\n",
            "4/4 - 0s - loss: 0.1143 - val_loss: 0.1976\n"
          ],
          "name": "stdout"
        },
        {
          "output_type": "display_data",
          "data": {
            "image/png": "[encoded data removed]",
            "text/plain": [
              "<Figure size 432x288 with 1 Axes>"
            ]
          },
          "metadata": {
            "tags": [],
            "needs_background": "light"
          }
        }
      ]
    },
    {
      "cell_type": "markdown",
      "metadata": {
        "id": "NCg1x6sfoLDS"
      },
      "source": [
        "## Test"
      ]
    },
    {
      "cell_type": "code",
      "metadata": {
        "colab": {
          "base_uri": "https://localhost:8080/"
        },
        "id": "2U_9xR5CoLDS",
        "outputId": "1c5e113f-a047-40df-cbac-406789829611"
      },
      "source": [
        "import math\n",
        "\n",
        "# make a prediction\n",
        "yhat = model.predict(test_X)\n",
        "test_X1 = test_X.reshape((test_X.shape[0], test_X.shape[2]))\n",
        "# invert scaling for forecast\n",
        "inv_yhat = concatenate((yhat, test_X1[:, 1:]), axis=1)\n",
        "print(inv_yhat.shape)\n",
        "#inv_yhat = scaler.inverse_transform(inv_yhat)\n",
        "inv_yhat = inv_yhat[:,0]\n",
        "# invert scaling for actual\n",
        "test_y = test_y.reshape((len(test_y), 1))\n",
        "inv_y = concatenate((test_y, test_X1[:, 1:]), axis=1)\n",
        "#inv_y = scaler.inverse_transform(inv_y)\n",
        "inv_y = inv_y[:,0]\n",
        "# calculate RMSE\n",
        "mse = mean_squared_error(inv_y, inv_yhat)\n",
        "print('Test MSE: %.3f' % mse)\n",
        "rmse = math.sqrt(mean_squared_error(inv_y, inv_yhat))\n",
        "print('Test RMSE: %.3f' % rmse)\n",
        "\n",
        "print('median_absolute_error', median_absolute_error(inv_y, inv_yhat))\n",
        "print('mean_absolute_error', mean_absolute_error(inv_y, inv_yhat))"
      ],
      "execution_count": 70,
      "outputs": [
        {
          "output_type": "stream",
          "text": [
            "WARNING:tensorflow:5 out of the last 9 calls to <function Model.make_predict_function.<locals>.predict_function at 0x7fc9216ffb70> triggered tf.function retracing. Tracing is expensive and the excessive number of tracings could be due to (1) creating @tf.function repeatedly in a loop, (2) passing tensors with different shapes, (3) passing Python objects instead of tensors. For (1), please define your @tf.function outside of the loop. For (2), @tf.function has experimental_relax_shapes=True option that relaxes argument shapes that can avoid unnecessary retracing. For (3), please refer to https://www.tensorflow.org/guide/function#controlling_retracing and https://www.tensorflow.org/api_docs/python/tf/function for  more details.\n",
            "(59, 17)\n",
            "Test MSE: 0.062\n",
            "Test RMSE: 0.250\n",
            "median_absolute_error 0.19815564\n",
            "mean_absolute_error 0.1975508\n"
          ],
          "name": "stdout"
        }
      ]
    },
    {
      "cell_type": "markdown",
      "metadata": {
        "id": "yW1ODNyeoLDT"
      },
      "source": [
        "## Preprocessing feature selected data for training"
      ]
    },
    {
      "cell_type": "code",
      "metadata": {
        "colab": {
          "base_uri": "https://localhost:8080/"
        },
        "id": "0NtrO1iVoLDT",
        "outputId": "1a9801ef-810f-490d-dea4-e91312cdfdc5"
      },
      "source": [
        "len(LA_combined_data_featured_selected.columns)"
      ],
      "execution_count": 71,
      "outputs": [
        {
          "output_type": "execute_result",
          "data": {
            "text/plain": [
              "5"
            ]
          },
          "metadata": {
            "tags": []
          },
          "execution_count": 71
        }
      ]
    },
    {
      "cell_type": "code",
      "metadata": {
        "colab": {
          "base_uri": "https://localhost:8080/",
          "height": 228
        },
        "id": "TbLBFNSToLDT",
        "outputId": "0b6e6786-01d6-4a81-dacd-787c94580daa"
      },
      "source": [
        "values = LA_combined_data_featured_selected.values\n",
        "# integer encode direction\n",
        "encoder = LabelEncoder()\n",
        "values[:,6] = encoder.fit_transform(values[:,6])\n",
        "# ensure all data is float\n",
        "values = values.astype('float32')\n",
        "# normalize features\n",
        "scaler = MinMaxScaler(feature_range=(0, 1))\n",
        "scaled = scaler.fit_transform(values)\n",
        "# frame as supervised learning\n",
        "reframed = series_to_supervised(scaled, 1, 1)\n",
        "# drop columns we don't want to predict\n",
        "#reframed.drop(reframed.columns[[9,10,11,12,13,14,15]], axis=1, inplace=True)\n",
        "print(reframed.head())"
      ],
      "execution_count": 72,
      "outputs": [
        {
          "output_type": "error",
          "ename": "IndexError",
          "evalue": "ignored",
          "traceback": [
            "\u001b[0;31m---------------------------------------------------------------------------\u001b[0m",
            "\u001b[0;31mIndexError\u001b[0m                                Traceback (most recent call last)",
            "\u001b[0;32m<ipython-input-72-119737c54a4c>\u001b[0m in \u001b[0;36m<module>\u001b[0;34m()\u001b[0m\n\u001b[1;32m      2\u001b[0m \u001b[0;31m# integer encode direction\u001b[0m\u001b[0;34m\u001b[0m\u001b[0;34m\u001b[0m\u001b[0;34m\u001b[0m\u001b[0m\n\u001b[1;32m      3\u001b[0m \u001b[0mencoder\u001b[0m \u001b[0;34m=\u001b[0m \u001b[0mLabelEncoder\u001b[0m\u001b[0;34m(\u001b[0m\u001b[0;34m)\u001b[0m\u001b[0;34m\u001b[0m\u001b[0;34m\u001b[0m\u001b[0m\n\u001b[0;32m----> 4\u001b[0;31m \u001b[0mvalues\u001b[0m\u001b[0;34m[\u001b[0m\u001b[0;34m:\u001b[0m\u001b[0;34m,\u001b[0m\u001b[0;36m6\u001b[0m\u001b[0;34m]\u001b[0m \u001b[0;34m=\u001b[0m \u001b[0mencoder\u001b[0m\u001b[0;34m.\u001b[0m\u001b[0mfit_transform\u001b[0m\u001b[0;34m(\u001b[0m\u001b[0mvalues\u001b[0m\u001b[0;34m[\u001b[0m\u001b[0;34m:\u001b[0m\u001b[0;34m,\u001b[0m\u001b[0;36m6\u001b[0m\u001b[0;34m]\u001b[0m\u001b[0;34m)\u001b[0m\u001b[0;34m\u001b[0m\u001b[0;34m\u001b[0m\u001b[0m\n\u001b[0m\u001b[1;32m      5\u001b[0m \u001b[0;31m# ensure all data is float\u001b[0m\u001b[0;34m\u001b[0m\u001b[0;34m\u001b[0m\u001b[0;34m\u001b[0m\u001b[0m\n\u001b[1;32m      6\u001b[0m \u001b[0mvalues\u001b[0m \u001b[0;34m=\u001b[0m \u001b[0mvalues\u001b[0m\u001b[0;34m.\u001b[0m\u001b[0mastype\u001b[0m\u001b[0;34m(\u001b[0m\u001b[0;34m'float32'\u001b[0m\u001b[0;34m)\u001b[0m\u001b[0;34m\u001b[0m\u001b[0;34m\u001b[0m\u001b[0m\n",
            "\u001b[0;31mIndexError\u001b[0m: index 6 is out of bounds for axis 1 with size 5"
          ]
        }
      ]
    },
    {
      "cell_type": "markdown",
      "metadata": {
        "id": "7gMESMXuoLDU"
      },
      "source": [
        "### Train Test split"
      ]
    },
    {
      "cell_type": "code",
      "metadata": {
        "id": "h9SEA-t0oLDU"
      },
      "source": [
        "\n",
        "# split into train and test sets\n",
        "values = reframed.values\n",
        "rows_count = values.shape[0]\n",
        "# split the 1/5 value\n",
        "train_split = rows_count//5\n",
        "\n",
        "n_train_hours = train_split * 4\n",
        "\n",
        "print(n_train_hours)\n",
        "print('values shape ',values.shape)\n",
        "train = values[:n_train_hours, :]\n",
        "test = values[n_train_hours:, :]\n",
        "# split into input and outputs\n",
        "train_X, train_y = train[:, :-1], train[:, -1]\n",
        "test_X, test_y = test[:, :-1], test[:, -1]\n",
        "# reshape input to be 3D [samples, timesteps, features]\n",
        "train_X = train_X.reshape((train_X.shape[0], 1, train_X.shape[1]))\n",
        "test_X = test_X.reshape((test_X.shape[0], 1, test_X.shape[1]))\n",
        "print(train_X.shape, train_y.shape, test_X.shape, test_y.shape)"
      ],
      "execution_count": null,
      "outputs": []
    },
    {
      "cell_type": "markdown",
      "metadata": {
        "id": "lgk6bleFoLDU"
      },
      "source": [
        "### Training LSTM for feature selected data"
      ]
    },
    {
      "cell_type": "code",
      "metadata": {
        "id": "PbTb3tMgoLDU"
      },
      "source": [
        "...\n",
        "# design network\n",
        "model = Sequential()\n",
        "model.add(LSTM(50, input_shape=(train_X.shape[1], train_X.shape[2])))\n",
        "model.add(Dense(1))\n",
        "model.compile(loss='mae', optimizer='adam')\n",
        "# fit network\n",
        "history = model.fit(train_X, train_y, epochs=200, batch_size=72, validation_data=(test_X, test_y), verbose=2, shuffle=False)\n"
      ],
      "execution_count": null,
      "outputs": []
    },
    {
      "cell_type": "code",
      "metadata": {
        "id": "71Q3fT-moLDV"
      },
      "source": [
        "# plot history\n",
        "plt.plot(history.history['loss'], label='train')\n",
        "plt.plot(history.history['val_loss'], label='test')\n",
        "plt.legend()\n",
        "plt.show()"
      ],
      "execution_count": null,
      "outputs": []
    },
    {
      "cell_type": "markdown",
      "metadata": {
        "id": "EEbJUGT9oLDV"
      },
      "source": [
        "### Testing feature selected data"
      ]
    },
    {
      "cell_type": "code",
      "metadata": {
        "id": "XUX0Y97foLDV"
      },
      "source": [
        "import math\n",
        "\n",
        "# make a prediction\n",
        "yhat = model.predict(test_X)\n",
        "test_X1 = test_X.reshape((test_X.shape[0], test_X.shape[2]))\n",
        "# invert scaling for forecast\n",
        "inv_yhat = concatenate((yhat, test_X1[:, 1:]), axis=1)\n",
        "print(inv_yhat.shape)\n",
        "#inv_yhat = scaler.inverse_transform(inv_yhat)\n",
        "inv_yhat = inv_yhat[:,0]\n",
        "# invert scaling for actual\n",
        "test_y = test_y.reshape((len(test_y), 1))\n",
        "inv_y = concatenate((test_y, test_X1[:, 1:]), axis=1)\n",
        "#inv_y = scaler.inverse_transform(inv_y)\n",
        "inv_y = inv_y[:,0]\n",
        "# calculate RMSE\n",
        "mse = mean_squared_error(inv_y, inv_yhat)\n",
        "print('Test MSE: %.3f' % mse)\n",
        "rmse = math.sqrt(mean_squared_error(inv_y, inv_yhat))\n",
        "print('Test RMSE: %.3f' % rmse)\n",
        "print('median_absolute_error', median_absolute_error(inv_y, inv_yhat))\n",
        "print('mean_absolute_error', mean_absolute_error(inv_y, inv_yhat))"
      ],
      "execution_count": null,
      "outputs": []
    },
    {
      "cell_type": "markdown",
      "metadata": {
        "id": "t96jjCNhouMU"
      },
      "source": [
        "# LSTM: Mobility Group + Social Distancing + Mask Rule"
      ]
    },
    {
      "cell_type": "code",
      "metadata": {
        "id": "fxJYCnw2ouMw"
      },
      "source": [
        "X_cols_all = x_col_mobility\n",
        "\n",
        "X_cols_feature_selected = ['X..staying.home', 'X..working.from.home', 'workplaces_percent_change_from_baseline', \n",
        "                           'X..out.of.state.trips', 'parks_percent_change_from_baseline',\n",
        "                           'm50', 'm50_index','Social.distancing.index',\n",
        "                           'mask_rule_severity'\n",
        "                           ,'Date','New cases']\n"
      ],
      "execution_count": 93,
      "outputs": []
    },
    {
      "cell_type": "code",
      "metadata": {
        "colab": {
          "base_uri": "https://localhost:8080/",
          "height": 350
        },
        "id": "WetuqGMdouMx",
        "outputId": "af609ad6-038c-4522-cb70-fb89fe53f13b"
      },
      "source": [
        "LA_combined_data_all = CA_superset_data[CA_superset_data['County Name'] == 'Los Angeles County'][X_cols_all]\n",
        "print(LA_combined_data_all.shape)\n",
        "\n",
        "LA_combined_data_featured = CA_superset_data[CA_superset_data['County Name'] == 'Los Angeles County'][X_cols_feature_selected]\n",
        "print(LA_combined_data_featured.shape)\n",
        "LA_combined_data_all.head(5)"
      ],
      "execution_count": 74,
      "outputs": [
        {
          "output_type": "stream",
          "text": [
            "(292, 16)\n",
            "(292, 7)\n"
          ],
          "name": "stdout"
        },
        {
          "output_type": "execute_result",
          "data": {
            "text/html": [
              "<div>\n",
              "<style scoped>\n",
              "    .dataframe tbody tr th:only-of-type {\n",
              "        vertical-align: middle;\n",
              "    }\n",
              "\n",
              "    .dataframe tbody tr th {\n",
              "        vertical-align: top;\n",
              "    }\n",
              "\n",
              "    .dataframe thead th {\n",
              "        text-align: right;\n",
              "    }\n",
              "</style>\n",
              "<table border=\"1\" class=\"dataframe\">\n",
              "  <thead>\n",
              "    <tr style=\"text-align: right;\">\n",
              "      <th></th>\n",
              "      <th>retail_and_recreation_percent_change_from_baseline</th>\n",
              "      <th>grocery_and_pharmacy_percent_change_from_baseline</th>\n",
              "      <th>parks_percent_change_from_baseline</th>\n",
              "      <th>transit_stations_percent_change_from_baseline</th>\n",
              "      <th>workplaces_percent_change_from_baseline</th>\n",
              "      <th>residential_percent_change_from_baseline</th>\n",
              "      <th>X..staying.home</th>\n",
              "      <th>Trips.person</th>\n",
              "      <th>X..out.of.county.trips</th>\n",
              "      <th>X..out.of.state.trips</th>\n",
              "      <th>Miles.person</th>\n",
              "      <th>Work.trips.person</th>\n",
              "      <th>Non.work.trips.person</th>\n",
              "      <th>X..working.from.home</th>\n",
              "      <th>Date</th>\n",
              "      <th>New cases</th>\n",
              "    </tr>\n",
              "  </thead>\n",
              "  <tbody>\n",
              "    <tr>\n",
              "      <th>4804</th>\n",
              "      <td>4.0000</td>\n",
              "      <td>3.0000</td>\n",
              "      <td>-5.0000</td>\n",
              "      <td>-3.0000</td>\n",
              "      <td>1.0000</td>\n",
              "      <td>0.0000</td>\n",
              "      <td>26</td>\n",
              "      <td>2.9100</td>\n",
              "      <td>11.2000</td>\n",
              "      <td>0.5000</td>\n",
              "      <td>35.1000</td>\n",
              "      <td>0.2600</td>\n",
              "      <td>2.6500</td>\n",
              "      <td>5.7000</td>\n",
              "      <td>2020-03-01</td>\n",
              "      <td>0</td>\n",
              "    </tr>\n",
              "    <tr>\n",
              "      <th>4805</th>\n",
              "      <td>5.0000</td>\n",
              "      <td>5.0000</td>\n",
              "      <td>8.0000</td>\n",
              "      <td>1.0000</td>\n",
              "      <td>4.0000</td>\n",
              "      <td>-1.0000</td>\n",
              "      <td>19</td>\n",
              "      <td>3.4200</td>\n",
              "      <td>10.4000</td>\n",
              "      <td>0.4000</td>\n",
              "      <td>35.1000</td>\n",
              "      <td>0.7000</td>\n",
              "      <td>2.7100</td>\n",
              "      <td>5.7000</td>\n",
              "      <td>2020-03-02</td>\n",
              "      <td>0</td>\n",
              "    </tr>\n",
              "    <tr>\n",
              "      <th>4806</th>\n",
              "      <td>8.0000</td>\n",
              "      <td>7.0000</td>\n",
              "      <td>32.0000</td>\n",
              "      <td>2.0000</td>\n",
              "      <td>3.0000</td>\n",
              "      <td>-1.0000</td>\n",
              "      <td>18</td>\n",
              "      <td>3.5700</td>\n",
              "      <td>10.2000</td>\n",
              "      <td>0.3000</td>\n",
              "      <td>33.7000</td>\n",
              "      <td>0.7300</td>\n",
              "      <td>2.8400</td>\n",
              "      <td>5.7000</td>\n",
              "      <td>2020-03-03</td>\n",
              "      <td>0</td>\n",
              "    </tr>\n",
              "    <tr>\n",
              "      <th>4807</th>\n",
              "      <td>4.0000</td>\n",
              "      <td>6.0000</td>\n",
              "      <td>9.0000</td>\n",
              "      <td>-1.0000</td>\n",
              "      <td>2.0000</td>\n",
              "      <td>0.0000</td>\n",
              "      <td>18</td>\n",
              "      <td>3.4800</td>\n",
              "      <td>10.7000</td>\n",
              "      <td>0.3000</td>\n",
              "      <td>34.9000</td>\n",
              "      <td>0.7200</td>\n",
              "      <td>2.7600</td>\n",
              "      <td>5.7000</td>\n",
              "      <td>2020-03-04</td>\n",
              "      <td>6</td>\n",
              "    </tr>\n",
              "    <tr>\n",
              "      <th>4808</th>\n",
              "      <td>4.0000</td>\n",
              "      <td>7.0000</td>\n",
              "      <td>9.0000</td>\n",
              "      <td>0.0000</td>\n",
              "      <td>2.0000</td>\n",
              "      <td>0.0000</td>\n",
              "      <td>18</td>\n",
              "      <td>3.5200</td>\n",
              "      <td>10.7000</td>\n",
              "      <td>0.3000</td>\n",
              "      <td>36.4000</td>\n",
              "      <td>0.7200</td>\n",
              "      <td>2.8100</td>\n",
              "      <td>5.7000</td>\n",
              "      <td>2020-03-05</td>\n",
              "      <td>4</td>\n",
              "    </tr>\n",
              "  </tbody>\n",
              "</table>\n",
              "</div>"
            ],
            "text/plain": [
              "      retail_and_recreation_percent_change_from_baseline  ...  New cases\n",
              "4804                                             4.0000   ...          0\n",
              "4805                                             5.0000   ...          0\n",
              "4806                                             8.0000   ...          0\n",
              "4807                                             4.0000   ...          6\n",
              "4808                                             4.0000   ...          4\n",
              "\n",
              "[5 rows x 16 columns]"
            ]
          },
          "metadata": {
            "tags": []
          },
          "execution_count": 74
        }
      ]
    },
    {
      "cell_type": "code",
      "metadata": {
        "id": "bhGqT5McouMy"
      },
      "source": [
        "from datetime import datetime\n",
        "# load data\n",
        "def parse(x):\n",
        "\treturn datetime.strptime(x, '%Y-%m-%d')\n",
        " \n",
        "def datetime_to_float(d):\n",
        "    date_time_obj = datetime.strptime(d, '%Y-%m-%d')\n",
        "    return date_time_obj.timestamp()"
      ],
      "execution_count": 75,
      "outputs": []
    },
    {
      "cell_type": "code",
      "metadata": {
        "colab": {
          "base_uri": "https://localhost:8080/"
        },
        "id": "Q5Apn6x2ouMz",
        "outputId": "cb8906fd-eda1-4661-cceb-4c37c303d949"
      },
      "source": [
        "len(LA_combined_data_featured.columns)"
      ],
      "execution_count": 76,
      "outputs": [
        {
          "output_type": "execute_result",
          "data": {
            "text/plain": [
              "7"
            ]
          },
          "metadata": {
            "tags": []
          },
          "execution_count": 76
        }
      ]
    },
    {
      "cell_type": "code",
      "metadata": {
        "colab": {
          "base_uri": "https://localhost:8080/",
          "height": 233
        },
        "id": "DKcsHtL8ouMz",
        "outputId": "ea2e48a9-d1ac-400f-8dfa-c00018750c40"
      },
      "source": [
        "LA_combined_data_featured['Date'] = LA_combined_data_featured['Date'].apply(lambda x: datetime_to_float(x))\n",
        "LA_combined_data_all['Date'] = LA_combined_data_all['Date'].apply(lambda x: datetime_to_float(x))\n",
        "\n",
        "#Harris_combined_data.index.name = 'Date'\n",
        "LA_combined_data_featured.head()"
      ],
      "execution_count": 77,
      "outputs": [
        {
          "output_type": "execute_result",
          "data": {
            "text/html": [
              "<div>\n",
              "<style scoped>\n",
              "    .dataframe tbody tr th:only-of-type {\n",
              "        vertical-align: middle;\n",
              "    }\n",
              "\n",
              "    .dataframe tbody tr th {\n",
              "        vertical-align: top;\n",
              "    }\n",
              "\n",
              "    .dataframe thead th {\n",
              "        text-align: right;\n",
              "    }\n",
              "</style>\n",
              "<table border=\"1\" class=\"dataframe\">\n",
              "  <thead>\n",
              "    <tr style=\"text-align: right;\">\n",
              "      <th></th>\n",
              "      <th>X..staying.home</th>\n",
              "      <th>X..working.from.home</th>\n",
              "      <th>workplaces_percent_change_from_baseline</th>\n",
              "      <th>X..out.of.state.trips</th>\n",
              "      <th>parks_percent_change_from_baseline</th>\n",
              "      <th>Date</th>\n",
              "      <th>New cases</th>\n",
              "    </tr>\n",
              "  </thead>\n",
              "  <tbody>\n",
              "    <tr>\n",
              "      <th>4804</th>\n",
              "      <td>26</td>\n",
              "      <td>5.7000</td>\n",
              "      <td>1.0000</td>\n",
              "      <td>0.5000</td>\n",
              "      <td>-5.0000</td>\n",
              "      <td>1583020800.0000</td>\n",
              "      <td>0</td>\n",
              "    </tr>\n",
              "    <tr>\n",
              "      <th>4805</th>\n",
              "      <td>19</td>\n",
              "      <td>5.7000</td>\n",
              "      <td>4.0000</td>\n",
              "      <td>0.4000</td>\n",
              "      <td>8.0000</td>\n",
              "      <td>1583107200.0000</td>\n",
              "      <td>0</td>\n",
              "    </tr>\n",
              "    <tr>\n",
              "      <th>4806</th>\n",
              "      <td>18</td>\n",
              "      <td>5.7000</td>\n",
              "      <td>3.0000</td>\n",
              "      <td>0.3000</td>\n",
              "      <td>32.0000</td>\n",
              "      <td>1583193600.0000</td>\n",
              "      <td>0</td>\n",
              "    </tr>\n",
              "    <tr>\n",
              "      <th>4807</th>\n",
              "      <td>18</td>\n",
              "      <td>5.7000</td>\n",
              "      <td>2.0000</td>\n",
              "      <td>0.3000</td>\n",
              "      <td>9.0000</td>\n",
              "      <td>1583280000.0000</td>\n",
              "      <td>6</td>\n",
              "    </tr>\n",
              "    <tr>\n",
              "      <th>4808</th>\n",
              "      <td>18</td>\n",
              "      <td>5.7000</td>\n",
              "      <td>2.0000</td>\n",
              "      <td>0.3000</td>\n",
              "      <td>9.0000</td>\n",
              "      <td>1583366400.0000</td>\n",
              "      <td>4</td>\n",
              "    </tr>\n",
              "  </tbody>\n",
              "</table>\n",
              "</div>"
            ],
            "text/plain": [
              "      X..staying.home  X..working.from.home  ...            Date  New cases\n",
              "4804               26                5.7000  ... 1583020800.0000          0\n",
              "4805               19                5.7000  ... 1583107200.0000          0\n",
              "4806               18                5.7000  ... 1583193600.0000          0\n",
              "4807               18                5.7000  ... 1583280000.0000          6\n",
              "4808               18                5.7000  ... 1583366400.0000          4\n",
              "\n",
              "[5 rows x 7 columns]"
            ]
          },
          "metadata": {
            "tags": []
          },
          "execution_count": 77
        }
      ]
    },
    {
      "cell_type": "code",
      "metadata": {
        "colab": {
          "base_uri": "https://localhost:8080/"
        },
        "id": "KmIYbDikouMz",
        "outputId": "71a5fae2-6a27-4975-bc9c-c14e402c7169"
      },
      "source": [
        "print(len(LA_combined_data_featured.columns))\n",
        "LA_combined_data_featured.dtypes"
      ],
      "execution_count": 78,
      "outputs": [
        {
          "output_type": "stream",
          "text": [
            "7\n"
          ],
          "name": "stdout"
        },
        {
          "output_type": "execute_result",
          "data": {
            "text/plain": [
              "X..staying.home                              int64\n",
              "X..working.from.home                       float64\n",
              "workplaces_percent_change_from_baseline    float64\n",
              "X..out.of.state.trips                      float64\n",
              "parks_percent_change_from_baseline         float64\n",
              "Date                                       float64\n",
              "New cases                                    int64\n",
              "dtype: object"
            ]
          },
          "metadata": {
            "tags": []
          },
          "execution_count": 78
        }
      ]
    },
    {
      "cell_type": "markdown",
      "metadata": {
        "id": "2cWi-1BlouM0"
      },
      "source": [
        "## Preprocessing data for LSTM"
      ]
    },
    {
      "cell_type": "code",
      "metadata": {
        "id": "PvCHlsKTouM0"
      },
      "source": [
        "LA_combined_data_all_selected = LA_combined_data_all[X_cols_all]\n",
        "LA_combined_data_featured_selected = LA_combined_data_featured[X_cols_feature_selected]"
      ],
      "execution_count": 79,
      "outputs": []
    },
    {
      "cell_type": "code",
      "metadata": {
        "id": "RGc87hpMouM0"
      },
      "source": [
        "\n",
        "# prepare data for lstm\n",
        "from pandas import read_csv\n",
        "from pandas import DataFrame\n",
        "from pandas import concat\n",
        "from sklearn.preprocessing import LabelEncoder\n",
        "from sklearn.preprocessing import MinMaxScaler\n",
        " \n",
        "# convert series to supervised learning\n",
        "def series_to_supervised(data, n_in=1, n_out=1, dropnan=True):\n",
        "\tn_vars = 1 if type(data) is list else data.shape[1]\n",
        "\tdf = DataFrame(data)\n",
        "\tcols, names = list(), list()\n",
        "\t# input sequence (t-n, ... t-1)\n",
        "\tfor i in range(n_in, 0, -1):\n",
        "\t\tcols.append(df.shift(i))\n",
        "\t\tnames += [('var%d(t-%d)' % (j+1, i)) for j in range(n_vars)]\n",
        "\t# forecast sequence (t, t+1, ... t+n)\n",
        "\tfor i in range(0, n_out):\n",
        "\t\tcols.append(df.shift(-i))\n",
        "\t\tif i == 0:\n",
        "\t\t\tnames += [('var%d(t)' % (j+1)) for j in range(n_vars)]\n",
        "\t\telse:\n",
        "\t\t\tnames += [('var%d(t+%d)' % (j+1, i)) for j in range(n_vars)]\n",
        "\t# put it all together\n",
        "\tagg = concat(cols, axis=1)\n",
        "\tagg.columns = names\n",
        "\t# drop rows with NaN values\n",
        "\tif dropnan:\n",
        "\t\tagg.dropna(inplace=True)\n",
        "\treturn agg"
      ],
      "execution_count": 80,
      "outputs": []
    },
    {
      "cell_type": "markdown",
      "metadata": {
        "id": "09F0vH6UouM1"
      },
      "source": [
        "## All values for CA training data"
      ]
    },
    {
      "cell_type": "code",
      "metadata": {
        "colab": {
          "base_uri": "https://localhost:8080/"
        },
        "id": "6bWlqwxyouM1",
        "outputId": "0bc6077c-a695-4c39-eb57-d02dbaca6a58"
      },
      "source": [
        "values = LA_combined_data_all_selected.values\n",
        "# integer encode direction\n",
        "encoder = LabelEncoder()\n",
        "values[:,len(X_cols_all)-1] = encoder.fit_transform(values[:,len(X_cols_all)-1])\n",
        "# ensure all data is float\n",
        "values = values.astype('float32')\n",
        "# normalize features\n",
        "scaler = MinMaxScaler(feature_range=(0, 1))\n",
        "scaled = scaler.fit_transform(values)\n",
        "# frame as supervised learning\n",
        "reframed = series_to_supervised(scaled, 1, 1)\n",
        "# drop columns we don't want to predict\n",
        "#reframed.drop(reframed.columns[[9,10,11,12,13,14,15]], axis=1, inplace=True)\n",
        "print(reframed.head())"
      ],
      "execution_count": 81,
      "outputs": [
        {
          "output_type": "stream",
          "text": [
            "   var1(t-1)  var2(t-1)  var3(t-1)  ...  var14(t)  var15(t)  var16(t)\n",
            "1     0.9512     0.6092     0.6337  ...    0.0000    0.0033    0.0000\n",
            "2     0.9634     0.6322     0.7624  ...    0.0000    0.0066    0.0000\n",
            "3     1.0000     0.6552     1.0000  ...    0.0000    0.0099    0.0186\n",
            "4     0.9512     0.6437     0.7723  ...    0.0000    0.0132    0.0112\n",
            "5     0.9512     0.6552     0.7723  ...    0.0000    0.0166    0.0074\n",
            "\n",
            "[5 rows x 32 columns]\n"
          ],
          "name": "stdout"
        }
      ]
    },
    {
      "cell_type": "markdown",
      "metadata": {
        "id": "I7TKJAtOouM1"
      },
      "source": [
        "## Train Test Split"
      ]
    },
    {
      "cell_type": "code",
      "metadata": {
        "colab": {
          "base_uri": "https://localhost:8080/"
        },
        "id": "hEdnGXmgouM2",
        "outputId": "64acd3da-80cf-4603-ac89-b50b95599c42"
      },
      "source": [
        "values.shape[0]"
      ],
      "execution_count": 82,
      "outputs": [
        {
          "output_type": "execute_result",
          "data": {
            "text/plain": [
              "292"
            ]
          },
          "metadata": {
            "tags": []
          },
          "execution_count": 82
        }
      ]
    },
    {
      "cell_type": "code",
      "metadata": {
        "colab": {
          "base_uri": "https://localhost:8080/"
        },
        "id": "EatiVZAYouM2",
        "outputId": "f9a67e06-4511-4e5d-9592-36f70a34576e"
      },
      "source": [
        "\n",
        "# split into train and test sets\n",
        "values = reframed.values\n",
        "rows_count = values.shape[0]\n",
        "# split the 1/5 value\n",
        "train_split = rows_count//5\n",
        "\n",
        "n_train_hours = train_split * 4\n",
        "\n",
        "print(n_train_hours)\n",
        "print('values shape ',values.shape)\n",
        "train = values[:n_train_hours, :]\n",
        "test = values[n_train_hours:, :]\n",
        "# split into input and outputs\n",
        "train_X, train_y = train[:, :-1], train[:, -1]\n",
        "test_X, test_y = test[:, :-1], test[:, -1]\n",
        "# reshape input to be 3D [samples, timesteps, features]\n",
        "train_X = train_X.reshape((train_X.shape[0], 1, train_X.shape[1]))\n",
        "test_X = test_X.reshape((test_X.shape[0], 1, test_X.shape[1]))\n",
        "print(train_X.shape, train_y.shape, test_X.shape, test_y.shape)"
      ],
      "execution_count": 83,
      "outputs": [
        {
          "output_type": "stream",
          "text": [
            "232\n",
            "values shape  (291, 32)\n",
            "(232, 1, 31) (232,) (59, 1, 31) (59,)\n"
          ],
          "name": "stdout"
        }
      ]
    },
    {
      "cell_type": "markdown",
      "metadata": {
        "id": "DgVLlxqgouM2"
      },
      "source": [
        "## Training LSTM"
      ]
    },
    {
      "cell_type": "code",
      "metadata": {
        "colab": {
          "base_uri": "https://localhost:8080/",
          "height": 1000
        },
        "id": "AMkT1E4EouM3",
        "outputId": "010a9d70-5712-4df0-9e2c-287b7d1fa773"
      },
      "source": [
        "...\n",
        "# design network\n",
        "model = Sequential()\n",
        "model.add(LSTM(50, input_shape=(train_X.shape[1], train_X.shape[2])))\n",
        "model.add(Dense(1))\n",
        "model.compile(loss='mae', optimizer='adam')\n",
        "# fit network\n",
        "history = model.fit(train_X, train_y, epochs=100, batch_size=72, validation_data=(test_X, test_y), verbose=2, shuffle=False)\n",
        "# plot history\n",
        "plt.plot(history.history['loss'], label='train')\n",
        "plt.plot(history.history['val_loss'], label='test')\n",
        "plt.legend()\n",
        "plt.show()"
      ],
      "execution_count": 84,
      "outputs": [
        {
          "output_type": "stream",
          "text": [
            "Epoch 1/100\n",
            "4/4 - 2s - loss: 0.3266 - val_loss: 0.5784\n",
            "Epoch 2/100\n",
            "4/4 - 0s - loss: 0.2275 - val_loss: 0.4428\n",
            "Epoch 3/100\n",
            "4/4 - 0s - loss: 0.1866 - val_loss: 0.3494\n",
            "Epoch 4/100\n",
            "4/4 - 0s - loss: 0.1854 - val_loss: 0.3080\n",
            "Epoch 5/100\n",
            "4/4 - 0s - loss: 0.1897 - val_loss: 0.3098\n",
            "Epoch 6/100\n",
            "4/4 - 0s - loss: 0.1869 - val_loss: 0.3341\n",
            "Epoch 7/100\n",
            "4/4 - 0s - loss: 0.1833 - val_loss: 0.3651\n",
            "Epoch 8/100\n",
            "4/4 - 0s - loss: 0.1822 - val_loss: 0.3867\n",
            "Epoch 9/100\n",
            "4/4 - 0s - loss: 0.1823 - val_loss: 0.3962\n",
            "Epoch 10/100\n",
            "4/4 - 0s - loss: 0.1814 - val_loss: 0.3951\n",
            "Epoch 11/100\n",
            "4/4 - 0s - loss: 0.1790 - val_loss: 0.3866\n",
            "Epoch 12/100\n",
            "4/4 - 0s - loss: 0.1758 - val_loss: 0.3746\n",
            "Epoch 13/100\n",
            "4/4 - 0s - loss: 0.1728 - val_loss: 0.3624\n",
            "Epoch 14/100\n",
            "4/4 - 0s - loss: 0.1700 - val_loss: 0.3524\n",
            "Epoch 15/100\n",
            "4/4 - 0s - loss: 0.1677 - val_loss: 0.3452\n",
            "Epoch 16/100\n",
            "4/4 - 0s - loss: 0.1655 - val_loss: 0.3407\n",
            "Epoch 17/100\n",
            "4/4 - 0s - loss: 0.1634 - val_loss: 0.3382\n",
            "Epoch 18/100\n",
            "4/4 - 0s - loss: 0.1612 - val_loss: 0.3366\n",
            "Epoch 19/100\n",
            "4/4 - 0s - loss: 0.1589 - val_loss: 0.3346\n",
            "Epoch 20/100\n",
            "4/4 - 0s - loss: 0.1565 - val_loss: 0.3312\n",
            "Epoch 21/100\n",
            "4/4 - 0s - loss: 0.1539 - val_loss: 0.3267\n",
            "Epoch 22/100\n",
            "4/4 - 0s - loss: 0.1513 - val_loss: 0.3238\n",
            "Epoch 23/100\n",
            "4/4 - 0s - loss: 0.1489 - val_loss: 0.3250\n",
            "Epoch 24/100\n",
            "4/4 - 0s - loss: 0.1467 - val_loss: 0.3261\n",
            "Epoch 25/100\n",
            "4/4 - 0s - loss: 0.1440 - val_loss: 0.3225\n",
            "Epoch 26/100\n",
            "4/4 - 0s - loss: 0.1412 - val_loss: 0.3143\n",
            "Epoch 27/100\n",
            "4/4 - 0s - loss: 0.1390 - val_loss: 0.3072\n",
            "Epoch 28/100\n",
            "4/4 - 0s - loss: 0.1372 - val_loss: 0.3027\n",
            "Epoch 29/100\n",
            "4/4 - 0s - loss: 0.1359 - val_loss: 0.3011\n",
            "Epoch 30/100\n",
            "4/4 - 0s - loss: 0.1349 - val_loss: 0.2995\n",
            "Epoch 31/100\n",
            "4/4 - 0s - loss: 0.1338 - val_loss: 0.2996\n",
            "Epoch 32/100\n",
            "4/4 - 0s - loss: 0.1329 - val_loss: 0.3031\n",
            "Epoch 33/100\n",
            "4/4 - 0s - loss: 0.1322 - val_loss: 0.3003\n",
            "Epoch 34/100\n",
            "4/4 - 0s - loss: 0.1305 - val_loss: 0.2972\n",
            "Epoch 35/100\n",
            "4/4 - 0s - loss: 0.1296 - val_loss: 0.2996\n",
            "Epoch 36/100\n",
            "4/4 - 0s - loss: 0.1287 - val_loss: 0.2958\n",
            "Epoch 37/100\n",
            "4/4 - 0s - loss: 0.1276 - val_loss: 0.2982\n",
            "Epoch 38/100\n",
            "4/4 - 0s - loss: 0.1272 - val_loss: 0.2961\n",
            "Epoch 39/100\n",
            "4/4 - 0s - loss: 0.1260 - val_loss: 0.2910\n",
            "Epoch 40/100\n",
            "4/4 - 0s - loss: 0.1252 - val_loss: 0.2946\n",
            "Epoch 41/100\n",
            "4/4 - 0s - loss: 0.1249 - val_loss: 0.2954\n",
            "Epoch 42/100\n",
            "4/4 - 0s - loss: 0.1242 - val_loss: 0.2889\n",
            "Epoch 43/100\n",
            "4/4 - 0s - loss: 0.1233 - val_loss: 0.2884\n",
            "Epoch 44/100\n",
            "4/4 - 0s - loss: 0.1228 - val_loss: 0.2914\n",
            "Epoch 45/100\n",
            "4/4 - 0s - loss: 0.1225 - val_loss: 0.2887\n",
            "Epoch 46/100\n",
            "4/4 - 0s - loss: 0.1217 - val_loss: 0.2851\n",
            "Epoch 47/100\n",
            "4/4 - 0s - loss: 0.1211 - val_loss: 0.2882\n",
            "Epoch 48/100\n",
            "4/4 - 0s - loss: 0.1209 - val_loss: 0.2911\n",
            "Epoch 49/100\n",
            "4/4 - 0s - loss: 0.1205 - val_loss: 0.2863\n",
            "Epoch 50/100\n",
            "4/4 - 0s - loss: 0.1197 - val_loss: 0.2843\n",
            "Epoch 51/100\n",
            "4/4 - 0s - loss: 0.1193 - val_loss: 0.2873\n",
            "Epoch 52/100\n",
            "4/4 - 0s - loss: 0.1190 - val_loss: 0.2869\n",
            "Epoch 53/100\n",
            "4/4 - 0s - loss: 0.1186 - val_loss: 0.2842\n",
            "Epoch 54/100\n",
            "4/4 - 0s - loss: 0.1180 - val_loss: 0.2839\n",
            "Epoch 55/100\n",
            "4/4 - 0s - loss: 0.1177 - val_loss: 0.2884\n",
            "Epoch 56/100\n",
            "4/4 - 0s - loss: 0.1175 - val_loss: 0.2860\n",
            "Epoch 57/100\n",
            "4/4 - 0s - loss: 0.1169 - val_loss: 0.2848\n",
            "Epoch 58/100\n",
            "4/4 - 0s - loss: 0.1166 - val_loss: 0.2865\n",
            "Epoch 59/100\n",
            "4/4 - 0s - loss: 0.1163 - val_loss: 0.2859\n",
            "Epoch 60/100\n",
            "4/4 - 0s - loss: 0.1160 - val_loss: 0.2843\n",
            "Epoch 61/100\n",
            "4/4 - 0s - loss: 0.1157 - val_loss: 0.2840\n",
            "Epoch 62/100\n",
            "4/4 - 0s - loss: 0.1154 - val_loss: 0.2828\n",
            "Epoch 63/100\n",
            "4/4 - 0s - loss: 0.1151 - val_loss: 0.2812\n",
            "Epoch 64/100\n",
            "4/4 - 0s - loss: 0.1148 - val_loss: 0.2842\n",
            "Epoch 65/100\n",
            "4/4 - 0s - loss: 0.1147 - val_loss: 0.2821\n",
            "Epoch 66/100\n",
            "4/4 - 0s - loss: 0.1143 - val_loss: 0.2821\n",
            "Epoch 67/100\n",
            "4/4 - 0s - loss: 0.1141 - val_loss: 0.2868\n",
            "Epoch 68/100\n",
            "4/4 - 0s - loss: 0.1140 - val_loss: 0.2899\n",
            "Epoch 69/100\n",
            "4/4 - 0s - loss: 0.1140 - val_loss: 0.2896\n",
            "Epoch 70/100\n",
            "4/4 - 0s - loss: 0.1137 - val_loss: 0.2914\n",
            "Epoch 71/100\n",
            "4/4 - 0s - loss: 0.1137 - val_loss: 0.2891\n",
            "Epoch 72/100\n",
            "4/4 - 0s - loss: 0.1134 - val_loss: 0.2885\n",
            "Epoch 73/100\n",
            "4/4 - 0s - loss: 0.1132 - val_loss: 0.2930\n",
            "Epoch 74/100\n",
            "4/4 - 0s - loss: 0.1132 - val_loss: 0.2928\n",
            "Epoch 75/100\n",
            "4/4 - 0s - loss: 0.1131 - val_loss: 0.2917\n",
            "Epoch 76/100\n",
            "4/4 - 0s - loss: 0.1129 - val_loss: 0.2901\n",
            "Epoch 77/100\n",
            "4/4 - 0s - loss: 0.1128 - val_loss: 0.2986\n",
            "Epoch 78/100\n",
            "4/4 - 0s - loss: 0.1130 - val_loss: 0.2950\n",
            "Epoch 79/100\n",
            "4/4 - 0s - loss: 0.1126 - val_loss: 0.2949\n",
            "Epoch 80/100\n",
            "4/4 - 0s - loss: 0.1125 - val_loss: 0.2977\n",
            "Epoch 81/100\n",
            "4/4 - 0s - loss: 0.1125 - val_loss: 0.2982\n",
            "Epoch 82/100\n",
            "4/4 - 0s - loss: 0.1122 - val_loss: 0.2956\n",
            "Epoch 83/100\n",
            "4/4 - 0s - loss: 0.1121 - val_loss: 0.2971\n",
            "Epoch 84/100\n",
            "4/4 - 0s - loss: 0.1119 - val_loss: 0.2957\n",
            "Epoch 85/100\n",
            "4/4 - 0s - loss: 0.1119 - val_loss: 0.2995\n",
            "Epoch 86/100\n",
            "4/4 - 0s - loss: 0.1118 - val_loss: 0.2959\n",
            "Epoch 87/100\n",
            "4/4 - 0s - loss: 0.1115 - val_loss: 0.3002\n",
            "Epoch 88/100\n",
            "4/4 - 0s - loss: 0.1116 - val_loss: 0.2980\n",
            "Epoch 89/100\n",
            "4/4 - 0s - loss: 0.1114 - val_loss: 0.2955\n",
            "Epoch 90/100\n",
            "4/4 - 0s - loss: 0.1113 - val_loss: 0.3008\n",
            "Epoch 91/100\n",
            "4/4 - 0s - loss: 0.1112 - val_loss: 0.2988\n",
            "Epoch 92/100\n",
            "4/4 - 0s - loss: 0.1110 - val_loss: 0.3026\n",
            "Epoch 93/100\n",
            "4/4 - 0s - loss: 0.1110 - val_loss: 0.2981\n",
            "Epoch 94/100\n",
            "4/4 - 0s - loss: 0.1107 - val_loss: 0.3070\n",
            "Epoch 95/100\n",
            "4/4 - 0s - loss: 0.1113 - val_loss: 0.3048\n",
            "Epoch 96/100\n",
            "4/4 - 0s - loss: 0.1108 - val_loss: 0.2954\n",
            "Epoch 97/100\n",
            "4/4 - 0s - loss: 0.1105 - val_loss: 0.3111\n",
            "Epoch 98/100\n",
            "4/4 - 0s - loss: 0.1112 - val_loss: 0.3060\n",
            "Epoch 99/100\n",
            "4/4 - 0s - loss: 0.1106 - val_loss: 0.2961\n",
            "Epoch 100/100\n",
            "4/4 - 0s - loss: 0.1103 - val_loss: 0.3142\n"
          ],
          "name": "stdout"
        },
        {
          "output_type": "display_data",
          "data": {
            "image/png": "[encoded data removed]",
            "text/plain": [
              "<Figure size 432x288 with 1 Axes>"
            ]
          },
          "metadata": {
            "tags": [],
            "needs_background": "light"
          }
        }
      ]
    },
    {
      "cell_type": "markdown",
      "metadata": {
        "id": "tnUUQ96zouM3"
      },
      "source": [
        "## Test"
      ]
    },
    {
      "cell_type": "code",
      "metadata": {
        "colab": {
          "base_uri": "https://localhost:8080/"
        },
        "id": "jTjC8VjNouM4",
        "outputId": "385ca914-a3cd-4822-9984-b50664a4dcbd"
      },
      "source": [
        "import math\n",
        "\n",
        "# make a prediction\n",
        "yhat = model.predict(test_X)\n",
        "test_X1 = test_X.reshape((test_X.shape[0], test_X.shape[2]))\n",
        "# invert scaling for forecast\n",
        "inv_yhat = concatenate((yhat, test_X1[:, 1:]), axis=1)\n",
        "print(inv_yhat.shape)\n",
        "#inv_yhat = scaler.inverse_transform(inv_yhat)\n",
        "inv_yhat = inv_yhat[:,0]\n",
        "# invert scaling for actual\n",
        "test_y = test_y.reshape((len(test_y), 1))\n",
        "inv_y = concatenate((test_y, test_X1[:, 1:]), axis=1)\n",
        "#inv_y = scaler.inverse_transform(inv_y)\n",
        "inv_y = inv_y[:,0]\n",
        "# calculate RMSE\n",
        "mse = mean_squared_error(inv_y, inv_yhat)\n",
        "print('Test MSE: %.3f' % mse)\n",
        "rmse = math.sqrt(mean_squared_error(inv_y, inv_yhat))\n",
        "print('Test RMSE: %.3f' % rmse)\n",
        "\n",
        "print('median_absolute_error', median_absolute_error(inv_y, inv_yhat))\n",
        "print('mean_absolute_error', mean_absolute_error(inv_y, inv_yhat))"
      ],
      "execution_count": 85,
      "outputs": [
        {
          "output_type": "stream",
          "text": [
            "WARNING:tensorflow:6 out of the last 11 calls to <function Model.make_predict_function.<locals>.predict_function at 0x7fc925893950> triggered tf.function retracing. Tracing is expensive and the excessive number of tracings could be due to (1) creating @tf.function repeatedly in a loop, (2) passing tensors with different shapes, (3) passing Python objects instead of tensors. For (1), please define your @tf.function outside of the loop. For (2), @tf.function has experimental_relax_shapes=True option that relaxes argument shapes that can avoid unnecessary retracing. For (3), please refer to https://www.tensorflow.org/guide/function#controlling_retracing and https://www.tensorflow.org/api_docs/python/tf/function for  more details.\n",
            "(59, 31)\n",
            "Test MSE: 0.121\n",
            "Test RMSE: 0.347\n",
            "median_absolute_error 0.34011436\n",
            "mean_absolute_error 0.31424418\n"
          ],
          "name": "stdout"
        }
      ]
    },
    {
      "cell_type": "markdown",
      "metadata": {
        "id": "l8DfElG0ouM4"
      },
      "source": [
        "## Preprocessing feature selected data for training"
      ]
    },
    {
      "cell_type": "code",
      "metadata": {
        "colab": {
          "base_uri": "https://localhost:8080/"
        },
        "id": "8XYBI9QeouM4",
        "outputId": "3cdc4859-54de-44c7-f700-fc64739957eb"
      },
      "source": [
        "len(LA_combined_data_featured_selected.columns)"
      ],
      "execution_count": 86,
      "outputs": [
        {
          "output_type": "execute_result",
          "data": {
            "text/plain": [
              "7"
            ]
          },
          "metadata": {
            "tags": []
          },
          "execution_count": 86
        }
      ]
    },
    {
      "cell_type": "code",
      "metadata": {
        "colab": {
          "base_uri": "https://localhost:8080/"
        },
        "id": "ZR51EUQsouM4",
        "outputId": "b5bce4ef-db96-4ef2-8f14-dab64380cec3"
      },
      "source": [
        "values = LA_combined_data_featured_selected.values\n",
        "# integer encode direction\n",
        "encoder = LabelEncoder()\n",
        "values[:,6] = encoder.fit_transform(values[:,6])\n",
        "# ensure all data is float\n",
        "values = values.astype('float32')\n",
        "# normalize features\n",
        "scaler = MinMaxScaler(feature_range=(0, 1))\n",
        "scaled = scaler.fit_transform(values)\n",
        "# frame as supervised learning\n",
        "reframed = series_to_supervised(scaled, 1, 1)\n",
        "# drop columns we don't want to predict\n",
        "#reframed.drop(reframed.columns[[9,10,11,12,13,14,15]], axis=1, inplace=True)\n",
        "print(reframed.head())"
      ],
      "execution_count": 87,
      "outputs": [
        {
          "output_type": "stream",
          "text": [
            "   var1(t-1)  var2(t-1)  var3(t-1)  ...  var5(t)  var6(t)  var7(t)\n",
            "1     0.2353     0.0000     0.9655  ...   0.7624   0.0033   0.0000\n",
            "2     0.0294     0.0000     1.0000  ...   1.0000   0.0066   0.0000\n",
            "3     0.0000     0.0000     0.9885  ...   0.7723   0.0099   0.0186\n",
            "4     0.0000     0.0000     0.9770  ...   0.7723   0.0132   0.0112\n",
            "5     0.0000     0.0000     0.9770  ...   0.7525   0.0166   0.0074\n",
            "\n",
            "[5 rows x 14 columns]\n"
          ],
          "name": "stdout"
        }
      ]
    },
    {
      "cell_type": "markdown",
      "metadata": {
        "id": "I1ALSY-ZouM5"
      },
      "source": [
        "### Train Test split"
      ]
    },
    {
      "cell_type": "code",
      "metadata": {
        "colab": {
          "base_uri": "https://localhost:8080/"
        },
        "id": "0td61EePouM5",
        "outputId": "b77391e5-06e6-4408-f508-6d96504a575e"
      },
      "source": [
        "\n",
        "# split into train and test sets\n",
        "values = reframed.values\n",
        "rows_count = values.shape[0]\n",
        "# split the 1/5 value\n",
        "train_split = rows_count//5\n",
        "\n",
        "n_train_hours = train_split * 4\n",
        "\n",
        "print(n_train_hours)\n",
        "print('values shape ',values.shape)\n",
        "train = values[:n_train_hours, :]\n",
        "test = values[n_train_hours:, :]\n",
        "# split into input and outputs\n",
        "train_X, train_y = train[:, :-1], train[:, -1]\n",
        "test_X, test_y = test[:, :-1], test[:, -1]\n",
        "# reshape input to be 3D [samples, timesteps, features]\n",
        "train_X = train_X.reshape((train_X.shape[0], 1, train_X.shape[1]))\n",
        "test_X = test_X.reshape((test_X.shape[0], 1, test_X.shape[1]))\n",
        "print(train_X.shape, train_y.shape, test_X.shape, test_y.shape)"
      ],
      "execution_count": 88,
      "outputs": [
        {
          "output_type": "stream",
          "text": [
            "232\n",
            "values shape  (291, 14)\n",
            "(232, 1, 13) (232,) (59, 1, 13) (59,)\n"
          ],
          "name": "stdout"
        }
      ]
    },
    {
      "cell_type": "markdown",
      "metadata": {
        "id": "L8J1GAuqouM5"
      },
      "source": [
        "### Training LSTM for feature selected data"
      ]
    },
    {
      "cell_type": "code",
      "metadata": {
        "colab": {
          "base_uri": "https://localhost:8080/"
        },
        "id": "RdtesRtFouM5",
        "outputId": "f446154a-1bfe-4919-eb5e-257e50f36fda"
      },
      "source": [
        "...\n",
        "# design network\n",
        "model = Sequential()\n",
        "model.add(LSTM(50, input_shape=(train_X.shape[1], train_X.shape[2])))\n",
        "model.add(Dense(1))\n",
        "model.compile(loss='mae', optimizer='adam')\n",
        "# fit network\n",
        "history = model.fit(train_X, train_y, epochs=200, batch_size=72, validation_data=(test_X, test_y), verbose=2, shuffle=False)\n"
      ],
      "execution_count": 89,
      "outputs": [
        {
          "output_type": "stream",
          "text": [
            "Epoch 1/200\n",
            "4/4 - 2s - loss: 0.2567 - val_loss: 0.5253\n",
            "Epoch 2/200\n",
            "4/4 - 0s - loss: 0.2053 - val_loss: 0.4476\n",
            "Epoch 3/200\n",
            "4/4 - 0s - loss: 0.1812 - val_loss: 0.3864\n",
            "Epoch 4/200\n",
            "4/4 - 0s - loss: 0.1714 - val_loss: 0.3450\n",
            "Epoch 5/200\n",
            "4/4 - 0s - loss: 0.1686 - val_loss: 0.3223\n",
            "Epoch 6/200\n",
            "4/4 - 0s - loss: 0.1678 - val_loss: 0.3162\n",
            "Epoch 7/200\n",
            "4/4 - 0s - loss: 0.1667 - val_loss: 0.3221\n",
            "Epoch 8/200\n",
            "4/4 - 0s - loss: 0.1652 - val_loss: 0.3320\n",
            "Epoch 9/200\n",
            "4/4 - 0s - loss: 0.1640 - val_loss: 0.3413\n",
            "Epoch 10/200\n",
            "4/4 - 0s - loss: 0.1630 - val_loss: 0.3490\n",
            "Epoch 11/200\n",
            "4/4 - 0s - loss: 0.1621 - val_loss: 0.3536\n",
            "Epoch 12/200\n",
            "4/4 - 0s - loss: 0.1608 - val_loss: 0.3535\n",
            "Epoch 13/200\n",
            "4/4 - 0s - loss: 0.1590 - val_loss: 0.3493\n",
            "Epoch 14/200\n",
            "4/4 - 0s - loss: 0.1568 - val_loss: 0.3428\n",
            "Epoch 15/200\n",
            "4/4 - 0s - loss: 0.1546 - val_loss: 0.3360\n",
            "Epoch 16/200\n",
            "4/4 - 0s - loss: 0.1524 - val_loss: 0.3314\n",
            "Epoch 17/200\n",
            "4/4 - 0s - loss: 0.1504 - val_loss: 0.3282\n",
            "Epoch 18/200\n",
            "4/4 - 0s - loss: 0.1485 - val_loss: 0.3256\n",
            "Epoch 19/200\n",
            "4/4 - 0s - loss: 0.1465 - val_loss: 0.3237\n",
            "Epoch 20/200\n",
            "4/4 - 0s - loss: 0.1447 - val_loss: 0.3219\n",
            "Epoch 21/200\n",
            "4/4 - 0s - loss: 0.1429 - val_loss: 0.3196\n",
            "Epoch 22/200\n",
            "4/4 - 0s - loss: 0.1410 - val_loss: 0.3179\n",
            "Epoch 23/200\n",
            "4/4 - 0s - loss: 0.1393 - val_loss: 0.3172\n",
            "Epoch 24/200\n",
            "4/4 - 0s - loss: 0.1379 - val_loss: 0.3162\n",
            "Epoch 25/200\n",
            "4/4 - 0s - loss: 0.1365 - val_loss: 0.3148\n",
            "Epoch 26/200\n",
            "4/4 - 0s - loss: 0.1350 - val_loss: 0.3133\n",
            "Epoch 27/200\n",
            "4/4 - 0s - loss: 0.1337 - val_loss: 0.3119\n",
            "Epoch 28/200\n",
            "4/4 - 0s - loss: 0.1323 - val_loss: 0.3106\n",
            "Epoch 29/200\n",
            "4/4 - 0s - loss: 0.1310 - val_loss: 0.3097\n",
            "Epoch 30/200\n",
            "4/4 - 0s - loss: 0.1297 - val_loss: 0.3090\n",
            "Epoch 31/200\n",
            "4/4 - 0s - loss: 0.1284 - val_loss: 0.3081\n",
            "Epoch 32/200\n",
            "4/4 - 0s - loss: 0.1271 - val_loss: 0.3080\n",
            "Epoch 33/200\n",
            "4/4 - 0s - loss: 0.1260 - val_loss: 0.3080\n",
            "Epoch 34/200\n",
            "4/4 - 0s - loss: 0.1250 - val_loss: 0.3071\n",
            "Epoch 35/200\n",
            "4/4 - 0s - loss: 0.1238 - val_loss: 0.3031\n",
            "Epoch 36/200\n",
            "4/4 - 0s - loss: 0.1222 - val_loss: 0.2991\n",
            "Epoch 37/200\n",
            "4/4 - 0s - loss: 0.1210 - val_loss: 0.2969\n",
            "Epoch 38/200\n",
            "4/4 - 0s - loss: 0.1201 - val_loss: 0.2970\n",
            "Epoch 39/200\n",
            "4/4 - 0s - loss: 0.1195 - val_loss: 0.2975\n",
            "Epoch 40/200\n",
            "4/4 - 0s - loss: 0.1189 - val_loss: 0.2963\n",
            "Epoch 41/200\n",
            "4/4 - 0s - loss: 0.1182 - val_loss: 0.2945\n",
            "Epoch 42/200\n",
            "4/4 - 0s - loss: 0.1176 - val_loss: 0.2944\n",
            "Epoch 43/200\n",
            "4/4 - 0s - loss: 0.1172 - val_loss: 0.2962\n",
            "Epoch 44/200\n",
            "4/4 - 0s - loss: 0.1170 - val_loss: 0.2973\n",
            "Epoch 45/200\n",
            "4/4 - 0s - loss: 0.1165 - val_loss: 0.2940\n",
            "Epoch 46/200\n",
            "4/4 - 0s - loss: 0.1160 - val_loss: 0.2914\n",
            "Epoch 47/200\n",
            "4/4 - 0s - loss: 0.1155 - val_loss: 0.2931\n",
            "Epoch 48/200\n",
            "4/4 - 0s - loss: 0.1153 - val_loss: 0.2958\n",
            "Epoch 49/200\n",
            "4/4 - 0s - loss: 0.1151 - val_loss: 0.2938\n",
            "Epoch 50/200\n",
            "4/4 - 0s - loss: 0.1146 - val_loss: 0.2913\n",
            "Epoch 51/200\n",
            "4/4 - 0s - loss: 0.1142 - val_loss: 0.2899\n",
            "Epoch 52/200\n",
            "4/4 - 0s - loss: 0.1139 - val_loss: 0.2902\n",
            "Epoch 53/200\n",
            "4/4 - 0s - loss: 0.1136 - val_loss: 0.2914\n",
            "Epoch 54/200\n",
            "4/4 - 0s - loss: 0.1134 - val_loss: 0.2919\n",
            "Epoch 55/200\n",
            "4/4 - 0s - loss: 0.1132 - val_loss: 0.2919\n",
            "Epoch 56/200\n",
            "4/4 - 0s - loss: 0.1129 - val_loss: 0.2923\n",
            "Epoch 57/200\n",
            "4/4 - 0s - loss: 0.1127 - val_loss: 0.2938\n",
            "Epoch 58/200\n",
            "4/4 - 0s - loss: 0.1125 - val_loss: 0.2953\n",
            "Epoch 59/200\n",
            "4/4 - 0s - loss: 0.1124 - val_loss: 0.2973\n",
            "Epoch 60/200\n",
            "4/4 - 0s - loss: 0.1123 - val_loss: 0.2988\n",
            "Epoch 61/200\n",
            "4/4 - 0s - loss: 0.1122 - val_loss: 0.3002\n",
            "Epoch 62/200\n",
            "4/4 - 0s - loss: 0.1122 - val_loss: 0.3017\n",
            "Epoch 63/200\n",
            "4/4 - 0s - loss: 0.1121 - val_loss: 0.3019\n",
            "Epoch 64/200\n",
            "4/4 - 0s - loss: 0.1120 - val_loss: 0.3017\n",
            "Epoch 65/200\n",
            "4/4 - 0s - loss: 0.1119 - val_loss: 0.3013\n",
            "Epoch 66/200\n",
            "4/4 - 0s - loss: 0.1118 - val_loss: 0.3016\n",
            "Epoch 67/200\n",
            "4/4 - 0s - loss: 0.1117 - val_loss: 0.3017\n",
            "Epoch 68/200\n",
            "4/4 - 0s - loss: 0.1117 - val_loss: 0.3026\n",
            "Epoch 69/200\n",
            "4/4 - 0s - loss: 0.1116 - val_loss: 0.3039\n",
            "Epoch 70/200\n",
            "4/4 - 0s - loss: 0.1116 - val_loss: 0.3054\n",
            "Epoch 71/200\n",
            "4/4 - 0s - loss: 0.1116 - val_loss: 0.3076\n",
            "Epoch 72/200\n",
            "4/4 - 0s - loss: 0.1116 - val_loss: 0.3099\n",
            "Epoch 73/200\n",
            "4/4 - 0s - loss: 0.1116 - val_loss: 0.3113\n",
            "Epoch 74/200\n",
            "4/4 - 0s - loss: 0.1116 - val_loss: 0.3130\n",
            "Epoch 75/200\n",
            "4/4 - 0s - loss: 0.1116 - val_loss: 0.3155\n",
            "Epoch 76/200\n",
            "4/4 - 0s - loss: 0.1116 - val_loss: 0.3178\n",
            "Epoch 77/200\n",
            "4/4 - 0s - loss: 0.1116 - val_loss: 0.3194\n",
            "Epoch 78/200\n",
            "4/4 - 0s - loss: 0.1115 - val_loss: 0.3227\n",
            "Epoch 79/200\n",
            "4/4 - 0s - loss: 0.1116 - val_loss: 0.3208\n",
            "Epoch 80/200\n",
            "4/4 - 0s - loss: 0.1114 - val_loss: 0.3174\n",
            "Epoch 81/200\n",
            "4/4 - 0s - loss: 0.1114 - val_loss: 0.3211\n",
            "Epoch 82/200\n",
            "4/4 - 0s - loss: 0.1114 - val_loss: 0.3266\n",
            "Epoch 83/200\n",
            "4/4 - 0s - loss: 0.1115 - val_loss: 0.3231\n",
            "Epoch 84/200\n",
            "4/4 - 0s - loss: 0.1113 - val_loss: 0.3204\n",
            "Epoch 85/200\n",
            "4/4 - 0s - loss: 0.1112 - val_loss: 0.3249\n",
            "Epoch 86/200\n",
            "4/4 - 0s - loss: 0.1113 - val_loss: 0.3275\n",
            "Epoch 87/200\n",
            "4/4 - 0s - loss: 0.1113 - val_loss: 0.3254\n",
            "Epoch 88/200\n",
            "4/4 - 0s - loss: 0.1112 - val_loss: 0.3270\n",
            "Epoch 89/200\n",
            "4/4 - 0s - loss: 0.1112 - val_loss: 0.3267\n",
            "Epoch 90/200\n",
            "4/4 - 0s - loss: 0.1111 - val_loss: 0.3295\n",
            "Epoch 91/200\n",
            "4/4 - 0s - loss: 0.1111 - val_loss: 0.3291\n",
            "Epoch 92/200\n",
            "4/4 - 0s - loss: 0.1111 - val_loss: 0.3293\n",
            "Epoch 93/200\n",
            "4/4 - 0s - loss: 0.1111 - val_loss: 0.3235\n",
            "Epoch 94/200\n",
            "4/4 - 0s - loss: 0.1110 - val_loss: 0.3282\n",
            "Epoch 95/200\n",
            "4/4 - 0s - loss: 0.1110 - val_loss: 0.3326\n",
            "Epoch 96/200\n",
            "4/4 - 0s - loss: 0.1110 - val_loss: 0.3261\n",
            "Epoch 97/200\n",
            "4/4 - 0s - loss: 0.1109 - val_loss: 0.3296\n",
            "Epoch 98/200\n",
            "4/4 - 0s - loss: 0.1109 - val_loss: 0.3322\n",
            "Epoch 99/200\n",
            "4/4 - 0s - loss: 0.1109 - val_loss: 0.3268\n",
            "Epoch 100/200\n",
            "4/4 - 0s - loss: 0.1108 - val_loss: 0.3319\n",
            "Epoch 101/200\n",
            "4/4 - 0s - loss: 0.1109 - val_loss: 0.3349\n",
            "Epoch 102/200\n",
            "4/4 - 0s - loss: 0.1109 - val_loss: 0.3276\n",
            "Epoch 103/200\n",
            "4/4 - 0s - loss: 0.1107 - val_loss: 0.3313\n",
            "Epoch 104/200\n",
            "4/4 - 0s - loss: 0.1107 - val_loss: 0.3394\n",
            "Epoch 105/200\n",
            "4/4 - 0s - loss: 0.1111 - val_loss: 0.3369\n",
            "Epoch 106/200\n",
            "4/4 - 0s - loss: 0.1108 - val_loss: 0.3246\n",
            "Epoch 107/200\n",
            "4/4 - 0s - loss: 0.1108 - val_loss: 0.3314\n",
            "Epoch 108/200\n",
            "4/4 - 0s - loss: 0.1107 - val_loss: 0.3392\n",
            "Epoch 109/200\n",
            "4/4 - 0s - loss: 0.1108 - val_loss: 0.3337\n",
            "Epoch 110/200\n",
            "4/4 - 0s - loss: 0.1106 - val_loss: 0.3368\n",
            "Epoch 111/200\n",
            "4/4 - 0s - loss: 0.1107 - val_loss: 0.3381\n",
            "Epoch 112/200\n",
            "4/4 - 0s - loss: 0.1107 - val_loss: 0.3303\n",
            "Epoch 113/200\n",
            "4/4 - 0s - loss: 0.1105 - val_loss: 0.3380\n",
            "Epoch 114/200\n",
            "4/4 - 0s - loss: 0.1107 - val_loss: 0.3415\n",
            "Epoch 115/200\n",
            "4/4 - 0s - loss: 0.1107 - val_loss: 0.3328\n",
            "Epoch 116/200\n",
            "4/4 - 0s - loss: 0.1105 - val_loss: 0.3373\n",
            "Epoch 117/200\n",
            "4/4 - 0s - loss: 0.1105 - val_loss: 0.3454\n",
            "Epoch 118/200\n",
            "4/4 - 0s - loss: 0.1108 - val_loss: 0.3431\n",
            "Epoch 119/200\n",
            "4/4 - 0s - loss: 0.1106 - val_loss: 0.3321\n",
            "Epoch 120/200\n",
            "4/4 - 0s - loss: 0.1105 - val_loss: 0.3412\n",
            "Epoch 121/200\n",
            "4/4 - 0s - loss: 0.1106 - val_loss: 0.3484\n",
            "Epoch 122/200\n",
            "4/4 - 0s - loss: 0.1106 - val_loss: 0.3401\n",
            "Epoch 123/200\n",
            "4/4 - 0s - loss: 0.1104 - val_loss: 0.3396\n",
            "Epoch 124/200\n",
            "4/4 - 0s - loss: 0.1103 - val_loss: 0.3449\n",
            "Epoch 125/200\n",
            "4/4 - 0s - loss: 0.1105 - val_loss: 0.3452\n",
            "Epoch 126/200\n",
            "4/4 - 0s - loss: 0.1104 - val_loss: 0.3372\n",
            "Epoch 127/200\n",
            "4/4 - 0s - loss: 0.1102 - val_loss: 0.3480\n",
            "Epoch 128/200\n",
            "4/4 - 0s - loss: 0.1107 - val_loss: 0.3524\n",
            "Epoch 129/200\n",
            "4/4 - 0s - loss: 0.1105 - val_loss: 0.3407\n",
            "Epoch 130/200\n",
            "4/4 - 0s - loss: 0.1102 - val_loss: 0.3478\n",
            "Epoch 131/200\n",
            "4/4 - 0s - loss: 0.1105 - val_loss: 0.3525\n",
            "Epoch 132/200\n",
            "4/4 - 0s - loss: 0.1104 - val_loss: 0.3433\n",
            "Epoch 133/200\n",
            "4/4 - 0s - loss: 0.1102 - val_loss: 0.3478\n",
            "Epoch 134/200\n",
            "4/4 - 0s - loss: 0.1104 - val_loss: 0.3506\n",
            "Epoch 135/200\n",
            "4/4 - 0s - loss: 0.1103 - val_loss: 0.3437\n",
            "Epoch 136/200\n",
            "4/4 - 0s - loss: 0.1101 - val_loss: 0.3497\n",
            "Epoch 137/200\n",
            "4/4 - 0s - loss: 0.1104 - val_loss: 0.3521\n",
            "Epoch 138/200\n",
            "4/4 - 0s - loss: 0.1102 - val_loss: 0.3448\n",
            "Epoch 139/200\n",
            "4/4 - 0s - loss: 0.1101 - val_loss: 0.3507\n",
            "Epoch 140/200\n",
            "4/4 - 0s - loss: 0.1103 - val_loss: 0.3531\n",
            "Epoch 141/200\n",
            "4/4 - 0s - loss: 0.1102 - val_loss: 0.3453\n",
            "Epoch 142/200\n",
            "4/4 - 0s - loss: 0.1100 - val_loss: 0.3531\n",
            "Epoch 143/200\n",
            "4/4 - 0s - loss: 0.1104 - val_loss: 0.3540\n",
            "Epoch 144/200\n",
            "4/4 - 0s - loss: 0.1101 - val_loss: 0.3467\n",
            "Epoch 145/200\n",
            "4/4 - 0s - loss: 0.1100 - val_loss: 0.3535\n",
            "Epoch 146/200\n",
            "4/4 - 0s - loss: 0.1102 - val_loss: 0.3523\n",
            "Epoch 147/200\n",
            "4/4 - 0s - loss: 0.1101 - val_loss: 0.3475\n",
            "Epoch 148/200\n",
            "4/4 - 0s - loss: 0.1099 - val_loss: 0.3577\n",
            "Epoch 149/200\n",
            "4/4 - 0s - loss: 0.1104 - val_loss: 0.3565\n",
            "Epoch 150/200\n",
            "4/4 - 0s - loss: 0.1101 - val_loss: 0.3476\n",
            "Epoch 151/200\n",
            "4/4 - 0s - loss: 0.1098 - val_loss: 0.3601\n",
            "Epoch 152/200\n",
            "4/4 - 0s - loss: 0.1106 - val_loss: 0.3620\n",
            "Epoch 153/200\n",
            "4/4 - 0s - loss: 0.1101 - val_loss: 0.3455\n",
            "Epoch 154/200\n",
            "4/4 - 0s - loss: 0.1102 - val_loss: 0.3553\n",
            "Epoch 155/200\n",
            "4/4 - 0s - loss: 0.1103 - val_loss: 0.3630\n",
            "Epoch 156/200\n",
            "4/4 - 0s - loss: 0.1101 - val_loss: 0.3507\n",
            "Epoch 157/200\n",
            "4/4 - 0s - loss: 0.1099 - val_loss: 0.3587\n",
            "Epoch 158/200\n",
            "4/4 - 0s - loss: 0.1103 - val_loss: 0.3613\n",
            "Epoch 159/200\n",
            "4/4 - 0s - loss: 0.1099 - val_loss: 0.3511\n",
            "Epoch 160/200\n",
            "4/4 - 0s - loss: 0.1098 - val_loss: 0.3596\n",
            "Epoch 161/200\n",
            "4/4 - 0s - loss: 0.1101 - val_loss: 0.3604\n",
            "Epoch 162/200\n",
            "4/4 - 0s - loss: 0.1098 - val_loss: 0.3526\n",
            "Epoch 163/200\n",
            "4/4 - 0s - loss: 0.1097 - val_loss: 0.3616\n",
            "Epoch 164/200\n",
            "4/4 - 0s - loss: 0.1102 - val_loss: 0.3612\n",
            "Epoch 165/200\n",
            "4/4 - 0s - loss: 0.1098 - val_loss: 0.3541\n",
            "Epoch 166/200\n",
            "4/4 - 0s - loss: 0.1096 - val_loss: 0.3615\n",
            "Epoch 167/200\n",
            "4/4 - 0s - loss: 0.1099 - val_loss: 0.3616\n",
            "Epoch 168/200\n",
            "4/4 - 0s - loss: 0.1097 - val_loss: 0.3552\n",
            "Epoch 169/200\n",
            "4/4 - 0s - loss: 0.1096 - val_loss: 0.3633\n",
            "Epoch 170/200\n",
            "4/4 - 0s - loss: 0.1100 - val_loss: 0.3607\n",
            "Epoch 171/200\n",
            "4/4 - 0s - loss: 0.1098 - val_loss: 0.3538\n",
            "Epoch 172/200\n",
            "4/4 - 0s - loss: 0.1095 - val_loss: 0.3631\n",
            "Epoch 173/200\n",
            "4/4 - 0s - loss: 0.1098 - val_loss: 0.3623\n",
            "Epoch 174/200\n",
            "4/4 - 0s - loss: 0.1096 - val_loss: 0.3569\n",
            "Epoch 175/200\n",
            "4/4 - 0s - loss: 0.1095 - val_loss: 0.3621\n",
            "Epoch 176/200\n",
            "4/4 - 0s - loss: 0.1097 - val_loss: 0.3628\n",
            "Epoch 177/200\n",
            "4/4 - 0s - loss: 0.1096 - val_loss: 0.3588\n",
            "Epoch 178/200\n",
            "4/4 - 0s - loss: 0.1095 - val_loss: 0.3625\n",
            "Epoch 179/200\n",
            "4/4 - 0s - loss: 0.1095 - val_loss: 0.3603\n",
            "Epoch 180/200\n",
            "4/4 - 0s - loss: 0.1094 - val_loss: 0.3649\n",
            "Epoch 181/200\n",
            "4/4 - 0s - loss: 0.1096 - val_loss: 0.3617\n",
            "Epoch 182/200\n",
            "4/4 - 0s - loss: 0.1096 - val_loss: 0.3597\n",
            "Epoch 183/200\n",
            "4/4 - 0s - loss: 0.1094 - val_loss: 0.3670\n",
            "Epoch 184/200\n",
            "4/4 - 0s - loss: 0.1095 - val_loss: 0.3619\n",
            "Epoch 185/200\n",
            "4/4 - 0s - loss: 0.1094 - val_loss: 0.3646\n",
            "Epoch 186/200\n",
            "4/4 - 0s - loss: 0.1096 - val_loss: 0.3658\n",
            "Epoch 187/200\n",
            "4/4 - 0s - loss: 0.1095 - val_loss: 0.3575\n",
            "Epoch 188/200\n",
            "4/4 - 0s - loss: 0.1092 - val_loss: 0.3690\n",
            "Epoch 189/200\n",
            "4/4 - 0s - loss: 0.1098 - val_loss: 0.3652\n",
            "Epoch 190/200\n",
            "4/4 - 0s - loss: 0.1097 - val_loss: 0.3505\n",
            "Epoch 191/200\n",
            "4/4 - 0s - loss: 0.1093 - val_loss: 0.3726\n",
            "Epoch 192/200\n",
            "4/4 - 0s - loss: 0.1108 - val_loss: 0.3749\n",
            "Epoch 193/200\n",
            "4/4 - 0s - loss: 0.1097 - val_loss: 0.3478\n",
            "Epoch 194/200\n",
            "4/4 - 0s - loss: 0.1097 - val_loss: 0.3621\n",
            "Epoch 195/200\n",
            "4/4 - 0s - loss: 0.1097 - val_loss: 0.3704\n",
            "Epoch 196/200\n",
            "4/4 - 0s - loss: 0.1094 - val_loss: 0.3545\n",
            "Epoch 197/200\n",
            "4/4 - 0s - loss: 0.1093 - val_loss: 0.3613\n",
            "Epoch 198/200\n",
            "4/4 - 0s - loss: 0.1093 - val_loss: 0.3699\n",
            "Epoch 199/200\n",
            "4/4 - 0s - loss: 0.1095 - val_loss: 0.3626\n",
            "Epoch 200/200\n",
            "4/4 - 0s - loss: 0.1091 - val_loss: 0.3637\n"
          ],
          "name": "stdout"
        }
      ]
    },
    {
      "cell_type": "code",
      "metadata": {
        "colab": {
          "base_uri": "https://localhost:8080/",
          "height": 267
        },
        "id": "AgPF0wXtouM6",
        "outputId": "345f41f9-0386-49d0-e822-6393b1f7a377"
      },
      "source": [
        "# plot history\n",
        "plt.plot(history.history['loss'], label='train')\n",
        "plt.plot(history.history['val_loss'], label='test')\n",
        "plt.legend()\n",
        "plt.show()"
      ],
      "execution_count": 90,
      "outputs": [
        {
          "output_type": "display_data",
          "data": {
            "image/png": "[encoded data removed]",
            "text/plain": [
              "<Figure size 432x288 with 1 Axes>"
            ]
          },
          "metadata": {
            "tags": [],
            "needs_background": "light"
          }
        }
      ]
    },
    {
      "cell_type": "markdown",
      "metadata": {
        "id": "_9v61CKoouM6"
      },
      "source": [
        "### Testing feature selected data"
      ]
    },
    {
      "cell_type": "code",
      "metadata": {
        "colab": {
          "base_uri": "https://localhost:8080/"
        },
        "id": "2y3Hyaf1ouM6",
        "outputId": "b4d256a1-2144-442a-a84a-c081a17a99bd"
      },
      "source": [
        "import math\n",
        "\n",
        "# make a prediction\n",
        "yhat = model.predict(test_X)\n",
        "test_X1 = test_X.reshape((test_X.shape[0], test_X.shape[2]))\n",
        "# invert scaling for forecast\n",
        "inv_yhat = concatenate((yhat, test_X1[:, 1:]), axis=1)\n",
        "print(inv_yhat.shape)\n",
        "#inv_yhat = scaler.inverse_transform(inv_yhat)\n",
        "inv_yhat = inv_yhat[:,0]\n",
        "# invert scaling for actual\n",
        "test_y = test_y.reshape((len(test_y), 1))\n",
        "inv_y = concatenate((test_y, test_X1[:, 1:]), axis=1)\n",
        "#inv_y = scaler.inverse_transform(inv_y)\n",
        "inv_y = inv_y[:,0]\n",
        "# calculate RMSE\n",
        "mse = mean_squared_error(inv_y, inv_yhat)\n",
        "print('Test MSE: %.3f' % mse)\n",
        "rmse = math.sqrt(mean_squared_error(inv_y, inv_yhat))\n",
        "print('Test RMSE: %.3f' % rmse)\n",
        "print('median_absolute_error', median_absolute_error(inv_y, inv_yhat))\n",
        "print('mean_absolute_error', mean_absolute_error(inv_y, inv_yhat))"
      ],
      "execution_count": 91,
      "outputs": [
        {
          "output_type": "stream",
          "text": [
            "WARNING:tensorflow:6 out of the last 11 calls to <function Model.make_predict_function.<locals>.predict_function at 0x7fc91f43f0d0> triggered tf.function retracing. Tracing is expensive and the excessive number of tracings could be due to (1) creating @tf.function repeatedly in a loop, (2) passing tensors with different shapes, (3) passing Python objects instead of tensors. For (1), please define your @tf.function outside of the loop. For (2), @tf.function has experimental_relax_shapes=True option that relaxes argument shapes that can avoid unnecessary retracing. For (3), please refer to https://www.tensorflow.org/guide/function#controlling_retracing and https://www.tensorflow.org/api_docs/python/tf/function for  more details.\n",
            "(59, 13)\n",
            "Test MSE: 0.162\n",
            "Test RMSE: 0.402\n",
            "median_absolute_error 0.3788873\n",
            "mean_absolute_error 0.3636518\n"
          ],
          "name": "stdout"
        }
      ]
    },
    {
      "cell_type": "markdown",
      "metadata": {
        "id": "w-j9VGdqkKun"
      },
      "source": [
        "# Conclusion for all dataset after PCA\n",
        "\n",
        "| data | MSE  |RMSE  |Median AE  |MAE|\n",
        "|------|------|-----|------|-----|\n",
        "|   without PCA  | 0.117| 0.342|0.335|0.315|\n",
        "|   with PCA  | 0.085| 0.291|0.272|0.264|"
      ]
    }
  ]
}