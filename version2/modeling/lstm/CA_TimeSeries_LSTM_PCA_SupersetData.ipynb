{
  "nbformat": 4,
  "nbformat_minor": 0,
  "metadata": {
    "colab": {
      "name": "CA_TimeSeries_LSTM_PCA_SupersetData.ipynb",
      "provenance": [],
      "collapsed_sections": [],
      "toc_visible": true,
      "include_colab_link": true
    },
    "kernelspec": {
      "name": "python3",
      "display_name": "Python 3"
    }
  },
  "cells": [
    {
      "cell_type": "markdown",
      "metadata": {
        "id": "view-in-github",
        "colab_type": "text"
      },
      "source": [
        "<a href=\"https://colab.research.google.com/github/aarsanjani/meansquares/blob/master/version2/modeling/lstm/CA_TimeSeries_LSTM_PCA_SupersetData.ipynb\" target=\"_parent\"><img src=\"https://colab.research.google.com/assets/colab-badge.svg\" alt=\"Open In Colab\"/></a>"
      ]
    },
    {
      "cell_type": "markdown",
      "metadata": {
        "id": "Peb3i3j910ZZ"
      },
      "source": [
        "# Goal\n",
        "\n",
        "This colab finds the possible 'New Cases' in some counties in California after PCA analysis "
      ]
    },
    {
      "cell_type": "markdown",
      "metadata": {
        "id": "A2o8leQh2a0W"
      },
      "source": [
        "# Mount Google Drive"
      ]
    },
    {
      "cell_type": "code",
      "metadata": {
        "colab": {
          "base_uri": "https://localhost:8080/"
        },
        "id": "DxQcfW0N1vzY",
        "outputId": "730ff7a9-8dee-446a-e87f-e8249d36583a"
      },
      "source": [
        "from google.colab import drive\n",
        "drive.mount('/content/drive',force_remount=True)"
      ],
      "execution_count": null,
      "outputs": [
        {
          "output_type": "stream",
          "text": [
            "Mounted at /content/drive\n"
          ],
          "name": "stdout"
        }
      ]
    },
    {
      "cell_type": "code",
      "metadata": {
        "colab": {
          "base_uri": "https://localhost:8080/"
        },
        "id": "PeVbIdh82kTF",
        "outputId": "634fcb8d-57b0-494b-fcd4-f91620f39a5e"
      },
      "source": [
        "!ls '/content/drive/Shared drives/CMPE 295- Master Project/projectdata-2021'"
      ],
      "execution_count": null,
      "outputs": [
        {
          "output_type": "stream",
          "text": [
            " CA_alldatasets_Feb05.csv\n",
            " CA_alldatasets_Jan13.csv\n",
            " CA_CombinedData_Labeled_CDCGuideline_Feb05.csv\n",
            " CA_CombinedData_Labeled_CDCGuideline_Feb06.csv\n",
            " CA_CombinedData_Labeled_CDCGuideline_Jan15.csv\n",
            " CA_combined_Feb04.csv\n",
            " CA_CovidDataJan10.csv\n",
            " CA_dataset_Feb11.csv\n",
            " CA_GoogleMobilityDataJan10.csv\n",
            " CA_MarylandData_Labeled_CDCGuideline_Feb05.csv\n",
            " CA_MarylandData_Labeled_CDCGuideline_Feb06.csv\n",
            " CA_MarylandData_Labeled_CDCGuideline_Jan15.csv\n",
            " CA_processedMarylandData_Feb04.csv\n",
            " CA_processedMarylandData_Feb05.csv\n",
            " CA_processedMarylandData_Feb12.csv\n",
            " CA_processedMarylandData_Jan11.csv\n",
            " CA_SocialDistancingDataJan10.csv\n",
            " CA_socialDistancingInertiaData_Feb04.csv\n",
            " CA_Superset_dataset_Feb12.csv\n",
            " computed_CA_mobility_data.csv\n",
            " data-mask_for_all.csv\n",
            " election_results_2021.csv\n",
            " maryland_inertia_data_allstates_Feb04.csv\n",
            " maryland_inertia_data_allstates_Feb05.csv\n",
            " maryland_inertia_data_allstates_Feb12.csv\n",
            " maryland_inertia_data_allstates_Jan11.csv\n",
            " maryland_inertia_raw_dec28_2020.csv\n",
            " Mask_Rule_Feb05.csv\n",
            " Mask_Rule_Jan10.csv\n",
            " NY_alldatasets_Jan13.csv\n",
            " NY_CombinedData_Labeled_CDCGuideline_Feb07.csv\n",
            " NY_CombinedData_Labeled_CDCGuideline_Jan15.csv\n",
            " NY_CovidDataJan10.csv\n",
            " NY_GoogleMobilityDataJan10.csv\n",
            " NY_MarylandData_Labeled_CDCGuideline_Feb07.csv\n",
            " NY_MarylandData_Labeled_CDCGuideline_Jan15.csv\n",
            " NY_processedMarylandData_Feb04.csv\n",
            " NY_processedMarylandData_Feb12.csv\n",
            " NY_processedMarylandData_Jan11.csv\n",
            " NY_SocialDistancingDataJan10.csv\n",
            "'Policy_Map_(Sized)_Full_Data_data.csv'\n",
            " population-density\n",
            " TX_alldatasets_Jan11.csv\n",
            " TX_CombinedData_Labeled_CDCGuideline_Feb07.csv\n",
            " TX_CombinedData_Labeled_CDCGuideline_Jan15.csv\n",
            " TX_CovidDataJan10.csv\n",
            " TX_GoogleMobilityDataJan10.csv\n",
            " TX_MarylandData_Labeled_CDCGuideline_Feb07.csv\n",
            " TX_MarylandData_Labeled_CDCGuideline_Jan15.csv\n",
            " TX_processedMarylandData_Feb04.csv\n",
            " TX_processedMarylandData_Feb12.csv\n",
            " TX_processedMarylandData_Jan11.csv\n",
            " TX_processedMarylandData_Jan11.gsheet\n",
            " TX_SocialDistancingDataJan10.csv\n",
            " WI_alldatasets_Feb07.csv\n",
            " WI_CovidDataFeb07.csv\n",
            " WI_GoogleMobilityDataFeb07.csv\n",
            " WI_maryland_inertia_data_allstates_Feb07.csv\n",
            " WI_processedMarylandData_Feb07.csv\n",
            " WI_SocialDistancingDataFeb07.csv\n"
          ],
          "name": "stdout"
        }
      ]
    },
    {
      "cell_type": "code",
      "metadata": {
        "id": "558T4YGp2z8V",
        "colab": {
          "base_uri": "https://localhost:8080/"
        },
        "outputId": "7b20a011-6152-4c08-b07d-e5112185f69c"
      },
      "source": [
        "import pandas as pd\n",
        "\n",
        "from tqdm import tqdm\n",
        "import seaborn as sns\n",
        "import numpy as np\n",
        "import matplotlib.pyplot as plt\n",
        "import os\n",
        "from pandas import Series, datetime\n",
        "from pandas.plotting import scatter_matrix, autocorrelation_plot\n",
        "from sklearn.preprocessing import StandardScaler, RobustScaler\n",
        "from sklearn.model_selection import train_test_split, KFold, cross_val_score, GridSearchCV, TimeSeriesSplit\n",
        "from sklearn import metrics\n",
        "from sklearn.metrics import classification_report, confusion_matrix, accuracy_score, mean_squared_error,precision_score\n",
        "from sklearn.pipeline import Pipeline\n",
        "from sklearn.linear_model import LogisticRegression\n",
        "from sklearn.tree import DecisionTreeClassifier\n",
        "from sklearn.neighbors import KNeighborsClassifier\n",
        "from sklearn.discriminant_analysis import LinearDiscriminantAnalysis\n",
        "from sklearn.naive_bayes import GaussianNB\n",
        "from sklearn.cluster import KMeans\n",
        "from sklearn.svm import SVC\n",
        "from sklearn.ensemble import AdaBoostClassifier, GradientBoostingClassifier, RandomForestClassifier, ExtraTreesClassifier\n",
        "from sklearn.metrics import roc_curve, auc\n",
        "import random\n",
        "from statsmodels.graphics.tsaplots import plot_acf, plot_pacf\n",
        "from statsmodels.tsa.arima_model import ARIMA\n",
        "from xgboost import XGBClassifier\n",
        "from sklearn.mixture import GaussianMixture\n",
        "from sklearn.metrics import median_absolute_error, mean_absolute_error\n",
        "\n",
        "\n",
        "import numpy as np\n",
        "import matplotlib.pyplot as plt\n",
        "import pandas as pd\n",
        "pd.set_option('display.float_format', lambda x: '%.4f' % x)\n",
        "import seaborn as sns\n",
        "sns.set_context(\"paper\", font_scale=1.3)\n",
        "sns.set_style('white')\n",
        "import warnings\n",
        "warnings.filterwarnings('ignore')\n",
        "from time import time\n",
        "import matplotlib.ticker as tkr\n",
        "from scipy import stats\n",
        "from statsmodels.tsa.stattools import adfuller\n",
        "from sklearn import preprocessing\n",
        "from statsmodels.tsa.stattools import pacf\n",
        "%matplotlib inline\n",
        "import math\n",
        "import keras\n",
        "from keras.models import Sequential\n",
        "from keras.layers import Dense\n",
        "from keras.layers import LSTM\n",
        "from keras.layers import Dropout\n",
        "from keras.layers import *\n",
        "from sklearn.preprocessing import MinMaxScaler\n",
        "from sklearn.metrics import mean_squared_error\n",
        "from sklearn.metrics import mean_absolute_error\n",
        "from keras.callbacks import EarlyStopping\n"
      ],
      "execution_count": null,
      "outputs": [
        {
          "output_type": "stream",
          "text": [
            "/usr/local/lib/python3.6/dist-packages/statsmodels/tools/_testing.py:19: FutureWarning: pandas.util.testing is deprecated. Use the functions in the public API at pandas.testing instead.\n",
            "  import pandas.util.testing as tm\n"
          ],
          "name": "stderr"
        }
      ]
    },
    {
      "cell_type": "markdown",
      "metadata": {
        "id": "kn7FlI762nFk"
      },
      "source": [
        "# Load superset data for CA"
      ]
    },
    {
      "cell_type": "code",
      "metadata": {
        "colab": {
          "base_uri": "https://localhost:8080/",
          "height": 326
        },
        "id": "vxUcxn622pxX",
        "outputId": "90192682-cc26-49a1-d415-1d8bc05e751e"
      },
      "source": [
        "CA_superset_data = pd.read_csv('/content/drive/Shared drives/CMPE 295- Master Project/projectdata-2021/CA_SuperData_Labeled_CDCGuideline_Feb13.csv',low_memory=False)\n",
        "CA_superset_data.head()"
      ],
      "execution_count": null,
      "outputs": [
        {
          "output_type": "execute_result",
          "data": {
            "text/html": [
              "<div>\n",
              "<style scoped>\n",
              "    .dataframe tbody tr th:only-of-type {\n",
              "        vertical-align: middle;\n",
              "    }\n",
              "\n",
              "    .dataframe tbody tr th {\n",
              "        vertical-align: top;\n",
              "    }\n",
              "\n",
              "    .dataframe thead th {\n",
              "        text-align: right;\n",
              "    }\n",
              "</style>\n",
              "<table border=\"1\" class=\"dataframe\">\n",
              "  <thead>\n",
              "    <tr style=\"text-align: right;\">\n",
              "      <th></th>\n",
              "      <th>Date</th>\n",
              "      <th>Province_State</th>\n",
              "      <th>FIPS</th>\n",
              "      <th>New cases</th>\n",
              "      <th>County Name</th>\n",
              "      <th>mask_rule_severity</th>\n",
              "      <th>m50</th>\n",
              "      <th>m50_index</th>\n",
              "      <th>retail_and_recreation_percent_change_from_baseline</th>\n",
              "      <th>grocery_and_pharmacy_percent_change_from_baseline</th>\n",
              "      <th>parks_percent_change_from_baseline</th>\n",
              "      <th>transit_stations_percent_change_from_baseline</th>\n",
              "      <th>workplaces_percent_change_from_baseline</th>\n",
              "      <th>residential_percent_change_from_baseline</th>\n",
              "      <th>PopDensity</th>\n",
              "      <th>State_Name</th>\n",
              "      <th>State</th>\n",
              "      <th>CTFIPS</th>\n",
              "      <th>CTNAME</th>\n",
              "      <th>STFIPS</th>\n",
              "      <th>Social.distancing.index</th>\n",
              "      <th>X..staying.home</th>\n",
              "      <th>Trips.person</th>\n",
              "      <th>X..out.of.county.trips</th>\n",
              "      <th>X..out.of.state.trips</th>\n",
              "      <th>Miles.person</th>\n",
              "      <th>Work.trips.person</th>\n",
              "      <th>Non.work.trips.person</th>\n",
              "      <th>New.COVID.cases</th>\n",
              "      <th>Population</th>\n",
              "      <th>X..change.in.consumption</th>\n",
              "      <th>Transit.mode.share</th>\n",
              "      <th>X..people.older.than.60</th>\n",
              "      <th>Median.income</th>\n",
              "      <th>X..African.Americans</th>\n",
              "      <th>X..Hispanic.Americans</th>\n",
              "      <th>X..Male</th>\n",
              "      <th>Employment.density</th>\n",
              "      <th>X..hot.spots.1000.people</th>\n",
              "      <th>Hospital.beds.1000.people</th>\n",
              "      <th>ICUs.1000.people</th>\n",
              "      <th>X..contact.tracing.workers.1000.people</th>\n",
              "      <th>New.cases.1000.people</th>\n",
              "      <th>Active.cases.1000.people</th>\n",
              "      <th>X.days..decreasing.COVID.cases</th>\n",
              "      <th>X..hospital.bed.utilization</th>\n",
              "      <th>Testing.capacity</th>\n",
              "      <th>Tests.done.1000.people</th>\n",
              "      <th>X..ICU.utilization</th>\n",
              "      <th>Ventilator.shortage</th>\n",
              "      <th>Imported.COVID.cases</th>\n",
              "      <th>COVID.exposure.1000.people</th>\n",
              "      <th>X.days..decreasing.ILI.cases</th>\n",
              "      <th>Unemployment.claims.1000.people</th>\n",
              "      <th>Unemployment.rate</th>\n",
              "      <th>X..working.from.home</th>\n",
              "      <th>Cumulative.inflation.rate</th>\n",
              "      <th>COVID.death.rate</th>\n",
              "      <th>New cases/100k</th>\n",
              "      <th>positivity_rate</th>\n",
              "      <th>rolling_avg_new_cases/100k</th>\n",
              "      <th>growth_label</th>\n",
              "    </tr>\n",
              "  </thead>\n",
              "  <tbody>\n",
              "    <tr>\n",
              "      <th>0</th>\n",
              "      <td>2020-03-01</td>\n",
              "      <td>California</td>\n",
              "      <td>6001</td>\n",
              "      <td>0</td>\n",
              "      <td>Alameda County</td>\n",
              "      <td>0.0000</td>\n",
              "      <td>3.6840</td>\n",
              "      <td>58</td>\n",
              "      <td>6.0000</td>\n",
              "      <td>9.0000</td>\n",
              "      <td>15.0000</td>\n",
              "      <td>1.0000</td>\n",
              "      <td>4.0000</td>\n",
              "      <td>0.0000</td>\n",
              "      <td>860.7571</td>\n",
              "      <td>California</td>\n",
              "      <td>CA</td>\n",
              "      <td>6001</td>\n",
              "      <td>Alameda County</td>\n",
              "      <td>6</td>\n",
              "      <td>37</td>\n",
              "      <td>26</td>\n",
              "      <td>2.9300</td>\n",
              "      <td>25.4000</td>\n",
              "      <td>0.4000</td>\n",
              "      <td>36.8000</td>\n",
              "      <td>0.2500</td>\n",
              "      <td>2.6800</td>\n",
              "      <td>0</td>\n",
              "      <td>1666753</td>\n",
              "      <td>-5.1000</td>\n",
              "      <td>15.0400</td>\n",
              "      <td>19</td>\n",
              "      <td>92574</td>\n",
              "      <td>10.5000</td>\n",
              "      <td>22.5000</td>\n",
              "      <td>49.1100</td>\n",
              "      <td>1155</td>\n",
              "      <td>131</td>\n",
              "      <td>2.0500</td>\n",
              "      <td>0.2200</td>\n",
              "      <td>0.0000</td>\n",
              "      <td>0.0000</td>\n",
              "      <td>0.0000</td>\n",
              "      <td>37</td>\n",
              "      <td>54.0000</td>\n",
              "      <td>0.0000</td>\n",
              "      <td>0.0000</td>\n",
              "      <td>0.0000</td>\n",
              "      <td>0</td>\n",
              "      <td>0</td>\n",
              "      <td>0.0500</td>\n",
              "      <td>35</td>\n",
              "      <td>1.1000</td>\n",
              "      <td>5.3000</td>\n",
              "      <td>5.7000</td>\n",
              "      <td>0.6000</td>\n",
              "      <td>0.0000</td>\n",
              "      <td>0.0000</td>\n",
              "      <td>0.0000</td>\n",
              "      <td>0.0000</td>\n",
              "      <td>minimal</td>\n",
              "    </tr>\n",
              "    <tr>\n",
              "      <th>1</th>\n",
              "      <td>2020-03-02</td>\n",
              "      <td>California</td>\n",
              "      <td>6001</td>\n",
              "      <td>0</td>\n",
              "      <td>Alameda County</td>\n",
              "      <td>0.0000</td>\n",
              "      <td>6.1820</td>\n",
              "      <td>98</td>\n",
              "      <td>4.0000</td>\n",
              "      <td>7.0000</td>\n",
              "      <td>7.0000</td>\n",
              "      <td>-1.0000</td>\n",
              "      <td>3.0000</td>\n",
              "      <td>0.0000</td>\n",
              "      <td>860.7571</td>\n",
              "      <td>California</td>\n",
              "      <td>CA</td>\n",
              "      <td>6001</td>\n",
              "      <td>Alameda County</td>\n",
              "      <td>6</td>\n",
              "      <td>17</td>\n",
              "      <td>20</td>\n",
              "      <td>3.3800</td>\n",
              "      <td>28.2000</td>\n",
              "      <td>0.4000</td>\n",
              "      <td>38.1000</td>\n",
              "      <td>0.6300</td>\n",
              "      <td>2.7400</td>\n",
              "      <td>0</td>\n",
              "      <td>1666753</td>\n",
              "      <td>-2.9000</td>\n",
              "      <td>15.0400</td>\n",
              "      <td>19</td>\n",
              "      <td>92574</td>\n",
              "      <td>10.5000</td>\n",
              "      <td>22.5000</td>\n",
              "      <td>49.1100</td>\n",
              "      <td>1155</td>\n",
              "      <td>131</td>\n",
              "      <td>2.0500</td>\n",
              "      <td>0.2200</td>\n",
              "      <td>0.0000</td>\n",
              "      <td>0.0000</td>\n",
              "      <td>0.0000</td>\n",
              "      <td>38</td>\n",
              "      <td>54.0000</td>\n",
              "      <td>0.0000</td>\n",
              "      <td>0.0000</td>\n",
              "      <td>0.0000</td>\n",
              "      <td>0</td>\n",
              "      <td>0</td>\n",
              "      <td>0.0500</td>\n",
              "      <td>35</td>\n",
              "      <td>1.1000</td>\n",
              "      <td>5.3000</td>\n",
              "      <td>5.7000</td>\n",
              "      <td>0.6000</td>\n",
              "      <td>0.0000</td>\n",
              "      <td>0.0000</td>\n",
              "      <td>0.0000</td>\n",
              "      <td>0.0000</td>\n",
              "      <td>minimal</td>\n",
              "    </tr>\n",
              "    <tr>\n",
              "      <th>2</th>\n",
              "      <td>2020-03-03</td>\n",
              "      <td>California</td>\n",
              "      <td>6001</td>\n",
              "      <td>1</td>\n",
              "      <td>Alameda County</td>\n",
              "      <td>0.0000</td>\n",
              "      <td>6.2710</td>\n",
              "      <td>100</td>\n",
              "      <td>5.0000</td>\n",
              "      <td>12.0000</td>\n",
              "      <td>41.0000</td>\n",
              "      <td>0.0000</td>\n",
              "      <td>1.0000</td>\n",
              "      <td>-1.0000</td>\n",
              "      <td>860.7571</td>\n",
              "      <td>California</td>\n",
              "      <td>CA</td>\n",
              "      <td>6001</td>\n",
              "      <td>Alameda County</td>\n",
              "      <td>6</td>\n",
              "      <td>16</td>\n",
              "      <td>18</td>\n",
              "      <td>3.6100</td>\n",
              "      <td>27.1000</td>\n",
              "      <td>0.3000</td>\n",
              "      <td>32.7000</td>\n",
              "      <td>0.6700</td>\n",
              "      <td>2.9400</td>\n",
              "      <td>1</td>\n",
              "      <td>1666753</td>\n",
              "      <td>4.1000</td>\n",
              "      <td>15.0400</td>\n",
              "      <td>19</td>\n",
              "      <td>92574</td>\n",
              "      <td>10.5000</td>\n",
              "      <td>22.5000</td>\n",
              "      <td>49.1100</td>\n",
              "      <td>1155</td>\n",
              "      <td>131</td>\n",
              "      <td>2.0500</td>\n",
              "      <td>0.2200</td>\n",
              "      <td>0.0000</td>\n",
              "      <td>0.0002</td>\n",
              "      <td>0.0000</td>\n",
              "      <td>0</td>\n",
              "      <td>54.0000</td>\n",
              "      <td>0.0000</td>\n",
              "      <td>0.0000</td>\n",
              "      <td>0.0000</td>\n",
              "      <td>0</td>\n",
              "      <td>1</td>\n",
              "      <td>0.0500</td>\n",
              "      <td>42</td>\n",
              "      <td>1.1000</td>\n",
              "      <td>5.3000</td>\n",
              "      <td>5.7000</td>\n",
              "      <td>0.6000</td>\n",
              "      <td>0.0000</td>\n",
              "      <td>0.0600</td>\n",
              "      <td>0.0000</td>\n",
              "      <td>0.0000</td>\n",
              "      <td>minimal</td>\n",
              "    </tr>\n",
              "    <tr>\n",
              "      <th>3</th>\n",
              "      <td>2020-03-04</td>\n",
              "      <td>California</td>\n",
              "      <td>6001</td>\n",
              "      <td>0</td>\n",
              "      <td>Alameda County</td>\n",
              "      <td>0.0000</td>\n",
              "      <td>6.2090</td>\n",
              "      <td>99</td>\n",
              "      <td>1.0000</td>\n",
              "      <td>6.0000</td>\n",
              "      <td>23.0000</td>\n",
              "      <td>-3.0000</td>\n",
              "      <td>1.0000</td>\n",
              "      <td>0.0000</td>\n",
              "      <td>860.7571</td>\n",
              "      <td>California</td>\n",
              "      <td>CA</td>\n",
              "      <td>6001</td>\n",
              "      <td>Alameda County</td>\n",
              "      <td>6</td>\n",
              "      <td>14</td>\n",
              "      <td>18</td>\n",
              "      <td>3.5500</td>\n",
              "      <td>27.9000</td>\n",
              "      <td>0.3000</td>\n",
              "      <td>36.9000</td>\n",
              "      <td>0.6800</td>\n",
              "      <td>2.8700</td>\n",
              "      <td>0</td>\n",
              "      <td>1666753</td>\n",
              "      <td>1.7000</td>\n",
              "      <td>15.0400</td>\n",
              "      <td>19</td>\n",
              "      <td>92574</td>\n",
              "      <td>10.5000</td>\n",
              "      <td>22.5000</td>\n",
              "      <td>49.1100</td>\n",
              "      <td>1155</td>\n",
              "      <td>131</td>\n",
              "      <td>2.0500</td>\n",
              "      <td>0.2200</td>\n",
              "      <td>0.0000</td>\n",
              "      <td>0.0002</td>\n",
              "      <td>0.0000</td>\n",
              "      <td>0</td>\n",
              "      <td>54.0000</td>\n",
              "      <td>10.3000</td>\n",
              "      <td>0.0100</td>\n",
              "      <td>0.0000</td>\n",
              "      <td>0</td>\n",
              "      <td>1</td>\n",
              "      <td>0.0600</td>\n",
              "      <td>42</td>\n",
              "      <td>1.1000</td>\n",
              "      <td>5.3000</td>\n",
              "      <td>5.7000</td>\n",
              "      <td>0.6000</td>\n",
              "      <td>0.0400</td>\n",
              "      <td>0.0000</td>\n",
              "      <td>0.0020</td>\n",
              "      <td>0.0000</td>\n",
              "      <td>minimal</td>\n",
              "    </tr>\n",
              "    <tr>\n",
              "      <th>4</th>\n",
              "      <td>2020-03-05</td>\n",
              "      <td>California</td>\n",
              "      <td>6001</td>\n",
              "      <td>0</td>\n",
              "      <td>Alameda County</td>\n",
              "      <td>0.0000</td>\n",
              "      <td>6.6540</td>\n",
              "      <td>106</td>\n",
              "      <td>1.0000</td>\n",
              "      <td>6.0000</td>\n",
              "      <td>12.0000</td>\n",
              "      <td>-5.0000</td>\n",
              "      <td>-1.0000</td>\n",
              "      <td>1.0000</td>\n",
              "      <td>860.7571</td>\n",
              "      <td>California</td>\n",
              "      <td>CA</td>\n",
              "      <td>6001</td>\n",
              "      <td>Alameda County</td>\n",
              "      <td>6</td>\n",
              "      <td>15</td>\n",
              "      <td>19</td>\n",
              "      <td>3.5400</td>\n",
              "      <td>28.1000</td>\n",
              "      <td>0.3000</td>\n",
              "      <td>36.8000</td>\n",
              "      <td>0.6600</td>\n",
              "      <td>2.8800</td>\n",
              "      <td>0</td>\n",
              "      <td>1666753</td>\n",
              "      <td>2.0000</td>\n",
              "      <td>15.0400</td>\n",
              "      <td>19</td>\n",
              "      <td>92574</td>\n",
              "      <td>10.5000</td>\n",
              "      <td>22.5000</td>\n",
              "      <td>49.1100</td>\n",
              "      <td>1155</td>\n",
              "      <td>131</td>\n",
              "      <td>2.0500</td>\n",
              "      <td>0.2200</td>\n",
              "      <td>0.0000</td>\n",
              "      <td>0.0002</td>\n",
              "      <td>0.0000</td>\n",
              "      <td>0</td>\n",
              "      <td>54.0000</td>\n",
              "      <td>10.3000</td>\n",
              "      <td>0.0100</td>\n",
              "      <td>0.0000</td>\n",
              "      <td>0</td>\n",
              "      <td>1</td>\n",
              "      <td>0.0600</td>\n",
              "      <td>42</td>\n",
              "      <td>1.1000</td>\n",
              "      <td>5.3000</td>\n",
              "      <td>5.7000</td>\n",
              "      <td>0.6000</td>\n",
              "      <td>0.0400</td>\n",
              "      <td>0.0000</td>\n",
              "      <td>0.0020</td>\n",
              "      <td>0.0000</td>\n",
              "      <td>minimal</td>\n",
              "    </tr>\n",
              "  </tbody>\n",
              "</table>\n",
              "</div>"
            ],
            "text/plain": [
              "         Date Province_State  ...  rolling_avg_new_cases/100k  growth_label\n",
              "0  2020-03-01     California  ...                      0.0000       minimal\n",
              "1  2020-03-02     California  ...                      0.0000       minimal\n",
              "2  2020-03-03     California  ...                      0.0000       minimal\n",
              "3  2020-03-04     California  ...                      0.0000       minimal\n",
              "4  2020-03-05     California  ...                      0.0000       minimal\n",
              "\n",
              "[5 rows x 62 columns]"
            ]
          },
          "metadata": {
            "tags": []
          },
          "execution_count": 7
        }
      ]
    },
    {
      "cell_type": "markdown",
      "metadata": {
        "id": "dz88ruhHdbgI"
      },
      "source": [
        "## Group the data"
      ]
    },
    {
      "cell_type": "code",
      "metadata": {
        "colab": {
          "base_uri": "https://localhost:8080/",
          "height": 182
        },
        "id": "Tvb3BSTIw21s",
        "outputId": "2dfa6fbb-3187-4289-cae1-adc6540dee84"
      },
      "source": [
        "CA_superset_data['growth_code'] = CA_superset_data['growth_label'].astype('category').cat.codes\n",
        "CA_superset_data.head(2)"
      ],
      "execution_count": null,
      "outputs": [
        {
          "output_type": "execute_result",
          "data": {
            "text/html": [
              "<div>\n",
              "<style scoped>\n",
              "    .dataframe tbody tr th:only-of-type {\n",
              "        vertical-align: middle;\n",
              "    }\n",
              "\n",
              "    .dataframe tbody tr th {\n",
              "        vertical-align: top;\n",
              "    }\n",
              "\n",
              "    .dataframe thead th {\n",
              "        text-align: right;\n",
              "    }\n",
              "</style>\n",
              "<table border=\"1\" class=\"dataframe\">\n",
              "  <thead>\n",
              "    <tr style=\"text-align: right;\">\n",
              "      <th></th>\n",
              "      <th>Date</th>\n",
              "      <th>Province_State</th>\n",
              "      <th>FIPS</th>\n",
              "      <th>New cases</th>\n",
              "      <th>County Name</th>\n",
              "      <th>mask_rule_severity</th>\n",
              "      <th>m50</th>\n",
              "      <th>m50_index</th>\n",
              "      <th>retail_and_recreation_percent_change_from_baseline</th>\n",
              "      <th>grocery_and_pharmacy_percent_change_from_baseline</th>\n",
              "      <th>parks_percent_change_from_baseline</th>\n",
              "      <th>transit_stations_percent_change_from_baseline</th>\n",
              "      <th>workplaces_percent_change_from_baseline</th>\n",
              "      <th>residential_percent_change_from_baseline</th>\n",
              "      <th>PopDensity</th>\n",
              "      <th>State_Name</th>\n",
              "      <th>State</th>\n",
              "      <th>CTFIPS</th>\n",
              "      <th>CTNAME</th>\n",
              "      <th>STFIPS</th>\n",
              "      <th>Social.distancing.index</th>\n",
              "      <th>X..staying.home</th>\n",
              "      <th>Trips.person</th>\n",
              "      <th>X..out.of.county.trips</th>\n",
              "      <th>X..out.of.state.trips</th>\n",
              "      <th>Miles.person</th>\n",
              "      <th>Work.trips.person</th>\n",
              "      <th>Non.work.trips.person</th>\n",
              "      <th>New.COVID.cases</th>\n",
              "      <th>Population</th>\n",
              "      <th>X..change.in.consumption</th>\n",
              "      <th>Transit.mode.share</th>\n",
              "      <th>X..people.older.than.60</th>\n",
              "      <th>Median.income</th>\n",
              "      <th>X..African.Americans</th>\n",
              "      <th>X..Hispanic.Americans</th>\n",
              "      <th>X..Male</th>\n",
              "      <th>Employment.density</th>\n",
              "      <th>X..hot.spots.1000.people</th>\n",
              "      <th>Hospital.beds.1000.people</th>\n",
              "      <th>ICUs.1000.people</th>\n",
              "      <th>X..contact.tracing.workers.1000.people</th>\n",
              "      <th>New.cases.1000.people</th>\n",
              "      <th>Active.cases.1000.people</th>\n",
              "      <th>X.days..decreasing.COVID.cases</th>\n",
              "      <th>X..hospital.bed.utilization</th>\n",
              "      <th>Testing.capacity</th>\n",
              "      <th>Tests.done.1000.people</th>\n",
              "      <th>X..ICU.utilization</th>\n",
              "      <th>Ventilator.shortage</th>\n",
              "      <th>Imported.COVID.cases</th>\n",
              "      <th>COVID.exposure.1000.people</th>\n",
              "      <th>X.days..decreasing.ILI.cases</th>\n",
              "      <th>Unemployment.claims.1000.people</th>\n",
              "      <th>Unemployment.rate</th>\n",
              "      <th>X..working.from.home</th>\n",
              "      <th>Cumulative.inflation.rate</th>\n",
              "      <th>COVID.death.rate</th>\n",
              "      <th>New cases/100k</th>\n",
              "      <th>positivity_rate</th>\n",
              "      <th>rolling_avg_new_cases/100k</th>\n",
              "      <th>growth_label</th>\n",
              "      <th>growth_code</th>\n",
              "    </tr>\n",
              "  </thead>\n",
              "  <tbody>\n",
              "    <tr>\n",
              "      <th>0</th>\n",
              "      <td>2020-03-01</td>\n",
              "      <td>California</td>\n",
              "      <td>6001</td>\n",
              "      <td>0</td>\n",
              "      <td>Alameda County</td>\n",
              "      <td>0.0000</td>\n",
              "      <td>3.6840</td>\n",
              "      <td>58</td>\n",
              "      <td>6.0000</td>\n",
              "      <td>9.0000</td>\n",
              "      <td>15.0000</td>\n",
              "      <td>1.0000</td>\n",
              "      <td>4.0000</td>\n",
              "      <td>0.0000</td>\n",
              "      <td>860.7571</td>\n",
              "      <td>California</td>\n",
              "      <td>CA</td>\n",
              "      <td>6001</td>\n",
              "      <td>Alameda County</td>\n",
              "      <td>6</td>\n",
              "      <td>37</td>\n",
              "      <td>26</td>\n",
              "      <td>2.9300</td>\n",
              "      <td>25.4000</td>\n",
              "      <td>0.4000</td>\n",
              "      <td>36.8000</td>\n",
              "      <td>0.2500</td>\n",
              "      <td>2.6800</td>\n",
              "      <td>0</td>\n",
              "      <td>1666753</td>\n",
              "      <td>-5.1000</td>\n",
              "      <td>15.0400</td>\n",
              "      <td>19</td>\n",
              "      <td>92574</td>\n",
              "      <td>10.5000</td>\n",
              "      <td>22.5000</td>\n",
              "      <td>49.1100</td>\n",
              "      <td>1155</td>\n",
              "      <td>131</td>\n",
              "      <td>2.0500</td>\n",
              "      <td>0.2200</td>\n",
              "      <td>0.0000</td>\n",
              "      <td>0.0000</td>\n",
              "      <td>0.0000</td>\n",
              "      <td>37</td>\n",
              "      <td>54.0000</td>\n",
              "      <td>0.0000</td>\n",
              "      <td>0.0000</td>\n",
              "      <td>0.0000</td>\n",
              "      <td>0</td>\n",
              "      <td>0</td>\n",
              "      <td>0.0500</td>\n",
              "      <td>35</td>\n",
              "      <td>1.1000</td>\n",
              "      <td>5.3000</td>\n",
              "      <td>5.7000</td>\n",
              "      <td>0.6000</td>\n",
              "      <td>0.0000</td>\n",
              "      <td>0.0000</td>\n",
              "      <td>0.0000</td>\n",
              "      <td>0.0000</td>\n",
              "      <td>minimal</td>\n",
              "      <td>0</td>\n",
              "    </tr>\n",
              "    <tr>\n",
              "      <th>1</th>\n",
              "      <td>2020-03-02</td>\n",
              "      <td>California</td>\n",
              "      <td>6001</td>\n",
              "      <td>0</td>\n",
              "      <td>Alameda County</td>\n",
              "      <td>0.0000</td>\n",
              "      <td>6.1820</td>\n",
              "      <td>98</td>\n",
              "      <td>4.0000</td>\n",
              "      <td>7.0000</td>\n",
              "      <td>7.0000</td>\n",
              "      <td>-1.0000</td>\n",
              "      <td>3.0000</td>\n",
              "      <td>0.0000</td>\n",
              "      <td>860.7571</td>\n",
              "      <td>California</td>\n",
              "      <td>CA</td>\n",
              "      <td>6001</td>\n",
              "      <td>Alameda County</td>\n",
              "      <td>6</td>\n",
              "      <td>17</td>\n",
              "      <td>20</td>\n",
              "      <td>3.3800</td>\n",
              "      <td>28.2000</td>\n",
              "      <td>0.4000</td>\n",
              "      <td>38.1000</td>\n",
              "      <td>0.6300</td>\n",
              "      <td>2.7400</td>\n",
              "      <td>0</td>\n",
              "      <td>1666753</td>\n",
              "      <td>-2.9000</td>\n",
              "      <td>15.0400</td>\n",
              "      <td>19</td>\n",
              "      <td>92574</td>\n",
              "      <td>10.5000</td>\n",
              "      <td>22.5000</td>\n",
              "      <td>49.1100</td>\n",
              "      <td>1155</td>\n",
              "      <td>131</td>\n",
              "      <td>2.0500</td>\n",
              "      <td>0.2200</td>\n",
              "      <td>0.0000</td>\n",
              "      <td>0.0000</td>\n",
              "      <td>0.0000</td>\n",
              "      <td>38</td>\n",
              "      <td>54.0000</td>\n",
              "      <td>0.0000</td>\n",
              "      <td>0.0000</td>\n",
              "      <td>0.0000</td>\n",
              "      <td>0</td>\n",
              "      <td>0</td>\n",
              "      <td>0.0500</td>\n",
              "      <td>35</td>\n",
              "      <td>1.1000</td>\n",
              "      <td>5.3000</td>\n",
              "      <td>5.7000</td>\n",
              "      <td>0.6000</td>\n",
              "      <td>0.0000</td>\n",
              "      <td>0.0000</td>\n",
              "      <td>0.0000</td>\n",
              "      <td>0.0000</td>\n",
              "      <td>minimal</td>\n",
              "      <td>0</td>\n",
              "    </tr>\n",
              "  </tbody>\n",
              "</table>\n",
              "</div>"
            ],
            "text/plain": [
              "         Date Province_State  ...  growth_label  growth_code\n",
              "0  2020-03-01     California  ...       minimal            0\n",
              "1  2020-03-02     California  ...       minimal            0\n",
              "\n",
              "[2 rows x 63 columns]"
            ]
          },
          "metadata": {
            "tags": []
          },
          "execution_count": 9
        }
      ]
    },
    {
      "cell_type": "code",
      "metadata": {
        "colab": {
          "base_uri": "https://localhost:8080/"
        },
        "id": "ulNUOh09dni3",
        "outputId": "0de61ddf-ce53-430b-c075-13c85ad46e7b"
      },
      "source": [
        "CA_superset_data.columns"
      ],
      "execution_count": null,
      "outputs": [
        {
          "output_type": "execute_result",
          "data": {
            "text/plain": [
              "Index(['Date', 'Province_State', 'FIPS', 'New cases', 'County Name',\n",
              "       'mask_rule_severity', 'm50', 'm50_index',\n",
              "       'retail_and_recreation_percent_change_from_baseline',\n",
              "       'grocery_and_pharmacy_percent_change_from_baseline',\n",
              "       'parks_percent_change_from_baseline',\n",
              "       'transit_stations_percent_change_from_baseline',\n",
              "       'workplaces_percent_change_from_baseline',\n",
              "       'residential_percent_change_from_baseline', 'PopDensity', 'State_Name',\n",
              "       'State', 'CTFIPS', 'CTNAME', 'STFIPS', 'Social.distancing.index',\n",
              "       'X..staying.home', 'Trips.person', 'X..out.of.county.trips',\n",
              "       'X..out.of.state.trips', 'Miles.person', 'Work.trips.person',\n",
              "       'Non.work.trips.person', 'New.COVID.cases', 'Population',\n",
              "       'X..change.in.consumption', 'Transit.mode.share',\n",
              "       'X..people.older.than.60', 'Median.income', 'X..African.Americans',\n",
              "       'X..Hispanic.Americans', 'X..Male', 'Employment.density',\n",
              "       'X..hot.spots.1000.people', 'Hospital.beds.1000.people',\n",
              "       'ICUs.1000.people', 'X..contact.tracing.workers.1000.people',\n",
              "       'New.cases.1000.people', 'Active.cases.1000.people',\n",
              "       'X.days..decreasing.COVID.cases', 'X..hospital.bed.utilization',\n",
              "       'Testing.capacity', 'Tests.done.1000.people', 'X..ICU.utilization',\n",
              "       'Ventilator.shortage', 'Imported.COVID.cases',\n",
              "       'COVID.exposure.1000.people', 'X.days..decreasing.ILI.cases',\n",
              "       'Unemployment.claims.1000.people', 'Unemployment.rate',\n",
              "       'X..working.from.home', 'Cumulative.inflation.rate', 'COVID.death.rate',\n",
              "       'New cases/100k', 'positivity_rate', 'rolling_avg_new_cases/100k',\n",
              "       'growth_label', 'growth_code'],\n",
              "      dtype='object')"
            ]
          },
          "metadata": {
            "tags": []
          },
          "execution_count": 10
        }
      ]
    },
    {
      "cell_type": "markdown",
      "metadata": {
        "id": "s1DxBJk9wopZ"
      },
      "source": [
        "## Below are the segmented columns as per category"
      ]
    },
    {
      "cell_type": "code",
      "metadata": {
        "id": "ZSl-K2oLdrlI"
      },
      "source": [
        "x_col_demographics = ['FIPS','PopDensity','X..people.older.than.60',\r\n",
        "                      'Median.income', 'X..African.Americans',\r\n",
        "                      'X..Hispanic.Americans', 'X..Male','Date','New cases/100k']\r\n",
        "\r\n",
        "x_col_demographics_feature_imp = ['X..people.older.than.60','Median.income','X..Male',\r\n",
        "                                 'FIPS','X..African.Americans','Date','New cases/100k']"
      ],
      "execution_count": null,
      "outputs": []
    },
    {
      "cell_type": "code",
      "metadata": {
        "id": "luR-aqZyfIAa"
      },
      "source": [
        "x_col_hospitalization_testing = ['Hospital.beds.1000.people',\r\n",
        "       'ICUs.1000.people', \r\n",
        "       'X..hospital.bed.utilization',\r\n",
        "       'Testing.capacity', 'Tests.done.1000.people', 'X..ICU.utilization',\r\n",
        "       'Ventilator.shortage','positivity_rate',\r\n",
        "       'rolling_avg_new_cases/100k'\t,'growth_code','Date','New cases/100k'] #'X..contact.tracing.workers.1000.people',\r\n",
        "\r\n",
        "x_col_hospitalization_feature_imp = ['X..hospital.bed.utilization','positivity_rate','Ventilator.shortage',\r\n",
        "                                     'positivity_rate','Testing.capacity','growth_code',\r\n",
        "                                     'rolling_avg_new_cases/100k','Date','New cases/100k']\r\n"
      ],
      "execution_count": null,
      "outputs": []
    },
    {
      "cell_type": "code",
      "metadata": {
        "id": "AKJ_Xx1RfxLL"
      },
      "source": [
        "x_col_mobility = ['retail_and_recreation_percent_change_from_baseline',\r\n",
        "       'grocery_and_pharmacy_percent_change_from_baseline','parks_percent_change_from_baseline',\r\n",
        "       'transit_stations_percent_change_from_baseline','workplaces_percent_change_from_baseline',\r\n",
        "       'residential_percent_change_from_baseline',\r\n",
        "       'X..staying.home', 'Trips.person', 'X..out.of.county.trips',\r\n",
        "       'X..out.of.state.trips', 'Miles.person', 'Work.trips.person',\r\n",
        "       'Non.work.trips.person','X..working.from.home','Date','New cases/100k']\r\n",
        "\r\n",
        "x_col_mobility_feature_imp = ['retail_and_recreation_percent_change_from_baseline','Trips.person',\r\n",
        "                              'X..working.from.home','parks_percent_change_from_baseline',\r\n",
        "                              'X..out.of.county.trips',\r\n",
        "                              'X..out.of.state.trips','X..working.from.home','Miles.person',\r\n",
        "                              'grocery_and_pharmacy_percent_change_from_baseline','transit_stations_percent_change_from_baseline',\r\n",
        "                              'retail_and_recreation_percent_change_from_baseline','Date','New cases/100k']"
      ],
      "execution_count": null,
      "outputs": []
    },
    {
      "cell_type": "code",
      "metadata": {
        "id": "-TTb78Pegu9X"
      },
      "source": [
        "x_col_socialdistancing = ['m50', 'm50_index','Social.distancing.index','Date','New cases/100k']"
      ],
      "execution_count": null,
      "outputs": []
    },
    {
      "cell_type": "code",
      "metadata": {
        "id": "-cKerz6Lg87o"
      },
      "source": [
        "x_col_maskrule = ['mask_rule_severity','Date','New cases/100k']"
      ],
      "execution_count": null,
      "outputs": []
    },
    {
      "cell_type": "markdown",
      "metadata": {
        "id": "cbtvxoJClYz-"
      },
      "source": [
        "# LSTM: Demographic Group"
      ]
    },
    {
      "cell_type": "code",
      "metadata": {
        "id": "Pt7fcXxd2vu5"
      },
      "source": [
        "X_cols_all = x_col_demographics\n",
        "\n",
        "X_cols_feature_selected = x_col_demographics_feature_imp"
      ],
      "execution_count": null,
      "outputs": []
    },
    {
      "cell_type": "code",
      "metadata": {
        "colab": {
          "base_uri": "https://localhost:8080/",
          "height": 360
        },
        "id": "hstwWs6s3Ht-",
        "outputId": "6a562020-b9e6-48f7-cb47-86ca1f1f416b"
      },
      "source": [
        "LA_combined_data_all = CA_superset_data[CA_superset_data['County Name'] == 'Los Angeles County'][X_cols_all]\n",
        "print(LA_combined_data_all.shape)\n",
        "\n",
        "LA_combined_data_featured = CA_superset_data[CA_superset_data['County Name'] == 'Los Angeles County'][X_cols_feature_selected]\n",
        "print(LA_combined_data_featured.shape)\n",
        "LA_combined_data_all.head(5)"
      ],
      "execution_count": null,
      "outputs": [
        {
          "output_type": "stream",
          "text": [
            "(292, 9)\n",
            "(292, 7)\n"
          ],
          "name": "stdout"
        },
        {
          "output_type": "execute_result",
          "data": {
            "text/html": [
              "<div>\n",
              "<style scoped>\n",
              "    .dataframe tbody tr th:only-of-type {\n",
              "        vertical-align: middle;\n",
              "    }\n",
              "\n",
              "    .dataframe tbody tr th {\n",
              "        vertical-align: top;\n",
              "    }\n",
              "\n",
              "    .dataframe thead th {\n",
              "        text-align: right;\n",
              "    }\n",
              "</style>\n",
              "<table border=\"1\" class=\"dataframe\">\n",
              "  <thead>\n",
              "    <tr style=\"text-align: right;\">\n",
              "      <th></th>\n",
              "      <th>FIPS</th>\n",
              "      <th>PopDensity</th>\n",
              "      <th>X..people.older.than.60</th>\n",
              "      <th>Median.income</th>\n",
              "      <th>X..African.Americans</th>\n",
              "      <th>X..Hispanic.Americans</th>\n",
              "      <th>X..Male</th>\n",
              "      <th>Date</th>\n",
              "      <th>New cases/100k</th>\n",
              "    </tr>\n",
              "  </thead>\n",
              "  <tbody>\n",
              "    <tr>\n",
              "      <th>4804</th>\n",
              "      <td>6037</td>\n",
              "      <td>960.7428</td>\n",
              "      <td>18</td>\n",
              "      <td>64251</td>\n",
              "      <td>7.9000</td>\n",
              "      <td>48.5000</td>\n",
              "      <td>49.2800</td>\n",
              "      <td>2020-03-01</td>\n",
              "      <td>0.0000</td>\n",
              "    </tr>\n",
              "    <tr>\n",
              "      <th>4805</th>\n",
              "      <td>6037</td>\n",
              "      <td>960.7428</td>\n",
              "      <td>18</td>\n",
              "      <td>64251</td>\n",
              "      <td>7.9000</td>\n",
              "      <td>48.5000</td>\n",
              "      <td>49.2800</td>\n",
              "      <td>2020-03-02</td>\n",
              "      <td>0.0000</td>\n",
              "    </tr>\n",
              "    <tr>\n",
              "      <th>4806</th>\n",
              "      <td>6037</td>\n",
              "      <td>960.7428</td>\n",
              "      <td>18</td>\n",
              "      <td>64251</td>\n",
              "      <td>7.9000</td>\n",
              "      <td>48.5000</td>\n",
              "      <td>49.2800</td>\n",
              "      <td>2020-03-03</td>\n",
              "      <td>0.0000</td>\n",
              "    </tr>\n",
              "    <tr>\n",
              "      <th>4807</th>\n",
              "      <td>6037</td>\n",
              "      <td>960.7428</td>\n",
              "      <td>18</td>\n",
              "      <td>64251</td>\n",
              "      <td>7.9000</td>\n",
              "      <td>48.5000</td>\n",
              "      <td>49.2800</td>\n",
              "      <td>2020-03-04</td>\n",
              "      <td>0.0594</td>\n",
              "    </tr>\n",
              "    <tr>\n",
              "      <th>4808</th>\n",
              "      <td>6037</td>\n",
              "      <td>960.7428</td>\n",
              "      <td>18</td>\n",
              "      <td>64251</td>\n",
              "      <td>7.9000</td>\n",
              "      <td>48.5000</td>\n",
              "      <td>49.2800</td>\n",
              "      <td>2020-03-05</td>\n",
              "      <td>0.0396</td>\n",
              "    </tr>\n",
              "  </tbody>\n",
              "</table>\n",
              "</div>"
            ],
            "text/plain": [
              "      FIPS  PopDensity  ...        Date  New cases/100k\n",
              "4804  6037    960.7428  ...  2020-03-01          0.0000\n",
              "4805  6037    960.7428  ...  2020-03-02          0.0000\n",
              "4806  6037    960.7428  ...  2020-03-03          0.0000\n",
              "4807  6037    960.7428  ...  2020-03-04          0.0594\n",
              "4808  6037    960.7428  ...  2020-03-05          0.0396\n",
              "\n",
              "[5 rows x 9 columns]"
            ]
          },
          "metadata": {
            "tags": []
          },
          "execution_count": 27
        }
      ]
    },
    {
      "cell_type": "code",
      "metadata": {
        "id": "aGVzYJFr4Mjg"
      },
      "source": [
        "from datetime import datetime\n",
        "# load data\n",
        "def parse(x):\n",
        "\treturn datetime.strptime(x, '%Y-%m-%d')\n",
        " \n",
        "def datetime_to_float(d):\n",
        "    date_time_obj = datetime.strptime(d, '%Y-%m-%d')\n",
        "    return date_time_obj.timestamp()"
      ],
      "execution_count": null,
      "outputs": []
    },
    {
      "cell_type": "code",
      "metadata": {
        "colab": {
          "base_uri": "https://localhost:8080/"
        },
        "id": "ZmXCI5gI6vfs",
        "outputId": "d58bbfa1-b763-4cdb-c0a5-08d508ebbf79"
      },
      "source": [
        "len(LA_combined_data_featured.columns)"
      ],
      "execution_count": null,
      "outputs": [
        {
          "output_type": "execute_result",
          "data": {
            "text/plain": [
              "7"
            ]
          },
          "metadata": {
            "tags": []
          },
          "execution_count": 29
        }
      ]
    },
    {
      "cell_type": "code",
      "metadata": {
        "colab": {
          "base_uri": "https://localhost:8080/",
          "height": 204
        },
        "id": "v5nndUDn4BHm",
        "outputId": "39c63bd3-602f-4e50-bb91-2ff5d5bbc5dc"
      },
      "source": [
        "LA_combined_data_featured['Date'] = LA_combined_data_featured['Date'].apply(lambda x: datetime_to_float(x))\n",
        "LA_combined_data_all['Date'] = LA_combined_data_all['Date'].apply(lambda x: datetime_to_float(x))\n",
        "\n",
        "#Harris_combined_data.index.name = 'Date'\n",
        "LA_combined_data_featured.head()"
      ],
      "execution_count": null,
      "outputs": [
        {
          "output_type": "execute_result",
          "data": {
            "text/html": [
              "<div>\n",
              "<style scoped>\n",
              "    .dataframe tbody tr th:only-of-type {\n",
              "        vertical-align: middle;\n",
              "    }\n",
              "\n",
              "    .dataframe tbody tr th {\n",
              "        vertical-align: top;\n",
              "    }\n",
              "\n",
              "    .dataframe thead th {\n",
              "        text-align: right;\n",
              "    }\n",
              "</style>\n",
              "<table border=\"1\" class=\"dataframe\">\n",
              "  <thead>\n",
              "    <tr style=\"text-align: right;\">\n",
              "      <th></th>\n",
              "      <th>X..people.older.than.60</th>\n",
              "      <th>Median.income</th>\n",
              "      <th>X..Male</th>\n",
              "      <th>FIPS</th>\n",
              "      <th>X..African.Americans</th>\n",
              "      <th>Date</th>\n",
              "      <th>New cases/100k</th>\n",
              "    </tr>\n",
              "  </thead>\n",
              "  <tbody>\n",
              "    <tr>\n",
              "      <th>4804</th>\n",
              "      <td>18</td>\n",
              "      <td>64251</td>\n",
              "      <td>49.2800</td>\n",
              "      <td>6037</td>\n",
              "      <td>7.9000</td>\n",
              "      <td>1583020800.0000</td>\n",
              "      <td>0.0000</td>\n",
              "    </tr>\n",
              "    <tr>\n",
              "      <th>4805</th>\n",
              "      <td>18</td>\n",
              "      <td>64251</td>\n",
              "      <td>49.2800</td>\n",
              "      <td>6037</td>\n",
              "      <td>7.9000</td>\n",
              "      <td>1583107200.0000</td>\n",
              "      <td>0.0000</td>\n",
              "    </tr>\n",
              "    <tr>\n",
              "      <th>4806</th>\n",
              "      <td>18</td>\n",
              "      <td>64251</td>\n",
              "      <td>49.2800</td>\n",
              "      <td>6037</td>\n",
              "      <td>7.9000</td>\n",
              "      <td>1583193600.0000</td>\n",
              "      <td>0.0000</td>\n",
              "    </tr>\n",
              "    <tr>\n",
              "      <th>4807</th>\n",
              "      <td>18</td>\n",
              "      <td>64251</td>\n",
              "      <td>49.2800</td>\n",
              "      <td>6037</td>\n",
              "      <td>7.9000</td>\n",
              "      <td>1583280000.0000</td>\n",
              "      <td>0.0594</td>\n",
              "    </tr>\n",
              "    <tr>\n",
              "      <th>4808</th>\n",
              "      <td>18</td>\n",
              "      <td>64251</td>\n",
              "      <td>49.2800</td>\n",
              "      <td>6037</td>\n",
              "      <td>7.9000</td>\n",
              "      <td>1583366400.0000</td>\n",
              "      <td>0.0396</td>\n",
              "    </tr>\n",
              "  </tbody>\n",
              "</table>\n",
              "</div>"
            ],
            "text/plain": [
              "      X..people.older.than.60  Median.income  ...            Date  New cases/100k\n",
              "4804                       18          64251  ... 1583020800.0000          0.0000\n",
              "4805                       18          64251  ... 1583107200.0000          0.0000\n",
              "4806                       18          64251  ... 1583193600.0000          0.0000\n",
              "4807                       18          64251  ... 1583280000.0000          0.0594\n",
              "4808                       18          64251  ... 1583366400.0000          0.0396\n",
              "\n",
              "[5 rows x 7 columns]"
            ]
          },
          "metadata": {
            "tags": []
          },
          "execution_count": 30
        }
      ]
    },
    {
      "cell_type": "code",
      "metadata": {
        "colab": {
          "base_uri": "https://localhost:8080/"
        },
        "id": "Tz-elIxItS42",
        "outputId": "9d1c245b-0b6f-4c6e-e88f-030ec34142b0"
      },
      "source": [
        "print(len(LA_combined_data_featured.columns))\n",
        "LA_combined_data_featured.dtypes"
      ],
      "execution_count": null,
      "outputs": [
        {
          "output_type": "stream",
          "text": [
            "7\n"
          ],
          "name": "stdout"
        },
        {
          "output_type": "execute_result",
          "data": {
            "text/plain": [
              "X..people.older.than.60      int64\n",
              "Median.income                int64\n",
              "X..Male                    float64\n",
              "FIPS                         int64\n",
              "X..African.Americans       float64\n",
              "Date                       float64\n",
              "New cases/100k             float64\n",
              "dtype: object"
            ]
          },
          "metadata": {
            "tags": []
          },
          "execution_count": 31
        }
      ]
    },
    {
      "cell_type": "markdown",
      "metadata": {
        "id": "G6ZZezSa4dLQ"
      },
      "source": [
        "## Preprocessing data for LSTM"
      ]
    },
    {
      "cell_type": "code",
      "metadata": {
        "id": "skQx3frs5lWf"
      },
      "source": [
        "LA_combined_data_all_selected = LA_combined_data_all[X_cols_all]\n",
        "LA_combined_data_featured_selected = LA_combined_data_featured[X_cols_feature_selected]"
      ],
      "execution_count": null,
      "outputs": []
    },
    {
      "cell_type": "code",
      "metadata": {
        "id": "Zc1ijcNL45mk"
      },
      "source": [
        "\n",
        "# prepare data for lstm\n",
        "from pandas import read_csv\n",
        "from pandas import DataFrame\n",
        "from pandas import concat\n",
        "from sklearn.preprocessing import LabelEncoder\n",
        "from sklearn.preprocessing import MinMaxScaler\n",
        " \n",
        "# convert series to supervised learning\n",
        "def series_to_supervised(data, n_in=1, n_out=1, dropnan=True):\n",
        "\tn_vars = 1 if type(data) is list else data.shape[1]\n",
        "\tdf = DataFrame(data)\n",
        "\tcols, names = list(), list()\n",
        "\t# input sequence (t-n, ... t-1)\n",
        "\tfor i in range(n_in, 0, -1):\n",
        "\t\tcols.append(df.shift(i))\n",
        "\t\tnames += [('var%d(t-%d)' % (j+1, i)) for j in range(n_vars)]\n",
        "\t# forecast sequence (t, t+1, ... t+n)\n",
        "\tfor i in range(0, n_out):\n",
        "\t\tcols.append(df.shift(-i))\n",
        "\t\tif i == 0:\n",
        "\t\t\tnames += [('var%d(t)' % (j+1)) for j in range(n_vars)]\n",
        "\t\telse:\n",
        "\t\t\tnames += [('var%d(t+%d)' % (j+1, i)) for j in range(n_vars)]\n",
        "\t# put it all together\n",
        "\tagg = concat(cols, axis=1)\n",
        "\tagg.columns = names\n",
        "\t# drop rows with NaN values\n",
        "\tif dropnan:\n",
        "\t\tagg.dropna(inplace=True)\n",
        "\treturn agg"
      ],
      "execution_count": null,
      "outputs": []
    },
    {
      "cell_type": "markdown",
      "metadata": {
        "id": "t3heHKNijDjM"
      },
      "source": [
        "## All values for CA training data"
      ]
    },
    {
      "cell_type": "code",
      "metadata": {
        "colab": {
          "base_uri": "https://localhost:8080/"
        },
        "id": "p7WIkt3l4OCu",
        "outputId": "6487a911-70b3-4a7e-81c6-c52639678591"
      },
      "source": [
        "values = LA_combined_data_all_selected.values\n",
        "# integer encode direction\n",
        "encoder = LabelEncoder()\n",
        "values[:,len(X_cols_all)-1] = encoder.fit_transform(values[:,len(X_cols_all)-1])\n",
        "# ensure all data is float\n",
        "values = values.astype('float32')\n",
        "# normalize features\n",
        "scaler = MinMaxScaler(feature_range=(0, 1))\n",
        "scaled = scaler.fit_transform(values)\n",
        "# frame as supervised learning\n",
        "reframed = series_to_supervised(scaled, 1, 1)\n",
        "# drop columns we don't want to predict\n",
        "#reframed.drop(reframed.columns[[9,10,11,12,13,14,15]], axis=1, inplace=True)\n",
        "print(reframed.head())"
      ],
      "execution_count": null,
      "outputs": [
        {
          "output_type": "stream",
          "text": [
            "   var1(t-1)  var2(t-1)  var3(t-1)  ...  var7(t)  var8(t)  var9(t)\n",
            "1     0.0000     0.0000     0.0000  ...   0.0000   0.0033   0.0000\n",
            "2     0.0000     0.0000     0.0000  ...   0.0000   0.0066   0.0000\n",
            "3     0.0000     0.0000     0.0000  ...   0.0000   0.0099   0.0186\n",
            "4     0.0000     0.0000     0.0000  ...   0.0000   0.0132   0.0112\n",
            "5     0.0000     0.0000     0.0000  ...   0.0000   0.0166   0.0074\n",
            "\n",
            "[5 rows x 18 columns]\n"
          ],
          "name": "stdout"
        }
      ]
    },
    {
      "cell_type": "markdown",
      "metadata": {
        "id": "1tqQokoY4l1R"
      },
      "source": [
        "## Train Test Split"
      ]
    },
    {
      "cell_type": "code",
      "metadata": {
        "colab": {
          "base_uri": "https://localhost:8080/"
        },
        "id": "ZrYxatVf8NUr",
        "outputId": "efcf5cce-9db2-48e8-94ec-36c72f6a3191"
      },
      "source": [
        "values.shape[0]"
      ],
      "execution_count": null,
      "outputs": [
        {
          "output_type": "execute_result",
          "data": {
            "text/plain": [
              "292"
            ]
          },
          "metadata": {
            "tags": []
          },
          "execution_count": 35
        }
      ]
    },
    {
      "cell_type": "code",
      "metadata": {
        "colab": {
          "base_uri": "https://localhost:8080/"
        },
        "id": "J3BradOz4ilu",
        "outputId": "d4071982-f0ae-4ccc-c2bb-1b5a72ec2e88"
      },
      "source": [
        "\n",
        "# split into train and test sets\n",
        "values = reframed.values\n",
        "rows_count = values.shape[0]\n",
        "# split the 1/5 value\n",
        "train_split = rows_count//5\n",
        "\n",
        "n_train_hours = train_split * 4\n",
        "\n",
        "print(n_train_hours)\n",
        "print('values shape ',values.shape)\n",
        "train = values[:n_train_hours, :]\n",
        "test = values[n_train_hours:, :]\n",
        "# split into input and outputs\n",
        "train_X, train_y = train[:, :-1], train[:, -1]\n",
        "test_X, test_y = test[:, :-1], test[:, -1]\n",
        "# reshape input to be 3D [samples, timesteps, features]\n",
        "train_X = train_X.reshape((train_X.shape[0], 1, train_X.shape[1]))\n",
        "test_X = test_X.reshape((test_X.shape[0], 1, test_X.shape[1]))\n",
        "print(train_X.shape, train_y.shape, test_X.shape, test_y.shape)"
      ],
      "execution_count": null,
      "outputs": [
        {
          "output_type": "stream",
          "text": [
            "232\n",
            "values shape  (291, 18)\n",
            "(232, 1, 17) (232,) (59, 1, 17) (59,)\n"
          ],
          "name": "stdout"
        }
      ]
    },
    {
      "cell_type": "markdown",
      "metadata": {
        "id": "F_jMzaXy4q0d"
      },
      "source": [
        "## Training LSTM"
      ]
    },
    {
      "cell_type": "code",
      "metadata": {
        "colab": {
          "base_uri": "https://localhost:8080/",
          "height": 1000
        },
        "id": "F8tOKWVO4oJk",
        "outputId": "afb0964b-a777-43a8-8906-f69bbf99948e"
      },
      "source": [
        "...\n",
        "# design network\n",
        "model = Sequential()\n",
        "model.add(LSTM(50, input_shape=(train_X.shape[1], train_X.shape[2])))\n",
        "model.add(Dense(1))\n",
        "model.compile(loss='mae', optimizer='adam')\n",
        "# fit network\n",
        "history = model.fit(train_X, train_y, epochs=100, batch_size=72, validation_data=(test_X, test_y), verbose=2, shuffle=False)\n"
      ],
      "execution_count": null,
      "outputs": [
        {
          "output_type": "stream",
          "text": [
            "Epoch 1/100\n",
            "4/4 - 3s - loss: 0.4098 - val_loss: 0.7788\n",
            "Epoch 2/100\n",
            "4/4 - 0s - loss: 0.3857 - val_loss: 0.7408\n",
            "Epoch 3/100\n",
            "4/4 - 0s - loss: 0.3625 - val_loss: 0.7027\n",
            "Epoch 4/100\n",
            "4/4 - 0s - loss: 0.3402 - val_loss: 0.6645\n",
            "Epoch 5/100\n",
            "4/4 - 0s - loss: 0.3188 - val_loss: 0.6259\n",
            "Epoch 6/100\n",
            "4/4 - 0s - loss: 0.2982 - val_loss: 0.5870\n",
            "Epoch 7/100\n",
            "4/4 - 0s - loss: 0.2788 - val_loss: 0.5489\n",
            "Epoch 8/100\n",
            "4/4 - 0s - loss: 0.2601 - val_loss: 0.5109\n",
            "Epoch 9/100\n",
            "4/4 - 0s - loss: 0.2421 - val_loss: 0.4731\n",
            "Epoch 10/100\n",
            "4/4 - 0s - loss: 0.2253 - val_loss: 0.4357\n",
            "Epoch 11/100\n",
            "4/4 - 0s - loss: 0.2111 - val_loss: 0.3999\n",
            "Epoch 12/100\n",
            "4/4 - 0s - loss: 0.1996 - val_loss: 0.3666\n",
            "Epoch 13/100\n",
            "4/4 - 0s - loss: 0.1910 - val_loss: 0.3369\n",
            "Epoch 14/100\n",
            "4/4 - 0s - loss: 0.1852 - val_loss: 0.3124\n",
            "Epoch 15/100\n",
            "4/4 - 0s - loss: 0.1810 - val_loss: 0.2925\n",
            "Epoch 16/100\n",
            "4/4 - 0s - loss: 0.1782 - val_loss: 0.2772\n",
            "Epoch 17/100\n",
            "4/4 - 0s - loss: 0.1763 - val_loss: 0.2670\n",
            "Epoch 18/100\n",
            "4/4 - 0s - loss: 0.1750 - val_loss: 0.2607\n",
            "Epoch 19/100\n",
            "4/4 - 0s - loss: 0.1741 - val_loss: 0.2570\n",
            "Epoch 20/100\n",
            "4/4 - 0s - loss: 0.1734 - val_loss: 0.2554\n",
            "Epoch 21/100\n",
            "4/4 - 0s - loss: 0.1729 - val_loss: 0.2551\n",
            "Epoch 22/100\n",
            "4/4 - 0s - loss: 0.1725 - val_loss: 0.2556\n",
            "Epoch 23/100\n",
            "4/4 - 0s - loss: 0.1721 - val_loss: 0.2565\n",
            "Epoch 24/100\n",
            "4/4 - 0s - loss: 0.1717 - val_loss: 0.2574\n",
            "Epoch 25/100\n",
            "4/4 - 0s - loss: 0.1713 - val_loss: 0.2583\n",
            "Epoch 26/100\n",
            "4/4 - 0s - loss: 0.1709 - val_loss: 0.2592\n",
            "Epoch 27/100\n",
            "4/4 - 0s - loss: 0.1706 - val_loss: 0.2600\n",
            "Epoch 28/100\n",
            "4/4 - 0s - loss: 0.1702 - val_loss: 0.2607\n",
            "Epoch 29/100\n",
            "4/4 - 0s - loss: 0.1698 - val_loss: 0.2614\n",
            "Epoch 30/100\n",
            "4/4 - 0s - loss: 0.1694 - val_loss: 0.2620\n",
            "Epoch 31/100\n",
            "4/4 - 0s - loss: 0.1690 - val_loss: 0.2625\n",
            "Epoch 32/100\n",
            "4/4 - 0s - loss: 0.1686 - val_loss: 0.2626\n",
            "Epoch 33/100\n",
            "4/4 - 0s - loss: 0.1681 - val_loss: 0.2616\n",
            "Epoch 34/100\n",
            "4/4 - 0s - loss: 0.1675 - val_loss: 0.2598\n",
            "Epoch 35/100\n",
            "4/4 - 0s - loss: 0.1668 - val_loss: 0.2578\n",
            "Epoch 36/100\n",
            "4/4 - 0s - loss: 0.1661 - val_loss: 0.2566\n",
            "Epoch 37/100\n",
            "4/4 - 0s - loss: 0.1655 - val_loss: 0.2555\n",
            "Epoch 38/100\n",
            "4/4 - 0s - loss: 0.1649 - val_loss: 0.2540\n",
            "Epoch 39/100\n",
            "4/4 - 0s - loss: 0.1643 - val_loss: 0.2527\n",
            "Epoch 40/100\n",
            "4/4 - 0s - loss: 0.1636 - val_loss: 0.2506\n",
            "Epoch 41/100\n",
            "4/4 - 0s - loss: 0.1629 - val_loss: 0.2480\n",
            "Epoch 42/100\n",
            "4/4 - 0s - loss: 0.1621 - val_loss: 0.2442\n",
            "Epoch 43/100\n",
            "4/4 - 0s - loss: 0.1613 - val_loss: 0.2399\n",
            "Epoch 44/100\n",
            "4/4 - 0s - loss: 0.1604 - val_loss: 0.2360\n",
            "Epoch 45/100\n",
            "4/4 - 0s - loss: 0.1596 - val_loss: 0.2325\n",
            "Epoch 46/100\n",
            "4/4 - 0s - loss: 0.1588 - val_loss: 0.2293\n",
            "Epoch 47/100\n",
            "4/4 - 0s - loss: 0.1580 - val_loss: 0.2259\n",
            "Epoch 48/100\n",
            "4/4 - 0s - loss: 0.1573 - val_loss: 0.2227\n",
            "Epoch 49/100\n",
            "4/4 - 0s - loss: 0.1565 - val_loss: 0.2189\n",
            "Epoch 50/100\n",
            "4/4 - 0s - loss: 0.1557 - val_loss: 0.2149\n",
            "Epoch 51/100\n",
            "4/4 - 0s - loss: 0.1549 - val_loss: 0.2114\n",
            "Epoch 52/100\n",
            "4/4 - 0s - loss: 0.1541 - val_loss: 0.2076\n",
            "Epoch 53/100\n",
            "4/4 - 0s - loss: 0.1534 - val_loss: 0.2043\n",
            "Epoch 54/100\n",
            "4/4 - 0s - loss: 0.1528 - val_loss: 0.2017\n",
            "Epoch 55/100\n",
            "4/4 - 0s - loss: 0.1521 - val_loss: 0.1989\n",
            "Epoch 56/100\n",
            "4/4 - 0s - loss: 0.1515 - val_loss: 0.1962\n",
            "Epoch 57/100\n",
            "4/4 - 0s - loss: 0.1510 - val_loss: 0.1939\n",
            "Epoch 58/100\n",
            "4/4 - 0s - loss: 0.1504 - val_loss: 0.1918\n",
            "Epoch 59/100\n",
            "4/4 - 0s - loss: 0.1499 - val_loss: 0.1899\n",
            "Epoch 60/100\n",
            "4/4 - 0s - loss: 0.1494 - val_loss: 0.1884\n",
            "Epoch 61/100\n",
            "4/4 - 0s - loss: 0.1489 - val_loss: 0.1868\n",
            "Epoch 62/100\n",
            "4/4 - 0s - loss: 0.1484 - val_loss: 0.1852\n",
            "Epoch 63/100\n",
            "4/4 - 0s - loss: 0.1479 - val_loss: 0.1836\n",
            "Epoch 64/100\n",
            "4/4 - 0s - loss: 0.1474 - val_loss: 0.1819\n",
            "Epoch 65/100\n",
            "4/4 - 0s - loss: 0.1469 - val_loss: 0.1802\n",
            "Epoch 66/100\n",
            "4/4 - 0s - loss: 0.1464 - val_loss: 0.1785\n",
            "Epoch 67/100\n",
            "4/4 - 0s - loss: 0.1458 - val_loss: 0.1770\n",
            "Epoch 68/100\n",
            "4/4 - 0s - loss: 0.1454 - val_loss: 0.1757\n",
            "Epoch 69/100\n",
            "4/4 - 0s - loss: 0.1449 - val_loss: 0.1746\n",
            "Epoch 70/100\n",
            "4/4 - 0s - loss: 0.1444 - val_loss: 0.1736\n",
            "Epoch 71/100\n",
            "4/4 - 0s - loss: 0.1440 - val_loss: 0.1726\n",
            "Epoch 72/100\n",
            "4/4 - 0s - loss: 0.1435 - val_loss: 0.1715\n",
            "Epoch 73/100\n",
            "4/4 - 0s - loss: 0.1430 - val_loss: 0.1702\n",
            "Epoch 74/100\n",
            "4/4 - 0s - loss: 0.1426 - val_loss: 0.1685\n",
            "Epoch 75/100\n",
            "4/4 - 0s - loss: 0.1420 - val_loss: 0.1666\n",
            "Epoch 76/100\n",
            "4/4 - 0s - loss: 0.1415 - val_loss: 0.1643\n",
            "Epoch 77/100\n",
            "4/4 - 0s - loss: 0.1410 - val_loss: 0.1616\n",
            "Epoch 78/100\n",
            "4/4 - 0s - loss: 0.1404 - val_loss: 0.1589\n",
            "Epoch 79/100\n",
            "4/4 - 0s - loss: 0.1398 - val_loss: 0.1571\n",
            "Epoch 80/100\n",
            "4/4 - 0s - loss: 0.1394 - val_loss: 0.1562\n",
            "Epoch 81/100\n",
            "4/4 - 0s - loss: 0.1391 - val_loss: 0.1559\n",
            "Epoch 82/100\n",
            "4/4 - 0s - loss: 0.1387 - val_loss: 0.1556\n",
            "Epoch 83/100\n",
            "4/4 - 0s - loss: 0.1384 - val_loss: 0.1551\n",
            "Epoch 84/100\n",
            "4/4 - 0s - loss: 0.1381 - val_loss: 0.1544\n",
            "Epoch 85/100\n",
            "4/4 - 0s - loss: 0.1378 - val_loss: 0.1536\n",
            "Epoch 86/100\n",
            "4/4 - 0s - loss: 0.1374 - val_loss: 0.1527\n",
            "Epoch 87/100\n",
            "4/4 - 0s - loss: 0.1371 - val_loss: 0.1518\n",
            "Epoch 88/100\n",
            "4/4 - 0s - loss: 0.1367 - val_loss: 0.1507\n",
            "Epoch 89/100\n",
            "4/4 - 0s - loss: 0.1364 - val_loss: 0.1494\n",
            "Epoch 90/100\n",
            "4/4 - 0s - loss: 0.1360 - val_loss: 0.1480\n",
            "Epoch 91/100\n",
            "4/4 - 0s - loss: 0.1357 - val_loss: 0.1464\n",
            "Epoch 92/100\n",
            "4/4 - 0s - loss: 0.1353 - val_loss: 0.1447\n",
            "Epoch 93/100\n",
            "4/4 - 0s - loss: 0.1349 - val_loss: 0.1428\n",
            "Epoch 94/100\n",
            "4/4 - 0s - loss: 0.1345 - val_loss: 0.1410\n",
            "Epoch 95/100\n",
            "4/4 - 0s - loss: 0.1341 - val_loss: 0.1393\n",
            "Epoch 96/100\n",
            "4/4 - 0s - loss: 0.1337 - val_loss: 0.1378\n",
            "Epoch 97/100\n",
            "4/4 - 0s - loss: 0.1333 - val_loss: 0.1362\n",
            "Epoch 98/100\n",
            "4/4 - 0s - loss: 0.1329 - val_loss: 0.1350\n",
            "Epoch 99/100\n",
            "4/4 - 0s - loss: 0.1326 - val_loss: 0.1341\n",
            "Epoch 100/100\n",
            "4/4 - 0s - loss: 0.1323 - val_loss: 0.1333\n"
          ],
          "name": "stdout"
        },
        {
          "output_type": "display_data",
          "data": {
            "image/png": "[encoded data removed]",
            "text/plain": [
              "<Figure size 432x288 with 1 Axes>"
            ]
          },
          "metadata": {
            "tags": [],
            "needs_background": "light"
          }
        }
      ]
    },
    {
      "cell_type": "code",
      "metadata": {
        "colab": {
          "base_uri": "https://localhost:8080/",
          "height": 267
        },
        "id": "FVj8wJD4rVHS",
        "outputId": "4a6add1c-a4a5-485c-daa2-151d9c464857"
      },
      "source": [
        "# plot history\r\n",
        "plt.plot(history.history['loss'], label='train')\r\n",
        "plt.plot(history.history['val_loss'], label='test')\r\n",
        "plt.legend()\r\n",
        "plt.show()"
      ],
      "execution_count": null,
      "outputs": [
        {
          "output_type": "display_data",
          "data": {
            "image/png": "[encoded data removed]",
            "text/plain": [
              "<Figure size 432x288 with 1 Axes>"
            ]
          },
          "metadata": {
            "tags": [],
            "needs_background": "light"
          }
        }
      ]
    },
    {
      "cell_type": "markdown",
      "metadata": {
        "id": "ZnFmDLEa4w7g"
      },
      "source": [
        "## Test"
      ]
    },
    {
      "cell_type": "code",
      "metadata": {
        "colab": {
          "base_uri": "https://localhost:8080/"
        },
        "id": "2G98UOaR4yJ8",
        "outputId": "ceb6a9a5-770f-4eaa-aae8-9df3c33913ef"
      },
      "source": [
        "import math\n",
        "\n",
        "# make a prediction\n",
        "yhat = model.predict(test_X)\n",
        "test_X1 = test_X.reshape((test_X.shape[0], test_X.shape[2]))\n",
        "# invert scaling for forecast\n",
        "inv_yhat = concatenate((yhat, test_X1[:, 1:]), axis=1)\n",
        "print(inv_yhat.shape)\n",
        "#inv_yhat = scaler.inverse_transform(inv_yhat)\n",
        "inv_yhat = inv_yhat[:,0]\n",
        "# invert scaling for actual\n",
        "test_y = test_y.reshape((len(test_y), 1))\n",
        "inv_y = concatenate((test_y, test_X1[:, 1:]), axis=1)\n",
        "#inv_y = scaler.inverse_transform(inv_y)\n",
        "inv_y = inv_y[:,0]\n",
        "# calculate RMSE\n",
        "mse = mean_squared_error(inv_y, inv_yhat)\n",
        "print('Test MSE: %.3f' % mse)\n",
        "rmse = math.sqrt(mean_squared_error(inv_y, inv_yhat))\n",
        "print('Test RMSE: %.3f' % rmse)\n",
        "\n",
        "print('median_absolute_error', median_absolute_error(inv_y, inv_yhat))\n",
        "print('mean_absolute_error', mean_absolute_error(inv_y, inv_yhat))"
      ],
      "execution_count": null,
      "outputs": [
        {
          "output_type": "stream",
          "text": [
            "(59, 17)\n",
            "Test MSE: 0.042\n",
            "Test RMSE: 0.204\n",
            "median_absolute_error 0.09818667\n",
            "mean_absolute_error 0.13332893\n"
          ],
          "name": "stdout"
        }
      ]
    },
    {
      "cell_type": "markdown",
      "metadata": {
        "id": "xKq3c8_9jQXa"
      },
      "source": [
        "## Preprocessing feature selected data for training"
      ]
    },
    {
      "cell_type": "code",
      "metadata": {
        "colab": {
          "base_uri": "https://localhost:8080/"
        },
        "id": "awyC3BSCjnqY",
        "outputId": "690dd85b-991f-4213-8914-e34e5c9a2009"
      },
      "source": [
        "len(LA_combined_data_featured_selected.columns)"
      ],
      "execution_count": null,
      "outputs": [
        {
          "output_type": "execute_result",
          "data": {
            "text/plain": [
              "7"
            ]
          },
          "metadata": {
            "tags": []
          },
          "execution_count": 40
        }
      ]
    },
    {
      "cell_type": "code",
      "metadata": {
        "colab": {
          "base_uri": "https://localhost:8080/"
        },
        "id": "Op6wtKgcjUNm",
        "outputId": "8b35fdb4-074e-47e5-ff59-f01f986f0939"
      },
      "source": [
        "values = LA_combined_data_featured_selected.values\n",
        "# integer encode direction\n",
        "encoder = LabelEncoder()\n",
        "values[:,len(X_cols_feature_selected)-1] = encoder.fit_transform(values[:,len(X_cols_feature_selected)-1])\n",
        "# ensure all data is float\n",
        "values = values.astype('float32')\n",
        "# normalize features\n",
        "scaler = MinMaxScaler(feature_range=(0, 1))\n",
        "scaled = scaler.fit_transform(values)\n",
        "# frame as supervised learning\n",
        "reframed = series_to_supervised(scaled, 1, 1)\n",
        "# drop columns we don't want to predict\n",
        "#reframed.drop(reframed.columns[[9,10,11,12,13,14,15]], axis=1, inplace=True)\n",
        "print(reframed.head())"
      ],
      "execution_count": null,
      "outputs": [
        {
          "output_type": "stream",
          "text": [
            "   var1(t-1)  var2(t-1)  var3(t-1)  ...  var5(t)  var6(t)  var7(t)\n",
            "1     0.0000     0.0000     0.0000  ...   0.0000   0.0033   0.0000\n",
            "2     0.0000     0.0000     0.0000  ...   0.0000   0.0066   0.0000\n",
            "3     0.0000     0.0000     0.0000  ...   0.0000   0.0099   0.0186\n",
            "4     0.0000     0.0000     0.0000  ...   0.0000   0.0132   0.0112\n",
            "5     0.0000     0.0000     0.0000  ...   0.0000   0.0166   0.0074\n",
            "\n",
            "[5 rows x 14 columns]\n"
          ],
          "name": "stdout"
        }
      ]
    },
    {
      "cell_type": "markdown",
      "metadata": {
        "id": "CtNQl7UFjhBG"
      },
      "source": [
        "### Train Test split"
      ]
    },
    {
      "cell_type": "code",
      "metadata": {
        "colab": {
          "base_uri": "https://localhost:8080/"
        },
        "id": "9uQoint5jUdo",
        "outputId": "ad685fea-72ec-45be-d1d4-b15345264be5"
      },
      "source": [
        "\n",
        "# split into train and test sets\n",
        "values = reframed.values\n",
        "rows_count = values.shape[0]\n",
        "# split the 1/5 value\n",
        "train_split = rows_count//5\n",
        "\n",
        "n_train_hours = train_split * 4\n",
        "\n",
        "print(n_train_hours)\n",
        "print('values shape ',values.shape)\n",
        "train = values[:n_train_hours, :]\n",
        "test = values[n_train_hours:, :]\n",
        "# split into input and outputs\n",
        "train_X, train_y = train[:, :-1], train[:, -1]\n",
        "test_X, test_y = test[:, :-1], test[:, -1]\n",
        "# reshape input to be 3D [samples, timesteps, features]\n",
        "train_X = train_X.reshape((train_X.shape[0], 1, train_X.shape[1]))\n",
        "test_X = test_X.reshape((test_X.shape[0], 1, test_X.shape[1]))\n",
        "print(train_X.shape, train_y.shape, test_X.shape, test_y.shape)"
      ],
      "execution_count": null,
      "outputs": [
        {
          "output_type": "stream",
          "text": [
            "232\n",
            "values shape  (291, 14)\n",
            "(232, 1, 13) (232,) (59, 1, 13) (59,)\n"
          ],
          "name": "stdout"
        }
      ]
    },
    {
      "cell_type": "markdown",
      "metadata": {
        "id": "_UahqIBqjvVP"
      },
      "source": [
        "### Training LSTM for feature selected data"
      ]
    },
    {
      "cell_type": "code",
      "metadata": {
        "colab": {
          "base_uri": "https://localhost:8080/"
        },
        "id": "w8-AFQysjUbC",
        "outputId": "4b62d8c7-34ff-4fc0-d547-44e110ee7001"
      },
      "source": [
        "...\n",
        "# design network\n",
        "model = Sequential()\n",
        "model.add(LSTM(50, input_shape=(train_X.shape[1], train_X.shape[2])))\n",
        "model.add(Dense(1))\n",
        "model.compile(loss='mae', optimizer='adam')\n",
        "# fit network\n",
        "history = model.fit(train_X, train_y, epochs=200, batch_size=72, validation_data=(test_X, test_y), verbose=2, shuffle=False)\n"
      ],
      "execution_count": null,
      "outputs": [
        {
          "output_type": "stream",
          "text": [
            "Epoch 1/200\n",
            "4/4 - 3s - loss: 0.3897 - val_loss: 0.7331\n",
            "Epoch 2/200\n",
            "4/4 - 0s - loss: 0.3665 - val_loss: 0.6959\n",
            "Epoch 3/200\n",
            "4/4 - 0s - loss: 0.3445 - val_loss: 0.6585\n",
            "Epoch 4/200\n",
            "4/4 - 0s - loss: 0.3237 - val_loss: 0.6211\n",
            "Epoch 5/200\n",
            "4/4 - 0s - loss: 0.3039 - val_loss: 0.5834\n",
            "Epoch 6/200\n",
            "4/4 - 0s - loss: 0.2849 - val_loss: 0.5466\n",
            "Epoch 7/200\n",
            "4/4 - 0s - loss: 0.2667 - val_loss: 0.5099\n",
            "Epoch 8/200\n",
            "4/4 - 0s - loss: 0.2496 - val_loss: 0.4742\n",
            "Epoch 9/200\n",
            "4/4 - 0s - loss: 0.2346 - val_loss: 0.4399\n",
            "Epoch 10/200\n",
            "4/4 - 0s - loss: 0.2215 - val_loss: 0.4069\n",
            "Epoch 11/200\n",
            "4/4 - 0s - loss: 0.2100 - val_loss: 0.3755\n",
            "Epoch 12/200\n",
            "4/4 - 0s - loss: 0.2014 - val_loss: 0.3479\n",
            "Epoch 13/200\n",
            "4/4 - 0s - loss: 0.1948 - val_loss: 0.3246\n",
            "Epoch 14/200\n",
            "4/4 - 0s - loss: 0.1901 - val_loss: 0.3053\n",
            "Epoch 15/200\n",
            "4/4 - 0s - loss: 0.1867 - val_loss: 0.2895\n",
            "Epoch 16/200\n",
            "4/4 - 0s - loss: 0.1844 - val_loss: 0.2778\n",
            "Epoch 17/200\n",
            "4/4 - 0s - loss: 0.1828 - val_loss: 0.2702\n",
            "Epoch 18/200\n",
            "4/4 - 0s - loss: 0.1817 - val_loss: 0.2657\n",
            "Epoch 19/200\n",
            "4/4 - 0s - loss: 0.1809 - val_loss: 0.2633\n",
            "Epoch 20/200\n",
            "4/4 - 0s - loss: 0.1802 - val_loss: 0.2622\n",
            "Epoch 21/200\n",
            "4/4 - 0s - loss: 0.1797 - val_loss: 0.2621\n",
            "Epoch 22/200\n",
            "4/4 - 0s - loss: 0.1792 - val_loss: 0.2626\n",
            "Epoch 23/200\n",
            "4/4 - 0s - loss: 0.1788 - val_loss: 0.2634\n",
            "Epoch 24/200\n",
            "4/4 - 0s - loss: 0.1784 - val_loss: 0.2644\n",
            "Epoch 25/200\n",
            "4/4 - 0s - loss: 0.1780 - val_loss: 0.2654\n",
            "Epoch 26/200\n",
            "4/4 - 0s - loss: 0.1777 - val_loss: 0.2660\n",
            "Epoch 27/200\n",
            "4/4 - 0s - loss: 0.1773 - val_loss: 0.2663\n",
            "Epoch 28/200\n",
            "4/4 - 0s - loss: 0.1768 - val_loss: 0.2662\n",
            "Epoch 29/200\n",
            "4/4 - 0s - loss: 0.1763 - val_loss: 0.2660\n",
            "Epoch 30/200\n",
            "4/4 - 0s - loss: 0.1758 - val_loss: 0.2656\n",
            "Epoch 31/200\n",
            "4/4 - 0s - loss: 0.1753 - val_loss: 0.2652\n",
            "Epoch 32/200\n",
            "4/4 - 0s - loss: 0.1748 - val_loss: 0.2646\n",
            "Epoch 33/200\n",
            "4/4 - 0s - loss: 0.1743 - val_loss: 0.2638\n",
            "Epoch 34/200\n",
            "4/4 - 0s - loss: 0.1737 - val_loss: 0.2629\n",
            "Epoch 35/200\n",
            "4/4 - 0s - loss: 0.1731 - val_loss: 0.2619\n",
            "Epoch 36/200\n",
            "4/4 - 0s - loss: 0.1725 - val_loss: 0.2608\n",
            "Epoch 37/200\n",
            "4/4 - 0s - loss: 0.1719 - val_loss: 0.2596\n",
            "Epoch 38/200\n",
            "4/4 - 0s - loss: 0.1713 - val_loss: 0.2586\n",
            "Epoch 39/200\n",
            "4/4 - 0s - loss: 0.1707 - val_loss: 0.2576\n",
            "Epoch 40/200\n",
            "4/4 - 0s - loss: 0.1701 - val_loss: 0.2566\n",
            "Epoch 41/200\n",
            "4/4 - 0s - loss: 0.1696 - val_loss: 0.2559\n",
            "Epoch 42/200\n",
            "4/4 - 0s - loss: 0.1690 - val_loss: 0.2552\n",
            "Epoch 43/200\n",
            "4/4 - 0s - loss: 0.1685 - val_loss: 0.2547\n",
            "Epoch 44/200\n",
            "4/4 - 0s - loss: 0.1680 - val_loss: 0.2542\n",
            "Epoch 45/200\n",
            "4/4 - 0s - loss: 0.1675 - val_loss: 0.2537\n",
            "Epoch 46/200\n",
            "4/4 - 0s - loss: 0.1669 - val_loss: 0.2530\n",
            "Epoch 47/200\n",
            "4/4 - 0s - loss: 0.1664 - val_loss: 0.2523\n",
            "Epoch 48/200\n",
            "4/4 - 0s - loss: 0.1658 - val_loss: 0.2516\n",
            "Epoch 49/200\n",
            "4/4 - 0s - loss: 0.1653 - val_loss: 0.2508\n",
            "Epoch 50/200\n",
            "4/4 - 0s - loss: 0.1647 - val_loss: 0.2499\n",
            "Epoch 51/200\n",
            "4/4 - 0s - loss: 0.1641 - val_loss: 0.2490\n",
            "Epoch 52/200\n",
            "4/4 - 0s - loss: 0.1635 - val_loss: 0.2481\n",
            "Epoch 53/200\n",
            "4/4 - 0s - loss: 0.1629 - val_loss: 0.2471\n",
            "Epoch 54/200\n",
            "4/4 - 0s - loss: 0.1623 - val_loss: 0.2461\n",
            "Epoch 55/200\n",
            "4/4 - 0s - loss: 0.1617 - val_loss: 0.2450\n",
            "Epoch 56/200\n",
            "4/4 - 0s - loss: 0.1610 - val_loss: 0.2439\n",
            "Epoch 57/200\n",
            "4/4 - 0s - loss: 0.1604 - val_loss: 0.2426\n",
            "Epoch 58/200\n",
            "4/4 - 0s - loss: 0.1597 - val_loss: 0.2412\n",
            "Epoch 59/200\n",
            "4/4 - 0s - loss: 0.1591 - val_loss: 0.2391\n",
            "Epoch 60/200\n",
            "4/4 - 0s - loss: 0.1582 - val_loss: 0.2352\n",
            "Epoch 61/200\n",
            "4/4 - 0s - loss: 0.1573 - val_loss: 0.2300\n",
            "Epoch 62/200\n",
            "4/4 - 0s - loss: 0.1562 - val_loss: 0.2247\n",
            "Epoch 63/200\n",
            "4/4 - 0s - loss: 0.1552 - val_loss: 0.2203\n",
            "Epoch 64/200\n",
            "4/4 - 0s - loss: 0.1543 - val_loss: 0.2163\n",
            "Epoch 65/200\n",
            "4/4 - 0s - loss: 0.1534 - val_loss: 0.2127\n",
            "Epoch 66/200\n",
            "4/4 - 0s - loss: 0.1526 - val_loss: 0.2094\n",
            "Epoch 67/200\n",
            "4/4 - 0s - loss: 0.1517 - val_loss: 0.2060\n",
            "Epoch 68/200\n",
            "4/4 - 0s - loss: 0.1509 - val_loss: 0.2022\n",
            "Epoch 69/200\n",
            "4/4 - 0s - loss: 0.1502 - val_loss: 0.1983\n",
            "Epoch 70/200\n",
            "4/4 - 0s - loss: 0.1494 - val_loss: 0.1945\n",
            "Epoch 71/200\n",
            "4/4 - 0s - loss: 0.1487 - val_loss: 0.1908\n",
            "Epoch 72/200\n",
            "4/4 - 0s - loss: 0.1480 - val_loss: 0.1875\n",
            "Epoch 73/200\n",
            "4/4 - 0s - loss: 0.1473 - val_loss: 0.1846\n",
            "Epoch 74/200\n",
            "4/4 - 0s - loss: 0.1467 - val_loss: 0.1819\n",
            "Epoch 75/200\n",
            "4/4 - 0s - loss: 0.1461 - val_loss: 0.1792\n",
            "Epoch 76/200\n",
            "4/4 - 0s - loss: 0.1455 - val_loss: 0.1771\n",
            "Epoch 77/200\n",
            "4/4 - 0s - loss: 0.1449 - val_loss: 0.1761\n",
            "Epoch 78/200\n",
            "4/4 - 0s - loss: 0.1445 - val_loss: 0.1752\n",
            "Epoch 79/200\n",
            "4/4 - 0s - loss: 0.1440 - val_loss: 0.1736\n",
            "Epoch 80/200\n",
            "4/4 - 0s - loss: 0.1435 - val_loss: 0.1722\n",
            "Epoch 81/200\n",
            "4/4 - 0s - loss: 0.1430 - val_loss: 0.1714\n",
            "Epoch 82/200\n",
            "4/4 - 0s - loss: 0.1426 - val_loss: 0.1701\n",
            "Epoch 83/200\n",
            "4/4 - 0s - loss: 0.1421 - val_loss: 0.1686\n",
            "Epoch 84/200\n",
            "4/4 - 0s - loss: 0.1417 - val_loss: 0.1668\n",
            "Epoch 85/200\n",
            "4/4 - 0s - loss: 0.1412 - val_loss: 0.1650\n",
            "Epoch 86/200\n",
            "4/4 - 0s - loss: 0.1406 - val_loss: 0.1635\n",
            "Epoch 87/200\n",
            "4/4 - 0s - loss: 0.1402 - val_loss: 0.1628\n",
            "Epoch 88/200\n",
            "4/4 - 0s - loss: 0.1398 - val_loss: 0.1617\n",
            "Epoch 89/200\n",
            "4/4 - 0s - loss: 0.1393 - val_loss: 0.1602\n",
            "Epoch 90/200\n",
            "4/4 - 0s - loss: 0.1388 - val_loss: 0.1583\n",
            "Epoch 91/200\n",
            "4/4 - 0s - loss: 0.1383 - val_loss: 0.1569\n",
            "Epoch 92/200\n",
            "4/4 - 0s - loss: 0.1379 - val_loss: 0.1562\n",
            "Epoch 93/200\n",
            "4/4 - 0s - loss: 0.1375 - val_loss: 0.1557\n",
            "Epoch 94/200\n",
            "4/4 - 0s - loss: 0.1372 - val_loss: 0.1548\n",
            "Epoch 95/200\n",
            "4/4 - 0s - loss: 0.1369 - val_loss: 0.1534\n",
            "Epoch 96/200\n",
            "4/4 - 0s - loss: 0.1365 - val_loss: 0.1517\n",
            "Epoch 97/200\n",
            "4/4 - 0s - loss: 0.1361 - val_loss: 0.1500\n",
            "Epoch 98/200\n",
            "4/4 - 0s - loss: 0.1357 - val_loss: 0.1485\n",
            "Epoch 99/200\n",
            "4/4 - 0s - loss: 0.1354 - val_loss: 0.1470\n",
            "Epoch 100/200\n",
            "4/4 - 0s - loss: 0.1350 - val_loss: 0.1456\n",
            "Epoch 101/200\n",
            "4/4 - 0s - loss: 0.1346 - val_loss: 0.1441\n",
            "Epoch 102/200\n",
            "4/4 - 0s - loss: 0.1342 - val_loss: 0.1426\n",
            "Epoch 103/200\n",
            "4/4 - 0s - loss: 0.1338 - val_loss: 0.1410\n",
            "Epoch 104/200\n",
            "4/4 - 0s - loss: 0.1334 - val_loss: 0.1401\n",
            "Epoch 105/200\n",
            "4/4 - 0s - loss: 0.1331 - val_loss: 0.1402\n",
            "Epoch 106/200\n",
            "4/4 - 0s - loss: 0.1329 - val_loss: 0.1396\n",
            "Epoch 107/200\n",
            "4/4 - 0s - loss: 0.1325 - val_loss: 0.1385\n",
            "Epoch 108/200\n",
            "4/4 - 0s - loss: 0.1322 - val_loss: 0.1371\n",
            "Epoch 109/200\n",
            "4/4 - 0s - loss: 0.1318 - val_loss: 0.1355\n",
            "Epoch 110/200\n",
            "4/4 - 0s - loss: 0.1314 - val_loss: 0.1342\n",
            "Epoch 111/200\n",
            "4/4 - 0s - loss: 0.1311 - val_loss: 0.1337\n",
            "Epoch 112/200\n",
            "4/4 - 0s - loss: 0.1308 - val_loss: 0.1338\n",
            "Epoch 113/200\n",
            "4/4 - 0s - loss: 0.1306 - val_loss: 0.1341\n",
            "Epoch 114/200\n",
            "4/4 - 0s - loss: 0.1305 - val_loss: 0.1345\n",
            "Epoch 115/200\n",
            "4/4 - 0s - loss: 0.1303 - val_loss: 0.1350\n",
            "Epoch 116/200\n",
            "4/4 - 0s - loss: 0.1302 - val_loss: 0.1354\n",
            "Epoch 117/200\n",
            "4/4 - 0s - loss: 0.1300 - val_loss: 0.1353\n",
            "Epoch 118/200\n",
            "4/4 - 0s - loss: 0.1299 - val_loss: 0.1348\n",
            "Epoch 119/200\n",
            "4/4 - 0s - loss: 0.1297 - val_loss: 0.1341\n",
            "Epoch 120/200\n",
            "4/4 - 0s - loss: 0.1294 - val_loss: 0.1331\n",
            "Epoch 121/200\n",
            "4/4 - 0s - loss: 0.1292 - val_loss: 0.1321\n",
            "Epoch 122/200\n",
            "4/4 - 0s - loss: 0.1289 - val_loss: 0.1309\n",
            "Epoch 123/200\n",
            "4/4 - 0s - loss: 0.1287 - val_loss: 0.1295\n",
            "Epoch 124/200\n",
            "4/4 - 0s - loss: 0.1284 - val_loss: 0.1284\n",
            "Epoch 125/200\n",
            "4/4 - 0s - loss: 0.1282 - val_loss: 0.1278\n",
            "Epoch 126/200\n",
            "4/4 - 0s - loss: 0.1280 - val_loss: 0.1275\n",
            "Epoch 127/200\n",
            "4/4 - 0s - loss: 0.1279 - val_loss: 0.1273\n",
            "Epoch 128/200\n",
            "4/4 - 0s - loss: 0.1278 - val_loss: 0.1273\n",
            "Epoch 129/200\n",
            "4/4 - 0s - loss: 0.1277 - val_loss: 0.1275\n",
            "Epoch 130/200\n",
            "4/4 - 0s - loss: 0.1276 - val_loss: 0.1282\n",
            "Epoch 131/200\n",
            "4/4 - 0s - loss: 0.1276 - val_loss: 0.1289\n",
            "Epoch 132/200\n",
            "4/4 - 0s - loss: 0.1276 - val_loss: 0.1293\n",
            "Epoch 133/200\n",
            "4/4 - 0s - loss: 0.1276 - val_loss: 0.1294\n",
            "Epoch 134/200\n",
            "4/4 - 0s - loss: 0.1275 - val_loss: 0.1293\n",
            "Epoch 135/200\n",
            "4/4 - 0s - loss: 0.1275 - val_loss: 0.1291\n",
            "Epoch 136/200\n",
            "4/4 - 0s - loss: 0.1274 - val_loss: 0.1287\n",
            "Epoch 137/200\n",
            "4/4 - 0s - loss: 0.1273 - val_loss: 0.1283\n",
            "Epoch 138/200\n",
            "4/4 - 0s - loss: 0.1272 - val_loss: 0.1279\n",
            "Epoch 139/200\n",
            "4/4 - 0s - loss: 0.1271 - val_loss: 0.1274\n",
            "Epoch 140/200\n",
            "4/4 - 0s - loss: 0.1271 - val_loss: 0.1269\n",
            "Epoch 141/200\n",
            "4/4 - 0s - loss: 0.1270 - val_loss: 0.1264\n",
            "Epoch 142/200\n",
            "4/4 - 0s - loss: 0.1269 - val_loss: 0.1262\n",
            "Epoch 143/200\n",
            "4/4 - 0s - loss: 0.1268 - val_loss: 0.1262\n",
            "Epoch 144/200\n",
            "4/4 - 0s - loss: 0.1268 - val_loss: 0.1265\n",
            "Epoch 145/200\n",
            "4/4 - 0s - loss: 0.1267 - val_loss: 0.1269\n",
            "Epoch 146/200\n",
            "4/4 - 0s - loss: 0.1267 - val_loss: 0.1271\n",
            "Epoch 147/200\n",
            "4/4 - 0s - loss: 0.1267 - val_loss: 0.1274\n",
            "Epoch 148/200\n",
            "4/4 - 0s - loss: 0.1267 - val_loss: 0.1282\n",
            "Epoch 149/200\n",
            "4/4 - 0s - loss: 0.1267 - val_loss: 0.1291\n",
            "Epoch 150/200\n",
            "4/4 - 0s - loss: 0.1267 - val_loss: 0.1300\n",
            "Epoch 151/200\n",
            "4/4 - 0s - loss: 0.1268 - val_loss: 0.1308\n",
            "Epoch 152/200\n",
            "4/4 - 0s - loss: 0.1268 - val_loss: 0.1318\n",
            "Epoch 153/200\n",
            "4/4 - 0s - loss: 0.1268 - val_loss: 0.1327\n",
            "Epoch 154/200\n",
            "4/4 - 0s - loss: 0.1269 - val_loss: 0.1335\n",
            "Epoch 155/200\n",
            "4/4 - 0s - loss: 0.1269 - val_loss: 0.1343\n",
            "Epoch 156/200\n",
            "4/4 - 0s - loss: 0.1269 - val_loss: 0.1350\n",
            "Epoch 157/200\n",
            "4/4 - 0s - loss: 0.1269 - val_loss: 0.1361\n",
            "Epoch 158/200\n",
            "4/4 - 0s - loss: 0.1270 - val_loss: 0.1371\n",
            "Epoch 159/200\n",
            "4/4 - 0s - loss: 0.1270 - val_loss: 0.1380\n",
            "Epoch 160/200\n",
            "4/4 - 0s - loss: 0.1270 - val_loss: 0.1392\n",
            "Epoch 161/200\n",
            "4/4 - 0s - loss: 0.1271 - val_loss: 0.1403\n",
            "Epoch 162/200\n",
            "4/4 - 0s - loss: 0.1271 - val_loss: 0.1410\n",
            "Epoch 163/200\n",
            "4/4 - 0s - loss: 0.1271 - val_loss: 0.1416\n",
            "Epoch 164/200\n",
            "4/4 - 0s - loss: 0.1271 - val_loss: 0.1414\n",
            "Epoch 165/200\n",
            "4/4 - 0s - loss: 0.1270 - val_loss: 0.1398\n",
            "Epoch 166/200\n",
            "4/4 - 0s - loss: 0.1269 - val_loss: 0.1393\n",
            "Epoch 167/200\n",
            "4/4 - 0s - loss: 0.1269 - val_loss: 0.1396\n",
            "Epoch 168/200\n",
            "4/4 - 0s - loss: 0.1269 - val_loss: 0.1404\n",
            "Epoch 169/200\n",
            "4/4 - 0s - loss: 0.1269 - val_loss: 0.1412\n",
            "Epoch 170/200\n",
            "4/4 - 0s - loss: 0.1270 - val_loss: 0.1414\n",
            "Epoch 171/200\n",
            "4/4 - 0s - loss: 0.1269 - val_loss: 0.1402\n",
            "Epoch 172/200\n",
            "4/4 - 0s - loss: 0.1268 - val_loss: 0.1397\n",
            "Epoch 173/200\n",
            "4/4 - 0s - loss: 0.1268 - val_loss: 0.1398\n",
            "Epoch 174/200\n",
            "4/4 - 0s - loss: 0.1267 - val_loss: 0.1401\n",
            "Epoch 175/200\n",
            "4/4 - 0s - loss: 0.1267 - val_loss: 0.1407\n",
            "Epoch 176/200\n",
            "4/4 - 0s - loss: 0.1268 - val_loss: 0.1407\n",
            "Epoch 177/200\n",
            "4/4 - 0s - loss: 0.1267 - val_loss: 0.1394\n",
            "Epoch 178/200\n",
            "4/4 - 0s - loss: 0.1266 - val_loss: 0.1388\n",
            "Epoch 179/200\n",
            "4/4 - 0s - loss: 0.1265 - val_loss: 0.1391\n",
            "Epoch 180/200\n",
            "4/4 - 0s - loss: 0.1266 - val_loss: 0.1398\n",
            "Epoch 181/200\n",
            "4/4 - 0s - loss: 0.1266 - val_loss: 0.1402\n",
            "Epoch 182/200\n",
            "4/4 - 0s - loss: 0.1265 - val_loss: 0.1394\n",
            "Epoch 183/200\n",
            "4/4 - 0s - loss: 0.1265 - val_loss: 0.1398\n",
            "Epoch 184/200\n",
            "4/4 - 0s - loss: 0.1265 - val_loss: 0.1404\n",
            "Epoch 185/200\n",
            "4/4 - 0s - loss: 0.1265 - val_loss: 0.1394\n",
            "Epoch 186/200\n",
            "4/4 - 0s - loss: 0.1264 - val_loss: 0.1380\n",
            "Epoch 187/200\n",
            "4/4 - 0s - loss: 0.1263 - val_loss: 0.1381\n",
            "Epoch 188/200\n",
            "4/4 - 0s - loss: 0.1264 - val_loss: 0.1392\n",
            "Epoch 189/200\n",
            "4/4 - 0s - loss: 0.1264 - val_loss: 0.1401\n",
            "Epoch 190/200\n",
            "4/4 - 0s - loss: 0.1264 - val_loss: 0.1398\n",
            "Epoch 191/200\n",
            "4/4 - 0s - loss: 0.1264 - val_loss: 0.1399\n",
            "Epoch 192/200\n",
            "4/4 - 0s - loss: 0.1263 - val_loss: 0.1390\n",
            "Epoch 193/200\n",
            "4/4 - 0s - loss: 0.1263 - val_loss: 0.1393\n",
            "Epoch 194/200\n",
            "4/4 - 0s - loss: 0.1263 - val_loss: 0.1399\n",
            "Epoch 195/200\n",
            "4/4 - 0s - loss: 0.1263 - val_loss: 0.1393\n",
            "Epoch 196/200\n",
            "4/4 - 0s - loss: 0.1263 - val_loss: 0.1399\n",
            "Epoch 197/200\n",
            "4/4 - 0s - loss: 0.1263 - val_loss: 0.1403\n",
            "Epoch 198/200\n",
            "4/4 - 0s - loss: 0.1262 - val_loss: 0.1396\n",
            "Epoch 199/200\n",
            "4/4 - 0s - loss: 0.1262 - val_loss: 0.1394\n",
            "Epoch 200/200\n",
            "4/4 - 0s - loss: 0.1262 - val_loss: 0.1385\n"
          ],
          "name": "stdout"
        }
      ]
    },
    {
      "cell_type": "code",
      "metadata": {
        "colab": {
          "base_uri": "https://localhost:8080/",
          "height": 267
        },
        "id": "wqeHch9kyQFJ",
        "outputId": "28484808-01b6-4a35-8dc9-c6617fafcbaf"
      },
      "source": [
        "# plot history\n",
        "plt.plot(history.history['loss'], label='train')\n",
        "plt.plot(history.history['val_loss'], label='test')\n",
        "plt.legend()\n",
        "plt.show()"
      ],
      "execution_count": null,
      "outputs": [
        {
          "output_type": "display_data",
          "data": {
            "image/png": "[encoded data removed]",
            "text/plain": [
              "<Figure size 432x288 with 1 Axes>"
            ]
          },
          "metadata": {
            "tags": [],
            "needs_background": "light"
          }
        }
      ]
    },
    {
      "cell_type": "markdown",
      "metadata": {
        "id": "gX1VImIbj8zi"
      },
      "source": [
        "### Testing feature selected data"
      ]
    },
    {
      "cell_type": "code",
      "metadata": {
        "colab": {
          "base_uri": "https://localhost:8080/"
        },
        "id": "DaqF9091jzf0",
        "outputId": "5bc025e3-1c39-4480-e1df-173184b27e20"
      },
      "source": [
        "import math\n",
        "\n",
        "# make a prediction\n",
        "yhat = model.predict(test_X)\n",
        "test_X1 = test_X.reshape((test_X.shape[0], test_X.shape[2]))\n",
        "# invert scaling for forecast\n",
        "inv_yhat = concatenate((yhat, test_X1[:, 1:]), axis=1)\n",
        "print(inv_yhat.shape)\n",
        "#inv_yhat = scaler.inverse_transform(inv_yhat)\n",
        "inv_yhat = inv_yhat[:,0]\n",
        "# invert scaling for actual\n",
        "test_y = test_y.reshape((len(test_y), 1))\n",
        "inv_y = concatenate((test_y, test_X1[:, 1:]), axis=1)\n",
        "#inv_y = scaler.inverse_transform(inv_y)\n",
        "inv_y = inv_y[:,0]\n",
        "# calculate RMSE\n",
        "mse = mean_squared_error(inv_y, inv_yhat)\n",
        "print('Test MSE: %.3f' % mse)\n",
        "rmse = math.sqrt(mean_squared_error(inv_y, inv_yhat))\n",
        "print('Test RMSE: %.3f' % rmse)\n",
        "print('median_absolute_error', median_absolute_error(inv_y, inv_yhat))\n",
        "print('mean_absolute_error', mean_absolute_error(inv_y, inv_yhat))"
      ],
      "execution_count": null,
      "outputs": [
        {
          "output_type": "stream",
          "text": [
            "(59, 13)\n",
            "Test MSE: 0.049\n",
            "Test RMSE: 0.220\n",
            "median_absolute_error 0.090957284\n",
            "mean_absolute_error 0.13854092\n"
          ],
          "name": "stdout"
        }
      ]
    },
    {
      "cell_type": "markdown",
      "metadata": {
        "id": "qBS3h8iqoLCo"
      },
      "source": [
        "# LSTM: Hospitalization and testing Group"
      ]
    },
    {
      "cell_type": "code",
      "metadata": {
        "id": "p7jSrWZRoLDK"
      },
      "source": [
        "\n",
        "\n",
        "X_cols_all = x_col_hospitalization_testing\n",
        "\n",
        "X_cols_feature_selected = x_col_hospitalization_feature_imp\n"
      ],
      "execution_count": null,
      "outputs": []
    },
    {
      "cell_type": "code",
      "metadata": {
        "colab": {
          "base_uri": "https://localhost:8080/",
          "height": 360
        },
        "id": "DhdOCPSdoLDL",
        "outputId": "051595e9-bf9a-4c92-d11f-09e9578d365f"
      },
      "source": [
        "LA_combined_data_all = CA_superset_data[CA_superset_data['County Name'] == 'Los Angeles County'][X_cols_all]\n",
        "print(LA_combined_data_all.shape)\n",
        "\n",
        "LA_combined_data_featured = CA_superset_data[CA_superset_data['County Name'] == 'Los Angeles County'][X_cols_feature_selected]\n",
        "print(LA_combined_data_featured.shape)\n",
        "LA_combined_data_all.head(5)"
      ],
      "execution_count": null,
      "outputs": [
        {
          "output_type": "stream",
          "text": [
            "(292, 12)\n",
            "(292, 9)\n"
          ],
          "name": "stdout"
        },
        {
          "output_type": "execute_result",
          "data": {
            "text/html": [
              "<div>\n",
              "<style scoped>\n",
              "    .dataframe tbody tr th:only-of-type {\n",
              "        vertical-align: middle;\n",
              "    }\n",
              "\n",
              "    .dataframe tbody tr th {\n",
              "        vertical-align: top;\n",
              "    }\n",
              "\n",
              "    .dataframe thead th {\n",
              "        text-align: right;\n",
              "    }\n",
              "</style>\n",
              "<table border=\"1\" class=\"dataframe\">\n",
              "  <thead>\n",
              "    <tr style=\"text-align: right;\">\n",
              "      <th></th>\n",
              "      <th>Hospital.beds.1000.people</th>\n",
              "      <th>ICUs.1000.people</th>\n",
              "      <th>X..hospital.bed.utilization</th>\n",
              "      <th>Testing.capacity</th>\n",
              "      <th>Tests.done.1000.people</th>\n",
              "      <th>X..ICU.utilization</th>\n",
              "      <th>Ventilator.shortage</th>\n",
              "      <th>positivity_rate</th>\n",
              "      <th>rolling_avg_new_cases/100k</th>\n",
              "      <th>growth_code</th>\n",
              "      <th>Date</th>\n",
              "      <th>New cases/100k</th>\n",
              "    </tr>\n",
              "  </thead>\n",
              "  <tbody>\n",
              "    <tr>\n",
              "      <th>4804</th>\n",
              "      <td>2.0500</td>\n",
              "      <td>0.2200</td>\n",
              "      <td>54.0000</td>\n",
              "      <td>0.0000</td>\n",
              "      <td>0.0000</td>\n",
              "      <td>0.0000</td>\n",
              "      <td>0</td>\n",
              "      <td>0.0000</td>\n",
              "      <td>0.0000</td>\n",
              "      <td>0</td>\n",
              "      <td>2020-03-01</td>\n",
              "      <td>0.0000</td>\n",
              "    </tr>\n",
              "    <tr>\n",
              "      <th>4805</th>\n",
              "      <td>2.0500</td>\n",
              "      <td>0.2200</td>\n",
              "      <td>54.0000</td>\n",
              "      <td>0.0000</td>\n",
              "      <td>0.0000</td>\n",
              "      <td>0.0000</td>\n",
              "      <td>0</td>\n",
              "      <td>0.0000</td>\n",
              "      <td>0.0000</td>\n",
              "      <td>0</td>\n",
              "      <td>2020-03-02</td>\n",
              "      <td>0.0000</td>\n",
              "    </tr>\n",
              "    <tr>\n",
              "      <th>4806</th>\n",
              "      <td>2.0500</td>\n",
              "      <td>0.2200</td>\n",
              "      <td>54.0000</td>\n",
              "      <td>0.0000</td>\n",
              "      <td>0.0000</td>\n",
              "      <td>0.0000</td>\n",
              "      <td>0</td>\n",
              "      <td>0.0000</td>\n",
              "      <td>0.0000</td>\n",
              "      <td>0</td>\n",
              "      <td>2020-03-03</td>\n",
              "      <td>0.0000</td>\n",
              "    </tr>\n",
              "    <tr>\n",
              "      <th>4807</th>\n",
              "      <td>2.0500</td>\n",
              "      <td>0.2200</td>\n",
              "      <td>54.0000</td>\n",
              "      <td>10.3000</td>\n",
              "      <td>0.0100</td>\n",
              "      <td>0.0000</td>\n",
              "      <td>0</td>\n",
              "      <td>0.0020</td>\n",
              "      <td>0.0000</td>\n",
              "      <td>0</td>\n",
              "      <td>2020-03-04</td>\n",
              "      <td>0.0594</td>\n",
              "    </tr>\n",
              "    <tr>\n",
              "      <th>4808</th>\n",
              "      <td>2.0500</td>\n",
              "      <td>0.2200</td>\n",
              "      <td>54.0000</td>\n",
              "      <td>10.3000</td>\n",
              "      <td>0.0100</td>\n",
              "      <td>0.0000</td>\n",
              "      <td>0</td>\n",
              "      <td>0.0030</td>\n",
              "      <td>0.0000</td>\n",
              "      <td>0</td>\n",
              "      <td>2020-03-05</td>\n",
              "      <td>0.0396</td>\n",
              "    </tr>\n",
              "  </tbody>\n",
              "</table>\n",
              "</div>"
            ],
            "text/plain": [
              "      Hospital.beds.1000.people  ICUs.1000.people  ...        Date  New cases/100k\n",
              "4804                     2.0500            0.2200  ...  2020-03-01          0.0000\n",
              "4805                     2.0500            0.2200  ...  2020-03-02          0.0000\n",
              "4806                     2.0500            0.2200  ...  2020-03-03          0.0000\n",
              "4807                     2.0500            0.2200  ...  2020-03-04          0.0594\n",
              "4808                     2.0500            0.2200  ...  2020-03-05          0.0396\n",
              "\n",
              "[5 rows x 12 columns]"
            ]
          },
          "metadata": {
            "tags": []
          },
          "execution_count": 47
        }
      ]
    },
    {
      "cell_type": "code",
      "metadata": {
        "id": "asEGY01coLDM"
      },
      "source": [
        "from datetime import datetime\n",
        "# load data\n",
        "def parse(x):\n",
        "\treturn datetime.strptime(x, '%Y-%m-%d')\n",
        " \n",
        "def datetime_to_float(d):\n",
        "    date_time_obj = datetime.strptime(d, '%Y-%m-%d')\n",
        "    return date_time_obj.timestamp()"
      ],
      "execution_count": null,
      "outputs": []
    },
    {
      "cell_type": "code",
      "metadata": {
        "colab": {
          "base_uri": "https://localhost:8080/"
        },
        "id": "N4OpSZAkoLDN",
        "outputId": "970d0ed8-c05c-4143-93af-dacb43ff36f9"
      },
      "source": [
        "len(LA_combined_data_featured.columns)"
      ],
      "execution_count": null,
      "outputs": [
        {
          "output_type": "execute_result",
          "data": {
            "text/plain": [
              "9"
            ]
          },
          "metadata": {
            "tags": []
          },
          "execution_count": 49
        }
      ]
    },
    {
      "cell_type": "code",
      "metadata": {
        "colab": {
          "base_uri": "https://localhost:8080/",
          "height": 241
        },
        "id": "e0kDd3GUoLDN",
        "outputId": "401485e6-9c82-40bf-fcc3-c7dc3780e152"
      },
      "source": [
        "LA_combined_data_featured['Date'] = LA_combined_data_featured['Date'].apply(lambda x: datetime_to_float(x))\n",
        "LA_combined_data_all['Date'] = LA_combined_data_all['Date'].apply(lambda x: datetime_to_float(x))\n",
        "\n",
        "#Harris_combined_data.index.name = 'Date'\n",
        "LA_combined_data_featured.head()"
      ],
      "execution_count": null,
      "outputs": [
        {
          "output_type": "execute_result",
          "data": {
            "text/html": [
              "<div>\n",
              "<style scoped>\n",
              "    .dataframe tbody tr th:only-of-type {\n",
              "        vertical-align: middle;\n",
              "    }\n",
              "\n",
              "    .dataframe tbody tr th {\n",
              "        vertical-align: top;\n",
              "    }\n",
              "\n",
              "    .dataframe thead th {\n",
              "        text-align: right;\n",
              "    }\n",
              "</style>\n",
              "<table border=\"1\" class=\"dataframe\">\n",
              "  <thead>\n",
              "    <tr style=\"text-align: right;\">\n",
              "      <th></th>\n",
              "      <th>X..hospital.bed.utilization</th>\n",
              "      <th>positivity_rate</th>\n",
              "      <th>Ventilator.shortage</th>\n",
              "      <th>positivity_rate</th>\n",
              "      <th>Testing.capacity</th>\n",
              "      <th>growth_code</th>\n",
              "      <th>rolling_avg_new_cases/100k</th>\n",
              "      <th>Date</th>\n",
              "      <th>New cases/100k</th>\n",
              "    </tr>\n",
              "  </thead>\n",
              "  <tbody>\n",
              "    <tr>\n",
              "      <th>4804</th>\n",
              "      <td>54.0000</td>\n",
              "      <td>0.0000</td>\n",
              "      <td>0</td>\n",
              "      <td>0.0000</td>\n",
              "      <td>0.0000</td>\n",
              "      <td>0</td>\n",
              "      <td>0.0000</td>\n",
              "      <td>1583020800.0000</td>\n",
              "      <td>0.0000</td>\n",
              "    </tr>\n",
              "    <tr>\n",
              "      <th>4805</th>\n",
              "      <td>54.0000</td>\n",
              "      <td>0.0000</td>\n",
              "      <td>0</td>\n",
              "      <td>0.0000</td>\n",
              "      <td>0.0000</td>\n",
              "      <td>0</td>\n",
              "      <td>0.0000</td>\n",
              "      <td>1583107200.0000</td>\n",
              "      <td>0.0000</td>\n",
              "    </tr>\n",
              "    <tr>\n",
              "      <th>4806</th>\n",
              "      <td>54.0000</td>\n",
              "      <td>0.0000</td>\n",
              "      <td>0</td>\n",
              "      <td>0.0000</td>\n",
              "      <td>0.0000</td>\n",
              "      <td>0</td>\n",
              "      <td>0.0000</td>\n",
              "      <td>1583193600.0000</td>\n",
              "      <td>0.0000</td>\n",
              "    </tr>\n",
              "    <tr>\n",
              "      <th>4807</th>\n",
              "      <td>54.0000</td>\n",
              "      <td>0.0020</td>\n",
              "      <td>0</td>\n",
              "      <td>0.0020</td>\n",
              "      <td>10.3000</td>\n",
              "      <td>0</td>\n",
              "      <td>0.0000</td>\n",
              "      <td>1583280000.0000</td>\n",
              "      <td>0.0594</td>\n",
              "    </tr>\n",
              "    <tr>\n",
              "      <th>4808</th>\n",
              "      <td>54.0000</td>\n",
              "      <td>0.0030</td>\n",
              "      <td>0</td>\n",
              "      <td>0.0030</td>\n",
              "      <td>10.3000</td>\n",
              "      <td>0</td>\n",
              "      <td>0.0000</td>\n",
              "      <td>1583366400.0000</td>\n",
              "      <td>0.0396</td>\n",
              "    </tr>\n",
              "  </tbody>\n",
              "</table>\n",
              "</div>"
            ],
            "text/plain": [
              "      X..hospital.bed.utilization  ...  New cases/100k\n",
              "4804                      54.0000  ...          0.0000\n",
              "4805                      54.0000  ...          0.0000\n",
              "4806                      54.0000  ...          0.0000\n",
              "4807                      54.0000  ...          0.0594\n",
              "4808                      54.0000  ...          0.0396\n",
              "\n",
              "[5 rows x 9 columns]"
            ]
          },
          "metadata": {
            "tags": []
          },
          "execution_count": 50
        }
      ]
    },
    {
      "cell_type": "code",
      "metadata": {
        "colab": {
          "base_uri": "https://localhost:8080/"
        },
        "id": "eQvpzYsaoLDO",
        "outputId": "34e4267a-adce-42ef-8923-bbd02d5157cc"
      },
      "source": [
        "print(len(LA_combined_data_featured.columns))\n",
        "LA_combined_data_featured.dtypes"
      ],
      "execution_count": null,
      "outputs": [
        {
          "output_type": "stream",
          "text": [
            "9\n"
          ],
          "name": "stdout"
        },
        {
          "output_type": "execute_result",
          "data": {
            "text/plain": [
              "X..hospital.bed.utilization    float64\n",
              "positivity_rate                float64\n",
              "Ventilator.shortage              int64\n",
              "positivity_rate                float64\n",
              "Testing.capacity               float64\n",
              "growth_code                       int8\n",
              "rolling_avg_new_cases/100k     float64\n",
              "Date                           float64\n",
              "New cases/100k                 float64\n",
              "dtype: object"
            ]
          },
          "metadata": {
            "tags": []
          },
          "execution_count": 51
        }
      ]
    },
    {
      "cell_type": "markdown",
      "metadata": {
        "id": "MfKXE4UIoLDO"
      },
      "source": [
        "## Preprocessing data for LSTM"
      ]
    },
    {
      "cell_type": "code",
      "metadata": {
        "id": "i6Mkz4kwoLDP"
      },
      "source": [
        "LA_combined_data_all_selected = LA_combined_data_all[X_cols_all]\n",
        "LA_combined_data_featured_selected = LA_combined_data_featured[X_cols_feature_selected]"
      ],
      "execution_count": null,
      "outputs": []
    },
    {
      "cell_type": "code",
      "metadata": {
        "id": "XTuDJAzFoLDP"
      },
      "source": [
        "\n",
        "# prepare data for lstm\n",
        "from pandas import read_csv\n",
        "from pandas import DataFrame\n",
        "from pandas import concat\n",
        "from sklearn.preprocessing import LabelEncoder\n",
        "from sklearn.preprocessing import MinMaxScaler\n",
        " \n",
        "# convert series to supervised learning\n",
        "def series_to_supervised(data, n_in=1, n_out=1, dropnan=True):\n",
        "\tn_vars = 1 if type(data) is list else data.shape[1]\n",
        "\tdf = DataFrame(data)\n",
        "\tcols, names = list(), list()\n",
        "\t# input sequence (t-n, ... t-1)\n",
        "\tfor i in range(n_in, 0, -1):\n",
        "\t\tcols.append(df.shift(i))\n",
        "\t\tnames += [('var%d(t-%d)' % (j+1, i)) for j in range(n_vars)]\n",
        "\t# forecast sequence (t, t+1, ... t+n)\n",
        "\tfor i in range(0, n_out):\n",
        "\t\tcols.append(df.shift(-i))\n",
        "\t\tif i == 0:\n",
        "\t\t\tnames += [('var%d(t)' % (j+1)) for j in range(n_vars)]\n",
        "\t\telse:\n",
        "\t\t\tnames += [('var%d(t+%d)' % (j+1, i)) for j in range(n_vars)]\n",
        "\t# put it all together\n",
        "\tagg = concat(cols, axis=1)\n",
        "\tagg.columns = names\n",
        "\t# drop rows with NaN values\n",
        "\tif dropnan:\n",
        "\t\tagg.dropna(inplace=True)\n",
        "\treturn agg"
      ],
      "execution_count": null,
      "outputs": []
    },
    {
      "cell_type": "markdown",
      "metadata": {
        "id": "WR7ppBNCoLDQ"
      },
      "source": [
        "## All values for CA training data"
      ]
    },
    {
      "cell_type": "code",
      "metadata": {
        "colab": {
          "base_uri": "https://localhost:8080/"
        },
        "id": "a7BZI3hDoLDQ",
        "outputId": "9029b326-d609-4cbd-e5c3-d0d39e3d9f5b"
      },
      "source": [
        "values = LA_combined_data_all_selected.values\n",
        "# integer encode direction\n",
        "encoder = LabelEncoder()\n",
        "values[:,len(X_cols_all)-1] = encoder.fit_transform(values[:,len(X_cols_all)-1])\n",
        "# ensure all data is float\n",
        "values = values.astype('float32')\n",
        "# normalize features\n",
        "scaler = MinMaxScaler(feature_range=(0, 1))\n",
        "scaled = scaler.fit_transform(values)\n",
        "# frame as supervised learning\n",
        "reframed = series_to_supervised(scaled, 1, 1)\n",
        "# drop columns we don't want to predict\n",
        "#reframed.drop(reframed.columns[[9,10,11,12,13,14,15]], axis=1, inplace=True)\n",
        "print(reframed.head())"
      ],
      "execution_count": null,
      "outputs": [
        {
          "output_type": "stream",
          "text": [
            "   var1(t-1)  var2(t-1)  var3(t-1)  ...  var10(t)  var11(t)  var12(t)\n",
            "1     0.0000     0.0000     0.0000  ...    0.0000    0.0033    0.0000\n",
            "2     0.0000     0.0000     0.0000  ...    0.0000    0.0066    0.0000\n",
            "3     0.0000     0.0000     0.0000  ...    0.0000    0.0099    0.0186\n",
            "4     0.0000     0.0000     0.0000  ...    0.0000    0.0132    0.0112\n",
            "5     0.0000     0.0000     0.0000  ...    0.0000    0.0166    0.0074\n",
            "\n",
            "[5 rows x 24 columns]\n"
          ],
          "name": "stdout"
        }
      ]
    },
    {
      "cell_type": "markdown",
      "metadata": {
        "id": "c2h1QolXoLDQ"
      },
      "source": [
        "## Train Test Split"
      ]
    },
    {
      "cell_type": "code",
      "metadata": {
        "colab": {
          "base_uri": "https://localhost:8080/"
        },
        "id": "aWxCEFMRoLDR",
        "outputId": "8da0e3b4-f09a-41c6-ee2a-5dcd5997f776"
      },
      "source": [
        "values.shape[0]"
      ],
      "execution_count": null,
      "outputs": [
        {
          "output_type": "execute_result",
          "data": {
            "text/plain": [
              "292"
            ]
          },
          "metadata": {
            "tags": []
          },
          "execution_count": 55
        }
      ]
    },
    {
      "cell_type": "code",
      "metadata": {
        "colab": {
          "base_uri": "https://localhost:8080/"
        },
        "id": "WZf3ra56oLDR",
        "outputId": "02b4a482-dc65-4812-e0c7-f59e84c6882c"
      },
      "source": [
        "\n",
        "# split into train and test sets\n",
        "values = reframed.values\n",
        "rows_count = values.shape[0]\n",
        "# split the 1/5 value\n",
        "train_split = rows_count//5\n",
        "\n",
        "n_train_hours = train_split * 4\n",
        "\n",
        "print(n_train_hours)\n",
        "print('values shape ',values.shape)\n",
        "train = values[:n_train_hours, :]\n",
        "test = values[n_train_hours:, :]\n",
        "# split into input and outputs\n",
        "train_X, train_y = train[:, :-1], train[:, -1]\n",
        "test_X, test_y = test[:, :-1], test[:, -1]\n",
        "# reshape input to be 3D [samples, timesteps, features]\n",
        "train_X = train_X.reshape((train_X.shape[0], 1, train_X.shape[1]))\n",
        "test_X = test_X.reshape((test_X.shape[0], 1, test_X.shape[1]))\n",
        "print(train_X.shape, train_y.shape, test_X.shape, test_y.shape)"
      ],
      "execution_count": null,
      "outputs": [
        {
          "output_type": "stream",
          "text": [
            "232\n",
            "values shape  (291, 24)\n",
            "(232, 1, 23) (232,) (59, 1, 23) (59,)\n"
          ],
          "name": "stdout"
        }
      ]
    },
    {
      "cell_type": "markdown",
      "metadata": {
        "id": "EO9fFm4ooLDS"
      },
      "source": [
        "## Training LSTM"
      ]
    },
    {
      "cell_type": "code",
      "metadata": {
        "colab": {
          "base_uri": "https://localhost:8080/",
          "height": 1000
        },
        "id": "VjJTXtDfoLDS",
        "outputId": "8579ed36-3736-4680-b512-ff193854055c"
      },
      "source": [
        "...\n",
        "# design network\n",
        "model = Sequential()\n",
        "model.add(LSTM(50, input_shape=(train_X.shape[1], train_X.shape[2])))\n",
        "model.add(Dense(1))\n",
        "model.compile(loss='mae', optimizer='adam')\n",
        "# fit network\n",
        "history = model.fit(train_X, train_y, epochs=100, batch_size=72, validation_data=(test_X, test_y), verbose=2, shuffle=False)\n",
        "# plot history\n",
        "plt.plot(history.history['loss'], label='train')\n",
        "plt.plot(history.history['val_loss'], label='test')\n",
        "plt.legend()\n",
        "plt.show()"
      ],
      "execution_count": null,
      "outputs": [
        {
          "output_type": "stream",
          "text": [
            "Epoch 1/100\n",
            "4/4 - 3s - loss: 0.3761 - val_loss: 0.7100\n",
            "Epoch 2/100\n",
            "4/4 - 0s - loss: 0.3303 - val_loss: 0.6254\n",
            "Epoch 3/100\n",
            "4/4 - 0s - loss: 0.2898 - val_loss: 0.5447\n",
            "Epoch 4/100\n",
            "4/4 - 0s - loss: 0.2549 - val_loss: 0.4644\n",
            "Epoch 5/100\n",
            "4/4 - 0s - loss: 0.2242 - val_loss: 0.3857\n",
            "Epoch 6/100\n",
            "4/4 - 0s - loss: 0.2001 - val_loss: 0.3123\n",
            "Epoch 7/100\n",
            "4/4 - 0s - loss: 0.1819 - val_loss: 0.2449\n",
            "Epoch 8/100\n",
            "4/4 - 0s - loss: 0.1692 - val_loss: 0.1995\n",
            "Epoch 9/100\n",
            "4/4 - 0s - loss: 0.1600 - val_loss: 0.1784\n",
            "Epoch 10/100\n",
            "4/4 - 0s - loss: 0.1534 - val_loss: 0.1674\n",
            "Epoch 11/100\n",
            "4/4 - 0s - loss: 0.1483 - val_loss: 0.1663\n",
            "Epoch 12/100\n",
            "4/4 - 0s - loss: 0.1441 - val_loss: 0.1682\n",
            "Epoch 13/100\n",
            "4/4 - 0s - loss: 0.1401 - val_loss: 0.1712\n",
            "Epoch 14/100\n",
            "4/4 - 0s - loss: 0.1363 - val_loss: 0.1745\n",
            "Epoch 15/100\n",
            "4/4 - 0s - loss: 0.1327 - val_loss: 0.1779\n",
            "Epoch 16/100\n",
            "4/4 - 0s - loss: 0.1292 - val_loss: 0.1813\n",
            "Epoch 17/100\n",
            "4/4 - 0s - loss: 0.1258 - val_loss: 0.1847\n",
            "Epoch 18/100\n",
            "4/4 - 0s - loss: 0.1226 - val_loss: 0.1882\n",
            "Epoch 19/100\n",
            "4/4 - 0s - loss: 0.1197 - val_loss: 0.1919\n",
            "Epoch 20/100\n",
            "4/4 - 0s - loss: 0.1175 - val_loss: 0.1960\n",
            "Epoch 21/100\n",
            "4/4 - 0s - loss: 0.1155 - val_loss: 0.1999\n",
            "Epoch 22/100\n",
            "4/4 - 0s - loss: 0.1140 - val_loss: 0.2036\n",
            "Epoch 23/100\n",
            "4/4 - 0s - loss: 0.1127 - val_loss: 0.2067\n",
            "Epoch 24/100\n",
            "4/4 - 0s - loss: 0.1118 - val_loss: 0.2093\n",
            "Epoch 25/100\n",
            "4/4 - 0s - loss: 0.1111 - val_loss: 0.2118\n",
            "Epoch 26/100\n",
            "4/4 - 0s - loss: 0.1106 - val_loss: 0.2145\n",
            "Epoch 27/100\n",
            "4/4 - 0s - loss: 0.1102 - val_loss: 0.2172\n",
            "Epoch 28/100\n",
            "4/4 - 0s - loss: 0.1098 - val_loss: 0.2198\n",
            "Epoch 29/100\n",
            "4/4 - 0s - loss: 0.1096 - val_loss: 0.2219\n",
            "Epoch 30/100\n",
            "4/4 - 0s - loss: 0.1096 - val_loss: 0.2222\n",
            "Epoch 31/100\n",
            "4/4 - 0s - loss: 0.1094 - val_loss: 0.2214\n",
            "Epoch 32/100\n",
            "4/4 - 0s - loss: 0.1092 - val_loss: 0.2201\n",
            "Epoch 33/100\n",
            "4/4 - 0s - loss: 0.1090 - val_loss: 0.2187\n",
            "Epoch 34/100\n",
            "4/4 - 0s - loss: 0.1089 - val_loss: 0.2176\n",
            "Epoch 35/100\n",
            "4/4 - 0s - loss: 0.1088 - val_loss: 0.2168\n",
            "Epoch 36/100\n",
            "4/4 - 0s - loss: 0.1087 - val_loss: 0.2162\n",
            "Epoch 37/100\n",
            "4/4 - 0s - loss: 0.1086 - val_loss: 0.2157\n",
            "Epoch 38/100\n",
            "4/4 - 0s - loss: 0.1085 - val_loss: 0.2153\n",
            "Epoch 39/100\n",
            "4/4 - 0s - loss: 0.1084 - val_loss: 0.2149\n",
            "Epoch 40/100\n",
            "4/4 - 0s - loss: 0.1084 - val_loss: 0.2146\n",
            "Epoch 41/100\n",
            "4/4 - 0s - loss: 0.1083 - val_loss: 0.2141\n",
            "Epoch 42/100\n",
            "4/4 - 0s - loss: 0.1082 - val_loss: 0.2134\n",
            "Epoch 43/100\n",
            "4/4 - 0s - loss: 0.1081 - val_loss: 0.2129\n",
            "Epoch 44/100\n",
            "4/4 - 0s - loss: 0.1080 - val_loss: 0.2125\n",
            "Epoch 45/100\n",
            "4/4 - 0s - loss: 0.1079 - val_loss: 0.2121\n",
            "Epoch 46/100\n",
            "4/4 - 0s - loss: 0.1078 - val_loss: 0.2117\n",
            "Epoch 47/100\n",
            "4/4 - 0s - loss: 0.1077 - val_loss: 0.2110\n",
            "Epoch 48/100\n",
            "4/4 - 0s - loss: 0.1076 - val_loss: 0.2104\n",
            "Epoch 49/100\n",
            "4/4 - 0s - loss: 0.1075 - val_loss: 0.2098\n",
            "Epoch 50/100\n",
            "4/4 - 0s - loss: 0.1074 - val_loss: 0.2091\n",
            "Epoch 51/100\n",
            "4/4 - 0s - loss: 0.1073 - val_loss: 0.2088\n",
            "Epoch 52/100\n",
            "4/4 - 0s - loss: 0.1072 - val_loss: 0.2088\n",
            "Epoch 53/100\n",
            "4/4 - 0s - loss: 0.1071 - val_loss: 0.2087\n",
            "Epoch 54/100\n",
            "4/4 - 0s - loss: 0.1070 - val_loss: 0.2082\n",
            "Epoch 55/100\n",
            "4/4 - 0s - loss: 0.1069 - val_loss: 0.2075\n",
            "Epoch 56/100\n",
            "4/4 - 0s - loss: 0.1068 - val_loss: 0.2066\n",
            "Epoch 57/100\n",
            "4/4 - 0s - loss: 0.1068 - val_loss: 0.2062\n",
            "Epoch 58/100\n",
            "4/4 - 0s - loss: 0.1067 - val_loss: 0.2060\n",
            "Epoch 59/100\n",
            "4/4 - 0s - loss: 0.1066 - val_loss: 0.2058\n",
            "Epoch 60/100\n",
            "4/4 - 0s - loss: 0.1065 - val_loss: 0.2052\n",
            "Epoch 61/100\n",
            "4/4 - 0s - loss: 0.1064 - val_loss: 0.2048\n",
            "Epoch 62/100\n",
            "4/4 - 0s - loss: 0.1064 - val_loss: 0.2042\n",
            "Epoch 63/100\n",
            "4/4 - 0s - loss: 0.1063 - val_loss: 0.2033\n",
            "Epoch 64/100\n",
            "4/4 - 0s - loss: 0.1062 - val_loss: 0.2029\n",
            "Epoch 65/100\n",
            "4/4 - 0s - loss: 0.1062 - val_loss: 0.2022\n",
            "Epoch 66/100\n",
            "4/4 - 0s - loss: 0.1061 - val_loss: 0.2022\n",
            "Epoch 67/100\n",
            "4/4 - 0s - loss: 0.1060 - val_loss: 0.2022\n",
            "Epoch 68/100\n",
            "4/4 - 0s - loss: 0.1060 - val_loss: 0.2015\n",
            "Epoch 69/100\n",
            "4/4 - 0s - loss: 0.1059 - val_loss: 0.2009\n",
            "Epoch 70/100\n",
            "4/4 - 0s - loss: 0.1059 - val_loss: 0.2005\n",
            "Epoch 71/100\n",
            "4/4 - 0s - loss: 0.1058 - val_loss: 0.2000\n",
            "Epoch 72/100\n",
            "4/4 - 0s - loss: 0.1058 - val_loss: 0.1997\n",
            "Epoch 73/100\n",
            "4/4 - 0s - loss: 0.1058 - val_loss: 0.1997\n",
            "Epoch 74/100\n",
            "4/4 - 0s - loss: 0.1057 - val_loss: 0.1992\n",
            "Epoch 75/100\n",
            "4/4 - 0s - loss: 0.1057 - val_loss: 0.1984\n",
            "Epoch 76/100\n",
            "4/4 - 0s - loss: 0.1057 - val_loss: 0.1983\n",
            "Epoch 77/100\n",
            "4/4 - 0s - loss: 0.1056 - val_loss: 0.1984\n",
            "Epoch 78/100\n",
            "4/4 - 0s - loss: 0.1056 - val_loss: 0.1979\n",
            "Epoch 79/100\n",
            "4/4 - 0s - loss: 0.1055 - val_loss: 0.1972\n",
            "Epoch 80/100\n",
            "4/4 - 0s - loss: 0.1055 - val_loss: 0.1966\n",
            "Epoch 81/100\n",
            "4/4 - 0s - loss: 0.1055 - val_loss: 0.1966\n",
            "Epoch 82/100\n",
            "4/4 - 0s - loss: 0.1055 - val_loss: 0.1964\n",
            "Epoch 83/100\n",
            "4/4 - 0s - loss: 0.1054 - val_loss: 0.1953\n",
            "Epoch 84/100\n",
            "4/4 - 0s - loss: 0.1053 - val_loss: 0.1946\n",
            "Epoch 85/100\n",
            "4/4 - 0s - loss: 0.1053 - val_loss: 0.1946\n",
            "Epoch 86/100\n",
            "4/4 - 0s - loss: 0.1053 - val_loss: 0.1948\n",
            "Epoch 87/100\n",
            "4/4 - 0s - loss: 0.1053 - val_loss: 0.1942\n",
            "Epoch 88/100\n",
            "4/4 - 0s - loss: 0.1052 - val_loss: 0.1932\n",
            "Epoch 89/100\n",
            "4/4 - 0s - loss: 0.1052 - val_loss: 0.1931\n",
            "Epoch 90/100\n",
            "4/4 - 0s - loss: 0.1052 - val_loss: 0.1932\n",
            "Epoch 91/100\n",
            "4/4 - 0s - loss: 0.1051 - val_loss: 0.1927\n",
            "Epoch 92/100\n",
            "4/4 - 0s - loss: 0.1051 - val_loss: 0.1918\n",
            "Epoch 93/100\n",
            "4/4 - 0s - loss: 0.1050 - val_loss: 0.1913\n",
            "Epoch 94/100\n",
            "4/4 - 0s - loss: 0.1050 - val_loss: 0.1912\n",
            "Epoch 95/100\n",
            "4/4 - 0s - loss: 0.1050 - val_loss: 0.1909\n",
            "Epoch 96/100\n",
            "4/4 - 0s - loss: 0.1049 - val_loss: 0.1904\n",
            "Epoch 97/100\n",
            "4/4 - 0s - loss: 0.1049 - val_loss: 0.1901\n",
            "Epoch 98/100\n",
            "4/4 - 0s - loss: 0.1048 - val_loss: 0.1899\n",
            "Epoch 99/100\n",
            "4/4 - 0s - loss: 0.1048 - val_loss: 0.1900\n",
            "Epoch 100/100\n",
            "4/4 - 0s - loss: 0.1048 - val_loss: 0.1895\n"
          ],
          "name": "stdout"
        },
        {
          "output_type": "display_data",
          "data": {
            "image/png": "[encoded data removed]",
            "text/plain": [
              "<Figure size 432x288 with 1 Axes>"
            ]
          },
          "metadata": {
            "tags": [],
            "needs_background": "light"
          }
        }
      ]
    },
    {
      "cell_type": "code",
      "metadata": {
        "colab": {
          "base_uri": "https://localhost:8080/",
          "height": 267
        },
        "id": "SOfcOrlZrQlP",
        "outputId": "3bd41b13-f6c9-42e5-c702-0a04a829afbf"
      },
      "source": [
        "# plot history\r\n",
        "plt.plot(history.history['loss'], label='train')\r\n",
        "plt.plot(history.history['val_loss'], label='test')\r\n",
        "plt.legend()\r\n",
        "plt.show()"
      ],
      "execution_count": null,
      "outputs": [
        {
          "output_type": "display_data",
          "data": {
            "image/png": "[encoded data removed]",
            "text/plain": [
              "<Figure size 432x288 with 1 Axes>"
            ]
          },
          "metadata": {
            "tags": [],
            "needs_background": "light"
          }
        }
      ]
    },
    {
      "cell_type": "markdown",
      "metadata": {
        "id": "NCg1x6sfoLDS"
      },
      "source": [
        "## Test"
      ]
    },
    {
      "cell_type": "code",
      "metadata": {
        "colab": {
          "base_uri": "https://localhost:8080/"
        },
        "id": "2U_9xR5CoLDS",
        "outputId": "05e2e651-42b3-4058-90f1-1bf79d927b9a"
      },
      "source": [
        "import math\n",
        "\n",
        "# make a prediction\n",
        "yhat = model.predict(test_X)\n",
        "test_X1 = test_X.reshape((test_X.shape[0], test_X.shape[2]))\n",
        "# invert scaling for forecast\n",
        "inv_yhat = concatenate((yhat, test_X1[:, 1:]), axis=1)\n",
        "print(inv_yhat.shape)\n",
        "#inv_yhat = scaler.inverse_transform(inv_yhat)\n",
        "inv_yhat = inv_yhat[:,0]\n",
        "# invert scaling for actual\n",
        "test_y = test_y.reshape((len(test_y), 1))\n",
        "inv_y = concatenate((test_y, test_X1[:, 1:]), axis=1)\n",
        "#inv_y = scaler.inverse_transform(inv_y)\n",
        "inv_y = inv_y[:,0]\n",
        "# calculate RMSE\n",
        "mse = mean_squared_error(inv_y, inv_yhat)\n",
        "print('Test MSE: %.3f' % mse)\n",
        "rmse = math.sqrt(mean_squared_error(inv_y, inv_yhat))\n",
        "print('Test RMSE: %.3f' % rmse)\n",
        "\n",
        "print('median_absolute_error', median_absolute_error(inv_y, inv_yhat))\n",
        "print('mean_absolute_error', mean_absolute_error(inv_y, inv_yhat))"
      ],
      "execution_count": null,
      "outputs": [
        {
          "output_type": "stream",
          "text": [
            "(59, 23)\n",
            "Test MSE: 0.082\n",
            "Test RMSE: 0.286\n",
            "median_absolute_error 0.10487485\n",
            "mean_absolute_error 0.18952176\n"
          ],
          "name": "stdout"
        }
      ]
    },
    {
      "cell_type": "markdown",
      "metadata": {
        "id": "yW1ODNyeoLDT"
      },
      "source": [
        "## Preprocessing feature selected data for training"
      ]
    },
    {
      "cell_type": "code",
      "metadata": {
        "colab": {
          "base_uri": "https://localhost:8080/"
        },
        "id": "0NtrO1iVoLDT",
        "outputId": "2ea5a2f9-0b50-45e1-8c1f-72be65897bc2"
      },
      "source": [
        "len(LA_combined_data_featured_selected.columns)"
      ],
      "execution_count": null,
      "outputs": [
        {
          "output_type": "execute_result",
          "data": {
            "text/plain": [
              "11"
            ]
          },
          "metadata": {
            "tags": []
          },
          "execution_count": 60
        }
      ]
    },
    {
      "cell_type": "code",
      "metadata": {
        "colab": {
          "base_uri": "https://localhost:8080/"
        },
        "id": "TbLBFNSToLDT",
        "outputId": "649692bb-55b9-4718-85b5-7921270df67c"
      },
      "source": [
        "values = LA_combined_data_featured_selected.values\n",
        "# integer encode direction\n",
        "encoder = LabelEncoder()\n",
        "values[:,len(X_cols_feature_selected)-1] = encoder.fit_transform(values[:,len(X_cols_feature_selected)-1])\n",
        "# ensure all data is float\n",
        "values = values.astype('float32')\n",
        "# normalize features\n",
        "scaler = MinMaxScaler(feature_range=(0, 1))\n",
        "scaled = scaler.fit_transform(values)\n",
        "# frame as supervised learning\n",
        "reframed = series_to_supervised(scaled, 1, 1)\n",
        "# drop columns we don't want to predict\n",
        "#reframed.drop(reframed.columns[[9,10,11,12,13,14,15]], axis=1, inplace=True)\n",
        "print(reframed.head())"
      ],
      "execution_count": null,
      "outputs": [
        {
          "output_type": "stream",
          "text": [
            "   var1(t-1)  var2(t-1)  var3(t-1)  ...  var9(t)  var10(t)  var11(t)\n",
            "1     0.0000     0.0000     0.0000  ...   0.0000    0.0033    0.0000\n",
            "2     0.0000     0.0000     0.0000  ...   0.0000    0.0066    0.0000\n",
            "3     0.0000     0.0000     0.0000  ...   0.0000    0.0099    0.0002\n",
            "4     0.0000     0.2729     0.2729  ...   0.0000    0.0132    0.0001\n",
            "5     0.0000     0.4093     0.4093  ...   0.0000    0.0166    0.0001\n",
            "\n",
            "[5 rows x 22 columns]\n"
          ],
          "name": "stdout"
        }
      ]
    },
    {
      "cell_type": "markdown",
      "metadata": {
        "id": "7gMESMXuoLDU"
      },
      "source": [
        "### Train Test split"
      ]
    },
    {
      "cell_type": "code",
      "metadata": {
        "colab": {
          "base_uri": "https://localhost:8080/"
        },
        "id": "h9SEA-t0oLDU",
        "outputId": "9191fd24-9d98-4439-81d8-3015375f5037"
      },
      "source": [
        "\n",
        "# split into train and test sets\n",
        "values = reframed.values\n",
        "rows_count = values.shape[0]\n",
        "# split the 1/5 value\n",
        "train_split = rows_count//5\n",
        "\n",
        "n_train_hours = train_split * 4\n",
        "\n",
        "print(n_train_hours)\n",
        "print('values shape ',values.shape)\n",
        "train = values[:n_train_hours, :]\n",
        "test = values[n_train_hours:, :]\n",
        "# split into input and outputs\n",
        "train_X, train_y = train[:, :-1], train[:, -1]\n",
        "test_X, test_y = test[:, :-1], test[:, -1]\n",
        "# reshape input to be 3D [samples, timesteps, features]\n",
        "train_X = train_X.reshape((train_X.shape[0], 1, train_X.shape[1]))\n",
        "test_X = test_X.reshape((test_X.shape[0], 1, test_X.shape[1]))\n",
        "print(train_X.shape, train_y.shape, test_X.shape, test_y.shape)"
      ],
      "execution_count": null,
      "outputs": [
        {
          "output_type": "stream",
          "text": [
            "232\n",
            "values shape  (291, 22)\n",
            "(232, 1, 21) (232,) (59, 1, 21) (59,)\n"
          ],
          "name": "stdout"
        }
      ]
    },
    {
      "cell_type": "markdown",
      "metadata": {
        "id": "lgk6bleFoLDU"
      },
      "source": [
        "### Training LSTM for feature selected data"
      ]
    },
    {
      "cell_type": "code",
      "metadata": {
        "colab": {
          "base_uri": "https://localhost:8080/"
        },
        "id": "PbTb3tMgoLDU",
        "outputId": "51cad6de-6a49-47de-b774-4b1c93b51afb"
      },
      "source": [
        "...\n",
        "# design network\n",
        "model = Sequential()\n",
        "model.add(LSTM(50, input_shape=(train_X.shape[1], train_X.shape[2])))\n",
        "model.add(Dense(1))\n",
        "model.compile(loss='mae', optimizer='adam')\n",
        "# fit network\n",
        "history = model.fit(train_X, train_y, epochs=200, batch_size=72, validation_data=(test_X, test_y), verbose=2, shuffle=False)\n"
      ],
      "execution_count": null,
      "outputs": [
        {
          "output_type": "stream",
          "text": [
            "Epoch 1/200\n",
            "4/4 - 3s - loss: 0.0232 - val_loss: 0.1173\n",
            "Epoch 2/200\n",
            "4/4 - 0s - loss: 0.0167 - val_loss: 0.1137\n",
            "Epoch 3/200\n",
            "4/4 - 0s - loss: 0.0163 - val_loss: 0.1155\n",
            "Epoch 4/200\n",
            "4/4 - 0s - loss: 0.0156 - val_loss: 0.1159\n",
            "Epoch 5/200\n",
            "4/4 - 0s - loss: 0.0151 - val_loss: 0.1148\n",
            "Epoch 6/200\n",
            "4/4 - 0s - loss: 0.0154 - val_loss: 0.1142\n",
            "Epoch 7/200\n",
            "4/4 - 0s - loss: 0.0148 - val_loss: 0.1152\n",
            "Epoch 8/200\n",
            "4/4 - 0s - loss: 0.0144 - val_loss: 0.1173\n",
            "Epoch 9/200\n",
            "4/4 - 0s - loss: 0.0144 - val_loss: 0.1188\n",
            "Epoch 10/200\n",
            "4/4 - 0s - loss: 0.0141 - val_loss: 0.1213\n",
            "Epoch 11/200\n",
            "4/4 - 0s - loss: 0.0141 - val_loss: 0.1210\n",
            "Epoch 12/200\n",
            "4/4 - 0s - loss: 0.0139 - val_loss: 0.1189\n",
            "Epoch 13/200\n",
            "4/4 - 0s - loss: 0.0138 - val_loss: 0.1197\n",
            "Epoch 14/200\n",
            "4/4 - 0s - loss: 0.0137 - val_loss: 0.1178\n",
            "Epoch 15/200\n",
            "4/4 - 0s - loss: 0.0136 - val_loss: 0.1198\n",
            "Epoch 16/200\n",
            "4/4 - 0s - loss: 0.0133 - val_loss: 0.1215\n",
            "Epoch 17/200\n",
            "4/4 - 0s - loss: 0.0134 - val_loss: 0.1217\n",
            "Epoch 18/200\n",
            "4/4 - 0s - loss: 0.0133 - val_loss: 0.1216\n",
            "Epoch 19/200\n",
            "4/4 - 0s - loss: 0.0131 - val_loss: 0.1210\n",
            "Epoch 20/200\n",
            "4/4 - 0s - loss: 0.0131 - val_loss: 0.1212\n",
            "Epoch 21/200\n",
            "4/4 - 0s - loss: 0.0133 - val_loss: 0.1224\n",
            "Epoch 22/200\n",
            "4/4 - 0s - loss: 0.0132 - val_loss: 0.1253\n",
            "Epoch 23/200\n",
            "4/4 - 0s - loss: 0.0130 - val_loss: 0.1221\n",
            "Epoch 24/200\n",
            "4/4 - 0s - loss: 0.0131 - val_loss: 0.1242\n",
            "Epoch 25/200\n",
            "4/4 - 0s - loss: 0.0134 - val_loss: 0.1207\n",
            "Epoch 26/200\n",
            "4/4 - 0s - loss: 0.0130 - val_loss: 0.1259\n",
            "Epoch 27/200\n",
            "4/4 - 0s - loss: 0.0129 - val_loss: 0.1248\n",
            "Epoch 28/200\n",
            "4/4 - 0s - loss: 0.0129 - val_loss: 0.1238\n",
            "Epoch 29/200\n",
            "4/4 - 0s - loss: 0.0126 - val_loss: 0.1243\n",
            "Epoch 30/200\n",
            "4/4 - 0s - loss: 0.0125 - val_loss: 0.1257\n",
            "Epoch 31/200\n",
            "4/4 - 0s - loss: 0.0125 - val_loss: 0.1246\n",
            "Epoch 32/200\n",
            "4/4 - 0s - loss: 0.0125 - val_loss: 0.1261\n",
            "Epoch 33/200\n",
            "4/4 - 0s - loss: 0.0124 - val_loss: 0.1265\n",
            "Epoch 34/200\n",
            "4/4 - 0s - loss: 0.0126 - val_loss: 0.1252\n",
            "Epoch 35/200\n",
            "4/4 - 0s - loss: 0.0130 - val_loss: 0.1274\n",
            "Epoch 36/200\n",
            "4/4 - 0s - loss: 0.0128 - val_loss: 0.1239\n",
            "Epoch 37/200\n",
            "4/4 - 0s - loss: 0.0129 - val_loss: 0.1297\n",
            "Epoch 38/200\n",
            "4/4 - 0s - loss: 0.0129 - val_loss: 0.1245\n",
            "Epoch 39/200\n",
            "4/4 - 0s - loss: 0.0129 - val_loss: 0.1292\n",
            "Epoch 40/200\n",
            "4/4 - 0s - loss: 0.0124 - val_loss: 0.1257\n",
            "Epoch 41/200\n",
            "4/4 - 0s - loss: 0.0125 - val_loss: 0.1289\n",
            "Epoch 42/200\n",
            "4/4 - 0s - loss: 0.0124 - val_loss: 0.1255\n",
            "Epoch 43/200\n",
            "4/4 - 0s - loss: 0.0127 - val_loss: 0.1308\n",
            "Epoch 44/200\n",
            "4/4 - 0s - loss: 0.0124 - val_loss: 0.1261\n",
            "Epoch 45/200\n",
            "4/4 - 0s - loss: 0.0122 - val_loss: 0.1285\n",
            "Epoch 46/200\n",
            "4/4 - 0s - loss: 0.0124 - val_loss: 0.1284\n",
            "Epoch 47/200\n",
            "4/4 - 0s - loss: 0.0126 - val_loss: 0.1284\n",
            "Epoch 48/200\n",
            "4/4 - 0s - loss: 0.0121 - val_loss: 0.1262\n",
            "Epoch 49/200\n",
            "4/4 - 0s - loss: 0.0129 - val_loss: 0.1262\n",
            "Epoch 50/200\n",
            "4/4 - 0s - loss: 0.0122 - val_loss: 0.1323\n",
            "Epoch 51/200\n",
            "4/4 - 0s - loss: 0.0121 - val_loss: 0.1270\n",
            "Epoch 52/200\n",
            "4/4 - 0s - loss: 0.0123 - val_loss: 0.1308\n",
            "Epoch 53/200\n",
            "4/4 - 0s - loss: 0.0124 - val_loss: 0.1266\n",
            "Epoch 54/200\n",
            "4/4 - 0s - loss: 0.0123 - val_loss: 0.1311\n",
            "Epoch 55/200\n",
            "4/4 - 0s - loss: 0.0121 - val_loss: 0.1266\n",
            "Epoch 56/200\n",
            "4/4 - 0s - loss: 0.0121 - val_loss: 0.1300\n",
            "Epoch 57/200\n",
            "4/4 - 0s - loss: 0.0122 - val_loss: 0.1292\n",
            "Epoch 58/200\n",
            "4/4 - 0s - loss: 0.0121 - val_loss: 0.1315\n",
            "Epoch 59/200\n",
            "4/4 - 0s - loss: 0.0119 - val_loss: 0.1270\n",
            "Epoch 60/200\n",
            "4/4 - 0s - loss: 0.0123 - val_loss: 0.1300\n",
            "Epoch 61/200\n",
            "4/4 - 0s - loss: 0.0126 - val_loss: 0.1320\n",
            "Epoch 62/200\n",
            "4/4 - 0s - loss: 0.0119 - val_loss: 0.1253\n",
            "Epoch 63/200\n",
            "4/4 - 0s - loss: 0.0119 - val_loss: 0.1328\n",
            "Epoch 64/200\n",
            "4/4 - 0s - loss: 0.0124 - val_loss: 0.1299\n",
            "Epoch 65/200\n",
            "4/4 - 0s - loss: 0.0124 - val_loss: 0.1319\n",
            "Epoch 66/200\n",
            "4/4 - 0s - loss: 0.0117 - val_loss: 0.1268\n",
            "Epoch 67/200\n",
            "4/4 - 0s - loss: 0.0118 - val_loss: 0.1304\n",
            "Epoch 68/200\n",
            "4/4 - 0s - loss: 0.0117 - val_loss: 0.1311\n",
            "Epoch 69/200\n",
            "4/4 - 0s - loss: 0.0116 - val_loss: 0.1283\n",
            "Epoch 70/200\n",
            "4/4 - 0s - loss: 0.0117 - val_loss: 0.1322\n",
            "Epoch 71/200\n",
            "4/4 - 0s - loss: 0.0121 - val_loss: 0.1296\n",
            "Epoch 72/200\n",
            "4/4 - 0s - loss: 0.0119 - val_loss: 0.1289\n",
            "Epoch 73/200\n",
            "4/4 - 0s - loss: 0.0118 - val_loss: 0.1320\n",
            "Epoch 74/200\n",
            "4/4 - 0s - loss: 0.0117 - val_loss: 0.1281\n",
            "Epoch 75/200\n",
            "4/4 - 0s - loss: 0.0116 - val_loss: 0.1310\n",
            "Epoch 76/200\n",
            "4/4 - 0s - loss: 0.0121 - val_loss: 0.1310\n",
            "Epoch 77/200\n",
            "4/4 - 0s - loss: 0.0120 - val_loss: 0.1310\n",
            "Epoch 78/200\n",
            "4/4 - 0s - loss: 0.0116 - val_loss: 0.1292\n",
            "Epoch 79/200\n",
            "4/4 - 0s - loss: 0.0115 - val_loss: 0.1319\n",
            "Epoch 80/200\n",
            "4/4 - 0s - loss: 0.0116 - val_loss: 0.1303\n",
            "Epoch 81/200\n",
            "4/4 - 0s - loss: 0.0114 - val_loss: 0.1326\n",
            "Epoch 82/200\n",
            "4/4 - 0s - loss: 0.0117 - val_loss: 0.1304\n",
            "Epoch 83/200\n",
            "4/4 - 0s - loss: 0.0124 - val_loss: 0.1318\n",
            "Epoch 84/200\n",
            "4/4 - 0s - loss: 0.0115 - val_loss: 0.1276\n",
            "Epoch 85/200\n",
            "4/4 - 0s - loss: 0.0126 - val_loss: 0.1313\n",
            "Epoch 86/200\n",
            "4/4 - 0s - loss: 0.0119 - val_loss: 0.1332\n",
            "Epoch 87/200\n",
            "4/4 - 0s - loss: 0.0117 - val_loss: 0.1280\n",
            "Epoch 88/200\n",
            "4/4 - 0s - loss: 0.0114 - val_loss: 0.1296\n",
            "Epoch 89/200\n",
            "4/4 - 0s - loss: 0.0114 - val_loss: 0.1307\n",
            "Epoch 90/200\n",
            "4/4 - 0s - loss: 0.0119 - val_loss: 0.1335\n",
            "Epoch 91/200\n",
            "4/4 - 0s - loss: 0.0116 - val_loss: 0.1279\n",
            "Epoch 92/200\n",
            "4/4 - 0s - loss: 0.0119 - val_loss: 0.1310\n",
            "Epoch 93/200\n",
            "4/4 - 0s - loss: 0.0126 - val_loss: 0.1336\n",
            "Epoch 94/200\n",
            "4/4 - 0s - loss: 0.0119 - val_loss: 0.1235\n",
            "Epoch 95/200\n",
            "4/4 - 0s - loss: 0.0129 - val_loss: 0.1362\n",
            "Epoch 96/200\n",
            "4/4 - 0s - loss: 0.0115 - val_loss: 0.1266\n",
            "Epoch 97/200\n",
            "4/4 - 0s - loss: 0.0118 - val_loss: 0.1312\n",
            "Epoch 98/200\n",
            "4/4 - 0s - loss: 0.0119 - val_loss: 0.1331\n",
            "Epoch 99/200\n",
            "4/4 - 0s - loss: 0.0118 - val_loss: 0.1322\n",
            "Epoch 100/200\n",
            "4/4 - 0s - loss: 0.0113 - val_loss: 0.1277\n",
            "Epoch 101/200\n",
            "4/4 - 0s - loss: 0.0114 - val_loss: 0.1306\n",
            "Epoch 102/200\n",
            "4/4 - 0s - loss: 0.0114 - val_loss: 0.1287\n",
            "Epoch 103/200\n",
            "4/4 - 0s - loss: 0.0113 - val_loss: 0.1317\n",
            "Epoch 104/200\n",
            "4/4 - 0s - loss: 0.0117 - val_loss: 0.1296\n",
            "Epoch 105/200\n",
            "4/4 - 0s - loss: 0.0120 - val_loss: 0.1301\n",
            "Epoch 106/200\n",
            "4/4 - 0s - loss: 0.0115 - val_loss: 0.1290\n",
            "Epoch 107/200\n",
            "4/4 - 0s - loss: 0.0126 - val_loss: 0.1256\n",
            "Epoch 108/200\n",
            "4/4 - 0s - loss: 0.0113 - val_loss: 0.1357\n",
            "Epoch 109/200\n",
            "4/4 - 0s - loss: 0.0114 - val_loss: 0.1268\n",
            "Epoch 110/200\n",
            "4/4 - 0s - loss: 0.0123 - val_loss: 0.1324\n",
            "Epoch 111/200\n",
            "4/4 - 0s - loss: 0.0111 - val_loss: 0.1276\n",
            "Epoch 112/200\n",
            "4/4 - 0s - loss: 0.0116 - val_loss: 0.1315\n",
            "Epoch 113/200\n",
            "4/4 - 0s - loss: 0.0119 - val_loss: 0.1330\n",
            "Epoch 114/200\n",
            "4/4 - 0s - loss: 0.0115 - val_loss: 0.1255\n",
            "Epoch 115/200\n",
            "4/4 - 0s - loss: 0.0124 - val_loss: 0.1346\n",
            "Epoch 116/200\n",
            "4/4 - 0s - loss: 0.0113 - val_loss: 0.1242\n",
            "Epoch 117/200\n",
            "4/4 - 0s - loss: 0.0116 - val_loss: 0.1302\n",
            "Epoch 118/200\n",
            "4/4 - 0s - loss: 0.0123 - val_loss: 0.1293\n",
            "Epoch 119/200\n",
            "4/4 - 0s - loss: 0.0112 - val_loss: 0.1296\n",
            "Epoch 120/200\n",
            "4/4 - 0s - loss: 0.0115 - val_loss: 0.1314\n",
            "Epoch 121/200\n",
            "4/4 - 0s - loss: 0.0119 - val_loss: 0.1252\n",
            "Epoch 122/200\n",
            "4/4 - 0s - loss: 0.0119 - val_loss: 0.1361\n",
            "Epoch 123/200\n",
            "4/4 - 0s - loss: 0.0114 - val_loss: 0.1279\n",
            "Epoch 124/200\n",
            "4/4 - 0s - loss: 0.0117 - val_loss: 0.1315\n",
            "Epoch 125/200\n",
            "4/4 - 0s - loss: 0.0111 - val_loss: 0.1304\n",
            "Epoch 126/200\n",
            "4/4 - 0s - loss: 0.0113 - val_loss: 0.1295\n",
            "Epoch 127/200\n",
            "4/4 - 0s - loss: 0.0112 - val_loss: 0.1291\n",
            "Epoch 128/200\n",
            "4/4 - 0s - loss: 0.0115 - val_loss: 0.1315\n",
            "Epoch 129/200\n",
            "4/4 - 0s - loss: 0.0114 - val_loss: 0.1267\n",
            "Epoch 130/200\n",
            "4/4 - 0s - loss: 0.0119 - val_loss: 0.1354\n",
            "Epoch 131/200\n",
            "4/4 - 0s - loss: 0.0112 - val_loss: 0.1265\n",
            "Epoch 132/200\n",
            "4/4 - 0s - loss: 0.0112 - val_loss: 0.1323\n",
            "Epoch 133/200\n",
            "4/4 - 0s - loss: 0.0117 - val_loss: 0.1300\n",
            "Epoch 134/200\n",
            "4/4 - 0s - loss: 0.0118 - val_loss: 0.1282\n",
            "Epoch 135/200\n",
            "4/4 - 0s - loss: 0.0114 - val_loss: 0.1305\n",
            "Epoch 136/200\n",
            "4/4 - 0s - loss: 0.0122 - val_loss: 0.1283\n",
            "Epoch 137/200\n",
            "4/4 - 0s - loss: 0.0110 - val_loss: 0.1332\n",
            "Epoch 138/200\n",
            "4/4 - 0s - loss: 0.0115 - val_loss: 0.1293\n",
            "Epoch 139/200\n",
            "4/4 - 0s - loss: 0.0110 - val_loss: 0.1279\n",
            "Epoch 140/200\n",
            "4/4 - 0s - loss: 0.0118 - val_loss: 0.1300\n",
            "Epoch 141/200\n",
            "4/4 - 0s - loss: 0.0114 - val_loss: 0.1328\n",
            "Epoch 142/200\n",
            "4/4 - 0s - loss: 0.0110 - val_loss: 0.1248\n",
            "Epoch 143/200\n",
            "4/4 - 0s - loss: 0.0113 - val_loss: 0.1287\n",
            "Epoch 144/200\n",
            "4/4 - 0s - loss: 0.0115 - val_loss: 0.1319\n",
            "Epoch 145/200\n",
            "4/4 - 0s - loss: 0.0116 - val_loss: 0.1320\n",
            "Epoch 146/200\n",
            "4/4 - 0s - loss: 0.0110 - val_loss: 0.1269\n",
            "Epoch 147/200\n",
            "4/4 - 0s - loss: 0.0111 - val_loss: 0.1304\n",
            "Epoch 148/200\n",
            "4/4 - 0s - loss: 0.0109 - val_loss: 0.1293\n",
            "Epoch 149/200\n",
            "4/4 - 0s - loss: 0.0109 - val_loss: 0.1301\n",
            "Epoch 150/200\n",
            "4/4 - 0s - loss: 0.0111 - val_loss: 0.1307\n",
            "Epoch 151/200\n",
            "4/4 - 0s - loss: 0.0116 - val_loss: 0.1306\n",
            "Epoch 152/200\n",
            "4/4 - 0s - loss: 0.0110 - val_loss: 0.1245\n",
            "Epoch 153/200\n",
            "4/4 - 0s - loss: 0.0112 - val_loss: 0.1311\n",
            "Epoch 154/200\n",
            "4/4 - 0s - loss: 0.0111 - val_loss: 0.1297\n",
            "Epoch 155/200\n",
            "4/4 - 0s - loss: 0.0110 - val_loss: 0.1294\n",
            "Epoch 156/200\n",
            "4/4 - 0s - loss: 0.0111 - val_loss: 0.1308\n",
            "Epoch 157/200\n",
            "4/4 - 0s - loss: 0.0112 - val_loss: 0.1307\n",
            "Epoch 158/200\n",
            "4/4 - 0s - loss: 0.0109 - val_loss: 0.1289\n",
            "Epoch 159/200\n",
            "4/4 - 0s - loss: 0.0109 - val_loss: 0.1305\n",
            "Epoch 160/200\n",
            "4/4 - 0s - loss: 0.0114 - val_loss: 0.1305\n",
            "Epoch 161/200\n",
            "4/4 - 0s - loss: 0.0109 - val_loss: 0.1289\n",
            "Epoch 162/200\n",
            "4/4 - 0s - loss: 0.0111 - val_loss: 0.1318\n",
            "Epoch 163/200\n",
            "4/4 - 0s - loss: 0.0114 - val_loss: 0.1270\n",
            "Epoch 164/200\n",
            "4/4 - 0s - loss: 0.0119 - val_loss: 0.1371\n",
            "Epoch 165/200\n",
            "4/4 - 0s - loss: 0.0113 - val_loss: 0.1262\n",
            "Epoch 166/200\n",
            "4/4 - 0s - loss: 0.0116 - val_loss: 0.1294\n",
            "Epoch 167/200\n",
            "4/4 - 0s - loss: 0.0110 - val_loss: 0.1333\n",
            "Epoch 168/200\n",
            "4/4 - 0s - loss: 0.0112 - val_loss: 0.1282\n",
            "Epoch 169/200\n",
            "4/4 - 0s - loss: 0.0109 - val_loss: 0.1296\n",
            "Epoch 170/200\n",
            "4/4 - 0s - loss: 0.0115 - val_loss: 0.1316\n",
            "Epoch 171/200\n",
            "4/4 - 0s - loss: 0.0112 - val_loss: 0.1299\n",
            "Epoch 172/200\n",
            "4/4 - 0s - loss: 0.0109 - val_loss: 0.1276\n",
            "Epoch 173/200\n",
            "4/4 - 0s - loss: 0.0110 - val_loss: 0.1316\n",
            "Epoch 174/200\n",
            "4/4 - 0s - loss: 0.0111 - val_loss: 0.1295\n",
            "Epoch 175/200\n",
            "4/4 - 0s - loss: 0.0109 - val_loss: 0.1286\n",
            "Epoch 176/200\n",
            "4/4 - 0s - loss: 0.0110 - val_loss: 0.1325\n",
            "Epoch 177/200\n",
            "4/4 - 0s - loss: 0.0113 - val_loss: 0.1284\n",
            "Epoch 178/200\n",
            "4/4 - 0s - loss: 0.0109 - val_loss: 0.1280\n",
            "Epoch 179/200\n",
            "4/4 - 0s - loss: 0.0112 - val_loss: 0.1325\n",
            "Epoch 180/200\n",
            "4/4 - 0s - loss: 0.0113 - val_loss: 0.1291\n",
            "Epoch 181/200\n",
            "4/4 - 0s - loss: 0.0109 - val_loss: 0.1285\n",
            "Epoch 182/200\n",
            "4/4 - 0s - loss: 0.0113 - val_loss: 0.1305\n",
            "Epoch 183/200\n",
            "4/4 - 0s - loss: 0.0110 - val_loss: 0.1305\n",
            "Epoch 184/200\n",
            "4/4 - 0s - loss: 0.0108 - val_loss: 0.1273\n",
            "Epoch 185/200\n",
            "4/4 - 0s - loss: 0.0108 - val_loss: 0.1319\n",
            "Epoch 186/200\n",
            "4/4 - 0s - loss: 0.0110 - val_loss: 0.1294\n",
            "Epoch 187/200\n",
            "4/4 - 0s - loss: 0.0108 - val_loss: 0.1293\n",
            "Epoch 188/200\n",
            "4/4 - 0s - loss: 0.0108 - val_loss: 0.1310\n",
            "Epoch 189/200\n",
            "4/4 - 0s - loss: 0.0111 - val_loss: 0.1285\n",
            "Epoch 190/200\n",
            "4/4 - 0s - loss: 0.0114 - val_loss: 0.1324\n",
            "Epoch 191/200\n",
            "4/4 - 0s - loss: 0.0108 - val_loss: 0.1261\n",
            "Epoch 192/200\n",
            "4/4 - 0s - loss: 0.0109 - val_loss: 0.1337\n",
            "Epoch 193/200\n",
            "4/4 - 0s - loss: 0.0111 - val_loss: 0.1294\n",
            "Epoch 194/200\n",
            "4/4 - 0s - loss: 0.0118 - val_loss: 0.1309\n",
            "Epoch 195/200\n",
            "4/4 - 0s - loss: 0.0111 - val_loss: 0.1291\n",
            "Epoch 196/200\n",
            "4/4 - 0s - loss: 0.0121 - val_loss: 0.1287\n",
            "Epoch 197/200\n",
            "4/4 - 0s - loss: 0.0109 - val_loss: 0.1336\n",
            "Epoch 198/200\n",
            "4/4 - 0s - loss: 0.0117 - val_loss: 0.1284\n",
            "Epoch 199/200\n",
            "4/4 - 0s - loss: 0.0116 - val_loss: 0.1294\n",
            "Epoch 200/200\n",
            "4/4 - 0s - loss: 0.0113 - val_loss: 0.1303\n"
          ],
          "name": "stdout"
        }
      ]
    },
    {
      "cell_type": "code",
      "metadata": {
        "colab": {
          "base_uri": "https://localhost:8080/",
          "height": 267
        },
        "id": "71Q3fT-moLDV",
        "outputId": "0b4e4960-2913-4e5f-ec86-eb37800d5fad"
      },
      "source": [
        "# plot history\n",
        "plt.plot(history.history['loss'], label='train')\n",
        "plt.plot(history.history['val_loss'], label='test')\n",
        "plt.legend()\n",
        "plt.show()"
      ],
      "execution_count": null,
      "outputs": [
        {
          "output_type": "display_data",
          "data": {
            "image/png": "[encoded data removed]",
            "text/plain": [
              "<Figure size 432x288 with 1 Axes>"
            ]
          },
          "metadata": {
            "tags": [],
            "needs_background": "light"
          }
        }
      ]
    },
    {
      "cell_type": "markdown",
      "metadata": {
        "id": "EEbJUGT9oLDV"
      },
      "source": [
        "### Testing feature selected data"
      ]
    },
    {
      "cell_type": "code",
      "metadata": {
        "colab": {
          "base_uri": "https://localhost:8080/"
        },
        "id": "XUX0Y97foLDV",
        "outputId": "476b658a-5f9f-4a33-84e9-6538c3a50e38"
      },
      "source": [
        "import math\n",
        "\n",
        "# make a prediction\n",
        "yhat = model.predict(test_X)\n",
        "test_X1 = test_X.reshape((test_X.shape[0], test_X.shape[2]))\n",
        "# invert scaling for forecast\n",
        "inv_yhat = concatenate((yhat, test_X1[:, 1:]), axis=1)\n",
        "print(inv_yhat.shape)\n",
        "#inv_yhat = scaler.inverse_transform(inv_yhat)\n",
        "inv_yhat = inv_yhat[:,0]\n",
        "# invert scaling for actual\n",
        "test_y = test_y.reshape((len(test_y), 1))\n",
        "inv_y = concatenate((test_y, test_X1[:, 1:]), axis=1)\n",
        "#inv_y = scaler.inverse_transform(inv_y)\n",
        "inv_y = inv_y[:,0]\n",
        "# calculate RMSE\n",
        "mse = mean_squared_error(inv_y, inv_yhat)\n",
        "print('Test MSE: %.3f' % mse)\n",
        "rmse = math.sqrt(mean_squared_error(inv_y, inv_yhat))\n",
        "print('Test RMSE: %.3f' % rmse)\n",
        "print('median_absolute_error', median_absolute_error(inv_y, inv_yhat))\n",
        "print('mean_absolute_error', mean_absolute_error(inv_y, inv_yhat))"
      ],
      "execution_count": null,
      "outputs": [
        {
          "output_type": "stream",
          "text": [
            "(59, 21)\n",
            "Test MSE: 0.046\n",
            "Test RMSE: 0.215\n",
            "median_absolute_error 0.060172074\n",
            "mean_absolute_error 0.13026224\n"
          ],
          "name": "stdout"
        }
      ]
    },
    {
      "cell_type": "markdown",
      "metadata": {
        "id": "t96jjCNhouMU"
      },
      "source": [
        "# LSTM: Mobility Group + Social Distancing + Mask Rule"
      ]
    },
    {
      "cell_type": "code",
      "metadata": {
        "id": "_JK4kxUG6YnI"
      },
      "source": [
        "x_col_mobility = ['retail_and_recreation_percent_change_from_baseline',\n",
        "       'grocery_and_pharmacy_percent_change_from_baseline','parks_percent_change_from_baseline',\n",
        "       'transit_stations_percent_change_from_baseline','workplaces_percent_change_from_baseline',\n",
        "       'residential_percent_change_from_baseline',\n",
        "       'X..staying.home', 'Trips.person', 'X..out.of.county.trips',\n",
        "       'X..out.of.state.trips', 'Miles.person', 'Work.trips.person',\n",
        "       'Non.work.trips.person','X..working.from.home','m50_index','Social.distancing.index',\n",
        "                           'mask_rule_severity','Date','New cases/100k']\n",
        "\n",
        "x_col_mobility_feature_imp = ['retail_and_recreation_percent_change_from_baseline','Trips.person',\n",
        "                              'X..working.from.home','parks_percent_change_from_baseline',\n",
        "                              'X..out.of.county.trips',\n",
        "                              'X..out.of.state.trips','X..working.from.home','Miles.person',\n",
        "                              'grocery_and_pharmacy_percent_change_from_baseline','transit_stations_percent_change_from_baseline',\n",
        "                              'retail_and_recreation_percent_change_from_baseline','m50_index','Social.distancing.index',\n",
        "                           'mask_rule_severity','Date','New cases/100k']"
      ],
      "execution_count": null,
      "outputs": []
    },
    {
      "cell_type": "code",
      "metadata": {
        "id": "fxJYCnw2ouMw"
      },
      "source": [
        "\n",
        "\n",
        "X_cols_all = x_col_mobility\n",
        "\n",
        "X_cols_feature_selected = x_col_mobility_feature_imp\n"
      ],
      "execution_count": null,
      "outputs": []
    },
    {
      "cell_type": "code",
      "metadata": {
        "colab": {
          "base_uri": "https://localhost:8080/",
          "height": 360
        },
        "id": "WetuqGMdouMx",
        "outputId": "70ea66ab-3ba2-4968-bd66-94ad3ae5bb36"
      },
      "source": [
        "LA_combined_data_all = CA_superset_data[CA_superset_data['County Name'] == 'Los Angeles County'][X_cols_all]\n",
        "print(LA_combined_data_all.shape)\n",
        "\n",
        "LA_combined_data_featured = CA_superset_data[CA_superset_data['County Name'] == 'Los Angeles County'][X_cols_feature_selected]\n",
        "print(LA_combined_data_featured.shape)\n",
        "LA_combined_data_all.head(5)"
      ],
      "execution_count": null,
      "outputs": [
        {
          "output_type": "stream",
          "text": [
            "(292, 19)\n",
            "(292, 16)\n"
          ],
          "name": "stdout"
        },
        {
          "output_type": "execute_result",
          "data": {
            "text/html": [
              "<div>\n",
              "<style scoped>\n",
              "    .dataframe tbody tr th:only-of-type {\n",
              "        vertical-align: middle;\n",
              "    }\n",
              "\n",
              "    .dataframe tbody tr th {\n",
              "        vertical-align: top;\n",
              "    }\n",
              "\n",
              "    .dataframe thead th {\n",
              "        text-align: right;\n",
              "    }\n",
              "</style>\n",
              "<table border=\"1\" class=\"dataframe\">\n",
              "  <thead>\n",
              "    <tr style=\"text-align: right;\">\n",
              "      <th></th>\n",
              "      <th>retail_and_recreation_percent_change_from_baseline</th>\n",
              "      <th>grocery_and_pharmacy_percent_change_from_baseline</th>\n",
              "      <th>parks_percent_change_from_baseline</th>\n",
              "      <th>transit_stations_percent_change_from_baseline</th>\n",
              "      <th>workplaces_percent_change_from_baseline</th>\n",
              "      <th>residential_percent_change_from_baseline</th>\n",
              "      <th>X..staying.home</th>\n",
              "      <th>Trips.person</th>\n",
              "      <th>X..out.of.county.trips</th>\n",
              "      <th>X..out.of.state.trips</th>\n",
              "      <th>Miles.person</th>\n",
              "      <th>Work.trips.person</th>\n",
              "      <th>Non.work.trips.person</th>\n",
              "      <th>X..working.from.home</th>\n",
              "      <th>m50_index</th>\n",
              "      <th>Social.distancing.index</th>\n",
              "      <th>mask_rule_severity</th>\n",
              "      <th>Date</th>\n",
              "      <th>New cases/100k</th>\n",
              "    </tr>\n",
              "  </thead>\n",
              "  <tbody>\n",
              "    <tr>\n",
              "      <th>4804</th>\n",
              "      <td>4.0000</td>\n",
              "      <td>3.0000</td>\n",
              "      <td>-5.0000</td>\n",
              "      <td>-3.0000</td>\n",
              "      <td>1.0000</td>\n",
              "      <td>0.0000</td>\n",
              "      <td>26</td>\n",
              "      <td>2.9100</td>\n",
              "      <td>11.2000</td>\n",
              "      <td>0.5000</td>\n",
              "      <td>35.1000</td>\n",
              "      <td>0.2600</td>\n",
              "      <td>2.6500</td>\n",
              "      <td>5.7000</td>\n",
              "      <td>60</td>\n",
              "      <td>35</td>\n",
              "      <td>0.0000</td>\n",
              "      <td>2020-03-01</td>\n",
              "      <td>0.0000</td>\n",
              "    </tr>\n",
              "    <tr>\n",
              "      <th>4805</th>\n",
              "      <td>5.0000</td>\n",
              "      <td>5.0000</td>\n",
              "      <td>8.0000</td>\n",
              "      <td>1.0000</td>\n",
              "      <td>4.0000</td>\n",
              "      <td>-1.0000</td>\n",
              "      <td>19</td>\n",
              "      <td>3.4200</td>\n",
              "      <td>10.4000</td>\n",
              "      <td>0.4000</td>\n",
              "      <td>35.1000</td>\n",
              "      <td>0.7000</td>\n",
              "      <td>2.7100</td>\n",
              "      <td>5.7000</td>\n",
              "      <td>98</td>\n",
              "      <td>16</td>\n",
              "      <td>0.0000</td>\n",
              "      <td>2020-03-02</td>\n",
              "      <td>0.0000</td>\n",
              "    </tr>\n",
              "    <tr>\n",
              "      <th>4806</th>\n",
              "      <td>8.0000</td>\n",
              "      <td>7.0000</td>\n",
              "      <td>32.0000</td>\n",
              "      <td>2.0000</td>\n",
              "      <td>3.0000</td>\n",
              "      <td>-1.0000</td>\n",
              "      <td>18</td>\n",
              "      <td>3.5700</td>\n",
              "      <td>10.2000</td>\n",
              "      <td>0.3000</td>\n",
              "      <td>33.7000</td>\n",
              "      <td>0.7300</td>\n",
              "      <td>2.8400</td>\n",
              "      <td>5.7000</td>\n",
              "      <td>99</td>\n",
              "      <td>15</td>\n",
              "      <td>0.0000</td>\n",
              "      <td>2020-03-03</td>\n",
              "      <td>0.0000</td>\n",
              "    </tr>\n",
              "    <tr>\n",
              "      <th>4807</th>\n",
              "      <td>4.0000</td>\n",
              "      <td>6.0000</td>\n",
              "      <td>9.0000</td>\n",
              "      <td>-1.0000</td>\n",
              "      <td>2.0000</td>\n",
              "      <td>0.0000</td>\n",
              "      <td>18</td>\n",
              "      <td>3.4800</td>\n",
              "      <td>10.7000</td>\n",
              "      <td>0.3000</td>\n",
              "      <td>34.9000</td>\n",
              "      <td>0.7200</td>\n",
              "      <td>2.7600</td>\n",
              "      <td>5.7000</td>\n",
              "      <td>100</td>\n",
              "      <td>14</td>\n",
              "      <td>0.0000</td>\n",
              "      <td>2020-03-04</td>\n",
              "      <td>0.0594</td>\n",
              "    </tr>\n",
              "    <tr>\n",
              "      <th>4808</th>\n",
              "      <td>4.0000</td>\n",
              "      <td>7.0000</td>\n",
              "      <td>9.0000</td>\n",
              "      <td>0.0000</td>\n",
              "      <td>2.0000</td>\n",
              "      <td>0.0000</td>\n",
              "      <td>18</td>\n",
              "      <td>3.5200</td>\n",
              "      <td>10.7000</td>\n",
              "      <td>0.3000</td>\n",
              "      <td>36.4000</td>\n",
              "      <td>0.7200</td>\n",
              "      <td>2.8100</td>\n",
              "      <td>5.7000</td>\n",
              "      <td>106</td>\n",
              "      <td>14</td>\n",
              "      <td>0.0000</td>\n",
              "      <td>2020-03-05</td>\n",
              "      <td>0.0396</td>\n",
              "    </tr>\n",
              "  </tbody>\n",
              "</table>\n",
              "</div>"
            ],
            "text/plain": [
              "      retail_and_recreation_percent_change_from_baseline  ...  New cases/100k\n",
              "4804                                             4.0000   ...          0.0000\n",
              "4805                                             5.0000   ...          0.0000\n",
              "4806                                             8.0000   ...          0.0000\n",
              "4807                                             4.0000   ...          0.0594\n",
              "4808                                             4.0000   ...          0.0396\n",
              "\n",
              "[5 rows x 19 columns]"
            ]
          },
          "metadata": {
            "tags": []
          },
          "execution_count": 68
        }
      ]
    },
    {
      "cell_type": "code",
      "metadata": {
        "id": "bhGqT5McouMy"
      },
      "source": [
        "from datetime import datetime\n",
        "# load data\n",
        "def parse(x):\n",
        "\treturn datetime.strptime(x, '%Y-%m-%d')\n",
        " \n",
        "def datetime_to_float(d):\n",
        "    date_time_obj = datetime.strptime(d, '%Y-%m-%d')\n",
        "    return date_time_obj.timestamp()"
      ],
      "execution_count": null,
      "outputs": []
    },
    {
      "cell_type": "code",
      "metadata": {
        "colab": {
          "base_uri": "https://localhost:8080/"
        },
        "id": "Q5Apn6x2ouMz",
        "outputId": "3fe59c2b-d767-4e0e-8166-c2895eb02224"
      },
      "source": [
        "len(LA_combined_data_featured.columns)"
      ],
      "execution_count": null,
      "outputs": [
        {
          "output_type": "execute_result",
          "data": {
            "text/plain": [
              "16"
            ]
          },
          "metadata": {
            "tags": []
          },
          "execution_count": 70
        }
      ]
    },
    {
      "cell_type": "code",
      "metadata": {
        "colab": {
          "base_uri": "https://localhost:8080/",
          "height": 241
        },
        "id": "DKcsHtL8ouMz",
        "outputId": "2fbfacc5-bf96-4f1e-fc30-3e862f1ec6b8"
      },
      "source": [
        "LA_combined_data_featured['Date'] = LA_combined_data_featured['Date'].apply(lambda x: datetime_to_float(x))\n",
        "LA_combined_data_all['Date'] = LA_combined_data_all['Date'].apply(lambda x: datetime_to_float(x))\n",
        "\n",
        "#Harris_combined_data.index.name = 'Date'\n",
        "LA_combined_data_featured.head()"
      ],
      "execution_count": null,
      "outputs": [
        {
          "output_type": "execute_result",
          "data": {
            "text/html": [
              "<div>\n",
              "<style scoped>\n",
              "    .dataframe tbody tr th:only-of-type {\n",
              "        vertical-align: middle;\n",
              "    }\n",
              "\n",
              "    .dataframe tbody tr th {\n",
              "        vertical-align: top;\n",
              "    }\n",
              "\n",
              "    .dataframe thead th {\n",
              "        text-align: right;\n",
              "    }\n",
              "</style>\n",
              "<table border=\"1\" class=\"dataframe\">\n",
              "  <thead>\n",
              "    <tr style=\"text-align: right;\">\n",
              "      <th></th>\n",
              "      <th>retail_and_recreation_percent_change_from_baseline</th>\n",
              "      <th>Trips.person</th>\n",
              "      <th>X..working.from.home</th>\n",
              "      <th>parks_percent_change_from_baseline</th>\n",
              "      <th>X..out.of.county.trips</th>\n",
              "      <th>X..out.of.state.trips</th>\n",
              "      <th>X..working.from.home</th>\n",
              "      <th>Miles.person</th>\n",
              "      <th>grocery_and_pharmacy_percent_change_from_baseline</th>\n",
              "      <th>transit_stations_percent_change_from_baseline</th>\n",
              "      <th>retail_and_recreation_percent_change_from_baseline</th>\n",
              "      <th>m50_index</th>\n",
              "      <th>Social.distancing.index</th>\n",
              "      <th>mask_rule_severity</th>\n",
              "      <th>Date</th>\n",
              "      <th>New cases/100k</th>\n",
              "    </tr>\n",
              "  </thead>\n",
              "  <tbody>\n",
              "    <tr>\n",
              "      <th>4804</th>\n",
              "      <td>4.0000</td>\n",
              "      <td>2.9100</td>\n",
              "      <td>5.7000</td>\n",
              "      <td>-5.0000</td>\n",
              "      <td>11.2000</td>\n",
              "      <td>0.5000</td>\n",
              "      <td>5.7000</td>\n",
              "      <td>35.1000</td>\n",
              "      <td>3.0000</td>\n",
              "      <td>-3.0000</td>\n",
              "      <td>4.0000</td>\n",
              "      <td>60</td>\n",
              "      <td>35</td>\n",
              "      <td>0.0000</td>\n",
              "      <td>1583020800.0000</td>\n",
              "      <td>0.0000</td>\n",
              "    </tr>\n",
              "    <tr>\n",
              "      <th>4805</th>\n",
              "      <td>5.0000</td>\n",
              "      <td>3.4200</td>\n",
              "      <td>5.7000</td>\n",
              "      <td>8.0000</td>\n",
              "      <td>10.4000</td>\n",
              "      <td>0.4000</td>\n",
              "      <td>5.7000</td>\n",
              "      <td>35.1000</td>\n",
              "      <td>5.0000</td>\n",
              "      <td>1.0000</td>\n",
              "      <td>5.0000</td>\n",
              "      <td>98</td>\n",
              "      <td>16</td>\n",
              "      <td>0.0000</td>\n",
              "      <td>1583107200.0000</td>\n",
              "      <td>0.0000</td>\n",
              "    </tr>\n",
              "    <tr>\n",
              "      <th>4806</th>\n",
              "      <td>8.0000</td>\n",
              "      <td>3.5700</td>\n",
              "      <td>5.7000</td>\n",
              "      <td>32.0000</td>\n",
              "      <td>10.2000</td>\n",
              "      <td>0.3000</td>\n",
              "      <td>5.7000</td>\n",
              "      <td>33.7000</td>\n",
              "      <td>7.0000</td>\n",
              "      <td>2.0000</td>\n",
              "      <td>8.0000</td>\n",
              "      <td>99</td>\n",
              "      <td>15</td>\n",
              "      <td>0.0000</td>\n",
              "      <td>1583193600.0000</td>\n",
              "      <td>0.0000</td>\n",
              "    </tr>\n",
              "    <tr>\n",
              "      <th>4807</th>\n",
              "      <td>4.0000</td>\n",
              "      <td>3.4800</td>\n",
              "      <td>5.7000</td>\n",
              "      <td>9.0000</td>\n",
              "      <td>10.7000</td>\n",
              "      <td>0.3000</td>\n",
              "      <td>5.7000</td>\n",
              "      <td>34.9000</td>\n",
              "      <td>6.0000</td>\n",
              "      <td>-1.0000</td>\n",
              "      <td>4.0000</td>\n",
              "      <td>100</td>\n",
              "      <td>14</td>\n",
              "      <td>0.0000</td>\n",
              "      <td>1583280000.0000</td>\n",
              "      <td>0.0594</td>\n",
              "    </tr>\n",
              "    <tr>\n",
              "      <th>4808</th>\n",
              "      <td>4.0000</td>\n",
              "      <td>3.5200</td>\n",
              "      <td>5.7000</td>\n",
              "      <td>9.0000</td>\n",
              "      <td>10.7000</td>\n",
              "      <td>0.3000</td>\n",
              "      <td>5.7000</td>\n",
              "      <td>36.4000</td>\n",
              "      <td>7.0000</td>\n",
              "      <td>0.0000</td>\n",
              "      <td>4.0000</td>\n",
              "      <td>106</td>\n",
              "      <td>14</td>\n",
              "      <td>0.0000</td>\n",
              "      <td>1583366400.0000</td>\n",
              "      <td>0.0396</td>\n",
              "    </tr>\n",
              "  </tbody>\n",
              "</table>\n",
              "</div>"
            ],
            "text/plain": [
              "      retail_and_recreation_percent_change_from_baseline  ...  New cases/100k\n",
              "4804                                             4.0000   ...          0.0000\n",
              "4805                                             5.0000   ...          0.0000\n",
              "4806                                             8.0000   ...          0.0000\n",
              "4807                                             4.0000   ...          0.0594\n",
              "4808                                             4.0000   ...          0.0396\n",
              "\n",
              "[5 rows x 16 columns]"
            ]
          },
          "metadata": {
            "tags": []
          },
          "execution_count": 71
        }
      ]
    },
    {
      "cell_type": "code",
      "metadata": {
        "colab": {
          "base_uri": "https://localhost:8080/"
        },
        "id": "KmIYbDikouMz",
        "outputId": "dbc36cd2-0bc5-4057-ab87-91f10cf12ce6"
      },
      "source": [
        "print(len(LA_combined_data_featured.columns))\n",
        "LA_combined_data_featured.dtypes"
      ],
      "execution_count": null,
      "outputs": [
        {
          "output_type": "stream",
          "text": [
            "16\n"
          ],
          "name": "stdout"
        },
        {
          "output_type": "execute_result",
          "data": {
            "text/plain": [
              "retail_and_recreation_percent_change_from_baseline    float64\n",
              "Trips.person                                          float64\n",
              "X..working.from.home                                  float64\n",
              "parks_percent_change_from_baseline                    float64\n",
              "X..out.of.county.trips                                float64\n",
              "X..out.of.state.trips                                 float64\n",
              "X..working.from.home                                  float64\n",
              "Miles.person                                          float64\n",
              "grocery_and_pharmacy_percent_change_from_baseline     float64\n",
              "transit_stations_percent_change_from_baseline         float64\n",
              "retail_and_recreation_percent_change_from_baseline    float64\n",
              "m50_index                                               int64\n",
              "Social.distancing.index                                 int64\n",
              "mask_rule_severity                                    float64\n",
              "Date                                                  float64\n",
              "New cases/100k                                        float64\n",
              "dtype: object"
            ]
          },
          "metadata": {
            "tags": []
          },
          "execution_count": 72
        }
      ]
    },
    {
      "cell_type": "markdown",
      "metadata": {
        "id": "2cWi-1BlouM0"
      },
      "source": [
        "## Preprocessing data for LSTM"
      ]
    },
    {
      "cell_type": "code",
      "metadata": {
        "id": "PvCHlsKTouM0"
      },
      "source": [
        "LA_combined_data_all_selected = LA_combined_data_all[X_cols_all]\n",
        "LA_combined_data_featured_selected = LA_combined_data_featured[X_cols_feature_selected]"
      ],
      "execution_count": null,
      "outputs": []
    },
    {
      "cell_type": "code",
      "metadata": {
        "id": "RGc87hpMouM0"
      },
      "source": [
        "\n",
        "# prepare data for lstm\n",
        "from pandas import read_csv\n",
        "from pandas import DataFrame\n",
        "from pandas import concat\n",
        "from sklearn.preprocessing import LabelEncoder\n",
        "from sklearn.preprocessing import MinMaxScaler\n",
        " \n",
        "# convert series to supervised learning\n",
        "def series_to_supervised(data, n_in=1, n_out=1, dropnan=True):\n",
        "\tn_vars = 1 if type(data) is list else data.shape[1]\n",
        "\tdf = DataFrame(data)\n",
        "\tcols, names = list(), list()\n",
        "\t# input sequence (t-n, ... t-1)\n",
        "\tfor i in range(n_in, 0, -1):\n",
        "\t\tcols.append(df.shift(i))\n",
        "\t\tnames += [('var%d(t-%d)' % (j+1, i)) for j in range(n_vars)]\n",
        "\t# forecast sequence (t, t+1, ... t+n)\n",
        "\tfor i in range(0, n_out):\n",
        "\t\tcols.append(df.shift(-i))\n",
        "\t\tif i == 0:\n",
        "\t\t\tnames += [('var%d(t)' % (j+1)) for j in range(n_vars)]\n",
        "\t\telse:\n",
        "\t\t\tnames += [('var%d(t+%d)' % (j+1, i)) for j in range(n_vars)]\n",
        "\t# put it all together\n",
        "\tagg = concat(cols, axis=1)\n",
        "\tagg.columns = names\n",
        "\t# drop rows with NaN values\n",
        "\tif dropnan:\n",
        "\t\tagg.dropna(inplace=True)\n",
        "\treturn agg"
      ],
      "execution_count": null,
      "outputs": []
    },
    {
      "cell_type": "markdown",
      "metadata": {
        "id": "09F0vH6UouM1"
      },
      "source": [
        "## All values for CA training data"
      ]
    },
    {
      "cell_type": "code",
      "metadata": {
        "colab": {
          "base_uri": "https://localhost:8080/"
        },
        "id": "6bWlqwxyouM1",
        "outputId": "96e925ff-88a5-44a5-dccd-a6a027cbfd7a"
      },
      "source": [
        "values = LA_combined_data_all_selected.values\n",
        "# integer encode direction\n",
        "encoder = LabelEncoder()\n",
        "values[:,len(X_cols_all)-1] = encoder.fit_transform(values[:,len(X_cols_all)-1])\n",
        "# ensure all data is float\n",
        "values = values.astype('float32')\n",
        "# normalize features\n",
        "scaler = MinMaxScaler(feature_range=(0, 1))\n",
        "scaled = scaler.fit_transform(values)\n",
        "# frame as supervised learning\n",
        "reframed = series_to_supervised(scaled, 1, 1)\n",
        "# drop columns we don't want to predict\n",
        "#reframed.drop(reframed.columns[[9,10,11,12,13,14,15]], axis=1, inplace=True)\n",
        "print(reframed.head())"
      ],
      "execution_count": null,
      "outputs": [
        {
          "output_type": "stream",
          "text": [
            "   var1(t-1)  var2(t-1)  var3(t-1)  ...  var17(t)  var18(t)  var19(t)\n",
            "1     0.9512     0.6092     0.6337  ...    0.0000    0.0033    0.0000\n",
            "2     0.9634     0.6322     0.7624  ...    0.0000    0.0066    0.0000\n",
            "3     1.0000     0.6552     1.0000  ...    0.0000    0.0099    0.0186\n",
            "4     0.9512     0.6437     0.7723  ...    0.0000    0.0132    0.0112\n",
            "5     0.9512     0.6552     0.7723  ...    0.0000    0.0166    0.0074\n",
            "\n",
            "[5 rows x 38 columns]\n"
          ],
          "name": "stdout"
        }
      ]
    },
    {
      "cell_type": "markdown",
      "metadata": {
        "id": "I7TKJAtOouM1"
      },
      "source": [
        "## Train Test Split"
      ]
    },
    {
      "cell_type": "code",
      "metadata": {
        "colab": {
          "base_uri": "https://localhost:8080/"
        },
        "id": "hEdnGXmgouM2",
        "outputId": "4e6d1b32-b666-45a2-8d00-195d593d822e"
      },
      "source": [
        "values.shape[0]"
      ],
      "execution_count": null,
      "outputs": [
        {
          "output_type": "execute_result",
          "data": {
            "text/plain": [
              "292"
            ]
          },
          "metadata": {
            "tags": []
          },
          "execution_count": 76
        }
      ]
    },
    {
      "cell_type": "code",
      "metadata": {
        "colab": {
          "base_uri": "https://localhost:8080/"
        },
        "id": "EatiVZAYouM2",
        "outputId": "354f0dfa-7c24-4d8e-d3bc-6ca58b065690"
      },
      "source": [
        "\n",
        "# split into train and test sets\n",
        "values = reframed.values\n",
        "rows_count = values.shape[0]\n",
        "# split the 1/5 value\n",
        "train_split = rows_count//5\n",
        "\n",
        "n_train_hours = train_split * 4\n",
        "\n",
        "print(n_train_hours)\n",
        "print('values shape ',values.shape)\n",
        "train = values[:n_train_hours, :]\n",
        "test = values[n_train_hours:, :]\n",
        "# split into input and outputs\n",
        "train_X, train_y = train[:, :-1], train[:, -1]\n",
        "test_X, test_y = test[:, :-1], test[:, -1]\n",
        "# reshape input to be 3D [samples, timesteps, features]\n",
        "train_X = train_X.reshape((train_X.shape[0], 1, train_X.shape[1]))\n",
        "test_X = test_X.reshape((test_X.shape[0], 1, test_X.shape[1]))\n",
        "print(train_X.shape, train_y.shape, test_X.shape, test_y.shape)"
      ],
      "execution_count": null,
      "outputs": [
        {
          "output_type": "stream",
          "text": [
            "232\n",
            "values shape  (291, 38)\n",
            "(232, 1, 37) (232,) (59, 1, 37) (59,)\n"
          ],
          "name": "stdout"
        }
      ]
    },
    {
      "cell_type": "markdown",
      "metadata": {
        "id": "DgVLlxqgouM2"
      },
      "source": [
        "## Training LSTM"
      ]
    },
    {
      "cell_type": "code",
      "metadata": {
        "colab": {
          "base_uri": "https://localhost:8080/",
          "height": 1000
        },
        "id": "AMkT1E4EouM3",
        "outputId": "23bc8067-049f-4345-f768-bccc89842e9e"
      },
      "source": [
        "...\n",
        "# design network\n",
        "model = Sequential()\n",
        "model.add(LSTM(50, input_shape=(train_X.shape[1], train_X.shape[2])))\n",
        "model.add(Dense(1))\n",
        "model.compile(loss='mae', optimizer='adam')\n",
        "# fit network\n",
        "history = model.fit(train_X, train_y, epochs=100, batch_size=72, validation_data=(test_X, test_y), verbose=2, shuffle=False)\n",
        "# plot history\n",
        "plt.plot(history.history['loss'], label='train')\n",
        "plt.plot(history.history['val_loss'], label='test')\n",
        "plt.legend()\n",
        "plt.show()"
      ],
      "execution_count": null,
      "outputs": [
        {
          "output_type": "stream",
          "text": [
            "Epoch 1/100\n",
            "4/4 - 2s - loss: 0.2636 - val_loss: 0.4703\n",
            "Epoch 2/100\n",
            "4/4 - 0s - loss: 0.2053 - val_loss: 0.3645\n",
            "Epoch 3/100\n",
            "4/4 - 0s - loss: 0.1981 - val_loss: 0.3201\n",
            "Epoch 4/100\n",
            "4/4 - 0s - loss: 0.1983 - val_loss: 0.3239\n",
            "Epoch 5/100\n",
            "4/4 - 0s - loss: 0.1955 - val_loss: 0.3475\n",
            "Epoch 6/100\n",
            "4/4 - 0s - loss: 0.1931 - val_loss: 0.3764\n",
            "Epoch 7/100\n",
            "4/4 - 0s - loss: 0.1928 - val_loss: 0.3996\n",
            "Epoch 8/100\n",
            "4/4 - 0s - loss: 0.1933 - val_loss: 0.4057\n",
            "Epoch 9/100\n",
            "4/4 - 0s - loss: 0.1911 - val_loss: 0.3960\n",
            "Epoch 10/100\n",
            "4/4 - 0s - loss: 0.1866 - val_loss: 0.3798\n",
            "Epoch 11/100\n",
            "4/4 - 0s - loss: 0.1828 - val_loss: 0.3638\n",
            "Epoch 12/100\n",
            "4/4 - 0s - loss: 0.1795 - val_loss: 0.3529\n",
            "Epoch 13/100\n",
            "4/4 - 0s - loss: 0.1773 - val_loss: 0.3554\n",
            "Epoch 14/100\n",
            "4/4 - 0s - loss: 0.1760 - val_loss: 0.3615\n",
            "Epoch 15/100\n",
            "4/4 - 0s - loss: 0.1743 - val_loss: 0.3598\n",
            "Epoch 16/100\n",
            "4/4 - 0s - loss: 0.1718 - val_loss: 0.3541\n",
            "Epoch 17/100\n",
            "4/4 - 0s - loss: 0.1692 - val_loss: 0.3487\n",
            "Epoch 18/100\n",
            "4/4 - 0s - loss: 0.1665 - val_loss: 0.3453\n",
            "Epoch 19/100\n",
            "4/4 - 0s - loss: 0.1643 - val_loss: 0.3454\n",
            "Epoch 20/100\n",
            "4/4 - 0s - loss: 0.1620 - val_loss: 0.3437\n",
            "Epoch 21/100\n",
            "4/4 - 0s - loss: 0.1595 - val_loss: 0.3401\n",
            "Epoch 22/100\n",
            "4/4 - 0s - loss: 0.1565 - val_loss: 0.3347\n",
            "Epoch 23/100\n",
            "4/4 - 0s - loss: 0.1534 - val_loss: 0.3307\n",
            "Epoch 24/100\n",
            "4/4 - 0s - loss: 0.1507 - val_loss: 0.3312\n",
            "Epoch 25/100\n",
            "4/4 - 0s - loss: 0.1480 - val_loss: 0.3297\n",
            "Epoch 26/100\n",
            "4/4 - 0s - loss: 0.1452 - val_loss: 0.3238\n",
            "Epoch 27/100\n",
            "4/4 - 0s - loss: 0.1426 - val_loss: 0.3162\n",
            "Epoch 28/100\n",
            "4/4 - 0s - loss: 0.1402 - val_loss: 0.3173\n",
            "Epoch 29/100\n",
            "4/4 - 0s - loss: 0.1389 - val_loss: 0.3200\n",
            "Epoch 30/100\n",
            "4/4 - 0s - loss: 0.1372 - val_loss: 0.3172\n",
            "Epoch 31/100\n",
            "4/4 - 0s - loss: 0.1344 - val_loss: 0.3105\n",
            "Epoch 32/100\n",
            "4/4 - 0s - loss: 0.1320 - val_loss: 0.3153\n",
            "Epoch 33/100\n",
            "4/4 - 0s - loss: 0.1307 - val_loss: 0.3166\n",
            "Epoch 34/100\n",
            "4/4 - 0s - loss: 0.1287 - val_loss: 0.3083\n",
            "Epoch 35/100\n",
            "4/4 - 0s - loss: 0.1262 - val_loss: 0.3033\n",
            "Epoch 36/100\n",
            "4/4 - 0s - loss: 0.1245 - val_loss: 0.3056\n",
            "Epoch 37/100\n",
            "4/4 - 0s - loss: 0.1231 - val_loss: 0.3025\n",
            "Epoch 38/100\n",
            "4/4 - 0s - loss: 0.1214 - val_loss: 0.2994\n",
            "Epoch 39/100\n",
            "4/4 - 0s - loss: 0.1200 - val_loss: 0.3009\n",
            "Epoch 40/100\n",
            "4/4 - 0s - loss: 0.1191 - val_loss: 0.3062\n",
            "Epoch 41/100\n",
            "4/4 - 0s - loss: 0.1185 - val_loss: 0.3110\n",
            "Epoch 42/100\n",
            "4/4 - 0s - loss: 0.1178 - val_loss: 0.3099\n",
            "Epoch 43/100\n",
            "4/4 - 0s - loss: 0.1166 - val_loss: 0.3103\n",
            "Epoch 44/100\n",
            "4/4 - 0s - loss: 0.1159 - val_loss: 0.3105\n",
            "Epoch 45/100\n",
            "4/4 - 0s - loss: 0.1150 - val_loss: 0.3044\n",
            "Epoch 46/100\n",
            "4/4 - 0s - loss: 0.1140 - val_loss: 0.3109\n",
            "Epoch 47/100\n",
            "4/4 - 0s - loss: 0.1138 - val_loss: 0.3112\n",
            "Epoch 48/100\n",
            "4/4 - 0s - loss: 0.1134 - val_loss: 0.3126\n",
            "Epoch 49/100\n",
            "4/4 - 0s - loss: 0.1131 - val_loss: 0.3179\n",
            "Epoch 50/100\n",
            "4/4 - 0s - loss: 0.1130 - val_loss: 0.3217\n",
            "Epoch 51/100\n",
            "4/4 - 0s - loss: 0.1128 - val_loss: 0.3211\n",
            "Epoch 52/100\n",
            "4/4 - 0s - loss: 0.1125 - val_loss: 0.3242\n",
            "Epoch 53/100\n",
            "4/4 - 0s - loss: 0.1125 - val_loss: 0.3243\n",
            "Epoch 54/100\n",
            "4/4 - 0s - loss: 0.1122 - val_loss: 0.3161\n",
            "Epoch 55/100\n",
            "4/4 - 0s - loss: 0.1117 - val_loss: 0.3264\n",
            "Epoch 56/100\n",
            "4/4 - 0s - loss: 0.1119 - val_loss: 0.3248\n",
            "Epoch 57/100\n",
            "4/4 - 0s - loss: 0.1117 - val_loss: 0.3148\n",
            "Epoch 58/100\n",
            "4/4 - 0s - loss: 0.1111 - val_loss: 0.3273\n",
            "Epoch 59/100\n",
            "4/4 - 0s - loss: 0.1112 - val_loss: 0.3272\n",
            "Epoch 60/100\n",
            "4/4 - 0s - loss: 0.1109 - val_loss: 0.3249\n",
            "Epoch 61/100\n",
            "4/4 - 0s - loss: 0.1107 - val_loss: 0.3289\n",
            "Epoch 62/100\n",
            "4/4 - 0s - loss: 0.1105 - val_loss: 0.3285\n",
            "Epoch 63/100\n",
            "4/4 - 0s - loss: 0.1104 - val_loss: 0.3290\n",
            "Epoch 64/100\n",
            "4/4 - 0s - loss: 0.1101 - val_loss: 0.3312\n",
            "Epoch 65/100\n",
            "4/4 - 0s - loss: 0.1102 - val_loss: 0.3338\n",
            "Epoch 66/100\n",
            "4/4 - 0s - loss: 0.1099 - val_loss: 0.3312\n",
            "Epoch 67/100\n",
            "4/4 - 0s - loss: 0.1097 - val_loss: 0.3362\n",
            "Epoch 68/100\n",
            "4/4 - 0s - loss: 0.1096 - val_loss: 0.3316\n",
            "Epoch 69/100\n",
            "4/4 - 0s - loss: 0.1095 - val_loss: 0.3385\n",
            "Epoch 70/100\n",
            "4/4 - 0s - loss: 0.1097 - val_loss: 0.3349\n",
            "Epoch 71/100\n",
            "4/4 - 0s - loss: 0.1096 - val_loss: 0.3387\n",
            "Epoch 72/100\n",
            "4/4 - 0s - loss: 0.1097 - val_loss: 0.3369\n",
            "Epoch 73/100\n",
            "4/4 - 0s - loss: 0.1107 - val_loss: 0.3288\n",
            "Epoch 74/100\n",
            "4/4 - 0s - loss: 0.1091 - val_loss: 0.3485\n",
            "Epoch 75/100\n",
            "4/4 - 0s - loss: 0.1094 - val_loss: 0.3321\n",
            "Epoch 76/100\n",
            "4/4 - 0s - loss: 0.1084 - val_loss: 0.3490\n",
            "Epoch 77/100\n",
            "4/4 - 0s - loss: 0.1090 - val_loss: 0.3383\n",
            "Epoch 78/100\n",
            "4/4 - 0s - loss: 0.1081 - val_loss: 0.3436\n",
            "Epoch 79/100\n",
            "4/4 - 0s - loss: 0.1081 - val_loss: 0.3437\n",
            "Epoch 80/100\n",
            "4/4 - 0s - loss: 0.1079 - val_loss: 0.3480\n",
            "Epoch 81/100\n",
            "4/4 - 0s - loss: 0.1080 - val_loss: 0.3460\n",
            "Epoch 82/100\n",
            "4/4 - 0s - loss: 0.1076 - val_loss: 0.3508\n",
            "Epoch 83/100\n",
            "4/4 - 0s - loss: 0.1076 - val_loss: 0.3544\n",
            "Epoch 84/100\n",
            "4/4 - 0s - loss: 0.1076 - val_loss: 0.3529\n",
            "Epoch 85/100\n",
            "4/4 - 0s - loss: 0.1080 - val_loss: 0.3545\n",
            "Epoch 86/100\n",
            "4/4 - 0s - loss: 0.1083 - val_loss: 0.3499\n",
            "Epoch 87/100\n",
            "4/4 - 0s - loss: 0.1078 - val_loss: 0.3592\n",
            "Epoch 88/100\n",
            "4/4 - 0s - loss: 0.1083 - val_loss: 0.3475\n",
            "Epoch 89/100\n",
            "4/4 - 0s - loss: 0.1070 - val_loss: 0.3562\n",
            "Epoch 90/100\n",
            "4/4 - 0s - loss: 0.1080 - val_loss: 0.3497\n",
            "Epoch 91/100\n",
            "4/4 - 0s - loss: 0.1067 - val_loss: 0.3554\n",
            "Epoch 92/100\n",
            "4/4 - 0s - loss: 0.1081 - val_loss: 0.3468\n",
            "Epoch 93/100\n",
            "4/4 - 0s - loss: 0.1066 - val_loss: 0.3614\n",
            "Epoch 94/100\n",
            "4/4 - 0s - loss: 0.1070 - val_loss: 0.3548\n",
            "Epoch 95/100\n",
            "4/4 - 0s - loss: 0.1064 - val_loss: 0.3646\n",
            "Epoch 96/100\n",
            "4/4 - 0s - loss: 0.1062 - val_loss: 0.3584\n",
            "Epoch 97/100\n",
            "4/4 - 0s - loss: 0.1058 - val_loss: 0.3666\n",
            "Epoch 98/100\n",
            "4/4 - 0s - loss: 0.1059 - val_loss: 0.3617\n",
            "Epoch 99/100\n",
            "4/4 - 0s - loss: 0.1056 - val_loss: 0.3675\n",
            "Epoch 100/100\n",
            "4/4 - 0s - loss: 0.1056 - val_loss: 0.3624\n"
          ],
          "name": "stdout"
        },
        {
          "output_type": "display_data",
          "data": {
            "image/png": "[encoded data removed]",
            "text/plain": [
              "<Figure size 432x288 with 1 Axes>"
            ]
          },
          "metadata": {
            "tags": [],
            "needs_background": "light"
          }
        }
      ]
    },
    {
      "cell_type": "code",
      "metadata": {
        "colab": {
          "base_uri": "https://localhost:8080/",
          "height": 267
        },
        "id": "TVjucRtGrM59",
        "outputId": "fe7cc9e9-99bf-4635-98ce-90176ab898de"
      },
      "source": [
        "# plot history\r\n",
        "plt.plot(history.history['loss'], label='train')\r\n",
        "plt.plot(history.history['val_loss'], label='test')\r\n",
        "plt.legend()\r\n",
        "plt.show()"
      ],
      "execution_count": null,
      "outputs": [
        {
          "output_type": "display_data",
          "data": {
            "image/png": "[encoded data removed]",
            "text/plain": [
              "<Figure size 432x288 with 1 Axes>"
            ]
          },
          "metadata": {
            "tags": [],
            "needs_background": "light"
          }
        }
      ]
    },
    {
      "cell_type": "markdown",
      "metadata": {
        "id": "tnUUQ96zouM3"
      },
      "source": [
        "## Test"
      ]
    },
    {
      "cell_type": "code",
      "metadata": {
        "colab": {
          "base_uri": "https://localhost:8080/"
        },
        "id": "jTjC8VjNouM4",
        "outputId": "3381197b-1c1a-4c57-d77d-633929b6cef8"
      },
      "source": [
        "import math\n",
        "\n",
        "# make a prediction\n",
        "yhat = model.predict(test_X)\n",
        "test_X1 = test_X.reshape((test_X.shape[0], test_X.shape[2]))\n",
        "# invert scaling for forecast\n",
        "inv_yhat = concatenate((yhat, test_X1[:, 1:]), axis=1)\n",
        "print(inv_yhat.shape)\n",
        "#inv_yhat = scaler.inverse_transform(inv_yhat)\n",
        "inv_yhat = inv_yhat[:,0]\n",
        "# invert scaling for actual\n",
        "test_y = test_y.reshape((len(test_y), 1))\n",
        "inv_y = concatenate((test_y, test_X1[:, 1:]), axis=1)\n",
        "#inv_y = scaler.inverse_transform(inv_y)\n",
        "inv_y = inv_y[:,0]\n",
        "# calculate RMSE\n",
        "mse = mean_squared_error(inv_y, inv_yhat)\n",
        "print('Test MSE: %.3f' % mse)\n",
        "rmse = math.sqrt(mean_squared_error(inv_y, inv_yhat))\n",
        "print('Test RMSE: %.3f' % rmse)\n",
        "\n",
        "print('median_absolute_error', median_absolute_error(inv_y, inv_yhat))\n",
        "print('mean_absolute_error', mean_absolute_error(inv_y, inv_yhat))"
      ],
      "execution_count": null,
      "outputs": [
        {
          "output_type": "stream",
          "text": [
            "WARNING:tensorflow:5 out of the last 9 calls to <function Model.make_predict_function.<locals>.predict_function at 0x7f1f4dfed0d0> triggered tf.function retracing. Tracing is expensive and the excessive number of tracings could be due to (1) creating @tf.function repeatedly in a loop, (2) passing tensors with different shapes, (3) passing Python objects instead of tensors. For (1), please define your @tf.function outside of the loop. For (2), @tf.function has experimental_relax_shapes=True option that relaxes argument shapes that can avoid unnecessary retracing. For (3), please refer to https://www.tensorflow.org/guide/function#controlling_retracing and https://www.tensorflow.org/api_docs/python/tf/function for  more details.\n",
            "(59, 37)\n",
            "Test MSE: 0.159\n",
            "Test RMSE: 0.399\n",
            "median_absolute_error 0.38914627\n",
            "mean_absolute_error 0.36243197\n"
          ],
          "name": "stdout"
        }
      ]
    },
    {
      "cell_type": "markdown",
      "metadata": {
        "id": "l8DfElG0ouM4"
      },
      "source": [
        "## Preprocessing feature selected data for training"
      ]
    },
    {
      "cell_type": "code",
      "metadata": {
        "colab": {
          "base_uri": "https://localhost:8080/"
        },
        "id": "8XYBI9QeouM4",
        "outputId": "03175a1d-d084-44dc-dbb4-8f306859baca"
      },
      "source": [
        "len(LA_combined_data_featured_selected.columns)"
      ],
      "execution_count": null,
      "outputs": [
        {
          "output_type": "execute_result",
          "data": {
            "text/plain": [
              "20"
            ]
          },
          "metadata": {
            "tags": []
          },
          "execution_count": 81
        }
      ]
    },
    {
      "cell_type": "code",
      "metadata": {
        "colab": {
          "base_uri": "https://localhost:8080/"
        },
        "id": "ZR51EUQsouM4",
        "outputId": "68d4dce9-9c70-4426-b534-58872ea64457"
      },
      "source": [
        "values = LA_combined_data_featured_selected.values\n",
        "# integer encode direction\n",
        "encoder = LabelEncoder()\n",
        "values[:,len(X_cols_feature_selected)-1] = encoder.fit_transform(values[:,len(X_cols_feature_selected)-1])\n",
        "# ensure all data is float\n",
        "values = values.astype('float32')\n",
        "# normalize features\n",
        "scaler = MinMaxScaler(feature_range=(0, 1))\n",
        "scaled = scaler.fit_transform(values)\n",
        "# frame as supervised learning\n",
        "reframed = series_to_supervised(scaled, 1, 1)\n",
        "# drop columns we don't want to predict\n",
        "#reframed.drop(reframed.columns[[9,10,11,12,13,14,15]], axis=1, inplace=True)\n",
        "print(reframed.head())"
      ],
      "execution_count": null,
      "outputs": [
        {
          "output_type": "stream",
          "text": [
            "   var1(t-1)  var2(t-1)  var3(t-1)  ...  var18(t)  var19(t)  var20(t)\n",
            "1     0.9512     0.9512     0.6154  ...    0.0000    0.0033    0.0000\n",
            "2     0.9634     0.9634     0.8956  ...    0.0000    0.0066    0.0000\n",
            "3     1.0000     1.0000     0.9780  ...    0.0000    0.0099    0.0002\n",
            "4     0.9512     0.9512     0.9286  ...    0.0000    0.0132    0.0001\n",
            "5     0.9512     0.9512     0.9505  ...    0.0000    0.0166    0.0001\n",
            "\n",
            "[5 rows x 40 columns]\n"
          ],
          "name": "stdout"
        }
      ]
    },
    {
      "cell_type": "markdown",
      "metadata": {
        "id": "I1ALSY-ZouM5"
      },
      "source": [
        "### Train Test split"
      ]
    },
    {
      "cell_type": "code",
      "metadata": {
        "colab": {
          "base_uri": "https://localhost:8080/"
        },
        "id": "0td61EePouM5",
        "outputId": "b87eb80a-af78-4bb3-a19f-11fd3d1c19b5"
      },
      "source": [
        "\n",
        "# split into train and test sets\n",
        "values = reframed.values\n",
        "rows_count = values.shape[0]\n",
        "# split the 1/5 value\n",
        "train_split = rows_count//5\n",
        "\n",
        "n_train_hours = train_split * 4\n",
        "\n",
        "print(n_train_hours)\n",
        "print('values shape ',values.shape)\n",
        "train = values[:n_train_hours, :]\n",
        "test = values[n_train_hours:, :]\n",
        "# split into input and outputs\n",
        "train_X, train_y = train[:, :-1], train[:, -1]\n",
        "test_X, test_y = test[:, :-1], test[:, -1]\n",
        "# reshape input to be 3D [samples, timesteps, features]\n",
        "train_X = train_X.reshape((train_X.shape[0], 1, train_X.shape[1]))\n",
        "test_X = test_X.reshape((test_X.shape[0], 1, test_X.shape[1]))\n",
        "print(train_X.shape, train_y.shape, test_X.shape, test_y.shape)"
      ],
      "execution_count": null,
      "outputs": [
        {
          "output_type": "stream",
          "text": [
            "232\n",
            "values shape  (291, 40)\n",
            "(232, 1, 39) (232,) (59, 1, 39) (59,)\n"
          ],
          "name": "stdout"
        }
      ]
    },
    {
      "cell_type": "markdown",
      "metadata": {
        "id": "L8J1GAuqouM5"
      },
      "source": [
        "### Training LSTM for feature selected data"
      ]
    },
    {
      "cell_type": "code",
      "metadata": {
        "colab": {
          "base_uri": "https://localhost:8080/"
        },
        "id": "RdtesRtFouM5",
        "outputId": "8d38c005-455c-44c3-e8c8-76600eba8c09"
      },
      "source": [
        "...\n",
        "# design network\n",
        "model = Sequential()\n",
        "model.add(LSTM(50, input_shape=(train_X.shape[1], train_X.shape[2])))\n",
        "model.add(Dense(1))\n",
        "model.compile(loss='mae', optimizer='adam')\n",
        "# fit network\n",
        "history = model.fit(train_X, train_y, epochs=200, batch_size=72, validation_data=(test_X, test_y), verbose=2, shuffle=False)\n"
      ],
      "execution_count": null,
      "outputs": [
        {
          "output_type": "stream",
          "text": [
            "Epoch 1/200\n",
            "4/4 - 2s - loss: 0.0358 - val_loss: 0.1908\n",
            "Epoch 2/200\n",
            "4/4 - 0s - loss: 0.0506 - val_loss: 0.1870\n",
            "Epoch 3/200\n",
            "4/4 - 0s - loss: 0.0278 - val_loss: 0.1496\n",
            "Epoch 4/200\n",
            "4/4 - 0s - loss: 0.0296 - val_loss: 0.1849\n",
            "Epoch 5/200\n",
            "4/4 - 0s - loss: 0.0260 - val_loss: 0.1645\n",
            "Epoch 6/200\n",
            "4/4 - 0s - loss: 0.0253 - val_loss: 0.1562\n",
            "Epoch 7/200\n",
            "4/4 - 0s - loss: 0.0198 - val_loss: 0.1781\n",
            "Epoch 8/200\n",
            "4/4 - 0s - loss: 0.0238 - val_loss: 0.1618\n",
            "Epoch 9/200\n",
            "4/4 - 0s - loss: 0.0195 - val_loss: 0.1705\n",
            "Epoch 10/200\n",
            "4/4 - 0s - loss: 0.0197 - val_loss: 0.1688\n",
            "Epoch 11/200\n",
            "4/4 - 0s - loss: 0.0189 - val_loss: 0.1719\n",
            "Epoch 12/200\n",
            "4/4 - 0s - loss: 0.0187 - val_loss: 0.1676\n",
            "Epoch 13/200\n",
            "4/4 - 0s - loss: 0.0201 - val_loss: 0.1722\n",
            "Epoch 14/200\n",
            "4/4 - 0s - loss: 0.0187 - val_loss: 0.1686\n",
            "Epoch 15/200\n",
            "4/4 - 0s - loss: 0.0209 - val_loss: 0.1669\n",
            "Epoch 16/200\n",
            "4/4 - 0s - loss: 0.0179 - val_loss: 0.1716\n",
            "Epoch 17/200\n",
            "4/4 - 0s - loss: 0.0207 - val_loss: 0.1656\n",
            "Epoch 18/200\n",
            "4/4 - 0s - loss: 0.0176 - val_loss: 0.1750\n",
            "Epoch 19/200\n",
            "4/4 - 0s - loss: 0.0192 - val_loss: 0.1684\n",
            "Epoch 20/200\n",
            "4/4 - 0s - loss: 0.0172 - val_loss: 0.1736\n",
            "Epoch 21/200\n",
            "4/4 - 0s - loss: 0.0194 - val_loss: 0.1696\n",
            "Epoch 22/200\n",
            "4/4 - 0s - loss: 0.0176 - val_loss: 0.1754\n",
            "Epoch 23/200\n",
            "4/4 - 0s - loss: 0.0190 - val_loss: 0.1685\n",
            "Epoch 24/200\n",
            "4/4 - 0s - loss: 0.0169 - val_loss: 0.1754\n",
            "Epoch 25/200\n",
            "4/4 - 0s - loss: 0.0188 - val_loss: 0.1697\n",
            "Epoch 26/200\n",
            "4/4 - 0s - loss: 0.0163 - val_loss: 0.1742\n",
            "Epoch 27/200\n",
            "4/4 - 0s - loss: 0.0181 - val_loss: 0.1713\n",
            "Epoch 28/200\n",
            "4/4 - 0s - loss: 0.0161 - val_loss: 0.1722\n",
            "Epoch 29/200\n",
            "4/4 - 0s - loss: 0.0180 - val_loss: 0.1741\n",
            "Epoch 30/200\n",
            "4/4 - 0s - loss: 0.0164 - val_loss: 0.1696\n",
            "Epoch 31/200\n",
            "4/4 - 0s - loss: 0.0185 - val_loss: 0.1747\n",
            "Epoch 32/200\n",
            "4/4 - 0s - loss: 0.0166 - val_loss: 0.1667\n",
            "Epoch 33/200\n",
            "4/4 - 0s - loss: 0.0192 - val_loss: 0.1765\n",
            "Epoch 34/200\n",
            "4/4 - 0s - loss: 0.0179 - val_loss: 0.1655\n",
            "Epoch 35/200\n",
            "4/4 - 0s - loss: 0.0210 - val_loss: 0.1743\n",
            "Epoch 36/200\n",
            "4/4 - 0s - loss: 0.0185 - val_loss: 0.1716\n",
            "Epoch 37/200\n",
            "4/4 - 0s - loss: 0.0196 - val_loss: 0.1720\n",
            "Epoch 38/200\n",
            "4/4 - 0s - loss: 0.0178 - val_loss: 0.1743\n",
            "Epoch 39/200\n",
            "4/4 - 0s - loss: 0.0182 - val_loss: 0.1734\n",
            "Epoch 40/200\n",
            "4/4 - 0s - loss: 0.0177 - val_loss: 0.1745\n",
            "Epoch 41/200\n",
            "4/4 - 0s - loss: 0.0180 - val_loss: 0.1733\n",
            "Epoch 42/200\n",
            "4/4 - 0s - loss: 0.0172 - val_loss: 0.1734\n",
            "Epoch 43/200\n",
            "4/4 - 0s - loss: 0.0179 - val_loss: 0.1752\n",
            "Epoch 44/200\n",
            "4/4 - 0s - loss: 0.0173 - val_loss: 0.1714\n",
            "Epoch 45/200\n",
            "4/4 - 0s - loss: 0.0184 - val_loss: 0.1765\n",
            "Epoch 46/200\n",
            "4/4 - 0s - loss: 0.0177 - val_loss: 0.1726\n",
            "Epoch 47/200\n",
            "4/4 - 0s - loss: 0.0184 - val_loss: 0.1759\n",
            "Epoch 48/200\n",
            "4/4 - 0s - loss: 0.0179 - val_loss: 0.1755\n",
            "Epoch 49/200\n",
            "4/4 - 0s - loss: 0.0175 - val_loss: 0.1760\n",
            "Epoch 50/200\n",
            "4/4 - 0s - loss: 0.0176 - val_loss: 0.1760\n",
            "Epoch 51/200\n",
            "4/4 - 0s - loss: 0.0174 - val_loss: 0.1761\n",
            "Epoch 52/200\n",
            "4/4 - 0s - loss: 0.0172 - val_loss: 0.1753\n",
            "Epoch 53/200\n",
            "4/4 - 0s - loss: 0.0172 - val_loss: 0.1761\n",
            "Epoch 54/200\n",
            "4/4 - 0s - loss: 0.0166 - val_loss: 0.1737\n",
            "Epoch 55/200\n",
            "4/4 - 0s - loss: 0.0176 - val_loss: 0.1780\n",
            "Epoch 56/200\n",
            "4/4 - 0s - loss: 0.0176 - val_loss: 0.1730\n",
            "Epoch 57/200\n",
            "4/4 - 0s - loss: 0.0183 - val_loss: 0.1764\n",
            "Epoch 58/200\n",
            "4/4 - 0s - loss: 0.0173 - val_loss: 0.1746\n",
            "Epoch 59/200\n",
            "4/4 - 0s - loss: 0.0178 - val_loss: 0.1762\n",
            "Epoch 60/200\n",
            "4/4 - 0s - loss: 0.0170 - val_loss: 0.1747\n",
            "Epoch 61/200\n",
            "4/4 - 0s - loss: 0.0175 - val_loss: 0.1771\n",
            "Epoch 62/200\n",
            "4/4 - 0s - loss: 0.0171 - val_loss: 0.1745\n",
            "Epoch 63/200\n",
            "4/4 - 0s - loss: 0.0177 - val_loss: 0.1763\n",
            "Epoch 64/200\n",
            "4/4 - 0s - loss: 0.0167 - val_loss: 0.1752\n",
            "Epoch 65/200\n",
            "4/4 - 0s - loss: 0.0174 - val_loss: 0.1765\n",
            "Epoch 66/200\n",
            "4/4 - 0s - loss: 0.0169 - val_loss: 0.1753\n",
            "Epoch 67/200\n",
            "4/4 - 0s - loss: 0.0171 - val_loss: 0.1767\n",
            "Epoch 68/200\n",
            "4/4 - 0s - loss: 0.0165 - val_loss: 0.1751\n",
            "Epoch 69/200\n",
            "4/4 - 0s - loss: 0.0179 - val_loss: 0.1749\n",
            "Epoch 70/200\n",
            "4/4 - 0s - loss: 0.0164 - val_loss: 0.1761\n",
            "Epoch 71/200\n",
            "4/4 - 0s - loss: 0.0175 - val_loss: 0.1744\n",
            "Epoch 72/200\n",
            "4/4 - 0s - loss: 0.0165 - val_loss: 0.1762\n",
            "Epoch 73/200\n",
            "4/4 - 0s - loss: 0.0175 - val_loss: 0.1737\n",
            "Epoch 74/200\n",
            "4/4 - 0s - loss: 0.0160 - val_loss: 0.1766\n",
            "Epoch 75/200\n",
            "4/4 - 0s - loss: 0.0167 - val_loss: 0.1763\n",
            "Epoch 76/200\n",
            "4/4 - 0s - loss: 0.0165 - val_loss: 0.1757\n",
            "Epoch 77/200\n",
            "4/4 - 0s - loss: 0.0163 - val_loss: 0.1767\n",
            "Epoch 78/200\n",
            "4/4 - 0s - loss: 0.0161 - val_loss: 0.1742\n",
            "Epoch 79/200\n",
            "4/4 - 0s - loss: 0.0166 - val_loss: 0.1777\n",
            "Epoch 80/200\n",
            "4/4 - 0s - loss: 0.0161 - val_loss: 0.1731\n",
            "Epoch 81/200\n",
            "4/4 - 0s - loss: 0.0171 - val_loss: 0.1765\n",
            "Epoch 82/200\n",
            "4/4 - 0s - loss: 0.0162 - val_loss: 0.1737\n",
            "Epoch 83/200\n",
            "4/4 - 0s - loss: 0.0171 - val_loss: 0.1772\n",
            "Epoch 84/200\n",
            "4/4 - 0s - loss: 0.0166 - val_loss: 0.1749\n",
            "Epoch 85/200\n",
            "4/4 - 0s - loss: 0.0167 - val_loss: 0.1760\n",
            "Epoch 86/200\n",
            "4/4 - 0s - loss: 0.0159 - val_loss: 0.1749\n",
            "Epoch 87/200\n",
            "4/4 - 0s - loss: 0.0168 - val_loss: 0.1765\n",
            "Epoch 88/200\n",
            "4/4 - 0s - loss: 0.0163 - val_loss: 0.1751\n",
            "Epoch 89/200\n",
            "4/4 - 0s - loss: 0.0172 - val_loss: 0.1753\n",
            "Epoch 90/200\n",
            "4/4 - 0s - loss: 0.0162 - val_loss: 0.1754\n",
            "Epoch 91/200\n",
            "4/4 - 0s - loss: 0.0171 - val_loss: 0.1744\n",
            "Epoch 92/200\n",
            "4/4 - 0s - loss: 0.0159 - val_loss: 0.1750\n",
            "Epoch 93/200\n",
            "4/4 - 0s - loss: 0.0174 - val_loss: 0.1733\n",
            "Epoch 94/200\n",
            "4/4 - 0s - loss: 0.0157 - val_loss: 0.1768\n",
            "Epoch 95/200\n",
            "4/4 - 0s - loss: 0.0165 - val_loss: 0.1738\n",
            "Epoch 96/200\n",
            "4/4 - 0s - loss: 0.0158 - val_loss: 0.1760\n",
            "Epoch 97/200\n",
            "4/4 - 0s - loss: 0.0165 - val_loss: 0.1745\n",
            "Epoch 98/200\n",
            "4/4 - 0s - loss: 0.0160 - val_loss: 0.1755\n",
            "Epoch 99/200\n",
            "4/4 - 0s - loss: 0.0169 - val_loss: 0.1727\n",
            "Epoch 100/200\n",
            "4/4 - 0s - loss: 0.0159 - val_loss: 0.1757\n",
            "Epoch 101/200\n",
            "4/4 - 0s - loss: 0.0174 - val_loss: 0.1700\n",
            "Epoch 102/200\n",
            "4/4 - 0s - loss: 0.0154 - val_loss: 0.1783\n",
            "Epoch 103/200\n",
            "4/4 - 0s - loss: 0.0166 - val_loss: 0.1704\n",
            "Epoch 104/200\n",
            "4/4 - 0s - loss: 0.0153 - val_loss: 0.1775\n",
            "Epoch 105/200\n",
            "4/4 - 0s - loss: 0.0154 - val_loss: 0.1720\n",
            "Epoch 106/200\n",
            "4/4 - 0s - loss: 0.0150 - val_loss: 0.1760\n",
            "Epoch 107/200\n",
            "4/4 - 0s - loss: 0.0156 - val_loss: 0.1735\n",
            "Epoch 108/200\n",
            "4/4 - 0s - loss: 0.0152 - val_loss: 0.1756\n",
            "Epoch 109/200\n",
            "4/4 - 0s - loss: 0.0155 - val_loss: 0.1733\n",
            "Epoch 110/200\n",
            "4/4 - 0s - loss: 0.0151 - val_loss: 0.1758\n",
            "Epoch 111/200\n",
            "4/4 - 0s - loss: 0.0154 - val_loss: 0.1738\n",
            "Epoch 112/200\n",
            "4/4 - 0s - loss: 0.0150 - val_loss: 0.1752\n",
            "Epoch 113/200\n",
            "4/4 - 0s - loss: 0.0156 - val_loss: 0.1747\n",
            "Epoch 114/200\n",
            "4/4 - 0s - loss: 0.0151 - val_loss: 0.1747\n",
            "Epoch 115/200\n",
            "4/4 - 0s - loss: 0.0153 - val_loss: 0.1742\n",
            "Epoch 116/200\n",
            "4/4 - 0s - loss: 0.0147 - val_loss: 0.1745\n",
            "Epoch 117/200\n",
            "4/4 - 0s - loss: 0.0154 - val_loss: 0.1753\n",
            "Epoch 118/200\n",
            "4/4 - 0s - loss: 0.0150 - val_loss: 0.1728\n",
            "Epoch 119/200\n",
            "4/4 - 0s - loss: 0.0154 - val_loss: 0.1761\n",
            "Epoch 120/200\n",
            "4/4 - 0s - loss: 0.0150 - val_loss: 0.1716\n",
            "Epoch 121/200\n",
            "4/4 - 0s - loss: 0.0161 - val_loss: 0.1762\n",
            "Epoch 122/200\n",
            "4/4 - 0s - loss: 0.0153 - val_loss: 0.1718\n",
            "Epoch 123/200\n",
            "4/4 - 0s - loss: 0.0159 - val_loss: 0.1758\n",
            "Epoch 124/200\n",
            "4/4 - 0s - loss: 0.0155 - val_loss: 0.1726\n",
            "Epoch 125/200\n",
            "4/4 - 0s - loss: 0.0158 - val_loss: 0.1761\n",
            "Epoch 126/200\n",
            "4/4 - 0s - loss: 0.0157 - val_loss: 0.1730\n",
            "Epoch 127/200\n",
            "4/4 - 0s - loss: 0.0158 - val_loss: 0.1756\n",
            "Epoch 128/200\n",
            "4/4 - 0s - loss: 0.0158 - val_loss: 0.1730\n",
            "Epoch 129/200\n",
            "4/4 - 0s - loss: 0.0159 - val_loss: 0.1751\n",
            "Epoch 130/200\n",
            "4/4 - 0s - loss: 0.0153 - val_loss: 0.1728\n",
            "Epoch 131/200\n",
            "4/4 - 0s - loss: 0.0157 - val_loss: 0.1754\n",
            "Epoch 132/200\n",
            "4/4 - 0s - loss: 0.0153 - val_loss: 0.1730\n",
            "Epoch 133/200\n",
            "4/4 - 0s - loss: 0.0156 - val_loss: 0.1744\n",
            "Epoch 134/200\n",
            "4/4 - 0s - loss: 0.0148 - val_loss: 0.1734\n",
            "Epoch 135/200\n",
            "4/4 - 0s - loss: 0.0155 - val_loss: 0.1748\n",
            "Epoch 136/200\n",
            "4/4 - 0s - loss: 0.0151 - val_loss: 0.1730\n",
            "Epoch 137/200\n",
            "4/4 - 0s - loss: 0.0151 - val_loss: 0.1750\n",
            "Epoch 138/200\n",
            "4/4 - 0s - loss: 0.0147 - val_loss: 0.1728\n",
            "Epoch 139/200\n",
            "4/4 - 0s - loss: 0.0152 - val_loss: 0.1744\n",
            "Epoch 140/200\n",
            "4/4 - 0s - loss: 0.0147 - val_loss: 0.1723\n",
            "Epoch 141/200\n",
            "4/4 - 0s - loss: 0.0153 - val_loss: 0.1746\n",
            "Epoch 142/200\n",
            "4/4 - 0s - loss: 0.0148 - val_loss: 0.1709\n",
            "Epoch 143/200\n",
            "4/4 - 0s - loss: 0.0153 - val_loss: 0.1766\n",
            "Epoch 144/200\n",
            "4/4 - 0s - loss: 0.0153 - val_loss: 0.1699\n",
            "Epoch 145/200\n",
            "4/4 - 0s - loss: 0.0162 - val_loss: 0.1763\n",
            "Epoch 146/200\n",
            "4/4 - 0s - loss: 0.0158 - val_loss: 0.1701\n",
            "Epoch 147/200\n",
            "4/4 - 0s - loss: 0.0166 - val_loss: 0.1759\n",
            "Epoch 148/200\n",
            "4/4 - 0s - loss: 0.0165 - val_loss: 0.1705\n",
            "Epoch 149/200\n",
            "4/4 - 0s - loss: 0.0177 - val_loss: 0.1720\n",
            "Epoch 150/200\n",
            "4/4 - 0s - loss: 0.0159 - val_loss: 0.1733\n",
            "Epoch 151/200\n",
            "4/4 - 0s - loss: 0.0177 - val_loss: 0.1674\n",
            "Epoch 152/200\n",
            "4/4 - 0s - loss: 0.0150 - val_loss: 0.1755\n",
            "Epoch 153/200\n",
            "4/4 - 0s - loss: 0.0161 - val_loss: 0.1691\n",
            "Epoch 154/200\n",
            "4/4 - 0s - loss: 0.0149 - val_loss: 0.1743\n",
            "Epoch 155/200\n",
            "4/4 - 0s - loss: 0.0157 - val_loss: 0.1704\n",
            "Epoch 156/200\n",
            "4/4 - 0s - loss: 0.0149 - val_loss: 0.1731\n",
            "Epoch 157/200\n",
            "4/4 - 0s - loss: 0.0164 - val_loss: 0.1703\n",
            "Epoch 158/200\n",
            "4/4 - 0s - loss: 0.0150 - val_loss: 0.1737\n",
            "Epoch 159/200\n",
            "4/4 - 0s - loss: 0.0156 - val_loss: 0.1707\n",
            "Epoch 160/200\n",
            "4/4 - 0s - loss: 0.0149 - val_loss: 0.1731\n",
            "Epoch 161/200\n",
            "4/4 - 0s - loss: 0.0157 - val_loss: 0.1710\n",
            "Epoch 162/200\n",
            "4/4 - 0s - loss: 0.0148 - val_loss: 0.1732\n",
            "Epoch 163/200\n",
            "4/4 - 0s - loss: 0.0154 - val_loss: 0.1713\n",
            "Epoch 164/200\n",
            "4/4 - 0s - loss: 0.0149 - val_loss: 0.1730\n",
            "Epoch 165/200\n",
            "4/4 - 0s - loss: 0.0153 - val_loss: 0.1718\n",
            "Epoch 166/200\n",
            "4/4 - 0s - loss: 0.0147 - val_loss: 0.1730\n",
            "Epoch 167/200\n",
            "4/4 - 0s - loss: 0.0155 - val_loss: 0.1719\n",
            "Epoch 168/200\n",
            "4/4 - 0s - loss: 0.0153 - val_loss: 0.1722\n",
            "Epoch 169/200\n",
            "4/4 - 0s - loss: 0.0161 - val_loss: 0.1719\n",
            "Epoch 170/200\n",
            "4/4 - 0s - loss: 0.0150 - val_loss: 0.1725\n",
            "Epoch 171/200\n",
            "4/4 - 0s - loss: 0.0159 - val_loss: 0.1714\n",
            "Epoch 172/200\n",
            "4/4 - 0s - loss: 0.0152 - val_loss: 0.1728\n",
            "Epoch 173/200\n",
            "4/4 - 0s - loss: 0.0160 - val_loss: 0.1702\n",
            "Epoch 174/200\n",
            "4/4 - 0s - loss: 0.0148 - val_loss: 0.1733\n",
            "Epoch 175/200\n",
            "4/4 - 0s - loss: 0.0160 - val_loss: 0.1698\n",
            "Epoch 176/200\n",
            "4/4 - 0s - loss: 0.0150 - val_loss: 0.1730\n",
            "Epoch 177/200\n",
            "4/4 - 0s - loss: 0.0160 - val_loss: 0.1692\n",
            "Epoch 178/200\n",
            "4/4 - 0s - loss: 0.0146 - val_loss: 0.1746\n",
            "Epoch 179/200\n",
            "4/4 - 0s - loss: 0.0155 - val_loss: 0.1682\n",
            "Epoch 180/200\n",
            "4/4 - 0s - loss: 0.0147 - val_loss: 0.1749\n",
            "Epoch 181/200\n",
            "4/4 - 0s - loss: 0.0151 - val_loss: 0.1679\n",
            "Epoch 182/200\n",
            "4/4 - 0s - loss: 0.0142 - val_loss: 0.1746\n",
            "Epoch 183/200\n",
            "4/4 - 0s - loss: 0.0146 - val_loss: 0.1686\n",
            "Epoch 184/200\n",
            "4/4 - 0s - loss: 0.0139 - val_loss: 0.1740\n",
            "Epoch 185/200\n",
            "4/4 - 0s - loss: 0.0144 - val_loss: 0.1692\n",
            "Epoch 186/200\n",
            "4/4 - 0s - loss: 0.0139 - val_loss: 0.1737\n",
            "Epoch 187/200\n",
            "4/4 - 0s - loss: 0.0143 - val_loss: 0.1694\n",
            "Epoch 188/200\n",
            "4/4 - 0s - loss: 0.0139 - val_loss: 0.1725\n",
            "Epoch 189/200\n",
            "4/4 - 0s - loss: 0.0144 - val_loss: 0.1709\n",
            "Epoch 190/200\n",
            "4/4 - 0s - loss: 0.0139 - val_loss: 0.1714\n",
            "Epoch 191/200\n",
            "4/4 - 0s - loss: 0.0140 - val_loss: 0.1710\n",
            "Epoch 192/200\n",
            "4/4 - 0s - loss: 0.0138 - val_loss: 0.1707\n",
            "Epoch 193/200\n",
            "4/4 - 0s - loss: 0.0146 - val_loss: 0.1723\n",
            "Epoch 194/200\n",
            "4/4 - 0s - loss: 0.0143 - val_loss: 0.1689\n",
            "Epoch 195/200\n",
            "4/4 - 0s - loss: 0.0154 - val_loss: 0.1730\n",
            "Epoch 196/200\n",
            "4/4 - 0s - loss: 0.0151 - val_loss: 0.1699\n",
            "Epoch 197/200\n",
            "4/4 - 0s - loss: 0.0156 - val_loss: 0.1711\n",
            "Epoch 198/200\n",
            "4/4 - 0s - loss: 0.0144 - val_loss: 0.1713\n",
            "Epoch 199/200\n",
            "4/4 - 0s - loss: 0.0150 - val_loss: 0.1715\n",
            "Epoch 200/200\n",
            "4/4 - 0s - loss: 0.0146 - val_loss: 0.1712\n"
          ],
          "name": "stdout"
        }
      ]
    },
    {
      "cell_type": "code",
      "metadata": {
        "colab": {
          "base_uri": "https://localhost:8080/",
          "height": 267
        },
        "id": "AgPF0wXtouM6",
        "outputId": "bdfff865-f968-49da-cf1c-ec7da214d7b0"
      },
      "source": [
        "# plot history\n",
        "plt.plot(history.history['loss'], label='train')\n",
        "plt.plot(history.history['val_loss'], label='test')\n",
        "plt.legend()\n",
        "plt.show()"
      ],
      "execution_count": null,
      "outputs": [
        {
          "output_type": "display_data",
          "data": {
            "image/png": "[encoded data removed]",
            "text/plain": [
              "<Figure size 432x288 with 1 Axes>"
            ]
          },
          "metadata": {
            "tags": [],
            "needs_background": "light"
          }
        }
      ]
    },
    {
      "cell_type": "markdown",
      "metadata": {
        "id": "_9v61CKoouM6"
      },
      "source": [
        "### Testing feature selected data"
      ]
    },
    {
      "cell_type": "code",
      "metadata": {
        "colab": {
          "base_uri": "https://localhost:8080/"
        },
        "id": "2y3Hyaf1ouM6",
        "outputId": "66243b66-0626-4807-9c87-0e6efb8b1a6f"
      },
      "source": [
        "import math\n",
        "\n",
        "# make a prediction\n",
        "yhat = model.predict(test_X)\n",
        "test_X1 = test_X.reshape((test_X.shape[0], test_X.shape[2]))\n",
        "# invert scaling for forecast\n",
        "inv_yhat = concatenate((yhat, test_X1[:, 1:]), axis=1)\n",
        "print(inv_yhat.shape)\n",
        "#inv_yhat = scaler.inverse_transform(inv_yhat)\n",
        "inv_yhat = inv_yhat[:,0]\n",
        "# invert scaling for actual\n",
        "test_y = test_y.reshape((len(test_y), 1))\n",
        "inv_y = concatenate((test_y, test_X1[:, 1:]), axis=1)\n",
        "#inv_y = scaler.inverse_transform(inv_y)\n",
        "inv_y = inv_y[:,0]\n",
        "# calculate RMSE\n",
        "mse = mean_squared_error(inv_y, inv_yhat)\n",
        "print('Test MSE: %.3f' % mse)\n",
        "rmse = math.sqrt(mean_squared_error(inv_y, inv_yhat))\n",
        "print('Test RMSE: %.3f' % rmse)\n",
        "print('median_absolute_error', median_absolute_error(inv_y, inv_yhat))\n",
        "print('mean_absolute_error', mean_absolute_error(inv_y, inv_yhat))"
      ],
      "execution_count": null,
      "outputs": [
        {
          "output_type": "stream",
          "text": [
            "WARNING:tensorflow:6 out of the last 11 calls to <function Model.make_predict_function.<locals>.predict_function at 0x7f1f5700a9d8> triggered tf.function retracing. Tracing is expensive and the excessive number of tracings could be due to (1) creating @tf.function repeatedly in a loop, (2) passing tensors with different shapes, (3) passing Python objects instead of tensors. For (1), please define your @tf.function outside of the loop. For (2), @tf.function has experimental_relax_shapes=True option that relaxes argument shapes that can avoid unnecessary retracing. For (3), please refer to https://www.tensorflow.org/guide/function#controlling_retracing and https://www.tensorflow.org/api_docs/python/tf/function for  more details.\n",
            "(59, 39)\n",
            "Test MSE: 0.061\n",
            "Test RMSE: 0.246\n",
            "median_absolute_error 0.11353008\n",
            "mean_absolute_error 0.1711982\n"
          ],
          "name": "stdout"
        }
      ]
    },
    {
      "cell_type": "markdown",
      "metadata": {
        "id": "q1oGmXjS6_w_"
      },
      "source": [
        "# LSTM: All Groups Together"
      ]
    },
    {
      "cell_type": "code",
      "metadata": {
        "id": "8JFl43gt6_xR"
      },
      "source": [
        "x_col_all_group = ['FIPS','mask_rule_severity','m50_index','retail_and_recreation_percent_change_from_baseline',\n",
        "                'grocery_and_pharmacy_percent_change_from_baseline','parks_percent_change_from_baseline',\n",
        "                'transit_stations_percent_change_from_baseline','workplaces_percent_change_from_baseline',\n",
        "                'residential_percent_change_from_baseline','PopDensity','Social.distancing.index',\n",
        "                'X..staying.home','Trips.person','X..out.of.county.trips',\t'X..out.of.state.trips',\n",
        "                'Miles.person',\t'Work.trips.person','Non.work.trips.person','X..change.in.consumption',\n",
        "                'Transit.mode.share','X..people.older.than.60',\t'Median.income',\t'X..African.Americans',\n",
        "                'X..Hispanic.Americans',\t'X..Male','Employment.density',\t'X..hot.spots.1000.people',\n",
        "                'Hospital.beds.1000.people',\t'ICUs.1000.people',\n",
        "                'New.cases.1000.people',\t'Active.cases.1000.people',\t'X.days..decreasing.COVID.cases',\n",
        "                'X..hospital.bed.utilization',\t'Testing.capacity',\t'Tests.done.1000.people',\t'X..ICU.utilization',\n",
        "                'Ventilator.shortage',\t'Imported.COVID.cases',\t'COVID.exposure.1000.people',\t'X.days..decreasing.ILI.cases',\n",
        "                'Unemployment.claims.1000.people',\t'Unemployment.rate',\t'X..working.from.home',\n",
        "                'Cumulative.inflation.rate'\t,'COVID.death.rate','growth_code',\n",
        "                \t'positivity_rate',\t'rolling_avg_new_cases/100k','Date','New cases/100k']\n",
        "  \n",
        "\n",
        "X_cols_all = x_col_all_group\n",
        "\n",
        "X_cols_feature_selected = ['Tests.done.1000.people',\n",
        " 'X..staying.home','Unemployment.rate',\n",
        " 'X..people.older.than.60','X..working.from.home','X.days..decreasing.ILI.cases',\n",
        " 'X..Male','X..out.of.county.trips','parks_percent_change_from_baseline',\n",
        " 'Work.trips.person','m50_index','FIPS','positivity_rate','Imported.COVID.cases',\n",
        " 'X..out.of.state.trips','Miles.person',\n",
        " 'X.days..decreasing.COVID.cases','grocery_and_pharmacy_percent_change_from_baseline',\n",
        " 'transit_stations_percent_change_from_baseline',\n",
        " 'Testing.capacity','retail_and_recreation_percent_change_from_baseline','Unemployment.claims.1000.people',\n",
        " 'growth_code','Date','New cases/100k']\n"
      ],
      "execution_count": null,
      "outputs": []
    },
    {
      "cell_type": "code",
      "metadata": {
        "colab": {
          "base_uri": "https://localhost:8080/"
        },
        "id": "60gwr8Od7gu-",
        "outputId": "dad5335a-2303-4f27-e034-78f428f86e3f"
      },
      "source": [
        "print(len(X_cols_feature_selected))\n",
        "len(x_col_all_group)"
      ],
      "execution_count": null,
      "outputs": [
        {
          "output_type": "stream",
          "text": [
            "25\n"
          ],
          "name": "stdout"
        },
        {
          "output_type": "execute_result",
          "data": {
            "text/plain": [
              "50"
            ]
          },
          "metadata": {
            "tags": []
          },
          "execution_count": 88
        }
      ]
    },
    {
      "cell_type": "code",
      "metadata": {
        "colab": {
          "base_uri": "https://localhost:8080/",
          "height": 360
        },
        "id": "vnflPkbv6_xS",
        "outputId": "97e697f4-0afe-4bbe-ded7-8363ff446f11"
      },
      "source": [
        "LA_combined_data_all = CA_superset_data[CA_superset_data['County Name'] == 'Los Angeles County'][X_cols_all]\n",
        "print(LA_combined_data_all.shape)\n",
        "\n",
        "LA_combined_data_featured = CA_superset_data[CA_superset_data['County Name'] == 'Los Angeles County'][X_cols_feature_selected]\n",
        "print(LA_combined_data_featured.shape)\n",
        "LA_combined_data_all.head(5)"
      ],
      "execution_count": null,
      "outputs": [
        {
          "output_type": "stream",
          "text": [
            "(292, 50)\n",
            "(292, 25)\n"
          ],
          "name": "stdout"
        },
        {
          "output_type": "execute_result",
          "data": {
            "text/html": [
              "<div>\n",
              "<style scoped>\n",
              "    .dataframe tbody tr th:only-of-type {\n",
              "        vertical-align: middle;\n",
              "    }\n",
              "\n",
              "    .dataframe tbody tr th {\n",
              "        vertical-align: top;\n",
              "    }\n",
              "\n",
              "    .dataframe thead th {\n",
              "        text-align: right;\n",
              "    }\n",
              "</style>\n",
              "<table border=\"1\" class=\"dataframe\">\n",
              "  <thead>\n",
              "    <tr style=\"text-align: right;\">\n",
              "      <th></th>\n",
              "      <th>FIPS</th>\n",
              "      <th>mask_rule_severity</th>\n",
              "      <th>m50_index</th>\n",
              "      <th>retail_and_recreation_percent_change_from_baseline</th>\n",
              "      <th>grocery_and_pharmacy_percent_change_from_baseline</th>\n",
              "      <th>parks_percent_change_from_baseline</th>\n",
              "      <th>transit_stations_percent_change_from_baseline</th>\n",
              "      <th>workplaces_percent_change_from_baseline</th>\n",
              "      <th>residential_percent_change_from_baseline</th>\n",
              "      <th>PopDensity</th>\n",
              "      <th>Social.distancing.index</th>\n",
              "      <th>X..staying.home</th>\n",
              "      <th>Trips.person</th>\n",
              "      <th>X..out.of.county.trips</th>\n",
              "      <th>X..out.of.state.trips</th>\n",
              "      <th>Miles.person</th>\n",
              "      <th>Work.trips.person</th>\n",
              "      <th>Non.work.trips.person</th>\n",
              "      <th>X..change.in.consumption</th>\n",
              "      <th>Transit.mode.share</th>\n",
              "      <th>X..people.older.than.60</th>\n",
              "      <th>Median.income</th>\n",
              "      <th>X..African.Americans</th>\n",
              "      <th>X..Hispanic.Americans</th>\n",
              "      <th>X..Male</th>\n",
              "      <th>Employment.density</th>\n",
              "      <th>X..hot.spots.1000.people</th>\n",
              "      <th>Hospital.beds.1000.people</th>\n",
              "      <th>ICUs.1000.people</th>\n",
              "      <th>New.cases.1000.people</th>\n",
              "      <th>Active.cases.1000.people</th>\n",
              "      <th>X.days..decreasing.COVID.cases</th>\n",
              "      <th>X..hospital.bed.utilization</th>\n",
              "      <th>Testing.capacity</th>\n",
              "      <th>Tests.done.1000.people</th>\n",
              "      <th>X..ICU.utilization</th>\n",
              "      <th>Ventilator.shortage</th>\n",
              "      <th>Imported.COVID.cases</th>\n",
              "      <th>COVID.exposure.1000.people</th>\n",
              "      <th>X.days..decreasing.ILI.cases</th>\n",
              "      <th>Unemployment.claims.1000.people</th>\n",
              "      <th>Unemployment.rate</th>\n",
              "      <th>X..working.from.home</th>\n",
              "      <th>Cumulative.inflation.rate</th>\n",
              "      <th>COVID.death.rate</th>\n",
              "      <th>growth_code</th>\n",
              "      <th>positivity_rate</th>\n",
              "      <th>rolling_avg_new_cases/100k</th>\n",
              "      <th>Date</th>\n",
              "      <th>New cases/100k</th>\n",
              "    </tr>\n",
              "  </thead>\n",
              "  <tbody>\n",
              "    <tr>\n",
              "      <th>4804</th>\n",
              "      <td>6037</td>\n",
              "      <td>0.0000</td>\n",
              "      <td>60</td>\n",
              "      <td>4.0000</td>\n",
              "      <td>3.0000</td>\n",
              "      <td>-5.0000</td>\n",
              "      <td>-3.0000</td>\n",
              "      <td>1.0000</td>\n",
              "      <td>0.0000</td>\n",
              "      <td>960.7428</td>\n",
              "      <td>35</td>\n",
              "      <td>26</td>\n",
              "      <td>2.9100</td>\n",
              "      <td>11.2000</td>\n",
              "      <td>0.5000</td>\n",
              "      <td>35.1000</td>\n",
              "      <td>0.2600</td>\n",
              "      <td>2.6500</td>\n",
              "      <td>-4.2000</td>\n",
              "      <td>6.0400</td>\n",
              "      <td>18</td>\n",
              "      <td>64251</td>\n",
              "      <td>7.9000</td>\n",
              "      <td>48.5000</td>\n",
              "      <td>49.2800</td>\n",
              "      <td>972</td>\n",
              "      <td>140</td>\n",
              "      <td>2.0500</td>\n",
              "      <td>0.2200</td>\n",
              "      <td>0.0000</td>\n",
              "      <td>0.0000</td>\n",
              "      <td>29</td>\n",
              "      <td>54.0000</td>\n",
              "      <td>0.0000</td>\n",
              "      <td>0.0000</td>\n",
              "      <td>0.0000</td>\n",
              "      <td>0</td>\n",
              "      <td>0</td>\n",
              "      <td>0.0500</td>\n",
              "      <td>35</td>\n",
              "      <td>1.1000</td>\n",
              "      <td>5.3000</td>\n",
              "      <td>5.7000</td>\n",
              "      <td>0.6000</td>\n",
              "      <td>0.0000</td>\n",
              "      <td>0</td>\n",
              "      <td>0.0000</td>\n",
              "      <td>0.0000</td>\n",
              "      <td>2020-03-01</td>\n",
              "      <td>0.0000</td>\n",
              "    </tr>\n",
              "    <tr>\n",
              "      <th>4805</th>\n",
              "      <td>6037</td>\n",
              "      <td>0.0000</td>\n",
              "      <td>98</td>\n",
              "      <td>5.0000</td>\n",
              "      <td>5.0000</td>\n",
              "      <td>8.0000</td>\n",
              "      <td>1.0000</td>\n",
              "      <td>4.0000</td>\n",
              "      <td>-1.0000</td>\n",
              "      <td>960.7428</td>\n",
              "      <td>16</td>\n",
              "      <td>19</td>\n",
              "      <td>3.4200</td>\n",
              "      <td>10.4000</td>\n",
              "      <td>0.4000</td>\n",
              "      <td>35.1000</td>\n",
              "      <td>0.7000</td>\n",
              "      <td>2.7100</td>\n",
              "      <td>-2.0000</td>\n",
              "      <td>6.0400</td>\n",
              "      <td>18</td>\n",
              "      <td>64251</td>\n",
              "      <td>7.9000</td>\n",
              "      <td>48.5000</td>\n",
              "      <td>49.2800</td>\n",
              "      <td>972</td>\n",
              "      <td>140</td>\n",
              "      <td>2.0500</td>\n",
              "      <td>0.2200</td>\n",
              "      <td>0.0000</td>\n",
              "      <td>0.0000</td>\n",
              "      <td>30</td>\n",
              "      <td>54.0000</td>\n",
              "      <td>0.0000</td>\n",
              "      <td>0.0000</td>\n",
              "      <td>0.0000</td>\n",
              "      <td>0</td>\n",
              "      <td>1</td>\n",
              "      <td>0.0500</td>\n",
              "      <td>35</td>\n",
              "      <td>1.1000</td>\n",
              "      <td>5.3000</td>\n",
              "      <td>5.7000</td>\n",
              "      <td>0.6000</td>\n",
              "      <td>0.0000</td>\n",
              "      <td>0</td>\n",
              "      <td>0.0000</td>\n",
              "      <td>0.0000</td>\n",
              "      <td>2020-03-02</td>\n",
              "      <td>0.0000</td>\n",
              "    </tr>\n",
              "    <tr>\n",
              "      <th>4806</th>\n",
              "      <td>6037</td>\n",
              "      <td>0.0000</td>\n",
              "      <td>99</td>\n",
              "      <td>8.0000</td>\n",
              "      <td>7.0000</td>\n",
              "      <td>32.0000</td>\n",
              "      <td>2.0000</td>\n",
              "      <td>3.0000</td>\n",
              "      <td>-1.0000</td>\n",
              "      <td>960.7428</td>\n",
              "      <td>15</td>\n",
              "      <td>18</td>\n",
              "      <td>3.5700</td>\n",
              "      <td>10.2000</td>\n",
              "      <td>0.3000</td>\n",
              "      <td>33.7000</td>\n",
              "      <td>0.7300</td>\n",
              "      <td>2.8400</td>\n",
              "      <td>2.7000</td>\n",
              "      <td>6.0400</td>\n",
              "      <td>18</td>\n",
              "      <td>64251</td>\n",
              "      <td>7.9000</td>\n",
              "      <td>48.5000</td>\n",
              "      <td>49.2800</td>\n",
              "      <td>972</td>\n",
              "      <td>140</td>\n",
              "      <td>2.0500</td>\n",
              "      <td>0.2200</td>\n",
              "      <td>0.0000</td>\n",
              "      <td>0.0000</td>\n",
              "      <td>31</td>\n",
              "      <td>54.0000</td>\n",
              "      <td>0.0000</td>\n",
              "      <td>0.0000</td>\n",
              "      <td>0.0000</td>\n",
              "      <td>0</td>\n",
              "      <td>1</td>\n",
              "      <td>0.0500</td>\n",
              "      <td>42</td>\n",
              "      <td>1.1000</td>\n",
              "      <td>5.3000</td>\n",
              "      <td>5.7000</td>\n",
              "      <td>0.6000</td>\n",
              "      <td>0.0000</td>\n",
              "      <td>0</td>\n",
              "      <td>0.0000</td>\n",
              "      <td>0.0000</td>\n",
              "      <td>2020-03-03</td>\n",
              "      <td>0.0000</td>\n",
              "    </tr>\n",
              "    <tr>\n",
              "      <th>4807</th>\n",
              "      <td>6037</td>\n",
              "      <td>0.0000</td>\n",
              "      <td>100</td>\n",
              "      <td>4.0000</td>\n",
              "      <td>6.0000</td>\n",
              "      <td>9.0000</td>\n",
              "      <td>-1.0000</td>\n",
              "      <td>2.0000</td>\n",
              "      <td>0.0000</td>\n",
              "      <td>960.7428</td>\n",
              "      <td>14</td>\n",
              "      <td>18</td>\n",
              "      <td>3.4800</td>\n",
              "      <td>10.7000</td>\n",
              "      <td>0.3000</td>\n",
              "      <td>34.9000</td>\n",
              "      <td>0.7200</td>\n",
              "      <td>2.7600</td>\n",
              "      <td>-0.2000</td>\n",
              "      <td>6.0400</td>\n",
              "      <td>18</td>\n",
              "      <td>64251</td>\n",
              "      <td>7.9000</td>\n",
              "      <td>48.5000</td>\n",
              "      <td>49.2800</td>\n",
              "      <td>972</td>\n",
              "      <td>140</td>\n",
              "      <td>2.0500</td>\n",
              "      <td>0.2200</td>\n",
              "      <td>0.0002</td>\n",
              "      <td>0.0000</td>\n",
              "      <td>0</td>\n",
              "      <td>54.0000</td>\n",
              "      <td>10.3000</td>\n",
              "      <td>0.0100</td>\n",
              "      <td>0.0000</td>\n",
              "      <td>0</td>\n",
              "      <td>1</td>\n",
              "      <td>0.0600</td>\n",
              "      <td>42</td>\n",
              "      <td>1.1000</td>\n",
              "      <td>5.3000</td>\n",
              "      <td>5.7000</td>\n",
              "      <td>0.6000</td>\n",
              "      <td>0.0400</td>\n",
              "      <td>0</td>\n",
              "      <td>0.0020</td>\n",
              "      <td>0.0000</td>\n",
              "      <td>2020-03-04</td>\n",
              "      <td>0.0594</td>\n",
              "    </tr>\n",
              "    <tr>\n",
              "      <th>4808</th>\n",
              "      <td>6037</td>\n",
              "      <td>0.0000</td>\n",
              "      <td>106</td>\n",
              "      <td>4.0000</td>\n",
              "      <td>7.0000</td>\n",
              "      <td>9.0000</td>\n",
              "      <td>0.0000</td>\n",
              "      <td>2.0000</td>\n",
              "      <td>0.0000</td>\n",
              "      <td>960.7428</td>\n",
              "      <td>14</td>\n",
              "      <td>18</td>\n",
              "      <td>3.5200</td>\n",
              "      <td>10.7000</td>\n",
              "      <td>0.3000</td>\n",
              "      <td>36.4000</td>\n",
              "      <td>0.7200</td>\n",
              "      <td>2.8100</td>\n",
              "      <td>1.6000</td>\n",
              "      <td>6.0400</td>\n",
              "      <td>18</td>\n",
              "      <td>64251</td>\n",
              "      <td>7.9000</td>\n",
              "      <td>48.5000</td>\n",
              "      <td>49.2800</td>\n",
              "      <td>972</td>\n",
              "      <td>140</td>\n",
              "      <td>2.0500</td>\n",
              "      <td>0.2200</td>\n",
              "      <td>0.0003</td>\n",
              "      <td>0.0000</td>\n",
              "      <td>0</td>\n",
              "      <td>54.0000</td>\n",
              "      <td>10.3000</td>\n",
              "      <td>0.0100</td>\n",
              "      <td>0.0000</td>\n",
              "      <td>0</td>\n",
              "      <td>2</td>\n",
              "      <td>0.0600</td>\n",
              "      <td>42</td>\n",
              "      <td>1.1000</td>\n",
              "      <td>5.3000</td>\n",
              "      <td>5.7000</td>\n",
              "      <td>0.6000</td>\n",
              "      <td>0.0400</td>\n",
              "      <td>0</td>\n",
              "      <td>0.0030</td>\n",
              "      <td>0.0000</td>\n",
              "      <td>2020-03-05</td>\n",
              "      <td>0.0396</td>\n",
              "    </tr>\n",
              "  </tbody>\n",
              "</table>\n",
              "</div>"
            ],
            "text/plain": [
              "      FIPS  mask_rule_severity  ...        Date  New cases/100k\n",
              "4804  6037              0.0000  ...  2020-03-01          0.0000\n",
              "4805  6037              0.0000  ...  2020-03-02          0.0000\n",
              "4806  6037              0.0000  ...  2020-03-03          0.0000\n",
              "4807  6037              0.0000  ...  2020-03-04          0.0594\n",
              "4808  6037              0.0000  ...  2020-03-05          0.0396\n",
              "\n",
              "[5 rows x 50 columns]"
            ]
          },
          "metadata": {
            "tags": []
          },
          "execution_count": 89
        }
      ]
    },
    {
      "cell_type": "code",
      "metadata": {
        "id": "CKMv1y5-6_xT"
      },
      "source": [
        "from datetime import datetime\n",
        "# load data\n",
        "def parse(x):\n",
        "\treturn datetime.strptime(x, '%Y-%m-%d')\n",
        " \n",
        "def datetime_to_float(d):\n",
        "    date_time_obj = datetime.strptime(d, '%Y-%m-%d')\n",
        "    return date_time_obj.timestamp()"
      ],
      "execution_count": null,
      "outputs": []
    },
    {
      "cell_type": "code",
      "metadata": {
        "colab": {
          "base_uri": "https://localhost:8080/"
        },
        "id": "7SMJ_bGr6_xT",
        "outputId": "f017f71c-5863-464a-a89c-8f37b7fe2186"
      },
      "source": [
        "len(LA_combined_data_featured.columns)"
      ],
      "execution_count": null,
      "outputs": [
        {
          "output_type": "execute_result",
          "data": {
            "text/plain": [
              "25"
            ]
          },
          "metadata": {
            "tags": []
          },
          "execution_count": 91
        }
      ]
    },
    {
      "cell_type": "code",
      "metadata": {
        "colab": {
          "base_uri": "https://localhost:8080/",
          "height": 241
        },
        "id": "UlmO4szL6_xU",
        "outputId": "1756568f-94a9-4f01-b0b9-bd3b00785017"
      },
      "source": [
        "LA_combined_data_featured['Date'] = LA_combined_data_featured['Date'].apply(lambda x: datetime_to_float(x))\n",
        "LA_combined_data_all['Date'] = LA_combined_data_all['Date'].apply(lambda x: datetime_to_float(x))\n",
        "\n",
        "#Harris_combined_data.index.name = 'Date'\n",
        "LA_combined_data_featured.head()"
      ],
      "execution_count": null,
      "outputs": [
        {
          "output_type": "execute_result",
          "data": {
            "text/html": [
              "<div>\n",
              "<style scoped>\n",
              "    .dataframe tbody tr th:only-of-type {\n",
              "        vertical-align: middle;\n",
              "    }\n",
              "\n",
              "    .dataframe tbody tr th {\n",
              "        vertical-align: top;\n",
              "    }\n",
              "\n",
              "    .dataframe thead th {\n",
              "        text-align: right;\n",
              "    }\n",
              "</style>\n",
              "<table border=\"1\" class=\"dataframe\">\n",
              "  <thead>\n",
              "    <tr style=\"text-align: right;\">\n",
              "      <th></th>\n",
              "      <th>Tests.done.1000.people</th>\n",
              "      <th>X..staying.home</th>\n",
              "      <th>Unemployment.rate</th>\n",
              "      <th>X..people.older.than.60</th>\n",
              "      <th>X..working.from.home</th>\n",
              "      <th>X.days..decreasing.ILI.cases</th>\n",
              "      <th>X..Male</th>\n",
              "      <th>X..out.of.county.trips</th>\n",
              "      <th>parks_percent_change_from_baseline</th>\n",
              "      <th>Work.trips.person</th>\n",
              "      <th>m50_index</th>\n",
              "      <th>FIPS</th>\n",
              "      <th>positivity_rate</th>\n",
              "      <th>Imported.COVID.cases</th>\n",
              "      <th>X..out.of.state.trips</th>\n",
              "      <th>Miles.person</th>\n",
              "      <th>X.days..decreasing.COVID.cases</th>\n",
              "      <th>grocery_and_pharmacy_percent_change_from_baseline</th>\n",
              "      <th>transit_stations_percent_change_from_baseline</th>\n",
              "      <th>Testing.capacity</th>\n",
              "      <th>retail_and_recreation_percent_change_from_baseline</th>\n",
              "      <th>Unemployment.claims.1000.people</th>\n",
              "      <th>growth_code</th>\n",
              "      <th>Date</th>\n",
              "      <th>New cases/100k</th>\n",
              "    </tr>\n",
              "  </thead>\n",
              "  <tbody>\n",
              "    <tr>\n",
              "      <th>4804</th>\n",
              "      <td>0.0000</td>\n",
              "      <td>26</td>\n",
              "      <td>5.3000</td>\n",
              "      <td>18</td>\n",
              "      <td>5.7000</td>\n",
              "      <td>35</td>\n",
              "      <td>49.2800</td>\n",
              "      <td>11.2000</td>\n",
              "      <td>-5.0000</td>\n",
              "      <td>0.2600</td>\n",
              "      <td>60</td>\n",
              "      <td>6037</td>\n",
              "      <td>0.0000</td>\n",
              "      <td>0</td>\n",
              "      <td>0.5000</td>\n",
              "      <td>35.1000</td>\n",
              "      <td>29</td>\n",
              "      <td>3.0000</td>\n",
              "      <td>-3.0000</td>\n",
              "      <td>0.0000</td>\n",
              "      <td>4.0000</td>\n",
              "      <td>1.1000</td>\n",
              "      <td>0</td>\n",
              "      <td>1583020800.0000</td>\n",
              "      <td>0.0000</td>\n",
              "    </tr>\n",
              "    <tr>\n",
              "      <th>4805</th>\n",
              "      <td>0.0000</td>\n",
              "      <td>19</td>\n",
              "      <td>5.3000</td>\n",
              "      <td>18</td>\n",
              "      <td>5.7000</td>\n",
              "      <td>35</td>\n",
              "      <td>49.2800</td>\n",
              "      <td>10.4000</td>\n",
              "      <td>8.0000</td>\n",
              "      <td>0.7000</td>\n",
              "      <td>98</td>\n",
              "      <td>6037</td>\n",
              "      <td>0.0000</td>\n",
              "      <td>1</td>\n",
              "      <td>0.4000</td>\n",
              "      <td>35.1000</td>\n",
              "      <td>30</td>\n",
              "      <td>5.0000</td>\n",
              "      <td>1.0000</td>\n",
              "      <td>0.0000</td>\n",
              "      <td>5.0000</td>\n",
              "      <td>1.1000</td>\n",
              "      <td>0</td>\n",
              "      <td>1583107200.0000</td>\n",
              "      <td>0.0000</td>\n",
              "    </tr>\n",
              "    <tr>\n",
              "      <th>4806</th>\n",
              "      <td>0.0000</td>\n",
              "      <td>18</td>\n",
              "      <td>5.3000</td>\n",
              "      <td>18</td>\n",
              "      <td>5.7000</td>\n",
              "      <td>42</td>\n",
              "      <td>49.2800</td>\n",
              "      <td>10.2000</td>\n",
              "      <td>32.0000</td>\n",
              "      <td>0.7300</td>\n",
              "      <td>99</td>\n",
              "      <td>6037</td>\n",
              "      <td>0.0000</td>\n",
              "      <td>1</td>\n",
              "      <td>0.3000</td>\n",
              "      <td>33.7000</td>\n",
              "      <td>31</td>\n",
              "      <td>7.0000</td>\n",
              "      <td>2.0000</td>\n",
              "      <td>0.0000</td>\n",
              "      <td>8.0000</td>\n",
              "      <td>1.1000</td>\n",
              "      <td>0</td>\n",
              "      <td>1583193600.0000</td>\n",
              "      <td>0.0000</td>\n",
              "    </tr>\n",
              "    <tr>\n",
              "      <th>4807</th>\n",
              "      <td>0.0100</td>\n",
              "      <td>18</td>\n",
              "      <td>5.3000</td>\n",
              "      <td>18</td>\n",
              "      <td>5.7000</td>\n",
              "      <td>42</td>\n",
              "      <td>49.2800</td>\n",
              "      <td>10.7000</td>\n",
              "      <td>9.0000</td>\n",
              "      <td>0.7200</td>\n",
              "      <td>100</td>\n",
              "      <td>6037</td>\n",
              "      <td>0.0020</td>\n",
              "      <td>1</td>\n",
              "      <td>0.3000</td>\n",
              "      <td>34.9000</td>\n",
              "      <td>0</td>\n",
              "      <td>6.0000</td>\n",
              "      <td>-1.0000</td>\n",
              "      <td>10.3000</td>\n",
              "      <td>4.0000</td>\n",
              "      <td>1.1000</td>\n",
              "      <td>0</td>\n",
              "      <td>1583280000.0000</td>\n",
              "      <td>0.0594</td>\n",
              "    </tr>\n",
              "    <tr>\n",
              "      <th>4808</th>\n",
              "      <td>0.0100</td>\n",
              "      <td>18</td>\n",
              "      <td>5.3000</td>\n",
              "      <td>18</td>\n",
              "      <td>5.7000</td>\n",
              "      <td>42</td>\n",
              "      <td>49.2800</td>\n",
              "      <td>10.7000</td>\n",
              "      <td>9.0000</td>\n",
              "      <td>0.7200</td>\n",
              "      <td>106</td>\n",
              "      <td>6037</td>\n",
              "      <td>0.0030</td>\n",
              "      <td>2</td>\n",
              "      <td>0.3000</td>\n",
              "      <td>36.4000</td>\n",
              "      <td>0</td>\n",
              "      <td>7.0000</td>\n",
              "      <td>0.0000</td>\n",
              "      <td>10.3000</td>\n",
              "      <td>4.0000</td>\n",
              "      <td>1.1000</td>\n",
              "      <td>0</td>\n",
              "      <td>1583366400.0000</td>\n",
              "      <td>0.0396</td>\n",
              "    </tr>\n",
              "  </tbody>\n",
              "</table>\n",
              "</div>"
            ],
            "text/plain": [
              "      Tests.done.1000.people  X..staying.home  ...            Date  New cases/100k\n",
              "4804                  0.0000               26  ... 1583020800.0000          0.0000\n",
              "4805                  0.0000               19  ... 1583107200.0000          0.0000\n",
              "4806                  0.0000               18  ... 1583193600.0000          0.0000\n",
              "4807                  0.0100               18  ... 1583280000.0000          0.0594\n",
              "4808                  0.0100               18  ... 1583366400.0000          0.0396\n",
              "\n",
              "[5 rows x 25 columns]"
            ]
          },
          "metadata": {
            "tags": []
          },
          "execution_count": 92
        }
      ]
    },
    {
      "cell_type": "code",
      "metadata": {
        "colab": {
          "base_uri": "https://localhost:8080/"
        },
        "id": "OWXrSj2d6_xU",
        "outputId": "e0c2300d-8952-457b-8edb-1252608182bb"
      },
      "source": [
        "print(len(LA_combined_data_featured.columns))\n",
        "LA_combined_data_featured.dtypes"
      ],
      "execution_count": null,
      "outputs": [
        {
          "output_type": "stream",
          "text": [
            "25\n"
          ],
          "name": "stdout"
        },
        {
          "output_type": "execute_result",
          "data": {
            "text/plain": [
              "Tests.done.1000.people                                float64\n",
              "X..staying.home                                         int64\n",
              "Unemployment.rate                                     float64\n",
              "X..people.older.than.60                                 int64\n",
              "X..working.from.home                                  float64\n",
              "X.days..decreasing.ILI.cases                            int64\n",
              "X..Male                                               float64\n",
              "X..out.of.county.trips                                float64\n",
              "parks_percent_change_from_baseline                    float64\n",
              "Work.trips.person                                     float64\n",
              "m50_index                                               int64\n",
              "FIPS                                                    int64\n",
              "positivity_rate                                       float64\n",
              "Imported.COVID.cases                                    int64\n",
              "X..out.of.state.trips                                 float64\n",
              "Miles.person                                          float64\n",
              "X.days..decreasing.COVID.cases                          int64\n",
              "grocery_and_pharmacy_percent_change_from_baseline     float64\n",
              "transit_stations_percent_change_from_baseline         float64\n",
              "Testing.capacity                                      float64\n",
              "retail_and_recreation_percent_change_from_baseline    float64\n",
              "Unemployment.claims.1000.people                       float64\n",
              "growth_code                                              int8\n",
              "Date                                                  float64\n",
              "New cases/100k                                        float64\n",
              "dtype: object"
            ]
          },
          "metadata": {
            "tags": []
          },
          "execution_count": 93
        }
      ]
    },
    {
      "cell_type": "markdown",
      "metadata": {
        "id": "cqY_CG9q6_xU"
      },
      "source": [
        "## Preprocessing data for LSTM"
      ]
    },
    {
      "cell_type": "code",
      "metadata": {
        "id": "gzYzRxwa6_xV"
      },
      "source": [
        "LA_combined_data_all_selected = LA_combined_data_all[X_cols_all]\n",
        "LA_combined_data_featured_selected = LA_combined_data_featured[X_cols_feature_selected]"
      ],
      "execution_count": null,
      "outputs": []
    },
    {
      "cell_type": "code",
      "metadata": {
        "id": "g8U2n2d46_xV"
      },
      "source": [
        "\n",
        "# prepare data for lstm\n",
        "from pandas import read_csv\n",
        "from pandas import DataFrame\n",
        "from pandas import concat\n",
        "from sklearn.preprocessing import LabelEncoder\n",
        "from sklearn.preprocessing import MinMaxScaler\n",
        " \n",
        "# convert series to supervised learning\n",
        "def series_to_supervised(data, n_in=1, n_out=1, dropnan=True):\n",
        "\tn_vars = 1 if type(data) is list else data.shape[1]\n",
        "\tdf = DataFrame(data)\n",
        "\tcols, names = list(), list()\n",
        "\t# input sequence (t-n, ... t-1)\n",
        "\tfor i in range(n_in, 0, -1):\n",
        "\t\tcols.append(df.shift(i))\n",
        "\t\tnames += [('var%d(t-%d)' % (j+1, i)) for j in range(n_vars)]\n",
        "\t# forecast sequence (t, t+1, ... t+n)\n",
        "\tfor i in range(0, n_out):\n",
        "\t\tcols.append(df.shift(-i))\n",
        "\t\tif i == 0:\n",
        "\t\t\tnames += [('var%d(t)' % (j+1)) for j in range(n_vars)]\n",
        "\t\telse:\n",
        "\t\t\tnames += [('var%d(t+%d)' % (j+1, i)) for j in range(n_vars)]\n",
        "\t# put it all together\n",
        "\tagg = concat(cols, axis=1)\n",
        "\tagg.columns = names\n",
        "\t# drop rows with NaN values\n",
        "\tif dropnan:\n",
        "\t\tagg.dropna(inplace=True)\n",
        "\treturn agg"
      ],
      "execution_count": null,
      "outputs": []
    },
    {
      "cell_type": "markdown",
      "metadata": {
        "id": "S6o4t2h46_xV"
      },
      "source": [
        "## All values for CA training data"
      ]
    },
    {
      "cell_type": "code",
      "metadata": {
        "colab": {
          "base_uri": "https://localhost:8080/"
        },
        "id": "hl_DRUQl6_xW",
        "outputId": "b0e50226-78a9-4bbe-8a4e-c0c83f04d3d3"
      },
      "source": [
        "values = LA_combined_data_all_selected.values\n",
        "# integer encode direction\n",
        "encoder = LabelEncoder()\n",
        "values[:,len(X_cols_all)-1] = encoder.fit_transform(values[:,len(X_cols_all)-1])\n",
        "# ensure all data is float\n",
        "values = values.astype('float32')\n",
        "# normalize features\n",
        "scaler = MinMaxScaler(feature_range=(0, 1))\n",
        "scaled = scaler.fit_transform(values)\n",
        "# frame as supervised learning\n",
        "reframed = series_to_supervised(scaled, 1, 1)\n",
        "# drop columns we don't want to predict\n",
        "#reframed.drop(reframed.columns[[9,10,11,12,13,14,15]], axis=1, inplace=True)\n",
        "print(reframed.head())"
      ],
      "execution_count": null,
      "outputs": [
        {
          "output_type": "stream",
          "text": [
            "   var1(t-1)  var2(t-1)  var3(t-1)  ...  var48(t)  var49(t)  var50(t)\n",
            "1     0.0000     0.0000     0.5405  ...    0.0000    0.0033    0.0000\n",
            "2     0.0000     0.0000     0.8829  ...    0.0000    0.0066    0.0000\n",
            "3     0.0000     0.0000     0.8919  ...    0.0000    0.0099    0.0186\n",
            "4     0.0000     0.0000     0.9009  ...    0.0000    0.0132    0.0112\n",
            "5     0.0000     0.0000     0.9550  ...    0.0000    0.0166    0.0074\n",
            "\n",
            "[5 rows x 100 columns]\n"
          ],
          "name": "stdout"
        }
      ]
    },
    {
      "cell_type": "markdown",
      "metadata": {
        "id": "jZyCFtiv6_xW"
      },
      "source": [
        "## Train Test Split"
      ]
    },
    {
      "cell_type": "code",
      "metadata": {
        "colab": {
          "base_uri": "https://localhost:8080/"
        },
        "id": "FuxMZ6HE6_xW",
        "outputId": "f1c674b1-3429-4f1a-b776-0ad7164c5166"
      },
      "source": [
        "values.shape[0]"
      ],
      "execution_count": null,
      "outputs": [
        {
          "output_type": "execute_result",
          "data": {
            "text/plain": [
              "292"
            ]
          },
          "metadata": {
            "tags": []
          },
          "execution_count": 97
        }
      ]
    },
    {
      "cell_type": "code",
      "metadata": {
        "colab": {
          "base_uri": "https://localhost:8080/"
        },
        "id": "TUwZsLT-6_xW",
        "outputId": "16bca569-ed5d-48ca-ea4a-a4f631ff7f63"
      },
      "source": [
        "\n",
        "# split into train and test sets\n",
        "values = reframed.values\n",
        "rows_count = values.shape[0]\n",
        "# split the 1/5 value\n",
        "train_split = rows_count//5\n",
        "\n",
        "n_train_hours = train_split * 4\n",
        "\n",
        "print(n_train_hours)\n",
        "print('values shape ',values.shape)\n",
        "train = values[:n_train_hours, :]\n",
        "test = values[n_train_hours:, :]\n",
        "# split into input and outputs\n",
        "train_X, train_y = train[:, :-1], train[:, -1]\n",
        "test_X, test_y = test[:, :-1], test[:, -1]\n",
        "# reshape input to be 3D [samples, timesteps, features]\n",
        "train_X = train_X.reshape((train_X.shape[0], 1, train_X.shape[1]))\n",
        "test_X = test_X.reshape((test_X.shape[0], 1, test_X.shape[1]))\n",
        "print(train_X.shape, train_y.shape, test_X.shape, test_y.shape)"
      ],
      "execution_count": null,
      "outputs": [
        {
          "output_type": "stream",
          "text": [
            "232\n",
            "values shape  (291, 100)\n",
            "(232, 1, 99) (232,) (59, 1, 99) (59,)\n"
          ],
          "name": "stdout"
        }
      ]
    },
    {
      "cell_type": "markdown",
      "metadata": {
        "id": "H6ZFKSMj6_xX"
      },
      "source": [
        "## Training LSTM"
      ]
    },
    {
      "cell_type": "code",
      "metadata": {
        "colab": {
          "base_uri": "https://localhost:8080/",
          "height": 1000
        },
        "id": "bq3oSuI46_xX",
        "outputId": "911583ae-ab40-4d40-c79d-58a2c0ec9fc2"
      },
      "source": [
        "...\n",
        "# design network\n",
        "model = Sequential()\n",
        "model.add(LSTM(50, input_shape=(train_X.shape[1], train_X.shape[2])))\n",
        "model.add(Dense(1))\n",
        "model.compile(loss='mae', optimizer='adam')\n",
        "# fit network\n",
        "history = model.fit(train_X, train_y, epochs=100, batch_size=72, validation_data=(test_X, test_y), verbose=2, shuffle=False)\n",
        "# plot history\n",
        "plt.plot(history.history['loss'], label='train')\n",
        "plt.plot(history.history['val_loss'], label='test')\n",
        "plt.legend()\n",
        "plt.show()"
      ],
      "execution_count": null,
      "outputs": [
        {
          "output_type": "stream",
          "text": [
            "Epoch 1/100\n",
            "4/4 - 2s - loss: 0.3065 - val_loss: 0.4339\n",
            "Epoch 2/100\n",
            "4/4 - 0s - loss: 0.1990 - val_loss: 0.2569\n",
            "Epoch 3/100\n",
            "4/4 - 0s - loss: 0.1907 - val_loss: 0.1878\n",
            "Epoch 4/100\n",
            "4/4 - 0s - loss: 0.1902 - val_loss: 0.1952\n",
            "Epoch 5/100\n",
            "4/4 - 0s - loss: 0.1781 - val_loss: 0.2341\n",
            "Epoch 6/100\n",
            "4/4 - 0s - loss: 0.1699 - val_loss: 0.2726\n",
            "Epoch 7/100\n",
            "4/4 - 0s - loss: 0.1677 - val_loss: 0.2837\n",
            "Epoch 8/100\n",
            "4/4 - 0s - loss: 0.1627 - val_loss: 0.2652\n",
            "Epoch 9/100\n",
            "4/4 - 0s - loss: 0.1523 - val_loss: 0.2251\n",
            "Epoch 10/100\n",
            "4/4 - 0s - loss: 0.1408 - val_loss: 0.1803\n",
            "Epoch 11/100\n",
            "4/4 - 0s - loss: 0.1313 - val_loss: 0.1607\n",
            "Epoch 12/100\n",
            "4/4 - 0s - loss: 0.1244 - val_loss: 0.1556\n",
            "Epoch 13/100\n",
            "4/4 - 0s - loss: 0.1180 - val_loss: 0.1608\n",
            "Epoch 14/100\n",
            "4/4 - 0s - loss: 0.1131 - val_loss: 0.1696\n",
            "Epoch 15/100\n",
            "4/4 - 0s - loss: 0.1106 - val_loss: 0.1756\n",
            "Epoch 16/100\n",
            "4/4 - 0s - loss: 0.1077 - val_loss: 0.1786\n",
            "Epoch 17/100\n",
            "4/4 - 0s - loss: 0.1043 - val_loss: 0.1835\n",
            "Epoch 18/100\n",
            "4/4 - 0s - loss: 0.1020 - val_loss: 0.1903\n",
            "Epoch 19/100\n",
            "4/4 - 0s - loss: 0.1007 - val_loss: 0.1920\n",
            "Epoch 20/100\n",
            "4/4 - 0s - loss: 0.0995 - val_loss: 0.1920\n",
            "Epoch 21/100\n",
            "4/4 - 0s - loss: 0.0987 - val_loss: 0.1942\n",
            "Epoch 22/100\n",
            "4/4 - 0s - loss: 0.0977 - val_loss: 0.1936\n",
            "Epoch 23/100\n",
            "4/4 - 0s - loss: 0.0973 - val_loss: 0.1896\n",
            "Epoch 24/100\n",
            "4/4 - 0s - loss: 0.0967 - val_loss: 0.1899\n",
            "Epoch 25/100\n",
            "4/4 - 0s - loss: 0.0960 - val_loss: 0.1880\n",
            "Epoch 26/100\n",
            "4/4 - 0s - loss: 0.0959 - val_loss: 0.1873\n",
            "Epoch 27/100\n",
            "4/4 - 0s - loss: 0.0953 - val_loss: 0.1867\n",
            "Epoch 28/100\n",
            "4/4 - 0s - loss: 0.0951 - val_loss: 0.1854\n",
            "Epoch 29/100\n",
            "4/4 - 0s - loss: 0.0947 - val_loss: 0.1873\n",
            "Epoch 30/100\n",
            "4/4 - 0s - loss: 0.0947 - val_loss: 0.1846\n",
            "Epoch 31/100\n",
            "4/4 - 0s - loss: 0.0943 - val_loss: 0.1864\n",
            "Epoch 32/100\n",
            "4/4 - 0s - loss: 0.0942 - val_loss: 0.1843\n",
            "Epoch 33/100\n",
            "4/4 - 0s - loss: 0.0936 - val_loss: 0.1847\n",
            "Epoch 34/100\n",
            "4/4 - 0s - loss: 0.0936 - val_loss: 0.1835\n",
            "Epoch 35/100\n",
            "4/4 - 0s - loss: 0.0933 - val_loss: 0.1845\n",
            "Epoch 36/100\n",
            "4/4 - 0s - loss: 0.0934 - val_loss: 0.1802\n",
            "Epoch 37/100\n",
            "4/4 - 0s - loss: 0.0927 - val_loss: 0.1836\n",
            "Epoch 38/100\n",
            "4/4 - 0s - loss: 0.0927 - val_loss: 0.1807\n",
            "Epoch 39/100\n",
            "4/4 - 0s - loss: 0.0923 - val_loss: 0.1817\n",
            "Epoch 40/100\n",
            "4/4 - 0s - loss: 0.0920 - val_loss: 0.1811\n",
            "Epoch 41/100\n",
            "4/4 - 0s - loss: 0.0926 - val_loss: 0.1794\n",
            "Epoch 42/100\n",
            "4/4 - 0s - loss: 0.0916 - val_loss: 0.1809\n",
            "Epoch 43/100\n",
            "4/4 - 0s - loss: 0.0924 - val_loss: 0.1747\n",
            "Epoch 44/100\n",
            "4/4 - 0s - loss: 0.0915 - val_loss: 0.1809\n",
            "Epoch 45/100\n",
            "4/4 - 0s - loss: 0.0913 - val_loss: 0.1773\n",
            "Epoch 46/100\n",
            "4/4 - 0s - loss: 0.0916 - val_loss: 0.1749\n",
            "Epoch 47/100\n",
            "4/4 - 0s - loss: 0.0908 - val_loss: 0.1780\n",
            "Epoch 48/100\n",
            "4/4 - 0s - loss: 0.0912 - val_loss: 0.1736\n",
            "Epoch 49/100\n",
            "4/4 - 0s - loss: 0.0903 - val_loss: 0.1801\n",
            "Epoch 50/100\n",
            "4/4 - 0s - loss: 0.0906 - val_loss: 0.1759\n",
            "Epoch 51/100\n",
            "4/4 - 0s - loss: 0.0913 - val_loss: 0.1736\n",
            "Epoch 52/100\n",
            "4/4 - 0s - loss: 0.0899 - val_loss: 0.1790\n",
            "Epoch 53/100\n",
            "4/4 - 0s - loss: 0.0904 - val_loss: 0.1723\n",
            "Epoch 54/100\n",
            "4/4 - 0s - loss: 0.0896 - val_loss: 0.1771\n",
            "Epoch 55/100\n",
            "4/4 - 0s - loss: 0.0892 - val_loss: 0.1753\n",
            "Epoch 56/100\n",
            "4/4 - 0s - loss: 0.0900 - val_loss: 0.1737\n",
            "Epoch 57/100\n",
            "4/4 - 0s - loss: 0.0887 - val_loss: 0.1790\n",
            "Epoch 58/100\n",
            "4/4 - 0s - loss: 0.0891 - val_loss: 0.1768\n",
            "Epoch 59/100\n",
            "4/4 - 0s - loss: 0.0885 - val_loss: 0.1752\n",
            "Epoch 60/100\n",
            "4/4 - 0s - loss: 0.0896 - val_loss: 0.1765\n",
            "Epoch 61/100\n",
            "4/4 - 0s - loss: 0.0885 - val_loss: 0.1770\n",
            "Epoch 62/100\n",
            "4/4 - 0s - loss: 0.0895 - val_loss: 0.1723\n",
            "Epoch 63/100\n",
            "4/4 - 0s - loss: 0.0882 - val_loss: 0.1785\n",
            "Epoch 64/100\n",
            "4/4 - 0s - loss: 0.0886 - val_loss: 0.1723\n",
            "Epoch 65/100\n",
            "4/4 - 0s - loss: 0.0880 - val_loss: 0.1792\n",
            "Epoch 66/100\n",
            "4/4 - 0s - loss: 0.0883 - val_loss: 0.1725\n",
            "Epoch 67/100\n",
            "4/4 - 0s - loss: 0.0878 - val_loss: 0.1812\n",
            "Epoch 68/100\n",
            "4/4 - 0s - loss: 0.0878 - val_loss: 0.1760\n",
            "Epoch 69/100\n",
            "4/4 - 0s - loss: 0.0896 - val_loss: 0.1794\n",
            "Epoch 70/100\n",
            "4/4 - 0s - loss: 0.0882 - val_loss: 0.1830\n",
            "Epoch 71/100\n",
            "4/4 - 0s - loss: 0.0880 - val_loss: 0.1757\n",
            "Epoch 72/100\n",
            "4/4 - 0s - loss: 0.0874 - val_loss: 0.1837\n",
            "Epoch 73/100\n",
            "4/4 - 0s - loss: 0.0873 - val_loss: 0.1785\n",
            "Epoch 74/100\n",
            "4/4 - 0s - loss: 0.0867 - val_loss: 0.1845\n",
            "Epoch 75/100\n",
            "4/4 - 0s - loss: 0.0868 - val_loss: 0.1820\n",
            "Epoch 76/100\n",
            "4/4 - 0s - loss: 0.0862 - val_loss: 0.1838\n",
            "Epoch 77/100\n",
            "4/4 - 0s - loss: 0.0868 - val_loss: 0.1823\n",
            "Epoch 78/100\n",
            "4/4 - 0s - loss: 0.0865 - val_loss: 0.1867\n",
            "Epoch 79/100\n",
            "4/4 - 0s - loss: 0.0867 - val_loss: 0.1813\n",
            "Epoch 80/100\n",
            "4/4 - 0s - loss: 0.0870 - val_loss: 0.1890\n",
            "Epoch 81/100\n",
            "4/4 - 0s - loss: 0.0857 - val_loss: 0.1851\n",
            "Epoch 82/100\n",
            "4/4 - 0s - loss: 0.0855 - val_loss: 0.1882\n",
            "Epoch 83/100\n",
            "4/4 - 0s - loss: 0.0859 - val_loss: 0.1881\n",
            "Epoch 84/100\n",
            "4/4 - 0s - loss: 0.0855 - val_loss: 0.1876\n",
            "Epoch 85/100\n",
            "4/4 - 0s - loss: 0.0859 - val_loss: 0.1889\n",
            "Epoch 86/100\n",
            "4/4 - 0s - loss: 0.0859 - val_loss: 0.1886\n",
            "Epoch 87/100\n",
            "4/4 - 0s - loss: 0.0867 - val_loss: 0.1887\n",
            "Epoch 88/100\n",
            "4/4 - 0s - loss: 0.0857 - val_loss: 0.1907\n",
            "Epoch 89/100\n",
            "4/4 - 0s - loss: 0.0859 - val_loss: 0.1882\n",
            "Epoch 90/100\n",
            "4/4 - 0s - loss: 0.0854 - val_loss: 0.1942\n",
            "Epoch 91/100\n",
            "4/4 - 0s - loss: 0.0863 - val_loss: 0.1881\n",
            "Epoch 92/100\n",
            "4/4 - 0s - loss: 0.0853 - val_loss: 0.1958\n",
            "Epoch 93/100\n",
            "4/4 - 0s - loss: 0.0858 - val_loss: 0.1888\n",
            "Epoch 94/100\n",
            "4/4 - 0s - loss: 0.0853 - val_loss: 0.1950\n",
            "Epoch 95/100\n",
            "4/4 - 0s - loss: 0.0856 - val_loss: 0.1914\n",
            "Epoch 96/100\n",
            "4/4 - 0s - loss: 0.0853 - val_loss: 0.1956\n",
            "Epoch 97/100\n",
            "4/4 - 0s - loss: 0.0849 - val_loss: 0.1937\n",
            "Epoch 98/100\n",
            "4/4 - 0s - loss: 0.0848 - val_loss: 0.1966\n",
            "Epoch 99/100\n",
            "4/4 - 0s - loss: 0.0861 - val_loss: 0.1956\n",
            "Epoch 100/100\n",
            "4/4 - 0s - loss: 0.0849 - val_loss: 0.1984\n"
          ],
          "name": "stdout"
        },
        {
          "output_type": "display_data",
          "data": {
            "image/png": "[encoded data removed]",
            "text/plain": [
              "<Figure size 432x288 with 1 Axes>"
            ]
          },
          "metadata": {
            "tags": [],
            "needs_background": "light"
          }
        }
      ]
    },
    {
      "cell_type": "code",
      "metadata": {
        "colab": {
          "base_uri": "https://localhost:8080/",
          "height": 270
        },
        "id": "GCDZqGI_6_xX",
        "outputId": "f9bd0283-134b-4d40-e34a-476172a8e53c"
      },
      "source": [
        "# plot history\r\n",
        "plt.plot(history.history['loss'], label='train')\r\n",
        "plt.plot(history.history['val_loss'], label='test')\r\n",
        "plt.legend()\r\n",
        "plt.show()"
      ],
      "execution_count": null,
      "outputs": [
        {
          "output_type": "display_data",
          "data": {
            "image/png": "[encoded data removed]",
            "text/plain": [
              "<Figure size 432x288 with 1 Axes>"
            ]
          },
          "metadata": {
            "tags": [],
            "needs_background": "light"
          }
        }
      ]
    },
    {
      "cell_type": "markdown",
      "metadata": {
        "id": "xegv4K666_xX"
      },
      "source": [
        "## Test"
      ]
    },
    {
      "cell_type": "code",
      "metadata": {
        "colab": {
          "base_uri": "https://localhost:8080/"
        },
        "id": "kXkymXJ86_xY",
        "outputId": "3e55d0df-dc24-416f-a503-565e54fc4b9d"
      },
      "source": [
        "import math\n",
        "\n",
        "# make a prediction\n",
        "yhat = model.predict(test_X)\n",
        "test_X1 = test_X.reshape((test_X.shape[0], test_X.shape[2]))\n",
        "# invert scaling for forecast\n",
        "inv_yhat = concatenate((yhat, test_X1[:, 1:]), axis=1)\n",
        "print(inv_yhat.shape)\n",
        "#inv_yhat = scaler.inverse_transform(inv_yhat)\n",
        "inv_yhat = inv_yhat[:,0]\n",
        "# invert scaling for actual\n",
        "test_y = test_y.reshape((len(test_y), 1))\n",
        "inv_y = concatenate((test_y, test_X1[:, 1:]), axis=1)\n",
        "#inv_y = scaler.inverse_transform(inv_y)\n",
        "inv_y = inv_y[:,0]\n",
        "# calculate RMSE\n",
        "mse = mean_squared_error(inv_y, inv_yhat)\n",
        "print('Test MSE: %.3f' % mse)\n",
        "rmse = math.sqrt(mean_squared_error(inv_y, inv_yhat))\n",
        "print('Test RMSE: %.3f' % rmse)\n",
        "\n",
        "print('median_absolute_error', median_absolute_error(inv_y, inv_yhat))\n",
        "print('mean_absolute_error', mean_absolute_error(inv_y, inv_yhat))"
      ],
      "execution_count": null,
      "outputs": [
        {
          "output_type": "stream",
          "text": [
            "WARNING:tensorflow:6 out of the last 11 calls to <function Model.make_predict_function.<locals>.predict_function at 0x7f1f4dc3f9d8> triggered tf.function retracing. Tracing is expensive and the excessive number of tracings could be due to (1) creating @tf.function repeatedly in a loop, (2) passing tensors with different shapes, (3) passing Python objects instead of tensors. For (1), please define your @tf.function outside of the loop. For (2), @tf.function has experimental_relax_shapes=True option that relaxes argument shapes that can avoid unnecessary retracing. For (3), please refer to https://www.tensorflow.org/guide/function#controlling_retracing and https://www.tensorflow.org/api_docs/python/tf/function for  more details.\n",
            "(59, 99)\n",
            "Test MSE: 0.065\n",
            "Test RMSE: 0.254\n",
            "median_absolute_error 0.16524887\n",
            "mean_absolute_error 0.1984019\n"
          ],
          "name": "stdout"
        }
      ]
    },
    {
      "cell_type": "markdown",
      "metadata": {
        "id": "Fham7EYy6_xY"
      },
      "source": [
        "## Preprocessing feature selected data for training"
      ]
    },
    {
      "cell_type": "code",
      "metadata": {
        "colab": {
          "base_uri": "https://localhost:8080/"
        },
        "id": "CzpqhXUb6_xY",
        "outputId": "b04abcbd-dba3-41e2-8172-014e88151cd2"
      },
      "source": [
        "len(LA_combined_data_featured_selected.columns)"
      ],
      "execution_count": null,
      "outputs": [
        {
          "output_type": "execute_result",
          "data": {
            "text/plain": [
              "25"
            ]
          },
          "metadata": {
            "tags": []
          },
          "execution_count": 102
        }
      ]
    },
    {
      "cell_type": "code",
      "metadata": {
        "colab": {
          "base_uri": "https://localhost:8080/"
        },
        "id": "sqNRDBAA6_xY",
        "outputId": "6d31d371-4019-4b0c-dfd3-bd2c32bc7acd"
      },
      "source": [
        "values = LA_combined_data_featured_selected.values\n",
        "# integer encode direction\n",
        "encoder = LabelEncoder()\n",
        "values[:,len(X_cols_feature_selected)-1] = encoder.fit_transform(values[:,len(X_cols_feature_selected)-1])\n",
        "# ensure all data is float\n",
        "values = values.astype('float32')\n",
        "# normalize features\n",
        "scaler = MinMaxScaler(feature_range=(0, 1))\n",
        "scaled = scaler.fit_transform(values)\n",
        "# frame as supervised learning\n",
        "reframed = series_to_supervised(scaled, 1, 1)\n",
        "# drop columns we don't want to predict\n",
        "#reframed.drop(reframed.columns[[9,10,11,12,13,14,15]], axis=1, inplace=True)\n",
        "print(reframed.head())"
      ],
      "execution_count": null,
      "outputs": [
        {
          "output_type": "stream",
          "text": [
            "   var1(t-1)  var2(t-1)  var3(t-1)  ...  var23(t)  var24(t)  var25(t)\n",
            "1     0.0000     0.2353     0.0000  ...    0.0000    0.0033    0.0000\n",
            "2     0.0000     0.0294     0.0000  ...    0.0000    0.0066    0.0000\n",
            "3     0.0000     0.0000     0.0000  ...    0.0000    0.0099    0.0186\n",
            "4     0.0000     0.0000     0.0000  ...    0.0000    0.0132    0.0112\n",
            "5     0.0000     0.0000     0.0000  ...    0.0000    0.0166    0.0074\n",
            "\n",
            "[5 rows x 50 columns]\n"
          ],
          "name": "stdout"
        }
      ]
    },
    {
      "cell_type": "markdown",
      "metadata": {
        "id": "twqNoA6S6_xZ"
      },
      "source": [
        "### Train Test split"
      ]
    },
    {
      "cell_type": "code",
      "metadata": {
        "colab": {
          "base_uri": "https://localhost:8080/"
        },
        "id": "t8eo4JXl6_xZ",
        "outputId": "ae6204ed-3868-403f-fd42-5fc2bc8db309"
      },
      "source": [
        "\n",
        "# split into train and test sets\n",
        "values = reframed.values\n",
        "rows_count = values.shape[0]\n",
        "# split the 1/5 value\n",
        "train_split = rows_count//5\n",
        "\n",
        "n_train_hours = train_split * 4\n",
        "\n",
        "print(n_train_hours)\n",
        "print('values shape ',values.shape)\n",
        "train = values[:n_train_hours, :]\n",
        "test = values[n_train_hours:, :]\n",
        "# split into input and outputs\n",
        "train_X, train_y = train[:, :-1], train[:, -1]\n",
        "test_X, test_y = test[:, :-1], test[:, -1]\n",
        "# reshape input to be 3D [samples, timesteps, features]\n",
        "train_X = train_X.reshape((train_X.shape[0], 1, train_X.shape[1]))\n",
        "test_X = test_X.reshape((test_X.shape[0], 1, test_X.shape[1]))\n",
        "print(train_X.shape, train_y.shape, test_X.shape, test_y.shape)"
      ],
      "execution_count": null,
      "outputs": [
        {
          "output_type": "stream",
          "text": [
            "232\n",
            "values shape  (291, 50)\n",
            "(232, 1, 49) (232,) (59, 1, 49) (59,)\n"
          ],
          "name": "stdout"
        }
      ]
    },
    {
      "cell_type": "markdown",
      "metadata": {
        "id": "j4Ki6miE6_xZ"
      },
      "source": [
        "### Training LSTM for feature selected data"
      ]
    },
    {
      "cell_type": "code",
      "metadata": {
        "colab": {
          "base_uri": "https://localhost:8080/"
        },
        "id": "A6zMGiSg6_xZ",
        "outputId": "8dc83488-2f48-4fbc-c2fa-6a522e7628a6"
      },
      "source": [
        "...\n",
        "# design network\n",
        "model = Sequential()\n",
        "model.add(LSTM(50, input_shape=(train_X.shape[1], train_X.shape[2])))\n",
        "model.add(Dense(1))\n",
        "model.compile(loss='mae', optimizer='adam')\n",
        "# fit network\n",
        "history = model.fit(train_X, train_y, epochs=200, batch_size=72, validation_data=(test_X, test_y), verbose=2, shuffle=False)\n"
      ],
      "execution_count": null,
      "outputs": [
        {
          "output_type": "stream",
          "text": [
            "Epoch 1/200\n",
            "4/4 - 2s - loss: 0.3100 - val_loss: 0.5732\n",
            "Epoch 2/200\n",
            "4/4 - 0s - loss: 0.2249 - val_loss: 0.4433\n",
            "Epoch 3/200\n",
            "4/4 - 0s - loss: 0.1913 - val_loss: 0.3485\n",
            "Epoch 4/200\n",
            "4/4 - 0s - loss: 0.1848 - val_loss: 0.2968\n",
            "Epoch 5/200\n",
            "4/4 - 0s - loss: 0.1834 - val_loss: 0.2861\n",
            "Epoch 6/200\n",
            "4/4 - 0s - loss: 0.1779 - val_loss: 0.3006\n",
            "Epoch 7/200\n",
            "4/4 - 0s - loss: 0.1714 - val_loss: 0.3174\n",
            "Epoch 8/200\n",
            "4/4 - 0s - loss: 0.1660 - val_loss: 0.3297\n",
            "Epoch 9/200\n",
            "4/4 - 0s - loss: 0.1617 - val_loss: 0.3324\n",
            "Epoch 10/200\n",
            "4/4 - 0s - loss: 0.1569 - val_loss: 0.3259\n",
            "Epoch 11/200\n",
            "4/4 - 0s - loss: 0.1513 - val_loss: 0.3131\n",
            "Epoch 12/200\n",
            "4/4 - 0s - loss: 0.1456 - val_loss: 0.2964\n",
            "Epoch 13/200\n",
            "4/4 - 0s - loss: 0.1398 - val_loss: 0.2757\n",
            "Epoch 14/200\n",
            "4/4 - 0s - loss: 0.1336 - val_loss: 0.2524\n",
            "Epoch 15/200\n",
            "4/4 - 0s - loss: 0.1274 - val_loss: 0.2306\n",
            "Epoch 16/200\n",
            "4/4 - 0s - loss: 0.1225 - val_loss: 0.2143\n",
            "Epoch 17/200\n",
            "4/4 - 0s - loss: 0.1180 - val_loss: 0.2037\n",
            "Epoch 18/200\n",
            "4/4 - 0s - loss: 0.1140 - val_loss: 0.1979\n",
            "Epoch 19/200\n",
            "4/4 - 0s - loss: 0.1105 - val_loss: 0.1922\n",
            "Epoch 20/200\n",
            "4/4 - 0s - loss: 0.1083 - val_loss: 0.1845\n",
            "Epoch 21/200\n",
            "4/4 - 0s - loss: 0.1061 - val_loss: 0.1745\n",
            "Epoch 22/200\n",
            "4/4 - 0s - loss: 0.1043 - val_loss: 0.1657\n",
            "Epoch 23/200\n",
            "4/4 - 0s - loss: 0.1026 - val_loss: 0.1650\n",
            "Epoch 24/200\n",
            "4/4 - 0s - loss: 0.1016 - val_loss: 0.1661\n",
            "Epoch 25/200\n",
            "4/4 - 0s - loss: 0.1008 - val_loss: 0.1629\n",
            "Epoch 26/200\n",
            "4/4 - 0s - loss: 0.0999 - val_loss: 0.1582\n",
            "Epoch 27/200\n",
            "4/4 - 0s - loss: 0.0994 - val_loss: 0.1561\n",
            "Epoch 28/200\n",
            "4/4 - 0s - loss: 0.0990 - val_loss: 0.1573\n",
            "Epoch 29/200\n",
            "4/4 - 0s - loss: 0.0986 - val_loss: 0.1560\n",
            "Epoch 30/200\n",
            "4/4 - 0s - loss: 0.0982 - val_loss: 0.1522\n",
            "Epoch 31/200\n",
            "4/4 - 0s - loss: 0.0980 - val_loss: 0.1508\n",
            "Epoch 32/200\n",
            "4/4 - 0s - loss: 0.0977 - val_loss: 0.1537\n",
            "Epoch 33/200\n",
            "4/4 - 0s - loss: 0.0975 - val_loss: 0.1526\n",
            "Epoch 34/200\n",
            "4/4 - 0s - loss: 0.0972 - val_loss: 0.1479\n",
            "Epoch 35/200\n",
            "4/4 - 0s - loss: 0.0970 - val_loss: 0.1503\n",
            "Epoch 36/200\n",
            "4/4 - 0s - loss: 0.0967 - val_loss: 0.1503\n",
            "Epoch 37/200\n",
            "4/4 - 0s - loss: 0.0965 - val_loss: 0.1483\n",
            "Epoch 38/200\n",
            "4/4 - 0s - loss: 0.0963 - val_loss: 0.1503\n",
            "Epoch 39/200\n",
            "4/4 - 0s - loss: 0.0961 - val_loss: 0.1490\n",
            "Epoch 40/200\n",
            "4/4 - 0s - loss: 0.0959 - val_loss: 0.1492\n",
            "Epoch 41/200\n",
            "4/4 - 0s - loss: 0.0957 - val_loss: 0.1471\n",
            "Epoch 42/200\n",
            "4/4 - 0s - loss: 0.0957 - val_loss: 0.1470\n",
            "Epoch 43/200\n",
            "4/4 - 0s - loss: 0.0955 - val_loss: 0.1514\n",
            "Epoch 44/200\n",
            "4/4 - 0s - loss: 0.0953 - val_loss: 0.1445\n",
            "Epoch 45/200\n",
            "4/4 - 0s - loss: 0.0952 - val_loss: 0.1477\n",
            "Epoch 46/200\n",
            "4/4 - 0s - loss: 0.0952 - val_loss: 0.1506\n",
            "Epoch 47/200\n",
            "4/4 - 0s - loss: 0.0950 - val_loss: 0.1435\n",
            "Epoch 48/200\n",
            "4/4 - 0s - loss: 0.0947 - val_loss: 0.1492\n",
            "Epoch 49/200\n",
            "4/4 - 0s - loss: 0.0946 - val_loss: 0.1484\n",
            "Epoch 50/200\n",
            "4/4 - 0s - loss: 0.0945 - val_loss: 0.1468\n",
            "Epoch 51/200\n",
            "4/4 - 0s - loss: 0.0943 - val_loss: 0.1486\n",
            "Epoch 52/200\n",
            "4/4 - 0s - loss: 0.0945 - val_loss: 0.1450\n",
            "Epoch 53/200\n",
            "4/4 - 0s - loss: 0.0940 - val_loss: 0.1515\n",
            "Epoch 54/200\n",
            "4/4 - 0s - loss: 0.0940 - val_loss: 0.1472\n",
            "Epoch 55/200\n",
            "4/4 - 0s - loss: 0.0938 - val_loss: 0.1470\n",
            "Epoch 56/200\n",
            "4/4 - 0s - loss: 0.0937 - val_loss: 0.1459\n",
            "Epoch 57/200\n",
            "4/4 - 0s - loss: 0.0939 - val_loss: 0.1443\n",
            "Epoch 58/200\n",
            "4/4 - 0s - loss: 0.0935 - val_loss: 0.1458\n",
            "Epoch 59/200\n",
            "4/4 - 0s - loss: 0.0938 - val_loss: 0.1421\n",
            "Epoch 60/200\n",
            "4/4 - 0s - loss: 0.0933 - val_loss: 0.1473\n",
            "Epoch 61/200\n",
            "4/4 - 0s - loss: 0.0934 - val_loss: 0.1427\n",
            "Epoch 62/200\n",
            "4/4 - 0s - loss: 0.0930 - val_loss: 0.1490\n",
            "Epoch 63/200\n",
            "4/4 - 0s - loss: 0.0931 - val_loss: 0.1473\n",
            "Epoch 64/200\n",
            "4/4 - 0s - loss: 0.0929 - val_loss: 0.1473\n",
            "Epoch 65/200\n",
            "4/4 - 0s - loss: 0.0928 - val_loss: 0.1443\n",
            "Epoch 66/200\n",
            "4/4 - 0s - loss: 0.0935 - val_loss: 0.1440\n",
            "Epoch 67/200\n",
            "4/4 - 0s - loss: 0.0927 - val_loss: 0.1442\n",
            "Epoch 68/200\n",
            "4/4 - 0s - loss: 0.0937 - val_loss: 0.1380\n",
            "Epoch 69/200\n",
            "4/4 - 0s - loss: 0.0924 - val_loss: 0.1513\n",
            "Epoch 70/200\n",
            "4/4 - 0s - loss: 0.0929 - val_loss: 0.1465\n",
            "Epoch 71/200\n",
            "4/4 - 0s - loss: 0.0924 - val_loss: 0.1469\n",
            "Epoch 72/200\n",
            "4/4 - 0s - loss: 0.0924 - val_loss: 0.1466\n",
            "Epoch 73/200\n",
            "4/4 - 0s - loss: 0.0926 - val_loss: 0.1432\n",
            "Epoch 74/200\n",
            "4/4 - 0s - loss: 0.0921 - val_loss: 0.1489\n",
            "Epoch 75/200\n",
            "4/4 - 0s - loss: 0.0923 - val_loss: 0.1443\n",
            "Epoch 76/200\n",
            "4/4 - 0s - loss: 0.0919 - val_loss: 0.1500\n",
            "Epoch 77/200\n",
            "4/4 - 0s - loss: 0.0918 - val_loss: 0.1468\n",
            "Epoch 78/200\n",
            "4/4 - 0s - loss: 0.0922 - val_loss: 0.1461\n",
            "Epoch 79/200\n",
            "4/4 - 0s - loss: 0.0916 - val_loss: 0.1490\n",
            "Epoch 80/200\n",
            "4/4 - 0s - loss: 0.0919 - val_loss: 0.1482\n",
            "Epoch 81/200\n",
            "4/4 - 0s - loss: 0.0916 - val_loss: 0.1480\n",
            "Epoch 82/200\n",
            "4/4 - 0s - loss: 0.0919 - val_loss: 0.1475\n",
            "Epoch 83/200\n",
            "4/4 - 0s - loss: 0.0916 - val_loss: 0.1469\n",
            "Epoch 84/200\n",
            "4/4 - 0s - loss: 0.0926 - val_loss: 0.1410\n",
            "Epoch 85/200\n",
            "4/4 - 0s - loss: 0.0913 - val_loss: 0.1522\n",
            "Epoch 86/200\n",
            "4/4 - 0s - loss: 0.0921 - val_loss: 0.1404\n",
            "Epoch 87/200\n",
            "4/4 - 0s - loss: 0.0915 - val_loss: 0.1516\n",
            "Epoch 88/200\n",
            "4/4 - 0s - loss: 0.0913 - val_loss: 0.1513\n",
            "Epoch 89/200\n",
            "4/4 - 0s - loss: 0.0910 - val_loss: 0.1524\n",
            "Epoch 90/200\n",
            "4/4 - 0s - loss: 0.0910 - val_loss: 0.1473\n",
            "Epoch 91/200\n",
            "4/4 - 0s - loss: 0.0914 - val_loss: 0.1489\n",
            "Epoch 92/200\n",
            "4/4 - 0s - loss: 0.0910 - val_loss: 0.1482\n",
            "Epoch 93/200\n",
            "4/4 - 0s - loss: 0.0917 - val_loss: 0.1465\n",
            "Epoch 94/200\n",
            "4/4 - 0s - loss: 0.0912 - val_loss: 0.1531\n",
            "Epoch 95/200\n",
            "4/4 - 0s - loss: 0.0916 - val_loss: 0.1389\n",
            "Epoch 96/200\n",
            "4/4 - 0s - loss: 0.0911 - val_loss: 0.1552\n",
            "Epoch 97/200\n",
            "4/4 - 0s - loss: 0.0918 - val_loss: 0.1441\n",
            "Epoch 98/200\n",
            "4/4 - 0s - loss: 0.0908 - val_loss: 0.1498\n",
            "Epoch 99/200\n",
            "4/4 - 0s - loss: 0.0907 - val_loss: 0.1504\n",
            "Epoch 100/200\n",
            "4/4 - 0s - loss: 0.0906 - val_loss: 0.1462\n",
            "Epoch 101/200\n",
            "4/4 - 0s - loss: 0.0906 - val_loss: 0.1518\n",
            "Epoch 102/200\n",
            "4/4 - 0s - loss: 0.0919 - val_loss: 0.1385\n",
            "Epoch 103/200\n",
            "4/4 - 0s - loss: 0.0908 - val_loss: 0.1530\n",
            "Epoch 104/200\n",
            "4/4 - 0s - loss: 0.0909 - val_loss: 0.1406\n",
            "Epoch 105/200\n",
            "4/4 - 0s - loss: 0.0906 - val_loss: 0.1530\n",
            "Epoch 106/200\n",
            "4/4 - 0s - loss: 0.0904 - val_loss: 0.1497\n",
            "Epoch 107/200\n",
            "4/4 - 0s - loss: 0.0903 - val_loss: 0.1482\n",
            "Epoch 108/200\n",
            "4/4 - 0s - loss: 0.0904 - val_loss: 0.1489\n",
            "Epoch 109/200\n",
            "4/4 - 0s - loss: 0.0901 - val_loss: 0.1475\n",
            "Epoch 110/200\n",
            "4/4 - 0s - loss: 0.0903 - val_loss: 0.1515\n",
            "Epoch 111/200\n",
            "4/4 - 0s - loss: 0.0903 - val_loss: 0.1514\n",
            "Epoch 112/200\n",
            "4/4 - 0s - loss: 0.0902 - val_loss: 0.1472\n",
            "Epoch 113/200\n",
            "4/4 - 0s - loss: 0.0903 - val_loss: 0.1546\n",
            "Epoch 114/200\n",
            "4/4 - 0s - loss: 0.0910 - val_loss: 0.1369\n",
            "Epoch 115/200\n",
            "4/4 - 0s - loss: 0.0905 - val_loss: 0.1527\n",
            "Epoch 116/200\n",
            "4/4 - 0s - loss: 0.0909 - val_loss: 0.1391\n",
            "Epoch 117/200\n",
            "4/4 - 0s - loss: 0.0899 - val_loss: 0.1531\n",
            "Epoch 118/200\n",
            "4/4 - 0s - loss: 0.0903 - val_loss: 0.1470\n",
            "Epoch 119/200\n",
            "4/4 - 0s - loss: 0.0898 - val_loss: 0.1483\n",
            "Epoch 120/200\n",
            "4/4 - 0s - loss: 0.0896 - val_loss: 0.1480\n",
            "Epoch 121/200\n",
            "4/4 - 0s - loss: 0.0894 - val_loss: 0.1451\n",
            "Epoch 122/200\n",
            "4/4 - 0s - loss: 0.0895 - val_loss: 0.1515\n",
            "Epoch 123/200\n",
            "4/4 - 0s - loss: 0.0898 - val_loss: 0.1526\n",
            "Epoch 124/200\n",
            "4/4 - 0s - loss: 0.0894 - val_loss: 0.1488\n",
            "Epoch 125/200\n",
            "4/4 - 0s - loss: 0.0896 - val_loss: 0.1501\n",
            "Epoch 126/200\n",
            "4/4 - 0s - loss: 0.0912 - val_loss: 0.1385\n",
            "Epoch 127/200\n",
            "4/4 - 0s - loss: 0.0892 - val_loss: 0.1529\n",
            "Epoch 128/200\n",
            "4/4 - 0s - loss: 0.0902 - val_loss: 0.1405\n",
            "Epoch 129/200\n",
            "4/4 - 0s - loss: 0.0899 - val_loss: 0.1518\n",
            "Epoch 130/200\n",
            "4/4 - 0s - loss: 0.0892 - val_loss: 0.1449\n",
            "Epoch 131/200\n",
            "4/4 - 0s - loss: 0.0888 - val_loss: 0.1535\n",
            "Epoch 132/200\n",
            "4/4 - 0s - loss: 0.0893 - val_loss: 0.1481\n",
            "Epoch 133/200\n",
            "4/4 - 0s - loss: 0.0897 - val_loss: 0.1560\n",
            "Epoch 134/200\n",
            "4/4 - 0s - loss: 0.0894 - val_loss: 0.1443\n",
            "Epoch 135/200\n",
            "4/4 - 0s - loss: 0.0891 - val_loss: 0.1522\n",
            "Epoch 136/200\n",
            "4/4 - 0s - loss: 0.0908 - val_loss: 0.1375\n",
            "Epoch 137/200\n",
            "4/4 - 0s - loss: 0.0890 - val_loss: 0.1545\n",
            "Epoch 138/200\n",
            "4/4 - 0s - loss: 0.0902 - val_loss: 0.1353\n",
            "Epoch 139/200\n",
            "4/4 - 0s - loss: 0.0902 - val_loss: 0.1603\n",
            "Epoch 140/200\n",
            "4/4 - 0s - loss: 0.0907 - val_loss: 0.1425\n",
            "Epoch 141/200\n",
            "4/4 - 0s - loss: 0.0908 - val_loss: 0.1442\n",
            "Epoch 142/200\n",
            "4/4 - 0s - loss: 0.0889 - val_loss: 0.1566\n",
            "Epoch 143/200\n",
            "4/4 - 0s - loss: 0.0898 - val_loss: 0.1381\n",
            "Epoch 144/200\n",
            "4/4 - 0s - loss: 0.0900 - val_loss: 0.1574\n",
            "Epoch 145/200\n",
            "4/4 - 0s - loss: 0.0893 - val_loss: 0.1407\n",
            "Epoch 146/200\n",
            "4/4 - 0s - loss: 0.0890 - val_loss: 0.1546\n",
            "Epoch 147/200\n",
            "4/4 - 0s - loss: 0.0892 - val_loss: 0.1436\n",
            "Epoch 148/200\n",
            "4/4 - 0s - loss: 0.0882 - val_loss: 0.1505\n",
            "Epoch 149/200\n",
            "4/4 - 0s - loss: 0.0885 - val_loss: 0.1475\n",
            "Epoch 150/200\n",
            "4/4 - 0s - loss: 0.0884 - val_loss: 0.1507\n",
            "Epoch 151/200\n",
            "4/4 - 0s - loss: 0.0888 - val_loss: 0.1429\n",
            "Epoch 152/200\n",
            "4/4 - 0s - loss: 0.0884 - val_loss: 0.1559\n",
            "Epoch 153/200\n",
            "4/4 - 0s - loss: 0.0893 - val_loss: 0.1398\n",
            "Epoch 154/200\n",
            "4/4 - 0s - loss: 0.0884 - val_loss: 0.1525\n",
            "Epoch 155/200\n",
            "4/4 - 0s - loss: 0.0888 - val_loss: 0.1406\n",
            "Epoch 156/200\n",
            "4/4 - 0s - loss: 0.0881 - val_loss: 0.1499\n",
            "Epoch 157/200\n",
            "4/4 - 0s - loss: 0.0888 - val_loss: 0.1418\n",
            "Epoch 158/200\n",
            "4/4 - 0s - loss: 0.0877 - val_loss: 0.1530\n",
            "Epoch 159/200\n",
            "4/4 - 0s - loss: 0.0883 - val_loss: 0.1464\n",
            "Epoch 160/200\n",
            "4/4 - 0s - loss: 0.0888 - val_loss: 0.1577\n",
            "Epoch 161/200\n",
            "4/4 - 0s - loss: 0.0886 - val_loss: 0.1397\n",
            "Epoch 162/200\n",
            "4/4 - 0s - loss: 0.0880 - val_loss: 0.1521\n",
            "Epoch 163/200\n",
            "4/4 - 0s - loss: 0.0901 - val_loss: 0.1384\n",
            "Epoch 164/200\n",
            "4/4 - 0s - loss: 0.0877 - val_loss: 0.1530\n",
            "Epoch 165/200\n",
            "4/4 - 0s - loss: 0.0879 - val_loss: 0.1473\n",
            "Epoch 166/200\n",
            "4/4 - 0s - loss: 0.0886 - val_loss: 0.1513\n",
            "Epoch 167/200\n",
            "4/4 - 0s - loss: 0.0881 - val_loss: 0.1416\n",
            "Epoch 168/200\n",
            "4/4 - 0s - loss: 0.0876 - val_loss: 0.1519\n",
            "Epoch 169/200\n",
            "4/4 - 0s - loss: 0.0890 - val_loss: 0.1435\n",
            "Epoch 170/200\n",
            "4/4 - 0s - loss: 0.0879 - val_loss: 0.1534\n",
            "Epoch 171/200\n",
            "4/4 - 0s - loss: 0.0878 - val_loss: 0.1446\n",
            "Epoch 172/200\n",
            "4/4 - 0s - loss: 0.0880 - val_loss: 0.1509\n",
            "Epoch 173/200\n",
            "4/4 - 0s - loss: 0.0887 - val_loss: 0.1462\n",
            "Epoch 174/200\n",
            "4/4 - 0s - loss: 0.0874 - val_loss: 0.1482\n",
            "Epoch 175/200\n",
            "4/4 - 0s - loss: 0.0874 - val_loss: 0.1485\n",
            "Epoch 176/200\n",
            "4/4 - 0s - loss: 0.0875 - val_loss: 0.1485\n",
            "Epoch 177/200\n",
            "4/4 - 0s - loss: 0.0873 - val_loss: 0.1492\n",
            "Epoch 178/200\n",
            "4/4 - 0s - loss: 0.0872 - val_loss: 0.1499\n",
            "Epoch 179/200\n",
            "4/4 - 0s - loss: 0.0874 - val_loss: 0.1479\n",
            "Epoch 180/200\n",
            "4/4 - 0s - loss: 0.0871 - val_loss: 0.1444\n",
            "Epoch 181/200\n",
            "4/4 - 0s - loss: 0.0878 - val_loss: 0.1541\n",
            "Epoch 182/200\n",
            "4/4 - 0s - loss: 0.0886 - val_loss: 0.1440\n",
            "Epoch 183/200\n",
            "4/4 - 0s - loss: 0.0881 - val_loss: 0.1539\n",
            "Epoch 184/200\n",
            "4/4 - 0s - loss: 0.0883 - val_loss: 0.1485\n",
            "Epoch 185/200\n",
            "4/4 - 0s - loss: 0.0878 - val_loss: 0.1506\n",
            "Epoch 186/200\n",
            "4/4 - 0s - loss: 0.0875 - val_loss: 0.1520\n",
            "Epoch 187/200\n",
            "4/4 - 0s - loss: 0.0891 - val_loss: 0.1457\n",
            "Epoch 188/200\n",
            "4/4 - 0s - loss: 0.0877 - val_loss: 0.1627\n",
            "Epoch 189/200\n",
            "4/4 - 0s - loss: 0.0882 - val_loss: 0.1501\n",
            "Epoch 190/200\n",
            "4/4 - 0s - loss: 0.0884 - val_loss: 0.1633\n",
            "Epoch 191/200\n",
            "4/4 - 0s - loss: 0.0881 - val_loss: 0.1503\n",
            "Epoch 192/200\n",
            "4/4 - 0s - loss: 0.0873 - val_loss: 0.1574\n",
            "Epoch 193/200\n",
            "4/4 - 0s - loss: 0.0873 - val_loss: 0.1507\n",
            "Epoch 194/200\n",
            "4/4 - 0s - loss: 0.0870 - val_loss: 0.1552\n",
            "Epoch 195/200\n",
            "4/4 - 0s - loss: 0.0873 - val_loss: 0.1502\n",
            "Epoch 196/200\n",
            "4/4 - 0s - loss: 0.0870 - val_loss: 0.1544\n",
            "Epoch 197/200\n",
            "4/4 - 0s - loss: 0.0878 - val_loss: 0.1505\n",
            "Epoch 198/200\n",
            "4/4 - 0s - loss: 0.0873 - val_loss: 0.1570\n",
            "Epoch 199/200\n",
            "4/4 - 0s - loss: 0.0877 - val_loss: 0.1516\n",
            "Epoch 200/200\n",
            "4/4 - 0s - loss: 0.0875 - val_loss: 0.1582\n"
          ],
          "name": "stdout"
        }
      ]
    },
    {
      "cell_type": "code",
      "metadata": {
        "colab": {
          "base_uri": "https://localhost:8080/",
          "height": 267
        },
        "id": "NQpsmVbp6_xa",
        "outputId": "9c3182b0-e87d-4905-b43a-67080087af20"
      },
      "source": [
        "# plot history\n",
        "plt.plot(history.history['loss'], label='train')\n",
        "plt.plot(history.history['val_loss'], label='test')\n",
        "plt.legend()\n",
        "plt.show()"
      ],
      "execution_count": null,
      "outputs": [
        {
          "output_type": "display_data",
          "data": {
            "image/png": "[encoded data removed]",
            "text/plain": [
              "<Figure size 432x288 with 1 Axes>"
            ]
          },
          "metadata": {
            "tags": [],
            "needs_background": "light"
          }
        }
      ]
    },
    {
      "cell_type": "markdown",
      "metadata": {
        "id": "LN6KO8Wi6_xa"
      },
      "source": [
        "### Testing feature selected data"
      ]
    },
    {
      "cell_type": "code",
      "metadata": {
        "colab": {
          "base_uri": "https://localhost:8080/"
        },
        "id": "6fE2acHP6_xa",
        "outputId": "519a2640-f772-44b1-ed75-452af05516a0"
      },
      "source": [
        "import math\n",
        "\n",
        "# make a prediction\n",
        "yhat = model.predict(test_X)\n",
        "test_X1 = test_X.reshape((test_X.shape[0], test_X.shape[2]))\n",
        "# invert scaling for forecast\n",
        "inv_yhat = concatenate((yhat, test_X1[:, 1:]), axis=1)\n",
        "print(inv_yhat.shape)\n",
        "#inv_yhat = scaler.inverse_transform(inv_yhat)\n",
        "inv_yhat = inv_yhat[:,0]\n",
        "# invert scaling for actual\n",
        "test_y = test_y.reshape((len(test_y), 1))\n",
        "inv_y = concatenate((test_y, test_X1[:, 1:]), axis=1)\n",
        "#inv_y = scaler.inverse_transform(inv_y)\n",
        "inv_y = inv_y[:,0]\n",
        "# calculate RMSE\n",
        "mse = mean_squared_error(inv_y, inv_yhat)\n",
        "print('Test MSE: %.3f' % mse)\n",
        "rmse = math.sqrt(mean_squared_error(inv_y, inv_yhat))\n",
        "print('Test RMSE: %.3f' % rmse)\n",
        "print('median_absolute_error', median_absolute_error(inv_y, inv_yhat))\n",
        "print('mean_absolute_error', mean_absolute_error(inv_y, inv_yhat))"
      ],
      "execution_count": null,
      "outputs": [
        {
          "output_type": "stream",
          "text": [
            "WARNING:tensorflow:6 out of the last 11 calls to <function Model.make_predict_function.<locals>.predict_function at 0x7f1f4f5677b8> triggered tf.function retracing. Tracing is expensive and the excessive number of tracings could be due to (1) creating @tf.function repeatedly in a loop, (2) passing tensors with different shapes, (3) passing Python objects instead of tensors. For (1), please define your @tf.function outside of the loop. For (2), @tf.function has experimental_relax_shapes=True option that relaxes argument shapes that can avoid unnecessary retracing. For (3), please refer to https://www.tensorflow.org/guide/function#controlling_retracing and https://www.tensorflow.org/api_docs/python/tf/function for  more details.\n",
            "(59, 49)\n",
            "Test MSE: 0.041\n",
            "Test RMSE: 0.203\n",
            "median_absolute_error 0.15570676\n",
            "mean_absolute_error 0.15823865\n"
          ],
          "name": "stdout"
        }
      ]
    },
    {
      "cell_type": "markdown",
      "metadata": {
        "id": "w-j9VGdqkKun"
      },
      "source": [
        "# Conclusion for all dataset after PCA\n",
        "\n",
        "|Group | data | MSE  |RMSE  |Median AE  |MAE|\n",
        "|------|------|------|-----|------|-----|\n",
        "|Demographic |without PCA  | 0.042| 0.204|0.0981|0.1333|\n",
        "|Demographic |with PCA  | 0.049| 0.220|0.0909|0.1385|\n",
        "|Hospitalization & Testing |without PCA | 0.042| 0.204|0.0981|0.1333|\n",
        "|Hospitalization & Testing |with PCA  | 0.046| 0.215|0.06017|0.1302|\n",
        "|Mobility+Social Distancing + Mask Rule |without PCA | 0.159| 0.399|0.3891|0.3624|\n",
        "|Mobility+Social Distancing + Mask Rule |with PCA  | 0.061| 0.246|0.1135|0.1171|\n",
        "|All Groups Together |without PCA | 0.065| 0.254|0.1652|0.1984|\n",
        "|All Groups Together |with PCA  | 0.041| 0.203|0.1557|0.1582|\n",
        "\n",
        "\n",
        "\n",
        "\n",
        "\n",
        "\n",
        "\n",
        "\n",
        "\n"
      ]
    },
    {
      "cell_type": "markdown",
      "metadata": {
        "id": "gO2QIh1RTFRg"
      },
      "source": [
        "**Summary**:\n",
        "\n",
        "We have applied LSTM for each group with and without PCA\n",
        "\n",
        "For ***demographic*** group, we originally had 8 features and after PCA 6 features are selected for processing. \n",
        ">* *Observation*: Error had increased after PCA filteration\n",
        "\n",
        "For **Hospitalization and testing**, we originally had 11 features, after PCA we selected 7 features for processing\n",
        "\n",
        ">* *Observation*: MSE error got increased and sbsolute errors got reduced\n",
        "\n",
        "For **mobility +social distancing + mask rule**, We have applied LSTM for mobility +social distancing + mask rule groups together because social distancing and mask rule have very few columns. Totally: 15 features and 12 features are selected for processing. \n",
        "\n",
        ">* *Observation*: errors got decreased after PCA\n",
        "\n",
        "For **All Data**, totally 51 features, after filtering 28 features using PCA. \n",
        "\n",
        ">* *Observation*: We noticed a significant reduction in all the errors\n",
        "\n",
        "\n",
        "\n",
        "\n"
      ]
    }
  ]
}