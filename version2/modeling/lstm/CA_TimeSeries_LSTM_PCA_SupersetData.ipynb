{
  "nbformat": 4,
  "nbformat_minor": 0,
  "metadata": {
    "colab": {
      "name": "CA_TimeSeries_LSTM_PCA_SupersetData.ipynb",
      "provenance": [],
      "collapsed_sections": [],
      "include_colab_link": true
    },
    "kernelspec": {
      "name": "python3",
      "display_name": "Python 3"
    }
  },
  "cells": [
    {
      "cell_type": "markdown",
      "metadata": {
        "id": "view-in-github",
        "colab_type": "text"
      },
      "source": [
        "<a href=\"https://colab.research.google.com/github/aarsanjani/meansquares/blob/master/version2/modeling/lstm/CA_TimeSeries_LSTM_PCA_SupersetData.ipynb\" target=\"_parent\"><img src=\"https://colab.research.google.com/assets/colab-badge.svg\" alt=\"Open In Colab\"/></a>"
      ]
    },
    {
      "cell_type": "markdown",
      "metadata": {
        "id": "Peb3i3j910ZZ"
      },
      "source": [
        "# Goal\n",
        "\n",
        "This colab finds the possible 'New Cases' in some counties in California after PCA analysis "
      ]
    },
    {
      "cell_type": "markdown",
      "metadata": {
        "id": "A2o8leQh2a0W"
      },
      "source": [
        "# Mount Google Drive"
      ]
    },
    {
      "cell_type": "code",
      "metadata": {
        "colab": {
          "base_uri": "https://localhost:8080/"
        },
        "id": "DxQcfW0N1vzY",
        "outputId": "d96a7f4b-3339-45d5-f5ae-875707f0dd08"
      },
      "source": [
        "from google.colab import drive\n",
        "drive.mount('/content/drive',force_remount=True)"
      ],
      "execution_count": 1,
      "outputs": [
        {
          "output_type": "stream",
          "text": [
            "Mounted at /content/drive\n"
          ],
          "name": "stdout"
        }
      ]
    },
    {
      "cell_type": "code",
      "metadata": {
        "colab": {
          "base_uri": "https://localhost:8080/"
        },
        "id": "PeVbIdh82kTF",
        "outputId": "634fcb8d-57b0-494b-fcd4-f91620f39a5e"
      },
      "source": [
        "!ls '/content/drive/Shared drives/CMPE 295- Master Project/projectdata-2021'"
      ],
      "execution_count": 2,
      "outputs": [
        {
          "output_type": "stream",
          "text": [
            " CA_alldatasets_Feb05.csv\n",
            " CA_alldatasets_Jan13.csv\n",
            " CA_CombinedData_Labeled_CDCGuideline_Feb05.csv\n",
            " CA_CombinedData_Labeled_CDCGuideline_Feb06.csv\n",
            " CA_CombinedData_Labeled_CDCGuideline_Jan15.csv\n",
            " CA_combined_Feb04.csv\n",
            " CA_CovidDataJan10.csv\n",
            " CA_dataset_Feb11.csv\n",
            " CA_GoogleMobilityDataJan10.csv\n",
            " CA_MarylandData_Labeled_CDCGuideline_Feb05.csv\n",
            " CA_MarylandData_Labeled_CDCGuideline_Feb06.csv\n",
            " CA_MarylandData_Labeled_CDCGuideline_Jan15.csv\n",
            " CA_processedMarylandData_Feb04.csv\n",
            " CA_processedMarylandData_Feb05.csv\n",
            " CA_processedMarylandData_Feb12.csv\n",
            " CA_processedMarylandData_Jan11.csv\n",
            " CA_SocialDistancingDataJan10.csv\n",
            " CA_socialDistancingInertiaData_Feb04.csv\n",
            " CA_Superset_dataset_Feb12.csv\n",
            " computed_CA_mobility_data.csv\n",
            " data-mask_for_all.csv\n",
            " election_results_2021.csv\n",
            " maryland_inertia_data_allstates_Feb04.csv\n",
            " maryland_inertia_data_allstates_Feb05.csv\n",
            " maryland_inertia_data_allstates_Feb12.csv\n",
            " maryland_inertia_data_allstates_Jan11.csv\n",
            " maryland_inertia_raw_dec28_2020.csv\n",
            " Mask_Rule_Feb05.csv\n",
            " Mask_Rule_Jan10.csv\n",
            " NY_alldatasets_Jan13.csv\n",
            " NY_CombinedData_Labeled_CDCGuideline_Feb07.csv\n",
            " NY_CombinedData_Labeled_CDCGuideline_Jan15.csv\n",
            " NY_CovidDataJan10.csv\n",
            " NY_GoogleMobilityDataJan10.csv\n",
            " NY_MarylandData_Labeled_CDCGuideline_Feb07.csv\n",
            " NY_MarylandData_Labeled_CDCGuideline_Jan15.csv\n",
            " NY_processedMarylandData_Feb04.csv\n",
            " NY_processedMarylandData_Feb12.csv\n",
            " NY_processedMarylandData_Jan11.csv\n",
            " NY_SocialDistancingDataJan10.csv\n",
            "'Policy_Map_(Sized)_Full_Data_data.csv'\n",
            " population-density\n",
            " TX_alldatasets_Jan11.csv\n",
            " TX_CombinedData_Labeled_CDCGuideline_Feb07.csv\n",
            " TX_CombinedData_Labeled_CDCGuideline_Jan15.csv\n",
            " TX_CovidDataJan10.csv\n",
            " TX_GoogleMobilityDataJan10.csv\n",
            " TX_MarylandData_Labeled_CDCGuideline_Feb07.csv\n",
            " TX_MarylandData_Labeled_CDCGuideline_Jan15.csv\n",
            " TX_processedMarylandData_Feb04.csv\n",
            " TX_processedMarylandData_Feb12.csv\n",
            " TX_processedMarylandData_Jan11.csv\n",
            " TX_processedMarylandData_Jan11.gsheet\n",
            " TX_SocialDistancingDataJan10.csv\n",
            " WI_alldatasets_Feb07.csv\n",
            " WI_CovidDataFeb07.csv\n",
            " WI_GoogleMobilityDataFeb07.csv\n",
            " WI_maryland_inertia_data_allstates_Feb07.csv\n",
            " WI_processedMarylandData_Feb07.csv\n",
            " WI_SocialDistancingDataFeb07.csv\n"
          ],
          "name": "stdout"
        }
      ]
    },
    {
      "cell_type": "code",
      "metadata": {
        "id": "558T4YGp2z8V",
        "colab": {
          "base_uri": "https://localhost:8080/"
        },
        "outputId": "4ed75ac4-427f-4f2d-fa1a-0a81d7a1ad9d"
      },
      "source": [
        "import pandas as pd\n",
        "\n",
        "from tqdm import tqdm\n",
        "import seaborn as sns\n",
        "import numpy as np\n",
        "import matplotlib.pyplot as plt\n",
        "import os\n",
        "from pandas import Series, datetime\n",
        "from pandas.plotting import scatter_matrix, autocorrelation_plot\n",
        "from sklearn.preprocessing import StandardScaler, RobustScaler\n",
        "from sklearn.model_selection import train_test_split, KFold, cross_val_score, GridSearchCV, TimeSeriesSplit\n",
        "from sklearn import metrics\n",
        "from sklearn.metrics import classification_report, confusion_matrix, accuracy_score, mean_squared_error,precision_score\n",
        "from sklearn.pipeline import Pipeline\n",
        "from sklearn.linear_model import LogisticRegression\n",
        "from sklearn.tree import DecisionTreeClassifier\n",
        "from sklearn.neighbors import KNeighborsClassifier\n",
        "from sklearn.discriminant_analysis import LinearDiscriminantAnalysis\n",
        "from sklearn.naive_bayes import GaussianNB\n",
        "from sklearn.cluster import KMeans\n",
        "from sklearn.svm import SVC\n",
        "from sklearn.ensemble import AdaBoostClassifier, GradientBoostingClassifier, RandomForestClassifier, ExtraTreesClassifier\n",
        "from sklearn.metrics import roc_curve, auc\n",
        "import random\n",
        "from statsmodels.graphics.tsaplots import plot_acf, plot_pacf\n",
        "from statsmodels.tsa.arima_model import ARIMA\n",
        "from xgboost import XGBClassifier\n",
        "from sklearn.mixture import GaussianMixture\n",
        "from sklearn.metrics import median_absolute_error, mean_absolute_error\n",
        "\n",
        "\n",
        "import numpy as np\n",
        "import matplotlib.pyplot as plt\n",
        "import pandas as pd\n",
        "pd.set_option('display.float_format', lambda x: '%.4f' % x)\n",
        "import seaborn as sns\n",
        "sns.set_context(\"paper\", font_scale=1.3)\n",
        "sns.set_style('white')\n",
        "import warnings\n",
        "warnings.filterwarnings('ignore')\n",
        "from time import time\n",
        "import matplotlib.ticker as tkr\n",
        "from scipy import stats\n",
        "from statsmodels.tsa.stattools import adfuller\n",
        "from sklearn import preprocessing\n",
        "from statsmodels.tsa.stattools import pacf\n",
        "%matplotlib inline\n",
        "import math\n",
        "import keras\n",
        "from keras.models import Sequential\n",
        "from keras.layers import Dense\n",
        "from keras.layers import LSTM\n",
        "from keras.layers import Dropout\n",
        "from keras.layers import *\n",
        "from sklearn.preprocessing import MinMaxScaler\n",
        "from sklearn.metrics import mean_squared_error\n",
        "from sklearn.metrics import mean_absolute_error\n",
        "from keras.callbacks import EarlyStopping\n"
      ],
      "execution_count": 3,
      "outputs": [
        {
          "output_type": "stream",
          "text": [
            "/usr/local/lib/python3.6/dist-packages/statsmodels/tools/_testing.py:19: FutureWarning: pandas.util.testing is deprecated. Use the functions in the public API at pandas.testing instead.\n",
            "  import pandas.util.testing as tm\n"
          ],
          "name": "stderr"
        }
      ]
    },
    {
      "cell_type": "markdown",
      "metadata": {
        "id": "kn7FlI762nFk"
      },
      "source": [
        "# Load superset data for CA"
      ]
    },
    {
      "cell_type": "code",
      "metadata": {
        "colab": {
          "base_uri": "https://localhost:8080/",
          "height": 317
        },
        "id": "vxUcxn622pxX",
        "outputId": "faff01b5-241e-4394-cb7d-c2894a4d7225"
      },
      "source": [
        "CA_superset_data = pd.read_csv('/content/drive/Shared drives/CMPE 295- Master Project/projectdata-2021/CA_Superset_dataset_Feb12.csv',low_memory=False)\n",
        "CA_superset_data.head()"
      ],
      "execution_count": 4,
      "outputs": [
        {
          "output_type": "execute_result",
          "data": {
            "text/html": [
              "<div>\n",
              "<style scoped>\n",
              "    .dataframe tbody tr th:only-of-type {\n",
              "        vertical-align: middle;\n",
              "    }\n",
              "\n",
              "    .dataframe tbody tr th {\n",
              "        vertical-align: top;\n",
              "    }\n",
              "\n",
              "    .dataframe thead th {\n",
              "        text-align: right;\n",
              "    }\n",
              "</style>\n",
              "<table border=\"1\" class=\"dataframe\">\n",
              "  <thead>\n",
              "    <tr style=\"text-align: right;\">\n",
              "      <th></th>\n",
              "      <th>Date</th>\n",
              "      <th>Province_State</th>\n",
              "      <th>FIPS</th>\n",
              "      <th>New cases</th>\n",
              "      <th>County Name</th>\n",
              "      <th>mask_rule_severity</th>\n",
              "      <th>m50</th>\n",
              "      <th>m50_index</th>\n",
              "      <th>retail_and_recreation_percent_change_from_baseline</th>\n",
              "      <th>grocery_and_pharmacy_percent_change_from_baseline</th>\n",
              "      <th>parks_percent_change_from_baseline</th>\n",
              "      <th>transit_stations_percent_change_from_baseline</th>\n",
              "      <th>workplaces_percent_change_from_baseline</th>\n",
              "      <th>residential_percent_change_from_baseline</th>\n",
              "      <th>PopDensity</th>\n",
              "      <th>State_Name</th>\n",
              "      <th>State</th>\n",
              "      <th>CTFIPS</th>\n",
              "      <th>CTNAME</th>\n",
              "      <th>STFIPS</th>\n",
              "      <th>Social.distancing.index</th>\n",
              "      <th>X..staying.home</th>\n",
              "      <th>Trips.person</th>\n",
              "      <th>X..out.of.county.trips</th>\n",
              "      <th>X..out.of.state.trips</th>\n",
              "      <th>Miles.person</th>\n",
              "      <th>Work.trips.person</th>\n",
              "      <th>Non.work.trips.person</th>\n",
              "      <th>New.COVID.cases</th>\n",
              "      <th>Population</th>\n",
              "      <th>X..change.in.consumption</th>\n",
              "      <th>Transit.mode.share</th>\n",
              "      <th>X..people.older.than.60</th>\n",
              "      <th>Median.income</th>\n",
              "      <th>X..African.Americans</th>\n",
              "      <th>X..Hispanic.Americans</th>\n",
              "      <th>X..Male</th>\n",
              "      <th>Employment.density</th>\n",
              "      <th>X..hot.spots.1000.people</th>\n",
              "      <th>Hospital.beds.1000.people</th>\n",
              "      <th>ICUs.1000.people</th>\n",
              "      <th>X..contact.tracing.workers.1000.people</th>\n",
              "      <th>New.cases.1000.people</th>\n",
              "      <th>Active.cases.1000.people</th>\n",
              "      <th>X.days..decreasing.COVID.cases</th>\n",
              "      <th>X..hospital.bed.utilization</th>\n",
              "      <th>Testing.capacity</th>\n",
              "      <th>Tests.done.1000.people</th>\n",
              "      <th>X..ICU.utilization</th>\n",
              "      <th>Ventilator.shortage</th>\n",
              "      <th>Imported.COVID.cases</th>\n",
              "      <th>COVID.exposure.1000.people</th>\n",
              "      <th>X.days..decreasing.ILI.cases</th>\n",
              "      <th>Unemployment.claims.1000.people</th>\n",
              "      <th>Unemployment.rate</th>\n",
              "      <th>X..working.from.home</th>\n",
              "      <th>Cumulative.inflation.rate</th>\n",
              "      <th>COVID.death.rate</th>\n",
              "    </tr>\n",
              "  </thead>\n",
              "  <tbody>\n",
              "    <tr>\n",
              "      <th>0</th>\n",
              "      <td>2020-03-01</td>\n",
              "      <td>California</td>\n",
              "      <td>6001</td>\n",
              "      <td>0</td>\n",
              "      <td>Alameda County</td>\n",
              "      <td>0.0000</td>\n",
              "      <td>3.6840</td>\n",
              "      <td>58</td>\n",
              "      <td>6.0000</td>\n",
              "      <td>9.0000</td>\n",
              "      <td>15.0000</td>\n",
              "      <td>1.0000</td>\n",
              "      <td>4.0000</td>\n",
              "      <td>0.0000</td>\n",
              "      <td>860.7571</td>\n",
              "      <td>California</td>\n",
              "      <td>CA</td>\n",
              "      <td>6001</td>\n",
              "      <td>Alameda County</td>\n",
              "      <td>6</td>\n",
              "      <td>37</td>\n",
              "      <td>26</td>\n",
              "      <td>2.9300</td>\n",
              "      <td>25.4000</td>\n",
              "      <td>0.4000</td>\n",
              "      <td>36.8000</td>\n",
              "      <td>0.2500</td>\n",
              "      <td>2.6800</td>\n",
              "      <td>0</td>\n",
              "      <td>1666753</td>\n",
              "      <td>-5.1000</td>\n",
              "      <td>15.0400</td>\n",
              "      <td>19</td>\n",
              "      <td>92574</td>\n",
              "      <td>10.5000</td>\n",
              "      <td>22.5000</td>\n",
              "      <td>49.1100</td>\n",
              "      <td>1155</td>\n",
              "      <td>131</td>\n",
              "      <td>2.0500</td>\n",
              "      <td>0.2200</td>\n",
              "      <td>nan</td>\n",
              "      <td>0.0000</td>\n",
              "      <td>0.0000</td>\n",
              "      <td>37</td>\n",
              "      <td>54.0000</td>\n",
              "      <td>0.0000</td>\n",
              "      <td>0.0000</td>\n",
              "      <td>0.0000</td>\n",
              "      <td>0</td>\n",
              "      <td>0</td>\n",
              "      <td>0.0500</td>\n",
              "      <td>35</td>\n",
              "      <td>1.1000</td>\n",
              "      <td>5.3000</td>\n",
              "      <td>5.7000</td>\n",
              "      <td>0.6000</td>\n",
              "      <td>0.0000</td>\n",
              "    </tr>\n",
              "    <tr>\n",
              "      <th>1</th>\n",
              "      <td>2020-03-02</td>\n",
              "      <td>California</td>\n",
              "      <td>6001</td>\n",
              "      <td>0</td>\n",
              "      <td>Alameda County</td>\n",
              "      <td>0.0000</td>\n",
              "      <td>6.1820</td>\n",
              "      <td>98</td>\n",
              "      <td>4.0000</td>\n",
              "      <td>7.0000</td>\n",
              "      <td>7.0000</td>\n",
              "      <td>-1.0000</td>\n",
              "      <td>3.0000</td>\n",
              "      <td>0.0000</td>\n",
              "      <td>860.7571</td>\n",
              "      <td>California</td>\n",
              "      <td>CA</td>\n",
              "      <td>6001</td>\n",
              "      <td>Alameda County</td>\n",
              "      <td>6</td>\n",
              "      <td>17</td>\n",
              "      <td>20</td>\n",
              "      <td>3.3800</td>\n",
              "      <td>28.2000</td>\n",
              "      <td>0.4000</td>\n",
              "      <td>38.1000</td>\n",
              "      <td>0.6300</td>\n",
              "      <td>2.7400</td>\n",
              "      <td>0</td>\n",
              "      <td>1666753</td>\n",
              "      <td>-2.9000</td>\n",
              "      <td>15.0400</td>\n",
              "      <td>19</td>\n",
              "      <td>92574</td>\n",
              "      <td>10.5000</td>\n",
              "      <td>22.5000</td>\n",
              "      <td>49.1100</td>\n",
              "      <td>1155</td>\n",
              "      <td>131</td>\n",
              "      <td>2.0500</td>\n",
              "      <td>0.2200</td>\n",
              "      <td>nan</td>\n",
              "      <td>0.0000</td>\n",
              "      <td>0.0000</td>\n",
              "      <td>38</td>\n",
              "      <td>54.0000</td>\n",
              "      <td>0.0000</td>\n",
              "      <td>0.0000</td>\n",
              "      <td>0.0000</td>\n",
              "      <td>0</td>\n",
              "      <td>0</td>\n",
              "      <td>0.0500</td>\n",
              "      <td>35</td>\n",
              "      <td>1.1000</td>\n",
              "      <td>5.3000</td>\n",
              "      <td>5.7000</td>\n",
              "      <td>0.6000</td>\n",
              "      <td>0.0000</td>\n",
              "    </tr>\n",
              "    <tr>\n",
              "      <th>2</th>\n",
              "      <td>2020-03-03</td>\n",
              "      <td>California</td>\n",
              "      <td>6001</td>\n",
              "      <td>1</td>\n",
              "      <td>Alameda County</td>\n",
              "      <td>0.0000</td>\n",
              "      <td>6.2710</td>\n",
              "      <td>100</td>\n",
              "      <td>5.0000</td>\n",
              "      <td>12.0000</td>\n",
              "      <td>41.0000</td>\n",
              "      <td>0.0000</td>\n",
              "      <td>1.0000</td>\n",
              "      <td>-1.0000</td>\n",
              "      <td>860.7571</td>\n",
              "      <td>California</td>\n",
              "      <td>CA</td>\n",
              "      <td>6001</td>\n",
              "      <td>Alameda County</td>\n",
              "      <td>6</td>\n",
              "      <td>16</td>\n",
              "      <td>18</td>\n",
              "      <td>3.6100</td>\n",
              "      <td>27.1000</td>\n",
              "      <td>0.3000</td>\n",
              "      <td>32.7000</td>\n",
              "      <td>0.6700</td>\n",
              "      <td>2.9400</td>\n",
              "      <td>1</td>\n",
              "      <td>1666753</td>\n",
              "      <td>4.1000</td>\n",
              "      <td>15.0400</td>\n",
              "      <td>19</td>\n",
              "      <td>92574</td>\n",
              "      <td>10.5000</td>\n",
              "      <td>22.5000</td>\n",
              "      <td>49.1100</td>\n",
              "      <td>1155</td>\n",
              "      <td>131</td>\n",
              "      <td>2.0500</td>\n",
              "      <td>0.2200</td>\n",
              "      <td>nan</td>\n",
              "      <td>0.0002</td>\n",
              "      <td>0.0000</td>\n",
              "      <td>0</td>\n",
              "      <td>54.0000</td>\n",
              "      <td>0.0000</td>\n",
              "      <td>0.0000</td>\n",
              "      <td>0.0000</td>\n",
              "      <td>0</td>\n",
              "      <td>1</td>\n",
              "      <td>0.0500</td>\n",
              "      <td>42</td>\n",
              "      <td>1.1000</td>\n",
              "      <td>5.3000</td>\n",
              "      <td>5.7000</td>\n",
              "      <td>0.6000</td>\n",
              "      <td>0.0000</td>\n",
              "    </tr>\n",
              "    <tr>\n",
              "      <th>3</th>\n",
              "      <td>2020-03-04</td>\n",
              "      <td>California</td>\n",
              "      <td>6001</td>\n",
              "      <td>0</td>\n",
              "      <td>Alameda County</td>\n",
              "      <td>0.0000</td>\n",
              "      <td>6.2090</td>\n",
              "      <td>99</td>\n",
              "      <td>1.0000</td>\n",
              "      <td>6.0000</td>\n",
              "      <td>23.0000</td>\n",
              "      <td>-3.0000</td>\n",
              "      <td>1.0000</td>\n",
              "      <td>0.0000</td>\n",
              "      <td>860.7571</td>\n",
              "      <td>California</td>\n",
              "      <td>CA</td>\n",
              "      <td>6001</td>\n",
              "      <td>Alameda County</td>\n",
              "      <td>6</td>\n",
              "      <td>14</td>\n",
              "      <td>18</td>\n",
              "      <td>3.5500</td>\n",
              "      <td>27.9000</td>\n",
              "      <td>0.3000</td>\n",
              "      <td>36.9000</td>\n",
              "      <td>0.6800</td>\n",
              "      <td>2.8700</td>\n",
              "      <td>0</td>\n",
              "      <td>1666753</td>\n",
              "      <td>1.7000</td>\n",
              "      <td>15.0400</td>\n",
              "      <td>19</td>\n",
              "      <td>92574</td>\n",
              "      <td>10.5000</td>\n",
              "      <td>22.5000</td>\n",
              "      <td>49.1100</td>\n",
              "      <td>1155</td>\n",
              "      <td>131</td>\n",
              "      <td>2.0500</td>\n",
              "      <td>0.2200</td>\n",
              "      <td>nan</td>\n",
              "      <td>0.0002</td>\n",
              "      <td>0.0000</td>\n",
              "      <td>0</td>\n",
              "      <td>54.0000</td>\n",
              "      <td>10.3000</td>\n",
              "      <td>0.0100</td>\n",
              "      <td>0.0000</td>\n",
              "      <td>0</td>\n",
              "      <td>1</td>\n",
              "      <td>0.0600</td>\n",
              "      <td>42</td>\n",
              "      <td>1.1000</td>\n",
              "      <td>5.3000</td>\n",
              "      <td>5.7000</td>\n",
              "      <td>0.6000</td>\n",
              "      <td>0.0400</td>\n",
              "    </tr>\n",
              "    <tr>\n",
              "      <th>4</th>\n",
              "      <td>2020-03-05</td>\n",
              "      <td>California</td>\n",
              "      <td>6001</td>\n",
              "      <td>0</td>\n",
              "      <td>Alameda County</td>\n",
              "      <td>0.0000</td>\n",
              "      <td>6.6540</td>\n",
              "      <td>106</td>\n",
              "      <td>1.0000</td>\n",
              "      <td>6.0000</td>\n",
              "      <td>12.0000</td>\n",
              "      <td>-5.0000</td>\n",
              "      <td>-1.0000</td>\n",
              "      <td>1.0000</td>\n",
              "      <td>860.7571</td>\n",
              "      <td>California</td>\n",
              "      <td>CA</td>\n",
              "      <td>6001</td>\n",
              "      <td>Alameda County</td>\n",
              "      <td>6</td>\n",
              "      <td>15</td>\n",
              "      <td>19</td>\n",
              "      <td>3.5400</td>\n",
              "      <td>28.1000</td>\n",
              "      <td>0.3000</td>\n",
              "      <td>36.8000</td>\n",
              "      <td>0.6600</td>\n",
              "      <td>2.8800</td>\n",
              "      <td>0</td>\n",
              "      <td>1666753</td>\n",
              "      <td>2.0000</td>\n",
              "      <td>15.0400</td>\n",
              "      <td>19</td>\n",
              "      <td>92574</td>\n",
              "      <td>10.5000</td>\n",
              "      <td>22.5000</td>\n",
              "      <td>49.1100</td>\n",
              "      <td>1155</td>\n",
              "      <td>131</td>\n",
              "      <td>2.0500</td>\n",
              "      <td>0.2200</td>\n",
              "      <td>nan</td>\n",
              "      <td>0.0002</td>\n",
              "      <td>0.0000</td>\n",
              "      <td>0</td>\n",
              "      <td>54.0000</td>\n",
              "      <td>10.3000</td>\n",
              "      <td>0.0100</td>\n",
              "      <td>0.0000</td>\n",
              "      <td>0</td>\n",
              "      <td>1</td>\n",
              "      <td>0.0600</td>\n",
              "      <td>42</td>\n",
              "      <td>1.1000</td>\n",
              "      <td>5.3000</td>\n",
              "      <td>5.7000</td>\n",
              "      <td>0.6000</td>\n",
              "      <td>0.0400</td>\n",
              "    </tr>\n",
              "  </tbody>\n",
              "</table>\n",
              "</div>"
            ],
            "text/plain": [
              "         Date Province_State  ...  Cumulative.inflation.rate  COVID.death.rate\n",
              "0  2020-03-01     California  ...                     0.6000            0.0000\n",
              "1  2020-03-02     California  ...                     0.6000            0.0000\n",
              "2  2020-03-03     California  ...                     0.6000            0.0000\n",
              "3  2020-03-04     California  ...                     0.6000            0.0400\n",
              "4  2020-03-05     California  ...                     0.6000            0.0400\n",
              "\n",
              "[5 rows x 58 columns]"
            ]
          },
          "metadata": {
            "tags": []
          },
          "execution_count": 4
        }
      ]
    },
    {
      "cell_type": "markdown",
      "metadata": {
        "id": "dz88ruhHdbgI"
      },
      "source": [
        "## Group the data"
      ]
    },
    {
      "cell_type": "code",
      "metadata": {
        "colab": {
          "base_uri": "https://localhost:8080/"
        },
        "id": "ulNUOh09dni3",
        "outputId": "59c06194-98b1-4c6e-d057-8e306a700094"
      },
      "source": [
        "CA_superset_data.columns"
      ],
      "execution_count": 5,
      "outputs": [
        {
          "output_type": "execute_result",
          "data": {
            "text/plain": [
              "Index(['Date', 'Province_State', 'FIPS', 'New cases', 'County Name',\n",
              "       'mask_rule_severity', 'm50', 'm50_index',\n",
              "       'retail_and_recreation_percent_change_from_baseline',\n",
              "       'grocery_and_pharmacy_percent_change_from_baseline',\n",
              "       'parks_percent_change_from_baseline',\n",
              "       'transit_stations_percent_change_from_baseline',\n",
              "       'workplaces_percent_change_from_baseline',\n",
              "       'residential_percent_change_from_baseline', 'PopDensity', 'State_Name',\n",
              "       'State', 'CTFIPS', 'CTNAME', 'STFIPS', 'Social.distancing.index',\n",
              "       'X..staying.home', 'Trips.person', 'X..out.of.county.trips',\n",
              "       'X..out.of.state.trips', 'Miles.person', 'Work.trips.person',\n",
              "       'Non.work.trips.person', 'New.COVID.cases', 'Population',\n",
              "       'X..change.in.consumption', 'Transit.mode.share',\n",
              "       'X..people.older.than.60', 'Median.income', 'X..African.Americans',\n",
              "       'X..Hispanic.Americans', 'X..Male', 'Employment.density',\n",
              "       'X..hot.spots.1000.people', 'Hospital.beds.1000.people',\n",
              "       'ICUs.1000.people', 'X..contact.tracing.workers.1000.people',\n",
              "       'New.cases.1000.people', 'Active.cases.1000.people',\n",
              "       'X.days..decreasing.COVID.cases', 'X..hospital.bed.utilization',\n",
              "       'Testing.capacity', 'Tests.done.1000.people', 'X..ICU.utilization',\n",
              "       'Ventilator.shortage', 'Imported.COVID.cases',\n",
              "       'COVID.exposure.1000.people', 'X.days..decreasing.ILI.cases',\n",
              "       'Unemployment.claims.1000.people', 'Unemployment.rate',\n",
              "       'X..working.from.home', 'Cumulative.inflation.rate',\n",
              "       'COVID.death.rate'],\n",
              "      dtype='object')"
            ]
          },
          "metadata": {
            "tags": []
          },
          "execution_count": 5
        }
      ]
    },
    {
      "cell_type": "code",
      "metadata": {
        "id": "ZSl-K2oLdrlI"
      },
      "source": [
        "x_col_demographics = ['PopDensity','X..people.older.than.60',\r\n",
        "                      'Median.income', 'X..African.Americans',\r\n",
        "                      'X..Hispanic.Americans', 'X..Male','Date','New cases']"
      ],
      "execution_count": 6,
      "outputs": []
    },
    {
      "cell_type": "code",
      "metadata": {
        "id": "luR-aqZyfIAa"
      },
      "source": [
        "x_col_hospitalization_testing = ['Hospital.beds.1000.people',\r\n",
        "       'ICUs.1000.people', \r\n",
        "       'X..hospital.bed.utilization',\r\n",
        "       'Testing.capacity', 'Tests.done.1000.people', 'X..ICU.utilization',\r\n",
        "       'Ventilator.shortage','Date','New cases'] #'X..contact.tracing.workers.1000.people',"
      ],
      "execution_count": 7,
      "outputs": []
    },
    {
      "cell_type": "code",
      "metadata": {
        "id": "AKJ_Xx1RfxLL"
      },
      "source": [
        "x_col_mobility = ['retail_and_recreation_percent_change_from_baseline',\r\n",
        "       'grocery_and_pharmacy_percent_change_from_baseline','parks_percent_change_from_baseline',\r\n",
        "       'transit_stations_percent_change_from_baseline','workplaces_percent_change_from_baseline',\r\n",
        "       'residential_percent_change_from_baseline',\r\n",
        "       'X..staying.home', 'Trips.person', 'X..out.of.county.trips',\r\n",
        "       'X..out.of.state.trips', 'Miles.person', 'Work.trips.person',\r\n",
        "       'Non.work.trips.person','X..working.from.home','Date','New cases']"
      ],
      "execution_count": 8,
      "outputs": []
    },
    {
      "cell_type": "code",
      "metadata": {
        "id": "-TTb78Pegu9X"
      },
      "source": [
        "x_col_socialdistancing = ['m50', 'm50_index','Social.distancing.index','Date','New cases']"
      ],
      "execution_count": 9,
      "outputs": []
    },
    {
      "cell_type": "code",
      "metadata": {
        "id": "-cKerz6Lg87o"
      },
      "source": [
        "x_col_maskrule = ['mask_rule_severity','Date','New cases']"
      ],
      "execution_count": 10,
      "outputs": []
    },
    {
      "cell_type": "markdown",
      "metadata": {
        "id": "cbtvxoJClYz-"
      },
      "source": [
        "# LSTM: Demographic Group"
      ]
    },
    {
      "cell_type": "code",
      "metadata": {
        "id": "Pt7fcXxd2vu5"
      },
      "source": [
        "X_cols_all = x_col_demographics\n",
        "\n",
        "X_cols_feature_selected = ['X..people.older.than.60', 'Median.income', 'X..Male',\n",
        "                           'X..African.Americans', 'PopDensity'\n",
        "                           ,'Date','New cases']\n"
      ],
      "execution_count": 11,
      "outputs": []
    },
    {
      "cell_type": "code",
      "metadata": {
        "colab": {
          "base_uri": "https://localhost:8080/",
          "height": 330
        },
        "id": "hstwWs6s3Ht-",
        "outputId": "8bbf0e9e-347b-4758-fb0e-ac0e367e1d14"
      },
      "source": [
        "LA_combined_data_all = CA_superset_data[CA_superset_data['County Name'] == 'Los Angeles County'][X_cols_all]\n",
        "print(LA_combined_data_all.shape)\n",
        "\n",
        "LA_combined_data_featured = CA_superset_data[CA_superset_data['County Name'] == 'Los Angeles County'][X_cols_feature_selected]\n",
        "print(LA_combined_data_featured.shape)\n",
        "LA_combined_data_all.head(5)"
      ],
      "execution_count": 12,
      "outputs": [
        {
          "output_type": "stream",
          "text": [
            "(292, 8)\n",
            "(292, 7)\n"
          ],
          "name": "stdout"
        },
        {
          "output_type": "execute_result",
          "data": {
            "text/html": [
              "<div>\n",
              "<style scoped>\n",
              "    .dataframe tbody tr th:only-of-type {\n",
              "        vertical-align: middle;\n",
              "    }\n",
              "\n",
              "    .dataframe tbody tr th {\n",
              "        vertical-align: top;\n",
              "    }\n",
              "\n",
              "    .dataframe thead th {\n",
              "        text-align: right;\n",
              "    }\n",
              "</style>\n",
              "<table border=\"1\" class=\"dataframe\">\n",
              "  <thead>\n",
              "    <tr style=\"text-align: right;\">\n",
              "      <th></th>\n",
              "      <th>PopDensity</th>\n",
              "      <th>X..people.older.than.60</th>\n",
              "      <th>Median.income</th>\n",
              "      <th>X..African.Americans</th>\n",
              "      <th>X..Hispanic.Americans</th>\n",
              "      <th>X..Male</th>\n",
              "      <th>Date</th>\n",
              "      <th>New cases</th>\n",
              "    </tr>\n",
              "  </thead>\n",
              "  <tbody>\n",
              "    <tr>\n",
              "      <th>4804</th>\n",
              "      <td>960.7428</td>\n",
              "      <td>18</td>\n",
              "      <td>64251</td>\n",
              "      <td>7.9000</td>\n",
              "      <td>48.5000</td>\n",
              "      <td>49.2800</td>\n",
              "      <td>2020-03-01</td>\n",
              "      <td>0</td>\n",
              "    </tr>\n",
              "    <tr>\n",
              "      <th>4805</th>\n",
              "      <td>960.7428</td>\n",
              "      <td>18</td>\n",
              "      <td>64251</td>\n",
              "      <td>7.9000</td>\n",
              "      <td>48.5000</td>\n",
              "      <td>49.2800</td>\n",
              "      <td>2020-03-02</td>\n",
              "      <td>0</td>\n",
              "    </tr>\n",
              "    <tr>\n",
              "      <th>4806</th>\n",
              "      <td>960.7428</td>\n",
              "      <td>18</td>\n",
              "      <td>64251</td>\n",
              "      <td>7.9000</td>\n",
              "      <td>48.5000</td>\n",
              "      <td>49.2800</td>\n",
              "      <td>2020-03-03</td>\n",
              "      <td>0</td>\n",
              "    </tr>\n",
              "    <tr>\n",
              "      <th>4807</th>\n",
              "      <td>960.7428</td>\n",
              "      <td>18</td>\n",
              "      <td>64251</td>\n",
              "      <td>7.9000</td>\n",
              "      <td>48.5000</td>\n",
              "      <td>49.2800</td>\n",
              "      <td>2020-03-04</td>\n",
              "      <td>6</td>\n",
              "    </tr>\n",
              "    <tr>\n",
              "      <th>4808</th>\n",
              "      <td>960.7428</td>\n",
              "      <td>18</td>\n",
              "      <td>64251</td>\n",
              "      <td>7.9000</td>\n",
              "      <td>48.5000</td>\n",
              "      <td>49.2800</td>\n",
              "      <td>2020-03-05</td>\n",
              "      <td>4</td>\n",
              "    </tr>\n",
              "  </tbody>\n",
              "</table>\n",
              "</div>"
            ],
            "text/plain": [
              "      PopDensity  X..people.older.than.60  ...        Date  New cases\n",
              "4804    960.7428                       18  ...  2020-03-01          0\n",
              "4805    960.7428                       18  ...  2020-03-02          0\n",
              "4806    960.7428                       18  ...  2020-03-03          0\n",
              "4807    960.7428                       18  ...  2020-03-04          6\n",
              "4808    960.7428                       18  ...  2020-03-05          4\n",
              "\n",
              "[5 rows x 8 columns]"
            ]
          },
          "metadata": {
            "tags": []
          },
          "execution_count": 12
        }
      ]
    },
    {
      "cell_type": "code",
      "metadata": {
        "id": "aGVzYJFr4Mjg"
      },
      "source": [
        "from datetime import datetime\n",
        "# load data\n",
        "def parse(x):\n",
        "\treturn datetime.strptime(x, '%Y-%m-%d')\n",
        " \n",
        "def datetime_to_float(d):\n",
        "    date_time_obj = datetime.strptime(d, '%Y-%m-%d')\n",
        "    return date_time_obj.timestamp()"
      ],
      "execution_count": 13,
      "outputs": []
    },
    {
      "cell_type": "code",
      "metadata": {
        "colab": {
          "base_uri": "https://localhost:8080/"
        },
        "id": "ZmXCI5gI6vfs",
        "outputId": "47b2a94a-6a9c-4ca7-8031-e4279858f379"
      },
      "source": [
        "len(LA_combined_data_featured.columns)"
      ],
      "execution_count": 14,
      "outputs": [
        {
          "output_type": "execute_result",
          "data": {
            "text/plain": [
              "7"
            ]
          },
          "metadata": {
            "tags": []
          },
          "execution_count": 14
        }
      ]
    },
    {
      "cell_type": "code",
      "metadata": {
        "colab": {
          "base_uri": "https://localhost:8080/",
          "height": 196
        },
        "id": "v5nndUDn4BHm",
        "outputId": "dc168e37-3abf-4fd9-8beb-3d325d8258c3"
      },
      "source": [
        "LA_combined_data_featured['Date'] = LA_combined_data_featured['Date'].apply(lambda x: datetime_to_float(x))\n",
        "LA_combined_data_all['Date'] = LA_combined_data_all['Date'].apply(lambda x: datetime_to_float(x))\n",
        "\n",
        "#Harris_combined_data.index.name = 'Date'\n",
        "LA_combined_data_featured.head()"
      ],
      "execution_count": 15,
      "outputs": [
        {
          "output_type": "execute_result",
          "data": {
            "text/html": [
              "<div>\n",
              "<style scoped>\n",
              "    .dataframe tbody tr th:only-of-type {\n",
              "        vertical-align: middle;\n",
              "    }\n",
              "\n",
              "    .dataframe tbody tr th {\n",
              "        vertical-align: top;\n",
              "    }\n",
              "\n",
              "    .dataframe thead th {\n",
              "        text-align: right;\n",
              "    }\n",
              "</style>\n",
              "<table border=\"1\" class=\"dataframe\">\n",
              "  <thead>\n",
              "    <tr style=\"text-align: right;\">\n",
              "      <th></th>\n",
              "      <th>X..people.older.than.60</th>\n",
              "      <th>Median.income</th>\n",
              "      <th>X..Male</th>\n",
              "      <th>X..African.Americans</th>\n",
              "      <th>PopDensity</th>\n",
              "      <th>Date</th>\n",
              "      <th>New cases</th>\n",
              "    </tr>\n",
              "  </thead>\n",
              "  <tbody>\n",
              "    <tr>\n",
              "      <th>4804</th>\n",
              "      <td>18</td>\n",
              "      <td>64251</td>\n",
              "      <td>49.2800</td>\n",
              "      <td>7.9000</td>\n",
              "      <td>960.7428</td>\n",
              "      <td>1583020800.0000</td>\n",
              "      <td>0</td>\n",
              "    </tr>\n",
              "    <tr>\n",
              "      <th>4805</th>\n",
              "      <td>18</td>\n",
              "      <td>64251</td>\n",
              "      <td>49.2800</td>\n",
              "      <td>7.9000</td>\n",
              "      <td>960.7428</td>\n",
              "      <td>1583107200.0000</td>\n",
              "      <td>0</td>\n",
              "    </tr>\n",
              "    <tr>\n",
              "      <th>4806</th>\n",
              "      <td>18</td>\n",
              "      <td>64251</td>\n",
              "      <td>49.2800</td>\n",
              "      <td>7.9000</td>\n",
              "      <td>960.7428</td>\n",
              "      <td>1583193600.0000</td>\n",
              "      <td>0</td>\n",
              "    </tr>\n",
              "    <tr>\n",
              "      <th>4807</th>\n",
              "      <td>18</td>\n",
              "      <td>64251</td>\n",
              "      <td>49.2800</td>\n",
              "      <td>7.9000</td>\n",
              "      <td>960.7428</td>\n",
              "      <td>1583280000.0000</td>\n",
              "      <td>6</td>\n",
              "    </tr>\n",
              "    <tr>\n",
              "      <th>4808</th>\n",
              "      <td>18</td>\n",
              "      <td>64251</td>\n",
              "      <td>49.2800</td>\n",
              "      <td>7.9000</td>\n",
              "      <td>960.7428</td>\n",
              "      <td>1583366400.0000</td>\n",
              "      <td>4</td>\n",
              "    </tr>\n",
              "  </tbody>\n",
              "</table>\n",
              "</div>"
            ],
            "text/plain": [
              "      X..people.older.than.60  Median.income  ...            Date  New cases\n",
              "4804                       18          64251  ... 1583020800.0000          0\n",
              "4805                       18          64251  ... 1583107200.0000          0\n",
              "4806                       18          64251  ... 1583193600.0000          0\n",
              "4807                       18          64251  ... 1583280000.0000          6\n",
              "4808                       18          64251  ... 1583366400.0000          4\n",
              "\n",
              "[5 rows x 7 columns]"
            ]
          },
          "metadata": {
            "tags": []
          },
          "execution_count": 15
        }
      ]
    },
    {
      "cell_type": "code",
      "metadata": {
        "colab": {
          "base_uri": "https://localhost:8080/"
        },
        "id": "Tz-elIxItS42",
        "outputId": "687d8435-2a41-48d4-f48a-db74e1d036b8"
      },
      "source": [
        "print(len(LA_combined_data_featured.columns))\n",
        "LA_combined_data_featured.dtypes"
      ],
      "execution_count": 16,
      "outputs": [
        {
          "output_type": "stream",
          "text": [
            "7\n"
          ],
          "name": "stdout"
        },
        {
          "output_type": "execute_result",
          "data": {
            "text/plain": [
              "X..people.older.than.60      int64\n",
              "Median.income                int64\n",
              "X..Male                    float64\n",
              "X..African.Americans       float64\n",
              "PopDensity                 float64\n",
              "Date                       float64\n",
              "New cases                    int64\n",
              "dtype: object"
            ]
          },
          "metadata": {
            "tags": []
          },
          "execution_count": 16
        }
      ]
    },
    {
      "cell_type": "markdown",
      "metadata": {
        "id": "G6ZZezSa4dLQ"
      },
      "source": [
        "## Preprocessing data for LSTM"
      ]
    },
    {
      "cell_type": "code",
      "metadata": {
        "id": "skQx3frs5lWf"
      },
      "source": [
        "LA_combined_data_all_selected = LA_combined_data_all[X_cols_all]\n",
        "LA_combined_data_featured_selected = LA_combined_data_featured[X_cols_feature_selected]"
      ],
      "execution_count": 17,
      "outputs": []
    },
    {
      "cell_type": "code",
      "metadata": {
        "id": "Zc1ijcNL45mk"
      },
      "source": [
        "\n",
        "# prepare data for lstm\n",
        "from pandas import read_csv\n",
        "from pandas import DataFrame\n",
        "from pandas import concat\n",
        "from sklearn.preprocessing import LabelEncoder\n",
        "from sklearn.preprocessing import MinMaxScaler\n",
        " \n",
        "# convert series to supervised learning\n",
        "def series_to_supervised(data, n_in=1, n_out=1, dropnan=True):\n",
        "\tn_vars = 1 if type(data) is list else data.shape[1]\n",
        "\tdf = DataFrame(data)\n",
        "\tcols, names = list(), list()\n",
        "\t# input sequence (t-n, ... t-1)\n",
        "\tfor i in range(n_in, 0, -1):\n",
        "\t\tcols.append(df.shift(i))\n",
        "\t\tnames += [('var%d(t-%d)' % (j+1, i)) for j in range(n_vars)]\n",
        "\t# forecast sequence (t, t+1, ... t+n)\n",
        "\tfor i in range(0, n_out):\n",
        "\t\tcols.append(df.shift(-i))\n",
        "\t\tif i == 0:\n",
        "\t\t\tnames += [('var%d(t)' % (j+1)) for j in range(n_vars)]\n",
        "\t\telse:\n",
        "\t\t\tnames += [('var%d(t+%d)' % (j+1, i)) for j in range(n_vars)]\n",
        "\t# put it all together\n",
        "\tagg = concat(cols, axis=1)\n",
        "\tagg.columns = names\n",
        "\t# drop rows with NaN values\n",
        "\tif dropnan:\n",
        "\t\tagg.dropna(inplace=True)\n",
        "\treturn agg"
      ],
      "execution_count": 18,
      "outputs": []
    },
    {
      "cell_type": "markdown",
      "metadata": {
        "id": "t3heHKNijDjM"
      },
      "source": [
        "## All values for CA training data"
      ]
    },
    {
      "cell_type": "code",
      "metadata": {
        "colab": {
          "base_uri": "https://localhost:8080/"
        },
        "id": "p7WIkt3l4OCu",
        "outputId": "6d01df24-9c17-499b-cb75-9083f7f04e6f"
      },
      "source": [
        "values = LA_combined_data_all_selected.values\n",
        "# integer encode direction\n",
        "encoder = LabelEncoder()\n",
        "values[:,len(X_cols_all)-1] = encoder.fit_transform(values[:,len(X_cols_all)-1])\n",
        "# ensure all data is float\n",
        "values = values.astype('float32')\n",
        "# normalize features\n",
        "scaler = MinMaxScaler(feature_range=(0, 1))\n",
        "scaled = scaler.fit_transform(values)\n",
        "# frame as supervised learning\n",
        "reframed = series_to_supervised(scaled, 1, 1)\n",
        "# drop columns we don't want to predict\n",
        "#reframed.drop(reframed.columns[[9,10,11,12,13,14,15]], axis=1, inplace=True)\n",
        "print(reframed.head())"
      ],
      "execution_count": 19,
      "outputs": [
        {
          "output_type": "stream",
          "text": [
            "   var1(t-1)  var2(t-1)  var3(t-1)  ...  var6(t)  var7(t)  var8(t)\n",
            "1     0.0000     0.0000     0.0000  ...   0.0000   0.0033   0.0000\n",
            "2     0.0000     0.0000     0.0000  ...   0.0000   0.0066   0.0000\n",
            "3     0.0000     0.0000     0.0000  ...   0.0000   0.0099   0.0186\n",
            "4     0.0000     0.0000     0.0000  ...   0.0000   0.0132   0.0112\n",
            "5     0.0000     0.0000     0.0000  ...   0.0000   0.0166   0.0074\n",
            "\n",
            "[5 rows x 16 columns]\n"
          ],
          "name": "stdout"
        }
      ]
    },
    {
      "cell_type": "markdown",
      "metadata": {
        "id": "1tqQokoY4l1R"
      },
      "source": [
        "## Train Test Split"
      ]
    },
    {
      "cell_type": "code",
      "metadata": {
        "colab": {
          "base_uri": "https://localhost:8080/"
        },
        "id": "ZrYxatVf8NUr",
        "outputId": "e61892fc-1e87-4488-9f52-debb678e8e66"
      },
      "source": [
        "values.shape[0]"
      ],
      "execution_count": 20,
      "outputs": [
        {
          "output_type": "execute_result",
          "data": {
            "text/plain": [
              "292"
            ]
          },
          "metadata": {
            "tags": []
          },
          "execution_count": 20
        }
      ]
    },
    {
      "cell_type": "code",
      "metadata": {
        "colab": {
          "base_uri": "https://localhost:8080/"
        },
        "id": "J3BradOz4ilu",
        "outputId": "dc1a42a4-fcdb-41c4-ee79-8c71ebc4dd47"
      },
      "source": [
        "\n",
        "# split into train and test sets\n",
        "values = reframed.values\n",
        "rows_count = values.shape[0]\n",
        "# split the 1/5 value\n",
        "train_split = rows_count//5\n",
        "\n",
        "n_train_hours = train_split * 4\n",
        "\n",
        "print(n_train_hours)\n",
        "print('values shape ',values.shape)\n",
        "train = values[:n_train_hours, :]\n",
        "test = values[n_train_hours:, :]\n",
        "# split into input and outputs\n",
        "train_X, train_y = train[:, :-1], train[:, -1]\n",
        "test_X, test_y = test[:, :-1], test[:, -1]\n",
        "# reshape input to be 3D [samples, timesteps, features]\n",
        "train_X = train_X.reshape((train_X.shape[0], 1, train_X.shape[1]))\n",
        "test_X = test_X.reshape((test_X.shape[0], 1, test_X.shape[1]))\n",
        "print(train_X.shape, train_y.shape, test_X.shape, test_y.shape)"
      ],
      "execution_count": 21,
      "outputs": [
        {
          "output_type": "stream",
          "text": [
            "232\n",
            "values shape  (291, 16)\n",
            "(232, 1, 15) (232,) (59, 1, 15) (59,)\n"
          ],
          "name": "stdout"
        }
      ]
    },
    {
      "cell_type": "markdown",
      "metadata": {
        "id": "F_jMzaXy4q0d"
      },
      "source": [
        "## Training LSTM"
      ]
    },
    {
      "cell_type": "code",
      "metadata": {
        "colab": {
          "base_uri": "https://localhost:8080/",
          "height": 1000
        },
        "id": "F8tOKWVO4oJk",
        "outputId": "03bff64b-e1e7-4d26-b8e5-30735c11260e"
      },
      "source": [
        "...\n",
        "# design network\n",
        "model = Sequential()\n",
        "model.add(LSTM(50, input_shape=(train_X.shape[1], train_X.shape[2])))\n",
        "model.add(Dense(1))\n",
        "model.compile(loss='mae', optimizer='adam')\n",
        "# fit network\n",
        "history = model.fit(train_X, train_y, epochs=100, batch_size=72, validation_data=(test_X, test_y), verbose=2, shuffle=False)\n",
        "# plot history\n",
        "plt.plot(history.history['loss'], label='train')\n",
        "plt.plot(history.history['val_loss'], label='test')\n",
        "plt.legend()\n",
        "plt.show()"
      ],
      "execution_count": 22,
      "outputs": [
        {
          "output_type": "stream",
          "text": [
            "Epoch 1/100\n",
            "4/4 - 3s - loss: 0.3997 - val_loss: 0.7523\n",
            "Epoch 2/100\n",
            "4/4 - 0s - loss: 0.3737 - val_loss: 0.7105\n",
            "Epoch 3/100\n",
            "4/4 - 0s - loss: 0.3488 - val_loss: 0.6682\n",
            "Epoch 4/100\n",
            "4/4 - 0s - loss: 0.3251 - val_loss: 0.6257\n",
            "Epoch 5/100\n",
            "4/4 - 0s - loss: 0.3024 - val_loss: 0.5830\n",
            "Epoch 6/100\n",
            "4/4 - 0s - loss: 0.2811 - val_loss: 0.5417\n",
            "Epoch 7/100\n",
            "4/4 - 0s - loss: 0.2608 - val_loss: 0.5003\n",
            "Epoch 8/100\n",
            "4/4 - 0s - loss: 0.2417 - val_loss: 0.4603\n",
            "Epoch 9/100\n",
            "4/4 - 0s - loss: 0.2249 - val_loss: 0.4214\n",
            "Epoch 10/100\n",
            "4/4 - 0s - loss: 0.2103 - val_loss: 0.3845\n",
            "Epoch 11/100\n",
            "4/4 - 0s - loss: 0.1990 - val_loss: 0.3511\n",
            "Epoch 12/100\n",
            "4/4 - 0s - loss: 0.1909 - val_loss: 0.3221\n",
            "Epoch 13/100\n",
            "4/4 - 0s - loss: 0.1852 - val_loss: 0.2988\n",
            "Epoch 14/100\n",
            "4/4 - 0s - loss: 0.1815 - val_loss: 0.2801\n",
            "Epoch 15/100\n",
            "4/4 - 0s - loss: 0.1789 - val_loss: 0.2656\n",
            "Epoch 16/100\n",
            "4/4 - 0s - loss: 0.1771 - val_loss: 0.2561\n",
            "Epoch 17/100\n",
            "4/4 - 0s - loss: 0.1759 - val_loss: 0.2503\n",
            "Epoch 18/100\n",
            "4/4 - 0s - loss: 0.1750 - val_loss: 0.2473\n",
            "Epoch 19/100\n",
            "4/4 - 0s - loss: 0.1744 - val_loss: 0.2465\n",
            "Epoch 20/100\n",
            "4/4 - 0s - loss: 0.1739 - val_loss: 0.2470\n",
            "Epoch 21/100\n",
            "4/4 - 0s - loss: 0.1735 - val_loss: 0.2484\n",
            "Epoch 22/100\n",
            "4/4 - 0s - loss: 0.1731 - val_loss: 0.2503\n",
            "Epoch 23/100\n",
            "4/4 - 0s - loss: 0.1728 - val_loss: 0.2523\n",
            "Epoch 24/100\n",
            "4/4 - 0s - loss: 0.1726 - val_loss: 0.2539\n",
            "Epoch 25/100\n",
            "4/4 - 0s - loss: 0.1723 - val_loss: 0.2553\n",
            "Epoch 26/100\n",
            "4/4 - 0s - loss: 0.1719 - val_loss: 0.2564\n",
            "Epoch 27/100\n",
            "4/4 - 0s - loss: 0.1716 - val_loss: 0.2573\n",
            "Epoch 28/100\n",
            "4/4 - 0s - loss: 0.1712 - val_loss: 0.2579\n",
            "Epoch 29/100\n",
            "4/4 - 0s - loss: 0.1708 - val_loss: 0.2584\n",
            "Epoch 30/100\n",
            "4/4 - 0s - loss: 0.1704 - val_loss: 0.2587\n",
            "Epoch 31/100\n",
            "4/4 - 0s - loss: 0.1699 - val_loss: 0.2589\n",
            "Epoch 32/100\n",
            "4/4 - 0s - loss: 0.1695 - val_loss: 0.2590\n",
            "Epoch 33/100\n",
            "4/4 - 0s - loss: 0.1690 - val_loss: 0.2591\n",
            "Epoch 34/100\n",
            "4/4 - 0s - loss: 0.1685 - val_loss: 0.2591\n",
            "Epoch 35/100\n",
            "4/4 - 0s - loss: 0.1680 - val_loss: 0.2589\n",
            "Epoch 36/100\n",
            "4/4 - 0s - loss: 0.1675 - val_loss: 0.2582\n",
            "Epoch 37/100\n",
            "4/4 - 0s - loss: 0.1669 - val_loss: 0.2561\n",
            "Epoch 38/100\n",
            "4/4 - 0s - loss: 0.1662 - val_loss: 0.2537\n",
            "Epoch 39/100\n",
            "4/4 - 0s - loss: 0.1654 - val_loss: 0.2518\n",
            "Epoch 40/100\n",
            "4/4 - 0s - loss: 0.1647 - val_loss: 0.2503\n",
            "Epoch 41/100\n",
            "4/4 - 0s - loss: 0.1641 - val_loss: 0.2490\n",
            "Epoch 42/100\n",
            "4/4 - 0s - loss: 0.1634 - val_loss: 0.2479\n",
            "Epoch 43/100\n",
            "4/4 - 0s - loss: 0.1628 - val_loss: 0.2468\n",
            "Epoch 44/100\n",
            "4/4 - 0s - loss: 0.1621 - val_loss: 0.2447\n",
            "Epoch 45/100\n",
            "4/4 - 0s - loss: 0.1613 - val_loss: 0.2406\n",
            "Epoch 46/100\n",
            "4/4 - 0s - loss: 0.1603 - val_loss: 0.2359\n",
            "Epoch 47/100\n",
            "4/4 - 0s - loss: 0.1594 - val_loss: 0.2316\n",
            "Epoch 48/100\n",
            "4/4 - 0s - loss: 0.1585 - val_loss: 0.2278\n",
            "Epoch 49/100\n",
            "4/4 - 0s - loss: 0.1577 - val_loss: 0.2245\n",
            "Epoch 50/100\n",
            "4/4 - 0s - loss: 0.1569 - val_loss: 0.2211\n",
            "Epoch 51/100\n",
            "4/4 - 0s - loss: 0.1560 - val_loss: 0.2169\n",
            "Epoch 52/100\n",
            "4/4 - 0s - loss: 0.1551 - val_loss: 0.2123\n",
            "Epoch 53/100\n",
            "4/4 - 0s - loss: 0.1542 - val_loss: 0.2086\n",
            "Epoch 54/100\n",
            "4/4 - 0s - loss: 0.1534 - val_loss: 0.2054\n",
            "Epoch 55/100\n",
            "4/4 - 0s - loss: 0.1526 - val_loss: 0.2023\n",
            "Epoch 56/100\n",
            "4/4 - 0s - loss: 0.1518 - val_loss: 0.1990\n",
            "Epoch 57/100\n",
            "4/4 - 0s - loss: 0.1511 - val_loss: 0.1954\n",
            "Epoch 58/100\n",
            "4/4 - 0s - loss: 0.1504 - val_loss: 0.1917\n",
            "Epoch 59/100\n",
            "4/4 - 0s - loss: 0.1497 - val_loss: 0.1881\n",
            "Epoch 60/100\n",
            "4/4 - 0s - loss: 0.1490 - val_loss: 0.1849\n",
            "Epoch 61/100\n",
            "4/4 - 0s - loss: 0.1483 - val_loss: 0.1821\n",
            "Epoch 62/100\n",
            "4/4 - 0s - loss: 0.1477 - val_loss: 0.1794\n",
            "Epoch 63/100\n",
            "4/4 - 0s - loss: 0.1471 - val_loss: 0.1772\n",
            "Epoch 64/100\n",
            "4/4 - 0s - loss: 0.1466 - val_loss: 0.1765\n",
            "Epoch 65/100\n",
            "4/4 - 0s - loss: 0.1461 - val_loss: 0.1762\n",
            "Epoch 66/100\n",
            "4/4 - 0s - loss: 0.1457 - val_loss: 0.1752\n",
            "Epoch 67/100\n",
            "4/4 - 0s - loss: 0.1451 - val_loss: 0.1736\n",
            "Epoch 68/100\n",
            "4/4 - 0s - loss: 0.1446 - val_loss: 0.1716\n",
            "Epoch 69/100\n",
            "4/4 - 0s - loss: 0.1441 - val_loss: 0.1695\n",
            "Epoch 70/100\n",
            "4/4 - 0s - loss: 0.1435 - val_loss: 0.1673\n",
            "Epoch 71/100\n",
            "4/4 - 0s - loss: 0.1430 - val_loss: 0.1655\n",
            "Epoch 72/100\n",
            "4/4 - 0s - loss: 0.1425 - val_loss: 0.1648\n",
            "Epoch 73/100\n",
            "4/4 - 0s - loss: 0.1421 - val_loss: 0.1636\n",
            "Epoch 74/100\n",
            "4/4 - 0s - loss: 0.1416 - val_loss: 0.1621\n",
            "Epoch 75/100\n",
            "4/4 - 0s - loss: 0.1412 - val_loss: 0.1605\n",
            "Epoch 76/100\n",
            "4/4 - 0s - loss: 0.1406 - val_loss: 0.1587\n",
            "Epoch 77/100\n",
            "4/4 - 0s - loss: 0.1401 - val_loss: 0.1573\n",
            "Epoch 78/100\n",
            "4/4 - 0s - loss: 0.1397 - val_loss: 0.1568\n",
            "Epoch 79/100\n",
            "4/4 - 0s - loss: 0.1392 - val_loss: 0.1556\n",
            "Epoch 80/100\n",
            "4/4 - 0s - loss: 0.1388 - val_loss: 0.1546\n",
            "Epoch 81/100\n",
            "4/4 - 0s - loss: 0.1384 - val_loss: 0.1536\n",
            "Epoch 82/100\n",
            "4/4 - 0s - loss: 0.1381 - val_loss: 0.1527\n",
            "Epoch 83/100\n",
            "4/4 - 0s - loss: 0.1377 - val_loss: 0.1515\n",
            "Epoch 84/100\n",
            "4/4 - 0s - loss: 0.1373 - val_loss: 0.1500\n",
            "Epoch 85/100\n",
            "4/4 - 0s - loss: 0.1369 - val_loss: 0.1482\n",
            "Epoch 86/100\n",
            "4/4 - 0s - loss: 0.1365 - val_loss: 0.1463\n",
            "Epoch 87/100\n",
            "4/4 - 0s - loss: 0.1361 - val_loss: 0.1444\n",
            "Epoch 88/100\n",
            "4/4 - 0s - loss: 0.1357 - val_loss: 0.1433\n",
            "Epoch 89/100\n",
            "4/4 - 0s - loss: 0.1354 - val_loss: 0.1431\n",
            "Epoch 90/100\n",
            "4/4 - 0s - loss: 0.1351 - val_loss: 0.1422\n",
            "Epoch 91/100\n",
            "4/4 - 0s - loss: 0.1348 - val_loss: 0.1408\n",
            "Epoch 92/100\n",
            "4/4 - 0s - loss: 0.1344 - val_loss: 0.1391\n",
            "Epoch 93/100\n",
            "4/4 - 0s - loss: 0.1340 - val_loss: 0.1372\n",
            "Epoch 94/100\n",
            "4/4 - 0s - loss: 0.1335 - val_loss: 0.1358\n",
            "Epoch 95/100\n",
            "4/4 - 0s - loss: 0.1332 - val_loss: 0.1356\n",
            "Epoch 96/100\n",
            "4/4 - 0s - loss: 0.1329 - val_loss: 0.1348\n",
            "Epoch 97/100\n",
            "4/4 - 0s - loss: 0.1326 - val_loss: 0.1336\n",
            "Epoch 98/100\n",
            "4/4 - 0s - loss: 0.1322 - val_loss: 0.1323\n",
            "Epoch 99/100\n",
            "4/4 - 0s - loss: 0.1318 - val_loss: 0.1314\n",
            "Epoch 100/100\n",
            "4/4 - 0s - loss: 0.1316 - val_loss: 0.1311\n"
          ],
          "name": "stdout"
        },
        {
          "output_type": "display_data",
          "data": {
            "image/png": "[encoded data removed]",
            "text/plain": [
              "<Figure size 432x288 with 1 Axes>"
            ]
          },
          "metadata": {
            "tags": [],
            "needs_background": "light"
          }
        }
      ]
    },
    {
      "cell_type": "code",
      "metadata": {
        "colab": {
          "base_uri": "https://localhost:8080/",
          "height": 267
        },
        "id": "FVj8wJD4rVHS",
        "outputId": "f66c4d56-d7bb-4f57-ce06-c09271a738b0"
      },
      "source": [
        "# plot history\r\n",
        "plt.plot(history.history['loss'], label='train')\r\n",
        "plt.plot(history.history['val_loss'], label='test')\r\n",
        "plt.legend()\r\n",
        "plt.show()"
      ],
      "execution_count": 23,
      "outputs": [
        {
          "output_type": "display_data",
          "data": {
            "image/png": "[encoded data removed]",
            "text/plain": [
              "<Figure size 432x288 with 1 Axes>"
            ]
          },
          "metadata": {
            "tags": [],
            "needs_background": "light"
          }
        }
      ]
    },
    {
      "cell_type": "markdown",
      "metadata": {
        "id": "ZnFmDLEa4w7g"
      },
      "source": [
        "## Test"
      ]
    },
    {
      "cell_type": "code",
      "metadata": {
        "colab": {
          "base_uri": "https://localhost:8080/"
        },
        "id": "2G98UOaR4yJ8",
        "outputId": "abcdf479-5b27-40d6-95b3-9293b4f23b65"
      },
      "source": [
        "import math\n",
        "\n",
        "# make a prediction\n",
        "yhat = model.predict(test_X)\n",
        "test_X1 = test_X.reshape((test_X.shape[0], test_X.shape[2]))\n",
        "# invert scaling for forecast\n",
        "inv_yhat = concatenate((yhat, test_X1[:, 1:]), axis=1)\n",
        "print(inv_yhat.shape)\n",
        "#inv_yhat = scaler.inverse_transform(inv_yhat)\n",
        "inv_yhat = inv_yhat[:,0]\n",
        "# invert scaling for actual\n",
        "test_y = test_y.reshape((len(test_y), 1))\n",
        "inv_y = concatenate((test_y, test_X1[:, 1:]), axis=1)\n",
        "#inv_y = scaler.inverse_transform(inv_y)\n",
        "inv_y = inv_y[:,0]\n",
        "# calculate RMSE\n",
        "mse = mean_squared_error(inv_y, inv_yhat)\n",
        "print('Test MSE: %.3f' % mse)\n",
        "rmse = math.sqrt(mean_squared_error(inv_y, inv_yhat))\n",
        "print('Test RMSE: %.3f' % rmse)\n",
        "\n",
        "print('median_absolute_error', median_absolute_error(inv_y, inv_yhat))\n",
        "print('mean_absolute_error', mean_absolute_error(inv_y, inv_yhat))"
      ],
      "execution_count": 24,
      "outputs": [
        {
          "output_type": "stream",
          "text": [
            "(59, 15)\n",
            "Test MSE: 0.041\n",
            "Test RMSE: 0.203\n",
            "median_absolute_error 0.09360695\n",
            "mean_absolute_error 0.13105653\n"
          ],
          "name": "stdout"
        }
      ]
    },
    {
      "cell_type": "markdown",
      "metadata": {
        "id": "xKq3c8_9jQXa"
      },
      "source": [
        "## Preprocessing feature selected data for training"
      ]
    },
    {
      "cell_type": "code",
      "metadata": {
        "colab": {
          "base_uri": "https://localhost:8080/"
        },
        "id": "awyC3BSCjnqY",
        "outputId": "59d0ef43-2a0c-4c96-8119-f9664f7c1a4d"
      },
      "source": [
        "len(LA_combined_data_featured_selected.columns)"
      ],
      "execution_count": 25,
      "outputs": [
        {
          "output_type": "execute_result",
          "data": {
            "text/plain": [
              "7"
            ]
          },
          "metadata": {
            "tags": []
          },
          "execution_count": 25
        }
      ]
    },
    {
      "cell_type": "code",
      "metadata": {
        "colab": {
          "base_uri": "https://localhost:8080/"
        },
        "id": "Op6wtKgcjUNm",
        "outputId": "652661dc-358a-4666-d243-ec52e4a5afc0"
      },
      "source": [
        "values = LA_combined_data_featured_selected.values\n",
        "# integer encode direction\n",
        "encoder = LabelEncoder()\n",
        "values[:,len(X_cols_feature_selected)-1] = encoder.fit_transform(values[:,len(X_cols_feature_selected)-1])\n",
        "# ensure all data is float\n",
        "values = values.astype('float32')\n",
        "# normalize features\n",
        "scaler = MinMaxScaler(feature_range=(0, 1))\n",
        "scaled = scaler.fit_transform(values)\n",
        "# frame as supervised learning\n",
        "reframed = series_to_supervised(scaled, 1, 1)\n",
        "# drop columns we don't want to predict\n",
        "#reframed.drop(reframed.columns[[9,10,11,12,13,14,15]], axis=1, inplace=True)\n",
        "print(reframed.head())"
      ],
      "execution_count": 26,
      "outputs": [
        {
          "output_type": "stream",
          "text": [
            "   var1(t-1)  var2(t-1)  var3(t-1)  ...  var5(t)  var6(t)  var7(t)\n",
            "1     0.0000     0.0000     0.0000  ...   0.0000   0.0033   0.0000\n",
            "2     0.0000     0.0000     0.0000  ...   0.0000   0.0066   0.0000\n",
            "3     0.0000     0.0000     0.0000  ...   0.0000   0.0099   0.0186\n",
            "4     0.0000     0.0000     0.0000  ...   0.0000   0.0132   0.0112\n",
            "5     0.0000     0.0000     0.0000  ...   0.0000   0.0166   0.0074\n",
            "\n",
            "[5 rows x 14 columns]\n"
          ],
          "name": "stdout"
        }
      ]
    },
    {
      "cell_type": "markdown",
      "metadata": {
        "id": "CtNQl7UFjhBG"
      },
      "source": [
        "### Train Test split"
      ]
    },
    {
      "cell_type": "code",
      "metadata": {
        "colab": {
          "base_uri": "https://localhost:8080/"
        },
        "id": "9uQoint5jUdo",
        "outputId": "a0a5a9f4-88e3-475d-bdc2-1a7867a1d224"
      },
      "source": [
        "\n",
        "# split into train and test sets\n",
        "values = reframed.values\n",
        "rows_count = values.shape[0]\n",
        "# split the 1/5 value\n",
        "train_split = rows_count//5\n",
        "\n",
        "n_train_hours = train_split * 4\n",
        "\n",
        "print(n_train_hours)\n",
        "print('values shape ',values.shape)\n",
        "train = values[:n_train_hours, :]\n",
        "test = values[n_train_hours:, :]\n",
        "# split into input and outputs\n",
        "train_X, train_y = train[:, :-1], train[:, -1]\n",
        "test_X, test_y = test[:, :-1], test[:, -1]\n",
        "# reshape input to be 3D [samples, timesteps, features]\n",
        "train_X = train_X.reshape((train_X.shape[0], 1, train_X.shape[1]))\n",
        "test_X = test_X.reshape((test_X.shape[0], 1, test_X.shape[1]))\n",
        "print(train_X.shape, train_y.shape, test_X.shape, test_y.shape)"
      ],
      "execution_count": 27,
      "outputs": [
        {
          "output_type": "stream",
          "text": [
            "232\n",
            "values shape  (291, 14)\n",
            "(232, 1, 13) (232,) (59, 1, 13) (59,)\n"
          ],
          "name": "stdout"
        }
      ]
    },
    {
      "cell_type": "markdown",
      "metadata": {
        "id": "_UahqIBqjvVP"
      },
      "source": [
        "### Training LSTM for feature selected data"
      ]
    },
    {
      "cell_type": "code",
      "metadata": {
        "colab": {
          "base_uri": "https://localhost:8080/"
        },
        "id": "w8-AFQysjUbC",
        "outputId": "cb77ff91-f4f8-4223-8aaa-0c6c5aeabaaf"
      },
      "source": [
        "...\n",
        "# design network\n",
        "model = Sequential()\n",
        "model.add(LSTM(50, input_shape=(train_X.shape[1], train_X.shape[2])))\n",
        "model.add(Dense(1))\n",
        "model.compile(loss='mae', optimizer='adam')\n",
        "# fit network\n",
        "history = model.fit(train_X, train_y, epochs=200, batch_size=72, validation_data=(test_X, test_y), verbose=2, shuffle=False)\n"
      ],
      "execution_count": 28,
      "outputs": [
        {
          "output_type": "stream",
          "text": [
            "Epoch 1/200\n",
            "4/4 - 2s - loss: 0.4068 - val_loss: 0.7654\n",
            "Epoch 2/200\n",
            "4/4 - 0s - loss: 0.3842 - val_loss: 0.7300\n",
            "Epoch 3/200\n",
            "4/4 - 0s - loss: 0.3623 - val_loss: 0.6944\n",
            "Epoch 4/200\n",
            "4/4 - 0s - loss: 0.3415 - val_loss: 0.6586\n",
            "Epoch 5/200\n",
            "4/4 - 0s - loss: 0.3217 - val_loss: 0.6226\n",
            "Epoch 6/200\n",
            "4/4 - 0s - loss: 0.3028 - val_loss: 0.5862\n",
            "Epoch 7/200\n",
            "4/4 - 0s - loss: 0.2846 - val_loss: 0.5501\n",
            "Epoch 8/200\n",
            "4/4 - 0s - loss: 0.2667 - val_loss: 0.5138\n",
            "Epoch 9/200\n",
            "4/4 - 0s - loss: 0.2499 - val_loss: 0.4779\n",
            "Epoch 10/200\n",
            "4/4 - 0s - loss: 0.2347 - val_loss: 0.4431\n",
            "Epoch 11/200\n",
            "4/4 - 0s - loss: 0.2214 - val_loss: 0.4094\n",
            "Epoch 12/200\n",
            "4/4 - 0s - loss: 0.2099 - val_loss: 0.3775\n",
            "Epoch 13/200\n",
            "4/4 - 0s - loss: 0.2014 - val_loss: 0.3493\n",
            "Epoch 14/200\n",
            "4/4 - 0s - loss: 0.1950 - val_loss: 0.3256\n",
            "Epoch 15/200\n",
            "4/4 - 0s - loss: 0.1903 - val_loss: 0.3059\n",
            "Epoch 16/200\n",
            "4/4 - 0s - loss: 0.1870 - val_loss: 0.2899\n",
            "Epoch 17/200\n",
            "4/4 - 0s - loss: 0.1847 - val_loss: 0.2781\n",
            "Epoch 18/200\n",
            "4/4 - 0s - loss: 0.1831 - val_loss: 0.2704\n",
            "Epoch 19/200\n",
            "4/4 - 0s - loss: 0.1820 - val_loss: 0.2657\n",
            "Epoch 20/200\n",
            "4/4 - 0s - loss: 0.1812 - val_loss: 0.2633\n",
            "Epoch 21/200\n",
            "4/4 - 0s - loss: 0.1806 - val_loss: 0.2624\n",
            "Epoch 22/200\n",
            "4/4 - 0s - loss: 0.1801 - val_loss: 0.2627\n",
            "Epoch 23/200\n",
            "4/4 - 0s - loss: 0.1797 - val_loss: 0.2634\n",
            "Epoch 24/200\n",
            "4/4 - 0s - loss: 0.1793 - val_loss: 0.2644\n",
            "Epoch 25/200\n",
            "4/4 - 0s - loss: 0.1789 - val_loss: 0.2653\n",
            "Epoch 26/200\n",
            "4/4 - 0s - loss: 0.1786 - val_loss: 0.2659\n",
            "Epoch 27/200\n",
            "4/4 - 0s - loss: 0.1782 - val_loss: 0.2660\n",
            "Epoch 28/200\n",
            "4/4 - 0s - loss: 0.1777 - val_loss: 0.2657\n",
            "Epoch 29/200\n",
            "4/4 - 0s - loss: 0.1773 - val_loss: 0.2653\n",
            "Epoch 30/200\n",
            "4/4 - 0s - loss: 0.1768 - val_loss: 0.2647\n",
            "Epoch 31/200\n",
            "4/4 - 0s - loss: 0.1762 - val_loss: 0.2640\n",
            "Epoch 32/200\n",
            "4/4 - 0s - loss: 0.1757 - val_loss: 0.2632\n",
            "Epoch 33/200\n",
            "4/4 - 0s - loss: 0.1752 - val_loss: 0.2623\n",
            "Epoch 34/200\n",
            "4/4 - 0s - loss: 0.1746 - val_loss: 0.2613\n",
            "Epoch 35/200\n",
            "4/4 - 0s - loss: 0.1740 - val_loss: 0.2603\n",
            "Epoch 36/200\n",
            "4/4 - 0s - loss: 0.1735 - val_loss: 0.2592\n",
            "Epoch 37/200\n",
            "4/4 - 0s - loss: 0.1729 - val_loss: 0.2583\n",
            "Epoch 38/200\n",
            "4/4 - 0s - loss: 0.1723 - val_loss: 0.2574\n",
            "Epoch 39/200\n",
            "4/4 - 0s - loss: 0.1718 - val_loss: 0.2567\n",
            "Epoch 40/200\n",
            "4/4 - 0s - loss: 0.1713 - val_loss: 0.2561\n",
            "Epoch 41/200\n",
            "4/4 - 0s - loss: 0.1708 - val_loss: 0.2556\n",
            "Epoch 42/200\n",
            "4/4 - 0s - loss: 0.1703 - val_loss: 0.2553\n",
            "Epoch 43/200\n",
            "4/4 - 0s - loss: 0.1698 - val_loss: 0.2550\n",
            "Epoch 44/200\n",
            "4/4 - 0s - loss: 0.1694 - val_loss: 0.2547\n",
            "Epoch 45/200\n",
            "4/4 - 0s - loss: 0.1689 - val_loss: 0.2545\n",
            "Epoch 46/200\n",
            "4/4 - 0s - loss: 0.1684 - val_loss: 0.2542\n",
            "Epoch 47/200\n",
            "4/4 - 0s - loss: 0.1680 - val_loss: 0.2539\n",
            "Epoch 48/200\n",
            "4/4 - 0s - loss: 0.1675 - val_loss: 0.2534\n",
            "Epoch 49/200\n",
            "4/4 - 0s - loss: 0.1670 - val_loss: 0.2528\n",
            "Epoch 50/200\n",
            "4/4 - 0s - loss: 0.1664 - val_loss: 0.2521\n",
            "Epoch 51/200\n",
            "4/4 - 0s - loss: 0.1659 - val_loss: 0.2513\n",
            "Epoch 52/200\n",
            "4/4 - 0s - loss: 0.1653 - val_loss: 0.2504\n",
            "Epoch 53/200\n",
            "4/4 - 0s - loss: 0.1648 - val_loss: 0.2493\n",
            "Epoch 54/200\n",
            "4/4 - 0s - loss: 0.1642 - val_loss: 0.2482\n",
            "Epoch 55/200\n",
            "4/4 - 0s - loss: 0.1636 - val_loss: 0.2469\n",
            "Epoch 56/200\n",
            "4/4 - 0s - loss: 0.1629 - val_loss: 0.2456\n",
            "Epoch 57/200\n",
            "4/4 - 0s - loss: 0.1623 - val_loss: 0.2442\n",
            "Epoch 58/200\n",
            "4/4 - 0s - loss: 0.1617 - val_loss: 0.2428\n",
            "Epoch 59/200\n",
            "4/4 - 0s - loss: 0.1610 - val_loss: 0.2413\n",
            "Epoch 60/200\n",
            "4/4 - 0s - loss: 0.1603 - val_loss: 0.2398\n",
            "Epoch 61/200\n",
            "4/4 - 0s - loss: 0.1597 - val_loss: 0.2377\n",
            "Epoch 62/200\n",
            "4/4 - 0s - loss: 0.1589 - val_loss: 0.2338\n",
            "Epoch 63/200\n",
            "4/4 - 0s - loss: 0.1579 - val_loss: 0.2287\n",
            "Epoch 64/200\n",
            "4/4 - 0s - loss: 0.1569 - val_loss: 0.2237\n",
            "Epoch 65/200\n",
            "4/4 - 0s - loss: 0.1560 - val_loss: 0.2201\n",
            "Epoch 66/200\n",
            "4/4 - 0s - loss: 0.1551 - val_loss: 0.2167\n",
            "Epoch 67/200\n",
            "4/4 - 0s - loss: 0.1543 - val_loss: 0.2132\n",
            "Epoch 68/200\n",
            "4/4 - 0s - loss: 0.1534 - val_loss: 0.2095\n",
            "Epoch 69/200\n",
            "4/4 - 0s - loss: 0.1525 - val_loss: 0.2054\n",
            "Epoch 70/200\n",
            "4/4 - 0s - loss: 0.1517 - val_loss: 0.2018\n",
            "Epoch 71/200\n",
            "4/4 - 0s - loss: 0.1510 - val_loss: 0.1981\n",
            "Epoch 72/200\n",
            "4/4 - 0s - loss: 0.1502 - val_loss: 0.1943\n",
            "Epoch 73/200\n",
            "4/4 - 0s - loss: 0.1494 - val_loss: 0.1903\n",
            "Epoch 74/200\n",
            "4/4 - 0s - loss: 0.1487 - val_loss: 0.1867\n",
            "Epoch 75/200\n",
            "4/4 - 0s - loss: 0.1480 - val_loss: 0.1843\n",
            "Epoch 76/200\n",
            "4/4 - 0s - loss: 0.1474 - val_loss: 0.1818\n",
            "Epoch 77/200\n",
            "4/4 - 0s - loss: 0.1468 - val_loss: 0.1792\n",
            "Epoch 78/200\n",
            "4/4 - 0s - loss: 0.1462 - val_loss: 0.1766\n",
            "Epoch 79/200\n",
            "4/4 - 0s - loss: 0.1456 - val_loss: 0.1744\n",
            "Epoch 80/200\n",
            "4/4 - 0s - loss: 0.1450 - val_loss: 0.1731\n",
            "Epoch 81/200\n",
            "4/4 - 0s - loss: 0.1445 - val_loss: 0.1722\n",
            "Epoch 82/200\n",
            "4/4 - 0s - loss: 0.1441 - val_loss: 0.1707\n",
            "Epoch 83/200\n",
            "4/4 - 0s - loss: 0.1436 - val_loss: 0.1691\n",
            "Epoch 84/200\n",
            "4/4 - 0s - loss: 0.1431 - val_loss: 0.1682\n",
            "Epoch 85/200\n",
            "4/4 - 0s - loss: 0.1427 - val_loss: 0.1665\n",
            "Epoch 86/200\n",
            "4/4 - 0s - loss: 0.1422 - val_loss: 0.1649\n",
            "Epoch 87/200\n",
            "4/4 - 0s - loss: 0.1417 - val_loss: 0.1639\n",
            "Epoch 88/200\n",
            "4/4 - 0s - loss: 0.1412 - val_loss: 0.1624\n",
            "Epoch 89/200\n",
            "4/4 - 0s - loss: 0.1408 - val_loss: 0.1606\n",
            "Epoch 90/200\n",
            "4/4 - 0s - loss: 0.1402 - val_loss: 0.1591\n",
            "Epoch 91/200\n",
            "4/4 - 0s - loss: 0.1398 - val_loss: 0.1584\n",
            "Epoch 92/200\n",
            "4/4 - 0s - loss: 0.1393 - val_loss: 0.1570\n",
            "Epoch 93/200\n",
            "4/4 - 0s - loss: 0.1388 - val_loss: 0.1553\n",
            "Epoch 94/200\n",
            "4/4 - 0s - loss: 0.1384 - val_loss: 0.1538\n",
            "Epoch 95/200\n",
            "4/4 - 0s - loss: 0.1380 - val_loss: 0.1526\n",
            "Epoch 96/200\n",
            "4/4 - 0s - loss: 0.1376 - val_loss: 0.1514\n",
            "Epoch 97/200\n",
            "4/4 - 0s - loss: 0.1372 - val_loss: 0.1501\n",
            "Epoch 98/200\n",
            "4/4 - 0s - loss: 0.1369 - val_loss: 0.1487\n",
            "Epoch 99/200\n",
            "4/4 - 0s - loss: 0.1365 - val_loss: 0.1473\n",
            "Epoch 100/200\n",
            "4/4 - 0s - loss: 0.1361 - val_loss: 0.1459\n",
            "Epoch 101/200\n",
            "4/4 - 0s - loss: 0.1357 - val_loss: 0.1444\n",
            "Epoch 102/200\n",
            "4/4 - 0s - loss: 0.1354 - val_loss: 0.1432\n",
            "Epoch 103/200\n",
            "4/4 - 0s - loss: 0.1350 - val_loss: 0.1428\n",
            "Epoch 104/200\n",
            "4/4 - 0s - loss: 0.1347 - val_loss: 0.1415\n",
            "Epoch 105/200\n",
            "4/4 - 0s - loss: 0.1344 - val_loss: 0.1397\n",
            "Epoch 106/200\n",
            "4/4 - 0s - loss: 0.1339 - val_loss: 0.1383\n",
            "Epoch 107/200\n",
            "4/4 - 0s - loss: 0.1336 - val_loss: 0.1377\n",
            "Epoch 108/200\n",
            "4/4 - 0s - loss: 0.1332 - val_loss: 0.1364\n",
            "Epoch 109/200\n",
            "4/4 - 0s - loss: 0.1328 - val_loss: 0.1345\n",
            "Epoch 110/200\n",
            "4/4 - 0s - loss: 0.1324 - val_loss: 0.1330\n",
            "Epoch 111/200\n",
            "4/4 - 0s - loss: 0.1320 - val_loss: 0.1324\n",
            "Epoch 112/200\n",
            "4/4 - 0s - loss: 0.1317 - val_loss: 0.1313\n",
            "Epoch 113/200\n",
            "4/4 - 0s - loss: 0.1313 - val_loss: 0.1303\n",
            "Epoch 114/200\n",
            "4/4 - 0s - loss: 0.1310 - val_loss: 0.1296\n",
            "Epoch 115/200\n",
            "4/4 - 0s - loss: 0.1307 - val_loss: 0.1291\n",
            "Epoch 116/200\n",
            "4/4 - 0s - loss: 0.1305 - val_loss: 0.1289\n",
            "Epoch 117/200\n",
            "4/4 - 0s - loss: 0.1303 - val_loss: 0.1290\n",
            "Epoch 118/200\n",
            "4/4 - 0s - loss: 0.1301 - val_loss: 0.1292\n",
            "Epoch 119/200\n",
            "4/4 - 0s - loss: 0.1300 - val_loss: 0.1295\n",
            "Epoch 120/200\n",
            "4/4 - 0s - loss: 0.1298 - val_loss: 0.1297\n",
            "Epoch 121/200\n",
            "4/4 - 0s - loss: 0.1296 - val_loss: 0.1293\n",
            "Epoch 122/200\n",
            "4/4 - 0s - loss: 0.1294 - val_loss: 0.1284\n",
            "Epoch 123/200\n",
            "4/4 - 0s - loss: 0.1292 - val_loss: 0.1271\n",
            "Epoch 124/200\n",
            "4/4 - 0s - loss: 0.1289 - val_loss: 0.1255\n",
            "Epoch 125/200\n",
            "4/4 - 0s - loss: 0.1286 - val_loss: 0.1240\n",
            "Epoch 126/200\n",
            "4/4 - 0s - loss: 0.1284 - val_loss: 0.1229\n",
            "Epoch 127/200\n",
            "4/4 - 0s - loss: 0.1282 - val_loss: 0.1223\n",
            "Epoch 128/200\n",
            "4/4 - 0s - loss: 0.1280 - val_loss: 0.1220\n",
            "Epoch 129/200\n",
            "4/4 - 0s - loss: 0.1279 - val_loss: 0.1221\n",
            "Epoch 130/200\n",
            "4/4 - 0s - loss: 0.1278 - val_loss: 0.1226\n",
            "Epoch 131/200\n",
            "4/4 - 0s - loss: 0.1278 - val_loss: 0.1233\n",
            "Epoch 132/200\n",
            "4/4 - 0s - loss: 0.1277 - val_loss: 0.1242\n",
            "Epoch 133/200\n",
            "4/4 - 0s - loss: 0.1277 - val_loss: 0.1250\n",
            "Epoch 134/200\n",
            "4/4 - 0s - loss: 0.1277 - val_loss: 0.1255\n",
            "Epoch 135/200\n",
            "4/4 - 0s - loss: 0.1277 - val_loss: 0.1257\n",
            "Epoch 136/200\n",
            "4/4 - 0s - loss: 0.1277 - val_loss: 0.1255\n",
            "Epoch 137/200\n",
            "4/4 - 0s - loss: 0.1276 - val_loss: 0.1252\n",
            "Epoch 138/200\n",
            "4/4 - 0s - loss: 0.1275 - val_loss: 0.1249\n",
            "Epoch 139/200\n",
            "4/4 - 0s - loss: 0.1274 - val_loss: 0.1244\n",
            "Epoch 140/200\n",
            "4/4 - 0s - loss: 0.1274 - val_loss: 0.1239\n",
            "Epoch 141/200\n",
            "4/4 - 0s - loss: 0.1273 - val_loss: 0.1233\n",
            "Epoch 142/200\n",
            "4/4 - 0s - loss: 0.1272 - val_loss: 0.1227\n",
            "Epoch 143/200\n",
            "4/4 - 0s - loss: 0.1271 - val_loss: 0.1221\n",
            "Epoch 144/200\n",
            "4/4 - 0s - loss: 0.1270 - val_loss: 0.1216\n",
            "Epoch 145/200\n",
            "4/4 - 0s - loss: 0.1269 - val_loss: 0.1212\n",
            "Epoch 146/200\n",
            "4/4 - 0s - loss: 0.1268 - val_loss: 0.1212\n",
            "Epoch 147/200\n",
            "4/4 - 0s - loss: 0.1267 - val_loss: 0.1221\n",
            "Epoch 148/200\n",
            "4/4 - 0s - loss: 0.1268 - val_loss: 0.1232\n",
            "Epoch 149/200\n",
            "4/4 - 0s - loss: 0.1268 - val_loss: 0.1241\n",
            "Epoch 150/200\n",
            "4/4 - 0s - loss: 0.1269 - val_loss: 0.1245\n",
            "Epoch 151/200\n",
            "4/4 - 0s - loss: 0.1269 - val_loss: 0.1251\n",
            "Epoch 152/200\n",
            "4/4 - 0s - loss: 0.1269 - val_loss: 0.1262\n",
            "Epoch 153/200\n",
            "4/4 - 0s - loss: 0.1269 - val_loss: 0.1272\n",
            "Epoch 154/200\n",
            "4/4 - 0s - loss: 0.1270 - val_loss: 0.1278\n",
            "Epoch 155/200\n",
            "4/4 - 0s - loss: 0.1270 - val_loss: 0.1285\n",
            "Epoch 156/200\n",
            "4/4 - 0s - loss: 0.1270 - val_loss: 0.1294\n",
            "Epoch 157/200\n",
            "4/4 - 0s - loss: 0.1271 - val_loss: 0.1304\n",
            "Epoch 158/200\n",
            "4/4 - 0s - loss: 0.1271 - val_loss: 0.1311\n",
            "Epoch 159/200\n",
            "4/4 - 0s - loss: 0.1271 - val_loss: 0.1320\n",
            "Epoch 160/200\n",
            "4/4 - 0s - loss: 0.1271 - val_loss: 0.1330\n",
            "Epoch 161/200\n",
            "4/4 - 0s - loss: 0.1272 - val_loss: 0.1338\n",
            "Epoch 162/200\n",
            "4/4 - 0s - loss: 0.1272 - val_loss: 0.1347\n",
            "Epoch 163/200\n",
            "4/4 - 0s - loss: 0.1272 - val_loss: 0.1357\n",
            "Epoch 164/200\n",
            "4/4 - 0s - loss: 0.1273 - val_loss: 0.1369\n",
            "Epoch 165/200\n",
            "4/4 - 0s - loss: 0.1273 - val_loss: 0.1377\n",
            "Epoch 166/200\n",
            "4/4 - 0s - loss: 0.1273 - val_loss: 0.1384\n",
            "Epoch 167/200\n",
            "4/4 - 0s - loss: 0.1274 - val_loss: 0.1389\n",
            "Epoch 168/200\n",
            "4/4 - 0s - loss: 0.1274 - val_loss: 0.1393\n",
            "Epoch 169/200\n",
            "4/4 - 0s - loss: 0.1274 - val_loss: 0.1390\n",
            "Epoch 170/200\n",
            "4/4 - 0s - loss: 0.1273 - val_loss: 0.1372\n",
            "Epoch 171/200\n",
            "4/4 - 0s - loss: 0.1271 - val_loss: 0.1361\n",
            "Epoch 172/200\n",
            "4/4 - 0s - loss: 0.1270 - val_loss: 0.1356\n",
            "Epoch 173/200\n",
            "4/4 - 0s - loss: 0.1270 - val_loss: 0.1358\n",
            "Epoch 174/200\n",
            "4/4 - 0s - loss: 0.1270 - val_loss: 0.1362\n",
            "Epoch 175/200\n",
            "4/4 - 0s - loss: 0.1270 - val_loss: 0.1366\n",
            "Epoch 176/200\n",
            "4/4 - 0s - loss: 0.1270 - val_loss: 0.1369\n",
            "Epoch 177/200\n",
            "4/4 - 0s - loss: 0.1270 - val_loss: 0.1371\n",
            "Epoch 178/200\n",
            "4/4 - 0s - loss: 0.1269 - val_loss: 0.1374\n",
            "Epoch 179/200\n",
            "4/4 - 0s - loss: 0.1269 - val_loss: 0.1376\n",
            "Epoch 180/200\n",
            "4/4 - 0s - loss: 0.1269 - val_loss: 0.1379\n",
            "Epoch 181/200\n",
            "4/4 - 0s - loss: 0.1269 - val_loss: 0.1376\n",
            "Epoch 182/200\n",
            "4/4 - 0s - loss: 0.1268 - val_loss: 0.1361\n",
            "Epoch 183/200\n",
            "4/4 - 0s - loss: 0.1267 - val_loss: 0.1354\n",
            "Epoch 184/200\n",
            "4/4 - 0s - loss: 0.1267 - val_loss: 0.1352\n",
            "Epoch 185/200\n",
            "4/4 - 0s - loss: 0.1266 - val_loss: 0.1358\n",
            "Epoch 186/200\n",
            "4/4 - 0s - loss: 0.1267 - val_loss: 0.1369\n",
            "Epoch 187/200\n",
            "4/4 - 0s - loss: 0.1267 - val_loss: 0.1373\n",
            "Epoch 188/200\n",
            "4/4 - 0s - loss: 0.1267 - val_loss: 0.1365\n",
            "Epoch 189/200\n",
            "4/4 - 0s - loss: 0.1266 - val_loss: 0.1367\n",
            "Epoch 190/200\n",
            "4/4 - 0s - loss: 0.1266 - val_loss: 0.1376\n",
            "Epoch 191/200\n",
            "4/4 - 0s - loss: 0.1267 - val_loss: 0.1381\n",
            "Epoch 192/200\n",
            "4/4 - 0s - loss: 0.1267 - val_loss: 0.1368\n",
            "Epoch 193/200\n",
            "4/4 - 0s - loss: 0.1265 - val_loss: 0.1352\n",
            "Epoch 194/200\n",
            "4/4 - 0s - loss: 0.1265 - val_loss: 0.1351\n",
            "Epoch 195/200\n",
            "4/4 - 0s - loss: 0.1265 - val_loss: 0.1361\n",
            "Epoch 196/200\n",
            "4/4 - 0s - loss: 0.1265 - val_loss: 0.1377\n",
            "Epoch 197/200\n",
            "4/4 - 0s - loss: 0.1266 - val_loss: 0.1386\n",
            "Epoch 198/200\n",
            "4/4 - 0s - loss: 0.1266 - val_loss: 0.1372\n",
            "Epoch 199/200\n",
            "4/4 - 0s - loss: 0.1264 - val_loss: 0.1352\n",
            "Epoch 200/200\n",
            "4/4 - 0s - loss: 0.1263 - val_loss: 0.1349\n"
          ],
          "name": "stdout"
        }
      ]
    },
    {
      "cell_type": "code",
      "metadata": {
        "colab": {
          "base_uri": "https://localhost:8080/",
          "height": 267
        },
        "id": "wqeHch9kyQFJ",
        "outputId": "d4a49c7e-4d7d-441c-ec76-4374b03130c8"
      },
      "source": [
        "# plot history\n",
        "plt.plot(history.history['loss'], label='train')\n",
        "plt.plot(history.history['val_loss'], label='test')\n",
        "plt.legend()\n",
        "plt.show()"
      ],
      "execution_count": 29,
      "outputs": [
        {
          "output_type": "display_data",
          "data": {
            "image/png": "[encoded data removed]",
            "text/plain": [
              "<Figure size 432x288 with 1 Axes>"
            ]
          },
          "metadata": {
            "tags": [],
            "needs_background": "light"
          }
        }
      ]
    },
    {
      "cell_type": "markdown",
      "metadata": {
        "id": "gX1VImIbj8zi"
      },
      "source": [
        "### Testing feature selected data"
      ]
    },
    {
      "cell_type": "code",
      "metadata": {
        "colab": {
          "base_uri": "https://localhost:8080/"
        },
        "id": "DaqF9091jzf0",
        "outputId": "371618f1-5c06-44db-c802-a13cba111b0b"
      },
      "source": [
        "import math\n",
        "\n",
        "# make a prediction\n",
        "yhat = model.predict(test_X)\n",
        "test_X1 = test_X.reshape((test_X.shape[0], test_X.shape[2]))\n",
        "# invert scaling for forecast\n",
        "inv_yhat = concatenate((yhat, test_X1[:, 1:]), axis=1)\n",
        "print(inv_yhat.shape)\n",
        "#inv_yhat = scaler.inverse_transform(inv_yhat)\n",
        "inv_yhat = inv_yhat[:,0]\n",
        "# invert scaling for actual\n",
        "test_y = test_y.reshape((len(test_y), 1))\n",
        "inv_y = concatenate((test_y, test_X1[:, 1:]), axis=1)\n",
        "#inv_y = scaler.inverse_transform(inv_y)\n",
        "inv_y = inv_y[:,0]\n",
        "# calculate RMSE\n",
        "mse = mean_squared_error(inv_y, inv_yhat)\n",
        "print('Test MSE: %.3f' % mse)\n",
        "rmse = math.sqrt(mean_squared_error(inv_y, inv_yhat))\n",
        "print('Test RMSE: %.3f' % rmse)\n",
        "print('median_absolute_error', median_absolute_error(inv_y, inv_yhat))\n",
        "print('mean_absolute_error', mean_absolute_error(inv_y, inv_yhat))"
      ],
      "execution_count": 30,
      "outputs": [
        {
          "output_type": "stream",
          "text": [
            "(59, 13)\n",
            "Test MSE: 0.048\n",
            "Test RMSE: 0.219\n",
            "median_absolute_error 0.085163236\n",
            "mean_absolute_error 0.13492177\n"
          ],
          "name": "stdout"
        }
      ]
    },
    {
      "cell_type": "markdown",
      "metadata": {
        "id": "qBS3h8iqoLCo"
      },
      "source": [
        "# LSTM: Hospitalization and testing Group"
      ]
    },
    {
      "cell_type": "code",
      "metadata": {
        "id": "p7jSrWZRoLDK"
      },
      "source": [
        "\n",
        "\n",
        "X_cols_all = x_col_hospitalization_testing\n",
        "\n",
        "X_cols_feature_selected = ['X..hospital.bed.utilization', 'Testing.capacity','Tests.done.1000.people'\n",
        "                           ,'Date','New cases']\n"
      ],
      "execution_count": 186,
      "outputs": []
    },
    {
      "cell_type": "code",
      "metadata": {
        "colab": {
          "base_uri": "https://localhost:8080/",
          "height": 350
        },
        "id": "DhdOCPSdoLDL",
        "outputId": "1cad34c4-f317-4756-b4df-0d3219303b33"
      },
      "source": [
        "LA_combined_data_all = CA_superset_data[CA_superset_data['County Name'] == 'Los Angeles County'][X_cols_all]\n",
        "print(LA_combined_data_all.shape)\n",
        "\n",
        "LA_combined_data_featured = CA_superset_data[CA_superset_data['County Name'] == 'Los Angeles County'][X_cols_feature_selected]\n",
        "print(LA_combined_data_featured.shape)\n",
        "LA_combined_data_all.head(5)"
      ],
      "execution_count": 187,
      "outputs": [
        {
          "output_type": "stream",
          "text": [
            "(292, 9)\n",
            "(292, 5)\n"
          ],
          "name": "stdout"
        },
        {
          "output_type": "execute_result",
          "data": {
            "text/html": [
              "<div>\n",
              "<style scoped>\n",
              "    .dataframe tbody tr th:only-of-type {\n",
              "        vertical-align: middle;\n",
              "    }\n",
              "\n",
              "    .dataframe tbody tr th {\n",
              "        vertical-align: top;\n",
              "    }\n",
              "\n",
              "    .dataframe thead th {\n",
              "        text-align: right;\n",
              "    }\n",
              "</style>\n",
              "<table border=\"1\" class=\"dataframe\">\n",
              "  <thead>\n",
              "    <tr style=\"text-align: right;\">\n",
              "      <th></th>\n",
              "      <th>Hospital.beds.1000.people</th>\n",
              "      <th>ICUs.1000.people</th>\n",
              "      <th>X..hospital.bed.utilization</th>\n",
              "      <th>Testing.capacity</th>\n",
              "      <th>Tests.done.1000.people</th>\n",
              "      <th>X..ICU.utilization</th>\n",
              "      <th>Ventilator.shortage</th>\n",
              "      <th>Date</th>\n",
              "      <th>New cases</th>\n",
              "    </tr>\n",
              "  </thead>\n",
              "  <tbody>\n",
              "    <tr>\n",
              "      <th>4804</th>\n",
              "      <td>2.0500</td>\n",
              "      <td>0.2200</td>\n",
              "      <td>54.0000</td>\n",
              "      <td>0.0000</td>\n",
              "      <td>0.0000</td>\n",
              "      <td>0.0000</td>\n",
              "      <td>0</td>\n",
              "      <td>2020-03-01</td>\n",
              "      <td>0</td>\n",
              "    </tr>\n",
              "    <tr>\n",
              "      <th>4805</th>\n",
              "      <td>2.0500</td>\n",
              "      <td>0.2200</td>\n",
              "      <td>54.0000</td>\n",
              "      <td>0.0000</td>\n",
              "      <td>0.0000</td>\n",
              "      <td>0.0000</td>\n",
              "      <td>0</td>\n",
              "      <td>2020-03-02</td>\n",
              "      <td>0</td>\n",
              "    </tr>\n",
              "    <tr>\n",
              "      <th>4806</th>\n",
              "      <td>2.0500</td>\n",
              "      <td>0.2200</td>\n",
              "      <td>54.0000</td>\n",
              "      <td>0.0000</td>\n",
              "      <td>0.0000</td>\n",
              "      <td>0.0000</td>\n",
              "      <td>0</td>\n",
              "      <td>2020-03-03</td>\n",
              "      <td>0</td>\n",
              "    </tr>\n",
              "    <tr>\n",
              "      <th>4807</th>\n",
              "      <td>2.0500</td>\n",
              "      <td>0.2200</td>\n",
              "      <td>54.0000</td>\n",
              "      <td>10.3000</td>\n",
              "      <td>0.0100</td>\n",
              "      <td>0.0000</td>\n",
              "      <td>0</td>\n",
              "      <td>2020-03-04</td>\n",
              "      <td>6</td>\n",
              "    </tr>\n",
              "    <tr>\n",
              "      <th>4808</th>\n",
              "      <td>2.0500</td>\n",
              "      <td>0.2200</td>\n",
              "      <td>54.0000</td>\n",
              "      <td>10.3000</td>\n",
              "      <td>0.0100</td>\n",
              "      <td>0.0000</td>\n",
              "      <td>0</td>\n",
              "      <td>2020-03-05</td>\n",
              "      <td>4</td>\n",
              "    </tr>\n",
              "  </tbody>\n",
              "</table>\n",
              "</div>"
            ],
            "text/plain": [
              "      Hospital.beds.1000.people  ICUs.1000.people  ...        Date  New cases\n",
              "4804                     2.0500            0.2200  ...  2020-03-01          0\n",
              "4805                     2.0500            0.2200  ...  2020-03-02          0\n",
              "4806                     2.0500            0.2200  ...  2020-03-03          0\n",
              "4807                     2.0500            0.2200  ...  2020-03-04          6\n",
              "4808                     2.0500            0.2200  ...  2020-03-05          4\n",
              "\n",
              "[5 rows x 9 columns]"
            ]
          },
          "metadata": {
            "tags": []
          },
          "execution_count": 187
        }
      ]
    },
    {
      "cell_type": "code",
      "metadata": {
        "id": "asEGY01coLDM"
      },
      "source": [
        "from datetime import datetime\n",
        "# load data\n",
        "def parse(x):\n",
        "\treturn datetime.strptime(x, '%Y-%m-%d')\n",
        " \n",
        "def datetime_to_float(d):\n",
        "    date_time_obj = datetime.strptime(d, '%Y-%m-%d')\n",
        "    return date_time_obj.timestamp()"
      ],
      "execution_count": 188,
      "outputs": []
    },
    {
      "cell_type": "code",
      "metadata": {
        "colab": {
          "base_uri": "https://localhost:8080/"
        },
        "id": "N4OpSZAkoLDN",
        "outputId": "45baab72-f744-4a52-ea48-3af5cf540ab5"
      },
      "source": [
        "len(LA_combined_data_featured.columns)"
      ],
      "execution_count": 189,
      "outputs": [
        {
          "output_type": "execute_result",
          "data": {
            "text/plain": [
              "5"
            ]
          },
          "metadata": {
            "tags": []
          },
          "execution_count": 189
        }
      ]
    },
    {
      "cell_type": "code",
      "metadata": {
        "colab": {
          "base_uri": "https://localhost:8080/",
          "height": 196
        },
        "id": "e0kDd3GUoLDN",
        "outputId": "36235536-ddc0-41e6-ebcd-0bec8027a1c6"
      },
      "source": [
        "LA_combined_data_featured['Date'] = LA_combined_data_featured['Date'].apply(lambda x: datetime_to_float(x))\n",
        "LA_combined_data_all['Date'] = LA_combined_data_all['Date'].apply(lambda x: datetime_to_float(x))\n",
        "\n",
        "#Harris_combined_data.index.name = 'Date'\n",
        "LA_combined_data_featured.head()"
      ],
      "execution_count": 190,
      "outputs": [
        {
          "output_type": "execute_result",
          "data": {
            "text/html": [
              "<div>\n",
              "<style scoped>\n",
              "    .dataframe tbody tr th:only-of-type {\n",
              "        vertical-align: middle;\n",
              "    }\n",
              "\n",
              "    .dataframe tbody tr th {\n",
              "        vertical-align: top;\n",
              "    }\n",
              "\n",
              "    .dataframe thead th {\n",
              "        text-align: right;\n",
              "    }\n",
              "</style>\n",
              "<table border=\"1\" class=\"dataframe\">\n",
              "  <thead>\n",
              "    <tr style=\"text-align: right;\">\n",
              "      <th></th>\n",
              "      <th>X..hospital.bed.utilization</th>\n",
              "      <th>Testing.capacity</th>\n",
              "      <th>Tests.done.1000.people</th>\n",
              "      <th>Date</th>\n",
              "      <th>New cases</th>\n",
              "    </tr>\n",
              "  </thead>\n",
              "  <tbody>\n",
              "    <tr>\n",
              "      <th>4804</th>\n",
              "      <td>54.0000</td>\n",
              "      <td>0.0000</td>\n",
              "      <td>0.0000</td>\n",
              "      <td>1583020800.0000</td>\n",
              "      <td>0</td>\n",
              "    </tr>\n",
              "    <tr>\n",
              "      <th>4805</th>\n",
              "      <td>54.0000</td>\n",
              "      <td>0.0000</td>\n",
              "      <td>0.0000</td>\n",
              "      <td>1583107200.0000</td>\n",
              "      <td>0</td>\n",
              "    </tr>\n",
              "    <tr>\n",
              "      <th>4806</th>\n",
              "      <td>54.0000</td>\n",
              "      <td>0.0000</td>\n",
              "      <td>0.0000</td>\n",
              "      <td>1583193600.0000</td>\n",
              "      <td>0</td>\n",
              "    </tr>\n",
              "    <tr>\n",
              "      <th>4807</th>\n",
              "      <td>54.0000</td>\n",
              "      <td>10.3000</td>\n",
              "      <td>0.0100</td>\n",
              "      <td>1583280000.0000</td>\n",
              "      <td>6</td>\n",
              "    </tr>\n",
              "    <tr>\n",
              "      <th>4808</th>\n",
              "      <td>54.0000</td>\n",
              "      <td>10.3000</td>\n",
              "      <td>0.0100</td>\n",
              "      <td>1583366400.0000</td>\n",
              "      <td>4</td>\n",
              "    </tr>\n",
              "  </tbody>\n",
              "</table>\n",
              "</div>"
            ],
            "text/plain": [
              "      X..hospital.bed.utilization  Testing.capacity  ...            Date  New cases\n",
              "4804                      54.0000            0.0000  ... 1583020800.0000          0\n",
              "4805                      54.0000            0.0000  ... 1583107200.0000          0\n",
              "4806                      54.0000            0.0000  ... 1583193600.0000          0\n",
              "4807                      54.0000           10.3000  ... 1583280000.0000          6\n",
              "4808                      54.0000           10.3000  ... 1583366400.0000          4\n",
              "\n",
              "[5 rows x 5 columns]"
            ]
          },
          "metadata": {
            "tags": []
          },
          "execution_count": 190
        }
      ]
    },
    {
      "cell_type": "code",
      "metadata": {
        "colab": {
          "base_uri": "https://localhost:8080/"
        },
        "id": "eQvpzYsaoLDO",
        "outputId": "a1812827-e746-4515-b099-fe0c5e649efa"
      },
      "source": [
        "print(len(LA_combined_data_featured.columns))\n",
        "LA_combined_data_featured.dtypes"
      ],
      "execution_count": 191,
      "outputs": [
        {
          "output_type": "stream",
          "text": [
            "5\n"
          ],
          "name": "stdout"
        },
        {
          "output_type": "execute_result",
          "data": {
            "text/plain": [
              "X..hospital.bed.utilization    float64\n",
              "Testing.capacity               float64\n",
              "Tests.done.1000.people         float64\n",
              "Date                           float64\n",
              "New cases                        int64\n",
              "dtype: object"
            ]
          },
          "metadata": {
            "tags": []
          },
          "execution_count": 191
        }
      ]
    },
    {
      "cell_type": "markdown",
      "metadata": {
        "id": "MfKXE4UIoLDO"
      },
      "source": [
        "## Preprocessing data for LSTM"
      ]
    },
    {
      "cell_type": "code",
      "metadata": {
        "id": "i6Mkz4kwoLDP"
      },
      "source": [
        "LA_combined_data_all_selected = LA_combined_data_all[X_cols_all]\n",
        "LA_combined_data_featured_selected = LA_combined_data_featured[X_cols_feature_selected]"
      ],
      "execution_count": 192,
      "outputs": []
    },
    {
      "cell_type": "code",
      "metadata": {
        "id": "XTuDJAzFoLDP"
      },
      "source": [
        "\n",
        "# prepare data for lstm\n",
        "from pandas import read_csv\n",
        "from pandas import DataFrame\n",
        "from pandas import concat\n",
        "from sklearn.preprocessing import LabelEncoder\n",
        "from sklearn.preprocessing import MinMaxScaler\n",
        " \n",
        "# convert series to supervised learning\n",
        "def series_to_supervised(data, n_in=1, n_out=1, dropnan=True):\n",
        "\tn_vars = 1 if type(data) is list else data.shape[1]\n",
        "\tdf = DataFrame(data)\n",
        "\tcols, names = list(), list()\n",
        "\t# input sequence (t-n, ... t-1)\n",
        "\tfor i in range(n_in, 0, -1):\n",
        "\t\tcols.append(df.shift(i))\n",
        "\t\tnames += [('var%d(t-%d)' % (j+1, i)) for j in range(n_vars)]\n",
        "\t# forecast sequence (t, t+1, ... t+n)\n",
        "\tfor i in range(0, n_out):\n",
        "\t\tcols.append(df.shift(-i))\n",
        "\t\tif i == 0:\n",
        "\t\t\tnames += [('var%d(t)' % (j+1)) for j in range(n_vars)]\n",
        "\t\telse:\n",
        "\t\t\tnames += [('var%d(t+%d)' % (j+1, i)) for j in range(n_vars)]\n",
        "\t# put it all together\n",
        "\tagg = concat(cols, axis=1)\n",
        "\tagg.columns = names\n",
        "\t# drop rows with NaN values\n",
        "\tif dropnan:\n",
        "\t\tagg.dropna(inplace=True)\n",
        "\treturn agg"
      ],
      "execution_count": 193,
      "outputs": []
    },
    {
      "cell_type": "markdown",
      "metadata": {
        "id": "WR7ppBNCoLDQ"
      },
      "source": [
        "## All values for CA training data"
      ]
    },
    {
      "cell_type": "code",
      "metadata": {
        "colab": {
          "base_uri": "https://localhost:8080/"
        },
        "id": "a7BZI3hDoLDQ",
        "outputId": "1380949e-208e-41e6-f421-03dad268d59e"
      },
      "source": [
        "values = LA_combined_data_all_selected.values\n",
        "# integer encode direction\n",
        "encoder = LabelEncoder()\n",
        "values[:,len(X_cols_all)-1] = encoder.fit_transform(values[:,len(X_cols_all)-1])\n",
        "# ensure all data is float\n",
        "values = values.astype('float32')\n",
        "# normalize features\n",
        "scaler = MinMaxScaler(feature_range=(0, 1))\n",
        "scaled = scaler.fit_transform(values)\n",
        "# frame as supervised learning\n",
        "reframed = series_to_supervised(scaled, 1, 1)\n",
        "# drop columns we don't want to predict\n",
        "#reframed.drop(reframed.columns[[9,10,11,12,13,14,15]], axis=1, inplace=True)\n",
        "print(reframed.head())"
      ],
      "execution_count": 194,
      "outputs": [
        {
          "output_type": "stream",
          "text": [
            "   var1(t-1)  var2(t-1)  var3(t-1)  ...  var7(t)  var8(t)  var9(t)\n",
            "1     0.0000     0.0000     0.0000  ...   0.0000   0.0033   0.0000\n",
            "2     0.0000     0.0000     0.0000  ...   0.0000   0.0066   0.0000\n",
            "3     0.0000     0.0000     0.0000  ...   0.0000   0.0099   0.0186\n",
            "4     0.0000     0.0000     0.0000  ...   0.0000   0.0132   0.0112\n",
            "5     0.0000     0.0000     0.0000  ...   0.0003   0.0166   0.0074\n",
            "\n",
            "[5 rows x 18 columns]\n"
          ],
          "name": "stdout"
        }
      ]
    },
    {
      "cell_type": "markdown",
      "metadata": {
        "id": "c2h1QolXoLDQ"
      },
      "source": [
        "## Train Test Split"
      ]
    },
    {
      "cell_type": "code",
      "metadata": {
        "colab": {
          "base_uri": "https://localhost:8080/"
        },
        "id": "aWxCEFMRoLDR",
        "outputId": "4249d1ae-6e9f-4c54-ac68-a51b16422ba1"
      },
      "source": [
        "values.shape[0]"
      ],
      "execution_count": 195,
      "outputs": [
        {
          "output_type": "execute_result",
          "data": {
            "text/plain": [
              "292"
            ]
          },
          "metadata": {
            "tags": []
          },
          "execution_count": 195
        }
      ]
    },
    {
      "cell_type": "code",
      "metadata": {
        "colab": {
          "base_uri": "https://localhost:8080/"
        },
        "id": "WZf3ra56oLDR",
        "outputId": "3d2ddeb4-4c88-42ab-e58b-b16b12bb231b"
      },
      "source": [
        "\n",
        "# split into train and test sets\n",
        "values = reframed.values\n",
        "rows_count = values.shape[0]\n",
        "# split the 1/5 value\n",
        "train_split = rows_count//5\n",
        "\n",
        "n_train_hours = train_split * 4\n",
        "\n",
        "print(n_train_hours)\n",
        "print('values shape ',values.shape)\n",
        "train = values[:n_train_hours, :]\n",
        "test = values[n_train_hours:, :]\n",
        "# split into input and outputs\n",
        "train_X, train_y = train[:, :-1], train[:, -1]\n",
        "test_X, test_y = test[:, :-1], test[:, -1]\n",
        "# reshape input to be 3D [samples, timesteps, features]\n",
        "train_X = train_X.reshape((train_X.shape[0], 1, train_X.shape[1]))\n",
        "test_X = test_X.reshape((test_X.shape[0], 1, test_X.shape[1]))\n",
        "print(train_X.shape, train_y.shape, test_X.shape, test_y.shape)"
      ],
      "execution_count": 196,
      "outputs": [
        {
          "output_type": "stream",
          "text": [
            "232\n",
            "values shape  (291, 18)\n",
            "(232, 1, 17) (232,) (59, 1, 17) (59,)\n"
          ],
          "name": "stdout"
        }
      ]
    },
    {
      "cell_type": "markdown",
      "metadata": {
        "id": "EO9fFm4ooLDS"
      },
      "source": [
        "## Training LSTM"
      ]
    },
    {
      "cell_type": "code",
      "metadata": {
        "colab": {
          "base_uri": "https://localhost:8080/",
          "height": 1000
        },
        "id": "VjJTXtDfoLDS",
        "outputId": "eb6a8231-cc74-4235-f232-ba35d5d79c9c"
      },
      "source": [
        "...\n",
        "# design network\n",
        "model = Sequential()\n",
        "model.add(LSTM(50, input_shape=(train_X.shape[1], train_X.shape[2])))\n",
        "model.add(Dense(1))\n",
        "model.compile(loss='mae', optimizer='adam')\n",
        "# fit network\n",
        "history = model.fit(train_X, train_y, epochs=100, batch_size=72, validation_data=(test_X, test_y), verbose=2, shuffle=False)\n",
        "# plot history\n",
        "plt.plot(history.history['loss'], label='train')\n",
        "plt.plot(history.history['val_loss'], label='test')\n",
        "plt.legend()\n",
        "plt.show()"
      ],
      "execution_count": 197,
      "outputs": [
        {
          "output_type": "stream",
          "text": [
            "Epoch 1/100\n",
            "4/4 - 2s - loss: 0.3905 - val_loss: 0.6615\n",
            "Epoch 2/100\n",
            "4/4 - 0s - loss: 0.3482 - val_loss: 0.5904\n",
            "Epoch 3/100\n",
            "4/4 - 0s - loss: 0.3104 - val_loss: 0.5209\n",
            "Epoch 4/100\n",
            "4/4 - 0s - loss: 0.2745 - val_loss: 0.4503\n",
            "Epoch 5/100\n",
            "4/4 - 0s - loss: 0.2418 - val_loss: 0.3821\n",
            "Epoch 6/100\n",
            "4/4 - 0s - loss: 0.2164 - val_loss: 0.3180\n",
            "Epoch 7/100\n",
            "4/4 - 0s - loss: 0.1983 - val_loss: 0.2628\n",
            "Epoch 8/100\n",
            "4/4 - 0s - loss: 0.1870 - val_loss: 0.2187\n",
            "Epoch 9/100\n",
            "4/4 - 0s - loss: 0.1795 - val_loss: 0.1901\n",
            "Epoch 10/100\n",
            "4/4 - 0s - loss: 0.1748 - val_loss: 0.1777\n",
            "Epoch 11/100\n",
            "4/4 - 0s - loss: 0.1718 - val_loss: 0.1726\n",
            "Epoch 12/100\n",
            "4/4 - 0s - loss: 0.1695 - val_loss: 0.1713\n",
            "Epoch 13/100\n",
            "4/4 - 0s - loss: 0.1674 - val_loss: 0.1727\n",
            "Epoch 14/100\n",
            "4/4 - 0s - loss: 0.1655 - val_loss: 0.1751\n",
            "Epoch 15/100\n",
            "4/4 - 0s - loss: 0.1637 - val_loss: 0.1781\n",
            "Epoch 16/100\n",
            "4/4 - 0s - loss: 0.1620 - val_loss: 0.1817\n",
            "Epoch 17/100\n",
            "4/4 - 0s - loss: 0.1603 - val_loss: 0.1855\n",
            "Epoch 18/100\n",
            "4/4 - 0s - loss: 0.1586 - val_loss: 0.1892\n",
            "Epoch 19/100\n",
            "4/4 - 0s - loss: 0.1570 - val_loss: 0.1924\n",
            "Epoch 20/100\n",
            "4/4 - 0s - loss: 0.1552 - val_loss: 0.1936\n",
            "Epoch 21/100\n",
            "4/4 - 0s - loss: 0.1531 - val_loss: 0.1936\n",
            "Epoch 22/100\n",
            "4/4 - 0s - loss: 0.1510 - val_loss: 0.1934\n",
            "Epoch 23/100\n",
            "4/4 - 0s - loss: 0.1488 - val_loss: 0.1930\n",
            "Epoch 24/100\n",
            "4/4 - 0s - loss: 0.1467 - val_loss: 0.1926\n",
            "Epoch 25/100\n",
            "4/4 - 0s - loss: 0.1445 - val_loss: 0.1922\n",
            "Epoch 26/100\n",
            "4/4 - 0s - loss: 0.1424 - val_loss: 0.1924\n",
            "Epoch 27/100\n",
            "4/4 - 0s - loss: 0.1404 - val_loss: 0.1935\n",
            "Epoch 28/100\n",
            "4/4 - 0s - loss: 0.1385 - val_loss: 0.1948\n",
            "Epoch 29/100\n",
            "4/4 - 0s - loss: 0.1369 - val_loss: 0.1966\n",
            "Epoch 30/100\n",
            "4/4 - 0s - loss: 0.1353 - val_loss: 0.1985\n",
            "Epoch 31/100\n",
            "4/4 - 0s - loss: 0.1340 - val_loss: 0.2005\n",
            "Epoch 32/100\n",
            "4/4 - 0s - loss: 0.1327 - val_loss: 0.2029\n",
            "Epoch 33/100\n",
            "4/4 - 0s - loss: 0.1317 - val_loss: 0.2056\n",
            "Epoch 34/100\n",
            "4/4 - 0s - loss: 0.1307 - val_loss: 0.2083\n",
            "Epoch 35/100\n",
            "4/4 - 0s - loss: 0.1298 - val_loss: 0.2109\n",
            "Epoch 36/100\n",
            "4/4 - 0s - loss: 0.1290 - val_loss: 0.2129\n",
            "Epoch 37/100\n",
            "4/4 - 0s - loss: 0.1283 - val_loss: 0.2141\n",
            "Epoch 38/100\n",
            "4/4 - 0s - loss: 0.1274 - val_loss: 0.2147\n",
            "Epoch 39/100\n",
            "4/4 - 0s - loss: 0.1267 - val_loss: 0.2151\n",
            "Epoch 40/100\n",
            "4/4 - 0s - loss: 0.1261 - val_loss: 0.2151\n",
            "Epoch 41/100\n",
            "4/4 - 0s - loss: 0.1257 - val_loss: 0.2152\n",
            "Epoch 42/100\n",
            "4/4 - 0s - loss: 0.1253 - val_loss: 0.2149\n",
            "Epoch 43/100\n",
            "4/4 - 0s - loss: 0.1249 - val_loss: 0.2148\n",
            "Epoch 44/100\n",
            "4/4 - 0s - loss: 0.1246 - val_loss: 0.2151\n",
            "Epoch 45/100\n",
            "4/4 - 0s - loss: 0.1243 - val_loss: 0.2152\n",
            "Epoch 46/100\n",
            "4/4 - 0s - loss: 0.1241 - val_loss: 0.2150\n",
            "Epoch 47/100\n",
            "4/4 - 0s - loss: 0.1238 - val_loss: 0.2148\n",
            "Epoch 48/100\n",
            "4/4 - 0s - loss: 0.1236 - val_loss: 0.2145\n",
            "Epoch 49/100\n",
            "4/4 - 0s - loss: 0.1234 - val_loss: 0.2142\n",
            "Epoch 50/100\n",
            "4/4 - 0s - loss: 0.1231 - val_loss: 0.2138\n",
            "Epoch 51/100\n",
            "4/4 - 0s - loss: 0.1229 - val_loss: 0.2134\n",
            "Epoch 52/100\n",
            "4/4 - 0s - loss: 0.1227 - val_loss: 0.2130\n",
            "Epoch 53/100\n",
            "4/4 - 0s - loss: 0.1225 - val_loss: 0.2127\n",
            "Epoch 54/100\n",
            "4/4 - 0s - loss: 0.1223 - val_loss: 0.2125\n",
            "Epoch 55/100\n",
            "4/4 - 0s - loss: 0.1220 - val_loss: 0.2122\n",
            "Epoch 56/100\n",
            "4/4 - 0s - loss: 0.1218 - val_loss: 0.2118\n",
            "Epoch 57/100\n",
            "4/4 - 0s - loss: 0.1216 - val_loss: 0.2115\n",
            "Epoch 58/100\n",
            "4/4 - 0s - loss: 0.1214 - val_loss: 0.2112\n",
            "Epoch 59/100\n",
            "4/4 - 0s - loss: 0.1212 - val_loss: 0.2110\n",
            "Epoch 60/100\n",
            "4/4 - 0s - loss: 0.1210 - val_loss: 0.2107\n",
            "Epoch 61/100\n",
            "4/4 - 0s - loss: 0.1208 - val_loss: 0.2104\n",
            "Epoch 62/100\n",
            "4/4 - 0s - loss: 0.1205 - val_loss: 0.2102\n",
            "Epoch 63/100\n",
            "4/4 - 0s - loss: 0.1203 - val_loss: 0.2099\n",
            "Epoch 64/100\n",
            "4/4 - 0s - loss: 0.1201 - val_loss: 0.2096\n",
            "Epoch 65/100\n",
            "4/4 - 0s - loss: 0.1199 - val_loss: 0.2092\n",
            "Epoch 66/100\n",
            "4/4 - 0s - loss: 0.1196 - val_loss: 0.2086\n",
            "Epoch 67/100\n",
            "4/4 - 0s - loss: 0.1194 - val_loss: 0.2080\n",
            "Epoch 68/100\n",
            "4/4 - 0s - loss: 0.1192 - val_loss: 0.2075\n",
            "Epoch 69/100\n",
            "4/4 - 0s - loss: 0.1190 - val_loss: 0.2070\n",
            "Epoch 70/100\n",
            "4/4 - 0s - loss: 0.1188 - val_loss: 0.2065\n",
            "Epoch 71/100\n",
            "4/4 - 0s - loss: 0.1185 - val_loss: 0.2061\n",
            "Epoch 72/100\n",
            "4/4 - 0s - loss: 0.1183 - val_loss: 0.2058\n",
            "Epoch 73/100\n",
            "4/4 - 0s - loss: 0.1181 - val_loss: 0.2056\n",
            "Epoch 74/100\n",
            "4/4 - 0s - loss: 0.1179 - val_loss: 0.2055\n",
            "Epoch 75/100\n",
            "4/4 - 0s - loss: 0.1177 - val_loss: 0.2055\n",
            "Epoch 76/100\n",
            "4/4 - 0s - loss: 0.1175 - val_loss: 0.2053\n",
            "Epoch 77/100\n",
            "4/4 - 0s - loss: 0.1173 - val_loss: 0.2041\n",
            "Epoch 78/100\n",
            "4/4 - 0s - loss: 0.1172 - val_loss: 0.2026\n",
            "Epoch 79/100\n",
            "4/4 - 0s - loss: 0.1171 - val_loss: 0.2021\n",
            "Epoch 80/100\n",
            "4/4 - 0s - loss: 0.1169 - val_loss: 0.2017\n",
            "Epoch 81/100\n",
            "4/4 - 0s - loss: 0.1167 - val_loss: 0.2006\n",
            "Epoch 82/100\n",
            "4/4 - 0s - loss: 0.1166 - val_loss: 0.2000\n",
            "Epoch 83/100\n",
            "4/4 - 0s - loss: 0.1164 - val_loss: 0.1986\n",
            "Epoch 84/100\n",
            "4/4 - 0s - loss: 0.1163 - val_loss: 0.1974\n",
            "Epoch 85/100\n",
            "4/4 - 0s - loss: 0.1162 - val_loss: 0.1971\n",
            "Epoch 86/100\n",
            "4/4 - 0s - loss: 0.1160 - val_loss: 0.1959\n",
            "Epoch 87/100\n",
            "4/4 - 0s - loss: 0.1159 - val_loss: 0.1948\n",
            "Epoch 88/100\n",
            "4/4 - 0s - loss: 0.1157 - val_loss: 0.1950\n",
            "Epoch 89/100\n",
            "4/4 - 0s - loss: 0.1156 - val_loss: 0.1954\n",
            "Epoch 90/100\n",
            "4/4 - 0s - loss: 0.1154 - val_loss: 0.1939\n",
            "Epoch 91/100\n",
            "4/4 - 0s - loss: 0.1153 - val_loss: 0.1919\n",
            "Epoch 92/100\n",
            "4/4 - 0s - loss: 0.1152 - val_loss: 0.1915\n",
            "Epoch 93/100\n",
            "4/4 - 0s - loss: 0.1151 - val_loss: 0.1921\n",
            "Epoch 94/100\n",
            "4/4 - 0s - loss: 0.1150 - val_loss: 0.1925\n",
            "Epoch 95/100\n",
            "4/4 - 0s - loss: 0.1149 - val_loss: 0.1908\n",
            "Epoch 96/100\n",
            "4/4 - 0s - loss: 0.1148 - val_loss: 0.1885\n",
            "Epoch 97/100\n",
            "4/4 - 0s - loss: 0.1147 - val_loss: 0.1885\n",
            "Epoch 98/100\n",
            "4/4 - 0s - loss: 0.1145 - val_loss: 0.1901\n",
            "Epoch 99/100\n",
            "4/4 - 0s - loss: 0.1144 - val_loss: 0.1913\n",
            "Epoch 100/100\n",
            "4/4 - 0s - loss: 0.1143 - val_loss: 0.1900\n"
          ],
          "name": "stdout"
        },
        {
          "output_type": "display_data",
          "data": {
            "image/png": "[encoded data removed]",
            "text/plain": [
              "<Figure size 432x288 with 1 Axes>"
            ]
          },
          "metadata": {
            "tags": [],
            "needs_background": "light"
          }
        }
      ]
    },
    {
      "cell_type": "code",
      "metadata": {
        "colab": {
          "base_uri": "https://localhost:8080/",
          "height": 267
        },
        "id": "SOfcOrlZrQlP",
        "outputId": "ff12d98f-194c-4d36-e3b9-3f73ac537b57"
      },
      "source": [
        "# plot history\r\n",
        "plt.plot(history.history['loss'], label='train')\r\n",
        "plt.plot(history.history['val_loss'], label='test')\r\n",
        "plt.legend()\r\n",
        "plt.show()"
      ],
      "execution_count": 198,
      "outputs": [
        {
          "output_type": "display_data",
          "data": {
            "image/png": "[encoded data removed]",
            "text/plain": [
              "<Figure size 432x288 with 1 Axes>"
            ]
          },
          "metadata": {
            "tags": [],
            "needs_background": "light"
          }
        }
      ]
    },
    {
      "cell_type": "markdown",
      "metadata": {
        "id": "NCg1x6sfoLDS"
      },
      "source": [
        "## Test"
      ]
    },
    {
      "cell_type": "code",
      "metadata": {
        "colab": {
          "base_uri": "https://localhost:8080/"
        },
        "id": "2U_9xR5CoLDS",
        "outputId": "1905ad8a-c863-4ba9-8d4c-dcec9e719761"
      },
      "source": [
        "import math\n",
        "\n",
        "# make a prediction\n",
        "yhat = model.predict(test_X)\n",
        "test_X1 = test_X.reshape((test_X.shape[0], test_X.shape[2]))\n",
        "# invert scaling for forecast\n",
        "inv_yhat = concatenate((yhat, test_X1[:, 1:]), axis=1)\n",
        "print(inv_yhat.shape)\n",
        "#inv_yhat = scaler.inverse_transform(inv_yhat)\n",
        "inv_yhat = inv_yhat[:,0]\n",
        "# invert scaling for actual\n",
        "test_y = test_y.reshape((len(test_y), 1))\n",
        "inv_y = concatenate((test_y, test_X1[:, 1:]), axis=1)\n",
        "#inv_y = scaler.inverse_transform(inv_y)\n",
        "inv_y = inv_y[:,0]\n",
        "# calculate RMSE\n",
        "mse = mean_squared_error(inv_y, inv_yhat)\n",
        "print('Test MSE: %.3f' % mse)\n",
        "rmse = math.sqrt(mean_squared_error(inv_y, inv_yhat))\n",
        "print('Test RMSE: %.3f' % rmse)\n",
        "\n",
        "print('median_absolute_error', median_absolute_error(inv_y, inv_yhat))\n",
        "print('mean_absolute_error', mean_absolute_error(inv_y, inv_yhat))"
      ],
      "execution_count": 199,
      "outputs": [
        {
          "output_type": "stream",
          "text": [
            "WARNING:tensorflow:6 out of the last 11 calls to <function Model.make_predict_function.<locals>.predict_function at 0x7fc924cb29d8> triggered tf.function retracing. Tracing is expensive and the excessive number of tracings could be due to (1) creating @tf.function repeatedly in a loop, (2) passing tensors with different shapes, (3) passing Python objects instead of tensors. For (1), please define your @tf.function outside of the loop. For (2), @tf.function has experimental_relax_shapes=True option that relaxes argument shapes that can avoid unnecessary retracing. For (3), please refer to https://www.tensorflow.org/guide/function#controlling_retracing and https://www.tensorflow.org/api_docs/python/tf/function for  more details.\n",
            "(59, 17)\n",
            "Test MSE: 0.058\n",
            "Test RMSE: 0.241\n",
            "median_absolute_error 0.17896634\n",
            "mean_absolute_error 0.18997414\n"
          ],
          "name": "stdout"
        }
      ]
    },
    {
      "cell_type": "markdown",
      "metadata": {
        "id": "yW1ODNyeoLDT"
      },
      "source": [
        "## Preprocessing feature selected data for training"
      ]
    },
    {
      "cell_type": "code",
      "metadata": {
        "colab": {
          "base_uri": "https://localhost:8080/"
        },
        "id": "0NtrO1iVoLDT",
        "outputId": "c97ada47-6674-498a-8e65-70476d7698e8"
      },
      "source": [
        "len(LA_combined_data_featured_selected.columns)"
      ],
      "execution_count": 200,
      "outputs": [
        {
          "output_type": "execute_result",
          "data": {
            "text/plain": [
              "5"
            ]
          },
          "metadata": {
            "tags": []
          },
          "execution_count": 200
        }
      ]
    },
    {
      "cell_type": "code",
      "metadata": {
        "colab": {
          "base_uri": "https://localhost:8080/"
        },
        "id": "TbLBFNSToLDT",
        "outputId": "b9d5704b-dd47-4462-c72d-17da5b2dd066"
      },
      "source": [
        "values = LA_combined_data_featured_selected.values\n",
        "# integer encode direction\n",
        "encoder = LabelEncoder()\n",
        "values[:,len(X_cols_feature_selected)-1] = encoder.fit_transform(values[:,len(X_cols_feature_selected)-1])\n",
        "# ensure all data is float\n",
        "values = values.astype('float32')\n",
        "# normalize features\n",
        "scaler = MinMaxScaler(feature_range=(0, 1))\n",
        "scaled = scaler.fit_transform(values)\n",
        "# frame as supervised learning\n",
        "reframed = series_to_supervised(scaled, 1, 1)\n",
        "# drop columns we don't want to predict\n",
        "#reframed.drop(reframed.columns[[9,10,11,12,13,14,15]], axis=1, inplace=True)\n",
        "print(reframed.head())"
      ],
      "execution_count": 201,
      "outputs": [
        {
          "output_type": "stream",
          "text": [
            "   var1(t-1)  var2(t-1)  var3(t-1)  ...  var3(t)  var4(t)  var5(t)\n",
            "1     0.0000     0.0000     0.0000  ...   0.0000   0.0033   0.0000\n",
            "2     0.0000     0.0000     0.0000  ...   0.0000   0.0066   0.0000\n",
            "3     0.0000     0.0000     0.0000  ...   0.0000   0.0099   0.0186\n",
            "4     0.0000     0.3399     0.0000  ...   0.0000   0.0132   0.0112\n",
            "5     0.0000     0.3399     0.0000  ...   0.0000   0.0166   0.0074\n",
            "\n",
            "[5 rows x 10 columns]\n"
          ],
          "name": "stdout"
        }
      ]
    },
    {
      "cell_type": "markdown",
      "metadata": {
        "id": "7gMESMXuoLDU"
      },
      "source": [
        "### Train Test split"
      ]
    },
    {
      "cell_type": "code",
      "metadata": {
        "colab": {
          "base_uri": "https://localhost:8080/"
        },
        "id": "h9SEA-t0oLDU",
        "outputId": "d9cac822-3a1a-45ce-9999-fd7e682ec8b6"
      },
      "source": [
        "\n",
        "# split into train and test sets\n",
        "values = reframed.values\n",
        "rows_count = values.shape[0]\n",
        "# split the 1/5 value\n",
        "train_split = rows_count//5\n",
        "\n",
        "n_train_hours = train_split * 4\n",
        "\n",
        "print(n_train_hours)\n",
        "print('values shape ',values.shape)\n",
        "train = values[:n_train_hours, :]\n",
        "test = values[n_train_hours:, :]\n",
        "# split into input and outputs\n",
        "train_X, train_y = train[:, :-1], train[:, -1]\n",
        "test_X, test_y = test[:, :-1], test[:, -1]\n",
        "# reshape input to be 3D [samples, timesteps, features]\n",
        "train_X = train_X.reshape((train_X.shape[0], 1, train_X.shape[1]))\n",
        "test_X = test_X.reshape((test_X.shape[0], 1, test_X.shape[1]))\n",
        "print(train_X.shape, train_y.shape, test_X.shape, test_y.shape)"
      ],
      "execution_count": 202,
      "outputs": [
        {
          "output_type": "stream",
          "text": [
            "232\n",
            "values shape  (291, 10)\n",
            "(232, 1, 9) (232,) (59, 1, 9) (59,)\n"
          ],
          "name": "stdout"
        }
      ]
    },
    {
      "cell_type": "markdown",
      "metadata": {
        "id": "lgk6bleFoLDU"
      },
      "source": [
        "### Training LSTM for feature selected data"
      ]
    },
    {
      "cell_type": "code",
      "metadata": {
        "colab": {
          "base_uri": "https://localhost:8080/"
        },
        "id": "PbTb3tMgoLDU",
        "outputId": "e1861817-beaa-47e4-ef2b-6d0ad1df4370"
      },
      "source": [
        "...\n",
        "# design network\n",
        "model = Sequential()\n",
        "model.add(LSTM(50, input_shape=(train_X.shape[1], train_X.shape[2])))\n",
        "model.add(Dense(1))\n",
        "model.compile(loss='mae', optimizer='adam')\n",
        "# fit network\n",
        "history = model.fit(train_X, train_y, epochs=200, batch_size=72, validation_data=(test_X, test_y), verbose=2, shuffle=False)\n"
      ],
      "execution_count": 203,
      "outputs": [
        {
          "output_type": "stream",
          "text": [
            "Epoch 1/200\n",
            "4/4 - 2s - loss: 0.3537 - val_loss: 0.6325\n",
            "Epoch 2/200\n",
            "4/4 - 0s - loss: 0.3228 - val_loss: 0.5758\n",
            "Epoch 3/200\n",
            "4/4 - 0s - loss: 0.2947 - val_loss: 0.5192\n",
            "Epoch 4/200\n",
            "4/4 - 0s - loss: 0.2676 - val_loss: 0.4620\n",
            "Epoch 5/200\n",
            "4/4 - 0s - loss: 0.2437 - val_loss: 0.4067\n",
            "Epoch 6/200\n",
            "4/4 - 0s - loss: 0.2251 - val_loss: 0.3545\n",
            "Epoch 7/200\n",
            "4/4 - 0s - loss: 0.2114 - val_loss: 0.3076\n",
            "Epoch 8/200\n",
            "4/4 - 0s - loss: 0.2015 - val_loss: 0.2695\n",
            "Epoch 9/200\n",
            "4/4 - 0s - loss: 0.1953 - val_loss: 0.2402\n",
            "Epoch 10/200\n",
            "4/4 - 0s - loss: 0.1916 - val_loss: 0.2202\n",
            "Epoch 11/200\n",
            "4/4 - 0s - loss: 0.1892 - val_loss: 0.2090\n",
            "Epoch 12/200\n",
            "4/4 - 0s - loss: 0.1876 - val_loss: 0.2037\n",
            "Epoch 13/200\n",
            "4/4 - 0s - loss: 0.1863 - val_loss: 0.2025\n",
            "Epoch 14/200\n",
            "4/4 - 0s - loss: 0.1852 - val_loss: 0.2039\n",
            "Epoch 15/200\n",
            "4/4 - 0s - loss: 0.1842 - val_loss: 0.2071\n",
            "Epoch 16/200\n",
            "4/4 - 0s - loss: 0.1834 - val_loss: 0.2113\n",
            "Epoch 17/200\n",
            "4/4 - 0s - loss: 0.1826 - val_loss: 0.2159\n",
            "Epoch 18/200\n",
            "4/4 - 0s - loss: 0.1820 - val_loss: 0.2203\n",
            "Epoch 19/200\n",
            "4/4 - 0s - loss: 0.1813 - val_loss: 0.2240\n",
            "Epoch 20/200\n",
            "4/4 - 0s - loss: 0.1806 - val_loss: 0.2273\n",
            "Epoch 21/200\n",
            "4/4 - 0s - loss: 0.1799 - val_loss: 0.2303\n",
            "Epoch 22/200\n",
            "4/4 - 0s - loss: 0.1791 - val_loss: 0.2323\n",
            "Epoch 23/200\n",
            "4/4 - 0s - loss: 0.1783 - val_loss: 0.2319\n",
            "Epoch 24/200\n",
            "4/4 - 0s - loss: 0.1771 - val_loss: 0.2285\n",
            "Epoch 25/200\n",
            "4/4 - 0s - loss: 0.1757 - val_loss: 0.2242\n",
            "Epoch 26/200\n",
            "4/4 - 0s - loss: 0.1744 - val_loss: 0.2222\n",
            "Epoch 27/200\n",
            "4/4 - 0s - loss: 0.1732 - val_loss: 0.2217\n",
            "Epoch 28/200\n",
            "4/4 - 0s - loss: 0.1722 - val_loss: 0.2221\n",
            "Epoch 29/200\n",
            "4/4 - 0s - loss: 0.1711 - val_loss: 0.2222\n",
            "Epoch 30/200\n",
            "4/4 - 0s - loss: 0.1701 - val_loss: 0.2207\n",
            "Epoch 31/200\n",
            "4/4 - 0s - loss: 0.1688 - val_loss: 0.2180\n",
            "Epoch 32/200\n",
            "4/4 - 0s - loss: 0.1675 - val_loss: 0.2150\n",
            "Epoch 33/200\n",
            "4/4 - 0s - loss: 0.1661 - val_loss: 0.2133\n",
            "Epoch 34/200\n",
            "4/4 - 0s - loss: 0.1649 - val_loss: 0.2122\n",
            "Epoch 35/200\n",
            "4/4 - 0s - loss: 0.1638 - val_loss: 0.2116\n",
            "Epoch 36/200\n",
            "4/4 - 0s - loss: 0.1627 - val_loss: 0.2108\n",
            "Epoch 37/200\n",
            "4/4 - 0s - loss: 0.1616 - val_loss: 0.2082\n",
            "Epoch 38/200\n",
            "4/4 - 0s - loss: 0.1603 - val_loss: 0.2056\n",
            "Epoch 39/200\n",
            "4/4 - 0s - loss: 0.1591 - val_loss: 0.2045\n",
            "Epoch 40/200\n",
            "4/4 - 0s - loss: 0.1580 - val_loss: 0.2037\n",
            "Epoch 41/200\n",
            "4/4 - 0s - loss: 0.1569 - val_loss: 0.2009\n",
            "Epoch 42/200\n",
            "4/4 - 0s - loss: 0.1555 - val_loss: 0.1960\n",
            "Epoch 43/200\n",
            "4/4 - 0s - loss: 0.1542 - val_loss: 0.1919\n",
            "Epoch 44/200\n",
            "4/4 - 0s - loss: 0.1529 - val_loss: 0.1880\n",
            "Epoch 45/200\n",
            "4/4 - 0s - loss: 0.1516 - val_loss: 0.1829\n",
            "Epoch 46/200\n",
            "4/4 - 0s - loss: 0.1503 - val_loss: 0.1776\n",
            "Epoch 47/200\n",
            "4/4 - 0s - loss: 0.1489 - val_loss: 0.1732\n",
            "Epoch 48/200\n",
            "4/4 - 0s - loss: 0.1476 - val_loss: 0.1707\n",
            "Epoch 49/200\n",
            "4/4 - 0s - loss: 0.1465 - val_loss: 0.1689\n",
            "Epoch 50/200\n",
            "4/4 - 0s - loss: 0.1456 - val_loss: 0.1678\n",
            "Epoch 51/200\n",
            "4/4 - 0s - loss: 0.1447 - val_loss: 0.1675\n",
            "Epoch 52/200\n",
            "4/4 - 0s - loss: 0.1439 - val_loss: 0.1676\n",
            "Epoch 53/200\n",
            "4/4 - 0s - loss: 0.1431 - val_loss: 0.1682\n",
            "Epoch 54/200\n",
            "4/4 - 0s - loss: 0.1424 - val_loss: 0.1688\n",
            "Epoch 55/200\n",
            "4/4 - 0s - loss: 0.1417 - val_loss: 0.1686\n",
            "Epoch 56/200\n",
            "4/4 - 0s - loss: 0.1408 - val_loss: 0.1677\n",
            "Epoch 57/200\n",
            "4/4 - 0s - loss: 0.1400 - val_loss: 0.1670\n",
            "Epoch 58/200\n",
            "4/4 - 0s - loss: 0.1392 - val_loss: 0.1663\n",
            "Epoch 59/200\n",
            "4/4 - 0s - loss: 0.1383 - val_loss: 0.1660\n",
            "Epoch 60/200\n",
            "4/4 - 0s - loss: 0.1375 - val_loss: 0.1659\n",
            "Epoch 61/200\n",
            "4/4 - 0s - loss: 0.1367 - val_loss: 0.1662\n",
            "Epoch 62/200\n",
            "4/4 - 0s - loss: 0.1360 - val_loss: 0.1664\n",
            "Epoch 63/200\n",
            "4/4 - 0s - loss: 0.1352 - val_loss: 0.1664\n",
            "Epoch 64/200\n",
            "4/4 - 0s - loss: 0.1345 - val_loss: 0.1667\n",
            "Epoch 65/200\n",
            "4/4 - 0s - loss: 0.1338 - val_loss: 0.1676\n",
            "Epoch 66/200\n",
            "4/4 - 0s - loss: 0.1332 - val_loss: 0.1683\n",
            "Epoch 67/200\n",
            "4/4 - 0s - loss: 0.1326 - val_loss: 0.1669\n",
            "Epoch 68/200\n",
            "4/4 - 0s - loss: 0.1318 - val_loss: 0.1654\n",
            "Epoch 69/200\n",
            "4/4 - 0s - loss: 0.1312 - val_loss: 0.1662\n",
            "Epoch 70/200\n",
            "4/4 - 0s - loss: 0.1308 - val_loss: 0.1676\n",
            "Epoch 71/200\n",
            "4/4 - 0s - loss: 0.1304 - val_loss: 0.1676\n",
            "Epoch 72/200\n",
            "4/4 - 0s - loss: 0.1299 - val_loss: 0.1666\n",
            "Epoch 73/200\n",
            "4/4 - 0s - loss: 0.1294 - val_loss: 0.1653\n",
            "Epoch 74/200\n",
            "4/4 - 0s - loss: 0.1289 - val_loss: 0.1640\n",
            "Epoch 75/200\n",
            "4/4 - 0s - loss: 0.1284 - val_loss: 0.1628\n",
            "Epoch 76/200\n",
            "4/4 - 0s - loss: 0.1280 - val_loss: 0.1628\n",
            "Epoch 77/200\n",
            "4/4 - 0s - loss: 0.1277 - val_loss: 0.1655\n",
            "Epoch 78/200\n",
            "4/4 - 0s - loss: 0.1274 - val_loss: 0.1681\n",
            "Epoch 79/200\n",
            "4/4 - 0s - loss: 0.1273 - val_loss: 0.1703\n",
            "Epoch 80/200\n",
            "4/4 - 0s - loss: 0.1270 - val_loss: 0.1721\n",
            "Epoch 81/200\n",
            "4/4 - 0s - loss: 0.1268 - val_loss: 0.1735\n",
            "Epoch 82/200\n",
            "4/4 - 0s - loss: 0.1266 - val_loss: 0.1743\n",
            "Epoch 83/200\n",
            "4/4 - 0s - loss: 0.1264 - val_loss: 0.1755\n",
            "Epoch 84/200\n",
            "4/4 - 0s - loss: 0.1262 - val_loss: 0.1776\n",
            "Epoch 85/200\n",
            "4/4 - 0s - loss: 0.1261 - val_loss: 0.1794\n",
            "Epoch 86/200\n",
            "4/4 - 0s - loss: 0.1259 - val_loss: 0.1805\n",
            "Epoch 87/200\n",
            "4/4 - 0s - loss: 0.1257 - val_loss: 0.1811\n",
            "Epoch 88/200\n",
            "4/4 - 0s - loss: 0.1255 - val_loss: 0.1821\n",
            "Epoch 89/200\n",
            "4/4 - 0s - loss: 0.1253 - val_loss: 0.1843\n",
            "Epoch 90/200\n",
            "4/4 - 0s - loss: 0.1253 - val_loss: 0.1864\n",
            "Epoch 91/200\n",
            "4/4 - 0s - loss: 0.1251 - val_loss: 0.1874\n",
            "Epoch 92/200\n",
            "4/4 - 0s - loss: 0.1249 - val_loss: 0.1878\n",
            "Epoch 93/200\n",
            "4/4 - 0s - loss: 0.1248 - val_loss: 0.1889\n",
            "Epoch 94/200\n",
            "4/4 - 0s - loss: 0.1247 - val_loss: 0.1892\n",
            "Epoch 95/200\n",
            "4/4 - 0s - loss: 0.1245 - val_loss: 0.1879\n",
            "Epoch 96/200\n",
            "4/4 - 0s - loss: 0.1244 - val_loss: 0.1881\n",
            "Epoch 97/200\n",
            "4/4 - 0s - loss: 0.1243 - val_loss: 0.1870\n",
            "Epoch 98/200\n",
            "4/4 - 0s - loss: 0.1241 - val_loss: 0.1887\n",
            "Epoch 99/200\n",
            "4/4 - 0s - loss: 0.1241 - val_loss: 0.1909\n",
            "Epoch 100/200\n",
            "4/4 - 0s - loss: 0.1240 - val_loss: 0.1899\n",
            "Epoch 101/200\n",
            "4/4 - 0s - loss: 0.1239 - val_loss: 0.1877\n",
            "Epoch 102/200\n",
            "4/4 - 0s - loss: 0.1238 - val_loss: 0.1869\n",
            "Epoch 103/200\n",
            "4/4 - 0s - loss: 0.1237 - val_loss: 0.1892\n",
            "Epoch 104/200\n",
            "4/4 - 0s - loss: 0.1237 - val_loss: 0.1891\n",
            "Epoch 105/200\n",
            "4/4 - 0s - loss: 0.1236 - val_loss: 0.1889\n",
            "Epoch 106/200\n",
            "4/4 - 0s - loss: 0.1235 - val_loss: 0.1911\n",
            "Epoch 107/200\n",
            "4/4 - 0s - loss: 0.1235 - val_loss: 0.1908\n",
            "Epoch 108/200\n",
            "4/4 - 0s - loss: 0.1234 - val_loss: 0.1906\n",
            "Epoch 109/200\n",
            "4/4 - 0s - loss: 0.1233 - val_loss: 0.1929\n",
            "Epoch 110/200\n",
            "4/4 - 0s - loss: 0.1232 - val_loss: 0.1925\n",
            "Epoch 111/200\n",
            "4/4 - 0s - loss: 0.1231 - val_loss: 0.1923\n",
            "Epoch 112/200\n",
            "4/4 - 0s - loss: 0.1231 - val_loss: 0.1949\n",
            "Epoch 113/200\n",
            "4/4 - 0s - loss: 0.1230 - val_loss: 0.1940\n",
            "Epoch 114/200\n",
            "4/4 - 0s - loss: 0.1229 - val_loss: 0.1930\n",
            "Epoch 115/200\n",
            "4/4 - 0s - loss: 0.1228 - val_loss: 0.1955\n",
            "Epoch 116/200\n",
            "4/4 - 0s - loss: 0.1228 - val_loss: 0.1951\n",
            "Epoch 117/200\n",
            "4/4 - 0s - loss: 0.1227 - val_loss: 0.1952\n",
            "Epoch 118/200\n",
            "4/4 - 0s - loss: 0.1226 - val_loss: 0.1969\n",
            "Epoch 119/200\n",
            "4/4 - 0s - loss: 0.1225 - val_loss: 0.1968\n",
            "Epoch 120/200\n",
            "4/4 - 0s - loss: 0.1225 - val_loss: 0.1982\n",
            "Epoch 121/200\n",
            "4/4 - 0s - loss: 0.1224 - val_loss: 0.1981\n",
            "Epoch 122/200\n",
            "4/4 - 0s - loss: 0.1223 - val_loss: 0.1996\n",
            "Epoch 123/200\n",
            "4/4 - 0s - loss: 0.1222 - val_loss: 0.1991\n",
            "Epoch 124/200\n",
            "4/4 - 0s - loss: 0.1222 - val_loss: 0.2001\n",
            "Epoch 125/200\n",
            "4/4 - 0s - loss: 0.1221 - val_loss: 0.1984\n",
            "Epoch 126/200\n",
            "4/4 - 0s - loss: 0.1220 - val_loss: 0.2011\n",
            "Epoch 127/200\n",
            "4/4 - 0s - loss: 0.1220 - val_loss: 0.2032\n",
            "Epoch 128/200\n",
            "4/4 - 0s - loss: 0.1219 - val_loss: 0.2021\n",
            "Epoch 129/200\n",
            "4/4 - 0s - loss: 0.1218 - val_loss: 0.2030\n",
            "Epoch 130/200\n",
            "4/4 - 0s - loss: 0.1217 - val_loss: 0.2031\n",
            "Epoch 131/200\n",
            "4/4 - 0s - loss: 0.1217 - val_loss: 0.2047\n",
            "Epoch 132/200\n",
            "4/4 - 0s - loss: 0.1216 - val_loss: 0.2045\n",
            "Epoch 133/200\n",
            "4/4 - 0s - loss: 0.1215 - val_loss: 0.2059\n",
            "Epoch 134/200\n",
            "4/4 - 0s - loss: 0.1215 - val_loss: 0.2055\n",
            "Epoch 135/200\n",
            "4/4 - 0s - loss: 0.1214 - val_loss: 0.2090\n",
            "Epoch 136/200\n",
            "4/4 - 0s - loss: 0.1214 - val_loss: 0.2101\n",
            "Epoch 137/200\n",
            "4/4 - 0s - loss: 0.1213 - val_loss: 0.2071\n",
            "Epoch 138/200\n",
            "4/4 - 0s - loss: 0.1212 - val_loss: 0.2091\n",
            "Epoch 139/200\n",
            "4/4 - 0s - loss: 0.1212 - val_loss: 0.2109\n",
            "Epoch 140/200\n",
            "4/4 - 0s - loss: 0.1210 - val_loss: 0.2099\n",
            "Epoch 141/200\n",
            "4/4 - 0s - loss: 0.1210 - val_loss: 0.2113\n",
            "Epoch 142/200\n",
            "4/4 - 0s - loss: 0.1209 - val_loss: 0.2116\n",
            "Epoch 143/200\n",
            "4/4 - 0s - loss: 0.1209 - val_loss: 0.2133\n",
            "Epoch 144/200\n",
            "4/4 - 0s - loss: 0.1208 - val_loss: 0.2128\n",
            "Epoch 145/200\n",
            "4/4 - 0s - loss: 0.1207 - val_loss: 0.2163\n",
            "Epoch 146/200\n",
            "4/4 - 0s - loss: 0.1207 - val_loss: 0.2166\n",
            "Epoch 147/200\n",
            "4/4 - 0s - loss: 0.1206 - val_loss: 0.2150\n",
            "Epoch 148/200\n",
            "4/4 - 0s - loss: 0.1205 - val_loss: 0.2189\n",
            "Epoch 149/200\n",
            "4/4 - 0s - loss: 0.1206 - val_loss: 0.2209\n",
            "Epoch 150/200\n",
            "4/4 - 0s - loss: 0.1204 - val_loss: 0.2186\n",
            "Epoch 151/200\n",
            "4/4 - 0s - loss: 0.1204 - val_loss: 0.2184\n",
            "Epoch 152/200\n",
            "4/4 - 0s - loss: 0.1203 - val_loss: 0.2183\n",
            "Epoch 153/200\n",
            "4/4 - 0s - loss: 0.1202 - val_loss: 0.2210\n",
            "Epoch 154/200\n",
            "4/4 - 0s - loss: 0.1202 - val_loss: 0.2196\n",
            "Epoch 155/200\n",
            "4/4 - 0s - loss: 0.1201 - val_loss: 0.2218\n",
            "Epoch 156/200\n",
            "4/4 - 0s - loss: 0.1201 - val_loss: 0.2233\n",
            "Epoch 157/200\n",
            "4/4 - 0s - loss: 0.1200 - val_loss: 0.2212\n",
            "Epoch 158/200\n",
            "4/4 - 0s - loss: 0.1199 - val_loss: 0.2252\n",
            "Epoch 159/200\n",
            "4/4 - 0s - loss: 0.1200 - val_loss: 0.2284\n",
            "Epoch 160/200\n",
            "4/4 - 0s - loss: 0.1199 - val_loss: 0.2264\n",
            "Epoch 161/200\n",
            "4/4 - 0s - loss: 0.1198 - val_loss: 0.2261\n",
            "Epoch 162/200\n",
            "4/4 - 0s - loss: 0.1197 - val_loss: 0.2264\n",
            "Epoch 163/200\n",
            "4/4 - 0s - loss: 0.1197 - val_loss: 0.2302\n",
            "Epoch 164/200\n",
            "4/4 - 0s - loss: 0.1197 - val_loss: 0.2302\n",
            "Epoch 165/200\n",
            "4/4 - 0s - loss: 0.1196 - val_loss: 0.2302\n",
            "Epoch 166/200\n",
            "4/4 - 0s - loss: 0.1195 - val_loss: 0.2278\n",
            "Epoch 167/200\n",
            "4/4 - 0s - loss: 0.1194 - val_loss: 0.2312\n",
            "Epoch 168/200\n",
            "4/4 - 0s - loss: 0.1195 - val_loss: 0.2340\n",
            "Epoch 169/200\n",
            "4/4 - 0s - loss: 0.1194 - val_loss: 0.2331\n",
            "Epoch 170/200\n",
            "4/4 - 0s - loss: 0.1193 - val_loss: 0.2346\n",
            "Epoch 171/200\n",
            "4/4 - 0s - loss: 0.1193 - val_loss: 0.2343\n",
            "Epoch 172/200\n",
            "4/4 - 0s - loss: 0.1192 - val_loss: 0.2363\n",
            "Epoch 173/200\n",
            "4/4 - 0s - loss: 0.1192 - val_loss: 0.2362\n",
            "Epoch 174/200\n",
            "4/4 - 0s - loss: 0.1191 - val_loss: 0.2389\n",
            "Epoch 175/200\n",
            "4/4 - 0s - loss: 0.1191 - val_loss: 0.2368\n",
            "Epoch 176/200\n",
            "4/4 - 0s - loss: 0.1190 - val_loss: 0.2381\n",
            "Epoch 177/200\n",
            "4/4 - 0s - loss: 0.1190 - val_loss: 0.2420\n",
            "Epoch 178/200\n",
            "4/4 - 0s - loss: 0.1189 - val_loss: 0.2397\n",
            "Epoch 179/200\n",
            "4/4 - 0s - loss: 0.1188 - val_loss: 0.2383\n",
            "Epoch 180/200\n",
            "4/4 - 0s - loss: 0.1188 - val_loss: 0.2429\n",
            "Epoch 181/200\n",
            "4/4 - 0s - loss: 0.1188 - val_loss: 0.2459\n",
            "Epoch 182/200\n",
            "4/4 - 0s - loss: 0.1187 - val_loss: 0.2422\n",
            "Epoch 183/200\n",
            "4/4 - 0s - loss: 0.1187 - val_loss: 0.2429\n",
            "Epoch 184/200\n",
            "4/4 - 0s - loss: 0.1187 - val_loss: 0.2483\n",
            "Epoch 185/200\n",
            "4/4 - 0s - loss: 0.1187 - val_loss: 0.2468\n",
            "Epoch 186/200\n",
            "4/4 - 0s - loss: 0.1185 - val_loss: 0.2449\n",
            "Epoch 187/200\n",
            "4/4 - 0s - loss: 0.1185 - val_loss: 0.2499\n",
            "Epoch 188/200\n",
            "4/4 - 0s - loss: 0.1186 - val_loss: 0.2534\n",
            "Epoch 189/200\n",
            "4/4 - 0s - loss: 0.1185 - val_loss: 0.2492\n",
            "Epoch 190/200\n",
            "4/4 - 0s - loss: 0.1184 - val_loss: 0.2473\n",
            "Epoch 191/200\n",
            "4/4 - 0s - loss: 0.1183 - val_loss: 0.2529\n",
            "Epoch 192/200\n",
            "4/4 - 0s - loss: 0.1184 - val_loss: 0.2524\n",
            "Epoch 193/200\n",
            "4/4 - 0s - loss: 0.1183 - val_loss: 0.2502\n",
            "Epoch 194/200\n",
            "4/4 - 0s - loss: 0.1182 - val_loss: 0.2535\n",
            "Epoch 195/200\n",
            "4/4 - 0s - loss: 0.1182 - val_loss: 0.2562\n",
            "Epoch 196/200\n",
            "4/4 - 0s - loss: 0.1182 - val_loss: 0.2542\n",
            "Epoch 197/200\n",
            "4/4 - 0s - loss: 0.1181 - val_loss: 0.2558\n",
            "Epoch 198/200\n",
            "4/4 - 0s - loss: 0.1180 - val_loss: 0.2575\n",
            "Epoch 199/200\n",
            "4/4 - 0s - loss: 0.1181 - val_loss: 0.2619\n",
            "Epoch 200/200\n",
            "4/4 - 0s - loss: 0.1181 - val_loss: 0.2585\n"
          ],
          "name": "stdout"
        }
      ]
    },
    {
      "cell_type": "code",
      "metadata": {
        "colab": {
          "base_uri": "https://localhost:8080/",
          "height": 267
        },
        "id": "71Q3fT-moLDV",
        "outputId": "35ea0ff1-8449-4eb1-a7f2-5441fb27d6b8"
      },
      "source": [
        "# plot history\n",
        "plt.plot(history.history['loss'], label='train')\n",
        "plt.plot(history.history['val_loss'], label='test')\n",
        "plt.legend()\n",
        "plt.show()"
      ],
      "execution_count": 204,
      "outputs": [
        {
          "output_type": "display_data",
          "data": {
            "image/png": "[encoded data removed]",
            "text/plain": [
              "<Figure size 432x288 with 1 Axes>"
            ]
          },
          "metadata": {
            "tags": [],
            "needs_background": "light"
          }
        }
      ]
    },
    {
      "cell_type": "markdown",
      "metadata": {
        "id": "EEbJUGT9oLDV"
      },
      "source": [
        "### Testing feature selected data"
      ]
    },
    {
      "cell_type": "code",
      "metadata": {
        "colab": {
          "base_uri": "https://localhost:8080/"
        },
        "id": "XUX0Y97foLDV",
        "outputId": "8369d5ae-4369-44ef-d413-f037ffbd362c"
      },
      "source": [
        "import math\n",
        "\n",
        "# make a prediction\n",
        "yhat = model.predict(test_X)\n",
        "test_X1 = test_X.reshape((test_X.shape[0], test_X.shape[2]))\n",
        "# invert scaling for forecast\n",
        "inv_yhat = concatenate((yhat, test_X1[:, 1:]), axis=1)\n",
        "print(inv_yhat.shape)\n",
        "#inv_yhat = scaler.inverse_transform(inv_yhat)\n",
        "inv_yhat = inv_yhat[:,0]\n",
        "# invert scaling for actual\n",
        "test_y = test_y.reshape((len(test_y), 1))\n",
        "inv_y = concatenate((test_y, test_X1[:, 1:]), axis=1)\n",
        "#inv_y = scaler.inverse_transform(inv_y)\n",
        "inv_y = inv_y[:,0]\n",
        "# calculate RMSE\n",
        "mse = mean_squared_error(inv_y, inv_yhat)\n",
        "print('Test MSE: %.3f' % mse)\n",
        "rmse = math.sqrt(mean_squared_error(inv_y, inv_yhat))\n",
        "print('Test RMSE: %.3f' % rmse)\n",
        "print('median_absolute_error', median_absolute_error(inv_y, inv_yhat))\n",
        "print('mean_absolute_error', mean_absolute_error(inv_y, inv_yhat))"
      ],
      "execution_count": 205,
      "outputs": [
        {
          "output_type": "stream",
          "text": [
            "WARNING:tensorflow:6 out of the last 11 calls to <function Model.make_predict_function.<locals>.predict_function at 0x7fc91f941400> triggered tf.function retracing. Tracing is expensive and the excessive number of tracings could be due to (1) creating @tf.function repeatedly in a loop, (2) passing tensors with different shapes, (3) passing Python objects instead of tensors. For (1), please define your @tf.function outside of the loop. For (2), @tf.function has experimental_relax_shapes=True option that relaxes argument shapes that can avoid unnecessary retracing. For (3), please refer to https://www.tensorflow.org/guide/function#controlling_retracing and https://www.tensorflow.org/api_docs/python/tf/function for  more details.\n",
            "(59, 9)\n",
            "Test MSE: 0.087\n",
            "Test RMSE: 0.294\n",
            "median_absolute_error 0.26729965\n",
            "mean_absolute_error 0.25848734\n"
          ],
          "name": "stdout"
        }
      ]
    },
    {
      "cell_type": "markdown",
      "metadata": {
        "id": "t96jjCNhouMU"
      },
      "source": [
        "# LSTM: Mobility Group + Social Distancing + Mask Rule"
      ]
    },
    {
      "cell_type": "code",
      "metadata": {
        "id": "fxJYCnw2ouMw"
      },
      "source": [
        "x_col_mobility = ['PopDensity','X..people.older.than.60',\n",
        "                      'Median.income', 'X..African.Americans',\n",
        "                      'X..Hispanic.Americans', 'X..Male',\n",
        "                  'retail_and_recreation_percent_change_from_baseline',\n",
        "       'grocery_and_pharmacy_percent_change_from_baseline','parks_percent_change_from_baseline',\n",
        "       'transit_stations_percent_change_from_baseline','workplaces_percent_change_from_baseline',\n",
        "       'residential_percent_change_from_baseline',\n",
        "       'X..staying.home', 'Trips.person', 'X..out.of.county.trips',\n",
        "       'X..out.of.state.trips', 'Miles.person', 'Work.trips.person',\n",
        "       'Non.work.trips.person','X..working.from.home',\n",
        "       'm50', 'm50_index','Social.distancing.index',\n",
        "                           'mask_rule_severity',\n",
        "       'Date','New cases']\n",
        "\n",
        "X_cols_all = x_col_mobility\n",
        "\n",
        "X_cols_feature_selected = ['X..staying.home', 'X..working.from.home', 'workplaces_percent_change_from_baseline', \n",
        "                           'X..out.of.state.trips', 'parks_percent_change_from_baseline',\n",
        "                           'm50', 'm50_index','Social.distancing.index',\n",
        "                           'mask_rule_severity'\n",
        "                           ,'Date','New cases']\n"
      ],
      "execution_count": 206,
      "outputs": []
    },
    {
      "cell_type": "code",
      "metadata": {
        "colab": {
          "base_uri": "https://localhost:8080/",
          "height": 350
        },
        "id": "WetuqGMdouMx",
        "outputId": "6c5abe0a-cc5f-4249-ef21-e6d7d8a8c239"
      },
      "source": [
        "LA_combined_data_all = CA_superset_data[CA_superset_data['County Name'] == 'Los Angeles County'][X_cols_all]\n",
        "print(LA_combined_data_all.shape)\n",
        "\n",
        "LA_combined_data_featured = CA_superset_data[CA_superset_data['County Name'] == 'Los Angeles County'][X_cols_feature_selected]\n",
        "print(LA_combined_data_featured.shape)\n",
        "LA_combined_data_all.head(5)"
      ],
      "execution_count": 207,
      "outputs": [
        {
          "output_type": "stream",
          "text": [
            "(292, 20)\n",
            "(292, 11)\n"
          ],
          "name": "stdout"
        },
        {
          "output_type": "execute_result",
          "data": {
            "text/html": [
              "<div>\n",
              "<style scoped>\n",
              "    .dataframe tbody tr th:only-of-type {\n",
              "        vertical-align: middle;\n",
              "    }\n",
              "\n",
              "    .dataframe tbody tr th {\n",
              "        vertical-align: top;\n",
              "    }\n",
              "\n",
              "    .dataframe thead th {\n",
              "        text-align: right;\n",
              "    }\n",
              "</style>\n",
              "<table border=\"1\" class=\"dataframe\">\n",
              "  <thead>\n",
              "    <tr style=\"text-align: right;\">\n",
              "      <th></th>\n",
              "      <th>retail_and_recreation_percent_change_from_baseline</th>\n",
              "      <th>grocery_and_pharmacy_percent_change_from_baseline</th>\n",
              "      <th>parks_percent_change_from_baseline</th>\n",
              "      <th>transit_stations_percent_change_from_baseline</th>\n",
              "      <th>workplaces_percent_change_from_baseline</th>\n",
              "      <th>residential_percent_change_from_baseline</th>\n",
              "      <th>X..staying.home</th>\n",
              "      <th>Trips.person</th>\n",
              "      <th>X..out.of.county.trips</th>\n",
              "      <th>X..out.of.state.trips</th>\n",
              "      <th>Miles.person</th>\n",
              "      <th>Work.trips.person</th>\n",
              "      <th>Non.work.trips.person</th>\n",
              "      <th>X..working.from.home</th>\n",
              "      <th>m50</th>\n",
              "      <th>m50_index</th>\n",
              "      <th>Social.distancing.index</th>\n",
              "      <th>mask_rule_severity</th>\n",
              "      <th>Date</th>\n",
              "      <th>New cases</th>\n",
              "    </tr>\n",
              "  </thead>\n",
              "  <tbody>\n",
              "    <tr>\n",
              "      <th>4804</th>\n",
              "      <td>4.0000</td>\n",
              "      <td>3.0000</td>\n",
              "      <td>-5.0000</td>\n",
              "      <td>-3.0000</td>\n",
              "      <td>1.0000</td>\n",
              "      <td>0.0000</td>\n",
              "      <td>26</td>\n",
              "      <td>2.9100</td>\n",
              "      <td>11.2000</td>\n",
              "      <td>0.5000</td>\n",
              "      <td>35.1000</td>\n",
              "      <td>0.2600</td>\n",
              "      <td>2.6500</td>\n",
              "      <td>5.7000</td>\n",
              "      <td>3.9960</td>\n",
              "      <td>60</td>\n",
              "      <td>35</td>\n",
              "      <td>0.0000</td>\n",
              "      <td>2020-03-01</td>\n",
              "      <td>0</td>\n",
              "    </tr>\n",
              "    <tr>\n",
              "      <th>4805</th>\n",
              "      <td>5.0000</td>\n",
              "      <td>5.0000</td>\n",
              "      <td>8.0000</td>\n",
              "      <td>1.0000</td>\n",
              "      <td>4.0000</td>\n",
              "      <td>-1.0000</td>\n",
              "      <td>19</td>\n",
              "      <td>3.4200</td>\n",
              "      <td>10.4000</td>\n",
              "      <td>0.4000</td>\n",
              "      <td>35.1000</td>\n",
              "      <td>0.7000</td>\n",
              "      <td>2.7100</td>\n",
              "      <td>5.7000</td>\n",
              "      <td>6.5020</td>\n",
              "      <td>98</td>\n",
              "      <td>16</td>\n",
              "      <td>0.0000</td>\n",
              "      <td>2020-03-02</td>\n",
              "      <td>0</td>\n",
              "    </tr>\n",
              "    <tr>\n",
              "      <th>4806</th>\n",
              "      <td>8.0000</td>\n",
              "      <td>7.0000</td>\n",
              "      <td>32.0000</td>\n",
              "      <td>2.0000</td>\n",
              "      <td>3.0000</td>\n",
              "      <td>-1.0000</td>\n",
              "      <td>18</td>\n",
              "      <td>3.5700</td>\n",
              "      <td>10.2000</td>\n",
              "      <td>0.3000</td>\n",
              "      <td>33.7000</td>\n",
              "      <td>0.7300</td>\n",
              "      <td>2.8400</td>\n",
              "      <td>5.7000</td>\n",
              "      <td>6.5910</td>\n",
              "      <td>99</td>\n",
              "      <td>15</td>\n",
              "      <td>0.0000</td>\n",
              "      <td>2020-03-03</td>\n",
              "      <td>0</td>\n",
              "    </tr>\n",
              "    <tr>\n",
              "      <th>4807</th>\n",
              "      <td>4.0000</td>\n",
              "      <td>6.0000</td>\n",
              "      <td>9.0000</td>\n",
              "      <td>-1.0000</td>\n",
              "      <td>2.0000</td>\n",
              "      <td>0.0000</td>\n",
              "      <td>18</td>\n",
              "      <td>3.4800</td>\n",
              "      <td>10.7000</td>\n",
              "      <td>0.3000</td>\n",
              "      <td>34.9000</td>\n",
              "      <td>0.7200</td>\n",
              "      <td>2.7600</td>\n",
              "      <td>5.7000</td>\n",
              "      <td>6.5950</td>\n",
              "      <td>100</td>\n",
              "      <td>14</td>\n",
              "      <td>0.0000</td>\n",
              "      <td>2020-03-04</td>\n",
              "      <td>6</td>\n",
              "    </tr>\n",
              "    <tr>\n",
              "      <th>4808</th>\n",
              "      <td>4.0000</td>\n",
              "      <td>7.0000</td>\n",
              "      <td>9.0000</td>\n",
              "      <td>0.0000</td>\n",
              "      <td>2.0000</td>\n",
              "      <td>0.0000</td>\n",
              "      <td>18</td>\n",
              "      <td>3.5200</td>\n",
              "      <td>10.7000</td>\n",
              "      <td>0.3000</td>\n",
              "      <td>36.4000</td>\n",
              "      <td>0.7200</td>\n",
              "      <td>2.8100</td>\n",
              "      <td>5.7000</td>\n",
              "      <td>7.0080</td>\n",
              "      <td>106</td>\n",
              "      <td>14</td>\n",
              "      <td>0.0000</td>\n",
              "      <td>2020-03-05</td>\n",
              "      <td>4</td>\n",
              "    </tr>\n",
              "  </tbody>\n",
              "</table>\n",
              "</div>"
            ],
            "text/plain": [
              "      retail_and_recreation_percent_change_from_baseline  ...  New cases\n",
              "4804                                             4.0000   ...          0\n",
              "4805                                             5.0000   ...          0\n",
              "4806                                             8.0000   ...          0\n",
              "4807                                             4.0000   ...          6\n",
              "4808                                             4.0000   ...          4\n",
              "\n",
              "[5 rows x 20 columns]"
            ]
          },
          "metadata": {
            "tags": []
          },
          "execution_count": 207
        }
      ]
    },
    {
      "cell_type": "code",
      "metadata": {
        "id": "bhGqT5McouMy"
      },
      "source": [
        "from datetime import datetime\n",
        "# load data\n",
        "def parse(x):\n",
        "\treturn datetime.strptime(x, '%Y-%m-%d')\n",
        " \n",
        "def datetime_to_float(d):\n",
        "    date_time_obj = datetime.strptime(d, '%Y-%m-%d')\n",
        "    return date_time_obj.timestamp()"
      ],
      "execution_count": 208,
      "outputs": []
    },
    {
      "cell_type": "code",
      "metadata": {
        "colab": {
          "base_uri": "https://localhost:8080/"
        },
        "id": "Q5Apn6x2ouMz",
        "outputId": "eb0b5cb2-43b7-4ec3-dd62-a6f745e771c1"
      },
      "source": [
        "len(LA_combined_data_featured.columns)"
      ],
      "execution_count": 209,
      "outputs": [
        {
          "output_type": "execute_result",
          "data": {
            "text/plain": [
              "11"
            ]
          },
          "metadata": {
            "tags": []
          },
          "execution_count": 209
        }
      ]
    },
    {
      "cell_type": "code",
      "metadata": {
        "colab": {
          "base_uri": "https://localhost:8080/",
          "height": 233
        },
        "id": "DKcsHtL8ouMz",
        "outputId": "43841e2b-b2d4-4f6d-adf3-2f289cb1da3f"
      },
      "source": [
        "LA_combined_data_featured['Date'] = LA_combined_data_featured['Date'].apply(lambda x: datetime_to_float(x))\n",
        "LA_combined_data_all['Date'] = LA_combined_data_all['Date'].apply(lambda x: datetime_to_float(x))\n",
        "\n",
        "#Harris_combined_data.index.name = 'Date'\n",
        "LA_combined_data_featured.head()"
      ],
      "execution_count": 210,
      "outputs": [
        {
          "output_type": "execute_result",
          "data": {
            "text/html": [
              "<div>\n",
              "<style scoped>\n",
              "    .dataframe tbody tr th:only-of-type {\n",
              "        vertical-align: middle;\n",
              "    }\n",
              "\n",
              "    .dataframe tbody tr th {\n",
              "        vertical-align: top;\n",
              "    }\n",
              "\n",
              "    .dataframe thead th {\n",
              "        text-align: right;\n",
              "    }\n",
              "</style>\n",
              "<table border=\"1\" class=\"dataframe\">\n",
              "  <thead>\n",
              "    <tr style=\"text-align: right;\">\n",
              "      <th></th>\n",
              "      <th>X..staying.home</th>\n",
              "      <th>X..working.from.home</th>\n",
              "      <th>workplaces_percent_change_from_baseline</th>\n",
              "      <th>X..out.of.state.trips</th>\n",
              "      <th>parks_percent_change_from_baseline</th>\n",
              "      <th>m50</th>\n",
              "      <th>m50_index</th>\n",
              "      <th>Social.distancing.index</th>\n",
              "      <th>mask_rule_severity</th>\n",
              "      <th>Date</th>\n",
              "      <th>New cases</th>\n",
              "    </tr>\n",
              "  </thead>\n",
              "  <tbody>\n",
              "    <tr>\n",
              "      <th>4804</th>\n",
              "      <td>26</td>\n",
              "      <td>5.7000</td>\n",
              "      <td>1.0000</td>\n",
              "      <td>0.5000</td>\n",
              "      <td>-5.0000</td>\n",
              "      <td>3.9960</td>\n",
              "      <td>60</td>\n",
              "      <td>35</td>\n",
              "      <td>0.0000</td>\n",
              "      <td>1583020800.0000</td>\n",
              "      <td>0</td>\n",
              "    </tr>\n",
              "    <tr>\n",
              "      <th>4805</th>\n",
              "      <td>19</td>\n",
              "      <td>5.7000</td>\n",
              "      <td>4.0000</td>\n",
              "      <td>0.4000</td>\n",
              "      <td>8.0000</td>\n",
              "      <td>6.5020</td>\n",
              "      <td>98</td>\n",
              "      <td>16</td>\n",
              "      <td>0.0000</td>\n",
              "      <td>1583107200.0000</td>\n",
              "      <td>0</td>\n",
              "    </tr>\n",
              "    <tr>\n",
              "      <th>4806</th>\n",
              "      <td>18</td>\n",
              "      <td>5.7000</td>\n",
              "      <td>3.0000</td>\n",
              "      <td>0.3000</td>\n",
              "      <td>32.0000</td>\n",
              "      <td>6.5910</td>\n",
              "      <td>99</td>\n",
              "      <td>15</td>\n",
              "      <td>0.0000</td>\n",
              "      <td>1583193600.0000</td>\n",
              "      <td>0</td>\n",
              "    </tr>\n",
              "    <tr>\n",
              "      <th>4807</th>\n",
              "      <td>18</td>\n",
              "      <td>5.7000</td>\n",
              "      <td>2.0000</td>\n",
              "      <td>0.3000</td>\n",
              "      <td>9.0000</td>\n",
              "      <td>6.5950</td>\n",
              "      <td>100</td>\n",
              "      <td>14</td>\n",
              "      <td>0.0000</td>\n",
              "      <td>1583280000.0000</td>\n",
              "      <td>6</td>\n",
              "    </tr>\n",
              "    <tr>\n",
              "      <th>4808</th>\n",
              "      <td>18</td>\n",
              "      <td>5.7000</td>\n",
              "      <td>2.0000</td>\n",
              "      <td>0.3000</td>\n",
              "      <td>9.0000</td>\n",
              "      <td>7.0080</td>\n",
              "      <td>106</td>\n",
              "      <td>14</td>\n",
              "      <td>0.0000</td>\n",
              "      <td>1583366400.0000</td>\n",
              "      <td>4</td>\n",
              "    </tr>\n",
              "  </tbody>\n",
              "</table>\n",
              "</div>"
            ],
            "text/plain": [
              "      X..staying.home  X..working.from.home  ...            Date  New cases\n",
              "4804               26                5.7000  ... 1583020800.0000          0\n",
              "4805               19                5.7000  ... 1583107200.0000          0\n",
              "4806               18                5.7000  ... 1583193600.0000          0\n",
              "4807               18                5.7000  ... 1583280000.0000          6\n",
              "4808               18                5.7000  ... 1583366400.0000          4\n",
              "\n",
              "[5 rows x 11 columns]"
            ]
          },
          "metadata": {
            "tags": []
          },
          "execution_count": 210
        }
      ]
    },
    {
      "cell_type": "code",
      "metadata": {
        "colab": {
          "base_uri": "https://localhost:8080/"
        },
        "id": "KmIYbDikouMz",
        "outputId": "38840d5f-0af5-4c87-e391-43f5365d0384"
      },
      "source": [
        "print(len(LA_combined_data_featured.columns))\n",
        "LA_combined_data_featured.dtypes"
      ],
      "execution_count": 211,
      "outputs": [
        {
          "output_type": "stream",
          "text": [
            "11\n"
          ],
          "name": "stdout"
        },
        {
          "output_type": "execute_result",
          "data": {
            "text/plain": [
              "X..staying.home                              int64\n",
              "X..working.from.home                       float64\n",
              "workplaces_percent_change_from_baseline    float64\n",
              "X..out.of.state.trips                      float64\n",
              "parks_percent_change_from_baseline         float64\n",
              "m50                                        float64\n",
              "m50_index                                    int64\n",
              "Social.distancing.index                      int64\n",
              "mask_rule_severity                         float64\n",
              "Date                                       float64\n",
              "New cases                                    int64\n",
              "dtype: object"
            ]
          },
          "metadata": {
            "tags": []
          },
          "execution_count": 211
        }
      ]
    },
    {
      "cell_type": "markdown",
      "metadata": {
        "id": "2cWi-1BlouM0"
      },
      "source": [
        "## Preprocessing data for LSTM"
      ]
    },
    {
      "cell_type": "code",
      "metadata": {
        "id": "PvCHlsKTouM0"
      },
      "source": [
        "LA_combined_data_all_selected = LA_combined_data_all[X_cols_all]\n",
        "LA_combined_data_featured_selected = LA_combined_data_featured[X_cols_feature_selected]"
      ],
      "execution_count": 212,
      "outputs": []
    },
    {
      "cell_type": "code",
      "metadata": {
        "id": "RGc87hpMouM0"
      },
      "source": [
        "\n",
        "# prepare data for lstm\n",
        "from pandas import read_csv\n",
        "from pandas import DataFrame\n",
        "from pandas import concat\n",
        "from sklearn.preprocessing import LabelEncoder\n",
        "from sklearn.preprocessing import MinMaxScaler\n",
        " \n",
        "# convert series to supervised learning\n",
        "def series_to_supervised(data, n_in=1, n_out=1, dropnan=True):\n",
        "\tn_vars = 1 if type(data) is list else data.shape[1]\n",
        "\tdf = DataFrame(data)\n",
        "\tcols, names = list(), list()\n",
        "\t# input sequence (t-n, ... t-1)\n",
        "\tfor i in range(n_in, 0, -1):\n",
        "\t\tcols.append(df.shift(i))\n",
        "\t\tnames += [('var%d(t-%d)' % (j+1, i)) for j in range(n_vars)]\n",
        "\t# forecast sequence (t, t+1, ... t+n)\n",
        "\tfor i in range(0, n_out):\n",
        "\t\tcols.append(df.shift(-i))\n",
        "\t\tif i == 0:\n",
        "\t\t\tnames += [('var%d(t)' % (j+1)) for j in range(n_vars)]\n",
        "\t\telse:\n",
        "\t\t\tnames += [('var%d(t+%d)' % (j+1, i)) for j in range(n_vars)]\n",
        "\t# put it all together\n",
        "\tagg = concat(cols, axis=1)\n",
        "\tagg.columns = names\n",
        "\t# drop rows with NaN values\n",
        "\tif dropnan:\n",
        "\t\tagg.dropna(inplace=True)\n",
        "\treturn agg"
      ],
      "execution_count": 213,
      "outputs": []
    },
    {
      "cell_type": "markdown",
      "metadata": {
        "id": "09F0vH6UouM1"
      },
      "source": [
        "## All values for CA training data"
      ]
    },
    {
      "cell_type": "code",
      "metadata": {
        "colab": {
          "base_uri": "https://localhost:8080/"
        },
        "id": "6bWlqwxyouM1",
        "outputId": "4a7a25fa-77a6-4c8d-b507-850278e8410b"
      },
      "source": [
        "values = LA_combined_data_all_selected.values\n",
        "# integer encode direction\n",
        "encoder = LabelEncoder()\n",
        "values[:,len(X_cols_all)-1] = encoder.fit_transform(values[:,len(X_cols_all)-1])\n",
        "# ensure all data is float\n",
        "values = values.astype('float32')\n",
        "# normalize features\n",
        "scaler = MinMaxScaler(feature_range=(0, 1))\n",
        "scaled = scaler.fit_transform(values)\n",
        "# frame as supervised learning\n",
        "reframed = series_to_supervised(scaled, 1, 1)\n",
        "# drop columns we don't want to predict\n",
        "#reframed.drop(reframed.columns[[9,10,11,12,13,14,15]], axis=1, inplace=True)\n",
        "print(reframed.head())"
      ],
      "execution_count": 214,
      "outputs": [
        {
          "output_type": "stream",
          "text": [
            "   var1(t-1)  var2(t-1)  var3(t-1)  ...  var18(t)  var19(t)  var20(t)\n",
            "1     0.9512     0.6092     0.6337  ...    0.0000    0.0033    0.0000\n",
            "2     0.9634     0.6322     0.7624  ...    0.0000    0.0066    0.0000\n",
            "3     1.0000     0.6552     1.0000  ...    0.0000    0.0099    0.0186\n",
            "4     0.9512     0.6437     0.7723  ...    0.0000    0.0132    0.0112\n",
            "5     0.9512     0.6552     0.7723  ...    0.0000    0.0166    0.0074\n",
            "\n",
            "[5 rows x 40 columns]\n"
          ],
          "name": "stdout"
        }
      ]
    },
    {
      "cell_type": "markdown",
      "metadata": {
        "id": "I7TKJAtOouM1"
      },
      "source": [
        "## Train Test Split"
      ]
    },
    {
      "cell_type": "code",
      "metadata": {
        "colab": {
          "base_uri": "https://localhost:8080/"
        },
        "id": "hEdnGXmgouM2",
        "outputId": "4036c801-bc3b-4e41-e72a-0525e782908a"
      },
      "source": [
        "values.shape[0]"
      ],
      "execution_count": 215,
      "outputs": [
        {
          "output_type": "execute_result",
          "data": {
            "text/plain": [
              "292"
            ]
          },
          "metadata": {
            "tags": []
          },
          "execution_count": 215
        }
      ]
    },
    {
      "cell_type": "code",
      "metadata": {
        "colab": {
          "base_uri": "https://localhost:8080/"
        },
        "id": "EatiVZAYouM2",
        "outputId": "0b919b01-28b7-42be-f46a-5c9db0b66f7f"
      },
      "source": [
        "\n",
        "# split into train and test sets\n",
        "values = reframed.values\n",
        "rows_count = values.shape[0]\n",
        "# split the 1/5 value\n",
        "train_split = rows_count//5\n",
        "\n",
        "n_train_hours = train_split * 4\n",
        "\n",
        "print(n_train_hours)\n",
        "print('values shape ',values.shape)\n",
        "train = values[:n_train_hours, :]\n",
        "test = values[n_train_hours:, :]\n",
        "# split into input and outputs\n",
        "train_X, train_y = train[:, :-1], train[:, -1]\n",
        "test_X, test_y = test[:, :-1], test[:, -1]\n",
        "# reshape input to be 3D [samples, timesteps, features]\n",
        "train_X = train_X.reshape((train_X.shape[0], 1, train_X.shape[1]))\n",
        "test_X = test_X.reshape((test_X.shape[0], 1, test_X.shape[1]))\n",
        "print(train_X.shape, train_y.shape, test_X.shape, test_y.shape)"
      ],
      "execution_count": 216,
      "outputs": [
        {
          "output_type": "stream",
          "text": [
            "232\n",
            "values shape  (291, 40)\n",
            "(232, 1, 39) (232,) (59, 1, 39) (59,)\n"
          ],
          "name": "stdout"
        }
      ]
    },
    {
      "cell_type": "markdown",
      "metadata": {
        "id": "DgVLlxqgouM2"
      },
      "source": [
        "## Training LSTM"
      ]
    },
    {
      "cell_type": "code",
      "metadata": {
        "colab": {
          "base_uri": "https://localhost:8080/",
          "height": 1000
        },
        "id": "AMkT1E4EouM3",
        "outputId": "3a4b2e61-3cbf-4b03-df58-62f4d11f3d42"
      },
      "source": [
        "...\n",
        "# design network\n",
        "model = Sequential()\n",
        "model.add(LSTM(50, input_shape=(train_X.shape[1], train_X.shape[2])))\n",
        "model.add(Dense(1))\n",
        "model.compile(loss='mae', optimizer='adam')\n",
        "# fit network\n",
        "history = model.fit(train_X, train_y, epochs=100, batch_size=72, validation_data=(test_X, test_y), verbose=2, shuffle=False)\n",
        "# plot history\n",
        "plt.plot(history.history['loss'], label='train')\n",
        "plt.plot(history.history['val_loss'], label='test')\n",
        "plt.legend()\n",
        "plt.show()"
      ],
      "execution_count": 217,
      "outputs": [
        {
          "output_type": "stream",
          "text": [
            "Epoch 1/100\n",
            "4/4 - 2s - loss: 0.3977 - val_loss: 0.5811\n",
            "Epoch 2/100\n",
            "4/4 - 0s - loss: 0.2281 - val_loss: 0.3946\n",
            "Epoch 3/100\n",
            "4/4 - 0s - loss: 0.1742 - val_loss: 0.2935\n",
            "Epoch 4/100\n",
            "4/4 - 0s - loss: 0.1837 - val_loss: 0.2696\n",
            "Epoch 5/100\n",
            "4/4 - 0s - loss: 0.1855 - val_loss: 0.2896\n",
            "Epoch 6/100\n",
            "4/4 - 0s - loss: 0.1781 - val_loss: 0.3301\n",
            "Epoch 7/100\n",
            "4/4 - 0s - loss: 0.1740 - val_loss: 0.3725\n",
            "Epoch 8/100\n",
            "4/4 - 0s - loss: 0.1745 - val_loss: 0.3977\n",
            "Epoch 9/100\n",
            "4/4 - 0s - loss: 0.1760 - val_loss: 0.4017\n",
            "Epoch 10/100\n",
            "4/4 - 0s - loss: 0.1734 - val_loss: 0.3887\n",
            "Epoch 11/100\n",
            "4/4 - 0s - loss: 0.1683 - val_loss: 0.3691\n",
            "Epoch 12/100\n",
            "4/4 - 0s - loss: 0.1638 - val_loss: 0.3494\n",
            "Epoch 13/100\n",
            "4/4 - 0s - loss: 0.1601 - val_loss: 0.3352\n",
            "Epoch 14/100\n",
            "4/4 - 0s - loss: 0.1577 - val_loss: 0.3336\n",
            "Epoch 15/100\n",
            "4/4 - 0s - loss: 0.1557 - val_loss: 0.3398\n",
            "Epoch 16/100\n",
            "4/4 - 0s - loss: 0.1541 - val_loss: 0.3467\n",
            "Epoch 17/100\n",
            "4/4 - 0s - loss: 0.1521 - val_loss: 0.3452\n",
            "Epoch 18/100\n",
            "4/4 - 0s - loss: 0.1496 - val_loss: 0.3340\n",
            "Epoch 19/100\n",
            "4/4 - 0s - loss: 0.1468 - val_loss: 0.3223\n",
            "Epoch 20/100\n",
            "4/4 - 0s - loss: 0.1441 - val_loss: 0.3160\n",
            "Epoch 21/100\n",
            "4/4 - 0s - loss: 0.1424 - val_loss: 0.3159\n",
            "Epoch 22/100\n",
            "4/4 - 0s - loss: 0.1413 - val_loss: 0.3196\n",
            "Epoch 23/100\n",
            "4/4 - 0s - loss: 0.1405 - val_loss: 0.3251\n",
            "Epoch 24/100\n",
            "4/4 - 0s - loss: 0.1400 - val_loss: 0.3274\n",
            "Epoch 25/100\n",
            "4/4 - 0s - loss: 0.1386 - val_loss: 0.3238\n",
            "Epoch 26/100\n",
            "4/4 - 0s - loss: 0.1366 - val_loss: 0.3201\n",
            "Epoch 27/100\n",
            "4/4 - 0s - loss: 0.1352 - val_loss: 0.3207\n",
            "Epoch 28/100\n",
            "4/4 - 0s - loss: 0.1340 - val_loss: 0.3200\n",
            "Epoch 29/100\n",
            "4/4 - 0s - loss: 0.1326 - val_loss: 0.3190\n",
            "Epoch 30/100\n",
            "4/4 - 0s - loss: 0.1311 - val_loss: 0.3179\n",
            "Epoch 31/100\n",
            "4/4 - 0s - loss: 0.1298 - val_loss: 0.3173\n",
            "Epoch 32/100\n",
            "4/4 - 0s - loss: 0.1283 - val_loss: 0.3155\n",
            "Epoch 33/100\n",
            "4/4 - 0s - loss: 0.1267 - val_loss: 0.3118\n",
            "Epoch 34/100\n",
            "4/4 - 0s - loss: 0.1249 - val_loss: 0.3115\n",
            "Epoch 35/100\n",
            "4/4 - 0s - loss: 0.1239 - val_loss: 0.3173\n",
            "Epoch 36/100\n",
            "4/4 - 0s - loss: 0.1232 - val_loss: 0.3183\n",
            "Epoch 37/100\n",
            "4/4 - 0s - loss: 0.1218 - val_loss: 0.3112\n",
            "Epoch 38/100\n",
            "4/4 - 0s - loss: 0.1200 - val_loss: 0.3097\n",
            "Epoch 39/100\n",
            "4/4 - 0s - loss: 0.1191 - val_loss: 0.3149\n",
            "Epoch 40/100\n",
            "4/4 - 0s - loss: 0.1185 - val_loss: 0.3166\n",
            "Epoch 41/100\n",
            "4/4 - 0s - loss: 0.1178 - val_loss: 0.3180\n",
            "Epoch 42/100\n",
            "4/4 - 0s - loss: 0.1172 - val_loss: 0.3193\n",
            "Epoch 43/100\n",
            "4/4 - 0s - loss: 0.1166 - val_loss: 0.3166\n",
            "Epoch 44/100\n",
            "4/4 - 0s - loss: 0.1159 - val_loss: 0.3181\n",
            "Epoch 45/100\n",
            "4/4 - 0s - loss: 0.1154 - val_loss: 0.3208\n",
            "Epoch 46/100\n",
            "4/4 - 0s - loss: 0.1150 - val_loss: 0.3221\n",
            "Epoch 47/100\n",
            "4/4 - 0s - loss: 0.1146 - val_loss: 0.3209\n",
            "Epoch 48/100\n",
            "4/4 - 0s - loss: 0.1141 - val_loss: 0.3231\n",
            "Epoch 49/100\n",
            "4/4 - 0s - loss: 0.1137 - val_loss: 0.3225\n",
            "Epoch 50/100\n",
            "4/4 - 0s - loss: 0.1133 - val_loss: 0.3249\n",
            "Epoch 51/100\n",
            "4/4 - 0s - loss: 0.1130 - val_loss: 0.3281\n",
            "Epoch 52/100\n",
            "4/4 - 0s - loss: 0.1127 - val_loss: 0.3306\n",
            "Epoch 53/100\n",
            "4/4 - 0s - loss: 0.1124 - val_loss: 0.3282\n",
            "Epoch 54/100\n",
            "4/4 - 0s - loss: 0.1118 - val_loss: 0.3320\n",
            "Epoch 55/100\n",
            "4/4 - 0s - loss: 0.1117 - val_loss: 0.3330\n",
            "Epoch 56/100\n",
            "4/4 - 0s - loss: 0.1113 - val_loss: 0.3256\n",
            "Epoch 57/100\n",
            "4/4 - 0s - loss: 0.1111 - val_loss: 0.3260\n",
            "Epoch 58/100\n",
            "4/4 - 0s - loss: 0.1106 - val_loss: 0.3354\n",
            "Epoch 59/100\n",
            "4/4 - 0s - loss: 0.1108 - val_loss: 0.3277\n",
            "Epoch 60/100\n",
            "4/4 - 0s - loss: 0.1103 - val_loss: 0.3265\n",
            "Epoch 61/100\n",
            "4/4 - 0s - loss: 0.1098 - val_loss: 0.3405\n",
            "Epoch 62/100\n",
            "4/4 - 0s - loss: 0.1101 - val_loss: 0.3341\n",
            "Epoch 63/100\n",
            "4/4 - 0s - loss: 0.1096 - val_loss: 0.3333\n",
            "Epoch 64/100\n",
            "4/4 - 0s - loss: 0.1093 - val_loss: 0.3418\n",
            "Epoch 65/100\n",
            "4/4 - 0s - loss: 0.1093 - val_loss: 0.3294\n",
            "Epoch 66/100\n",
            "4/4 - 0s - loss: 0.1090 - val_loss: 0.3354\n",
            "Epoch 67/100\n",
            "4/4 - 0s - loss: 0.1087 - val_loss: 0.3407\n",
            "Epoch 68/100\n",
            "4/4 - 0s - loss: 0.1087 - val_loss: 0.3351\n",
            "Epoch 69/100\n",
            "4/4 - 0s - loss: 0.1083 - val_loss: 0.3452\n",
            "Epoch 70/100\n",
            "4/4 - 0s - loss: 0.1082 - val_loss: 0.3448\n",
            "Epoch 71/100\n",
            "4/4 - 0s - loss: 0.1080 - val_loss: 0.3444\n",
            "Epoch 72/100\n",
            "4/4 - 0s - loss: 0.1078 - val_loss: 0.3413\n",
            "Epoch 73/100\n",
            "4/4 - 0s - loss: 0.1076 - val_loss: 0.3416\n",
            "Epoch 74/100\n",
            "4/4 - 0s - loss: 0.1074 - val_loss: 0.3448\n",
            "Epoch 75/100\n",
            "4/4 - 0s - loss: 0.1072 - val_loss: 0.3469\n",
            "Epoch 76/100\n",
            "4/4 - 0s - loss: 0.1071 - val_loss: 0.3458\n",
            "Epoch 77/100\n",
            "4/4 - 0s - loss: 0.1069 - val_loss: 0.3515\n",
            "Epoch 78/100\n",
            "4/4 - 0s - loss: 0.1068 - val_loss: 0.3426\n",
            "Epoch 79/100\n",
            "4/4 - 0s - loss: 0.1066 - val_loss: 0.3497\n",
            "Epoch 80/100\n",
            "4/4 - 0s - loss: 0.1064 - val_loss: 0.3435\n",
            "Epoch 81/100\n",
            "4/4 - 0s - loss: 0.1065 - val_loss: 0.3511\n",
            "Epoch 82/100\n",
            "4/4 - 0s - loss: 0.1061 - val_loss: 0.3495\n",
            "Epoch 83/100\n",
            "4/4 - 0s - loss: 0.1062 - val_loss: 0.3493\n",
            "Epoch 84/100\n",
            "4/4 - 0s - loss: 0.1060 - val_loss: 0.3568\n",
            "Epoch 85/100\n",
            "4/4 - 0s - loss: 0.1061 - val_loss: 0.3479\n",
            "Epoch 86/100\n",
            "4/4 - 0s - loss: 0.1055 - val_loss: 0.3580\n",
            "Epoch 87/100\n",
            "4/4 - 0s - loss: 0.1056 - val_loss: 0.3499\n",
            "Epoch 88/100\n",
            "4/4 - 0s - loss: 0.1055 - val_loss: 0.3567\n",
            "Epoch 89/100\n",
            "4/4 - 0s - loss: 0.1054 - val_loss: 0.3564\n",
            "Epoch 90/100\n",
            "4/4 - 0s - loss: 0.1053 - val_loss: 0.3584\n",
            "Epoch 91/100\n",
            "4/4 - 0s - loss: 0.1056 - val_loss: 0.3629\n",
            "Epoch 92/100\n",
            "4/4 - 0s - loss: 0.1057 - val_loss: 0.3667\n",
            "Epoch 93/100\n",
            "4/4 - 0s - loss: 0.1051 - val_loss: 0.3595\n",
            "Epoch 94/100\n",
            "4/4 - 0s - loss: 0.1051 - val_loss: 0.3693\n",
            "Epoch 95/100\n",
            "4/4 - 0s - loss: 0.1047 - val_loss: 0.3547\n",
            "Epoch 96/100\n",
            "4/4 - 0s - loss: 0.1054 - val_loss: 0.3599\n",
            "Epoch 97/100\n",
            "4/4 - 0s - loss: 0.1043 - val_loss: 0.3602\n",
            "Epoch 98/100\n",
            "4/4 - 0s - loss: 0.1057 - val_loss: 0.3647\n",
            "Epoch 99/100\n",
            "4/4 - 0s - loss: 0.1049 - val_loss: 0.3764\n",
            "Epoch 100/100\n",
            "4/4 - 0s - loss: 0.1049 - val_loss: 0.3652\n"
          ],
          "name": "stdout"
        },
        {
          "output_type": "display_data",
          "data": {
            "image/png": "[encoded data removed]",
            "text/plain": [
              "<Figure size 432x288 with 1 Axes>"
            ]
          },
          "metadata": {
            "tags": [],
            "needs_background": "light"
          }
        }
      ]
    },
    {
      "cell_type": "code",
      "metadata": {
        "colab": {
          "base_uri": "https://localhost:8080/",
          "height": 269
        },
        "id": "TVjucRtGrM59",
        "outputId": "2c032264-2bbe-4987-fc8a-81e4e2ac2a95"
      },
      "source": [
        "# plot history\r\n",
        "plt.plot(history.history['loss'], label='train')\r\n",
        "plt.plot(history.history['val_loss'], label='test')\r\n",
        "plt.legend()\r\n",
        "plt.show()"
      ],
      "execution_count": 218,
      "outputs": [
        {
          "output_type": "display_data",
          "data": {
            "image/png": "[encoded data removed]",
            "text/plain": [
              "<Figure size 432x288 with 1 Axes>"
            ]
          },
          "metadata": {
            "tags": [],
            "needs_background": "light"
          }
        }
      ]
    },
    {
      "cell_type": "markdown",
      "metadata": {
        "id": "tnUUQ96zouM3"
      },
      "source": [
        "## Test"
      ]
    },
    {
      "cell_type": "code",
      "metadata": {
        "colab": {
          "base_uri": "https://localhost:8080/"
        },
        "id": "jTjC8VjNouM4",
        "outputId": "d1687995-c0ca-4663-eec7-e82de811459c"
      },
      "source": [
        "import math\n",
        "\n",
        "# make a prediction\n",
        "yhat = model.predict(test_X)\n",
        "test_X1 = test_X.reshape((test_X.shape[0], test_X.shape[2]))\n",
        "# invert scaling for forecast\n",
        "inv_yhat = concatenate((yhat, test_X1[:, 1:]), axis=1)\n",
        "print(inv_yhat.shape)\n",
        "#inv_yhat = scaler.inverse_transform(inv_yhat)\n",
        "inv_yhat = inv_yhat[:,0]\n",
        "# invert scaling for actual\n",
        "test_y = test_y.reshape((len(test_y), 1))\n",
        "inv_y = concatenate((test_y, test_X1[:, 1:]), axis=1)\n",
        "#inv_y = scaler.inverse_transform(inv_y)\n",
        "inv_y = inv_y[:,0]\n",
        "# calculate RMSE\n",
        "mse = mean_squared_error(inv_y, inv_yhat)\n",
        "print('Test MSE: %.3f' % mse)\n",
        "rmse = math.sqrt(mean_squared_error(inv_y, inv_yhat))\n",
        "print('Test RMSE: %.3f' % rmse)\n",
        "\n",
        "print('median_absolute_error', median_absolute_error(inv_y, inv_yhat))\n",
        "print('mean_absolute_error', mean_absolute_error(inv_y, inv_yhat))"
      ],
      "execution_count": 219,
      "outputs": [
        {
          "output_type": "stream",
          "text": [
            "WARNING:tensorflow:6 out of the last 11 calls to <function Model.make_predict_function.<locals>.predict_function at 0x7fc922db0950> triggered tf.function retracing. Tracing is expensive and the excessive number of tracings could be due to (1) creating @tf.function repeatedly in a loop, (2) passing tensors with different shapes, (3) passing Python objects instead of tensors. For (1), please define your @tf.function outside of the loop. For (2), @tf.function has experimental_relax_shapes=True option that relaxes argument shapes that can avoid unnecessary retracing. For (3), please refer to https://www.tensorflow.org/guide/function#controlling_retracing and https://www.tensorflow.org/api_docs/python/tf/function for  more details.\n",
            "(59, 39)\n",
            "Test MSE: 0.158\n",
            "Test RMSE: 0.398\n",
            "median_absolute_error 0.3735332\n",
            "mean_absolute_error 0.36524585\n"
          ],
          "name": "stdout"
        }
      ]
    },
    {
      "cell_type": "markdown",
      "metadata": {
        "id": "l8DfElG0ouM4"
      },
      "source": [
        "## Preprocessing feature selected data for training"
      ]
    },
    {
      "cell_type": "code",
      "metadata": {
        "colab": {
          "base_uri": "https://localhost:8080/"
        },
        "id": "8XYBI9QeouM4",
        "outputId": "4a84ae83-f2dc-402c-eeb0-8ece395125df"
      },
      "source": [
        "len(LA_combined_data_featured_selected.columns)"
      ],
      "execution_count": 220,
      "outputs": [
        {
          "output_type": "execute_result",
          "data": {
            "text/plain": [
              "11"
            ]
          },
          "metadata": {
            "tags": []
          },
          "execution_count": 220
        }
      ]
    },
    {
      "cell_type": "code",
      "metadata": {
        "colab": {
          "base_uri": "https://localhost:8080/"
        },
        "id": "ZR51EUQsouM4",
        "outputId": "d6f6d154-8420-4033-cbdd-26406d88fe43"
      },
      "source": [
        "values = LA_combined_data_featured_selected.values\n",
        "# integer encode direction\n",
        "encoder = LabelEncoder()\n",
        "values[:,len(X_cols_feature_selected)-1] = encoder.fit_transform(values[:,len(X_cols_feature_selected)-1])\n",
        "# ensure all data is float\n",
        "values = values.astype('float32')\n",
        "# normalize features\n",
        "scaler = MinMaxScaler(feature_range=(0, 1))\n",
        "scaled = scaler.fit_transform(values)\n",
        "# frame as supervised learning\n",
        "reframed = series_to_supervised(scaled, 1, 1)\n",
        "# drop columns we don't want to predict\n",
        "#reframed.drop(reframed.columns[[9,10,11,12,13,14,15]], axis=1, inplace=True)\n",
        "print(reframed.head())"
      ],
      "execution_count": 221,
      "outputs": [
        {
          "output_type": "stream",
          "text": [
            "   var1(t-1)  var2(t-1)  var3(t-1)  ...  var9(t)  var10(t)  var11(t)\n",
            "1     0.2353     0.0000     0.9655  ...   0.0000    0.0033    0.0000\n",
            "2     0.0294     0.0000     1.0000  ...   0.0000    0.0066    0.0000\n",
            "3     0.0000     0.0000     0.9885  ...   0.0000    0.0099    0.0186\n",
            "4     0.0000     0.0000     0.9770  ...   0.0000    0.0132    0.0112\n",
            "5     0.0000     0.0000     0.9770  ...   0.0000    0.0166    0.0074\n",
            "\n",
            "[5 rows x 22 columns]\n"
          ],
          "name": "stdout"
        }
      ]
    },
    {
      "cell_type": "markdown",
      "metadata": {
        "id": "I1ALSY-ZouM5"
      },
      "source": [
        "### Train Test split"
      ]
    },
    {
      "cell_type": "code",
      "metadata": {
        "colab": {
          "base_uri": "https://localhost:8080/"
        },
        "id": "0td61EePouM5",
        "outputId": "c59b1aa9-a800-438b-d28b-a2998e9c8187"
      },
      "source": [
        "\n",
        "# split into train and test sets\n",
        "values = reframed.values\n",
        "rows_count = values.shape[0]\n",
        "# split the 1/5 value\n",
        "train_split = rows_count//5\n",
        "\n",
        "n_train_hours = train_split * 4\n",
        "\n",
        "print(n_train_hours)\n",
        "print('values shape ',values.shape)\n",
        "train = values[:n_train_hours, :]\n",
        "test = values[n_train_hours:, :]\n",
        "# split into input and outputs\n",
        "train_X, train_y = train[:, :-1], train[:, -1]\n",
        "test_X, test_y = test[:, :-1], test[:, -1]\n",
        "# reshape input to be 3D [samples, timesteps, features]\n",
        "train_X = train_X.reshape((train_X.shape[0], 1, train_X.shape[1]))\n",
        "test_X = test_X.reshape((test_X.shape[0], 1, test_X.shape[1]))\n",
        "print(train_X.shape, train_y.shape, test_X.shape, test_y.shape)"
      ],
      "execution_count": 222,
      "outputs": [
        {
          "output_type": "stream",
          "text": [
            "232\n",
            "values shape  (291, 22)\n",
            "(232, 1, 21) (232,) (59, 1, 21) (59,)\n"
          ],
          "name": "stdout"
        }
      ]
    },
    {
      "cell_type": "markdown",
      "metadata": {
        "id": "L8J1GAuqouM5"
      },
      "source": [
        "### Training LSTM for feature selected data"
      ]
    },
    {
      "cell_type": "code",
      "metadata": {
        "colab": {
          "base_uri": "https://localhost:8080/"
        },
        "id": "RdtesRtFouM5",
        "outputId": "fdeb6914-4c20-4d96-ddb0-e04fffefa611"
      },
      "source": [
        "...\n",
        "# design network\n",
        "model = Sequential()\n",
        "model.add(LSTM(50, input_shape=(train_X.shape[1], train_X.shape[2])))\n",
        "model.add(Dense(1))\n",
        "model.compile(loss='mae', optimizer='adam')\n",
        "# fit network\n",
        "history = model.fit(train_X, train_y, epochs=200, batch_size=72, validation_data=(test_X, test_y), verbose=2, shuffle=False)\n"
      ],
      "execution_count": 223,
      "outputs": [
        {
          "output_type": "stream",
          "text": [
            "Epoch 1/200\n",
            "4/4 - 2s - loss: 0.4418 - val_loss: 0.7280\n",
            "Epoch 2/200\n",
            "4/4 - 0s - loss: 0.3447 - val_loss: 0.6146\n",
            "Epoch 3/200\n",
            "4/4 - 0s - loss: 0.2674 - val_loss: 0.5053\n",
            "Epoch 4/200\n",
            "4/4 - 0s - loss: 0.2121 - val_loss: 0.4134\n",
            "Epoch 5/200\n",
            "4/4 - 0s - loss: 0.1860 - val_loss: 0.3447\n",
            "Epoch 6/200\n",
            "4/4 - 0s - loss: 0.1807 - val_loss: 0.3047\n",
            "Epoch 7/200\n",
            "4/4 - 0s - loss: 0.1807 - val_loss: 0.2906\n",
            "Epoch 8/200\n",
            "4/4 - 0s - loss: 0.1799 - val_loss: 0.2934\n",
            "Epoch 9/200\n",
            "4/4 - 0s - loss: 0.1782 - val_loss: 0.3062\n",
            "Epoch 10/200\n",
            "4/4 - 0s - loss: 0.1766 - val_loss: 0.3237\n",
            "Epoch 11/200\n",
            "4/4 - 0s - loss: 0.1757 - val_loss: 0.3421\n",
            "Epoch 12/200\n",
            "4/4 - 0s - loss: 0.1757 - val_loss: 0.3578\n",
            "Epoch 13/200\n",
            "4/4 - 0s - loss: 0.1758 - val_loss: 0.3665\n",
            "Epoch 14/200\n",
            "4/4 - 0s - loss: 0.1756 - val_loss: 0.3673\n",
            "Epoch 15/200\n",
            "4/4 - 0s - loss: 0.1741 - val_loss: 0.3622\n",
            "Epoch 16/200\n",
            "4/4 - 0s - loss: 0.1719 - val_loss: 0.3532\n",
            "Epoch 17/200\n",
            "4/4 - 0s - loss: 0.1694 - val_loss: 0.3434\n",
            "Epoch 18/200\n",
            "4/4 - 0s - loss: 0.1670 - val_loss: 0.3361\n",
            "Epoch 19/200\n",
            "4/4 - 0s - loss: 0.1652 - val_loss: 0.3330\n",
            "Epoch 20/200\n",
            "4/4 - 0s - loss: 0.1637 - val_loss: 0.3329\n",
            "Epoch 21/200\n",
            "4/4 - 0s - loss: 0.1625 - val_loss: 0.3347\n",
            "Epoch 22/200\n",
            "4/4 - 0s - loss: 0.1615 - val_loss: 0.3361\n",
            "Epoch 23/200\n",
            "4/4 - 0s - loss: 0.1604 - val_loss: 0.3341\n",
            "Epoch 24/200\n",
            "4/4 - 0s - loss: 0.1588 - val_loss: 0.3300\n",
            "Epoch 25/200\n",
            "4/4 - 0s - loss: 0.1570 - val_loss: 0.3257\n",
            "Epoch 26/200\n",
            "4/4 - 0s - loss: 0.1553 - val_loss: 0.3240\n",
            "Epoch 27/200\n",
            "4/4 - 0s - loss: 0.1540 - val_loss: 0.3243\n",
            "Epoch 28/200\n",
            "4/4 - 0s - loss: 0.1529 - val_loss: 0.3237\n",
            "Epoch 29/200\n",
            "4/4 - 0s - loss: 0.1514 - val_loss: 0.3202\n",
            "Epoch 30/200\n",
            "4/4 - 0s - loss: 0.1497 - val_loss: 0.3175\n",
            "Epoch 31/200\n",
            "4/4 - 0s - loss: 0.1481 - val_loss: 0.3156\n",
            "Epoch 32/200\n",
            "4/4 - 0s - loss: 0.1466 - val_loss: 0.3143\n",
            "Epoch 33/200\n",
            "4/4 - 0s - loss: 0.1453 - val_loss: 0.3130\n",
            "Epoch 34/200\n",
            "4/4 - 0s - loss: 0.1442 - val_loss: 0.3107\n",
            "Epoch 35/200\n",
            "4/4 - 0s - loss: 0.1430 - val_loss: 0.3079\n",
            "Epoch 36/200\n",
            "4/4 - 0s - loss: 0.1419 - val_loss: 0.3046\n",
            "Epoch 37/200\n",
            "4/4 - 0s - loss: 0.1405 - val_loss: 0.3014\n",
            "Epoch 38/200\n",
            "4/4 - 0s - loss: 0.1393 - val_loss: 0.2989\n",
            "Epoch 39/200\n",
            "4/4 - 0s - loss: 0.1381 - val_loss: 0.2983\n",
            "Epoch 40/200\n",
            "4/4 - 0s - loss: 0.1372 - val_loss: 0.2988\n",
            "Epoch 41/200\n",
            "4/4 - 0s - loss: 0.1364 - val_loss: 0.2994\n",
            "Epoch 42/200\n",
            "4/4 - 0s - loss: 0.1356 - val_loss: 0.3001\n",
            "Epoch 43/200\n",
            "4/4 - 0s - loss: 0.1348 - val_loss: 0.3007\n",
            "Epoch 44/200\n",
            "4/4 - 0s - loss: 0.1340 - val_loss: 0.3009\n",
            "Epoch 45/200\n",
            "4/4 - 0s - loss: 0.1332 - val_loss: 0.3005\n",
            "Epoch 46/200\n",
            "4/4 - 0s - loss: 0.1321 - val_loss: 0.2997\n",
            "Epoch 47/200\n",
            "4/4 - 0s - loss: 0.1311 - val_loss: 0.2994\n",
            "Epoch 48/200\n",
            "4/4 - 0s - loss: 0.1301 - val_loss: 0.2983\n",
            "Epoch 49/200\n",
            "4/4 - 0s - loss: 0.1289 - val_loss: 0.2967\n",
            "Epoch 50/200\n",
            "4/4 - 0s - loss: 0.1278 - val_loss: 0.2952\n",
            "Epoch 51/200\n",
            "4/4 - 0s - loss: 0.1266 - val_loss: 0.2917\n",
            "Epoch 52/200\n",
            "4/4 - 0s - loss: 0.1252 - val_loss: 0.2886\n",
            "Epoch 53/200\n",
            "4/4 - 0s - loss: 0.1239 - val_loss: 0.2878\n",
            "Epoch 54/200\n",
            "4/4 - 0s - loss: 0.1231 - val_loss: 0.2892\n",
            "Epoch 55/200\n",
            "4/4 - 0s - loss: 0.1224 - val_loss: 0.2921\n",
            "Epoch 56/200\n",
            "4/4 - 0s - loss: 0.1220 - val_loss: 0.2915\n",
            "Epoch 57/200\n",
            "4/4 - 0s - loss: 0.1210 - val_loss: 0.2863\n",
            "Epoch 58/200\n",
            "4/4 - 0s - loss: 0.1200 - val_loss: 0.2860\n",
            "Epoch 59/200\n",
            "4/4 - 0s - loss: 0.1194 - val_loss: 0.2861\n",
            "Epoch 60/200\n",
            "4/4 - 0s - loss: 0.1188 - val_loss: 0.2866\n",
            "Epoch 61/200\n",
            "4/4 - 0s - loss: 0.1182 - val_loss: 0.2858\n",
            "Epoch 62/200\n",
            "4/4 - 0s - loss: 0.1175 - val_loss: 0.2824\n",
            "Epoch 63/200\n",
            "4/4 - 0s - loss: 0.1166 - val_loss: 0.2811\n",
            "Epoch 64/200\n",
            "4/4 - 0s - loss: 0.1160 - val_loss: 0.2816\n",
            "Epoch 65/200\n",
            "4/4 - 0s - loss: 0.1154 - val_loss: 0.2820\n",
            "Epoch 66/200\n",
            "4/4 - 0s - loss: 0.1149 - val_loss: 0.2802\n",
            "Epoch 67/200\n",
            "4/4 - 0s - loss: 0.1142 - val_loss: 0.2808\n",
            "Epoch 68/200\n",
            "4/4 - 0s - loss: 0.1137 - val_loss: 0.2797\n",
            "Epoch 69/200\n",
            "4/4 - 0s - loss: 0.1132 - val_loss: 0.2808\n",
            "Epoch 70/200\n",
            "4/4 - 0s - loss: 0.1128 - val_loss: 0.2835\n",
            "Epoch 71/200\n",
            "4/4 - 0s - loss: 0.1125 - val_loss: 0.2857\n",
            "Epoch 72/200\n",
            "4/4 - 0s - loss: 0.1123 - val_loss: 0.2876\n",
            "Epoch 73/200\n",
            "4/4 - 0s - loss: 0.1120 - val_loss: 0.2891\n",
            "Epoch 74/200\n",
            "4/4 - 0s - loss: 0.1117 - val_loss: 0.2918\n",
            "Epoch 75/200\n",
            "4/4 - 0s - loss: 0.1115 - val_loss: 0.2948\n",
            "Epoch 76/200\n",
            "4/4 - 0s - loss: 0.1114 - val_loss: 0.2967\n",
            "Epoch 77/200\n",
            "4/4 - 0s - loss: 0.1112 - val_loss: 0.2977\n",
            "Epoch 78/200\n",
            "4/4 - 0s - loss: 0.1109 - val_loss: 0.2994\n",
            "Epoch 79/200\n",
            "4/4 - 0s - loss: 0.1106 - val_loss: 0.3029\n",
            "Epoch 80/200\n",
            "4/4 - 0s - loss: 0.1106 - val_loss: 0.3067\n",
            "Epoch 81/200\n",
            "4/4 - 0s - loss: 0.1105 - val_loss: 0.3072\n",
            "Epoch 82/200\n",
            "4/4 - 0s - loss: 0.1102 - val_loss: 0.3063\n",
            "Epoch 83/200\n",
            "4/4 - 0s - loss: 0.1099 - val_loss: 0.3073\n",
            "Epoch 84/200\n",
            "4/4 - 0s - loss: 0.1097 - val_loss: 0.3104\n",
            "Epoch 85/200\n",
            "4/4 - 0s - loss: 0.1096 - val_loss: 0.3109\n",
            "Epoch 86/200\n",
            "4/4 - 0s - loss: 0.1094 - val_loss: 0.3087\n",
            "Epoch 87/200\n",
            "4/4 - 0s - loss: 0.1092 - val_loss: 0.3121\n",
            "Epoch 88/200\n",
            "4/4 - 0s - loss: 0.1092 - val_loss: 0.3142\n",
            "Epoch 89/200\n",
            "4/4 - 0s - loss: 0.1090 - val_loss: 0.3123\n",
            "Epoch 90/200\n",
            "4/4 - 0s - loss: 0.1088 - val_loss: 0.3158\n",
            "Epoch 91/200\n",
            "4/4 - 0s - loss: 0.1088 - val_loss: 0.3132\n",
            "Epoch 92/200\n",
            "4/4 - 0s - loss: 0.1089 - val_loss: 0.3065\n",
            "Epoch 93/200\n",
            "4/4 - 0s - loss: 0.1085 - val_loss: 0.3199\n",
            "Epoch 94/200\n",
            "4/4 - 0s - loss: 0.1091 - val_loss: 0.3210\n",
            "Epoch 95/200\n",
            "4/4 - 0s - loss: 0.1088 - val_loss: 0.3043\n",
            "Epoch 96/200\n",
            "4/4 - 0s - loss: 0.1089 - val_loss: 0.3156\n",
            "Epoch 97/200\n",
            "4/4 - 0s - loss: 0.1086 - val_loss: 0.3243\n",
            "Epoch 98/200\n",
            "4/4 - 0s - loss: 0.1085 - val_loss: 0.3136\n",
            "Epoch 99/200\n",
            "4/4 - 0s - loss: 0.1083 - val_loss: 0.3168\n",
            "Epoch 100/200\n",
            "4/4 - 0s - loss: 0.1082 - val_loss: 0.3200\n",
            "Epoch 101/200\n",
            "4/4 - 0s - loss: 0.1082 - val_loss: 0.3181\n",
            "Epoch 102/200\n",
            "4/4 - 0s - loss: 0.1082 - val_loss: 0.3159\n",
            "Epoch 103/200\n",
            "4/4 - 0s - loss: 0.1081 - val_loss: 0.3184\n",
            "Epoch 104/200\n",
            "4/4 - 0s - loss: 0.1081 - val_loss: 0.3215\n",
            "Epoch 105/200\n",
            "4/4 - 0s - loss: 0.1081 - val_loss: 0.3229\n",
            "Epoch 106/200\n",
            "4/4 - 0s - loss: 0.1081 - val_loss: 0.3231\n",
            "Epoch 107/200\n",
            "4/4 - 0s - loss: 0.1080 - val_loss: 0.3226\n",
            "Epoch 108/200\n",
            "4/4 - 0s - loss: 0.1080 - val_loss: 0.3239\n",
            "Epoch 109/200\n",
            "4/4 - 0s - loss: 0.1080 - val_loss: 0.3230\n",
            "Epoch 110/200\n",
            "4/4 - 0s - loss: 0.1081 - val_loss: 0.3237\n",
            "Epoch 111/200\n",
            "4/4 - 0s - loss: 0.1079 - val_loss: 0.3268\n",
            "Epoch 112/200\n",
            "4/4 - 0s - loss: 0.1080 - val_loss: 0.3243\n",
            "Epoch 113/200\n",
            "4/4 - 0s - loss: 0.1078 - val_loss: 0.3280\n",
            "Epoch 114/200\n",
            "4/4 - 0s - loss: 0.1079 - val_loss: 0.3255\n",
            "Epoch 115/200\n",
            "4/4 - 0s - loss: 0.1078 - val_loss: 0.3291\n",
            "Epoch 116/200\n",
            "4/4 - 0s - loss: 0.1078 - val_loss: 0.3281\n",
            "Epoch 117/200\n",
            "4/4 - 0s - loss: 0.1079 - val_loss: 0.3281\n",
            "Epoch 118/200\n",
            "4/4 - 0s - loss: 0.1078 - val_loss: 0.3331\n",
            "Epoch 119/200\n",
            "4/4 - 0s - loss: 0.1078 - val_loss: 0.3288\n",
            "Epoch 120/200\n",
            "4/4 - 0s - loss: 0.1077 - val_loss: 0.3308\n",
            "Epoch 121/200\n",
            "4/4 - 0s - loss: 0.1077 - val_loss: 0.3320\n",
            "Epoch 122/200\n",
            "4/4 - 0s - loss: 0.1078 - val_loss: 0.3304\n",
            "Epoch 123/200\n",
            "4/4 - 0s - loss: 0.1076 - val_loss: 0.3355\n",
            "Epoch 124/200\n",
            "4/4 - 0s - loss: 0.1077 - val_loss: 0.3323\n",
            "Epoch 125/200\n",
            "4/4 - 0s - loss: 0.1076 - val_loss: 0.3344\n",
            "Epoch 126/200\n",
            "4/4 - 0s - loss: 0.1075 - val_loss: 0.3341\n",
            "Epoch 127/200\n",
            "4/4 - 0s - loss: 0.1077 - val_loss: 0.3330\n",
            "Epoch 128/200\n",
            "4/4 - 0s - loss: 0.1075 - val_loss: 0.3393\n",
            "Epoch 129/200\n",
            "4/4 - 0s - loss: 0.1076 - val_loss: 0.3331\n",
            "Epoch 130/200\n",
            "4/4 - 0s - loss: 0.1078 - val_loss: 0.3329\n",
            "Epoch 131/200\n",
            "4/4 - 0s - loss: 0.1074 - val_loss: 0.3421\n",
            "Epoch 132/200\n",
            "4/4 - 0s - loss: 0.1075 - val_loss: 0.3340\n",
            "Epoch 133/200\n",
            "4/4 - 0s - loss: 0.1079 - val_loss: 0.3326\n",
            "Epoch 134/200\n",
            "4/4 - 0s - loss: 0.1073 - val_loss: 0.3433\n",
            "Epoch 135/200\n",
            "4/4 - 0s - loss: 0.1075 - val_loss: 0.3370\n",
            "Epoch 136/200\n",
            "4/4 - 0s - loss: 0.1077 - val_loss: 0.3334\n",
            "Epoch 137/200\n",
            "4/4 - 0s - loss: 0.1072 - val_loss: 0.3420\n",
            "Epoch 138/200\n",
            "4/4 - 0s - loss: 0.1073 - val_loss: 0.3422\n",
            "Epoch 139/200\n",
            "4/4 - 0s - loss: 0.1073 - val_loss: 0.3409\n",
            "Epoch 140/200\n",
            "4/4 - 0s - loss: 0.1074 - val_loss: 0.3382\n",
            "Epoch 141/200\n",
            "4/4 - 0s - loss: 0.1071 - val_loss: 0.3440\n",
            "Epoch 142/200\n",
            "4/4 - 0s - loss: 0.1072 - val_loss: 0.3423\n",
            "Epoch 143/200\n",
            "4/4 - 0s - loss: 0.1072 - val_loss: 0.3435\n",
            "Epoch 144/200\n",
            "4/4 - 0s - loss: 0.1071 - val_loss: 0.3444\n",
            "Epoch 145/200\n",
            "4/4 - 0s - loss: 0.1072 - val_loss: 0.3448\n",
            "Epoch 146/200\n",
            "4/4 - 0s - loss: 0.1070 - val_loss: 0.3498\n",
            "Epoch 147/200\n",
            "4/4 - 0s - loss: 0.1071 - val_loss: 0.3457\n",
            "Epoch 148/200\n",
            "4/4 - 0s - loss: 0.1070 - val_loss: 0.3478\n",
            "Epoch 149/200\n",
            "4/4 - 0s - loss: 0.1070 - val_loss: 0.3493\n",
            "Epoch 150/200\n",
            "4/4 - 0s - loss: 0.1070 - val_loss: 0.3466\n",
            "Epoch 151/200\n",
            "4/4 - 0s - loss: 0.1070 - val_loss: 0.3497\n",
            "Epoch 152/200\n",
            "4/4 - 0s - loss: 0.1069 - val_loss: 0.3508\n",
            "Epoch 153/200\n",
            "4/4 - 0s - loss: 0.1070 - val_loss: 0.3497\n",
            "Epoch 154/200\n",
            "4/4 - 0s - loss: 0.1068 - val_loss: 0.3549\n",
            "Epoch 155/200\n",
            "4/4 - 0s - loss: 0.1069 - val_loss: 0.3487\n",
            "Epoch 156/200\n",
            "4/4 - 0s - loss: 0.1071 - val_loss: 0.3493\n",
            "Epoch 157/200\n",
            "4/4 - 0s - loss: 0.1068 - val_loss: 0.3597\n",
            "Epoch 158/200\n",
            "4/4 - 0s - loss: 0.1068 - val_loss: 0.3526\n",
            "Epoch 159/200\n",
            "4/4 - 0s - loss: 0.1071 - val_loss: 0.3489\n",
            "Epoch 160/200\n",
            "4/4 - 0s - loss: 0.1067 - val_loss: 0.3585\n",
            "Epoch 161/200\n",
            "4/4 - 0s - loss: 0.1067 - val_loss: 0.3550\n",
            "Epoch 162/200\n",
            "4/4 - 0s - loss: 0.1068 - val_loss: 0.3527\n",
            "Epoch 163/200\n",
            "4/4 - 0s - loss: 0.1066 - val_loss: 0.3606\n",
            "Epoch 164/200\n",
            "4/4 - 0s - loss: 0.1066 - val_loss: 0.3559\n",
            "Epoch 165/200\n",
            "4/4 - 0s - loss: 0.1068 - val_loss: 0.3548\n",
            "Epoch 166/200\n",
            "4/4 - 0s - loss: 0.1065 - val_loss: 0.3622\n",
            "Epoch 167/200\n",
            "4/4 - 0s - loss: 0.1066 - val_loss: 0.3593\n",
            "Epoch 168/200\n",
            "4/4 - 0s - loss: 0.1065 - val_loss: 0.3595\n",
            "Epoch 169/200\n",
            "4/4 - 0s - loss: 0.1065 - val_loss: 0.3627\n",
            "Epoch 170/200\n",
            "4/4 - 0s - loss: 0.1065 - val_loss: 0.3617\n",
            "Epoch 171/200\n",
            "4/4 - 0s - loss: 0.1066 - val_loss: 0.3581\n",
            "Epoch 172/200\n",
            "4/4 - 0s - loss: 0.1063 - val_loss: 0.3631\n",
            "Epoch 173/200\n",
            "4/4 - 0s - loss: 0.1064 - val_loss: 0.3623\n",
            "Epoch 174/200\n",
            "4/4 - 0s - loss: 0.1063 - val_loss: 0.3620\n",
            "Epoch 175/200\n",
            "4/4 - 0s - loss: 0.1065 - val_loss: 0.3637\n",
            "Epoch 176/200\n",
            "4/4 - 0s - loss: 0.1063 - val_loss: 0.3715\n",
            "Epoch 177/200\n",
            "4/4 - 0s - loss: 0.1063 - val_loss: 0.3628\n",
            "Epoch 178/200\n",
            "4/4 - 0s - loss: 0.1068 - val_loss: 0.3653\n",
            "Epoch 179/200\n",
            "4/4 - 0s - loss: 0.1063 - val_loss: 0.3752\n",
            "Epoch 180/200\n",
            "4/4 - 0s - loss: 0.1063 - val_loss: 0.3641\n",
            "Epoch 181/200\n",
            "4/4 - 0s - loss: 0.1063 - val_loss: 0.3676\n",
            "Epoch 182/200\n",
            "4/4 - 0s - loss: 0.1061 - val_loss: 0.3720\n",
            "Epoch 183/200\n",
            "4/4 - 0s - loss: 0.1062 - val_loss: 0.3677\n",
            "Epoch 184/200\n",
            "4/4 - 0s - loss: 0.1061 - val_loss: 0.3726\n",
            "Epoch 185/200\n",
            "4/4 - 0s - loss: 0.1061 - val_loss: 0.3713\n",
            "Epoch 186/200\n",
            "4/4 - 0s - loss: 0.1060 - val_loss: 0.3705\n",
            "Epoch 187/200\n",
            "4/4 - 0s - loss: 0.1061 - val_loss: 0.3725\n",
            "Epoch 188/200\n",
            "4/4 - 0s - loss: 0.1060 - val_loss: 0.3751\n",
            "Epoch 189/200\n",
            "4/4 - 0s - loss: 0.1060 - val_loss: 0.3716\n",
            "Epoch 190/200\n",
            "4/4 - 0s - loss: 0.1059 - val_loss: 0.3747\n",
            "Epoch 191/200\n",
            "4/4 - 0s - loss: 0.1059 - val_loss: 0.3745\n",
            "Epoch 192/200\n",
            "4/4 - 0s - loss: 0.1060 - val_loss: 0.3792\n",
            "Epoch 193/200\n",
            "4/4 - 0s - loss: 0.1061 - val_loss: 0.3856\n",
            "Epoch 194/200\n",
            "4/4 - 0s - loss: 0.1060 - val_loss: 0.3737\n",
            "Epoch 195/200\n",
            "4/4 - 0s - loss: 0.1059 - val_loss: 0.3796\n",
            "Epoch 196/200\n",
            "4/4 - 0s - loss: 0.1058 - val_loss: 0.3785\n",
            "Epoch 197/200\n",
            "4/4 - 0s - loss: 0.1060 - val_loss: 0.3795\n",
            "Epoch 198/200\n",
            "4/4 - 0s - loss: 0.1057 - val_loss: 0.3828\n",
            "Epoch 199/200\n",
            "4/4 - 0s - loss: 0.1058 - val_loss: 0.3798\n",
            "Epoch 200/200\n",
            "4/4 - 0s - loss: 0.1057 - val_loss: 0.3803\n"
          ],
          "name": "stdout"
        }
      ]
    },
    {
      "cell_type": "code",
      "metadata": {
        "colab": {
          "base_uri": "https://localhost:8080/",
          "height": 267
        },
        "id": "AgPF0wXtouM6",
        "outputId": "a50ffe04-5116-405b-a79a-a4f8a0608c27"
      },
      "source": [
        "# plot history\n",
        "plt.plot(history.history['loss'], label='train')\n",
        "plt.plot(history.history['val_loss'], label='test')\n",
        "plt.legend()\n",
        "plt.show()"
      ],
      "execution_count": 224,
      "outputs": [
        {
          "output_type": "display_data",
          "data": {
            "image/png": "[encoded data removed]",
            "text/plain": [
              "<Figure size 432x288 with 1 Axes>"
            ]
          },
          "metadata": {
            "tags": [],
            "needs_background": "light"
          }
        }
      ]
    },
    {
      "cell_type": "markdown",
      "metadata": {
        "id": "_9v61CKoouM6"
      },
      "source": [
        "### Testing feature selected data"
      ]
    },
    {
      "cell_type": "code",
      "metadata": {
        "colab": {
          "base_uri": "https://localhost:8080/"
        },
        "id": "2y3Hyaf1ouM6",
        "outputId": "8b6b0ca3-deca-42ef-b3e1-52419d253c55"
      },
      "source": [
        "import math\n",
        "\n",
        "# make a prediction\n",
        "yhat = model.predict(test_X)\n",
        "test_X1 = test_X.reshape((test_X.shape[0], test_X.shape[2]))\n",
        "# invert scaling for forecast\n",
        "inv_yhat = concatenate((yhat, test_X1[:, 1:]), axis=1)\n",
        "print(inv_yhat.shape)\n",
        "#inv_yhat = scaler.inverse_transform(inv_yhat)\n",
        "inv_yhat = inv_yhat[:,0]\n",
        "# invert scaling for actual\n",
        "test_y = test_y.reshape((len(test_y), 1))\n",
        "inv_y = concatenate((test_y, test_X1[:, 1:]), axis=1)\n",
        "#inv_y = scaler.inverse_transform(inv_y)\n",
        "inv_y = inv_y[:,0]\n",
        "# calculate RMSE\n",
        "mse = mean_squared_error(inv_y, inv_yhat)\n",
        "print('Test MSE: %.3f' % mse)\n",
        "rmse = math.sqrt(mean_squared_error(inv_y, inv_yhat))\n",
        "print('Test RMSE: %.3f' % rmse)\n",
        "print('median_absolute_error', median_absolute_error(inv_y, inv_yhat))\n",
        "print('mean_absolute_error', mean_absolute_error(inv_y, inv_yhat))"
      ],
      "execution_count": 225,
      "outputs": [
        {
          "output_type": "stream",
          "text": [
            "WARNING:tensorflow:6 out of the last 11 calls to <function Model.make_predict_function.<locals>.predict_function at 0x7fc91f408840> triggered tf.function retracing. Tracing is expensive and the excessive number of tracings could be due to (1) creating @tf.function repeatedly in a loop, (2) passing tensors with different shapes, (3) passing Python objects instead of tensors. For (1), please define your @tf.function outside of the loop. For (2), @tf.function has experimental_relax_shapes=True option that relaxes argument shapes that can avoid unnecessary retracing. For (3), please refer to https://www.tensorflow.org/guide/function#controlling_retracing and https://www.tensorflow.org/api_docs/python/tf/function for  more details.\n",
            "(59, 21)\n",
            "Test MSE: 0.178\n",
            "Test RMSE: 0.422\n",
            "median_absolute_error 0.39813504\n",
            "mean_absolute_error 0.38025996\n"
          ],
          "name": "stdout"
        }
      ]
    },
    {
      "cell_type": "markdown",
      "metadata": {
        "id": "q1oGmXjS6_w_"
      },
      "source": [
        "# LSTM: All Groups Together"
      ]
    },
    {
      "cell_type": "code",
      "metadata": {
        "id": "8JFl43gt6_xR"
      },
      "source": [
        "x_col_all_group = ['retail_and_recreation_percent_change_from_baseline',\n",
        "       'grocery_and_pharmacy_percent_change_from_baseline','parks_percent_change_from_baseline',\n",
        "       'transit_stations_percent_change_from_baseline','workplaces_percent_change_from_baseline',\n",
        "       'residential_percent_change_from_baseline',\n",
        "       'Hospital.beds.1000.people',\n",
        "       'ICUs.1000.people', \n",
        "       'X..hospital.bed.utilization',\n",
        "       'Testing.capacity', 'Tests.done.1000.people', 'X..ICU.utilization',\n",
        "       'Ventilator.shortage',\n",
        "       'X..staying.home', 'Trips.person', 'X..out.of.county.trips',\n",
        "       'X..out.of.state.trips', 'Miles.person', 'Work.trips.person',\n",
        "       'Non.work.trips.person','X..working.from.home',\n",
        "       'm50', 'm50_index','Social.distancing.index',\n",
        "                           'mask_rule_severity',\n",
        "       'Date','New cases']\n",
        "\n",
        "X_cols_all = x_col_all_group\n",
        "\n",
        "X_cols_feature_selected = ['X..people.older.than.60', 'Median.income', 'X..Male',\n",
        "                           'X..African.Americans', 'PopDensity',\n",
        "                           'X..hospital.bed.utilization', 'Testing.capacity','Tests.done.1000.people',\n",
        "                           'X..staying.home', 'X..working.from.home', 'workplaces_percent_change_from_baseline', \n",
        "                           'X..out.of.state.trips', 'parks_percent_change_from_baseline',\n",
        "                           'm50', 'm50_index','Social.distancing.index',\n",
        "                           'mask_rule_severity'\n",
        "                           ,'Date','New cases']\n"
      ],
      "execution_count": 34,
      "outputs": []
    },
    {
      "cell_type": "code",
      "metadata": {
        "colab": {
          "base_uri": "https://localhost:8080/",
          "height": 350
        },
        "id": "vnflPkbv6_xS",
        "outputId": "c0508e25-1c1a-4ab5-8920-f685a22c8c29"
      },
      "source": [
        "LA_combined_data_all = CA_superset_data[CA_superset_data['County Name'] == 'Los Angeles County'][X_cols_all]\n",
        "print(LA_combined_data_all.shape)\n",
        "\n",
        "LA_combined_data_featured = CA_superset_data[CA_superset_data['County Name'] == 'Los Angeles County'][X_cols_feature_selected]\n",
        "print(LA_combined_data_featured.shape)\n",
        "LA_combined_data_all.head(5)"
      ],
      "execution_count": 35,
      "outputs": [
        {
          "output_type": "stream",
          "text": [
            "(292, 27)\n",
            "(292, 19)\n"
          ],
          "name": "stdout"
        },
        {
          "output_type": "execute_result",
          "data": {
            "text/html": [
              "<div>\n",
              "<style scoped>\n",
              "    .dataframe tbody tr th:only-of-type {\n",
              "        vertical-align: middle;\n",
              "    }\n",
              "\n",
              "    .dataframe tbody tr th {\n",
              "        vertical-align: top;\n",
              "    }\n",
              "\n",
              "    .dataframe thead th {\n",
              "        text-align: right;\n",
              "    }\n",
              "</style>\n",
              "<table border=\"1\" class=\"dataframe\">\n",
              "  <thead>\n",
              "    <tr style=\"text-align: right;\">\n",
              "      <th></th>\n",
              "      <th>retail_and_recreation_percent_change_from_baseline</th>\n",
              "      <th>grocery_and_pharmacy_percent_change_from_baseline</th>\n",
              "      <th>parks_percent_change_from_baseline</th>\n",
              "      <th>transit_stations_percent_change_from_baseline</th>\n",
              "      <th>workplaces_percent_change_from_baseline</th>\n",
              "      <th>residential_percent_change_from_baseline</th>\n",
              "      <th>Hospital.beds.1000.people</th>\n",
              "      <th>ICUs.1000.people</th>\n",
              "      <th>X..hospital.bed.utilization</th>\n",
              "      <th>Testing.capacity</th>\n",
              "      <th>Tests.done.1000.people</th>\n",
              "      <th>X..ICU.utilization</th>\n",
              "      <th>Ventilator.shortage</th>\n",
              "      <th>X..staying.home</th>\n",
              "      <th>Trips.person</th>\n",
              "      <th>X..out.of.county.trips</th>\n",
              "      <th>X..out.of.state.trips</th>\n",
              "      <th>Miles.person</th>\n",
              "      <th>Work.trips.person</th>\n",
              "      <th>Non.work.trips.person</th>\n",
              "      <th>X..working.from.home</th>\n",
              "      <th>m50</th>\n",
              "      <th>m50_index</th>\n",
              "      <th>Social.distancing.index</th>\n",
              "      <th>mask_rule_severity</th>\n",
              "      <th>Date</th>\n",
              "      <th>New cases</th>\n",
              "    </tr>\n",
              "  </thead>\n",
              "  <tbody>\n",
              "    <tr>\n",
              "      <th>4804</th>\n",
              "      <td>4.0000</td>\n",
              "      <td>3.0000</td>\n",
              "      <td>-5.0000</td>\n",
              "      <td>-3.0000</td>\n",
              "      <td>1.0000</td>\n",
              "      <td>0.0000</td>\n",
              "      <td>2.0500</td>\n",
              "      <td>0.2200</td>\n",
              "      <td>54.0000</td>\n",
              "      <td>0.0000</td>\n",
              "      <td>0.0000</td>\n",
              "      <td>0.0000</td>\n",
              "      <td>0</td>\n",
              "      <td>26</td>\n",
              "      <td>2.9100</td>\n",
              "      <td>11.2000</td>\n",
              "      <td>0.5000</td>\n",
              "      <td>35.1000</td>\n",
              "      <td>0.2600</td>\n",
              "      <td>2.6500</td>\n",
              "      <td>5.7000</td>\n",
              "      <td>3.9960</td>\n",
              "      <td>60</td>\n",
              "      <td>35</td>\n",
              "      <td>0.0000</td>\n",
              "      <td>2020-03-01</td>\n",
              "      <td>0</td>\n",
              "    </tr>\n",
              "    <tr>\n",
              "      <th>4805</th>\n",
              "      <td>5.0000</td>\n",
              "      <td>5.0000</td>\n",
              "      <td>8.0000</td>\n",
              "      <td>1.0000</td>\n",
              "      <td>4.0000</td>\n",
              "      <td>-1.0000</td>\n",
              "      <td>2.0500</td>\n",
              "      <td>0.2200</td>\n",
              "      <td>54.0000</td>\n",
              "      <td>0.0000</td>\n",
              "      <td>0.0000</td>\n",
              "      <td>0.0000</td>\n",
              "      <td>0</td>\n",
              "      <td>19</td>\n",
              "      <td>3.4200</td>\n",
              "      <td>10.4000</td>\n",
              "      <td>0.4000</td>\n",
              "      <td>35.1000</td>\n",
              "      <td>0.7000</td>\n",
              "      <td>2.7100</td>\n",
              "      <td>5.7000</td>\n",
              "      <td>6.5020</td>\n",
              "      <td>98</td>\n",
              "      <td>16</td>\n",
              "      <td>0.0000</td>\n",
              "      <td>2020-03-02</td>\n",
              "      <td>0</td>\n",
              "    </tr>\n",
              "    <tr>\n",
              "      <th>4806</th>\n",
              "      <td>8.0000</td>\n",
              "      <td>7.0000</td>\n",
              "      <td>32.0000</td>\n",
              "      <td>2.0000</td>\n",
              "      <td>3.0000</td>\n",
              "      <td>-1.0000</td>\n",
              "      <td>2.0500</td>\n",
              "      <td>0.2200</td>\n",
              "      <td>54.0000</td>\n",
              "      <td>0.0000</td>\n",
              "      <td>0.0000</td>\n",
              "      <td>0.0000</td>\n",
              "      <td>0</td>\n",
              "      <td>18</td>\n",
              "      <td>3.5700</td>\n",
              "      <td>10.2000</td>\n",
              "      <td>0.3000</td>\n",
              "      <td>33.7000</td>\n",
              "      <td>0.7300</td>\n",
              "      <td>2.8400</td>\n",
              "      <td>5.7000</td>\n",
              "      <td>6.5910</td>\n",
              "      <td>99</td>\n",
              "      <td>15</td>\n",
              "      <td>0.0000</td>\n",
              "      <td>2020-03-03</td>\n",
              "      <td>0</td>\n",
              "    </tr>\n",
              "    <tr>\n",
              "      <th>4807</th>\n",
              "      <td>4.0000</td>\n",
              "      <td>6.0000</td>\n",
              "      <td>9.0000</td>\n",
              "      <td>-1.0000</td>\n",
              "      <td>2.0000</td>\n",
              "      <td>0.0000</td>\n",
              "      <td>2.0500</td>\n",
              "      <td>0.2200</td>\n",
              "      <td>54.0000</td>\n",
              "      <td>10.3000</td>\n",
              "      <td>0.0100</td>\n",
              "      <td>0.0000</td>\n",
              "      <td>0</td>\n",
              "      <td>18</td>\n",
              "      <td>3.4800</td>\n",
              "      <td>10.7000</td>\n",
              "      <td>0.3000</td>\n",
              "      <td>34.9000</td>\n",
              "      <td>0.7200</td>\n",
              "      <td>2.7600</td>\n",
              "      <td>5.7000</td>\n",
              "      <td>6.5950</td>\n",
              "      <td>100</td>\n",
              "      <td>14</td>\n",
              "      <td>0.0000</td>\n",
              "      <td>2020-03-04</td>\n",
              "      <td>6</td>\n",
              "    </tr>\n",
              "    <tr>\n",
              "      <th>4808</th>\n",
              "      <td>4.0000</td>\n",
              "      <td>7.0000</td>\n",
              "      <td>9.0000</td>\n",
              "      <td>0.0000</td>\n",
              "      <td>2.0000</td>\n",
              "      <td>0.0000</td>\n",
              "      <td>2.0500</td>\n",
              "      <td>0.2200</td>\n",
              "      <td>54.0000</td>\n",
              "      <td>10.3000</td>\n",
              "      <td>0.0100</td>\n",
              "      <td>0.0000</td>\n",
              "      <td>0</td>\n",
              "      <td>18</td>\n",
              "      <td>3.5200</td>\n",
              "      <td>10.7000</td>\n",
              "      <td>0.3000</td>\n",
              "      <td>36.4000</td>\n",
              "      <td>0.7200</td>\n",
              "      <td>2.8100</td>\n",
              "      <td>5.7000</td>\n",
              "      <td>7.0080</td>\n",
              "      <td>106</td>\n",
              "      <td>14</td>\n",
              "      <td>0.0000</td>\n",
              "      <td>2020-03-05</td>\n",
              "      <td>4</td>\n",
              "    </tr>\n",
              "  </tbody>\n",
              "</table>\n",
              "</div>"
            ],
            "text/plain": [
              "      retail_and_recreation_percent_change_from_baseline  ...  New cases\n",
              "4804                                             4.0000   ...          0\n",
              "4805                                             5.0000   ...          0\n",
              "4806                                             8.0000   ...          0\n",
              "4807                                             4.0000   ...          6\n",
              "4808                                             4.0000   ...          4\n",
              "\n",
              "[5 rows x 27 columns]"
            ]
          },
          "metadata": {
            "tags": []
          },
          "execution_count": 35
        }
      ]
    },
    {
      "cell_type": "code",
      "metadata": {
        "id": "CKMv1y5-6_xT"
      },
      "source": [
        "from datetime import datetime\n",
        "# load data\n",
        "def parse(x):\n",
        "\treturn datetime.strptime(x, '%Y-%m-%d')\n",
        " \n",
        "def datetime_to_float(d):\n",
        "    date_time_obj = datetime.strptime(d, '%Y-%m-%d')\n",
        "    return date_time_obj.timestamp()"
      ],
      "execution_count": 36,
      "outputs": []
    },
    {
      "cell_type": "code",
      "metadata": {
        "colab": {
          "base_uri": "https://localhost:8080/"
        },
        "id": "7SMJ_bGr6_xT",
        "outputId": "d7998a48-2e07-4596-f183-0c7ea6da20b8"
      },
      "source": [
        "len(LA_combined_data_featured.columns)"
      ],
      "execution_count": 37,
      "outputs": [
        {
          "output_type": "execute_result",
          "data": {
            "text/plain": [
              "19"
            ]
          },
          "metadata": {
            "tags": []
          },
          "execution_count": 37
        }
      ]
    },
    {
      "cell_type": "code",
      "metadata": {
        "colab": {
          "base_uri": "https://localhost:8080/",
          "height": 233
        },
        "id": "UlmO4szL6_xU",
        "outputId": "2432d698-f816-419b-9e5c-eab907dbd6ee"
      },
      "source": [
        "LA_combined_data_featured['Date'] = LA_combined_data_featured['Date'].apply(lambda x: datetime_to_float(x))\n",
        "LA_combined_data_all['Date'] = LA_combined_data_all['Date'].apply(lambda x: datetime_to_float(x))\n",
        "\n",
        "#Harris_combined_data.index.name = 'Date'\n",
        "LA_combined_data_featured.head()"
      ],
      "execution_count": 38,
      "outputs": [
        {
          "output_type": "execute_result",
          "data": {
            "text/html": [
              "<div>\n",
              "<style scoped>\n",
              "    .dataframe tbody tr th:only-of-type {\n",
              "        vertical-align: middle;\n",
              "    }\n",
              "\n",
              "    .dataframe tbody tr th {\n",
              "        vertical-align: top;\n",
              "    }\n",
              "\n",
              "    .dataframe thead th {\n",
              "        text-align: right;\n",
              "    }\n",
              "</style>\n",
              "<table border=\"1\" class=\"dataframe\">\n",
              "  <thead>\n",
              "    <tr style=\"text-align: right;\">\n",
              "      <th></th>\n",
              "      <th>X..people.older.than.60</th>\n",
              "      <th>Median.income</th>\n",
              "      <th>X..Male</th>\n",
              "      <th>X..African.Americans</th>\n",
              "      <th>PopDensity</th>\n",
              "      <th>X..hospital.bed.utilization</th>\n",
              "      <th>Testing.capacity</th>\n",
              "      <th>Tests.done.1000.people</th>\n",
              "      <th>X..staying.home</th>\n",
              "      <th>X..working.from.home</th>\n",
              "      <th>workplaces_percent_change_from_baseline</th>\n",
              "      <th>X..out.of.state.trips</th>\n",
              "      <th>parks_percent_change_from_baseline</th>\n",
              "      <th>m50</th>\n",
              "      <th>m50_index</th>\n",
              "      <th>Social.distancing.index</th>\n",
              "      <th>mask_rule_severity</th>\n",
              "      <th>Date</th>\n",
              "      <th>New cases</th>\n",
              "    </tr>\n",
              "  </thead>\n",
              "  <tbody>\n",
              "    <tr>\n",
              "      <th>4804</th>\n",
              "      <td>18</td>\n",
              "      <td>64251</td>\n",
              "      <td>49.2800</td>\n",
              "      <td>7.9000</td>\n",
              "      <td>960.7428</td>\n",
              "      <td>54.0000</td>\n",
              "      <td>0.0000</td>\n",
              "      <td>0.0000</td>\n",
              "      <td>26</td>\n",
              "      <td>5.7000</td>\n",
              "      <td>1.0000</td>\n",
              "      <td>0.5000</td>\n",
              "      <td>-5.0000</td>\n",
              "      <td>3.9960</td>\n",
              "      <td>60</td>\n",
              "      <td>35</td>\n",
              "      <td>0.0000</td>\n",
              "      <td>1583020800.0000</td>\n",
              "      <td>0</td>\n",
              "    </tr>\n",
              "    <tr>\n",
              "      <th>4805</th>\n",
              "      <td>18</td>\n",
              "      <td>64251</td>\n",
              "      <td>49.2800</td>\n",
              "      <td>7.9000</td>\n",
              "      <td>960.7428</td>\n",
              "      <td>54.0000</td>\n",
              "      <td>0.0000</td>\n",
              "      <td>0.0000</td>\n",
              "      <td>19</td>\n",
              "      <td>5.7000</td>\n",
              "      <td>4.0000</td>\n",
              "      <td>0.4000</td>\n",
              "      <td>8.0000</td>\n",
              "      <td>6.5020</td>\n",
              "      <td>98</td>\n",
              "      <td>16</td>\n",
              "      <td>0.0000</td>\n",
              "      <td>1583107200.0000</td>\n",
              "      <td>0</td>\n",
              "    </tr>\n",
              "    <tr>\n",
              "      <th>4806</th>\n",
              "      <td>18</td>\n",
              "      <td>64251</td>\n",
              "      <td>49.2800</td>\n",
              "      <td>7.9000</td>\n",
              "      <td>960.7428</td>\n",
              "      <td>54.0000</td>\n",
              "      <td>0.0000</td>\n",
              "      <td>0.0000</td>\n",
              "      <td>18</td>\n",
              "      <td>5.7000</td>\n",
              "      <td>3.0000</td>\n",
              "      <td>0.3000</td>\n",
              "      <td>32.0000</td>\n",
              "      <td>6.5910</td>\n",
              "      <td>99</td>\n",
              "      <td>15</td>\n",
              "      <td>0.0000</td>\n",
              "      <td>1583193600.0000</td>\n",
              "      <td>0</td>\n",
              "    </tr>\n",
              "    <tr>\n",
              "      <th>4807</th>\n",
              "      <td>18</td>\n",
              "      <td>64251</td>\n",
              "      <td>49.2800</td>\n",
              "      <td>7.9000</td>\n",
              "      <td>960.7428</td>\n",
              "      <td>54.0000</td>\n",
              "      <td>10.3000</td>\n",
              "      <td>0.0100</td>\n",
              "      <td>18</td>\n",
              "      <td>5.7000</td>\n",
              "      <td>2.0000</td>\n",
              "      <td>0.3000</td>\n",
              "      <td>9.0000</td>\n",
              "      <td>6.5950</td>\n",
              "      <td>100</td>\n",
              "      <td>14</td>\n",
              "      <td>0.0000</td>\n",
              "      <td>1583280000.0000</td>\n",
              "      <td>6</td>\n",
              "    </tr>\n",
              "    <tr>\n",
              "      <th>4808</th>\n",
              "      <td>18</td>\n",
              "      <td>64251</td>\n",
              "      <td>49.2800</td>\n",
              "      <td>7.9000</td>\n",
              "      <td>960.7428</td>\n",
              "      <td>54.0000</td>\n",
              "      <td>10.3000</td>\n",
              "      <td>0.0100</td>\n",
              "      <td>18</td>\n",
              "      <td>5.7000</td>\n",
              "      <td>2.0000</td>\n",
              "      <td>0.3000</td>\n",
              "      <td>9.0000</td>\n",
              "      <td>7.0080</td>\n",
              "      <td>106</td>\n",
              "      <td>14</td>\n",
              "      <td>0.0000</td>\n",
              "      <td>1583366400.0000</td>\n",
              "      <td>4</td>\n",
              "    </tr>\n",
              "  </tbody>\n",
              "</table>\n",
              "</div>"
            ],
            "text/plain": [
              "      X..people.older.than.60  Median.income  ...            Date  New cases\n",
              "4804                       18          64251  ... 1583020800.0000          0\n",
              "4805                       18          64251  ... 1583107200.0000          0\n",
              "4806                       18          64251  ... 1583193600.0000          0\n",
              "4807                       18          64251  ... 1583280000.0000          6\n",
              "4808                       18          64251  ... 1583366400.0000          4\n",
              "\n",
              "[5 rows x 19 columns]"
            ]
          },
          "metadata": {
            "tags": []
          },
          "execution_count": 38
        }
      ]
    },
    {
      "cell_type": "code",
      "metadata": {
        "colab": {
          "base_uri": "https://localhost:8080/"
        },
        "id": "OWXrSj2d6_xU",
        "outputId": "b3f3a441-39e0-4c40-aa85-b93c068d2692"
      },
      "source": [
        "print(len(LA_combined_data_featured.columns))\n",
        "LA_combined_data_featured.dtypes"
      ],
      "execution_count": 39,
      "outputs": [
        {
          "output_type": "stream",
          "text": [
            "19\n"
          ],
          "name": "stdout"
        },
        {
          "output_type": "execute_result",
          "data": {
            "text/plain": [
              "X..people.older.than.60                      int64\n",
              "Median.income                                int64\n",
              "X..Male                                    float64\n",
              "X..African.Americans                       float64\n",
              "PopDensity                                 float64\n",
              "X..hospital.bed.utilization                float64\n",
              "Testing.capacity                           float64\n",
              "Tests.done.1000.people                     float64\n",
              "X..staying.home                              int64\n",
              "X..working.from.home                       float64\n",
              "workplaces_percent_change_from_baseline    float64\n",
              "X..out.of.state.trips                      float64\n",
              "parks_percent_change_from_baseline         float64\n",
              "m50                                        float64\n",
              "m50_index                                    int64\n",
              "Social.distancing.index                      int64\n",
              "mask_rule_severity                         float64\n",
              "Date                                       float64\n",
              "New cases                                    int64\n",
              "dtype: object"
            ]
          },
          "metadata": {
            "tags": []
          },
          "execution_count": 39
        }
      ]
    },
    {
      "cell_type": "markdown",
      "metadata": {
        "id": "cqY_CG9q6_xU"
      },
      "source": [
        "## Preprocessing data for LSTM"
      ]
    },
    {
      "cell_type": "code",
      "metadata": {
        "id": "gzYzRxwa6_xV"
      },
      "source": [
        "LA_combined_data_all_selected = LA_combined_data_all[X_cols_all]\n",
        "LA_combined_data_featured_selected = LA_combined_data_featured[X_cols_feature_selected]"
      ],
      "execution_count": 40,
      "outputs": []
    },
    {
      "cell_type": "code",
      "metadata": {
        "id": "g8U2n2d46_xV"
      },
      "source": [
        "\n",
        "# prepare data for lstm\n",
        "from pandas import read_csv\n",
        "from pandas import DataFrame\n",
        "from pandas import concat\n",
        "from sklearn.preprocessing import LabelEncoder\n",
        "from sklearn.preprocessing import MinMaxScaler\n",
        " \n",
        "# convert series to supervised learning\n",
        "def series_to_supervised(data, n_in=1, n_out=1, dropnan=True):\n",
        "\tn_vars = 1 if type(data) is list else data.shape[1]\n",
        "\tdf = DataFrame(data)\n",
        "\tcols, names = list(), list()\n",
        "\t# input sequence (t-n, ... t-1)\n",
        "\tfor i in range(n_in, 0, -1):\n",
        "\t\tcols.append(df.shift(i))\n",
        "\t\tnames += [('var%d(t-%d)' % (j+1, i)) for j in range(n_vars)]\n",
        "\t# forecast sequence (t, t+1, ... t+n)\n",
        "\tfor i in range(0, n_out):\n",
        "\t\tcols.append(df.shift(-i))\n",
        "\t\tif i == 0:\n",
        "\t\t\tnames += [('var%d(t)' % (j+1)) for j in range(n_vars)]\n",
        "\t\telse:\n",
        "\t\t\tnames += [('var%d(t+%d)' % (j+1, i)) for j in range(n_vars)]\n",
        "\t# put it all together\n",
        "\tagg = concat(cols, axis=1)\n",
        "\tagg.columns = names\n",
        "\t# drop rows with NaN values\n",
        "\tif dropnan:\n",
        "\t\tagg.dropna(inplace=True)\n",
        "\treturn agg"
      ],
      "execution_count": 41,
      "outputs": []
    },
    {
      "cell_type": "markdown",
      "metadata": {
        "id": "S6o4t2h46_xV"
      },
      "source": [
        "## All values for CA training data"
      ]
    },
    {
      "cell_type": "code",
      "metadata": {
        "colab": {
          "base_uri": "https://localhost:8080/"
        },
        "id": "hl_DRUQl6_xW",
        "outputId": "7d2430c0-7bd5-4d39-893c-c6798ca10954"
      },
      "source": [
        "values = LA_combined_data_all_selected.values\n",
        "# integer encode direction\n",
        "encoder = LabelEncoder()\n",
        "values[:,len(X_cols_all)-1] = encoder.fit_transform(values[:,len(X_cols_all)-1])\n",
        "# ensure all data is float\n",
        "values = values.astype('float32')\n",
        "# normalize features\n",
        "scaler = MinMaxScaler(feature_range=(0, 1))\n",
        "scaled = scaler.fit_transform(values)\n",
        "# frame as supervised learning\n",
        "reframed = series_to_supervised(scaled, 1, 1)\n",
        "# drop columns we don't want to predict\n",
        "#reframed.drop(reframed.columns[[9,10,11,12,13,14,15]], axis=1, inplace=True)\n",
        "print(reframed.head())"
      ],
      "execution_count": 42,
      "outputs": [
        {
          "output_type": "stream",
          "text": [
            "   var1(t-1)  var2(t-1)  var3(t-1)  ...  var25(t)  var26(t)  var27(t)\n",
            "1     0.9512     0.6092     0.6337  ...    0.0000    0.0033    0.0000\n",
            "2     0.9634     0.6322     0.7624  ...    0.0000    0.0066    0.0000\n",
            "3     1.0000     0.6552     1.0000  ...    0.0000    0.0099    0.0186\n",
            "4     0.9512     0.6437     0.7723  ...    0.0000    0.0132    0.0112\n",
            "5     0.9512     0.6552     0.7723  ...    0.0000    0.0166    0.0074\n",
            "\n",
            "[5 rows x 54 columns]\n"
          ],
          "name": "stdout"
        }
      ]
    },
    {
      "cell_type": "markdown",
      "metadata": {
        "id": "jZyCFtiv6_xW"
      },
      "source": [
        "## Train Test Split"
      ]
    },
    {
      "cell_type": "code",
      "metadata": {
        "colab": {
          "base_uri": "https://localhost:8080/"
        },
        "id": "FuxMZ6HE6_xW",
        "outputId": "bb9577f8-4464-47c1-a92f-41560276b8cc"
      },
      "source": [
        "values.shape[0]"
      ],
      "execution_count": 43,
      "outputs": [
        {
          "output_type": "execute_result",
          "data": {
            "text/plain": [
              "292"
            ]
          },
          "metadata": {
            "tags": []
          },
          "execution_count": 43
        }
      ]
    },
    {
      "cell_type": "code",
      "metadata": {
        "colab": {
          "base_uri": "https://localhost:8080/"
        },
        "id": "TUwZsLT-6_xW",
        "outputId": "b5a36489-fecd-4f0e-b583-a35273f66aeb"
      },
      "source": [
        "\n",
        "# split into train and test sets\n",
        "values = reframed.values\n",
        "rows_count = values.shape[0]\n",
        "# split the 1/5 value\n",
        "train_split = rows_count//5\n",
        "\n",
        "n_train_hours = train_split * 4\n",
        "\n",
        "print(n_train_hours)\n",
        "print('values shape ',values.shape)\n",
        "train = values[:n_train_hours, :]\n",
        "test = values[n_train_hours:, :]\n",
        "# split into input and outputs\n",
        "train_X, train_y = train[:, :-1], train[:, -1]\n",
        "test_X, test_y = test[:, :-1], test[:, -1]\n",
        "# reshape input to be 3D [samples, timesteps, features]\n",
        "train_X = train_X.reshape((train_X.shape[0], 1, train_X.shape[1]))\n",
        "test_X = test_X.reshape((test_X.shape[0], 1, test_X.shape[1]))\n",
        "print(train_X.shape, train_y.shape, test_X.shape, test_y.shape)"
      ],
      "execution_count": 44,
      "outputs": [
        {
          "output_type": "stream",
          "text": [
            "232\n",
            "values shape  (291, 54)\n",
            "(232, 1, 53) (232,) (59, 1, 53) (59,)\n"
          ],
          "name": "stdout"
        }
      ]
    },
    {
      "cell_type": "markdown",
      "metadata": {
        "id": "H6ZFKSMj6_xX"
      },
      "source": [
        "## Training LSTM"
      ]
    },
    {
      "cell_type": "code",
      "metadata": {
        "colab": {
          "base_uri": "https://localhost:8080/",
          "height": 1000
        },
        "id": "bq3oSuI46_xX",
        "outputId": "56441ea9-313d-45f8-c3ad-dd19ea3ee03f"
      },
      "source": [
        "...\n",
        "# design network\n",
        "model = Sequential()\n",
        "model.add(LSTM(50, input_shape=(train_X.shape[1], train_X.shape[2])))\n",
        "model.add(Dense(1))\n",
        "model.compile(loss='mae', optimizer='adam')\n",
        "# fit network\n",
        "history = model.fit(train_X, train_y, epochs=100, batch_size=72, validation_data=(test_X, test_y), verbose=2, shuffle=False)\n",
        "# plot history\n",
        "plt.plot(history.history['loss'], label='train')\n",
        "plt.plot(history.history['val_loss'], label='test')\n",
        "plt.legend()\n",
        "plt.show()"
      ],
      "execution_count": 45,
      "outputs": [
        {
          "output_type": "stream",
          "text": [
            "Epoch 1/100\n",
            "4/4 - 2s - loss: 0.3758 - val_loss: 0.6707\n",
            "Epoch 2/100\n",
            "4/4 - 0s - loss: 0.2461 - val_loss: 0.4886\n",
            "Epoch 3/100\n",
            "4/4 - 0s - loss: 0.1891 - val_loss: 0.3622\n",
            "Epoch 4/100\n",
            "4/4 - 0s - loss: 0.1906 - val_loss: 0.3043\n",
            "Epoch 5/100\n",
            "4/4 - 0s - loss: 0.1960 - val_loss: 0.3008\n",
            "Epoch 6/100\n",
            "4/4 - 0s - loss: 0.1911 - val_loss: 0.3266\n",
            "Epoch 7/100\n",
            "4/4 - 0s - loss: 0.1834 - val_loss: 0.3657\n",
            "Epoch 8/100\n",
            "4/4 - 0s - loss: 0.1792 - val_loss: 0.3957\n",
            "Epoch 9/100\n",
            "4/4 - 0s - loss: 0.1777 - val_loss: 0.4118\n",
            "Epoch 10/100\n",
            "4/4 - 0s - loss: 0.1760 - val_loss: 0.4133\n",
            "Epoch 11/100\n",
            "4/4 - 0s - loss: 0.1722 - val_loss: 0.4007\n",
            "Epoch 12/100\n",
            "4/4 - 0s - loss: 0.1669 - val_loss: 0.3814\n",
            "Epoch 13/100\n",
            "4/4 - 0s - loss: 0.1617 - val_loss: 0.3632\n",
            "Epoch 14/100\n",
            "4/4 - 0s - loss: 0.1573 - val_loss: 0.3484\n",
            "Epoch 15/100\n",
            "4/4 - 0s - loss: 0.1531 - val_loss: 0.3367\n",
            "Epoch 16/100\n",
            "4/4 - 0s - loss: 0.1491 - val_loss: 0.3298\n",
            "Epoch 17/100\n",
            "4/4 - 0s - loss: 0.1453 - val_loss: 0.3251\n",
            "Epoch 18/100\n",
            "4/4 - 0s - loss: 0.1417 - val_loss: 0.3212\n",
            "Epoch 19/100\n",
            "4/4 - 0s - loss: 0.1380 - val_loss: 0.3167\n",
            "Epoch 20/100\n",
            "4/4 - 0s - loss: 0.1343 - val_loss: 0.3130\n",
            "Epoch 21/100\n",
            "4/4 - 0s - loss: 0.1306 - val_loss: 0.3099\n",
            "Epoch 22/100\n",
            "4/4 - 0s - loss: 0.1276 - val_loss: 0.3065\n",
            "Epoch 23/100\n",
            "4/4 - 0s - loss: 0.1251 - val_loss: 0.3029\n",
            "Epoch 24/100\n",
            "4/4 - 0s - loss: 0.1227 - val_loss: 0.3013\n",
            "Epoch 25/100\n",
            "4/4 - 0s - loss: 0.1207 - val_loss: 0.3006\n",
            "Epoch 26/100\n",
            "4/4 - 0s - loss: 0.1190 - val_loss: 0.3041\n",
            "Epoch 27/100\n",
            "4/4 - 0s - loss: 0.1175 - val_loss: 0.3108\n",
            "Epoch 28/100\n",
            "4/4 - 0s - loss: 0.1162 - val_loss: 0.3125\n",
            "Epoch 29/100\n",
            "4/4 - 0s - loss: 0.1146 - val_loss: 0.3091\n",
            "Epoch 30/100\n",
            "4/4 - 0s - loss: 0.1130 - val_loss: 0.3107\n",
            "Epoch 31/100\n",
            "4/4 - 0s - loss: 0.1118 - val_loss: 0.3182\n",
            "Epoch 32/100\n",
            "4/4 - 0s - loss: 0.1109 - val_loss: 0.3204\n",
            "Epoch 33/100\n",
            "4/4 - 0s - loss: 0.1100 - val_loss: 0.3206\n",
            "Epoch 34/100\n",
            "4/4 - 0s - loss: 0.1091 - val_loss: 0.3233\n",
            "Epoch 35/100\n",
            "4/4 - 0s - loss: 0.1082 - val_loss: 0.3232\n",
            "Epoch 36/100\n",
            "4/4 - 0s - loss: 0.1076 - val_loss: 0.3207\n",
            "Epoch 37/100\n",
            "4/4 - 0s - loss: 0.1067 - val_loss: 0.3204\n",
            "Epoch 38/100\n",
            "4/4 - 0s - loss: 0.1070 - val_loss: 0.3201\n",
            "Epoch 39/100\n",
            "4/4 - 0s - loss: 0.1058 - val_loss: 0.3305\n",
            "Epoch 40/100\n",
            "4/4 - 0s - loss: 0.1059 - val_loss: 0.3236\n",
            "Epoch 41/100\n",
            "4/4 - 0s - loss: 0.1052 - val_loss: 0.3297\n",
            "Epoch 42/100\n",
            "4/4 - 0s - loss: 0.1052 - val_loss: 0.3318\n",
            "Epoch 43/100\n",
            "4/4 - 0s - loss: 0.1045 - val_loss: 0.3385\n",
            "Epoch 44/100\n",
            "4/4 - 0s - loss: 0.1045 - val_loss: 0.3323\n",
            "Epoch 45/100\n",
            "4/4 - 0s - loss: 0.1040 - val_loss: 0.3358\n",
            "Epoch 46/100\n",
            "4/4 - 0s - loss: 0.1044 - val_loss: 0.3381\n",
            "Epoch 47/100\n",
            "4/4 - 0s - loss: 0.1037 - val_loss: 0.3472\n",
            "Epoch 48/100\n",
            "4/4 - 0s - loss: 0.1037 - val_loss: 0.3380\n",
            "Epoch 49/100\n",
            "4/4 - 0s - loss: 0.1033 - val_loss: 0.3503\n",
            "Epoch 50/100\n",
            "4/4 - 0s - loss: 0.1029 - val_loss: 0.3367\n",
            "Epoch 51/100\n",
            "4/4 - 0s - loss: 0.1042 - val_loss: 0.3489\n",
            "Epoch 52/100\n",
            "4/4 - 0s - loss: 0.1032 - val_loss: 0.3624\n",
            "Epoch 53/100\n",
            "4/4 - 0s - loss: 0.1029 - val_loss: 0.3456\n",
            "Epoch 54/100\n",
            "4/4 - 0s - loss: 0.1023 - val_loss: 0.3603\n",
            "Epoch 55/100\n",
            "4/4 - 0s - loss: 0.1020 - val_loss: 0.3470\n",
            "Epoch 56/100\n",
            "4/4 - 0s - loss: 0.1029 - val_loss: 0.3623\n",
            "Epoch 57/100\n",
            "4/4 - 0s - loss: 0.1025 - val_loss: 0.3693\n",
            "Epoch 58/100\n",
            "4/4 - 0s - loss: 0.1026 - val_loss: 0.3489\n",
            "Epoch 59/100\n",
            "4/4 - 0s - loss: 0.1017 - val_loss: 0.3735\n",
            "Epoch 60/100\n",
            "4/4 - 0s - loss: 0.1013 - val_loss: 0.3549\n",
            "Epoch 61/100\n",
            "4/4 - 0s - loss: 0.1033 - val_loss: 0.3559\n",
            "Epoch 62/100\n",
            "4/4 - 0s - loss: 0.1012 - val_loss: 0.3810\n",
            "Epoch 63/100\n",
            "4/4 - 0s - loss: 0.1012 - val_loss: 0.3557\n",
            "Epoch 64/100\n",
            "4/4 - 0s - loss: 0.1022 - val_loss: 0.3689\n",
            "Epoch 65/100\n",
            "4/4 - 0s - loss: 0.1011 - val_loss: 0.3807\n",
            "Epoch 66/100\n",
            "4/4 - 0s - loss: 0.1010 - val_loss: 0.3645\n",
            "Epoch 67/100\n",
            "4/4 - 0s - loss: 0.1005 - val_loss: 0.3789\n",
            "Epoch 68/100\n",
            "4/4 - 0s - loss: 0.1005 - val_loss: 0.3635\n",
            "Epoch 69/100\n",
            "4/4 - 0s - loss: 0.1013 - val_loss: 0.3724\n",
            "Epoch 70/100\n",
            "4/4 - 0s - loss: 0.1003 - val_loss: 0.3863\n",
            "Epoch 71/100\n",
            "4/4 - 0s - loss: 0.1006 - val_loss: 0.3718\n",
            "Epoch 72/100\n",
            "4/4 - 0s - loss: 0.1001 - val_loss: 0.3835\n",
            "Epoch 73/100\n",
            "4/4 - 0s - loss: 0.0998 - val_loss: 0.3726\n",
            "Epoch 74/100\n",
            "4/4 - 0s - loss: 0.1005 - val_loss: 0.3809\n",
            "Epoch 75/100\n",
            "4/4 - 0s - loss: 0.0998 - val_loss: 0.3843\n",
            "Epoch 76/100\n",
            "4/4 - 0s - loss: 0.1007 - val_loss: 0.3749\n",
            "Epoch 77/100\n",
            "4/4 - 0s - loss: 0.0998 - val_loss: 0.3956\n",
            "Epoch 78/100\n",
            "4/4 - 0s - loss: 0.0996 - val_loss: 0.3818\n",
            "Epoch 79/100\n",
            "4/4 - 0s - loss: 0.0992 - val_loss: 0.3928\n",
            "Epoch 80/100\n",
            "4/4 - 0s - loss: 0.0993 - val_loss: 0.3829\n",
            "Epoch 81/100\n",
            "4/4 - 0s - loss: 0.0990 - val_loss: 0.3882\n",
            "Epoch 82/100\n",
            "4/4 - 0s - loss: 0.0994 - val_loss: 0.3897\n",
            "Epoch 83/100\n",
            "4/4 - 0s - loss: 0.0989 - val_loss: 0.3968\n",
            "Epoch 84/100\n",
            "4/4 - 0s - loss: 0.0996 - val_loss: 0.3866\n",
            "Epoch 85/100\n",
            "4/4 - 0s - loss: 0.0989 - val_loss: 0.4003\n",
            "Epoch 86/100\n",
            "4/4 - 0s - loss: 0.0996 - val_loss: 0.3896\n",
            "Epoch 87/100\n",
            "4/4 - 0s - loss: 0.0987 - val_loss: 0.4056\n",
            "Epoch 88/100\n",
            "4/4 - 0s - loss: 0.0993 - val_loss: 0.3909\n",
            "Epoch 89/100\n",
            "4/4 - 0s - loss: 0.0986 - val_loss: 0.4108\n",
            "Epoch 90/100\n",
            "4/4 - 0s - loss: 0.0986 - val_loss: 0.3918\n",
            "Epoch 91/100\n",
            "4/4 - 0s - loss: 0.0983 - val_loss: 0.4087\n",
            "Epoch 92/100\n",
            "4/4 - 0s - loss: 0.0980 - val_loss: 0.3956\n",
            "Epoch 93/100\n",
            "4/4 - 0s - loss: 0.0981 - val_loss: 0.4058\n",
            "Epoch 94/100\n",
            "4/4 - 0s - loss: 0.0977 - val_loss: 0.4068\n",
            "Epoch 95/100\n",
            "4/4 - 0s - loss: 0.0982 - val_loss: 0.4022\n",
            "Epoch 96/100\n",
            "4/4 - 0s - loss: 0.0976 - val_loss: 0.4081\n",
            "Epoch 97/100\n",
            "4/4 - 0s - loss: 0.0990 - val_loss: 0.4003\n",
            "Epoch 98/100\n",
            "4/4 - 0s - loss: 0.0978 - val_loss: 0.4130\n",
            "Epoch 99/100\n",
            "4/4 - 0s - loss: 0.0989 - val_loss: 0.3988\n",
            "Epoch 100/100\n",
            "4/4 - 0s - loss: 0.0975 - val_loss: 0.4179\n"
          ],
          "name": "stdout"
        },
        {
          "output_type": "display_data",
          "data": {
            "image/png": "[encoded data removed]",
            "text/plain": [
              "<Figure size 432x288 with 1 Axes>"
            ]
          },
          "metadata": {
            "tags": [],
            "needs_background": "light"
          }
        }
      ]
    },
    {
      "cell_type": "code",
      "metadata": {
        "colab": {
          "base_uri": "https://localhost:8080/",
          "height": 267
        },
        "id": "GCDZqGI_6_xX",
        "outputId": "8dfa8930-c2ab-4d5c-c01e-3885637918ec"
      },
      "source": [
        "# plot history\r\n",
        "plt.plot(history.history['loss'], label='train')\r\n",
        "plt.plot(history.history['val_loss'], label='test')\r\n",
        "plt.legend()\r\n",
        "plt.show()"
      ],
      "execution_count": 46,
      "outputs": [
        {
          "output_type": "display_data",
          "data": {
            "image/png": "[encoded data removed]",
            "text/plain": [
              "<Figure size 432x288 with 1 Axes>"
            ]
          },
          "metadata": {
            "tags": [],
            "needs_background": "light"
          }
        }
      ]
    },
    {
      "cell_type": "markdown",
      "metadata": {
        "id": "xegv4K666_xX"
      },
      "source": [
        "## Test"
      ]
    },
    {
      "cell_type": "code",
      "metadata": {
        "colab": {
          "base_uri": "https://localhost:8080/"
        },
        "id": "kXkymXJ86_xY",
        "outputId": "65d3d9a4-194f-4055-cfdd-e31170693ddc"
      },
      "source": [
        "import math\n",
        "\n",
        "# make a prediction\n",
        "yhat = model.predict(test_X)\n",
        "test_X1 = test_X.reshape((test_X.shape[0], test_X.shape[2]))\n",
        "# invert scaling for forecast\n",
        "inv_yhat = concatenate((yhat, test_X1[:, 1:]), axis=1)\n",
        "print(inv_yhat.shape)\n",
        "#inv_yhat = scaler.inverse_transform(inv_yhat)\n",
        "inv_yhat = inv_yhat[:,0]\n",
        "# invert scaling for actual\n",
        "test_y = test_y.reshape((len(test_y), 1))\n",
        "inv_y = concatenate((test_y, test_X1[:, 1:]), axis=1)\n",
        "#inv_y = scaler.inverse_transform(inv_y)\n",
        "inv_y = inv_y[:,0]\n",
        "# calculate RMSE\n",
        "mse = mean_squared_error(inv_y, inv_yhat)\n",
        "print('Test MSE: %.3f' % mse)\n",
        "rmse = math.sqrt(mean_squared_error(inv_y, inv_yhat))\n",
        "print('Test RMSE: %.3f' % rmse)\n",
        "\n",
        "print('median_absolute_error', median_absolute_error(inv_y, inv_yhat))\n",
        "print('mean_absolute_error', mean_absolute_error(inv_y, inv_yhat))"
      ],
      "execution_count": 47,
      "outputs": [
        {
          "output_type": "stream",
          "text": [
            "(59, 53)\n",
            "Test MSE: 0.193\n",
            "Test RMSE: 0.439\n",
            "median_absolute_error 0.43467027\n",
            "mean_absolute_error 0.41785935\n"
          ],
          "name": "stdout"
        }
      ]
    },
    {
      "cell_type": "markdown",
      "metadata": {
        "id": "Fham7EYy6_xY"
      },
      "source": [
        "## Preprocessing feature selected data for training"
      ]
    },
    {
      "cell_type": "code",
      "metadata": {
        "colab": {
          "base_uri": "https://localhost:8080/"
        },
        "id": "CzpqhXUb6_xY",
        "outputId": "c1faafa6-028a-4b27-8b6a-0124638345a2"
      },
      "source": [
        "len(LA_combined_data_featured_selected.columns)"
      ],
      "execution_count": 48,
      "outputs": [
        {
          "output_type": "execute_result",
          "data": {
            "text/plain": [
              "19"
            ]
          },
          "metadata": {
            "tags": []
          },
          "execution_count": 48
        }
      ]
    },
    {
      "cell_type": "code",
      "metadata": {
        "colab": {
          "base_uri": "https://localhost:8080/"
        },
        "id": "sqNRDBAA6_xY",
        "outputId": "e52fb79b-4cdc-4543-fc94-8a5bb1863aa5"
      },
      "source": [
        "values = LA_combined_data_featured_selected.values\n",
        "# integer encode direction\n",
        "encoder = LabelEncoder()\n",
        "values[:,len(X_cols_feature_selected)-1] = encoder.fit_transform(values[:,len(X_cols_feature_selected)-1])\n",
        "# ensure all data is float\n",
        "values = values.astype('float32')\n",
        "# normalize features\n",
        "scaler = MinMaxScaler(feature_range=(0, 1))\n",
        "scaled = scaler.fit_transform(values)\n",
        "# frame as supervised learning\n",
        "reframed = series_to_supervised(scaled, 1, 1)\n",
        "# drop columns we don't want to predict\n",
        "#reframed.drop(reframed.columns[[9,10,11,12,13,14,15]], axis=1, inplace=True)\n",
        "print(reframed.head())"
      ],
      "execution_count": 49,
      "outputs": [
        {
          "output_type": "stream",
          "text": [
            "   var1(t-1)  var2(t-1)  var3(t-1)  ...  var17(t)  var18(t)  var19(t)\n",
            "1     0.0000     0.0000     0.0000  ...    0.0000    0.0033    0.0000\n",
            "2     0.0000     0.0000     0.0000  ...    0.0000    0.0066    0.0000\n",
            "3     0.0000     0.0000     0.0000  ...    0.0000    0.0099    0.0186\n",
            "4     0.0000     0.0000     0.0000  ...    0.0000    0.0132    0.0112\n",
            "5     0.0000     0.0000     0.0000  ...    0.0000    0.0166    0.0074\n",
            "\n",
            "[5 rows x 38 columns]\n"
          ],
          "name": "stdout"
        }
      ]
    },
    {
      "cell_type": "markdown",
      "metadata": {
        "id": "twqNoA6S6_xZ"
      },
      "source": [
        "### Train Test split"
      ]
    },
    {
      "cell_type": "code",
      "metadata": {
        "colab": {
          "base_uri": "https://localhost:8080/"
        },
        "id": "t8eo4JXl6_xZ",
        "outputId": "91a4d880-a78e-43c1-f3a4-36304b93fcb5"
      },
      "source": [
        "\n",
        "# split into train and test sets\n",
        "values = reframed.values\n",
        "rows_count = values.shape[0]\n",
        "# split the 1/5 value\n",
        "train_split = rows_count//5\n",
        "\n",
        "n_train_hours = train_split * 4\n",
        "\n",
        "print(n_train_hours)\n",
        "print('values shape ',values.shape)\n",
        "train = values[:n_train_hours, :]\n",
        "test = values[n_train_hours:, :]\n",
        "# split into input and outputs\n",
        "train_X, train_y = train[:, :-1], train[:, -1]\n",
        "test_X, test_y = test[:, :-1], test[:, -1]\n",
        "# reshape input to be 3D [samples, timesteps, features]\n",
        "train_X = train_X.reshape((train_X.shape[0], 1, train_X.shape[1]))\n",
        "test_X = test_X.reshape((test_X.shape[0], 1, test_X.shape[1]))\n",
        "print(train_X.shape, train_y.shape, test_X.shape, test_y.shape)"
      ],
      "execution_count": 50,
      "outputs": [
        {
          "output_type": "stream",
          "text": [
            "232\n",
            "values shape  (291, 38)\n",
            "(232, 1, 37) (232,) (59, 1, 37) (59,)\n"
          ],
          "name": "stdout"
        }
      ]
    },
    {
      "cell_type": "markdown",
      "metadata": {
        "id": "j4Ki6miE6_xZ"
      },
      "source": [
        "### Training LSTM for feature selected data"
      ]
    },
    {
      "cell_type": "code",
      "metadata": {
        "colab": {
          "base_uri": "https://localhost:8080/"
        },
        "id": "A6zMGiSg6_xZ",
        "outputId": "48e64fb0-18f6-4440-d412-bfdabaf87a93"
      },
      "source": [
        "...\n",
        "# design network\n",
        "model = Sequential()\n",
        "model.add(LSTM(50, input_shape=(train_X.shape[1], train_X.shape[2])))\n",
        "model.add(Dense(1))\n",
        "model.compile(loss='mae', optimizer='adam')\n",
        "# fit network\n",
        "history = model.fit(train_X, train_y, epochs=200, batch_size=72, validation_data=(test_X, test_y), verbose=2, shuffle=False)\n"
      ],
      "execution_count": 51,
      "outputs": [
        {
          "output_type": "stream",
          "text": [
            "Epoch 1/200\n",
            "4/4 - 2s - loss: 0.3922 - val_loss: 0.7225\n",
            "Epoch 2/200\n",
            "4/4 - 0s - loss: 0.3050 - val_loss: 0.5946\n",
            "Epoch 3/200\n",
            "4/4 - 0s - loss: 0.2387 - val_loss: 0.4771\n",
            "Epoch 4/200\n",
            "4/4 - 0s - loss: 0.2036 - val_loss: 0.3876\n",
            "Epoch 5/200\n",
            "4/4 - 0s - loss: 0.1950 - val_loss: 0.3324\n",
            "Epoch 6/200\n",
            "4/4 - 0s - loss: 0.1948 - val_loss: 0.3137\n",
            "Epoch 7/200\n",
            "4/4 - 0s - loss: 0.1939 - val_loss: 0.3186\n",
            "Epoch 8/200\n",
            "4/4 - 0s - loss: 0.1912 - val_loss: 0.3369\n",
            "Epoch 9/200\n",
            "4/4 - 0s - loss: 0.1888 - val_loss: 0.3600\n",
            "Epoch 10/200\n",
            "4/4 - 0s - loss: 0.1878 - val_loss: 0.3825\n",
            "Epoch 11/200\n",
            "4/4 - 0s - loss: 0.1877 - val_loss: 0.3971\n",
            "Epoch 12/200\n",
            "4/4 - 0s - loss: 0.1872 - val_loss: 0.4022\n",
            "Epoch 13/200\n",
            "4/4 - 0s - loss: 0.1856 - val_loss: 0.4000\n",
            "Epoch 14/200\n",
            "4/4 - 0s - loss: 0.1831 - val_loss: 0.3928\n",
            "Epoch 15/200\n",
            "4/4 - 0s - loss: 0.1802 - val_loss: 0.3825\n",
            "Epoch 16/200\n",
            "4/4 - 0s - loss: 0.1772 - val_loss: 0.3723\n",
            "Epoch 17/200\n",
            "4/4 - 0s - loss: 0.1745 - val_loss: 0.3660\n",
            "Epoch 18/200\n",
            "4/4 - 0s - loss: 0.1723 - val_loss: 0.3650\n",
            "Epoch 19/200\n",
            "4/4 - 0s - loss: 0.1705 - val_loss: 0.3676\n",
            "Epoch 20/200\n",
            "4/4 - 0s - loss: 0.1689 - val_loss: 0.3707\n",
            "Epoch 21/200\n",
            "4/4 - 0s - loss: 0.1673 - val_loss: 0.3709\n",
            "Epoch 22/200\n",
            "4/4 - 0s - loss: 0.1653 - val_loss: 0.3689\n",
            "Epoch 23/200\n",
            "4/4 - 0s - loss: 0.1632 - val_loss: 0.3654\n",
            "Epoch 24/200\n",
            "4/4 - 0s - loss: 0.1609 - val_loss: 0.3623\n",
            "Epoch 25/200\n",
            "4/4 - 0s - loss: 0.1588 - val_loss: 0.3622\n",
            "Epoch 26/200\n",
            "4/4 - 0s - loss: 0.1569 - val_loss: 0.3645\n",
            "Epoch 27/200\n",
            "4/4 - 0s - loss: 0.1553 - val_loss: 0.3665\n",
            "Epoch 28/200\n",
            "4/4 - 0s - loss: 0.1533 - val_loss: 0.3650\n",
            "Epoch 29/200\n",
            "4/4 - 0s - loss: 0.1509 - val_loss: 0.3619\n",
            "Epoch 30/200\n",
            "4/4 - 0s - loss: 0.1486 - val_loss: 0.3619\n",
            "Epoch 31/200\n",
            "4/4 - 0s - loss: 0.1466 - val_loss: 0.3647\n",
            "Epoch 32/200\n",
            "4/4 - 0s - loss: 0.1450 - val_loss: 0.3655\n",
            "Epoch 33/200\n",
            "4/4 - 0s - loss: 0.1426 - val_loss: 0.3613\n",
            "Epoch 34/200\n",
            "4/4 - 0s - loss: 0.1402 - val_loss: 0.3617\n",
            "Epoch 35/200\n",
            "4/4 - 0s - loss: 0.1383 - val_loss: 0.3657\n",
            "Epoch 36/200\n",
            "4/4 - 0s - loss: 0.1366 - val_loss: 0.3675\n",
            "Epoch 37/200\n",
            "4/4 - 0s - loss: 0.1349 - val_loss: 0.3678\n",
            "Epoch 38/200\n",
            "4/4 - 0s - loss: 0.1330 - val_loss: 0.3675\n",
            "Epoch 39/200\n",
            "4/4 - 0s - loss: 0.1311 - val_loss: 0.3677\n",
            "Epoch 40/200\n",
            "4/4 - 0s - loss: 0.1293 - val_loss: 0.3684\n",
            "Epoch 41/200\n",
            "4/4 - 0s - loss: 0.1275 - val_loss: 0.3692\n",
            "Epoch 42/200\n",
            "4/4 - 0s - loss: 0.1258 - val_loss: 0.3700\n",
            "Epoch 43/200\n",
            "4/4 - 0s - loss: 0.1240 - val_loss: 0.3703\n",
            "Epoch 44/200\n",
            "4/4 - 0s - loss: 0.1222 - val_loss: 0.3710\n",
            "Epoch 45/200\n",
            "4/4 - 0s - loss: 0.1209 - val_loss: 0.3745\n",
            "Epoch 46/200\n",
            "4/4 - 0s - loss: 0.1200 - val_loss: 0.3789\n",
            "Epoch 47/200\n",
            "4/4 - 0s - loss: 0.1190 - val_loss: 0.3819\n",
            "Epoch 48/200\n",
            "4/4 - 0s - loss: 0.1181 - val_loss: 0.3824\n",
            "Epoch 49/200\n",
            "4/4 - 0s - loss: 0.1169 - val_loss: 0.3804\n",
            "Epoch 50/200\n",
            "4/4 - 0s - loss: 0.1158 - val_loss: 0.3820\n",
            "Epoch 51/200\n",
            "4/4 - 0s - loss: 0.1148 - val_loss: 0.3831\n",
            "Epoch 52/200\n",
            "4/4 - 0s - loss: 0.1140 - val_loss: 0.3874\n",
            "Epoch 53/200\n",
            "4/4 - 0s - loss: 0.1134 - val_loss: 0.3945\n",
            "Epoch 54/200\n",
            "4/4 - 0s - loss: 0.1130 - val_loss: 0.3979\n",
            "Epoch 55/200\n",
            "4/4 - 0s - loss: 0.1124 - val_loss: 0.3981\n",
            "Epoch 56/200\n",
            "4/4 - 0s - loss: 0.1118 - val_loss: 0.3990\n",
            "Epoch 57/200\n",
            "4/4 - 0s - loss: 0.1112 - val_loss: 0.4012\n",
            "Epoch 58/200\n",
            "4/4 - 0s - loss: 0.1107 - val_loss: 0.4026\n",
            "Epoch 59/200\n",
            "4/4 - 0s - loss: 0.1101 - val_loss: 0.4054\n",
            "Epoch 60/200\n",
            "4/4 - 0s - loss: 0.1096 - val_loss: 0.4114\n",
            "Epoch 61/200\n",
            "4/4 - 0s - loss: 0.1093 - val_loss: 0.4173\n",
            "Epoch 62/200\n",
            "4/4 - 0s - loss: 0.1090 - val_loss: 0.4163\n",
            "Epoch 63/200\n",
            "4/4 - 0s - loss: 0.1086 - val_loss: 0.4145\n",
            "Epoch 64/200\n",
            "4/4 - 0s - loss: 0.1084 - val_loss: 0.4170\n",
            "Epoch 65/200\n",
            "4/4 - 0s - loss: 0.1081 - val_loss: 0.4224\n",
            "Epoch 66/200\n",
            "4/4 - 0s - loss: 0.1079 - val_loss: 0.4234\n",
            "Epoch 67/200\n",
            "4/4 - 0s - loss: 0.1078 - val_loss: 0.4195\n",
            "Epoch 68/200\n",
            "4/4 - 0s - loss: 0.1076 - val_loss: 0.4263\n",
            "Epoch 69/200\n",
            "4/4 - 0s - loss: 0.1075 - val_loss: 0.4274\n",
            "Epoch 70/200\n",
            "4/4 - 0s - loss: 0.1074 - val_loss: 0.4204\n",
            "Epoch 71/200\n",
            "4/4 - 0s - loss: 0.1072 - val_loss: 0.4297\n",
            "Epoch 72/200\n",
            "4/4 - 0s - loss: 0.1071 - val_loss: 0.4336\n",
            "Epoch 73/200\n",
            "4/4 - 0s - loss: 0.1069 - val_loss: 0.4206\n",
            "Epoch 74/200\n",
            "4/4 - 0s - loss: 0.1071 - val_loss: 0.4304\n",
            "Epoch 75/200\n",
            "4/4 - 0s - loss: 0.1067 - val_loss: 0.4332\n",
            "Epoch 76/200\n",
            "4/4 - 0s - loss: 0.1070 - val_loss: 0.4231\n",
            "Epoch 77/200\n",
            "4/4 - 0s - loss: 0.1065 - val_loss: 0.4357\n",
            "Epoch 78/200\n",
            "4/4 - 0s - loss: 0.1063 - val_loss: 0.4320\n",
            "Epoch 79/200\n",
            "4/4 - 0s - loss: 0.1063 - val_loss: 0.4284\n",
            "Epoch 80/200\n",
            "4/4 - 0s - loss: 0.1061 - val_loss: 0.4332\n",
            "Epoch 81/200\n",
            "4/4 - 0s - loss: 0.1060 - val_loss: 0.4345\n",
            "Epoch 82/200\n",
            "4/4 - 0s - loss: 0.1058 - val_loss: 0.4363\n",
            "Epoch 83/200\n",
            "4/4 - 0s - loss: 0.1058 - val_loss: 0.4361\n",
            "Epoch 84/200\n",
            "4/4 - 0s - loss: 0.1056 - val_loss: 0.4385\n",
            "Epoch 85/200\n",
            "4/4 - 0s - loss: 0.1057 - val_loss: 0.4351\n",
            "Epoch 86/200\n",
            "4/4 - 0s - loss: 0.1054 - val_loss: 0.4368\n",
            "Epoch 87/200\n",
            "4/4 - 0s - loss: 0.1058 - val_loss: 0.4372\n",
            "Epoch 88/200\n",
            "4/4 - 0s - loss: 0.1054 - val_loss: 0.4462\n",
            "Epoch 89/200\n",
            "4/4 - 0s - loss: 0.1054 - val_loss: 0.4372\n",
            "Epoch 90/200\n",
            "4/4 - 0s - loss: 0.1053 - val_loss: 0.4450\n",
            "Epoch 91/200\n",
            "4/4 - 0s - loss: 0.1052 - val_loss: 0.4448\n",
            "Epoch 92/200\n",
            "4/4 - 0s - loss: 0.1054 - val_loss: 0.4399\n",
            "Epoch 93/200\n",
            "4/4 - 0s - loss: 0.1050 - val_loss: 0.4469\n",
            "Epoch 94/200\n",
            "4/4 - 0s - loss: 0.1050 - val_loss: 0.4422\n",
            "Epoch 95/200\n",
            "4/4 - 0s - loss: 0.1049 - val_loss: 0.4460\n",
            "Epoch 96/200\n",
            "4/4 - 0s - loss: 0.1049 - val_loss: 0.4479\n",
            "Epoch 97/200\n",
            "4/4 - 0s - loss: 0.1047 - val_loss: 0.4500\n",
            "Epoch 98/200\n",
            "4/4 - 0s - loss: 0.1049 - val_loss: 0.4486\n",
            "Epoch 99/200\n",
            "4/4 - 0s - loss: 0.1046 - val_loss: 0.4567\n",
            "Epoch 100/200\n",
            "4/4 - 0s - loss: 0.1046 - val_loss: 0.4471\n",
            "Epoch 101/200\n",
            "4/4 - 0s - loss: 0.1046 - val_loss: 0.4531\n",
            "Epoch 102/200\n",
            "4/4 - 0s - loss: 0.1044 - val_loss: 0.4522\n",
            "Epoch 103/200\n",
            "4/4 - 0s - loss: 0.1046 - val_loss: 0.4561\n",
            "Epoch 104/200\n",
            "4/4 - 0s - loss: 0.1044 - val_loss: 0.4608\n",
            "Epoch 105/200\n",
            "4/4 - 0s - loss: 0.1045 - val_loss: 0.4536\n",
            "Epoch 106/200\n",
            "4/4 - 0s - loss: 0.1041 - val_loss: 0.4656\n",
            "Epoch 107/200\n",
            "4/4 - 0s - loss: 0.1040 - val_loss: 0.4554\n",
            "Epoch 108/200\n",
            "4/4 - 0s - loss: 0.1047 - val_loss: 0.4608\n",
            "Epoch 109/200\n",
            "4/4 - 0s - loss: 0.1042 - val_loss: 0.4691\n",
            "Epoch 110/200\n",
            "4/4 - 0s - loss: 0.1043 - val_loss: 0.4565\n",
            "Epoch 111/200\n",
            "4/4 - 0s - loss: 0.1038 - val_loss: 0.4683\n",
            "Epoch 112/200\n",
            "4/4 - 0s - loss: 0.1037 - val_loss: 0.4648\n",
            "Epoch 113/200\n",
            "4/4 - 0s - loss: 0.1037 - val_loss: 0.4656\n",
            "Epoch 114/200\n",
            "4/4 - 0s - loss: 0.1039 - val_loss: 0.4670\n",
            "Epoch 115/200\n",
            "4/4 - 0s - loss: 0.1036 - val_loss: 0.4701\n",
            "Epoch 116/200\n",
            "4/4 - 0s - loss: 0.1037 - val_loss: 0.4697\n",
            "Epoch 117/200\n",
            "4/4 - 0s - loss: 0.1036 - val_loss: 0.4759\n",
            "Epoch 118/200\n",
            "4/4 - 0s - loss: 0.1036 - val_loss: 0.4695\n",
            "Epoch 119/200\n",
            "4/4 - 0s - loss: 0.1034 - val_loss: 0.4811\n",
            "Epoch 120/200\n",
            "4/4 - 0s - loss: 0.1034 - val_loss: 0.4718\n",
            "Epoch 121/200\n",
            "4/4 - 0s - loss: 0.1034 - val_loss: 0.4774\n",
            "Epoch 122/200\n",
            "4/4 - 0s - loss: 0.1032 - val_loss: 0.4744\n",
            "Epoch 123/200\n",
            "4/4 - 0s - loss: 0.1036 - val_loss: 0.4794\n",
            "Epoch 124/200\n",
            "4/4 - 0s - loss: 0.1033 - val_loss: 0.4852\n",
            "Epoch 125/200\n",
            "4/4 - 0s - loss: 0.1031 - val_loss: 0.4766\n",
            "Epoch 126/200\n",
            "4/4 - 0s - loss: 0.1032 - val_loss: 0.4835\n",
            "Epoch 127/200\n",
            "4/4 - 0s - loss: 0.1030 - val_loss: 0.4785\n",
            "Epoch 128/200\n",
            "4/4 - 0s - loss: 0.1031 - val_loss: 0.4800\n",
            "Epoch 129/200\n",
            "4/4 - 0s - loss: 0.1031 - val_loss: 0.4828\n",
            "Epoch 130/200\n",
            "4/4 - 0s - loss: 0.1029 - val_loss: 0.4846\n",
            "Epoch 131/200\n",
            "4/4 - 0s - loss: 0.1029 - val_loss: 0.4834\n",
            "Epoch 132/200\n",
            "4/4 - 0s - loss: 0.1031 - val_loss: 0.4889\n",
            "Epoch 133/200\n",
            "4/4 - 0s - loss: 0.1029 - val_loss: 0.4837\n",
            "Epoch 134/200\n",
            "4/4 - 0s - loss: 0.1036 - val_loss: 0.4899\n",
            "Epoch 135/200\n",
            "4/4 - 0s - loss: 0.1031 - val_loss: 0.4971\n",
            "Epoch 136/200\n",
            "4/4 - 0s - loss: 0.1029 - val_loss: 0.4910\n",
            "Epoch 137/200\n",
            "4/4 - 0s - loss: 0.1028 - val_loss: 0.5043\n",
            "Epoch 138/200\n",
            "4/4 - 0s - loss: 0.1026 - val_loss: 0.4863\n",
            "Epoch 139/200\n",
            "4/4 - 0s - loss: 0.1036 - val_loss: 0.4970\n",
            "Epoch 140/200\n",
            "4/4 - 0s - loss: 0.1026 - val_loss: 0.5018\n",
            "Epoch 141/200\n",
            "4/4 - 0s - loss: 0.1029 - val_loss: 0.4968\n",
            "Epoch 142/200\n",
            "4/4 - 0s - loss: 0.1026 - val_loss: 0.5082\n",
            "Epoch 143/200\n",
            "4/4 - 0s - loss: 0.1025 - val_loss: 0.4983\n",
            "Epoch 144/200\n",
            "4/4 - 0s - loss: 0.1025 - val_loss: 0.5087\n",
            "Epoch 145/200\n",
            "4/4 - 0s - loss: 0.1023 - val_loss: 0.4975\n",
            "Epoch 146/200\n",
            "4/4 - 0s - loss: 0.1029 - val_loss: 0.5067\n",
            "Epoch 147/200\n",
            "4/4 - 0s - loss: 0.1024 - val_loss: 0.5071\n",
            "Epoch 148/200\n",
            "4/4 - 0s - loss: 0.1025 - val_loss: 0.5094\n",
            "Epoch 149/200\n",
            "4/4 - 0s - loss: 0.1024 - val_loss: 0.5141\n",
            "Epoch 150/200\n",
            "4/4 - 0s - loss: 0.1023 - val_loss: 0.5021\n",
            "Epoch 151/200\n",
            "4/4 - 0s - loss: 0.1025 - val_loss: 0.5102\n",
            "Epoch 152/200\n",
            "4/4 - 0s - loss: 0.1021 - val_loss: 0.5059\n",
            "Epoch 153/200\n",
            "4/4 - 0s - loss: 0.1028 - val_loss: 0.5120\n",
            "Epoch 154/200\n",
            "4/4 - 0s - loss: 0.1024 - val_loss: 0.5176\n",
            "Epoch 155/200\n",
            "4/4 - 0s - loss: 0.1022 - val_loss: 0.5128\n",
            "Epoch 156/200\n",
            "4/4 - 0s - loss: 0.1022 - val_loss: 0.5207\n",
            "Epoch 157/200\n",
            "4/4 - 0s - loss: 0.1020 - val_loss: 0.5119\n",
            "Epoch 158/200\n",
            "4/4 - 0s - loss: 0.1020 - val_loss: 0.5149\n",
            "Epoch 159/200\n",
            "4/4 - 0s - loss: 0.1022 - val_loss: 0.5158\n",
            "Epoch 160/200\n",
            "4/4 - 0s - loss: 0.1019 - val_loss: 0.5166\n",
            "Epoch 161/200\n",
            "4/4 - 0s - loss: 0.1022 - val_loss: 0.5201\n",
            "Epoch 162/200\n",
            "4/4 - 0s - loss: 0.1021 - val_loss: 0.5244\n",
            "Epoch 163/200\n",
            "4/4 - 0s - loss: 0.1021 - val_loss: 0.5189\n",
            "Epoch 164/200\n",
            "4/4 - 0s - loss: 0.1019 - val_loss: 0.5297\n",
            "Epoch 165/200\n",
            "4/4 - 0s - loss: 0.1018 - val_loss: 0.5153\n",
            "Epoch 166/200\n",
            "4/4 - 0s - loss: 0.1023 - val_loss: 0.5210\n",
            "Epoch 167/200\n",
            "4/4 - 0s - loss: 0.1017 - val_loss: 0.5195\n",
            "Epoch 168/200\n",
            "4/4 - 0s - loss: 0.1023 - val_loss: 0.5282\n",
            "Epoch 169/200\n",
            "4/4 - 0s - loss: 0.1028 - val_loss: 0.5352\n",
            "Epoch 170/200\n",
            "4/4 - 0s - loss: 0.1018 - val_loss: 0.5232\n",
            "Epoch 171/200\n",
            "4/4 - 0s - loss: 0.1022 - val_loss: 0.5369\n",
            "Epoch 172/200\n",
            "4/4 - 0s - loss: 0.1015 - val_loss: 0.5193\n",
            "Epoch 173/200\n",
            "4/4 - 0s - loss: 0.1030 - val_loss: 0.5330\n",
            "Epoch 174/200\n",
            "4/4 - 0s - loss: 0.1031 - val_loss: 0.5409\n",
            "Epoch 175/200\n",
            "4/4 - 0s - loss: 0.1026 - val_loss: 0.5243\n",
            "Epoch 176/200\n",
            "4/4 - 0s - loss: 0.1019 - val_loss: 0.5474\n",
            "Epoch 177/200\n",
            "4/4 - 0s - loss: 0.1014 - val_loss: 0.5293\n",
            "Epoch 178/200\n",
            "4/4 - 0s - loss: 0.1028 - val_loss: 0.5363\n",
            "Epoch 179/200\n",
            "4/4 - 0s - loss: 0.1015 - val_loss: 0.5401\n",
            "Epoch 180/200\n",
            "4/4 - 0s - loss: 0.1021 - val_loss: 0.5322\n",
            "Epoch 181/200\n",
            "4/4 - 0s - loss: 0.1014 - val_loss: 0.5479\n",
            "Epoch 182/200\n",
            "4/4 - 0s - loss: 0.1012 - val_loss: 0.5290\n",
            "Epoch 183/200\n",
            "4/4 - 0s - loss: 0.1025 - val_loss: 0.5404\n",
            "Epoch 184/200\n",
            "4/4 - 0s - loss: 0.1016 - val_loss: 0.5411\n",
            "Epoch 185/200\n",
            "4/4 - 0s - loss: 0.1020 - val_loss: 0.5334\n",
            "Epoch 186/200\n",
            "4/4 - 0s - loss: 0.1013 - val_loss: 0.5494\n",
            "Epoch 187/200\n",
            "4/4 - 0s - loss: 0.1011 - val_loss: 0.5309\n",
            "Epoch 188/200\n",
            "4/4 - 0s - loss: 0.1025 - val_loss: 0.5496\n",
            "Epoch 189/200\n",
            "4/4 - 0s - loss: 0.1029 - val_loss: 0.5578\n",
            "Epoch 190/200\n",
            "4/4 - 0s - loss: 0.1019 - val_loss: 0.5330\n",
            "Epoch 191/200\n",
            "4/4 - 0s - loss: 0.1017 - val_loss: 0.5591\n",
            "Epoch 192/200\n",
            "4/4 - 0s - loss: 0.1011 - val_loss: 0.5426\n",
            "Epoch 193/200\n",
            "4/4 - 0s - loss: 0.1020 - val_loss: 0.5487\n",
            "Epoch 194/200\n",
            "4/4 - 0s - loss: 0.1014 - val_loss: 0.5563\n",
            "Epoch 195/200\n",
            "4/4 - 0s - loss: 0.1013 - val_loss: 0.5471\n",
            "Epoch 196/200\n",
            "4/4 - 0s - loss: 0.1010 - val_loss: 0.5617\n",
            "Epoch 197/200\n",
            "4/4 - 0s - loss: 0.1008 - val_loss: 0.5427\n",
            "Epoch 198/200\n",
            "4/4 - 0s - loss: 0.1020 - val_loss: 0.5447\n",
            "Epoch 199/200\n",
            "4/4 - 0s - loss: 0.1009 - val_loss: 0.5501\n",
            "Epoch 200/200\n",
            "4/4 - 0s - loss: 0.1013 - val_loss: 0.5522\n"
          ],
          "name": "stdout"
        }
      ]
    },
    {
      "cell_type": "code",
      "metadata": {
        "colab": {
          "base_uri": "https://localhost:8080/",
          "height": 267
        },
        "id": "NQpsmVbp6_xa",
        "outputId": "720920e1-fab5-4715-f851-c110b0592969"
      },
      "source": [
        "# plot history\n",
        "plt.plot(history.history['loss'], label='train')\n",
        "plt.plot(history.history['val_loss'], label='test')\n",
        "plt.legend()\n",
        "plt.show()"
      ],
      "execution_count": 52,
      "outputs": [
        {
          "output_type": "display_data",
          "data": {
            "image/png": "[encoded data removed]",
            "text/plain": [
              "<Figure size 432x288 with 1 Axes>"
            ]
          },
          "metadata": {
            "tags": [],
            "needs_background": "light"
          }
        }
      ]
    },
    {
      "cell_type": "markdown",
      "metadata": {
        "id": "LN6KO8Wi6_xa"
      },
      "source": [
        "### Testing feature selected data"
      ]
    },
    {
      "cell_type": "code",
      "metadata": {
        "colab": {
          "base_uri": "https://localhost:8080/"
        },
        "id": "6fE2acHP6_xa",
        "outputId": "cba6d921-740c-4ba2-d7c2-534fd7ceef94"
      },
      "source": [
        "import math\n",
        "\n",
        "# make a prediction\n",
        "yhat = model.predict(test_X)\n",
        "test_X1 = test_X.reshape((test_X.shape[0], test_X.shape[2]))\n",
        "# invert scaling for forecast\n",
        "inv_yhat = concatenate((yhat, test_X1[:, 1:]), axis=1)\n",
        "print(inv_yhat.shape)\n",
        "#inv_yhat = scaler.inverse_transform(inv_yhat)\n",
        "inv_yhat = inv_yhat[:,0]\n",
        "# invert scaling for actual\n",
        "test_y = test_y.reshape((len(test_y), 1))\n",
        "inv_y = concatenate((test_y, test_X1[:, 1:]), axis=1)\n",
        "#inv_y = scaler.inverse_transform(inv_y)\n",
        "inv_y = inv_y[:,0]\n",
        "# calculate RMSE\n",
        "mse = mean_squared_error(inv_y, inv_yhat)\n",
        "print('Test MSE: %.3f' % mse)\n",
        "rmse = math.sqrt(mean_squared_error(inv_y, inv_yhat))\n",
        "print('Test RMSE: %.3f' % rmse)\n",
        "print('median_absolute_error', median_absolute_error(inv_y, inv_yhat))\n",
        "print('mean_absolute_error', mean_absolute_error(inv_y, inv_yhat))"
      ],
      "execution_count": 53,
      "outputs": [
        {
          "output_type": "stream",
          "text": [
            "(59, 37)\n",
            "Test MSE: 0.378\n",
            "Test RMSE: 0.615\n",
            "median_absolute_error 0.5560523\n",
            "mean_absolute_error 0.5521878\n"
          ],
          "name": "stdout"
        }
      ]
    },
    {
      "cell_type": "markdown",
      "metadata": {
        "id": "w-j9VGdqkKun"
      },
      "source": [
        "# Conclusion for all dataset after PCA\n",
        "\n",
        "|Group | data | MSE  |RMSE  |Median AE  |MAE|\n",
        "|------|------|------|-----|------|-----|\n",
        "|Demographic |without PCA  | 0.041| 0.203|0.0936|0.1310|\n",
        "|Demographic |with PCA  | 0.048| 0.219|0.0852|0.1349|\n",
        "|Hospitalization & Testing |without PCA | 0.058| 0.241|0.1789|0.1899|\n",
        "|Hospitalization & Testing |with PCA  | 0.087| 0.294|0.2672|0.2584|\n",
        "|Mobility+Social Distancing + Mask Rule |without PCA | 0.158| 0.398|0.3735|0.3652|\n",
        "|Mobility+Social Distancing + Mask Rule |with PCA  | 0.178| 0.422|0.3981|0.3802|\n",
        "|All Groups Together |without PCA | 0.193| 0.439|0.4346|0.4178|\n",
        "|All Groups Together |with PCA  | 0.378| 0.615|0.556|0.552|\n",
        "\n",
        "\n",
        "\n",
        "\n",
        "\n"
      ]
    }
  ]
}