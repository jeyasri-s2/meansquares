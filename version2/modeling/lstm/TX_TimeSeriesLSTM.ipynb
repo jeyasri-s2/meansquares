{
  "nbformat": 4,
  "nbformat_minor": 0,
  "metadata": {
    "colab": {
      "name": "TX_TimeSeriesLSTM.ipynb",
      "provenance": [],
      "collapsed_sections": [],
      "authorship_tag": "ABX9TyNNObuTU7cxCHdPfcO8LXvO",
      "include_colab_link": true
    },
    "kernelspec": {
      "name": "python3",
      "display_name": "Python 3"
    }
  },
  "cells": [
    {
      "cell_type": "markdown",
      "metadata": {
        "id": "view-in-github",
        "colab_type": "text"
      },
      "source": [
        "<a href=\"https://colab.research.google.com/github/aarsanjani/meansquares/blob/master/version2/modeling/lstm/TX_TimeSeriesLSTM.ipynb\" target=\"_parent\"><img src=\"https://colab.research.google.com/assets/colab-badge.svg\" alt=\"Open In Colab\"/></a>"
      ]
    },
    {
      "cell_type": "markdown",
      "metadata": {
        "id": "Peb3i3j910ZZ"
      },
      "source": [
        "# Goal\n",
        "\n",
        "This colab finds the possible 'New Cases' in some counties in Texas "
      ]
    },
    {
      "cell_type": "markdown",
      "metadata": {
        "id": "A2o8leQh2a0W"
      },
      "source": [
        "# Mount Google Drive"
      ]
    },
    {
      "cell_type": "code",
      "metadata": {
        "colab": {
          "base_uri": "https://localhost:8080/"
        },
        "id": "DxQcfW0N1vzY",
        "outputId": "b3c4a687-ac15-4180-b2ad-2583f636259c"
      },
      "source": [
        "from google.colab import drive\n",
        "drive.mount('/content/drive',force_remount=True)"
      ],
      "execution_count": 11,
      "outputs": [
        {
          "output_type": "stream",
          "text": [
            "Mounted at /content/drive\n"
          ],
          "name": "stdout"
        }
      ]
    },
    {
      "cell_type": "code",
      "metadata": {
        "colab": {
          "base_uri": "https://localhost:8080/"
        },
        "id": "PeVbIdh82kTF",
        "outputId": "00d0da59-377d-4c09-98e3-e79eba7b927b"
      },
      "source": [
        "!ls '/content/drive/Shared drives/CMPE 295- Master Project/projectdata-2021'"
      ],
      "execution_count": 12,
      "outputs": [
        {
          "output_type": "stream",
          "text": [
            " CA_CovidDataJan10.csv\n",
            " CA_GoogleMobilityDataJan10.csv\n",
            " CA_SocialDistancingDataJan10.csv\n",
            " computed_CA_mobility_data.csv\n",
            " data-mask_for_all.csv\n",
            " election_results_2021.csv\n",
            " maryland_inertia_data_allstates_Jan11.csv\n",
            " maryland_inertia_raw_dec28_2020.csv\n",
            " Mask_Rule_Jan10.csv\n",
            " NY_CovidDataJan10.csv\n",
            " NY_GoogleMobilityDataJan10.csv\n",
            " NY_SocialDistancingDataJan10.csv\n",
            "'Policy_Map_(Sized)_Full_Data_data.csv'\n",
            " TX_alldatasets_Jan11.csv\n",
            " TX_CovidDataJan10.csv\n",
            " TX_GoogleMobilityDataJan10.csv\n",
            " TX_SocialDistancingDataJan10.csv\n"
          ],
          "name": "stdout"
        }
      ]
    },
    {
      "cell_type": "code",
      "metadata": {
        "id": "558T4YGp2z8V"
      },
      "source": [
        "import pandas as pd\n",
        "\n",
        "from tqdm import tqdm\n",
        "import seaborn as sns\n",
        "import numpy as np\n",
        "import matplotlib.pyplot as plt\n",
        "import os\n",
        "from pandas import Series, datetime\n",
        "from pandas.plotting import scatter_matrix, autocorrelation_plot\n",
        "from sklearn.preprocessing import StandardScaler, RobustScaler\n",
        "from sklearn.model_selection import train_test_split, KFold, cross_val_score, GridSearchCV, TimeSeriesSplit\n",
        "from sklearn import metrics\n",
        "from sklearn.metrics import classification_report, confusion_matrix, accuracy_score, mean_squared_error,precision_score\n",
        "from sklearn.pipeline import Pipeline\n",
        "from sklearn.linear_model import LogisticRegression\n",
        "from sklearn.tree import DecisionTreeClassifier\n",
        "from sklearn.neighbors import KNeighborsClassifier\n",
        "from sklearn.discriminant_analysis import LinearDiscriminantAnalysis\n",
        "from sklearn.naive_bayes import GaussianNB\n",
        "from sklearn.cluster import KMeans\n",
        "from sklearn.svm import SVC\n",
        "from sklearn.ensemble import AdaBoostClassifier, GradientBoostingClassifier, RandomForestClassifier, ExtraTreesClassifier\n",
        "from sklearn.metrics import roc_curve, auc\n",
        "import random\n",
        "from statsmodels.graphics.tsaplots import plot_acf, plot_pacf\n",
        "from statsmodels.tsa.arima_model import ARIMA\n",
        "from xgboost import XGBClassifier\n",
        "from sklearn.mixture import GaussianMixture\n",
        "\n",
        "import numpy as np\n",
        "import matplotlib.pyplot as plt\n",
        "import pandas as pd\n",
        "pd.set_option('display.float_format', lambda x: '%.4f' % x)\n",
        "import seaborn as sns\n",
        "sns.set_context(\"paper\", font_scale=1.3)\n",
        "sns.set_style('white')\n",
        "import warnings\n",
        "warnings.filterwarnings('ignore')\n",
        "from time import time\n",
        "import matplotlib.ticker as tkr\n",
        "from scipy import stats\n",
        "from statsmodels.tsa.stattools import adfuller\n",
        "from sklearn import preprocessing\n",
        "from statsmodels.tsa.stattools import pacf\n",
        "%matplotlib inline\n",
        "import math\n",
        "import keras\n",
        "from keras.models import Sequential\n",
        "from keras.layers import Dense\n",
        "from keras.layers import LSTM\n",
        "from keras.layers import Dropout\n",
        "from keras.layers import *\n",
        "from sklearn.preprocessing import MinMaxScaler\n",
        "from sklearn.metrics import mean_squared_error\n",
        "from sklearn.metrics import mean_absolute_error\n",
        "from keras.callbacks import EarlyStopping\n"
      ],
      "execution_count": 75,
      "outputs": []
    },
    {
      "cell_type": "markdown",
      "metadata": {
        "id": "kn7FlI762nFk"
      },
      "source": [
        "# Load combined data for TX"
      ]
    },
    {
      "cell_type": "code",
      "metadata": {
        "colab": {
          "base_uri": "https://localhost:8080/",
          "height": 326
        },
        "id": "vxUcxn622pxX",
        "outputId": "efc5d56c-d28e-4a38-c2c7-27cfde0b3286"
      },
      "source": [
        "TX_combined_data = pd.read_csv('/content/drive/Shared drives/CMPE 295- Master Project/projectdata-2021/TX_alldatasets_Jan11.csv',low_memory=False)\n",
        "TX_combined_data.head()"
      ],
      "execution_count": 14,
      "outputs": [
        {
          "output_type": "execute_result",
          "data": {
            "text/html": [
              "<div>\n",
              "<style scoped>\n",
              "    .dataframe tbody tr th:only-of-type {\n",
              "        vertical-align: middle;\n",
              "    }\n",
              "\n",
              "    .dataframe tbody tr th {\n",
              "        vertical-align: top;\n",
              "    }\n",
              "\n",
              "    .dataframe thead th {\n",
              "        text-align: right;\n",
              "    }\n",
              "</style>\n",
              "<table border=\"1\" class=\"dataframe\">\n",
              "  <thead>\n",
              "    <tr style=\"text-align: right;\">\n",
              "      <th></th>\n",
              "      <th>Date</th>\n",
              "      <th>Province_State</th>\n",
              "      <th>FIPS</th>\n",
              "      <th>New cases</th>\n",
              "      <th>County Name</th>\n",
              "      <th>population</th>\n",
              "      <th>mask_rule_active</th>\n",
              "      <th>m50</th>\n",
              "      <th>m50_index</th>\n",
              "      <th>retail_and_recreation_percent_change_from_baseline</th>\n",
              "      <th>grocery_and_pharmacy_percent_change_from_baseline</th>\n",
              "      <th>parks_percent_change_from_baseline</th>\n",
              "      <th>transit_stations_percent_change_from_baseline</th>\n",
              "      <th>workplaces_percent_change_from_baseline</th>\n",
              "      <th>residential_percent_change_from_baseline</th>\n",
              "    </tr>\n",
              "  </thead>\n",
              "  <tbody>\n",
              "    <tr>\n",
              "      <th>0</th>\n",
              "      <td>2020-03-01</td>\n",
              "      <td>Texas</td>\n",
              "      <td>48001</td>\n",
              "      <td>0</td>\n",
              "      <td>Anderson County</td>\n",
              "      <td>57735</td>\n",
              "      <td>0</td>\n",
              "      <td>8.9100</td>\n",
              "      <td>79</td>\n",
              "      <td>16.0000</td>\n",
              "      <td>15.0000</td>\n",
              "      <td>0.0000</td>\n",
              "      <td>0.0000</td>\n",
              "      <td>3.0000</td>\n",
              "      <td>0.0000</td>\n",
              "    </tr>\n",
              "    <tr>\n",
              "      <th>1</th>\n",
              "      <td>2020-03-02</td>\n",
              "      <td>Texas</td>\n",
              "      <td>48001</td>\n",
              "      <td>0</td>\n",
              "      <td>Anderson County</td>\n",
              "      <td>57735</td>\n",
              "      <td>0</td>\n",
              "      <td>10.7080</td>\n",
              "      <td>95</td>\n",
              "      <td>14.0000</td>\n",
              "      <td>7.0000</td>\n",
              "      <td>0.0000</td>\n",
              "      <td>0.0000</td>\n",
              "      <td>2.0000</td>\n",
              "      <td>-1.0000</td>\n",
              "    </tr>\n",
              "    <tr>\n",
              "      <th>2</th>\n",
              "      <td>2020-03-03</td>\n",
              "      <td>Texas</td>\n",
              "      <td>48001</td>\n",
              "      <td>0</td>\n",
              "      <td>Anderson County</td>\n",
              "      <td>57735</td>\n",
              "      <td>0</td>\n",
              "      <td>12.1180</td>\n",
              "      <td>107</td>\n",
              "      <td>21.0000</td>\n",
              "      <td>8.0000</td>\n",
              "      <td>0.0000</td>\n",
              "      <td>0.0000</td>\n",
              "      <td>2.0000</td>\n",
              "      <td>-2.0000</td>\n",
              "    </tr>\n",
              "    <tr>\n",
              "      <th>3</th>\n",
              "      <td>2020-03-04</td>\n",
              "      <td>Texas</td>\n",
              "      <td>48001</td>\n",
              "      <td>0</td>\n",
              "      <td>Anderson County</td>\n",
              "      <td>57735</td>\n",
              "      <td>0</td>\n",
              "      <td>9.1560</td>\n",
              "      <td>81</td>\n",
              "      <td>12.0000</td>\n",
              "      <td>5.0000</td>\n",
              "      <td>0.0000</td>\n",
              "      <td>0.0000</td>\n",
              "      <td>1.0000</td>\n",
              "      <td>2.0000</td>\n",
              "    </tr>\n",
              "    <tr>\n",
              "      <th>4</th>\n",
              "      <td>2020-03-05</td>\n",
              "      <td>Texas</td>\n",
              "      <td>48001</td>\n",
              "      <td>0</td>\n",
              "      <td>Anderson County</td>\n",
              "      <td>57735</td>\n",
              "      <td>0</td>\n",
              "      <td>11.2300</td>\n",
              "      <td>100</td>\n",
              "      <td>18.0000</td>\n",
              "      <td>13.0000</td>\n",
              "      <td>0.0000</td>\n",
              "      <td>0.0000</td>\n",
              "      <td>3.0000</td>\n",
              "      <td>-3.0000</td>\n",
              "    </tr>\n",
              "  </tbody>\n",
              "</table>\n",
              "</div>"
            ],
            "text/plain": [
              "         Date  ... residential_percent_change_from_baseline\n",
              "0  2020-03-01  ...                                   0.0000\n",
              "1  2020-03-02  ...                                  -1.0000\n",
              "2  2020-03-03  ...                                  -2.0000\n",
              "3  2020-03-04  ...                                   2.0000\n",
              "4  2020-03-05  ...                                  -3.0000\n",
              "\n",
              "[5 rows x 15 columns]"
            ]
          },
          "metadata": {
            "tags": []
          },
          "execution_count": 14
        }
      ]
    },
    {
      "cell_type": "code",
      "metadata": {
        "id": "Pt7fcXxd2vu5"
      },
      "source": [
        "X_cols = [ 'mask_rule_active','m50', 'm50_index',\n",
        "       'retail_and_recreation_percent_change_from_baseline',\n",
        "       'grocery_and_pharmacy_percent_change_from_baseline',\n",
        "       'parks_percent_change_from_baseline',\n",
        "       'transit_stations_percent_change_from_baseline',\n",
        "       'workplaces_percent_change_from_baseline',\n",
        "       'residential_percent_change_from_baseline','Date']"
      ],
      "execution_count": 52,
      "outputs": []
    },
    {
      "cell_type": "code",
      "metadata": {
        "colab": {
          "base_uri": "https://localhost:8080/",
          "height": 326
        },
        "id": "hstwWs6s3Ht-",
        "outputId": "c518d580-0cf4-4c5f-87e6-7e17a4052cc0"
      },
      "source": [
        "Harris_combined_data = TX_combined_data[TX_combined_data['County Name'] == 'Harris County'][X_cols]\n",
        "print(Harris_combined_data.shape)\n",
        "Harris_combined_data.head(5)"
      ],
      "execution_count": 53,
      "outputs": [
        {
          "output_type": "stream",
          "text": [
            "(300, 10)\n"
          ],
          "name": "stdout"
        },
        {
          "output_type": "execute_result",
          "data": {
            "text/html": [
              "<div>\n",
              "<style scoped>\n",
              "    .dataframe tbody tr th:only-of-type {\n",
              "        vertical-align: middle;\n",
              "    }\n",
              "\n",
              "    .dataframe tbody tr th {\n",
              "        vertical-align: top;\n",
              "    }\n",
              "\n",
              "    .dataframe thead th {\n",
              "        text-align: right;\n",
              "    }\n",
              "</style>\n",
              "<table border=\"1\" class=\"dataframe\">\n",
              "  <thead>\n",
              "    <tr style=\"text-align: right;\">\n",
              "      <th></th>\n",
              "      <th>mask_rule_active</th>\n",
              "      <th>m50</th>\n",
              "      <th>m50_index</th>\n",
              "      <th>retail_and_recreation_percent_change_from_baseline</th>\n",
              "      <th>grocery_and_pharmacy_percent_change_from_baseline</th>\n",
              "      <th>parks_percent_change_from_baseline</th>\n",
              "      <th>transit_stations_percent_change_from_baseline</th>\n",
              "      <th>workplaces_percent_change_from_baseline</th>\n",
              "      <th>residential_percent_change_from_baseline</th>\n",
              "      <th>Date</th>\n",
              "    </tr>\n",
              "  </thead>\n",
              "  <tbody>\n",
              "    <tr>\n",
              "      <th>20931</th>\n",
              "      <td>0</td>\n",
              "      <td>6.3160</td>\n",
              "      <td>70</td>\n",
              "      <td>10.0000</td>\n",
              "      <td>5.0000</td>\n",
              "      <td>-8.0000</td>\n",
              "      <td>1.0000</td>\n",
              "      <td>3.0000</td>\n",
              "      <td>-1.0000</td>\n",
              "      <td>2020-03-01</td>\n",
              "    </tr>\n",
              "    <tr>\n",
              "      <th>20932</th>\n",
              "      <td>0</td>\n",
              "      <td>8.7170</td>\n",
              "      <td>97</td>\n",
              "      <td>9.0000</td>\n",
              "      <td>7.0000</td>\n",
              "      <td>11.0000</td>\n",
              "      <td>0.0000</td>\n",
              "      <td>4.0000</td>\n",
              "      <td>-2.0000</td>\n",
              "      <td>2020-03-02</td>\n",
              "    </tr>\n",
              "    <tr>\n",
              "      <th>20933</th>\n",
              "      <td>0</td>\n",
              "      <td>8.9480</td>\n",
              "      <td>100</td>\n",
              "      <td>13.0000</td>\n",
              "      <td>10.0000</td>\n",
              "      <td>27.0000</td>\n",
              "      <td>2.0000</td>\n",
              "      <td>3.0000</td>\n",
              "      <td>-2.0000</td>\n",
              "      <td>2020-03-03</td>\n",
              "    </tr>\n",
              "    <tr>\n",
              "      <th>20934</th>\n",
              "      <td>0</td>\n",
              "      <td>8.8370</td>\n",
              "      <td>98</td>\n",
              "      <td>8.0000</td>\n",
              "      <td>8.0000</td>\n",
              "      <td>1.0000</td>\n",
              "      <td>0.0000</td>\n",
              "      <td>2.0000</td>\n",
              "      <td>0.0000</td>\n",
              "      <td>2020-03-04</td>\n",
              "    </tr>\n",
              "    <tr>\n",
              "      <th>20935</th>\n",
              "      <td>0</td>\n",
              "      <td>9.6440</td>\n",
              "      <td>107</td>\n",
              "      <td>10.0000</td>\n",
              "      <td>9.0000</td>\n",
              "      <td>31.0000</td>\n",
              "      <td>3.0000</td>\n",
              "      <td>3.0000</td>\n",
              "      <td>-2.0000</td>\n",
              "      <td>2020-03-05</td>\n",
              "    </tr>\n",
              "  </tbody>\n",
              "</table>\n",
              "</div>"
            ],
            "text/plain": [
              "       mask_rule_active  ...        Date\n",
              "20931                 0  ...  2020-03-01\n",
              "20932                 0  ...  2020-03-02\n",
              "20933                 0  ...  2020-03-03\n",
              "20934                 0  ...  2020-03-04\n",
              "20935                 0  ...  2020-03-05\n",
              "\n",
              "[5 rows x 10 columns]"
            ]
          },
          "metadata": {
            "tags": []
          },
          "execution_count": 53
        }
      ]
    },
    {
      "cell_type": "code",
      "metadata": {
        "id": "aGVzYJFr4Mjg"
      },
      "source": [
        "from datetime import datetime\n",
        "# load data\n",
        "def parse(x):\n",
        "\treturn datetime.strptime(x, '%Y-%m-%d')"
      ],
      "execution_count": 19,
      "outputs": []
    },
    {
      "cell_type": "code",
      "metadata": {
        "colab": {
          "base_uri": "https://localhost:8080/"
        },
        "id": "ZmXCI5gI6vfs",
        "outputId": "6a4f18be-ca9f-46bb-da8e-964e3ec97261"
      },
      "source": [
        "len(Harris_combined_data.columns)"
      ],
      "execution_count": 55,
      "outputs": [
        {
          "output_type": "execute_result",
          "data": {
            "text/plain": [
              "10"
            ]
          },
          "metadata": {
            "tags": []
          },
          "execution_count": 55
        }
      ]
    },
    {
      "cell_type": "code",
      "metadata": {
        "colab": {
          "base_uri": "https://localhost:8080/",
          "height": 326
        },
        "id": "v5nndUDn4BHm",
        "outputId": "4bc82c07-ac4d-453b-d60e-ca3d2a74988d"
      },
      "source": [
        "Harris_combined_data['Date'] = Harris_combined_data['Date'].apply(lambda x: parse(x))\n",
        "#Harris_combined_data.index.name = 'Date'\n",
        "Harris_combined_data.head()"
      ],
      "execution_count": 41,
      "outputs": [
        {
          "output_type": "execute_result",
          "data": {
            "text/html": [
              "<div>\n",
              "<style scoped>\n",
              "    .dataframe tbody tr th:only-of-type {\n",
              "        vertical-align: middle;\n",
              "    }\n",
              "\n",
              "    .dataframe tbody tr th {\n",
              "        vertical-align: top;\n",
              "    }\n",
              "\n",
              "    .dataframe thead th {\n",
              "        text-align: right;\n",
              "    }\n",
              "</style>\n",
              "<table border=\"1\" class=\"dataframe\">\n",
              "  <thead>\n",
              "    <tr style=\"text-align: right;\">\n",
              "      <th></th>\n",
              "      <th>Date</th>\n",
              "      <th>Province_State</th>\n",
              "      <th>FIPS</th>\n",
              "      <th>New cases</th>\n",
              "      <th>County Name</th>\n",
              "      <th>population</th>\n",
              "      <th>mask_rule_active</th>\n",
              "      <th>m50</th>\n",
              "      <th>m50_index</th>\n",
              "      <th>retail_and_recreation_percent_change_from_baseline</th>\n",
              "      <th>grocery_and_pharmacy_percent_change_from_baseline</th>\n",
              "      <th>parks_percent_change_from_baseline</th>\n",
              "      <th>transit_stations_percent_change_from_baseline</th>\n",
              "      <th>workplaces_percent_change_from_baseline</th>\n",
              "      <th>residential_percent_change_from_baseline</th>\n",
              "    </tr>\n",
              "  </thead>\n",
              "  <tbody>\n",
              "    <tr>\n",
              "      <th>20931</th>\n",
              "      <td>2020-03-01</td>\n",
              "      <td>Texas</td>\n",
              "      <td>48201</td>\n",
              "      <td>0</td>\n",
              "      <td>Harris County</td>\n",
              "      <td>4713325</td>\n",
              "      <td>0</td>\n",
              "      <td>6.3160</td>\n",
              "      <td>70</td>\n",
              "      <td>10.0000</td>\n",
              "      <td>5.0000</td>\n",
              "      <td>-8.0000</td>\n",
              "      <td>1.0000</td>\n",
              "      <td>3.0000</td>\n",
              "      <td>-1.0000</td>\n",
              "    </tr>\n",
              "    <tr>\n",
              "      <th>20932</th>\n",
              "      <td>2020-03-02</td>\n",
              "      <td>Texas</td>\n",
              "      <td>48201</td>\n",
              "      <td>0</td>\n",
              "      <td>Harris County</td>\n",
              "      <td>4713325</td>\n",
              "      <td>0</td>\n",
              "      <td>8.7170</td>\n",
              "      <td>97</td>\n",
              "      <td>9.0000</td>\n",
              "      <td>7.0000</td>\n",
              "      <td>11.0000</td>\n",
              "      <td>0.0000</td>\n",
              "      <td>4.0000</td>\n",
              "      <td>-2.0000</td>\n",
              "    </tr>\n",
              "    <tr>\n",
              "      <th>20933</th>\n",
              "      <td>2020-03-03</td>\n",
              "      <td>Texas</td>\n",
              "      <td>48201</td>\n",
              "      <td>0</td>\n",
              "      <td>Harris County</td>\n",
              "      <td>4713325</td>\n",
              "      <td>0</td>\n",
              "      <td>8.9480</td>\n",
              "      <td>100</td>\n",
              "      <td>13.0000</td>\n",
              "      <td>10.0000</td>\n",
              "      <td>27.0000</td>\n",
              "      <td>2.0000</td>\n",
              "      <td>3.0000</td>\n",
              "      <td>-2.0000</td>\n",
              "    </tr>\n",
              "    <tr>\n",
              "      <th>20934</th>\n",
              "      <td>2020-03-04</td>\n",
              "      <td>Texas</td>\n",
              "      <td>48201</td>\n",
              "      <td>0</td>\n",
              "      <td>Harris County</td>\n",
              "      <td>4713325</td>\n",
              "      <td>0</td>\n",
              "      <td>8.8370</td>\n",
              "      <td>98</td>\n",
              "      <td>8.0000</td>\n",
              "      <td>8.0000</td>\n",
              "      <td>1.0000</td>\n",
              "      <td>0.0000</td>\n",
              "      <td>2.0000</td>\n",
              "      <td>0.0000</td>\n",
              "    </tr>\n",
              "    <tr>\n",
              "      <th>20935</th>\n",
              "      <td>2020-03-05</td>\n",
              "      <td>Texas</td>\n",
              "      <td>48201</td>\n",
              "      <td>2</td>\n",
              "      <td>Harris County</td>\n",
              "      <td>4713325</td>\n",
              "      <td>0</td>\n",
              "      <td>9.6440</td>\n",
              "      <td>107</td>\n",
              "      <td>10.0000</td>\n",
              "      <td>9.0000</td>\n",
              "      <td>31.0000</td>\n",
              "      <td>3.0000</td>\n",
              "      <td>3.0000</td>\n",
              "      <td>-2.0000</td>\n",
              "    </tr>\n",
              "  </tbody>\n",
              "</table>\n",
              "</div>"
            ],
            "text/plain": [
              "            Date  ... residential_percent_change_from_baseline\n",
              "20931 2020-03-01  ...                                  -1.0000\n",
              "20932 2020-03-02  ...                                  -2.0000\n",
              "20933 2020-03-03  ...                                  -2.0000\n",
              "20934 2020-03-04  ...                                   0.0000\n",
              "20935 2020-03-05  ...                                  -2.0000\n",
              "\n",
              "[5 rows x 15 columns]"
            ]
          },
          "metadata": {
            "tags": []
          },
          "execution_count": 41
        }
      ]
    },
    {
      "cell_type": "markdown",
      "metadata": {
        "id": "G6ZZezSa4dLQ"
      },
      "source": [
        "## Preprocessing data for LSTM"
      ]
    },
    {
      "cell_type": "code",
      "metadata": {
        "id": "skQx3frs5lWf"
      },
      "source": [
        "Harris_combined_data_selected = Harris_combined_data[X_cols]"
      ],
      "execution_count": 47,
      "outputs": []
    },
    {
      "cell_type": "code",
      "metadata": {
        "id": "Zc1ijcNL45mk"
      },
      "source": [
        "\n",
        "# prepare data for lstm\n",
        "from pandas import read_csv\n",
        "from pandas import DataFrame\n",
        "from pandas import concat\n",
        "from sklearn.preprocessing import LabelEncoder\n",
        "from sklearn.preprocessing import MinMaxScaler\n",
        " \n",
        "# convert series to supervised learning\n",
        "def series_to_supervised(data, n_in=1, n_out=1, dropnan=True):\n",
        "\tn_vars = 1 if type(data) is list else data.shape[1]\n",
        "\tdf = DataFrame(data)\n",
        "\tcols, names = list(), list()\n",
        "\t# input sequence (t-n, ... t-1)\n",
        "\tfor i in range(n_in, 0, -1):\n",
        "\t\tcols.append(df.shift(i))\n",
        "\t\tnames += [('var%d(t-%d)' % (j+1, i)) for j in range(n_vars)]\n",
        "\t# forecast sequence (t, t+1, ... t+n)\n",
        "\tfor i in range(0, n_out):\n",
        "\t\tcols.append(df.shift(-i))\n",
        "\t\tif i == 0:\n",
        "\t\t\tnames += [('var%d(t)' % (j+1)) for j in range(n_vars)]\n",
        "\t\telse:\n",
        "\t\t\tnames += [('var%d(t+%d)' % (j+1, i)) for j in range(n_vars)]\n",
        "\t# put it all together\n",
        "\tagg = concat(cols, axis=1)\n",
        "\tagg.columns = names\n",
        "\t# drop rows with NaN values\n",
        "\tif dropnan:\n",
        "\t\tagg.dropna(inplace=True)\n",
        "\treturn agg"
      ],
      "execution_count": 56,
      "outputs": []
    },
    {
      "cell_type": "code",
      "metadata": {
        "colab": {
          "base_uri": "https://localhost:8080/"
        },
        "id": "9-Sbm1n35dtH",
        "outputId": "04cf20cb-3ebe-4fd0-b620-b1ecc3b663ae"
      },
      "source": [
        "values = Harris_combined_data.values\n",
        "values[:,9]"
      ],
      "execution_count": 57,
      "outputs": [
        {
          "output_type": "execute_result",
          "data": {
            "text/plain": [
              "array(['2020-03-01', '2020-03-02', '2020-03-03', '2020-03-04',\n",
              "       '2020-03-05', '2020-03-06', '2020-03-07', '2020-03-08',\n",
              "       '2020-03-09', '2020-03-10', '2020-03-11', '2020-03-12',\n",
              "       '2020-03-13', '2020-03-14', '2020-03-15', '2020-03-16',\n",
              "       '2020-03-17', '2020-03-18', '2020-03-19', '2020-03-20',\n",
              "       '2020-03-21', '2020-03-22', '2020-03-23', '2020-03-24',\n",
              "       '2020-03-25', '2020-03-26', '2020-03-27', '2020-03-28',\n",
              "       '2020-03-29', '2020-03-30', '2020-03-31', '2020-04-01',\n",
              "       '2020-04-02', '2020-04-03', '2020-04-04', '2020-04-05',\n",
              "       '2020-04-06', '2020-04-07', '2020-04-08', '2020-04-09',\n",
              "       '2020-04-10', '2020-04-11', '2020-04-12', '2020-04-13',\n",
              "       '2020-04-14', '2020-04-15', '2020-04-16', '2020-04-17',\n",
              "       '2020-04-18', '2020-04-19', '2020-04-21', '2020-04-22',\n",
              "       '2020-04-23', '2020-04-24', '2020-04-25', '2020-04-26',\n",
              "       '2020-04-27', '2020-04-28', '2020-04-29', '2020-04-30',\n",
              "       '2020-05-01', '2020-05-02', '2020-05-03', '2020-05-04',\n",
              "       '2020-05-05', '2020-05-06', '2020-05-07', '2020-05-08',\n",
              "       '2020-05-09', '2020-05-10', '2020-05-11', '2020-05-12',\n",
              "       '2020-05-13', '2020-05-14', '2020-05-15', '2020-05-16',\n",
              "       '2020-05-17', '2020-05-18', '2020-05-19', '2020-05-20',\n",
              "       '2020-05-21', '2020-05-22', '2020-05-23', '2020-05-24',\n",
              "       '2020-05-25', '2020-05-26', '2020-05-27', '2020-05-28',\n",
              "       '2020-05-30', '2020-05-31', '2020-06-01', '2020-06-02',\n",
              "       '2020-06-03', '2020-06-04', '2020-06-05', '2020-06-06',\n",
              "       '2020-06-07', '2020-06-08', '2020-06-09', '2020-06-10',\n",
              "       '2020-06-11', '2020-06-12', '2020-06-13', '2020-06-14',\n",
              "       '2020-06-15', '2020-06-16', '2020-06-17', '2020-06-18',\n",
              "       '2020-06-19', '2020-06-20', '2020-06-21', '2020-06-22',\n",
              "       '2020-06-23', '2020-06-24', '2020-06-25', '2020-06-26',\n",
              "       '2020-06-27', '2020-06-28', '2020-06-29', '2020-06-30',\n",
              "       '2020-07-01', '2020-07-02', '2020-07-03', '2020-07-04',\n",
              "       '2020-07-05', '2020-07-06', '2020-07-07', '2020-07-08',\n",
              "       '2020-07-09', '2020-07-10', '2020-07-11', '2020-07-12',\n",
              "       '2020-07-13', '2020-07-14', '2020-07-15', '2020-07-16',\n",
              "       '2020-07-17', '2020-07-18', '2020-07-19', '2020-07-20',\n",
              "       '2020-07-21', '2020-07-22', '2020-07-23', '2020-07-24',\n",
              "       '2020-07-25', '2020-07-26', '2020-07-27', '2020-07-28',\n",
              "       '2020-07-29', '2020-07-30', '2020-07-31', '2020-08-01',\n",
              "       '2020-08-02', '2020-08-03', '2020-08-04', '2020-08-05',\n",
              "       '2020-08-06', '2020-08-07', '2020-08-08', '2020-08-09',\n",
              "       '2020-08-10', '2020-08-11', '2020-08-12', '2020-08-13',\n",
              "       '2020-08-14', '2020-08-15', '2020-08-16', '2020-08-17',\n",
              "       '2020-08-18', '2020-08-19', '2020-08-20', '2020-08-21',\n",
              "       '2020-08-22', '2020-08-23', '2020-08-24', '2020-08-25',\n",
              "       '2020-08-26', '2020-08-27', '2020-08-28', '2020-08-29',\n",
              "       '2020-08-30', '2020-08-31', '2020-09-01', '2020-09-02',\n",
              "       '2020-09-03', '2020-09-04', '2020-09-05', '2020-09-06',\n",
              "       '2020-09-07', '2020-09-08', '2020-09-09', '2020-09-10',\n",
              "       '2020-09-11', '2020-09-12', '2020-09-13', '2020-09-14',\n",
              "       '2020-09-15', '2020-09-16', '2020-09-17', '2020-09-18',\n",
              "       '2020-09-19', '2020-09-20', '2020-09-21', '2020-09-22',\n",
              "       '2020-09-23', '2020-09-24', '2020-09-25', '2020-09-26',\n",
              "       '2020-09-27', '2020-09-28', '2020-09-29', '2020-09-30',\n",
              "       '2020-10-01', '2020-10-02', '2020-10-03', '2020-10-04',\n",
              "       '2020-10-05', '2020-10-06', '2020-10-07', '2020-10-09',\n",
              "       '2020-10-10', '2020-10-11', '2020-10-12', '2020-10-13',\n",
              "       '2020-10-14', '2020-10-15', '2020-10-16', '2020-10-17',\n",
              "       '2020-10-18', '2020-10-19', '2020-10-20', '2020-10-21',\n",
              "       '2020-10-22', '2020-10-23', '2020-10-24', '2020-10-25',\n",
              "       '2020-10-26', '2020-10-27', '2020-10-28', '2020-10-29',\n",
              "       '2020-10-30', '2020-10-31', '2020-11-01', '2020-11-02',\n",
              "       '2020-11-03', '2020-11-04', '2020-11-05', '2020-11-06',\n",
              "       '2020-11-07', '2020-11-08', '2020-11-09', '2020-11-10',\n",
              "       '2020-11-11', '2020-11-12', '2020-11-13', '2020-11-14',\n",
              "       '2020-11-15', '2020-11-16', '2020-11-17', '2020-11-18',\n",
              "       '2020-11-19', '2020-11-20', '2020-11-21', '2020-11-22',\n",
              "       '2020-11-23', '2020-11-24', '2020-11-25', '2020-11-26',\n",
              "       '2020-11-27', '2020-11-28', '2020-11-29', '2020-11-30',\n",
              "       '2020-12-01', '2020-12-02', '2020-12-03', '2020-12-04',\n",
              "       '2020-12-05', '2020-12-06', '2020-12-07', '2020-12-08',\n",
              "       '2020-12-09', '2020-12-10', '2020-12-19', '2020-12-20',\n",
              "       '2020-12-21', '2020-12-22', '2020-12-23', '2020-12-24',\n",
              "       '2020-12-25', '2020-12-26', '2020-12-27', '2020-12-28',\n",
              "       '2020-12-29', '2020-12-30', '2020-12-31', '2021-01-01',\n",
              "       '2021-01-02', '2021-01-03', '2021-01-04', '2021-01-05'],\n",
              "      dtype=object)"
            ]
          },
          "metadata": {
            "tags": []
          },
          "execution_count": 57
        }
      ]
    },
    {
      "cell_type": "code",
      "metadata": {
        "colab": {
          "base_uri": "https://localhost:8080/"
        },
        "id": "p7WIkt3l4OCu",
        "outputId": "721d2a0f-ffb3-4b8d-9834-5862d2bb6397"
      },
      "source": [
        "values = Harris_combined_data.values\n",
        "# integer encode direction\n",
        "encoder = LabelEncoder()\n",
        "values[:,9] = encoder.fit_transform(values[:,9])\n",
        "# ensure all data is float\n",
        "values = values.astype('float32')\n",
        "# normalize features\n",
        "scaler = MinMaxScaler(feature_range=(0, 1))\n",
        "scaled = scaler.fit_transform(values)\n",
        "# frame as supervised learning\n",
        "reframed = series_to_supervised(scaled, 1, 1)\n",
        "# drop columns we don't want to predict\n",
        "#reframed.drop(reframed.columns[[9,10,11,12,13,14,15]], axis=1, inplace=True)\n",
        "print(reframed.head())"
      ],
      "execution_count": 59,
      "outputs": [
        {
          "output_type": "stream",
          "text": [
            "   var1(t-1)  var2(t-1)  var3(t-1)  ...  var8(t)  var9(t)  var10(t)\n",
            "1     0.0000     0.6081     0.6087  ...   1.0000   0.0000    0.0033\n",
            "2     0.0000     0.8414     0.8435  ...   0.9886   0.0000    0.0067\n",
            "3     0.0000     0.8638     0.8696  ...   0.9773   0.0667    0.0100\n",
            "4     0.0000     0.8531     0.8522  ...   0.9886   0.0000    0.0134\n",
            "5     0.0000     0.9315     0.9304  ...   0.9773   0.0333    0.0167\n",
            "\n",
            "[5 rows x 20 columns]\n"
          ],
          "name": "stdout"
        }
      ]
    },
    {
      "cell_type": "markdown",
      "metadata": {
        "id": "1tqQokoY4l1R"
      },
      "source": [
        "## Train Test Split"
      ]
    },
    {
      "cell_type": "code",
      "metadata": {
        "colab": {
          "base_uri": "https://localhost:8080/"
        },
        "id": "ZrYxatVf8NUr",
        "outputId": "d239d366-c768-4748-e6e1-e610bc0e44f0"
      },
      "source": [
        "values.shape[0]"
      ],
      "execution_count": 60,
      "outputs": [
        {
          "output_type": "execute_result",
          "data": {
            "text/plain": [
              "300"
            ]
          },
          "metadata": {
            "tags": []
          },
          "execution_count": 60
        }
      ]
    },
    {
      "cell_type": "code",
      "metadata": {
        "colab": {
          "base_uri": "https://localhost:8080/"
        },
        "id": "J3BradOz4ilu",
        "outputId": "150f1e2d-94b4-4fa5-fbc3-492489004f65"
      },
      "source": [
        "\n",
        "# split into train and test sets\n",
        "values = reframed.values\n",
        "rows_count = values.shape[0]\n",
        "# split the 1/5 value\n",
        "train_split = rows_count//5\n",
        "\n",
        "n_train_hours = train_split * 4\n",
        "\n",
        "print(n_train_hours)\n",
        "print('values shape ',values.shape)\n",
        "train = values[:n_train_hours, :]\n",
        "test = values[n_train_hours:, :]\n",
        "# split into input and outputs\n",
        "train_X, train_y = train[:, :-1], train[:, -1]\n",
        "test_X, test_y = test[:, :-1], test[:, -1]\n",
        "# reshape input to be 3D [samples, timesteps, features]\n",
        "train_X = train_X.reshape((train_X.shape[0], 1, train_X.shape[1]))\n",
        "test_X = test_X.reshape((test_X.shape[0], 1, test_X.shape[1]))\n",
        "print(train_X.shape, train_y.shape, test_X.shape, test_y.shape)"
      ],
      "execution_count": 61,
      "outputs": [
        {
          "output_type": "stream",
          "text": [
            "236\n",
            "values shape  (299, 20)\n",
            "(236, 1, 19) (236,) (63, 1, 19) (63,)\n"
          ],
          "name": "stdout"
        }
      ]
    },
    {
      "cell_type": "markdown",
      "metadata": {
        "id": "F_jMzaXy4q0d"
      },
      "source": [
        "# Training LSTM"
      ]
    },
    {
      "cell_type": "code",
      "metadata": {
        "colab": {
          "base_uri": "https://localhost:8080/",
          "height": 1000
        },
        "id": "F8tOKWVO4oJk",
        "outputId": "c67e0069-5b1f-4cfd-8d12-be2c9f54e7a0"
      },
      "source": [
        "...\n",
        "# design network\n",
        "model = Sequential()\n",
        "model.add(LSTM(50, input_shape=(train_X.shape[1], train_X.shape[2])))\n",
        "model.add(Dense(1))\n",
        "model.compile(loss='mae', optimizer='adam')\n",
        "# fit network\n",
        "history = model.fit(train_X, train_y, epochs=100, batch_size=72, validation_data=(test_X, test_y), verbose=2, shuffle=False)\n",
        "# plot history\n",
        "plt.plot(history.history['loss'], label='train')\n",
        "plt.plot(history.history['val_loss'], label='test')\n",
        "plt.legend()\n",
        "plt.show()"
      ],
      "execution_count": 63,
      "outputs": [
        {
          "output_type": "stream",
          "text": [
            "Epoch 1/100\n",
            "4/4 - 2s - loss: 0.3776 - val_loss: 0.7822\n",
            "Epoch 2/100\n",
            "4/4 - 0s - loss: 0.2996 - val_loss: 0.6765\n",
            "Epoch 3/100\n",
            "4/4 - 0s - loss: 0.2268 - val_loss: 0.5710\n",
            "Epoch 4/100\n",
            "4/4 - 0s - loss: 0.1637 - val_loss: 0.4716\n",
            "Epoch 5/100\n",
            "4/4 - 0s - loss: 0.1354 - val_loss: 0.3868\n",
            "Epoch 6/100\n",
            "4/4 - 0s - loss: 0.1300 - val_loss: 0.3204\n",
            "Epoch 7/100\n",
            "4/4 - 0s - loss: 0.1393 - val_loss: 0.2741\n",
            "Epoch 8/100\n",
            "4/4 - 0s - loss: 0.1494 - val_loss: 0.2477\n",
            "Epoch 9/100\n",
            "4/4 - 0s - loss: 0.1533 - val_loss: 0.2385\n",
            "Epoch 10/100\n",
            "4/4 - 0s - loss: 0.1497 - val_loss: 0.2421\n",
            "Epoch 11/100\n",
            "4/4 - 0s - loss: 0.1406 - val_loss: 0.2524\n",
            "Epoch 12/100\n",
            "4/4 - 0s - loss: 0.1296 - val_loss: 0.2642\n",
            "Epoch 13/100\n",
            "4/4 - 0s - loss: 0.1190 - val_loss: 0.2744\n",
            "Epoch 14/100\n",
            "4/4 - 0s - loss: 0.1095 - val_loss: 0.2805\n",
            "Epoch 15/100\n",
            "4/4 - 0s - loss: 0.1022 - val_loss: 0.2807\n",
            "Epoch 16/100\n",
            "4/4 - 0s - loss: 0.0963 - val_loss: 0.2759\n",
            "Epoch 17/100\n",
            "4/4 - 0s - loss: 0.0918 - val_loss: 0.2680\n",
            "Epoch 18/100\n",
            "4/4 - 0s - loss: 0.0885 - val_loss: 0.2590\n",
            "Epoch 19/100\n",
            "4/4 - 0s - loss: 0.0857 - val_loss: 0.2482\n",
            "Epoch 20/100\n",
            "4/4 - 0s - loss: 0.0840 - val_loss: 0.2369\n",
            "Epoch 21/100\n",
            "4/4 - 0s - loss: 0.0834 - val_loss: 0.2263\n",
            "Epoch 22/100\n",
            "4/4 - 0s - loss: 0.0833 - val_loss: 0.2181\n",
            "Epoch 23/100\n",
            "4/4 - 0s - loss: 0.0831 - val_loss: 0.2111\n",
            "Epoch 24/100\n",
            "4/4 - 0s - loss: 0.0832 - val_loss: 0.2048\n",
            "Epoch 25/100\n",
            "4/4 - 0s - loss: 0.0836 - val_loss: 0.1995\n",
            "Epoch 26/100\n",
            "4/4 - 0s - loss: 0.0841 - val_loss: 0.1941\n",
            "Epoch 27/100\n",
            "4/4 - 0s - loss: 0.0845 - val_loss: 0.1890\n",
            "Epoch 28/100\n",
            "4/4 - 0s - loss: 0.0851 - val_loss: 0.1868\n",
            "Epoch 29/100\n",
            "4/4 - 0s - loss: 0.0845 - val_loss: 0.1888\n",
            "Epoch 30/100\n",
            "4/4 - 0s - loss: 0.0836 - val_loss: 0.1878\n",
            "Epoch 31/100\n",
            "4/4 - 0s - loss: 0.0833 - val_loss: 0.1853\n",
            "Epoch 32/100\n",
            "4/4 - 0s - loss: 0.0831 - val_loss: 0.1847\n",
            "Epoch 33/100\n",
            "4/4 - 0s - loss: 0.0825 - val_loss: 0.1847\n",
            "Epoch 34/100\n",
            "4/4 - 0s - loss: 0.0820 - val_loss: 0.1830\n",
            "Epoch 35/100\n",
            "4/4 - 0s - loss: 0.0818 - val_loss: 0.1824\n",
            "Epoch 36/100\n",
            "4/4 - 0s - loss: 0.0811 - val_loss: 0.1841\n",
            "Epoch 37/100\n",
            "4/4 - 0s - loss: 0.0803 - val_loss: 0.1832\n",
            "Epoch 38/100\n",
            "4/4 - 0s - loss: 0.0800 - val_loss: 0.1809\n",
            "Epoch 39/100\n",
            "4/4 - 0s - loss: 0.0799 - val_loss: 0.1790\n",
            "Epoch 40/100\n",
            "4/4 - 0s - loss: 0.0797 - val_loss: 0.1780\n",
            "Epoch 41/100\n",
            "4/4 - 0s - loss: 0.0792 - val_loss: 0.1783\n",
            "Epoch 42/100\n",
            "4/4 - 0s - loss: 0.0786 - val_loss: 0.1777\n",
            "Epoch 43/100\n",
            "4/4 - 0s - loss: 0.0782 - val_loss: 0.1765\n",
            "Epoch 44/100\n",
            "4/4 - 0s - loss: 0.0779 - val_loss: 0.1755\n",
            "Epoch 45/100\n",
            "4/4 - 0s - loss: 0.0775 - val_loss: 0.1750\n",
            "Epoch 46/100\n",
            "4/4 - 0s - loss: 0.0770 - val_loss: 0.1745\n",
            "Epoch 47/100\n",
            "4/4 - 0s - loss: 0.0767 - val_loss: 0.1730\n",
            "Epoch 48/100\n",
            "4/4 - 0s - loss: 0.0764 - val_loss: 0.1729\n",
            "Epoch 49/100\n",
            "4/4 - 0s - loss: 0.0758 - val_loss: 0.1727\n",
            "Epoch 50/100\n",
            "4/4 - 0s - loss: 0.0754 - val_loss: 0.1714\n",
            "Epoch 51/100\n",
            "4/4 - 0s - loss: 0.0750 - val_loss: 0.1713\n",
            "Epoch 52/100\n",
            "4/4 - 0s - loss: 0.0745 - val_loss: 0.1708\n",
            "Epoch 53/100\n",
            "4/4 - 0s - loss: 0.0741 - val_loss: 0.1691\n",
            "Epoch 54/100\n",
            "4/4 - 0s - loss: 0.0738 - val_loss: 0.1687\n",
            "Epoch 55/100\n",
            "4/4 - 0s - loss: 0.0733 - val_loss: 0.1689\n",
            "Epoch 56/100\n",
            "4/4 - 0s - loss: 0.0727 - val_loss: 0.1687\n",
            "Epoch 57/100\n",
            "4/4 - 0s - loss: 0.0723 - val_loss: 0.1665\n",
            "Epoch 58/100\n",
            "4/4 - 0s - loss: 0.0721 - val_loss: 0.1657\n",
            "Epoch 59/100\n",
            "4/4 - 0s - loss: 0.0716 - val_loss: 0.1658\n",
            "Epoch 60/100\n",
            "4/4 - 0s - loss: 0.0710 - val_loss: 0.1660\n",
            "Epoch 61/100\n",
            "4/4 - 0s - loss: 0.0704 - val_loss: 0.1650\n",
            "Epoch 62/100\n",
            "4/4 - 0s - loss: 0.0701 - val_loss: 0.1624\n",
            "Epoch 63/100\n",
            "4/4 - 0s - loss: 0.0700 - val_loss: 0.1622\n",
            "Epoch 64/100\n",
            "4/4 - 0s - loss: 0.0693 - val_loss: 0.1633\n",
            "Epoch 65/100\n",
            "4/4 - 0s - loss: 0.0686 - val_loss: 0.1618\n",
            "Epoch 66/100\n",
            "4/4 - 0s - loss: 0.0683 - val_loss: 0.1603\n",
            "Epoch 67/100\n",
            "4/4 - 0s - loss: 0.0679 - val_loss: 0.1597\n",
            "Epoch 68/100\n",
            "4/4 - 0s - loss: 0.0674 - val_loss: 0.1594\n",
            "Epoch 69/100\n",
            "4/4 - 0s - loss: 0.0668 - val_loss: 0.1583\n",
            "Epoch 70/100\n",
            "4/4 - 0s - loss: 0.0664 - val_loss: 0.1565\n",
            "Epoch 71/100\n",
            "4/4 - 0s - loss: 0.0662 - val_loss: 0.1556\n",
            "Epoch 72/100\n",
            "4/4 - 0s - loss: 0.0656 - val_loss: 0.1558\n",
            "Epoch 73/100\n",
            "4/4 - 0s - loss: 0.0649 - val_loss: 0.1545\n",
            "Epoch 74/100\n",
            "4/4 - 0s - loss: 0.0646 - val_loss: 0.1532\n",
            "Epoch 75/100\n",
            "4/4 - 0s - loss: 0.0641 - val_loss: 0.1526\n",
            "Epoch 76/100\n",
            "4/4 - 0s - loss: 0.0636 - val_loss: 0.1524\n",
            "Epoch 77/100\n",
            "4/4 - 0s - loss: 0.0629 - val_loss: 0.1509\n",
            "Epoch 78/100\n",
            "4/4 - 0s - loss: 0.0626 - val_loss: 0.1495\n",
            "Epoch 79/100\n",
            "4/4 - 0s - loss: 0.0620 - val_loss: 0.1499\n",
            "Epoch 80/100\n",
            "4/4 - 0s - loss: 0.0613 - val_loss: 0.1484\n",
            "Epoch 81/100\n",
            "4/4 - 0s - loss: 0.0609 - val_loss: 0.1475\n",
            "Epoch 82/100\n",
            "4/4 - 0s - loss: 0.0602 - val_loss: 0.1484\n",
            "Epoch 83/100\n",
            "4/4 - 0s - loss: 0.0594 - val_loss: 0.1473\n",
            "Epoch 84/100\n",
            "4/4 - 0s - loss: 0.0589 - val_loss: 0.1453\n",
            "Epoch 85/100\n",
            "4/4 - 0s - loss: 0.0585 - val_loss: 0.1434\n",
            "Epoch 86/100\n",
            "4/4 - 0s - loss: 0.0581 - val_loss: 0.1429\n",
            "Epoch 87/100\n",
            "4/4 - 0s - loss: 0.0573 - val_loss: 0.1437\n",
            "Epoch 88/100\n",
            "4/4 - 0s - loss: 0.0564 - val_loss: 0.1416\n",
            "Epoch 89/100\n",
            "4/4 - 0s - loss: 0.0561 - val_loss: 0.1388\n",
            "Epoch 90/100\n",
            "4/4 - 0s - loss: 0.0556 - val_loss: 0.1394\n",
            "Epoch 91/100\n",
            "4/4 - 0s - loss: 0.0548 - val_loss: 0.1386\n",
            "Epoch 92/100\n",
            "4/4 - 0s - loss: 0.0540 - val_loss: 0.1381\n",
            "Epoch 93/100\n",
            "4/4 - 0s - loss: 0.0533 - val_loss: 0.1359\n",
            "Epoch 94/100\n",
            "4/4 - 0s - loss: 0.0529 - val_loss: 0.1351\n",
            "Epoch 95/100\n",
            "4/4 - 0s - loss: 0.0520 - val_loss: 0.1354\n",
            "Epoch 96/100\n",
            "4/4 - 0s - loss: 0.0511 - val_loss: 0.1336\n",
            "Epoch 97/100\n",
            "4/4 - 0s - loss: 0.0506 - val_loss: 0.1320\n",
            "Epoch 98/100\n",
            "4/4 - 0s - loss: 0.0499 - val_loss: 0.1310\n",
            "Epoch 99/100\n",
            "4/4 - 0s - loss: 0.0491 - val_loss: 0.1305\n",
            "Epoch 100/100\n",
            "4/4 - 0s - loss: 0.0482 - val_loss: 0.1306\n"
          ],
          "name": "stdout"
        },
        {
          "output_type": "display_data",
          "data": {
            "image/png": "[encoded data removed]",
            "text/plain": [
              "<Figure size 432x288 with 1 Axes>"
            ]
          },
          "metadata": {
            "tags": [],
            "needs_background": "light"
          }
        }
      ]
    },
    {
      "cell_type": "markdown",
      "metadata": {
        "id": "ZnFmDLEa4w7g"
      },
      "source": [
        "# Test"
      ]
    },
    {
      "cell_type": "code",
      "metadata": {
        "colab": {
          "base_uri": "https://localhost:8080/"
        },
        "id": "2G98UOaR4yJ8",
        "outputId": "80ad518d-7869-4014-a894-3ff080fd48e6"
      },
      "source": [
        "import math\n",
        "\n",
        "# make a prediction\n",
        "yhat = model.predict(test_X)\n",
        "test_X1 = test_X.reshape((test_X.shape[0], test_X.shape[2]))\n",
        "# invert scaling for forecast\n",
        "inv_yhat = concatenate((yhat, test_X1[:, 1:]), axis=1)\n",
        "print(inv_yhat.shape)\n",
        "#inv_yhat = scaler.inverse_transform(inv_yhat)\n",
        "inv_yhat = inv_yhat[:,0]\n",
        "# invert scaling for actual\n",
        "test_y = test_y.reshape((len(test_y), 1))\n",
        "inv_y = concatenate((test_y, test_X1[:, 1:]), axis=1)\n",
        "#inv_y = scaler.inverse_transform(inv_y)\n",
        "inv_y = inv_y[:,0]\n",
        "# calculate RMSE\n",
        "mse = mean_squared_error(inv_y, inv_yhat)\n",
        "print('Test MSE: %.3f' % mse)\n",
        "rmse = math.sqrt(mean_squared_error(inv_y, inv_yhat))\n",
        "print('Test RMSE: %.3f' % rmse)"
      ],
      "execution_count": 78,
      "outputs": [
        {
          "output_type": "stream",
          "text": [
            "(63, 19)\n",
            "Test MSE: 0.024\n",
            "Test RMSE: 0.154\n"
          ],
          "name": "stdout"
        }
      ]
    },
    {
      "cell_type": "code",
      "metadata": {
        "colab": {
          "base_uri": "https://localhost:8080/"
        },
        "id": "dcrqzxEC-2yN",
        "outputId": "65130593-fcfe-4445-c29b-1612cac22792"
      },
      "source": [
        "from sklearn.metrics import median_absolute_error, mean_absolute_error\n",
        "print('median_absolute_error', median_absolute_error(inv_y, inv_yhat))\n",
        "print('mean_absolute_error', mean_absolute_error(inv_y, inv_yhat))"
      ],
      "execution_count": 80,
      "outputs": [
        {
          "output_type": "stream",
          "text": [
            "median_absolute_error 0.11782092\n",
            "mean_absolute_error 0.13060144\n"
          ],
          "name": "stdout"
        }
      ]
    }
  ]
}