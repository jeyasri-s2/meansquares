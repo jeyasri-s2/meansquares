{
  "nbformat": 4,
  "nbformat_minor": 0,
  "metadata": {
    "colab": {
      "name": "CA_TimeSeries_LSTM_withFeatures_byGini.ipynb",
      "provenance": [],
      "collapsed_sections": [],
      "toc_visible": true,
      "include_colab_link": true
    },
    "kernelspec": {
      "name": "python3",
      "display_name": "Python 3"
    }
  },
  "cells": [
    {
      "cell_type": "markdown",
      "metadata": {
        "id": "view-in-github",
        "colab_type": "text"
      },
      "source": [
        "<a href=\"https://colab.research.google.com/github/aarsanjani/meansquares/blob/master/version2/modeling/lstm/CA_TimeSeries_LSTM_withFeatures_byGini.ipynb\" target=\"_parent\"><img src=\"https://colab.research.google.com/assets/colab-badge.svg\" alt=\"Open In Colab\"/></a>"
      ]
    },
    {
      "cell_type": "markdown",
      "metadata": {
        "id": "Peb3i3j910ZZ"
      },
      "source": [
        "# Goal\n",
        "\n",
        "> This colab is used to apply LSTM using the features selected from colab: CA_FeatureRanking_Gini.ipynb\n",
        "> The features are selected by gini score using 3 different techniques\n",
        "> WE are doing it for all the CA counties together\n"
      ]
    },
    {
      "cell_type": "markdown",
      "metadata": {
        "id": "A2o8leQh2a0W"
      },
      "source": [
        "# Mount Google Drive"
      ]
    },
    {
      "cell_type": "code",
      "metadata": {
        "colab": {
          "base_uri": "https://localhost:8080/"
        },
        "id": "DxQcfW0N1vzY",
        "outputId": "a58e99fd-f131-44ca-fcdc-5038eb4108d6"
      },
      "source": [
        "from google.colab import drive\n",
        "drive.mount('/content/drive',force_remount=True)"
      ],
      "execution_count": 233,
      "outputs": [
        {
          "output_type": "stream",
          "text": [
            "Mounted at /content/drive\n"
          ],
          "name": "stdout"
        }
      ]
    },
    {
      "cell_type": "code",
      "metadata": {
        "colab": {
          "base_uri": "https://localhost:8080/"
        },
        "id": "PeVbIdh82kTF",
        "outputId": "f744fe48-1cc3-4dba-dc2c-f6ddee656c9e"
      },
      "source": [
        "!ls '/content/drive/Shared drives/CMPE 295- Master Project/projectdata-2021'"
      ],
      "execution_count": 234,
      "outputs": [
        {
          "output_type": "stream",
          "text": [
            " CA_alldatasets_Jan13.csv\n",
            " CA_CombinedData_Labeled_CDCGuideline_Jan15.csv\n",
            " CA_CovidDataJan10.csv\n",
            " CA_GoogleMobilityDataJan10.csv\n",
            " CA_MarylandData_Labeled_CDCGuideline_Jan15.csv\n",
            " CA_processedMarylandData_Jan11.csv\n",
            " CA_SocialDistancingDataJan10.csv\n",
            " computed_CA_mobility_data.csv\n",
            " data-mask_for_all.csv\n",
            " election_results_2021.csv\n",
            " maryland_inertia_data_allstates_Jan11.csv\n",
            " maryland_inertia_raw_dec28_2020.csv\n",
            " Mask_Rule_Jan10.csv\n",
            " NY_alldatasets_Jan13.csv\n",
            " NY_CombinedData_Labeled_CDCGuideline_Jan15.csv\n",
            " NY_CovidDataJan10.csv\n",
            " NY_GoogleMobilityDataJan10.csv\n",
            " NY_MarylandData_Labeled_CDCGuideline_Jan15.csv\n",
            " NY_processedMarylandData_Jan11.csv\n",
            " NY_SocialDistancingDataJan10.csv\n",
            "'Policy_Map_(Sized)_Full_Data_data.csv'\n",
            " TX_alldatasets_Jan11.csv\n",
            " TX_CombinedData_Labeled_CDCGuideline_Jan15.csv\n",
            " TX_CovidDataJan10.csv\n",
            " TX_GoogleMobilityDataJan10.csv\n",
            " TX_MarylandData_Labeled_CDCGuideline_Jan15.csv\n",
            " TX_processedMarylandData_Jan11.csv\n",
            " TX_processedMarylandData_Jan11.gsheet\n",
            " TX_SocialDistancingDataJan10.csv\n"
          ],
          "name": "stdout"
        }
      ]
    },
    {
      "cell_type": "code",
      "metadata": {
        "id": "558T4YGp2z8V"
      },
      "source": [
        "import pandas as pd\n",
        "\n",
        "from tqdm import tqdm\n",
        "import seaborn as sns\n",
        "import numpy as np\n",
        "import matplotlib.pyplot as plt\n",
        "import os\n",
        "from pandas import Series, datetime\n",
        "from pandas.plotting import scatter_matrix, autocorrelation_plot\n",
        "from sklearn.preprocessing import StandardScaler, RobustScaler\n",
        "from sklearn.model_selection import train_test_split, KFold, cross_val_score, GridSearchCV, TimeSeriesSplit\n",
        "from sklearn import metrics\n",
        "from sklearn.metrics import classification_report, confusion_matrix, accuracy_score, mean_squared_error,precision_score\n",
        "from sklearn.pipeline import Pipeline\n",
        "from sklearn.linear_model import LogisticRegression\n",
        "from sklearn.tree import DecisionTreeClassifier\n",
        "from sklearn.neighbors import KNeighborsClassifier\n",
        "from sklearn.discriminant_analysis import LinearDiscriminantAnalysis\n",
        "from sklearn.naive_bayes import GaussianNB\n",
        "from sklearn.cluster import KMeans\n",
        "from sklearn.svm import SVC\n",
        "from sklearn.ensemble import AdaBoostClassifier, GradientBoostingClassifier, RandomForestClassifier, ExtraTreesClassifier\n",
        "from sklearn.metrics import roc_curve, auc\n",
        "import random\n",
        "from statsmodels.graphics.tsaplots import plot_acf, plot_pacf\n",
        "from statsmodels.tsa.arima_model import ARIMA\n",
        "from xgboost import XGBClassifier\n",
        "from sklearn.mixture import GaussianMixture\n",
        "from sklearn.metrics import median_absolute_error, mean_absolute_error\n",
        "\n",
        "\n",
        "import numpy as np\n",
        "import matplotlib.pyplot as plt\n",
        "import pandas as pd\n",
        "pd.set_option('display.float_format', lambda x: '%.4f' % x)\n",
        "import seaborn as sns\n",
        "sns.set_context(\"paper\", font_scale=1.3)\n",
        "sns.set_style('white')\n",
        "import warnings\n",
        "warnings.filterwarnings('ignore')\n",
        "from time import time\n",
        "import matplotlib.ticker as tkr\n",
        "from scipy import stats\n",
        "from statsmodels.tsa.stattools import adfuller\n",
        "from sklearn import preprocessing\n",
        "from statsmodels.tsa.stattools import pacf\n",
        "%matplotlib inline\n",
        "import math\n",
        "import keras\n",
        "from keras.models import Sequential\n",
        "from keras.layers import Dense\n",
        "from keras.layers import LSTM\n",
        "from keras.layers import Dropout\n",
        "from keras.layers import *\n",
        "from sklearn.preprocessing import MinMaxScaler\n",
        "from sklearn.metrics import mean_squared_error\n",
        "from sklearn.metrics import mean_absolute_error\n",
        "from keras.callbacks import EarlyStopping\n"
      ],
      "execution_count": 235,
      "outputs": []
    },
    {
      "cell_type": "markdown",
      "metadata": {
        "id": "kn7FlI762nFk"
      },
      "source": [
        "# 1.Load combined data for CA"
      ]
    },
    {
      "cell_type": "code",
      "metadata": {
        "colab": {
          "base_uri": "https://localhost:8080/",
          "height": 316
        },
        "id": "vxUcxn622pxX",
        "outputId": "def389db-34b5-4713-a510-d49967b96229"
      },
      "source": [
        "CA_combined_data = pd.read_csv('/content/drive/Shared drives/CMPE 295- Master Project/projectdata-2021/CA_alldatasets_Jan13.csv',low_memory=False)\n",
        "CA_combined_data.head()"
      ],
      "execution_count": 236,
      "outputs": [
        {
          "output_type": "execute_result",
          "data": {
            "text/html": [
              "<div>\n",
              "<style scoped>\n",
              "    .dataframe tbody tr th:only-of-type {\n",
              "        vertical-align: middle;\n",
              "    }\n",
              "\n",
              "    .dataframe tbody tr th {\n",
              "        vertical-align: top;\n",
              "    }\n",
              "\n",
              "    .dataframe thead th {\n",
              "        text-align: right;\n",
              "    }\n",
              "</style>\n",
              "<table border=\"1\" class=\"dataframe\">\n",
              "  <thead>\n",
              "    <tr style=\"text-align: right;\">\n",
              "      <th></th>\n",
              "      <th>Date</th>\n",
              "      <th>Province_State</th>\n",
              "      <th>FIPS</th>\n",
              "      <th>New cases</th>\n",
              "      <th>County Name</th>\n",
              "      <th>population</th>\n",
              "      <th>mask_rule_active</th>\n",
              "      <th>m50</th>\n",
              "      <th>m50_index</th>\n",
              "      <th>retail_and_recreation_percent_change_from_baseline</th>\n",
              "      <th>grocery_and_pharmacy_percent_change_from_baseline</th>\n",
              "      <th>parks_percent_change_from_baseline</th>\n",
              "      <th>transit_stations_percent_change_from_baseline</th>\n",
              "      <th>workplaces_percent_change_from_baseline</th>\n",
              "      <th>residential_percent_change_from_baseline</th>\n",
              "    </tr>\n",
              "  </thead>\n",
              "  <tbody>\n",
              "    <tr>\n",
              "      <th>0</th>\n",
              "      <td>2020-03-01</td>\n",
              "      <td>California</td>\n",
              "      <td>6001</td>\n",
              "      <td>0</td>\n",
              "      <td>Alameda County</td>\n",
              "      <td>1671329</td>\n",
              "      <td>0</td>\n",
              "      <td>3.6840</td>\n",
              "      <td>58</td>\n",
              "      <td>6.0000</td>\n",
              "      <td>9.0000</td>\n",
              "      <td>15.0000</td>\n",
              "      <td>1.0000</td>\n",
              "      <td>4.0000</td>\n",
              "      <td>0.0000</td>\n",
              "    </tr>\n",
              "    <tr>\n",
              "      <th>1</th>\n",
              "      <td>2020-03-02</td>\n",
              "      <td>California</td>\n",
              "      <td>6001</td>\n",
              "      <td>0</td>\n",
              "      <td>Alameda County</td>\n",
              "      <td>1671329</td>\n",
              "      <td>0</td>\n",
              "      <td>6.1820</td>\n",
              "      <td>98</td>\n",
              "      <td>4.0000</td>\n",
              "      <td>7.0000</td>\n",
              "      <td>7.0000</td>\n",
              "      <td>-1.0000</td>\n",
              "      <td>3.0000</td>\n",
              "      <td>0.0000</td>\n",
              "    </tr>\n",
              "    <tr>\n",
              "      <th>2</th>\n",
              "      <td>2020-03-03</td>\n",
              "      <td>California</td>\n",
              "      <td>6001</td>\n",
              "      <td>1</td>\n",
              "      <td>Alameda County</td>\n",
              "      <td>1671329</td>\n",
              "      <td>0</td>\n",
              "      <td>6.2710</td>\n",
              "      <td>100</td>\n",
              "      <td>5.0000</td>\n",
              "      <td>12.0000</td>\n",
              "      <td>41.0000</td>\n",
              "      <td>0.0000</td>\n",
              "      <td>1.0000</td>\n",
              "      <td>-1.0000</td>\n",
              "    </tr>\n",
              "    <tr>\n",
              "      <th>3</th>\n",
              "      <td>2020-03-04</td>\n",
              "      <td>California</td>\n",
              "      <td>6001</td>\n",
              "      <td>0</td>\n",
              "      <td>Alameda County</td>\n",
              "      <td>1671329</td>\n",
              "      <td>0</td>\n",
              "      <td>6.2090</td>\n",
              "      <td>99</td>\n",
              "      <td>1.0000</td>\n",
              "      <td>6.0000</td>\n",
              "      <td>23.0000</td>\n",
              "      <td>-3.0000</td>\n",
              "      <td>1.0000</td>\n",
              "      <td>0.0000</td>\n",
              "    </tr>\n",
              "    <tr>\n",
              "      <th>4</th>\n",
              "      <td>2020-03-05</td>\n",
              "      <td>California</td>\n",
              "      <td>6001</td>\n",
              "      <td>0</td>\n",
              "      <td>Alameda County</td>\n",
              "      <td>1671329</td>\n",
              "      <td>0</td>\n",
              "      <td>6.6540</td>\n",
              "      <td>106</td>\n",
              "      <td>1.0000</td>\n",
              "      <td>6.0000</td>\n",
              "      <td>12.0000</td>\n",
              "      <td>-5.0000</td>\n",
              "      <td>-1.0000</td>\n",
              "      <td>1.0000</td>\n",
              "    </tr>\n",
              "  </tbody>\n",
              "</table>\n",
              "</div>"
            ],
            "text/plain": [
              "         Date  ... residential_percent_change_from_baseline\n",
              "0  2020-03-01  ...                                   0.0000\n",
              "1  2020-03-02  ...                                   0.0000\n",
              "2  2020-03-03  ...                                  -1.0000\n",
              "3  2020-03-04  ...                                   0.0000\n",
              "4  2020-03-05  ...                                   1.0000\n",
              "\n",
              "[5 rows x 15 columns]"
            ]
          },
          "metadata": {
            "tags": []
          },
          "execution_count": 236
        }
      ]
    },
    {
      "cell_type": "markdown",
      "metadata": {
        "id": "VqKMaK-nHB1K"
      },
      "source": [
        "## Features"
      ]
    },
    {
      "cell_type": "code",
      "metadata": {
        "id": "Pt7fcXxd2vu5"
      },
      "source": [
        "X_cols_all = [ 'mask_rule_active','m50', 'm50_index',\n",
        "       'retail_and_recreation_percent_change_from_baseline',\n",
        "       'grocery_and_pharmacy_percent_change_from_baseline',\n",
        "       'parks_percent_change_from_baseline',\n",
        "       'transit_stations_percent_change_from_baseline',\n",
        "       'workplaces_percent_change_from_baseline','population', 'FIPS',\n",
        "       'residential_percent_change_from_baseline','Date','New cases']\n",
        "\n",
        "# from gini coeffs; only taking positive value features\n",
        "X_cols_feature_gini_coef = ['mask_rule_active', 'm50', 'm50_index',\n",
        "                           'parks_percent_change_from_baseline', 'residential_percent_change_from_baseline','population', 'FIPS',\n",
        "                            'transit_stations_percent_change_from_baseline','Date','New cases']\n",
        "\n",
        "# from gini extra tree classifier; taking top 6\n",
        "\n",
        "X_cols_feature_gini_rfe = ['mask_rule_active', 'm50', 'm50_index',\n",
        "                           'workplaces_percent_change_from_baseline','parks_percent_change_from_baseline','population', 'FIPS',\n",
        "                          'residential_percent_change_from_baseline',\n",
        "                          'Date','New cases']\n",
        "\n"
      ],
      "execution_count": 237,
      "outputs": []
    },
    {
      "cell_type": "code",
      "metadata": {
        "colab": {
          "base_uri": "https://localhost:8080/",
          "height": 366
        },
        "id": "hstwWs6s3Ht-",
        "outputId": "c19a75c1-a900-45e9-fb60-2feda38b8980"
      },
      "source": [
        "## for LA only code-old\n",
        "LA_combined_data_all = CA_combined_data[CA_combined_data['County Name'] == 'Los Angeles County'][X_cols_all]\n",
        "print(LA_combined_data_all.shape)\n",
        "\n",
        "LA_combined_data_gini_coef = CA_combined_data[CA_combined_data['County Name'] == 'Los Angeles County'][X_cols_feature_gini_coef]\n",
        "print(LA_combined_data_gini_coef.shape)\n",
        "LA_combined_data_gini_coef.head(5)\n",
        "\n",
        "LA_combined_data_gini_rfe = CA_combined_data[CA_combined_data['County Name'] == 'Los Angeles County'][X_cols_feature_gini_rfe]\n",
        "print(LA_combined_data_gini_rfe.shape)\n",
        "LA_combined_data_gini_rfe.head(5)"
      ],
      "execution_count": 238,
      "outputs": [
        {
          "output_type": "stream",
          "text": [
            "(300, 13)\n",
            "(300, 10)\n",
            "(300, 10)\n"
          ],
          "name": "stdout"
        },
        {
          "output_type": "execute_result",
          "data": {
            "text/html": [
              "<div>\n",
              "<style scoped>\n",
              "    .dataframe tbody tr th:only-of-type {\n",
              "        vertical-align: middle;\n",
              "    }\n",
              "\n",
              "    .dataframe tbody tr th {\n",
              "        vertical-align: top;\n",
              "    }\n",
              "\n",
              "    .dataframe thead th {\n",
              "        text-align: right;\n",
              "    }\n",
              "</style>\n",
              "<table border=\"1\" class=\"dataframe\">\n",
              "  <thead>\n",
              "    <tr style=\"text-align: right;\">\n",
              "      <th></th>\n",
              "      <th>mask_rule_active</th>\n",
              "      <th>m50</th>\n",
              "      <th>m50_index</th>\n",
              "      <th>workplaces_percent_change_from_baseline</th>\n",
              "      <th>parks_percent_change_from_baseline</th>\n",
              "      <th>population</th>\n",
              "      <th>FIPS</th>\n",
              "      <th>residential_percent_change_from_baseline</th>\n",
              "      <th>Date</th>\n",
              "      <th>New cases</th>\n",
              "    </tr>\n",
              "  </thead>\n",
              "  <tbody>\n",
              "    <tr>\n",
              "      <th>4940</th>\n",
              "      <td>0</td>\n",
              "      <td>3.9960</td>\n",
              "      <td>60</td>\n",
              "      <td>1.0000</td>\n",
              "      <td>-5.0000</td>\n",
              "      <td>10039107</td>\n",
              "      <td>6037</td>\n",
              "      <td>0.0000</td>\n",
              "      <td>2020-03-01</td>\n",
              "      <td>0</td>\n",
              "    </tr>\n",
              "    <tr>\n",
              "      <th>4941</th>\n",
              "      <td>0</td>\n",
              "      <td>6.5020</td>\n",
              "      <td>98</td>\n",
              "      <td>4.0000</td>\n",
              "      <td>8.0000</td>\n",
              "      <td>10039107</td>\n",
              "      <td>6037</td>\n",
              "      <td>-1.0000</td>\n",
              "      <td>2020-03-02</td>\n",
              "      <td>0</td>\n",
              "    </tr>\n",
              "    <tr>\n",
              "      <th>4942</th>\n",
              "      <td>0</td>\n",
              "      <td>6.5910</td>\n",
              "      <td>99</td>\n",
              "      <td>3.0000</td>\n",
              "      <td>32.0000</td>\n",
              "      <td>10039107</td>\n",
              "      <td>6037</td>\n",
              "      <td>-1.0000</td>\n",
              "      <td>2020-03-03</td>\n",
              "      <td>0</td>\n",
              "    </tr>\n",
              "    <tr>\n",
              "      <th>4943</th>\n",
              "      <td>0</td>\n",
              "      <td>6.5950</td>\n",
              "      <td>100</td>\n",
              "      <td>2.0000</td>\n",
              "      <td>9.0000</td>\n",
              "      <td>10039107</td>\n",
              "      <td>6037</td>\n",
              "      <td>0.0000</td>\n",
              "      <td>2020-03-04</td>\n",
              "      <td>6</td>\n",
              "    </tr>\n",
              "    <tr>\n",
              "      <th>4944</th>\n",
              "      <td>0</td>\n",
              "      <td>7.0080</td>\n",
              "      <td>106</td>\n",
              "      <td>2.0000</td>\n",
              "      <td>9.0000</td>\n",
              "      <td>10039107</td>\n",
              "      <td>6037</td>\n",
              "      <td>0.0000</td>\n",
              "      <td>2020-03-05</td>\n",
              "      <td>4</td>\n",
              "    </tr>\n",
              "  </tbody>\n",
              "</table>\n",
              "</div>"
            ],
            "text/plain": [
              "      mask_rule_active    m50  ...        Date  New cases\n",
              "4940                 0 3.9960  ...  2020-03-01          0\n",
              "4941                 0 6.5020  ...  2020-03-02          0\n",
              "4942                 0 6.5910  ...  2020-03-03          0\n",
              "4943                 0 6.5950  ...  2020-03-04          6\n",
              "4944                 0 7.0080  ...  2020-03-05          4\n",
              "\n",
              "[5 rows x 10 columns]"
            ]
          },
          "metadata": {
            "tags": []
          },
          "execution_count": 238
        }
      ]
    },
    {
      "cell_type": "code",
      "metadata": {
        "colab": {
          "base_uri": "https://localhost:8080/",
          "height": 366
        },
        "id": "BOlW0PkA6F5r",
        "outputId": "a4d1cbe3-5f33-408c-9777-8f73f00d52b3"
      },
      "source": [
        "#taking all the counties\r\n",
        "\r\n",
        "LA_combined_data_all = CA_combined_data[X_cols_all]\r\n",
        "print(LA_combined_data_all.shape)\r\n",
        "\r\n",
        "LA_combined_data_gini_coef = CA_combined_data[X_cols_feature_gini_coef]\r\n",
        "print(LA_combined_data_gini_coef.shape)\r\n",
        "LA_combined_data_gini_coef.head(5)\r\n",
        "\r\n",
        "LA_combined_data_gini_rfe = CA_combined_data[X_cols_feature_gini_rfe]\r\n",
        "print(LA_combined_data_gini_rfe.shape)\r\n",
        "LA_combined_data_gini_rfe.head(5)"
      ],
      "execution_count": 239,
      "outputs": [
        {
          "output_type": "stream",
          "text": [
            "(15821, 13)\n",
            "(15821, 10)\n",
            "(15821, 10)\n"
          ],
          "name": "stdout"
        },
        {
          "output_type": "execute_result",
          "data": {
            "text/html": [
              "<div>\n",
              "<style scoped>\n",
              "    .dataframe tbody tr th:only-of-type {\n",
              "        vertical-align: middle;\n",
              "    }\n",
              "\n",
              "    .dataframe tbody tr th {\n",
              "        vertical-align: top;\n",
              "    }\n",
              "\n",
              "    .dataframe thead th {\n",
              "        text-align: right;\n",
              "    }\n",
              "</style>\n",
              "<table border=\"1\" class=\"dataframe\">\n",
              "  <thead>\n",
              "    <tr style=\"text-align: right;\">\n",
              "      <th></th>\n",
              "      <th>mask_rule_active</th>\n",
              "      <th>m50</th>\n",
              "      <th>m50_index</th>\n",
              "      <th>workplaces_percent_change_from_baseline</th>\n",
              "      <th>parks_percent_change_from_baseline</th>\n",
              "      <th>population</th>\n",
              "      <th>FIPS</th>\n",
              "      <th>residential_percent_change_from_baseline</th>\n",
              "      <th>Date</th>\n",
              "      <th>New cases</th>\n",
              "    </tr>\n",
              "  </thead>\n",
              "  <tbody>\n",
              "    <tr>\n",
              "      <th>0</th>\n",
              "      <td>0</td>\n",
              "      <td>3.6840</td>\n",
              "      <td>58</td>\n",
              "      <td>4.0000</td>\n",
              "      <td>15.0000</td>\n",
              "      <td>1671329</td>\n",
              "      <td>6001</td>\n",
              "      <td>0.0000</td>\n",
              "      <td>2020-03-01</td>\n",
              "      <td>0</td>\n",
              "    </tr>\n",
              "    <tr>\n",
              "      <th>1</th>\n",
              "      <td>0</td>\n",
              "      <td>6.1820</td>\n",
              "      <td>98</td>\n",
              "      <td>3.0000</td>\n",
              "      <td>7.0000</td>\n",
              "      <td>1671329</td>\n",
              "      <td>6001</td>\n",
              "      <td>0.0000</td>\n",
              "      <td>2020-03-02</td>\n",
              "      <td>0</td>\n",
              "    </tr>\n",
              "    <tr>\n",
              "      <th>2</th>\n",
              "      <td>0</td>\n",
              "      <td>6.2710</td>\n",
              "      <td>100</td>\n",
              "      <td>1.0000</td>\n",
              "      <td>41.0000</td>\n",
              "      <td>1671329</td>\n",
              "      <td>6001</td>\n",
              "      <td>-1.0000</td>\n",
              "      <td>2020-03-03</td>\n",
              "      <td>1</td>\n",
              "    </tr>\n",
              "    <tr>\n",
              "      <th>3</th>\n",
              "      <td>0</td>\n",
              "      <td>6.2090</td>\n",
              "      <td>99</td>\n",
              "      <td>1.0000</td>\n",
              "      <td>23.0000</td>\n",
              "      <td>1671329</td>\n",
              "      <td>6001</td>\n",
              "      <td>0.0000</td>\n",
              "      <td>2020-03-04</td>\n",
              "      <td>0</td>\n",
              "    </tr>\n",
              "    <tr>\n",
              "      <th>4</th>\n",
              "      <td>0</td>\n",
              "      <td>6.6540</td>\n",
              "      <td>106</td>\n",
              "      <td>-1.0000</td>\n",
              "      <td>12.0000</td>\n",
              "      <td>1671329</td>\n",
              "      <td>6001</td>\n",
              "      <td>1.0000</td>\n",
              "      <td>2020-03-05</td>\n",
              "      <td>0</td>\n",
              "    </tr>\n",
              "  </tbody>\n",
              "</table>\n",
              "</div>"
            ],
            "text/plain": [
              "   mask_rule_active    m50  ...        Date  New cases\n",
              "0                 0 3.6840  ...  2020-03-01          0\n",
              "1                 0 6.1820  ...  2020-03-02          0\n",
              "2                 0 6.2710  ...  2020-03-03          1\n",
              "3                 0 6.2090  ...  2020-03-04          0\n",
              "4                 0 6.6540  ...  2020-03-05          0\n",
              "\n",
              "[5 rows x 10 columns]"
            ]
          },
          "metadata": {
            "tags": []
          },
          "execution_count": 239
        }
      ]
    },
    {
      "cell_type": "code",
      "metadata": {
        "id": "aGVzYJFr4Mjg"
      },
      "source": [
        "from datetime import datetime\n",
        "# load data\n",
        "def parse(x):\n",
        "\treturn datetime.strptime(x, '%Y-%m-%d')\n",
        " \n",
        "def datetime_to_float(d):\n",
        "    date_time_obj = datetime.strptime(d, '%Y-%m-%d')\n",
        "    return date_time_obj.timestamp()"
      ],
      "execution_count": 240,
      "outputs": []
    },
    {
      "cell_type": "code",
      "metadata": {
        "colab": {
          "base_uri": "https://localhost:8080/",
          "height": 232
        },
        "id": "v5nndUDn4BHm",
        "outputId": "269fc997-a288-4a46-c9ec-4a13c759562f"
      },
      "source": [
        "LA_combined_data_all['Date'] = LA_combined_data_all['Date'].apply(lambda x: datetime_to_float(x))\n",
        "LA_combined_data_gini_coef['Date'] = LA_combined_data_gini_coef['Date'].apply(lambda x: datetime_to_float(x))\n",
        "LA_combined_data_gini_rfe['Date'] = LA_combined_data_gini_rfe['Date'].apply(lambda x: datetime_to_float(x))\n",
        "\n",
        "#Harris_combined_data.index.name = 'Date'\n",
        "LA_combined_data_gini_coef.head()"
      ],
      "execution_count": 241,
      "outputs": [
        {
          "output_type": "execute_result",
          "data": {
            "text/html": [
              "<div>\n",
              "<style scoped>\n",
              "    .dataframe tbody tr th:only-of-type {\n",
              "        vertical-align: middle;\n",
              "    }\n",
              "\n",
              "    .dataframe tbody tr th {\n",
              "        vertical-align: top;\n",
              "    }\n",
              "\n",
              "    .dataframe thead th {\n",
              "        text-align: right;\n",
              "    }\n",
              "</style>\n",
              "<table border=\"1\" class=\"dataframe\">\n",
              "  <thead>\n",
              "    <tr style=\"text-align: right;\">\n",
              "      <th></th>\n",
              "      <th>mask_rule_active</th>\n",
              "      <th>m50</th>\n",
              "      <th>m50_index</th>\n",
              "      <th>parks_percent_change_from_baseline</th>\n",
              "      <th>residential_percent_change_from_baseline</th>\n",
              "      <th>population</th>\n",
              "      <th>FIPS</th>\n",
              "      <th>transit_stations_percent_change_from_baseline</th>\n",
              "      <th>Date</th>\n",
              "      <th>New cases</th>\n",
              "    </tr>\n",
              "  </thead>\n",
              "  <tbody>\n",
              "    <tr>\n",
              "      <th>0</th>\n",
              "      <td>0</td>\n",
              "      <td>3.6840</td>\n",
              "      <td>58</td>\n",
              "      <td>15.0000</td>\n",
              "      <td>0.0000</td>\n",
              "      <td>1671329</td>\n",
              "      <td>6001</td>\n",
              "      <td>1.0000</td>\n",
              "      <td>1583020800.0000</td>\n",
              "      <td>0</td>\n",
              "    </tr>\n",
              "    <tr>\n",
              "      <th>1</th>\n",
              "      <td>0</td>\n",
              "      <td>6.1820</td>\n",
              "      <td>98</td>\n",
              "      <td>7.0000</td>\n",
              "      <td>0.0000</td>\n",
              "      <td>1671329</td>\n",
              "      <td>6001</td>\n",
              "      <td>-1.0000</td>\n",
              "      <td>1583107200.0000</td>\n",
              "      <td>0</td>\n",
              "    </tr>\n",
              "    <tr>\n",
              "      <th>2</th>\n",
              "      <td>0</td>\n",
              "      <td>6.2710</td>\n",
              "      <td>100</td>\n",
              "      <td>41.0000</td>\n",
              "      <td>-1.0000</td>\n",
              "      <td>1671329</td>\n",
              "      <td>6001</td>\n",
              "      <td>0.0000</td>\n",
              "      <td>1583193600.0000</td>\n",
              "      <td>1</td>\n",
              "    </tr>\n",
              "    <tr>\n",
              "      <th>3</th>\n",
              "      <td>0</td>\n",
              "      <td>6.2090</td>\n",
              "      <td>99</td>\n",
              "      <td>23.0000</td>\n",
              "      <td>0.0000</td>\n",
              "      <td>1671329</td>\n",
              "      <td>6001</td>\n",
              "      <td>-3.0000</td>\n",
              "      <td>1583280000.0000</td>\n",
              "      <td>0</td>\n",
              "    </tr>\n",
              "    <tr>\n",
              "      <th>4</th>\n",
              "      <td>0</td>\n",
              "      <td>6.6540</td>\n",
              "      <td>106</td>\n",
              "      <td>12.0000</td>\n",
              "      <td>1.0000</td>\n",
              "      <td>1671329</td>\n",
              "      <td>6001</td>\n",
              "      <td>-5.0000</td>\n",
              "      <td>1583366400.0000</td>\n",
              "      <td>0</td>\n",
              "    </tr>\n",
              "  </tbody>\n",
              "</table>\n",
              "</div>"
            ],
            "text/plain": [
              "   mask_rule_active    m50  ...            Date  New cases\n",
              "0                 0 3.6840  ... 1583020800.0000          0\n",
              "1                 0 6.1820  ... 1583107200.0000          0\n",
              "2                 0 6.2710  ... 1583193600.0000          1\n",
              "3                 0 6.2090  ... 1583280000.0000          0\n",
              "4                 0 6.6540  ... 1583366400.0000          0\n",
              "\n",
              "[5 rows x 10 columns]"
            ]
          },
          "metadata": {
            "tags": []
          },
          "execution_count": 241
        }
      ]
    },
    {
      "cell_type": "code",
      "metadata": {
        "colab": {
          "base_uri": "https://localhost:8080/"
        },
        "id": "Tz-elIxItS42",
        "outputId": "36b6e334-5c23-4821-dfd6-d7ed6914923f"
      },
      "source": [
        "print(len(LA_combined_data_gini_rfe.columns))\n",
        "LA_combined_data_gini_rfe.dtypes"
      ],
      "execution_count": 242,
      "outputs": [
        {
          "output_type": "stream",
          "text": [
            "10\n"
          ],
          "name": "stdout"
        },
        {
          "output_type": "execute_result",
          "data": {
            "text/plain": [
              "mask_rule_active                              int64\n",
              "m50                                         float64\n",
              "m50_index                                     int64\n",
              "workplaces_percent_change_from_baseline     float64\n",
              "parks_percent_change_from_baseline          float64\n",
              "population                                    int64\n",
              "FIPS                                          int64\n",
              "residential_percent_change_from_baseline    float64\n",
              "Date                                        float64\n",
              "New cases                                     int64\n",
              "dtype: object"
            ]
          },
          "metadata": {
            "tags": []
          },
          "execution_count": 242
        }
      ]
    },
    {
      "cell_type": "markdown",
      "metadata": {
        "id": "G6ZZezSa4dLQ"
      },
      "source": [
        "## Preprocessing data for LSTM"
      ]
    },
    {
      "cell_type": "code",
      "metadata": {
        "id": "skQx3frs5lWf"
      },
      "source": [
        "LA_combined_data_all_selected = LA_combined_data_all[X_cols_all]\n",
        "LA_combined_data_gini_coef_selected = LA_combined_data_gini_coef[X_cols_feature_gini_coef]\n",
        "LA_combined_data_gini_rfe_selected = LA_combined_data_gini_rfe[X_cols_feature_gini_rfe]"
      ],
      "execution_count": 243,
      "outputs": []
    },
    {
      "cell_type": "code",
      "metadata": {
        "id": "Zc1ijcNL45mk"
      },
      "source": [
        "\n",
        "# prepare data for lstm\n",
        "from pandas import read_csv\n",
        "from pandas import DataFrame\n",
        "from pandas import concat\n",
        "from sklearn.preprocessing import LabelEncoder\n",
        "from sklearn.preprocessing import MinMaxScaler\n",
        " \n",
        "# convert series to supervised learning\n",
        "def series_to_supervised(data, n_in=1, n_out=1, dropnan=True):\n",
        "\tn_vars = 1 if type(data) is list else data.shape[1]\n",
        "\tdf = DataFrame(data)\n",
        "\tcols, names = list(), list()\n",
        "\t# input sequence (t-n, ... t-1)\n",
        "\tfor i in range(n_in, 0, -1):\n",
        "\t\tcols.append(df.shift(i))\n",
        "\t\tnames += [('var%d(t-%d)' % (j+1, i)) for j in range(n_vars)]\n",
        "\t# forecast sequence (t, t+1, ... t+n)\n",
        "\tfor i in range(0, n_out):\n",
        "\t\tcols.append(df.shift(-i))\n",
        "\t\tif i == 0:\n",
        "\t\t\tnames += [('var%d(t)' % (j+1)) for j in range(n_vars)]\n",
        "\t\telse:\n",
        "\t\t\tnames += [('var%d(t+%d)' % (j+1, i)) for j in range(n_vars)]\n",
        "\t# put it all together\n",
        "\tagg = concat(cols, axis=1)\n",
        "\tagg.columns = names\n",
        "\t# drop rows with NaN values\n",
        "\tif dropnan:\n",
        "\t\tagg.dropna(inplace=True)\n",
        "\treturn agg"
      ],
      "execution_count": 244,
      "outputs": []
    },
    {
      "cell_type": "markdown",
      "metadata": {
        "id": "t3heHKNijDjM"
      },
      "source": [
        "## All values for CA training data"
      ]
    },
    {
      "cell_type": "markdown",
      "metadata": {
        "id": "xKSYTzVE757N"
      },
      "source": [
        "### Date Column Index"
      ]
    },
    {
      "cell_type": "code",
      "metadata": {
        "colab": {
          "base_uri": "https://localhost:8080/"
        },
        "id": "C8-ef3Zv7ymt",
        "outputId": "7e21172d-93c6-4fbb-9b3e-80a5ca0525eb"
      },
      "source": [
        "#taking the 'Date' column location\r\n",
        "\r\n",
        "col_idx = len(X_cols_all) -1\r\n",
        "print(col_idx)"
      ],
      "execution_count": 245,
      "outputs": [
        {
          "output_type": "stream",
          "text": [
            "12\n"
          ],
          "name": "stdout"
        }
      ]
    },
    {
      "cell_type": "code",
      "metadata": {
        "colab": {
          "base_uri": "https://localhost:8080/"
        },
        "id": "p7WIkt3l4OCu",
        "outputId": "230c565b-4f2c-4b12-fcf2-1973c16b4dad"
      },
      "source": [
        "values = LA_combined_data_all.values\n",
        "# integer encode direction\n",
        "encoder = LabelEncoder()\n",
        "values[:,col_idx] = encoder.fit_transform(values[:,col_idx])\n",
        "# ensure all data is float\n",
        "values = values.astype('float32')\n",
        "# normalize features\n",
        "scaler = MinMaxScaler(feature_range=(0, 1))\n",
        "scaled = scaler.fit_transform(values)\n",
        "# frame as supervised learning\n",
        "reframed = series_to_supervised(scaled, 1, 1)\n",
        "# drop columns we don't want to predict\n",
        "#reframed.drop(reframed.columns[[9,10,11,12,13,14,15]], axis=1, inplace=True)\n",
        "print(reframed.head())"
      ],
      "execution_count": 246,
      "outputs": [
        {
          "output_type": "stream",
          "text": [
            "   var1(t-1)  var2(t-1)  var3(t-1)  ...  var11(t)  var12(t)  var13(t)\n",
            "1     0.0000     0.0114     0.0041  ...    0.1591    0.0032    0.0213\n",
            "2     0.0000     0.0191     0.0070  ...    0.1364    0.0065    0.0221\n",
            "3     0.0000     0.0194     0.0071  ...    0.1591    0.0097    0.0213\n",
            "4     0.0000     0.0192     0.0071  ...    0.1818    0.0129    0.0213\n",
            "5     0.0000     0.0206     0.0075  ...    0.2045    0.0161    0.0213\n",
            "\n",
            "[5 rows x 26 columns]\n"
          ],
          "name": "stdout"
        }
      ]
    },
    {
      "cell_type": "markdown",
      "metadata": {
        "id": "1tqQokoY4l1R"
      },
      "source": [
        "### Train Test Split"
      ]
    },
    {
      "cell_type": "code",
      "metadata": {
        "colab": {
          "base_uri": "https://localhost:8080/"
        },
        "id": "ZrYxatVf8NUr",
        "outputId": "a171c608-76a6-4d6c-9648-48fab2f71de4"
      },
      "source": [
        "values.shape[0]"
      ],
      "execution_count": 247,
      "outputs": [
        {
          "output_type": "execute_result",
          "data": {
            "text/plain": [
              "15821"
            ]
          },
          "metadata": {
            "tags": []
          },
          "execution_count": 247
        }
      ]
    },
    {
      "cell_type": "code",
      "metadata": {
        "colab": {
          "base_uri": "https://localhost:8080/"
        },
        "id": "J3BradOz4ilu",
        "outputId": "3652edcf-4a37-4ddd-d1ab-c899305ce80e"
      },
      "source": [
        "\n",
        "# split into train and test sets\n",
        "values = reframed.values\n",
        "rows_count = values.shape[0]\n",
        "# split the 1/5 value\n",
        "train_split = rows_count//5\n",
        "\n",
        "n_train_hours = train_split * 4\n",
        "\n",
        "print(n_train_hours)\n",
        "print('values shape ',values.shape)\n",
        "train = values[:n_train_hours, :]\n",
        "test = values[n_train_hours:, :]\n",
        "# split into input and outputs\n",
        "train_X, train_y = train[:, :-1], train[:, -1]\n",
        "test_X, test_y = test[:, :-1], test[:, -1]\n",
        "# reshape input to be 3D [samples, timesteps, features]\n",
        "train_X = train_X.reshape((train_X.shape[0], 1, train_X.shape[1]))\n",
        "test_X = test_X.reshape((test_X.shape[0], 1, test_X.shape[1]))\n",
        "print(train_X.shape, train_y.shape, test_X.shape, test_y.shape)"
      ],
      "execution_count": 248,
      "outputs": [
        {
          "output_type": "stream",
          "text": [
            "8068\n",
            "values shape  (10085, 26)\n",
            "(8068, 1, 25) (8068,) (2017, 1, 25) (2017,)\n"
          ],
          "name": "stdout"
        }
      ]
    },
    {
      "cell_type": "markdown",
      "metadata": {
        "id": "F_jMzaXy4q0d"
      },
      "source": [
        "### Training LSTM"
      ]
    },
    {
      "cell_type": "code",
      "metadata": {
        "colab": {
          "base_uri": "https://localhost:8080/",
          "height": 1000
        },
        "id": "F8tOKWVO4oJk",
        "outputId": "0ce88221-5b5f-4d55-bb47-28eb65dcc8d3"
      },
      "source": [
        "...\n",
        "# design network\n",
        "model = Sequential()\n",
        "model.add(LSTM(50, input_shape=(train_X.shape[1], train_X.shape[2])))\n",
        "model.add(Dense(1))\n",
        "model.compile(loss='mae', optimizer='adam')\n",
        "# fit network\n",
        "history = model.fit(train_X, train_y, epochs=100, batch_size=72, validation_data=(test_X, test_y), verbose=2, shuffle=False)\n",
        "# plot history\n",
        "plt.plot(history.history['loss'], label='train')\n",
        "plt.plot(history.history['val_loss'], label='test')\n",
        "plt.legend()\n",
        "plt.show()"
      ],
      "execution_count": 249,
      "outputs": [
        {
          "output_type": "stream",
          "text": [
            "Epoch 1/100\n",
            "113/113 - 2s - loss: 0.1112 - val_loss: 0.0495\n",
            "Epoch 2/100\n",
            "113/113 - 0s - loss: 0.0824 - val_loss: 0.0424\n",
            "Epoch 3/100\n",
            "113/113 - 0s - loss: 0.0698 - val_loss: 0.0449\n",
            "Epoch 4/100\n",
            "113/113 - 0s - loss: 0.0637 - val_loss: 0.0493\n",
            "Epoch 5/100\n",
            "113/113 - 0s - loss: 0.0610 - val_loss: 0.0500\n",
            "Epoch 6/100\n",
            "113/113 - 0s - loss: 0.0623 - val_loss: 0.0488\n",
            "Epoch 7/100\n",
            "113/113 - 0s - loss: 0.0592 - val_loss: 0.0445\n",
            "Epoch 8/100\n",
            "113/113 - 0s - loss: 0.0632 - val_loss: 0.0425\n",
            "Epoch 9/100\n",
            "113/113 - 0s - loss: 0.0591 - val_loss: 0.0417\n",
            "Epoch 10/100\n",
            "113/113 - 0s - loss: 0.0629 - val_loss: 0.0421\n",
            "Epoch 11/100\n",
            "113/113 - 0s - loss: 0.0585 - val_loss: 0.0411\n",
            "Epoch 12/100\n",
            "113/113 - 0s - loss: 0.0616 - val_loss: 0.0408\n",
            "Epoch 13/100\n",
            "113/113 - 0s - loss: 0.0574 - val_loss: 0.0426\n",
            "Epoch 14/100\n",
            "113/113 - 0s - loss: 0.0607 - val_loss: 0.0397\n",
            "Epoch 15/100\n",
            "113/113 - 0s - loss: 0.0569 - val_loss: 0.0472\n",
            "Epoch 16/100\n",
            "113/113 - 0s - loss: 0.0597 - val_loss: 0.0413\n",
            "Epoch 17/100\n",
            "113/113 - 0s - loss: 0.0571 - val_loss: 0.0459\n",
            "Epoch 18/100\n",
            "113/113 - 0s - loss: 0.0602 - val_loss: 0.0399\n",
            "Epoch 19/100\n",
            "113/113 - 0s - loss: 0.0569 - val_loss: 0.0468\n",
            "Epoch 20/100\n",
            "113/113 - 0s - loss: 0.0592 - val_loss: 0.0411\n",
            "Epoch 21/100\n",
            "113/113 - 0s - loss: 0.0575 - val_loss: 0.0447\n",
            "Epoch 22/100\n",
            "113/113 - 1s - loss: 0.0588 - val_loss: 0.0411\n",
            "Epoch 23/100\n",
            "113/113 - 0s - loss: 0.0574 - val_loss: 0.0420\n",
            "Epoch 24/100\n",
            "113/113 - 0s - loss: 0.0580 - val_loss: 0.0400\n",
            "Epoch 25/100\n",
            "113/113 - 0s - loss: 0.0576 - val_loss: 0.0395\n",
            "Epoch 26/100\n",
            "113/113 - 0s - loss: 0.0574 - val_loss: 0.0395\n",
            "Epoch 27/100\n",
            "113/113 - 0s - loss: 0.0572 - val_loss: 0.0395\n",
            "Epoch 28/100\n",
            "113/113 - 0s - loss: 0.0571 - val_loss: 0.0397\n",
            "Epoch 29/100\n",
            "113/113 - 0s - loss: 0.0570 - val_loss: 0.0392\n",
            "Epoch 30/100\n",
            "113/113 - 0s - loss: 0.0568 - val_loss: 0.0390\n",
            "Epoch 31/100\n",
            "113/113 - 0s - loss: 0.0565 - val_loss: 0.0392\n",
            "Epoch 32/100\n",
            "113/113 - 0s - loss: 0.0564 - val_loss: 0.0394\n",
            "Epoch 33/100\n",
            "113/113 - 0s - loss: 0.0563 - val_loss: 0.0400\n",
            "Epoch 34/100\n",
            "113/113 - 0s - loss: 0.0562 - val_loss: 0.0401\n",
            "Epoch 35/100\n",
            "113/113 - 0s - loss: 0.0561 - val_loss: 0.0400\n",
            "Epoch 36/100\n",
            "113/113 - 0s - loss: 0.0560 - val_loss: 0.0397\n",
            "Epoch 37/100\n",
            "113/113 - 0s - loss: 0.0560 - val_loss: 0.0395\n",
            "Epoch 38/100\n",
            "113/113 - 0s - loss: 0.0562 - val_loss: 0.0394\n",
            "Epoch 39/100\n",
            "113/113 - 0s - loss: 0.0558 - val_loss: 0.0403\n",
            "Epoch 40/100\n",
            "113/113 - 0s - loss: 0.0559 - val_loss: 0.0397\n",
            "Epoch 41/100\n",
            "113/113 - 0s - loss: 0.0560 - val_loss: 0.0399\n",
            "Epoch 42/100\n",
            "113/113 - 0s - loss: 0.0561 - val_loss: 0.0392\n",
            "Epoch 43/100\n",
            "113/113 - 0s - loss: 0.0559 - val_loss: 0.0396\n",
            "Epoch 44/100\n",
            "113/113 - 0s - loss: 0.0559 - val_loss: 0.0392\n",
            "Epoch 45/100\n",
            "113/113 - 0s - loss: 0.0557 - val_loss: 0.0391\n",
            "Epoch 46/100\n",
            "113/113 - 0s - loss: 0.0557 - val_loss: 0.0389\n",
            "Epoch 47/100\n",
            "113/113 - 0s - loss: 0.0556 - val_loss: 0.0389\n",
            "Epoch 48/100\n",
            "113/113 - 0s - loss: 0.0559 - val_loss: 0.0389\n",
            "Epoch 49/100\n",
            "113/113 - 0s - loss: 0.0563 - val_loss: 0.0391\n",
            "Epoch 50/100\n",
            "113/113 - 0s - loss: 0.0556 - val_loss: 0.0393\n",
            "Epoch 51/100\n",
            "113/113 - 0s - loss: 0.0554 - val_loss: 0.0394\n",
            "Epoch 52/100\n",
            "113/113 - 0s - loss: 0.0554 - val_loss: 0.0392\n",
            "Epoch 53/100\n",
            "113/113 - 0s - loss: 0.0553 - val_loss: 0.0395\n",
            "Epoch 54/100\n",
            "113/113 - 0s - loss: 0.0554 - val_loss: 0.0393\n",
            "Epoch 55/100\n",
            "113/113 - 0s - loss: 0.0552 - val_loss: 0.0393\n",
            "Epoch 56/100\n",
            "113/113 - 0s - loss: 0.0551 - val_loss: 0.0393\n",
            "Epoch 57/100\n",
            "113/113 - 0s - loss: 0.0552 - val_loss: 0.0393\n",
            "Epoch 58/100\n",
            "113/113 - 0s - loss: 0.0551 - val_loss: 0.0402\n",
            "Epoch 59/100\n",
            "113/113 - 0s - loss: 0.0553 - val_loss: 0.0401\n",
            "Epoch 60/100\n",
            "113/113 - 0s - loss: 0.0553 - val_loss: 0.0395\n",
            "Epoch 61/100\n",
            "113/113 - 0s - loss: 0.0554 - val_loss: 0.0395\n",
            "Epoch 62/100\n",
            "113/113 - 0s - loss: 0.0553 - val_loss: 0.0392\n",
            "Epoch 63/100\n",
            "113/113 - 0s - loss: 0.0552 - val_loss: 0.0391\n",
            "Epoch 64/100\n",
            "113/113 - 0s - loss: 0.0551 - val_loss: 0.0393\n",
            "Epoch 65/100\n",
            "113/113 - 0s - loss: 0.0550 - val_loss: 0.0391\n",
            "Epoch 66/100\n",
            "113/113 - 0s - loss: 0.0549 - val_loss: 0.0394\n",
            "Epoch 67/100\n",
            "113/113 - 0s - loss: 0.0549 - val_loss: 0.0402\n",
            "Epoch 68/100\n",
            "113/113 - 0s - loss: 0.0550 - val_loss: 0.0400\n",
            "Epoch 69/100\n",
            "113/113 - 0s - loss: 0.0551 - val_loss: 0.0401\n",
            "Epoch 70/100\n",
            "113/113 - 0s - loss: 0.0552 - val_loss: 0.0406\n",
            "Epoch 71/100\n",
            "113/113 - 0s - loss: 0.0555 - val_loss: 0.0402\n",
            "Epoch 72/100\n",
            "113/113 - 0s - loss: 0.0553 - val_loss: 0.0405\n",
            "Epoch 73/100\n",
            "113/113 - 0s - loss: 0.0554 - val_loss: 0.0406\n",
            "Epoch 74/100\n",
            "113/113 - 0s - loss: 0.0551 - val_loss: 0.0399\n",
            "Epoch 75/100\n",
            "113/113 - 0s - loss: 0.0552 - val_loss: 0.0398\n",
            "Epoch 76/100\n",
            "113/113 - 0s - loss: 0.0548 - val_loss: 0.0395\n",
            "Epoch 77/100\n",
            "113/113 - 0s - loss: 0.0549 - val_loss: 0.0393\n",
            "Epoch 78/100\n",
            "113/113 - 0s - loss: 0.0547 - val_loss: 0.0402\n",
            "Epoch 79/100\n",
            "113/113 - 0s - loss: 0.0549 - val_loss: 0.0399\n",
            "Epoch 80/100\n",
            "113/113 - 0s - loss: 0.0547 - val_loss: 0.0397\n",
            "Epoch 81/100\n",
            "113/113 - 0s - loss: 0.0545 - val_loss: 0.0393\n",
            "Epoch 82/100\n",
            "113/113 - 0s - loss: 0.0551 - val_loss: 0.0389\n",
            "Epoch 83/100\n",
            "113/113 - 0s - loss: 0.0543 - val_loss: 0.0395\n",
            "Epoch 84/100\n",
            "113/113 - 0s - loss: 0.0544 - val_loss: 0.0388\n",
            "Epoch 85/100\n",
            "113/113 - 0s - loss: 0.0556 - val_loss: 0.0385\n",
            "Epoch 86/100\n",
            "113/113 - 0s - loss: 0.0541 - val_loss: 0.0396\n",
            "Epoch 87/100\n",
            "113/113 - 0s - loss: 0.0544 - val_loss: 0.0388\n",
            "Epoch 88/100\n",
            "113/113 - 0s - loss: 0.0556 - val_loss: 0.0382\n",
            "Epoch 89/100\n",
            "113/113 - 0s - loss: 0.0539 - val_loss: 0.0391\n",
            "Epoch 90/100\n",
            "113/113 - 0s - loss: 0.0542 - val_loss: 0.0386\n",
            "Epoch 91/100\n",
            "113/113 - 0s - loss: 0.0540 - val_loss: 0.0389\n",
            "Epoch 92/100\n",
            "113/113 - 0s - loss: 0.0540 - val_loss: 0.0387\n",
            "Epoch 93/100\n",
            "113/113 - 0s - loss: 0.0539 - val_loss: 0.0388\n",
            "Epoch 94/100\n",
            "113/113 - 0s - loss: 0.0540 - val_loss: 0.0388\n",
            "Epoch 95/100\n",
            "113/113 - 0s - loss: 0.0545 - val_loss: 0.0383\n",
            "Epoch 96/100\n",
            "113/113 - 0s - loss: 0.0537 - val_loss: 0.0388\n",
            "Epoch 97/100\n",
            "113/113 - 0s - loss: 0.0539 - val_loss: 0.0387\n",
            "Epoch 98/100\n",
            "113/113 - 0s - loss: 0.0536 - val_loss: 0.0385\n",
            "Epoch 99/100\n",
            "113/113 - 0s - loss: 0.0543 - val_loss: 0.0382\n",
            "Epoch 100/100\n",
            "113/113 - 0s - loss: 0.0536 - val_loss: 0.0384\n"
          ],
          "name": "stdout"
        },
        {
          "output_type": "display_data",
          "data": {
            "image/png": "[encoded data removed]",
            "text/plain": [
              "<Figure size 432x288 with 1 Axes>"
            ]
          },
          "metadata": {
            "tags": [],
            "needs_background": "light"
          }
        }
      ]
    },
    {
      "cell_type": "markdown",
      "metadata": {
        "id": "ZnFmDLEa4w7g"
      },
      "source": [
        "### Test"
      ]
    },
    {
      "cell_type": "code",
      "metadata": {
        "colab": {
          "base_uri": "https://localhost:8080/"
        },
        "id": "2G98UOaR4yJ8",
        "outputId": "831c7d22-a59f-4726-df77-977ac6ae3337"
      },
      "source": [
        "import math\n",
        "\n",
        "# make a prediction\n",
        "yhat = model.predict(test_X)\n",
        "test_X1 = test_X.reshape((test_X.shape[0], test_X.shape[2]))\n",
        "# invert scaling for forecast\n",
        "inv_yhat = concatenate((yhat, test_X1[:, 1:]), axis=1)\n",
        "print(inv_yhat.shape)\n",
        "#inv_yhat = scaler.inverse_transform(inv_yhat)\n",
        "inv_yhat = inv_yhat[:,0]\n",
        "# invert scaling for actual\n",
        "test_y = test_y.reshape((len(test_y), 1))\n",
        "inv_y = concatenate((test_y, test_X1[:, 1:]), axis=1)\n",
        "#inv_y = scaler.inverse_transform(inv_y)\n",
        "inv_y = inv_y[:,0]\n",
        "# calculate RMSE\n",
        "mse = mean_squared_error(inv_y, inv_yhat)\n",
        "print('Test MSE: %.3f' % mse)\n",
        "rmse = math.sqrt(mean_squared_error(inv_y, inv_yhat))\n",
        "print('Test RMSE: %.3f' % rmse)\n",
        "\n",
        "print('median_absolute_error', median_absolute_error(inv_y, inv_yhat))\n",
        "print('mean_absolute_error', mean_absolute_error(inv_y, inv_yhat))"
      ],
      "execution_count": 250,
      "outputs": [
        {
          "output_type": "stream",
          "text": [
            "(2017, 25)\n",
            "Test MSE: 0.006\n",
            "Test RMSE: 0.080\n",
            "median_absolute_error 0.011253856\n",
            "mean_absolute_error 0.03837361\n"
          ],
          "name": "stdout"
        }
      ]
    },
    {
      "cell_type": "markdown",
      "metadata": {
        "id": "xKq3c8_9jQXa"
      },
      "source": [
        "## Data Training: For Gini-Coefficient Selected Features "
      ]
    },
    {
      "cell_type": "markdown",
      "metadata": {
        "id": "SLf8NpRWLKMD"
      },
      "source": [
        "### Date Column Index"
      ]
    },
    {
      "cell_type": "code",
      "metadata": {
        "colab": {
          "base_uri": "https://localhost:8080/"
        },
        "id": "t7Yn1xUwK6u1",
        "outputId": "21d5b41c-d2f1-43bc-c459-a2b054851eb4"
      },
      "source": [
        "col_idx = len(X_cols_feature_gini_coef)-1\r\n",
        "print(col_idx)"
      ],
      "execution_count": 251,
      "outputs": [
        {
          "output_type": "stream",
          "text": [
            "9\n"
          ],
          "name": "stdout"
        }
      ]
    },
    {
      "cell_type": "code",
      "metadata": {
        "colab": {
          "base_uri": "https://localhost:8080/"
        },
        "id": "awyC3BSCjnqY",
        "outputId": "c83908af-5349-4ecc-a643-891e8068510e"
      },
      "source": [
        "len(LA_combined_data_gini_coef.columns)"
      ],
      "execution_count": 252,
      "outputs": [
        {
          "output_type": "execute_result",
          "data": {
            "text/plain": [
              "10"
            ]
          },
          "metadata": {
            "tags": []
          },
          "execution_count": 252
        }
      ]
    },
    {
      "cell_type": "code",
      "metadata": {
        "colab": {
          "base_uri": "https://localhost:8080/"
        },
        "id": "Op6wtKgcjUNm",
        "outputId": "9ca89d2c-a2f7-4caa-fec8-e93d430d25bf"
      },
      "source": [
        "values = LA_combined_data_gini_coef.values\n",
        "# integer encode direction\n",
        "encoder = LabelEncoder()\n",
        "values[:,col_idx] = encoder.fit_transform(values[:,col_idx])\n",
        "# ensure all data is float\n",
        "values = values.astype('float32')\n",
        "# normalize features\n",
        "scaler = MinMaxScaler(feature_range=(0, 1))\n",
        "scaled = scaler.fit_transform(values)\n",
        "# frame as supervised learning\n",
        "reframed = series_to_supervised(scaled, 1, 1)\n",
        "# drop columns we don't want to predict\n",
        "#reframed.drop(reframed.columns[[9,10,11,12,13,14,15]], axis=1, inplace=True)\n",
        "print(reframed.head())"
      ],
      "execution_count": 253,
      "outputs": [
        {
          "output_type": "stream",
          "text": [
            "   var1(t-1)  var2(t-1)  var3(t-1)  ...  var8(t)  var9(t)  var10(t)\n",
            "1     0.0000     0.0114     0.0041  ...   0.4703   0.0032    0.0213\n",
            "2     0.0000     0.0191     0.0070  ...   0.4757   0.0065    0.0221\n",
            "3     0.0000     0.0194     0.0071  ...   0.4595   0.0097    0.0213\n",
            "4     0.0000     0.0192     0.0071  ...   0.4486   0.0129    0.0213\n",
            "5     0.0000     0.0206     0.0075  ...   0.4378   0.0161    0.0213\n",
            "\n",
            "[5 rows x 20 columns]\n"
          ],
          "name": "stdout"
        }
      ]
    },
    {
      "cell_type": "markdown",
      "metadata": {
        "id": "CtNQl7UFjhBG"
      },
      "source": [
        "### Train Test split"
      ]
    },
    {
      "cell_type": "code",
      "metadata": {
        "colab": {
          "base_uri": "https://localhost:8080/"
        },
        "id": "9uQoint5jUdo",
        "outputId": "bb0812f7-1b62-4f93-8af4-91d60cad8a73"
      },
      "source": [
        "\n",
        "# split into train and test sets\n",
        "values = reframed.values\n",
        "rows_count = values.shape[0]\n",
        "# split the 1/5 value\n",
        "train_split = rows_count//5\n",
        "\n",
        "n_train_hours = train_split * 4\n",
        "\n",
        "print(n_train_hours)\n",
        "print('values shape ',values.shape)\n",
        "train = values[:n_train_hours, :]\n",
        "test = values[n_train_hours:, :]\n",
        "# split into input and outputs\n",
        "train_X, train_y = train[:, :-1], train[:, -1]\n",
        "test_X, test_y = test[:, :-1], test[:, -1]\n",
        "# reshape input to be 3D [samples, timesteps, features]\n",
        "train_X = train_X.reshape((train_X.shape[0], 1, train_X.shape[1]))\n",
        "test_X = test_X.reshape((test_X.shape[0], 1, test_X.shape[1]))\n",
        "print(train_X.shape, train_y.shape, test_X.shape, test_y.shape)"
      ],
      "execution_count": 254,
      "outputs": [
        {
          "output_type": "stream",
          "text": [
            "8072\n",
            "values shape  (10091, 20)\n",
            "(8072, 1, 19) (8072,) (2019, 1, 19) (2019,)\n"
          ],
          "name": "stdout"
        }
      ]
    },
    {
      "cell_type": "markdown",
      "metadata": {
        "id": "_UahqIBqjvVP"
      },
      "source": [
        "### Training LSTM for feature selected data"
      ]
    },
    {
      "cell_type": "code",
      "metadata": {
        "colab": {
          "base_uri": "https://localhost:8080/"
        },
        "id": "w8-AFQysjUbC",
        "outputId": "da41f5fa-eb4c-451f-e46a-1fb6d4a669d9"
      },
      "source": [
        "...\n",
        "# design network\n",
        "model = Sequential()\n",
        "model.add(LSTM(50, input_shape=(train_X.shape[1], train_X.shape[2])))\n",
        "model.add(Dense(1))\n",
        "model.compile(loss='mae', optimizer='adam')\n",
        "# fit network\n",
        "history = model.fit(train_X, train_y, epochs=200, batch_size=72, validation_data=(test_X, test_y), verbose=2, shuffle=False)\n"
      ],
      "execution_count": 255,
      "outputs": [
        {
          "output_type": "stream",
          "text": [
            "Epoch 1/200\n",
            "113/113 - 2s - loss: 0.1057 - val_loss: 0.0523\n",
            "Epoch 2/200\n",
            "113/113 - 0s - loss: 0.0834 - val_loss: 0.0424\n",
            "Epoch 3/200\n",
            "113/113 - 0s - loss: 0.0686 - val_loss: 0.0458\n",
            "Epoch 4/200\n",
            "113/113 - 0s - loss: 0.0612 - val_loss: 0.0456\n",
            "Epoch 5/200\n",
            "113/113 - 0s - loss: 0.0593 - val_loss: 0.0469\n",
            "Epoch 6/200\n",
            "113/113 - 0s - loss: 0.0592 - val_loss: 0.0463\n",
            "Epoch 7/200\n",
            "113/113 - 0s - loss: 0.0586 - val_loss: 0.0469\n",
            "Epoch 8/200\n",
            "113/113 - 0s - loss: 0.0577 - val_loss: 0.0492\n",
            "Epoch 9/200\n",
            "113/113 - 0s - loss: 0.0584 - val_loss: 0.0469\n",
            "Epoch 10/200\n",
            "113/113 - 0s - loss: 0.0575 - val_loss: 0.0485\n",
            "Epoch 11/200\n",
            "113/113 - 0s - loss: 0.0581 - val_loss: 0.0451\n",
            "Epoch 12/200\n",
            "113/113 - 0s - loss: 0.0574 - val_loss: 0.0455\n",
            "Epoch 13/200\n",
            "113/113 - 0s - loss: 0.0574 - val_loss: 0.0443\n",
            "Epoch 14/200\n",
            "113/113 - 0s - loss: 0.0573 - val_loss: 0.0441\n",
            "Epoch 15/200\n",
            "113/113 - 0s - loss: 0.0571 - val_loss: 0.0437\n",
            "Epoch 16/200\n",
            "113/113 - 0s - loss: 0.0570 - val_loss: 0.0436\n",
            "Epoch 17/200\n",
            "113/113 - 0s - loss: 0.0569 - val_loss: 0.0439\n",
            "Epoch 18/200\n",
            "113/113 - 0s - loss: 0.0569 - val_loss: 0.0435\n",
            "Epoch 19/200\n",
            "113/113 - 0s - loss: 0.0562 - val_loss: 0.0457\n",
            "Epoch 20/200\n",
            "113/113 - 0s - loss: 0.0572 - val_loss: 0.0435\n",
            "Epoch 21/200\n",
            "113/113 - 0s - loss: 0.0563 - val_loss: 0.0439\n",
            "Epoch 22/200\n",
            "113/113 - 0s - loss: 0.0566 - val_loss: 0.0420\n",
            "Epoch 23/200\n",
            "113/113 - 0s - loss: 0.0564 - val_loss: 0.0433\n",
            "Epoch 24/200\n",
            "113/113 - 0s - loss: 0.0561 - val_loss: 0.0434\n",
            "Epoch 25/200\n",
            "113/113 - 0s - loss: 0.0566 - val_loss: 0.0424\n",
            "Epoch 26/200\n",
            "113/113 - 0s - loss: 0.0558 - val_loss: 0.0435\n",
            "Epoch 27/200\n",
            "113/113 - 0s - loss: 0.0567 - val_loss: 0.0424\n",
            "Epoch 28/200\n",
            "113/113 - 0s - loss: 0.0558 - val_loss: 0.0433\n",
            "Epoch 29/200\n",
            "113/113 - 0s - loss: 0.0563 - val_loss: 0.0417\n",
            "Epoch 30/200\n",
            "113/113 - 0s - loss: 0.0560 - val_loss: 0.0417\n",
            "Epoch 31/200\n",
            "113/113 - 0s - loss: 0.0560 - val_loss: 0.0417\n",
            "Epoch 32/200\n",
            "113/113 - 0s - loss: 0.0561 - val_loss: 0.0412\n",
            "Epoch 33/200\n",
            "113/113 - 0s - loss: 0.0558 - val_loss: 0.0420\n",
            "Epoch 34/200\n",
            "113/113 - 0s - loss: 0.0557 - val_loss: 0.0416\n",
            "Epoch 35/200\n",
            "113/113 - 0s - loss: 0.0561 - val_loss: 0.0411\n",
            "Epoch 36/200\n",
            "113/113 - 0s - loss: 0.0555 - val_loss: 0.0415\n",
            "Epoch 37/200\n",
            "113/113 - 0s - loss: 0.0562 - val_loss: 0.0406\n",
            "Epoch 38/200\n",
            "113/113 - 0s - loss: 0.0555 - val_loss: 0.0415\n",
            "Epoch 39/200\n",
            "113/113 - 0s - loss: 0.0557 - val_loss: 0.0409\n",
            "Epoch 40/200\n",
            "113/113 - 0s - loss: 0.0559 - val_loss: 0.0405\n",
            "Epoch 41/200\n",
            "113/113 - 0s - loss: 0.0555 - val_loss: 0.0406\n",
            "Epoch 42/200\n",
            "113/113 - 0s - loss: 0.0555 - val_loss: 0.0412\n",
            "Epoch 43/200\n",
            "113/113 - 0s - loss: 0.0557 - val_loss: 0.0401\n",
            "Epoch 44/200\n",
            "113/113 - 0s - loss: 0.0558 - val_loss: 0.0398\n",
            "Epoch 45/200\n",
            "113/113 - 0s - loss: 0.0553 - val_loss: 0.0407\n",
            "Epoch 46/200\n",
            "113/113 - 0s - loss: 0.0558 - val_loss: 0.0395\n",
            "Epoch 47/200\n",
            "113/113 - 0s - loss: 0.0556 - val_loss: 0.0398\n",
            "Epoch 48/200\n",
            "113/113 - 0s - loss: 0.0552 - val_loss: 0.0402\n",
            "Epoch 49/200\n",
            "113/113 - 0s - loss: 0.0568 - val_loss: 0.0389\n",
            "Epoch 50/200\n",
            "113/113 - 0s - loss: 0.0556 - val_loss: 0.0393\n",
            "Epoch 51/200\n",
            "113/113 - 0s - loss: 0.0569 - val_loss: 0.0388\n",
            "Epoch 52/200\n",
            "113/113 - 0s - loss: 0.0560 - val_loss: 0.0391\n",
            "Epoch 53/200\n",
            "113/113 - 0s - loss: 0.0562 - val_loss: 0.0389\n",
            "Epoch 54/200\n",
            "113/113 - 0s - loss: 0.0561 - val_loss: 0.0389\n",
            "Epoch 55/200\n",
            "113/113 - 0s - loss: 0.0560 - val_loss: 0.0388\n",
            "Epoch 56/200\n",
            "113/113 - 0s - loss: 0.0559 - val_loss: 0.0387\n",
            "Epoch 57/200\n",
            "113/113 - 0s - loss: 0.0558 - val_loss: 0.0387\n",
            "Epoch 58/200\n",
            "113/113 - 0s - loss: 0.0558 - val_loss: 0.0387\n",
            "Epoch 59/200\n",
            "113/113 - 0s - loss: 0.0557 - val_loss: 0.0387\n",
            "Epoch 60/200\n",
            "113/113 - 0s - loss: 0.0557 - val_loss: 0.0386\n",
            "Epoch 61/200\n",
            "113/113 - 0s - loss: 0.0555 - val_loss: 0.0387\n",
            "Epoch 62/200\n",
            "113/113 - 0s - loss: 0.0555 - val_loss: 0.0387\n",
            "Epoch 63/200\n",
            "113/113 - 0s - loss: 0.0555 - val_loss: 0.0386\n",
            "Epoch 64/200\n",
            "113/113 - 0s - loss: 0.0554 - val_loss: 0.0386\n",
            "Epoch 65/200\n",
            "113/113 - 0s - loss: 0.0552 - val_loss: 0.0387\n",
            "Epoch 66/200\n",
            "113/113 - 0s - loss: 0.0554 - val_loss: 0.0386\n",
            "Epoch 67/200\n",
            "113/113 - 0s - loss: 0.0554 - val_loss: 0.0386\n",
            "Epoch 68/200\n",
            "113/113 - 0s - loss: 0.0554 - val_loss: 0.0386\n",
            "Epoch 69/200\n",
            "113/113 - 0s - loss: 0.0555 - val_loss: 0.0386\n",
            "Epoch 70/200\n",
            "113/113 - 0s - loss: 0.0553 - val_loss: 0.0386\n",
            "Epoch 71/200\n",
            "113/113 - 0s - loss: 0.0555 - val_loss: 0.0387\n",
            "Epoch 72/200\n",
            "113/113 - 0s - loss: 0.0554 - val_loss: 0.0388\n",
            "Epoch 73/200\n",
            "113/113 - 0s - loss: 0.0555 - val_loss: 0.0387\n",
            "Epoch 74/200\n",
            "113/113 - 0s - loss: 0.0555 - val_loss: 0.0388\n",
            "Epoch 75/200\n",
            "113/113 - 0s - loss: 0.0554 - val_loss: 0.0389\n",
            "Epoch 76/200\n",
            "113/113 - 0s - loss: 0.0554 - val_loss: 0.0388\n",
            "Epoch 77/200\n",
            "113/113 - 0s - loss: 0.0554 - val_loss: 0.0389\n",
            "Epoch 78/200\n",
            "113/113 - 0s - loss: 0.0553 - val_loss: 0.0390\n",
            "Epoch 79/200\n",
            "113/113 - 0s - loss: 0.0553 - val_loss: 0.0392\n",
            "Epoch 80/200\n",
            "113/113 - 0s - loss: 0.0553 - val_loss: 0.0392\n",
            "Epoch 81/200\n",
            "113/113 - 0s - loss: 0.0553 - val_loss: 0.0391\n",
            "Epoch 82/200\n",
            "113/113 - 0s - loss: 0.0552 - val_loss: 0.0393\n",
            "Epoch 83/200\n",
            "113/113 - 0s - loss: 0.0552 - val_loss: 0.0393\n",
            "Epoch 84/200\n",
            "113/113 - 0s - loss: 0.0552 - val_loss: 0.0394\n",
            "Epoch 85/200\n",
            "113/113 - 0s - loss: 0.0551 - val_loss: 0.0395\n",
            "Epoch 86/200\n",
            "113/113 - 0s - loss: 0.0552 - val_loss: 0.0396\n",
            "Epoch 87/200\n",
            "113/113 - 0s - loss: 0.0551 - val_loss: 0.0397\n",
            "Epoch 88/200\n",
            "113/113 - 0s - loss: 0.0551 - val_loss: 0.0396\n",
            "Epoch 89/200\n",
            "113/113 - 0s - loss: 0.0553 - val_loss: 0.0396\n",
            "Epoch 90/200\n",
            "113/113 - 0s - loss: 0.0551 - val_loss: 0.0397\n",
            "Epoch 91/200\n",
            "113/113 - 0s - loss: 0.0548 - val_loss: 0.0398\n",
            "Epoch 92/200\n",
            "113/113 - 0s - loss: 0.0549 - val_loss: 0.0398\n",
            "Epoch 93/200\n",
            "113/113 - 0s - loss: 0.0551 - val_loss: 0.0397\n",
            "Epoch 94/200\n",
            "113/113 - 0s - loss: 0.0547 - val_loss: 0.0398\n",
            "Epoch 95/200\n",
            "113/113 - 0s - loss: 0.0546 - val_loss: 0.0399\n",
            "Epoch 96/200\n",
            "113/113 - 0s - loss: 0.0544 - val_loss: 0.0400\n",
            "Epoch 97/200\n",
            "113/113 - 0s - loss: 0.0546 - val_loss: 0.0401\n",
            "Epoch 98/200\n",
            "113/113 - 0s - loss: 0.0545 - val_loss: 0.0401\n",
            "Epoch 99/200\n",
            "113/113 - 0s - loss: 0.0545 - val_loss: 0.0403\n",
            "Epoch 100/200\n",
            "113/113 - 0s - loss: 0.0545 - val_loss: 0.0402\n",
            "Epoch 101/200\n",
            "113/113 - 0s - loss: 0.0544 - val_loss: 0.0403\n",
            "Epoch 102/200\n",
            "113/113 - 0s - loss: 0.0544 - val_loss: 0.0403\n",
            "Epoch 103/200\n",
            "113/113 - 0s - loss: 0.0543 - val_loss: 0.0404\n",
            "Epoch 104/200\n",
            "113/113 - 0s - loss: 0.0543 - val_loss: 0.0405\n",
            "Epoch 105/200\n",
            "113/113 - 0s - loss: 0.0543 - val_loss: 0.0405\n",
            "Epoch 106/200\n",
            "113/113 - 0s - loss: 0.0542 - val_loss: 0.0403\n",
            "Epoch 107/200\n",
            "113/113 - 0s - loss: 0.0542 - val_loss: 0.0402\n",
            "Epoch 108/200\n",
            "113/113 - 0s - loss: 0.0541 - val_loss: 0.0402\n",
            "Epoch 109/200\n",
            "113/113 - 0s - loss: 0.0541 - val_loss: 0.0404\n",
            "Epoch 110/200\n",
            "113/113 - 0s - loss: 0.0539 - val_loss: 0.0404\n",
            "Epoch 111/200\n",
            "113/113 - 0s - loss: 0.0538 - val_loss: 0.0404\n",
            "Epoch 112/200\n",
            "113/113 - 0s - loss: 0.0539 - val_loss: 0.0404\n",
            "Epoch 113/200\n",
            "113/113 - 0s - loss: 0.0537 - val_loss: 0.0405\n",
            "Epoch 114/200\n",
            "113/113 - 0s - loss: 0.0537 - val_loss: 0.0402\n",
            "Epoch 115/200\n",
            "113/113 - 0s - loss: 0.0539 - val_loss: 0.0405\n",
            "Epoch 116/200\n",
            "113/113 - 0s - loss: 0.0536 - val_loss: 0.0404\n",
            "Epoch 117/200\n",
            "113/113 - 0s - loss: 0.0536 - val_loss: 0.0405\n",
            "Epoch 118/200\n",
            "113/113 - 0s - loss: 0.0538 - val_loss: 0.0404\n",
            "Epoch 119/200\n",
            "113/113 - 0s - loss: 0.0535 - val_loss: 0.0405\n",
            "Epoch 120/200\n",
            "113/113 - 0s - loss: 0.0533 - val_loss: 0.0406\n",
            "Epoch 121/200\n",
            "113/113 - 0s - loss: 0.0536 - val_loss: 0.0405\n",
            "Epoch 122/200\n",
            "113/113 - 0s - loss: 0.0534 - val_loss: 0.0404\n",
            "Epoch 123/200\n",
            "113/113 - 0s - loss: 0.0533 - val_loss: 0.0406\n",
            "Epoch 124/200\n",
            "113/113 - 0s - loss: 0.0532 - val_loss: 0.0405\n",
            "Epoch 125/200\n",
            "113/113 - 0s - loss: 0.0533 - val_loss: 0.0402\n",
            "Epoch 126/200\n",
            "113/113 - 0s - loss: 0.0532 - val_loss: 0.0406\n",
            "Epoch 127/200\n",
            "113/113 - 0s - loss: 0.0529 - val_loss: 0.0406\n",
            "Epoch 128/200\n",
            "113/113 - 0s - loss: 0.0530 - val_loss: 0.0404\n",
            "Epoch 129/200\n",
            "113/113 - 0s - loss: 0.0531 - val_loss: 0.0403\n",
            "Epoch 130/200\n",
            "113/113 - 0s - loss: 0.0529 - val_loss: 0.0406\n",
            "Epoch 131/200\n",
            "113/113 - 0s - loss: 0.0528 - val_loss: 0.0403\n",
            "Epoch 132/200\n",
            "113/113 - 0s - loss: 0.0527 - val_loss: 0.0404\n",
            "Epoch 133/200\n",
            "113/113 - 0s - loss: 0.0527 - val_loss: 0.0404\n",
            "Epoch 134/200\n",
            "113/113 - 0s - loss: 0.0527 - val_loss: 0.0403\n",
            "Epoch 135/200\n",
            "113/113 - 0s - loss: 0.0526 - val_loss: 0.0406\n",
            "Epoch 136/200\n",
            "113/113 - 0s - loss: 0.0526 - val_loss: 0.0405\n",
            "Epoch 137/200\n",
            "113/113 - 0s - loss: 0.0525 - val_loss: 0.0406\n",
            "Epoch 138/200\n",
            "113/113 - 0s - loss: 0.0525 - val_loss: 0.0405\n",
            "Epoch 139/200\n",
            "113/113 - 0s - loss: 0.0524 - val_loss: 0.0404\n",
            "Epoch 140/200\n",
            "113/113 - 0s - loss: 0.0522 - val_loss: 0.0406\n",
            "Epoch 141/200\n",
            "113/113 - 0s - loss: 0.0524 - val_loss: 0.0406\n",
            "Epoch 142/200\n",
            "113/113 - 0s - loss: 0.0522 - val_loss: 0.0407\n",
            "Epoch 143/200\n",
            "113/113 - 0s - loss: 0.0523 - val_loss: 0.0406\n",
            "Epoch 144/200\n",
            "113/113 - 0s - loss: 0.0520 - val_loss: 0.0408\n",
            "Epoch 145/200\n",
            "113/113 - 0s - loss: 0.0523 - val_loss: 0.0407\n",
            "Epoch 146/200\n",
            "113/113 - 0s - loss: 0.0521 - val_loss: 0.0404\n",
            "Epoch 147/200\n",
            "113/113 - 0s - loss: 0.0524 - val_loss: 0.0405\n",
            "Epoch 148/200\n",
            "113/113 - 0s - loss: 0.0520 - val_loss: 0.0403\n",
            "Epoch 149/200\n",
            "113/113 - 0s - loss: 0.0523 - val_loss: 0.0403\n",
            "Epoch 150/200\n",
            "113/113 - 0s - loss: 0.0520 - val_loss: 0.0399\n",
            "Epoch 151/200\n",
            "113/113 - 0s - loss: 0.0524 - val_loss: 0.0402\n",
            "Epoch 152/200\n",
            "113/113 - 0s - loss: 0.0520 - val_loss: 0.0397\n",
            "Epoch 153/200\n",
            "113/113 - 0s - loss: 0.0521 - val_loss: 0.0399\n",
            "Epoch 154/200\n",
            "113/113 - 0s - loss: 0.0520 - val_loss: 0.0395\n",
            "Epoch 155/200\n",
            "113/113 - 0s - loss: 0.0519 - val_loss: 0.0399\n",
            "Epoch 156/200\n",
            "113/113 - 0s - loss: 0.0521 - val_loss: 0.0392\n",
            "Epoch 157/200\n",
            "113/113 - 0s - loss: 0.0520 - val_loss: 0.0396\n",
            "Epoch 158/200\n",
            "113/113 - 0s - loss: 0.0524 - val_loss: 0.0386\n",
            "Epoch 159/200\n",
            "113/113 - 0s - loss: 0.0525 - val_loss: 0.0388\n",
            "Epoch 160/200\n",
            "113/113 - 0s - loss: 0.0527 - val_loss: 0.0385\n",
            "Epoch 161/200\n",
            "113/113 - 0s - loss: 0.0527 - val_loss: 0.0382\n",
            "Epoch 162/200\n",
            "113/113 - 0s - loss: 0.0527 - val_loss: 0.0383\n",
            "Epoch 163/200\n",
            "113/113 - 0s - loss: 0.0525 - val_loss: 0.0382\n",
            "Epoch 164/200\n",
            "113/113 - 0s - loss: 0.0528 - val_loss: 0.0383\n",
            "Epoch 165/200\n",
            "113/113 - 0s - loss: 0.0522 - val_loss: 0.0382\n",
            "Epoch 166/200\n",
            "113/113 - 0s - loss: 0.0531 - val_loss: 0.0386\n",
            "Epoch 167/200\n",
            "113/113 - 0s - loss: 0.0520 - val_loss: 0.0384\n",
            "Epoch 168/200\n",
            "113/113 - 0s - loss: 0.0533 - val_loss: 0.0388\n",
            "Epoch 169/200\n",
            "113/113 - 0s - loss: 0.0518 - val_loss: 0.0382\n",
            "Epoch 170/200\n",
            "113/113 - 0s - loss: 0.0529 - val_loss: 0.0384\n",
            "Epoch 171/200\n",
            "113/113 - 0s - loss: 0.0515 - val_loss: 0.0386\n",
            "Epoch 172/200\n",
            "113/113 - 0s - loss: 0.0530 - val_loss: 0.0383\n",
            "Epoch 173/200\n",
            "113/113 - 0s - loss: 0.0515 - val_loss: 0.0383\n",
            "Epoch 174/200\n",
            "113/113 - 0s - loss: 0.0527 - val_loss: 0.0381\n",
            "Epoch 175/200\n",
            "113/113 - 0s - loss: 0.0514 - val_loss: 0.0385\n",
            "Epoch 176/200\n",
            "113/113 - 0s - loss: 0.0527 - val_loss: 0.0381\n",
            "Epoch 177/200\n",
            "113/113 - 0s - loss: 0.0513 - val_loss: 0.0384\n",
            "Epoch 178/200\n",
            "113/113 - 0s - loss: 0.0524 - val_loss: 0.0379\n",
            "Epoch 179/200\n",
            "113/113 - 0s - loss: 0.0512 - val_loss: 0.0384\n",
            "Epoch 180/200\n",
            "113/113 - 0s - loss: 0.0523 - val_loss: 0.0379\n",
            "Epoch 181/200\n",
            "113/113 - 0s - loss: 0.0512 - val_loss: 0.0384\n",
            "Epoch 182/200\n",
            "113/113 - 0s - loss: 0.0521 - val_loss: 0.0378\n",
            "Epoch 183/200\n",
            "113/113 - 0s - loss: 0.0512 - val_loss: 0.0384\n",
            "Epoch 184/200\n",
            "113/113 - 0s - loss: 0.0520 - val_loss: 0.0379\n",
            "Epoch 185/200\n",
            "113/113 - 0s - loss: 0.0513 - val_loss: 0.0384\n",
            "Epoch 186/200\n",
            "113/113 - 0s - loss: 0.0518 - val_loss: 0.0378\n",
            "Epoch 187/200\n",
            "113/113 - 0s - loss: 0.0513 - val_loss: 0.0384\n",
            "Epoch 188/200\n",
            "113/113 - 0s - loss: 0.0516 - val_loss: 0.0378\n",
            "Epoch 189/200\n",
            "113/113 - 0s - loss: 0.0512 - val_loss: 0.0385\n",
            "Epoch 190/200\n",
            "113/113 - 0s - loss: 0.0516 - val_loss: 0.0377\n",
            "Epoch 191/200\n",
            "113/113 - 0s - loss: 0.0512 - val_loss: 0.0385\n",
            "Epoch 192/200\n",
            "113/113 - 0s - loss: 0.0515 - val_loss: 0.0379\n",
            "Epoch 193/200\n",
            "113/113 - 0s - loss: 0.0513 - val_loss: 0.0386\n",
            "Epoch 194/200\n",
            "113/113 - 0s - loss: 0.0515 - val_loss: 0.0380\n",
            "Epoch 195/200\n",
            "113/113 - 0s - loss: 0.0513 - val_loss: 0.0385\n",
            "Epoch 196/200\n",
            "113/113 - 0s - loss: 0.0515 - val_loss: 0.0382\n",
            "Epoch 197/200\n",
            "113/113 - 0s - loss: 0.0513 - val_loss: 0.0386\n",
            "Epoch 198/200\n",
            "113/113 - 0s - loss: 0.0514 - val_loss: 0.0380\n",
            "Epoch 199/200\n",
            "113/113 - 0s - loss: 0.0513 - val_loss: 0.0385\n",
            "Epoch 200/200\n",
            "113/113 - 0s - loss: 0.0514 - val_loss: 0.0381\n"
          ],
          "name": "stdout"
        }
      ]
    },
    {
      "cell_type": "code",
      "metadata": {
        "colab": {
          "base_uri": "https://localhost:8080/",
          "height": 267
        },
        "id": "wqeHch9kyQFJ",
        "outputId": "1edcb498-c384-4022-ef69-a67395a71719"
      },
      "source": [
        "# plot history\n",
        "plt.plot(history.history['loss'], label='train')\n",
        "plt.plot(history.history['val_loss'], label='test')\n",
        "plt.legend()\n",
        "plt.show()"
      ],
      "execution_count": 256,
      "outputs": [
        {
          "output_type": "display_data",
          "data": {
            "image/png": "[encoded data removed]",
            "text/plain": [
              "<Figure size 432x288 with 1 Axes>"
            ]
          },
          "metadata": {
            "tags": [],
            "needs_background": "light"
          }
        }
      ]
    },
    {
      "cell_type": "markdown",
      "metadata": {
        "id": "gX1VImIbj8zi"
      },
      "source": [
        "### Testing feature selected data"
      ]
    },
    {
      "cell_type": "code",
      "metadata": {
        "colab": {
          "base_uri": "https://localhost:8080/"
        },
        "id": "DaqF9091jzf0",
        "outputId": "007a7e7b-7417-49da-9f83-38a8138f6c9f"
      },
      "source": [
        "import math\n",
        "\n",
        "# make a prediction\n",
        "yhat = model.predict(test_X)\n",
        "test_X1 = test_X.reshape((test_X.shape[0], test_X.shape[2]))\n",
        "# invert scaling for forecast\n",
        "inv_yhat = concatenate((yhat, test_X1[:, 1:]), axis=1)\n",
        "print(inv_yhat.shape)\n",
        "#inv_yhat = scaler.inverse_transform(inv_yhat)\n",
        "inv_yhat = inv_yhat[:,0]\n",
        "# invert scaling for actual\n",
        "test_y = test_y.reshape((len(test_y), 1))\n",
        "inv_y = concatenate((test_y, test_X1[:, 1:]), axis=1)\n",
        "#inv_y = scaler.inverse_transform(inv_y)\n",
        "inv_y = inv_y[:,0]\n",
        "# calculate RMSE\n",
        "mse = mean_squared_error(inv_y, inv_yhat)\n",
        "print('Test MSE: %.3f' % mse)\n",
        "rmse = math.sqrt(mean_squared_error(inv_y, inv_yhat))\n",
        "print('Test RMSE: %.3f' % rmse)\n",
        "print('median_absolute_error', median_absolute_error(inv_y, inv_yhat))\n",
        "print('mean_absolute_error', mean_absolute_error(inv_y, inv_yhat))"
      ],
      "execution_count": 257,
      "outputs": [
        {
          "output_type": "stream",
          "text": [
            "(2019, 19)\n",
            "Test MSE: 0.006\n",
            "Test RMSE: 0.079\n",
            "median_absolute_error 0.011820227\n",
            "mean_absolute_error 0.03806342\n"
          ],
          "name": "stdout"
        }
      ]
    },
    {
      "cell_type": "markdown",
      "metadata": {
        "id": "-CfamWkbLrrP"
      },
      "source": [
        "## Data Training: For Extra Tree Classifier Selected Features "
      ]
    },
    {
      "cell_type": "markdown",
      "metadata": {
        "id": "3XR2GBoHLrrd"
      },
      "source": [
        "### Date Column Index"
      ]
    },
    {
      "cell_type": "code",
      "metadata": {
        "colab": {
          "base_uri": "https://localhost:8080/"
        },
        "id": "qWTRrVHOLrre",
        "outputId": "55a8a256-7a80-4e21-b34c-603b5e1ed754"
      },
      "source": [
        "col_idx = len(X_cols_feature_gini_rfe) -1 \r\n",
        "print(col_idx)"
      ],
      "execution_count": 258,
      "outputs": [
        {
          "output_type": "stream",
          "text": [
            "9\n"
          ],
          "name": "stdout"
        }
      ]
    },
    {
      "cell_type": "code",
      "metadata": {
        "colab": {
          "base_uri": "https://localhost:8080/"
        },
        "id": "zmflcuPkLrrf",
        "outputId": "daef9fc4-b28e-4591-90b5-2d04fdf89ba9"
      },
      "source": [
        "len(LA_combined_data_gini_rfe.columns)"
      ],
      "execution_count": 259,
      "outputs": [
        {
          "output_type": "execute_result",
          "data": {
            "text/plain": [
              "10"
            ]
          },
          "metadata": {
            "tags": []
          },
          "execution_count": 259
        }
      ]
    },
    {
      "cell_type": "code",
      "metadata": {
        "colab": {
          "base_uri": "https://localhost:8080/"
        },
        "id": "fkAKgEZvLrrf",
        "outputId": "65345473-3dde-4ced-da03-61d6a74f89ba"
      },
      "source": [
        "values = LA_combined_data_gini_rfe.values\n",
        "# integer encode direction\n",
        "encoder = LabelEncoder()\n",
        "values[:,col_idx] = encoder.fit_transform(values[:,col_idx])\n",
        "# ensure all data is float\n",
        "values = values.astype('float32')\n",
        "# normalize features\n",
        "scaler = MinMaxScaler(feature_range=(0, 1))\n",
        "scaled = scaler.fit_transform(values)\n",
        "# frame as supervised learning\n",
        "reframed = series_to_supervised(scaled, 1, 1)\n",
        "# drop columns we don't want to predict\n",
        "#reframed.drop(reframed.columns[[9,10,11,12,13,14,15]], axis=1, inplace=True)\n",
        "print(reframed.head())"
      ],
      "execution_count": 260,
      "outputs": [
        {
          "output_type": "stream",
          "text": [
            "   var1(t-1)  var2(t-1)  var3(t-1)  ...  var8(t)  var9(t)  var10(t)\n",
            "1     0.0000     0.0114     0.0041  ...   0.1591   0.0032    0.0213\n",
            "2     0.0000     0.0191     0.0070  ...   0.1364   0.0065    0.0221\n",
            "3     0.0000     0.0194     0.0071  ...   0.1591   0.0097    0.0213\n",
            "4     0.0000     0.0192     0.0071  ...   0.1818   0.0129    0.0213\n",
            "5     0.0000     0.0206     0.0075  ...   0.2045   0.0161    0.0213\n",
            "\n",
            "[5 rows x 20 columns]\n"
          ],
          "name": "stdout"
        }
      ]
    },
    {
      "cell_type": "markdown",
      "metadata": {
        "id": "w77OKlI8Lrrg"
      },
      "source": [
        "### Train Test split"
      ]
    },
    {
      "cell_type": "code",
      "metadata": {
        "colab": {
          "base_uri": "https://localhost:8080/"
        },
        "id": "jAeaFLo5Lrrg",
        "outputId": "bdae27c0-a6fa-4440-d2a6-9acf189d91f4"
      },
      "source": [
        "\n",
        "# split into train and test sets\n",
        "values = reframed.values\n",
        "rows_count = values.shape[0]\n",
        "# split the 1/5 value\n",
        "train_split = rows_count//5\n",
        "\n",
        "n_train_hours = train_split * 4\n",
        "\n",
        "print(n_train_hours)\n",
        "print('values shape ',values.shape)\n",
        "train = values[:n_train_hours, :]\n",
        "test = values[n_train_hours:, :]\n",
        "# split into input and outputs\n",
        "train_X, train_y = train[:, :-1], train[:, -1]\n",
        "test_X, test_y = test[:, :-1], test[:, -1]\n",
        "# reshape input to be 3D [samples, timesteps, features]\n",
        "train_X = train_X.reshape((train_X.shape[0], 1, train_X.shape[1]))\n",
        "test_X = test_X.reshape((test_X.shape[0], 1, test_X.shape[1]))\n",
        "print(train_X.shape, train_y.shape, test_X.shape, test_y.shape)"
      ],
      "execution_count": 261,
      "outputs": [
        {
          "output_type": "stream",
          "text": [
            "8756\n",
            "values shape  (10947, 20)\n",
            "(8756, 1, 19) (8756,) (2191, 1, 19) (2191,)\n"
          ],
          "name": "stdout"
        }
      ]
    },
    {
      "cell_type": "markdown",
      "metadata": {
        "id": "UlpBgyAFLrrh"
      },
      "source": [
        "### Training LSTM for feature selected data"
      ]
    },
    {
      "cell_type": "code",
      "metadata": {
        "colab": {
          "base_uri": "https://localhost:8080/"
        },
        "id": "HaRu8XOOLrrh",
        "outputId": "c894f310-c67d-4157-fef9-1cf133ccaa8c"
      },
      "source": [
        "...\n",
        "# design network\n",
        "model = Sequential()\n",
        "model.add(LSTM(50, input_shape=(train_X.shape[1], train_X.shape[2])))\n",
        "model.add(Dense(1))\n",
        "model.compile(loss='mae', optimizer='adam')\n",
        "# fit network\n",
        "history = model.fit(train_X, train_y, epochs=100, batch_size=72, validation_data=(test_X, test_y), verbose=2, shuffle=False)\n"
      ],
      "execution_count": 262,
      "outputs": [
        {
          "output_type": "stream",
          "text": [
            "Epoch 1/100\n",
            "122/122 - 2s - loss: 0.1023 - val_loss: 0.0503\n",
            "Epoch 2/100\n",
            "122/122 - 0s - loss: 0.0823 - val_loss: 0.0420\n",
            "Epoch 3/100\n",
            "122/122 - 0s - loss: 0.0677 - val_loss: 0.0437\n",
            "Epoch 4/100\n",
            "122/122 - 0s - loss: 0.0597 - val_loss: 0.0479\n",
            "Epoch 5/100\n",
            "122/122 - 0s - loss: 0.0577 - val_loss: 0.0483\n",
            "Epoch 6/100\n",
            "122/122 - 0s - loss: 0.0568 - val_loss: 0.0485\n",
            "Epoch 7/100\n",
            "122/122 - 0s - loss: 0.0563 - val_loss: 0.0441\n",
            "Epoch 8/100\n",
            "122/122 - 0s - loss: 0.0560 - val_loss: 0.0441\n",
            "Epoch 9/100\n",
            "122/122 - 0s - loss: 0.0554 - val_loss: 0.0435\n",
            "Epoch 10/100\n",
            "122/122 - 0s - loss: 0.0546 - val_loss: 0.0442\n",
            "Epoch 11/100\n",
            "122/122 - 0s - loss: 0.0547 - val_loss: 0.0438\n",
            "Epoch 12/100\n",
            "122/122 - 0s - loss: 0.0540 - val_loss: 0.0439\n",
            "Epoch 13/100\n",
            "122/122 - 0s - loss: 0.0536 - val_loss: 0.0433\n",
            "Epoch 14/100\n",
            "122/122 - 0s - loss: 0.0535 - val_loss: 0.0448\n",
            "Epoch 15/100\n",
            "122/122 - 0s - loss: 0.0539 - val_loss: 0.0426\n",
            "Epoch 16/100\n",
            "122/122 - 0s - loss: 0.0538 - val_loss: 0.0443\n",
            "Epoch 17/100\n",
            "122/122 - 0s - loss: 0.0534 - val_loss: 0.0416\n",
            "Epoch 18/100\n",
            "122/122 - 0s - loss: 0.0540 - val_loss: 0.0432\n",
            "Epoch 19/100\n",
            "122/122 - 0s - loss: 0.0539 - val_loss: 0.0414\n",
            "Epoch 20/100\n",
            "122/122 - 0s - loss: 0.0536 - val_loss: 0.0416\n",
            "Epoch 21/100\n",
            "122/122 - 1s - loss: 0.0540 - val_loss: 0.0388\n",
            "Epoch 22/100\n",
            "122/122 - 0s - loss: 0.0533 - val_loss: 0.0406\n",
            "Epoch 23/100\n",
            "122/122 - 0s - loss: 0.0529 - val_loss: 0.0408\n",
            "Epoch 24/100\n",
            "122/122 - 0s - loss: 0.0527 - val_loss: 0.0406\n",
            "Epoch 25/100\n",
            "122/122 - 0s - loss: 0.0530 - val_loss: 0.0405\n",
            "Epoch 26/100\n",
            "122/122 - 0s - loss: 0.0525 - val_loss: 0.0405\n",
            "Epoch 27/100\n",
            "122/122 - 0s - loss: 0.0527 - val_loss: 0.0406\n",
            "Epoch 28/100\n",
            "122/122 - 0s - loss: 0.0524 - val_loss: 0.0400\n",
            "Epoch 29/100\n",
            "122/122 - 0s - loss: 0.0525 - val_loss: 0.0407\n",
            "Epoch 30/100\n",
            "122/122 - 0s - loss: 0.0526 - val_loss: 0.0407\n",
            "Epoch 31/100\n",
            "122/122 - 0s - loss: 0.0523 - val_loss: 0.0408\n",
            "Epoch 32/100\n",
            "122/122 - 0s - loss: 0.0526 - val_loss: 0.0406\n",
            "Epoch 33/100\n",
            "122/122 - 0s - loss: 0.0525 - val_loss: 0.0405\n",
            "Epoch 34/100\n",
            "122/122 - 0s - loss: 0.0524 - val_loss: 0.0405\n",
            "Epoch 35/100\n",
            "122/122 - 0s - loss: 0.0527 - val_loss: 0.0403\n",
            "Epoch 36/100\n",
            "122/122 - 0s - loss: 0.0525 - val_loss: 0.0402\n",
            "Epoch 37/100\n",
            "122/122 - 0s - loss: 0.0525 - val_loss: 0.0401\n",
            "Epoch 38/100\n",
            "122/122 - 0s - loss: 0.0525 - val_loss: 0.0396\n",
            "Epoch 39/100\n",
            "122/122 - 0s - loss: 0.0527 - val_loss: 0.0399\n",
            "Epoch 40/100\n",
            "122/122 - 0s - loss: 0.0524 - val_loss: 0.0394\n",
            "Epoch 41/100\n",
            "122/122 - 0s - loss: 0.0523 - val_loss: 0.0395\n",
            "Epoch 42/100\n",
            "122/122 - 0s - loss: 0.0523 - val_loss: 0.0394\n",
            "Epoch 43/100\n",
            "122/122 - 0s - loss: 0.0521 - val_loss: 0.0392\n",
            "Epoch 44/100\n",
            "122/122 - 0s - loss: 0.0520 - val_loss: 0.0389\n",
            "Epoch 45/100\n",
            "122/122 - 0s - loss: 0.0520 - val_loss: 0.0391\n",
            "Epoch 46/100\n",
            "122/122 - 0s - loss: 0.0519 - val_loss: 0.0387\n",
            "Epoch 47/100\n",
            "122/122 - 0s - loss: 0.0520 - val_loss: 0.0388\n",
            "Epoch 48/100\n",
            "122/122 - 0s - loss: 0.0518 - val_loss: 0.0388\n",
            "Epoch 49/100\n",
            "122/122 - 0s - loss: 0.0518 - val_loss: 0.0393\n",
            "Epoch 50/100\n",
            "122/122 - 0s - loss: 0.0519 - val_loss: 0.0382\n",
            "Epoch 51/100\n",
            "122/122 - 0s - loss: 0.0520 - val_loss: 0.0384\n",
            "Epoch 52/100\n",
            "122/122 - 0s - loss: 0.0516 - val_loss: 0.0385\n",
            "Epoch 53/100\n",
            "122/122 - 0s - loss: 0.0516 - val_loss: 0.0384\n",
            "Epoch 54/100\n",
            "122/122 - 0s - loss: 0.0516 - val_loss: 0.0383\n",
            "Epoch 55/100\n",
            "122/122 - 0s - loss: 0.0516 - val_loss: 0.0385\n",
            "Epoch 56/100\n",
            "122/122 - 0s - loss: 0.0516 - val_loss: 0.0380\n",
            "Epoch 57/100\n",
            "122/122 - 0s - loss: 0.0517 - val_loss: 0.0386\n",
            "Epoch 58/100\n",
            "122/122 - 0s - loss: 0.0515 - val_loss: 0.0379\n",
            "Epoch 59/100\n",
            "122/122 - 0s - loss: 0.0515 - val_loss: 0.0378\n",
            "Epoch 60/100\n",
            "122/122 - 0s - loss: 0.0514 - val_loss: 0.0382\n",
            "Epoch 61/100\n",
            "122/122 - 0s - loss: 0.0512 - val_loss: 0.0377\n",
            "Epoch 62/100\n",
            "122/122 - 0s - loss: 0.0513 - val_loss: 0.0376\n",
            "Epoch 63/100\n",
            "122/122 - 0s - loss: 0.0513 - val_loss: 0.0375\n",
            "Epoch 64/100\n",
            "122/122 - 0s - loss: 0.0512 - val_loss: 0.0375\n",
            "Epoch 65/100\n",
            "122/122 - 0s - loss: 0.0511 - val_loss: 0.0373\n",
            "Epoch 66/100\n",
            "122/122 - 0s - loss: 0.0512 - val_loss: 0.0372\n",
            "Epoch 67/100\n",
            "122/122 - 0s - loss: 0.0511 - val_loss: 0.0371\n",
            "Epoch 68/100\n",
            "122/122 - 0s - loss: 0.0511 - val_loss: 0.0369\n",
            "Epoch 69/100\n",
            "122/122 - 0s - loss: 0.0511 - val_loss: 0.0369\n",
            "Epoch 70/100\n",
            "122/122 - 0s - loss: 0.0511 - val_loss: 0.0367\n",
            "Epoch 71/100\n",
            "122/122 - 0s - loss: 0.0510 - val_loss: 0.0367\n",
            "Epoch 72/100\n",
            "122/122 - 0s - loss: 0.0510 - val_loss: 0.0365\n",
            "Epoch 73/100\n",
            "122/122 - 0s - loss: 0.0510 - val_loss: 0.0365\n",
            "Epoch 74/100\n",
            "122/122 - 0s - loss: 0.0509 - val_loss: 0.0364\n",
            "Epoch 75/100\n",
            "122/122 - 0s - loss: 0.0511 - val_loss: 0.0364\n",
            "Epoch 76/100\n",
            "122/122 - 0s - loss: 0.0510 - val_loss: 0.0366\n",
            "Epoch 77/100\n",
            "122/122 - 0s - loss: 0.0508 - val_loss: 0.0366\n",
            "Epoch 78/100\n",
            "122/122 - 0s - loss: 0.0507 - val_loss: 0.0366\n",
            "Epoch 79/100\n",
            "122/122 - 0s - loss: 0.0507 - val_loss: 0.0366\n",
            "Epoch 80/100\n",
            "122/122 - 0s - loss: 0.0505 - val_loss: 0.0366\n",
            "Epoch 81/100\n",
            "122/122 - 0s - loss: 0.0508 - val_loss: 0.0367\n",
            "Epoch 82/100\n",
            "122/122 - 0s - loss: 0.0506 - val_loss: 0.0368\n",
            "Epoch 83/100\n",
            "122/122 - 0s - loss: 0.0507 - val_loss: 0.0366\n",
            "Epoch 84/100\n",
            "122/122 - 0s - loss: 0.0507 - val_loss: 0.0369\n",
            "Epoch 85/100\n",
            "122/122 - 0s - loss: 0.0507 - val_loss: 0.0368\n",
            "Epoch 86/100\n",
            "122/122 - 0s - loss: 0.0505 - val_loss: 0.0365\n",
            "Epoch 87/100\n",
            "122/122 - 0s - loss: 0.0504 - val_loss: 0.0365\n",
            "Epoch 88/100\n",
            "122/122 - 0s - loss: 0.0503 - val_loss: 0.0365\n",
            "Epoch 89/100\n",
            "122/122 - 0s - loss: 0.0505 - val_loss: 0.0365\n",
            "Epoch 90/100\n",
            "122/122 - 0s - loss: 0.0505 - val_loss: 0.0365\n",
            "Epoch 91/100\n",
            "122/122 - 0s - loss: 0.0503 - val_loss: 0.0365\n",
            "Epoch 92/100\n",
            "122/122 - 0s - loss: 0.0504 - val_loss: 0.0364\n",
            "Epoch 93/100\n",
            "122/122 - 0s - loss: 0.0503 - val_loss: 0.0364\n",
            "Epoch 94/100\n",
            "122/122 - 0s - loss: 0.0502 - val_loss: 0.0364\n",
            "Epoch 95/100\n",
            "122/122 - 0s - loss: 0.0503 - val_loss: 0.0364\n",
            "Epoch 96/100\n",
            "122/122 - 0s - loss: 0.0502 - val_loss: 0.0365\n",
            "Epoch 97/100\n",
            "122/122 - 0s - loss: 0.0501 - val_loss: 0.0365\n",
            "Epoch 98/100\n",
            "122/122 - 0s - loss: 0.0500 - val_loss: 0.0366\n",
            "Epoch 99/100\n",
            "122/122 - 0s - loss: 0.0499 - val_loss: 0.0366\n",
            "Epoch 100/100\n",
            "122/122 - 0s - loss: 0.0498 - val_loss: 0.0365\n"
          ],
          "name": "stdout"
        }
      ]
    },
    {
      "cell_type": "code",
      "metadata": {
        "colab": {
          "base_uri": "https://localhost:8080/",
          "height": 267
        },
        "id": "iQa7bow5Lrri",
        "outputId": "a82e502f-0435-4377-ad48-f8ea237a3d59"
      },
      "source": [
        "# plot history\n",
        "plt.plot(history.history['loss'], label='train')\n",
        "plt.plot(history.history['val_loss'], label='test')\n",
        "plt.legend()\n",
        "plt.show()"
      ],
      "execution_count": 263,
      "outputs": [
        {
          "output_type": "display_data",
          "data": {
            "image/png": "[encoded data removed]",
            "text/plain": [
              "<Figure size 432x288 with 1 Axes>"
            ]
          },
          "metadata": {
            "tags": [],
            "needs_background": "light"
          }
        }
      ]
    },
    {
      "cell_type": "markdown",
      "metadata": {
        "id": "04RIVfXjLrri"
      },
      "source": [
        "### Testing feature selected data"
      ]
    },
    {
      "cell_type": "code",
      "metadata": {
        "colab": {
          "base_uri": "https://localhost:8080/"
        },
        "id": "9tQyAUYGLrrj",
        "outputId": "76ae0963-843f-4501-ab57-f2ee9801f134"
      },
      "source": [
        "import math\n",
        "\n",
        "# make a prediction\n",
        "yhat = model.predict(test_X)\n",
        "test_X1 = test_X.reshape((test_X.shape[0], test_X.shape[2]))\n",
        "# invert scaling for forecast\n",
        "inv_yhat = concatenate((yhat, test_X1[:, 1:]), axis=1)\n",
        "print(inv_yhat.shape)\n",
        "#inv_yhat = scaler.inverse_transform(inv_yhat)\n",
        "inv_yhat = inv_yhat[:,0]\n",
        "# invert scaling for actual\n",
        "test_y = test_y.reshape((len(test_y), 1))\n",
        "inv_y = concatenate((test_y, test_X1[:, 1:]), axis=1)\n",
        "#inv_y = scaler.inverse_transform(inv_y)\n",
        "inv_y = inv_y[:,0]\n",
        "# calculate RMSE\n",
        "mse = mean_squared_error(inv_y, inv_yhat)\n",
        "print('Test MSE: %.3f' % mse)\n",
        "rmse = math.sqrt(mean_squared_error(inv_y, inv_yhat))\n",
        "print('Test RMSE: %.3f' % rmse)\n",
        "print('median_absolute_error', median_absolute_error(inv_y, inv_yhat))\n",
        "print('mean_absolute_error', mean_absolute_error(inv_y, inv_yhat))"
      ],
      "execution_count": 264,
      "outputs": [
        {
          "output_type": "stream",
          "text": [
            "(2191, 19)\n",
            "Test MSE: 0.006\n",
            "Test RMSE: 0.078\n",
            "median_absolute_error 0.010221876\n",
            "mean_absolute_error 0.036494914\n"
          ],
          "name": "stdout"
        }
      ]
    },
    {
      "cell_type": "markdown",
      "metadata": {
        "id": "w-j9VGdqkKun"
      },
      "source": [
        "## Conclusion for Combined Dataset after Gini\n",
        "\n",
        "| data | MSE  |RMSE  |Median AE  |MAE|\n",
        "|------|------|-----|------|-----|\n",
        "|   without Gini  | 0.006| 0.081|0.010|0.038|\n",
        "|   with Gini Coefficient(pos val)  | 0.006| 0.079|0.012|0.038|\n",
        "|   with Gini ExtraTree Classifier(top6)  | 0.006| 0.077|0.010|0.036|\n",
        "\n",
        "\n"
      ]
    },
    {
      "cell_type": "markdown",
      "metadata": {
        "id": "m_89usVBAnmh"
      },
      "source": [
        "# 2.Load Maryland inertia for CA"
      ]
    },
    {
      "cell_type": "code",
      "metadata": {
        "colab": {
          "base_uri": "https://localhost:8080/",
          "height": 316
        },
        "id": "DB3Uu_ByAphS",
        "outputId": "967054a8-2c14-4dd9-ed3c-68023f110c1e"
      },
      "source": [
        "CA_maryland_sd_inertia = pd.read_csv('/content/drive/Shared drives/CMPE 295- Master Project/projectdata-2021/CA_processedMarylandData_Jan11.csv',low_memory=False)\n",
        "CA_maryland_sd_inertia.head(5)"
      ],
      "execution_count": 265,
      "outputs": [
        {
          "output_type": "execute_result",
          "data": {
            "text/html": [
              "<div>\n",
              "<style scoped>\n",
              "    .dataframe tbody tr th:only-of-type {\n",
              "        vertical-align: middle;\n",
              "    }\n",
              "\n",
              "    .dataframe tbody tr th {\n",
              "        vertical-align: top;\n",
              "    }\n",
              "\n",
              "    .dataframe thead th {\n",
              "        text-align: right;\n",
              "    }\n",
              "</style>\n",
              "<table border=\"1\" class=\"dataframe\">\n",
              "  <thead>\n",
              "    <tr style=\"text-align: right;\">\n",
              "      <th></th>\n",
              "      <th>countyFIPS</th>\n",
              "      <th>County Name</th>\n",
              "      <th>State</th>\n",
              "      <th>population</th>\n",
              "      <th>CTFIPS</th>\n",
              "      <th>CTNAME</th>\n",
              "      <th>STFIPS</th>\n",
              "      <th>Social.distancing.index</th>\n",
              "      <th>X..staying.home</th>\n",
              "      <th>Trips.person</th>\n",
              "      <th>X..out.of.county.trips</th>\n",
              "      <th>X..out.of.state.trips</th>\n",
              "      <th>Miles.person</th>\n",
              "      <th>Work.trips.person</th>\n",
              "      <th>Non.work.trips.person</th>\n",
              "      <th>New.COVID.cases</th>\n",
              "      <th>Population</th>\n",
              "      <th>X..change.in.consumption</th>\n",
              "      <th>date</th>\n",
              "      <th>Transit.mode.share</th>\n",
              "      <th>X..people.older.than.60</th>\n",
              "      <th>Median.income</th>\n",
              "      <th>X..African.Americans</th>\n",
              "      <th>X..Hispanic.Americans</th>\n",
              "      <th>X..Male</th>\n",
              "      <th>Population.density</th>\n",
              "      <th>Employment.density</th>\n",
              "      <th>X..hot.spots.1000.people</th>\n",
              "      <th>Hospital.beds.1000.people</th>\n",
              "      <th>ICUs.1000.people</th>\n",
              "      <th>X..contact.tracing.workers.1000.people</th>\n",
              "      <th>New.cases.1000.people</th>\n",
              "      <th>Active.cases.1000.people</th>\n",
              "      <th>X.days..decreasing.COVID.cases</th>\n",
              "      <th>X..hospital.bed.utilization</th>\n",
              "      <th>Testing.capacity</th>\n",
              "      <th>Tests.done.1000.people</th>\n",
              "      <th>X..ICU.utilization</th>\n",
              "      <th>Ventilator.shortage</th>\n",
              "      <th>Imported.COVID.cases</th>\n",
              "      <th>COVID.exposure.1000.people</th>\n",
              "      <th>X.days..decreasing.ILI.cases</th>\n",
              "      <th>Unemployment.claims.1000.people</th>\n",
              "      <th>Unemployment.rate</th>\n",
              "      <th>X..working.from.home</th>\n",
              "      <th>Cumulative.inflation.rate</th>\n",
              "      <th>COVID.death.rate</th>\n",
              "    </tr>\n",
              "  </thead>\n",
              "  <tbody>\n",
              "    <tr>\n",
              "      <th>0</th>\n",
              "      <td>6001</td>\n",
              "      <td>Alameda County</td>\n",
              "      <td>CA</td>\n",
              "      <td>1671329</td>\n",
              "      <td>6001</td>\n",
              "      <td>Alameda County</td>\n",
              "      <td>6</td>\n",
              "      <td>50</td>\n",
              "      <td>32</td>\n",
              "      <td>2.4100</td>\n",
              "      <td>26.1000</td>\n",
              "      <td>0.4000</td>\n",
              "      <td>38.0000</td>\n",
              "      <td>0.2000</td>\n",
              "      <td>2.2100</td>\n",
              "      <td>0</td>\n",
              "      <td>1666753</td>\n",
              "      <td>-21.7000</td>\n",
              "      <td>2020-01-01</td>\n",
              "      <td>15.0400</td>\n",
              "      <td>19</td>\n",
              "      <td>92574</td>\n",
              "      <td>10.5000</td>\n",
              "      <td>22.5000</td>\n",
              "      <td>49.1100</td>\n",
              "      <td>2002</td>\n",
              "      <td>1155</td>\n",
              "      <td>131</td>\n",
              "      <td>2.0500</td>\n",
              "      <td>0.2200</td>\n",
              "      <td>nan</td>\n",
              "      <td>0.0000</td>\n",
              "      <td>0.0000</td>\n",
              "      <td>0</td>\n",
              "      <td>54.0000</td>\n",
              "      <td>0.0000</td>\n",
              "      <td>0.0000</td>\n",
              "      <td>0.0000</td>\n",
              "      <td>0</td>\n",
              "      <td>0</td>\n",
              "      <td>0.0000</td>\n",
              "      <td>0</td>\n",
              "      <td>0.9000</td>\n",
              "      <td>3.9000</td>\n",
              "      <td>5.7000</td>\n",
              "      <td>0.3000</td>\n",
              "      <td>0.0000</td>\n",
              "    </tr>\n",
              "    <tr>\n",
              "      <th>1</th>\n",
              "      <td>6001</td>\n",
              "      <td>Alameda County</td>\n",
              "      <td>CA</td>\n",
              "      <td>1671329</td>\n",
              "      <td>6001</td>\n",
              "      <td>Alameda County</td>\n",
              "      <td>6</td>\n",
              "      <td>24</td>\n",
              "      <td>22</td>\n",
              "      <td>3.1700</td>\n",
              "      <td>27.9000</td>\n",
              "      <td>0.4000</td>\n",
              "      <td>38.5000</td>\n",
              "      <td>0.5000</td>\n",
              "      <td>2.6600</td>\n",
              "      <td>0</td>\n",
              "      <td>1666753</td>\n",
              "      <td>-5.8000</td>\n",
              "      <td>2020-01-02</td>\n",
              "      <td>15.0400</td>\n",
              "      <td>19</td>\n",
              "      <td>92574</td>\n",
              "      <td>10.5000</td>\n",
              "      <td>22.5000</td>\n",
              "      <td>49.1100</td>\n",
              "      <td>2002</td>\n",
              "      <td>1155</td>\n",
              "      <td>131</td>\n",
              "      <td>2.0500</td>\n",
              "      <td>0.2200</td>\n",
              "      <td>nan</td>\n",
              "      <td>0.0000</td>\n",
              "      <td>0.0000</td>\n",
              "      <td>0</td>\n",
              "      <td>54.0000</td>\n",
              "      <td>0.0000</td>\n",
              "      <td>0.0000</td>\n",
              "      <td>0.0000</td>\n",
              "      <td>0</td>\n",
              "      <td>0</td>\n",
              "      <td>0.0000</td>\n",
              "      <td>0</td>\n",
              "      <td>0.9000</td>\n",
              "      <td>3.9000</td>\n",
              "      <td>5.7000</td>\n",
              "      <td>0.3000</td>\n",
              "      <td>0.0000</td>\n",
              "    </tr>\n",
              "    <tr>\n",
              "      <th>2</th>\n",
              "      <td>6001</td>\n",
              "      <td>Alameda County</td>\n",
              "      <td>CA</td>\n",
              "      <td>1671329</td>\n",
              "      <td>6001</td>\n",
              "      <td>Alameda County</td>\n",
              "      <td>6</td>\n",
              "      <td>21</td>\n",
              "      <td>21</td>\n",
              "      <td>3.2800</td>\n",
              "      <td>27.2000</td>\n",
              "      <td>0.4000</td>\n",
              "      <td>41.0000</td>\n",
              "      <td>0.5100</td>\n",
              "      <td>2.7800</td>\n",
              "      <td>0</td>\n",
              "      <td>1666753</td>\n",
              "      <td>-1.5000</td>\n",
              "      <td>2020-01-03</td>\n",
              "      <td>15.0400</td>\n",
              "      <td>19</td>\n",
              "      <td>92574</td>\n",
              "      <td>10.5000</td>\n",
              "      <td>22.5000</td>\n",
              "      <td>49.1100</td>\n",
              "      <td>2002</td>\n",
              "      <td>1155</td>\n",
              "      <td>131</td>\n",
              "      <td>2.0500</td>\n",
              "      <td>0.2200</td>\n",
              "      <td>nan</td>\n",
              "      <td>0.0000</td>\n",
              "      <td>0.0000</td>\n",
              "      <td>0</td>\n",
              "      <td>54.0000</td>\n",
              "      <td>0.0000</td>\n",
              "      <td>0.0000</td>\n",
              "      <td>0.0000</td>\n",
              "      <td>0</td>\n",
              "      <td>0</td>\n",
              "      <td>0.0000</td>\n",
              "      <td>0</td>\n",
              "      <td>0.9000</td>\n",
              "      <td>3.9000</td>\n",
              "      <td>5.7000</td>\n",
              "      <td>0.3000</td>\n",
              "      <td>0.0000</td>\n",
              "    </tr>\n",
              "    <tr>\n",
              "      <th>3</th>\n",
              "      <td>6001</td>\n",
              "      <td>Alameda County</td>\n",
              "      <td>CA</td>\n",
              "      <td>1671329</td>\n",
              "      <td>6001</td>\n",
              "      <td>Alameda County</td>\n",
              "      <td>6</td>\n",
              "      <td>34</td>\n",
              "      <td>25</td>\n",
              "      <td>3.0300</td>\n",
              "      <td>25.8000</td>\n",
              "      <td>0.3000</td>\n",
              "      <td>41.1000</td>\n",
              "      <td>0.2600</td>\n",
              "      <td>2.7600</td>\n",
              "      <td>0</td>\n",
              "      <td>1666753</td>\n",
              "      <td>-2.2000</td>\n",
              "      <td>2020-01-04</td>\n",
              "      <td>15.0400</td>\n",
              "      <td>19</td>\n",
              "      <td>92574</td>\n",
              "      <td>10.5000</td>\n",
              "      <td>22.5000</td>\n",
              "      <td>49.1100</td>\n",
              "      <td>2002</td>\n",
              "      <td>1155</td>\n",
              "      <td>131</td>\n",
              "      <td>2.0500</td>\n",
              "      <td>0.2200</td>\n",
              "      <td>nan</td>\n",
              "      <td>0.0000</td>\n",
              "      <td>0.0000</td>\n",
              "      <td>0</td>\n",
              "      <td>54.0000</td>\n",
              "      <td>0.0000</td>\n",
              "      <td>0.0000</td>\n",
              "      <td>0.0000</td>\n",
              "      <td>0</td>\n",
              "      <td>0</td>\n",
              "      <td>0.0000</td>\n",
              "      <td>0</td>\n",
              "      <td>0.9000</td>\n",
              "      <td>3.9000</td>\n",
              "      <td>5.7000</td>\n",
              "      <td>0.3000</td>\n",
              "      <td>0.0000</td>\n",
              "    </tr>\n",
              "    <tr>\n",
              "      <th>4</th>\n",
              "      <td>6001</td>\n",
              "      <td>Alameda County</td>\n",
              "      <td>CA</td>\n",
              "      <td>1671329</td>\n",
              "      <td>6001</td>\n",
              "      <td>Alameda County</td>\n",
              "      <td>6</td>\n",
              "      <td>44</td>\n",
              "      <td>29</td>\n",
              "      <td>2.7200</td>\n",
              "      <td>24.5000</td>\n",
              "      <td>0.4000</td>\n",
              "      <td>35.8000</td>\n",
              "      <td>0.2400</td>\n",
              "      <td>2.4800</td>\n",
              "      <td>0</td>\n",
              "      <td>1666753</td>\n",
              "      <td>-12.1000</td>\n",
              "      <td>2020-01-05</td>\n",
              "      <td>15.0400</td>\n",
              "      <td>19</td>\n",
              "      <td>92574</td>\n",
              "      <td>10.5000</td>\n",
              "      <td>22.5000</td>\n",
              "      <td>49.1100</td>\n",
              "      <td>2002</td>\n",
              "      <td>1155</td>\n",
              "      <td>131</td>\n",
              "      <td>2.0500</td>\n",
              "      <td>0.2200</td>\n",
              "      <td>nan</td>\n",
              "      <td>0.0000</td>\n",
              "      <td>0.0000</td>\n",
              "      <td>0</td>\n",
              "      <td>54.0000</td>\n",
              "      <td>0.0000</td>\n",
              "      <td>0.0000</td>\n",
              "      <td>0.0000</td>\n",
              "      <td>0</td>\n",
              "      <td>0</td>\n",
              "      <td>0.0000</td>\n",
              "      <td>0</td>\n",
              "      <td>1.3000</td>\n",
              "      <td>3.9000</td>\n",
              "      <td>5.7000</td>\n",
              "      <td>0.3000</td>\n",
              "      <td>0.0000</td>\n",
              "    </tr>\n",
              "  </tbody>\n",
              "</table>\n",
              "</div>"
            ],
            "text/plain": [
              "   countyFIPS     County Name  ... Cumulative.inflation.rate  COVID.death.rate\n",
              "0        6001  Alameda County  ...                    0.3000            0.0000\n",
              "1        6001  Alameda County  ...                    0.3000            0.0000\n",
              "2        6001  Alameda County  ...                    0.3000            0.0000\n",
              "3        6001  Alameda County  ...                    0.3000            0.0000\n",
              "4        6001  Alameda County  ...                    0.3000            0.0000\n",
              "\n",
              "[5 rows x 47 columns]"
            ]
          },
          "metadata": {
            "tags": []
          },
          "execution_count": 265
        }
      ]
    },
    {
      "cell_type": "code",
      "metadata": {
        "colab": {
          "base_uri": "https://localhost:8080/"
        },
        "id": "25-celJYBZ--",
        "outputId": "52416321-e7c3-4914-9230-b90f6fd24c29"
      },
      "source": [
        "print(len(CA_maryland_sd_inertia.columns))\n",
        "CA_maryland_sd_inertia.dtypes\n"
      ],
      "execution_count": 266,
      "outputs": [
        {
          "output_type": "stream",
          "text": [
            "47\n"
          ],
          "name": "stdout"
        },
        {
          "output_type": "execute_result",
          "data": {
            "text/plain": [
              "countyFIPS                                  int64\n",
              "County Name                                object\n",
              "State                                      object\n",
              "population                                  int64\n",
              "CTFIPS                                      int64\n",
              "CTNAME                                     object\n",
              "STFIPS                                      int64\n",
              "Social.distancing.index                     int64\n",
              "X..staying.home                             int64\n",
              "Trips.person                              float64\n",
              "X..out.of.county.trips                    float64\n",
              "X..out.of.state.trips                     float64\n",
              "Miles.person                              float64\n",
              "Work.trips.person                         float64\n",
              "Non.work.trips.person                     float64\n",
              "New.COVID.cases                             int64\n",
              "Population                                  int64\n",
              "X..change.in.consumption                  float64\n",
              "date                                       object\n",
              "Transit.mode.share                        float64\n",
              "X..people.older.than.60                     int64\n",
              "Median.income                               int64\n",
              "X..African.Americans                      float64\n",
              "X..Hispanic.Americans                     float64\n",
              "X..Male                                   float64\n",
              "Population.density                          int64\n",
              "Employment.density                          int64\n",
              "X..hot.spots.1000.people                    int64\n",
              "Hospital.beds.1000.people                 float64\n",
              "ICUs.1000.people                          float64\n",
              "X..contact.tracing.workers.1000.people    float64\n",
              "New.cases.1000.people                     float64\n",
              "Active.cases.1000.people                  float64\n",
              "X.days..decreasing.COVID.cases              int64\n",
              "X..hospital.bed.utilization               float64\n",
              "Testing.capacity                          float64\n",
              "Tests.done.1000.people                    float64\n",
              "X..ICU.utilization                        float64\n",
              "Ventilator.shortage                         int64\n",
              "Imported.COVID.cases                        int64\n",
              "COVID.exposure.1000.people                float64\n",
              "X.days..decreasing.ILI.cases                int64\n",
              "Unemployment.claims.1000.people           float64\n",
              "Unemployment.rate                         float64\n",
              "X..working.from.home                      float64\n",
              "Cumulative.inflation.rate                 float64\n",
              "COVID.death.rate                          float64\n",
              "dtype: object"
            ]
          },
          "metadata": {
            "tags": []
          },
          "execution_count": 266
        }
      ]
    },
    {
      "cell_type": "markdown",
      "metadata": {
        "id": "_eHwyWN_NtT_"
      },
      "source": [
        "## Features"
      ]
    },
    {
      "cell_type": "code",
      "metadata": {
        "id": "TIOIbfq1BGLN"
      },
      "source": [
        "inertia_X_cols_all = ['Social.distancing.index', 'X..staying.home', 'Trips.person',\n",
        "                  'X..out.of.county.trips', 'X..out.of.state.trips', 'Miles.person',\n",
        "                  'Work.trips.person', 'Non.work.trips.person','X..change.in.consumption', 'Transit.mode.share',\n",
        "       'X..people.older.than.60', 'Median.income', 'X..African.Americans','X..Hispanic.Americans',\n",
        "        'X..Male', 'Population.density',\n",
        "       'Employment.density', \n",
        "       'Hospital.beds.1000.people', 'ICUs.1000.people',\n",
        "       'Active.cases.1000.people', 'X.days..decreasing.COVID.cases',\n",
        "       'X..hospital.bed.utilization', 'Testing.capacity',\n",
        "       'Tests.done.1000.people', 'X..ICU.utilization', 'Ventilator.shortage',\n",
        "       'Imported.COVID.cases', 'COVID.exposure.1000.people',\n",
        "       'X.days..decreasing.ILI.cases', 'Unemployment.claims.1000.people',\n",
        "       'Unemployment.rate', 'X..working.from.home','population',\t'CTFIPS',\n",
        "       'Cumulative.inflation.rate', 'date','New.COVID.cases']\n",
        "\n",
        "\n",
        "\n",
        "# from gini coeffs; only taking positive value features\n",
        "#population?\n",
        "inertia_X_cols_featured_gini_coef = ['Social.distancing.index', 'X..staying.home', 'Trips.person',\n",
        "                  'X..out.of.county.trips', 'X..out.of.state.trips', 'Miles.person',\n",
        "                  'Work.trips.person', 'Non.work.trips.person','Transit.mode.share',\n",
        "                  'X..people.older.than.60', 'Median.income', 'X..African.Americans','X..Hispanic.Americans',\n",
        "                    'X..Male', 'Population.density',\n",
        "                  'Employment.density', 'Hospital.beds.1000.people', \n",
        "                  'Active.cases.1000.people', 'X.days..decreasing.COVID.cases',\n",
        "                  'X..hospital.bed.utilization', 'Testing.capacity',\n",
        "                  'Tests.done.1000.people', 'X..ICU.utilization', 'Ventilator.shortage',\n",
        "                  'Imported.COVID.cases', 'COVID.exposure.1000.people',\n",
        "                  'X.days..decreasing.ILI.cases', 'Unemployment.claims.1000.people',\n",
        "                  'Unemployment.rate', 'X..working.from.home','population',\t'CTFIPS',\n",
        "                  'Cumulative.inflation.rate', 'date','New.COVID.cases']\n",
        "\n",
        "# from gini extra tree classifier; taking top 20/\n",
        "#population?\n",
        "inertia_X_cols_featured_gini_rfe = ['Tests.done.1000.people', 'X..working.from.home','X..Hispanic.Americans',\n",
        "                                    'Cumulative.inflation.rate','X.days..decreasing.ILI.cases',\n",
        "                                    'X..people.older.than.60','COVID.exposure.1000.people','Median.income',\n",
        "                                    'Unemployment.rate',\n",
        "                                    'X.days..decreasing.COVID.cases','Population',\n",
        "                                    'X..hospital.bed.utilization','Active.cases.1000.people',\n",
        "                                    'Population.density','Ventilator.shortage','Imported.COVID.cases',\n",
        "                                    'X..ICU.utilization','X..hot.spots.1000.people','COVID.death.rate',\n",
        "                                    'Transit.mode.share','Testing.capacity','population',\t'CTFIPS',\n",
        "                                    'date','New.COVID.cases']\n"
      ],
      "execution_count": 267,
      "outputs": []
    },
    {
      "cell_type": "code",
      "metadata": {
        "colab": {
          "base_uri": "https://localhost:8080/",
          "height": 316
        },
        "id": "j-RRfEasA_2F",
        "outputId": "e141cf5f-f3c8-45a6-a507-bd3bee7603a9"
      },
      "source": [
        "#for LA only code: old\n",
        "\n",
        "LA_inertia_data_all = CA_maryland_sd_inertia[CA_maryland_sd_inertia['CTNAME'] == 'Los Angeles County'][inertia_X_cols_all]\n",
        "LA_inertia_data_featured_gini_coef = CA_maryland_sd_inertia[CA_maryland_sd_inertia['CTNAME'] == 'Los Angeles County'][inertia_X_cols_featured_gini_coef]\n",
        "LA_inertia_data_featured_gini_rfe = CA_maryland_sd_inertia[CA_maryland_sd_inertia['CTNAME'] == 'Los Angeles County'][inertia_X_cols_featured_gini_rfe]\n",
        "\n",
        "print(len(LA_inertia_data_all.columns))\n",
        "LA_inertia_data_all.head()"
      ],
      "execution_count": 268,
      "outputs": [
        {
          "output_type": "stream",
          "text": [
            "37\n"
          ],
          "name": "stdout"
        },
        {
          "output_type": "execute_result",
          "data": {
            "text/html": [
              "<div>\n",
              "<style scoped>\n",
              "    .dataframe tbody tr th:only-of-type {\n",
              "        vertical-align: middle;\n",
              "    }\n",
              "\n",
              "    .dataframe tbody tr th {\n",
              "        vertical-align: top;\n",
              "    }\n",
              "\n",
              "    .dataframe thead th {\n",
              "        text-align: right;\n",
              "    }\n",
              "</style>\n",
              "<table border=\"1\" class=\"dataframe\">\n",
              "  <thead>\n",
              "    <tr style=\"text-align: right;\">\n",
              "      <th></th>\n",
              "      <th>Social.distancing.index</th>\n",
              "      <th>X..staying.home</th>\n",
              "      <th>Trips.person</th>\n",
              "      <th>X..out.of.county.trips</th>\n",
              "      <th>X..out.of.state.trips</th>\n",
              "      <th>Miles.person</th>\n",
              "      <th>Work.trips.person</th>\n",
              "      <th>Non.work.trips.person</th>\n",
              "      <th>X..change.in.consumption</th>\n",
              "      <th>Transit.mode.share</th>\n",
              "      <th>X..people.older.than.60</th>\n",
              "      <th>Median.income</th>\n",
              "      <th>X..African.Americans</th>\n",
              "      <th>X..Hispanic.Americans</th>\n",
              "      <th>X..Male</th>\n",
              "      <th>Population.density</th>\n",
              "      <th>Employment.density</th>\n",
              "      <th>Hospital.beds.1000.people</th>\n",
              "      <th>ICUs.1000.people</th>\n",
              "      <th>Active.cases.1000.people</th>\n",
              "      <th>X.days..decreasing.COVID.cases</th>\n",
              "      <th>X..hospital.bed.utilization</th>\n",
              "      <th>Testing.capacity</th>\n",
              "      <th>Tests.done.1000.people</th>\n",
              "      <th>X..ICU.utilization</th>\n",
              "      <th>Ventilator.shortage</th>\n",
              "      <th>Imported.COVID.cases</th>\n",
              "      <th>COVID.exposure.1000.people</th>\n",
              "      <th>X.days..decreasing.ILI.cases</th>\n",
              "      <th>Unemployment.claims.1000.people</th>\n",
              "      <th>Unemployment.rate</th>\n",
              "      <th>X..working.from.home</th>\n",
              "      <th>population</th>\n",
              "      <th>CTFIPS</th>\n",
              "      <th>Cumulative.inflation.rate</th>\n",
              "      <th>date</th>\n",
              "      <th>New.COVID.cases</th>\n",
              "    </tr>\n",
              "  </thead>\n",
              "  <tbody>\n",
              "    <tr>\n",
              "      <th>6534</th>\n",
              "      <td>49</td>\n",
              "      <td>32</td>\n",
              "      <td>2.4200</td>\n",
              "      <td>12.1000</td>\n",
              "      <td>0.6000</td>\n",
              "      <td>31.4000</td>\n",
              "      <td>0.2100</td>\n",
              "      <td>2.2100</td>\n",
              "      <td>-20.1000</td>\n",
              "      <td>6.0400</td>\n",
              "      <td>18</td>\n",
              "      <td>64251</td>\n",
              "      <td>7.9000</td>\n",
              "      <td>48.5000</td>\n",
              "      <td>49.2800</td>\n",
              "      <td>2125</td>\n",
              "      <td>972</td>\n",
              "      <td>2.0500</td>\n",
              "      <td>0.2200</td>\n",
              "      <td>0.0000</td>\n",
              "      <td>0</td>\n",
              "      <td>54.0000</td>\n",
              "      <td>0.0000</td>\n",
              "      <td>0.0000</td>\n",
              "      <td>0.0000</td>\n",
              "      <td>0</td>\n",
              "      <td>0</td>\n",
              "      <td>0.0000</td>\n",
              "      <td>0</td>\n",
              "      <td>0.9000</td>\n",
              "      <td>3.9000</td>\n",
              "      <td>5.7000</td>\n",
              "      <td>10039107</td>\n",
              "      <td>6037</td>\n",
              "      <td>0.3000</td>\n",
              "      <td>2020-01-01</td>\n",
              "      <td>0</td>\n",
              "    </tr>\n",
              "    <tr>\n",
              "      <th>6535</th>\n",
              "      <td>22</td>\n",
              "      <td>21</td>\n",
              "      <td>3.1900</td>\n",
              "      <td>11.3000</td>\n",
              "      <td>0.5000</td>\n",
              "      <td>36.6000</td>\n",
              "      <td>0.5600</td>\n",
              "      <td>2.6200</td>\n",
              "      <td>-5.3000</td>\n",
              "      <td>6.0400</td>\n",
              "      <td>18</td>\n",
              "      <td>64251</td>\n",
              "      <td>7.9000</td>\n",
              "      <td>48.5000</td>\n",
              "      <td>49.2800</td>\n",
              "      <td>2125</td>\n",
              "      <td>972</td>\n",
              "      <td>2.0500</td>\n",
              "      <td>0.2200</td>\n",
              "      <td>0.0000</td>\n",
              "      <td>0</td>\n",
              "      <td>54.0000</td>\n",
              "      <td>0.0000</td>\n",
              "      <td>0.0000</td>\n",
              "      <td>0.0000</td>\n",
              "      <td>0</td>\n",
              "      <td>0</td>\n",
              "      <td>0.0000</td>\n",
              "      <td>0</td>\n",
              "      <td>0.9000</td>\n",
              "      <td>3.9000</td>\n",
              "      <td>5.7000</td>\n",
              "      <td>10039107</td>\n",
              "      <td>6037</td>\n",
              "      <td>0.3000</td>\n",
              "      <td>2020-01-02</td>\n",
              "      <td>0</td>\n",
              "    </tr>\n",
              "    <tr>\n",
              "      <th>6536</th>\n",
              "      <td>18</td>\n",
              "      <td>20</td>\n",
              "      <td>3.3200</td>\n",
              "      <td>11.2000</td>\n",
              "      <td>0.4000</td>\n",
              "      <td>37.9000</td>\n",
              "      <td>0.5600</td>\n",
              "      <td>2.7700</td>\n",
              "      <td>0.2000</td>\n",
              "      <td>6.0400</td>\n",
              "      <td>18</td>\n",
              "      <td>64251</td>\n",
              "      <td>7.9000</td>\n",
              "      <td>48.5000</td>\n",
              "      <td>49.2800</td>\n",
              "      <td>2125</td>\n",
              "      <td>972</td>\n",
              "      <td>2.0500</td>\n",
              "      <td>0.2200</td>\n",
              "      <td>0.0000</td>\n",
              "      <td>0</td>\n",
              "      <td>54.0000</td>\n",
              "      <td>0.0000</td>\n",
              "      <td>0.0000</td>\n",
              "      <td>0.0000</td>\n",
              "      <td>0</td>\n",
              "      <td>0</td>\n",
              "      <td>0.0000</td>\n",
              "      <td>0</td>\n",
              "      <td>0.9000</td>\n",
              "      <td>3.9000</td>\n",
              "      <td>5.7000</td>\n",
              "      <td>10039107</td>\n",
              "      <td>6037</td>\n",
              "      <td>0.3000</td>\n",
              "      <td>2020-01-03</td>\n",
              "      <td>0</td>\n",
              "    </tr>\n",
              "    <tr>\n",
              "      <th>6537</th>\n",
              "      <td>29</td>\n",
              "      <td>24</td>\n",
              "      <td>3.1000</td>\n",
              "      <td>11.6000</td>\n",
              "      <td>0.5000</td>\n",
              "      <td>36.0000</td>\n",
              "      <td>0.3000</td>\n",
              "      <td>2.7900</td>\n",
              "      <td>0.9000</td>\n",
              "      <td>6.0400</td>\n",
              "      <td>18</td>\n",
              "      <td>64251</td>\n",
              "      <td>7.9000</td>\n",
              "      <td>48.5000</td>\n",
              "      <td>49.2800</td>\n",
              "      <td>2125</td>\n",
              "      <td>972</td>\n",
              "      <td>2.0500</td>\n",
              "      <td>0.2200</td>\n",
              "      <td>0.0000</td>\n",
              "      <td>0</td>\n",
              "      <td>54.0000</td>\n",
              "      <td>0.0000</td>\n",
              "      <td>0.0000</td>\n",
              "      <td>0.0000</td>\n",
              "      <td>0</td>\n",
              "      <td>0</td>\n",
              "      <td>0.0000</td>\n",
              "      <td>0</td>\n",
              "      <td>0.9000</td>\n",
              "      <td>3.9000</td>\n",
              "      <td>5.7000</td>\n",
              "      <td>10039107</td>\n",
              "      <td>6037</td>\n",
              "      <td>0.3000</td>\n",
              "      <td>2020-01-04</td>\n",
              "      <td>0</td>\n",
              "    </tr>\n",
              "    <tr>\n",
              "      <th>6538</th>\n",
              "      <td>40</td>\n",
              "      <td>28</td>\n",
              "      <td>2.7500</td>\n",
              "      <td>11.3000</td>\n",
              "      <td>0.5000</td>\n",
              "      <td>33.1000</td>\n",
              "      <td>0.2500</td>\n",
              "      <td>2.5000</td>\n",
              "      <td>-9.6000</td>\n",
              "      <td>6.0400</td>\n",
              "      <td>18</td>\n",
              "      <td>64251</td>\n",
              "      <td>7.9000</td>\n",
              "      <td>48.5000</td>\n",
              "      <td>49.2800</td>\n",
              "      <td>2125</td>\n",
              "      <td>972</td>\n",
              "      <td>2.0500</td>\n",
              "      <td>0.2200</td>\n",
              "      <td>0.0000</td>\n",
              "      <td>0</td>\n",
              "      <td>54.0000</td>\n",
              "      <td>0.0000</td>\n",
              "      <td>0.0000</td>\n",
              "      <td>0.0000</td>\n",
              "      <td>0</td>\n",
              "      <td>0</td>\n",
              "      <td>0.0000</td>\n",
              "      <td>0</td>\n",
              "      <td>1.3000</td>\n",
              "      <td>3.9000</td>\n",
              "      <td>5.7000</td>\n",
              "      <td>10039107</td>\n",
              "      <td>6037</td>\n",
              "      <td>0.3000</td>\n",
              "      <td>2020-01-05</td>\n",
              "      <td>0</td>\n",
              "    </tr>\n",
              "  </tbody>\n",
              "</table>\n",
              "</div>"
            ],
            "text/plain": [
              "      Social.distancing.index  X..staying.home  ...        date  New.COVID.cases\n",
              "6534                       49               32  ...  2020-01-01                0\n",
              "6535                       22               21  ...  2020-01-02                0\n",
              "6536                       18               20  ...  2020-01-03                0\n",
              "6537                       29               24  ...  2020-01-04                0\n",
              "6538                       40               28  ...  2020-01-05                0\n",
              "\n",
              "[5 rows x 37 columns]"
            ]
          },
          "metadata": {
            "tags": []
          },
          "execution_count": 268
        }
      ]
    },
    {
      "cell_type": "code",
      "metadata": {
        "id": "kQAbifUzo7eQ",
        "colab": {
          "base_uri": "https://localhost:8080/",
          "height": 316
        },
        "outputId": "091908f2-7662-41cf-d5c6-b8288af355b5"
      },
      "source": [
        "#taking all the counties\n",
        "\n",
        "LA_inertia_data_all = CA_maryland_sd_inertia[inertia_X_cols_all]\n",
        "LA_inertia_data_featured_gini_coef = CA_maryland_sd_inertia[inertia_X_cols_featured_gini_coef]\n",
        "LA_inertia_data_featured_gini_rfe = CA_maryland_sd_inertia[inertia_X_cols_featured_gini_rfe]\n",
        "\n",
        "print(len(LA_inertia_data_all.columns))\n",
        "LA_inertia_data_all.head()"
      ],
      "execution_count": 269,
      "outputs": [
        {
          "output_type": "stream",
          "text": [
            "37\n"
          ],
          "name": "stdout"
        },
        {
          "output_type": "execute_result",
          "data": {
            "text/html": [
              "<div>\n",
              "<style scoped>\n",
              "    .dataframe tbody tr th:only-of-type {\n",
              "        vertical-align: middle;\n",
              "    }\n",
              "\n",
              "    .dataframe tbody tr th {\n",
              "        vertical-align: top;\n",
              "    }\n",
              "\n",
              "    .dataframe thead th {\n",
              "        text-align: right;\n",
              "    }\n",
              "</style>\n",
              "<table border=\"1\" class=\"dataframe\">\n",
              "  <thead>\n",
              "    <tr style=\"text-align: right;\">\n",
              "      <th></th>\n",
              "      <th>Social.distancing.index</th>\n",
              "      <th>X..staying.home</th>\n",
              "      <th>Trips.person</th>\n",
              "      <th>X..out.of.county.trips</th>\n",
              "      <th>X..out.of.state.trips</th>\n",
              "      <th>Miles.person</th>\n",
              "      <th>Work.trips.person</th>\n",
              "      <th>Non.work.trips.person</th>\n",
              "      <th>X..change.in.consumption</th>\n",
              "      <th>Transit.mode.share</th>\n",
              "      <th>X..people.older.than.60</th>\n",
              "      <th>Median.income</th>\n",
              "      <th>X..African.Americans</th>\n",
              "      <th>X..Hispanic.Americans</th>\n",
              "      <th>X..Male</th>\n",
              "      <th>Population.density</th>\n",
              "      <th>Employment.density</th>\n",
              "      <th>Hospital.beds.1000.people</th>\n",
              "      <th>ICUs.1000.people</th>\n",
              "      <th>Active.cases.1000.people</th>\n",
              "      <th>X.days..decreasing.COVID.cases</th>\n",
              "      <th>X..hospital.bed.utilization</th>\n",
              "      <th>Testing.capacity</th>\n",
              "      <th>Tests.done.1000.people</th>\n",
              "      <th>X..ICU.utilization</th>\n",
              "      <th>Ventilator.shortage</th>\n",
              "      <th>Imported.COVID.cases</th>\n",
              "      <th>COVID.exposure.1000.people</th>\n",
              "      <th>X.days..decreasing.ILI.cases</th>\n",
              "      <th>Unemployment.claims.1000.people</th>\n",
              "      <th>Unemployment.rate</th>\n",
              "      <th>X..working.from.home</th>\n",
              "      <th>population</th>\n",
              "      <th>CTFIPS</th>\n",
              "      <th>Cumulative.inflation.rate</th>\n",
              "      <th>date</th>\n",
              "      <th>New.COVID.cases</th>\n",
              "    </tr>\n",
              "  </thead>\n",
              "  <tbody>\n",
              "    <tr>\n",
              "      <th>0</th>\n",
              "      <td>50</td>\n",
              "      <td>32</td>\n",
              "      <td>2.4100</td>\n",
              "      <td>26.1000</td>\n",
              "      <td>0.4000</td>\n",
              "      <td>38.0000</td>\n",
              "      <td>0.2000</td>\n",
              "      <td>2.2100</td>\n",
              "      <td>-21.7000</td>\n",
              "      <td>15.0400</td>\n",
              "      <td>19</td>\n",
              "      <td>92574</td>\n",
              "      <td>10.5000</td>\n",
              "      <td>22.5000</td>\n",
              "      <td>49.1100</td>\n",
              "      <td>2002</td>\n",
              "      <td>1155</td>\n",
              "      <td>2.0500</td>\n",
              "      <td>0.2200</td>\n",
              "      <td>0.0000</td>\n",
              "      <td>0</td>\n",
              "      <td>54.0000</td>\n",
              "      <td>0.0000</td>\n",
              "      <td>0.0000</td>\n",
              "      <td>0.0000</td>\n",
              "      <td>0</td>\n",
              "      <td>0</td>\n",
              "      <td>0.0000</td>\n",
              "      <td>0</td>\n",
              "      <td>0.9000</td>\n",
              "      <td>3.9000</td>\n",
              "      <td>5.7000</td>\n",
              "      <td>1671329</td>\n",
              "      <td>6001</td>\n",
              "      <td>0.3000</td>\n",
              "      <td>2020-01-01</td>\n",
              "      <td>0</td>\n",
              "    </tr>\n",
              "    <tr>\n",
              "      <th>1</th>\n",
              "      <td>24</td>\n",
              "      <td>22</td>\n",
              "      <td>3.1700</td>\n",
              "      <td>27.9000</td>\n",
              "      <td>0.4000</td>\n",
              "      <td>38.5000</td>\n",
              "      <td>0.5000</td>\n",
              "      <td>2.6600</td>\n",
              "      <td>-5.8000</td>\n",
              "      <td>15.0400</td>\n",
              "      <td>19</td>\n",
              "      <td>92574</td>\n",
              "      <td>10.5000</td>\n",
              "      <td>22.5000</td>\n",
              "      <td>49.1100</td>\n",
              "      <td>2002</td>\n",
              "      <td>1155</td>\n",
              "      <td>2.0500</td>\n",
              "      <td>0.2200</td>\n",
              "      <td>0.0000</td>\n",
              "      <td>0</td>\n",
              "      <td>54.0000</td>\n",
              "      <td>0.0000</td>\n",
              "      <td>0.0000</td>\n",
              "      <td>0.0000</td>\n",
              "      <td>0</td>\n",
              "      <td>0</td>\n",
              "      <td>0.0000</td>\n",
              "      <td>0</td>\n",
              "      <td>0.9000</td>\n",
              "      <td>3.9000</td>\n",
              "      <td>5.7000</td>\n",
              "      <td>1671329</td>\n",
              "      <td>6001</td>\n",
              "      <td>0.3000</td>\n",
              "      <td>2020-01-02</td>\n",
              "      <td>0</td>\n",
              "    </tr>\n",
              "    <tr>\n",
              "      <th>2</th>\n",
              "      <td>21</td>\n",
              "      <td>21</td>\n",
              "      <td>3.2800</td>\n",
              "      <td>27.2000</td>\n",
              "      <td>0.4000</td>\n",
              "      <td>41.0000</td>\n",
              "      <td>0.5100</td>\n",
              "      <td>2.7800</td>\n",
              "      <td>-1.5000</td>\n",
              "      <td>15.0400</td>\n",
              "      <td>19</td>\n",
              "      <td>92574</td>\n",
              "      <td>10.5000</td>\n",
              "      <td>22.5000</td>\n",
              "      <td>49.1100</td>\n",
              "      <td>2002</td>\n",
              "      <td>1155</td>\n",
              "      <td>2.0500</td>\n",
              "      <td>0.2200</td>\n",
              "      <td>0.0000</td>\n",
              "      <td>0</td>\n",
              "      <td>54.0000</td>\n",
              "      <td>0.0000</td>\n",
              "      <td>0.0000</td>\n",
              "      <td>0.0000</td>\n",
              "      <td>0</td>\n",
              "      <td>0</td>\n",
              "      <td>0.0000</td>\n",
              "      <td>0</td>\n",
              "      <td>0.9000</td>\n",
              "      <td>3.9000</td>\n",
              "      <td>5.7000</td>\n",
              "      <td>1671329</td>\n",
              "      <td>6001</td>\n",
              "      <td>0.3000</td>\n",
              "      <td>2020-01-03</td>\n",
              "      <td>0</td>\n",
              "    </tr>\n",
              "    <tr>\n",
              "      <th>3</th>\n",
              "      <td>34</td>\n",
              "      <td>25</td>\n",
              "      <td>3.0300</td>\n",
              "      <td>25.8000</td>\n",
              "      <td>0.3000</td>\n",
              "      <td>41.1000</td>\n",
              "      <td>0.2600</td>\n",
              "      <td>2.7600</td>\n",
              "      <td>-2.2000</td>\n",
              "      <td>15.0400</td>\n",
              "      <td>19</td>\n",
              "      <td>92574</td>\n",
              "      <td>10.5000</td>\n",
              "      <td>22.5000</td>\n",
              "      <td>49.1100</td>\n",
              "      <td>2002</td>\n",
              "      <td>1155</td>\n",
              "      <td>2.0500</td>\n",
              "      <td>0.2200</td>\n",
              "      <td>0.0000</td>\n",
              "      <td>0</td>\n",
              "      <td>54.0000</td>\n",
              "      <td>0.0000</td>\n",
              "      <td>0.0000</td>\n",
              "      <td>0.0000</td>\n",
              "      <td>0</td>\n",
              "      <td>0</td>\n",
              "      <td>0.0000</td>\n",
              "      <td>0</td>\n",
              "      <td>0.9000</td>\n",
              "      <td>3.9000</td>\n",
              "      <td>5.7000</td>\n",
              "      <td>1671329</td>\n",
              "      <td>6001</td>\n",
              "      <td>0.3000</td>\n",
              "      <td>2020-01-04</td>\n",
              "      <td>0</td>\n",
              "    </tr>\n",
              "    <tr>\n",
              "      <th>4</th>\n",
              "      <td>44</td>\n",
              "      <td>29</td>\n",
              "      <td>2.7200</td>\n",
              "      <td>24.5000</td>\n",
              "      <td>0.4000</td>\n",
              "      <td>35.8000</td>\n",
              "      <td>0.2400</td>\n",
              "      <td>2.4800</td>\n",
              "      <td>-12.1000</td>\n",
              "      <td>15.0400</td>\n",
              "      <td>19</td>\n",
              "      <td>92574</td>\n",
              "      <td>10.5000</td>\n",
              "      <td>22.5000</td>\n",
              "      <td>49.1100</td>\n",
              "      <td>2002</td>\n",
              "      <td>1155</td>\n",
              "      <td>2.0500</td>\n",
              "      <td>0.2200</td>\n",
              "      <td>0.0000</td>\n",
              "      <td>0</td>\n",
              "      <td>54.0000</td>\n",
              "      <td>0.0000</td>\n",
              "      <td>0.0000</td>\n",
              "      <td>0.0000</td>\n",
              "      <td>0</td>\n",
              "      <td>0</td>\n",
              "      <td>0.0000</td>\n",
              "      <td>0</td>\n",
              "      <td>1.3000</td>\n",
              "      <td>3.9000</td>\n",
              "      <td>5.7000</td>\n",
              "      <td>1671329</td>\n",
              "      <td>6001</td>\n",
              "      <td>0.3000</td>\n",
              "      <td>2020-01-05</td>\n",
              "      <td>0</td>\n",
              "    </tr>\n",
              "  </tbody>\n",
              "</table>\n",
              "</div>"
            ],
            "text/plain": [
              "   Social.distancing.index  X..staying.home  ...        date  New.COVID.cases\n",
              "0                       50               32  ...  2020-01-01                0\n",
              "1                       24               22  ...  2020-01-02                0\n",
              "2                       21               21  ...  2020-01-03                0\n",
              "3                       34               25  ...  2020-01-04                0\n",
              "4                       44               29  ...  2020-01-05                0\n",
              "\n",
              "[5 rows x 37 columns]"
            ]
          },
          "metadata": {
            "tags": []
          },
          "execution_count": 269
        }
      ]
    },
    {
      "cell_type": "markdown",
      "metadata": {
        "id": "Nx6DHfpTFGUl"
      },
      "source": [
        "## Preprocess Data for All inertia datasets"
      ]
    },
    {
      "cell_type": "code",
      "metadata": {
        "id": "T5nlRtyZpdWW"
      },
      "source": [
        "def datetime_to_float(d):\n",
        "    date_time_obj = datetime.strptime(d, '%Y-%m-%d')\n",
        "    return date_time_obj.timestamp()"
      ],
      "execution_count": 270,
      "outputs": []
    },
    {
      "cell_type": "code",
      "metadata": {
        "colab": {
          "base_uri": "https://localhost:8080/"
        },
        "id": "a90JrHgnpsGN",
        "outputId": "b98a6988-abae-46f8-faba-677bd1fe95ac"
      },
      "source": [
        "print(len(inertia_X_cols_all))\n",
        "LA_inertia_data_all['date'] = LA_inertia_data_all['date'].apply(lambda x:datetime_to_float(x))"
      ],
      "execution_count": 271,
      "outputs": [
        {
          "output_type": "stream",
          "text": [
            "37\n"
          ],
          "name": "stdout"
        }
      ]
    },
    {
      "cell_type": "markdown",
      "metadata": {
        "id": "JKaPkYomTvUi"
      },
      "source": [
        "### Date Column Index"
      ]
    },
    {
      "cell_type": "code",
      "metadata": {
        "id": "8ghgiww2Tzqg",
        "colab": {
          "base_uri": "https://localhost:8080/"
        },
        "outputId": "67a996d3-d992-405e-fd69-fc9f31e6e4c9"
      },
      "source": [
        "col_idx = len(LA_inertia_data_all.columns) - 1\r\n",
        "print(col_idx)"
      ],
      "execution_count": 272,
      "outputs": [
        {
          "output_type": "stream",
          "text": [
            "36\n"
          ],
          "name": "stdout"
        }
      ]
    },
    {
      "cell_type": "code",
      "metadata": {
        "id": "gzHpjaLkuhAa",
        "colab": {
          "base_uri": "https://localhost:8080/",
          "height": 232
        },
        "outputId": "8632af34-2bb0-497d-86f5-ef3d871b12ee"
      },
      "source": [
        "print(LA_inertia_data_all.shape)\n",
        "LA_inertia_data_all.head()"
      ],
      "execution_count": 273,
      "outputs": [
        {
          "output_type": "stream",
          "text": [
            "(21054, 37)\n"
          ],
          "name": "stdout"
        },
        {
          "output_type": "execute_result",
          "data": {
            "text/html": [
              "<div>\n",
              "<style scoped>\n",
              "    .dataframe tbody tr th:only-of-type {\n",
              "        vertical-align: middle;\n",
              "    }\n",
              "\n",
              "    .dataframe tbody tr th {\n",
              "        vertical-align: top;\n",
              "    }\n",
              "\n",
              "    .dataframe thead th {\n",
              "        text-align: right;\n",
              "    }\n",
              "</style>\n",
              "<table border=\"1\" class=\"dataframe\">\n",
              "  <thead>\n",
              "    <tr style=\"text-align: right;\">\n",
              "      <th></th>\n",
              "      <th>Social.distancing.index</th>\n",
              "      <th>X..staying.home</th>\n",
              "      <th>Trips.person</th>\n",
              "      <th>X..out.of.county.trips</th>\n",
              "      <th>X..out.of.state.trips</th>\n",
              "      <th>Miles.person</th>\n",
              "      <th>Work.trips.person</th>\n",
              "      <th>Non.work.trips.person</th>\n",
              "      <th>X..change.in.consumption</th>\n",
              "      <th>Transit.mode.share</th>\n",
              "      <th>X..people.older.than.60</th>\n",
              "      <th>Median.income</th>\n",
              "      <th>X..African.Americans</th>\n",
              "      <th>X..Hispanic.Americans</th>\n",
              "      <th>X..Male</th>\n",
              "      <th>Population.density</th>\n",
              "      <th>Employment.density</th>\n",
              "      <th>Hospital.beds.1000.people</th>\n",
              "      <th>ICUs.1000.people</th>\n",
              "      <th>Active.cases.1000.people</th>\n",
              "      <th>X.days..decreasing.COVID.cases</th>\n",
              "      <th>X..hospital.bed.utilization</th>\n",
              "      <th>Testing.capacity</th>\n",
              "      <th>Tests.done.1000.people</th>\n",
              "      <th>X..ICU.utilization</th>\n",
              "      <th>Ventilator.shortage</th>\n",
              "      <th>Imported.COVID.cases</th>\n",
              "      <th>COVID.exposure.1000.people</th>\n",
              "      <th>X.days..decreasing.ILI.cases</th>\n",
              "      <th>Unemployment.claims.1000.people</th>\n",
              "      <th>Unemployment.rate</th>\n",
              "      <th>X..working.from.home</th>\n",
              "      <th>population</th>\n",
              "      <th>CTFIPS</th>\n",
              "      <th>Cumulative.inflation.rate</th>\n",
              "      <th>date</th>\n",
              "      <th>New.COVID.cases</th>\n",
              "    </tr>\n",
              "  </thead>\n",
              "  <tbody>\n",
              "    <tr>\n",
              "      <th>0</th>\n",
              "      <td>50</td>\n",
              "      <td>32</td>\n",
              "      <td>2.4100</td>\n",
              "      <td>26.1000</td>\n",
              "      <td>0.4000</td>\n",
              "      <td>38.0000</td>\n",
              "      <td>0.2000</td>\n",
              "      <td>2.2100</td>\n",
              "      <td>-21.7000</td>\n",
              "      <td>15.0400</td>\n",
              "      <td>19</td>\n",
              "      <td>92574</td>\n",
              "      <td>10.5000</td>\n",
              "      <td>22.5000</td>\n",
              "      <td>49.1100</td>\n",
              "      <td>2002</td>\n",
              "      <td>1155</td>\n",
              "      <td>2.0500</td>\n",
              "      <td>0.2200</td>\n",
              "      <td>0.0000</td>\n",
              "      <td>0</td>\n",
              "      <td>54.0000</td>\n",
              "      <td>0.0000</td>\n",
              "      <td>0.0000</td>\n",
              "      <td>0.0000</td>\n",
              "      <td>0</td>\n",
              "      <td>0</td>\n",
              "      <td>0.0000</td>\n",
              "      <td>0</td>\n",
              "      <td>0.9000</td>\n",
              "      <td>3.9000</td>\n",
              "      <td>5.7000</td>\n",
              "      <td>1671329</td>\n",
              "      <td>6001</td>\n",
              "      <td>0.3000</td>\n",
              "      <td>1577836800.0000</td>\n",
              "      <td>0</td>\n",
              "    </tr>\n",
              "    <tr>\n",
              "      <th>1</th>\n",
              "      <td>24</td>\n",
              "      <td>22</td>\n",
              "      <td>3.1700</td>\n",
              "      <td>27.9000</td>\n",
              "      <td>0.4000</td>\n",
              "      <td>38.5000</td>\n",
              "      <td>0.5000</td>\n",
              "      <td>2.6600</td>\n",
              "      <td>-5.8000</td>\n",
              "      <td>15.0400</td>\n",
              "      <td>19</td>\n",
              "      <td>92574</td>\n",
              "      <td>10.5000</td>\n",
              "      <td>22.5000</td>\n",
              "      <td>49.1100</td>\n",
              "      <td>2002</td>\n",
              "      <td>1155</td>\n",
              "      <td>2.0500</td>\n",
              "      <td>0.2200</td>\n",
              "      <td>0.0000</td>\n",
              "      <td>0</td>\n",
              "      <td>54.0000</td>\n",
              "      <td>0.0000</td>\n",
              "      <td>0.0000</td>\n",
              "      <td>0.0000</td>\n",
              "      <td>0</td>\n",
              "      <td>0</td>\n",
              "      <td>0.0000</td>\n",
              "      <td>0</td>\n",
              "      <td>0.9000</td>\n",
              "      <td>3.9000</td>\n",
              "      <td>5.7000</td>\n",
              "      <td>1671329</td>\n",
              "      <td>6001</td>\n",
              "      <td>0.3000</td>\n",
              "      <td>1577923200.0000</td>\n",
              "      <td>0</td>\n",
              "    </tr>\n",
              "    <tr>\n",
              "      <th>2</th>\n",
              "      <td>21</td>\n",
              "      <td>21</td>\n",
              "      <td>3.2800</td>\n",
              "      <td>27.2000</td>\n",
              "      <td>0.4000</td>\n",
              "      <td>41.0000</td>\n",
              "      <td>0.5100</td>\n",
              "      <td>2.7800</td>\n",
              "      <td>-1.5000</td>\n",
              "      <td>15.0400</td>\n",
              "      <td>19</td>\n",
              "      <td>92574</td>\n",
              "      <td>10.5000</td>\n",
              "      <td>22.5000</td>\n",
              "      <td>49.1100</td>\n",
              "      <td>2002</td>\n",
              "      <td>1155</td>\n",
              "      <td>2.0500</td>\n",
              "      <td>0.2200</td>\n",
              "      <td>0.0000</td>\n",
              "      <td>0</td>\n",
              "      <td>54.0000</td>\n",
              "      <td>0.0000</td>\n",
              "      <td>0.0000</td>\n",
              "      <td>0.0000</td>\n",
              "      <td>0</td>\n",
              "      <td>0</td>\n",
              "      <td>0.0000</td>\n",
              "      <td>0</td>\n",
              "      <td>0.9000</td>\n",
              "      <td>3.9000</td>\n",
              "      <td>5.7000</td>\n",
              "      <td>1671329</td>\n",
              "      <td>6001</td>\n",
              "      <td>0.3000</td>\n",
              "      <td>1578009600.0000</td>\n",
              "      <td>0</td>\n",
              "    </tr>\n",
              "    <tr>\n",
              "      <th>3</th>\n",
              "      <td>34</td>\n",
              "      <td>25</td>\n",
              "      <td>3.0300</td>\n",
              "      <td>25.8000</td>\n",
              "      <td>0.3000</td>\n",
              "      <td>41.1000</td>\n",
              "      <td>0.2600</td>\n",
              "      <td>2.7600</td>\n",
              "      <td>-2.2000</td>\n",
              "      <td>15.0400</td>\n",
              "      <td>19</td>\n",
              "      <td>92574</td>\n",
              "      <td>10.5000</td>\n",
              "      <td>22.5000</td>\n",
              "      <td>49.1100</td>\n",
              "      <td>2002</td>\n",
              "      <td>1155</td>\n",
              "      <td>2.0500</td>\n",
              "      <td>0.2200</td>\n",
              "      <td>0.0000</td>\n",
              "      <td>0</td>\n",
              "      <td>54.0000</td>\n",
              "      <td>0.0000</td>\n",
              "      <td>0.0000</td>\n",
              "      <td>0.0000</td>\n",
              "      <td>0</td>\n",
              "      <td>0</td>\n",
              "      <td>0.0000</td>\n",
              "      <td>0</td>\n",
              "      <td>0.9000</td>\n",
              "      <td>3.9000</td>\n",
              "      <td>5.7000</td>\n",
              "      <td>1671329</td>\n",
              "      <td>6001</td>\n",
              "      <td>0.3000</td>\n",
              "      <td>1578096000.0000</td>\n",
              "      <td>0</td>\n",
              "    </tr>\n",
              "    <tr>\n",
              "      <th>4</th>\n",
              "      <td>44</td>\n",
              "      <td>29</td>\n",
              "      <td>2.7200</td>\n",
              "      <td>24.5000</td>\n",
              "      <td>0.4000</td>\n",
              "      <td>35.8000</td>\n",
              "      <td>0.2400</td>\n",
              "      <td>2.4800</td>\n",
              "      <td>-12.1000</td>\n",
              "      <td>15.0400</td>\n",
              "      <td>19</td>\n",
              "      <td>92574</td>\n",
              "      <td>10.5000</td>\n",
              "      <td>22.5000</td>\n",
              "      <td>49.1100</td>\n",
              "      <td>2002</td>\n",
              "      <td>1155</td>\n",
              "      <td>2.0500</td>\n",
              "      <td>0.2200</td>\n",
              "      <td>0.0000</td>\n",
              "      <td>0</td>\n",
              "      <td>54.0000</td>\n",
              "      <td>0.0000</td>\n",
              "      <td>0.0000</td>\n",
              "      <td>0.0000</td>\n",
              "      <td>0</td>\n",
              "      <td>0</td>\n",
              "      <td>0.0000</td>\n",
              "      <td>0</td>\n",
              "      <td>1.3000</td>\n",
              "      <td>3.9000</td>\n",
              "      <td>5.7000</td>\n",
              "      <td>1671329</td>\n",
              "      <td>6001</td>\n",
              "      <td>0.3000</td>\n",
              "      <td>1578182400.0000</td>\n",
              "      <td>0</td>\n",
              "    </tr>\n",
              "  </tbody>\n",
              "</table>\n",
              "</div>"
            ],
            "text/plain": [
              "   Social.distancing.index  X..staying.home  ...            date  New.COVID.cases\n",
              "0                       50               32  ... 1577836800.0000                0\n",
              "1                       24               22  ... 1577923200.0000                0\n",
              "2                       21               21  ... 1578009600.0000                0\n",
              "3                       34               25  ... 1578096000.0000                0\n",
              "4                       44               29  ... 1578182400.0000                0\n",
              "\n",
              "[5 rows x 37 columns]"
            ]
          },
          "metadata": {
            "tags": []
          },
          "execution_count": 273
        }
      ]
    },
    {
      "cell_type": "code",
      "metadata": {
        "id": "f2dczQwtFHi8",
        "colab": {
          "base_uri": "https://localhost:8080/"
        },
        "outputId": "74dfa36f-739b-4a2e-fa46-1db704c464bd"
      },
      "source": [
        "values = LA_inertia_data_all.values\n",
        "# integer encode direction\n",
        "encoder = LabelEncoder()\n",
        "values[:,col_idx] = encoder.fit_transform(values[:,col_idx])\n",
        "# ensure all data is float\n",
        "values = values.astype('float32')\n",
        "# normalize features\n",
        "scaler = MinMaxScaler(feature_range=(0, 1))\n",
        "scaled = scaler.fit_transform(values)\n",
        "# frame as supervised learning\n",
        "reframed = series_to_supervised(scaled, 1, 1)\n",
        "# drop columns we don't want to predict\n",
        "#reframed.drop(reframed.columns[[9,10,11,12,13,14,15]], axis=1, inplace=True)\n",
        "print(reframed.head())"
      ],
      "execution_count": 274,
      "outputs": [
        {
          "output_type": "stream",
          "text": [
            "   var1(t-1)  var2(t-1)  var3(t-1)  ...  var35(t)  var36(t)  var37(t)\n",
            "1     0.5000     0.3200     0.0311  ...    0.0662    0.0028    0.0000\n",
            "2     0.2400     0.2200     0.0409  ...    0.0662    0.0055    0.0000\n",
            "3     0.2100     0.2100     0.0424  ...    0.0662    0.0083    0.0000\n",
            "4     0.3400     0.2500     0.0391  ...    0.0662    0.0110    0.0000\n",
            "5     0.4400     0.2900     0.0351  ...    0.0662    0.0138    0.0000\n",
            "\n",
            "[5 rows x 74 columns]\n"
          ],
          "name": "stdout"
        }
      ]
    },
    {
      "cell_type": "markdown",
      "metadata": {
        "id": "H1j3eigdFQ4W"
      },
      "source": [
        "### Train Test split"
      ]
    },
    {
      "cell_type": "code",
      "metadata": {
        "id": "dWw--97OFFtV",
        "colab": {
          "base_uri": "https://localhost:8080/"
        },
        "outputId": "66144542-a4d9-48d7-8a2a-82cbbe5f06be"
      },
      "source": [
        "\n",
        "# split into train and test sets\n",
        "values = reframed.values\n",
        "rows_count = values.shape[0]\n",
        "# split the 1/5 value\n",
        "train_split = rows_count//5\n",
        "\n",
        "n_train_hours = train_split * 4\n",
        "\n",
        "print(n_train_hours)\n",
        "print('values shape ',values.shape)\n",
        "train = values[:n_train_hours, :]\n",
        "test = values[n_train_hours:, :]\n",
        "# split into input and outputs\n",
        "train_X, train_y = train[:, :-1], train[:, -1]\n",
        "test_X, test_y = test[:, :-1], test[:, -1]\n",
        "# reshape input to be 3D [samples, timesteps, features]\n",
        "train_X = train_X.reshape((train_X.shape[0], 1, train_X.shape[1]))\n",
        "test_X = test_X.reshape((test_X.shape[0], 1, test_X.shape[1]))\n",
        "print(train_X.shape, train_y.shape, test_X.shape, test_y.shape)"
      ],
      "execution_count": 275,
      "outputs": [
        {
          "output_type": "stream",
          "text": [
            "16840\n",
            "values shape  (21053, 74)\n",
            "(16840, 1, 73) (16840,) (4213, 1, 73) (4213,)\n"
          ],
          "name": "stdout"
        }
      ]
    },
    {
      "cell_type": "markdown",
      "metadata": {
        "id": "AwpbmrZNFUX0"
      },
      "source": [
        "### Training LSTM for inertia data"
      ]
    },
    {
      "cell_type": "code",
      "metadata": {
        "id": "FiAXDJInFaZx",
        "colab": {
          "base_uri": "https://localhost:8080/"
        },
        "outputId": "1bab42ef-8b46-476f-ca3a-62dac14f7bc6"
      },
      "source": [
        "...\n",
        "# design network\n",
        "model = Sequential()\n",
        "model.add(LSTM(50, input_shape=(train_X.shape[1], train_X.shape[2])))\n",
        "model.add(Dense(1))\n",
        "model.compile(loss='mae', optimizer='adam')\n",
        "# fit network\n",
        "history = model.fit(train_X, train_y, epochs=100, batch_size=72, validation_data=(test_X, test_y), verbose=2, shuffle=False)\n"
      ],
      "execution_count": 276,
      "outputs": [
        {
          "output_type": "stream",
          "text": [
            "Epoch 1/100\n",
            "234/234 - 3s - loss: 0.0710 - val_loss: 0.0358\n",
            "Epoch 2/100\n",
            "234/234 - 0s - loss: 0.0558 - val_loss: 0.0310\n",
            "Epoch 3/100\n",
            "234/234 - 0s - loss: 0.0465 - val_loss: 0.0244\n",
            "Epoch 4/100\n",
            "234/234 - 0s - loss: 0.0425 - val_loss: 0.0287\n",
            "Epoch 5/100\n",
            "234/234 - 0s - loss: 0.0422 - val_loss: 0.0268\n",
            "Epoch 6/100\n",
            "234/234 - 1s - loss: 0.0376 - val_loss: 0.0420\n",
            "Epoch 7/100\n",
            "234/234 - 0s - loss: 0.0377 - val_loss: 0.0410\n",
            "Epoch 8/100\n",
            "234/234 - 1s - loss: 0.0376 - val_loss: 0.0307\n",
            "Epoch 9/100\n",
            "234/234 - 0s - loss: 0.0365 - val_loss: 0.0246\n",
            "Epoch 10/100\n",
            "234/234 - 1s - loss: 0.0362 - val_loss: 0.0277\n",
            "Epoch 11/100\n",
            "234/234 - 0s - loss: 0.0347 - val_loss: 0.0261\n",
            "Epoch 12/100\n",
            "234/234 - 0s - loss: 0.0338 - val_loss: 0.0247\n",
            "Epoch 13/100\n",
            "234/234 - 0s - loss: 0.0330 - val_loss: 0.0243\n",
            "Epoch 14/100\n",
            "234/234 - 1s - loss: 0.0334 - val_loss: 0.0237\n",
            "Epoch 15/100\n",
            "234/234 - 0s - loss: 0.0318 - val_loss: 0.0271\n",
            "Epoch 16/100\n",
            "234/234 - 0s - loss: 0.0322 - val_loss: 0.0280\n",
            "Epoch 17/100\n",
            "234/234 - 0s - loss: 0.0316 - val_loss: 0.0241\n",
            "Epoch 18/100\n",
            "234/234 - 0s - loss: 0.0314 - val_loss: 0.0241\n",
            "Epoch 19/100\n",
            "234/234 - 1s - loss: 0.0305 - val_loss: 0.0245\n",
            "Epoch 20/100\n",
            "234/234 - 1s - loss: 0.0308 - val_loss: 0.0226\n",
            "Epoch 21/100\n",
            "234/234 - 0s - loss: 0.0300 - val_loss: 0.0246\n",
            "Epoch 22/100\n",
            "234/234 - 1s - loss: 0.0305 - val_loss: 0.0324\n",
            "Epoch 23/100\n",
            "234/234 - 1s - loss: 0.0300 - val_loss: 0.0242\n",
            "Epoch 24/100\n",
            "234/234 - 1s - loss: 0.0300 - val_loss: 0.0317\n",
            "Epoch 25/100\n",
            "234/234 - 1s - loss: 0.0296 - val_loss: 0.0264\n",
            "Epoch 26/100\n",
            "234/234 - 1s - loss: 0.0295 - val_loss: 0.0286\n",
            "Epoch 27/100\n",
            "234/234 - 0s - loss: 0.0289 - val_loss: 0.0230\n",
            "Epoch 28/100\n",
            "234/234 - 1s - loss: 0.0289 - val_loss: 0.0270\n",
            "Epoch 29/100\n",
            "234/234 - 0s - loss: 0.0280 - val_loss: 0.0273\n",
            "Epoch 30/100\n",
            "234/234 - 1s - loss: 0.0285 - val_loss: 0.0235\n",
            "Epoch 31/100\n",
            "234/234 - 1s - loss: 0.0286 - val_loss: 0.0308\n",
            "Epoch 32/100\n",
            "234/234 - 1s - loss: 0.0286 - val_loss: 0.0253\n",
            "Epoch 33/100\n",
            "234/234 - 0s - loss: 0.0279 - val_loss: 0.0303\n",
            "Epoch 34/100\n",
            "234/234 - 1s - loss: 0.0280 - val_loss: 0.0252\n",
            "Epoch 35/100\n",
            "234/234 - 0s - loss: 0.0276 - val_loss: 0.0272\n",
            "Epoch 36/100\n",
            "234/234 - 1s - loss: 0.0277 - val_loss: 0.0252\n",
            "Epoch 37/100\n",
            "234/234 - 1s - loss: 0.0274 - val_loss: 0.0237\n",
            "Epoch 38/100\n",
            "234/234 - 1s - loss: 0.0275 - val_loss: 0.0266\n",
            "Epoch 39/100\n",
            "234/234 - 0s - loss: 0.0276 - val_loss: 0.0243\n",
            "Epoch 40/100\n",
            "234/234 - 1s - loss: 0.0272 - val_loss: 0.0252\n",
            "Epoch 41/100\n",
            "234/234 - 0s - loss: 0.0271 - val_loss: 0.0249\n",
            "Epoch 42/100\n",
            "234/234 - 1s - loss: 0.0271 - val_loss: 0.0232\n",
            "Epoch 43/100\n",
            "234/234 - 0s - loss: 0.0267 - val_loss: 0.0222\n",
            "Epoch 44/100\n",
            "234/234 - 1s - loss: 0.0270 - val_loss: 0.0258\n",
            "Epoch 45/100\n",
            "234/234 - 1s - loss: 0.0269 - val_loss: 0.0233\n",
            "Epoch 46/100\n",
            "234/234 - 1s - loss: 0.0266 - val_loss: 0.0215\n",
            "Epoch 47/100\n",
            "234/234 - 1s - loss: 0.0266 - val_loss: 0.0231\n",
            "Epoch 48/100\n",
            "234/234 - 0s - loss: 0.0267 - val_loss: 0.0208\n",
            "Epoch 49/100\n",
            "234/234 - 0s - loss: 0.0267 - val_loss: 0.0286\n",
            "Epoch 50/100\n",
            "234/234 - 1s - loss: 0.0264 - val_loss: 0.0219\n",
            "Epoch 51/100\n",
            "234/234 - 0s - loss: 0.0264 - val_loss: 0.0252\n",
            "Epoch 52/100\n",
            "234/234 - 1s - loss: 0.0263 - val_loss: 0.0225\n",
            "Epoch 53/100\n",
            "234/234 - 1s - loss: 0.0263 - val_loss: 0.0230\n",
            "Epoch 54/100\n",
            "234/234 - 1s - loss: 0.0261 - val_loss: 0.0207\n",
            "Epoch 55/100\n",
            "234/234 - 0s - loss: 0.0264 - val_loss: 0.0219\n",
            "Epoch 56/100\n",
            "234/234 - 0s - loss: 0.0263 - val_loss: 0.0211\n",
            "Epoch 57/100\n",
            "234/234 - 1s - loss: 0.0264 - val_loss: 0.0254\n",
            "Epoch 58/100\n",
            "234/234 - 0s - loss: 0.0259 - val_loss: 0.0219\n",
            "Epoch 59/100\n",
            "234/234 - 0s - loss: 0.0259 - val_loss: 0.0243\n",
            "Epoch 60/100\n",
            "234/234 - 0s - loss: 0.0258 - val_loss: 0.0210\n",
            "Epoch 61/100\n",
            "234/234 - 1s - loss: 0.0256 - val_loss: 0.0208\n",
            "Epoch 62/100\n",
            "234/234 - 1s - loss: 0.0259 - val_loss: 0.0218\n",
            "Epoch 63/100\n",
            "234/234 - 1s - loss: 0.0257 - val_loss: 0.0206\n",
            "Epoch 64/100\n",
            "234/234 - 1s - loss: 0.0255 - val_loss: 0.0200\n",
            "Epoch 65/100\n",
            "234/234 - 1s - loss: 0.0253 - val_loss: 0.0203\n",
            "Epoch 66/100\n",
            "234/234 - 1s - loss: 0.0260 - val_loss: 0.0218\n",
            "Epoch 67/100\n",
            "234/234 - 1s - loss: 0.0256 - val_loss: 0.0198\n",
            "Epoch 68/100\n",
            "234/234 - 1s - loss: 0.0259 - val_loss: 0.0224\n",
            "Epoch 69/100\n",
            "234/234 - 1s - loss: 0.0255 - val_loss: 0.0209\n",
            "Epoch 70/100\n",
            "234/234 - 1s - loss: 0.0255 - val_loss: 0.0219\n",
            "Epoch 71/100\n",
            "234/234 - 1s - loss: 0.0252 - val_loss: 0.0205\n",
            "Epoch 72/100\n",
            "234/234 - 1s - loss: 0.0254 - val_loss: 0.0212\n",
            "Epoch 73/100\n",
            "234/234 - 1s - loss: 0.0255 - val_loss: 0.0223\n",
            "Epoch 74/100\n",
            "234/234 - 1s - loss: 0.0259 - val_loss: 0.0206\n",
            "Epoch 75/100\n",
            "234/234 - 1s - loss: 0.0254 - val_loss: 0.0202\n",
            "Epoch 76/100\n",
            "234/234 - 1s - loss: 0.0251 - val_loss: 0.0207\n",
            "Epoch 77/100\n",
            "234/234 - 1s - loss: 0.0251 - val_loss: 0.0206\n",
            "Epoch 78/100\n",
            "234/234 - 1s - loss: 0.0251 - val_loss: 0.0207\n",
            "Epoch 79/100\n",
            "234/234 - 1s - loss: 0.0252 - val_loss: 0.0217\n",
            "Epoch 80/100\n",
            "234/234 - 1s - loss: 0.0252 - val_loss: 0.0208\n",
            "Epoch 81/100\n",
            "234/234 - 1s - loss: 0.0252 - val_loss: 0.0216\n",
            "Epoch 82/100\n",
            "234/234 - 1s - loss: 0.0252 - val_loss: 0.0204\n",
            "Epoch 83/100\n",
            "234/234 - 1s - loss: 0.0250 - val_loss: 0.0214\n",
            "Epoch 84/100\n",
            "234/234 - 1s - loss: 0.0249 - val_loss: 0.0204\n",
            "Epoch 85/100\n",
            "234/234 - 1s - loss: 0.0247 - val_loss: 0.0211\n",
            "Epoch 86/100\n",
            "234/234 - 1s - loss: 0.0248 - val_loss: 0.0209\n",
            "Epoch 87/100\n",
            "234/234 - 1s - loss: 0.0251 - val_loss: 0.0209\n",
            "Epoch 88/100\n",
            "234/234 - 1s - loss: 0.0250 - val_loss: 0.0201\n",
            "Epoch 89/100\n",
            "234/234 - 1s - loss: 0.0250 - val_loss: 0.0224\n",
            "Epoch 90/100\n",
            "234/234 - 0s - loss: 0.0250 - val_loss: 0.0209\n",
            "Epoch 91/100\n",
            "234/234 - 1s - loss: 0.0249 - val_loss: 0.0204\n",
            "Epoch 92/100\n",
            "234/234 - 1s - loss: 0.0247 - val_loss: 0.0204\n",
            "Epoch 93/100\n",
            "234/234 - 1s - loss: 0.0245 - val_loss: 0.0204\n",
            "Epoch 94/100\n",
            "234/234 - 1s - loss: 0.0248 - val_loss: 0.0228\n",
            "Epoch 95/100\n",
            "234/234 - 1s - loss: 0.0251 - val_loss: 0.0213\n",
            "Epoch 96/100\n",
            "234/234 - 1s - loss: 0.0249 - val_loss: 0.0204\n",
            "Epoch 97/100\n",
            "234/234 - 1s - loss: 0.0246 - val_loss: 0.0206\n",
            "Epoch 98/100\n",
            "234/234 - 1s - loss: 0.0248 - val_loss: 0.0214\n",
            "Epoch 99/100\n",
            "234/234 - 0s - loss: 0.0249 - val_loss: 0.0202\n",
            "Epoch 100/100\n",
            "234/234 - 1s - loss: 0.0254 - val_loss: 0.0252\n"
          ],
          "name": "stdout"
        }
      ]
    },
    {
      "cell_type": "code",
      "metadata": {
        "colab": {
          "base_uri": "https://localhost:8080/",
          "height": 267
        },
        "id": "bXsXp-en9eRW",
        "outputId": "63988d8e-a44c-416a-e885-b7e518211097"
      },
      "source": [
        "# plot history\r\n",
        "plt.plot(history.history['loss'], label='train')\r\n",
        "plt.plot(history.history['val_loss'], label='test')\r\n",
        "plt.legend()\r\n",
        "plt.show()"
      ],
      "execution_count": 277,
      "outputs": [
        {
          "output_type": "display_data",
          "data": {
            "image/png": "[encoded data removed]",
            "text/plain": [
              "<Figure size 432x288 with 1 Axes>"
            ]
          },
          "metadata": {
            "tags": [],
            "needs_background": "light"
          }
        }
      ]
    },
    {
      "cell_type": "markdown",
      "metadata": {
        "id": "4XaE6-7hFVnk"
      },
      "source": [
        "### Testing LSTM for inertia data"
      ]
    },
    {
      "cell_type": "code",
      "metadata": {
        "id": "025oHpgdFe2f",
        "colab": {
          "base_uri": "https://localhost:8080/"
        },
        "outputId": "60bce3c6-fc02-4f9f-d9c4-ff75493153be"
      },
      "source": [
        "import math\n",
        "\n",
        "# make a prediction\n",
        "yhat = model.predict(test_X)\n",
        "test_X1 = test_X.reshape((test_X.shape[0], test_X.shape[2]))\n",
        "# invert scaling for forecast\n",
        "inv_yhat = concatenate((yhat, test_X1[:, 1:]), axis=1)\n",
        "print(inv_yhat.shape)\n",
        "#inv_yhat = scaler.inverse_transform(inv_yhat)\n",
        "inv_yhat = inv_yhat[:,0]\n",
        "# invert scaling for actual\n",
        "test_y = test_y.reshape((len(test_y), 1))\n",
        "inv_y = concatenate((test_y, test_X1[:, 1:]), axis=1)\n",
        "#inv_y = scaler.inverse_transform(inv_y)\n",
        "inv_y = inv_y[:,0]\n",
        "# calculate RMSE\n",
        "mse = mean_squared_error(inv_y, inv_yhat)\n",
        "print('Test MSE: %.3f' % mse)\n",
        "rmse = math.sqrt(mean_squared_error(inv_y, inv_yhat))\n",
        "print('Test RMSE: %.3f' % rmse)\n",
        "\n",
        "from sklearn.metrics import median_absolute_error, mean_absolute_error\n",
        "print('median_absolute_error', median_absolute_error(inv_y, inv_yhat))\n",
        "print('mean_absolute_error', mean_absolute_error(inv_y, inv_yhat))"
      ],
      "execution_count": 278,
      "outputs": [
        {
          "output_type": "stream",
          "text": [
            "(4213, 73)\n",
            "Test MSE: 0.003\n",
            "Test RMSE: 0.058\n",
            "median_absolute_error 0.006651791\n",
            "mean_absolute_error 0.025175286\n"
          ],
          "name": "stdout"
        }
      ]
    },
    {
      "cell_type": "markdown",
      "metadata": {
        "id": "7ehF0dNjv1ao"
      },
      "source": [
        "## Preprocessing Data for Gini-Coefficient Selected Features- Inertia"
      ]
    },
    {
      "cell_type": "code",
      "metadata": {
        "colab": {
          "base_uri": "https://localhost:8080/"
        },
        "id": "A7DeFNCqv6DV",
        "outputId": "cc20e388-2452-4581-efa8-7b0024ba849a"
      },
      "source": [
        "print(len(inertia_X_cols_featured_gini_coef))\n",
        "LA_inertia_data_featured_gini_coef['date'] = LA_inertia_data_featured_gini_coef['date'].apply(lambda x:datetime_to_float(x))"
      ],
      "execution_count": 279,
      "outputs": [
        {
          "output_type": "stream",
          "text": [
            "35\n"
          ],
          "name": "stdout"
        }
      ]
    },
    {
      "cell_type": "markdown",
      "metadata": {
        "id": "QT17Ai1nUDz3"
      },
      "source": [
        "### Date Column Index"
      ]
    },
    {
      "cell_type": "code",
      "metadata": {
        "colab": {
          "base_uri": "https://localhost:8080/"
        },
        "id": "u94AAC4cUGf6",
        "outputId": "48d74818-32dc-4897-9608-461cbc11ddc6"
      },
      "source": [
        "col_idx = len(LA_inertia_data_featured_gini_coef.columns) - 1\r\n",
        "print(col_idx)"
      ],
      "execution_count": 280,
      "outputs": [
        {
          "output_type": "stream",
          "text": [
            "34\n"
          ],
          "name": "stdout"
        }
      ]
    },
    {
      "cell_type": "code",
      "metadata": {
        "colab": {
          "base_uri": "https://localhost:8080/"
        },
        "id": "eBE40XQowEMT",
        "outputId": "41faed81-8a3e-4dbf-9a4a-8d3088f21db7"
      },
      "source": [
        "values = LA_inertia_data_featured_gini_coef.values\n",
        "# integer encode direction\n",
        "encoder = LabelEncoder()\n",
        "values[:,col_idx] = encoder.fit_transform(values[:,col_idx])\n",
        "# ensure all data is float\n",
        "values = values.astype('float32')\n",
        "# normalize features\n",
        "scaler = MinMaxScaler(feature_range=(0, 1))\n",
        "scaled = scaler.fit_transform(values)\n",
        "# frame as supervised learning\n",
        "reframed = series_to_supervised(scaled, 1, 1)\n",
        "# drop columns we don't want to predict\n",
        "#reframed.drop(reframed.columns[[9,10,11,12,13,14,15]], axis=1, inplace=True)\n",
        "print(reframed.head())"
      ],
      "execution_count": 281,
      "outputs": [
        {
          "output_type": "stream",
          "text": [
            "   var1(t-1)  var2(t-1)  var3(t-1)  ...  var33(t)  var34(t)  var35(t)\n",
            "1     0.5000     0.3200     0.0311  ...    0.0662    0.0028    0.0000\n",
            "2     0.2400     0.2200     0.0409  ...    0.0662    0.0055    0.0000\n",
            "3     0.2100     0.2100     0.0424  ...    0.0662    0.0083    0.0000\n",
            "4     0.3400     0.2500     0.0391  ...    0.0662    0.0110    0.0000\n",
            "5     0.4400     0.2900     0.0351  ...    0.0662    0.0138    0.0000\n",
            "\n",
            "[5 rows x 70 columns]\n"
          ],
          "name": "stdout"
        }
      ]
    },
    {
      "cell_type": "markdown",
      "metadata": {
        "id": "Ha4XL2n0v-7v"
      },
      "source": [
        "### Train Test Split"
      ]
    },
    {
      "cell_type": "code",
      "metadata": {
        "colab": {
          "base_uri": "https://localhost:8080/"
        },
        "id": "PKWAoAo-v-m4",
        "outputId": "b06ec54d-fc76-45ab-95cf-a3f43da5cc0e"
      },
      "source": [
        "\n",
        "# split into train and test sets\n",
        "values = reframed.values\n",
        "rows_count = values.shape[0]\n",
        "# split the 1/5 value\n",
        "train_split = rows_count//5\n",
        "\n",
        "n_train_hours = train_split * 4\n",
        "\n",
        "print(n_train_hours)\n",
        "print('values shape ',values.shape)\n",
        "train = values[:n_train_hours, :]\n",
        "test = values[n_train_hours:, :]\n",
        "# split into input and outputs\n",
        "train_X, train_y = train[:, :-1], train[:, -1]\n",
        "test_X, test_y = test[:, :-1], test[:, -1]\n",
        "# reshape input to be 3D [samples, timesteps, features]\n",
        "train_X = train_X.reshape((train_X.shape[0], 1, train_X.shape[1]))\n",
        "test_X = test_X.reshape((test_X.shape[0], 1, test_X.shape[1]))\n",
        "print(train_X.shape, train_y.shape, test_X.shape, test_y.shape)"
      ],
      "execution_count": 282,
      "outputs": [
        {
          "output_type": "stream",
          "text": [
            "16840\n",
            "values shape  (21053, 70)\n",
            "(16840, 1, 69) (16840,) (4213, 1, 69) (4213,)\n"
          ],
          "name": "stdout"
        }
      ]
    },
    {
      "cell_type": "markdown",
      "metadata": {
        "id": "2fa_JmmcwSai"
      },
      "source": [
        "### Training LSTM for Gini Co-eff feature selected "
      ]
    },
    {
      "cell_type": "code",
      "metadata": {
        "colab": {
          "base_uri": "https://localhost:8080/"
        },
        "id": "9TdCXIbQwX9l",
        "outputId": "a4c4dc44-1bf1-44a7-ae11-7b1da48187cf"
      },
      "source": [
        "...\n",
        "# design network\n",
        "model = Sequential()\n",
        "model.add(LSTM(50, input_shape=(train_X.shape[1], train_X.shape[2])))\n",
        "model.add(Dense(1))\n",
        "model.compile(loss='mae', optimizer='adam')\n",
        "# fit network\n",
        "history = model.fit(train_X, train_y, epochs=100, batch_size=72, validation_data=(test_X, test_y), verbose=2, shuffle=False)\n"
      ],
      "execution_count": 283,
      "outputs": [
        {
          "output_type": "stream",
          "text": [
            "Epoch 1/100\n",
            "234/234 - 2s - loss: 0.0735 - val_loss: 0.0303\n",
            "Epoch 2/100\n",
            "234/234 - 1s - loss: 0.0564 - val_loss: 0.0287\n",
            "Epoch 3/100\n",
            "234/234 - 1s - loss: 0.0477 - val_loss: 0.0261\n",
            "Epoch 4/100\n",
            "234/234 - 1s - loss: 0.0415 - val_loss: 0.0259\n",
            "Epoch 5/100\n",
            "234/234 - 1s - loss: 0.0391 - val_loss: 0.0349\n",
            "Epoch 6/100\n",
            "234/234 - 1s - loss: 0.0359 - val_loss: 0.0245\n",
            "Epoch 7/100\n",
            "234/234 - 1s - loss: 0.0366 - val_loss: 0.0238\n",
            "Epoch 8/100\n",
            "234/234 - 1s - loss: 0.0365 - val_loss: 0.0247\n",
            "Epoch 9/100\n",
            "234/234 - 1s - loss: 0.0358 - val_loss: 0.0251\n",
            "Epoch 10/100\n",
            "234/234 - 0s - loss: 0.0346 - val_loss: 0.0243\n",
            "Epoch 11/100\n",
            "234/234 - 1s - loss: 0.0351 - val_loss: 0.0233\n",
            "Epoch 12/100\n",
            "234/234 - 1s - loss: 0.0334 - val_loss: 0.0239\n",
            "Epoch 13/100\n",
            "234/234 - 1s - loss: 0.0316 - val_loss: 0.0269\n",
            "Epoch 14/100\n",
            "234/234 - 1s - loss: 0.0318 - val_loss: 0.0225\n",
            "Epoch 15/100\n",
            "234/234 - 1s - loss: 0.0311 - val_loss: 0.0337\n",
            "Epoch 16/100\n",
            "234/234 - 0s - loss: 0.0313 - val_loss: 0.0217\n",
            "Epoch 17/100\n",
            "234/234 - 1s - loss: 0.0306 - val_loss: 0.0245\n",
            "Epoch 18/100\n",
            "234/234 - 1s - loss: 0.0312 - val_loss: 0.0217\n",
            "Epoch 19/100\n",
            "234/234 - 0s - loss: 0.0299 - val_loss: 0.0253\n",
            "Epoch 20/100\n",
            "234/234 - 0s - loss: 0.0302 - val_loss: 0.0229\n",
            "Epoch 21/100\n",
            "234/234 - 1s - loss: 0.0299 - val_loss: 0.0248\n",
            "Epoch 22/100\n",
            "234/234 - 1s - loss: 0.0304 - val_loss: 0.0221\n",
            "Epoch 23/100\n",
            "234/234 - 1s - loss: 0.0292 - val_loss: 0.0275\n",
            "Epoch 24/100\n",
            "234/234 - 1s - loss: 0.0293 - val_loss: 0.0216\n",
            "Epoch 25/100\n",
            "234/234 - 1s - loss: 0.0289 - val_loss: 0.0219\n",
            "Epoch 26/100\n",
            "234/234 - 1s - loss: 0.0286 - val_loss: 0.0233\n",
            "Epoch 27/100\n",
            "234/234 - 0s - loss: 0.0285 - val_loss: 0.0209\n",
            "Epoch 28/100\n",
            "234/234 - 1s - loss: 0.0279 - val_loss: 0.0212\n",
            "Epoch 29/100\n",
            "234/234 - 0s - loss: 0.0280 - val_loss: 0.0220\n",
            "Epoch 30/100\n",
            "234/234 - 0s - loss: 0.0284 - val_loss: 0.0217\n",
            "Epoch 31/100\n",
            "234/234 - 0s - loss: 0.0281 - val_loss: 0.0214\n",
            "Epoch 32/100\n",
            "234/234 - 0s - loss: 0.0275 - val_loss: 0.0215\n",
            "Epoch 33/100\n",
            "234/234 - 0s - loss: 0.0275 - val_loss: 0.0208\n",
            "Epoch 34/100\n",
            "234/234 - 1s - loss: 0.0276 - val_loss: 0.0238\n",
            "Epoch 35/100\n",
            "234/234 - 0s - loss: 0.0271 - val_loss: 0.0208\n",
            "Epoch 36/100\n",
            "234/234 - 1s - loss: 0.0274 - val_loss: 0.0211\n",
            "Epoch 37/100\n",
            "234/234 - 1s - loss: 0.0273 - val_loss: 0.0239\n",
            "Epoch 38/100\n",
            "234/234 - 0s - loss: 0.0270 - val_loss: 0.0223\n",
            "Epoch 39/100\n",
            "234/234 - 0s - loss: 0.0275 - val_loss: 0.0246\n",
            "Epoch 40/100\n",
            "234/234 - 0s - loss: 0.0274 - val_loss: 0.0263\n",
            "Epoch 41/100\n",
            "234/234 - 0s - loss: 0.0274 - val_loss: 0.0238\n",
            "Epoch 42/100\n",
            "234/234 - 1s - loss: 0.0272 - val_loss: 0.0254\n",
            "Epoch 43/100\n",
            "234/234 - 0s - loss: 0.0273 - val_loss: 0.0229\n",
            "Epoch 44/100\n",
            "234/234 - 0s - loss: 0.0267 - val_loss: 0.0234\n",
            "Epoch 45/100\n",
            "234/234 - 0s - loss: 0.0269 - val_loss: 0.0210\n",
            "Epoch 46/100\n",
            "234/234 - 1s - loss: 0.0264 - val_loss: 0.0212\n",
            "Epoch 47/100\n",
            "234/234 - 1s - loss: 0.0265 - val_loss: 0.0206\n",
            "Epoch 48/100\n",
            "234/234 - 1s - loss: 0.0264 - val_loss: 0.0208\n",
            "Epoch 49/100\n",
            "234/234 - 1s - loss: 0.0261 - val_loss: 0.0217\n",
            "Epoch 50/100\n",
            "234/234 - 1s - loss: 0.0260 - val_loss: 0.0206\n",
            "Epoch 51/100\n",
            "234/234 - 0s - loss: 0.0261 - val_loss: 0.0208\n",
            "Epoch 52/100\n",
            "234/234 - 0s - loss: 0.0260 - val_loss: 0.0207\n",
            "Epoch 53/100\n",
            "234/234 - 0s - loss: 0.0260 - val_loss: 0.0207\n",
            "Epoch 54/100\n",
            "234/234 - 0s - loss: 0.0262 - val_loss: 0.0202\n",
            "Epoch 55/100\n",
            "234/234 - 1s - loss: 0.0260 - val_loss: 0.0220\n",
            "Epoch 56/100\n",
            "234/234 - 1s - loss: 0.0261 - val_loss: 0.0212\n",
            "Epoch 57/100\n",
            "234/234 - 1s - loss: 0.0256 - val_loss: 0.0204\n",
            "Epoch 58/100\n",
            "234/234 - 0s - loss: 0.0256 - val_loss: 0.0201\n",
            "Epoch 59/100\n",
            "234/234 - 0s - loss: 0.0253 - val_loss: 0.0201\n",
            "Epoch 60/100\n",
            "234/234 - 1s - loss: 0.0260 - val_loss: 0.0195\n",
            "Epoch 61/100\n",
            "234/234 - 1s - loss: 0.0260 - val_loss: 0.0245\n",
            "Epoch 62/100\n",
            "234/234 - 1s - loss: 0.0261 - val_loss: 0.0206\n",
            "Epoch 63/100\n",
            "234/234 - 1s - loss: 0.0256 - val_loss: 0.0229\n",
            "Epoch 64/100\n",
            "234/234 - 1s - loss: 0.0251 - val_loss: 0.0200\n",
            "Epoch 65/100\n",
            "234/234 - 0s - loss: 0.0254 - val_loss: 0.0197\n",
            "Epoch 66/100\n",
            "234/234 - 1s - loss: 0.0255 - val_loss: 0.0229\n",
            "Epoch 67/100\n",
            "234/234 - 0s - loss: 0.0262 - val_loss: 0.0207\n",
            "Epoch 68/100\n",
            "234/234 - 1s - loss: 0.0256 - val_loss: 0.0224\n",
            "Epoch 69/100\n",
            "234/234 - 1s - loss: 0.0255 - val_loss: 0.0195\n",
            "Epoch 70/100\n",
            "234/234 - 1s - loss: 0.0255 - val_loss: 0.0202\n",
            "Epoch 71/100\n",
            "234/234 - 1s - loss: 0.0252 - val_loss: 0.0199\n",
            "Epoch 72/100\n",
            "234/234 - 1s - loss: 0.0250 - val_loss: 0.0195\n",
            "Epoch 73/100\n",
            "234/234 - 1s - loss: 0.0250 - val_loss: 0.0202\n",
            "Epoch 74/100\n",
            "234/234 - 1s - loss: 0.0249 - val_loss: 0.0202\n",
            "Epoch 75/100\n",
            "234/234 - 1s - loss: 0.0248 - val_loss: 0.0197\n",
            "Epoch 76/100\n",
            "234/234 - 1s - loss: 0.0247 - val_loss: 0.0197\n",
            "Epoch 77/100\n",
            "234/234 - 1s - loss: 0.0249 - val_loss: 0.0197\n",
            "Epoch 78/100\n",
            "234/234 - 1s - loss: 0.0249 - val_loss: 0.0215\n",
            "Epoch 79/100\n",
            "234/234 - 1s - loss: 0.0252 - val_loss: 0.0201\n",
            "Epoch 80/100\n",
            "234/234 - 1s - loss: 0.0252 - val_loss: 0.0200\n",
            "Epoch 81/100\n",
            "234/234 - 1s - loss: 0.0251 - val_loss: 0.0198\n",
            "Epoch 82/100\n",
            "234/234 - 1s - loss: 0.0254 - val_loss: 0.0210\n",
            "Epoch 83/100\n",
            "234/234 - 1s - loss: 0.0252 - val_loss: 0.0196\n",
            "Epoch 84/100\n",
            "234/234 - 1s - loss: 0.0251 - val_loss: 0.0200\n",
            "Epoch 85/100\n",
            "234/234 - 1s - loss: 0.0247 - val_loss: 0.0197\n",
            "Epoch 86/100\n",
            "234/234 - 1s - loss: 0.0248 - val_loss: 0.0193\n",
            "Epoch 87/100\n",
            "234/234 - 1s - loss: 0.0247 - val_loss: 0.0205\n",
            "Epoch 88/100\n",
            "234/234 - 1s - loss: 0.0252 - val_loss: 0.0210\n",
            "Epoch 89/100\n",
            "234/234 - 1s - loss: 0.0252 - val_loss: 0.0196\n",
            "Epoch 90/100\n",
            "234/234 - 0s - loss: 0.0248 - val_loss: 0.0202\n",
            "Epoch 91/100\n",
            "234/234 - 1s - loss: 0.0246 - val_loss: 0.0199\n",
            "Epoch 92/100\n",
            "234/234 - 1s - loss: 0.0246 - val_loss: 0.0210\n",
            "Epoch 93/100\n",
            "234/234 - 1s - loss: 0.0246 - val_loss: 0.0201\n",
            "Epoch 94/100\n",
            "234/234 - 1s - loss: 0.0250 - val_loss: 0.0196\n",
            "Epoch 95/100\n",
            "234/234 - 1s - loss: 0.0248 - val_loss: 0.0201\n",
            "Epoch 96/100\n",
            "234/234 - 1s - loss: 0.0247 - val_loss: 0.0205\n",
            "Epoch 97/100\n",
            "234/234 - 1s - loss: 0.0248 - val_loss: 0.0201\n",
            "Epoch 98/100\n",
            "234/234 - 1s - loss: 0.0249 - val_loss: 0.0218\n",
            "Epoch 99/100\n",
            "234/234 - 1s - loss: 0.0248 - val_loss: 0.0197\n",
            "Epoch 100/100\n",
            "234/234 - 1s - loss: 0.0246 - val_loss: 0.0205\n"
          ],
          "name": "stdout"
        }
      ]
    },
    {
      "cell_type": "code",
      "metadata": {
        "colab": {
          "base_uri": "https://localhost:8080/",
          "height": 267
        },
        "id": "KtKe0lAI9idF",
        "outputId": "1eeaf33b-6591-4707-85f8-be44b8d7111f"
      },
      "source": [
        "# plot history\r\n",
        "plt.plot(history.history['loss'], label='train')\r\n",
        "plt.plot(history.history['val_loss'], label='test')\r\n",
        "plt.legend()\r\n",
        "plt.show()"
      ],
      "execution_count": 284,
      "outputs": [
        {
          "output_type": "display_data",
          "data": {
            "image/png": "[encoded data removed]",
            "text/plain": [
              "<Figure size 432x288 with 1 Axes>"
            ]
          },
          "metadata": {
            "tags": [],
            "needs_background": "light"
          }
        }
      ]
    },
    {
      "cell_type": "markdown",
      "metadata": {
        "id": "Qogs-sgJwVIA"
      },
      "source": [
        "### Testing LSTM for Gini Co-eff feature selected"
      ]
    },
    {
      "cell_type": "code",
      "metadata": {
        "colab": {
          "base_uri": "https://localhost:8080/"
        },
        "id": "lp0s6bFEwcrI",
        "outputId": "3f11b2ba-72b3-40c2-a888-531723b821e4"
      },
      "source": [
        "import math\n",
        "\n",
        "# make a prediction\n",
        "yhat = model.predict(test_X)\n",
        "test_X1 = test_X.reshape((test_X.shape[0], test_X.shape[2]))\n",
        "# invert scaling for forecast\n",
        "inv_yhat = concatenate((yhat, test_X1[:, 1:]), axis=1)\n",
        "print(inv_yhat.shape)\n",
        "#inv_yhat = scaler.inverse_transform(inv_yhat)\n",
        "inv_yhat = inv_yhat[:,0]\n",
        "# invert scaling for actual\n",
        "test_y = test_y.reshape((len(test_y), 1))\n",
        "inv_y = concatenate((test_y, test_X1[:, 1:]), axis=1)\n",
        "#inv_y = scaler.inverse_transform(inv_y)\n",
        "inv_y = inv_y[:,0]\n",
        "# calculate RMSE\n",
        "mse = mean_squared_error(inv_y, inv_yhat)\n",
        "print('Test MSE: %.3f' % mse)\n",
        "rmse = math.sqrt(mean_squared_error(inv_y, inv_yhat))\n",
        "print('Test RMSE: %.3f' % rmse)\n",
        "\n",
        "print('median_absolute_error', median_absolute_error(inv_y, inv_yhat))\n",
        "print('mean_absolute_error', mean_absolute_error(inv_y, inv_yhat))"
      ],
      "execution_count": 285,
      "outputs": [
        {
          "output_type": "stream",
          "text": [
            "(4213, 69)\n",
            "Test MSE: 0.003\n",
            "Test RMSE: 0.051\n",
            "median_absolute_error 0.0034879716\n",
            "mean_absolute_error 0.020515317\n"
          ],
          "name": "stdout"
        }
      ]
    },
    {
      "cell_type": "markdown",
      "metadata": {
        "id": "i5SLvy-vUb8N"
      },
      "source": [
        "## Preprocessing Data for Gini-Extra Tree Classifier Selected Features- Inertia"
      ]
    },
    {
      "cell_type": "code",
      "metadata": {
        "colab": {
          "base_uri": "https://localhost:8080/"
        },
        "id": "mHlyfQ1IUb8V",
        "outputId": "f9a22731-f7dc-454a-a4fe-16cd322a0dea"
      },
      "source": [
        "print(len(inertia_X_cols_featured_gini_rfe))\n",
        "LA_inertia_data_featured_gini_rfe['date'] = LA_inertia_data_featured_gini_rfe['date'].apply(lambda x:datetime_to_float(x))"
      ],
      "execution_count": 286,
      "outputs": [
        {
          "output_type": "stream",
          "text": [
            "25\n"
          ],
          "name": "stdout"
        }
      ]
    },
    {
      "cell_type": "markdown",
      "metadata": {
        "id": "WnBfUVRhUb8W"
      },
      "source": [
        "### Date Column Index"
      ]
    },
    {
      "cell_type": "code",
      "metadata": {
        "colab": {
          "base_uri": "https://localhost:8080/"
        },
        "id": "ltJlOAZ0Ub8W",
        "outputId": "699105fa-9411-40bd-cfd8-6191b4db07e4"
      },
      "source": [
        "col_idx = len(LA_inertia_data_featured_gini_rfe.columns) - 1\r\n",
        "print(col_idx)"
      ],
      "execution_count": 287,
      "outputs": [
        {
          "output_type": "stream",
          "text": [
            "24\n"
          ],
          "name": "stdout"
        }
      ]
    },
    {
      "cell_type": "code",
      "metadata": {
        "colab": {
          "base_uri": "https://localhost:8080/"
        },
        "id": "gC7eve_xUb8X",
        "outputId": "268d3788-fd3e-43ce-b86b-2ca120cee5c7"
      },
      "source": [
        "values = LA_inertia_data_featured_gini_rfe.values\n",
        "# integer encode direction\n",
        "encoder = LabelEncoder()\n",
        "values[:,col_idx] = encoder.fit_transform(values[:,col_idx])\n",
        "# ensure all data is float\n",
        "values = values.astype('float32')\n",
        "# normalize features\n",
        "scaler = MinMaxScaler(feature_range=(0, 1))\n",
        "scaled = scaler.fit_transform(values)\n",
        "# frame as supervised learning\n",
        "reframed = series_to_supervised(scaled, 1, 1)\n",
        "# drop columns we don't want to predict\n",
        "#reframed.drop(reframed.columns[[9,10,11,12,13,14,15]], axis=1, inplace=True)\n",
        "print(reframed.head())"
      ],
      "execution_count": 288,
      "outputs": [
        {
          "output_type": "stream",
          "text": [
            "   var1(t-1)  var2(t-1)  var3(t-1)  ...  var23(t)  var24(t)  var25(t)\n",
            "1     0.0000     0.0000     0.1997  ...    0.0000    0.0028    0.0000\n",
            "2     0.0000     0.0000     0.1997  ...    0.0000    0.0055    0.0000\n",
            "3     0.0000     0.0000     0.1997  ...    0.0000    0.0083    0.0000\n",
            "4     0.0000     0.0000     0.1997  ...    0.0000    0.0110    0.0000\n",
            "5     0.0000     0.0000     0.1997  ...    0.0000    0.0138    0.0000\n",
            "\n",
            "[5 rows x 50 columns]\n"
          ],
          "name": "stdout"
        }
      ]
    },
    {
      "cell_type": "markdown",
      "metadata": {
        "id": "fmYzWEmrUb8X"
      },
      "source": [
        "### Train Test Split"
      ]
    },
    {
      "cell_type": "code",
      "metadata": {
        "colab": {
          "base_uri": "https://localhost:8080/"
        },
        "id": "_RT1KMHcUb8X",
        "outputId": "10da2324-c00d-4d4a-b1f4-568d956cecf3"
      },
      "source": [
        "\n",
        "# split into train and test sets\n",
        "values = reframed.values\n",
        "rows_count = values.shape[0]\n",
        "# split the 1/5 value\n",
        "train_split = rows_count//5\n",
        "\n",
        "n_train_hours = train_split * 4\n",
        "\n",
        "print(n_train_hours)\n",
        "print('values shape ',values.shape)\n",
        "train = values[:n_train_hours, :]\n",
        "test = values[n_train_hours:, :]\n",
        "# split into input and outputs\n",
        "train_X, train_y = train[:, :-1], train[:, -1]\n",
        "test_X, test_y = test[:, :-1], test[:, -1]\n",
        "# reshape input to be 3D [samples, timesteps, features]\n",
        "train_X = train_X.reshape((train_X.shape[0], 1, train_X.shape[1]))\n",
        "test_X = test_X.reshape((test_X.shape[0], 1, test_X.shape[1]))\n",
        "print(train_X.shape, train_y.shape, test_X.shape, test_y.shape)"
      ],
      "execution_count": 289,
      "outputs": [
        {
          "output_type": "stream",
          "text": [
            "16840\n",
            "values shape  (21053, 50)\n",
            "(16840, 1, 49) (16840,) (4213, 1, 49) (4213,)\n"
          ],
          "name": "stdout"
        }
      ]
    },
    {
      "cell_type": "markdown",
      "metadata": {
        "id": "Gv_CQ_PaUb8X"
      },
      "source": [
        "### Training LSTM for Gini Co-eff feature selected "
      ]
    },
    {
      "cell_type": "code",
      "metadata": {
        "colab": {
          "base_uri": "https://localhost:8080/"
        },
        "id": "EVwdikLOUb8X",
        "outputId": "95622d8c-9817-4451-9258-2e02d9211794"
      },
      "source": [
        "...\n",
        "# design network\n",
        "model = Sequential()\n",
        "model.add(LSTM(50, input_shape=(train_X.shape[1], train_X.shape[2])))\n",
        "model.add(Dense(1))\n",
        "model.compile(loss='mae', optimizer='adam')\n",
        "# fit network\n",
        "history = model.fit(train_X, train_y, epochs=100, batch_size=72, validation_data=(test_X, test_y), verbose=2, shuffle=False)\n"
      ],
      "execution_count": 290,
      "outputs": [
        {
          "output_type": "stream",
          "text": [
            "Epoch 1/100\n",
            "234/234 - 3s - loss: 0.0630 - val_loss: 0.0293\n",
            "Epoch 2/100\n",
            "234/234 - 1s - loss: 0.0522 - val_loss: 0.0271\n",
            "Epoch 3/100\n",
            "234/234 - 1s - loss: 0.0446 - val_loss: 0.0247\n",
            "Epoch 4/100\n",
            "234/234 - 1s - loss: 0.0390 - val_loss: 0.0313\n",
            "Epoch 5/100\n",
            "234/234 - 0s - loss: 0.0353 - val_loss: 0.0231\n",
            "Epoch 6/100\n",
            "234/234 - 1s - loss: 0.0351 - val_loss: 0.0296\n",
            "Epoch 7/100\n",
            "234/234 - 1s - loss: 0.0344 - val_loss: 0.0254\n",
            "Epoch 8/100\n",
            "234/234 - 1s - loss: 0.0362 - val_loss: 0.0261\n",
            "Epoch 9/100\n",
            "234/234 - 0s - loss: 0.0357 - val_loss: 0.0321\n",
            "Epoch 10/100\n",
            "234/234 - 1s - loss: 0.0326 - val_loss: 0.0295\n",
            "Epoch 11/100\n",
            "234/234 - 1s - loss: 0.0323 - val_loss: 0.0255\n",
            "Epoch 12/100\n",
            "234/234 - 1s - loss: 0.0342 - val_loss: 0.0268\n",
            "Epoch 13/100\n",
            "234/234 - 1s - loss: 0.0317 - val_loss: 0.0223\n",
            "Epoch 14/100\n",
            "234/234 - 0s - loss: 0.0320 - val_loss: 0.0233\n",
            "Epoch 15/100\n",
            "234/234 - 1s - loss: 0.0313 - val_loss: 0.0297\n",
            "Epoch 16/100\n",
            "234/234 - 1s - loss: 0.0309 - val_loss: 0.0294\n",
            "Epoch 17/100\n",
            "234/234 - 0s - loss: 0.0312 - val_loss: 0.0303\n",
            "Epoch 18/100\n",
            "234/234 - 0s - loss: 0.0307 - val_loss: 0.0243\n",
            "Epoch 19/100\n",
            "234/234 - 0s - loss: 0.0306 - val_loss: 0.0257\n",
            "Epoch 20/100\n",
            "234/234 - 1s - loss: 0.0304 - val_loss: 0.0219\n",
            "Epoch 21/100\n",
            "234/234 - 0s - loss: 0.0300 - val_loss: 0.0250\n",
            "Epoch 22/100\n",
            "234/234 - 1s - loss: 0.0295 - val_loss: 0.0238\n",
            "Epoch 23/100\n",
            "234/234 - 0s - loss: 0.0296 - val_loss: 0.0262\n",
            "Epoch 24/100\n",
            "234/234 - 1s - loss: 0.0295 - val_loss: 0.0293\n",
            "Epoch 25/100\n",
            "234/234 - 1s - loss: 0.0295 - val_loss: 0.0250\n",
            "Epoch 26/100\n",
            "234/234 - 1s - loss: 0.0293 - val_loss: 0.0266\n",
            "Epoch 27/100\n",
            "234/234 - 0s - loss: 0.0286 - val_loss: 0.0259\n",
            "Epoch 28/100\n",
            "234/234 - 1s - loss: 0.0286 - val_loss: 0.0239\n",
            "Epoch 29/100\n",
            "234/234 - 0s - loss: 0.0291 - val_loss: 0.0238\n",
            "Epoch 30/100\n",
            "234/234 - 1s - loss: 0.0289 - val_loss: 0.0217\n",
            "Epoch 31/100\n",
            "234/234 - 0s - loss: 0.0283 - val_loss: 0.0244\n",
            "Epoch 32/100\n",
            "234/234 - 1s - loss: 0.0285 - val_loss: 0.0224\n",
            "Epoch 33/100\n",
            "234/234 - 0s - loss: 0.0285 - val_loss: 0.0251\n",
            "Epoch 34/100\n",
            "234/234 - 1s - loss: 0.0274 - val_loss: 0.0225\n",
            "Epoch 35/100\n",
            "234/234 - 1s - loss: 0.0281 - val_loss: 0.0239\n",
            "Epoch 36/100\n",
            "234/234 - 1s - loss: 0.0276 - val_loss: 0.0264\n",
            "Epoch 37/100\n",
            "234/234 - 0s - loss: 0.0277 - val_loss: 0.0228\n",
            "Epoch 38/100\n",
            "234/234 - 0s - loss: 0.0282 - val_loss: 0.0212\n",
            "Epoch 39/100\n",
            "234/234 - 0s - loss: 0.0276 - val_loss: 0.0238\n",
            "Epoch 40/100\n",
            "234/234 - 0s - loss: 0.0297 - val_loss: 0.0230\n",
            "Epoch 41/100\n",
            "234/234 - 0s - loss: 0.0283 - val_loss: 0.0252\n",
            "Epoch 42/100\n",
            "234/234 - 0s - loss: 0.0277 - val_loss: 0.0205\n",
            "Epoch 43/100\n",
            "234/234 - 0s - loss: 0.0276 - val_loss: 0.0232\n",
            "Epoch 44/100\n",
            "234/234 - 1s - loss: 0.0282 - val_loss: 0.0229\n",
            "Epoch 45/100\n",
            "234/234 - 1s - loss: 0.0277 - val_loss: 0.0243\n",
            "Epoch 46/100\n",
            "234/234 - 1s - loss: 0.0291 - val_loss: 0.0229\n",
            "Epoch 47/100\n",
            "234/234 - 1s - loss: 0.0283 - val_loss: 0.0273\n",
            "Epoch 48/100\n",
            "234/234 - 1s - loss: 0.0288 - val_loss: 0.0216\n",
            "Epoch 49/100\n",
            "234/234 - 1s - loss: 0.0276 - val_loss: 0.0258\n",
            "Epoch 50/100\n",
            "234/234 - 1s - loss: 0.0282 - val_loss: 0.0214\n",
            "Epoch 51/100\n",
            "234/234 - 0s - loss: 0.0271 - val_loss: 0.0228\n",
            "Epoch 52/100\n",
            "234/234 - 1s - loss: 0.0280 - val_loss: 0.0212\n",
            "Epoch 53/100\n",
            "234/234 - 1s - loss: 0.0274 - val_loss: 0.0248\n",
            "Epoch 54/100\n",
            "234/234 - 1s - loss: 0.0281 - val_loss: 0.0219\n",
            "Epoch 55/100\n",
            "234/234 - 0s - loss: 0.0273 - val_loss: 0.0236\n",
            "Epoch 56/100\n",
            "234/234 - 1s - loss: 0.0279 - val_loss: 0.0213\n",
            "Epoch 57/100\n",
            "234/234 - 0s - loss: 0.0270 - val_loss: 0.0226\n",
            "Epoch 58/100\n",
            "234/234 - 1s - loss: 0.0277 - val_loss: 0.0218\n",
            "Epoch 59/100\n",
            "234/234 - 1s - loss: 0.0269 - val_loss: 0.0226\n",
            "Epoch 60/100\n",
            "234/234 - 1s - loss: 0.0277 - val_loss: 0.0217\n",
            "Epoch 61/100\n",
            "234/234 - 0s - loss: 0.0269 - val_loss: 0.0229\n",
            "Epoch 62/100\n",
            "234/234 - 0s - loss: 0.0277 - val_loss: 0.0213\n",
            "Epoch 63/100\n",
            "234/234 - 0s - loss: 0.0269 - val_loss: 0.0242\n",
            "Epoch 64/100\n",
            "234/234 - 0s - loss: 0.0272 - val_loss: 0.0206\n",
            "Epoch 65/100\n",
            "234/234 - 0s - loss: 0.0264 - val_loss: 0.0230\n",
            "Epoch 66/100\n",
            "234/234 - 0s - loss: 0.0272 - val_loss: 0.0215\n",
            "Epoch 67/100\n",
            "234/234 - 0s - loss: 0.0269 - val_loss: 0.0235\n",
            "Epoch 68/100\n",
            "234/234 - 1s - loss: 0.0272 - val_loss: 0.0204\n",
            "Epoch 69/100\n",
            "234/234 - 1s - loss: 0.0265 - val_loss: 0.0239\n",
            "Epoch 70/100\n",
            "234/234 - 1s - loss: 0.0268 - val_loss: 0.0201\n",
            "Epoch 71/100\n",
            "234/234 - 1s - loss: 0.0260 - val_loss: 0.0234\n",
            "Epoch 72/100\n",
            "234/234 - 1s - loss: 0.0263 - val_loss: 0.0205\n",
            "Epoch 73/100\n",
            "234/234 - 0s - loss: 0.0261 - val_loss: 0.0233\n",
            "Epoch 74/100\n",
            "234/234 - 1s - loss: 0.0267 - val_loss: 0.0199\n",
            "Epoch 75/100\n",
            "234/234 - 0s - loss: 0.0260 - val_loss: 0.0246\n",
            "Epoch 76/100\n",
            "234/234 - 1s - loss: 0.0265 - val_loss: 0.0201\n",
            "Epoch 77/100\n",
            "234/234 - 0s - loss: 0.0263 - val_loss: 0.0249\n",
            "Epoch 78/100\n",
            "234/234 - 1s - loss: 0.0268 - val_loss: 0.0199\n",
            "Epoch 79/100\n",
            "234/234 - 0s - loss: 0.0266 - val_loss: 0.0241\n",
            "Epoch 80/100\n",
            "234/234 - 1s - loss: 0.0271 - val_loss: 0.0198\n",
            "Epoch 81/100\n",
            "234/234 - 1s - loss: 0.0259 - val_loss: 0.0225\n",
            "Epoch 82/100\n",
            "234/234 - 1s - loss: 0.0260 - val_loss: 0.0202\n",
            "Epoch 83/100\n",
            "234/234 - 1s - loss: 0.0259 - val_loss: 0.0214\n",
            "Epoch 84/100\n",
            "234/234 - 1s - loss: 0.0261 - val_loss: 0.0201\n",
            "Epoch 85/100\n",
            "234/234 - 0s - loss: 0.0258 - val_loss: 0.0222\n",
            "Epoch 86/100\n",
            "234/234 - 1s - loss: 0.0265 - val_loss: 0.0200\n",
            "Epoch 87/100\n",
            "234/234 - 0s - loss: 0.0263 - val_loss: 0.0233\n",
            "Epoch 88/100\n",
            "234/234 - 1s - loss: 0.0267 - val_loss: 0.0199\n",
            "Epoch 89/100\n",
            "234/234 - 1s - loss: 0.0259 - val_loss: 0.0230\n",
            "Epoch 90/100\n",
            "234/234 - 1s - loss: 0.0263 - val_loss: 0.0199\n",
            "Epoch 91/100\n",
            "234/234 - 1s - loss: 0.0261 - val_loss: 0.0232\n",
            "Epoch 92/100\n",
            "234/234 - 1s - loss: 0.0262 - val_loss: 0.0199\n",
            "Epoch 93/100\n",
            "234/234 - 1s - loss: 0.0257 - val_loss: 0.0216\n",
            "Epoch 94/100\n",
            "234/234 - 1s - loss: 0.0260 - val_loss: 0.0200\n",
            "Epoch 95/100\n",
            "234/234 - 1s - loss: 0.0257 - val_loss: 0.0224\n",
            "Epoch 96/100\n",
            "234/234 - 1s - loss: 0.0262 - val_loss: 0.0199\n",
            "Epoch 97/100\n",
            "234/234 - 1s - loss: 0.0258 - val_loss: 0.0233\n",
            "Epoch 98/100\n",
            "234/234 - 1s - loss: 0.0260 - val_loss: 0.0199\n",
            "Epoch 99/100\n",
            "234/234 - 1s - loss: 0.0256 - val_loss: 0.0229\n",
            "Epoch 100/100\n",
            "234/234 - 1s - loss: 0.0260 - val_loss: 0.0199\n"
          ],
          "name": "stdout"
        }
      ]
    },
    {
      "cell_type": "code",
      "metadata": {
        "colab": {
          "base_uri": "https://localhost:8080/",
          "height": 267
        },
        "id": "7cEZEk4m9mgV",
        "outputId": "dbb39d51-5b28-4920-f65c-728e07d951bb"
      },
      "source": [
        "# plot history\r\n",
        "plt.plot(history.history['loss'], label='train')\r\n",
        "plt.plot(history.history['val_loss'], label='test')\r\n",
        "plt.legend()\r\n",
        "plt.show()"
      ],
      "execution_count": 291,
      "outputs": [
        {
          "output_type": "display_data",
          "data": {
            "image/png": "[encoded data removed]",
            "text/plain": [
              "<Figure size 432x288 with 1 Axes>"
            ]
          },
          "metadata": {
            "tags": [],
            "needs_background": "light"
          }
        }
      ]
    },
    {
      "cell_type": "markdown",
      "metadata": {
        "id": "3y0fR7KMUb8Y"
      },
      "source": [
        "### Testing LSTM for Gini Co-eff feature selected"
      ]
    },
    {
      "cell_type": "code",
      "metadata": {
        "colab": {
          "base_uri": "https://localhost:8080/"
        },
        "id": "QR641NxdUb8Y",
        "outputId": "3072af0f-a138-4c05-cbe2-67aaae1bd149"
      },
      "source": [
        "import math\n",
        "\n",
        "# make a prediction\n",
        "yhat = model.predict(test_X)\n",
        "test_X1 = test_X.reshape((test_X.shape[0], test_X.shape[2]))\n",
        "# invert scaling for forecast\n",
        "inv_yhat = concatenate((yhat, test_X1[:, 1:]), axis=1)\n",
        "print(inv_yhat.shape)\n",
        "#inv_yhat = scaler.inverse_transform(inv_yhat)\n",
        "inv_yhat = inv_yhat[:,0]\n",
        "# invert scaling for actual\n",
        "test_y = test_y.reshape((len(test_y), 1))\n",
        "inv_y = concatenate((test_y, test_X1[:, 1:]), axis=1)\n",
        "#inv_y = scaler.inverse_transform(inv_y)\n",
        "inv_y = inv_y[:,0]\n",
        "# calculate RMSE\n",
        "mse = mean_squared_error(inv_y, inv_yhat)\n",
        "print('Test MSE: %.3f' % mse)\n",
        "rmse = math.sqrt(mean_squared_error(inv_y, inv_yhat))\n",
        "print('Test RMSE: %.3f' % rmse)\n",
        "\n",
        "print('median_absolute_error', median_absolute_error(inv_y, inv_yhat))\n",
        "print('mean_absolute_error', mean_absolute_error(inv_y, inv_yhat))"
      ],
      "execution_count": 292,
      "outputs": [
        {
          "output_type": "stream",
          "text": [
            "(4213, 49)\n",
            "Test MSE: 0.003\n",
            "Test RMSE: 0.051\n",
            "median_absolute_error 0.0029313262\n",
            "mean_absolute_error 0.019927904\n"
          ],
          "name": "stdout"
        }
      ]
    },
    {
      "cell_type": "markdown",
      "metadata": {
        "id": "p6XKMrM-Uuz9"
      },
      "source": [
        "## Conclusion for Maryland Dataset after Gini\n",
        "\n",
        "| data | MSE  |RMSE  |Median AE  |MAE|\n",
        "|------|------|-----|------|-----|\n",
        "|   without Gini  | 0.003| 0.050|0.004|0.220|\n",
        "|   with Gini Coefficient(pos val)  | 0.003| 0.053|0.005|0.022|\n",
        "|   with Gini ExtraTree Classifier(top6)  | 0.003| 0.052|0.006|0.022|\n",
        "\n"
      ]
    }
  ]
}