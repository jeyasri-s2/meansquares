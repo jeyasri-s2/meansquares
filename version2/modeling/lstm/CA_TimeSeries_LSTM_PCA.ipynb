{
  "nbformat": 4,
  "nbformat_minor": 0,
  "metadata": {
    "colab": {
      "name": "CA_TimeSeries_LSTM_PCA.ipynb",
      "provenance": [],
      "collapsed_sections": [],
      "toc_visible": true,
      "include_colab_link": true
    },
    "kernelspec": {
      "name": "python3",
      "display_name": "Python 3"
    }
  },
  "cells": [
    {
      "cell_type": "markdown",
      "metadata": {
        "id": "view-in-github",
        "colab_type": "text"
      },
      "source": [
        "<a href=\"https://colab.research.google.com/github/aarsanjani/meansquares/blob/master/version2/modeling/lstm/CA_TimeSeries_LSTM_PCA.ipynb\" target=\"_parent\"><img src=\"https://colab.research.google.com/assets/colab-badge.svg\" alt=\"Open In Colab\"/></a>"
      ]
    },
    {
      "cell_type": "markdown",
      "metadata": {
        "id": "Peb3i3j910ZZ"
      },
      "source": [
        "# Goal\n",
        "\n",
        "This colab finds the possible 'New Cases' in some counties in California after PCA analysis "
      ]
    },
    {
      "cell_type": "markdown",
      "metadata": {
        "id": "A2o8leQh2a0W"
      },
      "source": [
        "# Mount Google Drive"
      ]
    },
    {
      "cell_type": "code",
      "metadata": {
        "colab": {
          "base_uri": "https://localhost:8080/"
        },
        "id": "DxQcfW0N1vzY",
        "outputId": "a86ed755-7631-4062-a705-8031555a972a"
      },
      "source": [
        "from google.colab import drive\n",
        "drive.mount('/content/drive',force_remount=True)"
      ],
      "execution_count": 1,
      "outputs": [
        {
          "output_type": "stream",
          "text": [
            "Mounted at /content/drive\n"
          ],
          "name": "stdout"
        }
      ]
    },
    {
      "cell_type": "code",
      "metadata": {
        "colab": {
          "base_uri": "https://localhost:8080/"
        },
        "id": "PeVbIdh82kTF",
        "outputId": "d4dec4a5-03fe-4200-c566-2fc41a98f1e6"
      },
      "source": [
        "!ls '/content/drive/Shared drives/CMPE 295- Master Project/projectdata-2021'"
      ],
      "execution_count": 2,
      "outputs": [
        {
          "output_type": "stream",
          "text": [
            " CA_alldatasets_Jan13.csv\n",
            " CA_CombinedData_Labeled_CDCGuideline_Jan15.csv\n",
            " CA_CovidDataJan10.csv\n",
            " CA_GoogleMobilityDataJan10.csv\n",
            " CA_MarylandData_Labeled_CDCGuideline_Jan15.csv\n",
            " CA_processedMarylandData_Jan11.csv\n",
            " CA_SocialDistancingDataJan10.csv\n",
            " computed_CA_mobility_data.csv\n",
            " data-mask_for_all.csv\n",
            " election_results_2021.csv\n",
            " maryland_inertia_data_allstates_Jan11.csv\n",
            " maryland_inertia_raw_dec28_2020.csv\n",
            " Mask_Rule_Jan10.csv\n",
            " NY_alldatasets_Jan13.csv\n",
            " NY_CombinedData_Labeled_CDCGuideline_Jan15.csv\n",
            " NY_CovidDataJan10.csv\n",
            " NY_GoogleMobilityDataJan10.csv\n",
            " NY_MarylandData_Labeled_CDCGuideline_Jan15.csv\n",
            " NY_processedMarylandData_Jan11.csv\n",
            " NY_SocialDistancingDataJan10.csv\n",
            "'Policy_Map_(Sized)_Full_Data_data.csv'\n",
            " TX_alldatasets_Jan11.csv\n",
            " TX_CombinedData_Labeled_CDCGuideline_Jan15.csv\n",
            " TX_CovidDataJan10.csv\n",
            " TX_GoogleMobilityDataJan10.csv\n",
            " TX_MarylandData_Labeled_CDCGuideline_Jan15.csv\n",
            " TX_processedMarylandData_Jan11.csv\n",
            " TX_processedMarylandData_Jan11.gsheet\n",
            " TX_SocialDistancingDataJan10.csv\n"
          ],
          "name": "stdout"
        }
      ]
    },
    {
      "cell_type": "code",
      "metadata": {
        "id": "558T4YGp2z8V",
        "colab": {
          "base_uri": "https://localhost:8080/"
        },
        "outputId": "2f9b631a-4e24-4c1a-a7d3-524cc7043649"
      },
      "source": [
        "import pandas as pd\n",
        "\n",
        "from tqdm import tqdm\n",
        "import seaborn as sns\n",
        "import numpy as np\n",
        "import matplotlib.pyplot as plt\n",
        "import os\n",
        "from pandas import Series, datetime\n",
        "from pandas.plotting import scatter_matrix, autocorrelation_plot\n",
        "from sklearn.preprocessing import StandardScaler, RobustScaler\n",
        "from sklearn.model_selection import train_test_split, KFold, cross_val_score, GridSearchCV, TimeSeriesSplit\n",
        "from sklearn import metrics\n",
        "from sklearn.metrics import classification_report, confusion_matrix, accuracy_score, mean_squared_error,precision_score\n",
        "from sklearn.pipeline import Pipeline\n",
        "from sklearn.linear_model import LogisticRegression\n",
        "from sklearn.tree import DecisionTreeClassifier\n",
        "from sklearn.neighbors import KNeighborsClassifier\n",
        "from sklearn.discriminant_analysis import LinearDiscriminantAnalysis\n",
        "from sklearn.naive_bayes import GaussianNB\n",
        "from sklearn.cluster import KMeans\n",
        "from sklearn.svm import SVC\n",
        "from sklearn.ensemble import AdaBoostClassifier, GradientBoostingClassifier, RandomForestClassifier, ExtraTreesClassifier\n",
        "from sklearn.metrics import roc_curve, auc\n",
        "import random\n",
        "from statsmodels.graphics.tsaplots import plot_acf, plot_pacf\n",
        "from statsmodels.tsa.arima_model import ARIMA\n",
        "from xgboost import XGBClassifier\n",
        "from sklearn.mixture import GaussianMixture\n",
        "from sklearn.metrics import median_absolute_error, mean_absolute_error\n",
        "\n",
        "\n",
        "import numpy as np\n",
        "import matplotlib.pyplot as plt\n",
        "import pandas as pd\n",
        "pd.set_option('display.float_format', lambda x: '%.4f' % x)\n",
        "import seaborn as sns\n",
        "sns.set_context(\"paper\", font_scale=1.3)\n",
        "sns.set_style('white')\n",
        "import warnings\n",
        "warnings.filterwarnings('ignore')\n",
        "from time import time\n",
        "import matplotlib.ticker as tkr\n",
        "from scipy import stats\n",
        "from statsmodels.tsa.stattools import adfuller\n",
        "from sklearn import preprocessing\n",
        "from statsmodels.tsa.stattools import pacf\n",
        "%matplotlib inline\n",
        "import math\n",
        "import keras\n",
        "from keras.models import Sequential\n",
        "from keras.layers import Dense\n",
        "from keras.layers import LSTM\n",
        "from keras.layers import Dropout\n",
        "from keras.layers import *\n",
        "from sklearn.preprocessing import MinMaxScaler\n",
        "from sklearn.metrics import mean_squared_error\n",
        "from sklearn.metrics import mean_absolute_error\n",
        "from keras.callbacks import EarlyStopping\n"
      ],
      "execution_count": 3,
      "outputs": [
        {
          "output_type": "stream",
          "text": [
            "/usr/local/lib/python3.6/dist-packages/statsmodels/tools/_testing.py:19: FutureWarning: pandas.util.testing is deprecated. Use the functions in the public API at pandas.testing instead.\n",
            "  import pandas.util.testing as tm\n"
          ],
          "name": "stderr"
        }
      ]
    },
    {
      "cell_type": "markdown",
      "metadata": {
        "id": "kn7FlI762nFk"
      },
      "source": [
        "# Load combined data for CA"
      ]
    },
    {
      "cell_type": "code",
      "metadata": {
        "colab": {
          "base_uri": "https://localhost:8080/",
          "height": 326
        },
        "id": "vxUcxn622pxX",
        "outputId": "05d758d5-5647-44ed-e677-a99488ed3fc9"
      },
      "source": [
        "CA_combined_data = pd.read_csv('/content/drive/Shared drives/CMPE 295- Master Project/projectdata-2021/CA_alldatasets_Jan13.csv',low_memory=False)\n",
        "CA_combined_data.head()"
      ],
      "execution_count": 4,
      "outputs": [
        {
          "output_type": "execute_result",
          "data": {
            "text/html": [
              "<div>\n",
              "<style scoped>\n",
              "    .dataframe tbody tr th:only-of-type {\n",
              "        vertical-align: middle;\n",
              "    }\n",
              "\n",
              "    .dataframe tbody tr th {\n",
              "        vertical-align: top;\n",
              "    }\n",
              "\n",
              "    .dataframe thead th {\n",
              "        text-align: right;\n",
              "    }\n",
              "</style>\n",
              "<table border=\"1\" class=\"dataframe\">\n",
              "  <thead>\n",
              "    <tr style=\"text-align: right;\">\n",
              "      <th></th>\n",
              "      <th>Date</th>\n",
              "      <th>Province_State</th>\n",
              "      <th>FIPS</th>\n",
              "      <th>New cases</th>\n",
              "      <th>County Name</th>\n",
              "      <th>population</th>\n",
              "      <th>mask_rule_active</th>\n",
              "      <th>m50</th>\n",
              "      <th>m50_index</th>\n",
              "      <th>retail_and_recreation_percent_change_from_baseline</th>\n",
              "      <th>grocery_and_pharmacy_percent_change_from_baseline</th>\n",
              "      <th>parks_percent_change_from_baseline</th>\n",
              "      <th>transit_stations_percent_change_from_baseline</th>\n",
              "      <th>workplaces_percent_change_from_baseline</th>\n",
              "      <th>residential_percent_change_from_baseline</th>\n",
              "    </tr>\n",
              "  </thead>\n",
              "  <tbody>\n",
              "    <tr>\n",
              "      <th>0</th>\n",
              "      <td>2020-03-01</td>\n",
              "      <td>California</td>\n",
              "      <td>6001</td>\n",
              "      <td>0</td>\n",
              "      <td>Alameda County</td>\n",
              "      <td>1671329</td>\n",
              "      <td>0</td>\n",
              "      <td>3.6840</td>\n",
              "      <td>58</td>\n",
              "      <td>6.0000</td>\n",
              "      <td>9.0000</td>\n",
              "      <td>15.0000</td>\n",
              "      <td>1.0000</td>\n",
              "      <td>4.0000</td>\n",
              "      <td>0.0000</td>\n",
              "    </tr>\n",
              "    <tr>\n",
              "      <th>1</th>\n",
              "      <td>2020-03-02</td>\n",
              "      <td>California</td>\n",
              "      <td>6001</td>\n",
              "      <td>0</td>\n",
              "      <td>Alameda County</td>\n",
              "      <td>1671329</td>\n",
              "      <td>0</td>\n",
              "      <td>6.1820</td>\n",
              "      <td>98</td>\n",
              "      <td>4.0000</td>\n",
              "      <td>7.0000</td>\n",
              "      <td>7.0000</td>\n",
              "      <td>-1.0000</td>\n",
              "      <td>3.0000</td>\n",
              "      <td>0.0000</td>\n",
              "    </tr>\n",
              "    <tr>\n",
              "      <th>2</th>\n",
              "      <td>2020-03-03</td>\n",
              "      <td>California</td>\n",
              "      <td>6001</td>\n",
              "      <td>1</td>\n",
              "      <td>Alameda County</td>\n",
              "      <td>1671329</td>\n",
              "      <td>0</td>\n",
              "      <td>6.2710</td>\n",
              "      <td>100</td>\n",
              "      <td>5.0000</td>\n",
              "      <td>12.0000</td>\n",
              "      <td>41.0000</td>\n",
              "      <td>0.0000</td>\n",
              "      <td>1.0000</td>\n",
              "      <td>-1.0000</td>\n",
              "    </tr>\n",
              "    <tr>\n",
              "      <th>3</th>\n",
              "      <td>2020-03-04</td>\n",
              "      <td>California</td>\n",
              "      <td>6001</td>\n",
              "      <td>0</td>\n",
              "      <td>Alameda County</td>\n",
              "      <td>1671329</td>\n",
              "      <td>0</td>\n",
              "      <td>6.2090</td>\n",
              "      <td>99</td>\n",
              "      <td>1.0000</td>\n",
              "      <td>6.0000</td>\n",
              "      <td>23.0000</td>\n",
              "      <td>-3.0000</td>\n",
              "      <td>1.0000</td>\n",
              "      <td>0.0000</td>\n",
              "    </tr>\n",
              "    <tr>\n",
              "      <th>4</th>\n",
              "      <td>2020-03-05</td>\n",
              "      <td>California</td>\n",
              "      <td>6001</td>\n",
              "      <td>0</td>\n",
              "      <td>Alameda County</td>\n",
              "      <td>1671329</td>\n",
              "      <td>0</td>\n",
              "      <td>6.6540</td>\n",
              "      <td>106</td>\n",
              "      <td>1.0000</td>\n",
              "      <td>6.0000</td>\n",
              "      <td>12.0000</td>\n",
              "      <td>-5.0000</td>\n",
              "      <td>-1.0000</td>\n",
              "      <td>1.0000</td>\n",
              "    </tr>\n",
              "  </tbody>\n",
              "</table>\n",
              "</div>"
            ],
            "text/plain": [
              "         Date  ... residential_percent_change_from_baseline\n",
              "0  2020-03-01  ...                                   0.0000\n",
              "1  2020-03-02  ...                                   0.0000\n",
              "2  2020-03-03  ...                                  -1.0000\n",
              "3  2020-03-04  ...                                   0.0000\n",
              "4  2020-03-05  ...                                   1.0000\n",
              "\n",
              "[5 rows x 15 columns]"
            ]
          },
          "metadata": {
            "tags": []
          },
          "execution_count": 4
        }
      ]
    },
    {
      "cell_type": "code",
      "metadata": {
        "id": "MYZ3RxIU-pXe",
        "outputId": "c78ba18a-5398-4354-e2cd-182e6e610fbc",
        "colab": {
          "base_uri": "https://localhost:8080/"
        }
      },
      "source": [
        "print(len(CA_combined_data.columns))\n",
        "CA_combined_data.columns"
      ],
      "execution_count": 6,
      "outputs": [
        {
          "output_type": "stream",
          "text": [
            "15\n"
          ],
          "name": "stdout"
        },
        {
          "output_type": "execute_result",
          "data": {
            "text/plain": [
              "Index(['Date', 'Province_State', 'FIPS', 'New cases', 'County Name',\n",
              "       'population', 'mask_rule_active', 'm50', 'm50_index',\n",
              "       'retail_and_recreation_percent_change_from_baseline',\n",
              "       'grocery_and_pharmacy_percent_change_from_baseline',\n",
              "       'parks_percent_change_from_baseline',\n",
              "       'transit_stations_percent_change_from_baseline',\n",
              "       'workplaces_percent_change_from_baseline',\n",
              "       'residential_percent_change_from_baseline'],\n",
              "      dtype='object')"
            ]
          },
          "metadata": {
            "tags": []
          },
          "execution_count": 6
        }
      ]
    },
    {
      "cell_type": "code",
      "metadata": {
        "id": "Pt7fcXxd2vu5"
      },
      "source": [
        "X_cols_all = [ 'mask_rule_active','m50', 'm50_index',\n",
        "       'retail_and_recreation_percent_change_from_baseline',\n",
        "       'grocery_and_pharmacy_percent_change_from_baseline',\n",
        "       'parks_percent_change_from_baseline',\n",
        "       'transit_stations_percent_change_from_baseline',\n",
        "       'workplaces_percent_change_from_baseline','population', 'FIPS',\n",
        "       'residential_percent_change_from_baseline','Date','New cases']\n",
        "\n",
        "X_cols_feature_selected = ['retail_and_recreation_percent_change_from_baseline', 'mask_rule_active', 'population', 'FIPS',\n",
        "                           'workplaces_percent_change_from_baseline',  'parks_percent_change_from_baseline', \n",
        "                            'transit_stations_percent_change_from_baseline','Date','New cases']\n"
      ],
      "execution_count": 26,
      "outputs": []
    },
    {
      "cell_type": "code",
      "metadata": {
        "id": "x-PyYOZK-wfd",
        "outputId": "1b3693f5-c346-4e46-da1d-a6f88ef58466",
        "colab": {
          "base_uri": "https://localhost:8080/"
        }
      },
      "source": [
        "len(X_cols_all)"
      ],
      "execution_count": 8,
      "outputs": [
        {
          "output_type": "execute_result",
          "data": {
            "text/plain": [
              "13"
            ]
          },
          "metadata": {
            "tags": []
          },
          "execution_count": 8
        }
      ]
    },
    {
      "cell_type": "code",
      "metadata": {
        "colab": {
          "base_uri": "https://localhost:8080/",
          "height": 360
        },
        "id": "hstwWs6s3Ht-",
        "outputId": "ed99cd4f-2ab9-4da4-acf7-c510c77a4779"
      },
      "source": [
        "LA_combined_data_all = CA_combined_data[CA_combined_data['County Name'] == 'Los Angeles County'][X_cols_all]\n",
        "print(LA_combined_data_all.shape)\n",
        "\n",
        "LA_combined_data_featured = CA_combined_data[CA_combined_data['County Name'] == 'Los Angeles County'][X_cols_feature_selected]\n",
        "print(LA_combined_data_featured.shape)\n",
        "LA_combined_data_all.head(5)"
      ],
      "execution_count": 6,
      "outputs": [
        {
          "output_type": "stream",
          "text": [
            "(300, 11)\n",
            "(300, 7)\n"
          ],
          "name": "stdout"
        },
        {
          "output_type": "execute_result",
          "data": {
            "text/html": [
              "<div>\n",
              "<style scoped>\n",
              "    .dataframe tbody tr th:only-of-type {\n",
              "        vertical-align: middle;\n",
              "    }\n",
              "\n",
              "    .dataframe tbody tr th {\n",
              "        vertical-align: top;\n",
              "    }\n",
              "\n",
              "    .dataframe thead th {\n",
              "        text-align: right;\n",
              "    }\n",
              "</style>\n",
              "<table border=\"1\" class=\"dataframe\">\n",
              "  <thead>\n",
              "    <tr style=\"text-align: right;\">\n",
              "      <th></th>\n",
              "      <th>mask_rule_active</th>\n",
              "      <th>m50</th>\n",
              "      <th>m50_index</th>\n",
              "      <th>retail_and_recreation_percent_change_from_baseline</th>\n",
              "      <th>grocery_and_pharmacy_percent_change_from_baseline</th>\n",
              "      <th>parks_percent_change_from_baseline</th>\n",
              "      <th>transit_stations_percent_change_from_baseline</th>\n",
              "      <th>workplaces_percent_change_from_baseline</th>\n",
              "      <th>residential_percent_change_from_baseline</th>\n",
              "      <th>Date</th>\n",
              "      <th>New cases</th>\n",
              "    </tr>\n",
              "  </thead>\n",
              "  <tbody>\n",
              "    <tr>\n",
              "      <th>4940</th>\n",
              "      <td>0</td>\n",
              "      <td>3.9960</td>\n",
              "      <td>60</td>\n",
              "      <td>4.0000</td>\n",
              "      <td>3.0000</td>\n",
              "      <td>-5.0000</td>\n",
              "      <td>-3.0000</td>\n",
              "      <td>1.0000</td>\n",
              "      <td>0.0000</td>\n",
              "      <td>2020-03-01</td>\n",
              "      <td>0</td>\n",
              "    </tr>\n",
              "    <tr>\n",
              "      <th>4941</th>\n",
              "      <td>0</td>\n",
              "      <td>6.5020</td>\n",
              "      <td>98</td>\n",
              "      <td>5.0000</td>\n",
              "      <td>5.0000</td>\n",
              "      <td>8.0000</td>\n",
              "      <td>1.0000</td>\n",
              "      <td>4.0000</td>\n",
              "      <td>-1.0000</td>\n",
              "      <td>2020-03-02</td>\n",
              "      <td>0</td>\n",
              "    </tr>\n",
              "    <tr>\n",
              "      <th>4942</th>\n",
              "      <td>0</td>\n",
              "      <td>6.5910</td>\n",
              "      <td>99</td>\n",
              "      <td>8.0000</td>\n",
              "      <td>7.0000</td>\n",
              "      <td>32.0000</td>\n",
              "      <td>2.0000</td>\n",
              "      <td>3.0000</td>\n",
              "      <td>-1.0000</td>\n",
              "      <td>2020-03-03</td>\n",
              "      <td>0</td>\n",
              "    </tr>\n",
              "    <tr>\n",
              "      <th>4943</th>\n",
              "      <td>0</td>\n",
              "      <td>6.5950</td>\n",
              "      <td>100</td>\n",
              "      <td>4.0000</td>\n",
              "      <td>6.0000</td>\n",
              "      <td>9.0000</td>\n",
              "      <td>-1.0000</td>\n",
              "      <td>2.0000</td>\n",
              "      <td>0.0000</td>\n",
              "      <td>2020-03-04</td>\n",
              "      <td>6</td>\n",
              "    </tr>\n",
              "    <tr>\n",
              "      <th>4944</th>\n",
              "      <td>0</td>\n",
              "      <td>7.0080</td>\n",
              "      <td>106</td>\n",
              "      <td>4.0000</td>\n",
              "      <td>7.0000</td>\n",
              "      <td>9.0000</td>\n",
              "      <td>0.0000</td>\n",
              "      <td>2.0000</td>\n",
              "      <td>0.0000</td>\n",
              "      <td>2020-03-05</td>\n",
              "      <td>4</td>\n",
              "    </tr>\n",
              "  </tbody>\n",
              "</table>\n",
              "</div>"
            ],
            "text/plain": [
              "      mask_rule_active    m50  ...        Date  New cases\n",
              "4940                 0 3.9960  ...  2020-03-01          0\n",
              "4941                 0 6.5020  ...  2020-03-02          0\n",
              "4942                 0 6.5910  ...  2020-03-03          0\n",
              "4943                 0 6.5950  ...  2020-03-04          6\n",
              "4944                 0 7.0080  ...  2020-03-05          4\n",
              "\n",
              "[5 rows x 11 columns]"
            ]
          },
          "metadata": {
            "tags": []
          },
          "execution_count": 6
        }
      ]
    },
    {
      "cell_type": "code",
      "metadata": {
        "id": "aGVzYJFr4Mjg"
      },
      "source": [
        "from datetime import datetime\n",
        "# load data\n",
        "def parse(x):\n",
        "\treturn datetime.strptime(x, '%Y-%m-%d')\n",
        " \n",
        "def datetime_to_float(d):\n",
        "    date_time_obj = datetime.strptime(d, '%Y-%m-%d')\n",
        "    return date_time_obj.timestamp()"
      ],
      "execution_count": 11,
      "outputs": []
    },
    {
      "cell_type": "code",
      "metadata": {
        "colab": {
          "base_uri": "https://localhost:8080/"
        },
        "id": "ZmXCI5gI6vfs",
        "outputId": "9cf99271-c738-493f-bc99-8834a9b63ccc"
      },
      "source": [
        "len(LA_combined_data_featured.columns)"
      ],
      "execution_count": 8,
      "outputs": [
        {
          "output_type": "execute_result",
          "data": {
            "text/plain": [
              "7"
            ]
          },
          "metadata": {
            "tags": []
          },
          "execution_count": 8
        }
      ]
    },
    {
      "cell_type": "code",
      "metadata": {
        "colab": {
          "base_uri": "https://localhost:8080/",
          "height": 241
        },
        "id": "v5nndUDn4BHm",
        "outputId": "0f927168-5c7d-42a9-c8ed-70f4ed4a298f"
      },
      "source": [
        "LA_combined_data_featured['Date'] = LA_combined_data_featured['Date'].apply(lambda x: datetime_to_float(x))\n",
        "LA_combined_data_all['Date'] = LA_combined_data_all['Date'].apply(lambda x: datetime_to_float(x))\n",
        "\n",
        "#Harris_combined_data.index.name = 'Date'\n",
        "LA_combined_data_featured.head()"
      ],
      "execution_count": 9,
      "outputs": [
        {
          "output_type": "execute_result",
          "data": {
            "text/html": [
              "<div>\n",
              "<style scoped>\n",
              "    .dataframe tbody tr th:only-of-type {\n",
              "        vertical-align: middle;\n",
              "    }\n",
              "\n",
              "    .dataframe tbody tr th {\n",
              "        vertical-align: top;\n",
              "    }\n",
              "\n",
              "    .dataframe thead th {\n",
              "        text-align: right;\n",
              "    }\n",
              "</style>\n",
              "<table border=\"1\" class=\"dataframe\">\n",
              "  <thead>\n",
              "    <tr style=\"text-align: right;\">\n",
              "      <th></th>\n",
              "      <th>retail_and_recreation_percent_change_from_baseline</th>\n",
              "      <th>mask_rule_active</th>\n",
              "      <th>workplaces_percent_change_from_baseline</th>\n",
              "      <th>parks_percent_change_from_baseline</th>\n",
              "      <th>transit_stations_percent_change_from_baseline</th>\n",
              "      <th>Date</th>\n",
              "      <th>New cases</th>\n",
              "    </tr>\n",
              "  </thead>\n",
              "  <tbody>\n",
              "    <tr>\n",
              "      <th>4940</th>\n",
              "      <td>4.0000</td>\n",
              "      <td>0</td>\n",
              "      <td>1.0000</td>\n",
              "      <td>-5.0000</td>\n",
              "      <td>-3.0000</td>\n",
              "      <td>1583020800.0000</td>\n",
              "      <td>0</td>\n",
              "    </tr>\n",
              "    <tr>\n",
              "      <th>4941</th>\n",
              "      <td>5.0000</td>\n",
              "      <td>0</td>\n",
              "      <td>4.0000</td>\n",
              "      <td>8.0000</td>\n",
              "      <td>1.0000</td>\n",
              "      <td>1583107200.0000</td>\n",
              "      <td>0</td>\n",
              "    </tr>\n",
              "    <tr>\n",
              "      <th>4942</th>\n",
              "      <td>8.0000</td>\n",
              "      <td>0</td>\n",
              "      <td>3.0000</td>\n",
              "      <td>32.0000</td>\n",
              "      <td>2.0000</td>\n",
              "      <td>1583193600.0000</td>\n",
              "      <td>0</td>\n",
              "    </tr>\n",
              "    <tr>\n",
              "      <th>4943</th>\n",
              "      <td>4.0000</td>\n",
              "      <td>0</td>\n",
              "      <td>2.0000</td>\n",
              "      <td>9.0000</td>\n",
              "      <td>-1.0000</td>\n",
              "      <td>1583280000.0000</td>\n",
              "      <td>6</td>\n",
              "    </tr>\n",
              "    <tr>\n",
              "      <th>4944</th>\n",
              "      <td>4.0000</td>\n",
              "      <td>0</td>\n",
              "      <td>2.0000</td>\n",
              "      <td>9.0000</td>\n",
              "      <td>0.0000</td>\n",
              "      <td>1583366400.0000</td>\n",
              "      <td>4</td>\n",
              "    </tr>\n",
              "  </tbody>\n",
              "</table>\n",
              "</div>"
            ],
            "text/plain": [
              "      retail_and_recreation_percent_change_from_baseline  ...  New cases\n",
              "4940                                             4.0000   ...          0\n",
              "4941                                             5.0000   ...          0\n",
              "4942                                             8.0000   ...          0\n",
              "4943                                             4.0000   ...          6\n",
              "4944                                             4.0000   ...          4\n",
              "\n",
              "[5 rows x 7 columns]"
            ]
          },
          "metadata": {
            "tags": []
          },
          "execution_count": 9
        }
      ]
    },
    {
      "cell_type": "code",
      "metadata": {
        "colab": {
          "base_uri": "https://localhost:8080/"
        },
        "id": "Tz-elIxItS42",
        "outputId": "3856c050-a94f-4482-9b2c-5cad4f9c290c"
      },
      "source": [
        "print(len(LA_combined_data_featured.columns))\n",
        "LA_combined_data_featured.dtypes"
      ],
      "execution_count": 10,
      "outputs": [
        {
          "output_type": "stream",
          "text": [
            "7\n"
          ],
          "name": "stdout"
        },
        {
          "output_type": "execute_result",
          "data": {
            "text/plain": [
              "retail_and_recreation_percent_change_from_baseline    float64\n",
              "mask_rule_active                                        int64\n",
              "workplaces_percent_change_from_baseline               float64\n",
              "parks_percent_change_from_baseline                    float64\n",
              "transit_stations_percent_change_from_baseline         float64\n",
              "Date                                                  float64\n",
              "New cases                                               int64\n",
              "dtype: object"
            ]
          },
          "metadata": {
            "tags": []
          },
          "execution_count": 10
        }
      ]
    },
    {
      "cell_type": "code",
      "metadata": {
        "id": "iCsJ1kVy-3o1"
      },
      "source": [
        "CA_combined_data_all = CA_combined_data[X_cols_all]\n",
        "CA_combined_data_all['Date'] = CA_combined_data_all['Date'].apply(lambda x: datetime_to_float(x))\n"
      ],
      "execution_count": 12,
      "outputs": []
    },
    {
      "cell_type": "code",
      "metadata": {
        "id": "XqmmSrGV_r-G"
      },
      "source": [
        "CA_combined_data_featured_selected = CA_combined_data[X_cols_feature_selected]\n",
        "CA_combined_data_featured_selected['Date'] = CA_combined_data_featured_selected['Date'].apply(lambda x: datetime_to_float(x))\n"
      ],
      "execution_count": 27,
      "outputs": []
    },
    {
      "cell_type": "markdown",
      "metadata": {
        "id": "G6ZZezSa4dLQ"
      },
      "source": [
        "## Preprocessing data for LSTM"
      ]
    },
    {
      "cell_type": "code",
      "metadata": {
        "id": "skQx3frs5lWf"
      },
      "source": [
        "LA_combined_data_all_selected = LA_combined_data_all[X_cols_all]\n",
        "LA_combined_data_featured_selected = LA_combined_data_featured[X_cols_feature_selected]"
      ],
      "execution_count": 11,
      "outputs": []
    },
    {
      "cell_type": "code",
      "metadata": {
        "id": "Zc1ijcNL45mk"
      },
      "source": [
        "\n",
        "# prepare data for lstm\n",
        "from pandas import read_csv\n",
        "from pandas import DataFrame\n",
        "from pandas import concat\n",
        "from sklearn.preprocessing import LabelEncoder\n",
        "from sklearn.preprocessing import MinMaxScaler\n",
        " \n",
        "# convert series to supervised learning\n",
        "def series_to_supervised(data, n_in=1, n_out=1, dropnan=True):\n",
        "\tn_vars = 1 if type(data) is list else data.shape[1]\n",
        "\tdf = DataFrame(data)\n",
        "\tcols, names = list(), list()\n",
        "\t# input sequence (t-n, ... t-1)\n",
        "\tfor i in range(n_in, 0, -1):\n",
        "\t\tcols.append(df.shift(i))\n",
        "\t\tnames += [('var%d(t-%d)' % (j+1, i)) for j in range(n_vars)]\n",
        "\t# forecast sequence (t, t+1, ... t+n)\n",
        "\tfor i in range(0, n_out):\n",
        "\t\tcols.append(df.shift(-i))\n",
        "\t\tif i == 0:\n",
        "\t\t\tnames += [('var%d(t)' % (j+1)) for j in range(n_vars)]\n",
        "\t\telse:\n",
        "\t\t\tnames += [('var%d(t+%d)' % (j+1, i)) for j in range(n_vars)]\n",
        "\t# put it all together\n",
        "\tagg = concat(cols, axis=1)\n",
        "\tagg.columns = names\n",
        "\t# drop rows with NaN values\n",
        "\tif dropnan:\n",
        "\t\tagg.dropna(inplace=True)\n",
        "\treturn agg"
      ],
      "execution_count": 13,
      "outputs": []
    },
    {
      "cell_type": "markdown",
      "metadata": {
        "id": "t3heHKNijDjM"
      },
      "source": [
        "## All values for CA training data"
      ]
    },
    {
      "cell_type": "markdown",
      "metadata": {
        "id": "ccz0l4hb_D-_"
      },
      "source": [
        ""
      ]
    },
    {
      "cell_type": "code",
      "metadata": {
        "id": "zdYrSdzZ_Ejc",
        "outputId": "b83bc12d-5d62-44af-db10-3d25d7d1ee96",
        "colab": {
          "base_uri": "https://localhost:8080/"
        }
      },
      "source": [
        "# doing for all counties\n",
        "\n",
        "values = CA_combined_data_all.values\n",
        "# integer encode direction\n",
        "encoder = LabelEncoder()\n",
        "values[:,len(X_cols_all)-1] = encoder.fit_transform(values[:,len(X_cols_all)-1])\n",
        "# ensure all data is float\n",
        "values = values.astype('float32')\n",
        "# normalize features\n",
        "scaler = MinMaxScaler(feature_range=(0, 1))\n",
        "scaled = scaler.fit_transform(values)\n",
        "# frame as supervised learning\n",
        "reframed = series_to_supervised(scaled, 1, 1)\n",
        "# drop columns we don't want to predict\n",
        "#reframed.drop(reframed.columns[[9,10,11,12,13,14,15]], axis=1, inplace=True)\n",
        "print(reframed.head())"
      ],
      "execution_count": 14,
      "outputs": [
        {
          "output_type": "stream",
          "text": [
            "   var1(t-1)  var2(t-1)  var3(t-1)  ...  var11(t)  var12(t)  var13(t)\n",
            "1     0.0000     0.0114     0.0041  ...    0.1591    0.0032    0.0213\n",
            "2     0.0000     0.0191     0.0070  ...    0.1364    0.0065    0.0221\n",
            "3     0.0000     0.0194     0.0071  ...    0.1591    0.0097    0.0213\n",
            "4     0.0000     0.0192     0.0071  ...    0.1818    0.0129    0.0213\n",
            "5     0.0000     0.0206     0.0075  ...    0.2045    0.0161    0.0213\n",
            "\n",
            "[5 rows x 26 columns]\n"
          ],
          "name": "stdout"
        }
      ]
    },
    {
      "cell_type": "code",
      "metadata": {
        "colab": {
          "base_uri": "https://localhost:8080/"
        },
        "id": "p7WIkt3l4OCu",
        "outputId": "7b16f5d0-3c5c-4652-a19b-107ff3f066a7"
      },
      "source": [
        "values = LA_combined_data_all_selected.values\n",
        "# integer encode direction\n",
        "encoder = LabelEncoder()\n",
        "values[:,len(X_cols_all)-1] = encoder.fit_transform(values[:,len(X_cols_all)-1])\n",
        "# ensure all data is float\n",
        "values = values.astype('float32')\n",
        "# normalize features\n",
        "scaler = MinMaxScaler(feature_range=(0, 1))\n",
        "scaled = scaler.fit_transform(values)\n",
        "# frame as supervised learning\n",
        "reframed = series_to_supervised(scaled, 1, 1)\n",
        "# drop columns we don't want to predict\n",
        "#reframed.drop(reframed.columns[[9,10,11,12,13,14,15]], axis=1, inplace=True)\n",
        "print(reframed.head())"
      ],
      "execution_count": 13,
      "outputs": [
        {
          "output_type": "stream",
          "text": [
            "   var1(t-1)  var2(t-1)  var3(t-1)  ...  var9(t)  var10(t)  var11(t)\n",
            "1     0.0000     0.5419     0.5405  ...   0.0000    0.0032    0.0000\n",
            "2     0.0000     0.8841     0.8829  ...   0.0000    0.0065    0.0000\n",
            "3     0.0000     0.8962     0.8919  ...   0.0303    0.0097    0.0181\n",
            "4     0.0000     0.8968     0.9009  ...   0.0303    0.0129    0.0108\n",
            "5     0.0000     0.9532     0.9550  ...   0.0303    0.0161    0.0072\n",
            "\n",
            "[5 rows x 22 columns]\n"
          ],
          "name": "stdout"
        }
      ]
    },
    {
      "cell_type": "markdown",
      "metadata": {
        "id": "1tqQokoY4l1R"
      },
      "source": [
        "## Train Test Split"
      ]
    },
    {
      "cell_type": "code",
      "metadata": {
        "colab": {
          "base_uri": "https://localhost:8080/"
        },
        "id": "ZrYxatVf8NUr",
        "outputId": "dc97c499-ad78-4955-9d5b-2d16fa23a38f"
      },
      "source": [
        "values.shape[0]"
      ],
      "execution_count": 14,
      "outputs": [
        {
          "output_type": "execute_result",
          "data": {
            "text/plain": [
              "300"
            ]
          },
          "metadata": {
            "tags": []
          },
          "execution_count": 14
        }
      ]
    },
    {
      "cell_type": "code",
      "metadata": {
        "colab": {
          "base_uri": "https://localhost:8080/"
        },
        "id": "J3BradOz4ilu",
        "outputId": "41c78977-27f7-46cd-e436-19473151c92a"
      },
      "source": [
        "\n",
        "# split into train and test sets\n",
        "values = reframed.values\n",
        "rows_count = values.shape[0]\n",
        "# split the 1/5 value\n",
        "train_split = rows_count//5\n",
        "\n",
        "n_train_hours = train_split * 4\n",
        "\n",
        "print(n_train_hours)\n",
        "print('values shape ',values.shape)\n",
        "train = values[:n_train_hours, :]\n",
        "test = values[n_train_hours:, :]\n",
        "# split into input and outputs\n",
        "train_X, train_y = train[:, :-1], train[:, -1]\n",
        "test_X, test_y = test[:, :-1], test[:, -1]\n",
        "# reshape input to be 3D [samples, timesteps, features]\n",
        "train_X = train_X.reshape((train_X.shape[0], 1, train_X.shape[1]))\n",
        "test_X = test_X.reshape((test_X.shape[0], 1, test_X.shape[1]))\n",
        "print(train_X.shape, train_y.shape, test_X.shape, test_y.shape)"
      ],
      "execution_count": 15,
      "outputs": [
        {
          "output_type": "stream",
          "text": [
            "8068\n",
            "values shape  (10085, 26)\n",
            "(8068, 1, 25) (8068,) (2017, 1, 25) (2017,)\n"
          ],
          "name": "stdout"
        }
      ]
    },
    {
      "cell_type": "markdown",
      "metadata": {
        "id": "F_jMzaXy4q0d"
      },
      "source": [
        "## Training LSTM"
      ]
    },
    {
      "cell_type": "code",
      "metadata": {
        "colab": {
          "base_uri": "https://localhost:8080/",
          "height": 1000
        },
        "id": "F8tOKWVO4oJk",
        "outputId": "f9e50c56-ee55-4191-a05f-40e7661a30e6"
      },
      "source": [
        "...\n",
        "# design network\n",
        "model = Sequential()\n",
        "model.add(LSTM(50, input_shape=(train_X.shape[1], train_X.shape[2])))\n",
        "model.add(Dense(1))\n",
        "model.compile(loss='mae', optimizer='adam')\n",
        "# fit network\n",
        "history = model.fit(train_X, train_y, epochs=100, batch_size=72, validation_data=(test_X, test_y), verbose=2, shuffle=False)\n",
        "# plot history\n",
        "plt.plot(history.history['loss'], label='train')\n",
        "plt.plot(history.history['val_loss'], label='test')\n",
        "plt.legend()\n",
        "plt.show()"
      ],
      "execution_count": 16,
      "outputs": [
        {
          "output_type": "stream",
          "text": [
            "Epoch 1/100\n",
            "113/113 - 3s - loss: 0.1096 - val_loss: 0.0510\n",
            "Epoch 2/100\n",
            "113/113 - 0s - loss: 0.0898 - val_loss: 0.0465\n",
            "Epoch 3/100\n",
            "113/113 - 0s - loss: 0.0752 - val_loss: 0.0448\n",
            "Epoch 4/100\n",
            "113/113 - 0s - loss: 0.0670 - val_loss: 0.0497\n",
            "Epoch 5/100\n",
            "113/113 - 0s - loss: 0.0648 - val_loss: 0.0555\n",
            "Epoch 6/100\n",
            "113/113 - 0s - loss: 0.0629 - val_loss: 0.0549\n",
            "Epoch 7/100\n",
            "113/113 - 0s - loss: 0.0635 - val_loss: 0.0510\n",
            "Epoch 8/100\n",
            "113/113 - 0s - loss: 0.0654 - val_loss: 0.0486\n",
            "Epoch 9/100\n",
            "113/113 - 0s - loss: 0.0634 - val_loss: 0.0488\n",
            "Epoch 10/100\n",
            "113/113 - 0s - loss: 0.0607 - val_loss: 0.0484\n",
            "Epoch 11/100\n",
            "113/113 - 0s - loss: 0.0633 - val_loss: 0.0456\n",
            "Epoch 12/100\n",
            "113/113 - 0s - loss: 0.0616 - val_loss: 0.0446\n",
            "Epoch 13/100\n",
            "113/113 - 0s - loss: 0.0588 - val_loss: 0.0439\n",
            "Epoch 14/100\n",
            "113/113 - 0s - loss: 0.0583 - val_loss: 0.0455\n",
            "Epoch 15/100\n",
            "113/113 - 0s - loss: 0.0575 - val_loss: 0.0466\n",
            "Epoch 16/100\n",
            "113/113 - 0s - loss: 0.0588 - val_loss: 0.0437\n",
            "Epoch 17/100\n",
            "113/113 - 0s - loss: 0.0582 - val_loss: 0.0426\n",
            "Epoch 18/100\n",
            "113/113 - 0s - loss: 0.0570 - val_loss: 0.0457\n",
            "Epoch 19/100\n",
            "113/113 - 0s - loss: 0.0587 - val_loss: 0.0430\n",
            "Epoch 20/100\n",
            "113/113 - 0s - loss: 0.0569 - val_loss: 0.0444\n",
            "Epoch 21/100\n",
            "113/113 - 0s - loss: 0.0580 - val_loss: 0.0439\n",
            "Epoch 22/100\n",
            "113/113 - 0s - loss: 0.0570 - val_loss: 0.0439\n",
            "Epoch 23/100\n",
            "113/113 - 0s - loss: 0.0577 - val_loss: 0.0427\n",
            "Epoch 24/100\n",
            "113/113 - 0s - loss: 0.0571 - val_loss: 0.0429\n",
            "Epoch 25/100\n",
            "113/113 - 0s - loss: 0.0567 - val_loss: 0.0433\n",
            "Epoch 26/100\n",
            "113/113 - 0s - loss: 0.0574 - val_loss: 0.0421\n",
            "Epoch 27/100\n",
            "113/113 - 0s - loss: 0.0567 - val_loss: 0.0420\n",
            "Epoch 28/100\n",
            "113/113 - 0s - loss: 0.0567 - val_loss: 0.0418\n",
            "Epoch 29/100\n",
            "113/113 - 0s - loss: 0.0567 - val_loss: 0.0412\n",
            "Epoch 30/100\n",
            "113/113 - 0s - loss: 0.0567 - val_loss: 0.0423\n",
            "Epoch 31/100\n",
            "113/113 - 0s - loss: 0.0567 - val_loss: 0.0428\n",
            "Epoch 32/100\n",
            "113/113 - 0s - loss: 0.0573 - val_loss: 0.0418\n",
            "Epoch 33/100\n",
            "113/113 - 0s - loss: 0.0564 - val_loss: 0.0428\n",
            "Epoch 34/100\n",
            "113/113 - 0s - loss: 0.0564 - val_loss: 0.0417\n",
            "Epoch 35/100\n",
            "113/113 - 0s - loss: 0.0565 - val_loss: 0.0415\n",
            "Epoch 36/100\n",
            "113/113 - 0s - loss: 0.0560 - val_loss: 0.0417\n",
            "Epoch 37/100\n",
            "113/113 - 0s - loss: 0.0561 - val_loss: 0.0410\n",
            "Epoch 38/100\n",
            "113/113 - 0s - loss: 0.0560 - val_loss: 0.0416\n",
            "Epoch 39/100\n",
            "113/113 - 0s - loss: 0.0562 - val_loss: 0.0419\n",
            "Epoch 40/100\n",
            "113/113 - 0s - loss: 0.0563 - val_loss: 0.0419\n",
            "Epoch 41/100\n",
            "113/113 - 0s - loss: 0.0560 - val_loss: 0.0414\n",
            "Epoch 42/100\n",
            "113/113 - 0s - loss: 0.0560 - val_loss: 0.0416\n",
            "Epoch 43/100\n",
            "113/113 - 0s - loss: 0.0560 - val_loss: 0.0409\n",
            "Epoch 44/100\n",
            "113/113 - 0s - loss: 0.0557 - val_loss: 0.0410\n",
            "Epoch 45/100\n",
            "113/113 - 0s - loss: 0.0556 - val_loss: 0.0418\n",
            "Epoch 46/100\n",
            "113/113 - 0s - loss: 0.0560 - val_loss: 0.0414\n",
            "Epoch 47/100\n",
            "113/113 - 0s - loss: 0.0557 - val_loss: 0.0415\n",
            "Epoch 48/100\n",
            "113/113 - 0s - loss: 0.0557 - val_loss: 0.0416\n",
            "Epoch 49/100\n",
            "113/113 - 0s - loss: 0.0555 - val_loss: 0.0409\n",
            "Epoch 50/100\n",
            "113/113 - 0s - loss: 0.0556 - val_loss: 0.0411\n",
            "Epoch 51/100\n",
            "113/113 - 0s - loss: 0.0552 - val_loss: 0.0418\n",
            "Epoch 52/100\n",
            "113/113 - 0s - loss: 0.0557 - val_loss: 0.0409\n",
            "Epoch 53/100\n",
            "113/113 - 0s - loss: 0.0555 - val_loss: 0.0411\n",
            "Epoch 54/100\n",
            "113/113 - 0s - loss: 0.0551 - val_loss: 0.0418\n",
            "Epoch 55/100\n",
            "113/113 - 0s - loss: 0.0556 - val_loss: 0.0416\n",
            "Epoch 56/100\n",
            "113/113 - 0s - loss: 0.0552 - val_loss: 0.0416\n",
            "Epoch 57/100\n",
            "113/113 - 0s - loss: 0.0554 - val_loss: 0.0416\n",
            "Epoch 58/100\n",
            "113/113 - 0s - loss: 0.0550 - val_loss: 0.0418\n",
            "Epoch 59/100\n",
            "113/113 - 0s - loss: 0.0551 - val_loss: 0.0419\n",
            "Epoch 60/100\n",
            "113/113 - 0s - loss: 0.0551 - val_loss: 0.0420\n",
            "Epoch 61/100\n",
            "113/113 - 0s - loss: 0.0549 - val_loss: 0.0421\n",
            "Epoch 62/100\n",
            "113/113 - 0s - loss: 0.0551 - val_loss: 0.0422\n",
            "Epoch 63/100\n",
            "113/113 - 0s - loss: 0.0551 - val_loss: 0.0417\n",
            "Epoch 64/100\n",
            "113/113 - 0s - loss: 0.0553 - val_loss: 0.0412\n",
            "Epoch 65/100\n",
            "113/113 - 0s - loss: 0.0548 - val_loss: 0.0416\n",
            "Epoch 66/100\n",
            "113/113 - 0s - loss: 0.0547 - val_loss: 0.0419\n",
            "Epoch 67/100\n",
            "113/113 - 0s - loss: 0.0547 - val_loss: 0.0416\n",
            "Epoch 68/100\n",
            "113/113 - 0s - loss: 0.0548 - val_loss: 0.0418\n",
            "Epoch 69/100\n",
            "113/113 - 0s - loss: 0.0547 - val_loss: 0.0418\n",
            "Epoch 70/100\n",
            "113/113 - 0s - loss: 0.0546 - val_loss: 0.0418\n",
            "Epoch 71/100\n",
            "113/113 - 0s - loss: 0.0548 - val_loss: 0.0422\n",
            "Epoch 72/100\n",
            "113/113 - 0s - loss: 0.0546 - val_loss: 0.0419\n",
            "Epoch 73/100\n",
            "113/113 - 0s - loss: 0.0548 - val_loss: 0.0416\n",
            "Epoch 74/100\n",
            "113/113 - 0s - loss: 0.0547 - val_loss: 0.0411\n",
            "Epoch 75/100\n",
            "113/113 - 0s - loss: 0.0551 - val_loss: 0.0408\n",
            "Epoch 76/100\n",
            "113/113 - 0s - loss: 0.0542 - val_loss: 0.0419\n",
            "Epoch 77/100\n",
            "113/113 - 0s - loss: 0.0544 - val_loss: 0.0418\n",
            "Epoch 78/100\n",
            "113/113 - 0s - loss: 0.0550 - val_loss: 0.0407\n",
            "Epoch 79/100\n",
            "113/113 - 0s - loss: 0.0547 - val_loss: 0.0408\n",
            "Epoch 80/100\n",
            "113/113 - 0s - loss: 0.0549 - val_loss: 0.0398\n",
            "Epoch 81/100\n",
            "113/113 - 0s - loss: 0.0549 - val_loss: 0.0394\n",
            "Epoch 82/100\n",
            "113/113 - 0s - loss: 0.0547 - val_loss: 0.0393\n",
            "Epoch 83/100\n",
            "113/113 - 0s - loss: 0.0545 - val_loss: 0.0391\n",
            "Epoch 84/100\n",
            "113/113 - 0s - loss: 0.0544 - val_loss: 0.0390\n",
            "Epoch 85/100\n",
            "113/113 - 0s - loss: 0.0543 - val_loss: 0.0388\n",
            "Epoch 86/100\n",
            "113/113 - 0s - loss: 0.0542 - val_loss: 0.0386\n",
            "Epoch 87/100\n",
            "113/113 - 0s - loss: 0.0542 - val_loss: 0.0387\n",
            "Epoch 88/100\n",
            "113/113 - 0s - loss: 0.0541 - val_loss: 0.0388\n",
            "Epoch 89/100\n",
            "113/113 - 0s - loss: 0.0540 - val_loss: 0.0386\n",
            "Epoch 90/100\n",
            "113/113 - 0s - loss: 0.0540 - val_loss: 0.0385\n",
            "Epoch 91/100\n",
            "113/113 - 0s - loss: 0.0540 - val_loss: 0.0384\n",
            "Epoch 92/100\n",
            "113/113 - 0s - loss: 0.0539 - val_loss: 0.0385\n",
            "Epoch 93/100\n",
            "113/113 - 0s - loss: 0.0539 - val_loss: 0.0383\n",
            "Epoch 94/100\n",
            "113/113 - 0s - loss: 0.0539 - val_loss: 0.0383\n",
            "Epoch 95/100\n",
            "113/113 - 0s - loss: 0.0538 - val_loss: 0.0383\n",
            "Epoch 96/100\n",
            "113/113 - 0s - loss: 0.0537 - val_loss: 0.0382\n",
            "Epoch 97/100\n",
            "113/113 - 0s - loss: 0.0537 - val_loss: 0.0382\n",
            "Epoch 98/100\n",
            "113/113 - 0s - loss: 0.0536 - val_loss: 0.0382\n",
            "Epoch 99/100\n",
            "113/113 - 0s - loss: 0.0536 - val_loss: 0.0382\n",
            "Epoch 100/100\n",
            "113/113 - 0s - loss: 0.0534 - val_loss: 0.0382\n"
          ],
          "name": "stdout"
        },
        {
          "output_type": "display_data",
          "data": {
            "image/png": "[encoded data removed]",
            "text/plain": [
              "<Figure size 432x288 with 1 Axes>"
            ]
          },
          "metadata": {
            "tags": [],
            "needs_background": "light"
          }
        }
      ]
    },
    {
      "cell_type": "markdown",
      "metadata": {
        "id": "ZnFmDLEa4w7g"
      },
      "source": [
        "## Test"
      ]
    },
    {
      "cell_type": "code",
      "metadata": {
        "colab": {
          "base_uri": "https://localhost:8080/"
        },
        "id": "2G98UOaR4yJ8",
        "outputId": "17c7d444-cbdf-422a-e7c6-c34744e3514f"
      },
      "source": [
        "import math\n",
        "\n",
        "# make a prediction\n",
        "yhat = model.predict(test_X)\n",
        "test_X1 = test_X.reshape((test_X.shape[0], test_X.shape[2]))\n",
        "# invert scaling for forecast\n",
        "inv_yhat = concatenate((yhat, test_X1[:, 1:]), axis=1)\n",
        "print(inv_yhat.shape)\n",
        "#inv_yhat = scaler.inverse_transform(inv_yhat)\n",
        "inv_yhat = inv_yhat[:,0]\n",
        "# invert scaling for actual\n",
        "test_y = test_y.reshape((len(test_y), 1))\n",
        "inv_y = concatenate((test_y, test_X1[:, 1:]), axis=1)\n",
        "#inv_y = scaler.inverse_transform(inv_y)\n",
        "inv_y = inv_y[:,0]\n",
        "# calculate RMSE\n",
        "mse = mean_squared_error(inv_y, inv_yhat)\n",
        "print('Test MSE: %.3f' % mse)\n",
        "rmse = math.sqrt(mean_squared_error(inv_y, inv_yhat))\n",
        "print('Test RMSE: %.3f' % rmse)\n",
        "\n",
        "print('median_absolute_error', median_absolute_error(inv_y, inv_yhat))\n",
        "print('mean_absolute_error', mean_absolute_error(inv_y, inv_yhat))"
      ],
      "execution_count": 17,
      "outputs": [
        {
          "output_type": "stream",
          "text": [
            "(2017, 25)\n",
            "Test MSE: 0.007\n",
            "Test RMSE: 0.081\n",
            "median_absolute_error 0.010613672\n",
            "mean_absolute_error 0.038204007\n"
          ],
          "name": "stdout"
        }
      ]
    },
    {
      "cell_type": "code",
      "metadata": {
        "id": "6ELk4c9c-pEN"
      },
      "source": [
        "model.save('LA_lstm.h5')\n"
      ],
      "execution_count": 18,
      "outputs": []
    },
    {
      "cell_type": "markdown",
      "metadata": {
        "id": "xKq3c8_9jQXa"
      },
      "source": [
        "# Preprocessing feature selected data for training"
      ]
    },
    {
      "cell_type": "code",
      "metadata": {
        "colab": {
          "base_uri": "https://localhost:8080/"
        },
        "id": "awyC3BSCjnqY",
        "outputId": "dc1c09ea-b237-4ad2-d9f0-a21e841aaacc"
      },
      "source": [
        "#len(LA_combined_data_featured_selected.columns)\n",
        "len(CA_combined_data_featured_selected.columns)"
      ],
      "execution_count": 20,
      "outputs": [
        {
          "output_type": "execute_result",
          "data": {
            "text/plain": [
              "7"
            ]
          },
          "metadata": {
            "tags": []
          },
          "execution_count": 20
        }
      ]
    },
    {
      "cell_type": "code",
      "metadata": {
        "id": "iwyE5Lut_5kG",
        "outputId": "16a80172-1c14-44d2-9fb0-86888a7cfc62",
        "colab": {
          "base_uri": "https://localhost:8080/"
        }
      },
      "source": [
        "# Doing for all counties\n",
        "\n",
        "values = CA_combined_data_featured_selected.values\n",
        "# integer encode direction\n",
        "encoder = LabelEncoder()\n",
        "values[:,len(X_cols_feature_selected)-1] = encoder.fit_transform(values[:,len(X_cols_feature_selected)-1])\n",
        "# ensure all data is float\n",
        "values = values.astype('float32')\n",
        "# normalize features\n",
        "scaler = MinMaxScaler(feature_range=(0, 1))\n",
        "scaled = scaler.fit_transform(values)\n",
        "# frame as supervised learning\n",
        "reframed = series_to_supervised(scaled, 1, 1)\n",
        "# drop columns we don't want to predict\n",
        "#reframed.drop(reframed.columns[[9,10,11,12,13,14,15]], axis=1, inplace=True)\n",
        "print(reframed.head())"
      ],
      "execution_count": 28,
      "outputs": [
        {
          "output_type": "stream",
          "text": [
            "   var1(t-1)  var2(t-1)  var3(t-1)  ...  var7(t)  var8(t)  var9(t)\n",
            "1     0.6503     0.0000     0.1653  ...   0.4703   0.0032   0.0213\n",
            "2     0.6380     0.0000     0.1653  ...   0.4757   0.0065   0.0221\n",
            "3     0.6442     0.0000     0.1653  ...   0.4595   0.0097   0.0213\n",
            "4     0.6196     0.0000     0.1653  ...   0.4486   0.0129   0.0213\n",
            "5     0.6196     0.0000     0.1653  ...   0.4378   0.0161   0.0213\n",
            "\n",
            "[5 rows x 18 columns]\n"
          ],
          "name": "stdout"
        }
      ]
    },
    {
      "cell_type": "code",
      "metadata": {
        "colab": {
          "base_uri": "https://localhost:8080/"
        },
        "id": "Op6wtKgcjUNm",
        "outputId": "174392fd-0620-4ef6-bef6-a98f8b7e819e"
      },
      "source": [
        "values = LA_combined_data_featured_selected.values\n",
        "# integer encode direction\n",
        "encoder = LabelEncoder()\n",
        "values[:,len(X_cols_feature_selected)-1] = encoder.fit_transform(values[:,len(X_cols_feature_selected)-1])\n",
        "# ensure all data is float\n",
        "values = values.astype('float32')\n",
        "# normalize features\n",
        "scaler = MinMaxScaler(feature_range=(0, 1))\n",
        "scaled = scaler.fit_transform(values)\n",
        "# frame as supervised learning\n",
        "reframed = series_to_supervised(scaled, 1, 1)\n",
        "# drop columns we don't want to predict\n",
        "#reframed.drop(reframed.columns[[9,10,11,12,13,14,15]], axis=1, inplace=True)\n",
        "print(reframed.head())"
      ],
      "execution_count": 19,
      "outputs": [
        {
          "output_type": "stream",
          "text": [
            "   var1(t-1)  var2(t-1)  var3(t-1)  ...  var5(t)  var6(t)  var7(t)\n",
            "1     0.9512     0.0000     0.9655  ...   0.9863   0.0032   0.0000\n",
            "2     0.9634     0.0000     1.0000  ...   1.0000   0.0065   0.0000\n",
            "3     1.0000     0.0000     0.9885  ...   0.9589   0.0097   0.0181\n",
            "4     0.9512     0.0000     0.9770  ...   0.9726   0.0129   0.0108\n",
            "5     0.9512     0.0000     0.9770  ...   0.9452   0.0161   0.0072\n",
            "\n",
            "[5 rows x 14 columns]\n"
          ],
          "name": "stdout"
        }
      ]
    },
    {
      "cell_type": "markdown",
      "metadata": {
        "id": "CtNQl7UFjhBG"
      },
      "source": [
        "## Train Test split"
      ]
    },
    {
      "cell_type": "code",
      "metadata": {
        "colab": {
          "base_uri": "https://localhost:8080/"
        },
        "id": "9uQoint5jUdo",
        "outputId": "28615787-218b-446e-98e6-32c5bd5dbaa6"
      },
      "source": [
        "\n",
        "# split into train and test sets\n",
        "values = reframed.values\n",
        "rows_count = values.shape[0]\n",
        "# split the 1/5 value\n",
        "train_split = rows_count//5\n",
        "\n",
        "n_train_hours = train_split * 4\n",
        "\n",
        "print(n_train_hours)\n",
        "print('values shape ',values.shape)\n",
        "train = values[:n_train_hours, :]\n",
        "test = values[n_train_hours:, :]\n",
        "# split into input and outputs\n",
        "train_X, train_y = train[:, :-1], train[:, -1]\n",
        "test_X, test_y = test[:, :-1], test[:, -1]\n",
        "# reshape input to be 3D [samples, timesteps, features]\n",
        "train_X = train_X.reshape((train_X.shape[0], 1, train_X.shape[1]))\n",
        "test_X = test_X.reshape((test_X.shape[0], 1, test_X.shape[1]))\n",
        "print(train_X.shape, train_y.shape, test_X.shape, test_y.shape)"
      ],
      "execution_count": 29,
      "outputs": [
        {
          "output_type": "stream",
          "text": [
            "8128\n",
            "values shape  (10161, 18)\n",
            "(8128, 1, 17) (8128,) (2033, 1, 17) (2033,)\n"
          ],
          "name": "stdout"
        }
      ]
    },
    {
      "cell_type": "markdown",
      "metadata": {
        "id": "_UahqIBqjvVP"
      },
      "source": [
        "## Training LSTM for feature selected data"
      ]
    },
    {
      "cell_type": "code",
      "metadata": {
        "colab": {
          "base_uri": "https://localhost:8080/"
        },
        "id": "w8-AFQysjUbC",
        "outputId": "c614e71c-8941-4d9e-b1ae-52f6175bae4d"
      },
      "source": [
        "...\n",
        "# design network\n",
        "model = Sequential()\n",
        "model.add(LSTM(50, input_shape=(train_X.shape[1], train_X.shape[2])))\n",
        "model.add(Dense(1))\n",
        "model.compile(loss='mae', optimizer='adam')\n",
        "# fit network\n",
        "history = model.fit(train_X, train_y, epochs=100, batch_size=72, validation_data=(test_X, test_y), verbose=2, shuffle=False)\n"
      ],
      "execution_count": 30,
      "outputs": [
        {
          "output_type": "stream",
          "text": [
            "Epoch 1/100\n",
            "113/113 - 2s - loss: 0.1019 - val_loss: 0.0516\n",
            "Epoch 2/100\n",
            "113/113 - 0s - loss: 0.0817 - val_loss: 0.0461\n",
            "Epoch 3/100\n",
            "113/113 - 0s - loss: 0.0702 - val_loss: 0.0403\n",
            "Epoch 4/100\n",
            "113/113 - 0s - loss: 0.0633 - val_loss: 0.0428\n",
            "Epoch 5/100\n",
            "113/113 - 0s - loss: 0.0605 - val_loss: 0.0435\n",
            "Epoch 6/100\n",
            "113/113 - 0s - loss: 0.0606 - val_loss: 0.0442\n",
            "Epoch 7/100\n",
            "113/113 - 0s - loss: 0.0577 - val_loss: 0.0456\n",
            "Epoch 8/100\n",
            "113/113 - 0s - loss: 0.0597 - val_loss: 0.0434\n",
            "Epoch 9/100\n",
            "113/113 - 0s - loss: 0.0573 - val_loss: 0.0470\n",
            "Epoch 10/100\n",
            "113/113 - 0s - loss: 0.0596 - val_loss: 0.0404\n",
            "Epoch 11/100\n",
            "113/113 - 0s - loss: 0.0575 - val_loss: 0.0422\n",
            "Epoch 12/100\n",
            "113/113 - 0s - loss: 0.0577 - val_loss: 0.0424\n",
            "Epoch 13/100\n",
            "113/113 - 0s - loss: 0.0581 - val_loss: 0.0416\n",
            "Epoch 14/100\n",
            "113/113 - 0s - loss: 0.0575 - val_loss: 0.0410\n",
            "Epoch 15/100\n",
            "113/113 - 0s - loss: 0.0576 - val_loss: 0.0410\n",
            "Epoch 16/100\n",
            "113/113 - 0s - loss: 0.0572 - val_loss: 0.0407\n",
            "Epoch 17/100\n",
            "113/113 - 0s - loss: 0.0573 - val_loss: 0.0400\n",
            "Epoch 18/100\n",
            "113/113 - 0s - loss: 0.0568 - val_loss: 0.0401\n",
            "Epoch 19/100\n",
            "113/113 - 0s - loss: 0.0567 - val_loss: 0.0403\n",
            "Epoch 20/100\n",
            "113/113 - 0s - loss: 0.0569 - val_loss: 0.0395\n",
            "Epoch 21/100\n",
            "113/113 - 0s - loss: 0.0562 - val_loss: 0.0399\n",
            "Epoch 22/100\n",
            "113/113 - 0s - loss: 0.0565 - val_loss: 0.0397\n",
            "Epoch 23/100\n",
            "113/113 - 0s - loss: 0.0562 - val_loss: 0.0398\n",
            "Epoch 24/100\n",
            "113/113 - 0s - loss: 0.0564 - val_loss: 0.0394\n",
            "Epoch 25/100\n",
            "113/113 - 0s - loss: 0.0560 - val_loss: 0.0395\n",
            "Epoch 26/100\n",
            "113/113 - 0s - loss: 0.0562 - val_loss: 0.0394\n",
            "Epoch 27/100\n",
            "113/113 - 0s - loss: 0.0560 - val_loss: 0.0394\n",
            "Epoch 28/100\n",
            "113/113 - 0s - loss: 0.0560 - val_loss: 0.0393\n",
            "Epoch 29/100\n",
            "113/113 - 0s - loss: 0.0558 - val_loss: 0.0392\n",
            "Epoch 30/100\n",
            "113/113 - 0s - loss: 0.0557 - val_loss: 0.0392\n",
            "Epoch 31/100\n",
            "113/113 - 1s - loss: 0.0555 - val_loss: 0.0391\n",
            "Epoch 32/100\n",
            "113/113 - 0s - loss: 0.0554 - val_loss: 0.0390\n",
            "Epoch 33/100\n",
            "113/113 - 0s - loss: 0.0552 - val_loss: 0.0391\n",
            "Epoch 34/100\n",
            "113/113 - 0s - loss: 0.0552 - val_loss: 0.0389\n",
            "Epoch 35/100\n",
            "113/113 - 0s - loss: 0.0553 - val_loss: 0.0391\n",
            "Epoch 36/100\n",
            "113/113 - 0s - loss: 0.0551 - val_loss: 0.0391\n",
            "Epoch 37/100\n",
            "113/113 - 0s - loss: 0.0551 - val_loss: 0.0391\n",
            "Epoch 38/100\n",
            "113/113 - 0s - loss: 0.0551 - val_loss: 0.0389\n",
            "Epoch 39/100\n",
            "113/113 - 1s - loss: 0.0552 - val_loss: 0.0393\n",
            "Epoch 40/100\n",
            "113/113 - 0s - loss: 0.0551 - val_loss: 0.0389\n",
            "Epoch 41/100\n",
            "113/113 - 0s - loss: 0.0550 - val_loss: 0.0388\n",
            "Epoch 42/100\n",
            "113/113 - 0s - loss: 0.0552 - val_loss: 0.0390\n",
            "Epoch 43/100\n",
            "113/113 - 0s - loss: 0.0550 - val_loss: 0.0387\n",
            "Epoch 44/100\n",
            "113/113 - 0s - loss: 0.0549 - val_loss: 0.0387\n",
            "Epoch 45/100\n",
            "113/113 - 0s - loss: 0.0548 - val_loss: 0.0386\n",
            "Epoch 46/100\n",
            "113/113 - 0s - loss: 0.0549 - val_loss: 0.0387\n",
            "Epoch 47/100\n",
            "113/113 - 1s - loss: 0.0547 - val_loss: 0.0386\n",
            "Epoch 48/100\n",
            "113/113 - 0s - loss: 0.0548 - val_loss: 0.0387\n",
            "Epoch 49/100\n",
            "113/113 - 0s - loss: 0.0547 - val_loss: 0.0388\n",
            "Epoch 50/100\n",
            "113/113 - 0s - loss: 0.0547 - val_loss: 0.0388\n",
            "Epoch 51/100\n",
            "113/113 - 0s - loss: 0.0548 - val_loss: 0.0387\n",
            "Epoch 52/100\n",
            "113/113 - 0s - loss: 0.0547 - val_loss: 0.0387\n",
            "Epoch 53/100\n",
            "113/113 - 0s - loss: 0.0546 - val_loss: 0.0387\n",
            "Epoch 54/100\n",
            "113/113 - 1s - loss: 0.0546 - val_loss: 0.0385\n",
            "Epoch 55/100\n",
            "113/113 - 0s - loss: 0.0545 - val_loss: 0.0387\n",
            "Epoch 56/100\n",
            "113/113 - 0s - loss: 0.0545 - val_loss: 0.0386\n",
            "Epoch 57/100\n",
            "113/113 - 0s - loss: 0.0545 - val_loss: 0.0385\n",
            "Epoch 58/100\n",
            "113/113 - 0s - loss: 0.0544 - val_loss: 0.0386\n",
            "Epoch 59/100\n",
            "113/113 - 0s - loss: 0.0543 - val_loss: 0.0386\n",
            "Epoch 60/100\n",
            "113/113 - 0s - loss: 0.0543 - val_loss: 0.0386\n",
            "Epoch 61/100\n",
            "113/113 - 0s - loss: 0.0543 - val_loss: 0.0387\n",
            "Epoch 62/100\n",
            "113/113 - 0s - loss: 0.0542 - val_loss: 0.0387\n",
            "Epoch 63/100\n",
            "113/113 - 0s - loss: 0.0542 - val_loss: 0.0387\n",
            "Epoch 64/100\n",
            "113/113 - 0s - loss: 0.0542 - val_loss: 0.0387\n",
            "Epoch 65/100\n",
            "113/113 - 0s - loss: 0.0541 - val_loss: 0.0388\n",
            "Epoch 66/100\n",
            "113/113 - 0s - loss: 0.0540 - val_loss: 0.0388\n",
            "Epoch 67/100\n",
            "113/113 - 0s - loss: 0.0540 - val_loss: 0.0387\n",
            "Epoch 68/100\n",
            "113/113 - 0s - loss: 0.0539 - val_loss: 0.0388\n",
            "Epoch 69/100\n",
            "113/113 - 0s - loss: 0.0539 - val_loss: 0.0388\n",
            "Epoch 70/100\n",
            "113/113 - 0s - loss: 0.0539 - val_loss: 0.0388\n",
            "Epoch 71/100\n",
            "113/113 - 0s - loss: 0.0538 - val_loss: 0.0388\n",
            "Epoch 72/100\n",
            "113/113 - 0s - loss: 0.0538 - val_loss: 0.0388\n",
            "Epoch 73/100\n",
            "113/113 - 0s - loss: 0.0537 - val_loss: 0.0387\n",
            "Epoch 74/100\n",
            "113/113 - 0s - loss: 0.0536 - val_loss: 0.0388\n",
            "Epoch 75/100\n",
            "113/113 - 0s - loss: 0.0535 - val_loss: 0.0385\n",
            "Epoch 76/100\n",
            "113/113 - 0s - loss: 0.0536 - val_loss: 0.0387\n",
            "Epoch 77/100\n",
            "113/113 - 0s - loss: 0.0538 - val_loss: 0.0384\n",
            "Epoch 78/100\n",
            "113/113 - 0s - loss: 0.0533 - val_loss: 0.0386\n",
            "Epoch 79/100\n",
            "113/113 - 0s - loss: 0.0535 - val_loss: 0.0385\n",
            "Epoch 80/100\n",
            "113/113 - 0s - loss: 0.0532 - val_loss: 0.0383\n",
            "Epoch 81/100\n",
            "113/113 - 0s - loss: 0.0534 - val_loss: 0.0383\n",
            "Epoch 82/100\n",
            "113/113 - 0s - loss: 0.0531 - val_loss: 0.0381\n",
            "Epoch 83/100\n",
            "113/113 - 0s - loss: 0.0535 - val_loss: 0.0380\n",
            "Epoch 84/100\n",
            "113/113 - 0s - loss: 0.0536 - val_loss: 0.0381\n",
            "Epoch 85/100\n",
            "113/113 - 0s - loss: 0.0533 - val_loss: 0.0379\n",
            "Epoch 86/100\n",
            "113/113 - 0s - loss: 0.0539 - val_loss: 0.0380\n",
            "Epoch 87/100\n",
            "113/113 - 0s - loss: 0.0534 - val_loss: 0.0379\n",
            "Epoch 88/100\n",
            "113/113 - 0s - loss: 0.0537 - val_loss: 0.0379\n",
            "Epoch 89/100\n",
            "113/113 - 0s - loss: 0.0533 - val_loss: 0.0377\n",
            "Epoch 90/100\n",
            "113/113 - 0s - loss: 0.0537 - val_loss: 0.0378\n",
            "Epoch 91/100\n",
            "113/113 - 0s - loss: 0.0533 - val_loss: 0.0377\n",
            "Epoch 92/100\n",
            "113/113 - 0s - loss: 0.0536 - val_loss: 0.0376\n",
            "Epoch 93/100\n",
            "113/113 - 0s - loss: 0.0532 - val_loss: 0.0377\n",
            "Epoch 94/100\n",
            "113/113 - 0s - loss: 0.0534 - val_loss: 0.0375\n",
            "Epoch 95/100\n",
            "113/113 - 0s - loss: 0.0532 - val_loss: 0.0376\n",
            "Epoch 96/100\n",
            "113/113 - 0s - loss: 0.0536 - val_loss: 0.0375\n",
            "Epoch 97/100\n",
            "113/113 - 0s - loss: 0.0532 - val_loss: 0.0374\n",
            "Epoch 98/100\n",
            "113/113 - 0s - loss: 0.0540 - val_loss: 0.0374\n",
            "Epoch 99/100\n",
            "113/113 - 0s - loss: 0.0534 - val_loss: 0.0374\n",
            "Epoch 100/100\n",
            "113/113 - 0s - loss: 0.0541 - val_loss: 0.0374\n"
          ],
          "name": "stdout"
        }
      ]
    },
    {
      "cell_type": "code",
      "metadata": {
        "colab": {
          "base_uri": "https://localhost:8080/",
          "height": 267
        },
        "id": "wqeHch9kyQFJ",
        "outputId": "e336b10a-fadb-4ce8-9fde-4594900ed4b3"
      },
      "source": [
        "# plot history\n",
        "plt.plot(history.history['loss'], label='train')\n",
        "plt.plot(history.history['val_loss'], label='test')\n",
        "plt.legend()\n",
        "plt.show()"
      ],
      "execution_count": 31,
      "outputs": [
        {
          "output_type": "display_data",
          "data": {
            "image/png": "[encoded data removed]",
            "text/plain": [
              "<Figure size 432x288 with 1 Axes>"
            ]
          },
          "metadata": {
            "tags": [],
            "needs_background": "light"
          }
        }
      ]
    },
    {
      "cell_type": "markdown",
      "metadata": {
        "id": "gX1VImIbj8zi"
      },
      "source": [
        "## Testing feature selected data"
      ]
    },
    {
      "cell_type": "code",
      "metadata": {
        "colab": {
          "base_uri": "https://localhost:8080/"
        },
        "id": "DaqF9091jzf0",
        "outputId": "bc06c22f-15dd-4601-c1cb-da6d01bbf4fb"
      },
      "source": [
        "import math\n",
        "\n",
        "# make a prediction\n",
        "yhat = model.predict(test_X)\n",
        "test_X1 = test_X.reshape((test_X.shape[0], test_X.shape[2]))\n",
        "# invert scaling for forecast\n",
        "inv_yhat = concatenate((yhat, test_X1[:, 1:]), axis=1)\n",
        "print(inv_yhat.shape)\n",
        "#inv_yhat = scaler.inverse_transform(inv_yhat)\n",
        "inv_yhat = inv_yhat[:,0]\n",
        "# invert scaling for actual\n",
        "test_y = test_y.reshape((len(test_y), 1))\n",
        "inv_y = concatenate((test_y, test_X1[:, 1:]), axis=1)\n",
        "#inv_y = scaler.inverse_transform(inv_y)\n",
        "inv_y = inv_y[:,0]\n",
        "# calculate RMSE\n",
        "mse = mean_squared_error(inv_y, inv_yhat)\n",
        "print('Test MSE: %.3f' % mse)\n",
        "rmse = math.sqrt(mean_squared_error(inv_y, inv_yhat))\n",
        "print('Test RMSE: %.3f' % rmse)\n",
        "print('median_absolute_error', median_absolute_error(inv_y, inv_yhat))\n",
        "print('mean_absolute_error', mean_absolute_error(inv_y, inv_yhat))"
      ],
      "execution_count": 32,
      "outputs": [
        {
          "output_type": "stream",
          "text": [
            "(2033, 17)\n",
            "Test MSE: 0.006\n",
            "Test RMSE: 0.079\n",
            "median_absolute_error 0.011335719\n",
            "mean_absolute_error 0.037401635\n"
          ],
          "name": "stdout"
        }
      ]
    },
    {
      "cell_type": "markdown",
      "metadata": {
        "id": "w-j9VGdqkKun"
      },
      "source": [
        "# Conclusion for all dataset after PCA\n",
        "\n",
        "| data | MSE  |RMSE  |Median AE  |MAE|\n",
        "|------|------|-----|------|-----|\n",
        "|   without PCA  | 0.117| 0.342|0.335|0.315|\n",
        "|   with PCA  | 0.085| 0.291|0.272|0.264|"
      ]
    },
    {
      "cell_type": "markdown",
      "metadata": {
        "id": "m_89usVBAnmh"
      },
      "source": [
        "# Load Maryland inertia"
      ]
    },
    {
      "cell_type": "code",
      "metadata": {
        "colab": {
          "base_uri": "https://localhost:8080/",
          "height": 326
        },
        "id": "DB3Uu_ByAphS",
        "outputId": "813837e3-3e24-4aaf-b027-c0412dc945bb"
      },
      "source": [
        "CA_maryland_sd_inertia = pd.read_csv('/content/drive/Shared drives/CMPE 295- Master Project/projectdata-2021/CA_processedMarylandData_Jan11.csv',low_memory=False)\n",
        "CA_maryland_sd_inertia.head(5)"
      ],
      "execution_count": 24,
      "outputs": [
        {
          "output_type": "execute_result",
          "data": {
            "text/html": [
              "<div>\n",
              "<style scoped>\n",
              "    .dataframe tbody tr th:only-of-type {\n",
              "        vertical-align: middle;\n",
              "    }\n",
              "\n",
              "    .dataframe tbody tr th {\n",
              "        vertical-align: top;\n",
              "    }\n",
              "\n",
              "    .dataframe thead th {\n",
              "        text-align: right;\n",
              "    }\n",
              "</style>\n",
              "<table border=\"1\" class=\"dataframe\">\n",
              "  <thead>\n",
              "    <tr style=\"text-align: right;\">\n",
              "      <th></th>\n",
              "      <th>countyFIPS</th>\n",
              "      <th>County Name</th>\n",
              "      <th>State</th>\n",
              "      <th>population</th>\n",
              "      <th>CTFIPS</th>\n",
              "      <th>CTNAME</th>\n",
              "      <th>STFIPS</th>\n",
              "      <th>Social.distancing.index</th>\n",
              "      <th>X..staying.home</th>\n",
              "      <th>Trips.person</th>\n",
              "      <th>X..out.of.county.trips</th>\n",
              "      <th>X..out.of.state.trips</th>\n",
              "      <th>Miles.person</th>\n",
              "      <th>Work.trips.person</th>\n",
              "      <th>Non.work.trips.person</th>\n",
              "      <th>New.COVID.cases</th>\n",
              "      <th>Population</th>\n",
              "      <th>X..change.in.consumption</th>\n",
              "      <th>date</th>\n",
              "      <th>Transit.mode.share</th>\n",
              "      <th>X..people.older.than.60</th>\n",
              "      <th>Median.income</th>\n",
              "      <th>X..African.Americans</th>\n",
              "      <th>X..Hispanic.Americans</th>\n",
              "      <th>X..Male</th>\n",
              "      <th>Population.density</th>\n",
              "      <th>Employment.density</th>\n",
              "      <th>X..hot.spots.1000.people</th>\n",
              "      <th>Hospital.beds.1000.people</th>\n",
              "      <th>ICUs.1000.people</th>\n",
              "      <th>X..contact.tracing.workers.1000.people</th>\n",
              "      <th>New.cases.1000.people</th>\n",
              "      <th>Active.cases.1000.people</th>\n",
              "      <th>X.days..decreasing.COVID.cases</th>\n",
              "      <th>X..hospital.bed.utilization</th>\n",
              "      <th>Testing.capacity</th>\n",
              "      <th>Tests.done.1000.people</th>\n",
              "      <th>X..ICU.utilization</th>\n",
              "      <th>Ventilator.shortage</th>\n",
              "      <th>Imported.COVID.cases</th>\n",
              "      <th>COVID.exposure.1000.people</th>\n",
              "      <th>X.days..decreasing.ILI.cases</th>\n",
              "      <th>Unemployment.claims.1000.people</th>\n",
              "      <th>Unemployment.rate</th>\n",
              "      <th>X..working.from.home</th>\n",
              "      <th>Cumulative.inflation.rate</th>\n",
              "      <th>COVID.death.rate</th>\n",
              "    </tr>\n",
              "  </thead>\n",
              "  <tbody>\n",
              "    <tr>\n",
              "      <th>0</th>\n",
              "      <td>6001</td>\n",
              "      <td>Alameda County</td>\n",
              "      <td>CA</td>\n",
              "      <td>1671329</td>\n",
              "      <td>6001</td>\n",
              "      <td>Alameda County</td>\n",
              "      <td>6</td>\n",
              "      <td>50</td>\n",
              "      <td>32</td>\n",
              "      <td>2.4100</td>\n",
              "      <td>26.1000</td>\n",
              "      <td>0.4000</td>\n",
              "      <td>38.0000</td>\n",
              "      <td>0.2000</td>\n",
              "      <td>2.2100</td>\n",
              "      <td>0</td>\n",
              "      <td>1666753</td>\n",
              "      <td>-21.7000</td>\n",
              "      <td>2020-01-01</td>\n",
              "      <td>15.0400</td>\n",
              "      <td>19</td>\n",
              "      <td>92574</td>\n",
              "      <td>10.5000</td>\n",
              "      <td>22.5000</td>\n",
              "      <td>49.1100</td>\n",
              "      <td>2002</td>\n",
              "      <td>1155</td>\n",
              "      <td>131</td>\n",
              "      <td>2.0500</td>\n",
              "      <td>0.2200</td>\n",
              "      <td>nan</td>\n",
              "      <td>0.0000</td>\n",
              "      <td>0.0000</td>\n",
              "      <td>0</td>\n",
              "      <td>54.0000</td>\n",
              "      <td>0.0000</td>\n",
              "      <td>0.0000</td>\n",
              "      <td>0.0000</td>\n",
              "      <td>0</td>\n",
              "      <td>0</td>\n",
              "      <td>0.0000</td>\n",
              "      <td>0</td>\n",
              "      <td>0.9000</td>\n",
              "      <td>3.9000</td>\n",
              "      <td>5.7000</td>\n",
              "      <td>0.3000</td>\n",
              "      <td>0.0000</td>\n",
              "    </tr>\n",
              "    <tr>\n",
              "      <th>1</th>\n",
              "      <td>6001</td>\n",
              "      <td>Alameda County</td>\n",
              "      <td>CA</td>\n",
              "      <td>1671329</td>\n",
              "      <td>6001</td>\n",
              "      <td>Alameda County</td>\n",
              "      <td>6</td>\n",
              "      <td>24</td>\n",
              "      <td>22</td>\n",
              "      <td>3.1700</td>\n",
              "      <td>27.9000</td>\n",
              "      <td>0.4000</td>\n",
              "      <td>38.5000</td>\n",
              "      <td>0.5000</td>\n",
              "      <td>2.6600</td>\n",
              "      <td>0</td>\n",
              "      <td>1666753</td>\n",
              "      <td>-5.8000</td>\n",
              "      <td>2020-01-02</td>\n",
              "      <td>15.0400</td>\n",
              "      <td>19</td>\n",
              "      <td>92574</td>\n",
              "      <td>10.5000</td>\n",
              "      <td>22.5000</td>\n",
              "      <td>49.1100</td>\n",
              "      <td>2002</td>\n",
              "      <td>1155</td>\n",
              "      <td>131</td>\n",
              "      <td>2.0500</td>\n",
              "      <td>0.2200</td>\n",
              "      <td>nan</td>\n",
              "      <td>0.0000</td>\n",
              "      <td>0.0000</td>\n",
              "      <td>0</td>\n",
              "      <td>54.0000</td>\n",
              "      <td>0.0000</td>\n",
              "      <td>0.0000</td>\n",
              "      <td>0.0000</td>\n",
              "      <td>0</td>\n",
              "      <td>0</td>\n",
              "      <td>0.0000</td>\n",
              "      <td>0</td>\n",
              "      <td>0.9000</td>\n",
              "      <td>3.9000</td>\n",
              "      <td>5.7000</td>\n",
              "      <td>0.3000</td>\n",
              "      <td>0.0000</td>\n",
              "    </tr>\n",
              "    <tr>\n",
              "      <th>2</th>\n",
              "      <td>6001</td>\n",
              "      <td>Alameda County</td>\n",
              "      <td>CA</td>\n",
              "      <td>1671329</td>\n",
              "      <td>6001</td>\n",
              "      <td>Alameda County</td>\n",
              "      <td>6</td>\n",
              "      <td>21</td>\n",
              "      <td>21</td>\n",
              "      <td>3.2800</td>\n",
              "      <td>27.2000</td>\n",
              "      <td>0.4000</td>\n",
              "      <td>41.0000</td>\n",
              "      <td>0.5100</td>\n",
              "      <td>2.7800</td>\n",
              "      <td>0</td>\n",
              "      <td>1666753</td>\n",
              "      <td>-1.5000</td>\n",
              "      <td>2020-01-03</td>\n",
              "      <td>15.0400</td>\n",
              "      <td>19</td>\n",
              "      <td>92574</td>\n",
              "      <td>10.5000</td>\n",
              "      <td>22.5000</td>\n",
              "      <td>49.1100</td>\n",
              "      <td>2002</td>\n",
              "      <td>1155</td>\n",
              "      <td>131</td>\n",
              "      <td>2.0500</td>\n",
              "      <td>0.2200</td>\n",
              "      <td>nan</td>\n",
              "      <td>0.0000</td>\n",
              "      <td>0.0000</td>\n",
              "      <td>0</td>\n",
              "      <td>54.0000</td>\n",
              "      <td>0.0000</td>\n",
              "      <td>0.0000</td>\n",
              "      <td>0.0000</td>\n",
              "      <td>0</td>\n",
              "      <td>0</td>\n",
              "      <td>0.0000</td>\n",
              "      <td>0</td>\n",
              "      <td>0.9000</td>\n",
              "      <td>3.9000</td>\n",
              "      <td>5.7000</td>\n",
              "      <td>0.3000</td>\n",
              "      <td>0.0000</td>\n",
              "    </tr>\n",
              "    <tr>\n",
              "      <th>3</th>\n",
              "      <td>6001</td>\n",
              "      <td>Alameda County</td>\n",
              "      <td>CA</td>\n",
              "      <td>1671329</td>\n",
              "      <td>6001</td>\n",
              "      <td>Alameda County</td>\n",
              "      <td>6</td>\n",
              "      <td>34</td>\n",
              "      <td>25</td>\n",
              "      <td>3.0300</td>\n",
              "      <td>25.8000</td>\n",
              "      <td>0.3000</td>\n",
              "      <td>41.1000</td>\n",
              "      <td>0.2600</td>\n",
              "      <td>2.7600</td>\n",
              "      <td>0</td>\n",
              "      <td>1666753</td>\n",
              "      <td>-2.2000</td>\n",
              "      <td>2020-01-04</td>\n",
              "      <td>15.0400</td>\n",
              "      <td>19</td>\n",
              "      <td>92574</td>\n",
              "      <td>10.5000</td>\n",
              "      <td>22.5000</td>\n",
              "      <td>49.1100</td>\n",
              "      <td>2002</td>\n",
              "      <td>1155</td>\n",
              "      <td>131</td>\n",
              "      <td>2.0500</td>\n",
              "      <td>0.2200</td>\n",
              "      <td>nan</td>\n",
              "      <td>0.0000</td>\n",
              "      <td>0.0000</td>\n",
              "      <td>0</td>\n",
              "      <td>54.0000</td>\n",
              "      <td>0.0000</td>\n",
              "      <td>0.0000</td>\n",
              "      <td>0.0000</td>\n",
              "      <td>0</td>\n",
              "      <td>0</td>\n",
              "      <td>0.0000</td>\n",
              "      <td>0</td>\n",
              "      <td>0.9000</td>\n",
              "      <td>3.9000</td>\n",
              "      <td>5.7000</td>\n",
              "      <td>0.3000</td>\n",
              "      <td>0.0000</td>\n",
              "    </tr>\n",
              "    <tr>\n",
              "      <th>4</th>\n",
              "      <td>6001</td>\n",
              "      <td>Alameda County</td>\n",
              "      <td>CA</td>\n",
              "      <td>1671329</td>\n",
              "      <td>6001</td>\n",
              "      <td>Alameda County</td>\n",
              "      <td>6</td>\n",
              "      <td>44</td>\n",
              "      <td>29</td>\n",
              "      <td>2.7200</td>\n",
              "      <td>24.5000</td>\n",
              "      <td>0.4000</td>\n",
              "      <td>35.8000</td>\n",
              "      <td>0.2400</td>\n",
              "      <td>2.4800</td>\n",
              "      <td>0</td>\n",
              "      <td>1666753</td>\n",
              "      <td>-12.1000</td>\n",
              "      <td>2020-01-05</td>\n",
              "      <td>15.0400</td>\n",
              "      <td>19</td>\n",
              "      <td>92574</td>\n",
              "      <td>10.5000</td>\n",
              "      <td>22.5000</td>\n",
              "      <td>49.1100</td>\n",
              "      <td>2002</td>\n",
              "      <td>1155</td>\n",
              "      <td>131</td>\n",
              "      <td>2.0500</td>\n",
              "      <td>0.2200</td>\n",
              "      <td>nan</td>\n",
              "      <td>0.0000</td>\n",
              "      <td>0.0000</td>\n",
              "      <td>0</td>\n",
              "      <td>54.0000</td>\n",
              "      <td>0.0000</td>\n",
              "      <td>0.0000</td>\n",
              "      <td>0.0000</td>\n",
              "      <td>0</td>\n",
              "      <td>0</td>\n",
              "      <td>0.0000</td>\n",
              "      <td>0</td>\n",
              "      <td>1.3000</td>\n",
              "      <td>3.9000</td>\n",
              "      <td>5.7000</td>\n",
              "      <td>0.3000</td>\n",
              "      <td>0.0000</td>\n",
              "    </tr>\n",
              "  </tbody>\n",
              "</table>\n",
              "</div>"
            ],
            "text/plain": [
              "   countyFIPS     County Name  ... Cumulative.inflation.rate  COVID.death.rate\n",
              "0        6001  Alameda County  ...                    0.3000            0.0000\n",
              "1        6001  Alameda County  ...                    0.3000            0.0000\n",
              "2        6001  Alameda County  ...                    0.3000            0.0000\n",
              "3        6001  Alameda County  ...                    0.3000            0.0000\n",
              "4        6001  Alameda County  ...                    0.3000            0.0000\n",
              "\n",
              "[5 rows x 47 columns]"
            ]
          },
          "metadata": {
            "tags": []
          },
          "execution_count": 24
        }
      ]
    },
    {
      "cell_type": "code",
      "metadata": {
        "id": "HbWJSOzCqhLF"
      },
      "source": [
        "def fixDate(x, appendTwenty):\n",
        "  arr = x.split('-')\n",
        "  y = arr[0]\n",
        "  d = arr[1]\n",
        "  m = arr[2]\n",
        "\n",
        "  if appendTwenty == True:\n",
        "    return '20'+y+'-'+m+'-'+d\n",
        "  else:\n",
        "      return y+'-'+m+'-'+d"
      ],
      "execution_count": null,
      "outputs": []
    },
    {
      "cell_type": "code",
      "metadata": {
        "colab": {
          "base_uri": "https://localhost:8080/",
          "height": 326
        },
        "id": "zFJWCCbhqkAq",
        "outputId": "fd79b5c2-f03f-4ec1-957f-aca3b82b9a43"
      },
      "source": [
        "CA_maryland_sd_inertia['date'] = CA_maryland_sd_inertia['date'].apply(lambda x:fixDate(x,False))\n",
        "CA_maryland_sd_inertia.head()"
      ],
      "execution_count": null,
      "outputs": [
        {
          "output_type": "execute_result",
          "data": {
            "text/html": [
              "<div>\n",
              "<style scoped>\n",
              "    .dataframe tbody tr th:only-of-type {\n",
              "        vertical-align: middle;\n",
              "    }\n",
              "\n",
              "    .dataframe tbody tr th {\n",
              "        vertical-align: top;\n",
              "    }\n",
              "\n",
              "    .dataframe thead th {\n",
              "        text-align: right;\n",
              "    }\n",
              "</style>\n",
              "<table border=\"1\" class=\"dataframe\">\n",
              "  <thead>\n",
              "    <tr style=\"text-align: right;\">\n",
              "      <th></th>\n",
              "      <th>countyFIPS</th>\n",
              "      <th>County Name</th>\n",
              "      <th>State</th>\n",
              "      <th>population</th>\n",
              "      <th>CTFIPS</th>\n",
              "      <th>CTNAME</th>\n",
              "      <th>STFIPS</th>\n",
              "      <th>Social.distancing.index</th>\n",
              "      <th>X..staying.home</th>\n",
              "      <th>Trips.person</th>\n",
              "      <th>X..out.of.county.trips</th>\n",
              "      <th>X..out.of.state.trips</th>\n",
              "      <th>Miles.person</th>\n",
              "      <th>Work.trips.person</th>\n",
              "      <th>Non.work.trips.person</th>\n",
              "      <th>New.COVID.cases</th>\n",
              "      <th>Population</th>\n",
              "      <th>X..change.in.consumption</th>\n",
              "      <th>date</th>\n",
              "      <th>Transit.mode.share</th>\n",
              "      <th>X..people.older.than.60</th>\n",
              "      <th>Median.income</th>\n",
              "      <th>X..African.Americans</th>\n",
              "      <th>X..Hispanic.Americans</th>\n",
              "      <th>X..Male</th>\n",
              "      <th>Population.density</th>\n",
              "      <th>Employment.density</th>\n",
              "      <th>X..hot.spots.1000.people</th>\n",
              "      <th>Hospital.beds.1000.people</th>\n",
              "      <th>ICUs.1000.people</th>\n",
              "      <th>X..contact.tracing.workers.1000.people</th>\n",
              "      <th>New.cases.1000.people</th>\n",
              "      <th>Active.cases.1000.people</th>\n",
              "      <th>X.days..decreasing.COVID.cases</th>\n",
              "      <th>X..hospital.bed.utilization</th>\n",
              "      <th>Testing.capacity</th>\n",
              "      <th>Tests.done.1000.people</th>\n",
              "      <th>X..ICU.utilization</th>\n",
              "      <th>Ventilator.shortage</th>\n",
              "      <th>Imported.COVID.cases</th>\n",
              "      <th>COVID.exposure.1000.people</th>\n",
              "      <th>X.days..decreasing.ILI.cases</th>\n",
              "      <th>Unemployment.claims.1000.people</th>\n",
              "      <th>Unemployment.rate</th>\n",
              "      <th>X..working.from.home</th>\n",
              "      <th>Cumulative.inflation.rate</th>\n",
              "      <th>COVID.death.rate</th>\n",
              "    </tr>\n",
              "  </thead>\n",
              "  <tbody>\n",
              "    <tr>\n",
              "      <th>0</th>\n",
              "      <td>6001</td>\n",
              "      <td>Alameda County</td>\n",
              "      <td>CA</td>\n",
              "      <td>1671329</td>\n",
              "      <td>6001</td>\n",
              "      <td>Alameda County</td>\n",
              "      <td>6</td>\n",
              "      <td>50</td>\n",
              "      <td>32</td>\n",
              "      <td>2.4100</td>\n",
              "      <td>26.1000</td>\n",
              "      <td>0.4000</td>\n",
              "      <td>38.0000</td>\n",
              "      <td>0.2000</td>\n",
              "      <td>2.2100</td>\n",
              "      <td>0</td>\n",
              "      <td>1666753</td>\n",
              "      <td>-21.7000</td>\n",
              "      <td>2020-01-01</td>\n",
              "      <td>15.0400</td>\n",
              "      <td>19</td>\n",
              "      <td>92574</td>\n",
              "      <td>10.5000</td>\n",
              "      <td>22.5000</td>\n",
              "      <td>49.1100</td>\n",
              "      <td>2002</td>\n",
              "      <td>1155</td>\n",
              "      <td>131</td>\n",
              "      <td>2.0500</td>\n",
              "      <td>0.2200</td>\n",
              "      <td>nan</td>\n",
              "      <td>0.0000</td>\n",
              "      <td>0.0000</td>\n",
              "      <td>0</td>\n",
              "      <td>54.0000</td>\n",
              "      <td>0.0000</td>\n",
              "      <td>0.0000</td>\n",
              "      <td>0.0000</td>\n",
              "      <td>0</td>\n",
              "      <td>0</td>\n",
              "      <td>0.0000</td>\n",
              "      <td>0</td>\n",
              "      <td>0.9000</td>\n",
              "      <td>3.9000</td>\n",
              "      <td>5.7000</td>\n",
              "      <td>0.3000</td>\n",
              "      <td>0.0000</td>\n",
              "    </tr>\n",
              "    <tr>\n",
              "      <th>1</th>\n",
              "      <td>6001</td>\n",
              "      <td>Alameda County</td>\n",
              "      <td>CA</td>\n",
              "      <td>1671329</td>\n",
              "      <td>6001</td>\n",
              "      <td>Alameda County</td>\n",
              "      <td>6</td>\n",
              "      <td>24</td>\n",
              "      <td>22</td>\n",
              "      <td>3.1700</td>\n",
              "      <td>27.9000</td>\n",
              "      <td>0.4000</td>\n",
              "      <td>38.5000</td>\n",
              "      <td>0.5000</td>\n",
              "      <td>2.6600</td>\n",
              "      <td>0</td>\n",
              "      <td>1666753</td>\n",
              "      <td>-5.8000</td>\n",
              "      <td>2020-02-01</td>\n",
              "      <td>15.0400</td>\n",
              "      <td>19</td>\n",
              "      <td>92574</td>\n",
              "      <td>10.5000</td>\n",
              "      <td>22.5000</td>\n",
              "      <td>49.1100</td>\n",
              "      <td>2002</td>\n",
              "      <td>1155</td>\n",
              "      <td>131</td>\n",
              "      <td>2.0500</td>\n",
              "      <td>0.2200</td>\n",
              "      <td>nan</td>\n",
              "      <td>0.0000</td>\n",
              "      <td>0.0000</td>\n",
              "      <td>0</td>\n",
              "      <td>54.0000</td>\n",
              "      <td>0.0000</td>\n",
              "      <td>0.0000</td>\n",
              "      <td>0.0000</td>\n",
              "      <td>0</td>\n",
              "      <td>0</td>\n",
              "      <td>0.0000</td>\n",
              "      <td>0</td>\n",
              "      <td>0.9000</td>\n",
              "      <td>3.9000</td>\n",
              "      <td>5.7000</td>\n",
              "      <td>0.3000</td>\n",
              "      <td>0.0000</td>\n",
              "    </tr>\n",
              "    <tr>\n",
              "      <th>2</th>\n",
              "      <td>6001</td>\n",
              "      <td>Alameda County</td>\n",
              "      <td>CA</td>\n",
              "      <td>1671329</td>\n",
              "      <td>6001</td>\n",
              "      <td>Alameda County</td>\n",
              "      <td>6</td>\n",
              "      <td>21</td>\n",
              "      <td>21</td>\n",
              "      <td>3.2800</td>\n",
              "      <td>27.2000</td>\n",
              "      <td>0.4000</td>\n",
              "      <td>41.0000</td>\n",
              "      <td>0.5100</td>\n",
              "      <td>2.7800</td>\n",
              "      <td>0</td>\n",
              "      <td>1666753</td>\n",
              "      <td>-1.5000</td>\n",
              "      <td>2020-03-01</td>\n",
              "      <td>15.0400</td>\n",
              "      <td>19</td>\n",
              "      <td>92574</td>\n",
              "      <td>10.5000</td>\n",
              "      <td>22.5000</td>\n",
              "      <td>49.1100</td>\n",
              "      <td>2002</td>\n",
              "      <td>1155</td>\n",
              "      <td>131</td>\n",
              "      <td>2.0500</td>\n",
              "      <td>0.2200</td>\n",
              "      <td>nan</td>\n",
              "      <td>0.0000</td>\n",
              "      <td>0.0000</td>\n",
              "      <td>0</td>\n",
              "      <td>54.0000</td>\n",
              "      <td>0.0000</td>\n",
              "      <td>0.0000</td>\n",
              "      <td>0.0000</td>\n",
              "      <td>0</td>\n",
              "      <td>0</td>\n",
              "      <td>0.0000</td>\n",
              "      <td>0</td>\n",
              "      <td>0.9000</td>\n",
              "      <td>3.9000</td>\n",
              "      <td>5.7000</td>\n",
              "      <td>0.3000</td>\n",
              "      <td>0.0000</td>\n",
              "    </tr>\n",
              "    <tr>\n",
              "      <th>3</th>\n",
              "      <td>6001</td>\n",
              "      <td>Alameda County</td>\n",
              "      <td>CA</td>\n",
              "      <td>1671329</td>\n",
              "      <td>6001</td>\n",
              "      <td>Alameda County</td>\n",
              "      <td>6</td>\n",
              "      <td>34</td>\n",
              "      <td>25</td>\n",
              "      <td>3.0300</td>\n",
              "      <td>25.8000</td>\n",
              "      <td>0.3000</td>\n",
              "      <td>41.1000</td>\n",
              "      <td>0.2600</td>\n",
              "      <td>2.7600</td>\n",
              "      <td>0</td>\n",
              "      <td>1666753</td>\n",
              "      <td>-2.2000</td>\n",
              "      <td>2020-04-01</td>\n",
              "      <td>15.0400</td>\n",
              "      <td>19</td>\n",
              "      <td>92574</td>\n",
              "      <td>10.5000</td>\n",
              "      <td>22.5000</td>\n",
              "      <td>49.1100</td>\n",
              "      <td>2002</td>\n",
              "      <td>1155</td>\n",
              "      <td>131</td>\n",
              "      <td>2.0500</td>\n",
              "      <td>0.2200</td>\n",
              "      <td>nan</td>\n",
              "      <td>0.0000</td>\n",
              "      <td>0.0000</td>\n",
              "      <td>0</td>\n",
              "      <td>54.0000</td>\n",
              "      <td>0.0000</td>\n",
              "      <td>0.0000</td>\n",
              "      <td>0.0000</td>\n",
              "      <td>0</td>\n",
              "      <td>0</td>\n",
              "      <td>0.0000</td>\n",
              "      <td>0</td>\n",
              "      <td>0.9000</td>\n",
              "      <td>3.9000</td>\n",
              "      <td>5.7000</td>\n",
              "      <td>0.3000</td>\n",
              "      <td>0.0000</td>\n",
              "    </tr>\n",
              "    <tr>\n",
              "      <th>4</th>\n",
              "      <td>6001</td>\n",
              "      <td>Alameda County</td>\n",
              "      <td>CA</td>\n",
              "      <td>1671329</td>\n",
              "      <td>6001</td>\n",
              "      <td>Alameda County</td>\n",
              "      <td>6</td>\n",
              "      <td>44</td>\n",
              "      <td>29</td>\n",
              "      <td>2.7200</td>\n",
              "      <td>24.5000</td>\n",
              "      <td>0.4000</td>\n",
              "      <td>35.8000</td>\n",
              "      <td>0.2400</td>\n",
              "      <td>2.4800</td>\n",
              "      <td>0</td>\n",
              "      <td>1666753</td>\n",
              "      <td>-12.1000</td>\n",
              "      <td>2020-05-01</td>\n",
              "      <td>15.0400</td>\n",
              "      <td>19</td>\n",
              "      <td>92574</td>\n",
              "      <td>10.5000</td>\n",
              "      <td>22.5000</td>\n",
              "      <td>49.1100</td>\n",
              "      <td>2002</td>\n",
              "      <td>1155</td>\n",
              "      <td>131</td>\n",
              "      <td>2.0500</td>\n",
              "      <td>0.2200</td>\n",
              "      <td>nan</td>\n",
              "      <td>0.0000</td>\n",
              "      <td>0.0000</td>\n",
              "      <td>0</td>\n",
              "      <td>54.0000</td>\n",
              "      <td>0.0000</td>\n",
              "      <td>0.0000</td>\n",
              "      <td>0.0000</td>\n",
              "      <td>0</td>\n",
              "      <td>0</td>\n",
              "      <td>0.0000</td>\n",
              "      <td>0</td>\n",
              "      <td>1.3000</td>\n",
              "      <td>3.9000</td>\n",
              "      <td>5.7000</td>\n",
              "      <td>0.3000</td>\n",
              "      <td>0.0000</td>\n",
              "    </tr>\n",
              "  </tbody>\n",
              "</table>\n",
              "</div>"
            ],
            "text/plain": [
              "   countyFIPS     County Name  ... Cumulative.inflation.rate  COVID.death.rate\n",
              "0        6001  Alameda County  ...                    0.3000            0.0000\n",
              "1        6001  Alameda County  ...                    0.3000            0.0000\n",
              "2        6001  Alameda County  ...                    0.3000            0.0000\n",
              "3        6001  Alameda County  ...                    0.3000            0.0000\n",
              "4        6001  Alameda County  ...                    0.3000            0.0000\n",
              "\n",
              "[5 rows x 47 columns]"
            ]
          },
          "metadata": {
            "tags": []
          },
          "execution_count": 108
        }
      ]
    },
    {
      "cell_type": "code",
      "metadata": {
        "colab": {
          "base_uri": "https://localhost:8080/"
        },
        "id": "25-celJYBZ--",
        "outputId": "5174bd9f-243e-4153-ee77-222c302c7d0d"
      },
      "source": [
        "print(len(CA_maryland_sd_inertia.columns))\n",
        "CA_maryland_sd_inertia.dtypes\n"
      ],
      "execution_count": 25,
      "outputs": [
        {
          "output_type": "stream",
          "text": [
            "47\n"
          ],
          "name": "stdout"
        },
        {
          "output_type": "execute_result",
          "data": {
            "text/plain": [
              "countyFIPS                                  int64\n",
              "County Name                                object\n",
              "State                                      object\n",
              "population                                  int64\n",
              "CTFIPS                                      int64\n",
              "CTNAME                                     object\n",
              "STFIPS                                      int64\n",
              "Social.distancing.index                     int64\n",
              "X..staying.home                             int64\n",
              "Trips.person                              float64\n",
              "X..out.of.county.trips                    float64\n",
              "X..out.of.state.trips                     float64\n",
              "Miles.person                              float64\n",
              "Work.trips.person                         float64\n",
              "Non.work.trips.person                     float64\n",
              "New.COVID.cases                             int64\n",
              "Population                                  int64\n",
              "X..change.in.consumption                  float64\n",
              "date                                       object\n",
              "Transit.mode.share                        float64\n",
              "X..people.older.than.60                     int64\n",
              "Median.income                               int64\n",
              "X..African.Americans                      float64\n",
              "X..Hispanic.Americans                     float64\n",
              "X..Male                                   float64\n",
              "Population.density                          int64\n",
              "Employment.density                          int64\n",
              "X..hot.spots.1000.people                    int64\n",
              "Hospital.beds.1000.people                 float64\n",
              "ICUs.1000.people                          float64\n",
              "X..contact.tracing.workers.1000.people    float64\n",
              "New.cases.1000.people                     float64\n",
              "Active.cases.1000.people                  float64\n",
              "X.days..decreasing.COVID.cases              int64\n",
              "X..hospital.bed.utilization               float64\n",
              "Testing.capacity                          float64\n",
              "Tests.done.1000.people                    float64\n",
              "X..ICU.utilization                        float64\n",
              "Ventilator.shortage                         int64\n",
              "Imported.COVID.cases                        int64\n",
              "COVID.exposure.1000.people                float64\n",
              "X.days..decreasing.ILI.cases                int64\n",
              "Unemployment.claims.1000.people           float64\n",
              "Unemployment.rate                         float64\n",
              "X..working.from.home                      float64\n",
              "Cumulative.inflation.rate                 float64\n",
              "COVID.death.rate                          float64\n",
              "dtype: object"
            ]
          },
          "metadata": {
            "tags": []
          },
          "execution_count": 25
        }
      ]
    },
    {
      "cell_type": "code",
      "metadata": {
        "id": "TIOIbfq1BGLN"
      },
      "source": [
        "inertia_X_cols_all = ['Social.distancing.index', 'X..staying.home', 'Trips.person',\n",
        "                  'X..out.of.county.trips', 'X..out.of.state.trips', 'Miles.person',\n",
        "                  'Work.trips.person', 'Non.work.trips.person','X..change.in.consumption', 'Transit.mode.share',\n",
        "       'X..people.older.than.60', 'Median.income', 'X..African.Americans','X..Hispanic.Americans',\n",
        "        'X..Male', 'Population.density',\n",
        "       'Employment.density', \n",
        "       'Hospital.beds.1000.people', 'ICUs.1000.people',\n",
        "       'Active.cases.1000.people', 'X.days..decreasing.COVID.cases',\n",
        "       'X..hospital.bed.utilization', 'Testing.capacity',\n",
        "       'Tests.done.1000.people', 'X..ICU.utilization', 'Ventilator.shortage',\n",
        "       'Imported.COVID.cases', 'COVID.exposure.1000.people',\n",
        "       'X.days..decreasing.ILI.cases', 'Unemployment.claims.1000.people',\n",
        "       'Unemployment.rate', 'X..working.from.home',\n",
        "       'Cumulative.inflation.rate', 'date','New.COVID.cases']\n",
        "\n",
        "inertia_X_cols_featured = [ 'X..staying.home',\n",
        "                           'X..hot.spots.1000.people', 'X..change.in.consumption',\n",
        "                            'X.days..decreasing.ILI.cases', \n",
        "                           'X..Male', 'Testing.capacity', 'X..Hispanic.Americans', \n",
        "                           'X.days..decreasing.COVID.cases', 'X.days..decreasing.COVID.cases', \n",
        "                           'X..African.Americans', 'Miles.person', 'Median.income',\n",
        "                           'X..out.of.state.trips', 'Work.trips.person','date',\n",
        "                           'Testing.capacity', 'Transit.mode.share','New.COVID.cases']\n"
      ],
      "execution_count": 26,
      "outputs": []
    },
    {
      "cell_type": "code",
      "metadata": {
        "colab": {
          "base_uri": "https://localhost:8080/",
          "height": 326
        },
        "id": "j-RRfEasA_2F",
        "outputId": "b7bb1650-552d-4447-cf2d-179502cce02f"
      },
      "source": [
        "LA_inertia_data_all = CA_maryland_sd_inertia[CA_maryland_sd_inertia['CTNAME'] == 'Los Angeles County'][inertia_X_cols_all]\n",
        "LA_inertia_data_featured = CA_maryland_sd_inertia[CA_maryland_sd_inertia['CTNAME'] == 'Los Angeles County'][inertia_X_cols_featured]\n",
        "print(len(LA_inertia_data_all.columns))\n",
        "LA_inertia_data_all.head()"
      ],
      "execution_count": 37,
      "outputs": [
        {
          "output_type": "stream",
          "text": [
            "35\n"
          ],
          "name": "stdout"
        },
        {
          "output_type": "execute_result",
          "data": {
            "text/html": [
              "<div>\n",
              "<style scoped>\n",
              "    .dataframe tbody tr th:only-of-type {\n",
              "        vertical-align: middle;\n",
              "    }\n",
              "\n",
              "    .dataframe tbody tr th {\n",
              "        vertical-align: top;\n",
              "    }\n",
              "\n",
              "    .dataframe thead th {\n",
              "        text-align: right;\n",
              "    }\n",
              "</style>\n",
              "<table border=\"1\" class=\"dataframe\">\n",
              "  <thead>\n",
              "    <tr style=\"text-align: right;\">\n",
              "      <th></th>\n",
              "      <th>Social.distancing.index</th>\n",
              "      <th>X..staying.home</th>\n",
              "      <th>Trips.person</th>\n",
              "      <th>X..out.of.county.trips</th>\n",
              "      <th>X..out.of.state.trips</th>\n",
              "      <th>Miles.person</th>\n",
              "      <th>Work.trips.person</th>\n",
              "      <th>Non.work.trips.person</th>\n",
              "      <th>X..change.in.consumption</th>\n",
              "      <th>Transit.mode.share</th>\n",
              "      <th>X..people.older.than.60</th>\n",
              "      <th>Median.income</th>\n",
              "      <th>X..African.Americans</th>\n",
              "      <th>X..Hispanic.Americans</th>\n",
              "      <th>X..Male</th>\n",
              "      <th>Population.density</th>\n",
              "      <th>Employment.density</th>\n",
              "      <th>Hospital.beds.1000.people</th>\n",
              "      <th>ICUs.1000.people</th>\n",
              "      <th>Active.cases.1000.people</th>\n",
              "      <th>X.days..decreasing.COVID.cases</th>\n",
              "      <th>X..hospital.bed.utilization</th>\n",
              "      <th>Testing.capacity</th>\n",
              "      <th>Tests.done.1000.people</th>\n",
              "      <th>X..ICU.utilization</th>\n",
              "      <th>Ventilator.shortage</th>\n",
              "      <th>Imported.COVID.cases</th>\n",
              "      <th>COVID.exposure.1000.people</th>\n",
              "      <th>X.days..decreasing.ILI.cases</th>\n",
              "      <th>Unemployment.claims.1000.people</th>\n",
              "      <th>Unemployment.rate</th>\n",
              "      <th>X..working.from.home</th>\n",
              "      <th>Cumulative.inflation.rate</th>\n",
              "      <th>date</th>\n",
              "      <th>New.COVID.cases</th>\n",
              "    </tr>\n",
              "  </thead>\n",
              "  <tbody>\n",
              "    <tr>\n",
              "      <th>6534</th>\n",
              "      <td>49</td>\n",
              "      <td>32</td>\n",
              "      <td>2.4200</td>\n",
              "      <td>12.1000</td>\n",
              "      <td>0.6000</td>\n",
              "      <td>31.4000</td>\n",
              "      <td>0.2100</td>\n",
              "      <td>2.2100</td>\n",
              "      <td>-20.1000</td>\n",
              "      <td>6.0400</td>\n",
              "      <td>18</td>\n",
              "      <td>64251</td>\n",
              "      <td>7.9000</td>\n",
              "      <td>48.5000</td>\n",
              "      <td>49.2800</td>\n",
              "      <td>2125</td>\n",
              "      <td>972</td>\n",
              "      <td>2.0500</td>\n",
              "      <td>0.2200</td>\n",
              "      <td>0.0000</td>\n",
              "      <td>0</td>\n",
              "      <td>54.0000</td>\n",
              "      <td>0.0000</td>\n",
              "      <td>0.0000</td>\n",
              "      <td>0.0000</td>\n",
              "      <td>0</td>\n",
              "      <td>0</td>\n",
              "      <td>0.0000</td>\n",
              "      <td>0</td>\n",
              "      <td>0.9000</td>\n",
              "      <td>3.9000</td>\n",
              "      <td>5.7000</td>\n",
              "      <td>0.3000</td>\n",
              "      <td>2020-01-01</td>\n",
              "      <td>0</td>\n",
              "    </tr>\n",
              "    <tr>\n",
              "      <th>6535</th>\n",
              "      <td>22</td>\n",
              "      <td>21</td>\n",
              "      <td>3.1900</td>\n",
              "      <td>11.3000</td>\n",
              "      <td>0.5000</td>\n",
              "      <td>36.6000</td>\n",
              "      <td>0.5600</td>\n",
              "      <td>2.6200</td>\n",
              "      <td>-5.3000</td>\n",
              "      <td>6.0400</td>\n",
              "      <td>18</td>\n",
              "      <td>64251</td>\n",
              "      <td>7.9000</td>\n",
              "      <td>48.5000</td>\n",
              "      <td>49.2800</td>\n",
              "      <td>2125</td>\n",
              "      <td>972</td>\n",
              "      <td>2.0500</td>\n",
              "      <td>0.2200</td>\n",
              "      <td>0.0000</td>\n",
              "      <td>0</td>\n",
              "      <td>54.0000</td>\n",
              "      <td>0.0000</td>\n",
              "      <td>0.0000</td>\n",
              "      <td>0.0000</td>\n",
              "      <td>0</td>\n",
              "      <td>0</td>\n",
              "      <td>0.0000</td>\n",
              "      <td>0</td>\n",
              "      <td>0.9000</td>\n",
              "      <td>3.9000</td>\n",
              "      <td>5.7000</td>\n",
              "      <td>0.3000</td>\n",
              "      <td>2020-01-02</td>\n",
              "      <td>0</td>\n",
              "    </tr>\n",
              "    <tr>\n",
              "      <th>6536</th>\n",
              "      <td>18</td>\n",
              "      <td>20</td>\n",
              "      <td>3.3200</td>\n",
              "      <td>11.2000</td>\n",
              "      <td>0.4000</td>\n",
              "      <td>37.9000</td>\n",
              "      <td>0.5600</td>\n",
              "      <td>2.7700</td>\n",
              "      <td>0.2000</td>\n",
              "      <td>6.0400</td>\n",
              "      <td>18</td>\n",
              "      <td>64251</td>\n",
              "      <td>7.9000</td>\n",
              "      <td>48.5000</td>\n",
              "      <td>49.2800</td>\n",
              "      <td>2125</td>\n",
              "      <td>972</td>\n",
              "      <td>2.0500</td>\n",
              "      <td>0.2200</td>\n",
              "      <td>0.0000</td>\n",
              "      <td>0</td>\n",
              "      <td>54.0000</td>\n",
              "      <td>0.0000</td>\n",
              "      <td>0.0000</td>\n",
              "      <td>0.0000</td>\n",
              "      <td>0</td>\n",
              "      <td>0</td>\n",
              "      <td>0.0000</td>\n",
              "      <td>0</td>\n",
              "      <td>0.9000</td>\n",
              "      <td>3.9000</td>\n",
              "      <td>5.7000</td>\n",
              "      <td>0.3000</td>\n",
              "      <td>2020-01-03</td>\n",
              "      <td>0</td>\n",
              "    </tr>\n",
              "    <tr>\n",
              "      <th>6537</th>\n",
              "      <td>29</td>\n",
              "      <td>24</td>\n",
              "      <td>3.1000</td>\n",
              "      <td>11.6000</td>\n",
              "      <td>0.5000</td>\n",
              "      <td>36.0000</td>\n",
              "      <td>0.3000</td>\n",
              "      <td>2.7900</td>\n",
              "      <td>0.9000</td>\n",
              "      <td>6.0400</td>\n",
              "      <td>18</td>\n",
              "      <td>64251</td>\n",
              "      <td>7.9000</td>\n",
              "      <td>48.5000</td>\n",
              "      <td>49.2800</td>\n",
              "      <td>2125</td>\n",
              "      <td>972</td>\n",
              "      <td>2.0500</td>\n",
              "      <td>0.2200</td>\n",
              "      <td>0.0000</td>\n",
              "      <td>0</td>\n",
              "      <td>54.0000</td>\n",
              "      <td>0.0000</td>\n",
              "      <td>0.0000</td>\n",
              "      <td>0.0000</td>\n",
              "      <td>0</td>\n",
              "      <td>0</td>\n",
              "      <td>0.0000</td>\n",
              "      <td>0</td>\n",
              "      <td>0.9000</td>\n",
              "      <td>3.9000</td>\n",
              "      <td>5.7000</td>\n",
              "      <td>0.3000</td>\n",
              "      <td>2020-01-04</td>\n",
              "      <td>0</td>\n",
              "    </tr>\n",
              "    <tr>\n",
              "      <th>6538</th>\n",
              "      <td>40</td>\n",
              "      <td>28</td>\n",
              "      <td>2.7500</td>\n",
              "      <td>11.3000</td>\n",
              "      <td>0.5000</td>\n",
              "      <td>33.1000</td>\n",
              "      <td>0.2500</td>\n",
              "      <td>2.5000</td>\n",
              "      <td>-9.6000</td>\n",
              "      <td>6.0400</td>\n",
              "      <td>18</td>\n",
              "      <td>64251</td>\n",
              "      <td>7.9000</td>\n",
              "      <td>48.5000</td>\n",
              "      <td>49.2800</td>\n",
              "      <td>2125</td>\n",
              "      <td>972</td>\n",
              "      <td>2.0500</td>\n",
              "      <td>0.2200</td>\n",
              "      <td>0.0000</td>\n",
              "      <td>0</td>\n",
              "      <td>54.0000</td>\n",
              "      <td>0.0000</td>\n",
              "      <td>0.0000</td>\n",
              "      <td>0.0000</td>\n",
              "      <td>0</td>\n",
              "      <td>0</td>\n",
              "      <td>0.0000</td>\n",
              "      <td>0</td>\n",
              "      <td>1.3000</td>\n",
              "      <td>3.9000</td>\n",
              "      <td>5.7000</td>\n",
              "      <td>0.3000</td>\n",
              "      <td>2020-01-05</td>\n",
              "      <td>0</td>\n",
              "    </tr>\n",
              "  </tbody>\n",
              "</table>\n",
              "</div>"
            ],
            "text/plain": [
              "      Social.distancing.index  X..staying.home  ...        date  New.COVID.cases\n",
              "6534                       49               32  ...  2020-01-01                0\n",
              "6535                       22               21  ...  2020-01-02                0\n",
              "6536                       18               20  ...  2020-01-03                0\n",
              "6537                       29               24  ...  2020-01-04                0\n",
              "6538                       40               28  ...  2020-01-05                0\n",
              "\n",
              "[5 rows x 35 columns]"
            ]
          },
          "metadata": {
            "tags": []
          },
          "execution_count": 37
        }
      ]
    },
    {
      "cell_type": "markdown",
      "metadata": {
        "id": "Nx6DHfpTFGUl"
      },
      "source": [
        "# Preprocess Data for inertia datasets"
      ]
    },
    {
      "cell_type": "code",
      "metadata": {
        "id": "T5nlRtyZpdWW"
      },
      "source": [
        "def datetime_to_float(d):\n",
        "    date_time_obj = datetime.strptime(d, '%Y-%m-%d')\n",
        "    return date_time_obj.timestamp()"
      ],
      "execution_count": 35,
      "outputs": []
    },
    {
      "cell_type": "code",
      "metadata": {
        "colab": {
          "base_uri": "https://localhost:8080/"
        },
        "id": "a90JrHgnpsGN",
        "outputId": "6089449a-1616-4389-d5e6-65061deb6759"
      },
      "source": [
        "print(len(inertia_X_cols_all))\n",
        "LA_inertia_data_all['date'] = LA_inertia_data_all['date'].apply(lambda x:datetime_to_float(x))"
      ],
      "execution_count": 38,
      "outputs": [
        {
          "output_type": "stream",
          "text": [
            "35\n"
          ],
          "name": "stdout"
        }
      ]
    },
    {
      "cell_type": "code",
      "metadata": {
        "colab": {
          "base_uri": "https://localhost:8080/",
          "height": 241
        },
        "id": "gzHpjaLkuhAa",
        "outputId": "9255a13e-423f-432d-8c92-840a33747c06"
      },
      "source": [
        "print(LA_inertia_data_all.shape)\n",
        "LA_inertia_data_all.head()"
      ],
      "execution_count": 39,
      "outputs": [
        {
          "output_type": "stream",
          "text": [
            "(363, 35)\n"
          ],
          "name": "stdout"
        },
        {
          "output_type": "execute_result",
          "data": {
            "text/html": [
              "<div>\n",
              "<style scoped>\n",
              "    .dataframe tbody tr th:only-of-type {\n",
              "        vertical-align: middle;\n",
              "    }\n",
              "\n",
              "    .dataframe tbody tr th {\n",
              "        vertical-align: top;\n",
              "    }\n",
              "\n",
              "    .dataframe thead th {\n",
              "        text-align: right;\n",
              "    }\n",
              "</style>\n",
              "<table border=\"1\" class=\"dataframe\">\n",
              "  <thead>\n",
              "    <tr style=\"text-align: right;\">\n",
              "      <th></th>\n",
              "      <th>Social.distancing.index</th>\n",
              "      <th>X..staying.home</th>\n",
              "      <th>Trips.person</th>\n",
              "      <th>X..out.of.county.trips</th>\n",
              "      <th>X..out.of.state.trips</th>\n",
              "      <th>Miles.person</th>\n",
              "      <th>Work.trips.person</th>\n",
              "      <th>Non.work.trips.person</th>\n",
              "      <th>X..change.in.consumption</th>\n",
              "      <th>Transit.mode.share</th>\n",
              "      <th>X..people.older.than.60</th>\n",
              "      <th>Median.income</th>\n",
              "      <th>X..African.Americans</th>\n",
              "      <th>X..Hispanic.Americans</th>\n",
              "      <th>X..Male</th>\n",
              "      <th>Population.density</th>\n",
              "      <th>Employment.density</th>\n",
              "      <th>Hospital.beds.1000.people</th>\n",
              "      <th>ICUs.1000.people</th>\n",
              "      <th>Active.cases.1000.people</th>\n",
              "      <th>X.days..decreasing.COVID.cases</th>\n",
              "      <th>X..hospital.bed.utilization</th>\n",
              "      <th>Testing.capacity</th>\n",
              "      <th>Tests.done.1000.people</th>\n",
              "      <th>X..ICU.utilization</th>\n",
              "      <th>Ventilator.shortage</th>\n",
              "      <th>Imported.COVID.cases</th>\n",
              "      <th>COVID.exposure.1000.people</th>\n",
              "      <th>X.days..decreasing.ILI.cases</th>\n",
              "      <th>Unemployment.claims.1000.people</th>\n",
              "      <th>Unemployment.rate</th>\n",
              "      <th>X..working.from.home</th>\n",
              "      <th>Cumulative.inflation.rate</th>\n",
              "      <th>date</th>\n",
              "      <th>New.COVID.cases</th>\n",
              "    </tr>\n",
              "  </thead>\n",
              "  <tbody>\n",
              "    <tr>\n",
              "      <th>6534</th>\n",
              "      <td>49</td>\n",
              "      <td>32</td>\n",
              "      <td>2.4200</td>\n",
              "      <td>12.1000</td>\n",
              "      <td>0.6000</td>\n",
              "      <td>31.4000</td>\n",
              "      <td>0.2100</td>\n",
              "      <td>2.2100</td>\n",
              "      <td>-20.1000</td>\n",
              "      <td>6.0400</td>\n",
              "      <td>18</td>\n",
              "      <td>64251</td>\n",
              "      <td>7.9000</td>\n",
              "      <td>48.5000</td>\n",
              "      <td>49.2800</td>\n",
              "      <td>2125</td>\n",
              "      <td>972</td>\n",
              "      <td>2.0500</td>\n",
              "      <td>0.2200</td>\n",
              "      <td>0.0000</td>\n",
              "      <td>0</td>\n",
              "      <td>54.0000</td>\n",
              "      <td>0.0000</td>\n",
              "      <td>0.0000</td>\n",
              "      <td>0.0000</td>\n",
              "      <td>0</td>\n",
              "      <td>0</td>\n",
              "      <td>0.0000</td>\n",
              "      <td>0</td>\n",
              "      <td>0.9000</td>\n",
              "      <td>3.9000</td>\n",
              "      <td>5.7000</td>\n",
              "      <td>0.3000</td>\n",
              "      <td>1577836800.0000</td>\n",
              "      <td>0</td>\n",
              "    </tr>\n",
              "    <tr>\n",
              "      <th>6535</th>\n",
              "      <td>22</td>\n",
              "      <td>21</td>\n",
              "      <td>3.1900</td>\n",
              "      <td>11.3000</td>\n",
              "      <td>0.5000</td>\n",
              "      <td>36.6000</td>\n",
              "      <td>0.5600</td>\n",
              "      <td>2.6200</td>\n",
              "      <td>-5.3000</td>\n",
              "      <td>6.0400</td>\n",
              "      <td>18</td>\n",
              "      <td>64251</td>\n",
              "      <td>7.9000</td>\n",
              "      <td>48.5000</td>\n",
              "      <td>49.2800</td>\n",
              "      <td>2125</td>\n",
              "      <td>972</td>\n",
              "      <td>2.0500</td>\n",
              "      <td>0.2200</td>\n",
              "      <td>0.0000</td>\n",
              "      <td>0</td>\n",
              "      <td>54.0000</td>\n",
              "      <td>0.0000</td>\n",
              "      <td>0.0000</td>\n",
              "      <td>0.0000</td>\n",
              "      <td>0</td>\n",
              "      <td>0</td>\n",
              "      <td>0.0000</td>\n",
              "      <td>0</td>\n",
              "      <td>0.9000</td>\n",
              "      <td>3.9000</td>\n",
              "      <td>5.7000</td>\n",
              "      <td>0.3000</td>\n",
              "      <td>1577923200.0000</td>\n",
              "      <td>0</td>\n",
              "    </tr>\n",
              "    <tr>\n",
              "      <th>6536</th>\n",
              "      <td>18</td>\n",
              "      <td>20</td>\n",
              "      <td>3.3200</td>\n",
              "      <td>11.2000</td>\n",
              "      <td>0.4000</td>\n",
              "      <td>37.9000</td>\n",
              "      <td>0.5600</td>\n",
              "      <td>2.7700</td>\n",
              "      <td>0.2000</td>\n",
              "      <td>6.0400</td>\n",
              "      <td>18</td>\n",
              "      <td>64251</td>\n",
              "      <td>7.9000</td>\n",
              "      <td>48.5000</td>\n",
              "      <td>49.2800</td>\n",
              "      <td>2125</td>\n",
              "      <td>972</td>\n",
              "      <td>2.0500</td>\n",
              "      <td>0.2200</td>\n",
              "      <td>0.0000</td>\n",
              "      <td>0</td>\n",
              "      <td>54.0000</td>\n",
              "      <td>0.0000</td>\n",
              "      <td>0.0000</td>\n",
              "      <td>0.0000</td>\n",
              "      <td>0</td>\n",
              "      <td>0</td>\n",
              "      <td>0.0000</td>\n",
              "      <td>0</td>\n",
              "      <td>0.9000</td>\n",
              "      <td>3.9000</td>\n",
              "      <td>5.7000</td>\n",
              "      <td>0.3000</td>\n",
              "      <td>1578009600.0000</td>\n",
              "      <td>0</td>\n",
              "    </tr>\n",
              "    <tr>\n",
              "      <th>6537</th>\n",
              "      <td>29</td>\n",
              "      <td>24</td>\n",
              "      <td>3.1000</td>\n",
              "      <td>11.6000</td>\n",
              "      <td>0.5000</td>\n",
              "      <td>36.0000</td>\n",
              "      <td>0.3000</td>\n",
              "      <td>2.7900</td>\n",
              "      <td>0.9000</td>\n",
              "      <td>6.0400</td>\n",
              "      <td>18</td>\n",
              "      <td>64251</td>\n",
              "      <td>7.9000</td>\n",
              "      <td>48.5000</td>\n",
              "      <td>49.2800</td>\n",
              "      <td>2125</td>\n",
              "      <td>972</td>\n",
              "      <td>2.0500</td>\n",
              "      <td>0.2200</td>\n",
              "      <td>0.0000</td>\n",
              "      <td>0</td>\n",
              "      <td>54.0000</td>\n",
              "      <td>0.0000</td>\n",
              "      <td>0.0000</td>\n",
              "      <td>0.0000</td>\n",
              "      <td>0</td>\n",
              "      <td>0</td>\n",
              "      <td>0.0000</td>\n",
              "      <td>0</td>\n",
              "      <td>0.9000</td>\n",
              "      <td>3.9000</td>\n",
              "      <td>5.7000</td>\n",
              "      <td>0.3000</td>\n",
              "      <td>1578096000.0000</td>\n",
              "      <td>0</td>\n",
              "    </tr>\n",
              "    <tr>\n",
              "      <th>6538</th>\n",
              "      <td>40</td>\n",
              "      <td>28</td>\n",
              "      <td>2.7500</td>\n",
              "      <td>11.3000</td>\n",
              "      <td>0.5000</td>\n",
              "      <td>33.1000</td>\n",
              "      <td>0.2500</td>\n",
              "      <td>2.5000</td>\n",
              "      <td>-9.6000</td>\n",
              "      <td>6.0400</td>\n",
              "      <td>18</td>\n",
              "      <td>64251</td>\n",
              "      <td>7.9000</td>\n",
              "      <td>48.5000</td>\n",
              "      <td>49.2800</td>\n",
              "      <td>2125</td>\n",
              "      <td>972</td>\n",
              "      <td>2.0500</td>\n",
              "      <td>0.2200</td>\n",
              "      <td>0.0000</td>\n",
              "      <td>0</td>\n",
              "      <td>54.0000</td>\n",
              "      <td>0.0000</td>\n",
              "      <td>0.0000</td>\n",
              "      <td>0.0000</td>\n",
              "      <td>0</td>\n",
              "      <td>0</td>\n",
              "      <td>0.0000</td>\n",
              "      <td>0</td>\n",
              "      <td>1.3000</td>\n",
              "      <td>3.9000</td>\n",
              "      <td>5.7000</td>\n",
              "      <td>0.3000</td>\n",
              "      <td>1578182400.0000</td>\n",
              "      <td>0</td>\n",
              "    </tr>\n",
              "  </tbody>\n",
              "</table>\n",
              "</div>"
            ],
            "text/plain": [
              "      Social.distancing.index  X..staying.home  ...            date  New.COVID.cases\n",
              "6534                       49               32  ... 1577836800.0000                0\n",
              "6535                       22               21  ... 1577923200.0000                0\n",
              "6536                       18               20  ... 1578009600.0000                0\n",
              "6537                       29               24  ... 1578096000.0000                0\n",
              "6538                       40               28  ... 1578182400.0000                0\n",
              "\n",
              "[5 rows x 35 columns]"
            ]
          },
          "metadata": {
            "tags": []
          },
          "execution_count": 39
        }
      ]
    },
    {
      "cell_type": "code",
      "metadata": {
        "colab": {
          "base_uri": "https://localhost:8080/"
        },
        "id": "f2dczQwtFHi8",
        "outputId": "989dee90-37b6-43eb-f73f-a5df63a7d80b"
      },
      "source": [
        "values = LA_inertia_data_all.values\n",
        "# integer encode direction\n",
        "encoder = LabelEncoder()\n",
        "values[:,34] = encoder.fit_transform(values[:,34])\n",
        "# ensure all data is float\n",
        "values = values.astype('float32')\n",
        "# normalize features\n",
        "scaler = MinMaxScaler(feature_range=(0, 1))\n",
        "scaled = scaler.fit_transform(values)\n",
        "# frame as supervised learning\n",
        "reframed = series_to_supervised(scaled, 1, 1)\n",
        "# drop columns we don't want to predict\n",
        "#reframed.drop(reframed.columns[[9,10,11,12,13,14,15]], axis=1, inplace=True)\n",
        "print(reframed.head())"
      ],
      "execution_count": 40,
      "outputs": [
        {
          "output_type": "stream",
          "text": [
            "   var1(t-1)  var2(t-1)  var3(t-1)  ...  var33(t)  var34(t)  var35(t)\n",
            "1     0.5373     0.4286     0.3333  ...    0.0662    0.0028    0.0000\n",
            "2     0.1343     0.1143     0.7407  ...    0.0662    0.0055    0.0000\n",
            "3     0.0746     0.0857     0.8095  ...    0.0662    0.0083    0.0000\n",
            "4     0.2388     0.2000     0.6931  ...    0.0662    0.0110    0.0000\n",
            "5     0.4030     0.3143     0.5079  ...    0.0662    0.0138    0.0000\n",
            "\n",
            "[5 rows x 70 columns]\n"
          ],
          "name": "stdout"
        }
      ]
    },
    {
      "cell_type": "markdown",
      "metadata": {
        "id": "H1j3eigdFQ4W"
      },
      "source": [
        "## Train Test split"
      ]
    },
    {
      "cell_type": "code",
      "metadata": {
        "colab": {
          "base_uri": "https://localhost:8080/"
        },
        "id": "dWw--97OFFtV",
        "outputId": "ccba3634-cad7-4a97-ba0a-4db83e189fa8"
      },
      "source": [
        "\n",
        "# split into train and test sets\n",
        "values = reframed.values\n",
        "rows_count = values.shape[0]\n",
        "# split the 1/5 value\n",
        "train_split = rows_count//5\n",
        "\n",
        "n_train_hours = train_split * 4\n",
        "\n",
        "print(n_train_hours)\n",
        "print('values shape ',values.shape)\n",
        "train = values[:n_train_hours, :]\n",
        "test = values[n_train_hours:, :]\n",
        "# split into input and outputs\n",
        "train_X, train_y = train[:, :-1], train[:, -1]\n",
        "test_X, test_y = test[:, :-1], test[:, -1]\n",
        "# reshape input to be 3D [samples, timesteps, features]\n",
        "train_X = train_X.reshape((train_X.shape[0], 1, train_X.shape[1]))\n",
        "test_X = test_X.reshape((test_X.shape[0], 1, test_X.shape[1]))\n",
        "print(train_X.shape, train_y.shape, test_X.shape, test_y.shape)"
      ],
      "execution_count": 41,
      "outputs": [
        {
          "output_type": "stream",
          "text": [
            "288\n",
            "values shape  (362, 70)\n",
            "(288, 1, 69) (288,) (74, 1, 69) (74,)\n"
          ],
          "name": "stdout"
        }
      ]
    },
    {
      "cell_type": "markdown",
      "metadata": {
        "id": "AwpbmrZNFUX0"
      },
      "source": [
        "## Training LSTM for inertia data"
      ]
    },
    {
      "cell_type": "code",
      "metadata": {
        "colab": {
          "base_uri": "https://localhost:8080/",
          "height": 1000
        },
        "id": "FiAXDJInFaZx",
        "outputId": "e6bbc1a5-634e-4dec-c0a9-ffa6f24a1b99"
      },
      "source": [
        "...\n",
        "# design network\n",
        "model = Sequential()\n",
        "model.add(LSTM(50, input_shape=(train_X.shape[1], train_X.shape[2])))\n",
        "model.add(Dense(1))\n",
        "model.compile(loss='mae', optimizer='adam')\n",
        "# fit network\n",
        "history = model.fit(train_X, train_y, epochs=100, batch_size=72, validation_data=(test_X, test_y), verbose=2, shuffle=False)\n",
        "# plot history\n",
        "plt.plot(history.history['loss'], label='train')\n",
        "plt.plot(history.history['val_loss'], label='test')\n",
        "plt.legend()\n",
        "plt.show()"
      ],
      "execution_count": 42,
      "outputs": [
        {
          "output_type": "stream",
          "text": [
            "Epoch 1/100\n",
            "4/4 - 2s - loss: 0.4423 - val_loss: 0.8385\n",
            "Epoch 2/100\n",
            "4/4 - 0s - loss: 0.3561 - val_loss: 0.6898\n",
            "Epoch 3/100\n",
            "4/4 - 0s - loss: 0.2820 - val_loss: 0.5503\n",
            "Epoch 4/100\n",
            "4/4 - 0s - loss: 0.2260 - val_loss: 0.4302\n",
            "Epoch 5/100\n",
            "4/4 - 0s - loss: 0.1933 - val_loss: 0.3351\n",
            "Epoch 6/100\n",
            "4/4 - 0s - loss: 0.1814 - val_loss: 0.2646\n",
            "Epoch 7/100\n",
            "4/4 - 0s - loss: 0.1788 - val_loss: 0.2253\n",
            "Epoch 8/100\n",
            "4/4 - 0s - loss: 0.1753 - val_loss: 0.2090\n",
            "Epoch 9/100\n",
            "4/4 - 0s - loss: 0.1678 - val_loss: 0.2092\n",
            "Epoch 10/100\n",
            "4/4 - 0s - loss: 0.1575 - val_loss: 0.2181\n",
            "Epoch 11/100\n",
            "4/4 - 0s - loss: 0.1466 - val_loss: 0.2292\n",
            "Epoch 12/100\n",
            "4/4 - 0s - loss: 0.1372 - val_loss: 0.2363\n",
            "Epoch 13/100\n",
            "4/4 - 0s - loss: 0.1322 - val_loss: 0.2261\n",
            "Epoch 14/100\n",
            "4/4 - 0s - loss: 0.1294 - val_loss: 0.2043\n",
            "Epoch 15/100\n",
            "4/4 - 0s - loss: 0.1259 - val_loss: 0.1834\n",
            "Epoch 16/100\n",
            "4/4 - 0s - loss: 0.1226 - val_loss: 0.1684\n",
            "Epoch 17/100\n",
            "4/4 - 0s - loss: 0.1201 - val_loss: 0.1641\n",
            "Epoch 18/100\n",
            "4/4 - 0s - loss: 0.1173 - val_loss: 0.1678\n",
            "Epoch 19/100\n",
            "4/4 - 0s - loss: 0.1142 - val_loss: 0.1723\n",
            "Epoch 20/100\n",
            "4/4 - 0s - loss: 0.1118 - val_loss: 0.1741\n",
            "Epoch 21/100\n",
            "4/4 - 0s - loss: 0.1093 - val_loss: 0.1732\n",
            "Epoch 22/100\n",
            "4/4 - 0s - loss: 0.1069 - val_loss: 0.1724\n",
            "Epoch 23/100\n",
            "4/4 - 0s - loss: 0.1050 - val_loss: 0.1715\n",
            "Epoch 24/100\n",
            "4/4 - 0s - loss: 0.1032 - val_loss: 0.1712\n",
            "Epoch 25/100\n",
            "4/4 - 0s - loss: 0.1019 - val_loss: 0.1701\n",
            "Epoch 26/100\n",
            "4/4 - 0s - loss: 0.1006 - val_loss: 0.1688\n",
            "Epoch 27/100\n",
            "4/4 - 0s - loss: 0.0993 - val_loss: 0.1688\n",
            "Epoch 28/100\n",
            "4/4 - 0s - loss: 0.0982 - val_loss: 0.1697\n",
            "Epoch 29/100\n",
            "4/4 - 0s - loss: 0.0972 - val_loss: 0.1707\n",
            "Epoch 30/100\n",
            "4/4 - 0s - loss: 0.0964 - val_loss: 0.1719\n",
            "Epoch 31/100\n",
            "4/4 - 0s - loss: 0.0957 - val_loss: 0.1738\n",
            "Epoch 32/100\n",
            "4/4 - 0s - loss: 0.0950 - val_loss: 0.1760\n",
            "Epoch 33/100\n",
            "4/4 - 0s - loss: 0.0944 - val_loss: 0.1769\n",
            "Epoch 34/100\n",
            "4/4 - 0s - loss: 0.0937 - val_loss: 0.1782\n",
            "Epoch 35/100\n",
            "4/4 - 0s - loss: 0.0931 - val_loss: 0.1794\n",
            "Epoch 36/100\n",
            "4/4 - 0s - loss: 0.0925 - val_loss: 0.1804\n",
            "Epoch 37/100\n",
            "4/4 - 0s - loss: 0.0918 - val_loss: 0.1814\n",
            "Epoch 38/100\n",
            "4/4 - 0s - loss: 0.0912 - val_loss: 0.1812\n",
            "Epoch 39/100\n",
            "4/4 - 0s - loss: 0.0906 - val_loss: 0.1824\n",
            "Epoch 40/100\n",
            "4/4 - 0s - loss: 0.0899 - val_loss: 0.1844\n",
            "Epoch 41/100\n",
            "4/4 - 0s - loss: 0.0893 - val_loss: 0.1847\n",
            "Epoch 42/100\n",
            "4/4 - 0s - loss: 0.0887 - val_loss: 0.1878\n",
            "Epoch 43/100\n",
            "4/4 - 0s - loss: 0.0882 - val_loss: 0.1906\n",
            "Epoch 44/100\n",
            "4/4 - 0s - loss: 0.0877 - val_loss: 0.1900\n",
            "Epoch 45/100\n",
            "4/4 - 0s - loss: 0.0872 - val_loss: 0.1913\n",
            "Epoch 46/100\n",
            "4/4 - 0s - loss: 0.0867 - val_loss: 0.1944\n",
            "Epoch 47/100\n",
            "4/4 - 0s - loss: 0.0864 - val_loss: 0.1954\n",
            "Epoch 48/100\n",
            "4/4 - 0s - loss: 0.0859 - val_loss: 0.1975\n",
            "Epoch 49/100\n",
            "4/4 - 0s - loss: 0.0855 - val_loss: 0.2003\n",
            "Epoch 50/100\n",
            "4/4 - 0s - loss: 0.0851 - val_loss: 0.2001\n",
            "Epoch 51/100\n",
            "4/4 - 0s - loss: 0.0848 - val_loss: 0.2021\n",
            "Epoch 52/100\n",
            "4/4 - 0s - loss: 0.0845 - val_loss: 0.2018\n",
            "Epoch 53/100\n",
            "4/4 - 0s - loss: 0.0840 - val_loss: 0.2039\n",
            "Epoch 54/100\n",
            "4/4 - 0s - loss: 0.0837 - val_loss: 0.2046\n",
            "Epoch 55/100\n",
            "4/4 - 0s - loss: 0.0834 - val_loss: 0.2046\n",
            "Epoch 56/100\n",
            "4/4 - 0s - loss: 0.0831 - val_loss: 0.2043\n",
            "Epoch 57/100\n",
            "4/4 - 0s - loss: 0.0827 - val_loss: 0.2046\n",
            "Epoch 58/100\n",
            "4/4 - 0s - loss: 0.0825 - val_loss: 0.2030\n",
            "Epoch 59/100\n",
            "4/4 - 0s - loss: 0.0822 - val_loss: 0.2065\n",
            "Epoch 60/100\n",
            "4/4 - 0s - loss: 0.0819 - val_loss: 0.2072\n",
            "Epoch 61/100\n",
            "4/4 - 0s - loss: 0.0816 - val_loss: 0.2068\n",
            "Epoch 62/100\n",
            "4/4 - 0s - loss: 0.0814 - val_loss: 0.2069\n",
            "Epoch 63/100\n",
            "4/4 - 0s - loss: 0.0811 - val_loss: 0.2055\n",
            "Epoch 64/100\n",
            "4/4 - 0s - loss: 0.0809 - val_loss: 0.2050\n",
            "Epoch 65/100\n",
            "4/4 - 0s - loss: 0.0806 - val_loss: 0.2043\n",
            "Epoch 66/100\n",
            "4/4 - 0s - loss: 0.0804 - val_loss: 0.2057\n",
            "Epoch 67/100\n",
            "4/4 - 0s - loss: 0.0801 - val_loss: 0.2055\n",
            "Epoch 68/100\n",
            "4/4 - 0s - loss: 0.0799 - val_loss: 0.2036\n",
            "Epoch 69/100\n",
            "4/4 - 0s - loss: 0.0797 - val_loss: 0.2035\n",
            "Epoch 70/100\n",
            "4/4 - 0s - loss: 0.0795 - val_loss: 0.2014\n",
            "Epoch 71/100\n",
            "4/4 - 0s - loss: 0.0794 - val_loss: 0.2074\n",
            "Epoch 72/100\n",
            "4/4 - 0s - loss: 0.0793 - val_loss: 0.2014\n",
            "Epoch 73/100\n",
            "4/4 - 0s - loss: 0.0791 - val_loss: 0.2072\n",
            "Epoch 74/100\n",
            "4/4 - 0s - loss: 0.0789 - val_loss: 0.2018\n",
            "Epoch 75/100\n",
            "4/4 - 0s - loss: 0.0786 - val_loss: 0.2060\n",
            "Epoch 76/100\n",
            "4/4 - 0s - loss: 0.0784 - val_loss: 0.2028\n",
            "Epoch 77/100\n",
            "4/4 - 0s - loss: 0.0781 - val_loss: 0.2059\n",
            "Epoch 78/100\n",
            "4/4 - 0s - loss: 0.0780 - val_loss: 0.2031\n",
            "Epoch 79/100\n",
            "4/4 - 0s - loss: 0.0781 - val_loss: 0.2134\n",
            "Epoch 80/100\n",
            "4/4 - 0s - loss: 0.0784 - val_loss: 0.2030\n",
            "Epoch 81/100\n",
            "4/4 - 0s - loss: 0.0789 - val_loss: 0.2139\n",
            "Epoch 82/100\n",
            "4/4 - 0s - loss: 0.0777 - val_loss: 0.2095\n",
            "Epoch 83/100\n",
            "4/4 - 0s - loss: 0.0772 - val_loss: 0.2041\n",
            "Epoch 84/100\n",
            "4/4 - 0s - loss: 0.0777 - val_loss: 0.2138\n",
            "Epoch 85/100\n",
            "4/4 - 0s - loss: 0.0779 - val_loss: 0.2030\n",
            "Epoch 86/100\n",
            "4/4 - 0s - loss: 0.0780 - val_loss: 0.2153\n",
            "Epoch 87/100\n",
            "4/4 - 0s - loss: 0.0771 - val_loss: 0.2108\n",
            "Epoch 88/100\n",
            "4/4 - 0s - loss: 0.0769 - val_loss: 0.2115\n",
            "Epoch 89/100\n",
            "4/4 - 0s - loss: 0.0766 - val_loss: 0.2064\n",
            "Epoch 90/100\n",
            "4/4 - 0s - loss: 0.0766 - val_loss: 0.2096\n",
            "Epoch 91/100\n",
            "4/4 - 0s - loss: 0.0766 - val_loss: 0.2056\n",
            "Epoch 92/100\n",
            "4/4 - 0s - loss: 0.0769 - val_loss: 0.2191\n",
            "Epoch 93/100\n",
            "4/4 - 0s - loss: 0.0769 - val_loss: 0.2043\n",
            "Epoch 94/100\n",
            "4/4 - 0s - loss: 0.0778 - val_loss: 0.2193\n",
            "Epoch 95/100\n",
            "4/4 - 0s - loss: 0.0764 - val_loss: 0.2065\n",
            "Epoch 96/100\n",
            "4/4 - 0s - loss: 0.0762 - val_loss: 0.2111\n",
            "Epoch 97/100\n",
            "4/4 - 0s - loss: 0.0763 - val_loss: 0.2054\n",
            "Epoch 98/100\n",
            "4/4 - 0s - loss: 0.0764 - val_loss: 0.2204\n",
            "Epoch 99/100\n",
            "4/4 - 0s - loss: 0.0761 - val_loss: 0.2073\n",
            "Epoch 100/100\n",
            "4/4 - 0s - loss: 0.0771 - val_loss: 0.2245\n"
          ],
          "name": "stdout"
        },
        {
          "output_type": "display_data",
          "data": {
            "image/png": "[encoded data removed]",
            "text/plain": [
              "<Figure size 432x288 with 1 Axes>"
            ]
          },
          "metadata": {
            "tags": [],
            "needs_background": "light"
          }
        }
      ]
    },
    {
      "cell_type": "markdown",
      "metadata": {
        "id": "4XaE6-7hFVnk"
      },
      "source": [
        "## Testing LSTM for inertia data"
      ]
    },
    {
      "cell_type": "code",
      "metadata": {
        "colab": {
          "base_uri": "https://localhost:8080/"
        },
        "id": "025oHpgdFe2f",
        "outputId": "2c83ba99-0f37-4d3a-f1d7-ebe351304591"
      },
      "source": [
        "import math\n",
        "\n",
        "# make a prediction\n",
        "yhat = model.predict(test_X)\n",
        "test_X1 = test_X.reshape((test_X.shape[0], test_X.shape[2]))\n",
        "# invert scaling for forecast\n",
        "inv_yhat = concatenate((yhat, test_X1[:, 1:]), axis=1)\n",
        "print(inv_yhat.shape)\n",
        "#inv_yhat = scaler.inverse_transform(inv_yhat)\n",
        "inv_yhat = inv_yhat[:,0]\n",
        "# invert scaling for actual\n",
        "test_y = test_y.reshape((len(test_y), 1))\n",
        "inv_y = concatenate((test_y, test_X1[:, 1:]), axis=1)\n",
        "#inv_y = scaler.inverse_transform(inv_y)\n",
        "inv_y = inv_y[:,0]\n",
        "# calculate RMSE\n",
        "mse = mean_squared_error(inv_y, inv_yhat)\n",
        "print('Test MSE: %.3f' % mse)\n",
        "rmse = math.sqrt(mean_squared_error(inv_y, inv_yhat))\n",
        "print('Test RMSE: %.3f' % rmse)"
      ],
      "execution_count": 43,
      "outputs": [
        {
          "output_type": "stream",
          "text": [
            "(74, 69)\n",
            "Test MSE: 0.065\n",
            "Test RMSE: 0.256\n"
          ],
          "name": "stdout"
        }
      ]
    },
    {
      "cell_type": "code",
      "metadata": {
        "id": "4ZwcIS1d_ZFT"
      },
      "source": [
        "model.save('LA_lstm_inertia.h5')\n"
      ],
      "execution_count": 44,
      "outputs": []
    },
    {
      "cell_type": "code",
      "metadata": {
        "colab": {
          "base_uri": "https://localhost:8080/"
        },
        "id": "DkoAUh3VFkuF",
        "outputId": "edd04ac8-5b0b-4066-c68b-005a327c61c9"
      },
      "source": [
        "from sklearn.metrics import median_absolute_error, mean_absolute_error\n",
        "print('median_absolute_error', median_absolute_error(inv_y, inv_yhat))\n",
        "print('mean_absolute_error', mean_absolute_error(inv_y, inv_yhat))"
      ],
      "execution_count": 45,
      "outputs": [
        {
          "output_type": "stream",
          "text": [
            "median_absolute_error 0.232523\n",
            "mean_absolute_error 0.22452241\n"
          ],
          "name": "stdout"
        }
      ]
    },
    {
      "cell_type": "markdown",
      "metadata": {
        "id": "7ehF0dNjv1ao"
      },
      "source": [
        "# Preprocessing Data for PCA feature selected-inertia"
      ]
    },
    {
      "cell_type": "code",
      "metadata": {
        "colab": {
          "base_uri": "https://localhost:8080/"
        },
        "id": "A7DeFNCqv6DV",
        "outputId": "f24162bb-ca62-4141-f568-fe37e5f3bc88"
      },
      "source": [
        "print(len(inertia_X_cols_featured))\n",
        "LA_inertia_data_featured['date'] = LA_inertia_data_featured['date'].apply(lambda x:datetime_to_float(x))"
      ],
      "execution_count": null,
      "outputs": [
        {
          "output_type": "stream",
          "text": [
            "18\n"
          ],
          "name": "stdout"
        }
      ]
    },
    {
      "cell_type": "code",
      "metadata": {
        "colab": {
          "base_uri": "https://localhost:8080/"
        },
        "id": "eBE40XQowEMT",
        "outputId": "6d8e3868-ec26-45c8-8635-9b5b4e1df782"
      },
      "source": [
        "values = LA_inertia_data_featured.values\n",
        "# integer encode direction\n",
        "encoder = LabelEncoder()\n",
        "values[:,17] = encoder.fit_transform(values[:,17])\n",
        "# ensure all data is float\n",
        "values = values.astype('float32')\n",
        "# normalize features\n",
        "scaler = MinMaxScaler(feature_range=(0, 1))\n",
        "scaled = scaler.fit_transform(values)\n",
        "# frame as supervised learning\n",
        "reframed = series_to_supervised(scaled, 1, 1)\n",
        "# drop columns we don't want to predict\n",
        "#reframed.drop(reframed.columns[[9,10,11,12,13,14,15]], axis=1, inplace=True)\n",
        "print(reframed.head())"
      ],
      "execution_count": null,
      "outputs": [
        {
          "output_type": "stream",
          "text": [
            "   var1(t-1)  var2(t-1)  var3(t-1)  ...  var16(t)  var17(t)  var18(t)\n",
            "1     0.4286     0.0000     0.3748  ...    0.0000    0.0000    0.0000\n",
            "2     0.1143     0.0000     0.6304  ...    0.0000    0.0000    0.0000\n",
            "3     0.0857     0.0000     0.7254  ...    0.0000    0.0000    0.0000\n",
            "4     0.2000     0.0000     0.7375  ...    0.0000    0.0000    0.0000\n",
            "5     0.3143     0.0000     0.5561  ...    0.0000    0.0000    0.0000\n",
            "\n",
            "[5 rows x 36 columns]\n"
          ],
          "name": "stdout"
        }
      ]
    },
    {
      "cell_type": "markdown",
      "metadata": {
        "id": "Ha4XL2n0v-7v"
      },
      "source": [
        "## Train Test Split"
      ]
    },
    {
      "cell_type": "code",
      "metadata": {
        "colab": {
          "base_uri": "https://localhost:8080/"
        },
        "id": "PKWAoAo-v-m4",
        "outputId": "80a20f8b-456c-4b89-ea80-be7f9cb9823d"
      },
      "source": [
        "\n",
        "# split into train and test sets\n",
        "values = reframed.values\n",
        "rows_count = values.shape[0]\n",
        "# split the 1/5 value\n",
        "train_split = rows_count//5\n",
        "\n",
        "n_train_hours = train_split * 4\n",
        "\n",
        "print(n_train_hours)\n",
        "print('values shape ',values.shape)\n",
        "train = values[:n_train_hours, :]\n",
        "test = values[n_train_hours:, :]\n",
        "# split into input and outputs\n",
        "train_X, train_y = train[:, :-1], train[:, -1]\n",
        "test_X, test_y = test[:, :-1], test[:, -1]\n",
        "# reshape input to be 3D [samples, timesteps, features]\n",
        "train_X = train_X.reshape((train_X.shape[0], 1, train_X.shape[1]))\n",
        "test_X = test_X.reshape((test_X.shape[0], 1, test_X.shape[1]))\n",
        "print(train_X.shape, train_y.shape, test_X.shape, test_y.shape)"
      ],
      "execution_count": null,
      "outputs": [
        {
          "output_type": "stream",
          "text": [
            "288\n",
            "values shape  (362, 36)\n",
            "(288, 1, 35) (288,) (74, 1, 35) (74,)\n"
          ],
          "name": "stdout"
        }
      ]
    },
    {
      "cell_type": "markdown",
      "metadata": {
        "id": "2fa_JmmcwSai"
      },
      "source": [
        "## Training LSTM for PCA feature selected "
      ]
    },
    {
      "cell_type": "code",
      "metadata": {
        "colab": {
          "base_uri": "https://localhost:8080/",
          "height": 1000
        },
        "id": "9TdCXIbQwX9l",
        "outputId": "a38fd774-e32d-4225-dcb8-a9b0b90a0e34"
      },
      "source": [
        "...\n",
        "# design network\n",
        "model = Sequential()\n",
        "model.add(LSTM(50, input_shape=(train_X.shape[1], train_X.shape[2])))\n",
        "model.add(Dense(1))\n",
        "model.compile(loss='mae', optimizer='adam')\n",
        "# fit network\n",
        "history = model.fit(train_X, train_y, epochs=100, batch_size=72, validation_data=(test_X, test_y), verbose=2, shuffle=False)\n",
        "# plot history\n",
        "plt.plot(history.history['loss'], label='train')\n",
        "plt.plot(history.history['val_loss'], label='test')\n",
        "plt.legend()\n",
        "plt.show()"
      ],
      "execution_count": null,
      "outputs": [
        {
          "output_type": "stream",
          "text": [
            "Epoch 1/100\n",
            "4/4 - 2s - loss: 0.2993 - val_loss: 0.6583\n",
            "Epoch 2/100\n",
            "4/4 - 0s - loss: 0.2630 - val_loss: 0.5944\n",
            "Epoch 3/100\n",
            "4/4 - 0s - loss: 0.2394 - val_loss: 0.5372\n",
            "Epoch 4/100\n",
            "4/4 - 0s - loss: 0.2199 - val_loss: 0.4857\n",
            "Epoch 5/100\n",
            "4/4 - 0s - loss: 0.2076 - val_loss: 0.4436\n",
            "Epoch 6/100\n",
            "4/4 - 0s - loss: 0.1986 - val_loss: 0.4072\n",
            "Epoch 7/100\n",
            "4/4 - 0s - loss: 0.1933 - val_loss: 0.3779\n",
            "Epoch 8/100\n",
            "4/4 - 0s - loss: 0.1894 - val_loss: 0.3543\n",
            "Epoch 9/100\n",
            "4/4 - 0s - loss: 0.1859 - val_loss: 0.3361\n",
            "Epoch 10/100\n",
            "4/4 - 0s - loss: 0.1822 - val_loss: 0.3226\n",
            "Epoch 11/100\n",
            "4/4 - 0s - loss: 0.1780 - val_loss: 0.3124\n",
            "Epoch 12/100\n",
            "4/4 - 0s - loss: 0.1736 - val_loss: 0.3050\n",
            "Epoch 13/100\n",
            "4/4 - 0s - loss: 0.1690 - val_loss: 0.3000\n",
            "Epoch 14/100\n",
            "4/4 - 0s - loss: 0.1644 - val_loss: 0.2961\n",
            "Epoch 15/100\n",
            "4/4 - 0s - loss: 0.1597 - val_loss: 0.2918\n",
            "Epoch 16/100\n",
            "4/4 - 0s - loss: 0.1556 - val_loss: 0.2859\n",
            "Epoch 17/100\n",
            "4/4 - 0s - loss: 0.1523 - val_loss: 0.2779\n",
            "Epoch 18/100\n",
            "4/4 - 0s - loss: 0.1495 - val_loss: 0.2686\n",
            "Epoch 19/100\n",
            "4/4 - 0s - loss: 0.1470 - val_loss: 0.2586\n",
            "Epoch 20/100\n",
            "4/4 - 0s - loss: 0.1448 - val_loss: 0.2493\n",
            "Epoch 21/100\n",
            "4/4 - 0s - loss: 0.1429 - val_loss: 0.2406\n",
            "Epoch 22/100\n",
            "4/4 - 0s - loss: 0.1412 - val_loss: 0.2332\n",
            "Epoch 23/100\n",
            "4/4 - 0s - loss: 0.1397 - val_loss: 0.2277\n",
            "Epoch 24/100\n",
            "4/4 - 0s - loss: 0.1383 - val_loss: 0.2240\n",
            "Epoch 25/100\n",
            "4/4 - 0s - loss: 0.1369 - val_loss: 0.2217\n",
            "Epoch 26/100\n",
            "4/4 - 0s - loss: 0.1356 - val_loss: 0.2191\n",
            "Epoch 27/100\n",
            "4/4 - 0s - loss: 0.1345 - val_loss: 0.2155\n",
            "Epoch 28/100\n",
            "4/4 - 0s - loss: 0.1335 - val_loss: 0.2111\n",
            "Epoch 29/100\n",
            "4/4 - 0s - loss: 0.1324 - val_loss: 0.2071\n",
            "Epoch 30/100\n",
            "4/4 - 0s - loss: 0.1316 - val_loss: 0.2038\n",
            "Epoch 31/100\n",
            "4/4 - 0s - loss: 0.1308 - val_loss: 0.2008\n",
            "Epoch 32/100\n",
            "4/4 - 0s - loss: 0.1300 - val_loss: 0.1978\n",
            "Epoch 33/100\n",
            "4/4 - 0s - loss: 0.1292 - val_loss: 0.1944\n",
            "Epoch 34/100\n",
            "4/4 - 0s - loss: 0.1284 - val_loss: 0.1914\n",
            "Epoch 35/100\n",
            "4/4 - 0s - loss: 0.1276 - val_loss: 0.1895\n",
            "Epoch 36/100\n",
            "4/4 - 0s - loss: 0.1269 - val_loss: 0.1881\n",
            "Epoch 37/100\n",
            "4/4 - 0s - loss: 0.1263 - val_loss: 0.1863\n",
            "Epoch 38/100\n",
            "4/4 - 0s - loss: 0.1256 - val_loss: 0.1844\n",
            "Epoch 39/100\n",
            "4/4 - 0s - loss: 0.1249 - val_loss: 0.1827\n",
            "Epoch 40/100\n",
            "4/4 - 0s - loss: 0.1242 - val_loss: 0.1813\n",
            "Epoch 41/100\n",
            "4/4 - 0s - loss: 0.1235 - val_loss: 0.1801\n",
            "Epoch 42/100\n",
            "4/4 - 0s - loss: 0.1228 - val_loss: 0.1789\n",
            "Epoch 43/100\n",
            "4/4 - 0s - loss: 0.1221 - val_loss: 0.1777\n",
            "Epoch 44/100\n",
            "4/4 - 0s - loss: 0.1214 - val_loss: 0.1764\n",
            "Epoch 45/100\n",
            "4/4 - 0s - loss: 0.1207 - val_loss: 0.1753\n",
            "Epoch 46/100\n",
            "4/4 - 0s - loss: 0.1200 - val_loss: 0.1743\n",
            "Epoch 47/100\n",
            "4/4 - 0s - loss: 0.1193 - val_loss: 0.1732\n",
            "Epoch 48/100\n",
            "4/4 - 0s - loss: 0.1186 - val_loss: 0.1720\n",
            "Epoch 49/100\n",
            "4/4 - 0s - loss: 0.1180 - val_loss: 0.1707\n",
            "Epoch 50/100\n",
            "4/4 - 0s - loss: 0.1173 - val_loss: 0.1696\n",
            "Epoch 51/100\n",
            "4/4 - 0s - loss: 0.1165 - val_loss: 0.1684\n",
            "Epoch 52/100\n",
            "4/4 - 0s - loss: 0.1158 - val_loss: 0.1673\n",
            "Epoch 53/100\n",
            "4/4 - 0s - loss: 0.1151 - val_loss: 0.1659\n",
            "Epoch 54/100\n",
            "4/4 - 0s - loss: 0.1144 - val_loss: 0.1643\n",
            "Epoch 55/100\n",
            "4/4 - 0s - loss: 0.1137 - val_loss: 0.1627\n",
            "Epoch 56/100\n",
            "4/4 - 0s - loss: 0.1129 - val_loss: 0.1614\n",
            "Epoch 57/100\n",
            "4/4 - 0s - loss: 0.1122 - val_loss: 0.1601\n",
            "Epoch 58/100\n",
            "4/4 - 0s - loss: 0.1115 - val_loss: 0.1587\n",
            "Epoch 59/100\n",
            "4/4 - 0s - loss: 0.1108 - val_loss: 0.1573\n",
            "Epoch 60/100\n",
            "4/4 - 0s - loss: 0.1101 - val_loss: 0.1561\n",
            "Epoch 61/100\n",
            "4/4 - 0s - loss: 0.1094 - val_loss: 0.1548\n",
            "Epoch 62/100\n",
            "4/4 - 0s - loss: 0.1087 - val_loss: 0.1537\n",
            "Epoch 63/100\n",
            "4/4 - 0s - loss: 0.1080 - val_loss: 0.1526\n",
            "Epoch 64/100\n",
            "4/4 - 0s - loss: 0.1073 - val_loss: 0.1516\n",
            "Epoch 65/100\n",
            "4/4 - 0s - loss: 0.1067 - val_loss: 0.1506\n",
            "Epoch 66/100\n",
            "4/4 - 0s - loss: 0.1061 - val_loss: 0.1504\n",
            "Epoch 67/100\n",
            "4/4 - 0s - loss: 0.1055 - val_loss: 0.1501\n",
            "Epoch 68/100\n",
            "4/4 - 0s - loss: 0.1049 - val_loss: 0.1498\n",
            "Epoch 69/100\n",
            "4/4 - 0s - loss: 0.1043 - val_loss: 0.1503\n",
            "Epoch 70/100\n",
            "4/4 - 0s - loss: 0.1037 - val_loss: 0.1502\n",
            "Epoch 71/100\n",
            "4/4 - 0s - loss: 0.1032 - val_loss: 0.1512\n",
            "Epoch 72/100\n",
            "4/4 - 0s - loss: 0.1026 - val_loss: 0.1525\n",
            "Epoch 73/100\n",
            "4/4 - 0s - loss: 0.1021 - val_loss: 0.1521\n",
            "Epoch 74/100\n",
            "4/4 - 0s - loss: 0.1016 - val_loss: 0.1524\n",
            "Epoch 75/100\n",
            "4/4 - 0s - loss: 0.1011 - val_loss: 0.1526\n",
            "Epoch 76/100\n",
            "4/4 - 0s - loss: 0.1006 - val_loss: 0.1529\n",
            "Epoch 77/100\n",
            "4/4 - 0s - loss: 0.1001 - val_loss: 0.1535\n",
            "Epoch 78/100\n",
            "4/4 - 0s - loss: 0.0996 - val_loss: 0.1536\n",
            "Epoch 79/100\n",
            "4/4 - 0s - loss: 0.0991 - val_loss: 0.1540\n",
            "Epoch 80/100\n",
            "4/4 - 0s - loss: 0.0985 - val_loss: 0.1526\n",
            "Epoch 81/100\n",
            "4/4 - 0s - loss: 0.0982 - val_loss: 0.1533\n",
            "Epoch 82/100\n",
            "4/4 - 0s - loss: 0.0979 - val_loss: 0.1479\n",
            "Epoch 83/100\n",
            "4/4 - 0s - loss: 0.0980 - val_loss: 0.1510\n",
            "Epoch 84/100\n",
            "4/4 - 0s - loss: 0.0973 - val_loss: 0.1478\n",
            "Epoch 85/100\n",
            "4/4 - 0s - loss: 0.0967 - val_loss: 0.1471\n",
            "Epoch 86/100\n",
            "4/4 - 0s - loss: 0.0963 - val_loss: 0.1460\n",
            "Epoch 87/100\n",
            "4/4 - 0s - loss: 0.0960 - val_loss: 0.1458\n",
            "Epoch 88/100\n",
            "4/4 - 0s - loss: 0.0956 - val_loss: 0.1449\n",
            "Epoch 89/100\n",
            "4/4 - 0s - loss: 0.0953 - val_loss: 0.1423\n",
            "Epoch 90/100\n",
            "4/4 - 0s - loss: 0.0952 - val_loss: 0.1433\n",
            "Epoch 91/100\n",
            "4/4 - 0s - loss: 0.0951 - val_loss: 0.1380\n",
            "Epoch 92/100\n",
            "4/4 - 0s - loss: 0.0947 - val_loss: 0.1403\n",
            "Epoch 93/100\n",
            "4/4 - 0s - loss: 0.0945 - val_loss: 0.1367\n",
            "Epoch 94/100\n",
            "4/4 - 0s - loss: 0.0942 - val_loss: 0.1390\n",
            "Epoch 95/100\n",
            "4/4 - 0s - loss: 0.0940 - val_loss: 0.1345\n",
            "Epoch 96/100\n",
            "4/4 - 0s - loss: 0.0939 - val_loss: 0.1369\n",
            "Epoch 97/100\n",
            "4/4 - 0s - loss: 0.0938 - val_loss: 0.1331\n",
            "Epoch 98/100\n",
            "4/4 - 0s - loss: 0.0933 - val_loss: 0.1340\n",
            "Epoch 99/100\n",
            "4/4 - 0s - loss: 0.0933 - val_loss: 0.1315\n",
            "Epoch 100/100\n",
            "4/4 - 0s - loss: 0.0931 - val_loss: 0.1343\n"
          ],
          "name": "stdout"
        },
        {
          "output_type": "display_data",
          "data": {
            "image/png": "[encoded data removed]",
            "text/plain": [
              "<Figure size 432x288 with 1 Axes>"
            ]
          },
          "metadata": {
            "tags": [],
            "needs_background": "light"
          }
        }
      ]
    },
    {
      "cell_type": "markdown",
      "metadata": {
        "id": "Qogs-sgJwVIA"
      },
      "source": [
        "## Testing LSTM for PCA feature selected"
      ]
    },
    {
      "cell_type": "code",
      "metadata": {
        "colab": {
          "base_uri": "https://localhost:8080/"
        },
        "id": "lp0s6bFEwcrI",
        "outputId": "1432fe64-2657-456f-a039-43b06b3c4efd"
      },
      "source": [
        "import math\n",
        "\n",
        "# make a prediction\n",
        "yhat = model.predict(test_X)\n",
        "test_X1 = test_X.reshape((test_X.shape[0], test_X.shape[2]))\n",
        "# invert scaling for forecast\n",
        "inv_yhat = concatenate((yhat, test_X1[:, 1:]), axis=1)\n",
        "print(inv_yhat.shape)\n",
        "#inv_yhat = scaler.inverse_transform(inv_yhat)\n",
        "inv_yhat = inv_yhat[:,0]\n",
        "# invert scaling for actual\n",
        "test_y = test_y.reshape((len(test_y), 1))\n",
        "inv_y = concatenate((test_y, test_X1[:, 1:]), axis=1)\n",
        "#inv_y = scaler.inverse_transform(inv_y)\n",
        "inv_y = inv_y[:,0]\n",
        "# calculate RMSE\n",
        "mse = mean_squared_error(inv_y, inv_yhat)\n",
        "print('Test MSE: %.3f' % mse)\n",
        "rmse = math.sqrt(mean_squared_error(inv_y, inv_yhat))\n",
        "print('Test RMSE: %.3f' % rmse)\n",
        "\n",
        "print('median_absolute_error', median_absolute_error(inv_y, inv_yhat))\n",
        "print('mean_absolute_error', mean_absolute_error(inv_y, inv_yhat))"
      ],
      "execution_count": null,
      "outputs": [
        {
          "output_type": "stream",
          "text": [
            "WARNING:tensorflow:6 out of the last 12 calls to <function Model.make_predict_function.<locals>.predict_function at 0x7f877423dd08> triggered tf.function retracing. Tracing is expensive and the excessive number of tracings could be due to (1) creating @tf.function repeatedly in a loop, (2) passing tensors with different shapes, (3) passing Python objects instead of tensors. For (1), please define your @tf.function outside of the loop. For (2), @tf.function has experimental_relax_shapes=True option that relaxes argument shapes that can avoid unnecessary retracing. For (3), please refer to https://www.tensorflow.org/guide/function#controlling_retracing and https://www.tensorflow.org/api_docs/python/tf/function for  more details.\n",
            "(74, 35)\n",
            "Test MSE: 0.042\n",
            "Test RMSE: 0.204\n",
            "median_absolute_error 0.08787784\n",
            "mean_absolute_error 0.134258\n"
          ],
          "name": "stdout"
        }
      ]
    },
    {
      "cell_type": "markdown",
      "metadata": {
        "id": "9Liv951Dwq49"
      },
      "source": [
        "# Conclusion for inertia dataset after PCA\n",
        "\n",
        "| data | MSE  |RMSE  |Median AE  |MAE|\n",
        "|------|------|-----|------|-----|\n",
        "|   without PCA  | 0.05| 0.24|0.206|0.215|\n",
        "|   with PCA  | 0.04| 0.204|0.087|0.134|\n"
      ]
    }
  ]
}