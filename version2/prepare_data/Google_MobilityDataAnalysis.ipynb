{
  "nbformat": 4,
  "nbformat_minor": 0,
  "metadata": {
    "colab": {
      "name": "Google-MobilityDataAnalysis.ipynb",
      "provenance": [],
      "collapsed_sections": [],
      "toc_visible": true,
      "include_colab_link": true
    },
    "kernelspec": {
      "name": "python3",
      "display_name": "Python 3"
    }
  },
  "cells": [
    {
      "cell_type": "markdown",
      "metadata": {
        "id": "view-in-github",
        "colab_type": "text"
      },
      "source": [
        "<a href=\"https://colab.research.google.com/github/aarsanjani/meansquares/blob/master/Google_MobilityDataAnalysis.ipynb\" target=\"_parent\"><img src=\"https://colab.research.google.com/assets/colab-badge.svg\" alt=\"Open In Colab\"/></a>"
      ]
    },
    {
      "cell_type": "markdown",
      "metadata": {
        "id": "4gJ109O_DDkt"
      },
      "source": [
        "## Google mobility Data\n",
        "\n",
        "* Data downloaded from : https://www.google.com/covid19/mobility/"
      ]
    },
    {
      "cell_type": "code",
      "metadata": {
        "id": "ti692gbbDHit",
        "colab": {
          "base_uri": "https://localhost:8080/"
        },
        "outputId": "f8e31749-41a9-4700-ebbe-1d4192ed2e7b"
      },
      "source": [
        "!pip install wget"
      ],
      "execution_count": 1,
      "outputs": [
        {
          "output_type": "stream",
          "text": [
            "Collecting wget\n",
            "  Downloading https://files.pythonhosted.org/packages/47/6a/62e288da7bcda82b935ff0c6cfe542970f04e29c756b0e147251b2fb251f/wget-3.2.zip\n",
            "Building wheels for collected packages: wget\n",
            "  Building wheel for wget (setup.py) ... \u001b[?25l\u001b[?25hdone\n",
            "  Created wheel for wget: filename=wget-3.2-cp36-none-any.whl size=9682 sha256=fb21cfa20d280b5af736aa6d1c53211f112a1b3abf5b04a766197aefe217c9cb\n",
            "  Stored in directory: /root/.cache/pip/wheels/40/15/30/7d8f7cea2902b4db79e3fea550d7d7b85ecb27ef992b618f3f\n",
            "Successfully built wget\n",
            "Installing collected packages: wget\n",
            "Successfully installed wget-3.2\n"
          ],
          "name": "stdout"
        }
      ]
    },
    {
      "cell_type": "code",
      "metadata": {
        "id": "1TPomQsaDJP6",
        "colab": {
          "base_uri": "https://localhost:8080/"
        },
        "outputId": "402216ff-8244-4d7c-a0a0-3386fea20a89"
      },
      "source": [
        "import pandas as pd\n",
        "import seaborn as sns\n",
        "import numpy as np\n",
        "import matplotlib.pyplot as plt\n",
        "import os\n",
        "import wget\n",
        "from pandas import Series, datetime\n",
        "from pandas.plotting import scatter_matrix, autocorrelation_plot\n",
        "from sklearn.preprocessing import StandardScaler, RobustScaler\n",
        "from sklearn.model_selection import train_test_split, KFold, cross_val_score, GridSearchCV, TimeSeriesSplit\n",
        "from sklearn import metrics\n",
        "from sklearn.metrics import classification_report, confusion_matrix, accuracy_score, mean_squared_error\n",
        "from sklearn.pipeline import Pipeline\n",
        "from sklearn.linear_model import LogisticRegression\n",
        "from sklearn.tree import DecisionTreeClassifier\n",
        "from sklearn.neighbors import KNeighborsClassifier\n",
        "from sklearn.discriminant_analysis import LinearDiscriminantAnalysis\n",
        "from sklearn.naive_bayes import GaussianNB\n",
        "from sklearn.cluster import KMeans\n",
        "from sklearn.svm import SVC\n",
        "from sklearn.ensemble import AdaBoostClassifier, GradientBoostingClassifier, RandomForestClassifier, ExtraTreesClassifier\n",
        "from sklearn.metrics import roc_curve, auc\n",
        "import random\n",
        "from statsmodels.graphics.tsaplots import plot_acf, plot_pacf\n",
        "from statsmodels.tsa.arima_model import ARIMA\n",
        "from xgboost import XGBClassifier\n",
        "from sklearn.mixture import GaussianMixture"
      ],
      "execution_count": 2,
      "outputs": [
        {
          "output_type": "stream",
          "text": [
            "/usr/local/lib/python3.6/dist-packages/statsmodels/tools/_testing.py:19: FutureWarning: pandas.util.testing is deprecated. Use the functions in the public API at pandas.testing instead.\n",
            "  import pandas.util.testing as tm\n"
          ],
          "name": "stderr"
        }
      ]
    },
    {
      "cell_type": "code",
      "metadata": {
        "id": "2R8vJH3GC-Ue",
        "colab": {
          "base_uri": "https://localhost:8080/",
          "height": 35
        },
        "outputId": "5d53c96f-3e9e-4457-d41e-acc7df74f2e8"
      },
      "source": [
        "download_url = 'https://www.gstatic.com/covid19/mobility/Global_Mobility_Report.csv?cachebust=94537edba4db1128'\n",
        "\n",
        "filename = wget.download(download_url)\n",
        "\n",
        "filename"
      ],
      "execution_count": 3,
      "outputs": [
        {
          "output_type": "execute_result",
          "data": {
            "application/vnd.google.colaboratory.intrinsic+json": {
              "type": "string"
            },
            "text/plain": [
              "'Global_Mobility_Report.csv'"
            ]
          },
          "metadata": {
            "tags": []
          },
          "execution_count": 3
        }
      ]
    },
    {
      "cell_type": "code",
      "metadata": {
        "id": "vLBqB9fbDXiW",
        "colab": {
          "base_uri": "https://localhost:8080/",
          "height": 165
        },
        "outputId": "b29a2988-ef29-40d5-9867-3ebe12e5d4a9"
      },
      "source": [
        "mobility_data = pd.read_csv(filename,low_memory=False)\n",
        "mobility_data.head(2)"
      ],
      "execution_count": 4,
      "outputs": [
        {
          "output_type": "execute_result",
          "data": {
            "text/html": [
              "<div>\n",
              "<style scoped>\n",
              "    .dataframe tbody tr th:only-of-type {\n",
              "        vertical-align: middle;\n",
              "    }\n",
              "\n",
              "    .dataframe tbody tr th {\n",
              "        vertical-align: top;\n",
              "    }\n",
              "\n",
              "    .dataframe thead th {\n",
              "        text-align: right;\n",
              "    }\n",
              "</style>\n",
              "<table border=\"1\" class=\"dataframe\">\n",
              "  <thead>\n",
              "    <tr style=\"text-align: right;\">\n",
              "      <th></th>\n",
              "      <th>country_region_code</th>\n",
              "      <th>country_region</th>\n",
              "      <th>sub_region_1</th>\n",
              "      <th>sub_region_2</th>\n",
              "      <th>metro_area</th>\n",
              "      <th>iso_3166_2_code</th>\n",
              "      <th>census_fips_code</th>\n",
              "      <th>date</th>\n",
              "      <th>retail_and_recreation_percent_change_from_baseline</th>\n",
              "      <th>grocery_and_pharmacy_percent_change_from_baseline</th>\n",
              "      <th>parks_percent_change_from_baseline</th>\n",
              "      <th>transit_stations_percent_change_from_baseline</th>\n",
              "      <th>workplaces_percent_change_from_baseline</th>\n",
              "      <th>residential_percent_change_from_baseline</th>\n",
              "    </tr>\n",
              "  </thead>\n",
              "  <tbody>\n",
              "    <tr>\n",
              "      <th>0</th>\n",
              "      <td>AE</td>\n",
              "      <td>United Arab Emirates</td>\n",
              "      <td>NaN</td>\n",
              "      <td>NaN</td>\n",
              "      <td>NaN</td>\n",
              "      <td>NaN</td>\n",
              "      <td>NaN</td>\n",
              "      <td>2020-02-15</td>\n",
              "      <td>0.0</td>\n",
              "      <td>4.0</td>\n",
              "      <td>5.0</td>\n",
              "      <td>0.0</td>\n",
              "      <td>2.0</td>\n",
              "      <td>1.0</td>\n",
              "    </tr>\n",
              "    <tr>\n",
              "      <th>1</th>\n",
              "      <td>AE</td>\n",
              "      <td>United Arab Emirates</td>\n",
              "      <td>NaN</td>\n",
              "      <td>NaN</td>\n",
              "      <td>NaN</td>\n",
              "      <td>NaN</td>\n",
              "      <td>NaN</td>\n",
              "      <td>2020-02-16</td>\n",
              "      <td>1.0</td>\n",
              "      <td>4.0</td>\n",
              "      <td>4.0</td>\n",
              "      <td>1.0</td>\n",
              "      <td>2.0</td>\n",
              "      <td>1.0</td>\n",
              "    </tr>\n",
              "  </tbody>\n",
              "</table>\n",
              "</div>"
            ],
            "text/plain": [
              "  country_region_code  ... residential_percent_change_from_baseline\n",
              "0                  AE  ...                                      1.0\n",
              "1                  AE  ...                                      1.0\n",
              "\n",
              "[2 rows x 14 columns]"
            ]
          },
          "metadata": {
            "tags": []
          },
          "execution_count": 4
        }
      ]
    },
    {
      "cell_type": "code",
      "metadata": {
        "id": "xoBBomR8Dap1",
        "colab": {
          "base_uri": "https://localhost:8080/",
          "height": 309
        },
        "outputId": "bc325e8b-5d9a-4eec-9f21-d174b4aa6ec9"
      },
      "source": [
        "US_mobility = mobility_data[mobility_data['country_region'] == 'United States']\n",
        "US_mobility.head()"
      ],
      "execution_count": 5,
      "outputs": [
        {
          "output_type": "execute_result",
          "data": {
            "text/html": [
              "<div>\n",
              "<style scoped>\n",
              "    .dataframe tbody tr th:only-of-type {\n",
              "        vertical-align: middle;\n",
              "    }\n",
              "\n",
              "    .dataframe tbody tr th {\n",
              "        vertical-align: top;\n",
              "    }\n",
              "\n",
              "    .dataframe thead th {\n",
              "        text-align: right;\n",
              "    }\n",
              "</style>\n",
              "<table border=\"1\" class=\"dataframe\">\n",
              "  <thead>\n",
              "    <tr style=\"text-align: right;\">\n",
              "      <th></th>\n",
              "      <th>country_region_code</th>\n",
              "      <th>country_region</th>\n",
              "      <th>sub_region_1</th>\n",
              "      <th>sub_region_2</th>\n",
              "      <th>metro_area</th>\n",
              "      <th>iso_3166_2_code</th>\n",
              "      <th>census_fips_code</th>\n",
              "      <th>date</th>\n",
              "      <th>retail_and_recreation_percent_change_from_baseline</th>\n",
              "      <th>grocery_and_pharmacy_percent_change_from_baseline</th>\n",
              "      <th>parks_percent_change_from_baseline</th>\n",
              "      <th>transit_stations_percent_change_from_baseline</th>\n",
              "      <th>workplaces_percent_change_from_baseline</th>\n",
              "      <th>residential_percent_change_from_baseline</th>\n",
              "    </tr>\n",
              "  </thead>\n",
              "  <tbody>\n",
              "    <tr>\n",
              "      <th>2809292</th>\n",
              "      <td>US</td>\n",
              "      <td>United States</td>\n",
              "      <td>NaN</td>\n",
              "      <td>NaN</td>\n",
              "      <td>NaN</td>\n",
              "      <td>NaN</td>\n",
              "      <td>NaN</td>\n",
              "      <td>2020-02-15</td>\n",
              "      <td>6.0</td>\n",
              "      <td>2.0</td>\n",
              "      <td>15.0</td>\n",
              "      <td>3.0</td>\n",
              "      <td>2.0</td>\n",
              "      <td>-1.0</td>\n",
              "    </tr>\n",
              "    <tr>\n",
              "      <th>2809293</th>\n",
              "      <td>US</td>\n",
              "      <td>United States</td>\n",
              "      <td>NaN</td>\n",
              "      <td>NaN</td>\n",
              "      <td>NaN</td>\n",
              "      <td>NaN</td>\n",
              "      <td>NaN</td>\n",
              "      <td>2020-02-16</td>\n",
              "      <td>7.0</td>\n",
              "      <td>1.0</td>\n",
              "      <td>16.0</td>\n",
              "      <td>2.0</td>\n",
              "      <td>0.0</td>\n",
              "      <td>-1.0</td>\n",
              "    </tr>\n",
              "    <tr>\n",
              "      <th>2809294</th>\n",
              "      <td>US</td>\n",
              "      <td>United States</td>\n",
              "      <td>NaN</td>\n",
              "      <td>NaN</td>\n",
              "      <td>NaN</td>\n",
              "      <td>NaN</td>\n",
              "      <td>NaN</td>\n",
              "      <td>2020-02-17</td>\n",
              "      <td>6.0</td>\n",
              "      <td>0.0</td>\n",
              "      <td>28.0</td>\n",
              "      <td>-9.0</td>\n",
              "      <td>-24.0</td>\n",
              "      <td>5.0</td>\n",
              "    </tr>\n",
              "    <tr>\n",
              "      <th>2809295</th>\n",
              "      <td>US</td>\n",
              "      <td>United States</td>\n",
              "      <td>NaN</td>\n",
              "      <td>NaN</td>\n",
              "      <td>NaN</td>\n",
              "      <td>NaN</td>\n",
              "      <td>NaN</td>\n",
              "      <td>2020-02-18</td>\n",
              "      <td>0.0</td>\n",
              "      <td>-1.0</td>\n",
              "      <td>6.0</td>\n",
              "      <td>1.0</td>\n",
              "      <td>0.0</td>\n",
              "      <td>1.0</td>\n",
              "    </tr>\n",
              "    <tr>\n",
              "      <th>2809296</th>\n",
              "      <td>US</td>\n",
              "      <td>United States</td>\n",
              "      <td>NaN</td>\n",
              "      <td>NaN</td>\n",
              "      <td>NaN</td>\n",
              "      <td>NaN</td>\n",
              "      <td>NaN</td>\n",
              "      <td>2020-02-19</td>\n",
              "      <td>2.0</td>\n",
              "      <td>0.0</td>\n",
              "      <td>8.0</td>\n",
              "      <td>1.0</td>\n",
              "      <td>1.0</td>\n",
              "      <td>0.0</td>\n",
              "    </tr>\n",
              "  </tbody>\n",
              "</table>\n",
              "</div>"
            ],
            "text/plain": [
              "        country_region_code  ... residential_percent_change_from_baseline\n",
              "2809292                  US  ...                                     -1.0\n",
              "2809293                  US  ...                                     -1.0\n",
              "2809294                  US  ...                                      5.0\n",
              "2809295                  US  ...                                      1.0\n",
              "2809296                  US  ...                                      0.0\n",
              "\n",
              "[5 rows x 14 columns]"
            ]
          },
          "metadata": {
            "tags": []
          },
          "execution_count": 5
        }
      ]
    },
    {
      "cell_type": "markdown",
      "metadata": {
        "id": "mN-SP5yFEDU-"
      },
      "source": [
        "## 'Sub region' column has the State data "
      ]
    },
    {
      "cell_type": "code",
      "metadata": {
        "id": "WEpRkBGtDgPT",
        "colab": {
          "base_uri": "https://localhost:8080/"
        },
        "outputId": "ca7b8602-7f35-401f-cd15-a92bc7981e99"
      },
      "source": [
        "US_mobility['sub_region_1'].unique()"
      ],
      "execution_count": 6,
      "outputs": [
        {
          "output_type": "execute_result",
          "data": {
            "text/plain": [
              "array([nan, 'Alabama', 'Alaska', 'Arizona', 'Arkansas', 'California',\n",
              "       'Colorado', 'Connecticut', 'Delaware', 'District of Columbia',\n",
              "       'Florida', 'Georgia', 'Hawaii', 'Idaho', 'Illinois', 'Indiana',\n",
              "       'Iowa', 'Kansas', 'Kentucky', 'Louisiana', 'Maine', 'Maryland',\n",
              "       'Massachusetts', 'Michigan', 'Minnesota', 'Mississippi',\n",
              "       'Missouri', 'Montana', 'Nebraska', 'Nevada', 'New Hampshire',\n",
              "       'New Jersey', 'New Mexico', 'New York', 'North Carolina',\n",
              "       'North Dakota', 'Ohio', 'Oklahoma', 'Oregon', 'Pennsylvania',\n",
              "       'Rhode Island', 'South Carolina', 'South Dakota', 'Tennessee',\n",
              "       'Texas', 'Utah', 'Vermont', 'Virginia', 'Washington',\n",
              "       'West Virginia', 'Wisconsin', 'Wyoming'], dtype=object)"
            ]
          },
          "metadata": {
            "tags": []
          },
          "execution_count": 6
        }
      ]
    },
    {
      "cell_type": "code",
      "metadata": {
        "id": "71J9ZtNHELTe",
        "colab": {
          "base_uri": "https://localhost:8080/",
          "height": 165
        },
        "outputId": "dd2eb326-d122-4716-cd08-a8e7ef106a20"
      },
      "source": [
        "CA_mobility_data = US_mobility[US_mobility['sub_region_1'] == 'California' ]\n",
        "#CA_mobility_data.dropna()\n",
        "CA_mobility_data.head(2)"
      ],
      "execution_count": 7,
      "outputs": [
        {
          "output_type": "execute_result",
          "data": {
            "text/html": [
              "<div>\n",
              "<style scoped>\n",
              "    .dataframe tbody tr th:only-of-type {\n",
              "        vertical-align: middle;\n",
              "    }\n",
              "\n",
              "    .dataframe tbody tr th {\n",
              "        vertical-align: top;\n",
              "    }\n",
              "\n",
              "    .dataframe thead th {\n",
              "        text-align: right;\n",
              "    }\n",
              "</style>\n",
              "<table border=\"1\" class=\"dataframe\">\n",
              "  <thead>\n",
              "    <tr style=\"text-align: right;\">\n",
              "      <th></th>\n",
              "      <th>country_region_code</th>\n",
              "      <th>country_region</th>\n",
              "      <th>sub_region_1</th>\n",
              "      <th>sub_region_2</th>\n",
              "      <th>metro_area</th>\n",
              "      <th>iso_3166_2_code</th>\n",
              "      <th>census_fips_code</th>\n",
              "      <th>date</th>\n",
              "      <th>retail_and_recreation_percent_change_from_baseline</th>\n",
              "      <th>grocery_and_pharmacy_percent_change_from_baseline</th>\n",
              "      <th>parks_percent_change_from_baseline</th>\n",
              "      <th>transit_stations_percent_change_from_baseline</th>\n",
              "      <th>workplaces_percent_change_from_baseline</th>\n",
              "      <th>residential_percent_change_from_baseline</th>\n",
              "    </tr>\n",
              "  </thead>\n",
              "  <tbody>\n",
              "    <tr>\n",
              "      <th>2856421</th>\n",
              "      <td>US</td>\n",
              "      <td>United States</td>\n",
              "      <td>California</td>\n",
              "      <td>NaN</td>\n",
              "      <td>NaN</td>\n",
              "      <td>US-CA</td>\n",
              "      <td>NaN</td>\n",
              "      <td>2020-02-15</td>\n",
              "      <td>1.0</td>\n",
              "      <td>1.0</td>\n",
              "      <td>19.0</td>\n",
              "      <td>1.0</td>\n",
              "      <td>-1.0</td>\n",
              "      <td>0.0</td>\n",
              "    </tr>\n",
              "    <tr>\n",
              "      <th>2856422</th>\n",
              "      <td>US</td>\n",
              "      <td>United States</td>\n",
              "      <td>California</td>\n",
              "      <td>NaN</td>\n",
              "      <td>NaN</td>\n",
              "      <td>US-CA</td>\n",
              "      <td>NaN</td>\n",
              "      <td>2020-02-16</td>\n",
              "      <td>5.0</td>\n",
              "      <td>0.0</td>\n",
              "      <td>31.0</td>\n",
              "      <td>1.0</td>\n",
              "      <td>-1.0</td>\n",
              "      <td>-1.0</td>\n",
              "    </tr>\n",
              "  </tbody>\n",
              "</table>\n",
              "</div>"
            ],
            "text/plain": [
              "        country_region_code  ... residential_percent_change_from_baseline\n",
              "2856421                  US  ...                                      0.0\n",
              "2856422                  US  ...                                     -1.0\n",
              "\n",
              "[2 rows x 14 columns]"
            ]
          },
          "metadata": {
            "tags": []
          },
          "execution_count": 7
        }
      ]
    },
    {
      "cell_type": "markdown",
      "metadata": {
        "id": "fgMh975pFGD4"
      },
      "source": [
        "## 'sub_region_2' column has the county data"
      ]
    },
    {
      "cell_type": "code",
      "metadata": {
        "id": "JcgJZTWKFEoB",
        "colab": {
          "base_uri": "https://localhost:8080/"
        },
        "outputId": "9b70a352-e906-4e4b-ce18-fc86ee268521"
      },
      "source": [
        "print(len(CA_mobility_data['sub_region_2'].unique()))\n",
        "print(CA_mobility_data.shape)\n",
        "CA_mobility_data['sub_region_2'].unique()"
      ],
      "execution_count": 8,
      "outputs": [
        {
          "output_type": "stream",
          "text": [
            "57\n",
            "(17448, 14)\n"
          ],
          "name": "stdout"
        },
        {
          "output_type": "execute_result",
          "data": {
            "text/plain": [
              "array([nan, 'Alameda County', 'Amador County', 'Butte County',\n",
              "       'Calaveras County', 'Colusa County', 'Contra Costa County',\n",
              "       'Del Norte County', 'El Dorado County', 'Fresno County',\n",
              "       'Glenn County', 'Humboldt County', 'Imperial County',\n",
              "       'Inyo County', 'Kern County', 'Kings County', 'Lake County',\n",
              "       'Lassen County', 'Los Angeles County', 'Madera County',\n",
              "       'Marin County', 'Mariposa County', 'Mendocino County',\n",
              "       'Merced County', 'Modoc County', 'Mono County', 'Monterey County',\n",
              "       'Napa County', 'Nevada County', 'Orange County', 'Placer County',\n",
              "       'Plumas County', 'Riverside County', 'Sacramento County',\n",
              "       'San Benito County', 'San Bernardino County', 'San Diego County',\n",
              "       'San Francisco County', 'San Joaquin County',\n",
              "       'San Luis Obispo County', 'San Mateo County',\n",
              "       'Santa Barbara County', 'Santa Clara County', 'Santa Cruz County',\n",
              "       'Shasta County', 'Siskiyou County', 'Solano County',\n",
              "       'Sonoma County', 'Stanislaus County', 'Sutter County',\n",
              "       'Tehama County', 'Trinity County', 'Tulare County',\n",
              "       'Tuolumne County', 'Ventura County', 'Yolo County', 'Yuba County'],\n",
              "      dtype=object)"
            ]
          },
          "metadata": {
            "tags": []
          },
          "execution_count": 8
        }
      ]
    },
    {
      "cell_type": "markdown",
      "metadata": {
        "id": "2dtJOz8TLOX7"
      },
      "source": [
        "#### Dropping nan from county data"
      ]
    },
    {
      "cell_type": "code",
      "metadata": {
        "id": "3jwuw9JQFYU4",
        "colab": {
          "base_uri": "https://localhost:8080/",
          "height": 182
        },
        "outputId": "bf75459e-94be-403d-b914-dd9a2191a076"
      },
      "source": [
        "CA_mobility_data = CA_mobility_data.dropna(subset=['sub_region_2'])\n",
        "print(CA_mobility_data.shape)\n",
        "CA_mobility_data.head(2)\n",
        "#CA_mobility_data[CA_mobility_data['sub_region_2'] == nan]"
      ],
      "execution_count": 9,
      "outputs": [
        {
          "output_type": "stream",
          "text": [
            "(17133, 14)\n"
          ],
          "name": "stdout"
        },
        {
          "output_type": "execute_result",
          "data": {
            "text/html": [
              "<div>\n",
              "<style scoped>\n",
              "    .dataframe tbody tr th:only-of-type {\n",
              "        vertical-align: middle;\n",
              "    }\n",
              "\n",
              "    .dataframe tbody tr th {\n",
              "        vertical-align: top;\n",
              "    }\n",
              "\n",
              "    .dataframe thead th {\n",
              "        text-align: right;\n",
              "    }\n",
              "</style>\n",
              "<table border=\"1\" class=\"dataframe\">\n",
              "  <thead>\n",
              "    <tr style=\"text-align: right;\">\n",
              "      <th></th>\n",
              "      <th>country_region_code</th>\n",
              "      <th>country_region</th>\n",
              "      <th>sub_region_1</th>\n",
              "      <th>sub_region_2</th>\n",
              "      <th>metro_area</th>\n",
              "      <th>iso_3166_2_code</th>\n",
              "      <th>census_fips_code</th>\n",
              "      <th>date</th>\n",
              "      <th>retail_and_recreation_percent_change_from_baseline</th>\n",
              "      <th>grocery_and_pharmacy_percent_change_from_baseline</th>\n",
              "      <th>parks_percent_change_from_baseline</th>\n",
              "      <th>transit_stations_percent_change_from_baseline</th>\n",
              "      <th>workplaces_percent_change_from_baseline</th>\n",
              "      <th>residential_percent_change_from_baseline</th>\n",
              "    </tr>\n",
              "  </thead>\n",
              "  <tbody>\n",
              "    <tr>\n",
              "      <th>2856736</th>\n",
              "      <td>US</td>\n",
              "      <td>United States</td>\n",
              "      <td>California</td>\n",
              "      <td>Alameda County</td>\n",
              "      <td>NaN</td>\n",
              "      <td>NaN</td>\n",
              "      <td>6001.0</td>\n",
              "      <td>2020-02-15</td>\n",
              "      <td>1.0</td>\n",
              "      <td>0.0</td>\n",
              "      <td>22.0</td>\n",
              "      <td>1.0</td>\n",
              "      <td>0.0</td>\n",
              "      <td>-1.0</td>\n",
              "    </tr>\n",
              "    <tr>\n",
              "      <th>2856737</th>\n",
              "      <td>US</td>\n",
              "      <td>United States</td>\n",
              "      <td>California</td>\n",
              "      <td>Alameda County</td>\n",
              "      <td>NaN</td>\n",
              "      <td>NaN</td>\n",
              "      <td>6001.0</td>\n",
              "      <td>2020-02-16</td>\n",
              "      <td>7.0</td>\n",
              "      <td>0.0</td>\n",
              "      <td>24.0</td>\n",
              "      <td>5.0</td>\n",
              "      <td>1.0</td>\n",
              "      <td>-2.0</td>\n",
              "    </tr>\n",
              "  </tbody>\n",
              "</table>\n",
              "</div>"
            ],
            "text/plain": [
              "        country_region_code  ... residential_percent_change_from_baseline\n",
              "2856736                  US  ...                                     -1.0\n",
              "2856737                  US  ...                                     -2.0\n",
              "\n",
              "[2 rows x 14 columns]"
            ]
          },
          "metadata": {
            "tags": []
          },
          "execution_count": 9
        }
      ]
    },
    {
      "cell_type": "markdown",
      "metadata": {
        "id": "Ma5eZctHLDBa"
      },
      "source": [
        "## Analysing one county for understanding (Alameda County)"
      ]
    },
    {
      "cell_type": "code",
      "metadata": {
        "id": "TZ-d4xAUK0eo",
        "colab": {
          "base_uri": "https://localhost:8080/",
          "height": 326
        },
        "outputId": "6cff4820-4b76-4c80-8fb4-9231ccca0749"
      },
      "source": [
        "alameda_mobility_data = CA_mobility_data[CA_mobility_data['sub_region_2'] == 'Alameda County']\n",
        "print(alameda_mobility_data.shape)\n",
        "alameda_mobility_data.head()\n"
      ],
      "execution_count": 10,
      "outputs": [
        {
          "output_type": "stream",
          "text": [
            "(315, 14)\n"
          ],
          "name": "stdout"
        },
        {
          "output_type": "execute_result",
          "data": {
            "text/html": [
              "<div>\n",
              "<style scoped>\n",
              "    .dataframe tbody tr th:only-of-type {\n",
              "        vertical-align: middle;\n",
              "    }\n",
              "\n",
              "    .dataframe tbody tr th {\n",
              "        vertical-align: top;\n",
              "    }\n",
              "\n",
              "    .dataframe thead th {\n",
              "        text-align: right;\n",
              "    }\n",
              "</style>\n",
              "<table border=\"1\" class=\"dataframe\">\n",
              "  <thead>\n",
              "    <tr style=\"text-align: right;\">\n",
              "      <th></th>\n",
              "      <th>country_region_code</th>\n",
              "      <th>country_region</th>\n",
              "      <th>sub_region_1</th>\n",
              "      <th>sub_region_2</th>\n",
              "      <th>metro_area</th>\n",
              "      <th>iso_3166_2_code</th>\n",
              "      <th>census_fips_code</th>\n",
              "      <th>date</th>\n",
              "      <th>retail_and_recreation_percent_change_from_baseline</th>\n",
              "      <th>grocery_and_pharmacy_percent_change_from_baseline</th>\n",
              "      <th>parks_percent_change_from_baseline</th>\n",
              "      <th>transit_stations_percent_change_from_baseline</th>\n",
              "      <th>workplaces_percent_change_from_baseline</th>\n",
              "      <th>residential_percent_change_from_baseline</th>\n",
              "    </tr>\n",
              "  </thead>\n",
              "  <tbody>\n",
              "    <tr>\n",
              "      <th>2856736</th>\n",
              "      <td>US</td>\n",
              "      <td>United States</td>\n",
              "      <td>California</td>\n",
              "      <td>Alameda County</td>\n",
              "      <td>NaN</td>\n",
              "      <td>NaN</td>\n",
              "      <td>6001.0</td>\n",
              "      <td>2020-02-15</td>\n",
              "      <td>1.0</td>\n",
              "      <td>0.0</td>\n",
              "      <td>22.0</td>\n",
              "      <td>1.0</td>\n",
              "      <td>0.0</td>\n",
              "      <td>-1.0</td>\n",
              "    </tr>\n",
              "    <tr>\n",
              "      <th>2856737</th>\n",
              "      <td>US</td>\n",
              "      <td>United States</td>\n",
              "      <td>California</td>\n",
              "      <td>Alameda County</td>\n",
              "      <td>NaN</td>\n",
              "      <td>NaN</td>\n",
              "      <td>6001.0</td>\n",
              "      <td>2020-02-16</td>\n",
              "      <td>7.0</td>\n",
              "      <td>0.0</td>\n",
              "      <td>24.0</td>\n",
              "      <td>5.0</td>\n",
              "      <td>1.0</td>\n",
              "      <td>-2.0</td>\n",
              "    </tr>\n",
              "    <tr>\n",
              "      <th>2856738</th>\n",
              "      <td>US</td>\n",
              "      <td>United States</td>\n",
              "      <td>California</td>\n",
              "      <td>Alameda County</td>\n",
              "      <td>NaN</td>\n",
              "      <td>NaN</td>\n",
              "      <td>6001.0</td>\n",
              "      <td>2020-02-17</td>\n",
              "      <td>13.0</td>\n",
              "      <td>1.0</td>\n",
              "      <td>55.0</td>\n",
              "      <td>-31.0</td>\n",
              "      <td>-53.0</td>\n",
              "      <td>11.0</td>\n",
              "    </tr>\n",
              "    <tr>\n",
              "      <th>2856739</th>\n",
              "      <td>US</td>\n",
              "      <td>United States</td>\n",
              "      <td>California</td>\n",
              "      <td>Alameda County</td>\n",
              "      <td>NaN</td>\n",
              "      <td>NaN</td>\n",
              "      <td>6001.0</td>\n",
              "      <td>2020-02-18</td>\n",
              "      <td>-2.0</td>\n",
              "      <td>3.0</td>\n",
              "      <td>21.0</td>\n",
              "      <td>3.0</td>\n",
              "      <td>0.0</td>\n",
              "      <td>0.0</td>\n",
              "    </tr>\n",
              "    <tr>\n",
              "      <th>2856740</th>\n",
              "      <td>US</td>\n",
              "      <td>United States</td>\n",
              "      <td>California</td>\n",
              "      <td>Alameda County</td>\n",
              "      <td>NaN</td>\n",
              "      <td>NaN</td>\n",
              "      <td>6001.0</td>\n",
              "      <td>2020-02-19</td>\n",
              "      <td>-1.0</td>\n",
              "      <td>0.0</td>\n",
              "      <td>14.0</td>\n",
              "      <td>1.0</td>\n",
              "      <td>0.0</td>\n",
              "      <td>0.0</td>\n",
              "    </tr>\n",
              "  </tbody>\n",
              "</table>\n",
              "</div>"
            ],
            "text/plain": [
              "        country_region_code  ... residential_percent_change_from_baseline\n",
              "2856736                  US  ...                                     -1.0\n",
              "2856737                  US  ...                                     -2.0\n",
              "2856738                  US  ...                                     11.0\n",
              "2856739                  US  ...                                      0.0\n",
              "2856740                  US  ...                                      0.0\n",
              "\n",
              "[5 rows x 14 columns]"
            ]
          },
          "metadata": {
            "tags": []
          },
          "execution_count": 10
        }
      ]
    },
    {
      "cell_type": "code",
      "metadata": {
        "id": "JLmOwm5UMcYA",
        "colab": {
          "base_uri": "https://localhost:8080/",
          "height": 326
        },
        "outputId": "02a70669-628b-4e00-b391-b15d4be0528a"
      },
      "source": [
        "orange_mobility_data = CA_mobility_data[CA_mobility_data['sub_region_2'] == 'Orange County']\n",
        "print(orange_mobility_data.shape)\n",
        "orange_mobility_data.head()"
      ],
      "execution_count": 11,
      "outputs": [
        {
          "output_type": "stream",
          "text": [
            "(315, 14)\n"
          ],
          "name": "stdout"
        },
        {
          "output_type": "execute_result",
          "data": {
            "text/html": [
              "<div>\n",
              "<style scoped>\n",
              "    .dataframe tbody tr th:only-of-type {\n",
              "        vertical-align: middle;\n",
              "    }\n",
              "\n",
              "    .dataframe tbody tr th {\n",
              "        vertical-align: top;\n",
              "    }\n",
              "\n",
              "    .dataframe thead th {\n",
              "        text-align: right;\n",
              "    }\n",
              "</style>\n",
              "<table border=\"1\" class=\"dataframe\">\n",
              "  <thead>\n",
              "    <tr style=\"text-align: right;\">\n",
              "      <th></th>\n",
              "      <th>country_region_code</th>\n",
              "      <th>country_region</th>\n",
              "      <th>sub_region_1</th>\n",
              "      <th>sub_region_2</th>\n",
              "      <th>metro_area</th>\n",
              "      <th>iso_3166_2_code</th>\n",
              "      <th>census_fips_code</th>\n",
              "      <th>date</th>\n",
              "      <th>retail_and_recreation_percent_change_from_baseline</th>\n",
              "      <th>grocery_and_pharmacy_percent_change_from_baseline</th>\n",
              "      <th>parks_percent_change_from_baseline</th>\n",
              "      <th>transit_stations_percent_change_from_baseline</th>\n",
              "      <th>workplaces_percent_change_from_baseline</th>\n",
              "      <th>residential_percent_change_from_baseline</th>\n",
              "    </tr>\n",
              "  </thead>\n",
              "  <tbody>\n",
              "    <tr>\n",
              "      <th>2865234</th>\n",
              "      <td>US</td>\n",
              "      <td>United States</td>\n",
              "      <td>California</td>\n",
              "      <td>Orange County</td>\n",
              "      <td>NaN</td>\n",
              "      <td>NaN</td>\n",
              "      <td>6059.0</td>\n",
              "      <td>2020-02-15</td>\n",
              "      <td>0.0</td>\n",
              "      <td>0.0</td>\n",
              "      <td>9.0</td>\n",
              "      <td>0.0</td>\n",
              "      <td>0.0</td>\n",
              "      <td>0.0</td>\n",
              "    </tr>\n",
              "    <tr>\n",
              "      <th>2865235</th>\n",
              "      <td>US</td>\n",
              "      <td>United States</td>\n",
              "      <td>California</td>\n",
              "      <td>Orange County</td>\n",
              "      <td>NaN</td>\n",
              "      <td>NaN</td>\n",
              "      <td>6059.0</td>\n",
              "      <td>2020-02-16</td>\n",
              "      <td>4.0</td>\n",
              "      <td>-1.0</td>\n",
              "      <td>22.0</td>\n",
              "      <td>-3.0</td>\n",
              "      <td>0.0</td>\n",
              "      <td>-1.0</td>\n",
              "    </tr>\n",
              "    <tr>\n",
              "      <th>2865236</th>\n",
              "      <td>US</td>\n",
              "      <td>United States</td>\n",
              "      <td>California</td>\n",
              "      <td>Orange County</td>\n",
              "      <td>NaN</td>\n",
              "      <td>NaN</td>\n",
              "      <td>6059.0</td>\n",
              "      <td>2020-02-17</td>\n",
              "      <td>10.0</td>\n",
              "      <td>1.0</td>\n",
              "      <td>34.0</td>\n",
              "      <td>-10.0</td>\n",
              "      <td>-33.0</td>\n",
              "      <td>6.0</td>\n",
              "    </tr>\n",
              "    <tr>\n",
              "      <th>2865237</th>\n",
              "      <td>US</td>\n",
              "      <td>United States</td>\n",
              "      <td>California</td>\n",
              "      <td>Orange County</td>\n",
              "      <td>NaN</td>\n",
              "      <td>NaN</td>\n",
              "      <td>6059.0</td>\n",
              "      <td>2020-02-18</td>\n",
              "      <td>1.0</td>\n",
              "      <td>-2.0</td>\n",
              "      <td>7.0</td>\n",
              "      <td>3.0</td>\n",
              "      <td>2.0</td>\n",
              "      <td>0.0</td>\n",
              "    </tr>\n",
              "    <tr>\n",
              "      <th>2865238</th>\n",
              "      <td>US</td>\n",
              "      <td>United States</td>\n",
              "      <td>California</td>\n",
              "      <td>Orange County</td>\n",
              "      <td>NaN</td>\n",
              "      <td>NaN</td>\n",
              "      <td>6059.0</td>\n",
              "      <td>2020-02-19</td>\n",
              "      <td>0.0</td>\n",
              "      <td>-2.0</td>\n",
              "      <td>8.0</td>\n",
              "      <td>2.0</td>\n",
              "      <td>2.0</td>\n",
              "      <td>0.0</td>\n",
              "    </tr>\n",
              "  </tbody>\n",
              "</table>\n",
              "</div>"
            ],
            "text/plain": [
              "        country_region_code  ... residential_percent_change_from_baseline\n",
              "2865234                  US  ...                                      0.0\n",
              "2865235                  US  ...                                     -1.0\n",
              "2865236                  US  ...                                      6.0\n",
              "2865237                  US  ...                                      0.0\n",
              "2865238                  US  ...                                      0.0\n",
              "\n",
              "[5 rows x 14 columns]"
            ]
          },
          "metadata": {
            "tags": []
          },
          "execution_count": 11
        }
      ]
    },
    {
      "cell_type": "markdown",
      "metadata": {
        "id": "M6ZHb1QHMHjW"
      },
      "source": [
        "### Research note:\n",
        "We have covid-19 data for countywie from 01/22/2020. Google mobility data is available from 02/15/2020. According to the data format, we have google mobility data only from week 5."
      ]
    },
    {
      "cell_type": "markdown",
      "metadata": {
        "id": "5GE_OQjjMkA2"
      },
      "source": [
        "**Coding Logic:**\n",
        "* Get the minimum date (Start date )\n",
        "* Find the day for start date\n",
        "* **Filter data**: If the start date of the record is after Friday. We can't compute the average mobility with 2 -3 days data for the week. Hence drop such date from processing.\n",
        "* Get the maximum date (End date)\n",
        "* Find the day for end date\n",
        "* **Filter data**: If the start date of the record is before or on Tuesday, drop such date from processing for the above mentioned reason\n"
      ]
    },
    {
      "cell_type": "code",
      "metadata": {
        "id": "VKnq_yEOLe_v",
        "colab": {
          "base_uri": "https://localhost:8080/"
        },
        "outputId": "375e3f53-fd4d-4a64-935f-855610eeb975"
      },
      "source": [
        "startDate = alameda_mobility_data['date'].min()\n",
        "endDate = alameda_mobility_data['date'].max()\n",
        "\n",
        "print(startDate)\n",
        "print(endDate)\n",
        "\n",
        "from datetime import datetime, timedelta\n",
        "\n",
        "#dt_object = datetime.fromtimestamp(date)\n",
        "day_name= ['Monday', 'Tuesday', 'Wednesday', 'Thursday', 'Friday', 'Saturday','Sunday']\n",
        "\n",
        "starting_day = datetime.strptime(startDate, '%Y-%m-%d').weekday()\n",
        "new_starting_date = datetime.strptime(startDate, '%Y-%m-%d')\n",
        "if(starting_day >= 4): # which is more than Friday\n",
        "  new_starting_day = 6 - starting_day\n",
        "  starting_day = datetime.strptime(startDate, '%Y-%m-%d').weekday()\n",
        "  new_starting_date = datetime.strptime(startDate, '%Y-%m-%d') + timedelta(days=new_starting_day)\n",
        "\n",
        "\n",
        "ending_day = datetime.strptime(endDate, '%Y-%m-%d').weekday()\n",
        "\n",
        "new_ending_date = datetime.strptime(endDate, '%Y-%m-%d')\n",
        "if(ending_day <= 1): # which is less than Tuesday\n",
        "  new_ending_day = ending_day\n",
        "  new_ending_date = datetime.strptime(endDate, '%Y-%m-%d') - timedelta(days=new_ending_day)\n",
        "\n",
        "new_starting_date = new_starting_date.strftime('%Y-%m-%d')\n",
        "new_ending_date = new_ending_date.strftime('%Y-%m-%d')\n",
        "\n",
        "print(new_starting_date)\n",
        "print(new_ending_date)"
      ],
      "execution_count": 12,
      "outputs": [
        {
          "output_type": "stream",
          "text": [
            "2020-02-15\n",
            "2020-12-25\n",
            "2020-02-16\n",
            "2020-12-25\n"
          ],
          "name": "stdout"
        }
      ]
    },
    {
      "cell_type": "code",
      "metadata": {
        "id": "Sp4Y8kRcP4LH",
        "colab": {
          "base_uri": "https://localhost:8080/",
          "height": 326
        },
        "outputId": "05dc4d3b-6aa6-427f-82b4-7cb87d2c8b62"
      },
      "source": [
        "filtered_alameda_county = alameda_mobility_data[(alameda_mobility_data['date'] >= new_starting_date) &(alameda_mobility_data['date']<= new_ending_date)]\n",
        "\n",
        "print(filtered_alameda_county.shape)\n",
        "filtered_alameda_county.head()\n"
      ],
      "execution_count": 13,
      "outputs": [
        {
          "output_type": "stream",
          "text": [
            "(314, 14)\n"
          ],
          "name": "stdout"
        },
        {
          "output_type": "execute_result",
          "data": {
            "text/html": [
              "<div>\n",
              "<style scoped>\n",
              "    .dataframe tbody tr th:only-of-type {\n",
              "        vertical-align: middle;\n",
              "    }\n",
              "\n",
              "    .dataframe tbody tr th {\n",
              "        vertical-align: top;\n",
              "    }\n",
              "\n",
              "    .dataframe thead th {\n",
              "        text-align: right;\n",
              "    }\n",
              "</style>\n",
              "<table border=\"1\" class=\"dataframe\">\n",
              "  <thead>\n",
              "    <tr style=\"text-align: right;\">\n",
              "      <th></th>\n",
              "      <th>country_region_code</th>\n",
              "      <th>country_region</th>\n",
              "      <th>sub_region_1</th>\n",
              "      <th>sub_region_2</th>\n",
              "      <th>metro_area</th>\n",
              "      <th>iso_3166_2_code</th>\n",
              "      <th>census_fips_code</th>\n",
              "      <th>date</th>\n",
              "      <th>retail_and_recreation_percent_change_from_baseline</th>\n",
              "      <th>grocery_and_pharmacy_percent_change_from_baseline</th>\n",
              "      <th>parks_percent_change_from_baseline</th>\n",
              "      <th>transit_stations_percent_change_from_baseline</th>\n",
              "      <th>workplaces_percent_change_from_baseline</th>\n",
              "      <th>residential_percent_change_from_baseline</th>\n",
              "    </tr>\n",
              "  </thead>\n",
              "  <tbody>\n",
              "    <tr>\n",
              "      <th>2856737</th>\n",
              "      <td>US</td>\n",
              "      <td>United States</td>\n",
              "      <td>California</td>\n",
              "      <td>Alameda County</td>\n",
              "      <td>NaN</td>\n",
              "      <td>NaN</td>\n",
              "      <td>6001.0</td>\n",
              "      <td>2020-02-16</td>\n",
              "      <td>7.0</td>\n",
              "      <td>0.0</td>\n",
              "      <td>24.0</td>\n",
              "      <td>5.0</td>\n",
              "      <td>1.0</td>\n",
              "      <td>-2.0</td>\n",
              "    </tr>\n",
              "    <tr>\n",
              "      <th>2856738</th>\n",
              "      <td>US</td>\n",
              "      <td>United States</td>\n",
              "      <td>California</td>\n",
              "      <td>Alameda County</td>\n",
              "      <td>NaN</td>\n",
              "      <td>NaN</td>\n",
              "      <td>6001.0</td>\n",
              "      <td>2020-02-17</td>\n",
              "      <td>13.0</td>\n",
              "      <td>1.0</td>\n",
              "      <td>55.0</td>\n",
              "      <td>-31.0</td>\n",
              "      <td>-53.0</td>\n",
              "      <td>11.0</td>\n",
              "    </tr>\n",
              "    <tr>\n",
              "      <th>2856739</th>\n",
              "      <td>US</td>\n",
              "      <td>United States</td>\n",
              "      <td>California</td>\n",
              "      <td>Alameda County</td>\n",
              "      <td>NaN</td>\n",
              "      <td>NaN</td>\n",
              "      <td>6001.0</td>\n",
              "      <td>2020-02-18</td>\n",
              "      <td>-2.0</td>\n",
              "      <td>3.0</td>\n",
              "      <td>21.0</td>\n",
              "      <td>3.0</td>\n",
              "      <td>0.0</td>\n",
              "      <td>0.0</td>\n",
              "    </tr>\n",
              "    <tr>\n",
              "      <th>2856740</th>\n",
              "      <td>US</td>\n",
              "      <td>United States</td>\n",
              "      <td>California</td>\n",
              "      <td>Alameda County</td>\n",
              "      <td>NaN</td>\n",
              "      <td>NaN</td>\n",
              "      <td>6001.0</td>\n",
              "      <td>2020-02-19</td>\n",
              "      <td>-1.0</td>\n",
              "      <td>0.0</td>\n",
              "      <td>14.0</td>\n",
              "      <td>1.0</td>\n",
              "      <td>0.0</td>\n",
              "      <td>0.0</td>\n",
              "    </tr>\n",
              "    <tr>\n",
              "      <th>2856741</th>\n",
              "      <td>US</td>\n",
              "      <td>United States</td>\n",
              "      <td>California</td>\n",
              "      <td>Alameda County</td>\n",
              "      <td>NaN</td>\n",
              "      <td>NaN</td>\n",
              "      <td>6001.0</td>\n",
              "      <td>2020-02-20</td>\n",
              "      <td>1.0</td>\n",
              "      <td>1.0</td>\n",
              "      <td>13.0</td>\n",
              "      <td>2.0</td>\n",
              "      <td>0.0</td>\n",
              "      <td>0.0</td>\n",
              "    </tr>\n",
              "  </tbody>\n",
              "</table>\n",
              "</div>"
            ],
            "text/plain": [
              "        country_region_code  ... residential_percent_change_from_baseline\n",
              "2856737                  US  ...                                     -2.0\n",
              "2856738                  US  ...                                     11.0\n",
              "2856739                  US  ...                                      0.0\n",
              "2856740                  US  ...                                      0.0\n",
              "2856741                  US  ...                                      0.0\n",
              "\n",
              "[5 rows x 14 columns]"
            ]
          },
          "metadata": {
            "tags": []
          },
          "execution_count": 13
        }
      ]
    },
    {
      "cell_type": "code",
      "metadata": {
        "id": "1-hUwrYmTnO0",
        "colab": {
          "base_uri": "https://localhost:8080/"
        },
        "outputId": "3cec6c2c-354f-486b-9588-9d45c017bd71"
      },
      "source": [
        "filtered_alameda_county.dtypes"
      ],
      "execution_count": 14,
      "outputs": [
        {
          "output_type": "execute_result",
          "data": {
            "text/plain": [
              "country_region_code                                    object\n",
              "country_region                                         object\n",
              "sub_region_1                                           object\n",
              "sub_region_2                                           object\n",
              "metro_area                                             object\n",
              "iso_3166_2_code                                        object\n",
              "census_fips_code                                      float64\n",
              "date                                                   object\n",
              "retail_and_recreation_percent_change_from_baseline    float64\n",
              "grocery_and_pharmacy_percent_change_from_baseline     float64\n",
              "parks_percent_change_from_baseline                    float64\n",
              "transit_stations_percent_change_from_baseline         float64\n",
              "workplaces_percent_change_from_baseline               float64\n",
              "residential_percent_change_from_baseline              float64\n",
              "dtype: object"
            ]
          },
          "metadata": {
            "tags": []
          },
          "execution_count": 14
        }
      ]
    },
    {
      "cell_type": "markdown",
      "metadata": {
        "id": "QF7tMvDgV3t6"
      },
      "source": [
        "# Data computation - Average mobility for the week"
      ]
    },
    {
      "cell_type": "markdown",
      "metadata": {
        "id": "LzbINsoMVlpf"
      },
      "source": [
        "**Coding logic**:\n",
        "* We have daily data, we are converting to mean of the week so that we can know on a average how people have computed in a county"
      ]
    },
    {
      "cell_type": "code",
      "metadata": {
        "id": "GLOutbVtVlOW",
        "colab": {
          "base_uri": "https://localhost:8080/"
        },
        "outputId": "b10fa745-ee91-4dce-f2fa-9223d24173be"
      },
      "source": [
        "filtered_alameda_county.shape[0] / 7"
      ],
      "execution_count": 15,
      "outputs": [
        {
          "output_type": "execute_result",
          "data": {
            "text/plain": [
              "44.857142857142854"
            ]
          },
          "metadata": {
            "tags": []
          },
          "execution_count": 15
        }
      ]
    },
    {
      "cell_type": "code",
      "metadata": {
        "id": "rj_ZsTWUWW-q",
        "colab": {
          "base_uri": "https://localhost:8080/"
        },
        "outputId": "63351fdc-24bd-4b09-868a-0bfd15549c0b"
      },
      "source": [
        "minDate = filtered_alameda_county['date'].min()\n",
        "print(minDate)\n",
        "maxDate = filtered_alameda_county['date'].max()\n",
        "print(maxDate)\n",
        "dateList = filtered_alameda_county['date'].unique()\n",
        "print(len(dateList))\n",
        "\n",
        "dateList.sort()"
      ],
      "execution_count": 16,
      "outputs": [
        {
          "output_type": "stream",
          "text": [
            "2020-02-16\n",
            "2020-12-25\n",
            "314\n"
          ],
          "name": "stdout"
        }
      ]
    },
    {
      "cell_type": "code",
      "metadata": {
        "id": "tlf1NwXGWewd",
        "colab": {
          "base_uri": "https://localhost:8080/"
        },
        "outputId": "3f92379a-c37f-4dc3-df88-ef957253106f"
      },
      "source": [
        "day_name= ['Monday', 'Tuesday', 'Wednesday', 'Thursday', 'Friday', 'Saturday','Sunday']\n",
        "\n",
        "day = datetime.strptime(minDate, '%Y-%m-%d').weekday()\n",
        "if day == 6:\n",
        "  day =0\n",
        "elif day < 6:\n",
        "  day += 1\n",
        "\n",
        "print(day)"
      ],
      "execution_count": 17,
      "outputs": [
        {
          "output_type": "stream",
          "text": [
            "0\n"
          ],
          "name": "stdout"
        }
      ]
    },
    {
      "cell_type": "code",
      "metadata": {
        "id": "kKuYZhrrYOw0",
        "colab": {
          "base_uri": "https://localhost:8080/"
        },
        "outputId": "e2aeb742-ffa5-4eed-ad8a-57dcc140f66f"
      },
      "source": [
        "len(dateList)"
      ],
      "execution_count": 18,
      "outputs": [
        {
          "output_type": "execute_result",
          "data": {
            "text/plain": [
              "314"
            ]
          },
          "metadata": {
            "tags": []
          },
          "execution_count": 18
        }
      ]
    },
    {
      "cell_type": "code",
      "metadata": {
        "id": "ZGiQGmO_WSxL"
      },
      "source": [
        "index = 0\n",
        "count = 0\n",
        "lst = []\n",
        "while index < len(dateList):\n",
        "  row = []\n",
        "  j = 7 - day;\n",
        "  if index+j >= len(dateList):\n",
        "    break\n",
        "  # print(dateList[index:index+j])\n",
        "  #print(j)\n",
        "  weekRange = dateList[index:index+j]\n",
        " \n",
        "  row.append(count)\n",
        "  row.append(weekRange.min())\n",
        "  row.append(weekRange.max())\n",
        "  \n",
        "  \n",
        "  df = filtered_alameda_county[(filtered_alameda_county['date'] >= dateList[index]) & (filtered_alameda_county['date'] < dateList[index+j] )]\n",
        "  #print(df['sub_region_2'].tolist()[0])\n",
        "  row.append(df['sub_region_2'].tolist()[0])\n",
        "  row.append(df['census_fips_code'].tolist()[0])\n",
        "  row.append(df['retail_and_recreation_percent_change_from_baseline'].mean())\n",
        "  row.append(df['grocery_and_pharmacy_percent_change_from_baseline'].mean())\n",
        "  row.append(df['parks_percent_change_from_baseline'].mean())\n",
        "  row.append(df['transit_stations_percent_change_from_baseline'].mean())\n",
        "  row.append(df['workplaces_percent_change_from_baseline'].mean())\n",
        "  row.append(df['residential_percent_change_from_baseline'].mean())\n",
        "\n",
        "  #print(row)\n",
        "  lst.append(row)\n",
        "  index = index+j\n",
        "  day = 0\n",
        "  count +=1\n",
        "  #print('index in end ',index)\n",
        "  "
      ],
      "execution_count": 19,
      "outputs": []
    },
    {
      "cell_type": "code",
      "metadata": {
        "id": "d3uRV_8jaaoW",
        "colab": {
          "base_uri": "https://localhost:8080/",
          "height": 165
        },
        "outputId": "e09b7f09-efe7-4589-beeb-c15f541faf4c"
      },
      "source": [
        "alameda_mobility_df = pd.DataFrame(lst,index=None,columns=['Id','startDate','endDate','County','FIPS',\n",
        "                                                'retail_and_recreation_percent_change_from_baseline','grocery_and_pharmacy_percent_change_from_baseline',\n",
        "                                               'parks_percent_change_from_baseline','transit_stations_percent_change_from_baseline',\n",
        "                                               'workplaces_percent_change_from_baseline','residential_percent_change_from_baseline'])\n",
        "\n",
        "alameda_mobility_df.head(2)"
      ],
      "execution_count": 20,
      "outputs": [
        {
          "output_type": "execute_result",
          "data": {
            "text/html": [
              "<div>\n",
              "<style scoped>\n",
              "    .dataframe tbody tr th:only-of-type {\n",
              "        vertical-align: middle;\n",
              "    }\n",
              "\n",
              "    .dataframe tbody tr th {\n",
              "        vertical-align: top;\n",
              "    }\n",
              "\n",
              "    .dataframe thead th {\n",
              "        text-align: right;\n",
              "    }\n",
              "</style>\n",
              "<table border=\"1\" class=\"dataframe\">\n",
              "  <thead>\n",
              "    <tr style=\"text-align: right;\">\n",
              "      <th></th>\n",
              "      <th>Id</th>\n",
              "      <th>startDate</th>\n",
              "      <th>endDate</th>\n",
              "      <th>County</th>\n",
              "      <th>FIPS</th>\n",
              "      <th>retail_and_recreation_percent_change_from_baseline</th>\n",
              "      <th>grocery_and_pharmacy_percent_change_from_baseline</th>\n",
              "      <th>parks_percent_change_from_baseline</th>\n",
              "      <th>transit_stations_percent_change_from_baseline</th>\n",
              "      <th>workplaces_percent_change_from_baseline</th>\n",
              "      <th>residential_percent_change_from_baseline</th>\n",
              "    </tr>\n",
              "  </thead>\n",
              "  <tbody>\n",
              "    <tr>\n",
              "      <th>0</th>\n",
              "      <td>0</td>\n",
              "      <td>2020-02-16</td>\n",
              "      <td>2020-02-22</td>\n",
              "      <td>Alameda County</td>\n",
              "      <td>6001.0</td>\n",
              "      <td>2.857143</td>\n",
              "      <td>1.285714</td>\n",
              "      <td>21.857143</td>\n",
              "      <td>-3.285714</td>\n",
              "      <td>-6.428571</td>\n",
              "      <td>1.142857</td>\n",
              "    </tr>\n",
              "    <tr>\n",
              "      <th>1</th>\n",
              "      <td>1</td>\n",
              "      <td>2020-02-23</td>\n",
              "      <td>2020-02-29</td>\n",
              "      <td>Alameda County</td>\n",
              "      <td>6001.0</td>\n",
              "      <td>2.285714</td>\n",
              "      <td>3.428571</td>\n",
              "      <td>18.000000</td>\n",
              "      <td>3.285714</td>\n",
              "      <td>3.000000</td>\n",
              "      <td>-0.714286</td>\n",
              "    </tr>\n",
              "  </tbody>\n",
              "</table>\n",
              "</div>"
            ],
            "text/plain": [
              "   Id  ... residential_percent_change_from_baseline\n",
              "0   0  ...                                 1.142857\n",
              "1   1  ...                                -0.714286\n",
              "\n",
              "[2 rows x 11 columns]"
            ]
          },
          "metadata": {
            "tags": []
          },
          "execution_count": 20
        }
      ]
    },
    {
      "cell_type": "code",
      "metadata": {
        "id": "QgRjXr8AeguZ",
        "colab": {
          "base_uri": "https://localhost:8080/"
        },
        "outputId": "9b05eae4-082e-41d8-bd45-a3375ba701a8"
      },
      "source": [
        "alameda_mobility_df.shape"
      ],
      "execution_count": 21,
      "outputs": [
        {
          "output_type": "execute_result",
          "data": {
            "text/plain": [
              "(44, 11)"
            ]
          },
          "metadata": {
            "tags": []
          },
          "execution_count": 21
        }
      ]
    },
    {
      "cell_type": "markdown",
      "metadata": {
        "id": "b6UlDptLbckb"
      },
      "source": [
        "## Converting the above work for all counties "
      ]
    },
    {
      "cell_type": "code",
      "metadata": {
        "id": "AMiw_94hbGQg",
        "colab": {
          "base_uri": "https://localhost:8080/"
        },
        "outputId": "6c1cf3e6-011e-4ed1-b4e6-f3736afb49a7"
      },
      "source": [
        "\n",
        "day = datetime.strptime(minDate, '%Y-%m-%d').weekday()\n",
        "if day == 6:\n",
        "  day =0\n",
        "elif day < 6:\n",
        "  day += 1\n",
        "\n",
        "print(day)"
      ],
      "execution_count": 22,
      "outputs": [
        {
          "output_type": "stream",
          "text": [
            "0\n"
          ],
          "name": "stdout"
        }
      ]
    },
    {
      "cell_type": "code",
      "metadata": {
        "id": "IvEJbS70dPwg"
      },
      "source": [
        "def compute_mobility_average(countyName):\n",
        "  index = 0\n",
        "  count = 0\n",
        "  day = datetime.strptime(minDate, '%Y-%m-%d').weekday()\n",
        "  if day == 6:\n",
        "    day =0\n",
        "  elif day < 6:\n",
        "    day += 1\n",
        "  \n",
        "  while index < len(dateList):\n",
        "    row = []\n",
        "    j = 7 - day;\n",
        "    if index+j >= len(dateList):\n",
        "      break\n",
        "    # print(dateList[index:index+j])\n",
        "    #print(j)\n",
        "    weekRange = dateList[index:index+j]\n",
        "  \n",
        "    #row.append(count)\n",
        "    row.append(weekRange.min())\n",
        "    row.append(weekRange.max())\n",
        "    \n",
        "    \n",
        "    df = CA_mobility_data[(CA_mobility_data['sub_region_2'] == countyName) & (CA_mobility_data['date'] >= dateList[index]) & (CA_mobility_data['date'] < dateList[index+j] )]\n",
        "    #print(countyName, df['sub_region_2'].tolist())\n",
        "    #print(df)\n",
        "    if len(df['census_fips_code'].tolist()) > 0:\n",
        "      row.append(countyName)\n",
        "      row.append(df['census_fips_code'].tolist()[0])\n",
        "      row.append(df['retail_and_recreation_percent_change_from_baseline'].mean())\n",
        "      row.append(df['grocery_and_pharmacy_percent_change_from_baseline'].mean())\n",
        "      row.append(df['parks_percent_change_from_baseline'].mean())\n",
        "      row.append(df['transit_stations_percent_change_from_baseline'].mean())\n",
        "      row.append(df['workplaces_percent_change_from_baseline'].mean())\n",
        "      row.append(df['residential_percent_change_from_baseline'].mean())\n",
        "\n",
        "      #print(row)\n",
        "      lst.append(row)\n",
        "    index = index+j\n",
        "    day = 0\n",
        "    count +=1\n",
        "  return lst\n",
        "  "
      ],
      "execution_count": 36,
      "outputs": []
    },
    {
      "cell_type": "code",
      "metadata": {
        "id": "QjXv4XAYdkVN",
        "colab": {
          "base_uri": "https://localhost:8080/"
        },
        "outputId": "6313e0f9-fdba-4cd0-b22f-11edc305ed0d"
      },
      "source": [
        "county_names = CA_mobility_data['sub_region_2'].unique()\n",
        "print(len(county_names))\n",
        "lst = []\n",
        "for countyName in county_names:\n",
        "  compute_mobility_average(countyName)\n"
      ],
      "execution_count": 37,
      "outputs": [
        {
          "output_type": "stream",
          "text": [
            "56\n"
          ],
          "name": "stdout"
        }
      ]
    },
    {
      "cell_type": "code",
      "metadata": {
        "id": "0VpmcOy2eYIa",
        "colab": {
          "base_uri": "https://localhost:8080/",
          "height": 182
        },
        "outputId": "92f6f795-bcc1-493d-e201-c0c8038b9fd1"
      },
      "source": [
        "CA_mobility_avg_df = pd.DataFrame(lst,index=None,columns=['startDate','endDate','County','FIPS',\n",
        "                                                'retail_and_recreation_percent_change_from_baseline','grocery_and_pharmacy_percent_change_from_baseline',\n",
        "                                               'parks_percent_change_from_baseline','transit_stations_percent_change_from_baseline',\n",
        "                                               'workplaces_percent_change_from_baseline','residential_percent_change_from_baseline'])\n",
        "\n",
        "print(CA_mobility_avg_df.shape)\n",
        "CA_mobility_avg_df.head(2)"
      ],
      "execution_count": 38,
      "outputs": [
        {
          "output_type": "stream",
          "text": [
            "(2439, 10)\n"
          ],
          "name": "stdout"
        },
        {
          "output_type": "execute_result",
          "data": {
            "text/html": [
              "<div>\n",
              "<style scoped>\n",
              "    .dataframe tbody tr th:only-of-type {\n",
              "        vertical-align: middle;\n",
              "    }\n",
              "\n",
              "    .dataframe tbody tr th {\n",
              "        vertical-align: top;\n",
              "    }\n",
              "\n",
              "    .dataframe thead th {\n",
              "        text-align: right;\n",
              "    }\n",
              "</style>\n",
              "<table border=\"1\" class=\"dataframe\">\n",
              "  <thead>\n",
              "    <tr style=\"text-align: right;\">\n",
              "      <th></th>\n",
              "      <th>startDate</th>\n",
              "      <th>endDate</th>\n",
              "      <th>County</th>\n",
              "      <th>FIPS</th>\n",
              "      <th>retail_and_recreation_percent_change_from_baseline</th>\n",
              "      <th>grocery_and_pharmacy_percent_change_from_baseline</th>\n",
              "      <th>parks_percent_change_from_baseline</th>\n",
              "      <th>transit_stations_percent_change_from_baseline</th>\n",
              "      <th>workplaces_percent_change_from_baseline</th>\n",
              "      <th>residential_percent_change_from_baseline</th>\n",
              "    </tr>\n",
              "  </thead>\n",
              "  <tbody>\n",
              "    <tr>\n",
              "      <th>0</th>\n",
              "      <td>2020-02-16</td>\n",
              "      <td>2020-02-22</td>\n",
              "      <td>Alameda County</td>\n",
              "      <td>6001.0</td>\n",
              "      <td>2.857143</td>\n",
              "      <td>1.285714</td>\n",
              "      <td>21.857143</td>\n",
              "      <td>-3.285714</td>\n",
              "      <td>-6.428571</td>\n",
              "      <td>1.142857</td>\n",
              "    </tr>\n",
              "    <tr>\n",
              "      <th>1</th>\n",
              "      <td>2020-02-23</td>\n",
              "      <td>2020-02-29</td>\n",
              "      <td>Alameda County</td>\n",
              "      <td>6001.0</td>\n",
              "      <td>2.285714</td>\n",
              "      <td>3.428571</td>\n",
              "      <td>18.000000</td>\n",
              "      <td>3.285714</td>\n",
              "      <td>3.000000</td>\n",
              "      <td>-0.714286</td>\n",
              "    </tr>\n",
              "  </tbody>\n",
              "</table>\n",
              "</div>"
            ],
            "text/plain": [
              "    startDate  ... residential_percent_change_from_baseline\n",
              "0  2020-02-16  ...                                 1.142857\n",
              "1  2020-02-23  ...                                -0.714286\n",
              "\n",
              "[2 rows x 10 columns]"
            ]
          },
          "metadata": {
            "tags": []
          },
          "execution_count": 38
        }
      ]
    },
    {
      "cell_type": "code",
      "metadata": {
        "id": "pnISiHE6d96F",
        "colab": {
          "base_uri": "https://localhost:8080/"
        },
        "outputId": "2e492d03-b1d4-4a4e-8f9e-80d35b1391a0"
      },
      "source": [
        "CA_mobility_avg_df.shape"
      ],
      "execution_count": 39,
      "outputs": [
        {
          "output_type": "execute_result",
          "data": {
            "text/plain": [
              "(2439, 10)"
            ]
          },
          "metadata": {
            "tags": []
          },
          "execution_count": 39
        }
      ]
    },
    {
      "cell_type": "code",
      "metadata": {
        "id": "zjfm06LOevyt"
      },
      "source": [
        "CA_mobility_avg_df.to_csv(\"computed_CA_mobility_data.csv\",index=False)"
      ],
      "execution_count": 40,
      "outputs": []
    },
    {
      "cell_type": "markdown",
      "metadata": {
        "id": "Ksbh8oj5fS0b"
      },
      "source": [
        "## Completed work\n",
        "\n",
        "* We have downloaded data from Google mobility.\n",
        "* we got 6 key factors from people mobility statistics \n",
        "  * retail_and_recreation_percent_change_from_baseline\n",
        "  * parks_percent_change_from_baseline\n",
        "  * grocery_and_pharmacy_percent_change_from_baseline \n",
        "  * transit_stations_percent_change_from_baseline\n",
        "  * residential_percent_change_from_baseline\n",
        "  * workplaces_percent_change_from_baseline\n",
        "\n",
        "* We have computed the mean metric for the date range and exported as CSV"
      ]
    },
    {
      "cell_type": "markdown",
      "metadata": {
        "id": "vd78h5SRj1oa"
      },
      "source": [
        "## Apple and Waze data\n",
        "\n",
        "https://github.com/ActiveConclusion/COVID19_mobility"
      ]
    }
  ]
}