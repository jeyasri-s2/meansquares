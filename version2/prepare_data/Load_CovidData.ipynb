{
  "nbformat": 4,
  "nbformat_minor": 0,
  "metadata": {
    "colab": {
      "name": "Load_CovidData.ipynb",
      "provenance": [],
      "collapsed_sections": [],
      "toc_visible": true,
      "machine_shape": "hm",
      "include_colab_link": true
    },
    "kernelspec": {
      "name": "python3",
      "display_name": "Python 3"
    },
    "accelerator": "GPU"
  },
  "cells": [
    {
      "cell_type": "markdown",
      "metadata": {
        "id": "view-in-github",
        "colab_type": "text"
      },
      "source": [
        "<a href=\"https://colab.research.google.com/github/aarsanjani/meansquares/blob/master/version2/prepare_data/Load_CovidData.ipynb\" target=\"_parent\"><img src=\"https://colab.research.google.com/assets/colab-badge.svg\" alt=\"Open In Colab\"/></a>"
      ]
    },
    {
      "cell_type": "markdown",
      "metadata": {
        "id": "pbpEhHXoUSnp"
      },
      "source": [
        "# Goal:\r\n",
        "\r\n",
        "This colab loads data for COVID-19 and merges to population data"
      ]
    },
    {
      "cell_type": "markdown",
      "metadata": {
        "id": "5KLYplb9rUcO"
      },
      "source": [
        "# Topic: Investigate Covid-19 NY and CA data"
      ]
    },
    {
      "cell_type": "markdown",
      "metadata": {
        "id": "rQQ8KCcYrgh8"
      },
      "source": [
        "This colab include covid case data from JHU and moving avg trend analysis visualization"
      ]
    },
    {
      "cell_type": "code",
      "metadata": {
        "id": "mcdbrTS38vcE",
        "colab": {
          "base_uri": "https://localhost:8080/"
        },
        "outputId": "0280a9d0-2a20-4fed-d492-63cfd722b2ad"
      },
      "source": [
        "!pip install wget"
      ],
      "execution_count": 1,
      "outputs": [
        {
          "output_type": "stream",
          "text": [
            "Collecting wget\n",
            "  Downloading https://files.pythonhosted.org/packages/47/6a/62e288da7bcda82b935ff0c6cfe542970f04e29c756b0e147251b2fb251f/wget-3.2.zip\n",
            "Building wheels for collected packages: wget\n",
            "  Building wheel for wget (setup.py) ... \u001b[?25l\u001b[?25hdone\n",
            "  Created wheel for wget: filename=wget-3.2-cp36-none-any.whl size=9682 sha256=9a3b0ccf206bc60699e22a502b203420a3e4d31717bfe0b8416acd8cf3b20b4c\n",
            "  Stored in directory: /root/.cache/pip/wheels/40/15/30/7d8f7cea2902b4db79e3fea550d7d7b85ecb27ef992b618f3f\n",
            "Successfully built wget\n",
            "Installing collected packages: wget\n",
            "Successfully installed wget-3.2\n"
          ],
          "name": "stdout"
        }
      ]
    },
    {
      "cell_type": "markdown",
      "metadata": {
        "id": "GFEyT1gSN_CX"
      },
      "source": [
        "## Import Libraries"
      ]
    },
    {
      "cell_type": "code",
      "metadata": {
        "id": "6QbOhpGKrQub",
        "colab": {
          "base_uri": "https://localhost:8080/"
        },
        "outputId": "ae65bf3f-343e-4755-db52-eef7024c4efa"
      },
      "source": [
        "import pandas as pd\n",
        "from tqdm import tqdm\n",
        "\n",
        "import seaborn as sns\n",
        "import numpy as np\n",
        "import matplotlib.pyplot as plt\n",
        "import os\n",
        "import wget\n",
        "from pandas import Series, datetime\n",
        "from pandas.plotting import scatter_matrix, autocorrelation_plot\n",
        "from sklearn.preprocessing import StandardScaler, RobustScaler\n",
        "from sklearn.model_selection import train_test_split, KFold, cross_val_score, GridSearchCV, TimeSeriesSplit\n",
        "from sklearn import metrics\n",
        "from sklearn.metrics import classification_report, confusion_matrix, accuracy_score, mean_squared_error\n",
        "from sklearn.pipeline import Pipeline\n",
        "from sklearn.linear_model import LogisticRegression\n",
        "from sklearn.tree import DecisionTreeClassifier\n",
        "from sklearn.neighbors import KNeighborsClassifier\n",
        "from sklearn.discriminant_analysis import LinearDiscriminantAnalysis\n",
        "from sklearn.naive_bayes import GaussianNB\n",
        "from sklearn.cluster import KMeans\n",
        "from sklearn.svm import SVC\n",
        "from sklearn.ensemble import AdaBoostClassifier, GradientBoostingClassifier, RandomForestClassifier, ExtraTreesClassifier\n",
        "from sklearn.metrics import roc_curve, auc\n",
        "import random\n",
        "from statsmodels.graphics.tsaplots import plot_acf, plot_pacf\n",
        "from statsmodels.tsa.arima_model import ARIMA\n",
        "from xgboost import XGBClassifier\n",
        "from sklearn.mixture import GaussianMixture"
      ],
      "execution_count": 2,
      "outputs": [
        {
          "output_type": "stream",
          "text": [
            "/usr/local/lib/python3.6/dist-packages/statsmodels/tools/_testing.py:19: FutureWarning: pandas.util.testing is deprecated. Use the functions in the public API at pandas.testing instead.\n",
            "  import pandas.util.testing as tm\n"
          ],
          "name": "stderr"
        }
      ]
    },
    {
      "cell_type": "markdown",
      "metadata": {
        "id": "XG7L7Wu9ssnZ"
      },
      "source": [
        "## Mount Google drive\n"
      ]
    },
    {
      "cell_type": "code",
      "metadata": {
        "id": "SXC6gd0isu7o"
      },
      "source": [
        "os.environ[\"TF_CPP_MIN_LOG_LEVEL\"]=\"2\"\n",
        "import warnings; warnings.simplefilter('ignore')"
      ],
      "execution_count": 3,
      "outputs": []
    },
    {
      "cell_type": "code",
      "metadata": {
        "id": "kkIdtS1JsvlO",
        "colab": {
          "base_uri": "https://localhost:8080/"
        },
        "outputId": "de9a5c49-de2d-4f5e-bd9d-469291c7c564"
      },
      "source": [
        "from google.colab import drive\n",
        "drive.mount('/content/drive')"
      ],
      "execution_count": 4,
      "outputs": [
        {
          "output_type": "stream",
          "text": [
            "Mounted at /content/drive\n"
          ],
          "name": "stdout"
        }
      ]
    },
    {
      "cell_type": "code",
      "metadata": {
        "id": "F-i78za67STu"
      },
      "source": [
        "location = \"drive/Shared drives/the-mean-sqaures/the-mean-squares/Colab_Dataset/Dataset/\""
      ],
      "execution_count": null,
      "outputs": []
    },
    {
      "cell_type": "code",
      "metadata": {
        "id": "eSHBvEKMsMLZ",
        "colab": {
          "base_uri": "https://localhost:8080/"
        },
        "outputId": "74839aa4-799b-40e6-b01a-ff1e514ab763"
      },
      "source": [
        "!ls /content/drive/My\\ Drive/MasterProject-Personal/data"
      ],
      "execution_count": null,
      "outputs": [
        {
          "output_type": "stream",
          "text": [
            "ls: cannot access '/content/drive/My Drive/MasterProject-Personal/data': No such file or directory\n"
          ],
          "name": "stdout"
        }
      ]
    },
    {
      "cell_type": "markdown",
      "metadata": {
        "id": "jkka58J3qP-B"
      },
      "source": [
        "# Data Load"
      ]
    },
    {
      "cell_type": "markdown",
      "metadata": {
        "id": "VsVZXbVoJ5-N"
      },
      "source": [
        "## 1 Load County Population\n"
      ]
    },
    {
      "cell_type": "code",
      "metadata": {
        "id": "WZno5k12J9BI",
        "colab": {
          "base_uri": "https://localhost:8080/"
        },
        "outputId": "ac0be635-057d-44b3-9782-a57e6beeb392"
      },
      "source": [
        "county_population_US = pd.read_csv('https://usafactsstatic.blob.core.windows.net/public/data/covid-19/covid_county_population_usafacts.csv',low_memory=False)\n",
        "print(county_population_US.shape)"
      ],
      "execution_count": 5,
      "outputs": [
        {
          "output_type": "stream",
          "text": [
            "(3195, 4)\n"
          ],
          "name": "stdout"
        }
      ]
    },
    {
      "cell_type": "code",
      "metadata": {
        "id": "IEHB_7mnKAuI",
        "colab": {
          "base_uri": "https://localhost:8080/"
        },
        "outputId": "5e2c205c-c3f9-40c2-8dbb-f0a3e89dcea1"
      },
      "source": [
        "wget.download('https://usafactsstatic.blob.core.windows.net/public/data/covid-19/covid_county_population_usafacts.csv')\n",
        "county_population_US = pd.read_csv('covid_county_population_usafacts.csv',low_memory=False)\n",
        "print(county_population_US.shape)\n",
        "\n",
        "\n"
      ],
      "execution_count": 6,
      "outputs": [
        {
          "output_type": "stream",
          "text": [
            "(3195, 4)\n"
          ],
          "name": "stdout"
        }
      ]
    },
    {
      "cell_type": "code",
      "metadata": {
        "id": "9aVG7gFdKQQm",
        "colab": {
          "base_uri": "https://localhost:8080/",
          "height": 111
        },
        "outputId": "465cbd3c-e740-43aa-a886-f1de7ba943fd"
      },
      "source": [
        "county_population_US.head(2)"
      ],
      "execution_count": 7,
      "outputs": [
        {
          "output_type": "execute_result",
          "data": {
            "text/html": [
              "<div>\n",
              "<style scoped>\n",
              "    .dataframe tbody tr th:only-of-type {\n",
              "        vertical-align: middle;\n",
              "    }\n",
              "\n",
              "    .dataframe tbody tr th {\n",
              "        vertical-align: top;\n",
              "    }\n",
              "\n",
              "    .dataframe thead th {\n",
              "        text-align: right;\n",
              "    }\n",
              "</style>\n",
              "<table border=\"1\" class=\"dataframe\">\n",
              "  <thead>\n",
              "    <tr style=\"text-align: right;\">\n",
              "      <th></th>\n",
              "      <th>countyFIPS</th>\n",
              "      <th>County Name</th>\n",
              "      <th>State</th>\n",
              "      <th>population</th>\n",
              "    </tr>\n",
              "  </thead>\n",
              "  <tbody>\n",
              "    <tr>\n",
              "      <th>0</th>\n",
              "      <td>0</td>\n",
              "      <td>Statewide Unallocated</td>\n",
              "      <td>AL</td>\n",
              "      <td>0</td>\n",
              "    </tr>\n",
              "    <tr>\n",
              "      <th>1</th>\n",
              "      <td>1001</td>\n",
              "      <td>Autauga County</td>\n",
              "      <td>AL</td>\n",
              "      <td>55869</td>\n",
              "    </tr>\n",
              "  </tbody>\n",
              "</table>\n",
              "</div>"
            ],
            "text/plain": [
              "   countyFIPS            County Name State  population\n",
              "0           0  Statewide Unallocated    AL           0\n",
              "1        1001         Autauga County    AL       55869"
            ]
          },
          "metadata": {
            "tags": []
          },
          "execution_count": 7
        }
      ]
    },
    {
      "cell_type": "markdown",
      "metadata": {
        "id": "-Ued4-m3waSu"
      },
      "source": [
        "## 2 Load Covid-19 case details (until July 12)"
      ]
    },
    {
      "cell_type": "code",
      "metadata": {
        "id": "OBaFkfiewtBS",
        "colab": {
          "base_uri": "https://localhost:8080/"
        },
        "outputId": "7d723422-c88d-4bde-ce7a-d188c31ab2b7"
      },
      "source": [
        "!ls '/content/drive/My Drive/MasterProject-Personal/data/'"
      ],
      "execution_count": 8,
      "outputs": [
        {
          "output_type": "stream",
          "text": [
            "ls: cannot access '/content/drive/My Drive/MasterProject-Personal/data/': No such file or directory\n"
          ],
          "name": "stdout"
        }
      ]
    },
    {
      "cell_type": "markdown",
      "metadata": {
        "id": "t1RSRy861K-h"
      },
      "source": [
        "### Note about data:\n",
        "John Hopkins university updates data every day hence we are pulling from repository directly\n",
        "\n",
        "**US Confirmed url** :https://raw.githubusercontent.com/CSSEGISandData/COVID-19/master/csse_covid_19_data/csse_covid_19_time_series/time_series_covid19_confirmed_US.csv\n",
        "\n",
        "**US deaths url**: https://raw.githubusercontent.com/CSSEGISandData/COVID-19/master/csse_covid_19_data/csse_covid_19_time_series/time_series_covid19_deaths_US.csv"
      ]
    },
    {
      "cell_type": "code",
      "metadata": {
        "id": "_MHkCNZm2ZaY"
      },
      "source": [
        "urls = ['https://raw.githubusercontent.com/CSSEGISandData/COVID-19/master/csse_covid_19_data/csse_covid_19_time_series/time_series_covid19_confirmed_US.csv',\n",
        "        'https://raw.githubusercontent.com/CSSEGISandData/COVID-19/master/csse_covid_19_data/csse_covid_19_time_series/time_series_covid19_deaths_US.csv']\n",
        "\n",
        "files = [wget.download(url) for url in urls]        "
      ],
      "execution_count": 11,
      "outputs": []
    },
    {
      "cell_type": "code",
      "metadata": {
        "id": "A4wqPxvOwh1i",
        "colab": {
          "base_uri": "https://localhost:8080/",
          "height": 313
        },
        "outputId": "52c5c3ec-c7e3-4fab-93f3-458e80dc10af"
      },
      "source": [
        "confirmed_US = pd.read_csv(files[0],low_memory=False)\n",
        "death_US = pd.read_csv(files[1],low_memory=False)\n",
        "print(confirmed_US.shape)\n",
        "print(death_US.shape)\n",
        "print(confirmed_US.head(2))\n",
        "death_US.head(2)"
      ],
      "execution_count": 12,
      "outputs": [
        {
          "output_type": "stream",
          "text": [
            "(3340, 364)\n",
            "(3340, 365)\n",
            "        UID iso2 iso3  code3    FIPS  ... 1/4/21 1/5/21 1/6/21  1/7/21  1/8/21\n",
            "0  84001001   US  USA    840  1001.0  ...   4336   4546   4645    4705    4770\n",
            "1  84001003   US  USA    840  1003.0  ...  14187  14440  14656   14845   15052\n",
            "\n",
            "[2 rows x 364 columns]\n"
          ],
          "name": "stdout"
        },
        {
          "output_type": "execute_result",
          "data": {
            "text/html": [
              "<div>\n",
              "<style scoped>\n",
              "    .dataframe tbody tr th:only-of-type {\n",
              "        vertical-align: middle;\n",
              "    }\n",
              "\n",
              "    .dataframe tbody tr th {\n",
              "        vertical-align: top;\n",
              "    }\n",
              "\n",
              "    .dataframe thead th {\n",
              "        text-align: right;\n",
              "    }\n",
              "</style>\n",
              "<table border=\"1\" class=\"dataframe\">\n",
              "  <thead>\n",
              "    <tr style=\"text-align: right;\">\n",
              "      <th></th>\n",
              "      <th>UID</th>\n",
              "      <th>iso2</th>\n",
              "      <th>iso3</th>\n",
              "      <th>code3</th>\n",
              "      <th>FIPS</th>\n",
              "      <th>Admin2</th>\n",
              "      <th>Province_State</th>\n",
              "      <th>Country_Region</th>\n",
              "      <th>Lat</th>\n",
              "      <th>Long_</th>\n",
              "      <th>Combined_Key</th>\n",
              "      <th>Population</th>\n",
              "      <th>1/22/20</th>\n",
              "      <th>1/23/20</th>\n",
              "      <th>1/24/20</th>\n",
              "      <th>1/25/20</th>\n",
              "      <th>1/26/20</th>\n",
              "      <th>1/27/20</th>\n",
              "      <th>1/28/20</th>\n",
              "      <th>1/29/20</th>\n",
              "      <th>1/30/20</th>\n",
              "      <th>1/31/20</th>\n",
              "      <th>2/1/20</th>\n",
              "      <th>2/2/20</th>\n",
              "      <th>2/3/20</th>\n",
              "      <th>2/4/20</th>\n",
              "      <th>2/5/20</th>\n",
              "      <th>2/6/20</th>\n",
              "      <th>2/7/20</th>\n",
              "      <th>2/8/20</th>\n",
              "      <th>2/9/20</th>\n",
              "      <th>2/10/20</th>\n",
              "      <th>2/11/20</th>\n",
              "      <th>2/12/20</th>\n",
              "      <th>2/13/20</th>\n",
              "      <th>2/14/20</th>\n",
              "      <th>2/15/20</th>\n",
              "      <th>2/16/20</th>\n",
              "      <th>2/17/20</th>\n",
              "      <th>2/18/20</th>\n",
              "      <th>...</th>\n",
              "      <th>11/30/20</th>\n",
              "      <th>12/1/20</th>\n",
              "      <th>12/2/20</th>\n",
              "      <th>12/3/20</th>\n",
              "      <th>12/4/20</th>\n",
              "      <th>12/5/20</th>\n",
              "      <th>12/6/20</th>\n",
              "      <th>12/7/20</th>\n",
              "      <th>12/8/20</th>\n",
              "      <th>12/9/20</th>\n",
              "      <th>12/10/20</th>\n",
              "      <th>12/11/20</th>\n",
              "      <th>12/12/20</th>\n",
              "      <th>12/13/20</th>\n",
              "      <th>12/14/20</th>\n",
              "      <th>12/15/20</th>\n",
              "      <th>12/16/20</th>\n",
              "      <th>12/17/20</th>\n",
              "      <th>12/18/20</th>\n",
              "      <th>12/19/20</th>\n",
              "      <th>12/20/20</th>\n",
              "      <th>12/21/20</th>\n",
              "      <th>12/22/20</th>\n",
              "      <th>12/23/20</th>\n",
              "      <th>12/24/20</th>\n",
              "      <th>12/25/20</th>\n",
              "      <th>12/26/20</th>\n",
              "      <th>12/27/20</th>\n",
              "      <th>12/28/20</th>\n",
              "      <th>12/29/20</th>\n",
              "      <th>12/30/20</th>\n",
              "      <th>12/31/20</th>\n",
              "      <th>1/1/21</th>\n",
              "      <th>1/2/21</th>\n",
              "      <th>1/3/21</th>\n",
              "      <th>1/4/21</th>\n",
              "      <th>1/5/21</th>\n",
              "      <th>1/6/21</th>\n",
              "      <th>1/7/21</th>\n",
              "      <th>1/8/21</th>\n",
              "    </tr>\n",
              "  </thead>\n",
              "  <tbody>\n",
              "    <tr>\n",
              "      <th>0</th>\n",
              "      <td>84001001</td>\n",
              "      <td>US</td>\n",
              "      <td>USA</td>\n",
              "      <td>840</td>\n",
              "      <td>1001.0</td>\n",
              "      <td>Autauga</td>\n",
              "      <td>Alabama</td>\n",
              "      <td>US</td>\n",
              "      <td>32.539527</td>\n",
              "      <td>-86.644082</td>\n",
              "      <td>Autauga, Alabama, US</td>\n",
              "      <td>55869</td>\n",
              "      <td>0</td>\n",
              "      <td>0</td>\n",
              "      <td>0</td>\n",
              "      <td>0</td>\n",
              "      <td>0</td>\n",
              "      <td>0</td>\n",
              "      <td>0</td>\n",
              "      <td>0</td>\n",
              "      <td>0</td>\n",
              "      <td>0</td>\n",
              "      <td>0</td>\n",
              "      <td>0</td>\n",
              "      <td>0</td>\n",
              "      <td>0</td>\n",
              "      <td>0</td>\n",
              "      <td>0</td>\n",
              "      <td>0</td>\n",
              "      <td>0</td>\n",
              "      <td>0</td>\n",
              "      <td>0</td>\n",
              "      <td>0</td>\n",
              "      <td>0</td>\n",
              "      <td>0</td>\n",
              "      <td>0</td>\n",
              "      <td>0</td>\n",
              "      <td>0</td>\n",
              "      <td>0</td>\n",
              "      <td>0</td>\n",
              "      <td>...</td>\n",
              "      <td>42</td>\n",
              "      <td>42</td>\n",
              "      <td>42</td>\n",
              "      <td>42</td>\n",
              "      <td>42</td>\n",
              "      <td>42</td>\n",
              "      <td>42</td>\n",
              "      <td>42</td>\n",
              "      <td>42</td>\n",
              "      <td>42</td>\n",
              "      <td>42</td>\n",
              "      <td>42</td>\n",
              "      <td>41</td>\n",
              "      <td>41</td>\n",
              "      <td>41</td>\n",
              "      <td>43</td>\n",
              "      <td>43</td>\n",
              "      <td>43</td>\n",
              "      <td>44</td>\n",
              "      <td>44</td>\n",
              "      <td>44</td>\n",
              "      <td>44</td>\n",
              "      <td>44</td>\n",
              "      <td>46</td>\n",
              "      <td>46</td>\n",
              "      <td>46</td>\n",
              "      <td>46</td>\n",
              "      <td>47</td>\n",
              "      <td>47</td>\n",
              "      <td>47</td>\n",
              "      <td>48</td>\n",
              "      <td>48</td>\n",
              "      <td>50</td>\n",
              "      <td>50</td>\n",
              "      <td>50</td>\n",
              "      <td>50</td>\n",
              "      <td>50</td>\n",
              "      <td>50</td>\n",
              "      <td>50</td>\n",
              "      <td>50</td>\n",
              "    </tr>\n",
              "    <tr>\n",
              "      <th>1</th>\n",
              "      <td>84001003</td>\n",
              "      <td>US</td>\n",
              "      <td>USA</td>\n",
              "      <td>840</td>\n",
              "      <td>1003.0</td>\n",
              "      <td>Baldwin</td>\n",
              "      <td>Alabama</td>\n",
              "      <td>US</td>\n",
              "      <td>30.727750</td>\n",
              "      <td>-87.722071</td>\n",
              "      <td>Baldwin, Alabama, US</td>\n",
              "      <td>223234</td>\n",
              "      <td>0</td>\n",
              "      <td>0</td>\n",
              "      <td>0</td>\n",
              "      <td>0</td>\n",
              "      <td>0</td>\n",
              "      <td>0</td>\n",
              "      <td>0</td>\n",
              "      <td>0</td>\n",
              "      <td>0</td>\n",
              "      <td>0</td>\n",
              "      <td>0</td>\n",
              "      <td>0</td>\n",
              "      <td>0</td>\n",
              "      <td>0</td>\n",
              "      <td>0</td>\n",
              "      <td>0</td>\n",
              "      <td>0</td>\n",
              "      <td>0</td>\n",
              "      <td>0</td>\n",
              "      <td>0</td>\n",
              "      <td>0</td>\n",
              "      <td>0</td>\n",
              "      <td>0</td>\n",
              "      <td>0</td>\n",
              "      <td>0</td>\n",
              "      <td>0</td>\n",
              "      <td>0</td>\n",
              "      <td>0</td>\n",
              "      <td>...</td>\n",
              "      <td>98</td>\n",
              "      <td>137</td>\n",
              "      <td>137</td>\n",
              "      <td>137</td>\n",
              "      <td>138</td>\n",
              "      <td>138</td>\n",
              "      <td>138</td>\n",
              "      <td>138</td>\n",
              "      <td>141</td>\n",
              "      <td>141</td>\n",
              "      <td>141</td>\n",
              "      <td>141</td>\n",
              "      <td>141</td>\n",
              "      <td>141</td>\n",
              "      <td>141</td>\n",
              "      <td>141</td>\n",
              "      <td>145</td>\n",
              "      <td>145</td>\n",
              "      <td>146</td>\n",
              "      <td>147</td>\n",
              "      <td>147</td>\n",
              "      <td>147</td>\n",
              "      <td>149</td>\n",
              "      <td>151</td>\n",
              "      <td>151</td>\n",
              "      <td>151</td>\n",
              "      <td>151</td>\n",
              "      <td>152</td>\n",
              "      <td>152</td>\n",
              "      <td>156</td>\n",
              "      <td>160</td>\n",
              "      <td>161</td>\n",
              "      <td>169</td>\n",
              "      <td>169</td>\n",
              "      <td>169</td>\n",
              "      <td>169</td>\n",
              "      <td>169</td>\n",
              "      <td>171</td>\n",
              "      <td>171</td>\n",
              "      <td>171</td>\n",
              "    </tr>\n",
              "  </tbody>\n",
              "</table>\n",
              "<p>2 rows × 365 columns</p>\n",
              "</div>"
            ],
            "text/plain": [
              "        UID iso2 iso3  code3    FIPS  ... 1/4/21 1/5/21 1/6/21  1/7/21  1/8/21\n",
              "0  84001001   US  USA    840  1001.0  ...     50     50     50      50      50\n",
              "1  84001003   US  USA    840  1003.0  ...    169    169    171     171     171\n",
              "\n",
              "[2 rows x 365 columns]"
            ]
          },
          "metadata": {
            "tags": []
          },
          "execution_count": 12
        }
      ]
    },
    {
      "cell_type": "code",
      "metadata": {
        "id": "-Xmnw9e2xJud",
        "colab": {
          "base_uri": "https://localhost:8080/"
        },
        "outputId": "93c72c84-b9d8-4c18-9ef7-04ec5bda7079"
      },
      "source": [
        "#print(len(mask_data['state_name'].unique()))\n",
        "print(len(confirmed_US['Province_State'].unique()))\n",
        "confirmed_US['Province_State'].unique()"
      ],
      "execution_count": 13,
      "outputs": [
        {
          "output_type": "stream",
          "text": [
            "58\n"
          ],
          "name": "stdout"
        },
        {
          "output_type": "execute_result",
          "data": {
            "text/plain": [
              "array(['Alabama', 'Alaska', 'American Samoa', 'Arizona', 'Arkansas',\n",
              "       'California', 'Colorado', 'Connecticut', 'Delaware',\n",
              "       'Diamond Princess', 'District of Columbia', 'Florida', 'Georgia',\n",
              "       'Grand Princess', 'Guam', 'Hawaii', 'Idaho', 'Illinois', 'Indiana',\n",
              "       'Iowa', 'Kansas', 'Kentucky', 'Louisiana', 'Maine', 'Maryland',\n",
              "       'Massachusetts', 'Michigan', 'Minnesota', 'Mississippi',\n",
              "       'Missouri', 'Montana', 'Nebraska', 'Nevada', 'New Hampshire',\n",
              "       'New Jersey', 'New Mexico', 'New York', 'North Carolina',\n",
              "       'North Dakota', 'Northern Mariana Islands', 'Ohio', 'Oklahoma',\n",
              "       'Oregon', 'Pennsylvania', 'Puerto Rico', 'Rhode Island',\n",
              "       'South Carolina', 'South Dakota', 'Tennessee', 'Texas', 'Utah',\n",
              "       'Vermont', 'Virgin Islands', 'Virginia', 'Washington',\n",
              "       'West Virginia', 'Wisconsin', 'Wyoming'], dtype=object)"
            ]
          },
          "metadata": {
            "tags": []
          },
          "execution_count": 13
        }
      ]
    },
    {
      "cell_type": "markdown",
      "metadata": {
        "id": "RN2E93cS32Re"
      },
      "source": [
        "## Data cleaning"
      ]
    },
    {
      "cell_type": "code",
      "metadata": {
        "id": "MQ52sy6o4DQd",
        "colab": {
          "base_uri": "https://localhost:8080/"
        },
        "outputId": "14e4dd31-54d5-46f1-f3a3-495291489141"
      },
      "source": [
        "confirmed_US.columns[:11]\n",
        "\n",
        "# Note: the first 11 columns contains UID, ios2,ios3, code ,FIPS, 'Admin2', 'Province_State',\n",
        "      # 'Country_Region', 'Lat', 'Long_',Combined_Key', 'Population',\n"
      ],
      "execution_count": 14,
      "outputs": [
        {
          "output_type": "execute_result",
          "data": {
            "text/plain": [
              "Index(['UID', 'iso2', 'iso3', 'code3', 'FIPS', 'Admin2', 'Province_State',\n",
              "       'Country_Region', 'Lat', 'Long_', 'Combined_Key'],\n",
              "      dtype='object')"
            ]
          },
          "metadata": {
            "tags": []
          },
          "execution_count": 14
        }
      ]
    },
    {
      "cell_type": "code",
      "metadata": {
        "id": "59E3UfdPwWGp",
        "colab": {
          "base_uri": "https://localhost:8080/"
        },
        "outputId": "57b74e65-294c-408e-e77e-e5287ef9c841"
      },
      "source": [
        "# date begins from 11th column\n",
        "confirmed_dates = confirmed_US.columns[11:]\n",
        "confirmed_dates"
      ],
      "execution_count": 15,
      "outputs": [
        {
          "output_type": "execute_result",
          "data": {
            "text/plain": [
              "Index(['1/22/20', '1/23/20', '1/24/20', '1/25/20', '1/26/20', '1/27/20',\n",
              "       '1/28/20', '1/29/20', '1/30/20', '1/31/20',\n",
              "       ...\n",
              "       '12/30/20', '12/31/20', '1/1/21', '1/2/21', '1/3/21', '1/4/21',\n",
              "       '1/5/21', '1/6/21', '1/7/21', '1/8/21'],\n",
              "      dtype='object', length=353)"
            ]
          },
          "metadata": {
            "tags": []
          },
          "execution_count": 15
        }
      ]
    },
    {
      "cell_type": "code",
      "metadata": {
        "id": "LCuanaUk5fje",
        "colab": {
          "base_uri": "https://localhost:8080/"
        },
        "outputId": "6ecf5d82-ab61-4fed-b41f-c5d158d3ef62"
      },
      "source": [
        "death_US.columns[:12]"
      ],
      "execution_count": 16,
      "outputs": [
        {
          "output_type": "execute_result",
          "data": {
            "text/plain": [
              "Index(['UID', 'iso2', 'iso3', 'code3', 'FIPS', 'Admin2', 'Province_State',\n",
              "       'Country_Region', 'Lat', 'Long_', 'Combined_Key', 'Population'],\n",
              "      dtype='object')"
            ]
          },
          "metadata": {
            "tags": []
          },
          "execution_count": 16
        }
      ]
    },
    {
      "cell_type": "code",
      "metadata": {
        "id": "8M_vOe244lax",
        "colab": {
          "base_uri": "https://localhost:8080/"
        },
        "outputId": "22e8ca34-1fc3-43b5-f07c-890e711e7094"
      },
      "source": [
        "death_US.columns[10:]"
      ],
      "execution_count": 17,
      "outputs": [
        {
          "output_type": "execute_result",
          "data": {
            "text/plain": [
              "Index(['Combined_Key', 'Population', '1/22/20', '1/23/20', '1/24/20',\n",
              "       '1/25/20', '1/26/20', '1/27/20', '1/28/20', '1/29/20',\n",
              "       ...\n",
              "       '12/30/20', '12/31/20', '1/1/21', '1/2/21', '1/3/21', '1/4/21',\n",
              "       '1/5/21', '1/6/21', '1/7/21', '1/8/21'],\n",
              "      dtype='object', length=355)"
            ]
          },
          "metadata": {
            "tags": []
          },
          "execution_count": 17
        }
      ]
    },
    {
      "cell_type": "code",
      "metadata": {
        "id": "wyJe4mng05ee",
        "colab": {
          "base_uri": "https://localhost:8080/"
        },
        "outputId": "8b0a9f33-d890-4fc5-9fa2-cf790a8b8df9"
      },
      "source": [
        "death_dates = death_US.columns[12:]\n",
        "death_dates"
      ],
      "execution_count": 18,
      "outputs": [
        {
          "output_type": "execute_result",
          "data": {
            "text/plain": [
              "Index(['1/22/20', '1/23/20', '1/24/20', '1/25/20', '1/26/20', '1/27/20',\n",
              "       '1/28/20', '1/29/20', '1/30/20', '1/31/20',\n",
              "       ...\n",
              "       '12/30/20', '12/31/20', '1/1/21', '1/2/21', '1/3/21', '1/4/21',\n",
              "       '1/5/21', '1/6/21', '1/7/21', '1/8/21'],\n",
              "      dtype='object', length=353)"
            ]
          },
          "metadata": {
            "tags": []
          },
          "execution_count": 18
        }
      ]
    },
    {
      "cell_type": "markdown",
      "metadata": {
        "id": "GOpVOfZk44_O"
      },
      "source": [
        "#### Note: both the date values has the same beginning date 1/22/2020. Hence we can use either of the values"
      ]
    },
    {
      "cell_type": "code",
      "metadata": {
        "id": "SWrPIbZA4wA_"
      },
      "source": [
        "confirmed_df_long = confirmed_US.melt(\n",
        "    id_vars=['UID', 'iso2', 'iso3', 'code3', 'FIPS', 'Admin2', 'Province_State',\n",
        "       'Country_Region', 'Lat', 'Long_', 'Combined_Key'],\n",
        "       value_vars=confirmed_dates,\n",
        "       var_name = 'Date',\n",
        "       value_name = 'Confirmed'\n",
        ")\n",
        "\n",
        "death_df_long = death_US.melt(\n",
        "    id_vars=['UID', 'iso2', 'iso3', 'code3', 'FIPS', 'Admin2', 'Province_State',\n",
        "       'Country_Region', 'Lat', 'Long_', 'Combined_Key', 'Population'],\n",
        "       value_vars=death_dates,\n",
        "       var_name = 'Date',\n",
        "       value_name = 'Deaths'\n",
        ")"
      ],
      "execution_count": 19,
      "outputs": []
    },
    {
      "cell_type": "code",
      "metadata": {
        "id": "Zgyg7VRm4v-z",
        "colab": {
          "base_uri": "https://localhost:8080/",
          "height": 549
        },
        "outputId": "66799855-cb81-4fcd-ce30-b067109efd0c"
      },
      "source": [
        "confirmed_df_long.tail(10)"
      ],
      "execution_count": 20,
      "outputs": [
        {
          "output_type": "execute_result",
          "data": {
            "text/html": [
              "<div>\n",
              "<style scoped>\n",
              "    .dataframe tbody tr th:only-of-type {\n",
              "        vertical-align: middle;\n",
              "    }\n",
              "\n",
              "    .dataframe tbody tr th {\n",
              "        vertical-align: top;\n",
              "    }\n",
              "\n",
              "    .dataframe thead th {\n",
              "        text-align: right;\n",
              "    }\n",
              "</style>\n",
              "<table border=\"1\" class=\"dataframe\">\n",
              "  <thead>\n",
              "    <tr style=\"text-align: right;\">\n",
              "      <th></th>\n",
              "      <th>UID</th>\n",
              "      <th>iso2</th>\n",
              "      <th>iso3</th>\n",
              "      <th>code3</th>\n",
              "      <th>FIPS</th>\n",
              "      <th>Admin2</th>\n",
              "      <th>Province_State</th>\n",
              "      <th>Country_Region</th>\n",
              "      <th>Lat</th>\n",
              "      <th>Long_</th>\n",
              "      <th>Combined_Key</th>\n",
              "      <th>Date</th>\n",
              "      <th>Confirmed</th>\n",
              "    </tr>\n",
              "  </thead>\n",
              "  <tbody>\n",
              "    <tr>\n",
              "      <th>1179010</th>\n",
              "      <td>84056029</td>\n",
              "      <td>US</td>\n",
              "      <td>USA</td>\n",
              "      <td>840</td>\n",
              "      <td>56029.0</td>\n",
              "      <td>Park</td>\n",
              "      <td>Wyoming</td>\n",
              "      <td>US</td>\n",
              "      <td>44.521575</td>\n",
              "      <td>-109.585282</td>\n",
              "      <td>Park, Wyoming, US</td>\n",
              "      <td>1/8/21</td>\n",
              "      <td>2211</td>\n",
              "    </tr>\n",
              "    <tr>\n",
              "      <th>1179011</th>\n",
              "      <td>84056031</td>\n",
              "      <td>US</td>\n",
              "      <td>USA</td>\n",
              "      <td>840</td>\n",
              "      <td>56031.0</td>\n",
              "      <td>Platte</td>\n",
              "      <td>Wyoming</td>\n",
              "      <td>US</td>\n",
              "      <td>42.132991</td>\n",
              "      <td>-104.966331</td>\n",
              "      <td>Platte, Wyoming, US</td>\n",
              "      <td>1/8/21</td>\n",
              "      <td>476</td>\n",
              "    </tr>\n",
              "    <tr>\n",
              "      <th>1179012</th>\n",
              "      <td>84056033</td>\n",
              "      <td>US</td>\n",
              "      <td>USA</td>\n",
              "      <td>840</td>\n",
              "      <td>56033.0</td>\n",
              "      <td>Sheridan</td>\n",
              "      <td>Wyoming</td>\n",
              "      <td>US</td>\n",
              "      <td>44.790489</td>\n",
              "      <td>-106.886239</td>\n",
              "      <td>Sheridan, Wyoming, US</td>\n",
              "      <td>1/8/21</td>\n",
              "      <td>2667</td>\n",
              "    </tr>\n",
              "    <tr>\n",
              "      <th>1179013</th>\n",
              "      <td>84056035</td>\n",
              "      <td>US</td>\n",
              "      <td>USA</td>\n",
              "      <td>840</td>\n",
              "      <td>56035.0</td>\n",
              "      <td>Sublette</td>\n",
              "      <td>Wyoming</td>\n",
              "      <td>US</td>\n",
              "      <td>42.765583</td>\n",
              "      <td>-109.913092</td>\n",
              "      <td>Sublette, Wyoming, US</td>\n",
              "      <td>1/8/21</td>\n",
              "      <td>618</td>\n",
              "    </tr>\n",
              "    <tr>\n",
              "      <th>1179014</th>\n",
              "      <td>84056037</td>\n",
              "      <td>US</td>\n",
              "      <td>USA</td>\n",
              "      <td>840</td>\n",
              "      <td>56037.0</td>\n",
              "      <td>Sweetwater</td>\n",
              "      <td>Wyoming</td>\n",
              "      <td>US</td>\n",
              "      <td>41.659439</td>\n",
              "      <td>-108.882788</td>\n",
              "      <td>Sweetwater, Wyoming, US</td>\n",
              "      <td>1/8/21</td>\n",
              "      <td>3153</td>\n",
              "    </tr>\n",
              "    <tr>\n",
              "      <th>1179015</th>\n",
              "      <td>84056039</td>\n",
              "      <td>US</td>\n",
              "      <td>USA</td>\n",
              "      <td>840</td>\n",
              "      <td>56039.0</td>\n",
              "      <td>Teton</td>\n",
              "      <td>Wyoming</td>\n",
              "      <td>US</td>\n",
              "      <td>43.935225</td>\n",
              "      <td>-110.589080</td>\n",
              "      <td>Teton, Wyoming, US</td>\n",
              "      <td>1/8/21</td>\n",
              "      <td>2346</td>\n",
              "    </tr>\n",
              "    <tr>\n",
              "      <th>1179016</th>\n",
              "      <td>84056041</td>\n",
              "      <td>US</td>\n",
              "      <td>USA</td>\n",
              "      <td>840</td>\n",
              "      <td>56041.0</td>\n",
              "      <td>Uinta</td>\n",
              "      <td>Wyoming</td>\n",
              "      <td>US</td>\n",
              "      <td>41.287818</td>\n",
              "      <td>-110.547578</td>\n",
              "      <td>Uinta, Wyoming, US</td>\n",
              "      <td>1/8/21</td>\n",
              "      <td>1693</td>\n",
              "    </tr>\n",
              "    <tr>\n",
              "      <th>1179017</th>\n",
              "      <td>84090056</td>\n",
              "      <td>US</td>\n",
              "      <td>USA</td>\n",
              "      <td>840</td>\n",
              "      <td>90056.0</td>\n",
              "      <td>Unassigned</td>\n",
              "      <td>Wyoming</td>\n",
              "      <td>US</td>\n",
              "      <td>0.000000</td>\n",
              "      <td>0.000000</td>\n",
              "      <td>Unassigned, Wyoming, US</td>\n",
              "      <td>1/8/21</td>\n",
              "      <td>0</td>\n",
              "    </tr>\n",
              "    <tr>\n",
              "      <th>1179018</th>\n",
              "      <td>84056043</td>\n",
              "      <td>US</td>\n",
              "      <td>USA</td>\n",
              "      <td>840</td>\n",
              "      <td>56043.0</td>\n",
              "      <td>Washakie</td>\n",
              "      <td>Wyoming</td>\n",
              "      <td>US</td>\n",
              "      <td>43.904516</td>\n",
              "      <td>-107.680187</td>\n",
              "      <td>Washakie, Wyoming, US</td>\n",
              "      <td>1/8/21</td>\n",
              "      <td>797</td>\n",
              "    </tr>\n",
              "    <tr>\n",
              "      <th>1179019</th>\n",
              "      <td>84056045</td>\n",
              "      <td>US</td>\n",
              "      <td>USA</td>\n",
              "      <td>840</td>\n",
              "      <td>56045.0</td>\n",
              "      <td>Weston</td>\n",
              "      <td>Wyoming</td>\n",
              "      <td>US</td>\n",
              "      <td>43.839612</td>\n",
              "      <td>-104.567488</td>\n",
              "      <td>Weston, Wyoming, US</td>\n",
              "      <td>1/8/21</td>\n",
              "      <td>485</td>\n",
              "    </tr>\n",
              "  </tbody>\n",
              "</table>\n",
              "</div>"
            ],
            "text/plain": [
              "              UID iso2 iso3  ...             Combined_Key    Date Confirmed\n",
              "1179010  84056029   US  USA  ...        Park, Wyoming, US  1/8/21      2211\n",
              "1179011  84056031   US  USA  ...      Platte, Wyoming, US  1/8/21       476\n",
              "1179012  84056033   US  USA  ...    Sheridan, Wyoming, US  1/8/21      2667\n",
              "1179013  84056035   US  USA  ...    Sublette, Wyoming, US  1/8/21       618\n",
              "1179014  84056037   US  USA  ...  Sweetwater, Wyoming, US  1/8/21      3153\n",
              "1179015  84056039   US  USA  ...       Teton, Wyoming, US  1/8/21      2346\n",
              "1179016  84056041   US  USA  ...       Uinta, Wyoming, US  1/8/21      1693\n",
              "1179017  84090056   US  USA  ...  Unassigned, Wyoming, US  1/8/21         0\n",
              "1179018  84056043   US  USA  ...    Washakie, Wyoming, US  1/8/21       797\n",
              "1179019  84056045   US  USA  ...      Weston, Wyoming, US  1/8/21       485\n",
              "\n",
              "[10 rows x 13 columns]"
            ]
          },
          "metadata": {
            "tags": []
          },
          "execution_count": 20
        }
      ]
    },
    {
      "cell_type": "code",
      "metadata": {
        "id": "FHQjX1YgOP71",
        "colab": {
          "base_uri": "https://localhost:8080/",
          "height": 1000
        },
        "outputId": "41a3147b-a2bb-4a9c-abb6-c4b223da97d7"
      },
      "source": [
        "confirmed_df_long[confirmed_df_long['FIPS'] == 36081].tail(30)"
      ],
      "execution_count": 21,
      "outputs": [
        {
          "output_type": "execute_result",
          "data": {
            "text/html": [
              "<div>\n",
              "<style scoped>\n",
              "    .dataframe tbody tr th:only-of-type {\n",
              "        vertical-align: middle;\n",
              "    }\n",
              "\n",
              "    .dataframe tbody tr th {\n",
              "        vertical-align: top;\n",
              "    }\n",
              "\n",
              "    .dataframe thead th {\n",
              "        text-align: right;\n",
              "    }\n",
              "</style>\n",
              "<table border=\"1\" class=\"dataframe\">\n",
              "  <thead>\n",
              "    <tr style=\"text-align: right;\">\n",
              "      <th></th>\n",
              "      <th>UID</th>\n",
              "      <th>iso2</th>\n",
              "      <th>iso3</th>\n",
              "      <th>code3</th>\n",
              "      <th>FIPS</th>\n",
              "      <th>Admin2</th>\n",
              "      <th>Province_State</th>\n",
              "      <th>Country_Region</th>\n",
              "      <th>Lat</th>\n",
              "      <th>Long_</th>\n",
              "      <th>Combined_Key</th>\n",
              "      <th>Date</th>\n",
              "      <th>Confirmed</th>\n",
              "    </tr>\n",
              "  </thead>\n",
              "  <tbody>\n",
              "    <tr>\n",
              "      <th>1080761</th>\n",
              "      <td>84036081</td>\n",
              "      <td>US</td>\n",
              "      <td>USA</td>\n",
              "      <td>840</td>\n",
              "      <td>36081.0</td>\n",
              "      <td>Queens</td>\n",
              "      <td>New York</td>\n",
              "      <td>US</td>\n",
              "      <td>40.710881</td>\n",
              "      <td>-73.816847</td>\n",
              "      <td>Queens, New York, US</td>\n",
              "      <td>12/10/20</td>\n",
              "      <td>102353</td>\n",
              "    </tr>\n",
              "    <tr>\n",
              "      <th>1084101</th>\n",
              "      <td>84036081</td>\n",
              "      <td>US</td>\n",
              "      <td>USA</td>\n",
              "      <td>840</td>\n",
              "      <td>36081.0</td>\n",
              "      <td>Queens</td>\n",
              "      <td>New York</td>\n",
              "      <td>US</td>\n",
              "      <td>40.710881</td>\n",
              "      <td>-73.816847</td>\n",
              "      <td>Queens, New York, US</td>\n",
              "      <td>12/11/20</td>\n",
              "      <td>103505</td>\n",
              "    </tr>\n",
              "    <tr>\n",
              "      <th>1087441</th>\n",
              "      <td>84036081</td>\n",
              "      <td>US</td>\n",
              "      <td>USA</td>\n",
              "      <td>840</td>\n",
              "      <td>36081.0</td>\n",
              "      <td>Queens</td>\n",
              "      <td>New York</td>\n",
              "      <td>US</td>\n",
              "      <td>40.710881</td>\n",
              "      <td>-73.816847</td>\n",
              "      <td>Queens, New York, US</td>\n",
              "      <td>12/12/20</td>\n",
              "      <td>104677</td>\n",
              "    </tr>\n",
              "    <tr>\n",
              "      <th>1090781</th>\n",
              "      <td>84036081</td>\n",
              "      <td>US</td>\n",
              "      <td>USA</td>\n",
              "      <td>840</td>\n",
              "      <td>36081.0</td>\n",
              "      <td>Queens</td>\n",
              "      <td>New York</td>\n",
              "      <td>US</td>\n",
              "      <td>40.710881</td>\n",
              "      <td>-73.816847</td>\n",
              "      <td>Queens, New York, US</td>\n",
              "      <td>12/13/20</td>\n",
              "      <td>105814</td>\n",
              "    </tr>\n",
              "    <tr>\n",
              "      <th>1094121</th>\n",
              "      <td>84036081</td>\n",
              "      <td>US</td>\n",
              "      <td>USA</td>\n",
              "      <td>840</td>\n",
              "      <td>36081.0</td>\n",
              "      <td>Queens</td>\n",
              "      <td>New York</td>\n",
              "      <td>US</td>\n",
              "      <td>40.710881</td>\n",
              "      <td>-73.816847</td>\n",
              "      <td>Queens, New York, US</td>\n",
              "      <td>12/14/20</td>\n",
              "      <td>106987</td>\n",
              "    </tr>\n",
              "    <tr>\n",
              "      <th>1097461</th>\n",
              "      <td>84036081</td>\n",
              "      <td>US</td>\n",
              "      <td>USA</td>\n",
              "      <td>840</td>\n",
              "      <td>36081.0</td>\n",
              "      <td>Queens</td>\n",
              "      <td>New York</td>\n",
              "      <td>US</td>\n",
              "      <td>40.710881</td>\n",
              "      <td>-73.816847</td>\n",
              "      <td>Queens, New York, US</td>\n",
              "      <td>12/15/20</td>\n",
              "      <td>107848</td>\n",
              "    </tr>\n",
              "    <tr>\n",
              "      <th>1100801</th>\n",
              "      <td>84036081</td>\n",
              "      <td>US</td>\n",
              "      <td>USA</td>\n",
              "      <td>840</td>\n",
              "      <td>36081.0</td>\n",
              "      <td>Queens</td>\n",
              "      <td>New York</td>\n",
              "      <td>US</td>\n",
              "      <td>40.710881</td>\n",
              "      <td>-73.816847</td>\n",
              "      <td>Queens, New York, US</td>\n",
              "      <td>12/16/20</td>\n",
              "      <td>108781</td>\n",
              "    </tr>\n",
              "    <tr>\n",
              "      <th>1104141</th>\n",
              "      <td>84036081</td>\n",
              "      <td>US</td>\n",
              "      <td>USA</td>\n",
              "      <td>840</td>\n",
              "      <td>36081.0</td>\n",
              "      <td>Queens</td>\n",
              "      <td>New York</td>\n",
              "      <td>US</td>\n",
              "      <td>40.710881</td>\n",
              "      <td>-73.816847</td>\n",
              "      <td>Queens, New York, US</td>\n",
              "      <td>12/17/20</td>\n",
              "      <td>110050</td>\n",
              "    </tr>\n",
              "    <tr>\n",
              "      <th>1107481</th>\n",
              "      <td>84036081</td>\n",
              "      <td>US</td>\n",
              "      <td>USA</td>\n",
              "      <td>840</td>\n",
              "      <td>36081.0</td>\n",
              "      <td>Queens</td>\n",
              "      <td>New York</td>\n",
              "      <td>US</td>\n",
              "      <td>40.710881</td>\n",
              "      <td>-73.816847</td>\n",
              "      <td>Queens, New York, US</td>\n",
              "      <td>12/18/20</td>\n",
              "      <td>111383</td>\n",
              "    </tr>\n",
              "    <tr>\n",
              "      <th>1110821</th>\n",
              "      <td>84036081</td>\n",
              "      <td>US</td>\n",
              "      <td>USA</td>\n",
              "      <td>840</td>\n",
              "      <td>36081.0</td>\n",
              "      <td>Queens</td>\n",
              "      <td>New York</td>\n",
              "      <td>US</td>\n",
              "      <td>40.710881</td>\n",
              "      <td>-73.816847</td>\n",
              "      <td>Queens, New York, US</td>\n",
              "      <td>12/19/20</td>\n",
              "      <td>112397</td>\n",
              "    </tr>\n",
              "    <tr>\n",
              "      <th>1114161</th>\n",
              "      <td>84036081</td>\n",
              "      <td>US</td>\n",
              "      <td>USA</td>\n",
              "      <td>840</td>\n",
              "      <td>36081.0</td>\n",
              "      <td>Queens</td>\n",
              "      <td>New York</td>\n",
              "      <td>US</td>\n",
              "      <td>40.710881</td>\n",
              "      <td>-73.816847</td>\n",
              "      <td>Queens, New York, US</td>\n",
              "      <td>12/20/20</td>\n",
              "      <td>113085</td>\n",
              "    </tr>\n",
              "    <tr>\n",
              "      <th>1117501</th>\n",
              "      <td>84036081</td>\n",
              "      <td>US</td>\n",
              "      <td>USA</td>\n",
              "      <td>840</td>\n",
              "      <td>36081.0</td>\n",
              "      <td>Queens</td>\n",
              "      <td>New York</td>\n",
              "      <td>US</td>\n",
              "      <td>40.710881</td>\n",
              "      <td>-73.816847</td>\n",
              "      <td>Queens, New York, US</td>\n",
              "      <td>12/21/20</td>\n",
              "      <td>114235</td>\n",
              "    </tr>\n",
              "    <tr>\n",
              "      <th>1120841</th>\n",
              "      <td>84036081</td>\n",
              "      <td>US</td>\n",
              "      <td>USA</td>\n",
              "      <td>840</td>\n",
              "      <td>36081.0</td>\n",
              "      <td>Queens</td>\n",
              "      <td>New York</td>\n",
              "      <td>US</td>\n",
              "      <td>40.710881</td>\n",
              "      <td>-73.816847</td>\n",
              "      <td>Queens, New York, US</td>\n",
              "      <td>12/22/20</td>\n",
              "      <td>115216</td>\n",
              "    </tr>\n",
              "    <tr>\n",
              "      <th>1124181</th>\n",
              "      <td>84036081</td>\n",
              "      <td>US</td>\n",
              "      <td>USA</td>\n",
              "      <td>840</td>\n",
              "      <td>36081.0</td>\n",
              "      <td>Queens</td>\n",
              "      <td>New York</td>\n",
              "      <td>US</td>\n",
              "      <td>40.710881</td>\n",
              "      <td>-73.816847</td>\n",
              "      <td>Queens, New York, US</td>\n",
              "      <td>12/23/20</td>\n",
              "      <td>116082</td>\n",
              "    </tr>\n",
              "    <tr>\n",
              "      <th>1127521</th>\n",
              "      <td>84036081</td>\n",
              "      <td>US</td>\n",
              "      <td>USA</td>\n",
              "      <td>840</td>\n",
              "      <td>36081.0</td>\n",
              "      <td>Queens</td>\n",
              "      <td>New York</td>\n",
              "      <td>US</td>\n",
              "      <td>40.710881</td>\n",
              "      <td>-73.816847</td>\n",
              "      <td>Queens, New York, US</td>\n",
              "      <td>12/24/20</td>\n",
              "      <td>117624</td>\n",
              "    </tr>\n",
              "    <tr>\n",
              "      <th>1130861</th>\n",
              "      <td>84036081</td>\n",
              "      <td>US</td>\n",
              "      <td>USA</td>\n",
              "      <td>840</td>\n",
              "      <td>36081.0</td>\n",
              "      <td>Queens</td>\n",
              "      <td>New York</td>\n",
              "      <td>US</td>\n",
              "      <td>40.710881</td>\n",
              "      <td>-73.816847</td>\n",
              "      <td>Queens, New York, US</td>\n",
              "      <td>12/25/20</td>\n",
              "      <td>119042</td>\n",
              "    </tr>\n",
              "    <tr>\n",
              "      <th>1134201</th>\n",
              "      <td>84036081</td>\n",
              "      <td>US</td>\n",
              "      <td>USA</td>\n",
              "      <td>840</td>\n",
              "      <td>36081.0</td>\n",
              "      <td>Queens</td>\n",
              "      <td>New York</td>\n",
              "      <td>US</td>\n",
              "      <td>40.710881</td>\n",
              "      <td>-73.816847</td>\n",
              "      <td>Queens, New York, US</td>\n",
              "      <td>12/26/20</td>\n",
              "      <td>120344</td>\n",
              "    </tr>\n",
              "    <tr>\n",
              "      <th>1137541</th>\n",
              "      <td>84036081</td>\n",
              "      <td>US</td>\n",
              "      <td>USA</td>\n",
              "      <td>840</td>\n",
              "      <td>36081.0</td>\n",
              "      <td>Queens</td>\n",
              "      <td>New York</td>\n",
              "      <td>US</td>\n",
              "      <td>40.710881</td>\n",
              "      <td>-73.816847</td>\n",
              "      <td>Queens, New York, US</td>\n",
              "      <td>12/27/20</td>\n",
              "      <td>121343</td>\n",
              "    </tr>\n",
              "    <tr>\n",
              "      <th>1140881</th>\n",
              "      <td>84036081</td>\n",
              "      <td>US</td>\n",
              "      <td>USA</td>\n",
              "      <td>840</td>\n",
              "      <td>36081.0</td>\n",
              "      <td>Queens</td>\n",
              "      <td>New York</td>\n",
              "      <td>US</td>\n",
              "      <td>40.710881</td>\n",
              "      <td>-73.816847</td>\n",
              "      <td>Queens, New York, US</td>\n",
              "      <td>12/28/20</td>\n",
              "      <td>121748</td>\n",
              "    </tr>\n",
              "    <tr>\n",
              "      <th>1144221</th>\n",
              "      <td>84036081</td>\n",
              "      <td>US</td>\n",
              "      <td>USA</td>\n",
              "      <td>840</td>\n",
              "      <td>36081.0</td>\n",
              "      <td>Queens</td>\n",
              "      <td>New York</td>\n",
              "      <td>US</td>\n",
              "      <td>40.710881</td>\n",
              "      <td>-73.816847</td>\n",
              "      <td>Queens, New York, US</td>\n",
              "      <td>12/29/20</td>\n",
              "      <td>122783</td>\n",
              "    </tr>\n",
              "    <tr>\n",
              "      <th>1147561</th>\n",
              "      <td>84036081</td>\n",
              "      <td>US</td>\n",
              "      <td>USA</td>\n",
              "      <td>840</td>\n",
              "      <td>36081.0</td>\n",
              "      <td>Queens</td>\n",
              "      <td>New York</td>\n",
              "      <td>US</td>\n",
              "      <td>40.710881</td>\n",
              "      <td>-73.816847</td>\n",
              "      <td>Queens, New York, US</td>\n",
              "      <td>12/30/20</td>\n",
              "      <td>124068</td>\n",
              "    </tr>\n",
              "    <tr>\n",
              "      <th>1150901</th>\n",
              "      <td>84036081</td>\n",
              "      <td>US</td>\n",
              "      <td>USA</td>\n",
              "      <td>840</td>\n",
              "      <td>36081.0</td>\n",
              "      <td>Queens</td>\n",
              "      <td>New York</td>\n",
              "      <td>US</td>\n",
              "      <td>40.710881</td>\n",
              "      <td>-73.816847</td>\n",
              "      <td>Queens, New York, US</td>\n",
              "      <td>12/31/20</td>\n",
              "      <td>125401</td>\n",
              "    </tr>\n",
              "    <tr>\n",
              "      <th>1154241</th>\n",
              "      <td>84036081</td>\n",
              "      <td>US</td>\n",
              "      <td>USA</td>\n",
              "      <td>840</td>\n",
              "      <td>36081.0</td>\n",
              "      <td>Queens</td>\n",
              "      <td>New York</td>\n",
              "      <td>US</td>\n",
              "      <td>40.710881</td>\n",
              "      <td>-73.816847</td>\n",
              "      <td>Queens, New York, US</td>\n",
              "      <td>1/1/21</td>\n",
              "      <td>127132</td>\n",
              "    </tr>\n",
              "    <tr>\n",
              "      <th>1157581</th>\n",
              "      <td>84036081</td>\n",
              "      <td>US</td>\n",
              "      <td>USA</td>\n",
              "      <td>840</td>\n",
              "      <td>36081.0</td>\n",
              "      <td>Queens</td>\n",
              "      <td>New York</td>\n",
              "      <td>US</td>\n",
              "      <td>40.710881</td>\n",
              "      <td>-73.816847</td>\n",
              "      <td>Queens, New York, US</td>\n",
              "      <td>1/2/21</td>\n",
              "      <td>128917</td>\n",
              "    </tr>\n",
              "    <tr>\n",
              "      <th>1160921</th>\n",
              "      <td>84036081</td>\n",
              "      <td>US</td>\n",
              "      <td>USA</td>\n",
              "      <td>840</td>\n",
              "      <td>36081.0</td>\n",
              "      <td>Queens</td>\n",
              "      <td>New York</td>\n",
              "      <td>US</td>\n",
              "      <td>40.710881</td>\n",
              "      <td>-73.816847</td>\n",
              "      <td>Queens, New York, US</td>\n",
              "      <td>1/3/21</td>\n",
              "      <td>130228</td>\n",
              "    </tr>\n",
              "    <tr>\n",
              "      <th>1164261</th>\n",
              "      <td>84036081</td>\n",
              "      <td>US</td>\n",
              "      <td>USA</td>\n",
              "      <td>840</td>\n",
              "      <td>36081.0</td>\n",
              "      <td>Queens</td>\n",
              "      <td>New York</td>\n",
              "      <td>US</td>\n",
              "      <td>40.710881</td>\n",
              "      <td>-73.816847</td>\n",
              "      <td>Queens, New York, US</td>\n",
              "      <td>1/4/21</td>\n",
              "      <td>131464</td>\n",
              "    </tr>\n",
              "    <tr>\n",
              "      <th>1167601</th>\n",
              "      <td>84036081</td>\n",
              "      <td>US</td>\n",
              "      <td>USA</td>\n",
              "      <td>840</td>\n",
              "      <td>36081.0</td>\n",
              "      <td>Queens</td>\n",
              "      <td>New York</td>\n",
              "      <td>US</td>\n",
              "      <td>40.710881</td>\n",
              "      <td>-73.816847</td>\n",
              "      <td>Queens, New York, US</td>\n",
              "      <td>1/5/21</td>\n",
              "      <td>133083</td>\n",
              "    </tr>\n",
              "    <tr>\n",
              "      <th>1170941</th>\n",
              "      <td>84036081</td>\n",
              "      <td>US</td>\n",
              "      <td>USA</td>\n",
              "      <td>840</td>\n",
              "      <td>36081.0</td>\n",
              "      <td>Queens</td>\n",
              "      <td>New York</td>\n",
              "      <td>US</td>\n",
              "      <td>40.710881</td>\n",
              "      <td>-73.816847</td>\n",
              "      <td>Queens, New York, US</td>\n",
              "      <td>1/6/21</td>\n",
              "      <td>134670</td>\n",
              "    </tr>\n",
              "    <tr>\n",
              "      <th>1174281</th>\n",
              "      <td>84036081</td>\n",
              "      <td>US</td>\n",
              "      <td>USA</td>\n",
              "      <td>840</td>\n",
              "      <td>36081.0</td>\n",
              "      <td>Queens</td>\n",
              "      <td>New York</td>\n",
              "      <td>US</td>\n",
              "      <td>40.710881</td>\n",
              "      <td>-73.816847</td>\n",
              "      <td>Queens, New York, US</td>\n",
              "      <td>1/7/21</td>\n",
              "      <td>136465</td>\n",
              "    </tr>\n",
              "    <tr>\n",
              "      <th>1177621</th>\n",
              "      <td>84036081</td>\n",
              "      <td>US</td>\n",
              "      <td>USA</td>\n",
              "      <td>840</td>\n",
              "      <td>36081.0</td>\n",
              "      <td>Queens</td>\n",
              "      <td>New York</td>\n",
              "      <td>US</td>\n",
              "      <td>40.710881</td>\n",
              "      <td>-73.816847</td>\n",
              "      <td>Queens, New York, US</td>\n",
              "      <td>1/8/21</td>\n",
              "      <td>138603</td>\n",
              "    </tr>\n",
              "  </tbody>\n",
              "</table>\n",
              "</div>"
            ],
            "text/plain": [
              "              UID iso2 iso3  ...          Combined_Key      Date Confirmed\n",
              "1080761  84036081   US  USA  ...  Queens, New York, US  12/10/20    102353\n",
              "1084101  84036081   US  USA  ...  Queens, New York, US  12/11/20    103505\n",
              "1087441  84036081   US  USA  ...  Queens, New York, US  12/12/20    104677\n",
              "1090781  84036081   US  USA  ...  Queens, New York, US  12/13/20    105814\n",
              "1094121  84036081   US  USA  ...  Queens, New York, US  12/14/20    106987\n",
              "1097461  84036081   US  USA  ...  Queens, New York, US  12/15/20    107848\n",
              "1100801  84036081   US  USA  ...  Queens, New York, US  12/16/20    108781\n",
              "1104141  84036081   US  USA  ...  Queens, New York, US  12/17/20    110050\n",
              "1107481  84036081   US  USA  ...  Queens, New York, US  12/18/20    111383\n",
              "1110821  84036081   US  USA  ...  Queens, New York, US  12/19/20    112397\n",
              "1114161  84036081   US  USA  ...  Queens, New York, US  12/20/20    113085\n",
              "1117501  84036081   US  USA  ...  Queens, New York, US  12/21/20    114235\n",
              "1120841  84036081   US  USA  ...  Queens, New York, US  12/22/20    115216\n",
              "1124181  84036081   US  USA  ...  Queens, New York, US  12/23/20    116082\n",
              "1127521  84036081   US  USA  ...  Queens, New York, US  12/24/20    117624\n",
              "1130861  84036081   US  USA  ...  Queens, New York, US  12/25/20    119042\n",
              "1134201  84036081   US  USA  ...  Queens, New York, US  12/26/20    120344\n",
              "1137541  84036081   US  USA  ...  Queens, New York, US  12/27/20    121343\n",
              "1140881  84036081   US  USA  ...  Queens, New York, US  12/28/20    121748\n",
              "1144221  84036081   US  USA  ...  Queens, New York, US  12/29/20    122783\n",
              "1147561  84036081   US  USA  ...  Queens, New York, US  12/30/20    124068\n",
              "1150901  84036081   US  USA  ...  Queens, New York, US  12/31/20    125401\n",
              "1154241  84036081   US  USA  ...  Queens, New York, US    1/1/21    127132\n",
              "1157581  84036081   US  USA  ...  Queens, New York, US    1/2/21    128917\n",
              "1160921  84036081   US  USA  ...  Queens, New York, US    1/3/21    130228\n",
              "1164261  84036081   US  USA  ...  Queens, New York, US    1/4/21    131464\n",
              "1167601  84036081   US  USA  ...  Queens, New York, US    1/5/21    133083\n",
              "1170941  84036081   US  USA  ...  Queens, New York, US    1/6/21    134670\n",
              "1174281  84036081   US  USA  ...  Queens, New York, US    1/7/21    136465\n",
              "1177621  84036081   US  USA  ...  Queens, New York, US    1/8/21    138603\n",
              "\n",
              "[30 rows x 13 columns]"
            ]
          },
          "metadata": {
            "tags": []
          },
          "execution_count": 21
        }
      ]
    },
    {
      "cell_type": "code",
      "metadata": {
        "id": "pMhFo-6S4v9D",
        "colab": {
          "base_uri": "https://localhost:8080/",
          "height": 549
        },
        "outputId": "02dadb74-5c99-48d4-8cef-fd0411c64a3c"
      },
      "source": [
        "death_df_long.tail(10)"
      ],
      "execution_count": 22,
      "outputs": [
        {
          "output_type": "execute_result",
          "data": {
            "text/html": [
              "<div>\n",
              "<style scoped>\n",
              "    .dataframe tbody tr th:only-of-type {\n",
              "        vertical-align: middle;\n",
              "    }\n",
              "\n",
              "    .dataframe tbody tr th {\n",
              "        vertical-align: top;\n",
              "    }\n",
              "\n",
              "    .dataframe thead th {\n",
              "        text-align: right;\n",
              "    }\n",
              "</style>\n",
              "<table border=\"1\" class=\"dataframe\">\n",
              "  <thead>\n",
              "    <tr style=\"text-align: right;\">\n",
              "      <th></th>\n",
              "      <th>UID</th>\n",
              "      <th>iso2</th>\n",
              "      <th>iso3</th>\n",
              "      <th>code3</th>\n",
              "      <th>FIPS</th>\n",
              "      <th>Admin2</th>\n",
              "      <th>Province_State</th>\n",
              "      <th>Country_Region</th>\n",
              "      <th>Lat</th>\n",
              "      <th>Long_</th>\n",
              "      <th>Combined_Key</th>\n",
              "      <th>Population</th>\n",
              "      <th>Date</th>\n",
              "      <th>Deaths</th>\n",
              "    </tr>\n",
              "  </thead>\n",
              "  <tbody>\n",
              "    <tr>\n",
              "      <th>1179010</th>\n",
              "      <td>84056029</td>\n",
              "      <td>US</td>\n",
              "      <td>USA</td>\n",
              "      <td>840</td>\n",
              "      <td>56029.0</td>\n",
              "      <td>Park</td>\n",
              "      <td>Wyoming</td>\n",
              "      <td>US</td>\n",
              "      <td>44.521575</td>\n",
              "      <td>-109.585283</td>\n",
              "      <td>Park, Wyoming, US</td>\n",
              "      <td>29194</td>\n",
              "      <td>1/8/21</td>\n",
              "      <td>15</td>\n",
              "    </tr>\n",
              "    <tr>\n",
              "      <th>1179011</th>\n",
              "      <td>84056031</td>\n",
              "      <td>US</td>\n",
              "      <td>USA</td>\n",
              "      <td>840</td>\n",
              "      <td>56031.0</td>\n",
              "      <td>Platte</td>\n",
              "      <td>Wyoming</td>\n",
              "      <td>US</td>\n",
              "      <td>42.132991</td>\n",
              "      <td>-104.966331</td>\n",
              "      <td>Platte, Wyoming, US</td>\n",
              "      <td>8393</td>\n",
              "      <td>1/8/21</td>\n",
              "      <td>9</td>\n",
              "    </tr>\n",
              "    <tr>\n",
              "      <th>1179012</th>\n",
              "      <td>84056033</td>\n",
              "      <td>US</td>\n",
              "      <td>USA</td>\n",
              "      <td>840</td>\n",
              "      <td>56033.0</td>\n",
              "      <td>Sheridan</td>\n",
              "      <td>Wyoming</td>\n",
              "      <td>US</td>\n",
              "      <td>44.790489</td>\n",
              "      <td>-106.886239</td>\n",
              "      <td>Sheridan, Wyoming, US</td>\n",
              "      <td>30485</td>\n",
              "      <td>1/8/21</td>\n",
              "      <td>17</td>\n",
              "    </tr>\n",
              "    <tr>\n",
              "      <th>1179013</th>\n",
              "      <td>84056035</td>\n",
              "      <td>US</td>\n",
              "      <td>USA</td>\n",
              "      <td>840</td>\n",
              "      <td>56035.0</td>\n",
              "      <td>Sublette</td>\n",
              "      <td>Wyoming</td>\n",
              "      <td>US</td>\n",
              "      <td>42.765583</td>\n",
              "      <td>-109.913092</td>\n",
              "      <td>Sublette, Wyoming, US</td>\n",
              "      <td>9831</td>\n",
              "      <td>1/8/21</td>\n",
              "      <td>7</td>\n",
              "    </tr>\n",
              "    <tr>\n",
              "      <th>1179014</th>\n",
              "      <td>84056037</td>\n",
              "      <td>US</td>\n",
              "      <td>USA</td>\n",
              "      <td>840</td>\n",
              "      <td>56037.0</td>\n",
              "      <td>Sweetwater</td>\n",
              "      <td>Wyoming</td>\n",
              "      <td>US</td>\n",
              "      <td>41.659439</td>\n",
              "      <td>-108.882788</td>\n",
              "      <td>Sweetwater, Wyoming, US</td>\n",
              "      <td>42343</td>\n",
              "      <td>1/8/21</td>\n",
              "      <td>24</td>\n",
              "    </tr>\n",
              "    <tr>\n",
              "      <th>1179015</th>\n",
              "      <td>84056039</td>\n",
              "      <td>US</td>\n",
              "      <td>USA</td>\n",
              "      <td>840</td>\n",
              "      <td>56039.0</td>\n",
              "      <td>Teton</td>\n",
              "      <td>Wyoming</td>\n",
              "      <td>US</td>\n",
              "      <td>43.935225</td>\n",
              "      <td>-110.589080</td>\n",
              "      <td>Teton, Wyoming, US</td>\n",
              "      <td>23464</td>\n",
              "      <td>1/8/21</td>\n",
              "      <td>4</td>\n",
              "    </tr>\n",
              "    <tr>\n",
              "      <th>1179016</th>\n",
              "      <td>84056041</td>\n",
              "      <td>US</td>\n",
              "      <td>USA</td>\n",
              "      <td>840</td>\n",
              "      <td>56041.0</td>\n",
              "      <td>Uinta</td>\n",
              "      <td>Wyoming</td>\n",
              "      <td>US</td>\n",
              "      <td>41.287818</td>\n",
              "      <td>-110.547578</td>\n",
              "      <td>Uinta, Wyoming, US</td>\n",
              "      <td>20226</td>\n",
              "      <td>1/8/21</td>\n",
              "      <td>8</td>\n",
              "    </tr>\n",
              "    <tr>\n",
              "      <th>1179017</th>\n",
              "      <td>84090056</td>\n",
              "      <td>US</td>\n",
              "      <td>USA</td>\n",
              "      <td>840</td>\n",
              "      <td>90056.0</td>\n",
              "      <td>Unassigned</td>\n",
              "      <td>Wyoming</td>\n",
              "      <td>US</td>\n",
              "      <td>0.000000</td>\n",
              "      <td>0.000000</td>\n",
              "      <td>Unassigned, Wyoming, US</td>\n",
              "      <td>0</td>\n",
              "      <td>1/8/21</td>\n",
              "      <td>0</td>\n",
              "    </tr>\n",
              "    <tr>\n",
              "      <th>1179018</th>\n",
              "      <td>84056043</td>\n",
              "      <td>US</td>\n",
              "      <td>USA</td>\n",
              "      <td>840</td>\n",
              "      <td>56043.0</td>\n",
              "      <td>Washakie</td>\n",
              "      <td>Wyoming</td>\n",
              "      <td>US</td>\n",
              "      <td>43.904516</td>\n",
              "      <td>-107.680187</td>\n",
              "      <td>Washakie, Wyoming, US</td>\n",
              "      <td>7805</td>\n",
              "      <td>1/8/21</td>\n",
              "      <td>21</td>\n",
              "    </tr>\n",
              "    <tr>\n",
              "      <th>1179019</th>\n",
              "      <td>84056045</td>\n",
              "      <td>US</td>\n",
              "      <td>USA</td>\n",
              "      <td>840</td>\n",
              "      <td>56045.0</td>\n",
              "      <td>Weston</td>\n",
              "      <td>Wyoming</td>\n",
              "      <td>US</td>\n",
              "      <td>43.839612</td>\n",
              "      <td>-104.567488</td>\n",
              "      <td>Weston, Wyoming, US</td>\n",
              "      <td>6927</td>\n",
              "      <td>1/8/21</td>\n",
              "      <td>4</td>\n",
              "    </tr>\n",
              "  </tbody>\n",
              "</table>\n",
              "</div>"
            ],
            "text/plain": [
              "              UID iso2 iso3  ...  Population    Date Deaths\n",
              "1179010  84056029   US  USA  ...       29194  1/8/21     15\n",
              "1179011  84056031   US  USA  ...        8393  1/8/21      9\n",
              "1179012  84056033   US  USA  ...       30485  1/8/21     17\n",
              "1179013  84056035   US  USA  ...        9831  1/8/21      7\n",
              "1179014  84056037   US  USA  ...       42343  1/8/21     24\n",
              "1179015  84056039   US  USA  ...       23464  1/8/21      4\n",
              "1179016  84056041   US  USA  ...       20226  1/8/21      8\n",
              "1179017  84090056   US  USA  ...           0  1/8/21      0\n",
              "1179018  84056043   US  USA  ...        7805  1/8/21     21\n",
              "1179019  84056045   US  USA  ...        6927  1/8/21      4\n",
              "\n",
              "[10 rows x 14 columns]"
            ]
          },
          "metadata": {
            "tags": []
          },
          "execution_count": 22
        }
      ]
    },
    {
      "cell_type": "markdown",
      "metadata": {
        "id": "qVKk5oHB6kH2"
      },
      "source": [
        "## Merging Confirmed and Death data"
      ]
    },
    {
      "cell_type": "code",
      "metadata": {
        "id": "vmW7r2mT4v3k",
        "colab": {
          "base_uri": "https://localhost:8080/",
          "height": 549
        },
        "outputId": "4ca23f64-cbc5-400e-ebe0-31af38dba5d7"
      },
      "source": [
        "full_table = confirmed_df_long.merge(\n",
        "    right=death_df_long,\n",
        "    how='left',\n",
        "    on=[ 'UID', 'iso2', 'iso3', 'code3', 'FIPS', 'Admin2', 'Province_State',\n",
        "       'Country_Region', 'Lat', 'Long_', 'Combined_Key','Date']\n",
        ")\n",
        "\n",
        "full_table.head(10)"
      ],
      "execution_count": 23,
      "outputs": [
        {
          "output_type": "execute_result",
          "data": {
            "text/html": [
              "<div>\n",
              "<style scoped>\n",
              "    .dataframe tbody tr th:only-of-type {\n",
              "        vertical-align: middle;\n",
              "    }\n",
              "\n",
              "    .dataframe tbody tr th {\n",
              "        vertical-align: top;\n",
              "    }\n",
              "\n",
              "    .dataframe thead th {\n",
              "        text-align: right;\n",
              "    }\n",
              "</style>\n",
              "<table border=\"1\" class=\"dataframe\">\n",
              "  <thead>\n",
              "    <tr style=\"text-align: right;\">\n",
              "      <th></th>\n",
              "      <th>UID</th>\n",
              "      <th>iso2</th>\n",
              "      <th>iso3</th>\n",
              "      <th>code3</th>\n",
              "      <th>FIPS</th>\n",
              "      <th>Admin2</th>\n",
              "      <th>Province_State</th>\n",
              "      <th>Country_Region</th>\n",
              "      <th>Lat</th>\n",
              "      <th>Long_</th>\n",
              "      <th>Combined_Key</th>\n",
              "      <th>Date</th>\n",
              "      <th>Confirmed</th>\n",
              "      <th>Population</th>\n",
              "      <th>Deaths</th>\n",
              "    </tr>\n",
              "  </thead>\n",
              "  <tbody>\n",
              "    <tr>\n",
              "      <th>0</th>\n",
              "      <td>84001001</td>\n",
              "      <td>US</td>\n",
              "      <td>USA</td>\n",
              "      <td>840</td>\n",
              "      <td>1001.0</td>\n",
              "      <td>Autauga</td>\n",
              "      <td>Alabama</td>\n",
              "      <td>US</td>\n",
              "      <td>32.539527</td>\n",
              "      <td>-86.644082</td>\n",
              "      <td>Autauga, Alabama, US</td>\n",
              "      <td>1/22/20</td>\n",
              "      <td>0</td>\n",
              "      <td>55869.0</td>\n",
              "      <td>0.0</td>\n",
              "    </tr>\n",
              "    <tr>\n",
              "      <th>1</th>\n",
              "      <td>84001003</td>\n",
              "      <td>US</td>\n",
              "      <td>USA</td>\n",
              "      <td>840</td>\n",
              "      <td>1003.0</td>\n",
              "      <td>Baldwin</td>\n",
              "      <td>Alabama</td>\n",
              "      <td>US</td>\n",
              "      <td>30.727750</td>\n",
              "      <td>-87.722071</td>\n",
              "      <td>Baldwin, Alabama, US</td>\n",
              "      <td>1/22/20</td>\n",
              "      <td>0</td>\n",
              "      <td>223234.0</td>\n",
              "      <td>0.0</td>\n",
              "    </tr>\n",
              "    <tr>\n",
              "      <th>2</th>\n",
              "      <td>84001005</td>\n",
              "      <td>US</td>\n",
              "      <td>USA</td>\n",
              "      <td>840</td>\n",
              "      <td>1005.0</td>\n",
              "      <td>Barbour</td>\n",
              "      <td>Alabama</td>\n",
              "      <td>US</td>\n",
              "      <td>31.868263</td>\n",
              "      <td>-85.387129</td>\n",
              "      <td>Barbour, Alabama, US</td>\n",
              "      <td>1/22/20</td>\n",
              "      <td>0</td>\n",
              "      <td>24686.0</td>\n",
              "      <td>0.0</td>\n",
              "    </tr>\n",
              "    <tr>\n",
              "      <th>3</th>\n",
              "      <td>84001007</td>\n",
              "      <td>US</td>\n",
              "      <td>USA</td>\n",
              "      <td>840</td>\n",
              "      <td>1007.0</td>\n",
              "      <td>Bibb</td>\n",
              "      <td>Alabama</td>\n",
              "      <td>US</td>\n",
              "      <td>32.996421</td>\n",
              "      <td>-87.125115</td>\n",
              "      <td>Bibb, Alabama, US</td>\n",
              "      <td>1/22/20</td>\n",
              "      <td>0</td>\n",
              "      <td>22394.0</td>\n",
              "      <td>0.0</td>\n",
              "    </tr>\n",
              "    <tr>\n",
              "      <th>4</th>\n",
              "      <td>84001009</td>\n",
              "      <td>US</td>\n",
              "      <td>USA</td>\n",
              "      <td>840</td>\n",
              "      <td>1009.0</td>\n",
              "      <td>Blount</td>\n",
              "      <td>Alabama</td>\n",
              "      <td>US</td>\n",
              "      <td>33.982109</td>\n",
              "      <td>-86.567906</td>\n",
              "      <td>Blount, Alabama, US</td>\n",
              "      <td>1/22/20</td>\n",
              "      <td>0</td>\n",
              "      <td>57826.0</td>\n",
              "      <td>0.0</td>\n",
              "    </tr>\n",
              "    <tr>\n",
              "      <th>5</th>\n",
              "      <td>84001011</td>\n",
              "      <td>US</td>\n",
              "      <td>USA</td>\n",
              "      <td>840</td>\n",
              "      <td>1011.0</td>\n",
              "      <td>Bullock</td>\n",
              "      <td>Alabama</td>\n",
              "      <td>US</td>\n",
              "      <td>32.100305</td>\n",
              "      <td>-85.712655</td>\n",
              "      <td>Bullock, Alabama, US</td>\n",
              "      <td>1/22/20</td>\n",
              "      <td>0</td>\n",
              "      <td>10101.0</td>\n",
              "      <td>0.0</td>\n",
              "    </tr>\n",
              "    <tr>\n",
              "      <th>6</th>\n",
              "      <td>84001013</td>\n",
              "      <td>US</td>\n",
              "      <td>USA</td>\n",
              "      <td>840</td>\n",
              "      <td>1013.0</td>\n",
              "      <td>Butler</td>\n",
              "      <td>Alabama</td>\n",
              "      <td>US</td>\n",
              "      <td>31.753001</td>\n",
              "      <td>-86.680575</td>\n",
              "      <td>Butler, Alabama, US</td>\n",
              "      <td>1/22/20</td>\n",
              "      <td>0</td>\n",
              "      <td>19448.0</td>\n",
              "      <td>0.0</td>\n",
              "    </tr>\n",
              "    <tr>\n",
              "      <th>7</th>\n",
              "      <td>84001015</td>\n",
              "      <td>US</td>\n",
              "      <td>USA</td>\n",
              "      <td>840</td>\n",
              "      <td>1015.0</td>\n",
              "      <td>Calhoun</td>\n",
              "      <td>Alabama</td>\n",
              "      <td>US</td>\n",
              "      <td>33.774837</td>\n",
              "      <td>-85.826304</td>\n",
              "      <td>Calhoun, Alabama, US</td>\n",
              "      <td>1/22/20</td>\n",
              "      <td>0</td>\n",
              "      <td>113605.0</td>\n",
              "      <td>0.0</td>\n",
              "    </tr>\n",
              "    <tr>\n",
              "      <th>8</th>\n",
              "      <td>84001017</td>\n",
              "      <td>US</td>\n",
              "      <td>USA</td>\n",
              "      <td>840</td>\n",
              "      <td>1017.0</td>\n",
              "      <td>Chambers</td>\n",
              "      <td>Alabama</td>\n",
              "      <td>US</td>\n",
              "      <td>32.913601</td>\n",
              "      <td>-85.390727</td>\n",
              "      <td>Chambers, Alabama, US</td>\n",
              "      <td>1/22/20</td>\n",
              "      <td>0</td>\n",
              "      <td>33254.0</td>\n",
              "      <td>0.0</td>\n",
              "    </tr>\n",
              "    <tr>\n",
              "      <th>9</th>\n",
              "      <td>84001019</td>\n",
              "      <td>US</td>\n",
              "      <td>USA</td>\n",
              "      <td>840</td>\n",
              "      <td>1019.0</td>\n",
              "      <td>Cherokee</td>\n",
              "      <td>Alabama</td>\n",
              "      <td>US</td>\n",
              "      <td>34.178060</td>\n",
              "      <td>-85.606390</td>\n",
              "      <td>Cherokee, Alabama, US</td>\n",
              "      <td>1/22/20</td>\n",
              "      <td>0</td>\n",
              "      <td>26196.0</td>\n",
              "      <td>0.0</td>\n",
              "    </tr>\n",
              "  </tbody>\n",
              "</table>\n",
              "</div>"
            ],
            "text/plain": [
              "        UID iso2 iso3  code3  ...     Date Confirmed Population Deaths\n",
              "0  84001001   US  USA    840  ...  1/22/20         0    55869.0    0.0\n",
              "1  84001003   US  USA    840  ...  1/22/20         0   223234.0    0.0\n",
              "2  84001005   US  USA    840  ...  1/22/20         0    24686.0    0.0\n",
              "3  84001007   US  USA    840  ...  1/22/20         0    22394.0    0.0\n",
              "4  84001009   US  USA    840  ...  1/22/20         0    57826.0    0.0\n",
              "5  84001011   US  USA    840  ...  1/22/20         0    10101.0    0.0\n",
              "6  84001013   US  USA    840  ...  1/22/20         0    19448.0    0.0\n",
              "7  84001015   US  USA    840  ...  1/22/20         0   113605.0    0.0\n",
              "8  84001017   US  USA    840  ...  1/22/20         0    33254.0    0.0\n",
              "9  84001019   US  USA    840  ...  1/22/20         0    26196.0    0.0\n",
              "\n",
              "[10 rows x 15 columns]"
            ]
          },
          "metadata": {
            "tags": []
          },
          "execution_count": 23
        }
      ]
    },
    {
      "cell_type": "code",
      "metadata": {
        "id": "tl_kc1Dy4vxc"
      },
      "source": [
        "#full_table['Date'] = pd.to_datetime(full_table['Date'])\n"
      ],
      "execution_count": null,
      "outputs": []
    },
    {
      "cell_type": "code",
      "metadata": {
        "id": "IGsPX5xY-FwZ"
      },
      "source": [
        "ship_data = full_table['Province_State'].str.contains('Grand Princess') | full_table['Province_State'].str.contains('Diamond Princess') | full_table['Province_State'].str.contains('Northern Mariana Islands') | full_table['Province_State'].str.contains('American Samoa') |full_table['Province_State'].str.contains('Guam') | full_table['Province_State'].str.contains('Virgin Islands')\n",
        "\n",
        "full_ship = full_table[ship_data]\n"
      ],
      "execution_count": 24,
      "outputs": []
    },
    {
      "cell_type": "code",
      "metadata": {
        "id": "qX8IIjJkAGsQ"
      },
      "source": [
        "# Removing ship data from State data\n",
        "\n",
        "full_table = full_table[~(ship_data)]"
      ],
      "execution_count": 25,
      "outputs": []
    },
    {
      "cell_type": "markdown",
      "metadata": {
        "id": "8bYhqhBUAa6J"
      },
      "source": [
        "## Group data"
      ]
    },
    {
      "cell_type": "code",
      "metadata": {
        "id": "VMxboCIAAGqB",
        "colab": {
          "base_uri": "https://localhost:8080/",
          "height": 204
        },
        "outputId": "00587eb3-1175-4209-cdc1-3024433f88ac"
      },
      "source": [
        "full_grouped = full_table.groupby(['Date', 'Province_State','FIPS'])['Confirmed', 'Deaths'].sum().reset_index()\n",
        "\n",
        "full_grouped.tail(5)"
      ],
      "execution_count": 26,
      "outputs": [
        {
          "output_type": "execute_result",
          "data": {
            "text/html": [
              "<div>\n",
              "<style scoped>\n",
              "    .dataframe tbody tr th:only-of-type {\n",
              "        vertical-align: middle;\n",
              "    }\n",
              "\n",
              "    .dataframe tbody tr th {\n",
              "        vertical-align: top;\n",
              "    }\n",
              "\n",
              "    .dataframe thead th {\n",
              "        text-align: right;\n",
              "    }\n",
              "</style>\n",
              "<table border=\"1\" class=\"dataframe\">\n",
              "  <thead>\n",
              "    <tr style=\"text-align: right;\">\n",
              "      <th></th>\n",
              "      <th>Date</th>\n",
              "      <th>Province_State</th>\n",
              "      <th>FIPS</th>\n",
              "      <th>Confirmed</th>\n",
              "      <th>Deaths</th>\n",
              "    </tr>\n",
              "  </thead>\n",
              "  <tbody>\n",
              "    <tr>\n",
              "      <th>1173367</th>\n",
              "      <td>9/9/20</td>\n",
              "      <td>Wyoming</td>\n",
              "      <td>56041.0</td>\n",
              "      <td>308</td>\n",
              "      <td>2.0</td>\n",
              "    </tr>\n",
              "    <tr>\n",
              "      <th>1173368</th>\n",
              "      <td>9/9/20</td>\n",
              "      <td>Wyoming</td>\n",
              "      <td>56043.0</td>\n",
              "      <td>111</td>\n",
              "      <td>6.0</td>\n",
              "    </tr>\n",
              "    <tr>\n",
              "      <th>1173369</th>\n",
              "      <td>9/9/20</td>\n",
              "      <td>Wyoming</td>\n",
              "      <td>56045.0</td>\n",
              "      <td>21</td>\n",
              "      <td>0.0</td>\n",
              "    </tr>\n",
              "    <tr>\n",
              "      <th>1173370</th>\n",
              "      <td>9/9/20</td>\n",
              "      <td>Wyoming</td>\n",
              "      <td>80056.0</td>\n",
              "      <td>0</td>\n",
              "      <td>0.0</td>\n",
              "    </tr>\n",
              "    <tr>\n",
              "      <th>1173371</th>\n",
              "      <td>9/9/20</td>\n",
              "      <td>Wyoming</td>\n",
              "      <td>90056.0</td>\n",
              "      <td>0</td>\n",
              "      <td>0.0</td>\n",
              "    </tr>\n",
              "  </tbody>\n",
              "</table>\n",
              "</div>"
            ],
            "text/plain": [
              "           Date Province_State     FIPS  Confirmed  Deaths\n",
              "1173367  9/9/20        Wyoming  56041.0        308     2.0\n",
              "1173368  9/9/20        Wyoming  56043.0        111     6.0\n",
              "1173369  9/9/20        Wyoming  56045.0         21     0.0\n",
              "1173370  9/9/20        Wyoming  80056.0          0     0.0\n",
              "1173371  9/9/20        Wyoming  90056.0          0     0.0"
            ]
          },
          "metadata": {
            "tags": []
          },
          "execution_count": 26
        }
      ]
    },
    {
      "cell_type": "code",
      "metadata": {
        "id": "MBTXndxmKr8Z",
        "colab": {
          "base_uri": "https://localhost:8080/"
        },
        "outputId": "4eac3824-2e46-46b7-b0a6-fc55a828a903"
      },
      "source": [
        "full_grouped.shape"
      ],
      "execution_count": 27,
      "outputs": [
        {
          "output_type": "execute_result",
          "data": {
            "text/plain": [
              "(1173372, 5)"
            ]
          },
          "metadata": {
            "tags": []
          },
          "execution_count": 27
        }
      ]
    },
    {
      "cell_type": "markdown",
      "metadata": {
        "id": "IZGdcgaLA3gY"
      },
      "source": [
        "####  Adding new cases, new deaths by subtracting from previous day record"
      ]
    },
    {
      "cell_type": "code",
      "metadata": {
        "id": "BLPdIAKodQNZ"
      },
      "source": [
        "full_grouped_ = full_grouped.copy()"
      ],
      "execution_count": 28,
      "outputs": []
    },
    {
      "cell_type": "code",
      "metadata": {
        "id": "LWk-gkHzdU2k"
      },
      "source": [
        "full_grouped = full_grouped_.copy()"
      ],
      "execution_count": 29,
      "outputs": []
    },
    {
      "cell_type": "code",
      "metadata": {
        "id": "l1jKyIpJfgif"
      },
      "source": [
        "\n"
      ],
      "execution_count": null,
      "outputs": []
    },
    {
      "cell_type": "code",
      "metadata": {
        "id": "9Rc4rAUgju2G"
      },
      "source": [
        "def fixDate(x):\n",
        "  arr = x.split('/')\n",
        "  m = arr[0]\n",
        "  d = arr[1]\n",
        "  y = arr[2]\n",
        "\n",
        "  if int(m) < 10:\n",
        "    m = '0'+str(m)\n",
        "  if int(d) < 10:\n",
        "    d = '0'+str(d)\n",
        "  return '20'+str(y)+'-'+m+'-'+d"
      ],
      "execution_count": 30,
      "outputs": []
    },
    {
      "cell_type": "code",
      "metadata": {
        "id": "JPY0D4cdjv-e",
        "colab": {
          "base_uri": "https://localhost:8080/",
          "height": 111
        },
        "outputId": "93a71f9d-c9bd-4c09-b1a0-062c1b544602"
      },
      "source": [
        "full_grouped['Date'] = full_grouped['Date'].apply(lambda x: fixDate(x))\n",
        "\n",
        "full_grouped.head(2)"
      ],
      "execution_count": 31,
      "outputs": [
        {
          "output_type": "execute_result",
          "data": {
            "text/html": [
              "<div>\n",
              "<style scoped>\n",
              "    .dataframe tbody tr th:only-of-type {\n",
              "        vertical-align: middle;\n",
              "    }\n",
              "\n",
              "    .dataframe tbody tr th {\n",
              "        vertical-align: top;\n",
              "    }\n",
              "\n",
              "    .dataframe thead th {\n",
              "        text-align: right;\n",
              "    }\n",
              "</style>\n",
              "<table border=\"1\" class=\"dataframe\">\n",
              "  <thead>\n",
              "    <tr style=\"text-align: right;\">\n",
              "      <th></th>\n",
              "      <th>Date</th>\n",
              "      <th>Province_State</th>\n",
              "      <th>FIPS</th>\n",
              "      <th>Confirmed</th>\n",
              "      <th>Deaths</th>\n",
              "    </tr>\n",
              "  </thead>\n",
              "  <tbody>\n",
              "    <tr>\n",
              "      <th>0</th>\n",
              "      <td>2021-01-01</td>\n",
              "      <td>Alabama</td>\n",
              "      <td>1001.0</td>\n",
              "      <td>4239</td>\n",
              "      <td>50.0</td>\n",
              "    </tr>\n",
              "    <tr>\n",
              "      <th>1</th>\n",
              "      <td>2021-01-01</td>\n",
              "      <td>Alabama</td>\n",
              "      <td>1003.0</td>\n",
              "      <td>13823</td>\n",
              "      <td>169.0</td>\n",
              "    </tr>\n",
              "  </tbody>\n",
              "</table>\n",
              "</div>"
            ],
            "text/plain": [
              "         Date Province_State    FIPS  Confirmed  Deaths\n",
              "0  2021-01-01        Alabama  1001.0       4239    50.0\n",
              "1  2021-01-01        Alabama  1003.0      13823   169.0"
            ]
          },
          "metadata": {
            "tags": []
          },
          "execution_count": 31
        }
      ]
    },
    {
      "cell_type": "code",
      "metadata": {
        "id": "K4GKq88tfEg1"
      },
      "source": [
        "def computeNewCases(FIPS):\n",
        "\n",
        "\n",
        "  countyData = full_grouped[full_grouped['FIPS'] == FIPS]\n",
        "  countyData = countyData.sort_values(by=['Date'])\n",
        "\n",
        "  if countyData.Confirmed.max() > 0:\n",
        "    temp = countyData.groupby(['Date'])['Confirmed', 'Deaths']\n",
        "    temp = temp.sum().diff().reset_index()\n",
        "    #print(temp)\n",
        "    mask = temp['Date'] != temp['Date'].shift(1)\n",
        "\n",
        "    #temp.loc[mask, 'Confirmed'] = np.nan\n",
        "    #temp.loc[mask, 'Deaths'] = np.nan\n",
        "    temp.columns = ['Date', 'New cases', 'New deaths']\n",
        "    print(temp)\n",
        "    countyData = pd.merge(countyData, temp, on=[ 'Date'])\n",
        "    print(countyData)\n",
        "    #print('********')\n",
        "    # filling na with 0\n",
        "    countyData = countyData.fillna(0)\n",
        "    # fixing data types\n",
        "    cols = ['New cases', 'New deaths']\n",
        "    countyData[cols] = countyData[cols].astype('int') \n",
        "    return countyData\n"
      ],
      "execution_count": 32,
      "outputs": []
    },
    {
      "cell_type": "markdown",
      "metadata": {
        "id": "PVv0TytWlAhr"
      },
      "source": [
        "Below code executes for all FIPS, estimated runtime **10 minutes**"
      ]
    },
    {
      "cell_type": "code",
      "metadata": {
        "id": "WSLCWQH9gQ5h",
        "colab": {
          "base_uri": "https://localhost:8080/"
        },
        "outputId": "cc06be22-6590-46e8-b928-0c5207226ad8"
      },
      "source": [
        "df = pd.DataFrame(columns=['Date','Province_State','FIPS','Confirmed','Deaths','New cases','New deaths'])\n",
        "\n",
        "for fips in tqdm(full_grouped.FIPS.unique()):\n",
        "  \n",
        "\n",
        "  countyData = full_grouped[full_grouped['FIPS'] == fips]\n",
        "  countyData = countyData.sort_values(by=['Date'])\n",
        "  #print(fips,' , ',countyData.Confirmed.min())\n",
        "  \n",
        "  if countyData.Confirmed.max() > 0:\n",
        "    temp = countyData.groupby(['Date'])['Confirmed', 'Deaths']\n",
        "    temp = temp.sum().diff().reset_index()\n",
        "    #print(temp)\n",
        "    mask = temp['Date'] != temp['Date'].shift(1)\n",
        "\n",
        "    # temp.loc[mask, 'Confirmed'] = np.nan\n",
        "    # temp.loc[mask, 'Deaths'] = np.nan\n",
        "    temp.columns = ['Date', 'New cases', 'New deaths']\n",
        "    countyData = pd.merge(countyData, temp, on=[ 'Date'])\n",
        "    #print(countyData)\n",
        "    #print('********')\n",
        "    # filling na with 0\n",
        "    countyData = countyData.fillna(0)\n",
        "    # fixing data types\n",
        "    cols = ['New cases', 'New deaths']\n",
        "    countyData[cols] = countyData[cols].astype('int')\n",
        "    df = df.append(countyData)\n",
        "    #break"
      ],
      "execution_count": 33,
      "outputs": [
        {
          "output_type": "stream",
          "text": [
            "100%|██████████| 3324/3324 [09:02<00:00,  6.13it/s]\n"
          ],
          "name": "stderr"
        }
      ]
    },
    {
      "cell_type": "code",
      "metadata": {
        "id": "lRUhQHWQhBd6",
        "colab": {
          "base_uri": "https://localhost:8080/",
          "height": 531
        },
        "outputId": "31c3030f-923e-472d-d7f0-1046522466ad"
      },
      "source": [
        "print(df.shape)\n",
        "df.tail(15)"
      ],
      "execution_count": 34,
      "outputs": [
        {
          "output_type": "stream",
          "text": [
            "(1151133, 7)\n"
          ],
          "name": "stdout"
        },
        {
          "output_type": "execute_result",
          "data": {
            "text/html": [
              "<div>\n",
              "<style scoped>\n",
              "    .dataframe tbody tr th:only-of-type {\n",
              "        vertical-align: middle;\n",
              "    }\n",
              "\n",
              "    .dataframe tbody tr th {\n",
              "        vertical-align: top;\n",
              "    }\n",
              "\n",
              "    .dataframe thead th {\n",
              "        text-align: right;\n",
              "    }\n",
              "</style>\n",
              "<table border=\"1\" class=\"dataframe\">\n",
              "  <thead>\n",
              "    <tr style=\"text-align: right;\">\n",
              "      <th></th>\n",
              "      <th>Date</th>\n",
              "      <th>Province_State</th>\n",
              "      <th>FIPS</th>\n",
              "      <th>Confirmed</th>\n",
              "      <th>Deaths</th>\n",
              "      <th>New cases</th>\n",
              "      <th>New deaths</th>\n",
              "    </tr>\n",
              "  </thead>\n",
              "  <tbody>\n",
              "    <tr>\n",
              "      <th>338</th>\n",
              "      <td>2020-12-25</td>\n",
              "      <td>Wyoming</td>\n",
              "      <td>90056.0</td>\n",
              "      <td>0</td>\n",
              "      <td>0.0</td>\n",
              "      <td>0</td>\n",
              "      <td>0</td>\n",
              "    </tr>\n",
              "    <tr>\n",
              "      <th>339</th>\n",
              "      <td>2020-12-26</td>\n",
              "      <td>Wyoming</td>\n",
              "      <td>90056.0</td>\n",
              "      <td>0</td>\n",
              "      <td>0.0</td>\n",
              "      <td>0</td>\n",
              "      <td>0</td>\n",
              "    </tr>\n",
              "    <tr>\n",
              "      <th>340</th>\n",
              "      <td>2020-12-27</td>\n",
              "      <td>Wyoming</td>\n",
              "      <td>90056.0</td>\n",
              "      <td>0</td>\n",
              "      <td>0.0</td>\n",
              "      <td>0</td>\n",
              "      <td>0</td>\n",
              "    </tr>\n",
              "    <tr>\n",
              "      <th>341</th>\n",
              "      <td>2020-12-28</td>\n",
              "      <td>Wyoming</td>\n",
              "      <td>90056.0</td>\n",
              "      <td>0</td>\n",
              "      <td>0.0</td>\n",
              "      <td>0</td>\n",
              "      <td>0</td>\n",
              "    </tr>\n",
              "    <tr>\n",
              "      <th>342</th>\n",
              "      <td>2020-12-29</td>\n",
              "      <td>Wyoming</td>\n",
              "      <td>90056.0</td>\n",
              "      <td>0</td>\n",
              "      <td>0.0</td>\n",
              "      <td>0</td>\n",
              "      <td>0</td>\n",
              "    </tr>\n",
              "    <tr>\n",
              "      <th>343</th>\n",
              "      <td>2020-12-30</td>\n",
              "      <td>Wyoming</td>\n",
              "      <td>90056.0</td>\n",
              "      <td>0</td>\n",
              "      <td>0.0</td>\n",
              "      <td>0</td>\n",
              "      <td>0</td>\n",
              "    </tr>\n",
              "    <tr>\n",
              "      <th>344</th>\n",
              "      <td>2020-12-31</td>\n",
              "      <td>Wyoming</td>\n",
              "      <td>90056.0</td>\n",
              "      <td>0</td>\n",
              "      <td>0.0</td>\n",
              "      <td>0</td>\n",
              "      <td>0</td>\n",
              "    </tr>\n",
              "    <tr>\n",
              "      <th>345</th>\n",
              "      <td>2021-01-01</td>\n",
              "      <td>Wyoming</td>\n",
              "      <td>90056.0</td>\n",
              "      <td>0</td>\n",
              "      <td>0.0</td>\n",
              "      <td>0</td>\n",
              "      <td>0</td>\n",
              "    </tr>\n",
              "    <tr>\n",
              "      <th>346</th>\n",
              "      <td>2021-01-02</td>\n",
              "      <td>Wyoming</td>\n",
              "      <td>90056.0</td>\n",
              "      <td>0</td>\n",
              "      <td>0.0</td>\n",
              "      <td>0</td>\n",
              "      <td>0</td>\n",
              "    </tr>\n",
              "    <tr>\n",
              "      <th>347</th>\n",
              "      <td>2021-01-03</td>\n",
              "      <td>Wyoming</td>\n",
              "      <td>90056.0</td>\n",
              "      <td>0</td>\n",
              "      <td>0.0</td>\n",
              "      <td>0</td>\n",
              "      <td>0</td>\n",
              "    </tr>\n",
              "    <tr>\n",
              "      <th>348</th>\n",
              "      <td>2021-01-04</td>\n",
              "      <td>Wyoming</td>\n",
              "      <td>90056.0</td>\n",
              "      <td>0</td>\n",
              "      <td>0.0</td>\n",
              "      <td>0</td>\n",
              "      <td>0</td>\n",
              "    </tr>\n",
              "    <tr>\n",
              "      <th>349</th>\n",
              "      <td>2021-01-05</td>\n",
              "      <td>Wyoming</td>\n",
              "      <td>90056.0</td>\n",
              "      <td>0</td>\n",
              "      <td>0.0</td>\n",
              "      <td>0</td>\n",
              "      <td>0</td>\n",
              "    </tr>\n",
              "    <tr>\n",
              "      <th>350</th>\n",
              "      <td>2021-01-06</td>\n",
              "      <td>Wyoming</td>\n",
              "      <td>90056.0</td>\n",
              "      <td>0</td>\n",
              "      <td>0.0</td>\n",
              "      <td>0</td>\n",
              "      <td>0</td>\n",
              "    </tr>\n",
              "    <tr>\n",
              "      <th>351</th>\n",
              "      <td>2021-01-07</td>\n",
              "      <td>Wyoming</td>\n",
              "      <td>90056.0</td>\n",
              "      <td>0</td>\n",
              "      <td>0.0</td>\n",
              "      <td>0</td>\n",
              "      <td>0</td>\n",
              "    </tr>\n",
              "    <tr>\n",
              "      <th>352</th>\n",
              "      <td>2021-01-08</td>\n",
              "      <td>Wyoming</td>\n",
              "      <td>90056.0</td>\n",
              "      <td>0</td>\n",
              "      <td>0.0</td>\n",
              "      <td>0</td>\n",
              "      <td>0</td>\n",
              "    </tr>\n",
              "  </tbody>\n",
              "</table>\n",
              "</div>"
            ],
            "text/plain": [
              "           Date Province_State     FIPS Confirmed  Deaths New cases New deaths\n",
              "338  2020-12-25        Wyoming  90056.0         0     0.0         0          0\n",
              "339  2020-12-26        Wyoming  90056.0         0     0.0         0          0\n",
              "340  2020-12-27        Wyoming  90056.0         0     0.0         0          0\n",
              "341  2020-12-28        Wyoming  90056.0         0     0.0         0          0\n",
              "342  2020-12-29        Wyoming  90056.0         0     0.0         0          0\n",
              "343  2020-12-30        Wyoming  90056.0         0     0.0         0          0\n",
              "344  2020-12-31        Wyoming  90056.0         0     0.0         0          0\n",
              "345  2021-01-01        Wyoming  90056.0         0     0.0         0          0\n",
              "346  2021-01-02        Wyoming  90056.0         0     0.0         0          0\n",
              "347  2021-01-03        Wyoming  90056.0         0     0.0         0          0\n",
              "348  2021-01-04        Wyoming  90056.0         0     0.0         0          0\n",
              "349  2021-01-05        Wyoming  90056.0         0     0.0         0          0\n",
              "350  2021-01-06        Wyoming  90056.0         0     0.0         0          0\n",
              "351  2021-01-07        Wyoming  90056.0         0     0.0         0          0\n",
              "352  2021-01-08        Wyoming  90056.0         0     0.0         0          0"
            ]
          },
          "metadata": {
            "tags": []
          },
          "execution_count": 34
        }
      ]
    },
    {
      "cell_type": "code",
      "metadata": {
        "id": "kOwIykD0252i",
        "colab": {
          "base_uri": "https://localhost:8080/"
        },
        "outputId": "51f67345-4ed3-431b-a798-9e95ea045aaa"
      },
      "source": [
        "df.shape"
      ],
      "execution_count": 35,
      "outputs": [
        {
          "output_type": "execute_result",
          "data": {
            "text/plain": [
              "(1151133, 7)"
            ]
          },
          "metadata": {
            "tags": []
          },
          "execution_count": 35
        }
      ]
    },
    {
      "cell_type": "code",
      "metadata": {
        "id": "x1QX5BN4c4-W",
        "colab": {
          "base_uri": "https://localhost:8080/",
          "height": 204
        },
        "outputId": "d29317e9-e8f0-4668-e180-f0ecf5421f59"
      },
      "source": [
        "df[df['FIPS'] == 56041.0].tail(5)"
      ],
      "execution_count": 36,
      "outputs": [
        {
          "output_type": "execute_result",
          "data": {
            "text/html": [
              "<div>\n",
              "<style scoped>\n",
              "    .dataframe tbody tr th:only-of-type {\n",
              "        vertical-align: middle;\n",
              "    }\n",
              "\n",
              "    .dataframe tbody tr th {\n",
              "        vertical-align: top;\n",
              "    }\n",
              "\n",
              "    .dataframe thead th {\n",
              "        text-align: right;\n",
              "    }\n",
              "</style>\n",
              "<table border=\"1\" class=\"dataframe\">\n",
              "  <thead>\n",
              "    <tr style=\"text-align: right;\">\n",
              "      <th></th>\n",
              "      <th>Date</th>\n",
              "      <th>Province_State</th>\n",
              "      <th>FIPS</th>\n",
              "      <th>Confirmed</th>\n",
              "      <th>Deaths</th>\n",
              "      <th>New cases</th>\n",
              "      <th>New deaths</th>\n",
              "    </tr>\n",
              "  </thead>\n",
              "  <tbody>\n",
              "    <tr>\n",
              "      <th>348</th>\n",
              "      <td>2021-01-04</td>\n",
              "      <td>Wyoming</td>\n",
              "      <td>56041.0</td>\n",
              "      <td>1589</td>\n",
              "      <td>7.0</td>\n",
              "      <td>19</td>\n",
              "      <td>0</td>\n",
              "    </tr>\n",
              "    <tr>\n",
              "      <th>349</th>\n",
              "      <td>2021-01-05</td>\n",
              "      <td>Wyoming</td>\n",
              "      <td>56041.0</td>\n",
              "      <td>1597</td>\n",
              "      <td>7.0</td>\n",
              "      <td>8</td>\n",
              "      <td>0</td>\n",
              "    </tr>\n",
              "    <tr>\n",
              "      <th>350</th>\n",
              "      <td>2021-01-06</td>\n",
              "      <td>Wyoming</td>\n",
              "      <td>56041.0</td>\n",
              "      <td>1618</td>\n",
              "      <td>7.0</td>\n",
              "      <td>21</td>\n",
              "      <td>0</td>\n",
              "    </tr>\n",
              "    <tr>\n",
              "      <th>351</th>\n",
              "      <td>2021-01-07</td>\n",
              "      <td>Wyoming</td>\n",
              "      <td>56041.0</td>\n",
              "      <td>1668</td>\n",
              "      <td>8.0</td>\n",
              "      <td>50</td>\n",
              "      <td>1</td>\n",
              "    </tr>\n",
              "    <tr>\n",
              "      <th>352</th>\n",
              "      <td>2021-01-08</td>\n",
              "      <td>Wyoming</td>\n",
              "      <td>56041.0</td>\n",
              "      <td>1693</td>\n",
              "      <td>8.0</td>\n",
              "      <td>25</td>\n",
              "      <td>0</td>\n",
              "    </tr>\n",
              "  </tbody>\n",
              "</table>\n",
              "</div>"
            ],
            "text/plain": [
              "           Date Province_State     FIPS Confirmed  Deaths New cases New deaths\n",
              "348  2021-01-04        Wyoming  56041.0      1589     7.0        19          0\n",
              "349  2021-01-05        Wyoming  56041.0      1597     7.0         8          0\n",
              "350  2021-01-06        Wyoming  56041.0      1618     7.0        21          0\n",
              "351  2021-01-07        Wyoming  56041.0      1668     8.0        50          1\n",
              "352  2021-01-08        Wyoming  56041.0      1693     8.0        25          0"
            ]
          },
          "metadata": {
            "tags": []
          },
          "execution_count": 36
        }
      ]
    },
    {
      "cell_type": "code",
      "metadata": {
        "id": "0-UmKBJHc3Yc"
      },
      "source": [
        "# merging new values\n",
        "full_grouped = df.copy()"
      ],
      "execution_count": 37,
      "outputs": []
    },
    {
      "cell_type": "code",
      "metadata": {
        "id": "5vhCccPLAGio",
        "colab": {
          "base_uri": "https://localhost:8080/",
          "height": 204
        },
        "outputId": "b263ffb3-d50d-4bfc-b7d2-ab1dab90ef37"
      },
      "source": [
        "full_grouped.tail(5)"
      ],
      "execution_count": 38,
      "outputs": [
        {
          "output_type": "execute_result",
          "data": {
            "text/html": [
              "<div>\n",
              "<style scoped>\n",
              "    .dataframe tbody tr th:only-of-type {\n",
              "        vertical-align: middle;\n",
              "    }\n",
              "\n",
              "    .dataframe tbody tr th {\n",
              "        vertical-align: top;\n",
              "    }\n",
              "\n",
              "    .dataframe thead th {\n",
              "        text-align: right;\n",
              "    }\n",
              "</style>\n",
              "<table border=\"1\" class=\"dataframe\">\n",
              "  <thead>\n",
              "    <tr style=\"text-align: right;\">\n",
              "      <th></th>\n",
              "      <th>Date</th>\n",
              "      <th>Province_State</th>\n",
              "      <th>FIPS</th>\n",
              "      <th>Confirmed</th>\n",
              "      <th>Deaths</th>\n",
              "      <th>New cases</th>\n",
              "      <th>New deaths</th>\n",
              "    </tr>\n",
              "  </thead>\n",
              "  <tbody>\n",
              "    <tr>\n",
              "      <th>348</th>\n",
              "      <td>2021-01-04</td>\n",
              "      <td>Wyoming</td>\n",
              "      <td>90056.0</td>\n",
              "      <td>0</td>\n",
              "      <td>0.0</td>\n",
              "      <td>0</td>\n",
              "      <td>0</td>\n",
              "    </tr>\n",
              "    <tr>\n",
              "      <th>349</th>\n",
              "      <td>2021-01-05</td>\n",
              "      <td>Wyoming</td>\n",
              "      <td>90056.0</td>\n",
              "      <td>0</td>\n",
              "      <td>0.0</td>\n",
              "      <td>0</td>\n",
              "      <td>0</td>\n",
              "    </tr>\n",
              "    <tr>\n",
              "      <th>350</th>\n",
              "      <td>2021-01-06</td>\n",
              "      <td>Wyoming</td>\n",
              "      <td>90056.0</td>\n",
              "      <td>0</td>\n",
              "      <td>0.0</td>\n",
              "      <td>0</td>\n",
              "      <td>0</td>\n",
              "    </tr>\n",
              "    <tr>\n",
              "      <th>351</th>\n",
              "      <td>2021-01-07</td>\n",
              "      <td>Wyoming</td>\n",
              "      <td>90056.0</td>\n",
              "      <td>0</td>\n",
              "      <td>0.0</td>\n",
              "      <td>0</td>\n",
              "      <td>0</td>\n",
              "    </tr>\n",
              "    <tr>\n",
              "      <th>352</th>\n",
              "      <td>2021-01-08</td>\n",
              "      <td>Wyoming</td>\n",
              "      <td>90056.0</td>\n",
              "      <td>0</td>\n",
              "      <td>0.0</td>\n",
              "      <td>0</td>\n",
              "      <td>0</td>\n",
              "    </tr>\n",
              "  </tbody>\n",
              "</table>\n",
              "</div>"
            ],
            "text/plain": [
              "           Date Province_State     FIPS Confirmed  Deaths New cases New deaths\n",
              "348  2021-01-04        Wyoming  90056.0         0     0.0         0          0\n",
              "349  2021-01-05        Wyoming  90056.0         0     0.0         0          0\n",
              "350  2021-01-06        Wyoming  90056.0         0     0.0         0          0\n",
              "351  2021-01-07        Wyoming  90056.0         0     0.0         0          0\n",
              "352  2021-01-08        Wyoming  90056.0         0     0.0         0          0"
            ]
          },
          "metadata": {
            "tags": []
          },
          "execution_count": 38
        }
      ]
    },
    {
      "cell_type": "code",
      "metadata": {
        "id": "TX61_MzyLfnt",
        "colab": {
          "base_uri": "https://localhost:8080/",
          "height": 111
        },
        "outputId": "3513b01b-5472-4a18-d7bf-443fa6d22ad8"
      },
      "source": [
        "county_population_US.head(2)"
      ],
      "execution_count": 39,
      "outputs": [
        {
          "output_type": "execute_result",
          "data": {
            "text/html": [
              "<div>\n",
              "<style scoped>\n",
              "    .dataframe tbody tr th:only-of-type {\n",
              "        vertical-align: middle;\n",
              "    }\n",
              "\n",
              "    .dataframe tbody tr th {\n",
              "        vertical-align: top;\n",
              "    }\n",
              "\n",
              "    .dataframe thead th {\n",
              "        text-align: right;\n",
              "    }\n",
              "</style>\n",
              "<table border=\"1\" class=\"dataframe\">\n",
              "  <thead>\n",
              "    <tr style=\"text-align: right;\">\n",
              "      <th></th>\n",
              "      <th>countyFIPS</th>\n",
              "      <th>County Name</th>\n",
              "      <th>State</th>\n",
              "      <th>population</th>\n",
              "    </tr>\n",
              "  </thead>\n",
              "  <tbody>\n",
              "    <tr>\n",
              "      <th>0</th>\n",
              "      <td>0</td>\n",
              "      <td>Statewide Unallocated</td>\n",
              "      <td>AL</td>\n",
              "      <td>0</td>\n",
              "    </tr>\n",
              "    <tr>\n",
              "      <th>1</th>\n",
              "      <td>1001</td>\n",
              "      <td>Autauga County</td>\n",
              "      <td>AL</td>\n",
              "      <td>55869</td>\n",
              "    </tr>\n",
              "  </tbody>\n",
              "</table>\n",
              "</div>"
            ],
            "text/plain": [
              "   countyFIPS            County Name State  population\n",
              "0           0  Statewide Unallocated    AL           0\n",
              "1        1001         Autauga County    AL       55869"
            ]
          },
          "metadata": {
            "tags": []
          },
          "execution_count": 39
        }
      ]
    },
    {
      "cell_type": "code",
      "metadata": {
        "id": "4SvvBpy9MU1n"
      },
      "source": [
        "county_population_US['FIPS'] = county_population_US['countyFIPS']"
      ],
      "execution_count": 40,
      "outputs": []
    },
    {
      "cell_type": "code",
      "metadata": {
        "colab": {
          "base_uri": "https://localhost:8080/",
          "height": 204
        },
        "id": "hQBN1CeM1wLs",
        "outputId": "4e7fa9f2-70b5-4033-ee2c-e84d7b486211"
      },
      "source": [
        "county_population_US.head()"
      ],
      "execution_count": 46,
      "outputs": [
        {
          "output_type": "execute_result",
          "data": {
            "text/html": [
              "<div>\n",
              "<style scoped>\n",
              "    .dataframe tbody tr th:only-of-type {\n",
              "        vertical-align: middle;\n",
              "    }\n",
              "\n",
              "    .dataframe tbody tr th {\n",
              "        vertical-align: top;\n",
              "    }\n",
              "\n",
              "    .dataframe thead th {\n",
              "        text-align: right;\n",
              "    }\n",
              "</style>\n",
              "<table border=\"1\" class=\"dataframe\">\n",
              "  <thead>\n",
              "    <tr style=\"text-align: right;\">\n",
              "      <th></th>\n",
              "      <th>countyFIPS</th>\n",
              "      <th>County Name</th>\n",
              "      <th>State</th>\n",
              "      <th>population</th>\n",
              "      <th>FIPS</th>\n",
              "    </tr>\n",
              "  </thead>\n",
              "  <tbody>\n",
              "    <tr>\n",
              "      <th>0</th>\n",
              "      <td>0</td>\n",
              "      <td>Statewide Unallocated</td>\n",
              "      <td>AL</td>\n",
              "      <td>0</td>\n",
              "      <td>0</td>\n",
              "    </tr>\n",
              "    <tr>\n",
              "      <th>1</th>\n",
              "      <td>1001</td>\n",
              "      <td>Autauga County</td>\n",
              "      <td>AL</td>\n",
              "      <td>55869</td>\n",
              "      <td>1001</td>\n",
              "    </tr>\n",
              "    <tr>\n",
              "      <th>2</th>\n",
              "      <td>1003</td>\n",
              "      <td>Baldwin County</td>\n",
              "      <td>AL</td>\n",
              "      <td>223234</td>\n",
              "      <td>1003</td>\n",
              "    </tr>\n",
              "    <tr>\n",
              "      <th>3</th>\n",
              "      <td>1005</td>\n",
              "      <td>Barbour County</td>\n",
              "      <td>AL</td>\n",
              "      <td>24686</td>\n",
              "      <td>1005</td>\n",
              "    </tr>\n",
              "    <tr>\n",
              "      <th>4</th>\n",
              "      <td>1007</td>\n",
              "      <td>Bibb County</td>\n",
              "      <td>AL</td>\n",
              "      <td>22394</td>\n",
              "      <td>1007</td>\n",
              "    </tr>\n",
              "  </tbody>\n",
              "</table>\n",
              "</div>"
            ],
            "text/plain": [
              "   countyFIPS            County Name State  population  FIPS\n",
              "0           0  Statewide Unallocated    AL           0     0\n",
              "1        1001         Autauga County    AL       55869  1001\n",
              "2        1003         Baldwin County    AL      223234  1003\n",
              "3        1005         Barbour County    AL       24686  1005\n",
              "4        1007            Bibb County    AL       22394  1007"
            ]
          },
          "metadata": {
            "tags": []
          },
          "execution_count": 46
        }
      ]
    },
    {
      "cell_type": "code",
      "metadata": {
        "colab": {
          "base_uri": "https://localhost:8080/",
          "height": 111
        },
        "id": "O6YMucxL1zA_",
        "outputId": "5ba268c7-a266-4576-96bf-f939b4b5c860"
      },
      "source": [
        "county_population_US = county_population_US[['County Name',\t'State',\t'population',\t'FIPS']]\n",
        "county_population_US.head(2)"
      ],
      "execution_count": 47,
      "outputs": [
        {
          "output_type": "execute_result",
          "data": {
            "text/html": [
              "<div>\n",
              "<style scoped>\n",
              "    .dataframe tbody tr th:only-of-type {\n",
              "        vertical-align: middle;\n",
              "    }\n",
              "\n",
              "    .dataframe tbody tr th {\n",
              "        vertical-align: top;\n",
              "    }\n",
              "\n",
              "    .dataframe thead th {\n",
              "        text-align: right;\n",
              "    }\n",
              "</style>\n",
              "<table border=\"1\" class=\"dataframe\">\n",
              "  <thead>\n",
              "    <tr style=\"text-align: right;\">\n",
              "      <th></th>\n",
              "      <th>County Name</th>\n",
              "      <th>State</th>\n",
              "      <th>population</th>\n",
              "      <th>FIPS</th>\n",
              "    </tr>\n",
              "  </thead>\n",
              "  <tbody>\n",
              "    <tr>\n",
              "      <th>0</th>\n",
              "      <td>Statewide Unallocated</td>\n",
              "      <td>AL</td>\n",
              "      <td>0</td>\n",
              "      <td>0</td>\n",
              "    </tr>\n",
              "    <tr>\n",
              "      <th>1</th>\n",
              "      <td>Autauga County</td>\n",
              "      <td>AL</td>\n",
              "      <td>55869</td>\n",
              "      <td>1001</td>\n",
              "    </tr>\n",
              "  </tbody>\n",
              "</table>\n",
              "</div>"
            ],
            "text/plain": [
              "             County Name State  population  FIPS\n",
              "0  Statewide Unallocated    AL           0     0\n",
              "1         Autauga County    AL       55869  1001"
            ]
          },
          "metadata": {
            "tags": []
          },
          "execution_count": 47
        }
      ]
    },
    {
      "cell_type": "markdown",
      "metadata": {
        "id": "bXYhEmKnLRZB"
      },
      "source": [
        "# Merge with FIPS "
      ]
    },
    {
      "cell_type": "code",
      "metadata": {
        "id": "pmc7bIZsLU8O",
        "colab": {
          "base_uri": "https://localhost:8080/"
        },
        "outputId": "0a439de4-9b58-496c-9a9a-bf1a0a1a3844"
      },
      "source": [
        "merged = pd.merge(full_grouped,county_population_US,how='inner' ,on=['FIPS'])\n",
        "print(merged.shape)"
      ],
      "execution_count": 48,
      "outputs": [
        {
          "output_type": "stream",
          "text": [
            "(1103831, 10)\n"
          ],
          "name": "stdout"
        }
      ]
    },
    {
      "cell_type": "code",
      "metadata": {
        "id": "sU-OpamgLUw_",
        "colab": {
          "base_uri": "https://localhost:8080/",
          "height": 111
        },
        "outputId": "31a3b719-fb57-4c3f-f21c-f43b58504613"
      },
      "source": [
        "merged.tail(2)"
      ],
      "execution_count": 49,
      "outputs": [
        {
          "output_type": "execute_result",
          "data": {
            "text/html": [
              "<div>\n",
              "<style scoped>\n",
              "    .dataframe tbody tr th:only-of-type {\n",
              "        vertical-align: middle;\n",
              "    }\n",
              "\n",
              "    .dataframe tbody tr th {\n",
              "        vertical-align: top;\n",
              "    }\n",
              "\n",
              "    .dataframe thead th {\n",
              "        text-align: right;\n",
              "    }\n",
              "</style>\n",
              "<table border=\"1\" class=\"dataframe\">\n",
              "  <thead>\n",
              "    <tr style=\"text-align: right;\">\n",
              "      <th></th>\n",
              "      <th>Date</th>\n",
              "      <th>Province_State</th>\n",
              "      <th>FIPS</th>\n",
              "      <th>Confirmed</th>\n",
              "      <th>Deaths</th>\n",
              "      <th>New cases</th>\n",
              "      <th>New deaths</th>\n",
              "      <th>County Name</th>\n",
              "      <th>State</th>\n",
              "      <th>population</th>\n",
              "    </tr>\n",
              "  </thead>\n",
              "  <tbody>\n",
              "    <tr>\n",
              "      <th>1103829</th>\n",
              "      <td>2021-01-07</td>\n",
              "      <td>Wyoming</td>\n",
              "      <td>56045.0</td>\n",
              "      <td>483</td>\n",
              "      <td>0.0</td>\n",
              "      <td>4</td>\n",
              "      <td>0</td>\n",
              "      <td>Weston County</td>\n",
              "      <td>WY</td>\n",
              "      <td>6927</td>\n",
              "    </tr>\n",
              "    <tr>\n",
              "      <th>1103830</th>\n",
              "      <td>2021-01-08</td>\n",
              "      <td>Wyoming</td>\n",
              "      <td>56045.0</td>\n",
              "      <td>485</td>\n",
              "      <td>0.0</td>\n",
              "      <td>2</td>\n",
              "      <td>0</td>\n",
              "      <td>Weston County</td>\n",
              "      <td>WY</td>\n",
              "      <td>6927</td>\n",
              "    </tr>\n",
              "  </tbody>\n",
              "</table>\n",
              "</div>"
            ],
            "text/plain": [
              "               Date Province_State     FIPS  ...    County Name  State population\n",
              "1103829  2021-01-07        Wyoming  56045.0  ...  Weston County     WY       6927\n",
              "1103830  2021-01-08        Wyoming  56045.0  ...  Weston County     WY       6927\n",
              "\n",
              "[2 rows x 10 columns]"
            ]
          },
          "metadata": {
            "tags": []
          },
          "execution_count": 49
        }
      ]
    },
    {
      "cell_type": "markdown",
      "metadata": {
        "id": "bqLuP_zx4Ger"
      },
      "source": [
        "## Visualization"
      ]
    },
    {
      "cell_type": "code",
      "metadata": {
        "id": "VW5zVDDm8KAL",
        "colab": {
          "base_uri": "https://localhost:8080/",
          "height": 142
        },
        "outputId": "59b7241c-0470-4228-c36e-371eccba1a51"
      },
      "source": [
        "full_grouped.head(3)"
      ],
      "execution_count": 50,
      "outputs": [
        {
          "output_type": "execute_result",
          "data": {
            "text/html": [
              "<div>\n",
              "<style scoped>\n",
              "    .dataframe tbody tr th:only-of-type {\n",
              "        vertical-align: middle;\n",
              "    }\n",
              "\n",
              "    .dataframe tbody tr th {\n",
              "        vertical-align: top;\n",
              "    }\n",
              "\n",
              "    .dataframe thead th {\n",
              "        text-align: right;\n",
              "    }\n",
              "</style>\n",
              "<table border=\"1\" class=\"dataframe\">\n",
              "  <thead>\n",
              "    <tr style=\"text-align: right;\">\n",
              "      <th></th>\n",
              "      <th>Date</th>\n",
              "      <th>Province_State</th>\n",
              "      <th>FIPS</th>\n",
              "      <th>Confirmed</th>\n",
              "      <th>Deaths</th>\n",
              "      <th>New cases</th>\n",
              "      <th>New deaths</th>\n",
              "    </tr>\n",
              "  </thead>\n",
              "  <tbody>\n",
              "    <tr>\n",
              "      <th>0</th>\n",
              "      <td>2020-01-22</td>\n",
              "      <td>Alabama</td>\n",
              "      <td>1001.0</td>\n",
              "      <td>0</td>\n",
              "      <td>0.0</td>\n",
              "      <td>0</td>\n",
              "      <td>0</td>\n",
              "    </tr>\n",
              "    <tr>\n",
              "      <th>1</th>\n",
              "      <td>2020-01-23</td>\n",
              "      <td>Alabama</td>\n",
              "      <td>1001.0</td>\n",
              "      <td>0</td>\n",
              "      <td>0.0</td>\n",
              "      <td>0</td>\n",
              "      <td>0</td>\n",
              "    </tr>\n",
              "    <tr>\n",
              "      <th>2</th>\n",
              "      <td>2020-01-24</td>\n",
              "      <td>Alabama</td>\n",
              "      <td>1001.0</td>\n",
              "      <td>0</td>\n",
              "      <td>0.0</td>\n",
              "      <td>0</td>\n",
              "      <td>0</td>\n",
              "    </tr>\n",
              "  </tbody>\n",
              "</table>\n",
              "</div>"
            ],
            "text/plain": [
              "         Date Province_State    FIPS Confirmed  Deaths New cases New deaths\n",
              "0  2020-01-22        Alabama  1001.0         0     0.0         0          0\n",
              "1  2020-01-23        Alabama  1001.0         0     0.0         0          0\n",
              "2  2020-01-24        Alabama  1001.0         0     0.0         0          0"
            ]
          },
          "metadata": {
            "tags": []
          },
          "execution_count": 50
        }
      ]
    },
    {
      "cell_type": "code",
      "metadata": {
        "id": "VEXrY5qwA0V1",
        "colab": {
          "base_uri": "https://localhost:8080/",
          "height": 142
        },
        "outputId": "688abf9b-18c2-4642-917f-6587a99a50c6"
      },
      "source": [
        "merged.head(3)\n"
      ],
      "execution_count": 51,
      "outputs": [
        {
          "output_type": "execute_result",
          "data": {
            "text/html": [
              "<div>\n",
              "<style scoped>\n",
              "    .dataframe tbody tr th:only-of-type {\n",
              "        vertical-align: middle;\n",
              "    }\n",
              "\n",
              "    .dataframe tbody tr th {\n",
              "        vertical-align: top;\n",
              "    }\n",
              "\n",
              "    .dataframe thead th {\n",
              "        text-align: right;\n",
              "    }\n",
              "</style>\n",
              "<table border=\"1\" class=\"dataframe\">\n",
              "  <thead>\n",
              "    <tr style=\"text-align: right;\">\n",
              "      <th></th>\n",
              "      <th>Date</th>\n",
              "      <th>Province_State</th>\n",
              "      <th>FIPS</th>\n",
              "      <th>Confirmed</th>\n",
              "      <th>Deaths</th>\n",
              "      <th>New cases</th>\n",
              "      <th>New deaths</th>\n",
              "      <th>County Name</th>\n",
              "      <th>State</th>\n",
              "      <th>population</th>\n",
              "    </tr>\n",
              "  </thead>\n",
              "  <tbody>\n",
              "    <tr>\n",
              "      <th>0</th>\n",
              "      <td>2020-01-22</td>\n",
              "      <td>Alabama</td>\n",
              "      <td>1001.0</td>\n",
              "      <td>0</td>\n",
              "      <td>0.0</td>\n",
              "      <td>0</td>\n",
              "      <td>0</td>\n",
              "      <td>Autauga County</td>\n",
              "      <td>AL</td>\n",
              "      <td>55869</td>\n",
              "    </tr>\n",
              "    <tr>\n",
              "      <th>1</th>\n",
              "      <td>2020-01-23</td>\n",
              "      <td>Alabama</td>\n",
              "      <td>1001.0</td>\n",
              "      <td>0</td>\n",
              "      <td>0.0</td>\n",
              "      <td>0</td>\n",
              "      <td>0</td>\n",
              "      <td>Autauga County</td>\n",
              "      <td>AL</td>\n",
              "      <td>55869</td>\n",
              "    </tr>\n",
              "    <tr>\n",
              "      <th>2</th>\n",
              "      <td>2020-01-24</td>\n",
              "      <td>Alabama</td>\n",
              "      <td>1001.0</td>\n",
              "      <td>0</td>\n",
              "      <td>0.0</td>\n",
              "      <td>0</td>\n",
              "      <td>0</td>\n",
              "      <td>Autauga County</td>\n",
              "      <td>AL</td>\n",
              "      <td>55869</td>\n",
              "    </tr>\n",
              "  </tbody>\n",
              "</table>\n",
              "</div>"
            ],
            "text/plain": [
              "         Date Province_State    FIPS  ...     County Name  State population\n",
              "0  2020-01-22        Alabama  1001.0  ...  Autauga County     AL      55869\n",
              "1  2020-01-23        Alabama  1001.0  ...  Autauga County     AL      55869\n",
              "2  2020-01-24        Alabama  1001.0  ...  Autauga County     AL      55869\n",
              "\n",
              "[3 rows x 10 columns]"
            ]
          },
          "metadata": {
            "tags": []
          },
          "execution_count": 51
        }
      ]
    },
    {
      "cell_type": "markdown",
      "metadata": {
        "id": "SyifeGOcHcxh"
      },
      "source": [
        "# Export data to csv"
      ]
    },
    {
      "cell_type": "code",
      "metadata": {
        "id": "Ls8G3UFv8EEB",
        "colab": {
          "base_uri": "https://localhost:8080/"
        },
        "outputId": "fd929a0d-42b3-49ea-eb39-46340558bc26"
      },
      "source": [
        "import pandas as pd\n",
        "import altair as alt\n",
        "#full_grouped = merged\n",
        "ca_df = merged[merged['Province_State'] == 'California']\n",
        "ny_df = merged[merged['Province_State'] == 'New York']\n",
        "tx_df = merged[merged['Province_State'] == 'Texas']\n",
        "\n",
        "print('CA data shape: ',ca_df.shape)\n",
        "print('NY data shape: ',ny_df.shape)\n",
        "print('TX data shape: ',tx_df.shape)"
      ],
      "execution_count": 52,
      "outputs": [
        {
          "output_type": "stream",
          "text": [
            "CA data shape:  (20474, 10)\n",
            "NY data shape:  (21886, 10)\n",
            "TX data shape:  (89662, 10)\n"
          ],
          "name": "stdout"
        }
      ]
    },
    {
      "cell_type": "code",
      "metadata": {
        "id": "zFQ1SF3pnFBQ",
        "colab": {
          "base_uri": "https://localhost:8080/"
        },
        "outputId": "a8fc5e0d-8064-4c9d-82fa-53aeeb5ecb4f"
      },
      "source": [
        "\n",
        "from datetime import datetime\n",
        "location = '/content/drive/Shared drives/CMPE 295- Master Project/projectdata-2021/'\n",
        "filename = 'CA_CovidData'+datetime.now().strftime(\"%b%d\")+'.csv' #%Y%m%d\n",
        "print(filename)\n",
        "ca_df.to_csv(location+filename,index=False)\n",
        "\n"
      ],
      "execution_count": 53,
      "outputs": [
        {
          "output_type": "stream",
          "text": [
            "CA_CovidDataJan10.csv\n"
          ],
          "name": "stdout"
        }
      ]
    },
    {
      "cell_type": "code",
      "metadata": {
        "colab": {
          "base_uri": "https://localhost:8080/"
        },
        "id": "krm1gpJZ0rgS",
        "outputId": "931fe305-e944-4eb2-debc-d688cf8e8b26"
      },
      "source": [
        "location = '/content/drive/Shared drives/CMPE 295- Master Project/projectdata-2021/'\n",
        "filename = 'NY_CovidData'+datetime.now().strftime(\"%b%d\")+'.csv' #%Y%m%d\n",
        "print(filename)\n",
        "ny_df.to_csv(location+filename,index=False)"
      ],
      "execution_count": 54,
      "outputs": [
        {
          "output_type": "stream",
          "text": [
            "NY_CovidDataJan10.csv\n"
          ],
          "name": "stdout"
        }
      ]
    },
    {
      "cell_type": "code",
      "metadata": {
        "colab": {
          "base_uri": "https://localhost:8080/"
        },
        "id": "EaRNxWuK0vpt",
        "outputId": "2bbcd407-9353-43a2-a33b-d1b7491e8cb9"
      },
      "source": [
        "\n",
        "location = '/content/drive/Shared drives/CMPE 295- Master Project/projectdata-2021/'\n",
        "filename = 'TX_CovidData'+datetime.now().strftime(\"%b%d\")+'.csv' #%Y%m%d\n",
        "print(filename)\n",
        "tx_df.to_csv(location+filename,index=False)\n",
        "\n"
      ],
      "execution_count": 55,
      "outputs": [
        {
          "output_type": "stream",
          "text": [
            "TX_CovidDataJan10.csv\n"
          ],
          "name": "stdout"
        }
      ]
    },
    {
      "cell_type": "markdown",
      "metadata": {
        "id": "iSBAgeCyJZPP"
      },
      "source": [
        "# Compute rolling Average for new cases "
      ]
    },
    {
      "cell_type": "code",
      "metadata": {
        "id": "x28oUtoiExGL"
      },
      "source": [
        "ca_total = (\n",
        "    ca_df\n",
        "    .pipe(lambda x: x.assign(gains_pctg=x[\"New cases\"]))\n",
        "    .groupby(['Date','Province_State'])\n",
        "    .agg({\"gains_pctg\": \"sum\"})\n",
        "    .reset_index()\n",
        "    .rename(columns={\"gains_pctg\": \"New cases\"})\n",
        ")\n",
        "ny_total = (\n",
        "    ny_df\n",
        "    .pipe(lambda x: x.assign(gains_pctg=x[\"New cases\"]))\n",
        "    .groupby(['Date','Province_State'])\n",
        "    .agg({\"gains_pctg\": \"sum\"})\n",
        "    .reset_index()\n",
        "    .rename(columns={\"gains_pctg\": \"New cases\"})\n",
        ")\n",
        "\n",
        "tx_total = (\n",
        "    tx_df\n",
        "    .pipe(lambda x: x.assign(gains_pctg=x[\"New cases\"]))\n",
        "    .groupby(['Date','Province_State'])\n",
        "    .agg({\"gains_pctg\": \"sum\"})\n",
        "    .reset_index()\n",
        "    .rename(columns={\"gains_pctg\": \"New cases\"})\n",
        ")"
      ],
      "execution_count": 56,
      "outputs": []
    },
    {
      "cell_type": "code",
      "metadata": {
        "id": "1ZYnlNEHxfkg"
      },
      "source": [
        "ny_total['rolling_average'] = ny_total.iloc[:,2].rolling(window=7).mean()\n",
        "ca_total['rolling_average'] = ca_total.iloc[:,2].rolling(window=7).mean()\n",
        "tx_total['rolling_average'] = tx_total.iloc[:,2].rolling(window=7).mean()\n"
      ],
      "execution_count": 57,
      "outputs": []
    },
    {
      "cell_type": "code",
      "metadata": {
        "colab": {
          "base_uri": "https://localhost:8080/",
          "height": 359
        },
        "id": "yE1kAZNM2I8b",
        "outputId": "efdde5ea-c960-4cb5-b392-285836473ef6"
      },
      "source": [
        "tx_total.tail(10)"
      ],
      "execution_count": 68,
      "outputs": [
        {
          "output_type": "execute_result",
          "data": {
            "text/html": [
              "<div>\n",
              "<style scoped>\n",
              "    .dataframe tbody tr th:only-of-type {\n",
              "        vertical-align: middle;\n",
              "    }\n",
              "\n",
              "    .dataframe tbody tr th {\n",
              "        vertical-align: top;\n",
              "    }\n",
              "\n",
              "    .dataframe thead th {\n",
              "        text-align: right;\n",
              "    }\n",
              "</style>\n",
              "<table border=\"1\" class=\"dataframe\">\n",
              "  <thead>\n",
              "    <tr style=\"text-align: right;\">\n",
              "      <th></th>\n",
              "      <th>Date</th>\n",
              "      <th>Province_State</th>\n",
              "      <th>New cases</th>\n",
              "      <th>rolling_average</th>\n",
              "    </tr>\n",
              "  </thead>\n",
              "  <tbody>\n",
              "    <tr>\n",
              "      <th>343</th>\n",
              "      <td>2020-12-30</td>\n",
              "      <td>Texas</td>\n",
              "      <td>22004</td>\n",
              "      <td>14641.000000</td>\n",
              "    </tr>\n",
              "    <tr>\n",
              "      <th>344</th>\n",
              "      <td>2020-12-31</td>\n",
              "      <td>Texas</td>\n",
              "      <td>17809</td>\n",
              "      <td>15879.714286</td>\n",
              "    </tr>\n",
              "    <tr>\n",
              "      <th>345</th>\n",
              "      <td>2021-01-01</td>\n",
              "      <td>Texas</td>\n",
              "      <td>10172</td>\n",
              "      <td>16859.285714</td>\n",
              "    </tr>\n",
              "    <tr>\n",
              "      <th>346</th>\n",
              "      <td>2021-01-02</td>\n",
              "      <td>Texas</td>\n",
              "      <td>18225</td>\n",
              "      <td>18689.428571</td>\n",
              "    </tr>\n",
              "    <tr>\n",
              "      <th>347</th>\n",
              "      <td>2021-01-03</td>\n",
              "      <td>Texas</td>\n",
              "      <td>15705</td>\n",
              "      <td>16813.142857</td>\n",
              "    </tr>\n",
              "    <tr>\n",
              "      <th>348</th>\n",
              "      <td>2021-01-04</td>\n",
              "      <td>Texas</td>\n",
              "      <td>14260</td>\n",
              "      <td>17618.285714</td>\n",
              "    </tr>\n",
              "    <tr>\n",
              "      <th>349</th>\n",
              "      <td>2021-01-05</td>\n",
              "      <td>Texas</td>\n",
              "      <td>33027</td>\n",
              "      <td>18743.142857</td>\n",
              "    </tr>\n",
              "    <tr>\n",
              "      <th>350</th>\n",
              "      <td>2021-01-06</td>\n",
              "      <td>Texas</td>\n",
              "      <td>20626</td>\n",
              "      <td>18546.285714</td>\n",
              "    </tr>\n",
              "    <tr>\n",
              "      <th>351</th>\n",
              "      <td>2021-01-07</td>\n",
              "      <td>Texas</td>\n",
              "      <td>25292</td>\n",
              "      <td>19615.285714</td>\n",
              "    </tr>\n",
              "    <tr>\n",
              "      <th>352</th>\n",
              "      <td>2021-01-08</td>\n",
              "      <td>Texas</td>\n",
              "      <td>13308</td>\n",
              "      <td>20063.285714</td>\n",
              "    </tr>\n",
              "  </tbody>\n",
              "</table>\n",
              "</div>"
            ],
            "text/plain": [
              "           Date Province_State  New cases  rolling_average\n",
              "343  2020-12-30          Texas      22004     14641.000000\n",
              "344  2020-12-31          Texas      17809     15879.714286\n",
              "345  2021-01-01          Texas      10172     16859.285714\n",
              "346  2021-01-02          Texas      18225     18689.428571\n",
              "347  2021-01-03          Texas      15705     16813.142857\n",
              "348  2021-01-04          Texas      14260     17618.285714\n",
              "349  2021-01-05          Texas      33027     18743.142857\n",
              "350  2021-01-06          Texas      20626     18546.285714\n",
              "351  2021-01-07          Texas      25292     19615.285714\n",
              "352  2021-01-08          Texas      13308     20063.285714"
            ]
          },
          "metadata": {
            "tags": []
          },
          "execution_count": 68
        }
      ]
    },
    {
      "cell_type": "markdown",
      "metadata": {
        "id": "oi2ctWgZyBwc"
      },
      "source": [
        "# Visualizations"
      ]
    },
    {
      "cell_type": "code",
      "metadata": {
        "id": "FU_aWMWr94_i"
      },
      "source": [
        "base_ca = alt.Chart(ca_total).mark_bar().encode(\n",
        "    x='monthdate(Date):O',\n",
        ").properties(\n",
        "    width=500\n",
        ")\n",
        "\n",
        "base_ny = alt.Chart(ny_total).mark_bar().encode(\n",
        "    x='monthdate(Date):O',\n",
        ").properties(\n",
        "    width=500\n",
        ")\n",
        "base_tx = alt.Chart(tx_total).mark_bar().encode(\n",
        "    x='monthdate(Date):O',\n",
        ").properties(\n",
        "    width=500\n",
        ")\n"
      ],
      "execution_count": 62,
      "outputs": []
    },
    {
      "cell_type": "code",
      "metadata": {
        "id": "Xhl9giYd-GGf",
        "colab": {
          "base_uri": "https://localhost:8080/",
          "height": 430
        },
        "outputId": "617989b7-8a8d-48a5-c6c7-0113f9570dac"
      },
      "source": [
        "red = alt.value(\"#f54242\")\n",
        "##Ca data\n",
        "#base_ca.encode(y='Confirmed').properties(title='Total Confirmed') | base_ca.encode(y='Deaths',color = red).properties(title='Total deaths')\n",
        "base_ca.encode(y='New cases').properties(title='CA State- New cases')  | base_ca.encode(y='rolling_average',color = red).properties(title='Rolling Average')"
      ],
      "execution_count": 66,
      "outputs": [
        {
          "output_type": "execute_result",
          "data": {
            "text/plain": [
              "alt.HConcatChart(...)"
            ],
            "text/html": [
              "\n",
              "<div id=\"altair-viz-363bddd8272b4c558adc2517f1249c4e\"></div>\n",
              "<script type=\"text/javascript\">\n",
              "  (function(spec, embedOpt){\n",
              "    let outputDiv = document.currentScript.previousElementSibling;\n",
              "    if (outputDiv.id !== \"altair-viz-363bddd8272b4c558adc2517f1249c4e\") {\n",
              "      outputDiv = document.getElementById(\"altair-viz-363bddd8272b4c558adc2517f1249c4e\");\n",
              "    }\n",
              "    const paths = {\n",
              "      \"vega\": \"https://cdn.jsdelivr.net/npm//vega@5?noext\",\n",
              "      \"vega-lib\": \"https://cdn.jsdelivr.net/npm//vega-lib?noext\",\n",
              "      \"vega-lite\": \"https://cdn.jsdelivr.net/npm//vega-lite@4.8.1?noext\",\n",
              "      \"vega-embed\": \"https://cdn.jsdelivr.net/npm//vega-embed@6?noext\",\n",
              "    };\n",
              "\n",
              "    function loadScript(lib) {\n",
              "      return new Promise(function(resolve, reject) {\n",
              "        var s = document.createElement('script');\n",
              "        s.src = paths[lib];\n",
              "        s.async = true;\n",
              "        s.onload = () => resolve(paths[lib]);\n",
              "        s.onerror = () => reject(`Error loading script: ${paths[lib]}`);\n",
              "        document.getElementsByTagName(\"head\")[0].appendChild(s);\n",
              "      });\n",
              "    }\n",
              "\n",
              "    function showError(err) {\n",
              "      outputDiv.innerHTML = `<div class=\"error\" style=\"color:red;\">${err}</div>`;\n",
              "      throw err;\n",
              "    }\n",
              "\n",
              "    function displayChart(vegaEmbed) {\n",
              "      vegaEmbed(outputDiv, spec, embedOpt)\n",
              "        .catch(err => showError(`Javascript Error: ${err.message}<br>This usually means there's a typo in your chart specification. See the javascript console for the full traceback.`));\n",
              "    }\n",
              "\n",
              "    if(typeof define === \"function\" && define.amd) {\n",
              "      requirejs.config({paths});\n",
              "      require([\"vega-embed\"], displayChart, err => showError(`Error loading script: ${err.message}`));\n",
              "    } else if (typeof vegaEmbed === \"function\") {\n",
              "      displayChart(vegaEmbed);\n",
              "    } else {\n",
              "      loadScript(\"vega\")\n",
              "        .then(() => loadScript(\"vega-lite\"))\n",
              "        .then(() => loadScript(\"vega-embed\"))\n",
              "        .catch(showError)\n",
              "        .then(() => displayChart(vegaEmbed));\n",
              "    }\n",
              "  })({\"config\": {\"view\": {\"continuousWidth\": 400, \"continuousHeight\": 300}}, \"hconcat\": [{\"mark\": \"bar\", \"encoding\": {\"x\": {\"type\": \"ordinal\", \"field\": \"Date\", \"timeUnit\": \"monthdate\"}, \"y\": {\"type\": \"quantitative\", \"field\": \"New cases\"}}, \"title\": \"CA State- New cases\", \"width\": 500}, {\"mark\": \"bar\", \"encoding\": {\"color\": {\"value\": \"#f54242\"}, \"x\": {\"type\": \"ordinal\", \"field\": \"Date\", \"timeUnit\": \"monthdate\"}, \"y\": {\"type\": \"quantitative\", \"field\": \"rolling_average\"}}, \"title\": \"Rolling Average\", \"width\": 500}], \"data\": {\"name\": \"data-a1742e2d6bbc257e001be14c898090ba\"}, \"$schema\": \"https://vega.github.io/schema/vega-lite/v4.8.1.json\", \"datasets\": {\"data-a1742e2d6bbc257e001be14c898090ba\": [{\"Date\": \"2020-01-22\", \"Province_State\": \"California\", \"New cases\": 0, \"rolling_average\": null}, {\"Date\": \"2020-01-23\", \"Province_State\": \"California\", \"New cases\": 0, \"rolling_average\": null}, {\"Date\": \"2020-01-24\", \"Province_State\": \"California\", \"New cases\": 0, \"rolling_average\": null}, {\"Date\": \"2020-01-25\", \"Province_State\": \"California\", \"New cases\": 0, \"rolling_average\": null}, {\"Date\": \"2020-01-26\", \"Province_State\": \"California\", \"New cases\": 2, \"rolling_average\": null}, {\"Date\": \"2020-01-27\", \"Province_State\": \"California\", \"New cases\": 0, \"rolling_average\": null}, {\"Date\": \"2020-01-28\", \"Province_State\": \"California\", \"New cases\": 0, \"rolling_average\": 0.2857142857142857}, {\"Date\": \"2020-01-29\", \"Province_State\": \"California\", \"New cases\": 0, \"rolling_average\": 0.2857142857142857}, {\"Date\": \"2020-01-30\", \"Province_State\": \"California\", \"New cases\": 0, \"rolling_average\": 0.2857142857142857}, {\"Date\": \"2020-01-31\", \"Province_State\": \"California\", \"New cases\": 1, \"rolling_average\": 0.42857142857142855}, {\"Date\": \"2020-02-01\", \"Province_State\": \"California\", \"New cases\": 0, \"rolling_average\": 0.42857142857142855}, {\"Date\": \"2020-02-02\", \"Province_State\": \"California\", \"New cases\": 0, \"rolling_average\": 0.14285714285714285}, {\"Date\": \"2020-02-03\", \"Province_State\": \"California\", \"New cases\": 3, \"rolling_average\": 0.5714285714285714}, {\"Date\": \"2020-02-04\", \"Province_State\": \"California\", \"New cases\": 0, \"rolling_average\": 0.5714285714285714}, {\"Date\": \"2020-02-05\", \"Province_State\": \"California\", \"New cases\": 0, \"rolling_average\": 0.5714285714285714}, {\"Date\": \"2020-02-06\", \"Province_State\": \"California\", \"New cases\": 0, \"rolling_average\": 0.5714285714285714}, {\"Date\": \"2020-02-07\", \"Province_State\": \"California\", \"New cases\": 0, \"rolling_average\": 0.42857142857142855}, {\"Date\": \"2020-02-08\", \"Province_State\": \"California\", \"New cases\": 0, \"rolling_average\": 0.42857142857142855}, {\"Date\": \"2020-02-09\", \"Province_State\": \"California\", \"New cases\": 0, \"rolling_average\": 0.42857142857142855}, {\"Date\": \"2020-02-10\", \"Province_State\": \"California\", \"New cases\": 0, \"rolling_average\": 0.0}, {\"Date\": \"2020-02-11\", \"Province_State\": \"California\", \"New cases\": 1, \"rolling_average\": 0.14285714285714285}, {\"Date\": \"2020-02-12\", \"Province_State\": \"California\", \"New cases\": 0, \"rolling_average\": 0.14285714285714285}, {\"Date\": \"2020-02-13\", \"Province_State\": \"California\", \"New cases\": 1, \"rolling_average\": 0.2857142857142857}, {\"Date\": \"2020-02-14\", \"Province_State\": \"California\", \"New cases\": 0, \"rolling_average\": 0.2857142857142857}, {\"Date\": \"2020-02-15\", \"Province_State\": \"California\", \"New cases\": 0, \"rolling_average\": 0.2857142857142857}, {\"Date\": \"2020-02-16\", \"Province_State\": \"California\", \"New cases\": 0, \"rolling_average\": 0.2857142857142857}, {\"Date\": \"2020-02-17\", \"Province_State\": \"California\", \"New cases\": 0, \"rolling_average\": 0.2857142857142857}, {\"Date\": \"2020-02-18\", \"Province_State\": \"California\", \"New cases\": 0, \"rolling_average\": 0.14285714285714285}, {\"Date\": \"2020-02-19\", \"Province_State\": \"California\", \"New cases\": 0, \"rolling_average\": 0.14285714285714285}, {\"Date\": \"2020-02-20\", \"Province_State\": \"California\", \"New cases\": 0, \"rolling_average\": 0.0}, {\"Date\": \"2020-02-21\", \"Province_State\": \"California\", \"New cases\": 2, \"rolling_average\": 0.2857142857142857}, {\"Date\": \"2020-02-22\", \"Province_State\": \"California\", \"New cases\": 0, \"rolling_average\": 0.2857142857142857}, {\"Date\": \"2020-02-23\", \"Province_State\": \"California\", \"New cases\": 0, \"rolling_average\": 0.2857142857142857}, {\"Date\": \"2020-02-24\", \"Province_State\": \"California\", \"New cases\": 0, \"rolling_average\": 0.2857142857142857}, {\"Date\": \"2020-02-25\", \"Province_State\": \"California\", \"New cases\": 0, \"rolling_average\": 0.2857142857142857}, {\"Date\": \"2020-02-26\", \"Province_State\": \"California\", \"New cases\": 0, \"rolling_average\": 0.2857142857142857}, {\"Date\": \"2020-02-27\", \"Province_State\": \"California\", \"New cases\": 1, \"rolling_average\": 0.42857142857142855}, {\"Date\": \"2020-02-28\", \"Province_State\": \"California\", \"New cases\": 0, \"rolling_average\": 0.14285714285714285}, {\"Date\": \"2020-02-29\", \"Province_State\": \"California\", \"New cases\": 1, \"rolling_average\": 0.2857142857142857}, {\"Date\": \"2020-03-01\", \"Province_State\": \"California\", \"New cases\": 0, \"rolling_average\": 0.2857142857142857}, {\"Date\": \"2020-03-02\", \"Province_State\": \"California\", \"New cases\": 9, \"rolling_average\": 1.5714285714285714}, {\"Date\": \"2020-03-03\", \"Province_State\": \"California\", \"New cases\": 4, \"rolling_average\": 2.142857142857143}, {\"Date\": \"2020-03-04\", \"Province_State\": \"California\", \"New cases\": 10, \"rolling_average\": 3.5714285714285716}, {\"Date\": \"2020-03-05\", \"Province_State\": \"California\", \"New cases\": 16, \"rolling_average\": 5.714285714285714}, {\"Date\": \"2020-03-06\", \"Province_State\": \"California\", \"New cases\": 8, \"rolling_average\": 6.857142857142857}, {\"Date\": \"2020-03-07\", \"Province_State\": \"California\", \"New cases\": 22, \"rolling_average\": 9.857142857142858}, {\"Date\": \"2020-03-08\", \"Province_State\": \"California\", \"New cases\": 14, \"rolling_average\": 11.857142857142858}, {\"Date\": \"2020-03-09\", \"Province_State\": \"California\", \"New cases\": 6, \"rolling_average\": 11.428571428571429}, {\"Date\": \"2020-03-10\", \"Province_State\": \"California\", \"New cases\": 43, \"rolling_average\": 17.0}, {\"Date\": \"2020-03-11\", \"Province_State\": \"California\", \"New cases\": 34, \"rolling_average\": 20.428571428571427}, {\"Date\": \"2020-03-12\", \"Province_State\": \"California\", \"New cases\": 43, \"rolling_average\": 24.285714285714285}, {\"Date\": \"2020-03-13\", \"Province_State\": \"California\", \"New cases\": 60, \"rolling_average\": 31.714285714285715}, {\"Date\": \"2020-03-14\", \"Province_State\": \"California\", \"New cases\": 90, \"rolling_average\": 41.42857142857143}, {\"Date\": \"2020-03-15\", \"Province_State\": \"California\", \"New cases\": 2, \"rolling_average\": 39.714285714285715}, {\"Date\": \"2020-03-16\", \"Province_State\": \"California\", \"New cases\": 184, \"rolling_average\": 65.14285714285714}, {\"Date\": \"2020-03-17\", \"Province_State\": \"California\", \"New cases\": 143, \"rolling_average\": 79.42857142857143}, {\"Date\": \"2020-03-18\", \"Province_State\": \"California\", \"New cases\": 131, \"rolling_average\": 93.28571428571429}, {\"Date\": \"2020-03-19\", \"Province_State\": \"California\", \"New cases\": 178, \"rolling_average\": 112.57142857142857}, {\"Date\": \"2020-03-20\", \"Province_State\": \"California\", \"New cases\": 234, \"rolling_average\": 137.42857142857142}, {\"Date\": \"2020-03-21\", \"Province_State\": \"California\", \"New cases\": 169, \"rolling_average\": 148.71428571428572}, {\"Date\": \"2020-03-22\", \"Province_State\": \"California\", \"New cases\": 239, \"rolling_average\": 182.57142857142858}, {\"Date\": \"2020-03-23\", \"Province_State\": \"California\", \"New cases\": 462, \"rolling_average\": 222.28571428571428}, {\"Date\": \"2020-03-24\", \"Province_State\": \"California\", \"New cases\": 429, \"rolling_average\": 263.14285714285717}, {\"Date\": \"2020-03-25\", \"Province_State\": \"California\", \"New cases\": 467, \"rolling_average\": 311.14285714285717}, {\"Date\": \"2020-03-26\", \"Province_State\": \"California\", \"New cases\": 901, \"rolling_average\": 414.42857142857144}, {\"Date\": \"2020-03-27\", \"Province_State\": \"California\", \"New cases\": 757, \"rolling_average\": 489.14285714285717}, {\"Date\": \"2020-03-28\", \"Province_State\": \"California\", \"New cases\": 443, \"rolling_average\": 528.2857142857143}, {\"Date\": \"2020-03-29\", \"Province_State\": \"California\", \"New cases\": 753, \"rolling_average\": 601.7142857142857}, {\"Date\": \"2020-03-30\", \"Province_State\": \"California\", \"New cases\": 1292, \"rolling_average\": 720.2857142857143}, {\"Date\": \"2020-03-31\", \"Province_State\": \"California\", \"New cases\": 1078, \"rolling_average\": 813.0}, {\"Date\": \"2020-04-01\", \"Province_State\": \"California\", \"New cases\": 1177, \"rolling_average\": 914.4285714285714}, {\"Date\": \"2020-04-02\", \"Province_State\": \"California\", \"New cases\": 1380, \"rolling_average\": 982.8571428571429}, {\"Date\": \"2020-04-03\", \"Province_State\": \"California\", \"New cases\": 1226, \"rolling_average\": 1049.857142857143}, {\"Date\": \"2020-04-04\", \"Province_State\": \"California\", \"New cases\": 821, \"rolling_average\": 1103.857142857143}, {\"Date\": \"2020-04-05\", \"Province_State\": \"California\", \"New cases\": 2197, \"rolling_average\": 1310.142857142857}, {\"Date\": \"2020-04-06\", \"Province_State\": \"California\", \"New cases\": 947, \"rolling_average\": 1260.857142857143}, {\"Date\": \"2020-04-07\", \"Province_State\": \"California\", \"New cases\": 1328, \"rolling_average\": 1296.5714285714287}, {\"Date\": \"2020-04-08\", \"Province_State\": \"California\", \"New cases\": 1421, \"rolling_average\": 1331.4285714285713}, {\"Date\": \"2020-04-09\", \"Province_State\": \"California\", \"New cases\": 976, \"rolling_average\": 1273.7142857142858}, {\"Date\": \"2020-04-10\", \"Province_State\": \"California\", \"New cases\": 1371, \"rolling_average\": 1294.4285714285713}, {\"Date\": \"2020-04-11\", \"Province_State\": \"California\", \"New cases\": 636, \"rolling_average\": 1268.0}, {\"Date\": \"2020-04-12\", \"Province_State\": \"California\", \"New cases\": 1079, \"rolling_average\": 1108.2857142857142}, {\"Date\": \"2020-04-13\", \"Province_State\": \"California\", \"New cases\": 1142, \"rolling_average\": 1136.142857142857}, {\"Date\": \"2020-04-14\", \"Province_State\": \"California\", \"New cases\": 1455, \"rolling_average\": 1154.2857142857142}, {\"Date\": \"2020-04-15\", \"Province_State\": \"California\", \"New cases\": 1297, \"rolling_average\": 1136.5714285714287}, {\"Date\": \"2020-04-16\", \"Province_State\": \"California\", \"New cases\": 991, \"rolling_average\": 1138.7142857142858}, {\"Date\": \"2020-04-17\", \"Province_State\": \"California\", \"New cases\": 1480, \"rolling_average\": 1154.2857142857142}, {\"Date\": \"2020-04-18\", \"Province_State\": \"California\", \"New cases\": 1354, \"rolling_average\": 1256.857142857143}, {\"Date\": \"2020-04-19\", \"Province_State\": \"California\", \"New cases\": 920, \"rolling_average\": 1234.142857142857}, {\"Date\": \"2020-04-20\", \"Province_State\": \"California\", \"New cases\": 2255, \"rolling_average\": 1393.142857142857}, {\"Date\": \"2020-04-21\", \"Province_State\": \"California\", \"New cases\": 1794, \"rolling_average\": 1441.5714285714287}, {\"Date\": \"2020-04-22\", \"Province_State\": \"California\", \"New cases\": 1872, \"rolling_average\": 1523.7142857142858}, {\"Date\": \"2020-04-23\", \"Province_State\": \"California\", \"New cases\": 2209, \"rolling_average\": 1697.7142857142858}, {\"Date\": \"2020-04-24\", \"Province_State\": \"California\", \"New cases\": 1794, \"rolling_average\": 1742.5714285714287}, {\"Date\": \"2020-04-25\", \"Province_State\": \"California\", \"New cases\": 1013, \"rolling_average\": 1693.857142857143}, {\"Date\": \"2020-04-26\", \"Province_State\": \"California\", \"New cases\": 1191, \"rolling_average\": 1732.5714285714287}, {\"Date\": \"2020-04-27\", \"Province_State\": \"California\", \"New cases\": 1413, \"rolling_average\": 1612.2857142857142}, {\"Date\": \"2020-04-28\", \"Province_State\": \"California\", \"New cases\": 1192, \"rolling_average\": 1526.2857142857142}, {\"Date\": \"2020-04-29\", \"Province_State\": \"California\", \"New cases\": 2583, \"rolling_average\": 1627.857142857143}, {\"Date\": \"2020-04-30\", \"Province_State\": \"California\", \"New cases\": 1383, \"rolling_average\": 1509.857142857143}, {\"Date\": \"2020-05-01\", \"Province_State\": \"California\", \"New cases\": 1896, \"rolling_average\": 1524.4285714285713}, {\"Date\": \"2020-05-02\", \"Province_State\": \"California\", \"New cases\": 1321, \"rolling_average\": 1568.4285714285713}, {\"Date\": \"2020-05-03\", \"Province_State\": \"California\", \"New cases\": 1556, \"rolling_average\": 1620.5714285714287}, {\"Date\": \"2020-05-04\", \"Province_State\": \"California\", \"New cases\": 981, \"rolling_average\": 1558.857142857143}, {\"Date\": \"2020-05-05\", \"Province_State\": \"California\", \"New cases\": 2572, \"rolling_average\": 1756.0}, {\"Date\": \"2020-05-06\", \"Province_State\": \"California\", \"New cases\": 2160, \"rolling_average\": 1695.5714285714287}, {\"Date\": \"2020-05-07\", \"Province_State\": \"California\", \"New cases\": 1532, \"rolling_average\": 1716.857142857143}, {\"Date\": \"2020-05-08\", \"Province_State\": \"California\", \"New cases\": 1652, \"rolling_average\": 1682.0}, {\"Date\": \"2020-05-09\", \"Province_State\": \"California\", \"New cases\": 2772, \"rolling_average\": 1889.2857142857142}, {\"Date\": \"2020-05-10\", \"Province_State\": \"California\", \"New cases\": 1028, \"rolling_average\": 1813.857142857143}, {\"Date\": \"2020-05-11\", \"Province_State\": \"California\", \"New cases\": 1729, \"rolling_average\": 1920.7142857142858}, {\"Date\": \"2020-05-12\", \"Province_State\": \"California\", \"New cases\": 1651, \"rolling_average\": 1789.142857142857}, {\"Date\": \"2020-05-13\", \"Province_State\": \"California\", \"New cases\": 1818, \"rolling_average\": 1740.2857142857142}, {\"Date\": \"2020-05-14\", \"Province_State\": \"California\", \"New cases\": 2073, \"rolling_average\": 1817.5714285714287}, {\"Date\": \"2020-05-15\", \"Province_State\": \"California\", \"New cases\": 1822, \"rolling_average\": 1841.857142857143}, {\"Date\": \"2020-05-16\", \"Province_State\": \"California\", \"New cases\": 2032, \"rolling_average\": 1736.142857142857}, {\"Date\": \"2020-05-17\", \"Province_State\": \"California\", \"New cases\": 1441, \"rolling_average\": 1795.142857142857}, {\"Date\": \"2020-05-18\", \"Province_State\": \"California\", \"New cases\": 1352, \"rolling_average\": 1741.2857142857142}, {\"Date\": \"2020-05-19\", \"Province_State\": \"California\", \"New cases\": 2246, \"rolling_average\": 1826.2857142857142}, {\"Date\": \"2020-05-20\", \"Province_State\": \"California\", \"New cases\": 2254, \"rolling_average\": 1888.5714285714287}, {\"Date\": \"2020-05-21\", \"Province_State\": \"California\", \"New cases\": 2038, \"rolling_average\": 1883.5714285714287}, {\"Date\": \"2020-05-22\", \"Province_State\": \"California\", \"New cases\": 2225, \"rolling_average\": 1941.142857142857}, {\"Date\": \"2020-05-23\", \"Province_State\": \"California\", \"New cases\": 2283, \"rolling_average\": 1977.0}, {\"Date\": \"2020-05-24\", \"Province_State\": \"California\", \"New cases\": 1505, \"rolling_average\": 1986.142857142857}, {\"Date\": \"2020-05-25\", \"Province_State\": \"California\", \"New cases\": 2401, \"rolling_average\": 2136.0}, {\"Date\": \"2020-05-26\", \"Province_State\": \"California\", \"New cases\": 3022, \"rolling_average\": 2246.8571428571427}, {\"Date\": \"2020-05-27\", \"Province_State\": \"California\", \"New cases\": 1579, \"rolling_average\": 2150.4285714285716}, {\"Date\": \"2020-05-28\", \"Province_State\": \"California\", \"New cases\": 2742, \"rolling_average\": 2251.0}, {\"Date\": \"2020-05-29\", \"Province_State\": \"California\", \"New cases\": 2825, \"rolling_average\": 2336.714285714286}, {\"Date\": \"2020-05-30\", \"Province_State\": \"California\", \"New cases\": 3257, \"rolling_average\": 2475.8571428571427}, {\"Date\": \"2020-05-31\", \"Province_State\": \"California\", \"New cases\": 2056, \"rolling_average\": 2554.5714285714284}, {\"Date\": \"2020-06-01\", \"Province_State\": \"California\", \"New cases\": 2782, \"rolling_average\": 2609.0}, {\"Date\": \"2020-06-02\", \"Province_State\": \"California\", \"New cases\": 2482, \"rolling_average\": 2531.8571428571427}, {\"Date\": \"2020-06-03\", \"Province_State\": \"California\", \"New cases\": 2159, \"rolling_average\": 2614.714285714286}, {\"Date\": \"2020-06-04\", \"Province_State\": \"California\", \"New cases\": 2820, \"rolling_average\": 2625.8571428571427}, {\"Date\": \"2020-06-05\", \"Province_State\": \"California\", \"New cases\": 3589, \"rolling_average\": 2735.0}, {\"Date\": \"2020-06-06\", \"Province_State\": \"California\", \"New cases\": 2823, \"rolling_average\": 2673.0}, {\"Date\": \"2020-06-07\", \"Province_State\": \"California\", \"New cases\": 2051, \"rolling_average\": 2672.285714285714}, {\"Date\": \"2020-06-08\", \"Province_State\": \"California\", \"New cases\": 3159, \"rolling_average\": 2726.1428571428573}, {\"Date\": \"2020-06-09\", \"Province_State\": \"California\", \"New cases\": 2865, \"rolling_average\": 2780.8571428571427}, {\"Date\": \"2020-06-10\", \"Province_State\": \"California\", \"New cases\": 3034, \"rolling_average\": 2905.8571428571427}, {\"Date\": \"2020-06-11\", \"Province_State\": \"California\", \"New cases\": 3724, \"rolling_average\": 3035.0}, {\"Date\": \"2020-06-12\", \"Province_State\": \"California\", \"New cases\": 3220, \"rolling_average\": 2982.285714285714}, {\"Date\": \"2020-06-13\", \"Province_State\": \"California\", \"New cases\": 3375, \"rolling_average\": 3061.1428571428573}, {\"Date\": \"2020-06-14\", \"Province_State\": \"California\", \"New cases\": 2315, \"rolling_average\": 3098.8571428571427}, {\"Date\": \"2020-06-15\", \"Province_State\": \"California\", \"New cases\": 3377, \"rolling_average\": 3130.0}, {\"Date\": \"2020-06-16\", \"Province_State\": \"California\", \"New cases\": 3235, \"rolling_average\": 3182.8571428571427}, {\"Date\": \"2020-06-17\", \"Province_State\": \"California\", \"New cases\": 3837, \"rolling_average\": 3297.5714285714284}, {\"Date\": \"2020-06-18\", \"Province_State\": \"California\", \"New cases\": 4335, \"rolling_average\": 3384.8571428571427}, {\"Date\": \"2020-06-19\", \"Province_State\": \"California\", \"New cases\": 3729, \"rolling_average\": 3457.5714285714284}, {\"Date\": \"2020-06-20\", \"Province_State\": \"California\", \"New cases\": 4381, \"rolling_average\": 3601.285714285714}, {\"Date\": \"2020-06-21\", \"Province_State\": \"California\", \"New cases\": 3414, \"rolling_average\": 3758.285714285714}, {\"Date\": \"2020-06-22\", \"Province_State\": \"California\", \"New cases\": 6108, \"rolling_average\": 4148.428571428572}, {\"Date\": \"2020-06-23\", \"Province_State\": \"California\", \"New cases\": 6712, \"rolling_average\": 4645.142857142857}, {\"Date\": \"2020-06-24\", \"Province_State\": \"California\", \"New cases\": 4547, \"rolling_average\": 4746.571428571428}, {\"Date\": \"2020-06-25\", \"Province_State\": \"California\", \"New cases\": 5088, \"rolling_average\": 4854.142857142857}, {\"Date\": \"2020-06-26\", \"Province_State\": \"California\", \"New cases\": 5732, \"rolling_average\": 5140.285714285715}, {\"Date\": \"2020-06-27\", \"Province_State\": \"California\", \"New cases\": 3848, \"rolling_average\": 5064.142857142857}, {\"Date\": \"2020-06-28\", \"Province_State\": \"California\", \"New cases\": 4795, \"rolling_average\": 5261.428571428572}, {\"Date\": \"2020-06-29\", \"Province_State\": \"California\", \"New cases\": 8159, \"rolling_average\": 5554.428571428572}, {\"Date\": \"2020-06-30\", \"Province_State\": \"California\", \"New cases\": 7772, \"rolling_average\": 5705.857142857143}, {\"Date\": \"2020-07-01\", \"Province_State\": \"California\", \"New cases\": 7263, \"rolling_average\": 6093.857142857143}, {\"Date\": \"2020-07-02\", \"Province_State\": \"California\", \"New cases\": 7869, \"rolling_average\": 6491.142857142857}, {\"Date\": \"2020-07-03\", \"Province_State\": \"California\", \"New cases\": 3964, \"rolling_average\": 6238.571428571428}, {\"Date\": \"2020-07-04\", \"Province_State\": \"California\", \"New cases\": 2381, \"rolling_average\": 6029.0}, {\"Date\": \"2020-07-05\", \"Province_State\": \"California\", \"New cases\": 11786, \"rolling_average\": 7027.714285714285}, {\"Date\": \"2020-07-06\", \"Province_State\": \"California\", \"New cases\": 6354, \"rolling_average\": 6769.857142857143}, {\"Date\": \"2020-07-07\", \"Province_State\": \"California\", \"New cases\": 12977, \"rolling_average\": 7513.428571428572}, {\"Date\": \"2020-07-08\", \"Province_State\": \"California\", \"New cases\": 8548, \"rolling_average\": 7697.0}, {\"Date\": \"2020-07-09\", \"Province_State\": \"California\", \"New cases\": 9924, \"rolling_average\": 7990.571428571428}, {\"Date\": \"2020-07-10\", \"Province_State\": \"California\", \"New cases\": 8401, \"rolling_average\": 8624.42857142857}, {\"Date\": \"2020-07-11\", \"Province_State\": \"California\", \"New cases\": 7876, \"rolling_average\": 9409.42857142857}, {\"Date\": \"2020-07-12\", \"Province_State\": \"California\", \"New cases\": 5782, \"rolling_average\": 8551.714285714286}, {\"Date\": \"2020-07-13\", \"Province_State\": \"California\", \"New cases\": 8814, \"rolling_average\": 8903.142857142857}, {\"Date\": \"2020-07-14\", \"Province_State\": \"California\", \"New cases\": 12854, \"rolling_average\": 8885.57142857143}, {\"Date\": \"2020-07-15\", \"Province_State\": \"California\", \"New cases\": 8674, \"rolling_average\": 8903.57142857143}, {\"Date\": \"2020-07-16\", \"Province_State\": \"California\", \"New cases\": 9821, \"rolling_average\": 8888.857142857143}, {\"Date\": \"2020-07-17\", \"Province_State\": \"California\", \"New cases\": 8553, \"rolling_average\": 8910.57142857143}, {\"Date\": \"2020-07-18\", \"Province_State\": \"California\", \"New cases\": 7486, \"rolling_average\": 8854.857142857143}, {\"Date\": \"2020-07-19\", \"Province_State\": \"California\", \"New cases\": 6161, \"rolling_average\": 8909.0}, {\"Date\": \"2020-07-20\", \"Province_State\": \"California\", \"New cases\": 10964, \"rolling_average\": 9216.142857142857}, {\"Date\": \"2020-07-21\", \"Province_State\": \"California\", \"New cases\": 11435, \"rolling_average\": 9013.42857142857}, {\"Date\": \"2020-07-22\", \"Province_State\": \"California\", \"New cases\": 11981, \"rolling_average\": 9485.857142857143}, {\"Date\": \"2020-07-23\", \"Province_State\": \"California\", \"New cases\": 9487, \"rolling_average\": 9438.142857142857}, {\"Date\": \"2020-07-24\", \"Province_State\": \"California\", \"New cases\": 9412, \"rolling_average\": 9560.857142857143}, {\"Date\": \"2020-07-25\", \"Province_State\": \"California\", \"New cases\": 6267, \"rolling_average\": 9386.714285714286}, {\"Date\": \"2020-07-26\", \"Province_State\": \"California\", \"New cases\": 5836, \"rolling_average\": 9340.285714285714}, {\"Date\": \"2020-07-27\", \"Province_State\": \"California\", \"New cases\": 5833, \"rolling_average\": 8607.285714285714}, {\"Date\": \"2020-07-28\", \"Province_State\": \"California\", \"New cases\": 12641, \"rolling_average\": 8779.57142857143}, {\"Date\": \"2020-07-29\", \"Province_State\": \"California\", \"New cases\": 14151, \"rolling_average\": 9089.57142857143}, {\"Date\": \"2020-07-30\", \"Province_State\": \"California\", \"New cases\": 8021, \"rolling_average\": 8880.142857142857}, {\"Date\": \"2020-07-31\", \"Province_State\": \"California\", \"New cases\": 7622, \"rolling_average\": 8624.42857142857}, {\"Date\": \"2020-08-01\", \"Province_State\": \"California\", \"New cases\": 6057, \"rolling_average\": 8594.42857142857}, {\"Date\": \"2020-08-02\", \"Province_State\": \"California\", \"New cases\": 5562, \"rolling_average\": 8555.285714285714}, {\"Date\": \"2020-08-03\", \"Province_State\": \"California\", \"New cases\": 4676, \"rolling_average\": 8390.0}, {\"Date\": \"2020-08-04\", \"Province_State\": \"California\", \"New cases\": 9834, \"rolling_average\": 7989.0}, {\"Date\": \"2020-08-05\", \"Province_State\": \"California\", \"New cases\": 3921, \"rolling_average\": 6527.571428571428}, {\"Date\": \"2020-08-06\", \"Province_State\": \"California\", \"New cases\": 10733, \"rolling_average\": 6915.0}, {\"Date\": \"2020-08-07\", \"Province_State\": \"California\", \"New cases\": 5475, \"rolling_average\": 6608.285714285715}, {\"Date\": \"2020-08-08\", \"Province_State\": \"California\", \"New cases\": 7574, \"rolling_average\": 6825.0}, {\"Date\": \"2020-08-09\", \"Province_State\": \"California\", \"New cases\": 5358, \"rolling_average\": 6795.857142857143}, {\"Date\": \"2020-08-10\", \"Province_State\": \"California\", \"New cases\": 14485, \"rolling_average\": 8197.142857142857}, {\"Date\": \"2020-08-11\", \"Province_State\": \"California\", \"New cases\": 4715, \"rolling_average\": 7465.857142857143}, {\"Date\": \"2020-08-12\", \"Province_State\": \"California\", \"New cases\": 12430, \"rolling_average\": 8681.42857142857}, {\"Date\": \"2020-08-13\", \"Province_State\": \"California\", \"New cases\": 6608, \"rolling_average\": 8092.142857142857}, {\"Date\": \"2020-08-14\", \"Province_State\": \"California\", \"New cases\": 15117, \"rolling_average\": 9469.57142857143}, {\"Date\": \"2020-08-15\", \"Province_State\": \"California\", \"New cases\": 4893, \"rolling_average\": 9086.57142857143}, {\"Date\": \"2020-08-16\", \"Province_State\": \"California\", \"New cases\": 5879, \"rolling_average\": 9161.0}, {\"Date\": \"2020-08-17\", \"Province_State\": \"California\", \"New cases\": 5542, \"rolling_average\": 7883.428571428572}, {\"Date\": \"2020-08-18\", \"Province_State\": \"California\", \"New cases\": 8725, \"rolling_average\": 8456.285714285714}, {\"Date\": \"2020-08-19\", \"Province_State\": \"California\", \"New cases\": 9134, \"rolling_average\": 7985.428571428572}, {\"Date\": \"2020-08-20\", \"Province_State\": \"California\", \"New cases\": 4993, \"rolling_average\": 7754.714285714285}, {\"Date\": \"2020-08-21\", \"Province_State\": \"California\", \"New cases\": 6633, \"rolling_average\": 6542.714285714285}, {\"Date\": \"2020-08-22\", \"Province_State\": \"California\", \"New cases\": 5535, \"rolling_average\": 6634.428571428572}, {\"Date\": \"2020-08-23\", \"Province_State\": \"California\", \"New cases\": 4845, \"rolling_average\": 6486.714285714285}, {\"Date\": \"2020-08-24\", \"Province_State\": \"California\", \"New cases\": 6281, \"rolling_average\": 6592.285714285715}, {\"Date\": \"2020-08-25\", \"Province_State\": \"California\", \"New cases\": 5471, \"rolling_average\": 6127.428571428572}, {\"Date\": \"2020-08-26\", \"Province_State\": \"California\", \"New cases\": 5972, \"rolling_average\": 5675.714285714285}, {\"Date\": \"2020-08-27\", \"Province_State\": \"California\", \"New cases\": 4817, \"rolling_average\": 5650.571428571428}, {\"Date\": \"2020-08-28\", \"Province_State\": \"California\", \"New cases\": 5564, \"rolling_average\": 5497.857142857143}, {\"Date\": \"2020-08-29\", \"Province_State\": \"California\", \"New cases\": 4653, \"rolling_average\": 5371.857142857143}, {\"Date\": \"2020-08-30\", \"Province_State\": \"California\", \"New cases\": 3913, \"rolling_average\": 5238.714285714285}, {\"Date\": \"2020-08-31\", \"Province_State\": \"California\", \"New cases\": 6524, \"rolling_average\": 5273.428571428572}, {\"Date\": \"2020-09-01\", \"Province_State\": \"California\", \"New cases\": 3142, \"rolling_average\": 4940.714285714285}, {\"Date\": \"2020-09-02\", \"Province_State\": \"California\", \"New cases\": 5664, \"rolling_average\": 4896.714285714285}, {\"Date\": \"2020-09-03\", \"Province_State\": \"California\", \"New cases\": 4737, \"rolling_average\": 4885.285714285715}, {\"Date\": \"2020-09-04\", \"Province_State\": \"California\", \"New cases\": 4644, \"rolling_average\": 4753.857142857143}, {\"Date\": \"2020-09-05\", \"Province_State\": \"California\", \"New cases\": 4652, \"rolling_average\": 4753.714285714285}, {\"Date\": \"2020-09-06\", \"Province_State\": \"California\", \"New cases\": 3542, \"rolling_average\": 4700.714285714285}, {\"Date\": \"2020-09-07\", \"Province_State\": \"California\", \"New cases\": 2109, \"rolling_average\": 4070.0}, {\"Date\": \"2020-09-08\", \"Province_State\": \"California\", \"New cases\": 3379, \"rolling_average\": 4103.857142857143}, {\"Date\": \"2020-09-09\", \"Province_State\": \"California\", \"New cases\": 2946, \"rolling_average\": 3715.5714285714284}, {\"Date\": \"2020-09-10\", \"Province_State\": \"California\", \"New cases\": 3671, \"rolling_average\": 3563.285714285714}, {\"Date\": \"2020-09-11\", \"Province_State\": \"California\", \"New cases\": 3944, \"rolling_average\": 3463.285714285714}, {\"Date\": \"2020-09-12\", \"Province_State\": \"California\", \"New cases\": 4028, \"rolling_average\": 3374.1428571428573}, {\"Date\": \"2020-09-13\", \"Province_State\": \"California\", \"New cases\": 2795, \"rolling_average\": 3267.4285714285716}, {\"Date\": \"2020-09-14\", \"Province_State\": \"California\", \"New cases\": 3406, \"rolling_average\": 3452.714285714286}, {\"Date\": \"2020-09-15\", \"Province_State\": \"California\", \"New cases\": 3070, \"rolling_average\": 3408.5714285714284}, {\"Date\": \"2020-09-16\", \"Province_State\": \"California\", \"New cases\": 3117, \"rolling_average\": 3433.0}, {\"Date\": \"2020-09-17\", \"Province_State\": \"California\", \"New cases\": 3716, \"rolling_average\": 3439.4285714285716}, {\"Date\": \"2020-09-18\", \"Province_State\": \"California\", \"New cases\": 4454, \"rolling_average\": 3512.285714285714}, {\"Date\": \"2020-09-19\", \"Province_State\": \"California\", \"New cases\": 3822, \"rolling_average\": 3482.8571428571427}, {\"Date\": \"2020-09-20\", \"Province_State\": \"California\", \"New cases\": 2855, \"rolling_average\": 3491.4285714285716}, {\"Date\": \"2020-09-21\", \"Province_State\": \"California\", \"New cases\": 3928, \"rolling_average\": 3566.0}, {\"Date\": \"2020-09-22\", \"Province_State\": \"California\", \"New cases\": 2969, \"rolling_average\": 3551.5714285714284}, {\"Date\": \"2020-09-23\", \"Province_State\": \"California\", \"New cases\": 3371, \"rolling_average\": 3587.8571428571427}, {\"Date\": \"2020-09-24\", \"Province_State\": \"California\", \"New cases\": 3080, \"rolling_average\": 3497.0}, {\"Date\": \"2020-09-25\", \"Province_State\": \"California\", \"New cases\": 4144, \"rolling_average\": 3452.714285714286}, {\"Date\": \"2020-09-26\", \"Province_State\": \"California\", \"New cases\": 3791, \"rolling_average\": 3448.285714285714}, {\"Date\": \"2020-09-27\", \"Province_State\": \"California\", \"New cases\": 2439, \"rolling_average\": 3388.8571428571427}, {\"Date\": \"2020-09-28\", \"Province_State\": \"California\", \"New cases\": 2821, \"rolling_average\": 3230.714285714286}, {\"Date\": \"2020-09-29\", \"Province_State\": \"California\", \"New cases\": 2943, \"rolling_average\": 3227.0}, {\"Date\": \"2020-09-30\", \"Province_State\": \"California\", \"New cases\": 3461, \"rolling_average\": 3239.8571428571427}, {\"Date\": \"2020-10-01\", \"Province_State\": \"California\", \"New cases\": 3090, \"rolling_average\": 3241.285714285714}, {\"Date\": \"2020-10-02\", \"Province_State\": \"California\", \"New cases\": 3808, \"rolling_average\": 3193.285714285714}, {\"Date\": \"2020-10-03\", \"Province_State\": \"California\", \"New cases\": 3508, \"rolling_average\": 3152.8571428571427}, {\"Date\": \"2020-10-04\", \"Province_State\": \"California\", \"New cases\": 3192, \"rolling_average\": 3260.4285714285716}, {\"Date\": \"2020-10-05\", \"Province_State\": \"California\", \"New cases\": 2794, \"rolling_average\": 3256.5714285714284}, {\"Date\": \"2020-10-06\", \"Province_State\": \"California\", \"New cases\": 2695, \"rolling_average\": 3221.1428571428573}, {\"Date\": \"2020-10-07\", \"Province_State\": \"California\", \"New cases\": 3726, \"rolling_average\": 3259.0}, {\"Date\": \"2020-10-08\", \"Province_State\": \"California\", \"New cases\": 3342, \"rolling_average\": 3295.0}, {\"Date\": \"2020-10-09\", \"Province_State\": \"California\", \"New cases\": 3806, \"rolling_average\": 3294.714285714286}, {\"Date\": \"2020-10-10\", \"Province_State\": \"California\", \"New cases\": 3334, \"rolling_average\": 3269.8571428571427}, {\"Date\": \"2020-10-11\", \"Province_State\": \"California\", \"New cases\": 2780, \"rolling_average\": 3211.0}, {\"Date\": \"2020-10-12\", \"Province_State\": \"California\", \"New cases\": 2723, \"rolling_average\": 3200.8571428571427}, {\"Date\": \"2020-10-13\", \"Province_State\": \"California\", \"New cases\": 3397, \"rolling_average\": 3301.1428571428573}, {\"Date\": \"2020-10-14\", \"Province_State\": \"California\", \"New cases\": 3894, \"rolling_average\": 3325.1428571428573}, {\"Date\": \"2020-10-15\", \"Province_State\": \"California\", \"New cases\": 2944, \"rolling_average\": 3268.285714285714}, {\"Date\": \"2020-10-16\", \"Province_State\": \"California\", \"New cases\": 3105, \"rolling_average\": 3168.1428571428573}, {\"Date\": \"2020-10-17\", \"Province_State\": \"California\", \"New cases\": 2361, \"rolling_average\": 3029.1428571428573}, {\"Date\": \"2020-10-18\", \"Province_State\": \"California\", \"New cases\": 2078, \"rolling_average\": 2928.8571428571427}, {\"Date\": \"2020-10-19\", \"Province_State\": \"California\", \"New cases\": 3953, \"rolling_average\": 3104.5714285714284}, {\"Date\": \"2020-10-20\", \"Province_State\": \"California\", \"New cases\": 4101, \"rolling_average\": 3205.1428571428573}, {\"Date\": \"2020-10-21\", \"Province_State\": \"California\", \"New cases\": 3193, \"rolling_average\": 3105.0}, {\"Date\": \"2020-10-22\", \"Province_State\": \"California\", \"New cases\": 6425, \"rolling_average\": 3602.285714285714}, {\"Date\": \"2020-10-23\", \"Province_State\": \"California\", \"New cases\": 5435, \"rolling_average\": 3935.1428571428573}, {\"Date\": \"2020-10-24\", \"Province_State\": \"California\", \"New cases\": 4885, \"rolling_average\": 4295.714285714285}, {\"Date\": \"2020-10-25\", \"Province_State\": \"California\", \"New cases\": 2912, \"rolling_average\": 4414.857142857143}, {\"Date\": \"2020-10-26\", \"Province_State\": \"California\", \"New cases\": 3842, \"rolling_average\": 4399.0}, {\"Date\": \"2020-10-27\", \"Province_State\": \"California\", \"New cases\": 4450, \"rolling_average\": 4448.857142857143}, {\"Date\": \"2020-10-28\", \"Province_State\": \"California\", \"New cases\": 4388, \"rolling_average\": 4619.571428571428}, {\"Date\": \"2020-10-29\", \"Province_State\": \"California\", \"New cases\": 4372, \"rolling_average\": 4326.285714285715}, {\"Date\": \"2020-10-30\", \"Province_State\": \"California\", \"New cases\": 4380, \"rolling_average\": 4175.571428571428}, {\"Date\": \"2020-10-31\", \"Province_State\": \"California\", \"New cases\": 4115, \"rolling_average\": 4065.5714285714284}, {\"Date\": \"2020-11-01\", \"Province_State\": \"California\", \"New cases\": 3735, \"rolling_average\": 4183.142857142857}, {\"Date\": \"2020-11-02\", \"Province_State\": \"California\", \"New cases\": 4533, \"rolling_average\": 4281.857142857143}, {\"Date\": \"2020-11-03\", \"Province_State\": \"California\", \"New cases\": 4990, \"rolling_average\": 4359.0}, {\"Date\": \"2020-11-04\", \"Province_State\": \"California\", \"New cases\": 5519, \"rolling_average\": 4520.571428571428}, {\"Date\": \"2020-11-05\", \"Province_State\": \"California\", \"New cases\": 5934, \"rolling_average\": 4743.714285714285}, {\"Date\": \"2020-11-06\", \"Province_State\": \"California\", \"New cases\": 6357, \"rolling_average\": 5026.142857142857}, {\"Date\": \"2020-11-07\", \"Province_State\": \"California\", \"New cases\": 6151, \"rolling_average\": 5317.0}, {\"Date\": \"2020-11-08\", \"Province_State\": \"California\", \"New cases\": 3351, \"rolling_average\": 5262.142857142857}, {\"Date\": \"2020-11-09\", \"Province_State\": \"California\", \"New cases\": 8584, \"rolling_average\": 5840.857142857143}, {\"Date\": \"2020-11-10\", \"Province_State\": \"California\", \"New cases\": 8135, \"rolling_average\": 6290.142857142857}, {\"Date\": \"2020-11-11\", \"Province_State\": \"California\", \"New cases\": 6143, \"rolling_average\": 6379.285714285715}, {\"Date\": \"2020-11-12\", \"Province_State\": \"California\", \"New cases\": 8541, \"rolling_average\": 6751.714285714285}, {\"Date\": \"2020-11-13\", \"Province_State\": \"California\", \"New cases\": 9450, \"rolling_average\": 7193.571428571428}, {\"Date\": \"2020-11-14\", \"Province_State\": \"California\", \"New cases\": 9501, \"rolling_average\": 7672.142857142857}, {\"Date\": \"2020-11-15\", \"Province_State\": \"California\", \"New cases\": 9028, \"rolling_average\": 8483.142857142857}, {\"Date\": \"2020-11-16\", \"Province_State\": \"California\", \"New cases\": 9595, \"rolling_average\": 8627.57142857143}, {\"Date\": \"2020-11-17\", \"Province_State\": \"California\", \"New cases\": 10595, \"rolling_average\": 8979.0}, {\"Date\": \"2020-11-18\", \"Province_State\": \"California\", \"New cases\": 11755, \"rolling_average\": 9780.714285714286}, {\"Date\": \"2020-11-19\", \"Province_State\": \"California\", \"New cases\": 13134, \"rolling_average\": 10436.857142857143}, {\"Date\": \"2020-11-20\", \"Province_State\": \"California\", \"New cases\": 12576, \"rolling_average\": 10883.42857142857}, {\"Date\": \"2020-11-21\", \"Province_State\": \"California\", \"New cases\": 15685, \"rolling_average\": 11766.857142857143}, {\"Date\": \"2020-11-22\", \"Province_State\": \"California\", \"New cases\": 9089, \"rolling_average\": 11775.57142857143}, {\"Date\": \"2020-11-23\", \"Province_State\": \"California\", \"New cases\": 13695, \"rolling_average\": 12361.285714285714}, {\"Date\": \"2020-11-24\", \"Province_State\": \"California\", \"New cases\": 16990, \"rolling_average\": 13274.857142857143}, {\"Date\": \"2020-11-25\", \"Province_State\": \"California\", \"New cases\": 15731, \"rolling_average\": 13842.857142857143}, {\"Date\": \"2020-11-26\", \"Province_State\": \"California\", \"New cases\": 10862, \"rolling_average\": 13518.285714285714}, {\"Date\": \"2020-11-27\", \"Province_State\": \"California\", \"New cases\": 13774, \"rolling_average\": 13689.42857142857}, {\"Date\": \"2020-11-28\", \"Province_State\": \"California\", \"New cases\": 15048, \"rolling_average\": 13598.42857142857}, {\"Date\": \"2020-11-29\", \"Province_State\": \"California\", \"New cases\": 14831, \"rolling_average\": 14418.714285714286}, {\"Date\": \"2020-11-30\", \"Province_State\": \"California\", \"New cases\": 14809, \"rolling_average\": 14577.857142857143}, {\"Date\": \"2020-12-01\", \"Province_State\": \"California\", \"New cases\": 15778, \"rolling_average\": 14404.714285714286}, {\"Date\": \"2020-12-02\", \"Province_State\": \"California\", \"New cases\": 19140, \"rolling_average\": 14891.714285714286}, {\"Date\": \"2020-12-03\", \"Province_State\": \"California\", \"New cases\": 21368, \"rolling_average\": 16392.571428571428}, {\"Date\": \"2020-12-04\", \"Province_State\": \"California\", \"New cases\": 23757, \"rolling_average\": 17818.714285714286}, {\"Date\": \"2020-12-05\", \"Province_State\": \"California\", \"New cases\": 27634, \"rolling_average\": 19616.714285714286}, {\"Date\": \"2020-12-06\", \"Province_State\": \"California\", \"New cases\": 28732, \"rolling_average\": 21602.571428571428}, {\"Date\": \"2020-12-07\", \"Province_State\": \"California\", \"New cases\": 24155, \"rolling_average\": 22937.714285714286}, {\"Date\": \"2020-12-08\", \"Province_State\": \"California\", \"New cases\": 24568, \"rolling_average\": 24193.428571428572}, {\"Date\": \"2020-12-09\", \"Province_State\": \"California\", \"New cases\": 33591, \"rolling_average\": 26257.85714285714}, {\"Date\": \"2020-12-10\", \"Province_State\": \"California\", \"New cases\": 33564, \"rolling_average\": 28000.14285714286}, {\"Date\": \"2020-12-11\", \"Province_State\": \"California\", \"New cases\": 33664, \"rolling_average\": 29415.428571428572}, {\"Date\": \"2020-12-12\", \"Province_State\": \"California\", \"New cases\": 32961, \"rolling_average\": 30176.428571428572}, {\"Date\": \"2020-12-13\", \"Province_State\": \"California\", \"New cases\": 36202, \"rolling_average\": 31243.571428571428}, {\"Date\": \"2020-12-14\", \"Province_State\": \"California\", \"New cases\": 26115, \"rolling_average\": 31523.571428571428}, {\"Date\": \"2020-12-15\", \"Province_State\": \"California\", \"New cases\": 33249, \"rolling_average\": 32763.714285714286}, {\"Date\": \"2020-12-16\", \"Province_State\": \"California\", \"New cases\": 63817, \"rolling_average\": 37081.71428571428}, {\"Date\": \"2020-12-17\", \"Province_State\": \"California\", \"New cases\": 45415, \"rolling_average\": 38774.71428571428}, {\"Date\": \"2020-12-18\", \"Province_State\": \"California\", \"New cases\": 48221, \"rolling_average\": 40854.28571428572}, {\"Date\": \"2020-12-19\", \"Province_State\": \"California\", \"New cases\": 40362, \"rolling_average\": 41911.57142857143}, {\"Date\": \"2020-12-20\", \"Province_State\": \"California\", \"New cases\": 41476, \"rolling_average\": 42665.0}, {\"Date\": \"2020-12-21\", \"Province_State\": \"California\", \"New cases\": 39854, \"rolling_average\": 44627.71428571428}, {\"Date\": \"2020-12-22\", \"Province_State\": \"California\", \"New cases\": 34621, \"rolling_average\": 44823.71428571428}, {\"Date\": \"2020-12-23\", \"Province_State\": \"California\", \"New cases\": 43986, \"rolling_average\": 41990.71428571428}, {\"Date\": \"2020-12-24\", \"Province_State\": \"California\", \"New cases\": 37694, \"rolling_average\": 40887.71428571428}, {\"Date\": \"2020-12-25\", \"Province_State\": \"California\", \"New cases\": 20609, \"rolling_average\": 36943.142857142855}, {\"Date\": \"2020-12-26\", \"Province_State\": \"California\", \"New cases\": 59813, \"rolling_average\": 39721.857142857145}, {\"Date\": \"2020-12-27\", \"Province_State\": \"California\", \"New cases\": 35779, \"rolling_average\": 38908.0}, {\"Date\": \"2020-12-28\", \"Province_State\": \"California\", \"New cases\": 36295, \"rolling_average\": 38399.57142857143}, {\"Date\": \"2020-12-29\", \"Province_State\": \"California\", \"New cases\": 35648, \"rolling_average\": 38546.28571428572}, {\"Date\": \"2020-12-30\", \"Province_State\": \"California\", \"New cases\": 32703, \"rolling_average\": 36934.42857142857}, {\"Date\": \"2020-12-31\", \"Province_State\": \"California\", \"New cases\": 29972, \"rolling_average\": 35831.28571428572}, {\"Date\": \"2021-01-01\", \"Province_State\": \"California\", \"New cases\": 45194, \"rolling_average\": 39343.42857142857}, {\"Date\": \"2021-01-02\", \"Province_State\": \"California\", \"New cases\": 52356, \"rolling_average\": 38278.142857142855}, {\"Date\": \"2021-01-03\", \"Province_State\": \"California\", \"New cases\": 38373, \"rolling_average\": 38648.71428571428}, {\"Date\": \"2021-01-04\", \"Province_State\": \"California\", \"New cases\": 31170, \"rolling_average\": 37916.57142857143}, {\"Date\": \"2021-01-05\", \"Province_State\": \"California\", \"New cases\": 37714, \"rolling_average\": 38211.71428571428}, {\"Date\": \"2021-01-06\", \"Province_State\": \"California\", \"New cases\": 35043, \"rolling_average\": 38546.0}, {\"Date\": \"2021-01-07\", \"Province_State\": \"California\", \"New cases\": 45498, \"rolling_average\": 40764.0}, {\"Date\": \"2021-01-08\", \"Province_State\": \"California\", \"New cases\": 43474, \"rolling_average\": 40518.28571428572}]}}, {\"mode\": \"vega-lite\"});\n",
              "</script>"
            ]
          },
          "metadata": {
            "tags": []
          },
          "execution_count": 66
        }
      ]
    },
    {
      "cell_type": "code",
      "metadata": {
        "id": "nSqdbk8o-bHz",
        "colab": {
          "base_uri": "https://localhost:8080/",
          "height": 430
        },
        "outputId": "9c2c4c7e-6e22-4e85-b433-af0e1a6aaa6f"
      },
      "source": [
        "#base_ny.encode(y='Confirmed').properties(title='Total Confirmed') | base_ny.encode(y='Deaths',color = red).properties(title='Total deaths')\n",
        "\n",
        "base_ny.encode(y='New cases').properties(title='NY state - New cases')  | base_ny.encode(y='rolling_average',color = red).properties(title='Rolling Average')\n"
      ],
      "execution_count": 65,
      "outputs": [
        {
          "output_type": "execute_result",
          "data": {
            "text/plain": [
              "alt.HConcatChart(...)"
            ],
            "text/html": [
              "\n",
              "<div id=\"altair-viz-027fbfcc03d940ff81f18d9de701dfd8\"></div>\n",
              "<script type=\"text/javascript\">\n",
              "  (function(spec, embedOpt){\n",
              "    let outputDiv = document.currentScript.previousElementSibling;\n",
              "    if (outputDiv.id !== \"altair-viz-027fbfcc03d940ff81f18d9de701dfd8\") {\n",
              "      outputDiv = document.getElementById(\"altair-viz-027fbfcc03d940ff81f18d9de701dfd8\");\n",
              "    }\n",
              "    const paths = {\n",
              "      \"vega\": \"https://cdn.jsdelivr.net/npm//vega@5?noext\",\n",
              "      \"vega-lib\": \"https://cdn.jsdelivr.net/npm//vega-lib?noext\",\n",
              "      \"vega-lite\": \"https://cdn.jsdelivr.net/npm//vega-lite@4.8.1?noext\",\n",
              "      \"vega-embed\": \"https://cdn.jsdelivr.net/npm//vega-embed@6?noext\",\n",
              "    };\n",
              "\n",
              "    function loadScript(lib) {\n",
              "      return new Promise(function(resolve, reject) {\n",
              "        var s = document.createElement('script');\n",
              "        s.src = paths[lib];\n",
              "        s.async = true;\n",
              "        s.onload = () => resolve(paths[lib]);\n",
              "        s.onerror = () => reject(`Error loading script: ${paths[lib]}`);\n",
              "        document.getElementsByTagName(\"head\")[0].appendChild(s);\n",
              "      });\n",
              "    }\n",
              "\n",
              "    function showError(err) {\n",
              "      outputDiv.innerHTML = `<div class=\"error\" style=\"color:red;\">${err}</div>`;\n",
              "      throw err;\n",
              "    }\n",
              "\n",
              "    function displayChart(vegaEmbed) {\n",
              "      vegaEmbed(outputDiv, spec, embedOpt)\n",
              "        .catch(err => showError(`Javascript Error: ${err.message}<br>This usually means there's a typo in your chart specification. See the javascript console for the full traceback.`));\n",
              "    }\n",
              "\n",
              "    if(typeof define === \"function\" && define.amd) {\n",
              "      requirejs.config({paths});\n",
              "      require([\"vega-embed\"], displayChart, err => showError(`Error loading script: ${err.message}`));\n",
              "    } else if (typeof vegaEmbed === \"function\") {\n",
              "      displayChart(vegaEmbed);\n",
              "    } else {\n",
              "      loadScript(\"vega\")\n",
              "        .then(() => loadScript(\"vega-lite\"))\n",
              "        .then(() => loadScript(\"vega-embed\"))\n",
              "        .catch(showError)\n",
              "        .then(() => displayChart(vegaEmbed));\n",
              "    }\n",
              "  })({\"config\": {\"view\": {\"continuousWidth\": 400, \"continuousHeight\": 300}}, \"hconcat\": [{\"mark\": \"bar\", \"encoding\": {\"x\": {\"type\": \"ordinal\", \"field\": \"Date\", \"timeUnit\": \"monthdate\"}, \"y\": {\"type\": \"quantitative\", \"field\": \"New cases\"}}, \"title\": \"NY state - New cases\", \"width\": 500}, {\"mark\": \"bar\", \"encoding\": {\"color\": {\"value\": \"#f54242\"}, \"x\": {\"type\": \"ordinal\", \"field\": \"Date\", \"timeUnit\": \"monthdate\"}, \"y\": {\"type\": \"quantitative\", \"field\": \"rolling_average\"}}, \"title\": \"Rolling Average\", \"width\": 500}], \"data\": {\"name\": \"data-9b8837c3e652587bfc8c678776dd6749\"}, \"$schema\": \"https://vega.github.io/schema/vega-lite/v4.8.1.json\", \"datasets\": {\"data-9b8837c3e652587bfc8c678776dd6749\": [{\"Date\": \"2020-01-22\", \"Province_State\": \"New York\", \"New cases\": 0, \"rolling_average\": null}, {\"Date\": \"2020-01-23\", \"Province_State\": \"New York\", \"New cases\": 0, \"rolling_average\": null}, {\"Date\": \"2020-01-24\", \"Province_State\": \"New York\", \"New cases\": 0, \"rolling_average\": null}, {\"Date\": \"2020-01-25\", \"Province_State\": \"New York\", \"New cases\": 0, \"rolling_average\": null}, {\"Date\": \"2020-01-26\", \"Province_State\": \"New York\", \"New cases\": 0, \"rolling_average\": null}, {\"Date\": \"2020-01-27\", \"Province_State\": \"New York\", \"New cases\": 0, \"rolling_average\": null}, {\"Date\": \"2020-01-28\", \"Province_State\": \"New York\", \"New cases\": 0, \"rolling_average\": 0.0}, {\"Date\": \"2020-01-29\", \"Province_State\": \"New York\", \"New cases\": 0, \"rolling_average\": 0.0}, {\"Date\": \"2020-01-30\", \"Province_State\": \"New York\", \"New cases\": 0, \"rolling_average\": 0.0}, {\"Date\": \"2020-01-31\", \"Province_State\": \"New York\", \"New cases\": 0, \"rolling_average\": 0.0}, {\"Date\": \"2020-02-01\", \"Province_State\": \"New York\", \"New cases\": 0, \"rolling_average\": 0.0}, {\"Date\": \"2020-02-02\", \"Province_State\": \"New York\", \"New cases\": 0, \"rolling_average\": 0.0}, {\"Date\": \"2020-02-03\", \"Province_State\": \"New York\", \"New cases\": 0, \"rolling_average\": 0.0}, {\"Date\": \"2020-02-04\", \"Province_State\": \"New York\", \"New cases\": 0, \"rolling_average\": 0.0}, {\"Date\": \"2020-02-05\", \"Province_State\": \"New York\", \"New cases\": 0, \"rolling_average\": 0.0}, {\"Date\": \"2020-02-06\", \"Province_State\": \"New York\", \"New cases\": 0, \"rolling_average\": 0.0}, {\"Date\": \"2020-02-07\", \"Province_State\": \"New York\", \"New cases\": 0, \"rolling_average\": 0.0}, {\"Date\": \"2020-02-08\", \"Province_State\": \"New York\", \"New cases\": 0, \"rolling_average\": 0.0}, {\"Date\": \"2020-02-09\", \"Province_State\": \"New York\", \"New cases\": 0, \"rolling_average\": 0.0}, {\"Date\": \"2020-02-10\", \"Province_State\": \"New York\", \"New cases\": 0, \"rolling_average\": 0.0}, {\"Date\": \"2020-02-11\", \"Province_State\": \"New York\", \"New cases\": 0, \"rolling_average\": 0.0}, {\"Date\": \"2020-02-12\", \"Province_State\": \"New York\", \"New cases\": 0, \"rolling_average\": 0.0}, {\"Date\": \"2020-02-13\", \"Province_State\": \"New York\", \"New cases\": 0, \"rolling_average\": 0.0}, {\"Date\": \"2020-02-14\", \"Province_State\": \"New York\", \"New cases\": 0, \"rolling_average\": 0.0}, {\"Date\": \"2020-02-15\", \"Province_State\": \"New York\", \"New cases\": 0, \"rolling_average\": 0.0}, {\"Date\": \"2020-02-16\", \"Province_State\": \"New York\", \"New cases\": 0, \"rolling_average\": 0.0}, {\"Date\": \"2020-02-17\", \"Province_State\": \"New York\", \"New cases\": 0, \"rolling_average\": 0.0}, {\"Date\": \"2020-02-18\", \"Province_State\": \"New York\", \"New cases\": 0, \"rolling_average\": 0.0}, {\"Date\": \"2020-02-19\", \"Province_State\": \"New York\", \"New cases\": 0, \"rolling_average\": 0.0}, {\"Date\": \"2020-02-20\", \"Province_State\": \"New York\", \"New cases\": 0, \"rolling_average\": 0.0}, {\"Date\": \"2020-02-21\", \"Province_State\": \"New York\", \"New cases\": 0, \"rolling_average\": 0.0}, {\"Date\": \"2020-02-22\", \"Province_State\": \"New York\", \"New cases\": 0, \"rolling_average\": 0.0}, {\"Date\": \"2020-02-23\", \"Province_State\": \"New York\", \"New cases\": 0, \"rolling_average\": 0.0}, {\"Date\": \"2020-02-24\", \"Province_State\": \"New York\", \"New cases\": 0, \"rolling_average\": 0.0}, {\"Date\": \"2020-02-25\", \"Province_State\": \"New York\", \"New cases\": 0, \"rolling_average\": 0.0}, {\"Date\": \"2020-02-26\", \"Province_State\": \"New York\", \"New cases\": 0, \"rolling_average\": 0.0}, {\"Date\": \"2020-02-27\", \"Province_State\": \"New York\", \"New cases\": 0, \"rolling_average\": 0.0}, {\"Date\": \"2020-02-28\", \"Province_State\": \"New York\", \"New cases\": 0, \"rolling_average\": 0.0}, {\"Date\": \"2020-02-29\", \"Province_State\": \"New York\", \"New cases\": 0, \"rolling_average\": 0.0}, {\"Date\": \"2020-03-01\", \"Province_State\": \"New York\", \"New cases\": 0, \"rolling_average\": 0.0}, {\"Date\": \"2020-03-02\", \"Province_State\": \"New York\", \"New cases\": 0, \"rolling_average\": 0.0}, {\"Date\": \"2020-03-03\", \"Province_State\": \"New York\", \"New cases\": 1, \"rolling_average\": 0.14285714285714285}, {\"Date\": \"2020-03-04\", \"Province_State\": \"New York\", \"New cases\": 9, \"rolling_average\": 1.4285714285714286}, {\"Date\": \"2020-03-05\", \"Province_State\": \"New York\", \"New cases\": 11, \"rolling_average\": 3.0}, {\"Date\": \"2020-03-06\", \"Province_State\": \"New York\", \"New cases\": 3, \"rolling_average\": 3.4285714285714284}, {\"Date\": \"2020-03-07\", \"Province_State\": \"New York\", \"New cases\": 52, \"rolling_average\": 10.857142857142858}, {\"Date\": \"2020-03-08\", \"Province_State\": \"New York\", \"New cases\": 29, \"rolling_average\": 15.0}, {\"Date\": \"2020-03-09\", \"Province_State\": \"New York\", \"New cases\": 33, \"rolling_average\": 19.714285714285715}, {\"Date\": \"2020-03-10\", \"Province_State\": \"New York\", \"New cases\": 14, \"rolling_average\": 21.571428571428573}, {\"Date\": \"2020-03-11\", \"Province_State\": \"New York\", \"New cases\": 64, \"rolling_average\": 29.428571428571427}, {\"Date\": \"2020-03-12\", \"Province_State\": \"New York\", \"New cases\": 80, \"rolling_average\": 39.285714285714285}, {\"Date\": \"2020-03-13\", \"Province_State\": \"New York\", \"New cases\": 83, \"rolling_average\": 50.714285714285715}, {\"Date\": \"2020-03-14\", \"Province_State\": \"New York\", \"New cases\": 153, \"rolling_average\": 65.14285714285714}, {\"Date\": \"2020-03-15\", \"Province_State\": \"New York\", \"New cases\": 101, \"rolling_average\": 75.42857142857143}, {\"Date\": \"2020-03-16\", \"Province_State\": \"New York\", \"New cases\": 328, \"rolling_average\": 117.57142857142857}, {\"Date\": \"2020-03-17\", \"Province_State\": \"New York\", \"New cases\": 446, \"rolling_average\": 179.28571428571428}, {\"Date\": \"2020-03-18\", \"Province_State\": \"New York\", \"New cases\": 1100, \"rolling_average\": 327.2857142857143}, {\"Date\": \"2020-03-19\", \"Province_State\": \"New York\", \"New cases\": 1696, \"rolling_average\": 558.1428571428571}, {\"Date\": \"2020-03-20\", \"Province_State\": \"New York\", \"New cases\": 3008, \"rolling_average\": 976.0}, {\"Date\": \"2020-03-21\", \"Province_State\": \"New York\", \"New cases\": 3199, \"rolling_average\": 1411.142857142857}, {\"Date\": \"2020-03-22\", \"Province_State\": \"New York\", \"New cases\": 4758, \"rolling_average\": 2076.4285714285716}, {\"Date\": \"2020-03-23\", \"Province_State\": \"New York\", \"New cases\": 5609, \"rolling_average\": 2830.8571428571427}, {\"Date\": \"2020-03-24\", \"Province_State\": \"New York\", \"New cases\": 4904, \"rolling_average\": 3467.714285714286}, {\"Date\": \"2020-03-25\", \"Province_State\": \"New York\", \"New cases\": 5160, \"rolling_average\": 4047.714285714286}, {\"Date\": \"2020-03-26\", \"Province_State\": \"New York\", \"New cases\": 6556, \"rolling_average\": 4742.0}, {\"Date\": \"2020-03-27\", \"Province_State\": \"New York\", \"New cases\": 7304, \"rolling_average\": 5355.714285714285}, {\"Date\": \"2020-03-28\", \"Province_State\": \"New York\", \"New cases\": 7699, \"rolling_average\": 5998.571428571428}, {\"Date\": \"2020-03-29\", \"Province_State\": \"New York\", \"New cases\": 7248, \"rolling_average\": 6354.285714285715}, {\"Date\": \"2020-03-30\", \"Province_State\": \"New York\", \"New cases\": 7015, \"rolling_average\": 6555.142857142857}, {\"Date\": \"2020-03-31\", \"Province_State\": \"New York\", \"New cases\": 9190, \"rolling_average\": 7167.428571428572}, {\"Date\": \"2020-04-01\", \"Province_State\": \"New York\", \"New cases\": 14524, \"rolling_average\": 8505.142857142857}, {\"Date\": \"2020-04-02\", \"Province_State\": \"New York\", \"New cases\": 10403, \"rolling_average\": 9054.714285714286}, {\"Date\": \"2020-04-03\", \"Province_State\": \"New York\", \"New cases\": 10675, \"rolling_average\": 9536.285714285714}, {\"Date\": \"2020-04-04\", \"Province_State\": \"New York\", \"New cases\": 10250, \"rolling_average\": 9900.714285714286}, {\"Date\": \"2020-04-05\", \"Province_State\": \"New York\", \"New cases\": 10995, \"rolling_average\": 10436.0}, {\"Date\": \"2020-04-06\", \"Province_State\": \"New York\", \"New cases\": 9861, \"rolling_average\": 10842.57142857143}, {\"Date\": \"2020-04-07\", \"Province_State\": \"New York\", \"New cases\": 7413, \"rolling_average\": 10588.714285714286}, {\"Date\": \"2020-04-08\", \"Province_State\": \"New York\", \"New cases\": 10211, \"rolling_average\": 9972.57142857143}, {\"Date\": \"2020-04-09\", \"Province_State\": \"New York\", \"New cases\": 12071, \"rolling_average\": 10210.857142857143}, {\"Date\": \"2020-04-10\", \"Province_State\": \"New York\", \"New cases\": 11473, \"rolling_average\": 10324.857142857143}, {\"Date\": \"2020-04-11\", \"Province_State\": \"New York\", \"New cases\": 8533, \"rolling_average\": 10079.57142857143}, {\"Date\": \"2020-04-12\", \"Province_State\": \"New York\", \"New cases\": 8373, \"rolling_average\": 9705.0}, {\"Date\": \"2020-04-13\", \"Province_State\": \"New York\", \"New cases\": 7853, \"rolling_average\": 9418.142857142857}, {\"Date\": \"2020-04-14\", \"Province_State\": \"New York\", \"New cases\": 7471, \"rolling_average\": 9426.42857142857}, {\"Date\": \"2020-04-15\", \"Province_State\": \"New York\", \"New cases\": 6658, \"rolling_average\": 8918.857142857143}, {\"Date\": \"2020-04-16\", \"Province_State\": \"New York\", \"New cases\": 7889, \"rolling_average\": 8321.42857142857}, {\"Date\": \"2020-04-17\", \"Province_State\": \"New York\", \"New cases\": 6986, \"rolling_average\": 7680.428571428572}, {\"Date\": \"2020-04-18\", \"Province_State\": \"New York\", \"New cases\": 6877, \"rolling_average\": 7443.857142857143}, {\"Date\": \"2020-04-19\", \"Province_State\": \"New York\", \"New cases\": 6644, \"rolling_average\": 7196.857142857143}, {\"Date\": \"2020-04-20\", \"Province_State\": \"New York\", \"New cases\": 6386, \"rolling_average\": 6987.285714285715}, {\"Date\": \"2020-04-21\", \"Province_State\": \"New York\", \"New cases\": 4633, \"rolling_average\": 6581.857142857143}, {\"Date\": \"2020-04-22\", \"Province_State\": \"New York\", \"New cases\": 4259, \"rolling_average\": 6239.142857142857}, {\"Date\": \"2020-04-23\", \"Province_State\": \"New York\", \"New cases\": 5497, \"rolling_average\": 5897.428571428572}, {\"Date\": \"2020-04-24\", \"Province_State\": \"New York\", \"New cases\": 6668, \"rolling_average\": 5852.0}, {\"Date\": \"2020-04-25\", \"Province_State\": \"New York\", \"New cases\": 9442, \"rolling_average\": 6218.428571428572}, {\"Date\": \"2020-04-26\", \"Province_State\": \"New York\", \"New cases\": 5677, \"rolling_average\": 6080.285714285715}, {\"Date\": \"2020-04-27\", \"Province_State\": \"New York\", \"New cases\": 4313, \"rolling_average\": 5784.142857142857}, {\"Date\": \"2020-04-28\", \"Province_State\": \"New York\", \"New cases\": 2908, \"rolling_average\": 5537.714285714285}, {\"Date\": \"2020-04-29\", \"Province_State\": \"New York\", \"New cases\": 3136, \"rolling_average\": 5377.285714285715}, {\"Date\": \"2020-04-30\", \"Province_State\": \"New York\", \"New cases\": 4377, \"rolling_average\": 5217.285714285715}, {\"Date\": \"2020-05-01\", \"Province_State\": \"New York\", \"New cases\": 4490, \"rolling_average\": 4906.142857142857}, {\"Date\": \"2020-05-02\", \"Province_State\": \"New York\", \"New cases\": 4375, \"rolling_average\": 4182.285714285715}, {\"Date\": \"2020-05-03\", \"Province_State\": \"New York\", \"New cases\": 3511, \"rolling_average\": 3872.8571428571427}, {\"Date\": \"2020-05-04\", \"Province_State\": \"New York\", \"New cases\": 3143, \"rolling_average\": 3705.714285714286}, {\"Date\": \"2020-05-05\", \"Province_State\": \"New York\", \"New cases\": 2106, \"rolling_average\": 3591.1428571428573}, {\"Date\": \"2020-05-06\", \"Province_State\": \"New York\", \"New cases\": 2123, \"rolling_average\": 3446.4285714285716}, {\"Date\": \"2020-05-07\", \"Province_State\": \"New York\", \"New cases\": 3211, \"rolling_average\": 3279.8571428571427}, {\"Date\": \"2020-05-08\", \"Province_State\": \"New York\", \"New cases\": 2899, \"rolling_average\": 3052.5714285714284}, {\"Date\": \"2020-05-09\", \"Province_State\": \"New York\", \"New cases\": 2635, \"rolling_average\": 2804.0}, {\"Date\": \"2020-05-10\", \"Province_State\": \"New York\", \"New cases\": 2400, \"rolling_average\": 2645.285714285714}, {\"Date\": \"2020-05-11\", \"Province_State\": \"New York\", \"New cases\": 1824, \"rolling_average\": 2456.8571428571427}, {\"Date\": \"2020-05-12\", \"Province_State\": \"New York\", \"New cases\": 1330, \"rolling_average\": 2346.0}, {\"Date\": \"2020-05-13\", \"Province_State\": \"New York\", \"New cases\": 1518, \"rolling_average\": 2259.5714285714284}, {\"Date\": \"2020-05-14\", \"Province_State\": \"New York\", \"New cases\": 2339, \"rolling_average\": 2135.0}, {\"Date\": \"2020-05-15\", \"Province_State\": \"New York\", \"New cases\": 2248, \"rolling_average\": 2042.0}, {\"Date\": \"2020-05-16\", \"Province_State\": \"New York\", \"New cases\": 2518, \"rolling_average\": 2025.2857142857142}, {\"Date\": \"2020-05-17\", \"Province_State\": \"New York\", \"New cases\": 2023, \"rolling_average\": 1971.4285714285713}, {\"Date\": \"2020-05-18\", \"Province_State\": \"New York\", \"New cases\": 1498, \"rolling_average\": 1924.857142857143}, {\"Date\": \"2020-05-19\", \"Province_State\": \"New York\", \"New cases\": 1386, \"rolling_average\": 1932.857142857143}, {\"Date\": \"2020-05-20\", \"Province_State\": \"New York\", \"New cases\": 1166, \"rolling_average\": 1882.5714285714287}, {\"Date\": \"2020-05-21\", \"Province_State\": \"New York\", \"New cases\": 1866, \"rolling_average\": 1815.0}, {\"Date\": \"2020-05-22\", \"Province_State\": \"New York\", \"New cases\": 1900, \"rolling_average\": 1765.2857142857142}, {\"Date\": \"2020-05-23\", \"Province_State\": \"New York\", \"New cases\": 2071, \"rolling_average\": 1701.4285714285713}, {\"Date\": \"2020-05-24\", \"Province_State\": \"New York\", \"New cases\": 1808, \"rolling_average\": 1670.7142857142858}, {\"Date\": \"2020-05-25\", \"Province_State\": \"New York\", \"New cases\": 1691, \"rolling_average\": 1698.2857142857142}, {\"Date\": \"2020-05-26\", \"Province_State\": \"New York\", \"New cases\": 961, \"rolling_average\": 1637.5714285714287}, {\"Date\": \"2020-05-27\", \"Province_State\": \"New York\", \"New cases\": 933, \"rolling_average\": 1604.2857142857142}, {\"Date\": \"2020-05-28\", \"Province_State\": \"New York\", \"New cases\": 1156, \"rolling_average\": 1502.857142857143}, {\"Date\": \"2020-05-29\", \"Province_State\": \"New York\", \"New cases\": 1663, \"rolling_average\": 1469.0}, {\"Date\": \"2020-05-30\", \"Province_State\": \"New York\", \"New cases\": 1372, \"rolling_average\": 1369.142857142857}, {\"Date\": \"2020-05-31\", \"Province_State\": \"New York\", \"New cases\": 1209, \"rolling_average\": 1283.5714285714287}, {\"Date\": \"2020-06-01\", \"Province_State\": \"New York\", \"New cases\": 1136, \"rolling_average\": 1204.2857142857142}, {\"Date\": \"2020-06-02\", \"Province_State\": \"New York\", \"New cases\": 1069, \"rolling_average\": 1219.7142857142858}, {\"Date\": \"2020-06-03\", \"Province_State\": \"New York\", \"New cases\": 789, \"rolling_average\": 1199.142857142857}, {\"Date\": \"2020-06-04\", \"Province_State\": \"New York\", \"New cases\": 1212, \"rolling_average\": 1207.142857142857}, {\"Date\": \"2020-06-05\", \"Province_State\": \"New York\", \"New cases\": 1123, \"rolling_average\": 1130.0}, {\"Date\": \"2020-06-06\", \"Province_State\": \"New York\", \"New cases\": 1055, \"rolling_average\": 1084.7142857142858}, {\"Date\": \"2020-06-07\", \"Province_State\": \"New York\", \"New cases\": 857, \"rolling_average\": 1034.4285714285713}, {\"Date\": \"2020-06-08\", \"Province_State\": \"New York\", \"New cases\": 736, \"rolling_average\": 977.2857142857143}, {\"Date\": \"2020-06-09\", \"Province_State\": \"New York\", \"New cases\": 598, \"rolling_average\": 910.0}, {\"Date\": \"2020-06-10\", \"Province_State\": \"New York\", \"New cases\": 461, \"rolling_average\": 863.1428571428571}, {\"Date\": \"2020-06-11\", \"Province_State\": \"New York\", \"New cases\": 810, \"rolling_average\": 805.7142857142857}, {\"Date\": \"2020-06-12\", \"Province_State\": \"New York\", \"New cases\": 816, \"rolling_average\": 761.8571428571429}, {\"Date\": \"2020-06-13\", \"Province_State\": \"New York\", \"New cases\": 760, \"rolling_average\": 719.7142857142857}, {\"Date\": \"2020-06-14\", \"Province_State\": \"New York\", \"New cases\": 693, \"rolling_average\": 696.2857142857143}, {\"Date\": \"2020-06-15\", \"Province_State\": \"New York\", \"New cases\": 667, \"rolling_average\": 686.4285714285714}, {\"Date\": \"2020-06-16\", \"Province_State\": \"New York\", \"New cases\": 509, \"rolling_average\": 673.7142857142857}, {\"Date\": \"2020-06-17\", \"Province_State\": \"New York\", \"New cases\": 411, \"rolling_average\": 666.5714285714286}, {\"Date\": \"2020-06-18\", \"Province_State\": \"New York\", \"New cases\": 699, \"rolling_average\": 650.7142857142857}, {\"Date\": \"2020-06-19\", \"Province_State\": \"New York\", \"New cases\": 824, \"rolling_average\": 651.8571428571429}, {\"Date\": \"2020-06-20\", \"Province_State\": \"New York\", \"New cases\": 695, \"rolling_average\": 642.5714285714286}, {\"Date\": \"2020-06-21\", \"Province_State\": \"New York\", \"New cases\": 666, \"rolling_average\": 638.7142857142857}, {\"Date\": \"2020-06-22\", \"Province_State\": \"New York\", \"New cases\": 642, \"rolling_average\": 635.1428571428571}, {\"Date\": \"2020-06-23\", \"Province_State\": \"New York\", \"New cases\": 501, \"rolling_average\": 634.0}, {\"Date\": \"2020-06-24\", \"Province_State\": \"New York\", \"New cases\": 473, \"rolling_average\": 642.8571428571429}, {\"Date\": \"2020-06-25\", \"Province_State\": \"New York\", \"New cases\": 814, \"rolling_average\": 659.2857142857143}, {\"Date\": \"2020-06-26\", \"Province_State\": \"New York\", \"New cases\": 829, \"rolling_average\": 660.0}, {\"Date\": \"2020-06-27\", \"Province_State\": \"New York\", \"New cases\": 734, \"rolling_average\": 665.5714285714286}, {\"Date\": \"2020-06-28\", \"Province_State\": \"New York\", \"New cases\": 611, \"rolling_average\": 657.7142857142857}, {\"Date\": \"2020-06-29\", \"Province_State\": \"New York\", \"New cases\": 534, \"rolling_average\": 642.2857142857143}, {\"Date\": \"2020-06-30\", \"Province_State\": \"New York\", \"New cases\": 503, \"rolling_average\": 642.5714285714286}, {\"Date\": \"2020-07-01\", \"Province_State\": \"New York\", \"New cases\": 547, \"rolling_average\": 653.1428571428571}, {\"Date\": \"2020-07-02\", \"Province_State\": \"New York\", \"New cases\": 907, \"rolling_average\": 666.4285714285714}, {\"Date\": \"2020-07-03\", \"Province_State\": \"New York\", \"New cases\": 914, \"rolling_average\": 678.5714285714286}, {\"Date\": \"2020-07-04\", \"Province_State\": \"New York\", \"New cases\": 777, \"rolling_average\": 684.7142857142857}, {\"Date\": \"2020-07-05\", \"Province_State\": \"New York\", \"New cases\": 722, \"rolling_average\": 700.5714285714286}, {\"Date\": \"2020-07-06\", \"Province_State\": \"New York\", \"New cases\": 522, \"rolling_average\": 698.8571428571429}, {\"Date\": \"2020-07-07\", \"Province_State\": \"New York\", \"New cases\": 448, \"rolling_average\": 691.0}, {\"Date\": \"2020-07-08\", \"Province_State\": \"New York\", \"New cases\": 568, \"rolling_average\": 694.0}, {\"Date\": \"2020-07-09\", \"Province_State\": \"New York\", \"New cases\": 765, \"rolling_average\": 673.7142857142857}, {\"Date\": \"2020-07-10\", \"Province_State\": \"New York\", \"New cases\": 920, \"rolling_average\": 674.5714285714286}, {\"Date\": \"2020-07-11\", \"Province_State\": \"New York\", \"New cases\": 878, \"rolling_average\": 689.0}, {\"Date\": \"2020-07-12\", \"Province_State\": \"New York\", \"New cases\": 747, \"rolling_average\": 692.5714285714286}, {\"Date\": \"2020-07-13\", \"Province_State\": \"New York\", \"New cases\": 635, \"rolling_average\": 708.7142857142857}, {\"Date\": \"2020-07-14\", \"Province_State\": \"New York\", \"New cases\": 873, \"rolling_average\": 769.4285714285714}, {\"Date\": \"2020-07-15\", \"Province_State\": \"New York\", \"New cases\": 702, \"rolling_average\": 788.5714285714286}, {\"Date\": \"2020-07-16\", \"Province_State\": \"New York\", \"New cases\": 890, \"rolling_average\": 806.4285714285714}, {\"Date\": \"2020-07-17\", \"Province_State\": \"New York\", \"New cases\": 827, \"rolling_average\": 793.1428571428571}, {\"Date\": \"2020-07-18\", \"Province_State\": \"New York\", \"New cases\": 829, \"rolling_average\": 786.1428571428571}, {\"Date\": \"2020-07-19\", \"Province_State\": \"New York\", \"New cases\": 644, \"rolling_average\": 771.4285714285714}, {\"Date\": \"2020-07-20\", \"Province_State\": \"New York\", \"New cases\": 674, \"rolling_average\": 777.0}, {\"Date\": \"2020-07-21\", \"Province_State\": \"New York\", \"New cases\": 700, \"rolling_average\": 752.2857142857143}, {\"Date\": \"2020-07-22\", \"Province_State\": \"New York\", \"New cases\": 556, \"rolling_average\": 731.4285714285714}, {\"Date\": \"2020-07-23\", \"Province_State\": \"New York\", \"New cases\": 853, \"rolling_average\": 726.1428571428571}, {\"Date\": \"2020-07-24\", \"Province_State\": \"New York\", \"New cases\": 750, \"rolling_average\": 715.1428571428571}, {\"Date\": \"2020-07-25\", \"Province_State\": \"New York\", \"New cases\": 760, \"rolling_average\": 705.2857142857143}, {\"Date\": \"2020-07-26\", \"Province_State\": \"New York\", \"New cases\": 628, \"rolling_average\": 703.0}, {\"Date\": \"2020-07-27\", \"Province_State\": \"New York\", \"New cases\": 635, \"rolling_average\": 697.4285714285714}, {\"Date\": \"2020-07-28\", \"Province_State\": \"New York\", \"New cases\": 505, \"rolling_average\": 669.5714285714286}, {\"Date\": \"2020-07-29\", \"Province_State\": \"New York\", \"New cases\": 572, \"rolling_average\": 671.8571428571429}, {\"Date\": \"2020-07-30\", \"Province_State\": \"New York\", \"New cases\": 797, \"rolling_average\": 663.8571428571429}, {\"Date\": \"2020-07-31\", \"Province_State\": \"New York\", \"New cases\": 690, \"rolling_average\": 655.2857142857143}, {\"Date\": \"2020-08-01\", \"Province_State\": \"New York\", \"New cases\": 755, \"rolling_average\": 654.5714285714286}, {\"Date\": \"2020-08-02\", \"Province_State\": \"New York\", \"New cases\": 553, \"rolling_average\": 643.8571428571429}, {\"Date\": \"2020-08-03\", \"Province_State\": \"New York\", \"New cases\": 590, \"rolling_average\": 637.4285714285714}, {\"Date\": \"2020-08-04\", \"Province_State\": \"New York\", \"New cases\": 633, \"rolling_average\": 655.7142857142857}, {\"Date\": \"2020-08-05\", \"Province_State\": \"New York\", \"New cases\": 484, \"rolling_average\": 643.1428571428571}, {\"Date\": \"2020-08-06\", \"Province_State\": \"New York\", \"New cases\": 742, \"rolling_average\": 635.2857142857143}, {\"Date\": \"2020-08-07\", \"Province_State\": \"New York\", \"New cases\": 578, \"rolling_average\": 619.2857142857143}, {\"Date\": \"2020-08-08\", \"Province_State\": \"New York\", \"New cases\": 698, \"rolling_average\": 611.1428571428571}, {\"Date\": \"2020-08-09\", \"Province_State\": \"New York\", \"New cases\": 574, \"rolling_average\": 614.1428571428571}, {\"Date\": \"2020-08-10\", \"Province_State\": \"New York\", \"New cases\": 521, \"rolling_average\": 604.2857142857143}, {\"Date\": \"2020-08-11\", \"Province_State\": \"New York\", \"New cases\": 582, \"rolling_average\": 597.0}, {\"Date\": \"2020-08-12\", \"Province_State\": \"New York\", \"New cases\": 464, \"rolling_average\": 594.1428571428571}, {\"Date\": \"2020-08-13\", \"Province_State\": \"New York\", \"New cases\": 642, \"rolling_average\": 579.8571428571429}, {\"Date\": \"2020-08-14\", \"Province_State\": \"New York\", \"New cases\": 650, \"rolling_average\": 590.1428571428571}, {\"Date\": \"2020-08-15\", \"Province_State\": \"New York\", \"New cases\": 692, \"rolling_average\": 589.2857142857143}, {\"Date\": \"2020-08-16\", \"Province_State\": \"New York\", \"New cases\": 610, \"rolling_average\": 594.4285714285714}, {\"Date\": \"2020-08-17\", \"Province_State\": \"New York\", \"New cases\": 473, \"rolling_average\": 587.5714285714286}, {\"Date\": \"2020-08-18\", \"Province_State\": \"New York\", \"New cases\": 538, \"rolling_average\": 581.2857142857143}, {\"Date\": \"2020-08-19\", \"Province_State\": \"New York\", \"New cases\": 517, \"rolling_average\": 588.8571428571429}, {\"Date\": \"2020-08-20\", \"Province_State\": \"New York\", \"New cases\": 683, \"rolling_average\": 594.7142857142857}, {\"Date\": \"2020-08-21\", \"Province_State\": \"New York\", \"New cases\": 737, \"rolling_average\": 607.1428571428571}, {\"Date\": \"2020-08-22\", \"Province_State\": \"New York\", \"New cases\": 683, \"rolling_average\": 605.8571428571429}, {\"Date\": \"2020-08-23\", \"Province_State\": \"New York\", \"New cases\": 542, \"rolling_average\": 596.1428571428571}, {\"Date\": \"2020-08-24\", \"Province_State\": \"New York\", \"New cases\": 473, \"rolling_average\": 596.1428571428571}, {\"Date\": \"2020-08-25\", \"Province_State\": \"New York\", \"New cases\": 555, \"rolling_average\": 598.5714285714286}, {\"Date\": \"2020-08-26\", \"Province_State\": \"New York\", \"New cases\": 482, \"rolling_average\": 593.5714285714286}, {\"Date\": \"2020-08-27\", \"Province_State\": \"New York\", \"New cases\": 798, \"rolling_average\": 610.0}, {\"Date\": \"2020-08-28\", \"Province_State\": \"New York\", \"New cases\": 669, \"rolling_average\": 600.2857142857143}, {\"Date\": \"2020-08-29\", \"Province_State\": \"New York\", \"New cases\": 694, \"rolling_average\": 601.8571428571429}, {\"Date\": \"2020-08-30\", \"Province_State\": \"New York\", \"New cases\": 713, \"rolling_average\": 626.2857142857143}, {\"Date\": \"2020-08-31\", \"Province_State\": \"New York\", \"New cases\": 685, \"rolling_average\": 656.5714285714286}, {\"Date\": \"2020-09-01\", \"Province_State\": \"New York\", \"New cases\": 603, \"rolling_average\": 663.4285714285714}, {\"Date\": \"2020-09-02\", \"Province_State\": \"New York\", \"New cases\": 648, \"rolling_average\": 687.1428571428571}, {\"Date\": \"2020-09-03\", \"Province_State\": \"New York\", \"New cases\": 917, \"rolling_average\": 704.1428571428571}, {\"Date\": \"2020-09-04\", \"Province_State\": \"New York\", \"New cases\": 870, \"rolling_average\": 732.8571428571429}, {\"Date\": \"2020-09-05\", \"Province_State\": \"New York\", \"New cases\": 820, \"rolling_average\": 750.8571428571429}, {\"Date\": \"2020-09-06\", \"Province_State\": \"New York\", \"New cases\": 736, \"rolling_average\": 754.1428571428571}, {\"Date\": \"2020-09-07\", \"Province_State\": \"New York\", \"New cases\": 567, \"rolling_average\": 737.2857142857143}, {\"Date\": \"2020-09-08\", \"Province_State\": \"New York\", \"New cases\": 502, \"rolling_average\": 722.8571428571429}, {\"Date\": \"2020-09-09\", \"Province_State\": \"New York\", \"New cases\": 592, \"rolling_average\": 714.8571428571429}, {\"Date\": \"2020-09-10\", \"Province_State\": \"New York\", \"New cases\": 662, \"rolling_average\": 678.4285714285714}, {\"Date\": \"2020-09-11\", \"Province_State\": \"New York\", \"New cases\": 1031, \"rolling_average\": 701.4285714285714}, {\"Date\": \"2020-09-12\", \"Province_State\": \"New York\", \"New cases\": 926, \"rolling_average\": 716.5714285714286}, {\"Date\": \"2020-09-13\", \"Province_State\": \"New York\", \"New cases\": 834, \"rolling_average\": 730.5714285714286}, {\"Date\": \"2020-09-14\", \"Province_State\": \"New York\", \"New cases\": 662, \"rolling_average\": 744.1428571428571}, {\"Date\": \"2020-09-15\", \"Province_State\": \"New York\", \"New cases\": 689, \"rolling_average\": 770.8571428571429}, {\"Date\": \"2020-09-16\", \"Province_State\": \"New York\", \"New cases\": 684, \"rolling_average\": 784.0}, {\"Date\": \"2020-09-17\", \"Province_State\": \"New York\", \"New cases\": 1025, \"rolling_average\": 835.8571428571429}, {\"Date\": \"2020-09-18\", \"Province_State\": \"New York\", \"New cases\": 831, \"rolling_average\": 807.2857142857143}, {\"Date\": \"2020-09-19\", \"Province_State\": \"New York\", \"New cases\": 902, \"rolling_average\": 803.8571428571429}, {\"Date\": \"2020-09-20\", \"Province_State\": \"New York\", \"New cases\": 852, \"rolling_average\": 806.4285714285714}, {\"Date\": \"2020-09-21\", \"Province_State\": \"New York\", \"New cases\": 635, \"rolling_average\": 802.5714285714286}, {\"Date\": \"2020-09-22\", \"Province_State\": \"New York\", \"New cases\": 588, \"rolling_average\": 788.1428571428571}, {\"Date\": \"2020-09-23\", \"Province_State\": \"New York\", \"New cases\": 569, \"rolling_average\": 771.7142857142857}, {\"Date\": \"2020-09-24\", \"Province_State\": \"New York\", \"New cases\": 1101, \"rolling_average\": 782.5714285714286}, {\"Date\": \"2020-09-25\", \"Province_State\": \"New York\", \"New cases\": 1000, \"rolling_average\": 806.7142857142857}, {\"Date\": \"2020-09-26\", \"Province_State\": \"New York\", \"New cases\": 1173, \"rolling_average\": 845.4285714285714}, {\"Date\": \"2020-09-27\", \"Province_State\": \"New York\", \"New cases\": 1032, \"rolling_average\": 871.1428571428571}, {\"Date\": \"2020-09-28\", \"Province_State\": \"New York\", \"New cases\": 969, \"rolling_average\": 918.8571428571429}, {\"Date\": \"2020-09-29\", \"Province_State\": \"New York\", \"New cases\": 979, \"rolling_average\": 974.7142857142857}, {\"Date\": \"2020-09-30\", \"Province_State\": \"New York\", \"New cases\": 984, \"rolling_average\": 1034.0}, {\"Date\": \"2020-10-01\", \"Province_State\": \"New York\", \"New cases\": 1324, \"rolling_average\": 1065.857142857143}, {\"Date\": \"2020-10-02\", \"Province_State\": \"New York\", \"New cases\": 1759, \"rolling_average\": 1174.2857142857142}, {\"Date\": \"2020-10-03\", \"Province_State\": \"New York\", \"New cases\": 1687, \"rolling_average\": 1247.7142857142858}, {\"Date\": \"2020-10-04\", \"Province_State\": \"New York\", \"New cases\": 1386, \"rolling_average\": 1298.2857142857142}, {\"Date\": \"2020-10-05\", \"Province_State\": \"New York\", \"New cases\": 1147, \"rolling_average\": 1323.7142857142858}, {\"Date\": \"2020-10-06\", \"Province_State\": \"New York\", \"New cases\": 1149, \"rolling_average\": 1348.0}, {\"Date\": \"2020-10-07\", \"Province_State\": \"New York\", \"New cases\": 1218, \"rolling_average\": 1381.4285714285713}, {\"Date\": \"2020-10-08\", \"Province_State\": \"New York\", \"New cases\": 2078, \"rolling_average\": 1489.142857142857}, {\"Date\": \"2020-10-09\", \"Province_State\": \"New York\", \"New cases\": 1609, \"rolling_average\": 1467.7142857142858}, {\"Date\": \"2020-10-10\", \"Province_State\": \"New York\", \"New cases\": 1503, \"rolling_average\": 1441.4285714285713}, {\"Date\": \"2020-10-11\", \"Province_State\": \"New York\", \"New cases\": 1274, \"rolling_average\": 1425.4285714285713}, {\"Date\": \"2020-10-12\", \"Province_State\": \"New York\", \"New cases\": 1254, \"rolling_average\": 1440.7142857142858}, {\"Date\": \"2020-10-13\", \"Province_State\": \"New York\", \"New cases\": 1204, \"rolling_average\": 1448.5714285714287}, {\"Date\": \"2020-10-14\", \"Province_State\": \"New York\", \"New cases\": 1098, \"rolling_average\": 1431.4285714285713}, {\"Date\": \"2020-10-15\", \"Province_State\": \"New York\", \"New cases\": 1538, \"rolling_average\": 1354.2857142857142}, {\"Date\": \"2020-10-16\", \"Province_State\": \"New York\", \"New cases\": 1747, \"rolling_average\": 1374.0}, {\"Date\": \"2020-10-17\", \"Province_State\": \"New York\", \"New cases\": 1695, \"rolling_average\": 1401.4285714285713}, {\"Date\": \"2020-10-18\", \"Province_State\": \"New York\", \"New cases\": 1512, \"rolling_average\": 1435.4285714285713}, {\"Date\": \"2020-10-19\", \"Province_State\": \"New York\", \"New cases\": 1209, \"rolling_average\": 1429.0}, {\"Date\": \"2020-10-20\", \"Province_State\": \"New York\", \"New cases\": 1238, \"rolling_average\": 1433.857142857143}, {\"Date\": \"2020-10-21\", \"Province_State\": \"New York\", \"New cases\": 1716, \"rolling_average\": 1522.142857142857}, {\"Date\": \"2020-10-22\", \"Province_State\": \"New York\", \"New cases\": 1892, \"rolling_average\": 1572.7142857142858}, {\"Date\": \"2020-10-23\", \"Province_State\": \"New York\", \"New cases\": 1834, \"rolling_average\": 1585.142857142857}, {\"Date\": \"2020-10-24\", \"Province_State\": \"New York\", \"New cases\": 2124, \"rolling_average\": 1646.4285714285713}, {\"Date\": \"2020-10-25\", \"Province_State\": \"New York\", \"New cases\": 1920, \"rolling_average\": 1704.7142857142858}, {\"Date\": \"2020-10-26\", \"Province_State\": \"New York\", \"New cases\": 1545, \"rolling_average\": 1752.7142857142858}, {\"Date\": \"2020-10-27\", \"Province_State\": \"New York\", \"New cases\": 1781, \"rolling_average\": 1830.2857142857142}, {\"Date\": \"2020-10-28\", \"Province_State\": \"New York\", \"New cases\": 1711, \"rolling_average\": 1829.5714285714287}, {\"Date\": \"2020-10-29\", \"Province_State\": \"New York\", \"New cases\": 2351, \"rolling_average\": 1895.142857142857}, {\"Date\": \"2020-10-30\", \"Province_State\": \"New York\", \"New cases\": 2328, \"rolling_average\": 1965.7142857142858}, {\"Date\": \"2020-10-31\", \"Province_State\": \"New York\", \"New cases\": 2393, \"rolling_average\": 2004.142857142857}, {\"Date\": \"2020-11-01\", \"Province_State\": \"New York\", \"New cases\": 2122, \"rolling_average\": 2033.0}, {\"Date\": \"2020-11-02\", \"Province_State\": \"New York\", \"New cases\": 1870, \"rolling_average\": 2079.4285714285716}, {\"Date\": \"2020-11-03\", \"Province_State\": \"New York\", \"New cases\": 2069, \"rolling_average\": 2120.5714285714284}, {\"Date\": \"2020-11-04\", \"Province_State\": \"New York\", \"New cases\": 2068, \"rolling_average\": 2171.5714285714284}, {\"Date\": \"2020-11-05\", \"Province_State\": \"New York\", \"New cases\": 3217, \"rolling_average\": 2295.285714285714}, {\"Date\": \"2020-11-06\", \"Province_State\": \"New York\", \"New cases\": 3211, \"rolling_average\": 2421.4285714285716}, {\"Date\": \"2020-11-07\", \"Province_State\": \"New York\", \"New cases\": 3900, \"rolling_average\": 2636.714285714286}, {\"Date\": \"2020-11-08\", \"Province_State\": \"New York\", \"New cases\": 3579, \"rolling_average\": 2844.8571428571427}, {\"Date\": \"2020-11-09\", \"Province_State\": \"New York\", \"New cases\": 3446, \"rolling_average\": 3070.0}, {\"Date\": \"2020-11-10\", \"Province_State\": \"New York\", \"New cases\": 3957, \"rolling_average\": 3339.714285714286}, {\"Date\": \"2020-11-11\", \"Province_State\": \"New York\", \"New cases\": 4253, \"rolling_average\": 3651.8571428571427}, {\"Date\": \"2020-11-12\", \"Province_State\": \"New York\", \"New cases\": 5225, \"rolling_average\": 3938.714285714286}, {\"Date\": \"2020-11-13\", \"Province_State\": \"New York\", \"New cases\": 5666, \"rolling_average\": 4289.428571428572}, {\"Date\": \"2020-11-14\", \"Province_State\": \"New York\", \"New cases\": 5577, \"rolling_average\": 4529.0}, {\"Date\": \"2020-11-15\", \"Province_State\": \"New York\", \"New cases\": 4192, \"rolling_average\": 4616.571428571428}, {\"Date\": \"2020-11-16\", \"Province_State\": \"New York\", \"New cases\": 4210, \"rolling_average\": 4725.714285714285}, {\"Date\": \"2020-11-17\", \"Province_State\": \"New York\", \"New cases\": 4612, \"rolling_average\": 4819.285714285715}, {\"Date\": \"2020-11-18\", \"Province_State\": \"New York\", \"New cases\": 4876, \"rolling_average\": 4908.285714285715}, {\"Date\": \"2020-11-19\", \"Province_State\": \"New York\", \"New cases\": 5824, \"rolling_average\": 4993.857142857143}, {\"Date\": \"2020-11-20\", \"Province_State\": \"New York\", \"New cases\": 5733, \"rolling_average\": 5003.428571428572}, {\"Date\": \"2020-11-21\", \"Province_State\": \"New York\", \"New cases\": 6312, \"rolling_average\": 5108.428571428572}, {\"Date\": \"2020-11-22\", \"Province_State\": \"New York\", \"New cases\": 5680, \"rolling_average\": 5321.0}, {\"Date\": \"2020-11-23\", \"Province_State\": \"New York\", \"New cases\": 6437, \"rolling_average\": 5639.142857142857}, {\"Date\": \"2020-11-24\", \"Province_State\": \"New York\", \"New cases\": 4882, \"rolling_average\": 5677.714285714285}, {\"Date\": \"2020-11-25\", \"Province_State\": \"New York\", \"New cases\": 6033, \"rolling_average\": 5843.0}, {\"Date\": \"2020-11-26\", \"Province_State\": \"New York\", \"New cases\": 7312, \"rolling_average\": 6055.571428571428}, {\"Date\": \"2020-11-27\", \"Province_State\": \"New York\", \"New cases\": 8278, \"rolling_average\": 6419.142857142857}, {\"Date\": \"2020-11-28\", \"Province_State\": \"New York\", \"New cases\": 6861, \"rolling_average\": 6497.571428571428}, {\"Date\": \"2020-11-29\", \"Province_State\": \"New York\", \"New cases\": 5478, \"rolling_average\": 6468.714285714285}, {\"Date\": \"2020-11-30\", \"Province_State\": \"New York\", \"New cases\": 7772, \"rolling_average\": 6659.428571428572}, {\"Date\": \"2020-12-01\", \"Province_State\": \"New York\", \"New cases\": 7087, \"rolling_average\": 6974.428571428572}, {\"Date\": \"2020-12-02\", \"Province_State\": \"New York\", \"New cases\": 8135, \"rolling_average\": 7274.714285714285}, {\"Date\": \"2020-12-03\", \"Province_State\": \"New York\", \"New cases\": 10148, \"rolling_average\": 7679.857142857143}, {\"Date\": \"2020-12-04\", \"Province_State\": \"New York\", \"New cases\": 11846, \"rolling_average\": 8189.571428571428}, {\"Date\": \"2020-12-05\", \"Province_State\": \"New York\", \"New cases\": 11054, \"rolling_average\": 8788.57142857143}, {\"Date\": \"2020-12-06\", \"Province_State\": \"New York\", \"New cases\": 10151, \"rolling_average\": 9456.142857142857}, {\"Date\": \"2020-12-07\", \"Province_State\": \"New York\", \"New cases\": 8453, \"rolling_average\": 9553.42857142857}, {\"Date\": \"2020-12-08\", \"Province_State\": \"New York\", \"New cases\": 8435, \"rolling_average\": 9746.0}, {\"Date\": \"2020-12-09\", \"Province_State\": \"New York\", \"New cases\": 9258, \"rolling_average\": 9906.42857142857}, {\"Date\": \"2020-12-10\", \"Province_State\": \"New York\", \"New cases\": 11124, \"rolling_average\": 10045.857142857143}, {\"Date\": \"2020-12-11\", \"Province_State\": \"New York\", \"New cases\": 11124, \"rolling_average\": 9942.714285714286}, {\"Date\": \"2020-12-12\", \"Province_State\": \"New York\", \"New cases\": 11000, \"rolling_average\": 9935.0}, {\"Date\": \"2020-12-13\", \"Province_State\": \"New York\", \"New cases\": 10587, \"rolling_average\": 9997.285714285714}, {\"Date\": \"2020-12-14\", \"Province_State\": \"New York\", \"New cases\": 10138, \"rolling_average\": 10238.0}, {\"Date\": \"2020-12-15\", \"Province_State\": \"New York\", \"New cases\": 8964, \"rolling_average\": 10313.57142857143}, {\"Date\": \"2020-12-16\", \"Province_State\": \"New York\", \"New cases\": 9419, \"rolling_average\": 10336.57142857143}, {\"Date\": \"2020-12-17\", \"Province_State\": \"New York\", \"New cases\": 11723, \"rolling_average\": 10422.142857142857}, {\"Date\": \"2020-12-18\", \"Province_State\": \"New York\", \"New cases\": 12652, \"rolling_average\": 10640.42857142857}, {\"Date\": \"2020-12-19\", \"Province_State\": \"New York\", \"New cases\": 10067, \"rolling_average\": 10507.142857142857}, {\"Date\": \"2020-12-20\", \"Province_State\": \"New York\", \"New cases\": 9305, \"rolling_average\": 10324.0}, {\"Date\": \"2020-12-21\", \"Province_State\": \"New York\", \"New cases\": 9805, \"rolling_average\": 10276.42857142857}, {\"Date\": \"2020-12-22\", \"Province_State\": \"New York\", \"New cases\": 9393, \"rolling_average\": 10337.714285714286}, {\"Date\": \"2020-12-23\", \"Province_State\": \"New York\", \"New cases\": 10532, \"rolling_average\": 10496.714285714286}, {\"Date\": \"2020-12-24\", \"Province_State\": \"New York\", \"New cases\": 13024, \"rolling_average\": 10682.57142857143}, {\"Date\": \"2020-12-25\", \"Province_State\": \"New York\", \"New cases\": 13048, \"rolling_average\": 10739.142857142857}, {\"Date\": \"2020-12-26\", \"Province_State\": \"New York\", \"New cases\": 11129, \"rolling_average\": 10890.857142857143}, {\"Date\": \"2020-12-27\", \"Province_State\": \"New York\", \"New cases\": 8008, \"rolling_average\": 10705.57142857143}, {\"Date\": \"2020-12-28\", \"Province_State\": \"New York\", \"New cases\": 8268, \"rolling_average\": 10486.0}, {\"Date\": \"2020-12-29\", \"Province_State\": \"New York\", \"New cases\": 10154, \"rolling_average\": 10594.714285714286}, {\"Date\": \"2020-12-30\", \"Province_State\": \"New York\", \"New cases\": 12919, \"rolling_average\": 10935.714285714286}, {\"Date\": \"2020-12-31\", \"Province_State\": \"New York\", \"New cases\": 15388, \"rolling_average\": 11273.42857142857}, {\"Date\": \"2021-01-01\", \"Province_State\": \"New York\", \"New cases\": 17033, \"rolling_average\": 11842.714285714286}, {\"Date\": \"2021-01-02\", \"Province_State\": \"New York\", \"New cases\": 15846, \"rolling_average\": 12516.57142857143}, {\"Date\": \"2021-01-03\", \"Province_State\": \"New York\", \"New cases\": 12232, \"rolling_average\": 13120.0}, {\"Date\": \"2021-01-04\", \"Province_State\": \"New York\", \"New cases\": 11242, \"rolling_average\": 13544.857142857143}, {\"Date\": \"2021-01-05\", \"Province_State\": \"New York\", \"New cases\": 13140, \"rolling_average\": 13971.42857142857}, {\"Date\": \"2021-01-06\", \"Province_State\": \"New York\", \"New cases\": 16026, \"rolling_average\": 14415.285714285714}, {\"Date\": \"2021-01-07\", \"Province_State\": \"New York\", \"New cases\": 17586, \"rolling_average\": 14729.285714285714}, {\"Date\": \"2021-01-08\", \"Province_State\": \"New York\", \"New cases\": 19558, \"rolling_average\": 15090.0}]}}, {\"mode\": \"vega-lite\"});\n",
              "</script>"
            ]
          },
          "metadata": {
            "tags": []
          },
          "execution_count": 65
        }
      ]
    },
    {
      "cell_type": "code",
      "metadata": {
        "id": "Q8YXkJ8yBfNC",
        "colab": {
          "base_uri": "https://localhost:8080/",
          "height": 430
        },
        "outputId": "e698ab72-bb9e-45fb-c260-8dcb909d5a28"
      },
      "source": [
        "red = alt.value(\"#f54242\")\n",
        "##Ca data\n",
        "#base_ca.encode(y='Confirmed').properties(title='Total Confirmed') | base_ca.encode(y='Deaths',color = red).properties(title='Total deaths')\n",
        "base_tx.encode(y='New cases').properties(title='TX State- New cases') | base_tx.encode(y='rolling_average',color = red).properties(title='Rolling Average')"
      ],
      "execution_count": 64,
      "outputs": [
        {
          "output_type": "execute_result",
          "data": {
            "text/plain": [
              "alt.HConcatChart(...)"
            ],
            "text/html": [
              "\n",
              "<div id=\"altair-viz-d17dd389ef91481da66fab65420f266f\"></div>\n",
              "<script type=\"text/javascript\">\n",
              "  (function(spec, embedOpt){\n",
              "    let outputDiv = document.currentScript.previousElementSibling;\n",
              "    if (outputDiv.id !== \"altair-viz-d17dd389ef91481da66fab65420f266f\") {\n",
              "      outputDiv = document.getElementById(\"altair-viz-d17dd389ef91481da66fab65420f266f\");\n",
              "    }\n",
              "    const paths = {\n",
              "      \"vega\": \"https://cdn.jsdelivr.net/npm//vega@5?noext\",\n",
              "      \"vega-lib\": \"https://cdn.jsdelivr.net/npm//vega-lib?noext\",\n",
              "      \"vega-lite\": \"https://cdn.jsdelivr.net/npm//vega-lite@4.8.1?noext\",\n",
              "      \"vega-embed\": \"https://cdn.jsdelivr.net/npm//vega-embed@6?noext\",\n",
              "    };\n",
              "\n",
              "    function loadScript(lib) {\n",
              "      return new Promise(function(resolve, reject) {\n",
              "        var s = document.createElement('script');\n",
              "        s.src = paths[lib];\n",
              "        s.async = true;\n",
              "        s.onload = () => resolve(paths[lib]);\n",
              "        s.onerror = () => reject(`Error loading script: ${paths[lib]}`);\n",
              "        document.getElementsByTagName(\"head\")[0].appendChild(s);\n",
              "      });\n",
              "    }\n",
              "\n",
              "    function showError(err) {\n",
              "      outputDiv.innerHTML = `<div class=\"error\" style=\"color:red;\">${err}</div>`;\n",
              "      throw err;\n",
              "    }\n",
              "\n",
              "    function displayChart(vegaEmbed) {\n",
              "      vegaEmbed(outputDiv, spec, embedOpt)\n",
              "        .catch(err => showError(`Javascript Error: ${err.message}<br>This usually means there's a typo in your chart specification. See the javascript console for the full traceback.`));\n",
              "    }\n",
              "\n",
              "    if(typeof define === \"function\" && define.amd) {\n",
              "      requirejs.config({paths});\n",
              "      require([\"vega-embed\"], displayChart, err => showError(`Error loading script: ${err.message}`));\n",
              "    } else if (typeof vegaEmbed === \"function\") {\n",
              "      displayChart(vegaEmbed);\n",
              "    } else {\n",
              "      loadScript(\"vega\")\n",
              "        .then(() => loadScript(\"vega-lite\"))\n",
              "        .then(() => loadScript(\"vega-embed\"))\n",
              "        .catch(showError)\n",
              "        .then(() => displayChart(vegaEmbed));\n",
              "    }\n",
              "  })({\"config\": {\"view\": {\"continuousWidth\": 400, \"continuousHeight\": 300}}, \"hconcat\": [{\"mark\": \"bar\", \"encoding\": {\"x\": {\"type\": \"ordinal\", \"field\": \"Date\", \"timeUnit\": \"monthdate\"}, \"y\": {\"type\": \"quantitative\", \"field\": \"New cases\"}}, \"title\": \"TX State- New cases\", \"width\": 500}, {\"mark\": \"bar\", \"encoding\": {\"color\": {\"value\": \"#f54242\"}, \"x\": {\"type\": \"ordinal\", \"field\": \"Date\", \"timeUnit\": \"monthdate\"}, \"y\": {\"type\": \"quantitative\", \"field\": \"rolling_average\"}}, \"title\": \"Rolling Average\", \"width\": 500}], \"data\": {\"name\": \"data-775625d70b2cc64d1a017158bea5c5e1\"}, \"$schema\": \"https://vega.github.io/schema/vega-lite/v4.8.1.json\", \"datasets\": {\"data-775625d70b2cc64d1a017158bea5c5e1\": [{\"Date\": \"2020-01-22\", \"Province_State\": \"Texas\", \"New cases\": 0, \"rolling_average\": null}, {\"Date\": \"2020-01-23\", \"Province_State\": \"Texas\", \"New cases\": 0, \"rolling_average\": null}, {\"Date\": \"2020-01-24\", \"Province_State\": \"Texas\", \"New cases\": 0, \"rolling_average\": null}, {\"Date\": \"2020-01-25\", \"Province_State\": \"Texas\", \"New cases\": 0, \"rolling_average\": null}, {\"Date\": \"2020-01-26\", \"Province_State\": \"Texas\", \"New cases\": 0, \"rolling_average\": null}, {\"Date\": \"2020-01-27\", \"Province_State\": \"Texas\", \"New cases\": 0, \"rolling_average\": null}, {\"Date\": \"2020-01-28\", \"Province_State\": \"Texas\", \"New cases\": 0, \"rolling_average\": 0.0}, {\"Date\": \"2020-01-29\", \"Province_State\": \"Texas\", \"New cases\": 0, \"rolling_average\": 0.0}, {\"Date\": \"2020-01-30\", \"Province_State\": \"Texas\", \"New cases\": 0, \"rolling_average\": 0.0}, {\"Date\": \"2020-01-31\", \"Province_State\": \"Texas\", \"New cases\": 0, \"rolling_average\": 0.0}, {\"Date\": \"2020-02-01\", \"Province_State\": \"Texas\", \"New cases\": 0, \"rolling_average\": 0.0}, {\"Date\": \"2020-02-02\", \"Province_State\": \"Texas\", \"New cases\": 0, \"rolling_average\": 0.0}, {\"Date\": \"2020-02-03\", \"Province_State\": \"Texas\", \"New cases\": 0, \"rolling_average\": 0.0}, {\"Date\": \"2020-02-04\", \"Province_State\": \"Texas\", \"New cases\": 0, \"rolling_average\": 0.0}, {\"Date\": \"2020-02-05\", \"Province_State\": \"Texas\", \"New cases\": 0, \"rolling_average\": 0.0}, {\"Date\": \"2020-02-06\", \"Province_State\": \"Texas\", \"New cases\": 0, \"rolling_average\": 0.0}, {\"Date\": \"2020-02-07\", \"Province_State\": \"Texas\", \"New cases\": 0, \"rolling_average\": 0.0}, {\"Date\": \"2020-02-08\", \"Province_State\": \"Texas\", \"New cases\": 0, \"rolling_average\": 0.0}, {\"Date\": \"2020-02-09\", \"Province_State\": \"Texas\", \"New cases\": 0, \"rolling_average\": 0.0}, {\"Date\": \"2020-02-10\", \"Province_State\": \"Texas\", \"New cases\": 0, \"rolling_average\": 0.0}, {\"Date\": \"2020-02-11\", \"Province_State\": \"Texas\", \"New cases\": 0, \"rolling_average\": 0.0}, {\"Date\": \"2020-02-12\", \"Province_State\": \"Texas\", \"New cases\": 0, \"rolling_average\": 0.0}, {\"Date\": \"2020-02-13\", \"Province_State\": \"Texas\", \"New cases\": 0, \"rolling_average\": 0.0}, {\"Date\": \"2020-02-14\", \"Province_State\": \"Texas\", \"New cases\": 0, \"rolling_average\": 0.0}, {\"Date\": \"2020-02-15\", \"Province_State\": \"Texas\", \"New cases\": 0, \"rolling_average\": 0.0}, {\"Date\": \"2020-02-16\", \"Province_State\": \"Texas\", \"New cases\": 0, \"rolling_average\": 0.0}, {\"Date\": \"2020-02-17\", \"Province_State\": \"Texas\", \"New cases\": 0, \"rolling_average\": 0.0}, {\"Date\": \"2020-02-18\", \"Province_State\": \"Texas\", \"New cases\": 0, \"rolling_average\": 0.0}, {\"Date\": \"2020-02-19\", \"Province_State\": \"Texas\", \"New cases\": 0, \"rolling_average\": 0.0}, {\"Date\": \"2020-02-20\", \"Province_State\": \"Texas\", \"New cases\": 0, \"rolling_average\": 0.0}, {\"Date\": \"2020-02-21\", \"Province_State\": \"Texas\", \"New cases\": 0, \"rolling_average\": 0.0}, {\"Date\": \"2020-02-22\", \"Province_State\": \"Texas\", \"New cases\": 0, \"rolling_average\": 0.0}, {\"Date\": \"2020-02-23\", \"Province_State\": \"Texas\", \"New cases\": 0, \"rolling_average\": 0.0}, {\"Date\": \"2020-02-24\", \"Province_State\": \"Texas\", \"New cases\": 0, \"rolling_average\": 0.0}, {\"Date\": \"2020-02-25\", \"Province_State\": \"Texas\", \"New cases\": 0, \"rolling_average\": 0.0}, {\"Date\": \"2020-02-26\", \"Province_State\": \"Texas\", \"New cases\": 0, \"rolling_average\": 0.0}, {\"Date\": \"2020-02-27\", \"Province_State\": \"Texas\", \"New cases\": 0, \"rolling_average\": 0.0}, {\"Date\": \"2020-02-28\", \"Province_State\": \"Texas\", \"New cases\": 0, \"rolling_average\": 0.0}, {\"Date\": \"2020-02-29\", \"Province_State\": \"Texas\", \"New cases\": 0, \"rolling_average\": 0.0}, {\"Date\": \"2020-03-01\", \"Province_State\": \"Texas\", \"New cases\": 0, \"rolling_average\": 0.0}, {\"Date\": \"2020-03-02\", \"Province_State\": \"Texas\", \"New cases\": 0, \"rolling_average\": 0.0}, {\"Date\": \"2020-03-03\", \"Province_State\": \"Texas\", \"New cases\": 0, \"rolling_average\": 0.0}, {\"Date\": \"2020-03-04\", \"Province_State\": \"Texas\", \"New cases\": 0, \"rolling_average\": 0.0}, {\"Date\": \"2020-03-05\", \"Province_State\": \"Texas\", \"New cases\": 3, \"rolling_average\": 0.42857142857142855}, {\"Date\": \"2020-03-06\", \"Province_State\": \"Texas\", \"New cases\": 1, \"rolling_average\": 0.5714285714285714}, {\"Date\": \"2020-03-07\", \"Province_State\": \"Texas\", \"New cases\": 4, \"rolling_average\": 1.1428571428571428}, {\"Date\": \"2020-03-08\", \"Province_State\": \"Texas\", \"New cases\": 3, \"rolling_average\": 1.5714285714285714}, {\"Date\": \"2020-03-09\", \"Province_State\": \"Texas\", \"New cases\": 2, \"rolling_average\": 1.8571428571428572}, {\"Date\": \"2020-03-10\", \"Province_State\": \"Texas\", \"New cases\": 3, \"rolling_average\": 2.2857142857142856}, {\"Date\": \"2020-03-11\", \"Province_State\": \"Texas\", \"New cases\": 5, \"rolling_average\": 3.0}, {\"Date\": \"2020-03-12\", \"Province_State\": \"Texas\", \"New cases\": 6, \"rolling_average\": 3.4285714285714284}, {\"Date\": \"2020-03-13\", \"Province_State\": \"Texas\", \"New cases\": 17, \"rolling_average\": 5.714285714285714}, {\"Date\": \"2020-03-14\", \"Province_State\": \"Texas\", \"New cases\": 16, \"rolling_average\": 7.428571428571429}, {\"Date\": \"2020-03-15\", \"Province_State\": \"Texas\", \"New cases\": 4, \"rolling_average\": 7.571428571428571}, {\"Date\": \"2020-03-16\", \"Province_State\": \"Texas\", \"New cases\": 21, \"rolling_average\": 10.285714285714286}, {\"Date\": \"2020-03-17\", \"Province_State\": \"Texas\", \"New cases\": 26, \"rolling_average\": 13.571428571428571}, {\"Date\": \"2020-03-18\", \"Province_State\": \"Texas\", \"New cases\": 86, \"rolling_average\": 25.142857142857142}, {\"Date\": \"2020-03-19\", \"Province_State\": \"Texas\", \"New cases\": 106, \"rolling_average\": 39.42857142857143}, {\"Date\": \"2020-03-20\", \"Province_State\": \"Texas\", \"New cases\": 123, \"rolling_average\": 54.57142857142857}, {\"Date\": \"2020-03-21\", \"Province_State\": \"Texas\", \"New cases\": 113, \"rolling_average\": 68.42857142857143}, {\"Date\": \"2020-03-22\", \"Province_State\": \"Texas\", \"New cases\": 104, \"rolling_average\": 82.71428571428571}, {\"Date\": \"2020-03-23\", \"Province_State\": \"Texas\", \"New cases\": 121, \"rolling_average\": 97.0}, {\"Date\": \"2020-03-24\", \"Province_State\": \"Texas\", \"New cases\": 204, \"rolling_average\": 122.42857142857143}, {\"Date\": \"2020-03-25\", \"Province_State\": \"Texas\", \"New cases\": 280, \"rolling_average\": 150.14285714285714}, {\"Date\": \"2020-03-26\", \"Province_State\": \"Texas\", \"New cases\": 315, \"rolling_average\": 180.0}, {\"Date\": \"2020-03-27\", \"Province_State\": \"Texas\", \"New cases\": 374, \"rolling_average\": 215.85714285714286}, {\"Date\": \"2020-03-28\", \"Province_State\": \"Texas\", \"New cases\": 518, \"rolling_average\": 273.7142857142857}, {\"Date\": \"2020-03-29\", \"Province_State\": \"Texas\", \"New cases\": 337, \"rolling_average\": 307.0}, {\"Date\": \"2020-03-30\", \"Province_State\": \"Texas\", \"New cases\": 381, \"rolling_average\": 344.14285714285717}, {\"Date\": \"2020-03-31\", \"Province_State\": \"Texas\", \"New cases\": 636, \"rolling_average\": 405.85714285714283}, {\"Date\": \"2020-04-01\", \"Province_State\": \"Texas\", \"New cases\": 500, \"rolling_average\": 437.2857142857143}, {\"Date\": \"2020-04-02\", \"Province_State\": \"Texas\", \"New cases\": 675, \"rolling_average\": 488.7142857142857}, {\"Date\": \"2020-04-03\", \"Province_State\": \"Texas\", \"New cases\": 771, \"rolling_average\": 545.4285714285714}, {\"Date\": \"2020-04-04\", \"Province_State\": \"Texas\", \"New cases\": 841, \"rolling_average\": 591.5714285714286}, {\"Date\": \"2020-04-05\", \"Province_State\": \"Texas\", \"New cases\": 647, \"rolling_average\": 635.8571428571429}, {\"Date\": \"2020-04-06\", \"Province_State\": \"Texas\", \"New cases\": 865, \"rolling_average\": 705.0}, {\"Date\": \"2020-04-07\", \"Province_State\": \"Texas\", \"New cases\": 888, \"rolling_average\": 741.0}, {\"Date\": \"2020-04-08\", \"Province_State\": \"Texas\", \"New cases\": 862, \"rolling_average\": 792.7142857142857}, {\"Date\": \"2020-04-09\", \"Province_State\": \"Texas\", \"New cases\": 1418, \"rolling_average\": 898.8571428571429}, {\"Date\": \"2020-04-10\", \"Province_State\": \"Texas\", \"New cases\": 951, \"rolling_average\": 924.5714285714286}, {\"Date\": \"2020-04-11\", \"Province_State\": \"Texas\", \"New cases\": 918, \"rolling_average\": 935.5714285714286}, {\"Date\": \"2020-04-12\", \"Province_State\": \"Texas\", \"New cases\": 635, \"rolling_average\": 933.8571428571429}, {\"Date\": \"2020-04-13\", \"Province_State\": \"Texas\", \"New cases\": 548, \"rolling_average\": 888.5714285714286}, {\"Date\": \"2020-04-14\", \"Province_State\": \"Texas\", \"New cases\": 760, \"rolling_average\": 870.2857142857143}, {\"Date\": \"2020-04-15\", \"Province_State\": \"Texas\", \"New cases\": 956, \"rolling_average\": 883.7142857142857}, {\"Date\": \"2020-04-16\", \"Province_State\": \"Texas\", \"New cases\": 941, \"rolling_average\": 815.5714285714286}, {\"Date\": \"2020-04-17\", \"Province_State\": \"Texas\", \"New cases\": 940, \"rolling_average\": 814.0}, {\"Date\": \"2020-04-18\", \"Province_State\": \"Texas\", \"New cases\": 799, \"rolling_average\": 797.0}, {\"Date\": \"2020-04-19\", \"Province_State\": \"Texas\", \"New cases\": 558, \"rolling_average\": 786.0}, {\"Date\": \"2020-04-20\", \"Province_State\": \"Texas\", \"New cases\": 565, \"rolling_average\": 788.4285714285714}, {\"Date\": \"2020-04-21\", \"Province_State\": \"Texas\", \"New cases\": 938, \"rolling_average\": 813.8571428571429}, {\"Date\": \"2020-04-22\", \"Province_State\": \"Texas\", \"New cases\": 792, \"rolling_average\": 790.4285714285714}, {\"Date\": \"2020-04-23\", \"Province_State\": \"Texas\", \"New cases\": 1220, \"rolling_average\": 830.2857142857143}, {\"Date\": \"2020-04-24\", \"Province_State\": \"Texas\", \"New cases\": 975, \"rolling_average\": 835.2857142857143}, {\"Date\": \"2020-04-25\", \"Province_State\": \"Texas\", \"New cases\": 515, \"rolling_average\": 794.7142857142857}, {\"Date\": \"2020-04-26\", \"Province_State\": \"Texas\", \"New cases\": 764, \"rolling_average\": 824.1428571428571}, {\"Date\": \"2020-04-27\", \"Province_State\": \"Texas\", \"New cases\": 514, \"rolling_average\": 816.8571428571429}, {\"Date\": \"2020-04-28\", \"Province_State\": \"Texas\", \"New cases\": 941, \"rolling_average\": 817.2857142857143}, {\"Date\": \"2020-04-29\", \"Province_State\": \"Texas\", \"New cases\": 1036, \"rolling_average\": 852.1428571428571}, {\"Date\": \"2020-04-30\", \"Province_State\": \"Texas\", \"New cases\": 1348, \"rolling_average\": 870.4285714285714}, {\"Date\": \"2020-05-01\", \"Province_State\": \"Texas\", \"New cases\": 1080, \"rolling_average\": 885.4285714285714}, {\"Date\": \"2020-05-02\", \"Province_State\": \"Texas\", \"New cases\": 1156, \"rolling_average\": 977.0}, {\"Date\": \"2020-05-03\", \"Province_State\": \"Texas\", \"New cases\": 997, \"rolling_average\": 1010.2857142857143}, {\"Date\": \"2020-05-04\", \"Province_State\": \"Texas\", \"New cases\": 766, \"rolling_average\": 1046.2857142857142}, {\"Date\": \"2020-05-05\", \"Province_State\": \"Texas\", \"New cases\": 1248, \"rolling_average\": 1090.142857142857}, {\"Date\": \"2020-05-06\", \"Province_State\": \"Texas\", \"New cases\": 1088, \"rolling_average\": 1097.5714285714287}, {\"Date\": \"2020-05-07\", \"Province_State\": \"Texas\", \"New cases\": 1019, \"rolling_average\": 1050.5714285714287}, {\"Date\": \"2020-05-08\", \"Province_State\": \"Texas\", \"New cases\": 1286, \"rolling_average\": 1080.0}, {\"Date\": \"2020-05-09\", \"Province_State\": \"Texas\", \"New cases\": 1453, \"rolling_average\": 1122.4285714285713}, {\"Date\": \"2020-05-10\", \"Province_State\": \"Texas\", \"New cases\": 824, \"rolling_average\": 1097.7142857142858}, {\"Date\": \"2020-05-11\", \"Province_State\": \"Texas\", \"New cases\": 894, \"rolling_average\": 1116.0}, {\"Date\": \"2020-05-12\", \"Province_State\": \"Texas\", \"New cases\": 1329, \"rolling_average\": 1127.5714285714287}, {\"Date\": \"2020-05-13\", \"Province_State\": \"Texas\", \"New cases\": 1426, \"rolling_average\": 1175.857142857143}, {\"Date\": \"2020-05-14\", \"Province_State\": \"Texas\", \"New cases\": 1245, \"rolling_average\": 1208.142857142857}, {\"Date\": \"2020-05-15\", \"Province_State\": \"Texas\", \"New cases\": 1190, \"rolling_average\": 1194.4285714285713}, {\"Date\": \"2020-05-16\", \"Province_State\": \"Texas\", \"New cases\": 1759, \"rolling_average\": 1238.142857142857}, {\"Date\": \"2020-05-17\", \"Province_State\": \"Texas\", \"New cases\": 980, \"rolling_average\": 1260.4285714285713}, {\"Date\": \"2020-05-18\", \"Province_State\": \"Texas\", \"New cases\": 770, \"rolling_average\": 1242.7142857142858}, {\"Date\": \"2020-05-19\", \"Province_State\": \"Texas\", \"New cases\": 1340, \"rolling_average\": 1244.2857142857142}, {\"Date\": \"2020-05-20\", \"Province_State\": \"Texas\", \"New cases\": 1245, \"rolling_average\": 1218.4285714285713}, {\"Date\": \"2020-05-21\", \"Province_State\": \"Texas\", \"New cases\": 1294, \"rolling_average\": 1225.4285714285713}, {\"Date\": \"2020-05-22\", \"Province_State\": \"Texas\", \"New cases\": 538, \"rolling_average\": 1132.2857142857142}, {\"Date\": \"2020-05-23\", \"Province_State\": \"Texas\", \"New cases\": 1115, \"rolling_average\": 1040.2857142857142}, {\"Date\": \"2020-05-24\", \"Province_State\": \"Texas\", \"New cases\": 1029, \"rolling_average\": 1047.2857142857142}, {\"Date\": \"2020-05-25\", \"Province_State\": \"Texas\", \"New cases\": 473, \"rolling_average\": 1004.8571428571429}, {\"Date\": \"2020-05-26\", \"Province_State\": \"Texas\", \"New cases\": 1034, \"rolling_average\": 961.1428571428571}, {\"Date\": \"2020-05-27\", \"Province_State\": \"Texas\", \"New cases\": 1370, \"rolling_average\": 979.0}, {\"Date\": \"2020-05-28\", \"Province_State\": \"Texas\", \"New cases\": 1787, \"rolling_average\": 1049.4285714285713}, {\"Date\": \"2020-05-29\", \"Province_State\": \"Texas\", \"New cases\": 629, \"rolling_average\": 1062.4285714285713}, {\"Date\": \"2020-05-30\", \"Province_State\": \"Texas\", \"New cases\": 1791, \"rolling_average\": 1159.0}, {\"Date\": \"2020-05-31\", \"Province_State\": \"Texas\", \"New cases\": 1699, \"rolling_average\": 1254.7142857142858}, {\"Date\": \"2020-06-01\", \"Province_State\": \"Texas\", \"New cases\": 988, \"rolling_average\": 1328.2857142857142}, {\"Date\": \"2020-06-02\", \"Province_State\": \"Texas\", \"New cases\": 1837, \"rolling_average\": 1443.0}, {\"Date\": \"2020-06-03\", \"Province_State\": \"Texas\", \"New cases\": 1553, \"rolling_average\": 1469.142857142857}, {\"Date\": \"2020-06-04\", \"Province_State\": \"Texas\", \"New cases\": 1680, \"rolling_average\": 1453.857142857143}, {\"Date\": \"2020-06-05\", \"Province_State\": \"Texas\", \"New cases\": 1808, \"rolling_average\": 1622.2857142857142}, {\"Date\": \"2020-06-06\", \"Province_State\": \"Texas\", \"New cases\": 2042, \"rolling_average\": 1658.142857142857}, {\"Date\": \"2020-06-07\", \"Province_State\": \"Texas\", \"New cases\": 1045, \"rolling_average\": 1564.7142857142858}, {\"Date\": \"2020-06-08\", \"Province_State\": \"Texas\", \"New cases\": 992, \"rolling_average\": 1565.2857142857142}, {\"Date\": \"2020-06-09\", \"Province_State\": \"Texas\", \"New cases\": 1738, \"rolling_average\": 1551.142857142857}, {\"Date\": \"2020-06-10\", \"Province_State\": \"Texas\", \"New cases\": 2559, \"rolling_average\": 1694.857142857143}, {\"Date\": \"2020-06-11\", \"Province_State\": \"Texas\", \"New cases\": 1954, \"rolling_average\": 1734.0}, {\"Date\": \"2020-06-12\", \"Province_State\": \"Texas\", \"New cases\": 2111, \"rolling_average\": 1777.2857142857142}, {\"Date\": \"2020-06-13\", \"Province_State\": \"Texas\", \"New cases\": 2141, \"rolling_average\": 1791.4285714285713}, {\"Date\": \"2020-06-14\", \"Province_State\": \"Texas\", \"New cases\": 1587, \"rolling_average\": 1868.857142857143}, {\"Date\": \"2020-06-15\", \"Province_State\": \"Texas\", \"New cases\": 1709, \"rolling_average\": 1971.2857142857142}, {\"Date\": \"2020-06-16\", \"Province_State\": \"Texas\", \"New cases\": 3276, \"rolling_average\": 2191.0}, {\"Date\": \"2020-06-17\", \"Province_State\": \"Texas\", \"New cases\": 4355, \"rolling_average\": 2447.5714285714284}, {\"Date\": \"2020-06-18\", \"Province_State\": \"Texas\", \"New cases\": 3447, \"rolling_average\": 2660.8571428571427}, {\"Date\": \"2020-06-19\", \"Province_State\": \"Texas\", \"New cases\": 4069, \"rolling_average\": 2940.5714285714284}, {\"Date\": \"2020-06-20\", \"Province_State\": \"Texas\", \"New cases\": 4615, \"rolling_average\": 3294.0}, {\"Date\": \"2020-06-21\", \"Province_State\": \"Texas\", \"New cases\": 2862, \"rolling_average\": 3476.1428571428573}, {\"Date\": \"2020-06-22\", \"Province_State\": \"Texas\", \"New cases\": 5110, \"rolling_average\": 3962.0}, {\"Date\": \"2020-06-23\", \"Province_State\": \"Texas\", \"New cases\": 5218, \"rolling_average\": 4239.428571428572}, {\"Date\": \"2020-06-24\", \"Province_State\": \"Texas\", \"New cases\": 5770, \"rolling_average\": 4441.571428571428}, {\"Date\": \"2020-06-25\", \"Province_State\": \"Texas\", \"New cases\": 5787, \"rolling_average\": 4775.857142857143}, {\"Date\": \"2020-06-26\", \"Province_State\": \"Texas\", \"New cases\": 5674, \"rolling_average\": 5005.142857142857}, {\"Date\": \"2020-06-27\", \"Province_State\": \"Texas\", \"New cases\": 5583, \"rolling_average\": 5143.428571428572}, {\"Date\": \"2020-06-28\", \"Province_State\": \"Texas\", \"New cases\": 4791, \"rolling_average\": 5419.0}, {\"Date\": \"2020-06-29\", \"Province_State\": \"Texas\", \"New cases\": 6389, \"rolling_average\": 5601.714285714285}, {\"Date\": \"2020-06-30\", \"Province_State\": \"Texas\", \"New cases\": 6303, \"rolling_average\": 5756.714285714285}, {\"Date\": \"2020-07-01\", \"Province_State\": \"Texas\", \"New cases\": 9122, \"rolling_average\": 6235.571428571428}, {\"Date\": \"2020-07-02\", \"Province_State\": \"Texas\", \"New cases\": 7310, \"rolling_average\": 6453.142857142857}, {\"Date\": \"2020-07-03\", \"Province_State\": \"Texas\", \"New cases\": 7358, \"rolling_average\": 6693.714285714285}, {\"Date\": \"2020-07-04\", \"Province_State\": \"Texas\", \"New cases\": 7074, \"rolling_average\": 6906.714285714285}, {\"Date\": \"2020-07-05\", \"Province_State\": \"Texas\", \"New cases\": 4265, \"rolling_average\": 6831.571428571428}, {\"Date\": \"2020-07-06\", \"Province_State\": \"Texas\", \"New cases\": 7544, \"rolling_average\": 6996.571428571428}, {\"Date\": \"2020-07-07\", \"Province_State\": \"Texas\", \"New cases\": 10359, \"rolling_average\": 7576.0}, {\"Date\": \"2020-07-08\", \"Province_State\": \"Texas\", \"New cases\": 9364, \"rolling_average\": 7610.571428571428}, {\"Date\": \"2020-07-09\", \"Province_State\": \"Texas\", \"New cases\": 11659, \"rolling_average\": 8231.857142857143}, {\"Date\": \"2020-07-10\", \"Province_State\": \"Texas\", \"New cases\": 9282, \"rolling_average\": 8506.714285714286}, {\"Date\": \"2020-07-11\", \"Province_State\": \"Texas\", \"New cases\": 8246, \"rolling_average\": 8674.142857142857}, {\"Date\": \"2020-07-12\", \"Province_State\": \"Texas\", \"New cases\": 8231, \"rolling_average\": 9240.714285714286}, {\"Date\": \"2020-07-13\", \"Province_State\": \"Texas\", \"New cases\": 7156, \"rolling_average\": 9185.285714285714}, {\"Date\": \"2020-07-14\", \"Province_State\": \"Texas\", \"New cases\": 10398, \"rolling_average\": 9190.857142857143}, {\"Date\": \"2020-07-15\", \"Province_State\": \"Texas\", \"New cases\": 11372, \"rolling_average\": 9477.714285714286}, {\"Date\": \"2020-07-16\", \"Province_State\": \"Texas\", \"New cases\": 13947, \"rolling_average\": 9804.57142857143}, {\"Date\": \"2020-07-17\", \"Province_State\": \"Texas\", \"New cases\": 11751, \"rolling_average\": 10157.285714285714}, {\"Date\": \"2020-07-18\", \"Province_State\": \"Texas\", \"New cases\": 9436, \"rolling_average\": 10327.285714285714}, {\"Date\": \"2020-07-19\", \"Province_State\": \"Texas\", \"New cases\": 8043, \"rolling_average\": 10300.42857142857}, {\"Date\": \"2020-07-20\", \"Province_State\": \"Texas\", \"New cases\": 8830, \"rolling_average\": 10539.57142857143}, {\"Date\": \"2020-07-21\", \"Province_State\": \"Texas\", \"New cases\": 8283, \"rolling_average\": 10237.42857142857}, {\"Date\": \"2020-07-22\", \"Province_State\": \"Texas\", \"New cases\": 11525, \"rolling_average\": 10259.285714285714}, {\"Date\": \"2020-07-23\", \"Province_State\": \"Texas\", \"New cases\": 9511, \"rolling_average\": 9625.57142857143}, {\"Date\": \"2020-07-24\", \"Province_State\": \"Texas\", \"New cases\": 7359, \"rolling_average\": 8998.142857142857}, {\"Date\": \"2020-07-25\", \"Province_State\": \"Texas\", \"New cases\": 9641, \"rolling_average\": 9027.42857142857}, {\"Date\": \"2020-07-26\", \"Province_State\": \"Texas\", \"New cases\": 3866, \"rolling_average\": 8430.714285714286}, {\"Date\": \"2020-07-27\", \"Province_State\": \"Texas\", \"New cases\": 6450, \"rolling_average\": 8090.714285714285}, {\"Date\": \"2020-07-28\", \"Province_State\": \"Texas\", \"New cases\": 8766, \"rolling_average\": 8159.714285714285}, {\"Date\": \"2020-07-29\", \"Province_State\": \"Texas\", \"New cases\": 10671, \"rolling_average\": 8037.714285714285}, {\"Date\": \"2020-07-30\", \"Province_State\": \"Texas\", \"New cases\": 9023, \"rolling_average\": 7968.0}, {\"Date\": \"2020-07-31\", \"Province_State\": \"Texas\", \"New cases\": 11102, \"rolling_average\": 8502.714285714286}, {\"Date\": \"2020-08-01\", \"Province_State\": \"Texas\", \"New cases\": 6108, \"rolling_average\": 7998.0}, {\"Date\": \"2020-08-02\", \"Province_State\": \"Texas\", \"New cases\": 3188, \"rolling_average\": 7901.142857142857}, {\"Date\": \"2020-08-03\", \"Province_State\": \"Texas\", \"New cases\": 9279, \"rolling_average\": 8305.285714285714}, {\"Date\": \"2020-08-04\", \"Province_State\": \"Texas\", \"New cases\": 10904, \"rolling_average\": 8610.714285714286}, {\"Date\": \"2020-08-05\", \"Province_State\": \"Texas\", \"New cases\": 10544, \"rolling_average\": 8592.57142857143}, {\"Date\": \"2020-08-06\", \"Province_State\": \"Texas\", \"New cases\": 7337, \"rolling_average\": 8351.714285714286}, {\"Date\": \"2020-08-07\", \"Province_State\": \"Texas\", \"New cases\": 7919, \"rolling_average\": 7897.0}, {\"Date\": \"2020-08-08\", \"Province_State\": \"Texas\", \"New cases\": 6603, \"rolling_average\": 7967.714285714285}, {\"Date\": \"2020-08-09\", \"Province_State\": \"Texas\", \"New cases\": 5366, \"rolling_average\": 8278.857142857143}, {\"Date\": \"2020-08-10\", \"Province_State\": \"Texas\", \"New cases\": 6010, \"rolling_average\": 7811.857142857143}, {\"Date\": \"2020-08-11\", \"Province_State\": \"Texas\", \"New cases\": 8276, \"rolling_average\": 7436.428571428572}, {\"Date\": \"2020-08-12\", \"Province_State\": \"Texas\", \"New cases\": 6528, \"rolling_average\": 6862.714285714285}, {\"Date\": \"2020-08-13\", \"Province_State\": \"Texas\", \"New cases\": 7000, \"rolling_average\": 6814.571428571428}, {\"Date\": \"2020-08-14\", \"Province_State\": \"Texas\", \"New cases\": 9957, \"rolling_average\": 7105.714285714285}, {\"Date\": \"2020-08-15\", \"Province_State\": \"Texas\", \"New cases\": 7114, \"rolling_average\": 7178.714285714285}, {\"Date\": \"2020-08-16\", \"Province_State\": \"Texas\", \"New cases\": 7670, \"rolling_average\": 7507.857142857143}, {\"Date\": \"2020-08-17\", \"Province_State\": \"Texas\", \"New cases\": 5495, \"rolling_average\": 7434.285714285715}, {\"Date\": \"2020-08-18\", \"Province_State\": \"Texas\", \"New cases\": 7819, \"rolling_average\": 7369.0}, {\"Date\": \"2020-08-19\", \"Province_State\": \"Texas\", \"New cases\": 5608, \"rolling_average\": 7237.571428571428}, {\"Date\": \"2020-08-20\", \"Province_State\": \"Texas\", \"New cases\": 5222, \"rolling_average\": 6983.571428571428}, {\"Date\": \"2020-08-21\", \"Province_State\": \"Texas\", \"New cases\": 5711, \"rolling_average\": 6377.0}, {\"Date\": \"2020-08-22\", \"Province_State\": \"Texas\", \"New cases\": 3779, \"rolling_average\": 5900.571428571428}, {\"Date\": \"2020-08-23\", \"Province_State\": \"Texas\", \"New cases\": 4654, \"rolling_average\": 5469.714285714285}, {\"Date\": \"2020-08-24\", \"Province_State\": \"Texas\", \"New cases\": 4421, \"rolling_average\": 5316.285714285715}, {\"Date\": \"2020-08-25\", \"Province_State\": \"Texas\", \"New cases\": 6341, \"rolling_average\": 5105.142857142857}, {\"Date\": \"2020-08-26\", \"Province_State\": \"Texas\", \"New cases\": 6238, \"rolling_average\": 5195.142857142857}, {\"Date\": \"2020-08-27\", \"Province_State\": \"Texas\", \"New cases\": 4042, \"rolling_average\": 5026.571428571428}, {\"Date\": \"2020-08-28\", \"Province_State\": \"Texas\", \"New cases\": 5239, \"rolling_average\": 4959.142857142857}, {\"Date\": \"2020-08-29\", \"Province_State\": \"Texas\", \"New cases\": 5039, \"rolling_average\": 5139.142857142857}, {\"Date\": \"2020-08-30\", \"Province_State\": \"Texas\", \"New cases\": 2773, \"rolling_average\": 4870.428571428572}, {\"Date\": \"2020-08-31\", \"Province_State\": \"Texas\", \"New cases\": 3336, \"rolling_average\": 4715.428571428572}, {\"Date\": \"2020-09-01\", \"Province_State\": \"Texas\", \"New cases\": 5030, \"rolling_average\": 4528.142857142857}, {\"Date\": \"2020-09-02\", \"Province_State\": \"Texas\", \"New cases\": 4175, \"rolling_average\": 4233.428571428572}, {\"Date\": \"2020-09-03\", \"Province_State\": \"Texas\", \"New cases\": 3558, \"rolling_average\": 4164.285714285715}, {\"Date\": \"2020-09-04\", \"Province_State\": \"Texas\", \"New cases\": 5988, \"rolling_average\": 4271.285714285715}, {\"Date\": \"2020-09-05\", \"Province_State\": \"Texas\", \"New cases\": 4459, \"rolling_average\": 4188.428571428572}, {\"Date\": \"2020-09-06\", \"Province_State\": \"Texas\", \"New cases\": 2500, \"rolling_average\": 4149.428571428572}, {\"Date\": \"2020-09-07\", \"Province_State\": \"Texas\", \"New cases\": 867, \"rolling_average\": 3796.714285714286}, {\"Date\": \"2020-09-08\", \"Province_State\": \"Texas\", \"New cases\": 3631, \"rolling_average\": 3596.8571428571427}, {\"Date\": \"2020-09-09\", \"Province_State\": \"Texas\", \"New cases\": 4870, \"rolling_average\": 3696.1428571428573}, {\"Date\": \"2020-09-10\", \"Province_State\": \"Texas\", \"New cases\": 1732, \"rolling_average\": 3435.285714285714}, {\"Date\": \"2020-09-11\", \"Province_State\": \"Texas\", \"New cases\": 5930, \"rolling_average\": 3427.0}, {\"Date\": \"2020-09-12\", \"Province_State\": \"Texas\", \"New cases\": 2867, \"rolling_average\": 3199.5714285714284}, {\"Date\": \"2020-09-13\", \"Province_State\": \"Texas\", \"New cases\": 4358, \"rolling_average\": 3465.0}, {\"Date\": \"2020-09-14\", \"Province_State\": \"Texas\", \"New cases\": 4050, \"rolling_average\": 3919.714285714286}, {\"Date\": \"2020-09-15\", \"Province_State\": \"Texas\", \"New cases\": 7025, \"rolling_average\": 4404.571428571428}, {\"Date\": \"2020-09-16\", \"Province_State\": \"Texas\", \"New cases\": 3946, \"rolling_average\": 4272.571428571428}, {\"Date\": \"2020-09-17\", \"Province_State\": \"Texas\", \"New cases\": 4562, \"rolling_average\": 4676.857142857143}, {\"Date\": \"2020-09-18\", \"Province_State\": \"Texas\", \"New cases\": 3449, \"rolling_average\": 4322.428571428572}, {\"Date\": \"2020-09-19\", \"Province_State\": \"Texas\", \"New cases\": 2853, \"rolling_average\": 4320.428571428572}, {\"Date\": \"2020-09-20\", \"Province_State\": \"Texas\", \"New cases\": 5676, \"rolling_average\": 4508.714285714285}, {\"Date\": \"2020-09-21\", \"Province_State\": \"Texas\", \"New cases\": 21760, \"rolling_average\": 7038.714285714285}, {\"Date\": \"2020-09-22\", \"Province_State\": \"Texas\", \"New cases\": 6684, \"rolling_average\": 6990.0}, {\"Date\": \"2020-09-23\", \"Province_State\": \"Texas\", \"New cases\": 1774, \"rolling_average\": 6679.714285714285}, {\"Date\": \"2020-09-24\", \"Province_State\": \"Texas\", \"New cases\": 4866, \"rolling_average\": 6723.142857142857}, {\"Date\": \"2020-09-25\", \"Province_State\": \"Texas\", \"New cases\": 3991, \"rolling_average\": 6800.571428571428}, {\"Date\": \"2020-09-26\", \"Province_State\": \"Texas\", \"New cases\": 3479, \"rolling_average\": 6890.0}, {\"Date\": \"2020-09-27\", \"Province_State\": \"Texas\", \"New cases\": 4722, \"rolling_average\": 6753.714285714285}, {\"Date\": \"2020-09-28\", \"Province_State\": \"Texas\", \"New cases\": 2987, \"rolling_average\": 4071.8571428571427}, {\"Date\": \"2020-09-29\", \"Province_State\": \"Texas\", \"New cases\": 6448, \"rolling_average\": 4038.1428571428573}, {\"Date\": \"2020-09-30\", \"Province_State\": \"Texas\", \"New cases\": 3619, \"rolling_average\": 4301.714285714285}, {\"Date\": \"2020-10-01\", \"Province_State\": \"Texas\", \"New cases\": 3786, \"rolling_average\": 4147.428571428572}, {\"Date\": \"2020-10-02\", \"Province_State\": \"Texas\", \"New cases\": 5855, \"rolling_average\": 4413.714285714285}, {\"Date\": \"2020-10-03\", \"Province_State\": \"Texas\", \"New cases\": 5366, \"rolling_average\": 4683.285714285715}, {\"Date\": \"2020-10-04\", \"Province_State\": \"Texas\", \"New cases\": 2456, \"rolling_average\": 4359.571428571428}, {\"Date\": \"2020-10-05\", \"Province_State\": \"Texas\", \"New cases\": 4273, \"rolling_average\": 4543.285714285715}, {\"Date\": \"2020-10-06\", \"Province_State\": \"Texas\", \"New cases\": 6432, \"rolling_average\": 4541.0}, {\"Date\": \"2020-10-07\", \"Province_State\": \"Texas\", \"New cases\": 5166, \"rolling_average\": 4762.0}, {\"Date\": \"2020-10-08\", \"Province_State\": \"Texas\", \"New cases\": 3936, \"rolling_average\": 4783.428571428572}, {\"Date\": \"2020-10-09\", \"Province_State\": \"Texas\", \"New cases\": 4585, \"rolling_average\": 4602.0}, {\"Date\": \"2020-10-10\", \"Province_State\": \"Texas\", \"New cases\": 4207, \"rolling_average\": 4436.428571428572}, {\"Date\": \"2020-10-11\", \"Province_State\": \"Texas\", \"New cases\": 2077, \"rolling_average\": 4382.285714285715}, {\"Date\": \"2020-10-12\", \"Province_State\": \"Texas\", \"New cases\": 2619, \"rolling_average\": 4146.0}, {\"Date\": \"2020-10-13\", \"Province_State\": \"Texas\", \"New cases\": 5946, \"rolling_average\": 4076.5714285714284}, {\"Date\": \"2020-10-14\", \"Province_State\": \"Texas\", \"New cases\": 6068, \"rolling_average\": 4205.428571428572}, {\"Date\": \"2020-10-15\", \"Province_State\": \"Texas\", \"New cases\": 4888, \"rolling_average\": 4341.428571428572}, {\"Date\": \"2020-10-16\", \"Province_State\": \"Texas\", \"New cases\": 6113, \"rolling_average\": 4559.714285714285}, {\"Date\": \"2020-10-17\", \"Province_State\": \"Texas\", \"New cases\": 4854, \"rolling_average\": 4652.142857142857}, {\"Date\": \"2020-10-18\", \"Province_State\": \"Texas\", \"New cases\": 5507, \"rolling_average\": 5142.142857142857}, {\"Date\": \"2020-10-19\", \"Province_State\": \"Texas\", \"New cases\": 3254, \"rolling_average\": 5232.857142857143}, {\"Date\": \"2020-10-20\", \"Province_State\": \"Texas\", \"New cases\": 5535, \"rolling_average\": 5174.142857142857}, {\"Date\": \"2020-10-21\", \"Province_State\": \"Texas\", \"New cases\": 6948, \"rolling_average\": 5299.857142857143}, {\"Date\": \"2020-10-22\", \"Province_State\": \"Texas\", \"New cases\": 2826, \"rolling_average\": 5005.285714285715}, {\"Date\": \"2020-10-23\", \"Province_State\": \"Texas\", \"New cases\": 7207, \"rolling_average\": 5161.571428571428}, {\"Date\": \"2020-10-24\", \"Province_State\": \"Texas\", \"New cases\": 9669, \"rolling_average\": 5849.428571428572}, {\"Date\": \"2020-10-25\", \"Province_State\": \"Texas\", \"New cases\": 3501, \"rolling_average\": 5562.857142857143}, {\"Date\": \"2020-10-26\", \"Province_State\": \"Texas\", \"New cases\": 6575, \"rolling_average\": 6037.285714285715}, {\"Date\": \"2020-10-27\", \"Province_State\": \"Texas\", \"New cases\": 6878, \"rolling_average\": 6229.142857142857}, {\"Date\": \"2020-10-28\", \"Province_State\": \"Texas\", \"New cases\": 7304, \"rolling_average\": 6280.0}, {\"Date\": \"2020-10-29\", \"Province_State\": \"Texas\", \"New cases\": 6921, \"rolling_average\": 6865.0}, {\"Date\": \"2020-10-30\", \"Province_State\": \"Texas\", \"New cases\": 5951, \"rolling_average\": 6685.571428571428}, {\"Date\": \"2020-10-31\", \"Province_State\": \"Texas\", \"New cases\": 8090, \"rolling_average\": 6460.0}, {\"Date\": \"2020-11-01\", \"Province_State\": \"Texas\", \"New cases\": 32867, \"rolling_average\": 10655.142857142857}, {\"Date\": \"2020-11-02\", \"Province_State\": \"Texas\", \"New cases\": 6812, \"rolling_average\": 10689.0}, {\"Date\": \"2020-11-03\", \"Province_State\": \"Texas\", \"New cases\": 9721, \"rolling_average\": 11095.142857142857}, {\"Date\": \"2020-11-04\", \"Province_State\": \"Texas\", \"New cases\": 11092, \"rolling_average\": 11636.285714285714}, {\"Date\": \"2020-11-05\", \"Province_State\": \"Texas\", \"New cases\": 10749, \"rolling_average\": 12183.142857142857}, {\"Date\": \"2020-11-06\", \"Province_State\": \"Texas\", \"New cases\": 9672, \"rolling_average\": 12714.714285714286}, {\"Date\": \"2020-11-07\", \"Province_State\": \"Texas\", \"New cases\": 7690, \"rolling_average\": 12657.57142857143}, {\"Date\": \"2020-11-08\", \"Province_State\": \"Texas\", \"New cases\": 7596, \"rolling_average\": 9047.42857142857}, {\"Date\": \"2020-11-09\", \"Province_State\": \"Texas\", \"New cases\": 7192, \"rolling_average\": 9101.714285714286}, {\"Date\": \"2020-11-10\", \"Province_State\": \"Texas\", \"New cases\": 12633, \"rolling_average\": 9517.714285714286}, {\"Date\": \"2020-11-11\", \"Province_State\": \"Texas\", \"New cases\": 13283, \"rolling_average\": 9830.714285714286}, {\"Date\": \"2020-11-12\", \"Province_State\": \"Texas\", \"New cases\": 11283, \"rolling_average\": 9907.0}, {\"Date\": \"2020-11-13\", \"Province_State\": \"Texas\", \"New cases\": 13029, \"rolling_average\": 10386.57142857143}, {\"Date\": \"2020-11-14\", \"Province_State\": \"Texas\", \"New cases\": 10987, \"rolling_average\": 10857.57142857143}, {\"Date\": \"2020-11-15\", \"Province_State\": \"Texas\", \"New cases\": 7922, \"rolling_average\": 10904.142857142857}, {\"Date\": \"2020-11-16\", \"Province_State\": \"Texas\", \"New cases\": 8738, \"rolling_average\": 11125.0}, {\"Date\": \"2020-11-17\", \"Province_State\": \"Texas\", \"New cases\": 13379, \"rolling_average\": 11231.57142857143}, {\"Date\": \"2020-11-18\", \"Province_State\": \"Texas\", \"New cases\": 13822, \"rolling_average\": 11308.57142857143}, {\"Date\": \"2020-11-19\", \"Province_State\": \"Texas\", \"New cases\": 14292, \"rolling_average\": 11738.42857142857}, {\"Date\": \"2020-11-20\", \"Province_State\": \"Texas\", \"New cases\": 14098, \"rolling_average\": 11891.142857142857}, {\"Date\": \"2020-11-21\", \"Province_State\": \"Texas\", \"New cases\": 13266, \"rolling_average\": 12216.714285714286}, {\"Date\": \"2020-11-22\", \"Province_State\": \"Texas\", \"New cases\": 8957, \"rolling_average\": 12364.57142857143}, {\"Date\": \"2020-11-23\", \"Province_State\": \"Texas\", \"New cases\": 8529, \"rolling_average\": 12334.714285714286}, {\"Date\": \"2020-11-24\", \"Province_State\": \"Texas\", \"New cases\": 20860, \"rolling_average\": 13403.42857142857}, {\"Date\": \"2020-11-25\", \"Province_State\": \"Texas\", \"New cases\": 17381, \"rolling_average\": 13911.857142857143}, {\"Date\": \"2020-11-26\", \"Province_State\": \"Texas\", \"New cases\": 7427, \"rolling_average\": 12931.142857142857}, {\"Date\": \"2020-11-27\", \"Province_State\": \"Texas\", \"New cases\": 4873, \"rolling_average\": 11613.285714285714}, {\"Date\": \"2020-11-28\", \"Province_State\": \"Texas\", \"New cases\": 6016, \"rolling_average\": 10577.57142857143}, {\"Date\": \"2020-11-29\", \"Province_State\": \"Texas\", \"New cases\": 14321, \"rolling_average\": 11343.857142857143}, {\"Date\": \"2020-11-30\", \"Province_State\": \"Texas\", \"New cases\": 10121, \"rolling_average\": 11571.285714285714}, {\"Date\": \"2020-12-01\", \"Province_State\": \"Texas\", \"New cases\": 15277, \"rolling_average\": 10773.714285714286}, {\"Date\": \"2020-12-02\", \"Province_State\": \"Texas\", \"New cases\": 20528, \"rolling_average\": 11223.285714285714}, {\"Date\": \"2020-12-03\", \"Province_State\": \"Texas\", \"New cases\": 18953, \"rolling_average\": 12869.857142857143}, {\"Date\": \"2020-12-04\", \"Province_State\": \"Texas\", \"New cases\": 14602, \"rolling_average\": 14259.714285714286}, {\"Date\": \"2020-12-05\", \"Province_State\": \"Texas\", \"New cases\": 14071, \"rolling_average\": 15410.42857142857}, {\"Date\": \"2020-12-06\", \"Province_State\": \"Texas\", \"New cases\": 12274, \"rolling_average\": 15118.0}, {\"Date\": \"2020-12-07\", \"Province_State\": \"Texas\", \"New cases\": 7493, \"rolling_average\": 14742.57142857143}, {\"Date\": \"2020-12-08\", \"Province_State\": \"Texas\", \"New cases\": 19469, \"rolling_average\": 15341.42857142857}, {\"Date\": \"2020-12-09\", \"Province_State\": \"Texas\", \"New cases\": 14531, \"rolling_average\": 14484.714285714286}, {\"Date\": \"2020-12-10\", \"Province_State\": \"Texas\", \"New cases\": 16152, \"rolling_average\": 14084.57142857143}, {\"Date\": \"2020-12-11\", \"Province_State\": \"Texas\", \"New cases\": 15883, \"rolling_average\": 14267.57142857143}, {\"Date\": \"2020-12-12\", \"Province_State\": \"Texas\", \"New cases\": 13585, \"rolling_average\": 14198.142857142857}, {\"Date\": \"2020-12-13\", \"Province_State\": \"Texas\", \"New cases\": 8892, \"rolling_average\": 13715.0}, {\"Date\": \"2020-12-14\", \"Province_State\": \"Texas\", \"New cases\": 10318, \"rolling_average\": 14118.57142857143}, {\"Date\": \"2020-12-15\", \"Province_State\": \"Texas\", \"New cases\": 21022, \"rolling_average\": 14340.42857142857}, {\"Date\": \"2020-12-16\", \"Province_State\": \"Texas\", \"New cases\": 21767, \"rolling_average\": 15374.142857142857}, {\"Date\": \"2020-12-17\", \"Province_State\": \"Texas\", \"New cases\": 17490, \"rolling_average\": 15565.285714285714}, {\"Date\": \"2020-12-18\", \"Province_State\": \"Texas\", \"New cases\": 17143, \"rolling_average\": 15745.285714285714}, {\"Date\": \"2020-12-19\", \"Province_State\": \"Texas\", \"New cases\": 14259, \"rolling_average\": 15841.57142857143}, {\"Date\": \"2020-12-20\", \"Province_State\": \"Texas\", \"New cases\": 9798, \"rolling_average\": 15971.0}, {\"Date\": \"2020-12-21\", \"Province_State\": \"Texas\", \"New cases\": 13020, \"rolling_average\": 16357.0}, {\"Date\": \"2020-12-22\", \"Province_State\": \"Texas\", \"New cases\": 21831, \"rolling_average\": 16472.571428571428}, {\"Date\": \"2020-12-23\", \"Province_State\": \"Texas\", \"New cases\": 22672, \"rolling_average\": 16601.85714285714}, {\"Date\": \"2020-12-24\", \"Province_State\": \"Texas\", \"New cases\": 9138, \"rolling_average\": 15408.714285714286}, {\"Date\": \"2020-12-25\", \"Province_State\": \"Texas\", \"New cases\": 3315, \"rolling_average\": 13433.285714285714}, {\"Date\": \"2020-12-26\", \"Province_State\": \"Texas\", \"New cases\": 5414, \"rolling_average\": 12169.714285714286}, {\"Date\": \"2020-12-27\", \"Province_State\": \"Texas\", \"New cases\": 28839, \"rolling_average\": 14889.857142857143}, {\"Date\": \"2020-12-28\", \"Province_State\": \"Texas\", \"New cases\": 8624, \"rolling_average\": 14261.857142857143}, {\"Date\": \"2020-12-29\", \"Province_State\": \"Texas\", \"New cases\": 25153, \"rolling_average\": 14736.42857142857}, {\"Date\": \"2020-12-30\", \"Province_State\": \"Texas\", \"New cases\": 22004, \"rolling_average\": 14641.0}, {\"Date\": \"2020-12-31\", \"Province_State\": \"Texas\", \"New cases\": 17809, \"rolling_average\": 15879.714285714286}, {\"Date\": \"2021-01-01\", \"Province_State\": \"Texas\", \"New cases\": 10172, \"rolling_average\": 16859.285714285714}, {\"Date\": \"2021-01-02\", \"Province_State\": \"Texas\", \"New cases\": 18225, \"rolling_average\": 18689.428571428572}, {\"Date\": \"2021-01-03\", \"Province_State\": \"Texas\", \"New cases\": 15705, \"rolling_average\": 16813.14285714286}, {\"Date\": \"2021-01-04\", \"Province_State\": \"Texas\", \"New cases\": 14260, \"rolling_average\": 17618.285714285714}, {\"Date\": \"2021-01-05\", \"Province_State\": \"Texas\", \"New cases\": 33027, \"rolling_average\": 18743.14285714286}, {\"Date\": \"2021-01-06\", \"Province_State\": \"Texas\", \"New cases\": 20626, \"rolling_average\": 18546.285714285714}, {\"Date\": \"2021-01-07\", \"Province_State\": \"Texas\", \"New cases\": 25292, \"rolling_average\": 19615.285714285714}, {\"Date\": \"2021-01-08\", \"Province_State\": \"Texas\", \"New cases\": 13308, \"rolling_average\": 20063.285714285714}]}}, {\"mode\": \"vega-lite\"});\n",
              "</script>"
            ]
          },
          "metadata": {
            "tags": []
          },
          "execution_count": 64
        }
      ]
    },
    {
      "cell_type": "markdown",
      "metadata": {
        "id": "DZPVHGGB06ha"
      },
      "source": [
        "## Reference\n",
        "\n",
        "* https://towardsdatascience.com/covid-19-data-processing-58aaa3663f6"
      ]
    }
  ]
}