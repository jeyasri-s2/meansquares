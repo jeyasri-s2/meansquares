{
  "nbformat": 4,
  "nbformat_minor": 0,
  "metadata": {
    "colab": {
      "name": "Load_Mask_Rule.ipynb",
      "provenance": [],
      "collapsed_sections": [],
      "toc_visible": true,
      "machine_shape": "hm",
      "include_colab_link": true
    },
    "kernelspec": {
      "name": "python3",
      "display_name": "Python 3"
    }
  },
  "cells": [
    {
      "cell_type": "markdown",
      "metadata": {
        "id": "view-in-github",
        "colab_type": "text"
      },
      "source": [
        "<a href=\"https://colab.research.google.com/github/aarsanjani/meansquares/blob/master/version2/prepare_data/Load_Mask_Rule.ipynb\" target=\"_parent\"><img src=\"https://colab.research.google.com/assets/colab-badge.svg\" alt=\"Open In Colab\"/></a>"
      ]
    },
    {
      "cell_type": "markdown",
      "metadata": {
        "id": "5KLYplb9rUcO"
      },
      "source": [
        "# Goal: Prepare type of mask rule active in county level"
      ]
    },
    {
      "cell_type": "markdown",
      "metadata": {
        "id": "3uAeJDCU-9gD"
      },
      "source": [
        "## Note: This data is downloaded from `https://masks4all.co/what-states-require-masks/`"
      ]
    },
    {
      "cell_type": "markdown",
      "metadata": {
        "id": "rQQ8KCcYrgh8"
      },
      "source": [
        "Each state in United States mandates Mask from a particular date for all places, only in business or only in public places where social distancing is not possible. We would like to investigate the impact on reduction or increase in Covid-19 cases due to this rule. "
      ]
    },
    {
      "cell_type": "code",
      "metadata": {
        "id": "mcdbrTS38vcE",
        "colab": {
          "base_uri": "https://localhost:8080/"
        },
        "outputId": "18bc5610-0009-440a-a48c-47d51e075b6d"
      },
      "source": [
        "!pip install wget"
      ],
      "execution_count": 2,
      "outputs": [
        {
          "output_type": "stream",
          "text": [
            "Collecting wget\n",
            "  Downloading https://files.pythonhosted.org/packages/47/6a/62e288da7bcda82b935ff0c6cfe542970f04e29c756b0e147251b2fb251f/wget-3.2.zip\n",
            "Building wheels for collected packages: wget\n",
            "  Building wheel for wget (setup.py) ... \u001b[?25l\u001b[?25hdone\n",
            "  Created wheel for wget: filename=wget-3.2-cp36-none-any.whl size=9682 sha256=5aebeeb3dbbd7eeba79b70d8eadd166c101fddf97dfc8f819cc1c045176d147d\n",
            "  Stored in directory: /root/.cache/pip/wheels/40/15/30/7d8f7cea2902b4db79e3fea550d7d7b85ecb27ef992b618f3f\n",
            "Successfully built wget\n",
            "Installing collected packages: wget\n",
            "Successfully installed wget-3.2\n"
          ],
          "name": "stdout"
        }
      ]
    },
    {
      "cell_type": "code",
      "metadata": {
        "id": "6QbOhpGKrQub"
      },
      "source": [
        "import pandas as pd\n",
        "import seaborn as sns\n",
        "import numpy as np\n",
        "import matplotlib.pyplot as plt\n",
        "import os\n",
        "import wget"
      ],
      "execution_count": 3,
      "outputs": []
    },
    {
      "cell_type": "markdown",
      "metadata": {
        "id": "XG7L7Wu9ssnZ"
      },
      "source": [
        "## Mount Google drive\n"
      ]
    },
    {
      "cell_type": "code",
      "metadata": {
        "id": "SXC6gd0isu7o"
      },
      "source": [
        "os.environ[\"TF_CPP_MIN_LOG_LEVEL\"]=\"2\"\n",
        "import warnings; warnings.simplefilter('ignore')"
      ],
      "execution_count": 4,
      "outputs": []
    },
    {
      "cell_type": "code",
      "metadata": {
        "id": "63TNC3fZ-oWq"
      },
      "source": [
        ""
      ],
      "execution_count": null,
      "outputs": []
    },
    {
      "cell_type": "code",
      "metadata": {
        "id": "kkIdtS1JsvlO",
        "colab": {
          "base_uri": "https://localhost:8080/"
        },
        "outputId": "be23c71c-6bfc-4d2b-fdc7-f4ecd4351216"
      },
      "source": [
        "from google.colab import drive\n",
        "drive.mount('/content/drive')"
      ],
      "execution_count": 5,
      "outputs": [
        {
          "output_type": "stream",
          "text": [
            "Mounted at /content/drive\n"
          ],
          "name": "stdout"
        }
      ]
    },
    {
      "cell_type": "code",
      "metadata": {
        "id": "eSHBvEKMsMLZ",
        "colab": {
          "base_uri": "https://localhost:8080/"
        },
        "outputId": "0715e4ea-77fd-466a-c3fa-3f8c02d9c32c"
      },
      "source": [
        "!ls '/content/drive/Shared drives/CMPE 295- Master Project/'"
      ],
      "execution_count": 6,
      "outputs": [
        {
          "output_type": "stream",
          "text": [
            " Abstract.docx\n",
            " Abstract-presentation-TheMeanSquares.ppt\n",
            " Abstract-presentation-TheMeanSquares.pptx\n",
            " CMPE295W_TheMeanSquares_1.gslides\n",
            " Covid19-data\n",
            " Diagrams\n",
            " Discussion-slides-internal\n",
            " feature-ranking-CA\n",
            " LSTM-models\n",
            " Planning-2021\n",
            " Professor-feedback-workbook\n",
            " projectdata-2021\n",
            " projectdata-2021MarylandInertiaData_All_Jan11.csv\n",
            " Project-Reference.gdoc\n",
            " Project-Version2\n",
            " ScreenRecordings\n",
            " Workbook\n",
            "'Writing Assignments'\n"
          ],
          "name": "stdout"
        }
      ]
    },
    {
      "cell_type": "markdown",
      "metadata": {
        "id": "WPpcZx0yv1ZJ"
      },
      "source": [
        "## Loading Mask Data\n"
      ]
    },
    {
      "cell_type": "code",
      "metadata": {
        "id": "XzpgQJditQVf",
        "colab": {
          "base_uri": "https://localhost:8080/",
          "height": 221
        },
        "outputId": "baf0bb84-aadd-4dec-e342-322fb54dc373"
      },
      "source": [
        "mask_data = pd.read_csv('/content/drive/Shared drives/CMPE 295- Master Project/projectdata-2021/data-mask_for_all.csv',low_memory=False)\n",
        "print(mask_data.shape)\n",
        "mask_data.head()"
      ],
      "execution_count": 7,
      "outputs": [
        {
          "output_type": "stream",
          "text": [
            "(52, 4)\n"
          ],
          "name": "stdout"
        },
        {
          "output_type": "execute_result",
          "data": {
            "text/html": [
              "<div>\n",
              "<style scoped>\n",
              "    .dataframe tbody tr th:only-of-type {\n",
              "        vertical-align: middle;\n",
              "    }\n",
              "\n",
              "    .dataframe tbody tr th {\n",
              "        vertical-align: top;\n",
              "    }\n",
              "\n",
              "    .dataframe thead th {\n",
              "        text-align: right;\n",
              "    }\n",
              "</style>\n",
              "<table border=\"1\" class=\"dataframe\">\n",
              "  <thead>\n",
              "    <tr style=\"text-align: right;\">\n",
              "      <th></th>\n",
              "      <th>State.</th>\n",
              "      <th>Masks Required?</th>\n",
              "      <th>Type of Requirement</th>\n",
              "      <th>Requirement Date</th>\n",
              "    </tr>\n",
              "  </thead>\n",
              "  <tbody>\n",
              "    <tr>\n",
              "      <th>0</th>\n",
              "      <td>[Mississippi](https://www.cnn.com/2020/08/05/h...</td>\n",
              "      <td>Parts of State</td>\n",
              "      <td>NaN</td>\n",
              "      <td>8/4/2020</td>\n",
              "    </tr>\n",
              "    <tr>\n",
              "      <th>1</th>\n",
              "      <td>[Vermont](https://governor.vermont.gov/sites/s...</td>\n",
              "      <td>Entire State</td>\n",
              "      <td>Everywhere in public where social distancing i...</td>\n",
              "      <td>8/1/2020</td>\n",
              "    </tr>\n",
              "    <tr>\n",
              "      <th>2</th>\n",
              "      <td>[Wisconsin](https://www.nbc15.com/2020/07/30/m...</td>\n",
              "      <td>Entire State</td>\n",
              "      <td>All Public Indoor Spaces (Including Public Tra...</td>\n",
              "      <td>8/1/2020</td>\n",
              "    </tr>\n",
              "    <tr>\n",
              "      <th>3</th>\n",
              "      <td>[Indiana](https://wpta21.com/2020/07/22/indian...</td>\n",
              "      <td>Entire State</td>\n",
              "      <td>Everywhere in public where social distancing i...</td>\n",
              "      <td>7/27/2020</td>\n",
              "    </tr>\n",
              "    <tr>\n",
              "      <th>4</th>\n",
              "      <td>[Minnesota](https://www.startribune.com/walz-m...</td>\n",
              "      <td>Entire State</td>\n",
              "      <td>Most Public Indoor Spaces (Including Public Tr...</td>\n",
              "      <td>7/25/2020</td>\n",
              "    </tr>\n",
              "  </tbody>\n",
              "</table>\n",
              "</div>"
            ],
            "text/plain": [
              "                                              State.  ... Requirement Date\n",
              "0  [Mississippi](https://www.cnn.com/2020/08/05/h...  ...         8/4/2020\n",
              "1  [Vermont](https://governor.vermont.gov/sites/s...  ...         8/1/2020\n",
              "2  [Wisconsin](https://www.nbc15.com/2020/07/30/m...  ...         8/1/2020\n",
              "3  [Indiana](https://wpta21.com/2020/07/22/indian...  ...        7/27/2020\n",
              "4  [Minnesota](https://www.startribune.com/walz-m...  ...        7/25/2020\n",
              "\n",
              "[5 rows x 4 columns]"
            ]
          },
          "metadata": {
            "tags": []
          },
          "execution_count": 7
        }
      ]
    },
    {
      "cell_type": "code",
      "metadata": {
        "id": "RLeAgDfLtpk7",
        "colab": {
          "base_uri": "https://localhost:8080/",
          "height": 306
        },
        "outputId": "149c9a71-4656-4c2f-e489-9f3544f05c89"
      },
      "source": [
        "mask_data['state_name'] = mask_data['State.'].apply(lambda a : a.split(']')[0].replace('[',''))\n",
        "mask_data.head(5)"
      ],
      "execution_count": 8,
      "outputs": [
        {
          "output_type": "execute_result",
          "data": {
            "text/html": [
              "<div>\n",
              "<style scoped>\n",
              "    .dataframe tbody tr th:only-of-type {\n",
              "        vertical-align: middle;\n",
              "    }\n",
              "\n",
              "    .dataframe tbody tr th {\n",
              "        vertical-align: top;\n",
              "    }\n",
              "\n",
              "    .dataframe thead th {\n",
              "        text-align: right;\n",
              "    }\n",
              "</style>\n",
              "<table border=\"1\" class=\"dataframe\">\n",
              "  <thead>\n",
              "    <tr style=\"text-align: right;\">\n",
              "      <th></th>\n",
              "      <th>State.</th>\n",
              "      <th>Masks Required?</th>\n",
              "      <th>Type of Requirement</th>\n",
              "      <th>Requirement Date</th>\n",
              "      <th>state_name</th>\n",
              "    </tr>\n",
              "  </thead>\n",
              "  <tbody>\n",
              "    <tr>\n",
              "      <th>0</th>\n",
              "      <td>[Mississippi](https://www.cnn.com/2020/08/05/h...</td>\n",
              "      <td>Parts of State</td>\n",
              "      <td>NaN</td>\n",
              "      <td>8/4/2020</td>\n",
              "      <td>Mississippi</td>\n",
              "    </tr>\n",
              "    <tr>\n",
              "      <th>1</th>\n",
              "      <td>[Vermont](https://governor.vermont.gov/sites/s...</td>\n",
              "      <td>Entire State</td>\n",
              "      <td>Everywhere in public where social distancing i...</td>\n",
              "      <td>8/1/2020</td>\n",
              "      <td>Vermont</td>\n",
              "    </tr>\n",
              "    <tr>\n",
              "      <th>2</th>\n",
              "      <td>[Wisconsin](https://www.nbc15.com/2020/07/30/m...</td>\n",
              "      <td>Entire State</td>\n",
              "      <td>All Public Indoor Spaces (Including Public Tra...</td>\n",
              "      <td>8/1/2020</td>\n",
              "      <td>Wisconsin</td>\n",
              "    </tr>\n",
              "    <tr>\n",
              "      <th>3</th>\n",
              "      <td>[Indiana](https://wpta21.com/2020/07/22/indian...</td>\n",
              "      <td>Entire State</td>\n",
              "      <td>Everywhere in public where social distancing i...</td>\n",
              "      <td>7/27/2020</td>\n",
              "      <td>Indiana</td>\n",
              "    </tr>\n",
              "    <tr>\n",
              "      <th>4</th>\n",
              "      <td>[Minnesota](https://www.startribune.com/walz-m...</td>\n",
              "      <td>Entire State</td>\n",
              "      <td>Most Public Indoor Spaces (Including Public Tr...</td>\n",
              "      <td>7/25/2020</td>\n",
              "      <td>Minnesota</td>\n",
              "    </tr>\n",
              "  </tbody>\n",
              "</table>\n",
              "</div>"
            ],
            "text/plain": [
              "                                              State.  ...   state_name\n",
              "0  [Mississippi](https://www.cnn.com/2020/08/05/h...  ...  Mississippi\n",
              "1  [Vermont](https://governor.vermont.gov/sites/s...  ...      Vermont\n",
              "2  [Wisconsin](https://www.nbc15.com/2020/07/30/m...  ...    Wisconsin\n",
              "3  [Indiana](https://wpta21.com/2020/07/22/indian...  ...      Indiana\n",
              "4  [Minnesota](https://www.startribune.com/walz-m...  ...    Minnesota\n",
              "\n",
              "[5 rows x 5 columns]"
            ]
          },
          "metadata": {
            "tags": []
          },
          "execution_count": 8
        }
      ]
    },
    {
      "cell_type": "code",
      "metadata": {
        "id": "0UN0uyi-uSqM",
        "colab": {
          "base_uri": "https://localhost:8080/"
        },
        "outputId": "b3e0b943-cf5a-45cc-c527-e4e1a72a440d"
      },
      "source": [
        "mask_data.dtypes"
      ],
      "execution_count": null,
      "outputs": [
        {
          "output_type": "execute_result",
          "data": {
            "text/plain": [
              "State.                 object\n",
              "Masks Required?        object\n",
              "Type of Requirement    object\n",
              "Requirement Date       object\n",
              "state_name             object\n",
              "dtype: object"
            ]
          },
          "metadata": {
            "tags": []
          },
          "execution_count": 11
        }
      ]
    },
    {
      "cell_type": "markdown",
      "metadata": {
        "id": "_waYK-bHv5R6"
      },
      "source": [
        "## Cleaning mask data"
      ]
    },
    {
      "cell_type": "code",
      "metadata": {
        "id": "Xkoj3HliuWJV",
        "colab": {
          "base_uri": "https://localhost:8080/"
        },
        "outputId": "0cb54e39-dca4-462c-a40f-255b36648b71"
      },
      "source": [
        "mask_data['Masks Required?'].unique()"
      ],
      "execution_count": null,
      "outputs": [
        {
          "output_type": "execute_result",
          "data": {
            "text/plain": [
              "array(['Parts of State', 'Entire State', 'Entire Territory',\n",
              "       'Entire State (Employees Only)', 'Parts of State (Employees Only)',\n",
              "       'No', 'Masks strongly recommended, provides masks for free',\n",
              "       'Entire State (Most Indoor Public Places)'], dtype=object)"
            ]
          },
          "metadata": {
            "tags": []
          },
          "execution_count": 12
        }
      ]
    },
    {
      "cell_type": "code",
      "metadata": {
        "id": "Wm8GnyK7uj47",
        "colab": {
          "base_uri": "https://localhost:8080/",
          "height": 306
        },
        "outputId": "68d52a4e-a6f8-4f8d-c2c1-6c6ccb124c52"
      },
      "source": [
        "mask_data['mask_required_rule'] = mask_data['Masks Required?'].astype('category').cat.codes\n",
        "mask_data.head(5)"
      ],
      "execution_count": null,
      "outputs": [
        {
          "output_type": "execute_result",
          "data": {
            "text/html": [
              "<div>\n",
              "<style scoped>\n",
              "    .dataframe tbody tr th:only-of-type {\n",
              "        vertical-align: middle;\n",
              "    }\n",
              "\n",
              "    .dataframe tbody tr th {\n",
              "        vertical-align: top;\n",
              "    }\n",
              "\n",
              "    .dataframe thead th {\n",
              "        text-align: right;\n",
              "    }\n",
              "</style>\n",
              "<table border=\"1\" class=\"dataframe\">\n",
              "  <thead>\n",
              "    <tr style=\"text-align: right;\">\n",
              "      <th></th>\n",
              "      <th>State.</th>\n",
              "      <th>Masks Required?</th>\n",
              "      <th>Type of Requirement</th>\n",
              "      <th>Requirement Date</th>\n",
              "      <th>state_name</th>\n",
              "      <th>mask_required_rule</th>\n",
              "    </tr>\n",
              "  </thead>\n",
              "  <tbody>\n",
              "    <tr>\n",
              "      <th>0</th>\n",
              "      <td>[Mississippi](https://www.cnn.com/2020/08/05/h...</td>\n",
              "      <td>Parts of State</td>\n",
              "      <td>NaN</td>\n",
              "      <td>8/4/2020</td>\n",
              "      <td>Mississippi</td>\n",
              "      <td>6</td>\n",
              "    </tr>\n",
              "    <tr>\n",
              "      <th>1</th>\n",
              "      <td>[Vermont](https://governor.vermont.gov/sites/s...</td>\n",
              "      <td>Entire State</td>\n",
              "      <td>Everywhere in public where social distancing i...</td>\n",
              "      <td>8/1/2020</td>\n",
              "      <td>Vermont</td>\n",
              "      <td>0</td>\n",
              "    </tr>\n",
              "    <tr>\n",
              "      <th>2</th>\n",
              "      <td>[Wisconsin](https://www.nbc15.com/2020/07/30/m...</td>\n",
              "      <td>Entire State</td>\n",
              "      <td>All Public Indoor Spaces (Including Public Tra...</td>\n",
              "      <td>8/1/2020</td>\n",
              "      <td>Wisconsin</td>\n",
              "      <td>0</td>\n",
              "    </tr>\n",
              "    <tr>\n",
              "      <th>3</th>\n",
              "      <td>[Indiana](https://wpta21.com/2020/07/22/indian...</td>\n",
              "      <td>Entire State</td>\n",
              "      <td>Everywhere in public where social distancing i...</td>\n",
              "      <td>7/27/2020</td>\n",
              "      <td>Indiana</td>\n",
              "      <td>0</td>\n",
              "    </tr>\n",
              "    <tr>\n",
              "      <th>4</th>\n",
              "      <td>[Minnesota](https://www.startribune.com/walz-m...</td>\n",
              "      <td>Entire State</td>\n",
              "      <td>Most Public Indoor Spaces (Including Public Tr...</td>\n",
              "      <td>7/25/2020</td>\n",
              "      <td>Minnesota</td>\n",
              "      <td>0</td>\n",
              "    </tr>\n",
              "  </tbody>\n",
              "</table>\n",
              "</div>"
            ],
            "text/plain": [
              "                                              State.  ... mask_required_rule\n",
              "0  [Mississippi](https://www.cnn.com/2020/08/05/h...  ...                  6\n",
              "1  [Vermont](https://governor.vermont.gov/sites/s...  ...                  0\n",
              "2  [Wisconsin](https://www.nbc15.com/2020/07/30/m...  ...                  0\n",
              "3  [Indiana](https://wpta21.com/2020/07/22/indian...  ...                  0\n",
              "4  [Minnesota](https://www.startribune.com/walz-m...  ...                  0\n",
              "\n",
              "[5 rows x 6 columns]"
            ]
          },
          "metadata": {
            "tags": []
          },
          "execution_count": 13
        }
      ]
    },
    {
      "cell_type": "code",
      "metadata": {
        "id": "etpSiJVGvMK7",
        "colab": {
          "base_uri": "https://localhost:8080/"
        },
        "outputId": "65eecaf7-ab80-43dd-eb59-961a8fedb405"
      },
      "source": [
        "mask_data['Type of Requirement'].unique()"
      ],
      "execution_count": null,
      "outputs": [
        {
          "output_type": "execute_result",
          "data": {
            "text/plain": [
              "array([nan, \"Everywhere in public where social distancing isn't possible\",\n",
              "       \"All Public Indoor Spaces (Including Public Transport & Biz's)\",\n",
              "       \"Most Public Indoor Spaces (Including Public Transport & Biz's)\",\n",
              "       'All Public Indoor Spaces (In Counties With >4 Cases)',\n",
              "       \"All Public Indoor Spaces (where social distancing isn't possible)\",\n",
              "       \"Everywhere in public where social distancing isn't possible (in counties with >20 cases)\",\n",
              "       'Everywhere in public', 'Only in businesses',\n",
              "       \"Gatherings of 100+ People & Personal Care Biz's & Fitness Centers\",\n",
              "       'Strongly encourages, provides masks for free',\n",
              "       'All Restaurants, Entertainment Venues, & Government Buildings'],\n",
              "      dtype=object)"
            ]
          },
          "metadata": {
            "tags": []
          },
          "execution_count": 14
        }
      ]
    },
    {
      "cell_type": "markdown",
      "metadata": {
        "id": "WKJ_I4ryAhvZ"
      },
      "source": [
        "No.|Rule| Severity|\n",
        "--- | --- | --- |\n",
        "1. | \"Everywhere in public where social distancing isn't possible\" | 10.0|\n",
        "2.| \"All Public Indoor Spaces (Including Public Transport & Biz's)\" | 9.0|\n",
        "3.|\"Most Public Indoor Spaces (Including Public Transport & Biz's)\" | 7.0|\n",
        "4. |'All Public Indoor Spaces (In Counties With >4 Cases)'|  9.0|\n",
        "5.| \"All Public Indoor Spaces (where social distancing isn't possible)\"|  8.0|\n",
        "6.| \"Everywhere in public where social distancing isn't possible (in counties with >20 cases)\" | 10.0|\n",
        "7.| 'Everywhere in public' |11.0|\n",
        "8.|'Only in businesses' | 4.0|\n",
        "9. |\"Gatherings of 100+ People & Personal Care Biz's & Fitness Centers\"| 4.0\n",
        "10. |'Strongly encourages, provides masks for free' | 2.0\n",
        "11. |'All Restaurants, Entertainment Venues, & Government Buildings'|  5.0"
      ]
    },
    {
      "cell_type": "code",
      "metadata": {
        "id": "QhjREwXaAhee"
      },
      "source": [
        ""
      ],
      "execution_count": null,
      "outputs": []
    },
    {
      "cell_type": "code",
      "metadata": {
        "id": "xhtHXJI7ve3J",
        "colab": {
          "base_uri": "https://localhost:8080/",
          "height": 462
        },
        "outputId": "5dfa9181-74b0-42f8-86d4-19fa2c0ecc8f"
      },
      "source": [
        "mask_data['requirement_code'] = mask_data['Type of Requirement'].astype('category').cat.codes\n",
        "mask_data.head(5)"
      ],
      "execution_count": null,
      "outputs": [
        {
          "output_type": "execute_result",
          "data": {
            "text/html": [
              "<div>\n",
              "<style scoped>\n",
              "    .dataframe tbody tr th:only-of-type {\n",
              "        vertical-align: middle;\n",
              "    }\n",
              "\n",
              "    .dataframe tbody tr th {\n",
              "        vertical-align: top;\n",
              "    }\n",
              "\n",
              "    .dataframe thead th {\n",
              "        text-align: right;\n",
              "    }\n",
              "</style>\n",
              "<table border=\"1\" class=\"dataframe\">\n",
              "  <thead>\n",
              "    <tr style=\"text-align: right;\">\n",
              "      <th></th>\n",
              "      <th>State.</th>\n",
              "      <th>Masks Required?</th>\n",
              "      <th>Type of Requirement</th>\n",
              "      <th>Requirement Date</th>\n",
              "      <th>state_name</th>\n",
              "      <th>mask_required_rule</th>\n",
              "      <th>requirement_code</th>\n",
              "    </tr>\n",
              "  </thead>\n",
              "  <tbody>\n",
              "    <tr>\n",
              "      <th>0</th>\n",
              "      <td>[Mississippi](https://www.cnn.com/2020/08/05/h...</td>\n",
              "      <td>Parts of State</td>\n",
              "      <td>NaN</td>\n",
              "      <td>8/4/2020</td>\n",
              "      <td>Mississippi</td>\n",
              "      <td>6</td>\n",
              "      <td>-1</td>\n",
              "    </tr>\n",
              "    <tr>\n",
              "      <th>1</th>\n",
              "      <td>[Vermont](https://governor.vermont.gov/sites/s...</td>\n",
              "      <td>Entire State</td>\n",
              "      <td>Everywhere in public where social distancing i...</td>\n",
              "      <td>8/1/2020</td>\n",
              "      <td>Vermont</td>\n",
              "      <td>0</td>\n",
              "      <td>5</td>\n",
              "    </tr>\n",
              "    <tr>\n",
              "      <th>2</th>\n",
              "      <td>[Wisconsin](https://www.nbc15.com/2020/07/30/m...</td>\n",
              "      <td>Entire State</td>\n",
              "      <td>All Public Indoor Spaces (Including Public Tra...</td>\n",
              "      <td>8/1/2020</td>\n",
              "      <td>Wisconsin</td>\n",
              "      <td>0</td>\n",
              "      <td>1</td>\n",
              "    </tr>\n",
              "    <tr>\n",
              "      <th>3</th>\n",
              "      <td>[Indiana](https://wpta21.com/2020/07/22/indian...</td>\n",
              "      <td>Entire State</td>\n",
              "      <td>Everywhere in public where social distancing i...</td>\n",
              "      <td>7/27/2020</td>\n",
              "      <td>Indiana</td>\n",
              "      <td>0</td>\n",
              "      <td>5</td>\n",
              "    </tr>\n",
              "    <tr>\n",
              "      <th>4</th>\n",
              "      <td>[Minnesota](https://www.startribune.com/walz-m...</td>\n",
              "      <td>Entire State</td>\n",
              "      <td>Most Public Indoor Spaces (Including Public Tr...</td>\n",
              "      <td>7/25/2020</td>\n",
              "      <td>Minnesota</td>\n",
              "      <td>0</td>\n",
              "      <td>8</td>\n",
              "    </tr>\n",
              "  </tbody>\n",
              "</table>\n",
              "</div>"
            ],
            "text/plain": [
              "                                              State.  ... requirement_code\n",
              "0  [Mississippi](https://www.cnn.com/2020/08/05/h...  ...               -1\n",
              "1  [Vermont](https://governor.vermont.gov/sites/s...  ...                5\n",
              "2  [Wisconsin](https://www.nbc15.com/2020/07/30/m...  ...                1\n",
              "3  [Indiana](https://wpta21.com/2020/07/22/indian...  ...                5\n",
              "4  [Minnesota](https://www.startribune.com/walz-m...  ...                8\n",
              "\n",
              "[5 rows x 7 columns]"
            ]
          },
          "metadata": {
            "tags": []
          },
          "execution_count": 15
        }
      ]
    },
    {
      "cell_type": "code",
      "metadata": {
        "id": "2JUxHd9VvwGU",
        "colab": {
          "base_uri": "https://localhost:8080/",
          "height": 1000
        },
        "outputId": "9dbd2bbf-9ae7-4f63-9b36-44b04b1745c8"
      },
      "source": [
        "mask_data"
      ],
      "execution_count": null,
      "outputs": [
        {
          "output_type": "execute_result",
          "data": {
            "text/html": [
              "<div>\n",
              "<style scoped>\n",
              "    .dataframe tbody tr th:only-of-type {\n",
              "        vertical-align: middle;\n",
              "    }\n",
              "\n",
              "    .dataframe tbody tr th {\n",
              "        vertical-align: top;\n",
              "    }\n",
              "\n",
              "    .dataframe thead th {\n",
              "        text-align: right;\n",
              "    }\n",
              "</style>\n",
              "<table border=\"1\" class=\"dataframe\">\n",
              "  <thead>\n",
              "    <tr style=\"text-align: right;\">\n",
              "      <th></th>\n",
              "      <th>State.</th>\n",
              "      <th>Masks Required?</th>\n",
              "      <th>Type of Requirement</th>\n",
              "      <th>Requirement Date</th>\n",
              "      <th>state_name</th>\n",
              "      <th>mask_required_rule</th>\n",
              "      <th>requirement_code</th>\n",
              "    </tr>\n",
              "  </thead>\n",
              "  <tbody>\n",
              "    <tr>\n",
              "      <th>0</th>\n",
              "      <td>[Mississippi](https://www.cnn.com/2020/08/05/h...</td>\n",
              "      <td>Parts of State</td>\n",
              "      <td>NaN</td>\n",
              "      <td>8/4/2020</td>\n",
              "      <td>Mississippi</td>\n",
              "      <td>6</td>\n",
              "      <td>-1</td>\n",
              "    </tr>\n",
              "    <tr>\n",
              "      <th>1</th>\n",
              "      <td>[Vermont](https://governor.vermont.gov/sites/s...</td>\n",
              "      <td>Entire State</td>\n",
              "      <td>Everywhere in public where social distancing i...</td>\n",
              "      <td>8/1/2020</td>\n",
              "      <td>Vermont</td>\n",
              "      <td>0</td>\n",
              "      <td>5</td>\n",
              "    </tr>\n",
              "    <tr>\n",
              "      <th>2</th>\n",
              "      <td>[Wisconsin](https://www.nbc15.com/2020/07/30/m...</td>\n",
              "      <td>Entire State</td>\n",
              "      <td>All Public Indoor Spaces (Including Public Tra...</td>\n",
              "      <td>8/1/2020</td>\n",
              "      <td>Wisconsin</td>\n",
              "      <td>0</td>\n",
              "      <td>1</td>\n",
              "    </tr>\n",
              "    <tr>\n",
              "      <th>3</th>\n",
              "      <td>[Indiana](https://wpta21.com/2020/07/22/indian...</td>\n",
              "      <td>Entire State</td>\n",
              "      <td>Everywhere in public where social distancing i...</td>\n",
              "      <td>7/27/2020</td>\n",
              "      <td>Indiana</td>\n",
              "      <td>0</td>\n",
              "      <td>5</td>\n",
              "    </tr>\n",
              "    <tr>\n",
              "      <th>4</th>\n",
              "      <td>[Minnesota](https://www.startribune.com/walz-m...</td>\n",
              "      <td>Entire State</td>\n",
              "      <td>Most Public Indoor Spaces (Including Public Tr...</td>\n",
              "      <td>7/25/2020</td>\n",
              "      <td>Minnesota</td>\n",
              "      <td>0</td>\n",
              "      <td>8</td>\n",
              "    </tr>\n",
              "    <tr>\n",
              "      <th>5</th>\n",
              "      <td>[Ohio](https://www.cincinnati.com/story/news/2...</td>\n",
              "      <td>Entire State</td>\n",
              "      <td>Everywhere in public where social distancing i...</td>\n",
              "      <td>7/23/2020</td>\n",
              "      <td>Ohio</td>\n",
              "      <td>0</td>\n",
              "      <td>5</td>\n",
              "    </tr>\n",
              "    <tr>\n",
              "      <th>6</th>\n",
              "      <td>[Arkansas](https://arktimes.com/arkansas-blog/...</td>\n",
              "      <td>Entire State</td>\n",
              "      <td>Everywhere in public where social distancing i...</td>\n",
              "      <td>7/20/2020</td>\n",
              "      <td>Arkansas</td>\n",
              "      <td>0</td>\n",
              "      <td>5</td>\n",
              "    </tr>\n",
              "    <tr>\n",
              "      <th>7</th>\n",
              "      <td>[Colorado](https://patch.com/colorado/littleto...</td>\n",
              "      <td>Entire State</td>\n",
              "      <td>All Public Indoor Spaces (Including Public Tra...</td>\n",
              "      <td>7/17/2020</td>\n",
              "      <td>Colorado</td>\n",
              "      <td>0</td>\n",
              "      <td>1</td>\n",
              "    </tr>\n",
              "    <tr>\n",
              "      <th>8</th>\n",
              "      <td>[Alabama](https://www.wsfa.com/2020/07/15/gov-...</td>\n",
              "      <td>Entire State</td>\n",
              "      <td>Everywhere in public where social distancing i...</td>\n",
              "      <td>7/16/2020</td>\n",
              "      <td>Alabama</td>\n",
              "      <td>0</td>\n",
              "      <td>5</td>\n",
              "    </tr>\n",
              "    <tr>\n",
              "      <th>9</th>\n",
              "      <td>[Montana](https://montanafreepress.org/2020/07...</td>\n",
              "      <td>Entire State</td>\n",
              "      <td>All Public Indoor Spaces (In Counties With &gt;4 ...</td>\n",
              "      <td>7/15/2020</td>\n",
              "      <td>Montana</td>\n",
              "      <td>0</td>\n",
              "      <td>0</td>\n",
              "    </tr>\n",
              "    <tr>\n",
              "      <th>10</th>\n",
              "      <td>[Louisiana](https://www.wwltv.com/article/news...</td>\n",
              "      <td>Entire State</td>\n",
              "      <td>Everywhere in public where social distancing i...</td>\n",
              "      <td>7/13/2020</td>\n",
              "      <td>Louisiana</td>\n",
              "      <td>0</td>\n",
              "      <td>5</td>\n",
              "    </tr>\n",
              "    <tr>\n",
              "      <th>11</th>\n",
              "      <td>[Kentucky](https://www.wlky.com/article/masks-...</td>\n",
              "      <td>Entire State</td>\n",
              "      <td>Everywhere in public where social distancing i...</td>\n",
              "      <td>7/10/2020</td>\n",
              "      <td>Kentucky</td>\n",
              "      <td>0</td>\n",
              "      <td>5</td>\n",
              "    </tr>\n",
              "    <tr>\n",
              "      <th>12</th>\n",
              "      <td>[West Virginia](https://www.wsaz.com/2020/07/0...</td>\n",
              "      <td>Entire State</td>\n",
              "      <td>All Public Indoor Spaces (where social distanc...</td>\n",
              "      <td>7/7/2020</td>\n",
              "      <td>West Virginia</td>\n",
              "      <td>0</td>\n",
              "      <td>2</td>\n",
              "    </tr>\n",
              "    <tr>\n",
              "      <th>13</th>\n",
              "      <td>[Texas](https://abc13.com/health/mask-order-is...</td>\n",
              "      <td>Entire State</td>\n",
              "      <td>Everywhere in public where social distancing i...</td>\n",
              "      <td>7/3/2020</td>\n",
              "      <td>Texas</td>\n",
              "      <td>0</td>\n",
              "      <td>6</td>\n",
              "    </tr>\n",
              "    <tr>\n",
              "      <th>14</th>\n",
              "      <td>[Oregon](https://www.opb.org/news/article/oreg...</td>\n",
              "      <td>Entire State</td>\n",
              "      <td>Everywhere in public where social distancing i...</td>\n",
              "      <td>7/1/2020</td>\n",
              "      <td>Oregon</td>\n",
              "      <td>0</td>\n",
              "      <td>5</td>\n",
              "    </tr>\n",
              "    <tr>\n",
              "      <th>15</th>\n",
              "      <td>[Washington](https://komonews.com/news/coronav...</td>\n",
              "      <td>Entire State</td>\n",
              "      <td>Everywhere in public where social distancing i...</td>\n",
              "      <td>6/26/2020</td>\n",
              "      <td>Washington</td>\n",
              "      <td>0</td>\n",
              "      <td>5</td>\n",
              "    </tr>\n",
              "    <tr>\n",
              "      <th>16</th>\n",
              "      <td>[North Carolina](https://www.wbtv.com/2020/06/...</td>\n",
              "      <td>Entire State</td>\n",
              "      <td>Everywhere in public where social distancing i...</td>\n",
              "      <td>6/26/2020</td>\n",
              "      <td>North Carolina</td>\n",
              "      <td>0</td>\n",
              "      <td>5</td>\n",
              "    </tr>\n",
              "    <tr>\n",
              "      <th>17</th>\n",
              "      <td>[Nevada](https://nvhealthresponse.nv.gov/wp-co...</td>\n",
              "      <td>Entire State</td>\n",
              "      <td>Everywhere in public where social distancing i...</td>\n",
              "      <td>6/25/2020</td>\n",
              "      <td>Nevada</td>\n",
              "      <td>0</td>\n",
              "      <td>5</td>\n",
              "    </tr>\n",
              "    <tr>\n",
              "      <th>18</th>\n",
              "      <td>[California](https://www.cdph.ca.gov/Programs/...</td>\n",
              "      <td>Entire State</td>\n",
              "      <td>Everywhere in public where social distancing i...</td>\n",
              "      <td>6/18/2020</td>\n",
              "      <td>California</td>\n",
              "      <td>0</td>\n",
              "      <td>5</td>\n",
              "    </tr>\n",
              "    <tr>\n",
              "      <th>19</th>\n",
              "      <td>[Virginia](https://www.wsls.com/news/local/202...</td>\n",
              "      <td>Entire State</td>\n",
              "      <td>All Public Indoor Spaces (Including Public Tra...</td>\n",
              "      <td>5/29/2020</td>\n",
              "      <td>Virginia</td>\n",
              "      <td>0</td>\n",
              "      <td>1</td>\n",
              "    </tr>\n",
              "    <tr>\n",
              "      <th>20</th>\n",
              "      <td>[New Mexico](https://www.abqjournal.com/145526...</td>\n",
              "      <td>Entire State</td>\n",
              "      <td>Everywhere in public where social distancing i...</td>\n",
              "      <td>5/15/2020</td>\n",
              "      <td>New Mexico</td>\n",
              "      <td>0</td>\n",
              "      <td>5</td>\n",
              "    </tr>\n",
              "    <tr>\n",
              "      <th>21</th>\n",
              "      <td>[Massachusetts](https://www.nepr.net/post/mass...</td>\n",
              "      <td>Entire State</td>\n",
              "      <td>Everywhere in public where social distancing i...</td>\n",
              "      <td>5/6/2020</td>\n",
              "      <td>Massachusetts</td>\n",
              "      <td>0</td>\n",
              "      <td>5</td>\n",
              "    </tr>\n",
              "    <tr>\n",
              "      <th>22</th>\n",
              "      <td>[Delaware](https://news.delaware.gov/2020/04/2...</td>\n",
              "      <td>Entire State</td>\n",
              "      <td>Everywhere in public</td>\n",
              "      <td>5/1/2020</td>\n",
              "      <td>Delaware</td>\n",
              "      <td>0</td>\n",
              "      <td>4</td>\n",
              "    </tr>\n",
              "    <tr>\n",
              "      <th>23</th>\n",
              "      <td>[Illinois](https://www.nbcchicago.com/news/loc...</td>\n",
              "      <td>Entire State</td>\n",
              "      <td>Everywhere in public where social distancing i...</td>\n",
              "      <td>5/1/2020</td>\n",
              "      <td>Illinois</td>\n",
              "      <td>0</td>\n",
              "      <td>5</td>\n",
              "    </tr>\n",
              "    <tr>\n",
              "      <th>24</th>\n",
              "      <td>[Maine](https://www.pressherald.com/?p=5399794)</td>\n",
              "      <td>Entire State</td>\n",
              "      <td>Everywhere in public</td>\n",
              "      <td>5/1/2020</td>\n",
              "      <td>Maine</td>\n",
              "      <td>0</td>\n",
              "      <td>4</td>\n",
              "    </tr>\n",
              "    <tr>\n",
              "      <th>25</th>\n",
              "      <td>[Michigan](https://fox59.com/news/coronavirus/...</td>\n",
              "      <td>Entire State</td>\n",
              "      <td>Everywhere in public where social distancing i...</td>\n",
              "      <td>4/26/2020</td>\n",
              "      <td>Michigan</td>\n",
              "      <td>0</td>\n",
              "      <td>5</td>\n",
              "    </tr>\n",
              "    <tr>\n",
              "      <th>26</th>\n",
              "      <td>[Hawaii](https://www.hawaiinewsnow.com/2020/04...</td>\n",
              "      <td>Entire State</td>\n",
              "      <td>Only in businesses</td>\n",
              "      <td>4/20/2020</td>\n",
              "      <td>Hawaii</td>\n",
              "      <td>0</td>\n",
              "      <td>9</td>\n",
              "    </tr>\n",
              "    <tr>\n",
              "      <th>27</th>\n",
              "      <td>[Rhode Island](https://www.necn.com/news/coron...</td>\n",
              "      <td>Entire State</td>\n",
              "      <td>Everywhere in public where social distancing i...</td>\n",
              "      <td>4/20/2020</td>\n",
              "      <td>Rhode Island</td>\n",
              "      <td>0</td>\n",
              "      <td>5</td>\n",
              "    </tr>\n",
              "    <tr>\n",
              "      <th>28</th>\n",
              "      <td>[Maryland](https://www.baltimoresun.com/corona...</td>\n",
              "      <td>Entire State</td>\n",
              "      <td>Most Public Indoor Spaces (Including Public Tr...</td>\n",
              "      <td>4/18/2020</td>\n",
              "      <td>Maryland</td>\n",
              "      <td>0</td>\n",
              "      <td>8</td>\n",
              "    </tr>\n",
              "    <tr>\n",
              "      <th>29</th>\n",
              "      <td>[Pennsylvania](https://www.governor.pa.gov/new...</td>\n",
              "      <td>Entire State</td>\n",
              "      <td>Everywhere in public</td>\n",
              "      <td>4/17/2020</td>\n",
              "      <td>Pennsylvania</td>\n",
              "      <td>0</td>\n",
              "      <td>4</td>\n",
              "    </tr>\n",
              "    <tr>\n",
              "      <th>30</th>\n",
              "      <td>[Connecticut](https://www.nbcconnecticut.com/n...</td>\n",
              "      <td>Entire State</td>\n",
              "      <td>Everywhere in public where social distancing i...</td>\n",
              "      <td>4/17/2020</td>\n",
              "      <td>Connecticut</td>\n",
              "      <td>0</td>\n",
              "      <td>5</td>\n",
              "    </tr>\n",
              "    <tr>\n",
              "      <th>31</th>\n",
              "      <td>[New York](https://thehill.com/policy/healthca...</td>\n",
              "      <td>Entire State</td>\n",
              "      <td>Everywhere in public where social distancing i...</td>\n",
              "      <td>4/15/2020</td>\n",
              "      <td>New York</td>\n",
              "      <td>0</td>\n",
              "      <td>5</td>\n",
              "    </tr>\n",
              "    <tr>\n",
              "      <th>32</th>\n",
              "      <td>[New Jersey](https://www.phillyvoice.com/new-j...</td>\n",
              "      <td>Entire State</td>\n",
              "      <td>Everywhere in public where social distancing i...</td>\n",
              "      <td>4/10/2020</td>\n",
              "      <td>New Jersey</td>\n",
              "      <td>0</td>\n",
              "      <td>5</td>\n",
              "    </tr>\n",
              "    <tr>\n",
              "      <th>33</th>\n",
              "      <td>[Puerto Rico](https://www.nytimes.com/2020/04/...</td>\n",
              "      <td>Entire Territory</td>\n",
              "      <td>Everywhere in public</td>\n",
              "      <td>4/10/2020</td>\n",
              "      <td>Puerto Rico</td>\n",
              "      <td>3</td>\n",
              "      <td>4</td>\n",
              "    </tr>\n",
              "    <tr>\n",
              "      <th>34</th>\n",
              "      <td>[District of Columbia](https://www.newsweek.co...</td>\n",
              "      <td>Entire Territory</td>\n",
              "      <td>Most Public Indoor Spaces (Including Public Tr...</td>\n",
              "      <td>4/3/2020</td>\n",
              "      <td>District of Columbia</td>\n",
              "      <td>3</td>\n",
              "      <td>8</td>\n",
              "    </tr>\n",
              "    <tr>\n",
              "      <th>35</th>\n",
              "      <td>[Iowa](https://www.kcci.com/article/johnson-co...</td>\n",
              "      <td>Parts of State</td>\n",
              "      <td>NaN</td>\n",
              "      <td>NaN</td>\n",
              "      <td>Iowa</td>\n",
              "      <td>6</td>\n",
              "      <td>-1</td>\n",
              "    </tr>\n",
              "    <tr>\n",
              "      <th>36</th>\n",
              "      <td>[Oklahoma](https://kfor.com/news/local/list-ok...</td>\n",
              "      <td>Parts of State</td>\n",
              "      <td>NaN</td>\n",
              "      <td>NaN</td>\n",
              "      <td>Oklahoma</td>\n",
              "      <td>6</td>\n",
              "      <td>-1</td>\n",
              "    </tr>\n",
              "    <tr>\n",
              "      <th>37</th>\n",
              "      <td>[Alaska](https://mustreadalaska.com/anchorage-...</td>\n",
              "      <td>Parts of State</td>\n",
              "      <td>NaN</td>\n",
              "      <td>NaN</td>\n",
              "      <td>Alaska</td>\n",
              "      <td>6</td>\n",
              "      <td>-1</td>\n",
              "    </tr>\n",
              "    <tr>\n",
              "      <th>38</th>\n",
              "      <td>[Wyoming](https://www.wyomingnewsnow.tv/conten...</td>\n",
              "      <td>Parts of State</td>\n",
              "      <td>NaN</td>\n",
              "      <td>NaN</td>\n",
              "      <td>Wyoming</td>\n",
              "      <td>6</td>\n",
              "      <td>-1</td>\n",
              "    </tr>\n",
              "    <tr>\n",
              "      <th>39</th>\n",
              "      <td>[New Hampshire](https://www.nhpr.org/post/coro...</td>\n",
              "      <td>Parts of State</td>\n",
              "      <td>Gatherings of 100+ People &amp; Personal Care Biz'...</td>\n",
              "      <td>NaN</td>\n",
              "      <td>New Hampshire</td>\n",
              "      <td>6</td>\n",
              "      <td>7</td>\n",
              "    </tr>\n",
              "    <tr>\n",
              "      <th>40</th>\n",
              "      <td>[North Dakota](https://kfgo.com/2020/04/16/629...</td>\n",
              "      <td>Parts of State</td>\n",
              "      <td>NaN</td>\n",
              "      <td>NaN</td>\n",
              "      <td>North Dakota</td>\n",
              "      <td>6</td>\n",
              "      <td>-1</td>\n",
              "    </tr>\n",
              "    <tr>\n",
              "      <th>41</th>\n",
              "      <td>[Missouri](https://kmox.radio.com/articles/new...</td>\n",
              "      <td>Parts of State</td>\n",
              "      <td>NaN</td>\n",
              "      <td>NaN</td>\n",
              "      <td>Missouri</td>\n",
              "      <td>6</td>\n",
              "      <td>-1</td>\n",
              "    </tr>\n",
              "    <tr>\n",
              "      <th>42</th>\n",
              "      <td>[Florida](https://www.sun-sentinel.com/coronav...</td>\n",
              "      <td>Parts of State</td>\n",
              "      <td>NaN</td>\n",
              "      <td>NaN</td>\n",
              "      <td>Florida</td>\n",
              "      <td>6</td>\n",
              "      <td>-1</td>\n",
              "    </tr>\n",
              "    <tr>\n",
              "      <th>43</th>\n",
              "      <td>[Kansas](https://www.kansas.com/news/politics-...</td>\n",
              "      <td>Parts of State</td>\n",
              "      <td>NaN</td>\n",
              "      <td>NaN</td>\n",
              "      <td>Kansas</td>\n",
              "      <td>6</td>\n",
              "      <td>-1</td>\n",
              "    </tr>\n",
              "    <tr>\n",
              "      <th>44</th>\n",
              "      <td>[Tennessee](https://www.wsmv.com/news/workers-...</td>\n",
              "      <td>Parts of State</td>\n",
              "      <td>NaN</td>\n",
              "      <td>NaN</td>\n",
              "      <td>Tennessee</td>\n",
              "      <td>6</td>\n",
              "      <td>-1</td>\n",
              "    </tr>\n",
              "    <tr>\n",
              "      <th>45</th>\n",
              "      <td>[Idaho](https://www.nbcnews.com/news/us-news/m...</td>\n",
              "      <td>Parts of State</td>\n",
              "      <td>NaN</td>\n",
              "      <td>NaN</td>\n",
              "      <td>Idaho</td>\n",
              "      <td>6</td>\n",
              "      <td>-1</td>\n",
              "    </tr>\n",
              "    <tr>\n",
              "      <th>46</th>\n",
              "      <td>[Nebraska](http://dhhs.ne.gov/Documents/COVID-...</td>\n",
              "      <td>Entire State (Employees Only)</td>\n",
              "      <td>NaN</td>\n",
              "      <td>NaN</td>\n",
              "      <td>Nebraska</td>\n",
              "      <td>1</td>\n",
              "      <td>-1</td>\n",
              "    </tr>\n",
              "    <tr>\n",
              "      <th>47</th>\n",
              "      <td>[Arizona](https://www.sfchronicle.com/news/art...</td>\n",
              "      <td>Parts of State (Employees Only)</td>\n",
              "      <td>NaN</td>\n",
              "      <td>NaN</td>\n",
              "      <td>Arizona</td>\n",
              "      <td>7</td>\n",
              "      <td>-1</td>\n",
              "    </tr>\n",
              "    <tr>\n",
              "      <th>48</th>\n",
              "      <td>[Georgia](https://patch.com/georgia/atlanta/ga...</td>\n",
              "      <td>Parts of State (Employees Only)</td>\n",
              "      <td>NaN</td>\n",
              "      <td>NaN</td>\n",
              "      <td>Georgia</td>\n",
              "      <td>7</td>\n",
              "      <td>-1</td>\n",
              "    </tr>\n",
              "    <tr>\n",
              "      <th>49</th>\n",
              "      <td>[South Dakota](https://masks4all.co/what-state...</td>\n",
              "      <td>No</td>\n",
              "      <td>NaN</td>\n",
              "      <td>NaN</td>\n",
              "      <td>South Dakota</td>\n",
              "      <td>5</td>\n",
              "      <td>-1</td>\n",
              "    </tr>\n",
              "    <tr>\n",
              "      <th>50</th>\n",
              "      <td>[Utah](https://www.fox13now.com/news/coronavir...</td>\n",
              "      <td>Masks strongly recommended, provides masks for...</td>\n",
              "      <td>Strongly encourages, provides masks for free</td>\n",
              "      <td>NaN</td>\n",
              "      <td>Utah</td>\n",
              "      <td>4</td>\n",
              "      <td>10</td>\n",
              "    </tr>\n",
              "    <tr>\n",
              "      <th>51</th>\n",
              "      <td>[South Carolina](http://thestate.com/news/coro...</td>\n",
              "      <td>Entire State (Most Indoor Public Places)</td>\n",
              "      <td>All Restaurants, Entertainment Venues, &amp; Gover...</td>\n",
              "      <td>NaN</td>\n",
              "      <td>South Carolina</td>\n",
              "      <td>2</td>\n",
              "      <td>3</td>\n",
              "    </tr>\n",
              "  </tbody>\n",
              "</table>\n",
              "</div>"
            ],
            "text/plain": [
              "                                               State.  ... requirement_code\n",
              "0   [Mississippi](https://www.cnn.com/2020/08/05/h...  ...               -1\n",
              "1   [Vermont](https://governor.vermont.gov/sites/s...  ...                5\n",
              "2   [Wisconsin](https://www.nbc15.com/2020/07/30/m...  ...                1\n",
              "3   [Indiana](https://wpta21.com/2020/07/22/indian...  ...                5\n",
              "4   [Minnesota](https://www.startribune.com/walz-m...  ...                8\n",
              "5   [Ohio](https://www.cincinnati.com/story/news/2...  ...                5\n",
              "6   [Arkansas](https://arktimes.com/arkansas-blog/...  ...                5\n",
              "7   [Colorado](https://patch.com/colorado/littleto...  ...                1\n",
              "8   [Alabama](https://www.wsfa.com/2020/07/15/gov-...  ...                5\n",
              "9   [Montana](https://montanafreepress.org/2020/07...  ...                0\n",
              "10  [Louisiana](https://www.wwltv.com/article/news...  ...                5\n",
              "11  [Kentucky](https://www.wlky.com/article/masks-...  ...                5\n",
              "12  [West Virginia](https://www.wsaz.com/2020/07/0...  ...                2\n",
              "13  [Texas](https://abc13.com/health/mask-order-is...  ...                6\n",
              "14  [Oregon](https://www.opb.org/news/article/oreg...  ...                5\n",
              "15  [Washington](https://komonews.com/news/coronav...  ...                5\n",
              "16  [North Carolina](https://www.wbtv.com/2020/06/...  ...                5\n",
              "17  [Nevada](https://nvhealthresponse.nv.gov/wp-co...  ...                5\n",
              "18  [California](https://www.cdph.ca.gov/Programs/...  ...                5\n",
              "19  [Virginia](https://www.wsls.com/news/local/202...  ...                1\n",
              "20  [New Mexico](https://www.abqjournal.com/145526...  ...                5\n",
              "21  [Massachusetts](https://www.nepr.net/post/mass...  ...                5\n",
              "22  [Delaware](https://news.delaware.gov/2020/04/2...  ...                4\n",
              "23  [Illinois](https://www.nbcchicago.com/news/loc...  ...                5\n",
              "24    [Maine](https://www.pressherald.com/?p=5399794)  ...                4\n",
              "25  [Michigan](https://fox59.com/news/coronavirus/...  ...                5\n",
              "26  [Hawaii](https://www.hawaiinewsnow.com/2020/04...  ...                9\n",
              "27  [Rhode Island](https://www.necn.com/news/coron...  ...                5\n",
              "28  [Maryland](https://www.baltimoresun.com/corona...  ...                8\n",
              "29  [Pennsylvania](https://www.governor.pa.gov/new...  ...                4\n",
              "30  [Connecticut](https://www.nbcconnecticut.com/n...  ...                5\n",
              "31  [New York](https://thehill.com/policy/healthca...  ...                5\n",
              "32  [New Jersey](https://www.phillyvoice.com/new-j...  ...                5\n",
              "33  [Puerto Rico](https://www.nytimes.com/2020/04/...  ...                4\n",
              "34  [District of Columbia](https://www.newsweek.co...  ...                8\n",
              "35  [Iowa](https://www.kcci.com/article/johnson-co...  ...               -1\n",
              "36  [Oklahoma](https://kfor.com/news/local/list-ok...  ...               -1\n",
              "37  [Alaska](https://mustreadalaska.com/anchorage-...  ...               -1\n",
              "38  [Wyoming](https://www.wyomingnewsnow.tv/conten...  ...               -1\n",
              "39  [New Hampshire](https://www.nhpr.org/post/coro...  ...                7\n",
              "40  [North Dakota](https://kfgo.com/2020/04/16/629...  ...               -1\n",
              "41  [Missouri](https://kmox.radio.com/articles/new...  ...               -1\n",
              "42  [Florida](https://www.sun-sentinel.com/coronav...  ...               -1\n",
              "43  [Kansas](https://www.kansas.com/news/politics-...  ...               -1\n",
              "44  [Tennessee](https://www.wsmv.com/news/workers-...  ...               -1\n",
              "45  [Idaho](https://www.nbcnews.com/news/us-news/m...  ...               -1\n",
              "46  [Nebraska](http://dhhs.ne.gov/Documents/COVID-...  ...               -1\n",
              "47  [Arizona](https://www.sfchronicle.com/news/art...  ...               -1\n",
              "48  [Georgia](https://patch.com/georgia/atlanta/ga...  ...               -1\n",
              "49  [South Dakota](https://masks4all.co/what-state...  ...               -1\n",
              "50  [Utah](https://www.fox13now.com/news/coronavir...  ...               10\n",
              "51  [South Carolina](http://thestate.com/news/coro...  ...                3\n",
              "\n",
              "[52 rows x 7 columns]"
            ]
          },
          "metadata": {
            "tags": []
          },
          "execution_count": 16
        }
      ]
    },
    {
      "cell_type": "code",
      "metadata": {
        "id": "AFh9sTRnvoxD",
        "colab": {
          "base_uri": "https://localhost:8080/"
        },
        "outputId": "b8df89ca-de67-45a0-df14-9adbe0646fbe"
      },
      "source": [
        "mask_data['requirement_code'].unique()"
      ],
      "execution_count": null,
      "outputs": [
        {
          "output_type": "execute_result",
          "data": {
            "text/plain": [
              "array([-1,  5,  1,  8,  0,  2,  6,  4,  9,  7, 10,  3], dtype=int8)"
            ]
          },
          "metadata": {
            "tags": []
          },
          "execution_count": 17
        }
      ]
    },
    {
      "cell_type": "code",
      "metadata": {
        "id": "7JSk6qQKw_cN",
        "colab": {
          "base_uri": "https://localhost:8080/"
        },
        "outputId": "5c8feea5-87d0-45c1-ad82-cd7bfb23a938"
      },
      "source": [
        "mask_data['state_name'].unique()"
      ],
      "execution_count": null,
      "outputs": [
        {
          "output_type": "execute_result",
          "data": {
            "text/plain": [
              "array(['Mississippi', 'Vermont', 'Wisconsin', 'Indiana', 'Minnesota',\n",
              "       'Ohio', 'Arkansas', 'Colorado', 'Alabama', 'Montana', 'Louisiana',\n",
              "       'Kentucky', 'West Virginia', 'Texas', 'Oregon', 'Washington',\n",
              "       'North Carolina', 'Nevada', 'California', 'Virginia', 'New Mexico',\n",
              "       'Massachusetts', 'Delaware', 'Illinois', 'Maine', 'Michigan',\n",
              "       'Hawaii', 'Rhode Island', 'Maryland', 'Pennsylvania',\n",
              "       'Connecticut', 'New York', 'New Jersey', 'Puerto Rico',\n",
              "       'District of Columbia', 'Iowa', 'Oklahoma', 'Alaska', 'Wyoming',\n",
              "       'New Hampshire', 'North Dakota', 'Missouri', 'Florida', 'Kansas',\n",
              "       'Tennessee', 'Idaho', 'Nebraska', 'Arizona', 'Georgia',\n",
              "       'South Dakota', 'Utah', 'South Carolina'], dtype=object)"
            ]
          },
          "metadata": {
            "tags": []
          },
          "execution_count": 18
        }
      ]
    },
    {
      "cell_type": "code",
      "metadata": {
        "id": "H1eJ80TAdjsC"
      },
      "source": [
        ""
      ],
      "execution_count": null,
      "outputs": []
    },
    {
      "cell_type": "code",
      "metadata": {
        "id": "58v6vjUGzTfL",
        "colab": {
          "base_uri": "https://localhost:8080/"
        },
        "outputId": "32b2b5ad-0866-4c5a-c9ec-c3e290fe49f7"
      },
      "source": [
        "f = '4/17/20'\n",
        "f.split('/')"
      ],
      "execution_count": null,
      "outputs": [
        {
          "output_type": "execute_result",
          "data": {
            "text/plain": [
              "['4', '17', '20']"
            ]
          },
          "metadata": {
            "tags": []
          },
          "execution_count": 19
        }
      ]
    },
    {
      "cell_type": "code",
      "metadata": {
        "id": "hVXlswlddNze"
      },
      "source": [
        "def fixDate(x):\n",
        "  if pd.isna(x):\n",
        "    return '-'\n",
        "  else:\n",
        "    arr = x.split('/')\n",
        "    m = arr[0]\n",
        "    d = arr[1]\n",
        "    y = arr[2][:2]\n",
        "    if int(m) < 10:\n",
        "      m = '0'+str(m)\n",
        "    if int(d) < 10:\n",
        "      d = '0'+str(d)\n",
        "    return '20'+y+'-'+m+'-'+d"
      ],
      "execution_count": null,
      "outputs": []
    },
    {
      "cell_type": "code",
      "metadata": {
        "id": "xujShGdheMyD",
        "colab": {
          "base_uri": "https://localhost:8080/",
          "height": 35
        },
        "outputId": "d2bfd08f-4014-42df-f511-1e7acbdb9606"
      },
      "source": [
        "a = '4/10/2020 (est.)'\n",
        "fixDate(a)"
      ],
      "execution_count": null,
      "outputs": [
        {
          "output_type": "execute_result",
          "data": {
            "application/vnd.google.colaboratory.intrinsic+json": {
              "type": "string"
            },
            "text/plain": [
              "'2020-04-10'"
            ]
          },
          "metadata": {
            "tags": []
          },
          "execution_count": 72
        }
      ]
    },
    {
      "cell_type": "code",
      "metadata": {
        "id": "zKfYlbpMdk71"
      },
      "source": [
        "mask_data['Requirement Date'] = mask_data['Requirement Date'].apply(lambda x:fixDate(x))"
      ],
      "execution_count": null,
      "outputs": []
    },
    {
      "cell_type": "code",
      "metadata": {
        "id": "GeTtYOiFeAIk",
        "colab": {
          "base_uri": "https://localhost:8080/"
        },
        "outputId": "f48ef0f4-a95b-4f79-b62c-e2dccf4b9112"
      },
      "source": [
        "mask_data['Requirement Date'][0:10]"
      ],
      "execution_count": null,
      "outputs": [
        {
          "output_type": "execute_result",
          "data": {
            "text/plain": [
              "0    2020-08-04\n",
              "1    2020-08-01\n",
              "2    2020-08-01\n",
              "3    2020-07-27\n",
              "4    2020-07-25\n",
              "5    2020-07-23\n",
              "6    2020-07-20\n",
              "7    2020-07-17\n",
              "8    2020-07-16\n",
              "9    2020-07-15\n",
              "Name: Requirement Date, dtype: object"
            ]
          },
          "metadata": {
            "tags": []
          },
          "execution_count": 23
        }
      ]
    },
    {
      "cell_type": "code",
      "metadata": {
        "id": "VoXMoQ9Ue5yY",
        "colab": {
          "base_uri": "https://localhost:8080/",
          "height": 267
        },
        "outputId": "436a7127-26ab-4030-9eea-5228fd2b2d66"
      },
      "source": [
        "mask_data.tail(2)"
      ],
      "execution_count": null,
      "outputs": [
        {
          "output_type": "execute_result",
          "data": {
            "text/html": [
              "<div>\n",
              "<style scoped>\n",
              "    .dataframe tbody tr th:only-of-type {\n",
              "        vertical-align: middle;\n",
              "    }\n",
              "\n",
              "    .dataframe tbody tr th {\n",
              "        vertical-align: top;\n",
              "    }\n",
              "\n",
              "    .dataframe thead th {\n",
              "        text-align: right;\n",
              "    }\n",
              "</style>\n",
              "<table border=\"1\" class=\"dataframe\">\n",
              "  <thead>\n",
              "    <tr style=\"text-align: right;\">\n",
              "      <th></th>\n",
              "      <th>State.</th>\n",
              "      <th>Masks Required?</th>\n",
              "      <th>Type of Requirement</th>\n",
              "      <th>Requirement Date</th>\n",
              "      <th>state_name</th>\n",
              "      <th>mask_required_rule</th>\n",
              "      <th>requirement_code</th>\n",
              "    </tr>\n",
              "  </thead>\n",
              "  <tbody>\n",
              "    <tr>\n",
              "      <th>50</th>\n",
              "      <td>[Utah](https://www.fox13now.com/news/coronavir...</td>\n",
              "      <td>Masks strongly recommended, provides masks for...</td>\n",
              "      <td>Strongly encourages, provides masks for free</td>\n",
              "      <td>-</td>\n",
              "      <td>Utah</td>\n",
              "      <td>4</td>\n",
              "      <td>10</td>\n",
              "    </tr>\n",
              "    <tr>\n",
              "      <th>51</th>\n",
              "      <td>[South Carolina](http://thestate.com/news/coro...</td>\n",
              "      <td>Entire State (Most Indoor Public Places)</td>\n",
              "      <td>All Restaurants, Entertainment Venues, &amp; Gover...</td>\n",
              "      <td>-</td>\n",
              "      <td>South Carolina</td>\n",
              "      <td>2</td>\n",
              "      <td>3</td>\n",
              "    </tr>\n",
              "  </tbody>\n",
              "</table>\n",
              "</div>"
            ],
            "text/plain": [
              "                                               State.  ... requirement_code\n",
              "50  [Utah](https://www.fox13now.com/news/coronavir...  ...               10\n",
              "51  [South Carolina](http://thestate.com/news/coro...  ...                3\n",
              "\n",
              "[2 rows x 7 columns]"
            ]
          },
          "metadata": {
            "tags": []
          },
          "execution_count": 24
        }
      ]
    },
    {
      "cell_type": "code",
      "metadata": {
        "id": "yw5rSByxApWR"
      },
      "source": [
        "mask_data['Law Date'] = mask_data['Requirement Date']"
      ],
      "execution_count": null,
      "outputs": []
    },
    {
      "cell_type": "code",
      "metadata": {
        "id": "gQlBcpaDfAhD",
        "colab": {
          "base_uri": "https://localhost:8080/",
          "height": 111
        },
        "outputId": "9b24ac12-f3f8-4931-f358-e69fc2095b82"
      },
      "source": [
        "cols = ['state_name','Law Date','Masks Required?','Type of Requirement','mask_required_rule','requirement_code']\n",
        "mask_data_filtered = mask_data[cols]\n",
        "mask_data_filtered.head(2)\n"
      ],
      "execution_count": null,
      "outputs": [
        {
          "output_type": "execute_result",
          "data": {
            "text/html": [
              "<div>\n",
              "<style scoped>\n",
              "    .dataframe tbody tr th:only-of-type {\n",
              "        vertical-align: middle;\n",
              "    }\n",
              "\n",
              "    .dataframe tbody tr th {\n",
              "        vertical-align: top;\n",
              "    }\n",
              "\n",
              "    .dataframe thead th {\n",
              "        text-align: right;\n",
              "    }\n",
              "</style>\n",
              "<table border=\"1\" class=\"dataframe\">\n",
              "  <thead>\n",
              "    <tr style=\"text-align: right;\">\n",
              "      <th></th>\n",
              "      <th>state_name</th>\n",
              "      <th>Law Date</th>\n",
              "      <th>Masks Required?</th>\n",
              "      <th>Type of Requirement</th>\n",
              "      <th>mask_required_rule</th>\n",
              "      <th>requirement_code</th>\n",
              "    </tr>\n",
              "  </thead>\n",
              "  <tbody>\n",
              "    <tr>\n",
              "      <th>0</th>\n",
              "      <td>Mississippi</td>\n",
              "      <td>2020-08-04</td>\n",
              "      <td>Parts of State</td>\n",
              "      <td>NaN</td>\n",
              "      <td>6</td>\n",
              "      <td>-1</td>\n",
              "    </tr>\n",
              "    <tr>\n",
              "      <th>1</th>\n",
              "      <td>Vermont</td>\n",
              "      <td>2020-08-01</td>\n",
              "      <td>Entire State</td>\n",
              "      <td>Everywhere in public where social distancing i...</td>\n",
              "      <td>0</td>\n",
              "      <td>5</td>\n",
              "    </tr>\n",
              "  </tbody>\n",
              "</table>\n",
              "</div>"
            ],
            "text/plain": [
              "    state_name    Law Date  ... mask_required_rule requirement_code\n",
              "0  Mississippi  2020-08-04  ...                  6               -1\n",
              "1      Vermont  2020-08-01  ...                  0                5\n",
              "\n",
              "[2 rows x 6 columns]"
            ]
          },
          "metadata": {
            "tags": []
          },
          "execution_count": 27
        }
      ]
    },
    {
      "cell_type": "code",
      "metadata": {
        "colab": {
          "base_uri": "https://localhost:8080/"
        },
        "id": "KHQJrHXZAmaT",
        "outputId": "2aa482ef-f81e-44ea-ab13-f696d88ff19b"
      },
      "source": [
        "\n",
        "from datetime import datetime\n",
        "location = '/content/drive/Shared drives/CMPE 295- Master Project/projectdata-2021/'\n",
        "filename = 'Mask_Rule_'+datetime.now().strftime(\"%b%d\")+'.csv' #%Y%m%d\n",
        "print(filename)\n",
        "mask_data_filtered.to_csv(location+filename,index=False)\n",
        "\n"
      ],
      "execution_count": null,
      "outputs": [
        {
          "output_type": "stream",
          "text": [
            "Mask_Rule_Jan10.csv\n"
          ],
          "name": "stdout"
        }
      ]
    }
  ]
}