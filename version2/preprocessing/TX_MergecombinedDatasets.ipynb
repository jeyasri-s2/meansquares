{
  "nbformat": 4,
  "nbformat_minor": 0,
  "metadata": {
    "colab": {
      "name": "TX_MergecombinedDatasets.ipynb",
      "provenance": [],
      "collapsed_sections": [],
      "toc_visible": true,
      "include_colab_link": true
    },
    "kernelspec": {
      "name": "python3",
      "display_name": "Python 3"
    }
  },
  "cells": [
    {
      "cell_type": "markdown",
      "metadata": {
        "id": "view-in-github",
        "colab_type": "text"
      },
      "source": [
        "<a href=\"https://colab.research.google.com/github/aarsanjani/meansquares/blob/master/version2/preprocessing/TX_MergecombinedDatasets.ipynb\" target=\"_parent\"><img src=\"https://colab.research.google.com/assets/colab-badge.svg\" alt=\"Open In Colab\"/></a>"
      ]
    },
    {
      "cell_type": "markdown",
      "metadata": {
        "id": "I1GiiKEAklnj"
      },
      "source": [
        "# Goal\n",
        "\n",
        "This colab merges for TX\n",
        "* COVID-19 and population datasets\n",
        "* Social distancing data\n",
        "* Mask rule active data\n",
        "* Google mobility data "
      ]
    },
    {
      "cell_type": "markdown",
      "metadata": {
        "id": "FU90auh8nSS_"
      },
      "source": [
        "# Mount drive"
      ]
    },
    {
      "cell_type": "code",
      "metadata": {
        "colab": {
          "base_uri": "https://localhost:8080/"
        },
        "id": "gQmt77GRkUtY",
        "outputId": "404ea838-2ba7-46db-a43b-756404d3847d"
      },
      "source": [
        "from google.colab import drive\n",
        "drive.mount('/content/drive')"
      ],
      "execution_count": null,
      "outputs": [
        {
          "output_type": "stream",
          "text": [
            "Mounted at /content/drive\n"
          ],
          "name": "stdout"
        }
      ]
    },
    {
      "cell_type": "code",
      "metadata": {
        "colab": {
          "base_uri": "https://localhost:8080/"
        },
        "id": "DpKb85STmNrk",
        "outputId": "0d66706a-834f-497b-dbb3-b2fa8cb69a1d"
      },
      "source": [
        "!ls '/content/drive/Shared drives/CMPE 295- Master Project/projectdata-2021'"
      ],
      "execution_count": null,
      "outputs": [
        {
          "output_type": "stream",
          "text": [
            " CA_CovidDataJan10.csv\t\t       NY_CovidDataJan10.csv\n",
            " CA_GoogleMobilityDataJan10.csv        NY_GoogleMobilityDataJan10.csv\n",
            " CA_SocialDistancingDataJan10.csv      NY_SocialDistancingDataJan10.csv\n",
            " computed_CA_mobility_data.csv\t      'Policy_Map_(Sized)_Full_Data_data.csv'\n",
            " data-mask_for_all.csv\t\t       TX_CovidDataJan10.csv\n",
            " election_results_2021.csv\t       TX_GoogleMobilityDataJan10.csv\n",
            " maryland_inertia_raw_dec28_2020.csv   TX_SocialDistancingDataJan10.csv\n",
            " Mask_Rule_Jan10.csv\n"
          ],
          "name": "stdout"
        }
      ]
    },
    {
      "cell_type": "markdown",
      "metadata": {
        "id": "dNXkM53vnQHE"
      },
      "source": [
        "# Import package"
      ]
    },
    {
      "cell_type": "code",
      "metadata": {
        "id": "Pv27zOJmnMDc"
      },
      "source": [
        "import pandas as pd\n",
        "import seaborn as sns\n",
        "from sklearn import preprocessing\n",
        "from sklearn.model_selection import train_test_split\n",
        "\n",
        "from sklearn.preprocessing import LabelEncoder\n",
        "from sklearn.preprocessing import StandardScaler as ss\n",
        "import itertools\n",
        "from scipy import linalg\n",
        "from sklearn.ensemble import RandomForestClassifier\n",
        "from sklearn.tree import export_graphviz\n",
        "import numpy as np\n",
        "import matplotlib.pyplot as plt"
      ],
      "execution_count": null,
      "outputs": []
    },
    {
      "cell_type": "markdown",
      "metadata": {
        "id": "KqaBJN4WvOHU"
      },
      "source": [
        "# Load Data "
      ]
    },
    {
      "cell_type": "code",
      "metadata": {
        "id": "wIsoGn9Cm0VP"
      },
      "source": [
        "TX_COVID19_data = pd.read_csv('/content/drive/Shared drives/CMPE 295- Master Project/projectdata-2021/TX_CovidDataJan10.csv',low_memory=False)\n",
        "TX_SD_data =pd.read_csv('/content/drive/Shared drives/CMPE 295- Master Project/projectdata-2021/TX_SocialDistancingDataJan10.csv', low_memory=False)\n",
        "mask_rule_data = pd.read_csv('/content/drive/Shared drives/CMPE 295- Master Project/projectdata-2021/Mask_Rule_Jan10.csv', low_memory=False)\n",
        "TX_google_mobility_data = pd.read_csv('/content/drive/Shared drives/CMPE 295- Master Project/projectdata-2021/TX_GoogleMobilityDataJan10.csv', low_memory=False)\n",
        "\n",
        "\n"
      ],
      "execution_count": null,
      "outputs": []
    },
    {
      "cell_type": "code",
      "metadata": {
        "colab": {
          "base_uri": "https://localhost:8080/"
        },
        "id": "3THOmEUwx2Hh",
        "outputId": "f0699635-42b5-44ae-c108-7207f5b6dcd7"
      },
      "source": [
        "print(TX_COVID19_data.shape)\n",
        "print(TX_SD_data.shape)\n",
        "print(mask_rule_data.shape)\n",
        "print(TX_google_mobility_data.shape)"
      ],
      "execution_count": null,
      "outputs": [
        {
          "output_type": "stream",
          "text": [
            "(89662, 11)\n",
            "(63301, 9)\n",
            "(52, 6)\n",
            "(60853, 14)\n"
          ],
          "name": "stdout"
        }
      ]
    },
    {
      "cell_type": "code",
      "metadata": {
        "colab": {
          "base_uri": "https://localhost:8080/",
          "height": 111
        },
        "id": "gmmH4DLqva0m",
        "outputId": "8311bb4b-2c49-45f7-a858-d61d54d959bf"
      },
      "source": [
        "mask_rule_data.head(2)"
      ],
      "execution_count": null,
      "outputs": [
        {
          "output_type": "execute_result",
          "data": {
            "text/html": [
              "<div>\n",
              "<style scoped>\n",
              "    .dataframe tbody tr th:only-of-type {\n",
              "        vertical-align: middle;\n",
              "    }\n",
              "\n",
              "    .dataframe tbody tr th {\n",
              "        vertical-align: top;\n",
              "    }\n",
              "\n",
              "    .dataframe thead th {\n",
              "        text-align: right;\n",
              "    }\n",
              "</style>\n",
              "<table border=\"1\" class=\"dataframe\">\n",
              "  <thead>\n",
              "    <tr style=\"text-align: right;\">\n",
              "      <th></th>\n",
              "      <th>state_name</th>\n",
              "      <th>Law Date</th>\n",
              "      <th>Masks Required?</th>\n",
              "      <th>Type of Requirement</th>\n",
              "      <th>mask_required_rule</th>\n",
              "      <th>requirement_code</th>\n",
              "    </tr>\n",
              "  </thead>\n",
              "  <tbody>\n",
              "    <tr>\n",
              "      <th>0</th>\n",
              "      <td>Mississippi</td>\n",
              "      <td>2020-08-04</td>\n",
              "      <td>Parts of State</td>\n",
              "      <td>NaN</td>\n",
              "      <td>6</td>\n",
              "      <td>-1</td>\n",
              "    </tr>\n",
              "    <tr>\n",
              "      <th>1</th>\n",
              "      <td>Vermont</td>\n",
              "      <td>2020-08-01</td>\n",
              "      <td>Entire State</td>\n",
              "      <td>Everywhere in public where social distancing i...</td>\n",
              "      <td>0</td>\n",
              "      <td>5</td>\n",
              "    </tr>\n",
              "  </tbody>\n",
              "</table>\n",
              "</div>"
            ],
            "text/plain": [
              "    state_name    Law Date  ... mask_required_rule requirement_code\n",
              "0  Mississippi  2020-08-04  ...                  6               -1\n",
              "1      Vermont  2020-08-01  ...                  0                5\n",
              "\n",
              "[2 rows x 6 columns]"
            ]
          },
          "metadata": {
            "tags": []
          },
          "execution_count": 8
        }
      ]
    },
    {
      "cell_type": "code",
      "metadata": {
        "colab": {
          "base_uri": "https://localhost:8080/",
          "height": 80
        },
        "id": "tQIV5-HivNI9",
        "outputId": "cdc63878-01cc-4bbc-9867-231a7d861bd1"
      },
      "source": [
        "TX_mask_rule = mask_rule_data[mask_rule_data['state_name'] == 'Texas']\n",
        "TX_mask_rule"
      ],
      "execution_count": null,
      "outputs": [
        {
          "output_type": "execute_result",
          "data": {
            "text/html": [
              "<div>\n",
              "<style scoped>\n",
              "    .dataframe tbody tr th:only-of-type {\n",
              "        vertical-align: middle;\n",
              "    }\n",
              "\n",
              "    .dataframe tbody tr th {\n",
              "        vertical-align: top;\n",
              "    }\n",
              "\n",
              "    .dataframe thead th {\n",
              "        text-align: right;\n",
              "    }\n",
              "</style>\n",
              "<table border=\"1\" class=\"dataframe\">\n",
              "  <thead>\n",
              "    <tr style=\"text-align: right;\">\n",
              "      <th></th>\n",
              "      <th>state_name</th>\n",
              "      <th>Law Date</th>\n",
              "      <th>Masks Required?</th>\n",
              "      <th>Type of Requirement</th>\n",
              "      <th>mask_required_rule</th>\n",
              "      <th>requirement_code</th>\n",
              "    </tr>\n",
              "  </thead>\n",
              "  <tbody>\n",
              "    <tr>\n",
              "      <th>13</th>\n",
              "      <td>Texas</td>\n",
              "      <td>2020-07-03</td>\n",
              "      <td>Entire State</td>\n",
              "      <td>Everywhere in public where social distancing i...</td>\n",
              "      <td>0</td>\n",
              "      <td>6</td>\n",
              "    </tr>\n",
              "  </tbody>\n",
              "</table>\n",
              "</div>"
            ],
            "text/plain": [
              "   state_name    Law Date  ... mask_required_rule requirement_code\n",
              "13      Texas  2020-07-03  ...                  0                6\n",
              "\n",
              "[1 rows x 6 columns]"
            ]
          },
          "metadata": {
            "tags": []
          },
          "execution_count": 9
        }
      ]
    },
    {
      "cell_type": "code",
      "metadata": {
        "colab": {
          "base_uri": "https://localhost:8080/",
          "height": 204
        },
        "id": "TMJuQlU4v1_m",
        "outputId": "88cf0af1-7c2b-4d46-cc3c-f4dff79d507f"
      },
      "source": [
        "TX_COVID19_data.head()"
      ],
      "execution_count": null,
      "outputs": [
        {
          "output_type": "execute_result",
          "data": {
            "text/html": [
              "<div>\n",
              "<style scoped>\n",
              "    .dataframe tbody tr th:only-of-type {\n",
              "        vertical-align: middle;\n",
              "    }\n",
              "\n",
              "    .dataframe tbody tr th {\n",
              "        vertical-align: top;\n",
              "    }\n",
              "\n",
              "    .dataframe thead th {\n",
              "        text-align: right;\n",
              "    }\n",
              "</style>\n",
              "<table border=\"1\" class=\"dataframe\">\n",
              "  <thead>\n",
              "    <tr style=\"text-align: right;\">\n",
              "      <th></th>\n",
              "      <th>Date</th>\n",
              "      <th>Province_State</th>\n",
              "      <th>FIPS</th>\n",
              "      <th>Confirmed</th>\n",
              "      <th>Deaths</th>\n",
              "      <th>New cases</th>\n",
              "      <th>New deaths</th>\n",
              "      <th>County Name</th>\n",
              "      <th>State</th>\n",
              "      <th>population</th>\n",
              "    </tr>\n",
              "  </thead>\n",
              "  <tbody>\n",
              "    <tr>\n",
              "      <th>0</th>\n",
              "      <td>2020-01-22</td>\n",
              "      <td>Texas</td>\n",
              "      <td>48001</td>\n",
              "      <td>0</td>\n",
              "      <td>0.0</td>\n",
              "      <td>0</td>\n",
              "      <td>0</td>\n",
              "      <td>Anderson County</td>\n",
              "      <td>TX</td>\n",
              "      <td>57735</td>\n",
              "    </tr>\n",
              "    <tr>\n",
              "      <th>1</th>\n",
              "      <td>2020-01-23</td>\n",
              "      <td>Texas</td>\n",
              "      <td>48001</td>\n",
              "      <td>0</td>\n",
              "      <td>0.0</td>\n",
              "      <td>0</td>\n",
              "      <td>0</td>\n",
              "      <td>Anderson County</td>\n",
              "      <td>TX</td>\n",
              "      <td>57735</td>\n",
              "    </tr>\n",
              "    <tr>\n",
              "      <th>2</th>\n",
              "      <td>2020-01-24</td>\n",
              "      <td>Texas</td>\n",
              "      <td>48001</td>\n",
              "      <td>0</td>\n",
              "      <td>0.0</td>\n",
              "      <td>0</td>\n",
              "      <td>0</td>\n",
              "      <td>Anderson County</td>\n",
              "      <td>TX</td>\n",
              "      <td>57735</td>\n",
              "    </tr>\n",
              "    <tr>\n",
              "      <th>3</th>\n",
              "      <td>2020-01-25</td>\n",
              "      <td>Texas</td>\n",
              "      <td>48001</td>\n",
              "      <td>0</td>\n",
              "      <td>0.0</td>\n",
              "      <td>0</td>\n",
              "      <td>0</td>\n",
              "      <td>Anderson County</td>\n",
              "      <td>TX</td>\n",
              "      <td>57735</td>\n",
              "    </tr>\n",
              "    <tr>\n",
              "      <th>4</th>\n",
              "      <td>2020-01-26</td>\n",
              "      <td>Texas</td>\n",
              "      <td>48001</td>\n",
              "      <td>0</td>\n",
              "      <td>0.0</td>\n",
              "      <td>0</td>\n",
              "      <td>0</td>\n",
              "      <td>Anderson County</td>\n",
              "      <td>TX</td>\n",
              "      <td>57735</td>\n",
              "    </tr>\n",
              "  </tbody>\n",
              "</table>\n",
              "</div>"
            ],
            "text/plain": [
              "         Date Province_State   FIPS  ...      County Name  State  population\n",
              "0  2020-01-22          Texas  48001  ...  Anderson County     TX       57735\n",
              "1  2020-01-23          Texas  48001  ...  Anderson County     TX       57735\n",
              "2  2020-01-24          Texas  48001  ...  Anderson County     TX       57735\n",
              "3  2020-01-25          Texas  48001  ...  Anderson County     TX       57735\n",
              "4  2020-01-26          Texas  48001  ...  Anderson County     TX       57735\n",
              "\n",
              "[5 rows x 10 columns]"
            ]
          },
          "metadata": {
            "tags": []
          },
          "execution_count": 12
        }
      ]
    },
    {
      "cell_type": "code",
      "metadata": {
        "colab": {
          "base_uri": "https://localhost:8080/",
          "height": 204
        },
        "id": "MgAeRS6GvhoQ",
        "outputId": "3d60f6ec-060c-4a69-b506-c48aeaa33c95"
      },
      "source": [
        "TX_COVID19_data['FIPS'] = TX_COVID19_data['FIPS'].apply(lambda x :int(x))\n",
        "TX_COVID19_data.head()"
      ],
      "execution_count": null,
      "outputs": [
        {
          "output_type": "execute_result",
          "data": {
            "text/html": [
              "<div>\n",
              "<style scoped>\n",
              "    .dataframe tbody tr th:only-of-type {\n",
              "        vertical-align: middle;\n",
              "    }\n",
              "\n",
              "    .dataframe tbody tr th {\n",
              "        vertical-align: top;\n",
              "    }\n",
              "\n",
              "    .dataframe thead th {\n",
              "        text-align: right;\n",
              "    }\n",
              "</style>\n",
              "<table border=\"1\" class=\"dataframe\">\n",
              "  <thead>\n",
              "    <tr style=\"text-align: right;\">\n",
              "      <th></th>\n",
              "      <th>Date</th>\n",
              "      <th>Province_State</th>\n",
              "      <th>FIPS</th>\n",
              "      <th>Confirmed</th>\n",
              "      <th>Deaths</th>\n",
              "      <th>New cases</th>\n",
              "      <th>New deaths</th>\n",
              "      <th>County Name</th>\n",
              "      <th>State</th>\n",
              "      <th>population</th>\n",
              "    </tr>\n",
              "  </thead>\n",
              "  <tbody>\n",
              "    <tr>\n",
              "      <th>0</th>\n",
              "      <td>2020-01-22</td>\n",
              "      <td>Texas</td>\n",
              "      <td>48001</td>\n",
              "      <td>0</td>\n",
              "      <td>0.0</td>\n",
              "      <td>0</td>\n",
              "      <td>0</td>\n",
              "      <td>Anderson County</td>\n",
              "      <td>TX</td>\n",
              "      <td>57735</td>\n",
              "    </tr>\n",
              "    <tr>\n",
              "      <th>1</th>\n",
              "      <td>2020-01-23</td>\n",
              "      <td>Texas</td>\n",
              "      <td>48001</td>\n",
              "      <td>0</td>\n",
              "      <td>0.0</td>\n",
              "      <td>0</td>\n",
              "      <td>0</td>\n",
              "      <td>Anderson County</td>\n",
              "      <td>TX</td>\n",
              "      <td>57735</td>\n",
              "    </tr>\n",
              "    <tr>\n",
              "      <th>2</th>\n",
              "      <td>2020-01-24</td>\n",
              "      <td>Texas</td>\n",
              "      <td>48001</td>\n",
              "      <td>0</td>\n",
              "      <td>0.0</td>\n",
              "      <td>0</td>\n",
              "      <td>0</td>\n",
              "      <td>Anderson County</td>\n",
              "      <td>TX</td>\n",
              "      <td>57735</td>\n",
              "    </tr>\n",
              "    <tr>\n",
              "      <th>3</th>\n",
              "      <td>2020-01-25</td>\n",
              "      <td>Texas</td>\n",
              "      <td>48001</td>\n",
              "      <td>0</td>\n",
              "      <td>0.0</td>\n",
              "      <td>0</td>\n",
              "      <td>0</td>\n",
              "      <td>Anderson County</td>\n",
              "      <td>TX</td>\n",
              "      <td>57735</td>\n",
              "    </tr>\n",
              "    <tr>\n",
              "      <th>4</th>\n",
              "      <td>2020-01-26</td>\n",
              "      <td>Texas</td>\n",
              "      <td>48001</td>\n",
              "      <td>0</td>\n",
              "      <td>0.0</td>\n",
              "      <td>0</td>\n",
              "      <td>0</td>\n",
              "      <td>Anderson County</td>\n",
              "      <td>TX</td>\n",
              "      <td>57735</td>\n",
              "    </tr>\n",
              "  </tbody>\n",
              "</table>\n",
              "</div>"
            ],
            "text/plain": [
              "         Date Province_State   FIPS  ...      County Name  State  population\n",
              "0  2020-01-22          Texas  48001  ...  Anderson County     TX       57735\n",
              "1  2020-01-23          Texas  48001  ...  Anderson County     TX       57735\n",
              "2  2020-01-24          Texas  48001  ...  Anderson County     TX       57735\n",
              "3  2020-01-25          Texas  48001  ...  Anderson County     TX       57735\n",
              "4  2020-01-26          Texas  48001  ...  Anderson County     TX       57735\n",
              "\n",
              "[5 rows x 10 columns]"
            ]
          },
          "metadata": {
            "tags": []
          },
          "execution_count": 13
        }
      ]
    },
    {
      "cell_type": "markdown",
      "metadata": {
        "id": "xPWQIN0EwFaK"
      },
      "source": [
        "# Combining COVID-19, population  and mask data"
      ]
    },
    {
      "cell_type": "code",
      "metadata": {
        "colab": {
          "base_uri": "https://localhost:8080/",
          "height": 204
        },
        "id": "9ImWqJS0v8Fa",
        "outputId": "084d8a48-a02a-4d93-8981-a6b4961046e4"
      },
      "source": [
        "TX_COVID19_data['mask_rule_active'] = TX_COVID19_data['Date'].apply(lambda x : 1 if x >= TX_mask_rule['Law Date'].values[0] else 0 )\n",
        "TX_COVID19_data.head()"
      ],
      "execution_count": null,
      "outputs": [
        {
          "output_type": "execute_result",
          "data": {
            "text/html": [
              "<div>\n",
              "<style scoped>\n",
              "    .dataframe tbody tr th:only-of-type {\n",
              "        vertical-align: middle;\n",
              "    }\n",
              "\n",
              "    .dataframe tbody tr th {\n",
              "        vertical-align: top;\n",
              "    }\n",
              "\n",
              "    .dataframe thead th {\n",
              "        text-align: right;\n",
              "    }\n",
              "</style>\n",
              "<table border=\"1\" class=\"dataframe\">\n",
              "  <thead>\n",
              "    <tr style=\"text-align: right;\">\n",
              "      <th></th>\n",
              "      <th>Date</th>\n",
              "      <th>Province_State</th>\n",
              "      <th>FIPS</th>\n",
              "      <th>Confirmed</th>\n",
              "      <th>Deaths</th>\n",
              "      <th>New cases</th>\n",
              "      <th>New deaths</th>\n",
              "      <th>County Name</th>\n",
              "      <th>State</th>\n",
              "      <th>population</th>\n",
              "      <th>mask_rule_active</th>\n",
              "    </tr>\n",
              "  </thead>\n",
              "  <tbody>\n",
              "    <tr>\n",
              "      <th>0</th>\n",
              "      <td>2020-01-22</td>\n",
              "      <td>Texas</td>\n",
              "      <td>48001</td>\n",
              "      <td>0</td>\n",
              "      <td>0.0</td>\n",
              "      <td>0</td>\n",
              "      <td>0</td>\n",
              "      <td>Anderson County</td>\n",
              "      <td>TX</td>\n",
              "      <td>57735</td>\n",
              "      <td>0</td>\n",
              "    </tr>\n",
              "    <tr>\n",
              "      <th>1</th>\n",
              "      <td>2020-01-23</td>\n",
              "      <td>Texas</td>\n",
              "      <td>48001</td>\n",
              "      <td>0</td>\n",
              "      <td>0.0</td>\n",
              "      <td>0</td>\n",
              "      <td>0</td>\n",
              "      <td>Anderson County</td>\n",
              "      <td>TX</td>\n",
              "      <td>57735</td>\n",
              "      <td>0</td>\n",
              "    </tr>\n",
              "    <tr>\n",
              "      <th>2</th>\n",
              "      <td>2020-01-24</td>\n",
              "      <td>Texas</td>\n",
              "      <td>48001</td>\n",
              "      <td>0</td>\n",
              "      <td>0.0</td>\n",
              "      <td>0</td>\n",
              "      <td>0</td>\n",
              "      <td>Anderson County</td>\n",
              "      <td>TX</td>\n",
              "      <td>57735</td>\n",
              "      <td>0</td>\n",
              "    </tr>\n",
              "    <tr>\n",
              "      <th>3</th>\n",
              "      <td>2020-01-25</td>\n",
              "      <td>Texas</td>\n",
              "      <td>48001</td>\n",
              "      <td>0</td>\n",
              "      <td>0.0</td>\n",
              "      <td>0</td>\n",
              "      <td>0</td>\n",
              "      <td>Anderson County</td>\n",
              "      <td>TX</td>\n",
              "      <td>57735</td>\n",
              "      <td>0</td>\n",
              "    </tr>\n",
              "    <tr>\n",
              "      <th>4</th>\n",
              "      <td>2020-01-26</td>\n",
              "      <td>Texas</td>\n",
              "      <td>48001</td>\n",
              "      <td>0</td>\n",
              "      <td>0.0</td>\n",
              "      <td>0</td>\n",
              "      <td>0</td>\n",
              "      <td>Anderson County</td>\n",
              "      <td>TX</td>\n",
              "      <td>57735</td>\n",
              "      <td>0</td>\n",
              "    </tr>\n",
              "  </tbody>\n",
              "</table>\n",
              "</div>"
            ],
            "text/plain": [
              "         Date Province_State   FIPS  ...  State  population  mask_rule_active\n",
              "0  2020-01-22          Texas  48001  ...     TX       57735                 0\n",
              "1  2020-01-23          Texas  48001  ...     TX       57735                 0\n",
              "2  2020-01-24          Texas  48001  ...     TX       57735                 0\n",
              "3  2020-01-25          Texas  48001  ...     TX       57735                 0\n",
              "4  2020-01-26          Texas  48001  ...     TX       57735                 0\n",
              "\n",
              "[5 rows x 11 columns]"
            ]
          },
          "metadata": {
            "tags": []
          },
          "execution_count": 14
        }
      ]
    },
    {
      "cell_type": "code",
      "metadata": {
        "colab": {
          "base_uri": "https://localhost:8080/"
        },
        "id": "iJQESXYsx-Sn",
        "outputId": "268de7f6-e709-413f-c79d-3aacb6c248e7"
      },
      "source": [
        "TX_COVID19_data.shape"
      ],
      "execution_count": null,
      "outputs": [
        {
          "output_type": "execute_result",
          "data": {
            "text/plain": [
              "(89662, 11)"
            ]
          },
          "metadata": {
            "tags": []
          },
          "execution_count": 23
        }
      ]
    },
    {
      "cell_type": "markdown",
      "metadata": {
        "id": "S4BUH_VNwb88"
      },
      "source": [
        "# Combining COVID-19, population, mask data and Social distancing data"
      ]
    },
    {
      "cell_type": "code",
      "metadata": {
        "colab": {
          "base_uri": "https://localhost:8080/",
          "height": 111
        },
        "id": "_SNKfXD-w0lG",
        "outputId": "fff8d00a-84a5-43f1-c3c6-8cc47a068076"
      },
      "source": [
        "TX_SD_data.tail(2)"
      ],
      "execution_count": null,
      "outputs": [
        {
          "output_type": "execute_result",
          "data": {
            "text/html": [
              "<div>\n",
              "<style scoped>\n",
              "    .dataframe tbody tr th:only-of-type {\n",
              "        vertical-align: middle;\n",
              "    }\n",
              "\n",
              "    .dataframe tbody tr th {\n",
              "        vertical-align: top;\n",
              "    }\n",
              "\n",
              "    .dataframe thead th {\n",
              "        text-align: right;\n",
              "    }\n",
              "</style>\n",
              "<table border=\"1\" class=\"dataframe\">\n",
              "  <thead>\n",
              "    <tr style=\"text-align: right;\">\n",
              "      <th></th>\n",
              "      <th>date</th>\n",
              "      <th>country_code</th>\n",
              "      <th>admin_level</th>\n",
              "      <th>admin1</th>\n",
              "      <th>admin2</th>\n",
              "      <th>fips</th>\n",
              "      <th>samples</th>\n",
              "      <th>m50</th>\n",
              "      <th>m50_index</th>\n",
              "    </tr>\n",
              "  </thead>\n",
              "  <tbody>\n",
              "    <tr>\n",
              "      <th>63299</th>\n",
              "      <td>2021-01-06</td>\n",
              "      <td>US</td>\n",
              "      <td>2</td>\n",
              "      <td>Texas</td>\n",
              "      <td>Zavala County</td>\n",
              "      <td>48507.0</td>\n",
              "      <td>332</td>\n",
              "      <td>3.502</td>\n",
              "      <td>36</td>\n",
              "    </tr>\n",
              "    <tr>\n",
              "      <th>63300</th>\n",
              "      <td>2021-01-07</td>\n",
              "      <td>US</td>\n",
              "      <td>2</td>\n",
              "      <td>Texas</td>\n",
              "      <td>Zavala County</td>\n",
              "      <td>48507.0</td>\n",
              "      <td>308</td>\n",
              "      <td>2.482</td>\n",
              "      <td>25</td>\n",
              "    </tr>\n",
              "  </tbody>\n",
              "</table>\n",
              "</div>"
            ],
            "text/plain": [
              "             date country_code  admin_level  ... samples    m50  m50_index\n",
              "63299  2021-01-06           US            2  ...     332  3.502         36\n",
              "63300  2021-01-07           US            2  ...     308  2.482         25\n",
              "\n",
              "[2 rows x 9 columns]"
            ]
          },
          "metadata": {
            "tags": []
          },
          "execution_count": 16
        }
      ]
    },
    {
      "cell_type": "code",
      "metadata": {
        "colab": {
          "base_uri": "https://localhost:8080/",
          "height": 204
        },
        "id": "LdsAMgEDxBZC",
        "outputId": "47bfcb85-17d3-425c-dc04-9e13be4b6649"
      },
      "source": [
        "TX_SD_data['fips'] = TX_SD_data['fips'].apply(lambda x :int(x))\n",
        "TX_SD_data.head()"
      ],
      "execution_count": null,
      "outputs": [
        {
          "output_type": "execute_result",
          "data": {
            "text/html": [
              "<div>\n",
              "<style scoped>\n",
              "    .dataframe tbody tr th:only-of-type {\n",
              "        vertical-align: middle;\n",
              "    }\n",
              "\n",
              "    .dataframe tbody tr th {\n",
              "        vertical-align: top;\n",
              "    }\n",
              "\n",
              "    .dataframe thead th {\n",
              "        text-align: right;\n",
              "    }\n",
              "</style>\n",
              "<table border=\"1\" class=\"dataframe\">\n",
              "  <thead>\n",
              "    <tr style=\"text-align: right;\">\n",
              "      <th></th>\n",
              "      <th>date</th>\n",
              "      <th>country_code</th>\n",
              "      <th>admin_level</th>\n",
              "      <th>admin1</th>\n",
              "      <th>admin2</th>\n",
              "      <th>fips</th>\n",
              "      <th>samples</th>\n",
              "      <th>m50</th>\n",
              "      <th>m50_index</th>\n",
              "    </tr>\n",
              "  </thead>\n",
              "  <tbody>\n",
              "    <tr>\n",
              "      <th>0</th>\n",
              "      <td>2020-03-01</td>\n",
              "      <td>US</td>\n",
              "      <td>1</td>\n",
              "      <td>Texas</td>\n",
              "      <td>NaN</td>\n",
              "      <td>48</td>\n",
              "      <td>633045</td>\n",
              "      <td>6.619</td>\n",
              "      <td>72</td>\n",
              "    </tr>\n",
              "    <tr>\n",
              "      <th>1</th>\n",
              "      <td>2020-03-02</td>\n",
              "      <td>US</td>\n",
              "      <td>1</td>\n",
              "      <td>Texas</td>\n",
              "      <td>NaN</td>\n",
              "      <td>48</td>\n",
              "      <td>666618</td>\n",
              "      <td>9.071</td>\n",
              "      <td>100</td>\n",
              "    </tr>\n",
              "    <tr>\n",
              "      <th>2</th>\n",
              "      <td>2020-03-03</td>\n",
              "      <td>US</td>\n",
              "      <td>1</td>\n",
              "      <td>Texas</td>\n",
              "      <td>NaN</td>\n",
              "      <td>48</td>\n",
              "      <td>677068</td>\n",
              "      <td>9.062</td>\n",
              "      <td>99</td>\n",
              "    </tr>\n",
              "    <tr>\n",
              "      <th>3</th>\n",
              "      <td>2020-03-04</td>\n",
              "      <td>US</td>\n",
              "      <td>1</td>\n",
              "      <td>Texas</td>\n",
              "      <td>NaN</td>\n",
              "      <td>48</td>\n",
              "      <td>693767</td>\n",
              "      <td>8.571</td>\n",
              "      <td>94</td>\n",
              "    </tr>\n",
              "    <tr>\n",
              "      <th>4</th>\n",
              "      <td>2020-03-05</td>\n",
              "      <td>US</td>\n",
              "      <td>1</td>\n",
              "      <td>Texas</td>\n",
              "      <td>NaN</td>\n",
              "      <td>48</td>\n",
              "      <td>665192</td>\n",
              "      <td>9.828</td>\n",
              "      <td>108</td>\n",
              "    </tr>\n",
              "  </tbody>\n",
              "</table>\n",
              "</div>"
            ],
            "text/plain": [
              "         date country_code  admin_level admin1  ... fips  samples    m50  m50_index\n",
              "0  2020-03-01           US            1  Texas  ...   48   633045  6.619         72\n",
              "1  2020-03-02           US            1  Texas  ...   48   666618  9.071        100\n",
              "2  2020-03-03           US            1  Texas  ...   48   677068  9.062         99\n",
              "3  2020-03-04           US            1  Texas  ...   48   693767  8.571         94\n",
              "4  2020-03-05           US            1  Texas  ...   48   665192  9.828        108\n",
              "\n",
              "[5 rows x 9 columns]"
            ]
          },
          "metadata": {
            "tags": []
          },
          "execution_count": 17
        }
      ]
    },
    {
      "cell_type": "code",
      "metadata": {
        "colab": {
          "base_uri": "https://localhost:8080/",
          "height": 111
        },
        "id": "LXM_CHFkxHdj",
        "outputId": "3475ffb8-3a14-4521-92c6-c76a030305b3"
      },
      "source": [
        "TX_SD_data.tail(2)"
      ],
      "execution_count": null,
      "outputs": [
        {
          "output_type": "execute_result",
          "data": {
            "text/html": [
              "<div>\n",
              "<style scoped>\n",
              "    .dataframe tbody tr th:only-of-type {\n",
              "        vertical-align: middle;\n",
              "    }\n",
              "\n",
              "    .dataframe tbody tr th {\n",
              "        vertical-align: top;\n",
              "    }\n",
              "\n",
              "    .dataframe thead th {\n",
              "        text-align: right;\n",
              "    }\n",
              "</style>\n",
              "<table border=\"1\" class=\"dataframe\">\n",
              "  <thead>\n",
              "    <tr style=\"text-align: right;\">\n",
              "      <th></th>\n",
              "      <th>date</th>\n",
              "      <th>country_code</th>\n",
              "      <th>admin_level</th>\n",
              "      <th>admin1</th>\n",
              "      <th>admin2</th>\n",
              "      <th>fips</th>\n",
              "      <th>samples</th>\n",
              "      <th>m50</th>\n",
              "      <th>m50_index</th>\n",
              "    </tr>\n",
              "  </thead>\n",
              "  <tbody>\n",
              "    <tr>\n",
              "      <th>63299</th>\n",
              "      <td>2021-01-06</td>\n",
              "      <td>US</td>\n",
              "      <td>2</td>\n",
              "      <td>Texas</td>\n",
              "      <td>Zavala County</td>\n",
              "      <td>48507</td>\n",
              "      <td>332</td>\n",
              "      <td>3.502</td>\n",
              "      <td>36</td>\n",
              "    </tr>\n",
              "    <tr>\n",
              "      <th>63300</th>\n",
              "      <td>2021-01-07</td>\n",
              "      <td>US</td>\n",
              "      <td>2</td>\n",
              "      <td>Texas</td>\n",
              "      <td>Zavala County</td>\n",
              "      <td>48507</td>\n",
              "      <td>308</td>\n",
              "      <td>2.482</td>\n",
              "      <td>25</td>\n",
              "    </tr>\n",
              "  </tbody>\n",
              "</table>\n",
              "</div>"
            ],
            "text/plain": [
              "             date country_code  admin_level  ... samples    m50  m50_index\n",
              "63299  2021-01-06           US            2  ...     332  3.502         36\n",
              "63300  2021-01-07           US            2  ...     308  2.482         25\n",
              "\n",
              "[2 rows x 9 columns]"
            ]
          },
          "metadata": {
            "tags": []
          },
          "execution_count": 18
        }
      ]
    },
    {
      "cell_type": "code",
      "metadata": {
        "id": "r_U3lUPFxIbG"
      },
      "source": [
        ""
      ],
      "execution_count": null,
      "outputs": []
    },
    {
      "cell_type": "code",
      "metadata": {
        "colab": {
          "base_uri": "https://localhost:8080/",
          "height": 182
        },
        "id": "6Xes5hCFwjWW",
        "outputId": "1bd1a6ce-d6d1-436b-f9ee-a6877f97df22"
      },
      "source": [
        "TX_socialDistancing_combined = pd.merge(TX_COVID19_data,TX_SD_data,how='inner',left_on=['Date','County Name'],right_on=['date','admin2'])\n",
        "TX_socialDistancing_combined.head(2)"
      ],
      "execution_count": null,
      "outputs": [
        {
          "output_type": "execute_result",
          "data": {
            "text/html": [
              "<div>\n",
              "<style scoped>\n",
              "    .dataframe tbody tr th:only-of-type {\n",
              "        vertical-align: middle;\n",
              "    }\n",
              "\n",
              "    .dataframe tbody tr th {\n",
              "        vertical-align: top;\n",
              "    }\n",
              "\n",
              "    .dataframe thead th {\n",
              "        text-align: right;\n",
              "    }\n",
              "</style>\n",
              "<table border=\"1\" class=\"dataframe\">\n",
              "  <thead>\n",
              "    <tr style=\"text-align: right;\">\n",
              "      <th></th>\n",
              "      <th>Date</th>\n",
              "      <th>Province_State</th>\n",
              "      <th>FIPS</th>\n",
              "      <th>Confirmed</th>\n",
              "      <th>Deaths</th>\n",
              "      <th>New cases</th>\n",
              "      <th>New deaths</th>\n",
              "      <th>County Name</th>\n",
              "      <th>State</th>\n",
              "      <th>population</th>\n",
              "      <th>mask_rule_active</th>\n",
              "      <th>date</th>\n",
              "      <th>country_code</th>\n",
              "      <th>admin_level</th>\n",
              "      <th>admin1</th>\n",
              "      <th>admin2</th>\n",
              "      <th>fips</th>\n",
              "      <th>samples</th>\n",
              "      <th>m50</th>\n",
              "      <th>m50_index</th>\n",
              "    </tr>\n",
              "  </thead>\n",
              "  <tbody>\n",
              "    <tr>\n",
              "      <th>0</th>\n",
              "      <td>2020-03-01</td>\n",
              "      <td>Texas</td>\n",
              "      <td>48001</td>\n",
              "      <td>0</td>\n",
              "      <td>0.0</td>\n",
              "      <td>0</td>\n",
              "      <td>0</td>\n",
              "      <td>Anderson County</td>\n",
              "      <td>TX</td>\n",
              "      <td>57735</td>\n",
              "      <td>0</td>\n",
              "      <td>2020-03-01</td>\n",
              "      <td>US</td>\n",
              "      <td>2</td>\n",
              "      <td>Texas</td>\n",
              "      <td>Anderson County</td>\n",
              "      <td>48001</td>\n",
              "      <td>1210</td>\n",
              "      <td>8.910</td>\n",
              "      <td>79</td>\n",
              "    </tr>\n",
              "    <tr>\n",
              "      <th>1</th>\n",
              "      <td>2020-03-02</td>\n",
              "      <td>Texas</td>\n",
              "      <td>48001</td>\n",
              "      <td>0</td>\n",
              "      <td>0.0</td>\n",
              "      <td>0</td>\n",
              "      <td>0</td>\n",
              "      <td>Anderson County</td>\n",
              "      <td>TX</td>\n",
              "      <td>57735</td>\n",
              "      <td>0</td>\n",
              "      <td>2020-03-02</td>\n",
              "      <td>US</td>\n",
              "      <td>2</td>\n",
              "      <td>Texas</td>\n",
              "      <td>Anderson County</td>\n",
              "      <td>48001</td>\n",
              "      <td>1222</td>\n",
              "      <td>10.708</td>\n",
              "      <td>95</td>\n",
              "    </tr>\n",
              "  </tbody>\n",
              "</table>\n",
              "</div>"
            ],
            "text/plain": [
              "         Date Province_State   FIPS  ...  samples     m50  m50_index\n",
              "0  2020-03-01          Texas  48001  ...     1210   8.910         79\n",
              "1  2020-03-02          Texas  48001  ...     1222  10.708         95\n",
              "\n",
              "[2 rows x 20 columns]"
            ]
          },
          "metadata": {
            "tags": []
          },
          "execution_count": 19
        }
      ]
    },
    {
      "cell_type": "code",
      "metadata": {
        "colab": {
          "base_uri": "https://localhost:8080/"
        },
        "id": "q6Pd5qb5yAzV",
        "outputId": "4f75aa68-e4a5-4966-b480-b7bdf13115ec"
      },
      "source": [
        "TX_socialDistancing_combined.shape"
      ],
      "execution_count": null,
      "outputs": [
        {
          "output_type": "execute_result",
          "data": {
            "text/plain": [
              "(62999, 20)"
            ]
          },
          "metadata": {
            "tags": []
          },
          "execution_count": 24
        }
      ]
    },
    {
      "cell_type": "markdown",
      "metadata": {
        "id": "BPK7-nBxxY7e"
      },
      "source": [
        "# Combining COVID-19, population, mask data, Social distancing data and Google Mobility data"
      ]
    },
    {
      "cell_type": "code",
      "metadata": {
        "colab": {
          "base_uri": "https://localhost:8080/",
          "height": 165
        },
        "id": "F-bqm1F1xl6Y",
        "outputId": "bea3d6c5-d1b2-4fc4-c664-a066c1229485"
      },
      "source": [
        "TX_google_mobility_data.tail(2)"
      ],
      "execution_count": null,
      "outputs": [
        {
          "output_type": "execute_result",
          "data": {
            "text/html": [
              "<div>\n",
              "<style scoped>\n",
              "    .dataframe tbody tr th:only-of-type {\n",
              "        vertical-align: middle;\n",
              "    }\n",
              "\n",
              "    .dataframe tbody tr th {\n",
              "        vertical-align: top;\n",
              "    }\n",
              "\n",
              "    .dataframe thead th {\n",
              "        text-align: right;\n",
              "    }\n",
              "</style>\n",
              "<table border=\"1\" class=\"dataframe\">\n",
              "  <thead>\n",
              "    <tr style=\"text-align: right;\">\n",
              "      <th></th>\n",
              "      <th>country_region_code</th>\n",
              "      <th>country_region</th>\n",
              "      <th>sub_region_1</th>\n",
              "      <th>sub_region_2</th>\n",
              "      <th>metro_area</th>\n",
              "      <th>iso_3166_2_code</th>\n",
              "      <th>census_fips_code</th>\n",
              "      <th>date</th>\n",
              "      <th>retail_and_recreation_percent_change_from_baseline</th>\n",
              "      <th>grocery_and_pharmacy_percent_change_from_baseline</th>\n",
              "      <th>parks_percent_change_from_baseline</th>\n",
              "      <th>transit_stations_percent_change_from_baseline</th>\n",
              "      <th>workplaces_percent_change_from_baseline</th>\n",
              "      <th>residential_percent_change_from_baseline</th>\n",
              "    </tr>\n",
              "  </thead>\n",
              "  <tbody>\n",
              "    <tr>\n",
              "      <th>60851</th>\n",
              "      <td>US</td>\n",
              "      <td>United States</td>\n",
              "      <td>Texas</td>\n",
              "      <td>Zavala County</td>\n",
              "      <td>NaN</td>\n",
              "      <td>NaN</td>\n",
              "      <td>48507.0</td>\n",
              "      <td>2021-01-04</td>\n",
              "      <td>NaN</td>\n",
              "      <td>NaN</td>\n",
              "      <td>NaN</td>\n",
              "      <td>NaN</td>\n",
              "      <td>-32.0</td>\n",
              "      <td>NaN</td>\n",
              "    </tr>\n",
              "    <tr>\n",
              "      <th>60852</th>\n",
              "      <td>US</td>\n",
              "      <td>United States</td>\n",
              "      <td>Texas</td>\n",
              "      <td>Zavala County</td>\n",
              "      <td>NaN</td>\n",
              "      <td>NaN</td>\n",
              "      <td>48507.0</td>\n",
              "      <td>2021-01-05</td>\n",
              "      <td>NaN</td>\n",
              "      <td>NaN</td>\n",
              "      <td>NaN</td>\n",
              "      <td>NaN</td>\n",
              "      <td>-31.0</td>\n",
              "      <td>NaN</td>\n",
              "    </tr>\n",
              "  </tbody>\n",
              "</table>\n",
              "</div>"
            ],
            "text/plain": [
              "      country_region_code  ... residential_percent_change_from_baseline\n",
              "60851                  US  ...                                      NaN\n",
              "60852                  US  ...                                      NaN\n",
              "\n",
              "[2 rows x 14 columns]"
            ]
          },
          "metadata": {
            "tags": []
          },
          "execution_count": 20
        }
      ]
    },
    {
      "cell_type": "code",
      "metadata": {
        "colab": {
          "base_uri": "https://localhost:8080/",
          "height": 182
        },
        "id": "gxyjsf53xjFE",
        "outputId": "5bdf64e9-257b-4af4-a0fa-75cd122b4220"
      },
      "source": [
        "TX_all_data_merged = pd.merge(TX_socialDistancing_combined,TX_google_mobility_data,how='inner',left_on=['Date','County Name'],right_on=['date','sub_region_2'])\n",
        "TX_all_data_merged.head(2)"
      ],
      "execution_count": null,
      "outputs": [
        {
          "output_type": "execute_result",
          "data": {
            "text/html": [
              "<div>\n",
              "<style scoped>\n",
              "    .dataframe tbody tr th:only-of-type {\n",
              "        vertical-align: middle;\n",
              "    }\n",
              "\n",
              "    .dataframe tbody tr th {\n",
              "        vertical-align: top;\n",
              "    }\n",
              "\n",
              "    .dataframe thead th {\n",
              "        text-align: right;\n",
              "    }\n",
              "</style>\n",
              "<table border=\"1\" class=\"dataframe\">\n",
              "  <thead>\n",
              "    <tr style=\"text-align: right;\">\n",
              "      <th></th>\n",
              "      <th>Date</th>\n",
              "      <th>Province_State</th>\n",
              "      <th>FIPS</th>\n",
              "      <th>Confirmed</th>\n",
              "      <th>Deaths</th>\n",
              "      <th>New cases</th>\n",
              "      <th>New deaths</th>\n",
              "      <th>County Name</th>\n",
              "      <th>State</th>\n",
              "      <th>population</th>\n",
              "      <th>mask_rule_active</th>\n",
              "      <th>date_x</th>\n",
              "      <th>country_code</th>\n",
              "      <th>admin_level</th>\n",
              "      <th>admin1</th>\n",
              "      <th>admin2</th>\n",
              "      <th>fips</th>\n",
              "      <th>samples</th>\n",
              "      <th>m50</th>\n",
              "      <th>m50_index</th>\n",
              "      <th>country_region_code</th>\n",
              "      <th>country_region</th>\n",
              "      <th>sub_region_1</th>\n",
              "      <th>sub_region_2</th>\n",
              "      <th>metro_area</th>\n",
              "      <th>iso_3166_2_code</th>\n",
              "      <th>census_fips_code</th>\n",
              "      <th>date_y</th>\n",
              "      <th>retail_and_recreation_percent_change_from_baseline</th>\n",
              "      <th>grocery_and_pharmacy_percent_change_from_baseline</th>\n",
              "      <th>parks_percent_change_from_baseline</th>\n",
              "      <th>transit_stations_percent_change_from_baseline</th>\n",
              "      <th>workplaces_percent_change_from_baseline</th>\n",
              "      <th>residential_percent_change_from_baseline</th>\n",
              "    </tr>\n",
              "  </thead>\n",
              "  <tbody>\n",
              "    <tr>\n",
              "      <th>0</th>\n",
              "      <td>2020-03-01</td>\n",
              "      <td>Texas</td>\n",
              "      <td>48001</td>\n",
              "      <td>0</td>\n",
              "      <td>0.0</td>\n",
              "      <td>0</td>\n",
              "      <td>0</td>\n",
              "      <td>Anderson County</td>\n",
              "      <td>TX</td>\n",
              "      <td>57735</td>\n",
              "      <td>0</td>\n",
              "      <td>2020-03-01</td>\n",
              "      <td>US</td>\n",
              "      <td>2</td>\n",
              "      <td>Texas</td>\n",
              "      <td>Anderson County</td>\n",
              "      <td>48001</td>\n",
              "      <td>1210</td>\n",
              "      <td>8.910</td>\n",
              "      <td>79</td>\n",
              "      <td>US</td>\n",
              "      <td>United States</td>\n",
              "      <td>Texas</td>\n",
              "      <td>Anderson County</td>\n",
              "      <td>NaN</td>\n",
              "      <td>NaN</td>\n",
              "      <td>48001.0</td>\n",
              "      <td>2020-03-01</td>\n",
              "      <td>16.0</td>\n",
              "      <td>15.0</td>\n",
              "      <td>NaN</td>\n",
              "      <td>NaN</td>\n",
              "      <td>3.0</td>\n",
              "      <td>NaN</td>\n",
              "    </tr>\n",
              "    <tr>\n",
              "      <th>1</th>\n",
              "      <td>2020-03-02</td>\n",
              "      <td>Texas</td>\n",
              "      <td>48001</td>\n",
              "      <td>0</td>\n",
              "      <td>0.0</td>\n",
              "      <td>0</td>\n",
              "      <td>0</td>\n",
              "      <td>Anderson County</td>\n",
              "      <td>TX</td>\n",
              "      <td>57735</td>\n",
              "      <td>0</td>\n",
              "      <td>2020-03-02</td>\n",
              "      <td>US</td>\n",
              "      <td>2</td>\n",
              "      <td>Texas</td>\n",
              "      <td>Anderson County</td>\n",
              "      <td>48001</td>\n",
              "      <td>1222</td>\n",
              "      <td>10.708</td>\n",
              "      <td>95</td>\n",
              "      <td>US</td>\n",
              "      <td>United States</td>\n",
              "      <td>Texas</td>\n",
              "      <td>Anderson County</td>\n",
              "      <td>NaN</td>\n",
              "      <td>NaN</td>\n",
              "      <td>48001.0</td>\n",
              "      <td>2020-03-02</td>\n",
              "      <td>14.0</td>\n",
              "      <td>7.0</td>\n",
              "      <td>NaN</td>\n",
              "      <td>NaN</td>\n",
              "      <td>2.0</td>\n",
              "      <td>-1.0</td>\n",
              "    </tr>\n",
              "  </tbody>\n",
              "</table>\n",
              "</div>"
            ],
            "text/plain": [
              "         Date  ... residential_percent_change_from_baseline\n",
              "0  2020-03-01  ...                                      NaN\n",
              "1  2020-03-02  ...                                     -1.0\n",
              "\n",
              "[2 rows x 34 columns]"
            ]
          },
          "metadata": {
            "tags": []
          },
          "execution_count": 21
        }
      ]
    },
    {
      "cell_type": "code",
      "metadata": {
        "colab": {
          "base_uri": "https://localhost:8080/"
        },
        "id": "a9TfnvDEyHdA",
        "outputId": "6071841f-2d20-4566-c66a-2c67f7afee6d"
      },
      "source": [
        "TX_all_data_merged.shape"
      ],
      "execution_count": null,
      "outputs": [
        {
          "output_type": "execute_result",
          "data": {
            "text/plain": [
              "(53463, 34)"
            ]
          },
          "metadata": {
            "tags": []
          },
          "execution_count": 26
        }
      ]
    },
    {
      "cell_type": "code",
      "metadata": {
        "colab": {
          "base_uri": "https://localhost:8080/"
        },
        "id": "V3WMdo1syR76",
        "outputId": "eb195d6b-1f97-452b-b201-52a19111ac57"
      },
      "source": [
        "TX_all_data_merged.columns"
      ],
      "execution_count": null,
      "outputs": [
        {
          "output_type": "execute_result",
          "data": {
            "text/plain": [
              "Index(['Date', 'Province_State', 'FIPS', 'Confirmed', 'Deaths', 'New cases',\n",
              "       'New deaths', 'County Name', 'State', 'population', 'mask_rule_active',\n",
              "       'date_x', 'country_code', 'admin_level', 'admin1', 'admin2', 'fips',\n",
              "       'samples', 'm50', 'm50_index', 'country_region_code', 'country_region',\n",
              "       'sub_region_1', 'sub_region_2', 'metro_area', 'iso_3166_2_code',\n",
              "       'census_fips_code', 'date_y',\n",
              "       'retail_and_recreation_percent_change_from_baseline',\n",
              "       'grocery_and_pharmacy_percent_change_from_baseline',\n",
              "       'parks_percent_change_from_baseline',\n",
              "       'transit_stations_percent_change_from_baseline',\n",
              "       'workplaces_percent_change_from_baseline',\n",
              "       'residential_percent_change_from_baseline'],\n",
              "      dtype='object')"
            ]
          },
          "metadata": {
            "tags": []
          },
          "execution_count": 27
        }
      ]
    },
    {
      "cell_type": "code",
      "metadata": {
        "id": "M8So-Mt5yT4g"
      },
      "source": [
        "required_cols = ['Date', 'Province_State', 'FIPS',  'New cases',\n",
        "        'County Name', 'population', 'mask_rule_active',\n",
        "        'm50', 'm50_index',\n",
        "       'retail_and_recreation_percent_change_from_baseline',\n",
        "       'grocery_and_pharmacy_percent_change_from_baseline',\n",
        "       'parks_percent_change_from_baseline',\n",
        "       'transit_stations_percent_change_from_baseline',\n",
        "       'workplaces_percent_change_from_baseline',\n",
        "       'residential_percent_change_from_baseline']"
      ],
      "execution_count": null,
      "outputs": []
    },
    {
      "cell_type": "code",
      "metadata": {
        "colab": {
          "base_uri": "https://localhost:8080/",
          "height": 182
        },
        "id": "HS479ZPZyjgW",
        "outputId": "0531b8f5-09ae-43a6-a06a-a3b115af3e2c"
      },
      "source": [
        "TX_all_data_selected = TX_all_data_merged[required_cols]\n",
        "TX_all_data_selected.head(2)"
      ],
      "execution_count": null,
      "outputs": [
        {
          "output_type": "execute_result",
          "data": {
            "text/html": [
              "<div>\n",
              "<style scoped>\n",
              "    .dataframe tbody tr th:only-of-type {\n",
              "        vertical-align: middle;\n",
              "    }\n",
              "\n",
              "    .dataframe tbody tr th {\n",
              "        vertical-align: top;\n",
              "    }\n",
              "\n",
              "    .dataframe thead th {\n",
              "        text-align: right;\n",
              "    }\n",
              "</style>\n",
              "<table border=\"1\" class=\"dataframe\">\n",
              "  <thead>\n",
              "    <tr style=\"text-align: right;\">\n",
              "      <th></th>\n",
              "      <th>Date</th>\n",
              "      <th>Province_State</th>\n",
              "      <th>FIPS</th>\n",
              "      <th>New cases</th>\n",
              "      <th>County Name</th>\n",
              "      <th>population</th>\n",
              "      <th>mask_rule_active</th>\n",
              "      <th>m50</th>\n",
              "      <th>m50_index</th>\n",
              "      <th>retail_and_recreation_percent_change_from_baseline</th>\n",
              "      <th>grocery_and_pharmacy_percent_change_from_baseline</th>\n",
              "      <th>parks_percent_change_from_baseline</th>\n",
              "      <th>transit_stations_percent_change_from_baseline</th>\n",
              "      <th>workplaces_percent_change_from_baseline</th>\n",
              "      <th>residential_percent_change_from_baseline</th>\n",
              "    </tr>\n",
              "  </thead>\n",
              "  <tbody>\n",
              "    <tr>\n",
              "      <th>0</th>\n",
              "      <td>2020-03-01</td>\n",
              "      <td>Texas</td>\n",
              "      <td>48001</td>\n",
              "      <td>0</td>\n",
              "      <td>Anderson County</td>\n",
              "      <td>57735</td>\n",
              "      <td>0</td>\n",
              "      <td>8.910</td>\n",
              "      <td>79</td>\n",
              "      <td>16.0</td>\n",
              "      <td>15.0</td>\n",
              "      <td>NaN</td>\n",
              "      <td>NaN</td>\n",
              "      <td>3.0</td>\n",
              "      <td>NaN</td>\n",
              "    </tr>\n",
              "    <tr>\n",
              "      <th>1</th>\n",
              "      <td>2020-03-02</td>\n",
              "      <td>Texas</td>\n",
              "      <td>48001</td>\n",
              "      <td>0</td>\n",
              "      <td>Anderson County</td>\n",
              "      <td>57735</td>\n",
              "      <td>0</td>\n",
              "      <td>10.708</td>\n",
              "      <td>95</td>\n",
              "      <td>14.0</td>\n",
              "      <td>7.0</td>\n",
              "      <td>NaN</td>\n",
              "      <td>NaN</td>\n",
              "      <td>2.0</td>\n",
              "      <td>-1.0</td>\n",
              "    </tr>\n",
              "  </tbody>\n",
              "</table>\n",
              "</div>"
            ],
            "text/plain": [
              "         Date  ... residential_percent_change_from_baseline\n",
              "0  2020-03-01  ...                                      NaN\n",
              "1  2020-03-02  ...                                     -1.0\n",
              "\n",
              "[2 rows x 15 columns]"
            ]
          },
          "metadata": {
            "tags": []
          },
          "execution_count": 29
        }
      ]
    },
    {
      "cell_type": "code",
      "metadata": {
        "colab": {
          "base_uri": "https://localhost:8080/",
          "height": 626
        },
        "id": "r88-CPHpytLX",
        "outputId": "53e643b2-a4bd-4647-aac3-b55496e3324b"
      },
      "source": [
        "TX_all_data_selected.fillna(0)"
      ],
      "execution_count": null,
      "outputs": [
        {
          "output_type": "execute_result",
          "data": {
            "text/html": [
              "<div>\n",
              "<style scoped>\n",
              "    .dataframe tbody tr th:only-of-type {\n",
              "        vertical-align: middle;\n",
              "    }\n",
              "\n",
              "    .dataframe tbody tr th {\n",
              "        vertical-align: top;\n",
              "    }\n",
              "\n",
              "    .dataframe thead th {\n",
              "        text-align: right;\n",
              "    }\n",
              "</style>\n",
              "<table border=\"1\" class=\"dataframe\">\n",
              "  <thead>\n",
              "    <tr style=\"text-align: right;\">\n",
              "      <th></th>\n",
              "      <th>Date</th>\n",
              "      <th>Province_State</th>\n",
              "      <th>FIPS</th>\n",
              "      <th>New cases</th>\n",
              "      <th>County Name</th>\n",
              "      <th>population</th>\n",
              "      <th>mask_rule_active</th>\n",
              "      <th>m50</th>\n",
              "      <th>m50_index</th>\n",
              "      <th>retail_and_recreation_percent_change_from_baseline</th>\n",
              "      <th>grocery_and_pharmacy_percent_change_from_baseline</th>\n",
              "      <th>parks_percent_change_from_baseline</th>\n",
              "      <th>transit_stations_percent_change_from_baseline</th>\n",
              "      <th>workplaces_percent_change_from_baseline</th>\n",
              "      <th>residential_percent_change_from_baseline</th>\n",
              "    </tr>\n",
              "  </thead>\n",
              "  <tbody>\n",
              "    <tr>\n",
              "      <th>0</th>\n",
              "      <td>2020-03-01</td>\n",
              "      <td>Texas</td>\n",
              "      <td>48001</td>\n",
              "      <td>0</td>\n",
              "      <td>Anderson County</td>\n",
              "      <td>57735</td>\n",
              "      <td>0</td>\n",
              "      <td>8.910</td>\n",
              "      <td>79</td>\n",
              "      <td>16.0</td>\n",
              "      <td>15.0</td>\n",
              "      <td>0.0</td>\n",
              "      <td>0.0</td>\n",
              "      <td>3.0</td>\n",
              "      <td>0.0</td>\n",
              "    </tr>\n",
              "    <tr>\n",
              "      <th>1</th>\n",
              "      <td>2020-03-02</td>\n",
              "      <td>Texas</td>\n",
              "      <td>48001</td>\n",
              "      <td>0</td>\n",
              "      <td>Anderson County</td>\n",
              "      <td>57735</td>\n",
              "      <td>0</td>\n",
              "      <td>10.708</td>\n",
              "      <td>95</td>\n",
              "      <td>14.0</td>\n",
              "      <td>7.0</td>\n",
              "      <td>0.0</td>\n",
              "      <td>0.0</td>\n",
              "      <td>2.0</td>\n",
              "      <td>-1.0</td>\n",
              "    </tr>\n",
              "    <tr>\n",
              "      <th>2</th>\n",
              "      <td>2020-03-03</td>\n",
              "      <td>Texas</td>\n",
              "      <td>48001</td>\n",
              "      <td>0</td>\n",
              "      <td>Anderson County</td>\n",
              "      <td>57735</td>\n",
              "      <td>0</td>\n",
              "      <td>12.118</td>\n",
              "      <td>107</td>\n",
              "      <td>21.0</td>\n",
              "      <td>8.0</td>\n",
              "      <td>0.0</td>\n",
              "      <td>0.0</td>\n",
              "      <td>2.0</td>\n",
              "      <td>-2.0</td>\n",
              "    </tr>\n",
              "    <tr>\n",
              "      <th>3</th>\n",
              "      <td>2020-03-04</td>\n",
              "      <td>Texas</td>\n",
              "      <td>48001</td>\n",
              "      <td>0</td>\n",
              "      <td>Anderson County</td>\n",
              "      <td>57735</td>\n",
              "      <td>0</td>\n",
              "      <td>9.156</td>\n",
              "      <td>81</td>\n",
              "      <td>12.0</td>\n",
              "      <td>5.0</td>\n",
              "      <td>0.0</td>\n",
              "      <td>0.0</td>\n",
              "      <td>1.0</td>\n",
              "      <td>2.0</td>\n",
              "    </tr>\n",
              "    <tr>\n",
              "      <th>4</th>\n",
              "      <td>2020-03-05</td>\n",
              "      <td>Texas</td>\n",
              "      <td>48001</td>\n",
              "      <td>0</td>\n",
              "      <td>Anderson County</td>\n",
              "      <td>57735</td>\n",
              "      <td>0</td>\n",
              "      <td>11.230</td>\n",
              "      <td>100</td>\n",
              "      <td>18.0</td>\n",
              "      <td>13.0</td>\n",
              "      <td>0.0</td>\n",
              "      <td>0.0</td>\n",
              "      <td>3.0</td>\n",
              "      <td>-3.0</td>\n",
              "    </tr>\n",
              "    <tr>\n",
              "      <th>...</th>\n",
              "      <td>...</td>\n",
              "      <td>...</td>\n",
              "      <td>...</td>\n",
              "      <td>...</td>\n",
              "      <td>...</td>\n",
              "      <td>...</td>\n",
              "      <td>...</td>\n",
              "      <td>...</td>\n",
              "      <td>...</td>\n",
              "      <td>...</td>\n",
              "      <td>...</td>\n",
              "      <td>...</td>\n",
              "      <td>...</td>\n",
              "      <td>...</td>\n",
              "      <td>...</td>\n",
              "    </tr>\n",
              "    <tr>\n",
              "      <th>53458</th>\n",
              "      <td>2020-12-30</td>\n",
              "      <td>Texas</td>\n",
              "      <td>48507</td>\n",
              "      <td>10</td>\n",
              "      <td>Zavala County</td>\n",
              "      <td>11840</td>\n",
              "      <td>1</td>\n",
              "      <td>4.564</td>\n",
              "      <td>47</td>\n",
              "      <td>0.0</td>\n",
              "      <td>0.0</td>\n",
              "      <td>0.0</td>\n",
              "      <td>0.0</td>\n",
              "      <td>-38.0</td>\n",
              "      <td>0.0</td>\n",
              "    </tr>\n",
              "    <tr>\n",
              "      <th>53459</th>\n",
              "      <td>2020-12-31</td>\n",
              "      <td>Texas</td>\n",
              "      <td>48507</td>\n",
              "      <td>5</td>\n",
              "      <td>Zavala County</td>\n",
              "      <td>11840</td>\n",
              "      <td>1</td>\n",
              "      <td>3.274</td>\n",
              "      <td>34</td>\n",
              "      <td>0.0</td>\n",
              "      <td>0.0</td>\n",
              "      <td>0.0</td>\n",
              "      <td>0.0</td>\n",
              "      <td>-44.0</td>\n",
              "      <td>0.0</td>\n",
              "    </tr>\n",
              "    <tr>\n",
              "      <th>53460</th>\n",
              "      <td>2021-01-01</td>\n",
              "      <td>Texas</td>\n",
              "      <td>48507</td>\n",
              "      <td>0</td>\n",
              "      <td>Zavala County</td>\n",
              "      <td>11840</td>\n",
              "      <td>1</td>\n",
              "      <td>1.683</td>\n",
              "      <td>17</td>\n",
              "      <td>0.0</td>\n",
              "      <td>0.0</td>\n",
              "      <td>0.0</td>\n",
              "      <td>0.0</td>\n",
              "      <td>-61.0</td>\n",
              "      <td>0.0</td>\n",
              "    </tr>\n",
              "    <tr>\n",
              "      <th>53461</th>\n",
              "      <td>2021-01-04</td>\n",
              "      <td>Texas</td>\n",
              "      <td>48507</td>\n",
              "      <td>0</td>\n",
              "      <td>Zavala County</td>\n",
              "      <td>11840</td>\n",
              "      <td>1</td>\n",
              "      <td>10.211</td>\n",
              "      <td>106</td>\n",
              "      <td>0.0</td>\n",
              "      <td>0.0</td>\n",
              "      <td>0.0</td>\n",
              "      <td>0.0</td>\n",
              "      <td>-32.0</td>\n",
              "      <td>0.0</td>\n",
              "    </tr>\n",
              "    <tr>\n",
              "      <th>53462</th>\n",
              "      <td>2021-01-05</td>\n",
              "      <td>Texas</td>\n",
              "      <td>48507</td>\n",
              "      <td>98</td>\n",
              "      <td>Zavala County</td>\n",
              "      <td>11840</td>\n",
              "      <td>1</td>\n",
              "      <td>1.758</td>\n",
              "      <td>18</td>\n",
              "      <td>0.0</td>\n",
              "      <td>0.0</td>\n",
              "      <td>0.0</td>\n",
              "      <td>0.0</td>\n",
              "      <td>-31.0</td>\n",
              "      <td>0.0</td>\n",
              "    </tr>\n",
              "  </tbody>\n",
              "</table>\n",
              "<p>53463 rows × 15 columns</p>\n",
              "</div>"
            ],
            "text/plain": [
              "             Date  ... residential_percent_change_from_baseline\n",
              "0      2020-03-01  ...                                      0.0\n",
              "1      2020-03-02  ...                                     -1.0\n",
              "2      2020-03-03  ...                                     -2.0\n",
              "3      2020-03-04  ...                                      2.0\n",
              "4      2020-03-05  ...                                     -3.0\n",
              "...           ...  ...                                      ...\n",
              "53458  2020-12-30  ...                                      0.0\n",
              "53459  2020-12-31  ...                                      0.0\n",
              "53460  2021-01-01  ...                                      0.0\n",
              "53461  2021-01-04  ...                                      0.0\n",
              "53462  2021-01-05  ...                                      0.0\n",
              "\n",
              "[53463 rows x 15 columns]"
            ]
          },
          "metadata": {
            "tags": []
          },
          "execution_count": 30
        }
      ]
    },
    {
      "cell_type": "markdown",
      "metadata": {
        "id": "0QGHE5wly-VM"
      },
      "source": [
        "# Store file to Google Drive"
      ]
    },
    {
      "cell_type": "code",
      "metadata": {
        "colab": {
          "base_uri": "https://localhost:8080/"
        },
        "id": "5AycMoAry3Xm",
        "outputId": "d9953b22-1440-4473-902f-ddb75ca05bf4"
      },
      "source": [
        "from datetime import datetime\n",
        "location = '/content/drive/Shared drives/CMPE 295- Master Project/projectdata-2021/'\n",
        "filename = 'TX_alldatasets_'+datetime.now().strftime(\"%b%d\")+'.csv' #%Y%m%d\n",
        "print(filename)\n",
        "TX_all_data_selected.to_csv(location+filename,index=False)"
      ],
      "execution_count": null,
      "outputs": [
        {
          "output_type": "stream",
          "text": [
            "TX_alldatasets_Jan11.csv\n"
          ],
          "name": "stdout"
        }
      ]
    }
  ]
}