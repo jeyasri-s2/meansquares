{
  "nbformat": 4,
  "nbformat_minor": 0,
  "metadata": {
    "colab": {
      "name": "CA_PCA_Analysis_SupersetData.ipynb",
      "provenance": [],
      "toc_visible": true,
      "include_colab_link": true
    },
    "kernelspec": {
      "name": "python3",
      "display_name": "Python 3"
    }
  },
  "cells": [
    {
      "cell_type": "markdown",
      "metadata": {
        "id": "view-in-github",
        "colab_type": "text"
      },
      "source": [
        "<a href=\"https://colab.research.google.com/github/aarsanjani/meansquares/blob/master/version2/feature_engineering/CA_PCA_Analysis_SupersetData.ipynb\" target=\"_parent\"><img src=\"https://colab.research.google.com/assets/colab-badge.svg\" alt=\"Open In Colab\"/></a>"
      ]
    },
    {
      "cell_type": "markdown",
      "metadata": {
        "id": "bRoyoVoTMmWR"
      },
      "source": [
        "**Goal**\n",
        "\n",
        "Dimensionality Reduction using PCA on CA Superset timeseries data\n"
      ]
    },
    {
      "cell_type": "markdown",
      "metadata": {
        "id": "BlYKz48SM_Zu"
      },
      "source": [
        "## Mount Google drive"
      ]
    },
    {
      "cell_type": "code",
      "metadata": {
        "colab": {
          "base_uri": "https://localhost:8080/"
        },
        "id": "v0sKjIKeMne2",
        "outputId": "ffc5f403-7f02-46a2-c022-792f8b6d42fc"
      },
      "source": [
        "from google.colab import drive\n",
        "drive.mount('/content/drive',force_remount=True)"
      ],
      "execution_count": 1,
      "outputs": [
        {
          "output_type": "stream",
          "text": [
            "Mounted at /content/drive\n"
          ],
          "name": "stdout"
        }
      ]
    },
    {
      "cell_type": "code",
      "metadata": {
        "colab": {
          "base_uri": "https://localhost:8080/"
        },
        "id": "uqLdkQ3oQ4hk",
        "outputId": "6a846dd5-e24a-4ae9-d6a2-15f50911f821"
      },
      "source": [
        "!ls '/content/drive/Shared drives/CMPE 295- Master Project/projectdata-2021'"
      ],
      "execution_count": 2,
      "outputs": [
        {
          "output_type": "stream",
          "text": [
            " CA_alldatasets_Feb05.csv\n",
            " CA_alldatasets_Jan13.csv\n",
            " CA_CombinedData_Labeled_CDCGuideline_Feb05.csv\n",
            " CA_CombinedData_Labeled_CDCGuideline_Feb06.csv\n",
            " CA_CombinedData_Labeled_CDCGuideline_Jan15.csv\n",
            " CA_combined_Feb04.csv\n",
            " CA_CovidDataJan10.csv\n",
            " CA_dataset_Feb11.csv\n",
            " CA_GoogleMobilityDataJan10.csv\n",
            " CA_MarylandData_Labeled_CDCGuideline_Feb05.csv\n",
            " CA_MarylandData_Labeled_CDCGuideline_Feb06.csv\n",
            " CA_MarylandData_Labeled_CDCGuideline_Jan15.csv\n",
            " CA_processedMarylandData_Feb04.csv\n",
            " CA_processedMarylandData_Feb05.csv\n",
            " CA_processedMarylandData_Feb12.csv\n",
            " CA_processedMarylandData_Jan11.csv\n",
            " CA_SocialDistancingDataJan10.csv\n",
            " CA_socialDistancingInertiaData_Feb04.csv\n",
            " CA_Superset_dataset_Feb12.csv\n",
            " computed_CA_mobility_data.csv\n",
            " data-mask_for_all.csv\n",
            " election_results_2021.csv\n",
            " maryland_inertia_data_allstates_Feb04.csv\n",
            " maryland_inertia_data_allstates_Feb05.csv\n",
            " maryland_inertia_data_allstates_Feb12.csv\n",
            " maryland_inertia_data_allstates_Jan11.csv\n",
            " maryland_inertia_raw_dec28_2020.csv\n",
            " Mask_Rule_Feb05.csv\n",
            " Mask_Rule_Jan10.csv\n",
            " NY_alldatasets_Jan13.csv\n",
            " NY_CombinedData_Labeled_CDCGuideline_Feb07.csv\n",
            " NY_CombinedData_Labeled_CDCGuideline_Jan15.csv\n",
            " NY_CovidDataJan10.csv\n",
            " NY_GoogleMobilityDataJan10.csv\n",
            " NY_MarylandData_Labeled_CDCGuideline_Feb07.csv\n",
            " NY_MarylandData_Labeled_CDCGuideline_Jan15.csv\n",
            " NY_processedMarylandData_Feb04.csv\n",
            " NY_processedMarylandData_Feb12.csv\n",
            " NY_processedMarylandData_Jan11.csv\n",
            " NY_SocialDistancingDataJan10.csv\n",
            "'Policy_Map_(Sized)_Full_Data_data.csv'\n",
            " population-density\n",
            " TX_alldatasets_Jan11.csv\n",
            " TX_CombinedData_Labeled_CDCGuideline_Feb07.csv\n",
            " TX_CombinedData_Labeled_CDCGuideline_Jan15.csv\n",
            " TX_CovidDataJan10.csv\n",
            " TX_GoogleMobilityDataJan10.csv\n",
            " TX_MarylandData_Labeled_CDCGuideline_Feb07.csv\n",
            " TX_MarylandData_Labeled_CDCGuideline_Jan15.csv\n",
            " TX_processedMarylandData_Feb04.csv\n",
            " TX_processedMarylandData_Feb12.csv\n",
            " TX_processedMarylandData_Jan11.csv\n",
            " TX_processedMarylandData_Jan11.gsheet\n",
            " TX_SocialDistancingDataJan10.csv\n",
            " WI_alldatasets_Feb07.csv\n",
            " WI_CovidDataFeb07.csv\n",
            " WI_GoogleMobilityDataFeb07.csv\n",
            " WI_maryland_inertia_data_allstates_Feb07.csv\n",
            " WI_processedMarylandData_Feb07.csv\n",
            " WI_SocialDistancingDataFeb07.csv\n"
          ],
          "name": "stdout"
        }
      ]
    },
    {
      "cell_type": "markdown",
      "metadata": {
        "id": "d14K3WJkQrCe"
      },
      "source": [
        "# Import library"
      ]
    },
    {
      "cell_type": "code",
      "metadata": {
        "id": "SAa1mo2xMggF"
      },
      "source": [
        "%matplotlib inline\n",
        "import pandas as pd # for using pandas daraframe\n",
        "import numpy as np # for som math operations\n",
        "from sklearn.preprocessing import StandardScaler # for standardizing the Data\n",
        "from sklearn.decomposition import PCA # for PCA calculation\n",
        "import matplotlib.pyplot as plt # for plotting\n",
        "\n",
        "import seaborn as sns\n"
      ],
      "execution_count": 3,
      "outputs": []
    },
    {
      "cell_type": "markdown",
      "metadata": {
        "id": "FsT8X51_c7M1"
      },
      "source": [
        "# Load Superset data"
      ]
    },
    {
      "cell_type": "code",
      "metadata": {
        "colab": {
          "base_uri": "https://localhost:8080/",
          "height": 317
        },
        "id": "MRQISjm_Qt4B",
        "outputId": "f531d953-d3aa-4f85-c026-7f5a56b077e0"
      },
      "source": [
        "CA_superset_data = pd.read_csv('/content/drive/Shared drives/CMPE 295- Master Project/projectdata-2021/CA_Superset_dataset_Feb12.csv',low_memory=False)\n",
        "CA_superset_data.head()"
      ],
      "execution_count": 145,
      "outputs": [
        {
          "output_type": "execute_result",
          "data": {
            "text/html": [
              "<div>\n",
              "<style scoped>\n",
              "    .dataframe tbody tr th:only-of-type {\n",
              "        vertical-align: middle;\n",
              "    }\n",
              "\n",
              "    .dataframe tbody tr th {\n",
              "        vertical-align: top;\n",
              "    }\n",
              "\n",
              "    .dataframe thead th {\n",
              "        text-align: right;\n",
              "    }\n",
              "</style>\n",
              "<table border=\"1\" class=\"dataframe\">\n",
              "  <thead>\n",
              "    <tr style=\"text-align: right;\">\n",
              "      <th></th>\n",
              "      <th>Date</th>\n",
              "      <th>Province_State</th>\n",
              "      <th>FIPS</th>\n",
              "      <th>New cases</th>\n",
              "      <th>County Name</th>\n",
              "      <th>mask_rule_severity</th>\n",
              "      <th>m50</th>\n",
              "      <th>m50_index</th>\n",
              "      <th>retail_and_recreation_percent_change_from_baseline</th>\n",
              "      <th>grocery_and_pharmacy_percent_change_from_baseline</th>\n",
              "      <th>parks_percent_change_from_baseline</th>\n",
              "      <th>transit_stations_percent_change_from_baseline</th>\n",
              "      <th>workplaces_percent_change_from_baseline</th>\n",
              "      <th>residential_percent_change_from_baseline</th>\n",
              "      <th>PopDensity</th>\n",
              "      <th>State_Name</th>\n",
              "      <th>State</th>\n",
              "      <th>CTFIPS</th>\n",
              "      <th>CTNAME</th>\n",
              "      <th>STFIPS</th>\n",
              "      <th>Social.distancing.index</th>\n",
              "      <th>X..staying.home</th>\n",
              "      <th>Trips.person</th>\n",
              "      <th>X..out.of.county.trips</th>\n",
              "      <th>X..out.of.state.trips</th>\n",
              "      <th>Miles.person</th>\n",
              "      <th>Work.trips.person</th>\n",
              "      <th>Non.work.trips.person</th>\n",
              "      <th>New.COVID.cases</th>\n",
              "      <th>Population</th>\n",
              "      <th>X..change.in.consumption</th>\n",
              "      <th>Transit.mode.share</th>\n",
              "      <th>X..people.older.than.60</th>\n",
              "      <th>Median.income</th>\n",
              "      <th>X..African.Americans</th>\n",
              "      <th>X..Hispanic.Americans</th>\n",
              "      <th>X..Male</th>\n",
              "      <th>Employment.density</th>\n",
              "      <th>X..hot.spots.1000.people</th>\n",
              "      <th>Hospital.beds.1000.people</th>\n",
              "      <th>ICUs.1000.people</th>\n",
              "      <th>X..contact.tracing.workers.1000.people</th>\n",
              "      <th>New.cases.1000.people</th>\n",
              "      <th>Active.cases.1000.people</th>\n",
              "      <th>X.days..decreasing.COVID.cases</th>\n",
              "      <th>X..hospital.bed.utilization</th>\n",
              "      <th>Testing.capacity</th>\n",
              "      <th>Tests.done.1000.people</th>\n",
              "      <th>X..ICU.utilization</th>\n",
              "      <th>Ventilator.shortage</th>\n",
              "      <th>Imported.COVID.cases</th>\n",
              "      <th>COVID.exposure.1000.people</th>\n",
              "      <th>X.days..decreasing.ILI.cases</th>\n",
              "      <th>Unemployment.claims.1000.people</th>\n",
              "      <th>Unemployment.rate</th>\n",
              "      <th>X..working.from.home</th>\n",
              "      <th>Cumulative.inflation.rate</th>\n",
              "      <th>COVID.death.rate</th>\n",
              "    </tr>\n",
              "  </thead>\n",
              "  <tbody>\n",
              "    <tr>\n",
              "      <th>0</th>\n",
              "      <td>2020-03-01</td>\n",
              "      <td>California</td>\n",
              "      <td>6001</td>\n",
              "      <td>0</td>\n",
              "      <td>Alameda County</td>\n",
              "      <td>0.0</td>\n",
              "      <td>3.684</td>\n",
              "      <td>58</td>\n",
              "      <td>6.0</td>\n",
              "      <td>9.0</td>\n",
              "      <td>15.0</td>\n",
              "      <td>1.0</td>\n",
              "      <td>4.0</td>\n",
              "      <td>0.0</td>\n",
              "      <td>860.757075</td>\n",
              "      <td>California</td>\n",
              "      <td>CA</td>\n",
              "      <td>6001</td>\n",
              "      <td>Alameda County</td>\n",
              "      <td>6</td>\n",
              "      <td>37</td>\n",
              "      <td>26</td>\n",
              "      <td>2.93</td>\n",
              "      <td>25.4</td>\n",
              "      <td>0.4</td>\n",
              "      <td>36.8</td>\n",
              "      <td>0.25</td>\n",
              "      <td>2.68</td>\n",
              "      <td>0</td>\n",
              "      <td>1666753</td>\n",
              "      <td>-5.1</td>\n",
              "      <td>15.04</td>\n",
              "      <td>19</td>\n",
              "      <td>92574</td>\n",
              "      <td>10.5</td>\n",
              "      <td>22.5</td>\n",
              "      <td>49.11</td>\n",
              "      <td>1155</td>\n",
              "      <td>131</td>\n",
              "      <td>2.05</td>\n",
              "      <td>0.22</td>\n",
              "      <td>NaN</td>\n",
              "      <td>0.0000</td>\n",
              "      <td>0.0</td>\n",
              "      <td>37</td>\n",
              "      <td>54.0</td>\n",
              "      <td>0.0</td>\n",
              "      <td>0.00</td>\n",
              "      <td>0.0</td>\n",
              "      <td>0</td>\n",
              "      <td>0</td>\n",
              "      <td>0.05</td>\n",
              "      <td>35</td>\n",
              "      <td>1.1</td>\n",
              "      <td>5.3</td>\n",
              "      <td>5.7</td>\n",
              "      <td>0.6</td>\n",
              "      <td>0.00</td>\n",
              "    </tr>\n",
              "    <tr>\n",
              "      <th>1</th>\n",
              "      <td>2020-03-02</td>\n",
              "      <td>California</td>\n",
              "      <td>6001</td>\n",
              "      <td>0</td>\n",
              "      <td>Alameda County</td>\n",
              "      <td>0.0</td>\n",
              "      <td>6.182</td>\n",
              "      <td>98</td>\n",
              "      <td>4.0</td>\n",
              "      <td>7.0</td>\n",
              "      <td>7.0</td>\n",
              "      <td>-1.0</td>\n",
              "      <td>3.0</td>\n",
              "      <td>0.0</td>\n",
              "      <td>860.757075</td>\n",
              "      <td>California</td>\n",
              "      <td>CA</td>\n",
              "      <td>6001</td>\n",
              "      <td>Alameda County</td>\n",
              "      <td>6</td>\n",
              "      <td>17</td>\n",
              "      <td>20</td>\n",
              "      <td>3.38</td>\n",
              "      <td>28.2</td>\n",
              "      <td>0.4</td>\n",
              "      <td>38.1</td>\n",
              "      <td>0.63</td>\n",
              "      <td>2.74</td>\n",
              "      <td>0</td>\n",
              "      <td>1666753</td>\n",
              "      <td>-2.9</td>\n",
              "      <td>15.04</td>\n",
              "      <td>19</td>\n",
              "      <td>92574</td>\n",
              "      <td>10.5</td>\n",
              "      <td>22.5</td>\n",
              "      <td>49.11</td>\n",
              "      <td>1155</td>\n",
              "      <td>131</td>\n",
              "      <td>2.05</td>\n",
              "      <td>0.22</td>\n",
              "      <td>NaN</td>\n",
              "      <td>0.0000</td>\n",
              "      <td>0.0</td>\n",
              "      <td>38</td>\n",
              "      <td>54.0</td>\n",
              "      <td>0.0</td>\n",
              "      <td>0.00</td>\n",
              "      <td>0.0</td>\n",
              "      <td>0</td>\n",
              "      <td>0</td>\n",
              "      <td>0.05</td>\n",
              "      <td>35</td>\n",
              "      <td>1.1</td>\n",
              "      <td>5.3</td>\n",
              "      <td>5.7</td>\n",
              "      <td>0.6</td>\n",
              "      <td>0.00</td>\n",
              "    </tr>\n",
              "    <tr>\n",
              "      <th>2</th>\n",
              "      <td>2020-03-03</td>\n",
              "      <td>California</td>\n",
              "      <td>6001</td>\n",
              "      <td>1</td>\n",
              "      <td>Alameda County</td>\n",
              "      <td>0.0</td>\n",
              "      <td>6.271</td>\n",
              "      <td>100</td>\n",
              "      <td>5.0</td>\n",
              "      <td>12.0</td>\n",
              "      <td>41.0</td>\n",
              "      <td>0.0</td>\n",
              "      <td>1.0</td>\n",
              "      <td>-1.0</td>\n",
              "      <td>860.757075</td>\n",
              "      <td>California</td>\n",
              "      <td>CA</td>\n",
              "      <td>6001</td>\n",
              "      <td>Alameda County</td>\n",
              "      <td>6</td>\n",
              "      <td>16</td>\n",
              "      <td>18</td>\n",
              "      <td>3.61</td>\n",
              "      <td>27.1</td>\n",
              "      <td>0.3</td>\n",
              "      <td>32.7</td>\n",
              "      <td>0.67</td>\n",
              "      <td>2.94</td>\n",
              "      <td>1</td>\n",
              "      <td>1666753</td>\n",
              "      <td>4.1</td>\n",
              "      <td>15.04</td>\n",
              "      <td>19</td>\n",
              "      <td>92574</td>\n",
              "      <td>10.5</td>\n",
              "      <td>22.5</td>\n",
              "      <td>49.11</td>\n",
              "      <td>1155</td>\n",
              "      <td>131</td>\n",
              "      <td>2.05</td>\n",
              "      <td>0.22</td>\n",
              "      <td>NaN</td>\n",
              "      <td>0.0002</td>\n",
              "      <td>0.0</td>\n",
              "      <td>0</td>\n",
              "      <td>54.0</td>\n",
              "      <td>0.0</td>\n",
              "      <td>0.00</td>\n",
              "      <td>0.0</td>\n",
              "      <td>0</td>\n",
              "      <td>1</td>\n",
              "      <td>0.05</td>\n",
              "      <td>42</td>\n",
              "      <td>1.1</td>\n",
              "      <td>5.3</td>\n",
              "      <td>5.7</td>\n",
              "      <td>0.6</td>\n",
              "      <td>0.00</td>\n",
              "    </tr>\n",
              "    <tr>\n",
              "      <th>3</th>\n",
              "      <td>2020-03-04</td>\n",
              "      <td>California</td>\n",
              "      <td>6001</td>\n",
              "      <td>0</td>\n",
              "      <td>Alameda County</td>\n",
              "      <td>0.0</td>\n",
              "      <td>6.209</td>\n",
              "      <td>99</td>\n",
              "      <td>1.0</td>\n",
              "      <td>6.0</td>\n",
              "      <td>23.0</td>\n",
              "      <td>-3.0</td>\n",
              "      <td>1.0</td>\n",
              "      <td>0.0</td>\n",
              "      <td>860.757075</td>\n",
              "      <td>California</td>\n",
              "      <td>CA</td>\n",
              "      <td>6001</td>\n",
              "      <td>Alameda County</td>\n",
              "      <td>6</td>\n",
              "      <td>14</td>\n",
              "      <td>18</td>\n",
              "      <td>3.55</td>\n",
              "      <td>27.9</td>\n",
              "      <td>0.3</td>\n",
              "      <td>36.9</td>\n",
              "      <td>0.68</td>\n",
              "      <td>2.87</td>\n",
              "      <td>0</td>\n",
              "      <td>1666753</td>\n",
              "      <td>1.7</td>\n",
              "      <td>15.04</td>\n",
              "      <td>19</td>\n",
              "      <td>92574</td>\n",
              "      <td>10.5</td>\n",
              "      <td>22.5</td>\n",
              "      <td>49.11</td>\n",
              "      <td>1155</td>\n",
              "      <td>131</td>\n",
              "      <td>2.05</td>\n",
              "      <td>0.22</td>\n",
              "      <td>NaN</td>\n",
              "      <td>0.0002</td>\n",
              "      <td>0.0</td>\n",
              "      <td>0</td>\n",
              "      <td>54.0</td>\n",
              "      <td>10.3</td>\n",
              "      <td>0.01</td>\n",
              "      <td>0.0</td>\n",
              "      <td>0</td>\n",
              "      <td>1</td>\n",
              "      <td>0.06</td>\n",
              "      <td>42</td>\n",
              "      <td>1.1</td>\n",
              "      <td>5.3</td>\n",
              "      <td>5.7</td>\n",
              "      <td>0.6</td>\n",
              "      <td>0.04</td>\n",
              "    </tr>\n",
              "    <tr>\n",
              "      <th>4</th>\n",
              "      <td>2020-03-05</td>\n",
              "      <td>California</td>\n",
              "      <td>6001</td>\n",
              "      <td>0</td>\n",
              "      <td>Alameda County</td>\n",
              "      <td>0.0</td>\n",
              "      <td>6.654</td>\n",
              "      <td>106</td>\n",
              "      <td>1.0</td>\n",
              "      <td>6.0</td>\n",
              "      <td>12.0</td>\n",
              "      <td>-5.0</td>\n",
              "      <td>-1.0</td>\n",
              "      <td>1.0</td>\n",
              "      <td>860.757075</td>\n",
              "      <td>California</td>\n",
              "      <td>CA</td>\n",
              "      <td>6001</td>\n",
              "      <td>Alameda County</td>\n",
              "      <td>6</td>\n",
              "      <td>15</td>\n",
              "      <td>19</td>\n",
              "      <td>3.54</td>\n",
              "      <td>28.1</td>\n",
              "      <td>0.3</td>\n",
              "      <td>36.8</td>\n",
              "      <td>0.66</td>\n",
              "      <td>2.88</td>\n",
              "      <td>0</td>\n",
              "      <td>1666753</td>\n",
              "      <td>2.0</td>\n",
              "      <td>15.04</td>\n",
              "      <td>19</td>\n",
              "      <td>92574</td>\n",
              "      <td>10.5</td>\n",
              "      <td>22.5</td>\n",
              "      <td>49.11</td>\n",
              "      <td>1155</td>\n",
              "      <td>131</td>\n",
              "      <td>2.05</td>\n",
              "      <td>0.22</td>\n",
              "      <td>NaN</td>\n",
              "      <td>0.0002</td>\n",
              "      <td>0.0</td>\n",
              "      <td>0</td>\n",
              "      <td>54.0</td>\n",
              "      <td>10.3</td>\n",
              "      <td>0.01</td>\n",
              "      <td>0.0</td>\n",
              "      <td>0</td>\n",
              "      <td>1</td>\n",
              "      <td>0.06</td>\n",
              "      <td>42</td>\n",
              "      <td>1.1</td>\n",
              "      <td>5.3</td>\n",
              "      <td>5.7</td>\n",
              "      <td>0.6</td>\n",
              "      <td>0.04</td>\n",
              "    </tr>\n",
              "  </tbody>\n",
              "</table>\n",
              "</div>"
            ],
            "text/plain": [
              "         Date Province_State  ...  Cumulative.inflation.rate  COVID.death.rate\n",
              "0  2020-03-01     California  ...                        0.6              0.00\n",
              "1  2020-03-02     California  ...                        0.6              0.00\n",
              "2  2020-03-03     California  ...                        0.6              0.00\n",
              "3  2020-03-04     California  ...                        0.6              0.04\n",
              "4  2020-03-05     California  ...                        0.6              0.04\n",
              "\n",
              "[5 rows x 58 columns]"
            ]
          },
          "metadata": {
            "tags": []
          },
          "execution_count": 145
        }
      ]
    },
    {
      "cell_type": "markdown",
      "metadata": {
        "id": "HC1g_MCUl38S"
      },
      "source": [
        "## Factor Plot"
      ]
    },
    {
      "cell_type": "code",
      "metadata": {
        "id": "-z9JblZbl7YE",
        "colab": {
          "base_uri": "https://localhost:8080/"
        },
        "outputId": "c4006328-8b8c-41c2-bd0d-d69d4b032907"
      },
      "source": [
        "sns.factorplot(data = CA_superset_data, x = 'New.cases.1000.people', y = \"m50_index\", \r\n",
        "               #col = 'Promo', \r\n",
        "               row = 'FIPS',\r\n",
        "               hue = 'FIPS',\r\n",
        "               palette = 'RdPu') "
      ],
      "execution_count": null,
      "outputs": [
        {
          "output_type": "stream",
          "text": [
            "/usr/local/lib/python3.6/dist-packages/seaborn/categorical.py:3714: UserWarning: The `factorplot` function has been renamed to `catplot`. The original name will be removed in a future release. Please update your code. Note that the default `kind` in `factorplot` (`'point'`) has changed `'strip'` in `catplot`.\n",
            "  warnings.warn(msg)\n"
          ],
          "name": "stderr"
        }
      ]
    },
    {
      "cell_type": "markdown",
      "metadata": {
        "id": "rSnFK0ABRmMh"
      },
      "source": [
        "## Preprocessing: Convert 'date' as index column before applying PCA"
      ]
    },
    {
      "cell_type": "code",
      "metadata": {
        "id": "Zmm_FbJ7Q_Yv"
      },
      "source": [
        "CA_superset_data['Date'] = pd.to_datetime(CA_superset_data['Date'], format='%Y-%m-%d') \n"
      ],
      "execution_count": 47,
      "outputs": []
    },
    {
      "cell_type": "code",
      "metadata": {
        "colab": {
          "base_uri": "https://localhost:8080/",
          "height": 346
        },
        "id": "f0Azs6lJRkDM",
        "outputId": "520992c8-9e95-4281-c73d-02ea6cbf16ea"
      },
      "source": [
        "CA_superset_data = CA_superset_data.set_index('Date')\n",
        "CA_superset_data.head()"
      ],
      "execution_count": 48,
      "outputs": [
        {
          "output_type": "execute_result",
          "data": {
            "text/html": [
              "<div>\n",
              "<style scoped>\n",
              "    .dataframe tbody tr th:only-of-type {\n",
              "        vertical-align: middle;\n",
              "    }\n",
              "\n",
              "    .dataframe tbody tr th {\n",
              "        vertical-align: top;\n",
              "    }\n",
              "\n",
              "    .dataframe thead th {\n",
              "        text-align: right;\n",
              "    }\n",
              "</style>\n",
              "<table border=\"1\" class=\"dataframe\">\n",
              "  <thead>\n",
              "    <tr style=\"text-align: right;\">\n",
              "      <th></th>\n",
              "      <th>Province_State</th>\n",
              "      <th>FIPS</th>\n",
              "      <th>New cases</th>\n",
              "      <th>County Name</th>\n",
              "      <th>mask_rule_severity</th>\n",
              "      <th>m50</th>\n",
              "      <th>m50_index</th>\n",
              "      <th>retail_and_recreation_percent_change_from_baseline</th>\n",
              "      <th>grocery_and_pharmacy_percent_change_from_baseline</th>\n",
              "      <th>parks_percent_change_from_baseline</th>\n",
              "      <th>transit_stations_percent_change_from_baseline</th>\n",
              "      <th>workplaces_percent_change_from_baseline</th>\n",
              "      <th>residential_percent_change_from_baseline</th>\n",
              "      <th>PopDensity</th>\n",
              "      <th>State_Name</th>\n",
              "      <th>State</th>\n",
              "      <th>CTFIPS</th>\n",
              "      <th>CTNAME</th>\n",
              "      <th>STFIPS</th>\n",
              "      <th>Social.distancing.index</th>\n",
              "      <th>X..staying.home</th>\n",
              "      <th>Trips.person</th>\n",
              "      <th>X..out.of.county.trips</th>\n",
              "      <th>X..out.of.state.trips</th>\n",
              "      <th>Miles.person</th>\n",
              "      <th>Work.trips.person</th>\n",
              "      <th>Non.work.trips.person</th>\n",
              "      <th>New.COVID.cases</th>\n",
              "      <th>Population</th>\n",
              "      <th>X..change.in.consumption</th>\n",
              "      <th>Transit.mode.share</th>\n",
              "      <th>X..people.older.than.60</th>\n",
              "      <th>Median.income</th>\n",
              "      <th>X..African.Americans</th>\n",
              "      <th>X..Hispanic.Americans</th>\n",
              "      <th>X..Male</th>\n",
              "      <th>Employment.density</th>\n",
              "      <th>X..hot.spots.1000.people</th>\n",
              "      <th>Hospital.beds.1000.people</th>\n",
              "      <th>ICUs.1000.people</th>\n",
              "      <th>X..contact.tracing.workers.1000.people</th>\n",
              "      <th>New.cases.1000.people</th>\n",
              "      <th>Active.cases.1000.people</th>\n",
              "      <th>X.days..decreasing.COVID.cases</th>\n",
              "      <th>X..hospital.bed.utilization</th>\n",
              "      <th>Testing.capacity</th>\n",
              "      <th>Tests.done.1000.people</th>\n",
              "      <th>X..ICU.utilization</th>\n",
              "      <th>Ventilator.shortage</th>\n",
              "      <th>Imported.COVID.cases</th>\n",
              "      <th>COVID.exposure.1000.people</th>\n",
              "      <th>X.days..decreasing.ILI.cases</th>\n",
              "      <th>Unemployment.claims.1000.people</th>\n",
              "      <th>Unemployment.rate</th>\n",
              "      <th>X..working.from.home</th>\n",
              "      <th>Cumulative.inflation.rate</th>\n",
              "      <th>COVID.death.rate</th>\n",
              "    </tr>\n",
              "    <tr>\n",
              "      <th>Date</th>\n",
              "      <th></th>\n",
              "      <th></th>\n",
              "      <th></th>\n",
              "      <th></th>\n",
              "      <th></th>\n",
              "      <th></th>\n",
              "      <th></th>\n",
              "      <th></th>\n",
              "      <th></th>\n",
              "      <th></th>\n",
              "      <th></th>\n",
              "      <th></th>\n",
              "      <th></th>\n",
              "      <th></th>\n",
              "      <th></th>\n",
              "      <th></th>\n",
              "      <th></th>\n",
              "      <th></th>\n",
              "      <th></th>\n",
              "      <th></th>\n",
              "      <th></th>\n",
              "      <th></th>\n",
              "      <th></th>\n",
              "      <th></th>\n",
              "      <th></th>\n",
              "      <th></th>\n",
              "      <th></th>\n",
              "      <th></th>\n",
              "      <th></th>\n",
              "      <th></th>\n",
              "      <th></th>\n",
              "      <th></th>\n",
              "      <th></th>\n",
              "      <th></th>\n",
              "      <th></th>\n",
              "      <th></th>\n",
              "      <th></th>\n",
              "      <th></th>\n",
              "      <th></th>\n",
              "      <th></th>\n",
              "      <th></th>\n",
              "      <th></th>\n",
              "      <th></th>\n",
              "      <th></th>\n",
              "      <th></th>\n",
              "      <th></th>\n",
              "      <th></th>\n",
              "      <th></th>\n",
              "      <th></th>\n",
              "      <th></th>\n",
              "      <th></th>\n",
              "      <th></th>\n",
              "      <th></th>\n",
              "      <th></th>\n",
              "      <th></th>\n",
              "      <th></th>\n",
              "      <th></th>\n",
              "    </tr>\n",
              "  </thead>\n",
              "  <tbody>\n",
              "    <tr>\n",
              "      <th>2020-03-01</th>\n",
              "      <td>California</td>\n",
              "      <td>6001</td>\n",
              "      <td>0</td>\n",
              "      <td>Alameda County</td>\n",
              "      <td>0.0</td>\n",
              "      <td>3.684</td>\n",
              "      <td>58</td>\n",
              "      <td>6.0</td>\n",
              "      <td>9.0</td>\n",
              "      <td>15.0</td>\n",
              "      <td>1.0</td>\n",
              "      <td>4.0</td>\n",
              "      <td>0.0</td>\n",
              "      <td>860.757075</td>\n",
              "      <td>California</td>\n",
              "      <td>CA</td>\n",
              "      <td>6001</td>\n",
              "      <td>Alameda County</td>\n",
              "      <td>6</td>\n",
              "      <td>37</td>\n",
              "      <td>26</td>\n",
              "      <td>2.93</td>\n",
              "      <td>25.4</td>\n",
              "      <td>0.4</td>\n",
              "      <td>36.8</td>\n",
              "      <td>0.25</td>\n",
              "      <td>2.68</td>\n",
              "      <td>0</td>\n",
              "      <td>1666753</td>\n",
              "      <td>-5.1</td>\n",
              "      <td>15.04</td>\n",
              "      <td>19</td>\n",
              "      <td>92574</td>\n",
              "      <td>10.5</td>\n",
              "      <td>22.5</td>\n",
              "      <td>49.11</td>\n",
              "      <td>1155</td>\n",
              "      <td>131</td>\n",
              "      <td>2.05</td>\n",
              "      <td>0.22</td>\n",
              "      <td>NaN</td>\n",
              "      <td>0.0000</td>\n",
              "      <td>0.0</td>\n",
              "      <td>37</td>\n",
              "      <td>54.0</td>\n",
              "      <td>0.0</td>\n",
              "      <td>0.00</td>\n",
              "      <td>0.0</td>\n",
              "      <td>0</td>\n",
              "      <td>0</td>\n",
              "      <td>0.05</td>\n",
              "      <td>35</td>\n",
              "      <td>1.1</td>\n",
              "      <td>5.3</td>\n",
              "      <td>5.7</td>\n",
              "      <td>0.6</td>\n",
              "      <td>0.00</td>\n",
              "    </tr>\n",
              "    <tr>\n",
              "      <th>2020-03-02</th>\n",
              "      <td>California</td>\n",
              "      <td>6001</td>\n",
              "      <td>0</td>\n",
              "      <td>Alameda County</td>\n",
              "      <td>0.0</td>\n",
              "      <td>6.182</td>\n",
              "      <td>98</td>\n",
              "      <td>4.0</td>\n",
              "      <td>7.0</td>\n",
              "      <td>7.0</td>\n",
              "      <td>-1.0</td>\n",
              "      <td>3.0</td>\n",
              "      <td>0.0</td>\n",
              "      <td>860.757075</td>\n",
              "      <td>California</td>\n",
              "      <td>CA</td>\n",
              "      <td>6001</td>\n",
              "      <td>Alameda County</td>\n",
              "      <td>6</td>\n",
              "      <td>17</td>\n",
              "      <td>20</td>\n",
              "      <td>3.38</td>\n",
              "      <td>28.2</td>\n",
              "      <td>0.4</td>\n",
              "      <td>38.1</td>\n",
              "      <td>0.63</td>\n",
              "      <td>2.74</td>\n",
              "      <td>0</td>\n",
              "      <td>1666753</td>\n",
              "      <td>-2.9</td>\n",
              "      <td>15.04</td>\n",
              "      <td>19</td>\n",
              "      <td>92574</td>\n",
              "      <td>10.5</td>\n",
              "      <td>22.5</td>\n",
              "      <td>49.11</td>\n",
              "      <td>1155</td>\n",
              "      <td>131</td>\n",
              "      <td>2.05</td>\n",
              "      <td>0.22</td>\n",
              "      <td>NaN</td>\n",
              "      <td>0.0000</td>\n",
              "      <td>0.0</td>\n",
              "      <td>38</td>\n",
              "      <td>54.0</td>\n",
              "      <td>0.0</td>\n",
              "      <td>0.00</td>\n",
              "      <td>0.0</td>\n",
              "      <td>0</td>\n",
              "      <td>0</td>\n",
              "      <td>0.05</td>\n",
              "      <td>35</td>\n",
              "      <td>1.1</td>\n",
              "      <td>5.3</td>\n",
              "      <td>5.7</td>\n",
              "      <td>0.6</td>\n",
              "      <td>0.00</td>\n",
              "    </tr>\n",
              "    <tr>\n",
              "      <th>2020-03-03</th>\n",
              "      <td>California</td>\n",
              "      <td>6001</td>\n",
              "      <td>1</td>\n",
              "      <td>Alameda County</td>\n",
              "      <td>0.0</td>\n",
              "      <td>6.271</td>\n",
              "      <td>100</td>\n",
              "      <td>5.0</td>\n",
              "      <td>12.0</td>\n",
              "      <td>41.0</td>\n",
              "      <td>0.0</td>\n",
              "      <td>1.0</td>\n",
              "      <td>-1.0</td>\n",
              "      <td>860.757075</td>\n",
              "      <td>California</td>\n",
              "      <td>CA</td>\n",
              "      <td>6001</td>\n",
              "      <td>Alameda County</td>\n",
              "      <td>6</td>\n",
              "      <td>16</td>\n",
              "      <td>18</td>\n",
              "      <td>3.61</td>\n",
              "      <td>27.1</td>\n",
              "      <td>0.3</td>\n",
              "      <td>32.7</td>\n",
              "      <td>0.67</td>\n",
              "      <td>2.94</td>\n",
              "      <td>1</td>\n",
              "      <td>1666753</td>\n",
              "      <td>4.1</td>\n",
              "      <td>15.04</td>\n",
              "      <td>19</td>\n",
              "      <td>92574</td>\n",
              "      <td>10.5</td>\n",
              "      <td>22.5</td>\n",
              "      <td>49.11</td>\n",
              "      <td>1155</td>\n",
              "      <td>131</td>\n",
              "      <td>2.05</td>\n",
              "      <td>0.22</td>\n",
              "      <td>NaN</td>\n",
              "      <td>0.0002</td>\n",
              "      <td>0.0</td>\n",
              "      <td>0</td>\n",
              "      <td>54.0</td>\n",
              "      <td>0.0</td>\n",
              "      <td>0.00</td>\n",
              "      <td>0.0</td>\n",
              "      <td>0</td>\n",
              "      <td>1</td>\n",
              "      <td>0.05</td>\n",
              "      <td>42</td>\n",
              "      <td>1.1</td>\n",
              "      <td>5.3</td>\n",
              "      <td>5.7</td>\n",
              "      <td>0.6</td>\n",
              "      <td>0.00</td>\n",
              "    </tr>\n",
              "    <tr>\n",
              "      <th>2020-03-04</th>\n",
              "      <td>California</td>\n",
              "      <td>6001</td>\n",
              "      <td>0</td>\n",
              "      <td>Alameda County</td>\n",
              "      <td>0.0</td>\n",
              "      <td>6.209</td>\n",
              "      <td>99</td>\n",
              "      <td>1.0</td>\n",
              "      <td>6.0</td>\n",
              "      <td>23.0</td>\n",
              "      <td>-3.0</td>\n",
              "      <td>1.0</td>\n",
              "      <td>0.0</td>\n",
              "      <td>860.757075</td>\n",
              "      <td>California</td>\n",
              "      <td>CA</td>\n",
              "      <td>6001</td>\n",
              "      <td>Alameda County</td>\n",
              "      <td>6</td>\n",
              "      <td>14</td>\n",
              "      <td>18</td>\n",
              "      <td>3.55</td>\n",
              "      <td>27.9</td>\n",
              "      <td>0.3</td>\n",
              "      <td>36.9</td>\n",
              "      <td>0.68</td>\n",
              "      <td>2.87</td>\n",
              "      <td>0</td>\n",
              "      <td>1666753</td>\n",
              "      <td>1.7</td>\n",
              "      <td>15.04</td>\n",
              "      <td>19</td>\n",
              "      <td>92574</td>\n",
              "      <td>10.5</td>\n",
              "      <td>22.5</td>\n",
              "      <td>49.11</td>\n",
              "      <td>1155</td>\n",
              "      <td>131</td>\n",
              "      <td>2.05</td>\n",
              "      <td>0.22</td>\n",
              "      <td>NaN</td>\n",
              "      <td>0.0002</td>\n",
              "      <td>0.0</td>\n",
              "      <td>0</td>\n",
              "      <td>54.0</td>\n",
              "      <td>10.3</td>\n",
              "      <td>0.01</td>\n",
              "      <td>0.0</td>\n",
              "      <td>0</td>\n",
              "      <td>1</td>\n",
              "      <td>0.06</td>\n",
              "      <td>42</td>\n",
              "      <td>1.1</td>\n",
              "      <td>5.3</td>\n",
              "      <td>5.7</td>\n",
              "      <td>0.6</td>\n",
              "      <td>0.04</td>\n",
              "    </tr>\n",
              "    <tr>\n",
              "      <th>2020-03-05</th>\n",
              "      <td>California</td>\n",
              "      <td>6001</td>\n",
              "      <td>0</td>\n",
              "      <td>Alameda County</td>\n",
              "      <td>0.0</td>\n",
              "      <td>6.654</td>\n",
              "      <td>106</td>\n",
              "      <td>1.0</td>\n",
              "      <td>6.0</td>\n",
              "      <td>12.0</td>\n",
              "      <td>-5.0</td>\n",
              "      <td>-1.0</td>\n",
              "      <td>1.0</td>\n",
              "      <td>860.757075</td>\n",
              "      <td>California</td>\n",
              "      <td>CA</td>\n",
              "      <td>6001</td>\n",
              "      <td>Alameda County</td>\n",
              "      <td>6</td>\n",
              "      <td>15</td>\n",
              "      <td>19</td>\n",
              "      <td>3.54</td>\n",
              "      <td>28.1</td>\n",
              "      <td>0.3</td>\n",
              "      <td>36.8</td>\n",
              "      <td>0.66</td>\n",
              "      <td>2.88</td>\n",
              "      <td>0</td>\n",
              "      <td>1666753</td>\n",
              "      <td>2.0</td>\n",
              "      <td>15.04</td>\n",
              "      <td>19</td>\n",
              "      <td>92574</td>\n",
              "      <td>10.5</td>\n",
              "      <td>22.5</td>\n",
              "      <td>49.11</td>\n",
              "      <td>1155</td>\n",
              "      <td>131</td>\n",
              "      <td>2.05</td>\n",
              "      <td>0.22</td>\n",
              "      <td>NaN</td>\n",
              "      <td>0.0002</td>\n",
              "      <td>0.0</td>\n",
              "      <td>0</td>\n",
              "      <td>54.0</td>\n",
              "      <td>10.3</td>\n",
              "      <td>0.01</td>\n",
              "      <td>0.0</td>\n",
              "      <td>0</td>\n",
              "      <td>1</td>\n",
              "      <td>0.06</td>\n",
              "      <td>42</td>\n",
              "      <td>1.1</td>\n",
              "      <td>5.3</td>\n",
              "      <td>5.7</td>\n",
              "      <td>0.6</td>\n",
              "      <td>0.04</td>\n",
              "    </tr>\n",
              "  </tbody>\n",
              "</table>\n",
              "</div>"
            ],
            "text/plain": [
              "           Province_State  FIPS  ...  Cumulative.inflation.rate COVID.death.rate\n",
              "Date                             ...                                            \n",
              "2020-03-01     California  6001  ...                        0.6             0.00\n",
              "2020-03-02     California  6001  ...                        0.6             0.00\n",
              "2020-03-03     California  6001  ...                        0.6             0.00\n",
              "2020-03-04     California  6001  ...                        0.6             0.04\n",
              "2020-03-05     California  6001  ...                        0.6             0.04\n",
              "\n",
              "[5 rows x 57 columns]"
            ]
          },
          "metadata": {
            "tags": []
          },
          "execution_count": 48
        }
      ]
    },
    {
      "cell_type": "markdown",
      "metadata": {
        "id": "dz88ruhHdbgI"
      },
      "source": [
        "## Group the data"
      ]
    },
    {
      "cell_type": "code",
      "metadata": {
        "colab": {
          "base_uri": "https://localhost:8080/"
        },
        "id": "ulNUOh09dni3",
        "outputId": "2a00da2a-406c-4003-aefe-e77bee1532d5"
      },
      "source": [
        "CA_superset_data.columns"
      ],
      "execution_count": 51,
      "outputs": [
        {
          "output_type": "execute_result",
          "data": {
            "text/plain": [
              "Index(['Province_State', 'FIPS', 'New cases', 'County Name',\n",
              "       'mask_rule_severity', 'm50', 'm50_index',\n",
              "       'retail_and_recreation_percent_change_from_baseline',\n",
              "       'grocery_and_pharmacy_percent_change_from_baseline',\n",
              "       'parks_percent_change_from_baseline',\n",
              "       'transit_stations_percent_change_from_baseline',\n",
              "       'workplaces_percent_change_from_baseline',\n",
              "       'residential_percent_change_from_baseline', 'PopDensity', 'State_Name',\n",
              "       'State', 'CTFIPS', 'CTNAME', 'STFIPS', 'Social.distancing.index',\n",
              "       'X..staying.home', 'Trips.person', 'X..out.of.county.trips',\n",
              "       'X..out.of.state.trips', 'Miles.person', 'Work.trips.person',\n",
              "       'Non.work.trips.person', 'New.COVID.cases', 'Population',\n",
              "       'X..change.in.consumption', 'Transit.mode.share',\n",
              "       'X..people.older.than.60', 'Median.income', 'X..African.Americans',\n",
              "       'X..Hispanic.Americans', 'X..Male', 'Employment.density',\n",
              "       'X..hot.spots.1000.people', 'Hospital.beds.1000.people',\n",
              "       'ICUs.1000.people', 'X..contact.tracing.workers.1000.people',\n",
              "       'New.cases.1000.people', 'Active.cases.1000.people',\n",
              "       'X.days..decreasing.COVID.cases', 'X..hospital.bed.utilization',\n",
              "       'Testing.capacity', 'Tests.done.1000.people', 'X..ICU.utilization',\n",
              "       'Ventilator.shortage', 'Imported.COVID.cases',\n",
              "       'COVID.exposure.1000.people', 'X.days..decreasing.ILI.cases',\n",
              "       'Unemployment.claims.1000.people', 'Unemployment.rate',\n",
              "       'X..working.from.home', 'Cumulative.inflation.rate',\n",
              "       'COVID.death.rate'],\n",
              "      dtype='object')"
            ]
          },
          "metadata": {
            "tags": []
          },
          "execution_count": 51
        }
      ]
    },
    {
      "cell_type": "code",
      "metadata": {
        "id": "ZSl-K2oLdrlI"
      },
      "source": [
        "x_col_demographics = ['FIPS','PopDensity','X..people.older.than.60',\r\n",
        "                      'Median.income', 'X..African.Americans',\r\n",
        "                      'X..Hispanic.Americans', 'X..Male','New cases','New.cases.1000.people']"
      ],
      "execution_count": 52,
      "outputs": []
    },
    {
      "cell_type": "code",
      "metadata": {
        "id": "luR-aqZyfIAa"
      },
      "source": [
        "x_col_hospitalization_testing = ['Hospital.beds.1000.people',\r\n",
        "       'ICUs.1000.people', \r\n",
        "       'X..hospital.bed.utilization',\r\n",
        "       'Testing.capacity', 'Tests.done.1000.people', 'X..ICU.utilization',\r\n",
        "       'Ventilator.shortage','New cases','New.cases.1000.people'] #'X..contact.tracing.workers.1000.people',"
      ],
      "execution_count": 74,
      "outputs": []
    },
    {
      "cell_type": "code",
      "metadata": {
        "id": "AKJ_Xx1RfxLL"
      },
      "source": [
        "x_col_mobility = ['retail_and_recreation_percent_change_from_baseline',\r\n",
        "       'grocery_and_pharmacy_percent_change_from_baseline','parks_percent_change_from_baseline',\r\n",
        "       'transit_stations_percent_change_from_baseline','workplaces_percent_change_from_baseline',\r\n",
        "       'residential_percent_change_from_baseline',\r\n",
        "       'X..staying.home', 'Trips.person', 'X..out.of.county.trips',\r\n",
        "       'X..out.of.state.trips', 'Miles.person', 'Work.trips.person',\r\n",
        "       'Non.work.trips.person','X..working.from.home','New cases','New.cases.1000.people']"
      ],
      "execution_count": 54,
      "outputs": []
    },
    {
      "cell_type": "code",
      "metadata": {
        "id": "-TTb78Pegu9X"
      },
      "source": [
        "x_col_socialdistancing = ['m50', 'm50_index','Social.distancing.index','New cases','New.cases.1000.people']"
      ],
      "execution_count": 55,
      "outputs": []
    },
    {
      "cell_type": "code",
      "metadata": {
        "id": "-cKerz6Lg87o"
      },
      "source": [
        "x_col_maskrule = ['mask_rule_severity','New cases','New.cases.1000.people']"
      ],
      "execution_count": 56,
      "outputs": []
    },
    {
      "cell_type": "markdown",
      "metadata": {
        "id": "E0L3ScT4hEZL"
      },
      "source": [
        "# PCA: Demographic Group"
      ]
    },
    {
      "cell_type": "code",
      "metadata": {
        "colab": {
          "base_uri": "https://localhost:8080/",
          "height": 346
        },
        "id": "lkROPAXljSTE",
        "outputId": "d38d3bd3-1b53-40e7-d362-d5b62b947acf"
      },
      "source": [
        "CA_superset_data_filtered = CA_superset_data[x_col_demographics]\r\n",
        "CA_superset_data_filtered.head()"
      ],
      "execution_count": 133,
      "outputs": [
        {
          "output_type": "execute_result",
          "data": {
            "text/html": [
              "<div>\n",
              "<style scoped>\n",
              "    .dataframe tbody tr th:only-of-type {\n",
              "        vertical-align: middle;\n",
              "    }\n",
              "\n",
              "    .dataframe tbody tr th {\n",
              "        vertical-align: top;\n",
              "    }\n",
              "\n",
              "    .dataframe thead th {\n",
              "        text-align: right;\n",
              "    }\n",
              "</style>\n",
              "<table border=\"1\" class=\"dataframe\">\n",
              "  <thead>\n",
              "    <tr style=\"text-align: right;\">\n",
              "      <th></th>\n",
              "      <th>FIPS</th>\n",
              "      <th>PopDensity</th>\n",
              "      <th>X..people.older.than.60</th>\n",
              "      <th>Median.income</th>\n",
              "      <th>X..African.Americans</th>\n",
              "      <th>X..Hispanic.Americans</th>\n",
              "      <th>X..Male</th>\n",
              "      <th>New cases</th>\n",
              "      <th>New.cases.1000.people</th>\n",
              "    </tr>\n",
              "    <tr>\n",
              "      <th>Date</th>\n",
              "      <th></th>\n",
              "      <th></th>\n",
              "      <th></th>\n",
              "      <th></th>\n",
              "      <th></th>\n",
              "      <th></th>\n",
              "      <th></th>\n",
              "      <th></th>\n",
              "      <th></th>\n",
              "    </tr>\n",
              "  </thead>\n",
              "  <tbody>\n",
              "    <tr>\n",
              "      <th>2020-03-01</th>\n",
              "      <td>6001</td>\n",
              "      <td>860.757075</td>\n",
              "      <td>19</td>\n",
              "      <td>92574</td>\n",
              "      <td>10.5</td>\n",
              "      <td>22.5</td>\n",
              "      <td>49.11</td>\n",
              "      <td>0</td>\n",
              "      <td>0.0000</td>\n",
              "    </tr>\n",
              "    <tr>\n",
              "      <th>2020-03-02</th>\n",
              "      <td>6001</td>\n",
              "      <td>860.757075</td>\n",
              "      <td>19</td>\n",
              "      <td>92574</td>\n",
              "      <td>10.5</td>\n",
              "      <td>22.5</td>\n",
              "      <td>49.11</td>\n",
              "      <td>0</td>\n",
              "      <td>0.0000</td>\n",
              "    </tr>\n",
              "    <tr>\n",
              "      <th>2020-03-03</th>\n",
              "      <td>6001</td>\n",
              "      <td>860.757075</td>\n",
              "      <td>19</td>\n",
              "      <td>92574</td>\n",
              "      <td>10.5</td>\n",
              "      <td>22.5</td>\n",
              "      <td>49.11</td>\n",
              "      <td>1</td>\n",
              "      <td>0.0002</td>\n",
              "    </tr>\n",
              "    <tr>\n",
              "      <th>2020-03-04</th>\n",
              "      <td>6001</td>\n",
              "      <td>860.757075</td>\n",
              "      <td>19</td>\n",
              "      <td>92574</td>\n",
              "      <td>10.5</td>\n",
              "      <td>22.5</td>\n",
              "      <td>49.11</td>\n",
              "      <td>0</td>\n",
              "      <td>0.0002</td>\n",
              "    </tr>\n",
              "    <tr>\n",
              "      <th>2020-03-05</th>\n",
              "      <td>6001</td>\n",
              "      <td>860.757075</td>\n",
              "      <td>19</td>\n",
              "      <td>92574</td>\n",
              "      <td>10.5</td>\n",
              "      <td>22.5</td>\n",
              "      <td>49.11</td>\n",
              "      <td>0</td>\n",
              "      <td>0.0002</td>\n",
              "    </tr>\n",
              "  </tbody>\n",
              "</table>\n",
              "</div>"
            ],
            "text/plain": [
              "            FIPS  PopDensity  ...  New cases  New.cases.1000.people\n",
              "Date                          ...                                  \n",
              "2020-03-01  6001  860.757075  ...          0                 0.0000\n",
              "2020-03-02  6001  860.757075  ...          0                 0.0000\n",
              "2020-03-03  6001  860.757075  ...          1                 0.0002\n",
              "2020-03-04  6001  860.757075  ...          0                 0.0002\n",
              "2020-03-05  6001  860.757075  ...          0                 0.0002\n",
              "\n",
              "[5 rows x 9 columns]"
            ]
          },
          "metadata": {
            "tags": []
          },
          "execution_count": 133
        }
      ]
    },
    {
      "cell_type": "code",
      "metadata": {
        "colab": {
          "base_uri": "https://localhost:8080/"
        },
        "id": "vvk-QKSAjVfT",
        "outputId": "57d48694-c71b-4855-c9ed-25de6b14faa9"
      },
      "source": [
        "print(CA_superset_data_filtered.shape)\r\n",
        "CA_superset_data_filtered = CA_superset_data_filtered.dropna()\r\n",
        "print(CA_superset_data_filtered.shape)"
      ],
      "execution_count": 134,
      "outputs": [
        {
          "output_type": "stream",
          "text": [
            "(15391, 9)\n",
            "(15391, 9)\n"
          ],
          "name": "stdout"
        }
      ]
    },
    {
      "cell_type": "markdown",
      "metadata": {
        "id": "SiqcUes6kds3"
      },
      "source": [
        "## Correlation Plot"
      ]
    },
    {
      "cell_type": "code",
      "metadata": {
        "colab": {
          "base_uri": "https://localhost:8080/",
          "height": 699
        },
        "id": "UAidnDQYkds_",
        "outputId": "6143f909-8348-4b36-f594-7586f0d23a48"
      },
      "source": [
        "\n",
        "corr = CA_superset_data_filtered.corr()\n",
        "g = sns.heatmap(corr, vmax=.9, center=0,\n",
        "               square=True, linewidths=1.5, cbar_kws={\"shrink\": .8}, annot=True, fmt='.2f', cmap='coolwarm')\n",
        "bottom, top = g.get_ylim()\n",
        "g.set_ylim(bottom + 0.5, top - 0.5)\n",
        "sns.despine()\n",
        "g.figure.set_size_inches(16, 10)"
      ],
      "execution_count": 135,
      "outputs": [
        {
          "output_type": "display_data",
          "data": {
            "image/png": "[encoded data removed]",
            "text/plain": [
              "<Figure size 1152x720 with 2 Axes>"
            ]
          },
          "metadata": {
            "tags": [],
            "needs_background": "light"
          }
        }
      ]
    },
    {
      "cell_type": "markdown",
      "metadata": {
        "id": "XM9PfM44R0G9"
      },
      "source": [
        "## Standardizing the data"
      ]
    },
    {
      "cell_type": "code",
      "metadata": {
        "id": "ALDlWkjeRvIy"
      },
      "source": [
        "X = CA_superset_data_filtered.values # getting all values as a matrix of dataframe \n",
        "sc = StandardScaler() # creating a StandardScaler object\n",
        "X_std = sc.fit_transform(X) # standardizing the data"
      ],
      "execution_count": 136,
      "outputs": []
    },
    {
      "cell_type": "markdown",
      "metadata": {
        "id": "ja1Fiv1tSew4"
      },
      "source": [
        "## Apply PCA"
      ]
    },
    {
      "cell_type": "code",
      "metadata": {
        "id": "XwSy5fViRvAp"
      },
      "source": [
        "pca = PCA()\n",
        "X_pca = pca.fit(X_std)"
      ],
      "execution_count": 137,
      "outputs": []
    },
    {
      "cell_type": "markdown",
      "metadata": {
        "id": "TBPoYnuqS0vT"
      },
      "source": [
        "## Determine the number of components"
      ]
    },
    {
      "cell_type": "code",
      "metadata": {
        "colab": {
          "base_uri": "https://localhost:8080/",
          "height": 279
        },
        "id": "L4-ucQkSS24N",
        "outputId": "59631990-13fa-4b57-89da-a212b555203c"
      },
      "source": [
        "plt.plot(np.cumsum(pca.explained_variance_ratio_))\n",
        "plt.xlabel('number of components')\n",
        "plt.ylabel('cumulative explained variance');"
      ],
      "execution_count": 138,
      "outputs": [
        {
          "output_type": "display_data",
          "data": {
            "image/png": "[encoded data removed]",
            "text/plain": [
              "<Figure size 432x288 with 1 Axes>"
            ]
          },
          "metadata": {
            "tags": [],
            "needs_background": "light"
          }
        }
      ]
    },
    {
      "cell_type": "markdown",
      "metadata": {
        "id": "_xDQ5BVTS-3e"
      },
      "source": [
        "## Dimensionality Reduction"
      ]
    },
    {
      "cell_type": "code",
      "metadata": {
        "id": "kVCchJMuS-Rh"
      },
      "source": [
        "num_components = 7\n",
        "pca = PCA(num_components)  \n",
        "X_pca = pca.fit_transform(X_std) # fit and reduce dimension"
      ],
      "execution_count": 139,
      "outputs": []
    },
    {
      "cell_type": "markdown",
      "metadata": {
        "id": "OY_r7VeVTRSr"
      },
      "source": [
        "## Important feature set"
      ]
    },
    {
      "cell_type": "code",
      "metadata": {
        "colab": {
          "base_uri": "https://localhost:8080/",
          "height": 293
        },
        "id": "XHhrHAcyTSAD",
        "outputId": "4c17374f-e2f3-4b74-a9e2-f3e185928fe2"
      },
      "source": [
        "pd.DataFrame(pca.components_, columns = CA_superset_data_filtered.columns)\n"
      ],
      "execution_count": 140,
      "outputs": [
        {
          "output_type": "execute_result",
          "data": {
            "text/html": [
              "<div>\n",
              "<style scoped>\n",
              "    .dataframe tbody tr th:only-of-type {\n",
              "        vertical-align: middle;\n",
              "    }\n",
              "\n",
              "    .dataframe tbody tr th {\n",
              "        vertical-align: top;\n",
              "    }\n",
              "\n",
              "    .dataframe thead th {\n",
              "        text-align: right;\n",
              "    }\n",
              "</style>\n",
              "<table border=\"1\" class=\"dataframe\">\n",
              "  <thead>\n",
              "    <tr style=\"text-align: right;\">\n",
              "      <th></th>\n",
              "      <th>FIPS</th>\n",
              "      <th>PopDensity</th>\n",
              "      <th>X..people.older.than.60</th>\n",
              "      <th>Median.income</th>\n",
              "      <th>X..African.Americans</th>\n",
              "      <th>X..Hispanic.Americans</th>\n",
              "      <th>X..Male</th>\n",
              "      <th>New cases</th>\n",
              "      <th>New.cases.1000.people</th>\n",
              "    </tr>\n",
              "  </thead>\n",
              "  <tbody>\n",
              "    <tr>\n",
              "      <th>0</th>\n",
              "      <td>0.011703</td>\n",
              "      <td>0.097211</td>\n",
              "      <td>-0.607513</td>\n",
              "      <td>0.057242</td>\n",
              "      <td>0.415698</td>\n",
              "      <td>0.511488</td>\n",
              "      <td>0.111266</td>\n",
              "      <td>0.294271</td>\n",
              "      <td>0.290971</td>\n",
              "    </tr>\n",
              "    <tr>\n",
              "      <th>1</th>\n",
              "      <td>-0.247045</td>\n",
              "      <td>-0.570619</td>\n",
              "      <td>0.037215</td>\n",
              "      <td>-0.637119</td>\n",
              "      <td>-0.190083</td>\n",
              "      <td>0.233543</td>\n",
              "      <td>0.271885</td>\n",
              "      <td>-0.038781</td>\n",
              "      <td>0.199895</td>\n",
              "    </tr>\n",
              "    <tr>\n",
              "      <th>2</th>\n",
              "      <td>-0.517833</td>\n",
              "      <td>0.234642</td>\n",
              "      <td>0.220283</td>\n",
              "      <td>0.051234</td>\n",
              "      <td>0.336838</td>\n",
              "      <td>-0.381164</td>\n",
              "      <td>0.545101</td>\n",
              "      <td>0.162867</td>\n",
              "      <td>0.207930</td>\n",
              "    </tr>\n",
              "    <tr>\n",
              "      <th>3</th>\n",
              "      <td>0.157940</td>\n",
              "      <td>-0.043654</td>\n",
              "      <td>0.254438</td>\n",
              "      <td>0.008150</td>\n",
              "      <td>-0.222331</td>\n",
              "      <td>-0.142494</td>\n",
              "      <td>-0.305492</td>\n",
              "      <td>0.666232</td>\n",
              "      <td>0.549016</td>\n",
              "    </tr>\n",
              "    <tr>\n",
              "      <th>4</th>\n",
              "      <td>-0.683352</td>\n",
              "      <td>-0.085008</td>\n",
              "      <td>0.024331</td>\n",
              "      <td>0.009233</td>\n",
              "      <td>0.096754</td>\n",
              "      <td>0.146466</td>\n",
              "      <td>-0.521104</td>\n",
              "      <td>0.282975</td>\n",
              "      <td>-0.377742</td>\n",
              "    </tr>\n",
              "    <tr>\n",
              "      <th>5</th>\n",
              "      <td>0.388097</td>\n",
              "      <td>-0.392313</td>\n",
              "      <td>0.063109</td>\n",
              "      <td>-0.195484</td>\n",
              "      <td>0.576380</td>\n",
              "      <td>-0.279674</td>\n",
              "      <td>0.027890</td>\n",
              "      <td>0.316388</td>\n",
              "      <td>-0.376781</td>\n",
              "    </tr>\n",
              "    <tr>\n",
              "      <th>6</th>\n",
              "      <td>0.119705</td>\n",
              "      <td>0.562770</td>\n",
              "      <td>-0.014456</td>\n",
              "      <td>-0.480991</td>\n",
              "      <td>-0.279481</td>\n",
              "      <td>0.116095</td>\n",
              "      <td>0.215088</td>\n",
              "      <td>0.377026</td>\n",
              "      <td>-0.396736</td>\n",
              "    </tr>\n",
              "  </tbody>\n",
              "</table>\n",
              "</div>"
            ],
            "text/plain": [
              "       FIPS  PopDensity  ...  New cases  New.cases.1000.people\n",
              "0  0.011703    0.097211  ...   0.294271               0.290971\n",
              "1 -0.247045   -0.570619  ...  -0.038781               0.199895\n",
              "2 -0.517833    0.234642  ...   0.162867               0.207930\n",
              "3  0.157940   -0.043654  ...   0.666232               0.549016\n",
              "4 -0.683352   -0.085008  ...   0.282975              -0.377742\n",
              "5  0.388097   -0.392313  ...   0.316388              -0.376781\n",
              "6  0.119705    0.562770  ...   0.377026              -0.396736\n",
              "\n",
              "[7 rows x 9 columns]"
            ]
          },
          "metadata": {
            "tags": []
          },
          "execution_count": 140
        }
      ]
    },
    {
      "cell_type": "code",
      "metadata": {
        "id": "_JLEzjGyTfIX"
      },
      "source": [
        "\n",
        "n_pcs= pca.n_components_ # get number of component\n",
        "# get the index of the most important feature on EACH component\n",
        "most_important = [np.abs(pca.components_[i]).argmax() for i in range(n_pcs)]\n",
        "initial_feature_names = CA_superset_data_filtered.columns\n",
        "# get the most important feature names\n",
        "most_important_names = [initial_feature_names[most_important[i]] for i in range(n_pcs)]"
      ],
      "execution_count": 141,
      "outputs": []
    },
    {
      "cell_type": "code",
      "metadata": {
        "colab": {
          "base_uri": "https://localhost:8080/"
        },
        "id": "xGefjbrZ0X85",
        "outputId": "74ac5b71-eb82-4bb5-87e7-a8fd71cc5fb5"
      },
      "source": [
        "most_important_names"
      ],
      "execution_count": 142,
      "outputs": [
        {
          "output_type": "execute_result",
          "data": {
            "text/plain": [
              "['X..people.older.than.60',\n",
              " 'Median.income',\n",
              " 'X..Male',\n",
              " 'New cases',\n",
              " 'FIPS',\n",
              " 'X..African.Americans',\n",
              " 'PopDensity']"
            ]
          },
          "metadata": {
            "tags": []
          },
          "execution_count": 142
        }
      ]
    },
    {
      "cell_type": "code",
      "metadata": {
        "colab": {
          "base_uri": "https://localhost:8080/"
        },
        "id": "ntoEQkBQTijr",
        "outputId": "5cbc67f8-ff88-4f66-c50a-d254c01d392d"
      },
      "source": [
        "print(\" initial_feature_names : \",initial_feature_names)\n",
        "\n",
        "print(\"most_important_names: \", most_important_names)\n",
        "\n",
        "print(len(initial_feature_names) - len(most_important_names))"
      ],
      "execution_count": 143,
      "outputs": [
        {
          "output_type": "stream",
          "text": [
            " initial_feature_names :  Index(['FIPS', 'PopDensity', 'X..people.older.than.60', 'Median.income',\n",
            "       'X..African.Americans', 'X..Hispanic.Americans', 'X..Male', 'New cases',\n",
            "       'New.cases.1000.people'],\n",
            "      dtype='object')\n",
            "most_important_names:  ['X..people.older.than.60', 'Median.income', 'X..Male', 'New cases', 'FIPS', 'X..African.Americans', 'PopDensity']\n",
            "2\n"
          ],
          "name": "stdout"
        }
      ]
    },
    {
      "cell_type": "markdown",
      "metadata": {
        "id": "XtBqvc4GjmXi"
      },
      "source": [
        "# PCA: Hospitalization and testing  Group"
      ]
    },
    {
      "cell_type": "code",
      "metadata": {
        "colab": {
          "base_uri": "https://localhost:8080/",
          "height": 346
        },
        "id": "gJ5lM8ttjmX1",
        "outputId": "3932fe9a-f538-4b1f-acef-b1d6e9c367f5"
      },
      "source": [
        "CA_superset_data_filtered = CA_superset_data[x_col_hospitalization_testing]\r\n",
        "CA_superset_data_filtered.head()"
      ],
      "execution_count": 111,
      "outputs": [
        {
          "output_type": "execute_result",
          "data": {
            "text/html": [
              "<div>\n",
              "<style scoped>\n",
              "    .dataframe tbody tr th:only-of-type {\n",
              "        vertical-align: middle;\n",
              "    }\n",
              "\n",
              "    .dataframe tbody tr th {\n",
              "        vertical-align: top;\n",
              "    }\n",
              "\n",
              "    .dataframe thead th {\n",
              "        text-align: right;\n",
              "    }\n",
              "</style>\n",
              "<table border=\"1\" class=\"dataframe\">\n",
              "  <thead>\n",
              "    <tr style=\"text-align: right;\">\n",
              "      <th></th>\n",
              "      <th>Hospital.beds.1000.people</th>\n",
              "      <th>ICUs.1000.people</th>\n",
              "      <th>X..hospital.bed.utilization</th>\n",
              "      <th>Testing.capacity</th>\n",
              "      <th>Tests.done.1000.people</th>\n",
              "      <th>X..ICU.utilization</th>\n",
              "      <th>Ventilator.shortage</th>\n",
              "      <th>New cases</th>\n",
              "      <th>New.cases.1000.people</th>\n",
              "    </tr>\n",
              "    <tr>\n",
              "      <th>Date</th>\n",
              "      <th></th>\n",
              "      <th></th>\n",
              "      <th></th>\n",
              "      <th></th>\n",
              "      <th></th>\n",
              "      <th></th>\n",
              "      <th></th>\n",
              "      <th></th>\n",
              "      <th></th>\n",
              "    </tr>\n",
              "  </thead>\n",
              "  <tbody>\n",
              "    <tr>\n",
              "      <th>2020-03-01</th>\n",
              "      <td>2.05</td>\n",
              "      <td>0.22</td>\n",
              "      <td>54.0</td>\n",
              "      <td>0.0</td>\n",
              "      <td>0.00</td>\n",
              "      <td>0.0</td>\n",
              "      <td>0</td>\n",
              "      <td>0</td>\n",
              "      <td>0.0000</td>\n",
              "    </tr>\n",
              "    <tr>\n",
              "      <th>2020-03-02</th>\n",
              "      <td>2.05</td>\n",
              "      <td>0.22</td>\n",
              "      <td>54.0</td>\n",
              "      <td>0.0</td>\n",
              "      <td>0.00</td>\n",
              "      <td>0.0</td>\n",
              "      <td>0</td>\n",
              "      <td>0</td>\n",
              "      <td>0.0000</td>\n",
              "    </tr>\n",
              "    <tr>\n",
              "      <th>2020-03-03</th>\n",
              "      <td>2.05</td>\n",
              "      <td>0.22</td>\n",
              "      <td>54.0</td>\n",
              "      <td>0.0</td>\n",
              "      <td>0.00</td>\n",
              "      <td>0.0</td>\n",
              "      <td>0</td>\n",
              "      <td>1</td>\n",
              "      <td>0.0002</td>\n",
              "    </tr>\n",
              "    <tr>\n",
              "      <th>2020-03-04</th>\n",
              "      <td>2.05</td>\n",
              "      <td>0.22</td>\n",
              "      <td>54.0</td>\n",
              "      <td>10.3</td>\n",
              "      <td>0.01</td>\n",
              "      <td>0.0</td>\n",
              "      <td>0</td>\n",
              "      <td>0</td>\n",
              "      <td>0.0002</td>\n",
              "    </tr>\n",
              "    <tr>\n",
              "      <th>2020-03-05</th>\n",
              "      <td>2.05</td>\n",
              "      <td>0.22</td>\n",
              "      <td>54.0</td>\n",
              "      <td>10.3</td>\n",
              "      <td>0.01</td>\n",
              "      <td>0.0</td>\n",
              "      <td>0</td>\n",
              "      <td>0</td>\n",
              "      <td>0.0002</td>\n",
              "    </tr>\n",
              "  </tbody>\n",
              "</table>\n",
              "</div>"
            ],
            "text/plain": [
              "            Hospital.beds.1000.people  ...  New.cases.1000.people\n",
              "Date                                   ...                       \n",
              "2020-03-01                       2.05  ...                 0.0000\n",
              "2020-03-02                       2.05  ...                 0.0000\n",
              "2020-03-03                       2.05  ...                 0.0002\n",
              "2020-03-04                       2.05  ...                 0.0002\n",
              "2020-03-05                       2.05  ...                 0.0002\n",
              "\n",
              "[5 rows x 9 columns]"
            ]
          },
          "metadata": {
            "tags": []
          },
          "execution_count": 111
        }
      ]
    },
    {
      "cell_type": "code",
      "metadata": {
        "colab": {
          "base_uri": "https://localhost:8080/"
        },
        "id": "OySogvVYjmX3",
        "outputId": "29fe9ae3-8fb4-41b8-9a02-c430b3ebce35"
      },
      "source": [
        "print(CA_superset_data_filtered.shape)\r\n",
        "CA_superset_data_filtered = CA_superset_data_filtered.dropna()\r\n",
        "print(CA_superset_data_filtered.shape)"
      ],
      "execution_count": 112,
      "outputs": [
        {
          "output_type": "stream",
          "text": [
            "(15391, 9)\n",
            "(15391, 9)\n"
          ],
          "name": "stdout"
        }
      ]
    },
    {
      "cell_type": "markdown",
      "metadata": {
        "id": "v9ELuaLAkly-"
      },
      "source": [
        "## Correlation Plot"
      ]
    },
    {
      "cell_type": "code",
      "metadata": {
        "colab": {
          "base_uri": "https://localhost:8080/",
          "height": 715
        },
        "id": "BAA2bKN0kly_",
        "outputId": "98784dbf-0b02-4e30-957c-9b556db1b663"
      },
      "source": [
        "\n",
        "corr = CA_superset_data_filtered.corr()\n",
        "g = sns.heatmap(corr, vmax=.9, center=0,\n",
        "               square=True, linewidths=1.5, cbar_kws={\"shrink\": .8}, annot=True, fmt='.2f', cmap='coolwarm')\n",
        "bottom, top = g.get_ylim()\n",
        "g.set_ylim(bottom + 0.5, top - 0.5)\n",
        "sns.despine()\n",
        "g.figure.set_size_inches(16, 10)"
      ],
      "execution_count": 113,
      "outputs": [
        {
          "output_type": "display_data",
          "data": {
            "image/png": "[encoded data removed]",
            "text/plain": [
              "<Figure size 1152x720 with 2 Axes>"
            ]
          },
          "metadata": {
            "tags": [],
            "needs_background": "light"
          }
        }
      ]
    },
    {
      "cell_type": "markdown",
      "metadata": {
        "id": "NH5B-Nw2jmX0"
      },
      "source": [
        "## Standardizing the data"
      ]
    },
    {
      "cell_type": "code",
      "metadata": {
        "id": "FkYgaBC2jmX4"
      },
      "source": [
        "X = CA_superset_data_filtered.values # getting all values as a matrix of dataframe \n",
        "sc = StandardScaler() # creating a StandardScaler object\n",
        "X_std = sc.fit_transform(X) # standardizing the data"
      ],
      "execution_count": 114,
      "outputs": []
    },
    {
      "cell_type": "markdown",
      "metadata": {
        "id": "HOkQbfxvjmX5"
      },
      "source": [
        "## Apply PCA"
      ]
    },
    {
      "cell_type": "code",
      "metadata": {
        "id": "2HS3zh-tjmX5"
      },
      "source": [
        "pca = PCA()\n",
        "X_pca = pca.fit(X_std)"
      ],
      "execution_count": 115,
      "outputs": []
    },
    {
      "cell_type": "markdown",
      "metadata": {
        "id": "aqDvdD5kjmX6"
      },
      "source": [
        "## Determine the number of components"
      ]
    },
    {
      "cell_type": "code",
      "metadata": {
        "colab": {
          "base_uri": "https://localhost:8080/",
          "height": 279
        },
        "id": "YnnRa-CnjmX7",
        "outputId": "560e7601-40ba-4f6b-8b23-b4f3385e8fc4"
      },
      "source": [
        "plt.plot(np.cumsum(pca.explained_variance_ratio_))\n",
        "plt.xlabel('number of components')\n",
        "plt.ylabel('cumulative explained variance');"
      ],
      "execution_count": 116,
      "outputs": [
        {
          "output_type": "display_data",
          "data": {
            "image/png": "[encoded data removed]",
            "text/plain": [
              "<Figure size 432x288 with 1 Axes>"
            ]
          },
          "metadata": {
            "tags": [],
            "needs_background": "light"
          }
        }
      ]
    },
    {
      "cell_type": "markdown",
      "metadata": {
        "id": "oImk9ViyjmX7"
      },
      "source": [
        "## Dimensionality Reduction"
      ]
    },
    {
      "cell_type": "code",
      "metadata": {
        "id": "V2zAa9I0jmX8"
      },
      "source": [
        "num_components = 4\n",
        "pca = PCA(num_components)  \n",
        "X_pca = pca.fit_transform(X_std) # fit and reduce dimension"
      ],
      "execution_count": 117,
      "outputs": []
    },
    {
      "cell_type": "markdown",
      "metadata": {
        "id": "c_ylUHQLjmX9"
      },
      "source": [
        "## Important feature set"
      ]
    },
    {
      "cell_type": "code",
      "metadata": {
        "colab": {
          "base_uri": "https://localhost:8080/",
          "height": 203
        },
        "id": "GMf2wSdrjmX9",
        "outputId": "6c3cddc1-abcd-473e-d808-09d69a819229"
      },
      "source": [
        "pd.DataFrame(pca.components_, columns = CA_superset_data_filtered.columns)\n"
      ],
      "execution_count": 118,
      "outputs": [
        {
          "output_type": "execute_result",
          "data": {
            "text/html": [
              "<div>\n",
              "<style scoped>\n",
              "    .dataframe tbody tr th:only-of-type {\n",
              "        vertical-align: middle;\n",
              "    }\n",
              "\n",
              "    .dataframe tbody tr th {\n",
              "        vertical-align: top;\n",
              "    }\n",
              "\n",
              "    .dataframe thead th {\n",
              "        text-align: right;\n",
              "    }\n",
              "</style>\n",
              "<table border=\"1\" class=\"dataframe\">\n",
              "  <thead>\n",
              "    <tr style=\"text-align: right;\">\n",
              "      <th></th>\n",
              "      <th>Hospital.beds.1000.people</th>\n",
              "      <th>ICUs.1000.people</th>\n",
              "      <th>X..hospital.bed.utilization</th>\n",
              "      <th>Testing.capacity</th>\n",
              "      <th>Tests.done.1000.people</th>\n",
              "      <th>X..ICU.utilization</th>\n",
              "      <th>Ventilator.shortage</th>\n",
              "      <th>New cases</th>\n",
              "      <th>New.cases.1000.people</th>\n",
              "    </tr>\n",
              "  </thead>\n",
              "  <tbody>\n",
              "    <tr>\n",
              "      <th>0</th>\n",
              "      <td>0.0</td>\n",
              "      <td>0.000000e+00</td>\n",
              "      <td>0.479079</td>\n",
              "      <td>-0.207391</td>\n",
              "      <td>0.377746</td>\n",
              "      <td>0.444018</td>\n",
              "      <td>0.461535</td>\n",
              "      <td>0.184441</td>\n",
              "      <td>0.374960</td>\n",
              "    </tr>\n",
              "    <tr>\n",
              "      <th>1</th>\n",
              "      <td>0.0</td>\n",
              "      <td>3.563230e-16</td>\n",
              "      <td>0.052890</td>\n",
              "      <td>0.774421</td>\n",
              "      <td>-0.323995</td>\n",
              "      <td>0.096214</td>\n",
              "      <td>0.145019</td>\n",
              "      <td>0.488177</td>\n",
              "      <td>0.154590</td>\n",
              "    </tr>\n",
              "    <tr>\n",
              "      <th>2</th>\n",
              "      <td>-0.0</td>\n",
              "      <td>-1.591609e-16</td>\n",
              "      <td>-0.157130</td>\n",
              "      <td>-0.311298</td>\n",
              "      <td>0.235704</td>\n",
              "      <td>-0.304998</td>\n",
              "      <td>-0.328020</td>\n",
              "      <td>0.768454</td>\n",
              "      <td>0.178057</td>\n",
              "    </tr>\n",
              "    <tr>\n",
              "      <th>3</th>\n",
              "      <td>-0.0</td>\n",
              "      <td>7.264155e-18</td>\n",
              "      <td>-0.140714</td>\n",
              "      <td>-0.424283</td>\n",
              "      <td>-0.529388</td>\n",
              "      <td>0.373223</td>\n",
              "      <td>0.265006</td>\n",
              "      <td>0.327427</td>\n",
              "      <td>-0.450777</td>\n",
              "    </tr>\n",
              "  </tbody>\n",
              "</table>\n",
              "</div>"
            ],
            "text/plain": [
              "   Hospital.beds.1000.people  ...  New.cases.1000.people\n",
              "0                        0.0  ...               0.374960\n",
              "1                        0.0  ...               0.154590\n",
              "2                       -0.0  ...               0.178057\n",
              "3                       -0.0  ...              -0.450777\n",
              "\n",
              "[4 rows x 9 columns]"
            ]
          },
          "metadata": {
            "tags": []
          },
          "execution_count": 118
        }
      ]
    },
    {
      "cell_type": "code",
      "metadata": {
        "id": "bVhSZVeHjmX-"
      },
      "source": [
        "\n",
        "n_pcs= pca.n_components_ # get number of component\n",
        "# get the index of the most important feature on EACH component\n",
        "most_important = [np.abs(pca.components_[i]).argmax() for i in range(n_pcs)]\n",
        "initial_feature_names = CA_superset_data_filtered.columns\n",
        "# get the most important feature names\n",
        "most_important_names = [initial_feature_names[most_important[i]] for i in range(n_pcs)]"
      ],
      "execution_count": 119,
      "outputs": []
    },
    {
      "cell_type": "code",
      "metadata": {
        "colab": {
          "base_uri": "https://localhost:8080/"
        },
        "id": "mubgM8qxjmX_",
        "outputId": "77877615-616c-4892-a90e-9ac1af483867"
      },
      "source": [
        "most_important_names"
      ],
      "execution_count": 120,
      "outputs": [
        {
          "output_type": "execute_result",
          "data": {
            "text/plain": [
              "['X..hospital.bed.utilization',\n",
              " 'Testing.capacity',\n",
              " 'New cases',\n",
              " 'Tests.done.1000.people']"
            ]
          },
          "metadata": {
            "tags": []
          },
          "execution_count": 120
        }
      ]
    },
    {
      "cell_type": "code",
      "metadata": {
        "colab": {
          "base_uri": "https://localhost:8080/"
        },
        "id": "F-1Mi26QjmX_",
        "outputId": "905c84cd-c94a-4773-f5e6-a4dbb38e20fa"
      },
      "source": [
        "print(\" initial_feature_names : \",initial_feature_names)\n",
        "\n",
        "print(\"most_important_names: \", most_important_names)\n",
        "\n",
        "print(len(initial_feature_names) - len(most_important_names))"
      ],
      "execution_count": 121,
      "outputs": [
        {
          "output_type": "stream",
          "text": [
            " initial_feature_names :  Index(['Hospital.beds.1000.people', 'ICUs.1000.people',\n",
            "       'X..hospital.bed.utilization', 'Testing.capacity',\n",
            "       'Tests.done.1000.people', 'X..ICU.utilization', 'Ventilator.shortage',\n",
            "       'New cases', 'New.cases.1000.people'],\n",
            "      dtype='object')\n",
            "most_important_names:  ['X..hospital.bed.utilization', 'Testing.capacity', 'New cases', 'Tests.done.1000.people']\n",
            "5\n"
          ],
          "name": "stdout"
        }
      ]
    },
    {
      "cell_type": "markdown",
      "metadata": {
        "id": "SNC97BxUlGyS"
      },
      "source": [
        "# PCA: Mobility Group"
      ]
    },
    {
      "cell_type": "code",
      "metadata": {
        "colab": {
          "base_uri": "https://localhost:8080/",
          "height": 346
        },
        "id": "_nsET6omlGyh",
        "outputId": "0e884078-e720-4b15-9146-e7fda432e441"
      },
      "source": [
        "CA_superset_data_filtered = CA_superset_data[x_col_mobility]\r\n",
        "CA_superset_data_filtered.head()"
      ],
      "execution_count": 122,
      "outputs": [
        {
          "output_type": "execute_result",
          "data": {
            "text/html": [
              "<div>\n",
              "<style scoped>\n",
              "    .dataframe tbody tr th:only-of-type {\n",
              "        vertical-align: middle;\n",
              "    }\n",
              "\n",
              "    .dataframe tbody tr th {\n",
              "        vertical-align: top;\n",
              "    }\n",
              "\n",
              "    .dataframe thead th {\n",
              "        text-align: right;\n",
              "    }\n",
              "</style>\n",
              "<table border=\"1\" class=\"dataframe\">\n",
              "  <thead>\n",
              "    <tr style=\"text-align: right;\">\n",
              "      <th></th>\n",
              "      <th>retail_and_recreation_percent_change_from_baseline</th>\n",
              "      <th>grocery_and_pharmacy_percent_change_from_baseline</th>\n",
              "      <th>parks_percent_change_from_baseline</th>\n",
              "      <th>transit_stations_percent_change_from_baseline</th>\n",
              "      <th>workplaces_percent_change_from_baseline</th>\n",
              "      <th>residential_percent_change_from_baseline</th>\n",
              "      <th>X..staying.home</th>\n",
              "      <th>Trips.person</th>\n",
              "      <th>X..out.of.county.trips</th>\n",
              "      <th>X..out.of.state.trips</th>\n",
              "      <th>Miles.person</th>\n",
              "      <th>Work.trips.person</th>\n",
              "      <th>Non.work.trips.person</th>\n",
              "      <th>X..working.from.home</th>\n",
              "      <th>New cases</th>\n",
              "      <th>New.cases.1000.people</th>\n",
              "    </tr>\n",
              "    <tr>\n",
              "      <th>Date</th>\n",
              "      <th></th>\n",
              "      <th></th>\n",
              "      <th></th>\n",
              "      <th></th>\n",
              "      <th></th>\n",
              "      <th></th>\n",
              "      <th></th>\n",
              "      <th></th>\n",
              "      <th></th>\n",
              "      <th></th>\n",
              "      <th></th>\n",
              "      <th></th>\n",
              "      <th></th>\n",
              "      <th></th>\n",
              "      <th></th>\n",
              "      <th></th>\n",
              "    </tr>\n",
              "  </thead>\n",
              "  <tbody>\n",
              "    <tr>\n",
              "      <th>2020-03-01</th>\n",
              "      <td>6.0</td>\n",
              "      <td>9.0</td>\n",
              "      <td>15.0</td>\n",
              "      <td>1.0</td>\n",
              "      <td>4.0</td>\n",
              "      <td>0.0</td>\n",
              "      <td>26</td>\n",
              "      <td>2.93</td>\n",
              "      <td>25.4</td>\n",
              "      <td>0.4</td>\n",
              "      <td>36.8</td>\n",
              "      <td>0.25</td>\n",
              "      <td>2.68</td>\n",
              "      <td>5.7</td>\n",
              "      <td>0</td>\n",
              "      <td>0.0000</td>\n",
              "    </tr>\n",
              "    <tr>\n",
              "      <th>2020-03-02</th>\n",
              "      <td>4.0</td>\n",
              "      <td>7.0</td>\n",
              "      <td>7.0</td>\n",
              "      <td>-1.0</td>\n",
              "      <td>3.0</td>\n",
              "      <td>0.0</td>\n",
              "      <td>20</td>\n",
              "      <td>3.38</td>\n",
              "      <td>28.2</td>\n",
              "      <td>0.4</td>\n",
              "      <td>38.1</td>\n",
              "      <td>0.63</td>\n",
              "      <td>2.74</td>\n",
              "      <td>5.7</td>\n",
              "      <td>0</td>\n",
              "      <td>0.0000</td>\n",
              "    </tr>\n",
              "    <tr>\n",
              "      <th>2020-03-03</th>\n",
              "      <td>5.0</td>\n",
              "      <td>12.0</td>\n",
              "      <td>41.0</td>\n",
              "      <td>0.0</td>\n",
              "      <td>1.0</td>\n",
              "      <td>-1.0</td>\n",
              "      <td>18</td>\n",
              "      <td>3.61</td>\n",
              "      <td>27.1</td>\n",
              "      <td>0.3</td>\n",
              "      <td>32.7</td>\n",
              "      <td>0.67</td>\n",
              "      <td>2.94</td>\n",
              "      <td>5.7</td>\n",
              "      <td>1</td>\n",
              "      <td>0.0002</td>\n",
              "    </tr>\n",
              "    <tr>\n",
              "      <th>2020-03-04</th>\n",
              "      <td>1.0</td>\n",
              "      <td>6.0</td>\n",
              "      <td>23.0</td>\n",
              "      <td>-3.0</td>\n",
              "      <td>1.0</td>\n",
              "      <td>0.0</td>\n",
              "      <td>18</td>\n",
              "      <td>3.55</td>\n",
              "      <td>27.9</td>\n",
              "      <td>0.3</td>\n",
              "      <td>36.9</td>\n",
              "      <td>0.68</td>\n",
              "      <td>2.87</td>\n",
              "      <td>5.7</td>\n",
              "      <td>0</td>\n",
              "      <td>0.0002</td>\n",
              "    </tr>\n",
              "    <tr>\n",
              "      <th>2020-03-05</th>\n",
              "      <td>1.0</td>\n",
              "      <td>6.0</td>\n",
              "      <td>12.0</td>\n",
              "      <td>-5.0</td>\n",
              "      <td>-1.0</td>\n",
              "      <td>1.0</td>\n",
              "      <td>19</td>\n",
              "      <td>3.54</td>\n",
              "      <td>28.1</td>\n",
              "      <td>0.3</td>\n",
              "      <td>36.8</td>\n",
              "      <td>0.66</td>\n",
              "      <td>2.88</td>\n",
              "      <td>5.7</td>\n",
              "      <td>0</td>\n",
              "      <td>0.0002</td>\n",
              "    </tr>\n",
              "  </tbody>\n",
              "</table>\n",
              "</div>"
            ],
            "text/plain": [
              "            retail_and_recreation_percent_change_from_baseline  ...  New.cases.1000.people\n",
              "Date                                                            ...                       \n",
              "2020-03-01                                                6.0   ...                 0.0000\n",
              "2020-03-02                                                4.0   ...                 0.0000\n",
              "2020-03-03                                                5.0   ...                 0.0002\n",
              "2020-03-04                                                1.0   ...                 0.0002\n",
              "2020-03-05                                                1.0   ...                 0.0002\n",
              "\n",
              "[5 rows x 16 columns]"
            ]
          },
          "metadata": {
            "tags": []
          },
          "execution_count": 122
        }
      ]
    },
    {
      "cell_type": "code",
      "metadata": {
        "colab": {
          "base_uri": "https://localhost:8080/"
        },
        "id": "XdryGiV6lGyk",
        "outputId": "1116af44-402a-4763-c8fe-cc9fb528fac9"
      },
      "source": [
        "print(CA_superset_data_filtered.shape)\r\n",
        "CA_superset_data_filtered = CA_superset_data_filtered.dropna()\r\n",
        "print(CA_superset_data_filtered.shape)"
      ],
      "execution_count": 123,
      "outputs": [
        {
          "output_type": "stream",
          "text": [
            "(15391, 16)\n",
            "(10179, 16)\n"
          ],
          "name": "stdout"
        }
      ]
    },
    {
      "cell_type": "markdown",
      "metadata": {
        "id": "0fe8k0HLlGym"
      },
      "source": [
        "## Correlation Plot"
      ]
    },
    {
      "cell_type": "code",
      "metadata": {
        "colab": {
          "base_uri": "https://localhost:8080/",
          "height": 858
        },
        "id": "7xkN_Ht-lGyn",
        "outputId": "6869968e-65e9-4ad5-bee2-e2defaa57d93"
      },
      "source": [
        "\n",
        "corr = CA_superset_data_filtered.corr()\n",
        "g = sns.heatmap(corr, vmax=.9, center=0,\n",
        "               square=True, linewidths=1.5, cbar_kws={\"shrink\": .8}, annot=True, fmt='.2f', cmap='coolwarm')\n",
        "bottom, top = g.get_ylim()\n",
        "g.set_ylim(bottom + 0.5, top - 0.5)\n",
        "sns.despine()\n",
        "g.figure.set_size_inches(16, 10)"
      ],
      "execution_count": 124,
      "outputs": [
        {
          "output_type": "display_data",
          "data": {
            "image/png": "[encoded data removed]",
            "text/plain": [
              "<Figure size 1152x720 with 2 Axes>"
            ]
          },
          "metadata": {
            "tags": [],
            "needs_background": "light"
          }
        }
      ]
    },
    {
      "cell_type": "markdown",
      "metadata": {
        "id": "vj3pCxDqlGyn"
      },
      "source": [
        "## Standardizing the data"
      ]
    },
    {
      "cell_type": "code",
      "metadata": {
        "id": "34aGNDxmlGyo"
      },
      "source": [
        "X = CA_superset_data_filtered.values # getting all values as a matrix of dataframe \n",
        "sc = StandardScaler() # creating a StandardScaler object\n",
        "X_std = sc.fit_transform(X) # standardizing the data"
      ],
      "execution_count": 125,
      "outputs": []
    },
    {
      "cell_type": "markdown",
      "metadata": {
        "id": "y8UjxYOslGyo"
      },
      "source": [
        "## Apply PCA"
      ]
    },
    {
      "cell_type": "code",
      "metadata": {
        "id": "y_AihN5mlGyp"
      },
      "source": [
        "pca = PCA()\n",
        "X_pca = pca.fit(X_std)"
      ],
      "execution_count": 126,
      "outputs": []
    },
    {
      "cell_type": "markdown",
      "metadata": {
        "id": "WVfqW6c3lGyp"
      },
      "source": [
        "## Determine the number of components"
      ]
    },
    {
      "cell_type": "code",
      "metadata": {
        "colab": {
          "base_uri": "https://localhost:8080/",
          "height": 279
        },
        "id": "LRbAeY8blGyp",
        "outputId": "e8719130-c848-4aa7-fff5-5f9f72e06f0e"
      },
      "source": [
        "plt.plot(np.cumsum(pca.explained_variance_ratio_))\n",
        "plt.xlabel('number of components')\n",
        "plt.ylabel('cumulative explained variance');"
      ],
      "execution_count": 127,
      "outputs": [
        {
          "output_type": "display_data",
          "data": {
            "image/png": "[encoded data removed]",
            "text/plain": [
              "<Figure size 432x288 with 1 Axes>"
            ]
          },
          "metadata": {
            "tags": [],
            "needs_background": "light"
          }
        }
      ]
    },
    {
      "cell_type": "markdown",
      "metadata": {
        "id": "8Klhc2MJlGyq"
      },
      "source": [
        "## Dimensionality Reduction"
      ]
    },
    {
      "cell_type": "code",
      "metadata": {
        "id": "BV4ddzU-lGyq"
      },
      "source": [
        "num_components = 6\n",
        "pca = PCA(num_components)  \n",
        "X_pca = pca.fit_transform(X_std) # fit and reduce dimension"
      ],
      "execution_count": 128,
      "outputs": []
    },
    {
      "cell_type": "markdown",
      "metadata": {
        "id": "Cabu5faGlGyr"
      },
      "source": [
        "## Important feature set"
      ]
    },
    {
      "cell_type": "code",
      "metadata": {
        "colab": {
          "base_uri": "https://localhost:8080/",
          "height": 263
        },
        "id": "d4UtkbJdlGyr",
        "outputId": "73ac7178-6f7e-41ac-b0b0-fb618a70637d"
      },
      "source": [
        "pd.DataFrame(pca.components_, columns = CA_superset_data_filtered.columns)\n"
      ],
      "execution_count": 129,
      "outputs": [
        {
          "output_type": "execute_result",
          "data": {
            "text/html": [
              "<div>\n",
              "<style scoped>\n",
              "    .dataframe tbody tr th:only-of-type {\n",
              "        vertical-align: middle;\n",
              "    }\n",
              "\n",
              "    .dataframe tbody tr th {\n",
              "        vertical-align: top;\n",
              "    }\n",
              "\n",
              "    .dataframe thead th {\n",
              "        text-align: right;\n",
              "    }\n",
              "</style>\n",
              "<table border=\"1\" class=\"dataframe\">\n",
              "  <thead>\n",
              "    <tr style=\"text-align: right;\">\n",
              "      <th></th>\n",
              "      <th>retail_and_recreation_percent_change_from_baseline</th>\n",
              "      <th>grocery_and_pharmacy_percent_change_from_baseline</th>\n",
              "      <th>parks_percent_change_from_baseline</th>\n",
              "      <th>transit_stations_percent_change_from_baseline</th>\n",
              "      <th>workplaces_percent_change_from_baseline</th>\n",
              "      <th>residential_percent_change_from_baseline</th>\n",
              "      <th>X..staying.home</th>\n",
              "      <th>Trips.person</th>\n",
              "      <th>X..out.of.county.trips</th>\n",
              "      <th>X..out.of.state.trips</th>\n",
              "      <th>Miles.person</th>\n",
              "      <th>Work.trips.person</th>\n",
              "      <th>Non.work.trips.person</th>\n",
              "      <th>X..working.from.home</th>\n",
              "      <th>New cases</th>\n",
              "      <th>New.cases.1000.people</th>\n",
              "    </tr>\n",
              "  </thead>\n",
              "  <tbody>\n",
              "    <tr>\n",
              "      <th>0</th>\n",
              "      <td>-0.355174</td>\n",
              "      <td>-0.305326</td>\n",
              "      <td>-0.176748</td>\n",
              "      <td>-0.297669</td>\n",
              "      <td>-0.294247</td>\n",
              "      <td>0.337365</td>\n",
              "      <td>0.357582</td>\n",
              "      <td>-0.343634</td>\n",
              "      <td>-0.011772</td>\n",
              "      <td>-0.063353</td>\n",
              "      <td>-0.260710</td>\n",
              "      <td>-0.144027</td>\n",
              "      <td>-0.334380</td>\n",
              "      <td>0.090756</td>\n",
              "      <td>0.022433</td>\n",
              "      <td>-0.031920</td>\n",
              "    </tr>\n",
              "    <tr>\n",
              "      <th>1</th>\n",
              "      <td>-0.064540</td>\n",
              "      <td>-0.115365</td>\n",
              "      <td>0.133581</td>\n",
              "      <td>0.021098</td>\n",
              "      <td>-0.071780</td>\n",
              "      <td>-0.022071</td>\n",
              "      <td>-0.002618</td>\n",
              "      <td>-0.022963</td>\n",
              "      <td>0.245324</td>\n",
              "      <td>0.245651</td>\n",
              "      <td>0.358346</td>\n",
              "      <td>-0.410399</td>\n",
              "      <td>0.110501</td>\n",
              "      <td>0.538788</td>\n",
              "      <td>0.242771</td>\n",
              "      <td>0.423384</td>\n",
              "    </tr>\n",
              "    <tr>\n",
              "      <th>2</th>\n",
              "      <td>0.010465</td>\n",
              "      <td>-0.103520</td>\n",
              "      <td>-0.387098</td>\n",
              "      <td>-0.148817</td>\n",
              "      <td>-0.137783</td>\n",
              "      <td>0.110212</td>\n",
              "      <td>-0.159362</td>\n",
              "      <td>0.208966</td>\n",
              "      <td>-0.384772</td>\n",
              "      <td>-0.258577</td>\n",
              "      <td>0.069784</td>\n",
              "      <td>0.318246</td>\n",
              "      <td>0.126944</td>\n",
              "      <td>0.000277</td>\n",
              "      <td>0.438273</td>\n",
              "      <td>0.433277</td>\n",
              "    </tr>\n",
              "    <tr>\n",
              "      <th>3</th>\n",
              "      <td>0.057771</td>\n",
              "      <td>-0.023104</td>\n",
              "      <td>-0.189322</td>\n",
              "      <td>0.057132</td>\n",
              "      <td>0.514882</td>\n",
              "      <td>-0.390780</td>\n",
              "      <td>0.209564</td>\n",
              "      <td>-0.260429</td>\n",
              "      <td>-0.260028</td>\n",
              "      <td>0.032023</td>\n",
              "      <td>-0.099159</td>\n",
              "      <td>-0.387767</td>\n",
              "      <td>-0.161155</td>\n",
              "      <td>-0.251040</td>\n",
              "      <td>0.298042</td>\n",
              "      <td>0.144260</td>\n",
              "    </tr>\n",
              "    <tr>\n",
              "      <th>4</th>\n",
              "      <td>0.066013</td>\n",
              "      <td>-0.068600</td>\n",
              "      <td>-0.251548</td>\n",
              "      <td>0.063793</td>\n",
              "      <td>-0.044750</td>\n",
              "      <td>0.120915</td>\n",
              "      <td>-0.017682</td>\n",
              "      <td>-0.073477</td>\n",
              "      <td>0.454478</td>\n",
              "      <td>0.553962</td>\n",
              "      <td>0.105561</td>\n",
              "      <td>0.264244</td>\n",
              "      <td>-0.169273</td>\n",
              "      <td>-0.466987</td>\n",
              "      <td>0.122024</td>\n",
              "      <td>0.212706</td>\n",
              "    </tr>\n",
              "    <tr>\n",
              "      <th>5</th>\n",
              "      <td>0.159234</td>\n",
              "      <td>0.387002</td>\n",
              "      <td>0.557021</td>\n",
              "      <td>0.094070</td>\n",
              "      <td>-0.179859</td>\n",
              "      <td>0.079607</td>\n",
              "      <td>0.054131</td>\n",
              "      <td>-0.170328</td>\n",
              "      <td>-0.018323</td>\n",
              "      <td>-0.011110</td>\n",
              "      <td>-0.293179</td>\n",
              "      <td>0.171699</td>\n",
              "      <td>-0.246277</td>\n",
              "      <td>0.010760</td>\n",
              "      <td>0.495923</td>\n",
              "      <td>0.111904</td>\n",
              "    </tr>\n",
              "  </tbody>\n",
              "</table>\n",
              "</div>"
            ],
            "text/plain": [
              "   retail_and_recreation_percent_change_from_baseline  ...  New.cases.1000.people\n",
              "0                                          -0.355174   ...              -0.031920\n",
              "1                                          -0.064540   ...               0.423384\n",
              "2                                           0.010465   ...               0.433277\n",
              "3                                           0.057771   ...               0.144260\n",
              "4                                           0.066013   ...               0.212706\n",
              "5                                           0.159234   ...               0.111904\n",
              "\n",
              "[6 rows x 16 columns]"
            ]
          },
          "metadata": {
            "tags": []
          },
          "execution_count": 129
        }
      ]
    },
    {
      "cell_type": "code",
      "metadata": {
        "id": "o0t8JykZlGyr"
      },
      "source": [
        "\n",
        "n_pcs= pca.n_components_ # get number of component\n",
        "# get the index of the most important feature on EACH component\n",
        "most_important = [np.abs(pca.components_[i]).argmax() for i in range(n_pcs)]\n",
        "initial_feature_names = CA_superset_data_filtered.columns\n",
        "# get the most important feature names\n",
        "most_important_names = [initial_feature_names[most_important[i]] for i in range(n_pcs)]"
      ],
      "execution_count": 130,
      "outputs": []
    },
    {
      "cell_type": "code",
      "metadata": {
        "colab": {
          "base_uri": "https://localhost:8080/"
        },
        "id": "0bCPyltulGys",
        "outputId": "70a17f01-115d-495c-efae-5312af9e5dfd"
      },
      "source": [
        "most_important_names"
      ],
      "execution_count": 131,
      "outputs": [
        {
          "output_type": "execute_result",
          "data": {
            "text/plain": [
              "['X..staying.home',\n",
              " 'X..working.from.home',\n",
              " 'New cases',\n",
              " 'workplaces_percent_change_from_baseline',\n",
              " 'X..out.of.state.trips',\n",
              " 'parks_percent_change_from_baseline']"
            ]
          },
          "metadata": {
            "tags": []
          },
          "execution_count": 131
        }
      ]
    },
    {
      "cell_type": "code",
      "metadata": {
        "colab": {
          "base_uri": "https://localhost:8080/"
        },
        "id": "EBETBzpFlGys",
        "outputId": "631ec989-22d2-467d-b169-38ca102d9b2d"
      },
      "source": [
        "print(\" initial_feature_names : \",initial_feature_names)\n",
        "\n",
        "print(\"most_important_names: \", most_important_names)\n",
        "\n",
        "print(len(initial_feature_names) - len(most_important_names))"
      ],
      "execution_count": 132,
      "outputs": [
        {
          "output_type": "stream",
          "text": [
            " initial_feature_names :  Index(['retail_and_recreation_percent_change_from_baseline',\n",
            "       'grocery_and_pharmacy_percent_change_from_baseline',\n",
            "       'parks_percent_change_from_baseline',\n",
            "       'transit_stations_percent_change_from_baseline',\n",
            "       'workplaces_percent_change_from_baseline',\n",
            "       'residential_percent_change_from_baseline', 'X..staying.home',\n",
            "       'Trips.person', 'X..out.of.county.trips', 'X..out.of.state.trips',\n",
            "       'Miles.person', 'Work.trips.person', 'Non.work.trips.person',\n",
            "       'X..working.from.home', 'New cases', 'New.cases.1000.people'],\n",
            "      dtype='object')\n",
            "most_important_names:  ['X..staying.home', 'X..working.from.home', 'New cases', 'workplaces_percent_change_from_baseline', 'X..out.of.state.trips', 'parks_percent_change_from_baseline']\n",
            "10\n"
          ],
          "name": "stdout"
        }
      ]
    },
    {
      "cell_type": "markdown",
      "metadata": {
        "id": "yasMfMYqTyd6"
      },
      "source": [
        "# Conclusion for superset dataset analysis:\n",
        "\n",
        "From the above PCA analysis, we can drop the following columns from Time-series forecasting\n",
        "\n",
        "1. Demographic Group:\n",
        ">* 'X..people.older.than.60', \n",
        ">* 'Median.income', \n",
        ">* 'X..Male', \n",
        ">* 'New cases', \n",
        ">* 'FIPS', \n",
        ">* 'X..African.Americans', \n",
        ">* 'PopDensity'\n",
        "\n",
        "2. Hospitalization and testing Group:\n",
        ">* 'X..hospital.bed.utilization', \n",
        ">* 'Testing.capacity'\n",
        "\n",
        "3. Mobility Group:\n",
        ">* 'X..staying.home',\n",
        ">* 'X..working.from.home', \n",
        ">* 'New cases', \n",
        ">* 'workplaces_percent_change_from_baseline',\n",
        ">* 'X..out.of.state.trips', \n",
        ">*  'parks_percent_change_from_baseline'"
      ]
    },
    {
      "cell_type": "markdown",
      "metadata": {
        "id": "hZkWpuyDZhks"
      },
      "source": [
        "# Reference\n",
        "\n",
        "* https://medium.com/@ansjin/dimensionality-reduction-using-pca-on-multivariate-timeseries-data-b5cc07238dc4"
      ]
    }
  ]
}