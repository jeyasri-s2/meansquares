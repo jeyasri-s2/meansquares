{
  "nbformat": 4,
  "nbformat_minor": 0,
  "metadata": {
    "colab": {
      "name": "CA_Features_Visualization.ipynb",
      "provenance": [],
      "toc_visible": true,
      "machine_shape": "hm",
      "include_colab_link": true
    },
    "kernelspec": {
      "name": "python3",
      "display_name": "Python 3"
    },
    "accelerator": "GPU"
  },
  "cells": [
    {
      "cell_type": "markdown",
      "metadata": {
        "id": "view-in-github",
        "colab_type": "text"
      },
      "source": [
        "<a href=\"https://colab.research.google.com/github/aarsanjani/meansquares/blob/master/version2/feature_engineering/CA_Features_Visualization.ipynb\" target=\"_parent\"><img src=\"https://colab.research.google.com/assets/colab-badge.svg\" alt=\"Open In Colab\"/></a>"
      ]
    },
    {
      "cell_type": "markdown",
      "metadata": {
        "id": "l346AV8oZPe-"
      },
      "source": [
        "# Goal:\n",
        "\n",
        "This colab is used to do diffirent visualizations of the features of CA Combined and Maryland Data\n",
        "\n"
      ]
    },
    {
      "cell_type": "markdown",
      "metadata": {
        "id": "thBIWXyoZh3U"
      },
      "source": [
        "## Mount Google drive"
      ]
    },
    {
      "cell_type": "code",
      "metadata": {
        "id": "3N0GpmS9ZJFo",
        "colab": {
          "base_uri": "https://localhost:8080/"
        },
        "outputId": "0ee4345d-a6c8-458c-f221-a6792a292328"
      },
      "source": [
        "from google.colab import drive\n",
        "drive.mount('/content/drive')"
      ],
      "execution_count": 1,
      "outputs": [
        {
          "output_type": "stream",
          "text": [
            "Mounted at /content/drive\n"
          ],
          "name": "stdout"
        }
      ]
    },
    {
      "cell_type": "code",
      "metadata": {
        "id": "ogU_R9SvZjuR"
      },
      "source": [
        "import pandas as pd\n",
        "import seaborn as sns\n",
        "from sklearn import preprocessing\n",
        "from sklearn.model_selection import train_test_split\n",
        "\n",
        "from sklearn.preprocessing import LabelEncoder\n",
        "from sklearn.preprocessing import StandardScaler as ss\n",
        "import itertools\n",
        "from scipy import linalg\n",
        "from sklearn.ensemble import RandomForestClassifier\n",
        "from sklearn.tree import export_graphviz\n",
        "import numpy as np\n",
        "import matplotlib.pyplot as plt"
      ],
      "execution_count": 3,
      "outputs": []
    },
    {
      "cell_type": "markdown",
      "metadata": {
        "id": "mjW80L8CZzrv"
      },
      "source": [
        "# 1.Load data - Combined CA Data"
      ]
    },
    {
      "cell_type": "markdown",
      "metadata": {
        "id": "mJHpQM981jNa"
      },
      "source": [
        "## 1.1Preprocessed Data"
      ]
    },
    {
      "cell_type": "code",
      "metadata": {
        "id": "HzV2n_7iZwr9",
        "colab": {
          "base_uri": "https://localhost:8080/",
          "height": 316
        },
        "outputId": "7dca7a0d-a464-4605-f32d-4e13637c7d92"
      },
      "source": [
        "CA_combined_data = pd.read_csv('/content/drive/Shared drives/CMPE 295- Master Project/projectdata-2021/CA_alldatasets_Jan13.csv',low_memory=False)\n",
        "CA_combined_data.head()"
      ],
      "execution_count": 4,
      "outputs": [
        {
          "output_type": "execute_result",
          "data": {
            "text/html": [
              "<div>\n",
              "<style scoped>\n",
              "    .dataframe tbody tr th:only-of-type {\n",
              "        vertical-align: middle;\n",
              "    }\n",
              "\n",
              "    .dataframe tbody tr th {\n",
              "        vertical-align: top;\n",
              "    }\n",
              "\n",
              "    .dataframe thead th {\n",
              "        text-align: right;\n",
              "    }\n",
              "</style>\n",
              "<table border=\"1\" class=\"dataframe\">\n",
              "  <thead>\n",
              "    <tr style=\"text-align: right;\">\n",
              "      <th></th>\n",
              "      <th>Date</th>\n",
              "      <th>Province_State</th>\n",
              "      <th>FIPS</th>\n",
              "      <th>New cases</th>\n",
              "      <th>County Name</th>\n",
              "      <th>population</th>\n",
              "      <th>mask_rule_active</th>\n",
              "      <th>m50</th>\n",
              "      <th>m50_index</th>\n",
              "      <th>retail_and_recreation_percent_change_from_baseline</th>\n",
              "      <th>grocery_and_pharmacy_percent_change_from_baseline</th>\n",
              "      <th>parks_percent_change_from_baseline</th>\n",
              "      <th>transit_stations_percent_change_from_baseline</th>\n",
              "      <th>workplaces_percent_change_from_baseline</th>\n",
              "      <th>residential_percent_change_from_baseline</th>\n",
              "    </tr>\n",
              "  </thead>\n",
              "  <tbody>\n",
              "    <tr>\n",
              "      <th>0</th>\n",
              "      <td>2020-03-01</td>\n",
              "      <td>California</td>\n",
              "      <td>6001</td>\n",
              "      <td>0</td>\n",
              "      <td>Alameda County</td>\n",
              "      <td>1671329</td>\n",
              "      <td>0</td>\n",
              "      <td>3.684</td>\n",
              "      <td>58</td>\n",
              "      <td>6.0</td>\n",
              "      <td>9.0</td>\n",
              "      <td>15.0</td>\n",
              "      <td>1.0</td>\n",
              "      <td>4.0</td>\n",
              "      <td>0.0</td>\n",
              "    </tr>\n",
              "    <tr>\n",
              "      <th>1</th>\n",
              "      <td>2020-03-02</td>\n",
              "      <td>California</td>\n",
              "      <td>6001</td>\n",
              "      <td>0</td>\n",
              "      <td>Alameda County</td>\n",
              "      <td>1671329</td>\n",
              "      <td>0</td>\n",
              "      <td>6.182</td>\n",
              "      <td>98</td>\n",
              "      <td>4.0</td>\n",
              "      <td>7.0</td>\n",
              "      <td>7.0</td>\n",
              "      <td>-1.0</td>\n",
              "      <td>3.0</td>\n",
              "      <td>0.0</td>\n",
              "    </tr>\n",
              "    <tr>\n",
              "      <th>2</th>\n",
              "      <td>2020-03-03</td>\n",
              "      <td>California</td>\n",
              "      <td>6001</td>\n",
              "      <td>1</td>\n",
              "      <td>Alameda County</td>\n",
              "      <td>1671329</td>\n",
              "      <td>0</td>\n",
              "      <td>6.271</td>\n",
              "      <td>100</td>\n",
              "      <td>5.0</td>\n",
              "      <td>12.0</td>\n",
              "      <td>41.0</td>\n",
              "      <td>0.0</td>\n",
              "      <td>1.0</td>\n",
              "      <td>-1.0</td>\n",
              "    </tr>\n",
              "    <tr>\n",
              "      <th>3</th>\n",
              "      <td>2020-03-04</td>\n",
              "      <td>California</td>\n",
              "      <td>6001</td>\n",
              "      <td>0</td>\n",
              "      <td>Alameda County</td>\n",
              "      <td>1671329</td>\n",
              "      <td>0</td>\n",
              "      <td>6.209</td>\n",
              "      <td>99</td>\n",
              "      <td>1.0</td>\n",
              "      <td>6.0</td>\n",
              "      <td>23.0</td>\n",
              "      <td>-3.0</td>\n",
              "      <td>1.0</td>\n",
              "      <td>0.0</td>\n",
              "    </tr>\n",
              "    <tr>\n",
              "      <th>4</th>\n",
              "      <td>2020-03-05</td>\n",
              "      <td>California</td>\n",
              "      <td>6001</td>\n",
              "      <td>0</td>\n",
              "      <td>Alameda County</td>\n",
              "      <td>1671329</td>\n",
              "      <td>0</td>\n",
              "      <td>6.654</td>\n",
              "      <td>106</td>\n",
              "      <td>1.0</td>\n",
              "      <td>6.0</td>\n",
              "      <td>12.0</td>\n",
              "      <td>-5.0</td>\n",
              "      <td>-1.0</td>\n",
              "      <td>1.0</td>\n",
              "    </tr>\n",
              "  </tbody>\n",
              "</table>\n",
              "</div>"
            ],
            "text/plain": [
              "         Date  ... residential_percent_change_from_baseline\n",
              "0  2020-03-01  ...                                      0.0\n",
              "1  2020-03-02  ...                                      0.0\n",
              "2  2020-03-03  ...                                     -1.0\n",
              "3  2020-03-04  ...                                      0.0\n",
              "4  2020-03-05  ...                                      1.0\n",
              "\n",
              "[5 rows x 15 columns]"
            ]
          },
          "metadata": {
            "tags": []
          },
          "execution_count": 4
        }
      ]
    },
    {
      "cell_type": "code",
      "metadata": {
        "id": "rphAMDm_aBqd",
        "colab": {
          "base_uri": "https://localhost:8080/"
        },
        "outputId": "406c4c11-3891-4a7f-8496-28c9b5098385"
      },
      "source": [
        "CA_combined_data.dtypes"
      ],
      "execution_count": 5,
      "outputs": [
        {
          "output_type": "execute_result",
          "data": {
            "text/plain": [
              "Date                                                   object\n",
              "Province_State                                         object\n",
              "FIPS                                                    int64\n",
              "New cases                                               int64\n",
              "County Name                                            object\n",
              "population                                              int64\n",
              "mask_rule_active                                        int64\n",
              "m50                                                   float64\n",
              "m50_index                                               int64\n",
              "retail_and_recreation_percent_change_from_baseline    float64\n",
              "grocery_and_pharmacy_percent_change_from_baseline     float64\n",
              "parks_percent_change_from_baseline                    float64\n",
              "transit_stations_percent_change_from_baseline         float64\n",
              "workplaces_percent_change_from_baseline               float64\n",
              "residential_percent_change_from_baseline              float64\n",
              "dtype: object"
            ]
          },
          "metadata": {
            "tags": []
          },
          "execution_count": 5
        }
      ]
    },
    {
      "cell_type": "markdown",
      "metadata": {
        "id": "9UWOMGmA1sJk"
      },
      "source": [
        "## 1.2Labeled  Data"
      ]
    },
    {
      "cell_type": "code",
      "metadata": {
        "colab": {
          "base_uri": "https://localhost:8080/",
          "height": 333
        },
        "id": "B_77Pp1K1sJt",
        "outputId": "a1cc5afe-7ea2-44fc-91f0-93b2bde38e93"
      },
      "source": [
        "CA_labeled_data = pd.read_csv('/content/drive/Shared drives/CMPE 295- Master Project/projectdata-2021/CA_CombinedData_Labeled_CDCGuideline_Jan15.csv',low_memory=False)\n",
        "CA_labeled_data.head()"
      ],
      "execution_count": 6,
      "outputs": [
        {
          "output_type": "execute_result",
          "data": {
            "text/html": [
              "<div>\n",
              "<style scoped>\n",
              "    .dataframe tbody tr th:only-of-type {\n",
              "        vertical-align: middle;\n",
              "    }\n",
              "\n",
              "    .dataframe tbody tr th {\n",
              "        vertical-align: top;\n",
              "    }\n",
              "\n",
              "    .dataframe thead th {\n",
              "        text-align: right;\n",
              "    }\n",
              "</style>\n",
              "<table border=\"1\" class=\"dataframe\">\n",
              "  <thead>\n",
              "    <tr style=\"text-align: right;\">\n",
              "      <th></th>\n",
              "      <th>Date</th>\n",
              "      <th>Province_State</th>\n",
              "      <th>FIPS</th>\n",
              "      <th>County Name</th>\n",
              "      <th>population</th>\n",
              "      <th>mask_rule_active</th>\n",
              "      <th>m50</th>\n",
              "      <th>m50_index</th>\n",
              "      <th>retail_and_recreation_percent_change_from_baseline</th>\n",
              "      <th>grocery_and_pharmacy_percent_change_from_baseline</th>\n",
              "      <th>parks_percent_change_from_baseline</th>\n",
              "      <th>transit_stations_percent_change_from_baseline</th>\n",
              "      <th>workplaces_percent_change_from_baseline</th>\n",
              "      <th>residential_percent_change_from_baseline</th>\n",
              "      <th>New Cases/100k population</th>\n",
              "      <th>rolling_avg_new_cases/100k</th>\n",
              "      <th>New cases</th>\n",
              "      <th>growth_label</th>\n",
              "    </tr>\n",
              "  </thead>\n",
              "  <tbody>\n",
              "    <tr>\n",
              "      <th>0</th>\n",
              "      <td>2020-03-01</td>\n",
              "      <td>California</td>\n",
              "      <td>6001</td>\n",
              "      <td>Alameda County</td>\n",
              "      <td>1671329</td>\n",
              "      <td>0</td>\n",
              "      <td>3.684</td>\n",
              "      <td>58</td>\n",
              "      <td>6.0</td>\n",
              "      <td>9.0</td>\n",
              "      <td>15.0</td>\n",
              "      <td>1.0</td>\n",
              "      <td>4.0</td>\n",
              "      <td>0.0</td>\n",
              "      <td>0.000000</td>\n",
              "      <td>0.0</td>\n",
              "      <td>0.0</td>\n",
              "      <td>minimal</td>\n",
              "    </tr>\n",
              "    <tr>\n",
              "      <th>1</th>\n",
              "      <td>2020-03-02</td>\n",
              "      <td>California</td>\n",
              "      <td>6001</td>\n",
              "      <td>Alameda County</td>\n",
              "      <td>1671329</td>\n",
              "      <td>0</td>\n",
              "      <td>6.182</td>\n",
              "      <td>98</td>\n",
              "      <td>4.0</td>\n",
              "      <td>7.0</td>\n",
              "      <td>7.0</td>\n",
              "      <td>-1.0</td>\n",
              "      <td>3.0</td>\n",
              "      <td>0.0</td>\n",
              "      <td>0.000000</td>\n",
              "      <td>0.0</td>\n",
              "      <td>0.0</td>\n",
              "      <td>minimal</td>\n",
              "    </tr>\n",
              "    <tr>\n",
              "      <th>2</th>\n",
              "      <td>2020-03-03</td>\n",
              "      <td>California</td>\n",
              "      <td>6001</td>\n",
              "      <td>Alameda County</td>\n",
              "      <td>1671329</td>\n",
              "      <td>0</td>\n",
              "      <td>6.271</td>\n",
              "      <td>100</td>\n",
              "      <td>5.0</td>\n",
              "      <td>12.0</td>\n",
              "      <td>41.0</td>\n",
              "      <td>0.0</td>\n",
              "      <td>1.0</td>\n",
              "      <td>-1.0</td>\n",
              "      <td>0.059833</td>\n",
              "      <td>0.0</td>\n",
              "      <td>1.0</td>\n",
              "      <td>minimal</td>\n",
              "    </tr>\n",
              "    <tr>\n",
              "      <th>3</th>\n",
              "      <td>2020-03-04</td>\n",
              "      <td>California</td>\n",
              "      <td>6001</td>\n",
              "      <td>Alameda County</td>\n",
              "      <td>1671329</td>\n",
              "      <td>0</td>\n",
              "      <td>6.209</td>\n",
              "      <td>99</td>\n",
              "      <td>1.0</td>\n",
              "      <td>6.0</td>\n",
              "      <td>23.0</td>\n",
              "      <td>-3.0</td>\n",
              "      <td>1.0</td>\n",
              "      <td>0.0</td>\n",
              "      <td>0.000000</td>\n",
              "      <td>0.0</td>\n",
              "      <td>0.0</td>\n",
              "      <td>minimal</td>\n",
              "    </tr>\n",
              "    <tr>\n",
              "      <th>4</th>\n",
              "      <td>2020-03-05</td>\n",
              "      <td>California</td>\n",
              "      <td>6001</td>\n",
              "      <td>Alameda County</td>\n",
              "      <td>1671329</td>\n",
              "      <td>0</td>\n",
              "      <td>6.654</td>\n",
              "      <td>106</td>\n",
              "      <td>1.0</td>\n",
              "      <td>6.0</td>\n",
              "      <td>12.0</td>\n",
              "      <td>-5.0</td>\n",
              "      <td>-1.0</td>\n",
              "      <td>1.0</td>\n",
              "      <td>0.000000</td>\n",
              "      <td>0.0</td>\n",
              "      <td>0.0</td>\n",
              "      <td>minimal</td>\n",
              "    </tr>\n",
              "  </tbody>\n",
              "</table>\n",
              "</div>"
            ],
            "text/plain": [
              "         Date Province_State  ...  New cases growth_label\n",
              "0  2020-03-01     California  ...        0.0      minimal\n",
              "1  2020-03-02     California  ...        0.0      minimal\n",
              "2  2020-03-03     California  ...        1.0      minimal\n",
              "3  2020-03-04     California  ...        0.0      minimal\n",
              "4  2020-03-05     California  ...        0.0      minimal\n",
              "\n",
              "[5 rows x 18 columns]"
            ]
          },
          "metadata": {
            "tags": []
          },
          "execution_count": 6
        }
      ]
    },
    {
      "cell_type": "code",
      "metadata": {
        "colab": {
          "base_uri": "https://localhost:8080/"
        },
        "id": "CtGNAnZA1sJu",
        "outputId": "1a696a02-659d-4730-a0db-d36017f184b9"
      },
      "source": [
        "CA_labeled_data.dtypes"
      ],
      "execution_count": 7,
      "outputs": [
        {
          "output_type": "execute_result",
          "data": {
            "text/plain": [
              "Date                                                   object\n",
              "Province_State                                         object\n",
              "FIPS                                                    int64\n",
              "County Name                                            object\n",
              "population                                              int64\n",
              "mask_rule_active                                        int64\n",
              "m50                                                   float64\n",
              "m50_index                                               int64\n",
              "retail_and_recreation_percent_change_from_baseline    float64\n",
              "grocery_and_pharmacy_percent_change_from_baseline     float64\n",
              "parks_percent_change_from_baseline                    float64\n",
              "transit_stations_percent_change_from_baseline         float64\n",
              "workplaces_percent_change_from_baseline               float64\n",
              "residential_percent_change_from_baseline              float64\n",
              "New Cases/100k population                             float64\n",
              "rolling_avg_new_cases/100k                            float64\n",
              "New cases                                             float64\n",
              "growth_label                                           object\n",
              "dtype: object"
            ]
          },
          "metadata": {
            "tags": []
          },
          "execution_count": 7
        }
      ]
    },
    {
      "cell_type": "code",
      "metadata": {
        "colab": {
          "base_uri": "https://localhost:8080/"
        },
        "id": "V6kfRB882BVg",
        "outputId": "f209de91-8fbb-46cc-f6c0-722164c4fe5f"
      },
      "source": [
        "CA_labeled_data.shape"
      ],
      "execution_count": 8,
      "outputs": [
        {
          "output_type": "execute_result",
          "data": {
            "text/plain": [
              "(15821, 18)"
            ]
          },
          "metadata": {
            "tags": []
          },
          "execution_count": 8
        }
      ]
    },
    {
      "cell_type": "markdown",
      "metadata": {
        "id": "nItxaLWfcCGl"
      },
      "source": [
        "## Preprocessing data \n",
        "\n",
        "* drop na\n",
        "* convert categorical code"
      ]
    },
    {
      "cell_type": "code",
      "metadata": {
        "id": "xalDlwRNa4T-"
      },
      "source": [
        "CA_combined_data = CA_combined_data.dropna()"
      ],
      "execution_count": 9,
      "outputs": []
    },
    {
      "cell_type": "code",
      "metadata": {
        "id": "1HVWG1aBcJQo",
        "colab": {
          "base_uri": "https://localhost:8080/"
        },
        "outputId": "fb465656-4251-4bae-b9a4-7a819976092c"
      },
      "source": [
        "CA_combined_data.dtypes"
      ],
      "execution_count": 10,
      "outputs": [
        {
          "output_type": "execute_result",
          "data": {
            "text/plain": [
              "Date                                                   object\n",
              "Province_State                                         object\n",
              "FIPS                                                    int64\n",
              "New cases                                               int64\n",
              "County Name                                            object\n",
              "population                                              int64\n",
              "mask_rule_active                                        int64\n",
              "m50                                                   float64\n",
              "m50_index                                               int64\n",
              "retail_and_recreation_percent_change_from_baseline    float64\n",
              "grocery_and_pharmacy_percent_change_from_baseline     float64\n",
              "parks_percent_change_from_baseline                    float64\n",
              "transit_stations_percent_change_from_baseline         float64\n",
              "workplaces_percent_change_from_baseline               float64\n",
              "residential_percent_change_from_baseline              float64\n",
              "dtype: object"
            ]
          },
          "metadata": {
            "tags": []
          },
          "execution_count": 10
        }
      ]
    },
    {
      "cell_type": "code",
      "metadata": {
        "colab": {
          "base_uri": "https://localhost:8080/"
        },
        "id": "RYEcw5xr1acy",
        "outputId": "1a27faa4-2b9e-4af9-b5b4-ec30a3fc66f4"
      },
      "source": [
        "CA_combined_data.shape"
      ],
      "execution_count": null,
      "outputs": [
        {
          "output_type": "execute_result",
          "data": {
            "text/plain": [
              "(10478, 15)"
            ]
          },
          "metadata": {
            "tags": []
          },
          "execution_count": 11
        }
      ]
    },
    {
      "cell_type": "code",
      "metadata": {
        "id": "xyAy0tXXRgU-"
      },
      "source": [
        ""
      ],
      "execution_count": null,
      "outputs": []
    },
    {
      "cell_type": "markdown",
      "metadata": {
        "id": "hamjSE_NibsK"
      },
      "source": [
        "# Visualization: Combined Data"
      ]
    },
    {
      "cell_type": "markdown",
      "metadata": {
        "id": "8ENOj35siv3K"
      },
      "source": [
        "## Filter data"
      ]
    },
    {
      "cell_type": "code",
      "metadata": {
        "colab": {
          "base_uri": "https://localhost:8080/"
        },
        "id": "yGNe8e23izsh",
        "outputId": "f1e3e12f-8e56-47c0-ad41-01c0a0766575"
      },
      "source": [
        "CA_combined_data.Date.unique()"
      ],
      "execution_count": 11,
      "outputs": [
        {
          "output_type": "execute_result",
          "data": {
            "text/plain": [
              "array(['2020-03-01', '2020-03-02', '2020-03-03', '2020-03-04',\n",
              "       '2020-03-05', '2020-03-06', '2020-03-07', '2020-03-08',\n",
              "       '2020-03-09', '2020-03-10', '2020-03-11', '2020-03-12',\n",
              "       '2020-03-13', '2020-03-14', '2020-03-15', '2020-03-16',\n",
              "       '2020-03-17', '2020-03-18', '2020-03-19', '2020-03-20',\n",
              "       '2020-03-21', '2020-03-22', '2020-03-23', '2020-03-24',\n",
              "       '2020-03-25', '2020-03-26', '2020-03-27', '2020-03-28',\n",
              "       '2020-03-29', '2020-03-30', '2020-03-31', '2020-04-01',\n",
              "       '2020-04-02', '2020-04-03', '2020-04-04', '2020-04-05',\n",
              "       '2020-04-06', '2020-04-07', '2020-04-08', '2020-04-09',\n",
              "       '2020-04-10', '2020-04-11', '2020-04-12', '2020-04-13',\n",
              "       '2020-04-14', '2020-04-15', '2020-04-16', '2020-04-17',\n",
              "       '2020-04-18', '2020-04-19', '2020-04-21', '2020-04-22',\n",
              "       '2020-04-23', '2020-04-24', '2020-04-25', '2020-04-26',\n",
              "       '2020-04-27', '2020-04-28', '2020-04-29', '2020-04-30',\n",
              "       '2020-05-01', '2020-05-02', '2020-05-03', '2020-05-04',\n",
              "       '2020-05-05', '2020-05-06', '2020-05-07', '2020-05-08',\n",
              "       '2020-05-09', '2020-05-10', '2020-05-11', '2020-05-12',\n",
              "       '2020-05-13', '2020-05-14', '2020-05-15', '2020-05-16',\n",
              "       '2020-05-17', '2020-05-18', '2020-05-19', '2020-05-20',\n",
              "       '2020-05-21', '2020-05-22', '2020-05-23', '2020-05-24',\n",
              "       '2020-05-25', '2020-05-26', '2020-05-27', '2020-05-28',\n",
              "       '2020-05-30', '2020-05-31', '2020-06-01', '2020-06-02',\n",
              "       '2020-06-03', '2020-06-04', '2020-06-05', '2020-06-06',\n",
              "       '2020-06-07', '2020-06-08', '2020-06-09', '2020-06-10',\n",
              "       '2020-06-11', '2020-06-12', '2020-06-13', '2020-06-14',\n",
              "       '2020-06-15', '2020-06-16', '2020-06-17', '2020-06-18',\n",
              "       '2020-06-19', '2020-06-20', '2020-06-21', '2020-06-22',\n",
              "       '2020-06-23', '2020-06-24', '2020-06-25', '2020-06-26',\n",
              "       '2020-06-27', '2020-06-28', '2020-06-29', '2020-06-30',\n",
              "       '2020-07-01', '2020-07-02', '2020-07-03', '2020-07-04',\n",
              "       '2020-07-05', '2020-07-06', '2020-07-07', '2020-07-08',\n",
              "       '2020-07-09', '2020-07-10', '2020-07-11', '2020-07-12',\n",
              "       '2020-07-13', '2020-07-14', '2020-07-15', '2020-07-16',\n",
              "       '2020-07-17', '2020-07-18', '2020-07-19', '2020-07-20',\n",
              "       '2020-07-21', '2020-07-22', '2020-07-23', '2020-07-24',\n",
              "       '2020-07-25', '2020-07-26', '2020-07-27', '2020-07-28',\n",
              "       '2020-07-29', '2020-07-30', '2020-07-31', '2020-08-01',\n",
              "       '2020-08-02', '2020-08-03', '2020-08-04', '2020-08-05',\n",
              "       '2020-08-06', '2020-08-07', '2020-08-08', '2020-08-09',\n",
              "       '2020-08-10', '2020-08-11', '2020-08-12', '2020-08-13',\n",
              "       '2020-08-14', '2020-08-15', '2020-08-16', '2020-08-17',\n",
              "       '2020-08-18', '2020-08-19', '2020-08-20', '2020-08-21',\n",
              "       '2020-08-22', '2020-08-23', '2020-08-24', '2020-08-25',\n",
              "       '2020-08-26', '2020-08-27', '2020-08-28', '2020-08-29',\n",
              "       '2020-08-30', '2020-08-31', '2020-09-01', '2020-09-02',\n",
              "       '2020-09-03', '2020-09-04', '2020-09-05', '2020-09-06',\n",
              "       '2020-09-07', '2020-09-08', '2020-09-09', '2020-09-10',\n",
              "       '2020-09-11', '2020-09-12', '2020-09-13', '2020-09-14',\n",
              "       '2020-09-15', '2020-09-16', '2020-09-17', '2020-09-18',\n",
              "       '2020-09-19', '2020-09-20', '2020-09-21', '2020-09-22',\n",
              "       '2020-09-23', '2020-09-24', '2020-09-25', '2020-09-26',\n",
              "       '2020-09-27', '2020-09-28', '2020-09-29', '2020-09-30',\n",
              "       '2020-10-01', '2020-10-02', '2020-10-03', '2020-10-04',\n",
              "       '2020-10-05', '2020-10-06', '2020-10-07', '2020-10-09',\n",
              "       '2020-10-10', '2020-10-11', '2020-10-12', '2020-10-13',\n",
              "       '2020-10-14', '2020-10-15', '2020-10-16', '2020-10-17',\n",
              "       '2020-10-18', '2020-10-19', '2020-10-20', '2020-10-21',\n",
              "       '2020-10-22', '2020-10-23', '2020-10-24', '2020-10-25',\n",
              "       '2020-10-26', '2020-10-27', '2020-10-28', '2020-10-29',\n",
              "       '2020-10-30', '2020-10-31', '2020-11-01', '2020-11-02',\n",
              "       '2020-11-03', '2020-11-04', '2020-11-05', '2020-11-06',\n",
              "       '2020-11-07', '2020-11-08', '2020-11-09', '2020-11-10',\n",
              "       '2020-11-11', '2020-11-12', '2020-11-13', '2020-11-14',\n",
              "       '2020-11-15', '2020-11-16', '2020-11-17', '2020-11-18',\n",
              "       '2020-11-19', '2020-11-20', '2020-11-21', '2020-11-22',\n",
              "       '2020-11-23', '2020-11-24', '2020-11-25', '2020-11-26',\n",
              "       '2020-11-27', '2020-11-28', '2020-11-29', '2020-11-30',\n",
              "       '2020-12-01', '2020-12-02', '2020-12-03', '2020-12-04',\n",
              "       '2020-12-05', '2020-12-06', '2020-12-07', '2020-12-08',\n",
              "       '2020-12-09', '2020-12-10', '2020-12-19', '2020-12-20',\n",
              "       '2020-12-21', '2020-12-22', '2020-12-23', '2020-12-24',\n",
              "       '2020-12-25', '2020-12-26', '2020-12-27', '2020-12-28',\n",
              "       '2020-12-29', '2020-12-30', '2020-12-31', '2021-01-01',\n",
              "       '2021-01-02', '2021-01-03', '2021-01-04', '2021-01-05'],\n",
              "      dtype=object)"
            ]
          },
          "metadata": {
            "tags": []
          },
          "execution_count": 11
        }
      ]
    },
    {
      "cell_type": "code",
      "metadata": {
        "id": "BmBzW20tiny0"
      },
      "source": [
        "date_list = ['2020-12-01', '2020-12-02', '2020-12-03', '2020-12-04',\r\n",
        "       '2020-12-05', '2020-12-06', '2020-12-07', '2020-12-08',\r\n",
        "       '2020-12-09', '2020-12-10', '2020-12-19', '2020-12-20',\r\n",
        "       '2020-12-21', '2020-12-22', '2020-12-23', '2020-12-24',\r\n",
        "       '2020-12-25', '2020-12-26', '2020-12-27', '2020-12-28',\r\n",
        "       '2020-12-29', '2020-12-30', '2020-12-31', '2021-01-01',\r\n",
        "       '2021-01-02', '2021-01-03', '2021-01-04', '2021-01-05']\r\n",
        "CA_combined_data_filtered= CA_combined_data[CA_combined_data.Date.isin(date_list)]\r\n",
        "CA_labeled_data_filtered = CA_labeled_data[CA_labeled_data.Date.isin(date_list)]"
      ],
      "execution_count": 14,
      "outputs": []
    },
    {
      "cell_type": "code",
      "metadata": {
        "id": "V4NgXuYbiye5"
      },
      "source": [
        "CA_combined_data_filtered = CA_combined_data_filtered[['FIPS','population','mask_rule_active','m50','m50_index','Date',\r\n",
        "                                              'retail_and_recreation_percent_change_from_baseline','grocery_and_pharmacy_percent_change_from_baseline',\r\n",
        "                                              'parks_percent_change_from_baseline','transit_stations_percent_change_from_baseline','workplaces_percent_change_from_baseline',\r\n",
        "                                              'residential_percent_change_from_baseline','New cases']]"
      ],
      "execution_count": 13,
      "outputs": []
    },
    {
      "cell_type": "code",
      "metadata": {
        "id": "1pNBxQPM41po"
      },
      "source": [
        "date_list = ['2020-10-01', '2020-10-02', '2020-10-03', '2020-10-04',\r\n",
        "       '2020-10-05', '2020-10-06', '2020-10-07', '2020-10-09',\r\n",
        "       '2020-10-10', '2020-10-11', '2020-10-12', '2020-10-13',\r\n",
        "       '2020-10-14', '2020-10-15', '2020-10-16', '2020-10-17',\r\n",
        "       '2020-10-18', '2020-10-19', '2020-10-20', '2020-10-21',\r\n",
        "       '2020-10-22', '2020-10-23', '2020-10-24', '2020-10-25',\r\n",
        "       '2020-10-26', '2020-10-27', '2020-10-28', '2020-10-29',\r\n",
        "       '2020-10-30', '2020-10-31']\r\n",
        "\r\n",
        "\r\n",
        "CA_labeled_data_filtered = CA_labeled_data[CA_labeled_data.Date.isin(date_list)]"
      ],
      "execution_count": 17,
      "outputs": []
    },
    {
      "cell_type": "code",
      "metadata": {
        "id": "MXZDRmrR39lT",
        "outputId": "56eef661-3e85-4256-d6b6-233c5a68ccc9",
        "colab": {
          "base_uri": "https://localhost:8080/"
        }
      },
      "source": [
        "CA_labeled_data_filtered.columns"
      ],
      "execution_count": 15,
      "outputs": [
        {
          "output_type": "execute_result",
          "data": {
            "text/plain": [
              "Index(['Date', 'Province_State', 'FIPS', 'County Name', 'population',\n",
              "       'mask_rule_active', 'm50', 'm50_index',\n",
              "       'retail_and_recreation_percent_change_from_baseline',\n",
              "       'grocery_and_pharmacy_percent_change_from_baseline',\n",
              "       'parks_percent_change_from_baseline',\n",
              "       'transit_stations_percent_change_from_baseline',\n",
              "       'workplaces_percent_change_from_baseline',\n",
              "       'residential_percent_change_from_baseline', 'New Cases/100k population',\n",
              "       'rolling_avg_new_cases/100k', 'New cases', 'growth_label'],\n",
              "      dtype='object')"
            ]
          },
          "metadata": {
            "tags": []
          },
          "execution_count": 15
        }
      ]
    },
    {
      "cell_type": "markdown",
      "metadata": {
        "id": "Zs30PnUq6v11"
      },
      "source": [
        "['minimal' 0 'moderate' 1 'substantial' 2 'widespread' 3]"
      ]
    },
    {
      "cell_type": "code",
      "metadata": {
        "id": "YsKJzRC34hT0",
        "outputId": "030c9805-d4ef-4321-c8f8-76427b60012c",
        "colab": {
          "base_uri": "https://localhost:8080/"
        }
      },
      "source": [
        "CA_labeled_data_filtered['growth_label'].unique()"
      ],
      "execution_count": 29,
      "outputs": [
        {
          "output_type": "execute_result",
          "data": {
            "text/plain": [
              "array(['substantial', 'moderate', 'minimal', 'widespread'], dtype=object)"
            ]
          },
          "metadata": {
            "tags": []
          },
          "execution_count": 29
        }
      ]
    },
    {
      "cell_type": "code",
      "metadata": {
        "id": "G92mGGmo9JOz",
        "outputId": "7c5e793c-8c1b-4c13-f4ed-87a2f4993601",
        "colab": {
          "base_uri": "https://localhost:8080/"
        }
      },
      "source": [
        "CA_labeled_data_filtered['County Name'].unique()"
      ],
      "execution_count": 24,
      "outputs": [
        {
          "output_type": "execute_result",
          "data": {
            "text/plain": [
              "array(['Alameda County', 'Amador County', 'Butte County',\n",
              "       'Calaveras County', 'Colusa County', 'Contra Costa County',\n",
              "       'Del Norte County', 'El Dorado County', 'Fresno County',\n",
              "       'Glenn County', 'Humboldt County', 'Imperial County',\n",
              "       'Inyo County', 'Kern County', 'Kings County', 'Lake County',\n",
              "       'Lassen County', 'Los Angeles County', 'Madera County',\n",
              "       'Marin County', 'Mariposa County', 'Mendocino County',\n",
              "       'Merced County', 'Mono County', 'Monterey County', 'Napa County',\n",
              "       'Nevada County', 'Orange County', 'Placer County', 'Plumas County',\n",
              "       'Riverside County', 'Sacramento County', 'San Benito County',\n",
              "       'San Bernardino County', 'San Diego County',\n",
              "       'San Francisco County', 'San Joaquin County',\n",
              "       'San Luis Obispo County', 'San Mateo County',\n",
              "       'Santa Barbara County', 'Santa Clara County', 'Santa Cruz County',\n",
              "       'Shasta County', 'Siskiyou County', 'Solano County',\n",
              "       'Sonoma County', 'Stanislaus County', 'Sutter County',\n",
              "       'Tehama County', 'Tulare County', 'Tuolumne County',\n",
              "       'Ventura County', 'Yolo County', 'Yuba County'], dtype=object)"
            ]
          },
          "metadata": {
            "tags": []
          },
          "execution_count": 24
        }
      ]
    },
    {
      "cell_type": "code",
      "metadata": {
        "id": "AVg-7PXh-Mfy",
        "outputId": "f483db88-f992-40d3-aed6-6cb5f4c337be",
        "colab": {
          "base_uri": "https://localhost:8080/"
        }
      },
      "source": [
        "CA_labeled_data_level0 = CA_labeled_data_filtered[(CA_labeled_data_filtered['growth_label']=='minimal') ]\r\n",
        "print(CA_labeled_data_level0.shape)\r\n",
        "CA_labeled_data_level0['County Name'].unique()"
      ],
      "execution_count": 31,
      "outputs": [
        {
          "output_type": "stream",
          "text": [
            "(63, 18)\n"
          ],
          "name": "stdout"
        },
        {
          "output_type": "execute_result",
          "data": {
            "text/plain": [
              "array(['Amador County', 'Calaveras County', 'Humboldt County',\n",
              "       'Lassen County', 'Mariposa County', 'Plumas County',\n",
              "       'Siskiyou County', 'Tuolumne County'], dtype=object)"
            ]
          },
          "metadata": {
            "tags": []
          },
          "execution_count": 31
        }
      ]
    },
    {
      "cell_type": "code",
      "metadata": {
        "colab": {
          "base_uri": "https://localhost:8080/"
        },
        "id": "WDldGpDL3SHH",
        "outputId": "a0f0a97a-e2b2-442b-e264-0fe237042364"
      },
      "source": [
        "CA_labeled_data_level0 = CA_labeled_data_filtered[(CA_labeled_data_filtered['growth_label']=='minimal') & (CA_labeled_data_filtered['County Name']== 'Amador County')]\r\n",
        "print(CA_labeled_data_level0.shape)\r\n",
        "\r\n",
        "CA_labeled_data_level3 = CA_labeled_data_filtered[(CA_labeled_data_filtered['growth_label']=='widespread') & (CA_labeled_data_filtered['County Name']== 'Amador County')]\r\n",
        "print(CA_labeled_data_level3.shape)"
      ],
      "execution_count": 35,
      "outputs": [
        {
          "output_type": "stream",
          "text": [
            "(5, 18)\n",
            "(4, 18)\n"
          ],
          "name": "stdout"
        }
      ]
    },
    {
      "cell_type": "markdown",
      "metadata": {
        "id": "YQtPvvXSUOWY"
      },
      "source": [
        "## Correlation Plot"
      ]
    },
    {
      "cell_type": "code",
      "metadata": {
        "colab": {
          "base_uri": "https://localhost:8080/",
          "height": 858
        },
        "id": "iOQZaMPrUpqf",
        "outputId": "5efb5992-8076-495d-8881-c26863338e0b"
      },
      "source": [
        "\n",
        "corr = CA_combined_data.corr()\n",
        "g = sns.heatmap(corr, vmax=.9, center=0,\n",
        "               square=True, linewidths=1.5, cbar_kws={\"shrink\": .8}, annot=True, fmt='.2f', cmap='coolwarm')\n",
        "bottom, top = g.get_ylim()\n",
        "g.set_ylim(bottom + 0.5, top - 0.5)\n",
        "sns.despine()\n",
        "g.figure.set_size_inches(16, 10)"
      ],
      "execution_count": null,
      "outputs": [
        {
          "output_type": "display_data",
          "data": {
            "image/png": "[encoded data removed]",
            "text/plain": [
              "<Figure size 1152x720 with 2 Axes>"
            ]
          },
          "metadata": {
            "tags": [],
            "needs_background": "light"
          }
        }
      ]
    },
    {
      "cell_type": "markdown",
      "metadata": {
        "id": "-9_ZUeXqR28A"
      },
      "source": [
        "## Box Plot\r\n",
        "\r\n",
        "https://machinelearningmastery.com/time-series-data-visualization-with-python/"
      ]
    },
    {
      "cell_type": "markdown",
      "metadata": {
        "id": "1OnxprrgourH"
      },
      "source": [
        "##  TODO: Let's filter mobility, SD separately, and do the box plot - drop FIPS"
      ]
    },
    {
      "cell_type": "code",
      "metadata": {
        "colab": {
          "base_uri": "https://localhost:8080/",
          "height": 591
        },
        "id": "QxaRKJoNR5sv",
        "outputId": "3ce81dbb-8afa-4d60-8834-d4857a0773fd"
      },
      "source": [
        "CA_combined_data_filtered.boxplot(grid=True, rot=45, fontsize=15)"
      ],
      "execution_count": null,
      "outputs": [
        {
          "output_type": "execute_result",
          "data": {
            "text/plain": [
              "<matplotlib.axes._subplots.AxesSubplot at 0x7fb210ec5828>"
            ]
          },
          "metadata": {
            "tags": []
          },
          "execution_count": 44
        },
        {
          "output_type": "display_data",
          "data": {
            "image/png": "[encoded data removed]",
            "text/plain": [
              "<Figure size 432x288 with 1 Axes>"
            ]
          },
          "metadata": {
            "tags": [],
            "needs_background": "light"
          }
        }
      ]
    },
    {
      "cell_type": "markdown",
      "metadata": {
        "id": "XnC44ZJ4pFPl"
      },
      "source": [
        "## For paper visualization\n",
        "\n",
        "* Let's filter the SuperSpread data and do Box plot\n",
        "* Let's filter the lowspread data and do box plot\n",
        "* filter dataframe for transition from low -> superspread data and plot lineplot to see variation "
      ]
    },
    {
      "cell_type": "code",
      "metadata": {
        "colab": {
          "base_uri": "https://localhost:8080/",
          "height": 527
        },
        "id": "g6TZcz7nkrmq",
        "outputId": "2b074484-db68-413e-e037-e02982a6e44f"
      },
      "source": [
        "CA_combined_data_filtered.boxplot(column=['New cases', 'm50_index','retail_and_recreation_percent_change_from_baseline'], by='Date',rot=45,\r\n",
        "                     layout=(3, 1))"
      ],
      "execution_count": null,
      "outputs": [
        {
          "output_type": "stream",
          "text": [
            "/usr/local/lib/python3.6/dist-packages/numpy/core/_asarray.py:83: VisibleDeprecationWarning: Creating an ndarray from ragged nested sequences (which is a list-or-tuple of lists-or-tuples-or ndarrays with different lengths or shapes) is deprecated. If you meant to do this, you must specify 'dtype=object' when creating the ndarray\n",
            "  return array(a, dtype, copy=False, order=order)\n",
            "/usr/local/lib/python3.6/dist-packages/numpy/core/_asarray.py:83: VisibleDeprecationWarning: Creating an ndarray from ragged nested sequences (which is a list-or-tuple of lists-or-tuples-or ndarrays with different lengths or shapes) is deprecated. If you meant to do this, you must specify 'dtype=object' when creating the ndarray\n",
            "  return array(a, dtype, copy=False, order=order)\n",
            "/usr/local/lib/python3.6/dist-packages/numpy/core/_asarray.py:83: VisibleDeprecationWarning: Creating an ndarray from ragged nested sequences (which is a list-or-tuple of lists-or-tuples-or ndarrays with different lengths or shapes) is deprecated. If you meant to do this, you must specify 'dtype=object' when creating the ndarray\n",
            "  return array(a, dtype, copy=False, order=order)\n"
          ],
          "name": "stderr"
        },
        {
          "output_type": "execute_result",
          "data": {
            "text/plain": [
              "array([<matplotlib.axes._subplots.AxesSubplot object at 0x7fb1fee4fbe0>,\n",
              "       <matplotlib.axes._subplots.AxesSubplot object at 0x7fb1feda8400>,\n",
              "       <matplotlib.axes._subplots.AxesSubplot object at 0x7fb1fec97400>],\n",
              "      dtype=object)"
            ]
          },
          "metadata": {
            "tags": []
          },
          "execution_count": 53
        },
        {
          "output_type": "display_data",
          "data": {
            "image/png": "[encoded data removed]",
            "text/plain": [
              "<Figure size 432x288 with 3 Axes>"
            ]
          },
          "metadata": {
            "tags": [],
            "needs_background": "light"
          }
        }
      ]
    },
    {
      "cell_type": "markdown",
      "metadata": {
        "id": "jHEwZg3CgWl5"
      },
      "source": [
        "## Histogram"
      ]
    },
    {
      "cell_type": "code",
      "metadata": {
        "colab": {
          "base_uri": "https://localhost:8080/",
          "height": 281
        },
        "id": "yTwpnv8FeX6w",
        "outputId": "7ffc47b4-d5b7-4a53-b8a2-4f2610c9bcba"
      },
      "source": [
        "CA_combined_data_filtered.hist()\r\n",
        "plt.show()"
      ],
      "execution_count": null,
      "outputs": [
        {
          "output_type": "display_data",
          "data": {
            "image/png": "[encoded data removed]",
            "text/plain": [
              "<Figure size 432x288 with 12 Axes>"
            ]
          },
          "metadata": {
            "tags": [],
            "needs_background": "light"
          }
        }
      ]
    },
    {
      "cell_type": "markdown",
      "metadata": {
        "id": "rZb4Lavcgaoz"
      },
      "source": [
        "## BarPlot"
      ]
    },
    {
      "cell_type": "code",
      "metadata": {
        "colab": {
          "base_uri": "https://localhost:8080/",
          "height": 334
        },
        "id": "CHDSV9lkfCfg",
        "outputId": "949360db-95a8-451a-9be5-47d3f940299b"
      },
      "source": [
        "CA_combined_data_filtered.plot(x=\"Date\", y=['mask_rule_active','m50','m50_index',\r\n",
        "                                              'retail_and_recreation_percent_change_from_baseline','grocery_and_pharmacy_percent_change_from_baseline',\r\n",
        "                                              'parks_percent_change_from_baseline','transit_stations_percent_change_from_baseline','workplaces_percent_change_from_baseline',\r\n",
        "                                              'residential_percent_change_from_baseline','New cases'],rot=45, kind=\"bar\")"
      ],
      "execution_count": null,
      "outputs": [
        {
          "output_type": "execute_result",
          "data": {
            "text/plain": [
              "<matplotlib.axes._subplots.AxesSubplot at 0x7fb206142518>"
            ]
          },
          "metadata": {
            "tags": []
          },
          "execution_count": 46
        },
        {
          "output_type": "display_data",
          "data": {
            "image/png": "[encoded data removed]",
            "text/plain": [
              "<Figure size 432x288 with 1 Axes>"
            ]
          },
          "metadata": {
            "tags": [],
            "needs_background": "light"
          }
        }
      ]
    },
    {
      "cell_type": "markdown",
      "metadata": {
        "id": "2_GAVtengc0i"
      },
      "source": [
        "## Line Plot"
      ]
    },
    {
      "cell_type": "markdown",
      "metadata": {
        "id": "mBwkay8K_TUo"
      },
      "source": [
        "#### 1.'New Cases/100k population': Minimal vs. Widespread"
      ]
    },
    {
      "cell_type": "code",
      "metadata": {
        "colab": {
          "base_uri": "https://localhost:8080/",
          "height": 279
        },
        "id": "4ECoh7x7gisR",
        "outputId": "de23b522-30cd-4020-ca24-a1d494847db8"
      },
      "source": [
        "import matplotlib.pyplot as plt\r\n",
        "import pandas as pd\r\n",
        "\r\n",
        "# gca stands for 'get current axis'\r\n",
        "ax = plt.gca()\r\n",
        "\r\n",
        "CA_labeled_data_level0.plot(kind='line',x='Date',y='New Cases/100k population',color='green',ax=ax)\r\n",
        "CA_labeled_data_level3.plot(kind='line',x='Date',y='New Cases/100k population', color='red', ax=ax)\r\n",
        "\r\n",
        "plt.show()"
      ],
      "execution_count": 39,
      "outputs": [
        {
          "output_type": "display_data",
          "data": {
            "image/png": "[encoded data removed]",
            "text/plain": [
              "<Figure size 432x288 with 1 Axes>"
            ]
          },
          "metadata": {
            "tags": [],
            "needs_background": "light"
          }
        }
      ]
    },
    {
      "cell_type": "markdown",
      "metadata": {
        "id": "wPoKDzJYAXst"
      },
      "source": [
        "#### 2.m50_index: Minimal vs. Widespread"
      ]
    },
    {
      "cell_type": "code",
      "metadata": {
        "colab": {
          "base_uri": "https://localhost:8080/",
          "height": 282
        },
        "id": "ef5nglWGAXtI",
        "outputId": "ff43e553-92ea-4ba0-98fa-dac5fc456b14"
      },
      "source": [
        "import matplotlib.pyplot as plt\r\n",
        "import pandas as pd\r\n",
        "\r\n",
        "# gca stands for 'get current axis'\r\n",
        "ax = plt.gca()\r\n",
        "\r\n",
        "CA_labeled_data_level0.plot(kind='line',x='Date',y='m50_index',color='green',ax=ax)\r\n",
        "CA_labeled_data_level3.plot(kind='line',x='Date',y='m50_index', color='red', ax=ax)\r\n",
        "\r\n",
        "plt.show()"
      ],
      "execution_count": 40,
      "outputs": [
        {
          "output_type": "display_data",
          "data": {
            "image/png": "[encoded data removed]",
            "text/plain": [
              "<Figure size 432x288 with 1 Axes>"
            ]
          },
          "metadata": {
            "tags": [],
            "needs_background": "light"
          }
        }
      ]
    },
    {
      "cell_type": "markdown",
      "metadata": {
        "id": "pIdkjRmpAY7J"
      },
      "source": [
        "#### 3.mask_rule_active: Minimal vs. Widespread"
      ]
    },
    {
      "cell_type": "code",
      "metadata": {
        "colab": {
          "base_uri": "https://localhost:8080/",
          "height": 279
        },
        "id": "FK2I1fKJAY7L",
        "outputId": "960d7605-baa5-4ede-c745-7616e219ab8a"
      },
      "source": [
        "import matplotlib.pyplot as plt\r\n",
        "import pandas as pd\r\n",
        "\r\n",
        "# gca stands for 'get current axis'\r\n",
        "ax = plt.gca()\r\n",
        "\r\n",
        "CA_labeled_data_level0.plot(kind='line',x='Date',y='mask_rule_active',color='green',ax=ax)\r\n",
        "CA_labeled_data_level3.plot(kind='line',x='Date',y='mask_rule_active', color='red', ax=ax)\r\n",
        "\r\n",
        "plt.show()"
      ],
      "execution_count": 41,
      "outputs": [
        {
          "output_type": "display_data",
          "data": {
            "image/png": "[encoded data removed]",
            "text/plain": [
              "<Figure size 432x288 with 1 Axes>"
            ]
          },
          "metadata": {
            "tags": [],
            "needs_background": "light"
          }
        }
      ]
    },
    {
      "cell_type": "markdown",
      "metadata": {
        "id": "Eucl56vjBS5Q"
      },
      "source": [
        "#### 4.grocery_and_pharmacy_percent_change_from_baseline: Minimal vs. Widespread"
      ]
    },
    {
      "cell_type": "code",
      "metadata": {
        "colab": {
          "base_uri": "https://localhost:8080/",
          "height": 279
        },
        "id": "x1PsczBrBS50",
        "outputId": "43e6b3e1-f70a-41bc-9f5b-20d6dbed1ad3"
      },
      "source": [
        "import matplotlib.pyplot as plt\r\n",
        "import pandas as pd\r\n",
        "\r\n",
        "# gca stands for 'get current axis'\r\n",
        "ax = plt.gca()\r\n",
        "\r\n",
        "CA_labeled_data_level0.plot(kind='line',x='Date',y='grocery_and_pharmacy_percent_change_from_baseline',color='green',ax=ax)\r\n",
        "CA_labeled_data_level3.plot(kind='line',x='Date',y='grocery_and_pharmacy_percent_change_from_baseline', color='red', ax=ax)\r\n",
        "\r\n",
        "plt.show()"
      ],
      "execution_count": 42,
      "outputs": [
        {
          "output_type": "display_data",
          "data": {
            "image/png": "[encoded data removed]",
            "text/plain": [
              "<Figure size 432x288 with 1 Axes>"
            ]
          },
          "metadata": {
            "tags": [],
            "needs_background": "light"
          }
        }
      ]
    },
    {
      "cell_type": "markdown",
      "metadata": {
        "id": "dHt9t7XJhhUz"
      },
      "source": [
        "## Next Try- with All County\r\n",
        "\r\n",
        "https://www.dataquest.io/blog/tutorial-time-series-analysis-with-pandas/"
      ]
    },
    {
      "cell_type": "code",
      "metadata": {
        "id": "sigs56YomAni"
      },
      "source": [
        "CA_combined_data_filtered_new = CA_labeled_data_filtered"
      ],
      "execution_count": 43,
      "outputs": []
    },
    {
      "cell_type": "code",
      "metadata": {
        "colab": {
          "base_uri": "https://localhost:8080/"
        },
        "id": "VM6M3tJuhgfQ",
        "outputId": "1c2577b9-ff49-47dc-e321-3b37070615ff"
      },
      "source": [
        "CA_combined_data_filtered.dtypes"
      ],
      "execution_count": 44,
      "outputs": [
        {
          "output_type": "execute_result",
          "data": {
            "text/plain": [
              "Date                                                   object\n",
              "Province_State                                         object\n",
              "FIPS                                                    int64\n",
              "New cases                                               int64\n",
              "County Name                                            object\n",
              "population                                              int64\n",
              "mask_rule_active                                        int64\n",
              "m50                                                   float64\n",
              "m50_index                                               int64\n",
              "retail_and_recreation_percent_change_from_baseline    float64\n",
              "grocery_and_pharmacy_percent_change_from_baseline     float64\n",
              "parks_percent_change_from_baseline                    float64\n",
              "transit_stations_percent_change_from_baseline         float64\n",
              "workplaces_percent_change_from_baseline               float64\n",
              "residential_percent_change_from_baseline              float64\n",
              "dtype: object"
            ]
          },
          "metadata": {
            "tags": []
          },
          "execution_count": 44
        }
      ]
    },
    {
      "cell_type": "code",
      "metadata": {
        "id": "hm_gmGtRl8Xb",
        "outputId": "5ef626bb-d86e-4422-a4dc-dc47844e6eec",
        "colab": {
          "base_uri": "https://localhost:8080/"
        }
      },
      "source": [
        "CA_combined_data_filtered_new['Date'] =  pd.to_datetime(CA_combined_data_filtered_new['Date'], format='%Y/%m/%d')"
      ],
      "execution_count": 45,
      "outputs": [
        {
          "output_type": "stream",
          "text": [
            "/usr/local/lib/python3.6/dist-packages/ipykernel_launcher.py:1: SettingWithCopyWarning: \n",
            "A value is trying to be set on a copy of a slice from a DataFrame.\n",
            "Try using .loc[row_indexer,col_indexer] = value instead\n",
            "\n",
            "See the caveats in the documentation: https://pandas.pydata.org/pandas-docs/stable/user_guide/indexing.html#returning-a-view-versus-a-copy\n",
            "  \"\"\"Entry point for launching an IPython kernel.\n"
          ],
          "name": "stderr"
        }
      ]
    },
    {
      "cell_type": "code",
      "metadata": {
        "colab": {
          "base_uri": "https://localhost:8080/",
          "height": 270
        },
        "id": "ddbVwzy2mgWx",
        "outputId": "58b43561-0255-4bcf-94bf-7cab3398a827"
      },
      "source": [
        "CA_combined_data_filtered_new = CA_combined_data_filtered_new.set_index('Date')\r\n",
        "CA_combined_data_filtered_new.head(3)"
      ],
      "execution_count": 46,
      "outputs": [
        {
          "output_type": "execute_result",
          "data": {
            "text/html": [
              "<div>\n",
              "<style scoped>\n",
              "    .dataframe tbody tr th:only-of-type {\n",
              "        vertical-align: middle;\n",
              "    }\n",
              "\n",
              "    .dataframe tbody tr th {\n",
              "        vertical-align: top;\n",
              "    }\n",
              "\n",
              "    .dataframe thead th {\n",
              "        text-align: right;\n",
              "    }\n",
              "</style>\n",
              "<table border=\"1\" class=\"dataframe\">\n",
              "  <thead>\n",
              "    <tr style=\"text-align: right;\">\n",
              "      <th></th>\n",
              "      <th>Province_State</th>\n",
              "      <th>FIPS</th>\n",
              "      <th>County Name</th>\n",
              "      <th>population</th>\n",
              "      <th>mask_rule_active</th>\n",
              "      <th>m50</th>\n",
              "      <th>m50_index</th>\n",
              "      <th>retail_and_recreation_percent_change_from_baseline</th>\n",
              "      <th>grocery_and_pharmacy_percent_change_from_baseline</th>\n",
              "      <th>parks_percent_change_from_baseline</th>\n",
              "      <th>transit_stations_percent_change_from_baseline</th>\n",
              "      <th>workplaces_percent_change_from_baseline</th>\n",
              "      <th>residential_percent_change_from_baseline</th>\n",
              "      <th>New Cases/100k population</th>\n",
              "      <th>rolling_avg_new_cases/100k</th>\n",
              "      <th>New cases</th>\n",
              "      <th>growth_label</th>\n",
              "    </tr>\n",
              "    <tr>\n",
              "      <th>Date</th>\n",
              "      <th></th>\n",
              "      <th></th>\n",
              "      <th></th>\n",
              "      <th></th>\n",
              "      <th></th>\n",
              "      <th></th>\n",
              "      <th></th>\n",
              "      <th></th>\n",
              "      <th></th>\n",
              "      <th></th>\n",
              "      <th></th>\n",
              "      <th></th>\n",
              "      <th></th>\n",
              "      <th></th>\n",
              "      <th></th>\n",
              "      <th></th>\n",
              "      <th></th>\n",
              "    </tr>\n",
              "  </thead>\n",
              "  <tbody>\n",
              "    <tr>\n",
              "      <th>2020-10-01</th>\n",
              "      <td>California</td>\n",
              "      <td>6001</td>\n",
              "      <td>Alameda County</td>\n",
              "      <td>1671329</td>\n",
              "      <td>1</td>\n",
              "      <td>3.086</td>\n",
              "      <td>49</td>\n",
              "      <td>-34.0</td>\n",
              "      <td>-14.0</td>\n",
              "      <td>-13.0</td>\n",
              "      <td>-62.0</td>\n",
              "      <td>-51.0</td>\n",
              "      <td>20.0</td>\n",
              "      <td>4.487447</td>\n",
              "      <td>4.333591</td>\n",
              "      <td>75.0</td>\n",
              "      <td>substantial</td>\n",
              "    </tr>\n",
              "    <tr>\n",
              "      <th>2020-10-02</th>\n",
              "      <td>California</td>\n",
              "      <td>6001</td>\n",
              "      <td>Alameda County</td>\n",
              "      <td>1671329</td>\n",
              "      <td>1</td>\n",
              "      <td>3.366</td>\n",
              "      <td>53</td>\n",
              "      <td>-37.0</td>\n",
              "      <td>-15.0</td>\n",
              "      <td>-24.0</td>\n",
              "      <td>-60.0</td>\n",
              "      <td>-47.0</td>\n",
              "      <td>19.0</td>\n",
              "      <td>2.991631</td>\n",
              "      <td>4.102809</td>\n",
              "      <td>50.0</td>\n",
              "      <td>substantial</td>\n",
              "    </tr>\n",
              "    <tr>\n",
              "      <th>2020-10-03</th>\n",
              "      <td>California</td>\n",
              "      <td>6001</td>\n",
              "      <td>Alameda County</td>\n",
              "      <td>1671329</td>\n",
              "      <td>1</td>\n",
              "      <td>1.673</td>\n",
              "      <td>26</td>\n",
              "      <td>-37.0</td>\n",
              "      <td>-14.0</td>\n",
              "      <td>-11.0</td>\n",
              "      <td>-51.0</td>\n",
              "      <td>-16.0</td>\n",
              "      <td>8.0</td>\n",
              "      <td>6.761087</td>\n",
              "      <td>4.145546</td>\n",
              "      <td>113.0</td>\n",
              "      <td>substantial</td>\n",
              "    </tr>\n",
              "  </tbody>\n",
              "</table>\n",
              "</div>"
            ],
            "text/plain": [
              "           Province_State  FIPS  ... New cases  growth_label\n",
              "Date                             ...                        \n",
              "2020-10-01     California  6001  ...      75.0   substantial\n",
              "2020-10-02     California  6001  ...      50.0   substantial\n",
              "2020-10-03     California  6001  ...     113.0   substantial\n",
              "\n",
              "[3 rows x 17 columns]"
            ]
          },
          "metadata": {
            "tags": []
          },
          "execution_count": 46
        }
      ]
    },
    {
      "cell_type": "code",
      "metadata": {
        "colab": {
          "base_uri": "https://localhost:8080/"
        },
        "id": "k7buCI2emlPw",
        "outputId": "db9d8976-c995-4854-9ef5-e45f0a9fdc76"
      },
      "source": [
        "CA_combined_data_filtered_new.index"
      ],
      "execution_count": 47,
      "outputs": [
        {
          "output_type": "execute_result",
          "data": {
            "text/plain": [
              "DatetimeIndex(['2020-10-01', '2020-10-02', '2020-10-03', '2020-10-04',\n",
              "               '2020-10-05', '2020-10-06', '2020-10-07', '2020-10-09',\n",
              "               '2020-10-10', '2020-10-11',\n",
              "               ...\n",
              "               '2020-10-22', '2020-10-23', '2020-10-24', '2020-10-25',\n",
              "               '2020-10-26', '2020-10-27', '2020-10-28', '2020-10-29',\n",
              "               '2020-10-30', '2020-10-31'],\n",
              "              dtype='datetime64[ns]', name='Date', length=1610, freq=None)"
            ]
          },
          "metadata": {
            "tags": []
          },
          "execution_count": 47
        }
      ]
    },
    {
      "cell_type": "code",
      "metadata": {
        "colab": {
          "base_uri": "https://localhost:8080/",
          "height": 362
        },
        "id": "BPFnTq6JnmuH",
        "outputId": "4c454c2c-b278-4436-978a-d581daa34cfe"
      },
      "source": [
        "# Display a random sampling of 5 rows\r\n",
        "CA_combined_data_filtered_new.sample(5, random_state=0)"
      ],
      "execution_count": 48,
      "outputs": [
        {
          "output_type": "execute_result",
          "data": {
            "text/html": [
              "<div>\n",
              "<style scoped>\n",
              "    .dataframe tbody tr th:only-of-type {\n",
              "        vertical-align: middle;\n",
              "    }\n",
              "\n",
              "    .dataframe tbody tr th {\n",
              "        vertical-align: top;\n",
              "    }\n",
              "\n",
              "    .dataframe thead th {\n",
              "        text-align: right;\n",
              "    }\n",
              "</style>\n",
              "<table border=\"1\" class=\"dataframe\">\n",
              "  <thead>\n",
              "    <tr style=\"text-align: right;\">\n",
              "      <th></th>\n",
              "      <th>Province_State</th>\n",
              "      <th>FIPS</th>\n",
              "      <th>County Name</th>\n",
              "      <th>population</th>\n",
              "      <th>mask_rule_active</th>\n",
              "      <th>m50</th>\n",
              "      <th>m50_index</th>\n",
              "      <th>retail_and_recreation_percent_change_from_baseline</th>\n",
              "      <th>grocery_and_pharmacy_percent_change_from_baseline</th>\n",
              "      <th>parks_percent_change_from_baseline</th>\n",
              "      <th>transit_stations_percent_change_from_baseline</th>\n",
              "      <th>workplaces_percent_change_from_baseline</th>\n",
              "      <th>residential_percent_change_from_baseline</th>\n",
              "      <th>New Cases/100k population</th>\n",
              "      <th>rolling_avg_new_cases/100k</th>\n",
              "      <th>New cases</th>\n",
              "      <th>growth_label</th>\n",
              "    </tr>\n",
              "    <tr>\n",
              "      <th>Date</th>\n",
              "      <th></th>\n",
              "      <th></th>\n",
              "      <th></th>\n",
              "      <th></th>\n",
              "      <th></th>\n",
              "      <th></th>\n",
              "      <th></th>\n",
              "      <th></th>\n",
              "      <th></th>\n",
              "      <th></th>\n",
              "      <th></th>\n",
              "      <th></th>\n",
              "      <th></th>\n",
              "      <th></th>\n",
              "      <th></th>\n",
              "      <th></th>\n",
              "      <th></th>\n",
              "    </tr>\n",
              "  </thead>\n",
              "  <tbody>\n",
              "    <tr>\n",
              "      <th>2020-10-24</th>\n",
              "      <td>California</td>\n",
              "      <td>6067</td>\n",
              "      <td>Sacramento County</td>\n",
              "      <td>1552058</td>\n",
              "      <td>1</td>\n",
              "      <td>2.980</td>\n",
              "      <td>42</td>\n",
              "      <td>-25.0</td>\n",
              "      <td>-6.0</td>\n",
              "      <td>11.0</td>\n",
              "      <td>-31.0</td>\n",
              "      <td>-15.0</td>\n",
              "      <td>3.0</td>\n",
              "      <td>10.953199</td>\n",
              "      <td>9.867083</td>\n",
              "      <td>170.0</td>\n",
              "      <td>widespread</td>\n",
              "    </tr>\n",
              "    <tr>\n",
              "      <th>2020-10-28</th>\n",
              "      <td>California</td>\n",
              "      <td>6081</td>\n",
              "      <td>San Mateo County</td>\n",
              "      <td>766573</td>\n",
              "      <td>1</td>\n",
              "      <td>2.178</td>\n",
              "      <td>32</td>\n",
              "      <td>-30.0</td>\n",
              "      <td>-12.0</td>\n",
              "      <td>4.0</td>\n",
              "      <td>-67.0</td>\n",
              "      <td>-54.0</td>\n",
              "      <td>21.0</td>\n",
              "      <td>4.435324</td>\n",
              "      <td>5.851647</td>\n",
              "      <td>34.0</td>\n",
              "      <td>substantial</td>\n",
              "    </tr>\n",
              "    <tr>\n",
              "      <th>2020-10-21</th>\n",
              "      <td>California</td>\n",
              "      <td>6085</td>\n",
              "      <td>Santa Clara County</td>\n",
              "      <td>1927852</td>\n",
              "      <td>1</td>\n",
              "      <td>2.005</td>\n",
              "      <td>28</td>\n",
              "      <td>-36.0</td>\n",
              "      <td>-14.0</td>\n",
              "      <td>4.0</td>\n",
              "      <td>-63.0</td>\n",
              "      <td>-57.0</td>\n",
              "      <td>23.0</td>\n",
              "      <td>6.898870</td>\n",
              "      <td>5.854036</td>\n",
              "      <td>133.0</td>\n",
              "      <td>substantial</td>\n",
              "    </tr>\n",
              "    <tr>\n",
              "      <th>2020-10-29</th>\n",
              "      <td>California</td>\n",
              "      <td>6053</td>\n",
              "      <td>Monterey County</td>\n",
              "      <td>434061</td>\n",
              "      <td>1</td>\n",
              "      <td>2.701</td>\n",
              "      <td>52</td>\n",
              "      <td>-20.0</td>\n",
              "      <td>-4.0</td>\n",
              "      <td>-6.0</td>\n",
              "      <td>-11.0</td>\n",
              "      <td>-31.0</td>\n",
              "      <td>7.0</td>\n",
              "      <td>15.205236</td>\n",
              "      <td>10.301383</td>\n",
              "      <td>66.0</td>\n",
              "      <td>widespread</td>\n",
              "    </tr>\n",
              "    <tr>\n",
              "      <th>2020-10-19</th>\n",
              "      <td>California</td>\n",
              "      <td>6025</td>\n",
              "      <td>Imperial County</td>\n",
              "      <td>181215</td>\n",
              "      <td>1</td>\n",
              "      <td>1.770</td>\n",
              "      <td>53</td>\n",
              "      <td>-33.0</td>\n",
              "      <td>-22.0</td>\n",
              "      <td>-73.0</td>\n",
              "      <td>-37.0</td>\n",
              "      <td>-32.0</td>\n",
              "      <td>10.0</td>\n",
              "      <td>35.868995</td>\n",
              "      <td>20.102404</td>\n",
              "      <td>65.0</td>\n",
              "      <td>widespread</td>\n",
              "    </tr>\n",
              "  </tbody>\n",
              "</table>\n",
              "</div>"
            ],
            "text/plain": [
              "           Province_State  FIPS  ... New cases  growth_label\n",
              "Date                             ...                        \n",
              "2020-10-24     California  6067  ...     170.0    widespread\n",
              "2020-10-28     California  6081  ...      34.0   substantial\n",
              "2020-10-21     California  6085  ...     133.0   substantial\n",
              "2020-10-29     California  6053  ...      66.0    widespread\n",
              "2020-10-19     California  6025  ...      65.0    widespread\n",
              "\n",
              "[5 rows x 17 columns]"
            ]
          },
          "metadata": {
            "tags": []
          },
          "execution_count": 48
        }
      ]
    },
    {
      "cell_type": "code",
      "metadata": {
        "colab": {
          "base_uri": "https://localhost:8080/",
          "height": 130
        },
        "id": "TmpOs1wInvtk",
        "outputId": "4d1babc1-d5ae-49f8-cf1e-67543f24b450"
      },
      "source": [
        "CA_combined_data_filtered_new.loc['2021-01-01':'2021-01-03']"
      ],
      "execution_count": 49,
      "outputs": [
        {
          "output_type": "execute_result",
          "data": {
            "text/html": [
              "<div>\n",
              "<style scoped>\n",
              "    .dataframe tbody tr th:only-of-type {\n",
              "        vertical-align: middle;\n",
              "    }\n",
              "\n",
              "    .dataframe tbody tr th {\n",
              "        vertical-align: top;\n",
              "    }\n",
              "\n",
              "    .dataframe thead th {\n",
              "        text-align: right;\n",
              "    }\n",
              "</style>\n",
              "<table border=\"1\" class=\"dataframe\">\n",
              "  <thead>\n",
              "    <tr style=\"text-align: right;\">\n",
              "      <th></th>\n",
              "      <th>Province_State</th>\n",
              "      <th>FIPS</th>\n",
              "      <th>County Name</th>\n",
              "      <th>population</th>\n",
              "      <th>mask_rule_active</th>\n",
              "      <th>m50</th>\n",
              "      <th>m50_index</th>\n",
              "      <th>retail_and_recreation_percent_change_from_baseline</th>\n",
              "      <th>grocery_and_pharmacy_percent_change_from_baseline</th>\n",
              "      <th>parks_percent_change_from_baseline</th>\n",
              "      <th>transit_stations_percent_change_from_baseline</th>\n",
              "      <th>workplaces_percent_change_from_baseline</th>\n",
              "      <th>residential_percent_change_from_baseline</th>\n",
              "      <th>New Cases/100k population</th>\n",
              "      <th>rolling_avg_new_cases/100k</th>\n",
              "      <th>New cases</th>\n",
              "      <th>growth_label</th>\n",
              "    </tr>\n",
              "    <tr>\n",
              "      <th>Date</th>\n",
              "      <th></th>\n",
              "      <th></th>\n",
              "      <th></th>\n",
              "      <th></th>\n",
              "      <th></th>\n",
              "      <th></th>\n",
              "      <th></th>\n",
              "      <th></th>\n",
              "      <th></th>\n",
              "      <th></th>\n",
              "      <th></th>\n",
              "      <th></th>\n",
              "      <th></th>\n",
              "      <th></th>\n",
              "      <th></th>\n",
              "      <th></th>\n",
              "      <th></th>\n",
              "    </tr>\n",
              "  </thead>\n",
              "  <tbody>\n",
              "  </tbody>\n",
              "</table>\n",
              "</div>"
            ],
            "text/plain": [
              "Empty DataFrame\n",
              "Columns: [Province_State, FIPS, County Name, population, mask_rule_active, m50, m50_index, retail_and_recreation_percent_change_from_baseline, grocery_and_pharmacy_percent_change_from_baseline, parks_percent_change_from_baseline, transit_stations_percent_change_from_baseline, workplaces_percent_change_from_baseline, residential_percent_change_from_baseline, New Cases/100k population, rolling_avg_new_cases/100k, New cases, growth_label]\n",
              "Index: []"
            ]
          },
          "metadata": {
            "tags": []
          },
          "execution_count": 49
        }
      ]
    },
    {
      "cell_type": "code",
      "metadata": {
        "colab": {
          "base_uri": "https://localhost:8080/"
        },
        "id": "3qjPEiXqoHYR",
        "outputId": "06c0fad3-991d-491c-ba2c-68cfc9a10566"
      },
      "source": [
        "CA_combined_data_filtered_new.columns"
      ],
      "execution_count": 50,
      "outputs": [
        {
          "output_type": "execute_result",
          "data": {
            "text/plain": [
              "Index(['Province_State', 'FIPS', 'County Name', 'population',\n",
              "       'mask_rule_active', 'm50', 'm50_index',\n",
              "       'retail_and_recreation_percent_change_from_baseline',\n",
              "       'grocery_and_pharmacy_percent_change_from_baseline',\n",
              "       'parks_percent_change_from_baseline',\n",
              "       'transit_stations_percent_change_from_baseline',\n",
              "       'workplaces_percent_change_from_baseline',\n",
              "       'residential_percent_change_from_baseline', 'New Cases/100k population',\n",
              "       'rolling_avg_new_cases/100k', 'New cases', 'growth_label'],\n",
              "      dtype='object')"
            ]
          },
          "metadata": {
            "tags": []
          },
          "execution_count": 50
        }
      ]
    },
    {
      "cell_type": "code",
      "metadata": {
        "id": "ozAo8obJCm9r",
        "outputId": "04dbcddb-bc21-46b9-cd50-5d30343022c4",
        "colab": {
          "base_uri": "https://localhost:8080/"
        }
      },
      "source": [
        "CA_labeled_data_level0 = CA_combined_data_filtered_new[(CA_combined_data_filtered_new['growth_label']=='minimal')]# & (CA_combined_data_filtered_new['County Name']== 'Amador County')]\r\n",
        "print(CA_labeled_data_level0.shape)\r\n",
        "\r\n",
        "CA_labeled_data_level3 = CA_combined_data_filtered_new[(CA_combined_data_filtered_new['growth_label']=='widespread')]# & (CA_combined_data_filtered_new['County Name']== 'Amador County')]\r\n",
        "print(CA_labeled_data_level3.shape)"
      ],
      "execution_count": 53,
      "outputs": [
        {
          "output_type": "stream",
          "text": [
            "(63, 17)\n",
            "(728, 17)\n"
          ],
          "name": "stdout"
        }
      ]
    },
    {
      "cell_type": "markdown",
      "metadata": {
        "id": "nDqy0c_3CqWY"
      },
      "source": [
        "### Daily Trend"
      ]
    },
    {
      "cell_type": "code",
      "metadata": {
        "colab": {
          "base_uri": "https://localhost:8080/",
          "height": 530
        },
        "id": "3D_mTheSoFWC",
        "outputId": "205436bd-3829-4d3c-f200-67bb1ef135e9"
      },
      "source": [
        "cols_plot = ['mask_rule_active','m50_index','grocery_and_pharmacy_percent_change_from_baseline','New Cases/100k population']\r\n",
        "axes = CA_labeled_data_level0[cols_plot].plot(marker='.', alpha=0.5, linestyle='None', figsize=(11, 9), subplots=True)\r\n",
        "for ax in axes:\r\n",
        "    ax.set_ylabel('Daily Trend')"
      ],
      "execution_count": 55,
      "outputs": [
        {
          "output_type": "display_data",
          "data": {
            "image/png": "[encoded data removed]",
            "text/plain": [
              "<Figure size 792x648 with 4 Axes>"
            ]
          },
          "metadata": {
            "tags": [],
            "needs_background": "light"
          }
        }
      ]
    },
    {
      "cell_type": "code",
      "metadata": {
        "colab": {
          "base_uri": "https://localhost:8080/",
          "height": 530
        },
        "id": "bOiOmS7XobBD",
        "outputId": "ec644c67-7b0f-4f80-b79d-f2dbf0475e97"
      },
      "source": [
        "cols_plot = ['mask_rule_active','m50_index','grocery_and_pharmacy_percent_change_from_baseline','New Cases/100k population']\r\n",
        "axes = CA_labeled_data_level3[cols_plot].plot(marker='.', alpha=0.5, linestyle='None', figsize=(11, 9), subplots=True)\r\n",
        "for ax in axes:\r\n",
        "    ax.set_ylabel('Daily Trend')"
      ],
      "execution_count": 56,
      "outputs": [
        {
          "output_type": "display_data",
          "data": {
            "image/png": "[encoded data removed]",
            "text/plain": [
              "<Figure size 792x648 with 4 Axes>"
            ]
          },
          "metadata": {
            "tags": [],
            "needs_background": "light"
          }
        }
      ]
    },
    {
      "cell_type": "markdown",
      "metadata": {
        "id": "FIBy--CFo_PC"
      },
      "source": [
        "### Seasonality"
      ]
    },
    {
      "cell_type": "code",
      "metadata": {
        "colab": {
          "base_uri": "https://localhost:8080/",
          "height": 654
        },
        "id": "bKc61sDepF1p",
        "outputId": "3be6d029-cc5d-4efe-9afa-381d12d9b9fa"
      },
      "source": [
        "fig, axes = plt.subplots(3, 1, figsize=(11, 10), sharex=True)\r\n",
        "for name, ax in zip(['m50_index','grocery_and_pharmacy_percent_change_from_baseline','New Cases/100k population'], axes):\r\n",
        "  sns.boxplot(data=CA_labeled_data_level0, x='FIPS', y=name, ax=ax)\r\n",
        "  ax.set_ylabel('Trend')\r\n",
        "  ax.set_title(name)\r\n",
        "# Remove the automatic x-axis label from all but the bottom subplot\r\n",
        "if ax != axes[-1]:\r\n",
        "    ax.set_xlabel('')\r\n",
        "plt.xticks(rotation=45)"
      ],
      "execution_count": 59,
      "outputs": [
        {
          "output_type": "execute_result",
          "data": {
            "text/plain": [
              "(array([0, 1, 2, 3, 4, 5, 6, 7]), <a list of 8 Text major ticklabel objects>)"
            ]
          },
          "metadata": {
            "tags": []
          },
          "execution_count": 59
        },
        {
          "output_type": "display_data",
          "data": {
            "image/png": "[encoded data removed]",
            "text/plain": [
              "<Figure size 792x720 with 3 Axes>"
            ]
          },
          "metadata": {
            "tags": [],
            "needs_background": "light"
          }
        }
      ]
    },
    {
      "cell_type": "code",
      "metadata": {
        "id": "yu-n6UihECpZ",
        "outputId": "4bf36f5b-dccb-4df4-d8db-3f487bd22315",
        "colab": {
          "base_uri": "https://localhost:8080/",
          "height": 704
        }
      },
      "source": [
        "fig, axes = plt.subplots(3, 1, figsize=(11, 10), sharex=True)\r\n",
        "for name, ax in zip(['m50_index','grocery_and_pharmacy_percent_change_from_baseline','New Cases/100k population'], axes):\r\n",
        "  sns.boxplot(data=CA_labeled_data_level3, x='FIPS', y=name, ax=ax)\r\n",
        "  ax.set_ylabel('Trend')\r\n",
        "  ax.set_title(name)\r\n",
        "# Remove the automatic x-axis label from all but the bottom subplot\r\n",
        "if ax != axes[-1]:\r\n",
        "    ax.set_xlabel('')\r\n",
        "plt.xticks(rotation=45)"
      ],
      "execution_count": 60,
      "outputs": [
        {
          "output_type": "execute_result",
          "data": {
            "text/plain": [
              "(array([ 0,  1,  2,  3,  4,  5,  6,  7,  8,  9, 10, 11, 12, 13, 14, 15, 16,\n",
              "        17, 18, 19, 20, 21, 22, 23, 24, 25, 26, 27, 28, 29, 30, 31, 32, 33,\n",
              "        34, 35, 36, 37, 38, 39, 40, 41, 42, 43, 44]),\n",
              " <a list of 45 Text major ticklabel objects>)"
            ]
          },
          "metadata": {
            "tags": []
          },
          "execution_count": 60
        },
        {
          "output_type": "display_data",
          "data": {
            "image/png": "[encoded data removed]",
            "text/plain": [
              "<Figure size 792x720 with 3 Axes>"
            ]
          },
          "metadata": {
            "tags": [],
            "needs_background": "light"
          }
        }
      ]
    },
    {
      "cell_type": "markdown",
      "metadata": {
        "id": "oFoBzQnPqFAa"
      },
      "source": [
        "### Box Plot"
      ]
    },
    {
      "cell_type": "code",
      "metadata": {
        "colab": {
          "base_uri": "https://localhost:8080/",
          "height": 311
        },
        "id": "9_1ZzjMVphQd",
        "outputId": "2493b52d-f88d-46fb-a56a-1ce055ef2a22"
      },
      "source": [
        "sns.boxplot(data=CA_labeled_data_level0, x='FIPS', y='m50_index')\r\n",
        "plt.xticks(rotation=45)"
      ],
      "execution_count": 61,
      "outputs": [
        {
          "output_type": "execute_result",
          "data": {
            "text/plain": [
              "(array([0, 1, 2, 3, 4, 5, 6, 7]), <a list of 8 Text major ticklabel objects>)"
            ]
          },
          "metadata": {
            "tags": []
          },
          "execution_count": 61
        },
        {
          "output_type": "display_data",
          "data": {
            "image/png": "[encoded data removed]",
            "text/plain": [
              "<Figure size 432x288 with 1 Axes>"
            ]
          },
          "metadata": {
            "tags": [],
            "needs_background": "light"
          }
        }
      ]
    },
    {
      "cell_type": "code",
      "metadata": {
        "id": "7aHlNzWqEUhB",
        "outputId": "16dddb0d-7718-43dd-f851-a5f224f11db9",
        "colab": {
          "base_uri": "https://localhost:8080/",
          "height": 362
        }
      },
      "source": [
        "sns.boxplot(data=CA_labeled_data_level3, x='FIPS', y='m50_index')\r\n",
        "plt.xticks(rotation=45)"
      ],
      "execution_count": 62,
      "outputs": [
        {
          "output_type": "execute_result",
          "data": {
            "text/plain": [
              "(array([ 0,  1,  2,  3,  4,  5,  6,  7,  8,  9, 10, 11, 12, 13, 14, 15, 16,\n",
              "        17, 18, 19, 20, 21, 22, 23, 24, 25, 26, 27, 28, 29, 30, 31, 32, 33,\n",
              "        34, 35, 36, 37, 38, 39, 40, 41, 42, 43, 44]),\n",
              " <a list of 45 Text major ticklabel objects>)"
            ]
          },
          "metadata": {
            "tags": []
          },
          "execution_count": 62
        },
        {
          "output_type": "display_data",
          "data": {
            "image/png": "[encoded data removed]",
            "text/plain": [
              "<Figure size 432x288 with 1 Axes>"
            ]
          },
          "metadata": {
            "tags": [],
            "needs_background": "light"
          }
        }
      ]
    },
    {
      "cell_type": "markdown",
      "metadata": {
        "id": "HiJXQySxq3Fq"
      },
      "source": [
        "### Resampling"
      ]
    },
    {
      "cell_type": "code",
      "metadata": {
        "colab": {
          "base_uri": "https://localhost:8080/",
          "height": 166
        },
        "id": "unuLJIRprCm6",
        "outputId": "b360d56c-fd45-4acb-8199-7ea916d94184"
      },
      "source": [
        "# Specify the data columns we want to include (i.e. exclude Year, Month, Weekday Name)\r\n",
        "data_columns = ['m50_index','transit_stations_percent_change_from_baseline','New cases']\r\n",
        "# Resample to weekly frequency, aggregating with mean\r\n",
        "opsd_weekly_mean = CA_combined_data_filtered_new[data_columns].resample('W').mean()\r\n",
        "opsd_weekly_mean.head(3)"
      ],
      "execution_count": null,
      "outputs": [
        {
          "output_type": "execute_result",
          "data": {
            "text/html": [
              "<div>\n",
              "<style scoped>\n",
              "    .dataframe tbody tr th:only-of-type {\n",
              "        vertical-align: middle;\n",
              "    }\n",
              "\n",
              "    .dataframe tbody tr th {\n",
              "        vertical-align: top;\n",
              "    }\n",
              "\n",
              "    .dataframe thead th {\n",
              "        text-align: right;\n",
              "    }\n",
              "</style>\n",
              "<table border=\"1\" class=\"dataframe\">\n",
              "  <thead>\n",
              "    <tr style=\"text-align: right;\">\n",
              "      <th></th>\n",
              "      <th>m50_index</th>\n",
              "      <th>transit_stations_percent_change_from_baseline</th>\n",
              "      <th>New cases</th>\n",
              "    </tr>\n",
              "    <tr>\n",
              "      <th>Date</th>\n",
              "      <th></th>\n",
              "      <th></th>\n",
              "      <th></th>\n",
              "    </tr>\n",
              "  </thead>\n",
              "  <tbody>\n",
              "    <tr>\n",
              "      <th>2020-12-06</th>\n",
              "      <td>33.947368</td>\n",
              "      <td>-36.964912</td>\n",
              "      <td>582.280702</td>\n",
              "    </tr>\n",
              "    <tr>\n",
              "      <th>2020-12-13</th>\n",
              "      <td>24.649351</td>\n",
              "      <td>-40.006494</td>\n",
              "      <td>734.012987</td>\n",
              "    </tr>\n",
              "    <tr>\n",
              "      <th>2020-12-20</th>\n",
              "      <td>18.959459</td>\n",
              "      <td>-31.972973</td>\n",
              "      <td>1087.175676</td>\n",
              "    </tr>\n",
              "  </tbody>\n",
              "</table>\n",
              "</div>"
            ],
            "text/plain": [
              "            m50_index  ...    New cases\n",
              "Date                   ...             \n",
              "2020-12-06  33.947368  ...   582.280702\n",
              "2020-12-13  24.649351  ...   734.012987\n",
              "2020-12-20  18.959459  ...  1087.175676\n",
              "\n",
              "[3 rows x 3 columns]"
            ]
          },
          "metadata": {
            "tags": []
          },
          "execution_count": 81
        }
      ]
    },
    {
      "cell_type": "code",
      "metadata": {
        "colab": {
          "base_uri": "https://localhost:8080/",
          "height": 337
        },
        "id": "Vt1fuArNrWea",
        "outputId": "0e76cc25-8f81-4456-bf0c-7324ff0823d2"
      },
      "source": [
        "# Start and end of the date range to extract\r\n",
        "start, end = '2020-12-05', '2020-12-10'\r\n",
        "# Plot daily and weekly resampled time series together\r\n",
        "fig, ax = plt.subplots()\r\n",
        "ax.plot(CA_combined_data_filtered_new.loc[start:end, 'm50_index'],\r\n",
        "marker='.', linestyle='-', linewidth=0.5, label='Daily')\r\n",
        "ax.plot(opsd_weekly_mean.loc[start:end, 'm50_index'],\r\n",
        "marker='o', markersize=8, linestyle='-', label='Weekly Mean Resample')\r\n",
        "ax.set_ylabel('m50_index')\r\n",
        "ax.legend();\r\n",
        "plt.xticks(rotation=45)"
      ],
      "execution_count": null,
      "outputs": [
        {
          "output_type": "execute_result",
          "data": {
            "text/plain": [
              "(array([737764., 737765., 737766., 737767., 737768., 737769.]),\n",
              " <a list of 6 Text major ticklabel objects>)"
            ]
          },
          "metadata": {
            "tags": []
          },
          "execution_count": 88
        },
        {
          "output_type": "display_data",
          "data": {
            "image/png": "[encoded data removed]",
            "text/plain": [
              "<Figure size 432x288 with 1 Axes>"
            ]
          },
          "metadata": {
            "tags": [],
            "needs_background": "light"
          }
        }
      ]
    },
    {
      "cell_type": "code",
      "metadata": {
        "colab": {
          "base_uri": "https://localhost:8080/",
          "height": 136
        },
        "id": "zycp9229r6Kj",
        "outputId": "763dd938-e0a7-4e64-b3a2-0d0d2feb2bdd"
      },
      "source": [
        "# Compute the monthly sums, setting the value to NaN for any month which has\r\n",
        "# fewer than 28 days of data\r\n",
        "opsd_monthly = CA_combined_data_filtered_new[data_columns].resample('M').sum(min_count=28)\r\n",
        "opsd_monthly.head(3)"
      ],
      "execution_count": null,
      "outputs": [
        {
          "output_type": "execute_result",
          "data": {
            "text/html": [
              "<div>\n",
              "<style scoped>\n",
              "    .dataframe tbody tr th:only-of-type {\n",
              "        vertical-align: middle;\n",
              "    }\n",
              "\n",
              "    .dataframe tbody tr th {\n",
              "        vertical-align: top;\n",
              "    }\n",
              "\n",
              "    .dataframe thead th {\n",
              "        text-align: right;\n",
              "    }\n",
              "</style>\n",
              "<table border=\"1\" class=\"dataframe\">\n",
              "  <thead>\n",
              "    <tr style=\"text-align: right;\">\n",
              "      <th></th>\n",
              "      <th>m50_index</th>\n",
              "      <th>transit_stations_percent_change_from_baseline</th>\n",
              "      <th>New cases</th>\n",
              "    </tr>\n",
              "    <tr>\n",
              "      <th>Date</th>\n",
              "      <th></th>\n",
              "      <th></th>\n",
              "      <th></th>\n",
              "    </tr>\n",
              "  </thead>\n",
              "  <tbody>\n",
              "    <tr>\n",
              "      <th>2020-12-31</th>\n",
              "      <td>21675</td>\n",
              "      <td>-34158.0</td>\n",
              "      <td>725972</td>\n",
              "    </tr>\n",
              "    <tr>\n",
              "      <th>2021-01-31</th>\n",
              "      <td>1471</td>\n",
              "      <td>-8008.0</td>\n",
              "      <td>201949</td>\n",
              "    </tr>\n",
              "  </tbody>\n",
              "</table>\n",
              "</div>"
            ],
            "text/plain": [
              "            m50_index  transit_stations_percent_change_from_baseline  New cases\n",
              "Date                                                                           \n",
              "2020-12-31      21675                                       -34158.0     725972\n",
              "2021-01-31       1471                                        -8008.0     201949"
            ]
          },
          "metadata": {
            "tags": []
          },
          "execution_count": 85
        }
      ]
    },
    {
      "cell_type": "code",
      "metadata": {
        "colab": {
          "base_uri": "https://localhost:8080/",
          "height": 285
        },
        "id": "mGYlb5SZsA8B",
        "outputId": "fa792c00-c8e0-414b-d45b-25789264a055"
      },
      "source": [
        "import matplotlib.dates as mdates\r\n",
        "fig, ax = plt.subplots()\r\n",
        "ax.plot(opsd_monthly['New cases'], color='black', label='New cases')\r\n",
        "opsd_monthly[['m50_index', 'transit_stations_percent_change_from_baseline']].plot.area(ax=ax, linewidth=0)\r\n",
        "ax.xaxis.set_major_locator(mdates.YearLocator())\r\n",
        "ax.legend()\r\n",
        "ax.set_ylabel('Monthly Total ');"
      ],
      "execution_count": null,
      "outputs": [
        {
          "output_type": "display_data",
          "data": {
            "image/png": "[encoded data removed]",
            "text/plain": [
              "<Figure size 432x288 with 1 Axes>"
            ]
          },
          "metadata": {
            "tags": [],
            "needs_background": "light"
          }
        }
      ]
    },
    {
      "cell_type": "markdown",
      "metadata": {
        "id": "sjhIpN5vH1mt"
      },
      "source": [
        "# 2.Load data - Maryland Inertia Data"
      ]
    },
    {
      "cell_type": "markdown",
      "metadata": {
        "id": "hU2UI2z1-o4q"
      },
      "source": [
        "## 2.1Preprocessed Data"
      ]
    },
    {
      "cell_type": "code",
      "metadata": {
        "colab": {
          "base_uri": "https://localhost:8080/",
          "height": 316
        },
        "id": "HhNh0htE-o4z",
        "outputId": "28d339f0-8c57-4d5d-b4d9-f20a9e2c2f94"
      },
      "source": [
        "CA_inertia_data = pd.read_csv('/content/drive/Shared drives/CMPE 295- Master Project/projectdata-2021/CA_processedMarylandData_Jan11.csv',low_memory=False)\n",
        "CA_inertia_data.head()"
      ],
      "execution_count": null,
      "outputs": [
        {
          "output_type": "execute_result",
          "data": {
            "text/html": [
              "<div>\n",
              "<style scoped>\n",
              "    .dataframe tbody tr th:only-of-type {\n",
              "        vertical-align: middle;\n",
              "    }\n",
              "\n",
              "    .dataframe tbody tr th {\n",
              "        vertical-align: top;\n",
              "    }\n",
              "\n",
              "    .dataframe thead th {\n",
              "        text-align: right;\n",
              "    }\n",
              "</style>\n",
              "<table border=\"1\" class=\"dataframe\">\n",
              "  <thead>\n",
              "    <tr style=\"text-align: right;\">\n",
              "      <th></th>\n",
              "      <th>countyFIPS</th>\n",
              "      <th>County Name</th>\n",
              "      <th>State</th>\n",
              "      <th>population</th>\n",
              "      <th>CTFIPS</th>\n",
              "      <th>CTNAME</th>\n",
              "      <th>STFIPS</th>\n",
              "      <th>Social.distancing.index</th>\n",
              "      <th>X..staying.home</th>\n",
              "      <th>Trips.person</th>\n",
              "      <th>X..out.of.county.trips</th>\n",
              "      <th>X..out.of.state.trips</th>\n",
              "      <th>Miles.person</th>\n",
              "      <th>Work.trips.person</th>\n",
              "      <th>Non.work.trips.person</th>\n",
              "      <th>New.COVID.cases</th>\n",
              "      <th>Population</th>\n",
              "      <th>X..change.in.consumption</th>\n",
              "      <th>date</th>\n",
              "      <th>Transit.mode.share</th>\n",
              "      <th>X..people.older.than.60</th>\n",
              "      <th>Median.income</th>\n",
              "      <th>X..African.Americans</th>\n",
              "      <th>X..Hispanic.Americans</th>\n",
              "      <th>X..Male</th>\n",
              "      <th>Population.density</th>\n",
              "      <th>Employment.density</th>\n",
              "      <th>X..hot.spots.1000.people</th>\n",
              "      <th>Hospital.beds.1000.people</th>\n",
              "      <th>ICUs.1000.people</th>\n",
              "      <th>X..contact.tracing.workers.1000.people</th>\n",
              "      <th>New.cases.1000.people</th>\n",
              "      <th>Active.cases.1000.people</th>\n",
              "      <th>X.days..decreasing.COVID.cases</th>\n",
              "      <th>X..hospital.bed.utilization</th>\n",
              "      <th>Testing.capacity</th>\n",
              "      <th>Tests.done.1000.people</th>\n",
              "      <th>X..ICU.utilization</th>\n",
              "      <th>Ventilator.shortage</th>\n",
              "      <th>Imported.COVID.cases</th>\n",
              "      <th>COVID.exposure.1000.people</th>\n",
              "      <th>X.days..decreasing.ILI.cases</th>\n",
              "      <th>Unemployment.claims.1000.people</th>\n",
              "      <th>Unemployment.rate</th>\n",
              "      <th>X..working.from.home</th>\n",
              "      <th>Cumulative.inflation.rate</th>\n",
              "      <th>COVID.death.rate</th>\n",
              "    </tr>\n",
              "  </thead>\n",
              "  <tbody>\n",
              "    <tr>\n",
              "      <th>0</th>\n",
              "      <td>6001</td>\n",
              "      <td>Alameda County</td>\n",
              "      <td>CA</td>\n",
              "      <td>1671329</td>\n",
              "      <td>6001</td>\n",
              "      <td>Alameda County</td>\n",
              "      <td>6</td>\n",
              "      <td>50</td>\n",
              "      <td>32</td>\n",
              "      <td>2.41</td>\n",
              "      <td>26.1</td>\n",
              "      <td>0.4</td>\n",
              "      <td>38.0</td>\n",
              "      <td>0.20</td>\n",
              "      <td>2.21</td>\n",
              "      <td>0</td>\n",
              "      <td>1666753</td>\n",
              "      <td>-21.7</td>\n",
              "      <td>2020-01-01</td>\n",
              "      <td>15.04</td>\n",
              "      <td>19</td>\n",
              "      <td>92574</td>\n",
              "      <td>10.5</td>\n",
              "      <td>22.5</td>\n",
              "      <td>49.11</td>\n",
              "      <td>2002</td>\n",
              "      <td>1155</td>\n",
              "      <td>131</td>\n",
              "      <td>2.05</td>\n",
              "      <td>0.22</td>\n",
              "      <td>NaN</td>\n",
              "      <td>0.0</td>\n",
              "      <td>0.0</td>\n",
              "      <td>0</td>\n",
              "      <td>54.0</td>\n",
              "      <td>0.0</td>\n",
              "      <td>0.0</td>\n",
              "      <td>0.0</td>\n",
              "      <td>0</td>\n",
              "      <td>0</td>\n",
              "      <td>0.0</td>\n",
              "      <td>0</td>\n",
              "      <td>0.9</td>\n",
              "      <td>3.9</td>\n",
              "      <td>5.7</td>\n",
              "      <td>0.3</td>\n",
              "      <td>0.0</td>\n",
              "    </tr>\n",
              "    <tr>\n",
              "      <th>1</th>\n",
              "      <td>6001</td>\n",
              "      <td>Alameda County</td>\n",
              "      <td>CA</td>\n",
              "      <td>1671329</td>\n",
              "      <td>6001</td>\n",
              "      <td>Alameda County</td>\n",
              "      <td>6</td>\n",
              "      <td>24</td>\n",
              "      <td>22</td>\n",
              "      <td>3.17</td>\n",
              "      <td>27.9</td>\n",
              "      <td>0.4</td>\n",
              "      <td>38.5</td>\n",
              "      <td>0.50</td>\n",
              "      <td>2.66</td>\n",
              "      <td>0</td>\n",
              "      <td>1666753</td>\n",
              "      <td>-5.8</td>\n",
              "      <td>2020-01-02</td>\n",
              "      <td>15.04</td>\n",
              "      <td>19</td>\n",
              "      <td>92574</td>\n",
              "      <td>10.5</td>\n",
              "      <td>22.5</td>\n",
              "      <td>49.11</td>\n",
              "      <td>2002</td>\n",
              "      <td>1155</td>\n",
              "      <td>131</td>\n",
              "      <td>2.05</td>\n",
              "      <td>0.22</td>\n",
              "      <td>NaN</td>\n",
              "      <td>0.0</td>\n",
              "      <td>0.0</td>\n",
              "      <td>0</td>\n",
              "      <td>54.0</td>\n",
              "      <td>0.0</td>\n",
              "      <td>0.0</td>\n",
              "      <td>0.0</td>\n",
              "      <td>0</td>\n",
              "      <td>0</td>\n",
              "      <td>0.0</td>\n",
              "      <td>0</td>\n",
              "      <td>0.9</td>\n",
              "      <td>3.9</td>\n",
              "      <td>5.7</td>\n",
              "      <td>0.3</td>\n",
              "      <td>0.0</td>\n",
              "    </tr>\n",
              "    <tr>\n",
              "      <th>2</th>\n",
              "      <td>6001</td>\n",
              "      <td>Alameda County</td>\n",
              "      <td>CA</td>\n",
              "      <td>1671329</td>\n",
              "      <td>6001</td>\n",
              "      <td>Alameda County</td>\n",
              "      <td>6</td>\n",
              "      <td>21</td>\n",
              "      <td>21</td>\n",
              "      <td>3.28</td>\n",
              "      <td>27.2</td>\n",
              "      <td>0.4</td>\n",
              "      <td>41.0</td>\n",
              "      <td>0.51</td>\n",
              "      <td>2.78</td>\n",
              "      <td>0</td>\n",
              "      <td>1666753</td>\n",
              "      <td>-1.5</td>\n",
              "      <td>2020-01-03</td>\n",
              "      <td>15.04</td>\n",
              "      <td>19</td>\n",
              "      <td>92574</td>\n",
              "      <td>10.5</td>\n",
              "      <td>22.5</td>\n",
              "      <td>49.11</td>\n",
              "      <td>2002</td>\n",
              "      <td>1155</td>\n",
              "      <td>131</td>\n",
              "      <td>2.05</td>\n",
              "      <td>0.22</td>\n",
              "      <td>NaN</td>\n",
              "      <td>0.0</td>\n",
              "      <td>0.0</td>\n",
              "      <td>0</td>\n",
              "      <td>54.0</td>\n",
              "      <td>0.0</td>\n",
              "      <td>0.0</td>\n",
              "      <td>0.0</td>\n",
              "      <td>0</td>\n",
              "      <td>0</td>\n",
              "      <td>0.0</td>\n",
              "      <td>0</td>\n",
              "      <td>0.9</td>\n",
              "      <td>3.9</td>\n",
              "      <td>5.7</td>\n",
              "      <td>0.3</td>\n",
              "      <td>0.0</td>\n",
              "    </tr>\n",
              "    <tr>\n",
              "      <th>3</th>\n",
              "      <td>6001</td>\n",
              "      <td>Alameda County</td>\n",
              "      <td>CA</td>\n",
              "      <td>1671329</td>\n",
              "      <td>6001</td>\n",
              "      <td>Alameda County</td>\n",
              "      <td>6</td>\n",
              "      <td>34</td>\n",
              "      <td>25</td>\n",
              "      <td>3.03</td>\n",
              "      <td>25.8</td>\n",
              "      <td>0.3</td>\n",
              "      <td>41.1</td>\n",
              "      <td>0.26</td>\n",
              "      <td>2.76</td>\n",
              "      <td>0</td>\n",
              "      <td>1666753</td>\n",
              "      <td>-2.2</td>\n",
              "      <td>2020-01-04</td>\n",
              "      <td>15.04</td>\n",
              "      <td>19</td>\n",
              "      <td>92574</td>\n",
              "      <td>10.5</td>\n",
              "      <td>22.5</td>\n",
              "      <td>49.11</td>\n",
              "      <td>2002</td>\n",
              "      <td>1155</td>\n",
              "      <td>131</td>\n",
              "      <td>2.05</td>\n",
              "      <td>0.22</td>\n",
              "      <td>NaN</td>\n",
              "      <td>0.0</td>\n",
              "      <td>0.0</td>\n",
              "      <td>0</td>\n",
              "      <td>54.0</td>\n",
              "      <td>0.0</td>\n",
              "      <td>0.0</td>\n",
              "      <td>0.0</td>\n",
              "      <td>0</td>\n",
              "      <td>0</td>\n",
              "      <td>0.0</td>\n",
              "      <td>0</td>\n",
              "      <td>0.9</td>\n",
              "      <td>3.9</td>\n",
              "      <td>5.7</td>\n",
              "      <td>0.3</td>\n",
              "      <td>0.0</td>\n",
              "    </tr>\n",
              "    <tr>\n",
              "      <th>4</th>\n",
              "      <td>6001</td>\n",
              "      <td>Alameda County</td>\n",
              "      <td>CA</td>\n",
              "      <td>1671329</td>\n",
              "      <td>6001</td>\n",
              "      <td>Alameda County</td>\n",
              "      <td>6</td>\n",
              "      <td>44</td>\n",
              "      <td>29</td>\n",
              "      <td>2.72</td>\n",
              "      <td>24.5</td>\n",
              "      <td>0.4</td>\n",
              "      <td>35.8</td>\n",
              "      <td>0.24</td>\n",
              "      <td>2.48</td>\n",
              "      <td>0</td>\n",
              "      <td>1666753</td>\n",
              "      <td>-12.1</td>\n",
              "      <td>2020-01-05</td>\n",
              "      <td>15.04</td>\n",
              "      <td>19</td>\n",
              "      <td>92574</td>\n",
              "      <td>10.5</td>\n",
              "      <td>22.5</td>\n",
              "      <td>49.11</td>\n",
              "      <td>2002</td>\n",
              "      <td>1155</td>\n",
              "      <td>131</td>\n",
              "      <td>2.05</td>\n",
              "      <td>0.22</td>\n",
              "      <td>NaN</td>\n",
              "      <td>0.0</td>\n",
              "      <td>0.0</td>\n",
              "      <td>0</td>\n",
              "      <td>54.0</td>\n",
              "      <td>0.0</td>\n",
              "      <td>0.0</td>\n",
              "      <td>0.0</td>\n",
              "      <td>0</td>\n",
              "      <td>0</td>\n",
              "      <td>0.0</td>\n",
              "      <td>0</td>\n",
              "      <td>1.3</td>\n",
              "      <td>3.9</td>\n",
              "      <td>5.7</td>\n",
              "      <td>0.3</td>\n",
              "      <td>0.0</td>\n",
              "    </tr>\n",
              "  </tbody>\n",
              "</table>\n",
              "</div>"
            ],
            "text/plain": [
              "   countyFIPS     County Name  ... Cumulative.inflation.rate  COVID.death.rate\n",
              "0        6001  Alameda County  ...                       0.3               0.0\n",
              "1        6001  Alameda County  ...                       0.3               0.0\n",
              "2        6001  Alameda County  ...                       0.3               0.0\n",
              "3        6001  Alameda County  ...                       0.3               0.0\n",
              "4        6001  Alameda County  ...                       0.3               0.0\n",
              "\n",
              "[5 rows x 47 columns]"
            ]
          },
          "metadata": {
            "tags": []
          },
          "execution_count": 29
        }
      ]
    },
    {
      "cell_type": "code",
      "metadata": {
        "colab": {
          "base_uri": "https://localhost:8080/"
        },
        "id": "933keJIr-o40",
        "outputId": "48acc8ff-06d5-4121-bc63-4118d8fac762"
      },
      "source": [
        "CA_inertia_data.dtypes"
      ],
      "execution_count": null,
      "outputs": [
        {
          "output_type": "execute_result",
          "data": {
            "text/plain": [
              "countyFIPS                                  int64\n",
              "County Name                                object\n",
              "State                                      object\n",
              "population                                  int64\n",
              "CTFIPS                                      int64\n",
              "CTNAME                                     object\n",
              "STFIPS                                      int64\n",
              "Social.distancing.index                     int64\n",
              "X..staying.home                             int64\n",
              "Trips.person                              float64\n",
              "X..out.of.county.trips                    float64\n",
              "X..out.of.state.trips                     float64\n",
              "Miles.person                              float64\n",
              "Work.trips.person                         float64\n",
              "Non.work.trips.person                     float64\n",
              "New.COVID.cases                             int64\n",
              "Population                                  int64\n",
              "X..change.in.consumption                  float64\n",
              "date                                       object\n",
              "Transit.mode.share                        float64\n",
              "X..people.older.than.60                     int64\n",
              "Median.income                               int64\n",
              "X..African.Americans                      float64\n",
              "X..Hispanic.Americans                     float64\n",
              "X..Male                                   float64\n",
              "Population.density                          int64\n",
              "Employment.density                          int64\n",
              "X..hot.spots.1000.people                    int64\n",
              "Hospital.beds.1000.people                 float64\n",
              "ICUs.1000.people                          float64\n",
              "X..contact.tracing.workers.1000.people    float64\n",
              "New.cases.1000.people                     float64\n",
              "Active.cases.1000.people                  float64\n",
              "X.days..decreasing.COVID.cases              int64\n",
              "X..hospital.bed.utilization               float64\n",
              "Testing.capacity                          float64\n",
              "Tests.done.1000.people                    float64\n",
              "X..ICU.utilization                        float64\n",
              "Ventilator.shortage                         int64\n",
              "Imported.COVID.cases                        int64\n",
              "COVID.exposure.1000.people                float64\n",
              "X.days..decreasing.ILI.cases                int64\n",
              "Unemployment.claims.1000.people           float64\n",
              "Unemployment.rate                         float64\n",
              "X..working.from.home                      float64\n",
              "Cumulative.inflation.rate                 float64\n",
              "COVID.death.rate                          float64\n",
              "dtype: object"
            ]
          },
          "metadata": {
            "tags": []
          },
          "execution_count": 30
        }
      ]
    },
    {
      "cell_type": "markdown",
      "metadata": {
        "id": "erKynRuA-xl6"
      },
      "source": [
        "## 2.2Labeled  Data"
      ]
    },
    {
      "cell_type": "code",
      "metadata": {
        "colab": {
          "base_uri": "https://localhost:8080/",
          "height": 333
        },
        "id": "KKg-hzvG-xl6",
        "outputId": "ac5b5936-ad69-43e2-f071-2d7e92cf7d21"
      },
      "source": [
        "CA_inertia_labeled_data = pd.read_csv('/content/drive/Shared drives/CMPE 295- Master Project/projectdata-2021/CA_MarylandData_Labeled_CDCGuideline_Jan15.csv',low_memory=False)\n",
        "CA_inertia_labeled_data.head()"
      ],
      "execution_count": null,
      "outputs": [
        {
          "output_type": "execute_result",
          "data": {
            "text/html": [
              "<div>\n",
              "<style scoped>\n",
              "    .dataframe tbody tr th:only-of-type {\n",
              "        vertical-align: middle;\n",
              "    }\n",
              "\n",
              "    .dataframe tbody tr th {\n",
              "        vertical-align: top;\n",
              "    }\n",
              "\n",
              "    .dataframe thead th {\n",
              "        text-align: right;\n",
              "    }\n",
              "</style>\n",
              "<table border=\"1\" class=\"dataframe\">\n",
              "  <thead>\n",
              "    <tr style=\"text-align: right;\">\n",
              "      <th></th>\n",
              "      <th>County Name</th>\n",
              "      <th>State</th>\n",
              "      <th>population</th>\n",
              "      <th>CTFIPS</th>\n",
              "      <th>CTNAME</th>\n",
              "      <th>STFIPS</th>\n",
              "      <th>Social.distancing.index</th>\n",
              "      <th>X..staying.home</th>\n",
              "      <th>Trips.person</th>\n",
              "      <th>X..out.of.county.trips</th>\n",
              "      <th>X..out.of.state.trips</th>\n",
              "      <th>Miles.person</th>\n",
              "      <th>Work.trips.person</th>\n",
              "      <th>Non.work.trips.person</th>\n",
              "      <th>New.COVID.cases</th>\n",
              "      <th>Population</th>\n",
              "      <th>X..change.in.consumption</th>\n",
              "      <th>date</th>\n",
              "      <th>Transit.mode.share</th>\n",
              "      <th>X..people.older.than.60</th>\n",
              "      <th>Median.income</th>\n",
              "      <th>X..African.Americans</th>\n",
              "      <th>X..Hispanic.Americans</th>\n",
              "      <th>X..Male</th>\n",
              "      <th>Population.density</th>\n",
              "      <th>Employment.density</th>\n",
              "      <th>X..hot.spots.1000.people</th>\n",
              "      <th>Hospital.beds.1000.people</th>\n",
              "      <th>ICUs.1000.people</th>\n",
              "      <th>X..contact.tracing.workers.1000.people</th>\n",
              "      <th>New.cases.1000.people</th>\n",
              "      <th>Active.cases.1000.people</th>\n",
              "      <th>X.days..decreasing.COVID.cases</th>\n",
              "      <th>X..hospital.bed.utilization</th>\n",
              "      <th>Testing.capacity</th>\n",
              "      <th>Tests.done.1000.people</th>\n",
              "      <th>X..ICU.utilization</th>\n",
              "      <th>Ventilator.shortage</th>\n",
              "      <th>Imported.COVID.cases</th>\n",
              "      <th>COVID.exposure.1000.people</th>\n",
              "      <th>X.days..decreasing.ILI.cases</th>\n",
              "      <th>Unemployment.claims.1000.people</th>\n",
              "      <th>Unemployment.rate</th>\n",
              "      <th>X..working.from.home</th>\n",
              "      <th>Cumulative.inflation.rate</th>\n",
              "      <th>COVID.death.rate</th>\n",
              "      <th>New Cases/100k population</th>\n",
              "      <th>rolling_avg_new_cases/100k</th>\n",
              "      <th>countyFIPS</th>\n",
              "      <th>growth_label</th>\n",
              "    </tr>\n",
              "  </thead>\n",
              "  <tbody>\n",
              "    <tr>\n",
              "      <th>0</th>\n",
              "      <td>Alameda County</td>\n",
              "      <td>CA</td>\n",
              "      <td>1671329</td>\n",
              "      <td>6001</td>\n",
              "      <td>Alameda County</td>\n",
              "      <td>6</td>\n",
              "      <td>50</td>\n",
              "      <td>32</td>\n",
              "      <td>2.41</td>\n",
              "      <td>26.1</td>\n",
              "      <td>0.4</td>\n",
              "      <td>38.0</td>\n",
              "      <td>0.20</td>\n",
              "      <td>2.21</td>\n",
              "      <td>0</td>\n",
              "      <td>1666753</td>\n",
              "      <td>-21.7</td>\n",
              "      <td>2020-01-01</td>\n",
              "      <td>15.04</td>\n",
              "      <td>19</td>\n",
              "      <td>92574</td>\n",
              "      <td>10.5</td>\n",
              "      <td>22.5</td>\n",
              "      <td>49.11</td>\n",
              "      <td>2002</td>\n",
              "      <td>1155</td>\n",
              "      <td>131</td>\n",
              "      <td>2.05</td>\n",
              "      <td>0.22</td>\n",
              "      <td>0.0</td>\n",
              "      <td>0.0</td>\n",
              "      <td>0.0</td>\n",
              "      <td>0</td>\n",
              "      <td>54.0</td>\n",
              "      <td>0.0</td>\n",
              "      <td>0.0</td>\n",
              "      <td>0.0</td>\n",
              "      <td>0</td>\n",
              "      <td>0</td>\n",
              "      <td>0.0</td>\n",
              "      <td>0</td>\n",
              "      <td>0.9</td>\n",
              "      <td>3.9</td>\n",
              "      <td>5.7</td>\n",
              "      <td>0.3</td>\n",
              "      <td>0.0</td>\n",
              "      <td>0.0</td>\n",
              "      <td>0.0</td>\n",
              "      <td>6001.0</td>\n",
              "      <td>minimal</td>\n",
              "    </tr>\n",
              "    <tr>\n",
              "      <th>1</th>\n",
              "      <td>Alameda County</td>\n",
              "      <td>CA</td>\n",
              "      <td>1671329</td>\n",
              "      <td>6001</td>\n",
              "      <td>Alameda County</td>\n",
              "      <td>6</td>\n",
              "      <td>24</td>\n",
              "      <td>22</td>\n",
              "      <td>3.17</td>\n",
              "      <td>27.9</td>\n",
              "      <td>0.4</td>\n",
              "      <td>38.5</td>\n",
              "      <td>0.50</td>\n",
              "      <td>2.66</td>\n",
              "      <td>0</td>\n",
              "      <td>1666753</td>\n",
              "      <td>-5.8</td>\n",
              "      <td>2020-01-02</td>\n",
              "      <td>15.04</td>\n",
              "      <td>19</td>\n",
              "      <td>92574</td>\n",
              "      <td>10.5</td>\n",
              "      <td>22.5</td>\n",
              "      <td>49.11</td>\n",
              "      <td>2002</td>\n",
              "      <td>1155</td>\n",
              "      <td>131</td>\n",
              "      <td>2.05</td>\n",
              "      <td>0.22</td>\n",
              "      <td>0.0</td>\n",
              "      <td>0.0</td>\n",
              "      <td>0.0</td>\n",
              "      <td>0</td>\n",
              "      <td>54.0</td>\n",
              "      <td>0.0</td>\n",
              "      <td>0.0</td>\n",
              "      <td>0.0</td>\n",
              "      <td>0</td>\n",
              "      <td>0</td>\n",
              "      <td>0.0</td>\n",
              "      <td>0</td>\n",
              "      <td>0.9</td>\n",
              "      <td>3.9</td>\n",
              "      <td>5.7</td>\n",
              "      <td>0.3</td>\n",
              "      <td>0.0</td>\n",
              "      <td>0.0</td>\n",
              "      <td>0.0</td>\n",
              "      <td>6001.0</td>\n",
              "      <td>minimal</td>\n",
              "    </tr>\n",
              "    <tr>\n",
              "      <th>2</th>\n",
              "      <td>Alameda County</td>\n",
              "      <td>CA</td>\n",
              "      <td>1671329</td>\n",
              "      <td>6001</td>\n",
              "      <td>Alameda County</td>\n",
              "      <td>6</td>\n",
              "      <td>21</td>\n",
              "      <td>21</td>\n",
              "      <td>3.28</td>\n",
              "      <td>27.2</td>\n",
              "      <td>0.4</td>\n",
              "      <td>41.0</td>\n",
              "      <td>0.51</td>\n",
              "      <td>2.78</td>\n",
              "      <td>0</td>\n",
              "      <td>1666753</td>\n",
              "      <td>-1.5</td>\n",
              "      <td>2020-01-03</td>\n",
              "      <td>15.04</td>\n",
              "      <td>19</td>\n",
              "      <td>92574</td>\n",
              "      <td>10.5</td>\n",
              "      <td>22.5</td>\n",
              "      <td>49.11</td>\n",
              "      <td>2002</td>\n",
              "      <td>1155</td>\n",
              "      <td>131</td>\n",
              "      <td>2.05</td>\n",
              "      <td>0.22</td>\n",
              "      <td>0.0</td>\n",
              "      <td>0.0</td>\n",
              "      <td>0.0</td>\n",
              "      <td>0</td>\n",
              "      <td>54.0</td>\n",
              "      <td>0.0</td>\n",
              "      <td>0.0</td>\n",
              "      <td>0.0</td>\n",
              "      <td>0</td>\n",
              "      <td>0</td>\n",
              "      <td>0.0</td>\n",
              "      <td>0</td>\n",
              "      <td>0.9</td>\n",
              "      <td>3.9</td>\n",
              "      <td>5.7</td>\n",
              "      <td>0.3</td>\n",
              "      <td>0.0</td>\n",
              "      <td>0.0</td>\n",
              "      <td>0.0</td>\n",
              "      <td>6001.0</td>\n",
              "      <td>minimal</td>\n",
              "    </tr>\n",
              "    <tr>\n",
              "      <th>3</th>\n",
              "      <td>Alameda County</td>\n",
              "      <td>CA</td>\n",
              "      <td>1671329</td>\n",
              "      <td>6001</td>\n",
              "      <td>Alameda County</td>\n",
              "      <td>6</td>\n",
              "      <td>34</td>\n",
              "      <td>25</td>\n",
              "      <td>3.03</td>\n",
              "      <td>25.8</td>\n",
              "      <td>0.3</td>\n",
              "      <td>41.1</td>\n",
              "      <td>0.26</td>\n",
              "      <td>2.76</td>\n",
              "      <td>0</td>\n",
              "      <td>1666753</td>\n",
              "      <td>-2.2</td>\n",
              "      <td>2020-01-04</td>\n",
              "      <td>15.04</td>\n",
              "      <td>19</td>\n",
              "      <td>92574</td>\n",
              "      <td>10.5</td>\n",
              "      <td>22.5</td>\n",
              "      <td>49.11</td>\n",
              "      <td>2002</td>\n",
              "      <td>1155</td>\n",
              "      <td>131</td>\n",
              "      <td>2.05</td>\n",
              "      <td>0.22</td>\n",
              "      <td>0.0</td>\n",
              "      <td>0.0</td>\n",
              "      <td>0.0</td>\n",
              "      <td>0</td>\n",
              "      <td>54.0</td>\n",
              "      <td>0.0</td>\n",
              "      <td>0.0</td>\n",
              "      <td>0.0</td>\n",
              "      <td>0</td>\n",
              "      <td>0</td>\n",
              "      <td>0.0</td>\n",
              "      <td>0</td>\n",
              "      <td>0.9</td>\n",
              "      <td>3.9</td>\n",
              "      <td>5.7</td>\n",
              "      <td>0.3</td>\n",
              "      <td>0.0</td>\n",
              "      <td>0.0</td>\n",
              "      <td>0.0</td>\n",
              "      <td>6001.0</td>\n",
              "      <td>minimal</td>\n",
              "    </tr>\n",
              "    <tr>\n",
              "      <th>4</th>\n",
              "      <td>Alameda County</td>\n",
              "      <td>CA</td>\n",
              "      <td>1671329</td>\n",
              "      <td>6001</td>\n",
              "      <td>Alameda County</td>\n",
              "      <td>6</td>\n",
              "      <td>44</td>\n",
              "      <td>29</td>\n",
              "      <td>2.72</td>\n",
              "      <td>24.5</td>\n",
              "      <td>0.4</td>\n",
              "      <td>35.8</td>\n",
              "      <td>0.24</td>\n",
              "      <td>2.48</td>\n",
              "      <td>0</td>\n",
              "      <td>1666753</td>\n",
              "      <td>-12.1</td>\n",
              "      <td>2020-01-05</td>\n",
              "      <td>15.04</td>\n",
              "      <td>19</td>\n",
              "      <td>92574</td>\n",
              "      <td>10.5</td>\n",
              "      <td>22.5</td>\n",
              "      <td>49.11</td>\n",
              "      <td>2002</td>\n",
              "      <td>1155</td>\n",
              "      <td>131</td>\n",
              "      <td>2.05</td>\n",
              "      <td>0.22</td>\n",
              "      <td>0.0</td>\n",
              "      <td>0.0</td>\n",
              "      <td>0.0</td>\n",
              "      <td>0</td>\n",
              "      <td>54.0</td>\n",
              "      <td>0.0</td>\n",
              "      <td>0.0</td>\n",
              "      <td>0.0</td>\n",
              "      <td>0</td>\n",
              "      <td>0</td>\n",
              "      <td>0.0</td>\n",
              "      <td>0</td>\n",
              "      <td>1.3</td>\n",
              "      <td>3.9</td>\n",
              "      <td>5.7</td>\n",
              "      <td>0.3</td>\n",
              "      <td>0.0</td>\n",
              "      <td>0.0</td>\n",
              "      <td>0.0</td>\n",
              "      <td>6001.0</td>\n",
              "      <td>minimal</td>\n",
              "    </tr>\n",
              "  </tbody>\n",
              "</table>\n",
              "</div>"
            ],
            "text/plain": [
              "      County Name State  ...  countyFIPS  growth_label\n",
              "0  Alameda County    CA  ...      6001.0       minimal\n",
              "1  Alameda County    CA  ...      6001.0       minimal\n",
              "2  Alameda County    CA  ...      6001.0       minimal\n",
              "3  Alameda County    CA  ...      6001.0       minimal\n",
              "4  Alameda County    CA  ...      6001.0       minimal\n",
              "\n",
              "[5 rows x 50 columns]"
            ]
          },
          "metadata": {
            "tags": []
          },
          "execution_count": 31
        }
      ]
    },
    {
      "cell_type": "code",
      "metadata": {
        "colab": {
          "base_uri": "https://localhost:8080/"
        },
        "id": "ihoJvRUx-xl7",
        "outputId": "4dd6c213-e621-449b-c776-45bc724de3ce"
      },
      "source": [
        "CA_inertia_labeled_data.dtypes"
      ],
      "execution_count": null,
      "outputs": [
        {
          "output_type": "execute_result",
          "data": {
            "text/plain": [
              "County Name                                object\n",
              "State                                      object\n",
              "population                                  int64\n",
              "CTFIPS                                      int64\n",
              "CTNAME                                     object\n",
              "STFIPS                                      int64\n",
              "Social.distancing.index                     int64\n",
              "X..staying.home                             int64\n",
              "Trips.person                              float64\n",
              "X..out.of.county.trips                    float64\n",
              "X..out.of.state.trips                     float64\n",
              "Miles.person                              float64\n",
              "Work.trips.person                         float64\n",
              "Non.work.trips.person                     float64\n",
              "New.COVID.cases                             int64\n",
              "Population                                  int64\n",
              "X..change.in.consumption                  float64\n",
              "date                                       object\n",
              "Transit.mode.share                        float64\n",
              "X..people.older.than.60                     int64\n",
              "Median.income                               int64\n",
              "X..African.Americans                      float64\n",
              "X..Hispanic.Americans                     float64\n",
              "X..Male                                   float64\n",
              "Population.density                          int64\n",
              "Employment.density                          int64\n",
              "X..hot.spots.1000.people                    int64\n",
              "Hospital.beds.1000.people                 float64\n",
              "ICUs.1000.people                          float64\n",
              "X..contact.tracing.workers.1000.people    float64\n",
              "New.cases.1000.people                     float64\n",
              "Active.cases.1000.people                  float64\n",
              "X.days..decreasing.COVID.cases              int64\n",
              "X..hospital.bed.utilization               float64\n",
              "Testing.capacity                          float64\n",
              "Tests.done.1000.people                    float64\n",
              "X..ICU.utilization                        float64\n",
              "Ventilator.shortage                         int64\n",
              "Imported.COVID.cases                        int64\n",
              "COVID.exposure.1000.people                float64\n",
              "X.days..decreasing.ILI.cases                int64\n",
              "Unemployment.claims.1000.people           float64\n",
              "Unemployment.rate                         float64\n",
              "X..working.from.home                      float64\n",
              "Cumulative.inflation.rate                 float64\n",
              "COVID.death.rate                          float64\n",
              "New Cases/100k population                 float64\n",
              "rolling_avg_new_cases/100k                float64\n",
              "countyFIPS                                float64\n",
              "growth_label                               object\n",
              "dtype: object"
            ]
          },
          "metadata": {
            "tags": []
          },
          "execution_count": 32
        }
      ]
    },
    {
      "cell_type": "code",
      "metadata": {
        "colab": {
          "base_uri": "https://localhost:8080/"
        },
        "id": "GGjT0h1P-xl7",
        "outputId": "34ff294e-f9f2-4ecb-99e0-e1d26d39f99b"
      },
      "source": [
        "CA_inertia_labeled_data.shape"
      ],
      "execution_count": null,
      "outputs": [
        {
          "output_type": "execute_result",
          "data": {
            "text/plain": [
              "(21054, 50)"
            ]
          },
          "metadata": {
            "tags": []
          },
          "execution_count": 33
        }
      ]
    },
    {
      "cell_type": "markdown",
      "metadata": {
        "id": "xxeFv1MxH1nJ"
      },
      "source": [
        "## Preprocessing data \n",
        "\n",
        "* drop na\n",
        "* convert categorical code"
      ]
    },
    {
      "cell_type": "code",
      "metadata": {
        "id": "BZzHASxTH1nN"
      },
      "source": [
        "CA_inertia_labeled_data = CA_inertia_labeled_data.fillna(0)"
      ],
      "execution_count": null,
      "outputs": []
    },
    {
      "cell_type": "code",
      "metadata": {
        "id": "OwDPP-ZbH1nX",
        "colab": {
          "base_uri": "https://localhost:8080/",
          "height": 391
        },
        "outputId": "0cf4d22d-f22c-4245-d582-16a5bf9934e0"
      },
      "source": [
        ""
      ],
      "execution_count": null,
      "outputs": [
        {
          "output_type": "execute_result",
          "data": {
            "text/html": [
              "<div>\n",
              "<style scoped>\n",
              "    .dataframe tbody tr th:only-of-type {\n",
              "        vertical-align: middle;\n",
              "    }\n",
              "\n",
              "    .dataframe tbody tr th {\n",
              "        vertical-align: top;\n",
              "    }\n",
              "\n",
              "    .dataframe thead th {\n",
              "        text-align: right;\n",
              "    }\n",
              "</style>\n",
              "<table border=\"1\" class=\"dataframe\">\n",
              "  <thead>\n",
              "    <tr style=\"text-align: right;\">\n",
              "      <th></th>\n",
              "      <th>Date</th>\n",
              "      <th>Province_State</th>\n",
              "      <th>FIPS</th>\n",
              "      <th>Confirmed</th>\n",
              "      <th>Deaths</th>\n",
              "      <th>New cases</th>\n",
              "      <th>New deaths</th>\n",
              "      <th>mask_rule_active</th>\n",
              "      <th>CTFIPS</th>\n",
              "      <th>CTNAME</th>\n",
              "      <th>STFIPS</th>\n",
              "      <th>Social distancing index</th>\n",
              "      <th>% staying home</th>\n",
              "      <th>Trips/person</th>\n",
              "      <th>% out-of-county trips</th>\n",
              "      <th>% out-of-state trips</th>\n",
              "      <th>Miles/person</th>\n",
              "      <th>Work trips/person</th>\n",
              "      <th>Non-work trips/person</th>\n",
              "      <th>New COVID cases</th>\n",
              "      <th>Population</th>\n",
              "      <th>% change in consumption</th>\n",
              "      <th>date</th>\n",
              "      <th>Transit mode share</th>\n",
              "      <th>% people older than 60</th>\n",
              "      <th>Median income</th>\n",
              "      <th>% African Americans</th>\n",
              "      <th>% Hispanic Americans</th>\n",
              "      <th>% Male</th>\n",
              "      <th>Population density</th>\n",
              "      <th>Employment density</th>\n",
              "      <th># hot spots/1000 people</th>\n",
              "      <th>Hospital beds/1000 people</th>\n",
              "      <th>ICUs/1000 people</th>\n",
              "      <th># contact tracing workers/1000 people</th>\n",
              "      <th># contact tracing workers/1000 people rank</th>\n",
              "      <th>% people older than 60 rank</th>\n",
              "      <th>COVID exposure/1000 people</th>\n",
              "      <th>#days: decreasing ILI cases</th>\n",
              "      <th>Unemployment claims/1000 people</th>\n",
              "      <th>Unemployment rate</th>\n",
              "      <th>% working from home</th>\n",
              "      <th>Cumulative inflation rate</th>\n",
              "      <th>COVID death rate</th>\n",
              "      <th>New cases/1000 people</th>\n",
              "      <th>Active cases/1000 people</th>\n",
              "      <th>#days: decreasing COVID cases</th>\n",
              "      <th>% hospital bed utilization</th>\n",
              "      <th>Testing capacity</th>\n",
              "      <th>Tests done/1000 people</th>\n",
              "      <th>% ICU utilization</th>\n",
              "      <th>Ventilator shortage</th>\n",
              "      <th>Imported COVID cases</th>\n",
              "      <th>growth_label</th>\n",
              "      <th>growth_code</th>\n",
              "    </tr>\n",
              "  </thead>\n",
              "  <tbody>\n",
              "    <tr>\n",
              "      <th>0</th>\n",
              "      <td>2020-01-22</td>\n",
              "      <td>California</td>\n",
              "      <td>6001</td>\n",
              "      <td>0</td>\n",
              "      <td>0</td>\n",
              "      <td>0</td>\n",
              "      <td>0</td>\n",
              "      <td>0</td>\n",
              "      <td>6001</td>\n",
              "      <td>Alameda County</td>\n",
              "      <td>6</td>\n",
              "      <td>18</td>\n",
              "      <td>20</td>\n",
              "      <td>3.29</td>\n",
              "      <td>29.4</td>\n",
              "      <td>0.3</td>\n",
              "      <td>35.9</td>\n",
              "      <td>0.55</td>\n",
              "      <td>2.74</td>\n",
              "      <td>0</td>\n",
              "      <td>1666753</td>\n",
              "      <td>-2.9</td>\n",
              "      <td>2020-01-22</td>\n",
              "      <td>15.04</td>\n",
              "      <td>19</td>\n",
              "      <td>92574</td>\n",
              "      <td>10.5</td>\n",
              "      <td>22.5</td>\n",
              "      <td>49.11</td>\n",
              "      <td>2002</td>\n",
              "      <td>1155</td>\n",
              "      <td>131</td>\n",
              "      <td>2.05</td>\n",
              "      <td>0.22</td>\n",
              "      <td>0.0</td>\n",
              "      <td>0.0</td>\n",
              "      <td>12</td>\n",
              "      <td>0.0</td>\n",
              "      <td>0</td>\n",
              "      <td>1.2</td>\n",
              "      <td>3.9</td>\n",
              "      <td>5.7</td>\n",
              "      <td>0.3</td>\n",
              "      <td>0.0</td>\n",
              "      <td>0.0</td>\n",
              "      <td>0.0</td>\n",
              "      <td>0</td>\n",
              "      <td>54.0</td>\n",
              "      <td>0.0</td>\n",
              "      <td>0.0</td>\n",
              "      <td>0.0</td>\n",
              "      <td>0</td>\n",
              "      <td>0</td>\n",
              "      <td>drastic_decrement</td>\n",
              "      <td>0</td>\n",
              "    </tr>\n",
              "    <tr>\n",
              "      <th>1</th>\n",
              "      <td>2020-01-23</td>\n",
              "      <td>California</td>\n",
              "      <td>6001</td>\n",
              "      <td>0</td>\n",
              "      <td>0</td>\n",
              "      <td>0</td>\n",
              "      <td>0</td>\n",
              "      <td>0</td>\n",
              "      <td>6001</td>\n",
              "      <td>Alameda County</td>\n",
              "      <td>6</td>\n",
              "      <td>15</td>\n",
              "      <td>19</td>\n",
              "      <td>3.36</td>\n",
              "      <td>29.6</td>\n",
              "      <td>0.3</td>\n",
              "      <td>35.4</td>\n",
              "      <td>0.56</td>\n",
              "      <td>2.80</td>\n",
              "      <td>0</td>\n",
              "      <td>1666753</td>\n",
              "      <td>-0.8</td>\n",
              "      <td>2020-01-23</td>\n",
              "      <td>15.04</td>\n",
              "      <td>19</td>\n",
              "      <td>92574</td>\n",
              "      <td>10.5</td>\n",
              "      <td>22.5</td>\n",
              "      <td>49.11</td>\n",
              "      <td>2002</td>\n",
              "      <td>1155</td>\n",
              "      <td>131</td>\n",
              "      <td>2.05</td>\n",
              "      <td>0.22</td>\n",
              "      <td>0.0</td>\n",
              "      <td>0.0</td>\n",
              "      <td>12</td>\n",
              "      <td>0.0</td>\n",
              "      <td>0</td>\n",
              "      <td>1.2</td>\n",
              "      <td>3.9</td>\n",
              "      <td>5.7</td>\n",
              "      <td>0.3</td>\n",
              "      <td>0.0</td>\n",
              "      <td>0.0</td>\n",
              "      <td>0.0</td>\n",
              "      <td>0</td>\n",
              "      <td>54.0</td>\n",
              "      <td>0.0</td>\n",
              "      <td>0.0</td>\n",
              "      <td>0.0</td>\n",
              "      <td>0</td>\n",
              "      <td>0</td>\n",
              "      <td>drastic_decrement</td>\n",
              "      <td>0</td>\n",
              "    </tr>\n",
              "    <tr>\n",
              "      <th>2</th>\n",
              "      <td>2020-01-24</td>\n",
              "      <td>California</td>\n",
              "      <td>6001</td>\n",
              "      <td>0</td>\n",
              "      <td>0</td>\n",
              "      <td>0</td>\n",
              "      <td>0</td>\n",
              "      <td>0</td>\n",
              "      <td>6001</td>\n",
              "      <td>Alameda County</td>\n",
              "      <td>6</td>\n",
              "      <td>15</td>\n",
              "      <td>19</td>\n",
              "      <td>3.48</td>\n",
              "      <td>29.0</td>\n",
              "      <td>0.3</td>\n",
              "      <td>39.1</td>\n",
              "      <td>0.53</td>\n",
              "      <td>2.94</td>\n",
              "      <td>0</td>\n",
              "      <td>1666753</td>\n",
              "      <td>4.1</td>\n",
              "      <td>2020-01-24</td>\n",
              "      <td>15.04</td>\n",
              "      <td>19</td>\n",
              "      <td>92574</td>\n",
              "      <td>10.5</td>\n",
              "      <td>22.5</td>\n",
              "      <td>49.11</td>\n",
              "      <td>2002</td>\n",
              "      <td>1155</td>\n",
              "      <td>131</td>\n",
              "      <td>2.05</td>\n",
              "      <td>0.22</td>\n",
              "      <td>0.0</td>\n",
              "      <td>0.0</td>\n",
              "      <td>12</td>\n",
              "      <td>0.0</td>\n",
              "      <td>0</td>\n",
              "      <td>1.2</td>\n",
              "      <td>3.9</td>\n",
              "      <td>5.7</td>\n",
              "      <td>0.3</td>\n",
              "      <td>0.0</td>\n",
              "      <td>0.0</td>\n",
              "      <td>0.0</td>\n",
              "      <td>0</td>\n",
              "      <td>54.0</td>\n",
              "      <td>0.0</td>\n",
              "      <td>0.0</td>\n",
              "      <td>0.0</td>\n",
              "      <td>0</td>\n",
              "      <td>0</td>\n",
              "      <td>drastic_decrement</td>\n",
              "      <td>0</td>\n",
              "    </tr>\n",
              "    <tr>\n",
              "      <th>3</th>\n",
              "      <td>2020-01-25</td>\n",
              "      <td>California</td>\n",
              "      <td>6001</td>\n",
              "      <td>0</td>\n",
              "      <td>0</td>\n",
              "      <td>0</td>\n",
              "      <td>0</td>\n",
              "      <td>0</td>\n",
              "      <td>6001</td>\n",
              "      <td>Alameda County</td>\n",
              "      <td>6</td>\n",
              "      <td>30</td>\n",
              "      <td>24</td>\n",
              "      <td>3.16</td>\n",
              "      <td>26.6</td>\n",
              "      <td>0.3</td>\n",
              "      <td>36.3</td>\n",
              "      <td>0.27</td>\n",
              "      <td>2.88</td>\n",
              "      <td>0</td>\n",
              "      <td>1666753</td>\n",
              "      <td>2.0</td>\n",
              "      <td>2020-01-25</td>\n",
              "      <td>15.04</td>\n",
              "      <td>19</td>\n",
              "      <td>92574</td>\n",
              "      <td>10.5</td>\n",
              "      <td>22.5</td>\n",
              "      <td>49.11</td>\n",
              "      <td>2002</td>\n",
              "      <td>1155</td>\n",
              "      <td>131</td>\n",
              "      <td>2.05</td>\n",
              "      <td>0.22</td>\n",
              "      <td>0.0</td>\n",
              "      <td>0.0</td>\n",
              "      <td>12</td>\n",
              "      <td>0.0</td>\n",
              "      <td>0</td>\n",
              "      <td>1.2</td>\n",
              "      <td>3.9</td>\n",
              "      <td>5.7</td>\n",
              "      <td>0.3</td>\n",
              "      <td>0.0</td>\n",
              "      <td>0.0</td>\n",
              "      <td>0.0</td>\n",
              "      <td>1</td>\n",
              "      <td>54.0</td>\n",
              "      <td>0.0</td>\n",
              "      <td>0.0</td>\n",
              "      <td>0.0</td>\n",
              "      <td>0</td>\n",
              "      <td>0</td>\n",
              "      <td>drastic_decrement</td>\n",
              "      <td>0</td>\n",
              "    </tr>\n",
              "    <tr>\n",
              "      <th>4</th>\n",
              "      <td>2020-01-26</td>\n",
              "      <td>California</td>\n",
              "      <td>6001</td>\n",
              "      <td>0</td>\n",
              "      <td>0</td>\n",
              "      <td>0</td>\n",
              "      <td>0</td>\n",
              "      <td>0</td>\n",
              "      <td>6001</td>\n",
              "      <td>Alameda County</td>\n",
              "      <td>6</td>\n",
              "      <td>41</td>\n",
              "      <td>28</td>\n",
              "      <td>2.80</td>\n",
              "      <td>25.6</td>\n",
              "      <td>0.4</td>\n",
              "      <td>35.4</td>\n",
              "      <td>0.24</td>\n",
              "      <td>2.56</td>\n",
              "      <td>0</td>\n",
              "      <td>1666753</td>\n",
              "      <td>-9.3</td>\n",
              "      <td>2020-01-26</td>\n",
              "      <td>15.04</td>\n",
              "      <td>19</td>\n",
              "      <td>92574</td>\n",
              "      <td>10.5</td>\n",
              "      <td>22.5</td>\n",
              "      <td>49.11</td>\n",
              "      <td>2002</td>\n",
              "      <td>1155</td>\n",
              "      <td>131</td>\n",
              "      <td>2.05</td>\n",
              "      <td>0.22</td>\n",
              "      <td>0.0</td>\n",
              "      <td>0.0</td>\n",
              "      <td>12</td>\n",
              "      <td>0.0</td>\n",
              "      <td>0</td>\n",
              "      <td>1.1</td>\n",
              "      <td>3.9</td>\n",
              "      <td>5.7</td>\n",
              "      <td>0.3</td>\n",
              "      <td>0.0</td>\n",
              "      <td>0.0</td>\n",
              "      <td>0.0</td>\n",
              "      <td>2</td>\n",
              "      <td>54.0</td>\n",
              "      <td>0.0</td>\n",
              "      <td>0.0</td>\n",
              "      <td>0.0</td>\n",
              "      <td>0</td>\n",
              "      <td>0</td>\n",
              "      <td>drastic_decrement</td>\n",
              "      <td>0</td>\n",
              "    </tr>\n",
              "  </tbody>\n",
              "</table>\n",
              "</div>"
            ],
            "text/plain": [
              "         Date Province_State  ...       growth_label  growth_code\n",
              "0  2020-01-22     California  ...  drastic_decrement            0\n",
              "1  2020-01-23     California  ...  drastic_decrement            0\n",
              "2  2020-01-24     California  ...  drastic_decrement            0\n",
              "3  2020-01-25     California  ...  drastic_decrement            0\n",
              "4  2020-01-26     California  ...  drastic_decrement            0\n",
              "\n",
              "[5 rows x 55 columns]"
            ]
          },
          "metadata": {
            "tags": []
          },
          "execution_count": 170
        }
      ]
    },
    {
      "cell_type": "code",
      "metadata": {
        "id": "Vr7663BUH1na",
        "colab": {
          "base_uri": "https://localhost:8080/",
          "height": 35
        },
        "outputId": "340ac883-0f9c-4890-cf81-752d398df714"
      },
      "source": [
        "CA_inertia_labeled_data['growth_code'].unique()"
      ],
      "execution_count": null,
      "outputs": [
        {
          "output_type": "execute_result",
          "data": {
            "text/plain": [
              "array([0, 3, 2, 1], dtype=int8)"
            ]
          },
          "metadata": {
            "tags": []
          },
          "execution_count": 171
        }
      ]
    },
    {
      "cell_type": "code",
      "metadata": {
        "id": "_ZXlJGB9I1jI",
        "colab": {
          "base_uri": "https://localhost:8080/"
        },
        "outputId": "325da6dc-5d88-4943-ca6e-9187ca2897b4"
      },
      "source": [
        "CA_inertia_labeled_data.columns"
      ],
      "execution_count": null,
      "outputs": [
        {
          "output_type": "execute_result",
          "data": {
            "text/plain": [
              "Index(['County Name', 'State', 'population', 'CTFIPS', 'CTNAME', 'STFIPS',\n",
              "       'Social.distancing.index', 'X..staying.home', 'Trips.person',\n",
              "       'X..out.of.county.trips', 'X..out.of.state.trips', 'Miles.person',\n",
              "       'Work.trips.person', 'Non.work.trips.person', 'New.COVID.cases',\n",
              "       'Population', 'X..change.in.consumption', 'date', 'Transit.mode.share',\n",
              "       'X..people.older.than.60', 'Median.income', 'X..African.Americans',\n",
              "       'X..Hispanic.Americans', 'X..Male', 'Population.density',\n",
              "       'Employment.density', 'X..hot.spots.1000.people',\n",
              "       'Hospital.beds.1000.people', 'ICUs.1000.people',\n",
              "       'X..contact.tracing.workers.1000.people', 'New.cases.1000.people',\n",
              "       'Active.cases.1000.people', 'X.days..decreasing.COVID.cases',\n",
              "       'X..hospital.bed.utilization', 'Testing.capacity',\n",
              "       'Tests.done.1000.people', 'X..ICU.utilization', 'Ventilator.shortage',\n",
              "       'Imported.COVID.cases', 'COVID.exposure.1000.people',\n",
              "       'X.days..decreasing.ILI.cases', 'Unemployment.claims.1000.people',\n",
              "       'Unemployment.rate', 'X..working.from.home',\n",
              "       'Cumulative.inflation.rate', 'COVID.death.rate',\n",
              "       'New Cases/100k population', 'rolling_avg_new_cases/100k', 'countyFIPS',\n",
              "       'growth_label'],\n",
              "      dtype='object')"
            ]
          },
          "metadata": {
            "tags": []
          },
          "execution_count": 35
        }
      ]
    },
    {
      "cell_type": "code",
      "metadata": {
        "id": "8hXAiKlp_vwM"
      },
      "source": [
        ""
      ],
      "execution_count": null,
      "outputs": []
    },
    {
      "cell_type": "markdown",
      "metadata": {
        "id": "ziwP8Yim_wG9"
      },
      "source": [
        "## Feature Importance: Gini-Coefficient"
      ]
    },
    {
      "cell_type": "code",
      "metadata": {
        "colab": {
          "base_uri": "https://localhost:8080/"
        },
        "id": "LT6POhZY_wG9",
        "outputId": "05556537-a978-4080-b011-14d7cb13938c"
      },
      "source": [
        "CA_inertia_data.columns"
      ],
      "execution_count": null,
      "outputs": [
        {
          "output_type": "execute_result",
          "data": {
            "text/plain": [
              "Index(['countyFIPS', 'County Name', 'State', 'population', 'CTFIPS', 'CTNAME',\n",
              "       'STFIPS', 'Social.distancing.index', 'X..staying.home', 'Trips.person',\n",
              "       'X..out.of.county.trips', 'X..out.of.state.trips', 'Miles.person',\n",
              "       'Work.trips.person', 'Non.work.trips.person', 'New.COVID.cases',\n",
              "       'Population', 'X..change.in.consumption', 'date', 'Transit.mode.share',\n",
              "       'X..people.older.than.60', 'Median.income', 'X..African.Americans',\n",
              "       'X..Hispanic.Americans', 'X..Male', 'Population.density',\n",
              "       'Employment.density', 'X..hot.spots.1000.people',\n",
              "       'Hospital.beds.1000.people', 'ICUs.1000.people',\n",
              "       'X..contact.tracing.workers.1000.people', 'New.cases.1000.people',\n",
              "       'Active.cases.1000.people', 'X.days..decreasing.COVID.cases',\n",
              "       'X..hospital.bed.utilization', 'Testing.capacity',\n",
              "       'Tests.done.1000.people', 'X..ICU.utilization', 'Ventilator.shortage',\n",
              "       'Imported.COVID.cases', 'COVID.exposure.1000.people',\n",
              "       'X.days..decreasing.ILI.cases', 'Unemployment.claims.1000.people',\n",
              "       'Unemployment.rate', 'X..working.from.home',\n",
              "       'Cumulative.inflation.rate', 'COVID.death.rate'],\n",
              "      dtype='object')"
            ]
          },
          "metadata": {
            "tags": []
          },
          "execution_count": 36
        }
      ]
    },
    {
      "cell_type": "code",
      "metadata": {
        "colab": {
          "base_uri": "https://localhost:8080/"
        },
        "id": "Ond9DGleAHeG",
        "outputId": "bb1f9a5f-a998-4991-e278-375eee2abb1f"
      },
      "source": [
        "CA_inertia_data.dtypes"
      ],
      "execution_count": null,
      "outputs": [
        {
          "output_type": "execute_result",
          "data": {
            "text/plain": [
              "countyFIPS                                  int64\n",
              "County Name                                object\n",
              "State                                      object\n",
              "population                                  int64\n",
              "CTFIPS                                      int64\n",
              "CTNAME                                     object\n",
              "STFIPS                                      int64\n",
              "Social.distancing.index                     int64\n",
              "X..staying.home                             int64\n",
              "Trips.person                              float64\n",
              "X..out.of.county.trips                    float64\n",
              "X..out.of.state.trips                     float64\n",
              "Miles.person                              float64\n",
              "Work.trips.person                         float64\n",
              "Non.work.trips.person                     float64\n",
              "New.COVID.cases                             int64\n",
              "Population                                  int64\n",
              "X..change.in.consumption                  float64\n",
              "date                                       object\n",
              "Transit.mode.share                        float64\n",
              "X..people.older.than.60                     int64\n",
              "Median.income                               int64\n",
              "X..African.Americans                      float64\n",
              "X..Hispanic.Americans                     float64\n",
              "X..Male                                   float64\n",
              "Population.density                          int64\n",
              "Employment.density                          int64\n",
              "X..hot.spots.1000.people                    int64\n",
              "Hospital.beds.1000.people                 float64\n",
              "ICUs.1000.people                          float64\n",
              "X..contact.tracing.workers.1000.people    float64\n",
              "New.cases.1000.people                     float64\n",
              "Active.cases.1000.people                  float64\n",
              "X.days..decreasing.COVID.cases              int64\n",
              "X..hospital.bed.utilization               float64\n",
              "Testing.capacity                          float64\n",
              "Tests.done.1000.people                    float64\n",
              "X..ICU.utilization                        float64\n",
              "Ventilator.shortage                         int64\n",
              "Imported.COVID.cases                        int64\n",
              "COVID.exposure.1000.people                float64\n",
              "X.days..decreasing.ILI.cases                int64\n",
              "Unemployment.claims.1000.people           float64\n",
              "Unemployment.rate                         float64\n",
              "X..working.from.home                      float64\n",
              "Cumulative.inflation.rate                 float64\n",
              "COVID.death.rate                          float64\n",
              "dtype: object"
            ]
          },
          "metadata": {
            "tags": []
          },
          "execution_count": 39
        }
      ]
    },
    {
      "cell_type": "code",
      "metadata": {
        "id": "athW9U_4_wG-"
      },
      "source": [
        "def gini(list_of_values):\r\n",
        "    sorted_list = sorted(list_of_values)\r\n",
        "    height, area = 0, 0\r\n",
        "    for value in sorted_list:\r\n",
        "        height += value\r\n",
        "        area += height - value / 2.\r\n",
        "    fair_area = height * len(list_of_values) / 2.\r\n",
        "    return (fair_area - area) / fair_area"
      ],
      "execution_count": null,
      "outputs": []
    },
    {
      "cell_type": "code",
      "metadata": {
        "colab": {
          "base_uri": "https://localhost:8080/"
        },
        "id": "PcwtitDg_wG-",
        "outputId": "13ceb1b5-28bb-44e7-a8f0-9ea78d80a860"
      },
      "source": [
        "feature_cols=['countyFIPS','population','Social.distancing.index', 'X..staying.home', 'Trips.person',\r\n",
        "       'X..out.of.county.trips', 'X..out.of.state.trips', 'Miles.person',\r\n",
        "       'Work.trips.person', 'Non.work.trips.person', 'New.COVID.cases',\r\n",
        "       'Population', 'X..change.in.consumption', 'Transit.mode.share',\r\n",
        "       'X..people.older.than.60', 'Median.income', 'X..African.Americans',\r\n",
        "       'X..Hispanic.Americans', 'X..Male', 'Population.density',\r\n",
        "       'Employment.density', 'X..hot.spots.1000.people',\r\n",
        "       'Hospital.beds.1000.people', 'ICUs.1000.people',\r\n",
        "        'New.cases.1000.people',\r\n",
        "       'Active.cases.1000.people', 'X.days..decreasing.COVID.cases',\r\n",
        "       'X..hospital.bed.utilization', 'Testing.capacity',\r\n",
        "       'Tests.done.1000.people', 'X..ICU.utilization', 'Ventilator.shortage',\r\n",
        "       'Imported.COVID.cases', 'COVID.exposure.1000.people',\r\n",
        "       'X.days..decreasing.ILI.cases', 'Unemployment.claims.1000.people',\r\n",
        "       'Unemployment.rate', 'X..working.from.home',\r\n",
        "       'Cumulative.inflation.rate', 'COVID.death.rate']\r\n",
        "gini_values = []\r\n",
        "for col in feature_cols:\r\n",
        "  dataset = CA_inertia_data[col].values.tolist()\r\n",
        "  value = gini(dataset)\r\n",
        "  print('cols ',col,' - gini coeff is :',value)\r\n",
        "  gini_values.append(value)"
      ],
      "execution_count": null,
      "outputs": [
        {
          "output_type": "stream",
          "text": [
            "cols  countyFIPS  - gini coeff is : 0.003190423606288635\n",
            "cols  population  - gini coeff is : 0.7271503279831434\n",
            "cols  Social.distancing.index  - gini coeff is : 0.2101171823534342\n",
            "cols  X..staying.home  - gini coeff is : 0.12849262222403574\n",
            "cols  Trips.person  - gini coeff is : 0.08263099390364957\n",
            "cols  X..out.of.county.trips  - gini coeff is : 0.2598636242639775\n",
            "cols  X..out.of.state.trips  - gini coeff is : 0.781262587537032\n",
            "cols  Miles.person  - gini coeff is : 0.1947003935074699\n",
            "cols  Work.trips.person  - gini coeff is : 0.21275655792872486\n",
            "cols  Non.work.trips.person  - gini coeff is : 0.08391715245194091\n",
            "cols  New.COVID.cases  - gini coeff is : 0.9029034514283721\n",
            "cols  Population  - gini coeff is : 0.7274984244599945\n",
            "cols  X..change.in.consumption  - gini coeff is : -1.4436803085730106\n",
            "cols  Transit.mode.share  - gini coeff is : 0.662719746084874\n",
            "cols  X..people.older.than.60  - gini coeff is : 0.1587058941459503\n",
            "cols  Median.income  - gini coeff is : 0.15590487167885286\n",
            "cols  X..African.Americans  - gini coeff is : 0.47671112179101544\n",
            "cols  X..Hispanic.Americans  - gini coeff is : 0.3276411032600465\n",
            "cols  X..Male  - gini coeff is : 0.018784485256227383\n",
            "cols  Population.density  - gini coeff is : 0.7425577284587974\n",
            "cols  Employment.density  - gini coeff is : 0.786514733389812\n",
            "cols  X..hot.spots.1000.people  - gini coeff is : 0.17289333700391626\n",
            "cols  Hospital.beds.1000.people  - gini coeff is : 2.5738664237340375e-13\n",
            "cols  ICUs.1000.people  - gini coeff is : -3.80476240615886e-14\n",
            "cols  New.cases.1000.people  - gini coeff is : 0.7558373921682661\n",
            "cols  Active.cases.1000.people  - gini coeff is : 0.5960845191916226\n",
            "cols  X.days..decreasing.COVID.cases  - gini coeff is : 0.8171479437700038\n",
            "cols  X..hospital.bed.utilization  - gini coeff is : 0.03868256401783079\n",
            "cols  Testing.capacity  - gini coeff is : 0.3469839240440444\n",
            "cols  Tests.done.1000.people  - gini coeff is : 0.5996492784111822\n",
            "cols  X..ICU.utilization  - gini coeff is : 0.4199009366724891\n",
            "cols  Ventilator.shortage  - gini coeff is : 0.4682924293064032\n",
            "cols  Imported.COVID.cases  - gini coeff is : 0.8083351520813328\n",
            "cols  COVID.exposure.1000.people  - gini coeff is : 0.6481252989932061\n",
            "cols  X.days..decreasing.ILI.cases  - gini coeff is : 0.47620491823994743\n",
            "cols  Unemployment.claims.1000.people  - gini coeff is : 0.3721185157576314\n",
            "cols  Unemployment.rate  - gini coeff is : 0.21597608173762198\n",
            "cols  X..working.from.home  - gini coeff is : 0.2013369879801856\n",
            "cols  Cumulative.inflation.rate  - gini coeff is : 0.3402331287489715\n",
            "cols  COVID.death.rate  - gini coeff is : 0.561883911120399\n"
          ],
          "name": "stdout"
        }
      ]
    },
    {
      "cell_type": "markdown",
      "metadata": {
        "id": "_ejgzSENH1nh"
      },
      "source": [
        "## Feature Importance: Random Forest classifier(Gini Score)"
      ]
    },
    {
      "cell_type": "markdown",
      "metadata": {
        "id": "iBeCc-0RAfS9"
      },
      "source": [
        "* old for reference\r\n",
        "\r\n",
        "inertia_feature_labels = ['mask_rule_active','Social distancing index','% staying home', 'Trips/person', '% out-of-county trips',\r\n",
        "       '% out-of-state trips', 'Miles/person', 'Work trips/person','Non-work trips/person','% change in consumption',\r\n",
        "       'Transit mode share','% people older than 60', 'Median income', '% African Americans', '% Hispanic Americans',\r\n",
        "       '% Male', 'Population density','Employment density', '# hot spots/1000 people','Hospital beds/1000 people', 'ICUs/1000 people',\r\n",
        "       '# contact tracing workers/1000 people rank','% people older than 60 rank', 'COVID exposure/1000 people',\r\n",
        "       'Unemployment claims/1000 people', 'Unemployment rate','% working from home', 'Cumulative inflation rate',\r\n",
        "       '% hospital bed utilization', 'Testing capacity','Tests done/1000 people', '% ICU utilization', 'Ventilator shortage'\r\n",
        "       ]"
      ]
    },
    {
      "cell_type": "code",
      "metadata": {
        "colab": {
          "base_uri": "https://localhost:8080/",
          "height": 333
        },
        "id": "2rZ_vutzBFrl",
        "outputId": "16b4bc74-f066-42ad-c88e-b264d40536e4"
      },
      "source": [
        "CA_inertia_labeled_data['growth_code'] = CA_inertia_labeled_data['growth_label'].astype('category').cat.codes\r\n",
        "CA_inertia_labeled_data.head()"
      ],
      "execution_count": null,
      "outputs": [
        {
          "output_type": "execute_result",
          "data": {
            "text/html": [
              "<div>\n",
              "<style scoped>\n",
              "    .dataframe tbody tr th:only-of-type {\n",
              "        vertical-align: middle;\n",
              "    }\n",
              "\n",
              "    .dataframe tbody tr th {\n",
              "        vertical-align: top;\n",
              "    }\n",
              "\n",
              "    .dataframe thead th {\n",
              "        text-align: right;\n",
              "    }\n",
              "</style>\n",
              "<table border=\"1\" class=\"dataframe\">\n",
              "  <thead>\n",
              "    <tr style=\"text-align: right;\">\n",
              "      <th></th>\n",
              "      <th>County Name</th>\n",
              "      <th>State</th>\n",
              "      <th>population</th>\n",
              "      <th>CTFIPS</th>\n",
              "      <th>CTNAME</th>\n",
              "      <th>STFIPS</th>\n",
              "      <th>Social.distancing.index</th>\n",
              "      <th>X..staying.home</th>\n",
              "      <th>Trips.person</th>\n",
              "      <th>X..out.of.county.trips</th>\n",
              "      <th>X..out.of.state.trips</th>\n",
              "      <th>Miles.person</th>\n",
              "      <th>Work.trips.person</th>\n",
              "      <th>Non.work.trips.person</th>\n",
              "      <th>New.COVID.cases</th>\n",
              "      <th>Population</th>\n",
              "      <th>X..change.in.consumption</th>\n",
              "      <th>date</th>\n",
              "      <th>Transit.mode.share</th>\n",
              "      <th>X..people.older.than.60</th>\n",
              "      <th>Median.income</th>\n",
              "      <th>X..African.Americans</th>\n",
              "      <th>X..Hispanic.Americans</th>\n",
              "      <th>X..Male</th>\n",
              "      <th>Population.density</th>\n",
              "      <th>Employment.density</th>\n",
              "      <th>X..hot.spots.1000.people</th>\n",
              "      <th>Hospital.beds.1000.people</th>\n",
              "      <th>ICUs.1000.people</th>\n",
              "      <th>X..contact.tracing.workers.1000.people</th>\n",
              "      <th>New.cases.1000.people</th>\n",
              "      <th>Active.cases.1000.people</th>\n",
              "      <th>X.days..decreasing.COVID.cases</th>\n",
              "      <th>X..hospital.bed.utilization</th>\n",
              "      <th>Testing.capacity</th>\n",
              "      <th>Tests.done.1000.people</th>\n",
              "      <th>X..ICU.utilization</th>\n",
              "      <th>Ventilator.shortage</th>\n",
              "      <th>Imported.COVID.cases</th>\n",
              "      <th>COVID.exposure.1000.people</th>\n",
              "      <th>X.days..decreasing.ILI.cases</th>\n",
              "      <th>Unemployment.claims.1000.people</th>\n",
              "      <th>Unemployment.rate</th>\n",
              "      <th>X..working.from.home</th>\n",
              "      <th>Cumulative.inflation.rate</th>\n",
              "      <th>COVID.death.rate</th>\n",
              "      <th>New Cases/100k population</th>\n",
              "      <th>rolling_avg_new_cases/100k</th>\n",
              "      <th>countyFIPS</th>\n",
              "      <th>growth_label</th>\n",
              "      <th>growth_code</th>\n",
              "    </tr>\n",
              "  </thead>\n",
              "  <tbody>\n",
              "    <tr>\n",
              "      <th>0</th>\n",
              "      <td>Alameda County</td>\n",
              "      <td>CA</td>\n",
              "      <td>1671329</td>\n",
              "      <td>6001</td>\n",
              "      <td>Alameda County</td>\n",
              "      <td>6</td>\n",
              "      <td>50</td>\n",
              "      <td>32</td>\n",
              "      <td>2.41</td>\n",
              "      <td>26.1</td>\n",
              "      <td>0.4</td>\n",
              "      <td>38.0</td>\n",
              "      <td>0.20</td>\n",
              "      <td>2.21</td>\n",
              "      <td>0</td>\n",
              "      <td>1666753</td>\n",
              "      <td>-21.7</td>\n",
              "      <td>2020-01-01</td>\n",
              "      <td>15.04</td>\n",
              "      <td>19</td>\n",
              "      <td>92574</td>\n",
              "      <td>10.5</td>\n",
              "      <td>22.5</td>\n",
              "      <td>49.11</td>\n",
              "      <td>2002</td>\n",
              "      <td>1155</td>\n",
              "      <td>131</td>\n",
              "      <td>2.05</td>\n",
              "      <td>0.22</td>\n",
              "      <td>0.0</td>\n",
              "      <td>0.0</td>\n",
              "      <td>0.0</td>\n",
              "      <td>0</td>\n",
              "      <td>54.0</td>\n",
              "      <td>0.0</td>\n",
              "      <td>0.0</td>\n",
              "      <td>0.0</td>\n",
              "      <td>0</td>\n",
              "      <td>0</td>\n",
              "      <td>0.0</td>\n",
              "      <td>0</td>\n",
              "      <td>0.9</td>\n",
              "      <td>3.9</td>\n",
              "      <td>5.7</td>\n",
              "      <td>0.3</td>\n",
              "      <td>0.0</td>\n",
              "      <td>0.0</td>\n",
              "      <td>0.0</td>\n",
              "      <td>6001.0</td>\n",
              "      <td>minimal</td>\n",
              "      <td>0</td>\n",
              "    </tr>\n",
              "    <tr>\n",
              "      <th>1</th>\n",
              "      <td>Alameda County</td>\n",
              "      <td>CA</td>\n",
              "      <td>1671329</td>\n",
              "      <td>6001</td>\n",
              "      <td>Alameda County</td>\n",
              "      <td>6</td>\n",
              "      <td>24</td>\n",
              "      <td>22</td>\n",
              "      <td>3.17</td>\n",
              "      <td>27.9</td>\n",
              "      <td>0.4</td>\n",
              "      <td>38.5</td>\n",
              "      <td>0.50</td>\n",
              "      <td>2.66</td>\n",
              "      <td>0</td>\n",
              "      <td>1666753</td>\n",
              "      <td>-5.8</td>\n",
              "      <td>2020-01-02</td>\n",
              "      <td>15.04</td>\n",
              "      <td>19</td>\n",
              "      <td>92574</td>\n",
              "      <td>10.5</td>\n",
              "      <td>22.5</td>\n",
              "      <td>49.11</td>\n",
              "      <td>2002</td>\n",
              "      <td>1155</td>\n",
              "      <td>131</td>\n",
              "      <td>2.05</td>\n",
              "      <td>0.22</td>\n",
              "      <td>0.0</td>\n",
              "      <td>0.0</td>\n",
              "      <td>0.0</td>\n",
              "      <td>0</td>\n",
              "      <td>54.0</td>\n",
              "      <td>0.0</td>\n",
              "      <td>0.0</td>\n",
              "      <td>0.0</td>\n",
              "      <td>0</td>\n",
              "      <td>0</td>\n",
              "      <td>0.0</td>\n",
              "      <td>0</td>\n",
              "      <td>0.9</td>\n",
              "      <td>3.9</td>\n",
              "      <td>5.7</td>\n",
              "      <td>0.3</td>\n",
              "      <td>0.0</td>\n",
              "      <td>0.0</td>\n",
              "      <td>0.0</td>\n",
              "      <td>6001.0</td>\n",
              "      <td>minimal</td>\n",
              "      <td>0</td>\n",
              "    </tr>\n",
              "    <tr>\n",
              "      <th>2</th>\n",
              "      <td>Alameda County</td>\n",
              "      <td>CA</td>\n",
              "      <td>1671329</td>\n",
              "      <td>6001</td>\n",
              "      <td>Alameda County</td>\n",
              "      <td>6</td>\n",
              "      <td>21</td>\n",
              "      <td>21</td>\n",
              "      <td>3.28</td>\n",
              "      <td>27.2</td>\n",
              "      <td>0.4</td>\n",
              "      <td>41.0</td>\n",
              "      <td>0.51</td>\n",
              "      <td>2.78</td>\n",
              "      <td>0</td>\n",
              "      <td>1666753</td>\n",
              "      <td>-1.5</td>\n",
              "      <td>2020-01-03</td>\n",
              "      <td>15.04</td>\n",
              "      <td>19</td>\n",
              "      <td>92574</td>\n",
              "      <td>10.5</td>\n",
              "      <td>22.5</td>\n",
              "      <td>49.11</td>\n",
              "      <td>2002</td>\n",
              "      <td>1155</td>\n",
              "      <td>131</td>\n",
              "      <td>2.05</td>\n",
              "      <td>0.22</td>\n",
              "      <td>0.0</td>\n",
              "      <td>0.0</td>\n",
              "      <td>0.0</td>\n",
              "      <td>0</td>\n",
              "      <td>54.0</td>\n",
              "      <td>0.0</td>\n",
              "      <td>0.0</td>\n",
              "      <td>0.0</td>\n",
              "      <td>0</td>\n",
              "      <td>0</td>\n",
              "      <td>0.0</td>\n",
              "      <td>0</td>\n",
              "      <td>0.9</td>\n",
              "      <td>3.9</td>\n",
              "      <td>5.7</td>\n",
              "      <td>0.3</td>\n",
              "      <td>0.0</td>\n",
              "      <td>0.0</td>\n",
              "      <td>0.0</td>\n",
              "      <td>6001.0</td>\n",
              "      <td>minimal</td>\n",
              "      <td>0</td>\n",
              "    </tr>\n",
              "    <tr>\n",
              "      <th>3</th>\n",
              "      <td>Alameda County</td>\n",
              "      <td>CA</td>\n",
              "      <td>1671329</td>\n",
              "      <td>6001</td>\n",
              "      <td>Alameda County</td>\n",
              "      <td>6</td>\n",
              "      <td>34</td>\n",
              "      <td>25</td>\n",
              "      <td>3.03</td>\n",
              "      <td>25.8</td>\n",
              "      <td>0.3</td>\n",
              "      <td>41.1</td>\n",
              "      <td>0.26</td>\n",
              "      <td>2.76</td>\n",
              "      <td>0</td>\n",
              "      <td>1666753</td>\n",
              "      <td>-2.2</td>\n",
              "      <td>2020-01-04</td>\n",
              "      <td>15.04</td>\n",
              "      <td>19</td>\n",
              "      <td>92574</td>\n",
              "      <td>10.5</td>\n",
              "      <td>22.5</td>\n",
              "      <td>49.11</td>\n",
              "      <td>2002</td>\n",
              "      <td>1155</td>\n",
              "      <td>131</td>\n",
              "      <td>2.05</td>\n",
              "      <td>0.22</td>\n",
              "      <td>0.0</td>\n",
              "      <td>0.0</td>\n",
              "      <td>0.0</td>\n",
              "      <td>0</td>\n",
              "      <td>54.0</td>\n",
              "      <td>0.0</td>\n",
              "      <td>0.0</td>\n",
              "      <td>0.0</td>\n",
              "      <td>0</td>\n",
              "      <td>0</td>\n",
              "      <td>0.0</td>\n",
              "      <td>0</td>\n",
              "      <td>0.9</td>\n",
              "      <td>3.9</td>\n",
              "      <td>5.7</td>\n",
              "      <td>0.3</td>\n",
              "      <td>0.0</td>\n",
              "      <td>0.0</td>\n",
              "      <td>0.0</td>\n",
              "      <td>6001.0</td>\n",
              "      <td>minimal</td>\n",
              "      <td>0</td>\n",
              "    </tr>\n",
              "    <tr>\n",
              "      <th>4</th>\n",
              "      <td>Alameda County</td>\n",
              "      <td>CA</td>\n",
              "      <td>1671329</td>\n",
              "      <td>6001</td>\n",
              "      <td>Alameda County</td>\n",
              "      <td>6</td>\n",
              "      <td>44</td>\n",
              "      <td>29</td>\n",
              "      <td>2.72</td>\n",
              "      <td>24.5</td>\n",
              "      <td>0.4</td>\n",
              "      <td>35.8</td>\n",
              "      <td>0.24</td>\n",
              "      <td>2.48</td>\n",
              "      <td>0</td>\n",
              "      <td>1666753</td>\n",
              "      <td>-12.1</td>\n",
              "      <td>2020-01-05</td>\n",
              "      <td>15.04</td>\n",
              "      <td>19</td>\n",
              "      <td>92574</td>\n",
              "      <td>10.5</td>\n",
              "      <td>22.5</td>\n",
              "      <td>49.11</td>\n",
              "      <td>2002</td>\n",
              "      <td>1155</td>\n",
              "      <td>131</td>\n",
              "      <td>2.05</td>\n",
              "      <td>0.22</td>\n",
              "      <td>0.0</td>\n",
              "      <td>0.0</td>\n",
              "      <td>0.0</td>\n",
              "      <td>0</td>\n",
              "      <td>54.0</td>\n",
              "      <td>0.0</td>\n",
              "      <td>0.0</td>\n",
              "      <td>0.0</td>\n",
              "      <td>0</td>\n",
              "      <td>0</td>\n",
              "      <td>0.0</td>\n",
              "      <td>0</td>\n",
              "      <td>1.3</td>\n",
              "      <td>3.9</td>\n",
              "      <td>5.7</td>\n",
              "      <td>0.3</td>\n",
              "      <td>0.0</td>\n",
              "      <td>0.0</td>\n",
              "      <td>0.0</td>\n",
              "      <td>6001.0</td>\n",
              "      <td>minimal</td>\n",
              "      <td>0</td>\n",
              "    </tr>\n",
              "  </tbody>\n",
              "</table>\n",
              "</div>"
            ],
            "text/plain": [
              "      County Name State  population  ...  countyFIPS growth_label  growth_code\n",
              "0  Alameda County    CA     1671329  ...      6001.0      minimal            0\n",
              "1  Alameda County    CA     1671329  ...      6001.0      minimal            0\n",
              "2  Alameda County    CA     1671329  ...      6001.0      minimal            0\n",
              "3  Alameda County    CA     1671329  ...      6001.0      minimal            0\n",
              "4  Alameda County    CA     1671329  ...      6001.0      minimal            0\n",
              "\n",
              "[5 rows x 51 columns]"
            ]
          },
          "metadata": {
            "tags": []
          },
          "execution_count": 42
        }
      ]
    },
    {
      "cell_type": "code",
      "metadata": {
        "colab": {
          "base_uri": "https://localhost:8080/"
        },
        "id": "k9ZXnf6sA41N",
        "outputId": "5e241c6d-9f1a-43e3-b03e-aefef1c66a82"
      },
      "source": [
        "CA_inertia_labeled_data.columns"
      ],
      "execution_count": null,
      "outputs": [
        {
          "output_type": "execute_result",
          "data": {
            "text/plain": [
              "Index(['County Name', 'State', 'population', 'CTFIPS', 'CTNAME', 'STFIPS',\n",
              "       'Social.distancing.index', 'X..staying.home', 'Trips.person',\n",
              "       'X..out.of.county.trips', 'X..out.of.state.trips', 'Miles.person',\n",
              "       'Work.trips.person', 'Non.work.trips.person', 'New.COVID.cases',\n",
              "       'Population', 'X..change.in.consumption', 'date', 'Transit.mode.share',\n",
              "       'X..people.older.than.60', 'Median.income', 'X..African.Americans',\n",
              "       'X..Hispanic.Americans', 'X..Male', 'Population.density',\n",
              "       'Employment.density', 'X..hot.spots.1000.people',\n",
              "       'Hospital.beds.1000.people', 'ICUs.1000.people',\n",
              "       'X..contact.tracing.workers.1000.people', 'New.cases.1000.people',\n",
              "       'Active.cases.1000.people', 'X.days..decreasing.COVID.cases',\n",
              "       'X..hospital.bed.utilization', 'Testing.capacity',\n",
              "       'Tests.done.1000.people', 'X..ICU.utilization', 'Ventilator.shortage',\n",
              "       'Imported.COVID.cases', 'COVID.exposure.1000.people',\n",
              "       'X.days..decreasing.ILI.cases', 'Unemployment.claims.1000.people',\n",
              "       'Unemployment.rate', 'X..working.from.home',\n",
              "       'Cumulative.inflation.rate', 'COVID.death.rate',\n",
              "       'New Cases/100k population', 'rolling_avg_new_cases/100k', 'countyFIPS',\n",
              "       'growth_label', 'growth_code'],\n",
              "      dtype='object')"
            ]
          },
          "metadata": {
            "tags": []
          },
          "execution_count": 43
        }
      ]
    },
    {
      "cell_type": "code",
      "metadata": {
        "id": "6Nx3kdz0H1nf"
      },
      "source": [
        "inertia_feature_labels = ['Social.distancing.index', 'X..staying.home', 'Trips.person',\n",
        "       'X..out.of.county.trips', 'X..out.of.state.trips', 'Miles.person',\n",
        "       'Work.trips.person', 'Non.work.trips.person', 'New.COVID.cases',\n",
        "       'Population', 'X..change.in.consumption',  'Transit.mode.share',\n",
        "       'X..people.older.than.60', 'Median.income', 'X..African.Americans',\n",
        "       'X..Hispanic.Americans', 'X..Male', 'Population.density',\n",
        "       'Employment.density', 'X..hot.spots.1000.people',\n",
        "       'Hospital.beds.1000.people', 'ICUs.1000.people',\n",
        "       'X..contact.tracing.workers.1000.people', 'New.cases.1000.people',\n",
        "       'Active.cases.1000.people', 'X.days..decreasing.COVID.cases',\n",
        "       'X..hospital.bed.utilization', 'Testing.capacity',\n",
        "       'Tests.done.1000.people', 'X..ICU.utilization', 'Ventilator.shortage',\n",
        "       'Imported.COVID.cases', 'COVID.exposure.1000.people',\n",
        "       'X.days..decreasing.ILI.cases', 'Unemployment.claims.1000.people',\n",
        "       'Unemployment.rate', 'X..working.from.home',\n",
        "       'Cumulative.inflation.rate', 'COVID.death.rate',\n",
        "       'New Cases/100k population'\n",
        "       ]\n",
        "\n",
        "inertia_target_column = ['growth_code']\n",
        "\n",
        "X = CA_inertia_labeled_data[inertia_feature_labels]\n",
        "y = CA_inertia_labeled_data[inertia_target_column]\n",
        "\n",
        "X_train, X_test, y_train, y_test = train_test_split(X, y, test_size=0.4, random_state=0)\n"
      ],
      "execution_count": null,
      "outputs": []
    },
    {
      "cell_type": "code",
      "metadata": {
        "id": "FaL8OKY6H1nj",
        "colab": {
          "base_uri": "https://localhost:8080/"
        },
        "outputId": "614eb9df-b5db-45f2-f7df-75803c06d428"
      },
      "source": [
        "\n",
        "#  Supported criteria are “gini” for the Gini impurity and “entropy” for the information gain. \n",
        "clf = RandomForestClassifier(n_estimators=10000, random_state=0,criterion='gini', n_jobs=-1)\n",
        "\n",
        "# Train the classifier\n",
        "clf.fit(X_train, y_train)\n",
        "print(X_train.shape)\n",
        "# Print the name and gini importance of each feature\n",
        "for feature in zip(inertia_feature_labels, clf.feature_importances_):\n",
        "    print(feature)"
      ],
      "execution_count": null,
      "outputs": [
        {
          "output_type": "stream",
          "text": [
            "/usr/local/lib/python3.6/dist-packages/ipykernel_launcher.py:6: DataConversionWarning: A column-vector y was passed when a 1d array was expected. Please change the shape of y to (n_samples,), for example using ravel().\n",
            "  \n"
          ],
          "name": "stderr"
        },
        {
          "output_type": "stream",
          "text": [
            "(12632, 40)\n",
            "('Social.distancing.index', 0.008569001433721852)\n",
            "('X..staying.home', 0.00751009853554587)\n",
            "('Trips.person', 0.00814980351955795)\n",
            "('X..out.of.county.trips', 0.012280066897759477)\n",
            "('X..out.of.state.trips', 0.010215166980354854)\n",
            "('Miles.person', 0.010321160943401375)\n",
            "('Work.trips.person', 0.00899740470533878)\n",
            "('Non.work.trips.person', 0.008102137661789388)\n",
            "('New.COVID.cases', 0.029492122302641876)\n",
            "('Population', 0.016945151480419435)\n",
            "('X..change.in.consumption', 0.008699270797552543)\n",
            "('Transit.mode.share', 0.00951666481306594)\n",
            "('X..people.older.than.60', 0.012683008951058634)\n",
            "('Median.income', 0.011042403751952156)\n",
            "('X..African.Americans', 0.008683879251341538)\n",
            "('X..Hispanic.Americans', 0.023349270686642627)\n",
            "('X..Male', 0.007867921719563601)\n",
            "('Population.density', 0.012558056381689029)\n",
            "('Employment.density', 0.010553957477057088)\n",
            "('X..hot.spots.1000.people', 0.010873331263167474)\n",
            "('Hospital.beds.1000.people', 0.0)\n",
            "('ICUs.1000.people', 0.0)\n",
            "('X..contact.tracing.workers.1000.people', 0.0)\n",
            "('New.cases.1000.people', 0.20541344607547535)\n",
            "('Active.cases.1000.people', 0.06519005282199435)\n",
            "('X.days..decreasing.COVID.cases', 0.02362889955727175)\n",
            "('X..hospital.bed.utilization', 0.028018852942315455)\n",
            "('Testing.capacity', 0.010334518687394444)\n",
            "('Tests.done.1000.people', 0.06539550263919629)\n",
            "('X..ICU.utilization', 0.025146495373948755)\n",
            "('Ventilator.shortage', 0.024648982559770393)\n",
            "('Imported.COVID.cases', 0.06401574165455194)\n",
            "('COVID.exposure.1000.people', 0.061134807790722126)\n",
            "('X.days..decreasing.ILI.cases', 0.020259552687683046)\n",
            "('Unemployment.claims.1000.people', 0.01026661464472628)\n",
            "('Unemployment.rate', 0.015318248228049997)\n",
            "('X..working.from.home', 0.02228907963236796)\n",
            "('Cumulative.inflation.rate', 0.03110007585943259)\n",
            "('COVID.death.rate', 0.026204866172873143)\n",
            "('New Cases/100k population', 0.0652243831186046)\n"
          ],
          "name": "stdout"
        }
      ]
    },
    {
      "cell_type": "markdown",
      "metadata": {
        "id": "xyiXoNkL12gU"
      },
      "source": [
        "## Feature Importance: Extra tree classifier"
      ]
    },
    {
      "cell_type": "code",
      "metadata": {
        "id": "7OYq2tFI2SKm"
      },
      "source": [
        "inertia_feature_labels = ['Social.distancing.index', 'X..staying.home', 'Trips.person',\n",
        "       'X..out.of.county.trips', 'X..out.of.state.trips', 'Miles.person',\n",
        "       'Work.trips.person', 'Non.work.trips.person', 'New.COVID.cases',\n",
        "       'Population', 'X..change.in.consumption',  'Transit.mode.share',\n",
        "       'X..people.older.than.60', 'Median.income', 'X..African.Americans',\n",
        "       'X..Hispanic.Americans', 'X..Male', 'Population.density',\n",
        "       'Employment.density', 'X..hot.spots.1000.people',\n",
        "       'Hospital.beds.1000.people', 'ICUs.1000.people',\n",
        "       'X..contact.tracing.workers.1000.people', 'New.cases.1000.people',\n",
        "       'Active.cases.1000.people', 'X.days..decreasing.COVID.cases',\n",
        "       'X..hospital.bed.utilization', 'Testing.capacity',\n",
        "       'Tests.done.1000.people', 'X..ICU.utilization', 'Ventilator.shortage',\n",
        "       'Imported.COVID.cases', 'COVID.exposure.1000.people',\n",
        "       'X.days..decreasing.ILI.cases', 'Unemployment.claims.1000.people',\n",
        "       'Unemployment.rate', 'X..working.from.home',\n",
        "       'Cumulative.inflation.rate', 'COVID.death.rate',\n",
        "       'New Cases/100k population'\n",
        "       ]\n",
        "\n",
        "inertia_target_column = ['growth_code']\n",
        "\n",
        "X = CA_inertia_labeled_data[inertia_feature_labels]\n",
        "y = CA_inertia_labeled_data[inertia_target_column]\n",
        "\n",
        "X_train, X_test, y_train, y_test = train_test_split(X, y, test_size=0.4, random_state=0)"
      ],
      "execution_count": null,
      "outputs": []
    },
    {
      "cell_type": "code",
      "metadata": {
        "id": "HUGmp5Zg2V_K",
        "colab": {
          "base_uri": "https://localhost:8080/"
        },
        "outputId": "32c4608c-45b5-47b7-b87c-88818d3e949e"
      },
      "source": [
        "# Create a random forest classifier\n",
        "clf = RandomForestClassifier(n_estimators=10000, random_state=0, n_jobs=-1)\n",
        "\n",
        "# Train the classifier\n",
        "clf.fit(X_train, y_train)\n",
        "\n",
        "# Print the name and gini importance of each feature\n",
        "for feature in zip(feature_labels, clf.feature_importances_):\n",
        "    print(feature)\n",
        "\n",
        "\n",
        "\n",
        "#  Supported criteria are “gini” for the Gini impurity and “entropy” for the information gain. \n",
        "\n",
        "clf = RandomForestClassifier(n_estimators=10000, random_state=0,criterion='gini', n_jobs=-1)\n",
        "\n",
        "# Train the classifier\n",
        "clf.fit(X_train, y_train)\n",
        "\n",
        "# Print the name and gini importance of each feature\n",
        "for feature in zip(feature_labels, clf.feature_importances_):\n",
        "    print(feature)\n",
        "\n",
        "\n",
        "model = ExtraTreesClassifier()\n",
        "model.fit(X, y.values.ravel())\n",
        "# display the relative importance of each attribute\n",
        "#print(model.feature_importances_)\n",
        "\n",
        "\n",
        "# create the RFE model \n",
        "rfe = RFE(model, 3)\n",
        "rfe = rfe.fit(X, y.values.ravel())\n",
        "# summarize the selection of the attributes\n",
        "#print(rfe.support_)\n",
        "\n",
        "print(\"\\nFeatures with ranking:\\n\")\n",
        "for index in range(len(rfe.ranking_)):\n",
        "  print(inertia_feature_labels[index], rfe.ranking_[index])\n",
        "\n",
        "# for index in range(len(rfe.ranking_)):\n",
        "#   print( rfe.ranking_[index])\n",
        "#print(rfe.ranking_)\n",
        "#print(rfe.n_features_)\n",
        "#rfe.n_features_to_select\n"
      ],
      "execution_count": null,
      "outputs": [
        {
          "output_type": "stream",
          "text": [
            "/usr/local/lib/python3.6/dist-packages/ipykernel_launcher.py:5: DataConversionWarning: A column-vector y was passed when a 1d array was expected. Please change the shape of y to (n_samples,), for example using ravel().\n",
            "  \"\"\"\n"
          ],
          "name": "stderr"
        },
        {
          "output_type": "stream",
          "text": [
            "('FIPS', 0.008569001433721852)\n",
            "('population', 0.00751009853554587)\n",
            "('mask_rule_active', 0.00814980351955795)\n",
            "('m50', 0.012280066897759477)\n",
            "('m50_index', 0.010215166980354854)\n",
            "('retail_and_recreation_percent_change_from_baseline', 0.010321160943401375)\n",
            "('grocery_and_pharmacy_percent_change_from_baseline', 0.00899740470533878)\n",
            "('parks_percent_change_from_baseline', 0.008102137661789388)\n",
            "('transit_stations_percent_change_from_baseline', 0.029492122302641876)\n",
            "('workplaces_percent_change_from_baseline', 0.016945151480419435)\n",
            "('residential_percent_change_from_baseline', 0.008699270797552543)\n"
          ],
          "name": "stdout"
        },
        {
          "output_type": "stream",
          "text": [
            "/usr/local/lib/python3.6/dist-packages/ipykernel_launcher.py:18: DataConversionWarning: A column-vector y was passed when a 1d array was expected. Please change the shape of y to (n_samples,), for example using ravel().\n"
          ],
          "name": "stderr"
        },
        {
          "output_type": "stream",
          "text": [
            "('FIPS', 0.008569001433721852)\n",
            "('population', 0.00751009853554587)\n",
            "('mask_rule_active', 0.00814980351955795)\n",
            "('m50', 0.012280066897759477)\n",
            "('m50_index', 0.010215166980354854)\n",
            "('retail_and_recreation_percent_change_from_baseline', 0.010321160943401375)\n",
            "('grocery_and_pharmacy_percent_change_from_baseline', 0.00899740470533878)\n",
            "('parks_percent_change_from_baseline', 0.008102137661789388)\n",
            "('transit_stations_percent_change_from_baseline', 0.029492122302641876)\n",
            "('workplaces_percent_change_from_baseline', 0.016945151480419435)\n",
            "('residential_percent_change_from_baseline', 0.008699270797552543)\n",
            "\n",
            "Features with ranking:\n",
            "\n",
            "Social.distancing.index 31\n",
            "X..staying.home 30\n",
            "Trips.person 35\n",
            "X..out.of.county.trips 27\n",
            "X..out.of.state.trips 25\n",
            "Miles.person 32\n",
            "Work.trips.person 29\n",
            "Non.work.trips.person 34\n",
            "New.COVID.cases 28\n",
            "Population 10\n",
            "X..change.in.consumption 33\n",
            "Transit.mode.share 19\n",
            "X..people.older.than.60 5\n",
            "Median.income 7\n",
            "X..African.Americans 24\n",
            "X..Hispanic.Americans 2\n",
            "X..Male 26\n",
            "Population.density 13\n",
            "Employment.density 21\n",
            "X..hot.spots.1000.people 17\n",
            "Hospital.beds.1000.people 38\n",
            "ICUs.1000.people 36\n",
            "X..contact.tracing.workers.1000.people 37\n",
            "New.cases.1000.people 1\n",
            "Active.cases.1000.people 12\n",
            "X.days..decreasing.COVID.cases 9\n",
            "X..hospital.bed.utilization 11\n",
            "Testing.capacity 20\n",
            "Tests.done.1000.people 1\n",
            "X..ICU.utilization 16\n",
            "Ventilator.shortage 14\n",
            "Imported.COVID.cases 15\n",
            "COVID.exposure.1000.people 6\n",
            "X.days..decreasing.ILI.cases 4\n",
            "Unemployment.claims.1000.people 22\n",
            "Unemployment.rate 8\n",
            "X..working.from.home 1\n",
            "Cumulative.inflation.rate 3\n",
            "COVID.death.rate 18\n",
            "New Cases/100k population 23\n"
          ],
          "name": "stdout"
        }
      ]
    }
  ]
}