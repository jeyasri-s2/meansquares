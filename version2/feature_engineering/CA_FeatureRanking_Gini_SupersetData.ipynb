{
  "nbformat": 4,
  "nbformat_minor": 0,
  "metadata": {
    "colab": {
      "name": "CA_FeatureRanking_Gini_SupersetData.ipynb",
      "provenance": [],
      "collapsed_sections": [
        "9UWOMGmA1sJk"
      ],
      "toc_visible": true,
      "machine_shape": "hm",
      "include_colab_link": true
    },
    "kernelspec": {
      "name": "python3",
      "display_name": "Python 3"
    },
    "accelerator": "GPU"
  },
  "cells": [
    {
      "cell_type": "markdown",
      "metadata": {
        "id": "view-in-github",
        "colab_type": "text"
      },
      "source": [
        "<a href=\"https://colab.research.google.com/github/aarsanjani/meansquares/blob/master/version2/feature_engineering/CA_FeatureRanking_Gini_SupersetData.ipynb\" target=\"_parent\"><img src=\"https://colab.research.google.com/assets/colab-badge.svg\" alt=\"Open In Colab\"/></a>"
      ]
    },
    {
      "cell_type": "markdown",
      "metadata": {
        "id": "l346AV8oZPe-"
      },
      "source": [
        "# Goal:\n",
        "Using Random Forest to estimate the gini index and feature importance for all features from CA **Superset** dataset.\n",
        "Details: \n",
        "\n",
        ">* **Gini-Coefficient:** Used the code from our machine learning. Uses CA combined data and Maryland data for gini coefficient score\n",
        ">* **Random Forest (Gini Score):** Random classifier needs a target value. Hence, *CA-CDC labeled data* is used to get feature importance score. **Target: Growth_label_Code**\n",
        ">* **Extra Tree Classifier (Gini Score):** ET classifier needs a target value. Hence *CA-CDC labeled data* is used to get feature importance score. **Target: Growth_label_Code**\n",
        "\n"
      ]
    },
    {
      "cell_type": "markdown",
      "metadata": {
        "id": "thBIWXyoZh3U"
      },
      "source": [
        "## Mount Google drive"
      ]
    },
    {
      "cell_type": "code",
      "metadata": {
        "id": "3N0GpmS9ZJFo",
        "colab": {
          "base_uri": "https://localhost:8080/"
        },
        "outputId": "d1aee253-566c-4780-a3d6-2129bbd94d8f"
      },
      "source": [
        "from google.colab import drive\n",
        "drive.mount('/content/drive')"
      ],
      "execution_count": 25,
      "outputs": [
        {
          "output_type": "stream",
          "text": [
            "Drive already mounted at /content/drive; to attempt to forcibly remount, call drive.mount(\"/content/drive\", force_remount=True).\n"
          ],
          "name": "stdout"
        }
      ]
    },
    {
      "cell_type": "code",
      "metadata": {
        "id": "ogU_R9SvZjuR"
      },
      "source": [
        "import pandas as pd\n",
        "import seaborn as sns\n",
        "from sklearn import preprocessing\n",
        "from sklearn.model_selection import train_test_split\n",
        "\n",
        "from sklearn.preprocessing import LabelEncoder\n",
        "from sklearn.preprocessing import StandardScaler as ss\n",
        "import itertools\n",
        "from scipy import linalg\n",
        "from sklearn.ensemble import RandomForestClassifier\n",
        "from sklearn.tree import export_graphviz\n",
        "import numpy as np\n",
        "import matplotlib.pyplot as plt"
      ],
      "execution_count": 26,
      "outputs": []
    },
    {
      "cell_type": "markdown",
      "metadata": {
        "id": "mjW80L8CZzrv"
      },
      "source": [
        "# 1.Load data - Combined CA Data"
      ]
    },
    {
      "cell_type": "markdown",
      "metadata": {
        "id": "mJHpQM981jNa"
      },
      "source": [
        "## 1.1Preprocessed Data"
      ]
    },
    {
      "cell_type": "code",
      "metadata": {
        "id": "HzV2n_7iZwr9",
        "colab": {
          "base_uri": "https://localhost:8080/",
          "height": 317
        },
        "outputId": "6f17ed6b-b17e-47bf-d3fe-b10009c6fd9d"
      },
      "source": [
        "CA_superset_data = pd.read_csv('/content/drive/Shared drives/CMPE 295- Master Project/projectdata-2021/CA_Superset_dataset_Feb12.csv',low_memory=False)\n",
        "CA_superset_data.head()"
      ],
      "execution_count": 51,
      "outputs": [
        {
          "output_type": "execute_result",
          "data": {
            "text/html": [
              "<div>\n",
              "<style scoped>\n",
              "    .dataframe tbody tr th:only-of-type {\n",
              "        vertical-align: middle;\n",
              "    }\n",
              "\n",
              "    .dataframe tbody tr th {\n",
              "        vertical-align: top;\n",
              "    }\n",
              "\n",
              "    .dataframe thead th {\n",
              "        text-align: right;\n",
              "    }\n",
              "</style>\n",
              "<table border=\"1\" class=\"dataframe\">\n",
              "  <thead>\n",
              "    <tr style=\"text-align: right;\">\n",
              "      <th></th>\n",
              "      <th>Date</th>\n",
              "      <th>Province_State</th>\n",
              "      <th>FIPS</th>\n",
              "      <th>New cases</th>\n",
              "      <th>County Name</th>\n",
              "      <th>mask_rule_severity</th>\n",
              "      <th>m50</th>\n",
              "      <th>m50_index</th>\n",
              "      <th>retail_and_recreation_percent_change_from_baseline</th>\n",
              "      <th>grocery_and_pharmacy_percent_change_from_baseline</th>\n",
              "      <th>parks_percent_change_from_baseline</th>\n",
              "      <th>transit_stations_percent_change_from_baseline</th>\n",
              "      <th>workplaces_percent_change_from_baseline</th>\n",
              "      <th>residential_percent_change_from_baseline</th>\n",
              "      <th>PopDensity</th>\n",
              "      <th>State_Name</th>\n",
              "      <th>State</th>\n",
              "      <th>CTFIPS</th>\n",
              "      <th>CTNAME</th>\n",
              "      <th>STFIPS</th>\n",
              "      <th>Social.distancing.index</th>\n",
              "      <th>X..staying.home</th>\n",
              "      <th>Trips.person</th>\n",
              "      <th>X..out.of.county.trips</th>\n",
              "      <th>X..out.of.state.trips</th>\n",
              "      <th>Miles.person</th>\n",
              "      <th>Work.trips.person</th>\n",
              "      <th>Non.work.trips.person</th>\n",
              "      <th>New.COVID.cases</th>\n",
              "      <th>Population</th>\n",
              "      <th>X..change.in.consumption</th>\n",
              "      <th>Transit.mode.share</th>\n",
              "      <th>X..people.older.than.60</th>\n",
              "      <th>Median.income</th>\n",
              "      <th>X..African.Americans</th>\n",
              "      <th>X..Hispanic.Americans</th>\n",
              "      <th>X..Male</th>\n",
              "      <th>Employment.density</th>\n",
              "      <th>X..hot.spots.1000.people</th>\n",
              "      <th>Hospital.beds.1000.people</th>\n",
              "      <th>ICUs.1000.people</th>\n",
              "      <th>X..contact.tracing.workers.1000.people</th>\n",
              "      <th>New.cases.1000.people</th>\n",
              "      <th>Active.cases.1000.people</th>\n",
              "      <th>X.days..decreasing.COVID.cases</th>\n",
              "      <th>X..hospital.bed.utilization</th>\n",
              "      <th>Testing.capacity</th>\n",
              "      <th>Tests.done.1000.people</th>\n",
              "      <th>X..ICU.utilization</th>\n",
              "      <th>Ventilator.shortage</th>\n",
              "      <th>Imported.COVID.cases</th>\n",
              "      <th>COVID.exposure.1000.people</th>\n",
              "      <th>X.days..decreasing.ILI.cases</th>\n",
              "      <th>Unemployment.claims.1000.people</th>\n",
              "      <th>Unemployment.rate</th>\n",
              "      <th>X..working.from.home</th>\n",
              "      <th>Cumulative.inflation.rate</th>\n",
              "      <th>COVID.death.rate</th>\n",
              "    </tr>\n",
              "  </thead>\n",
              "  <tbody>\n",
              "    <tr>\n",
              "      <th>0</th>\n",
              "      <td>2020-03-01</td>\n",
              "      <td>California</td>\n",
              "      <td>6001</td>\n",
              "      <td>0</td>\n",
              "      <td>Alameda County</td>\n",
              "      <td>0.0</td>\n",
              "      <td>3.684</td>\n",
              "      <td>58</td>\n",
              "      <td>6.0</td>\n",
              "      <td>9.0</td>\n",
              "      <td>15.0</td>\n",
              "      <td>1.0</td>\n",
              "      <td>4.0</td>\n",
              "      <td>0.0</td>\n",
              "      <td>860.757075</td>\n",
              "      <td>California</td>\n",
              "      <td>CA</td>\n",
              "      <td>6001</td>\n",
              "      <td>Alameda County</td>\n",
              "      <td>6</td>\n",
              "      <td>37</td>\n",
              "      <td>26</td>\n",
              "      <td>2.93</td>\n",
              "      <td>25.4</td>\n",
              "      <td>0.4</td>\n",
              "      <td>36.8</td>\n",
              "      <td>0.25</td>\n",
              "      <td>2.68</td>\n",
              "      <td>0</td>\n",
              "      <td>1666753</td>\n",
              "      <td>-5.1</td>\n",
              "      <td>15.04</td>\n",
              "      <td>19</td>\n",
              "      <td>92574</td>\n",
              "      <td>10.5</td>\n",
              "      <td>22.5</td>\n",
              "      <td>49.11</td>\n",
              "      <td>1155</td>\n",
              "      <td>131</td>\n",
              "      <td>2.05</td>\n",
              "      <td>0.22</td>\n",
              "      <td>NaN</td>\n",
              "      <td>0.0000</td>\n",
              "      <td>0.0</td>\n",
              "      <td>37</td>\n",
              "      <td>54.0</td>\n",
              "      <td>0.0</td>\n",
              "      <td>0.00</td>\n",
              "      <td>0.0</td>\n",
              "      <td>0</td>\n",
              "      <td>0</td>\n",
              "      <td>0.05</td>\n",
              "      <td>35</td>\n",
              "      <td>1.1</td>\n",
              "      <td>5.3</td>\n",
              "      <td>5.7</td>\n",
              "      <td>0.6</td>\n",
              "      <td>0.00</td>\n",
              "    </tr>\n",
              "    <tr>\n",
              "      <th>1</th>\n",
              "      <td>2020-03-02</td>\n",
              "      <td>California</td>\n",
              "      <td>6001</td>\n",
              "      <td>0</td>\n",
              "      <td>Alameda County</td>\n",
              "      <td>0.0</td>\n",
              "      <td>6.182</td>\n",
              "      <td>98</td>\n",
              "      <td>4.0</td>\n",
              "      <td>7.0</td>\n",
              "      <td>7.0</td>\n",
              "      <td>-1.0</td>\n",
              "      <td>3.0</td>\n",
              "      <td>0.0</td>\n",
              "      <td>860.757075</td>\n",
              "      <td>California</td>\n",
              "      <td>CA</td>\n",
              "      <td>6001</td>\n",
              "      <td>Alameda County</td>\n",
              "      <td>6</td>\n",
              "      <td>17</td>\n",
              "      <td>20</td>\n",
              "      <td>3.38</td>\n",
              "      <td>28.2</td>\n",
              "      <td>0.4</td>\n",
              "      <td>38.1</td>\n",
              "      <td>0.63</td>\n",
              "      <td>2.74</td>\n",
              "      <td>0</td>\n",
              "      <td>1666753</td>\n",
              "      <td>-2.9</td>\n",
              "      <td>15.04</td>\n",
              "      <td>19</td>\n",
              "      <td>92574</td>\n",
              "      <td>10.5</td>\n",
              "      <td>22.5</td>\n",
              "      <td>49.11</td>\n",
              "      <td>1155</td>\n",
              "      <td>131</td>\n",
              "      <td>2.05</td>\n",
              "      <td>0.22</td>\n",
              "      <td>NaN</td>\n",
              "      <td>0.0000</td>\n",
              "      <td>0.0</td>\n",
              "      <td>38</td>\n",
              "      <td>54.0</td>\n",
              "      <td>0.0</td>\n",
              "      <td>0.00</td>\n",
              "      <td>0.0</td>\n",
              "      <td>0</td>\n",
              "      <td>0</td>\n",
              "      <td>0.05</td>\n",
              "      <td>35</td>\n",
              "      <td>1.1</td>\n",
              "      <td>5.3</td>\n",
              "      <td>5.7</td>\n",
              "      <td>0.6</td>\n",
              "      <td>0.00</td>\n",
              "    </tr>\n",
              "    <tr>\n",
              "      <th>2</th>\n",
              "      <td>2020-03-03</td>\n",
              "      <td>California</td>\n",
              "      <td>6001</td>\n",
              "      <td>1</td>\n",
              "      <td>Alameda County</td>\n",
              "      <td>0.0</td>\n",
              "      <td>6.271</td>\n",
              "      <td>100</td>\n",
              "      <td>5.0</td>\n",
              "      <td>12.0</td>\n",
              "      <td>41.0</td>\n",
              "      <td>0.0</td>\n",
              "      <td>1.0</td>\n",
              "      <td>-1.0</td>\n",
              "      <td>860.757075</td>\n",
              "      <td>California</td>\n",
              "      <td>CA</td>\n",
              "      <td>6001</td>\n",
              "      <td>Alameda County</td>\n",
              "      <td>6</td>\n",
              "      <td>16</td>\n",
              "      <td>18</td>\n",
              "      <td>3.61</td>\n",
              "      <td>27.1</td>\n",
              "      <td>0.3</td>\n",
              "      <td>32.7</td>\n",
              "      <td>0.67</td>\n",
              "      <td>2.94</td>\n",
              "      <td>1</td>\n",
              "      <td>1666753</td>\n",
              "      <td>4.1</td>\n",
              "      <td>15.04</td>\n",
              "      <td>19</td>\n",
              "      <td>92574</td>\n",
              "      <td>10.5</td>\n",
              "      <td>22.5</td>\n",
              "      <td>49.11</td>\n",
              "      <td>1155</td>\n",
              "      <td>131</td>\n",
              "      <td>2.05</td>\n",
              "      <td>0.22</td>\n",
              "      <td>NaN</td>\n",
              "      <td>0.0002</td>\n",
              "      <td>0.0</td>\n",
              "      <td>0</td>\n",
              "      <td>54.0</td>\n",
              "      <td>0.0</td>\n",
              "      <td>0.00</td>\n",
              "      <td>0.0</td>\n",
              "      <td>0</td>\n",
              "      <td>1</td>\n",
              "      <td>0.05</td>\n",
              "      <td>42</td>\n",
              "      <td>1.1</td>\n",
              "      <td>5.3</td>\n",
              "      <td>5.7</td>\n",
              "      <td>0.6</td>\n",
              "      <td>0.00</td>\n",
              "    </tr>\n",
              "    <tr>\n",
              "      <th>3</th>\n",
              "      <td>2020-03-04</td>\n",
              "      <td>California</td>\n",
              "      <td>6001</td>\n",
              "      <td>0</td>\n",
              "      <td>Alameda County</td>\n",
              "      <td>0.0</td>\n",
              "      <td>6.209</td>\n",
              "      <td>99</td>\n",
              "      <td>1.0</td>\n",
              "      <td>6.0</td>\n",
              "      <td>23.0</td>\n",
              "      <td>-3.0</td>\n",
              "      <td>1.0</td>\n",
              "      <td>0.0</td>\n",
              "      <td>860.757075</td>\n",
              "      <td>California</td>\n",
              "      <td>CA</td>\n",
              "      <td>6001</td>\n",
              "      <td>Alameda County</td>\n",
              "      <td>6</td>\n",
              "      <td>14</td>\n",
              "      <td>18</td>\n",
              "      <td>3.55</td>\n",
              "      <td>27.9</td>\n",
              "      <td>0.3</td>\n",
              "      <td>36.9</td>\n",
              "      <td>0.68</td>\n",
              "      <td>2.87</td>\n",
              "      <td>0</td>\n",
              "      <td>1666753</td>\n",
              "      <td>1.7</td>\n",
              "      <td>15.04</td>\n",
              "      <td>19</td>\n",
              "      <td>92574</td>\n",
              "      <td>10.5</td>\n",
              "      <td>22.5</td>\n",
              "      <td>49.11</td>\n",
              "      <td>1155</td>\n",
              "      <td>131</td>\n",
              "      <td>2.05</td>\n",
              "      <td>0.22</td>\n",
              "      <td>NaN</td>\n",
              "      <td>0.0002</td>\n",
              "      <td>0.0</td>\n",
              "      <td>0</td>\n",
              "      <td>54.0</td>\n",
              "      <td>10.3</td>\n",
              "      <td>0.01</td>\n",
              "      <td>0.0</td>\n",
              "      <td>0</td>\n",
              "      <td>1</td>\n",
              "      <td>0.06</td>\n",
              "      <td>42</td>\n",
              "      <td>1.1</td>\n",
              "      <td>5.3</td>\n",
              "      <td>5.7</td>\n",
              "      <td>0.6</td>\n",
              "      <td>0.04</td>\n",
              "    </tr>\n",
              "    <tr>\n",
              "      <th>4</th>\n",
              "      <td>2020-03-05</td>\n",
              "      <td>California</td>\n",
              "      <td>6001</td>\n",
              "      <td>0</td>\n",
              "      <td>Alameda County</td>\n",
              "      <td>0.0</td>\n",
              "      <td>6.654</td>\n",
              "      <td>106</td>\n",
              "      <td>1.0</td>\n",
              "      <td>6.0</td>\n",
              "      <td>12.0</td>\n",
              "      <td>-5.0</td>\n",
              "      <td>-1.0</td>\n",
              "      <td>1.0</td>\n",
              "      <td>860.757075</td>\n",
              "      <td>California</td>\n",
              "      <td>CA</td>\n",
              "      <td>6001</td>\n",
              "      <td>Alameda County</td>\n",
              "      <td>6</td>\n",
              "      <td>15</td>\n",
              "      <td>19</td>\n",
              "      <td>3.54</td>\n",
              "      <td>28.1</td>\n",
              "      <td>0.3</td>\n",
              "      <td>36.8</td>\n",
              "      <td>0.66</td>\n",
              "      <td>2.88</td>\n",
              "      <td>0</td>\n",
              "      <td>1666753</td>\n",
              "      <td>2.0</td>\n",
              "      <td>15.04</td>\n",
              "      <td>19</td>\n",
              "      <td>92574</td>\n",
              "      <td>10.5</td>\n",
              "      <td>22.5</td>\n",
              "      <td>49.11</td>\n",
              "      <td>1155</td>\n",
              "      <td>131</td>\n",
              "      <td>2.05</td>\n",
              "      <td>0.22</td>\n",
              "      <td>NaN</td>\n",
              "      <td>0.0002</td>\n",
              "      <td>0.0</td>\n",
              "      <td>0</td>\n",
              "      <td>54.0</td>\n",
              "      <td>10.3</td>\n",
              "      <td>0.01</td>\n",
              "      <td>0.0</td>\n",
              "      <td>0</td>\n",
              "      <td>1</td>\n",
              "      <td>0.06</td>\n",
              "      <td>42</td>\n",
              "      <td>1.1</td>\n",
              "      <td>5.3</td>\n",
              "      <td>5.7</td>\n",
              "      <td>0.6</td>\n",
              "      <td>0.04</td>\n",
              "    </tr>\n",
              "  </tbody>\n",
              "</table>\n",
              "</div>"
            ],
            "text/plain": [
              "         Date Province_State  ...  Cumulative.inflation.rate  COVID.death.rate\n",
              "0  2020-03-01     California  ...                        0.6              0.00\n",
              "1  2020-03-02     California  ...                        0.6              0.00\n",
              "2  2020-03-03     California  ...                        0.6              0.00\n",
              "3  2020-03-04     California  ...                        0.6              0.04\n",
              "4  2020-03-05     California  ...                        0.6              0.04\n",
              "\n",
              "[5 rows x 58 columns]"
            ]
          },
          "metadata": {
            "tags": []
          },
          "execution_count": 51
        }
      ]
    },
    {
      "cell_type": "code",
      "metadata": {
        "colab": {
          "base_uri": "https://localhost:8080/"
        },
        "id": "uyhMen90LL28",
        "outputId": "d7ec1bdb-067e-44c3-fa6a-04557fa3136b"
      },
      "source": [
        "CA_superset_data.shape"
      ],
      "execution_count": 53,
      "outputs": [
        {
          "output_type": "execute_result",
          "data": {
            "text/plain": [
              "(15391, 58)"
            ]
          },
          "metadata": {
            "tags": []
          },
          "execution_count": 53
        }
      ]
    },
    {
      "cell_type": "code",
      "metadata": {
        "id": "rphAMDm_aBqd",
        "colab": {
          "base_uri": "https://localhost:8080/"
        },
        "outputId": "516bef19-b7b2-40fa-de35-2645dc861a96"
      },
      "source": [
        "CA_superset_data.dtypes"
      ],
      "execution_count": 54,
      "outputs": [
        {
          "output_type": "execute_result",
          "data": {
            "text/plain": [
              "Date                                                   object\n",
              "Province_State                                         object\n",
              "FIPS                                                    int64\n",
              "New cases                                               int64\n",
              "County Name                                            object\n",
              "mask_rule_severity                                    float64\n",
              "m50                                                   float64\n",
              "m50_index                                               int64\n",
              "retail_and_recreation_percent_change_from_baseline    float64\n",
              "grocery_and_pharmacy_percent_change_from_baseline     float64\n",
              "parks_percent_change_from_baseline                    float64\n",
              "transit_stations_percent_change_from_baseline         float64\n",
              "workplaces_percent_change_from_baseline               float64\n",
              "residential_percent_change_from_baseline              float64\n",
              "PopDensity                                            float64\n",
              "State_Name                                             object\n",
              "State                                                  object\n",
              "CTFIPS                                                  int64\n",
              "CTNAME                                                 object\n",
              "STFIPS                                                  int64\n",
              "Social.distancing.index                                 int64\n",
              "X..staying.home                                         int64\n",
              "Trips.person                                          float64\n",
              "X..out.of.county.trips                                float64\n",
              "X..out.of.state.trips                                 float64\n",
              "Miles.person                                          float64\n",
              "Work.trips.person                                     float64\n",
              "Non.work.trips.person                                 float64\n",
              "New.COVID.cases                                         int64\n",
              "Population                                              int64\n",
              "X..change.in.consumption                              float64\n",
              "Transit.mode.share                                    float64\n",
              "X..people.older.than.60                                 int64\n",
              "Median.income                                           int64\n",
              "X..African.Americans                                  float64\n",
              "X..Hispanic.Americans                                 float64\n",
              "X..Male                                               float64\n",
              "Employment.density                                      int64\n",
              "X..hot.spots.1000.people                                int64\n",
              "Hospital.beds.1000.people                             float64\n",
              "ICUs.1000.people                                      float64\n",
              "X..contact.tracing.workers.1000.people                float64\n",
              "New.cases.1000.people                                 float64\n",
              "Active.cases.1000.people                              float64\n",
              "X.days..decreasing.COVID.cases                          int64\n",
              "X..hospital.bed.utilization                           float64\n",
              "Testing.capacity                                      float64\n",
              "Tests.done.1000.people                                float64\n",
              "X..ICU.utilization                                    float64\n",
              "Ventilator.shortage                                     int64\n",
              "Imported.COVID.cases                                    int64\n",
              "COVID.exposure.1000.people                            float64\n",
              "X.days..decreasing.ILI.cases                            int64\n",
              "Unemployment.claims.1000.people                       float64\n",
              "Unemployment.rate                                     float64\n",
              "X..working.from.home                                  float64\n",
              "Cumulative.inflation.rate                             float64\n",
              "COVID.death.rate                                      float64\n",
              "dtype: object"
            ]
          },
          "metadata": {
            "tags": []
          },
          "execution_count": 54
        }
      ]
    },
    {
      "cell_type": "markdown",
      "metadata": {
        "id": "9UWOMGmA1sJk"
      },
      "source": [
        "## 1.2Labeled  Data"
      ]
    },
    {
      "cell_type": "code",
      "metadata": {
        "colab": {
          "base_uri": "https://localhost:8080/",
          "height": 333
        },
        "id": "B_77Pp1K1sJt",
        "outputId": "b0c42d39-5705-4d76-db50-6d946e00b5f1"
      },
      "source": [
        "CA_labeled_data = pd.read_csv('/content/drive/Shared drives/CMPE 295- Master Project/projectdata-2021/CA_CombinedData_Labeled_CDCGuideline_Jan15.csv',low_memory=False)\n",
        "CA_labeled_data.head()"
      ],
      "execution_count": null,
      "outputs": [
        {
          "output_type": "execute_result",
          "data": {
            "text/html": [
              "<div>\n",
              "<style scoped>\n",
              "    .dataframe tbody tr th:only-of-type {\n",
              "        vertical-align: middle;\n",
              "    }\n",
              "\n",
              "    .dataframe tbody tr th {\n",
              "        vertical-align: top;\n",
              "    }\n",
              "\n",
              "    .dataframe thead th {\n",
              "        text-align: right;\n",
              "    }\n",
              "</style>\n",
              "<table border=\"1\" class=\"dataframe\">\n",
              "  <thead>\n",
              "    <tr style=\"text-align: right;\">\n",
              "      <th></th>\n",
              "      <th>Date</th>\n",
              "      <th>Province_State</th>\n",
              "      <th>FIPS</th>\n",
              "      <th>County Name</th>\n",
              "      <th>population</th>\n",
              "      <th>mask_rule_active</th>\n",
              "      <th>m50</th>\n",
              "      <th>m50_index</th>\n",
              "      <th>retail_and_recreation_percent_change_from_baseline</th>\n",
              "      <th>grocery_and_pharmacy_percent_change_from_baseline</th>\n",
              "      <th>parks_percent_change_from_baseline</th>\n",
              "      <th>transit_stations_percent_change_from_baseline</th>\n",
              "      <th>workplaces_percent_change_from_baseline</th>\n",
              "      <th>residential_percent_change_from_baseline</th>\n",
              "      <th>New Cases/100k population</th>\n",
              "      <th>rolling_avg_new_cases/100k</th>\n",
              "      <th>New cases</th>\n",
              "      <th>growth_label</th>\n",
              "    </tr>\n",
              "  </thead>\n",
              "  <tbody>\n",
              "    <tr>\n",
              "      <th>0</th>\n",
              "      <td>2020-03-01</td>\n",
              "      <td>California</td>\n",
              "      <td>6001</td>\n",
              "      <td>Alameda County</td>\n",
              "      <td>1671329</td>\n",
              "      <td>0</td>\n",
              "      <td>3.684</td>\n",
              "      <td>58</td>\n",
              "      <td>6.0</td>\n",
              "      <td>9.0</td>\n",
              "      <td>15.0</td>\n",
              "      <td>1.0</td>\n",
              "      <td>4.0</td>\n",
              "      <td>0.0</td>\n",
              "      <td>0.000000</td>\n",
              "      <td>0.0</td>\n",
              "      <td>0.0</td>\n",
              "      <td>minimal</td>\n",
              "    </tr>\n",
              "    <tr>\n",
              "      <th>1</th>\n",
              "      <td>2020-03-02</td>\n",
              "      <td>California</td>\n",
              "      <td>6001</td>\n",
              "      <td>Alameda County</td>\n",
              "      <td>1671329</td>\n",
              "      <td>0</td>\n",
              "      <td>6.182</td>\n",
              "      <td>98</td>\n",
              "      <td>4.0</td>\n",
              "      <td>7.0</td>\n",
              "      <td>7.0</td>\n",
              "      <td>-1.0</td>\n",
              "      <td>3.0</td>\n",
              "      <td>0.0</td>\n",
              "      <td>0.000000</td>\n",
              "      <td>0.0</td>\n",
              "      <td>0.0</td>\n",
              "      <td>minimal</td>\n",
              "    </tr>\n",
              "    <tr>\n",
              "      <th>2</th>\n",
              "      <td>2020-03-03</td>\n",
              "      <td>California</td>\n",
              "      <td>6001</td>\n",
              "      <td>Alameda County</td>\n",
              "      <td>1671329</td>\n",
              "      <td>0</td>\n",
              "      <td>6.271</td>\n",
              "      <td>100</td>\n",
              "      <td>5.0</td>\n",
              "      <td>12.0</td>\n",
              "      <td>41.0</td>\n",
              "      <td>0.0</td>\n",
              "      <td>1.0</td>\n",
              "      <td>-1.0</td>\n",
              "      <td>0.059833</td>\n",
              "      <td>0.0</td>\n",
              "      <td>1.0</td>\n",
              "      <td>minimal</td>\n",
              "    </tr>\n",
              "    <tr>\n",
              "      <th>3</th>\n",
              "      <td>2020-03-04</td>\n",
              "      <td>California</td>\n",
              "      <td>6001</td>\n",
              "      <td>Alameda County</td>\n",
              "      <td>1671329</td>\n",
              "      <td>0</td>\n",
              "      <td>6.209</td>\n",
              "      <td>99</td>\n",
              "      <td>1.0</td>\n",
              "      <td>6.0</td>\n",
              "      <td>23.0</td>\n",
              "      <td>-3.0</td>\n",
              "      <td>1.0</td>\n",
              "      <td>0.0</td>\n",
              "      <td>0.000000</td>\n",
              "      <td>0.0</td>\n",
              "      <td>0.0</td>\n",
              "      <td>minimal</td>\n",
              "    </tr>\n",
              "    <tr>\n",
              "      <th>4</th>\n",
              "      <td>2020-03-05</td>\n",
              "      <td>California</td>\n",
              "      <td>6001</td>\n",
              "      <td>Alameda County</td>\n",
              "      <td>1671329</td>\n",
              "      <td>0</td>\n",
              "      <td>6.654</td>\n",
              "      <td>106</td>\n",
              "      <td>1.0</td>\n",
              "      <td>6.0</td>\n",
              "      <td>12.0</td>\n",
              "      <td>-5.0</td>\n",
              "      <td>-1.0</td>\n",
              "      <td>1.0</td>\n",
              "      <td>0.000000</td>\n",
              "      <td>0.0</td>\n",
              "      <td>0.0</td>\n",
              "      <td>minimal</td>\n",
              "    </tr>\n",
              "  </tbody>\n",
              "</table>\n",
              "</div>"
            ],
            "text/plain": [
              "         Date Province_State  ...  New cases growth_label\n",
              "0  2020-03-01     California  ...        0.0      minimal\n",
              "1  2020-03-02     California  ...        0.0      minimal\n",
              "2  2020-03-03     California  ...        1.0      minimal\n",
              "3  2020-03-04     California  ...        0.0      minimal\n",
              "4  2020-03-05     California  ...        0.0      minimal\n",
              "\n",
              "[5 rows x 18 columns]"
            ]
          },
          "metadata": {
            "tags": []
          },
          "execution_count": 8
        }
      ]
    },
    {
      "cell_type": "code",
      "metadata": {
        "colab": {
          "base_uri": "https://localhost:8080/"
        },
        "id": "CtGNAnZA1sJu",
        "outputId": "ece350c6-1d77-4b7f-fc28-23f9b66336d6"
      },
      "source": [
        "CA_labeled_data.dtypes"
      ],
      "execution_count": null,
      "outputs": [
        {
          "output_type": "execute_result",
          "data": {
            "text/plain": [
              "Date                                                   object\n",
              "Province_State                                         object\n",
              "FIPS                                                    int64\n",
              "County Name                                            object\n",
              "population                                              int64\n",
              "mask_rule_active                                        int64\n",
              "m50                                                   float64\n",
              "m50_index                                               int64\n",
              "retail_and_recreation_percent_change_from_baseline    float64\n",
              "grocery_and_pharmacy_percent_change_from_baseline     float64\n",
              "parks_percent_change_from_baseline                    float64\n",
              "transit_stations_percent_change_from_baseline         float64\n",
              "workplaces_percent_change_from_baseline               float64\n",
              "residential_percent_change_from_baseline              float64\n",
              "New Cases/100k population                             float64\n",
              "rolling_avg_new_cases/100k                            float64\n",
              "New cases                                             float64\n",
              "growth_label                                           object\n",
              "dtype: object"
            ]
          },
          "metadata": {
            "tags": []
          },
          "execution_count": 9
        }
      ]
    },
    {
      "cell_type": "code",
      "metadata": {
        "colab": {
          "base_uri": "https://localhost:8080/"
        },
        "id": "V6kfRB882BVg",
        "outputId": "ef94ca56-44ef-4eff-928e-e88385a82a48"
      },
      "source": [
        "CA_labeled_data.shape"
      ],
      "execution_count": null,
      "outputs": [
        {
          "output_type": "execute_result",
          "data": {
            "text/plain": [
              "(15821, 18)"
            ]
          },
          "metadata": {
            "tags": []
          },
          "execution_count": 10
        }
      ]
    },
    {
      "cell_type": "markdown",
      "metadata": {
        "id": "nItxaLWfcCGl"
      },
      "source": [
        "## Preprocessing data \n",
        "\n",
        "* drop na\n",
        "* convert categorical code"
      ]
    },
    {
      "cell_type": "code",
      "metadata": {
        "id": "xalDlwRNa4T-"
      },
      "source": [
        "#CA_superset_data = CA_superset_data.dropna()"
      ],
      "execution_count": 29,
      "outputs": []
    },
    {
      "cell_type": "code",
      "metadata": {
        "id": "1HVWG1aBcJQo",
        "colab": {
          "base_uri": "https://localhost:8080/"
        },
        "outputId": "92b3ee47-0272-4ff8-8ca9-4195b76b610f"
      },
      "source": [
        "CA_superset_data.dtypes"
      ],
      "execution_count": 55,
      "outputs": [
        {
          "output_type": "execute_result",
          "data": {
            "text/plain": [
              "Date                                                   object\n",
              "Province_State                                         object\n",
              "FIPS                                                    int64\n",
              "New cases                                               int64\n",
              "County Name                                            object\n",
              "mask_rule_severity                                    float64\n",
              "m50                                                   float64\n",
              "m50_index                                               int64\n",
              "retail_and_recreation_percent_change_from_baseline    float64\n",
              "grocery_and_pharmacy_percent_change_from_baseline     float64\n",
              "parks_percent_change_from_baseline                    float64\n",
              "transit_stations_percent_change_from_baseline         float64\n",
              "workplaces_percent_change_from_baseline               float64\n",
              "residential_percent_change_from_baseline              float64\n",
              "PopDensity                                            float64\n",
              "State_Name                                             object\n",
              "State                                                  object\n",
              "CTFIPS                                                  int64\n",
              "CTNAME                                                 object\n",
              "STFIPS                                                  int64\n",
              "Social.distancing.index                                 int64\n",
              "X..staying.home                                         int64\n",
              "Trips.person                                          float64\n",
              "X..out.of.county.trips                                float64\n",
              "X..out.of.state.trips                                 float64\n",
              "Miles.person                                          float64\n",
              "Work.trips.person                                     float64\n",
              "Non.work.trips.person                                 float64\n",
              "New.COVID.cases                                         int64\n",
              "Population                                              int64\n",
              "X..change.in.consumption                              float64\n",
              "Transit.mode.share                                    float64\n",
              "X..people.older.than.60                                 int64\n",
              "Median.income                                           int64\n",
              "X..African.Americans                                  float64\n",
              "X..Hispanic.Americans                                 float64\n",
              "X..Male                                               float64\n",
              "Employment.density                                      int64\n",
              "X..hot.spots.1000.people                                int64\n",
              "Hospital.beds.1000.people                             float64\n",
              "ICUs.1000.people                                      float64\n",
              "X..contact.tracing.workers.1000.people                float64\n",
              "New.cases.1000.people                                 float64\n",
              "Active.cases.1000.people                              float64\n",
              "X.days..decreasing.COVID.cases                          int64\n",
              "X..hospital.bed.utilization                           float64\n",
              "Testing.capacity                                      float64\n",
              "Tests.done.1000.people                                float64\n",
              "X..ICU.utilization                                    float64\n",
              "Ventilator.shortage                                     int64\n",
              "Imported.COVID.cases                                    int64\n",
              "COVID.exposure.1000.people                            float64\n",
              "X.days..decreasing.ILI.cases                            int64\n",
              "Unemployment.claims.1000.people                       float64\n",
              "Unemployment.rate                                     float64\n",
              "X..working.from.home                                  float64\n",
              "Cumulative.inflation.rate                             float64\n",
              "COVID.death.rate                                      float64\n",
              "dtype: object"
            ]
          },
          "metadata": {
            "tags": []
          },
          "execution_count": 55
        }
      ]
    },
    {
      "cell_type": "code",
      "metadata": {
        "colab": {
          "base_uri": "https://localhost:8080/"
        },
        "id": "RYEcw5xr1acy",
        "outputId": "699a7cbd-8647-4b95-c7c6-61bd71371d33"
      },
      "source": [
        "CA_superset_data.shape"
      ],
      "execution_count": 56,
      "outputs": [
        {
          "output_type": "execute_result",
          "data": {
            "text/plain": [
              "(15391, 58)"
            ]
          },
          "metadata": {
            "tags": []
          },
          "execution_count": 56
        }
      ]
    },
    {
      "cell_type": "markdown",
      "metadata": {
        "id": "dz88ruhHdbgI"
      },
      "source": [
        "## Group the data"
      ]
    },
    {
      "cell_type": "code",
      "metadata": {
        "colab": {
          "base_uri": "https://localhost:8080/"
        },
        "id": "ulNUOh09dni3",
        "outputId": "8f1f2f21-1f23-4ffe-b601-a780b4b4c66d"
      },
      "source": [
        "CA_superset_data.columns"
      ],
      "execution_count": 57,
      "outputs": [
        {
          "output_type": "execute_result",
          "data": {
            "text/plain": [
              "Index(['Date', 'Province_State', 'FIPS', 'New cases', 'County Name',\n",
              "       'mask_rule_severity', 'm50', 'm50_index',\n",
              "       'retail_and_recreation_percent_change_from_baseline',\n",
              "       'grocery_and_pharmacy_percent_change_from_baseline',\n",
              "       'parks_percent_change_from_baseline',\n",
              "       'transit_stations_percent_change_from_baseline',\n",
              "       'workplaces_percent_change_from_baseline',\n",
              "       'residential_percent_change_from_baseline', 'PopDensity', 'State_Name',\n",
              "       'State', 'CTFIPS', 'CTNAME', 'STFIPS', 'Social.distancing.index',\n",
              "       'X..staying.home', 'Trips.person', 'X..out.of.county.trips',\n",
              "       'X..out.of.state.trips', 'Miles.person', 'Work.trips.person',\n",
              "       'Non.work.trips.person', 'New.COVID.cases', 'Population',\n",
              "       'X..change.in.consumption', 'Transit.mode.share',\n",
              "       'X..people.older.than.60', 'Median.income', 'X..African.Americans',\n",
              "       'X..Hispanic.Americans', 'X..Male', 'Employment.density',\n",
              "       'X..hot.spots.1000.people', 'Hospital.beds.1000.people',\n",
              "       'ICUs.1000.people', 'X..contact.tracing.workers.1000.people',\n",
              "       'New.cases.1000.people', 'Active.cases.1000.people',\n",
              "       'X.days..decreasing.COVID.cases', 'X..hospital.bed.utilization',\n",
              "       'Testing.capacity', 'Tests.done.1000.people', 'X..ICU.utilization',\n",
              "       'Ventilator.shortage', 'Imported.COVID.cases',\n",
              "       'COVID.exposure.1000.people', 'X.days..decreasing.ILI.cases',\n",
              "       'Unemployment.claims.1000.people', 'Unemployment.rate',\n",
              "       'X..working.from.home', 'Cumulative.inflation.rate',\n",
              "       'COVID.death.rate'],\n",
              "      dtype='object')"
            ]
          },
          "metadata": {
            "tags": []
          },
          "execution_count": 57
        }
      ]
    },
    {
      "cell_type": "code",
      "metadata": {
        "id": "ZSl-K2oLdrlI"
      },
      "source": [
        "x_col_demographics = ['PopDensity','X..people.older.than.60',\r\n",
        "                      'Median.income', 'X..African.Americans',\r\n",
        "                      'X..Hispanic.Americans', 'X..Male','New cases','New.cases.1000.people']"
      ],
      "execution_count": 58,
      "outputs": []
    },
    {
      "cell_type": "code",
      "metadata": {
        "id": "luR-aqZyfIAa"
      },
      "source": [
        "x_col_hospitalization_testing = ['Hospital.beds.1000.people',\r\n",
        "       'ICUs.1000.people', \r\n",
        "       'X..hospital.bed.utilization',\r\n",
        "       'Testing.capacity', 'Tests.done.1000.people', 'X..ICU.utilization',\r\n",
        "       'Ventilator.shortage','New cases','New.cases.1000.people'] #'X..contact.tracing.workers.1000.people',"
      ],
      "execution_count": 59,
      "outputs": []
    },
    {
      "cell_type": "code",
      "metadata": {
        "id": "AKJ_Xx1RfxLL"
      },
      "source": [
        "x_col_mobility = ['retail_and_recreation_percent_change_from_baseline',\r\n",
        "       'grocery_and_pharmacy_percent_change_from_baseline','parks_percent_change_from_baseline',\r\n",
        "       'transit_stations_percent_change_from_baseline','workplaces_percent_change_from_baseline',\r\n",
        "       'residential_percent_change_from_baseline',\r\n",
        "       'X..staying.home', 'Trips.person', 'X..out.of.county.trips',\r\n",
        "       'X..out.of.state.trips', 'Miles.person', 'Work.trips.person',\r\n",
        "       'Non.work.trips.person','X..working.from.home','New cases','New.cases.1000.people']"
      ],
      "execution_count": 60,
      "outputs": []
    },
    {
      "cell_type": "code",
      "metadata": {
        "id": "-TTb78Pegu9X"
      },
      "source": [
        "x_col_socialdistancing = ['m50', 'm50_index','Social.distancing.index','New cases','New.cases.1000.people']"
      ],
      "execution_count": 61,
      "outputs": []
    },
    {
      "cell_type": "code",
      "metadata": {
        "id": "-cKerz6Lg87o"
      },
      "source": [
        "x_col_maskrule = ['mask_rule_severity','New cases','New.cases.1000.people']"
      ],
      "execution_count": 62,
      "outputs": []
    },
    {
      "cell_type": "markdown",
      "metadata": {
        "id": "oMPaT7ni0_QC"
      },
      "source": [
        "# PCA: Demographic Group"
      ]
    },
    {
      "cell_type": "markdown",
      "metadata": {
        "id": "ggqWALFS4p_B"
      },
      "source": [
        "## Feature Importance: Gini-Coefficient"
      ]
    },
    {
      "cell_type": "code",
      "metadata": {
        "colab": {
          "base_uri": "https://localhost:8080/"
        },
        "id": "33XFRI7Z5A8p",
        "outputId": "daebfc61-3509-4cd6-e4cc-2dde9b0363b6"
      },
      "source": [
        "CA_superset_data.columns"
      ],
      "execution_count": 63,
      "outputs": [
        {
          "output_type": "execute_result",
          "data": {
            "text/plain": [
              "Index(['Date', 'Province_State', 'FIPS', 'New cases', 'County Name',\n",
              "       'mask_rule_severity', 'm50', 'm50_index',\n",
              "       'retail_and_recreation_percent_change_from_baseline',\n",
              "       'grocery_and_pharmacy_percent_change_from_baseline',\n",
              "       'parks_percent_change_from_baseline',\n",
              "       'transit_stations_percent_change_from_baseline',\n",
              "       'workplaces_percent_change_from_baseline',\n",
              "       'residential_percent_change_from_baseline', 'PopDensity', 'State_Name',\n",
              "       'State', 'CTFIPS', 'CTNAME', 'STFIPS', 'Social.distancing.index',\n",
              "       'X..staying.home', 'Trips.person', 'X..out.of.county.trips',\n",
              "       'X..out.of.state.trips', 'Miles.person', 'Work.trips.person',\n",
              "       'Non.work.trips.person', 'New.COVID.cases', 'Population',\n",
              "       'X..change.in.consumption', 'Transit.mode.share',\n",
              "       'X..people.older.than.60', 'Median.income', 'X..African.Americans',\n",
              "       'X..Hispanic.Americans', 'X..Male', 'Employment.density',\n",
              "       'X..hot.spots.1000.people', 'Hospital.beds.1000.people',\n",
              "       'ICUs.1000.people', 'X..contact.tracing.workers.1000.people',\n",
              "       'New.cases.1000.people', 'Active.cases.1000.people',\n",
              "       'X.days..decreasing.COVID.cases', 'X..hospital.bed.utilization',\n",
              "       'Testing.capacity', 'Tests.done.1000.people', 'X..ICU.utilization',\n",
              "       'Ventilator.shortage', 'Imported.COVID.cases',\n",
              "       'COVID.exposure.1000.people', 'X.days..decreasing.ILI.cases',\n",
              "       'Unemployment.claims.1000.people', 'Unemployment.rate',\n",
              "       'X..working.from.home', 'Cumulative.inflation.rate',\n",
              "       'COVID.death.rate'],\n",
              "      dtype='object')"
            ]
          },
          "metadata": {
            "tags": []
          },
          "execution_count": 63
        }
      ]
    },
    {
      "cell_type": "code",
      "metadata": {
        "id": "YiWpbJFg4tNq"
      },
      "source": [
        "def gini(list_of_values):\r\n",
        "    sorted_list = sorted(list_of_values)\r\n",
        "    #print (sorted_list)\r\n",
        "    height, area = 0, 0\r\n",
        "    for value in sorted_list:\r\n",
        "        \r\n",
        "        height += value\r\n",
        "        area += height - value / 2.\r\n",
        "    \r\n",
        "    fair_area = height * len(list_of_values) / 2.\r\n",
        "    print(fair_area)\r\n",
        "    return (fair_area - area) / fair_area"
      ],
      "execution_count": 48,
      "outputs": []
    },
    {
      "cell_type": "code",
      "metadata": {
        "id": "S3_WFUcHI0GH"
      },
      "source": [
        "x_col_demographics = ['PopDensity','X..people.older.than.60',\r\n",
        "                      'Median.income', 'X..African.Americans',\r\n",
        "                      'X..Hispanic.Americans', 'X..Male','New cases','New.cases.1000.people']"
      ],
      "execution_count": 64,
      "outputs": []
    },
    {
      "cell_type": "code",
      "metadata": {
        "colab": {
          "base_uri": "https://localhost:8080/"
        },
        "id": "WO-Pa6xw4xfg",
        "outputId": "3e373a26-de86-4701-ee55-54e1363877ad"
      },
      "source": [
        "feature_cols= x_col_demographics\r\n",
        "\r\n",
        "gini_values = []\r\n",
        "for col in feature_cols:\r\n",
        "  #print(col)\r\n",
        "  dataset = CA_superset_data[col].values.tolist()\r\n",
        "  #print(dataset)\r\n",
        "  value = gini(dataset)\r\n",
        "  print('cols ',col,' - gini coeff is :',value)\r\n",
        "  gini_values.append(value)"
      ],
      "execution_count": 65,
      "outputs": [
        {
          "output_type": "stream",
          "text": [
            "35575489453.94788\n",
            "cols  PopDensity  - gini coeff is : 0.8156637311902494\n",
            "2688977001.0\n",
            "cols  X..people.older.than.60  - gini coeff is : 0.14673423679461214\n",
            "7791742870376.5\n",
            "cols  Median.income  - gini coeff is : 0.15433249671121319\n",
            "374657726.1500031\n",
            "cols  X..African.Americans  - gini coeff is : 0.46161607629775014\n",
            "3797987049.249782\n",
            "cols  X..Hispanic.Americans  - gini coeff is : 0.3070973510639532\n",
            "5971969723.955034\n",
            "cols  X..Male  - gini coeff is : 0.017576291485370876\n",
            "14339402229.5\n",
            "cols  New cases  - gini coeff is : 0.8685321834670556\n",
            "16852079.173250053\n",
            "cols  New.cases.1000.people  - gini coeff is : 0.680904683056212\n"
          ],
          "name": "stdout"
        }
      ]
    },
    {
      "cell_type": "markdown",
      "metadata": {
        "id": "JCogtyG2c_KJ"
      },
      "source": [
        "## Feature Importance: Random Forest classifier(Gini Score)"
      ]
    },
    {
      "cell_type": "code",
      "metadata": {
        "colab": {
          "base_uri": "https://localhost:8080/"
        },
        "id": "X_J5iTIP5-Sg",
        "outputId": "89388078-e038-4097-d0e1-486877175f1c"
      },
      "source": [
        "CA_labeled_data.columns"
      ],
      "execution_count": null,
      "outputs": [
        {
          "output_type": "execute_result",
          "data": {
            "text/plain": [
              "Index(['Date', 'Province_State', 'FIPS', 'County Name', 'population',\n",
              "       'mask_rule_active', 'm50', 'm50_index',\n",
              "       'retail_and_recreation_percent_change_from_baseline',\n",
              "       'grocery_and_pharmacy_percent_change_from_baseline',\n",
              "       'parks_percent_change_from_baseline',\n",
              "       'transit_stations_percent_change_from_baseline',\n",
              "       'workplaces_percent_change_from_baseline',\n",
              "       'residential_percent_change_from_baseline', 'New Cases/100k population',\n",
              "       'rolling_avg_new_cases/100k', 'New cases', 'growth_label'],\n",
              "      dtype='object')"
            ]
          },
          "metadata": {
            "tags": []
          },
          "execution_count": 15
        }
      ]
    },
    {
      "cell_type": "code",
      "metadata": {
        "colab": {
          "base_uri": "https://localhost:8080/",
          "height": 194
        },
        "id": "p-zp2Xy96mP_",
        "outputId": "2fa7498d-1e43-450a-ea34-84e3289ac34d"
      },
      "source": [
        "CA_labeled_data['growth_code'] = CA_labeled_data['growth_label'].astype('category').cat.codes\r\n",
        "\r\n",
        "CA_labeled_data.head(2)"
      ],
      "execution_count": null,
      "outputs": [
        {
          "output_type": "execute_result",
          "data": {
            "text/html": [
              "<div>\n",
              "<style scoped>\n",
              "    .dataframe tbody tr th:only-of-type {\n",
              "        vertical-align: middle;\n",
              "    }\n",
              "\n",
              "    .dataframe tbody tr th {\n",
              "        vertical-align: top;\n",
              "    }\n",
              "\n",
              "    .dataframe thead th {\n",
              "        text-align: right;\n",
              "    }\n",
              "</style>\n",
              "<table border=\"1\" class=\"dataframe\">\n",
              "  <thead>\n",
              "    <tr style=\"text-align: right;\">\n",
              "      <th></th>\n",
              "      <th>Date</th>\n",
              "      <th>Province_State</th>\n",
              "      <th>FIPS</th>\n",
              "      <th>County Name</th>\n",
              "      <th>population</th>\n",
              "      <th>mask_rule_active</th>\n",
              "      <th>m50</th>\n",
              "      <th>m50_index</th>\n",
              "      <th>retail_and_recreation_percent_change_from_baseline</th>\n",
              "      <th>grocery_and_pharmacy_percent_change_from_baseline</th>\n",
              "      <th>parks_percent_change_from_baseline</th>\n",
              "      <th>transit_stations_percent_change_from_baseline</th>\n",
              "      <th>workplaces_percent_change_from_baseline</th>\n",
              "      <th>residential_percent_change_from_baseline</th>\n",
              "      <th>New Cases/100k population</th>\n",
              "      <th>rolling_avg_new_cases/100k</th>\n",
              "      <th>New cases</th>\n",
              "      <th>growth_label</th>\n",
              "      <th>growth_code</th>\n",
              "    </tr>\n",
              "  </thead>\n",
              "  <tbody>\n",
              "    <tr>\n",
              "      <th>0</th>\n",
              "      <td>2020-03-01</td>\n",
              "      <td>California</td>\n",
              "      <td>6001</td>\n",
              "      <td>Alameda County</td>\n",
              "      <td>1671329</td>\n",
              "      <td>0</td>\n",
              "      <td>3.684</td>\n",
              "      <td>58</td>\n",
              "      <td>6.0</td>\n",
              "      <td>9.0</td>\n",
              "      <td>15.0</td>\n",
              "      <td>1.0</td>\n",
              "      <td>4.0</td>\n",
              "      <td>0.0</td>\n",
              "      <td>0.0</td>\n",
              "      <td>0.0</td>\n",
              "      <td>0.0</td>\n",
              "      <td>minimal</td>\n",
              "      <td>0</td>\n",
              "    </tr>\n",
              "    <tr>\n",
              "      <th>1</th>\n",
              "      <td>2020-03-02</td>\n",
              "      <td>California</td>\n",
              "      <td>6001</td>\n",
              "      <td>Alameda County</td>\n",
              "      <td>1671329</td>\n",
              "      <td>0</td>\n",
              "      <td>6.182</td>\n",
              "      <td>98</td>\n",
              "      <td>4.0</td>\n",
              "      <td>7.0</td>\n",
              "      <td>7.0</td>\n",
              "      <td>-1.0</td>\n",
              "      <td>3.0</td>\n",
              "      <td>0.0</td>\n",
              "      <td>0.0</td>\n",
              "      <td>0.0</td>\n",
              "      <td>0.0</td>\n",
              "      <td>minimal</td>\n",
              "      <td>0</td>\n",
              "    </tr>\n",
              "  </tbody>\n",
              "</table>\n",
              "</div>"
            ],
            "text/plain": [
              "         Date Province_State  FIPS  ... New cases  growth_label  growth_code\n",
              "0  2020-03-01     California  6001  ...       0.0       minimal            0\n",
              "1  2020-03-02     California  6001  ...       0.0       minimal            0\n",
              "\n",
              "[2 rows x 19 columns]"
            ]
          },
          "metadata": {
            "tags": []
          },
          "execution_count": 17
        }
      ]
    },
    {
      "cell_type": "code",
      "metadata": {
        "id": "Q015pwCsbJRZ"
      },
      "source": [
        "feature_labels = ['FIPS','population',\n",
        "       'mask_rule_active', 'm50', 'm50_index',\n",
        "       'retail_and_recreation_percent_change_from_baseline',\n",
        "       'grocery_and_pharmacy_percent_change_from_baseline',\n",
        "       'parks_percent_change_from_baseline',\n",
        "       'transit_stations_percent_change_from_baseline',\n",
        "       'workplaces_percent_change_from_baseline',\n",
        "       'residential_percent_change_from_baseline']\n",
        "\n",
        "target_column = ['growth_code']\n",
        "\n",
        "X = CA_labeled_data[feature_labels]\n",
        "y = CA_labeled_data[target_column]\n",
        "\n",
        "X_train, X_test, y_train, y_test = train_test_split(X, y, test_size=0.4, random_state=0)\n"
      ],
      "execution_count": null,
      "outputs": []
    },
    {
      "cell_type": "code",
      "metadata": {
        "id": "2WlgVFSHbGWY",
        "colab": {
          "base_uri": "https://localhost:8080/"
        },
        "outputId": "7612b2f7-8f4f-43cc-fba7-9e3922d56eb8"
      },
      "source": [
        "# Create a random forest classifier\n",
        "clf = RandomForestClassifier(n_estimators=10000, random_state=0, n_jobs=-1)\n",
        "\n",
        "# Train the classifier\n",
        "clf.fit(X_train, y_train)\n",
        "\n",
        "# Print the name and gini importance of each feature\n",
        "for feature in zip(feature_labels, clf.feature_importances_):\n",
        "    print(feature)"
      ],
      "execution_count": null,
      "outputs": [
        {
          "output_type": "stream",
          "text": [
            "/usr/local/lib/python3.6/dist-packages/ipykernel_launcher.py:5: DataConversionWarning: A column-vector y was passed when a 1d array was expected. Please change the shape of y to (n_samples,), for example using ravel().\n",
            "  \"\"\"\n"
          ],
          "name": "stderr"
        },
        {
          "output_type": "stream",
          "text": [
            "('FIPS', 0.05127801096902735)\n",
            "('population', 0.081372238181775)\n",
            "('mask_rule_active', 0.2358482619800189)\n",
            "('m50', 0.0909342137286611)\n",
            "('m50_index', 0.0828869306919277)\n",
            "('retail_and_recreation_percent_change_from_baseline', 0.09855786271336092)\n",
            "('grocery_and_pharmacy_percent_change_from_baseline', 0.07420155484923242)\n",
            "('parks_percent_change_from_baseline', 0.06930484250145207)\n",
            "('transit_stations_percent_change_from_baseline', 0.06075885210040801)\n",
            "('workplaces_percent_change_from_baseline', 0.08547987336877201)\n",
            "('residential_percent_change_from_baseline', 0.06937735891536431)\n"
          ],
          "name": "stdout"
        }
      ]
    },
    {
      "cell_type": "code",
      "metadata": {
        "id": "3Vc0z9x3dsxZ",
        "colab": {
          "base_uri": "https://localhost:8080/"
        },
        "outputId": "a5a5e8f3-b6c5-42e1-f02b-fd51065f9d6e"
      },
      "source": [
        "\n",
        "#  Supported criteria are “gini” for the Gini impurity and “entropy” for the information gain. \n",
        "clf = RandomForestClassifier(n_estimators=10000, random_state=0,criterion='gini', n_jobs=-1)\n",
        "\n",
        "# Train the classifier\n",
        "clf.fit(X_train, y_train)\n",
        "\n",
        "# Print the name and gini importance of each feature\n",
        "for feature in zip(feature_labels, clf.feature_importances_):\n",
        "    print(feature)"
      ],
      "execution_count": null,
      "outputs": [
        {
          "output_type": "stream",
          "text": [
            "/usr/local/lib/python3.6/dist-packages/ipykernel_launcher.py:6: DataConversionWarning: A column-vector y was passed when a 1d array was expected. Please change the shape of y to (n_samples,), for example using ravel().\n",
            "  \n"
          ],
          "name": "stderr"
        },
        {
          "output_type": "stream",
          "text": [
            "('FIPS', 0.05127801096902735)\n",
            "('population', 0.081372238181775)\n",
            "('mask_rule_active', 0.2358482619800189)\n",
            "('m50', 0.0909342137286611)\n",
            "('m50_index', 0.0828869306919277)\n",
            "('retail_and_recreation_percent_change_from_baseline', 0.09855786271336092)\n",
            "('grocery_and_pharmacy_percent_change_from_baseline', 0.07420155484923242)\n",
            "('parks_percent_change_from_baseline', 0.06930484250145207)\n",
            "('transit_stations_percent_change_from_baseline', 0.06075885210040801)\n",
            "('workplaces_percent_change_from_baseline', 0.08547987336877201)\n",
            "('residential_percent_change_from_baseline', 0.06937735891536431)\n"
          ],
          "name": "stdout"
        }
      ]
    },
    {
      "cell_type": "markdown",
      "metadata": {
        "id": "eXzHRrL_0Ijd"
      },
      "source": [
        "## Feature Importance: Extra tree classifier"
      ]
    },
    {
      "cell_type": "code",
      "metadata": {
        "id": "89L6qNoE0UQI"
      },
      "source": [
        "from sklearn.ensemble import ExtraTreesClassifier\n",
        "from sklearn.feature_selection import RFE"
      ],
      "execution_count": null,
      "outputs": []
    },
    {
      "cell_type": "code",
      "metadata": {
        "id": "QEUchCb20L2Q"
      },
      "source": [
        "feature_labels = ['FIPS','population',\n",
        "       'mask_rule_active', 'm50', 'm50_index',\n",
        "       'retail_and_recreation_percent_change_from_baseline',\n",
        "       'grocery_and_pharmacy_percent_change_from_baseline',\n",
        "       'parks_percent_change_from_baseline',\n",
        "       'transit_stations_percent_change_from_baseline',\n",
        "       'workplaces_percent_change_from_baseline',\n",
        "       'residential_percent_change_from_baseline']\n",
        "\n",
        "target_column = ['growth_code']\n",
        "\n",
        "X = CA_labeled_data[feature_labels]\n",
        "y = CA_labeled_data[target_column]\n",
        "\n",
        "X_train, X_test, y_train, y_test = train_test_split(X, y, test_size=0.4, random_state=0)"
      ],
      "execution_count": null,
      "outputs": []
    },
    {
      "cell_type": "code",
      "metadata": {
        "colab": {
          "base_uri": "https://localhost:8080/"
        },
        "id": "tWGwUJ5E8v9O",
        "outputId": "e6fa47c1-fece-4d71-e1c6-975e97f82d70"
      },
      "source": [
        "# Create a random forest classifier\r\n",
        "clf = RandomForestClassifier(n_estimators=10000, random_state=0, n_jobs=-1)\r\n",
        "\r\n",
        "# Train the classifier\r\n",
        "clf.fit(X_train, y_train)\r\n",
        "\r\n",
        "# Print the name and gini importance of each feature\r\n",
        "for feature in zip(feature_labels, clf.feature_importances_):\r\n",
        "    print(feature)\r\n",
        "\r\n",
        "\r\n",
        "#  Supported criteria are “gini” for the Gini impurity and “entropy” for the information gain. \r\n",
        "clf = RandomForestClassifier(n_estimators=10000, random_state=0,criterion='gini', n_jobs=-1)# Train the classifier\r\n",
        "clf.fit(X_train, y_train)\r\n",
        "# Print the name and gini importance of each feature\r\n",
        "for feature in zip(feature_labels, clf.feature_importances_):\r\n",
        "    print(feature)\r\n",
        "\r\n",
        "\r\n",
        "model = ExtraTreesClassifier()\r\n",
        "model.fit(X, y.values.ravel())\r\n",
        "# display the relative importance of each attribute\r\n",
        "#print(model.feature_importances_)\r\n",
        "\r\n",
        "\r\n",
        "# create the RFE model \r\n",
        "rfe = RFE(model, 3)\r\n",
        "rfe = rfe.fit(X, y.values.ravel())\r\n",
        "# summarize the selection of the attributes\r\n",
        "#print(rfe.support_)\r\n",
        "\r\n",
        "print(\"\\nFeatures with ranking:\\n\")\r\n",
        "for index in range(len(rfe.ranking_)):\r\n",
        "  print(feature_labels[index], rfe.ranking_[index])\r\n",
        "\r\n",
        "# for index in range(len(rfe.ranking_)):\r\n",
        "#   print( rfe.ranking_[index])\r\n",
        "#print(rfe.ranking_)\r\n",
        "#print(rfe.n_features_)\r\n",
        "#rfe.n_features_to_select"
      ],
      "execution_count": null,
      "outputs": [
        {
          "output_type": "stream",
          "text": [
            "/usr/local/lib/python3.6/dist-packages/ipykernel_launcher.py:5: DataConversionWarning: A column-vector y was passed when a 1d array was expected. Please change the shape of y to (n_samples,), for example using ravel().\n",
            "  \"\"\"\n"
          ],
          "name": "stderr"
        },
        {
          "output_type": "stream",
          "text": [
            "('FIPS', 0.05127801096902735)\n",
            "('population', 0.081372238181775)\n",
            "('mask_rule_active', 0.2358482619800189)\n",
            "('m50', 0.0909342137286611)\n",
            "('m50_index', 0.0828869306919277)\n",
            "('retail_and_recreation_percent_change_from_baseline', 0.09855786271336092)\n",
            "('grocery_and_pharmacy_percent_change_from_baseline', 0.07420155484923242)\n",
            "('parks_percent_change_from_baseline', 0.06930484250145207)\n",
            "('transit_stations_percent_change_from_baseline', 0.06075885210040801)\n",
            "('workplaces_percent_change_from_baseline', 0.08547987336877201)\n",
            "('residential_percent_change_from_baseline', 0.06937735891536431)\n"
          ],
          "name": "stdout"
        },
        {
          "output_type": "stream",
          "text": [
            "/usr/local/lib/python3.6/dist-packages/ipykernel_launcher.py:14: DataConversionWarning: A column-vector y was passed when a 1d array was expected. Please change the shape of y to (n_samples,), for example using ravel().\n",
            "  \n"
          ],
          "name": "stderr"
        },
        {
          "output_type": "stream",
          "text": [
            "('FIPS', 0.05127801096902735)\n",
            "('population', 0.081372238181775)\n",
            "('mask_rule_active', 0.2358482619800189)\n",
            "('m50', 0.0909342137286611)\n",
            "('m50_index', 0.0828869306919277)\n",
            "('retail_and_recreation_percent_change_from_baseline', 0.09855786271336092)\n",
            "('grocery_and_pharmacy_percent_change_from_baseline', 0.07420155484923242)\n",
            "('parks_percent_change_from_baseline', 0.06930484250145207)\n",
            "('transit_stations_percent_change_from_baseline', 0.06075885210040801)\n",
            "('workplaces_percent_change_from_baseline', 0.08547987336877201)\n",
            "('residential_percent_change_from_baseline', 0.06937735891536431)\n",
            "\n",
            "Features with ranking:\n",
            "\n",
            "FIPS 9\n",
            "population 2\n",
            "mask_rule_active 1\n",
            "m50 1\n",
            "m50_index 4\n",
            "retail_and_recreation_percent_change_from_baseline 1\n",
            "grocery_and_pharmacy_percent_change_from_baseline 7\n",
            "parks_percent_change_from_baseline 5\n",
            "transit_stations_percent_change_from_baseline 8\n",
            "workplaces_percent_change_from_baseline 3\n",
            "residential_percent_change_from_baseline 6\n"
          ],
          "name": "stdout"
        }
      ]
    },
    {
      "cell_type": "markdown",
      "metadata": {
        "id": "QGhvva7gMh9Z"
      },
      "source": [
        "# PCA: Hospitalization and testing Group"
      ]
    },
    {
      "cell_type": "markdown",
      "metadata": {
        "id": "C6EPIHIGMh9t"
      },
      "source": [
        "## Feature Importance: Gini-Coefficient"
      ]
    },
    {
      "cell_type": "code",
      "metadata": {
        "colab": {
          "base_uri": "https://localhost:8080/"
        },
        "id": "cAcTBGjHMh9u",
        "outputId": "8cfd638b-e97b-4e4d-e8b1-f04949b5f2d5"
      },
      "source": [
        "CA_superset_data.columns"
      ],
      "execution_count": 66,
      "outputs": [
        {
          "output_type": "execute_result",
          "data": {
            "text/plain": [
              "Index(['Date', 'Province_State', 'FIPS', 'New cases', 'County Name',\n",
              "       'mask_rule_severity', 'm50', 'm50_index',\n",
              "       'retail_and_recreation_percent_change_from_baseline',\n",
              "       'grocery_and_pharmacy_percent_change_from_baseline',\n",
              "       'parks_percent_change_from_baseline',\n",
              "       'transit_stations_percent_change_from_baseline',\n",
              "       'workplaces_percent_change_from_baseline',\n",
              "       'residential_percent_change_from_baseline', 'PopDensity', 'State_Name',\n",
              "       'State', 'CTFIPS', 'CTNAME', 'STFIPS', 'Social.distancing.index',\n",
              "       'X..staying.home', 'Trips.person', 'X..out.of.county.trips',\n",
              "       'X..out.of.state.trips', 'Miles.person', 'Work.trips.person',\n",
              "       'Non.work.trips.person', 'New.COVID.cases', 'Population',\n",
              "       'X..change.in.consumption', 'Transit.mode.share',\n",
              "       'X..people.older.than.60', 'Median.income', 'X..African.Americans',\n",
              "       'X..Hispanic.Americans', 'X..Male', 'Employment.density',\n",
              "       'X..hot.spots.1000.people', 'Hospital.beds.1000.people',\n",
              "       'ICUs.1000.people', 'X..contact.tracing.workers.1000.people',\n",
              "       'New.cases.1000.people', 'Active.cases.1000.people',\n",
              "       'X.days..decreasing.COVID.cases', 'X..hospital.bed.utilization',\n",
              "       'Testing.capacity', 'Tests.done.1000.people', 'X..ICU.utilization',\n",
              "       'Ventilator.shortage', 'Imported.COVID.cases',\n",
              "       'COVID.exposure.1000.people', 'X.days..decreasing.ILI.cases',\n",
              "       'Unemployment.claims.1000.people', 'Unemployment.rate',\n",
              "       'X..working.from.home', 'Cumulative.inflation.rate',\n",
              "       'COVID.death.rate'],\n",
              "      dtype='object')"
            ]
          },
          "metadata": {
            "tags": []
          },
          "execution_count": 66
        }
      ]
    },
    {
      "cell_type": "code",
      "metadata": {
        "id": "jmhGarIhMh9v"
      },
      "source": [
        "def gini(list_of_values):\r\n",
        "    sorted_list = sorted(list_of_values)\r\n",
        "    #print (sorted_list)\r\n",
        "    height, area = 0, 0\r\n",
        "    for value in sorted_list:\r\n",
        "        \r\n",
        "        height += value\r\n",
        "        area += height - value / 2.\r\n",
        "    \r\n",
        "    fair_area = height * len(list_of_values) / 2.\r\n",
        "    print(fair_area)\r\n",
        "    return (fair_area - area) / fair_area"
      ],
      "execution_count": 67,
      "outputs": []
    },
    {
      "cell_type": "code",
      "metadata": {
        "id": "c-2kWqgPMh9w"
      },
      "source": [
        "x_col_hospitalization_testing = ['Hospital.beds.1000.people',\r\n",
        "       'ICUs.1000.people', \r\n",
        "       'X..hospital.bed.utilization',\r\n",
        "       'Testing.capacity', 'Tests.done.1000.people', 'X..ICU.utilization',\r\n",
        "       'Ventilator.shortage','New cases','New.cases.1000.people'] #'X..contact.tracing.workers.1000.people',"
      ],
      "execution_count": 68,
      "outputs": []
    },
    {
      "cell_type": "code",
      "metadata": {
        "colab": {
          "base_uri": "https://localhost:8080/"
        },
        "id": "IugaLiBBMh9w",
        "outputId": "81e6e3a9-2c86-4839-d146-5622559f002d"
      },
      "source": [
        "feature_cols= x_col_hospitalization_testing\r\n",
        "\r\n",
        "gini_values = []\r\n",
        "for col in feature_cols:\r\n",
        "  #print(col)\r\n",
        "  dataset = CA_superset_data[col].values.tolist()\r\n",
        "  #print(dataset)\r\n",
        "  value = gini(dataset)\r\n",
        "  print('cols ',col,' - gini coeff is :',value)\r\n",
        "  gini_values.append(value)"
      ],
      "execution_count": 69,
      "outputs": [
        {
          "output_type": "stream",
          "text": [
            "242804953.02494016\n",
            "cols  Hospital.beds.1000.people  - gini coeff is : -8.628750104779691e-14\n",
            "26057116.909992337\n",
            "cols  ICUs.1000.people  - gini coeff is : -2.3818190088626247e-13\n",
            "6956397389.468079\n",
            "cols  X..hospital.bed.utilization  - gini coeff is : 0.03308998365992187\n",
            "847893268.2000415\n",
            "cols  Testing.capacity  - gini coeff is : 0.22260662795532127\n",
            "27711428164.375595\n",
            "cols  Tests.done.1000.people  - gini coeff is : 0.525695711903369\n",
            "1850321257.0899777\n",
            "cols  X..ICU.utilization  - gini coeff is : 0.2995730960210415\n",
            "74971523352.5\n",
            "cols  Ventilator.shortage  - gini coeff is : 0.35019564195802766\n",
            "14339402229.5\n",
            "cols  New cases  - gini coeff is : 0.8685321834670556\n",
            "16852079.173250053\n",
            "cols  New.cases.1000.people  - gini coeff is : 0.680904683056212\n"
          ],
          "name": "stdout"
        }
      ]
    },
    {
      "cell_type": "markdown",
      "metadata": {
        "id": "qmEaxqK-Mh9x"
      },
      "source": [
        "## Feature Importance: Random Forest classifier(Gini Score)"
      ]
    },
    {
      "cell_type": "code",
      "metadata": {
        "colab": {
          "base_uri": "https://localhost:8080/"
        },
        "id": "HbEGEOxgMh9x",
        "outputId": "89388078-e038-4097-d0e1-486877175f1c"
      },
      "source": [
        "CA_labeled_data.columns"
      ],
      "execution_count": null,
      "outputs": [
        {
          "output_type": "execute_result",
          "data": {
            "text/plain": [
              "Index(['Date', 'Province_State', 'FIPS', 'County Name', 'population',\n",
              "       'mask_rule_active', 'm50', 'm50_index',\n",
              "       'retail_and_recreation_percent_change_from_baseline',\n",
              "       'grocery_and_pharmacy_percent_change_from_baseline',\n",
              "       'parks_percent_change_from_baseline',\n",
              "       'transit_stations_percent_change_from_baseline',\n",
              "       'workplaces_percent_change_from_baseline',\n",
              "       'residential_percent_change_from_baseline', 'New Cases/100k population',\n",
              "       'rolling_avg_new_cases/100k', 'New cases', 'growth_label'],\n",
              "      dtype='object')"
            ]
          },
          "metadata": {
            "tags": []
          },
          "execution_count": 15
        }
      ]
    },
    {
      "cell_type": "code",
      "metadata": {
        "colab": {
          "base_uri": "https://localhost:8080/",
          "height": 194
        },
        "id": "95_iBgtEMh9x",
        "outputId": "2fa7498d-1e43-450a-ea34-84e3289ac34d"
      },
      "source": [
        "CA_labeled_data['growth_code'] = CA_labeled_data['growth_label'].astype('category').cat.codes\r\n",
        "\r\n",
        "CA_labeled_data.head(2)"
      ],
      "execution_count": null,
      "outputs": [
        {
          "output_type": "execute_result",
          "data": {
            "text/html": [
              "<div>\n",
              "<style scoped>\n",
              "    .dataframe tbody tr th:only-of-type {\n",
              "        vertical-align: middle;\n",
              "    }\n",
              "\n",
              "    .dataframe tbody tr th {\n",
              "        vertical-align: top;\n",
              "    }\n",
              "\n",
              "    .dataframe thead th {\n",
              "        text-align: right;\n",
              "    }\n",
              "</style>\n",
              "<table border=\"1\" class=\"dataframe\">\n",
              "  <thead>\n",
              "    <tr style=\"text-align: right;\">\n",
              "      <th></th>\n",
              "      <th>Date</th>\n",
              "      <th>Province_State</th>\n",
              "      <th>FIPS</th>\n",
              "      <th>County Name</th>\n",
              "      <th>population</th>\n",
              "      <th>mask_rule_active</th>\n",
              "      <th>m50</th>\n",
              "      <th>m50_index</th>\n",
              "      <th>retail_and_recreation_percent_change_from_baseline</th>\n",
              "      <th>grocery_and_pharmacy_percent_change_from_baseline</th>\n",
              "      <th>parks_percent_change_from_baseline</th>\n",
              "      <th>transit_stations_percent_change_from_baseline</th>\n",
              "      <th>workplaces_percent_change_from_baseline</th>\n",
              "      <th>residential_percent_change_from_baseline</th>\n",
              "      <th>New Cases/100k population</th>\n",
              "      <th>rolling_avg_new_cases/100k</th>\n",
              "      <th>New cases</th>\n",
              "      <th>growth_label</th>\n",
              "      <th>growth_code</th>\n",
              "    </tr>\n",
              "  </thead>\n",
              "  <tbody>\n",
              "    <tr>\n",
              "      <th>0</th>\n",
              "      <td>2020-03-01</td>\n",
              "      <td>California</td>\n",
              "      <td>6001</td>\n",
              "      <td>Alameda County</td>\n",
              "      <td>1671329</td>\n",
              "      <td>0</td>\n",
              "      <td>3.684</td>\n",
              "      <td>58</td>\n",
              "      <td>6.0</td>\n",
              "      <td>9.0</td>\n",
              "      <td>15.0</td>\n",
              "      <td>1.0</td>\n",
              "      <td>4.0</td>\n",
              "      <td>0.0</td>\n",
              "      <td>0.0</td>\n",
              "      <td>0.0</td>\n",
              "      <td>0.0</td>\n",
              "      <td>minimal</td>\n",
              "      <td>0</td>\n",
              "    </tr>\n",
              "    <tr>\n",
              "      <th>1</th>\n",
              "      <td>2020-03-02</td>\n",
              "      <td>California</td>\n",
              "      <td>6001</td>\n",
              "      <td>Alameda County</td>\n",
              "      <td>1671329</td>\n",
              "      <td>0</td>\n",
              "      <td>6.182</td>\n",
              "      <td>98</td>\n",
              "      <td>4.0</td>\n",
              "      <td>7.0</td>\n",
              "      <td>7.0</td>\n",
              "      <td>-1.0</td>\n",
              "      <td>3.0</td>\n",
              "      <td>0.0</td>\n",
              "      <td>0.0</td>\n",
              "      <td>0.0</td>\n",
              "      <td>0.0</td>\n",
              "      <td>minimal</td>\n",
              "      <td>0</td>\n",
              "    </tr>\n",
              "  </tbody>\n",
              "</table>\n",
              "</div>"
            ],
            "text/plain": [
              "         Date Province_State  FIPS  ... New cases  growth_label  growth_code\n",
              "0  2020-03-01     California  6001  ...       0.0       minimal            0\n",
              "1  2020-03-02     California  6001  ...       0.0       minimal            0\n",
              "\n",
              "[2 rows x 19 columns]"
            ]
          },
          "metadata": {
            "tags": []
          },
          "execution_count": 17
        }
      ]
    },
    {
      "cell_type": "code",
      "metadata": {
        "id": "058DOJWSMh9y"
      },
      "source": [
        "feature_labels = ['FIPS','population',\n",
        "       'mask_rule_active', 'm50', 'm50_index',\n",
        "       'retail_and_recreation_percent_change_from_baseline',\n",
        "       'grocery_and_pharmacy_percent_change_from_baseline',\n",
        "       'parks_percent_change_from_baseline',\n",
        "       'transit_stations_percent_change_from_baseline',\n",
        "       'workplaces_percent_change_from_baseline',\n",
        "       'residential_percent_change_from_baseline']\n",
        "\n",
        "target_column = ['growth_code']\n",
        "\n",
        "X = CA_labeled_data[feature_labels]\n",
        "y = CA_labeled_data[target_column]\n",
        "\n",
        "X_train, X_test, y_train, y_test = train_test_split(X, y, test_size=0.4, random_state=0)\n"
      ],
      "execution_count": null,
      "outputs": []
    },
    {
      "cell_type": "code",
      "metadata": {
        "colab": {
          "base_uri": "https://localhost:8080/"
        },
        "id": "hLFMK-e6Mh9y",
        "outputId": "7612b2f7-8f4f-43cc-fba7-9e3922d56eb8"
      },
      "source": [
        "# Create a random forest classifier\n",
        "clf = RandomForestClassifier(n_estimators=10000, random_state=0, n_jobs=-1)\n",
        "\n",
        "# Train the classifier\n",
        "clf.fit(X_train, y_train)\n",
        "\n",
        "# Print the name and gini importance of each feature\n",
        "for feature in zip(feature_labels, clf.feature_importances_):\n",
        "    print(feature)"
      ],
      "execution_count": null,
      "outputs": [
        {
          "output_type": "stream",
          "text": [
            "/usr/local/lib/python3.6/dist-packages/ipykernel_launcher.py:5: DataConversionWarning: A column-vector y was passed when a 1d array was expected. Please change the shape of y to (n_samples,), for example using ravel().\n",
            "  \"\"\"\n"
          ],
          "name": "stderr"
        },
        {
          "output_type": "stream",
          "text": [
            "('FIPS', 0.05127801096902735)\n",
            "('population', 0.081372238181775)\n",
            "('mask_rule_active', 0.2358482619800189)\n",
            "('m50', 0.0909342137286611)\n",
            "('m50_index', 0.0828869306919277)\n",
            "('retail_and_recreation_percent_change_from_baseline', 0.09855786271336092)\n",
            "('grocery_and_pharmacy_percent_change_from_baseline', 0.07420155484923242)\n",
            "('parks_percent_change_from_baseline', 0.06930484250145207)\n",
            "('transit_stations_percent_change_from_baseline', 0.06075885210040801)\n",
            "('workplaces_percent_change_from_baseline', 0.08547987336877201)\n",
            "('residential_percent_change_from_baseline', 0.06937735891536431)\n"
          ],
          "name": "stdout"
        }
      ]
    },
    {
      "cell_type": "code",
      "metadata": {
        "colab": {
          "base_uri": "https://localhost:8080/"
        },
        "id": "C_T0zdsDMh9z",
        "outputId": "a5a5e8f3-b6c5-42e1-f02b-fd51065f9d6e"
      },
      "source": [
        "\n",
        "#  Supported criteria are “gini” for the Gini impurity and “entropy” for the information gain. \n",
        "clf = RandomForestClassifier(n_estimators=10000, random_state=0,criterion='gini', n_jobs=-1)\n",
        "\n",
        "# Train the classifier\n",
        "clf.fit(X_train, y_train)\n",
        "\n",
        "# Print the name and gini importance of each feature\n",
        "for feature in zip(feature_labels, clf.feature_importances_):\n",
        "    print(feature)"
      ],
      "execution_count": null,
      "outputs": [
        {
          "output_type": "stream",
          "text": [
            "/usr/local/lib/python3.6/dist-packages/ipykernel_launcher.py:6: DataConversionWarning: A column-vector y was passed when a 1d array was expected. Please change the shape of y to (n_samples,), for example using ravel().\n",
            "  \n"
          ],
          "name": "stderr"
        },
        {
          "output_type": "stream",
          "text": [
            "('FIPS', 0.05127801096902735)\n",
            "('population', 0.081372238181775)\n",
            "('mask_rule_active', 0.2358482619800189)\n",
            "('m50', 0.0909342137286611)\n",
            "('m50_index', 0.0828869306919277)\n",
            "('retail_and_recreation_percent_change_from_baseline', 0.09855786271336092)\n",
            "('grocery_and_pharmacy_percent_change_from_baseline', 0.07420155484923242)\n",
            "('parks_percent_change_from_baseline', 0.06930484250145207)\n",
            "('transit_stations_percent_change_from_baseline', 0.06075885210040801)\n",
            "('workplaces_percent_change_from_baseline', 0.08547987336877201)\n",
            "('residential_percent_change_from_baseline', 0.06937735891536431)\n"
          ],
          "name": "stdout"
        }
      ]
    },
    {
      "cell_type": "markdown",
      "metadata": {
        "id": "_cuxjqayMh9z"
      },
      "source": [
        "## Feature Importance: Extra tree classifier"
      ]
    },
    {
      "cell_type": "code",
      "metadata": {
        "id": "4T0zEKOBMh9z"
      },
      "source": [
        "from sklearn.ensemble import ExtraTreesClassifier\n",
        "from sklearn.feature_selection import RFE"
      ],
      "execution_count": null,
      "outputs": []
    },
    {
      "cell_type": "code",
      "metadata": {
        "id": "Eug3kxemMh90"
      },
      "source": [
        "feature_labels = ['FIPS','population',\n",
        "       'mask_rule_active', 'm50', 'm50_index',\n",
        "       'retail_and_recreation_percent_change_from_baseline',\n",
        "       'grocery_and_pharmacy_percent_change_from_baseline',\n",
        "       'parks_percent_change_from_baseline',\n",
        "       'transit_stations_percent_change_from_baseline',\n",
        "       'workplaces_percent_change_from_baseline',\n",
        "       'residential_percent_change_from_baseline']\n",
        "\n",
        "target_column = ['growth_code']\n",
        "\n",
        "X = CA_labeled_data[feature_labels]\n",
        "y = CA_labeled_data[target_column]\n",
        "\n",
        "X_train, X_test, y_train, y_test = train_test_split(X, y, test_size=0.4, random_state=0)"
      ],
      "execution_count": null,
      "outputs": []
    },
    {
      "cell_type": "code",
      "metadata": {
        "colab": {
          "base_uri": "https://localhost:8080/"
        },
        "id": "9ibDHy_dMh90",
        "outputId": "e6fa47c1-fece-4d71-e1c6-975e97f82d70"
      },
      "source": [
        "# Create a random forest classifier\r\n",
        "clf = RandomForestClassifier(n_estimators=10000, random_state=0, n_jobs=-1)\r\n",
        "\r\n",
        "# Train the classifier\r\n",
        "clf.fit(X_train, y_train)\r\n",
        "\r\n",
        "# Print the name and gini importance of each feature\r\n",
        "for feature in zip(feature_labels, clf.feature_importances_):\r\n",
        "    print(feature)\r\n",
        "\r\n",
        "\r\n",
        "#  Supported criteria are “gini” for the Gini impurity and “entropy” for the information gain. \r\n",
        "clf = RandomForestClassifier(n_estimators=10000, random_state=0,criterion='gini', n_jobs=-1)# Train the classifier\r\n",
        "clf.fit(X_train, y_train)\r\n",
        "# Print the name and gini importance of each feature\r\n",
        "for feature in zip(feature_labels, clf.feature_importances_):\r\n",
        "    print(feature)\r\n",
        "\r\n",
        "\r\n",
        "model = ExtraTreesClassifier()\r\n",
        "model.fit(X, y.values.ravel())\r\n",
        "# display the relative importance of each attribute\r\n",
        "#print(model.feature_importances_)\r\n",
        "\r\n",
        "\r\n",
        "# create the RFE model \r\n",
        "rfe = RFE(model, 3)\r\n",
        "rfe = rfe.fit(X, y.values.ravel())\r\n",
        "# summarize the selection of the attributes\r\n",
        "#print(rfe.support_)\r\n",
        "\r\n",
        "print(\"\\nFeatures with ranking:\\n\")\r\n",
        "for index in range(len(rfe.ranking_)):\r\n",
        "  print(feature_labels[index], rfe.ranking_[index])\r\n",
        "\r\n",
        "# for index in range(len(rfe.ranking_)):\r\n",
        "#   print( rfe.ranking_[index])\r\n",
        "#print(rfe.ranking_)\r\n",
        "#print(rfe.n_features_)\r\n",
        "#rfe.n_features_to_select"
      ],
      "execution_count": null,
      "outputs": [
        {
          "output_type": "stream",
          "text": [
            "/usr/local/lib/python3.6/dist-packages/ipykernel_launcher.py:5: DataConversionWarning: A column-vector y was passed when a 1d array was expected. Please change the shape of y to (n_samples,), for example using ravel().\n",
            "  \"\"\"\n"
          ],
          "name": "stderr"
        },
        {
          "output_type": "stream",
          "text": [
            "('FIPS', 0.05127801096902735)\n",
            "('population', 0.081372238181775)\n",
            "('mask_rule_active', 0.2358482619800189)\n",
            "('m50', 0.0909342137286611)\n",
            "('m50_index', 0.0828869306919277)\n",
            "('retail_and_recreation_percent_change_from_baseline', 0.09855786271336092)\n",
            "('grocery_and_pharmacy_percent_change_from_baseline', 0.07420155484923242)\n",
            "('parks_percent_change_from_baseline', 0.06930484250145207)\n",
            "('transit_stations_percent_change_from_baseline', 0.06075885210040801)\n",
            "('workplaces_percent_change_from_baseline', 0.08547987336877201)\n",
            "('residential_percent_change_from_baseline', 0.06937735891536431)\n"
          ],
          "name": "stdout"
        },
        {
          "output_type": "stream",
          "text": [
            "/usr/local/lib/python3.6/dist-packages/ipykernel_launcher.py:14: DataConversionWarning: A column-vector y was passed when a 1d array was expected. Please change the shape of y to (n_samples,), for example using ravel().\n",
            "  \n"
          ],
          "name": "stderr"
        },
        {
          "output_type": "stream",
          "text": [
            "('FIPS', 0.05127801096902735)\n",
            "('population', 0.081372238181775)\n",
            "('mask_rule_active', 0.2358482619800189)\n",
            "('m50', 0.0909342137286611)\n",
            "('m50_index', 0.0828869306919277)\n",
            "('retail_and_recreation_percent_change_from_baseline', 0.09855786271336092)\n",
            "('grocery_and_pharmacy_percent_change_from_baseline', 0.07420155484923242)\n",
            "('parks_percent_change_from_baseline', 0.06930484250145207)\n",
            "('transit_stations_percent_change_from_baseline', 0.06075885210040801)\n",
            "('workplaces_percent_change_from_baseline', 0.08547987336877201)\n",
            "('residential_percent_change_from_baseline', 0.06937735891536431)\n",
            "\n",
            "Features with ranking:\n",
            "\n",
            "FIPS 9\n",
            "population 2\n",
            "mask_rule_active 1\n",
            "m50 1\n",
            "m50_index 4\n",
            "retail_and_recreation_percent_change_from_baseline 1\n",
            "grocery_and_pharmacy_percent_change_from_baseline 7\n",
            "parks_percent_change_from_baseline 5\n",
            "transit_stations_percent_change_from_baseline 8\n",
            "workplaces_percent_change_from_baseline 3\n",
            "residential_percent_change_from_baseline 6\n"
          ],
          "name": "stdout"
        }
      ]
    },
    {
      "cell_type": "markdown",
      "metadata": {
        "id": "BmAoA1kTMj9-"
      },
      "source": [
        "# PCA: Mobility Group"
      ]
    },
    {
      "cell_type": "markdown",
      "metadata": {
        "id": "ijyIBcPBMj-A"
      },
      "source": [
        "## Feature Importance: Gini-Coefficient"
      ]
    },
    {
      "cell_type": "code",
      "metadata": {
        "colab": {
          "base_uri": "https://localhost:8080/"
        },
        "id": "T7nEFGEOMj-B",
        "outputId": "f117595f-1802-47c7-cd20-ab8646042c32"
      },
      "source": [
        "CA_superset_data.columns"
      ],
      "execution_count": 70,
      "outputs": [
        {
          "output_type": "execute_result",
          "data": {
            "text/plain": [
              "Index(['Date', 'Province_State', 'FIPS', 'New cases', 'County Name',\n",
              "       'mask_rule_severity', 'm50', 'm50_index',\n",
              "       'retail_and_recreation_percent_change_from_baseline',\n",
              "       'grocery_and_pharmacy_percent_change_from_baseline',\n",
              "       'parks_percent_change_from_baseline',\n",
              "       'transit_stations_percent_change_from_baseline',\n",
              "       'workplaces_percent_change_from_baseline',\n",
              "       'residential_percent_change_from_baseline', 'PopDensity', 'State_Name',\n",
              "       'State', 'CTFIPS', 'CTNAME', 'STFIPS', 'Social.distancing.index',\n",
              "       'X..staying.home', 'Trips.person', 'X..out.of.county.trips',\n",
              "       'X..out.of.state.trips', 'Miles.person', 'Work.trips.person',\n",
              "       'Non.work.trips.person', 'New.COVID.cases', 'Population',\n",
              "       'X..change.in.consumption', 'Transit.mode.share',\n",
              "       'X..people.older.than.60', 'Median.income', 'X..African.Americans',\n",
              "       'X..Hispanic.Americans', 'X..Male', 'Employment.density',\n",
              "       'X..hot.spots.1000.people', 'Hospital.beds.1000.people',\n",
              "       'ICUs.1000.people', 'X..contact.tracing.workers.1000.people',\n",
              "       'New.cases.1000.people', 'Active.cases.1000.people',\n",
              "       'X.days..decreasing.COVID.cases', 'X..hospital.bed.utilization',\n",
              "       'Testing.capacity', 'Tests.done.1000.people', 'X..ICU.utilization',\n",
              "       'Ventilator.shortage', 'Imported.COVID.cases',\n",
              "       'COVID.exposure.1000.people', 'X.days..decreasing.ILI.cases',\n",
              "       'Unemployment.claims.1000.people', 'Unemployment.rate',\n",
              "       'X..working.from.home', 'Cumulative.inflation.rate',\n",
              "       'COVID.death.rate'],\n",
              "      dtype='object')"
            ]
          },
          "metadata": {
            "tags": []
          },
          "execution_count": 70
        }
      ]
    },
    {
      "cell_type": "code",
      "metadata": {
        "id": "SPKxFYU-Mj-C"
      },
      "source": [
        "def gini(list_of_values):\r\n",
        "    sorted_list = sorted(list_of_values)\r\n",
        "    #print (sorted_list)\r\n",
        "    height, area = 0, 0\r\n",
        "    for value in sorted_list:\r\n",
        "        \r\n",
        "        height += value\r\n",
        "        area += height - value / 2.\r\n",
        "    \r\n",
        "    fair_area = height * len(list_of_values) / 2.\r\n",
        "    print(fair_area)\r\n",
        "    return (fair_area - area) / fair_area"
      ],
      "execution_count": 71,
      "outputs": []
    },
    {
      "cell_type": "code",
      "metadata": {
        "id": "vwO04i9_Mj-D"
      },
      "source": [
        "x_col_mobility = ['retail_and_recreation_percent_change_from_baseline',\r\n",
        "       'grocery_and_pharmacy_percent_change_from_baseline','parks_percent_change_from_baseline',\r\n",
        "       'transit_stations_percent_change_from_baseline','workplaces_percent_change_from_baseline',\r\n",
        "       'residential_percent_change_from_baseline',\r\n",
        "       'X..staying.home', 'Trips.person', 'X..out.of.county.trips',\r\n",
        "       'X..out.of.state.trips', 'Miles.person', 'Work.trips.person',\r\n",
        "       'Non.work.trips.person','X..working.from.home','New cases','New.cases.1000.people']"
      ],
      "execution_count": 72,
      "outputs": []
    },
    {
      "cell_type": "code",
      "metadata": {
        "colab": {
          "base_uri": "https://localhost:8080/"
        },
        "id": "Dr_GFgSfMj-E",
        "outputId": "fb12d160-db61-43fb-cf28-473841404234"
      },
      "source": [
        "feature_cols= x_col_mobility\r\n",
        "\r\n",
        "gini_values = []\r\n",
        "for col in feature_cols:\r\n",
        "  #print(col)\r\n",
        "  dataset = CA_superset_data[col].values.tolist()\r\n",
        "  #print(dataset)\r\n",
        "  value = gini(dataset)\r\n",
        "  print('cols ',col,' - gini coeff is :',value)\r\n",
        "  gini_values.append(value)"
      ],
      "execution_count": 73,
      "outputs": [
        {
          "output_type": "stream",
          "text": [
            "nan\n",
            "cols  retail_and_recreation_percent_change_from_baseline  - gini coeff is : nan\n",
            "nan\n",
            "cols  grocery_and_pharmacy_percent_change_from_baseline  - gini coeff is : nan\n",
            "nan\n",
            "cols  parks_percent_change_from_baseline  - gini coeff is : nan\n",
            "nan\n",
            "cols  transit_stations_percent_change_from_baseline  - gini coeff is : nan\n",
            "nan\n",
            "cols  workplaces_percent_change_from_baseline  - gini coeff is : nan\n",
            "nan\n",
            "cols  residential_percent_change_from_baseline  - gini coeff is : nan\n",
            "3185659962.0\n",
            "cols  X..staying.home  - gini coeff is : 0.1173911693215423\n",
            "357092208.7150005\n",
            "cols  Trips.person  - gini coeff is : 0.07230888148726836\n",
            "2776322465.0999947\n",
            "cols  X..out.of.county.trips  - gini coeff is : 0.24785794461926924\n",
            "204607954.00000012\n",
            "cols  X..out.of.state.trips  - gini coeff is : 0.7522604458475726\n",
            "4698066581.149977\n",
            "cols  Miles.person  - gini coeff is : 0.18458958295302125\n",
            "44415963.439996496\n",
            "cols  Work.trips.person  - gini coeff is : 0.1805772735479392\n",
            "312679323.47500366\n",
            "cols  Non.work.trips.person  - gini coeff is : 0.07466161452747519\n",
            "4186343534.949507\n",
            "cols  X..working.from.home  - gini coeff is : 0.08548800988546724\n",
            "14339402229.5\n",
            "cols  New cases  - gini coeff is : 0.8685321834670556\n",
            "16852079.173250053\n",
            "cols  New.cases.1000.people  - gini coeff is : 0.680904683056212\n"
          ],
          "name": "stdout"
        }
      ]
    },
    {
      "cell_type": "markdown",
      "metadata": {
        "id": "IB-lzqplMj-F"
      },
      "source": [
        "## Feature Importance: Random Forest classifier(Gini Score)"
      ]
    },
    {
      "cell_type": "code",
      "metadata": {
        "colab": {
          "base_uri": "https://localhost:8080/"
        },
        "id": "S5sXHyefMj-G",
        "outputId": "89388078-e038-4097-d0e1-486877175f1c"
      },
      "source": [
        "CA_labeled_data.columns"
      ],
      "execution_count": null,
      "outputs": [
        {
          "output_type": "execute_result",
          "data": {
            "text/plain": [
              "Index(['Date', 'Province_State', 'FIPS', 'County Name', 'population',\n",
              "       'mask_rule_active', 'm50', 'm50_index',\n",
              "       'retail_and_recreation_percent_change_from_baseline',\n",
              "       'grocery_and_pharmacy_percent_change_from_baseline',\n",
              "       'parks_percent_change_from_baseline',\n",
              "       'transit_stations_percent_change_from_baseline',\n",
              "       'workplaces_percent_change_from_baseline',\n",
              "       'residential_percent_change_from_baseline', 'New Cases/100k population',\n",
              "       'rolling_avg_new_cases/100k', 'New cases', 'growth_label'],\n",
              "      dtype='object')"
            ]
          },
          "metadata": {
            "tags": []
          },
          "execution_count": 15
        }
      ]
    },
    {
      "cell_type": "code",
      "metadata": {
        "colab": {
          "base_uri": "https://localhost:8080/",
          "height": 194
        },
        "id": "Mb47-440Mj-H",
        "outputId": "2fa7498d-1e43-450a-ea34-84e3289ac34d"
      },
      "source": [
        "CA_labeled_data['growth_code'] = CA_labeled_data['growth_label'].astype('category').cat.codes\r\n",
        "\r\n",
        "CA_labeled_data.head(2)"
      ],
      "execution_count": null,
      "outputs": [
        {
          "output_type": "execute_result",
          "data": {
            "text/html": [
              "<div>\n",
              "<style scoped>\n",
              "    .dataframe tbody tr th:only-of-type {\n",
              "        vertical-align: middle;\n",
              "    }\n",
              "\n",
              "    .dataframe tbody tr th {\n",
              "        vertical-align: top;\n",
              "    }\n",
              "\n",
              "    .dataframe thead th {\n",
              "        text-align: right;\n",
              "    }\n",
              "</style>\n",
              "<table border=\"1\" class=\"dataframe\">\n",
              "  <thead>\n",
              "    <tr style=\"text-align: right;\">\n",
              "      <th></th>\n",
              "      <th>Date</th>\n",
              "      <th>Province_State</th>\n",
              "      <th>FIPS</th>\n",
              "      <th>County Name</th>\n",
              "      <th>population</th>\n",
              "      <th>mask_rule_active</th>\n",
              "      <th>m50</th>\n",
              "      <th>m50_index</th>\n",
              "      <th>retail_and_recreation_percent_change_from_baseline</th>\n",
              "      <th>grocery_and_pharmacy_percent_change_from_baseline</th>\n",
              "      <th>parks_percent_change_from_baseline</th>\n",
              "      <th>transit_stations_percent_change_from_baseline</th>\n",
              "      <th>workplaces_percent_change_from_baseline</th>\n",
              "      <th>residential_percent_change_from_baseline</th>\n",
              "      <th>New Cases/100k population</th>\n",
              "      <th>rolling_avg_new_cases/100k</th>\n",
              "      <th>New cases</th>\n",
              "      <th>growth_label</th>\n",
              "      <th>growth_code</th>\n",
              "    </tr>\n",
              "  </thead>\n",
              "  <tbody>\n",
              "    <tr>\n",
              "      <th>0</th>\n",
              "      <td>2020-03-01</td>\n",
              "      <td>California</td>\n",
              "      <td>6001</td>\n",
              "      <td>Alameda County</td>\n",
              "      <td>1671329</td>\n",
              "      <td>0</td>\n",
              "      <td>3.684</td>\n",
              "      <td>58</td>\n",
              "      <td>6.0</td>\n",
              "      <td>9.0</td>\n",
              "      <td>15.0</td>\n",
              "      <td>1.0</td>\n",
              "      <td>4.0</td>\n",
              "      <td>0.0</td>\n",
              "      <td>0.0</td>\n",
              "      <td>0.0</td>\n",
              "      <td>0.0</td>\n",
              "      <td>minimal</td>\n",
              "      <td>0</td>\n",
              "    </tr>\n",
              "    <tr>\n",
              "      <th>1</th>\n",
              "      <td>2020-03-02</td>\n",
              "      <td>California</td>\n",
              "      <td>6001</td>\n",
              "      <td>Alameda County</td>\n",
              "      <td>1671329</td>\n",
              "      <td>0</td>\n",
              "      <td>6.182</td>\n",
              "      <td>98</td>\n",
              "      <td>4.0</td>\n",
              "      <td>7.0</td>\n",
              "      <td>7.0</td>\n",
              "      <td>-1.0</td>\n",
              "      <td>3.0</td>\n",
              "      <td>0.0</td>\n",
              "      <td>0.0</td>\n",
              "      <td>0.0</td>\n",
              "      <td>0.0</td>\n",
              "      <td>minimal</td>\n",
              "      <td>0</td>\n",
              "    </tr>\n",
              "  </tbody>\n",
              "</table>\n",
              "</div>"
            ],
            "text/plain": [
              "         Date Province_State  FIPS  ... New cases  growth_label  growth_code\n",
              "0  2020-03-01     California  6001  ...       0.0       minimal            0\n",
              "1  2020-03-02     California  6001  ...       0.0       minimal            0\n",
              "\n",
              "[2 rows x 19 columns]"
            ]
          },
          "metadata": {
            "tags": []
          },
          "execution_count": 17
        }
      ]
    },
    {
      "cell_type": "code",
      "metadata": {
        "id": "72a2rm-6Mj-I"
      },
      "source": [
        "feature_labels = ['FIPS','population',\n",
        "       'mask_rule_active', 'm50', 'm50_index',\n",
        "       'retail_and_recreation_percent_change_from_baseline',\n",
        "       'grocery_and_pharmacy_percent_change_from_baseline',\n",
        "       'parks_percent_change_from_baseline',\n",
        "       'transit_stations_percent_change_from_baseline',\n",
        "       'workplaces_percent_change_from_baseline',\n",
        "       'residential_percent_change_from_baseline']\n",
        "\n",
        "target_column = ['growth_code']\n",
        "\n",
        "X = CA_labeled_data[feature_labels]\n",
        "y = CA_labeled_data[target_column]\n",
        "\n",
        "X_train, X_test, y_train, y_test = train_test_split(X, y, test_size=0.4, random_state=0)\n"
      ],
      "execution_count": null,
      "outputs": []
    },
    {
      "cell_type": "code",
      "metadata": {
        "colab": {
          "base_uri": "https://localhost:8080/"
        },
        "id": "JpSdCthZMj-J",
        "outputId": "7612b2f7-8f4f-43cc-fba7-9e3922d56eb8"
      },
      "source": [
        "# Create a random forest classifier\n",
        "clf = RandomForestClassifier(n_estimators=10000, random_state=0, n_jobs=-1)\n",
        "\n",
        "# Train the classifier\n",
        "clf.fit(X_train, y_train)\n",
        "\n",
        "# Print the name and gini importance of each feature\n",
        "for feature in zip(feature_labels, clf.feature_importances_):\n",
        "    print(feature)"
      ],
      "execution_count": null,
      "outputs": [
        {
          "output_type": "stream",
          "text": [
            "/usr/local/lib/python3.6/dist-packages/ipykernel_launcher.py:5: DataConversionWarning: A column-vector y was passed when a 1d array was expected. Please change the shape of y to (n_samples,), for example using ravel().\n",
            "  \"\"\"\n"
          ],
          "name": "stderr"
        },
        {
          "output_type": "stream",
          "text": [
            "('FIPS', 0.05127801096902735)\n",
            "('population', 0.081372238181775)\n",
            "('mask_rule_active', 0.2358482619800189)\n",
            "('m50', 0.0909342137286611)\n",
            "('m50_index', 0.0828869306919277)\n",
            "('retail_and_recreation_percent_change_from_baseline', 0.09855786271336092)\n",
            "('grocery_and_pharmacy_percent_change_from_baseline', 0.07420155484923242)\n",
            "('parks_percent_change_from_baseline', 0.06930484250145207)\n",
            "('transit_stations_percent_change_from_baseline', 0.06075885210040801)\n",
            "('workplaces_percent_change_from_baseline', 0.08547987336877201)\n",
            "('residential_percent_change_from_baseline', 0.06937735891536431)\n"
          ],
          "name": "stdout"
        }
      ]
    },
    {
      "cell_type": "code",
      "metadata": {
        "colab": {
          "base_uri": "https://localhost:8080/"
        },
        "id": "0yGzPNlJMj-K",
        "outputId": "a5a5e8f3-b6c5-42e1-f02b-fd51065f9d6e"
      },
      "source": [
        "\n",
        "#  Supported criteria are “gini” for the Gini impurity and “entropy” for the information gain. \n",
        "clf = RandomForestClassifier(n_estimators=10000, random_state=0,criterion='gini', n_jobs=-1)\n",
        "\n",
        "# Train the classifier\n",
        "clf.fit(X_train, y_train)\n",
        "\n",
        "# Print the name and gini importance of each feature\n",
        "for feature in zip(feature_labels, clf.feature_importances_):\n",
        "    print(feature)"
      ],
      "execution_count": null,
      "outputs": [
        {
          "output_type": "stream",
          "text": [
            "/usr/local/lib/python3.6/dist-packages/ipykernel_launcher.py:6: DataConversionWarning: A column-vector y was passed when a 1d array was expected. Please change the shape of y to (n_samples,), for example using ravel().\n",
            "  \n"
          ],
          "name": "stderr"
        },
        {
          "output_type": "stream",
          "text": [
            "('FIPS', 0.05127801096902735)\n",
            "('population', 0.081372238181775)\n",
            "('mask_rule_active', 0.2358482619800189)\n",
            "('m50', 0.0909342137286611)\n",
            "('m50_index', 0.0828869306919277)\n",
            "('retail_and_recreation_percent_change_from_baseline', 0.09855786271336092)\n",
            "('grocery_and_pharmacy_percent_change_from_baseline', 0.07420155484923242)\n",
            "('parks_percent_change_from_baseline', 0.06930484250145207)\n",
            "('transit_stations_percent_change_from_baseline', 0.06075885210040801)\n",
            "('workplaces_percent_change_from_baseline', 0.08547987336877201)\n",
            "('residential_percent_change_from_baseline', 0.06937735891536431)\n"
          ],
          "name": "stdout"
        }
      ]
    },
    {
      "cell_type": "markdown",
      "metadata": {
        "id": "flH4CBCgMj-M"
      },
      "source": [
        "## Feature Importance: Extra tree classifier"
      ]
    },
    {
      "cell_type": "code",
      "metadata": {
        "id": "i4x9sW7MMj-N"
      },
      "source": [
        "from sklearn.ensemble import ExtraTreesClassifier\n",
        "from sklearn.feature_selection import RFE"
      ],
      "execution_count": null,
      "outputs": []
    },
    {
      "cell_type": "code",
      "metadata": {
        "id": "sakQRnNgMj-N"
      },
      "source": [
        "feature_labels = ['FIPS','population',\n",
        "       'mask_rule_active', 'm50', 'm50_index',\n",
        "       'retail_and_recreation_percent_change_from_baseline',\n",
        "       'grocery_and_pharmacy_percent_change_from_baseline',\n",
        "       'parks_percent_change_from_baseline',\n",
        "       'transit_stations_percent_change_from_baseline',\n",
        "       'workplaces_percent_change_from_baseline',\n",
        "       'residential_percent_change_from_baseline']\n",
        "\n",
        "target_column = ['growth_code']\n",
        "\n",
        "X = CA_labeled_data[feature_labels]\n",
        "y = CA_labeled_data[target_column]\n",
        "\n",
        "X_train, X_test, y_train, y_test = train_test_split(X, y, test_size=0.4, random_state=0)"
      ],
      "execution_count": null,
      "outputs": []
    },
    {
      "cell_type": "code",
      "metadata": {
        "colab": {
          "base_uri": "https://localhost:8080/"
        },
        "id": "ZF3EbULTMj-O",
        "outputId": "e6fa47c1-fece-4d71-e1c6-975e97f82d70"
      },
      "source": [
        "# Create a random forest classifier\r\n",
        "clf = RandomForestClassifier(n_estimators=10000, random_state=0, n_jobs=-1)\r\n",
        "\r\n",
        "# Train the classifier\r\n",
        "clf.fit(X_train, y_train)\r\n",
        "\r\n",
        "# Print the name and gini importance of each feature\r\n",
        "for feature in zip(feature_labels, clf.feature_importances_):\r\n",
        "    print(feature)\r\n",
        "\r\n",
        "\r\n",
        "#  Supported criteria are “gini” for the Gini impurity and “entropy” for the information gain. \r\n",
        "clf = RandomForestClassifier(n_estimators=10000, random_state=0,criterion='gini', n_jobs=-1)# Train the classifier\r\n",
        "clf.fit(X_train, y_train)\r\n",
        "# Print the name and gini importance of each feature\r\n",
        "for feature in zip(feature_labels, clf.feature_importances_):\r\n",
        "    print(feature)\r\n",
        "\r\n",
        "\r\n",
        "model = ExtraTreesClassifier()\r\n",
        "model.fit(X, y.values.ravel())\r\n",
        "# display the relative importance of each attribute\r\n",
        "#print(model.feature_importances_)\r\n",
        "\r\n",
        "\r\n",
        "# create the RFE model \r\n",
        "rfe = RFE(model, 3)\r\n",
        "rfe = rfe.fit(X, y.values.ravel())\r\n",
        "# summarize the selection of the attributes\r\n",
        "#print(rfe.support_)\r\n",
        "\r\n",
        "print(\"\\nFeatures with ranking:\\n\")\r\n",
        "for index in range(len(rfe.ranking_)):\r\n",
        "  print(feature_labels[index], rfe.ranking_[index])\r\n",
        "\r\n",
        "# for index in range(len(rfe.ranking_)):\r\n",
        "#   print( rfe.ranking_[index])\r\n",
        "#print(rfe.ranking_)\r\n",
        "#print(rfe.n_features_)\r\n",
        "#rfe.n_features_to_select"
      ],
      "execution_count": null,
      "outputs": [
        {
          "output_type": "stream",
          "text": [
            "/usr/local/lib/python3.6/dist-packages/ipykernel_launcher.py:5: DataConversionWarning: A column-vector y was passed when a 1d array was expected. Please change the shape of y to (n_samples,), for example using ravel().\n",
            "  \"\"\"\n"
          ],
          "name": "stderr"
        },
        {
          "output_type": "stream",
          "text": [
            "('FIPS', 0.05127801096902735)\n",
            "('population', 0.081372238181775)\n",
            "('mask_rule_active', 0.2358482619800189)\n",
            "('m50', 0.0909342137286611)\n",
            "('m50_index', 0.0828869306919277)\n",
            "('retail_and_recreation_percent_change_from_baseline', 0.09855786271336092)\n",
            "('grocery_and_pharmacy_percent_change_from_baseline', 0.07420155484923242)\n",
            "('parks_percent_change_from_baseline', 0.06930484250145207)\n",
            "('transit_stations_percent_change_from_baseline', 0.06075885210040801)\n",
            "('workplaces_percent_change_from_baseline', 0.08547987336877201)\n",
            "('residential_percent_change_from_baseline', 0.06937735891536431)\n"
          ],
          "name": "stdout"
        },
        {
          "output_type": "stream",
          "text": [
            "/usr/local/lib/python3.6/dist-packages/ipykernel_launcher.py:14: DataConversionWarning: A column-vector y was passed when a 1d array was expected. Please change the shape of y to (n_samples,), for example using ravel().\n",
            "  \n"
          ],
          "name": "stderr"
        },
        {
          "output_type": "stream",
          "text": [
            "('FIPS', 0.05127801096902735)\n",
            "('population', 0.081372238181775)\n",
            "('mask_rule_active', 0.2358482619800189)\n",
            "('m50', 0.0909342137286611)\n",
            "('m50_index', 0.0828869306919277)\n",
            "('retail_and_recreation_percent_change_from_baseline', 0.09855786271336092)\n",
            "('grocery_and_pharmacy_percent_change_from_baseline', 0.07420155484923242)\n",
            "('parks_percent_change_from_baseline', 0.06930484250145207)\n",
            "('transit_stations_percent_change_from_baseline', 0.06075885210040801)\n",
            "('workplaces_percent_change_from_baseline', 0.08547987336877201)\n",
            "('residential_percent_change_from_baseline', 0.06937735891536431)\n",
            "\n",
            "Features with ranking:\n",
            "\n",
            "FIPS 9\n",
            "population 2\n",
            "mask_rule_active 1\n",
            "m50 1\n",
            "m50_index 4\n",
            "retail_and_recreation_percent_change_from_baseline 1\n",
            "grocery_and_pharmacy_percent_change_from_baseline 7\n",
            "parks_percent_change_from_baseline 5\n",
            "transit_stations_percent_change_from_baseline 8\n",
            "workplaces_percent_change_from_baseline 3\n",
            "residential_percent_change_from_baseline 6\n"
          ],
          "name": "stdout"
        }
      ]
    }
  ]
}