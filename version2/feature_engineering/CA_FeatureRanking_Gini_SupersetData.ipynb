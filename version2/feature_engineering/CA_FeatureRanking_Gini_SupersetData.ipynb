{
  "nbformat": 4,
  "nbformat_minor": 0,
  "metadata": {
    "colab": {
      "name": "CA_FeatureRanking_Gini_SupersetData.ipynb",
      "provenance": [],
      "collapsed_sections": [
        "9UWOMGmA1sJk"
      ],
      "toc_visible": true,
      "machine_shape": "hm",
      "include_colab_link": true
    },
    "kernelspec": {
      "name": "python3",
      "display_name": "Python 3"
    },
    "accelerator": "GPU"
  },
  "cells": [
    {
      "cell_type": "markdown",
      "metadata": {
        "id": "view-in-github",
        "colab_type": "text"
      },
      "source": [
        "<a href=\"https://colab.research.google.com/github/aarsanjani/meansquares/blob/master/version2/feature_engineering/CA_FeatureRanking_Gini_SupersetData.ipynb\" target=\"_parent\"><img src=\"https://colab.research.google.com/assets/colab-badge.svg\" alt=\"Open In Colab\"/></a>"
      ]
    },
    {
      "cell_type": "markdown",
      "metadata": {
        "id": "l346AV8oZPe-"
      },
      "source": [
        "# Goal:\n",
        "Using Random Forest to estimate the gini index and feature importance for all features from CA **Superset** dataset.\n",
        "Details: \n",
        "\n",
        ">* **Gini-Coefficient:** Used the code from our machine learning. Uses CA combined data and Maryland data for gini coefficient score\n",
        ">* **Random Forest (Gini Score):** Random classifier needs a target value. Hence, *CA-CDC labeled data* is used to get feature importance score. **Target: Growth_label_Code**\n",
        ">* **Extra Tree Classifier (Gini Score):** ET classifier needs a target value. Hence *CA-CDC labeled data* is used to get feature importance score. **Target: Growth_label_Code**\n",
        "\n"
      ]
    },
    {
      "cell_type": "markdown",
      "metadata": {
        "id": "thBIWXyoZh3U"
      },
      "source": [
        "## Mount Google drive"
      ]
    },
    {
      "cell_type": "code",
      "metadata": {
        "id": "3N0GpmS9ZJFo",
        "colab": {
          "base_uri": "https://localhost:8080/"
        },
        "outputId": "4cbaba2d-eb67-4a4b-d3d1-b2ac4c87bd01"
      },
      "source": [
        "\n",
        "from google.colab import drive\n",
        "drive.mount('/content/drive')"
      ],
      "execution_count": 1,
      "outputs": [
        {
          "output_type": "stream",
          "text": [
            "Mounted at /content/drive\n"
          ],
          "name": "stdout"
        }
      ]
    },
    {
      "cell_type": "code",
      "metadata": {
        "id": "ogU_R9SvZjuR"
      },
      "source": [
        "import pandas as pd\n",
        "import seaborn as sns\n",
        "from sklearn import preprocessing\n",
        "from sklearn.model_selection import train_test_split\n",
        "\n",
        "from sklearn.preprocessing import LabelEncoder\n",
        "from sklearn.preprocessing import StandardScaler as ss\n",
        "import itertools\n",
        "from scipy import linalg\n",
        "from sklearn.ensemble import RandomForestClassifier\n",
        "from sklearn.tree import export_graphviz\n",
        "import numpy as np\n",
        "import matplotlib.pyplot as plt"
      ],
      "execution_count": 2,
      "outputs": []
    },
    {
      "cell_type": "markdown",
      "metadata": {
        "id": "mjW80L8CZzrv"
      },
      "source": [
        "# 1.Load data - Combined CA Data"
      ]
    },
    {
      "cell_type": "markdown",
      "metadata": {
        "id": "mJHpQM981jNa"
      },
      "source": [
        "## 1.1Preprocessed Data"
      ]
    },
    {
      "cell_type": "code",
      "metadata": {
        "id": "HzV2n_7iZwr9",
        "colab": {
          "base_uri": "https://localhost:8080/",
          "height": 0
        },
        "outputId": "18abef96-a9a7-4fa5-a582-e7875f707e25"
      },
      "source": [
        "CA_superset_data = pd.read_csv('/content/drive/Shared drives/CMPE 295- Master Project/projectdata-2021/CA_Superset_dataset_Feb12.csv',low_memory=False)\n",
        "CA_superset_data.head()"
      ],
      "execution_count": 3,
      "outputs": [
        {
          "output_type": "execute_result",
          "data": {
            "text/html": [
              "<div>\n",
              "<style scoped>\n",
              "    .dataframe tbody tr th:only-of-type {\n",
              "        vertical-align: middle;\n",
              "    }\n",
              "\n",
              "    .dataframe tbody tr th {\n",
              "        vertical-align: top;\n",
              "    }\n",
              "\n",
              "    .dataframe thead th {\n",
              "        text-align: right;\n",
              "    }\n",
              "</style>\n",
              "<table border=\"1\" class=\"dataframe\">\n",
              "  <thead>\n",
              "    <tr style=\"text-align: right;\">\n",
              "      <th></th>\n",
              "      <th>Date</th>\n",
              "      <th>Province_State</th>\n",
              "      <th>FIPS</th>\n",
              "      <th>New cases</th>\n",
              "      <th>County Name</th>\n",
              "      <th>mask_rule_severity</th>\n",
              "      <th>m50</th>\n",
              "      <th>m50_index</th>\n",
              "      <th>retail_and_recreation_percent_change_from_baseline</th>\n",
              "      <th>grocery_and_pharmacy_percent_change_from_baseline</th>\n",
              "      <th>parks_percent_change_from_baseline</th>\n",
              "      <th>transit_stations_percent_change_from_baseline</th>\n",
              "      <th>workplaces_percent_change_from_baseline</th>\n",
              "      <th>residential_percent_change_from_baseline</th>\n",
              "      <th>PopDensity</th>\n",
              "      <th>State_Name</th>\n",
              "      <th>State</th>\n",
              "      <th>CTFIPS</th>\n",
              "      <th>CTNAME</th>\n",
              "      <th>STFIPS</th>\n",
              "      <th>Social.distancing.index</th>\n",
              "      <th>X..staying.home</th>\n",
              "      <th>Trips.person</th>\n",
              "      <th>X..out.of.county.trips</th>\n",
              "      <th>X..out.of.state.trips</th>\n",
              "      <th>Miles.person</th>\n",
              "      <th>Work.trips.person</th>\n",
              "      <th>Non.work.trips.person</th>\n",
              "      <th>New.COVID.cases</th>\n",
              "      <th>Population</th>\n",
              "      <th>X..change.in.consumption</th>\n",
              "      <th>Transit.mode.share</th>\n",
              "      <th>X..people.older.than.60</th>\n",
              "      <th>Median.income</th>\n",
              "      <th>X..African.Americans</th>\n",
              "      <th>X..Hispanic.Americans</th>\n",
              "      <th>X..Male</th>\n",
              "      <th>Employment.density</th>\n",
              "      <th>X..hot.spots.1000.people</th>\n",
              "      <th>Hospital.beds.1000.people</th>\n",
              "      <th>ICUs.1000.people</th>\n",
              "      <th>X..contact.tracing.workers.1000.people</th>\n",
              "      <th>New.cases.1000.people</th>\n",
              "      <th>Active.cases.1000.people</th>\n",
              "      <th>X.days..decreasing.COVID.cases</th>\n",
              "      <th>X..hospital.bed.utilization</th>\n",
              "      <th>Testing.capacity</th>\n",
              "      <th>Tests.done.1000.people</th>\n",
              "      <th>X..ICU.utilization</th>\n",
              "      <th>Ventilator.shortage</th>\n",
              "      <th>Imported.COVID.cases</th>\n",
              "      <th>COVID.exposure.1000.people</th>\n",
              "      <th>X.days..decreasing.ILI.cases</th>\n",
              "      <th>Unemployment.claims.1000.people</th>\n",
              "      <th>Unemployment.rate</th>\n",
              "      <th>X..working.from.home</th>\n",
              "      <th>Cumulative.inflation.rate</th>\n",
              "      <th>COVID.death.rate</th>\n",
              "    </tr>\n",
              "  </thead>\n",
              "  <tbody>\n",
              "    <tr>\n",
              "      <th>0</th>\n",
              "      <td>2020-03-01</td>\n",
              "      <td>California</td>\n",
              "      <td>6001</td>\n",
              "      <td>0</td>\n",
              "      <td>Alameda County</td>\n",
              "      <td>0.0</td>\n",
              "      <td>3.684</td>\n",
              "      <td>58</td>\n",
              "      <td>6.0</td>\n",
              "      <td>9.0</td>\n",
              "      <td>15.0</td>\n",
              "      <td>1.0</td>\n",
              "      <td>4.0</td>\n",
              "      <td>0.0</td>\n",
              "      <td>860.757075</td>\n",
              "      <td>California</td>\n",
              "      <td>CA</td>\n",
              "      <td>6001</td>\n",
              "      <td>Alameda County</td>\n",
              "      <td>6</td>\n",
              "      <td>37</td>\n",
              "      <td>26</td>\n",
              "      <td>2.93</td>\n",
              "      <td>25.4</td>\n",
              "      <td>0.4</td>\n",
              "      <td>36.8</td>\n",
              "      <td>0.25</td>\n",
              "      <td>2.68</td>\n",
              "      <td>0</td>\n",
              "      <td>1666753</td>\n",
              "      <td>-5.1</td>\n",
              "      <td>15.04</td>\n",
              "      <td>19</td>\n",
              "      <td>92574</td>\n",
              "      <td>10.5</td>\n",
              "      <td>22.5</td>\n",
              "      <td>49.11</td>\n",
              "      <td>1155</td>\n",
              "      <td>131</td>\n",
              "      <td>2.05</td>\n",
              "      <td>0.22</td>\n",
              "      <td>NaN</td>\n",
              "      <td>0.0000</td>\n",
              "      <td>0.0</td>\n",
              "      <td>37</td>\n",
              "      <td>54.0</td>\n",
              "      <td>0.0</td>\n",
              "      <td>0.00</td>\n",
              "      <td>0.0</td>\n",
              "      <td>0</td>\n",
              "      <td>0</td>\n",
              "      <td>0.05</td>\n",
              "      <td>35</td>\n",
              "      <td>1.1</td>\n",
              "      <td>5.3</td>\n",
              "      <td>5.7</td>\n",
              "      <td>0.6</td>\n",
              "      <td>0.00</td>\n",
              "    </tr>\n",
              "    <tr>\n",
              "      <th>1</th>\n",
              "      <td>2020-03-02</td>\n",
              "      <td>California</td>\n",
              "      <td>6001</td>\n",
              "      <td>0</td>\n",
              "      <td>Alameda County</td>\n",
              "      <td>0.0</td>\n",
              "      <td>6.182</td>\n",
              "      <td>98</td>\n",
              "      <td>4.0</td>\n",
              "      <td>7.0</td>\n",
              "      <td>7.0</td>\n",
              "      <td>-1.0</td>\n",
              "      <td>3.0</td>\n",
              "      <td>0.0</td>\n",
              "      <td>860.757075</td>\n",
              "      <td>California</td>\n",
              "      <td>CA</td>\n",
              "      <td>6001</td>\n",
              "      <td>Alameda County</td>\n",
              "      <td>6</td>\n",
              "      <td>17</td>\n",
              "      <td>20</td>\n",
              "      <td>3.38</td>\n",
              "      <td>28.2</td>\n",
              "      <td>0.4</td>\n",
              "      <td>38.1</td>\n",
              "      <td>0.63</td>\n",
              "      <td>2.74</td>\n",
              "      <td>0</td>\n",
              "      <td>1666753</td>\n",
              "      <td>-2.9</td>\n",
              "      <td>15.04</td>\n",
              "      <td>19</td>\n",
              "      <td>92574</td>\n",
              "      <td>10.5</td>\n",
              "      <td>22.5</td>\n",
              "      <td>49.11</td>\n",
              "      <td>1155</td>\n",
              "      <td>131</td>\n",
              "      <td>2.05</td>\n",
              "      <td>0.22</td>\n",
              "      <td>NaN</td>\n",
              "      <td>0.0000</td>\n",
              "      <td>0.0</td>\n",
              "      <td>38</td>\n",
              "      <td>54.0</td>\n",
              "      <td>0.0</td>\n",
              "      <td>0.00</td>\n",
              "      <td>0.0</td>\n",
              "      <td>0</td>\n",
              "      <td>0</td>\n",
              "      <td>0.05</td>\n",
              "      <td>35</td>\n",
              "      <td>1.1</td>\n",
              "      <td>5.3</td>\n",
              "      <td>5.7</td>\n",
              "      <td>0.6</td>\n",
              "      <td>0.00</td>\n",
              "    </tr>\n",
              "    <tr>\n",
              "      <th>2</th>\n",
              "      <td>2020-03-03</td>\n",
              "      <td>California</td>\n",
              "      <td>6001</td>\n",
              "      <td>1</td>\n",
              "      <td>Alameda County</td>\n",
              "      <td>0.0</td>\n",
              "      <td>6.271</td>\n",
              "      <td>100</td>\n",
              "      <td>5.0</td>\n",
              "      <td>12.0</td>\n",
              "      <td>41.0</td>\n",
              "      <td>0.0</td>\n",
              "      <td>1.0</td>\n",
              "      <td>-1.0</td>\n",
              "      <td>860.757075</td>\n",
              "      <td>California</td>\n",
              "      <td>CA</td>\n",
              "      <td>6001</td>\n",
              "      <td>Alameda County</td>\n",
              "      <td>6</td>\n",
              "      <td>16</td>\n",
              "      <td>18</td>\n",
              "      <td>3.61</td>\n",
              "      <td>27.1</td>\n",
              "      <td>0.3</td>\n",
              "      <td>32.7</td>\n",
              "      <td>0.67</td>\n",
              "      <td>2.94</td>\n",
              "      <td>1</td>\n",
              "      <td>1666753</td>\n",
              "      <td>4.1</td>\n",
              "      <td>15.04</td>\n",
              "      <td>19</td>\n",
              "      <td>92574</td>\n",
              "      <td>10.5</td>\n",
              "      <td>22.5</td>\n",
              "      <td>49.11</td>\n",
              "      <td>1155</td>\n",
              "      <td>131</td>\n",
              "      <td>2.05</td>\n",
              "      <td>0.22</td>\n",
              "      <td>NaN</td>\n",
              "      <td>0.0002</td>\n",
              "      <td>0.0</td>\n",
              "      <td>0</td>\n",
              "      <td>54.0</td>\n",
              "      <td>0.0</td>\n",
              "      <td>0.00</td>\n",
              "      <td>0.0</td>\n",
              "      <td>0</td>\n",
              "      <td>1</td>\n",
              "      <td>0.05</td>\n",
              "      <td>42</td>\n",
              "      <td>1.1</td>\n",
              "      <td>5.3</td>\n",
              "      <td>5.7</td>\n",
              "      <td>0.6</td>\n",
              "      <td>0.00</td>\n",
              "    </tr>\n",
              "    <tr>\n",
              "      <th>3</th>\n",
              "      <td>2020-03-04</td>\n",
              "      <td>California</td>\n",
              "      <td>6001</td>\n",
              "      <td>0</td>\n",
              "      <td>Alameda County</td>\n",
              "      <td>0.0</td>\n",
              "      <td>6.209</td>\n",
              "      <td>99</td>\n",
              "      <td>1.0</td>\n",
              "      <td>6.0</td>\n",
              "      <td>23.0</td>\n",
              "      <td>-3.0</td>\n",
              "      <td>1.0</td>\n",
              "      <td>0.0</td>\n",
              "      <td>860.757075</td>\n",
              "      <td>California</td>\n",
              "      <td>CA</td>\n",
              "      <td>6001</td>\n",
              "      <td>Alameda County</td>\n",
              "      <td>6</td>\n",
              "      <td>14</td>\n",
              "      <td>18</td>\n",
              "      <td>3.55</td>\n",
              "      <td>27.9</td>\n",
              "      <td>0.3</td>\n",
              "      <td>36.9</td>\n",
              "      <td>0.68</td>\n",
              "      <td>2.87</td>\n",
              "      <td>0</td>\n",
              "      <td>1666753</td>\n",
              "      <td>1.7</td>\n",
              "      <td>15.04</td>\n",
              "      <td>19</td>\n",
              "      <td>92574</td>\n",
              "      <td>10.5</td>\n",
              "      <td>22.5</td>\n",
              "      <td>49.11</td>\n",
              "      <td>1155</td>\n",
              "      <td>131</td>\n",
              "      <td>2.05</td>\n",
              "      <td>0.22</td>\n",
              "      <td>NaN</td>\n",
              "      <td>0.0002</td>\n",
              "      <td>0.0</td>\n",
              "      <td>0</td>\n",
              "      <td>54.0</td>\n",
              "      <td>10.3</td>\n",
              "      <td>0.01</td>\n",
              "      <td>0.0</td>\n",
              "      <td>0</td>\n",
              "      <td>1</td>\n",
              "      <td>0.06</td>\n",
              "      <td>42</td>\n",
              "      <td>1.1</td>\n",
              "      <td>5.3</td>\n",
              "      <td>5.7</td>\n",
              "      <td>0.6</td>\n",
              "      <td>0.04</td>\n",
              "    </tr>\n",
              "    <tr>\n",
              "      <th>4</th>\n",
              "      <td>2020-03-05</td>\n",
              "      <td>California</td>\n",
              "      <td>6001</td>\n",
              "      <td>0</td>\n",
              "      <td>Alameda County</td>\n",
              "      <td>0.0</td>\n",
              "      <td>6.654</td>\n",
              "      <td>106</td>\n",
              "      <td>1.0</td>\n",
              "      <td>6.0</td>\n",
              "      <td>12.0</td>\n",
              "      <td>-5.0</td>\n",
              "      <td>-1.0</td>\n",
              "      <td>1.0</td>\n",
              "      <td>860.757075</td>\n",
              "      <td>California</td>\n",
              "      <td>CA</td>\n",
              "      <td>6001</td>\n",
              "      <td>Alameda County</td>\n",
              "      <td>6</td>\n",
              "      <td>15</td>\n",
              "      <td>19</td>\n",
              "      <td>3.54</td>\n",
              "      <td>28.1</td>\n",
              "      <td>0.3</td>\n",
              "      <td>36.8</td>\n",
              "      <td>0.66</td>\n",
              "      <td>2.88</td>\n",
              "      <td>0</td>\n",
              "      <td>1666753</td>\n",
              "      <td>2.0</td>\n",
              "      <td>15.04</td>\n",
              "      <td>19</td>\n",
              "      <td>92574</td>\n",
              "      <td>10.5</td>\n",
              "      <td>22.5</td>\n",
              "      <td>49.11</td>\n",
              "      <td>1155</td>\n",
              "      <td>131</td>\n",
              "      <td>2.05</td>\n",
              "      <td>0.22</td>\n",
              "      <td>NaN</td>\n",
              "      <td>0.0002</td>\n",
              "      <td>0.0</td>\n",
              "      <td>0</td>\n",
              "      <td>54.0</td>\n",
              "      <td>10.3</td>\n",
              "      <td>0.01</td>\n",
              "      <td>0.0</td>\n",
              "      <td>0</td>\n",
              "      <td>1</td>\n",
              "      <td>0.06</td>\n",
              "      <td>42</td>\n",
              "      <td>1.1</td>\n",
              "      <td>5.3</td>\n",
              "      <td>5.7</td>\n",
              "      <td>0.6</td>\n",
              "      <td>0.04</td>\n",
              "    </tr>\n",
              "  </tbody>\n",
              "</table>\n",
              "</div>"
            ],
            "text/plain": [
              "         Date Province_State  ...  Cumulative.inflation.rate  COVID.death.rate\n",
              "0  2020-03-01     California  ...                        0.6              0.00\n",
              "1  2020-03-02     California  ...                        0.6              0.00\n",
              "2  2020-03-03     California  ...                        0.6              0.00\n",
              "3  2020-03-04     California  ...                        0.6              0.04\n",
              "4  2020-03-05     California  ...                        0.6              0.04\n",
              "\n",
              "[5 rows x 58 columns]"
            ]
          },
          "metadata": {
            "tags": []
          },
          "execution_count": 3
        }
      ]
    },
    {
      "cell_type": "code",
      "metadata": {
        "colab": {
          "base_uri": "https://localhost:8080/"
        },
        "id": "uyhMen90LL28",
        "outputId": "a4c6a52e-29a2-434f-b1c7-ffd7fc410aad"
      },
      "source": [
        "CA_superset_data.shape"
      ],
      "execution_count": 4,
      "outputs": [
        {
          "output_type": "execute_result",
          "data": {
            "text/plain": [
              "(15391, 58)"
            ]
          },
          "metadata": {
            "tags": []
          },
          "execution_count": 4
        }
      ]
    },
    {
      "cell_type": "code",
      "metadata": {
        "id": "rphAMDm_aBqd",
        "colab": {
          "base_uri": "https://localhost:8080/"
        },
        "outputId": "71189063-9fa9-4ef5-9322-8575414d78bd"
      },
      "source": [
        "CA_superset_data.dtypes"
      ],
      "execution_count": 5,
      "outputs": [
        {
          "output_type": "execute_result",
          "data": {
            "text/plain": [
              "Date                                                   object\n",
              "Province_State                                         object\n",
              "FIPS                                                    int64\n",
              "New cases                                               int64\n",
              "County Name                                            object\n",
              "mask_rule_severity                                    float64\n",
              "m50                                                   float64\n",
              "m50_index                                               int64\n",
              "retail_and_recreation_percent_change_from_baseline    float64\n",
              "grocery_and_pharmacy_percent_change_from_baseline     float64\n",
              "parks_percent_change_from_baseline                    float64\n",
              "transit_stations_percent_change_from_baseline         float64\n",
              "workplaces_percent_change_from_baseline               float64\n",
              "residential_percent_change_from_baseline              float64\n",
              "PopDensity                                            float64\n",
              "State_Name                                             object\n",
              "State                                                  object\n",
              "CTFIPS                                                  int64\n",
              "CTNAME                                                 object\n",
              "STFIPS                                                  int64\n",
              "Social.distancing.index                                 int64\n",
              "X..staying.home                                         int64\n",
              "Trips.person                                          float64\n",
              "X..out.of.county.trips                                float64\n",
              "X..out.of.state.trips                                 float64\n",
              "Miles.person                                          float64\n",
              "Work.trips.person                                     float64\n",
              "Non.work.trips.person                                 float64\n",
              "New.COVID.cases                                         int64\n",
              "Population                                              int64\n",
              "X..change.in.consumption                              float64\n",
              "Transit.mode.share                                    float64\n",
              "X..people.older.than.60                                 int64\n",
              "Median.income                                           int64\n",
              "X..African.Americans                                  float64\n",
              "X..Hispanic.Americans                                 float64\n",
              "X..Male                                               float64\n",
              "Employment.density                                      int64\n",
              "X..hot.spots.1000.people                                int64\n",
              "Hospital.beds.1000.people                             float64\n",
              "ICUs.1000.people                                      float64\n",
              "X..contact.tracing.workers.1000.people                float64\n",
              "New.cases.1000.people                                 float64\n",
              "Active.cases.1000.people                              float64\n",
              "X.days..decreasing.COVID.cases                          int64\n",
              "X..hospital.bed.utilization                           float64\n",
              "Testing.capacity                                      float64\n",
              "Tests.done.1000.people                                float64\n",
              "X..ICU.utilization                                    float64\n",
              "Ventilator.shortage                                     int64\n",
              "Imported.COVID.cases                                    int64\n",
              "COVID.exposure.1000.people                            float64\n",
              "X.days..decreasing.ILI.cases                            int64\n",
              "Unemployment.claims.1000.people                       float64\n",
              "Unemployment.rate                                     float64\n",
              "X..working.from.home                                  float64\n",
              "Cumulative.inflation.rate                             float64\n",
              "COVID.death.rate                                      float64\n",
              "dtype: object"
            ]
          },
          "metadata": {
            "tags": []
          },
          "execution_count": 5
        }
      ]
    },
    {
      "cell_type": "markdown",
      "metadata": {
        "id": "9UWOMGmA1sJk"
      },
      "source": [
        "## 1.2Labeled  Data"
      ]
    },
    {
      "cell_type": "code",
      "metadata": {
        "colab": {
          "base_uri": "https://localhost:8080/",
          "height": 0
        },
        "id": "B_77Pp1K1sJt",
        "outputId": "cf0e1d80-9a4f-4f22-e604-1b594e892e7f"
      },
      "source": [
        "CA_labeled_data = pd.read_csv('/content/drive/Shared drives/CMPE 295- Master Project/projectdata-2021/CA_SuperData_Labeled_CDCGuideline_Feb13.csv',low_memory=False)\n",
        "CA_labeled_data.head()"
      ],
      "execution_count": 6,
      "outputs": [
        {
          "output_type": "execute_result",
          "data": {
            "text/html": [
              "<div>\n",
              "<style scoped>\n",
              "    .dataframe tbody tr th:only-of-type {\n",
              "        vertical-align: middle;\n",
              "    }\n",
              "\n",
              "    .dataframe tbody tr th {\n",
              "        vertical-align: top;\n",
              "    }\n",
              "\n",
              "    .dataframe thead th {\n",
              "        text-align: right;\n",
              "    }\n",
              "</style>\n",
              "<table border=\"1\" class=\"dataframe\">\n",
              "  <thead>\n",
              "    <tr style=\"text-align: right;\">\n",
              "      <th></th>\n",
              "      <th>Date</th>\n",
              "      <th>Province_State</th>\n",
              "      <th>FIPS</th>\n",
              "      <th>New cases</th>\n",
              "      <th>County Name</th>\n",
              "      <th>mask_rule_severity</th>\n",
              "      <th>m50</th>\n",
              "      <th>m50_index</th>\n",
              "      <th>retail_and_recreation_percent_change_from_baseline</th>\n",
              "      <th>grocery_and_pharmacy_percent_change_from_baseline</th>\n",
              "      <th>parks_percent_change_from_baseline</th>\n",
              "      <th>transit_stations_percent_change_from_baseline</th>\n",
              "      <th>workplaces_percent_change_from_baseline</th>\n",
              "      <th>residential_percent_change_from_baseline</th>\n",
              "      <th>PopDensity</th>\n",
              "      <th>State_Name</th>\n",
              "      <th>State</th>\n",
              "      <th>CTFIPS</th>\n",
              "      <th>CTNAME</th>\n",
              "      <th>STFIPS</th>\n",
              "      <th>Social.distancing.index</th>\n",
              "      <th>X..staying.home</th>\n",
              "      <th>Trips.person</th>\n",
              "      <th>X..out.of.county.trips</th>\n",
              "      <th>X..out.of.state.trips</th>\n",
              "      <th>Miles.person</th>\n",
              "      <th>Work.trips.person</th>\n",
              "      <th>Non.work.trips.person</th>\n",
              "      <th>New.COVID.cases</th>\n",
              "      <th>Population</th>\n",
              "      <th>X..change.in.consumption</th>\n",
              "      <th>Transit.mode.share</th>\n",
              "      <th>X..people.older.than.60</th>\n",
              "      <th>Median.income</th>\n",
              "      <th>X..African.Americans</th>\n",
              "      <th>X..Hispanic.Americans</th>\n",
              "      <th>X..Male</th>\n",
              "      <th>Employment.density</th>\n",
              "      <th>X..hot.spots.1000.people</th>\n",
              "      <th>Hospital.beds.1000.people</th>\n",
              "      <th>ICUs.1000.people</th>\n",
              "      <th>X..contact.tracing.workers.1000.people</th>\n",
              "      <th>New.cases.1000.people</th>\n",
              "      <th>Active.cases.1000.people</th>\n",
              "      <th>X.days..decreasing.COVID.cases</th>\n",
              "      <th>X..hospital.bed.utilization</th>\n",
              "      <th>Testing.capacity</th>\n",
              "      <th>Tests.done.1000.people</th>\n",
              "      <th>X..ICU.utilization</th>\n",
              "      <th>Ventilator.shortage</th>\n",
              "      <th>Imported.COVID.cases</th>\n",
              "      <th>COVID.exposure.1000.people</th>\n",
              "      <th>X.days..decreasing.ILI.cases</th>\n",
              "      <th>Unemployment.claims.1000.people</th>\n",
              "      <th>Unemployment.rate</th>\n",
              "      <th>X..working.from.home</th>\n",
              "      <th>Cumulative.inflation.rate</th>\n",
              "      <th>COVID.death.rate</th>\n",
              "      <th>New cases/100k</th>\n",
              "      <th>positivity_rate</th>\n",
              "      <th>rolling_avg_new_cases/100k</th>\n",
              "      <th>growth_label</th>\n",
              "    </tr>\n",
              "  </thead>\n",
              "  <tbody>\n",
              "    <tr>\n",
              "      <th>0</th>\n",
              "      <td>2020-03-01</td>\n",
              "      <td>California</td>\n",
              "      <td>6001</td>\n",
              "      <td>0</td>\n",
              "      <td>Alameda County</td>\n",
              "      <td>0.0</td>\n",
              "      <td>3.684</td>\n",
              "      <td>58</td>\n",
              "      <td>6.0</td>\n",
              "      <td>9.0</td>\n",
              "      <td>15.0</td>\n",
              "      <td>1.0</td>\n",
              "      <td>4.0</td>\n",
              "      <td>0.0</td>\n",
              "      <td>860.757075</td>\n",
              "      <td>California</td>\n",
              "      <td>CA</td>\n",
              "      <td>6001</td>\n",
              "      <td>Alameda County</td>\n",
              "      <td>6</td>\n",
              "      <td>37</td>\n",
              "      <td>26</td>\n",
              "      <td>2.93</td>\n",
              "      <td>25.4</td>\n",
              "      <td>0.4</td>\n",
              "      <td>36.8</td>\n",
              "      <td>0.25</td>\n",
              "      <td>2.68</td>\n",
              "      <td>0</td>\n",
              "      <td>1666753</td>\n",
              "      <td>-5.1</td>\n",
              "      <td>15.04</td>\n",
              "      <td>19</td>\n",
              "      <td>92574</td>\n",
              "      <td>10.5</td>\n",
              "      <td>22.5</td>\n",
              "      <td>49.11</td>\n",
              "      <td>1155</td>\n",
              "      <td>131</td>\n",
              "      <td>2.05</td>\n",
              "      <td>0.22</td>\n",
              "      <td>0.0</td>\n",
              "      <td>0.0000</td>\n",
              "      <td>0.0</td>\n",
              "      <td>37</td>\n",
              "      <td>54.0</td>\n",
              "      <td>0.0</td>\n",
              "      <td>0.00</td>\n",
              "      <td>0.0</td>\n",
              "      <td>0</td>\n",
              "      <td>0</td>\n",
              "      <td>0.05</td>\n",
              "      <td>35</td>\n",
              "      <td>1.1</td>\n",
              "      <td>5.3</td>\n",
              "      <td>5.7</td>\n",
              "      <td>0.6</td>\n",
              "      <td>0.00</td>\n",
              "      <td>0.000000</td>\n",
              "      <td>0.000</td>\n",
              "      <td>0.0</td>\n",
              "      <td>minimal</td>\n",
              "    </tr>\n",
              "    <tr>\n",
              "      <th>1</th>\n",
              "      <td>2020-03-02</td>\n",
              "      <td>California</td>\n",
              "      <td>6001</td>\n",
              "      <td>0</td>\n",
              "      <td>Alameda County</td>\n",
              "      <td>0.0</td>\n",
              "      <td>6.182</td>\n",
              "      <td>98</td>\n",
              "      <td>4.0</td>\n",
              "      <td>7.0</td>\n",
              "      <td>7.0</td>\n",
              "      <td>-1.0</td>\n",
              "      <td>3.0</td>\n",
              "      <td>0.0</td>\n",
              "      <td>860.757075</td>\n",
              "      <td>California</td>\n",
              "      <td>CA</td>\n",
              "      <td>6001</td>\n",
              "      <td>Alameda County</td>\n",
              "      <td>6</td>\n",
              "      <td>17</td>\n",
              "      <td>20</td>\n",
              "      <td>3.38</td>\n",
              "      <td>28.2</td>\n",
              "      <td>0.4</td>\n",
              "      <td>38.1</td>\n",
              "      <td>0.63</td>\n",
              "      <td>2.74</td>\n",
              "      <td>0</td>\n",
              "      <td>1666753</td>\n",
              "      <td>-2.9</td>\n",
              "      <td>15.04</td>\n",
              "      <td>19</td>\n",
              "      <td>92574</td>\n",
              "      <td>10.5</td>\n",
              "      <td>22.5</td>\n",
              "      <td>49.11</td>\n",
              "      <td>1155</td>\n",
              "      <td>131</td>\n",
              "      <td>2.05</td>\n",
              "      <td>0.22</td>\n",
              "      <td>0.0</td>\n",
              "      <td>0.0000</td>\n",
              "      <td>0.0</td>\n",
              "      <td>38</td>\n",
              "      <td>54.0</td>\n",
              "      <td>0.0</td>\n",
              "      <td>0.00</td>\n",
              "      <td>0.0</td>\n",
              "      <td>0</td>\n",
              "      <td>0</td>\n",
              "      <td>0.05</td>\n",
              "      <td>35</td>\n",
              "      <td>1.1</td>\n",
              "      <td>5.3</td>\n",
              "      <td>5.7</td>\n",
              "      <td>0.6</td>\n",
              "      <td>0.00</td>\n",
              "      <td>0.000000</td>\n",
              "      <td>0.000</td>\n",
              "      <td>0.0</td>\n",
              "      <td>minimal</td>\n",
              "    </tr>\n",
              "    <tr>\n",
              "      <th>2</th>\n",
              "      <td>2020-03-03</td>\n",
              "      <td>California</td>\n",
              "      <td>6001</td>\n",
              "      <td>1</td>\n",
              "      <td>Alameda County</td>\n",
              "      <td>0.0</td>\n",
              "      <td>6.271</td>\n",
              "      <td>100</td>\n",
              "      <td>5.0</td>\n",
              "      <td>12.0</td>\n",
              "      <td>41.0</td>\n",
              "      <td>0.0</td>\n",
              "      <td>1.0</td>\n",
              "      <td>-1.0</td>\n",
              "      <td>860.757075</td>\n",
              "      <td>California</td>\n",
              "      <td>CA</td>\n",
              "      <td>6001</td>\n",
              "      <td>Alameda County</td>\n",
              "      <td>6</td>\n",
              "      <td>16</td>\n",
              "      <td>18</td>\n",
              "      <td>3.61</td>\n",
              "      <td>27.1</td>\n",
              "      <td>0.3</td>\n",
              "      <td>32.7</td>\n",
              "      <td>0.67</td>\n",
              "      <td>2.94</td>\n",
              "      <td>1</td>\n",
              "      <td>1666753</td>\n",
              "      <td>4.1</td>\n",
              "      <td>15.04</td>\n",
              "      <td>19</td>\n",
              "      <td>92574</td>\n",
              "      <td>10.5</td>\n",
              "      <td>22.5</td>\n",
              "      <td>49.11</td>\n",
              "      <td>1155</td>\n",
              "      <td>131</td>\n",
              "      <td>2.05</td>\n",
              "      <td>0.22</td>\n",
              "      <td>0.0</td>\n",
              "      <td>0.0002</td>\n",
              "      <td>0.0</td>\n",
              "      <td>0</td>\n",
              "      <td>54.0</td>\n",
              "      <td>0.0</td>\n",
              "      <td>0.00</td>\n",
              "      <td>0.0</td>\n",
              "      <td>0</td>\n",
              "      <td>1</td>\n",
              "      <td>0.05</td>\n",
              "      <td>42</td>\n",
              "      <td>1.1</td>\n",
              "      <td>5.3</td>\n",
              "      <td>5.7</td>\n",
              "      <td>0.6</td>\n",
              "      <td>0.00</td>\n",
              "      <td>0.059997</td>\n",
              "      <td>0.000</td>\n",
              "      <td>0.0</td>\n",
              "      <td>minimal</td>\n",
              "    </tr>\n",
              "    <tr>\n",
              "      <th>3</th>\n",
              "      <td>2020-03-04</td>\n",
              "      <td>California</td>\n",
              "      <td>6001</td>\n",
              "      <td>0</td>\n",
              "      <td>Alameda County</td>\n",
              "      <td>0.0</td>\n",
              "      <td>6.209</td>\n",
              "      <td>99</td>\n",
              "      <td>1.0</td>\n",
              "      <td>6.0</td>\n",
              "      <td>23.0</td>\n",
              "      <td>-3.0</td>\n",
              "      <td>1.0</td>\n",
              "      <td>0.0</td>\n",
              "      <td>860.757075</td>\n",
              "      <td>California</td>\n",
              "      <td>CA</td>\n",
              "      <td>6001</td>\n",
              "      <td>Alameda County</td>\n",
              "      <td>6</td>\n",
              "      <td>14</td>\n",
              "      <td>18</td>\n",
              "      <td>3.55</td>\n",
              "      <td>27.9</td>\n",
              "      <td>0.3</td>\n",
              "      <td>36.9</td>\n",
              "      <td>0.68</td>\n",
              "      <td>2.87</td>\n",
              "      <td>0</td>\n",
              "      <td>1666753</td>\n",
              "      <td>1.7</td>\n",
              "      <td>15.04</td>\n",
              "      <td>19</td>\n",
              "      <td>92574</td>\n",
              "      <td>10.5</td>\n",
              "      <td>22.5</td>\n",
              "      <td>49.11</td>\n",
              "      <td>1155</td>\n",
              "      <td>131</td>\n",
              "      <td>2.05</td>\n",
              "      <td>0.22</td>\n",
              "      <td>0.0</td>\n",
              "      <td>0.0002</td>\n",
              "      <td>0.0</td>\n",
              "      <td>0</td>\n",
              "      <td>54.0</td>\n",
              "      <td>10.3</td>\n",
              "      <td>0.01</td>\n",
              "      <td>0.0</td>\n",
              "      <td>0</td>\n",
              "      <td>1</td>\n",
              "      <td>0.06</td>\n",
              "      <td>42</td>\n",
              "      <td>1.1</td>\n",
              "      <td>5.3</td>\n",
              "      <td>5.7</td>\n",
              "      <td>0.6</td>\n",
              "      <td>0.04</td>\n",
              "      <td>0.000000</td>\n",
              "      <td>0.002</td>\n",
              "      <td>0.0</td>\n",
              "      <td>minimal</td>\n",
              "    </tr>\n",
              "    <tr>\n",
              "      <th>4</th>\n",
              "      <td>2020-03-05</td>\n",
              "      <td>California</td>\n",
              "      <td>6001</td>\n",
              "      <td>0</td>\n",
              "      <td>Alameda County</td>\n",
              "      <td>0.0</td>\n",
              "      <td>6.654</td>\n",
              "      <td>106</td>\n",
              "      <td>1.0</td>\n",
              "      <td>6.0</td>\n",
              "      <td>12.0</td>\n",
              "      <td>-5.0</td>\n",
              "      <td>-1.0</td>\n",
              "      <td>1.0</td>\n",
              "      <td>860.757075</td>\n",
              "      <td>California</td>\n",
              "      <td>CA</td>\n",
              "      <td>6001</td>\n",
              "      <td>Alameda County</td>\n",
              "      <td>6</td>\n",
              "      <td>15</td>\n",
              "      <td>19</td>\n",
              "      <td>3.54</td>\n",
              "      <td>28.1</td>\n",
              "      <td>0.3</td>\n",
              "      <td>36.8</td>\n",
              "      <td>0.66</td>\n",
              "      <td>2.88</td>\n",
              "      <td>0</td>\n",
              "      <td>1666753</td>\n",
              "      <td>2.0</td>\n",
              "      <td>15.04</td>\n",
              "      <td>19</td>\n",
              "      <td>92574</td>\n",
              "      <td>10.5</td>\n",
              "      <td>22.5</td>\n",
              "      <td>49.11</td>\n",
              "      <td>1155</td>\n",
              "      <td>131</td>\n",
              "      <td>2.05</td>\n",
              "      <td>0.22</td>\n",
              "      <td>0.0</td>\n",
              "      <td>0.0002</td>\n",
              "      <td>0.0</td>\n",
              "      <td>0</td>\n",
              "      <td>54.0</td>\n",
              "      <td>10.3</td>\n",
              "      <td>0.01</td>\n",
              "      <td>0.0</td>\n",
              "      <td>0</td>\n",
              "      <td>1</td>\n",
              "      <td>0.06</td>\n",
              "      <td>42</td>\n",
              "      <td>1.1</td>\n",
              "      <td>5.3</td>\n",
              "      <td>5.7</td>\n",
              "      <td>0.6</td>\n",
              "      <td>0.04</td>\n",
              "      <td>0.000000</td>\n",
              "      <td>0.002</td>\n",
              "      <td>0.0</td>\n",
              "      <td>minimal</td>\n",
              "    </tr>\n",
              "  </tbody>\n",
              "</table>\n",
              "</div>"
            ],
            "text/plain": [
              "         Date Province_State  ...  rolling_avg_new_cases/100k  growth_label\n",
              "0  2020-03-01     California  ...                         0.0       minimal\n",
              "1  2020-03-02     California  ...                         0.0       minimal\n",
              "2  2020-03-03     California  ...                         0.0       minimal\n",
              "3  2020-03-04     California  ...                         0.0       minimal\n",
              "4  2020-03-05     California  ...                         0.0       minimal\n",
              "\n",
              "[5 rows x 62 columns]"
            ]
          },
          "metadata": {
            "tags": []
          },
          "execution_count": 6
        }
      ]
    },
    {
      "cell_type": "code",
      "metadata": {
        "colab": {
          "base_uri": "https://localhost:8080/"
        },
        "id": "CtGNAnZA1sJu",
        "outputId": "9ba8801a-d324-4822-839e-bd578152535d"
      },
      "source": [
        "CA_labeled_data.dtypes"
      ],
      "execution_count": 7,
      "outputs": [
        {
          "output_type": "execute_result",
          "data": {
            "text/plain": [
              "Date                           object\n",
              "Province_State                 object\n",
              "FIPS                            int64\n",
              "New cases                       int64\n",
              "County Name                    object\n",
              "                               ...   \n",
              "COVID.death.rate              float64\n",
              "New cases/100k                float64\n",
              "positivity_rate               float64\n",
              "rolling_avg_new_cases/100k    float64\n",
              "growth_label                   object\n",
              "Length: 62, dtype: object"
            ]
          },
          "metadata": {
            "tags": []
          },
          "execution_count": 7
        }
      ]
    },
    {
      "cell_type": "code",
      "metadata": {
        "colab": {
          "base_uri": "https://localhost:8080/"
        },
        "id": "V6kfRB882BVg",
        "outputId": "63269f7e-9f30-4fa7-9ed6-926a626be914"
      },
      "source": [
        "CA_labeled_data.shape"
      ],
      "execution_count": 8,
      "outputs": [
        {
          "output_type": "execute_result",
          "data": {
            "text/plain": [
              "(15391, 62)"
            ]
          },
          "metadata": {
            "tags": []
          },
          "execution_count": 8
        }
      ]
    },
    {
      "cell_type": "markdown",
      "metadata": {
        "id": "nItxaLWfcCGl"
      },
      "source": [
        "## Preprocessing data \n",
        "\n",
        "* drop na\n",
        "* convert categorical code"
      ]
    },
    {
      "cell_type": "code",
      "metadata": {
        "id": "xalDlwRNa4T-"
      },
      "source": [
        "#CA_superset_data = CA_superset_data.dropna()"
      ],
      "execution_count": 9,
      "outputs": []
    },
    {
      "cell_type": "code",
      "metadata": {
        "id": "1HVWG1aBcJQo",
        "colab": {
          "base_uri": "https://localhost:8080/"
        },
        "outputId": "6b9abecc-d784-41a2-d63d-a5955bda276c"
      },
      "source": [
        "CA_superset_data.dtypes"
      ],
      "execution_count": 10,
      "outputs": [
        {
          "output_type": "execute_result",
          "data": {
            "text/plain": [
              "Date                                                   object\n",
              "Province_State                                         object\n",
              "FIPS                                                    int64\n",
              "New cases                                               int64\n",
              "County Name                                            object\n",
              "mask_rule_severity                                    float64\n",
              "m50                                                   float64\n",
              "m50_index                                               int64\n",
              "retail_and_recreation_percent_change_from_baseline    float64\n",
              "grocery_and_pharmacy_percent_change_from_baseline     float64\n",
              "parks_percent_change_from_baseline                    float64\n",
              "transit_stations_percent_change_from_baseline         float64\n",
              "workplaces_percent_change_from_baseline               float64\n",
              "residential_percent_change_from_baseline              float64\n",
              "PopDensity                                            float64\n",
              "State_Name                                             object\n",
              "State                                                  object\n",
              "CTFIPS                                                  int64\n",
              "CTNAME                                                 object\n",
              "STFIPS                                                  int64\n",
              "Social.distancing.index                                 int64\n",
              "X..staying.home                                         int64\n",
              "Trips.person                                          float64\n",
              "X..out.of.county.trips                                float64\n",
              "X..out.of.state.trips                                 float64\n",
              "Miles.person                                          float64\n",
              "Work.trips.person                                     float64\n",
              "Non.work.trips.person                                 float64\n",
              "New.COVID.cases                                         int64\n",
              "Population                                              int64\n",
              "X..change.in.consumption                              float64\n",
              "Transit.mode.share                                    float64\n",
              "X..people.older.than.60                                 int64\n",
              "Median.income                                           int64\n",
              "X..African.Americans                                  float64\n",
              "X..Hispanic.Americans                                 float64\n",
              "X..Male                                               float64\n",
              "Employment.density                                      int64\n",
              "X..hot.spots.1000.people                                int64\n",
              "Hospital.beds.1000.people                             float64\n",
              "ICUs.1000.people                                      float64\n",
              "X..contact.tracing.workers.1000.people                float64\n",
              "New.cases.1000.people                                 float64\n",
              "Active.cases.1000.people                              float64\n",
              "X.days..decreasing.COVID.cases                          int64\n",
              "X..hospital.bed.utilization                           float64\n",
              "Testing.capacity                                      float64\n",
              "Tests.done.1000.people                                float64\n",
              "X..ICU.utilization                                    float64\n",
              "Ventilator.shortage                                     int64\n",
              "Imported.COVID.cases                                    int64\n",
              "COVID.exposure.1000.people                            float64\n",
              "X.days..decreasing.ILI.cases                            int64\n",
              "Unemployment.claims.1000.people                       float64\n",
              "Unemployment.rate                                     float64\n",
              "X..working.from.home                                  float64\n",
              "Cumulative.inflation.rate                             float64\n",
              "COVID.death.rate                                      float64\n",
              "dtype: object"
            ]
          },
          "metadata": {
            "tags": []
          },
          "execution_count": 10
        }
      ]
    },
    {
      "cell_type": "code",
      "metadata": {
        "colab": {
          "base_uri": "https://localhost:8080/"
        },
        "id": "RYEcw5xr1acy",
        "outputId": "ab2bc3ba-e55c-4638-9b5d-dc00766fbb7e"
      },
      "source": [
        "CA_superset_data.shape"
      ],
      "execution_count": 11,
      "outputs": [
        {
          "output_type": "execute_result",
          "data": {
            "text/plain": [
              "(15391, 58)"
            ]
          },
          "metadata": {
            "tags": []
          },
          "execution_count": 11
        }
      ]
    },
    {
      "cell_type": "markdown",
      "metadata": {
        "id": "dz88ruhHdbgI"
      },
      "source": [
        "## Group the data"
      ]
    },
    {
      "cell_type": "code",
      "metadata": {
        "colab": {
          "base_uri": "https://localhost:8080/"
        },
        "id": "ulNUOh09dni3",
        "outputId": "7f0714e8-4d2c-49df-a148-5e04d513ad45"
      },
      "source": [
        "CA_superset_data.columns"
      ],
      "execution_count": 12,
      "outputs": [
        {
          "output_type": "execute_result",
          "data": {
            "text/plain": [
              "Index(['Date', 'Province_State', 'FIPS', 'New cases', 'County Name',\n",
              "       'mask_rule_severity', 'm50', 'm50_index',\n",
              "       'retail_and_recreation_percent_change_from_baseline',\n",
              "       'grocery_and_pharmacy_percent_change_from_baseline',\n",
              "       'parks_percent_change_from_baseline',\n",
              "       'transit_stations_percent_change_from_baseline',\n",
              "       'workplaces_percent_change_from_baseline',\n",
              "       'residential_percent_change_from_baseline', 'PopDensity', 'State_Name',\n",
              "       'State', 'CTFIPS', 'CTNAME', 'STFIPS', 'Social.distancing.index',\n",
              "       'X..staying.home', 'Trips.person', 'X..out.of.county.trips',\n",
              "       'X..out.of.state.trips', 'Miles.person', 'Work.trips.person',\n",
              "       'Non.work.trips.person', 'New.COVID.cases', 'Population',\n",
              "       'X..change.in.consumption', 'Transit.mode.share',\n",
              "       'X..people.older.than.60', 'Median.income', 'X..African.Americans',\n",
              "       'X..Hispanic.Americans', 'X..Male', 'Employment.density',\n",
              "       'X..hot.spots.1000.people', 'Hospital.beds.1000.people',\n",
              "       'ICUs.1000.people', 'X..contact.tracing.workers.1000.people',\n",
              "       'New.cases.1000.people', 'Active.cases.1000.people',\n",
              "       'X.days..decreasing.COVID.cases', 'X..hospital.bed.utilization',\n",
              "       'Testing.capacity', 'Tests.done.1000.people', 'X..ICU.utilization',\n",
              "       'Ventilator.shortage', 'Imported.COVID.cases',\n",
              "       'COVID.exposure.1000.people', 'X.days..decreasing.ILI.cases',\n",
              "       'Unemployment.claims.1000.people', 'Unemployment.rate',\n",
              "       'X..working.from.home', 'Cumulative.inflation.rate',\n",
              "       'COVID.death.rate'],\n",
              "      dtype='object')"
            ]
          },
          "metadata": {
            "tags": []
          },
          "execution_count": 12
        }
      ]
    },
    {
      "cell_type": "code",
      "metadata": {
        "id": "ZSl-K2oLdrlI"
      },
      "source": [
        "x_col_demographics = ['PopDensity','X..people.older.than.60',\r\n",
        "                      'Median.income', 'X..African.Americans',\r\n",
        "                      'X..Hispanic.Americans', 'X..Male','New cases','New.cases.1000.people']"
      ],
      "execution_count": 13,
      "outputs": []
    },
    {
      "cell_type": "code",
      "metadata": {
        "id": "luR-aqZyfIAa"
      },
      "source": [
        "x_col_hospitalization_testing = ['Hospital.beds.1000.people',\r\n",
        "       'ICUs.1000.people', \r\n",
        "       'X..hospital.bed.utilization',\r\n",
        "       'Testing.capacity', 'Tests.done.1000.people', 'X..ICU.utilization',\r\n",
        "       'Ventilator.shortage','New cases','New.cases.1000.people'] #'X..contact.tracing.workers.1000.people',"
      ],
      "execution_count": 14,
      "outputs": []
    },
    {
      "cell_type": "code",
      "metadata": {
        "id": "AKJ_Xx1RfxLL"
      },
      "source": [
        "x_col_mobility = ['retail_and_recreation_percent_change_from_baseline',\r\n",
        "       'grocery_and_pharmacy_percent_change_from_baseline','parks_percent_change_from_baseline',\r\n",
        "       'transit_stations_percent_change_from_baseline','workplaces_percent_change_from_baseline',\r\n",
        "       'residential_percent_change_from_baseline',\r\n",
        "       'X..staying.home', 'Trips.person', 'X..out.of.county.trips',\r\n",
        "       'X..out.of.state.trips', 'Miles.person', 'Work.trips.person',\r\n",
        "       'Non.work.trips.person','X..working.from.home','New cases','New.cases.1000.people']"
      ],
      "execution_count": 15,
      "outputs": []
    },
    {
      "cell_type": "code",
      "metadata": {
        "id": "-TTb78Pegu9X"
      },
      "source": [
        "x_col_socialdistancing = ['m50', 'm50_index','Social.distancing.index','New cases','New.cases.1000.people']"
      ],
      "execution_count": 16,
      "outputs": []
    },
    {
      "cell_type": "code",
      "metadata": {
        "id": "-cKerz6Lg87o"
      },
      "source": [
        "x_col_maskrule = ['mask_rule_severity','New cases','New.cases.1000.people']"
      ],
      "execution_count": 17,
      "outputs": []
    },
    {
      "cell_type": "markdown",
      "metadata": {
        "id": "oMPaT7ni0_QC"
      },
      "source": [
        "#Demographic Group"
      ]
    },
    {
      "cell_type": "markdown",
      "metadata": {
        "id": "ggqWALFS4p_B"
      },
      "source": [
        "## Feature Importance: Gini-Coefficient"
      ]
    },
    {
      "cell_type": "code",
      "metadata": {
        "colab": {
          "base_uri": "https://localhost:8080/"
        },
        "id": "33XFRI7Z5A8p",
        "outputId": "8cc8c111-028a-426d-a143-b46e2c54806c"
      },
      "source": [
        "CA_superset_data.columns"
      ],
      "execution_count": null,
      "outputs": [
        {
          "output_type": "execute_result",
          "data": {
            "text/plain": [
              "Index(['Date', 'Province_State', 'FIPS', 'New cases', 'County Name',\n",
              "       'mask_rule_severity', 'm50', 'm50_index',\n",
              "       'retail_and_recreation_percent_change_from_baseline',\n",
              "       'grocery_and_pharmacy_percent_change_from_baseline',\n",
              "       'parks_percent_change_from_baseline',\n",
              "       'transit_stations_percent_change_from_baseline',\n",
              "       'workplaces_percent_change_from_baseline',\n",
              "       'residential_percent_change_from_baseline', 'PopDensity', 'State_Name',\n",
              "       'State', 'CTFIPS', 'CTNAME', 'STFIPS', 'Social.distancing.index',\n",
              "       'X..staying.home', 'Trips.person', 'X..out.of.county.trips',\n",
              "       'X..out.of.state.trips', 'Miles.person', 'Work.trips.person',\n",
              "       'Non.work.trips.person', 'New.COVID.cases', 'Population',\n",
              "       'X..change.in.consumption', 'Transit.mode.share',\n",
              "       'X..people.older.than.60', 'Median.income', 'X..African.Americans',\n",
              "       'X..Hispanic.Americans', 'X..Male', 'Employment.density',\n",
              "       'X..hot.spots.1000.people', 'Hospital.beds.1000.people',\n",
              "       'ICUs.1000.people', 'X..contact.tracing.workers.1000.people',\n",
              "       'New.cases.1000.people', 'Active.cases.1000.people',\n",
              "       'X.days..decreasing.COVID.cases', 'X..hospital.bed.utilization',\n",
              "       'Testing.capacity', 'Tests.done.1000.people', 'X..ICU.utilization',\n",
              "       'Ventilator.shortage', 'Imported.COVID.cases',\n",
              "       'COVID.exposure.1000.people', 'X.days..decreasing.ILI.cases',\n",
              "       'Unemployment.claims.1000.people', 'Unemployment.rate',\n",
              "       'X..working.from.home', 'Cumulative.inflation.rate',\n",
              "       'COVID.death.rate'],\n",
              "      dtype='object')"
            ]
          },
          "metadata": {
            "tags": []
          },
          "execution_count": 56
        }
      ]
    },
    {
      "cell_type": "code",
      "metadata": {
        "id": "YiWpbJFg4tNq"
      },
      "source": [
        "def gini(list_of_values):\r\n",
        "    sorted_list = sorted(list_of_values)\r\n",
        "    #print (sorted_list)\r\n",
        "    height, area = 0, 0\r\n",
        "    for value in sorted_list:\r\n",
        "        \r\n",
        "        height += value\r\n",
        "        area += height - value / 2.\r\n",
        "    \r\n",
        "    fair_area = height * len(list_of_values) / 2.\r\n",
        "    print(fair_area)\r\n",
        "    return (fair_area - area) / fair_area"
      ],
      "execution_count": null,
      "outputs": []
    },
    {
      "cell_type": "code",
      "metadata": {
        "id": "S3_WFUcHI0GH"
      },
      "source": [
        "x_col_demographics = ['PopDensity','X..people.older.than.60',\r\n",
        "                      'Median.income', 'X..African.Americans',\r\n",
        "                      'X..Hispanic.Americans', 'X..Male','New cases','New.cases.1000.people']"
      ],
      "execution_count": null,
      "outputs": []
    },
    {
      "cell_type": "code",
      "metadata": {
        "colab": {
          "base_uri": "https://localhost:8080/"
        },
        "id": "WO-Pa6xw4xfg",
        "outputId": "e2415070-fc5c-45d4-f0f2-9a4d4d80a059"
      },
      "source": [
        "feature_cols= x_col_demographics\r\n",
        "\r\n",
        "gini_values = []\r\n",
        "for col in feature_cols:\r\n",
        "  #print(col)\r\n",
        "  dataset = CA_superset_data[col].values.tolist()\r\n",
        "  #print(dataset)\r\n",
        "  value = gini(dataset)\r\n",
        "  print('cols ',col,' - gini coeff is :',value)\r\n",
        "  gini_values.append(value)"
      ],
      "execution_count": null,
      "outputs": [
        {
          "output_type": "stream",
          "text": [
            "35575489453.94788\n",
            "cols  PopDensity  - gini coeff is : 0.8156637311902494\n",
            "2688977001.0\n",
            "cols  X..people.older.than.60  - gini coeff is : 0.14673423679461214\n",
            "7791742870376.5\n",
            "cols  Median.income  - gini coeff is : 0.15433249671121319\n",
            "374657726.1500031\n",
            "cols  X..African.Americans  - gini coeff is : 0.46161607629775014\n",
            "3797987049.249782\n",
            "cols  X..Hispanic.Americans  - gini coeff is : 0.3070973510639532\n",
            "5971969723.955034\n",
            "cols  X..Male  - gini coeff is : 0.017576291485370876\n",
            "14339402229.5\n",
            "cols  New cases  - gini coeff is : 0.8685321834670556\n",
            "16852079.173250053\n",
            "cols  New.cases.1000.people  - gini coeff is : 0.680904683056212\n"
          ],
          "name": "stdout"
        }
      ]
    },
    {
      "cell_type": "markdown",
      "metadata": {
        "id": "JCogtyG2c_KJ"
      },
      "source": [
        "## Feature Importance: Random Forest classifier(Gini Score)"
      ]
    },
    {
      "cell_type": "code",
      "metadata": {
        "colab": {
          "base_uri": "https://localhost:8080/"
        },
        "id": "X_J5iTIP5-Sg",
        "outputId": "04890344-59f1-49b6-d366-293ce0e3824a"
      },
      "source": [
        "CA_labeled_data.columns"
      ],
      "execution_count": null,
      "outputs": [
        {
          "output_type": "execute_result",
          "data": {
            "text/plain": [
              "Index(['Date', 'Province_State', 'FIPS', 'New cases', 'County Name',\n",
              "       'mask_rule_severity', 'm50', 'm50_index',\n",
              "       'retail_and_recreation_percent_change_from_baseline',\n",
              "       'grocery_and_pharmacy_percent_change_from_baseline',\n",
              "       'parks_percent_change_from_baseline',\n",
              "       'transit_stations_percent_change_from_baseline',\n",
              "       'workplaces_percent_change_from_baseline',\n",
              "       'residential_percent_change_from_baseline', 'PopDensity', 'State_Name',\n",
              "       'State', 'CTFIPS', 'CTNAME', 'STFIPS', 'Social.distancing.index',\n",
              "       'X..staying.home', 'Trips.person', 'X..out.of.county.trips',\n",
              "       'X..out.of.state.trips', 'Miles.person', 'Work.trips.person',\n",
              "       'Non.work.trips.person', 'New.COVID.cases', 'Population',\n",
              "       'X..change.in.consumption', 'Transit.mode.share',\n",
              "       'X..people.older.than.60', 'Median.income', 'X..African.Americans',\n",
              "       'X..Hispanic.Americans', 'X..Male', 'Employment.density',\n",
              "       'X..hot.spots.1000.people', 'Hospital.beds.1000.people',\n",
              "       'ICUs.1000.people', 'X..contact.tracing.workers.1000.people',\n",
              "       'New.cases.1000.people', 'Active.cases.1000.people',\n",
              "       'X.days..decreasing.COVID.cases', 'X..hospital.bed.utilization',\n",
              "       'Testing.capacity', 'Tests.done.1000.people', 'X..ICU.utilization',\n",
              "       'Ventilator.shortage', 'Imported.COVID.cases',\n",
              "       'COVID.exposure.1000.people', 'X.days..decreasing.ILI.cases',\n",
              "       'Unemployment.claims.1000.people', 'Unemployment.rate',\n",
              "       'X..working.from.home', 'Cumulative.inflation.rate', 'COVID.death.rate',\n",
              "       'New cases/100k', 'positivity_rate', 'rolling_avg_new_cases/100k',\n",
              "       'growth_label'],\n",
              "      dtype='object')"
            ]
          },
          "metadata": {
            "tags": []
          },
          "execution_count": 60
        }
      ]
    },
    {
      "cell_type": "code",
      "metadata": {
        "colab": {
          "base_uri": "https://localhost:8080/",
          "height": 177
        },
        "id": "p-zp2Xy96mP_",
        "outputId": "a3c0297a-ce97-4103-9fe4-5811dc958e19"
      },
      "source": [
        "CA_labeled_data['growth_code'] = CA_labeled_data['growth_label'].astype('category').cat.codes\r\n",
        "\r\n",
        "CA_labeled_data.head(2)"
      ],
      "execution_count": null,
      "outputs": [
        {
          "output_type": "execute_result",
          "data": {
            "text/html": [
              "<div>\n",
              "<style scoped>\n",
              "    .dataframe tbody tr th:only-of-type {\n",
              "        vertical-align: middle;\n",
              "    }\n",
              "\n",
              "    .dataframe tbody tr th {\n",
              "        vertical-align: top;\n",
              "    }\n",
              "\n",
              "    .dataframe thead th {\n",
              "        text-align: right;\n",
              "    }\n",
              "</style>\n",
              "<table border=\"1\" class=\"dataframe\">\n",
              "  <thead>\n",
              "    <tr style=\"text-align: right;\">\n",
              "      <th></th>\n",
              "      <th>Date</th>\n",
              "      <th>Province_State</th>\n",
              "      <th>FIPS</th>\n",
              "      <th>New cases</th>\n",
              "      <th>County Name</th>\n",
              "      <th>mask_rule_severity</th>\n",
              "      <th>m50</th>\n",
              "      <th>m50_index</th>\n",
              "      <th>retail_and_recreation_percent_change_from_baseline</th>\n",
              "      <th>grocery_and_pharmacy_percent_change_from_baseline</th>\n",
              "      <th>parks_percent_change_from_baseline</th>\n",
              "      <th>transit_stations_percent_change_from_baseline</th>\n",
              "      <th>workplaces_percent_change_from_baseline</th>\n",
              "      <th>residential_percent_change_from_baseline</th>\n",
              "      <th>PopDensity</th>\n",
              "      <th>State_Name</th>\n",
              "      <th>State</th>\n",
              "      <th>CTFIPS</th>\n",
              "      <th>CTNAME</th>\n",
              "      <th>STFIPS</th>\n",
              "      <th>Social.distancing.index</th>\n",
              "      <th>X..staying.home</th>\n",
              "      <th>Trips.person</th>\n",
              "      <th>X..out.of.county.trips</th>\n",
              "      <th>X..out.of.state.trips</th>\n",
              "      <th>Miles.person</th>\n",
              "      <th>Work.trips.person</th>\n",
              "      <th>Non.work.trips.person</th>\n",
              "      <th>New.COVID.cases</th>\n",
              "      <th>Population</th>\n",
              "      <th>X..change.in.consumption</th>\n",
              "      <th>Transit.mode.share</th>\n",
              "      <th>X..people.older.than.60</th>\n",
              "      <th>Median.income</th>\n",
              "      <th>X..African.Americans</th>\n",
              "      <th>X..Hispanic.Americans</th>\n",
              "      <th>X..Male</th>\n",
              "      <th>Employment.density</th>\n",
              "      <th>X..hot.spots.1000.people</th>\n",
              "      <th>Hospital.beds.1000.people</th>\n",
              "      <th>ICUs.1000.people</th>\n",
              "      <th>X..contact.tracing.workers.1000.people</th>\n",
              "      <th>New.cases.1000.people</th>\n",
              "      <th>Active.cases.1000.people</th>\n",
              "      <th>X.days..decreasing.COVID.cases</th>\n",
              "      <th>X..hospital.bed.utilization</th>\n",
              "      <th>Testing.capacity</th>\n",
              "      <th>Tests.done.1000.people</th>\n",
              "      <th>X..ICU.utilization</th>\n",
              "      <th>Ventilator.shortage</th>\n",
              "      <th>Imported.COVID.cases</th>\n",
              "      <th>COVID.exposure.1000.people</th>\n",
              "      <th>X.days..decreasing.ILI.cases</th>\n",
              "      <th>Unemployment.claims.1000.people</th>\n",
              "      <th>Unemployment.rate</th>\n",
              "      <th>X..working.from.home</th>\n",
              "      <th>Cumulative.inflation.rate</th>\n",
              "      <th>COVID.death.rate</th>\n",
              "      <th>New cases/100k</th>\n",
              "      <th>positivity_rate</th>\n",
              "      <th>rolling_avg_new_cases/100k</th>\n",
              "      <th>growth_label</th>\n",
              "      <th>growth_code</th>\n",
              "    </tr>\n",
              "  </thead>\n",
              "  <tbody>\n",
              "    <tr>\n",
              "      <th>0</th>\n",
              "      <td>2020-03-01</td>\n",
              "      <td>California</td>\n",
              "      <td>6001</td>\n",
              "      <td>0</td>\n",
              "      <td>Alameda County</td>\n",
              "      <td>0.0</td>\n",
              "      <td>3.684</td>\n",
              "      <td>58</td>\n",
              "      <td>6.0</td>\n",
              "      <td>9.0</td>\n",
              "      <td>15.0</td>\n",
              "      <td>1.0</td>\n",
              "      <td>4.0</td>\n",
              "      <td>0.0</td>\n",
              "      <td>860.757075</td>\n",
              "      <td>California</td>\n",
              "      <td>CA</td>\n",
              "      <td>6001</td>\n",
              "      <td>Alameda County</td>\n",
              "      <td>6</td>\n",
              "      <td>37</td>\n",
              "      <td>26</td>\n",
              "      <td>2.93</td>\n",
              "      <td>25.4</td>\n",
              "      <td>0.4</td>\n",
              "      <td>36.8</td>\n",
              "      <td>0.25</td>\n",
              "      <td>2.68</td>\n",
              "      <td>0</td>\n",
              "      <td>1666753</td>\n",
              "      <td>-5.1</td>\n",
              "      <td>15.04</td>\n",
              "      <td>19</td>\n",
              "      <td>92574</td>\n",
              "      <td>10.5</td>\n",
              "      <td>22.5</td>\n",
              "      <td>49.11</td>\n",
              "      <td>1155</td>\n",
              "      <td>131</td>\n",
              "      <td>2.05</td>\n",
              "      <td>0.22</td>\n",
              "      <td>0.0</td>\n",
              "      <td>0.0</td>\n",
              "      <td>0.0</td>\n",
              "      <td>37</td>\n",
              "      <td>54.0</td>\n",
              "      <td>0.0</td>\n",
              "      <td>0.0</td>\n",
              "      <td>0.0</td>\n",
              "      <td>0</td>\n",
              "      <td>0</td>\n",
              "      <td>0.05</td>\n",
              "      <td>35</td>\n",
              "      <td>1.1</td>\n",
              "      <td>5.3</td>\n",
              "      <td>5.7</td>\n",
              "      <td>0.6</td>\n",
              "      <td>0.0</td>\n",
              "      <td>0.0</td>\n",
              "      <td>0.0</td>\n",
              "      <td>0.0</td>\n",
              "      <td>minimal</td>\n",
              "      <td>0</td>\n",
              "    </tr>\n",
              "    <tr>\n",
              "      <th>1</th>\n",
              "      <td>2020-03-02</td>\n",
              "      <td>California</td>\n",
              "      <td>6001</td>\n",
              "      <td>0</td>\n",
              "      <td>Alameda County</td>\n",
              "      <td>0.0</td>\n",
              "      <td>6.182</td>\n",
              "      <td>98</td>\n",
              "      <td>4.0</td>\n",
              "      <td>7.0</td>\n",
              "      <td>7.0</td>\n",
              "      <td>-1.0</td>\n",
              "      <td>3.0</td>\n",
              "      <td>0.0</td>\n",
              "      <td>860.757075</td>\n",
              "      <td>California</td>\n",
              "      <td>CA</td>\n",
              "      <td>6001</td>\n",
              "      <td>Alameda County</td>\n",
              "      <td>6</td>\n",
              "      <td>17</td>\n",
              "      <td>20</td>\n",
              "      <td>3.38</td>\n",
              "      <td>28.2</td>\n",
              "      <td>0.4</td>\n",
              "      <td>38.1</td>\n",
              "      <td>0.63</td>\n",
              "      <td>2.74</td>\n",
              "      <td>0</td>\n",
              "      <td>1666753</td>\n",
              "      <td>-2.9</td>\n",
              "      <td>15.04</td>\n",
              "      <td>19</td>\n",
              "      <td>92574</td>\n",
              "      <td>10.5</td>\n",
              "      <td>22.5</td>\n",
              "      <td>49.11</td>\n",
              "      <td>1155</td>\n",
              "      <td>131</td>\n",
              "      <td>2.05</td>\n",
              "      <td>0.22</td>\n",
              "      <td>0.0</td>\n",
              "      <td>0.0</td>\n",
              "      <td>0.0</td>\n",
              "      <td>38</td>\n",
              "      <td>54.0</td>\n",
              "      <td>0.0</td>\n",
              "      <td>0.0</td>\n",
              "      <td>0.0</td>\n",
              "      <td>0</td>\n",
              "      <td>0</td>\n",
              "      <td>0.05</td>\n",
              "      <td>35</td>\n",
              "      <td>1.1</td>\n",
              "      <td>5.3</td>\n",
              "      <td>5.7</td>\n",
              "      <td>0.6</td>\n",
              "      <td>0.0</td>\n",
              "      <td>0.0</td>\n",
              "      <td>0.0</td>\n",
              "      <td>0.0</td>\n",
              "      <td>minimal</td>\n",
              "      <td>0</td>\n",
              "    </tr>\n",
              "  </tbody>\n",
              "</table>\n",
              "</div>"
            ],
            "text/plain": [
              "         Date Province_State  ...  growth_label  growth_code\n",
              "0  2020-03-01     California  ...       minimal            0\n",
              "1  2020-03-02     California  ...       minimal            0\n",
              "\n",
              "[2 rows x 63 columns]"
            ]
          },
          "metadata": {
            "tags": []
          },
          "execution_count": 61
        }
      ]
    },
    {
      "cell_type": "code",
      "metadata": {
        "id": "Q015pwCsbJRZ"
      },
      "source": [
        "x_col_demographics = ['PopDensity','X..people.older.than.60',\n",
        "                      'Median.income', 'X..African.Americans',\n",
        "                      'X..Hispanic.Americans', 'X..Male','New cases','New.cases.1000.people']\n",
        "\n",
        "feature_labels = ['FIPS','PopDensity','X..people.older.than.60',\n",
        "                      'Median.income', 'X..African.Americans',\n",
        "                      'X..Hispanic.Americans', 'X..Male']\n",
        "\n",
        "target_column = ['growth_code']\n",
        "\n",
        "X = CA_labeled_data[feature_labels]\n",
        "y = CA_labeled_data[target_column]\n",
        "\n",
        "X_train, X_test, y_train, y_test = train_test_split(X, y, test_size=0.4, random_state=0)\n"
      ],
      "execution_count": null,
      "outputs": []
    },
    {
      "cell_type": "code",
      "metadata": {
        "id": "2WlgVFSHbGWY",
        "colab": {
          "base_uri": "https://localhost:8080/"
        },
        "outputId": "781f2246-52b3-4f0a-c884-e016c183c87c"
      },
      "source": [
        "# Create a random forest classifier\n",
        "clf = RandomForestClassifier(n_estimators=10000, random_state=0, n_jobs=-1)\n",
        "\n",
        "# Train the classifier\n",
        "clf.fit(X_train, y_train)\n",
        "\n",
        "# Print the name and gini importance of each feature\n",
        "for feature in zip(feature_labels, clf.feature_importances_):\n",
        "    print(feature)"
      ],
      "execution_count": null,
      "outputs": [
        {
          "output_type": "stream",
          "text": [
            "/usr/local/lib/python3.6/dist-packages/ipykernel_launcher.py:5: DataConversionWarning: A column-vector y was passed when a 1d array was expected. Please change the shape of y to (n_samples,), for example using ravel().\n",
            "  \"\"\"\n"
          ],
          "name": "stderr"
        },
        {
          "output_type": "stream",
          "text": [
            "('FIPS', 0.0874080002727691)\n",
            "('PopDensity', 0.09777770512162384)\n",
            "('X..people.older.than.60', 0.19726229104211354)\n",
            "('Median.income', 0.09978030517826054)\n",
            "('X..African.Americans', 0.08631257795640143)\n",
            "('X..Hispanic.Americans', 0.34971446784318383)\n",
            "('X..Male', 0.08174465258564782)\n"
          ],
          "name": "stdout"
        }
      ]
    },
    {
      "cell_type": "code",
      "metadata": {
        "id": "3Vc0z9x3dsxZ",
        "colab": {
          "base_uri": "https://localhost:8080/"
        },
        "outputId": "a1129ff2-2bfb-44c2-9790-f24094f0b5ad"
      },
      "source": [
        "\n",
        "#  Supported criteria are “gini” for the Gini impurity and “entropy” for the information gain. \n",
        "clf = RandomForestClassifier(n_estimators=10000, random_state=0,criterion='gini', n_jobs=-1)\n",
        "\n",
        "# Train the classifier\n",
        "clf.fit(X_train, y_train)\n",
        "\n",
        "# Print the name and gini importance of each feature\n",
        "for feature in zip(feature_labels, clf.feature_importances_):\n",
        "    print(feature)"
      ],
      "execution_count": null,
      "outputs": [
        {
          "output_type": "stream",
          "text": [
            "/usr/local/lib/python3.6/dist-packages/ipykernel_launcher.py:6: DataConversionWarning: A column-vector y was passed when a 1d array was expected. Please change the shape of y to (n_samples,), for example using ravel().\n",
            "  \n"
          ],
          "name": "stderr"
        },
        {
          "output_type": "stream",
          "text": [
            "('FIPS', 0.0874080002727691)\n",
            "('PopDensity', 0.09777770512162384)\n",
            "('X..people.older.than.60', 0.19726229104211354)\n",
            "('Median.income', 0.09978030517826054)\n",
            "('X..African.Americans', 0.08631257795640143)\n",
            "('X..Hispanic.Americans', 0.34971446784318383)\n",
            "('X..Male', 0.08174465258564782)\n"
          ],
          "name": "stdout"
        }
      ]
    },
    {
      "cell_type": "markdown",
      "metadata": {
        "id": "eXzHRrL_0Ijd"
      },
      "source": [
        "## Feature Importance: Extra tree classifier"
      ]
    },
    {
      "cell_type": "code",
      "metadata": {
        "id": "89L6qNoE0UQI"
      },
      "source": [
        "from sklearn.ensemble import ExtraTreesClassifier\n",
        "from sklearn.feature_selection import RFE"
      ],
      "execution_count": null,
      "outputs": []
    },
    {
      "cell_type": "code",
      "metadata": {
        "id": "QEUchCb20L2Q"
      },
      "source": [
        "x_col_demographics = ['PopDensity','X..people.older.than.60',\n",
        "                      'Median.income', 'X..African.Americans',\n",
        "                      'X..Hispanic.Americans', 'X..Male','New cases','New.cases.1000.people']\n",
        "\n",
        "feature_labels = ['FIPS','PopDensity','X..people.older.than.60',\n",
        "                      'Median.income', 'X..African.Americans',\n",
        "                      'X..Hispanic.Americans', 'X..Male']\n",
        "\n",
        "target_column = ['growth_code']\n",
        "\n",
        "X = CA_labeled_data[feature_labels]\n",
        "y = CA_labeled_data[target_column]\n",
        "\n",
        "X_train, X_test, y_train, y_test = train_test_split(X, y, test_size=0.4, random_state=0)"
      ],
      "execution_count": null,
      "outputs": []
    },
    {
      "cell_type": "code",
      "metadata": {
        "colab": {
          "base_uri": "https://localhost:8080/"
        },
        "id": "tWGwUJ5E8v9O",
        "outputId": "5a0eb138-f4a5-465f-fdd6-03d458d87aae"
      },
      "source": [
        "# Create a random forest classifier\r\n",
        "clf = RandomForestClassifier(n_estimators=10000, random_state=0, n_jobs=-1)\r\n",
        "\r\n",
        "# Train the classifier\r\n",
        "clf.fit(X_train, y_train)\r\n",
        "\r\n",
        "# Print the name and gini importance of each feature\r\n",
        "for feature in zip(feature_labels, clf.feature_importances_):\r\n",
        "    print(feature)\r\n",
        "\r\n",
        "\r\n",
        "#  Supported criteria are “gini” for the Gini impurity and “entropy” for the information gain. \r\n",
        "clf = RandomForestClassifier(n_estimators=10000, random_state=0,criterion='gini', n_jobs=-1)# Train the classifier\r\n",
        "clf.fit(X_train, y_train)\r\n",
        "# Print the name and gini importance of each feature\r\n",
        "for feature in zip(feature_labels, clf.feature_importances_):\r\n",
        "    print(feature)\r\n",
        "\r\n",
        "\r\n",
        "model = ExtraTreesClassifier()\r\n",
        "model.fit(X, y.values.ravel())\r\n",
        "# display the relative importance of each attribute\r\n",
        "#print(model.feature_importances_)\r\n",
        "\r\n",
        "\r\n",
        "# create the RFE model \r\n",
        "rfe = RFE(model, 3)\r\n",
        "rfe = rfe.fit(X, y.values.ravel())\r\n",
        "# summarize the selection of the attributes\r\n",
        "#print(rfe.support_)\r\n",
        "\r\n",
        "print(\"\\nFeatures with ranking:\\n\")\r\n",
        "for index in range(len(rfe.ranking_)):\r\n",
        "  print(feature_labels[index], rfe.ranking_[index])\r\n",
        "\r\n",
        "# for index in range(len(rfe.ranking_)):\r\n",
        "#   print( rfe.ranking_[index])\r\n",
        "#print(rfe.ranking_)\r\n",
        "#print(rfe.n_features_)\r\n",
        "#rfe.n_features_to_select"
      ],
      "execution_count": null,
      "outputs": [
        {
          "output_type": "stream",
          "text": [
            "/usr/local/lib/python3.6/dist-packages/ipykernel_launcher.py:5: DataConversionWarning: A column-vector y was passed when a 1d array was expected. Please change the shape of y to (n_samples,), for example using ravel().\n",
            "  \"\"\"\n"
          ],
          "name": "stderr"
        },
        {
          "output_type": "stream",
          "text": [
            "('FIPS', 0.0874080002727691)\n",
            "('PopDensity', 0.09777770512162384)\n",
            "('X..people.older.than.60', 0.19726229104211354)\n",
            "('Median.income', 0.09978030517826054)\n",
            "('X..African.Americans', 0.08631257795640143)\n",
            "('X..Hispanic.Americans', 0.34971446784318383)\n",
            "('X..Male', 0.08174465258564782)\n"
          ],
          "name": "stdout"
        },
        {
          "output_type": "stream",
          "text": [
            "/usr/local/lib/python3.6/dist-packages/ipykernel_launcher.py:14: DataConversionWarning: A column-vector y was passed when a 1d array was expected. Please change the shape of y to (n_samples,), for example using ravel().\n",
            "  \n"
          ],
          "name": "stderr"
        },
        {
          "output_type": "stream",
          "text": [
            "('FIPS', 0.0874080002727691)\n",
            "('PopDensity', 0.09777770512162384)\n",
            "('X..people.older.than.60', 0.19726229104211354)\n",
            "('Median.income', 0.09978030517826054)\n",
            "('X..African.Americans', 0.08631257795640143)\n",
            "('X..Hispanic.Americans', 0.34971446784318383)\n",
            "('X..Male', 0.08174465258564782)\n",
            "\n",
            "Features with ranking:\n",
            "\n",
            "FIPS 4\n",
            "PopDensity 5\n",
            "X..people.older.than.60 1\n",
            "Median.income 1\n",
            "X..African.Americans 3\n",
            "X..Hispanic.Americans 1\n",
            "X..Male 2\n"
          ],
          "name": "stdout"
        }
      ]
    },
    {
      "cell_type": "markdown",
      "metadata": {
        "id": "QGhvva7gMh9Z"
      },
      "source": [
        "#Hospitalization and testing Group"
      ]
    },
    {
      "cell_type": "markdown",
      "metadata": {
        "id": "C6EPIHIGMh9t"
      },
      "source": [
        "## Feature Importance: Gini-Coefficient"
      ]
    },
    {
      "cell_type": "code",
      "metadata": {
        "colab": {
          "base_uri": "https://localhost:8080/"
        },
        "id": "cAcTBGjHMh9u",
        "outputId": "f0641abb-2797-4772-9810-53972d00fd62"
      },
      "source": [
        "CA_superset_data.columns"
      ],
      "execution_count": null,
      "outputs": [
        {
          "output_type": "execute_result",
          "data": {
            "text/plain": [
              "Index(['Date', 'Province_State', 'FIPS', 'New cases', 'County Name',\n",
              "       'mask_rule_severity', 'm50', 'm50_index',\n",
              "       'retail_and_recreation_percent_change_from_baseline',\n",
              "       'grocery_and_pharmacy_percent_change_from_baseline',\n",
              "       'parks_percent_change_from_baseline',\n",
              "       'transit_stations_percent_change_from_baseline',\n",
              "       'workplaces_percent_change_from_baseline',\n",
              "       'residential_percent_change_from_baseline', 'PopDensity', 'State_Name',\n",
              "       'State', 'CTFIPS', 'CTNAME', 'STFIPS', 'Social.distancing.index',\n",
              "       'X..staying.home', 'Trips.person', 'X..out.of.county.trips',\n",
              "       'X..out.of.state.trips', 'Miles.person', 'Work.trips.person',\n",
              "       'Non.work.trips.person', 'New.COVID.cases', 'Population',\n",
              "       'X..change.in.consumption', 'Transit.mode.share',\n",
              "       'X..people.older.than.60', 'Median.income', 'X..African.Americans',\n",
              "       'X..Hispanic.Americans', 'X..Male', 'Employment.density',\n",
              "       'X..hot.spots.1000.people', 'Hospital.beds.1000.people',\n",
              "       'ICUs.1000.people', 'X..contact.tracing.workers.1000.people',\n",
              "       'New.cases.1000.people', 'Active.cases.1000.people',\n",
              "       'X.days..decreasing.COVID.cases', 'X..hospital.bed.utilization',\n",
              "       'Testing.capacity', 'Tests.done.1000.people', 'X..ICU.utilization',\n",
              "       'Ventilator.shortage', 'Imported.COVID.cases',\n",
              "       'COVID.exposure.1000.people', 'X.days..decreasing.ILI.cases',\n",
              "       'Unemployment.claims.1000.people', 'Unemployment.rate',\n",
              "       'X..working.from.home', 'Cumulative.inflation.rate',\n",
              "       'COVID.death.rate'],\n",
              "      dtype='object')"
            ]
          },
          "metadata": {
            "tags": []
          },
          "execution_count": 68
        }
      ]
    },
    {
      "cell_type": "code",
      "metadata": {
        "id": "jmhGarIhMh9v"
      },
      "source": [
        "def gini(list_of_values):\r\n",
        "    sorted_list = sorted(list_of_values)\r\n",
        "    #print (sorted_list)\r\n",
        "    height, area = 0, 0\r\n",
        "    for value in sorted_list:\r\n",
        "        \r\n",
        "        height += value\r\n",
        "        area += height - value / 2.\r\n",
        "    \r\n",
        "    fair_area = height * len(list_of_values) / 2.\r\n",
        "    print(fair_area)\r\n",
        "    return (fair_area - area) / fair_area"
      ],
      "execution_count": null,
      "outputs": []
    },
    {
      "cell_type": "code",
      "metadata": {
        "id": "c-2kWqgPMh9w"
      },
      "source": [
        "x_col_hospitalization_testing = ['Hospital.beds.1000.people',\r\n",
        "       'ICUs.1000.people', \r\n",
        "       'X..hospital.bed.utilization',\r\n",
        "       'Testing.capacity', 'Tests.done.1000.people', 'X..ICU.utilization',\r\n",
        "       'Ventilator.shortage','New cases','New.cases.1000.people'] #'X..contact.tracing.workers.1000.people',"
      ],
      "execution_count": null,
      "outputs": []
    },
    {
      "cell_type": "code",
      "metadata": {
        "colab": {
          "base_uri": "https://localhost:8080/"
        },
        "id": "IugaLiBBMh9w",
        "outputId": "03d603d9-4be6-4d74-e81c-e6970711c504"
      },
      "source": [
        "feature_cols= x_col_hospitalization_testing\r\n",
        "\r\n",
        "gini_values = []\r\n",
        "for col in feature_cols:\r\n",
        "  #print(col)\r\n",
        "  dataset = CA_superset_data[col].values.tolist()\r\n",
        "  #print(dataset)\r\n",
        "  value = gini(dataset)\r\n",
        "  print('cols ',col,' - gini coeff is :',value)\r\n",
        "  gini_values.append(value)"
      ],
      "execution_count": null,
      "outputs": [
        {
          "output_type": "stream",
          "text": [
            "242804953.02494016\n",
            "cols  Hospital.beds.1000.people  - gini coeff is : -8.628750104779691e-14\n",
            "26057116.909992337\n",
            "cols  ICUs.1000.people  - gini coeff is : -2.3818190088626247e-13\n",
            "6956397389.468079\n",
            "cols  X..hospital.bed.utilization  - gini coeff is : 0.03308998365992187\n",
            "847893268.2000415\n",
            "cols  Testing.capacity  - gini coeff is : 0.22260662795532127\n",
            "27711428164.375595\n",
            "cols  Tests.done.1000.people  - gini coeff is : 0.525695711903369\n",
            "1850321257.0899777\n",
            "cols  X..ICU.utilization  - gini coeff is : 0.2995730960210415\n",
            "74971523352.5\n",
            "cols  Ventilator.shortage  - gini coeff is : 0.35019564195802766\n",
            "14339402229.5\n",
            "cols  New cases  - gini coeff is : 0.8685321834670556\n",
            "16852079.173250053\n",
            "cols  New.cases.1000.people  - gini coeff is : 0.680904683056212\n"
          ],
          "name": "stdout"
        }
      ]
    },
    {
      "cell_type": "markdown",
      "metadata": {
        "id": "qmEaxqK-Mh9x"
      },
      "source": [
        "## Feature Importance: Random Forest classifier(Gini Score)"
      ]
    },
    {
      "cell_type": "code",
      "metadata": {
        "colab": {
          "base_uri": "https://localhost:8080/"
        },
        "id": "HbEGEOxgMh9x",
        "outputId": "bbfdf9cb-c3fa-4cde-80d5-034067def392"
      },
      "source": [
        "CA_labeled_data.columns"
      ],
      "execution_count": null,
      "outputs": [
        {
          "output_type": "execute_result",
          "data": {
            "text/plain": [
              "Index(['Date', 'Province_State', 'FIPS', 'New cases', 'County Name',\n",
              "       'mask_rule_severity', 'm50', 'm50_index',\n",
              "       'retail_and_recreation_percent_change_from_baseline',\n",
              "       'grocery_and_pharmacy_percent_change_from_baseline',\n",
              "       'parks_percent_change_from_baseline',\n",
              "       'transit_stations_percent_change_from_baseline',\n",
              "       'workplaces_percent_change_from_baseline',\n",
              "       'residential_percent_change_from_baseline', 'PopDensity', 'State_Name',\n",
              "       'State', 'CTFIPS', 'CTNAME', 'STFIPS', 'Social.distancing.index',\n",
              "       'X..staying.home', 'Trips.person', 'X..out.of.county.trips',\n",
              "       'X..out.of.state.trips', 'Miles.person', 'Work.trips.person',\n",
              "       'Non.work.trips.person', 'New.COVID.cases', 'Population',\n",
              "       'X..change.in.consumption', 'Transit.mode.share',\n",
              "       'X..people.older.than.60', 'Median.income', 'X..African.Americans',\n",
              "       'X..Hispanic.Americans', 'X..Male', 'Employment.density',\n",
              "       'X..hot.spots.1000.people', 'Hospital.beds.1000.people',\n",
              "       'ICUs.1000.people', 'X..contact.tracing.workers.1000.people',\n",
              "       'New.cases.1000.people', 'Active.cases.1000.people',\n",
              "       'X.days..decreasing.COVID.cases', 'X..hospital.bed.utilization',\n",
              "       'Testing.capacity', 'Tests.done.1000.people', 'X..ICU.utilization',\n",
              "       'Ventilator.shortage', 'Imported.COVID.cases',\n",
              "       'COVID.exposure.1000.people', 'X.days..decreasing.ILI.cases',\n",
              "       'Unemployment.claims.1000.people', 'Unemployment.rate',\n",
              "       'X..working.from.home', 'Cumulative.inflation.rate', 'COVID.death.rate',\n",
              "       'New cases/100k', 'positivity_rate', 'rolling_avg_new_cases/100k',\n",
              "       'growth_label', 'growth_code'],\n",
              "      dtype='object')"
            ]
          },
          "metadata": {
            "tags": []
          },
          "execution_count": 72
        }
      ]
    },
    {
      "cell_type": "code",
      "metadata": {
        "colab": {
          "base_uri": "https://localhost:8080/"
        },
        "id": "95_iBgtEMh9x",
        "outputId": "fddb9270-6fc4-4a17-fc46-5c18a62be971"
      },
      "source": [
        "CA_labeled_data['growth_code'] = CA_labeled_data['growth_label'].astype('category').cat.codes\r\n",
        "\r\n",
        "CA_labeled_data.head(2)"
      ],
      "execution_count": null,
      "outputs": [
        {
          "output_type": "execute_result",
          "data": {
            "text/html": [
              "<div>\n",
              "<style scoped>\n",
              "    .dataframe tbody tr th:only-of-type {\n",
              "        vertical-align: middle;\n",
              "    }\n",
              "\n",
              "    .dataframe tbody tr th {\n",
              "        vertical-align: top;\n",
              "    }\n",
              "\n",
              "    .dataframe thead th {\n",
              "        text-align: right;\n",
              "    }\n",
              "</style>\n",
              "<table border=\"1\" class=\"dataframe\">\n",
              "  <thead>\n",
              "    <tr style=\"text-align: right;\">\n",
              "      <th></th>\n",
              "      <th>Date</th>\n",
              "      <th>Province_State</th>\n",
              "      <th>FIPS</th>\n",
              "      <th>New cases</th>\n",
              "      <th>County Name</th>\n",
              "      <th>mask_rule_severity</th>\n",
              "      <th>m50</th>\n",
              "      <th>m50_index</th>\n",
              "      <th>retail_and_recreation_percent_change_from_baseline</th>\n",
              "      <th>grocery_and_pharmacy_percent_change_from_baseline</th>\n",
              "      <th>parks_percent_change_from_baseline</th>\n",
              "      <th>transit_stations_percent_change_from_baseline</th>\n",
              "      <th>workplaces_percent_change_from_baseline</th>\n",
              "      <th>residential_percent_change_from_baseline</th>\n",
              "      <th>PopDensity</th>\n",
              "      <th>State_Name</th>\n",
              "      <th>State</th>\n",
              "      <th>CTFIPS</th>\n",
              "      <th>CTNAME</th>\n",
              "      <th>STFIPS</th>\n",
              "      <th>Social.distancing.index</th>\n",
              "      <th>X..staying.home</th>\n",
              "      <th>Trips.person</th>\n",
              "      <th>X..out.of.county.trips</th>\n",
              "      <th>X..out.of.state.trips</th>\n",
              "      <th>Miles.person</th>\n",
              "      <th>Work.trips.person</th>\n",
              "      <th>Non.work.trips.person</th>\n",
              "      <th>New.COVID.cases</th>\n",
              "      <th>Population</th>\n",
              "      <th>X..change.in.consumption</th>\n",
              "      <th>Transit.mode.share</th>\n",
              "      <th>X..people.older.than.60</th>\n",
              "      <th>Median.income</th>\n",
              "      <th>X..African.Americans</th>\n",
              "      <th>X..Hispanic.Americans</th>\n",
              "      <th>X..Male</th>\n",
              "      <th>Employment.density</th>\n",
              "      <th>X..hot.spots.1000.people</th>\n",
              "      <th>Hospital.beds.1000.people</th>\n",
              "      <th>ICUs.1000.people</th>\n",
              "      <th>X..contact.tracing.workers.1000.people</th>\n",
              "      <th>New.cases.1000.people</th>\n",
              "      <th>Active.cases.1000.people</th>\n",
              "      <th>X.days..decreasing.COVID.cases</th>\n",
              "      <th>X..hospital.bed.utilization</th>\n",
              "      <th>Testing.capacity</th>\n",
              "      <th>Tests.done.1000.people</th>\n",
              "      <th>X..ICU.utilization</th>\n",
              "      <th>Ventilator.shortage</th>\n",
              "      <th>Imported.COVID.cases</th>\n",
              "      <th>COVID.exposure.1000.people</th>\n",
              "      <th>X.days..decreasing.ILI.cases</th>\n",
              "      <th>Unemployment.claims.1000.people</th>\n",
              "      <th>Unemployment.rate</th>\n",
              "      <th>X..working.from.home</th>\n",
              "      <th>Cumulative.inflation.rate</th>\n",
              "      <th>COVID.death.rate</th>\n",
              "      <th>New cases/100k</th>\n",
              "      <th>positivity_rate</th>\n",
              "      <th>rolling_avg_new_cases/100k</th>\n",
              "      <th>growth_label</th>\n",
              "      <th>growth_code</th>\n",
              "    </tr>\n",
              "  </thead>\n",
              "  <tbody>\n",
              "    <tr>\n",
              "      <th>0</th>\n",
              "      <td>2020-03-01</td>\n",
              "      <td>California</td>\n",
              "      <td>6001</td>\n",
              "      <td>0</td>\n",
              "      <td>Alameda County</td>\n",
              "      <td>0.0</td>\n",
              "      <td>3.684</td>\n",
              "      <td>58</td>\n",
              "      <td>6.0</td>\n",
              "      <td>9.0</td>\n",
              "      <td>15.0</td>\n",
              "      <td>1.0</td>\n",
              "      <td>4.0</td>\n",
              "      <td>0.0</td>\n",
              "      <td>860.757075</td>\n",
              "      <td>California</td>\n",
              "      <td>CA</td>\n",
              "      <td>6001</td>\n",
              "      <td>Alameda County</td>\n",
              "      <td>6</td>\n",
              "      <td>37</td>\n",
              "      <td>26</td>\n",
              "      <td>2.93</td>\n",
              "      <td>25.4</td>\n",
              "      <td>0.4</td>\n",
              "      <td>36.8</td>\n",
              "      <td>0.25</td>\n",
              "      <td>2.68</td>\n",
              "      <td>0</td>\n",
              "      <td>1666753</td>\n",
              "      <td>-5.1</td>\n",
              "      <td>15.04</td>\n",
              "      <td>19</td>\n",
              "      <td>92574</td>\n",
              "      <td>10.5</td>\n",
              "      <td>22.5</td>\n",
              "      <td>49.11</td>\n",
              "      <td>1155</td>\n",
              "      <td>131</td>\n",
              "      <td>2.05</td>\n",
              "      <td>0.22</td>\n",
              "      <td>0.0</td>\n",
              "      <td>0.0</td>\n",
              "      <td>0.0</td>\n",
              "      <td>37</td>\n",
              "      <td>54.0</td>\n",
              "      <td>0.0</td>\n",
              "      <td>0.0</td>\n",
              "      <td>0.0</td>\n",
              "      <td>0</td>\n",
              "      <td>0</td>\n",
              "      <td>0.05</td>\n",
              "      <td>35</td>\n",
              "      <td>1.1</td>\n",
              "      <td>5.3</td>\n",
              "      <td>5.7</td>\n",
              "      <td>0.6</td>\n",
              "      <td>0.0</td>\n",
              "      <td>0.0</td>\n",
              "      <td>0.0</td>\n",
              "      <td>0.0</td>\n",
              "      <td>minimal</td>\n",
              "      <td>0</td>\n",
              "    </tr>\n",
              "    <tr>\n",
              "      <th>1</th>\n",
              "      <td>2020-03-02</td>\n",
              "      <td>California</td>\n",
              "      <td>6001</td>\n",
              "      <td>0</td>\n",
              "      <td>Alameda County</td>\n",
              "      <td>0.0</td>\n",
              "      <td>6.182</td>\n",
              "      <td>98</td>\n",
              "      <td>4.0</td>\n",
              "      <td>7.0</td>\n",
              "      <td>7.0</td>\n",
              "      <td>-1.0</td>\n",
              "      <td>3.0</td>\n",
              "      <td>0.0</td>\n",
              "      <td>860.757075</td>\n",
              "      <td>California</td>\n",
              "      <td>CA</td>\n",
              "      <td>6001</td>\n",
              "      <td>Alameda County</td>\n",
              "      <td>6</td>\n",
              "      <td>17</td>\n",
              "      <td>20</td>\n",
              "      <td>3.38</td>\n",
              "      <td>28.2</td>\n",
              "      <td>0.4</td>\n",
              "      <td>38.1</td>\n",
              "      <td>0.63</td>\n",
              "      <td>2.74</td>\n",
              "      <td>0</td>\n",
              "      <td>1666753</td>\n",
              "      <td>-2.9</td>\n",
              "      <td>15.04</td>\n",
              "      <td>19</td>\n",
              "      <td>92574</td>\n",
              "      <td>10.5</td>\n",
              "      <td>22.5</td>\n",
              "      <td>49.11</td>\n",
              "      <td>1155</td>\n",
              "      <td>131</td>\n",
              "      <td>2.05</td>\n",
              "      <td>0.22</td>\n",
              "      <td>0.0</td>\n",
              "      <td>0.0</td>\n",
              "      <td>0.0</td>\n",
              "      <td>38</td>\n",
              "      <td>54.0</td>\n",
              "      <td>0.0</td>\n",
              "      <td>0.0</td>\n",
              "      <td>0.0</td>\n",
              "      <td>0</td>\n",
              "      <td>0</td>\n",
              "      <td>0.05</td>\n",
              "      <td>35</td>\n",
              "      <td>1.1</td>\n",
              "      <td>5.3</td>\n",
              "      <td>5.7</td>\n",
              "      <td>0.6</td>\n",
              "      <td>0.0</td>\n",
              "      <td>0.0</td>\n",
              "      <td>0.0</td>\n",
              "      <td>0.0</td>\n",
              "      <td>minimal</td>\n",
              "      <td>0</td>\n",
              "    </tr>\n",
              "  </tbody>\n",
              "</table>\n",
              "</div>"
            ],
            "text/plain": [
              "         Date Province_State  ...  growth_label  growth_code\n",
              "0  2020-03-01     California  ...       minimal            0\n",
              "1  2020-03-02     California  ...       minimal            0\n",
              "\n",
              "[2 rows x 63 columns]"
            ]
          },
          "metadata": {
            "tags": []
          },
          "execution_count": 73
        }
      ]
    },
    {
      "cell_type": "code",
      "metadata": {
        "id": "058DOJWSMh9y"
      },
      "source": [
        "x_col_hospitalization_testing = ['Hospital.beds.1000.people',\n",
        "       'ICUs.1000.people', \n",
        "       'X..hospital.bed.utilization',\n",
        "       'Testing.capacity', 'Tests.done.1000.people', 'X..ICU.utilization',\n",
        "       'Ventilator.shortage','New cases','New.cases.1000.people'] #'X..contact.tracing.workers.1000.people',\n",
        "\n",
        "feature_labels = ['FIPS','Hospital.beds.1000.people',\n",
        "       'ICUs.1000.people', \n",
        "       'X..hospital.bed.utilization',\n",
        "       'Testing.capacity', 'Tests.done.1000.people', 'X..ICU.utilization',\n",
        "       'Ventilator.shortage']\n",
        "\n",
        "target_column = ['growth_code']\n",
        "\n",
        "X = CA_labeled_data[feature_labels]\n",
        "y = CA_labeled_data[target_column]\n",
        "\n",
        "X_train, X_test, y_train, y_test = train_test_split(X, y, test_size=0.4, random_state=0)\n"
      ],
      "execution_count": null,
      "outputs": []
    },
    {
      "cell_type": "code",
      "metadata": {
        "colab": {
          "base_uri": "https://localhost:8080/"
        },
        "id": "hLFMK-e6Mh9y",
        "outputId": "9e8a1ed3-875e-47bb-db72-a7ae29a8831c"
      },
      "source": [
        "# Create a random forest classifier\n",
        "clf = RandomForestClassifier(n_estimators=10000, random_state=0, n_jobs=-1)\n",
        "\n",
        "# Train the classifier\n",
        "clf.fit(X_train, y_train)\n",
        "\n",
        "# Print the name and gini importance of each feature\n",
        "for feature in zip(feature_labels, clf.feature_importances_):\n",
        "    print(feature)"
      ],
      "execution_count": null,
      "outputs": [
        {
          "output_type": "stream",
          "text": [
            "/usr/local/lib/python3.6/dist-packages/ipykernel_launcher.py:5: DataConversionWarning: A column-vector y was passed when a 1d array was expected. Please change the shape of y to (n_samples,), for example using ravel().\n",
            "  \"\"\"\n"
          ],
          "name": "stderr"
        },
        {
          "output_type": "stream",
          "text": [
            "('FIPS', 0.5564545734240648)\n",
            "('Hospital.beds.1000.people', 0.0)\n",
            "('ICUs.1000.people', 0.0)\n",
            "('X..hospital.bed.utilization', 0.11437962824685657)\n",
            "('Testing.capacity', 0.04374082430257774)\n",
            "('Tests.done.1000.people', 0.13165942383332738)\n",
            "('X..ICU.utilization', 0.09272099431546503)\n",
            "('Ventilator.shortage', 0.06104455587770836)\n"
          ],
          "name": "stdout"
        }
      ]
    },
    {
      "cell_type": "code",
      "metadata": {
        "colab": {
          "base_uri": "https://localhost:8080/"
        },
        "id": "C_T0zdsDMh9z",
        "outputId": "b07d916d-3d32-4a47-b74f-2571b04aa3c5"
      },
      "source": [
        "\n",
        "#  Supported criteria are “gini” for the Gini impurity and “entropy” for the information gain. \n",
        "clf = RandomForestClassifier(n_estimators=10000, random_state=0,criterion='gini', n_jobs=-1)\n",
        "\n",
        "# Train the classifier\n",
        "clf.fit(X_train, y_train)\n",
        "\n",
        "# Print the name and gini importance of each feature\n",
        "for feature in zip(feature_labels, clf.feature_importances_):\n",
        "    print(feature)"
      ],
      "execution_count": null,
      "outputs": [
        {
          "output_type": "stream",
          "text": [
            "/usr/local/lib/python3.6/dist-packages/ipykernel_launcher.py:6: DataConversionWarning: A column-vector y was passed when a 1d array was expected. Please change the shape of y to (n_samples,), for example using ravel().\n",
            "  \n"
          ],
          "name": "stderr"
        },
        {
          "output_type": "stream",
          "text": [
            "('FIPS', 0.5564545734240648)\n",
            "('Hospital.beds.1000.people', 0.0)\n",
            "('ICUs.1000.people', 0.0)\n",
            "('X..hospital.bed.utilization', 0.11437962824685657)\n",
            "('Testing.capacity', 0.04374082430257774)\n",
            "('Tests.done.1000.people', 0.13165942383332738)\n",
            "('X..ICU.utilization', 0.09272099431546503)\n",
            "('Ventilator.shortage', 0.06104455587770836)\n"
          ],
          "name": "stdout"
        }
      ]
    },
    {
      "cell_type": "markdown",
      "metadata": {
        "id": "_cuxjqayMh9z"
      },
      "source": [
        "## Feature Importance: Extra tree classifier"
      ]
    },
    {
      "cell_type": "code",
      "metadata": {
        "id": "4T0zEKOBMh9z"
      },
      "source": [
        "from sklearn.ensemble import ExtraTreesClassifier\n",
        "from sklearn.feature_selection import RFE"
      ],
      "execution_count": null,
      "outputs": []
    },
    {
      "cell_type": "code",
      "metadata": {
        "id": "Eug3kxemMh90"
      },
      "source": [
        "x_col_hospitalization_testing = ['Hospital.beds.1000.people',\n",
        "       'ICUs.1000.people', \n",
        "       'X..hospital.bed.utilization',\n",
        "       'Testing.capacity', 'Tests.done.1000.people', 'X..ICU.utilization',\n",
        "       'Ventilator.shortage','New cases','New.cases.1000.people'] #'X..contact.tracing.workers.1000.people',\n",
        "\n",
        "feature_labels = ['FIPS','Hospital.beds.1000.people',\n",
        "       'ICUs.1000.people', \n",
        "       'X..hospital.bed.utilization',\n",
        "       'Testing.capacity', 'Tests.done.1000.people', 'X..ICU.utilization',\n",
        "       'Ventilator.shortage']\n",
        "\n",
        "target_column = ['growth_code']\n",
        "\n",
        "X = CA_labeled_data[feature_labels]\n",
        "y = CA_labeled_data[target_column]\n",
        "\n",
        "X_train, X_test, y_train, y_test = train_test_split(X, y, test_size=0.4, random_state=0)"
      ],
      "execution_count": null,
      "outputs": []
    },
    {
      "cell_type": "code",
      "metadata": {
        "colab": {
          "base_uri": "https://localhost:8080/"
        },
        "id": "9ibDHy_dMh90",
        "outputId": "d2ef1e6c-cfb2-45a8-8400-b8e56ce91384"
      },
      "source": [
        "# Create a random forest classifier\r\n",
        "clf = RandomForestClassifier(n_estimators=10000, random_state=0, n_jobs=-1)\r\n",
        "\r\n",
        "# Train the classifier\r\n",
        "clf.fit(X_train, y_train)\r\n",
        "\r\n",
        "# Print the name and gini importance of each feature\r\n",
        "for feature in zip(feature_labels, clf.feature_importances_):\r\n",
        "    print(feature)\r\n",
        "\r\n",
        "\r\n",
        "#  Supported criteria are “gini” for the Gini impurity and “entropy” for the information gain. \r\n",
        "clf = RandomForestClassifier(n_estimators=10000, random_state=0,criterion='gini', n_jobs=-1)# Train the classifier\r\n",
        "clf.fit(X_train, y_train)\r\n",
        "# Print the name and gini importance of each feature\r\n",
        "for feature in zip(feature_labels, clf.feature_importances_):\r\n",
        "    print(feature)\r\n",
        "\r\n",
        "\r\n",
        "model = ExtraTreesClassifier()\r\n",
        "model.fit(X, y.values.ravel())\r\n",
        "# display the relative importance of each attribute\r\n",
        "#print(model.feature_importances_)\r\n",
        "\r\n",
        "\r\n",
        "# create the RFE model \r\n",
        "rfe = RFE(model, 3)\r\n",
        "rfe = rfe.fit(X, y.values.ravel())\r\n",
        "# summarize the selection of the attributes\r\n",
        "#print(rfe.support_)\r\n",
        "\r\n",
        "print(\"\\nFeatures with ranking:\\n\")\r\n",
        "for index in range(len(rfe.ranking_)):\r\n",
        "  print(feature_labels[index], rfe.ranking_[index])\r\n",
        "\r\n",
        "# for index in range(len(rfe.ranking_)):\r\n",
        "#   print( rfe.ranking_[index])\r\n",
        "#print(rfe.ranking_)\r\n",
        "#print(rfe.n_features_)\r\n",
        "#rfe.n_features_to_select"
      ],
      "execution_count": null,
      "outputs": [
        {
          "output_type": "stream",
          "text": [
            "/usr/local/lib/python3.6/dist-packages/ipykernel_launcher.py:5: DataConversionWarning: A column-vector y was passed when a 1d array was expected. Please change the shape of y to (n_samples,), for example using ravel().\n",
            "  \"\"\"\n"
          ],
          "name": "stderr"
        },
        {
          "output_type": "stream",
          "text": [
            "('FIPS', 0.5564545734240648)\n",
            "('Hospital.beds.1000.people', 0.0)\n",
            "('ICUs.1000.people', 0.0)\n",
            "('X..hospital.bed.utilization', 0.11437962824685657)\n",
            "('Testing.capacity', 0.04374082430257774)\n",
            "('Tests.done.1000.people', 0.13165942383332738)\n",
            "('X..ICU.utilization', 0.09272099431546503)\n",
            "('Ventilator.shortage', 0.06104455587770836)\n"
          ],
          "name": "stdout"
        },
        {
          "output_type": "stream",
          "text": [
            "/usr/local/lib/python3.6/dist-packages/ipykernel_launcher.py:14: DataConversionWarning: A column-vector y was passed when a 1d array was expected. Please change the shape of y to (n_samples,), for example using ravel().\n",
            "  \n"
          ],
          "name": "stderr"
        },
        {
          "output_type": "stream",
          "text": [
            "('FIPS', 0.5564545734240648)\n",
            "('Hospital.beds.1000.people', 0.0)\n",
            "('ICUs.1000.people', 0.0)\n",
            "('X..hospital.bed.utilization', 0.11437962824685657)\n",
            "('Testing.capacity', 0.04374082430257774)\n",
            "('Tests.done.1000.people', 0.13165942383332738)\n",
            "('X..ICU.utilization', 0.09272099431546503)\n",
            "('Ventilator.shortage', 0.06104455587770836)\n",
            "\n",
            "Features with ranking:\n",
            "\n",
            "FIPS 1\n",
            "Hospital.beds.1000.people 6\n",
            "ICUs.1000.people 5\n",
            "X..hospital.bed.utilization 1\n",
            "Testing.capacity 4\n",
            "Tests.done.1000.people 1\n",
            "X..ICU.utilization 2\n",
            "Ventilator.shortage 3\n"
          ],
          "name": "stdout"
        }
      ]
    },
    {
      "cell_type": "markdown",
      "metadata": {
        "id": "BmAoA1kTMj9-"
      },
      "source": [
        "# Mobility Group "
      ]
    },
    {
      "cell_type": "markdown",
      "metadata": {
        "id": "ijyIBcPBMj-A"
      },
      "source": [
        "## Feature Importance: Gini-Coefficient"
      ]
    },
    {
      "cell_type": "code",
      "metadata": {
        "colab": {
          "base_uri": "https://localhost:8080/"
        },
        "id": "T7nEFGEOMj-B",
        "outputId": "b72b1da1-0c7b-478e-daf4-90f0eb18b03e"
      },
      "source": [
        "CA_superset_data.columns"
      ],
      "execution_count": null,
      "outputs": [
        {
          "output_type": "execute_result",
          "data": {
            "text/plain": [
              "Index(['Date', 'Province_State', 'FIPS', 'New cases', 'County Name',\n",
              "       'mask_rule_severity', 'm50', 'm50_index',\n",
              "       'retail_and_recreation_percent_change_from_baseline',\n",
              "       'grocery_and_pharmacy_percent_change_from_baseline',\n",
              "       'parks_percent_change_from_baseline',\n",
              "       'transit_stations_percent_change_from_baseline',\n",
              "       'workplaces_percent_change_from_baseline',\n",
              "       'residential_percent_change_from_baseline', 'PopDensity', 'State_Name',\n",
              "       'State', 'CTFIPS', 'CTNAME', 'STFIPS', 'Social.distancing.index',\n",
              "       'X..staying.home', 'Trips.person', 'X..out.of.county.trips',\n",
              "       'X..out.of.state.trips', 'Miles.person', 'Work.trips.person',\n",
              "       'Non.work.trips.person', 'New.COVID.cases', 'Population',\n",
              "       'X..change.in.consumption', 'Transit.mode.share',\n",
              "       'X..people.older.than.60', 'Median.income', 'X..African.Americans',\n",
              "       'X..Hispanic.Americans', 'X..Male', 'Employment.density',\n",
              "       'X..hot.spots.1000.people', 'Hospital.beds.1000.people',\n",
              "       'ICUs.1000.people', 'X..contact.tracing.workers.1000.people',\n",
              "       'New.cases.1000.people', 'Active.cases.1000.people',\n",
              "       'X.days..decreasing.COVID.cases', 'X..hospital.bed.utilization',\n",
              "       'Testing.capacity', 'Tests.done.1000.people', 'X..ICU.utilization',\n",
              "       'Ventilator.shortage', 'Imported.COVID.cases',\n",
              "       'COVID.exposure.1000.people', 'X.days..decreasing.ILI.cases',\n",
              "       'Unemployment.claims.1000.people', 'Unemployment.rate',\n",
              "       'X..working.from.home', 'Cumulative.inflation.rate',\n",
              "       'COVID.death.rate'],\n",
              "      dtype='object')"
            ]
          },
          "metadata": {
            "tags": []
          },
          "execution_count": 80
        }
      ]
    },
    {
      "cell_type": "code",
      "metadata": {
        "id": "SPKxFYU-Mj-C"
      },
      "source": [
        "def gini(list_of_values):\r\n",
        "    sorted_list = sorted(list_of_values)\r\n",
        "    #print (sorted_list)\r\n",
        "    height, area = 0, 0\r\n",
        "    for value in sorted_list:\r\n",
        "        \r\n",
        "        height += value\r\n",
        "        area += height - value / 2.\r\n",
        "    \r\n",
        "    fair_area = height * len(list_of_values) / 2.\r\n",
        "    print(fair_area)\r\n",
        "    return (fair_area - area) / fair_area"
      ],
      "execution_count": null,
      "outputs": []
    },
    {
      "cell_type": "code",
      "metadata": {
        "id": "vwO04i9_Mj-D"
      },
      "source": [
        "x_col_mobility = ['retail_and_recreation_percent_change_from_baseline',\r\n",
        "       'grocery_and_pharmacy_percent_change_from_baseline','parks_percent_change_from_baseline',\r\n",
        "       'transit_stations_percent_change_from_baseline','workplaces_percent_change_from_baseline',\r\n",
        "       'residential_percent_change_from_baseline',\r\n",
        "       'X..staying.home', 'Trips.person', 'X..out.of.county.trips',\r\n",
        "       'X..out.of.state.trips', 'Miles.person', 'Work.trips.person',\r\n",
        "       'Non.work.trips.person','X..working.from.home','New cases','New.cases.1000.people']"
      ],
      "execution_count": null,
      "outputs": []
    },
    {
      "cell_type": "code",
      "metadata": {
        "colab": {
          "base_uri": "https://localhost:8080/"
        },
        "id": "Dr_GFgSfMj-E",
        "outputId": "295704ae-d557-406d-f155-c51822db1774"
      },
      "source": [
        "feature_cols= x_col_mobility\r\n",
        "\r\n",
        "gini_values = []\r\n",
        "for col in feature_cols:\r\n",
        "  #print(col)\r\n",
        "  dataset = CA_superset_data[col].values.tolist()\r\n",
        "  #print(dataset)\r\n",
        "  value = gini(dataset)\r\n",
        "  print('cols ',col,' - gini coeff is :',value)\r\n",
        "  gini_values.append(value)"
      ],
      "execution_count": null,
      "outputs": [
        {
          "output_type": "stream",
          "text": [
            "nan\n",
            "cols  retail_and_recreation_percent_change_from_baseline  - gini coeff is : nan\n",
            "nan\n",
            "cols  grocery_and_pharmacy_percent_change_from_baseline  - gini coeff is : nan\n",
            "nan\n",
            "cols  parks_percent_change_from_baseline  - gini coeff is : nan\n",
            "nan\n",
            "cols  transit_stations_percent_change_from_baseline  - gini coeff is : nan\n",
            "nan\n",
            "cols  workplaces_percent_change_from_baseline  - gini coeff is : nan\n",
            "nan\n",
            "cols  residential_percent_change_from_baseline  - gini coeff is : nan\n",
            "3185659962.0\n",
            "cols  X..staying.home  - gini coeff is : 0.1173911693215423\n",
            "357092208.7150005\n",
            "cols  Trips.person  - gini coeff is : 0.07230888148726836\n",
            "2776322465.0999947\n",
            "cols  X..out.of.county.trips  - gini coeff is : 0.24785794461926924\n",
            "204607954.00000012\n",
            "cols  X..out.of.state.trips  - gini coeff is : 0.7522604458475726\n",
            "4698066581.149977\n",
            "cols  Miles.person  - gini coeff is : 0.18458958295302125\n",
            "44415963.439996496\n",
            "cols  Work.trips.person  - gini coeff is : 0.1805772735479392\n",
            "312679323.47500366\n",
            "cols  Non.work.trips.person  - gini coeff is : 0.07466161452747519\n",
            "4186343534.949507\n",
            "cols  X..working.from.home  - gini coeff is : 0.08548800988546724\n",
            "14339402229.5\n",
            "cols  New cases  - gini coeff is : 0.8685321834670556\n",
            "16852079.173250053\n",
            "cols  New.cases.1000.people  - gini coeff is : 0.680904683056212\n"
          ],
          "name": "stdout"
        }
      ]
    },
    {
      "cell_type": "markdown",
      "metadata": {
        "id": "IB-lzqplMj-F"
      },
      "source": [
        "## Feature Importance: Random Forest classifier(Gini Score)"
      ]
    },
    {
      "cell_type": "code",
      "metadata": {
        "colab": {
          "base_uri": "https://localhost:8080/"
        },
        "id": "S5sXHyefMj-G",
        "outputId": "02d8af1a-1011-43b3-8007-f358b6c94162"
      },
      "source": [
        "CA_labeled_data.columns"
      ],
      "execution_count": null,
      "outputs": [
        {
          "output_type": "execute_result",
          "data": {
            "text/plain": [
              "Index(['Date', 'Province_State', 'FIPS', 'New cases', 'County Name',\n",
              "       'mask_rule_severity', 'm50', 'm50_index',\n",
              "       'retail_and_recreation_percent_change_from_baseline',\n",
              "       'grocery_and_pharmacy_percent_change_from_baseline',\n",
              "       'parks_percent_change_from_baseline',\n",
              "       'transit_stations_percent_change_from_baseline',\n",
              "       'workplaces_percent_change_from_baseline',\n",
              "       'residential_percent_change_from_baseline', 'PopDensity', 'State_Name',\n",
              "       'State', 'CTFIPS', 'CTNAME', 'STFIPS', 'Social.distancing.index',\n",
              "       'X..staying.home', 'Trips.person', 'X..out.of.county.trips',\n",
              "       'X..out.of.state.trips', 'Miles.person', 'Work.trips.person',\n",
              "       'Non.work.trips.person', 'New.COVID.cases', 'Population',\n",
              "       'X..change.in.consumption', 'Transit.mode.share',\n",
              "       'X..people.older.than.60', 'Median.income', 'X..African.Americans',\n",
              "       'X..Hispanic.Americans', 'X..Male', 'Employment.density',\n",
              "       'X..hot.spots.1000.people', 'Hospital.beds.1000.people',\n",
              "       'ICUs.1000.people', 'X..contact.tracing.workers.1000.people',\n",
              "       'New.cases.1000.people', 'Active.cases.1000.people',\n",
              "       'X.days..decreasing.COVID.cases', 'X..hospital.bed.utilization',\n",
              "       'Testing.capacity', 'Tests.done.1000.people', 'X..ICU.utilization',\n",
              "       'Ventilator.shortage', 'Imported.COVID.cases',\n",
              "       'COVID.exposure.1000.people', 'X.days..decreasing.ILI.cases',\n",
              "       'Unemployment.claims.1000.people', 'Unemployment.rate',\n",
              "       'X..working.from.home', 'Cumulative.inflation.rate', 'COVID.death.rate',\n",
              "       'New cases/100k', 'positivity_rate', 'rolling_avg_new_cases/100k',\n",
              "       'growth_label', 'growth_code'],\n",
              "      dtype='object')"
            ]
          },
          "metadata": {
            "tags": []
          },
          "execution_count": 84
        }
      ]
    },
    {
      "cell_type": "code",
      "metadata": {
        "colab": {
          "base_uri": "https://localhost:8080/"
        },
        "id": "Mb47-440Mj-H",
        "outputId": "87567f88-ab7d-48fe-8f18-8d83fa261a9b"
      },
      "source": [
        "CA_labeled_data['growth_code'] = CA_labeled_data['growth_label'].astype('category').cat.codes\r\n",
        "\r\n",
        "CA_labeled_data.head(2)"
      ],
      "execution_count": null,
      "outputs": [
        {
          "output_type": "execute_result",
          "data": {
            "text/html": [
              "<div>\n",
              "<style scoped>\n",
              "    .dataframe tbody tr th:only-of-type {\n",
              "        vertical-align: middle;\n",
              "    }\n",
              "\n",
              "    .dataframe tbody tr th {\n",
              "        vertical-align: top;\n",
              "    }\n",
              "\n",
              "    .dataframe thead th {\n",
              "        text-align: right;\n",
              "    }\n",
              "</style>\n",
              "<table border=\"1\" class=\"dataframe\">\n",
              "  <thead>\n",
              "    <tr style=\"text-align: right;\">\n",
              "      <th></th>\n",
              "      <th>Date</th>\n",
              "      <th>Province_State</th>\n",
              "      <th>FIPS</th>\n",
              "      <th>New cases</th>\n",
              "      <th>County Name</th>\n",
              "      <th>mask_rule_severity</th>\n",
              "      <th>m50</th>\n",
              "      <th>m50_index</th>\n",
              "      <th>retail_and_recreation_percent_change_from_baseline</th>\n",
              "      <th>grocery_and_pharmacy_percent_change_from_baseline</th>\n",
              "      <th>parks_percent_change_from_baseline</th>\n",
              "      <th>transit_stations_percent_change_from_baseline</th>\n",
              "      <th>workplaces_percent_change_from_baseline</th>\n",
              "      <th>residential_percent_change_from_baseline</th>\n",
              "      <th>PopDensity</th>\n",
              "      <th>State_Name</th>\n",
              "      <th>State</th>\n",
              "      <th>CTFIPS</th>\n",
              "      <th>CTNAME</th>\n",
              "      <th>STFIPS</th>\n",
              "      <th>Social.distancing.index</th>\n",
              "      <th>X..staying.home</th>\n",
              "      <th>Trips.person</th>\n",
              "      <th>X..out.of.county.trips</th>\n",
              "      <th>X..out.of.state.trips</th>\n",
              "      <th>Miles.person</th>\n",
              "      <th>Work.trips.person</th>\n",
              "      <th>Non.work.trips.person</th>\n",
              "      <th>New.COVID.cases</th>\n",
              "      <th>Population</th>\n",
              "      <th>X..change.in.consumption</th>\n",
              "      <th>Transit.mode.share</th>\n",
              "      <th>X..people.older.than.60</th>\n",
              "      <th>Median.income</th>\n",
              "      <th>X..African.Americans</th>\n",
              "      <th>X..Hispanic.Americans</th>\n",
              "      <th>X..Male</th>\n",
              "      <th>Employment.density</th>\n",
              "      <th>X..hot.spots.1000.people</th>\n",
              "      <th>Hospital.beds.1000.people</th>\n",
              "      <th>ICUs.1000.people</th>\n",
              "      <th>X..contact.tracing.workers.1000.people</th>\n",
              "      <th>New.cases.1000.people</th>\n",
              "      <th>Active.cases.1000.people</th>\n",
              "      <th>X.days..decreasing.COVID.cases</th>\n",
              "      <th>X..hospital.bed.utilization</th>\n",
              "      <th>Testing.capacity</th>\n",
              "      <th>Tests.done.1000.people</th>\n",
              "      <th>X..ICU.utilization</th>\n",
              "      <th>Ventilator.shortage</th>\n",
              "      <th>Imported.COVID.cases</th>\n",
              "      <th>COVID.exposure.1000.people</th>\n",
              "      <th>X.days..decreasing.ILI.cases</th>\n",
              "      <th>Unemployment.claims.1000.people</th>\n",
              "      <th>Unemployment.rate</th>\n",
              "      <th>X..working.from.home</th>\n",
              "      <th>Cumulative.inflation.rate</th>\n",
              "      <th>COVID.death.rate</th>\n",
              "      <th>New cases/100k</th>\n",
              "      <th>positivity_rate</th>\n",
              "      <th>rolling_avg_new_cases/100k</th>\n",
              "      <th>growth_label</th>\n",
              "      <th>growth_code</th>\n",
              "    </tr>\n",
              "  </thead>\n",
              "  <tbody>\n",
              "    <tr>\n",
              "      <th>0</th>\n",
              "      <td>2020-03-01</td>\n",
              "      <td>California</td>\n",
              "      <td>6001</td>\n",
              "      <td>0</td>\n",
              "      <td>Alameda County</td>\n",
              "      <td>0.0</td>\n",
              "      <td>3.684</td>\n",
              "      <td>58</td>\n",
              "      <td>6.0</td>\n",
              "      <td>9.0</td>\n",
              "      <td>15.0</td>\n",
              "      <td>1.0</td>\n",
              "      <td>4.0</td>\n",
              "      <td>0.0</td>\n",
              "      <td>860.757075</td>\n",
              "      <td>California</td>\n",
              "      <td>CA</td>\n",
              "      <td>6001</td>\n",
              "      <td>Alameda County</td>\n",
              "      <td>6</td>\n",
              "      <td>37</td>\n",
              "      <td>26</td>\n",
              "      <td>2.93</td>\n",
              "      <td>25.4</td>\n",
              "      <td>0.4</td>\n",
              "      <td>36.8</td>\n",
              "      <td>0.25</td>\n",
              "      <td>2.68</td>\n",
              "      <td>0</td>\n",
              "      <td>1666753</td>\n",
              "      <td>-5.1</td>\n",
              "      <td>15.04</td>\n",
              "      <td>19</td>\n",
              "      <td>92574</td>\n",
              "      <td>10.5</td>\n",
              "      <td>22.5</td>\n",
              "      <td>49.11</td>\n",
              "      <td>1155</td>\n",
              "      <td>131</td>\n",
              "      <td>2.05</td>\n",
              "      <td>0.22</td>\n",
              "      <td>0.0</td>\n",
              "      <td>0.0</td>\n",
              "      <td>0.0</td>\n",
              "      <td>37</td>\n",
              "      <td>54.0</td>\n",
              "      <td>0.0</td>\n",
              "      <td>0.0</td>\n",
              "      <td>0.0</td>\n",
              "      <td>0</td>\n",
              "      <td>0</td>\n",
              "      <td>0.05</td>\n",
              "      <td>35</td>\n",
              "      <td>1.1</td>\n",
              "      <td>5.3</td>\n",
              "      <td>5.7</td>\n",
              "      <td>0.6</td>\n",
              "      <td>0.0</td>\n",
              "      <td>0.0</td>\n",
              "      <td>0.0</td>\n",
              "      <td>0.0</td>\n",
              "      <td>minimal</td>\n",
              "      <td>0</td>\n",
              "    </tr>\n",
              "    <tr>\n",
              "      <th>1</th>\n",
              "      <td>2020-03-02</td>\n",
              "      <td>California</td>\n",
              "      <td>6001</td>\n",
              "      <td>0</td>\n",
              "      <td>Alameda County</td>\n",
              "      <td>0.0</td>\n",
              "      <td>6.182</td>\n",
              "      <td>98</td>\n",
              "      <td>4.0</td>\n",
              "      <td>7.0</td>\n",
              "      <td>7.0</td>\n",
              "      <td>-1.0</td>\n",
              "      <td>3.0</td>\n",
              "      <td>0.0</td>\n",
              "      <td>860.757075</td>\n",
              "      <td>California</td>\n",
              "      <td>CA</td>\n",
              "      <td>6001</td>\n",
              "      <td>Alameda County</td>\n",
              "      <td>6</td>\n",
              "      <td>17</td>\n",
              "      <td>20</td>\n",
              "      <td>3.38</td>\n",
              "      <td>28.2</td>\n",
              "      <td>0.4</td>\n",
              "      <td>38.1</td>\n",
              "      <td>0.63</td>\n",
              "      <td>2.74</td>\n",
              "      <td>0</td>\n",
              "      <td>1666753</td>\n",
              "      <td>-2.9</td>\n",
              "      <td>15.04</td>\n",
              "      <td>19</td>\n",
              "      <td>92574</td>\n",
              "      <td>10.5</td>\n",
              "      <td>22.5</td>\n",
              "      <td>49.11</td>\n",
              "      <td>1155</td>\n",
              "      <td>131</td>\n",
              "      <td>2.05</td>\n",
              "      <td>0.22</td>\n",
              "      <td>0.0</td>\n",
              "      <td>0.0</td>\n",
              "      <td>0.0</td>\n",
              "      <td>38</td>\n",
              "      <td>54.0</td>\n",
              "      <td>0.0</td>\n",
              "      <td>0.0</td>\n",
              "      <td>0.0</td>\n",
              "      <td>0</td>\n",
              "      <td>0</td>\n",
              "      <td>0.05</td>\n",
              "      <td>35</td>\n",
              "      <td>1.1</td>\n",
              "      <td>5.3</td>\n",
              "      <td>5.7</td>\n",
              "      <td>0.6</td>\n",
              "      <td>0.0</td>\n",
              "      <td>0.0</td>\n",
              "      <td>0.0</td>\n",
              "      <td>0.0</td>\n",
              "      <td>minimal</td>\n",
              "      <td>0</td>\n",
              "    </tr>\n",
              "  </tbody>\n",
              "</table>\n",
              "</div>"
            ],
            "text/plain": [
              "         Date Province_State  ...  growth_label  growth_code\n",
              "0  2020-03-01     California  ...       minimal            0\n",
              "1  2020-03-02     California  ...       minimal            0\n",
              "\n",
              "[2 rows x 63 columns]"
            ]
          },
          "metadata": {
            "tags": []
          },
          "execution_count": 85
        }
      ]
    },
    {
      "cell_type": "code",
      "metadata": {
        "id": "72a2rm-6Mj-I"
      },
      "source": [
        "x_col_mobility = ['retail_and_recreation_percent_change_from_baseline',\n",
        "       'grocery_and_pharmacy_percent_change_from_baseline','parks_percent_change_from_baseline',\n",
        "       'transit_stations_percent_change_from_baseline','workplaces_percent_change_from_baseline',\n",
        "       'residential_percent_change_from_baseline',\n",
        "       'X..staying.home', 'Trips.person', 'X..out.of.county.trips',\n",
        "       'X..out.of.state.trips', 'Miles.person', 'Work.trips.person',\n",
        "       'Non.work.trips.person','X..working.from.home','New cases','New.cases.1000.people']\n",
        "\n",
        "feature_labels = ['FIPS','retail_and_recreation_percent_change_from_baseline',\n",
        "       'grocery_and_pharmacy_percent_change_from_baseline','parks_percent_change_from_baseline',\n",
        "       'transit_stations_percent_change_from_baseline','workplaces_percent_change_from_baseline',\n",
        "       'residential_percent_change_from_baseline',\n",
        "       'X..staying.home', 'Trips.person', 'X..out.of.county.trips',\n",
        "       'X..out.of.state.trips', 'Miles.person', 'Work.trips.person',\n",
        "       'Non.work.trips.person','X..working.from.home']\n",
        "\n",
        "target_column = ['growth_code']\n",
        "\n",
        "X = CA_labeled_data[feature_labels]\n",
        "y = CA_labeled_data[target_column]\n",
        "\n",
        "X_train, X_test, y_train, y_test = train_test_split(X, y, test_size=0.4, random_state=0)\n"
      ],
      "execution_count": null,
      "outputs": []
    },
    {
      "cell_type": "code",
      "metadata": {
        "colab": {
          "base_uri": "https://localhost:8080/"
        },
        "id": "JpSdCthZMj-J",
        "outputId": "b15dca2c-fed7-4c2f-ddf8-52571d95df5c"
      },
      "source": [
        "# Create a random forest classifier\n",
        "clf = RandomForestClassifier(n_estimators=10000, random_state=0, n_jobs=-1)\n",
        "\n",
        "# Train the classifier\n",
        "clf.fit(X_train, y_train)\n",
        "\n",
        "# Print the name and gini importance of each feature\n",
        "for feature in zip(feature_labels, clf.feature_importances_):\n",
        "    print(feature)"
      ],
      "execution_count": null,
      "outputs": [
        {
          "output_type": "stream",
          "text": [
            "/usr/local/lib/python3.6/dist-packages/ipykernel_launcher.py:5: DataConversionWarning: A column-vector y was passed when a 1d array was expected. Please change the shape of y to (n_samples,), for example using ravel().\n",
            "  \"\"\"\n"
          ],
          "name": "stderr"
        },
        {
          "output_type": "stream",
          "text": [
            "('FIPS', 0.05017484916482331)\n",
            "('retail_and_recreation_percent_change_from_baseline', 0.07234835764825823)\n",
            "('grocery_and_pharmacy_percent_change_from_baseline', 0.0654454699185266)\n",
            "('parks_percent_change_from_baseline', 0.07412945852462671)\n",
            "('transit_stations_percent_change_from_baseline', 0.06350954617078809)\n",
            "('workplaces_percent_change_from_baseline', 0.059527588756943736)\n",
            "('residential_percent_change_from_baseline', 0.047259678500213086)\n",
            "('X..staying.home', 0.04261355860939692)\n",
            "('Trips.person', 0.0508649018718169)\n",
            "('X..out.of.county.trips', 0.06458724363074085)\n",
            "('X..out.of.state.trips', 0.04865995031054884)\n",
            "('Miles.person', 0.08490202275333326)\n",
            "('Work.trips.person', 0.0528962943046745)\n",
            "('Non.work.trips.person', 0.04947413031391449)\n",
            "('X..working.from.home', 0.17360694952139463)\n"
          ],
          "name": "stdout"
        }
      ]
    },
    {
      "cell_type": "code",
      "metadata": {
        "colab": {
          "base_uri": "https://localhost:8080/"
        },
        "id": "0yGzPNlJMj-K",
        "outputId": "bfa82f5b-525f-45f3-df1b-fffe4d28dd34"
      },
      "source": [
        "\n",
        "#  Supported criteria are “gini” for the Gini impurity and “entropy” for the information gain. \n",
        "clf = RandomForestClassifier(n_estimators=10000, random_state=0,criterion='gini', n_jobs=-1)\n",
        "\n",
        "# Train the classifier\n",
        "clf.fit(X_train, y_train)\n",
        "\n",
        "# Print the name and gini importance of each feature\n",
        "for feature in zip(feature_labels, clf.feature_importances_):\n",
        "    print(feature)"
      ],
      "execution_count": null,
      "outputs": [
        {
          "output_type": "stream",
          "text": [
            "/usr/local/lib/python3.6/dist-packages/ipykernel_launcher.py:6: DataConversionWarning: A column-vector y was passed when a 1d array was expected. Please change the shape of y to (n_samples,), for example using ravel().\n",
            "  \n"
          ],
          "name": "stderr"
        },
        {
          "output_type": "stream",
          "text": [
            "('FIPS', 0.05017484916482331)\n",
            "('retail_and_recreation_percent_change_from_baseline', 0.07234835764825823)\n",
            "('grocery_and_pharmacy_percent_change_from_baseline', 0.0654454699185266)\n",
            "('parks_percent_change_from_baseline', 0.07412945852462671)\n",
            "('transit_stations_percent_change_from_baseline', 0.06350954617078809)\n",
            "('workplaces_percent_change_from_baseline', 0.059527588756943736)\n",
            "('residential_percent_change_from_baseline', 0.047259678500213086)\n",
            "('X..staying.home', 0.04261355860939692)\n",
            "('Trips.person', 0.0508649018718169)\n",
            "('X..out.of.county.trips', 0.06458724363074085)\n",
            "('X..out.of.state.trips', 0.04865995031054884)\n",
            "('Miles.person', 0.08490202275333326)\n",
            "('Work.trips.person', 0.0528962943046745)\n",
            "('Non.work.trips.person', 0.04947413031391449)\n",
            "('X..working.from.home', 0.17360694952139463)\n"
          ],
          "name": "stdout"
        }
      ]
    },
    {
      "cell_type": "markdown",
      "metadata": {
        "id": "flH4CBCgMj-M"
      },
      "source": [
        "## Feature Importance: Extra tree classifier"
      ]
    },
    {
      "cell_type": "code",
      "metadata": {
        "id": "i4x9sW7MMj-N"
      },
      "source": [
        "from sklearn.ensemble import ExtraTreesClassifier\n",
        "from sklearn.feature_selection import RFE"
      ],
      "execution_count": null,
      "outputs": []
    },
    {
      "cell_type": "code",
      "metadata": {
        "id": "sakQRnNgMj-N"
      },
      "source": [
        "x_col_mobility = ['retail_and_recreation_percent_change_from_baseline',\n",
        "       'grocery_and_pharmacy_percent_change_from_baseline','parks_percent_change_from_baseline',\n",
        "       'transit_stations_percent_change_from_baseline','workplaces_percent_change_from_baseline',\n",
        "       'residential_percent_change_from_baseline',\n",
        "       'X..staying.home', 'Trips.person', 'X..out.of.county.trips',\n",
        "       'X..out.of.state.trips', 'Miles.person', 'Work.trips.person',\n",
        "       'Non.work.trips.person','X..working.from.home','New cases','New.cases.1000.people']\n",
        "\n",
        "feature_labels = ['FIPS','retail_and_recreation_percent_change_from_baseline',\n",
        "       'grocery_and_pharmacy_percent_change_from_baseline','parks_percent_change_from_baseline',\n",
        "       'transit_stations_percent_change_from_baseline','workplaces_percent_change_from_baseline',\n",
        "       'residential_percent_change_from_baseline',\n",
        "       'X..staying.home', 'Trips.person', 'X..out.of.county.trips',\n",
        "       'X..out.of.state.trips', 'Miles.person', 'Work.trips.person',\n",
        "       'Non.work.trips.person','X..working.from.home']\n",
        "\n",
        "target_column = ['growth_code']\n",
        "\n",
        "X = CA_labeled_data[feature_labels]\n",
        "y = CA_labeled_data[target_column]\n",
        "\n",
        "X_train, X_test, y_train, y_test = train_test_split(X, y, test_size=0.4, random_state=0)"
      ],
      "execution_count": null,
      "outputs": []
    },
    {
      "cell_type": "code",
      "metadata": {
        "colab": {
          "base_uri": "https://localhost:8080/"
        },
        "id": "ZF3EbULTMj-O",
        "outputId": "6b9f9753-5459-4a0c-cb27-7cc7b2f5b2d0"
      },
      "source": [
        "# Create a random forest classifier\r\n",
        "clf = RandomForestClassifier(n_estimators=10000, random_state=0, n_jobs=-1)\r\n",
        "\r\n",
        "# Train the classifier\r\n",
        "clf.fit(X_train, y_train)\r\n",
        "\r\n",
        "# Print the name and gini importance of each feature\r\n",
        "for feature in zip(feature_labels, clf.feature_importances_):\r\n",
        "    print(feature)\r\n",
        "\r\n",
        "\r\n",
        "#  Supported criteria are “gini” for the Gini impurity and “entropy” for the information gain. \r\n",
        "clf = RandomForestClassifier(n_estimators=10000, random_state=0,criterion='gini', n_jobs=-1)# Train the classifier\r\n",
        "clf.fit(X_train, y_train)\r\n",
        "# Print the name and gini importance of each feature\r\n",
        "for feature in zip(feature_labels, clf.feature_importances_):\r\n",
        "    print(feature)\r\n",
        "\r\n",
        "\r\n",
        "model = ExtraTreesClassifier()\r\n",
        "model.fit(X, y.values.ravel())\r\n",
        "# display the relative importance of each attribute\r\n",
        "#print(model.feature_importances_)\r\n",
        "\r\n",
        "\r\n",
        "# create the RFE model \r\n",
        "rfe = RFE(model, 3)\r\n",
        "rfe = rfe.fit(X, y.values.ravel())\r\n",
        "# summarize the selection of the attributes\r\n",
        "#print(rfe.support_)\r\n",
        "\r\n",
        "print(\"\\nFeatures with ranking:\\n\")\r\n",
        "for index in range(len(rfe.ranking_)):\r\n",
        "  print(feature_labels[index], rfe.ranking_[index])\r\n",
        "\r\n",
        "# for index in range(len(rfe.ranking_)):\r\n",
        "#   print( rfe.ranking_[index])\r\n",
        "#print(rfe.ranking_)\r\n",
        "#print(rfe.n_features_)\r\n",
        "#rfe.n_features_to_select"
      ],
      "execution_count": null,
      "outputs": [
        {
          "output_type": "stream",
          "text": [
            "/usr/local/lib/python3.6/dist-packages/ipykernel_launcher.py:5: DataConversionWarning: A column-vector y was passed when a 1d array was expected. Please change the shape of y to (n_samples,), for example using ravel().\n",
            "  \"\"\"\n"
          ],
          "name": "stderr"
        },
        {
          "output_type": "stream",
          "text": [
            "('FIPS', 0.05017484916482331)\n",
            "('retail_and_recreation_percent_change_from_baseline', 0.07234835764825823)\n",
            "('grocery_and_pharmacy_percent_change_from_baseline', 0.0654454699185266)\n",
            "('parks_percent_change_from_baseline', 0.07412945852462671)\n",
            "('transit_stations_percent_change_from_baseline', 0.06350954617078809)\n",
            "('workplaces_percent_change_from_baseline', 0.059527588756943736)\n",
            "('residential_percent_change_from_baseline', 0.047259678500213086)\n",
            "('X..staying.home', 0.04261355860939692)\n",
            "('Trips.person', 0.0508649018718169)\n",
            "('X..out.of.county.trips', 0.06458724363074085)\n",
            "('X..out.of.state.trips', 0.04865995031054884)\n",
            "('Miles.person', 0.08490202275333326)\n",
            "('Work.trips.person', 0.0528962943046745)\n",
            "('Non.work.trips.person', 0.04947413031391449)\n",
            "('X..working.from.home', 0.17360694952139463)\n"
          ],
          "name": "stdout"
        },
        {
          "output_type": "stream",
          "text": [
            "/usr/local/lib/python3.6/dist-packages/ipykernel_launcher.py:14: DataConversionWarning: A column-vector y was passed when a 1d array was expected. Please change the shape of y to (n_samples,), for example using ravel().\n",
            "  \n"
          ],
          "name": "stderr"
        },
        {
          "output_type": "stream",
          "text": [
            "('FIPS', 0.05017484916482331)\n",
            "('retail_and_recreation_percent_change_from_baseline', 0.07234835764825823)\n",
            "('grocery_and_pharmacy_percent_change_from_baseline', 0.0654454699185266)\n",
            "('parks_percent_change_from_baseline', 0.07412945852462671)\n",
            "('transit_stations_percent_change_from_baseline', 0.06350954617078809)\n",
            "('workplaces_percent_change_from_baseline', 0.059527588756943736)\n",
            "('residential_percent_change_from_baseline', 0.047259678500213086)\n",
            "('X..staying.home', 0.04261355860939692)\n",
            "('Trips.person', 0.0508649018718169)\n",
            "('X..out.of.county.trips', 0.06458724363074085)\n",
            "('X..out.of.state.trips', 0.04865995031054884)\n",
            "('Miles.person', 0.08490202275333326)\n",
            "('Work.trips.person', 0.0528962943046745)\n",
            "('Non.work.trips.person', 0.04947413031391449)\n",
            "('X..working.from.home', 0.17360694952139463)\n",
            "\n",
            "Features with ranking:\n",
            "\n",
            "FIPS 6\n",
            "retail_and_recreation_percent_change_from_baseline 2\n",
            "grocery_and_pharmacy_percent_change_from_baseline 7\n",
            "parks_percent_change_from_baseline 3\n",
            "transit_stations_percent_change_from_baseline 5\n",
            "workplaces_percent_change_from_baseline 4\n",
            "residential_percent_change_from_baseline 9\n",
            "X..staying.home 11\n",
            "Trips.person 13\n",
            "X..out.of.county.trips 1\n",
            "X..out.of.state.trips 8\n",
            "Miles.person 1\n",
            "Work.trips.person 10\n",
            "Non.work.trips.person 12\n",
            "X..working.from.home 1\n"
          ],
          "name": "stdout"
        }
      ]
    },
    {
      "cell_type": "markdown",
      "metadata": {
        "id": "mqW72STIJJuI"
      },
      "source": [
        "# All Groups Together "
      ]
    },
    {
      "cell_type": "markdown",
      "metadata": {
        "id": "VP8fYEhiJJuW"
      },
      "source": [
        "## Feature Importance: Gini-Coefficient"
      ]
    },
    {
      "cell_type": "code",
      "metadata": {
        "colab": {
          "base_uri": "https://localhost:8080/"
        },
        "id": "KrsH5Q3qJJuY",
        "outputId": "91311199-826f-42f5-e63d-d99bb8bbf1a1"
      },
      "source": [
        "CA_superset_data.columns"
      ],
      "execution_count": 37,
      "outputs": [
        {
          "output_type": "execute_result",
          "data": {
            "text/plain": [
              "Index(['Date', 'Province_State', 'FIPS', 'New cases', 'County Name',\n",
              "       'mask_rule_severity', 'm50', 'm50_index',\n",
              "       'retail_and_recreation_percent_change_from_baseline',\n",
              "       'grocery_and_pharmacy_percent_change_from_baseline',\n",
              "       'parks_percent_change_from_baseline',\n",
              "       'transit_stations_percent_change_from_baseline',\n",
              "       'workplaces_percent_change_from_baseline',\n",
              "       'residential_percent_change_from_baseline', 'PopDensity', 'State_Name',\n",
              "       'State', 'CTFIPS', 'CTNAME', 'STFIPS', 'Social.distancing.index',\n",
              "       'X..staying.home', 'Trips.person', 'X..out.of.county.trips',\n",
              "       'X..out.of.state.trips', 'Miles.person', 'Work.trips.person',\n",
              "       'Non.work.trips.person', 'New.COVID.cases', 'Population',\n",
              "       'X..change.in.consumption', 'Transit.mode.share',\n",
              "       'X..people.older.than.60', 'Median.income', 'X..African.Americans',\n",
              "       'X..Hispanic.Americans', 'X..Male', 'Employment.density',\n",
              "       'X..hot.spots.1000.people', 'Hospital.beds.1000.people',\n",
              "       'ICUs.1000.people', 'X..contact.tracing.workers.1000.people',\n",
              "       'New.cases.1000.people', 'Active.cases.1000.people',\n",
              "       'X.days..decreasing.COVID.cases', 'X..hospital.bed.utilization',\n",
              "       'Testing.capacity', 'Tests.done.1000.people', 'X..ICU.utilization',\n",
              "       'Ventilator.shortage', 'Imported.COVID.cases',\n",
              "       'COVID.exposure.1000.people', 'X.days..decreasing.ILI.cases',\n",
              "       'Unemployment.claims.1000.people', 'Unemployment.rate',\n",
              "       'X..working.from.home', 'Cumulative.inflation.rate',\n",
              "       'COVID.death.rate'],\n",
              "      dtype='object')"
            ]
          },
          "metadata": {
            "tags": []
          },
          "execution_count": 37
        }
      ]
    },
    {
      "cell_type": "code",
      "metadata": {
        "id": "3oF1HxBFJJuc"
      },
      "source": [
        "def gini(list_of_values):\r\n",
        "    sorted_list = sorted(list_of_values)\r\n",
        "    #print (sorted_list)\r\n",
        "    height, area = 0, 0\r\n",
        "    for value in sorted_list:\r\n",
        "        \r\n",
        "        height += value\r\n",
        "        area += height - value / 2.\r\n",
        "    \r\n",
        "    fair_area = height * len(list_of_values) / 2.\r\n",
        "    print(fair_area)\r\n",
        "    return (fair_area - area) / fair_area"
      ],
      "execution_count": 38,
      "outputs": []
    },
    {
      "cell_type": "code",
      "metadata": {
        "id": "bCJu6L_QJJue"
      },
      "source": [
        "x_col_all = ['FIPS','mask_rule_severity','m50_index','retail_and_recreation_percent_change_from_baseline',\r\n",
        "                'grocery_and_pharmacy_percent_change_from_baseline','parks_percent_change_from_baseline',\r\n",
        "                'transit_stations_percent_change_from_baseline','workplaces_percent_change_from_baseline',\r\n",
        "                'residential_percent_change_from_baseline','PopDensity','Social.distancing.index',\r\n",
        "                'X..staying.home','Trips.person','X..out.of.county.trips',\t'X..out.of.state.trips',\r\n",
        "                'Miles.person',\t'Work.trips.person','Non.work.trips.person','X..change.in.consumption',\r\n",
        "                'Transit.mode.share','X..people.older.than.60',\t'Median.income',\t'X..African.Americans',\r\n",
        "                'X..Hispanic.Americans',\t'X..Male','Employment.density',\t'X..hot.spots.1000.people',\r\n",
        "                'Hospital.beds.1000.people',\t'ICUs.1000.people',\r\n",
        "                'New.cases.1000.people',\t'Active.cases.1000.people',\t'X.days..decreasing.COVID.cases',\r\n",
        "                'X..hospital.bed.utilization',\t'Testing.capacity',\t'Tests.done.1000.people',\t'X..ICU.utilization',\r\n",
        "                'Ventilator.shortage',\t'Imported.COVID.cases',\t'COVID.exposure.1000.people',\t'X.days..decreasing.ILI.cases',\r\n",
        "                'Unemployment.claims.1000.people',\t'Unemployment.rate',\t'X..working.from.home',\r\n",
        "                'Cumulative.inflation.rate'\t,'COVID.death.rate']"
      ],
      "execution_count": 39,
      "outputs": []
    },
    {
      "cell_type": "code",
      "metadata": {
        "colab": {
          "base_uri": "https://localhost:8080/"
        },
        "id": "pxB-uR78JJuf",
        "outputId": "3ef79600-a74f-4255-b421-3769f64f4cac"
      },
      "source": [
        "feature_cols= x_col_all\r\n",
        "\r\n",
        "gini_values = []\r\n",
        "for col in feature_cols:\r\n",
        "  #print(col)\r\n",
        "  dataset = CA_superset_data[col].values.tolist()\r\n",
        "  #print(dataset)\r\n",
        "  value = gini(dataset)\r\n",
        "  print('cols ',col,' - gini coeff is :',value)\r\n",
        "  gini_values.append(value)"
      ],
      "execution_count": 40,
      "outputs": [
        {
          "output_type": "stream",
          "text": [
            "717532829521.5\n",
            "cols  FIPS  - gini coeff is : 0.0031471682814930156\n",
            "745540040.0\n",
            "cols  mask_rule_severity  - gini coeff is : 0.37054122539146256\n",
            "5624456258.0\n",
            "cols  m50_index  - gini coeff is : 0.41370009104264954\n",
            "nan\n",
            "cols  retail_and_recreation_percent_change_from_baseline  - gini coeff is : nan\n",
            "nan\n",
            "cols  grocery_and_pharmacy_percent_change_from_baseline  - gini coeff is : nan\n",
            "nan\n",
            "cols  parks_percent_change_from_baseline  - gini coeff is : nan\n",
            "nan\n",
            "cols  transit_stations_percent_change_from_baseline  - gini coeff is : nan\n",
            "nan\n",
            "cols  workplaces_percent_change_from_baseline  - gini coeff is : nan\n",
            "nan\n",
            "cols  residential_percent_change_from_baseline  - gini coeff is : nan\n",
            "35575489453.94788\n",
            "cols  PopDensity  - gini coeff is : 0.8156637311902494\n",
            "4389836411.0\n",
            "cols  Social.distancing.index  - gini coeff is : 0.18524526015646098\n",
            "3185659962.0\n",
            "cols  X..staying.home  - gini coeff is : 0.1173911693215423\n",
            "357092208.7150005\n",
            "cols  Trips.person  - gini coeff is : 0.07230888148726836\n",
            "2776322465.0999947\n",
            "cols  X..out.of.county.trips  - gini coeff is : 0.24785794461926924\n",
            "204607954.00000012\n",
            "cols  X..out.of.state.trips  - gini coeff is : 0.7522604458475726\n",
            "4698066581.149977\n",
            "cols  Miles.person  - gini coeff is : 0.18458958295302125\n",
            "44415963.439996496\n",
            "cols  Work.trips.person  - gini coeff is : 0.1805772735479392\n",
            "312679323.47500366\n",
            "cols  Non.work.trips.person  - gini coeff is : 0.07466161452747519\n",
            "-841930025.2499888\n",
            "cols  X..change.in.consumption  - gini coeff is : -0.939130643149599\n",
            "366834019.1200117\n",
            "cols  Transit.mode.share  - gini coeff is : 0.6464346063619306\n",
            "2688977001.0\n",
            "cols  X..people.older.than.60  - gini coeff is : 0.14673423679461214\n",
            "7791742870376.5\n",
            "cols  Median.income  - gini coeff is : 0.15433249671121319\n",
            "374657726.1500031\n",
            "cols  X..African.Americans  - gini coeff is : 0.46161607629775014\n",
            "3797987049.249782\n",
            "cols  X..Hispanic.Americans  - gini coeff is : 0.3070973510639532\n",
            "5971969723.955034\n",
            "cols  X..Male  - gini coeff is : 0.017576291485370876\n",
            "27634902188.5\n",
            "cols  Employment.density  - gini coeff is : 0.7695110721560425\n",
            "15423005584.5\n",
            "cols  X..hot.spots.1000.people  - gini coeff is : 0.16486568548969588\n",
            "242804953.02494016\n",
            "cols  Hospital.beds.1000.people  - gini coeff is : -8.628750104779691e-14\n",
            "26057116.909992337\n",
            "cols  ICUs.1000.people  - gini coeff is : -2.3818190088626247e-13\n",
            "16852079.173250053\n",
            "cols  New.cases.1000.people  - gini coeff is : 0.680904683056212\n",
            "446213794.2149951\n",
            "cols  Active.cases.1000.people  - gini coeff is : 0.5046967465588664\n",
            "587605293.5\n",
            "cols  X.days..decreasing.COVID.cases  - gini coeff is : 0.833358411533779\n",
            "6956397389.468079\n",
            "cols  X..hospital.bed.utilization  - gini coeff is : 0.03308998365992187\n",
            "847893268.2000415\n",
            "cols  Testing.capacity  - gini coeff is : 0.22260662795532127\n",
            "27711428164.375595\n",
            "cols  Tests.done.1000.people  - gini coeff is : 0.525695711903369\n",
            "1850321257.0899777\n",
            "cols  X..ICU.utilization  - gini coeff is : 0.2995730960210415\n",
            "74971523352.5\n",
            "cols  Ventilator.shortage  - gini coeff is : 0.35019564195802766\n",
            "109829460318.5\n",
            "cols  Imported.COVID.cases  - gini coeff is : 0.7502043415588123\n",
            "1016661123.9599861\n",
            "cols  COVID.exposure.1000.people  - gini coeff is : 0.5789358250538936\n",
            "14279515848.5\n",
            "cols  X.days..decreasing.ILI.cases  - gini coeff is : 0.3914747299774321\n",
            "776803008.7500261\n",
            "cols  Unemployment.claims.1000.people  - gini coeff is : 0.29723080034346144\n",
            "1412813766.7998645\n",
            "cols  Unemployment.rate  - gini coeff is : 0.15105700504555333\n",
            "4186343534.949507\n",
            "cols  X..working.from.home  - gini coeff is : 0.08548800988546724\n",
            "124451856.86497441\n",
            "cols  Cumulative.inflation.rate  - gini coeff is : 0.31801944797755666\n",
            "733192456.3399674\n",
            "cols  COVID.death.rate  - gini coeff is : 0.4712221652206614\n"
          ],
          "name": "stdout"
        }
      ]
    },
    {
      "cell_type": "markdown",
      "metadata": {
        "id": "fpZOjYBTJJuh"
      },
      "source": [
        "## Feature Importance: Random Forest classifier(Gini Score)"
      ]
    },
    {
      "cell_type": "code",
      "metadata": {
        "colab": {
          "base_uri": "https://localhost:8080/"
        },
        "id": "YpQgjDxZJJui",
        "outputId": "909507aa-561a-492a-f941-5d4c7d4dcb52"
      },
      "source": [
        "CA_labeled_data.columns"
      ],
      "execution_count": 41,
      "outputs": [
        {
          "output_type": "execute_result",
          "data": {
            "text/plain": [
              "Index(['Date', 'Province_State', 'FIPS', 'New cases', 'County Name',\n",
              "       'mask_rule_severity', 'm50', 'm50_index',\n",
              "       'retail_and_recreation_percent_change_from_baseline',\n",
              "       'grocery_and_pharmacy_percent_change_from_baseline',\n",
              "       'parks_percent_change_from_baseline',\n",
              "       'transit_stations_percent_change_from_baseline',\n",
              "       'workplaces_percent_change_from_baseline',\n",
              "       'residential_percent_change_from_baseline', 'PopDensity', 'State_Name',\n",
              "       'State', 'CTFIPS', 'CTNAME', 'STFIPS', 'Social.distancing.index',\n",
              "       'X..staying.home', 'Trips.person', 'X..out.of.county.trips',\n",
              "       'X..out.of.state.trips', 'Miles.person', 'Work.trips.person',\n",
              "       'Non.work.trips.person', 'New.COVID.cases', 'Population',\n",
              "       'X..change.in.consumption', 'Transit.mode.share',\n",
              "       'X..people.older.than.60', 'Median.income', 'X..African.Americans',\n",
              "       'X..Hispanic.Americans', 'X..Male', 'Employment.density',\n",
              "       'X..hot.spots.1000.people', 'Hospital.beds.1000.people',\n",
              "       'ICUs.1000.people', 'X..contact.tracing.workers.1000.people',\n",
              "       'New.cases.1000.people', 'Active.cases.1000.people',\n",
              "       'X.days..decreasing.COVID.cases', 'X..hospital.bed.utilization',\n",
              "       'Testing.capacity', 'Tests.done.1000.people', 'X..ICU.utilization',\n",
              "       'Ventilator.shortage', 'Imported.COVID.cases',\n",
              "       'COVID.exposure.1000.people', 'X.days..decreasing.ILI.cases',\n",
              "       'Unemployment.claims.1000.people', 'Unemployment.rate',\n",
              "       'X..working.from.home', 'Cumulative.inflation.rate', 'COVID.death.rate',\n",
              "       'New cases/100k', 'positivity_rate', 'rolling_avg_new_cases/100k',\n",
              "       'growth_label'],\n",
              "      dtype='object')"
            ]
          },
          "metadata": {
            "tags": []
          },
          "execution_count": 41
        }
      ]
    },
    {
      "cell_type": "code",
      "metadata": {
        "colab": {
          "base_uri": "https://localhost:8080/",
          "height": 177
        },
        "id": "5IplD1IGJJuj",
        "outputId": "27bcc416-b674-4fe6-f7dc-9366faaaef2e"
      },
      "source": [
        "CA_labeled_data['growth_code'] = CA_labeled_data['growth_label'].astype('category').cat.codes\r\n",
        "\r\n",
        "CA_labeled_data.head(2)"
      ],
      "execution_count": 42,
      "outputs": [
        {
          "output_type": "execute_result",
          "data": {
            "text/html": [
              "<div>\n",
              "<style scoped>\n",
              "    .dataframe tbody tr th:only-of-type {\n",
              "        vertical-align: middle;\n",
              "    }\n",
              "\n",
              "    .dataframe tbody tr th {\n",
              "        vertical-align: top;\n",
              "    }\n",
              "\n",
              "    .dataframe thead th {\n",
              "        text-align: right;\n",
              "    }\n",
              "</style>\n",
              "<table border=\"1\" class=\"dataframe\">\n",
              "  <thead>\n",
              "    <tr style=\"text-align: right;\">\n",
              "      <th></th>\n",
              "      <th>Date</th>\n",
              "      <th>Province_State</th>\n",
              "      <th>FIPS</th>\n",
              "      <th>New cases</th>\n",
              "      <th>County Name</th>\n",
              "      <th>mask_rule_severity</th>\n",
              "      <th>m50</th>\n",
              "      <th>m50_index</th>\n",
              "      <th>retail_and_recreation_percent_change_from_baseline</th>\n",
              "      <th>grocery_and_pharmacy_percent_change_from_baseline</th>\n",
              "      <th>parks_percent_change_from_baseline</th>\n",
              "      <th>transit_stations_percent_change_from_baseline</th>\n",
              "      <th>workplaces_percent_change_from_baseline</th>\n",
              "      <th>residential_percent_change_from_baseline</th>\n",
              "      <th>PopDensity</th>\n",
              "      <th>State_Name</th>\n",
              "      <th>State</th>\n",
              "      <th>CTFIPS</th>\n",
              "      <th>CTNAME</th>\n",
              "      <th>STFIPS</th>\n",
              "      <th>Social.distancing.index</th>\n",
              "      <th>X..staying.home</th>\n",
              "      <th>Trips.person</th>\n",
              "      <th>X..out.of.county.trips</th>\n",
              "      <th>X..out.of.state.trips</th>\n",
              "      <th>Miles.person</th>\n",
              "      <th>Work.trips.person</th>\n",
              "      <th>Non.work.trips.person</th>\n",
              "      <th>New.COVID.cases</th>\n",
              "      <th>Population</th>\n",
              "      <th>X..change.in.consumption</th>\n",
              "      <th>Transit.mode.share</th>\n",
              "      <th>X..people.older.than.60</th>\n",
              "      <th>Median.income</th>\n",
              "      <th>X..African.Americans</th>\n",
              "      <th>X..Hispanic.Americans</th>\n",
              "      <th>X..Male</th>\n",
              "      <th>Employment.density</th>\n",
              "      <th>X..hot.spots.1000.people</th>\n",
              "      <th>Hospital.beds.1000.people</th>\n",
              "      <th>ICUs.1000.people</th>\n",
              "      <th>X..contact.tracing.workers.1000.people</th>\n",
              "      <th>New.cases.1000.people</th>\n",
              "      <th>Active.cases.1000.people</th>\n",
              "      <th>X.days..decreasing.COVID.cases</th>\n",
              "      <th>X..hospital.bed.utilization</th>\n",
              "      <th>Testing.capacity</th>\n",
              "      <th>Tests.done.1000.people</th>\n",
              "      <th>X..ICU.utilization</th>\n",
              "      <th>Ventilator.shortage</th>\n",
              "      <th>Imported.COVID.cases</th>\n",
              "      <th>COVID.exposure.1000.people</th>\n",
              "      <th>X.days..decreasing.ILI.cases</th>\n",
              "      <th>Unemployment.claims.1000.people</th>\n",
              "      <th>Unemployment.rate</th>\n",
              "      <th>X..working.from.home</th>\n",
              "      <th>Cumulative.inflation.rate</th>\n",
              "      <th>COVID.death.rate</th>\n",
              "      <th>New cases/100k</th>\n",
              "      <th>positivity_rate</th>\n",
              "      <th>rolling_avg_new_cases/100k</th>\n",
              "      <th>growth_label</th>\n",
              "      <th>growth_code</th>\n",
              "    </tr>\n",
              "  </thead>\n",
              "  <tbody>\n",
              "    <tr>\n",
              "      <th>0</th>\n",
              "      <td>2020-03-01</td>\n",
              "      <td>California</td>\n",
              "      <td>6001</td>\n",
              "      <td>0</td>\n",
              "      <td>Alameda County</td>\n",
              "      <td>0.0</td>\n",
              "      <td>3.684</td>\n",
              "      <td>58</td>\n",
              "      <td>6.0</td>\n",
              "      <td>9.0</td>\n",
              "      <td>15.0</td>\n",
              "      <td>1.0</td>\n",
              "      <td>4.0</td>\n",
              "      <td>0.0</td>\n",
              "      <td>860.757075</td>\n",
              "      <td>California</td>\n",
              "      <td>CA</td>\n",
              "      <td>6001</td>\n",
              "      <td>Alameda County</td>\n",
              "      <td>6</td>\n",
              "      <td>37</td>\n",
              "      <td>26</td>\n",
              "      <td>2.93</td>\n",
              "      <td>25.4</td>\n",
              "      <td>0.4</td>\n",
              "      <td>36.8</td>\n",
              "      <td>0.25</td>\n",
              "      <td>2.68</td>\n",
              "      <td>0</td>\n",
              "      <td>1666753</td>\n",
              "      <td>-5.1</td>\n",
              "      <td>15.04</td>\n",
              "      <td>19</td>\n",
              "      <td>92574</td>\n",
              "      <td>10.5</td>\n",
              "      <td>22.5</td>\n",
              "      <td>49.11</td>\n",
              "      <td>1155</td>\n",
              "      <td>131</td>\n",
              "      <td>2.05</td>\n",
              "      <td>0.22</td>\n",
              "      <td>0.0</td>\n",
              "      <td>0.0</td>\n",
              "      <td>0.0</td>\n",
              "      <td>37</td>\n",
              "      <td>54.0</td>\n",
              "      <td>0.0</td>\n",
              "      <td>0.0</td>\n",
              "      <td>0.0</td>\n",
              "      <td>0</td>\n",
              "      <td>0</td>\n",
              "      <td>0.05</td>\n",
              "      <td>35</td>\n",
              "      <td>1.1</td>\n",
              "      <td>5.3</td>\n",
              "      <td>5.7</td>\n",
              "      <td>0.6</td>\n",
              "      <td>0.0</td>\n",
              "      <td>0.0</td>\n",
              "      <td>0.0</td>\n",
              "      <td>0.0</td>\n",
              "      <td>minimal</td>\n",
              "      <td>0</td>\n",
              "    </tr>\n",
              "    <tr>\n",
              "      <th>1</th>\n",
              "      <td>2020-03-02</td>\n",
              "      <td>California</td>\n",
              "      <td>6001</td>\n",
              "      <td>0</td>\n",
              "      <td>Alameda County</td>\n",
              "      <td>0.0</td>\n",
              "      <td>6.182</td>\n",
              "      <td>98</td>\n",
              "      <td>4.0</td>\n",
              "      <td>7.0</td>\n",
              "      <td>7.0</td>\n",
              "      <td>-1.0</td>\n",
              "      <td>3.0</td>\n",
              "      <td>0.0</td>\n",
              "      <td>860.757075</td>\n",
              "      <td>California</td>\n",
              "      <td>CA</td>\n",
              "      <td>6001</td>\n",
              "      <td>Alameda County</td>\n",
              "      <td>6</td>\n",
              "      <td>17</td>\n",
              "      <td>20</td>\n",
              "      <td>3.38</td>\n",
              "      <td>28.2</td>\n",
              "      <td>0.4</td>\n",
              "      <td>38.1</td>\n",
              "      <td>0.63</td>\n",
              "      <td>2.74</td>\n",
              "      <td>0</td>\n",
              "      <td>1666753</td>\n",
              "      <td>-2.9</td>\n",
              "      <td>15.04</td>\n",
              "      <td>19</td>\n",
              "      <td>92574</td>\n",
              "      <td>10.5</td>\n",
              "      <td>22.5</td>\n",
              "      <td>49.11</td>\n",
              "      <td>1155</td>\n",
              "      <td>131</td>\n",
              "      <td>2.05</td>\n",
              "      <td>0.22</td>\n",
              "      <td>0.0</td>\n",
              "      <td>0.0</td>\n",
              "      <td>0.0</td>\n",
              "      <td>38</td>\n",
              "      <td>54.0</td>\n",
              "      <td>0.0</td>\n",
              "      <td>0.0</td>\n",
              "      <td>0.0</td>\n",
              "      <td>0</td>\n",
              "      <td>0</td>\n",
              "      <td>0.05</td>\n",
              "      <td>35</td>\n",
              "      <td>1.1</td>\n",
              "      <td>5.3</td>\n",
              "      <td>5.7</td>\n",
              "      <td>0.6</td>\n",
              "      <td>0.0</td>\n",
              "      <td>0.0</td>\n",
              "      <td>0.0</td>\n",
              "      <td>0.0</td>\n",
              "      <td>minimal</td>\n",
              "      <td>0</td>\n",
              "    </tr>\n",
              "  </tbody>\n",
              "</table>\n",
              "</div>"
            ],
            "text/plain": [
              "         Date Province_State  ...  growth_label  growth_code\n",
              "0  2020-03-01     California  ...       minimal            0\n",
              "1  2020-03-02     California  ...       minimal            0\n",
              "\n",
              "[2 rows x 63 columns]"
            ]
          },
          "metadata": {
            "tags": []
          },
          "execution_count": 42
        }
      ]
    },
    {
      "cell_type": "code",
      "metadata": {
        "id": "zuHzHNsCJJuk"
      },
      "source": [
        "\n",
        "\n",
        "feature_labels = ['FIPS','mask_rule_severity','m50_index','retail_and_recreation_percent_change_from_baseline',\n",
        "                'grocery_and_pharmacy_percent_change_from_baseline','parks_percent_change_from_baseline',\n",
        "                'transit_stations_percent_change_from_baseline','workplaces_percent_change_from_baseline',\n",
        "                'residential_percent_change_from_baseline','PopDensity','Social.distancing.index',\n",
        "                'X..staying.home','Trips.person','X..out.of.county.trips',\t'X..out.of.state.trips',\n",
        "                'Miles.person',\t'Work.trips.person','Non.work.trips.person','X..change.in.consumption',\n",
        "                'Transit.mode.share','X..people.older.than.60',\t'Median.income',\t'X..African.Americans',\n",
        "                'X..Hispanic.Americans',\t'X..Male','Employment.density',\t'X..hot.spots.1000.people',\n",
        "                'Hospital.beds.1000.people',\t'ICUs.1000.people',\n",
        "                'New.cases.1000.people',\t'Active.cases.1000.people',\t'X.days..decreasing.COVID.cases',\n",
        "                'X..hospital.bed.utilization',\t'Testing.capacity',\t'Tests.done.1000.people',\t'X..ICU.utilization',\n",
        "                'Ventilator.shortage',\t'Imported.COVID.cases',\t'COVID.exposure.1000.people',\t'X.days..decreasing.ILI.cases',\n",
        "                'Unemployment.claims.1000.people',\t'Unemployment.rate',\t'X..working.from.home',\n",
        "                'Cumulative.inflation.rate'\t,'COVID.death.rate',\n",
        "                \t'positivity_rate',\t'rolling_avg_new_cases/100k']\n",
        "\n",
        "target_column = ['growth_code']\n",
        "\n",
        "X = CA_labeled_data[feature_labels]\n",
        "y = CA_labeled_data[target_column]\n",
        "\n",
        "X_train, X_test, y_train, y_test = train_test_split(X, y, test_size=0.4, random_state=0)\n"
      ],
      "execution_count": 43,
      "outputs": []
    },
    {
      "cell_type": "code",
      "metadata": {
        "colab": {
          "base_uri": "https://localhost:8080/"
        },
        "id": "2xf9apgeJJuk",
        "outputId": "76f4f068-2916-4b9f-cd4e-9aa614d67ceb"
      },
      "source": [
        "# Create a random forest classifier\n",
        "clf = RandomForestClassifier(n_estimators=10000, random_state=0, n_jobs=-1)\n",
        "\n",
        "# Train the classifier\n",
        "clf.fit(X_train, y_train)\n",
        "\n",
        "# Print the name and gini importance of each feature\n",
        "for feature in zip(feature_labels, clf.feature_importances_):\n",
        "    print(feature)"
      ],
      "execution_count": 44,
      "outputs": [
        {
          "output_type": "stream",
          "text": [
            "/usr/local/lib/python3.6/dist-packages/ipykernel_launcher.py:5: DataConversionWarning: A column-vector y was passed when a 1d array was expected. Please change the shape of y to (n_samples,), for example using ravel().\n",
            "  \"\"\"\n"
          ],
          "name": "stderr"
        },
        {
          "output_type": "stream",
          "text": [
            "('FIPS', 0.005427347573881217)\n",
            "('mask_rule_severity', 0.010561423140285518)\n",
            "('m50_index', 0.004734975606412593)\n",
            "('retail_and_recreation_percent_change_from_baseline', 0.005224398121747533)\n",
            "('grocery_and_pharmacy_percent_change_from_baseline', 0.004665346032139882)\n",
            "('parks_percent_change_from_baseline', 0.005783859325271695)\n",
            "('transit_stations_percent_change_from_baseline', 0.005341784155548222)\n",
            "('workplaces_percent_change_from_baseline', 0.003477763768351752)\n",
            "('residential_percent_change_from_baseline', 0.0031140841784784317)\n",
            "('PopDensity', 0.0054781904163756145)\n",
            "('Social.distancing.index', 0.0032658647335110716)\n",
            "('X..staying.home', 0.0029279706167285036)\n",
            "('Trips.person', 0.0036150876202827114)\n",
            "('X..out.of.county.trips', 0.0054658067538416516)\n",
            "('X..out.of.state.trips', 0.0046348299386258195)\n",
            "('Miles.person', 0.005854713526640946)\n",
            "('Work.trips.person', 0.00330061306156646)\n",
            "('Non.work.trips.person', 0.0037340176425873324)\n",
            "('X..change.in.consumption', 0.0036449930184031996)\n",
            "('Transit.mode.share', 0.0065957692778026485)\n",
            "('X..people.older.than.60', 0.01043936811732236)\n",
            "('Median.income', 0.007984587653261105)\n",
            "('X..African.Americans', 0.005235972568456647)\n",
            "('X..Hispanic.Americans', 0.019035274704033347)\n",
            "('X..Male', 0.0069089116282343085)\n",
            "('Employment.density', 0.0054538536004907255)\n",
            "('X..hot.spots.1000.people', 0.014787795725153478)\n",
            "('Hospital.beds.1000.people', 0.0)\n",
            "('ICUs.1000.people', 0.0)\n",
            "('New.cases.1000.people', 0.14803656961971212)\n",
            "('Active.cases.1000.people', 0.04532160465912705)\n",
            "('X.days..decreasing.COVID.cases', 0.0030003295303095505)\n",
            "('X..hospital.bed.utilization', 0.028331151109518754)\n",
            "('Testing.capacity', 0.006259111288755067)\n",
            "('Tests.done.1000.people', 0.03446430941900461)\n",
            "('X..ICU.utilization', 0.02303164713879015)\n",
            "('Ventilator.shortage', 0.014250902443406648)\n",
            "('Imported.COVID.cases', 0.013621871309362099)\n",
            "('COVID.exposure.1000.people', 0.0346008009120861)\n",
            "('X.days..decreasing.ILI.cases', 0.014310261085923629)\n",
            "('Unemployment.claims.1000.people', 0.008034399458611891)\n",
            "('Unemployment.rate', 0.006251946721400913)\n",
            "('X..working.from.home', 0.009029153055485434)\n",
            "('Cumulative.inflation.rate', 0.015507510501708578)\n",
            "('COVID.death.rate', 0.015464850050174181)\n",
            "('positivity_rate', 0.046870152440507226)\n",
            "('rolling_avg_new_cases/100k', 0.3669188267506812)\n"
          ],
          "name": "stdout"
        }
      ]
    },
    {
      "cell_type": "code",
      "metadata": {
        "colab": {
          "base_uri": "https://localhost:8080/"
        },
        "id": "7I5sSDymJJul",
        "outputId": "41928d8b-5819-4b1a-ad26-0580befc3564"
      },
      "source": [
        "\n",
        "#  Supported criteria are “gini” for the Gini impurity and “entropy” for the information gain. \n",
        "clf = RandomForestClassifier(n_estimators=10000, random_state=0,criterion='gini', n_jobs=-1)\n",
        "\n",
        "# Train the classifier\n",
        "clf.fit(X_train, y_train)\n",
        "\n",
        "# Print the name and gini importance of each feature\n",
        "for feature in zip(feature_labels, clf.feature_importances_):\n",
        "    print(feature)"
      ],
      "execution_count": 45,
      "outputs": [
        {
          "output_type": "stream",
          "text": [
            "/usr/local/lib/python3.6/dist-packages/ipykernel_launcher.py:6: DataConversionWarning: A column-vector y was passed when a 1d array was expected. Please change the shape of y to (n_samples,), for example using ravel().\n",
            "  \n"
          ],
          "name": "stderr"
        },
        {
          "output_type": "stream",
          "text": [
            "('FIPS', 0.005427347573881217)\n",
            "('mask_rule_severity', 0.010561423140285518)\n",
            "('m50_index', 0.004734975606412593)\n",
            "('retail_and_recreation_percent_change_from_baseline', 0.005224398121747533)\n",
            "('grocery_and_pharmacy_percent_change_from_baseline', 0.004665346032139882)\n",
            "('parks_percent_change_from_baseline', 0.005783859325271695)\n",
            "('transit_stations_percent_change_from_baseline', 0.005341784155548222)\n",
            "('workplaces_percent_change_from_baseline', 0.003477763768351752)\n",
            "('residential_percent_change_from_baseline', 0.0031140841784784317)\n",
            "('PopDensity', 0.0054781904163756145)\n",
            "('Social.distancing.index', 0.0032658647335110716)\n",
            "('X..staying.home', 0.0029279706167285036)\n",
            "('Trips.person', 0.0036150876202827114)\n",
            "('X..out.of.county.trips', 0.0054658067538416516)\n",
            "('X..out.of.state.trips', 0.0046348299386258195)\n",
            "('Miles.person', 0.005854713526640946)\n",
            "('Work.trips.person', 0.00330061306156646)\n",
            "('Non.work.trips.person', 0.0037340176425873324)\n",
            "('X..change.in.consumption', 0.0036449930184031996)\n",
            "('Transit.mode.share', 0.0065957692778026485)\n",
            "('X..people.older.than.60', 0.01043936811732236)\n",
            "('Median.income', 0.007984587653261105)\n",
            "('X..African.Americans', 0.005235972568456647)\n",
            "('X..Hispanic.Americans', 0.019035274704033347)\n",
            "('X..Male', 0.0069089116282343085)\n",
            "('Employment.density', 0.0054538536004907255)\n",
            "('X..hot.spots.1000.people', 0.014787795725153478)\n",
            "('Hospital.beds.1000.people', 0.0)\n",
            "('ICUs.1000.people', 0.0)\n",
            "('New.cases.1000.people', 0.14803656961971212)\n",
            "('Active.cases.1000.people', 0.04532160465912705)\n",
            "('X.days..decreasing.COVID.cases', 0.0030003295303095505)\n",
            "('X..hospital.bed.utilization', 0.028331151109518754)\n",
            "('Testing.capacity', 0.006259111288755067)\n",
            "('Tests.done.1000.people', 0.03446430941900461)\n",
            "('X..ICU.utilization', 0.02303164713879015)\n",
            "('Ventilator.shortage', 0.014250902443406648)\n",
            "('Imported.COVID.cases', 0.013621871309362099)\n",
            "('COVID.exposure.1000.people', 0.0346008009120861)\n",
            "('X.days..decreasing.ILI.cases', 0.014310261085923629)\n",
            "('Unemployment.claims.1000.people', 0.008034399458611891)\n",
            "('Unemployment.rate', 0.006251946721400913)\n",
            "('X..working.from.home', 0.009029153055485434)\n",
            "('Cumulative.inflation.rate', 0.015507510501708578)\n",
            "('COVID.death.rate', 0.015464850050174181)\n",
            "('positivity_rate', 0.046870152440507226)\n",
            "('rolling_avg_new_cases/100k', 0.3669188267506812)\n"
          ],
          "name": "stdout"
        }
      ]
    },
    {
      "cell_type": "markdown",
      "metadata": {
        "id": "GlLwRWevJJum"
      },
      "source": [
        "## Feature Importance: Extra tree classifier"
      ]
    },
    {
      "cell_type": "code",
      "metadata": {
        "id": "8ziGBlnhJJum"
      },
      "source": [
        "from sklearn.ensemble import ExtraTreesClassifier\n",
        "from sklearn.feature_selection import RFE"
      ],
      "execution_count": 46,
      "outputs": []
    },
    {
      "cell_type": "code",
      "metadata": {
        "id": "FScvWaqPJJum"
      },
      "source": [
        "\n",
        "\n",
        "feature_labels = ['FIPS','mask_rule_severity','m50_index','retail_and_recreation_percent_change_from_baseline',\n",
        "                'grocery_and_pharmacy_percent_change_from_baseline','parks_percent_change_from_baseline',\n",
        "                'transit_stations_percent_change_from_baseline','workplaces_percent_change_from_baseline',\n",
        "                'residential_percent_change_from_baseline','PopDensity','Social.distancing.index',\n",
        "                'X..staying.home','Trips.person','X..out.of.county.trips',\t'X..out.of.state.trips',\n",
        "                'Miles.person',\t'Work.trips.person','Non.work.trips.person','X..change.in.consumption',\n",
        "                'Transit.mode.share','X..people.older.than.60',\t'Median.income',\t'X..African.Americans',\n",
        "                'X..Hispanic.Americans',\t'X..Male','Employment.density',\t'X..hot.spots.1000.people',\n",
        "                'Hospital.beds.1000.people',\t'ICUs.1000.people',\n",
        "                'New.cases.1000.people',\t'Active.cases.1000.people',\t'X.days..decreasing.COVID.cases',\n",
        "                'X..hospital.bed.utilization',\t'Testing.capacity',\t'Tests.done.1000.people',\t'X..ICU.utilization',\n",
        "                'Ventilator.shortage',\t'Imported.COVID.cases',\t'COVID.exposure.1000.people',\t'X.days..decreasing.ILI.cases',\n",
        "                'Unemployment.claims.1000.people',\t'Unemployment.rate',\t'X..working.from.home',\n",
        "                'Cumulative.inflation.rate'\t,'COVID.death.rate',\n",
        "                \t'positivity_rate',\t'rolling_avg_new_cases/100k']\n",
        "\n",
        "target_column = ['growth_code']\n",
        "\n",
        "X = CA_labeled_data[feature_labels]\n",
        "y = CA_labeled_data[target_column]\n",
        "\n",
        "X_train, X_test, y_train, y_test = train_test_split(X, y, test_size=0.4, random_state=0)"
      ],
      "execution_count": 47,
      "outputs": []
    },
    {
      "cell_type": "code",
      "metadata": {
        "colab": {
          "base_uri": "https://localhost:8080/"
        },
        "id": "gjjvkO48JJun",
        "outputId": "80fe8b5b-6ba7-4e49-dfbe-5610478a631c"
      },
      "source": [
        "# Create a random forest classifier\r\n",
        "clf = RandomForestClassifier(n_estimators=10000, random_state=0, n_jobs=-1)\r\n",
        "\r\n",
        "# Train the classifier\r\n",
        "clf.fit(X_train, y_train)\r\n",
        "\r\n",
        "# Print the name and gini importance of each feature\r\n",
        "for feature in zip(feature_labels, clf.feature_importances_):\r\n",
        "    print(feature)\r\n",
        "\r\n",
        "\r\n",
        "#  Supported criteria are “gini” for the Gini impurity and “entropy” for the information gain. \r\n",
        "clf = RandomForestClassifier(n_estimators=10000, random_state=0,criterion='gini', n_jobs=-1)# Train the classifier\r\n",
        "clf.fit(X_train, y_train)\r\n",
        "# Print the name and gini importance of each feature\r\n",
        "for feature in zip(feature_labels, clf.feature_importances_):\r\n",
        "    print(feature)\r\n",
        "\r\n",
        "\r\n",
        "model = ExtraTreesClassifier()\r\n",
        "model.fit(X, y.values.ravel())\r\n",
        "# display the relative importance of each attribute\r\n",
        "#print(model.feature_importances_)\r\n",
        "\r\n",
        "\r\n",
        "# create the RFE model \r\n",
        "rfe = RFE(model, 3)\r\n",
        "rfe = rfe.fit(X, y.values.ravel())\r\n",
        "# summarize the selection of the attributes\r\n",
        "#print(rfe.support_)\r\n",
        "\r\n",
        "print(\"\\nFeatures with ranking:\\n\")\r\n",
        "for index in range(len(rfe.ranking_)):\r\n",
        "  print(feature_labels[index], rfe.ranking_[index])\r\n",
        "\r\n",
        "# for index in range(len(rfe.ranking_)):\r\n",
        "#   print( rfe.ranking_[index])\r\n",
        "#print(rfe.ranking_)\r\n",
        "#print(rfe.n_features_)\r\n",
        "#rfe.n_features_to_select"
      ],
      "execution_count": 48,
      "outputs": [
        {
          "output_type": "stream",
          "text": [
            "/usr/local/lib/python3.6/dist-packages/ipykernel_launcher.py:5: DataConversionWarning: A column-vector y was passed when a 1d array was expected. Please change the shape of y to (n_samples,), for example using ravel().\n",
            "  \"\"\"\n"
          ],
          "name": "stderr"
        },
        {
          "output_type": "stream",
          "text": [
            "('FIPS', 0.005427347573881217)\n",
            "('mask_rule_severity', 0.010561423140285518)\n",
            "('m50_index', 0.004734975606412593)\n",
            "('retail_and_recreation_percent_change_from_baseline', 0.005224398121747533)\n",
            "('grocery_and_pharmacy_percent_change_from_baseline', 0.004665346032139882)\n",
            "('parks_percent_change_from_baseline', 0.005783859325271695)\n",
            "('transit_stations_percent_change_from_baseline', 0.005341784155548222)\n",
            "('workplaces_percent_change_from_baseline', 0.003477763768351752)\n",
            "('residential_percent_change_from_baseline', 0.0031140841784784317)\n",
            "('PopDensity', 0.0054781904163756145)\n",
            "('Social.distancing.index', 0.0032658647335110716)\n",
            "('X..staying.home', 0.0029279706167285036)\n",
            "('Trips.person', 0.0036150876202827114)\n",
            "('X..out.of.county.trips', 0.0054658067538416516)\n",
            "('X..out.of.state.trips', 0.0046348299386258195)\n",
            "('Miles.person', 0.005854713526640946)\n",
            "('Work.trips.person', 0.00330061306156646)\n",
            "('Non.work.trips.person', 0.0037340176425873324)\n",
            "('X..change.in.consumption', 0.0036449930184031996)\n",
            "('Transit.mode.share', 0.0065957692778026485)\n",
            "('X..people.older.than.60', 0.01043936811732236)\n",
            "('Median.income', 0.007984587653261105)\n",
            "('X..African.Americans', 0.005235972568456647)\n",
            "('X..Hispanic.Americans', 0.019035274704033347)\n",
            "('X..Male', 0.0069089116282343085)\n",
            "('Employment.density', 0.0054538536004907255)\n",
            "('X..hot.spots.1000.people', 0.014787795725153478)\n",
            "('Hospital.beds.1000.people', 0.0)\n",
            "('ICUs.1000.people', 0.0)\n",
            "('New.cases.1000.people', 0.14803656961971212)\n",
            "('Active.cases.1000.people', 0.04532160465912705)\n",
            "('X.days..decreasing.COVID.cases', 0.0030003295303095505)\n",
            "('X..hospital.bed.utilization', 0.028331151109518754)\n",
            "('Testing.capacity', 0.006259111288755067)\n",
            "('Tests.done.1000.people', 0.03446430941900461)\n",
            "('X..ICU.utilization', 0.02303164713879015)\n",
            "('Ventilator.shortage', 0.014250902443406648)\n",
            "('Imported.COVID.cases', 0.013621871309362099)\n",
            "('COVID.exposure.1000.people', 0.0346008009120861)\n",
            "('X.days..decreasing.ILI.cases', 0.014310261085923629)\n",
            "('Unemployment.claims.1000.people', 0.008034399458611891)\n",
            "('Unemployment.rate', 0.006251946721400913)\n",
            "('X..working.from.home', 0.009029153055485434)\n",
            "('Cumulative.inflation.rate', 0.015507510501708578)\n",
            "('COVID.death.rate', 0.015464850050174181)\n",
            "('positivity_rate', 0.046870152440507226)\n",
            "('rolling_avg_new_cases/100k', 0.3669188267506812)\n"
          ],
          "name": "stdout"
        },
        {
          "output_type": "stream",
          "text": [
            "/usr/local/lib/python3.6/dist-packages/ipykernel_launcher.py:14: DataConversionWarning: A column-vector y was passed when a 1d array was expected. Please change the shape of y to (n_samples,), for example using ravel().\n",
            "  \n"
          ],
          "name": "stderr"
        },
        {
          "output_type": "stream",
          "text": [
            "('FIPS', 0.005427347573881217)\n",
            "('mask_rule_severity', 0.010561423140285518)\n",
            "('m50_index', 0.004734975606412593)\n",
            "('retail_and_recreation_percent_change_from_baseline', 0.005224398121747533)\n",
            "('grocery_and_pharmacy_percent_change_from_baseline', 0.004665346032139882)\n",
            "('parks_percent_change_from_baseline', 0.005783859325271695)\n",
            "('transit_stations_percent_change_from_baseline', 0.005341784155548222)\n",
            "('workplaces_percent_change_from_baseline', 0.003477763768351752)\n",
            "('residential_percent_change_from_baseline', 0.0031140841784784317)\n",
            "('PopDensity', 0.0054781904163756145)\n",
            "('Social.distancing.index', 0.0032658647335110716)\n",
            "('X..staying.home', 0.0029279706167285036)\n",
            "('Trips.person', 0.0036150876202827114)\n",
            "('X..out.of.county.trips', 0.0054658067538416516)\n",
            "('X..out.of.state.trips', 0.0046348299386258195)\n",
            "('Miles.person', 0.005854713526640946)\n",
            "('Work.trips.person', 0.00330061306156646)\n",
            "('Non.work.trips.person', 0.0037340176425873324)\n",
            "('X..change.in.consumption', 0.0036449930184031996)\n",
            "('Transit.mode.share', 0.0065957692778026485)\n",
            "('X..people.older.than.60', 0.01043936811732236)\n",
            "('Median.income', 0.007984587653261105)\n",
            "('X..African.Americans', 0.005235972568456647)\n",
            "('X..Hispanic.Americans', 0.019035274704033347)\n",
            "('X..Male', 0.0069089116282343085)\n",
            "('Employment.density', 0.0054538536004907255)\n",
            "('X..hot.spots.1000.people', 0.014787795725153478)\n",
            "('Hospital.beds.1000.people', 0.0)\n",
            "('ICUs.1000.people', 0.0)\n",
            "('New.cases.1000.people', 0.14803656961971212)\n",
            "('Active.cases.1000.people', 0.04532160465912705)\n",
            "('X.days..decreasing.COVID.cases', 0.0030003295303095505)\n",
            "('X..hospital.bed.utilization', 0.028331151109518754)\n",
            "('Testing.capacity', 0.006259111288755067)\n",
            "('Tests.done.1000.people', 0.03446430941900461)\n",
            "('X..ICU.utilization', 0.02303164713879015)\n",
            "('Ventilator.shortage', 0.014250902443406648)\n",
            "('Imported.COVID.cases', 0.013621871309362099)\n",
            "('COVID.exposure.1000.people', 0.0346008009120861)\n",
            "('X.days..decreasing.ILI.cases', 0.014310261085923629)\n",
            "('Unemployment.claims.1000.people', 0.008034399458611891)\n",
            "('Unemployment.rate', 0.006251946721400913)\n",
            "('X..working.from.home', 0.009029153055485434)\n",
            "('Cumulative.inflation.rate', 0.015507510501708578)\n",
            "('COVID.death.rate', 0.015464850050174181)\n",
            "('positivity_rate', 0.046870152440507226)\n",
            "('rolling_avg_new_cases/100k', 0.3669188267506812)\n",
            "\n",
            "Features with ranking:\n",
            "\n",
            "FIPS 19\n",
            "mask_rule_severity 6\n",
            "m50_index 39\n",
            "retail_and_recreation_percent_change_from_baseline 31\n",
            "grocery_and_pharmacy_percent_change_from_baseline 32\n",
            "parks_percent_change_from_baseline 30\n",
            "transit_stations_percent_change_from_baseline 24\n",
            "workplaces_percent_change_from_baseline 36\n",
            "residential_percent_change_from_baseline 35\n",
            "PopDensity 25\n",
            "Social.distancing.index 38\n",
            "X..staying.home 37\n",
            "Trips.person 40\n",
            "X..out.of.county.trips 29\n",
            "X..out.of.state.trips 27\n",
            "Miles.person 34\n",
            "Work.trips.person 41\n",
            "Non.work.trips.person 42\n",
            "X..change.in.consumption 43\n",
            "Transit.mode.share 17\n",
            "X..people.older.than.60 11\n",
            "Median.income 12\n",
            "X..African.Americans 20\n",
            "X..Hispanic.Americans 3\n",
            "X..Male 18\n",
            "Employment.density 23\n",
            "X..hot.spots.1000.people 7\n",
            "Hospital.beds.1000.people 45\n",
            "ICUs.1000.people 44\n",
            "New.cases.1000.people 1\n",
            "Active.cases.1000.people 1\n",
            "X.days..decreasing.COVID.cases 33\n",
            "X..hospital.bed.utilization 9\n",
            "Testing.capacity 28\n",
            "Tests.done.1000.people 2\n",
            "X..ICU.utilization 8\n",
            "Ventilator.shortage 13\n",
            "Imported.COVID.cases 14\n",
            "COVID.exposure.1000.people 4\n",
            "X.days..decreasing.ILI.cases 10\n",
            "Unemployment.claims.1000.people 26\n",
            "Unemployment.rate 21\n",
            "X..working.from.home 22\n",
            "Cumulative.inflation.rate 16\n",
            "COVID.death.rate 15\n",
            "positivity_rate 5\n",
            "rolling_avg_new_cases/100k 1\n"
          ],
          "name": "stdout"
        }
      ]
    },
    {
      "cell_type": "markdown",
      "metadata": {
        "id": "yasMfMYqTyd6"
      },
      "source": [
        "# Conclusion for all groups superset dataset analysis:\n",
        "\n",
        "From the above Gini approches, we can drop the following columns from Time-series forecasting\n"
      ]
    },
    {
      "cell_type": "markdown",
      "metadata": {
        "id": "6ULOdbdx3ONc"
      },
      "source": [
        "## Gini-Coefficient\r\n",
        "\r\n",
        "\r\n",
        ">* FIPS  - gini coeff is : 0.0031471682814930156\r\n",
        ">* mask_rule_severity  - gini coeff is : 0.37054122539146256\r\n",
        ">* m50_index  - gini coeff is : 0.41370009104264954\r\n",
        ">* retail_and_recreation_percent_change_from_baseline  - gini coeff is : nan\r\n",
        "nan\r\n",
        ">* grocery_and_pharmacy_percent_change_from_baseline  - gini coeff is : nan\r\n",
        "nan\r\n",
        ">* parks_percent_change_from_baseline  - gini coeff is : nan\r\n",
        "nan\r\n",
        ">* transit_stations_percent_change_from_baseline  - gini coeff is : nan\r\n",
        "nan\r\n",
        ">* workplaces_percent_change_from_baseline  - gini coeff is : nan\r\n",
        "nan\r\n",
        ">* residential_percent_change_from_baseline  - gini coeff is : nan\r\n",
        ">* PopDensity  - gini coeff is : 0.8156637311902494\r\n",
        ">* Social.distancing.index  - gini coeff is : 0.18524526015646098\r\n",
        ">* X..staying.home  - gini coeff is : 0.1173911693215423\r\n",
        ">* Trips.person  - gini coeff is : 0.07230888148726836\r\n",
        ">*  X..out.of.county.trips  - gini coeff is : 0.24785794461926924\r\n",
        ">* X..out.of.state.trips  - gini coeff is : 0.7522604458475726\r\n",
        ">* Miles.person  - gini coeff is : 0.18458958295302125\r\n",
        ">* Work.trips.person  - gini coeff is : 0.1805772735479392\r\n",
        ">* Non.work.trips.person  - gini coeff is : 0.07466161452747519\r\n",
        ">* X..change.in.consumption  - gini coeff is : -0.939130643149599\r\n",
        ">* Transit.mode.share  - gini coeff is : 0.6464346063619306\r\n",
        ">* X..people.older.than.60  - gini coeff is : 0.14673423679461214\r\n",
        ">* Median.income  - gini coeff is : 0.15433249671121319\r\n",
        ">* X..African.Americans  - gini coeff is : 0.46161607629775014\r\n",
        ">* X..Hispanic.Americans  - gini coeff is : 0.3070973510639532\r\n",
        ">* X..Male  - gini coeff is : 0.017576291485370876\r\n",
        ">* Employment.density  - gini coeff is : 0.7695110721560425\r\n",
        ">* X..hot.spots.1000.people  - gini coeff is : 0.16486568548969588\r\n",
        ">* Hospital.beds.1000.people  - gini coeff is : -8.628750104779691e-14\r\n",
        ">* ICUs.1000.people  - gini coeff is : -2.3818190088626247e-13\r\n",
        ">* New.cases.1000.people  - gini coeff is : 0.680904683056212\r\n",
        ">* Active.cases.1000.people  - gini coeff is : 0.5046967465588664\r\n",
        ">* X.days..decreasing.COVID.cases  - gini coeff is : 0.833358411533779\r\n",
        ">* X..hospital.bed.utilization  - gini coeff is : 0.03308998365992187\r\n",
        ">* Testing.capacity  - gini coeff is : 0.22260662795532127\r\n",
        ">* Tests.done.1000.people  - gini coeff is : 0.525695711903369\r\n",
        ">*  X..ICU.utilization  - gini coeff is : 0.2995730960210415\r\n",
        ">* Ventilator.shortage  - gini coeff is : 0.35019564195802766\r\n",
        ">* Imported.COVID.cases  - gini coeff is : 0.7502043415588123\r\n",
        ">* COVID.exposure.1000.people  - gini coeff is : 0.5789358250538936\r\n",
        ">* X.days..decreasing.ILI.cases  - gini coeff is : 0.3914747299774321\r\n",
        ">*  Unemployment.claims.1000.people  - gini coeff is : 0.29723080034346144\r\n",
        ">* Unemployment.rate  - gini coeff is : 0.15105700504555333\r\n",
        ">* X..working.from.home  - gini coeff is : 0.08548800988546724\r\n",
        ">* Cumulative.inflation.rate  - gini coeff is : 0.31801944797755666\r\n",
        ">*  COVID.death.rate  - gini coeff is : 0.4712221652206614"
      ]
    },
    {
      "cell_type": "markdown",
      "metadata": {
        "id": "fSkEum1O3H1A"
      },
      "source": [
        "## Random Forest\r\n",
        "\r\n",
        ">* ('FIPS', 0.005427347573881217)\r\n",
        ">* ('mask_rule_severity', 0.010561423140285518)\r\n",
        ">* ('m50_index', 0.004734975606412593)\r\n",
        ">* ('retail_and_recreation_percent_change_from_baseline', 0.005224398121747533)\r\n",
        ">* ('grocery_and_pharmacy_percent_change_from_baseline', 0.004665346032139882)\r\n",
        ">* ('parks_percent_change_from_baseline', 0.005783859325271695)\r\n",
        ">* ('transit_stations_percent_change_from_baseline', 0.005341784155548222)\r\n",
        ">* ('workplaces_percent_change_from_baseline', 0.003477763768351752)\r\n",
        ">* ('residential_percent_change_from_baseline', 0.0031140841784784317)\r\n",
        ">* ('PopDensity', 0.0054781904163756145)\r\n",
        ">* ('Social.distancing.index', 0.0032658647335110716)\r\n",
        ">* ('X..staying.home', 0.0029279706167285036)\r\n",
        ">* ('Trips.person', 0.0036150876202827114)\r\n",
        ">* ('X..out.of.county.trips', 0.0054658067538416516)\r\n",
        ">* ('X..out.of.state.trips', 0.0046348299386258195)\r\n",
        ">* ('Miles.person', 0.005854713526640946)\r\n",
        ">* ('Work.trips.person', 0.00330061306156646)\r\n",
        ">* ('Non.work.trips.person', 0.0037340176425873324)\r\n",
        ">* ('X..change.in.consumption', 0.0036449930184031996)\r\n",
        ">* ('Transit.mode.share', 0.0065957692778026485)\r\n",
        ">* ('X..people.older.than.60', 0.01043936811732236)\r\n",
        ">* ('Median.income', 0.007984587653261105)\r\n",
        ">* ('X..African.Americans', 0.005235972568456647)\r\n",
        ">* ('X..Hispanic.Americans', 0.019035274704033347)\r\n",
        ">* ('X..Male', 0.0069089116282343085)\r\n",
        ">* ('Employment.density', 0.0054538536004907255)\r\n",
        ">* ('X..hot.spots.1000.people', 0.014787795725153478)\r\n",
        ">* ('Hospital.beds.1000.people', 0.0)\r\n",
        ">* ('ICUs.1000.people', 0.0)\r\n",
        ">* ('New.cases.1000.people', 0.14803656961971212)\r\n",
        ">* ('Active.cases.1000.people', 0.04532160465912705)\r\n",
        ">* ('X.days..decreasing.COVID.cases', 0.0030003295303095505)\r\n",
        ">* ('X..hospital.bed.utilization', 0.028331151109518754)\r\n",
        ">* ('Testing.capacity', 0.006259111288755067)\r\n",
        ">* ('Tests.done.1000.people', 0.03446430941900461)\r\n",
        ">* ('X..ICU.utilization', 0.02303164713879015)\r\n",
        ">* ('Ventilator.shortage', 0.014250902443406648)\r\n",
        ">* ('Imported.COVID.cases', 0.013621871309362099)\r\n",
        ">* ('COVID.exposure.1000.people', 0.0346008009120861)\r\n",
        ">* ('X.days..decreasing.ILI.cases', 0.014310261085923629)\r\n",
        ">* ('Unemployment.claims.1000.people', 0.008034399458611891)\r\n",
        ">* ('Unemployment.rate', 0.006251946721400913)\r\n",
        ">* ('X..working.from.home', 0.009029153055485434)\r\n",
        ">* ('Cumulative.inflation.rate', 0.015507510501708578)\r\n",
        ">* ('COVID.death.rate', 0.015464850050174181)\r\n",
        ">* ('positivity_rate', 0.046870152440507226)\r\n",
        ">* ('rolling_avg_new_cases/100k', 0.3669188267506812)"
      ]
    },
    {
      "cell_type": "markdown",
      "metadata": {
        "id": "StBPPHzB3VF4"
      },
      "source": [
        "## Extra Tree Classifier- with rank\r\n",
        "\r\n",
        ">* rolling_avg_new_cases/100k 1\r\n",
        ">* New.cases.1000.people 1\r\n",
        ">* Active.cases.1000.people 1\r\n",
        ">* Tests.done.1000.people 2\r\n",
        ">* X..Hispanic.Americans 3\r\n",
        ">* COVID.exposure.1000.people 4\r\n",
        ">* positivity_rate 5\r\n",
        ">* mask_rule_severity 6\r\n",
        ">* X..hot.spots.1000.people 7\r\n",
        ">* X..ICU.utilization 8\r\n",
        ">* X..hospital.bed.utilization 9\r\n",
        ">* X.days..decreasing.ILI.cases 10\r\n",
        ">* X..people.older.than.60 11\r\n",
        ">* Median.income 12\r\n",
        ">* Ventilator.shortage 13\r\n",
        ">* Imported.COVID.cases 14\r\n",
        ">* COVID.death.rate 15\r\n",
        ">* Cumulative.inflation.rate 16\r\n",
        ">* Transit.mode.share 17\r\n",
        ">* X..Male 18\r\n",
        ">* FIPS 19\r\n",
        ">* X..African.Americans 20\r\n",
        ">* Unemployment.rate 21\r\n",
        ">* X..working.from.home 22\r\n",
        ">* Employment.density 23\r\n",
        ">* transit_stations_percent_change_from_baseline 24\r\n",
        ">* PopDensity 25\r\n",
        ">* Unemployment.claims.1000.people 26\r\n",
        ">* X..out.of.state.trips 27\r\n",
        ">* Testing.capacity 28\r\n",
        ">* X..out.of.county.trips 29\r\n",
        ">* parks_percent_change_from_baseline 30\r\n",
        ">* retail_and_recreation_percent_change_from_baseline 31\r\n",
        ">* grocery_and_pharmacy_percent_change_from_baseline 32\r\n",
        ">* X.days..decreasing.COVID.cases 33\r\n",
        ">* Miles.person 34\r\n",
        ">* residential_percent_change_from_baseline 35\r\n",
        ">* workplaces_percent_change_from_baseline 36\r\n",
        ">* X..staying.home 37\r\n",
        ">* Social.distancing.index 38\r\n",
        ">* m50_index 39\r\n",
        ">* Trips.person 40\r\n",
        ">* Work.trips.person 41\r\n",
        ">* Non.work.trips.person 42\r\n",
        ">* X..change.in.consumption 43\r\n",
        ">* ICUs.1000.people 44\r\n",
        ">* Hospital.beds.1000.people 45\r\n",
        "\r\n",
        "\r\n",
        "\r\n",
        "\r\n",
        "\r\n",
        "\r\n",
        "\r\n",
        "\r\n",
        "\r\n",
        "\r\n",
        "\r\n",
        "\r\n",
        "\r\n",
        "\r\n",
        "\r\n",
        "\r\n",
        "\r\n",
        "\r\n",
        "\r\n",
        "\r\n",
        "\r\n"
      ]
    }
  ]
}