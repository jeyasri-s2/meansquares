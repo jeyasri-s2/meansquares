{
  "nbformat": 4,
  "nbformat_minor": 0,
  "metadata": {
    "colab": {
      "name": "CA_LabelingData.ipynb",
      "provenance": [],
      "collapsed_sections": [],
      "toc_visible": true,
      "machine_shape": "hm",
      "include_colab_link": true
    },
    "kernelspec": {
      "name": "python3",
      "display_name": "Python 3"
    },
    "accelerator": "GPU"
  },
  "cells": [
    {
      "cell_type": "markdown",
      "metadata": {
        "id": "view-in-github",
        "colab_type": "text"
      },
      "source": [
        "<a href=\"https://colab.research.google.com/github/aarsanjani/meansquares/blob/master/CA_LabelingData.ipynb\" target=\"_parent\"><img src=\"https://colab.research.google.com/assets/colab-badge.svg\" alt=\"Open In Colab\"/></a>"
      ]
    },
    {
      "cell_type": "markdown",
      "metadata": {
        "id": "qMAquoew3eJg"
      },
      "source": [
        "# Workflow\n",
        "\n",
        "This colab aims in labeling the CA data for super spread week, safe week and improvement week as per the 'number of cases' increasing or decreasing every week.\n",
        "\n",
        "Idea: \n",
        "* compute 7 -day moving average\n",
        "* 14 days data compare with next 14 days rolling window\n",
        "* split the % as buckets \n",
        "* label the data as per bucket"
      ]
    },
    {
      "cell_type": "code",
      "metadata": {
        "id": "_UPGHLrf3SHf"
      },
      "source": [
        "from google.colab import drive\n",
        "drive.mount('/content/drive')"
      ],
      "execution_count": null,
      "outputs": []
    },
    {
      "cell_type": "code",
      "metadata": {
        "id": "Mi5n0Qe14UFG"
      },
      "source": [
        "import pandas as pd\n",
        "\n",
        "from tqdm import tqdm\n",
        "import seaborn as sns\n",
        "import numpy as np\n",
        "import matplotlib.pyplot as plt\n",
        "import os\n",
        "from pandas import Series, datetime\n",
        "from pandas.plotting import scatter_matrix, autocorrelation_plot\n",
        "from sklearn.preprocessing import StandardScaler, RobustScaler\n",
        "from sklearn.model_selection import train_test_split, KFold, cross_val_score, GridSearchCV, TimeSeriesSplit\n",
        "from sklearn import metrics\n",
        "from sklearn.metrics import classification_report, confusion_matrix, accuracy_score, mean_squared_error\n",
        "from sklearn.pipeline import Pipeline\n",
        "from sklearn.linear_model import LogisticRegression\n",
        "from sklearn.tree import DecisionTreeClassifier\n",
        "from sklearn.neighbors import KNeighborsClassifier\n",
        "from sklearn.discriminant_analysis import LinearDiscriminantAnalysis\n",
        "from sklearn.naive_bayes import GaussianNB\n",
        "from sklearn.cluster import KMeans\n",
        "from sklearn.svm import SVC\n",
        "from sklearn.ensemble import AdaBoostClassifier, GradientBoostingClassifier, RandomForestClassifier, ExtraTreesClassifier\n",
        "from sklearn.metrics import roc_curve, auc\n",
        "import random\n",
        "from statsmodels.graphics.tsaplots import plot_acf, plot_pacf\n",
        "from statsmodels.tsa.arima_model import ARIMA\n",
        "from xgboost import XGBClassifier\n",
        "from sklearn.mixture import GaussianMixture"
      ],
      "execution_count": null,
      "outputs": []
    },
    {
      "cell_type": "code",
      "metadata": {
        "id": "BPu9_0-04dxZ"
      },
      "source": [
        "os.environ[\"TF_CPP_MIN_LOG_LEVEL\"]=\"2\"\n",
        "import warnings; warnings.simplefilter('ignore')\n"
      ],
      "execution_count": null,
      "outputs": []
    },
    {
      "cell_type": "code",
      "metadata": {
        "id": "umC6l9Q04m-0"
      },
      "source": [
        "!ls  '/content/drive/Shared drives/CMPE 295- Master Project/Covid19-data/'"
      ],
      "execution_count": null,
      "outputs": []
    },
    {
      "cell_type": "markdown",
      "metadata": {
        "id": "tRs8xkjX433D"
      },
      "source": [
        "# 1.1 Loading CA data"
      ]
    },
    {
      "cell_type": "code",
      "metadata": {
        "id": "9uArhfbu43lE"
      },
      "source": [
        "CA_combined_data = pd.read_csv('/content/drive/Shared drives/CMPE 295- Master Project/Covid19-data/CA_combined_Sep25.csv',low_memory=False)\n",
        "CA_combined_data.head()"
      ],
      "execution_count": null,
      "outputs": []
    },
    {
      "cell_type": "markdown",
      "metadata": {
        "id": "l_9OSAtX5wRO"
      },
      "source": [
        "## Computing rolling average"
      ]
    },
    {
      "cell_type": "code",
      "metadata": {
        "id": "ny2Rd-RF6vYk"
      },
      "source": [
        "CA_combined_data.iloc[:,15]"
      ],
      "execution_count": null,
      "outputs": []
    },
    {
      "cell_type": "code",
      "metadata": {
        "id": "xC8CEpDiLiEn"
      },
      "source": [
        "df = pd.DataFrame(columns=['Date','fips_x','County Name','retail and recreation','grocery and pharmacy','parks','transit stations','workplaces','residential','driving','m50','m50_index','population_density','mask_rule_active','mask_wearing_percent','New cases','rolling_avg_new_cases'])\n"
      ],
      "execution_count": null,
      "outputs": []
    },
    {
      "cell_type": "code",
      "metadata": {
        "id": "FWxcf8d0Jmyv"
      },
      "source": [
        "CA_counties = CA_combined_data['County Name'].unique()\n",
        "\n",
        "for county in CA_counties:\n",
        "  county_data = CA_combined_data[CA_combined_data['County Name'] == county]\n",
        "  #print(county_data.iloc[:,15])\n",
        "  county_data['rolling_avg_new_cases'] = county_data.iloc[:,15].rolling(window=7).mean()\n",
        "  df = df.append(county_data)\n",
        "\n",
        "df.head()"
      ],
      "execution_count": null,
      "outputs": []
    },
    {
      "cell_type": "code",
      "metadata": {
        "id": "0JUt8Yi7L9Av"
      },
      "source": [
        "print(df.shape)\n",
        "CA_combined_data.shape"
      ],
      "execution_count": null,
      "outputs": []
    },
    {
      "cell_type": "code",
      "metadata": {
        "id": "w8st06aoMKti"
      },
      "source": [
        "CA_combined_data = df.copy()\n",
        "CA_combined_data"
      ],
      "execution_count": null,
      "outputs": []
    },
    {
      "cell_type": "code",
      "metadata": {
        "id": "YzMFu5wZIB-A"
      },
      "source": [
        "CA_combined_data[CA_combined_data['Date'] == '2020-08-01']"
      ],
      "execution_count": null,
      "outputs": []
    },
    {
      "cell_type": "code",
      "metadata": {
        "id": "L2bE3yeW7BJB"
      },
      "source": [
        "CA_combined_data.head(8)"
      ],
      "execution_count": null,
      "outputs": []
    },
    {
      "cell_type": "markdown",
      "metadata": {
        "id": "Sz-1ySgY7MR-"
      },
      "source": [
        "## clean data - fill NA "
      ]
    },
    {
      "cell_type": "code",
      "metadata": {
        "id": "dnyUpG0B7QkI"
      },
      "source": [
        "CA_combined_data = CA_combined_data.fillna(0)\n",
        "CA_combined_data.head(8)"
      ],
      "execution_count": null,
      "outputs": []
    },
    {
      "cell_type": "code",
      "metadata": {
        "id": "qseoizcDL1by"
      },
      "source": [
        "CA_combined_data['County Name'].unique()"
      ],
      "execution_count": null,
      "outputs": []
    },
    {
      "cell_type": "markdown",
      "metadata": {
        "id": "LobDpGCFMAbM"
      },
      "source": [
        "## verifying Rolling average with visualizations -Los Angeles County"
      ]
    },
    {
      "cell_type": "code",
      "metadata": {
        "id": "CF3t0D6jL-53"
      },
      "source": [
        "los_angeles_county = CA_combined_data[CA_combined_data['County Name'] == 'Los Angeles County']\n",
        "print(los_angeles_county.shape)\n",
        "los_angeles_county.head()"
      ],
      "execution_count": null,
      "outputs": []
    },
    {
      "cell_type": "code",
      "metadata": {
        "id": "_4cRjK3A59GK"
      },
      "source": [
        "fig,ax = plt.subplots()\n",
        "# make a plot\n",
        "ax.plot(los_angeles_county.Date, los_angeles_county['rolling_avg_new_cases'], color=\"blue\")\n",
        "# set x-axis label\n",
        "ax.set_xlabel(\"Date\",fontsize=14)\n",
        "# set y-axis label\n",
        "ax.set_ylabel(\"rolling_avg_new_cases\",color=\"blue\",fontsize=14)\n",
        "ax2=ax.twinx()\n",
        "# make a plot with different y-axis using second axis object\n",
        "ax2.plot(los_angeles_county.Date, los_angeles_county[\"New cases\"],color=\"red\")\n",
        "ax2.set_ylabel(\"New cases\",color=\"blue\",fontsize=14)\n",
        "plt.title(\"'rolling_avg_new_cases' Vs New cases\")\n",
        "\n",
        "plt.show()"
      ],
      "execution_count": null,
      "outputs": []
    },
    {
      "cell_type": "code",
      "metadata": {
        "id": "EtNJP7fdLDu0"
      },
      "source": [
        "suffolk_county = CA_combined_data[CA_combined_data['County Name'] == 'Santa Clara County']"
      ],
      "execution_count": null,
      "outputs": []
    },
    {
      "cell_type": "code",
      "metadata": {
        "id": "fo3Jw_0cLDTD"
      },
      "source": [
        "fig,ax = plt.subplots()\n",
        "# make a plot\n",
        "ax.plot(suffolk_county.Date, suffolk_county['rolling_avg_new_cases'], color=\"blue\")\n",
        "# set x-axis label\n",
        "ax.set_xlabel(\"Date\",fontsize=14)\n",
        "# set y-axis label\n",
        "ax.set_ylabel(\"rolling_avg_new_cases\",color=\"blue\",fontsize=14)\n",
        "ax2=ax.twinx()\n",
        "# make a plot with different y-axis using second axis object\n",
        "ax2.plot(suffolk_county.Date, suffolk_county[\"New cases\"],color=\"red\")\n",
        "ax2.set_ylabel(\"New cases\",color=\"blue\",fontsize=14)\n",
        "plt.title(\"'rolling_avg_new_cases' Vs New cases\")\n",
        "\n",
        "plt.show()"
      ],
      "execution_count": null,
      "outputs": []
    },
    {
      "cell_type": "markdown",
      "metadata": {
        "id": "Qcx8HY6Z7bZ2"
      },
      "source": [
        "## Rolling window to compare every 2 weeks with next 2 weeks"
      ]
    },
    {
      "cell_type": "code",
      "metadata": {
        "id": "iGRvUuNGAKng"
      },
      "source": [
        "CA_combined_data = CA_combined_data.sort_values(by=['Date'])\n",
        "CA_combined_data.head()"
      ],
      "execution_count": null,
      "outputs": []
    },
    {
      "cell_type": "code",
      "metadata": {
        "id": "mx9hnOv70gtW"
      },
      "source": [
        "CA_combined_data[CA_combined_data['fips_x'] == 6037]"
      ],
      "execution_count": null,
      "outputs": []
    },
    {
      "cell_type": "code",
      "metadata": {
        "id": "EFPKWovX-fM5"
      },
      "source": [
        "minDate = CA_combined_data['Date'].min()\n",
        "print(minDate)\n",
        "\n",
        "dateList = CA_combined_data['Date'].unique()"
      ],
      "execution_count": null,
      "outputs": []
    },
    {
      "cell_type": "code",
      "metadata": {
        "id": "tFwnKPlk7mAQ"
      },
      "source": [
        "import datetime\n",
        "\n",
        "#dt_object = datetime.fromtimestamp(date)\n",
        "day_name= ['Monday', 'Tuesday', 'Wednesday', 'Thursday', 'Friday', 'Saturday','Sunday']\n",
        "\n",
        "day = datetime.datetime.strptime(minDate, '%Y-%m-%d').weekday()\n",
        "if day == 6:\n",
        "  day =0\n",
        "elif day < 6:\n",
        "  day += 1\n",
        "\n",
        "print(day)"
      ],
      "execution_count": null,
      "outputs": []
    },
    {
      "cell_type": "code",
      "metadata": {
        "id": "sXf9Zgbq7l2a"
      },
      "source": [
        "index = 0\n",
        "count = 0\n",
        "lst = []\n",
        "while index < len(dateList):\n",
        "  row = []\n",
        "  j = 14 - day;\n",
        "  # print(index,j)\n",
        "  # print(dateList[index:index+j])\n",
        "  weekRange = dateList[index:index+j]\n",
        "  #print(weekRange)\n",
        "  index = index+j \n",
        "  day = 0\n",
        "  count +=1\n",
        "  row.append(count)\n",
        "  row.append(weekRange.min())\n",
        "  row.append(weekRange.max())\n",
        "  print(row)\n",
        "  lst.append(row)\n",
        "  \n"
      ],
      "execution_count": null,
      "outputs": []
    },
    {
      "cell_type": "code",
      "metadata": {
        "id": "2_v44RrL_e4e"
      },
      "source": [
        "week_df = pd.DataFrame(lst,index=None,columns=['WeekNumber','startDate','endDate'])\n",
        "week_df.head()"
      ],
      "execution_count": null,
      "outputs": []
    },
    {
      "cell_type": "markdown",
      "metadata": {
        "id": "Csz6g-NvBoBT"
      },
      "source": [
        "## Slice data for the week dataframe"
      ]
    },
    {
      "cell_type": "code",
      "metadata": {
        "id": "HhY1u2IVEzYm"
      },
      "source": [
        "\n",
        "average_newCases_df = pd.DataFrame(columns=['County Name',  'fips_x',  'average_per_week','startDate','endDate'])\n",
        "\n",
        "for index, row in week_df.iterrows():\n",
        "    startDate, endDate = row['startDate'], row['endDate']\n",
        "    df_index = (CA_combined_data['Date'] >= startDate) & (CA_combined_data['Date'] <= endDate)\n",
        "    df_weekData =  CA_combined_data.loc[df_index]\n",
        "    df_base = (\n",
        "      df_weekData\n",
        "      .pipe(lambda x: x.assign(gains_pctg=x[\"rolling_avg_new_cases\"]))\n",
        "      .groupby(['County Name','fips_x'])\n",
        "      .agg({\"gains_pctg\": \"mean\"})\n",
        "      .reset_index()\n",
        "      .rename(columns={\"gains_pctg\": \"average_per_week\"})\n",
        "    )\n",
        "    df_base['startDate'] = startDate\n",
        "    df_base['endDate'] = endDate\n",
        "  \n",
        "    #print(startDate,endDate,df_base['average_per_week'])\n",
        "    average_newCases_df = average_newCases_df.append(df_base)\n"
      ],
      "execution_count": null,
      "outputs": []
    },
    {
      "cell_type": "code",
      "metadata": {
        "id": "RZrr8I3DNa_J"
      },
      "source": [
        "average_newCases_df.shape"
      ],
      "execution_count": null,
      "outputs": []
    },
    {
      "cell_type": "code",
      "metadata": {
        "id": "Gxc7bIt_xQpF"
      },
      "source": [
        "average_newCases_df[average_newCases_df['fips_x'] == 6037]"
      ],
      "execution_count": null,
      "outputs": []
    },
    {
      "cell_type": "markdown",
      "metadata": {
        "id": "CgXxxD4vNsE9"
      },
      "source": [
        "## Verifying average per week data Eg., Los Angeles County"
      ]
    },
    {
      "cell_type": "code",
      "metadata": {
        "id": "3NdJAIRzNvt8"
      },
      "source": [
        "los_angeles_county[(los_angeles_county['Date'] >= '2020-03-01') & (los_angeles_county['Date'] <= '2020-03-14') ]['rolling_avg_new_cases']\n",
        "\n"
      ],
      "execution_count": null,
      "outputs": []
    },
    {
      "cell_type": "code",
      "metadata": {
        "id": "quHotP0Istvk"
      },
      "source": [
        "average_newCases_df.head(10)"
      ],
      "execution_count": null,
      "outputs": []
    },
    {
      "cell_type": "markdown",
      "metadata": {
        "id": "GCBzR7f8tYEt"
      },
      "source": [
        "## Finding the % growth or reduction in 'new cases' on every 2 week average"
      ]
    },
    {
      "cell_type": "code",
      "metadata": {
        "id": "STaI0DIctu5o"
      },
      "source": [
        "average_newCases_df_ = average_newCases_df.copy()"
      ],
      "execution_count": null,
      "outputs": []
    },
    {
      "cell_type": "code",
      "metadata": {
        "id": "b7LycDlnOYhs"
      },
      "source": [
        "albany_avg_newCases = average_newCases_df[average_newCases_df['County Name'] == 'Los Angeles County']\n",
        "albany_avg_newCases"
      ],
      "execution_count": null,
      "outputs": []
    },
    {
      "cell_type": "code",
      "metadata": {
        "id": "28sIpvLbtYbY"
      },
      "source": [
        "# average_newCases_df = average_newCases_df.sort_values(by=['startDate','endDate'])\n",
        "\n",
        "# print(average_newCases_df.shape)\n",
        "# temp = average_newCases_df.groupby(['County Name','fips_x','startDate','endDate'])['average_per_week']\n",
        "# temp = temp.sum().diff().reset_index()\n",
        "# print(\"-------------\")\n",
        "# print(temp)\n",
        "# print(temp.shape)\n",
        "\n",
        "# average_newCases_df2 = average_newCases_df.merge(temp,on=['County Name','fips_x','startDate','endDate'])\n",
        "# print(average_newCases_df2.shape)"
      ],
      "execution_count": null,
      "outputs": []
    },
    {
      "cell_type": "code",
      "metadata": {
        "id": "xZEGXxJeDas1"
      },
      "source": [
        "average_newCases_df.head()"
      ],
      "execution_count": null,
      "outputs": []
    },
    {
      "cell_type": "code",
      "metadata": {
        "id": "3NnvBzuWEG2q"
      },
      "source": [
        "# average_newCases_df = average_newCases_df.sort_values(by=['startDate','endDate'])\n",
        "\n",
        "# print(average_newCases_df.shape)\n",
        "# temp = average_newCases_df.groupby(['County Name','fips_x','startDate','endDate'])['average_per_week']\n",
        "# temp = temp.sum().diff().reset_index()\n",
        "# print(\"-------------\")\n",
        "# print(temp)\n",
        "# print(temp.shape)\n",
        "\n",
        "# average_newCases_df2 = average_newCases_df.merge(temp,on=['County Name','fips_x','startDate','endDate'])\n",
        "# print(average_newCases_df2.shape)"
      ],
      "execution_count": null,
      "outputs": []
    },
    {
      "cell_type": "code",
      "metadata": {
        "id": "8FRbXmBoHlCM"
      },
      "source": [
        "average_newCases_df2 = average_newCases_df.copy()\n",
        "\n",
        "average_newCases_df2 = average_newCases_df2.reset_index(drop=True)\n",
        "average_newCases_df2.head()"
      ],
      "execution_count": null,
      "outputs": []
    },
    {
      "cell_type": "code",
      "metadata": {
        "id": "rmPztsYYDSKJ"
      },
      "source": [
        "average_newCases_df2['diff_avg_x'] = average_newCases_df2.sort_values(['startDate','endDate']).groupby(['County Name', 'fips_x'])['average_per_week'].diff().fillna(0)\n",
        "\n",
        "print(average_newCases_df2.shape)\n",
        "average_newCases_df2.head()\n"
      ],
      "execution_count": null,
      "outputs": []
    },
    {
      "cell_type": "code",
      "metadata": {
        "id": "klc9CwxhHXIn"
      },
      "source": [
        "average_newCases_df2[average_newCases_df2['County Name'] == 'Santa Clara County']"
      ],
      "execution_count": null,
      "outputs": []
    },
    {
      "cell_type": "code",
      "metadata": {
        "id": "VENF-VRSOpBY"
      },
      "source": [
        "average_newCases_df2[average_newCases_df2['County Name'] == 'Alameda County']"
      ],
      "execution_count": null,
      "outputs": []
    },
    {
      "cell_type": "code",
      "metadata": {
        "id": "a0OWsIoDxbrS"
      },
      "source": [
        "average_newCases_df2[average_newCases_df2['fips_x'] == 6037].head(5)"
      ],
      "execution_count": null,
      "outputs": []
    },
    {
      "cell_type": "code",
      "metadata": {
        "id": "BGjjdDVzv0iB"
      },
      "source": [
        "average_newCases_df2.head()"
      ],
      "execution_count": null,
      "outputs": []
    },
    {
      "cell_type": "code",
      "metadata": {
        "id": "CBmjNsOOv4Bc"
      },
      "source": [
        "average_newCases_df2 = average_newCases_df2.fillna(0)"
      ],
      "execution_count": null,
      "outputs": []
    },
    {
      "cell_type": "code",
      "metadata": {
        "id": "p2QGJ-s3v6-f"
      },
      "source": [
        "average_newCases_df2.head()"
      ],
      "execution_count": null,
      "outputs": []
    },
    {
      "cell_type": "code",
      "metadata": {
        "id": "KomHadrGYd01"
      },
      "source": [
        "#not working\n",
        "#average_newCases_df2['pct_change_newcases'] = average_newCases_df2.sort_values(['startDate','endDate']).groupby(['County Name', 'fips_x','startDate','endDate']).average_per_week_y.pct_change()"
      ],
      "execution_count": null,
      "outputs": []
    },
    {
      "cell_type": "markdown",
      "metadata": {
        "id": "SAgjy14mkQ5h"
      },
      "source": [
        "Shifting average_per_week_x\t column value for formula. Means previous row's value will be come to the current row."
      ]
    },
    {
      "cell_type": "code",
      "metadata": {
        "id": "qTS6lOxegQVH"
      },
      "source": [
        "average_newCases_df2['shift_avg_x'] = average_newCases_df2.sort_values(['startDate','endDate']).groupby(['County Name', 'fips_x'])['average_per_week'].shift()"
      ],
      "execution_count": null,
      "outputs": []
    },
    {
      "cell_type": "code",
      "metadata": {
        "id": "i8Tk5tMCZlDY"
      },
      "source": [
        "average_newCases_df2.groupby(by=['County Name', 'fips_x','startDate','endDate']).sum()"
      ],
      "execution_count": null,
      "outputs": []
    },
    {
      "cell_type": "code",
      "metadata": {
        "id": "NyE08elJ_WzM"
      },
      "source": [
        "average_newCases_df2[average_newCases_df2['County Name'] == 'Los Angeles County']"
      ],
      "execution_count": null,
      "outputs": []
    },
    {
      "cell_type": "code",
      "metadata": {
        "id": "j5Z4bIspwE2c"
      },
      "source": [
        "average_newCases_df2['percent_newcases'] = average_newCases_df2.apply(lambda x: (x.diff_avg_x) / x.shift_avg_x if x.shift_avg_x > 0.0 else 0 , axis=1)\n",
        "\n",
        "\n",
        "average_newCases_df2.tail()\n"
      ],
      "execution_count": null,
      "outputs": []
    },
    {
      "cell_type": "code",
      "metadata": {
        "id": "Ee6qZiyqAF1z"
      },
      "source": [
        "average_newCases_df2[average_newCases_df2['County Name'] == 'Los Angeles County']"
      ],
      "execution_count": null,
      "outputs": []
    },
    {
      "cell_type": "markdown",
      "metadata": {
        "id": "wzm1F8eZJYLj"
      },
      "source": [
        "# 1.2 Labeling data as per % change"
      ]
    },
    {
      "cell_type": "markdown",
      "metadata": {
        "id": "-NZo1sZC6ZI0"
      },
      "source": [
        "## Validation"
      ]
    },
    {
      "cell_type": "code",
      "metadata": {
        "id": "WRaSsCyV5q2n"
      },
      "source": [
        "test_ca_combined = average_newCases_df2.copy()"
      ],
      "execution_count": null,
      "outputs": []
    },
    {
      "cell_type": "code",
      "metadata": {
        "id": "JA16tdLK6d40"
      },
      "source": [
        "test_ca_combined[(test_ca_combined['fips_x']== 6001) & (test_ca_combined['startDate']=='2020-08-18')]"
      ],
      "execution_count": null,
      "outputs": []
    },
    {
      "cell_type": "markdown",
      "metadata": {
        "id": "0MgfQmJj6e7B"
      },
      "source": [
        "## Actual Work"
      ]
    },
    {
      "cell_type": "code",
      "metadata": {
        "id": "oXCqAaH7Jalh"
      },
      "source": [
        "average_newCases_df2.describe()"
      ],
      "execution_count": null,
      "outputs": []
    },
    {
      "cell_type": "code",
      "metadata": {
        "id": "OAVQINmwKAvv"
      },
      "source": [
        "los_angeles_county = average_newCases_df2[average_newCases_df2['County Name'] == 'Los Angeles County']"
      ],
      "execution_count": null,
      "outputs": []
    },
    {
      "cell_type": "code",
      "metadata": {
        "id": "9IN8UI7rJ84S"
      },
      "source": [
        "fig,ax = plt.subplots()\n",
        "# make a plot\n",
        "ax.plot(los_angeles_county.startDate, los_angeles_county['percent_newcases'], color=\"blue\")\n",
        "# set x-axis label\n",
        "ax.set_xlabel(\"Date\",fontsize=14)\n",
        "# set y-axis label\n",
        "ax.set_ylabel(\"percent_newcases\",color=\"blue\",fontsize=14)\n",
        "# ax2=ax.twinx()\n",
        "# make a plot with different y-axis using second axis object\n",
        "# ax2.plot(los_angeles_county.startDate, los_angeles_county[\"percent_newcases\"],color=\"red\")\n",
        "# ax2.set_ylabel(\"New cases\",color=\"blue\",fontsize=14)\n",
        "plt.title(\"'percent_newcases'\")\n",
        "\n",
        "plt.show()"
      ],
      "execution_count": null,
      "outputs": []
    },
    {
      "cell_type": "code",
      "metadata": {
        "id": "QJigbxTTMjaQ"
      },
      "source": [
        "data = average_newCases_df2['percent_newcases'].to_list()\n",
        "\n",
        "print(data)\n"
      ],
      "execution_count": null,
      "outputs": []
    },
    {
      "cell_type": "code",
      "metadata": {
        "id": "1sUx5q6q2S3H"
      },
      "source": [
        "average_newCases_df3 = average_newCases_df2.copy().reset_index(drop=True)"
      ],
      "execution_count": null,
      "outputs": []
    },
    {
      "cell_type": "code",
      "metadata": {
        "id": "y14R6vvrnCEK"
      },
      "source": [
        "average_newCases_df3.head()"
      ],
      "execution_count": null,
      "outputs": []
    },
    {
      "cell_type": "code",
      "metadata": {
        "id": "w13k5l2knDjR"
      },
      "source": [
        "new_cases_list = average_newCases_df2['percent_newcases'].values"
      ],
      "execution_count": null,
      "outputs": []
    },
    {
      "cell_type": "markdown",
      "metadata": {
        "id": "suVgzsVPsY_R"
      },
      "source": [
        "## Determining growth label for covid cases"
      ]
    },
    {
      "cell_type": "markdown",
      "metadata": {
        "id": "Y6frSauBsjw9"
      },
      "source": [
        "#### Getting diff array"
      ]
    },
    {
      "cell_type": "code",
      "metadata": {
        "id": "-2b_CuPDLa_j"
      },
      "source": [
        "len(new_cases_list)"
      ],
      "execution_count": null,
      "outputs": []
    },
    {
      "cell_type": "code",
      "metadata": {
        "id": "1hImojxxnHnm"
      },
      "source": [
        "diffArr = np.diff(new_cases_list)\n",
        "print(len(diffArr))\n",
        "diffArr[0]"
      ],
      "execution_count": null,
      "outputs": []
    },
    {
      "cell_type": "code",
      "metadata": {
        "id": "bofl0PevMO7R"
      },
      "source": [
        "growth_values =[]\n",
        "growth_values.append(0.0) # making first value as 0, as np.diff leaves first values as NA\n",
        "print('growth_values : ',len(growth_values))\n",
        "growth_values.extend(diffArr)\n",
        "print('growth_values : ',len(growth_values))\n"
      ],
      "execution_count": null,
      "outputs": []
    },
    {
      "cell_type": "code",
      "metadata": {
        "id": "A3zmGu9TMi1v"
      },
      "source": [
        "len(growth_values)"
      ],
      "execution_count": null,
      "outputs": []
    },
    {
      "cell_type": "code",
      "metadata": {
        "id": "ggJbovdTLoFR"
      },
      "source": [
        "average_newCases_df2['growth_per_day'] = growth_values"
      ],
      "execution_count": null,
      "outputs": []
    },
    {
      "cell_type": "code",
      "metadata": {
        "id": "KzSF_fvWNg4i"
      },
      "source": [
        "average_newCases_df2.dtypes"
      ],
      "execution_count": null,
      "outputs": []
    },
    {
      "cell_type": "markdown",
      "metadata": {
        "id": "Ie9m4exUNguL"
      },
      "source": [
        "### Checking mean, std dev and variance for growth data"
      ]
    },
    {
      "cell_type": "code",
      "metadata": {
        "id": "87jvwDpfnOmC"
      },
      "source": [
        "stdDev = np.std(diffArr)\n",
        "variance = np.var(diffArr)\n",
        "mean = np.mean(diffArr)\n",
        "min = np.min(diffArr)\n",
        "max = np.max(diffArr)\n",
        "\n",
        "\n",
        "print(\"min \",min)\n",
        "print(\"max \",max)\n",
        "\n",
        "print(\"mean \",mean)\n",
        "print(\"std. deviation \",stdDev)\n",
        "print(\"variance \",variance)"
      ],
      "execution_count": null,
      "outputs": []
    },
    {
      "cell_type": "markdown",
      "metadata": {
        "id": "rPy3c2fesmmg"
      },
      "source": [
        "#### Getting positive cases"
      ]
    },
    {
      "cell_type": "code",
      "metadata": {
        "id": "R45efxCNnnSZ"
      },
      "source": [
        "print('length diffArr: ',len(diffArr))\n",
        "\n",
        "non_zero_pos_diff = []\n",
        "\n",
        "for i in diffArr:\n",
        "  if i > 0:\n",
        "    non_zero_pos_diff.append(i)\n",
        "\n",
        "print('non_zero_pos_diff length: ',len(non_zero_pos_diff))"
      ],
      "execution_count": null,
      "outputs": []
    },
    {
      "cell_type": "code",
      "metadata": {
        "id": "8uGOAwOHooyW"
      },
      "source": [
        "stdDev = np.std(non_zero_pos_diff)\n",
        "variance = np.var(non_zero_pos_diff)\n",
        "mean = np.mean(non_zero_pos_diff)\n",
        "min = np.min(non_zero_pos_diff)\n",
        "max = np.max(non_zero_pos_diff)\n",
        "\n",
        "\n",
        "print(\"min \",min)\n",
        "print(\"max \",max)\n",
        "\n",
        "print(\"mean \",mean)\n",
        "print(\"std. deviation \",stdDev)\n",
        "print(\"variance \",variance)"
      ],
      "execution_count": null,
      "outputs": []
    },
    {
      "cell_type": "markdown",
      "metadata": {
        "id": "dKu_JZjksraa"
      },
      "source": [
        "#### Getting negative cases"
      ]
    },
    {
      "cell_type": "code",
      "metadata": {
        "id": "SSDotPCTrFp8"
      },
      "source": [
        "print('length diffArr: ',len(diffArr))\n",
        "\n",
        "non_zero_neg_diff = []\n",
        "\n",
        "for i in diffArr:\n",
        "  if i < 0:\n",
        "    non_zero_neg_diff.append(i)\n",
        "print(\"non_zero_neg_diff length : \",len(non_zero_neg_diff))\n"
      ],
      "execution_count": null,
      "outputs": []
    },
    {
      "cell_type": "code",
      "metadata": {
        "id": "rZLSYL2ErPLg"
      },
      "source": [
        "stdDev = np.std(non_zero_neg_diff)\n",
        "variance = np.var(non_zero_neg_diff)\n",
        "mean = np.mean(non_zero_neg_diff)\n",
        "min = np.min(non_zero_neg_diff)\n",
        "max = np.max(non_zero_neg_diff)\n",
        "\n",
        "\n",
        "print(\"min \",min)\n",
        "print(\"max \",max)\n",
        "\n",
        "print(\"mean \",mean)\n",
        "print(\"std. deviation \",stdDev)\n",
        "print(\"variance \",variance)"
      ],
      "execution_count": null,
      "outputs": []
    },
    {
      "cell_type": "markdown",
      "metadata": {
        "id": "mQRdJ745rodL"
      },
      "source": [
        "### Trying natural breaks"
      ]
    },
    {
      "cell_type": "code",
      "metadata": {
        "id": "2sF_7a0JS-V-"
      },
      "source": [
        "!pip install jenkspy\n"
      ],
      "execution_count": null,
      "outputs": []
    },
    {
      "cell_type": "code",
      "metadata": {
        "id": "zJRm1D4trtxz"
      },
      "source": [
        "import jenkspy"
      ],
      "execution_count": null,
      "outputs": []
    },
    {
      "cell_type": "code",
      "metadata": {
        "id": "nVosTAisroJc"
      },
      "source": [
        "pos_breaks = jenkspy.jenks_breaks(non_zero_pos_diff, nb_class=2)\n",
        "print(pos_breaks)\n",
        "neg_breaks = jenkspy.jenks_breaks(non_zero_neg_diff, nb_class=2)\n",
        "print(neg_breaks)"
      ],
      "execution_count": null,
      "outputs": []
    },
    {
      "cell_type": "markdown",
      "metadata": {
        "id": "smFQZ2vXKIZh"
      },
      "source": [
        "##### **Note**: \n",
        "From the positive and negative break, \n",
        "* [ -0.012359, 0.000374 ] - flat growth\n",
        "* [ 0.000374, 21.813186 ] - mild growth\n",
        "* [ 21.813186, 95.421053 ] - drastic growth\n",
        "* [ -0.012359, -21.813186 ] - mild decrement\n",
        "* [ -21.813186, -95.421053 ] - drastic decrement"
      ]
    },
    {
      "cell_type": "code",
      "metadata": {
        "id": "r0dbfo4qO7TO"
      },
      "source": [
        "# original range for CA combined data\n",
        "\n",
        "'''\n",
        "def determine_growth_label(x):\n",
        "  if x >= -0.012359 and x <= 0.000374:\n",
        "    return 'flat_growth'\n",
        "  if x > 0.000374 and x <= 21.813186:\n",
        "    return 'mild_growth'\n",
        "  if x > 21.813186 and x <= 95.421053:\n",
        "    return 'drastic_growth'\n",
        "  if x >= -21.813186  and x <= -0.012359:\n",
        "    return 'mild_decrement'\n",
        "  if x >= -95.421053 and x < -21.813186:\n",
        "    return 'drastic_decrement'\n",
        "'''\n"
      ],
      "execution_count": null,
      "outputs": []
    },
    {
      "cell_type": "code",
      "metadata": {
        "id": "CyPxf5FUBN6W"
      },
      "source": [
        "# temporarily using NY combined data range for CA\n",
        "def determine_growth_label(x):\n",
        "  if x >= -0.002109 and x <= 0.00011:\n",
        "    return 'flat_growth'\n",
        "  if x > 0.00011 and x <= 39.5:\n",
        "    return 'mild_growth'\n",
        "  if x > 39.5 and x <= 410.1818:\n",
        "    return 'drastic_growth'\n",
        "  if x >= -39.5  and x <= -0.0021:\n",
        "    return 'mild_decrement'\n",
        "  if x >= -410.18 and x < -39.5:\n",
        "    return 'drastic_decrement'"
      ],
      "execution_count": null,
      "outputs": []
    },
    {
      "cell_type": "code",
      "metadata": {
        "id": "DSpPz5ouLV7F"
      },
      "source": [
        "average_newCases_df2['growth_label'] = average_newCases_df2['growth_per_day'].apply(lambda x: determine_growth_label(x) )"
      ],
      "execution_count": null,
      "outputs": []
    },
    {
      "cell_type": "code",
      "metadata": {
        "id": "SWM4TD1xQIU2"
      },
      "source": [
        "average_newCases_df2.head()"
      ],
      "execution_count": null,
      "outputs": []
    },
    {
      "cell_type": "code",
      "metadata": {
        "id": "ttzhPSknEvVY"
      },
      "source": [
        "average_newCases_df2_growth0 = average_newCases_df2[average_newCases_df2['growth_label'] == 'drastic_decrement']\n",
        "average_newCases_df2_growth1 = average_newCases_df2[average_newCases_df2['growth_label'] == 'drastic_growth']\n",
        "average_newCases_df2_growth2 = average_newCases_df2[average_newCases_df2['growth_label'] == 'flat_growth']\n",
        "average_newCases_df2_growth3 = average_newCases_df2[average_newCases_df2['growth_label'] == 'mild_decrement']\n",
        "average_newCases_df2_growth4 = average_newCases_df2[average_newCases_df2['growth_label'] == 'mild_growth']\n",
        "\n",
        "print(average_newCases_df2_growth0.shape)\n",
        "print(average_newCases_df2_growth1.shape)\n",
        "print(average_newCases_df2_growth2.shape)\n",
        "print(average_newCases_df2_growth3.shape)\n",
        "print(average_newCases_df2_growth4.shape)"
      ],
      "execution_count": null,
      "outputs": []
    },
    {
      "cell_type": "markdown",
      "metadata": {
        "id": "ULGk6w4CShh5"
      },
      "source": [
        "## Jenks Natural breaks "
      ]
    },
    {
      "cell_type": "code",
      "metadata": {
        "id": "MwVDiwoYVV10"
      },
      "source": [
        "breaks = jenkspy.jenks_breaks(average_newCases_df2['percent_newcases'], nb_class=3)\n",
        "print(breaks)"
      ],
      "execution_count": null,
      "outputs": []
    },
    {
      "cell_type": "code",
      "metadata": {
        "id": "eqIJ2utVr6Wl"
      },
      "source": [
        "breaks = jenkspy.jenks_breaks(average_newCases_df2['percent_newcases'], nb_class=8)\n",
        "print(breaks)"
      ],
      "execution_count": null,
      "outputs": []
    },
    {
      "cell_type": "markdown",
      "metadata": {
        "id": "0Ulmo-y1WSGr"
      },
      "source": [
        "### Labeling criteria\n",
        "\n",
        "We have applied \"jenks Natural breaks' to label the county data as per 'percent change in cases'\n",
        "\n",
        "From the natural break algorithm, we have splited the data as follows \n",
        "\n",
        "* -1.136 to 3.642 is **label 1** (least chance of spreading) \n",
        "\n",
        "* 3.642 to 13.625 is **label 2** (Below threshold but chances to reach super spread level)\n",
        "\n",
        "* 13.625 to 410.181818 is **label 3** (Super spread week)"
      ]
    },
    {
      "cell_type": "code",
      "metadata": {
        "id": "L6DpanhdVp_W"
      },
      "source": [
        "average_newCases_df2['labels'] = pd.cut(average_newCases_df2['percent_newcases'],\n",
        "                        bins=breaks,\n",
        "                        labels=['LessSpread','Spread', 'SuperSpread1','SuperSpread2','SuperSpread3','SuperSpread4','SuperSpread5','SuperSpread6'])"
      ],
      "execution_count": null,
      "outputs": []
    },
    {
      "cell_type": "code",
      "metadata": {
        "id": "lK9bMtBQVqlb"
      },
      "source": [
        "print('Number of records in LessSpread:',average_newCases_df2[average_newCases_df2['labels'] == 'LessSpread']['County Name'].count())\n",
        "print('Number of records in Spread:',average_newCases_df2[average_newCases_df2['labels'] == 'Spread']['County Name'].count())\n",
        "print('Number of records in SuperSpread:',average_newCases_df2[average_newCases_df2['labels'] == 'SuperSpread1']['County Name'].count())\n",
        "print('Number of records in SuperSpread2:',average_newCases_df2[average_newCases_df2['labels'] == 'SuperSpread2']['County Name'].count())\n",
        "\n",
        "\n",
        "print('Number of records in SuperSpread3:',average_newCases_df2[average_newCases_df2['labels'] == 'SuperSpread3']['County Name'].count())\n",
        "\n",
        "print('Number of records in SuperSpread4:',average_newCases_df2[average_newCases_df2['labels'] == 'SuperSpread4']['County Name'].count())\n",
        "\n",
        "print('Number of records in SuperSpread5:',average_newCases_df2[average_newCases_df2['labels'] == 'SuperSpread5']['County Name'].count())\n",
        "\n",
        "print('Number of records in SuperSpread6:',average_newCases_df2[average_newCases_df2['labels'] == 'SuperSpread6']['County Name'].count())\n",
        "\n",
        "\n"
      ],
      "execution_count": null,
      "outputs": []
    },
    {
      "cell_type": "code",
      "metadata": {
        "id": "PJfBG526B2XI"
      },
      "source": [
        "import jenkspy\n",
        "\n",
        "breaks = jenkspy.jenks_breaks(average_newCases_df2['percent_newcases'], nb_class=4)\n",
        "print(breaks)"
      ],
      "execution_count": null,
      "outputs": []
    },
    {
      "cell_type": "code",
      "metadata": {
        "id": "3Qo3AI_MBTXN"
      },
      "source": [
        "average_newCases_df2['labels'] = pd.cut(average_newCases_df2['percent_newcases'],\n",
        "                        bins=breaks,\n",
        "                        labels=['LessSpread','Spread', 'SuperSpread','SuperSpread2'])"
      ],
      "execution_count": null,
      "outputs": []
    },
    {
      "cell_type": "code",
      "metadata": {
        "id": "4ok4fwGdBawB"
      },
      "source": [
        "print('Number of records in LessSpread:',average_newCases_df2[average_newCases_df2['labels'] == 'LessSpread']['County Name'].count())\n",
        "print('Number of records in Spread:',average_newCases_df2[average_newCases_df2['labels'] == 'Spread']['County Name'].count())\n",
        "print('Number of records in SuperSpread:',average_newCases_df2[average_newCases_df2['labels'] == 'SuperSpread']['County Name'].count())\n",
        "\n",
        "print('Number of records in SuperSpread:',average_newCases_df2[average_newCases_df2['labels'] == 'SuperSpread2']['County Name'].count())"
      ],
      "execution_count": null,
      "outputs": []
    },
    {
      "cell_type": "code",
      "metadata": {
        "id": "TwgkrzkQa2c9"
      },
      "source": [
        "average_newCases_df2.head()"
      ],
      "execution_count": null,
      "outputs": []
    },
    {
      "cell_type": "markdown",
      "metadata": {
        "id": "kwYv-bCaaqa3"
      },
      "source": [
        "# 1.3 Labeling data for CA combined"
      ]
    },
    {
      "cell_type": "code",
      "metadata": {
        "id": "ljkRfq8q4z6E"
      },
      "source": [
        "CA_combined_data.head(2)"
      ],
      "execution_count": null,
      "outputs": []
    },
    {
      "cell_type": "code",
      "metadata": {
        "id": "8oG2cBAVcbKc"
      },
      "source": [
        "CA_combined_data_ = CA_combined_data.copy()"
      ],
      "execution_count": null,
      "outputs": []
    },
    {
      "cell_type": "code",
      "metadata": {
        "id": "pqyjzzsMc5HS"
      },
      "source": [
        "CA_combined_data = CA_combined_data_.copy().reset_index(drop=True)"
      ],
      "execution_count": null,
      "outputs": []
    },
    {
      "cell_type": "code",
      "metadata": {
        "id": "TZ5NhI_pa0N9"
      },
      "source": [
        "#average_newCases_df = pd.DataFrame(columns=['County Name',  'fips_x',  'average_per_week','startDate','endDate'])\n",
        "\n",
        "for index, row in (average_newCases_df2.iterrows()):\n",
        "    startDate, endDate = row['startDate'], row['endDate']\n",
        "    fips = row['fips_x']\n",
        "    #print(startDate,endDate,fips)\n",
        "    df_index = (CA_combined_data['fips_x'] == row['fips_x']) & (CA_combined_data['Date'] >= startDate) & (CA_combined_data['Date'] <= endDate)\n",
        "    df_weekData =  CA_combined_data.loc[df_index]\n",
        "    #print(df_weekData)\n",
        "    CA_combined_data.loc[df_index,'label'] = row['labels']\n",
        "    CA_combined_data.loc[df_index,'growth_label'] = row['growth_label']\n",
        "\n",
        "\n"
      ],
      "execution_count": null,
      "outputs": []
    },
    {
      "cell_type": "code",
      "metadata": {
        "id": "s3fECDK8a0BE"
      },
      "source": [
        "CA_combined_data.head()"
      ],
      "execution_count": null,
      "outputs": []
    },
    {
      "cell_type": "code",
      "metadata": {
        "id": "mnhkDNKndBxo"
      },
      "source": [
        "CA_combined_data[CA_combined_data['label'] == 'SuperSpread2'].sort_values(by=['fips_x','Date']).count()"
      ],
      "execution_count": null,
      "outputs": []
    },
    {
      "cell_type": "code",
      "metadata": {
        "id": "BLZRQtP2DI4d"
      },
      "source": [
        "CA_combined_data.shape"
      ],
      "execution_count": null,
      "outputs": []
    },
    {
      "cell_type": "code",
      "metadata": {
        "id": "fR-muTmNC98a"
      },
      "source": [
        "CA_combined_data['label'] = CA_combined_data['label'].apply(lambda x: x if x != 'SuperSpread2' else 'SuperSpread')"
      ],
      "execution_count": null,
      "outputs": []
    },
    {
      "cell_type": "code",
      "metadata": {
        "id": "2XcEK_jsRwEc"
      },
      "source": [
        "CA_combined_data.dtypes"
      ],
      "execution_count": null,
      "outputs": []
    },
    {
      "cell_type": "code",
      "metadata": {
        "id": "gBcXYRsaSnJl"
      },
      "source": [
        "CA_combined_data[CA_combined_data['label'] == 'LessSpread'].count()"
      ],
      "execution_count": null,
      "outputs": []
    },
    {
      "cell_type": "code",
      "metadata": {
        "id": "QsfutMGVScnR"
      },
      "source": [
        "CA_combined_data[CA_combined_data['growth_label'] == 'flat_growth'].count()"
      ],
      "execution_count": null,
      "outputs": []
    },
    {
      "cell_type": "markdown",
      "metadata": {
        "id": "2EGwdQ131QFi"
      },
      "source": [
        "## Computing New Cases per 1k Population\n",
        "\n",
        "Formula: 'New Cases/1k population' = (New Cases * 1000)/population"
      ]
    },
    {
      "cell_type": "code",
      "metadata": {
        "id": "qtf3rgUs1ZRi"
      },
      "source": [
        "CA_combined_data['New Cases/1k population'] = CA_combined_data['New cases']*1000/ CA_combined_data['population']\n",
        "CA_combined_data.tail(2)"
      ],
      "execution_count": null,
      "outputs": []
    },
    {
      "cell_type": "code",
      "metadata": {
        "id": "QkWIXBiW2MRI"
      },
      "source": [
        "new_cases_10k_list = CA_combined_data['New Cases/1k population'].values"
      ],
      "execution_count": null,
      "outputs": []
    },
    {
      "cell_type": "code",
      "metadata": {
        "id": "UjLIvPB73HN1"
      },
      "source": [
        "diffArr = np.diff(new_cases_10k_list)\n",
        "print(len(diffArr))\n",
        "diffArr[0]\n",
        "\n",
        "growth_values =[]\n",
        "growth_values.append(0.0) # making first value as 0, as np.diff leaves first values as NA\n",
        "print('growth_values : ',len(growth_values))\n",
        "growth_values.extend(diffArr)\n",
        "print('growth_values : ',len(growth_values))"
      ],
      "execution_count": null,
      "outputs": []
    },
    {
      "cell_type": "code",
      "metadata": {
        "id": "-iFqEAwd3OEB"
      },
      "source": [
        "stdDev = np.std(diffArr)\n",
        "variance = np.var(diffArr)\n",
        "mean = np.mean(diffArr)\n",
        "min = np.min(diffArr)\n",
        "max = np.max(diffArr)\n",
        "\n",
        "\n",
        "print(\"min \",min)\n",
        "print(\"max \",max)\n",
        "\n",
        "print(\"mean \",mean)\n",
        "print(\"std. deviation \",stdDev)\n",
        "print(\"variance \",variance)"
      ],
      "execution_count": null,
      "outputs": []
    },
    {
      "cell_type": "markdown",
      "metadata": {
        "id": "SLjuB65sNHYF"
      },
      "source": [
        "## Getting positive cases"
      ]
    },
    {
      "cell_type": "code",
      "metadata": {
        "id": "EonxUuapNVL-"
      },
      "source": [
        "print('length diffArr: ',len(diffArr))\n",
        "\n",
        "non_zero_pos_diff = []\n",
        "\n",
        "for i in diffArr:\n",
        "  if i > 0:\n",
        "    non_zero_pos_diff.append(i)\n",
        "\n",
        "print('non_zero_pos_diff length: ',len(non_zero_pos_diff))\n",
        "\n",
        "\n",
        "stdDev = np.std(non_zero_pos_diff)\n",
        "variance = np.var(non_zero_pos_diff)\n",
        "mean = np.mean(non_zero_pos_diff)\n",
        "min = np.min(non_zero_pos_diff)\n",
        "max = np.max(non_zero_pos_diff)\n",
        "\n",
        "\n",
        "print(\"min \",min)\n",
        "print(\"max \",max)\n",
        "\n",
        "print(\"mean \",mean)\n",
        "print(\"std. deviation \",stdDev)\n",
        "print(\"variance \",variance)"
      ],
      "execution_count": null,
      "outputs": []
    },
    {
      "cell_type": "markdown",
      "metadata": {
        "id": "5bRmnuAnNHgJ"
      },
      "source": [
        "## Getting negative cases\n"
      ]
    },
    {
      "cell_type": "code",
      "metadata": {
        "id": "_mLQel96NZB5"
      },
      "source": [
        "non_zero_neg_diff = []\n",
        "\n",
        "for i in diffArr:\n",
        "  if i < 0:\n",
        "    non_zero_neg_diff.append(i)\n",
        "print(\"non_zero_neg_diff length : \",len(non_zero_neg_diff))\n",
        "\n",
        "stdDev = np.std(non_zero_neg_diff)\n",
        "variance = np.var(non_zero_neg_diff)\n",
        "mean = np.mean(non_zero_neg_diff)\n",
        "min = np.min(non_zero_neg_diff)\n",
        "max = np.max(non_zero_neg_diff)\n",
        "\n",
        "\n",
        "print(\"min \",min)\n",
        "print(\"max \",max)\n",
        "\n",
        "print(\"mean \",mean)\n",
        "print(\"std. deviation \",stdDev)\n",
        "print(\"variance \",variance)\n"
      ],
      "execution_count": null,
      "outputs": []
    },
    {
      "cell_type": "code",
      "metadata": {
        "id": "d0BmZ9SEJ8ua"
      },
      "source": [
        "CA_combined_data.head()"
      ],
      "execution_count": null,
      "outputs": []
    },
    {
      "cell_type": "markdown",
      "metadata": {
        "id": "pyS1-vnM38NU"
      },
      "source": [
        "## Applying natural breaks"
      ]
    },
    {
      "cell_type": "code",
      "metadata": {
        "id": "TDuhGAeK4AL5"
      },
      "source": [
        "pos_breaks = jenkspy.jenks_breaks(non_zero_pos_diff, nb_class=2)\n",
        "print(pos_breaks)\n",
        "neg_breaks = jenkspy.jenks_breaks(non_zero_neg_diff, nb_class=2)\n",
        "print(neg_breaks)\n",
        "\n",
        "print(' ****** breaks *******')\n",
        "breaks = pos_breaks + neg_breaks\n",
        "breaks.sort()\n",
        "breaks"
      ],
      "execution_count": null,
      "outputs": []
    },
    {
      "cell_type": "markdown",
      "metadata": {
        "id": "jLNL1z-F6aPp"
      },
      "source": [
        "## New Labeling"
      ]
    },
    {
      "cell_type": "code",
      "metadata": {
        "id": "xL0iGg9xEoSI"
      },
      "source": [
        "'''\n",
        "****** breaks *******\n",
        "[-4.811795376206633,\n",
        " -1.0427002573115152,\n",
        " -9.454894623110721e-06,\n",
        " 1.1045153360346449e-05,\n",
        " 0.835960519245697,\n",
        " 4.811795376206633\n",
        "\n",
        " def determine_growth_label_1k(x):\n",
        "  x = round(x,4)\n",
        "  if x > 0.83596 and x <= 4.8118:\n",
        "    return 'drastic_growth'\n",
        "  if x > 0.00001 and x <= 0.8360:\n",
        "    return 'mild_growth'\n",
        "  if x >= -0.00000945 and x <= 0.00001:\n",
        "    return 'flat_growth'\n",
        "  if x >= -1.0427 and x < -0.00000945:\n",
        "    return 'mild_decrement'\n",
        "  if x >= -4.8118  and x <= -1.0427:\n",
        "    return 'drastic_decrement'\n",
        "'''"
      ],
      "execution_count": null,
      "outputs": []
    },
    {
      "cell_type": "code",
      "metadata": {
        "id": "KmDIRzOo4DFL"
      },
      "source": [
        "#[5.2680092775606036e-05, 0.5928496690142417, 3.960127989407119]\n",
        "#[-3.8230281887128026, -0.5659584931410302, -8.310897482368892e-06]\n",
        "def determine_growth_label_1k(x):\n",
        "  if x >= -0.00000831 and x <= 0.0000526:\n",
        "    return 'flat_growth'\n",
        "  if x > 0.0000526 and x <= 0.59285:\n",
        "    return 'mild_growth'\n",
        "  if x > 0.59285 and x <= 3.96013:\n",
        "    return 'drastic_growth'\n",
        "  if x >= -0.56595  and x <= -0.00000831:\n",
        "    return 'mild_decrement'\n",
        "  if x >= -3.96013 and x < -0.56595:\n",
        "    return 'drastic_decrement'"
      ],
      "execution_count": null,
      "outputs": []
    },
    {
      "cell_type": "code",
      "metadata": {
        "id": "rYI17Xyt4LLI"
      },
      "source": [
        "CA_combined_data['growth_label_1k'] = CA_combined_data['New Cases/1k population'].apply(lambda x: determine_growth_label_1k(x) )\n",
        "CA_combined_data.head(4)"
      ],
      "execution_count": null,
      "outputs": []
    },
    {
      "cell_type": "markdown",
      "metadata": {
        "id": "lrdt9jfixV0z"
      },
      "source": [
        "### Export Combined labeled Data"
      ]
    },
    {
      "cell_type": "code",
      "metadata": {
        "id": "5pnVXJRyDFuW"
      },
      "source": [
        "CA_combined_data_growth0 = CA_combined_data[CA_combined_data['growth_label'] == 'drastic_decrement']\n",
        "CA_combined_data_growth1 = CA_combined_data[CA_combined_data['growth_label'] == 'drastic_growth']\n",
        "CA_combined_data_growth2 = CA_combined_data[CA_combined_data['growth_label'] == 'flat_growth']\n",
        "CA_combined_data_growth3 = CA_combined_data[CA_combined_data['growth_label'] == 'mild_decrement']\n",
        "CA_combined_data_growth4 = CA_combined_data[CA_combined_data['growth_label'] == 'mild_growth']\n",
        "\n",
        "print(CA_combined_data_growth0.shape)\n",
        "print(CA_combined_data_growth1.shape)\n",
        "print(CA_combined_data_growth2.shape)\n",
        "print(CA_combined_data_growth3.shape)\n",
        "print(CA_combined_data_growth4.shape)"
      ],
      "execution_count": null,
      "outputs": []
    },
    {
      "cell_type": "code",
      "metadata": {
        "id": "odBuDdy3DTX1"
      },
      "source": [
        "from datetime import datetime\n",
        "location = '/content/drive/Shared drives/CMPE 295- Master Project/Covid19-data/'\n",
        "filename = 'CA_labeledData_'+datetime.now().strftime(\"%b%d\")+'.csv' #%Y%m%d\n",
        "print(filename)\n",
        "CA_combined_data.to_csv(location+filename,index=False)"
      ],
      "execution_count": null,
      "outputs": []
    },
    {
      "cell_type": "code",
      "metadata": {
        "id": "9Hwy4ARNeCfg"
      },
      "source": [
        "average_newCases_df2[average_newCases_df2['labels'] == 'SuperSpread']"
      ],
      "execution_count": null,
      "outputs": []
    },
    {
      "cell_type": "markdown",
      "metadata": {
        "id": "1oJPNpnexnQZ"
      },
      "source": [
        "## Kernal Density Estimation"
      ]
    },
    {
      "cell_type": "code",
      "metadata": {
        "id": "WauUBBVVxq0H"
      },
      "source": [
        "%matplotlib inline\n",
        "\n",
        "from numpy import array, linspace\n",
        "from sklearn.neighbors.kde import KernelDensity\n",
        "from matplotlib.pyplot import plot\n",
        "\n",
        "a = array(data).reshape(-1, 1)\n",
        "kde = KernelDensity(kernel='gaussian', bandwidth=3).fit(a)\n",
        "s = linspace(0,50)\n",
        "e = kde.score_samples(s.reshape(-1,1))\n",
        "plot(s, e)"
      ],
      "execution_count": null,
      "outputs": []
    },
    {
      "cell_type": "code",
      "metadata": {
        "id": "wGzAVAIOx18k"
      },
      "source": [
        "\n",
        "\n",
        "from scipy.signal import argrelextrema\n",
        "mi, ma = argrelextrema(e, np.less)[0], argrelextrema(e, np.greater)[0]\n",
        "print(\"Minima:\", s[mi])\n",
        "print(\"Maxima:\", s[ma])"
      ],
      "execution_count": null,
      "outputs": []
    },
    {
      "cell_type": "code",
      "metadata": {
        "id": "NZtte7zb20p7"
      },
      "source": [
        "lower_range = s[mi][0]\n",
        "upper_range = s[mi][1]\n",
        "\n",
        "lower_range"
      ],
      "execution_count": null,
      "outputs": []
    },
    {
      "cell_type": "code",
      "metadata": {
        "id": "vVyRucGcyAgB"
      },
      "source": [
        "print(a[a < mi[0]], a[(a >= mi[0]) * (a <= mi[1])], a[a >= mi[1]])\n"
      ],
      "execution_count": null,
      "outputs": []
    },
    {
      "cell_type": "markdown",
      "metadata": {
        "id": "ljVPSVYdyhoz"
      },
      "source": [
        "[-1.1363636363636362, 39.5, 213.91325695581014, 410.1818181818182]"
      ]
    },
    {
      "cell_type": "markdown",
      "metadata": {
        "id": "c36LK96Tzp3S"
      },
      "source": [
        "Minima: [19.3877551  33.67346939]\n",
        "Maxima: [24.48979592 39.79591837]*italicized text*"
      ]
    },
    {
      "cell_type": "code",
      "metadata": {
        "id": "Wh455zOcyIUT"
      },
      "source": [
        "plot(s[:mi[0]+1], e[:mi[0]+1], 'r',\n",
        "     s[mi[0]:mi[1]+1], e[mi[0]:mi[1]+1], 'g',\n",
        "     s[mi[1]:], e[mi[1]:], 'b',\n",
        "     s[ma], e[ma], 'go',\n",
        "     s[mi], e[mi], 'ro')"
      ],
      "execution_count": null,
      "outputs": []
    },
    {
      "cell_type": "markdown",
      "metadata": {
        "id": "Ni7oN7RAzJ5N"
      },
      "source": [
        "print(a[a < mi[0]], a[(a >= mi[0]) * (a <= mi[1])], a[a >= mi[1]])\n"
      ]
    },
    {
      "cell_type": "markdown",
      "metadata": {
        "id": "DLvIv1Av2j0s"
      },
      "source": [
        "## Labeling Data with Kernal density results"
      ]
    },
    {
      "cell_type": "code",
      "metadata": {
        "id": "ovV5Fo3O2nCc"
      },
      "source": [
        "average_newCases_df3.head()"
      ],
      "execution_count": null,
      "outputs": []
    },
    {
      "cell_type": "code",
      "metadata": {
        "id": "ADQYgQnO4b54"
      },
      "source": [
        "print(lower_range, upper_range)"
      ],
      "execution_count": null,
      "outputs": []
    },
    {
      "cell_type": "code",
      "metadata": {
        "id": "FmnJt1cZ4wdz"
      },
      "source": [
        "average_newCases_df3['label'] = average_newCases_df3['percent_newcases'].apply(lambda x: 'lessSpread' if x < lower_range  else 'SuperSpread')\n"
      ],
      "execution_count": null,
      "outputs": []
    },
    {
      "cell_type": "code",
      "metadata": {
        "id": "ga0KQRi92p_b"
      },
      "source": [
        "average_newCases_df3['label'] = average_newCases_df3['percent_newcases'].apply(lambda x: 'lessSpread' if x < lower_range else ('Spread' if (x >= lower_range and x <= upper_range) else 'SuperSpread'))\n",
        "\n",
        "\n",
        "\n",
        "#converter = lambda x : x*2 if x < 10 else (x*3 if x < 20 else x)\n",
        "\n"
      ],
      "execution_count": null,
      "outputs": []
    },
    {
      "cell_type": "code",
      "metadata": {
        "id": "YYyJNdWL5nXM"
      },
      "source": [
        "average_newCases_df3[average_newCases_df3['label'] == 'lessSpread'].count()"
      ],
      "execution_count": null,
      "outputs": []
    },
    {
      "cell_type": "code",
      "metadata": {
        "id": "gqHeMoWR5pew"
      },
      "source": [
        "average_newCases_df3[average_newCases_df3['label'] == 'Spread'].count()"
      ],
      "execution_count": null,
      "outputs": []
    },
    {
      "cell_type": "code",
      "metadata": {
        "id": "mrYy5tdz5fp9"
      },
      "source": [
        "average_newCases_df3[average_newCases_df3['label'] == 'SuperSpread'].count()"
      ],
      "execution_count": null,
      "outputs": []
    },
    {
      "cell_type": "code",
      "metadata": {
        "id": "ReYy7MgO2MUr"
      },
      "source": [
        "average_newCases_df3.head()"
      ],
      "execution_count": null,
      "outputs": []
    },
    {
      "cell_type": "markdown",
      "metadata": {
        "id": "RnSQQ3K7fAEe"
      },
      "source": [
        "# 2.1 Loading CA - Social Distancing Inertia Maryland Data"
      ]
    },
    {
      "cell_type": "code",
      "metadata": {
        "id": "EUc48OMVfQMZ"
      },
      "source": [
        "CA_combined_sd_inertia_data = pd.read_csv('/content/drive/Shared drives/CMPE 295- Master Project/Covid19-data/CA_socialDistancingInertiaData_Sep25.csv',low_memory=False)\n",
        "CA_combined_sd_inertia_data.head()"
      ],
      "execution_count": null,
      "outputs": []
    },
    {
      "cell_type": "code",
      "metadata": {
        "id": "fUBx1KbilShz"
      },
      "source": [
        "CA_combined_sd_inertia_data.FIPS.unique()"
      ],
      "execution_count": null,
      "outputs": []
    },
    {
      "cell_type": "markdown",
      "metadata": {
        "id": "AoJJ2t3ehdhs"
      },
      "source": [
        "## Computing rolling average"
      ]
    },
    {
      "cell_type": "code",
      "metadata": {
        "id": "-wnwz6lHhvP-"
      },
      "source": [
        "CA_combined_sd_inertia_data.columns"
      ],
      "execution_count": null,
      "outputs": []
    },
    {
      "cell_type": "code",
      "metadata": {
        "id": "SebGurhfhdh6"
      },
      "source": [
        "#new case column nume = 5\n",
        "CA_combined_sd_inertia_data.iloc[:,5]"
      ],
      "execution_count": null,
      "outputs": []
    },
    {
      "cell_type": "markdown",
      "metadata": {
        "id": "WwqXi78CkOhv"
      },
      "source": [
        "removing comuns: \n",
        "'Confirmed', 'Deaths', 'New deaths','#days: decreasing ILI cases', '#days: decreasing COVID cases', 'New cases/1000 people', 'Imported COVID cases' ,'COVID death rate',  'Active cases/1000 people',"
      ]
    },
    {
      "cell_type": "code",
      "metadata": {
        "id": "GQH2Aid_hdh-"
      },
      "source": [
        "df = pd.DataFrame(columns=['Date', 'Province_State', 'FIPS',  'New cases',\n",
        "        'mask_rule_active', 'CTFIPS', 'CTNAME', 'STFIPS',\n",
        "       'Social distancing index', '% staying home', 'Trips/person',\n",
        "       '% out-of-county trips', '% out-of-state trips', 'Miles/person',\n",
        "       'Work trips/person', 'Non-work trips/person', 'New COVID cases',\n",
        "       'Population', '% change in consumption', 'date', 'Transit mode share',\n",
        "       '% people older than 60', 'Median income', '% African Americans',\n",
        "       '% Hispanic Americans', '% Male', 'Population density',\n",
        "       'Employment density', '# hot spots/1000 people',\n",
        "       'Hospital beds/1000 people', 'ICUs/1000 people',\n",
        "       '# contact tracing workers/1000 people',\n",
        "       '# contact tracing workers/1000 people rank',\n",
        "       '% people older than 60 rank', 'COVID exposure/1000 people',\n",
        "        'Unemployment claims/1000 people',\n",
        "       'Unemployment rate', '% working from home', 'Cumulative inflation rate',\n",
        "        '% hospital bed utilization',\n",
        "       'Testing capacity', 'Tests done/1000 people', '% ICU utilization',\n",
        "       'Ventilator shortage'])\n"
      ],
      "execution_count": null,
      "outputs": []
    },
    {
      "cell_type": "code",
      "metadata": {
        "id": "8bGgOZaHhdiA"
      },
      "source": [
        "CA_counties = CA_combined_sd_inertia_data['CTNAME'].unique()\n",
        "\n",
        "for county in CA_counties:\n",
        "  county_data = CA_combined_sd_inertia_data[CA_combined_sd_inertia_data['CTNAME'] == county]\n",
        "  #print(county_data.iloc[:,15])\n",
        "  county_data['rolling_avg_new_cases'] = county_data.iloc[:,5].rolling(window=7).mean()\n",
        "  df = df.append(county_data)\n",
        "\n",
        "df.head()"
      ],
      "execution_count": null,
      "outputs": []
    },
    {
      "cell_type": "code",
      "metadata": {
        "id": "Eoa9dOfvhdiC"
      },
      "source": [
        "print(df.shape)\n",
        "CA_combined_sd_inertia_data.shape"
      ],
      "execution_count": null,
      "outputs": []
    },
    {
      "cell_type": "code",
      "metadata": {
        "id": "J8hA2BBShdiD"
      },
      "source": [
        "CA_combined_sd_inertia_data = df.copy()\n",
        "CA_combined_sd_inertia_data"
      ],
      "execution_count": null,
      "outputs": []
    },
    {
      "cell_type": "code",
      "metadata": {
        "id": "dtrhrhBOhdiH"
      },
      "source": [
        "CA_combined_sd_inertia_data.head(3)"
      ],
      "execution_count": null,
      "outputs": []
    },
    {
      "cell_type": "markdown",
      "metadata": {
        "id": "a--a0HeMurvh"
      },
      "source": [
        "## clean data - fill NA "
      ]
    },
    {
      "cell_type": "code",
      "metadata": {
        "id": "MfRQuH1Eurv6"
      },
      "source": [
        "CA_combined_sd_inertia_data = CA_combined_sd_inertia_data.fillna(0)\n",
        "CA_combined_sd_inertia_data.head(4)"
      ],
      "execution_count": null,
      "outputs": []
    },
    {
      "cell_type": "code",
      "metadata": {
        "id": "G0Qznnx4urwG"
      },
      "source": [
        "CA_combined_sd_inertia_data['CTNAME'].unique()"
      ],
      "execution_count": null,
      "outputs": []
    },
    {
      "cell_type": "markdown",
      "metadata": {
        "id": "CYCEUIy7yKtm"
      },
      "source": [
        "## verifying Rolling average with visualizations"
      ]
    },
    {
      "cell_type": "code",
      "metadata": {
        "id": "3BOxC3lsyKt8"
      },
      "source": [
        "los_angeles_county = CA_combined_sd_inertia_data[CA_combined_sd_inertia_data['CTNAME'] == 'Los Angeles County']\n",
        "print(los_angeles_county.shape)\n",
        "los_angeles_county.head()"
      ],
      "execution_count": null,
      "outputs": []
    },
    {
      "cell_type": "code",
      "metadata": {
        "id": "t3q9I_aVyKuL"
      },
      "source": [
        "fig,ax = plt.subplots()\n",
        "# make a plot\n",
        "ax.plot(los_angeles_county.Date, los_angeles_county['rolling_avg_new_cases'], color=\"blue\")\n",
        "# set x-axis label\n",
        "ax.set_xlabel(\"Date\",fontsize=14)\n",
        "# set y-axis label\n",
        "ax.set_ylabel(\"rolling_avg_new_cases\",color=\"blue\",fontsize=14)\n",
        "ax2=ax.twinx()\n",
        "# make a plot with different y-axis using second axis object\n",
        "ax2.plot(los_angeles_county.Date, los_angeles_county[\"New cases\"],color=\"red\")\n",
        "ax2.set_ylabel(\"New cases\",color=\"blue\",fontsize=14)\n",
        "plt.title(\"'rolling_avg_new_cases' Vs New cases\")\n",
        "\n",
        "plt.show()"
      ],
      "execution_count": null,
      "outputs": []
    },
    {
      "cell_type": "code",
      "metadata": {
        "id": "I0TFoCKwyKuP"
      },
      "source": [
        "suffolk_county = CA_combined_sd_inertia_data[CA_combined_sd_inertia_data['CTNAME'] == 'Santa Clara County']"
      ],
      "execution_count": null,
      "outputs": []
    },
    {
      "cell_type": "code",
      "metadata": {
        "id": "_JYyag4pyKuS"
      },
      "source": [
        "fig,ax = plt.subplots()\n",
        "# make a plot\n",
        "ax.plot(suffolk_county.Date, suffolk_county['rolling_avg_new_cases'], color=\"blue\")\n",
        "# set x-axis label\n",
        "ax.set_xlabel(\"Date\",fontsize=14)\n",
        "# set y-axis label\n",
        "ax.set_ylabel(\"rolling_avg_new_cases\",color=\"blue\",fontsize=14)\n",
        "ax2=ax.twinx()\n",
        "# make a plot with different y-axis using second axis object\n",
        "ax2.plot(suffolk_county.Date, suffolk_county[\"New cases\"],color=\"red\")\n",
        "ax2.set_ylabel(\"New cases\",color=\"blue\",fontsize=14)\n",
        "plt.title(\"'rolling_avg_new_cases' Vs New cases\")\n",
        "\n",
        "plt.show()"
      ],
      "execution_count": null,
      "outputs": []
    },
    {
      "cell_type": "markdown",
      "metadata": {
        "id": "Cv4XV4EQ6fI_"
      },
      "source": [
        "## Rolling window to compare every 2 weeks with next 2 weeks"
      ]
    },
    {
      "cell_type": "code",
      "metadata": {
        "id": "X-oIRKhy6fJG"
      },
      "source": [
        "CA_combined_sd_inertia_data = CA_combined_sd_inertia_data.sort_values(by=['Date'])\n",
        "CA_combined_sd_inertia_data.head()"
      ],
      "execution_count": null,
      "outputs": []
    },
    {
      "cell_type": "code",
      "metadata": {
        "id": "YX7w4Eln6fJQ"
      },
      "source": [
        "CA_combined_sd_inertia_data[CA_combined_sd_inertia_data['FIPS'] == 6037]"
      ],
      "execution_count": null,
      "outputs": []
    },
    {
      "cell_type": "code",
      "metadata": {
        "id": "gIWmG8X76fJS"
      },
      "source": [
        "minDate = CA_combined_sd_inertia_data['Date'].min()\n",
        "print(minDate)\n",
        "\n",
        "dateList = CA_combined_sd_inertia_data['Date'].unique()"
      ],
      "execution_count": null,
      "outputs": []
    },
    {
      "cell_type": "code",
      "metadata": {
        "id": "C91XzWPJ6fJU"
      },
      "source": [
        "import datetime\n",
        "\n",
        "#dt_object = datetime.fromtimestamp(date)\n",
        "day_name= ['Monday', 'Tuesday', 'Wednesday', 'Thursday', 'Friday', 'Saturday','Sunday']\n",
        "\n",
        "day = datetime.datetime.strptime(minDate, '%Y-%m-%d').weekday()\n",
        "if day == 6:\n",
        "  day =0\n",
        "elif day < 6:\n",
        "  day += 1\n",
        "\n",
        "print(day)"
      ],
      "execution_count": null,
      "outputs": []
    },
    {
      "cell_type": "code",
      "metadata": {
        "id": "94CSfxM26fJW"
      },
      "source": [
        "index = 0\n",
        "count = 0\n",
        "lst = []\n",
        "while index < len(dateList):\n",
        "  row = []\n",
        "  j = 14 - day;\n",
        "  # print(index,j)\n",
        "  # print(dateList[index:index+j])\n",
        "  weekRange = dateList[index:index+j]\n",
        "  #print(weekRange)\n",
        "  index = index+j \n",
        "  day = 0\n",
        "  count +=1\n",
        "  row.append(count)\n",
        "  row.append(weekRange.min())\n",
        "  row.append(weekRange.max())\n",
        "  print(row)\n",
        "  lst.append(row)\n",
        "  \n"
      ],
      "execution_count": null,
      "outputs": []
    },
    {
      "cell_type": "markdown",
      "metadata": {
        "id": "zf3Q5SdEkxcL"
      },
      "source": [
        "[1, '2020-03-01', '2020-03-14']\n",
        "[2, '2020-03-15', '2020-03-28']\n",
        "[3, '2020-03-29', '2020-04-11']\n",
        "[4, '2020-04-12', '2020-04-26']\n",
        "[5, '2020-04-27', '2020-05-10']\n",
        "[6, '2020-05-11', '2020-05-24']\n",
        "[7, '2020-05-25', '2020-06-08']\n",
        "[8, '2020-06-09', '2020-06-22']\n",
        "[9, '2020-06-23', '2020-07-06']\n",
        "[10, '2020-07-07', '2020-07-20']\n",
        "[11, '2020-07-21', '2020-08-03']\n",
        "[12, '2020-08-04', '2020-08-17']\n",
        "[13, '2020-08-18', '2020-08-21']"
      ]
    },
    {
      "cell_type": "code",
      "metadata": {
        "id": "CNdYlW2q6fJY"
      },
      "source": [
        "week_df = pd.DataFrame(lst,index=None,columns=['WeekNumber','startDate','endDate'])\n",
        "week_df.head()"
      ],
      "execution_count": null,
      "outputs": []
    },
    {
      "cell_type": "markdown",
      "metadata": {
        "id": "Tuy4Ik4f-UCV"
      },
      "source": [
        "## Slice data for the week dataframe"
      ]
    },
    {
      "cell_type": "code",
      "metadata": {
        "id": "AaypyDkI-UCp"
      },
      "source": [
        "\n",
        "average_newCases_df = pd.DataFrame(columns=['CTNAME',  'FIPS',  'average_per_week','startDate','endDate'])\n",
        "\n",
        "for index, row in week_df.iterrows():\n",
        "    startDate, endDate = row['startDate'], row['endDate']\n",
        "    df_index = (CA_combined_sd_inertia_data['Date'] >= startDate) & (CA_combined_sd_inertia_data['Date'] <= endDate)\n",
        "    df_weekData =  CA_combined_sd_inertia_data.loc[df_index]\n",
        "    df_base = (\n",
        "      df_weekData\n",
        "      .pipe(lambda x: x.assign(gains_pctg=x[\"rolling_avg_new_cases\"]))\n",
        "      .groupby(['CTNAME','FIPS'])\n",
        "      .agg({\"gains_pctg\": \"mean\"})\n",
        "      .reset_index()\n",
        "      .rename(columns={\"gains_pctg\": \"average_per_week\"})\n",
        "    )\n",
        "    df_base['startDate'] = startDate\n",
        "    df_base['endDate'] = endDate\n",
        "  \n",
        "    #print(startDate,endDate,df_base['average_per_week'])\n",
        "    average_newCases_df = average_newCases_df.append(df_base)\n"
      ],
      "execution_count": null,
      "outputs": []
    },
    {
      "cell_type": "code",
      "metadata": {
        "id": "uVZwCEIP-UCu"
      },
      "source": [
        "average_newCases_df.shape"
      ],
      "execution_count": null,
      "outputs": []
    },
    {
      "cell_type": "code",
      "metadata": {
        "id": "GS4TxR8m-UCy"
      },
      "source": [
        "average_newCases_df[average_newCases_df['FIPS'] == 6037]"
      ],
      "execution_count": null,
      "outputs": []
    },
    {
      "cell_type": "markdown",
      "metadata": {
        "id": "-2Ex41lJ_Ioy"
      },
      "source": [
        "## Verifying average per week data Eg., Los Angeles County"
      ]
    },
    {
      "cell_type": "code",
      "metadata": {
        "id": "AZDgugeW_IpJ"
      },
      "source": [
        "los_angeles_county[(los_angeles_county['Date'] >= '2020-03-01') & (los_angeles_county['Date'] <= '2020-03-14') ]['rolling_avg_new_cases']\n",
        "\n"
      ],
      "execution_count": null,
      "outputs": []
    },
    {
      "cell_type": "code",
      "metadata": {
        "id": "xVDTGV2H_IpS"
      },
      "source": [
        "average_newCases_df.head(10)"
      ],
      "execution_count": null,
      "outputs": []
    },
    {
      "cell_type": "markdown",
      "metadata": {
        "id": "DWY0XhrgAnJi"
      },
      "source": [
        "## Finding the % growth or reduction in 'new cases' on every 2 week average"
      ]
    },
    {
      "cell_type": "code",
      "metadata": {
        "id": "VIGRlYuvAnJ4"
      },
      "source": [
        "average_newCases_df_ = average_newCases_df.copy()"
      ],
      "execution_count": null,
      "outputs": []
    },
    {
      "cell_type": "code",
      "metadata": {
        "id": "AI4uRLS1AnKA"
      },
      "source": [
        "albany_avg_newCases = average_newCases_df[average_newCases_df['CTNAME'] == 'Los Angeles County']\n",
        "albany_avg_newCases"
      ],
      "execution_count": null,
      "outputs": []
    },
    {
      "cell_type": "code",
      "metadata": {
        "id": "-Emrkrq0AnKH"
      },
      "source": [
        "average_newCases_df.head()"
      ],
      "execution_count": null,
      "outputs": []
    },
    {
      "cell_type": "code",
      "metadata": {
        "id": "cVnrEF78AnKL"
      },
      "source": [
        "average_newCases_df2 = pd.DataFrame()\n",
        "average_newCases_df2 = average_newCases_df.copy()\n",
        "\n",
        "average_newCases_df2 = average_newCases_df2.reset_index(drop=True)\n",
        "average_newCases_df2.head()"
      ],
      "execution_count": null,
      "outputs": []
    },
    {
      "cell_type": "code",
      "metadata": {
        "id": "IiC8ss74AnKN"
      },
      "source": [
        "average_newCases_df2['diff_avg_x'] = average_newCases_df2.sort_values(['startDate','endDate']).groupby(['CTNAME', 'FIPS'])['average_per_week'].diff().fillna(0)\n",
        "\n",
        "print(average_newCases_df2.shape)\n",
        "average_newCases_df2.head()\n"
      ],
      "execution_count": null,
      "outputs": []
    },
    {
      "cell_type": "code",
      "metadata": {
        "id": "r--yef0xAnKQ"
      },
      "source": [
        "average_newCases_df2[average_newCases_df2['CTNAME'] == 'Santa Clara County']"
      ],
      "execution_count": null,
      "outputs": []
    },
    {
      "cell_type": "code",
      "metadata": {
        "id": "s8gQX74rAnKS"
      },
      "source": [
        "average_newCases_df2[average_newCases_df2['CTNAME'] == 'Alameda County']"
      ],
      "execution_count": null,
      "outputs": []
    },
    {
      "cell_type": "code",
      "metadata": {
        "id": "TZtcGezQAnKU"
      },
      "source": [
        "average_newCases_df2[average_newCases_df2['FIPS'] == 6037].head(5)"
      ],
      "execution_count": null,
      "outputs": []
    },
    {
      "cell_type": "code",
      "metadata": {
        "id": "uoXuOiQAAnKX"
      },
      "source": [
        "average_newCases_df2.head()"
      ],
      "execution_count": null,
      "outputs": []
    },
    {
      "cell_type": "code",
      "metadata": {
        "id": "leX2lv6-AnKY"
      },
      "source": [
        "average_newCases_df2 = average_newCases_df2.fillna(0)"
      ],
      "execution_count": null,
      "outputs": []
    },
    {
      "cell_type": "code",
      "metadata": {
        "id": "QcDy8yJaAnKa"
      },
      "source": [
        "average_newCases_df2.head()"
      ],
      "execution_count": null,
      "outputs": []
    },
    {
      "cell_type": "markdown",
      "metadata": {
        "id": "5UOzw53YAnKd"
      },
      "source": [
        "Shifting average_per_week_x\t column value for formula. Means previous row's value will be come to the current row."
      ]
    },
    {
      "cell_type": "code",
      "metadata": {
        "id": "gNFEYxzqAnKd"
      },
      "source": [
        "average_newCases_df2['shift_avg_x'] = average_newCases_df2.sort_values(['startDate','endDate']).groupby(['CTNAME', 'FIPS'])['average_per_week'].shift()"
      ],
      "execution_count": null,
      "outputs": []
    },
    {
      "cell_type": "code",
      "metadata": {
        "id": "b8mWCN7dAnKf"
      },
      "source": [
        "average_newCases_df2.groupby(by=['CTNAME', 'FIPS','startDate','endDate']).sum()"
      ],
      "execution_count": null,
      "outputs": []
    },
    {
      "cell_type": "code",
      "metadata": {
        "id": "BBnsrDeeAnKg"
      },
      "source": [
        "average_newCases_df2[average_newCases_df2['CTNAME'] == 'Los Angeles County']"
      ],
      "execution_count": null,
      "outputs": []
    },
    {
      "cell_type": "code",
      "metadata": {
        "id": "rJtRMscrAnKi"
      },
      "source": [
        "average_newCases_df2['percent_newcases'] = average_newCases_df2.apply(lambda x: (x.diff_avg_x) / x.shift_avg_x if x.shift_avg_x > 0.0 else 0 , axis=1)\n",
        "\n",
        "\n",
        "average_newCases_df2.tail()\n"
      ],
      "execution_count": null,
      "outputs": []
    },
    {
      "cell_type": "code",
      "metadata": {
        "id": "boPF_L6FAnKj"
      },
      "source": [
        "average_newCases_df2[average_newCases_df2['CTNAME'] == 'Santa Clara County']"
      ],
      "execution_count": null,
      "outputs": []
    },
    {
      "cell_type": "markdown",
      "metadata": {
        "id": "CB92gyiDDg4w"
      },
      "source": [
        "# 2.2 Labeling data as per % change"
      ]
    },
    {
      "cell_type": "markdown",
      "metadata": {
        "id": "OsJ2bwKB64Lf"
      },
      "source": [
        "## Validation"
      ]
    },
    {
      "cell_type": "code",
      "metadata": {
        "id": "kH3C9aOf7PyX"
      },
      "source": [
        "average_newCases_df2.head(3)"
      ],
      "execution_count": null,
      "outputs": []
    },
    {
      "cell_type": "code",
      "metadata": {
        "id": "lFVdWxz_68L9"
      },
      "source": [
        "average_newCases_df2[(average_newCases_df2['FIPS']== 6001) & (average_newCases_df2['startDate']=='2020-08-02')]"
      ],
      "execution_count": null,
      "outputs": []
    },
    {
      "cell_type": "code",
      "metadata": {
        "id": "wBX9rFWa71Q9"
      },
      "source": [
        "test_ca_combined[(test_ca_combined['fips_x']== 6001) & (test_ca_combined['startDate']=='2020-08-04')]"
      ],
      "execution_count": null,
      "outputs": []
    },
    {
      "cell_type": "markdown",
      "metadata": {
        "id": "hLoWKd7y66F6"
      },
      "source": [
        "## Actual Work"
      ]
    },
    {
      "cell_type": "code",
      "metadata": {
        "id": "QoiepWAoDg5B"
      },
      "source": [
        "average_newCases_df2.describe()"
      ],
      "execution_count": null,
      "outputs": []
    },
    {
      "cell_type": "code",
      "metadata": {
        "id": "f2hWwHsvDg5L"
      },
      "source": [
        "los_angeles_county = average_newCases_df2[average_newCases_df2['CTNAME'] == 'Los Angeles County']"
      ],
      "execution_count": null,
      "outputs": []
    },
    {
      "cell_type": "code",
      "metadata": {
        "id": "aBQ92WY9Dg5P"
      },
      "source": [
        "fig,ax = plt.subplots()\n",
        "# make a plot\n",
        "ax.plot(los_angeles_county.startDate, los_angeles_county['percent_newcases'], color=\"blue\")\n",
        "# set x-axis label\n",
        "ax.set_xlabel(\"Date\",fontsize=14)\n",
        "# set y-axis label\n",
        "ax.set_ylabel(\"percent_newcases\",color=\"blue\",fontsize=14)\n",
        "# ax2=ax.twinx()\n",
        "# make a plot with different y-axis using second axis object\n",
        "# ax2.plot(los_angeles_county.startDate, los_angeles_county[\"percent_newcases\"],color=\"red\")\n",
        "# ax2.set_ylabel(\"New cases\",color=\"blue\",fontsize=14)\n",
        "plt.title(\"'percent_newcases'\")\n",
        "\n",
        "plt.show()"
      ],
      "execution_count": null,
      "outputs": []
    },
    {
      "cell_type": "code",
      "metadata": {
        "id": "NMV0Da2bDg5T"
      },
      "source": [
        "data = average_newCases_df2['percent_newcases'].to_list()\n",
        "\n",
        "print(data)\n"
      ],
      "execution_count": null,
      "outputs": []
    },
    {
      "cell_type": "code",
      "metadata": {
        "id": "nY-QOaNYDg5X"
      },
      "source": [
        "average_newCases_df3 = average_newCases_df2.copy().reset_index(drop=True)"
      ],
      "execution_count": null,
      "outputs": []
    },
    {
      "cell_type": "markdown",
      "metadata": {
        "id": "GYTeokENTYS3"
      },
      "source": [
        "## Determining growth label"
      ]
    },
    {
      "cell_type": "code",
      "metadata": {
        "id": "2WviclmPTXpG"
      },
      "source": [
        "new_cases_list = average_newCases_df2['percent_newcases'].values\n",
        "diffArr = np.diff(new_cases_list)\n",
        "print(len(diffArr))\n",
        "diffArr[0]"
      ],
      "execution_count": null,
      "outputs": []
    },
    {
      "cell_type": "code",
      "metadata": {
        "id": "zvHITALCTXsc"
      },
      "source": [
        "growth_values =[]\n",
        "growth_values.append(0.0) # making first value as 0, as np.diff leaves first values as NA\n",
        "\n",
        "print('growth_values : ',len(growth_values))\n",
        "growth_values.extend(diffArr)\n",
        "print('growth_values : ',len(growth_values))"
      ],
      "execution_count": null,
      "outputs": []
    },
    {
      "cell_type": "code",
      "metadata": {
        "id": "WFB6YCRvTXxA"
      },
      "source": [
        "average_newCases_df2['growth_per_day'] = growth_values\n"
      ],
      "execution_count": null,
      "outputs": []
    },
    {
      "cell_type": "markdown",
      "metadata": {
        "id": "6JXJxeGwUVnG"
      },
      "source": [
        "### Checking mean, std dev and variance for growth data\n"
      ]
    },
    {
      "cell_type": "code",
      "metadata": {
        "id": "nDdszbhCTXRM"
      },
      "source": [
        "stdDev = np.std(diffArr)\n",
        "variance = np.var(diffArr)\n",
        "mean = np.mean(diffArr)\n",
        "min = np.min(diffArr)\n",
        "max = np.max(diffArr)\n",
        "\n",
        "\n",
        "print(\"min \",min)\n",
        "print(\"max \",max)\n",
        "\n",
        "print(\"mean \",mean)\n",
        "print(\"std. deviation \",stdDev)\n",
        "print(\"variance \",variance)"
      ],
      "execution_count": null,
      "outputs": []
    },
    {
      "cell_type": "markdown",
      "metadata": {
        "id": "7F323xrmUZZU"
      },
      "source": [
        "### Getting positive cases"
      ]
    },
    {
      "cell_type": "code",
      "metadata": {
        "id": "dW_glXzmUbfm"
      },
      "source": [
        "print('length diffArr: ',len(diffArr))\n",
        "\n",
        "non_zero_pos_diff = []\n",
        "\n",
        "for i in diffArr:\n",
        "  if i > 0:\n",
        "    non_zero_pos_diff.append(i)\n",
        "\n",
        "print('non_zero_pos_diff length: ',len(non_zero_pos_diff))\n"
      ],
      "execution_count": null,
      "outputs": []
    },
    {
      "cell_type": "code",
      "metadata": {
        "id": "Aelcx26BUeSj"
      },
      "source": [
        "stdDev = np.std(non_zero_pos_diff)\n",
        "variance = np.var(non_zero_pos_diff)\n",
        "mean = np.mean(non_zero_pos_diff)\n",
        "min = np.min(non_zero_pos_diff)\n",
        "max = np.max(non_zero_pos_diff)\n",
        "\n",
        "\n",
        "print(\"min \",min)\n",
        "print(\"max \",max)\n",
        "\n",
        "print(\"mean \",mean)\n",
        "print(\"std. deviation \",stdDev)\n",
        "print(\"variance \",variance)\n"
      ],
      "execution_count": null,
      "outputs": []
    },
    {
      "cell_type": "markdown",
      "metadata": {
        "id": "nWUFO1M3Ugwe"
      },
      "source": [
        "### Getting negative cases"
      ]
    },
    {
      "cell_type": "code",
      "metadata": {
        "id": "7QZOUcSoUirx"
      },
      "source": [
        "print('length diffArr: ',len(diffArr))\n",
        "\n",
        "non_zero_neg_diff = []\n",
        "\n",
        "for i in diffArr:\n",
        "  if i < 0:\n",
        "    non_zero_neg_diff.append(i)\n",
        "print(\"non_zero_neg_diff length : \",len(non_zero_neg_diff))\n"
      ],
      "execution_count": null,
      "outputs": []
    },
    {
      "cell_type": "code",
      "metadata": {
        "id": "apvIVIv9Ukz4"
      },
      "source": [
        "stdDev = np.std(non_zero_neg_diff)\n",
        "variance = np.var(non_zero_neg_diff)\n",
        "mean = np.mean(non_zero_neg_diff)\n",
        "min = np.min(non_zero_neg_diff)\n",
        "max = np.max(non_zero_neg_diff)\n",
        "\n",
        "\n",
        "print(\"min \",min)\n",
        "print(\"max \",max)\n",
        "\n",
        "print(\"mean \",mean)\n",
        "print(\"std. deviation \",stdDev)\n",
        "print(\"variance \",variance)"
      ],
      "execution_count": null,
      "outputs": []
    },
    {
      "cell_type": "markdown",
      "metadata": {
        "id": "CZOv3YzOUr9Q"
      },
      "source": [
        "### Applying Jenks Natural break"
      ]
    },
    {
      "cell_type": "code",
      "metadata": {
        "id": "dLmlrXcmUper"
      },
      "source": [
        "\n",
        "pos_breaks = jenkspy.jenks_breaks(non_zero_pos_diff, nb_class=2)\n",
        "print(pos_breaks)\n",
        "neg_breaks = jenkspy.jenks_breaks(non_zero_neg_diff, nb_class=2)\n",
        "print(neg_breaks)"
      ],
      "execution_count": null,
      "outputs": []
    },
    {
      "cell_type": "markdown",
      "metadata": {
        "id": "A_LE_lfYVGx1"
      },
      "source": [
        "#### **Note**: \n",
        "\n",
        "From the positive and negative break, \n",
        "* [ -0.009978 , 0.001377 ] - flat growth\n",
        "* [ 0.001377 , 157.486111 ] - mild growth\n",
        "* [ 157.486111 , 377.00 ] - drastic growth\n",
        "* [ -0.009978 , -157.486111 ] - mild decrement\n",
        "* [ -157.486111, -377.00 ] - drastic decrement"
      ]
    },
    {
      "cell_type": "code",
      "metadata": {
        "id": "AB-zBDczVCGq"
      },
      "source": [
        "#original range for CA -inertia data\n",
        "'''\n",
        "def determine_growth_label_inertia(x):\n",
        "  if x >= -0.009978 and x <= 0.001377:\n",
        "    return 'flat_growth'\n",
        "  if x > 0.001377 and x <= 157.486111:\n",
        "    return 'mild_growth'\n",
        "  if x > 157.486111 and x <= 377.00:\n",
        "    return 'drastic_growth'\n",
        "  if x >= -157.486111  and x <= -0.009978:\n",
        "    return 'mild_decrement'\n",
        "  if x >= -377.00 and x < -157.486111:\n",
        "    return 'drastic_decrement'\n",
        "'''"
      ],
      "execution_count": null,
      "outputs": []
    },
    {
      "cell_type": "code",
      "metadata": {
        "id": "saA_wE5chVCe"
      },
      "source": [
        "# temporarily using same label range of combined data for inertia data\n",
        "\n",
        "'''\n",
        "def determine_growth_label_inertia(x):\n",
        "  if x >= -0.012359 and x <= 0.000374:\n",
        "    return 'flat_growth'\n",
        "  if x > 0.000374 and x <= 21.813186:\n",
        "    return 'mild_growth'\n",
        "  if x > 21.813186 and x <= 95.421053:\n",
        "    return 'drastic_growth'\n",
        "  if x >= -21.813186  and x <= -0.012359:\n",
        "    return 'mild_decrement'\n",
        "  if x >= -95.421053 and x < -21.813186:\n",
        "    return 'drastic_decrement'\n",
        "'''"
      ],
      "execution_count": null,
      "outputs": []
    },
    {
      "cell_type": "code",
      "metadata": {
        "id": "guzZsW43A3-E"
      },
      "source": [
        "# temporarily using NY combined data range for CA\n",
        "def determine_growth_label_inertia(x):\n",
        "  if x >= -0.002109 and x <= 0.00011:\n",
        "    return 'flat_growth'\n",
        "  if x > 0.00011 and x <= 39.5:\n",
        "    return 'mild_growth'\n",
        "  if x > 39.5 and x <= 410.1818:\n",
        "    return 'drastic_growth'\n",
        "  if x >= -39.5  and x <= -0.0021:\n",
        "    return 'mild_decrement'\n",
        "  if x >= -410.18 and x < -39.5:\n",
        "    return 'drastic_decrement'"
      ],
      "execution_count": null,
      "outputs": []
    },
    {
      "cell_type": "code",
      "metadata": {
        "id": "QO7RCChaVA4x"
      },
      "source": [
        "average_newCases_df2['growth_label'] = average_newCases_df2['growth_per_day'].apply(lambda x: determine_growth_label_inertia(x) )"
      ],
      "execution_count": null,
      "outputs": []
    },
    {
      "cell_type": "code",
      "metadata": {
        "id": "snhJX_SWsaR_"
      },
      "source": [
        "average_newCases_df2.head(3)"
      ],
      "execution_count": null,
      "outputs": []
    },
    {
      "cell_type": "code",
      "metadata": {
        "id": "rKfXW776sfdC"
      },
      "source": [
        "average_newCases_df2_growth0 = average_newCases_df2[average_newCases_df2['growth_label'] == 'drastic_decrement']\n",
        "average_newCases_df2_growth1 = average_newCases_df2[average_newCases_df2['growth_label'] == 'drastic_growth']\n",
        "average_newCases_df2_growth2 = average_newCases_df2[average_newCases_df2['growth_label'] == 'flat_growth']\n",
        "average_newCases_df2_growth3 = average_newCases_df2[average_newCases_df2['growth_label'] == 'mild_decrement']\n",
        "average_newCases_df2_growth4 = average_newCases_df2[average_newCases_df2['growth_label'] == 'mild_growth']\n",
        "\n",
        "print(average_newCases_df2_growth0.shape)\n",
        "print(average_newCases_df2_growth1.shape)\n",
        "print(average_newCases_df2_growth2.shape)\n",
        "print(average_newCases_df2_growth3.shape)\n",
        "print(average_newCases_df2_growth4.shape)"
      ],
      "execution_count": null,
      "outputs": []
    },
    {
      "cell_type": "markdown",
      "metadata": {
        "id": "t8tIyWqfDg5b"
      },
      "source": [
        "## Jenks Natural breaks "
      ]
    },
    {
      "cell_type": "code",
      "metadata": {
        "id": "9xtFTIcCDg5b"
      },
      "source": [
        "!pip install jenkspy\n"
      ],
      "execution_count": null,
      "outputs": []
    },
    {
      "cell_type": "code",
      "metadata": {
        "id": "Ystn74C2Dg5e"
      },
      "source": [
        "import jenkspy\n",
        "\n",
        "breaks = jenkspy.jenks_breaks(average_newCases_df2['percent_newcases'], nb_class=3)\n",
        "print(breaks)"
      ],
      "execution_count": null,
      "outputs": []
    },
    {
      "cell_type": "markdown",
      "metadata": {
        "id": "RYHAliDBDg5l"
      },
      "source": [
        "### Labeling criteria\n",
        "\n",
        "We have applied \"jenks Natural breaks' to label the county data as per 'percent change in cases'\n",
        "\n",
        "From the natural break algorithm, we have splited the data as follows \n",
        "\n",
        "* -1.136 to 3.642 is **label 1** (least chance of spreading) \n",
        "\n",
        "* 3.642 to 13.625 is **label 2** (Below threshold but chances to reach super spread level)\n",
        "\n",
        "* 13.625 to 410.181818 is **label 3** (Super spread week)"
      ]
    },
    {
      "cell_type": "markdown",
      "metadata": {
        "id": "szrkUcCjIRVV"
      },
      "source": [
        "4 class labeling"
      ]
    },
    {
      "cell_type": "code",
      "metadata": {
        "id": "yo2DmKmODg5g"
      },
      "source": [
        "import jenkspy\n",
        "\n",
        "breaks = jenkspy.jenks_breaks(average_newCases_df2['percent_newcases'], nb_class=4)\n",
        "print(breaks)"
      ],
      "execution_count": null,
      "outputs": []
    },
    {
      "cell_type": "code",
      "metadata": {
        "id": "z_X2UYUzDg5l"
      },
      "source": [
        "average_newCases_df2['labels'] = pd.cut(average_newCases_df2['percent_newcases'],\n",
        "                        bins=breaks,\n",
        "                        labels=['LessSpread','Spread', 'SuperSpread','SuperSpread2'])"
      ],
      "execution_count": null,
      "outputs": []
    },
    {
      "cell_type": "code",
      "metadata": {
        "id": "5jCcF-cnDg5p"
      },
      "source": [
        "print('Number of records in LessSpread:',average_newCases_df2[average_newCases_df2['labels'] == 'LessSpread']['CTNAME'].count())\n",
        "print('Number of records in Spread:',average_newCases_df2[average_newCases_df2['labels'] == 'Spread']['CTNAME'].count())\n",
        "print('Number of records in SuperSpread:',average_newCases_df2[average_newCases_df2['labels'] == 'SuperSpread']['CTNAME'].count())\n",
        "\n",
        "print('Number of records in SuperSpread:',average_newCases_df2[average_newCases_df2['labels'] == 'SuperSpread2']['CTNAME'].count())"
      ],
      "execution_count": null,
      "outputs": []
    },
    {
      "cell_type": "markdown",
      "metadata": {
        "id": "y7WRtWRSIXsn"
      },
      "source": [
        "8 class labeling"
      ]
    },
    {
      "cell_type": "code",
      "metadata": {
        "id": "8NoMR0xnHrFm"
      },
      "source": [
        "breaks = jenkspy.jenks_breaks(average_newCases_df2['percent_newcases'], nb_class=8)\n",
        "print(breaks)"
      ],
      "execution_count": null,
      "outputs": []
    },
    {
      "cell_type": "code",
      "metadata": {
        "id": "PD7KoFEEDg5n"
      },
      "source": [
        "average_newCases_df2['labels'] = pd.cut(average_newCases_df2['percent_newcases'],\n",
        "                        bins=breaks,\n",
        "                        labels=['LessSpread','Spread', 'SuperSpread1','SuperSpread2','SuperSpread3','SuperSpread4','SuperSpread5','SuperSpread6'])"
      ],
      "execution_count": null,
      "outputs": []
    },
    {
      "cell_type": "code",
      "metadata": {
        "id": "2oL-Lg9VDg5q"
      },
      "source": [
        "print('Number of records in LessSpread:',average_newCases_df2[average_newCases_df2['labels'] == 'LessSpread']['CTNAME'].count())\n",
        "print('Number of records in Spread:',average_newCases_df2[average_newCases_df2['labels'] == 'Spread']['CTNAME'].count())\n",
        "print('Number of records in SuperSpread:',average_newCases_df2[average_newCases_df2['labels'] == 'SuperSpread1']['CTNAME'].count())\n",
        "print('Number of records in SuperSpread2:',average_newCases_df2[average_newCases_df2['labels'] == 'SuperSpread2']['CTNAME'].count())\n",
        "print('Number of records in SuperSpread3:',average_newCases_df2[average_newCases_df2['labels'] == 'SuperSpread3']['CTNAME'].count())\n",
        "print('Number of records in SuperSpread4:',average_newCases_df2[average_newCases_df2['labels'] == 'SuperSpread4']['CTNAME'].count())\n",
        "print('Number of records in SuperSpread5:',average_newCases_df2[average_newCases_df2['labels'] == 'SuperSpread5']['CTNAME'].count())\n",
        "print('Number of records in SuperSpread6:',average_newCases_df2[average_newCases_df2['labels'] == 'SuperSpread6']['CTNAME'].count())"
      ],
      "execution_count": null,
      "outputs": []
    },
    {
      "cell_type": "code",
      "metadata": {
        "id": "CaLTNiYpDg5s"
      },
      "source": [
        "average_newCases_df2.head()"
      ],
      "execution_count": null,
      "outputs": []
    },
    {
      "cell_type": "markdown",
      "metadata": {
        "id": "FSbnoyQHDmNr"
      },
      "source": [
        "# 2.3 Labeling data for CA -Maryland Social Distancing Inertia combined"
      ]
    },
    {
      "cell_type": "code",
      "metadata": {
        "id": "YtAQAPzpDmN0"
      },
      "source": [
        "CA_combined_sd_inertia_data.head(2)"
      ],
      "execution_count": null,
      "outputs": []
    },
    {
      "cell_type": "code",
      "metadata": {
        "id": "wEgoVgE_DmN6"
      },
      "source": [
        "CA_combined_sd_inertia_data_ = CA_combined_sd_inertia_data.copy()"
      ],
      "execution_count": null,
      "outputs": []
    },
    {
      "cell_type": "code",
      "metadata": {
        "id": "n6gelhrqDmN8"
      },
      "source": [
        "CA_combined_sd_inertia_data = CA_combined_sd_inertia_data_.copy().reset_index(drop=True)"
      ],
      "execution_count": null,
      "outputs": []
    },
    {
      "cell_type": "code",
      "metadata": {
        "id": "sRqOVVm4DmN-"
      },
      "source": [
        "#average_newCases_df = pd.DataFrame(columns=['County Name',  'fips_x',  'average_per_week','startDate','endDate'])\n",
        "\n",
        "for index, row in tqdm(average_newCases_df2.iterrows()):\n",
        "    startDate, endDate = row['startDate'], row['endDate']\n",
        "    fips = row['FIPS']\n",
        "    #print(startDate,endDate,fips)\n",
        "    df_index = (CA_combined_sd_inertia_data['FIPS'] == row['FIPS']) & (CA_combined_sd_inertia_data['Date'] >= startDate) & (CA_combined_sd_inertia_data['Date'] <= endDate)\n",
        "    df_weekData =  CA_combined_sd_inertia_data.loc[df_index]\n",
        "    #print(df_weekData)\n",
        "    CA_combined_sd_inertia_data.loc[df_index,'label'] = row['labels']\n",
        "    CA_combined_sd_inertia_data.loc[df_index,'growth_label'] = row['growth_label']\n",
        "\n",
        "\n"
      ],
      "execution_count": null,
      "outputs": []
    },
    {
      "cell_type": "code",
      "metadata": {
        "id": "tdloE2MXDmOB"
      },
      "source": [
        "CA_combined_sd_inertia_data.head(5)"
      ],
      "execution_count": null,
      "outputs": []
    },
    {
      "cell_type": "code",
      "metadata": {
        "id": "DtVoVGgGDmOD"
      },
      "source": [
        "CA_combined_sd_inertia_data[CA_combined_sd_inertia_data['label'] == 'SuperSpread2'].sort_values(by=['FIPS','Date']).count()"
      ],
      "execution_count": null,
      "outputs": []
    },
    {
      "cell_type": "code",
      "metadata": {
        "id": "iCfthn2-DmOE"
      },
      "source": [
        "CA_combined_sd_inertia_data.shape"
      ],
      "execution_count": null,
      "outputs": []
    },
    {
      "cell_type": "code",
      "metadata": {
        "id": "11KH6RxNDmOG"
      },
      "source": [
        "CA_combined_sd_inertia_data['label'] = CA_combined_sd_inertia_data['label'].apply(lambda x: x if x != 'SuperSpread2' else 'SuperSpread')"
      ],
      "execution_count": null,
      "outputs": []
    },
    {
      "cell_type": "markdown",
      "metadata": {
        "id": "FG5rsdswOkln"
      },
      "source": [
        "## Computing growth label per 1k population"
      ]
    },
    {
      "cell_type": "code",
      "metadata": {
        "id": "dPtMOBJmOjRx"
      },
      "source": [
        "newcases_1k_inertia = CA_combined_sd_inertia_data['New cases/1000 people'].values"
      ],
      "execution_count": null,
      "outputs": []
    },
    {
      "cell_type": "code",
      "metadata": {
        "id": "mPNg_wcWOjiV"
      },
      "source": [
        "diffArr = np.diff(newcases_1k_inertia)\n",
        "print(len(diffArr))\n",
        "diffArr[0]\n",
        "\n",
        "growth_values =[]\n",
        "growth_values.append(0.0) # making first value as 0, as np.diff leaves first values as NA\n",
        "print('growth_values : ',len(growth_values))\n",
        "growth_values.extend(diffArr)\n",
        "print('growth_values : ',len(growth_values))"
      ],
      "execution_count": null,
      "outputs": []
    },
    {
      "cell_type": "markdown",
      "metadata": {
        "id": "gz4dGQOfO3WF"
      },
      "source": [
        "## Determining mean,stddev, variance"
      ]
    },
    {
      "cell_type": "code",
      "metadata": {
        "id": "oA_TV6iUOjc0"
      },
      "source": [
        "stdDev = np.std(diffArr)\n",
        "variance = np.var(diffArr)\n",
        "mean = np.mean(diffArr)\n",
        "min = np.min(diffArr)\n",
        "max = np.max(diffArr)\n",
        "\n",
        "\n",
        "print(\"min \",min)\n",
        "print(\"max \",max)\n",
        "\n",
        "print(\"mean \",mean)\n",
        "print(\"std. deviation \",stdDev)\n",
        "print(\"variance \",variance)\n",
        "\n"
      ],
      "execution_count": null,
      "outputs": []
    },
    {
      "cell_type": "markdown",
      "metadata": {
        "id": "-Z7O7u3HO-ZQ"
      },
      "source": [
        "## Getting positive cases"
      ]
    },
    {
      "cell_type": "code",
      "metadata": {
        "id": "UUIwPs9UOjEY"
      },
      "source": [
        "print('length diffArr: ',len(diffArr))\n",
        "\n",
        "non_zero_pos_diff = []\n",
        "\n",
        "for i in diffArr:\n",
        "  if i > 0:\n",
        "    non_zero_pos_diff.append(i)\n",
        "\n",
        "print('non_zero_pos_diff length: ',len(non_zero_pos_diff))\n",
        "\n",
        "\n",
        "stdDev = np.std(non_zero_pos_diff)\n",
        "variance = np.var(non_zero_pos_diff)\n",
        "mean = np.mean(non_zero_pos_diff)\n",
        "min = np.min(non_zero_pos_diff)\n",
        "max = np.max(non_zero_pos_diff)\n",
        "\n",
        "\n",
        "print(\"min \",min)\n",
        "print(\"max \",max)\n",
        "\n",
        "print(\"mean \",mean)\n",
        "print(\"std. deviation \",stdDev)\n",
        "print(\"variance \",variance)\n"
      ],
      "execution_count": null,
      "outputs": []
    },
    {
      "cell_type": "markdown",
      "metadata": {
        "id": "TYwU48EEPA0Y"
      },
      "source": [
        "## Getting negative cases"
      ]
    },
    {
      "cell_type": "code",
      "metadata": {
        "id": "aLplu8uaPGxJ"
      },
      "source": [
        "non_zero_neg_diff = []\n",
        "\n",
        "for i in diffArr:\n",
        "  if i < 0:\n",
        "    non_zero_neg_diff.append(i)\n",
        "print(\"non_zero_neg_diff length : \",len(non_zero_neg_diff))\n",
        "\n",
        "stdDev = np.std(non_zero_neg_diff)\n",
        "variance = np.var(non_zero_neg_diff)\n",
        "mean = np.mean(non_zero_neg_diff)\n",
        "min = np.min(non_zero_neg_diff)\n",
        "max = np.max(non_zero_neg_diff)\n",
        "\n",
        "\n",
        "print(\"min \",min)\n",
        "print(\"max \",max)\n",
        "\n",
        "print(\"mean \",mean)\n",
        "print(\"std. deviation \",stdDev)\n",
        "print(\"variance \",variance)\n"
      ],
      "execution_count": null,
      "outputs": []
    },
    {
      "cell_type": "markdown",
      "metadata": {
        "id": "RoHWi3CEPJJx"
      },
      "source": [
        "## Applying natural breaks"
      ]
    },
    {
      "cell_type": "code",
      "metadata": {
        "id": "z7rMDJQ1PMG4"
      },
      "source": [
        "pos_breaks = jenkspy.jenks_breaks(non_zero_pos_diff, nb_class=2)\n",
        "print(pos_breaks)\n",
        "neg_breaks = jenkspy.jenks_breaks(non_zero_neg_diff, nb_class=2)\n",
        "print(neg_breaks)\n"
      ],
      "execution_count": null,
      "outputs": []
    },
    {
      "cell_type": "markdown",
      "metadata": {
        "id": "t-jDd75F6kCg"
      },
      "source": [
        "## New Labeling"
      ]
    },
    {
      "cell_type": "code",
      "metadata": {
        "id": "wYrF4gLC6mJK"
      },
      "source": [
        "\n",
        "def determine_growth_label_inertia1k(x):\n",
        "  if x >= -0.000009 and x <= 0.00009:\n",
        "    return 'flat_growth'\n",
        "  if x > 0.00009 and x <= 0.3248:\n",
        "    return 'mild_growth'\n",
        "  if x > 0.3248 and x <= 2.1234:\n",
        "    return 'drastic_growth'\n",
        "  if x >= -0.3404  and x <= -0.000009:\n",
        "    return 'mild_decrement'\n",
        "  if x >= -2.1359 and x < -0.3404:\n",
        "    return 'drastic_decrement'"
      ],
      "execution_count": null,
      "outputs": []
    },
    {
      "cell_type": "code",
      "metadata": {
        "id": "dU4jcGi26tt3"
      },
      "source": [
        "CA_combined_sd_inertia_data['growth_label_1k'] = CA_combined_sd_inertia_data['New cases/1000 people'].apply(lambda x: determine_growth_label_inertia1k(x) )"
      ],
      "execution_count": null,
      "outputs": []
    },
    {
      "cell_type": "code",
      "metadata": {
        "id": "ZbJmjgUz67fy"
      },
      "source": [
        "CA_combined_sd_inertia_data['growth_label_1k'].unique()\n",
        "CA_combined_data['growth_label_1k'].unique()"
      ],
      "execution_count": null,
      "outputs": []
    },
    {
      "cell_type": "code",
      "metadata": {
        "id": "CRXbYLE1wbDY"
      },
      "source": [
        "CA_combined_sd_inertia_data_growth0 = CA_combined_sd_inertia_data[CA_combined_sd_inertia_data['growth_label'] == 'drastic_decrement']\n",
        "CA_combined_sd_inertia_data_growth1 = CA_combined_sd_inertia_data[CA_combined_sd_inertia_data['growth_label'] == 'drastic_growth']\n",
        "CA_combined_sd_inertia_data_growth2 = CA_combined_sd_inertia_data[CA_combined_sd_inertia_data['growth_label'] == 'flat_growth']\n",
        "CA_combined_sd_inertia_data_growth3 = CA_combined_sd_inertia_data[CA_combined_sd_inertia_data['growth_label'] == 'mild_decrement']\n",
        "CA_combined_sd_inertia_data_growth4 = CA_combined_sd_inertia_data[CA_combined_sd_inertia_data['growth_label'] == 'mild_growth']\n",
        "\n",
        "print(CA_combined_sd_inertia_data_growth0.shape)\n",
        "print(CA_combined_sd_inertia_data_growth1.shape)\n",
        "print(CA_combined_sd_inertia_data_growth2.shape)\n",
        "print(CA_combined_sd_inertia_data_growth3.shape)\n",
        "print(CA_combined_sd_inertia_data_growth4.shape)\n"
      ],
      "execution_count": null,
      "outputs": []
    },
    {
      "cell_type": "markdown",
      "metadata": {
        "id": "NtgqBtTdyv1f"
      },
      "source": [
        "### Export Labeled Maryland Inertia Data"
      ]
    },
    {
      "cell_type": "code",
      "metadata": {
        "id": "TIm2P7cDDmOH"
      },
      "source": [
        "from datetime import datetime\n",
        "location = '/content/drive/Shared drives/CMPE 295- Master Project/Covid19-data/'\n",
        "filename = 'CA_sd_inertia_labeledData_'+datetime.now().strftime(\"%b%d\")+'.csv' #%Y%m%d\n",
        "print(filename)\n",
        "CA_combined_sd_inertia_data.to_csv(location+filename,index=False)"
      ],
      "execution_count": null,
      "outputs": []
    },
    {
      "cell_type": "code",
      "metadata": {
        "id": "LcFFdnyfDmOJ"
      },
      "source": [
        "average_newCases_df2[average_newCases_df2['labels'] == 'SuperSpread']"
      ],
      "execution_count": null,
      "outputs": []
    },
    {
      "cell_type": "markdown",
      "metadata": {
        "id": "bhXWeRYLDmOK"
      },
      "source": [
        "## Kernal Density Estimation"
      ]
    },
    {
      "cell_type": "code",
      "metadata": {
        "id": "6E7V-zX3DmOK"
      },
      "source": [
        "%matplotlib inline\n",
        "\n",
        "from numpy import array, linspace\n",
        "from sklearn.neighbors.kde import KernelDensity\n",
        "from matplotlib.pyplot import plot\n",
        "\n",
        "a = array(data).reshape(-1, 1)\n",
        "kde = KernelDensity(kernel='gaussian', bandwidth=3).fit(a)\n",
        "s = linspace(0,50)\n",
        "e = kde.score_samples(s.reshape(-1,1))\n",
        "plot(s, e)"
      ],
      "execution_count": null,
      "outputs": []
    },
    {
      "cell_type": "code",
      "metadata": {
        "id": "TXzZnc3zDmOM"
      },
      "source": [
        "\n",
        "\n",
        "from scipy.signal import argrelextrema\n",
        "mi, ma = argrelextrema(e, np.less)[0], argrelextrema(e, np.greater)[0]\n",
        "print(\"Minima:\", s[mi])\n",
        "print(\"Maxima:\", s[ma])"
      ],
      "execution_count": null,
      "outputs": []
    },
    {
      "cell_type": "code",
      "metadata": {
        "id": "2nWMV5PxDmOO"
      },
      "source": [
        "lower_range = s[mi][0]\n",
        "upper_range = s[mi][1]\n",
        "\n",
        "lower_range"
      ],
      "execution_count": null,
      "outputs": []
    },
    {
      "cell_type": "code",
      "metadata": {
        "id": "CNNUo3H3DmOQ"
      },
      "source": [
        "print(a[a < mi[0]], a[(a >= mi[0]) * (a <= mi[1])], a[a >= mi[1]])\n"
      ],
      "execution_count": null,
      "outputs": []
    },
    {
      "cell_type": "markdown",
      "metadata": {
        "id": "OKW5GbptDmOR"
      },
      "source": [
        "[-1.1363636363636362, 39.5, 213.91325695581014, 410.1818181818182]"
      ]
    },
    {
      "cell_type": "markdown",
      "metadata": {
        "id": "20G9vN0IDmOR"
      },
      "source": [
        "Minima: [19.3877551  33.67346939]\n",
        "Maxima: [24.48979592 39.79591837]*italicized text*"
      ]
    },
    {
      "cell_type": "code",
      "metadata": {
        "id": "Gt4GntGnDmOS"
      },
      "source": [
        "plot(s[:mi[0]+1], e[:mi[0]+1], 'r',\n",
        "     s[mi[0]:mi[1]+1], e[mi[0]:mi[1]+1], 'g',\n",
        "     s[mi[1]:], e[mi[1]:], 'b',\n",
        "     s[ma], e[ma], 'go',\n",
        "     s[mi], e[mi], 'ro')"
      ],
      "execution_count": null,
      "outputs": []
    },
    {
      "cell_type": "markdown",
      "metadata": {
        "id": "0UtkB-ScDmOT"
      },
      "source": [
        "print(a[a < mi[0]], a[(a >= mi[0]) * (a <= mi[1])], a[a >= mi[1]])\n"
      ]
    },
    {
      "cell_type": "markdown",
      "metadata": {
        "id": "Fh1oil7DDmOT"
      },
      "source": [
        "## Labeling Data with Kernal density results"
      ]
    },
    {
      "cell_type": "code",
      "metadata": {
        "id": "isRxL9xbDmOT"
      },
      "source": [
        "average_newCases_df3.head()"
      ],
      "execution_count": null,
      "outputs": []
    },
    {
      "cell_type": "code",
      "metadata": {
        "id": "BowTKmD4DmOV"
      },
      "source": [
        "print(lower_range, upper_range)"
      ],
      "execution_count": null,
      "outputs": []
    },
    {
      "cell_type": "code",
      "metadata": {
        "id": "A2dPwoXqDmOW"
      },
      "source": [
        "average_newCases_df3['label'] = average_newCases_df3['percent_newcases'].apply(lambda x: 'lessSpread' if x < lower_range  else 'SuperSpread')\n"
      ],
      "execution_count": null,
      "outputs": []
    },
    {
      "cell_type": "code",
      "metadata": {
        "id": "8jKv8_mjDmOX"
      },
      "source": [
        "average_newCases_df3['label'] = average_newCases_df3['percent_newcases'].apply(lambda x: 'lessSpread' if x < lower_range else ('Spread' if (x >= lower_range and x <= upper_range) else 'SuperSpread'))\n",
        "\n",
        "\n",
        "\n",
        "#converter = lambda x : x*2 if x < 10 else (x*3 if x < 20 else x)\n",
        "\n"
      ],
      "execution_count": null,
      "outputs": []
    },
    {
      "cell_type": "code",
      "metadata": {
        "id": "keersvD3DmOZ"
      },
      "source": [
        "average_newCases_df3[average_newCases_df3['label'] == 'lessSpread'].count()"
      ],
      "execution_count": null,
      "outputs": []
    },
    {
      "cell_type": "code",
      "metadata": {
        "id": "PkO7WKp4DmOb"
      },
      "source": [
        "average_newCases_df3[average_newCases_df3['label'] == 'Spread'].count()"
      ],
      "execution_count": null,
      "outputs": []
    },
    {
      "cell_type": "code",
      "metadata": {
        "id": "r01ffwjEDmOc"
      },
      "source": [
        "average_newCases_df3[average_newCases_df3['label'] == 'SuperSpread'].count()"
      ],
      "execution_count": null,
      "outputs": []
    },
    {
      "cell_type": "code",
      "metadata": {
        "id": "6DMYpLj4Rg0J"
      },
      "source": [
        "average_newCases_df3[average_newCases_df3['growth_label'] == 'SuperSpread'].count()"
      ],
      "execution_count": null,
      "outputs": []
    },
    {
      "cell_type": "code",
      "metadata": {
        "id": "QOWiSktdDmOd"
      },
      "source": [
        "average_newCases_df3.head()"
      ],
      "execution_count": null,
      "outputs": []
    },
    {
      "cell_type": "markdown",
      "metadata": {
        "id": "tjzZ215OtaIW"
      },
      "source": [
        "# unused code\n"
      ]
    },
    {
      "cell_type": "code",
      "metadata": {
        "id": "56wE2giGtZGI"
      },
      "source": [
        "average_newCases_df2[average_newCases_df2['County Name'] != 'Queens County']"
      ],
      "execution_count": null,
      "outputs": []
    },
    {
      "cell_type": "code",
      "metadata": {
        "id": "7WVvMHKojnwa"
      },
      "source": [
        "average_newCases_df2.groupby(by=['County Name', 'fips_x','startDate','endDate']).sum()"
      ],
      "execution_count": null,
      "outputs": []
    },
    {
      "cell_type": "code",
      "metadata": {
        "id": "z0wvGGeQGSn6"
      },
      "source": [
        "week_df.head()"
      ],
      "execution_count": null,
      "outputs": []
    },
    {
      "cell_type": "code",
      "metadata": {
        "id": "4nEdqE6wCkIH"
      },
      "source": [
        "CA_combined_data.dtypes"
      ],
      "execution_count": null,
      "outputs": []
    },
    {
      "cell_type": "code",
      "metadata": {
        "id": "0T7aYEoAB4RX"
      },
      "source": [
        "start_date_df = (\n",
        "    CA_combined_data\n",
        "    .merge(week_df, left_on=['Date'],right_on=['startDate'], how='inner')\n",
        "    .pipe(lambda x: x.assign(date=x.Date))\n",
        "    .rename(columns={\"starting_rolling_avg_new_cases\": \"rolling_avg_new_cases\"})\n",
        "    .reset_index(drop=True)\n",
        "\n",
        "    [['Date','fips_x','County Name','retail and recreation','grocery and pharmacy','parks','transit stations','workplaces','residential','driving','m50','m50_index','population_density','mask_rule_active','mask_wearing_percent','New cases','startDate','WeekNumber','rolling_avg_new_cases']]\n",
        "    .pivot_table(values='rolling_avg_new_cases', columns='WeekNumber', index='County Name', aggfunc='sum')\n",
        "    .rename_axis(None, axis=1)\n",
        "    .reset_index()\n",
        ")\n",
        "\n",
        "start_date_df"
      ],
      "execution_count": null,
      "outputs": []
    },
    {
      "cell_type": "code",
      "metadata": {
        "id": "rGUhrht6CdbZ"
      },
      "source": [
        "end_date_df = (\n",
        "    CA_combined_data\n",
        "    .merge(week_df, on='Date', how='inner')\n",
        "    .pipe(lambda x: x.assign(date=x.Date))\n",
        "    .rename(columns={\"Confirmed\": \"end_date_Confirmed\"})\n",
        "    .reset_index(drop=True)\n",
        "\n",
        "    [['County Name', 'fips_x', 'end_date_Confirmed','endDate','WeekNumber']]\n",
        "    .pivot_table(values='end_date_Confirmed', columns='WeekNumber', index='County Name', aggfunc='sum')\n",
        "    .rename_axis(None, axis=1)\n",
        "    .reset_index()\n",
        ")"
      ],
      "execution_count": null,
      "outputs": []
    }
  ]
}