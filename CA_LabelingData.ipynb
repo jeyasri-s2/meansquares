{
  "nbformat": 4,
  "nbformat_minor": 0,
  "metadata": {
    "colab": {
      "name": "CA_LabelingData.ipynb",
      "provenance": [],
      "collapsed_sections": [],
      "machine_shape": "hm",
      "include_colab_link": true
    },
    "kernelspec": {
      "name": "python3",
      "display_name": "Python 3"
    },
    "accelerator": "GPU"
  },
  "cells": [
    {
      "cell_type": "markdown",
      "metadata": {
        "id": "view-in-github",
        "colab_type": "text"
      },
      "source": [
        "<a href=\"https://colab.research.google.com/github/aarsanjani/meansquares/blob/master/CA_LabelingData.ipynb\" target=\"_parent\"><img src=\"https://colab.research.google.com/assets/colab-badge.svg\" alt=\"Open In Colab\"/></a>"
      ]
    },
    {
      "cell_type": "markdown",
      "metadata": {
        "id": "qMAquoew3eJg"
      },
      "source": [
        "# Workflow\n",
        "\n",
        "This colab aims in labeling the CA data for super spread week, safe week and improvement week as per the 'number of cases' increasing or decreasing every week.\n",
        "\n",
        "Idea: \n",
        "* compute 7 -day moving average\n",
        "* 14 days data compare with next 14 days rolling window\n",
        "* split the % as buckets \n",
        "* label the data as per bucket"
      ]
    },
    {
      "cell_type": "code",
      "metadata": {
        "id": "_UPGHLrf3SHf",
        "outputId": "efc9fb9d-cf77-4cb7-b3b8-2895c7b65f2a",
        "colab": {
          "base_uri": "https://localhost:8080/",
          "height": 34
        }
      },
      "source": [
        "from google.colab import drive\n",
        "drive.mount('/content/drive')"
      ],
      "execution_count": 107,
      "outputs": [
        {
          "output_type": "stream",
          "text": [
            "Drive already mounted at /content/drive; to attempt to forcibly remount, call drive.mount(\"/content/drive\", force_remount=True).\n"
          ],
          "name": "stdout"
        }
      ]
    },
    {
      "cell_type": "code",
      "metadata": {
        "id": "Mi5n0Qe14UFG"
      },
      "source": [
        "import pandas as pd\n",
        "\n",
        "from tqdm import tqdm\n",
        "import seaborn as sns\n",
        "import numpy as np\n",
        "import matplotlib.pyplot as plt\n",
        "import os\n",
        "from pandas import Series, datetime\n",
        "from pandas.plotting import scatter_matrix, autocorrelation_plot\n",
        "from sklearn.preprocessing import StandardScaler, RobustScaler\n",
        "from sklearn.model_selection import train_test_split, KFold, cross_val_score, GridSearchCV, TimeSeriesSplit\n",
        "from sklearn import metrics\n",
        "from sklearn.metrics import classification_report, confusion_matrix, accuracy_score, mean_squared_error\n",
        "from sklearn.pipeline import Pipeline\n",
        "from sklearn.linear_model import LogisticRegression\n",
        "from sklearn.tree import DecisionTreeClassifier\n",
        "from sklearn.neighbors import KNeighborsClassifier\n",
        "from sklearn.discriminant_analysis import LinearDiscriminantAnalysis\n",
        "from sklearn.naive_bayes import GaussianNB\n",
        "from sklearn.cluster import KMeans\n",
        "from sklearn.svm import SVC\n",
        "from sklearn.ensemble import AdaBoostClassifier, GradientBoostingClassifier, RandomForestClassifier, ExtraTreesClassifier\n",
        "from sklearn.metrics import roc_curve, auc\n",
        "import random\n",
        "from statsmodels.graphics.tsaplots import plot_acf, plot_pacf\n",
        "from statsmodels.tsa.arima_model import ARIMA\n",
        "from xgboost import XGBClassifier\n",
        "from sklearn.mixture import GaussianMixture"
      ],
      "execution_count": 108,
      "outputs": []
    },
    {
      "cell_type": "code",
      "metadata": {
        "id": "BPu9_0-04dxZ"
      },
      "source": [
        "os.environ[\"TF_CPP_MIN_LOG_LEVEL\"]=\"2\"\n",
        "import warnings; warnings.simplefilter('ignore')\n"
      ],
      "execution_count": 109,
      "outputs": []
    },
    {
      "cell_type": "code",
      "metadata": {
        "id": "umC6l9Q04m-0",
        "outputId": "c5993186-1b41-4b0f-98f2-7aa5aff77e81",
        "colab": {
          "base_uri": "https://localhost:8080/",
          "height": 235
        }
      },
      "source": [
        "!ls  '/content/drive/Shared drives/CMPE 295- Master Project/Covid19-data/'"
      ],
      "execution_count": 110,
      "outputs": [
        {
          "output_type": "stream",
          "text": [
            "CA_combined_Sep09.csv\t\t     CA_sd_inertia_labeledData_Sep25.csv\n",
            "CA_combined_Sep25.csv\t\t     CA_socialDistancingInertiaData_Sep09.csv\n",
            "CA-CovidAug22.csv\t\t     CA_socialDistancingInertiaData_Sep25.csv\n",
            "CA_labeledData_Sep09\t\t     Maryland_University_SocialDistancing_Data\n",
            "CA_labeledData_Sep18.csv\t     mask_rule.csv\n",
            "CA_labeledData_Sep20.csv\t     Newyork_combinedAug22.csv\n",
            "CA_labeledData_Sep22.csv\t     NY_sd_inertia_labeledData_Aug26.csv\n",
            "CA_labeledData_Sep25.csv\t     NY_socialDistancingInertiaDataAug25.csv\n",
            "CA_labeledData_Sep26.csv\t     Social_Distancing_Inertia_County.csv\n",
            "CA_sd_inertia_labeledData_Sep09      TX_combined_Sep10.csv\n",
            "CA_sd_inertia_labeledData_Sep18.csv  TX-Covid_Sep10.csv\n",
            "CA_sd_inertia_labeledData_Sep20.csv  TX_socialDistancingInertiaData_Sep10.csv\n",
            "CA_sd_inertia_labeledData_Sep22.csv\n"
          ],
          "name": "stdout"
        }
      ]
    },
    {
      "cell_type": "markdown",
      "metadata": {
        "id": "tRs8xkjX433D"
      },
      "source": [
        "# 1.1 Loading CA data"
      ]
    },
    {
      "cell_type": "code",
      "metadata": {
        "id": "9uArhfbu43lE",
        "outputId": "83990b5f-7497-4cf4-b02d-76df27fc5a3d",
        "colab": {
          "base_uri": "https://localhost:8080/",
          "height": 333
        }
      },
      "source": [
        "CA_combined_data = pd.read_csv('/content/drive/Shared drives/CMPE 295- Master Project/Covid19-data/CA_combined_Sep25.csv',low_memory=False)\n",
        "CA_combined_data.head()"
      ],
      "execution_count": 111,
      "outputs": [
        {
          "output_type": "execute_result",
          "data": {
            "text/html": [
              "<div>\n",
              "<style scoped>\n",
              "    .dataframe tbody tr th:only-of-type {\n",
              "        vertical-align: middle;\n",
              "    }\n",
              "\n",
              "    .dataframe tbody tr th {\n",
              "        vertical-align: top;\n",
              "    }\n",
              "\n",
              "    .dataframe thead th {\n",
              "        text-align: right;\n",
              "    }\n",
              "</style>\n",
              "<table border=\"1\" class=\"dataframe\">\n",
              "  <thead>\n",
              "    <tr style=\"text-align: right;\">\n",
              "      <th></th>\n",
              "      <th>Date</th>\n",
              "      <th>fips_x</th>\n",
              "      <th>County Name</th>\n",
              "      <th>population</th>\n",
              "      <th>retail and recreation</th>\n",
              "      <th>grocery and pharmacy</th>\n",
              "      <th>parks</th>\n",
              "      <th>transit stations</th>\n",
              "      <th>workplaces</th>\n",
              "      <th>residential</th>\n",
              "      <th>driving</th>\n",
              "      <th>m50</th>\n",
              "      <th>m50_index</th>\n",
              "      <th>population_density</th>\n",
              "      <th>mask_rule_active</th>\n",
              "      <th>mask_wearing_percent</th>\n",
              "      <th>New cases</th>\n",
              "    </tr>\n",
              "  </thead>\n",
              "  <tbody>\n",
              "    <tr>\n",
              "      <th>0</th>\n",
              "      <td>2020-03-01</td>\n",
              "      <td>6001</td>\n",
              "      <td>Alameda County</td>\n",
              "      <td>1671329</td>\n",
              "      <td>6.0</td>\n",
              "      <td>9.0</td>\n",
              "      <td>15.0</td>\n",
              "      <td>1.0</td>\n",
              "      <td>4.0</td>\n",
              "      <td>0.0</td>\n",
              "      <td>-7.65</td>\n",
              "      <td>3.684</td>\n",
              "      <td>58</td>\n",
              "      <td>2261.547725</td>\n",
              "      <td>0</td>\n",
              "      <td>0.0</td>\n",
              "      <td>0</td>\n",
              "    </tr>\n",
              "    <tr>\n",
              "      <th>1</th>\n",
              "      <td>2020-03-02</td>\n",
              "      <td>6001</td>\n",
              "      <td>Alameda County</td>\n",
              "      <td>1671329</td>\n",
              "      <td>4.0</td>\n",
              "      <td>7.0</td>\n",
              "      <td>7.0</td>\n",
              "      <td>-1.0</td>\n",
              "      <td>3.0</td>\n",
              "      <td>0.0</td>\n",
              "      <td>6.76</td>\n",
              "      <td>6.182</td>\n",
              "      <td>98</td>\n",
              "      <td>2261.547725</td>\n",
              "      <td>0</td>\n",
              "      <td>0.0</td>\n",
              "      <td>0</td>\n",
              "    </tr>\n",
              "    <tr>\n",
              "      <th>2</th>\n",
              "      <td>2020-03-03</td>\n",
              "      <td>6001</td>\n",
              "      <td>Alameda County</td>\n",
              "      <td>1671329</td>\n",
              "      <td>5.0</td>\n",
              "      <td>12.0</td>\n",
              "      <td>41.0</td>\n",
              "      <td>0.0</td>\n",
              "      <td>1.0</td>\n",
              "      <td>-1.0</td>\n",
              "      <td>13.19</td>\n",
              "      <td>6.271</td>\n",
              "      <td>100</td>\n",
              "      <td>2261.547725</td>\n",
              "      <td>0</td>\n",
              "      <td>0.0</td>\n",
              "      <td>1</td>\n",
              "    </tr>\n",
              "    <tr>\n",
              "      <th>3</th>\n",
              "      <td>2020-03-04</td>\n",
              "      <td>6001</td>\n",
              "      <td>Alameda County</td>\n",
              "      <td>1671329</td>\n",
              "      <td>1.0</td>\n",
              "      <td>6.0</td>\n",
              "      <td>23.0</td>\n",
              "      <td>-3.0</td>\n",
              "      <td>1.0</td>\n",
              "      <td>0.0</td>\n",
              "      <td>10.67</td>\n",
              "      <td>6.209</td>\n",
              "      <td>99</td>\n",
              "      <td>2261.547725</td>\n",
              "      <td>0</td>\n",
              "      <td>0.0</td>\n",
              "      <td>0</td>\n",
              "    </tr>\n",
              "    <tr>\n",
              "      <th>4</th>\n",
              "      <td>2020-03-05</td>\n",
              "      <td>6001</td>\n",
              "      <td>Alameda County</td>\n",
              "      <td>1671329</td>\n",
              "      <td>1.0</td>\n",
              "      <td>6.0</td>\n",
              "      <td>12.0</td>\n",
              "      <td>-5.0</td>\n",
              "      <td>-1.0</td>\n",
              "      <td>1.0</td>\n",
              "      <td>11.64</td>\n",
              "      <td>6.654</td>\n",
              "      <td>106</td>\n",
              "      <td>2261.547725</td>\n",
              "      <td>0</td>\n",
              "      <td>0.0</td>\n",
              "      <td>0</td>\n",
              "    </tr>\n",
              "  </tbody>\n",
              "</table>\n",
              "</div>"
            ],
            "text/plain": [
              "         Date  fips_x  ... mask_wearing_percent  New cases\n",
              "0  2020-03-01    6001  ...                  0.0          0\n",
              "1  2020-03-02    6001  ...                  0.0          0\n",
              "2  2020-03-03    6001  ...                  0.0          1\n",
              "3  2020-03-04    6001  ...                  0.0          0\n",
              "4  2020-03-05    6001  ...                  0.0          0\n",
              "\n",
              "[5 rows x 17 columns]"
            ]
          },
          "metadata": {
            "tags": []
          },
          "execution_count": 111
        }
      ]
    },
    {
      "cell_type": "markdown",
      "metadata": {
        "id": "l_9OSAtX5wRO"
      },
      "source": [
        "## Computing rolling average"
      ]
    },
    {
      "cell_type": "code",
      "metadata": {
        "id": "ny2Rd-RF6vYk",
        "outputId": "c37a30ab-862c-488f-a16b-bd9da5fce8d5",
        "colab": {
          "base_uri": "https://localhost:8080/",
          "height": 218
        }
      },
      "source": [
        "CA_combined_data.iloc[:,15]"
      ],
      "execution_count": 112,
      "outputs": [
        {
          "output_type": "execute_result",
          "data": {
            "text/plain": [
              "0       0.000\n",
              "1       0.000\n",
              "2       0.000\n",
              "3       0.000\n",
              "4       0.000\n",
              "        ...  \n",
              "9191    0.669\n",
              "9192    0.669\n",
              "9193    0.669\n",
              "9194    0.669\n",
              "9195    0.669\n",
              "Name: mask_wearing_percent, Length: 9196, dtype: float64"
            ]
          },
          "metadata": {
            "tags": []
          },
          "execution_count": 112
        }
      ]
    },
    {
      "cell_type": "code",
      "metadata": {
        "id": "xC8CEpDiLiEn"
      },
      "source": [
        "df = pd.DataFrame(columns=['Date','fips_x','County Name','retail and recreation','grocery and pharmacy','parks','transit stations','workplaces','residential','driving','m50','m50_index','population_density','mask_rule_active','mask_wearing_percent','New cases','rolling_avg_new_cases'])\n"
      ],
      "execution_count": 113,
      "outputs": []
    },
    {
      "cell_type": "code",
      "metadata": {
        "id": "FWxcf8d0Jmyv",
        "outputId": "cae62f18-c4d8-4b0b-e628-12f2471d3ab2",
        "colab": {
          "base_uri": "https://localhost:8080/",
          "height": 333
        }
      },
      "source": [
        "CA_counties = CA_combined_data['County Name'].unique()\n",
        "\n",
        "for county in CA_counties:\n",
        "  county_data = CA_combined_data[CA_combined_data['County Name'] == county]\n",
        "  #print(county_data.iloc[:,15])\n",
        "  county_data['rolling_avg_new_cases'] = county_data.iloc[:,15].rolling(window=7).mean()\n",
        "  df = df.append(county_data)\n",
        "\n",
        "df.head()"
      ],
      "execution_count": 114,
      "outputs": [
        {
          "output_type": "execute_result",
          "data": {
            "text/html": [
              "<div>\n",
              "<style scoped>\n",
              "    .dataframe tbody tr th:only-of-type {\n",
              "        vertical-align: middle;\n",
              "    }\n",
              "\n",
              "    .dataframe tbody tr th {\n",
              "        vertical-align: top;\n",
              "    }\n",
              "\n",
              "    .dataframe thead th {\n",
              "        text-align: right;\n",
              "    }\n",
              "</style>\n",
              "<table border=\"1\" class=\"dataframe\">\n",
              "  <thead>\n",
              "    <tr style=\"text-align: right;\">\n",
              "      <th></th>\n",
              "      <th>Date</th>\n",
              "      <th>fips_x</th>\n",
              "      <th>County Name</th>\n",
              "      <th>retail and recreation</th>\n",
              "      <th>grocery and pharmacy</th>\n",
              "      <th>parks</th>\n",
              "      <th>transit stations</th>\n",
              "      <th>workplaces</th>\n",
              "      <th>residential</th>\n",
              "      <th>driving</th>\n",
              "      <th>m50</th>\n",
              "      <th>m50_index</th>\n",
              "      <th>population_density</th>\n",
              "      <th>mask_rule_active</th>\n",
              "      <th>mask_wearing_percent</th>\n",
              "      <th>New cases</th>\n",
              "      <th>rolling_avg_new_cases</th>\n",
              "      <th>population</th>\n",
              "    </tr>\n",
              "  </thead>\n",
              "  <tbody>\n",
              "    <tr>\n",
              "      <th>0</th>\n",
              "      <td>2020-03-01</td>\n",
              "      <td>6001</td>\n",
              "      <td>Alameda County</td>\n",
              "      <td>6.0</td>\n",
              "      <td>9.0</td>\n",
              "      <td>15.0</td>\n",
              "      <td>1.0</td>\n",
              "      <td>4.0</td>\n",
              "      <td>0.0</td>\n",
              "      <td>-7.65</td>\n",
              "      <td>3.684</td>\n",
              "      <td>58</td>\n",
              "      <td>2261.547725</td>\n",
              "      <td>0</td>\n",
              "      <td>0.0</td>\n",
              "      <td>0</td>\n",
              "      <td>NaN</td>\n",
              "      <td>1671329.0</td>\n",
              "    </tr>\n",
              "    <tr>\n",
              "      <th>1</th>\n",
              "      <td>2020-03-02</td>\n",
              "      <td>6001</td>\n",
              "      <td>Alameda County</td>\n",
              "      <td>4.0</td>\n",
              "      <td>7.0</td>\n",
              "      <td>7.0</td>\n",
              "      <td>-1.0</td>\n",
              "      <td>3.0</td>\n",
              "      <td>0.0</td>\n",
              "      <td>6.76</td>\n",
              "      <td>6.182</td>\n",
              "      <td>98</td>\n",
              "      <td>2261.547725</td>\n",
              "      <td>0</td>\n",
              "      <td>0.0</td>\n",
              "      <td>0</td>\n",
              "      <td>NaN</td>\n",
              "      <td>1671329.0</td>\n",
              "    </tr>\n",
              "    <tr>\n",
              "      <th>2</th>\n",
              "      <td>2020-03-03</td>\n",
              "      <td>6001</td>\n",
              "      <td>Alameda County</td>\n",
              "      <td>5.0</td>\n",
              "      <td>12.0</td>\n",
              "      <td>41.0</td>\n",
              "      <td>0.0</td>\n",
              "      <td>1.0</td>\n",
              "      <td>-1.0</td>\n",
              "      <td>13.19</td>\n",
              "      <td>6.271</td>\n",
              "      <td>100</td>\n",
              "      <td>2261.547725</td>\n",
              "      <td>0</td>\n",
              "      <td>0.0</td>\n",
              "      <td>1</td>\n",
              "      <td>NaN</td>\n",
              "      <td>1671329.0</td>\n",
              "    </tr>\n",
              "    <tr>\n",
              "      <th>3</th>\n",
              "      <td>2020-03-04</td>\n",
              "      <td>6001</td>\n",
              "      <td>Alameda County</td>\n",
              "      <td>1.0</td>\n",
              "      <td>6.0</td>\n",
              "      <td>23.0</td>\n",
              "      <td>-3.0</td>\n",
              "      <td>1.0</td>\n",
              "      <td>0.0</td>\n",
              "      <td>10.67</td>\n",
              "      <td>6.209</td>\n",
              "      <td>99</td>\n",
              "      <td>2261.547725</td>\n",
              "      <td>0</td>\n",
              "      <td>0.0</td>\n",
              "      <td>0</td>\n",
              "      <td>NaN</td>\n",
              "      <td>1671329.0</td>\n",
              "    </tr>\n",
              "    <tr>\n",
              "      <th>4</th>\n",
              "      <td>2020-03-05</td>\n",
              "      <td>6001</td>\n",
              "      <td>Alameda County</td>\n",
              "      <td>1.0</td>\n",
              "      <td>6.0</td>\n",
              "      <td>12.0</td>\n",
              "      <td>-5.0</td>\n",
              "      <td>-1.0</td>\n",
              "      <td>1.0</td>\n",
              "      <td>11.64</td>\n",
              "      <td>6.654</td>\n",
              "      <td>106</td>\n",
              "      <td>2261.547725</td>\n",
              "      <td>0</td>\n",
              "      <td>0.0</td>\n",
              "      <td>0</td>\n",
              "      <td>NaN</td>\n",
              "      <td>1671329.0</td>\n",
              "    </tr>\n",
              "  </tbody>\n",
              "</table>\n",
              "</div>"
            ],
            "text/plain": [
              "         Date fips_x  ... rolling_avg_new_cases  population\n",
              "0  2020-03-01   6001  ...                   NaN   1671329.0\n",
              "1  2020-03-02   6001  ...                   NaN   1671329.0\n",
              "2  2020-03-03   6001  ...                   NaN   1671329.0\n",
              "3  2020-03-04   6001  ...                   NaN   1671329.0\n",
              "4  2020-03-05   6001  ...                   NaN   1671329.0\n",
              "\n",
              "[5 rows x 18 columns]"
            ]
          },
          "metadata": {
            "tags": []
          },
          "execution_count": 114
        }
      ]
    },
    {
      "cell_type": "code",
      "metadata": {
        "id": "0JUt8Yi7L9Av",
        "outputId": "3ce7a915-f60b-445a-9c70-55f6b84368a0",
        "colab": {
          "base_uri": "https://localhost:8080/",
          "height": 50
        }
      },
      "source": [
        "print(df.shape)\n",
        "CA_combined_data.shape"
      ],
      "execution_count": 115,
      "outputs": [
        {
          "output_type": "stream",
          "text": [
            "(9196, 18)\n"
          ],
          "name": "stdout"
        },
        {
          "output_type": "execute_result",
          "data": {
            "text/plain": [
              "(9196, 17)"
            ]
          },
          "metadata": {
            "tags": []
          },
          "execution_count": 115
        }
      ]
    },
    {
      "cell_type": "code",
      "metadata": {
        "id": "w8st06aoMKti",
        "outputId": "b320c3a3-b16d-411e-fb83-6833fb0954b2",
        "colab": {
          "base_uri": "https://localhost:8080/",
          "height": 623
        }
      },
      "source": [
        "CA_combined_data = df.copy()\n",
        "CA_combined_data"
      ],
      "execution_count": 116,
      "outputs": [
        {
          "output_type": "execute_result",
          "data": {
            "text/html": [
              "<div>\n",
              "<style scoped>\n",
              "    .dataframe tbody tr th:only-of-type {\n",
              "        vertical-align: middle;\n",
              "    }\n",
              "\n",
              "    .dataframe tbody tr th {\n",
              "        vertical-align: top;\n",
              "    }\n",
              "\n",
              "    .dataframe thead th {\n",
              "        text-align: right;\n",
              "    }\n",
              "</style>\n",
              "<table border=\"1\" class=\"dataframe\">\n",
              "  <thead>\n",
              "    <tr style=\"text-align: right;\">\n",
              "      <th></th>\n",
              "      <th>Date</th>\n",
              "      <th>fips_x</th>\n",
              "      <th>County Name</th>\n",
              "      <th>retail and recreation</th>\n",
              "      <th>grocery and pharmacy</th>\n",
              "      <th>parks</th>\n",
              "      <th>transit stations</th>\n",
              "      <th>workplaces</th>\n",
              "      <th>residential</th>\n",
              "      <th>driving</th>\n",
              "      <th>m50</th>\n",
              "      <th>m50_index</th>\n",
              "      <th>population_density</th>\n",
              "      <th>mask_rule_active</th>\n",
              "      <th>mask_wearing_percent</th>\n",
              "      <th>New cases</th>\n",
              "      <th>rolling_avg_new_cases</th>\n",
              "      <th>population</th>\n",
              "    </tr>\n",
              "  </thead>\n",
              "  <tbody>\n",
              "    <tr>\n",
              "      <th>0</th>\n",
              "      <td>2020-03-01</td>\n",
              "      <td>6001</td>\n",
              "      <td>Alameda County</td>\n",
              "      <td>6.0</td>\n",
              "      <td>9.0</td>\n",
              "      <td>15.0</td>\n",
              "      <td>1.0</td>\n",
              "      <td>4.0</td>\n",
              "      <td>0.0</td>\n",
              "      <td>-7.65</td>\n",
              "      <td>3.684</td>\n",
              "      <td>58</td>\n",
              "      <td>2261.547725</td>\n",
              "      <td>0</td>\n",
              "      <td>0.000</td>\n",
              "      <td>0</td>\n",
              "      <td>NaN</td>\n",
              "      <td>1671329.0</td>\n",
              "    </tr>\n",
              "    <tr>\n",
              "      <th>1</th>\n",
              "      <td>2020-03-02</td>\n",
              "      <td>6001</td>\n",
              "      <td>Alameda County</td>\n",
              "      <td>4.0</td>\n",
              "      <td>7.0</td>\n",
              "      <td>7.0</td>\n",
              "      <td>-1.0</td>\n",
              "      <td>3.0</td>\n",
              "      <td>0.0</td>\n",
              "      <td>6.76</td>\n",
              "      <td>6.182</td>\n",
              "      <td>98</td>\n",
              "      <td>2261.547725</td>\n",
              "      <td>0</td>\n",
              "      <td>0.000</td>\n",
              "      <td>0</td>\n",
              "      <td>NaN</td>\n",
              "      <td>1671329.0</td>\n",
              "    </tr>\n",
              "    <tr>\n",
              "      <th>2</th>\n",
              "      <td>2020-03-03</td>\n",
              "      <td>6001</td>\n",
              "      <td>Alameda County</td>\n",
              "      <td>5.0</td>\n",
              "      <td>12.0</td>\n",
              "      <td>41.0</td>\n",
              "      <td>0.0</td>\n",
              "      <td>1.0</td>\n",
              "      <td>-1.0</td>\n",
              "      <td>13.19</td>\n",
              "      <td>6.271</td>\n",
              "      <td>100</td>\n",
              "      <td>2261.547725</td>\n",
              "      <td>0</td>\n",
              "      <td>0.000</td>\n",
              "      <td>1</td>\n",
              "      <td>NaN</td>\n",
              "      <td>1671329.0</td>\n",
              "    </tr>\n",
              "    <tr>\n",
              "      <th>3</th>\n",
              "      <td>2020-03-04</td>\n",
              "      <td>6001</td>\n",
              "      <td>Alameda County</td>\n",
              "      <td>1.0</td>\n",
              "      <td>6.0</td>\n",
              "      <td>23.0</td>\n",
              "      <td>-3.0</td>\n",
              "      <td>1.0</td>\n",
              "      <td>0.0</td>\n",
              "      <td>10.67</td>\n",
              "      <td>6.209</td>\n",
              "      <td>99</td>\n",
              "      <td>2261.547725</td>\n",
              "      <td>0</td>\n",
              "      <td>0.000</td>\n",
              "      <td>0</td>\n",
              "      <td>NaN</td>\n",
              "      <td>1671329.0</td>\n",
              "    </tr>\n",
              "    <tr>\n",
              "      <th>4</th>\n",
              "      <td>2020-03-05</td>\n",
              "      <td>6001</td>\n",
              "      <td>Alameda County</td>\n",
              "      <td>1.0</td>\n",
              "      <td>6.0</td>\n",
              "      <td>12.0</td>\n",
              "      <td>-5.0</td>\n",
              "      <td>-1.0</td>\n",
              "      <td>1.0</td>\n",
              "      <td>11.64</td>\n",
              "      <td>6.654</td>\n",
              "      <td>106</td>\n",
              "      <td>2261.547725</td>\n",
              "      <td>0</td>\n",
              "      <td>0.000</td>\n",
              "      <td>0</td>\n",
              "      <td>NaN</td>\n",
              "      <td>1671329.0</td>\n",
              "    </tr>\n",
              "    <tr>\n",
              "      <th>...</th>\n",
              "      <td>...</td>\n",
              "      <td>...</td>\n",
              "      <td>...</td>\n",
              "      <td>...</td>\n",
              "      <td>...</td>\n",
              "      <td>...</td>\n",
              "      <td>...</td>\n",
              "      <td>...</td>\n",
              "      <td>...</td>\n",
              "      <td>...</td>\n",
              "      <td>...</td>\n",
              "      <td>...</td>\n",
              "      <td>...</td>\n",
              "      <td>...</td>\n",
              "      <td>...</td>\n",
              "      <td>...</td>\n",
              "      <td>...</td>\n",
              "      <td>...</td>\n",
              "    </tr>\n",
              "    <tr>\n",
              "      <th>9191</th>\n",
              "      <td>2020-08-17</td>\n",
              "      <td>6115</td>\n",
              "      <td>Yuba County</td>\n",
              "      <td>0.0</td>\n",
              "      <td>0.0</td>\n",
              "      <td>0.0</td>\n",
              "      <td>0.0</td>\n",
              "      <td>-34.0</td>\n",
              "      <td>7.0</td>\n",
              "      <td>64.29</td>\n",
              "      <td>4.100</td>\n",
              "      <td>43</td>\n",
              "      <td>124.506204</td>\n",
              "      <td>1</td>\n",
              "      <td>0.669</td>\n",
              "      <td>0</td>\n",
              "      <td>0.669</td>\n",
              "      <td>78668.0</td>\n",
              "    </tr>\n",
              "    <tr>\n",
              "      <th>9192</th>\n",
              "      <td>2020-08-18</td>\n",
              "      <td>6115</td>\n",
              "      <td>Yuba County</td>\n",
              "      <td>0.0</td>\n",
              "      <td>0.0</td>\n",
              "      <td>0.0</td>\n",
              "      <td>0.0</td>\n",
              "      <td>-32.0</td>\n",
              "      <td>8.0</td>\n",
              "      <td>54.39</td>\n",
              "      <td>4.944</td>\n",
              "      <td>52</td>\n",
              "      <td>124.506204</td>\n",
              "      <td>1</td>\n",
              "      <td>0.669</td>\n",
              "      <td>28</td>\n",
              "      <td>0.669</td>\n",
              "      <td>78668.0</td>\n",
              "    </tr>\n",
              "    <tr>\n",
              "      <th>9193</th>\n",
              "      <td>2020-08-19</td>\n",
              "      <td>6115</td>\n",
              "      <td>Yuba County</td>\n",
              "      <td>0.0</td>\n",
              "      <td>0.0</td>\n",
              "      <td>0.0</td>\n",
              "      <td>0.0</td>\n",
              "      <td>-33.0</td>\n",
              "      <td>8.0</td>\n",
              "      <td>61.72</td>\n",
              "      <td>4.090</td>\n",
              "      <td>43</td>\n",
              "      <td>124.506204</td>\n",
              "      <td>1</td>\n",
              "      <td>0.669</td>\n",
              "      <td>35</td>\n",
              "      <td>0.669</td>\n",
              "      <td>78668.0</td>\n",
              "    </tr>\n",
              "    <tr>\n",
              "      <th>9194</th>\n",
              "      <td>2020-08-20</td>\n",
              "      <td>6115</td>\n",
              "      <td>Yuba County</td>\n",
              "      <td>0.0</td>\n",
              "      <td>0.0</td>\n",
              "      <td>0.0</td>\n",
              "      <td>0.0</td>\n",
              "      <td>-33.0</td>\n",
              "      <td>8.0</td>\n",
              "      <td>59.48</td>\n",
              "      <td>4.096</td>\n",
              "      <td>43</td>\n",
              "      <td>124.506204</td>\n",
              "      <td>1</td>\n",
              "      <td>0.669</td>\n",
              "      <td>0</td>\n",
              "      <td>0.669</td>\n",
              "      <td>78668.0</td>\n",
              "    </tr>\n",
              "    <tr>\n",
              "      <th>9195</th>\n",
              "      <td>2020-08-21</td>\n",
              "      <td>6115</td>\n",
              "      <td>Yuba County</td>\n",
              "      <td>0.0</td>\n",
              "      <td>0.0</td>\n",
              "      <td>0.0</td>\n",
              "      <td>0.0</td>\n",
              "      <td>-33.0</td>\n",
              "      <td>10.0</td>\n",
              "      <td>84.31</td>\n",
              "      <td>5.820</td>\n",
              "      <td>61</td>\n",
              "      <td>124.506204</td>\n",
              "      <td>1</td>\n",
              "      <td>0.669</td>\n",
              "      <td>8</td>\n",
              "      <td>0.669</td>\n",
              "      <td>78668.0</td>\n",
              "    </tr>\n",
              "  </tbody>\n",
              "</table>\n",
              "<p>9196 rows × 18 columns</p>\n",
              "</div>"
            ],
            "text/plain": [
              "            Date fips_x  ... rolling_avg_new_cases  population\n",
              "0     2020-03-01   6001  ...                   NaN   1671329.0\n",
              "1     2020-03-02   6001  ...                   NaN   1671329.0\n",
              "2     2020-03-03   6001  ...                   NaN   1671329.0\n",
              "3     2020-03-04   6001  ...                   NaN   1671329.0\n",
              "4     2020-03-05   6001  ...                   NaN   1671329.0\n",
              "...          ...    ...  ...                   ...         ...\n",
              "9191  2020-08-17   6115  ...                 0.669     78668.0\n",
              "9192  2020-08-18   6115  ...                 0.669     78668.0\n",
              "9193  2020-08-19   6115  ...                 0.669     78668.0\n",
              "9194  2020-08-20   6115  ...                 0.669     78668.0\n",
              "9195  2020-08-21   6115  ...                 0.669     78668.0\n",
              "\n",
              "[9196 rows x 18 columns]"
            ]
          },
          "metadata": {
            "tags": []
          },
          "execution_count": 116
        }
      ]
    },
    {
      "cell_type": "code",
      "metadata": {
        "id": "YzMFu5wZIB-A",
        "outputId": "e466147b-7313-47c1-cee9-eb3f531f3d37",
        "colab": {
          "base_uri": "https://localhost:8080/",
          "height": 1000
        }
      },
      "source": [
        "CA_combined_data[CA_combined_data['Date'] == '2020-08-01']"
      ],
      "execution_count": 117,
      "outputs": [
        {
          "output_type": "execute_result",
          "data": {
            "text/html": [
              "<div>\n",
              "<style scoped>\n",
              "    .dataframe tbody tr th:only-of-type {\n",
              "        vertical-align: middle;\n",
              "    }\n",
              "\n",
              "    .dataframe tbody tr th {\n",
              "        vertical-align: top;\n",
              "    }\n",
              "\n",
              "    .dataframe thead th {\n",
              "        text-align: right;\n",
              "    }\n",
              "</style>\n",
              "<table border=\"1\" class=\"dataframe\">\n",
              "  <thead>\n",
              "    <tr style=\"text-align: right;\">\n",
              "      <th></th>\n",
              "      <th>Date</th>\n",
              "      <th>fips_x</th>\n",
              "      <th>County Name</th>\n",
              "      <th>retail and recreation</th>\n",
              "      <th>grocery and pharmacy</th>\n",
              "      <th>parks</th>\n",
              "      <th>transit stations</th>\n",
              "      <th>workplaces</th>\n",
              "      <th>residential</th>\n",
              "      <th>driving</th>\n",
              "      <th>m50</th>\n",
              "      <th>m50_index</th>\n",
              "      <th>population_density</th>\n",
              "      <th>mask_rule_active</th>\n",
              "      <th>mask_wearing_percent</th>\n",
              "      <th>New cases</th>\n",
              "      <th>rolling_avg_new_cases</th>\n",
              "      <th>population</th>\n",
              "    </tr>\n",
              "  </thead>\n",
              "  <tbody>\n",
              "    <tr>\n",
              "      <th>151</th>\n",
              "      <td>2020-08-01</td>\n",
              "      <td>6001</td>\n",
              "      <td>Alameda County</td>\n",
              "      <td>-44.0</td>\n",
              "      <td>-13.0</td>\n",
              "      <td>28.0</td>\n",
              "      <td>-49.0</td>\n",
              "      <td>-19.0</td>\n",
              "      <td>9.0</td>\n",
              "      <td>9.45</td>\n",
              "      <td>1.041</td>\n",
              "      <td>16</td>\n",
              "      <td>2261.547725</td>\n",
              "      <td>1</td>\n",
              "      <td>0.795</td>\n",
              "      <td>345</td>\n",
              "      <td>0.795</td>\n",
              "      <td>1671329.0</td>\n",
              "    </tr>\n",
              "    <tr>\n",
              "      <th>323</th>\n",
              "      <td>2020-08-01</td>\n",
              "      <td>6005</td>\n",
              "      <td>Amador County</td>\n",
              "      <td>-9.0</td>\n",
              "      <td>12.0</td>\n",
              "      <td>0.0</td>\n",
              "      <td>0.0</td>\n",
              "      <td>-15.0</td>\n",
              "      <td>0.0</td>\n",
              "      <td>123.25</td>\n",
              "      <td>2.433</td>\n",
              "      <td>18</td>\n",
              "      <td>66.857277</td>\n",
              "      <td>1</td>\n",
              "      <td>0.655</td>\n",
              "      <td>10</td>\n",
              "      <td>0.655</td>\n",
              "      <td>39752.0</td>\n",
              "    </tr>\n",
              "    <tr>\n",
              "      <th>495</th>\n",
              "      <td>2020-08-01</td>\n",
              "      <td>6007</td>\n",
              "      <td>Butte County</td>\n",
              "      <td>-21.0</td>\n",
              "      <td>2.0</td>\n",
              "      <td>39.0</td>\n",
              "      <td>0.0</td>\n",
              "      <td>-15.0</td>\n",
              "      <td>3.0</td>\n",
              "      <td>55.33</td>\n",
              "      <td>2.452</td>\n",
              "      <td>53</td>\n",
              "      <td>133.939112</td>\n",
              "      <td>1</td>\n",
              "      <td>0.626</td>\n",
              "      <td>0</td>\n",
              "      <td>0.626</td>\n",
              "      <td>219186.0</td>\n",
              "    </tr>\n",
              "    <tr>\n",
              "      <th>667</th>\n",
              "      <td>2020-08-01</td>\n",
              "      <td>6009</td>\n",
              "      <td>Calaveras County</td>\n",
              "      <td>-31.0</td>\n",
              "      <td>0.0</td>\n",
              "      <td>0.0</td>\n",
              "      <td>0.0</td>\n",
              "      <td>-10.0</td>\n",
              "      <td>0.0</td>\n",
              "      <td>154.27</td>\n",
              "      <td>5.737</td>\n",
              "      <td>33</td>\n",
              "      <td>45.004461</td>\n",
              "      <td>1</td>\n",
              "      <td>0.562</td>\n",
              "      <td>0</td>\n",
              "      <td>0.562</td>\n",
              "      <td>45905.0</td>\n",
              "    </tr>\n",
              "    <tr>\n",
              "      <th>839</th>\n",
              "      <td>2020-08-01</td>\n",
              "      <td>6011</td>\n",
              "      <td>Colusa County</td>\n",
              "      <td>-14.0</td>\n",
              "      <td>0.0</td>\n",
              "      <td>0.0</td>\n",
              "      <td>-18.0</td>\n",
              "      <td>-5.0</td>\n",
              "      <td>0.0</td>\n",
              "      <td>138.38</td>\n",
              "      <td>10.870</td>\n",
              "      <td>75</td>\n",
              "      <td>18.724636</td>\n",
              "      <td>1</td>\n",
              "      <td>0.700</td>\n",
              "      <td>0</td>\n",
              "      <td>0.700</td>\n",
              "      <td>21547.0</td>\n",
              "    </tr>\n",
              "    <tr>\n",
              "      <th>1011</th>\n",
              "      <td>2020-08-01</td>\n",
              "      <td>6013</td>\n",
              "      <td>Contra Costa County</td>\n",
              "      <td>-34.0</td>\n",
              "      <td>-3.0</td>\n",
              "      <td>24.0</td>\n",
              "      <td>-33.0</td>\n",
              "      <td>-21.0</td>\n",
              "      <td>7.0</td>\n",
              "      <td>25.51</td>\n",
              "      <td>1.790</td>\n",
              "      <td>23</td>\n",
              "      <td>1611.204850</td>\n",
              "      <td>1</td>\n",
              "      <td>0.806</td>\n",
              "      <td>136</td>\n",
              "      <td>0.806</td>\n",
              "      <td>1153526.0</td>\n",
              "    </tr>\n",
              "    <tr>\n",
              "      <th>1183</th>\n",
              "      <td>2020-08-01</td>\n",
              "      <td>6015</td>\n",
              "      <td>Del Norte County</td>\n",
              "      <td>32.0</td>\n",
              "      <td>48.0</td>\n",
              "      <td>0.0</td>\n",
              "      <td>0.0</td>\n",
              "      <td>-3.0</td>\n",
              "      <td>0.0</td>\n",
              "      <td>388.59</td>\n",
              "      <td>2.082</td>\n",
              "      <td>92</td>\n",
              "      <td>27.635959</td>\n",
              "      <td>1</td>\n",
              "      <td>0.547</td>\n",
              "      <td>0</td>\n",
              "      <td>0.547</td>\n",
              "      <td>27812.0</td>\n",
              "    </tr>\n",
              "    <tr>\n",
              "      <th>1355</th>\n",
              "      <td>2020-08-01</td>\n",
              "      <td>6017</td>\n",
              "      <td>El Dorado County</td>\n",
              "      <td>-13.0</td>\n",
              "      <td>9.0</td>\n",
              "      <td>161.0</td>\n",
              "      <td>3.0</td>\n",
              "      <td>-17.0</td>\n",
              "      <td>4.0</td>\n",
              "      <td>174.95</td>\n",
              "      <td>4.362</td>\n",
              "      <td>44</td>\n",
              "      <td>112.913671</td>\n",
              "      <td>1</td>\n",
              "      <td>0.675</td>\n",
              "      <td>0</td>\n",
              "      <td>0.675</td>\n",
              "      <td>192843.0</td>\n",
              "    </tr>\n",
              "    <tr>\n",
              "      <th>1527</th>\n",
              "      <td>2020-08-01</td>\n",
              "      <td>6019</td>\n",
              "      <td>Fresno County</td>\n",
              "      <td>-24.0</td>\n",
              "      <td>0.0</td>\n",
              "      <td>30.0</td>\n",
              "      <td>-16.0</td>\n",
              "      <td>-15.0</td>\n",
              "      <td>4.0</td>\n",
              "      <td>47.48</td>\n",
              "      <td>1.743</td>\n",
              "      <td>26</td>\n",
              "      <td>167.690949</td>\n",
              "      <td>1</td>\n",
              "      <td>0.741</td>\n",
              "      <td>0</td>\n",
              "      <td>0.741</td>\n",
              "      <td>999101.0</td>\n",
              "    </tr>\n",
              "    <tr>\n",
              "      <th>1699</th>\n",
              "      <td>2020-08-01</td>\n",
              "      <td>6021</td>\n",
              "      <td>Glenn County</td>\n",
              "      <td>-13.0</td>\n",
              "      <td>5.0</td>\n",
              "      <td>0.0</td>\n",
              "      <td>26.0</td>\n",
              "      <td>-15.0</td>\n",
              "      <td>0.0</td>\n",
              "      <td>135.39</td>\n",
              "      <td>5.116</td>\n",
              "      <td>35</td>\n",
              "      <td>21.608889</td>\n",
              "      <td>1</td>\n",
              "      <td>0.594</td>\n",
              "      <td>0</td>\n",
              "      <td>0.594</td>\n",
              "      <td>28393.0</td>\n",
              "    </tr>\n",
              "    <tr>\n",
              "      <th>1871</th>\n",
              "      <td>2020-08-01</td>\n",
              "      <td>6023</td>\n",
              "      <td>Humboldt County</td>\n",
              "      <td>-18.0</td>\n",
              "      <td>2.0</td>\n",
              "      <td>119.0</td>\n",
              "      <td>-41.0</td>\n",
              "      <td>-18.0</td>\n",
              "      <td>3.0</td>\n",
              "      <td>128.47</td>\n",
              "      <td>1.369</td>\n",
              "      <td>40</td>\n",
              "      <td>37.992819</td>\n",
              "      <td>1</td>\n",
              "      <td>0.865</td>\n",
              "      <td>0</td>\n",
              "      <td>0.865</td>\n",
              "      <td>135558.0</td>\n",
              "    </tr>\n",
              "    <tr>\n",
              "      <th>2043</th>\n",
              "      <td>2020-08-01</td>\n",
              "      <td>6025</td>\n",
              "      <td>Imperial County</td>\n",
              "      <td>-51.0</td>\n",
              "      <td>-29.0</td>\n",
              "      <td>-73.0</td>\n",
              "      <td>-47.0</td>\n",
              "      <td>-25.0</td>\n",
              "      <td>12.0</td>\n",
              "      <td>34.88</td>\n",
              "      <td>0.110</td>\n",
              "      <td>3</td>\n",
              "      <td>43.388163</td>\n",
              "      <td>1</td>\n",
              "      <td>0.836</td>\n",
              "      <td>43</td>\n",
              "      <td>0.836</td>\n",
              "      <td>181215.0</td>\n",
              "    </tr>\n",
              "    <tr>\n",
              "      <th>2215</th>\n",
              "      <td>2020-08-01</td>\n",
              "      <td>6027</td>\n",
              "      <td>Inyo County</td>\n",
              "      <td>13.0</td>\n",
              "      <td>0.0</td>\n",
              "      <td>55.0</td>\n",
              "      <td>0.0</td>\n",
              "      <td>-22.0</td>\n",
              "      <td>0.0</td>\n",
              "      <td>227.25</td>\n",
              "      <td>10.352</td>\n",
              "      <td>299</td>\n",
              "      <td>1.771851</td>\n",
              "      <td>1</td>\n",
              "      <td>0.889</td>\n",
              "      <td>1</td>\n",
              "      <td>0.889</td>\n",
              "      <td>18039.0</td>\n",
              "    </tr>\n",
              "    <tr>\n",
              "      <th>2387</th>\n",
              "      <td>2020-08-01</td>\n",
              "      <td>6029</td>\n",
              "      <td>Kern County</td>\n",
              "      <td>-21.0</td>\n",
              "      <td>2.0</td>\n",
              "      <td>21.0</td>\n",
              "      <td>-1.0</td>\n",
              "      <td>-18.0</td>\n",
              "      <td>4.0</td>\n",
              "      <td>75.57</td>\n",
              "      <td>1.843</td>\n",
              "      <td>29</td>\n",
              "      <td>110.699810</td>\n",
              "      <td>1</td>\n",
              "      <td>0.668</td>\n",
              "      <td>547</td>\n",
              "      <td>0.668</td>\n",
              "      <td>900202.0</td>\n",
              "    </tr>\n",
              "    <tr>\n",
              "      <th>2559</th>\n",
              "      <td>2020-08-01</td>\n",
              "      <td>6031</td>\n",
              "      <td>Kings County</td>\n",
              "      <td>-14.0</td>\n",
              "      <td>2.0</td>\n",
              "      <td>-31.0</td>\n",
              "      <td>-34.0</td>\n",
              "      <td>-16.0</td>\n",
              "      <td>3.0</td>\n",
              "      <td>84.01</td>\n",
              "      <td>1.537</td>\n",
              "      <td>35</td>\n",
              "      <td>110.074707</td>\n",
              "      <td>1</td>\n",
              "      <td>0.766</td>\n",
              "      <td>234</td>\n",
              "      <td>0.766</td>\n",
              "      <td>152940.0</td>\n",
              "    </tr>\n",
              "    <tr>\n",
              "      <th>2731</th>\n",
              "      <td>2020-08-01</td>\n",
              "      <td>6033</td>\n",
              "      <td>Lake County</td>\n",
              "      <td>-4.0</td>\n",
              "      <td>12.0</td>\n",
              "      <td>89.0</td>\n",
              "      <td>0.0</td>\n",
              "      <td>-16.0</td>\n",
              "      <td>2.0</td>\n",
              "      <td>128.41</td>\n",
              "      <td>0.886</td>\n",
              "      <td>28</td>\n",
              "      <td>51.243971</td>\n",
              "      <td>1</td>\n",
              "      <td>0.849</td>\n",
              "      <td>0</td>\n",
              "      <td>0.849</td>\n",
              "      <td>64386.0</td>\n",
              "    </tr>\n",
              "    <tr>\n",
              "      <th>2903</th>\n",
              "      <td>2020-08-01</td>\n",
              "      <td>6035</td>\n",
              "      <td>Lassen County</td>\n",
              "      <td>-3.0</td>\n",
              "      <td>21.0</td>\n",
              "      <td>0.0</td>\n",
              "      <td>0.0</td>\n",
              "      <td>-3.0</td>\n",
              "      <td>0.0</td>\n",
              "      <td>326.23</td>\n",
              "      <td>1.336</td>\n",
              "      <td>44</td>\n",
              "      <td>6.732391</td>\n",
              "      <td>1</td>\n",
              "      <td>0.482</td>\n",
              "      <td>0</td>\n",
              "      <td>0.482</td>\n",
              "      <td>30573.0</td>\n",
              "    </tr>\n",
              "    <tr>\n",
              "      <th>3075</th>\n",
              "      <td>2020-08-01</td>\n",
              "      <td>6037</td>\n",
              "      <td>Los Angeles County</td>\n",
              "      <td>-35.0</td>\n",
              "      <td>-7.0</td>\n",
              "      <td>-14.0</td>\n",
              "      <td>-35.0</td>\n",
              "      <td>-22.0</td>\n",
              "      <td>9.0</td>\n",
              "      <td>12.13</td>\n",
              "      <td>1.429</td>\n",
              "      <td>21</td>\n",
              "      <td>2473.978284</td>\n",
              "      <td>1</td>\n",
              "      <td>0.786</td>\n",
              "      <td>2316</td>\n",
              "      <td>0.786</td>\n",
              "      <td>10039107.0</td>\n",
              "    </tr>\n",
              "    <tr>\n",
              "      <th>3247</th>\n",
              "      <td>2020-08-01</td>\n",
              "      <td>6039</td>\n",
              "      <td>Madera County</td>\n",
              "      <td>-18.0</td>\n",
              "      <td>10.0</td>\n",
              "      <td>188.0</td>\n",
              "      <td>33.0</td>\n",
              "      <td>-17.0</td>\n",
              "      <td>4.0</td>\n",
              "      <td>90.94</td>\n",
              "      <td>2.313</td>\n",
              "      <td>37</td>\n",
              "      <td>73.618085</td>\n",
              "      <td>1</td>\n",
              "      <td>0.751</td>\n",
              "      <td>0</td>\n",
              "      <td>0.751</td>\n",
              "      <td>157327.0</td>\n",
              "    </tr>\n",
              "    <tr>\n",
              "      <th>3419</th>\n",
              "      <td>2020-08-01</td>\n",
              "      <td>6041</td>\n",
              "      <td>Marin County</td>\n",
              "      <td>-32.0</td>\n",
              "      <td>-3.0</td>\n",
              "      <td>47.0</td>\n",
              "      <td>-20.0</td>\n",
              "      <td>-20.0</td>\n",
              "      <td>8.0</td>\n",
              "      <td>46.63</td>\n",
              "      <td>2.499</td>\n",
              "      <td>37</td>\n",
              "      <td>497.445753</td>\n",
              "      <td>1</td>\n",
              "      <td>0.802</td>\n",
              "      <td>7</td>\n",
              "      <td>0.802</td>\n",
              "      <td>258826.0</td>\n",
              "    </tr>\n",
              "    <tr>\n",
              "      <th>3544</th>\n",
              "      <td>2020-08-01</td>\n",
              "      <td>6043</td>\n",
              "      <td>Mariposa County</td>\n",
              "      <td>0.0</td>\n",
              "      <td>-12.0</td>\n",
              "      <td>64.0</td>\n",
              "      <td>0.0</td>\n",
              "      <td>-19.0</td>\n",
              "      <td>0.0</td>\n",
              "      <td>150.36</td>\n",
              "      <td>6.899</td>\n",
              "      <td>131</td>\n",
              "      <td>11.873801</td>\n",
              "      <td>1</td>\n",
              "      <td>0.661</td>\n",
              "      <td>1</td>\n",
              "      <td>0.661</td>\n",
              "      <td>17203.0</td>\n",
              "    </tr>\n",
              "    <tr>\n",
              "      <th>3716</th>\n",
              "      <td>2020-08-01</td>\n",
              "      <td>6045</td>\n",
              "      <td>Mendocino County</td>\n",
              "      <td>-8.0</td>\n",
              "      <td>14.0</td>\n",
              "      <td>106.0</td>\n",
              "      <td>20.0</td>\n",
              "      <td>-11.0</td>\n",
              "      <td>4.0</td>\n",
              "      <td>139.59</td>\n",
              "      <td>1.254</td>\n",
              "      <td>39</td>\n",
              "      <td>24.740613</td>\n",
              "      <td>1</td>\n",
              "      <td>0.770</td>\n",
              "      <td>0</td>\n",
              "      <td>0.770</td>\n",
              "      <td>86749.0</td>\n",
              "    </tr>\n",
              "    <tr>\n",
              "      <th>3888</th>\n",
              "      <td>2020-08-01</td>\n",
              "      <td>6047</td>\n",
              "      <td>Merced County</td>\n",
              "      <td>-15.0</td>\n",
              "      <td>-2.0</td>\n",
              "      <td>49.0</td>\n",
              "      <td>-2.0</td>\n",
              "      <td>-12.0</td>\n",
              "      <td>4.0</td>\n",
              "      <td>75.77</td>\n",
              "      <td>1.390</td>\n",
              "      <td>28</td>\n",
              "      <td>143.506101</td>\n",
              "      <td>1</td>\n",
              "      <td>0.703</td>\n",
              "      <td>220</td>\n",
              "      <td>0.703</td>\n",
              "      <td>277680.0</td>\n",
              "    </tr>\n",
              "    <tr>\n",
              "      <th>4042</th>\n",
              "      <td>2020-08-01</td>\n",
              "      <td>6051</td>\n",
              "      <td>Mono County</td>\n",
              "      <td>-6.0</td>\n",
              "      <td>55.0</td>\n",
              "      <td>0.0</td>\n",
              "      <td>0.0</td>\n",
              "      <td>-32.0</td>\n",
              "      <td>0.0</td>\n",
              "      <td>451.10</td>\n",
              "      <td>9.031</td>\n",
              "      <td>393</td>\n",
              "      <td>4.737322</td>\n",
              "      <td>1</td>\n",
              "      <td>0.880</td>\n",
              "      <td>0</td>\n",
              "      <td>0.880</td>\n",
              "      <td>14444.0</td>\n",
              "    </tr>\n",
              "    <tr>\n",
              "      <th>4214</th>\n",
              "      <td>2020-08-01</td>\n",
              "      <td>6053</td>\n",
              "      <td>Monterey County</td>\n",
              "      <td>-23.0</td>\n",
              "      <td>8.0</td>\n",
              "      <td>27.0</td>\n",
              "      <td>-7.0</td>\n",
              "      <td>-9.0</td>\n",
              "      <td>2.0</td>\n",
              "      <td>112.93</td>\n",
              "      <td>2.505</td>\n",
              "      <td>48</td>\n",
              "      <td>132.311467</td>\n",
              "      <td>1</td>\n",
              "      <td>0.763</td>\n",
              "      <td>255</td>\n",
              "      <td>0.763</td>\n",
              "      <td>434061.0</td>\n",
              "    </tr>\n",
              "    <tr>\n",
              "      <th>4386</th>\n",
              "      <td>2020-08-01</td>\n",
              "      <td>6055</td>\n",
              "      <td>Napa County</td>\n",
              "      <td>-27.0</td>\n",
              "      <td>-15.0</td>\n",
              "      <td>140.0</td>\n",
              "      <td>-19.0</td>\n",
              "      <td>-20.0</td>\n",
              "      <td>6.0</td>\n",
              "      <td>61.81</td>\n",
              "      <td>2.468</td>\n",
              "      <td>47</td>\n",
              "      <td>184.061147</td>\n",
              "      <td>1</td>\n",
              "      <td>0.773</td>\n",
              "      <td>0</td>\n",
              "      <td>0.773</td>\n",
              "      <td>137744.0</td>\n",
              "    </tr>\n",
              "    <tr>\n",
              "      <th>4558</th>\n",
              "      <td>2020-08-01</td>\n",
              "      <td>6057</td>\n",
              "      <td>Nevada County</td>\n",
              "      <td>-22.0</td>\n",
              "      <td>6.0</td>\n",
              "      <td>118.0</td>\n",
              "      <td>-27.0</td>\n",
              "      <td>-20.0</td>\n",
              "      <td>4.0</td>\n",
              "      <td>140.72</td>\n",
              "      <td>5.593</td>\n",
              "      <td>63</td>\n",
              "      <td>104.153398</td>\n",
              "      <td>1</td>\n",
              "      <td>0.682</td>\n",
              "      <td>0</td>\n",
              "      <td>0.682</td>\n",
              "      <td>99755.0</td>\n",
              "    </tr>\n",
              "    <tr>\n",
              "      <th>4730</th>\n",
              "      <td>2020-08-01</td>\n",
              "      <td>6059</td>\n",
              "      <td>Orange County</td>\n",
              "      <td>-34.0</td>\n",
              "      <td>0.0</td>\n",
              "      <td>13.0</td>\n",
              "      <td>-32.0</td>\n",
              "      <td>-21.0</td>\n",
              "      <td>9.0</td>\n",
              "      <td>22.20</td>\n",
              "      <td>2.771</td>\n",
              "      <td>37</td>\n",
              "      <td>4016.964975</td>\n",
              "      <td>1</td>\n",
              "      <td>0.754</td>\n",
              "      <td>637</td>\n",
              "      <td>0.754</td>\n",
              "      <td>3175692.0</td>\n",
              "    </tr>\n",
              "    <tr>\n",
              "      <th>4902</th>\n",
              "      <td>2020-08-01</td>\n",
              "      <td>6061</td>\n",
              "      <td>Placer County</td>\n",
              "      <td>-27.0</td>\n",
              "      <td>4.0</td>\n",
              "      <td>74.0</td>\n",
              "      <td>22.0</td>\n",
              "      <td>-17.0</td>\n",
              "      <td>5.0</td>\n",
              "      <td>70.97</td>\n",
              "      <td>4.355</td>\n",
              "      <td>53</td>\n",
              "      <td>283.103176</td>\n",
              "      <td>1</td>\n",
              "      <td>0.693</td>\n",
              "      <td>36</td>\n",
              "      <td>0.693</td>\n",
              "      <td>398329.0</td>\n",
              "    </tr>\n",
              "    <tr>\n",
              "      <th>5219</th>\n",
              "      <td>2020-08-01</td>\n",
              "      <td>6065</td>\n",
              "      <td>Riverside County</td>\n",
              "      <td>-27.0</td>\n",
              "      <td>-4.0</td>\n",
              "      <td>-35.0</td>\n",
              "      <td>-31.0</td>\n",
              "      <td>-22.0</td>\n",
              "      <td>7.0</td>\n",
              "      <td>36.42</td>\n",
              "      <td>2.397</td>\n",
              "      <td>28</td>\n",
              "      <td>342.822848</td>\n",
              "      <td>1</td>\n",
              "      <td>0.803</td>\n",
              "      <td>0</td>\n",
              "      <td>0.803</td>\n",
              "      <td>2470546.0</td>\n",
              "    </tr>\n",
              "    <tr>\n",
              "      <th>5391</th>\n",
              "      <td>2020-08-01</td>\n",
              "      <td>6067</td>\n",
              "      <td>Sacramento County</td>\n",
              "      <td>-31.0</td>\n",
              "      <td>-1.0</td>\n",
              "      <td>21.0</td>\n",
              "      <td>-34.0</td>\n",
              "      <td>-19.0</td>\n",
              "      <td>5.0</td>\n",
              "      <td>31.25</td>\n",
              "      <td>1.940</td>\n",
              "      <td>27</td>\n",
              "      <td>1608.950489</td>\n",
              "      <td>1</td>\n",
              "      <td>0.722</td>\n",
              "      <td>0</td>\n",
              "      <td>0.722</td>\n",
              "      <td>1552058.0</td>\n",
              "    </tr>\n",
              "    <tr>\n",
              "      <th>5563</th>\n",
              "      <td>2020-08-01</td>\n",
              "      <td>6069</td>\n",
              "      <td>San Benito County</td>\n",
              "      <td>-14.0</td>\n",
              "      <td>3.0</td>\n",
              "      <td>-29.0</td>\n",
              "      <td>0.0</td>\n",
              "      <td>-9.0</td>\n",
              "      <td>0.0</td>\n",
              "      <td>128.76</td>\n",
              "      <td>2.618</td>\n",
              "      <td>22</td>\n",
              "      <td>45.227585</td>\n",
              "      <td>1</td>\n",
              "      <td>0.739</td>\n",
              "      <td>0</td>\n",
              "      <td>0.739</td>\n",
              "      <td>62808.0</td>\n",
              "    </tr>\n",
              "    <tr>\n",
              "      <th>5735</th>\n",
              "      <td>2020-08-01</td>\n",
              "      <td>6071</td>\n",
              "      <td>San Bernardino County</td>\n",
              "      <td>-25.0</td>\n",
              "      <td>1.0</td>\n",
              "      <td>2.0</td>\n",
              "      <td>-20.0</td>\n",
              "      <td>-17.0</td>\n",
              "      <td>6.0</td>\n",
              "      <td>51.19</td>\n",
              "      <td>2.239</td>\n",
              "      <td>28</td>\n",
              "      <td>108.694796</td>\n",
              "      <td>1</td>\n",
              "      <td>0.768</td>\n",
              "      <td>466</td>\n",
              "      <td>0.768</td>\n",
              "      <td>2180085.0</td>\n",
              "    </tr>\n",
              "    <tr>\n",
              "      <th>5907</th>\n",
              "      <td>2020-08-01</td>\n",
              "      <td>6073</td>\n",
              "      <td>San Diego County</td>\n",
              "      <td>-31.0</td>\n",
              "      <td>-5.0</td>\n",
              "      <td>3.0</td>\n",
              "      <td>-41.0</td>\n",
              "      <td>-20.0</td>\n",
              "      <td>8.0</td>\n",
              "      <td>33.59</td>\n",
              "      <td>2.164</td>\n",
              "      <td>28</td>\n",
              "      <td>793.587741</td>\n",
              "      <td>1</td>\n",
              "      <td>0.800</td>\n",
              "      <td>0</td>\n",
              "      <td>0.800</td>\n",
              "      <td>3338330.0</td>\n",
              "    </tr>\n",
              "    <tr>\n",
              "      <th>6079</th>\n",
              "      <td>2020-08-01</td>\n",
              "      <td>6075</td>\n",
              "      <td>San Francisco County</td>\n",
              "      <td>-61.0</td>\n",
              "      <td>-27.0</td>\n",
              "      <td>-11.0</td>\n",
              "      <td>-58.0</td>\n",
              "      <td>-25.0</td>\n",
              "      <td>11.0</td>\n",
              "      <td>-8.74</td>\n",
              "      <td>0.681</td>\n",
              "      <td>19</td>\n",
              "      <td>18808.384894</td>\n",
              "      <td>1</td>\n",
              "      <td>0.817</td>\n",
              "      <td>148</td>\n",
              "      <td>0.817</td>\n",
              "      <td>881549.0</td>\n",
              "    </tr>\n",
              "    <tr>\n",
              "      <th>6251</th>\n",
              "      <td>2020-08-01</td>\n",
              "      <td>6077</td>\n",
              "      <td>San Joaquin County</td>\n",
              "      <td>-20.0</td>\n",
              "      <td>3.0</td>\n",
              "      <td>41.0</td>\n",
              "      <td>-23.0</td>\n",
              "      <td>-14.0</td>\n",
              "      <td>4.0</td>\n",
              "      <td>51.80</td>\n",
              "      <td>2.050</td>\n",
              "      <td>31</td>\n",
              "      <td>547.787712</td>\n",
              "      <td>1</td>\n",
              "      <td>0.680</td>\n",
              "      <td>0</td>\n",
              "      <td>0.680</td>\n",
              "      <td>762148.0</td>\n",
              "    </tr>\n",
              "    <tr>\n",
              "      <th>6423</th>\n",
              "      <td>2020-08-01</td>\n",
              "      <td>6079</td>\n",
              "      <td>San Luis Obispo County</td>\n",
              "      <td>-21.0</td>\n",
              "      <td>7.0</td>\n",
              "      <td>49.0</td>\n",
              "      <td>-7.0</td>\n",
              "      <td>-17.0</td>\n",
              "      <td>5.0</td>\n",
              "      <td>167.13</td>\n",
              "      <td>4.095</td>\n",
              "      <td>61</td>\n",
              "      <td>85.828404</td>\n",
              "      <td>1</td>\n",
              "      <td>0.745</td>\n",
              "      <td>0</td>\n",
              "      <td>0.745</td>\n",
              "      <td>283111.0</td>\n",
              "    </tr>\n",
              "    <tr>\n",
              "      <th>6595</th>\n",
              "      <td>2020-08-01</td>\n",
              "      <td>6081</td>\n",
              "      <td>San Mateo County</td>\n",
              "      <td>-37.0</td>\n",
              "      <td>-9.0</td>\n",
              "      <td>25.0</td>\n",
              "      <td>-65.0</td>\n",
              "      <td>-16.0</td>\n",
              "      <td>10.0</td>\n",
              "      <td>3.09</td>\n",
              "      <td>1.188</td>\n",
              "      <td>17</td>\n",
              "      <td>1709.535916</td>\n",
              "      <td>1</td>\n",
              "      <td>0.786</td>\n",
              "      <td>75</td>\n",
              "      <td>0.786</td>\n",
              "      <td>766573.0</td>\n",
              "    </tr>\n",
              "    <tr>\n",
              "      <th>6767</th>\n",
              "      <td>2020-08-01</td>\n",
              "      <td>6083</td>\n",
              "      <td>Santa Barbara County</td>\n",
              "      <td>-26.0</td>\n",
              "      <td>0.0</td>\n",
              "      <td>33.0</td>\n",
              "      <td>-31.0</td>\n",
              "      <td>-16.0</td>\n",
              "      <td>5.0</td>\n",
              "      <td>95.02</td>\n",
              "      <td>2.080</td>\n",
              "      <td>42</td>\n",
              "      <td>163.248376</td>\n",
              "      <td>1</td>\n",
              "      <td>0.737</td>\n",
              "      <td>0</td>\n",
              "      <td>0.737</td>\n",
              "      <td>446499.0</td>\n",
              "    </tr>\n",
              "    <tr>\n",
              "      <th>6939</th>\n",
              "      <td>2020-08-01</td>\n",
              "      <td>6085</td>\n",
              "      <td>Santa Clara County</td>\n",
              "      <td>-46.0</td>\n",
              "      <td>-16.0</td>\n",
              "      <td>19.0</td>\n",
              "      <td>-47.0</td>\n",
              "      <td>-16.0</td>\n",
              "      <td>9.0</td>\n",
              "      <td>1.72</td>\n",
              "      <td>0.972</td>\n",
              "      <td>13</td>\n",
              "      <td>1494.343074</td>\n",
              "      <td>1</td>\n",
              "      <td>0.764</td>\n",
              "      <td>408</td>\n",
              "      <td>0.764</td>\n",
              "      <td>1927852.0</td>\n",
              "    </tr>\n",
              "    <tr>\n",
              "      <th>7111</th>\n",
              "      <td>2020-08-01</td>\n",
              "      <td>6087</td>\n",
              "      <td>Santa Cruz County</td>\n",
              "      <td>-23.0</td>\n",
              "      <td>-1.0</td>\n",
              "      <td>71.0</td>\n",
              "      <td>-47.0</td>\n",
              "      <td>-14.0</td>\n",
              "      <td>6.0</td>\n",
              "      <td>85.81</td>\n",
              "      <td>1.910</td>\n",
              "      <td>41</td>\n",
              "      <td>613.727340</td>\n",
              "      <td>1</td>\n",
              "      <td>0.797</td>\n",
              "      <td>43</td>\n",
              "      <td>0.797</td>\n",
              "      <td>273213.0</td>\n",
              "    </tr>\n",
              "    <tr>\n",
              "      <th>7283</th>\n",
              "      <td>2020-08-01</td>\n",
              "      <td>6089</td>\n",
              "      <td>Shasta County</td>\n",
              "      <td>-16.0</td>\n",
              "      <td>12.0</td>\n",
              "      <td>166.0</td>\n",
              "      <td>-3.0</td>\n",
              "      <td>-11.0</td>\n",
              "      <td>1.0</td>\n",
              "      <td>125.18</td>\n",
              "      <td>3.401</td>\n",
              "      <td>53</td>\n",
              "      <td>47.698257</td>\n",
              "      <td>1</td>\n",
              "      <td>0.547</td>\n",
              "      <td>0</td>\n",
              "      <td>0.547</td>\n",
              "      <td>180080.0</td>\n",
              "    </tr>\n",
              "    <tr>\n",
              "      <th>7455</th>\n",
              "      <td>2020-08-01</td>\n",
              "      <td>6093</td>\n",
              "      <td>Siskiyou County</td>\n",
              "      <td>27.0</td>\n",
              "      <td>44.0</td>\n",
              "      <td>0.0</td>\n",
              "      <td>55.0</td>\n",
              "      <td>-3.0</td>\n",
              "      <td>0.0</td>\n",
              "      <td>380.18</td>\n",
              "      <td>4.384</td>\n",
              "      <td>69</td>\n",
              "      <td>6.935292</td>\n",
              "      <td>1</td>\n",
              "      <td>0.546</td>\n",
              "      <td>1</td>\n",
              "      <td>0.546</td>\n",
              "      <td>43539.0</td>\n",
              "    </tr>\n",
              "    <tr>\n",
              "      <th>7627</th>\n",
              "      <td>2020-08-01</td>\n",
              "      <td>6095</td>\n",
              "      <td>Solano County</td>\n",
              "      <td>-25.0</td>\n",
              "      <td>-1.0</td>\n",
              "      <td>24.0</td>\n",
              "      <td>-13.0</td>\n",
              "      <td>-16.0</td>\n",
              "      <td>6.0</td>\n",
              "      <td>62.40</td>\n",
              "      <td>1.939</td>\n",
              "      <td>27</td>\n",
              "      <td>544.730277</td>\n",
              "      <td>1</td>\n",
              "      <td>0.728</td>\n",
              "      <td>0</td>\n",
              "      <td>0.728</td>\n",
              "      <td>447643.0</td>\n",
              "    </tr>\n",
              "    <tr>\n",
              "      <th>7799</th>\n",
              "      <td>2020-08-01</td>\n",
              "      <td>6097</td>\n",
              "      <td>Sonoma County</td>\n",
              "      <td>-26.0</td>\n",
              "      <td>1.0</td>\n",
              "      <td>55.0</td>\n",
              "      <td>-21.0</td>\n",
              "      <td>-16.0</td>\n",
              "      <td>6.0</td>\n",
              "      <td>42.51</td>\n",
              "      <td>1.900</td>\n",
              "      <td>30</td>\n",
              "      <td>313.694831</td>\n",
              "      <td>1</td>\n",
              "      <td>0.795</td>\n",
              "      <td>102</td>\n",
              "      <td>0.795</td>\n",
              "      <td>494336.0</td>\n",
              "    </tr>\n",
              "    <tr>\n",
              "      <th>7971</th>\n",
              "      <td>2020-08-01</td>\n",
              "      <td>6099</td>\n",
              "      <td>Stanislaus County</td>\n",
              "      <td>-24.0</td>\n",
              "      <td>-1.0</td>\n",
              "      <td>53.0</td>\n",
              "      <td>-2.0</td>\n",
              "      <td>-15.0</td>\n",
              "      <td>4.0</td>\n",
              "      <td>44.64</td>\n",
              "      <td>1.711</td>\n",
              "      <td>28</td>\n",
              "      <td>368.376337</td>\n",
              "      <td>1</td>\n",
              "      <td>0.705</td>\n",
              "      <td>0</td>\n",
              "      <td>0.705</td>\n",
              "      <td>550660.0</td>\n",
              "    </tr>\n",
              "    <tr>\n",
              "      <th>8143</th>\n",
              "      <td>2020-08-01</td>\n",
              "      <td>6101</td>\n",
              "      <td>Sutter County</td>\n",
              "      <td>-16.0</td>\n",
              "      <td>0.0</td>\n",
              "      <td>0.0</td>\n",
              "      <td>0.0</td>\n",
              "      <td>-15.0</td>\n",
              "      <td>2.0</td>\n",
              "      <td>59.24</td>\n",
              "      <td>2.400</td>\n",
              "      <td>52</td>\n",
              "      <td>160.971763</td>\n",
              "      <td>1</td>\n",
              "      <td>0.669</td>\n",
              "      <td>13</td>\n",
              "      <td>0.669</td>\n",
              "      <td>96971.0</td>\n",
              "    </tr>\n",
              "    <tr>\n",
              "      <th>8315</th>\n",
              "      <td>2020-08-01</td>\n",
              "      <td>6103</td>\n",
              "      <td>Tehama County</td>\n",
              "      <td>-19.0</td>\n",
              "      <td>19.0</td>\n",
              "      <td>36.0</td>\n",
              "      <td>7.0</td>\n",
              "      <td>-8.0</td>\n",
              "      <td>1.0</td>\n",
              "      <td>153.85</td>\n",
              "      <td>3.730</td>\n",
              "      <td>58</td>\n",
              "      <td>22.064542</td>\n",
              "      <td>1</td>\n",
              "      <td>0.545</td>\n",
              "      <td>7</td>\n",
              "      <td>0.545</td>\n",
              "      <td>65084.0</td>\n",
              "    </tr>\n",
              "    <tr>\n",
              "      <th>8487</th>\n",
              "      <td>2020-08-01</td>\n",
              "      <td>6107</td>\n",
              "      <td>Tulare County</td>\n",
              "      <td>-24.0</td>\n",
              "      <td>-1.0</td>\n",
              "      <td>66.0</td>\n",
              "      <td>-8.0</td>\n",
              "      <td>-18.0</td>\n",
              "      <td>3.0</td>\n",
              "      <td>71.95</td>\n",
              "      <td>1.657</td>\n",
              "      <td>34</td>\n",
              "      <td>96.636347</td>\n",
              "      <td>1</td>\n",
              "      <td>0.685</td>\n",
              "      <td>0</td>\n",
              "      <td>0.685</td>\n",
              "      <td>466195.0</td>\n",
              "    </tr>\n",
              "    <tr>\n",
              "      <th>8659</th>\n",
              "      <td>2020-08-01</td>\n",
              "      <td>6109</td>\n",
              "      <td>Tuolumne County</td>\n",
              "      <td>-15.0</td>\n",
              "      <td>0.0</td>\n",
              "      <td>96.0</td>\n",
              "      <td>0.0</td>\n",
              "      <td>-11.0</td>\n",
              "      <td>0.0</td>\n",
              "      <td>221.35</td>\n",
              "      <td>2.176</td>\n",
              "      <td>32</td>\n",
              "      <td>24.529916</td>\n",
              "      <td>1</td>\n",
              "      <td>0.653</td>\n",
              "      <td>0</td>\n",
              "      <td>0.653</td>\n",
              "      <td>54478.0</td>\n",
              "    </tr>\n",
              "    <tr>\n",
              "      <th>8831</th>\n",
              "      <td>2020-08-01</td>\n",
              "      <td>6111</td>\n",
              "      <td>Ventura County</td>\n",
              "      <td>-25.0</td>\n",
              "      <td>-6.0</td>\n",
              "      <td>14.0</td>\n",
              "      <td>-19.0</td>\n",
              "      <td>-19.0</td>\n",
              "      <td>7.0</td>\n",
              "      <td>61.16</td>\n",
              "      <td>2.160</td>\n",
              "      <td>27</td>\n",
              "      <td>459.005062</td>\n",
              "      <td>1</td>\n",
              "      <td>0.777</td>\n",
              "      <td>0</td>\n",
              "      <td>0.777</td>\n",
              "      <td>846006.0</td>\n",
              "    </tr>\n",
              "    <tr>\n",
              "      <th>9003</th>\n",
              "      <td>2020-08-01</td>\n",
              "      <td>6113</td>\n",
              "      <td>Yolo County</td>\n",
              "      <td>-28.0</td>\n",
              "      <td>-3.0</td>\n",
              "      <td>17.0</td>\n",
              "      <td>-7.0</td>\n",
              "      <td>-15.0</td>\n",
              "      <td>6.0</td>\n",
              "      <td>32.64</td>\n",
              "      <td>2.034</td>\n",
              "      <td>34</td>\n",
              "      <td>217.307749</td>\n",
              "      <td>1</td>\n",
              "      <td>0.791</td>\n",
              "      <td>0</td>\n",
              "      <td>0.791</td>\n",
              "      <td>220500.0</td>\n",
              "    </tr>\n",
              "    <tr>\n",
              "      <th>9175</th>\n",
              "      <td>2020-08-01</td>\n",
              "      <td>6115</td>\n",
              "      <td>Yuba County</td>\n",
              "      <td>-3.0</td>\n",
              "      <td>21.0</td>\n",
              "      <td>0.0</td>\n",
              "      <td>0.0</td>\n",
              "      <td>-14.0</td>\n",
              "      <td>2.0</td>\n",
              "      <td>83.92</td>\n",
              "      <td>3.371</td>\n",
              "      <td>35</td>\n",
              "      <td>124.506204</td>\n",
              "      <td>1</td>\n",
              "      <td>0.669</td>\n",
              "      <td>6</td>\n",
              "      <td>0.669</td>\n",
              "      <td>78668.0</td>\n",
              "    </tr>\n",
              "  </tbody>\n",
              "</table>\n",
              "</div>"
            ],
            "text/plain": [
              "            Date fips_x  ... rolling_avg_new_cases  population\n",
              "151   2020-08-01   6001  ...                 0.795   1671329.0\n",
              "323   2020-08-01   6005  ...                 0.655     39752.0\n",
              "495   2020-08-01   6007  ...                 0.626    219186.0\n",
              "667   2020-08-01   6009  ...                 0.562     45905.0\n",
              "839   2020-08-01   6011  ...                 0.700     21547.0\n",
              "1011  2020-08-01   6013  ...                 0.806   1153526.0\n",
              "1183  2020-08-01   6015  ...                 0.547     27812.0\n",
              "1355  2020-08-01   6017  ...                 0.675    192843.0\n",
              "1527  2020-08-01   6019  ...                 0.741    999101.0\n",
              "1699  2020-08-01   6021  ...                 0.594     28393.0\n",
              "1871  2020-08-01   6023  ...                 0.865    135558.0\n",
              "2043  2020-08-01   6025  ...                 0.836    181215.0\n",
              "2215  2020-08-01   6027  ...                 0.889     18039.0\n",
              "2387  2020-08-01   6029  ...                 0.668    900202.0\n",
              "2559  2020-08-01   6031  ...                 0.766    152940.0\n",
              "2731  2020-08-01   6033  ...                 0.849     64386.0\n",
              "2903  2020-08-01   6035  ...                 0.482     30573.0\n",
              "3075  2020-08-01   6037  ...                 0.786  10039107.0\n",
              "3247  2020-08-01   6039  ...                 0.751    157327.0\n",
              "3419  2020-08-01   6041  ...                 0.802    258826.0\n",
              "3544  2020-08-01   6043  ...                 0.661     17203.0\n",
              "3716  2020-08-01   6045  ...                 0.770     86749.0\n",
              "3888  2020-08-01   6047  ...                 0.703    277680.0\n",
              "4042  2020-08-01   6051  ...                 0.880     14444.0\n",
              "4214  2020-08-01   6053  ...                 0.763    434061.0\n",
              "4386  2020-08-01   6055  ...                 0.773    137744.0\n",
              "4558  2020-08-01   6057  ...                 0.682     99755.0\n",
              "4730  2020-08-01   6059  ...                 0.754   3175692.0\n",
              "4902  2020-08-01   6061  ...                 0.693    398329.0\n",
              "5219  2020-08-01   6065  ...                 0.803   2470546.0\n",
              "5391  2020-08-01   6067  ...                 0.722   1552058.0\n",
              "5563  2020-08-01   6069  ...                 0.739     62808.0\n",
              "5735  2020-08-01   6071  ...                 0.768   2180085.0\n",
              "5907  2020-08-01   6073  ...                 0.800   3338330.0\n",
              "6079  2020-08-01   6075  ...                 0.817    881549.0\n",
              "6251  2020-08-01   6077  ...                 0.680    762148.0\n",
              "6423  2020-08-01   6079  ...                 0.745    283111.0\n",
              "6595  2020-08-01   6081  ...                 0.786    766573.0\n",
              "6767  2020-08-01   6083  ...                 0.737    446499.0\n",
              "6939  2020-08-01   6085  ...                 0.764   1927852.0\n",
              "7111  2020-08-01   6087  ...                 0.797    273213.0\n",
              "7283  2020-08-01   6089  ...                 0.547    180080.0\n",
              "7455  2020-08-01   6093  ...                 0.546     43539.0\n",
              "7627  2020-08-01   6095  ...                 0.728    447643.0\n",
              "7799  2020-08-01   6097  ...                 0.795    494336.0\n",
              "7971  2020-08-01   6099  ...                 0.705    550660.0\n",
              "8143  2020-08-01   6101  ...                 0.669     96971.0\n",
              "8315  2020-08-01   6103  ...                 0.545     65084.0\n",
              "8487  2020-08-01   6107  ...                 0.685    466195.0\n",
              "8659  2020-08-01   6109  ...                 0.653     54478.0\n",
              "8831  2020-08-01   6111  ...                 0.777    846006.0\n",
              "9003  2020-08-01   6113  ...                 0.791    220500.0\n",
              "9175  2020-08-01   6115  ...                 0.669     78668.0\n",
              "\n",
              "[53 rows x 18 columns]"
            ]
          },
          "metadata": {
            "tags": []
          },
          "execution_count": 117
        }
      ]
    },
    {
      "cell_type": "code",
      "metadata": {
        "id": "L2bE3yeW7BJB",
        "outputId": "1af97473-7cc7-466d-b99a-61c24e43d06a",
        "colab": {
          "base_uri": "https://localhost:8080/",
          "height": 472
        }
      },
      "source": [
        "CA_combined_data.head(8)"
      ],
      "execution_count": 118,
      "outputs": [
        {
          "output_type": "execute_result",
          "data": {
            "text/html": [
              "<div>\n",
              "<style scoped>\n",
              "    .dataframe tbody tr th:only-of-type {\n",
              "        vertical-align: middle;\n",
              "    }\n",
              "\n",
              "    .dataframe tbody tr th {\n",
              "        vertical-align: top;\n",
              "    }\n",
              "\n",
              "    .dataframe thead th {\n",
              "        text-align: right;\n",
              "    }\n",
              "</style>\n",
              "<table border=\"1\" class=\"dataframe\">\n",
              "  <thead>\n",
              "    <tr style=\"text-align: right;\">\n",
              "      <th></th>\n",
              "      <th>Date</th>\n",
              "      <th>fips_x</th>\n",
              "      <th>County Name</th>\n",
              "      <th>retail and recreation</th>\n",
              "      <th>grocery and pharmacy</th>\n",
              "      <th>parks</th>\n",
              "      <th>transit stations</th>\n",
              "      <th>workplaces</th>\n",
              "      <th>residential</th>\n",
              "      <th>driving</th>\n",
              "      <th>m50</th>\n",
              "      <th>m50_index</th>\n",
              "      <th>population_density</th>\n",
              "      <th>mask_rule_active</th>\n",
              "      <th>mask_wearing_percent</th>\n",
              "      <th>New cases</th>\n",
              "      <th>rolling_avg_new_cases</th>\n",
              "      <th>population</th>\n",
              "    </tr>\n",
              "  </thead>\n",
              "  <tbody>\n",
              "    <tr>\n",
              "      <th>0</th>\n",
              "      <td>2020-03-01</td>\n",
              "      <td>6001</td>\n",
              "      <td>Alameda County</td>\n",
              "      <td>6.0</td>\n",
              "      <td>9.0</td>\n",
              "      <td>15.0</td>\n",
              "      <td>1.0</td>\n",
              "      <td>4.0</td>\n",
              "      <td>0.0</td>\n",
              "      <td>-7.65</td>\n",
              "      <td>3.684</td>\n",
              "      <td>58</td>\n",
              "      <td>2261.547725</td>\n",
              "      <td>0</td>\n",
              "      <td>0.0</td>\n",
              "      <td>0</td>\n",
              "      <td>NaN</td>\n",
              "      <td>1671329.0</td>\n",
              "    </tr>\n",
              "    <tr>\n",
              "      <th>1</th>\n",
              "      <td>2020-03-02</td>\n",
              "      <td>6001</td>\n",
              "      <td>Alameda County</td>\n",
              "      <td>4.0</td>\n",
              "      <td>7.0</td>\n",
              "      <td>7.0</td>\n",
              "      <td>-1.0</td>\n",
              "      <td>3.0</td>\n",
              "      <td>0.0</td>\n",
              "      <td>6.76</td>\n",
              "      <td>6.182</td>\n",
              "      <td>98</td>\n",
              "      <td>2261.547725</td>\n",
              "      <td>0</td>\n",
              "      <td>0.0</td>\n",
              "      <td>0</td>\n",
              "      <td>NaN</td>\n",
              "      <td>1671329.0</td>\n",
              "    </tr>\n",
              "    <tr>\n",
              "      <th>2</th>\n",
              "      <td>2020-03-03</td>\n",
              "      <td>6001</td>\n",
              "      <td>Alameda County</td>\n",
              "      <td>5.0</td>\n",
              "      <td>12.0</td>\n",
              "      <td>41.0</td>\n",
              "      <td>0.0</td>\n",
              "      <td>1.0</td>\n",
              "      <td>-1.0</td>\n",
              "      <td>13.19</td>\n",
              "      <td>6.271</td>\n",
              "      <td>100</td>\n",
              "      <td>2261.547725</td>\n",
              "      <td>0</td>\n",
              "      <td>0.0</td>\n",
              "      <td>1</td>\n",
              "      <td>NaN</td>\n",
              "      <td>1671329.0</td>\n",
              "    </tr>\n",
              "    <tr>\n",
              "      <th>3</th>\n",
              "      <td>2020-03-04</td>\n",
              "      <td>6001</td>\n",
              "      <td>Alameda County</td>\n",
              "      <td>1.0</td>\n",
              "      <td>6.0</td>\n",
              "      <td>23.0</td>\n",
              "      <td>-3.0</td>\n",
              "      <td>1.0</td>\n",
              "      <td>0.0</td>\n",
              "      <td>10.67</td>\n",
              "      <td>6.209</td>\n",
              "      <td>99</td>\n",
              "      <td>2261.547725</td>\n",
              "      <td>0</td>\n",
              "      <td>0.0</td>\n",
              "      <td>0</td>\n",
              "      <td>NaN</td>\n",
              "      <td>1671329.0</td>\n",
              "    </tr>\n",
              "    <tr>\n",
              "      <th>4</th>\n",
              "      <td>2020-03-05</td>\n",
              "      <td>6001</td>\n",
              "      <td>Alameda County</td>\n",
              "      <td>1.0</td>\n",
              "      <td>6.0</td>\n",
              "      <td>12.0</td>\n",
              "      <td>-5.0</td>\n",
              "      <td>-1.0</td>\n",
              "      <td>1.0</td>\n",
              "      <td>11.64</td>\n",
              "      <td>6.654</td>\n",
              "      <td>106</td>\n",
              "      <td>2261.547725</td>\n",
              "      <td>0</td>\n",
              "      <td>0.0</td>\n",
              "      <td>0</td>\n",
              "      <td>NaN</td>\n",
              "      <td>1671329.0</td>\n",
              "    </tr>\n",
              "    <tr>\n",
              "      <th>5</th>\n",
              "      <td>2020-03-06</td>\n",
              "      <td>6001</td>\n",
              "      <td>Alameda County</td>\n",
              "      <td>1.0</td>\n",
              "      <td>5.0</td>\n",
              "      <td>-1.0</td>\n",
              "      <td>-7.0</td>\n",
              "      <td>0.0</td>\n",
              "      <td>2.0</td>\n",
              "      <td>25.77</td>\n",
              "      <td>6.704</td>\n",
              "      <td>106</td>\n",
              "      <td>2261.547725</td>\n",
              "      <td>0</td>\n",
              "      <td>0.0</td>\n",
              "      <td>0</td>\n",
              "      <td>NaN</td>\n",
              "      <td>1671329.0</td>\n",
              "    </tr>\n",
              "    <tr>\n",
              "      <th>6</th>\n",
              "      <td>2020-03-07</td>\n",
              "      <td>6001</td>\n",
              "      <td>Alameda County</td>\n",
              "      <td>-6.0</td>\n",
              "      <td>4.0</td>\n",
              "      <td>-23.0</td>\n",
              "      <td>-14.0</td>\n",
              "      <td>1.0</td>\n",
              "      <td>3.0</td>\n",
              "      <td>12.82</td>\n",
              "      <td>4.869</td>\n",
              "      <td>77</td>\n",
              "      <td>2261.547725</td>\n",
              "      <td>0</td>\n",
              "      <td>0.0</td>\n",
              "      <td>1</td>\n",
              "      <td>0.0</td>\n",
              "      <td>1671329.0</td>\n",
              "    </tr>\n",
              "    <tr>\n",
              "      <th>7</th>\n",
              "      <td>2020-03-08</td>\n",
              "      <td>6001</td>\n",
              "      <td>Alameda County</td>\n",
              "      <td>-2.0</td>\n",
              "      <td>4.0</td>\n",
              "      <td>14.0</td>\n",
              "      <td>-8.0</td>\n",
              "      <td>1.0</td>\n",
              "      <td>1.0</td>\n",
              "      <td>-14.65</td>\n",
              "      <td>3.408</td>\n",
              "      <td>54</td>\n",
              "      <td>2261.547725</td>\n",
              "      <td>0</td>\n",
              "      <td>0.0</td>\n",
              "      <td>0</td>\n",
              "      <td>0.0</td>\n",
              "      <td>1671329.0</td>\n",
              "    </tr>\n",
              "  </tbody>\n",
              "</table>\n",
              "</div>"
            ],
            "text/plain": [
              "         Date fips_x  ... rolling_avg_new_cases  population\n",
              "0  2020-03-01   6001  ...                   NaN   1671329.0\n",
              "1  2020-03-02   6001  ...                   NaN   1671329.0\n",
              "2  2020-03-03   6001  ...                   NaN   1671329.0\n",
              "3  2020-03-04   6001  ...                   NaN   1671329.0\n",
              "4  2020-03-05   6001  ...                   NaN   1671329.0\n",
              "5  2020-03-06   6001  ...                   NaN   1671329.0\n",
              "6  2020-03-07   6001  ...                   0.0   1671329.0\n",
              "7  2020-03-08   6001  ...                   0.0   1671329.0\n",
              "\n",
              "[8 rows x 18 columns]"
            ]
          },
          "metadata": {
            "tags": []
          },
          "execution_count": 118
        }
      ]
    },
    {
      "cell_type": "markdown",
      "metadata": {
        "id": "Sz-1ySgY7MR-"
      },
      "source": [
        "## clean data - fill NA "
      ]
    },
    {
      "cell_type": "code",
      "metadata": {
        "id": "dnyUpG0B7QkI",
        "outputId": "c95b07c2-e0c1-454a-bd72-b516a5f1eeeb",
        "colab": {
          "base_uri": "https://localhost:8080/",
          "height": 472
        }
      },
      "source": [
        "CA_combined_data = CA_combined_data.fillna(0)\n",
        "CA_combined_data.head(8)"
      ],
      "execution_count": 119,
      "outputs": [
        {
          "output_type": "execute_result",
          "data": {
            "text/html": [
              "<div>\n",
              "<style scoped>\n",
              "    .dataframe tbody tr th:only-of-type {\n",
              "        vertical-align: middle;\n",
              "    }\n",
              "\n",
              "    .dataframe tbody tr th {\n",
              "        vertical-align: top;\n",
              "    }\n",
              "\n",
              "    .dataframe thead th {\n",
              "        text-align: right;\n",
              "    }\n",
              "</style>\n",
              "<table border=\"1\" class=\"dataframe\">\n",
              "  <thead>\n",
              "    <tr style=\"text-align: right;\">\n",
              "      <th></th>\n",
              "      <th>Date</th>\n",
              "      <th>fips_x</th>\n",
              "      <th>County Name</th>\n",
              "      <th>retail and recreation</th>\n",
              "      <th>grocery and pharmacy</th>\n",
              "      <th>parks</th>\n",
              "      <th>transit stations</th>\n",
              "      <th>workplaces</th>\n",
              "      <th>residential</th>\n",
              "      <th>driving</th>\n",
              "      <th>m50</th>\n",
              "      <th>m50_index</th>\n",
              "      <th>population_density</th>\n",
              "      <th>mask_rule_active</th>\n",
              "      <th>mask_wearing_percent</th>\n",
              "      <th>New cases</th>\n",
              "      <th>rolling_avg_new_cases</th>\n",
              "      <th>population</th>\n",
              "    </tr>\n",
              "  </thead>\n",
              "  <tbody>\n",
              "    <tr>\n",
              "      <th>0</th>\n",
              "      <td>2020-03-01</td>\n",
              "      <td>6001</td>\n",
              "      <td>Alameda County</td>\n",
              "      <td>6.0</td>\n",
              "      <td>9.0</td>\n",
              "      <td>15.0</td>\n",
              "      <td>1.0</td>\n",
              "      <td>4.0</td>\n",
              "      <td>0.0</td>\n",
              "      <td>-7.65</td>\n",
              "      <td>3.684</td>\n",
              "      <td>58</td>\n",
              "      <td>2261.547725</td>\n",
              "      <td>0</td>\n",
              "      <td>0.0</td>\n",
              "      <td>0</td>\n",
              "      <td>0.0</td>\n",
              "      <td>1671329.0</td>\n",
              "    </tr>\n",
              "    <tr>\n",
              "      <th>1</th>\n",
              "      <td>2020-03-02</td>\n",
              "      <td>6001</td>\n",
              "      <td>Alameda County</td>\n",
              "      <td>4.0</td>\n",
              "      <td>7.0</td>\n",
              "      <td>7.0</td>\n",
              "      <td>-1.0</td>\n",
              "      <td>3.0</td>\n",
              "      <td>0.0</td>\n",
              "      <td>6.76</td>\n",
              "      <td>6.182</td>\n",
              "      <td>98</td>\n",
              "      <td>2261.547725</td>\n",
              "      <td>0</td>\n",
              "      <td>0.0</td>\n",
              "      <td>0</td>\n",
              "      <td>0.0</td>\n",
              "      <td>1671329.0</td>\n",
              "    </tr>\n",
              "    <tr>\n",
              "      <th>2</th>\n",
              "      <td>2020-03-03</td>\n",
              "      <td>6001</td>\n",
              "      <td>Alameda County</td>\n",
              "      <td>5.0</td>\n",
              "      <td>12.0</td>\n",
              "      <td>41.0</td>\n",
              "      <td>0.0</td>\n",
              "      <td>1.0</td>\n",
              "      <td>-1.0</td>\n",
              "      <td>13.19</td>\n",
              "      <td>6.271</td>\n",
              "      <td>100</td>\n",
              "      <td>2261.547725</td>\n",
              "      <td>0</td>\n",
              "      <td>0.0</td>\n",
              "      <td>1</td>\n",
              "      <td>0.0</td>\n",
              "      <td>1671329.0</td>\n",
              "    </tr>\n",
              "    <tr>\n",
              "      <th>3</th>\n",
              "      <td>2020-03-04</td>\n",
              "      <td>6001</td>\n",
              "      <td>Alameda County</td>\n",
              "      <td>1.0</td>\n",
              "      <td>6.0</td>\n",
              "      <td>23.0</td>\n",
              "      <td>-3.0</td>\n",
              "      <td>1.0</td>\n",
              "      <td>0.0</td>\n",
              "      <td>10.67</td>\n",
              "      <td>6.209</td>\n",
              "      <td>99</td>\n",
              "      <td>2261.547725</td>\n",
              "      <td>0</td>\n",
              "      <td>0.0</td>\n",
              "      <td>0</td>\n",
              "      <td>0.0</td>\n",
              "      <td>1671329.0</td>\n",
              "    </tr>\n",
              "    <tr>\n",
              "      <th>4</th>\n",
              "      <td>2020-03-05</td>\n",
              "      <td>6001</td>\n",
              "      <td>Alameda County</td>\n",
              "      <td>1.0</td>\n",
              "      <td>6.0</td>\n",
              "      <td>12.0</td>\n",
              "      <td>-5.0</td>\n",
              "      <td>-1.0</td>\n",
              "      <td>1.0</td>\n",
              "      <td>11.64</td>\n",
              "      <td>6.654</td>\n",
              "      <td>106</td>\n",
              "      <td>2261.547725</td>\n",
              "      <td>0</td>\n",
              "      <td>0.0</td>\n",
              "      <td>0</td>\n",
              "      <td>0.0</td>\n",
              "      <td>1671329.0</td>\n",
              "    </tr>\n",
              "    <tr>\n",
              "      <th>5</th>\n",
              "      <td>2020-03-06</td>\n",
              "      <td>6001</td>\n",
              "      <td>Alameda County</td>\n",
              "      <td>1.0</td>\n",
              "      <td>5.0</td>\n",
              "      <td>-1.0</td>\n",
              "      <td>-7.0</td>\n",
              "      <td>0.0</td>\n",
              "      <td>2.0</td>\n",
              "      <td>25.77</td>\n",
              "      <td>6.704</td>\n",
              "      <td>106</td>\n",
              "      <td>2261.547725</td>\n",
              "      <td>0</td>\n",
              "      <td>0.0</td>\n",
              "      <td>0</td>\n",
              "      <td>0.0</td>\n",
              "      <td>1671329.0</td>\n",
              "    </tr>\n",
              "    <tr>\n",
              "      <th>6</th>\n",
              "      <td>2020-03-07</td>\n",
              "      <td>6001</td>\n",
              "      <td>Alameda County</td>\n",
              "      <td>-6.0</td>\n",
              "      <td>4.0</td>\n",
              "      <td>-23.0</td>\n",
              "      <td>-14.0</td>\n",
              "      <td>1.0</td>\n",
              "      <td>3.0</td>\n",
              "      <td>12.82</td>\n",
              "      <td>4.869</td>\n",
              "      <td>77</td>\n",
              "      <td>2261.547725</td>\n",
              "      <td>0</td>\n",
              "      <td>0.0</td>\n",
              "      <td>1</td>\n",
              "      <td>0.0</td>\n",
              "      <td>1671329.0</td>\n",
              "    </tr>\n",
              "    <tr>\n",
              "      <th>7</th>\n",
              "      <td>2020-03-08</td>\n",
              "      <td>6001</td>\n",
              "      <td>Alameda County</td>\n",
              "      <td>-2.0</td>\n",
              "      <td>4.0</td>\n",
              "      <td>14.0</td>\n",
              "      <td>-8.0</td>\n",
              "      <td>1.0</td>\n",
              "      <td>1.0</td>\n",
              "      <td>-14.65</td>\n",
              "      <td>3.408</td>\n",
              "      <td>54</td>\n",
              "      <td>2261.547725</td>\n",
              "      <td>0</td>\n",
              "      <td>0.0</td>\n",
              "      <td>0</td>\n",
              "      <td>0.0</td>\n",
              "      <td>1671329.0</td>\n",
              "    </tr>\n",
              "  </tbody>\n",
              "</table>\n",
              "</div>"
            ],
            "text/plain": [
              "         Date  fips_x  ... rolling_avg_new_cases  population\n",
              "0  2020-03-01    6001  ...                   0.0   1671329.0\n",
              "1  2020-03-02    6001  ...                   0.0   1671329.0\n",
              "2  2020-03-03    6001  ...                   0.0   1671329.0\n",
              "3  2020-03-04    6001  ...                   0.0   1671329.0\n",
              "4  2020-03-05    6001  ...                   0.0   1671329.0\n",
              "5  2020-03-06    6001  ...                   0.0   1671329.0\n",
              "6  2020-03-07    6001  ...                   0.0   1671329.0\n",
              "7  2020-03-08    6001  ...                   0.0   1671329.0\n",
              "\n",
              "[8 rows x 18 columns]"
            ]
          },
          "metadata": {
            "tags": []
          },
          "execution_count": 119
        }
      ]
    },
    {
      "cell_type": "code",
      "metadata": {
        "id": "qseoizcDL1by",
        "outputId": "3d5f458c-63fd-4651-a9e9-aede05f1b45d",
        "colab": {
          "base_uri": "https://localhost:8080/",
          "height": 319
        }
      },
      "source": [
        "CA_combined_data['County Name'].unique()"
      ],
      "execution_count": 120,
      "outputs": [
        {
          "output_type": "execute_result",
          "data": {
            "text/plain": [
              "array(['Alameda County', 'Amador County', 'Butte County',\n",
              "       'Calaveras County', 'Colusa County', 'Contra Costa County',\n",
              "       'Del Norte County', 'El Dorado County', 'Fresno County',\n",
              "       'Glenn County', 'Humboldt County', 'Imperial County',\n",
              "       'Inyo County', 'Kern County', 'Kings County', 'Lake County',\n",
              "       'Lassen County', 'Los Angeles County', 'Madera County',\n",
              "       'Marin County', 'Mariposa County', 'Mendocino County',\n",
              "       'Merced County', 'Mono County', 'Monterey County', 'Napa County',\n",
              "       'Nevada County', 'Orange County', 'Placer County', 'Plumas County',\n",
              "       'Riverside County', 'Sacramento County', 'San Benito County',\n",
              "       'San Bernardino County', 'San Diego County',\n",
              "       'San Francisco County', 'San Joaquin County',\n",
              "       'San Luis Obispo County', 'San Mateo County',\n",
              "       'Santa Barbara County', 'Santa Clara County', 'Santa Cruz County',\n",
              "       'Shasta County', 'Siskiyou County', 'Solano County',\n",
              "       'Sonoma County', 'Stanislaus County', 'Sutter County',\n",
              "       'Tehama County', 'Tulare County', 'Tuolumne County',\n",
              "       'Ventura County', 'Yolo County', 'Yuba County'], dtype=object)"
            ]
          },
          "metadata": {
            "tags": []
          },
          "execution_count": 120
        }
      ]
    },
    {
      "cell_type": "markdown",
      "metadata": {
        "id": "LobDpGCFMAbM"
      },
      "source": [
        "## verifying Rolling average with visualizations -Los Angeles County"
      ]
    },
    {
      "cell_type": "code",
      "metadata": {
        "id": "CF3t0D6jL-53",
        "outputId": "1efce932-fc08-4ce3-ec0f-a6917ccb0ebb",
        "colab": {
          "base_uri": "https://localhost:8080/",
          "height": 434
        }
      },
      "source": [
        "los_angeles_county = CA_combined_data[CA_combined_data['County Name'] == 'Los Angeles County']\n",
        "print(los_angeles_county.shape)\n",
        "los_angeles_county.head()"
      ],
      "execution_count": 121,
      "outputs": [
        {
          "output_type": "stream",
          "text": [
            "(172, 18)\n"
          ],
          "name": "stdout"
        },
        {
          "output_type": "execute_result",
          "data": {
            "text/html": [
              "<div>\n",
              "<style scoped>\n",
              "    .dataframe tbody tr th:only-of-type {\n",
              "        vertical-align: middle;\n",
              "    }\n",
              "\n",
              "    .dataframe tbody tr th {\n",
              "        vertical-align: top;\n",
              "    }\n",
              "\n",
              "    .dataframe thead th {\n",
              "        text-align: right;\n",
              "    }\n",
              "</style>\n",
              "<table border=\"1\" class=\"dataframe\">\n",
              "  <thead>\n",
              "    <tr style=\"text-align: right;\">\n",
              "      <th></th>\n",
              "      <th>Date</th>\n",
              "      <th>fips_x</th>\n",
              "      <th>County Name</th>\n",
              "      <th>retail and recreation</th>\n",
              "      <th>grocery and pharmacy</th>\n",
              "      <th>parks</th>\n",
              "      <th>transit stations</th>\n",
              "      <th>workplaces</th>\n",
              "      <th>residential</th>\n",
              "      <th>driving</th>\n",
              "      <th>m50</th>\n",
              "      <th>m50_index</th>\n",
              "      <th>population_density</th>\n",
              "      <th>mask_rule_active</th>\n",
              "      <th>mask_wearing_percent</th>\n",
              "      <th>New cases</th>\n",
              "      <th>rolling_avg_new_cases</th>\n",
              "      <th>population</th>\n",
              "    </tr>\n",
              "  </thead>\n",
              "  <tbody>\n",
              "    <tr>\n",
              "      <th>2924</th>\n",
              "      <td>2020-03-01</td>\n",
              "      <td>6037</td>\n",
              "      <td>Los Angeles County</td>\n",
              "      <td>4.0</td>\n",
              "      <td>3.0</td>\n",
              "      <td>-5.0</td>\n",
              "      <td>-3.0</td>\n",
              "      <td>1.0</td>\n",
              "      <td>0.0</td>\n",
              "      <td>-4.36</td>\n",
              "      <td>3.996</td>\n",
              "      <td>60</td>\n",
              "      <td>2473.978284</td>\n",
              "      <td>0</td>\n",
              "      <td>0.0</td>\n",
              "      <td>0</td>\n",
              "      <td>0.0</td>\n",
              "      <td>10039107.0</td>\n",
              "    </tr>\n",
              "    <tr>\n",
              "      <th>2925</th>\n",
              "      <td>2020-03-02</td>\n",
              "      <td>6037</td>\n",
              "      <td>Los Angeles County</td>\n",
              "      <td>5.0</td>\n",
              "      <td>5.0</td>\n",
              "      <td>8.0</td>\n",
              "      <td>1.0</td>\n",
              "      <td>4.0</td>\n",
              "      <td>-1.0</td>\n",
              "      <td>7.51</td>\n",
              "      <td>6.502</td>\n",
              "      <td>98</td>\n",
              "      <td>2473.978284</td>\n",
              "      <td>0</td>\n",
              "      <td>0.0</td>\n",
              "      <td>0</td>\n",
              "      <td>0.0</td>\n",
              "      <td>10039107.0</td>\n",
              "    </tr>\n",
              "    <tr>\n",
              "      <th>2926</th>\n",
              "      <td>2020-03-03</td>\n",
              "      <td>6037</td>\n",
              "      <td>Los Angeles County</td>\n",
              "      <td>8.0</td>\n",
              "      <td>7.0</td>\n",
              "      <td>32.0</td>\n",
              "      <td>2.0</td>\n",
              "      <td>3.0</td>\n",
              "      <td>-1.0</td>\n",
              "      <td>17.24</td>\n",
              "      <td>6.591</td>\n",
              "      <td>99</td>\n",
              "      <td>2473.978284</td>\n",
              "      <td>0</td>\n",
              "      <td>0.0</td>\n",
              "      <td>0</td>\n",
              "      <td>0.0</td>\n",
              "      <td>10039107.0</td>\n",
              "    </tr>\n",
              "    <tr>\n",
              "      <th>2927</th>\n",
              "      <td>2020-03-04</td>\n",
              "      <td>6037</td>\n",
              "      <td>Los Angeles County</td>\n",
              "      <td>4.0</td>\n",
              "      <td>6.0</td>\n",
              "      <td>9.0</td>\n",
              "      <td>-1.0</td>\n",
              "      <td>2.0</td>\n",
              "      <td>0.0</td>\n",
              "      <td>13.82</td>\n",
              "      <td>6.595</td>\n",
              "      <td>100</td>\n",
              "      <td>2473.978284</td>\n",
              "      <td>0</td>\n",
              "      <td>0.0</td>\n",
              "      <td>6</td>\n",
              "      <td>0.0</td>\n",
              "      <td>10039107.0</td>\n",
              "    </tr>\n",
              "    <tr>\n",
              "      <th>2928</th>\n",
              "      <td>2020-03-05</td>\n",
              "      <td>6037</td>\n",
              "      <td>Los Angeles County</td>\n",
              "      <td>4.0</td>\n",
              "      <td>7.0</td>\n",
              "      <td>9.0</td>\n",
              "      <td>0.0</td>\n",
              "      <td>2.0</td>\n",
              "      <td>0.0</td>\n",
              "      <td>22.17</td>\n",
              "      <td>7.008</td>\n",
              "      <td>106</td>\n",
              "      <td>2473.978284</td>\n",
              "      <td>0</td>\n",
              "      <td>0.0</td>\n",
              "      <td>4</td>\n",
              "      <td>0.0</td>\n",
              "      <td>10039107.0</td>\n",
              "    </tr>\n",
              "  </tbody>\n",
              "</table>\n",
              "</div>"
            ],
            "text/plain": [
              "            Date  fips_x  ... rolling_avg_new_cases  population\n",
              "2924  2020-03-01    6037  ...                   0.0  10039107.0\n",
              "2925  2020-03-02    6037  ...                   0.0  10039107.0\n",
              "2926  2020-03-03    6037  ...                   0.0  10039107.0\n",
              "2927  2020-03-04    6037  ...                   0.0  10039107.0\n",
              "2928  2020-03-05    6037  ...                   0.0  10039107.0\n",
              "\n",
              "[5 rows x 18 columns]"
            ]
          },
          "metadata": {
            "tags": []
          },
          "execution_count": 121
        }
      ]
    },
    {
      "cell_type": "code",
      "metadata": {
        "id": "_4cRjK3A59GK",
        "outputId": "fa7f282e-7d46-49e7-b8eb-942985767c0f",
        "colab": {
          "base_uri": "https://localhost:8080/",
          "height": 299
        }
      },
      "source": [
        "fig,ax = plt.subplots()\n",
        "# make a plot\n",
        "ax.plot(los_angeles_county.Date, los_angeles_county['rolling_avg_new_cases'], color=\"blue\")\n",
        "# set x-axis label\n",
        "ax.set_xlabel(\"Date\",fontsize=14)\n",
        "# set y-axis label\n",
        "ax.set_ylabel(\"rolling_avg_new_cases\",color=\"blue\",fontsize=14)\n",
        "ax2=ax.twinx()\n",
        "# make a plot with different y-axis using second axis object\n",
        "ax2.plot(los_angeles_county.Date, los_angeles_county[\"New cases\"],color=\"red\")\n",
        "ax2.set_ylabel(\"New cases\",color=\"blue\",fontsize=14)\n",
        "plt.title(\"'rolling_avg_new_cases' Vs New cases\")\n",
        "\n",
        "plt.show()"
      ],
      "execution_count": 122,
      "outputs": [
        {
          "output_type": "display_data",
          "data": {
            "image/png": "[encoded data removed]",
            "text/plain": [
              "<Figure size 432x288 with 2 Axes>"
            ]
          },
          "metadata": {
            "tags": [],
            "needs_background": "light"
          }
        }
      ]
    },
    {
      "cell_type": "code",
      "metadata": {
        "id": "EtNJP7fdLDu0"
      },
      "source": [
        "suffolk_county = CA_combined_data[CA_combined_data['County Name'] == 'Santa Clara County']"
      ],
      "execution_count": 123,
      "outputs": []
    },
    {
      "cell_type": "code",
      "metadata": {
        "id": "fo3Jw_0cLDTD",
        "outputId": "1ddf770b-1b92-4f21-f424-d7c5eed38be5",
        "colab": {
          "base_uri": "https://localhost:8080/",
          "height": 299
        }
      },
      "source": [
        "fig,ax = plt.subplots()\n",
        "# make a plot\n",
        "ax.plot(suffolk_county.Date, suffolk_county['rolling_avg_new_cases'], color=\"blue\")\n",
        "# set x-axis label\n",
        "ax.set_xlabel(\"Date\",fontsize=14)\n",
        "# set y-axis label\n",
        "ax.set_ylabel(\"rolling_avg_new_cases\",color=\"blue\",fontsize=14)\n",
        "ax2=ax.twinx()\n",
        "# make a plot with different y-axis using second axis object\n",
        "ax2.plot(suffolk_county.Date, suffolk_county[\"New cases\"],color=\"red\")\n",
        "ax2.set_ylabel(\"New cases\",color=\"blue\",fontsize=14)\n",
        "plt.title(\"'rolling_avg_new_cases' Vs New cases\")\n",
        "\n",
        "plt.show()"
      ],
      "execution_count": 124,
      "outputs": [
        {
          "output_type": "display_data",
          "data": {
            "image/png": "[encoded data removed]",
            "text/plain": [
              "<Figure size 432x288 with 2 Axes>"
            ]
          },
          "metadata": {
            "tags": [],
            "needs_background": "light"
          }
        }
      ]
    },
    {
      "cell_type": "markdown",
      "metadata": {
        "id": "Qcx8HY6Z7bZ2"
      },
      "source": [
        "## Rolling window to compare every 2 weeks with next 2 weeks"
      ]
    },
    {
      "cell_type": "code",
      "metadata": {
        "id": "iGRvUuNGAKng",
        "outputId": "0b610812-c7be-490c-b96f-9e0ab5d02fc2",
        "colab": {
          "base_uri": "https://localhost:8080/",
          "height": 350
        }
      },
      "source": [
        "CA_combined_data = CA_combined_data.sort_values(by=['Date'])\n",
        "CA_combined_data.head()"
      ],
      "execution_count": 125,
      "outputs": [
        {
          "output_type": "execute_result",
          "data": {
            "text/html": [
              "<div>\n",
              "<style scoped>\n",
              "    .dataframe tbody tr th:only-of-type {\n",
              "        vertical-align: middle;\n",
              "    }\n",
              "\n",
              "    .dataframe tbody tr th {\n",
              "        vertical-align: top;\n",
              "    }\n",
              "\n",
              "    .dataframe thead th {\n",
              "        text-align: right;\n",
              "    }\n",
              "</style>\n",
              "<table border=\"1\" class=\"dataframe\">\n",
              "  <thead>\n",
              "    <tr style=\"text-align: right;\">\n",
              "      <th></th>\n",
              "      <th>Date</th>\n",
              "      <th>fips_x</th>\n",
              "      <th>County Name</th>\n",
              "      <th>retail and recreation</th>\n",
              "      <th>grocery and pharmacy</th>\n",
              "      <th>parks</th>\n",
              "      <th>transit stations</th>\n",
              "      <th>workplaces</th>\n",
              "      <th>residential</th>\n",
              "      <th>driving</th>\n",
              "      <th>m50</th>\n",
              "      <th>m50_index</th>\n",
              "      <th>population_density</th>\n",
              "      <th>mask_rule_active</th>\n",
              "      <th>mask_wearing_percent</th>\n",
              "      <th>New cases</th>\n",
              "      <th>rolling_avg_new_cases</th>\n",
              "      <th>population</th>\n",
              "    </tr>\n",
              "  </thead>\n",
              "  <tbody>\n",
              "    <tr>\n",
              "      <th>0</th>\n",
              "      <td>2020-03-01</td>\n",
              "      <td>6001</td>\n",
              "      <td>Alameda County</td>\n",
              "      <td>6.0</td>\n",
              "      <td>9.0</td>\n",
              "      <td>15.0</td>\n",
              "      <td>1.0</td>\n",
              "      <td>4.0</td>\n",
              "      <td>0.0</td>\n",
              "      <td>-7.65</td>\n",
              "      <td>3.684</td>\n",
              "      <td>58</td>\n",
              "      <td>2261.547725</td>\n",
              "      <td>0</td>\n",
              "      <td>0.0</td>\n",
              "      <td>0</td>\n",
              "      <td>0.0</td>\n",
              "      <td>1671329.0</td>\n",
              "    </tr>\n",
              "    <tr>\n",
              "      <th>5240</th>\n",
              "      <td>2020-03-01</td>\n",
              "      <td>6067</td>\n",
              "      <td>Sacramento County</td>\n",
              "      <td>11.0</td>\n",
              "      <td>4.0</td>\n",
              "      <td>26.0</td>\n",
              "      <td>1.0</td>\n",
              "      <td>2.0</td>\n",
              "      <td>-1.0</td>\n",
              "      <td>-4.63</td>\n",
              "      <td>3.773</td>\n",
              "      <td>53</td>\n",
              "      <td>1608.950489</td>\n",
              "      <td>0</td>\n",
              "      <td>0.0</td>\n",
              "      <td>0</td>\n",
              "      <td>0.0</td>\n",
              "      <td>1552058.0</td>\n",
              "    </tr>\n",
              "    <tr>\n",
              "      <th>5412</th>\n",
              "      <td>2020-03-01</td>\n",
              "      <td>6069</td>\n",
              "      <td>San Benito County</td>\n",
              "      <td>2.0</td>\n",
              "      <td>-1.0</td>\n",
              "      <td>-7.0</td>\n",
              "      <td>0.0</td>\n",
              "      <td>0.0</td>\n",
              "      <td>0.0</td>\n",
              "      <td>10.40</td>\n",
              "      <td>3.876</td>\n",
              "      <td>33</td>\n",
              "      <td>45.227585</td>\n",
              "      <td>0</td>\n",
              "      <td>0.0</td>\n",
              "      <td>0</td>\n",
              "      <td>0.0</td>\n",
              "      <td>62808.0</td>\n",
              "    </tr>\n",
              "    <tr>\n",
              "      <th>5584</th>\n",
              "      <td>2020-03-01</td>\n",
              "      <td>6071</td>\n",
              "      <td>San Bernardino County</td>\n",
              "      <td>5.0</td>\n",
              "      <td>-2.0</td>\n",
              "      <td>-22.0</td>\n",
              "      <td>2.0</td>\n",
              "      <td>-1.0</td>\n",
              "      <td>0.0</td>\n",
              "      <td>10.34</td>\n",
              "      <td>4.508</td>\n",
              "      <td>57</td>\n",
              "      <td>108.694796</td>\n",
              "      <td>0</td>\n",
              "      <td>0.0</td>\n",
              "      <td>0</td>\n",
              "      <td>0.0</td>\n",
              "      <td>2180085.0</td>\n",
              "    </tr>\n",
              "    <tr>\n",
              "      <th>5756</th>\n",
              "      <td>2020-03-01</td>\n",
              "      <td>6073</td>\n",
              "      <td>San Diego County</td>\n",
              "      <td>2.0</td>\n",
              "      <td>-1.0</td>\n",
              "      <td>-20.0</td>\n",
              "      <td>-4.0</td>\n",
              "      <td>2.0</td>\n",
              "      <td>0.0</td>\n",
              "      <td>-4.99</td>\n",
              "      <td>4.555</td>\n",
              "      <td>59</td>\n",
              "      <td>793.587741</td>\n",
              "      <td>0</td>\n",
              "      <td>0.0</td>\n",
              "      <td>0</td>\n",
              "      <td>0.0</td>\n",
              "      <td>3338330.0</td>\n",
              "    </tr>\n",
              "  </tbody>\n",
              "</table>\n",
              "</div>"
            ],
            "text/plain": [
              "            Date  fips_x  ... rolling_avg_new_cases  population\n",
              "0     2020-03-01    6001  ...                   0.0   1671329.0\n",
              "5240  2020-03-01    6067  ...                   0.0   1552058.0\n",
              "5412  2020-03-01    6069  ...                   0.0     62808.0\n",
              "5584  2020-03-01    6071  ...                   0.0   2180085.0\n",
              "5756  2020-03-01    6073  ...                   0.0   3338330.0\n",
              "\n",
              "[5 rows x 18 columns]"
            ]
          },
          "metadata": {
            "tags": []
          },
          "execution_count": 125
        }
      ]
    },
    {
      "cell_type": "code",
      "metadata": {
        "id": "mx9hnOv70gtW",
        "outputId": "cae2b3a3-5307-40ea-c808-4f255a62b960",
        "colab": {
          "base_uri": "https://localhost:8080/",
          "height": 791
        }
      },
      "source": [
        "CA_combined_data[CA_combined_data['fips_x'] == 6037]"
      ],
      "execution_count": 126,
      "outputs": [
        {
          "output_type": "execute_result",
          "data": {
            "text/html": [
              "<div>\n",
              "<style scoped>\n",
              "    .dataframe tbody tr th:only-of-type {\n",
              "        vertical-align: middle;\n",
              "    }\n",
              "\n",
              "    .dataframe tbody tr th {\n",
              "        vertical-align: top;\n",
              "    }\n",
              "\n",
              "    .dataframe thead th {\n",
              "        text-align: right;\n",
              "    }\n",
              "</style>\n",
              "<table border=\"1\" class=\"dataframe\">\n",
              "  <thead>\n",
              "    <tr style=\"text-align: right;\">\n",
              "      <th></th>\n",
              "      <th>Date</th>\n",
              "      <th>fips_x</th>\n",
              "      <th>County Name</th>\n",
              "      <th>retail and recreation</th>\n",
              "      <th>grocery and pharmacy</th>\n",
              "      <th>parks</th>\n",
              "      <th>transit stations</th>\n",
              "      <th>workplaces</th>\n",
              "      <th>residential</th>\n",
              "      <th>driving</th>\n",
              "      <th>m50</th>\n",
              "      <th>m50_index</th>\n",
              "      <th>population_density</th>\n",
              "      <th>mask_rule_active</th>\n",
              "      <th>mask_wearing_percent</th>\n",
              "      <th>New cases</th>\n",
              "      <th>rolling_avg_new_cases</th>\n",
              "      <th>population</th>\n",
              "    </tr>\n",
              "  </thead>\n",
              "  <tbody>\n",
              "    <tr>\n",
              "      <th>2924</th>\n",
              "      <td>2020-03-01</td>\n",
              "      <td>6037</td>\n",
              "      <td>Los Angeles County</td>\n",
              "      <td>4.0</td>\n",
              "      <td>3.0</td>\n",
              "      <td>-5.0</td>\n",
              "      <td>-3.0</td>\n",
              "      <td>1.0</td>\n",
              "      <td>0.0</td>\n",
              "      <td>-4.36</td>\n",
              "      <td>3.996</td>\n",
              "      <td>60</td>\n",
              "      <td>2473.978284</td>\n",
              "      <td>0</td>\n",
              "      <td>0.000</td>\n",
              "      <td>0</td>\n",
              "      <td>0.000</td>\n",
              "      <td>10039107.0</td>\n",
              "    </tr>\n",
              "    <tr>\n",
              "      <th>2925</th>\n",
              "      <td>2020-03-02</td>\n",
              "      <td>6037</td>\n",
              "      <td>Los Angeles County</td>\n",
              "      <td>5.0</td>\n",
              "      <td>5.0</td>\n",
              "      <td>8.0</td>\n",
              "      <td>1.0</td>\n",
              "      <td>4.0</td>\n",
              "      <td>-1.0</td>\n",
              "      <td>7.51</td>\n",
              "      <td>6.502</td>\n",
              "      <td>98</td>\n",
              "      <td>2473.978284</td>\n",
              "      <td>0</td>\n",
              "      <td>0.000</td>\n",
              "      <td>0</td>\n",
              "      <td>0.000</td>\n",
              "      <td>10039107.0</td>\n",
              "    </tr>\n",
              "    <tr>\n",
              "      <th>2926</th>\n",
              "      <td>2020-03-03</td>\n",
              "      <td>6037</td>\n",
              "      <td>Los Angeles County</td>\n",
              "      <td>8.0</td>\n",
              "      <td>7.0</td>\n",
              "      <td>32.0</td>\n",
              "      <td>2.0</td>\n",
              "      <td>3.0</td>\n",
              "      <td>-1.0</td>\n",
              "      <td>17.24</td>\n",
              "      <td>6.591</td>\n",
              "      <td>99</td>\n",
              "      <td>2473.978284</td>\n",
              "      <td>0</td>\n",
              "      <td>0.000</td>\n",
              "      <td>0</td>\n",
              "      <td>0.000</td>\n",
              "      <td>10039107.0</td>\n",
              "    </tr>\n",
              "    <tr>\n",
              "      <th>2927</th>\n",
              "      <td>2020-03-04</td>\n",
              "      <td>6037</td>\n",
              "      <td>Los Angeles County</td>\n",
              "      <td>4.0</td>\n",
              "      <td>6.0</td>\n",
              "      <td>9.0</td>\n",
              "      <td>-1.0</td>\n",
              "      <td>2.0</td>\n",
              "      <td>0.0</td>\n",
              "      <td>13.82</td>\n",
              "      <td>6.595</td>\n",
              "      <td>100</td>\n",
              "      <td>2473.978284</td>\n",
              "      <td>0</td>\n",
              "      <td>0.000</td>\n",
              "      <td>6</td>\n",
              "      <td>0.000</td>\n",
              "      <td>10039107.0</td>\n",
              "    </tr>\n",
              "    <tr>\n",
              "      <th>2928</th>\n",
              "      <td>2020-03-05</td>\n",
              "      <td>6037</td>\n",
              "      <td>Los Angeles County</td>\n",
              "      <td>4.0</td>\n",
              "      <td>7.0</td>\n",
              "      <td>9.0</td>\n",
              "      <td>0.0</td>\n",
              "      <td>2.0</td>\n",
              "      <td>0.0</td>\n",
              "      <td>22.17</td>\n",
              "      <td>7.008</td>\n",
              "      <td>106</td>\n",
              "      <td>2473.978284</td>\n",
              "      <td>0</td>\n",
              "      <td>0.000</td>\n",
              "      <td>4</td>\n",
              "      <td>0.000</td>\n",
              "      <td>10039107.0</td>\n",
              "    </tr>\n",
              "    <tr>\n",
              "      <th>...</th>\n",
              "      <td>...</td>\n",
              "      <td>...</td>\n",
              "      <td>...</td>\n",
              "      <td>...</td>\n",
              "      <td>...</td>\n",
              "      <td>...</td>\n",
              "      <td>...</td>\n",
              "      <td>...</td>\n",
              "      <td>...</td>\n",
              "      <td>...</td>\n",
              "      <td>...</td>\n",
              "      <td>...</td>\n",
              "      <td>...</td>\n",
              "      <td>...</td>\n",
              "      <td>...</td>\n",
              "      <td>...</td>\n",
              "      <td>...</td>\n",
              "      <td>...</td>\n",
              "    </tr>\n",
              "    <tr>\n",
              "      <th>3091</th>\n",
              "      <td>2020-08-17</td>\n",
              "      <td>6037</td>\n",
              "      <td>Los Angeles County</td>\n",
              "      <td>0.0</td>\n",
              "      <td>0.0</td>\n",
              "      <td>0.0</td>\n",
              "      <td>0.0</td>\n",
              "      <td>-42.0</td>\n",
              "      <td>13.0</td>\n",
              "      <td>1.14</td>\n",
              "      <td>1.472</td>\n",
              "      <td>22</td>\n",
              "      <td>2473.978284</td>\n",
              "      <td>1</td>\n",
              "      <td>0.786</td>\n",
              "      <td>1259</td>\n",
              "      <td>0.786</td>\n",
              "      <td>10039107.0</td>\n",
              "    </tr>\n",
              "    <tr>\n",
              "      <th>3092</th>\n",
              "      <td>2020-08-18</td>\n",
              "      <td>6037</td>\n",
              "      <td>Los Angeles County</td>\n",
              "      <td>0.0</td>\n",
              "      <td>0.0</td>\n",
              "      <td>0.0</td>\n",
              "      <td>0.0</td>\n",
              "      <td>-42.0</td>\n",
              "      <td>15.0</td>\n",
              "      <td>3.51</td>\n",
              "      <td>2.137</td>\n",
              "      <td>32</td>\n",
              "      <td>2473.978284</td>\n",
              "      <td>1</td>\n",
              "      <td>0.786</td>\n",
              "      <td>875</td>\n",
              "      <td>0.786</td>\n",
              "      <td>10039107.0</td>\n",
              "    </tr>\n",
              "    <tr>\n",
              "      <th>3093</th>\n",
              "      <td>2020-08-19</td>\n",
              "      <td>6037</td>\n",
              "      <td>Los Angeles County</td>\n",
              "      <td>0.0</td>\n",
              "      <td>0.0</td>\n",
              "      <td>0.0</td>\n",
              "      <td>0.0</td>\n",
              "      <td>-42.0</td>\n",
              "      <td>15.0</td>\n",
              "      <td>6.42</td>\n",
              "      <td>1.656</td>\n",
              "      <td>25</td>\n",
              "      <td>2473.978284</td>\n",
              "      <td>1</td>\n",
              "      <td>0.786</td>\n",
              "      <td>1722</td>\n",
              "      <td>0.786</td>\n",
              "      <td>10039107.0</td>\n",
              "    </tr>\n",
              "    <tr>\n",
              "      <th>3094</th>\n",
              "      <td>2020-08-20</td>\n",
              "      <td>6037</td>\n",
              "      <td>Los Angeles County</td>\n",
              "      <td>0.0</td>\n",
              "      <td>0.0</td>\n",
              "      <td>0.0</td>\n",
              "      <td>0.0</td>\n",
              "      <td>-42.0</td>\n",
              "      <td>15.0</td>\n",
              "      <td>8.13</td>\n",
              "      <td>2.227</td>\n",
              "      <td>33</td>\n",
              "      <td>2473.978284</td>\n",
              "      <td>1</td>\n",
              "      <td>0.786</td>\n",
              "      <td>1519</td>\n",
              "      <td>0.786</td>\n",
              "      <td>10039107.0</td>\n",
              "    </tr>\n",
              "    <tr>\n",
              "      <th>3095</th>\n",
              "      <td>2020-08-21</td>\n",
              "      <td>6037</td>\n",
              "      <td>Los Angeles County</td>\n",
              "      <td>0.0</td>\n",
              "      <td>0.0</td>\n",
              "      <td>0.0</td>\n",
              "      <td>0.0</td>\n",
              "      <td>-41.0</td>\n",
              "      <td>15.0</td>\n",
              "      <td>23.74</td>\n",
              "      <td>3.355</td>\n",
              "      <td>50</td>\n",
              "      <td>2473.978284</td>\n",
              "      <td>1</td>\n",
              "      <td>0.786</td>\n",
              "      <td>1708</td>\n",
              "      <td>0.786</td>\n",
              "      <td>10039107.0</td>\n",
              "    </tr>\n",
              "  </tbody>\n",
              "</table>\n",
              "<p>172 rows × 18 columns</p>\n",
              "</div>"
            ],
            "text/plain": [
              "            Date  fips_x  ... rolling_avg_new_cases  population\n",
              "2924  2020-03-01    6037  ...                 0.000  10039107.0\n",
              "2925  2020-03-02    6037  ...                 0.000  10039107.0\n",
              "2926  2020-03-03    6037  ...                 0.000  10039107.0\n",
              "2927  2020-03-04    6037  ...                 0.000  10039107.0\n",
              "2928  2020-03-05    6037  ...                 0.000  10039107.0\n",
              "...          ...     ...  ...                   ...         ...\n",
              "3091  2020-08-17    6037  ...                 0.786  10039107.0\n",
              "3092  2020-08-18    6037  ...                 0.786  10039107.0\n",
              "3093  2020-08-19    6037  ...                 0.786  10039107.0\n",
              "3094  2020-08-20    6037  ...                 0.786  10039107.0\n",
              "3095  2020-08-21    6037  ...                 0.786  10039107.0\n",
              "\n",
              "[172 rows x 18 columns]"
            ]
          },
          "metadata": {
            "tags": []
          },
          "execution_count": 126
        }
      ]
    },
    {
      "cell_type": "code",
      "metadata": {
        "id": "EFPKWovX-fM5",
        "outputId": "fa2451cd-c5d8-4f3a-b182-5b4145330a44",
        "colab": {
          "base_uri": "https://localhost:8080/",
          "height": 34
        }
      },
      "source": [
        "minDate = CA_combined_data['Date'].min()\n",
        "print(minDate)\n",
        "\n",
        "dateList = CA_combined_data['Date'].unique()"
      ],
      "execution_count": 127,
      "outputs": [
        {
          "output_type": "stream",
          "text": [
            "2020-03-01\n"
          ],
          "name": "stdout"
        }
      ]
    },
    {
      "cell_type": "code",
      "metadata": {
        "id": "tFwnKPlk7mAQ",
        "outputId": "5d7d0b7d-34cd-42ef-9ce8-42fefabe5119",
        "colab": {
          "base_uri": "https://localhost:8080/",
          "height": 34
        }
      },
      "source": [
        "import datetime\n",
        "\n",
        "#dt_object = datetime.fromtimestamp(date)\n",
        "day_name= ['Monday', 'Tuesday', 'Wednesday', 'Thursday', 'Friday', 'Saturday','Sunday']\n",
        "\n",
        "day = datetime.datetime.strptime(minDate, '%Y-%m-%d').weekday()\n",
        "if day == 6:\n",
        "  day =0\n",
        "elif day < 6:\n",
        "  day += 1\n",
        "\n",
        "print(day)"
      ],
      "execution_count": 128,
      "outputs": [
        {
          "output_type": "stream",
          "text": [
            "0\n"
          ],
          "name": "stdout"
        }
      ]
    },
    {
      "cell_type": "code",
      "metadata": {
        "id": "sXf9Zgbq7l2a",
        "outputId": "c7fd4c65-3c22-4772-c23a-14c2a5d3e8a0",
        "colab": {
          "base_uri": "https://localhost:8080/",
          "height": 235
        }
      },
      "source": [
        "index = 0\n",
        "count = 0\n",
        "lst = []\n",
        "while index < len(dateList):\n",
        "  row = []\n",
        "  j = 14 - day;\n",
        "  # print(index,j)\n",
        "  # print(dateList[index:index+j])\n",
        "  weekRange = dateList[index:index+j]\n",
        "  #print(weekRange)\n",
        "  index = index+j \n",
        "  day = 0\n",
        "  count +=1\n",
        "  row.append(count)\n",
        "  row.append(weekRange.min())\n",
        "  row.append(weekRange.max())\n",
        "  print(row)\n",
        "  lst.append(row)\n",
        "  \n"
      ],
      "execution_count": 129,
      "outputs": [
        {
          "output_type": "stream",
          "text": [
            "[1, '2020-03-01', '2020-03-14']\n",
            "[2, '2020-03-15', '2020-03-28']\n",
            "[3, '2020-03-29', '2020-04-11']\n",
            "[4, '2020-04-12', '2020-04-26']\n",
            "[5, '2020-04-27', '2020-05-10']\n",
            "[6, '2020-05-11', '2020-05-24']\n",
            "[7, '2020-05-25', '2020-06-08']\n",
            "[8, '2020-06-09', '2020-06-22']\n",
            "[9, '2020-06-23', '2020-07-06']\n",
            "[10, '2020-07-07', '2020-07-20']\n",
            "[11, '2020-07-21', '2020-08-03']\n",
            "[12, '2020-08-04', '2020-08-17']\n",
            "[13, '2020-08-18', '2020-08-21']\n"
          ],
          "name": "stdout"
        }
      ]
    },
    {
      "cell_type": "code",
      "metadata": {
        "id": "2_v44RrL_e4e",
        "outputId": "522bd926-e40d-455d-fb3a-d64f723bf6da",
        "colab": {
          "base_uri": "https://localhost:8080/",
          "height": 195
        }
      },
      "source": [
        "week_df = pd.DataFrame(lst,index=None,columns=['WeekNumber','startDate','endDate'])\n",
        "week_df.head()"
      ],
      "execution_count": 130,
      "outputs": [
        {
          "output_type": "execute_result",
          "data": {
            "text/html": [
              "<div>\n",
              "<style scoped>\n",
              "    .dataframe tbody tr th:only-of-type {\n",
              "        vertical-align: middle;\n",
              "    }\n",
              "\n",
              "    .dataframe tbody tr th {\n",
              "        vertical-align: top;\n",
              "    }\n",
              "\n",
              "    .dataframe thead th {\n",
              "        text-align: right;\n",
              "    }\n",
              "</style>\n",
              "<table border=\"1\" class=\"dataframe\">\n",
              "  <thead>\n",
              "    <tr style=\"text-align: right;\">\n",
              "      <th></th>\n",
              "      <th>WeekNumber</th>\n",
              "      <th>startDate</th>\n",
              "      <th>endDate</th>\n",
              "    </tr>\n",
              "  </thead>\n",
              "  <tbody>\n",
              "    <tr>\n",
              "      <th>0</th>\n",
              "      <td>1</td>\n",
              "      <td>2020-03-01</td>\n",
              "      <td>2020-03-14</td>\n",
              "    </tr>\n",
              "    <tr>\n",
              "      <th>1</th>\n",
              "      <td>2</td>\n",
              "      <td>2020-03-15</td>\n",
              "      <td>2020-03-28</td>\n",
              "    </tr>\n",
              "    <tr>\n",
              "      <th>2</th>\n",
              "      <td>3</td>\n",
              "      <td>2020-03-29</td>\n",
              "      <td>2020-04-11</td>\n",
              "    </tr>\n",
              "    <tr>\n",
              "      <th>3</th>\n",
              "      <td>4</td>\n",
              "      <td>2020-04-12</td>\n",
              "      <td>2020-04-26</td>\n",
              "    </tr>\n",
              "    <tr>\n",
              "      <th>4</th>\n",
              "      <td>5</td>\n",
              "      <td>2020-04-27</td>\n",
              "      <td>2020-05-10</td>\n",
              "    </tr>\n",
              "  </tbody>\n",
              "</table>\n",
              "</div>"
            ],
            "text/plain": [
              "   WeekNumber   startDate     endDate\n",
              "0           1  2020-03-01  2020-03-14\n",
              "1           2  2020-03-15  2020-03-28\n",
              "2           3  2020-03-29  2020-04-11\n",
              "3           4  2020-04-12  2020-04-26\n",
              "4           5  2020-04-27  2020-05-10"
            ]
          },
          "metadata": {
            "tags": []
          },
          "execution_count": 130
        }
      ]
    },
    {
      "cell_type": "markdown",
      "metadata": {
        "id": "Csz6g-NvBoBT"
      },
      "source": [
        "## Slice data for the week dataframe"
      ]
    },
    {
      "cell_type": "code",
      "metadata": {
        "id": "HhY1u2IVEzYm"
      },
      "source": [
        "\n",
        "average_newCases_df = pd.DataFrame(columns=['County Name',  'fips_x',  'average_per_week','startDate','endDate'])\n",
        "\n",
        "for index, row in week_df.iterrows():\n",
        "    startDate, endDate = row['startDate'], row['endDate']\n",
        "    df_index = (CA_combined_data['Date'] >= startDate) & (CA_combined_data['Date'] <= endDate)\n",
        "    df_weekData =  CA_combined_data.loc[df_index]\n",
        "    df_base = (\n",
        "      df_weekData\n",
        "      .pipe(lambda x: x.assign(gains_pctg=x[\"rolling_avg_new_cases\"]))\n",
        "      .groupby(['County Name','fips_x'])\n",
        "      .agg({\"gains_pctg\": \"mean\"})\n",
        "      .reset_index()\n",
        "      .rename(columns={\"gains_pctg\": \"average_per_week\"})\n",
        "    )\n",
        "    df_base['startDate'] = startDate\n",
        "    df_base['endDate'] = endDate\n",
        "  \n",
        "    #print(startDate,endDate,df_base['average_per_week'])\n",
        "    average_newCases_df = average_newCases_df.append(df_base)\n"
      ],
      "execution_count": 131,
      "outputs": []
    },
    {
      "cell_type": "code",
      "metadata": {
        "id": "RZrr8I3DNa_J",
        "outputId": "9b92fdf5-e22a-4ae3-90de-cc52b6bb78d6",
        "colab": {
          "base_uri": "https://localhost:8080/",
          "height": 34
        }
      },
      "source": [
        "average_newCases_df.shape"
      ],
      "execution_count": 132,
      "outputs": [
        {
          "output_type": "execute_result",
          "data": {
            "text/plain": [
              "(701, 5)"
            ]
          },
          "metadata": {
            "tags": []
          },
          "execution_count": 132
        }
      ]
    },
    {
      "cell_type": "code",
      "metadata": {
        "id": "Gxc7bIt_xQpF",
        "outputId": "9115da9d-a977-42c2-a6e4-7409aa4e0501",
        "colab": {
          "base_uri": "https://localhost:8080/",
          "height": 432
        }
      },
      "source": [
        "average_newCases_df[average_newCases_df['fips_x'] == 6037]"
      ],
      "execution_count": 133,
      "outputs": [
        {
          "output_type": "execute_result",
          "data": {
            "text/html": [
              "<div>\n",
              "<style scoped>\n",
              "    .dataframe tbody tr th:only-of-type {\n",
              "        vertical-align: middle;\n",
              "    }\n",
              "\n",
              "    .dataframe tbody tr th {\n",
              "        vertical-align: top;\n",
              "    }\n",
              "\n",
              "    .dataframe thead th {\n",
              "        text-align: right;\n",
              "    }\n",
              "</style>\n",
              "<table border=\"1\" class=\"dataframe\">\n",
              "  <thead>\n",
              "    <tr style=\"text-align: right;\">\n",
              "      <th></th>\n",
              "      <th>County Name</th>\n",
              "      <th>fips_x</th>\n",
              "      <th>average_per_week</th>\n",
              "      <th>startDate</th>\n",
              "      <th>endDate</th>\n",
              "    </tr>\n",
              "  </thead>\n",
              "  <tbody>\n",
              "    <tr>\n",
              "      <th>17</th>\n",
              "      <td>Los Angeles County</td>\n",
              "      <td>6037</td>\n",
              "      <td>0.000000</td>\n",
              "      <td>2020-03-01</td>\n",
              "      <td>2020-03-14</td>\n",
              "    </tr>\n",
              "    <tr>\n",
              "      <th>17</th>\n",
              "      <td>Los Angeles County</td>\n",
              "      <td>6037</td>\n",
              "      <td>0.000000</td>\n",
              "      <td>2020-03-15</td>\n",
              "      <td>2020-03-28</td>\n",
              "    </tr>\n",
              "    <tr>\n",
              "      <th>17</th>\n",
              "      <td>Los Angeles County</td>\n",
              "      <td>6037</td>\n",
              "      <td>0.000000</td>\n",
              "      <td>2020-03-29</td>\n",
              "      <td>2020-04-11</td>\n",
              "    </tr>\n",
              "    <tr>\n",
              "      <th>17</th>\n",
              "      <td>Los Angeles County</td>\n",
              "      <td>6037</td>\n",
              "      <td>0.000000</td>\n",
              "      <td>2020-04-12</td>\n",
              "      <td>2020-04-26</td>\n",
              "    </tr>\n",
              "    <tr>\n",
              "      <th>17</th>\n",
              "      <td>Los Angeles County</td>\n",
              "      <td>6037</td>\n",
              "      <td>0.000000</td>\n",
              "      <td>2020-04-27</td>\n",
              "      <td>2020-05-10</td>\n",
              "    </tr>\n",
              "    <tr>\n",
              "      <th>17</th>\n",
              "      <td>Los Angeles County</td>\n",
              "      <td>6037</td>\n",
              "      <td>0.000000</td>\n",
              "      <td>2020-05-11</td>\n",
              "      <td>2020-05-24</td>\n",
              "    </tr>\n",
              "    <tr>\n",
              "      <th>17</th>\n",
              "      <td>Los Angeles County</td>\n",
              "      <td>6037</td>\n",
              "      <td>0.000000</td>\n",
              "      <td>2020-05-25</td>\n",
              "      <td>2020-06-08</td>\n",
              "    </tr>\n",
              "    <tr>\n",
              "      <th>17</th>\n",
              "      <td>Los Angeles County</td>\n",
              "      <td>6037</td>\n",
              "      <td>0.120306</td>\n",
              "      <td>2020-06-09</td>\n",
              "      <td>2020-06-22</td>\n",
              "    </tr>\n",
              "    <tr>\n",
              "      <th>17</th>\n",
              "      <td>Los Angeles County</td>\n",
              "      <td>6037</td>\n",
              "      <td>0.777980</td>\n",
              "      <td>2020-06-23</td>\n",
              "      <td>2020-07-06</td>\n",
              "    </tr>\n",
              "    <tr>\n",
              "      <th>17</th>\n",
              "      <td>Los Angeles County</td>\n",
              "      <td>6037</td>\n",
              "      <td>0.786000</td>\n",
              "      <td>2020-07-07</td>\n",
              "      <td>2020-07-20</td>\n",
              "    </tr>\n",
              "    <tr>\n",
              "      <th>17</th>\n",
              "      <td>Los Angeles County</td>\n",
              "      <td>6037</td>\n",
              "      <td>0.786000</td>\n",
              "      <td>2020-07-21</td>\n",
              "      <td>2020-08-03</td>\n",
              "    </tr>\n",
              "    <tr>\n",
              "      <th>17</th>\n",
              "      <td>Los Angeles County</td>\n",
              "      <td>6037</td>\n",
              "      <td>0.786000</td>\n",
              "      <td>2020-08-04</td>\n",
              "      <td>2020-08-17</td>\n",
              "    </tr>\n",
              "    <tr>\n",
              "      <th>17</th>\n",
              "      <td>Los Angeles County</td>\n",
              "      <td>6037</td>\n",
              "      <td>0.786000</td>\n",
              "      <td>2020-08-18</td>\n",
              "      <td>2020-08-21</td>\n",
              "    </tr>\n",
              "  </tbody>\n",
              "</table>\n",
              "</div>"
            ],
            "text/plain": [
              "           County Name fips_x  average_per_week   startDate     endDate\n",
              "17  Los Angeles County   6037          0.000000  2020-03-01  2020-03-14\n",
              "17  Los Angeles County   6037          0.000000  2020-03-15  2020-03-28\n",
              "17  Los Angeles County   6037          0.000000  2020-03-29  2020-04-11\n",
              "17  Los Angeles County   6037          0.000000  2020-04-12  2020-04-26\n",
              "17  Los Angeles County   6037          0.000000  2020-04-27  2020-05-10\n",
              "17  Los Angeles County   6037          0.000000  2020-05-11  2020-05-24\n",
              "17  Los Angeles County   6037          0.000000  2020-05-25  2020-06-08\n",
              "17  Los Angeles County   6037          0.120306  2020-06-09  2020-06-22\n",
              "17  Los Angeles County   6037          0.777980  2020-06-23  2020-07-06\n",
              "17  Los Angeles County   6037          0.786000  2020-07-07  2020-07-20\n",
              "17  Los Angeles County   6037          0.786000  2020-07-21  2020-08-03\n",
              "17  Los Angeles County   6037          0.786000  2020-08-04  2020-08-17\n",
              "17  Los Angeles County   6037          0.786000  2020-08-18  2020-08-21"
            ]
          },
          "metadata": {
            "tags": []
          },
          "execution_count": 133
        }
      ]
    },
    {
      "cell_type": "markdown",
      "metadata": {
        "id": "CgXxxD4vNsE9"
      },
      "source": [
        "## Verifying average per week data Eg., Los Angeles County"
      ]
    },
    {
      "cell_type": "code",
      "metadata": {
        "id": "3NdJAIRzNvt8",
        "outputId": "368e6625-0641-456b-e4d6-7c7bd39ece2e",
        "colab": {
          "base_uri": "https://localhost:8080/",
          "height": 269
        }
      },
      "source": [
        "los_angeles_county[(los_angeles_county['Date'] >= '2020-03-01') & (los_angeles_county['Date'] <= '2020-03-14') ]['rolling_avg_new_cases']\n",
        "\n"
      ],
      "execution_count": 134,
      "outputs": [
        {
          "output_type": "execute_result",
          "data": {
            "text/plain": [
              "2924    0.0\n",
              "2925    0.0\n",
              "2926    0.0\n",
              "2927    0.0\n",
              "2928    0.0\n",
              "2929    0.0\n",
              "2930    0.0\n",
              "2931    0.0\n",
              "2932    0.0\n",
              "2933    0.0\n",
              "2934    0.0\n",
              "2935    0.0\n",
              "2936    0.0\n",
              "2937    0.0\n",
              "Name: rolling_avg_new_cases, dtype: float64"
            ]
          },
          "metadata": {
            "tags": []
          },
          "execution_count": 134
        }
      ]
    },
    {
      "cell_type": "code",
      "metadata": {
        "id": "quHotP0Istvk",
        "outputId": "541585e7-80f8-4361-e76e-f8995a7d5c02",
        "colab": {
          "base_uri": "https://localhost:8080/",
          "height": 343
        }
      },
      "source": [
        "average_newCases_df.head(10)"
      ],
      "execution_count": 135,
      "outputs": [
        {
          "output_type": "execute_result",
          "data": {
            "text/html": [
              "<div>\n",
              "<style scoped>\n",
              "    .dataframe tbody tr th:only-of-type {\n",
              "        vertical-align: middle;\n",
              "    }\n",
              "\n",
              "    .dataframe tbody tr th {\n",
              "        vertical-align: top;\n",
              "    }\n",
              "\n",
              "    .dataframe thead th {\n",
              "        text-align: right;\n",
              "    }\n",
              "</style>\n",
              "<table border=\"1\" class=\"dataframe\">\n",
              "  <thead>\n",
              "    <tr style=\"text-align: right;\">\n",
              "      <th></th>\n",
              "      <th>County Name</th>\n",
              "      <th>fips_x</th>\n",
              "      <th>average_per_week</th>\n",
              "      <th>startDate</th>\n",
              "      <th>endDate</th>\n",
              "    </tr>\n",
              "  </thead>\n",
              "  <tbody>\n",
              "    <tr>\n",
              "      <th>0</th>\n",
              "      <td>Alameda County</td>\n",
              "      <td>6001</td>\n",
              "      <td>0.0</td>\n",
              "      <td>2020-03-01</td>\n",
              "      <td>2020-03-14</td>\n",
              "    </tr>\n",
              "    <tr>\n",
              "      <th>1</th>\n",
              "      <td>Amador County</td>\n",
              "      <td>6005</td>\n",
              "      <td>0.0</td>\n",
              "      <td>2020-03-01</td>\n",
              "      <td>2020-03-14</td>\n",
              "    </tr>\n",
              "    <tr>\n",
              "      <th>2</th>\n",
              "      <td>Butte County</td>\n",
              "      <td>6007</td>\n",
              "      <td>0.0</td>\n",
              "      <td>2020-03-01</td>\n",
              "      <td>2020-03-14</td>\n",
              "    </tr>\n",
              "    <tr>\n",
              "      <th>3</th>\n",
              "      <td>Calaveras County</td>\n",
              "      <td>6009</td>\n",
              "      <td>0.0</td>\n",
              "      <td>2020-03-01</td>\n",
              "      <td>2020-03-14</td>\n",
              "    </tr>\n",
              "    <tr>\n",
              "      <th>4</th>\n",
              "      <td>Colusa County</td>\n",
              "      <td>6011</td>\n",
              "      <td>0.0</td>\n",
              "      <td>2020-03-01</td>\n",
              "      <td>2020-03-14</td>\n",
              "    </tr>\n",
              "    <tr>\n",
              "      <th>5</th>\n",
              "      <td>Contra Costa County</td>\n",
              "      <td>6013</td>\n",
              "      <td>0.0</td>\n",
              "      <td>2020-03-01</td>\n",
              "      <td>2020-03-14</td>\n",
              "    </tr>\n",
              "    <tr>\n",
              "      <th>6</th>\n",
              "      <td>Del Norte County</td>\n",
              "      <td>6015</td>\n",
              "      <td>0.0</td>\n",
              "      <td>2020-03-01</td>\n",
              "      <td>2020-03-14</td>\n",
              "    </tr>\n",
              "    <tr>\n",
              "      <th>7</th>\n",
              "      <td>El Dorado County</td>\n",
              "      <td>6017</td>\n",
              "      <td>0.0</td>\n",
              "      <td>2020-03-01</td>\n",
              "      <td>2020-03-14</td>\n",
              "    </tr>\n",
              "    <tr>\n",
              "      <th>8</th>\n",
              "      <td>Fresno County</td>\n",
              "      <td>6019</td>\n",
              "      <td>0.0</td>\n",
              "      <td>2020-03-01</td>\n",
              "      <td>2020-03-14</td>\n",
              "    </tr>\n",
              "    <tr>\n",
              "      <th>9</th>\n",
              "      <td>Glenn County</td>\n",
              "      <td>6021</td>\n",
              "      <td>0.0</td>\n",
              "      <td>2020-03-01</td>\n",
              "      <td>2020-03-14</td>\n",
              "    </tr>\n",
              "  </tbody>\n",
              "</table>\n",
              "</div>"
            ],
            "text/plain": [
              "           County Name fips_x  average_per_week   startDate     endDate\n",
              "0       Alameda County   6001               0.0  2020-03-01  2020-03-14\n",
              "1        Amador County   6005               0.0  2020-03-01  2020-03-14\n",
              "2         Butte County   6007               0.0  2020-03-01  2020-03-14\n",
              "3     Calaveras County   6009               0.0  2020-03-01  2020-03-14\n",
              "4        Colusa County   6011               0.0  2020-03-01  2020-03-14\n",
              "5  Contra Costa County   6013               0.0  2020-03-01  2020-03-14\n",
              "6     Del Norte County   6015               0.0  2020-03-01  2020-03-14\n",
              "7     El Dorado County   6017               0.0  2020-03-01  2020-03-14\n",
              "8        Fresno County   6019               0.0  2020-03-01  2020-03-14\n",
              "9         Glenn County   6021               0.0  2020-03-01  2020-03-14"
            ]
          },
          "metadata": {
            "tags": []
          },
          "execution_count": 135
        }
      ]
    },
    {
      "cell_type": "markdown",
      "metadata": {
        "id": "GCBzR7f8tYEt"
      },
      "source": [
        "## Finding the % growth or reduction in 'new cases' on every 2 week average"
      ]
    },
    {
      "cell_type": "code",
      "metadata": {
        "id": "STaI0DIctu5o"
      },
      "source": [
        "average_newCases_df_ = average_newCases_df.copy()"
      ],
      "execution_count": 136,
      "outputs": []
    },
    {
      "cell_type": "code",
      "metadata": {
        "id": "b7LycDlnOYhs",
        "outputId": "32c9efcf-7247-437b-aa48-e48e131a21f0",
        "colab": {
          "base_uri": "https://localhost:8080/",
          "height": 432
        }
      },
      "source": [
        "albany_avg_newCases = average_newCases_df[average_newCases_df['County Name'] == 'Los Angeles County']\n",
        "albany_avg_newCases"
      ],
      "execution_count": 137,
      "outputs": [
        {
          "output_type": "execute_result",
          "data": {
            "text/html": [
              "<div>\n",
              "<style scoped>\n",
              "    .dataframe tbody tr th:only-of-type {\n",
              "        vertical-align: middle;\n",
              "    }\n",
              "\n",
              "    .dataframe tbody tr th {\n",
              "        vertical-align: top;\n",
              "    }\n",
              "\n",
              "    .dataframe thead th {\n",
              "        text-align: right;\n",
              "    }\n",
              "</style>\n",
              "<table border=\"1\" class=\"dataframe\">\n",
              "  <thead>\n",
              "    <tr style=\"text-align: right;\">\n",
              "      <th></th>\n",
              "      <th>County Name</th>\n",
              "      <th>fips_x</th>\n",
              "      <th>average_per_week</th>\n",
              "      <th>startDate</th>\n",
              "      <th>endDate</th>\n",
              "    </tr>\n",
              "  </thead>\n",
              "  <tbody>\n",
              "    <tr>\n",
              "      <th>17</th>\n",
              "      <td>Los Angeles County</td>\n",
              "      <td>6037</td>\n",
              "      <td>0.000000</td>\n",
              "      <td>2020-03-01</td>\n",
              "      <td>2020-03-14</td>\n",
              "    </tr>\n",
              "    <tr>\n",
              "      <th>17</th>\n",
              "      <td>Los Angeles County</td>\n",
              "      <td>6037</td>\n",
              "      <td>0.000000</td>\n",
              "      <td>2020-03-15</td>\n",
              "      <td>2020-03-28</td>\n",
              "    </tr>\n",
              "    <tr>\n",
              "      <th>17</th>\n",
              "      <td>Los Angeles County</td>\n",
              "      <td>6037</td>\n",
              "      <td>0.000000</td>\n",
              "      <td>2020-03-29</td>\n",
              "      <td>2020-04-11</td>\n",
              "    </tr>\n",
              "    <tr>\n",
              "      <th>17</th>\n",
              "      <td>Los Angeles County</td>\n",
              "      <td>6037</td>\n",
              "      <td>0.000000</td>\n",
              "      <td>2020-04-12</td>\n",
              "      <td>2020-04-26</td>\n",
              "    </tr>\n",
              "    <tr>\n",
              "      <th>17</th>\n",
              "      <td>Los Angeles County</td>\n",
              "      <td>6037</td>\n",
              "      <td>0.000000</td>\n",
              "      <td>2020-04-27</td>\n",
              "      <td>2020-05-10</td>\n",
              "    </tr>\n",
              "    <tr>\n",
              "      <th>17</th>\n",
              "      <td>Los Angeles County</td>\n",
              "      <td>6037</td>\n",
              "      <td>0.000000</td>\n",
              "      <td>2020-05-11</td>\n",
              "      <td>2020-05-24</td>\n",
              "    </tr>\n",
              "    <tr>\n",
              "      <th>17</th>\n",
              "      <td>Los Angeles County</td>\n",
              "      <td>6037</td>\n",
              "      <td>0.000000</td>\n",
              "      <td>2020-05-25</td>\n",
              "      <td>2020-06-08</td>\n",
              "    </tr>\n",
              "    <tr>\n",
              "      <th>17</th>\n",
              "      <td>Los Angeles County</td>\n",
              "      <td>6037</td>\n",
              "      <td>0.120306</td>\n",
              "      <td>2020-06-09</td>\n",
              "      <td>2020-06-22</td>\n",
              "    </tr>\n",
              "    <tr>\n",
              "      <th>17</th>\n",
              "      <td>Los Angeles County</td>\n",
              "      <td>6037</td>\n",
              "      <td>0.777980</td>\n",
              "      <td>2020-06-23</td>\n",
              "      <td>2020-07-06</td>\n",
              "    </tr>\n",
              "    <tr>\n",
              "      <th>17</th>\n",
              "      <td>Los Angeles County</td>\n",
              "      <td>6037</td>\n",
              "      <td>0.786000</td>\n",
              "      <td>2020-07-07</td>\n",
              "      <td>2020-07-20</td>\n",
              "    </tr>\n",
              "    <tr>\n",
              "      <th>17</th>\n",
              "      <td>Los Angeles County</td>\n",
              "      <td>6037</td>\n",
              "      <td>0.786000</td>\n",
              "      <td>2020-07-21</td>\n",
              "      <td>2020-08-03</td>\n",
              "    </tr>\n",
              "    <tr>\n",
              "      <th>17</th>\n",
              "      <td>Los Angeles County</td>\n",
              "      <td>6037</td>\n",
              "      <td>0.786000</td>\n",
              "      <td>2020-08-04</td>\n",
              "      <td>2020-08-17</td>\n",
              "    </tr>\n",
              "    <tr>\n",
              "      <th>17</th>\n",
              "      <td>Los Angeles County</td>\n",
              "      <td>6037</td>\n",
              "      <td>0.786000</td>\n",
              "      <td>2020-08-18</td>\n",
              "      <td>2020-08-21</td>\n",
              "    </tr>\n",
              "  </tbody>\n",
              "</table>\n",
              "</div>"
            ],
            "text/plain": [
              "           County Name fips_x  average_per_week   startDate     endDate\n",
              "17  Los Angeles County   6037          0.000000  2020-03-01  2020-03-14\n",
              "17  Los Angeles County   6037          0.000000  2020-03-15  2020-03-28\n",
              "17  Los Angeles County   6037          0.000000  2020-03-29  2020-04-11\n",
              "17  Los Angeles County   6037          0.000000  2020-04-12  2020-04-26\n",
              "17  Los Angeles County   6037          0.000000  2020-04-27  2020-05-10\n",
              "17  Los Angeles County   6037          0.000000  2020-05-11  2020-05-24\n",
              "17  Los Angeles County   6037          0.000000  2020-05-25  2020-06-08\n",
              "17  Los Angeles County   6037          0.120306  2020-06-09  2020-06-22\n",
              "17  Los Angeles County   6037          0.777980  2020-06-23  2020-07-06\n",
              "17  Los Angeles County   6037          0.786000  2020-07-07  2020-07-20\n",
              "17  Los Angeles County   6037          0.786000  2020-07-21  2020-08-03\n",
              "17  Los Angeles County   6037          0.786000  2020-08-04  2020-08-17\n",
              "17  Los Angeles County   6037          0.786000  2020-08-18  2020-08-21"
            ]
          },
          "metadata": {
            "tags": []
          },
          "execution_count": 137
        }
      ]
    },
    {
      "cell_type": "code",
      "metadata": {
        "id": "28sIpvLbtYbY"
      },
      "source": [
        "# average_newCases_df = average_newCases_df.sort_values(by=['startDate','endDate'])\n",
        "\n",
        "# print(average_newCases_df.shape)\n",
        "# temp = average_newCases_df.groupby(['County Name','fips_x','startDate','endDate'])['average_per_week']\n",
        "# temp = temp.sum().diff().reset_index()\n",
        "# print(\"-------------\")\n",
        "# print(temp)\n",
        "# print(temp.shape)\n",
        "\n",
        "# average_newCases_df2 = average_newCases_df.merge(temp,on=['County Name','fips_x','startDate','endDate'])\n",
        "# print(average_newCases_df2.shape)"
      ],
      "execution_count": 138,
      "outputs": []
    },
    {
      "cell_type": "code",
      "metadata": {
        "id": "xZEGXxJeDas1",
        "outputId": "dabee0c1-359b-4afb-8b0f-43f3ebbb5e95",
        "colab": {
          "base_uri": "https://localhost:8080/",
          "height": 195
        }
      },
      "source": [
        "average_newCases_df.head()"
      ],
      "execution_count": 139,
      "outputs": [
        {
          "output_type": "execute_result",
          "data": {
            "text/html": [
              "<div>\n",
              "<style scoped>\n",
              "    .dataframe tbody tr th:only-of-type {\n",
              "        vertical-align: middle;\n",
              "    }\n",
              "\n",
              "    .dataframe tbody tr th {\n",
              "        vertical-align: top;\n",
              "    }\n",
              "\n",
              "    .dataframe thead th {\n",
              "        text-align: right;\n",
              "    }\n",
              "</style>\n",
              "<table border=\"1\" class=\"dataframe\">\n",
              "  <thead>\n",
              "    <tr style=\"text-align: right;\">\n",
              "      <th></th>\n",
              "      <th>County Name</th>\n",
              "      <th>fips_x</th>\n",
              "      <th>average_per_week</th>\n",
              "      <th>startDate</th>\n",
              "      <th>endDate</th>\n",
              "    </tr>\n",
              "  </thead>\n",
              "  <tbody>\n",
              "    <tr>\n",
              "      <th>0</th>\n",
              "      <td>Alameda County</td>\n",
              "      <td>6001</td>\n",
              "      <td>0.0</td>\n",
              "      <td>2020-03-01</td>\n",
              "      <td>2020-03-14</td>\n",
              "    </tr>\n",
              "    <tr>\n",
              "      <th>1</th>\n",
              "      <td>Amador County</td>\n",
              "      <td>6005</td>\n",
              "      <td>0.0</td>\n",
              "      <td>2020-03-01</td>\n",
              "      <td>2020-03-14</td>\n",
              "    </tr>\n",
              "    <tr>\n",
              "      <th>2</th>\n",
              "      <td>Butte County</td>\n",
              "      <td>6007</td>\n",
              "      <td>0.0</td>\n",
              "      <td>2020-03-01</td>\n",
              "      <td>2020-03-14</td>\n",
              "    </tr>\n",
              "    <tr>\n",
              "      <th>3</th>\n",
              "      <td>Calaveras County</td>\n",
              "      <td>6009</td>\n",
              "      <td>0.0</td>\n",
              "      <td>2020-03-01</td>\n",
              "      <td>2020-03-14</td>\n",
              "    </tr>\n",
              "    <tr>\n",
              "      <th>4</th>\n",
              "      <td>Colusa County</td>\n",
              "      <td>6011</td>\n",
              "      <td>0.0</td>\n",
              "      <td>2020-03-01</td>\n",
              "      <td>2020-03-14</td>\n",
              "    </tr>\n",
              "  </tbody>\n",
              "</table>\n",
              "</div>"
            ],
            "text/plain": [
              "        County Name fips_x  average_per_week   startDate     endDate\n",
              "0    Alameda County   6001               0.0  2020-03-01  2020-03-14\n",
              "1     Amador County   6005               0.0  2020-03-01  2020-03-14\n",
              "2      Butte County   6007               0.0  2020-03-01  2020-03-14\n",
              "3  Calaveras County   6009               0.0  2020-03-01  2020-03-14\n",
              "4     Colusa County   6011               0.0  2020-03-01  2020-03-14"
            ]
          },
          "metadata": {
            "tags": []
          },
          "execution_count": 139
        }
      ]
    },
    {
      "cell_type": "code",
      "metadata": {
        "id": "3NnvBzuWEG2q"
      },
      "source": [
        "# average_newCases_df = average_newCases_df.sort_values(by=['startDate','endDate'])\n",
        "\n",
        "# print(average_newCases_df.shape)\n",
        "# temp = average_newCases_df.groupby(['County Name','fips_x','startDate','endDate'])['average_per_week']\n",
        "# temp = temp.sum().diff().reset_index()\n",
        "# print(\"-------------\")\n",
        "# print(temp)\n",
        "# print(temp.shape)\n",
        "\n",
        "# average_newCases_df2 = average_newCases_df.merge(temp,on=['County Name','fips_x','startDate','endDate'])\n",
        "# print(average_newCases_df2.shape)"
      ],
      "execution_count": 140,
      "outputs": []
    },
    {
      "cell_type": "code",
      "metadata": {
        "id": "8FRbXmBoHlCM",
        "outputId": "cdca6cd0-7383-462e-d55f-5b9cd46d8586",
        "colab": {
          "base_uri": "https://localhost:8080/",
          "height": 195
        }
      },
      "source": [
        "average_newCases_df2 = average_newCases_df.copy()\n",
        "\n",
        "average_newCases_df2 = average_newCases_df2.reset_index(drop=True)\n",
        "average_newCases_df2.head()"
      ],
      "execution_count": 141,
      "outputs": [
        {
          "output_type": "execute_result",
          "data": {
            "text/html": [
              "<div>\n",
              "<style scoped>\n",
              "    .dataframe tbody tr th:only-of-type {\n",
              "        vertical-align: middle;\n",
              "    }\n",
              "\n",
              "    .dataframe tbody tr th {\n",
              "        vertical-align: top;\n",
              "    }\n",
              "\n",
              "    .dataframe thead th {\n",
              "        text-align: right;\n",
              "    }\n",
              "</style>\n",
              "<table border=\"1\" class=\"dataframe\">\n",
              "  <thead>\n",
              "    <tr style=\"text-align: right;\">\n",
              "      <th></th>\n",
              "      <th>County Name</th>\n",
              "      <th>fips_x</th>\n",
              "      <th>average_per_week</th>\n",
              "      <th>startDate</th>\n",
              "      <th>endDate</th>\n",
              "    </tr>\n",
              "  </thead>\n",
              "  <tbody>\n",
              "    <tr>\n",
              "      <th>0</th>\n",
              "      <td>Alameda County</td>\n",
              "      <td>6001</td>\n",
              "      <td>0.0</td>\n",
              "      <td>2020-03-01</td>\n",
              "      <td>2020-03-14</td>\n",
              "    </tr>\n",
              "    <tr>\n",
              "      <th>1</th>\n",
              "      <td>Amador County</td>\n",
              "      <td>6005</td>\n",
              "      <td>0.0</td>\n",
              "      <td>2020-03-01</td>\n",
              "      <td>2020-03-14</td>\n",
              "    </tr>\n",
              "    <tr>\n",
              "      <th>2</th>\n",
              "      <td>Butte County</td>\n",
              "      <td>6007</td>\n",
              "      <td>0.0</td>\n",
              "      <td>2020-03-01</td>\n",
              "      <td>2020-03-14</td>\n",
              "    </tr>\n",
              "    <tr>\n",
              "      <th>3</th>\n",
              "      <td>Calaveras County</td>\n",
              "      <td>6009</td>\n",
              "      <td>0.0</td>\n",
              "      <td>2020-03-01</td>\n",
              "      <td>2020-03-14</td>\n",
              "    </tr>\n",
              "    <tr>\n",
              "      <th>4</th>\n",
              "      <td>Colusa County</td>\n",
              "      <td>6011</td>\n",
              "      <td>0.0</td>\n",
              "      <td>2020-03-01</td>\n",
              "      <td>2020-03-14</td>\n",
              "    </tr>\n",
              "  </tbody>\n",
              "</table>\n",
              "</div>"
            ],
            "text/plain": [
              "        County Name fips_x  average_per_week   startDate     endDate\n",
              "0    Alameda County   6001               0.0  2020-03-01  2020-03-14\n",
              "1     Amador County   6005               0.0  2020-03-01  2020-03-14\n",
              "2      Butte County   6007               0.0  2020-03-01  2020-03-14\n",
              "3  Calaveras County   6009               0.0  2020-03-01  2020-03-14\n",
              "4     Colusa County   6011               0.0  2020-03-01  2020-03-14"
            ]
          },
          "metadata": {
            "tags": []
          },
          "execution_count": 141
        }
      ]
    },
    {
      "cell_type": "code",
      "metadata": {
        "id": "rmPztsYYDSKJ",
        "outputId": "767084bf-db5c-4245-f62e-808b48966330",
        "colab": {
          "base_uri": "https://localhost:8080/",
          "height": 212
        }
      },
      "source": [
        "average_newCases_df2['diff_avg_x'] = average_newCases_df2.sort_values(['startDate','endDate']).groupby(['County Name', 'fips_x'])['average_per_week'].diff().fillna(0)\n",
        "\n",
        "print(average_newCases_df2.shape)\n",
        "average_newCases_df2.head()\n"
      ],
      "execution_count": 142,
      "outputs": [
        {
          "output_type": "stream",
          "text": [
            "(701, 6)\n"
          ],
          "name": "stdout"
        },
        {
          "output_type": "execute_result",
          "data": {
            "text/html": [
              "<div>\n",
              "<style scoped>\n",
              "    .dataframe tbody tr th:only-of-type {\n",
              "        vertical-align: middle;\n",
              "    }\n",
              "\n",
              "    .dataframe tbody tr th {\n",
              "        vertical-align: top;\n",
              "    }\n",
              "\n",
              "    .dataframe thead th {\n",
              "        text-align: right;\n",
              "    }\n",
              "</style>\n",
              "<table border=\"1\" class=\"dataframe\">\n",
              "  <thead>\n",
              "    <tr style=\"text-align: right;\">\n",
              "      <th></th>\n",
              "      <th>County Name</th>\n",
              "      <th>fips_x</th>\n",
              "      <th>average_per_week</th>\n",
              "      <th>startDate</th>\n",
              "      <th>endDate</th>\n",
              "      <th>diff_avg_x</th>\n",
              "    </tr>\n",
              "  </thead>\n",
              "  <tbody>\n",
              "    <tr>\n",
              "      <th>0</th>\n",
              "      <td>Alameda County</td>\n",
              "      <td>6001</td>\n",
              "      <td>0.0</td>\n",
              "      <td>2020-03-01</td>\n",
              "      <td>2020-03-14</td>\n",
              "      <td>0.0</td>\n",
              "    </tr>\n",
              "    <tr>\n",
              "      <th>1</th>\n",
              "      <td>Amador County</td>\n",
              "      <td>6005</td>\n",
              "      <td>0.0</td>\n",
              "      <td>2020-03-01</td>\n",
              "      <td>2020-03-14</td>\n",
              "      <td>0.0</td>\n",
              "    </tr>\n",
              "    <tr>\n",
              "      <th>2</th>\n",
              "      <td>Butte County</td>\n",
              "      <td>6007</td>\n",
              "      <td>0.0</td>\n",
              "      <td>2020-03-01</td>\n",
              "      <td>2020-03-14</td>\n",
              "      <td>0.0</td>\n",
              "    </tr>\n",
              "    <tr>\n",
              "      <th>3</th>\n",
              "      <td>Calaveras County</td>\n",
              "      <td>6009</td>\n",
              "      <td>0.0</td>\n",
              "      <td>2020-03-01</td>\n",
              "      <td>2020-03-14</td>\n",
              "      <td>0.0</td>\n",
              "    </tr>\n",
              "    <tr>\n",
              "      <th>4</th>\n",
              "      <td>Colusa County</td>\n",
              "      <td>6011</td>\n",
              "      <td>0.0</td>\n",
              "      <td>2020-03-01</td>\n",
              "      <td>2020-03-14</td>\n",
              "      <td>0.0</td>\n",
              "    </tr>\n",
              "  </tbody>\n",
              "</table>\n",
              "</div>"
            ],
            "text/plain": [
              "        County Name fips_x  ...     endDate diff_avg_x\n",
              "0    Alameda County   6001  ...  2020-03-14        0.0\n",
              "1     Amador County   6005  ...  2020-03-14        0.0\n",
              "2      Butte County   6007  ...  2020-03-14        0.0\n",
              "3  Calaveras County   6009  ...  2020-03-14        0.0\n",
              "4     Colusa County   6011  ...  2020-03-14        0.0\n",
              "\n",
              "[5 rows x 6 columns]"
            ]
          },
          "metadata": {
            "tags": []
          },
          "execution_count": 142
        }
      ]
    },
    {
      "cell_type": "code",
      "metadata": {
        "id": "klc9CwxhHXIn",
        "outputId": "95374542-d4a0-419f-87c1-43c656f8f529",
        "colab": {
          "base_uri": "https://localhost:8080/",
          "height": 432
        }
      },
      "source": [
        "average_newCases_df2[average_newCases_df2['County Name'] == 'Santa Clara County']"
      ],
      "execution_count": 143,
      "outputs": [
        {
          "output_type": "execute_result",
          "data": {
            "text/html": [
              "<div>\n",
              "<style scoped>\n",
              "    .dataframe tbody tr th:only-of-type {\n",
              "        vertical-align: middle;\n",
              "    }\n",
              "\n",
              "    .dataframe tbody tr th {\n",
              "        vertical-align: top;\n",
              "    }\n",
              "\n",
              "    .dataframe thead th {\n",
              "        text-align: right;\n",
              "    }\n",
              "</style>\n",
              "<table border=\"1\" class=\"dataframe\">\n",
              "  <thead>\n",
              "    <tr style=\"text-align: right;\">\n",
              "      <th></th>\n",
              "      <th>County Name</th>\n",
              "      <th>fips_x</th>\n",
              "      <th>average_per_week</th>\n",
              "      <th>startDate</th>\n",
              "      <th>endDate</th>\n",
              "      <th>diff_avg_x</th>\n",
              "    </tr>\n",
              "  </thead>\n",
              "  <tbody>\n",
              "    <tr>\n",
              "      <th>40</th>\n",
              "      <td>Santa Clara County</td>\n",
              "      <td>6085</td>\n",
              "      <td>0.000000</td>\n",
              "      <td>2020-03-01</td>\n",
              "      <td>2020-03-14</td>\n",
              "      <td>0.000000e+00</td>\n",
              "    </tr>\n",
              "    <tr>\n",
              "      <th>94</th>\n",
              "      <td>Santa Clara County</td>\n",
              "      <td>6085</td>\n",
              "      <td>0.000000</td>\n",
              "      <td>2020-03-15</td>\n",
              "      <td>2020-03-28</td>\n",
              "      <td>0.000000e+00</td>\n",
              "    </tr>\n",
              "    <tr>\n",
              "      <th>147</th>\n",
              "      <td>Santa Clara County</td>\n",
              "      <td>6085</td>\n",
              "      <td>0.000000</td>\n",
              "      <td>2020-03-29</td>\n",
              "      <td>2020-04-11</td>\n",
              "      <td>0.000000e+00</td>\n",
              "    </tr>\n",
              "    <tr>\n",
              "      <th>201</th>\n",
              "      <td>Santa Clara County</td>\n",
              "      <td>6085</td>\n",
              "      <td>0.000000</td>\n",
              "      <td>2020-04-12</td>\n",
              "      <td>2020-04-26</td>\n",
              "      <td>0.000000e+00</td>\n",
              "    </tr>\n",
              "    <tr>\n",
              "      <th>255</th>\n",
              "      <td>Santa Clara County</td>\n",
              "      <td>6085</td>\n",
              "      <td>0.000000</td>\n",
              "      <td>2020-04-27</td>\n",
              "      <td>2020-05-10</td>\n",
              "      <td>0.000000e+00</td>\n",
              "    </tr>\n",
              "    <tr>\n",
              "      <th>309</th>\n",
              "      <td>Santa Clara County</td>\n",
              "      <td>6085</td>\n",
              "      <td>0.000000</td>\n",
              "      <td>2020-05-11</td>\n",
              "      <td>2020-05-24</td>\n",
              "      <td>0.000000e+00</td>\n",
              "    </tr>\n",
              "    <tr>\n",
              "      <th>363</th>\n",
              "      <td>Santa Clara County</td>\n",
              "      <td>6085</td>\n",
              "      <td>0.000000</td>\n",
              "      <td>2020-05-25</td>\n",
              "      <td>2020-06-08</td>\n",
              "      <td>0.000000e+00</td>\n",
              "    </tr>\n",
              "    <tr>\n",
              "      <th>417</th>\n",
              "      <td>Santa Clara County</td>\n",
              "      <td>6085</td>\n",
              "      <td>0.116939</td>\n",
              "      <td>2020-06-09</td>\n",
              "      <td>2020-06-22</td>\n",
              "      <td>1.169388e-01</td>\n",
              "    </tr>\n",
              "    <tr>\n",
              "      <th>471</th>\n",
              "      <td>Santa Clara County</td>\n",
              "      <td>6085</td>\n",
              "      <td>0.756204</td>\n",
              "      <td>2020-06-23</td>\n",
              "      <td>2020-07-06</td>\n",
              "      <td>6.392653e-01</td>\n",
              "    </tr>\n",
              "    <tr>\n",
              "      <th>525</th>\n",
              "      <td>Santa Clara County</td>\n",
              "      <td>6085</td>\n",
              "      <td>0.764000</td>\n",
              "      <td>2020-07-07</td>\n",
              "      <td>2020-07-20</td>\n",
              "      <td>7.795918e-03</td>\n",
              "    </tr>\n",
              "    <tr>\n",
              "      <th>579</th>\n",
              "      <td>Santa Clara County</td>\n",
              "      <td>6085</td>\n",
              "      <td>0.764000</td>\n",
              "      <td>2020-07-21</td>\n",
              "      <td>2020-08-03</td>\n",
              "      <td>0.000000e+00</td>\n",
              "    </tr>\n",
              "    <tr>\n",
              "      <th>633</th>\n",
              "      <td>Santa Clara County</td>\n",
              "      <td>6085</td>\n",
              "      <td>0.764000</td>\n",
              "      <td>2020-08-04</td>\n",
              "      <td>2020-08-17</td>\n",
              "      <td>0.000000e+00</td>\n",
              "    </tr>\n",
              "    <tr>\n",
              "      <th>687</th>\n",
              "      <td>Santa Clara County</td>\n",
              "      <td>6085</td>\n",
              "      <td>0.764000</td>\n",
              "      <td>2020-08-18</td>\n",
              "      <td>2020-08-21</td>\n",
              "      <td>1.110223e-16</td>\n",
              "    </tr>\n",
              "  </tbody>\n",
              "</table>\n",
              "</div>"
            ],
            "text/plain": [
              "            County Name fips_x  ...     endDate    diff_avg_x\n",
              "40   Santa Clara County   6085  ...  2020-03-14  0.000000e+00\n",
              "94   Santa Clara County   6085  ...  2020-03-28  0.000000e+00\n",
              "147  Santa Clara County   6085  ...  2020-04-11  0.000000e+00\n",
              "201  Santa Clara County   6085  ...  2020-04-26  0.000000e+00\n",
              "255  Santa Clara County   6085  ...  2020-05-10  0.000000e+00\n",
              "309  Santa Clara County   6085  ...  2020-05-24  0.000000e+00\n",
              "363  Santa Clara County   6085  ...  2020-06-08  0.000000e+00\n",
              "417  Santa Clara County   6085  ...  2020-06-22  1.169388e-01\n",
              "471  Santa Clara County   6085  ...  2020-07-06  6.392653e-01\n",
              "525  Santa Clara County   6085  ...  2020-07-20  7.795918e-03\n",
              "579  Santa Clara County   6085  ...  2020-08-03  0.000000e+00\n",
              "633  Santa Clara County   6085  ...  2020-08-17  0.000000e+00\n",
              "687  Santa Clara County   6085  ...  2020-08-21  1.110223e-16\n",
              "\n",
              "[13 rows x 6 columns]"
            ]
          },
          "metadata": {
            "tags": []
          },
          "execution_count": 143
        }
      ]
    },
    {
      "cell_type": "code",
      "metadata": {
        "id": "VENF-VRSOpBY",
        "outputId": "d8dfa82d-cbdf-447e-d141-131dd38b6c68",
        "colab": {
          "base_uri": "https://localhost:8080/",
          "height": 432
        }
      },
      "source": [
        "average_newCases_df2[average_newCases_df2['County Name'] == 'Alameda County']"
      ],
      "execution_count": 144,
      "outputs": [
        {
          "output_type": "execute_result",
          "data": {
            "text/html": [
              "<div>\n",
              "<style scoped>\n",
              "    .dataframe tbody tr th:only-of-type {\n",
              "        vertical-align: middle;\n",
              "    }\n",
              "\n",
              "    .dataframe tbody tr th {\n",
              "        vertical-align: top;\n",
              "    }\n",
              "\n",
              "    .dataframe thead th {\n",
              "        text-align: right;\n",
              "    }\n",
              "</style>\n",
              "<table border=\"1\" class=\"dataframe\">\n",
              "  <thead>\n",
              "    <tr style=\"text-align: right;\">\n",
              "      <th></th>\n",
              "      <th>County Name</th>\n",
              "      <th>fips_x</th>\n",
              "      <th>average_per_week</th>\n",
              "      <th>startDate</th>\n",
              "      <th>endDate</th>\n",
              "      <th>diff_avg_x</th>\n",
              "    </tr>\n",
              "  </thead>\n",
              "  <tbody>\n",
              "    <tr>\n",
              "      <th>0</th>\n",
              "      <td>Alameda County</td>\n",
              "      <td>6001</td>\n",
              "      <td>0.000000</td>\n",
              "      <td>2020-03-01</td>\n",
              "      <td>2020-03-14</td>\n",
              "      <td>0.000000</td>\n",
              "    </tr>\n",
              "    <tr>\n",
              "      <th>54</th>\n",
              "      <td>Alameda County</td>\n",
              "      <td>6001</td>\n",
              "      <td>0.000000</td>\n",
              "      <td>2020-03-15</td>\n",
              "      <td>2020-03-28</td>\n",
              "      <td>0.000000</td>\n",
              "    </tr>\n",
              "    <tr>\n",
              "      <th>108</th>\n",
              "      <td>Alameda County</td>\n",
              "      <td>6001</td>\n",
              "      <td>0.000000</td>\n",
              "      <td>2020-03-29</td>\n",
              "      <td>2020-04-11</td>\n",
              "      <td>0.000000</td>\n",
              "    </tr>\n",
              "    <tr>\n",
              "      <th>161</th>\n",
              "      <td>Alameda County</td>\n",
              "      <td>6001</td>\n",
              "      <td>0.000000</td>\n",
              "      <td>2020-04-12</td>\n",
              "      <td>2020-04-26</td>\n",
              "      <td>0.000000</td>\n",
              "    </tr>\n",
              "    <tr>\n",
              "      <th>215</th>\n",
              "      <td>Alameda County</td>\n",
              "      <td>6001</td>\n",
              "      <td>0.000000</td>\n",
              "      <td>2020-04-27</td>\n",
              "      <td>2020-05-10</td>\n",
              "      <td>0.000000</td>\n",
              "    </tr>\n",
              "    <tr>\n",
              "      <th>269</th>\n",
              "      <td>Alameda County</td>\n",
              "      <td>6001</td>\n",
              "      <td>0.000000</td>\n",
              "      <td>2020-05-11</td>\n",
              "      <td>2020-05-24</td>\n",
              "      <td>0.000000</td>\n",
              "    </tr>\n",
              "    <tr>\n",
              "      <th>323</th>\n",
              "      <td>Alameda County</td>\n",
              "      <td>6001</td>\n",
              "      <td>0.000000</td>\n",
              "      <td>2020-05-25</td>\n",
              "      <td>2020-06-08</td>\n",
              "      <td>0.000000</td>\n",
              "    </tr>\n",
              "    <tr>\n",
              "      <th>377</th>\n",
              "      <td>Alameda County</td>\n",
              "      <td>6001</td>\n",
              "      <td>0.121684</td>\n",
              "      <td>2020-06-09</td>\n",
              "      <td>2020-06-22</td>\n",
              "      <td>0.121684</td>\n",
              "    </tr>\n",
              "    <tr>\n",
              "      <th>431</th>\n",
              "      <td>Alameda County</td>\n",
              "      <td>6001</td>\n",
              "      <td>0.786888</td>\n",
              "      <td>2020-06-23</td>\n",
              "      <td>2020-07-06</td>\n",
              "      <td>0.665204</td>\n",
              "    </tr>\n",
              "    <tr>\n",
              "      <th>485</th>\n",
              "      <td>Alameda County</td>\n",
              "      <td>6001</td>\n",
              "      <td>0.795000</td>\n",
              "      <td>2020-07-07</td>\n",
              "      <td>2020-07-20</td>\n",
              "      <td>0.008112</td>\n",
              "    </tr>\n",
              "    <tr>\n",
              "      <th>539</th>\n",
              "      <td>Alameda County</td>\n",
              "      <td>6001</td>\n",
              "      <td>0.795000</td>\n",
              "      <td>2020-07-21</td>\n",
              "      <td>2020-08-03</td>\n",
              "      <td>0.000000</td>\n",
              "    </tr>\n",
              "    <tr>\n",
              "      <th>593</th>\n",
              "      <td>Alameda County</td>\n",
              "      <td>6001</td>\n",
              "      <td>0.795000</td>\n",
              "      <td>2020-08-04</td>\n",
              "      <td>2020-08-17</td>\n",
              "      <td>0.000000</td>\n",
              "    </tr>\n",
              "    <tr>\n",
              "      <th>647</th>\n",
              "      <td>Alameda County</td>\n",
              "      <td>6001</td>\n",
              "      <td>0.795000</td>\n",
              "      <td>2020-08-18</td>\n",
              "      <td>2020-08-21</td>\n",
              "      <td>0.000000</td>\n",
              "    </tr>\n",
              "  </tbody>\n",
              "</table>\n",
              "</div>"
            ],
            "text/plain": [
              "        County Name fips_x  ...     endDate diff_avg_x\n",
              "0    Alameda County   6001  ...  2020-03-14   0.000000\n",
              "54   Alameda County   6001  ...  2020-03-28   0.000000\n",
              "108  Alameda County   6001  ...  2020-04-11   0.000000\n",
              "161  Alameda County   6001  ...  2020-04-26   0.000000\n",
              "215  Alameda County   6001  ...  2020-05-10   0.000000\n",
              "269  Alameda County   6001  ...  2020-05-24   0.000000\n",
              "323  Alameda County   6001  ...  2020-06-08   0.000000\n",
              "377  Alameda County   6001  ...  2020-06-22   0.121684\n",
              "431  Alameda County   6001  ...  2020-07-06   0.665204\n",
              "485  Alameda County   6001  ...  2020-07-20   0.008112\n",
              "539  Alameda County   6001  ...  2020-08-03   0.000000\n",
              "593  Alameda County   6001  ...  2020-08-17   0.000000\n",
              "647  Alameda County   6001  ...  2020-08-21   0.000000\n",
              "\n",
              "[13 rows x 6 columns]"
            ]
          },
          "metadata": {
            "tags": []
          },
          "execution_count": 144
        }
      ]
    },
    {
      "cell_type": "code",
      "metadata": {
        "id": "a0OWsIoDxbrS",
        "outputId": "3315a33e-1456-470e-de42-746ff82d3828",
        "colab": {
          "base_uri": "https://localhost:8080/",
          "height": 195
        }
      },
      "source": [
        "average_newCases_df2[average_newCases_df2['fips_x'] == 6037].head(5)"
      ],
      "execution_count": 145,
      "outputs": [
        {
          "output_type": "execute_result",
          "data": {
            "text/html": [
              "<div>\n",
              "<style scoped>\n",
              "    .dataframe tbody tr th:only-of-type {\n",
              "        vertical-align: middle;\n",
              "    }\n",
              "\n",
              "    .dataframe tbody tr th {\n",
              "        vertical-align: top;\n",
              "    }\n",
              "\n",
              "    .dataframe thead th {\n",
              "        text-align: right;\n",
              "    }\n",
              "</style>\n",
              "<table border=\"1\" class=\"dataframe\">\n",
              "  <thead>\n",
              "    <tr style=\"text-align: right;\">\n",
              "      <th></th>\n",
              "      <th>County Name</th>\n",
              "      <th>fips_x</th>\n",
              "      <th>average_per_week</th>\n",
              "      <th>startDate</th>\n",
              "      <th>endDate</th>\n",
              "      <th>diff_avg_x</th>\n",
              "    </tr>\n",
              "  </thead>\n",
              "  <tbody>\n",
              "    <tr>\n",
              "      <th>17</th>\n",
              "      <td>Los Angeles County</td>\n",
              "      <td>6037</td>\n",
              "      <td>0.0</td>\n",
              "      <td>2020-03-01</td>\n",
              "      <td>2020-03-14</td>\n",
              "      <td>0.0</td>\n",
              "    </tr>\n",
              "    <tr>\n",
              "      <th>71</th>\n",
              "      <td>Los Angeles County</td>\n",
              "      <td>6037</td>\n",
              "      <td>0.0</td>\n",
              "      <td>2020-03-15</td>\n",
              "      <td>2020-03-28</td>\n",
              "      <td>0.0</td>\n",
              "    </tr>\n",
              "    <tr>\n",
              "      <th>125</th>\n",
              "      <td>Los Angeles County</td>\n",
              "      <td>6037</td>\n",
              "      <td>0.0</td>\n",
              "      <td>2020-03-29</td>\n",
              "      <td>2020-04-11</td>\n",
              "      <td>0.0</td>\n",
              "    </tr>\n",
              "    <tr>\n",
              "      <th>178</th>\n",
              "      <td>Los Angeles County</td>\n",
              "      <td>6037</td>\n",
              "      <td>0.0</td>\n",
              "      <td>2020-04-12</td>\n",
              "      <td>2020-04-26</td>\n",
              "      <td>0.0</td>\n",
              "    </tr>\n",
              "    <tr>\n",
              "      <th>232</th>\n",
              "      <td>Los Angeles County</td>\n",
              "      <td>6037</td>\n",
              "      <td>0.0</td>\n",
              "      <td>2020-04-27</td>\n",
              "      <td>2020-05-10</td>\n",
              "      <td>0.0</td>\n",
              "    </tr>\n",
              "  </tbody>\n",
              "</table>\n",
              "</div>"
            ],
            "text/plain": [
              "            County Name fips_x  ...     endDate diff_avg_x\n",
              "17   Los Angeles County   6037  ...  2020-03-14        0.0\n",
              "71   Los Angeles County   6037  ...  2020-03-28        0.0\n",
              "125  Los Angeles County   6037  ...  2020-04-11        0.0\n",
              "178  Los Angeles County   6037  ...  2020-04-26        0.0\n",
              "232  Los Angeles County   6037  ...  2020-05-10        0.0\n",
              "\n",
              "[5 rows x 6 columns]"
            ]
          },
          "metadata": {
            "tags": []
          },
          "execution_count": 145
        }
      ]
    },
    {
      "cell_type": "code",
      "metadata": {
        "id": "BGjjdDVzv0iB",
        "outputId": "841beada-d0cf-45d5-9624-96585d1252ff",
        "colab": {
          "base_uri": "https://localhost:8080/",
          "height": 195
        }
      },
      "source": [
        "average_newCases_df2.head()"
      ],
      "execution_count": 146,
      "outputs": [
        {
          "output_type": "execute_result",
          "data": {
            "text/html": [
              "<div>\n",
              "<style scoped>\n",
              "    .dataframe tbody tr th:only-of-type {\n",
              "        vertical-align: middle;\n",
              "    }\n",
              "\n",
              "    .dataframe tbody tr th {\n",
              "        vertical-align: top;\n",
              "    }\n",
              "\n",
              "    .dataframe thead th {\n",
              "        text-align: right;\n",
              "    }\n",
              "</style>\n",
              "<table border=\"1\" class=\"dataframe\">\n",
              "  <thead>\n",
              "    <tr style=\"text-align: right;\">\n",
              "      <th></th>\n",
              "      <th>County Name</th>\n",
              "      <th>fips_x</th>\n",
              "      <th>average_per_week</th>\n",
              "      <th>startDate</th>\n",
              "      <th>endDate</th>\n",
              "      <th>diff_avg_x</th>\n",
              "    </tr>\n",
              "  </thead>\n",
              "  <tbody>\n",
              "    <tr>\n",
              "      <th>0</th>\n",
              "      <td>Alameda County</td>\n",
              "      <td>6001</td>\n",
              "      <td>0.0</td>\n",
              "      <td>2020-03-01</td>\n",
              "      <td>2020-03-14</td>\n",
              "      <td>0.0</td>\n",
              "    </tr>\n",
              "    <tr>\n",
              "      <th>1</th>\n",
              "      <td>Amador County</td>\n",
              "      <td>6005</td>\n",
              "      <td>0.0</td>\n",
              "      <td>2020-03-01</td>\n",
              "      <td>2020-03-14</td>\n",
              "      <td>0.0</td>\n",
              "    </tr>\n",
              "    <tr>\n",
              "      <th>2</th>\n",
              "      <td>Butte County</td>\n",
              "      <td>6007</td>\n",
              "      <td>0.0</td>\n",
              "      <td>2020-03-01</td>\n",
              "      <td>2020-03-14</td>\n",
              "      <td>0.0</td>\n",
              "    </tr>\n",
              "    <tr>\n",
              "      <th>3</th>\n",
              "      <td>Calaveras County</td>\n",
              "      <td>6009</td>\n",
              "      <td>0.0</td>\n",
              "      <td>2020-03-01</td>\n",
              "      <td>2020-03-14</td>\n",
              "      <td>0.0</td>\n",
              "    </tr>\n",
              "    <tr>\n",
              "      <th>4</th>\n",
              "      <td>Colusa County</td>\n",
              "      <td>6011</td>\n",
              "      <td>0.0</td>\n",
              "      <td>2020-03-01</td>\n",
              "      <td>2020-03-14</td>\n",
              "      <td>0.0</td>\n",
              "    </tr>\n",
              "  </tbody>\n",
              "</table>\n",
              "</div>"
            ],
            "text/plain": [
              "        County Name fips_x  ...     endDate diff_avg_x\n",
              "0    Alameda County   6001  ...  2020-03-14        0.0\n",
              "1     Amador County   6005  ...  2020-03-14        0.0\n",
              "2      Butte County   6007  ...  2020-03-14        0.0\n",
              "3  Calaveras County   6009  ...  2020-03-14        0.0\n",
              "4     Colusa County   6011  ...  2020-03-14        0.0\n",
              "\n",
              "[5 rows x 6 columns]"
            ]
          },
          "metadata": {
            "tags": []
          },
          "execution_count": 146
        }
      ]
    },
    {
      "cell_type": "code",
      "metadata": {
        "id": "CBmjNsOOv4Bc"
      },
      "source": [
        "average_newCases_df2 = average_newCases_df2.fillna(0)"
      ],
      "execution_count": 147,
      "outputs": []
    },
    {
      "cell_type": "code",
      "metadata": {
        "id": "p2QGJ-s3v6-f",
        "outputId": "684b7009-67e6-4098-c38e-60029c0f8467",
        "colab": {
          "base_uri": "https://localhost:8080/",
          "height": 195
        }
      },
      "source": [
        "average_newCases_df2.head()"
      ],
      "execution_count": 148,
      "outputs": [
        {
          "output_type": "execute_result",
          "data": {
            "text/html": [
              "<div>\n",
              "<style scoped>\n",
              "    .dataframe tbody tr th:only-of-type {\n",
              "        vertical-align: middle;\n",
              "    }\n",
              "\n",
              "    .dataframe tbody tr th {\n",
              "        vertical-align: top;\n",
              "    }\n",
              "\n",
              "    .dataframe thead th {\n",
              "        text-align: right;\n",
              "    }\n",
              "</style>\n",
              "<table border=\"1\" class=\"dataframe\">\n",
              "  <thead>\n",
              "    <tr style=\"text-align: right;\">\n",
              "      <th></th>\n",
              "      <th>County Name</th>\n",
              "      <th>fips_x</th>\n",
              "      <th>average_per_week</th>\n",
              "      <th>startDate</th>\n",
              "      <th>endDate</th>\n",
              "      <th>diff_avg_x</th>\n",
              "    </tr>\n",
              "  </thead>\n",
              "  <tbody>\n",
              "    <tr>\n",
              "      <th>0</th>\n",
              "      <td>Alameda County</td>\n",
              "      <td>6001</td>\n",
              "      <td>0.0</td>\n",
              "      <td>2020-03-01</td>\n",
              "      <td>2020-03-14</td>\n",
              "      <td>0.0</td>\n",
              "    </tr>\n",
              "    <tr>\n",
              "      <th>1</th>\n",
              "      <td>Amador County</td>\n",
              "      <td>6005</td>\n",
              "      <td>0.0</td>\n",
              "      <td>2020-03-01</td>\n",
              "      <td>2020-03-14</td>\n",
              "      <td>0.0</td>\n",
              "    </tr>\n",
              "    <tr>\n",
              "      <th>2</th>\n",
              "      <td>Butte County</td>\n",
              "      <td>6007</td>\n",
              "      <td>0.0</td>\n",
              "      <td>2020-03-01</td>\n",
              "      <td>2020-03-14</td>\n",
              "      <td>0.0</td>\n",
              "    </tr>\n",
              "    <tr>\n",
              "      <th>3</th>\n",
              "      <td>Calaveras County</td>\n",
              "      <td>6009</td>\n",
              "      <td>0.0</td>\n",
              "      <td>2020-03-01</td>\n",
              "      <td>2020-03-14</td>\n",
              "      <td>0.0</td>\n",
              "    </tr>\n",
              "    <tr>\n",
              "      <th>4</th>\n",
              "      <td>Colusa County</td>\n",
              "      <td>6011</td>\n",
              "      <td>0.0</td>\n",
              "      <td>2020-03-01</td>\n",
              "      <td>2020-03-14</td>\n",
              "      <td>0.0</td>\n",
              "    </tr>\n",
              "  </tbody>\n",
              "</table>\n",
              "</div>"
            ],
            "text/plain": [
              "        County Name  fips_x  ...     endDate diff_avg_x\n",
              "0    Alameda County    6001  ...  2020-03-14        0.0\n",
              "1     Amador County    6005  ...  2020-03-14        0.0\n",
              "2      Butte County    6007  ...  2020-03-14        0.0\n",
              "3  Calaveras County    6009  ...  2020-03-14        0.0\n",
              "4     Colusa County    6011  ...  2020-03-14        0.0\n",
              "\n",
              "[5 rows x 6 columns]"
            ]
          },
          "metadata": {
            "tags": []
          },
          "execution_count": 148
        }
      ]
    },
    {
      "cell_type": "code",
      "metadata": {
        "id": "KomHadrGYd01"
      },
      "source": [
        "#not working\n",
        "#average_newCases_df2['pct_change_newcases'] = average_newCases_df2.sort_values(['startDate','endDate']).groupby(['County Name', 'fips_x','startDate','endDate']).average_per_week_y.pct_change()"
      ],
      "execution_count": 149,
      "outputs": []
    },
    {
      "cell_type": "markdown",
      "metadata": {
        "id": "SAgjy14mkQ5h"
      },
      "source": [
        "Shifting average_per_week_x\t column value for formula. Means previous row's value will be come to the current row."
      ]
    },
    {
      "cell_type": "code",
      "metadata": {
        "id": "qTS6lOxegQVH"
      },
      "source": [
        "average_newCases_df2['shift_avg_x'] = average_newCases_df2.sort_values(['startDate','endDate']).groupby(['County Name', 'fips_x'])['average_per_week'].shift()"
      ],
      "execution_count": 150,
      "outputs": []
    },
    {
      "cell_type": "code",
      "metadata": {
        "id": "i8Tk5tMCZlDY",
        "outputId": "eba49eeb-0412-498b-cc3d-befbdcf051a7",
        "colab": {
          "base_uri": "https://localhost:8080/",
          "height": 431
        }
      },
      "source": [
        "average_newCases_df2.groupby(by=['County Name', 'fips_x','startDate','endDate']).sum()"
      ],
      "execution_count": 151,
      "outputs": [
        {
          "output_type": "execute_result",
          "data": {
            "text/html": [
              "<div>\n",
              "<style scoped>\n",
              "    .dataframe tbody tr th:only-of-type {\n",
              "        vertical-align: middle;\n",
              "    }\n",
              "\n",
              "    .dataframe tbody tr th {\n",
              "        vertical-align: top;\n",
              "    }\n",
              "\n",
              "    .dataframe thead th {\n",
              "        text-align: right;\n",
              "    }\n",
              "</style>\n",
              "<table border=\"1\" class=\"dataframe\">\n",
              "  <thead>\n",
              "    <tr style=\"text-align: right;\">\n",
              "      <th></th>\n",
              "      <th></th>\n",
              "      <th></th>\n",
              "      <th></th>\n",
              "      <th>average_per_week</th>\n",
              "      <th>diff_avg_x</th>\n",
              "      <th>shift_avg_x</th>\n",
              "    </tr>\n",
              "    <tr>\n",
              "      <th>County Name</th>\n",
              "      <th>fips_x</th>\n",
              "      <th>startDate</th>\n",
              "      <th>endDate</th>\n",
              "      <th></th>\n",
              "      <th></th>\n",
              "      <th></th>\n",
              "    </tr>\n",
              "  </thead>\n",
              "  <tbody>\n",
              "    <tr>\n",
              "      <th rowspan=\"5\" valign=\"top\">Alameda County</th>\n",
              "      <th rowspan=\"5\" valign=\"top\">6001</th>\n",
              "      <th>2020-03-01</th>\n",
              "      <th>2020-03-14</th>\n",
              "      <td>0.000000</td>\n",
              "      <td>0.000000e+00</td>\n",
              "      <td>0.000000</td>\n",
              "    </tr>\n",
              "    <tr>\n",
              "      <th>2020-03-15</th>\n",
              "      <th>2020-03-28</th>\n",
              "      <td>0.000000</td>\n",
              "      <td>0.000000e+00</td>\n",
              "      <td>0.000000</td>\n",
              "    </tr>\n",
              "    <tr>\n",
              "      <th>2020-03-29</th>\n",
              "      <th>2020-04-11</th>\n",
              "      <td>0.000000</td>\n",
              "      <td>0.000000e+00</td>\n",
              "      <td>0.000000</td>\n",
              "    </tr>\n",
              "    <tr>\n",
              "      <th>2020-04-12</th>\n",
              "      <th>2020-04-26</th>\n",
              "      <td>0.000000</td>\n",
              "      <td>0.000000e+00</td>\n",
              "      <td>0.000000</td>\n",
              "    </tr>\n",
              "    <tr>\n",
              "      <th>2020-04-27</th>\n",
              "      <th>2020-05-10</th>\n",
              "      <td>0.000000</td>\n",
              "      <td>0.000000e+00</td>\n",
              "      <td>0.000000</td>\n",
              "    </tr>\n",
              "    <tr>\n",
              "      <th>...</th>\n",
              "      <th>...</th>\n",
              "      <th>...</th>\n",
              "      <th>...</th>\n",
              "      <td>...</td>\n",
              "      <td>...</td>\n",
              "      <td>...</td>\n",
              "    </tr>\n",
              "    <tr>\n",
              "      <th rowspan=\"5\" valign=\"top\">Yuba County</th>\n",
              "      <th rowspan=\"5\" valign=\"top\">6115</th>\n",
              "      <th>2020-06-23</th>\n",
              "      <th>2020-07-06</th>\n",
              "      <td>0.662173</td>\n",
              "      <td>5.597755e-01</td>\n",
              "      <td>0.102398</td>\n",
              "    </tr>\n",
              "    <tr>\n",
              "      <th>2020-07-07</th>\n",
              "      <th>2020-07-20</th>\n",
              "      <td>0.669000</td>\n",
              "      <td>6.826531e-03</td>\n",
              "      <td>0.662173</td>\n",
              "    </tr>\n",
              "    <tr>\n",
              "      <th>2020-07-21</th>\n",
              "      <th>2020-08-03</th>\n",
              "      <td>0.669000</td>\n",
              "      <td>0.000000e+00</td>\n",
              "      <td>0.669000</td>\n",
              "    </tr>\n",
              "    <tr>\n",
              "      <th>2020-08-04</th>\n",
              "      <th>2020-08-17</th>\n",
              "      <td>0.669000</td>\n",
              "      <td>0.000000e+00</td>\n",
              "      <td>0.669000</td>\n",
              "    </tr>\n",
              "    <tr>\n",
              "      <th>2020-08-18</th>\n",
              "      <th>2020-08-21</th>\n",
              "      <td>0.669000</td>\n",
              "      <td>1.110223e-16</td>\n",
              "      <td>0.669000</td>\n",
              "    </tr>\n",
              "  </tbody>\n",
              "</table>\n",
              "<p>701 rows × 3 columns</p>\n",
              "</div>"
            ],
            "text/plain": [
              "                                             average_per_week  ...  shift_avg_x\n",
              "County Name    fips_x startDate  endDate                       ...             \n",
              "Alameda County 6001   2020-03-01 2020-03-14          0.000000  ...     0.000000\n",
              "                      2020-03-15 2020-03-28          0.000000  ...     0.000000\n",
              "                      2020-03-29 2020-04-11          0.000000  ...     0.000000\n",
              "                      2020-04-12 2020-04-26          0.000000  ...     0.000000\n",
              "                      2020-04-27 2020-05-10          0.000000  ...     0.000000\n",
              "...                                                       ...  ...          ...\n",
              "Yuba County    6115   2020-06-23 2020-07-06          0.662173  ...     0.102398\n",
              "                      2020-07-07 2020-07-20          0.669000  ...     0.662173\n",
              "                      2020-07-21 2020-08-03          0.669000  ...     0.669000\n",
              "                      2020-08-04 2020-08-17          0.669000  ...     0.669000\n",
              "                      2020-08-18 2020-08-21          0.669000  ...     0.669000\n",
              "\n",
              "[701 rows x 3 columns]"
            ]
          },
          "metadata": {
            "tags": []
          },
          "execution_count": 151
        }
      ]
    },
    {
      "cell_type": "code",
      "metadata": {
        "id": "NyE08elJ_WzM",
        "outputId": "451ea969-9378-4503-a2f5-5c3b754e3e7e",
        "colab": {
          "base_uri": "https://localhost:8080/",
          "height": 432
        }
      },
      "source": [
        "average_newCases_df2[average_newCases_df2['County Name'] == 'Los Angeles County']"
      ],
      "execution_count": 152,
      "outputs": [
        {
          "output_type": "execute_result",
          "data": {
            "text/html": [
              "<div>\n",
              "<style scoped>\n",
              "    .dataframe tbody tr th:only-of-type {\n",
              "        vertical-align: middle;\n",
              "    }\n",
              "\n",
              "    .dataframe tbody tr th {\n",
              "        vertical-align: top;\n",
              "    }\n",
              "\n",
              "    .dataframe thead th {\n",
              "        text-align: right;\n",
              "    }\n",
              "</style>\n",
              "<table border=\"1\" class=\"dataframe\">\n",
              "  <thead>\n",
              "    <tr style=\"text-align: right;\">\n",
              "      <th></th>\n",
              "      <th>County Name</th>\n",
              "      <th>fips_x</th>\n",
              "      <th>average_per_week</th>\n",
              "      <th>startDate</th>\n",
              "      <th>endDate</th>\n",
              "      <th>diff_avg_x</th>\n",
              "      <th>shift_avg_x</th>\n",
              "    </tr>\n",
              "  </thead>\n",
              "  <tbody>\n",
              "    <tr>\n",
              "      <th>17</th>\n",
              "      <td>Los Angeles County</td>\n",
              "      <td>6037</td>\n",
              "      <td>0.000000</td>\n",
              "      <td>2020-03-01</td>\n",
              "      <td>2020-03-14</td>\n",
              "      <td>0.000000e+00</td>\n",
              "      <td>NaN</td>\n",
              "    </tr>\n",
              "    <tr>\n",
              "      <th>71</th>\n",
              "      <td>Los Angeles County</td>\n",
              "      <td>6037</td>\n",
              "      <td>0.000000</td>\n",
              "      <td>2020-03-15</td>\n",
              "      <td>2020-03-28</td>\n",
              "      <td>0.000000e+00</td>\n",
              "      <td>0.000000</td>\n",
              "    </tr>\n",
              "    <tr>\n",
              "      <th>125</th>\n",
              "      <td>Los Angeles County</td>\n",
              "      <td>6037</td>\n",
              "      <td>0.000000</td>\n",
              "      <td>2020-03-29</td>\n",
              "      <td>2020-04-11</td>\n",
              "      <td>0.000000e+00</td>\n",
              "      <td>0.000000</td>\n",
              "    </tr>\n",
              "    <tr>\n",
              "      <th>178</th>\n",
              "      <td>Los Angeles County</td>\n",
              "      <td>6037</td>\n",
              "      <td>0.000000</td>\n",
              "      <td>2020-04-12</td>\n",
              "      <td>2020-04-26</td>\n",
              "      <td>0.000000e+00</td>\n",
              "      <td>0.000000</td>\n",
              "    </tr>\n",
              "    <tr>\n",
              "      <th>232</th>\n",
              "      <td>Los Angeles County</td>\n",
              "      <td>6037</td>\n",
              "      <td>0.000000</td>\n",
              "      <td>2020-04-27</td>\n",
              "      <td>2020-05-10</td>\n",
              "      <td>0.000000e+00</td>\n",
              "      <td>0.000000</td>\n",
              "    </tr>\n",
              "    <tr>\n",
              "      <th>286</th>\n",
              "      <td>Los Angeles County</td>\n",
              "      <td>6037</td>\n",
              "      <td>0.000000</td>\n",
              "      <td>2020-05-11</td>\n",
              "      <td>2020-05-24</td>\n",
              "      <td>0.000000e+00</td>\n",
              "      <td>0.000000</td>\n",
              "    </tr>\n",
              "    <tr>\n",
              "      <th>340</th>\n",
              "      <td>Los Angeles County</td>\n",
              "      <td>6037</td>\n",
              "      <td>0.000000</td>\n",
              "      <td>2020-05-25</td>\n",
              "      <td>2020-06-08</td>\n",
              "      <td>0.000000e+00</td>\n",
              "      <td>0.000000</td>\n",
              "    </tr>\n",
              "    <tr>\n",
              "      <th>394</th>\n",
              "      <td>Los Angeles County</td>\n",
              "      <td>6037</td>\n",
              "      <td>0.120306</td>\n",
              "      <td>2020-06-09</td>\n",
              "      <td>2020-06-22</td>\n",
              "      <td>1.203061e-01</td>\n",
              "      <td>0.000000</td>\n",
              "    </tr>\n",
              "    <tr>\n",
              "      <th>448</th>\n",
              "      <td>Los Angeles County</td>\n",
              "      <td>6037</td>\n",
              "      <td>0.777980</td>\n",
              "      <td>2020-06-23</td>\n",
              "      <td>2020-07-06</td>\n",
              "      <td>6.576735e-01</td>\n",
              "      <td>0.120306</td>\n",
              "    </tr>\n",
              "    <tr>\n",
              "      <th>502</th>\n",
              "      <td>Los Angeles County</td>\n",
              "      <td>6037</td>\n",
              "      <td>0.786000</td>\n",
              "      <td>2020-07-07</td>\n",
              "      <td>2020-07-20</td>\n",
              "      <td>8.020408e-03</td>\n",
              "      <td>0.777980</td>\n",
              "    </tr>\n",
              "    <tr>\n",
              "      <th>556</th>\n",
              "      <td>Los Angeles County</td>\n",
              "      <td>6037</td>\n",
              "      <td>0.786000</td>\n",
              "      <td>2020-07-21</td>\n",
              "      <td>2020-08-03</td>\n",
              "      <td>0.000000e+00</td>\n",
              "      <td>0.786000</td>\n",
              "    </tr>\n",
              "    <tr>\n",
              "      <th>610</th>\n",
              "      <td>Los Angeles County</td>\n",
              "      <td>6037</td>\n",
              "      <td>0.786000</td>\n",
              "      <td>2020-08-04</td>\n",
              "      <td>2020-08-17</td>\n",
              "      <td>0.000000e+00</td>\n",
              "      <td>0.786000</td>\n",
              "    </tr>\n",
              "    <tr>\n",
              "      <th>664</th>\n",
              "      <td>Los Angeles County</td>\n",
              "      <td>6037</td>\n",
              "      <td>0.786000</td>\n",
              "      <td>2020-08-18</td>\n",
              "      <td>2020-08-21</td>\n",
              "      <td>1.110223e-16</td>\n",
              "      <td>0.786000</td>\n",
              "    </tr>\n",
              "  </tbody>\n",
              "</table>\n",
              "</div>"
            ],
            "text/plain": [
              "            County Name  fips_x  ...    diff_avg_x shift_avg_x\n",
              "17   Los Angeles County    6037  ...  0.000000e+00         NaN\n",
              "71   Los Angeles County    6037  ...  0.000000e+00    0.000000\n",
              "125  Los Angeles County    6037  ...  0.000000e+00    0.000000\n",
              "178  Los Angeles County    6037  ...  0.000000e+00    0.000000\n",
              "232  Los Angeles County    6037  ...  0.000000e+00    0.000000\n",
              "286  Los Angeles County    6037  ...  0.000000e+00    0.000000\n",
              "340  Los Angeles County    6037  ...  0.000000e+00    0.000000\n",
              "394  Los Angeles County    6037  ...  1.203061e-01    0.000000\n",
              "448  Los Angeles County    6037  ...  6.576735e-01    0.120306\n",
              "502  Los Angeles County    6037  ...  8.020408e-03    0.777980\n",
              "556  Los Angeles County    6037  ...  0.000000e+00    0.786000\n",
              "610  Los Angeles County    6037  ...  0.000000e+00    0.786000\n",
              "664  Los Angeles County    6037  ...  1.110223e-16    0.786000\n",
              "\n",
              "[13 rows x 7 columns]"
            ]
          },
          "metadata": {
            "tags": []
          },
          "execution_count": 152
        }
      ]
    },
    {
      "cell_type": "code",
      "metadata": {
        "id": "j5Z4bIspwE2c",
        "outputId": "50290b1f-9f4e-4cb9-89ad-145db9f06062",
        "colab": {
          "base_uri": "https://localhost:8080/",
          "height": 195
        }
      },
      "source": [
        "average_newCases_df2['percent_newcases'] = average_newCases_df2.apply(lambda x: (x.diff_avg_x) / x.shift_avg_x if x.shift_avg_x > 0.0 else 0 , axis=1)\n",
        "\n",
        "\n",
        "average_newCases_df2.tail()\n"
      ],
      "execution_count": 153,
      "outputs": [
        {
          "output_type": "execute_result",
          "data": {
            "text/html": [
              "<div>\n",
              "<style scoped>\n",
              "    .dataframe tbody tr th:only-of-type {\n",
              "        vertical-align: middle;\n",
              "    }\n",
              "\n",
              "    .dataframe tbody tr th {\n",
              "        vertical-align: top;\n",
              "    }\n",
              "\n",
              "    .dataframe thead th {\n",
              "        text-align: right;\n",
              "    }\n",
              "</style>\n",
              "<table border=\"1\" class=\"dataframe\">\n",
              "  <thead>\n",
              "    <tr style=\"text-align: right;\">\n",
              "      <th></th>\n",
              "      <th>County Name</th>\n",
              "      <th>fips_x</th>\n",
              "      <th>average_per_week</th>\n",
              "      <th>startDate</th>\n",
              "      <th>endDate</th>\n",
              "      <th>diff_avg_x</th>\n",
              "      <th>shift_avg_x</th>\n",
              "      <th>percent_newcases</th>\n",
              "    </tr>\n",
              "  </thead>\n",
              "  <tbody>\n",
              "    <tr>\n",
              "      <th>696</th>\n",
              "      <td>Tulare County</td>\n",
              "      <td>6107</td>\n",
              "      <td>0.685</td>\n",
              "      <td>2020-08-18</td>\n",
              "      <td>2020-08-21</td>\n",
              "      <td>1.110223e-16</td>\n",
              "      <td>0.685</td>\n",
              "      <td>1.620764e-16</td>\n",
              "    </tr>\n",
              "    <tr>\n",
              "      <th>697</th>\n",
              "      <td>Tuolumne County</td>\n",
              "      <td>6109</td>\n",
              "      <td>0.653</td>\n",
              "      <td>2020-08-18</td>\n",
              "      <td>2020-08-21</td>\n",
              "      <td>1.110223e-16</td>\n",
              "      <td>0.653</td>\n",
              "      <td>1.700188e-16</td>\n",
              "    </tr>\n",
              "    <tr>\n",
              "      <th>698</th>\n",
              "      <td>Ventura County</td>\n",
              "      <td>6111</td>\n",
              "      <td>0.777</td>\n",
              "      <td>2020-08-18</td>\n",
              "      <td>2020-08-21</td>\n",
              "      <td>1.110223e-16</td>\n",
              "      <td>0.777</td>\n",
              "      <td>1.428858e-16</td>\n",
              "    </tr>\n",
              "    <tr>\n",
              "      <th>699</th>\n",
              "      <td>Yolo County</td>\n",
              "      <td>6113</td>\n",
              "      <td>0.791</td>\n",
              "      <td>2020-08-18</td>\n",
              "      <td>2020-08-21</td>\n",
              "      <td>0.000000e+00</td>\n",
              "      <td>0.791</td>\n",
              "      <td>0.000000e+00</td>\n",
              "    </tr>\n",
              "    <tr>\n",
              "      <th>700</th>\n",
              "      <td>Yuba County</td>\n",
              "      <td>6115</td>\n",
              "      <td>0.669</td>\n",
              "      <td>2020-08-18</td>\n",
              "      <td>2020-08-21</td>\n",
              "      <td>1.110223e-16</td>\n",
              "      <td>0.669</td>\n",
              "      <td>1.659526e-16</td>\n",
              "    </tr>\n",
              "  </tbody>\n",
              "</table>\n",
              "</div>"
            ],
            "text/plain": [
              "         County Name  fips_x  ...  shift_avg_x percent_newcases\n",
              "696    Tulare County    6107  ...        0.685     1.620764e-16\n",
              "697  Tuolumne County    6109  ...        0.653     1.700188e-16\n",
              "698   Ventura County    6111  ...        0.777     1.428858e-16\n",
              "699      Yolo County    6113  ...        0.791     0.000000e+00\n",
              "700      Yuba County    6115  ...        0.669     1.659526e-16\n",
              "\n",
              "[5 rows x 8 columns]"
            ]
          },
          "metadata": {
            "tags": []
          },
          "execution_count": 153
        }
      ]
    },
    {
      "cell_type": "code",
      "metadata": {
        "id": "Ee6qZiyqAF1z",
        "outputId": "4e728709-f6d1-4112-ef45-35a2e18a7914",
        "colab": {
          "base_uri": "https://localhost:8080/",
          "height": 432
        }
      },
      "source": [
        "average_newCases_df2[average_newCases_df2['County Name'] == 'Los Angeles County']"
      ],
      "execution_count": 154,
      "outputs": [
        {
          "output_type": "execute_result",
          "data": {
            "text/html": [
              "<div>\n",
              "<style scoped>\n",
              "    .dataframe tbody tr th:only-of-type {\n",
              "        vertical-align: middle;\n",
              "    }\n",
              "\n",
              "    .dataframe tbody tr th {\n",
              "        vertical-align: top;\n",
              "    }\n",
              "\n",
              "    .dataframe thead th {\n",
              "        text-align: right;\n",
              "    }\n",
              "</style>\n",
              "<table border=\"1\" class=\"dataframe\">\n",
              "  <thead>\n",
              "    <tr style=\"text-align: right;\">\n",
              "      <th></th>\n",
              "      <th>County Name</th>\n",
              "      <th>fips_x</th>\n",
              "      <th>average_per_week</th>\n",
              "      <th>startDate</th>\n",
              "      <th>endDate</th>\n",
              "      <th>diff_avg_x</th>\n",
              "      <th>shift_avg_x</th>\n",
              "      <th>percent_newcases</th>\n",
              "    </tr>\n",
              "  </thead>\n",
              "  <tbody>\n",
              "    <tr>\n",
              "      <th>17</th>\n",
              "      <td>Los Angeles County</td>\n",
              "      <td>6037</td>\n",
              "      <td>0.000000</td>\n",
              "      <td>2020-03-01</td>\n",
              "      <td>2020-03-14</td>\n",
              "      <td>0.000000e+00</td>\n",
              "      <td>NaN</td>\n",
              "      <td>0.000000e+00</td>\n",
              "    </tr>\n",
              "    <tr>\n",
              "      <th>71</th>\n",
              "      <td>Los Angeles County</td>\n",
              "      <td>6037</td>\n",
              "      <td>0.000000</td>\n",
              "      <td>2020-03-15</td>\n",
              "      <td>2020-03-28</td>\n",
              "      <td>0.000000e+00</td>\n",
              "      <td>0.000000</td>\n",
              "      <td>0.000000e+00</td>\n",
              "    </tr>\n",
              "    <tr>\n",
              "      <th>125</th>\n",
              "      <td>Los Angeles County</td>\n",
              "      <td>6037</td>\n",
              "      <td>0.000000</td>\n",
              "      <td>2020-03-29</td>\n",
              "      <td>2020-04-11</td>\n",
              "      <td>0.000000e+00</td>\n",
              "      <td>0.000000</td>\n",
              "      <td>0.000000e+00</td>\n",
              "    </tr>\n",
              "    <tr>\n",
              "      <th>178</th>\n",
              "      <td>Los Angeles County</td>\n",
              "      <td>6037</td>\n",
              "      <td>0.000000</td>\n",
              "      <td>2020-04-12</td>\n",
              "      <td>2020-04-26</td>\n",
              "      <td>0.000000e+00</td>\n",
              "      <td>0.000000</td>\n",
              "      <td>0.000000e+00</td>\n",
              "    </tr>\n",
              "    <tr>\n",
              "      <th>232</th>\n",
              "      <td>Los Angeles County</td>\n",
              "      <td>6037</td>\n",
              "      <td>0.000000</td>\n",
              "      <td>2020-04-27</td>\n",
              "      <td>2020-05-10</td>\n",
              "      <td>0.000000e+00</td>\n",
              "      <td>0.000000</td>\n",
              "      <td>0.000000e+00</td>\n",
              "    </tr>\n",
              "    <tr>\n",
              "      <th>286</th>\n",
              "      <td>Los Angeles County</td>\n",
              "      <td>6037</td>\n",
              "      <td>0.000000</td>\n",
              "      <td>2020-05-11</td>\n",
              "      <td>2020-05-24</td>\n",
              "      <td>0.000000e+00</td>\n",
              "      <td>0.000000</td>\n",
              "      <td>0.000000e+00</td>\n",
              "    </tr>\n",
              "    <tr>\n",
              "      <th>340</th>\n",
              "      <td>Los Angeles County</td>\n",
              "      <td>6037</td>\n",
              "      <td>0.000000</td>\n",
              "      <td>2020-05-25</td>\n",
              "      <td>2020-06-08</td>\n",
              "      <td>0.000000e+00</td>\n",
              "      <td>0.000000</td>\n",
              "      <td>0.000000e+00</td>\n",
              "    </tr>\n",
              "    <tr>\n",
              "      <th>394</th>\n",
              "      <td>Los Angeles County</td>\n",
              "      <td>6037</td>\n",
              "      <td>0.120306</td>\n",
              "      <td>2020-06-09</td>\n",
              "      <td>2020-06-22</td>\n",
              "      <td>1.203061e-01</td>\n",
              "      <td>0.000000</td>\n",
              "      <td>0.000000e+00</td>\n",
              "    </tr>\n",
              "    <tr>\n",
              "      <th>448</th>\n",
              "      <td>Los Angeles County</td>\n",
              "      <td>6037</td>\n",
              "      <td>0.777980</td>\n",
              "      <td>2020-06-23</td>\n",
              "      <td>2020-07-06</td>\n",
              "      <td>6.576735e-01</td>\n",
              "      <td>0.120306</td>\n",
              "      <td>5.466667e+00</td>\n",
              "    </tr>\n",
              "    <tr>\n",
              "      <th>502</th>\n",
              "      <td>Los Angeles County</td>\n",
              "      <td>6037</td>\n",
              "      <td>0.786000</td>\n",
              "      <td>2020-07-07</td>\n",
              "      <td>2020-07-20</td>\n",
              "      <td>8.020408e-03</td>\n",
              "      <td>0.777980</td>\n",
              "      <td>1.030928e-02</td>\n",
              "    </tr>\n",
              "    <tr>\n",
              "      <th>556</th>\n",
              "      <td>Los Angeles County</td>\n",
              "      <td>6037</td>\n",
              "      <td>0.786000</td>\n",
              "      <td>2020-07-21</td>\n",
              "      <td>2020-08-03</td>\n",
              "      <td>0.000000e+00</td>\n",
              "      <td>0.786000</td>\n",
              "      <td>0.000000e+00</td>\n",
              "    </tr>\n",
              "    <tr>\n",
              "      <th>610</th>\n",
              "      <td>Los Angeles County</td>\n",
              "      <td>6037</td>\n",
              "      <td>0.786000</td>\n",
              "      <td>2020-08-04</td>\n",
              "      <td>2020-08-17</td>\n",
              "      <td>0.000000e+00</td>\n",
              "      <td>0.786000</td>\n",
              "      <td>0.000000e+00</td>\n",
              "    </tr>\n",
              "    <tr>\n",
              "      <th>664</th>\n",
              "      <td>Los Angeles County</td>\n",
              "      <td>6037</td>\n",
              "      <td>0.786000</td>\n",
              "      <td>2020-08-18</td>\n",
              "      <td>2020-08-21</td>\n",
              "      <td>1.110223e-16</td>\n",
              "      <td>0.786000</td>\n",
              "      <td>1.412497e-16</td>\n",
              "    </tr>\n",
              "  </tbody>\n",
              "</table>\n",
              "</div>"
            ],
            "text/plain": [
              "            County Name  fips_x  ...  shift_avg_x percent_newcases\n",
              "17   Los Angeles County    6037  ...          NaN     0.000000e+00\n",
              "71   Los Angeles County    6037  ...     0.000000     0.000000e+00\n",
              "125  Los Angeles County    6037  ...     0.000000     0.000000e+00\n",
              "178  Los Angeles County    6037  ...     0.000000     0.000000e+00\n",
              "232  Los Angeles County    6037  ...     0.000000     0.000000e+00\n",
              "286  Los Angeles County    6037  ...     0.000000     0.000000e+00\n",
              "340  Los Angeles County    6037  ...     0.000000     0.000000e+00\n",
              "394  Los Angeles County    6037  ...     0.000000     0.000000e+00\n",
              "448  Los Angeles County    6037  ...     0.120306     5.466667e+00\n",
              "502  Los Angeles County    6037  ...     0.777980     1.030928e-02\n",
              "556  Los Angeles County    6037  ...     0.786000     0.000000e+00\n",
              "610  Los Angeles County    6037  ...     0.786000     0.000000e+00\n",
              "664  Los Angeles County    6037  ...     0.786000     1.412497e-16\n",
              "\n",
              "[13 rows x 8 columns]"
            ]
          },
          "metadata": {
            "tags": []
          },
          "execution_count": 154
        }
      ]
    },
    {
      "cell_type": "markdown",
      "metadata": {
        "id": "wzm1F8eZJYLj"
      },
      "source": [
        "# 1.2 Labeling data as per % change"
      ]
    },
    {
      "cell_type": "markdown",
      "metadata": {
        "id": "-NZo1sZC6ZI0"
      },
      "source": [
        "## Validation"
      ]
    },
    {
      "cell_type": "code",
      "metadata": {
        "id": "WRaSsCyV5q2n"
      },
      "source": [
        "test_ca_combined = average_newCases_df2.copy()"
      ],
      "execution_count": 155,
      "outputs": []
    },
    {
      "cell_type": "code",
      "metadata": {
        "id": "JA16tdLK6d40",
        "outputId": "9214b4c3-a9c3-4977-ace2-f53d8f208c2d",
        "colab": {
          "base_uri": "https://localhost:8080/",
          "height": 77
        }
      },
      "source": [
        "test_ca_combined[(test_ca_combined['fips_x']== 6001) & (test_ca_combined['startDate']=='2020-08-18')]"
      ],
      "execution_count": 156,
      "outputs": [
        {
          "output_type": "execute_result",
          "data": {
            "text/html": [
              "<div>\n",
              "<style scoped>\n",
              "    .dataframe tbody tr th:only-of-type {\n",
              "        vertical-align: middle;\n",
              "    }\n",
              "\n",
              "    .dataframe tbody tr th {\n",
              "        vertical-align: top;\n",
              "    }\n",
              "\n",
              "    .dataframe thead th {\n",
              "        text-align: right;\n",
              "    }\n",
              "</style>\n",
              "<table border=\"1\" class=\"dataframe\">\n",
              "  <thead>\n",
              "    <tr style=\"text-align: right;\">\n",
              "      <th></th>\n",
              "      <th>County Name</th>\n",
              "      <th>fips_x</th>\n",
              "      <th>average_per_week</th>\n",
              "      <th>startDate</th>\n",
              "      <th>endDate</th>\n",
              "      <th>diff_avg_x</th>\n",
              "      <th>shift_avg_x</th>\n",
              "      <th>percent_newcases</th>\n",
              "    </tr>\n",
              "  </thead>\n",
              "  <tbody>\n",
              "    <tr>\n",
              "      <th>647</th>\n",
              "      <td>Alameda County</td>\n",
              "      <td>6001</td>\n",
              "      <td>0.795</td>\n",
              "      <td>2020-08-18</td>\n",
              "      <td>2020-08-21</td>\n",
              "      <td>0.0</td>\n",
              "      <td>0.795</td>\n",
              "      <td>0.0</td>\n",
              "    </tr>\n",
              "  </tbody>\n",
              "</table>\n",
              "</div>"
            ],
            "text/plain": [
              "        County Name  fips_x  ...  shift_avg_x percent_newcases\n",
              "647  Alameda County    6001  ...        0.795              0.0\n",
              "\n",
              "[1 rows x 8 columns]"
            ]
          },
          "metadata": {
            "tags": []
          },
          "execution_count": 156
        }
      ]
    },
    {
      "cell_type": "markdown",
      "metadata": {
        "id": "0MgfQmJj6e7B"
      },
      "source": [
        "## Actual Work"
      ]
    },
    {
      "cell_type": "code",
      "metadata": {
        "id": "oXCqAaH7Jalh",
        "outputId": "6f52bc33-174d-4e63-ee62-c0a480ff4714",
        "colab": {
          "base_uri": "https://localhost:8080/",
          "height": 284
        }
      },
      "source": [
        "average_newCases_df2.describe()"
      ],
      "execution_count": 157,
      "outputs": [
        {
          "output_type": "execute_result",
          "data": {
            "text/html": [
              "<div>\n",
              "<style scoped>\n",
              "    .dataframe tbody tr th:only-of-type {\n",
              "        vertical-align: middle;\n",
              "    }\n",
              "\n",
              "    .dataframe tbody tr th {\n",
              "        vertical-align: top;\n",
              "    }\n",
              "\n",
              "    .dataframe thead th {\n",
              "        text-align: right;\n",
              "    }\n",
              "</style>\n",
              "<table border=\"1\" class=\"dataframe\">\n",
              "  <thead>\n",
              "    <tr style=\"text-align: right;\">\n",
              "      <th></th>\n",
              "      <th>fips_x</th>\n",
              "      <th>average_per_week</th>\n",
              "      <th>diff_avg_x</th>\n",
              "      <th>shift_avg_x</th>\n",
              "      <th>percent_newcases</th>\n",
              "    </tr>\n",
              "  </thead>\n",
              "  <tbody>\n",
              "    <tr>\n",
              "      <th>count</th>\n",
              "      <td>701.000000</td>\n",
              "      <td>701.000000</td>\n",
              "      <td>7.010000e+02</td>\n",
              "      <td>647.000000</td>\n",
              "      <td>7.010000e+02</td>\n",
              "    </tr>\n",
              "    <tr>\n",
              "      <th>mean</th>\n",
              "      <td>6057.724679</td>\n",
              "      <td>0.286073</td>\n",
              "      <td>5.565335e-02</td>\n",
              "      <td>0.249651</td>\n",
              "      <td>4.295390e-01</td>\n",
              "    </tr>\n",
              "    <tr>\n",
              "      <th>std</th>\n",
              "      <td>32.987094</td>\n",
              "      <td>0.350164</td>\n",
              "      <td>1.627743e-01</td>\n",
              "      <td>0.338997</td>\n",
              "      <td>1.497501e+00</td>\n",
              "    </tr>\n",
              "    <tr>\n",
              "      <th>min</th>\n",
              "      <td>6001.000000</td>\n",
              "      <td>0.000000</td>\n",
              "      <td>-2.220446e-16</td>\n",
              "      <td>0.000000</td>\n",
              "      <td>-2.523234e-16</td>\n",
              "    </tr>\n",
              "    <tr>\n",
              "      <th>25%</th>\n",
              "      <td>6029.000000</td>\n",
              "      <td>0.000000</td>\n",
              "      <td>0.000000e+00</td>\n",
              "      <td>0.000000</td>\n",
              "      <td>0.000000e+00</td>\n",
              "    </tr>\n",
              "    <tr>\n",
              "      <th>50%</th>\n",
              "      <td>6059.000000</td>\n",
              "      <td>0.000000</td>\n",
              "      <td>0.000000e+00</td>\n",
              "      <td>0.000000</td>\n",
              "      <td>0.000000e+00</td>\n",
              "    </tr>\n",
              "    <tr>\n",
              "      <th>75%</th>\n",
              "      <td>6085.000000</td>\n",
              "      <td>0.685000</td>\n",
              "      <td>1.110223e-16</td>\n",
              "      <td>0.669000</td>\n",
              "      <td>0.000000e+00</td>\n",
              "    </tr>\n",
              "    <tr>\n",
              "      <th>max</th>\n",
              "      <td>6115.000000</td>\n",
              "      <td>0.889000</td>\n",
              "      <td>7.438571e-01</td>\n",
              "      <td>0.889000</td>\n",
              "      <td>1.073333e+01</td>\n",
              "    </tr>\n",
              "  </tbody>\n",
              "</table>\n",
              "</div>"
            ],
            "text/plain": [
              "            fips_x  average_per_week  ...  shift_avg_x  percent_newcases\n",
              "count   701.000000        701.000000  ...   647.000000      7.010000e+02\n",
              "mean   6057.724679          0.286073  ...     0.249651      4.295390e-01\n",
              "std      32.987094          0.350164  ...     0.338997      1.497501e+00\n",
              "min    6001.000000          0.000000  ...     0.000000     -2.523234e-16\n",
              "25%    6029.000000          0.000000  ...     0.000000      0.000000e+00\n",
              "50%    6059.000000          0.000000  ...     0.000000      0.000000e+00\n",
              "75%    6085.000000          0.685000  ...     0.669000      0.000000e+00\n",
              "max    6115.000000          0.889000  ...     0.889000      1.073333e+01\n",
              "\n",
              "[8 rows x 5 columns]"
            ]
          },
          "metadata": {
            "tags": []
          },
          "execution_count": 157
        }
      ]
    },
    {
      "cell_type": "code",
      "metadata": {
        "id": "OAVQINmwKAvv"
      },
      "source": [
        "los_angeles_county = average_newCases_df2[average_newCases_df2['County Name'] == 'Los Angeles County']"
      ],
      "execution_count": 158,
      "outputs": []
    },
    {
      "cell_type": "code",
      "metadata": {
        "id": "9IN8UI7rJ84S",
        "outputId": "3200787f-fa92-4f54-ef9a-c80b3ef4f94a",
        "colab": {
          "base_uri": "https://localhost:8080/",
          "height": 299
        }
      },
      "source": [
        "fig,ax = plt.subplots()\n",
        "# make a plot\n",
        "ax.plot(los_angeles_county.startDate, los_angeles_county['percent_newcases'], color=\"blue\")\n",
        "# set x-axis label\n",
        "ax.set_xlabel(\"Date\",fontsize=14)\n",
        "# set y-axis label\n",
        "ax.set_ylabel(\"percent_newcases\",color=\"blue\",fontsize=14)\n",
        "# ax2=ax.twinx()\n",
        "# make a plot with different y-axis using second axis object\n",
        "# ax2.plot(los_angeles_county.startDate, los_angeles_county[\"percent_newcases\"],color=\"red\")\n",
        "# ax2.set_ylabel(\"New cases\",color=\"blue\",fontsize=14)\n",
        "plt.title(\"'percent_newcases'\")\n",
        "\n",
        "plt.show()"
      ],
      "execution_count": 159,
      "outputs": [
        {
          "output_type": "display_data",
          "data": {
            "image/png": "[encoded data removed]",
            "text/plain": [
              "<Figure size 432x288 with 1 Axes>"
            ]
          },
          "metadata": {
            "tags": [],
            "needs_background": "light"
          }
        }
      ]
    },
    {
      "cell_type": "code",
      "metadata": {
        "id": "QJigbxTTMjaQ",
        "outputId": "76475f18-b57e-4209-f7a2-7c15f5afd805",
        "colab": {
          "base_uri": "https://localhost:8080/",
          "height": 54
        }
      },
      "source": [
        "data = average_newCases_df2['percent_newcases'].to_list()\n",
        "\n",
        "print(data)\n"
      ],
      "execution_count": 160,
      "outputs": [
        {
          "output_type": "stream",
          "text": [
            "[0.0, 0.0, 0.0, 0.0, 0.0, 0.0, 0.0, 0.0, 0.0, 0.0, 0.0, 0.0, 0.0, 0.0, 0.0, 0.0, 0.0, 0.0, 0.0, 0.0, 0.0, 0.0, 0.0, 0.0, 0.0, 0.0, 0.0, 0.0, 0.0, 0.0, 0.0, 0.0, 0.0, 0.0, 0.0, 0.0, 0.0, 0.0, 0.0, 0.0, 0.0, 0.0, 0.0, 0.0, 0.0, 0.0, 0.0, 0.0, 0.0, 0.0, 0.0, 0.0, 0.0, 0.0, 0.0, 0.0, 0.0, 0.0, 0.0, 0.0, 0.0, 0.0, 0.0, 0.0, 0.0, 0.0, 0.0, 0.0, 0.0, 0.0, 0.0, 0.0, 0.0, 0.0, 0.0, 0.0, 0.0, 0.0, 0.0, 0.0, 0.0, 0.0, 0.0, 0.0, 0.0, 0.0, 0.0, 0.0, 0.0, 0.0, 0.0, 0.0, 0.0, 0.0, 0.0, 0.0, 0.0, 0.0, 0.0, 0.0, 0.0, 0.0, 0.0, 0.0, 0.0, 0.0, 0.0, 0.0, 0.0, 0.0, 0.0, 0.0, 0.0, 0.0, 0.0, 0.0, 0.0, 0.0, 0.0, 0.0, 0.0, 0.0, 0.0, 0.0, 0.0, 0.0, 0.0, 0.0, 0.0, 0.0, 0.0, 0.0, 0.0, 0.0, 0.0, 0.0, 0.0, 0.0, 0.0, 0.0, 0.0, 0.0, 0.0, 0.0, 0.0, 0.0, 0.0, 0.0, 0.0, 0.0, 0.0, 0.0, 0.0, 0.0, 0.0, 0.0, 0.0, 0.0, 0.0, 0.0, 0.0, 0.0, 0.0, 0.0, 0.0, 0.0, 0.0, 0.0, 0.0, 0.0, 0.0, 0.0, 0.0, 0.0, 0.0, 0.0, 0.0, 0.0, 0.0, 0.0, 0.0, 0.0, 0.0, 0.0, 0.0, 0.0, 0.0, 0.0, 0.0, 0.0, 0.0, 0.0, 0.0, 0.0, 0.0, 0.0, 0.0, 0.0, 0.0, 0.0, 0.0, 0.0, 0.0, 0.0, 0.0, 0.0, 0.0, 0.0, 0.0, 0.0, 0.0, 0.0, 0.0, 0.0, 0.0, 0.0, 0.0, 0.0, 0.0, 0.0, 0.0, 0.0, 0.0, 0.0, 0.0, 0.0, 0.0, 0.0, 0.0, 0.0, 0.0, 0.0, 0.0, 0.0, 0.0, 0.0, 0.0, 0.0, 0.0, 0.0, 0.0, 0.0, 0.0, 0.0, 0.0, 0.0, 0.0, 0.0, 0.0, 0.0, 0.0, 0.0, 0.0, 0.0, 0.0, 0.0, 0.0, 0.0, 0.0, 0.0, 0.0, 0.0, 0.0, 0.0, 0.0, 0.0, 0.0, 0.0, 0.0, 0.0, 0.0, 0.0, 0.0, 0.0, 0.0, 0.0, 0.0, 0.0, 0.0, 0.0, 0.0, 0.0, 0.0, 0.0, 0.0, 0.0, 0.0, 0.0, 0.0, 0.0, 0.0, 0.0, 0.0, 0.0, 0.0, 0.0, 0.0, 0.0, 0.0, 0.0, 0.0, 0.0, 0.0, 0.0, 0.0, 0.0, 0.0, 0.0, 0.0, 0.0, 0.0, 0.0, 0.0, 0.0, 0.0, 0.0, 0.0, 0.0, 0.0, 0.0, 0.0, 0.0, 0.0, 0.0, 0.0, 0.0, 0.0, 0.0, 0.0, 0.0, 0.0, 0.0, 0.0, 0.0, 0.0, 0.0, 0.0, 0.0, 0.0, 0.0, 0.0, 0.0, 0.0, 0.0, 0.0, 0.0, 0.0, 0.0, 0.0, 0.0, 0.0, 0.0, 0.0, 0.0, 0.0, 0.0, 0.0, 0.0, 0.0, 0.0, 0.0, 0.0, 0.0, 0.0, 0.0, 0.0, 0.0, 0.0, 0.0, 0.0, 0.0, 0.0, 0.0, 0.0, 0.0, 0.0, 0.0, 0.0, 0.0, 0.0, 0.0, 0.0, 0.0, 0.0, 0.0, 0.0, 0.0, 0.0, 0.0, 0.0, 0.0, 0.0, 0.0, 0.0, 0.0, 0.0, 0.0, 0.0, 0.0, 0.0, 0.0, 0.0, 0.0, 0.0, 0.0, 0.0, 0.0, 0.0, 0.0, 0.0, 0.0, 0.0, 0.0, 0.0, 0.0, 0.0, 0.0, 0.0, 0.0, 0.0, 0.0, 0.0, 0.0, 0.0, 0.0, 0.0, 0.0, 0.0, 0.0, 0.0, 0.0, 5.466666666666666, 5.466666666666668, 5.466666666666667, 5.466666666666669, 5.466666666666668, 5.466666666666666, 5.466666666666665, 5.466666666666666, 5.466666666666665, 5.466666666666668, 5.466666666666669, 5.466666666666669, 5.466666666666666, 5.466666666666668, 5.466666666666667, 5.466666666666668, 5.466666666666669, 5.466666666666665, 5.466666666666668, 5.466666666666664, 5.466666666666665, 5.466666666666667, 5.466666666666669, 5.466666666666668, 5.466666666666666, 5.466666666666663, 5.4666666666666694, 5.466666666666668, 5.466666666666664, 10.733333333333338, 5.466666666666668, 5.466666666666667, 5.466666666666667, 5.466666666666667, 5.466666666666667, 5.466666666666668, 5.466666666666663, 5.466666666666665, 5.466666666666665, 5.466666666666667, 5.466666666666668, 5.466666666666667, 5.466666666666665, 5.466666666666669, 5.466666666666665, 5.466666666666666, 5.466666666666667, 5.466666666666664, 5.466666666666666, 5.466666666666666, 5.466666666666667, 5.466666666666666, 5.466666666666666, 5.466666666666664, 0.010309278350515552, 0.01030927835051537, 0.01030927835051564, 0.010309278350515405, 0.010309278350515427, 0.010309278350515353, 0.010309278350515455, 0.010309278350515379, 0.010309278350515446, 0.01030927835051553, 0.010309278350515358, 0.010309278350515424, 0.010309278350515393, 0.010309278350515318, 0.010309278350515486, 0.01030927835051538, 0.010309278350515374, 0.010309278350515491, 0.010309278350515521, 0.010309278350515465, 0.0103092783505156, 0.010309278350515514, 0.010309278350515452, 0.010309278350515457, 0.010309278350515462, 0.01030927835051554, 0.010309278350515434, 0.010309278350515542, 0.010309278350515535, 0.09375000000000003, 0.010309278350515469, 0.010309278350515602, 0.010309278350515426, 0.0103092783505155, 0.010309278350515446, 0.01030927835051529, 0.010309278350515592, 0.010309278350515476, 0.010309278350515491, 0.010309278350515412, 0.01030927835051547, 0.010309278350515426, 0.010309278350515455, 0.010309278350515233, 0.010309278350515497, 0.010309278350515552, 0.010309278350515308, 0.010309278350515498, 0.01030927835051564, 0.010309278350515302, 0.010309278350515358, 0.010309278350515568, 0.010309278350515384, 0.010309278350515498, 0.0, 0.0, 0.0, 0.0, 0.0, 0.0, 0.0, 0.0, 0.0, 0.0, 0.0, 0.0, 0.0, 0.0, 0.0, 0.0, 0.0, 0.0, 0.0, 0.0, 0.0, 0.0, 0.0, 0.0, 0.0, 0.0, 0.0, 0.0, 0.0, 0.0, 0.0, 0.0, 0.0, 0.0, 0.0, 0.0, 0.0, 0.0, 0.0, 0.0, 0.0, 0.0, 0.0, 0.0, 0.0, 0.0, 0.0, 0.0, 0.0, 0.0, 0.0, 0.0, 0.0, 0.0, 0.0, 0.0, 0.0, 0.0, 0.0, 0.0, 0.0, 0.0, 0.0, 0.0, 0.0, 0.0, 0.0, 0.0, 0.0, 0.0, 0.0, 0.0, 0.0, 0.0, 0.0, 0.0, 0.0, 0.0, 0.0, 0.0, 0.0, 0.0, 0.0, 0.0, 0.0, 0.0, 0.0, 0.0, 0.0, 0.0, 0.0, 0.0, 0.0, 0.0, 0.0, 0.0, 0.0, 0.0, 0.0, 0.0, 0.0, 0.0, 0.0, 0.0, 0.0, 0.0, 0.0, 0.0, 0.0, 0.0, -1.7735192086663839e-16, 0.0, 1.5860328923216522e-16, 2.754895842742325e-16, 2.0296581803019318e-16, -1.644774851296528e-16, 1.4982766864037206e-16, -1.8690623310187817e-16, 0.0, -1.3280179720396607e-16, 2.4976895942073264e-16, 1.6620105159059232e-16, 0.0, 0.0, -1.151683635503274e-16, 1.4124974868004542e-16, 0.0, 1.384317985816904e-16, 1.6796112324132478e-16, 0.0, 0.0, -2.523234146875355e-16, 0.0, 1.436252295763463e-16, -1.6278929979840998e-16, 0.0, 1.602053426587528e-16, -1.6545797684428558e-16, -1.3825940530823866e-16, -1.537705020256449e-16, -1.502331562415638e-16, -1.4456028966473392e-16, -1.3877787807814457e-16, 0.0, 1.632680918566407e-16, 1.4902322478190024e-16, 1.4124974868004542e-16, 0.0, 1.4531714982004666e-16, 0.0, 2.0296581803019318e-16, 0.0, 0.0, 0.0, 0.0, 1.659526195254345e-16, 0.0, 1.6207635395987692e-16, 1.700188399119689e-16, 1.4288584615510383e-16, 0.0, 1.659526195254345e-16]\n"
          ],
          "name": "stdout"
        }
      ]
    },
    {
      "cell_type": "code",
      "metadata": {
        "id": "1sUx5q6q2S3H"
      },
      "source": [
        "average_newCases_df3 = average_newCases_df2.copy().reset_index(drop=True)"
      ],
      "execution_count": 161,
      "outputs": []
    },
    {
      "cell_type": "code",
      "metadata": {
        "id": "y14R6vvrnCEK",
        "outputId": "3d10c20f-108c-41d7-8da5-33285d24da62",
        "colab": {
          "base_uri": "https://localhost:8080/",
          "height": 195
        }
      },
      "source": [
        "average_newCases_df3.head()"
      ],
      "execution_count": 162,
      "outputs": [
        {
          "output_type": "execute_result",
          "data": {
            "text/html": [
              "<div>\n",
              "<style scoped>\n",
              "    .dataframe tbody tr th:only-of-type {\n",
              "        vertical-align: middle;\n",
              "    }\n",
              "\n",
              "    .dataframe tbody tr th {\n",
              "        vertical-align: top;\n",
              "    }\n",
              "\n",
              "    .dataframe thead th {\n",
              "        text-align: right;\n",
              "    }\n",
              "</style>\n",
              "<table border=\"1\" class=\"dataframe\">\n",
              "  <thead>\n",
              "    <tr style=\"text-align: right;\">\n",
              "      <th></th>\n",
              "      <th>County Name</th>\n",
              "      <th>fips_x</th>\n",
              "      <th>average_per_week</th>\n",
              "      <th>startDate</th>\n",
              "      <th>endDate</th>\n",
              "      <th>diff_avg_x</th>\n",
              "      <th>shift_avg_x</th>\n",
              "      <th>percent_newcases</th>\n",
              "    </tr>\n",
              "  </thead>\n",
              "  <tbody>\n",
              "    <tr>\n",
              "      <th>0</th>\n",
              "      <td>Alameda County</td>\n",
              "      <td>6001</td>\n",
              "      <td>0.0</td>\n",
              "      <td>2020-03-01</td>\n",
              "      <td>2020-03-14</td>\n",
              "      <td>0.0</td>\n",
              "      <td>NaN</td>\n",
              "      <td>0.0</td>\n",
              "    </tr>\n",
              "    <tr>\n",
              "      <th>1</th>\n",
              "      <td>Amador County</td>\n",
              "      <td>6005</td>\n",
              "      <td>0.0</td>\n",
              "      <td>2020-03-01</td>\n",
              "      <td>2020-03-14</td>\n",
              "      <td>0.0</td>\n",
              "      <td>NaN</td>\n",
              "      <td>0.0</td>\n",
              "    </tr>\n",
              "    <tr>\n",
              "      <th>2</th>\n",
              "      <td>Butte County</td>\n",
              "      <td>6007</td>\n",
              "      <td>0.0</td>\n",
              "      <td>2020-03-01</td>\n",
              "      <td>2020-03-14</td>\n",
              "      <td>0.0</td>\n",
              "      <td>NaN</td>\n",
              "      <td>0.0</td>\n",
              "    </tr>\n",
              "    <tr>\n",
              "      <th>3</th>\n",
              "      <td>Calaveras County</td>\n",
              "      <td>6009</td>\n",
              "      <td>0.0</td>\n",
              "      <td>2020-03-01</td>\n",
              "      <td>2020-03-14</td>\n",
              "      <td>0.0</td>\n",
              "      <td>NaN</td>\n",
              "      <td>0.0</td>\n",
              "    </tr>\n",
              "    <tr>\n",
              "      <th>4</th>\n",
              "      <td>Colusa County</td>\n",
              "      <td>6011</td>\n",
              "      <td>0.0</td>\n",
              "      <td>2020-03-01</td>\n",
              "      <td>2020-03-14</td>\n",
              "      <td>0.0</td>\n",
              "      <td>NaN</td>\n",
              "      <td>0.0</td>\n",
              "    </tr>\n",
              "  </tbody>\n",
              "</table>\n",
              "</div>"
            ],
            "text/plain": [
              "        County Name  fips_x  ...  shift_avg_x percent_newcases\n",
              "0    Alameda County    6001  ...          NaN              0.0\n",
              "1     Amador County    6005  ...          NaN              0.0\n",
              "2      Butte County    6007  ...          NaN              0.0\n",
              "3  Calaveras County    6009  ...          NaN              0.0\n",
              "4     Colusa County    6011  ...          NaN              0.0\n",
              "\n",
              "[5 rows x 8 columns]"
            ]
          },
          "metadata": {
            "tags": []
          },
          "execution_count": 162
        }
      ]
    },
    {
      "cell_type": "code",
      "metadata": {
        "id": "w13k5l2knDjR"
      },
      "source": [
        "new_cases_list = average_newCases_df2['percent_newcases'].values"
      ],
      "execution_count": 163,
      "outputs": []
    },
    {
      "cell_type": "markdown",
      "metadata": {
        "id": "suVgzsVPsY_R"
      },
      "source": [
        "## Determining growth label for covid cases"
      ]
    },
    {
      "cell_type": "markdown",
      "metadata": {
        "id": "Y6frSauBsjw9"
      },
      "source": [
        "#### Getting diff array"
      ]
    },
    {
      "cell_type": "code",
      "metadata": {
        "id": "-2b_CuPDLa_j",
        "outputId": "b9483044-e287-45b6-92a2-6f1332132043",
        "colab": {
          "base_uri": "https://localhost:8080/",
          "height": 34
        }
      },
      "source": [
        "len(new_cases_list)"
      ],
      "execution_count": 164,
      "outputs": [
        {
          "output_type": "execute_result",
          "data": {
            "text/plain": [
              "701"
            ]
          },
          "metadata": {
            "tags": []
          },
          "execution_count": 164
        }
      ]
    },
    {
      "cell_type": "code",
      "metadata": {
        "id": "1hImojxxnHnm",
        "outputId": "d179519f-612a-4395-d47a-6af8ccb596ca",
        "colab": {
          "base_uri": "https://localhost:8080/",
          "height": 50
        }
      },
      "source": [
        "diffArr = np.diff(new_cases_list)\n",
        "print(len(diffArr))\n",
        "diffArr[0]"
      ],
      "execution_count": 165,
      "outputs": [
        {
          "output_type": "stream",
          "text": [
            "700\n"
          ],
          "name": "stdout"
        },
        {
          "output_type": "execute_result",
          "data": {
            "text/plain": [
              "0.0"
            ]
          },
          "metadata": {
            "tags": []
          },
          "execution_count": 165
        }
      ]
    },
    {
      "cell_type": "code",
      "metadata": {
        "id": "bofl0PevMO7R",
        "outputId": "3f8cd6aa-15a9-4f9b-e663-b1ce12478063",
        "colab": {
          "base_uri": "https://localhost:8080/",
          "height": 50
        }
      },
      "source": [
        "growth_values =[]\n",
        "growth_values.append(0.0) # making first value as 0, as np.diff leaves first values as NA\n",
        "print('growth_values : ',len(growth_values))\n",
        "growth_values.extend(diffArr)\n",
        "print('growth_values : ',len(growth_values))\n"
      ],
      "execution_count": 166,
      "outputs": [
        {
          "output_type": "stream",
          "text": [
            "growth_values :  1\n",
            "growth_values :  701\n"
          ],
          "name": "stdout"
        }
      ]
    },
    {
      "cell_type": "code",
      "metadata": {
        "id": "A3zmGu9TMi1v",
        "outputId": "e0f00687-4f33-4ac3-85e3-81047f109220",
        "colab": {
          "base_uri": "https://localhost:8080/",
          "height": 34
        }
      },
      "source": [
        "len(growth_values)"
      ],
      "execution_count": 167,
      "outputs": [
        {
          "output_type": "execute_result",
          "data": {
            "text/plain": [
              "701"
            ]
          },
          "metadata": {
            "tags": []
          },
          "execution_count": 167
        }
      ]
    },
    {
      "cell_type": "code",
      "metadata": {
        "id": "ggJbovdTLoFR"
      },
      "source": [
        "average_newCases_df2['growth_per_day'] = growth_values"
      ],
      "execution_count": 168,
      "outputs": []
    },
    {
      "cell_type": "code",
      "metadata": {
        "id": "KzSF_fvWNg4i",
        "outputId": "a9cba640-da34-4dbe-813c-9f252f0a18b6",
        "colab": {
          "base_uri": "https://localhost:8080/",
          "height": 185
        }
      },
      "source": [
        "average_newCases_df2.dtypes"
      ],
      "execution_count": 169,
      "outputs": [
        {
          "output_type": "execute_result",
          "data": {
            "text/plain": [
              "County Name          object\n",
              "fips_x                int64\n",
              "average_per_week    float64\n",
              "startDate            object\n",
              "endDate              object\n",
              "diff_avg_x          float64\n",
              "shift_avg_x         float64\n",
              "percent_newcases    float64\n",
              "growth_per_day      float64\n",
              "dtype: object"
            ]
          },
          "metadata": {
            "tags": []
          },
          "execution_count": 169
        }
      ]
    },
    {
      "cell_type": "markdown",
      "metadata": {
        "id": "Ie9m4exUNguL"
      },
      "source": [
        "### Checking mean, std dev and variance for growth data"
      ]
    },
    {
      "cell_type": "code",
      "metadata": {
        "id": "87jvwDpfnOmC",
        "outputId": "751c825d-3e05-46af-8103-dbe19f542718",
        "colab": {
          "base_uri": "https://localhost:8080/",
          "height": 101
        }
      },
      "source": [
        "stdDev = np.std(diffArr)\n",
        "variance = np.var(diffArr)\n",
        "mean = np.mean(diffArr)\n",
        "min = np.min(diffArr)\n",
        "max = np.max(diffArr)\n",
        "\n",
        "\n",
        "print(\"min \",min)\n",
        "print(\"max \",max)\n",
        "\n",
        "print(\"mean \",mean)\n",
        "print(\"std. deviation \",stdDev)\n",
        "print(\"variance \",variance)"
      ],
      "execution_count": 170,
      "outputs": [
        {
          "output_type": "stream",
          "text": [
            "min  -5.456357388316149\n",
            "max  5.466666666666666\n",
            "mean  4.336808689942018e-19\n",
            "std. deviation  0.4055787169294746\n",
            "variance  0.16449409562615888\n"
          ],
          "name": "stdout"
        }
      ]
    },
    {
      "cell_type": "markdown",
      "metadata": {
        "id": "rPy3c2fesmmg"
      },
      "source": [
        "#### Getting positive cases"
      ]
    },
    {
      "cell_type": "code",
      "metadata": {
        "id": "R45efxCNnnSZ",
        "outputId": "b76edbc1-99e8-4960-d8a8-69e1fc4280f5",
        "colab": {
          "base_uri": "https://localhost:8080/",
          "height": 50
        }
      },
      "source": [
        "print('length diffArr: ',len(diffArr))\n",
        "\n",
        "non_zero_pos_diff = []\n",
        "\n",
        "for i in diffArr:\n",
        "  if i > 0:\n",
        "    non_zero_pos_diff.append(i)\n",
        "\n",
        "print('non_zero_pos_diff length: ',len(non_zero_pos_diff))"
      ],
      "execution_count": 171,
      "outputs": [
        {
          "output_type": "stream",
          "text": [
            "length diffArr:  700\n",
            "non_zero_pos_diff length:  77\n"
          ],
          "name": "stdout"
        }
      ]
    },
    {
      "cell_type": "code",
      "metadata": {
        "id": "8uGOAwOHooyW",
        "outputId": "220bc082-8b6d-4522-8931-828226902aff",
        "colab": {
          "base_uri": "https://localhost:8080/",
          "height": 101
        }
      },
      "source": [
        "stdDev = np.std(non_zero_pos_diff)\n",
        "variance = np.var(non_zero_pos_diff)\n",
        "mean = np.mean(non_zero_pos_diff)\n",
        "min = np.min(non_zero_pos_diff)\n",
        "max = np.max(non_zero_pos_diff)\n",
        "\n",
        "\n",
        "print(\"min \",min)\n",
        "print(\"max \",max)\n",
        "\n",
        "print(\"mean \",mean)\n",
        "print(\"std. deviation \",stdDev)\n",
        "print(\"variance \",variance)"
      ],
      "execution_count": 172,
      "outputs": [
        {
          "output_type": "stream",
          "text": [
            "min  3.537345784081112e-18\n",
            "max  5.466666666666666\n",
            "mean  0.14047758512964761\n",
            "std. deviation  0.8536375206133405\n",
            "variance  0.7286970165988914\n"
          ],
          "name": "stdout"
        }
      ]
    },
    {
      "cell_type": "markdown",
      "metadata": {
        "id": "dKu_JZjksraa"
      },
      "source": [
        "#### Getting negative cases"
      ]
    },
    {
      "cell_type": "code",
      "metadata": {
        "id": "SSDotPCTrFp8",
        "outputId": "0f9493c2-4c57-4577-c2a6-90bea3363715",
        "colab": {
          "base_uri": "https://localhost:8080/",
          "height": 50
        }
      },
      "source": [
        "print('length diffArr: ',len(diffArr))\n",
        "\n",
        "non_zero_neg_diff = []\n",
        "\n",
        "for i in diffArr:\n",
        "  if i < 0:\n",
        "    non_zero_neg_diff.append(i)\n",
        "print(\"non_zero_neg_diff length : \",len(non_zero_neg_diff))\n"
      ],
      "execution_count": 173,
      "outputs": [
        {
          "output_type": "stream",
          "text": [
            "length diffArr:  700\n",
            "non_zero_neg_diff length :  72\n"
          ],
          "name": "stdout"
        }
      ]
    },
    {
      "cell_type": "code",
      "metadata": {
        "id": "rZLSYL2ErPLg",
        "outputId": "5502fb1b-c112-44e6-8668-18ad2991c245",
        "colab": {
          "base_uri": "https://localhost:8080/",
          "height": 101
        }
      },
      "source": [
        "stdDev = np.std(non_zero_neg_diff)\n",
        "variance = np.var(non_zero_neg_diff)\n",
        "mean = np.mean(non_zero_neg_diff)\n",
        "min = np.min(non_zero_neg_diff)\n",
        "max = np.max(non_zero_neg_diff)\n",
        "\n",
        "\n",
        "print(\"min \",min)\n",
        "print(\"max \",max)\n",
        "\n",
        "print(\"mean \",mean)\n",
        "print(\"std. deviation \",stdDev)\n",
        "print(\"variance \",variance)"
      ],
      "execution_count": 174,
      "outputs": [
        {
          "output_type": "stream",
          "text": [
            "min  -5.456357388316149\n",
            "max  -6.938893903907228e-18\n",
            "mean  -0.15023297298587315\n",
            "std. deviation  0.8810634848931068\n",
            "variance  0.7762728644119858\n"
          ],
          "name": "stdout"
        }
      ]
    },
    {
      "cell_type": "markdown",
      "metadata": {
        "id": "mQRdJ745rodL"
      },
      "source": [
        "### Trying natural breaks"
      ]
    },
    {
      "cell_type": "code",
      "metadata": {
        "id": "2sF_7a0JS-V-",
        "outputId": "01ba5d6d-afc0-4f03-ace3-ebd2dda8670b",
        "colab": {
          "base_uri": "https://localhost:8080/",
          "height": 34
        }
      },
      "source": [
        "!pip install jenkspy\n"
      ],
      "execution_count": 175,
      "outputs": [
        {
          "output_type": "stream",
          "text": [
            "Requirement already satisfied: jenkspy in /usr/local/lib/python3.6/dist-packages (0.1.6)\n"
          ],
          "name": "stdout"
        }
      ]
    },
    {
      "cell_type": "code",
      "metadata": {
        "id": "zJRm1D4trtxz"
      },
      "source": [
        "import jenkspy"
      ],
      "execution_count": 176,
      "outputs": []
    },
    {
      "cell_type": "code",
      "metadata": {
        "id": "nVosTAisroJc",
        "outputId": "bc3fbe80-4b9f-4302-f237-85a892be81b2",
        "colab": {
          "base_uri": "https://localhost:8080/",
          "height": 50
        }
      },
      "source": [
        "pos_breaks = jenkspy.jenks_breaks(non_zero_pos_diff, nb_class=2)\n",
        "print(pos_breaks)\n",
        "neg_breaks = jenkspy.jenks_breaks(non_zero_neg_diff, nb_class=2)\n",
        "print(neg_breaks)"
      ],
      "execution_count": 177,
      "outputs": [
        {
          "output_type": "stream",
          "text": [
            "[3.537345784081112e-18, 0.08344072164948449, 5.466666666666666]\n",
            "[-5.456357388316149, -5.26666666666667, -6.938893903907228e-18]\n"
          ],
          "name": "stdout"
        }
      ]
    },
    {
      "cell_type": "markdown",
      "metadata": {
        "id": "smFQZ2vXKIZh"
      },
      "source": [
        "##### **Note**: \n",
        "From the positive and negative break, \n",
        "* [ -0.012359, 0.000374 ] - flat growth\n",
        "* [ 0.000374, 21.813186 ] - mild growth\n",
        "* [ 21.813186, 95.421053 ] - drastic growth\n",
        "* [ -0.012359, -21.813186 ] - mild decrement\n",
        "* [ -21.813186, -95.421053 ] - drastic decrement"
      ]
    },
    {
      "cell_type": "code",
      "metadata": {
        "id": "r0dbfo4qO7TO",
        "outputId": "ce85eb78-f005-4529-f7b6-b8d6dadb2198",
        "colab": {
          "base_uri": "https://localhost:8080/",
          "height": 69
        }
      },
      "source": [
        "# original range for CA combined data\n",
        "\n",
        "'''\n",
        "def determine_growth_label(x):\n",
        "  if x >= -0.012359 and x <= 0.000374:\n",
        "    return 'flat_growth'\n",
        "  if x > 0.000374 and x <= 21.813186:\n",
        "    return 'mild_growth'\n",
        "  if x > 21.813186 and x <= 95.421053:\n",
        "    return 'drastic_growth'\n",
        "  if x >= -21.813186  and x <= -0.012359:\n",
        "    return 'mild_decrement'\n",
        "  if x >= -95.421053 and x < -21.813186:\n",
        "    return 'drastic_decrement'\n",
        "'''\n"
      ],
      "execution_count": 178,
      "outputs": [
        {
          "output_type": "execute_result",
          "data": {
            "application/vnd.google.colaboratory.intrinsic+json": {
              "type": "string"
            },
            "text/plain": [
              "\"\\ndef determine_growth_label(x):\\n  if x >= -0.012359 and x <= 0.000374:\\n    return 'flat_growth'\\n  if x > 0.000374 and x <= 21.813186:\\n    return 'mild_growth'\\n  if x > 21.813186 and x <= 95.421053:\\n    return 'drastic_growth'\\n  if x >= -21.813186  and x <= -0.012359:\\n    return 'mild_decrement'\\n  if x >= -95.421053 and x < -21.813186:\\n    return 'drastic_decrement'\\n\""
            ]
          },
          "metadata": {
            "tags": []
          },
          "execution_count": 178
        }
      ]
    },
    {
      "cell_type": "code",
      "metadata": {
        "id": "CyPxf5FUBN6W"
      },
      "source": [
        "# temporarily using NY combined data range for CA\n",
        "def determine_growth_label(x):\n",
        "  if x >= -0.002109 and x <= 0.00011:\n",
        "    return 'flat_growth'\n",
        "  if x > 0.00011 and x <= 39.5:\n",
        "    return 'mild_growth'\n",
        "  if x > 39.5 and x <= 410.1818:\n",
        "    return 'drastic_growth'\n",
        "  if x >= -39.5  and x <= -0.0021:\n",
        "    return 'mild_decrement'\n",
        "  if x >= -410.18 and x < -39.5:\n",
        "    return 'drastic_decrement'"
      ],
      "execution_count": 179,
      "outputs": []
    },
    {
      "cell_type": "code",
      "metadata": {
        "id": "DSpPz5ouLV7F"
      },
      "source": [
        "average_newCases_df2['growth_label'] = average_newCases_df2['growth_per_day'].apply(lambda x: determine_growth_label(x) )"
      ],
      "execution_count": 180,
      "outputs": []
    },
    {
      "cell_type": "code",
      "metadata": {
        "id": "SWM4TD1xQIU2",
        "outputId": "c371ceac-bee5-4081-b436-fa0da13c214b",
        "colab": {
          "base_uri": "https://localhost:8080/",
          "height": 195
        }
      },
      "source": [
        "average_newCases_df2.head()"
      ],
      "execution_count": 181,
      "outputs": [
        {
          "output_type": "execute_result",
          "data": {
            "text/html": [
              "<div>\n",
              "<style scoped>\n",
              "    .dataframe tbody tr th:only-of-type {\n",
              "        vertical-align: middle;\n",
              "    }\n",
              "\n",
              "    .dataframe tbody tr th {\n",
              "        vertical-align: top;\n",
              "    }\n",
              "\n",
              "    .dataframe thead th {\n",
              "        text-align: right;\n",
              "    }\n",
              "</style>\n",
              "<table border=\"1\" class=\"dataframe\">\n",
              "  <thead>\n",
              "    <tr style=\"text-align: right;\">\n",
              "      <th></th>\n",
              "      <th>County Name</th>\n",
              "      <th>fips_x</th>\n",
              "      <th>average_per_week</th>\n",
              "      <th>startDate</th>\n",
              "      <th>endDate</th>\n",
              "      <th>diff_avg_x</th>\n",
              "      <th>shift_avg_x</th>\n",
              "      <th>percent_newcases</th>\n",
              "      <th>growth_per_day</th>\n",
              "      <th>growth_label</th>\n",
              "    </tr>\n",
              "  </thead>\n",
              "  <tbody>\n",
              "    <tr>\n",
              "      <th>0</th>\n",
              "      <td>Alameda County</td>\n",
              "      <td>6001</td>\n",
              "      <td>0.0</td>\n",
              "      <td>2020-03-01</td>\n",
              "      <td>2020-03-14</td>\n",
              "      <td>0.0</td>\n",
              "      <td>NaN</td>\n",
              "      <td>0.0</td>\n",
              "      <td>0.0</td>\n",
              "      <td>flat_growth</td>\n",
              "    </tr>\n",
              "    <tr>\n",
              "      <th>1</th>\n",
              "      <td>Amador County</td>\n",
              "      <td>6005</td>\n",
              "      <td>0.0</td>\n",
              "      <td>2020-03-01</td>\n",
              "      <td>2020-03-14</td>\n",
              "      <td>0.0</td>\n",
              "      <td>NaN</td>\n",
              "      <td>0.0</td>\n",
              "      <td>0.0</td>\n",
              "      <td>flat_growth</td>\n",
              "    </tr>\n",
              "    <tr>\n",
              "      <th>2</th>\n",
              "      <td>Butte County</td>\n",
              "      <td>6007</td>\n",
              "      <td>0.0</td>\n",
              "      <td>2020-03-01</td>\n",
              "      <td>2020-03-14</td>\n",
              "      <td>0.0</td>\n",
              "      <td>NaN</td>\n",
              "      <td>0.0</td>\n",
              "      <td>0.0</td>\n",
              "      <td>flat_growth</td>\n",
              "    </tr>\n",
              "    <tr>\n",
              "      <th>3</th>\n",
              "      <td>Calaveras County</td>\n",
              "      <td>6009</td>\n",
              "      <td>0.0</td>\n",
              "      <td>2020-03-01</td>\n",
              "      <td>2020-03-14</td>\n",
              "      <td>0.0</td>\n",
              "      <td>NaN</td>\n",
              "      <td>0.0</td>\n",
              "      <td>0.0</td>\n",
              "      <td>flat_growth</td>\n",
              "    </tr>\n",
              "    <tr>\n",
              "      <th>4</th>\n",
              "      <td>Colusa County</td>\n",
              "      <td>6011</td>\n",
              "      <td>0.0</td>\n",
              "      <td>2020-03-01</td>\n",
              "      <td>2020-03-14</td>\n",
              "      <td>0.0</td>\n",
              "      <td>NaN</td>\n",
              "      <td>0.0</td>\n",
              "      <td>0.0</td>\n",
              "      <td>flat_growth</td>\n",
              "    </tr>\n",
              "  </tbody>\n",
              "</table>\n",
              "</div>"
            ],
            "text/plain": [
              "        County Name  fips_x  ...  growth_per_day growth_label\n",
              "0    Alameda County    6001  ...             0.0  flat_growth\n",
              "1     Amador County    6005  ...             0.0  flat_growth\n",
              "2      Butte County    6007  ...             0.0  flat_growth\n",
              "3  Calaveras County    6009  ...             0.0  flat_growth\n",
              "4     Colusa County    6011  ...             0.0  flat_growth\n",
              "\n",
              "[5 rows x 10 columns]"
            ]
          },
          "metadata": {
            "tags": []
          },
          "execution_count": 181
        }
      ]
    },
    {
      "cell_type": "code",
      "metadata": {
        "id": "ttzhPSknEvVY",
        "outputId": "415e3485-d62f-4986-f9f4-f3e3be2ddd37",
        "colab": {
          "base_uri": "https://localhost:8080/",
          "height": 101
        }
      },
      "source": [
        "average_newCases_df2_growth0 = average_newCases_df2[average_newCases_df2['growth_label'] == 'drastic_decrement']\n",
        "average_newCases_df2_growth1 = average_newCases_df2[average_newCases_df2['growth_label'] == 'drastic_growth']\n",
        "average_newCases_df2_growth2 = average_newCases_df2[average_newCases_df2['growth_label'] == 'flat_growth']\n",
        "average_newCases_df2_growth3 = average_newCases_df2[average_newCases_df2['growth_label'] == 'mild_decrement']\n",
        "average_newCases_df2_growth4 = average_newCases_df2[average_newCases_df2['growth_label'] == 'mild_growth']\n",
        "\n",
        "print(average_newCases_df2_growth0.shape)\n",
        "print(average_newCases_df2_growth1.shape)\n",
        "print(average_newCases_df2_growth2.shape)\n",
        "print(average_newCases_df2_growth3.shape)\n",
        "print(average_newCases_df2_growth4.shape)"
      ],
      "execution_count": 182,
      "outputs": [
        {
          "output_type": "stream",
          "text": [
            "(0, 10)\n",
            "(0, 10)\n",
            "(694, 10)\n",
            "(4, 10)\n",
            "(3, 10)\n"
          ],
          "name": "stdout"
        }
      ]
    },
    {
      "cell_type": "markdown",
      "metadata": {
        "id": "ULGk6w4CShh5"
      },
      "source": [
        "## Jenks Natural breaks "
      ]
    },
    {
      "cell_type": "code",
      "metadata": {
        "id": "MwVDiwoYVV10",
        "outputId": "642a8adb-cf1f-4986-c5eb-91e2a8b9f5ce",
        "colab": {
          "base_uri": "https://localhost:8080/",
          "height": 34
        }
      },
      "source": [
        "breaks = jenkspy.jenks_breaks(average_newCases_df2['percent_newcases'], nb_class=3)\n",
        "print(breaks)"
      ],
      "execution_count": 183,
      "outputs": [
        {
          "output_type": "stream",
          "text": [
            "[-2.523234146875355e-16, 0.09375000000000003, 5.4666666666666694, 10.733333333333338]\n"
          ],
          "name": "stdout"
        }
      ]
    },
    {
      "cell_type": "code",
      "metadata": {
        "id": "eqIJ2utVr6Wl",
        "outputId": "bbc55ea9-256c-4859-cde0-cbae9ae48b6d",
        "colab": {
          "base_uri": "https://localhost:8080/",
          "height": 54
        }
      },
      "source": [
        "breaks = jenkspy.jenks_breaks(average_newCases_df2['percent_newcases'], nb_class=8)\n",
        "print(breaks)"
      ],
      "execution_count": 184,
      "outputs": [
        {
          "output_type": "stream",
          "text": [
            "[-2.523234146875355e-16, 2.754895842742325e-16, 0.010309278350515535, 0.010309278350515542, 0.01030927835051564, 0.09375000000000003, 5.466666666666665, 5.4666666666666694, 10.733333333333338]\n"
          ],
          "name": "stdout"
        }
      ]
    },
    {
      "cell_type": "markdown",
      "metadata": {
        "id": "0Ulmo-y1WSGr"
      },
      "source": [
        "### Labeling criteria\n",
        "\n",
        "We have applied \"jenks Natural breaks' to label the county data as per 'percent change in cases'\n",
        "\n",
        "From the natural break algorithm, we have splited the data as follows \n",
        "\n",
        "* -1.136 to 3.642 is **label 1** (least chance of spreading) \n",
        "\n",
        "* 3.642 to 13.625 is **label 2** (Below threshold but chances to reach super spread level)\n",
        "\n",
        "* 13.625 to 410.181818 is **label 3** (Super spread week)"
      ]
    },
    {
      "cell_type": "code",
      "metadata": {
        "id": "L6DpanhdVp_W"
      },
      "source": [
        "average_newCases_df2['labels'] = pd.cut(average_newCases_df2['percent_newcases'],\n",
        "                        bins=breaks,\n",
        "                        labels=['LessSpread','Spread', 'SuperSpread1','SuperSpread2','SuperSpread3','SuperSpread4','SuperSpread5','SuperSpread6'])"
      ],
      "execution_count": 185,
      "outputs": []
    },
    {
      "cell_type": "code",
      "metadata": {
        "id": "lK9bMtBQVqlb",
        "outputId": "d1d9853a-a4c2-4dae-ddec-eaf22e7938f2",
        "colab": {
          "base_uri": "https://localhost:8080/",
          "height": 151
        }
      },
      "source": [
        "print('Number of records in LessSpread:',average_newCases_df2[average_newCases_df2['labels'] == 'LessSpread']['County Name'].count())\n",
        "print('Number of records in Spread:',average_newCases_df2[average_newCases_df2['labels'] == 'Spread']['County Name'].count())\n",
        "print('Number of records in SuperSpread:',average_newCases_df2[average_newCases_df2['labels'] == 'SuperSpread1']['County Name'].count())\n",
        "print('Number of records in SuperSpread2:',average_newCases_df2[average_newCases_df2['labels'] == 'SuperSpread2']['County Name'].count())\n",
        "\n",
        "\n",
        "print('Number of records in SuperSpread3:',average_newCases_df2[average_newCases_df2['labels'] == 'SuperSpread3']['County Name'].count())\n",
        "\n",
        "print('Number of records in SuperSpread4:',average_newCases_df2[average_newCases_df2['labels'] == 'SuperSpread4']['County Name'].count())\n",
        "\n",
        "print('Number of records in SuperSpread5:',average_newCases_df2[average_newCases_df2['labels'] == 'SuperSpread5']['County Name'].count())\n",
        "\n",
        "print('Number of records in SuperSpread6:',average_newCases_df2[average_newCases_df2['labels'] == 'SuperSpread6']['County Name'].count())\n",
        "\n",
        "\n"
      ],
      "execution_count": 186,
      "outputs": [
        {
          "output_type": "stream",
          "text": [
            "Number of records in LessSpread: 592\n",
            "Number of records in Spread: 43\n",
            "Number of records in SuperSpread: 2\n",
            "Number of records in SuperSpread2: 8\n",
            "Number of records in SuperSpread3: 1\n",
            "Number of records in SuperSpread4: 14\n",
            "Number of records in SuperSpread5: 39\n",
            "Number of records in SuperSpread6: 1\n"
          ],
          "name": "stdout"
        }
      ]
    },
    {
      "cell_type": "code",
      "metadata": {
        "id": "PJfBG526B2XI",
        "outputId": "93d94eca-7737-40fb-f873-2c4f75becfcd",
        "colab": {
          "base_uri": "https://localhost:8080/",
          "height": 34
        }
      },
      "source": [
        "import jenkspy\n",
        "\n",
        "breaks = jenkspy.jenks_breaks(average_newCases_df2['percent_newcases'], nb_class=4)\n",
        "print(breaks)"
      ],
      "execution_count": 187,
      "outputs": [
        {
          "output_type": "stream",
          "text": [
            "[-2.523234146875355e-16, 0.01030927835051564, 0.09375000000000003, 5.4666666666666694, 10.733333333333338]\n"
          ],
          "name": "stdout"
        }
      ]
    },
    {
      "cell_type": "code",
      "metadata": {
        "id": "3Qo3AI_MBTXN"
      },
      "source": [
        "average_newCases_df2['labels'] = pd.cut(average_newCases_df2['percent_newcases'],\n",
        "                        bins=breaks,\n",
        "                        labels=['LessSpread','Spread', 'SuperSpread','SuperSpread2'])"
      ],
      "execution_count": 188,
      "outputs": []
    },
    {
      "cell_type": "code",
      "metadata": {
        "id": "4ok4fwGdBawB",
        "outputId": "a30a5fec-8703-4fa1-ba30-a3e2e9e4f35f",
        "colab": {
          "base_uri": "https://localhost:8080/",
          "height": 84
        }
      },
      "source": [
        "print('Number of records in LessSpread:',average_newCases_df2[average_newCases_df2['labels'] == 'LessSpread']['County Name'].count())\n",
        "print('Number of records in Spread:',average_newCases_df2[average_newCases_df2['labels'] == 'Spread']['County Name'].count())\n",
        "print('Number of records in SuperSpread:',average_newCases_df2[average_newCases_df2['labels'] == 'SuperSpread']['County Name'].count())\n",
        "\n",
        "print('Number of records in SuperSpread:',average_newCases_df2[average_newCases_df2['labels'] == 'SuperSpread2']['County Name'].count())"
      ],
      "execution_count": 189,
      "outputs": [
        {
          "output_type": "stream",
          "text": [
            "Number of records in LessSpread: 645\n",
            "Number of records in Spread: 1\n",
            "Number of records in SuperSpread: 53\n",
            "Number of records in SuperSpread: 1\n"
          ],
          "name": "stdout"
        }
      ]
    },
    {
      "cell_type": "code",
      "metadata": {
        "id": "TwgkrzkQa2c9",
        "outputId": "75ac1f96-bc5a-467d-c79a-bacfaee9e63a",
        "colab": {
          "base_uri": "https://localhost:8080/",
          "height": 296
        }
      },
      "source": [
        "average_newCases_df2.head()"
      ],
      "execution_count": 190,
      "outputs": [
        {
          "output_type": "execute_result",
          "data": {
            "text/html": [
              "<div>\n",
              "<style scoped>\n",
              "    .dataframe tbody tr th:only-of-type {\n",
              "        vertical-align: middle;\n",
              "    }\n",
              "\n",
              "    .dataframe tbody tr th {\n",
              "        vertical-align: top;\n",
              "    }\n",
              "\n",
              "    .dataframe thead th {\n",
              "        text-align: right;\n",
              "    }\n",
              "</style>\n",
              "<table border=\"1\" class=\"dataframe\">\n",
              "  <thead>\n",
              "    <tr style=\"text-align: right;\">\n",
              "      <th></th>\n",
              "      <th>County Name</th>\n",
              "      <th>fips_x</th>\n",
              "      <th>average_per_week</th>\n",
              "      <th>startDate</th>\n",
              "      <th>endDate</th>\n",
              "      <th>diff_avg_x</th>\n",
              "      <th>shift_avg_x</th>\n",
              "      <th>percent_newcases</th>\n",
              "      <th>growth_per_day</th>\n",
              "      <th>growth_label</th>\n",
              "      <th>labels</th>\n",
              "    </tr>\n",
              "  </thead>\n",
              "  <tbody>\n",
              "    <tr>\n",
              "      <th>0</th>\n",
              "      <td>Alameda County</td>\n",
              "      <td>6001</td>\n",
              "      <td>0.0</td>\n",
              "      <td>2020-03-01</td>\n",
              "      <td>2020-03-14</td>\n",
              "      <td>0.0</td>\n",
              "      <td>NaN</td>\n",
              "      <td>0.0</td>\n",
              "      <td>0.0</td>\n",
              "      <td>flat_growth</td>\n",
              "      <td>LessSpread</td>\n",
              "    </tr>\n",
              "    <tr>\n",
              "      <th>1</th>\n",
              "      <td>Amador County</td>\n",
              "      <td>6005</td>\n",
              "      <td>0.0</td>\n",
              "      <td>2020-03-01</td>\n",
              "      <td>2020-03-14</td>\n",
              "      <td>0.0</td>\n",
              "      <td>NaN</td>\n",
              "      <td>0.0</td>\n",
              "      <td>0.0</td>\n",
              "      <td>flat_growth</td>\n",
              "      <td>LessSpread</td>\n",
              "    </tr>\n",
              "    <tr>\n",
              "      <th>2</th>\n",
              "      <td>Butte County</td>\n",
              "      <td>6007</td>\n",
              "      <td>0.0</td>\n",
              "      <td>2020-03-01</td>\n",
              "      <td>2020-03-14</td>\n",
              "      <td>0.0</td>\n",
              "      <td>NaN</td>\n",
              "      <td>0.0</td>\n",
              "      <td>0.0</td>\n",
              "      <td>flat_growth</td>\n",
              "      <td>LessSpread</td>\n",
              "    </tr>\n",
              "    <tr>\n",
              "      <th>3</th>\n",
              "      <td>Calaveras County</td>\n",
              "      <td>6009</td>\n",
              "      <td>0.0</td>\n",
              "      <td>2020-03-01</td>\n",
              "      <td>2020-03-14</td>\n",
              "      <td>0.0</td>\n",
              "      <td>NaN</td>\n",
              "      <td>0.0</td>\n",
              "      <td>0.0</td>\n",
              "      <td>flat_growth</td>\n",
              "      <td>LessSpread</td>\n",
              "    </tr>\n",
              "    <tr>\n",
              "      <th>4</th>\n",
              "      <td>Colusa County</td>\n",
              "      <td>6011</td>\n",
              "      <td>0.0</td>\n",
              "      <td>2020-03-01</td>\n",
              "      <td>2020-03-14</td>\n",
              "      <td>0.0</td>\n",
              "      <td>NaN</td>\n",
              "      <td>0.0</td>\n",
              "      <td>0.0</td>\n",
              "      <td>flat_growth</td>\n",
              "      <td>LessSpread</td>\n",
              "    </tr>\n",
              "  </tbody>\n",
              "</table>\n",
              "</div>"
            ],
            "text/plain": [
              "        County Name  fips_x  ...  growth_label      labels\n",
              "0    Alameda County    6001  ...   flat_growth  LessSpread\n",
              "1     Amador County    6005  ...   flat_growth  LessSpread\n",
              "2      Butte County    6007  ...   flat_growth  LessSpread\n",
              "3  Calaveras County    6009  ...   flat_growth  LessSpread\n",
              "4     Colusa County    6011  ...   flat_growth  LessSpread\n",
              "\n",
              "[5 rows x 11 columns]"
            ]
          },
          "metadata": {
            "tags": []
          },
          "execution_count": 190
        }
      ]
    },
    {
      "cell_type": "markdown",
      "metadata": {
        "id": "kwYv-bCaaqa3"
      },
      "source": [
        "# 1.3 Labeling data for CA combined"
      ]
    },
    {
      "cell_type": "code",
      "metadata": {
        "id": "ljkRfq8q4z6E",
        "outputId": "b131fda2-1a40-47c2-d612-5ff9818fec1f",
        "colab": {
          "base_uri": "https://localhost:8080/",
          "height": 194
        }
      },
      "source": [
        "CA_combined_data.head(2)"
      ],
      "execution_count": 191,
      "outputs": [
        {
          "output_type": "execute_result",
          "data": {
            "text/html": [
              "<div>\n",
              "<style scoped>\n",
              "    .dataframe tbody tr th:only-of-type {\n",
              "        vertical-align: middle;\n",
              "    }\n",
              "\n",
              "    .dataframe tbody tr th {\n",
              "        vertical-align: top;\n",
              "    }\n",
              "\n",
              "    .dataframe thead th {\n",
              "        text-align: right;\n",
              "    }\n",
              "</style>\n",
              "<table border=\"1\" class=\"dataframe\">\n",
              "  <thead>\n",
              "    <tr style=\"text-align: right;\">\n",
              "      <th></th>\n",
              "      <th>Date</th>\n",
              "      <th>fips_x</th>\n",
              "      <th>County Name</th>\n",
              "      <th>retail and recreation</th>\n",
              "      <th>grocery and pharmacy</th>\n",
              "      <th>parks</th>\n",
              "      <th>transit stations</th>\n",
              "      <th>workplaces</th>\n",
              "      <th>residential</th>\n",
              "      <th>driving</th>\n",
              "      <th>m50</th>\n",
              "      <th>m50_index</th>\n",
              "      <th>population_density</th>\n",
              "      <th>mask_rule_active</th>\n",
              "      <th>mask_wearing_percent</th>\n",
              "      <th>New cases</th>\n",
              "      <th>rolling_avg_new_cases</th>\n",
              "      <th>population</th>\n",
              "    </tr>\n",
              "  </thead>\n",
              "  <tbody>\n",
              "    <tr>\n",
              "      <th>0</th>\n",
              "      <td>2020-03-01</td>\n",
              "      <td>6001</td>\n",
              "      <td>Alameda County</td>\n",
              "      <td>6.0</td>\n",
              "      <td>9.0</td>\n",
              "      <td>15.0</td>\n",
              "      <td>1.0</td>\n",
              "      <td>4.0</td>\n",
              "      <td>0.0</td>\n",
              "      <td>-7.65</td>\n",
              "      <td>3.684</td>\n",
              "      <td>58</td>\n",
              "      <td>2261.547725</td>\n",
              "      <td>0</td>\n",
              "      <td>0.0</td>\n",
              "      <td>0</td>\n",
              "      <td>0.0</td>\n",
              "      <td>1671329.0</td>\n",
              "    </tr>\n",
              "    <tr>\n",
              "      <th>5240</th>\n",
              "      <td>2020-03-01</td>\n",
              "      <td>6067</td>\n",
              "      <td>Sacramento County</td>\n",
              "      <td>11.0</td>\n",
              "      <td>4.0</td>\n",
              "      <td>26.0</td>\n",
              "      <td>1.0</td>\n",
              "      <td>2.0</td>\n",
              "      <td>-1.0</td>\n",
              "      <td>-4.63</td>\n",
              "      <td>3.773</td>\n",
              "      <td>53</td>\n",
              "      <td>1608.950489</td>\n",
              "      <td>0</td>\n",
              "      <td>0.0</td>\n",
              "      <td>0</td>\n",
              "      <td>0.0</td>\n",
              "      <td>1552058.0</td>\n",
              "    </tr>\n",
              "  </tbody>\n",
              "</table>\n",
              "</div>"
            ],
            "text/plain": [
              "            Date  fips_x  ... rolling_avg_new_cases  population\n",
              "0     2020-03-01    6001  ...                   0.0   1671329.0\n",
              "5240  2020-03-01    6067  ...                   0.0   1552058.0\n",
              "\n",
              "[2 rows x 18 columns]"
            ]
          },
          "metadata": {
            "tags": []
          },
          "execution_count": 191
        }
      ]
    },
    {
      "cell_type": "code",
      "metadata": {
        "id": "8oG2cBAVcbKc"
      },
      "source": [
        "CA_combined_data_ = CA_combined_data.copy()"
      ],
      "execution_count": 192,
      "outputs": []
    },
    {
      "cell_type": "code",
      "metadata": {
        "id": "pqyjzzsMc5HS"
      },
      "source": [
        "CA_combined_data = CA_combined_data_.copy().reset_index(drop=True)"
      ],
      "execution_count": 193,
      "outputs": []
    },
    {
      "cell_type": "code",
      "metadata": {
        "id": "TZ5NhI_pa0N9"
      },
      "source": [
        "#average_newCases_df = pd.DataFrame(columns=['County Name',  'fips_x',  'average_per_week','startDate','endDate'])\n",
        "\n",
        "for index, row in (average_newCases_df2.iterrows()):\n",
        "    startDate, endDate = row['startDate'], row['endDate']\n",
        "    fips = row['fips_x']\n",
        "    #print(startDate,endDate,fips)\n",
        "    df_index = (CA_combined_data['fips_x'] == row['fips_x']) & (CA_combined_data['Date'] >= startDate) & (CA_combined_data['Date'] <= endDate)\n",
        "    df_weekData =  CA_combined_data.loc[df_index]\n",
        "    #print(df_weekData)\n",
        "    CA_combined_data.loc[df_index,'label'] = row['labels']\n",
        "    CA_combined_data.loc[df_index,'growth_label'] = row['growth_label']\n",
        "\n",
        "\n"
      ],
      "execution_count": 194,
      "outputs": []
    },
    {
      "cell_type": "code",
      "metadata": {
        "id": "s3fECDK8a0BE",
        "outputId": "53f3eea3-5f31-4d98-d92c-87a6022a7375",
        "colab": {
          "base_uri": "https://localhost:8080/",
          "height": 350
        }
      },
      "source": [
        "CA_combined_data.head()"
      ],
      "execution_count": 195,
      "outputs": [
        {
          "output_type": "execute_result",
          "data": {
            "text/html": [
              "<div>\n",
              "<style scoped>\n",
              "    .dataframe tbody tr th:only-of-type {\n",
              "        vertical-align: middle;\n",
              "    }\n",
              "\n",
              "    .dataframe tbody tr th {\n",
              "        vertical-align: top;\n",
              "    }\n",
              "\n",
              "    .dataframe thead th {\n",
              "        text-align: right;\n",
              "    }\n",
              "</style>\n",
              "<table border=\"1\" class=\"dataframe\">\n",
              "  <thead>\n",
              "    <tr style=\"text-align: right;\">\n",
              "      <th></th>\n",
              "      <th>Date</th>\n",
              "      <th>fips_x</th>\n",
              "      <th>County Name</th>\n",
              "      <th>retail and recreation</th>\n",
              "      <th>grocery and pharmacy</th>\n",
              "      <th>parks</th>\n",
              "      <th>transit stations</th>\n",
              "      <th>workplaces</th>\n",
              "      <th>residential</th>\n",
              "      <th>driving</th>\n",
              "      <th>m50</th>\n",
              "      <th>m50_index</th>\n",
              "      <th>population_density</th>\n",
              "      <th>mask_rule_active</th>\n",
              "      <th>mask_wearing_percent</th>\n",
              "      <th>New cases</th>\n",
              "      <th>rolling_avg_new_cases</th>\n",
              "      <th>population</th>\n",
              "      <th>label</th>\n",
              "      <th>growth_label</th>\n",
              "    </tr>\n",
              "  </thead>\n",
              "  <tbody>\n",
              "    <tr>\n",
              "      <th>0</th>\n",
              "      <td>2020-03-01</td>\n",
              "      <td>6001</td>\n",
              "      <td>Alameda County</td>\n",
              "      <td>6.0</td>\n",
              "      <td>9.0</td>\n",
              "      <td>15.0</td>\n",
              "      <td>1.0</td>\n",
              "      <td>4.0</td>\n",
              "      <td>0.0</td>\n",
              "      <td>-7.65</td>\n",
              "      <td>3.684</td>\n",
              "      <td>58</td>\n",
              "      <td>2261.547725</td>\n",
              "      <td>0</td>\n",
              "      <td>0.0</td>\n",
              "      <td>0</td>\n",
              "      <td>0.0</td>\n",
              "      <td>1671329.0</td>\n",
              "      <td>LessSpread</td>\n",
              "      <td>flat_growth</td>\n",
              "    </tr>\n",
              "    <tr>\n",
              "      <th>1</th>\n",
              "      <td>2020-03-01</td>\n",
              "      <td>6067</td>\n",
              "      <td>Sacramento County</td>\n",
              "      <td>11.0</td>\n",
              "      <td>4.0</td>\n",
              "      <td>26.0</td>\n",
              "      <td>1.0</td>\n",
              "      <td>2.0</td>\n",
              "      <td>-1.0</td>\n",
              "      <td>-4.63</td>\n",
              "      <td>3.773</td>\n",
              "      <td>53</td>\n",
              "      <td>1608.950489</td>\n",
              "      <td>0</td>\n",
              "      <td>0.0</td>\n",
              "      <td>0</td>\n",
              "      <td>0.0</td>\n",
              "      <td>1552058.0</td>\n",
              "      <td>LessSpread</td>\n",
              "      <td>flat_growth</td>\n",
              "    </tr>\n",
              "    <tr>\n",
              "      <th>2</th>\n",
              "      <td>2020-03-01</td>\n",
              "      <td>6069</td>\n",
              "      <td>San Benito County</td>\n",
              "      <td>2.0</td>\n",
              "      <td>-1.0</td>\n",
              "      <td>-7.0</td>\n",
              "      <td>0.0</td>\n",
              "      <td>0.0</td>\n",
              "      <td>0.0</td>\n",
              "      <td>10.40</td>\n",
              "      <td>3.876</td>\n",
              "      <td>33</td>\n",
              "      <td>45.227585</td>\n",
              "      <td>0</td>\n",
              "      <td>0.0</td>\n",
              "      <td>0</td>\n",
              "      <td>0.0</td>\n",
              "      <td>62808.0</td>\n",
              "      <td>LessSpread</td>\n",
              "      <td>flat_growth</td>\n",
              "    </tr>\n",
              "    <tr>\n",
              "      <th>3</th>\n",
              "      <td>2020-03-01</td>\n",
              "      <td>6071</td>\n",
              "      <td>San Bernardino County</td>\n",
              "      <td>5.0</td>\n",
              "      <td>-2.0</td>\n",
              "      <td>-22.0</td>\n",
              "      <td>2.0</td>\n",
              "      <td>-1.0</td>\n",
              "      <td>0.0</td>\n",
              "      <td>10.34</td>\n",
              "      <td>4.508</td>\n",
              "      <td>57</td>\n",
              "      <td>108.694796</td>\n",
              "      <td>0</td>\n",
              "      <td>0.0</td>\n",
              "      <td>0</td>\n",
              "      <td>0.0</td>\n",
              "      <td>2180085.0</td>\n",
              "      <td>LessSpread</td>\n",
              "      <td>flat_growth</td>\n",
              "    </tr>\n",
              "    <tr>\n",
              "      <th>4</th>\n",
              "      <td>2020-03-01</td>\n",
              "      <td>6073</td>\n",
              "      <td>San Diego County</td>\n",
              "      <td>2.0</td>\n",
              "      <td>-1.0</td>\n",
              "      <td>-20.0</td>\n",
              "      <td>-4.0</td>\n",
              "      <td>2.0</td>\n",
              "      <td>0.0</td>\n",
              "      <td>-4.99</td>\n",
              "      <td>4.555</td>\n",
              "      <td>59</td>\n",
              "      <td>793.587741</td>\n",
              "      <td>0</td>\n",
              "      <td>0.0</td>\n",
              "      <td>0</td>\n",
              "      <td>0.0</td>\n",
              "      <td>3338330.0</td>\n",
              "      <td>LessSpread</td>\n",
              "      <td>flat_growth</td>\n",
              "    </tr>\n",
              "  </tbody>\n",
              "</table>\n",
              "</div>"
            ],
            "text/plain": [
              "         Date  fips_x  ...       label  growth_label\n",
              "0  2020-03-01    6001  ...  LessSpread   flat_growth\n",
              "1  2020-03-01    6067  ...  LessSpread   flat_growth\n",
              "2  2020-03-01    6069  ...  LessSpread   flat_growth\n",
              "3  2020-03-01    6071  ...  LessSpread   flat_growth\n",
              "4  2020-03-01    6073  ...  LessSpread   flat_growth\n",
              "\n",
              "[5 rows x 20 columns]"
            ]
          },
          "metadata": {
            "tags": []
          },
          "execution_count": 195
        }
      ]
    },
    {
      "cell_type": "code",
      "metadata": {
        "id": "mnhkDNKndBxo",
        "outputId": "b0c8a616-de4b-48ed-9c26-aba6966c0036",
        "colab": {
          "base_uri": "https://localhost:8080/",
          "height": 370
        }
      },
      "source": [
        "CA_combined_data[CA_combined_data['label'] == 'SuperSpread2'].sort_values(by=['fips_x','Date']).count()"
      ],
      "execution_count": 196,
      "outputs": [
        {
          "output_type": "execute_result",
          "data": {
            "text/plain": [
              "Date                     10\n",
              "fips_x                   10\n",
              "County Name              10\n",
              "retail and recreation    10\n",
              "grocery and pharmacy     10\n",
              "parks                    10\n",
              "transit stations         10\n",
              "workplaces               10\n",
              "residential              10\n",
              "driving                  10\n",
              "m50                      10\n",
              "m50_index                10\n",
              "population_density       10\n",
              "mask_rule_active         10\n",
              "mask_wearing_percent     10\n",
              "New cases                10\n",
              "rolling_avg_new_cases    10\n",
              "population               10\n",
              "label                    10\n",
              "growth_label             10\n",
              "dtype: int64"
            ]
          },
          "metadata": {
            "tags": []
          },
          "execution_count": 196
        }
      ]
    },
    {
      "cell_type": "code",
      "metadata": {
        "id": "BLZRQtP2DI4d",
        "outputId": "156ebe9a-5560-4d47-eda6-9e52e92871be",
        "colab": {
          "base_uri": "https://localhost:8080/",
          "height": 34
        }
      },
      "source": [
        "CA_combined_data.shape"
      ],
      "execution_count": 197,
      "outputs": [
        {
          "output_type": "execute_result",
          "data": {
            "text/plain": [
              "(9196, 20)"
            ]
          },
          "metadata": {
            "tags": []
          },
          "execution_count": 197
        }
      ]
    },
    {
      "cell_type": "code",
      "metadata": {
        "id": "fR-muTmNC98a"
      },
      "source": [
        "CA_combined_data['label'] = CA_combined_data['label'].apply(lambda x: x if x != 'SuperSpread2' else 'SuperSpread')"
      ],
      "execution_count": 198,
      "outputs": []
    },
    {
      "cell_type": "code",
      "metadata": {
        "id": "2XcEK_jsRwEc",
        "outputId": "629e4487-74f0-4026-9a7a-1cd7d5dec0e6",
        "colab": {
          "base_uri": "https://localhost:8080/",
          "height": 370
        }
      },
      "source": [
        "CA_combined_data.dtypes"
      ],
      "execution_count": 199,
      "outputs": [
        {
          "output_type": "execute_result",
          "data": {
            "text/plain": [
              "Date                      object\n",
              "fips_x                     int64\n",
              "County Name               object\n",
              "retail and recreation    float64\n",
              "grocery and pharmacy     float64\n",
              "parks                    float64\n",
              "transit stations         float64\n",
              "workplaces               float64\n",
              "residential              float64\n",
              "driving                  float64\n",
              "m50                      float64\n",
              "m50_index                  int64\n",
              "population_density       float64\n",
              "mask_rule_active           int64\n",
              "mask_wearing_percent     float64\n",
              "New cases                  int64\n",
              "rolling_avg_new_cases    float64\n",
              "population               float64\n",
              "label                     object\n",
              "growth_label              object\n",
              "dtype: object"
            ]
          },
          "metadata": {
            "tags": []
          },
          "execution_count": 199
        }
      ]
    },
    {
      "cell_type": "code",
      "metadata": {
        "id": "gBcXYRsaSnJl",
        "outputId": "e8ff843a-b115-4919-8673-6182e561b1ea",
        "colab": {
          "base_uri": "https://localhost:8080/",
          "height": 370
        }
      },
      "source": [
        "CA_combined_data[CA_combined_data['label'] == 'LessSpread'].count()"
      ],
      "execution_count": 200,
      "outputs": [
        {
          "output_type": "execute_result",
          "data": {
            "text/plain": [
              "Date                     8429\n",
              "fips_x                   8429\n",
              "County Name              8429\n",
              "retail and recreation    8429\n",
              "grocery and pharmacy     8429\n",
              "parks                    8429\n",
              "transit stations         8429\n",
              "workplaces               8429\n",
              "residential              8429\n",
              "driving                  8429\n",
              "m50                      8429\n",
              "m50_index                8429\n",
              "population_density       8429\n",
              "mask_rule_active         8429\n",
              "mask_wearing_percent     8429\n",
              "New cases                8429\n",
              "rolling_avg_new_cases    8429\n",
              "population               8429\n",
              "label                    8429\n",
              "growth_label             8429\n",
              "dtype: int64"
            ]
          },
          "metadata": {
            "tags": []
          },
          "execution_count": 200
        }
      ]
    },
    {
      "cell_type": "code",
      "metadata": {
        "id": "QsfutMGVScnR",
        "outputId": "7905dcbb-a0cb-4a27-8b0c-c0974edf869f",
        "colab": {
          "base_uri": "https://localhost:8080/",
          "height": 370
        }
      },
      "source": [
        "CA_combined_data[CA_combined_data['growth_label'] == 'flat_growth'].count()"
      ],
      "execution_count": 201,
      "outputs": [
        {
          "output_type": "execute_result",
          "data": {
            "text/plain": [
              "Date                     9105\n",
              "fips_x                   9105\n",
              "County Name              9105\n",
              "retail and recreation    9105\n",
              "grocery and pharmacy     9105\n",
              "parks                    9105\n",
              "transit stations         9105\n",
              "workplaces               9105\n",
              "residential              9105\n",
              "driving                  9105\n",
              "m50                      9105\n",
              "m50_index                9105\n",
              "population_density       9105\n",
              "mask_rule_active         9105\n",
              "mask_wearing_percent     9105\n",
              "New cases                9105\n",
              "rolling_avg_new_cases    9105\n",
              "population               9105\n",
              "label                    9101\n",
              "growth_label             9105\n",
              "dtype: int64"
            ]
          },
          "metadata": {
            "tags": []
          },
          "execution_count": 201
        }
      ]
    },
    {
      "cell_type": "markdown",
      "metadata": {
        "id": "2EGwdQ131QFi"
      },
      "source": [
        "## Computing New Cases per 1k Population\n",
        "\n",
        "Formula: 'New Cases/1k population' = (New Cases * 1000)/population"
      ]
    },
    {
      "cell_type": "code",
      "metadata": {
        "id": "qtf3rgUs1ZRi",
        "outputId": "2075e37f-3284-4e07-98bb-1eb39dafb6bc",
        "colab": {
          "base_uri": "https://localhost:8080/",
          "height": 194
        }
      },
      "source": [
        "CA_combined_data['New Cases/1k population'] = CA_combined_data['New cases']*1000/ CA_combined_data['population']\n",
        "CA_combined_data.tail(2)"
      ],
      "execution_count": 202,
      "outputs": [
        {
          "output_type": "execute_result",
          "data": {
            "text/html": [
              "<div>\n",
              "<style scoped>\n",
              "    .dataframe tbody tr th:only-of-type {\n",
              "        vertical-align: middle;\n",
              "    }\n",
              "\n",
              "    .dataframe tbody tr th {\n",
              "        vertical-align: top;\n",
              "    }\n",
              "\n",
              "    .dataframe thead th {\n",
              "        text-align: right;\n",
              "    }\n",
              "</style>\n",
              "<table border=\"1\" class=\"dataframe\">\n",
              "  <thead>\n",
              "    <tr style=\"text-align: right;\">\n",
              "      <th></th>\n",
              "      <th>Date</th>\n",
              "      <th>fips_x</th>\n",
              "      <th>County Name</th>\n",
              "      <th>retail and recreation</th>\n",
              "      <th>grocery and pharmacy</th>\n",
              "      <th>parks</th>\n",
              "      <th>transit stations</th>\n",
              "      <th>workplaces</th>\n",
              "      <th>residential</th>\n",
              "      <th>driving</th>\n",
              "      <th>m50</th>\n",
              "      <th>m50_index</th>\n",
              "      <th>population_density</th>\n",
              "      <th>mask_rule_active</th>\n",
              "      <th>mask_wearing_percent</th>\n",
              "      <th>New cases</th>\n",
              "      <th>rolling_avg_new_cases</th>\n",
              "      <th>population</th>\n",
              "      <th>label</th>\n",
              "      <th>growth_label</th>\n",
              "      <th>New Cases/1k population</th>\n",
              "    </tr>\n",
              "  </thead>\n",
              "  <tbody>\n",
              "    <tr>\n",
              "      <th>9194</th>\n",
              "      <td>2020-08-21</td>\n",
              "      <td>6035</td>\n",
              "      <td>Lassen County</td>\n",
              "      <td>0.0</td>\n",
              "      <td>0.0</td>\n",
              "      <td>0.0</td>\n",
              "      <td>0.0</td>\n",
              "      <td>-24.0</td>\n",
              "      <td>0.0</td>\n",
              "      <td>222.10</td>\n",
              "      <td>3.061</td>\n",
              "      <td>100</td>\n",
              "      <td>6.732391</td>\n",
              "      <td>1</td>\n",
              "      <td>0.482</td>\n",
              "      <td>0</td>\n",
              "      <td>0.482</td>\n",
              "      <td>30573.0</td>\n",
              "      <td>LessSpread</td>\n",
              "      <td>flat_growth</td>\n",
              "      <td>0.000000</td>\n",
              "    </tr>\n",
              "    <tr>\n",
              "      <th>9195</th>\n",
              "      <td>2020-08-21</td>\n",
              "      <td>6115</td>\n",
              "      <td>Yuba County</td>\n",
              "      <td>0.0</td>\n",
              "      <td>0.0</td>\n",
              "      <td>0.0</td>\n",
              "      <td>0.0</td>\n",
              "      <td>-33.0</td>\n",
              "      <td>10.0</td>\n",
              "      <td>84.31</td>\n",
              "      <td>5.820</td>\n",
              "      <td>61</td>\n",
              "      <td>124.506204</td>\n",
              "      <td>1</td>\n",
              "      <td>0.669</td>\n",
              "      <td>8</td>\n",
              "      <td>0.669</td>\n",
              "      <td>78668.0</td>\n",
              "      <td>LessSpread</td>\n",
              "      <td>flat_growth</td>\n",
              "      <td>0.101693</td>\n",
              "    </tr>\n",
              "  </tbody>\n",
              "</table>\n",
              "</div>"
            ],
            "text/plain": [
              "            Date  fips_x  ... growth_label  New Cases/1k population\n",
              "9194  2020-08-21    6035  ...  flat_growth                 0.000000\n",
              "9195  2020-08-21    6115  ...  flat_growth                 0.101693\n",
              "\n",
              "[2 rows x 21 columns]"
            ]
          },
          "metadata": {
            "tags": []
          },
          "execution_count": 202
        }
      ]
    },
    {
      "cell_type": "code",
      "metadata": {
        "id": "QkWIXBiW2MRI"
      },
      "source": [
        "new_cases_10k_list = CA_combined_data['New Cases/1k population'].values"
      ],
      "execution_count": 203,
      "outputs": []
    },
    {
      "cell_type": "code",
      "metadata": {
        "id": "UjLIvPB73HN1",
        "outputId": "d23553a9-bc68-440a-8c7f-fb9a968bc19e",
        "colab": {
          "base_uri": "https://localhost:8080/",
          "height": 67
        }
      },
      "source": [
        "diffArr = np.diff(new_cases_10k_list)\n",
        "print(len(diffArr))\n",
        "diffArr[0]\n",
        "\n",
        "growth_values =[]\n",
        "growth_values.append(0.0) # making first value as 0, as np.diff leaves first values as NA\n",
        "print('growth_values : ',len(growth_values))\n",
        "growth_values.extend(diffArr)\n",
        "print('growth_values : ',len(growth_values))"
      ],
      "execution_count": 204,
      "outputs": [
        {
          "output_type": "stream",
          "text": [
            "9195\n",
            "growth_values :  1\n",
            "growth_values :  9196\n"
          ],
          "name": "stdout"
        }
      ]
    },
    {
      "cell_type": "code",
      "metadata": {
        "id": "-iFqEAwd3OEB",
        "outputId": "30b0e9c4-d129-49ba-8492-f0c71dd6ebb2",
        "colab": {
          "base_uri": "https://localhost:8080/",
          "height": 101
        }
      },
      "source": [
        "stdDev = np.std(diffArr)\n",
        "variance = np.var(diffArr)\n",
        "mean = np.mean(diffArr)\n",
        "min = np.min(diffArr)\n",
        "max = np.max(diffArr)\n",
        "\n",
        "\n",
        "print(\"min \",min)\n",
        "print(\"max \",max)\n",
        "\n",
        "print(\"mean \",mean)\n",
        "print(\"std. deviation \",stdDev)\n",
        "print(\"variance \",variance)"
      ],
      "execution_count": 205,
      "outputs": [
        {
          "output_type": "stream",
          "text": [
            "min  -3.8230281887128026\n",
            "max  3.960127989407119\n",
            "mean  1.1059618449245788e-05\n",
            "std. deviation  0.24857264730595022\n",
            "variance  0.061788360988688326\n"
          ],
          "name": "stdout"
        }
      ]
    },
    {
      "cell_type": "markdown",
      "metadata": {
        "id": "SLjuB65sNHYF"
      },
      "source": [
        "## Getting positive cases"
      ]
    },
    {
      "cell_type": "code",
      "metadata": {
        "id": "EonxUuapNVL-",
        "outputId": "03765ec6-f82a-43c9-b2f7-d676b6dcbc94",
        "colab": {
          "base_uri": "https://localhost:8080/",
          "height": 134
        }
      },
      "source": [
        "print('length diffArr: ',len(diffArr))\n",
        "\n",
        "non_zero_pos_diff = []\n",
        "\n",
        "for i in diffArr:\n",
        "  if i > 0:\n",
        "    non_zero_pos_diff.append(i)\n",
        "\n",
        "print('non_zero_pos_diff length: ',len(non_zero_pos_diff))\n",
        "\n",
        "\n",
        "stdDev = np.std(non_zero_pos_diff)\n",
        "variance = np.var(non_zero_pos_diff)\n",
        "mean = np.mean(non_zero_pos_diff)\n",
        "min = np.min(non_zero_pos_diff)\n",
        "max = np.max(non_zero_pos_diff)\n",
        "\n",
        "\n",
        "print(\"min \",min)\n",
        "print(\"max \",max)\n",
        "\n",
        "print(\"mean \",mean)\n",
        "print(\"std. deviation \",stdDev)\n",
        "print(\"variance \",variance)"
      ],
      "execution_count": 206,
      "outputs": [
        {
          "output_type": "stream",
          "text": [
            "length diffArr:  9195\n",
            "non_zero_pos_diff length:  3594\n",
            "min  5.2680092775606036e-05\n",
            "max  3.960127989407119\n",
            "mean  0.12711974477163043\n",
            "std. deviation  0.25049541298583716\n",
            "variance  0.06274795192694511\n"
          ],
          "name": "stdout"
        }
      ]
    },
    {
      "cell_type": "markdown",
      "metadata": {
        "id": "5bRmnuAnNHgJ"
      },
      "source": [
        "## Getting negative cases\n"
      ]
    },
    {
      "cell_type": "code",
      "metadata": {
        "id": "_mLQel96NZB5",
        "outputId": "1a5f12a2-61b1-441a-c821-fc3782ba7f40",
        "colab": {
          "base_uri": "https://localhost:8080/",
          "height": 118
        }
      },
      "source": [
        "non_zero_neg_diff = []\n",
        "\n",
        "for i in diffArr:\n",
        "  if i < 0:\n",
        "    non_zero_neg_diff.append(i)\n",
        "print(\"non_zero_neg_diff length : \",len(non_zero_neg_diff))\n",
        "\n",
        "stdDev = np.std(non_zero_neg_diff)\n",
        "variance = np.var(non_zero_neg_diff)\n",
        "mean = np.mean(non_zero_neg_diff)\n",
        "min = np.min(non_zero_neg_diff)\n",
        "max = np.max(non_zero_neg_diff)\n",
        "\n",
        "\n",
        "print(\"min \",min)\n",
        "print(\"max \",max)\n",
        "\n",
        "print(\"mean \",mean)\n",
        "print(\"std. deviation \",stdDev)\n",
        "print(\"variance \",variance)\n"
      ],
      "execution_count": 207,
      "outputs": [
        {
          "output_type": "stream",
          "text": [
            "non_zero_neg_diff length :  3583\n",
            "min  -3.8230281887128026\n",
            "max  -8.310897482368892e-06\n",
            "mean  -0.12748162699346885\n",
            "std. deviation  0.2513272017941629\n",
            "variance  0.0631653623616839\n"
          ],
          "name": "stdout"
        }
      ]
    },
    {
      "cell_type": "code",
      "metadata": {
        "id": "d0BmZ9SEJ8ua",
        "outputId": "3d6a832c-eeaa-4a3c-e842-d28177d53501",
        "colab": {
          "base_uri": "https://localhost:8080/",
          "height": 350
        }
      },
      "source": [
        "CA_combined_data.head()"
      ],
      "execution_count": 208,
      "outputs": [
        {
          "output_type": "execute_result",
          "data": {
            "text/html": [
              "<div>\n",
              "<style scoped>\n",
              "    .dataframe tbody tr th:only-of-type {\n",
              "        vertical-align: middle;\n",
              "    }\n",
              "\n",
              "    .dataframe tbody tr th {\n",
              "        vertical-align: top;\n",
              "    }\n",
              "\n",
              "    .dataframe thead th {\n",
              "        text-align: right;\n",
              "    }\n",
              "</style>\n",
              "<table border=\"1\" class=\"dataframe\">\n",
              "  <thead>\n",
              "    <tr style=\"text-align: right;\">\n",
              "      <th></th>\n",
              "      <th>Date</th>\n",
              "      <th>fips_x</th>\n",
              "      <th>County Name</th>\n",
              "      <th>retail and recreation</th>\n",
              "      <th>grocery and pharmacy</th>\n",
              "      <th>parks</th>\n",
              "      <th>transit stations</th>\n",
              "      <th>workplaces</th>\n",
              "      <th>residential</th>\n",
              "      <th>driving</th>\n",
              "      <th>m50</th>\n",
              "      <th>m50_index</th>\n",
              "      <th>population_density</th>\n",
              "      <th>mask_rule_active</th>\n",
              "      <th>mask_wearing_percent</th>\n",
              "      <th>New cases</th>\n",
              "      <th>rolling_avg_new_cases</th>\n",
              "      <th>population</th>\n",
              "      <th>label</th>\n",
              "      <th>growth_label</th>\n",
              "      <th>New Cases/1k population</th>\n",
              "    </tr>\n",
              "  </thead>\n",
              "  <tbody>\n",
              "    <tr>\n",
              "      <th>0</th>\n",
              "      <td>2020-03-01</td>\n",
              "      <td>6001</td>\n",
              "      <td>Alameda County</td>\n",
              "      <td>6.0</td>\n",
              "      <td>9.0</td>\n",
              "      <td>15.0</td>\n",
              "      <td>1.0</td>\n",
              "      <td>4.0</td>\n",
              "      <td>0.0</td>\n",
              "      <td>-7.65</td>\n",
              "      <td>3.684</td>\n",
              "      <td>58</td>\n",
              "      <td>2261.547725</td>\n",
              "      <td>0</td>\n",
              "      <td>0.0</td>\n",
              "      <td>0</td>\n",
              "      <td>0.0</td>\n",
              "      <td>1671329.0</td>\n",
              "      <td>LessSpread</td>\n",
              "      <td>flat_growth</td>\n",
              "      <td>0.0</td>\n",
              "    </tr>\n",
              "    <tr>\n",
              "      <th>1</th>\n",
              "      <td>2020-03-01</td>\n",
              "      <td>6067</td>\n",
              "      <td>Sacramento County</td>\n",
              "      <td>11.0</td>\n",
              "      <td>4.0</td>\n",
              "      <td>26.0</td>\n",
              "      <td>1.0</td>\n",
              "      <td>2.0</td>\n",
              "      <td>-1.0</td>\n",
              "      <td>-4.63</td>\n",
              "      <td>3.773</td>\n",
              "      <td>53</td>\n",
              "      <td>1608.950489</td>\n",
              "      <td>0</td>\n",
              "      <td>0.0</td>\n",
              "      <td>0</td>\n",
              "      <td>0.0</td>\n",
              "      <td>1552058.0</td>\n",
              "      <td>LessSpread</td>\n",
              "      <td>flat_growth</td>\n",
              "      <td>0.0</td>\n",
              "    </tr>\n",
              "    <tr>\n",
              "      <th>2</th>\n",
              "      <td>2020-03-01</td>\n",
              "      <td>6069</td>\n",
              "      <td>San Benito County</td>\n",
              "      <td>2.0</td>\n",
              "      <td>-1.0</td>\n",
              "      <td>-7.0</td>\n",
              "      <td>0.0</td>\n",
              "      <td>0.0</td>\n",
              "      <td>0.0</td>\n",
              "      <td>10.40</td>\n",
              "      <td>3.876</td>\n",
              "      <td>33</td>\n",
              "      <td>45.227585</td>\n",
              "      <td>0</td>\n",
              "      <td>0.0</td>\n",
              "      <td>0</td>\n",
              "      <td>0.0</td>\n",
              "      <td>62808.0</td>\n",
              "      <td>LessSpread</td>\n",
              "      <td>flat_growth</td>\n",
              "      <td>0.0</td>\n",
              "    </tr>\n",
              "    <tr>\n",
              "      <th>3</th>\n",
              "      <td>2020-03-01</td>\n",
              "      <td>6071</td>\n",
              "      <td>San Bernardino County</td>\n",
              "      <td>5.0</td>\n",
              "      <td>-2.0</td>\n",
              "      <td>-22.0</td>\n",
              "      <td>2.0</td>\n",
              "      <td>-1.0</td>\n",
              "      <td>0.0</td>\n",
              "      <td>10.34</td>\n",
              "      <td>4.508</td>\n",
              "      <td>57</td>\n",
              "      <td>108.694796</td>\n",
              "      <td>0</td>\n",
              "      <td>0.0</td>\n",
              "      <td>0</td>\n",
              "      <td>0.0</td>\n",
              "      <td>2180085.0</td>\n",
              "      <td>LessSpread</td>\n",
              "      <td>flat_growth</td>\n",
              "      <td>0.0</td>\n",
              "    </tr>\n",
              "    <tr>\n",
              "      <th>4</th>\n",
              "      <td>2020-03-01</td>\n",
              "      <td>6073</td>\n",
              "      <td>San Diego County</td>\n",
              "      <td>2.0</td>\n",
              "      <td>-1.0</td>\n",
              "      <td>-20.0</td>\n",
              "      <td>-4.0</td>\n",
              "      <td>2.0</td>\n",
              "      <td>0.0</td>\n",
              "      <td>-4.99</td>\n",
              "      <td>4.555</td>\n",
              "      <td>59</td>\n",
              "      <td>793.587741</td>\n",
              "      <td>0</td>\n",
              "      <td>0.0</td>\n",
              "      <td>0</td>\n",
              "      <td>0.0</td>\n",
              "      <td>3338330.0</td>\n",
              "      <td>LessSpread</td>\n",
              "      <td>flat_growth</td>\n",
              "      <td>0.0</td>\n",
              "    </tr>\n",
              "  </tbody>\n",
              "</table>\n",
              "</div>"
            ],
            "text/plain": [
              "         Date  fips_x  ... growth_label  New Cases/1k population\n",
              "0  2020-03-01    6001  ...  flat_growth                      0.0\n",
              "1  2020-03-01    6067  ...  flat_growth                      0.0\n",
              "2  2020-03-01    6069  ...  flat_growth                      0.0\n",
              "3  2020-03-01    6071  ...  flat_growth                      0.0\n",
              "4  2020-03-01    6073  ...  flat_growth                      0.0\n",
              "\n",
              "[5 rows x 21 columns]"
            ]
          },
          "metadata": {
            "tags": []
          },
          "execution_count": 208
        }
      ]
    },
    {
      "cell_type": "markdown",
      "metadata": {
        "id": "pyS1-vnM38NU"
      },
      "source": [
        "## Applying natural breaks"
      ]
    },
    {
      "cell_type": "code",
      "metadata": {
        "id": "TDuhGAeK4AL5",
        "outputId": "1bdb247c-eab7-4e83-a479-c09f0038c9b7",
        "colab": {
          "base_uri": "https://localhost:8080/",
          "height": 168
        }
      },
      "source": [
        "pos_breaks = jenkspy.jenks_breaks(non_zero_pos_diff, nb_class=2)\n",
        "print(pos_breaks)\n",
        "neg_breaks = jenkspy.jenks_breaks(non_zero_neg_diff, nb_class=2)\n",
        "print(neg_breaks)\n",
        "\n",
        "print(' ****** breaks *******')\n",
        "breaks = pos_breaks + neg_breaks\n",
        "breaks.sort()\n",
        "breaks"
      ],
      "execution_count": 209,
      "outputs": [
        {
          "output_type": "stream",
          "text": [
            "[5.2680092775606036e-05, 0.5928496690142417, 3.960127989407119]\n",
            "[-3.8230281887128026, -0.5659584931410302, -8.310897482368892e-06]\n",
            " ****** breaks *******\n"
          ],
          "name": "stdout"
        },
        {
          "output_type": "execute_result",
          "data": {
            "text/plain": [
              "[-3.8230281887128026,\n",
              " -0.5659584931410302,\n",
              " -8.310897482368892e-06,\n",
              " 5.2680092775606036e-05,\n",
              " 0.5928496690142417,\n",
              " 3.960127989407119]"
            ]
          },
          "metadata": {
            "tags": []
          },
          "execution_count": 209
        }
      ]
    },
    {
      "cell_type": "markdown",
      "metadata": {
        "id": "jLNL1z-F6aPp"
      },
      "source": [
        "## New Labeling"
      ]
    },
    {
      "cell_type": "code",
      "metadata": {
        "id": "xL0iGg9xEoSI",
        "outputId": "1d52a655-e515-4053-d31e-0519040d42c0",
        "colab": {
          "base_uri": "https://localhost:8080/",
          "height": 86
        }
      },
      "source": [
        "'''\n",
        "****** breaks *******\n",
        "[-4.811795376206633,\n",
        " -1.0427002573115152,\n",
        " -9.454894623110721e-06,\n",
        " 1.1045153360346449e-05,\n",
        " 0.835960519245697,\n",
        " 4.811795376206633\n",
        "\n",
        " def determine_growth_label_1k(x):\n",
        "  x = round(x,4)\n",
        "  if x > 0.83596 and x <= 4.8118:\n",
        "    return 'drastic_growth'\n",
        "  if x > 0.00001 and x <= 0.8360:\n",
        "    return 'mild_growth'\n",
        "  if x >= -0.00000945 and x <= 0.00001:\n",
        "    return 'flat_growth'\n",
        "  if x >= -1.0427 and x < -0.00000945:\n",
        "    return 'mild_decrement'\n",
        "  if x >= -4.8118  and x <= -1.0427:\n",
        "    return 'drastic_decrement'\n",
        "'''"
      ],
      "execution_count": 210,
      "outputs": [
        {
          "output_type": "execute_result",
          "data": {
            "application/vnd.google.colaboratory.intrinsic+json": {
              "type": "string"
            },
            "text/plain": [
              "\"\\n****** breaks *******\\n[-4.811795376206633,\\n -1.0427002573115152,\\n -9.454894623110721e-06,\\n 1.1045153360346449e-05,\\n 0.835960519245697,\\n 4.811795376206633\\n\\n def determine_growth_label_1k(x):\\n  x = round(x,4)\\n  if x > 0.83596 and x <= 4.8118:\\n    return 'drastic_growth'\\n  if x > 0.00001 and x <= 0.8360:\\n    return 'mild_growth'\\n  if x >= -0.00000945 and x <= 0.00001:\\n    return 'flat_growth'\\n  if x >= -1.0427 and x < -0.00000945:\\n    return 'mild_decrement'\\n  if x >= -4.8118  and x <= -1.0427:\\n    return 'drastic_decrement'\\n\""
            ]
          },
          "metadata": {
            "tags": []
          },
          "execution_count": 210
        }
      ]
    },
    {
      "cell_type": "code",
      "metadata": {
        "id": "KmDIRzOo4DFL"
      },
      "source": [
        "#[5.2680092775606036e-05, 0.5928496690142417, 3.960127989407119]\n",
        "#[-3.8230281887128026, -0.5659584931410302, -8.310897482368892e-06]\n",
        "def determine_growth_label_1k(x):\n",
        "  if x >= -0.00000831 and x <= 0.0000526:\n",
        "    return 'flat_growth'\n",
        "  if x > 0.0000526 and x <= 0.59285:\n",
        "    return 'mild_growth'\n",
        "  if x > 0.59285 and x <= 3.96013:\n",
        "    return 'drastic_growth'\n",
        "  if x >= -0.56595  and x <= -0.00000831:\n",
        "    return 'mild_decrement'\n",
        "  if x >= -3.96013 and x < -0.56595:\n",
        "    return 'drastic_decrement'"
      ],
      "execution_count": 211,
      "outputs": []
    },
    {
      "cell_type": "code",
      "metadata": {
        "id": "rYI17Xyt4LLI",
        "outputId": "642d0b9d-fb73-44c0-fda0-e42697a2b0be",
        "colab": {
          "base_uri": "https://localhost:8080/",
          "height": 303
        }
      },
      "source": [
        "CA_combined_data['growth_label_1k'] = CA_combined_data['New Cases/1k population'].apply(lambda x: determine_growth_label_1k(x) )\n",
        "CA_combined_data.head(4)"
      ],
      "execution_count": 212,
      "outputs": [
        {
          "output_type": "execute_result",
          "data": {
            "text/html": [
              "<div>\n",
              "<style scoped>\n",
              "    .dataframe tbody tr th:only-of-type {\n",
              "        vertical-align: middle;\n",
              "    }\n",
              "\n",
              "    .dataframe tbody tr th {\n",
              "        vertical-align: top;\n",
              "    }\n",
              "\n",
              "    .dataframe thead th {\n",
              "        text-align: right;\n",
              "    }\n",
              "</style>\n",
              "<table border=\"1\" class=\"dataframe\">\n",
              "  <thead>\n",
              "    <tr style=\"text-align: right;\">\n",
              "      <th></th>\n",
              "      <th>Date</th>\n",
              "      <th>fips_x</th>\n",
              "      <th>County Name</th>\n",
              "      <th>retail and recreation</th>\n",
              "      <th>grocery and pharmacy</th>\n",
              "      <th>parks</th>\n",
              "      <th>transit stations</th>\n",
              "      <th>workplaces</th>\n",
              "      <th>residential</th>\n",
              "      <th>driving</th>\n",
              "      <th>m50</th>\n",
              "      <th>m50_index</th>\n",
              "      <th>population_density</th>\n",
              "      <th>mask_rule_active</th>\n",
              "      <th>mask_wearing_percent</th>\n",
              "      <th>New cases</th>\n",
              "      <th>rolling_avg_new_cases</th>\n",
              "      <th>population</th>\n",
              "      <th>label</th>\n",
              "      <th>growth_label</th>\n",
              "      <th>New Cases/1k population</th>\n",
              "      <th>growth_label_1k</th>\n",
              "    </tr>\n",
              "  </thead>\n",
              "  <tbody>\n",
              "    <tr>\n",
              "      <th>0</th>\n",
              "      <td>2020-03-01</td>\n",
              "      <td>6001</td>\n",
              "      <td>Alameda County</td>\n",
              "      <td>6.0</td>\n",
              "      <td>9.0</td>\n",
              "      <td>15.0</td>\n",
              "      <td>1.0</td>\n",
              "      <td>4.0</td>\n",
              "      <td>0.0</td>\n",
              "      <td>-7.65</td>\n",
              "      <td>3.684</td>\n",
              "      <td>58</td>\n",
              "      <td>2261.547725</td>\n",
              "      <td>0</td>\n",
              "      <td>0.0</td>\n",
              "      <td>0</td>\n",
              "      <td>0.0</td>\n",
              "      <td>1671329.0</td>\n",
              "      <td>LessSpread</td>\n",
              "      <td>flat_growth</td>\n",
              "      <td>0.0</td>\n",
              "      <td>flat_growth</td>\n",
              "    </tr>\n",
              "    <tr>\n",
              "      <th>1</th>\n",
              "      <td>2020-03-01</td>\n",
              "      <td>6067</td>\n",
              "      <td>Sacramento County</td>\n",
              "      <td>11.0</td>\n",
              "      <td>4.0</td>\n",
              "      <td>26.0</td>\n",
              "      <td>1.0</td>\n",
              "      <td>2.0</td>\n",
              "      <td>-1.0</td>\n",
              "      <td>-4.63</td>\n",
              "      <td>3.773</td>\n",
              "      <td>53</td>\n",
              "      <td>1608.950489</td>\n",
              "      <td>0</td>\n",
              "      <td>0.0</td>\n",
              "      <td>0</td>\n",
              "      <td>0.0</td>\n",
              "      <td>1552058.0</td>\n",
              "      <td>LessSpread</td>\n",
              "      <td>flat_growth</td>\n",
              "      <td>0.0</td>\n",
              "      <td>flat_growth</td>\n",
              "    </tr>\n",
              "    <tr>\n",
              "      <th>2</th>\n",
              "      <td>2020-03-01</td>\n",
              "      <td>6069</td>\n",
              "      <td>San Benito County</td>\n",
              "      <td>2.0</td>\n",
              "      <td>-1.0</td>\n",
              "      <td>-7.0</td>\n",
              "      <td>0.0</td>\n",
              "      <td>0.0</td>\n",
              "      <td>0.0</td>\n",
              "      <td>10.40</td>\n",
              "      <td>3.876</td>\n",
              "      <td>33</td>\n",
              "      <td>45.227585</td>\n",
              "      <td>0</td>\n",
              "      <td>0.0</td>\n",
              "      <td>0</td>\n",
              "      <td>0.0</td>\n",
              "      <td>62808.0</td>\n",
              "      <td>LessSpread</td>\n",
              "      <td>flat_growth</td>\n",
              "      <td>0.0</td>\n",
              "      <td>flat_growth</td>\n",
              "    </tr>\n",
              "    <tr>\n",
              "      <th>3</th>\n",
              "      <td>2020-03-01</td>\n",
              "      <td>6071</td>\n",
              "      <td>San Bernardino County</td>\n",
              "      <td>5.0</td>\n",
              "      <td>-2.0</td>\n",
              "      <td>-22.0</td>\n",
              "      <td>2.0</td>\n",
              "      <td>-1.0</td>\n",
              "      <td>0.0</td>\n",
              "      <td>10.34</td>\n",
              "      <td>4.508</td>\n",
              "      <td>57</td>\n",
              "      <td>108.694796</td>\n",
              "      <td>0</td>\n",
              "      <td>0.0</td>\n",
              "      <td>0</td>\n",
              "      <td>0.0</td>\n",
              "      <td>2180085.0</td>\n",
              "      <td>LessSpread</td>\n",
              "      <td>flat_growth</td>\n",
              "      <td>0.0</td>\n",
              "      <td>flat_growth</td>\n",
              "    </tr>\n",
              "  </tbody>\n",
              "</table>\n",
              "</div>"
            ],
            "text/plain": [
              "         Date  fips_x  ... New Cases/1k population  growth_label_1k\n",
              "0  2020-03-01    6001  ...                     0.0      flat_growth\n",
              "1  2020-03-01    6067  ...                     0.0      flat_growth\n",
              "2  2020-03-01    6069  ...                     0.0      flat_growth\n",
              "3  2020-03-01    6071  ...                     0.0      flat_growth\n",
              "\n",
              "[4 rows x 22 columns]"
            ]
          },
          "metadata": {
            "tags": []
          },
          "execution_count": 212
        }
      ]
    },
    {
      "cell_type": "markdown",
      "metadata": {
        "id": "lrdt9jfixV0z"
      },
      "source": [
        "### Export Combined labeled Data"
      ]
    },
    {
      "cell_type": "code",
      "metadata": {
        "id": "rqW2hUyDNAkV",
        "outputId": "f3715d40-d4ca-4103-c8c2-f42f3a68829f",
        "colab": {
          "base_uri": "https://localhost:8080/",
          "height": 34
        }
      },
      "source": [
        "CA_combined_data_test = CA_combined_data.copy()\n",
        "CA_combined_data_test.shape"
      ],
      "execution_count": 215,
      "outputs": [
        {
          "output_type": "execute_result",
          "data": {
            "text/plain": [
              "(9196, 22)"
            ]
          },
          "metadata": {
            "tags": []
          },
          "execution_count": 215
        }
      ]
    },
    {
      "cell_type": "code",
      "metadata": {
        "id": "5pnVXJRyDFuW"
      },
      "source": [
        "CA_combined_data_growth0 = CA_combined_data[CA_combined_data['growth_label'] == 'drastic_decrement']\n",
        "CA_combined_data_growth1 = CA_combined_data[CA_combined_data['growth_label'] == 'drastic_growth']\n",
        "CA_combined_data_growth2 = CA_combined_data[CA_combined_data['growth_label'] == 'flat_growth']\n",
        "CA_combined_data_growth3 = CA_combined_data[CA_combined_data['growth_label'] == 'mild_decrement']\n",
        "CA_combined_data_growth4 = CA_combined_data[CA_combined_data['growth_label'] == 'mild_growth']\n",
        "\n",
        "print(CA_combined_data_growth0.shape)\n",
        "print(CA_combined_data_growth1.shape)\n",
        "print(CA_combined_data_growth2.shape)\n",
        "print(CA_combined_data_growth3.shape)\n",
        "print(CA_combined_data_growth4.shape)"
      ],
      "execution_count": null,
      "outputs": []
    },
    {
      "cell_type": "code",
      "metadata": {
        "id": "odBuDdy3DTX1"
      },
      "source": [
        "from datetime import datetime\n",
        "location = '/content/drive/Shared drives/CMPE 295- Master Project/Covid19-data/'\n",
        "filename = 'CA_labeledData_'+datetime.now().strftime(\"%b%d\")+'.csv' #%Y%m%d\n",
        "print(filename)\n",
        "CA_combined_data.to_csv(location+filename,index=False)"
      ],
      "execution_count": null,
      "outputs": []
    },
    {
      "cell_type": "code",
      "metadata": {
        "id": "9Hwy4ARNeCfg"
      },
      "source": [
        "average_newCases_df2[average_newCases_df2['labels'] == 'SuperSpread']"
      ],
      "execution_count": null,
      "outputs": []
    },
    {
      "cell_type": "markdown",
      "metadata": {
        "id": "1oJPNpnexnQZ"
      },
      "source": [
        "## Kernal Density Estimation"
      ]
    },
    {
      "cell_type": "code",
      "metadata": {
        "id": "WauUBBVVxq0H"
      },
      "source": [
        "%matplotlib inline\n",
        "\n",
        "from numpy import array, linspace\n",
        "from sklearn.neighbors.kde import KernelDensity\n",
        "from matplotlib.pyplot import plot\n",
        "\n",
        "a = array(data).reshape(-1, 1)\n",
        "kde = KernelDensity(kernel='gaussian', bandwidth=3).fit(a)\n",
        "s = linspace(0,50)\n",
        "e = kde.score_samples(s.reshape(-1,1))\n",
        "plot(s, e)"
      ],
      "execution_count": null,
      "outputs": []
    },
    {
      "cell_type": "code",
      "metadata": {
        "id": "wGzAVAIOx18k"
      },
      "source": [
        "\n",
        "\n",
        "from scipy.signal import argrelextrema\n",
        "mi, ma = argrelextrema(e, np.less)[0], argrelextrema(e, np.greater)[0]\n",
        "print(\"Minima:\", s[mi])\n",
        "print(\"Maxima:\", s[ma])"
      ],
      "execution_count": null,
      "outputs": []
    },
    {
      "cell_type": "code",
      "metadata": {
        "id": "NZtte7zb20p7"
      },
      "source": [
        "lower_range = s[mi][0]\n",
        "upper_range = s[mi][1]\n",
        "\n",
        "lower_range"
      ],
      "execution_count": null,
      "outputs": []
    },
    {
      "cell_type": "code",
      "metadata": {
        "id": "vVyRucGcyAgB"
      },
      "source": [
        "print(a[a < mi[0]], a[(a >= mi[0]) * (a <= mi[1])], a[a >= mi[1]])\n"
      ],
      "execution_count": null,
      "outputs": []
    },
    {
      "cell_type": "markdown",
      "metadata": {
        "id": "ljVPSVYdyhoz"
      },
      "source": [
        "[-1.1363636363636362, 39.5, 213.91325695581014, 410.1818181818182]"
      ]
    },
    {
      "cell_type": "markdown",
      "metadata": {
        "id": "c36LK96Tzp3S"
      },
      "source": [
        "Minima: [19.3877551  33.67346939]\n",
        "Maxima: [24.48979592 39.79591837]*italicized text*"
      ]
    },
    {
      "cell_type": "code",
      "metadata": {
        "id": "Wh455zOcyIUT"
      },
      "source": [
        "plot(s[:mi[0]+1], e[:mi[0]+1], 'r',\n",
        "     s[mi[0]:mi[1]+1], e[mi[0]:mi[1]+1], 'g',\n",
        "     s[mi[1]:], e[mi[1]:], 'b',\n",
        "     s[ma], e[ma], 'go',\n",
        "     s[mi], e[mi], 'ro')"
      ],
      "execution_count": null,
      "outputs": []
    },
    {
      "cell_type": "markdown",
      "metadata": {
        "id": "Ni7oN7RAzJ5N"
      },
      "source": [
        "print(a[a < mi[0]], a[(a >= mi[0]) * (a <= mi[1])], a[a >= mi[1]])\n"
      ]
    },
    {
      "cell_type": "markdown",
      "metadata": {
        "id": "DLvIv1Av2j0s"
      },
      "source": [
        "## Labeling Data with Kernal density results"
      ]
    },
    {
      "cell_type": "code",
      "metadata": {
        "id": "ovV5Fo3O2nCc"
      },
      "source": [
        "average_newCases_df3.head()"
      ],
      "execution_count": null,
      "outputs": []
    },
    {
      "cell_type": "code",
      "metadata": {
        "id": "ADQYgQnO4b54"
      },
      "source": [
        "print(lower_range, upper_range)"
      ],
      "execution_count": null,
      "outputs": []
    },
    {
      "cell_type": "code",
      "metadata": {
        "id": "FmnJt1cZ4wdz"
      },
      "source": [
        "average_newCases_df3['label'] = average_newCases_df3['percent_newcases'].apply(lambda x: 'lessSpread' if x < lower_range  else 'SuperSpread')\n"
      ],
      "execution_count": null,
      "outputs": []
    },
    {
      "cell_type": "code",
      "metadata": {
        "id": "ga0KQRi92p_b"
      },
      "source": [
        "average_newCases_df3['label'] = average_newCases_df3['percent_newcases'].apply(lambda x: 'lessSpread' if x < lower_range else ('Spread' if (x >= lower_range and x <= upper_range) else 'SuperSpread'))\n",
        "\n",
        "\n",
        "\n",
        "#converter = lambda x : x*2 if x < 10 else (x*3 if x < 20 else x)\n",
        "\n"
      ],
      "execution_count": null,
      "outputs": []
    },
    {
      "cell_type": "code",
      "metadata": {
        "id": "YYyJNdWL5nXM"
      },
      "source": [
        "average_newCases_df3[average_newCases_df3['label'] == 'lessSpread'].count()"
      ],
      "execution_count": null,
      "outputs": []
    },
    {
      "cell_type": "code",
      "metadata": {
        "id": "gqHeMoWR5pew"
      },
      "source": [
        "average_newCases_df3[average_newCases_df3['label'] == 'Spread'].count()"
      ],
      "execution_count": null,
      "outputs": []
    },
    {
      "cell_type": "code",
      "metadata": {
        "id": "mrYy5tdz5fp9"
      },
      "source": [
        "average_newCases_df3[average_newCases_df3['label'] == 'SuperSpread'].count()"
      ],
      "execution_count": null,
      "outputs": []
    },
    {
      "cell_type": "code",
      "metadata": {
        "id": "ReYy7MgO2MUr"
      },
      "source": [
        "average_newCases_df3.head()"
      ],
      "execution_count": null,
      "outputs": []
    },
    {
      "cell_type": "markdown",
      "metadata": {
        "id": "RnSQQ3K7fAEe"
      },
      "source": [
        "# 2.1 Loading CA - Social Distancing Inertia Maryland Data"
      ]
    },
    {
      "cell_type": "code",
      "metadata": {
        "id": "EUc48OMVfQMZ"
      },
      "source": [
        "CA_combined_sd_inertia_data = pd.read_csv('/content/drive/Shared drives/CMPE 295- Master Project/Covid19-data/CA_socialDistancingInertiaData_Sep25.csv',low_memory=False)\n",
        "CA_combined_sd_inertia_data.head()"
      ],
      "execution_count": null,
      "outputs": []
    },
    {
      "cell_type": "code",
      "metadata": {
        "id": "fUBx1KbilShz"
      },
      "source": [
        "CA_combined_sd_inertia_data.FIPS.unique()"
      ],
      "execution_count": null,
      "outputs": []
    },
    {
      "cell_type": "markdown",
      "metadata": {
        "id": "AoJJ2t3ehdhs"
      },
      "source": [
        "## Computing rolling average"
      ]
    },
    {
      "cell_type": "code",
      "metadata": {
        "id": "-wnwz6lHhvP-"
      },
      "source": [
        "CA_combined_sd_inertia_data.columns"
      ],
      "execution_count": null,
      "outputs": []
    },
    {
      "cell_type": "code",
      "metadata": {
        "id": "SebGurhfhdh6"
      },
      "source": [
        "#new case column nume = 5\n",
        "CA_combined_sd_inertia_data.iloc[:,5]"
      ],
      "execution_count": null,
      "outputs": []
    },
    {
      "cell_type": "markdown",
      "metadata": {
        "id": "WwqXi78CkOhv"
      },
      "source": [
        "removing comuns: \n",
        "'Confirmed', 'Deaths', 'New deaths','#days: decreasing ILI cases', '#days: decreasing COVID cases', 'New cases/1000 people', 'Imported COVID cases' ,'COVID death rate',  'Active cases/1000 people',"
      ]
    },
    {
      "cell_type": "code",
      "metadata": {
        "id": "GQH2Aid_hdh-"
      },
      "source": [
        "df = pd.DataFrame(columns=['Date', 'Province_State', 'FIPS',  'New cases',\n",
        "        'mask_rule_active', 'CTFIPS', 'CTNAME', 'STFIPS',\n",
        "       'Social distancing index', '% staying home', 'Trips/person',\n",
        "       '% out-of-county trips', '% out-of-state trips', 'Miles/person',\n",
        "       'Work trips/person', 'Non-work trips/person', 'New COVID cases',\n",
        "       'Population', '% change in consumption', 'date', 'Transit mode share',\n",
        "       '% people older than 60', 'Median income', '% African Americans',\n",
        "       '% Hispanic Americans', '% Male', 'Population density',\n",
        "       'Employment density', '# hot spots/1000 people',\n",
        "       'Hospital beds/1000 people', 'ICUs/1000 people',\n",
        "       '# contact tracing workers/1000 people',\n",
        "       '# contact tracing workers/1000 people rank',\n",
        "       '% people older than 60 rank', 'COVID exposure/1000 people',\n",
        "        'Unemployment claims/1000 people',\n",
        "       'Unemployment rate', '% working from home', 'Cumulative inflation rate',\n",
        "        '% hospital bed utilization',\n",
        "       'Testing capacity', 'Tests done/1000 people', '% ICU utilization',\n",
        "       'Ventilator shortage'])\n"
      ],
      "execution_count": null,
      "outputs": []
    },
    {
      "cell_type": "code",
      "metadata": {
        "id": "8bGgOZaHhdiA"
      },
      "source": [
        "CA_counties = CA_combined_sd_inertia_data['CTNAME'].unique()\n",
        "\n",
        "for county in CA_counties:\n",
        "  county_data = CA_combined_sd_inertia_data[CA_combined_sd_inertia_data['CTNAME'] == county]\n",
        "  #print(county_data.iloc[:,15])\n",
        "  county_data['rolling_avg_new_cases'] = county_data.iloc[:,5].rolling(window=7).mean()\n",
        "  df = df.append(county_data)\n",
        "\n",
        "df.head()"
      ],
      "execution_count": null,
      "outputs": []
    },
    {
      "cell_type": "code",
      "metadata": {
        "id": "Eoa9dOfvhdiC"
      },
      "source": [
        "print(df.shape)\n",
        "CA_combined_sd_inertia_data.shape"
      ],
      "execution_count": null,
      "outputs": []
    },
    {
      "cell_type": "code",
      "metadata": {
        "id": "J8hA2BBShdiD"
      },
      "source": [
        "CA_combined_sd_inertia_data = df.copy()\n",
        "CA_combined_sd_inertia_data"
      ],
      "execution_count": null,
      "outputs": []
    },
    {
      "cell_type": "code",
      "metadata": {
        "id": "dtrhrhBOhdiH"
      },
      "source": [
        "CA_combined_sd_inertia_data.head(3)"
      ],
      "execution_count": null,
      "outputs": []
    },
    {
      "cell_type": "markdown",
      "metadata": {
        "id": "a--a0HeMurvh"
      },
      "source": [
        "## clean data - fill NA "
      ]
    },
    {
      "cell_type": "code",
      "metadata": {
        "id": "MfRQuH1Eurv6"
      },
      "source": [
        "CA_combined_sd_inertia_data = CA_combined_sd_inertia_data.fillna(0)\n",
        "CA_combined_sd_inertia_data.head(4)"
      ],
      "execution_count": null,
      "outputs": []
    },
    {
      "cell_type": "code",
      "metadata": {
        "id": "G0Qznnx4urwG"
      },
      "source": [
        "CA_combined_sd_inertia_data['CTNAME'].unique()"
      ],
      "execution_count": null,
      "outputs": []
    },
    {
      "cell_type": "markdown",
      "metadata": {
        "id": "CYCEUIy7yKtm"
      },
      "source": [
        "## verifying Rolling average with visualizations"
      ]
    },
    {
      "cell_type": "code",
      "metadata": {
        "id": "3BOxC3lsyKt8"
      },
      "source": [
        "los_angeles_county = CA_combined_sd_inertia_data[CA_combined_sd_inertia_data['CTNAME'] == 'Los Angeles County']\n",
        "print(los_angeles_county.shape)\n",
        "los_angeles_county.head()"
      ],
      "execution_count": null,
      "outputs": []
    },
    {
      "cell_type": "code",
      "metadata": {
        "id": "t3q9I_aVyKuL"
      },
      "source": [
        "fig,ax = plt.subplots()\n",
        "# make a plot\n",
        "ax.plot(los_angeles_county.Date, los_angeles_county['rolling_avg_new_cases'], color=\"blue\")\n",
        "# set x-axis label\n",
        "ax.set_xlabel(\"Date\",fontsize=14)\n",
        "# set y-axis label\n",
        "ax.set_ylabel(\"rolling_avg_new_cases\",color=\"blue\",fontsize=14)\n",
        "ax2=ax.twinx()\n",
        "# make a plot with different y-axis using second axis object\n",
        "ax2.plot(los_angeles_county.Date, los_angeles_county[\"New cases\"],color=\"red\")\n",
        "ax2.set_ylabel(\"New cases\",color=\"blue\",fontsize=14)\n",
        "plt.title(\"'rolling_avg_new_cases' Vs New cases\")\n",
        "\n",
        "plt.show()"
      ],
      "execution_count": null,
      "outputs": []
    },
    {
      "cell_type": "code",
      "metadata": {
        "id": "I0TFoCKwyKuP"
      },
      "source": [
        "suffolk_county = CA_combined_sd_inertia_data[CA_combined_sd_inertia_data['CTNAME'] == 'Santa Clara County']"
      ],
      "execution_count": null,
      "outputs": []
    },
    {
      "cell_type": "code",
      "metadata": {
        "id": "_JYyag4pyKuS"
      },
      "source": [
        "fig,ax = plt.subplots()\n",
        "# make a plot\n",
        "ax.plot(suffolk_county.Date, suffolk_county['rolling_avg_new_cases'], color=\"blue\")\n",
        "# set x-axis label\n",
        "ax.set_xlabel(\"Date\",fontsize=14)\n",
        "# set y-axis label\n",
        "ax.set_ylabel(\"rolling_avg_new_cases\",color=\"blue\",fontsize=14)\n",
        "ax2=ax.twinx()\n",
        "# make a plot with different y-axis using second axis object\n",
        "ax2.plot(suffolk_county.Date, suffolk_county[\"New cases\"],color=\"red\")\n",
        "ax2.set_ylabel(\"New cases\",color=\"blue\",fontsize=14)\n",
        "plt.title(\"'rolling_avg_new_cases' Vs New cases\")\n",
        "\n",
        "plt.show()"
      ],
      "execution_count": null,
      "outputs": []
    },
    {
      "cell_type": "markdown",
      "metadata": {
        "id": "Cv4XV4EQ6fI_"
      },
      "source": [
        "## Rolling window to compare every 2 weeks with next 2 weeks"
      ]
    },
    {
      "cell_type": "code",
      "metadata": {
        "id": "X-oIRKhy6fJG"
      },
      "source": [
        "CA_combined_sd_inertia_data = CA_combined_sd_inertia_data.sort_values(by=['Date'])\n",
        "CA_combined_sd_inertia_data.head()"
      ],
      "execution_count": null,
      "outputs": []
    },
    {
      "cell_type": "code",
      "metadata": {
        "id": "YX7w4Eln6fJQ"
      },
      "source": [
        "CA_combined_sd_inertia_data[CA_combined_sd_inertia_data['FIPS'] == 6037]"
      ],
      "execution_count": null,
      "outputs": []
    },
    {
      "cell_type": "code",
      "metadata": {
        "id": "gIWmG8X76fJS"
      },
      "source": [
        "minDate = CA_combined_sd_inertia_data['Date'].min()\n",
        "print(minDate)\n",
        "\n",
        "dateList = CA_combined_sd_inertia_data['Date'].unique()"
      ],
      "execution_count": null,
      "outputs": []
    },
    {
      "cell_type": "code",
      "metadata": {
        "id": "C91XzWPJ6fJU"
      },
      "source": [
        "import datetime\n",
        "\n",
        "#dt_object = datetime.fromtimestamp(date)\n",
        "day_name= ['Monday', 'Tuesday', 'Wednesday', 'Thursday', 'Friday', 'Saturday','Sunday']\n",
        "\n",
        "day = datetime.datetime.strptime(minDate, '%Y-%m-%d').weekday()\n",
        "if day == 6:\n",
        "  day =0\n",
        "elif day < 6:\n",
        "  day += 1\n",
        "\n",
        "print(day)"
      ],
      "execution_count": null,
      "outputs": []
    },
    {
      "cell_type": "code",
      "metadata": {
        "id": "94CSfxM26fJW"
      },
      "source": [
        "index = 0\n",
        "count = 0\n",
        "lst = []\n",
        "while index < len(dateList):\n",
        "  row = []\n",
        "  j = 14 - day;\n",
        "  # print(index,j)\n",
        "  # print(dateList[index:index+j])\n",
        "  weekRange = dateList[index:index+j]\n",
        "  #print(weekRange)\n",
        "  index = index+j \n",
        "  day = 0\n",
        "  count +=1\n",
        "  row.append(count)\n",
        "  row.append(weekRange.min())\n",
        "  row.append(weekRange.max())\n",
        "  print(row)\n",
        "  lst.append(row)\n",
        "  \n"
      ],
      "execution_count": null,
      "outputs": []
    },
    {
      "cell_type": "markdown",
      "metadata": {
        "id": "zf3Q5SdEkxcL"
      },
      "source": [
        "[1, '2020-03-01', '2020-03-14']\n",
        "[2, '2020-03-15', '2020-03-28']\n",
        "[3, '2020-03-29', '2020-04-11']\n",
        "[4, '2020-04-12', '2020-04-26']\n",
        "[5, '2020-04-27', '2020-05-10']\n",
        "[6, '2020-05-11', '2020-05-24']\n",
        "[7, '2020-05-25', '2020-06-08']\n",
        "[8, '2020-06-09', '2020-06-22']\n",
        "[9, '2020-06-23', '2020-07-06']\n",
        "[10, '2020-07-07', '2020-07-20']\n",
        "[11, '2020-07-21', '2020-08-03']\n",
        "[12, '2020-08-04', '2020-08-17']\n",
        "[13, '2020-08-18', '2020-08-21']"
      ]
    },
    {
      "cell_type": "code",
      "metadata": {
        "id": "CNdYlW2q6fJY"
      },
      "source": [
        "week_df = pd.DataFrame(lst,index=None,columns=['WeekNumber','startDate','endDate'])\n",
        "week_df.head()"
      ],
      "execution_count": null,
      "outputs": []
    },
    {
      "cell_type": "markdown",
      "metadata": {
        "id": "Tuy4Ik4f-UCV"
      },
      "source": [
        "## Slice data for the week dataframe"
      ]
    },
    {
      "cell_type": "code",
      "metadata": {
        "id": "AaypyDkI-UCp"
      },
      "source": [
        "\n",
        "average_newCases_df = pd.DataFrame(columns=['CTNAME',  'FIPS',  'average_per_week','startDate','endDate'])\n",
        "\n",
        "for index, row in week_df.iterrows():\n",
        "    startDate, endDate = row['startDate'], row['endDate']\n",
        "    df_index = (CA_combined_sd_inertia_data['Date'] >= startDate) & (CA_combined_sd_inertia_data['Date'] <= endDate)\n",
        "    df_weekData =  CA_combined_sd_inertia_data.loc[df_index]\n",
        "    df_base = (\n",
        "      df_weekData\n",
        "      .pipe(lambda x: x.assign(gains_pctg=x[\"rolling_avg_new_cases\"]))\n",
        "      .groupby(['CTNAME','FIPS'])\n",
        "      .agg({\"gains_pctg\": \"mean\"})\n",
        "      .reset_index()\n",
        "      .rename(columns={\"gains_pctg\": \"average_per_week\"})\n",
        "    )\n",
        "    df_base['startDate'] = startDate\n",
        "    df_base['endDate'] = endDate\n",
        "  \n",
        "    #print(startDate,endDate,df_base['average_per_week'])\n",
        "    average_newCases_df = average_newCases_df.append(df_base)\n"
      ],
      "execution_count": null,
      "outputs": []
    },
    {
      "cell_type": "code",
      "metadata": {
        "id": "uVZwCEIP-UCu"
      },
      "source": [
        "average_newCases_df.shape"
      ],
      "execution_count": null,
      "outputs": []
    },
    {
      "cell_type": "code",
      "metadata": {
        "id": "GS4TxR8m-UCy"
      },
      "source": [
        "average_newCases_df[average_newCases_df['FIPS'] == 6037]"
      ],
      "execution_count": null,
      "outputs": []
    },
    {
      "cell_type": "markdown",
      "metadata": {
        "id": "-2Ex41lJ_Ioy"
      },
      "source": [
        "## Verifying average per week data Eg., Los Angeles County"
      ]
    },
    {
      "cell_type": "code",
      "metadata": {
        "id": "AZDgugeW_IpJ"
      },
      "source": [
        "los_angeles_county[(los_angeles_county['Date'] >= '2020-03-01') & (los_angeles_county['Date'] <= '2020-03-14') ]['rolling_avg_new_cases']\n",
        "\n"
      ],
      "execution_count": null,
      "outputs": []
    },
    {
      "cell_type": "code",
      "metadata": {
        "id": "xVDTGV2H_IpS"
      },
      "source": [
        "average_newCases_df.head(10)"
      ],
      "execution_count": null,
      "outputs": []
    },
    {
      "cell_type": "markdown",
      "metadata": {
        "id": "DWY0XhrgAnJi"
      },
      "source": [
        "## Finding the % growth or reduction in 'new cases' on every 2 week average"
      ]
    },
    {
      "cell_type": "code",
      "metadata": {
        "id": "VIGRlYuvAnJ4"
      },
      "source": [
        "average_newCases_df_ = average_newCases_df.copy()"
      ],
      "execution_count": null,
      "outputs": []
    },
    {
      "cell_type": "code",
      "metadata": {
        "id": "AI4uRLS1AnKA"
      },
      "source": [
        "albany_avg_newCases = average_newCases_df[average_newCases_df['CTNAME'] == 'Los Angeles County']\n",
        "albany_avg_newCases"
      ],
      "execution_count": null,
      "outputs": []
    },
    {
      "cell_type": "code",
      "metadata": {
        "id": "-Emrkrq0AnKH"
      },
      "source": [
        "average_newCases_df.head()"
      ],
      "execution_count": null,
      "outputs": []
    },
    {
      "cell_type": "code",
      "metadata": {
        "id": "cVnrEF78AnKL"
      },
      "source": [
        "average_newCases_df2 = pd.DataFrame()\n",
        "average_newCases_df2 = average_newCases_df.copy()\n",
        "\n",
        "average_newCases_df2 = average_newCases_df2.reset_index(drop=True)\n",
        "average_newCases_df2.head()"
      ],
      "execution_count": null,
      "outputs": []
    },
    {
      "cell_type": "code",
      "metadata": {
        "id": "IiC8ss74AnKN"
      },
      "source": [
        "average_newCases_df2['diff_avg_x'] = average_newCases_df2.sort_values(['startDate','endDate']).groupby(['CTNAME', 'FIPS'])['average_per_week'].diff().fillna(0)\n",
        "\n",
        "print(average_newCases_df2.shape)\n",
        "average_newCases_df2.head()\n"
      ],
      "execution_count": null,
      "outputs": []
    },
    {
      "cell_type": "code",
      "metadata": {
        "id": "r--yef0xAnKQ"
      },
      "source": [
        "average_newCases_df2[average_newCases_df2['CTNAME'] == 'Santa Clara County']"
      ],
      "execution_count": null,
      "outputs": []
    },
    {
      "cell_type": "code",
      "metadata": {
        "id": "s8gQX74rAnKS"
      },
      "source": [
        "average_newCases_df2[average_newCases_df2['CTNAME'] == 'Alameda County']"
      ],
      "execution_count": null,
      "outputs": []
    },
    {
      "cell_type": "code",
      "metadata": {
        "id": "TZtcGezQAnKU"
      },
      "source": [
        "average_newCases_df2[average_newCases_df2['FIPS'] == 6037].head(5)"
      ],
      "execution_count": null,
      "outputs": []
    },
    {
      "cell_type": "code",
      "metadata": {
        "id": "uoXuOiQAAnKX"
      },
      "source": [
        "average_newCases_df2.head()"
      ],
      "execution_count": null,
      "outputs": []
    },
    {
      "cell_type": "code",
      "metadata": {
        "id": "leX2lv6-AnKY"
      },
      "source": [
        "average_newCases_df2 = average_newCases_df2.fillna(0)"
      ],
      "execution_count": null,
      "outputs": []
    },
    {
      "cell_type": "code",
      "metadata": {
        "id": "QcDy8yJaAnKa"
      },
      "source": [
        "average_newCases_df2.head()"
      ],
      "execution_count": null,
      "outputs": []
    },
    {
      "cell_type": "markdown",
      "metadata": {
        "id": "5UOzw53YAnKd"
      },
      "source": [
        "Shifting average_per_week_x\t column value for formula. Means previous row's value will be come to the current row."
      ]
    },
    {
      "cell_type": "code",
      "metadata": {
        "id": "gNFEYxzqAnKd"
      },
      "source": [
        "average_newCases_df2['shift_avg_x'] = average_newCases_df2.sort_values(['startDate','endDate']).groupby(['CTNAME', 'FIPS'])['average_per_week'].shift()"
      ],
      "execution_count": null,
      "outputs": []
    },
    {
      "cell_type": "code",
      "metadata": {
        "id": "b8mWCN7dAnKf"
      },
      "source": [
        "average_newCases_df2.groupby(by=['CTNAME', 'FIPS','startDate','endDate']).sum()"
      ],
      "execution_count": null,
      "outputs": []
    },
    {
      "cell_type": "code",
      "metadata": {
        "id": "BBnsrDeeAnKg"
      },
      "source": [
        "average_newCases_df2[average_newCases_df2['CTNAME'] == 'Los Angeles County']"
      ],
      "execution_count": null,
      "outputs": []
    },
    {
      "cell_type": "code",
      "metadata": {
        "id": "rJtRMscrAnKi"
      },
      "source": [
        "average_newCases_df2['percent_newcases'] = average_newCases_df2.apply(lambda x: (x.diff_avg_x) / x.shift_avg_x if x.shift_avg_x > 0.0 else 0 , axis=1)\n",
        "\n",
        "\n",
        "average_newCases_df2.tail()\n"
      ],
      "execution_count": null,
      "outputs": []
    },
    {
      "cell_type": "code",
      "metadata": {
        "id": "boPF_L6FAnKj"
      },
      "source": [
        "average_newCases_df2[average_newCases_df2['CTNAME'] == 'Santa Clara County']"
      ],
      "execution_count": null,
      "outputs": []
    },
    {
      "cell_type": "markdown",
      "metadata": {
        "id": "CB92gyiDDg4w"
      },
      "source": [
        "# 2.2 Labeling data as per % change"
      ]
    },
    {
      "cell_type": "markdown",
      "metadata": {
        "id": "OsJ2bwKB64Lf"
      },
      "source": [
        "## Validation"
      ]
    },
    {
      "cell_type": "code",
      "metadata": {
        "id": "kH3C9aOf7PyX"
      },
      "source": [
        "average_newCases_df2.head(3)"
      ],
      "execution_count": null,
      "outputs": []
    },
    {
      "cell_type": "code",
      "metadata": {
        "id": "lFVdWxz_68L9"
      },
      "source": [
        "average_newCases_df2[(average_newCases_df2['FIPS']== 6001) & (average_newCases_df2['startDate']=='2020-08-02')]"
      ],
      "execution_count": null,
      "outputs": []
    },
    {
      "cell_type": "code",
      "metadata": {
        "id": "wBX9rFWa71Q9"
      },
      "source": [
        "test_ca_combined[(test_ca_combined['fips_x']== 6001) & (test_ca_combined['startDate']=='2020-08-04')]"
      ],
      "execution_count": null,
      "outputs": []
    },
    {
      "cell_type": "markdown",
      "metadata": {
        "id": "hLoWKd7y66F6"
      },
      "source": [
        "## Actual Work"
      ]
    },
    {
      "cell_type": "code",
      "metadata": {
        "id": "QoiepWAoDg5B"
      },
      "source": [
        "average_newCases_df2.describe()"
      ],
      "execution_count": null,
      "outputs": []
    },
    {
      "cell_type": "code",
      "metadata": {
        "id": "f2hWwHsvDg5L"
      },
      "source": [
        "los_angeles_county = average_newCases_df2[average_newCases_df2['CTNAME'] == 'Los Angeles County']"
      ],
      "execution_count": null,
      "outputs": []
    },
    {
      "cell_type": "code",
      "metadata": {
        "id": "aBQ92WY9Dg5P"
      },
      "source": [
        "fig,ax = plt.subplots()\n",
        "# make a plot\n",
        "ax.plot(los_angeles_county.startDate, los_angeles_county['percent_newcases'], color=\"blue\")\n",
        "# set x-axis label\n",
        "ax.set_xlabel(\"Date\",fontsize=14)\n",
        "# set y-axis label\n",
        "ax.set_ylabel(\"percent_newcases\",color=\"blue\",fontsize=14)\n",
        "# ax2=ax.twinx()\n",
        "# make a plot with different y-axis using second axis object\n",
        "# ax2.plot(los_angeles_county.startDate, los_angeles_county[\"percent_newcases\"],color=\"red\")\n",
        "# ax2.set_ylabel(\"New cases\",color=\"blue\",fontsize=14)\n",
        "plt.title(\"'percent_newcases'\")\n",
        "\n",
        "plt.show()"
      ],
      "execution_count": null,
      "outputs": []
    },
    {
      "cell_type": "code",
      "metadata": {
        "id": "NMV0Da2bDg5T"
      },
      "source": [
        "data = average_newCases_df2['percent_newcases'].to_list()\n",
        "\n",
        "print(data)\n"
      ],
      "execution_count": null,
      "outputs": []
    },
    {
      "cell_type": "code",
      "metadata": {
        "id": "nY-QOaNYDg5X"
      },
      "source": [
        "average_newCases_df3 = average_newCases_df2.copy().reset_index(drop=True)"
      ],
      "execution_count": null,
      "outputs": []
    },
    {
      "cell_type": "markdown",
      "metadata": {
        "id": "GYTeokENTYS3"
      },
      "source": [
        "## Determining growth label"
      ]
    },
    {
      "cell_type": "code",
      "metadata": {
        "id": "2WviclmPTXpG"
      },
      "source": [
        "new_cases_list = average_newCases_df2['percent_newcases'].values\n",
        "diffArr = np.diff(new_cases_list)\n",
        "print(len(diffArr))\n",
        "diffArr[0]"
      ],
      "execution_count": null,
      "outputs": []
    },
    {
      "cell_type": "code",
      "metadata": {
        "id": "zvHITALCTXsc"
      },
      "source": [
        "growth_values =[]\n",
        "growth_values.append(0.0) # making first value as 0, as np.diff leaves first values as NA\n",
        "\n",
        "print('growth_values : ',len(growth_values))\n",
        "growth_values.extend(diffArr)\n",
        "print('growth_values : ',len(growth_values))"
      ],
      "execution_count": null,
      "outputs": []
    },
    {
      "cell_type": "code",
      "metadata": {
        "id": "WFB6YCRvTXxA"
      },
      "source": [
        "average_newCases_df2['growth_per_day'] = growth_values\n"
      ],
      "execution_count": null,
      "outputs": []
    },
    {
      "cell_type": "markdown",
      "metadata": {
        "id": "6JXJxeGwUVnG"
      },
      "source": [
        "### Checking mean, std dev and variance for growth data\n"
      ]
    },
    {
      "cell_type": "code",
      "metadata": {
        "id": "nDdszbhCTXRM"
      },
      "source": [
        "stdDev = np.std(diffArr)\n",
        "variance = np.var(diffArr)\n",
        "mean = np.mean(diffArr)\n",
        "min = np.min(diffArr)\n",
        "max = np.max(diffArr)\n",
        "\n",
        "\n",
        "print(\"min \",min)\n",
        "print(\"max \",max)\n",
        "\n",
        "print(\"mean \",mean)\n",
        "print(\"std. deviation \",stdDev)\n",
        "print(\"variance \",variance)"
      ],
      "execution_count": null,
      "outputs": []
    },
    {
      "cell_type": "markdown",
      "metadata": {
        "id": "7F323xrmUZZU"
      },
      "source": [
        "### Getting positive cases"
      ]
    },
    {
      "cell_type": "code",
      "metadata": {
        "id": "dW_glXzmUbfm"
      },
      "source": [
        "print('length diffArr: ',len(diffArr))\n",
        "\n",
        "non_zero_pos_diff = []\n",
        "\n",
        "for i in diffArr:\n",
        "  if i > 0:\n",
        "    non_zero_pos_diff.append(i)\n",
        "\n",
        "print('non_zero_pos_diff length: ',len(non_zero_pos_diff))\n"
      ],
      "execution_count": null,
      "outputs": []
    },
    {
      "cell_type": "code",
      "metadata": {
        "id": "Aelcx26BUeSj"
      },
      "source": [
        "stdDev = np.std(non_zero_pos_diff)\n",
        "variance = np.var(non_zero_pos_diff)\n",
        "mean = np.mean(non_zero_pos_diff)\n",
        "min = np.min(non_zero_pos_diff)\n",
        "max = np.max(non_zero_pos_diff)\n",
        "\n",
        "\n",
        "print(\"min \",min)\n",
        "print(\"max \",max)\n",
        "\n",
        "print(\"mean \",mean)\n",
        "print(\"std. deviation \",stdDev)\n",
        "print(\"variance \",variance)\n"
      ],
      "execution_count": null,
      "outputs": []
    },
    {
      "cell_type": "markdown",
      "metadata": {
        "id": "nWUFO1M3Ugwe"
      },
      "source": [
        "### Getting negative cases"
      ]
    },
    {
      "cell_type": "code",
      "metadata": {
        "id": "7QZOUcSoUirx"
      },
      "source": [
        "print('length diffArr: ',len(diffArr))\n",
        "\n",
        "non_zero_neg_diff = []\n",
        "\n",
        "for i in diffArr:\n",
        "  if i < 0:\n",
        "    non_zero_neg_diff.append(i)\n",
        "print(\"non_zero_neg_diff length : \",len(non_zero_neg_diff))\n"
      ],
      "execution_count": null,
      "outputs": []
    },
    {
      "cell_type": "code",
      "metadata": {
        "id": "apvIVIv9Ukz4"
      },
      "source": [
        "stdDev = np.std(non_zero_neg_diff)\n",
        "variance = np.var(non_zero_neg_diff)\n",
        "mean = np.mean(non_zero_neg_diff)\n",
        "min = np.min(non_zero_neg_diff)\n",
        "max = np.max(non_zero_neg_diff)\n",
        "\n",
        "\n",
        "print(\"min \",min)\n",
        "print(\"max \",max)\n",
        "\n",
        "print(\"mean \",mean)\n",
        "print(\"std. deviation \",stdDev)\n",
        "print(\"variance \",variance)"
      ],
      "execution_count": null,
      "outputs": []
    },
    {
      "cell_type": "markdown",
      "metadata": {
        "id": "CZOv3YzOUr9Q"
      },
      "source": [
        "### Applying Jenks Natural break"
      ]
    },
    {
      "cell_type": "code",
      "metadata": {
        "id": "dLmlrXcmUper"
      },
      "source": [
        "\n",
        "pos_breaks = jenkspy.jenks_breaks(non_zero_pos_diff, nb_class=2)\n",
        "print(pos_breaks)\n",
        "neg_breaks = jenkspy.jenks_breaks(non_zero_neg_diff, nb_class=2)\n",
        "print(neg_breaks)"
      ],
      "execution_count": null,
      "outputs": []
    },
    {
      "cell_type": "markdown",
      "metadata": {
        "id": "A_LE_lfYVGx1"
      },
      "source": [
        "#### **Note**: \n",
        "\n",
        "From the positive and negative break, \n",
        "* [ -0.009978 , 0.001377 ] - flat growth\n",
        "* [ 0.001377 , 157.486111 ] - mild growth\n",
        "* [ 157.486111 , 377.00 ] - drastic growth\n",
        "* [ -0.009978 , -157.486111 ] - mild decrement\n",
        "* [ -157.486111, -377.00 ] - drastic decrement"
      ]
    },
    {
      "cell_type": "code",
      "metadata": {
        "id": "AB-zBDczVCGq"
      },
      "source": [
        "#original range for CA -inertia data\n",
        "'''\n",
        "def determine_growth_label_inertia(x):\n",
        "  if x >= -0.009978 and x <= 0.001377:\n",
        "    return 'flat_growth'\n",
        "  if x > 0.001377 and x <= 157.486111:\n",
        "    return 'mild_growth'\n",
        "  if x > 157.486111 and x <= 377.00:\n",
        "    return 'drastic_growth'\n",
        "  if x >= -157.486111  and x <= -0.009978:\n",
        "    return 'mild_decrement'\n",
        "  if x >= -377.00 and x < -157.486111:\n",
        "    return 'drastic_decrement'\n",
        "'''"
      ],
      "execution_count": null,
      "outputs": []
    },
    {
      "cell_type": "code",
      "metadata": {
        "id": "saA_wE5chVCe"
      },
      "source": [
        "# temporarily using same label range of combined data for inertia data\n",
        "\n",
        "'''\n",
        "def determine_growth_label_inertia(x):\n",
        "  if x >= -0.012359 and x <= 0.000374:\n",
        "    return 'flat_growth'\n",
        "  if x > 0.000374 and x <= 21.813186:\n",
        "    return 'mild_growth'\n",
        "  if x > 21.813186 and x <= 95.421053:\n",
        "    return 'drastic_growth'\n",
        "  if x >= -21.813186  and x <= -0.012359:\n",
        "    return 'mild_decrement'\n",
        "  if x >= -95.421053 and x < -21.813186:\n",
        "    return 'drastic_decrement'\n",
        "'''"
      ],
      "execution_count": null,
      "outputs": []
    },
    {
      "cell_type": "code",
      "metadata": {
        "id": "guzZsW43A3-E"
      },
      "source": [
        "# temporarily using NY combined data range for CA\n",
        "def determine_growth_label_inertia(x):\n",
        "  if x >= -0.002109 and x <= 0.00011:\n",
        "    return 'flat_growth'\n",
        "  if x > 0.00011 and x <= 39.5:\n",
        "    return 'mild_growth'\n",
        "  if x > 39.5 and x <= 410.1818:\n",
        "    return 'drastic_growth'\n",
        "  if x >= -39.5  and x <= -0.0021:\n",
        "    return 'mild_decrement'\n",
        "  if x >= -410.18 and x < -39.5:\n",
        "    return 'drastic_decrement'"
      ],
      "execution_count": null,
      "outputs": []
    },
    {
      "cell_type": "code",
      "metadata": {
        "id": "QO7RCChaVA4x"
      },
      "source": [
        "average_newCases_df2['growth_label'] = average_newCases_df2['growth_per_day'].apply(lambda x: determine_growth_label_inertia(x) )"
      ],
      "execution_count": null,
      "outputs": []
    },
    {
      "cell_type": "code",
      "metadata": {
        "id": "snhJX_SWsaR_"
      },
      "source": [
        "average_newCases_df2.head(3)"
      ],
      "execution_count": null,
      "outputs": []
    },
    {
      "cell_type": "code",
      "metadata": {
        "id": "rKfXW776sfdC"
      },
      "source": [
        "average_newCases_df2_growth0 = average_newCases_df2[average_newCases_df2['growth_label'] == 'drastic_decrement']\n",
        "average_newCases_df2_growth1 = average_newCases_df2[average_newCases_df2['growth_label'] == 'drastic_growth']\n",
        "average_newCases_df2_growth2 = average_newCases_df2[average_newCases_df2['growth_label'] == 'flat_growth']\n",
        "average_newCases_df2_growth3 = average_newCases_df2[average_newCases_df2['growth_label'] == 'mild_decrement']\n",
        "average_newCases_df2_growth4 = average_newCases_df2[average_newCases_df2['growth_label'] == 'mild_growth']\n",
        "\n",
        "print(average_newCases_df2_growth0.shape)\n",
        "print(average_newCases_df2_growth1.shape)\n",
        "print(average_newCases_df2_growth2.shape)\n",
        "print(average_newCases_df2_growth3.shape)\n",
        "print(average_newCases_df2_growth4.shape)"
      ],
      "execution_count": null,
      "outputs": []
    },
    {
      "cell_type": "markdown",
      "metadata": {
        "id": "t8tIyWqfDg5b"
      },
      "source": [
        "## Jenks Natural breaks "
      ]
    },
    {
      "cell_type": "code",
      "metadata": {
        "id": "9xtFTIcCDg5b"
      },
      "source": [
        "!pip install jenkspy\n"
      ],
      "execution_count": null,
      "outputs": []
    },
    {
      "cell_type": "code",
      "metadata": {
        "id": "Ystn74C2Dg5e"
      },
      "source": [
        "import jenkspy\n",
        "\n",
        "breaks = jenkspy.jenks_breaks(average_newCases_df2['percent_newcases'], nb_class=3)\n",
        "print(breaks)"
      ],
      "execution_count": null,
      "outputs": []
    },
    {
      "cell_type": "markdown",
      "metadata": {
        "id": "RYHAliDBDg5l"
      },
      "source": [
        "### Labeling criteria\n",
        "\n",
        "We have applied \"jenks Natural breaks' to label the county data as per 'percent change in cases'\n",
        "\n",
        "From the natural break algorithm, we have splited the data as follows \n",
        "\n",
        "* -1.136 to 3.642 is **label 1** (least chance of spreading) \n",
        "\n",
        "* 3.642 to 13.625 is **label 2** (Below threshold but chances to reach super spread level)\n",
        "\n",
        "* 13.625 to 410.181818 is **label 3** (Super spread week)"
      ]
    },
    {
      "cell_type": "markdown",
      "metadata": {
        "id": "szrkUcCjIRVV"
      },
      "source": [
        "4 class labeling"
      ]
    },
    {
      "cell_type": "code",
      "metadata": {
        "id": "yo2DmKmODg5g"
      },
      "source": [
        "import jenkspy\n",
        "\n",
        "breaks = jenkspy.jenks_breaks(average_newCases_df2['percent_newcases'], nb_class=4)\n",
        "print(breaks)"
      ],
      "execution_count": null,
      "outputs": []
    },
    {
      "cell_type": "code",
      "metadata": {
        "id": "z_X2UYUzDg5l"
      },
      "source": [
        "average_newCases_df2['labels'] = pd.cut(average_newCases_df2['percent_newcases'],\n",
        "                        bins=breaks,\n",
        "                        labels=['LessSpread','Spread', 'SuperSpread','SuperSpread2'])"
      ],
      "execution_count": null,
      "outputs": []
    },
    {
      "cell_type": "code",
      "metadata": {
        "id": "5jCcF-cnDg5p"
      },
      "source": [
        "print('Number of records in LessSpread:',average_newCases_df2[average_newCases_df2['labels'] == 'LessSpread']['CTNAME'].count())\n",
        "print('Number of records in Spread:',average_newCases_df2[average_newCases_df2['labels'] == 'Spread']['CTNAME'].count())\n",
        "print('Number of records in SuperSpread:',average_newCases_df2[average_newCases_df2['labels'] == 'SuperSpread']['CTNAME'].count())\n",
        "\n",
        "print('Number of records in SuperSpread:',average_newCases_df2[average_newCases_df2['labels'] == 'SuperSpread2']['CTNAME'].count())"
      ],
      "execution_count": null,
      "outputs": []
    },
    {
      "cell_type": "markdown",
      "metadata": {
        "id": "y7WRtWRSIXsn"
      },
      "source": [
        "8 class labeling"
      ]
    },
    {
      "cell_type": "code",
      "metadata": {
        "id": "8NoMR0xnHrFm"
      },
      "source": [
        "breaks = jenkspy.jenks_breaks(average_newCases_df2['percent_newcases'], nb_class=8)\n",
        "print(breaks)"
      ],
      "execution_count": null,
      "outputs": []
    },
    {
      "cell_type": "code",
      "metadata": {
        "id": "PD7KoFEEDg5n"
      },
      "source": [
        "average_newCases_df2['labels'] = pd.cut(average_newCases_df2['percent_newcases'],\n",
        "                        bins=breaks,\n",
        "                        labels=['LessSpread','Spread', 'SuperSpread1','SuperSpread2','SuperSpread3','SuperSpread4','SuperSpread5','SuperSpread6'])"
      ],
      "execution_count": null,
      "outputs": []
    },
    {
      "cell_type": "code",
      "metadata": {
        "id": "2oL-Lg9VDg5q"
      },
      "source": [
        "print('Number of records in LessSpread:',average_newCases_df2[average_newCases_df2['labels'] == 'LessSpread']['CTNAME'].count())\n",
        "print('Number of records in Spread:',average_newCases_df2[average_newCases_df2['labels'] == 'Spread']['CTNAME'].count())\n",
        "print('Number of records in SuperSpread:',average_newCases_df2[average_newCases_df2['labels'] == 'SuperSpread1']['CTNAME'].count())\n",
        "print('Number of records in SuperSpread2:',average_newCases_df2[average_newCases_df2['labels'] == 'SuperSpread2']['CTNAME'].count())\n",
        "print('Number of records in SuperSpread3:',average_newCases_df2[average_newCases_df2['labels'] == 'SuperSpread3']['CTNAME'].count())\n",
        "print('Number of records in SuperSpread4:',average_newCases_df2[average_newCases_df2['labels'] == 'SuperSpread4']['CTNAME'].count())\n",
        "print('Number of records in SuperSpread5:',average_newCases_df2[average_newCases_df2['labels'] == 'SuperSpread5']['CTNAME'].count())\n",
        "print('Number of records in SuperSpread6:',average_newCases_df2[average_newCases_df2['labels'] == 'SuperSpread6']['CTNAME'].count())"
      ],
      "execution_count": null,
      "outputs": []
    },
    {
      "cell_type": "code",
      "metadata": {
        "id": "CaLTNiYpDg5s"
      },
      "source": [
        "average_newCases_df2.head()"
      ],
      "execution_count": null,
      "outputs": []
    },
    {
      "cell_type": "markdown",
      "metadata": {
        "id": "FSbnoyQHDmNr"
      },
      "source": [
        "# 2.3 Labeling data for CA -Maryland Social Distancing Inertia combined"
      ]
    },
    {
      "cell_type": "code",
      "metadata": {
        "id": "YtAQAPzpDmN0"
      },
      "source": [
        "CA_combined_sd_inertia_data.head(2)"
      ],
      "execution_count": null,
      "outputs": []
    },
    {
      "cell_type": "code",
      "metadata": {
        "id": "wEgoVgE_DmN6"
      },
      "source": [
        "CA_combined_sd_inertia_data_ = CA_combined_sd_inertia_data.copy()"
      ],
      "execution_count": null,
      "outputs": []
    },
    {
      "cell_type": "code",
      "metadata": {
        "id": "n6gelhrqDmN8"
      },
      "source": [
        "CA_combined_sd_inertia_data = CA_combined_sd_inertia_data_.copy().reset_index(drop=True)"
      ],
      "execution_count": null,
      "outputs": []
    },
    {
      "cell_type": "code",
      "metadata": {
        "id": "sRqOVVm4DmN-"
      },
      "source": [
        "#average_newCases_df = pd.DataFrame(columns=['County Name',  'fips_x',  'average_per_week','startDate','endDate'])\n",
        "\n",
        "for index, row in tqdm(average_newCases_df2.iterrows()):\n",
        "    startDate, endDate = row['startDate'], row['endDate']\n",
        "    fips = row['FIPS']\n",
        "    #print(startDate,endDate,fips)\n",
        "    df_index = (CA_combined_sd_inertia_data['FIPS'] == row['FIPS']) & (CA_combined_sd_inertia_data['Date'] >= startDate) & (CA_combined_sd_inertia_data['Date'] <= endDate)\n",
        "    df_weekData =  CA_combined_sd_inertia_data.loc[df_index]\n",
        "    #print(df_weekData)\n",
        "    CA_combined_sd_inertia_data.loc[df_index,'label'] = row['labels']\n",
        "    CA_combined_sd_inertia_data.loc[df_index,'growth_label'] = row['growth_label']\n",
        "\n",
        "\n"
      ],
      "execution_count": null,
      "outputs": []
    },
    {
      "cell_type": "code",
      "metadata": {
        "id": "tdloE2MXDmOB"
      },
      "source": [
        "CA_combined_sd_inertia_data.head(5)"
      ],
      "execution_count": null,
      "outputs": []
    },
    {
      "cell_type": "code",
      "metadata": {
        "id": "DtVoVGgGDmOD"
      },
      "source": [
        "CA_combined_sd_inertia_data[CA_combined_sd_inertia_data['label'] == 'SuperSpread2'].sort_values(by=['FIPS','Date']).count()"
      ],
      "execution_count": null,
      "outputs": []
    },
    {
      "cell_type": "code",
      "metadata": {
        "id": "iCfthn2-DmOE"
      },
      "source": [
        "CA_combined_sd_inertia_data.shape"
      ],
      "execution_count": null,
      "outputs": []
    },
    {
      "cell_type": "code",
      "metadata": {
        "id": "11KH6RxNDmOG"
      },
      "source": [
        "CA_combined_sd_inertia_data['label'] = CA_combined_sd_inertia_data['label'].apply(lambda x: x if x != 'SuperSpread2' else 'SuperSpread')"
      ],
      "execution_count": null,
      "outputs": []
    },
    {
      "cell_type": "markdown",
      "metadata": {
        "id": "FG5rsdswOkln"
      },
      "source": [
        "## Computing growth label per 1k population"
      ]
    },
    {
      "cell_type": "code",
      "metadata": {
        "id": "dPtMOBJmOjRx"
      },
      "source": [
        "newcases_1k_inertia = CA_combined_sd_inertia_data['New cases/1000 people'].values"
      ],
      "execution_count": null,
      "outputs": []
    },
    {
      "cell_type": "code",
      "metadata": {
        "id": "mPNg_wcWOjiV"
      },
      "source": [
        "diffArr = np.diff(newcases_1k_inertia)\n",
        "print(len(diffArr))\n",
        "diffArr[0]\n",
        "\n",
        "growth_values =[]\n",
        "growth_values.append(0.0) # making first value as 0, as np.diff leaves first values as NA\n",
        "print('growth_values : ',len(growth_values))\n",
        "growth_values.extend(diffArr)\n",
        "print('growth_values : ',len(growth_values))"
      ],
      "execution_count": null,
      "outputs": []
    },
    {
      "cell_type": "markdown",
      "metadata": {
        "id": "gz4dGQOfO3WF"
      },
      "source": [
        "## Determining mean,stddev, variance"
      ]
    },
    {
      "cell_type": "code",
      "metadata": {
        "id": "oA_TV6iUOjc0"
      },
      "source": [
        "stdDev = np.std(diffArr)\n",
        "variance = np.var(diffArr)\n",
        "mean = np.mean(diffArr)\n",
        "min = np.min(diffArr)\n",
        "max = np.max(diffArr)\n",
        "\n",
        "\n",
        "print(\"min \",min)\n",
        "print(\"max \",max)\n",
        "\n",
        "print(\"mean \",mean)\n",
        "print(\"std. deviation \",stdDev)\n",
        "print(\"variance \",variance)\n",
        "\n"
      ],
      "execution_count": null,
      "outputs": []
    },
    {
      "cell_type": "markdown",
      "metadata": {
        "id": "-Z7O7u3HO-ZQ"
      },
      "source": [
        "## Getting positive cases"
      ]
    },
    {
      "cell_type": "code",
      "metadata": {
        "id": "UUIwPs9UOjEY"
      },
      "source": [
        "print('length diffArr: ',len(diffArr))\n",
        "\n",
        "non_zero_pos_diff = []\n",
        "\n",
        "for i in diffArr:\n",
        "  if i > 0:\n",
        "    non_zero_pos_diff.append(i)\n",
        "\n",
        "print('non_zero_pos_diff length: ',len(non_zero_pos_diff))\n",
        "\n",
        "\n",
        "stdDev = np.std(non_zero_pos_diff)\n",
        "variance = np.var(non_zero_pos_diff)\n",
        "mean = np.mean(non_zero_pos_diff)\n",
        "min = np.min(non_zero_pos_diff)\n",
        "max = np.max(non_zero_pos_diff)\n",
        "\n",
        "\n",
        "print(\"min \",min)\n",
        "print(\"max \",max)\n",
        "\n",
        "print(\"mean \",mean)\n",
        "print(\"std. deviation \",stdDev)\n",
        "print(\"variance \",variance)\n"
      ],
      "execution_count": null,
      "outputs": []
    },
    {
      "cell_type": "markdown",
      "metadata": {
        "id": "TYwU48EEPA0Y"
      },
      "source": [
        "## Getting negative cases"
      ]
    },
    {
      "cell_type": "code",
      "metadata": {
        "id": "aLplu8uaPGxJ"
      },
      "source": [
        "non_zero_neg_diff = []\n",
        "\n",
        "for i in diffArr:\n",
        "  if i < 0:\n",
        "    non_zero_neg_diff.append(i)\n",
        "print(\"non_zero_neg_diff length : \",len(non_zero_neg_diff))\n",
        "\n",
        "stdDev = np.std(non_zero_neg_diff)\n",
        "variance = np.var(non_zero_neg_diff)\n",
        "mean = np.mean(non_zero_neg_diff)\n",
        "min = np.min(non_zero_neg_diff)\n",
        "max = np.max(non_zero_neg_diff)\n",
        "\n",
        "\n",
        "print(\"min \",min)\n",
        "print(\"max \",max)\n",
        "\n",
        "print(\"mean \",mean)\n",
        "print(\"std. deviation \",stdDev)\n",
        "print(\"variance \",variance)\n"
      ],
      "execution_count": null,
      "outputs": []
    },
    {
      "cell_type": "markdown",
      "metadata": {
        "id": "RoHWi3CEPJJx"
      },
      "source": [
        "## Applying natural breaks"
      ]
    },
    {
      "cell_type": "code",
      "metadata": {
        "id": "z7rMDJQ1PMG4"
      },
      "source": [
        "pos_breaks = jenkspy.jenks_breaks(non_zero_pos_diff, nb_class=2)\n",
        "print(pos_breaks)\n",
        "neg_breaks = jenkspy.jenks_breaks(non_zero_neg_diff, nb_class=2)\n",
        "print(neg_breaks)\n"
      ],
      "execution_count": null,
      "outputs": []
    },
    {
      "cell_type": "markdown",
      "metadata": {
        "id": "t-jDd75F6kCg"
      },
      "source": [
        "## New Labeling"
      ]
    },
    {
      "cell_type": "code",
      "metadata": {
        "id": "wYrF4gLC6mJK"
      },
      "source": [
        "\n",
        "def determine_growth_label_inertia1k(x):\n",
        "  if x >= -0.000009 and x <= 0.00009:\n",
        "    return 'flat_growth'\n",
        "  if x > 0.00009 and x <= 0.3248:\n",
        "    return 'mild_growth'\n",
        "  if x > 0.3248 and x <= 2.1234:\n",
        "    return 'drastic_growth'\n",
        "  if x >= -0.3404  and x <= -0.000009:\n",
        "    return 'mild_decrement'\n",
        "  if x >= -2.1359 and x < -0.3404:\n",
        "    return 'drastic_decrement'"
      ],
      "execution_count": null,
      "outputs": []
    },
    {
      "cell_type": "code",
      "metadata": {
        "id": "dU4jcGi26tt3"
      },
      "source": [
        "CA_combined_sd_inertia_data['growth_label_1k'] = CA_combined_sd_inertia_data['New cases/1000 people'].apply(lambda x: determine_growth_label_inertia1k(x) )"
      ],
      "execution_count": null,
      "outputs": []
    },
    {
      "cell_type": "code",
      "metadata": {
        "id": "ZbJmjgUz67fy"
      },
      "source": [
        "CA_combined_sd_inertia_data['growth_label_1k'].unique()\n",
        "CA_combined_data['growth_label_1k'].unique()"
      ],
      "execution_count": null,
      "outputs": []
    },
    {
      "cell_type": "code",
      "metadata": {
        "id": "CRXbYLE1wbDY"
      },
      "source": [
        "CA_combined_sd_inertia_data_growth0 = CA_combined_sd_inertia_data[CA_combined_sd_inertia_data['growth_label'] == 'drastic_decrement']\n",
        "CA_combined_sd_inertia_data_growth1 = CA_combined_sd_inertia_data[CA_combined_sd_inertia_data['growth_label'] == 'drastic_growth']\n",
        "CA_combined_sd_inertia_data_growth2 = CA_combined_sd_inertia_data[CA_combined_sd_inertia_data['growth_label'] == 'flat_growth']\n",
        "CA_combined_sd_inertia_data_growth3 = CA_combined_sd_inertia_data[CA_combined_sd_inertia_data['growth_label'] == 'mild_decrement']\n",
        "CA_combined_sd_inertia_data_growth4 = CA_combined_sd_inertia_data[CA_combined_sd_inertia_data['growth_label'] == 'mild_growth']\n",
        "\n",
        "print(CA_combined_sd_inertia_data_growth0.shape)\n",
        "print(CA_combined_sd_inertia_data_growth1.shape)\n",
        "print(CA_combined_sd_inertia_data_growth2.shape)\n",
        "print(CA_combined_sd_inertia_data_growth3.shape)\n",
        "print(CA_combined_sd_inertia_data_growth4.shape)\n"
      ],
      "execution_count": null,
      "outputs": []
    },
    {
      "cell_type": "markdown",
      "metadata": {
        "id": "NtgqBtTdyv1f"
      },
      "source": [
        "### Export Labeled Maryland Inertia Data"
      ]
    },
    {
      "cell_type": "code",
      "metadata": {
        "id": "TIm2P7cDDmOH"
      },
      "source": [
        "from datetime import datetime\n",
        "location = '/content/drive/Shared drives/CMPE 295- Master Project/Covid19-data/'\n",
        "filename = 'CA_sd_inertia_labeledData_'+datetime.now().strftime(\"%b%d\")+'.csv' #%Y%m%d\n",
        "print(filename)\n",
        "CA_combined_sd_inertia_data.to_csv(location+filename,index=False)"
      ],
      "execution_count": null,
      "outputs": []
    },
    {
      "cell_type": "code",
      "metadata": {
        "id": "LcFFdnyfDmOJ"
      },
      "source": [
        "average_newCases_df2[average_newCases_df2['labels'] == 'SuperSpread']"
      ],
      "execution_count": null,
      "outputs": []
    },
    {
      "cell_type": "markdown",
      "metadata": {
        "id": "bhXWeRYLDmOK"
      },
      "source": [
        "## Kernal Density Estimation"
      ]
    },
    {
      "cell_type": "code",
      "metadata": {
        "id": "6E7V-zX3DmOK"
      },
      "source": [
        "%matplotlib inline\n",
        "\n",
        "from numpy import array, linspace\n",
        "from sklearn.neighbors.kde import KernelDensity\n",
        "from matplotlib.pyplot import plot\n",
        "\n",
        "a = array(data).reshape(-1, 1)\n",
        "kde = KernelDensity(kernel='gaussian', bandwidth=3).fit(a)\n",
        "s = linspace(0,50)\n",
        "e = kde.score_samples(s.reshape(-1,1))\n",
        "plot(s, e)"
      ],
      "execution_count": null,
      "outputs": []
    },
    {
      "cell_type": "code",
      "metadata": {
        "id": "TXzZnc3zDmOM"
      },
      "source": [
        "\n",
        "\n",
        "from scipy.signal import argrelextrema\n",
        "mi, ma = argrelextrema(e, np.less)[0], argrelextrema(e, np.greater)[0]\n",
        "print(\"Minima:\", s[mi])\n",
        "print(\"Maxima:\", s[ma])"
      ],
      "execution_count": null,
      "outputs": []
    },
    {
      "cell_type": "code",
      "metadata": {
        "id": "2nWMV5PxDmOO"
      },
      "source": [
        "lower_range = s[mi][0]\n",
        "upper_range = s[mi][1]\n",
        "\n",
        "lower_range"
      ],
      "execution_count": null,
      "outputs": []
    },
    {
      "cell_type": "code",
      "metadata": {
        "id": "CNNUo3H3DmOQ"
      },
      "source": [
        "print(a[a < mi[0]], a[(a >= mi[0]) * (a <= mi[1])], a[a >= mi[1]])\n"
      ],
      "execution_count": null,
      "outputs": []
    },
    {
      "cell_type": "markdown",
      "metadata": {
        "id": "OKW5GbptDmOR"
      },
      "source": [
        "[-1.1363636363636362, 39.5, 213.91325695581014, 410.1818181818182]"
      ]
    },
    {
      "cell_type": "markdown",
      "metadata": {
        "id": "20G9vN0IDmOR"
      },
      "source": [
        "Minima: [19.3877551  33.67346939]\n",
        "Maxima: [24.48979592 39.79591837]*italicized text*"
      ]
    },
    {
      "cell_type": "code",
      "metadata": {
        "id": "Gt4GntGnDmOS"
      },
      "source": [
        "plot(s[:mi[0]+1], e[:mi[0]+1], 'r',\n",
        "     s[mi[0]:mi[1]+1], e[mi[0]:mi[1]+1], 'g',\n",
        "     s[mi[1]:], e[mi[1]:], 'b',\n",
        "     s[ma], e[ma], 'go',\n",
        "     s[mi], e[mi], 'ro')"
      ],
      "execution_count": null,
      "outputs": []
    },
    {
      "cell_type": "markdown",
      "metadata": {
        "id": "0UtkB-ScDmOT"
      },
      "source": [
        "print(a[a < mi[0]], a[(a >= mi[0]) * (a <= mi[1])], a[a >= mi[1]])\n"
      ]
    },
    {
      "cell_type": "markdown",
      "metadata": {
        "id": "Fh1oil7DDmOT"
      },
      "source": [
        "## Labeling Data with Kernal density results"
      ]
    },
    {
      "cell_type": "code",
      "metadata": {
        "id": "isRxL9xbDmOT"
      },
      "source": [
        "average_newCases_df3.head()"
      ],
      "execution_count": null,
      "outputs": []
    },
    {
      "cell_type": "code",
      "metadata": {
        "id": "BowTKmD4DmOV"
      },
      "source": [
        "print(lower_range, upper_range)"
      ],
      "execution_count": null,
      "outputs": []
    },
    {
      "cell_type": "code",
      "metadata": {
        "id": "A2dPwoXqDmOW"
      },
      "source": [
        "average_newCases_df3['label'] = average_newCases_df3['percent_newcases'].apply(lambda x: 'lessSpread' if x < lower_range  else 'SuperSpread')\n"
      ],
      "execution_count": null,
      "outputs": []
    },
    {
      "cell_type": "code",
      "metadata": {
        "id": "8jKv8_mjDmOX"
      },
      "source": [
        "average_newCases_df3['label'] = average_newCases_df3['percent_newcases'].apply(lambda x: 'lessSpread' if x < lower_range else ('Spread' if (x >= lower_range and x <= upper_range) else 'SuperSpread'))\n",
        "\n",
        "\n",
        "\n",
        "#converter = lambda x : x*2 if x < 10 else (x*3 if x < 20 else x)\n",
        "\n"
      ],
      "execution_count": null,
      "outputs": []
    },
    {
      "cell_type": "code",
      "metadata": {
        "id": "keersvD3DmOZ"
      },
      "source": [
        "average_newCases_df3[average_newCases_df3['label'] == 'lessSpread'].count()"
      ],
      "execution_count": null,
      "outputs": []
    },
    {
      "cell_type": "code",
      "metadata": {
        "id": "PkO7WKp4DmOb"
      },
      "source": [
        "average_newCases_df3[average_newCases_df3['label'] == 'Spread'].count()"
      ],
      "execution_count": null,
      "outputs": []
    },
    {
      "cell_type": "code",
      "metadata": {
        "id": "r01ffwjEDmOc"
      },
      "source": [
        "average_newCases_df3[average_newCases_df3['label'] == 'SuperSpread'].count()"
      ],
      "execution_count": null,
      "outputs": []
    },
    {
      "cell_type": "code",
      "metadata": {
        "id": "6DMYpLj4Rg0J"
      },
      "source": [
        "average_newCases_df3[average_newCases_df3['growth_label'] == 'SuperSpread'].count()"
      ],
      "execution_count": null,
      "outputs": []
    },
    {
      "cell_type": "code",
      "metadata": {
        "id": "QOWiSktdDmOd"
      },
      "source": [
        "average_newCases_df3.head()"
      ],
      "execution_count": null,
      "outputs": []
    },
    {
      "cell_type": "markdown",
      "metadata": {
        "id": "jr2iCIH1NNM8"
      },
      "source": [
        "# Scaling -Test"
      ]
    },
    {
      "cell_type": "code",
      "metadata": {
        "id": "id7M0opcNQKS",
        "outputId": "28d231cc-df73-4a31-ddda-6b16ca5afe56",
        "colab": {
          "base_uri": "https://localhost:8080/",
          "height": 240
        }
      },
      "source": [
        "CA_combined_data_test.head(3)"
      ],
      "execution_count": 216,
      "outputs": [
        {
          "output_type": "execute_result",
          "data": {
            "text/html": [
              "<div>\n",
              "<style scoped>\n",
              "    .dataframe tbody tr th:only-of-type {\n",
              "        vertical-align: middle;\n",
              "    }\n",
              "\n",
              "    .dataframe tbody tr th {\n",
              "        vertical-align: top;\n",
              "    }\n",
              "\n",
              "    .dataframe thead th {\n",
              "        text-align: right;\n",
              "    }\n",
              "</style>\n",
              "<table border=\"1\" class=\"dataframe\">\n",
              "  <thead>\n",
              "    <tr style=\"text-align: right;\">\n",
              "      <th></th>\n",
              "      <th>Date</th>\n",
              "      <th>fips_x</th>\n",
              "      <th>County Name</th>\n",
              "      <th>retail and recreation</th>\n",
              "      <th>grocery and pharmacy</th>\n",
              "      <th>parks</th>\n",
              "      <th>transit stations</th>\n",
              "      <th>workplaces</th>\n",
              "      <th>residential</th>\n",
              "      <th>driving</th>\n",
              "      <th>m50</th>\n",
              "      <th>m50_index</th>\n",
              "      <th>population_density</th>\n",
              "      <th>mask_rule_active</th>\n",
              "      <th>mask_wearing_percent</th>\n",
              "      <th>New cases</th>\n",
              "      <th>rolling_avg_new_cases</th>\n",
              "      <th>population</th>\n",
              "      <th>label</th>\n",
              "      <th>growth_label</th>\n",
              "      <th>New Cases/1k population</th>\n",
              "      <th>growth_label_1k</th>\n",
              "    </tr>\n",
              "  </thead>\n",
              "  <tbody>\n",
              "    <tr>\n",
              "      <th>0</th>\n",
              "      <td>2020-03-01</td>\n",
              "      <td>6001</td>\n",
              "      <td>Alameda County</td>\n",
              "      <td>6.0</td>\n",
              "      <td>9.0</td>\n",
              "      <td>15.0</td>\n",
              "      <td>1.0</td>\n",
              "      <td>4.0</td>\n",
              "      <td>0.0</td>\n",
              "      <td>-7.65</td>\n",
              "      <td>3.684</td>\n",
              "      <td>58</td>\n",
              "      <td>2261.547725</td>\n",
              "      <td>0</td>\n",
              "      <td>0.0</td>\n",
              "      <td>0</td>\n",
              "      <td>0.0</td>\n",
              "      <td>1671329.0</td>\n",
              "      <td>LessSpread</td>\n",
              "      <td>flat_growth</td>\n",
              "      <td>0.0</td>\n",
              "      <td>flat_growth</td>\n",
              "    </tr>\n",
              "    <tr>\n",
              "      <th>1</th>\n",
              "      <td>2020-03-01</td>\n",
              "      <td>6067</td>\n",
              "      <td>Sacramento County</td>\n",
              "      <td>11.0</td>\n",
              "      <td>4.0</td>\n",
              "      <td>26.0</td>\n",
              "      <td>1.0</td>\n",
              "      <td>2.0</td>\n",
              "      <td>-1.0</td>\n",
              "      <td>-4.63</td>\n",
              "      <td>3.773</td>\n",
              "      <td>53</td>\n",
              "      <td>1608.950489</td>\n",
              "      <td>0</td>\n",
              "      <td>0.0</td>\n",
              "      <td>0</td>\n",
              "      <td>0.0</td>\n",
              "      <td>1552058.0</td>\n",
              "      <td>LessSpread</td>\n",
              "      <td>flat_growth</td>\n",
              "      <td>0.0</td>\n",
              "      <td>flat_growth</td>\n",
              "    </tr>\n",
              "    <tr>\n",
              "      <th>2</th>\n",
              "      <td>2020-03-01</td>\n",
              "      <td>6069</td>\n",
              "      <td>San Benito County</td>\n",
              "      <td>2.0</td>\n",
              "      <td>-1.0</td>\n",
              "      <td>-7.0</td>\n",
              "      <td>0.0</td>\n",
              "      <td>0.0</td>\n",
              "      <td>0.0</td>\n",
              "      <td>10.40</td>\n",
              "      <td>3.876</td>\n",
              "      <td>33</td>\n",
              "      <td>45.227585</td>\n",
              "      <td>0</td>\n",
              "      <td>0.0</td>\n",
              "      <td>0</td>\n",
              "      <td>0.0</td>\n",
              "      <td>62808.0</td>\n",
              "      <td>LessSpread</td>\n",
              "      <td>flat_growth</td>\n",
              "      <td>0.0</td>\n",
              "      <td>flat_growth</td>\n",
              "    </tr>\n",
              "  </tbody>\n",
              "</table>\n",
              "</div>"
            ],
            "text/plain": [
              "         Date  fips_x  ... New Cases/1k population  growth_label_1k\n",
              "0  2020-03-01    6001  ...                     0.0      flat_growth\n",
              "1  2020-03-01    6067  ...                     0.0      flat_growth\n",
              "2  2020-03-01    6069  ...                     0.0      flat_growth\n",
              "\n",
              "[3 rows x 22 columns]"
            ]
          },
          "metadata": {
            "tags": []
          },
          "execution_count": 216
        }
      ]
    },
    {
      "cell_type": "markdown",
      "metadata": {
        "id": "PR3SlV3pTPM7"
      },
      "source": [
        "## New Cases = Greater than 2000"
      ]
    },
    {
      "cell_type": "code",
      "metadata": {
        "id": "8SgeM2LLScdC"
      },
      "source": [
        "CA_combined_data_test_greaterthan2000 = CA_combined_data_test[(CA_combined_data_test['New cases'] > 2000 ) & (CA_combined_data_test['County Name']== 'Los Angeles County')]"
      ],
      "execution_count": 255,
      "outputs": []
    },
    {
      "cell_type": "code",
      "metadata": {
        "id": "a4r-vaPkTTIx",
        "outputId": "aa6527c7-efec-49dd-80df-c6de5bd11c5f",
        "colab": {
          "base_uri": "https://localhost:8080/",
          "height": 1000
        }
      },
      "source": [
        "CA_combined_data_test_greaterthan2000.sort_values(by='Date', ascending=True)\n"
      ],
      "execution_count": 256,
      "outputs": [
        {
          "output_type": "execute_result",
          "data": {
            "text/html": [
              "<div>\n",
              "<style scoped>\n",
              "    .dataframe tbody tr th:only-of-type {\n",
              "        vertical-align: middle;\n",
              "    }\n",
              "\n",
              "    .dataframe tbody tr th {\n",
              "        vertical-align: top;\n",
              "    }\n",
              "\n",
              "    .dataframe thead th {\n",
              "        text-align: right;\n",
              "    }\n",
              "</style>\n",
              "<table border=\"1\" class=\"dataframe\">\n",
              "  <thead>\n",
              "    <tr style=\"text-align: right;\">\n",
              "      <th></th>\n",
              "      <th>Date</th>\n",
              "      <th>fips_x</th>\n",
              "      <th>County Name</th>\n",
              "      <th>retail and recreation</th>\n",
              "      <th>grocery and pharmacy</th>\n",
              "      <th>parks</th>\n",
              "      <th>transit stations</th>\n",
              "      <th>workplaces</th>\n",
              "      <th>residential</th>\n",
              "      <th>driving</th>\n",
              "      <th>m50</th>\n",
              "      <th>m50_index</th>\n",
              "      <th>population_density</th>\n",
              "      <th>mask_rule_active</th>\n",
              "      <th>mask_wearing_percent</th>\n",
              "      <th>New cases</th>\n",
              "      <th>rolling_avg_new_cases</th>\n",
              "      <th>population</th>\n",
              "      <th>label</th>\n",
              "      <th>growth_label</th>\n",
              "      <th>New Cases/1k population</th>\n",
              "      <th>growth_label_1k</th>\n",
              "    </tr>\n",
              "  </thead>\n",
              "  <tbody>\n",
              "    <tr>\n",
              "      <th>4711</th>\n",
              "      <td>2020-05-30</td>\n",
              "      <td>6037</td>\n",
              "      <td>Los Angeles County</td>\n",
              "      <td>-45.0</td>\n",
              "      <td>-12.0</td>\n",
              "      <td>-20.0</td>\n",
              "      <td>-39.0</td>\n",
              "      <td>-21.0</td>\n",
              "      <td>13.0</td>\n",
              "      <td>-12.42</td>\n",
              "      <td>0.644</td>\n",
              "      <td>9</td>\n",
              "      <td>2473.978284</td>\n",
              "      <td>0</td>\n",
              "      <td>0.000</td>\n",
              "      <td>2068</td>\n",
              "      <td>0.000000</td>\n",
              "      <td>10039107.0</td>\n",
              "      <td>LessSpread</td>\n",
              "      <td>flat_growth</td>\n",
              "      <td>0.205994</td>\n",
              "      <td>mild_growth</td>\n",
              "    </tr>\n",
              "    <tr>\n",
              "      <th>5701</th>\n",
              "      <td>2020-06-17</td>\n",
              "      <td>6037</td>\n",
              "      <td>Los Angeles County</td>\n",
              "      <td>-31.0</td>\n",
              "      <td>-10.0</td>\n",
              "      <td>-1.0</td>\n",
              "      <td>-37.0</td>\n",
              "      <td>-40.0</td>\n",
              "      <td>15.0</td>\n",
              "      <td>-5.60</td>\n",
              "      <td>2.701</td>\n",
              "      <td>40</td>\n",
              "      <td>2473.978284</td>\n",
              "      <td>0</td>\n",
              "      <td>0.000</td>\n",
              "      <td>2098</td>\n",
              "      <td>0.000000</td>\n",
              "      <td>10039107.0</td>\n",
              "      <td>LessSpread</td>\n",
              "      <td>flat_growth</td>\n",
              "      <td>0.208983</td>\n",
              "      <td>mild_growth</td>\n",
              "    </tr>\n",
              "    <tr>\n",
              "      <th>5832</th>\n",
              "      <td>2020-06-20</td>\n",
              "      <td>6037</td>\n",
              "      <td>Los Angeles County</td>\n",
              "      <td>-33.0</td>\n",
              "      <td>-4.0</td>\n",
              "      <td>-16.0</td>\n",
              "      <td>-34.0</td>\n",
              "      <td>-18.0</td>\n",
              "      <td>8.0</td>\n",
              "      <td>2.85</td>\n",
              "      <td>2.712</td>\n",
              "      <td>41</td>\n",
              "      <td>2473.978284</td>\n",
              "      <td>1</td>\n",
              "      <td>0.786</td>\n",
              "      <td>2054</td>\n",
              "      <td>0.336857</td>\n",
              "      <td>10039107.0</td>\n",
              "      <td>LessSpread</td>\n",
              "      <td>flat_growth</td>\n",
              "      <td>0.204600</td>\n",
              "      <td>mild_growth</td>\n",
              "    </tr>\n",
              "    <tr>\n",
              "      <th>5939</th>\n",
              "      <td>2020-06-22</td>\n",
              "      <td>6037</td>\n",
              "      <td>Los Angeles County</td>\n",
              "      <td>-31.0</td>\n",
              "      <td>-16.0</td>\n",
              "      <td>-4.0</td>\n",
              "      <td>-39.0</td>\n",
              "      <td>-41.0</td>\n",
              "      <td>14.0</td>\n",
              "      <td>-7.23</td>\n",
              "      <td>2.271</td>\n",
              "      <td>34</td>\n",
              "      <td>2473.978284</td>\n",
              "      <td>1</td>\n",
              "      <td>0.786</td>\n",
              "      <td>2603</td>\n",
              "      <td>0.561429</td>\n",
              "      <td>10039107.0</td>\n",
              "      <td>LessSpread</td>\n",
              "      <td>flat_growth</td>\n",
              "      <td>0.259286</td>\n",
              "      <td>mild_growth</td>\n",
              "    </tr>\n",
              "    <tr>\n",
              "      <th>6008</th>\n",
              "      <td>2020-06-23</td>\n",
              "      <td>6037</td>\n",
              "      <td>Los Angeles County</td>\n",
              "      <td>-30.0</td>\n",
              "      <td>-12.0</td>\n",
              "      <td>-2.0</td>\n",
              "      <td>-38.0</td>\n",
              "      <td>-41.0</td>\n",
              "      <td>15.0</td>\n",
              "      <td>-4.37</td>\n",
              "      <td>2.696</td>\n",
              "      <td>40</td>\n",
              "      <td>2473.978284</td>\n",
              "      <td>1</td>\n",
              "      <td>0.786</td>\n",
              "      <td>2495</td>\n",
              "      <td>0.673714</td>\n",
              "      <td>10039107.0</td>\n",
              "      <td>SuperSpread</td>\n",
              "      <td>flat_growth</td>\n",
              "      <td>0.248528</td>\n",
              "      <td>mild_growth</td>\n",
              "    </tr>\n",
              "    <tr>\n",
              "      <th>6286</th>\n",
              "      <td>2020-06-28</td>\n",
              "      <td>6037</td>\n",
              "      <td>Los Angeles County</td>\n",
              "      <td>-34.0</td>\n",
              "      <td>-15.0</td>\n",
              "      <td>-9.0</td>\n",
              "      <td>-38.0</td>\n",
              "      <td>-18.0</td>\n",
              "      <td>8.0</td>\n",
              "      <td>-16.22</td>\n",
              "      <td>1.199</td>\n",
              "      <td>18</td>\n",
              "      <td>2473.978284</td>\n",
              "      <td>1</td>\n",
              "      <td>0.786</td>\n",
              "      <td>2533</td>\n",
              "      <td>0.786000</td>\n",
              "      <td>10039107.0</td>\n",
              "      <td>SuperSpread</td>\n",
              "      <td>flat_growth</td>\n",
              "      <td>0.252313</td>\n",
              "      <td>mild_growth</td>\n",
              "    </tr>\n",
              "    <tr>\n",
              "      <th>6325</th>\n",
              "      <td>2020-06-29</td>\n",
              "      <td>6037</td>\n",
              "      <td>Los Angeles County</td>\n",
              "      <td>-28.0</td>\n",
              "      <td>-14.0</td>\n",
              "      <td>-5.0</td>\n",
              "      <td>-39.0</td>\n",
              "      <td>-39.0</td>\n",
              "      <td>14.0</td>\n",
              "      <td>-6.11</td>\n",
              "      <td>2.101</td>\n",
              "      <td>31</td>\n",
              "      <td>2473.978284</td>\n",
              "      <td>1</td>\n",
              "      <td>0.786</td>\n",
              "      <td>3040</td>\n",
              "      <td>0.786000</td>\n",
              "      <td>10039107.0</td>\n",
              "      <td>SuperSpread</td>\n",
              "      <td>flat_growth</td>\n",
              "      <td>0.302816</td>\n",
              "      <td>mild_growth</td>\n",
              "    </tr>\n",
              "    <tr>\n",
              "      <th>6370</th>\n",
              "      <td>2020-06-30</td>\n",
              "      <td>6037</td>\n",
              "      <td>Los Angeles County</td>\n",
              "      <td>-27.0</td>\n",
              "      <td>-11.0</td>\n",
              "      <td>-4.0</td>\n",
              "      <td>-39.0</td>\n",
              "      <td>-40.0</td>\n",
              "      <td>14.0</td>\n",
              "      <td>-2.06</td>\n",
              "      <td>3.019</td>\n",
              "      <td>45</td>\n",
              "      <td>2473.978284</td>\n",
              "      <td>1</td>\n",
              "      <td>0.786</td>\n",
              "      <td>2892</td>\n",
              "      <td>0.786000</td>\n",
              "      <td>10039107.0</td>\n",
              "      <td>SuperSpread</td>\n",
              "      <td>flat_growth</td>\n",
              "      <td>0.288073</td>\n",
              "      <td>mild_growth</td>\n",
              "    </tr>\n",
              "    <tr>\n",
              "      <th>6467</th>\n",
              "      <td>2020-07-02</td>\n",
              "      <td>6037</td>\n",
              "      <td>Los Angeles County</td>\n",
              "      <td>-25.0</td>\n",
              "      <td>-3.0</td>\n",
              "      <td>-3.0</td>\n",
              "      <td>-36.0</td>\n",
              "      <td>-42.0</td>\n",
              "      <td>14.0</td>\n",
              "      <td>7.05</td>\n",
              "      <td>3.032</td>\n",
              "      <td>45</td>\n",
              "      <td>2473.978284</td>\n",
              "      <td>1</td>\n",
              "      <td>0.786</td>\n",
              "      <td>2127</td>\n",
              "      <td>0.786000</td>\n",
              "      <td>10039107.0</td>\n",
              "      <td>SuperSpread</td>\n",
              "      <td>flat_growth</td>\n",
              "      <td>0.211871</td>\n",
              "      <td>mild_growth</td>\n",
              "    </tr>\n",
              "    <tr>\n",
              "      <th>6666</th>\n",
              "      <td>2020-07-05</td>\n",
              "      <td>6037</td>\n",
              "      <td>Los Angeles County</td>\n",
              "      <td>-40.0</td>\n",
              "      <td>-21.0</td>\n",
              "      <td>-24.0</td>\n",
              "      <td>-43.0</td>\n",
              "      <td>-25.0</td>\n",
              "      <td>9.0</td>\n",
              "      <td>-21.24</td>\n",
              "      <td>0.577</td>\n",
              "      <td>8</td>\n",
              "      <td>2473.978284</td>\n",
              "      <td>1</td>\n",
              "      <td>0.786</td>\n",
              "      <td>7198</td>\n",
              "      <td>0.786000</td>\n",
              "      <td>10039107.0</td>\n",
              "      <td>SuperSpread</td>\n",
              "      <td>flat_growth</td>\n",
              "      <td>0.716996</td>\n",
              "      <td>drastic_growth</td>\n",
              "    </tr>\n",
              "    <tr>\n",
              "      <th>6756</th>\n",
              "      <td>2020-07-07</td>\n",
              "      <td>6037</td>\n",
              "      <td>Los Angeles County</td>\n",
              "      <td>-29.0</td>\n",
              "      <td>-9.0</td>\n",
              "      <td>-3.0</td>\n",
              "      <td>-38.0</td>\n",
              "      <td>-42.0</td>\n",
              "      <td>15.0</td>\n",
              "      <td>-2.69</td>\n",
              "      <td>2.437</td>\n",
              "      <td>36</td>\n",
              "      <td>2473.978284</td>\n",
              "      <td>1</td>\n",
              "      <td>0.786</td>\n",
              "      <td>4194</td>\n",
              "      <td>0.786000</td>\n",
              "      <td>10039107.0</td>\n",
              "      <td>LessSpread</td>\n",
              "      <td>flat_growth</td>\n",
              "      <td>0.417766</td>\n",
              "      <td>mild_growth</td>\n",
              "    </tr>\n",
              "    <tr>\n",
              "      <th>6790</th>\n",
              "      <td>2020-07-08</td>\n",
              "      <td>6037</td>\n",
              "      <td>Los Angeles County</td>\n",
              "      <td>-30.0</td>\n",
              "      <td>-10.0</td>\n",
              "      <td>-2.0</td>\n",
              "      <td>-39.0</td>\n",
              "      <td>-41.0</td>\n",
              "      <td>15.0</td>\n",
              "      <td>-1.50</td>\n",
              "      <td>2.559</td>\n",
              "      <td>38</td>\n",
              "      <td>2473.978284</td>\n",
              "      <td>1</td>\n",
              "      <td>0.786</td>\n",
              "      <td>2492</td>\n",
              "      <td>0.786000</td>\n",
              "      <td>10039107.0</td>\n",
              "      <td>LessSpread</td>\n",
              "      <td>flat_growth</td>\n",
              "      <td>0.248229</td>\n",
              "      <td>mild_growth</td>\n",
              "    </tr>\n",
              "    <tr>\n",
              "      <th>6914</th>\n",
              "      <td>2020-07-10</td>\n",
              "      <td>6037</td>\n",
              "      <td>Los Angeles County</td>\n",
              "      <td>-32.0</td>\n",
              "      <td>-8.0</td>\n",
              "      <td>-8.0</td>\n",
              "      <td>-40.0</td>\n",
              "      <td>-40.0</td>\n",
              "      <td>16.0</td>\n",
              "      <td>13.46</td>\n",
              "      <td>3.128</td>\n",
              "      <td>47</td>\n",
              "      <td>2473.978284</td>\n",
              "      <td>1</td>\n",
              "      <td>0.786</td>\n",
              "      <td>2447</td>\n",
              "      <td>0.786000</td>\n",
              "      <td>10039107.0</td>\n",
              "      <td>LessSpread</td>\n",
              "      <td>flat_growth</td>\n",
              "      <td>0.243747</td>\n",
              "      <td>mild_growth</td>\n",
              "    </tr>\n",
              "    <tr>\n",
              "      <th>6939</th>\n",
              "      <td>2020-07-11</td>\n",
              "      <td>6037</td>\n",
              "      <td>Los Angeles County</td>\n",
              "      <td>-35.0</td>\n",
              "      <td>-8.0</td>\n",
              "      <td>-20.0</td>\n",
              "      <td>-37.0</td>\n",
              "      <td>-20.0</td>\n",
              "      <td>10.0</td>\n",
              "      <td>5.10</td>\n",
              "      <td>2.234</td>\n",
              "      <td>33</td>\n",
              "      <td>2473.978284</td>\n",
              "      <td>1</td>\n",
              "      <td>0.786</td>\n",
              "      <td>2955</td>\n",
              "      <td>0.786000</td>\n",
              "      <td>10039107.0</td>\n",
              "      <td>LessSpread</td>\n",
              "      <td>flat_growth</td>\n",
              "      <td>0.294349</td>\n",
              "      <td>mild_growth</td>\n",
              "    </tr>\n",
              "    <tr>\n",
              "      <th>7018</th>\n",
              "      <td>2020-07-12</td>\n",
              "      <td>6037</td>\n",
              "      <td>Los Angeles County</td>\n",
              "      <td>-34.0</td>\n",
              "      <td>-12.0</td>\n",
              "      <td>-9.0</td>\n",
              "      <td>-40.0</td>\n",
              "      <td>-21.0</td>\n",
              "      <td>8.0</td>\n",
              "      <td>-12.48</td>\n",
              "      <td>1.180</td>\n",
              "      <td>17</td>\n",
              "      <td>2473.978284</td>\n",
              "      <td>1</td>\n",
              "      <td>0.786</td>\n",
              "      <td>3155</td>\n",
              "      <td>0.786000</td>\n",
              "      <td>10039107.0</td>\n",
              "      <td>LessSpread</td>\n",
              "      <td>flat_growth</td>\n",
              "      <td>0.314271</td>\n",
              "      <td>mild_growth</td>\n",
              "    </tr>\n",
              "    <tr>\n",
              "      <th>7098</th>\n",
              "      <td>2020-07-13</td>\n",
              "      <td>6037</td>\n",
              "      <td>Los Angeles County</td>\n",
              "      <td>-28.0</td>\n",
              "      <td>-11.0</td>\n",
              "      <td>-8.0</td>\n",
              "      <td>-41.0</td>\n",
              "      <td>-41.0</td>\n",
              "      <td>14.0</td>\n",
              "      <td>-3.68</td>\n",
              "      <td>1.958</td>\n",
              "      <td>29</td>\n",
              "      <td>2473.978284</td>\n",
              "      <td>1</td>\n",
              "      <td>0.786</td>\n",
              "      <td>2808</td>\n",
              "      <td>0.786000</td>\n",
              "      <td>10039107.0</td>\n",
              "      <td>LessSpread</td>\n",
              "      <td>flat_growth</td>\n",
              "      <td>0.279706</td>\n",
              "      <td>mild_growth</td>\n",
              "    </tr>\n",
              "    <tr>\n",
              "      <th>7134</th>\n",
              "      <td>2020-07-14</td>\n",
              "      <td>6037</td>\n",
              "      <td>Los Angeles County</td>\n",
              "      <td>-30.0</td>\n",
              "      <td>-10.0</td>\n",
              "      <td>-4.0</td>\n",
              "      <td>-41.0</td>\n",
              "      <td>-42.0</td>\n",
              "      <td>15.0</td>\n",
              "      <td>-3.50</td>\n",
              "      <td>2.043</td>\n",
              "      <td>30</td>\n",
              "      <td>2473.978284</td>\n",
              "      <td>1</td>\n",
              "      <td>0.786</td>\n",
              "      <td>4219</td>\n",
              "      <td>0.786000</td>\n",
              "      <td>10039107.0</td>\n",
              "      <td>LessSpread</td>\n",
              "      <td>flat_growth</td>\n",
              "      <td>0.420257</td>\n",
              "      <td>mild_growth</td>\n",
              "    </tr>\n",
              "    <tr>\n",
              "      <th>7193</th>\n",
              "      <td>2020-07-15</td>\n",
              "      <td>6037</td>\n",
              "      <td>Los Angeles County</td>\n",
              "      <td>-31.0</td>\n",
              "      <td>-11.0</td>\n",
              "      <td>-4.0</td>\n",
              "      <td>-41.0</td>\n",
              "      <td>-42.0</td>\n",
              "      <td>16.0</td>\n",
              "      <td>-2.15</td>\n",
              "      <td>1.995</td>\n",
              "      <td>30</td>\n",
              "      <td>2473.978284</td>\n",
              "      <td>1</td>\n",
              "      <td>0.786</td>\n",
              "      <td>2631</td>\n",
              "      <td>0.786000</td>\n",
              "      <td>10039107.0</td>\n",
              "      <td>LessSpread</td>\n",
              "      <td>flat_growth</td>\n",
              "      <td>0.262075</td>\n",
              "      <td>mild_growth</td>\n",
              "    </tr>\n",
              "    <tr>\n",
              "      <th>7227</th>\n",
              "      <td>2020-07-16</td>\n",
              "      <td>6037</td>\n",
              "      <td>Los Angeles County</td>\n",
              "      <td>-32.0</td>\n",
              "      <td>-11.0</td>\n",
              "      <td>-5.0</td>\n",
              "      <td>-42.0</td>\n",
              "      <td>-42.0</td>\n",
              "      <td>16.0</td>\n",
              "      <td>-0.28</td>\n",
              "      <td>2.148</td>\n",
              "      <td>32</td>\n",
              "      <td>2473.978284</td>\n",
              "      <td>1</td>\n",
              "      <td>0.786</td>\n",
              "      <td>4471</td>\n",
              "      <td>0.786000</td>\n",
              "      <td>10039107.0</td>\n",
              "      <td>LessSpread</td>\n",
              "      <td>flat_growth</td>\n",
              "      <td>0.445358</td>\n",
              "      <td>mild_growth</td>\n",
              "    </tr>\n",
              "    <tr>\n",
              "      <th>7307</th>\n",
              "      <td>2020-07-17</td>\n",
              "      <td>6037</td>\n",
              "      <td>Los Angeles County</td>\n",
              "      <td>-33.0</td>\n",
              "      <td>-10.0</td>\n",
              "      <td>-5.0</td>\n",
              "      <td>-41.0</td>\n",
              "      <td>-41.0</td>\n",
              "      <td>16.0</td>\n",
              "      <td>11.69</td>\n",
              "      <td>1.594</td>\n",
              "      <td>24</td>\n",
              "      <td>2473.978284</td>\n",
              "      <td>1</td>\n",
              "      <td>0.786</td>\n",
              "      <td>2746</td>\n",
              "      <td>0.786000</td>\n",
              "      <td>10039107.0</td>\n",
              "      <td>LessSpread</td>\n",
              "      <td>flat_growth</td>\n",
              "      <td>0.273530</td>\n",
              "      <td>mild_growth</td>\n",
              "    </tr>\n",
              "    <tr>\n",
              "      <th>7325</th>\n",
              "      <td>2020-07-18</td>\n",
              "      <td>6037</td>\n",
              "      <td>Los Angeles County</td>\n",
              "      <td>-36.0</td>\n",
              "      <td>-9.0</td>\n",
              "      <td>-15.0</td>\n",
              "      <td>-37.0</td>\n",
              "      <td>-22.0</td>\n",
              "      <td>10.0</td>\n",
              "      <td>4.87</td>\n",
              "      <td>0.387</td>\n",
              "      <td>5</td>\n",
              "      <td>2473.978284</td>\n",
              "      <td>1</td>\n",
              "      <td>0.786</td>\n",
              "      <td>2728</td>\n",
              "      <td>0.786000</td>\n",
              "      <td>10039107.0</td>\n",
              "      <td>LessSpread</td>\n",
              "      <td>flat_growth</td>\n",
              "      <td>0.271737</td>\n",
              "      <td>mild_growth</td>\n",
              "    </tr>\n",
              "    <tr>\n",
              "      <th>7398</th>\n",
              "      <td>2020-07-19</td>\n",
              "      <td>6037</td>\n",
              "      <td>Los Angeles County</td>\n",
              "      <td>-35.0</td>\n",
              "      <td>-13.0</td>\n",
              "      <td>-4.0</td>\n",
              "      <td>-40.0</td>\n",
              "      <td>-23.0</td>\n",
              "      <td>8.0</td>\n",
              "      <td>-13.21</td>\n",
              "      <td>0.863</td>\n",
              "      <td>13</td>\n",
              "      <td>2473.978284</td>\n",
              "      <td>1</td>\n",
              "      <td>0.786</td>\n",
              "      <td>2765</td>\n",
              "      <td>0.786000</td>\n",
              "      <td>10039107.0</td>\n",
              "      <td>LessSpread</td>\n",
              "      <td>flat_growth</td>\n",
              "      <td>0.275423</td>\n",
              "      <td>mild_growth</td>\n",
              "    </tr>\n",
              "    <tr>\n",
              "      <th>7458</th>\n",
              "      <td>2020-07-20</td>\n",
              "      <td>6037</td>\n",
              "      <td>Los Angeles County</td>\n",
              "      <td>-31.0</td>\n",
              "      <td>-13.0</td>\n",
              "      <td>-2.0</td>\n",
              "      <td>-41.0</td>\n",
              "      <td>-42.0</td>\n",
              "      <td>14.0</td>\n",
              "      <td>-4.20</td>\n",
              "      <td>1.576</td>\n",
              "      <td>23</td>\n",
              "      <td>2473.978284</td>\n",
              "      <td>1</td>\n",
              "      <td>0.786</td>\n",
              "      <td>3128</td>\n",
              "      <td>0.786000</td>\n",
              "      <td>10039107.0</td>\n",
              "      <td>LessSpread</td>\n",
              "      <td>flat_growth</td>\n",
              "      <td>0.311581</td>\n",
              "      <td>mild_growth</td>\n",
              "    </tr>\n",
              "    <tr>\n",
              "      <th>7514</th>\n",
              "      <td>2020-07-21</td>\n",
              "      <td>6037</td>\n",
              "      <td>Los Angeles County</td>\n",
              "      <td>-31.0</td>\n",
              "      <td>-12.0</td>\n",
              "      <td>-1.0</td>\n",
              "      <td>-41.0</td>\n",
              "      <td>-43.0</td>\n",
              "      <td>15.0</td>\n",
              "      <td>-1.96</td>\n",
              "      <td>1.534</td>\n",
              "      <td>23</td>\n",
              "      <td>2473.978284</td>\n",
              "      <td>1</td>\n",
              "      <td>0.786</td>\n",
              "      <td>2980</td>\n",
              "      <td>0.786000</td>\n",
              "      <td>10039107.0</td>\n",
              "      <td>LessSpread</td>\n",
              "      <td>flat_growth</td>\n",
              "      <td>0.296839</td>\n",
              "      <td>mild_growth</td>\n",
              "    </tr>\n",
              "    <tr>\n",
              "      <th>7546</th>\n",
              "      <td>2020-07-22</td>\n",
              "      <td>6037</td>\n",
              "      <td>Los Angeles County</td>\n",
              "      <td>-31.0</td>\n",
              "      <td>-12.0</td>\n",
              "      <td>-2.0</td>\n",
              "      <td>-42.0</td>\n",
              "      <td>-42.0</td>\n",
              "      <td>15.0</td>\n",
              "      <td>-0.28</td>\n",
              "      <td>1.758</td>\n",
              "      <td>26</td>\n",
              "      <td>2473.978284</td>\n",
              "      <td>1</td>\n",
              "      <td>0.786</td>\n",
              "      <td>3109</td>\n",
              "      <td>0.786000</td>\n",
              "      <td>10039107.0</td>\n",
              "      <td>LessSpread</td>\n",
              "      <td>flat_growth</td>\n",
              "      <td>0.309689</td>\n",
              "      <td>mild_growth</td>\n",
              "    </tr>\n",
              "    <tr>\n",
              "      <th>7648</th>\n",
              "      <td>2020-07-24</td>\n",
              "      <td>6037</td>\n",
              "      <td>Los Angeles County</td>\n",
              "      <td>-33.0</td>\n",
              "      <td>-11.0</td>\n",
              "      <td>-6.0</td>\n",
              "      <td>-41.0</td>\n",
              "      <td>-40.0</td>\n",
              "      <td>16.0</td>\n",
              "      <td>14.63</td>\n",
              "      <td>2.295</td>\n",
              "      <td>34</td>\n",
              "      <td>2473.978284</td>\n",
              "      <td>1</td>\n",
              "      <td>0.786</td>\n",
              "      <td>2067</td>\n",
              "      <td>0.786000</td>\n",
              "      <td>10039107.0</td>\n",
              "      <td>LessSpread</td>\n",
              "      <td>flat_growth</td>\n",
              "      <td>0.205895</td>\n",
              "      <td>mild_growth</td>\n",
              "    </tr>\n",
              "    <tr>\n",
              "      <th>7730</th>\n",
              "      <td>2020-07-25</td>\n",
              "      <td>6037</td>\n",
              "      <td>Los Angeles County</td>\n",
              "      <td>-35.0</td>\n",
              "      <td>-10.0</td>\n",
              "      <td>-13.0</td>\n",
              "      <td>-37.0</td>\n",
              "      <td>-22.0</td>\n",
              "      <td>9.0</td>\n",
              "      <td>6.59</td>\n",
              "      <td>1.284</td>\n",
              "      <td>19</td>\n",
              "      <td>2473.978284</td>\n",
              "      <td>1</td>\n",
              "      <td>0.786</td>\n",
              "      <td>3390</td>\n",
              "      <td>0.786000</td>\n",
              "      <td>10039107.0</td>\n",
              "      <td>LessSpread</td>\n",
              "      <td>flat_growth</td>\n",
              "      <td>0.337679</td>\n",
              "      <td>mild_growth</td>\n",
              "    </tr>\n",
              "    <tr>\n",
              "      <th>7849</th>\n",
              "      <td>2020-07-27</td>\n",
              "      <td>6037</td>\n",
              "      <td>Los Angeles County</td>\n",
              "      <td>-30.0</td>\n",
              "      <td>-14.0</td>\n",
              "      <td>-4.0</td>\n",
              "      <td>-41.0</td>\n",
              "      <td>-42.0</td>\n",
              "      <td>14.0</td>\n",
              "      <td>-3.60</td>\n",
              "      <td>1.471</td>\n",
              "      <td>22</td>\n",
              "      <td>2473.978284</td>\n",
              "      <td>1</td>\n",
              "      <td>0.786</td>\n",
              "      <td>2011</td>\n",
              "      <td>0.786000</td>\n",
              "      <td>10039107.0</td>\n",
              "      <td>LessSpread</td>\n",
              "      <td>flat_growth</td>\n",
              "      <td>0.200317</td>\n",
              "      <td>mild_growth</td>\n",
              "    </tr>\n",
              "    <tr>\n",
              "      <th>7864</th>\n",
              "      <td>2020-07-28</td>\n",
              "      <td>6037</td>\n",
              "      <td>Los Angeles County</td>\n",
              "      <td>-31.0</td>\n",
              "      <td>-13.0</td>\n",
              "      <td>-2.0</td>\n",
              "      <td>-41.0</td>\n",
              "      <td>-42.0</td>\n",
              "      <td>15.0</td>\n",
              "      <td>-0.77</td>\n",
              "      <td>1.852</td>\n",
              "      <td>28</td>\n",
              "      <td>2473.978284</td>\n",
              "      <td>1</td>\n",
              "      <td>0.786</td>\n",
              "      <td>2614</td>\n",
              "      <td>0.786000</td>\n",
              "      <td>10039107.0</td>\n",
              "      <td>LessSpread</td>\n",
              "      <td>flat_growth</td>\n",
              "      <td>0.260382</td>\n",
              "      <td>mild_growth</td>\n",
              "    </tr>\n",
              "    <tr>\n",
              "      <th>7946</th>\n",
              "      <td>2020-07-29</td>\n",
              "      <td>6037</td>\n",
              "      <td>Los Angeles County</td>\n",
              "      <td>-31.0</td>\n",
              "      <td>-13.0</td>\n",
              "      <td>-2.0</td>\n",
              "      <td>-41.0</td>\n",
              "      <td>-42.0</td>\n",
              "      <td>15.0</td>\n",
              "      <td>1.87</td>\n",
              "      <td>1.559</td>\n",
              "      <td>23</td>\n",
              "      <td>2473.978284</td>\n",
              "      <td>1</td>\n",
              "      <td>0.786</td>\n",
              "      <td>4814</td>\n",
              "      <td>0.786000</td>\n",
              "      <td>10039107.0</td>\n",
              "      <td>LessSpread</td>\n",
              "      <td>flat_growth</td>\n",
              "      <td>0.479525</td>\n",
              "      <td>mild_growth</td>\n",
              "    </tr>\n",
              "    <tr>\n",
              "      <th>8013</th>\n",
              "      <td>2020-07-30</td>\n",
              "      <td>6037</td>\n",
              "      <td>Los Angeles County</td>\n",
              "      <td>-32.0</td>\n",
              "      <td>-12.0</td>\n",
              "      <td>-6.0</td>\n",
              "      <td>-41.0</td>\n",
              "      <td>-43.0</td>\n",
              "      <td>15.0</td>\n",
              "      <td>6.13</td>\n",
              "      <td>1.506</td>\n",
              "      <td>22</td>\n",
              "      <td>2473.978284</td>\n",
              "      <td>1</td>\n",
              "      <td>0.786</td>\n",
              "      <td>2580</td>\n",
              "      <td>0.786000</td>\n",
              "      <td>10039107.0</td>\n",
              "      <td>LessSpread</td>\n",
              "      <td>flat_growth</td>\n",
              "      <td>0.256995</td>\n",
              "      <td>mild_growth</td>\n",
              "    </tr>\n",
              "    <tr>\n",
              "      <th>8051</th>\n",
              "      <td>2020-07-31</td>\n",
              "      <td>6037</td>\n",
              "      <td>Los Angeles County</td>\n",
              "      <td>-32.0</td>\n",
              "      <td>-10.0</td>\n",
              "      <td>-4.0</td>\n",
              "      <td>-39.0</td>\n",
              "      <td>-41.0</td>\n",
              "      <td>15.0</td>\n",
              "      <td>20.58</td>\n",
              "      <td>2.056</td>\n",
              "      <td>31</td>\n",
              "      <td>2473.978284</td>\n",
              "      <td>1</td>\n",
              "      <td>0.786</td>\n",
              "      <td>2505</td>\n",
              "      <td>0.786000</td>\n",
              "      <td>10039107.0</td>\n",
              "      <td>LessSpread</td>\n",
              "      <td>flat_growth</td>\n",
              "      <td>0.249524</td>\n",
              "      <td>mild_growth</td>\n",
              "    </tr>\n",
              "    <tr>\n",
              "      <th>8093</th>\n",
              "      <td>2020-08-01</td>\n",
              "      <td>6037</td>\n",
              "      <td>Los Angeles County</td>\n",
              "      <td>-35.0</td>\n",
              "      <td>-7.0</td>\n",
              "      <td>-14.0</td>\n",
              "      <td>-35.0</td>\n",
              "      <td>-22.0</td>\n",
              "      <td>9.0</td>\n",
              "      <td>12.13</td>\n",
              "      <td>1.429</td>\n",
              "      <td>21</td>\n",
              "      <td>2473.978284</td>\n",
              "      <td>1</td>\n",
              "      <td>0.786</td>\n",
              "      <td>2316</td>\n",
              "      <td>0.786000</td>\n",
              "      <td>10039107.0</td>\n",
              "      <td>LessSpread</td>\n",
              "      <td>flat_growth</td>\n",
              "      <td>0.230698</td>\n",
              "      <td>mild_growth</td>\n",
              "    </tr>\n",
              "    <tr>\n",
              "      <th>8296</th>\n",
              "      <td>2020-08-05</td>\n",
              "      <td>6037</td>\n",
              "      <td>Los Angeles County</td>\n",
              "      <td>-29.0</td>\n",
              "      <td>-11.0</td>\n",
              "      <td>0.0</td>\n",
              "      <td>-39.0</td>\n",
              "      <td>-42.0</td>\n",
              "      <td>14.0</td>\n",
              "      <td>4.58</td>\n",
              "      <td>2.307</td>\n",
              "      <td>34</td>\n",
              "      <td>2473.978284</td>\n",
              "      <td>1</td>\n",
              "      <td>0.786</td>\n",
              "      <td>2360</td>\n",
              "      <td>0.786000</td>\n",
              "      <td>10039107.0</td>\n",
              "      <td>LessSpread</td>\n",
              "      <td>flat_growth</td>\n",
              "      <td>0.235081</td>\n",
              "      <td>mild_growth</td>\n",
              "    </tr>\n",
              "    <tr>\n",
              "      <th>8337</th>\n",
              "      <td>2020-08-06</td>\n",
              "      <td>6037</td>\n",
              "      <td>Los Angeles County</td>\n",
              "      <td>-30.0</td>\n",
              "      <td>-11.0</td>\n",
              "      <td>-1.0</td>\n",
              "      <td>-39.0</td>\n",
              "      <td>-42.0</td>\n",
              "      <td>15.0</td>\n",
              "      <td>7.23</td>\n",
              "      <td>1.934</td>\n",
              "      <td>29</td>\n",
              "      <td>2473.978284</td>\n",
              "      <td>1</td>\n",
              "      <td>0.786</td>\n",
              "      <td>3035</td>\n",
              "      <td>0.786000</td>\n",
              "      <td>10039107.0</td>\n",
              "      <td>LessSpread</td>\n",
              "      <td>flat_growth</td>\n",
              "      <td>0.302318</td>\n",
              "      <td>mild_growth</td>\n",
              "    </tr>\n",
              "    <tr>\n",
              "      <th>8429</th>\n",
              "      <td>2020-08-07</td>\n",
              "      <td>6037</td>\n",
              "      <td>Los Angeles County</td>\n",
              "      <td>-31.0</td>\n",
              "      <td>-10.0</td>\n",
              "      <td>-2.0</td>\n",
              "      <td>-38.0</td>\n",
              "      <td>-41.0</td>\n",
              "      <td>15.0</td>\n",
              "      <td>21.07</td>\n",
              "      <td>2.654</td>\n",
              "      <td>40</td>\n",
              "      <td>2473.978284</td>\n",
              "      <td>1</td>\n",
              "      <td>0.786</td>\n",
              "      <td>3058</td>\n",
              "      <td>0.786000</td>\n",
              "      <td>10039107.0</td>\n",
              "      <td>LessSpread</td>\n",
              "      <td>flat_growth</td>\n",
              "      <td>0.304609</td>\n",
              "      <td>mild_growth</td>\n",
              "    </tr>\n",
              "    <tr>\n",
              "      <th>8460</th>\n",
              "      <td>2020-08-08</td>\n",
              "      <td>6037</td>\n",
              "      <td>Los Angeles County</td>\n",
              "      <td>-34.0</td>\n",
              "      <td>-9.0</td>\n",
              "      <td>-10.0</td>\n",
              "      <td>-35.0</td>\n",
              "      <td>-22.0</td>\n",
              "      <td>9.0</td>\n",
              "      <td>13.19</td>\n",
              "      <td>1.879</td>\n",
              "      <td>28</td>\n",
              "      <td>2473.978284</td>\n",
              "      <td>1</td>\n",
              "      <td>0.786</td>\n",
              "      <td>2520</td>\n",
              "      <td>0.786000</td>\n",
              "      <td>10039107.0</td>\n",
              "      <td>LessSpread</td>\n",
              "      <td>flat_growth</td>\n",
              "      <td>0.251018</td>\n",
              "      <td>mild_growth</td>\n",
              "    </tr>\n",
              "    <tr>\n",
              "      <th>8667</th>\n",
              "      <td>2020-08-12</td>\n",
              "      <td>6037</td>\n",
              "      <td>Los Angeles County</td>\n",
              "      <td>-30.0</td>\n",
              "      <td>-13.0</td>\n",
              "      <td>-1.0</td>\n",
              "      <td>-40.0</td>\n",
              "      <td>-42.0</td>\n",
              "      <td>14.0</td>\n",
              "      <td>8.05</td>\n",
              "      <td>2.064</td>\n",
              "      <td>31</td>\n",
              "      <td>2473.978284</td>\n",
              "      <td>1</td>\n",
              "      <td>0.786</td>\n",
              "      <td>3409</td>\n",
              "      <td>0.786000</td>\n",
              "      <td>10039107.0</td>\n",
              "      <td>LessSpread</td>\n",
              "      <td>flat_growth</td>\n",
              "      <td>0.339572</td>\n",
              "      <td>mild_growth</td>\n",
              "    </tr>\n",
              "    <tr>\n",
              "      <th>8794</th>\n",
              "      <td>2020-08-14</td>\n",
              "      <td>6037</td>\n",
              "      <td>Los Angeles County</td>\n",
              "      <td>-32.0</td>\n",
              "      <td>-11.0</td>\n",
              "      <td>-8.0</td>\n",
              "      <td>-40.0</td>\n",
              "      <td>-41.0</td>\n",
              "      <td>14.0</td>\n",
              "      <td>25.15</td>\n",
              "      <td>2.504</td>\n",
              "      <td>37</td>\n",
              "      <td>2473.978284</td>\n",
              "      <td>1</td>\n",
              "      <td>0.786</td>\n",
              "      <td>4406</td>\n",
              "      <td>0.786000</td>\n",
              "      <td>10039107.0</td>\n",
              "      <td>LessSpread</td>\n",
              "      <td>flat_growth</td>\n",
              "      <td>0.438884</td>\n",
              "      <td>mild_growth</td>\n",
              "    </tr>\n",
              "    <tr>\n",
              "      <th>8861</th>\n",
              "      <td>2020-08-15</td>\n",
              "      <td>6037</td>\n",
              "      <td>Los Angeles County</td>\n",
              "      <td>-35.0</td>\n",
              "      <td>-10.0</td>\n",
              "      <td>-18.0</td>\n",
              "      <td>-37.0</td>\n",
              "      <td>-24.0</td>\n",
              "      <td>9.0</td>\n",
              "      <td>16.28</td>\n",
              "      <td>1.944</td>\n",
              "      <td>29</td>\n",
              "      <td>2473.978284</td>\n",
              "      <td>1</td>\n",
              "      <td>0.786</td>\n",
              "      <td>2036</td>\n",
              "      <td>0.786000</td>\n",
              "      <td>10039107.0</td>\n",
              "      <td>LessSpread</td>\n",
              "      <td>flat_growth</td>\n",
              "      <td>0.202807</td>\n",
              "      <td>mild_growth</td>\n",
              "    </tr>\n",
              "  </tbody>\n",
              "</table>\n",
              "</div>"
            ],
            "text/plain": [
              "            Date  fips_x  ... New Cases/1k population  growth_label_1k\n",
              "4711  2020-05-30    6037  ...                0.205994      mild_growth\n",
              "5701  2020-06-17    6037  ...                0.208983      mild_growth\n",
              "5832  2020-06-20    6037  ...                0.204600      mild_growth\n",
              "5939  2020-06-22    6037  ...                0.259286      mild_growth\n",
              "6008  2020-06-23    6037  ...                0.248528      mild_growth\n",
              "6286  2020-06-28    6037  ...                0.252313      mild_growth\n",
              "6325  2020-06-29    6037  ...                0.302816      mild_growth\n",
              "6370  2020-06-30    6037  ...                0.288073      mild_growth\n",
              "6467  2020-07-02    6037  ...                0.211871      mild_growth\n",
              "6666  2020-07-05    6037  ...                0.716996   drastic_growth\n",
              "6756  2020-07-07    6037  ...                0.417766      mild_growth\n",
              "6790  2020-07-08    6037  ...                0.248229      mild_growth\n",
              "6914  2020-07-10    6037  ...                0.243747      mild_growth\n",
              "6939  2020-07-11    6037  ...                0.294349      mild_growth\n",
              "7018  2020-07-12    6037  ...                0.314271      mild_growth\n",
              "7098  2020-07-13    6037  ...                0.279706      mild_growth\n",
              "7134  2020-07-14    6037  ...                0.420257      mild_growth\n",
              "7193  2020-07-15    6037  ...                0.262075      mild_growth\n",
              "7227  2020-07-16    6037  ...                0.445358      mild_growth\n",
              "7307  2020-07-17    6037  ...                0.273530      mild_growth\n",
              "7325  2020-07-18    6037  ...                0.271737      mild_growth\n",
              "7398  2020-07-19    6037  ...                0.275423      mild_growth\n",
              "7458  2020-07-20    6037  ...                0.311581      mild_growth\n",
              "7514  2020-07-21    6037  ...                0.296839      mild_growth\n",
              "7546  2020-07-22    6037  ...                0.309689      mild_growth\n",
              "7648  2020-07-24    6037  ...                0.205895      mild_growth\n",
              "7730  2020-07-25    6037  ...                0.337679      mild_growth\n",
              "7849  2020-07-27    6037  ...                0.200317      mild_growth\n",
              "7864  2020-07-28    6037  ...                0.260382      mild_growth\n",
              "7946  2020-07-29    6037  ...                0.479525      mild_growth\n",
              "8013  2020-07-30    6037  ...                0.256995      mild_growth\n",
              "8051  2020-07-31    6037  ...                0.249524      mild_growth\n",
              "8093  2020-08-01    6037  ...                0.230698      mild_growth\n",
              "8296  2020-08-05    6037  ...                0.235081      mild_growth\n",
              "8337  2020-08-06    6037  ...                0.302318      mild_growth\n",
              "8429  2020-08-07    6037  ...                0.304609      mild_growth\n",
              "8460  2020-08-08    6037  ...                0.251018      mild_growth\n",
              "8667  2020-08-12    6037  ...                0.339572      mild_growth\n",
              "8794  2020-08-14    6037  ...                0.438884      mild_growth\n",
              "8861  2020-08-15    6037  ...                0.202807      mild_growth\n",
              "\n",
              "[40 rows x 22 columns]"
            ]
          },
          "metadata": {
            "tags": []
          },
          "execution_count": 256
        }
      ]
    },
    {
      "cell_type": "code",
      "metadata": {
        "id": "7b7qMhoZXvjP"
      },
      "source": [
        "#commenting this section and taking more value, otherwise neg_breaks is not working\n",
        "\n",
        "#date_list = ['2020-08-15','2020-08-14','2020-08-12','2020-08-08','2020-08-07','2020-08-06','2020-08-05','2020-08-01']\n",
        "#CA_combined_data_test_greaterthan2000 = CA_combined_data_test_greaterthan2000[CA_combined_data_test_greaterthan2000.Date.isin(date_list)]"
      ],
      "execution_count": 230,
      "outputs": []
    },
    {
      "cell_type": "code",
      "metadata": {
        "id": "PRikLnfoXygU",
        "outputId": "7d642c14-7b06-436b-d309-d55e47b44c87",
        "colab": {
          "base_uri": "https://localhost:8080/",
          "height": 606
        }
      },
      "source": [
        "CA_combined_data_test_greaterthan2000"
      ],
      "execution_count": 231,
      "outputs": [
        {
          "output_type": "execute_result",
          "data": {
            "text/html": [
              "<div>\n",
              "<style scoped>\n",
              "    .dataframe tbody tr th:only-of-type {\n",
              "        vertical-align: middle;\n",
              "    }\n",
              "\n",
              "    .dataframe tbody tr th {\n",
              "        vertical-align: top;\n",
              "    }\n",
              "\n",
              "    .dataframe thead th {\n",
              "        text-align: right;\n",
              "    }\n",
              "</style>\n",
              "<table border=\"1\" class=\"dataframe\">\n",
              "  <thead>\n",
              "    <tr style=\"text-align: right;\">\n",
              "      <th></th>\n",
              "      <th>Date</th>\n",
              "      <th>fips_x</th>\n",
              "      <th>County Name</th>\n",
              "      <th>retail and recreation</th>\n",
              "      <th>grocery and pharmacy</th>\n",
              "      <th>parks</th>\n",
              "      <th>transit stations</th>\n",
              "      <th>workplaces</th>\n",
              "      <th>residential</th>\n",
              "      <th>driving</th>\n",
              "      <th>m50</th>\n",
              "      <th>m50_index</th>\n",
              "      <th>population_density</th>\n",
              "      <th>mask_rule_active</th>\n",
              "      <th>mask_wearing_percent</th>\n",
              "      <th>New cases</th>\n",
              "      <th>rolling_avg_new_cases</th>\n",
              "      <th>population</th>\n",
              "      <th>label</th>\n",
              "      <th>growth_label</th>\n",
              "      <th>New Cases/1k population</th>\n",
              "      <th>growth_label_1k</th>\n",
              "    </tr>\n",
              "  </thead>\n",
              "  <tbody>\n",
              "    <tr>\n",
              "      <th>8093</th>\n",
              "      <td>2020-08-01</td>\n",
              "      <td>6037</td>\n",
              "      <td>Los Angeles County</td>\n",
              "      <td>-35.0</td>\n",
              "      <td>-7.0</td>\n",
              "      <td>-14.0</td>\n",
              "      <td>-35.0</td>\n",
              "      <td>-22.0</td>\n",
              "      <td>9.0</td>\n",
              "      <td>12.13</td>\n",
              "      <td>1.429</td>\n",
              "      <td>21</td>\n",
              "      <td>2473.978284</td>\n",
              "      <td>1</td>\n",
              "      <td>0.786</td>\n",
              "      <td>2316</td>\n",
              "      <td>0.786</td>\n",
              "      <td>10039107.0</td>\n",
              "      <td>LessSpread</td>\n",
              "      <td>flat_growth</td>\n",
              "      <td>0.230698</td>\n",
              "      <td>mild_growth</td>\n",
              "    </tr>\n",
              "    <tr>\n",
              "      <th>8296</th>\n",
              "      <td>2020-08-05</td>\n",
              "      <td>6037</td>\n",
              "      <td>Los Angeles County</td>\n",
              "      <td>-29.0</td>\n",
              "      <td>-11.0</td>\n",
              "      <td>0.0</td>\n",
              "      <td>-39.0</td>\n",
              "      <td>-42.0</td>\n",
              "      <td>14.0</td>\n",
              "      <td>4.58</td>\n",
              "      <td>2.307</td>\n",
              "      <td>34</td>\n",
              "      <td>2473.978284</td>\n",
              "      <td>1</td>\n",
              "      <td>0.786</td>\n",
              "      <td>2360</td>\n",
              "      <td>0.786</td>\n",
              "      <td>10039107.0</td>\n",
              "      <td>LessSpread</td>\n",
              "      <td>flat_growth</td>\n",
              "      <td>0.235081</td>\n",
              "      <td>mild_growth</td>\n",
              "    </tr>\n",
              "    <tr>\n",
              "      <th>8337</th>\n",
              "      <td>2020-08-06</td>\n",
              "      <td>6037</td>\n",
              "      <td>Los Angeles County</td>\n",
              "      <td>-30.0</td>\n",
              "      <td>-11.0</td>\n",
              "      <td>-1.0</td>\n",
              "      <td>-39.0</td>\n",
              "      <td>-42.0</td>\n",
              "      <td>15.0</td>\n",
              "      <td>7.23</td>\n",
              "      <td>1.934</td>\n",
              "      <td>29</td>\n",
              "      <td>2473.978284</td>\n",
              "      <td>1</td>\n",
              "      <td>0.786</td>\n",
              "      <td>3035</td>\n",
              "      <td>0.786</td>\n",
              "      <td>10039107.0</td>\n",
              "      <td>LessSpread</td>\n",
              "      <td>flat_growth</td>\n",
              "      <td>0.302318</td>\n",
              "      <td>mild_growth</td>\n",
              "    </tr>\n",
              "    <tr>\n",
              "      <th>8429</th>\n",
              "      <td>2020-08-07</td>\n",
              "      <td>6037</td>\n",
              "      <td>Los Angeles County</td>\n",
              "      <td>-31.0</td>\n",
              "      <td>-10.0</td>\n",
              "      <td>-2.0</td>\n",
              "      <td>-38.0</td>\n",
              "      <td>-41.0</td>\n",
              "      <td>15.0</td>\n",
              "      <td>21.07</td>\n",
              "      <td>2.654</td>\n",
              "      <td>40</td>\n",
              "      <td>2473.978284</td>\n",
              "      <td>1</td>\n",
              "      <td>0.786</td>\n",
              "      <td>3058</td>\n",
              "      <td>0.786</td>\n",
              "      <td>10039107.0</td>\n",
              "      <td>LessSpread</td>\n",
              "      <td>flat_growth</td>\n",
              "      <td>0.304609</td>\n",
              "      <td>mild_growth</td>\n",
              "    </tr>\n",
              "    <tr>\n",
              "      <th>8460</th>\n",
              "      <td>2020-08-08</td>\n",
              "      <td>6037</td>\n",
              "      <td>Los Angeles County</td>\n",
              "      <td>-34.0</td>\n",
              "      <td>-9.0</td>\n",
              "      <td>-10.0</td>\n",
              "      <td>-35.0</td>\n",
              "      <td>-22.0</td>\n",
              "      <td>9.0</td>\n",
              "      <td>13.19</td>\n",
              "      <td>1.879</td>\n",
              "      <td>28</td>\n",
              "      <td>2473.978284</td>\n",
              "      <td>1</td>\n",
              "      <td>0.786</td>\n",
              "      <td>2520</td>\n",
              "      <td>0.786</td>\n",
              "      <td>10039107.0</td>\n",
              "      <td>LessSpread</td>\n",
              "      <td>flat_growth</td>\n",
              "      <td>0.251018</td>\n",
              "      <td>mild_growth</td>\n",
              "    </tr>\n",
              "    <tr>\n",
              "      <th>8667</th>\n",
              "      <td>2020-08-12</td>\n",
              "      <td>6037</td>\n",
              "      <td>Los Angeles County</td>\n",
              "      <td>-30.0</td>\n",
              "      <td>-13.0</td>\n",
              "      <td>-1.0</td>\n",
              "      <td>-40.0</td>\n",
              "      <td>-42.0</td>\n",
              "      <td>14.0</td>\n",
              "      <td>8.05</td>\n",
              "      <td>2.064</td>\n",
              "      <td>31</td>\n",
              "      <td>2473.978284</td>\n",
              "      <td>1</td>\n",
              "      <td>0.786</td>\n",
              "      <td>3409</td>\n",
              "      <td>0.786</td>\n",
              "      <td>10039107.0</td>\n",
              "      <td>LessSpread</td>\n",
              "      <td>flat_growth</td>\n",
              "      <td>0.339572</td>\n",
              "      <td>mild_growth</td>\n",
              "    </tr>\n",
              "    <tr>\n",
              "      <th>8794</th>\n",
              "      <td>2020-08-14</td>\n",
              "      <td>6037</td>\n",
              "      <td>Los Angeles County</td>\n",
              "      <td>-32.0</td>\n",
              "      <td>-11.0</td>\n",
              "      <td>-8.0</td>\n",
              "      <td>-40.0</td>\n",
              "      <td>-41.0</td>\n",
              "      <td>14.0</td>\n",
              "      <td>25.15</td>\n",
              "      <td>2.504</td>\n",
              "      <td>37</td>\n",
              "      <td>2473.978284</td>\n",
              "      <td>1</td>\n",
              "      <td>0.786</td>\n",
              "      <td>4406</td>\n",
              "      <td>0.786</td>\n",
              "      <td>10039107.0</td>\n",
              "      <td>LessSpread</td>\n",
              "      <td>flat_growth</td>\n",
              "      <td>0.438884</td>\n",
              "      <td>mild_growth</td>\n",
              "    </tr>\n",
              "    <tr>\n",
              "      <th>8861</th>\n",
              "      <td>2020-08-15</td>\n",
              "      <td>6037</td>\n",
              "      <td>Los Angeles County</td>\n",
              "      <td>-35.0</td>\n",
              "      <td>-10.0</td>\n",
              "      <td>-18.0</td>\n",
              "      <td>-37.0</td>\n",
              "      <td>-24.0</td>\n",
              "      <td>9.0</td>\n",
              "      <td>16.28</td>\n",
              "      <td>1.944</td>\n",
              "      <td>29</td>\n",
              "      <td>2473.978284</td>\n",
              "      <td>1</td>\n",
              "      <td>0.786</td>\n",
              "      <td>2036</td>\n",
              "      <td>0.786</td>\n",
              "      <td>10039107.0</td>\n",
              "      <td>LessSpread</td>\n",
              "      <td>flat_growth</td>\n",
              "      <td>0.202807</td>\n",
              "      <td>mild_growth</td>\n",
              "    </tr>\n",
              "  </tbody>\n",
              "</table>\n",
              "</div>"
            ],
            "text/plain": [
              "            Date  fips_x  ... New Cases/1k population  growth_label_1k\n",
              "8093  2020-08-01    6037  ...                0.230698      mild_growth\n",
              "8296  2020-08-05    6037  ...                0.235081      mild_growth\n",
              "8337  2020-08-06    6037  ...                0.302318      mild_growth\n",
              "8429  2020-08-07    6037  ...                0.304609      mild_growth\n",
              "8460  2020-08-08    6037  ...                0.251018      mild_growth\n",
              "8667  2020-08-12    6037  ...                0.339572      mild_growth\n",
              "8794  2020-08-14    6037  ...                0.438884      mild_growth\n",
              "8861  2020-08-15    6037  ...                0.202807      mild_growth\n",
              "\n",
              "[8 rows x 22 columns]"
            ]
          },
          "metadata": {
            "tags": []
          },
          "execution_count": 231
        }
      ]
    },
    {
      "cell_type": "markdown",
      "metadata": {
        "id": "iq-qtk0-d8Fe"
      },
      "source": [
        "### Growth based on 'New Cases'"
      ]
    },
    {
      "cell_type": "code",
      "metadata": {
        "id": "gD5tnJ2-ZUef",
        "outputId": "f7fe3b7f-522c-4a3a-96b6-bf7219a5547f",
        "colab": {
          "base_uri": "https://localhost:8080/",
          "height": 84
        }
      },
      "source": [
        "new_cases_10k_list_test = CA_combined_data_test_greaterthan2000['New cases'].values\n",
        "new_cases_10k_list_test"
      ],
      "execution_count": 257,
      "outputs": [
        {
          "output_type": "execute_result",
          "data": {
            "text/plain": [
              "array([2068, 2098, 2054, 2603, 2495, 2533, 3040, 2892, 2127, 7198, 4194,\n",
              "       2492, 2447, 2955, 3155, 2808, 4219, 2631, 4471, 2746, 2728, 2765,\n",
              "       3128, 2980, 3109, 2067, 3390, 2011, 2614, 4814, 2580, 2505, 2316,\n",
              "       2360, 3035, 3058, 2520, 3409, 4406, 2036])"
            ]
          },
          "metadata": {
            "tags": []
          },
          "execution_count": 257
        }
      ]
    },
    {
      "cell_type": "code",
      "metadata": {
        "id": "up2chmNka-OB",
        "outputId": "56765740-5ece-4fc4-9838-eda7f2e2c3bc",
        "colab": {
          "base_uri": "https://localhost:8080/",
          "height": 118
        }
      },
      "source": [
        "diffArr = np.diff(new_cases_10k_list_test)\n",
        "print(len(diffArr))\n",
        "print(diffArr)\n",
        "diffArr[0]\n",
        "\n",
        "\n",
        "## checked manually; diffArr is working perfectly and taking difference between consecutive arrays"
      ],
      "execution_count": 258,
      "outputs": [
        {
          "output_type": "stream",
          "text": [
            "39\n",
            "[   30   -44   549  -108    38   507  -148  -765  5071 -3004 -1702   -45\n",
            "   508   200  -347  1411 -1588  1840 -1725   -18    37   363  -148   129\n",
            " -1042  1323 -1379   603  2200 -2234   -75  -189    44   675    23  -538\n",
            "   889   997 -2370]\n"
          ],
          "name": "stdout"
        },
        {
          "output_type": "execute_result",
          "data": {
            "text/plain": [
              "30"
            ]
          },
          "metadata": {
            "tags": []
          },
          "execution_count": 258
        }
      ]
    },
    {
      "cell_type": "code",
      "metadata": {
        "id": "lud-_tM4bmek",
        "outputId": "dc0e7f13-d146-4faf-b544-04fde6901e3b",
        "colab": {
          "base_uri": "https://localhost:8080/",
          "height": 50
        }
      },
      "source": [
        "growth_values =[]\n",
        "growth_values.append(0.0) # making first value as 0, as np.diff leaves first values as NA\n",
        "print('growth_values : ',len(growth_values))\n",
        "growth_values.extend(diffArr)\n",
        "print('growth_values : ',len(growth_values))"
      ],
      "execution_count": 259,
      "outputs": [
        {
          "output_type": "stream",
          "text": [
            "growth_values :  1\n",
            "growth_values :  40\n"
          ],
          "name": "stdout"
        }
      ]
    },
    {
      "cell_type": "code",
      "metadata": {
        "id": "FwqK8uGzbIln",
        "outputId": "db2e4b4e-778e-40a1-b47d-06ae6e6de403",
        "colab": {
          "base_uri": "https://localhost:8080/",
          "height": 101
        }
      },
      "source": [
        "stdDev = np.std(diffArr)\n",
        "variance = np.var(diffArr)\n",
        "mean = np.mean(diffArr)\n",
        "min = np.min(diffArr)\n",
        "max = np.max(diffArr)\n",
        "\n",
        "\n",
        "print(\"min \",min)\n",
        "print(\"max \",max)\n",
        "\n",
        "print(\"mean \",mean)\n",
        "print(\"std. deviation \",stdDev)\n",
        "print(\"variance \",variance)"
      ],
      "execution_count": 260,
      "outputs": [
        {
          "output_type": "stream",
          "text": [
            "min  -3004\n",
            "max  5071\n",
            "mean  -0.8205128205128205\n",
            "std. deviation  1371.9344544370665\n",
            "variance  1882204.1472715314\n"
          ],
          "name": "stdout"
        }
      ]
    },
    {
      "cell_type": "markdown",
      "metadata": {
        "id": "6wqff0TIeFBV"
      },
      "source": [
        "### Getting positive cases"
      ]
    },
    {
      "cell_type": "code",
      "metadata": {
        "id": "p00pKKCaeFBa",
        "outputId": "b6f4367a-63e1-42ee-a210-f7ca262cf766",
        "colab": {
          "base_uri": "https://localhost:8080/",
          "height": 134
        }
      },
      "source": [
        "print('length diffArr: ',len(diffArr))\n",
        "\n",
        "non_zero_pos_diff = []\n",
        "\n",
        "for i in diffArr:\n",
        "  if i > 0:\n",
        "    non_zero_pos_diff.append(i)\n",
        "\n",
        "print('non_zero_pos_diff length: ',len(non_zero_pos_diff))\n",
        "\n",
        "\n",
        "stdDev = np.std(non_zero_pos_diff)\n",
        "variance = np.var(non_zero_pos_diff)\n",
        "mean = np.mean(non_zero_pos_diff)\n",
        "min = np.min(non_zero_pos_diff)\n",
        "max = np.max(non_zero_pos_diff)\n",
        "\n",
        "\n",
        "print(\"min \",min)\n",
        "print(\"max \",max)\n",
        "\n",
        "print(\"mean \",mean)\n",
        "print(\"std. deviation \",stdDev)\n",
        "print(\"variance \",variance)\n",
        "#diff_array =[   44   675    23  -538   889   997 -2370]"
      ],
      "execution_count": 261,
      "outputs": [
        {
          "output_type": "stream",
          "text": [
            "length diffArr:  39\n",
            "non_zero_pos_diff length:  20\n",
            "min  23\n",
            "max  5071\n",
            "mean  871.85\n",
            "std. deviation  1142.237027722355\n",
            "variance  1304705.4275\n"
          ],
          "name": "stdout"
        }
      ]
    },
    {
      "cell_type": "markdown",
      "metadata": {
        "id": "zjW59Hxdejgf"
      },
      "source": [
        "### Getting negative cases\n"
      ]
    },
    {
      "cell_type": "code",
      "metadata": {
        "id": "jlgfsS-mejgg",
        "outputId": "41fad331-d2be-45b5-fac2-748adc002585",
        "colab": {
          "base_uri": "https://localhost:8080/",
          "height": 118
        }
      },
      "source": [
        "non_zero_neg_diff = []\n",
        "\n",
        "for i in diffArr:\n",
        "  if i < 0:\n",
        "    non_zero_neg_diff.append(i)\n",
        "print(\"non_zero_neg_diff length : \",len(non_zero_neg_diff))\n",
        "\n",
        "stdDev = np.std(non_zero_neg_diff)\n",
        "variance = np.var(non_zero_neg_diff)\n",
        "mean = np.mean(non_zero_neg_diff)\n",
        "min = np.min(non_zero_neg_diff)\n",
        "max = np.max(non_zero_neg_diff)\n",
        "\n",
        "\n",
        "print(\"min \",min)\n",
        "print(\"max \",max)\n",
        "\n",
        "print(\"mean \",mean)\n",
        "print(\"std. deviation \",stdDev)\n",
        "print(\"variance \",variance)\n",
        "\n",
        "#diff_array =[   44   675    23  -538   889   997 -2370]"
      ],
      "execution_count": 262,
      "outputs": [
        {
          "output_type": "stream",
          "text": [
            "non_zero_neg_diff length :  19\n",
            "min  -3004\n",
            "max  -18\n",
            "mean  -919.421052631579\n",
            "std. deviation  919.0402497221862\n",
            "variance  844634.9806094184\n"
          ],
          "name": "stdout"
        }
      ]
    },
    {
      "cell_type": "code",
      "metadata": {
        "id": "x1zT_SrQejgi",
        "outputId": "d211469a-5ca7-4ed5-ca45-9330475a8cbb",
        "colab": {
          "base_uri": "https://localhost:8080/",
          "height": 417
        }
      },
      "source": [
        "CA_combined_data_test_greaterthan2000.head()"
      ],
      "execution_count": 263,
      "outputs": [
        {
          "output_type": "execute_result",
          "data": {
            "text/html": [
              "<div>\n",
              "<style scoped>\n",
              "    .dataframe tbody tr th:only-of-type {\n",
              "        vertical-align: middle;\n",
              "    }\n",
              "\n",
              "    .dataframe tbody tr th {\n",
              "        vertical-align: top;\n",
              "    }\n",
              "\n",
              "    .dataframe thead th {\n",
              "        text-align: right;\n",
              "    }\n",
              "</style>\n",
              "<table border=\"1\" class=\"dataframe\">\n",
              "  <thead>\n",
              "    <tr style=\"text-align: right;\">\n",
              "      <th></th>\n",
              "      <th>Date</th>\n",
              "      <th>fips_x</th>\n",
              "      <th>County Name</th>\n",
              "      <th>retail and recreation</th>\n",
              "      <th>grocery and pharmacy</th>\n",
              "      <th>parks</th>\n",
              "      <th>transit stations</th>\n",
              "      <th>workplaces</th>\n",
              "      <th>residential</th>\n",
              "      <th>driving</th>\n",
              "      <th>m50</th>\n",
              "      <th>m50_index</th>\n",
              "      <th>population_density</th>\n",
              "      <th>mask_rule_active</th>\n",
              "      <th>mask_wearing_percent</th>\n",
              "      <th>New cases</th>\n",
              "      <th>rolling_avg_new_cases</th>\n",
              "      <th>population</th>\n",
              "      <th>label</th>\n",
              "      <th>growth_label</th>\n",
              "      <th>New Cases/1k population</th>\n",
              "      <th>growth_label_1k</th>\n",
              "    </tr>\n",
              "  </thead>\n",
              "  <tbody>\n",
              "    <tr>\n",
              "      <th>4711</th>\n",
              "      <td>2020-05-30</td>\n",
              "      <td>6037</td>\n",
              "      <td>Los Angeles County</td>\n",
              "      <td>-45.0</td>\n",
              "      <td>-12.0</td>\n",
              "      <td>-20.0</td>\n",
              "      <td>-39.0</td>\n",
              "      <td>-21.0</td>\n",
              "      <td>13.0</td>\n",
              "      <td>-12.42</td>\n",
              "      <td>0.644</td>\n",
              "      <td>9</td>\n",
              "      <td>2473.978284</td>\n",
              "      <td>0</td>\n",
              "      <td>0.000</td>\n",
              "      <td>2068</td>\n",
              "      <td>0.000000</td>\n",
              "      <td>10039107.0</td>\n",
              "      <td>LessSpread</td>\n",
              "      <td>flat_growth</td>\n",
              "      <td>0.205994</td>\n",
              "      <td>mild_growth</td>\n",
              "    </tr>\n",
              "    <tr>\n",
              "      <th>5701</th>\n",
              "      <td>2020-06-17</td>\n",
              "      <td>6037</td>\n",
              "      <td>Los Angeles County</td>\n",
              "      <td>-31.0</td>\n",
              "      <td>-10.0</td>\n",
              "      <td>-1.0</td>\n",
              "      <td>-37.0</td>\n",
              "      <td>-40.0</td>\n",
              "      <td>15.0</td>\n",
              "      <td>-5.60</td>\n",
              "      <td>2.701</td>\n",
              "      <td>40</td>\n",
              "      <td>2473.978284</td>\n",
              "      <td>0</td>\n",
              "      <td>0.000</td>\n",
              "      <td>2098</td>\n",
              "      <td>0.000000</td>\n",
              "      <td>10039107.0</td>\n",
              "      <td>LessSpread</td>\n",
              "      <td>flat_growth</td>\n",
              "      <td>0.208983</td>\n",
              "      <td>mild_growth</td>\n",
              "    </tr>\n",
              "    <tr>\n",
              "      <th>5832</th>\n",
              "      <td>2020-06-20</td>\n",
              "      <td>6037</td>\n",
              "      <td>Los Angeles County</td>\n",
              "      <td>-33.0</td>\n",
              "      <td>-4.0</td>\n",
              "      <td>-16.0</td>\n",
              "      <td>-34.0</td>\n",
              "      <td>-18.0</td>\n",
              "      <td>8.0</td>\n",
              "      <td>2.85</td>\n",
              "      <td>2.712</td>\n",
              "      <td>41</td>\n",
              "      <td>2473.978284</td>\n",
              "      <td>1</td>\n",
              "      <td>0.786</td>\n",
              "      <td>2054</td>\n",
              "      <td>0.336857</td>\n",
              "      <td>10039107.0</td>\n",
              "      <td>LessSpread</td>\n",
              "      <td>flat_growth</td>\n",
              "      <td>0.204600</td>\n",
              "      <td>mild_growth</td>\n",
              "    </tr>\n",
              "    <tr>\n",
              "      <th>5939</th>\n",
              "      <td>2020-06-22</td>\n",
              "      <td>6037</td>\n",
              "      <td>Los Angeles County</td>\n",
              "      <td>-31.0</td>\n",
              "      <td>-16.0</td>\n",
              "      <td>-4.0</td>\n",
              "      <td>-39.0</td>\n",
              "      <td>-41.0</td>\n",
              "      <td>14.0</td>\n",
              "      <td>-7.23</td>\n",
              "      <td>2.271</td>\n",
              "      <td>34</td>\n",
              "      <td>2473.978284</td>\n",
              "      <td>1</td>\n",
              "      <td>0.786</td>\n",
              "      <td>2603</td>\n",
              "      <td>0.561429</td>\n",
              "      <td>10039107.0</td>\n",
              "      <td>LessSpread</td>\n",
              "      <td>flat_growth</td>\n",
              "      <td>0.259286</td>\n",
              "      <td>mild_growth</td>\n",
              "    </tr>\n",
              "    <tr>\n",
              "      <th>6008</th>\n",
              "      <td>2020-06-23</td>\n",
              "      <td>6037</td>\n",
              "      <td>Los Angeles County</td>\n",
              "      <td>-30.0</td>\n",
              "      <td>-12.0</td>\n",
              "      <td>-2.0</td>\n",
              "      <td>-38.0</td>\n",
              "      <td>-41.0</td>\n",
              "      <td>15.0</td>\n",
              "      <td>-4.37</td>\n",
              "      <td>2.696</td>\n",
              "      <td>40</td>\n",
              "      <td>2473.978284</td>\n",
              "      <td>1</td>\n",
              "      <td>0.786</td>\n",
              "      <td>2495</td>\n",
              "      <td>0.673714</td>\n",
              "      <td>10039107.0</td>\n",
              "      <td>SuperSpread</td>\n",
              "      <td>flat_growth</td>\n",
              "      <td>0.248528</td>\n",
              "      <td>mild_growth</td>\n",
              "    </tr>\n",
              "  </tbody>\n",
              "</table>\n",
              "</div>"
            ],
            "text/plain": [
              "            Date  fips_x  ... New Cases/1k population  growth_label_1k\n",
              "4711  2020-05-30    6037  ...                0.205994      mild_growth\n",
              "5701  2020-06-17    6037  ...                0.208983      mild_growth\n",
              "5832  2020-06-20    6037  ...                0.204600      mild_growth\n",
              "5939  2020-06-22    6037  ...                0.259286      mild_growth\n",
              "6008  2020-06-23    6037  ...                0.248528      mild_growth\n",
              "\n",
              "[5 rows x 22 columns]"
            ]
          },
          "metadata": {
            "tags": []
          },
          "execution_count": 263
        }
      ]
    },
    {
      "cell_type": "markdown",
      "metadata": {
        "id": "kiH9rU6GffCD"
      },
      "source": [
        "### Applying natural breaks (Getting error here for neg_breaks; need more neg values)"
      ]
    },
    {
      "cell_type": "code",
      "metadata": {
        "id": "6SSG0Ds8ffCH",
        "outputId": "bf94de17-3150-4ec2-bdaa-b7501125a947",
        "colab": {
          "base_uri": "https://localhost:8080/",
          "height": 84
        }
      },
      "source": [
        "pos_breaks = jenkspy.jenks_breaks(non_zero_pos_diff, nb_class=2)\n",
        "print(pos_breaks)\n",
        "\n",
        "### getting error here: \"ValueError: Number of class have to be an integer greater than 2 and smaller than the number of values to use\" \n",
        "neg_breaks = jenkspy.jenks_breaks(non_zero_neg_diff, nb_class=2)\n",
        "print(neg_breaks)\n",
        "\n",
        "print(' ****** breaks *******')\n",
        "breaks = pos_breaks + neg_breaks\n",
        "breaks.sort()\n",
        "breaks"
      ],
      "execution_count": 265,
      "outputs": [
        {
          "output_type": "stream",
          "text": [
            "[23.0, 2200.0, 5071.0]\n",
            "[-3004.0, -1379.0, -18.0]\n",
            " ****** breaks *******\n"
          ],
          "name": "stdout"
        },
        {
          "output_type": "execute_result",
          "data": {
            "text/plain": [
              "[-3004.0, -1379.0, -18.0, 23.0, 2200.0, 5071.0]"
            ]
          },
          "metadata": {
            "tags": []
          },
          "execution_count": 265
        }
      ]
    },
    {
      "cell_type": "markdown",
      "metadata": {
        "id": "mLVqx3imkr8x"
      },
      "source": [
        "### New Labeling"
      ]
    },
    {
      "cell_type": "code",
      "metadata": {
        "id": "AIdpZhsJkr9K"
      },
      "source": [
        "#[5.2680092775606036e-05, 0.5928496690142417, 3.960127989407119]\n",
        "#[-3.8230281887128026, -0.5659584931410302, -8.310897482368892e-06]\n",
        "\n",
        "#[23.0, 2200.0, 5071.0]\n",
        "#[-3004.0, -1379.0, -18.0]\n",
        "def determine_growth_label_test(x):\n",
        "  if x >= -0.00000831 and x <= 0.0000526:\n",
        "    return 'flat_growth'\n",
        "  if x > 0.0000526 and x <= 0.59285:\n",
        "    return 'mild_growth'\n",
        "  if x > 0.59285 and x <= 3.96013:\n",
        "    return 'drastic_growth'\n",
        "  if x >= -0.56595  and x <= -0.00000831:\n",
        "    return 'mild_decrement'\n",
        "  if x >= -3.96013 and x < -0.56595:\n",
        "    return 'drastic_decrement'"
      ],
      "execution_count": null,
      "outputs": []
    },
    {
      "cell_type": "code",
      "metadata": {
        "id": "dqw1zyKVkr9O",
        "outputId": "642d0b9d-fb73-44c0-fda0-e42697a2b0be",
        "colab": {
          "base_uri": "https://localhost:8080/",
          "height": 303
        }
      },
      "source": [
        "CA_combined_data_test_greaterthan2000['growth_label_test'] = CA_combined_data_test_greaterthan2000['New cases'].apply(lambda x: determine_growth_label_test(x) )\n",
        "CA_combined_data_test_greaterthan2000.head(4)"
      ],
      "execution_count": null,
      "outputs": [
        {
          "output_type": "execute_result",
          "data": {
            "text/html": [
              "<div>\n",
              "<style scoped>\n",
              "    .dataframe tbody tr th:only-of-type {\n",
              "        vertical-align: middle;\n",
              "    }\n",
              "\n",
              "    .dataframe tbody tr th {\n",
              "        vertical-align: top;\n",
              "    }\n",
              "\n",
              "    .dataframe thead th {\n",
              "        text-align: right;\n",
              "    }\n",
              "</style>\n",
              "<table border=\"1\" class=\"dataframe\">\n",
              "  <thead>\n",
              "    <tr style=\"text-align: right;\">\n",
              "      <th></th>\n",
              "      <th>Date</th>\n",
              "      <th>fips_x</th>\n",
              "      <th>County Name</th>\n",
              "      <th>retail and recreation</th>\n",
              "      <th>grocery and pharmacy</th>\n",
              "      <th>parks</th>\n",
              "      <th>transit stations</th>\n",
              "      <th>workplaces</th>\n",
              "      <th>residential</th>\n",
              "      <th>driving</th>\n",
              "      <th>m50</th>\n",
              "      <th>m50_index</th>\n",
              "      <th>population_density</th>\n",
              "      <th>mask_rule_active</th>\n",
              "      <th>mask_wearing_percent</th>\n",
              "      <th>New cases</th>\n",
              "      <th>rolling_avg_new_cases</th>\n",
              "      <th>population</th>\n",
              "      <th>label</th>\n",
              "      <th>growth_label</th>\n",
              "      <th>New Cases/1k population</th>\n",
              "      <th>growth_label_1k</th>\n",
              "    </tr>\n",
              "  </thead>\n",
              "  <tbody>\n",
              "    <tr>\n",
              "      <th>0</th>\n",
              "      <td>2020-03-01</td>\n",
              "      <td>6001</td>\n",
              "      <td>Alameda County</td>\n",
              "      <td>6.0</td>\n",
              "      <td>9.0</td>\n",
              "      <td>15.0</td>\n",
              "      <td>1.0</td>\n",
              "      <td>4.0</td>\n",
              "      <td>0.0</td>\n",
              "      <td>-7.65</td>\n",
              "      <td>3.684</td>\n",
              "      <td>58</td>\n",
              "      <td>2261.547725</td>\n",
              "      <td>0</td>\n",
              "      <td>0.0</td>\n",
              "      <td>0</td>\n",
              "      <td>0.0</td>\n",
              "      <td>1671329.0</td>\n",
              "      <td>LessSpread</td>\n",
              "      <td>flat_growth</td>\n",
              "      <td>0.0</td>\n",
              "      <td>flat_growth</td>\n",
              "    </tr>\n",
              "    <tr>\n",
              "      <th>1</th>\n",
              "      <td>2020-03-01</td>\n",
              "      <td>6067</td>\n",
              "      <td>Sacramento County</td>\n",
              "      <td>11.0</td>\n",
              "      <td>4.0</td>\n",
              "      <td>26.0</td>\n",
              "      <td>1.0</td>\n",
              "      <td>2.0</td>\n",
              "      <td>-1.0</td>\n",
              "      <td>-4.63</td>\n",
              "      <td>3.773</td>\n",
              "      <td>53</td>\n",
              "      <td>1608.950489</td>\n",
              "      <td>0</td>\n",
              "      <td>0.0</td>\n",
              "      <td>0</td>\n",
              "      <td>0.0</td>\n",
              "      <td>1552058.0</td>\n",
              "      <td>LessSpread</td>\n",
              "      <td>flat_growth</td>\n",
              "      <td>0.0</td>\n",
              "      <td>flat_growth</td>\n",
              "    </tr>\n",
              "    <tr>\n",
              "      <th>2</th>\n",
              "      <td>2020-03-01</td>\n",
              "      <td>6069</td>\n",
              "      <td>San Benito County</td>\n",
              "      <td>2.0</td>\n",
              "      <td>-1.0</td>\n",
              "      <td>-7.0</td>\n",
              "      <td>0.0</td>\n",
              "      <td>0.0</td>\n",
              "      <td>0.0</td>\n",
              "      <td>10.40</td>\n",
              "      <td>3.876</td>\n",
              "      <td>33</td>\n",
              "      <td>45.227585</td>\n",
              "      <td>0</td>\n",
              "      <td>0.0</td>\n",
              "      <td>0</td>\n",
              "      <td>0.0</td>\n",
              "      <td>62808.0</td>\n",
              "      <td>LessSpread</td>\n",
              "      <td>flat_growth</td>\n",
              "      <td>0.0</td>\n",
              "      <td>flat_growth</td>\n",
              "    </tr>\n",
              "    <tr>\n",
              "      <th>3</th>\n",
              "      <td>2020-03-01</td>\n",
              "      <td>6071</td>\n",
              "      <td>San Bernardino County</td>\n",
              "      <td>5.0</td>\n",
              "      <td>-2.0</td>\n",
              "      <td>-22.0</td>\n",
              "      <td>2.0</td>\n",
              "      <td>-1.0</td>\n",
              "      <td>0.0</td>\n",
              "      <td>10.34</td>\n",
              "      <td>4.508</td>\n",
              "      <td>57</td>\n",
              "      <td>108.694796</td>\n",
              "      <td>0</td>\n",
              "      <td>0.0</td>\n",
              "      <td>0</td>\n",
              "      <td>0.0</td>\n",
              "      <td>2180085.0</td>\n",
              "      <td>LessSpread</td>\n",
              "      <td>flat_growth</td>\n",
              "      <td>0.0</td>\n",
              "      <td>flat_growth</td>\n",
              "    </tr>\n",
              "  </tbody>\n",
              "</table>\n",
              "</div>"
            ],
            "text/plain": [
              "         Date  fips_x  ... New Cases/1k population  growth_label_1k\n",
              "0  2020-03-01    6001  ...                     0.0      flat_growth\n",
              "1  2020-03-01    6067  ...                     0.0      flat_growth\n",
              "2  2020-03-01    6069  ...                     0.0      flat_growth\n",
              "3  2020-03-01    6071  ...                     0.0      flat_growth\n",
              "\n",
              "[4 rows x 22 columns]"
            ]
          },
          "metadata": {
            "tags": []
          },
          "execution_count": 212
        }
      ]
    },
    {
      "cell_type": "markdown",
      "metadata": {
        "id": "-G1IvuF0kr9S"
      },
      "source": [
        "### Export Combined labeled Data"
      ]
    },
    {
      "cell_type": "code",
      "metadata": {
        "id": "v7vSv3lhkr9X"
      },
      "source": [
        "CA_combined_data_test_greaterthan2000_growth0 = CA_combined_data_test_greaterthan2000[CA_combined_data_test_greaterthan2000['growth_label'] == 'drastic_decrement']\n",
        "CA_combined_data_test_greaterthan2000_growth1 = CA_combined_data_test_greaterthan2000[CA_combined_data_test_greaterthan2000['growth_label'] == 'drastic_growth']\n",
        "CA_combined_data_test_greaterthan2000_growth2 = CA_combined_data_test_greaterthan2000[CA_combined_data_test_greaterthan2000['growth_label'] == 'flat_growth']\n",
        "CA_combined_data_test_greaterthan2000_growth3 = CA_combined_data_test_greaterthan2000[CA_combined_data_test_greaterthan2000['growth_label'] == 'mild_decrement']\n",
        "CA_combined_data_test_greaterthan2000_growth4 = CA_combined_data_test_greaterthan2000[CA_combined_data_test_greaterthan2000['growth_label'] == 'mild_growth']\n",
        "\n",
        "print(CA_combined_data_test_greaterthan2000_growth0.shape)\n",
        "print(CA_combined_data_test_greaterthan2000_growth1.shape)\n",
        "print(CA_combined_data_test_greaterthan2000_growth2.shape)\n",
        "print(CA_combined_data_test_greaterthan2000_growth3.shape)\n",
        "print(CA_combined_data_test_greaterthan2000_growth4.shape)"
      ],
      "execution_count": null,
      "outputs": []
    },
    {
      "cell_type": "markdown",
      "metadata": {
        "id": "Yyelsv-hpz9b"
      },
      "source": [
        "## New Cases = Less than 50"
      ]
    },
    {
      "cell_type": "code",
      "metadata": {
        "id": "7nmcUQRXpz9i"
      },
      "source": [
        "CA_combined_data_test_lessthan50 = CA_combined_data_test[(CA_combined_data_test['New cases'] < 50 ) & (CA_combined_data_test['County Name']== 'Los Angeles County')]"
      ],
      "execution_count": 266,
      "outputs": []
    },
    {
      "cell_type": "code",
      "metadata": {
        "id": "aymnlCPCpz9t",
        "outputId": "7bd2ddf4-dd17-4cea-dd3c-3b49012d51cd",
        "colab": {
          "base_uri": "https://localhost:8080/",
          "height": 1000
        }
      },
      "source": [
        "CA_combined_data_test_lessthan50.sort_values(by='Date', ascending=True)\n"
      ],
      "execution_count": 267,
      "outputs": [
        {
          "output_type": "execute_result",
          "data": {
            "text/html": [
              "<div>\n",
              "<style scoped>\n",
              "    .dataframe tbody tr th:only-of-type {\n",
              "        vertical-align: middle;\n",
              "    }\n",
              "\n",
              "    .dataframe tbody tr th {\n",
              "        vertical-align: top;\n",
              "    }\n",
              "\n",
              "    .dataframe thead th {\n",
              "        text-align: right;\n",
              "    }\n",
              "</style>\n",
              "<table border=\"1\" class=\"dataframe\">\n",
              "  <thead>\n",
              "    <tr style=\"text-align: right;\">\n",
              "      <th></th>\n",
              "      <th>Date</th>\n",
              "      <th>fips_x</th>\n",
              "      <th>County Name</th>\n",
              "      <th>retail and recreation</th>\n",
              "      <th>grocery and pharmacy</th>\n",
              "      <th>parks</th>\n",
              "      <th>transit stations</th>\n",
              "      <th>workplaces</th>\n",
              "      <th>residential</th>\n",
              "      <th>driving</th>\n",
              "      <th>m50</th>\n",
              "      <th>m50_index</th>\n",
              "      <th>population_density</th>\n",
              "      <th>mask_rule_active</th>\n",
              "      <th>mask_wearing_percent</th>\n",
              "      <th>New cases</th>\n",
              "      <th>rolling_avg_new_cases</th>\n",
              "      <th>population</th>\n",
              "      <th>label</th>\n",
              "      <th>growth_label</th>\n",
              "      <th>New Cases/1k population</th>\n",
              "      <th>growth_label_1k</th>\n",
              "    </tr>\n",
              "  </thead>\n",
              "  <tbody>\n",
              "    <tr>\n",
              "      <th>38</th>\n",
              "      <td>2020-03-01</td>\n",
              "      <td>6037</td>\n",
              "      <td>Los Angeles County</td>\n",
              "      <td>4.0</td>\n",
              "      <td>3.0</td>\n",
              "      <td>-5.0</td>\n",
              "      <td>-3.0</td>\n",
              "      <td>1.0</td>\n",
              "      <td>0.0</td>\n",
              "      <td>-4.36</td>\n",
              "      <td>3.996</td>\n",
              "      <td>60</td>\n",
              "      <td>2473.978284</td>\n",
              "      <td>0</td>\n",
              "      <td>0.000</td>\n",
              "      <td>0</td>\n",
              "      <td>0.000</td>\n",
              "      <td>10039107.0</td>\n",
              "      <td>LessSpread</td>\n",
              "      <td>flat_growth</td>\n",
              "      <td>0.000000</td>\n",
              "      <td>flat_growth</td>\n",
              "    </tr>\n",
              "    <tr>\n",
              "      <th>93</th>\n",
              "      <td>2020-03-02</td>\n",
              "      <td>6037</td>\n",
              "      <td>Los Angeles County</td>\n",
              "      <td>5.0</td>\n",
              "      <td>5.0</td>\n",
              "      <td>8.0</td>\n",
              "      <td>1.0</td>\n",
              "      <td>4.0</td>\n",
              "      <td>-1.0</td>\n",
              "      <td>7.51</td>\n",
              "      <td>6.502</td>\n",
              "      <td>98</td>\n",
              "      <td>2473.978284</td>\n",
              "      <td>0</td>\n",
              "      <td>0.000</td>\n",
              "      <td>0</td>\n",
              "      <td>0.000</td>\n",
              "      <td>10039107.0</td>\n",
              "      <td>LessSpread</td>\n",
              "      <td>flat_growth</td>\n",
              "      <td>0.000000</td>\n",
              "      <td>flat_growth</td>\n",
              "    </tr>\n",
              "    <tr>\n",
              "      <th>115</th>\n",
              "      <td>2020-03-03</td>\n",
              "      <td>6037</td>\n",
              "      <td>Los Angeles County</td>\n",
              "      <td>8.0</td>\n",
              "      <td>7.0</td>\n",
              "      <td>32.0</td>\n",
              "      <td>2.0</td>\n",
              "      <td>3.0</td>\n",
              "      <td>-1.0</td>\n",
              "      <td>17.24</td>\n",
              "      <td>6.591</td>\n",
              "      <td>99</td>\n",
              "      <td>2473.978284</td>\n",
              "      <td>0</td>\n",
              "      <td>0.000</td>\n",
              "      <td>0</td>\n",
              "      <td>0.000</td>\n",
              "      <td>10039107.0</td>\n",
              "      <td>LessSpread</td>\n",
              "      <td>flat_growth</td>\n",
              "      <td>0.000000</td>\n",
              "      <td>flat_growth</td>\n",
              "    </tr>\n",
              "    <tr>\n",
              "      <th>196</th>\n",
              "      <td>2020-03-04</td>\n",
              "      <td>6037</td>\n",
              "      <td>Los Angeles County</td>\n",
              "      <td>4.0</td>\n",
              "      <td>6.0</td>\n",
              "      <td>9.0</td>\n",
              "      <td>-1.0</td>\n",
              "      <td>2.0</td>\n",
              "      <td>0.0</td>\n",
              "      <td>13.82</td>\n",
              "      <td>6.595</td>\n",
              "      <td>100</td>\n",
              "      <td>2473.978284</td>\n",
              "      <td>0</td>\n",
              "      <td>0.000</td>\n",
              "      <td>6</td>\n",
              "      <td>0.000</td>\n",
              "      <td>10039107.0</td>\n",
              "      <td>LessSpread</td>\n",
              "      <td>flat_growth</td>\n",
              "      <td>0.000598</td>\n",
              "      <td>mild_growth</td>\n",
              "    </tr>\n",
              "    <tr>\n",
              "      <th>267</th>\n",
              "      <td>2020-03-05</td>\n",
              "      <td>6037</td>\n",
              "      <td>Los Angeles County</td>\n",
              "      <td>4.0</td>\n",
              "      <td>7.0</td>\n",
              "      <td>9.0</td>\n",
              "      <td>0.0</td>\n",
              "      <td>2.0</td>\n",
              "      <td>0.0</td>\n",
              "      <td>22.17</td>\n",
              "      <td>7.008</td>\n",
              "      <td>106</td>\n",
              "      <td>2473.978284</td>\n",
              "      <td>0</td>\n",
              "      <td>0.000</td>\n",
              "      <td>4</td>\n",
              "      <td>0.000</td>\n",
              "      <td>10039107.0</td>\n",
              "      <td>LessSpread</td>\n",
              "      <td>flat_growth</td>\n",
              "      <td>0.000398</td>\n",
              "      <td>mild_growth</td>\n",
              "    </tr>\n",
              "    <tr>\n",
              "      <th>288</th>\n",
              "      <td>2020-03-06</td>\n",
              "      <td>6037</td>\n",
              "      <td>Los Angeles County</td>\n",
              "      <td>3.0</td>\n",
              "      <td>6.0</td>\n",
              "      <td>7.0</td>\n",
              "      <td>-2.0</td>\n",
              "      <td>2.0</td>\n",
              "      <td>0.0</td>\n",
              "      <td>35.24</td>\n",
              "      <td>7.351</td>\n",
              "      <td>111</td>\n",
              "      <td>2473.978284</td>\n",
              "      <td>0</td>\n",
              "      <td>0.000</td>\n",
              "      <td>2</td>\n",
              "      <td>0.000</td>\n",
              "      <td>10039107.0</td>\n",
              "      <td>LessSpread</td>\n",
              "      <td>flat_growth</td>\n",
              "      <td>0.000199</td>\n",
              "      <td>mild_growth</td>\n",
              "    </tr>\n",
              "    <tr>\n",
              "      <th>333</th>\n",
              "      <td>2020-03-07</td>\n",
              "      <td>6037</td>\n",
              "      <td>Los Angeles County</td>\n",
              "      <td>1.0</td>\n",
              "      <td>6.0</td>\n",
              "      <td>3.0</td>\n",
              "      <td>-4.0</td>\n",
              "      <td>2.0</td>\n",
              "      <td>0.0</td>\n",
              "      <td>26.34</td>\n",
              "      <td>6.024</td>\n",
              "      <td>91</td>\n",
              "      <td>2473.978284</td>\n",
              "      <td>0</td>\n",
              "      <td>0.000</td>\n",
              "      <td>1</td>\n",
              "      <td>0.000</td>\n",
              "      <td>10039107.0</td>\n",
              "      <td>LessSpread</td>\n",
              "      <td>flat_growth</td>\n",
              "      <td>0.000100</td>\n",
              "      <td>mild_growth</td>\n",
              "    </tr>\n",
              "    <tr>\n",
              "      <th>414</th>\n",
              "      <td>2020-03-08</td>\n",
              "      <td>6037</td>\n",
              "      <td>Los Angeles County</td>\n",
              "      <td>3.0</td>\n",
              "      <td>4.0</td>\n",
              "      <td>16.0</td>\n",
              "      <td>-4.0</td>\n",
              "      <td>1.0</td>\n",
              "      <td>0.0</td>\n",
              "      <td>0.08</td>\n",
              "      <td>4.202</td>\n",
              "      <td>63</td>\n",
              "      <td>2473.978284</td>\n",
              "      <td>0</td>\n",
              "      <td>0.000</td>\n",
              "      <td>0</td>\n",
              "      <td>0.000</td>\n",
              "      <td>10039107.0</td>\n",
              "      <td>LessSpread</td>\n",
              "      <td>flat_growth</td>\n",
              "      <td>0.000000</td>\n",
              "      <td>flat_growth</td>\n",
              "    </tr>\n",
              "    <tr>\n",
              "      <th>466</th>\n",
              "      <td>2020-03-09</td>\n",
              "      <td>6037</td>\n",
              "      <td>Los Angeles County</td>\n",
              "      <td>3.0</td>\n",
              "      <td>7.0</td>\n",
              "      <td>6.0</td>\n",
              "      <td>-4.0</td>\n",
              "      <td>3.0</td>\n",
              "      <td>0.0</td>\n",
              "      <td>3.92</td>\n",
              "      <td>6.140</td>\n",
              "      <td>93</td>\n",
              "      <td>2473.978284</td>\n",
              "      <td>0</td>\n",
              "      <td>0.000</td>\n",
              "      <td>0</td>\n",
              "      <td>0.000</td>\n",
              "      <td>10039107.0</td>\n",
              "      <td>LessSpread</td>\n",
              "      <td>flat_growth</td>\n",
              "      <td>0.000000</td>\n",
              "      <td>flat_growth</td>\n",
              "    </tr>\n",
              "    <tr>\n",
              "      <th>484</th>\n",
              "      <td>2020-03-10</td>\n",
              "      <td>6037</td>\n",
              "      <td>Los Angeles County</td>\n",
              "      <td>-3.0</td>\n",
              "      <td>3.0</td>\n",
              "      <td>-29.0</td>\n",
              "      <td>-13.0</td>\n",
              "      <td>-2.0</td>\n",
              "      <td>3.0</td>\n",
              "      <td>4.27</td>\n",
              "      <td>6.178</td>\n",
              "      <td>93</td>\n",
              "      <td>2473.978284</td>\n",
              "      <td>0</td>\n",
              "      <td>0.000</td>\n",
              "      <td>6</td>\n",
              "      <td>0.000</td>\n",
              "      <td>10039107.0</td>\n",
              "      <td>LessSpread</td>\n",
              "      <td>flat_growth</td>\n",
              "      <td>0.000598</td>\n",
              "      <td>mild_growth</td>\n",
              "    </tr>\n",
              "    <tr>\n",
              "      <th>578</th>\n",
              "      <td>2020-03-11</td>\n",
              "      <td>6037</td>\n",
              "      <td>Los Angeles County</td>\n",
              "      <td>2.0</td>\n",
              "      <td>11.0</td>\n",
              "      <td>5.0</td>\n",
              "      <td>-6.0</td>\n",
              "      <td>0.0</td>\n",
              "      <td>1.0</td>\n",
              "      <td>5.27</td>\n",
              "      <td>6.422</td>\n",
              "      <td>97</td>\n",
              "      <td>2473.978284</td>\n",
              "      <td>0</td>\n",
              "      <td>0.000</td>\n",
              "      <td>7</td>\n",
              "      <td>0.000</td>\n",
              "      <td>10039107.0</td>\n",
              "      <td>LessSpread</td>\n",
              "      <td>flat_growth</td>\n",
              "      <td>0.000697</td>\n",
              "      <td>mild_growth</td>\n",
              "    </tr>\n",
              "    <tr>\n",
              "      <th>608</th>\n",
              "      <td>2020-03-12</td>\n",
              "      <td>6037</td>\n",
              "      <td>Los Angeles County</td>\n",
              "      <td>-8.0</td>\n",
              "      <td>12.0</td>\n",
              "      <td>-35.0</td>\n",
              "      <td>-19.0</td>\n",
              "      <td>-3.0</td>\n",
              "      <td>4.0</td>\n",
              "      <td>1.57</td>\n",
              "      <td>5.775</td>\n",
              "      <td>87</td>\n",
              "      <td>2473.978284</td>\n",
              "      <td>0</td>\n",
              "      <td>0.000</td>\n",
              "      <td>5</td>\n",
              "      <td>0.000</td>\n",
              "      <td>10039107.0</td>\n",
              "      <td>LessSpread</td>\n",
              "      <td>flat_growth</td>\n",
              "      <td>0.000498</td>\n",
              "      <td>mild_growth</td>\n",
              "    </tr>\n",
              "    <tr>\n",
              "      <th>643</th>\n",
              "      <td>2020-03-13</td>\n",
              "      <td>6037</td>\n",
              "      <td>Los Angeles County</td>\n",
              "      <td>-5.0</td>\n",
              "      <td>37.0</td>\n",
              "      <td>-37.0</td>\n",
              "      <td>-21.0</td>\n",
              "      <td>-7.0</td>\n",
              "      <td>6.0</td>\n",
              "      <td>1.38</td>\n",
              "      <td>5.670</td>\n",
              "      <td>85</td>\n",
              "      <td>2473.978284</td>\n",
              "      <td>0</td>\n",
              "      <td>0.000</td>\n",
              "      <td>8</td>\n",
              "      <td>0.000</td>\n",
              "      <td>10039107.0</td>\n",
              "      <td>LessSpread</td>\n",
              "      <td>flat_growth</td>\n",
              "      <td>0.000797</td>\n",
              "      <td>mild_growth</td>\n",
              "    </tr>\n",
              "    <tr>\n",
              "      <th>699</th>\n",
              "      <td>2020-03-14</td>\n",
              "      <td>6037</td>\n",
              "      <td>Los Angeles County</td>\n",
              "      <td>-14.0</td>\n",
              "      <td>27.0</td>\n",
              "      <td>-47.0</td>\n",
              "      <td>-23.0</td>\n",
              "      <td>-7.0</td>\n",
              "      <td>7.0</td>\n",
              "      <td>-18.80</td>\n",
              "      <td>3.175</td>\n",
              "      <td>48</td>\n",
              "      <td>2473.978284</td>\n",
              "      <td>0</td>\n",
              "      <td>0.000</td>\n",
              "      <td>13</td>\n",
              "      <td>0.000</td>\n",
              "      <td>10039107.0</td>\n",
              "      <td>LessSpread</td>\n",
              "      <td>flat_growth</td>\n",
              "      <td>0.001295</td>\n",
              "      <td>mild_growth</td>\n",
              "    </tr>\n",
              "    <tr>\n",
              "      <th>799</th>\n",
              "      <td>2020-03-15</td>\n",
              "      <td>6037</td>\n",
              "      <td>Los Angeles County</td>\n",
              "      <td>-16.0</td>\n",
              "      <td>12.0</td>\n",
              "      <td>-22.0</td>\n",
              "      <td>-21.0</td>\n",
              "      <td>-9.0</td>\n",
              "      <td>6.0</td>\n",
              "      <td>-37.92</td>\n",
              "      <td>1.972</td>\n",
              "      <td>29</td>\n",
              "      <td>2473.978284</td>\n",
              "      <td>0</td>\n",
              "      <td>0.000</td>\n",
              "      <td>0</td>\n",
              "      <td>0.000</td>\n",
              "      <td>10039107.0</td>\n",
              "      <td>LessSpread</td>\n",
              "      <td>flat_growth</td>\n",
              "      <td>0.000000</td>\n",
              "      <td>flat_growth</td>\n",
              "    </tr>\n",
              "    <tr>\n",
              "      <th>844</th>\n",
              "      <td>2020-03-16</td>\n",
              "      <td>6037</td>\n",
              "      <td>Los Angeles County</td>\n",
              "      <td>-19.0</td>\n",
              "      <td>12.0</td>\n",
              "      <td>-40.0</td>\n",
              "      <td>-29.0</td>\n",
              "      <td>-22.0</td>\n",
              "      <td>11.0</td>\n",
              "      <td>-28.16</td>\n",
              "      <td>3.872</td>\n",
              "      <td>58</td>\n",
              "      <td>2473.978284</td>\n",
              "      <td>0</td>\n",
              "      <td>0.000</td>\n",
              "      <td>41</td>\n",
              "      <td>0.000</td>\n",
              "      <td>10039107.0</td>\n",
              "      <td>LessSpread</td>\n",
              "      <td>flat_growth</td>\n",
              "      <td>0.004084</td>\n",
              "      <td>mild_growth</td>\n",
              "    </tr>\n",
              "    <tr>\n",
              "      <th>917</th>\n",
              "      <td>2020-03-18</td>\n",
              "      <td>6037</td>\n",
              "      <td>Los Angeles County</td>\n",
              "      <td>-28.0</td>\n",
              "      <td>3.0</td>\n",
              "      <td>-12.0</td>\n",
              "      <td>-33.0</td>\n",
              "      <td>-33.0</td>\n",
              "      <td>16.0</td>\n",
              "      <td>-37.58</td>\n",
              "      <td>2.783</td>\n",
              "      <td>42</td>\n",
              "      <td>2473.978284</td>\n",
              "      <td>0</td>\n",
              "      <td>0.000</td>\n",
              "      <td>46</td>\n",
              "      <td>0.000</td>\n",
              "      <td>10039107.0</td>\n",
              "      <td>LessSpread</td>\n",
              "      <td>flat_growth</td>\n",
              "      <td>0.004582</td>\n",
              "      <td>mild_growth</td>\n",
              "    </tr>\n",
              "    <tr>\n",
              "      <th>999</th>\n",
              "      <td>2020-03-19</td>\n",
              "      <td>6037</td>\n",
              "      <td>Los Angeles County</td>\n",
              "      <td>-32.0</td>\n",
              "      <td>3.0</td>\n",
              "      <td>-30.0</td>\n",
              "      <td>-39.0</td>\n",
              "      <td>-35.0</td>\n",
              "      <td>18.0</td>\n",
              "      <td>-41.42</td>\n",
              "      <td>1.696</td>\n",
              "      <td>25</td>\n",
              "      <td>2473.978284</td>\n",
              "      <td>0</td>\n",
              "      <td>0.000</td>\n",
              "      <td>41</td>\n",
              "      <td>0.000</td>\n",
              "      <td>10039107.0</td>\n",
              "      <td>LessSpread</td>\n",
              "      <td>flat_growth</td>\n",
              "      <td>0.004084</td>\n",
              "      <td>mild_growth</td>\n",
              "    </tr>\n",
              "    <tr>\n",
              "      <th>1078</th>\n",
              "      <td>2020-03-21</td>\n",
              "      <td>6037</td>\n",
              "      <td>Los Angeles County</td>\n",
              "      <td>-48.0</td>\n",
              "      <td>-13.0</td>\n",
              "      <td>-28.0</td>\n",
              "      <td>-46.0</td>\n",
              "      <td>-34.0</td>\n",
              "      <td>18.0</td>\n",
              "      <td>-53.14</td>\n",
              "      <td>0.432</td>\n",
              "      <td>6</td>\n",
              "      <td>2473.978284</td>\n",
              "      <td>0</td>\n",
              "      <td>0.000</td>\n",
              "      <td>0</td>\n",
              "      <td>0.000</td>\n",
              "      <td>10039107.0</td>\n",
              "      <td>LessSpread</td>\n",
              "      <td>flat_growth</td>\n",
              "      <td>0.000000</td>\n",
              "      <td>flat_growth</td>\n",
              "    </tr>\n",
              "    <tr>\n",
              "      <th>1459</th>\n",
              "      <td>2020-03-28</td>\n",
              "      <td>6037</td>\n",
              "      <td>Los Angeles County</td>\n",
              "      <td>-50.0</td>\n",
              "      <td>-21.0</td>\n",
              "      <td>-52.0</td>\n",
              "      <td>-52.0</td>\n",
              "      <td>-39.0</td>\n",
              "      <td>20.0</td>\n",
              "      <td>-58.18</td>\n",
              "      <td>0.097</td>\n",
              "      <td>1</td>\n",
              "      <td>2473.978284</td>\n",
              "      <td>0</td>\n",
              "      <td>0.000</td>\n",
              "      <td>0</td>\n",
              "      <td>0.000</td>\n",
              "      <td>10039107.0</td>\n",
              "      <td>LessSpread</td>\n",
              "      <td>flat_growth</td>\n",
              "      <td>0.000000</td>\n",
              "      <td>flat_growth</td>\n",
              "    </tr>\n",
              "    <tr>\n",
              "      <th>1803</th>\n",
              "      <td>2020-04-04</td>\n",
              "      <td>6037</td>\n",
              "      <td>Los Angeles County</td>\n",
              "      <td>-50.0</td>\n",
              "      <td>-20.0</td>\n",
              "      <td>-54.0</td>\n",
              "      <td>-51.0</td>\n",
              "      <td>-41.0</td>\n",
              "      <td>20.0</td>\n",
              "      <td>-56.56</td>\n",
              "      <td>0.114</td>\n",
              "      <td>1</td>\n",
              "      <td>2473.978284</td>\n",
              "      <td>0</td>\n",
              "      <td>0.000</td>\n",
              "      <td>39</td>\n",
              "      <td>0.000</td>\n",
              "      <td>10039107.0</td>\n",
              "      <td>LessSpread</td>\n",
              "      <td>flat_growth</td>\n",
              "      <td>0.003885</td>\n",
              "      <td>mild_growth</td>\n",
              "    </tr>\n",
              "    <tr>\n",
              "      <th>2174</th>\n",
              "      <td>2020-04-11</td>\n",
              "      <td>6037</td>\n",
              "      <td>Los Angeles County</td>\n",
              "      <td>-51.0</td>\n",
              "      <td>-19.0</td>\n",
              "      <td>-54.0</td>\n",
              "      <td>-52.0</td>\n",
              "      <td>-43.0</td>\n",
              "      <td>20.0</td>\n",
              "      <td>-55.13</td>\n",
              "      <td>0.101</td>\n",
              "      <td>1</td>\n",
              "      <td>2473.978284</td>\n",
              "      <td>0</td>\n",
              "      <td>0.000</td>\n",
              "      <td>10</td>\n",
              "      <td>0.000</td>\n",
              "      <td>10039107.0</td>\n",
              "      <td>LessSpread</td>\n",
              "      <td>flat_growth</td>\n",
              "      <td>0.000996</td>\n",
              "      <td>mild_growth</td>\n",
              "    </tr>\n",
              "    <tr>\n",
              "      <th>6556</th>\n",
              "      <td>2020-07-03</td>\n",
              "      <td>6037</td>\n",
              "      <td>Los Angeles County</td>\n",
              "      <td>-27.0</td>\n",
              "      <td>5.0</td>\n",
              "      <td>-3.0</td>\n",
              "      <td>-40.0</td>\n",
              "      <td>-58.0</td>\n",
              "      <td>19.0</td>\n",
              "      <td>4.81</td>\n",
              "      <td>2.752</td>\n",
              "      <td>41</td>\n",
              "      <td>2473.978284</td>\n",
              "      <td>1</td>\n",
              "      <td>0.786</td>\n",
              "      <td>14</td>\n",
              "      <td>0.786</td>\n",
              "      <td>10039107.0</td>\n",
              "      <td>SuperSpread</td>\n",
              "      <td>flat_growth</td>\n",
              "      <td>0.001395</td>\n",
              "      <td>mild_growth</td>\n",
              "    </tr>\n",
              "    <tr>\n",
              "      <th>6585</th>\n",
              "      <td>2020-07-04</td>\n",
              "      <td>6037</td>\n",
              "      <td>Los Angeles County</td>\n",
              "      <td>-51.0</td>\n",
              "      <td>-9.0</td>\n",
              "      <td>-35.0</td>\n",
              "      <td>-44.0</td>\n",
              "      <td>-36.0</td>\n",
              "      <td>12.0</td>\n",
              "      <td>-24.75</td>\n",
              "      <td>1.081</td>\n",
              "      <td>16</td>\n",
              "      <td>2473.978284</td>\n",
              "      <td>1</td>\n",
              "      <td>0.786</td>\n",
              "      <td>20</td>\n",
              "      <td>0.786</td>\n",
              "      <td>10039107.0</td>\n",
              "      <td>SuperSpread</td>\n",
              "      <td>flat_growth</td>\n",
              "      <td>0.001992</td>\n",
              "      <td>mild_growth</td>\n",
              "    </tr>\n",
              "  </tbody>\n",
              "</table>\n",
              "</div>"
            ],
            "text/plain": [
              "            Date  fips_x  ... New Cases/1k population  growth_label_1k\n",
              "38    2020-03-01    6037  ...                0.000000      flat_growth\n",
              "93    2020-03-02    6037  ...                0.000000      flat_growth\n",
              "115   2020-03-03    6037  ...                0.000000      flat_growth\n",
              "196   2020-03-04    6037  ...                0.000598      mild_growth\n",
              "267   2020-03-05    6037  ...                0.000398      mild_growth\n",
              "288   2020-03-06    6037  ...                0.000199      mild_growth\n",
              "333   2020-03-07    6037  ...                0.000100      mild_growth\n",
              "414   2020-03-08    6037  ...                0.000000      flat_growth\n",
              "466   2020-03-09    6037  ...                0.000000      flat_growth\n",
              "484   2020-03-10    6037  ...                0.000598      mild_growth\n",
              "578   2020-03-11    6037  ...                0.000697      mild_growth\n",
              "608   2020-03-12    6037  ...                0.000498      mild_growth\n",
              "643   2020-03-13    6037  ...                0.000797      mild_growth\n",
              "699   2020-03-14    6037  ...                0.001295      mild_growth\n",
              "799   2020-03-15    6037  ...                0.000000      flat_growth\n",
              "844   2020-03-16    6037  ...                0.004084      mild_growth\n",
              "917   2020-03-18    6037  ...                0.004582      mild_growth\n",
              "999   2020-03-19    6037  ...                0.004084      mild_growth\n",
              "1078  2020-03-21    6037  ...                0.000000      flat_growth\n",
              "1459  2020-03-28    6037  ...                0.000000      flat_growth\n",
              "1803  2020-04-04    6037  ...                0.003885      mild_growth\n",
              "2174  2020-04-11    6037  ...                0.000996      mild_growth\n",
              "6556  2020-07-03    6037  ...                0.001395      mild_growth\n",
              "6585  2020-07-04    6037  ...                0.001992      mild_growth\n",
              "\n",
              "[24 rows x 22 columns]"
            ]
          },
          "metadata": {
            "tags": []
          },
          "execution_count": 267
        }
      ]
    },
    {
      "cell_type": "code",
      "metadata": {
        "id": "sMrLPSilpz94"
      },
      "source": [
        "#commenting this section and taking more value, otherwise neg_breaks is not working\n",
        "\n",
        "#date_list = ['2020-08-15','2020-08-14','2020-08-12','2020-08-08','2020-08-07','2020-08-06','2020-08-05','2020-08-01']\n",
        "#CA_combined_data_test_greaterthan2000 = CA_combined_data_test_greaterthan2000[CA_combined_data_test_greaterthan2000.Date.isin(date_list)]"
      ],
      "execution_count": null,
      "outputs": []
    },
    {
      "cell_type": "code",
      "metadata": {
        "id": "aY3wgtw0pz98",
        "outputId": "d12a6a05-4c70-45ab-fba9-f22490d8f0e6",
        "colab": {
          "base_uri": "https://localhost:8080/",
          "height": 733
        }
      },
      "source": [
        "CA_combined_data_test_lessthan50.head(10)"
      ],
      "execution_count": 269,
      "outputs": [
        {
          "output_type": "execute_result",
          "data": {
            "text/html": [
              "<div>\n",
              "<style scoped>\n",
              "    .dataframe tbody tr th:only-of-type {\n",
              "        vertical-align: middle;\n",
              "    }\n",
              "\n",
              "    .dataframe tbody tr th {\n",
              "        vertical-align: top;\n",
              "    }\n",
              "\n",
              "    .dataframe thead th {\n",
              "        text-align: right;\n",
              "    }\n",
              "</style>\n",
              "<table border=\"1\" class=\"dataframe\">\n",
              "  <thead>\n",
              "    <tr style=\"text-align: right;\">\n",
              "      <th></th>\n",
              "      <th>Date</th>\n",
              "      <th>fips_x</th>\n",
              "      <th>County Name</th>\n",
              "      <th>retail and recreation</th>\n",
              "      <th>grocery and pharmacy</th>\n",
              "      <th>parks</th>\n",
              "      <th>transit stations</th>\n",
              "      <th>workplaces</th>\n",
              "      <th>residential</th>\n",
              "      <th>driving</th>\n",
              "      <th>m50</th>\n",
              "      <th>m50_index</th>\n",
              "      <th>population_density</th>\n",
              "      <th>mask_rule_active</th>\n",
              "      <th>mask_wearing_percent</th>\n",
              "      <th>New cases</th>\n",
              "      <th>rolling_avg_new_cases</th>\n",
              "      <th>population</th>\n",
              "      <th>label</th>\n",
              "      <th>growth_label</th>\n",
              "      <th>New Cases/1k population</th>\n",
              "      <th>growth_label_1k</th>\n",
              "    </tr>\n",
              "  </thead>\n",
              "  <tbody>\n",
              "    <tr>\n",
              "      <th>38</th>\n",
              "      <td>2020-03-01</td>\n",
              "      <td>6037</td>\n",
              "      <td>Los Angeles County</td>\n",
              "      <td>4.0</td>\n",
              "      <td>3.0</td>\n",
              "      <td>-5.0</td>\n",
              "      <td>-3.0</td>\n",
              "      <td>1.0</td>\n",
              "      <td>0.0</td>\n",
              "      <td>-4.36</td>\n",
              "      <td>3.996</td>\n",
              "      <td>60</td>\n",
              "      <td>2473.978284</td>\n",
              "      <td>0</td>\n",
              "      <td>0.0</td>\n",
              "      <td>0</td>\n",
              "      <td>0.0</td>\n",
              "      <td>10039107.0</td>\n",
              "      <td>LessSpread</td>\n",
              "      <td>flat_growth</td>\n",
              "      <td>0.000000</td>\n",
              "      <td>flat_growth</td>\n",
              "    </tr>\n",
              "    <tr>\n",
              "      <th>93</th>\n",
              "      <td>2020-03-02</td>\n",
              "      <td>6037</td>\n",
              "      <td>Los Angeles County</td>\n",
              "      <td>5.0</td>\n",
              "      <td>5.0</td>\n",
              "      <td>8.0</td>\n",
              "      <td>1.0</td>\n",
              "      <td>4.0</td>\n",
              "      <td>-1.0</td>\n",
              "      <td>7.51</td>\n",
              "      <td>6.502</td>\n",
              "      <td>98</td>\n",
              "      <td>2473.978284</td>\n",
              "      <td>0</td>\n",
              "      <td>0.0</td>\n",
              "      <td>0</td>\n",
              "      <td>0.0</td>\n",
              "      <td>10039107.0</td>\n",
              "      <td>LessSpread</td>\n",
              "      <td>flat_growth</td>\n",
              "      <td>0.000000</td>\n",
              "      <td>flat_growth</td>\n",
              "    </tr>\n",
              "    <tr>\n",
              "      <th>115</th>\n",
              "      <td>2020-03-03</td>\n",
              "      <td>6037</td>\n",
              "      <td>Los Angeles County</td>\n",
              "      <td>8.0</td>\n",
              "      <td>7.0</td>\n",
              "      <td>32.0</td>\n",
              "      <td>2.0</td>\n",
              "      <td>3.0</td>\n",
              "      <td>-1.0</td>\n",
              "      <td>17.24</td>\n",
              "      <td>6.591</td>\n",
              "      <td>99</td>\n",
              "      <td>2473.978284</td>\n",
              "      <td>0</td>\n",
              "      <td>0.0</td>\n",
              "      <td>0</td>\n",
              "      <td>0.0</td>\n",
              "      <td>10039107.0</td>\n",
              "      <td>LessSpread</td>\n",
              "      <td>flat_growth</td>\n",
              "      <td>0.000000</td>\n",
              "      <td>flat_growth</td>\n",
              "    </tr>\n",
              "    <tr>\n",
              "      <th>196</th>\n",
              "      <td>2020-03-04</td>\n",
              "      <td>6037</td>\n",
              "      <td>Los Angeles County</td>\n",
              "      <td>4.0</td>\n",
              "      <td>6.0</td>\n",
              "      <td>9.0</td>\n",
              "      <td>-1.0</td>\n",
              "      <td>2.0</td>\n",
              "      <td>0.0</td>\n",
              "      <td>13.82</td>\n",
              "      <td>6.595</td>\n",
              "      <td>100</td>\n",
              "      <td>2473.978284</td>\n",
              "      <td>0</td>\n",
              "      <td>0.0</td>\n",
              "      <td>6</td>\n",
              "      <td>0.0</td>\n",
              "      <td>10039107.0</td>\n",
              "      <td>LessSpread</td>\n",
              "      <td>flat_growth</td>\n",
              "      <td>0.000598</td>\n",
              "      <td>mild_growth</td>\n",
              "    </tr>\n",
              "    <tr>\n",
              "      <th>267</th>\n",
              "      <td>2020-03-05</td>\n",
              "      <td>6037</td>\n",
              "      <td>Los Angeles County</td>\n",
              "      <td>4.0</td>\n",
              "      <td>7.0</td>\n",
              "      <td>9.0</td>\n",
              "      <td>0.0</td>\n",
              "      <td>2.0</td>\n",
              "      <td>0.0</td>\n",
              "      <td>22.17</td>\n",
              "      <td>7.008</td>\n",
              "      <td>106</td>\n",
              "      <td>2473.978284</td>\n",
              "      <td>0</td>\n",
              "      <td>0.0</td>\n",
              "      <td>4</td>\n",
              "      <td>0.0</td>\n",
              "      <td>10039107.0</td>\n",
              "      <td>LessSpread</td>\n",
              "      <td>flat_growth</td>\n",
              "      <td>0.000398</td>\n",
              "      <td>mild_growth</td>\n",
              "    </tr>\n",
              "    <tr>\n",
              "      <th>288</th>\n",
              "      <td>2020-03-06</td>\n",
              "      <td>6037</td>\n",
              "      <td>Los Angeles County</td>\n",
              "      <td>3.0</td>\n",
              "      <td>6.0</td>\n",
              "      <td>7.0</td>\n",
              "      <td>-2.0</td>\n",
              "      <td>2.0</td>\n",
              "      <td>0.0</td>\n",
              "      <td>35.24</td>\n",
              "      <td>7.351</td>\n",
              "      <td>111</td>\n",
              "      <td>2473.978284</td>\n",
              "      <td>0</td>\n",
              "      <td>0.0</td>\n",
              "      <td>2</td>\n",
              "      <td>0.0</td>\n",
              "      <td>10039107.0</td>\n",
              "      <td>LessSpread</td>\n",
              "      <td>flat_growth</td>\n",
              "      <td>0.000199</td>\n",
              "      <td>mild_growth</td>\n",
              "    </tr>\n",
              "    <tr>\n",
              "      <th>333</th>\n",
              "      <td>2020-03-07</td>\n",
              "      <td>6037</td>\n",
              "      <td>Los Angeles County</td>\n",
              "      <td>1.0</td>\n",
              "      <td>6.0</td>\n",
              "      <td>3.0</td>\n",
              "      <td>-4.0</td>\n",
              "      <td>2.0</td>\n",
              "      <td>0.0</td>\n",
              "      <td>26.34</td>\n",
              "      <td>6.024</td>\n",
              "      <td>91</td>\n",
              "      <td>2473.978284</td>\n",
              "      <td>0</td>\n",
              "      <td>0.0</td>\n",
              "      <td>1</td>\n",
              "      <td>0.0</td>\n",
              "      <td>10039107.0</td>\n",
              "      <td>LessSpread</td>\n",
              "      <td>flat_growth</td>\n",
              "      <td>0.000100</td>\n",
              "      <td>mild_growth</td>\n",
              "    </tr>\n",
              "    <tr>\n",
              "      <th>414</th>\n",
              "      <td>2020-03-08</td>\n",
              "      <td>6037</td>\n",
              "      <td>Los Angeles County</td>\n",
              "      <td>3.0</td>\n",
              "      <td>4.0</td>\n",
              "      <td>16.0</td>\n",
              "      <td>-4.0</td>\n",
              "      <td>1.0</td>\n",
              "      <td>0.0</td>\n",
              "      <td>0.08</td>\n",
              "      <td>4.202</td>\n",
              "      <td>63</td>\n",
              "      <td>2473.978284</td>\n",
              "      <td>0</td>\n",
              "      <td>0.0</td>\n",
              "      <td>0</td>\n",
              "      <td>0.0</td>\n",
              "      <td>10039107.0</td>\n",
              "      <td>LessSpread</td>\n",
              "      <td>flat_growth</td>\n",
              "      <td>0.000000</td>\n",
              "      <td>flat_growth</td>\n",
              "    </tr>\n",
              "    <tr>\n",
              "      <th>466</th>\n",
              "      <td>2020-03-09</td>\n",
              "      <td>6037</td>\n",
              "      <td>Los Angeles County</td>\n",
              "      <td>3.0</td>\n",
              "      <td>7.0</td>\n",
              "      <td>6.0</td>\n",
              "      <td>-4.0</td>\n",
              "      <td>3.0</td>\n",
              "      <td>0.0</td>\n",
              "      <td>3.92</td>\n",
              "      <td>6.140</td>\n",
              "      <td>93</td>\n",
              "      <td>2473.978284</td>\n",
              "      <td>0</td>\n",
              "      <td>0.0</td>\n",
              "      <td>0</td>\n",
              "      <td>0.0</td>\n",
              "      <td>10039107.0</td>\n",
              "      <td>LessSpread</td>\n",
              "      <td>flat_growth</td>\n",
              "      <td>0.000000</td>\n",
              "      <td>flat_growth</td>\n",
              "    </tr>\n",
              "    <tr>\n",
              "      <th>484</th>\n",
              "      <td>2020-03-10</td>\n",
              "      <td>6037</td>\n",
              "      <td>Los Angeles County</td>\n",
              "      <td>-3.0</td>\n",
              "      <td>3.0</td>\n",
              "      <td>-29.0</td>\n",
              "      <td>-13.0</td>\n",
              "      <td>-2.0</td>\n",
              "      <td>3.0</td>\n",
              "      <td>4.27</td>\n",
              "      <td>6.178</td>\n",
              "      <td>93</td>\n",
              "      <td>2473.978284</td>\n",
              "      <td>0</td>\n",
              "      <td>0.0</td>\n",
              "      <td>6</td>\n",
              "      <td>0.0</td>\n",
              "      <td>10039107.0</td>\n",
              "      <td>LessSpread</td>\n",
              "      <td>flat_growth</td>\n",
              "      <td>0.000598</td>\n",
              "      <td>mild_growth</td>\n",
              "    </tr>\n",
              "  </tbody>\n",
              "</table>\n",
              "</div>"
            ],
            "text/plain": [
              "           Date  fips_x  ... New Cases/1k population  growth_label_1k\n",
              "38   2020-03-01    6037  ...                0.000000      flat_growth\n",
              "93   2020-03-02    6037  ...                0.000000      flat_growth\n",
              "115  2020-03-03    6037  ...                0.000000      flat_growth\n",
              "196  2020-03-04    6037  ...                0.000598      mild_growth\n",
              "267  2020-03-05    6037  ...                0.000398      mild_growth\n",
              "288  2020-03-06    6037  ...                0.000199      mild_growth\n",
              "333  2020-03-07    6037  ...                0.000100      mild_growth\n",
              "414  2020-03-08    6037  ...                0.000000      flat_growth\n",
              "466  2020-03-09    6037  ...                0.000000      flat_growth\n",
              "484  2020-03-10    6037  ...                0.000598      mild_growth\n",
              "\n",
              "[10 rows x 22 columns]"
            ]
          },
          "metadata": {
            "tags": []
          },
          "execution_count": 269
        }
      ]
    },
    {
      "cell_type": "markdown",
      "metadata": {
        "id": "BtgSITvXpz9_"
      },
      "source": [
        "### Growth based on 'New Cases'"
      ]
    },
    {
      "cell_type": "code",
      "metadata": {
        "id": "dcuorpoupz9_",
        "outputId": "703dec29-ff42-4bf6-ada9-b49ee69da296",
        "colab": {
          "base_uri": "https://localhost:8080/",
          "height": 50
        }
      },
      "source": [
        "new_cases_10k_list_test = CA_combined_data_test_lessthan50['New cases'].values\n",
        "new_cases_10k_list_test"
      ],
      "execution_count": 270,
      "outputs": [
        {
          "output_type": "execute_result",
          "data": {
            "text/plain": [
              "array([ 0,  0,  0,  6,  4,  2,  1,  0,  0,  6,  7,  5,  8, 13,  0, 41, 46,\n",
              "       41,  0,  0, 39, 10, 14, 20])"
            ]
          },
          "metadata": {
            "tags": []
          },
          "execution_count": 270
        }
      ]
    },
    {
      "cell_type": "code",
      "metadata": {
        "id": "mkz3tAvLpz-B",
        "outputId": "2008cc4c-1553-4a79-8b5c-ce53a124670b",
        "colab": {
          "base_uri": "https://localhost:8080/",
          "height": 84
        }
      },
      "source": [
        "diffArr = np.diff(new_cases_10k_list_test)\n",
        "print(len(diffArr))\n",
        "print(diffArr)\n",
        "diffArr[0]\n",
        "\n",
        "\n",
        "## checked manually; diffArr is working perfectly and taking difference between consecutive arrays"
      ],
      "execution_count": 271,
      "outputs": [
        {
          "output_type": "stream",
          "text": [
            "23\n",
            "[  0   0   6  -2  -2  -1  -1   0   6   1  -2   3   5 -13  41   5  -5 -41\n",
            "   0  39 -29   4   6]\n"
          ],
          "name": "stdout"
        },
        {
          "output_type": "execute_result",
          "data": {
            "text/plain": [
              "0"
            ]
          },
          "metadata": {
            "tags": []
          },
          "execution_count": 271
        }
      ]
    },
    {
      "cell_type": "code",
      "metadata": {
        "id": "ZnsNlvTXpz-D",
        "outputId": "6f13c272-97aa-4af9-d460-340a5f17eda5",
        "colab": {
          "base_uri": "https://localhost:8080/",
          "height": 50
        }
      },
      "source": [
        "growth_values =[]\n",
        "growth_values.append(0.0) # making first value as 0, as np.diff leaves first values as NA\n",
        "print('growth_values : ',len(growth_values))\n",
        "growth_values.extend(diffArr)\n",
        "print('growth_values : ',len(growth_values))"
      ],
      "execution_count": 272,
      "outputs": [
        {
          "output_type": "stream",
          "text": [
            "growth_values :  1\n",
            "growth_values :  24\n"
          ],
          "name": "stdout"
        }
      ]
    },
    {
      "cell_type": "code",
      "metadata": {
        "id": "zm9nhAGlpz-F",
        "outputId": "bc1772bb-1338-48be-8a8b-adadae2876d7",
        "colab": {
          "base_uri": "https://localhost:8080/",
          "height": 101
        }
      },
      "source": [
        "stdDev = np.std(diffArr)\n",
        "variance = np.var(diffArr)\n",
        "mean = np.mean(diffArr)\n",
        "min = np.min(diffArr)\n",
        "max = np.max(diffArr)\n",
        "\n",
        "\n",
        "print(\"min \",min)\n",
        "print(\"max \",max)\n",
        "\n",
        "print(\"mean \",mean)\n",
        "print(\"std. deviation \",stdDev)\n",
        "print(\"variance \",variance)"
      ],
      "execution_count": 273,
      "outputs": [
        {
          "output_type": "stream",
          "text": [
            "min  -41\n",
            "max  41\n",
            "mean  0.8695652173913043\n",
            "std. deviation  16.28363902237347\n",
            "variance  265.1568998109641\n"
          ],
          "name": "stdout"
        }
      ]
    },
    {
      "cell_type": "markdown",
      "metadata": {
        "id": "v2aUeuEMpz-G"
      },
      "source": [
        "### Getting positive cases"
      ]
    },
    {
      "cell_type": "code",
      "metadata": {
        "id": "4s9qFGn2pz-H",
        "outputId": "c417a877-e06c-47f3-a258-872b0f75bbae",
        "colab": {
          "base_uri": "https://localhost:8080/",
          "height": 134
        }
      },
      "source": [
        "print('length diffArr: ',len(diffArr))\n",
        "\n",
        "non_zero_pos_diff = []\n",
        "\n",
        "for i in diffArr:\n",
        "  if i > 0:\n",
        "    non_zero_pos_diff.append(i)\n",
        "\n",
        "print('non_zero_pos_diff length: ',len(non_zero_pos_diff))\n",
        "\n",
        "\n",
        "stdDev = np.std(non_zero_pos_diff)\n",
        "variance = np.var(non_zero_pos_diff)\n",
        "mean = np.mean(non_zero_pos_diff)\n",
        "min = np.min(non_zero_pos_diff)\n",
        "max = np.max(non_zero_pos_diff)\n",
        "\n",
        "\n",
        "print(\"min \",min)\n",
        "print(\"max \",max)\n",
        "\n",
        "print(\"mean \",mean)\n",
        "print(\"std. deviation \",stdDev)\n",
        "print(\"variance \",variance)\n",
        "#diff_array =[   44   675    23  -538   889   997 -2370]"
      ],
      "execution_count": 274,
      "outputs": [
        {
          "output_type": "stream",
          "text": [
            "length diffArr:  23\n",
            "non_zero_pos_diff length:  10\n",
            "min  1\n",
            "max  41\n",
            "mean  11.6\n",
            "std. deviation  14.284257068535275\n",
            "variance  204.03999999999996\n"
          ],
          "name": "stdout"
        }
      ]
    },
    {
      "cell_type": "markdown",
      "metadata": {
        "id": "Jei-IW_Gpz-K"
      },
      "source": [
        "### Getting negative cases\n"
      ]
    },
    {
      "cell_type": "code",
      "metadata": {
        "id": "_-ldYMDhpz-K",
        "outputId": "17016c77-fd9f-4be8-f178-ebafe5945af8",
        "colab": {
          "base_uri": "https://localhost:8080/",
          "height": 118
        }
      },
      "source": [
        "non_zero_neg_diff = []\n",
        "\n",
        "for i in diffArr:\n",
        "  if i < 0:\n",
        "    non_zero_neg_diff.append(i)\n",
        "print(\"non_zero_neg_diff length : \",len(non_zero_neg_diff))\n",
        "\n",
        "stdDev = np.std(non_zero_neg_diff)\n",
        "variance = np.var(non_zero_neg_diff)\n",
        "mean = np.mean(non_zero_neg_diff)\n",
        "min = np.min(non_zero_neg_diff)\n",
        "max = np.max(non_zero_neg_diff)\n",
        "\n",
        "\n",
        "print(\"min \",min)\n",
        "print(\"max \",max)\n",
        "\n",
        "print(\"mean \",mean)\n",
        "print(\"std. deviation \",stdDev)\n",
        "print(\"variance \",variance)\n",
        "\n",
        "#diff_array =[   44   675    23  -538   889   997 -2370]"
      ],
      "execution_count": 275,
      "outputs": [
        {
          "output_type": "stream",
          "text": [
            "non_zero_neg_diff length :  9\n",
            "min  -41\n",
            "max  -1\n",
            "mean  -10.666666666666666\n",
            "std. deviation  13.767917618708921\n",
            "variance  189.55555555555554\n"
          ],
          "name": "stdout"
        }
      ]
    },
    {
      "cell_type": "code",
      "metadata": {
        "id": "dN7Nm_BRpz-L",
        "outputId": "ec87a0f7-b5fa-4fea-e286-2a502339b84c",
        "colab": {
          "base_uri": "https://localhost:8080/",
          "height": 417
        }
      },
      "source": [
        "CA_combined_data_test_lessthan50.head()"
      ],
      "execution_count": 276,
      "outputs": [
        {
          "output_type": "execute_result",
          "data": {
            "text/html": [
              "<div>\n",
              "<style scoped>\n",
              "    .dataframe tbody tr th:only-of-type {\n",
              "        vertical-align: middle;\n",
              "    }\n",
              "\n",
              "    .dataframe tbody tr th {\n",
              "        vertical-align: top;\n",
              "    }\n",
              "\n",
              "    .dataframe thead th {\n",
              "        text-align: right;\n",
              "    }\n",
              "</style>\n",
              "<table border=\"1\" class=\"dataframe\">\n",
              "  <thead>\n",
              "    <tr style=\"text-align: right;\">\n",
              "      <th></th>\n",
              "      <th>Date</th>\n",
              "      <th>fips_x</th>\n",
              "      <th>County Name</th>\n",
              "      <th>retail and recreation</th>\n",
              "      <th>grocery and pharmacy</th>\n",
              "      <th>parks</th>\n",
              "      <th>transit stations</th>\n",
              "      <th>workplaces</th>\n",
              "      <th>residential</th>\n",
              "      <th>driving</th>\n",
              "      <th>m50</th>\n",
              "      <th>m50_index</th>\n",
              "      <th>population_density</th>\n",
              "      <th>mask_rule_active</th>\n",
              "      <th>mask_wearing_percent</th>\n",
              "      <th>New cases</th>\n",
              "      <th>rolling_avg_new_cases</th>\n",
              "      <th>population</th>\n",
              "      <th>label</th>\n",
              "      <th>growth_label</th>\n",
              "      <th>New Cases/1k population</th>\n",
              "      <th>growth_label_1k</th>\n",
              "    </tr>\n",
              "  </thead>\n",
              "  <tbody>\n",
              "    <tr>\n",
              "      <th>38</th>\n",
              "      <td>2020-03-01</td>\n",
              "      <td>6037</td>\n",
              "      <td>Los Angeles County</td>\n",
              "      <td>4.0</td>\n",
              "      <td>3.0</td>\n",
              "      <td>-5.0</td>\n",
              "      <td>-3.0</td>\n",
              "      <td>1.0</td>\n",
              "      <td>0.0</td>\n",
              "      <td>-4.36</td>\n",
              "      <td>3.996</td>\n",
              "      <td>60</td>\n",
              "      <td>2473.978284</td>\n",
              "      <td>0</td>\n",
              "      <td>0.0</td>\n",
              "      <td>0</td>\n",
              "      <td>0.0</td>\n",
              "      <td>10039107.0</td>\n",
              "      <td>LessSpread</td>\n",
              "      <td>flat_growth</td>\n",
              "      <td>0.000000</td>\n",
              "      <td>flat_growth</td>\n",
              "    </tr>\n",
              "    <tr>\n",
              "      <th>93</th>\n",
              "      <td>2020-03-02</td>\n",
              "      <td>6037</td>\n",
              "      <td>Los Angeles County</td>\n",
              "      <td>5.0</td>\n",
              "      <td>5.0</td>\n",
              "      <td>8.0</td>\n",
              "      <td>1.0</td>\n",
              "      <td>4.0</td>\n",
              "      <td>-1.0</td>\n",
              "      <td>7.51</td>\n",
              "      <td>6.502</td>\n",
              "      <td>98</td>\n",
              "      <td>2473.978284</td>\n",
              "      <td>0</td>\n",
              "      <td>0.0</td>\n",
              "      <td>0</td>\n",
              "      <td>0.0</td>\n",
              "      <td>10039107.0</td>\n",
              "      <td>LessSpread</td>\n",
              "      <td>flat_growth</td>\n",
              "      <td>0.000000</td>\n",
              "      <td>flat_growth</td>\n",
              "    </tr>\n",
              "    <tr>\n",
              "      <th>115</th>\n",
              "      <td>2020-03-03</td>\n",
              "      <td>6037</td>\n",
              "      <td>Los Angeles County</td>\n",
              "      <td>8.0</td>\n",
              "      <td>7.0</td>\n",
              "      <td>32.0</td>\n",
              "      <td>2.0</td>\n",
              "      <td>3.0</td>\n",
              "      <td>-1.0</td>\n",
              "      <td>17.24</td>\n",
              "      <td>6.591</td>\n",
              "      <td>99</td>\n",
              "      <td>2473.978284</td>\n",
              "      <td>0</td>\n",
              "      <td>0.0</td>\n",
              "      <td>0</td>\n",
              "      <td>0.0</td>\n",
              "      <td>10039107.0</td>\n",
              "      <td>LessSpread</td>\n",
              "      <td>flat_growth</td>\n",
              "      <td>0.000000</td>\n",
              "      <td>flat_growth</td>\n",
              "    </tr>\n",
              "    <tr>\n",
              "      <th>196</th>\n",
              "      <td>2020-03-04</td>\n",
              "      <td>6037</td>\n",
              "      <td>Los Angeles County</td>\n",
              "      <td>4.0</td>\n",
              "      <td>6.0</td>\n",
              "      <td>9.0</td>\n",
              "      <td>-1.0</td>\n",
              "      <td>2.0</td>\n",
              "      <td>0.0</td>\n",
              "      <td>13.82</td>\n",
              "      <td>6.595</td>\n",
              "      <td>100</td>\n",
              "      <td>2473.978284</td>\n",
              "      <td>0</td>\n",
              "      <td>0.0</td>\n",
              "      <td>6</td>\n",
              "      <td>0.0</td>\n",
              "      <td>10039107.0</td>\n",
              "      <td>LessSpread</td>\n",
              "      <td>flat_growth</td>\n",
              "      <td>0.000598</td>\n",
              "      <td>mild_growth</td>\n",
              "    </tr>\n",
              "    <tr>\n",
              "      <th>267</th>\n",
              "      <td>2020-03-05</td>\n",
              "      <td>6037</td>\n",
              "      <td>Los Angeles County</td>\n",
              "      <td>4.0</td>\n",
              "      <td>7.0</td>\n",
              "      <td>9.0</td>\n",
              "      <td>0.0</td>\n",
              "      <td>2.0</td>\n",
              "      <td>0.0</td>\n",
              "      <td>22.17</td>\n",
              "      <td>7.008</td>\n",
              "      <td>106</td>\n",
              "      <td>2473.978284</td>\n",
              "      <td>0</td>\n",
              "      <td>0.0</td>\n",
              "      <td>4</td>\n",
              "      <td>0.0</td>\n",
              "      <td>10039107.0</td>\n",
              "      <td>LessSpread</td>\n",
              "      <td>flat_growth</td>\n",
              "      <td>0.000398</td>\n",
              "      <td>mild_growth</td>\n",
              "    </tr>\n",
              "  </tbody>\n",
              "</table>\n",
              "</div>"
            ],
            "text/plain": [
              "           Date  fips_x  ... New Cases/1k population  growth_label_1k\n",
              "38   2020-03-01    6037  ...                0.000000      flat_growth\n",
              "93   2020-03-02    6037  ...                0.000000      flat_growth\n",
              "115  2020-03-03    6037  ...                0.000000      flat_growth\n",
              "196  2020-03-04    6037  ...                0.000598      mild_growth\n",
              "267  2020-03-05    6037  ...                0.000398      mild_growth\n",
              "\n",
              "[5 rows x 22 columns]"
            ]
          },
          "metadata": {
            "tags": []
          },
          "execution_count": 276
        }
      ]
    },
    {
      "cell_type": "markdown",
      "metadata": {
        "id": "l3uUXlcbpz-N"
      },
      "source": [
        "### Applying natural breaks (Getting error here for neg_breaks; need more neg values)"
      ]
    },
    {
      "cell_type": "code",
      "metadata": {
        "id": "96I9HJpcpz-N",
        "outputId": "49a81f17-2d72-40c8-dd7e-a554b6b9bb99",
        "colab": {
          "base_uri": "https://localhost:8080/",
          "height": 84
        }
      },
      "source": [
        "pos_breaks = jenkspy.jenks_breaks(non_zero_pos_diff, nb_class=2)\n",
        "print(pos_breaks)\n",
        "\n",
        "### getting error here: \"ValueError: Number of class have to be an integer greater than 2 and smaller than the number of values to use\" \n",
        "neg_breaks = jenkspy.jenks_breaks(non_zero_neg_diff, nb_class=2)\n",
        "print(neg_breaks)\n",
        "\n",
        "print(' ****** breaks *******')\n",
        "breaks = pos_breaks + neg_breaks\n",
        "breaks.sort()\n",
        "breaks"
      ],
      "execution_count": 277,
      "outputs": [
        {
          "output_type": "stream",
          "text": [
            "[1.0, 6.0, 41.0]\n",
            "[-41.0, -29.0, -1.0]\n",
            " ****** breaks *******\n"
          ],
          "name": "stdout"
        },
        {
          "output_type": "execute_result",
          "data": {
            "text/plain": [
              "[-41.0, -29.0, -1.0, 1.0, 6.0, 41.0]"
            ]
          },
          "metadata": {
            "tags": []
          },
          "execution_count": 277
        }
      ]
    },
    {
      "cell_type": "markdown",
      "metadata": {
        "id": "ZnkpIwe_pz-O"
      },
      "source": [
        "### New Labeling"
      ]
    },
    {
      "cell_type": "code",
      "metadata": {
        "id": "eta3NoQ-pz-P"
      },
      "source": [
        "#[5.2680092775606036e-05, 0.5928496690142417, 3.960127989407119]\n",
        "#[-3.8230281887128026, -0.5659584931410302, -8.310897482368892e-06]\n",
        "\n",
        "#[23.0, 2200.0, 5071.0]\n",
        "#[-3004.0, -1379.0, -18.0]\n",
        "def determine_growth_label_test50(x):\n",
        "  if x >= -0.00000831 and x <= 0.0000526:\n",
        "    return 'flat_growth'\n",
        "  if x > 0.0000526 and x <= 0.59285:\n",
        "    return 'mild_growth'\n",
        "  if x > 0.59285 and x <= 3.96013:\n",
        "    return 'drastic_growth'\n",
        "  if x >= -0.56595  and x <= -0.00000831:\n",
        "    return 'mild_decrement'\n",
        "  if x >= -3.96013 and x < -0.56595:\n",
        "    return 'drastic_decrement'"
      ],
      "execution_count": null,
      "outputs": []
    },
    {
      "cell_type": "code",
      "metadata": {
        "id": "z3GqUALNpz-Q",
        "outputId": "642d0b9d-fb73-44c0-fda0-e42697a2b0be",
        "colab": {
          "base_uri": "https://localhost:8080/",
          "height": 303
        }
      },
      "source": [
        "CA_combined_data_test_lessthan50['growth_label_test'] = CA_combined_data_test_lessthan50['New cases'].apply(lambda x: determine_growth_label_test50(x) )\n",
        "CA_combined_data_test_lessthan50.head(4)"
      ],
      "execution_count": null,
      "outputs": [
        {
          "output_type": "execute_result",
          "data": {
            "text/html": [
              "<div>\n",
              "<style scoped>\n",
              "    .dataframe tbody tr th:only-of-type {\n",
              "        vertical-align: middle;\n",
              "    }\n",
              "\n",
              "    .dataframe tbody tr th {\n",
              "        vertical-align: top;\n",
              "    }\n",
              "\n",
              "    .dataframe thead th {\n",
              "        text-align: right;\n",
              "    }\n",
              "</style>\n",
              "<table border=\"1\" class=\"dataframe\">\n",
              "  <thead>\n",
              "    <tr style=\"text-align: right;\">\n",
              "      <th></th>\n",
              "      <th>Date</th>\n",
              "      <th>fips_x</th>\n",
              "      <th>County Name</th>\n",
              "      <th>retail and recreation</th>\n",
              "      <th>grocery and pharmacy</th>\n",
              "      <th>parks</th>\n",
              "      <th>transit stations</th>\n",
              "      <th>workplaces</th>\n",
              "      <th>residential</th>\n",
              "      <th>driving</th>\n",
              "      <th>m50</th>\n",
              "      <th>m50_index</th>\n",
              "      <th>population_density</th>\n",
              "      <th>mask_rule_active</th>\n",
              "      <th>mask_wearing_percent</th>\n",
              "      <th>New cases</th>\n",
              "      <th>rolling_avg_new_cases</th>\n",
              "      <th>population</th>\n",
              "      <th>label</th>\n",
              "      <th>growth_label</th>\n",
              "      <th>New Cases/1k population</th>\n",
              "      <th>growth_label_1k</th>\n",
              "    </tr>\n",
              "  </thead>\n",
              "  <tbody>\n",
              "    <tr>\n",
              "      <th>0</th>\n",
              "      <td>2020-03-01</td>\n",
              "      <td>6001</td>\n",
              "      <td>Alameda County</td>\n",
              "      <td>6.0</td>\n",
              "      <td>9.0</td>\n",
              "      <td>15.0</td>\n",
              "      <td>1.0</td>\n",
              "      <td>4.0</td>\n",
              "      <td>0.0</td>\n",
              "      <td>-7.65</td>\n",
              "      <td>3.684</td>\n",
              "      <td>58</td>\n",
              "      <td>2261.547725</td>\n",
              "      <td>0</td>\n",
              "      <td>0.0</td>\n",
              "      <td>0</td>\n",
              "      <td>0.0</td>\n",
              "      <td>1671329.0</td>\n",
              "      <td>LessSpread</td>\n",
              "      <td>flat_growth</td>\n",
              "      <td>0.0</td>\n",
              "      <td>flat_growth</td>\n",
              "    </tr>\n",
              "    <tr>\n",
              "      <th>1</th>\n",
              "      <td>2020-03-01</td>\n",
              "      <td>6067</td>\n",
              "      <td>Sacramento County</td>\n",
              "      <td>11.0</td>\n",
              "      <td>4.0</td>\n",
              "      <td>26.0</td>\n",
              "      <td>1.0</td>\n",
              "      <td>2.0</td>\n",
              "      <td>-1.0</td>\n",
              "      <td>-4.63</td>\n",
              "      <td>3.773</td>\n",
              "      <td>53</td>\n",
              "      <td>1608.950489</td>\n",
              "      <td>0</td>\n",
              "      <td>0.0</td>\n",
              "      <td>0</td>\n",
              "      <td>0.0</td>\n",
              "      <td>1552058.0</td>\n",
              "      <td>LessSpread</td>\n",
              "      <td>flat_growth</td>\n",
              "      <td>0.0</td>\n",
              "      <td>flat_growth</td>\n",
              "    </tr>\n",
              "    <tr>\n",
              "      <th>2</th>\n",
              "      <td>2020-03-01</td>\n",
              "      <td>6069</td>\n",
              "      <td>San Benito County</td>\n",
              "      <td>2.0</td>\n",
              "      <td>-1.0</td>\n",
              "      <td>-7.0</td>\n",
              "      <td>0.0</td>\n",
              "      <td>0.0</td>\n",
              "      <td>0.0</td>\n",
              "      <td>10.40</td>\n",
              "      <td>3.876</td>\n",
              "      <td>33</td>\n",
              "      <td>45.227585</td>\n",
              "      <td>0</td>\n",
              "      <td>0.0</td>\n",
              "      <td>0</td>\n",
              "      <td>0.0</td>\n",
              "      <td>62808.0</td>\n",
              "      <td>LessSpread</td>\n",
              "      <td>flat_growth</td>\n",
              "      <td>0.0</td>\n",
              "      <td>flat_growth</td>\n",
              "    </tr>\n",
              "    <tr>\n",
              "      <th>3</th>\n",
              "      <td>2020-03-01</td>\n",
              "      <td>6071</td>\n",
              "      <td>San Bernardino County</td>\n",
              "      <td>5.0</td>\n",
              "      <td>-2.0</td>\n",
              "      <td>-22.0</td>\n",
              "      <td>2.0</td>\n",
              "      <td>-1.0</td>\n",
              "      <td>0.0</td>\n",
              "      <td>10.34</td>\n",
              "      <td>4.508</td>\n",
              "      <td>57</td>\n",
              "      <td>108.694796</td>\n",
              "      <td>0</td>\n",
              "      <td>0.0</td>\n",
              "      <td>0</td>\n",
              "      <td>0.0</td>\n",
              "      <td>2180085.0</td>\n",
              "      <td>LessSpread</td>\n",
              "      <td>flat_growth</td>\n",
              "      <td>0.0</td>\n",
              "      <td>flat_growth</td>\n",
              "    </tr>\n",
              "  </tbody>\n",
              "</table>\n",
              "</div>"
            ],
            "text/plain": [
              "         Date  fips_x  ... New Cases/1k population  growth_label_1k\n",
              "0  2020-03-01    6001  ...                     0.0      flat_growth\n",
              "1  2020-03-01    6067  ...                     0.0      flat_growth\n",
              "2  2020-03-01    6069  ...                     0.0      flat_growth\n",
              "3  2020-03-01    6071  ...                     0.0      flat_growth\n",
              "\n",
              "[4 rows x 22 columns]"
            ]
          },
          "metadata": {
            "tags": []
          },
          "execution_count": 212
        }
      ]
    },
    {
      "cell_type": "markdown",
      "metadata": {
        "id": "3V8CDuwFpz-S"
      },
      "source": [
        "### Export Combined labeled Data"
      ]
    },
    {
      "cell_type": "code",
      "metadata": {
        "id": "weUhYNlbpz-S"
      },
      "source": [
        "CA_combined_data_test_lessthan50_growth0 = CA_combined_data_test_lessthan50[CA_combined_data_test_lessthan50['growth_label'] == 'drastic_decrement']\n",
        "CA_combined_data_test_lessthan50_growth1 = CA_combined_data_test_lessthan50[CA_combined_data_test_lessthan50['growth_label'] == 'drastic_growth']\n",
        "CA_combined_data_test_lessthan50_growth2 = CA_combined_data_test_lessthan50[CA_combined_data_test_lessthan50['growth_label'] == 'flat_growth']\n",
        "CA_combined_data_test_lessthan50_growth3 = CA_combined_data_test_lessthan50[CA_combined_data_test_lessthan50['growth_label'] == 'mild_decrement']\n",
        "CA_combined_data_test_lessthan50_growth4 = CA_combined_data_test_lessthan50[CA_combined_data_test_lessthan50['growth_label'] == 'mild_growth']\n",
        "\n",
        "print(CA_combined_data_test_lessthan50_growth0.shape)\n",
        "print(CA_combined_data_test_lessthan50_growth1.shape)\n",
        "print(CA_combined_data_test_lessthan50_growth2.shape)\n",
        "print(CA_combined_data_test_lessthan50_growth3.shape)\n",
        "print(CA_combined_data_test_lessthan50_growth4.shape)"
      ],
      "execution_count": null,
      "outputs": []
    },
    {
      "cell_type": "markdown",
      "metadata": {
        "id": "tjzZ215OtaIW"
      },
      "source": [
        "# unused code\n"
      ]
    },
    {
      "cell_type": "code",
      "metadata": {
        "id": "56wE2giGtZGI"
      },
      "source": [
        "average_newCases_df2[average_newCases_df2['County Name'] != 'Queens County']"
      ],
      "execution_count": null,
      "outputs": []
    },
    {
      "cell_type": "code",
      "metadata": {
        "id": "7WVvMHKojnwa"
      },
      "source": [
        "average_newCases_df2.groupby(by=['County Name', 'fips_x','startDate','endDate']).sum()"
      ],
      "execution_count": null,
      "outputs": []
    },
    {
      "cell_type": "code",
      "metadata": {
        "id": "z0wvGGeQGSn6"
      },
      "source": [
        "week_df.head()"
      ],
      "execution_count": null,
      "outputs": []
    },
    {
      "cell_type": "code",
      "metadata": {
        "id": "4nEdqE6wCkIH"
      },
      "source": [
        "CA_combined_data.dtypes"
      ],
      "execution_count": null,
      "outputs": []
    },
    {
      "cell_type": "code",
      "metadata": {
        "id": "0T7aYEoAB4RX"
      },
      "source": [
        "start_date_df = (\n",
        "    CA_combined_data\n",
        "    .merge(week_df, left_on=['Date'],right_on=['startDate'], how='inner')\n",
        "    .pipe(lambda x: x.assign(date=x.Date))\n",
        "    .rename(columns={\"starting_rolling_avg_new_cases\": \"rolling_avg_new_cases\"})\n",
        "    .reset_index(drop=True)\n",
        "\n",
        "    [['Date','fips_x','County Name','retail and recreation','grocery and pharmacy','parks','transit stations','workplaces','residential','driving','m50','m50_index','population_density','mask_rule_active','mask_wearing_percent','New cases','startDate','WeekNumber','rolling_avg_new_cases']]\n",
        "    .pivot_table(values='rolling_avg_new_cases', columns='WeekNumber', index='County Name', aggfunc='sum')\n",
        "    .rename_axis(None, axis=1)\n",
        "    .reset_index()\n",
        ")\n",
        "\n",
        "start_date_df"
      ],
      "execution_count": null,
      "outputs": []
    },
    {
      "cell_type": "code",
      "metadata": {
        "id": "rGUhrht6CdbZ"
      },
      "source": [
        "end_date_df = (\n",
        "    CA_combined_data\n",
        "    .merge(week_df, on='Date', how='inner')\n",
        "    .pipe(lambda x: x.assign(date=x.Date))\n",
        "    .rename(columns={\"Confirmed\": \"end_date_Confirmed\"})\n",
        "    .reset_index(drop=True)\n",
        "\n",
        "    [['County Name', 'fips_x', 'end_date_Confirmed','endDate','WeekNumber']]\n",
        "    .pivot_table(values='end_date_Confirmed', columns='WeekNumber', index='County Name', aggfunc='sum')\n",
        "    .rename_axis(None, axis=1)\n",
        "    .reset_index()\n",
        ")"
      ],
      "execution_count": null,
      "outputs": []
    }
  ]
}