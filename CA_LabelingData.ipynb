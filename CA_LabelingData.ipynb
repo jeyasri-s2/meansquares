{
  "nbformat": 4,
  "nbformat_minor": 0,
  "metadata": {
    "colab": {
      "name": "CA-LabelingData.ipynb",
      "provenance": [],
      "collapsed_sections": [],
      "toc_visible": true
    },
    "kernelspec": {
      "name": "python3",
      "display_name": "Python 3"
    }
  },
  "cells": [
    {
      "cell_type": "markdown",
      "metadata": {
        "id": "qMAquoew3eJg",
        "colab_type": "text"
      },
      "source": [
        "# Workflow\n",
        "\n",
        "This colab aims in labeling the CA data for super spread week, safe week and improvement week as per the 'number of cases' increasing or decreasing every week.\n",
        "\n",
        "Idea: \n",
        "* compute 7 -day moving average\n",
        "* 14 days data compare with next 14 days rolling window\n",
        "* split the % as buckets \n",
        "* label the data as per bucket"
      ]
    },
    {
      "cell_type": "code",
      "metadata": {
        "id": "_UPGHLrf3SHf",
        "colab_type": "code",
        "colab": {
          "base_uri": "https://localhost:8080/",
          "height": 54
        },
        "outputId": "c76c6ca0-be45-4b53-a36f-3c42199a2cb0"
      },
      "source": [
        "from google.colab import drive\n",
        "drive.mount('/content/drive')"
      ],
      "execution_count": 9,
      "outputs": [
        {
          "output_type": "stream",
          "text": [
            "Drive already mounted at /content/drive; to attempt to forcibly remount, call drive.mount(\"/content/drive\", force_remount=True).\n"
          ],
          "name": "stdout"
        }
      ]
    },
    {
      "cell_type": "code",
      "metadata": {
        "id": "Mi5n0Qe14UFG",
        "colab_type": "code",
        "colab": {}
      },
      "source": [
        "import pandas as pd\n",
        "\n",
        "from tqdm import tqdm\n",
        "import seaborn as sns\n",
        "import numpy as np\n",
        "import matplotlib.pyplot as plt\n",
        "import os\n",
        "from pandas import Series, datetime\n",
        "from pandas.plotting import scatter_matrix, autocorrelation_plot\n",
        "from sklearn.preprocessing import StandardScaler, RobustScaler\n",
        "from sklearn.model_selection import train_test_split, KFold, cross_val_score, GridSearchCV, TimeSeriesSplit\n",
        "from sklearn import metrics\n",
        "from sklearn.metrics import classification_report, confusion_matrix, accuracy_score, mean_squared_error\n",
        "from sklearn.pipeline import Pipeline\n",
        "from sklearn.linear_model import LogisticRegression\n",
        "from sklearn.tree import DecisionTreeClassifier\n",
        "from sklearn.neighbors import KNeighborsClassifier\n",
        "from sklearn.discriminant_analysis import LinearDiscriminantAnalysis\n",
        "from sklearn.naive_bayes import GaussianNB\n",
        "from sklearn.cluster import KMeans\n",
        "from sklearn.svm import SVC\n",
        "from sklearn.ensemble import AdaBoostClassifier, GradientBoostingClassifier, RandomForestClassifier, ExtraTreesClassifier\n",
        "from sklearn.metrics import roc_curve, auc\n",
        "import random\n",
        "from statsmodels.graphics.tsaplots import plot_acf, plot_pacf\n",
        "from statsmodels.tsa.arima_model import ARIMA\n",
        "from xgboost import XGBClassifier\n",
        "from sklearn.mixture import GaussianMixture"
      ],
      "execution_count": 10,
      "outputs": []
    },
    {
      "cell_type": "code",
      "metadata": {
        "id": "BPu9_0-04dxZ",
        "colab_type": "code",
        "colab": {}
      },
      "source": [
        "os.environ[\"TF_CPP_MIN_LOG_LEVEL\"]=\"2\"\n",
        "import warnings; warnings.simplefilter('ignore')\n"
      ],
      "execution_count": 11,
      "outputs": []
    },
    {
      "cell_type": "code",
      "metadata": {
        "id": "umC6l9Q04m-0",
        "colab_type": "code",
        "colab": {
          "base_uri": "https://localhost:8080/",
          "height": 85
        },
        "outputId": "6b1be2ea-7d77-48cd-8c49-d54d041ec0f6"
      },
      "source": [
        "!ls  '/content/drive/Shared drives/CMPE 295- Master Project/Covid19-data/'"
      ],
      "execution_count": 12,
      "outputs": [
        {
          "output_type": "stream",
          "text": [
            "CA_Covid-19.csv     Newyork_combinedAug22.csv  NY-CovidAug22.csv\n",
            "CA-CovidAug22.csv   Newyork_combined.csv       queens_all_combined.csv\n",
            "mask_rule.csv\t    NY_Covid-19.csv\t       queens_all_filtered.csv\n",
            "mask_rule_data.csv  NY-CovidAug21.csv\t       Queens_county.csv\n"
          ],
          "name": "stdout"
        }
      ]
    },
    {
      "cell_type": "markdown",
      "metadata": {
        "id": "tRs8xkjX433D",
        "colab_type": "text"
      },
      "source": [
        "# Loading NY data"
      ]
    },
    {
      "cell_type": "code",
      "metadata": {
        "id": "9uArhfbu43lE",
        "colab_type": "code",
        "colab": {
          "base_uri": "https://localhost:8080/",
          "height": 204
        },
        "outputId": "6af68b65-f038-4f15-ea48-d2e292c74773"
      },
      "source": [
        "NY_combined_data = pd.read_csv('/content/drive/Shared drives/CMPE 295- Master Project/Covid19-data/CA-CovidAug22.csv',low_memory=False)\n",
        "NY_combined_data.head()"
      ],
      "execution_count": 13,
      "outputs": [
        {
          "output_type": "execute_result",
          "data": {
            "text/html": [
              "<div>\n",
              "<style scoped>\n",
              "    .dataframe tbody tr th:only-of-type {\n",
              "        vertical-align: middle;\n",
              "    }\n",
              "\n",
              "    .dataframe tbody tr th {\n",
              "        vertical-align: top;\n",
              "    }\n",
              "\n",
              "    .dataframe thead th {\n",
              "        text-align: right;\n",
              "    }\n",
              "</style>\n",
              "<table border=\"1\" class=\"dataframe\">\n",
              "  <thead>\n",
              "    <tr style=\"text-align: right;\">\n",
              "      <th></th>\n",
              "      <th>Date</th>\n",
              "      <th>Province_State</th>\n",
              "      <th>FIPS</th>\n",
              "      <th>Confirmed</th>\n",
              "      <th>Deaths</th>\n",
              "      <th>New cases</th>\n",
              "      <th>New deaths</th>\n",
              "    </tr>\n",
              "  </thead>\n",
              "  <tbody>\n",
              "    <tr>\n",
              "      <th>0</th>\n",
              "      <td>2020-01-22</td>\n",
              "      <td>California</td>\n",
              "      <td>6001.0</td>\n",
              "      <td>0</td>\n",
              "      <td>0</td>\n",
              "      <td>0</td>\n",
              "      <td>0</td>\n",
              "    </tr>\n",
              "    <tr>\n",
              "      <th>1</th>\n",
              "      <td>2020-01-23</td>\n",
              "      <td>California</td>\n",
              "      <td>6001.0</td>\n",
              "      <td>0</td>\n",
              "      <td>0</td>\n",
              "      <td>0</td>\n",
              "      <td>0</td>\n",
              "    </tr>\n",
              "    <tr>\n",
              "      <th>2</th>\n",
              "      <td>2020-01-24</td>\n",
              "      <td>California</td>\n",
              "      <td>6001.0</td>\n",
              "      <td>0</td>\n",
              "      <td>0</td>\n",
              "      <td>0</td>\n",
              "      <td>0</td>\n",
              "    </tr>\n",
              "    <tr>\n",
              "      <th>3</th>\n",
              "      <td>2020-01-25</td>\n",
              "      <td>California</td>\n",
              "      <td>6001.0</td>\n",
              "      <td>0</td>\n",
              "      <td>0</td>\n",
              "      <td>0</td>\n",
              "      <td>0</td>\n",
              "    </tr>\n",
              "    <tr>\n",
              "      <th>4</th>\n",
              "      <td>2020-01-26</td>\n",
              "      <td>California</td>\n",
              "      <td>6001.0</td>\n",
              "      <td>0</td>\n",
              "      <td>0</td>\n",
              "      <td>0</td>\n",
              "      <td>0</td>\n",
              "    </tr>\n",
              "  </tbody>\n",
              "</table>\n",
              "</div>"
            ],
            "text/plain": [
              "         Date Province_State    FIPS  Confirmed  Deaths  New cases  New deaths\n",
              "0  2020-01-22     California  6001.0          0       0          0           0\n",
              "1  2020-01-23     California  6001.0          0       0          0           0\n",
              "2  2020-01-24     California  6001.0          0       0          0           0\n",
              "3  2020-01-25     California  6001.0          0       0          0           0\n",
              "4  2020-01-26     California  6001.0          0       0          0           0"
            ]
          },
          "metadata": {
            "tags": []
          },
          "execution_count": 13
        }
      ]
    },
    {
      "cell_type": "markdown",
      "metadata": {
        "id": "l_9OSAtX5wRO",
        "colab_type": "text"
      },
      "source": [
        "## Computing rolling average"
      ]
    },
    {
      "cell_type": "code",
      "metadata": {
        "id": "ny2Rd-RF6vYk",
        "colab_type": "code",
        "colab": {
          "base_uri": "https://localhost:8080/",
          "height": 221
        },
        "outputId": "743ff854-6116-4649-94d5-faca04b931e9"
      },
      "source": [
        "NY_combined_data.iloc[:,5]"
      ],
      "execution_count": 19,
      "outputs": [
        {
          "output_type": "execute_result",
          "data": {
            "text/plain": [
              "0        0\n",
              "1        0\n",
              "2        0\n",
              "3        0\n",
              "4        0\n",
              "        ..\n",
              "12562    0\n",
              "12563    0\n",
              "12564    0\n",
              "12565    0\n",
              "12566    0\n",
              "Name: New cases, Length: 12567, dtype: int64"
            ]
          },
          "metadata": {
            "tags": []
          },
          "execution_count": 19
        }
      ]
    },
    {
      "cell_type": "code",
      "metadata": {
        "id": "xC8CEpDiLiEn",
        "colab_type": "code",
        "colab": {}
      },
      "source": [
        "df = pd.DataFrame(columns=['Date','FIPS','New cases','rolling_avg_new_cases'])\n"
      ],
      "execution_count": 17,
      "outputs": []
    },
    {
      "cell_type": "code",
      "metadata": {
        "id": "FWxcf8d0Jmyv",
        "colab_type": "code",
        "colab": {
          "base_uri": "https://localhost:8080/",
          "height": 204
        },
        "outputId": "633f1d6e-c370-429b-8df3-0638d29508e8"
      },
      "source": [
        "NY_counties = NY_combined_data['FIPS'].unique()\n",
        "\n",
        "for county in NY_counties:\n",
        "  county_data = NY_combined_data[NY_combined_data['FIPS'] == county]\n",
        "  #print(county_data.iloc[:,15])\n",
        "  county_data['rolling_avg_new_cases'] = county_data.iloc[:,5].rolling(window=7).mean()\n",
        "  df = df.append(county_data)\n",
        "\n",
        "df.head()"
      ],
      "execution_count": 18,
      "outputs": [
        {
          "output_type": "execute_result",
          "data": {
            "text/html": [
              "<div>\n",
              "<style scoped>\n",
              "    .dataframe tbody tr th:only-of-type {\n",
              "        vertical-align: middle;\n",
              "    }\n",
              "\n",
              "    .dataframe tbody tr th {\n",
              "        vertical-align: top;\n",
              "    }\n",
              "\n",
              "    .dataframe thead th {\n",
              "        text-align: right;\n",
              "    }\n",
              "</style>\n",
              "<table border=\"1\" class=\"dataframe\">\n",
              "  <thead>\n",
              "    <tr style=\"text-align: right;\">\n",
              "      <th></th>\n",
              "      <th>Date</th>\n",
              "      <th>FIPS</th>\n",
              "      <th>New cases</th>\n",
              "      <th>rolling_avg_new_cases</th>\n",
              "      <th>Province_State</th>\n",
              "      <th>Confirmed</th>\n",
              "      <th>Deaths</th>\n",
              "      <th>New deaths</th>\n",
              "    </tr>\n",
              "  </thead>\n",
              "  <tbody>\n",
              "    <tr>\n",
              "      <th>0</th>\n",
              "      <td>2020-01-22</td>\n",
              "      <td>6001.0</td>\n",
              "      <td>0</td>\n",
              "      <td>NaN</td>\n",
              "      <td>California</td>\n",
              "      <td>0.0</td>\n",
              "      <td>0.0</td>\n",
              "      <td>0.0</td>\n",
              "    </tr>\n",
              "    <tr>\n",
              "      <th>1</th>\n",
              "      <td>2020-01-23</td>\n",
              "      <td>6001.0</td>\n",
              "      <td>0</td>\n",
              "      <td>NaN</td>\n",
              "      <td>California</td>\n",
              "      <td>0.0</td>\n",
              "      <td>0.0</td>\n",
              "      <td>0.0</td>\n",
              "    </tr>\n",
              "    <tr>\n",
              "      <th>2</th>\n",
              "      <td>2020-01-24</td>\n",
              "      <td>6001.0</td>\n",
              "      <td>0</td>\n",
              "      <td>NaN</td>\n",
              "      <td>California</td>\n",
              "      <td>0.0</td>\n",
              "      <td>0.0</td>\n",
              "      <td>0.0</td>\n",
              "    </tr>\n",
              "    <tr>\n",
              "      <th>3</th>\n",
              "      <td>2020-01-25</td>\n",
              "      <td>6001.0</td>\n",
              "      <td>0</td>\n",
              "      <td>NaN</td>\n",
              "      <td>California</td>\n",
              "      <td>0.0</td>\n",
              "      <td>0.0</td>\n",
              "      <td>0.0</td>\n",
              "    </tr>\n",
              "    <tr>\n",
              "      <th>4</th>\n",
              "      <td>2020-01-26</td>\n",
              "      <td>6001.0</td>\n",
              "      <td>0</td>\n",
              "      <td>NaN</td>\n",
              "      <td>California</td>\n",
              "      <td>0.0</td>\n",
              "      <td>0.0</td>\n",
              "      <td>0.0</td>\n",
              "    </tr>\n",
              "  </tbody>\n",
              "</table>\n",
              "</div>"
            ],
            "text/plain": [
              "         Date    FIPS New cases  ...  Confirmed Deaths  New deaths\n",
              "0  2020-01-22  6001.0         0  ...        0.0    0.0         0.0\n",
              "1  2020-01-23  6001.0         0  ...        0.0    0.0         0.0\n",
              "2  2020-01-24  6001.0         0  ...        0.0    0.0         0.0\n",
              "3  2020-01-25  6001.0         0  ...        0.0    0.0         0.0\n",
              "4  2020-01-26  6001.0         0  ...        0.0    0.0         0.0\n",
              "\n",
              "[5 rows x 8 columns]"
            ]
          },
          "metadata": {
            "tags": []
          },
          "execution_count": 18
        }
      ]
    },
    {
      "cell_type": "code",
      "metadata": {
        "id": "0JUt8Yi7L9Av",
        "colab_type": "code",
        "colab": {
          "base_uri": "https://localhost:8080/",
          "height": 51
        },
        "outputId": "60367578-dfef-4e5c-df4a-f08b4985297b"
      },
      "source": [
        "print(df.shape)\n",
        "NY_combined_data.shape"
      ],
      "execution_count": 20,
      "outputs": [
        {
          "output_type": "stream",
          "text": [
            "(12567, 8)\n"
          ],
          "name": "stdout"
        },
        {
          "output_type": "execute_result",
          "data": {
            "text/plain": [
              "(12567, 7)"
            ]
          },
          "metadata": {
            "tags": []
          },
          "execution_count": 20
        }
      ]
    },
    {
      "cell_type": "code",
      "metadata": {
        "id": "w8st06aoMKti",
        "colab_type": "code",
        "colab": {
          "base_uri": "https://localhost:8080/",
          "height": 606
        },
        "outputId": "b9393c78-6276-465b-c9c0-a076ae029e5d"
      },
      "source": [
        "NY_combined_data = df.copy()\n",
        "NY_combined_data"
      ],
      "execution_count": 21,
      "outputs": [
        {
          "output_type": "execute_result",
          "data": {
            "text/html": [
              "<div>\n",
              "<style scoped>\n",
              "    .dataframe tbody tr th:only-of-type {\n",
              "        vertical-align: middle;\n",
              "    }\n",
              "\n",
              "    .dataframe tbody tr th {\n",
              "        vertical-align: top;\n",
              "    }\n",
              "\n",
              "    .dataframe thead th {\n",
              "        text-align: right;\n",
              "    }\n",
              "</style>\n",
              "<table border=\"1\" class=\"dataframe\">\n",
              "  <thead>\n",
              "    <tr style=\"text-align: right;\">\n",
              "      <th></th>\n",
              "      <th>Date</th>\n",
              "      <th>FIPS</th>\n",
              "      <th>New cases</th>\n",
              "      <th>rolling_avg_new_cases</th>\n",
              "      <th>Province_State</th>\n",
              "      <th>Confirmed</th>\n",
              "      <th>Deaths</th>\n",
              "      <th>New deaths</th>\n",
              "    </tr>\n",
              "  </thead>\n",
              "  <tbody>\n",
              "    <tr>\n",
              "      <th>0</th>\n",
              "      <td>2020-01-22</td>\n",
              "      <td>6001.0</td>\n",
              "      <td>0</td>\n",
              "      <td>NaN</td>\n",
              "      <td>California</td>\n",
              "      <td>0.0</td>\n",
              "      <td>0.0</td>\n",
              "      <td>0.0</td>\n",
              "    </tr>\n",
              "    <tr>\n",
              "      <th>1</th>\n",
              "      <td>2020-01-23</td>\n",
              "      <td>6001.0</td>\n",
              "      <td>0</td>\n",
              "      <td>NaN</td>\n",
              "      <td>California</td>\n",
              "      <td>0.0</td>\n",
              "      <td>0.0</td>\n",
              "      <td>0.0</td>\n",
              "    </tr>\n",
              "    <tr>\n",
              "      <th>2</th>\n",
              "      <td>2020-01-24</td>\n",
              "      <td>6001.0</td>\n",
              "      <td>0</td>\n",
              "      <td>NaN</td>\n",
              "      <td>California</td>\n",
              "      <td>0.0</td>\n",
              "      <td>0.0</td>\n",
              "      <td>0.0</td>\n",
              "    </tr>\n",
              "    <tr>\n",
              "      <th>3</th>\n",
              "      <td>2020-01-25</td>\n",
              "      <td>6001.0</td>\n",
              "      <td>0</td>\n",
              "      <td>NaN</td>\n",
              "      <td>California</td>\n",
              "      <td>0.0</td>\n",
              "      <td>0.0</td>\n",
              "      <td>0.0</td>\n",
              "    </tr>\n",
              "    <tr>\n",
              "      <th>4</th>\n",
              "      <td>2020-01-26</td>\n",
              "      <td>6001.0</td>\n",
              "      <td>0</td>\n",
              "      <td>NaN</td>\n",
              "      <td>California</td>\n",
              "      <td>0.0</td>\n",
              "      <td>0.0</td>\n",
              "      <td>0.0</td>\n",
              "    </tr>\n",
              "    <tr>\n",
              "      <th>...</th>\n",
              "      <td>...</td>\n",
              "      <td>...</td>\n",
              "      <td>...</td>\n",
              "      <td>...</td>\n",
              "      <td>...</td>\n",
              "      <td>...</td>\n",
              "      <td>...</td>\n",
              "      <td>...</td>\n",
              "    </tr>\n",
              "    <tr>\n",
              "      <th>12562</th>\n",
              "      <td>2020-08-17</td>\n",
              "      <td>90006.0</td>\n",
              "      <td>0</td>\n",
              "      <td>0.0</td>\n",
              "      <td>California</td>\n",
              "      <td>0.0</td>\n",
              "      <td>0.0</td>\n",
              "      <td>0.0</td>\n",
              "    </tr>\n",
              "    <tr>\n",
              "      <th>12563</th>\n",
              "      <td>2020-08-18</td>\n",
              "      <td>90006.0</td>\n",
              "      <td>0</td>\n",
              "      <td>0.0</td>\n",
              "      <td>California</td>\n",
              "      <td>0.0</td>\n",
              "      <td>0.0</td>\n",
              "      <td>0.0</td>\n",
              "    </tr>\n",
              "    <tr>\n",
              "      <th>12564</th>\n",
              "      <td>2020-08-19</td>\n",
              "      <td>90006.0</td>\n",
              "      <td>0</td>\n",
              "      <td>0.0</td>\n",
              "      <td>California</td>\n",
              "      <td>0.0</td>\n",
              "      <td>0.0</td>\n",
              "      <td>0.0</td>\n",
              "    </tr>\n",
              "    <tr>\n",
              "      <th>12565</th>\n",
              "      <td>2020-08-20</td>\n",
              "      <td>90006.0</td>\n",
              "      <td>0</td>\n",
              "      <td>0.0</td>\n",
              "      <td>California</td>\n",
              "      <td>0.0</td>\n",
              "      <td>0.0</td>\n",
              "      <td>0.0</td>\n",
              "    </tr>\n",
              "    <tr>\n",
              "      <th>12566</th>\n",
              "      <td>2020-08-21</td>\n",
              "      <td>90006.0</td>\n",
              "      <td>0</td>\n",
              "      <td>0.0</td>\n",
              "      <td>California</td>\n",
              "      <td>0.0</td>\n",
              "      <td>0.0</td>\n",
              "      <td>0.0</td>\n",
              "    </tr>\n",
              "  </tbody>\n",
              "</table>\n",
              "<p>12567 rows × 8 columns</p>\n",
              "</div>"
            ],
            "text/plain": [
              "             Date     FIPS New cases  ...  Confirmed Deaths  New deaths\n",
              "0      2020-01-22   6001.0         0  ...        0.0    0.0         0.0\n",
              "1      2020-01-23   6001.0         0  ...        0.0    0.0         0.0\n",
              "2      2020-01-24   6001.0         0  ...        0.0    0.0         0.0\n",
              "3      2020-01-25   6001.0         0  ...        0.0    0.0         0.0\n",
              "4      2020-01-26   6001.0         0  ...        0.0    0.0         0.0\n",
              "...           ...      ...       ...  ...        ...    ...         ...\n",
              "12562  2020-08-17  90006.0         0  ...        0.0    0.0         0.0\n",
              "12563  2020-08-18  90006.0         0  ...        0.0    0.0         0.0\n",
              "12564  2020-08-19  90006.0         0  ...        0.0    0.0         0.0\n",
              "12565  2020-08-20  90006.0         0  ...        0.0    0.0         0.0\n",
              "12566  2020-08-21  90006.0         0  ...        0.0    0.0         0.0\n",
              "\n",
              "[12567 rows x 8 columns]"
            ]
          },
          "metadata": {
            "tags": []
          },
          "execution_count": 21
        }
      ]
    },
    {
      "cell_type": "code",
      "metadata": {
        "id": "YzMFu5wZIB-A",
        "colab_type": "code",
        "colab": {
          "base_uri": "https://localhost:8080/",
          "height": 1000
        },
        "outputId": "e8088270-2f62-489d-f3da-350e460c6424"
      },
      "source": [
        "NY_combined_data[NY_combined_data['Date'] == '2020-08-01']"
      ],
      "execution_count": 22,
      "outputs": [
        {
          "output_type": "execute_result",
          "data": {
            "text/html": [
              "<div>\n",
              "<style scoped>\n",
              "    .dataframe tbody tr th:only-of-type {\n",
              "        vertical-align: middle;\n",
              "    }\n",
              "\n",
              "    .dataframe tbody tr th {\n",
              "        vertical-align: top;\n",
              "    }\n",
              "\n",
              "    .dataframe thead th {\n",
              "        text-align: right;\n",
              "    }\n",
              "</style>\n",
              "<table border=\"1\" class=\"dataframe\">\n",
              "  <thead>\n",
              "    <tr style=\"text-align: right;\">\n",
              "      <th></th>\n",
              "      <th>Date</th>\n",
              "      <th>FIPS</th>\n",
              "      <th>New cases</th>\n",
              "      <th>rolling_avg_new_cases</th>\n",
              "      <th>Province_State</th>\n",
              "      <th>Confirmed</th>\n",
              "      <th>Deaths</th>\n",
              "      <th>New deaths</th>\n",
              "    </tr>\n",
              "  </thead>\n",
              "  <tbody>\n",
              "    <tr>\n",
              "      <th>192</th>\n",
              "      <td>2020-08-01</td>\n",
              "      <td>6001.0</td>\n",
              "      <td>345</td>\n",
              "      <td>164.857143</td>\n",
              "      <td>California</td>\n",
              "      <td>11484.0</td>\n",
              "      <td>189.0</td>\n",
              "      <td>7.0</td>\n",
              "    </tr>\n",
              "    <tr>\n",
              "      <th>405</th>\n",
              "      <td>2020-08-01</td>\n",
              "      <td>6003.0</td>\n",
              "      <td>0</td>\n",
              "      <td>0.000000</td>\n",
              "      <td>California</td>\n",
              "      <td>2.0</td>\n",
              "      <td>0.0</td>\n",
              "      <td>0.0</td>\n",
              "    </tr>\n",
              "    <tr>\n",
              "      <th>618</th>\n",
              "      <td>2020-08-01</td>\n",
              "      <td>6005.0</td>\n",
              "      <td>10</td>\n",
              "      <td>7.714286</td>\n",
              "      <td>California</td>\n",
              "      <td>125.0</td>\n",
              "      <td>0.0</td>\n",
              "      <td>0.0</td>\n",
              "    </tr>\n",
              "    <tr>\n",
              "      <th>831</th>\n",
              "      <td>2020-08-01</td>\n",
              "      <td>6007.0</td>\n",
              "      <td>0</td>\n",
              "      <td>26.142857</td>\n",
              "      <td>California</td>\n",
              "      <td>941.0</td>\n",
              "      <td>7.0</td>\n",
              "      <td>0.0</td>\n",
              "    </tr>\n",
              "    <tr>\n",
              "      <th>1044</th>\n",
              "      <td>2020-08-01</td>\n",
              "      <td>6009.0</td>\n",
              "      <td>0</td>\n",
              "      <td>3.714286</td>\n",
              "      <td>California</td>\n",
              "      <td>125.0</td>\n",
              "      <td>1.0</td>\n",
              "      <td>0.0</td>\n",
              "    </tr>\n",
              "    <tr>\n",
              "      <th>1257</th>\n",
              "      <td>2020-08-01</td>\n",
              "      <td>6011.0</td>\n",
              "      <td>0</td>\n",
              "      <td>8.571429</td>\n",
              "      <td>California</td>\n",
              "      <td>323.0</td>\n",
              "      <td>4.0</td>\n",
              "      <td>0.0</td>\n",
              "    </tr>\n",
              "    <tr>\n",
              "      <th>1470</th>\n",
              "      <td>2020-08-01</td>\n",
              "      <td>6013.0</td>\n",
              "      <td>136</td>\n",
              "      <td>148.000000</td>\n",
              "      <td>California</td>\n",
              "      <td>7806.0</td>\n",
              "      <td>121.0</td>\n",
              "      <td>2.0</td>\n",
              "    </tr>\n",
              "    <tr>\n",
              "      <th>1683</th>\n",
              "      <td>2020-08-01</td>\n",
              "      <td>6015.0</td>\n",
              "      <td>0</td>\n",
              "      <td>0.142857</td>\n",
              "      <td>California</td>\n",
              "      <td>88.0</td>\n",
              "      <td>0.0</td>\n",
              "      <td>0.0</td>\n",
              "    </tr>\n",
              "    <tr>\n",
              "      <th>1896</th>\n",
              "      <td>2020-08-01</td>\n",
              "      <td>6017.0</td>\n",
              "      <td>0</td>\n",
              "      <td>17.714286</td>\n",
              "      <td>California</td>\n",
              "      <td>637.0</td>\n",
              "      <td>1.0</td>\n",
              "      <td>0.0</td>\n",
              "    </tr>\n",
              "    <tr>\n",
              "      <th>2109</th>\n",
              "      <td>2020-08-01</td>\n",
              "      <td>6019.0</td>\n",
              "      <td>0</td>\n",
              "      <td>267.857143</td>\n",
              "      <td>California</td>\n",
              "      <td>14439.0</td>\n",
              "      <td>138.0</td>\n",
              "      <td>0.0</td>\n",
              "    </tr>\n",
              "    <tr>\n",
              "      <th>2322</th>\n",
              "      <td>2020-08-01</td>\n",
              "      <td>6021.0</td>\n",
              "      <td>0</td>\n",
              "      <td>8.571429</td>\n",
              "      <td>California</td>\n",
              "      <td>325.0</td>\n",
              "      <td>1.0</td>\n",
              "      <td>0.0</td>\n",
              "    </tr>\n",
              "    <tr>\n",
              "      <th>2535</th>\n",
              "      <td>2020-08-01</td>\n",
              "      <td>6023.0</td>\n",
              "      <td>0</td>\n",
              "      <td>4.000000</td>\n",
              "      <td>California</td>\n",
              "      <td>233.0</td>\n",
              "      <td>4.0</td>\n",
              "      <td>0.0</td>\n",
              "    </tr>\n",
              "    <tr>\n",
              "      <th>2748</th>\n",
              "      <td>2020-08-01</td>\n",
              "      <td>6025.0</td>\n",
              "      <td>43</td>\n",
              "      <td>48.857143</td>\n",
              "      <td>California</td>\n",
              "      <td>9409.0</td>\n",
              "      <td>220.0</td>\n",
              "      <td>10.0</td>\n",
              "    </tr>\n",
              "    <tr>\n",
              "      <th>2961</th>\n",
              "      <td>2020-08-01</td>\n",
              "      <td>6027.0</td>\n",
              "      <td>1</td>\n",
              "      <td>1.000000</td>\n",
              "      <td>California</td>\n",
              "      <td>51.0</td>\n",
              "      <td>1.0</td>\n",
              "      <td>0.0</td>\n",
              "    </tr>\n",
              "    <tr>\n",
              "      <th>3174</th>\n",
              "      <td>2020-08-01</td>\n",
              "      <td>6029.0</td>\n",
              "      <td>547</td>\n",
              "      <td>812.857143</td>\n",
              "      <td>California</td>\n",
              "      <td>19882.0</td>\n",
              "      <td>144.0</td>\n",
              "      <td>4.0</td>\n",
              "    </tr>\n",
              "    <tr>\n",
              "      <th>3387</th>\n",
              "      <td>2020-08-01</td>\n",
              "      <td>6031.0</td>\n",
              "      <td>234</td>\n",
              "      <td>86.857143</td>\n",
              "      <td>California</td>\n",
              "      <td>4380.0</td>\n",
              "      <td>56.0</td>\n",
              "      <td>2.0</td>\n",
              "    </tr>\n",
              "    <tr>\n",
              "      <th>3600</th>\n",
              "      <td>2020-08-01</td>\n",
              "      <td>6033.0</td>\n",
              "      <td>0</td>\n",
              "      <td>3.857143</td>\n",
              "      <td>California</td>\n",
              "      <td>195.0</td>\n",
              "      <td>1.0</td>\n",
              "      <td>0.0</td>\n",
              "    </tr>\n",
              "    <tr>\n",
              "      <th>3813</th>\n",
              "      <td>2020-08-01</td>\n",
              "      <td>6035.0</td>\n",
              "      <td>0</td>\n",
              "      <td>10.857143</td>\n",
              "      <td>California</td>\n",
              "      <td>631.0</td>\n",
              "      <td>0.0</td>\n",
              "      <td>0.0</td>\n",
              "    </tr>\n",
              "    <tr>\n",
              "      <th>4026</th>\n",
              "      <td>2020-08-01</td>\n",
              "      <td>6037.0</td>\n",
              "      <td>2316</td>\n",
              "      <td>2647.428571</td>\n",
              "      <td>California</td>\n",
              "      <td>190857.0</td>\n",
              "      <td>4669.0</td>\n",
              "      <td>45.0</td>\n",
              "    </tr>\n",
              "    <tr>\n",
              "      <th>4239</th>\n",
              "      <td>2020-08-01</td>\n",
              "      <td>6039.0</td>\n",
              "      <td>0</td>\n",
              "      <td>44.714286</td>\n",
              "      <td>California</td>\n",
              "      <td>1943.0</td>\n",
              "      <td>30.0</td>\n",
              "      <td>0.0</td>\n",
              "    </tr>\n",
              "    <tr>\n",
              "      <th>4452</th>\n",
              "      <td>2020-08-01</td>\n",
              "      <td>6041.0</td>\n",
              "      <td>7</td>\n",
              "      <td>52.857143</td>\n",
              "      <td>California</td>\n",
              "      <td>4994.0</td>\n",
              "      <td>70.0</td>\n",
              "      <td>0.0</td>\n",
              "    </tr>\n",
              "    <tr>\n",
              "      <th>4665</th>\n",
              "      <td>2020-08-01</td>\n",
              "      <td>6043.0</td>\n",
              "      <td>1</td>\n",
              "      <td>1.142857</td>\n",
              "      <td>California</td>\n",
              "      <td>54.0</td>\n",
              "      <td>2.0</td>\n",
              "      <td>0.0</td>\n",
              "    </tr>\n",
              "    <tr>\n",
              "      <th>4878</th>\n",
              "      <td>2020-08-01</td>\n",
              "      <td>6045.0</td>\n",
              "      <td>0</td>\n",
              "      <td>9.000000</td>\n",
              "      <td>California</td>\n",
              "      <td>312.0</td>\n",
              "      <td>9.0</td>\n",
              "      <td>0.0</td>\n",
              "    </tr>\n",
              "    <tr>\n",
              "      <th>5091</th>\n",
              "      <td>2020-08-01</td>\n",
              "      <td>6047.0</td>\n",
              "      <td>220</td>\n",
              "      <td>148.571429</td>\n",
              "      <td>California</td>\n",
              "      <td>4285.0</td>\n",
              "      <td>50.0</td>\n",
              "      <td>11.0</td>\n",
              "    </tr>\n",
              "    <tr>\n",
              "      <th>5304</th>\n",
              "      <td>2020-08-01</td>\n",
              "      <td>6049.0</td>\n",
              "      <td>0</td>\n",
              "      <td>0.285714</td>\n",
              "      <td>California</td>\n",
              "      <td>2.0</td>\n",
              "      <td>0.0</td>\n",
              "      <td>0.0</td>\n",
              "    </tr>\n",
              "    <tr>\n",
              "      <th>5517</th>\n",
              "      <td>2020-08-01</td>\n",
              "      <td>6051.0</td>\n",
              "      <td>0</td>\n",
              "      <td>4.428571</td>\n",
              "      <td>California</td>\n",
              "      <td>142.0</td>\n",
              "      <td>1.0</td>\n",
              "      <td>0.0</td>\n",
              "    </tr>\n",
              "    <tr>\n",
              "      <th>5730</th>\n",
              "      <td>2020-08-01</td>\n",
              "      <td>6053.0</td>\n",
              "      <td>255</td>\n",
              "      <td>120.571429</td>\n",
              "      <td>California</td>\n",
              "      <td>4797.0</td>\n",
              "      <td>30.0</td>\n",
              "      <td>4.0</td>\n",
              "    </tr>\n",
              "    <tr>\n",
              "      <th>5943</th>\n",
              "      <td>2020-08-01</td>\n",
              "      <td>6055.0</td>\n",
              "      <td>0</td>\n",
              "      <td>21.571429</td>\n",
              "      <td>California</td>\n",
              "      <td>888.0</td>\n",
              "      <td>8.0</td>\n",
              "      <td>0.0</td>\n",
              "    </tr>\n",
              "    <tr>\n",
              "      <th>6156</th>\n",
              "      <td>2020-08-01</td>\n",
              "      <td>6057.0</td>\n",
              "      <td>0</td>\n",
              "      <td>6.285714</td>\n",
              "      <td>California</td>\n",
              "      <td>299.0</td>\n",
              "      <td>1.0</td>\n",
              "      <td>0.0</td>\n",
              "    </tr>\n",
              "    <tr>\n",
              "      <th>6369</th>\n",
              "      <td>2020-08-01</td>\n",
              "      <td>6059.0</td>\n",
              "      <td>637</td>\n",
              "      <td>411.428571</td>\n",
              "      <td>California</td>\n",
              "      <td>36833.0</td>\n",
              "      <td>649.0</td>\n",
              "      <td>31.0</td>\n",
              "    </tr>\n",
              "    <tr>\n",
              "      <th>6582</th>\n",
              "      <td>2020-08-01</td>\n",
              "      <td>6061.0</td>\n",
              "      <td>36</td>\n",
              "      <td>43.857143</td>\n",
              "      <td>California</td>\n",
              "      <td>1912.0</td>\n",
              "      <td>15.0</td>\n",
              "      <td>0.0</td>\n",
              "    </tr>\n",
              "    <tr>\n",
              "      <th>6795</th>\n",
              "      <td>2020-08-01</td>\n",
              "      <td>6063.0</td>\n",
              "      <td>0</td>\n",
              "      <td>0.714286</td>\n",
              "      <td>California</td>\n",
              "      <td>33.0</td>\n",
              "      <td>0.0</td>\n",
              "      <td>0.0</td>\n",
              "    </tr>\n",
              "    <tr>\n",
              "      <th>7008</th>\n",
              "      <td>2020-08-01</td>\n",
              "      <td>6065.0</td>\n",
              "      <td>0</td>\n",
              "      <td>506.285714</td>\n",
              "      <td>California</td>\n",
              "      <td>37011.0</td>\n",
              "      <td>695.0</td>\n",
              "      <td>0.0</td>\n",
              "    </tr>\n",
              "    <tr>\n",
              "      <th>7221</th>\n",
              "      <td>2020-08-01</td>\n",
              "      <td>6067.0</td>\n",
              "      <td>0</td>\n",
              "      <td>180.857143</td>\n",
              "      <td>California</td>\n",
              "      <td>9820.0</td>\n",
              "      <td>133.0</td>\n",
              "      <td>0.0</td>\n",
              "    </tr>\n",
              "    <tr>\n",
              "      <th>7434</th>\n",
              "      <td>2020-08-01</td>\n",
              "      <td>6069.0</td>\n",
              "      <td>0</td>\n",
              "      <td>13.857143</td>\n",
              "      <td>California</td>\n",
              "      <td>622.0</td>\n",
              "      <td>4.0</td>\n",
              "      <td>0.0</td>\n",
              "    </tr>\n",
              "    <tr>\n",
              "      <th>7647</th>\n",
              "      <td>2020-08-01</td>\n",
              "      <td>6071.0</td>\n",
              "      <td>466</td>\n",
              "      <td>842.857143</td>\n",
              "      <td>California</td>\n",
              "      <td>32696.0</td>\n",
              "      <td>417.0</td>\n",
              "      <td>8.0</td>\n",
              "    </tr>\n",
              "    <tr>\n",
              "      <th>7860</th>\n",
              "      <td>2020-08-01</td>\n",
              "      <td>6073.0</td>\n",
              "      <td>0</td>\n",
              "      <td>421.428571</td>\n",
              "      <td>California</td>\n",
              "      <td>29048.0</td>\n",
              "      <td>561.0</td>\n",
              "      <td>0.0</td>\n",
              "    </tr>\n",
              "    <tr>\n",
              "      <th>8073</th>\n",
              "      <td>2020-08-01</td>\n",
              "      <td>6075.0</td>\n",
              "      <td>148</td>\n",
              "      <td>133.714286</td>\n",
              "      <td>California</td>\n",
              "      <td>6723.0</td>\n",
              "      <td>61.0</td>\n",
              "      <td>2.0</td>\n",
              "    </tr>\n",
              "    <tr>\n",
              "      <th>8286</th>\n",
              "      <td>2020-08-01</td>\n",
              "      <td>6077.0</td>\n",
              "      <td>0</td>\n",
              "      <td>193.857143</td>\n",
              "      <td>California</td>\n",
              "      <td>11483.0</td>\n",
              "      <td>168.0</td>\n",
              "      <td>0.0</td>\n",
              "    </tr>\n",
              "    <tr>\n",
              "      <th>8499</th>\n",
              "      <td>2020-08-01</td>\n",
              "      <td>6079.0</td>\n",
              "      <td>0</td>\n",
              "      <td>40.428571</td>\n",
              "      <td>California</td>\n",
              "      <td>1783.0</td>\n",
              "      <td>15.0</td>\n",
              "      <td>0.0</td>\n",
              "    </tr>\n",
              "    <tr>\n",
              "      <th>8712</th>\n",
              "      <td>2020-08-01</td>\n",
              "      <td>6081.0</td>\n",
              "      <td>75</td>\n",
              "      <td>74.571429</td>\n",
              "      <td>California</td>\n",
              "      <td>5544.0</td>\n",
              "      <td>119.0</td>\n",
              "      <td>0.0</td>\n",
              "    </tr>\n",
              "    <tr>\n",
              "      <th>8925</th>\n",
              "      <td>2020-08-01</td>\n",
              "      <td>6083.0</td>\n",
              "      <td>0</td>\n",
              "      <td>84.428571</td>\n",
              "      <td>California</td>\n",
              "      <td>6167.0</td>\n",
              "      <td>60.0</td>\n",
              "      <td>0.0</td>\n",
              "    </tr>\n",
              "    <tr>\n",
              "      <th>9138</th>\n",
              "      <td>2020-08-01</td>\n",
              "      <td>6085.0</td>\n",
              "      <td>408</td>\n",
              "      <td>212.571429</td>\n",
              "      <td>California</td>\n",
              "      <td>10321.0</td>\n",
              "      <td>191.0</td>\n",
              "      <td>0.0</td>\n",
              "    </tr>\n",
              "    <tr>\n",
              "      <th>9351</th>\n",
              "      <td>2020-08-01</td>\n",
              "      <td>6087.0</td>\n",
              "      <td>43</td>\n",
              "      <td>36.285714</td>\n",
              "      <td>California</td>\n",
              "      <td>1152.0</td>\n",
              "      <td>4.0</td>\n",
              "      <td>0.0</td>\n",
              "    </tr>\n",
              "    <tr>\n",
              "      <th>9564</th>\n",
              "      <td>2020-08-01</td>\n",
              "      <td>6089.0</td>\n",
              "      <td>0</td>\n",
              "      <td>11.142857</td>\n",
              "      <td>California</td>\n",
              "      <td>369.0</td>\n",
              "      <td>9.0</td>\n",
              "      <td>0.0</td>\n",
              "    </tr>\n",
              "    <tr>\n",
              "      <th>9777</th>\n",
              "      <td>2020-08-01</td>\n",
              "      <td>6091.0</td>\n",
              "      <td>0</td>\n",
              "      <td>0.142857</td>\n",
              "      <td>California</td>\n",
              "      <td>2.0</td>\n",
              "      <td>0.0</td>\n",
              "      <td>0.0</td>\n",
              "    </tr>\n",
              "    <tr>\n",
              "      <th>9990</th>\n",
              "      <td>2020-08-01</td>\n",
              "      <td>6093.0</td>\n",
              "      <td>1</td>\n",
              "      <td>1.714286</td>\n",
              "      <td>California</td>\n",
              "      <td>73.0</td>\n",
              "      <td>0.0</td>\n",
              "      <td>0.0</td>\n",
              "    </tr>\n",
              "    <tr>\n",
              "      <th>10203</th>\n",
              "      <td>2020-08-01</td>\n",
              "      <td>6095.0</td>\n",
              "      <td>0</td>\n",
              "      <td>68.857143</td>\n",
              "      <td>California</td>\n",
              "      <td>3611.0</td>\n",
              "      <td>37.0</td>\n",
              "      <td>0.0</td>\n",
              "    </tr>\n",
              "    <tr>\n",
              "      <th>10416</th>\n",
              "      <td>2020-08-01</td>\n",
              "      <td>6097.0</td>\n",
              "      <td>102</td>\n",
              "      <td>68.285714</td>\n",
              "      <td>California</td>\n",
              "      <td>2944.0</td>\n",
              "      <td>37.0</td>\n",
              "      <td>5.0</td>\n",
              "    </tr>\n",
              "    <tr>\n",
              "      <th>10629</th>\n",
              "      <td>2020-08-01</td>\n",
              "      <td>6099.0</td>\n",
              "      <td>0</td>\n",
              "      <td>183.857143</td>\n",
              "      <td>California</td>\n",
              "      <td>8890.0</td>\n",
              "      <td>104.0</td>\n",
              "      <td>0.0</td>\n",
              "    </tr>\n",
              "    <tr>\n",
              "      <th>10842</th>\n",
              "      <td>2020-08-01</td>\n",
              "      <td>6101.0</td>\n",
              "      <td>13</td>\n",
              "      <td>21.857143</td>\n",
              "      <td>California</td>\n",
              "      <td>768.0</td>\n",
              "      <td>6.0</td>\n",
              "      <td>0.0</td>\n",
              "    </tr>\n",
              "    <tr>\n",
              "      <th>11055</th>\n",
              "      <td>2020-08-01</td>\n",
              "      <td>6103.0</td>\n",
              "      <td>7</td>\n",
              "      <td>6.428571</td>\n",
              "      <td>California</td>\n",
              "      <td>234.0</td>\n",
              "      <td>1.0</td>\n",
              "      <td>0.0</td>\n",
              "    </tr>\n",
              "    <tr>\n",
              "      <th>11268</th>\n",
              "      <td>2020-08-01</td>\n",
              "      <td>6105.0</td>\n",
              "      <td>0</td>\n",
              "      <td>0.285714</td>\n",
              "      <td>California</td>\n",
              "      <td>5.0</td>\n",
              "      <td>0.0</td>\n",
              "      <td>0.0</td>\n",
              "    </tr>\n",
              "    <tr>\n",
              "      <th>11481</th>\n",
              "      <td>2020-08-01</td>\n",
              "      <td>6107.0</td>\n",
              "      <td>0</td>\n",
              "      <td>177.714286</td>\n",
              "      <td>California</td>\n",
              "      <td>9454.0</td>\n",
              "      <td>178.0</td>\n",
              "      <td>0.0</td>\n",
              "    </tr>\n",
              "    <tr>\n",
              "      <th>11694</th>\n",
              "      <td>2020-08-01</td>\n",
              "      <td>6109.0</td>\n",
              "      <td>0</td>\n",
              "      <td>2.142857</td>\n",
              "      <td>California</td>\n",
              "      <td>141.0</td>\n",
              "      <td>2.0</td>\n",
              "      <td>0.0</td>\n",
              "    </tr>\n",
              "    <tr>\n",
              "      <th>11907</th>\n",
              "      <td>2020-08-01</td>\n",
              "      <td>6111.0</td>\n",
              "      <td>0</td>\n",
              "      <td>136.000000</td>\n",
              "      <td>California</td>\n",
              "      <td>7344.0</td>\n",
              "      <td>76.0</td>\n",
              "      <td>0.0</td>\n",
              "    </tr>\n",
              "    <tr>\n",
              "      <th>12120</th>\n",
              "      <td>2020-08-01</td>\n",
              "      <td>6113.0</td>\n",
              "      <td>0</td>\n",
              "      <td>24.000000</td>\n",
              "      <td>California</td>\n",
              "      <td>1510.0</td>\n",
              "      <td>41.0</td>\n",
              "      <td>0.0</td>\n",
              "    </tr>\n",
              "    <tr>\n",
              "      <th>12333</th>\n",
              "      <td>2020-08-01</td>\n",
              "      <td>6115.0</td>\n",
              "      <td>6</td>\n",
              "      <td>16.428571</td>\n",
              "      <td>California</td>\n",
              "      <td>471.0</td>\n",
              "      <td>4.0</td>\n",
              "      <td>0.0</td>\n",
              "    </tr>\n",
              "    <tr>\n",
              "      <th>12546</th>\n",
              "      <td>2020-08-01</td>\n",
              "      <td>90006.0</td>\n",
              "      <td>0</td>\n",
              "      <td>0.000000</td>\n",
              "      <td>California</td>\n",
              "      <td>0.0</td>\n",
              "      <td>0.0</td>\n",
              "      <td>0.0</td>\n",
              "    </tr>\n",
              "  </tbody>\n",
              "</table>\n",
              "</div>"
            ],
            "text/plain": [
              "             Date     FIPS New cases  ...  Confirmed  Deaths  New deaths\n",
              "192    2020-08-01   6001.0       345  ...    11484.0   189.0         7.0\n",
              "405    2020-08-01   6003.0         0  ...        2.0     0.0         0.0\n",
              "618    2020-08-01   6005.0        10  ...      125.0     0.0         0.0\n",
              "831    2020-08-01   6007.0         0  ...      941.0     7.0         0.0\n",
              "1044   2020-08-01   6009.0         0  ...      125.0     1.0         0.0\n",
              "1257   2020-08-01   6011.0         0  ...      323.0     4.0         0.0\n",
              "1470   2020-08-01   6013.0       136  ...     7806.0   121.0         2.0\n",
              "1683   2020-08-01   6015.0         0  ...       88.0     0.0         0.0\n",
              "1896   2020-08-01   6017.0         0  ...      637.0     1.0         0.0\n",
              "2109   2020-08-01   6019.0         0  ...    14439.0   138.0         0.0\n",
              "2322   2020-08-01   6021.0         0  ...      325.0     1.0         0.0\n",
              "2535   2020-08-01   6023.0         0  ...      233.0     4.0         0.0\n",
              "2748   2020-08-01   6025.0        43  ...     9409.0   220.0        10.0\n",
              "2961   2020-08-01   6027.0         1  ...       51.0     1.0         0.0\n",
              "3174   2020-08-01   6029.0       547  ...    19882.0   144.0         4.0\n",
              "3387   2020-08-01   6031.0       234  ...     4380.0    56.0         2.0\n",
              "3600   2020-08-01   6033.0         0  ...      195.0     1.0         0.0\n",
              "3813   2020-08-01   6035.0         0  ...      631.0     0.0         0.0\n",
              "4026   2020-08-01   6037.0      2316  ...   190857.0  4669.0        45.0\n",
              "4239   2020-08-01   6039.0         0  ...     1943.0    30.0         0.0\n",
              "4452   2020-08-01   6041.0         7  ...     4994.0    70.0         0.0\n",
              "4665   2020-08-01   6043.0         1  ...       54.0     2.0         0.0\n",
              "4878   2020-08-01   6045.0         0  ...      312.0     9.0         0.0\n",
              "5091   2020-08-01   6047.0       220  ...     4285.0    50.0        11.0\n",
              "5304   2020-08-01   6049.0         0  ...        2.0     0.0         0.0\n",
              "5517   2020-08-01   6051.0         0  ...      142.0     1.0         0.0\n",
              "5730   2020-08-01   6053.0       255  ...     4797.0    30.0         4.0\n",
              "5943   2020-08-01   6055.0         0  ...      888.0     8.0         0.0\n",
              "6156   2020-08-01   6057.0         0  ...      299.0     1.0         0.0\n",
              "6369   2020-08-01   6059.0       637  ...    36833.0   649.0        31.0\n",
              "6582   2020-08-01   6061.0        36  ...     1912.0    15.0         0.0\n",
              "6795   2020-08-01   6063.0         0  ...       33.0     0.0         0.0\n",
              "7008   2020-08-01   6065.0         0  ...    37011.0   695.0         0.0\n",
              "7221   2020-08-01   6067.0         0  ...     9820.0   133.0         0.0\n",
              "7434   2020-08-01   6069.0         0  ...      622.0     4.0         0.0\n",
              "7647   2020-08-01   6071.0       466  ...    32696.0   417.0         8.0\n",
              "7860   2020-08-01   6073.0         0  ...    29048.0   561.0         0.0\n",
              "8073   2020-08-01   6075.0       148  ...     6723.0    61.0         2.0\n",
              "8286   2020-08-01   6077.0         0  ...    11483.0   168.0         0.0\n",
              "8499   2020-08-01   6079.0         0  ...     1783.0    15.0         0.0\n",
              "8712   2020-08-01   6081.0        75  ...     5544.0   119.0         0.0\n",
              "8925   2020-08-01   6083.0         0  ...     6167.0    60.0         0.0\n",
              "9138   2020-08-01   6085.0       408  ...    10321.0   191.0         0.0\n",
              "9351   2020-08-01   6087.0        43  ...     1152.0     4.0         0.0\n",
              "9564   2020-08-01   6089.0         0  ...      369.0     9.0         0.0\n",
              "9777   2020-08-01   6091.0         0  ...        2.0     0.0         0.0\n",
              "9990   2020-08-01   6093.0         1  ...       73.0     0.0         0.0\n",
              "10203  2020-08-01   6095.0         0  ...     3611.0    37.0         0.0\n",
              "10416  2020-08-01   6097.0       102  ...     2944.0    37.0         5.0\n",
              "10629  2020-08-01   6099.0         0  ...     8890.0   104.0         0.0\n",
              "10842  2020-08-01   6101.0        13  ...      768.0     6.0         0.0\n",
              "11055  2020-08-01   6103.0         7  ...      234.0     1.0         0.0\n",
              "11268  2020-08-01   6105.0         0  ...        5.0     0.0         0.0\n",
              "11481  2020-08-01   6107.0         0  ...     9454.0   178.0         0.0\n",
              "11694  2020-08-01   6109.0         0  ...      141.0     2.0         0.0\n",
              "11907  2020-08-01   6111.0         0  ...     7344.0    76.0         0.0\n",
              "12120  2020-08-01   6113.0         0  ...     1510.0    41.0         0.0\n",
              "12333  2020-08-01   6115.0         6  ...      471.0     4.0         0.0\n",
              "12546  2020-08-01  90006.0         0  ...        0.0     0.0         0.0\n",
              "\n",
              "[59 rows x 8 columns]"
            ]
          },
          "metadata": {
            "tags": []
          },
          "execution_count": 22
        }
      ]
    },
    {
      "cell_type": "code",
      "metadata": {
        "id": "L2bE3yeW7BJB",
        "colab_type": "code",
        "colab": {}
      },
      "source": [
        "NY_combined_data.head(8)"
      ],
      "execution_count": null,
      "outputs": []
    },
    {
      "cell_type": "markdown",
      "metadata": {
        "id": "Sz-1ySgY7MR-",
        "colab_type": "text"
      },
      "source": [
        "## clean data - fill NA "
      ]
    },
    {
      "cell_type": "code",
      "metadata": {
        "id": "dnyUpG0B7QkI",
        "colab_type": "code",
        "colab": {
          "base_uri": "https://localhost:8080/",
          "height": 297
        },
        "outputId": "3aa55f18-d581-4e92-83e6-27d3a6761c7d"
      },
      "source": [
        "NY_combined_data = NY_combined_data.fillna(0)\n",
        "NY_combined_data.head(8)"
      ],
      "execution_count": 23,
      "outputs": [
        {
          "output_type": "execute_result",
          "data": {
            "text/html": [
              "<div>\n",
              "<style scoped>\n",
              "    .dataframe tbody tr th:only-of-type {\n",
              "        vertical-align: middle;\n",
              "    }\n",
              "\n",
              "    .dataframe tbody tr th {\n",
              "        vertical-align: top;\n",
              "    }\n",
              "\n",
              "    .dataframe thead th {\n",
              "        text-align: right;\n",
              "    }\n",
              "</style>\n",
              "<table border=\"1\" class=\"dataframe\">\n",
              "  <thead>\n",
              "    <tr style=\"text-align: right;\">\n",
              "      <th></th>\n",
              "      <th>Date</th>\n",
              "      <th>FIPS</th>\n",
              "      <th>New cases</th>\n",
              "      <th>rolling_avg_new_cases</th>\n",
              "      <th>Province_State</th>\n",
              "      <th>Confirmed</th>\n",
              "      <th>Deaths</th>\n",
              "      <th>New deaths</th>\n",
              "    </tr>\n",
              "  </thead>\n",
              "  <tbody>\n",
              "    <tr>\n",
              "      <th>0</th>\n",
              "      <td>2020-01-22</td>\n",
              "      <td>6001.0</td>\n",
              "      <td>0</td>\n",
              "      <td>0.0</td>\n",
              "      <td>California</td>\n",
              "      <td>0.0</td>\n",
              "      <td>0.0</td>\n",
              "      <td>0.0</td>\n",
              "    </tr>\n",
              "    <tr>\n",
              "      <th>1</th>\n",
              "      <td>2020-01-23</td>\n",
              "      <td>6001.0</td>\n",
              "      <td>0</td>\n",
              "      <td>0.0</td>\n",
              "      <td>California</td>\n",
              "      <td>0.0</td>\n",
              "      <td>0.0</td>\n",
              "      <td>0.0</td>\n",
              "    </tr>\n",
              "    <tr>\n",
              "      <th>2</th>\n",
              "      <td>2020-01-24</td>\n",
              "      <td>6001.0</td>\n",
              "      <td>0</td>\n",
              "      <td>0.0</td>\n",
              "      <td>California</td>\n",
              "      <td>0.0</td>\n",
              "      <td>0.0</td>\n",
              "      <td>0.0</td>\n",
              "    </tr>\n",
              "    <tr>\n",
              "      <th>3</th>\n",
              "      <td>2020-01-25</td>\n",
              "      <td>6001.0</td>\n",
              "      <td>0</td>\n",
              "      <td>0.0</td>\n",
              "      <td>California</td>\n",
              "      <td>0.0</td>\n",
              "      <td>0.0</td>\n",
              "      <td>0.0</td>\n",
              "    </tr>\n",
              "    <tr>\n",
              "      <th>4</th>\n",
              "      <td>2020-01-26</td>\n",
              "      <td>6001.0</td>\n",
              "      <td>0</td>\n",
              "      <td>0.0</td>\n",
              "      <td>California</td>\n",
              "      <td>0.0</td>\n",
              "      <td>0.0</td>\n",
              "      <td>0.0</td>\n",
              "    </tr>\n",
              "    <tr>\n",
              "      <th>5</th>\n",
              "      <td>2020-01-27</td>\n",
              "      <td>6001.0</td>\n",
              "      <td>0</td>\n",
              "      <td>0.0</td>\n",
              "      <td>California</td>\n",
              "      <td>0.0</td>\n",
              "      <td>0.0</td>\n",
              "      <td>0.0</td>\n",
              "    </tr>\n",
              "    <tr>\n",
              "      <th>6</th>\n",
              "      <td>2020-01-28</td>\n",
              "      <td>6001.0</td>\n",
              "      <td>0</td>\n",
              "      <td>0.0</td>\n",
              "      <td>California</td>\n",
              "      <td>0.0</td>\n",
              "      <td>0.0</td>\n",
              "      <td>0.0</td>\n",
              "    </tr>\n",
              "    <tr>\n",
              "      <th>7</th>\n",
              "      <td>2020-01-29</td>\n",
              "      <td>6001.0</td>\n",
              "      <td>0</td>\n",
              "      <td>0.0</td>\n",
              "      <td>California</td>\n",
              "      <td>0.0</td>\n",
              "      <td>0.0</td>\n",
              "      <td>0.0</td>\n",
              "    </tr>\n",
              "  </tbody>\n",
              "</table>\n",
              "</div>"
            ],
            "text/plain": [
              "         Date    FIPS  New cases  ...  Confirmed Deaths  New deaths\n",
              "0  2020-01-22  6001.0          0  ...        0.0    0.0         0.0\n",
              "1  2020-01-23  6001.0          0  ...        0.0    0.0         0.0\n",
              "2  2020-01-24  6001.0          0  ...        0.0    0.0         0.0\n",
              "3  2020-01-25  6001.0          0  ...        0.0    0.0         0.0\n",
              "4  2020-01-26  6001.0          0  ...        0.0    0.0         0.0\n",
              "5  2020-01-27  6001.0          0  ...        0.0    0.0         0.0\n",
              "6  2020-01-28  6001.0          0  ...        0.0    0.0         0.0\n",
              "7  2020-01-29  6001.0          0  ...        0.0    0.0         0.0\n",
              "\n",
              "[8 rows x 8 columns]"
            ]
          },
          "metadata": {
            "tags": []
          },
          "execution_count": 23
        }
      ]
    },
    {
      "cell_type": "code",
      "metadata": {
        "id": "qseoizcDL1by",
        "colab_type": "code",
        "colab": {}
      },
      "source": [
        "NY_combined_data['County Name'].unique()"
      ],
      "execution_count": null,
      "outputs": []
    },
    {
      "cell_type": "markdown",
      "metadata": {
        "id": "LobDpGCFMAbM",
        "colab_type": "text"
      },
      "source": [
        "## verifying Rolling average with visualizations"
      ]
    },
    {
      "cell_type": "code",
      "metadata": {
        "id": "CF3t0D6jL-53",
        "colab_type": "code",
        "colab": {
          "base_uri": "https://localhost:8080/",
          "height": 221
        },
        "outputId": "f96d1b9f-4910-40a1-b565-a92ffcce9b0b"
      },
      "source": [
        "la_county = NY_combined_data[NY_combined_data['FIPS'] == 6037]\n",
        "print(la_county.shape)\n",
        "la_county.head()"
      ],
      "execution_count": 28,
      "outputs": [
        {
          "output_type": "stream",
          "text": [
            "(213, 8)\n"
          ],
          "name": "stdout"
        },
        {
          "output_type": "execute_result",
          "data": {
            "text/html": [
              "<div>\n",
              "<style scoped>\n",
              "    .dataframe tbody tr th:only-of-type {\n",
              "        vertical-align: middle;\n",
              "    }\n",
              "\n",
              "    .dataframe tbody tr th {\n",
              "        vertical-align: top;\n",
              "    }\n",
              "\n",
              "    .dataframe thead th {\n",
              "        text-align: right;\n",
              "    }\n",
              "</style>\n",
              "<table border=\"1\" class=\"dataframe\">\n",
              "  <thead>\n",
              "    <tr style=\"text-align: right;\">\n",
              "      <th></th>\n",
              "      <th>Date</th>\n",
              "      <th>FIPS</th>\n",
              "      <th>New cases</th>\n",
              "      <th>rolling_avg_new_cases</th>\n",
              "      <th>Province_State</th>\n",
              "      <th>Confirmed</th>\n",
              "      <th>Deaths</th>\n",
              "      <th>New deaths</th>\n",
              "    </tr>\n",
              "  </thead>\n",
              "  <tbody>\n",
              "    <tr>\n",
              "      <th>3834</th>\n",
              "      <td>2020-01-22</td>\n",
              "      <td>6037.0</td>\n",
              "      <td>0</td>\n",
              "      <td>0.0</td>\n",
              "      <td>California</td>\n",
              "      <td>0.0</td>\n",
              "      <td>0.0</td>\n",
              "      <td>0.0</td>\n",
              "    </tr>\n",
              "    <tr>\n",
              "      <th>3835</th>\n",
              "      <td>2020-01-23</td>\n",
              "      <td>6037.0</td>\n",
              "      <td>0</td>\n",
              "      <td>0.0</td>\n",
              "      <td>California</td>\n",
              "      <td>0.0</td>\n",
              "      <td>0.0</td>\n",
              "      <td>0.0</td>\n",
              "    </tr>\n",
              "    <tr>\n",
              "      <th>3836</th>\n",
              "      <td>2020-01-24</td>\n",
              "      <td>6037.0</td>\n",
              "      <td>0</td>\n",
              "      <td>0.0</td>\n",
              "      <td>California</td>\n",
              "      <td>0.0</td>\n",
              "      <td>0.0</td>\n",
              "      <td>0.0</td>\n",
              "    </tr>\n",
              "    <tr>\n",
              "      <th>3837</th>\n",
              "      <td>2020-01-25</td>\n",
              "      <td>6037.0</td>\n",
              "      <td>0</td>\n",
              "      <td>0.0</td>\n",
              "      <td>California</td>\n",
              "      <td>0.0</td>\n",
              "      <td>0.0</td>\n",
              "      <td>0.0</td>\n",
              "    </tr>\n",
              "    <tr>\n",
              "      <th>3838</th>\n",
              "      <td>2020-01-26</td>\n",
              "      <td>6037.0</td>\n",
              "      <td>1</td>\n",
              "      <td>0.0</td>\n",
              "      <td>California</td>\n",
              "      <td>1.0</td>\n",
              "      <td>0.0</td>\n",
              "      <td>0.0</td>\n",
              "    </tr>\n",
              "  </tbody>\n",
              "</table>\n",
              "</div>"
            ],
            "text/plain": [
              "            Date    FIPS  New cases  ...  Confirmed Deaths  New deaths\n",
              "3834  2020-01-22  6037.0          0  ...        0.0    0.0         0.0\n",
              "3835  2020-01-23  6037.0          0  ...        0.0    0.0         0.0\n",
              "3836  2020-01-24  6037.0          0  ...        0.0    0.0         0.0\n",
              "3837  2020-01-25  6037.0          0  ...        0.0    0.0         0.0\n",
              "3838  2020-01-26  6037.0          1  ...        1.0    0.0         0.0\n",
              "\n",
              "[5 rows x 8 columns]"
            ]
          },
          "metadata": {
            "tags": []
          },
          "execution_count": 28
        }
      ]
    },
    {
      "cell_type": "code",
      "metadata": {
        "id": "_4cRjK3A59GK",
        "colab_type": "code",
        "colab": {
          "base_uri": "https://localhost:8080/",
          "height": 299
        },
        "outputId": "5aa7fac8-63b1-4c70-b446-5084803494dd"
      },
      "source": [
        "fig,ax = plt.subplots()\n",
        "# make a plot\n",
        "ax.plot(la_county.Date, la_county['rolling_avg_new_cases'], color=\"blue\")\n",
        "# set x-axis label\n",
        "ax.set_xlabel(\"Date\",fontsize=14)\n",
        "# set y-axis label\n",
        "ax.set_ylabel(\"rolling_avg_new_cases\",color=\"blue\",fontsize=14)\n",
        "ax2=ax.twinx()\n",
        "# make a plot with different y-axis using second axis object\n",
        "ax2.plot(la_county.Date, la_county[\"New cases\"],color=\"red\")\n",
        "ax2.set_ylabel(\"New cases\",color=\"blue\",fontsize=14)\n",
        "plt.title(\"'rolling_avg_new_cases' Vs New cases\")\n",
        "\n",
        "plt.show()"
      ],
      "execution_count": 29,
      "outputs": [
        {
          "output_type": "display_data",
          "data": {
            "image/png": "[encoded data removed]",
            "text/plain": [
              "<Figure size 432x288 with 2 Axes>"
            ]
          },
          "metadata": {
            "tags": [],
            "needs_background": "light"
          }
        }
      ]
    },
    {
      "cell_type": "markdown",
      "metadata": {
        "id": "Qcx8HY6Z7bZ2",
        "colab_type": "text"
      },
      "source": [
        "## Rolling window to compare every 2 weeks with next 2 weeks"
      ]
    },
    {
      "cell_type": "code",
      "metadata": {
        "id": "iGRvUuNGAKng",
        "colab_type": "code",
        "colab": {
          "base_uri": "https://localhost:8080/",
          "height": 204
        },
        "outputId": "31ecc480-d0ad-4b8f-ed39-862f8909d3ca"
      },
      "source": [
        "NY_combined_data = NY_combined_data.sort_values(by=['Date'])\n",
        "NY_combined_data.head()"
      ],
      "execution_count": 31,
      "outputs": [
        {
          "output_type": "execute_result",
          "data": {
            "text/html": [
              "<div>\n",
              "<style scoped>\n",
              "    .dataframe tbody tr th:only-of-type {\n",
              "        vertical-align: middle;\n",
              "    }\n",
              "\n",
              "    .dataframe tbody tr th {\n",
              "        vertical-align: top;\n",
              "    }\n",
              "\n",
              "    .dataframe thead th {\n",
              "        text-align: right;\n",
              "    }\n",
              "</style>\n",
              "<table border=\"1\" class=\"dataframe\">\n",
              "  <thead>\n",
              "    <tr style=\"text-align: right;\">\n",
              "      <th></th>\n",
              "      <th>Date</th>\n",
              "      <th>FIPS</th>\n",
              "      <th>New cases</th>\n",
              "      <th>rolling_avg_new_cases</th>\n",
              "      <th>Province_State</th>\n",
              "      <th>Confirmed</th>\n",
              "      <th>Deaths</th>\n",
              "      <th>New deaths</th>\n",
              "    </tr>\n",
              "  </thead>\n",
              "  <tbody>\n",
              "    <tr>\n",
              "      <th>0</th>\n",
              "      <td>2020-01-22</td>\n",
              "      <td>6001.0</td>\n",
              "      <td>0</td>\n",
              "      <td>0.0</td>\n",
              "      <td>California</td>\n",
              "      <td>0.0</td>\n",
              "      <td>0.0</td>\n",
              "      <td>0.0</td>\n",
              "    </tr>\n",
              "    <tr>\n",
              "      <th>12141</th>\n",
              "      <td>2020-01-22</td>\n",
              "      <td>6115.0</td>\n",
              "      <td>0</td>\n",
              "      <td>0.0</td>\n",
              "      <td>California</td>\n",
              "      <td>0.0</td>\n",
              "      <td>0.0</td>\n",
              "      <td>0.0</td>\n",
              "    </tr>\n",
              "    <tr>\n",
              "      <th>11289</th>\n",
              "      <td>2020-01-22</td>\n",
              "      <td>6107.0</td>\n",
              "      <td>0</td>\n",
              "      <td>0.0</td>\n",
              "      <td>California</td>\n",
              "      <td>0.0</td>\n",
              "      <td>0.0</td>\n",
              "      <td>0.0</td>\n",
              "    </tr>\n",
              "    <tr>\n",
              "      <th>1278</th>\n",
              "      <td>2020-01-22</td>\n",
              "      <td>6013.0</td>\n",
              "      <td>0</td>\n",
              "      <td>0.0</td>\n",
              "      <td>California</td>\n",
              "      <td>0.0</td>\n",
              "      <td>0.0</td>\n",
              "      <td>0.0</td>\n",
              "    </tr>\n",
              "    <tr>\n",
              "      <th>9798</th>\n",
              "      <td>2020-01-22</td>\n",
              "      <td>6093.0</td>\n",
              "      <td>0</td>\n",
              "      <td>0.0</td>\n",
              "      <td>California</td>\n",
              "      <td>0.0</td>\n",
              "      <td>0.0</td>\n",
              "      <td>0.0</td>\n",
              "    </tr>\n",
              "  </tbody>\n",
              "</table>\n",
              "</div>"
            ],
            "text/plain": [
              "             Date    FIPS  New cases  ...  Confirmed Deaths  New deaths\n",
              "0      2020-01-22  6001.0          0  ...        0.0    0.0         0.0\n",
              "12141  2020-01-22  6115.0          0  ...        0.0    0.0         0.0\n",
              "11289  2020-01-22  6107.0          0  ...        0.0    0.0         0.0\n",
              "1278   2020-01-22  6013.0          0  ...        0.0    0.0         0.0\n",
              "9798   2020-01-22  6093.0          0  ...        0.0    0.0         0.0\n",
              "\n",
              "[5 rows x 8 columns]"
            ]
          },
          "metadata": {
            "tags": []
          },
          "execution_count": 31
        }
      ]
    },
    {
      "cell_type": "code",
      "metadata": {
        "id": "S5hOPPppae01",
        "colab_type": "code",
        "colab": {}
      },
      "source": [
        ""
      ],
      "execution_count": null,
      "outputs": []
    },
    {
      "cell_type": "code",
      "metadata": {
        "id": "mx9hnOv70gtW",
        "colab_type": "code",
        "colab": {
          "base_uri": "https://localhost:8080/",
          "height": 419
        },
        "outputId": "d88378cc-4db6-424f-d188-ff152a547168"
      },
      "source": [
        "NY_combined_data[NY_combined_data['FIPS'] == 6037]"
      ],
      "execution_count": 32,
      "outputs": [
        {
          "output_type": "execute_result",
          "data": {
            "text/html": [
              "<div>\n",
              "<style scoped>\n",
              "    .dataframe tbody tr th:only-of-type {\n",
              "        vertical-align: middle;\n",
              "    }\n",
              "\n",
              "    .dataframe tbody tr th {\n",
              "        vertical-align: top;\n",
              "    }\n",
              "\n",
              "    .dataframe thead th {\n",
              "        text-align: right;\n",
              "    }\n",
              "</style>\n",
              "<table border=\"1\" class=\"dataframe\">\n",
              "  <thead>\n",
              "    <tr style=\"text-align: right;\">\n",
              "      <th></th>\n",
              "      <th>Date</th>\n",
              "      <th>FIPS</th>\n",
              "      <th>New cases</th>\n",
              "      <th>rolling_avg_new_cases</th>\n",
              "      <th>Province_State</th>\n",
              "      <th>Confirmed</th>\n",
              "      <th>Deaths</th>\n",
              "      <th>New deaths</th>\n",
              "    </tr>\n",
              "  </thead>\n",
              "  <tbody>\n",
              "    <tr>\n",
              "      <th>3834</th>\n",
              "      <td>2020-01-22</td>\n",
              "      <td>6037.0</td>\n",
              "      <td>0</td>\n",
              "      <td>0.000000</td>\n",
              "      <td>California</td>\n",
              "      <td>0.0</td>\n",
              "      <td>0.0</td>\n",
              "      <td>0.0</td>\n",
              "    </tr>\n",
              "    <tr>\n",
              "      <th>3835</th>\n",
              "      <td>2020-01-23</td>\n",
              "      <td>6037.0</td>\n",
              "      <td>0</td>\n",
              "      <td>0.000000</td>\n",
              "      <td>California</td>\n",
              "      <td>0.0</td>\n",
              "      <td>0.0</td>\n",
              "      <td>0.0</td>\n",
              "    </tr>\n",
              "    <tr>\n",
              "      <th>3836</th>\n",
              "      <td>2020-01-24</td>\n",
              "      <td>6037.0</td>\n",
              "      <td>0</td>\n",
              "      <td>0.000000</td>\n",
              "      <td>California</td>\n",
              "      <td>0.0</td>\n",
              "      <td>0.0</td>\n",
              "      <td>0.0</td>\n",
              "    </tr>\n",
              "    <tr>\n",
              "      <th>3837</th>\n",
              "      <td>2020-01-25</td>\n",
              "      <td>6037.0</td>\n",
              "      <td>0</td>\n",
              "      <td>0.000000</td>\n",
              "      <td>California</td>\n",
              "      <td>0.0</td>\n",
              "      <td>0.0</td>\n",
              "      <td>0.0</td>\n",
              "    </tr>\n",
              "    <tr>\n",
              "      <th>3838</th>\n",
              "      <td>2020-01-26</td>\n",
              "      <td>6037.0</td>\n",
              "      <td>1</td>\n",
              "      <td>0.000000</td>\n",
              "      <td>California</td>\n",
              "      <td>1.0</td>\n",
              "      <td>0.0</td>\n",
              "      <td>0.0</td>\n",
              "    </tr>\n",
              "    <tr>\n",
              "      <th>...</th>\n",
              "      <td>...</td>\n",
              "      <td>...</td>\n",
              "      <td>...</td>\n",
              "      <td>...</td>\n",
              "      <td>...</td>\n",
              "      <td>...</td>\n",
              "      <td>...</td>\n",
              "      <td>...</td>\n",
              "    </tr>\n",
              "    <tr>\n",
              "      <th>4042</th>\n",
              "      <td>2020-08-17</td>\n",
              "      <td>6037.0</td>\n",
              "      <td>1259</td>\n",
              "      <td>1812.428571</td>\n",
              "      <td>California</td>\n",
              "      <td>223230.0</td>\n",
              "      <td>5273.0</td>\n",
              "      <td>19.0</td>\n",
              "    </tr>\n",
              "    <tr>\n",
              "      <th>4043</th>\n",
              "      <td>2020-08-18</td>\n",
              "      <td>6037.0</td>\n",
              "      <td>875</td>\n",
              "      <td>1890.142857</td>\n",
              "      <td>California</td>\n",
              "      <td>224105.0</td>\n",
              "      <td>5340.0</td>\n",
              "      <td>67.0</td>\n",
              "    </tr>\n",
              "    <tr>\n",
              "      <th>4044</th>\n",
              "      <td>2020-08-19</td>\n",
              "      <td>6037.0</td>\n",
              "      <td>1722</td>\n",
              "      <td>1649.142857</td>\n",
              "      <td>California</td>\n",
              "      <td>225827.0</td>\n",
              "      <td>5392.0</td>\n",
              "      <td>52.0</td>\n",
              "    </tr>\n",
              "    <tr>\n",
              "      <th>4045</th>\n",
              "      <td>2020-08-20</td>\n",
              "      <td>6037.0</td>\n",
              "      <td>1519</td>\n",
              "      <td>1845.857143</td>\n",
              "      <td>California</td>\n",
              "      <td>227346.0</td>\n",
              "      <td>5446.0</td>\n",
              "      <td>54.0</td>\n",
              "    </tr>\n",
              "    <tr>\n",
              "      <th>4046</th>\n",
              "      <td>2020-08-21</td>\n",
              "      <td>6037.0</td>\n",
              "      <td>1708</td>\n",
              "      <td>1460.428571</td>\n",
              "      <td>California</td>\n",
              "      <td>229054.0</td>\n",
              "      <td>5491.0</td>\n",
              "      <td>45.0</td>\n",
              "    </tr>\n",
              "  </tbody>\n",
              "</table>\n",
              "<p>213 rows × 8 columns</p>\n",
              "</div>"
            ],
            "text/plain": [
              "            Date    FIPS  New cases  ...  Confirmed  Deaths  New deaths\n",
              "3834  2020-01-22  6037.0          0  ...        0.0     0.0         0.0\n",
              "3835  2020-01-23  6037.0          0  ...        0.0     0.0         0.0\n",
              "3836  2020-01-24  6037.0          0  ...        0.0     0.0         0.0\n",
              "3837  2020-01-25  6037.0          0  ...        0.0     0.0         0.0\n",
              "3838  2020-01-26  6037.0          1  ...        1.0     0.0         0.0\n",
              "...          ...     ...        ...  ...        ...     ...         ...\n",
              "4042  2020-08-17  6037.0       1259  ...   223230.0  5273.0        19.0\n",
              "4043  2020-08-18  6037.0        875  ...   224105.0  5340.0        67.0\n",
              "4044  2020-08-19  6037.0       1722  ...   225827.0  5392.0        52.0\n",
              "4045  2020-08-20  6037.0       1519  ...   227346.0  5446.0        54.0\n",
              "4046  2020-08-21  6037.0       1708  ...   229054.0  5491.0        45.0\n",
              "\n",
              "[213 rows x 8 columns]"
            ]
          },
          "metadata": {
            "tags": []
          },
          "execution_count": 32
        }
      ]
    },
    {
      "cell_type": "code",
      "metadata": {
        "id": "EFPKWovX-fM5",
        "colab_type": "code",
        "colab": {
          "base_uri": "https://localhost:8080/",
          "height": 34
        },
        "outputId": "0e97a40e-7443-4ded-ff26-1256ef303e22"
      },
      "source": [
        "minDate = NY_combined_data['Date'].min()\n",
        "print(minDate)\n",
        "\n",
        "dateList = NY_combined_data['Date'].unique()"
      ],
      "execution_count": 33,
      "outputs": [
        {
          "output_type": "stream",
          "text": [
            "2020-01-22\n"
          ],
          "name": "stdout"
        }
      ]
    },
    {
      "cell_type": "code",
      "metadata": {
        "id": "tFwnKPlk7mAQ",
        "colab_type": "code",
        "colab": {
          "base_uri": "https://localhost:8080/",
          "height": 34
        },
        "outputId": "86d6e8ce-1477-4d53-af95-5c8a4d1942e5"
      },
      "source": [
        "import datetime\n",
        "\n",
        "#dt_object = datetime.fromtimestamp(date)\n",
        "day_name= ['Monday', 'Tuesday', 'Wednesday', 'Thursday', 'Friday', 'Saturday','Sunday']\n",
        "\n",
        "day = datetime.datetime.strptime(minDate, '%Y-%m-%d').weekday()\n",
        "if day == 6:\n",
        "  day =0\n",
        "elif day < 6:\n",
        "  day += 1\n",
        "\n",
        "print(day)"
      ],
      "execution_count": 34,
      "outputs": [
        {
          "output_type": "stream",
          "text": [
            "3\n"
          ],
          "name": "stdout"
        }
      ]
    },
    {
      "cell_type": "code",
      "metadata": {
        "id": "sXf9Zgbq7l2a",
        "colab_type": "code",
        "colab": {
          "base_uri": "https://localhost:8080/",
          "height": 289
        },
        "outputId": "8453c776-d279-4aae-c19f-3d07ec14e3af"
      },
      "source": [
        "index = 0\n",
        "count = 0\n",
        "lst = []\n",
        "while index < len(dateList):\n",
        "  row = []\n",
        "  j = 14 - day;\n",
        "  # print(index,j)\n",
        "  # print(dateList[index:index+j])\n",
        "  weekRange = dateList[index:index+j]\n",
        "  #print(weekRange)\n",
        "  index = index+j \n",
        "  day = 0\n",
        "  count +=1\n",
        "  row.append(count)\n",
        "  row.append(weekRange.min())\n",
        "  row.append(weekRange.max())\n",
        "  print(row)\n",
        "  lst.append(row)\n",
        "  \n"
      ],
      "execution_count": 35,
      "outputs": [
        {
          "output_type": "stream",
          "text": [
            "[1, '2020-01-22', '2020-02-01']\n",
            "[2, '2020-02-02', '2020-02-15']\n",
            "[3, '2020-02-16', '2020-02-29']\n",
            "[4, '2020-03-01', '2020-03-14']\n",
            "[5, '2020-03-15', '2020-03-28']\n",
            "[6, '2020-03-29', '2020-04-11']\n",
            "[7, '2020-04-12', '2020-04-25']\n",
            "[8, '2020-04-26', '2020-05-09']\n",
            "[9, '2020-05-10', '2020-05-23']\n",
            "[10, '2020-05-24', '2020-06-06']\n",
            "[11, '2020-06-07', '2020-06-20']\n",
            "[12, '2020-06-21', '2020-07-04']\n",
            "[13, '2020-07-05', '2020-07-18']\n",
            "[14, '2020-07-19', '2020-08-01']\n",
            "[15, '2020-08-02', '2020-08-15']\n",
            "[16, '2020-08-16', '2020-08-21']\n"
          ],
          "name": "stdout"
        }
      ]
    },
    {
      "cell_type": "code",
      "metadata": {
        "id": "2_v44RrL_e4e",
        "colab_type": "code",
        "colab": {
          "base_uri": "https://localhost:8080/",
          "height": 111
        },
        "outputId": "d52f5b73-ea12-4179-a097-23850ebe6ab5"
      },
      "source": [
        "week_df = pd.DataFrame(lst,index=None,columns=['WeekNumber','startDate','endDate'])\n",
        "week_df.head(2)"
      ],
      "execution_count": 36,
      "outputs": [
        {
          "output_type": "execute_result",
          "data": {
            "text/html": [
              "<div>\n",
              "<style scoped>\n",
              "    .dataframe tbody tr th:only-of-type {\n",
              "        vertical-align: middle;\n",
              "    }\n",
              "\n",
              "    .dataframe tbody tr th {\n",
              "        vertical-align: top;\n",
              "    }\n",
              "\n",
              "    .dataframe thead th {\n",
              "        text-align: right;\n",
              "    }\n",
              "</style>\n",
              "<table border=\"1\" class=\"dataframe\">\n",
              "  <thead>\n",
              "    <tr style=\"text-align: right;\">\n",
              "      <th></th>\n",
              "      <th>WeekNumber</th>\n",
              "      <th>startDate</th>\n",
              "      <th>endDate</th>\n",
              "    </tr>\n",
              "  </thead>\n",
              "  <tbody>\n",
              "    <tr>\n",
              "      <th>0</th>\n",
              "      <td>1</td>\n",
              "      <td>2020-01-22</td>\n",
              "      <td>2020-02-01</td>\n",
              "    </tr>\n",
              "    <tr>\n",
              "      <th>1</th>\n",
              "      <td>2</td>\n",
              "      <td>2020-02-02</td>\n",
              "      <td>2020-02-15</td>\n",
              "    </tr>\n",
              "  </tbody>\n",
              "</table>\n",
              "</div>"
            ],
            "text/plain": [
              "   WeekNumber   startDate     endDate\n",
              "0           1  2020-01-22  2020-02-01\n",
              "1           2  2020-02-02  2020-02-15"
            ]
          },
          "metadata": {
            "tags": []
          },
          "execution_count": 36
        }
      ]
    },
    {
      "cell_type": "markdown",
      "metadata": {
        "id": "Csz6g-NvBoBT",
        "colab_type": "text"
      },
      "source": [
        "## Slice data for the week dataframe"
      ]
    },
    {
      "cell_type": "code",
      "metadata": {
        "id": "HhY1u2IVEzYm",
        "colab_type": "code",
        "colab": {}
      },
      "source": [
        "\n",
        "average_newCases_df = pd.DataFrame(columns=[  'FIPS',  'average_per_week','startDate','endDate'])\n",
        "\n",
        "for index, row in week_df.iterrows():\n",
        "    startDate, endDate = row['startDate'], row['endDate']\n",
        "    df_index = (NY_combined_data['Date'] >= startDate) & (NY_combined_data['Date'] <= endDate)\n",
        "    df_weekData =  NY_combined_data.loc[df_index]\n",
        "    df_base = (\n",
        "      df_weekData\n",
        "      .pipe(lambda x: x.assign(gains_pctg=x[\"rolling_avg_new_cases\"]))\n",
        "      .groupby(['FIPS'])\n",
        "      .agg({\"gains_pctg\": \"mean\"})\n",
        "      .reset_index()\n",
        "      .rename(columns={\"gains_pctg\": \"average_per_week\"})\n",
        "    )\n",
        "    df_base['startDate'] = startDate\n",
        "    df_base['endDate'] = endDate\n",
        "  \n",
        "    #print(startDate,endDate,df_base['average_per_week'])\n",
        "    average_newCases_df = average_newCases_df.append(df_base)\n"
      ],
      "execution_count": 38,
      "outputs": []
    },
    {
      "cell_type": "code",
      "metadata": {
        "id": "RZrr8I3DNa_J",
        "colab_type": "code",
        "colab": {}
      },
      "source": [
        "average_newCases_df.shape"
      ],
      "execution_count": null,
      "outputs": []
    },
    {
      "cell_type": "code",
      "metadata": {
        "id": "Gxc7bIt_xQpF",
        "colab_type": "code",
        "colab": {
          "base_uri": "https://localhost:8080/",
          "height": 545
        },
        "outputId": "e7de1414-958a-4a51-9c44-09b0f18f8aac"
      },
      "source": [
        "average_newCases_df[average_newCases_df['FIPS'] == 6037]"
      ],
      "execution_count": 39,
      "outputs": [
        {
          "output_type": "execute_result",
          "data": {
            "text/html": [
              "<div>\n",
              "<style scoped>\n",
              "    .dataframe tbody tr th:only-of-type {\n",
              "        vertical-align: middle;\n",
              "    }\n",
              "\n",
              "    .dataframe tbody tr th {\n",
              "        vertical-align: top;\n",
              "    }\n",
              "\n",
              "    .dataframe thead th {\n",
              "        text-align: right;\n",
              "    }\n",
              "</style>\n",
              "<table border=\"1\" class=\"dataframe\">\n",
              "  <thead>\n",
              "    <tr style=\"text-align: right;\">\n",
              "      <th></th>\n",
              "      <th>FIPS</th>\n",
              "      <th>average_per_week</th>\n",
              "      <th>startDate</th>\n",
              "      <th>endDate</th>\n",
              "    </tr>\n",
              "  </thead>\n",
              "  <tbody>\n",
              "    <tr>\n",
              "      <th>18</th>\n",
              "      <td>6037.0</td>\n",
              "      <td>0.064935</td>\n",
              "      <td>2020-01-22</td>\n",
              "      <td>2020-02-01</td>\n",
              "    </tr>\n",
              "    <tr>\n",
              "      <th>18</th>\n",
              "      <td>6037.0</td>\n",
              "      <td>0.000000</td>\n",
              "      <td>2020-02-02</td>\n",
              "      <td>2020-02-15</td>\n",
              "    </tr>\n",
              "    <tr>\n",
              "      <th>18</th>\n",
              "      <td>6037.0</td>\n",
              "      <td>0.000000</td>\n",
              "      <td>2020-02-16</td>\n",
              "      <td>2020-02-29</td>\n",
              "    </tr>\n",
              "    <tr>\n",
              "      <th>18</th>\n",
              "      <td>6037.0</td>\n",
              "      <td>1.969388</td>\n",
              "      <td>2020-03-01</td>\n",
              "      <td>2020-03-14</td>\n",
              "    </tr>\n",
              "    <tr>\n",
              "      <th>18</th>\n",
              "      <td>6037.0</td>\n",
              "      <td>65.061224</td>\n",
              "      <td>2020-03-15</td>\n",
              "      <td>2020-03-28</td>\n",
              "    </tr>\n",
              "    <tr>\n",
              "      <th>18</th>\n",
              "      <td>6037.0</td>\n",
              "      <td>460.224490</td>\n",
              "      <td>2020-03-29</td>\n",
              "      <td>2020-04-11</td>\n",
              "    </tr>\n",
              "    <tr>\n",
              "      <th>18</th>\n",
              "      <td>6037.0</td>\n",
              "      <td>625.520408</td>\n",
              "      <td>2020-04-12</td>\n",
              "      <td>2020-04-25</td>\n",
              "    </tr>\n",
              "    <tr>\n",
              "      <th>18</th>\n",
              "      <td>6037.0</td>\n",
              "      <td>882.826531</td>\n",
              "      <td>2020-04-26</td>\n",
              "      <td>2020-05-09</td>\n",
              "    </tr>\n",
              "    <tr>\n",
              "      <th>18</th>\n",
              "      <td>6037.0</td>\n",
              "      <td>884.377551</td>\n",
              "      <td>2020-05-10</td>\n",
              "      <td>2020-05-23</td>\n",
              "    </tr>\n",
              "    <tr>\n",
              "      <th>18</th>\n",
              "      <td>6037.0</td>\n",
              "      <td>1259.887755</td>\n",
              "      <td>2020-05-24</td>\n",
              "      <td>2020-06-06</td>\n",
              "    </tr>\n",
              "    <tr>\n",
              "      <th>18</th>\n",
              "      <td>6037.0</td>\n",
              "      <td>1319.897959</td>\n",
              "      <td>2020-06-07</td>\n",
              "      <td>2020-06-20</td>\n",
              "    </tr>\n",
              "    <tr>\n",
              "      <th>18</th>\n",
              "      <td>6037.0</td>\n",
              "      <td>1967.663265</td>\n",
              "      <td>2020-06-21</td>\n",
              "      <td>2020-07-04</td>\n",
              "    </tr>\n",
              "    <tr>\n",
              "      <th>18</th>\n",
              "      <td>6037.0</td>\n",
              "      <td>2787.020408</td>\n",
              "      <td>2020-07-05</td>\n",
              "      <td>2020-07-18</td>\n",
              "    </tr>\n",
              "    <tr>\n",
              "      <th>18</th>\n",
              "      <td>6037.0</td>\n",
              "      <td>2781.979592</td>\n",
              "      <td>2020-07-19</td>\n",
              "      <td>2020-08-01</td>\n",
              "    </tr>\n",
              "    <tr>\n",
              "      <th>18</th>\n",
              "      <td>6037.0</td>\n",
              "      <td>2253.153061</td>\n",
              "      <td>2020-08-02</td>\n",
              "      <td>2020-08-15</td>\n",
              "    </tr>\n",
              "    <tr>\n",
              "      <th>18</th>\n",
              "      <td>6037.0</td>\n",
              "      <td>1762.238095</td>\n",
              "      <td>2020-08-16</td>\n",
              "      <td>2020-08-21</td>\n",
              "    </tr>\n",
              "  </tbody>\n",
              "</table>\n",
              "</div>"
            ],
            "text/plain": [
              "      FIPS  average_per_week   startDate     endDate\n",
              "18  6037.0          0.064935  2020-01-22  2020-02-01\n",
              "18  6037.0          0.000000  2020-02-02  2020-02-15\n",
              "18  6037.0          0.000000  2020-02-16  2020-02-29\n",
              "18  6037.0          1.969388  2020-03-01  2020-03-14\n",
              "18  6037.0         65.061224  2020-03-15  2020-03-28\n",
              "18  6037.0        460.224490  2020-03-29  2020-04-11\n",
              "18  6037.0        625.520408  2020-04-12  2020-04-25\n",
              "18  6037.0        882.826531  2020-04-26  2020-05-09\n",
              "18  6037.0        884.377551  2020-05-10  2020-05-23\n",
              "18  6037.0       1259.887755  2020-05-24  2020-06-06\n",
              "18  6037.0       1319.897959  2020-06-07  2020-06-20\n",
              "18  6037.0       1967.663265  2020-06-21  2020-07-04\n",
              "18  6037.0       2787.020408  2020-07-05  2020-07-18\n",
              "18  6037.0       2781.979592  2020-07-19  2020-08-01\n",
              "18  6037.0       2253.153061  2020-08-02  2020-08-15\n",
              "18  6037.0       1762.238095  2020-08-16  2020-08-21"
            ]
          },
          "metadata": {
            "tags": []
          },
          "execution_count": 39
        }
      ]
    },
    {
      "cell_type": "markdown",
      "metadata": {
        "id": "CgXxxD4vNsE9",
        "colab_type": "text"
      },
      "source": [
        "## Verifying average per week data Eg., albany County"
      ]
    },
    {
      "cell_type": "code",
      "metadata": {
        "id": "3NdJAIRzNvt8",
        "colab_type": "code",
        "colab": {
          "base_uri": "https://localhost:8080/",
          "height": 272
        },
        "outputId": "1341d840-cd45-4567-beb8-b99957c44f5a"
      },
      "source": [
        "la_county[(albany_county['Date'] >= '2020-03-01') & (la_county['Date'] <= '2020-03-14') ]['rolling_avg_new_cases']\n",
        "\n"
      ],
      "execution_count": 40,
      "outputs": [
        {
          "output_type": "execute_result",
          "data": {
            "text/plain": [
              "3873    0.000000\n",
              "3874    0.000000\n",
              "3875    0.000000\n",
              "3876    0.857143\n",
              "3877    1.428571\n",
              "3878    1.714286\n",
              "3879    1.857143\n",
              "3880    1.857143\n",
              "3881    1.857143\n",
              "3882    2.714286\n",
              "3883    2.857143\n",
              "3884    3.000000\n",
              "3885    3.857143\n",
              "3886    5.571429\n",
              "Name: rolling_avg_new_cases, dtype: float64"
            ]
          },
          "metadata": {
            "tags": []
          },
          "execution_count": 40
        }
      ]
    },
    {
      "cell_type": "code",
      "metadata": {
        "id": "quHotP0Istvk",
        "colab_type": "code",
        "colab": {
          "base_uri": "https://localhost:8080/",
          "height": 359
        },
        "outputId": "45a592b5-9245-471f-b27d-bdd1ee7c5d72"
      },
      "source": [
        "average_newCases_df.head(10)"
      ],
      "execution_count": 41,
      "outputs": [
        {
          "output_type": "execute_result",
          "data": {
            "text/html": [
              "<div>\n",
              "<style scoped>\n",
              "    .dataframe tbody tr th:only-of-type {\n",
              "        vertical-align: middle;\n",
              "    }\n",
              "\n",
              "    .dataframe tbody tr th {\n",
              "        vertical-align: top;\n",
              "    }\n",
              "\n",
              "    .dataframe thead th {\n",
              "        text-align: right;\n",
              "    }\n",
              "</style>\n",
              "<table border=\"1\" class=\"dataframe\">\n",
              "  <thead>\n",
              "    <tr style=\"text-align: right;\">\n",
              "      <th></th>\n",
              "      <th>FIPS</th>\n",
              "      <th>average_per_week</th>\n",
              "      <th>startDate</th>\n",
              "      <th>endDate</th>\n",
              "    </tr>\n",
              "  </thead>\n",
              "  <tbody>\n",
              "    <tr>\n",
              "      <th>0</th>\n",
              "      <td>6001.0</td>\n",
              "      <td>0.0</td>\n",
              "      <td>2020-01-22</td>\n",
              "      <td>2020-02-01</td>\n",
              "    </tr>\n",
              "    <tr>\n",
              "      <th>1</th>\n",
              "      <td>6003.0</td>\n",
              "      <td>0.0</td>\n",
              "      <td>2020-01-22</td>\n",
              "      <td>2020-02-01</td>\n",
              "    </tr>\n",
              "    <tr>\n",
              "      <th>2</th>\n",
              "      <td>6005.0</td>\n",
              "      <td>0.0</td>\n",
              "      <td>2020-01-22</td>\n",
              "      <td>2020-02-01</td>\n",
              "    </tr>\n",
              "    <tr>\n",
              "      <th>3</th>\n",
              "      <td>6007.0</td>\n",
              "      <td>0.0</td>\n",
              "      <td>2020-01-22</td>\n",
              "      <td>2020-02-01</td>\n",
              "    </tr>\n",
              "    <tr>\n",
              "      <th>4</th>\n",
              "      <td>6009.0</td>\n",
              "      <td>0.0</td>\n",
              "      <td>2020-01-22</td>\n",
              "      <td>2020-02-01</td>\n",
              "    </tr>\n",
              "    <tr>\n",
              "      <th>5</th>\n",
              "      <td>6011.0</td>\n",
              "      <td>0.0</td>\n",
              "      <td>2020-01-22</td>\n",
              "      <td>2020-02-01</td>\n",
              "    </tr>\n",
              "    <tr>\n",
              "      <th>6</th>\n",
              "      <td>6013.0</td>\n",
              "      <td>0.0</td>\n",
              "      <td>2020-01-22</td>\n",
              "      <td>2020-02-01</td>\n",
              "    </tr>\n",
              "    <tr>\n",
              "      <th>7</th>\n",
              "      <td>6015.0</td>\n",
              "      <td>0.0</td>\n",
              "      <td>2020-01-22</td>\n",
              "      <td>2020-02-01</td>\n",
              "    </tr>\n",
              "    <tr>\n",
              "      <th>8</th>\n",
              "      <td>6017.0</td>\n",
              "      <td>0.0</td>\n",
              "      <td>2020-01-22</td>\n",
              "      <td>2020-02-01</td>\n",
              "    </tr>\n",
              "    <tr>\n",
              "      <th>9</th>\n",
              "      <td>6019.0</td>\n",
              "      <td>0.0</td>\n",
              "      <td>2020-01-22</td>\n",
              "      <td>2020-02-01</td>\n",
              "    </tr>\n",
              "  </tbody>\n",
              "</table>\n",
              "</div>"
            ],
            "text/plain": [
              "     FIPS  average_per_week   startDate     endDate\n",
              "0  6001.0               0.0  2020-01-22  2020-02-01\n",
              "1  6003.0               0.0  2020-01-22  2020-02-01\n",
              "2  6005.0               0.0  2020-01-22  2020-02-01\n",
              "3  6007.0               0.0  2020-01-22  2020-02-01\n",
              "4  6009.0               0.0  2020-01-22  2020-02-01\n",
              "5  6011.0               0.0  2020-01-22  2020-02-01\n",
              "6  6013.0               0.0  2020-01-22  2020-02-01\n",
              "7  6015.0               0.0  2020-01-22  2020-02-01\n",
              "8  6017.0               0.0  2020-01-22  2020-02-01\n",
              "9  6019.0               0.0  2020-01-22  2020-02-01"
            ]
          },
          "metadata": {
            "tags": []
          },
          "execution_count": 41
        }
      ]
    },
    {
      "cell_type": "markdown",
      "metadata": {
        "id": "GCBzR7f8tYEt",
        "colab_type": "text"
      },
      "source": [
        "## Finding the % growth or reduction in 'new cases' on every 2 week average"
      ]
    },
    {
      "cell_type": "code",
      "metadata": {
        "id": "STaI0DIctu5o",
        "colab_type": "code",
        "colab": {}
      },
      "source": [
        "average_newCases_df_ = average_newCases_df.copy()"
      ],
      "execution_count": 42,
      "outputs": []
    },
    {
      "cell_type": "code",
      "metadata": {
        "id": "b7LycDlnOYhs",
        "colab_type": "code",
        "colab": {
          "base_uri": "https://localhost:8080/",
          "height": 545
        },
        "outputId": "b7ff7cda-d8b5-4b85-be2e-414c682da3f6"
      },
      "source": [
        "albany_avg_newCases = average_newCases_df[average_newCases_df['FIPS'] == 6037]\n",
        "albany_avg_newCases"
      ],
      "execution_count": 43,
      "outputs": [
        {
          "output_type": "execute_result",
          "data": {
            "text/html": [
              "<div>\n",
              "<style scoped>\n",
              "    .dataframe tbody tr th:only-of-type {\n",
              "        vertical-align: middle;\n",
              "    }\n",
              "\n",
              "    .dataframe tbody tr th {\n",
              "        vertical-align: top;\n",
              "    }\n",
              "\n",
              "    .dataframe thead th {\n",
              "        text-align: right;\n",
              "    }\n",
              "</style>\n",
              "<table border=\"1\" class=\"dataframe\">\n",
              "  <thead>\n",
              "    <tr style=\"text-align: right;\">\n",
              "      <th></th>\n",
              "      <th>FIPS</th>\n",
              "      <th>average_per_week</th>\n",
              "      <th>startDate</th>\n",
              "      <th>endDate</th>\n",
              "    </tr>\n",
              "  </thead>\n",
              "  <tbody>\n",
              "    <tr>\n",
              "      <th>18</th>\n",
              "      <td>6037.0</td>\n",
              "      <td>0.064935</td>\n",
              "      <td>2020-01-22</td>\n",
              "      <td>2020-02-01</td>\n",
              "    </tr>\n",
              "    <tr>\n",
              "      <th>18</th>\n",
              "      <td>6037.0</td>\n",
              "      <td>0.000000</td>\n",
              "      <td>2020-02-02</td>\n",
              "      <td>2020-02-15</td>\n",
              "    </tr>\n",
              "    <tr>\n",
              "      <th>18</th>\n",
              "      <td>6037.0</td>\n",
              "      <td>0.000000</td>\n",
              "      <td>2020-02-16</td>\n",
              "      <td>2020-02-29</td>\n",
              "    </tr>\n",
              "    <tr>\n",
              "      <th>18</th>\n",
              "      <td>6037.0</td>\n",
              "      <td>1.969388</td>\n",
              "      <td>2020-03-01</td>\n",
              "      <td>2020-03-14</td>\n",
              "    </tr>\n",
              "    <tr>\n",
              "      <th>18</th>\n",
              "      <td>6037.0</td>\n",
              "      <td>65.061224</td>\n",
              "      <td>2020-03-15</td>\n",
              "      <td>2020-03-28</td>\n",
              "    </tr>\n",
              "    <tr>\n",
              "      <th>18</th>\n",
              "      <td>6037.0</td>\n",
              "      <td>460.224490</td>\n",
              "      <td>2020-03-29</td>\n",
              "      <td>2020-04-11</td>\n",
              "    </tr>\n",
              "    <tr>\n",
              "      <th>18</th>\n",
              "      <td>6037.0</td>\n",
              "      <td>625.520408</td>\n",
              "      <td>2020-04-12</td>\n",
              "      <td>2020-04-25</td>\n",
              "    </tr>\n",
              "    <tr>\n",
              "      <th>18</th>\n",
              "      <td>6037.0</td>\n",
              "      <td>882.826531</td>\n",
              "      <td>2020-04-26</td>\n",
              "      <td>2020-05-09</td>\n",
              "    </tr>\n",
              "    <tr>\n",
              "      <th>18</th>\n",
              "      <td>6037.0</td>\n",
              "      <td>884.377551</td>\n",
              "      <td>2020-05-10</td>\n",
              "      <td>2020-05-23</td>\n",
              "    </tr>\n",
              "    <tr>\n",
              "      <th>18</th>\n",
              "      <td>6037.0</td>\n",
              "      <td>1259.887755</td>\n",
              "      <td>2020-05-24</td>\n",
              "      <td>2020-06-06</td>\n",
              "    </tr>\n",
              "    <tr>\n",
              "      <th>18</th>\n",
              "      <td>6037.0</td>\n",
              "      <td>1319.897959</td>\n",
              "      <td>2020-06-07</td>\n",
              "      <td>2020-06-20</td>\n",
              "    </tr>\n",
              "    <tr>\n",
              "      <th>18</th>\n",
              "      <td>6037.0</td>\n",
              "      <td>1967.663265</td>\n",
              "      <td>2020-06-21</td>\n",
              "      <td>2020-07-04</td>\n",
              "    </tr>\n",
              "    <tr>\n",
              "      <th>18</th>\n",
              "      <td>6037.0</td>\n",
              "      <td>2787.020408</td>\n",
              "      <td>2020-07-05</td>\n",
              "      <td>2020-07-18</td>\n",
              "    </tr>\n",
              "    <tr>\n",
              "      <th>18</th>\n",
              "      <td>6037.0</td>\n",
              "      <td>2781.979592</td>\n",
              "      <td>2020-07-19</td>\n",
              "      <td>2020-08-01</td>\n",
              "    </tr>\n",
              "    <tr>\n",
              "      <th>18</th>\n",
              "      <td>6037.0</td>\n",
              "      <td>2253.153061</td>\n",
              "      <td>2020-08-02</td>\n",
              "      <td>2020-08-15</td>\n",
              "    </tr>\n",
              "    <tr>\n",
              "      <th>18</th>\n",
              "      <td>6037.0</td>\n",
              "      <td>1762.238095</td>\n",
              "      <td>2020-08-16</td>\n",
              "      <td>2020-08-21</td>\n",
              "    </tr>\n",
              "  </tbody>\n",
              "</table>\n",
              "</div>"
            ],
            "text/plain": [
              "      FIPS  average_per_week   startDate     endDate\n",
              "18  6037.0          0.064935  2020-01-22  2020-02-01\n",
              "18  6037.0          0.000000  2020-02-02  2020-02-15\n",
              "18  6037.0          0.000000  2020-02-16  2020-02-29\n",
              "18  6037.0          1.969388  2020-03-01  2020-03-14\n",
              "18  6037.0         65.061224  2020-03-15  2020-03-28\n",
              "18  6037.0        460.224490  2020-03-29  2020-04-11\n",
              "18  6037.0        625.520408  2020-04-12  2020-04-25\n",
              "18  6037.0        882.826531  2020-04-26  2020-05-09\n",
              "18  6037.0        884.377551  2020-05-10  2020-05-23\n",
              "18  6037.0       1259.887755  2020-05-24  2020-06-06\n",
              "18  6037.0       1319.897959  2020-06-07  2020-06-20\n",
              "18  6037.0       1967.663265  2020-06-21  2020-07-04\n",
              "18  6037.0       2787.020408  2020-07-05  2020-07-18\n",
              "18  6037.0       2781.979592  2020-07-19  2020-08-01\n",
              "18  6037.0       2253.153061  2020-08-02  2020-08-15\n",
              "18  6037.0       1762.238095  2020-08-16  2020-08-21"
            ]
          },
          "metadata": {
            "tags": []
          },
          "execution_count": 43
        }
      ]
    },
    {
      "cell_type": "code",
      "metadata": {
        "id": "28sIpvLbtYbY",
        "colab_type": "code",
        "colab": {}
      },
      "source": [
        "# average_newCases_df = average_newCases_df.sort_values(by=['startDate','endDate'])\n",
        "\n",
        "# print(average_newCases_df.shape)\n",
        "# temp = average_newCases_df.groupby(['County Name','fips_x','startDate','endDate'])['average_per_week']\n",
        "# temp = temp.sum().diff().reset_index()\n",
        "# print(\"-------------\")\n",
        "# print(temp)\n",
        "# print(temp.shape)\n",
        "\n",
        "# average_newCases_df2 = average_newCases_df.merge(temp,on=['County Name','fips_x','startDate','endDate'])\n",
        "# print(average_newCases_df2.shape)"
      ],
      "execution_count": null,
      "outputs": []
    },
    {
      "cell_type": "code",
      "metadata": {
        "id": "xZEGXxJeDas1",
        "colab_type": "code",
        "colab": {}
      },
      "source": [
        "average_newCases_df.head()"
      ],
      "execution_count": null,
      "outputs": []
    },
    {
      "cell_type": "code",
      "metadata": {
        "id": "3NnvBzuWEG2q",
        "colab_type": "code",
        "colab": {}
      },
      "source": [
        "# average_newCases_df = average_newCases_df.sort_values(by=['startDate','endDate'])\n",
        "\n",
        "# print(average_newCases_df.shape)\n",
        "# temp = average_newCases_df.groupby(['County Name','fips_x','startDate','endDate'])['average_per_week']\n",
        "# temp = temp.sum().diff().reset_index()\n",
        "# print(\"-------------\")\n",
        "# print(temp)\n",
        "# print(temp.shape)\n",
        "\n",
        "# average_newCases_df2 = average_newCases_df.merge(temp,on=['County Name','fips_x','startDate','endDate'])\n",
        "# print(average_newCases_df2.shape)"
      ],
      "execution_count": null,
      "outputs": []
    },
    {
      "cell_type": "code",
      "metadata": {
        "id": "8FRbXmBoHlCM",
        "colab_type": "code",
        "colab": {
          "base_uri": "https://localhost:8080/",
          "height": 204
        },
        "outputId": "e870ae17-1791-45f1-bc1d-f763bac7b1cf"
      },
      "source": [
        "average_newCases_df2 = average_newCases_df.copy()\n",
        "\n",
        "average_newCases_df2 = average_newCases_df2.reset_index(drop=True)\n",
        "average_newCases_df2.head()"
      ],
      "execution_count": 44,
      "outputs": [
        {
          "output_type": "execute_result",
          "data": {
            "text/html": [
              "<div>\n",
              "<style scoped>\n",
              "    .dataframe tbody tr th:only-of-type {\n",
              "        vertical-align: middle;\n",
              "    }\n",
              "\n",
              "    .dataframe tbody tr th {\n",
              "        vertical-align: top;\n",
              "    }\n",
              "\n",
              "    .dataframe thead th {\n",
              "        text-align: right;\n",
              "    }\n",
              "</style>\n",
              "<table border=\"1\" class=\"dataframe\">\n",
              "  <thead>\n",
              "    <tr style=\"text-align: right;\">\n",
              "      <th></th>\n",
              "      <th>FIPS</th>\n",
              "      <th>average_per_week</th>\n",
              "      <th>startDate</th>\n",
              "      <th>endDate</th>\n",
              "    </tr>\n",
              "  </thead>\n",
              "  <tbody>\n",
              "    <tr>\n",
              "      <th>0</th>\n",
              "      <td>6001.0</td>\n",
              "      <td>0.0</td>\n",
              "      <td>2020-01-22</td>\n",
              "      <td>2020-02-01</td>\n",
              "    </tr>\n",
              "    <tr>\n",
              "      <th>1</th>\n",
              "      <td>6003.0</td>\n",
              "      <td>0.0</td>\n",
              "      <td>2020-01-22</td>\n",
              "      <td>2020-02-01</td>\n",
              "    </tr>\n",
              "    <tr>\n",
              "      <th>2</th>\n",
              "      <td>6005.0</td>\n",
              "      <td>0.0</td>\n",
              "      <td>2020-01-22</td>\n",
              "      <td>2020-02-01</td>\n",
              "    </tr>\n",
              "    <tr>\n",
              "      <th>3</th>\n",
              "      <td>6007.0</td>\n",
              "      <td>0.0</td>\n",
              "      <td>2020-01-22</td>\n",
              "      <td>2020-02-01</td>\n",
              "    </tr>\n",
              "    <tr>\n",
              "      <th>4</th>\n",
              "      <td>6009.0</td>\n",
              "      <td>0.0</td>\n",
              "      <td>2020-01-22</td>\n",
              "      <td>2020-02-01</td>\n",
              "    </tr>\n",
              "  </tbody>\n",
              "</table>\n",
              "</div>"
            ],
            "text/plain": [
              "     FIPS  average_per_week   startDate     endDate\n",
              "0  6001.0               0.0  2020-01-22  2020-02-01\n",
              "1  6003.0               0.0  2020-01-22  2020-02-01\n",
              "2  6005.0               0.0  2020-01-22  2020-02-01\n",
              "3  6007.0               0.0  2020-01-22  2020-02-01\n",
              "4  6009.0               0.0  2020-01-22  2020-02-01"
            ]
          },
          "metadata": {
            "tags": []
          },
          "execution_count": 44
        }
      ]
    },
    {
      "cell_type": "code",
      "metadata": {
        "id": "rmPztsYYDSKJ",
        "colab_type": "code",
        "colab": {
          "base_uri": "https://localhost:8080/",
          "height": 221
        },
        "outputId": "e6a2aaaf-4971-4409-a99d-ce4610509d6d"
      },
      "source": [
        "average_newCases_df2['diff_avg_x'] = average_newCases_df2.sort_values(['startDate','endDate']).groupby(['FIPS'])['average_per_week'].diff().fillna(0)\n",
        "\n",
        "print(average_newCases_df2.shape)\n",
        "average_newCases_df2.head()\n"
      ],
      "execution_count": 46,
      "outputs": [
        {
          "output_type": "stream",
          "text": [
            "(944, 5)\n"
          ],
          "name": "stdout"
        },
        {
          "output_type": "execute_result",
          "data": {
            "text/html": [
              "<div>\n",
              "<style scoped>\n",
              "    .dataframe tbody tr th:only-of-type {\n",
              "        vertical-align: middle;\n",
              "    }\n",
              "\n",
              "    .dataframe tbody tr th {\n",
              "        vertical-align: top;\n",
              "    }\n",
              "\n",
              "    .dataframe thead th {\n",
              "        text-align: right;\n",
              "    }\n",
              "</style>\n",
              "<table border=\"1\" class=\"dataframe\">\n",
              "  <thead>\n",
              "    <tr style=\"text-align: right;\">\n",
              "      <th></th>\n",
              "      <th>FIPS</th>\n",
              "      <th>average_per_week</th>\n",
              "      <th>startDate</th>\n",
              "      <th>endDate</th>\n",
              "      <th>diff_avg_x</th>\n",
              "    </tr>\n",
              "  </thead>\n",
              "  <tbody>\n",
              "    <tr>\n",
              "      <th>0</th>\n",
              "      <td>6001.0</td>\n",
              "      <td>0.0</td>\n",
              "      <td>2020-01-22</td>\n",
              "      <td>2020-02-01</td>\n",
              "      <td>0.0</td>\n",
              "    </tr>\n",
              "    <tr>\n",
              "      <th>1</th>\n",
              "      <td>6003.0</td>\n",
              "      <td>0.0</td>\n",
              "      <td>2020-01-22</td>\n",
              "      <td>2020-02-01</td>\n",
              "      <td>0.0</td>\n",
              "    </tr>\n",
              "    <tr>\n",
              "      <th>2</th>\n",
              "      <td>6005.0</td>\n",
              "      <td>0.0</td>\n",
              "      <td>2020-01-22</td>\n",
              "      <td>2020-02-01</td>\n",
              "      <td>0.0</td>\n",
              "    </tr>\n",
              "    <tr>\n",
              "      <th>3</th>\n",
              "      <td>6007.0</td>\n",
              "      <td>0.0</td>\n",
              "      <td>2020-01-22</td>\n",
              "      <td>2020-02-01</td>\n",
              "      <td>0.0</td>\n",
              "    </tr>\n",
              "    <tr>\n",
              "      <th>4</th>\n",
              "      <td>6009.0</td>\n",
              "      <td>0.0</td>\n",
              "      <td>2020-01-22</td>\n",
              "      <td>2020-02-01</td>\n",
              "      <td>0.0</td>\n",
              "    </tr>\n",
              "  </tbody>\n",
              "</table>\n",
              "</div>"
            ],
            "text/plain": [
              "     FIPS  average_per_week   startDate     endDate  diff_avg_x\n",
              "0  6001.0               0.0  2020-01-22  2020-02-01         0.0\n",
              "1  6003.0               0.0  2020-01-22  2020-02-01         0.0\n",
              "2  6005.0               0.0  2020-01-22  2020-02-01         0.0\n",
              "3  6007.0               0.0  2020-01-22  2020-02-01         0.0\n",
              "4  6009.0               0.0  2020-01-22  2020-02-01         0.0"
            ]
          },
          "metadata": {
            "tags": []
          },
          "execution_count": 46
        }
      ]
    },
    {
      "cell_type": "code",
      "metadata": {
        "id": "klc9CwxhHXIn",
        "colab_type": "code",
        "colab": {}
      },
      "source": [
        "average_newCases_df2[average_newCases_df2['County Name'] == 'Yates County']"
      ],
      "execution_count": null,
      "outputs": []
    },
    {
      "cell_type": "code",
      "metadata": {
        "id": "VENF-VRSOpBY",
        "colab_type": "code",
        "colab": {}
      },
      "source": [
        "average_newCases_df2[average_newCases_df2['County Name'] == 'Albany County']"
      ],
      "execution_count": null,
      "outputs": []
    },
    {
      "cell_type": "code",
      "metadata": {
        "id": "a0OWsIoDxbrS",
        "colab_type": "code",
        "colab": {
          "base_uri": "https://localhost:8080/",
          "height": 204
        },
        "outputId": "2f1abd7b-0646-4ebf-873c-eba7d4714476"
      },
      "source": [
        "average_newCases_df2[average_newCases_df2['FIPS'] == 6037].head(5)"
      ],
      "execution_count": 48,
      "outputs": [
        {
          "output_type": "execute_result",
          "data": {
            "text/html": [
              "<div>\n",
              "<style scoped>\n",
              "    .dataframe tbody tr th:only-of-type {\n",
              "        vertical-align: middle;\n",
              "    }\n",
              "\n",
              "    .dataframe tbody tr th {\n",
              "        vertical-align: top;\n",
              "    }\n",
              "\n",
              "    .dataframe thead th {\n",
              "        text-align: right;\n",
              "    }\n",
              "</style>\n",
              "<table border=\"1\" class=\"dataframe\">\n",
              "  <thead>\n",
              "    <tr style=\"text-align: right;\">\n",
              "      <th></th>\n",
              "      <th>FIPS</th>\n",
              "      <th>average_per_week</th>\n",
              "      <th>startDate</th>\n",
              "      <th>endDate</th>\n",
              "      <th>diff_avg_x</th>\n",
              "    </tr>\n",
              "  </thead>\n",
              "  <tbody>\n",
              "    <tr>\n",
              "      <th>18</th>\n",
              "      <td>6037.0</td>\n",
              "      <td>0.064935</td>\n",
              "      <td>2020-01-22</td>\n",
              "      <td>2020-02-01</td>\n",
              "      <td>0.000000</td>\n",
              "    </tr>\n",
              "    <tr>\n",
              "      <th>77</th>\n",
              "      <td>6037.0</td>\n",
              "      <td>0.000000</td>\n",
              "      <td>2020-02-02</td>\n",
              "      <td>2020-02-15</td>\n",
              "      <td>-0.064935</td>\n",
              "    </tr>\n",
              "    <tr>\n",
              "      <th>136</th>\n",
              "      <td>6037.0</td>\n",
              "      <td>0.000000</td>\n",
              "      <td>2020-02-16</td>\n",
              "      <td>2020-02-29</td>\n",
              "      <td>0.000000</td>\n",
              "    </tr>\n",
              "    <tr>\n",
              "      <th>195</th>\n",
              "      <td>6037.0</td>\n",
              "      <td>1.969388</td>\n",
              "      <td>2020-03-01</td>\n",
              "      <td>2020-03-14</td>\n",
              "      <td>1.969388</td>\n",
              "    </tr>\n",
              "    <tr>\n",
              "      <th>254</th>\n",
              "      <td>6037.0</td>\n",
              "      <td>65.061224</td>\n",
              "      <td>2020-03-15</td>\n",
              "      <td>2020-03-28</td>\n",
              "      <td>63.091837</td>\n",
              "    </tr>\n",
              "  </tbody>\n",
              "</table>\n",
              "</div>"
            ],
            "text/plain": [
              "       FIPS  average_per_week   startDate     endDate  diff_avg_x\n",
              "18   6037.0          0.064935  2020-01-22  2020-02-01    0.000000\n",
              "77   6037.0          0.000000  2020-02-02  2020-02-15   -0.064935\n",
              "136  6037.0          0.000000  2020-02-16  2020-02-29    0.000000\n",
              "195  6037.0          1.969388  2020-03-01  2020-03-14    1.969388\n",
              "254  6037.0         65.061224  2020-03-15  2020-03-28   63.091837"
            ]
          },
          "metadata": {
            "tags": []
          },
          "execution_count": 48
        }
      ]
    },
    {
      "cell_type": "code",
      "metadata": {
        "id": "-e91OG6-BSwC",
        "colab_type": "code",
        "colab": {}
      },
      "source": [
        "average_newCases_df2[average_newCases_df2['County Name'] == 'Yates County']"
      ],
      "execution_count": null,
      "outputs": []
    },
    {
      "cell_type": "code",
      "metadata": {
        "id": "BGjjdDVzv0iB",
        "colab_type": "code",
        "colab": {}
      },
      "source": [
        "average_newCases_df2.head()"
      ],
      "execution_count": null,
      "outputs": []
    },
    {
      "cell_type": "code",
      "metadata": {
        "id": "CBmjNsOOv4Bc",
        "colab_type": "code",
        "colab": {}
      },
      "source": [
        "average_newCases_df2 = average_newCases_df2.fillna(0)"
      ],
      "execution_count": 49,
      "outputs": []
    },
    {
      "cell_type": "code",
      "metadata": {
        "id": "p2QGJ-s3v6-f",
        "colab_type": "code",
        "colab": {}
      },
      "source": [
        "average_newCases_df2.head()"
      ],
      "execution_count": null,
      "outputs": []
    },
    {
      "cell_type": "code",
      "metadata": {
        "id": "KomHadrGYd01",
        "colab_type": "code",
        "colab": {}
      },
      "source": [
        "#not working\n",
        "#average_newCases_df2['pct_change_newcases'] = average_newCases_df2.sort_values(['startDate','endDate']).groupby(['County Name', 'fips_x','startDate','endDate']).average_per_week_y.pct_change()"
      ],
      "execution_count": null,
      "outputs": []
    },
    {
      "cell_type": "markdown",
      "metadata": {
        "id": "SAgjy14mkQ5h",
        "colab_type": "text"
      },
      "source": [
        "Shifting average_per_week_x\t column value for formula. Means previous row's value will be come to the current row."
      ]
    },
    {
      "cell_type": "code",
      "metadata": {
        "id": "qTS6lOxegQVH",
        "colab_type": "code",
        "colab": {}
      },
      "source": [
        "average_newCases_df2['shift_avg_x'] = average_newCases_df2.sort_values(['startDate','endDate']).groupby(['FIPS'])['average_per_week'].shift()"
      ],
      "execution_count": 51,
      "outputs": []
    },
    {
      "cell_type": "code",
      "metadata": {
        "id": "i8Tk5tMCZlDY",
        "colab_type": "code",
        "colab": {}
      },
      "source": [
        "average_newCases_df2.groupby(by=['County Name', 'fips_x','startDate','endDate']).sum()"
      ],
      "execution_count": null,
      "outputs": []
    },
    {
      "cell_type": "code",
      "metadata": {
        "id": "NyE08elJ_WzM",
        "colab_type": "code",
        "colab": {}
      },
      "source": [
        "average_newCases_df2[average_newCases_df2['County Name'] == 'Yates County']"
      ],
      "execution_count": null,
      "outputs": []
    },
    {
      "cell_type": "code",
      "metadata": {
        "id": "j5Z4bIspwE2c",
        "colab_type": "code",
        "colab": {
          "base_uri": "https://localhost:8080/",
          "height": 204
        },
        "outputId": "d0260a07-d84f-4811-89fe-d978abd1c7ef"
      },
      "source": [
        "average_newCases_df2['percent_newcases'] = average_newCases_df2.apply(lambda x: (x.diff_avg_x) / x.shift_avg_x if x.shift_avg_x > 0.0 else 0 , axis=1)\n",
        "\n",
        "\n",
        "average_newCases_df2.tail()\n"
      ],
      "execution_count": 52,
      "outputs": [
        {
          "output_type": "execute_result",
          "data": {
            "text/html": [
              "<div>\n",
              "<style scoped>\n",
              "    .dataframe tbody tr th:only-of-type {\n",
              "        vertical-align: middle;\n",
              "    }\n",
              "\n",
              "    .dataframe tbody tr th {\n",
              "        vertical-align: top;\n",
              "    }\n",
              "\n",
              "    .dataframe thead th {\n",
              "        text-align: right;\n",
              "    }\n",
              "</style>\n",
              "<table border=\"1\" class=\"dataframe\">\n",
              "  <thead>\n",
              "    <tr style=\"text-align: right;\">\n",
              "      <th></th>\n",
              "      <th>FIPS</th>\n",
              "      <th>average_per_week</th>\n",
              "      <th>startDate</th>\n",
              "      <th>endDate</th>\n",
              "      <th>diff_avg_x</th>\n",
              "      <th>shift_avg_x</th>\n",
              "      <th>percent_newcases</th>\n",
              "    </tr>\n",
              "  </thead>\n",
              "  <tbody>\n",
              "    <tr>\n",
              "      <th>939</th>\n",
              "      <td>6109.0</td>\n",
              "      <td>1.119048</td>\n",
              "      <td>2020-08-16</td>\n",
              "      <td>2020-08-21</td>\n",
              "      <td>-0.554422</td>\n",
              "      <td>1.673469</td>\n",
              "      <td>-0.331301</td>\n",
              "    </tr>\n",
              "    <tr>\n",
              "      <th>940</th>\n",
              "      <td>6111.0</td>\n",
              "      <td>99.000000</td>\n",
              "      <td>2020-08-16</td>\n",
              "      <td>2020-08-21</td>\n",
              "      <td>-31.897959</td>\n",
              "      <td>130.897959</td>\n",
              "      <td>-0.243686</td>\n",
              "    </tr>\n",
              "    <tr>\n",
              "      <th>941</th>\n",
              "      <td>6113.0</td>\n",
              "      <td>33.309524</td>\n",
              "      <td>2020-08-16</td>\n",
              "      <td>2020-08-21</td>\n",
              "      <td>3.901361</td>\n",
              "      <td>29.408163</td>\n",
              "      <td>0.132663</td>\n",
              "    </tr>\n",
              "    <tr>\n",
              "      <th>942</th>\n",
              "      <td>6115.0</td>\n",
              "      <td>17.976190</td>\n",
              "      <td>2020-08-16</td>\n",
              "      <td>2020-08-21</td>\n",
              "      <td>-0.278912</td>\n",
              "      <td>18.255102</td>\n",
              "      <td>-0.015279</td>\n",
              "    </tr>\n",
              "    <tr>\n",
              "      <th>943</th>\n",
              "      <td>90006.0</td>\n",
              "      <td>0.000000</td>\n",
              "      <td>2020-08-16</td>\n",
              "      <td>2020-08-21</td>\n",
              "      <td>0.000000</td>\n",
              "      <td>0.000000</td>\n",
              "      <td>0.000000</td>\n",
              "    </tr>\n",
              "  </tbody>\n",
              "</table>\n",
              "</div>"
            ],
            "text/plain": [
              "        FIPS  average_per_week  ... shift_avg_x percent_newcases\n",
              "939   6109.0          1.119048  ...    1.673469        -0.331301\n",
              "940   6111.0         99.000000  ...  130.897959        -0.243686\n",
              "941   6113.0         33.309524  ...   29.408163         0.132663\n",
              "942   6115.0         17.976190  ...   18.255102        -0.015279\n",
              "943  90006.0          0.000000  ...    0.000000         0.000000\n",
              "\n",
              "[5 rows x 7 columns]"
            ]
          },
          "metadata": {
            "tags": []
          },
          "execution_count": 52
        }
      ]
    },
    {
      "cell_type": "code",
      "metadata": {
        "id": "Ee6qZiyqAF1z",
        "colab_type": "code",
        "colab": {}
      },
      "source": [
        "average_newCases_df2[average_newCases_df2['County Name'] == 'Yates County']"
      ],
      "execution_count": null,
      "outputs": []
    },
    {
      "cell_type": "markdown",
      "metadata": {
        "id": "wzm1F8eZJYLj",
        "colab_type": "text"
      },
      "source": [
        "# Labeling data as per % change"
      ]
    },
    {
      "cell_type": "code",
      "metadata": {
        "id": "oXCqAaH7Jalh",
        "colab_type": "code",
        "colab": {}
      },
      "source": [
        "average_newCases_df2.describe()"
      ],
      "execution_count": null,
      "outputs": []
    },
    {
      "cell_type": "code",
      "metadata": {
        "id": "OAVQINmwKAvv",
        "colab_type": "code",
        "colab": {}
      },
      "source": [
        "la_county = average_newCases_df2[average_newCases_df2['FIPS'] == 6037]"
      ],
      "execution_count": 53,
      "outputs": []
    },
    {
      "cell_type": "code",
      "metadata": {
        "id": "9IN8UI7rJ84S",
        "colab_type": "code",
        "colab": {
          "base_uri": "https://localhost:8080/",
          "height": 299
        },
        "outputId": "4a22d4e6-bb22-4e35-b864-8d9f370e6655"
      },
      "source": [
        "fig,ax = plt.subplots()\n",
        "# make a plot\n",
        "ax.plot(la_county.startDate, la_county['percent_newcases'], color=\"blue\")\n",
        "# set x-axis label\n",
        "ax.set_xlabel(\"Date\",fontsize=14)\n",
        "# set y-axis label\n",
        "ax.set_ylabel(\"percent_newcases\",color=\"blue\",fontsize=14)\n",
        "# ax2=ax.twinx()\n",
        "# make a plot with different y-axis using second axis object\n",
        "# ax2.plot(albany_county.startDate, albany_county[\"percent_newcases\"],color=\"red\")\n",
        "# ax2.set_ylabel(\"New cases\",color=\"blue\",fontsize=14)\n",
        "plt.title(\"'percent_newcases'\")\n",
        "\n",
        "plt.show()"
      ],
      "execution_count": 54,
      "outputs": [
        {
          "output_type": "display_data",
          "data": {
            "image/png": "[encoded data removed]",
            "text/plain": [
              "<Figure size 432x288 with 1 Axes>"
            ]
          },
          "metadata": {
            "tags": [],
            "needs_background": "light"
          }
        }
      ]
    },
    {
      "cell_type": "code",
      "metadata": {
        "id": "QJigbxTTMjaQ",
        "colab_type": "code",
        "colab": {
          "base_uri": "https://localhost:8080/",
          "height": 54
        },
        "outputId": "2cd5671a-3ad9-4019-92fa-e2827b2b904a"
      },
      "source": [
        "data = average_newCases_df2['percent_newcases'].to_list()\n",
        "\n",
        "print(data)\n"
      ],
      "execution_count": 55,
      "outputs": [
        {
          "output_type": "stream",
          "text": [
            "[0.0, 0.0, 0.0, 0.0, 0.0, 0.0, 0.0, 0.0, 0.0, 0.0, 0.0, 0.0, 0.0, 0.0, 0.0, 0.0, 0.0, 0.0, 0.0, 0.0, 0.0, 0.0, 0.0, 0.0, 0.0, 0.0, 0.0, 0.0, 0.0, 0.0, 0.0, 0.0, 0.0, 0.0, 0.0, 0.0, 0.0, 0.0, 0.0, 0.0, 0.0, 0.0, 0.0, 0.0, 0.0, 0.0, 0.0, 0.0, 0.0, 0.0, 0.0, 0.0, 0.0, 0.0, 0.0, 0.0, 0.0, 0.0, 0.0, 0.0, 0.0, 0.0, 0.0, 0.0, 0.0, 0.0, 0.0, 0.0, 0.0, 0.0, 0.0, 0.0, 0.0, 0.0, 0.0, 0.0, 0.0, -1.0, 0.0, 0.0, 0.0, 0.0, 0.0, 0.0, 0.0, 0.0, 0.0, 0.0, -1.0, 0.0, 0.0, 0.0, 0.0, 0.0, 0.0, 0.0, 0.0, 0.0, 0.0, 0.0, 0.0, 3.714285714285714, 0.0, 0.0, 0.0, 0.0, 0.0, 0.0, 0.0, 0.0, 0.0, 0.0, 0.0, 0.0, 0.0, 0.0, 0.0, 0.0, 0.0, 0.0, 0.0, 0.0, 0.0, 0.0, 0.0, 0.0, 0.0, 0.0, 0.0, 0.0, 0.0, 0.0, 0.0, 0.0, 0.0, 0.0, 0.0, 0.0, 0.0, 0.0, 0.0, 0.0, 0.0, 0.0, 0.0, 0.0, 0.0, 0.0, 0.0, 0.0, 0.0, 0.0, -1.0, 0.0, -0.25000000000000006, 0.0, 0.0, 0.0, 0.0, 0.0, -0.9166666666666666, 0.0, 0.0, 0.0, 0.0, 0.0, 0.0, 0.0, 0.0, 0.0, 0.0, 0.0, 0.0, 0.0, 0.0, 0.0, 0.0, 0.0, 0.0, 0.0, 0.0, 0.0, 0.0, 0.0, 0.0, 0.0, 0.0, 0.0, -1.0, 0.0, 0.0, 0.0, 0.0, 0.0, 0.0, 0.0, 0.0, 0.0, 0.0, 0.0, 0.0, 0.0, 0.0, 0.0, 0.0, 0.0, 0.0, 0.0, 0.0, 0.0, 6.800000000000001, 0.0, 0.0, 2.5000000000000004, 0.0, 0.0, 0.0, 0.0, 0.0, 377.00000000000006, 0.0, 0.0, 0.0, 0.0, 0.0, 0.0, 0.0, 0.0, 0.0, 0.0, 0.0, 0.0, 0.0, 0.0, 0.0, 0.0, 28.77142857142857, 0.0, 0.0, 0.0, 0.12499999999999997, 0.0, 5.148148148148149, 0.0, 0.0, 11.333333333333332, 0.0, 0.0, 10.333333333333334, 0.0, 0.0, 0.0, 0.0, 0.0, 32.03626943005181, 4.571428571428573, 26.38461538461538, 0.0, 0.0, 0.0, 0.0, 0.0, 0.0, 12.000000000000002, 0.0, 37.282051282051285, 1.9772727272727273, 0.0, 13.166666666666666, 7.910256410256411, 44.0, 0.0, 86.23809523809521, 9.991304347826086, 25.812500000000004, 0.0, 11.06060606060606, 0.0, 6.177248677248676, 5.90909090909091, 0.8333333333333334, 0.0, 0.0, 4.333333333333332, 12.411764705882357, 9.124999999999998, 0.0, 0.0, 0.0, 29.000000000000004, 0.0, 33.99999999999999, 6.750000000000001, 0.0, 10.000000000000002, 2.4846449136276387, 0.0, 0.16666666666666677, 1.6249999999999998, 1.5555555555555556, 15.999999999999995, 2.7048192771084336, 0.0, 3.9677419354838706, 6.936936936936939, 0.0, 5.857142857142858, 5.205882352941177, 5.181818181818183, 11.006493506493504, 20.500000000000004, 0.0, 0.0, 6.073713927227102, 2.9999999999999996, 0.8455056179775288, 0.0, 0.3333333333333332, 13.882352941176471, 0.0, 3.48, 1.1476510067114096, 4.769230769230768, 4.243243243243243, 2.725385130609511, 3.7328244274809155, 0.0, 11.376470588235295, 3.4776978417266178, 2.200000000000001, 11.94425087108014, 3.5725982532751104, 1.727848101265823, 1.6550116550116545, 0.17391304347826123, 1.487437185929649, 6.331460674157302, 1.3144120899373388, 1.3157894736842106, 11.363636363636365, 0.0, -0.3888888888888889, 2.5416666666666674, 1.75, 5.567901234567904, 21.000000000000004, 0.0, 0.0, 7.458333333333333, 0.0, 2.7350649350649356, 4.20967741935484, 3.2352941176470584, 21.909090909090907, 0.19140732580556344, -0.4999999999999999, 0.9285714285714285, -0.6031746031746033, 1.0434782608695654, -0.8235294117647058, -0.17032520325203257, -1.0, -0.42857142857142866, 0.8796821793416569, -0.06249999999999992, -0.8993055555555556, 1.1872037914691946, -0.25000000000000033, 0.5175770686857764, 3.7906976744186047, 0.7999999999999994, 0.0, 0.3591636734512882, -0.6474358974358976, -0.406392694063927, 0.0, 0.18750000000000008, 0.5770750988142288, 0.0, -0.7321428571428571, 0.8687499999999994, 0.2933333333333332, -0.8608247422680413, -0.04782452355267891, -0.7596774193548387, -0.7272727272727273, 0.7842205323193919, -0.06169665809768623, -0.20833333333333337, 0.778734858681023, -0.10886952369583384, 0.16183294663573103, 0.4530289727831433, -0.1825396825396827, -0.2047138047138048, 0.16551724137931031, -0.30944417900939636, -0.2982954545454547, -0.7132352941176472, 0.0, -0.45454545454545453, 0.21176470588235288, -0.2169059011164273, 1.0169172932330828, -0.5194805194805195, -1.0, 0.0, 0.9438423645320198, -0.5, -0.07719054242002793, 0.9628482972136224, -0.6805555555555556, -2.047619047619048, -0.06056403143781791, -0.5, -0.8888888888888888, -0.5999999999999999, -0.9148936170212766, -1.0, -0.2052915237628614, 0.0, 0.02272727272727288, 0.5030193236714978, -0.6000000000000001, -0.4482758620689655, 0.7388949079089923, -0.9411764705882353, 0.018175338560228044, 5.0776699029126195, -0.5555555555555556, 0.0, 0.41134728634116907, 1.4909090909090912, -0.20256410256410268, 0.0, 0.9473684210526326, -0.027568922305764257, 0.0, -0.2333333333333336, 0.07859531772575284, -0.18041237113402045, 0.07407407407407418, 0.6529456193353474, 0.3422818791946309, -1.0, -0.16097115457797403, -0.5952054794520548, -0.5526315789473686, -2.1075420128477548e-16, 0.5933020763563297, -0.1450324513230155, -0.48942598187311176, 0.4304207119741099, 0.1617273497036409, 0.14924391847468776, -0.5029981549815499, -0.20242914979757065, -0.35897435897435903, 0.0, -1.0, 0.49029126213592195, 0.1344195519348268, 0.34389561975768856, -1.2297297297297298, 0.0, 0.0, 0.6335529650278761, 0.0, -0.14544084400904295, -0.7255520504731863, 0.0, 0.0, 0.20816929133858247, -1.0, 3.3333333333333326, 6.899999999999999, -1.0, 0.0, -0.016029593094944304, 10.571428571428577, 0.2222222222222221, 0.6030534351145037, 5.833333333333334, 12.437500000000004, 1.3813084112149534, -1.0, 0.2803640182009099, 0.26038338658147, 0.9166666666666667, 0.0, 0.0017568801507215526, 0.15328467153284647, 1.090032154340836, -0.9603960396039604, -0.18918918918918948, 0.39948453608247453, 0.0, 1.0869565217391315, 0.17209302325581366, -0.1886792452830188, -1.0, 0.35252456020105133, -0.4800000000000001, 0.0, -0.009978229317851839, -0.3087986463620982, 0.5490196078431375, 0.4880447941888624, 0.1139229863796872, -0.06686131386861338, 0.14319526627218934, -0.32805429864253394, -0.03717201166180763, 2.3432494279176206, -0.2761020881670534, 0.20304568527918757, -0.08, 0.0, 0.0, -0.12703583061889237, 0.7701974865350091, -0.28779472954230234, 0.0, 0.0, 5.000000000000001, 0.39838659633881496, -2.2, 0.5176366843033511, -0.43678160919540215, 1.4347826086956526, 0.0, 0.4431771894093686, 0.0, -0.23076923076923064, 1.4050632911392409, 0.0, 2.333333333333332, 0.3803258145363407, 1.7530864197530853, 0.9181818181818185, 0.04862155388471189, -0.02439024390243918, -0.43255813953488376, 1.0907901622187335, 0.0, 0.5549480590486605, 2.3041825095057025, 3.826086956521739, 16.500000000000007, 0.4246039529704974, 1.0000000000000002, 0.849230769230769, 0.7499999999999997, 2.5000000000000004, -0.0036832412523019895, 0.0, -0.5625000000000002, 1.2380952380952384, 0.5348837209302325, 0.0, 0.19628378378378322, 3.336538461538462, 0.0, 0.33379146050943714, 0.790697674418605, 1.6202531645569622, 0.2530255262890266, -0.1379726771831838, -0.07446808510638295, 1.0393374741200825, -0.2626262626262626, 0.3364875094625285, -0.7765229295003423, 0.5570512820512823, 0.3713080168776372, 0.7826086956521741, 1.5, 1.8333333333333337, -0.013681592039800915, 0.19979716024340766, 0.25608568646543356, -1.8133642735544223e-16, 1.6666666666666665, -0.6666666666666666, -0.2802307521633016, 0.0, 0.3474723997675769, 1.0612244897959184, -0.5714285714285715, 0.0, -0.029494778436353158, 0.0, -0.7000000000000002, 0.163157894736842, 2.1304347826086962, -0.9, 0.7448933272809803, -0.9596412556053812, -0.19431279620853104, 0.672801147227533, 2.3000000000000003, -0.7295081967213115, 1.0883493930672008, 1.777777777777777, 0.35179324894514763, -0.024549290372075077, -0.5585585585585585, -0.2571428571428575, 0.04763138925560252, 2.1772151898734178, 0.9334442595673881, 0.42857142857142877, 0.07619047619047606, 1.3715341959334557, 0.0, -1.0, 0.9692671394799051, 1.8383838383838385, 2.6969696969696964, 0.21639367410336086, 1.9534368070953434, 0.0, 0.7728927663666963, 1.0314422419685576, 0.6714975845410627, 0.41538836133430723, 0.3276420628666493, -0.13590263691683555, 2.226903553299493, 1.8904109589041098, -0.14953271028037404, 1.4954058192955593, 0.3680526965829558, 0.08615384615384639, 2.414634146341464, -1.0, 3.705882352941176, 0.80327868852459, 0.20033812341504656, 1.9798449612403095, 4.183333333333334, 5.833333333333334, 1.5, 0.7826757090012333, 0.6315789473684214, 0.5864596808969387, 1.3267326732673275, 1.166666666666667, 0.0, 0.5985167951141486, 0.0, 29.000000000000014, 2.0497737556561093, 0.5138888888888891, 158.0, 1.0647762747138398, 1.9999999999999998, 1.9176470588235295, 1.3101871695956573, 2.9696969696969697, 5.121212121212124, -0.14249760306807285, 1.2000000000000008, 0.15970867473013406, -0.21451042076287846, 4.428571428571429, 58.923076923076934, 0.49076923076923074, 0.7629482071713142, 3.613597246127366, 5.000000000000001, 1.1061946902654864, 2.184723304754483, 0.0, 0.0, 0.33493397358943616, 0.5551601423487541, 2.147540983606558, 1.123048348714377, 0.5127627627627627, 2.333333333333333, 0.6193040917544947, 2.456594885598924, 0.8728323699421965, 0.8514249670279265, 1.1830112774516914, 0.8102503912363066, 1.2059147396570706, 1.8515007898894154, 0.5234765234765238, 0.8478060754832772, 1.665362624134818, 1.4730878186968837, 2.25, 0.0, -0.13750000000000004, 1.764335664335664, 1.0260563380281689, 0.7614464099895945, 1.2990353697749202, 1.1585365853658538, -1.0, 0.7226353103925298, 4.774193548387097, 1.4449578689861378, 2.9404255319148933, 5.653846153846155, 0.0, 0.46793413990721333, 0.0, 0.6888888888888892, 1.6320474777448069, 1.1834862385321099, 0.9716981132075476, 0.6819957162655915, 1.6666666666666676, 1.310483870967742, 0.6337435834003335, 0.08206106870228985, 0.27722772277227686, -0.19839273235499646, -0.3818181818181818, 0.7046091734888416, 0.07334167709637034, 0.4962406015037591, -0.04942233632862638, 0.41641126167473064, 1.0412429378531083, 0.002145122178697906, -0.1000000000000001, 1.1134453781512608, 0.9138521781693586, 0.0, 2.6666666666666674, 0.9073741007194243, 0.7574370709382152, 0.2317708333333331, 1.3889496418612282, 0.5786600496277919, 1.6000000000000008, 0.5481323729989711, 0.8876666991141828, 0.8055555555555555, 0.8472759934338894, 0.38726926678952295, 0.6866220012967365, 0.699279754688726, 0.8171745152354569, 0.4201092896174861, 0.5886748588508798, 0.8006096872530203, 1.0572737686139746, 0.3428571428571425, 0.0, 0.347826086956522, 0.8368327852264104, 0.7507820646506773, 2.3142814946093626, 1.4643356643356642, -0.1610169491525424, 0.0, 0.4230074282272637, 0.7486033519553073, 0.33596442468037785, 0.7688984881209503, 1.7716763005780338, 0.0, 0.042758877114705635, 0.0, 1.342105263157894, 0.7226606538895158, -0.03361344537815112, 0.7480063795853271, 0.21737827715355829, 1.5138888888888886, 0.36212914485165815, 0.20983494851605083, 0.3544973544973547, 0.31782945736434126, -0.3526283671868189, 1.0, 3.783157894736843, 0.5450093283582091, -0.055276381909547534, -0.31330182309250515, -0.001808675785711864, 0.4807639081096037, -0.40511865984178674, 1.12962962962963, 0.8290258449304173, 0.40549872122762154, 0.0, 2.8595041322314043, 0.1650165016501651, 0.2890625, 0.40169133192389006, -0.3181053522996465, 0.32536938069789395, -0.10256410256410281, -0.0880861850443599, 0.1985870462046204, 0.076923076923077, 0.10873027849035105, 0.05246080139372818, 0.3503331624807792, 0.09161106215116009, 0.2557926829268293, 0.14575958134523637, 0.0958503188042229, 0.19482066716829685, 0.45879732739420914, 0.4468085106382979, 0.0, 0.8924731182795702, 0.0031676077675253734, 0.10939051022434006, -0.08243839401096197, 0.02894438138478975, 1.1683501683501678, 0.0, 0.3278781038374716, 0.21405750798722045, 0.27952067903802924, -0.03663003663003659, 0.45672575599582926, 0.0, 0.3266179354608665, 0.0, 0.8539325842696636, -0.09031413612565474, 0.5130434782608693, -0.3841240875912412, 0.14755107063745984, -0.41988950276243087, -0.09417040358744394, 0.02490691198097554, 0.029947916666666886, 0.5058823529411764, -0.39536762725558866, 5.750000000000002, -0.25275088028169024, -0.12196226415094351, 0.2739361702127658, -0.3588987217305802, -0.19009001078368845, 0.08785046728971983, -0.24734042553191507, -0.24347826086956537, 0.5293478260869567, 0.45964880356655446, 2.3749999999999996, -0.507494646680942, -0.05878186968838515, 0.07828282828282825, -0.21266968325791855, -0.2787064075453964, 0.05004743833017062, -0.37142857142857144, -0.08184884489567609, -0.06759024222346521, 0.060317460317460415, -0.2547937333655941, -0.25150530737238513, 0.03568039476181446, -0.2601876057204366, 0.04952658412235969, 0.17248790972595368, -0.24885539870278522, 0.2619260036735766, -0.21450381679389302, 0.01357466063348423, 3.199999999999999, 0.46590909090909033, -0.06974190005491489, 0.40873299928418044, -0.15273663250934877, 0.2095973524544955, -0.07608695652173887, 0.07142857142857172, -0.05678920526986821, -0.5684210526315789, -0.16571279916753381, -0.08681875792141963, 0.2806012884753045, 0.0, 0.07964879272499213, 0.0, 0.00757575757575717, 0.002997601918465298, -0.1417624521072796, -0.4883950617283949, 0.3110455764075066, -2.0724163126336256e-16, -0.17821782178217807, 0.34272630132804155, -0.8613569321533924, -0.07486979166666664, 0.1962880475129919, 0.02687000726216408, -0.46365287390173265, 0.8415563578018452, -0.16701461377870566, -0.4918200408997954, -0.21787910215012352, 0.33465063001145484, -0.04697568073165651, -0.32950191570881215, -0.1625207296849087, -0.01099129423009007, -1.0, -0.827536231884058, 0.6501128668171551, -0.06338797814207645, -0.05236270753512127, 0.03444317767591919, -0.14667570213086378, -0.09848484848484848, 0.22516152852132154, 0.4103143841515933, 0.054890219560878, 0.48615705134709164, -0.22705995097768192, -0.0995052226498078, 0.1955241460541815, -0.10671601511296158, 0.24793767186067828, -0.1819259259259258, 0.15298455737614003, 0.4977324263038549, -0.2838541666666666, 2.5905203907920326e-16, -0.4754521963824288, 0.04373278236914592, 0.4799712059620595, 0.6228743933661968, -0.00835993312053504, -0.12156862745098053, 1.022222222222222, -0.016070590444006334, -0.3313008130081301, -0.2436856875584658, 0.13266250289151058, -0.015278554127073074, 0.0]\n"
          ],
          "name": "stdout"
        }
      ]
    },
    {
      "cell_type": "code",
      "metadata": {
        "id": "1sUx5q6q2S3H",
        "colab_type": "code",
        "colab": {}
      },
      "source": [
        "average_newCases_df3 = average_newCases_df2.copy().reset_index(drop=True)"
      ],
      "execution_count": 56,
      "outputs": []
    },
    {
      "cell_type": "markdown",
      "metadata": {
        "id": "ULGk6w4CShh5",
        "colab_type": "text"
      },
      "source": [
        "## Jenks Natural breaks "
      ]
    },
    {
      "cell_type": "code",
      "metadata": {
        "id": "2sF_7a0JS-V-",
        "colab_type": "code",
        "colab": {
          "base_uri": "https://localhost:8080/",
          "height": 207
        },
        "outputId": "ed8d52a5-6428-4507-82e3-f53fb3b79cf1"
      },
      "source": [
        "!pip install jenkspy\n"
      ],
      "execution_count": 57,
      "outputs": [
        {
          "output_type": "stream",
          "text": [
            "Collecting jenkspy\n",
            "\u001b[?25l  Downloading https://files.pythonhosted.org/packages/bf/e6/ce363f30ac36550e0572c6cc878ea794776f7063dff8c1e2e4edad0aa63f/jenkspy-0.1.5.tar.gz (49kB)\n",
            "\r\u001b[K     |██████▋                         | 10kB 17.7MB/s eta 0:00:01\r\u001b[K     |█████████████▏                  | 20kB 1.5MB/s eta 0:00:01\r\u001b[K     |███████████████████▊            | 30kB 1.9MB/s eta 0:00:01\r\u001b[K     |██████████████████████████▍     | 40kB 2.1MB/s eta 0:00:01\r\u001b[K     |████████████████████████████████| 51kB 1.6MB/s \n",
            "\u001b[?25hBuilding wheels for collected packages: jenkspy\n",
            "  Building wheel for jenkspy (setup.py) ... \u001b[?25l\u001b[?25hdone\n",
            "  Created wheel for jenkspy: filename=jenkspy-0.1.5-cp36-cp36m-linux_x86_64.whl size=69064 sha256=bdb977bd017eaea23e77a741136782e42e3029d7c45c5ab15058005621142c42\n",
            "  Stored in directory: /root/.cache/pip/wheels/14/1d/b0/45b9ac586dd190ca029df1965fe9f497327506376d51422475\n",
            "Successfully built jenkspy\n",
            "Installing collected packages: jenkspy\n",
            "Successfully installed jenkspy-0.1.5\n"
          ],
          "name": "stdout"
        }
      ]
    },
    {
      "cell_type": "code",
      "metadata": {
        "id": "MwVDiwoYVV10",
        "colab_type": "code",
        "colab": {
          "base_uri": "https://localhost:8080/",
          "height": 34
        },
        "outputId": "5695f9c4-f74b-484a-bfff-d5903ae5ac24"
      },
      "source": [
        "import jenkspy\n",
        "\n",
        "breaks = jenkspy.jenks_breaks(average_newCases_df2['percent_newcases'], nb_class=3)\n",
        "print(breaks)"
      ],
      "execution_count": 78,
      "outputs": [
        {
          "output_type": "stream",
          "text": [
            "[-2.2, 44.0, 158.0, 377.00000000000006]\n"
          ],
          "name": "stdout"
        }
      ]
    },
    {
      "cell_type": "code",
      "metadata": {
        "id": "SRJO7HqhCYF9",
        "colab_type": "code",
        "colab": {
          "base_uri": "https://localhost:8080/",
          "height": 34
        },
        "outputId": "9d3e649f-3c3d-4270-a01c-4f5e75bd4f78"
      },
      "source": [
        "\n",
        "breaks = jenkspy.jenks_breaks(average_newCases_df2['percent_newcases'], nb_class=4)\n",
        "print(breaks)"
      ],
      "execution_count": 77,
      "outputs": [
        {
          "output_type": "stream",
          "text": [
            "[-2.2, 13.882352941176471, 58.923076923076934, 158.0, 377.00000000000006]\n"
          ],
          "name": "stdout"
        }
      ]
    },
    {
      "cell_type": "markdown",
      "metadata": {
        "id": "ZklevKiwA1_J",
        "colab_type": "text"
      },
      "source": [
        "[-1.1363636363636362, 39.5, 213.91325695581014, 410.1818181818182]"
      ]
    },
    {
      "cell_type": "code",
      "metadata": {
        "id": "eqIJ2utVr6Wl",
        "colab_type": "code",
        "colab": {
          "base_uri": "https://localhost:8080/",
          "height": 54
        },
        "outputId": "54658df0-4ed4-4734-f18f-09cbdb0f66da"
      },
      "source": [
        "breaks = jenkspy.jenks_breaks(average_newCases_df2['percent_newcases'], nb_class=8)\n",
        "print(breaks)"
      ],
      "execution_count": 59,
      "outputs": [
        {
          "output_type": "stream",
          "text": [
            "[-2.2, 1.9999999999999998, 7.458333333333333, 16.500000000000007, 37.282051282051285, 58.923076923076934, 86.23809523809521, 158.0, 377.00000000000006]\n"
          ],
          "name": "stdout"
        }
      ]
    },
    {
      "cell_type": "markdown",
      "metadata": {
        "id": "0Ulmo-y1WSGr",
        "colab_type": "text"
      },
      "source": [
        "### Labeling criteria\n",
        "\n",
        "We have applied \"jenks Natural breaks' to label the county data as per 'percent change in cases'\n",
        "\n",
        "From the natural break algorithm, we have splited the data as follows \n",
        "\n",
        "* -1.136 to 3.642 is **label 1** (least chance of spreading) \n",
        "\n",
        "* 3.642 to 13.625 is **label 2** (Below threshold but chances to reach super spread level)\n",
        "\n",
        "* 13.625 to 410.181818 is **label 3** (Super spread week)"
      ]
    },
    {
      "cell_type": "code",
      "metadata": {
        "id": "HaVkCrBiCOEA",
        "colab_type": "code",
        "colab": {}
      },
      "source": [
        "average_newCases_df2['labels'] = pd.cut(average_newCases_df2['percent_newcases'],\n",
        "                        bins=breaks,\n",
        "                        labels=['LessSpread','Spread', 'SuperSpread'])"
      ],
      "execution_count": 79,
      "outputs": []
    },
    {
      "cell_type": "code",
      "metadata": {
        "id": "L6DpanhdVp_W",
        "colab_type": "code",
        "colab": {
          "base_uri": "https://localhost:8080/",
          "height": 375
        },
        "outputId": "f3cfed04-7c35-44d7-9c29-6f19b9b2c522"
      },
      "source": [
        "average_newCases_df2['labels'] = pd.cut(average_newCases_df2['percent_newcases'],\n",
        "                        bins=breaks,\n",
        "                        labels=['LessSpread','Spread', 'SuperSpread1','SuperSpread2','SuperSpread3','SuperSpread4','SuperSpread5','SuperSpread6'])"
      ],
      "execution_count": 75,
      "outputs": [
        {
          "output_type": "error",
          "ename": "ValueError",
          "evalue": "ignored",
          "traceback": [
            "\u001b[0;31m---------------------------------------------------------------------------\u001b[0m",
            "\u001b[0;31mValueError\u001b[0m                                Traceback (most recent call last)",
            "\u001b[0;32m<ipython-input-75-f33febcca352>\u001b[0m in \u001b[0;36m<module>\u001b[0;34m()\u001b[0m\n\u001b[1;32m      1\u001b[0m average_newCases_df2['labels'] = pd.cut(average_newCases_df2['percent_newcases'],\n\u001b[1;32m      2\u001b[0m                         \u001b[0mbins\u001b[0m\u001b[0;34m=\u001b[0m\u001b[0mbreaks\u001b[0m\u001b[0;34m,\u001b[0m\u001b[0;34m\u001b[0m\u001b[0;34m\u001b[0m\u001b[0m\n\u001b[0;32m----> 3\u001b[0;31m                         labels=['LessSpread','Spread', 'SuperSpread1','SuperSpread2','SuperSpread3','SuperSpread4','SuperSpread5','SuperSpread6'])\n\u001b[0m",
            "\u001b[0;32m/usr/local/lib/python3.6/dist-packages/pandas/core/reshape/tile.py\u001b[0m in \u001b[0;36mcut\u001b[0;34m(x, bins, right, labels, retbins, precision, include_lowest, duplicates)\u001b[0m\n\u001b[1;32m    263\u001b[0m         \u001b[0minclude_lowest\u001b[0m\u001b[0;34m=\u001b[0m\u001b[0minclude_lowest\u001b[0m\u001b[0;34m,\u001b[0m\u001b[0;34m\u001b[0m\u001b[0;34m\u001b[0m\u001b[0m\n\u001b[1;32m    264\u001b[0m         \u001b[0mdtype\u001b[0m\u001b[0;34m=\u001b[0m\u001b[0mdtype\u001b[0m\u001b[0;34m,\u001b[0m\u001b[0;34m\u001b[0m\u001b[0;34m\u001b[0m\u001b[0m\n\u001b[0;32m--> 265\u001b[0;31m         \u001b[0mduplicates\u001b[0m\u001b[0;34m=\u001b[0m\u001b[0mduplicates\u001b[0m\u001b[0;34m,\u001b[0m\u001b[0;34m\u001b[0m\u001b[0;34m\u001b[0m\u001b[0m\n\u001b[0m\u001b[1;32m    266\u001b[0m     )\n\u001b[1;32m    267\u001b[0m \u001b[0;34m\u001b[0m\u001b[0m\n",
            "\u001b[0;32m/usr/local/lib/python3.6/dist-packages/pandas/core/reshape/tile.py\u001b[0m in \u001b[0;36m_bins_to_cuts\u001b[0;34m(x, bins, right, labels, precision, include_lowest, dtype, duplicates)\u001b[0m\n\u001b[1;32m    409\u001b[0m             \u001b[0;32mif\u001b[0m \u001b[0mlen\u001b[0m\u001b[0;34m(\u001b[0m\u001b[0mlabels\u001b[0m\u001b[0;34m)\u001b[0m \u001b[0;34m!=\u001b[0m \u001b[0mlen\u001b[0m\u001b[0;34m(\u001b[0m\u001b[0mbins\u001b[0m\u001b[0;34m)\u001b[0m \u001b[0;34m-\u001b[0m \u001b[0;36m1\u001b[0m\u001b[0;34m:\u001b[0m\u001b[0;34m\u001b[0m\u001b[0;34m\u001b[0m\u001b[0m\n\u001b[1;32m    410\u001b[0m                 raise ValueError(\n\u001b[0;32m--> 411\u001b[0;31m                     \u001b[0;34m\"Bin labels must be one fewer than the number of bin edges\"\u001b[0m\u001b[0;34m\u001b[0m\u001b[0;34m\u001b[0m\u001b[0m\n\u001b[0m\u001b[1;32m    412\u001b[0m                 )\n\u001b[1;32m    413\u001b[0m \u001b[0;34m\u001b[0m\u001b[0m\n",
            "\u001b[0;31mValueError\u001b[0m: Bin labels must be one fewer than the number of bin edges"
          ]
        }
      ]
    },
    {
      "cell_type": "code",
      "metadata": {
        "id": "dIaBiV-NChzA",
        "colab_type": "code",
        "colab": {
          "base_uri": "https://localhost:8080/",
          "height": 68
        },
        "outputId": "cdb8eb7e-24e6-40f3-caae-c3a6c5d9717c"
      },
      "source": [
        "print('Number of records in LessSpread:',average_newCases_df2[average_newCases_df2['labels'] == 'LessSpread']['FIPS'].count())\n",
        "print('Number of records in Spread:',average_newCases_df2[average_newCases_df2['labels'] == 'Spread']['FIPS'].count())\n",
        "print('Number of records in SuperSpread:',average_newCases_df2[average_newCases_df2['labels'] == 'SuperSpread']['FIPS'].count())"
      ],
      "execution_count": 80,
      "outputs": [
        {
          "output_type": "stream",
          "text": [
            "Number of records in LessSpread: 939\n",
            "Number of records in Spread: 3\n",
            "Number of records in SuperSpread: 1\n"
          ],
          "name": "stdout"
        }
      ]
    },
    {
      "cell_type": "code",
      "metadata": {
        "id": "lK9bMtBQVqlb",
        "colab_type": "code",
        "colab": {
          "base_uri": "https://localhost:8080/",
          "height": 153
        },
        "outputId": "0c385a40-6e52-4eab-ceaa-2eb558ab4208"
      },
      "source": [
        "print('Number of records in LessSpread:',average_newCases_df2[average_newCases_df2['labels'] == 'LessSpread']['FIPS'].count())\n",
        "print('Number of records in Spread:',average_newCases_df2[average_newCases_df2['labels'] == 'Spread']['FIPS'].count())\n",
        "print('Number of records in SuperSpread:',average_newCases_df2[average_newCases_df2['labels'] == 'SuperSpread1']['FIPS'].count())\n",
        "print('Number of records in SuperSpread2:',average_newCases_df2[average_newCases_df2['labels'] == 'SuperSpread2']['FIPS'].count())\n",
        "\n",
        "\n",
        "print('Number of records in SuperSpread3:',average_newCases_df2[average_newCases_df2['labels'] == 'SuperSpread3']['FIPS'].count())\n",
        "\n",
        "print('Number of records in SuperSpread4:',average_newCases_df2[average_newCases_df2['labels'] == 'SuperSpread4']['FIPS'].count())\n",
        "\n",
        "print('Number of records in SuperSpread5:',average_newCases_df2[average_newCases_df2['labels'] == 'SuperSpread5']['FIPS'].count())\n",
        "\n",
        "print('Number of records in SuperSpread6:',average_newCases_df2[average_newCases_df2['labels'] == 'SuperSpread6']['FIPS'].count())\n",
        "\n",
        "\n"
      ],
      "execution_count": 62,
      "outputs": [
        {
          "output_type": "stream",
          "text": [
            "Number of records in LessSpread: 833\n",
            "Number of records in Spread: 75\n",
            "Number of records in SuperSpread: 19\n",
            "Number of records in SuperSpread2: 11\n",
            "Number of records in SuperSpread3: 2\n",
            "Number of records in SuperSpread4: 1\n",
            "Number of records in SuperSpread5: 1\n",
            "Number of records in SuperSpread6: 1\n"
          ],
          "name": "stdout"
        }
      ]
    },
    {
      "cell_type": "code",
      "metadata": {
        "id": "TwgkrzkQa2c9",
        "colab_type": "code",
        "colab": {}
      },
      "source": [
        "average_newCases_df2.head()"
      ],
      "execution_count": null,
      "outputs": []
    },
    {
      "cell_type": "markdown",
      "metadata": {
        "id": "kwYv-bCaaqa3",
        "colab_type": "text"
      },
      "source": [
        "# Labeling data for NY combined"
      ]
    },
    {
      "cell_type": "code",
      "metadata": {
        "id": "d0BmZ9SEJ8ua",
        "colab_type": "code",
        "colab": {}
      },
      "source": [
        "NY_combined_data.head()"
      ],
      "execution_count": null,
      "outputs": []
    },
    {
      "cell_type": "code",
      "metadata": {
        "id": "8oG2cBAVcbKc",
        "colab_type": "code",
        "colab": {}
      },
      "source": [
        "NY_combined_data_ = NY_combined_data.copy()\n",
        "\n"
      ],
      "execution_count": null,
      "outputs": []
    },
    {
      "cell_type": "code",
      "metadata": {
        "id": "pqyjzzsMc5HS",
        "colab_type": "code",
        "colab": {}
      },
      "source": [
        "NY_combined_data = NY_combined_data_.copy().reset_index(drop=True)"
      ],
      "execution_count": null,
      "outputs": []
    },
    {
      "cell_type": "code",
      "metadata": {
        "id": "TZ5NhI_pa0N9",
        "colab_type": "code",
        "colab": {}
      },
      "source": [
        "#average_newCases_df = pd.DataFrame(columns=['County Name',  'fips_x',  'average_per_week','startDate','endDate'])\n",
        "\n",
        "for index, row in (average_newCases_df2.iterrows()):\n",
        "    startDate, endDate = row['startDate'], row['endDate']\n",
        "    fips = row['fips_x']\n",
        "    #print(startDate,endDate,fips)\n",
        "    df_index = (NY_combined_data['fips_x'] == row['fips_x']) & (NY_combined_data['Date'] >= startDate) & (NY_combined_data['Date'] <= endDate)\n",
        "    df_weekData =  NY_combined_data.loc[df_index]\n",
        "    #print(df_weekData)\n",
        "    NY_combined_data.loc[df_index,'label'] = row['labels']\n",
        "\n",
        "\n"
      ],
      "execution_count": null,
      "outputs": []
    },
    {
      "cell_type": "code",
      "metadata": {
        "id": "s3fECDK8a0BE",
        "colab_type": "code",
        "colab": {}
      },
      "source": [
        "NY_combined_data.head()"
      ],
      "execution_count": null,
      "outputs": []
    },
    {
      "cell_type": "code",
      "metadata": {
        "id": "mnhkDNKndBxo",
        "colab_type": "code",
        "colab": {}
      },
      "source": [
        "NY_combined_data[NY_combined_data['label'] == 'SuperSpread'].sort_values(by=['fips_x','Date'])"
      ],
      "execution_count": null,
      "outputs": []
    },
    {
      "cell_type": "code",
      "metadata": {
        "id": "9Hwy4ARNeCfg",
        "colab_type": "code",
        "colab": {}
      },
      "source": [
        "average_newCases_df2[average_newCases_df2['labels'] == 'SuperSpread']"
      ],
      "execution_count": null,
      "outputs": []
    },
    {
      "cell_type": "markdown",
      "metadata": {
        "id": "1oJPNpnexnQZ",
        "colab_type": "text"
      },
      "source": [
        "## Kernal Density Estimation"
      ]
    },
    {
      "cell_type": "code",
      "metadata": {
        "id": "WauUBBVVxq0H",
        "colab_type": "code",
        "colab": {
          "base_uri": "https://localhost:8080/",
          "height": 282
        },
        "outputId": "b6f3c79e-59c6-4ea3-ec02-4814bae1ac36"
      },
      "source": [
        "%matplotlib inline\n",
        "\n",
        "from numpy import array, linspace\n",
        "from sklearn.neighbors.kde import KernelDensity\n",
        "from matplotlib.pyplot import plot\n",
        "\n",
        "a = array(data).reshape(-1, 1)\n",
        "kde = KernelDensity(kernel='epanechnikov', bandwidth=3).fit(a)\n",
        "s = linspace(0,50)\n",
        "e = kde.score_samples(s.reshape(-1,1))\n",
        "plot(s, e)"
      ],
      "execution_count": 66,
      "outputs": [
        {
          "output_type": "execute_result",
          "data": {
            "text/plain": [
              "[<matplotlib.lines.Line2D at 0x7f2429fd3d68>]"
            ]
          },
          "metadata": {
            "tags": []
          },
          "execution_count": 66
        },
        {
          "output_type": "display_data",
          "data": {
            "image/png": "[encoded data removed]",
            "text/plain": [
              "<Figure size 432x288 with 1 Axes>"
            ]
          },
          "metadata": {
            "tags": [],
            "needs_background": "light"
          }
        }
      ]
    },
    {
      "cell_type": "code",
      "metadata": {
        "id": "wGzAVAIOx18k",
        "colab_type": "code",
        "colab": {
          "base_uri": "https://localhost:8080/",
          "height": 51
        },
        "outputId": "9b13f19b-2500-4d9c-8f27-5032b2769410"
      },
      "source": [
        "\n",
        "\n",
        "from scipy.signal import argrelextrema\n",
        "mi, ma = argrelextrema(e, np.less)[0], argrelextrema(e, np.greater)[0]\n",
        "print(\"Minima:\", s[mi])\n",
        "print(\"Maxima:\", s[ma])"
      ],
      "execution_count": 67,
      "outputs": [
        {
          "output_type": "stream",
          "text": [
            "Minima: [ 9.18367347 18.36734694 23.46938776 40.81632653]\n",
            "Maxima: [11.2244898  21.42857143 27.55102041 43.87755102]\n"
          ],
          "name": "stdout"
        }
      ]
    },
    {
      "cell_type": "code",
      "metadata": {
        "id": "NZtte7zb20p7",
        "colab_type": "code",
        "colab": {
          "base_uri": "https://localhost:8080/",
          "height": 34
        },
        "outputId": "ad4742f0-e02c-4276-a072-0fdeddd47299"
      },
      "source": [
        "lower_range = s[mi][0]\n",
        "upper_range = s[mi][1]\n",
        "\n",
        "print(lower_range,upper_range)"
      ],
      "execution_count": 69,
      "outputs": [
        {
          "output_type": "stream",
          "text": [
            "9.183673469387756 18.367346938775512\n"
          ],
          "name": "stdout"
        }
      ]
    },
    {
      "cell_type": "code",
      "metadata": {
        "id": "vVyRucGcyAgB",
        "colab_type": "code",
        "colab": {
          "base_uri": "https://localhost:8080/",
          "height": 1000
        },
        "outputId": "ba78627e-4fe3-4726-bb08-d13f9eaed423"
      },
      "source": [
        "print(a[a < mi[0]], a[(a >= mi[0]) * (a <= mi[1])], a[a >= mi[1]])\n"
      ],
      "execution_count": 70,
      "outputs": [
        {
          "output_type": "stream",
          "text": [
            "[ 0.00000000e+00  0.00000000e+00  0.00000000e+00  0.00000000e+00\n",
            "  0.00000000e+00  0.00000000e+00  0.00000000e+00  0.00000000e+00\n",
            "  0.00000000e+00  0.00000000e+00  0.00000000e+00  0.00000000e+00\n",
            "  0.00000000e+00  0.00000000e+00  0.00000000e+00  0.00000000e+00\n",
            "  0.00000000e+00  0.00000000e+00  0.00000000e+00  0.00000000e+00\n",
            "  0.00000000e+00  0.00000000e+00  0.00000000e+00  0.00000000e+00\n",
            "  0.00000000e+00  0.00000000e+00  0.00000000e+00  0.00000000e+00\n",
            "  0.00000000e+00  0.00000000e+00  0.00000000e+00  0.00000000e+00\n",
            "  0.00000000e+00  0.00000000e+00  0.00000000e+00  0.00000000e+00\n",
            "  0.00000000e+00  0.00000000e+00  0.00000000e+00  0.00000000e+00\n",
            "  0.00000000e+00  0.00000000e+00  0.00000000e+00  0.00000000e+00\n",
            "  0.00000000e+00  0.00000000e+00  0.00000000e+00  0.00000000e+00\n",
            "  0.00000000e+00  0.00000000e+00  0.00000000e+00  0.00000000e+00\n",
            "  0.00000000e+00  0.00000000e+00  0.00000000e+00  0.00000000e+00\n",
            "  0.00000000e+00  0.00000000e+00  0.00000000e+00  0.00000000e+00\n",
            "  0.00000000e+00  0.00000000e+00  0.00000000e+00  0.00000000e+00\n",
            "  0.00000000e+00  0.00000000e+00  0.00000000e+00  0.00000000e+00\n",
            "  0.00000000e+00  0.00000000e+00  0.00000000e+00  0.00000000e+00\n",
            "  0.00000000e+00  0.00000000e+00  0.00000000e+00  0.00000000e+00\n",
            "  0.00000000e+00 -1.00000000e+00  0.00000000e+00  0.00000000e+00\n",
            "  0.00000000e+00  0.00000000e+00  0.00000000e+00  0.00000000e+00\n",
            "  0.00000000e+00  0.00000000e+00  0.00000000e+00  0.00000000e+00\n",
            " -1.00000000e+00  0.00000000e+00  0.00000000e+00  0.00000000e+00\n",
            "  0.00000000e+00  0.00000000e+00  0.00000000e+00  0.00000000e+00\n",
            "  0.00000000e+00  0.00000000e+00  0.00000000e+00  0.00000000e+00\n",
            "  0.00000000e+00  3.71428571e+00  0.00000000e+00  0.00000000e+00\n",
            "  0.00000000e+00  0.00000000e+00  0.00000000e+00  0.00000000e+00\n",
            "  0.00000000e+00  0.00000000e+00  0.00000000e+00  0.00000000e+00\n",
            "  0.00000000e+00  0.00000000e+00  0.00000000e+00  0.00000000e+00\n",
            "  0.00000000e+00  0.00000000e+00  0.00000000e+00  0.00000000e+00\n",
            "  0.00000000e+00  0.00000000e+00  0.00000000e+00  0.00000000e+00\n",
            "  0.00000000e+00  0.00000000e+00  0.00000000e+00  0.00000000e+00\n",
            "  0.00000000e+00  0.00000000e+00  0.00000000e+00  0.00000000e+00\n",
            "  0.00000000e+00  0.00000000e+00  0.00000000e+00  0.00000000e+00\n",
            "  0.00000000e+00  0.00000000e+00  0.00000000e+00  0.00000000e+00\n",
            "  0.00000000e+00  0.00000000e+00  0.00000000e+00  0.00000000e+00\n",
            "  0.00000000e+00  0.00000000e+00  0.00000000e+00  0.00000000e+00\n",
            "  0.00000000e+00  0.00000000e+00  0.00000000e+00  0.00000000e+00\n",
            " -1.00000000e+00  0.00000000e+00 -2.50000000e-01  0.00000000e+00\n",
            "  0.00000000e+00  0.00000000e+00  0.00000000e+00  0.00000000e+00\n",
            " -9.16666667e-01  0.00000000e+00  0.00000000e+00  0.00000000e+00\n",
            "  0.00000000e+00  0.00000000e+00  0.00000000e+00  0.00000000e+00\n",
            "  0.00000000e+00  0.00000000e+00  0.00000000e+00  0.00000000e+00\n",
            "  0.00000000e+00  0.00000000e+00  0.00000000e+00  0.00000000e+00\n",
            "  0.00000000e+00  0.00000000e+00  0.00000000e+00  0.00000000e+00\n",
            "  0.00000000e+00  0.00000000e+00  0.00000000e+00  0.00000000e+00\n",
            "  0.00000000e+00  0.00000000e+00  0.00000000e+00  0.00000000e+00\n",
            " -1.00000000e+00  0.00000000e+00  0.00000000e+00  0.00000000e+00\n",
            "  0.00000000e+00  0.00000000e+00  0.00000000e+00  0.00000000e+00\n",
            "  0.00000000e+00  0.00000000e+00  0.00000000e+00  0.00000000e+00\n",
            "  0.00000000e+00  0.00000000e+00  0.00000000e+00  0.00000000e+00\n",
            "  0.00000000e+00  0.00000000e+00  0.00000000e+00  0.00000000e+00\n",
            "  0.00000000e+00  0.00000000e+00  6.80000000e+00  0.00000000e+00\n",
            "  0.00000000e+00  2.50000000e+00  0.00000000e+00  0.00000000e+00\n",
            "  0.00000000e+00  0.00000000e+00  0.00000000e+00  0.00000000e+00\n",
            "  0.00000000e+00  0.00000000e+00  0.00000000e+00  0.00000000e+00\n",
            "  0.00000000e+00  0.00000000e+00  0.00000000e+00  0.00000000e+00\n",
            "  0.00000000e+00  0.00000000e+00  0.00000000e+00  0.00000000e+00\n",
            "  0.00000000e+00  0.00000000e+00  0.00000000e+00  0.00000000e+00\n",
            "  0.00000000e+00  0.00000000e+00  1.25000000e-01  0.00000000e+00\n",
            "  5.14814815e+00  0.00000000e+00  0.00000000e+00  0.00000000e+00\n",
            "  0.00000000e+00  0.00000000e+00  0.00000000e+00  0.00000000e+00\n",
            "  0.00000000e+00  0.00000000e+00  4.57142857e+00  0.00000000e+00\n",
            "  0.00000000e+00  0.00000000e+00  0.00000000e+00  0.00000000e+00\n",
            "  0.00000000e+00  0.00000000e+00  1.97727273e+00  0.00000000e+00\n",
            "  7.91025641e+00  0.00000000e+00  0.00000000e+00  0.00000000e+00\n",
            "  6.17724868e+00  5.90909091e+00  8.33333333e-01  0.00000000e+00\n",
            "  0.00000000e+00  4.33333333e+00  0.00000000e+00  0.00000000e+00\n",
            "  0.00000000e+00  0.00000000e+00  6.75000000e+00  0.00000000e+00\n",
            "  2.48464491e+00  0.00000000e+00  1.66666667e-01  1.62500000e+00\n",
            "  1.55555556e+00  2.70481928e+00  0.00000000e+00  3.96774194e+00\n",
            "  6.93693694e+00  0.00000000e+00  5.85714286e+00  5.20588235e+00\n",
            "  5.18181818e+00  0.00000000e+00  0.00000000e+00  6.07371393e+00\n",
            "  3.00000000e+00  8.45505618e-01  0.00000000e+00  3.33333333e-01\n",
            "  0.00000000e+00  3.48000000e+00  1.14765101e+00  4.76923077e+00\n",
            "  4.24324324e+00  2.72538513e+00  3.73282443e+00  0.00000000e+00\n",
            "  3.47769784e+00  2.20000000e+00  3.57259825e+00  1.72784810e+00\n",
            "  1.65501166e+00  1.73913043e-01  1.48743719e+00  6.33146067e+00\n",
            "  1.31441209e+00  1.31578947e+00  0.00000000e+00 -3.88888889e-01\n",
            "  2.54166667e+00  1.75000000e+00  5.56790123e+00  0.00000000e+00\n",
            "  0.00000000e+00  7.45833333e+00  0.00000000e+00  2.73506494e+00\n",
            "  4.20967742e+00  3.23529412e+00  1.91407326e-01 -5.00000000e-01\n",
            "  9.28571429e-01 -6.03174603e-01  1.04347826e+00 -8.23529412e-01\n",
            " -1.70325203e-01 -1.00000000e+00 -4.28571429e-01  8.79682179e-01\n",
            " -6.25000000e-02 -8.99305556e-01  1.18720379e+00 -2.50000000e-01\n",
            "  5.17577069e-01  3.79069767e+00  8.00000000e-01  0.00000000e+00\n",
            "  3.59163673e-01 -6.47435897e-01 -4.06392694e-01  0.00000000e+00\n",
            "  1.87500000e-01  5.77075099e-01  0.00000000e+00 -7.32142857e-01\n",
            "  8.68750000e-01  2.93333333e-01 -8.60824742e-01 -4.78245236e-02\n",
            " -7.59677419e-01 -7.27272727e-01  7.84220532e-01 -6.16966581e-02\n",
            " -2.08333333e-01  7.78734859e-01 -1.08869524e-01  1.61832947e-01\n",
            "  4.53028973e-01 -1.82539683e-01 -2.04713805e-01  1.65517241e-01\n",
            " -3.09444179e-01 -2.98295455e-01 -7.13235294e-01  0.00000000e+00\n",
            " -4.54545455e-01  2.11764706e-01 -2.16905901e-01  1.01691729e+00\n",
            " -5.19480519e-01 -1.00000000e+00  0.00000000e+00  9.43842365e-01\n",
            " -5.00000000e-01 -7.71905424e-02  9.62848297e-01 -6.80555556e-01\n",
            " -2.04761905e+00 -6.05640314e-02 -5.00000000e-01 -8.88888889e-01\n",
            " -6.00000000e-01 -9.14893617e-01 -1.00000000e+00 -2.05291524e-01\n",
            "  0.00000000e+00  2.27272727e-02  5.03019324e-01 -6.00000000e-01\n",
            " -4.48275862e-01  7.38894908e-01 -9.41176471e-01  1.81753386e-02\n",
            "  5.07766990e+00 -5.55555556e-01  0.00000000e+00  4.11347286e-01\n",
            "  1.49090909e+00 -2.02564103e-01  0.00000000e+00  9.47368421e-01\n",
            " -2.75689223e-02  0.00000000e+00 -2.33333333e-01  7.85953177e-02\n",
            " -1.80412371e-01  7.40740741e-02  6.52945619e-01  3.42281879e-01\n",
            " -1.00000000e+00 -1.60971155e-01 -5.95205479e-01 -5.52631579e-01\n",
            " -2.10754201e-16  5.93302076e-01 -1.45032451e-01 -4.89425982e-01\n",
            "  4.30420712e-01  1.61727350e-01  1.49243918e-01 -5.02998155e-01\n",
            " -2.02429150e-01 -3.58974359e-01  0.00000000e+00 -1.00000000e+00\n",
            "  4.90291262e-01  1.34419552e-01  3.43895620e-01 -1.22972973e+00\n",
            "  0.00000000e+00  0.00000000e+00  6.33552965e-01  0.00000000e+00\n",
            " -1.45440844e-01 -7.25552050e-01  0.00000000e+00  0.00000000e+00\n",
            "  2.08169291e-01 -1.00000000e+00  3.33333333e+00  6.90000000e+00\n",
            " -1.00000000e+00  0.00000000e+00 -1.60295931e-02  2.22222222e-01\n",
            "  6.03053435e-01  5.83333333e+00  1.38130841e+00 -1.00000000e+00\n",
            "  2.80364018e-01  2.60383387e-01  9.16666667e-01  0.00000000e+00\n",
            "  1.75688015e-03  1.53284672e-01  1.09003215e+00 -9.60396040e-01\n",
            " -1.89189189e-01  3.99484536e-01  0.00000000e+00  1.08695652e+00\n",
            "  1.72093023e-01 -1.88679245e-01 -1.00000000e+00  3.52524560e-01\n",
            " -4.80000000e-01  0.00000000e+00 -9.97822932e-03 -3.08798646e-01\n",
            "  5.49019608e-01  4.88044794e-01  1.13922986e-01 -6.68613139e-02\n",
            "  1.43195266e-01 -3.28054299e-01 -3.71720117e-02  2.34324943e+00\n",
            " -2.76102088e-01  2.03045685e-01 -8.00000000e-02  0.00000000e+00\n",
            "  0.00000000e+00 -1.27035831e-01  7.70197487e-01 -2.87794730e-01\n",
            "  0.00000000e+00  0.00000000e+00  5.00000000e+00  3.98386596e-01\n",
            " -2.20000000e+00  5.17636684e-01 -4.36781609e-01  1.43478261e+00\n",
            "  0.00000000e+00  4.43177189e-01  0.00000000e+00 -2.30769231e-01\n",
            "  1.40506329e+00  0.00000000e+00  2.33333333e+00  3.80325815e-01\n",
            "  1.75308642e+00  9.18181818e-01  4.86215539e-02 -2.43902439e-02\n",
            " -4.32558140e-01  1.09079016e+00  0.00000000e+00  5.54948059e-01\n",
            "  2.30418251e+00  3.82608696e+00  4.24603953e-01  1.00000000e+00\n",
            "  8.49230769e-01  7.50000000e-01  2.50000000e+00 -3.68324125e-03\n",
            "  0.00000000e+00 -5.62500000e-01  1.23809524e+00  5.34883721e-01\n",
            "  0.00000000e+00  1.96283784e-01  3.33653846e+00  0.00000000e+00\n",
            "  3.33791461e-01  7.90697674e-01  1.62025316e+00  2.53025526e-01\n",
            " -1.37972677e-01 -7.44680851e-02  1.03933747e+00 -2.62626263e-01\n",
            "  3.36487509e-01 -7.76522930e-01  5.57051282e-01  3.71308017e-01\n",
            "  7.82608696e-01  1.50000000e+00  1.83333333e+00 -1.36815920e-02\n",
            "  1.99797160e-01  2.56085686e-01 -1.81336427e-16  1.66666667e+00\n",
            " -6.66666667e-01 -2.80230752e-01  0.00000000e+00  3.47472400e-01\n",
            "  1.06122449e+00 -5.71428571e-01  0.00000000e+00 -2.94947784e-02\n",
            "  0.00000000e+00 -7.00000000e-01  1.63157895e-01  2.13043478e+00\n",
            " -9.00000000e-01  7.44893327e-01 -9.59641256e-01 -1.94312796e-01\n",
            "  6.72801147e-01  2.30000000e+00 -7.29508197e-01  1.08834939e+00\n",
            "  1.77777778e+00  3.51793249e-01 -2.45492904e-02 -5.58558559e-01\n",
            " -2.57142857e-01  4.76313893e-02  2.17721519e+00  9.33444260e-01\n",
            "  4.28571429e-01  7.61904762e-02  1.37153420e+00  0.00000000e+00\n",
            " -1.00000000e+00  9.69267139e-01  1.83838384e+00  2.69696970e+00\n",
            "  2.16393674e-01  1.95343681e+00  0.00000000e+00  7.72892766e-01\n",
            "  1.03144224e+00  6.71497585e-01  4.15388361e-01  3.27642063e-01\n",
            " -1.35902637e-01  2.22690355e+00  1.89041096e+00 -1.49532710e-01\n",
            "  1.49540582e+00  3.68052697e-01  8.61538462e-02  2.41463415e+00\n",
            " -1.00000000e+00  3.70588235e+00  8.03278689e-01  2.00338123e-01\n",
            "  1.97984496e+00  4.18333333e+00  5.83333333e+00  1.50000000e+00\n",
            "  7.82675709e-01  6.31578947e-01  5.86459681e-01  1.32673267e+00\n",
            "  1.16666667e+00  0.00000000e+00  5.98516795e-01  0.00000000e+00\n",
            "  2.04977376e+00  5.13888889e-01  1.06477627e+00  2.00000000e+00\n",
            "  1.91764706e+00  1.31018717e+00  2.96969697e+00  5.12121212e+00\n",
            " -1.42497603e-01  1.20000000e+00  1.59708675e-01 -2.14510421e-01\n",
            "  4.42857143e+00  4.90769231e-01  7.62948207e-01  3.61359725e+00\n",
            "  5.00000000e+00  1.10619469e+00  2.18472330e+00  0.00000000e+00\n",
            "  0.00000000e+00  3.34933974e-01  5.55160142e-01  2.14754098e+00\n",
            "  1.12304835e+00  5.12762763e-01  2.33333333e+00  6.19304092e-01\n",
            "  2.45659489e+00  8.72832370e-01  8.51424967e-01  1.18301128e+00\n",
            "  8.10250391e-01  1.20591474e+00  1.85150079e+00  5.23476523e-01\n",
            "  8.47806075e-01  1.66536262e+00  1.47308782e+00  2.25000000e+00\n",
            "  0.00000000e+00 -1.37500000e-01  1.76433566e+00  1.02605634e+00\n",
            "  7.61446410e-01  1.29903537e+00  1.15853659e+00 -1.00000000e+00\n",
            "  7.22635310e-01  4.77419355e+00  1.44495787e+00  2.94042553e+00\n",
            "  5.65384615e+00  0.00000000e+00  4.67934140e-01  0.00000000e+00\n",
            "  6.88888889e-01  1.63204748e+00  1.18348624e+00  9.71698113e-01\n",
            "  6.81995716e-01  1.66666667e+00  1.31048387e+00  6.33743583e-01\n",
            "  8.20610687e-02  2.77227723e-01 -1.98392732e-01 -3.81818182e-01\n",
            "  7.04609173e-01  7.33416771e-02  4.96240602e-01 -4.94223363e-02\n",
            "  4.16411262e-01  1.04124294e+00  2.14512218e-03 -1.00000000e-01\n",
            "  1.11344538e+00  9.13852178e-01  0.00000000e+00  2.66666667e+00\n",
            "  9.07374101e-01  7.57437071e-01  2.31770833e-01  1.38894964e+00\n",
            "  5.78660050e-01  1.60000000e+00  5.48132373e-01  8.87666699e-01\n",
            "  8.05555556e-01  8.47275993e-01  3.87269267e-01  6.86622001e-01\n",
            "  6.99279755e-01  8.17174515e-01  4.20109290e-01  5.88674859e-01\n",
            "  8.00609687e-01  1.05727377e+00  3.42857143e-01  0.00000000e+00\n",
            "  3.47826087e-01  8.36832785e-01  7.50782065e-01  2.31428149e+00\n",
            "  1.46433566e+00 -1.61016949e-01  0.00000000e+00  4.23007428e-01\n",
            "  7.48603352e-01  3.35964425e-01  7.68898488e-01  1.77167630e+00\n",
            "  0.00000000e+00  4.27588771e-02  0.00000000e+00  1.34210526e+00\n",
            "  7.22660654e-01 -3.36134454e-02  7.48006380e-01  2.17378277e-01\n",
            "  1.51388889e+00  3.62129145e-01  2.09834949e-01  3.54497354e-01\n",
            "  3.17829457e-01 -3.52628367e-01  1.00000000e+00  3.78315789e+00\n",
            "  5.45009328e-01 -5.52763819e-02 -3.13301823e-01 -1.80867579e-03\n",
            "  4.80763908e-01 -4.05118660e-01  1.12962963e+00  8.29025845e-01\n",
            "  4.05498721e-01  0.00000000e+00  2.85950413e+00  1.65016502e-01\n",
            "  2.89062500e-01  4.01691332e-01 -3.18105352e-01  3.25369381e-01\n",
            " -1.02564103e-01 -8.80861850e-02  1.98587046e-01  7.69230769e-02\n",
            "  1.08730278e-01  5.24608014e-02  3.50333162e-01  9.16110622e-02\n",
            "  2.55792683e-01  1.45759581e-01  9.58503188e-02  1.94820667e-01\n",
            "  4.58797327e-01  4.46808511e-01  0.00000000e+00  8.92473118e-01\n",
            "  3.16760777e-03  1.09390510e-01 -8.24383940e-02  2.89443814e-02\n",
            "  1.16835017e+00  0.00000000e+00  3.27878104e-01  2.14057508e-01\n",
            "  2.79520679e-01 -3.66300366e-02  4.56725756e-01  0.00000000e+00\n",
            "  3.26617935e-01  0.00000000e+00  8.53932584e-01 -9.03141361e-02\n",
            "  5.13043478e-01 -3.84124088e-01  1.47551071e-01 -4.19889503e-01\n",
            " -9.41704036e-02  2.49069120e-02  2.99479167e-02  5.05882353e-01\n",
            " -3.95367627e-01  5.75000000e+00 -2.52750880e-01 -1.21962264e-01\n",
            "  2.73936170e-01 -3.58898722e-01 -1.90090011e-01  8.78504673e-02\n",
            " -2.47340426e-01 -2.43478261e-01  5.29347826e-01  4.59648804e-01\n",
            "  2.37500000e+00 -5.07494647e-01 -5.87818697e-02  7.82828283e-02\n",
            " -2.12669683e-01 -2.78706408e-01  5.00474383e-02 -3.71428571e-01\n",
            " -8.18488449e-02 -6.75902422e-02  6.03174603e-02 -2.54793733e-01\n",
            " -2.51505307e-01  3.56803948e-02 -2.60187606e-01  4.95265841e-02\n",
            "  1.72487910e-01 -2.48855399e-01  2.61926004e-01 -2.14503817e-01\n",
            "  1.35746606e-02  3.20000000e+00  4.65909091e-01 -6.97419001e-02\n",
            "  4.08732999e-01 -1.52736633e-01  2.09597352e-01 -7.60869565e-02\n",
            "  7.14285714e-02 -5.67892053e-02 -5.68421053e-01 -1.65712799e-01\n",
            " -8.68187579e-02  2.80601288e-01  0.00000000e+00  7.96487927e-02\n",
            "  0.00000000e+00  7.57575758e-03  2.99760192e-03 -1.41762452e-01\n",
            " -4.88395062e-01  3.11045576e-01 -2.07241631e-16 -1.78217822e-01\n",
            "  3.42726301e-01 -8.61356932e-01 -7.48697917e-02  1.96288048e-01\n",
            "  2.68700073e-02 -4.63652874e-01  8.41556358e-01 -1.67014614e-01\n",
            " -4.91820041e-01 -2.17879102e-01  3.34650630e-01 -4.69756807e-02\n",
            " -3.29501916e-01 -1.62520730e-01 -1.09912942e-02 -1.00000000e+00\n",
            " -8.27536232e-01  6.50112867e-01 -6.33879781e-02 -5.23627075e-02\n",
            "  3.44431777e-02 -1.46675702e-01 -9.84848485e-02  2.25161529e-01\n",
            "  4.10314384e-01  5.48902196e-02  4.86157051e-01 -2.27059951e-01\n",
            " -9.95052226e-02  1.95524146e-01 -1.06716015e-01  2.47937672e-01\n",
            " -1.81925926e-01  1.52984557e-01  4.97732426e-01 -2.83854167e-01\n",
            "  2.59052039e-16 -4.75452196e-01  4.37327824e-02  4.79971206e-01\n",
            "  6.22874393e-01 -8.35993312e-03 -1.21568627e-01  1.02222222e+00\n",
            " -1.60705904e-02 -3.31300813e-01 -2.43685688e-01  1.32662503e-01\n",
            " -1.52785541e-02  0.00000000e+00] [11.33333333 10.33333333 12.         13.16666667  9.99130435 11.06060606\n",
            " 12.41176471  9.125      10.         16.         11.00649351 13.88235294\n",
            " 11.37647059 11.94425087 11.36363636 10.57142857 12.4375     16.5       ] [377.          28.77142857  32.03626943  26.38461538  37.28205128\n",
            "  44.          86.23809524  25.8125      29.          34.\n",
            "  20.5         21.          21.90909091  29.         158.\n",
            "  58.92307692]\n"
          ],
          "name": "stdout"
        }
      ]
    },
    {
      "cell_type": "markdown",
      "metadata": {
        "id": "ljVPSVYdyhoz",
        "colab_type": "text"
      },
      "source": [
        "[-1.1363636363636362, 39.5, 213.91325695581014, 410.1818181818182]"
      ]
    },
    {
      "cell_type": "markdown",
      "metadata": {
        "id": "c36LK96Tzp3S",
        "colab_type": "text"
      },
      "source": [
        "Minima: [19.3877551  33.67346939]\n",
        "Maxima: [24.48979592 39.79591837]*italicized text*"
      ]
    },
    {
      "cell_type": "code",
      "metadata": {
        "id": "Wh455zOcyIUT",
        "colab_type": "code",
        "colab": {
          "base_uri": "https://localhost:8080/",
          "height": 350
        },
        "outputId": "b3ec68e8-df06-4751-c64d-f678a0d373a7"
      },
      "source": [
        "plot(s[:mi[0]+1], e[:mi[0]+1], 'r',\n",
        "     s[mi[0]:mi[1]+1], e[mi[0]:mi[1]+1], 'g',\n",
        "     s[mi[1]:], e[mi[1]:], 'b',\n",
        "     s[ma], e[ma], 'go',\n",
        "     s[mi], e[mi], 'ro')"
      ],
      "execution_count": 71,
      "outputs": [
        {
          "output_type": "execute_result",
          "data": {
            "text/plain": [
              "[<matplotlib.lines.Line2D at 0x7f2429ef6438>,\n",
              " <matplotlib.lines.Line2D at 0x7f2429ef6550>,\n",
              " <matplotlib.lines.Line2D at 0x7f2429ef66a0>,\n",
              " <matplotlib.lines.Line2D at 0x7f2429ef67f0>,\n",
              " <matplotlib.lines.Line2D at 0x7f2429ef6978>]"
            ]
          },
          "metadata": {
            "tags": []
          },
          "execution_count": 71
        },
        {
          "output_type": "display_data",
          "data": {
            "image/png": "[encoded data removed]",
            "text/plain": [
              "<Figure size 432x288 with 1 Axes>"
            ]
          },
          "metadata": {
            "tags": [],
            "needs_background": "light"
          }
        }
      ]
    },
    {
      "cell_type": "markdown",
      "metadata": {
        "id": "Ni7oN7RAzJ5N",
        "colab_type": "text"
      },
      "source": [
        "print(a[a < mi[0]], a[(a >= mi[0]) * (a <= mi[1])], a[a >= mi[1]])\n"
      ]
    },
    {
      "cell_type": "markdown",
      "metadata": {
        "id": "DLvIv1Av2j0s",
        "colab_type": "text"
      },
      "source": [
        "## Labeling Data with Kernal density results"
      ]
    },
    {
      "cell_type": "code",
      "metadata": {
        "id": "ovV5Fo3O2nCc",
        "colab_type": "code",
        "colab": {
          "base_uri": "https://localhost:8080/",
          "height": 204
        },
        "outputId": "de3b6ae9-ca80-489c-bef2-e296f29a9acc"
      },
      "source": [
        "average_newCases_df3.head()"
      ],
      "execution_count": 72,
      "outputs": [
        {
          "output_type": "execute_result",
          "data": {
            "text/html": [
              "<div>\n",
              "<style scoped>\n",
              "    .dataframe tbody tr th:only-of-type {\n",
              "        vertical-align: middle;\n",
              "    }\n",
              "\n",
              "    .dataframe tbody tr th {\n",
              "        vertical-align: top;\n",
              "    }\n",
              "\n",
              "    .dataframe thead th {\n",
              "        text-align: right;\n",
              "    }\n",
              "</style>\n",
              "<table border=\"1\" class=\"dataframe\">\n",
              "  <thead>\n",
              "    <tr style=\"text-align: right;\">\n",
              "      <th></th>\n",
              "      <th>FIPS</th>\n",
              "      <th>average_per_week</th>\n",
              "      <th>startDate</th>\n",
              "      <th>endDate</th>\n",
              "      <th>diff_avg_x</th>\n",
              "      <th>shift_avg_x</th>\n",
              "      <th>percent_newcases</th>\n",
              "    </tr>\n",
              "  </thead>\n",
              "  <tbody>\n",
              "    <tr>\n",
              "      <th>0</th>\n",
              "      <td>6001.0</td>\n",
              "      <td>0.0</td>\n",
              "      <td>2020-01-22</td>\n",
              "      <td>2020-02-01</td>\n",
              "      <td>0.0</td>\n",
              "      <td>NaN</td>\n",
              "      <td>0.0</td>\n",
              "    </tr>\n",
              "    <tr>\n",
              "      <th>1</th>\n",
              "      <td>6003.0</td>\n",
              "      <td>0.0</td>\n",
              "      <td>2020-01-22</td>\n",
              "      <td>2020-02-01</td>\n",
              "      <td>0.0</td>\n",
              "      <td>NaN</td>\n",
              "      <td>0.0</td>\n",
              "    </tr>\n",
              "    <tr>\n",
              "      <th>2</th>\n",
              "      <td>6005.0</td>\n",
              "      <td>0.0</td>\n",
              "      <td>2020-01-22</td>\n",
              "      <td>2020-02-01</td>\n",
              "      <td>0.0</td>\n",
              "      <td>NaN</td>\n",
              "      <td>0.0</td>\n",
              "    </tr>\n",
              "    <tr>\n",
              "      <th>3</th>\n",
              "      <td>6007.0</td>\n",
              "      <td>0.0</td>\n",
              "      <td>2020-01-22</td>\n",
              "      <td>2020-02-01</td>\n",
              "      <td>0.0</td>\n",
              "      <td>NaN</td>\n",
              "      <td>0.0</td>\n",
              "    </tr>\n",
              "    <tr>\n",
              "      <th>4</th>\n",
              "      <td>6009.0</td>\n",
              "      <td>0.0</td>\n",
              "      <td>2020-01-22</td>\n",
              "      <td>2020-02-01</td>\n",
              "      <td>0.0</td>\n",
              "      <td>NaN</td>\n",
              "      <td>0.0</td>\n",
              "    </tr>\n",
              "  </tbody>\n",
              "</table>\n",
              "</div>"
            ],
            "text/plain": [
              "     FIPS  average_per_week  ... shift_avg_x percent_newcases\n",
              "0  6001.0               0.0  ...         NaN              0.0\n",
              "1  6003.0               0.0  ...         NaN              0.0\n",
              "2  6005.0               0.0  ...         NaN              0.0\n",
              "3  6007.0               0.0  ...         NaN              0.0\n",
              "4  6009.0               0.0  ...         NaN              0.0\n",
              "\n",
              "[5 rows x 7 columns]"
            ]
          },
          "metadata": {
            "tags": []
          },
          "execution_count": 72
        }
      ]
    },
    {
      "cell_type": "code",
      "metadata": {
        "id": "ADQYgQnO4b54",
        "colab_type": "code",
        "colab": {
          "base_uri": "https://localhost:8080/",
          "height": 34
        },
        "outputId": "270ead91-547d-4776-c8e1-16157d05cf65"
      },
      "source": [
        "print(lower_range, upper_range)"
      ],
      "execution_count": 73,
      "outputs": [
        {
          "output_type": "stream",
          "text": [
            "9.183673469387756 18.367346938775512\n"
          ],
          "name": "stdout"
        }
      ]
    },
    {
      "cell_type": "code",
      "metadata": {
        "id": "FmnJt1cZ4wdz",
        "colab_type": "code",
        "colab": {}
      },
      "source": [
        "average_newCases_df3['label'] = average_newCases_df3['percent_newcases'].apply(lambda x: 'lessSpread' if x < lower_range  else 'SuperSpread')\n"
      ],
      "execution_count": null,
      "outputs": []
    },
    {
      "cell_type": "code",
      "metadata": {
        "id": "ga0KQRi92p_b",
        "colab_type": "code",
        "colab": {}
      },
      "source": [
        "average_newCases_df3['label'] = average_newCases_df3['percent_newcases'].apply(lambda x: 'lessSpread' if x < lower_range else ('Spread' if (x >= lower_range and x <= upper_range) else 'SuperSpread'))\n",
        "\n",
        "\n",
        "\n",
        "#converter = lambda x : x*2 if x < 10 else (x*3 if x < 20 else x)\n",
        "\n"
      ],
      "execution_count": null,
      "outputs": []
    },
    {
      "cell_type": "code",
      "metadata": {
        "id": "YYyJNdWL5nXM",
        "colab_type": "code",
        "colab": {}
      },
      "source": [
        "average_newCases_df3[average_newCases_df3['label'] == 'lessSpread'].count()"
      ],
      "execution_count": null,
      "outputs": []
    },
    {
      "cell_type": "code",
      "metadata": {
        "id": "gqHeMoWR5pew",
        "colab_type": "code",
        "colab": {}
      },
      "source": [
        "average_newCases_df3[average_newCases_df3['label'] == 'Spread'].count()"
      ],
      "execution_count": null,
      "outputs": []
    },
    {
      "cell_type": "code",
      "metadata": {
        "id": "mrYy5tdz5fp9",
        "colab_type": "code",
        "colab": {}
      },
      "source": [
        "average_newCases_df3[average_newCases_df3['label'] == 'SuperSpread'].count()"
      ],
      "execution_count": null,
      "outputs": []
    },
    {
      "cell_type": "code",
      "metadata": {
        "id": "ReYy7MgO2MUr",
        "colab_type": "code",
        "colab": {}
      },
      "source": [
        "average_newCases_df3.head()"
      ],
      "execution_count": null,
      "outputs": []
    },
    {
      "cell_type": "markdown",
      "metadata": {
        "id": "tjzZ215OtaIW",
        "colab_type": "text"
      },
      "source": [
        "# unused code\n"
      ]
    },
    {
      "cell_type": "code",
      "metadata": {
        "id": "56wE2giGtZGI",
        "colab_type": "code",
        "colab": {}
      },
      "source": [
        "average_newCases_df2[average_newCases_df2['County Name'] != 'Queens County']"
      ],
      "execution_count": null,
      "outputs": []
    },
    {
      "cell_type": "code",
      "metadata": {
        "id": "7WVvMHKojnwa",
        "colab_type": "code",
        "colab": {}
      },
      "source": [
        "average_newCases_df2.groupby(by=['County Name', 'fips_x','startDate','endDate']).sum()"
      ],
      "execution_count": null,
      "outputs": []
    },
    {
      "cell_type": "code",
      "metadata": {
        "id": "z0wvGGeQGSn6",
        "colab_type": "code",
        "colab": {}
      },
      "source": [
        "week_df.head()"
      ],
      "execution_count": null,
      "outputs": []
    },
    {
      "cell_type": "code",
      "metadata": {
        "id": "4nEdqE6wCkIH",
        "colab_type": "code",
        "colab": {}
      },
      "source": [
        "NY_combined_data.dtypes"
      ],
      "execution_count": null,
      "outputs": []
    },
    {
      "cell_type": "code",
      "metadata": {
        "id": "0T7aYEoAB4RX",
        "colab_type": "code",
        "colab": {}
      },
      "source": [
        "start_date_df = (\n",
        "    NY_combined_data\n",
        "    .merge(week_df, left_on=['Date'],right_on=['startDate'], how='inner')\n",
        "    .pipe(lambda x: x.assign(date=x.Date))\n",
        "    .rename(columns={\"starting_rolling_avg_new_cases\": \"rolling_avg_new_cases\"})\n",
        "    .reset_index(drop=True)\n",
        "\n",
        "    [['Date','fips_x','County Name','retail and recreation','grocery and pharmacy','parks','transit stations','workplaces','residential','driving','m50','m50_index','population_density','mask_rule_active','mask_wearing_percent','New cases','startDate','WeekNumber','rolling_avg_new_cases']]\n",
        "    .pivot_table(values='rolling_avg_new_cases', columns='WeekNumber', index='County Name', aggfunc='sum')\n",
        "    .rename_axis(None, axis=1)\n",
        "    .reset_index()\n",
        ")\n",
        "\n",
        "start_date_df"
      ],
      "execution_count": null,
      "outputs": []
    },
    {
      "cell_type": "code",
      "metadata": {
        "id": "rGUhrht6CdbZ",
        "colab_type": "code",
        "colab": {}
      },
      "source": [
        "end_date_df = (\n",
        "    NY_combined_data\n",
        "    .merge(week_df, on='Date', how='inner')\n",
        "    .pipe(lambda x: x.assign(date=x.Date))\n",
        "    .rename(columns={\"Confirmed\": \"end_date_Confirmed\"})\n",
        "    .reset_index(drop=True)\n",
        "\n",
        "    [['County Name', 'fips_x', 'end_date_Confirmed','endDate','WeekNumber']]\n",
        "    .pivot_table(values='end_date_Confirmed', columns='WeekNumber', index='County Name', aggfunc='sum')\n",
        "    .rename_axis(None, axis=1)\n",
        "    .reset_index()\n",
        ")"
      ],
      "execution_count": null,
      "outputs": []
    }
  ]
}