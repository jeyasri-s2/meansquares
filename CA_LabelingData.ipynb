{
  "nbformat": 4,
  "nbformat_minor": 0,
  "metadata": {
    "colab": {
      "name": "CA_LabelingData.ipynb",
      "provenance": [],
      "collapsed_sections": [],
      "toc_visible": true,
      "include_colab_link": true
    },
    "kernelspec": {
      "name": "python3",
      "display_name": "Python 3"
    }
  },
  "cells": [
    {
      "cell_type": "markdown",
      "metadata": {
        "id": "view-in-github",
        "colab_type": "text"
      },
      "source": [
        "<a href=\"https://colab.research.google.com/github/aarsanjani/meansquares/blob/master/CA_LabelingData.ipynb\" target=\"_parent\"><img src=\"https://colab.research.google.com/assets/colab-badge.svg\" alt=\"Open In Colab\"/></a>"
      ]
    },
    {
      "cell_type": "markdown",
      "metadata": {
        "id": "qMAquoew3eJg",
        "colab_type": "text"
      },
      "source": [
        "# Workflow\n",
        "\n",
        "This colab aims in labeling the CA data for super spread week, safe week and improvement week as per the 'number of cases' increasing or decreasing every week.\n",
        "\n",
        "Idea: \n",
        "* compute 7 -day moving average\n",
        "* 14 days data compare with next 14 days rolling window\n",
        "* split the % as buckets \n",
        "* label the data as per bucket"
      ]
    },
    {
      "cell_type": "code",
      "metadata": {
        "id": "_UPGHLrf3SHf",
        "colab_type": "code",
        "colab": {
          "base_uri": "https://localhost:8080/",
          "height": 34
        },
        "outputId": "041d2257-6452-49fb-d710-e8aab700a6f7"
      },
      "source": [
        "from google.colab import drive\n",
        "drive.mount('/content/drive')"
      ],
      "execution_count": 1,
      "outputs": [
        {
          "output_type": "stream",
          "text": [
            "Drive already mounted at /content/drive; to attempt to forcibly remount, call drive.mount(\"/content/drive\", force_remount=True).\n"
          ],
          "name": "stdout"
        }
      ]
    },
    {
      "cell_type": "code",
      "metadata": {
        "id": "Mi5n0Qe14UFG",
        "colab_type": "code",
        "colab": {
          "base_uri": "https://localhost:8080/",
          "height": 70
        },
        "outputId": "f63c0575-110c-4ec6-a1af-892b886248ac"
      },
      "source": [
        "import pandas as pd\n",
        "\n",
        "from tqdm import tqdm\n",
        "import seaborn as sns\n",
        "import numpy as np\n",
        "import matplotlib.pyplot as plt\n",
        "import os\n",
        "from pandas import Series, datetime\n",
        "from pandas.plotting import scatter_matrix, autocorrelation_plot\n",
        "from sklearn.preprocessing import StandardScaler, RobustScaler\n",
        "from sklearn.model_selection import train_test_split, KFold, cross_val_score, GridSearchCV, TimeSeriesSplit\n",
        "from sklearn import metrics\n",
        "from sklearn.metrics import classification_report, confusion_matrix, accuracy_score, mean_squared_error\n",
        "from sklearn.pipeline import Pipeline\n",
        "from sklearn.linear_model import LogisticRegression\n",
        "from sklearn.tree import DecisionTreeClassifier\n",
        "from sklearn.neighbors import KNeighborsClassifier\n",
        "from sklearn.discriminant_analysis import LinearDiscriminantAnalysis\n",
        "from sklearn.naive_bayes import GaussianNB\n",
        "from sklearn.cluster import KMeans\n",
        "from sklearn.svm import SVC\n",
        "from sklearn.ensemble import AdaBoostClassifier, GradientBoostingClassifier, RandomForestClassifier, ExtraTreesClassifier\n",
        "from sklearn.metrics import roc_curve, auc\n",
        "import random\n",
        "from statsmodels.graphics.tsaplots import plot_acf, plot_pacf\n",
        "from statsmodels.tsa.arima_model import ARIMA\n",
        "from xgboost import XGBClassifier\n",
        "from sklearn.mixture import GaussianMixture\n",
        "from datetime import datetime"
      ],
      "execution_count": 2,
      "outputs": [
        {
          "output_type": "stream",
          "text": [
            "/usr/local/lib/python3.6/dist-packages/statsmodels/tools/_testing.py:19: FutureWarning: pandas.util.testing is deprecated. Use the functions in the public API at pandas.testing instead.\n",
            "  import pandas.util.testing as tm\n"
          ],
          "name": "stderr"
        }
      ]
    },
    {
      "cell_type": "code",
      "metadata": {
        "id": "BPu9_0-04dxZ",
        "colab_type": "code",
        "colab": {}
      },
      "source": [
        "os.environ[\"TF_CPP_MIN_LOG_LEVEL\"]=\"2\"\n",
        "import warnings; warnings.simplefilter('ignore')\n"
      ],
      "execution_count": 3,
      "outputs": []
    },
    {
      "cell_type": "code",
      "metadata": {
        "id": "umC6l9Q04m-0",
        "colab_type": "code",
        "colab": {
          "base_uri": "https://localhost:8080/",
          "height": 370
        },
        "outputId": "e39168e8-20cb-4c51-fb97-56f693a6b477"
      },
      "source": [
        "!ls  '/content/drive/Shared drives/CMPE 295- Master Project/Covid19-data/'"
      ],
      "execution_count": 4,
      "outputs": [
        {
          "output_type": "stream",
          "text": [
            "CA_combined_Sep09.csv\n",
            "CA_Covid-19.csv\n",
            "CA-CovidAug22.csv\n",
            "CA_socialDistancingInertiaData_Sep09.csv\n",
            "Maryland_University_SocialDistancing_Data\n",
            "mask_rule.csv\n",
            "mask_rule_data.csv\n",
            "Newyork_combinedAug22.csv\n",
            "Newyork_combined.csv\n",
            "NY_Covid-19.csv\n",
            "NY-CovidAug21.csv\n",
            "NY-CovidAug22.csv\n",
            "NY_labeledData_Aug23.csv\n",
            "NY_labeledData_Aug27.csv\n",
            "NY_sd_inertia_labeledData_Aug26.csv\n",
            "NY_sd_inertia_labeledData_Aug27.csv\n",
            "NY_socialDistancingInertiaDataAug25.csv\n",
            "queens_all_combined.csv\n",
            "queens_all_filtered.csv\n",
            "Queens_county.csv\n",
            "Social_Distancing_Inertia_County.csv\n"
          ],
          "name": "stdout"
        }
      ]
    },
    {
      "cell_type": "markdown",
      "metadata": {
        "id": "tRs8xkjX433D",
        "colab_type": "text"
      },
      "source": [
        "# 1.1 Loading CA Combined data"
      ]
    },
    {
      "cell_type": "code",
      "metadata": {
        "id": "9uArhfbu43lE",
        "colab_type": "code",
        "colab": {
          "base_uri": "https://localhost:8080/",
          "height": 333
        },
        "outputId": "5884c479-9d6e-4279-946b-2640a0a10a93"
      },
      "source": [
        "NY_combined_data = pd.read_csv('/content/drive/Shared drives/CMPE 295- Master Project/Covid19-data/CA_combined_Sep09.csv',low_memory=False)\n",
        "NY_combined_data.head()"
      ],
      "execution_count": 5,
      "outputs": [
        {
          "output_type": "execute_result",
          "data": {
            "text/html": [
              "<div>\n",
              "<style scoped>\n",
              "    .dataframe tbody tr th:only-of-type {\n",
              "        vertical-align: middle;\n",
              "    }\n",
              "\n",
              "    .dataframe tbody tr th {\n",
              "        vertical-align: top;\n",
              "    }\n",
              "\n",
              "    .dataframe thead th {\n",
              "        text-align: right;\n",
              "    }\n",
              "</style>\n",
              "<table border=\"1\" class=\"dataframe\">\n",
              "  <thead>\n",
              "    <tr style=\"text-align: right;\">\n",
              "      <th></th>\n",
              "      <th>Date</th>\n",
              "      <th>fips_x</th>\n",
              "      <th>County Name</th>\n",
              "      <th>retail and recreation</th>\n",
              "      <th>grocery and pharmacy</th>\n",
              "      <th>parks</th>\n",
              "      <th>transit stations</th>\n",
              "      <th>workplaces</th>\n",
              "      <th>residential</th>\n",
              "      <th>driving</th>\n",
              "      <th>m50</th>\n",
              "      <th>m50_index</th>\n",
              "      <th>population_density</th>\n",
              "      <th>mask_rule_active</th>\n",
              "      <th>mask_wearing_percent</th>\n",
              "      <th>New cases</th>\n",
              "    </tr>\n",
              "  </thead>\n",
              "  <tbody>\n",
              "    <tr>\n",
              "      <th>0</th>\n",
              "      <td>2020-03-01</td>\n",
              "      <td>6001</td>\n",
              "      <td>Alameda County</td>\n",
              "      <td>6.0</td>\n",
              "      <td>9.0</td>\n",
              "      <td>15.0</td>\n",
              "      <td>1.0</td>\n",
              "      <td>4.0</td>\n",
              "      <td>0.0</td>\n",
              "      <td>-7.65</td>\n",
              "      <td>3.684</td>\n",
              "      <td>58</td>\n",
              "      <td>2261.547725</td>\n",
              "      <td>0</td>\n",
              "      <td>0.0</td>\n",
              "      <td>0</td>\n",
              "    </tr>\n",
              "    <tr>\n",
              "      <th>1</th>\n",
              "      <td>2020-03-02</td>\n",
              "      <td>6001</td>\n",
              "      <td>Alameda County</td>\n",
              "      <td>4.0</td>\n",
              "      <td>7.0</td>\n",
              "      <td>7.0</td>\n",
              "      <td>-1.0</td>\n",
              "      <td>3.0</td>\n",
              "      <td>0.0</td>\n",
              "      <td>6.76</td>\n",
              "      <td>6.182</td>\n",
              "      <td>98</td>\n",
              "      <td>2261.547725</td>\n",
              "      <td>0</td>\n",
              "      <td>0.0</td>\n",
              "      <td>0</td>\n",
              "    </tr>\n",
              "    <tr>\n",
              "      <th>2</th>\n",
              "      <td>2020-03-03</td>\n",
              "      <td>6001</td>\n",
              "      <td>Alameda County</td>\n",
              "      <td>5.0</td>\n",
              "      <td>12.0</td>\n",
              "      <td>41.0</td>\n",
              "      <td>0.0</td>\n",
              "      <td>1.0</td>\n",
              "      <td>-1.0</td>\n",
              "      <td>13.19</td>\n",
              "      <td>6.271</td>\n",
              "      <td>100</td>\n",
              "      <td>2261.547725</td>\n",
              "      <td>0</td>\n",
              "      <td>0.0</td>\n",
              "      <td>1</td>\n",
              "    </tr>\n",
              "    <tr>\n",
              "      <th>3</th>\n",
              "      <td>2020-03-04</td>\n",
              "      <td>6001</td>\n",
              "      <td>Alameda County</td>\n",
              "      <td>1.0</td>\n",
              "      <td>6.0</td>\n",
              "      <td>23.0</td>\n",
              "      <td>-3.0</td>\n",
              "      <td>1.0</td>\n",
              "      <td>0.0</td>\n",
              "      <td>10.67</td>\n",
              "      <td>6.209</td>\n",
              "      <td>99</td>\n",
              "      <td>2261.547725</td>\n",
              "      <td>0</td>\n",
              "      <td>0.0</td>\n",
              "      <td>0</td>\n",
              "    </tr>\n",
              "    <tr>\n",
              "      <th>4</th>\n",
              "      <td>2020-03-05</td>\n",
              "      <td>6001</td>\n",
              "      <td>Alameda County</td>\n",
              "      <td>1.0</td>\n",
              "      <td>6.0</td>\n",
              "      <td>12.0</td>\n",
              "      <td>-5.0</td>\n",
              "      <td>-1.0</td>\n",
              "      <td>1.0</td>\n",
              "      <td>11.64</td>\n",
              "      <td>6.654</td>\n",
              "      <td>106</td>\n",
              "      <td>2261.547725</td>\n",
              "      <td>0</td>\n",
              "      <td>0.0</td>\n",
              "      <td>0</td>\n",
              "    </tr>\n",
              "  </tbody>\n",
              "</table>\n",
              "</div>"
            ],
            "text/plain": [
              "         Date  fips_x  ... mask_wearing_percent  New cases\n",
              "0  2020-03-01    6001  ...                  0.0          0\n",
              "1  2020-03-02    6001  ...                  0.0          0\n",
              "2  2020-03-03    6001  ...                  0.0          1\n",
              "3  2020-03-04    6001  ...                  0.0          0\n",
              "4  2020-03-05    6001  ...                  0.0          0\n",
              "\n",
              "[5 rows x 16 columns]"
            ]
          },
          "metadata": {
            "tags": []
          },
          "execution_count": 5
        }
      ]
    },
    {
      "cell_type": "markdown",
      "metadata": {
        "id": "l_9OSAtX5wRO",
        "colab_type": "text"
      },
      "source": [
        "## Computing rolling average"
      ]
    },
    {
      "cell_type": "code",
      "metadata": {
        "id": "ny2Rd-RF6vYk",
        "colab_type": "code",
        "colab": {
          "base_uri": "https://localhost:8080/",
          "height": 218
        },
        "outputId": "62dbfef3-7a59-47d5-b745-25a180ce6b09"
      },
      "source": [
        "NY_combined_data.iloc[:,15]"
      ],
      "execution_count": 6,
      "outputs": [
        {
          "output_type": "execute_result",
          "data": {
            "text/plain": [
              "0        0\n",
              "1        0\n",
              "2        1\n",
              "3        0\n",
              "4        0\n",
              "        ..\n",
              "9191     0\n",
              "9192    28\n",
              "9193    35\n",
              "9194     0\n",
              "9195     8\n",
              "Name: New cases, Length: 9196, dtype: int64"
            ]
          },
          "metadata": {
            "tags": []
          },
          "execution_count": 6
        }
      ]
    },
    {
      "cell_type": "code",
      "metadata": {
        "id": "xC8CEpDiLiEn",
        "colab_type": "code",
        "colab": {}
      },
      "source": [
        "df = pd.DataFrame(columns=['Date','fips_x','County Name','retail and recreation','grocery and pharmacy','parks','transit stations','workplaces','residential','driving','m50','m50_index','population_density','mask_rule_active','mask_wearing_percent','New cases','rolling_avg_new_cases'])\n"
      ],
      "execution_count": 7,
      "outputs": []
    },
    {
      "cell_type": "code",
      "metadata": {
        "id": "FWxcf8d0Jmyv",
        "colab_type": "code",
        "colab": {
          "base_uri": "https://localhost:8080/",
          "height": 333
        },
        "outputId": "bbe22530-483a-4d72-b8f9-37de75b53909"
      },
      "source": [
        "NY_counties = NY_combined_data['County Name'].unique()\n",
        "\n",
        "for county in NY_counties:\n",
        "  county_data = NY_combined_data[NY_combined_data['County Name'] == county]\n",
        "  #print(county_data.iloc[:,15])\n",
        "  county_data['rolling_avg_new_cases'] = county_data.iloc[:,15].rolling(window=7).mean()\n",
        "  df = df.append(county_data)\n",
        "\n",
        "df.head()"
      ],
      "execution_count": 8,
      "outputs": [
        {
          "output_type": "execute_result",
          "data": {
            "text/html": [
              "<div>\n",
              "<style scoped>\n",
              "    .dataframe tbody tr th:only-of-type {\n",
              "        vertical-align: middle;\n",
              "    }\n",
              "\n",
              "    .dataframe tbody tr th {\n",
              "        vertical-align: top;\n",
              "    }\n",
              "\n",
              "    .dataframe thead th {\n",
              "        text-align: right;\n",
              "    }\n",
              "</style>\n",
              "<table border=\"1\" class=\"dataframe\">\n",
              "  <thead>\n",
              "    <tr style=\"text-align: right;\">\n",
              "      <th></th>\n",
              "      <th>Date</th>\n",
              "      <th>fips_x</th>\n",
              "      <th>County Name</th>\n",
              "      <th>retail and recreation</th>\n",
              "      <th>grocery and pharmacy</th>\n",
              "      <th>parks</th>\n",
              "      <th>transit stations</th>\n",
              "      <th>workplaces</th>\n",
              "      <th>residential</th>\n",
              "      <th>driving</th>\n",
              "      <th>m50</th>\n",
              "      <th>m50_index</th>\n",
              "      <th>population_density</th>\n",
              "      <th>mask_rule_active</th>\n",
              "      <th>mask_wearing_percent</th>\n",
              "      <th>New cases</th>\n",
              "      <th>rolling_avg_new_cases</th>\n",
              "    </tr>\n",
              "  </thead>\n",
              "  <tbody>\n",
              "    <tr>\n",
              "      <th>0</th>\n",
              "      <td>2020-03-01</td>\n",
              "      <td>6001</td>\n",
              "      <td>Alameda County</td>\n",
              "      <td>6.0</td>\n",
              "      <td>9.0</td>\n",
              "      <td>15.0</td>\n",
              "      <td>1.0</td>\n",
              "      <td>4.0</td>\n",
              "      <td>0.0</td>\n",
              "      <td>-7.65</td>\n",
              "      <td>3.684</td>\n",
              "      <td>58</td>\n",
              "      <td>2261.547725</td>\n",
              "      <td>0</td>\n",
              "      <td>0.0</td>\n",
              "      <td>0</td>\n",
              "      <td>NaN</td>\n",
              "    </tr>\n",
              "    <tr>\n",
              "      <th>1</th>\n",
              "      <td>2020-03-02</td>\n",
              "      <td>6001</td>\n",
              "      <td>Alameda County</td>\n",
              "      <td>4.0</td>\n",
              "      <td>7.0</td>\n",
              "      <td>7.0</td>\n",
              "      <td>-1.0</td>\n",
              "      <td>3.0</td>\n",
              "      <td>0.0</td>\n",
              "      <td>6.76</td>\n",
              "      <td>6.182</td>\n",
              "      <td>98</td>\n",
              "      <td>2261.547725</td>\n",
              "      <td>0</td>\n",
              "      <td>0.0</td>\n",
              "      <td>0</td>\n",
              "      <td>NaN</td>\n",
              "    </tr>\n",
              "    <tr>\n",
              "      <th>2</th>\n",
              "      <td>2020-03-03</td>\n",
              "      <td>6001</td>\n",
              "      <td>Alameda County</td>\n",
              "      <td>5.0</td>\n",
              "      <td>12.0</td>\n",
              "      <td>41.0</td>\n",
              "      <td>0.0</td>\n",
              "      <td>1.0</td>\n",
              "      <td>-1.0</td>\n",
              "      <td>13.19</td>\n",
              "      <td>6.271</td>\n",
              "      <td>100</td>\n",
              "      <td>2261.547725</td>\n",
              "      <td>0</td>\n",
              "      <td>0.0</td>\n",
              "      <td>1</td>\n",
              "      <td>NaN</td>\n",
              "    </tr>\n",
              "    <tr>\n",
              "      <th>3</th>\n",
              "      <td>2020-03-04</td>\n",
              "      <td>6001</td>\n",
              "      <td>Alameda County</td>\n",
              "      <td>1.0</td>\n",
              "      <td>6.0</td>\n",
              "      <td>23.0</td>\n",
              "      <td>-3.0</td>\n",
              "      <td>1.0</td>\n",
              "      <td>0.0</td>\n",
              "      <td>10.67</td>\n",
              "      <td>6.209</td>\n",
              "      <td>99</td>\n",
              "      <td>2261.547725</td>\n",
              "      <td>0</td>\n",
              "      <td>0.0</td>\n",
              "      <td>0</td>\n",
              "      <td>NaN</td>\n",
              "    </tr>\n",
              "    <tr>\n",
              "      <th>4</th>\n",
              "      <td>2020-03-05</td>\n",
              "      <td>6001</td>\n",
              "      <td>Alameda County</td>\n",
              "      <td>1.0</td>\n",
              "      <td>6.0</td>\n",
              "      <td>12.0</td>\n",
              "      <td>-5.0</td>\n",
              "      <td>-1.0</td>\n",
              "      <td>1.0</td>\n",
              "      <td>11.64</td>\n",
              "      <td>6.654</td>\n",
              "      <td>106</td>\n",
              "      <td>2261.547725</td>\n",
              "      <td>0</td>\n",
              "      <td>0.0</td>\n",
              "      <td>0</td>\n",
              "      <td>NaN</td>\n",
              "    </tr>\n",
              "  </tbody>\n",
              "</table>\n",
              "</div>"
            ],
            "text/plain": [
              "         Date fips_x  ... New cases  rolling_avg_new_cases\n",
              "0  2020-03-01   6001  ...         0                    NaN\n",
              "1  2020-03-02   6001  ...         0                    NaN\n",
              "2  2020-03-03   6001  ...         1                    NaN\n",
              "3  2020-03-04   6001  ...         0                    NaN\n",
              "4  2020-03-05   6001  ...         0                    NaN\n",
              "\n",
              "[5 rows x 17 columns]"
            ]
          },
          "metadata": {
            "tags": []
          },
          "execution_count": 8
        }
      ]
    },
    {
      "cell_type": "code",
      "metadata": {
        "id": "0JUt8Yi7L9Av",
        "colab_type": "code",
        "colab": {
          "base_uri": "https://localhost:8080/",
          "height": 50
        },
        "outputId": "1299bae7-bb7c-4d9e-dcb1-33cffcfa47b2"
      },
      "source": [
        "print(df.shape)\n",
        "NY_combined_data.shape"
      ],
      "execution_count": 9,
      "outputs": [
        {
          "output_type": "stream",
          "text": [
            "(9196, 17)\n"
          ],
          "name": "stdout"
        },
        {
          "output_type": "execute_result",
          "data": {
            "text/plain": [
              "(9196, 16)"
            ]
          },
          "metadata": {
            "tags": []
          },
          "execution_count": 9
        }
      ]
    },
    {
      "cell_type": "code",
      "metadata": {
        "id": "w8st06aoMKti",
        "colab_type": "code",
        "colab": {
          "base_uri": "https://localhost:8080/",
          "height": 623
        },
        "outputId": "88cb579f-95a2-4094-be96-84903087c533"
      },
      "source": [
        "NY_combined_data = df.copy()\n",
        "NY_combined_data"
      ],
      "execution_count": 10,
      "outputs": [
        {
          "output_type": "execute_result",
          "data": {
            "text/html": [
              "<div>\n",
              "<style scoped>\n",
              "    .dataframe tbody tr th:only-of-type {\n",
              "        vertical-align: middle;\n",
              "    }\n",
              "\n",
              "    .dataframe tbody tr th {\n",
              "        vertical-align: top;\n",
              "    }\n",
              "\n",
              "    .dataframe thead th {\n",
              "        text-align: right;\n",
              "    }\n",
              "</style>\n",
              "<table border=\"1\" class=\"dataframe\">\n",
              "  <thead>\n",
              "    <tr style=\"text-align: right;\">\n",
              "      <th></th>\n",
              "      <th>Date</th>\n",
              "      <th>fips_x</th>\n",
              "      <th>County Name</th>\n",
              "      <th>retail and recreation</th>\n",
              "      <th>grocery and pharmacy</th>\n",
              "      <th>parks</th>\n",
              "      <th>transit stations</th>\n",
              "      <th>workplaces</th>\n",
              "      <th>residential</th>\n",
              "      <th>driving</th>\n",
              "      <th>m50</th>\n",
              "      <th>m50_index</th>\n",
              "      <th>population_density</th>\n",
              "      <th>mask_rule_active</th>\n",
              "      <th>mask_wearing_percent</th>\n",
              "      <th>New cases</th>\n",
              "      <th>rolling_avg_new_cases</th>\n",
              "    </tr>\n",
              "  </thead>\n",
              "  <tbody>\n",
              "    <tr>\n",
              "      <th>0</th>\n",
              "      <td>2020-03-01</td>\n",
              "      <td>6001</td>\n",
              "      <td>Alameda County</td>\n",
              "      <td>6.0</td>\n",
              "      <td>9.0</td>\n",
              "      <td>15.0</td>\n",
              "      <td>1.0</td>\n",
              "      <td>4.0</td>\n",
              "      <td>0.0</td>\n",
              "      <td>-7.65</td>\n",
              "      <td>3.684</td>\n",
              "      <td>58</td>\n",
              "      <td>2261.547725</td>\n",
              "      <td>0</td>\n",
              "      <td>0.000</td>\n",
              "      <td>0</td>\n",
              "      <td>NaN</td>\n",
              "    </tr>\n",
              "    <tr>\n",
              "      <th>1</th>\n",
              "      <td>2020-03-02</td>\n",
              "      <td>6001</td>\n",
              "      <td>Alameda County</td>\n",
              "      <td>4.0</td>\n",
              "      <td>7.0</td>\n",
              "      <td>7.0</td>\n",
              "      <td>-1.0</td>\n",
              "      <td>3.0</td>\n",
              "      <td>0.0</td>\n",
              "      <td>6.76</td>\n",
              "      <td>6.182</td>\n",
              "      <td>98</td>\n",
              "      <td>2261.547725</td>\n",
              "      <td>0</td>\n",
              "      <td>0.000</td>\n",
              "      <td>0</td>\n",
              "      <td>NaN</td>\n",
              "    </tr>\n",
              "    <tr>\n",
              "      <th>2</th>\n",
              "      <td>2020-03-03</td>\n",
              "      <td>6001</td>\n",
              "      <td>Alameda County</td>\n",
              "      <td>5.0</td>\n",
              "      <td>12.0</td>\n",
              "      <td>41.0</td>\n",
              "      <td>0.0</td>\n",
              "      <td>1.0</td>\n",
              "      <td>-1.0</td>\n",
              "      <td>13.19</td>\n",
              "      <td>6.271</td>\n",
              "      <td>100</td>\n",
              "      <td>2261.547725</td>\n",
              "      <td>0</td>\n",
              "      <td>0.000</td>\n",
              "      <td>1</td>\n",
              "      <td>NaN</td>\n",
              "    </tr>\n",
              "    <tr>\n",
              "      <th>3</th>\n",
              "      <td>2020-03-04</td>\n",
              "      <td>6001</td>\n",
              "      <td>Alameda County</td>\n",
              "      <td>1.0</td>\n",
              "      <td>6.0</td>\n",
              "      <td>23.0</td>\n",
              "      <td>-3.0</td>\n",
              "      <td>1.0</td>\n",
              "      <td>0.0</td>\n",
              "      <td>10.67</td>\n",
              "      <td>6.209</td>\n",
              "      <td>99</td>\n",
              "      <td>2261.547725</td>\n",
              "      <td>0</td>\n",
              "      <td>0.000</td>\n",
              "      <td>0</td>\n",
              "      <td>NaN</td>\n",
              "    </tr>\n",
              "    <tr>\n",
              "      <th>4</th>\n",
              "      <td>2020-03-05</td>\n",
              "      <td>6001</td>\n",
              "      <td>Alameda County</td>\n",
              "      <td>1.0</td>\n",
              "      <td>6.0</td>\n",
              "      <td>12.0</td>\n",
              "      <td>-5.0</td>\n",
              "      <td>-1.0</td>\n",
              "      <td>1.0</td>\n",
              "      <td>11.64</td>\n",
              "      <td>6.654</td>\n",
              "      <td>106</td>\n",
              "      <td>2261.547725</td>\n",
              "      <td>0</td>\n",
              "      <td>0.000</td>\n",
              "      <td>0</td>\n",
              "      <td>NaN</td>\n",
              "    </tr>\n",
              "    <tr>\n",
              "      <th>...</th>\n",
              "      <td>...</td>\n",
              "      <td>...</td>\n",
              "      <td>...</td>\n",
              "      <td>...</td>\n",
              "      <td>...</td>\n",
              "      <td>...</td>\n",
              "      <td>...</td>\n",
              "      <td>...</td>\n",
              "      <td>...</td>\n",
              "      <td>...</td>\n",
              "      <td>...</td>\n",
              "      <td>...</td>\n",
              "      <td>...</td>\n",
              "      <td>...</td>\n",
              "      <td>...</td>\n",
              "      <td>...</td>\n",
              "      <td>...</td>\n",
              "    </tr>\n",
              "    <tr>\n",
              "      <th>9191</th>\n",
              "      <td>2020-08-17</td>\n",
              "      <td>6115</td>\n",
              "      <td>Yuba County</td>\n",
              "      <td>-11.0</td>\n",
              "      <td>12.0</td>\n",
              "      <td>0.0</td>\n",
              "      <td>-11.0</td>\n",
              "      <td>-34.0</td>\n",
              "      <td>7.0</td>\n",
              "      <td>64.29</td>\n",
              "      <td>4.100</td>\n",
              "      <td>43</td>\n",
              "      <td>124.506204</td>\n",
              "      <td>1</td>\n",
              "      <td>0.669</td>\n",
              "      <td>0</td>\n",
              "      <td>16.000000</td>\n",
              "    </tr>\n",
              "    <tr>\n",
              "      <th>9192</th>\n",
              "      <td>2020-08-18</td>\n",
              "      <td>6115</td>\n",
              "      <td>Yuba County</td>\n",
              "      <td>-13.0</td>\n",
              "      <td>9.0</td>\n",
              "      <td>0.0</td>\n",
              "      <td>-21.0</td>\n",
              "      <td>-32.0</td>\n",
              "      <td>8.0</td>\n",
              "      <td>54.39</td>\n",
              "      <td>4.944</td>\n",
              "      <td>52</td>\n",
              "      <td>124.506204</td>\n",
              "      <td>1</td>\n",
              "      <td>0.669</td>\n",
              "      <td>28</td>\n",
              "      <td>17.142857</td>\n",
              "    </tr>\n",
              "    <tr>\n",
              "      <th>9193</th>\n",
              "      <td>2020-08-19</td>\n",
              "      <td>6115</td>\n",
              "      <td>Yuba County</td>\n",
              "      <td>-13.0</td>\n",
              "      <td>5.0</td>\n",
              "      <td>0.0</td>\n",
              "      <td>-22.0</td>\n",
              "      <td>-33.0</td>\n",
              "      <td>8.0</td>\n",
              "      <td>61.72</td>\n",
              "      <td>4.090</td>\n",
              "      <td>43</td>\n",
              "      <td>124.506204</td>\n",
              "      <td>1</td>\n",
              "      <td>0.669</td>\n",
              "      <td>35</td>\n",
              "      <td>20.428571</td>\n",
              "    </tr>\n",
              "    <tr>\n",
              "      <th>9194</th>\n",
              "      <td>2020-08-20</td>\n",
              "      <td>6115</td>\n",
              "      <td>Yuba County</td>\n",
              "      <td>-13.0</td>\n",
              "      <td>11.0</td>\n",
              "      <td>0.0</td>\n",
              "      <td>-19.0</td>\n",
              "      <td>-33.0</td>\n",
              "      <td>8.0</td>\n",
              "      <td>59.48</td>\n",
              "      <td>4.096</td>\n",
              "      <td>43</td>\n",
              "      <td>124.506204</td>\n",
              "      <td>1</td>\n",
              "      <td>0.669</td>\n",
              "      <td>0</td>\n",
              "      <td>19.000000</td>\n",
              "    </tr>\n",
              "    <tr>\n",
              "      <th>9195</th>\n",
              "      <td>2020-08-21</td>\n",
              "      <td>6115</td>\n",
              "      <td>Yuba County</td>\n",
              "      <td>-13.0</td>\n",
              "      <td>7.0</td>\n",
              "      <td>69.0</td>\n",
              "      <td>-20.0</td>\n",
              "      <td>-33.0</td>\n",
              "      <td>10.0</td>\n",
              "      <td>84.31</td>\n",
              "      <td>5.820</td>\n",
              "      <td>61</td>\n",
              "      <td>124.506204</td>\n",
              "      <td>1</td>\n",
              "      <td>0.669</td>\n",
              "      <td>8</td>\n",
              "      <td>12.714286</td>\n",
              "    </tr>\n",
              "  </tbody>\n",
              "</table>\n",
              "<p>9196 rows × 17 columns</p>\n",
              "</div>"
            ],
            "text/plain": [
              "            Date fips_x  ... New cases  rolling_avg_new_cases\n",
              "0     2020-03-01   6001  ...         0                    NaN\n",
              "1     2020-03-02   6001  ...         0                    NaN\n",
              "2     2020-03-03   6001  ...         1                    NaN\n",
              "3     2020-03-04   6001  ...         0                    NaN\n",
              "4     2020-03-05   6001  ...         0                    NaN\n",
              "...          ...    ...  ...       ...                    ...\n",
              "9191  2020-08-17   6115  ...         0              16.000000\n",
              "9192  2020-08-18   6115  ...        28              17.142857\n",
              "9193  2020-08-19   6115  ...        35              20.428571\n",
              "9194  2020-08-20   6115  ...         0              19.000000\n",
              "9195  2020-08-21   6115  ...         8              12.714286\n",
              "\n",
              "[9196 rows x 17 columns]"
            ]
          },
          "metadata": {
            "tags": []
          },
          "execution_count": 10
        }
      ]
    },
    {
      "cell_type": "code",
      "metadata": {
        "id": "YzMFu5wZIB-A",
        "colab_type": "code",
        "colab": {
          "base_uri": "https://localhost:8080/",
          "height": 1000
        },
        "outputId": "d613f994-698f-44cb-f938-133907d2411e"
      },
      "source": [
        "NY_combined_data[NY_combined_data['Date'] == '2020-08-01']"
      ],
      "execution_count": 11,
      "outputs": [
        {
          "output_type": "execute_result",
          "data": {
            "text/html": [
              "<div>\n",
              "<style scoped>\n",
              "    .dataframe tbody tr th:only-of-type {\n",
              "        vertical-align: middle;\n",
              "    }\n",
              "\n",
              "    .dataframe tbody tr th {\n",
              "        vertical-align: top;\n",
              "    }\n",
              "\n",
              "    .dataframe thead th {\n",
              "        text-align: right;\n",
              "    }\n",
              "</style>\n",
              "<table border=\"1\" class=\"dataframe\">\n",
              "  <thead>\n",
              "    <tr style=\"text-align: right;\">\n",
              "      <th></th>\n",
              "      <th>Date</th>\n",
              "      <th>fips_x</th>\n",
              "      <th>County Name</th>\n",
              "      <th>retail and recreation</th>\n",
              "      <th>grocery and pharmacy</th>\n",
              "      <th>parks</th>\n",
              "      <th>transit stations</th>\n",
              "      <th>workplaces</th>\n",
              "      <th>residential</th>\n",
              "      <th>driving</th>\n",
              "      <th>m50</th>\n",
              "      <th>m50_index</th>\n",
              "      <th>population_density</th>\n",
              "      <th>mask_rule_active</th>\n",
              "      <th>mask_wearing_percent</th>\n",
              "      <th>New cases</th>\n",
              "      <th>rolling_avg_new_cases</th>\n",
              "    </tr>\n",
              "  </thead>\n",
              "  <tbody>\n",
              "    <tr>\n",
              "      <th>151</th>\n",
              "      <td>2020-08-01</td>\n",
              "      <td>6001</td>\n",
              "      <td>Alameda County</td>\n",
              "      <td>-44.0</td>\n",
              "      <td>-13.0</td>\n",
              "      <td>28.0</td>\n",
              "      <td>-49.0</td>\n",
              "      <td>-19.0</td>\n",
              "      <td>9.0</td>\n",
              "      <td>9.45</td>\n",
              "      <td>1.041</td>\n",
              "      <td>16</td>\n",
              "      <td>2261.547725</td>\n",
              "      <td>1</td>\n",
              "      <td>0.795</td>\n",
              "      <td>345</td>\n",
              "      <td>164.857143</td>\n",
              "    </tr>\n",
              "    <tr>\n",
              "      <th>323</th>\n",
              "      <td>2020-08-01</td>\n",
              "      <td>6005</td>\n",
              "      <td>Amador County</td>\n",
              "      <td>-9.0</td>\n",
              "      <td>12.0</td>\n",
              "      <td>0.0</td>\n",
              "      <td>0.0</td>\n",
              "      <td>-15.0</td>\n",
              "      <td>0.0</td>\n",
              "      <td>123.25</td>\n",
              "      <td>2.433</td>\n",
              "      <td>18</td>\n",
              "      <td>66.857277</td>\n",
              "      <td>1</td>\n",
              "      <td>0.655</td>\n",
              "      <td>10</td>\n",
              "      <td>7.714286</td>\n",
              "    </tr>\n",
              "    <tr>\n",
              "      <th>495</th>\n",
              "      <td>2020-08-01</td>\n",
              "      <td>6007</td>\n",
              "      <td>Butte County</td>\n",
              "      <td>-21.0</td>\n",
              "      <td>2.0</td>\n",
              "      <td>39.0</td>\n",
              "      <td>0.0</td>\n",
              "      <td>-15.0</td>\n",
              "      <td>3.0</td>\n",
              "      <td>55.33</td>\n",
              "      <td>2.452</td>\n",
              "      <td>53</td>\n",
              "      <td>133.939112</td>\n",
              "      <td>1</td>\n",
              "      <td>0.626</td>\n",
              "      <td>0</td>\n",
              "      <td>26.142857</td>\n",
              "    </tr>\n",
              "    <tr>\n",
              "      <th>667</th>\n",
              "      <td>2020-08-01</td>\n",
              "      <td>6009</td>\n",
              "      <td>Calaveras County</td>\n",
              "      <td>-31.0</td>\n",
              "      <td>0.0</td>\n",
              "      <td>0.0</td>\n",
              "      <td>0.0</td>\n",
              "      <td>-10.0</td>\n",
              "      <td>0.0</td>\n",
              "      <td>154.27</td>\n",
              "      <td>5.737</td>\n",
              "      <td>33</td>\n",
              "      <td>45.004461</td>\n",
              "      <td>1</td>\n",
              "      <td>0.562</td>\n",
              "      <td>0</td>\n",
              "      <td>3.714286</td>\n",
              "    </tr>\n",
              "    <tr>\n",
              "      <th>839</th>\n",
              "      <td>2020-08-01</td>\n",
              "      <td>6011</td>\n",
              "      <td>Colusa County</td>\n",
              "      <td>-14.0</td>\n",
              "      <td>0.0</td>\n",
              "      <td>0.0</td>\n",
              "      <td>-18.0</td>\n",
              "      <td>-5.0</td>\n",
              "      <td>0.0</td>\n",
              "      <td>138.38</td>\n",
              "      <td>10.870</td>\n",
              "      <td>75</td>\n",
              "      <td>18.724636</td>\n",
              "      <td>1</td>\n",
              "      <td>0.700</td>\n",
              "      <td>0</td>\n",
              "      <td>8.571429</td>\n",
              "    </tr>\n",
              "    <tr>\n",
              "      <th>1011</th>\n",
              "      <td>2020-08-01</td>\n",
              "      <td>6013</td>\n",
              "      <td>Contra Costa County</td>\n",
              "      <td>-34.0</td>\n",
              "      <td>-3.0</td>\n",
              "      <td>24.0</td>\n",
              "      <td>-33.0</td>\n",
              "      <td>-21.0</td>\n",
              "      <td>7.0</td>\n",
              "      <td>25.51</td>\n",
              "      <td>1.790</td>\n",
              "      <td>23</td>\n",
              "      <td>1611.204850</td>\n",
              "      <td>1</td>\n",
              "      <td>0.806</td>\n",
              "      <td>136</td>\n",
              "      <td>148.000000</td>\n",
              "    </tr>\n",
              "    <tr>\n",
              "      <th>1183</th>\n",
              "      <td>2020-08-01</td>\n",
              "      <td>6015</td>\n",
              "      <td>Del Norte County</td>\n",
              "      <td>32.0</td>\n",
              "      <td>48.0</td>\n",
              "      <td>0.0</td>\n",
              "      <td>0.0</td>\n",
              "      <td>-3.0</td>\n",
              "      <td>0.0</td>\n",
              "      <td>388.59</td>\n",
              "      <td>2.082</td>\n",
              "      <td>92</td>\n",
              "      <td>27.635959</td>\n",
              "      <td>1</td>\n",
              "      <td>0.547</td>\n",
              "      <td>0</td>\n",
              "      <td>0.142857</td>\n",
              "    </tr>\n",
              "    <tr>\n",
              "      <th>1355</th>\n",
              "      <td>2020-08-01</td>\n",
              "      <td>6017</td>\n",
              "      <td>El Dorado County</td>\n",
              "      <td>-13.0</td>\n",
              "      <td>9.0</td>\n",
              "      <td>161.0</td>\n",
              "      <td>3.0</td>\n",
              "      <td>-17.0</td>\n",
              "      <td>4.0</td>\n",
              "      <td>174.95</td>\n",
              "      <td>4.362</td>\n",
              "      <td>44</td>\n",
              "      <td>112.913671</td>\n",
              "      <td>1</td>\n",
              "      <td>0.675</td>\n",
              "      <td>0</td>\n",
              "      <td>17.714286</td>\n",
              "    </tr>\n",
              "    <tr>\n",
              "      <th>1527</th>\n",
              "      <td>2020-08-01</td>\n",
              "      <td>6019</td>\n",
              "      <td>Fresno County</td>\n",
              "      <td>-24.0</td>\n",
              "      <td>0.0</td>\n",
              "      <td>30.0</td>\n",
              "      <td>-16.0</td>\n",
              "      <td>-15.0</td>\n",
              "      <td>4.0</td>\n",
              "      <td>47.48</td>\n",
              "      <td>1.743</td>\n",
              "      <td>26</td>\n",
              "      <td>167.690949</td>\n",
              "      <td>1</td>\n",
              "      <td>0.741</td>\n",
              "      <td>0</td>\n",
              "      <td>267.857143</td>\n",
              "    </tr>\n",
              "    <tr>\n",
              "      <th>1699</th>\n",
              "      <td>2020-08-01</td>\n",
              "      <td>6021</td>\n",
              "      <td>Glenn County</td>\n",
              "      <td>-13.0</td>\n",
              "      <td>5.0</td>\n",
              "      <td>0.0</td>\n",
              "      <td>26.0</td>\n",
              "      <td>-15.0</td>\n",
              "      <td>0.0</td>\n",
              "      <td>135.39</td>\n",
              "      <td>5.116</td>\n",
              "      <td>35</td>\n",
              "      <td>21.608889</td>\n",
              "      <td>1</td>\n",
              "      <td>0.594</td>\n",
              "      <td>0</td>\n",
              "      <td>8.571429</td>\n",
              "    </tr>\n",
              "    <tr>\n",
              "      <th>1871</th>\n",
              "      <td>2020-08-01</td>\n",
              "      <td>6023</td>\n",
              "      <td>Humboldt County</td>\n",
              "      <td>-18.0</td>\n",
              "      <td>2.0</td>\n",
              "      <td>119.0</td>\n",
              "      <td>-41.0</td>\n",
              "      <td>-18.0</td>\n",
              "      <td>3.0</td>\n",
              "      <td>128.47</td>\n",
              "      <td>1.369</td>\n",
              "      <td>40</td>\n",
              "      <td>37.992819</td>\n",
              "      <td>1</td>\n",
              "      <td>0.865</td>\n",
              "      <td>0</td>\n",
              "      <td>4.000000</td>\n",
              "    </tr>\n",
              "    <tr>\n",
              "      <th>2043</th>\n",
              "      <td>2020-08-01</td>\n",
              "      <td>6025</td>\n",
              "      <td>Imperial County</td>\n",
              "      <td>-51.0</td>\n",
              "      <td>-29.0</td>\n",
              "      <td>-73.0</td>\n",
              "      <td>-47.0</td>\n",
              "      <td>-25.0</td>\n",
              "      <td>12.0</td>\n",
              "      <td>34.88</td>\n",
              "      <td>0.110</td>\n",
              "      <td>3</td>\n",
              "      <td>43.388163</td>\n",
              "      <td>1</td>\n",
              "      <td>0.836</td>\n",
              "      <td>43</td>\n",
              "      <td>48.857143</td>\n",
              "    </tr>\n",
              "    <tr>\n",
              "      <th>2215</th>\n",
              "      <td>2020-08-01</td>\n",
              "      <td>6027</td>\n",
              "      <td>Inyo County</td>\n",
              "      <td>13.0</td>\n",
              "      <td>0.0</td>\n",
              "      <td>55.0</td>\n",
              "      <td>0.0</td>\n",
              "      <td>-22.0</td>\n",
              "      <td>0.0</td>\n",
              "      <td>227.25</td>\n",
              "      <td>10.352</td>\n",
              "      <td>299</td>\n",
              "      <td>1.771851</td>\n",
              "      <td>1</td>\n",
              "      <td>0.889</td>\n",
              "      <td>1</td>\n",
              "      <td>1.000000</td>\n",
              "    </tr>\n",
              "    <tr>\n",
              "      <th>2387</th>\n",
              "      <td>2020-08-01</td>\n",
              "      <td>6029</td>\n",
              "      <td>Kern County</td>\n",
              "      <td>-21.0</td>\n",
              "      <td>2.0</td>\n",
              "      <td>21.0</td>\n",
              "      <td>-1.0</td>\n",
              "      <td>-18.0</td>\n",
              "      <td>4.0</td>\n",
              "      <td>75.57</td>\n",
              "      <td>1.843</td>\n",
              "      <td>29</td>\n",
              "      <td>110.699810</td>\n",
              "      <td>1</td>\n",
              "      <td>0.668</td>\n",
              "      <td>547</td>\n",
              "      <td>812.857143</td>\n",
              "    </tr>\n",
              "    <tr>\n",
              "      <th>2559</th>\n",
              "      <td>2020-08-01</td>\n",
              "      <td>6031</td>\n",
              "      <td>Kings County</td>\n",
              "      <td>-14.0</td>\n",
              "      <td>2.0</td>\n",
              "      <td>-31.0</td>\n",
              "      <td>-34.0</td>\n",
              "      <td>-16.0</td>\n",
              "      <td>3.0</td>\n",
              "      <td>84.01</td>\n",
              "      <td>1.537</td>\n",
              "      <td>35</td>\n",
              "      <td>110.074707</td>\n",
              "      <td>1</td>\n",
              "      <td>0.766</td>\n",
              "      <td>234</td>\n",
              "      <td>86.857143</td>\n",
              "    </tr>\n",
              "    <tr>\n",
              "      <th>2731</th>\n",
              "      <td>2020-08-01</td>\n",
              "      <td>6033</td>\n",
              "      <td>Lake County</td>\n",
              "      <td>-4.0</td>\n",
              "      <td>12.0</td>\n",
              "      <td>89.0</td>\n",
              "      <td>0.0</td>\n",
              "      <td>-16.0</td>\n",
              "      <td>2.0</td>\n",
              "      <td>128.41</td>\n",
              "      <td>0.886</td>\n",
              "      <td>28</td>\n",
              "      <td>51.243971</td>\n",
              "      <td>1</td>\n",
              "      <td>0.849</td>\n",
              "      <td>0</td>\n",
              "      <td>3.857143</td>\n",
              "    </tr>\n",
              "    <tr>\n",
              "      <th>2903</th>\n",
              "      <td>2020-08-01</td>\n",
              "      <td>6035</td>\n",
              "      <td>Lassen County</td>\n",
              "      <td>-3.0</td>\n",
              "      <td>21.0</td>\n",
              "      <td>0.0</td>\n",
              "      <td>0.0</td>\n",
              "      <td>-3.0</td>\n",
              "      <td>0.0</td>\n",
              "      <td>326.23</td>\n",
              "      <td>1.336</td>\n",
              "      <td>44</td>\n",
              "      <td>6.732391</td>\n",
              "      <td>1</td>\n",
              "      <td>0.482</td>\n",
              "      <td>0</td>\n",
              "      <td>10.857143</td>\n",
              "    </tr>\n",
              "    <tr>\n",
              "      <th>3075</th>\n",
              "      <td>2020-08-01</td>\n",
              "      <td>6037</td>\n",
              "      <td>Los Angeles County</td>\n",
              "      <td>-35.0</td>\n",
              "      <td>-7.0</td>\n",
              "      <td>-14.0</td>\n",
              "      <td>-35.0</td>\n",
              "      <td>-22.0</td>\n",
              "      <td>9.0</td>\n",
              "      <td>12.13</td>\n",
              "      <td>1.429</td>\n",
              "      <td>21</td>\n",
              "      <td>2473.978284</td>\n",
              "      <td>1</td>\n",
              "      <td>0.786</td>\n",
              "      <td>2316</td>\n",
              "      <td>2647.428571</td>\n",
              "    </tr>\n",
              "    <tr>\n",
              "      <th>3247</th>\n",
              "      <td>2020-08-01</td>\n",
              "      <td>6039</td>\n",
              "      <td>Madera County</td>\n",
              "      <td>-18.0</td>\n",
              "      <td>10.0</td>\n",
              "      <td>188.0</td>\n",
              "      <td>33.0</td>\n",
              "      <td>-17.0</td>\n",
              "      <td>4.0</td>\n",
              "      <td>90.94</td>\n",
              "      <td>2.313</td>\n",
              "      <td>37</td>\n",
              "      <td>73.618085</td>\n",
              "      <td>1</td>\n",
              "      <td>0.751</td>\n",
              "      <td>0</td>\n",
              "      <td>44.714286</td>\n",
              "    </tr>\n",
              "    <tr>\n",
              "      <th>3419</th>\n",
              "      <td>2020-08-01</td>\n",
              "      <td>6041</td>\n",
              "      <td>Marin County</td>\n",
              "      <td>-32.0</td>\n",
              "      <td>-3.0</td>\n",
              "      <td>47.0</td>\n",
              "      <td>-20.0</td>\n",
              "      <td>-20.0</td>\n",
              "      <td>8.0</td>\n",
              "      <td>46.63</td>\n",
              "      <td>2.499</td>\n",
              "      <td>37</td>\n",
              "      <td>497.445753</td>\n",
              "      <td>1</td>\n",
              "      <td>0.802</td>\n",
              "      <td>7</td>\n",
              "      <td>52.857143</td>\n",
              "    </tr>\n",
              "    <tr>\n",
              "      <th>3544</th>\n",
              "      <td>2020-08-01</td>\n",
              "      <td>6043</td>\n",
              "      <td>Mariposa County</td>\n",
              "      <td>0.0</td>\n",
              "      <td>-12.0</td>\n",
              "      <td>64.0</td>\n",
              "      <td>0.0</td>\n",
              "      <td>-19.0</td>\n",
              "      <td>0.0</td>\n",
              "      <td>150.36</td>\n",
              "      <td>6.899</td>\n",
              "      <td>131</td>\n",
              "      <td>11.873801</td>\n",
              "      <td>1</td>\n",
              "      <td>0.661</td>\n",
              "      <td>1</td>\n",
              "      <td>1.142857</td>\n",
              "    </tr>\n",
              "    <tr>\n",
              "      <th>3716</th>\n",
              "      <td>2020-08-01</td>\n",
              "      <td>6045</td>\n",
              "      <td>Mendocino County</td>\n",
              "      <td>-8.0</td>\n",
              "      <td>14.0</td>\n",
              "      <td>106.0</td>\n",
              "      <td>20.0</td>\n",
              "      <td>-11.0</td>\n",
              "      <td>4.0</td>\n",
              "      <td>139.59</td>\n",
              "      <td>1.254</td>\n",
              "      <td>39</td>\n",
              "      <td>24.740613</td>\n",
              "      <td>1</td>\n",
              "      <td>0.770</td>\n",
              "      <td>0</td>\n",
              "      <td>9.000000</td>\n",
              "    </tr>\n",
              "    <tr>\n",
              "      <th>3888</th>\n",
              "      <td>2020-08-01</td>\n",
              "      <td>6047</td>\n",
              "      <td>Merced County</td>\n",
              "      <td>-15.0</td>\n",
              "      <td>-2.0</td>\n",
              "      <td>49.0</td>\n",
              "      <td>-2.0</td>\n",
              "      <td>-12.0</td>\n",
              "      <td>4.0</td>\n",
              "      <td>75.77</td>\n",
              "      <td>1.390</td>\n",
              "      <td>28</td>\n",
              "      <td>143.506101</td>\n",
              "      <td>1</td>\n",
              "      <td>0.703</td>\n",
              "      <td>220</td>\n",
              "      <td>148.571429</td>\n",
              "    </tr>\n",
              "    <tr>\n",
              "      <th>4042</th>\n",
              "      <td>2020-08-01</td>\n",
              "      <td>6051</td>\n",
              "      <td>Mono County</td>\n",
              "      <td>-6.0</td>\n",
              "      <td>55.0</td>\n",
              "      <td>0.0</td>\n",
              "      <td>0.0</td>\n",
              "      <td>-32.0</td>\n",
              "      <td>0.0</td>\n",
              "      <td>451.10</td>\n",
              "      <td>9.031</td>\n",
              "      <td>393</td>\n",
              "      <td>4.737322</td>\n",
              "      <td>1</td>\n",
              "      <td>0.880</td>\n",
              "      <td>0</td>\n",
              "      <td>4.428571</td>\n",
              "    </tr>\n",
              "    <tr>\n",
              "      <th>4214</th>\n",
              "      <td>2020-08-01</td>\n",
              "      <td>6053</td>\n",
              "      <td>Monterey County</td>\n",
              "      <td>-23.0</td>\n",
              "      <td>8.0</td>\n",
              "      <td>27.0</td>\n",
              "      <td>-7.0</td>\n",
              "      <td>-9.0</td>\n",
              "      <td>2.0</td>\n",
              "      <td>112.93</td>\n",
              "      <td>2.505</td>\n",
              "      <td>48</td>\n",
              "      <td>132.311467</td>\n",
              "      <td>1</td>\n",
              "      <td>0.763</td>\n",
              "      <td>255</td>\n",
              "      <td>120.571429</td>\n",
              "    </tr>\n",
              "    <tr>\n",
              "      <th>4386</th>\n",
              "      <td>2020-08-01</td>\n",
              "      <td>6055</td>\n",
              "      <td>Napa County</td>\n",
              "      <td>-27.0</td>\n",
              "      <td>-15.0</td>\n",
              "      <td>140.0</td>\n",
              "      <td>-19.0</td>\n",
              "      <td>-20.0</td>\n",
              "      <td>6.0</td>\n",
              "      <td>61.81</td>\n",
              "      <td>2.468</td>\n",
              "      <td>47</td>\n",
              "      <td>184.061147</td>\n",
              "      <td>1</td>\n",
              "      <td>0.773</td>\n",
              "      <td>0</td>\n",
              "      <td>21.571429</td>\n",
              "    </tr>\n",
              "    <tr>\n",
              "      <th>4558</th>\n",
              "      <td>2020-08-01</td>\n",
              "      <td>6057</td>\n",
              "      <td>Nevada County</td>\n",
              "      <td>-22.0</td>\n",
              "      <td>6.0</td>\n",
              "      <td>118.0</td>\n",
              "      <td>-27.0</td>\n",
              "      <td>-20.0</td>\n",
              "      <td>4.0</td>\n",
              "      <td>140.72</td>\n",
              "      <td>5.593</td>\n",
              "      <td>63</td>\n",
              "      <td>104.153398</td>\n",
              "      <td>1</td>\n",
              "      <td>0.682</td>\n",
              "      <td>0</td>\n",
              "      <td>6.285714</td>\n",
              "    </tr>\n",
              "    <tr>\n",
              "      <th>4730</th>\n",
              "      <td>2020-08-01</td>\n",
              "      <td>6059</td>\n",
              "      <td>Orange County</td>\n",
              "      <td>-34.0</td>\n",
              "      <td>0.0</td>\n",
              "      <td>13.0</td>\n",
              "      <td>-32.0</td>\n",
              "      <td>-21.0</td>\n",
              "      <td>9.0</td>\n",
              "      <td>22.20</td>\n",
              "      <td>2.771</td>\n",
              "      <td>37</td>\n",
              "      <td>4016.964975</td>\n",
              "      <td>1</td>\n",
              "      <td>0.754</td>\n",
              "      <td>637</td>\n",
              "      <td>411.428571</td>\n",
              "    </tr>\n",
              "    <tr>\n",
              "      <th>4902</th>\n",
              "      <td>2020-08-01</td>\n",
              "      <td>6061</td>\n",
              "      <td>Placer County</td>\n",
              "      <td>-27.0</td>\n",
              "      <td>4.0</td>\n",
              "      <td>74.0</td>\n",
              "      <td>22.0</td>\n",
              "      <td>-17.0</td>\n",
              "      <td>5.0</td>\n",
              "      <td>70.97</td>\n",
              "      <td>4.355</td>\n",
              "      <td>53</td>\n",
              "      <td>283.103176</td>\n",
              "      <td>1</td>\n",
              "      <td>0.693</td>\n",
              "      <td>36</td>\n",
              "      <td>43.857143</td>\n",
              "    </tr>\n",
              "    <tr>\n",
              "      <th>5219</th>\n",
              "      <td>2020-08-01</td>\n",
              "      <td>6065</td>\n",
              "      <td>Riverside County</td>\n",
              "      <td>-27.0</td>\n",
              "      <td>-4.0</td>\n",
              "      <td>-35.0</td>\n",
              "      <td>-31.0</td>\n",
              "      <td>-22.0</td>\n",
              "      <td>7.0</td>\n",
              "      <td>36.42</td>\n",
              "      <td>2.397</td>\n",
              "      <td>28</td>\n",
              "      <td>342.822848</td>\n",
              "      <td>1</td>\n",
              "      <td>0.803</td>\n",
              "      <td>0</td>\n",
              "      <td>506.285714</td>\n",
              "    </tr>\n",
              "    <tr>\n",
              "      <th>5391</th>\n",
              "      <td>2020-08-01</td>\n",
              "      <td>6067</td>\n",
              "      <td>Sacramento County</td>\n",
              "      <td>-31.0</td>\n",
              "      <td>-1.0</td>\n",
              "      <td>21.0</td>\n",
              "      <td>-34.0</td>\n",
              "      <td>-19.0</td>\n",
              "      <td>5.0</td>\n",
              "      <td>31.25</td>\n",
              "      <td>1.940</td>\n",
              "      <td>27</td>\n",
              "      <td>1608.950489</td>\n",
              "      <td>1</td>\n",
              "      <td>0.722</td>\n",
              "      <td>0</td>\n",
              "      <td>180.857143</td>\n",
              "    </tr>\n",
              "    <tr>\n",
              "      <th>5563</th>\n",
              "      <td>2020-08-01</td>\n",
              "      <td>6069</td>\n",
              "      <td>San Benito County</td>\n",
              "      <td>-14.0</td>\n",
              "      <td>3.0</td>\n",
              "      <td>-29.0</td>\n",
              "      <td>0.0</td>\n",
              "      <td>-9.0</td>\n",
              "      <td>0.0</td>\n",
              "      <td>128.76</td>\n",
              "      <td>2.618</td>\n",
              "      <td>22</td>\n",
              "      <td>45.227585</td>\n",
              "      <td>1</td>\n",
              "      <td>0.739</td>\n",
              "      <td>0</td>\n",
              "      <td>13.857143</td>\n",
              "    </tr>\n",
              "    <tr>\n",
              "      <th>5735</th>\n",
              "      <td>2020-08-01</td>\n",
              "      <td>6071</td>\n",
              "      <td>San Bernardino County</td>\n",
              "      <td>-25.0</td>\n",
              "      <td>1.0</td>\n",
              "      <td>2.0</td>\n",
              "      <td>-20.0</td>\n",
              "      <td>-17.0</td>\n",
              "      <td>6.0</td>\n",
              "      <td>51.19</td>\n",
              "      <td>2.239</td>\n",
              "      <td>28</td>\n",
              "      <td>108.694796</td>\n",
              "      <td>1</td>\n",
              "      <td>0.768</td>\n",
              "      <td>466</td>\n",
              "      <td>842.857143</td>\n",
              "    </tr>\n",
              "    <tr>\n",
              "      <th>5907</th>\n",
              "      <td>2020-08-01</td>\n",
              "      <td>6073</td>\n",
              "      <td>San Diego County</td>\n",
              "      <td>-31.0</td>\n",
              "      <td>-5.0</td>\n",
              "      <td>3.0</td>\n",
              "      <td>-41.0</td>\n",
              "      <td>-20.0</td>\n",
              "      <td>8.0</td>\n",
              "      <td>33.59</td>\n",
              "      <td>2.164</td>\n",
              "      <td>28</td>\n",
              "      <td>793.587741</td>\n",
              "      <td>1</td>\n",
              "      <td>0.800</td>\n",
              "      <td>0</td>\n",
              "      <td>421.428571</td>\n",
              "    </tr>\n",
              "    <tr>\n",
              "      <th>6079</th>\n",
              "      <td>2020-08-01</td>\n",
              "      <td>6075</td>\n",
              "      <td>San Francisco County</td>\n",
              "      <td>-61.0</td>\n",
              "      <td>-27.0</td>\n",
              "      <td>-11.0</td>\n",
              "      <td>-58.0</td>\n",
              "      <td>-25.0</td>\n",
              "      <td>11.0</td>\n",
              "      <td>-8.74</td>\n",
              "      <td>0.681</td>\n",
              "      <td>19</td>\n",
              "      <td>18808.384894</td>\n",
              "      <td>1</td>\n",
              "      <td>0.817</td>\n",
              "      <td>148</td>\n",
              "      <td>133.714286</td>\n",
              "    </tr>\n",
              "    <tr>\n",
              "      <th>6251</th>\n",
              "      <td>2020-08-01</td>\n",
              "      <td>6077</td>\n",
              "      <td>San Joaquin County</td>\n",
              "      <td>-20.0</td>\n",
              "      <td>3.0</td>\n",
              "      <td>41.0</td>\n",
              "      <td>-23.0</td>\n",
              "      <td>-14.0</td>\n",
              "      <td>4.0</td>\n",
              "      <td>51.80</td>\n",
              "      <td>2.050</td>\n",
              "      <td>31</td>\n",
              "      <td>547.787712</td>\n",
              "      <td>1</td>\n",
              "      <td>0.680</td>\n",
              "      <td>0</td>\n",
              "      <td>193.857143</td>\n",
              "    </tr>\n",
              "    <tr>\n",
              "      <th>6423</th>\n",
              "      <td>2020-08-01</td>\n",
              "      <td>6079</td>\n",
              "      <td>San Luis Obispo County</td>\n",
              "      <td>-21.0</td>\n",
              "      <td>7.0</td>\n",
              "      <td>49.0</td>\n",
              "      <td>-7.0</td>\n",
              "      <td>-17.0</td>\n",
              "      <td>5.0</td>\n",
              "      <td>167.13</td>\n",
              "      <td>4.095</td>\n",
              "      <td>61</td>\n",
              "      <td>85.828404</td>\n",
              "      <td>1</td>\n",
              "      <td>0.745</td>\n",
              "      <td>0</td>\n",
              "      <td>40.428571</td>\n",
              "    </tr>\n",
              "    <tr>\n",
              "      <th>6595</th>\n",
              "      <td>2020-08-01</td>\n",
              "      <td>6081</td>\n",
              "      <td>San Mateo County</td>\n",
              "      <td>-37.0</td>\n",
              "      <td>-9.0</td>\n",
              "      <td>25.0</td>\n",
              "      <td>-65.0</td>\n",
              "      <td>-16.0</td>\n",
              "      <td>10.0</td>\n",
              "      <td>3.09</td>\n",
              "      <td>1.188</td>\n",
              "      <td>17</td>\n",
              "      <td>1709.535916</td>\n",
              "      <td>1</td>\n",
              "      <td>0.786</td>\n",
              "      <td>75</td>\n",
              "      <td>74.571429</td>\n",
              "    </tr>\n",
              "    <tr>\n",
              "      <th>6767</th>\n",
              "      <td>2020-08-01</td>\n",
              "      <td>6083</td>\n",
              "      <td>Santa Barbara County</td>\n",
              "      <td>-26.0</td>\n",
              "      <td>0.0</td>\n",
              "      <td>33.0</td>\n",
              "      <td>-31.0</td>\n",
              "      <td>-16.0</td>\n",
              "      <td>5.0</td>\n",
              "      <td>95.02</td>\n",
              "      <td>2.080</td>\n",
              "      <td>42</td>\n",
              "      <td>163.248376</td>\n",
              "      <td>1</td>\n",
              "      <td>0.737</td>\n",
              "      <td>0</td>\n",
              "      <td>84.428571</td>\n",
              "    </tr>\n",
              "    <tr>\n",
              "      <th>6939</th>\n",
              "      <td>2020-08-01</td>\n",
              "      <td>6085</td>\n",
              "      <td>Santa Clara County</td>\n",
              "      <td>-46.0</td>\n",
              "      <td>-16.0</td>\n",
              "      <td>19.0</td>\n",
              "      <td>-47.0</td>\n",
              "      <td>-16.0</td>\n",
              "      <td>9.0</td>\n",
              "      <td>1.72</td>\n",
              "      <td>0.972</td>\n",
              "      <td>13</td>\n",
              "      <td>1494.343074</td>\n",
              "      <td>1</td>\n",
              "      <td>0.764</td>\n",
              "      <td>408</td>\n",
              "      <td>212.571429</td>\n",
              "    </tr>\n",
              "    <tr>\n",
              "      <th>7111</th>\n",
              "      <td>2020-08-01</td>\n",
              "      <td>6087</td>\n",
              "      <td>Santa Cruz County</td>\n",
              "      <td>-23.0</td>\n",
              "      <td>-1.0</td>\n",
              "      <td>71.0</td>\n",
              "      <td>-47.0</td>\n",
              "      <td>-14.0</td>\n",
              "      <td>6.0</td>\n",
              "      <td>85.81</td>\n",
              "      <td>1.910</td>\n",
              "      <td>41</td>\n",
              "      <td>613.727340</td>\n",
              "      <td>1</td>\n",
              "      <td>0.797</td>\n",
              "      <td>43</td>\n",
              "      <td>36.285714</td>\n",
              "    </tr>\n",
              "    <tr>\n",
              "      <th>7283</th>\n",
              "      <td>2020-08-01</td>\n",
              "      <td>6089</td>\n",
              "      <td>Shasta County</td>\n",
              "      <td>-16.0</td>\n",
              "      <td>12.0</td>\n",
              "      <td>166.0</td>\n",
              "      <td>-3.0</td>\n",
              "      <td>-11.0</td>\n",
              "      <td>1.0</td>\n",
              "      <td>125.18</td>\n",
              "      <td>3.401</td>\n",
              "      <td>53</td>\n",
              "      <td>47.698257</td>\n",
              "      <td>1</td>\n",
              "      <td>0.547</td>\n",
              "      <td>0</td>\n",
              "      <td>11.142857</td>\n",
              "    </tr>\n",
              "    <tr>\n",
              "      <th>7455</th>\n",
              "      <td>2020-08-01</td>\n",
              "      <td>6093</td>\n",
              "      <td>Siskiyou County</td>\n",
              "      <td>27.0</td>\n",
              "      <td>44.0</td>\n",
              "      <td>0.0</td>\n",
              "      <td>55.0</td>\n",
              "      <td>-3.0</td>\n",
              "      <td>0.0</td>\n",
              "      <td>380.18</td>\n",
              "      <td>4.384</td>\n",
              "      <td>69</td>\n",
              "      <td>6.935292</td>\n",
              "      <td>1</td>\n",
              "      <td>0.546</td>\n",
              "      <td>1</td>\n",
              "      <td>1.714286</td>\n",
              "    </tr>\n",
              "    <tr>\n",
              "      <th>7627</th>\n",
              "      <td>2020-08-01</td>\n",
              "      <td>6095</td>\n",
              "      <td>Solano County</td>\n",
              "      <td>-25.0</td>\n",
              "      <td>-1.0</td>\n",
              "      <td>24.0</td>\n",
              "      <td>-13.0</td>\n",
              "      <td>-16.0</td>\n",
              "      <td>6.0</td>\n",
              "      <td>62.40</td>\n",
              "      <td>1.939</td>\n",
              "      <td>27</td>\n",
              "      <td>544.730277</td>\n",
              "      <td>1</td>\n",
              "      <td>0.728</td>\n",
              "      <td>0</td>\n",
              "      <td>68.857143</td>\n",
              "    </tr>\n",
              "    <tr>\n",
              "      <th>7799</th>\n",
              "      <td>2020-08-01</td>\n",
              "      <td>6097</td>\n",
              "      <td>Sonoma County</td>\n",
              "      <td>-26.0</td>\n",
              "      <td>1.0</td>\n",
              "      <td>55.0</td>\n",
              "      <td>-21.0</td>\n",
              "      <td>-16.0</td>\n",
              "      <td>6.0</td>\n",
              "      <td>42.51</td>\n",
              "      <td>1.900</td>\n",
              "      <td>30</td>\n",
              "      <td>313.694831</td>\n",
              "      <td>1</td>\n",
              "      <td>0.795</td>\n",
              "      <td>102</td>\n",
              "      <td>68.285714</td>\n",
              "    </tr>\n",
              "    <tr>\n",
              "      <th>7971</th>\n",
              "      <td>2020-08-01</td>\n",
              "      <td>6099</td>\n",
              "      <td>Stanislaus County</td>\n",
              "      <td>-24.0</td>\n",
              "      <td>-1.0</td>\n",
              "      <td>53.0</td>\n",
              "      <td>-2.0</td>\n",
              "      <td>-15.0</td>\n",
              "      <td>4.0</td>\n",
              "      <td>44.64</td>\n",
              "      <td>1.711</td>\n",
              "      <td>28</td>\n",
              "      <td>368.376337</td>\n",
              "      <td>1</td>\n",
              "      <td>0.705</td>\n",
              "      <td>0</td>\n",
              "      <td>183.857143</td>\n",
              "    </tr>\n",
              "    <tr>\n",
              "      <th>8143</th>\n",
              "      <td>2020-08-01</td>\n",
              "      <td>6101</td>\n",
              "      <td>Sutter County</td>\n",
              "      <td>-16.0</td>\n",
              "      <td>0.0</td>\n",
              "      <td>0.0</td>\n",
              "      <td>0.0</td>\n",
              "      <td>-15.0</td>\n",
              "      <td>2.0</td>\n",
              "      <td>59.24</td>\n",
              "      <td>2.400</td>\n",
              "      <td>52</td>\n",
              "      <td>160.971763</td>\n",
              "      <td>1</td>\n",
              "      <td>0.669</td>\n",
              "      <td>13</td>\n",
              "      <td>21.857143</td>\n",
              "    </tr>\n",
              "    <tr>\n",
              "      <th>8315</th>\n",
              "      <td>2020-08-01</td>\n",
              "      <td>6103</td>\n",
              "      <td>Tehama County</td>\n",
              "      <td>-19.0</td>\n",
              "      <td>19.0</td>\n",
              "      <td>36.0</td>\n",
              "      <td>7.0</td>\n",
              "      <td>-8.0</td>\n",
              "      <td>1.0</td>\n",
              "      <td>153.85</td>\n",
              "      <td>3.730</td>\n",
              "      <td>58</td>\n",
              "      <td>22.064542</td>\n",
              "      <td>1</td>\n",
              "      <td>0.545</td>\n",
              "      <td>7</td>\n",
              "      <td>6.428571</td>\n",
              "    </tr>\n",
              "    <tr>\n",
              "      <th>8487</th>\n",
              "      <td>2020-08-01</td>\n",
              "      <td>6107</td>\n",
              "      <td>Tulare County</td>\n",
              "      <td>-24.0</td>\n",
              "      <td>-1.0</td>\n",
              "      <td>66.0</td>\n",
              "      <td>-8.0</td>\n",
              "      <td>-18.0</td>\n",
              "      <td>3.0</td>\n",
              "      <td>71.95</td>\n",
              "      <td>1.657</td>\n",
              "      <td>34</td>\n",
              "      <td>96.636347</td>\n",
              "      <td>1</td>\n",
              "      <td>0.685</td>\n",
              "      <td>0</td>\n",
              "      <td>177.714286</td>\n",
              "    </tr>\n",
              "    <tr>\n",
              "      <th>8659</th>\n",
              "      <td>2020-08-01</td>\n",
              "      <td>6109</td>\n",
              "      <td>Tuolumne County</td>\n",
              "      <td>-15.0</td>\n",
              "      <td>0.0</td>\n",
              "      <td>96.0</td>\n",
              "      <td>0.0</td>\n",
              "      <td>-11.0</td>\n",
              "      <td>0.0</td>\n",
              "      <td>221.35</td>\n",
              "      <td>2.176</td>\n",
              "      <td>32</td>\n",
              "      <td>24.529916</td>\n",
              "      <td>1</td>\n",
              "      <td>0.653</td>\n",
              "      <td>0</td>\n",
              "      <td>2.142857</td>\n",
              "    </tr>\n",
              "    <tr>\n",
              "      <th>8831</th>\n",
              "      <td>2020-08-01</td>\n",
              "      <td>6111</td>\n",
              "      <td>Ventura County</td>\n",
              "      <td>-25.0</td>\n",
              "      <td>-6.0</td>\n",
              "      <td>14.0</td>\n",
              "      <td>-19.0</td>\n",
              "      <td>-19.0</td>\n",
              "      <td>7.0</td>\n",
              "      <td>61.16</td>\n",
              "      <td>2.160</td>\n",
              "      <td>27</td>\n",
              "      <td>459.005062</td>\n",
              "      <td>1</td>\n",
              "      <td>0.777</td>\n",
              "      <td>0</td>\n",
              "      <td>136.000000</td>\n",
              "    </tr>\n",
              "    <tr>\n",
              "      <th>9003</th>\n",
              "      <td>2020-08-01</td>\n",
              "      <td>6113</td>\n",
              "      <td>Yolo County</td>\n",
              "      <td>-28.0</td>\n",
              "      <td>-3.0</td>\n",
              "      <td>17.0</td>\n",
              "      <td>-7.0</td>\n",
              "      <td>-15.0</td>\n",
              "      <td>6.0</td>\n",
              "      <td>32.64</td>\n",
              "      <td>2.034</td>\n",
              "      <td>34</td>\n",
              "      <td>217.307749</td>\n",
              "      <td>1</td>\n",
              "      <td>0.791</td>\n",
              "      <td>0</td>\n",
              "      <td>24.000000</td>\n",
              "    </tr>\n",
              "    <tr>\n",
              "      <th>9175</th>\n",
              "      <td>2020-08-01</td>\n",
              "      <td>6115</td>\n",
              "      <td>Yuba County</td>\n",
              "      <td>-3.0</td>\n",
              "      <td>21.0</td>\n",
              "      <td>0.0</td>\n",
              "      <td>0.0</td>\n",
              "      <td>-14.0</td>\n",
              "      <td>2.0</td>\n",
              "      <td>83.92</td>\n",
              "      <td>3.371</td>\n",
              "      <td>35</td>\n",
              "      <td>124.506204</td>\n",
              "      <td>1</td>\n",
              "      <td>0.669</td>\n",
              "      <td>6</td>\n",
              "      <td>16.428571</td>\n",
              "    </tr>\n",
              "  </tbody>\n",
              "</table>\n",
              "</div>"
            ],
            "text/plain": [
              "            Date fips_x  ... New cases  rolling_avg_new_cases\n",
              "151   2020-08-01   6001  ...       345             164.857143\n",
              "323   2020-08-01   6005  ...        10               7.714286\n",
              "495   2020-08-01   6007  ...         0              26.142857\n",
              "667   2020-08-01   6009  ...         0               3.714286\n",
              "839   2020-08-01   6011  ...         0               8.571429\n",
              "1011  2020-08-01   6013  ...       136             148.000000\n",
              "1183  2020-08-01   6015  ...         0               0.142857\n",
              "1355  2020-08-01   6017  ...         0              17.714286\n",
              "1527  2020-08-01   6019  ...         0             267.857143\n",
              "1699  2020-08-01   6021  ...         0               8.571429\n",
              "1871  2020-08-01   6023  ...         0               4.000000\n",
              "2043  2020-08-01   6025  ...        43              48.857143\n",
              "2215  2020-08-01   6027  ...         1               1.000000\n",
              "2387  2020-08-01   6029  ...       547             812.857143\n",
              "2559  2020-08-01   6031  ...       234              86.857143\n",
              "2731  2020-08-01   6033  ...         0               3.857143\n",
              "2903  2020-08-01   6035  ...         0              10.857143\n",
              "3075  2020-08-01   6037  ...      2316            2647.428571\n",
              "3247  2020-08-01   6039  ...         0              44.714286\n",
              "3419  2020-08-01   6041  ...         7              52.857143\n",
              "3544  2020-08-01   6043  ...         1               1.142857\n",
              "3716  2020-08-01   6045  ...         0               9.000000\n",
              "3888  2020-08-01   6047  ...       220             148.571429\n",
              "4042  2020-08-01   6051  ...         0               4.428571\n",
              "4214  2020-08-01   6053  ...       255             120.571429\n",
              "4386  2020-08-01   6055  ...         0              21.571429\n",
              "4558  2020-08-01   6057  ...         0               6.285714\n",
              "4730  2020-08-01   6059  ...       637             411.428571\n",
              "4902  2020-08-01   6061  ...        36              43.857143\n",
              "5219  2020-08-01   6065  ...         0             506.285714\n",
              "5391  2020-08-01   6067  ...         0             180.857143\n",
              "5563  2020-08-01   6069  ...         0              13.857143\n",
              "5735  2020-08-01   6071  ...       466             842.857143\n",
              "5907  2020-08-01   6073  ...         0             421.428571\n",
              "6079  2020-08-01   6075  ...       148             133.714286\n",
              "6251  2020-08-01   6077  ...         0             193.857143\n",
              "6423  2020-08-01   6079  ...         0              40.428571\n",
              "6595  2020-08-01   6081  ...        75              74.571429\n",
              "6767  2020-08-01   6083  ...         0              84.428571\n",
              "6939  2020-08-01   6085  ...       408             212.571429\n",
              "7111  2020-08-01   6087  ...        43              36.285714\n",
              "7283  2020-08-01   6089  ...         0              11.142857\n",
              "7455  2020-08-01   6093  ...         1               1.714286\n",
              "7627  2020-08-01   6095  ...         0              68.857143\n",
              "7799  2020-08-01   6097  ...       102              68.285714\n",
              "7971  2020-08-01   6099  ...         0             183.857143\n",
              "8143  2020-08-01   6101  ...        13              21.857143\n",
              "8315  2020-08-01   6103  ...         7               6.428571\n",
              "8487  2020-08-01   6107  ...         0             177.714286\n",
              "8659  2020-08-01   6109  ...         0               2.142857\n",
              "8831  2020-08-01   6111  ...         0             136.000000\n",
              "9003  2020-08-01   6113  ...         0              24.000000\n",
              "9175  2020-08-01   6115  ...         6              16.428571\n",
              "\n",
              "[53 rows x 17 columns]"
            ]
          },
          "metadata": {
            "tags": []
          },
          "execution_count": 11
        }
      ]
    },
    {
      "cell_type": "code",
      "metadata": {
        "id": "L2bE3yeW7BJB",
        "colab_type": "code",
        "colab": {
          "base_uri": "https://localhost:8080/",
          "height": 472
        },
        "outputId": "5c1d451c-c0e8-4035-815d-fa2ee6cfb9dd"
      },
      "source": [
        "NY_combined_data.head(8)"
      ],
      "execution_count": 12,
      "outputs": [
        {
          "output_type": "execute_result",
          "data": {
            "text/html": [
              "<div>\n",
              "<style scoped>\n",
              "    .dataframe tbody tr th:only-of-type {\n",
              "        vertical-align: middle;\n",
              "    }\n",
              "\n",
              "    .dataframe tbody tr th {\n",
              "        vertical-align: top;\n",
              "    }\n",
              "\n",
              "    .dataframe thead th {\n",
              "        text-align: right;\n",
              "    }\n",
              "</style>\n",
              "<table border=\"1\" class=\"dataframe\">\n",
              "  <thead>\n",
              "    <tr style=\"text-align: right;\">\n",
              "      <th></th>\n",
              "      <th>Date</th>\n",
              "      <th>fips_x</th>\n",
              "      <th>County Name</th>\n",
              "      <th>retail and recreation</th>\n",
              "      <th>grocery and pharmacy</th>\n",
              "      <th>parks</th>\n",
              "      <th>transit stations</th>\n",
              "      <th>workplaces</th>\n",
              "      <th>residential</th>\n",
              "      <th>driving</th>\n",
              "      <th>m50</th>\n",
              "      <th>m50_index</th>\n",
              "      <th>population_density</th>\n",
              "      <th>mask_rule_active</th>\n",
              "      <th>mask_wearing_percent</th>\n",
              "      <th>New cases</th>\n",
              "      <th>rolling_avg_new_cases</th>\n",
              "    </tr>\n",
              "  </thead>\n",
              "  <tbody>\n",
              "    <tr>\n",
              "      <th>0</th>\n",
              "      <td>2020-03-01</td>\n",
              "      <td>6001</td>\n",
              "      <td>Alameda County</td>\n",
              "      <td>6.0</td>\n",
              "      <td>9.0</td>\n",
              "      <td>15.0</td>\n",
              "      <td>1.0</td>\n",
              "      <td>4.0</td>\n",
              "      <td>0.0</td>\n",
              "      <td>-7.65</td>\n",
              "      <td>3.684</td>\n",
              "      <td>58</td>\n",
              "      <td>2261.547725</td>\n",
              "      <td>0</td>\n",
              "      <td>0.0</td>\n",
              "      <td>0</td>\n",
              "      <td>NaN</td>\n",
              "    </tr>\n",
              "    <tr>\n",
              "      <th>1</th>\n",
              "      <td>2020-03-02</td>\n",
              "      <td>6001</td>\n",
              "      <td>Alameda County</td>\n",
              "      <td>4.0</td>\n",
              "      <td>7.0</td>\n",
              "      <td>7.0</td>\n",
              "      <td>-1.0</td>\n",
              "      <td>3.0</td>\n",
              "      <td>0.0</td>\n",
              "      <td>6.76</td>\n",
              "      <td>6.182</td>\n",
              "      <td>98</td>\n",
              "      <td>2261.547725</td>\n",
              "      <td>0</td>\n",
              "      <td>0.0</td>\n",
              "      <td>0</td>\n",
              "      <td>NaN</td>\n",
              "    </tr>\n",
              "    <tr>\n",
              "      <th>2</th>\n",
              "      <td>2020-03-03</td>\n",
              "      <td>6001</td>\n",
              "      <td>Alameda County</td>\n",
              "      <td>5.0</td>\n",
              "      <td>12.0</td>\n",
              "      <td>41.0</td>\n",
              "      <td>0.0</td>\n",
              "      <td>1.0</td>\n",
              "      <td>-1.0</td>\n",
              "      <td>13.19</td>\n",
              "      <td>6.271</td>\n",
              "      <td>100</td>\n",
              "      <td>2261.547725</td>\n",
              "      <td>0</td>\n",
              "      <td>0.0</td>\n",
              "      <td>1</td>\n",
              "      <td>NaN</td>\n",
              "    </tr>\n",
              "    <tr>\n",
              "      <th>3</th>\n",
              "      <td>2020-03-04</td>\n",
              "      <td>6001</td>\n",
              "      <td>Alameda County</td>\n",
              "      <td>1.0</td>\n",
              "      <td>6.0</td>\n",
              "      <td>23.0</td>\n",
              "      <td>-3.0</td>\n",
              "      <td>1.0</td>\n",
              "      <td>0.0</td>\n",
              "      <td>10.67</td>\n",
              "      <td>6.209</td>\n",
              "      <td>99</td>\n",
              "      <td>2261.547725</td>\n",
              "      <td>0</td>\n",
              "      <td>0.0</td>\n",
              "      <td>0</td>\n",
              "      <td>NaN</td>\n",
              "    </tr>\n",
              "    <tr>\n",
              "      <th>4</th>\n",
              "      <td>2020-03-05</td>\n",
              "      <td>6001</td>\n",
              "      <td>Alameda County</td>\n",
              "      <td>1.0</td>\n",
              "      <td>6.0</td>\n",
              "      <td>12.0</td>\n",
              "      <td>-5.0</td>\n",
              "      <td>-1.0</td>\n",
              "      <td>1.0</td>\n",
              "      <td>11.64</td>\n",
              "      <td>6.654</td>\n",
              "      <td>106</td>\n",
              "      <td>2261.547725</td>\n",
              "      <td>0</td>\n",
              "      <td>0.0</td>\n",
              "      <td>0</td>\n",
              "      <td>NaN</td>\n",
              "    </tr>\n",
              "    <tr>\n",
              "      <th>5</th>\n",
              "      <td>2020-03-06</td>\n",
              "      <td>6001</td>\n",
              "      <td>Alameda County</td>\n",
              "      <td>1.0</td>\n",
              "      <td>5.0</td>\n",
              "      <td>-1.0</td>\n",
              "      <td>-7.0</td>\n",
              "      <td>0.0</td>\n",
              "      <td>2.0</td>\n",
              "      <td>25.77</td>\n",
              "      <td>6.704</td>\n",
              "      <td>106</td>\n",
              "      <td>2261.547725</td>\n",
              "      <td>0</td>\n",
              "      <td>0.0</td>\n",
              "      <td>0</td>\n",
              "      <td>NaN</td>\n",
              "    </tr>\n",
              "    <tr>\n",
              "      <th>6</th>\n",
              "      <td>2020-03-07</td>\n",
              "      <td>6001</td>\n",
              "      <td>Alameda County</td>\n",
              "      <td>-6.0</td>\n",
              "      <td>4.0</td>\n",
              "      <td>-23.0</td>\n",
              "      <td>-14.0</td>\n",
              "      <td>1.0</td>\n",
              "      <td>3.0</td>\n",
              "      <td>12.82</td>\n",
              "      <td>4.869</td>\n",
              "      <td>77</td>\n",
              "      <td>2261.547725</td>\n",
              "      <td>0</td>\n",
              "      <td>0.0</td>\n",
              "      <td>1</td>\n",
              "      <td>0.285714</td>\n",
              "    </tr>\n",
              "    <tr>\n",
              "      <th>7</th>\n",
              "      <td>2020-03-08</td>\n",
              "      <td>6001</td>\n",
              "      <td>Alameda County</td>\n",
              "      <td>-2.0</td>\n",
              "      <td>4.0</td>\n",
              "      <td>14.0</td>\n",
              "      <td>-8.0</td>\n",
              "      <td>1.0</td>\n",
              "      <td>1.0</td>\n",
              "      <td>-14.65</td>\n",
              "      <td>3.408</td>\n",
              "      <td>54</td>\n",
              "      <td>2261.547725</td>\n",
              "      <td>0</td>\n",
              "      <td>0.0</td>\n",
              "      <td>0</td>\n",
              "      <td>0.285714</td>\n",
              "    </tr>\n",
              "  </tbody>\n",
              "</table>\n",
              "</div>"
            ],
            "text/plain": [
              "         Date fips_x  ... New cases  rolling_avg_new_cases\n",
              "0  2020-03-01   6001  ...         0                    NaN\n",
              "1  2020-03-02   6001  ...         0                    NaN\n",
              "2  2020-03-03   6001  ...         1                    NaN\n",
              "3  2020-03-04   6001  ...         0                    NaN\n",
              "4  2020-03-05   6001  ...         0                    NaN\n",
              "5  2020-03-06   6001  ...         0                    NaN\n",
              "6  2020-03-07   6001  ...         1               0.285714\n",
              "7  2020-03-08   6001  ...         0               0.285714\n",
              "\n",
              "[8 rows x 17 columns]"
            ]
          },
          "metadata": {
            "tags": []
          },
          "execution_count": 12
        }
      ]
    },
    {
      "cell_type": "markdown",
      "metadata": {
        "id": "Sz-1ySgY7MR-",
        "colab_type": "text"
      },
      "source": [
        "## clean data - fill NA "
      ]
    },
    {
      "cell_type": "code",
      "metadata": {
        "id": "dnyUpG0B7QkI",
        "colab_type": "code",
        "colab": {
          "base_uri": "https://localhost:8080/",
          "height": 472
        },
        "outputId": "cf0365e0-2ce9-45c8-feb0-680bd0066b04"
      },
      "source": [
        "NY_combined_data = NY_combined_data.fillna(0)\n",
        "NY_combined_data.head(8)"
      ],
      "execution_count": 13,
      "outputs": [
        {
          "output_type": "execute_result",
          "data": {
            "text/html": [
              "<div>\n",
              "<style scoped>\n",
              "    .dataframe tbody tr th:only-of-type {\n",
              "        vertical-align: middle;\n",
              "    }\n",
              "\n",
              "    .dataframe tbody tr th {\n",
              "        vertical-align: top;\n",
              "    }\n",
              "\n",
              "    .dataframe thead th {\n",
              "        text-align: right;\n",
              "    }\n",
              "</style>\n",
              "<table border=\"1\" class=\"dataframe\">\n",
              "  <thead>\n",
              "    <tr style=\"text-align: right;\">\n",
              "      <th></th>\n",
              "      <th>Date</th>\n",
              "      <th>fips_x</th>\n",
              "      <th>County Name</th>\n",
              "      <th>retail and recreation</th>\n",
              "      <th>grocery and pharmacy</th>\n",
              "      <th>parks</th>\n",
              "      <th>transit stations</th>\n",
              "      <th>workplaces</th>\n",
              "      <th>residential</th>\n",
              "      <th>driving</th>\n",
              "      <th>m50</th>\n",
              "      <th>m50_index</th>\n",
              "      <th>population_density</th>\n",
              "      <th>mask_rule_active</th>\n",
              "      <th>mask_wearing_percent</th>\n",
              "      <th>New cases</th>\n",
              "      <th>rolling_avg_new_cases</th>\n",
              "    </tr>\n",
              "  </thead>\n",
              "  <tbody>\n",
              "    <tr>\n",
              "      <th>0</th>\n",
              "      <td>2020-03-01</td>\n",
              "      <td>6001</td>\n",
              "      <td>Alameda County</td>\n",
              "      <td>6.0</td>\n",
              "      <td>9.0</td>\n",
              "      <td>15.0</td>\n",
              "      <td>1.0</td>\n",
              "      <td>4.0</td>\n",
              "      <td>0.0</td>\n",
              "      <td>-7.65</td>\n",
              "      <td>3.684</td>\n",
              "      <td>58</td>\n",
              "      <td>2261.547725</td>\n",
              "      <td>0</td>\n",
              "      <td>0.0</td>\n",
              "      <td>0</td>\n",
              "      <td>0.000000</td>\n",
              "    </tr>\n",
              "    <tr>\n",
              "      <th>1</th>\n",
              "      <td>2020-03-02</td>\n",
              "      <td>6001</td>\n",
              "      <td>Alameda County</td>\n",
              "      <td>4.0</td>\n",
              "      <td>7.0</td>\n",
              "      <td>7.0</td>\n",
              "      <td>-1.0</td>\n",
              "      <td>3.0</td>\n",
              "      <td>0.0</td>\n",
              "      <td>6.76</td>\n",
              "      <td>6.182</td>\n",
              "      <td>98</td>\n",
              "      <td>2261.547725</td>\n",
              "      <td>0</td>\n",
              "      <td>0.0</td>\n",
              "      <td>0</td>\n",
              "      <td>0.000000</td>\n",
              "    </tr>\n",
              "    <tr>\n",
              "      <th>2</th>\n",
              "      <td>2020-03-03</td>\n",
              "      <td>6001</td>\n",
              "      <td>Alameda County</td>\n",
              "      <td>5.0</td>\n",
              "      <td>12.0</td>\n",
              "      <td>41.0</td>\n",
              "      <td>0.0</td>\n",
              "      <td>1.0</td>\n",
              "      <td>-1.0</td>\n",
              "      <td>13.19</td>\n",
              "      <td>6.271</td>\n",
              "      <td>100</td>\n",
              "      <td>2261.547725</td>\n",
              "      <td>0</td>\n",
              "      <td>0.0</td>\n",
              "      <td>1</td>\n",
              "      <td>0.000000</td>\n",
              "    </tr>\n",
              "    <tr>\n",
              "      <th>3</th>\n",
              "      <td>2020-03-04</td>\n",
              "      <td>6001</td>\n",
              "      <td>Alameda County</td>\n",
              "      <td>1.0</td>\n",
              "      <td>6.0</td>\n",
              "      <td>23.0</td>\n",
              "      <td>-3.0</td>\n",
              "      <td>1.0</td>\n",
              "      <td>0.0</td>\n",
              "      <td>10.67</td>\n",
              "      <td>6.209</td>\n",
              "      <td>99</td>\n",
              "      <td>2261.547725</td>\n",
              "      <td>0</td>\n",
              "      <td>0.0</td>\n",
              "      <td>0</td>\n",
              "      <td>0.000000</td>\n",
              "    </tr>\n",
              "    <tr>\n",
              "      <th>4</th>\n",
              "      <td>2020-03-05</td>\n",
              "      <td>6001</td>\n",
              "      <td>Alameda County</td>\n",
              "      <td>1.0</td>\n",
              "      <td>6.0</td>\n",
              "      <td>12.0</td>\n",
              "      <td>-5.0</td>\n",
              "      <td>-1.0</td>\n",
              "      <td>1.0</td>\n",
              "      <td>11.64</td>\n",
              "      <td>6.654</td>\n",
              "      <td>106</td>\n",
              "      <td>2261.547725</td>\n",
              "      <td>0</td>\n",
              "      <td>0.0</td>\n",
              "      <td>0</td>\n",
              "      <td>0.000000</td>\n",
              "    </tr>\n",
              "    <tr>\n",
              "      <th>5</th>\n",
              "      <td>2020-03-06</td>\n",
              "      <td>6001</td>\n",
              "      <td>Alameda County</td>\n",
              "      <td>1.0</td>\n",
              "      <td>5.0</td>\n",
              "      <td>-1.0</td>\n",
              "      <td>-7.0</td>\n",
              "      <td>0.0</td>\n",
              "      <td>2.0</td>\n",
              "      <td>25.77</td>\n",
              "      <td>6.704</td>\n",
              "      <td>106</td>\n",
              "      <td>2261.547725</td>\n",
              "      <td>0</td>\n",
              "      <td>0.0</td>\n",
              "      <td>0</td>\n",
              "      <td>0.000000</td>\n",
              "    </tr>\n",
              "    <tr>\n",
              "      <th>6</th>\n",
              "      <td>2020-03-07</td>\n",
              "      <td>6001</td>\n",
              "      <td>Alameda County</td>\n",
              "      <td>-6.0</td>\n",
              "      <td>4.0</td>\n",
              "      <td>-23.0</td>\n",
              "      <td>-14.0</td>\n",
              "      <td>1.0</td>\n",
              "      <td>3.0</td>\n",
              "      <td>12.82</td>\n",
              "      <td>4.869</td>\n",
              "      <td>77</td>\n",
              "      <td>2261.547725</td>\n",
              "      <td>0</td>\n",
              "      <td>0.0</td>\n",
              "      <td>1</td>\n",
              "      <td>0.285714</td>\n",
              "    </tr>\n",
              "    <tr>\n",
              "      <th>7</th>\n",
              "      <td>2020-03-08</td>\n",
              "      <td>6001</td>\n",
              "      <td>Alameda County</td>\n",
              "      <td>-2.0</td>\n",
              "      <td>4.0</td>\n",
              "      <td>14.0</td>\n",
              "      <td>-8.0</td>\n",
              "      <td>1.0</td>\n",
              "      <td>1.0</td>\n",
              "      <td>-14.65</td>\n",
              "      <td>3.408</td>\n",
              "      <td>54</td>\n",
              "      <td>2261.547725</td>\n",
              "      <td>0</td>\n",
              "      <td>0.0</td>\n",
              "      <td>0</td>\n",
              "      <td>0.285714</td>\n",
              "    </tr>\n",
              "  </tbody>\n",
              "</table>\n",
              "</div>"
            ],
            "text/plain": [
              "         Date  fips_x  ... New cases  rolling_avg_new_cases\n",
              "0  2020-03-01    6001  ...         0               0.000000\n",
              "1  2020-03-02    6001  ...         0               0.000000\n",
              "2  2020-03-03    6001  ...         1               0.000000\n",
              "3  2020-03-04    6001  ...         0               0.000000\n",
              "4  2020-03-05    6001  ...         0               0.000000\n",
              "5  2020-03-06    6001  ...         0               0.000000\n",
              "6  2020-03-07    6001  ...         1               0.285714\n",
              "7  2020-03-08    6001  ...         0               0.285714\n",
              "\n",
              "[8 rows x 17 columns]"
            ]
          },
          "metadata": {
            "tags": []
          },
          "execution_count": 13
        }
      ]
    },
    {
      "cell_type": "code",
      "metadata": {
        "id": "qseoizcDL1by",
        "colab_type": "code",
        "colab": {
          "base_uri": "https://localhost:8080/",
          "height": 319
        },
        "outputId": "ad587d87-a142-42f8-cc2b-8daea9fc47b5"
      },
      "source": [
        "NY_combined_data['County Name'].unique()"
      ],
      "execution_count": 14,
      "outputs": [
        {
          "output_type": "execute_result",
          "data": {
            "text/plain": [
              "array(['Alameda County', 'Amador County', 'Butte County',\n",
              "       'Calaveras County', 'Colusa County', 'Contra Costa County',\n",
              "       'Del Norte County', 'El Dorado County', 'Fresno County',\n",
              "       'Glenn County', 'Humboldt County', 'Imperial County',\n",
              "       'Inyo County', 'Kern County', 'Kings County', 'Lake County',\n",
              "       'Lassen County', 'Los Angeles County', 'Madera County',\n",
              "       'Marin County', 'Mariposa County', 'Mendocino County',\n",
              "       'Merced County', 'Mono County', 'Monterey County', 'Napa County',\n",
              "       'Nevada County', 'Orange County', 'Placer County', 'Plumas County',\n",
              "       'Riverside County', 'Sacramento County', 'San Benito County',\n",
              "       'San Bernardino County', 'San Diego County',\n",
              "       'San Francisco County', 'San Joaquin County',\n",
              "       'San Luis Obispo County', 'San Mateo County',\n",
              "       'Santa Barbara County', 'Santa Clara County', 'Santa Cruz County',\n",
              "       'Shasta County', 'Siskiyou County', 'Solano County',\n",
              "       'Sonoma County', 'Stanislaus County', 'Sutter County',\n",
              "       'Tehama County', 'Tulare County', 'Tuolumne County',\n",
              "       'Ventura County', 'Yolo County', 'Yuba County'], dtype=object)"
            ]
          },
          "metadata": {
            "tags": []
          },
          "execution_count": 14
        }
      ]
    },
    {
      "cell_type": "markdown",
      "metadata": {
        "id": "LobDpGCFMAbM",
        "colab_type": "text"
      },
      "source": [
        "## verifying Rolling average with visualizations"
      ]
    },
    {
      "cell_type": "code",
      "metadata": {
        "id": "CF3t0D6jL-53",
        "colab_type": "code",
        "colab": {
          "base_uri": "https://localhost:8080/",
          "height": 434
        },
        "outputId": "1dfa8f87-6820-42df-ba19-9bc2d5149867"
      },
      "source": [
        "albany_county = NY_combined_data[NY_combined_data['County Name'] == 'Los Angeles County']\n",
        "print(albany_county.shape)\n",
        "albany_county.head()"
      ],
      "execution_count": 15,
      "outputs": [
        {
          "output_type": "stream",
          "text": [
            "(172, 17)\n"
          ],
          "name": "stdout"
        },
        {
          "output_type": "execute_result",
          "data": {
            "text/html": [
              "<div>\n",
              "<style scoped>\n",
              "    .dataframe tbody tr th:only-of-type {\n",
              "        vertical-align: middle;\n",
              "    }\n",
              "\n",
              "    .dataframe tbody tr th {\n",
              "        vertical-align: top;\n",
              "    }\n",
              "\n",
              "    .dataframe thead th {\n",
              "        text-align: right;\n",
              "    }\n",
              "</style>\n",
              "<table border=\"1\" class=\"dataframe\">\n",
              "  <thead>\n",
              "    <tr style=\"text-align: right;\">\n",
              "      <th></th>\n",
              "      <th>Date</th>\n",
              "      <th>fips_x</th>\n",
              "      <th>County Name</th>\n",
              "      <th>retail and recreation</th>\n",
              "      <th>grocery and pharmacy</th>\n",
              "      <th>parks</th>\n",
              "      <th>transit stations</th>\n",
              "      <th>workplaces</th>\n",
              "      <th>residential</th>\n",
              "      <th>driving</th>\n",
              "      <th>m50</th>\n",
              "      <th>m50_index</th>\n",
              "      <th>population_density</th>\n",
              "      <th>mask_rule_active</th>\n",
              "      <th>mask_wearing_percent</th>\n",
              "      <th>New cases</th>\n",
              "      <th>rolling_avg_new_cases</th>\n",
              "    </tr>\n",
              "  </thead>\n",
              "  <tbody>\n",
              "    <tr>\n",
              "      <th>2924</th>\n",
              "      <td>2020-03-01</td>\n",
              "      <td>6037</td>\n",
              "      <td>Los Angeles County</td>\n",
              "      <td>4.0</td>\n",
              "      <td>3.0</td>\n",
              "      <td>-5.0</td>\n",
              "      <td>-3.0</td>\n",
              "      <td>1.0</td>\n",
              "      <td>0.0</td>\n",
              "      <td>-4.36</td>\n",
              "      <td>3.996</td>\n",
              "      <td>60</td>\n",
              "      <td>2473.978284</td>\n",
              "      <td>0</td>\n",
              "      <td>0.0</td>\n",
              "      <td>0</td>\n",
              "      <td>0.0</td>\n",
              "    </tr>\n",
              "    <tr>\n",
              "      <th>2925</th>\n",
              "      <td>2020-03-02</td>\n",
              "      <td>6037</td>\n",
              "      <td>Los Angeles County</td>\n",
              "      <td>5.0</td>\n",
              "      <td>5.0</td>\n",
              "      <td>8.0</td>\n",
              "      <td>1.0</td>\n",
              "      <td>4.0</td>\n",
              "      <td>-1.0</td>\n",
              "      <td>7.51</td>\n",
              "      <td>6.502</td>\n",
              "      <td>98</td>\n",
              "      <td>2473.978284</td>\n",
              "      <td>0</td>\n",
              "      <td>0.0</td>\n",
              "      <td>0</td>\n",
              "      <td>0.0</td>\n",
              "    </tr>\n",
              "    <tr>\n",
              "      <th>2926</th>\n",
              "      <td>2020-03-03</td>\n",
              "      <td>6037</td>\n",
              "      <td>Los Angeles County</td>\n",
              "      <td>8.0</td>\n",
              "      <td>7.0</td>\n",
              "      <td>32.0</td>\n",
              "      <td>2.0</td>\n",
              "      <td>3.0</td>\n",
              "      <td>-1.0</td>\n",
              "      <td>17.24</td>\n",
              "      <td>6.591</td>\n",
              "      <td>99</td>\n",
              "      <td>2473.978284</td>\n",
              "      <td>0</td>\n",
              "      <td>0.0</td>\n",
              "      <td>0</td>\n",
              "      <td>0.0</td>\n",
              "    </tr>\n",
              "    <tr>\n",
              "      <th>2927</th>\n",
              "      <td>2020-03-04</td>\n",
              "      <td>6037</td>\n",
              "      <td>Los Angeles County</td>\n",
              "      <td>4.0</td>\n",
              "      <td>6.0</td>\n",
              "      <td>9.0</td>\n",
              "      <td>-1.0</td>\n",
              "      <td>2.0</td>\n",
              "      <td>0.0</td>\n",
              "      <td>13.82</td>\n",
              "      <td>6.595</td>\n",
              "      <td>100</td>\n",
              "      <td>2473.978284</td>\n",
              "      <td>0</td>\n",
              "      <td>0.0</td>\n",
              "      <td>6</td>\n",
              "      <td>0.0</td>\n",
              "    </tr>\n",
              "    <tr>\n",
              "      <th>2928</th>\n",
              "      <td>2020-03-05</td>\n",
              "      <td>6037</td>\n",
              "      <td>Los Angeles County</td>\n",
              "      <td>4.0</td>\n",
              "      <td>7.0</td>\n",
              "      <td>9.0</td>\n",
              "      <td>0.0</td>\n",
              "      <td>2.0</td>\n",
              "      <td>0.0</td>\n",
              "      <td>22.17</td>\n",
              "      <td>7.008</td>\n",
              "      <td>106</td>\n",
              "      <td>2473.978284</td>\n",
              "      <td>0</td>\n",
              "      <td>0.0</td>\n",
              "      <td>4</td>\n",
              "      <td>0.0</td>\n",
              "    </tr>\n",
              "  </tbody>\n",
              "</table>\n",
              "</div>"
            ],
            "text/plain": [
              "            Date  fips_x  ... New cases  rolling_avg_new_cases\n",
              "2924  2020-03-01    6037  ...         0                    0.0\n",
              "2925  2020-03-02    6037  ...         0                    0.0\n",
              "2926  2020-03-03    6037  ...         0                    0.0\n",
              "2927  2020-03-04    6037  ...         6                    0.0\n",
              "2928  2020-03-05    6037  ...         4                    0.0\n",
              "\n",
              "[5 rows x 17 columns]"
            ]
          },
          "metadata": {
            "tags": []
          },
          "execution_count": 15
        }
      ]
    },
    {
      "cell_type": "code",
      "metadata": {
        "id": "_4cRjK3A59GK",
        "colab_type": "code",
        "colab": {
          "base_uri": "https://localhost:8080/",
          "height": 299
        },
        "outputId": "d9b5a1bb-f968-4bdd-b8f0-c5b3d15d884a"
      },
      "source": [
        "fig,ax = plt.subplots()\n",
        "# make a plot\n",
        "ax.plot(albany_county.Date, albany_county['rolling_avg_new_cases'], color=\"blue\")\n",
        "# set x-axis label\n",
        "ax.set_xlabel(\"Date\",fontsize=14)\n",
        "# set y-axis label\n",
        "ax.set_ylabel(\"rolling_avg_new_cases\",color=\"blue\",fontsize=14)\n",
        "ax2=ax.twinx()\n",
        "# make a plot with different y-axis using second axis object\n",
        "ax2.plot(albany_county.Date, albany_county[\"New cases\"],color=\"red\")\n",
        "ax2.set_ylabel(\"New cases\",color=\"blue\",fontsize=14)\n",
        "plt.title(\"'rolling_avg_new_cases' Vs New cases\")\n",
        "\n",
        "plt.show()"
      ],
      "execution_count": 16,
      "outputs": [
        {
          "output_type": "display_data",
          "data": {
            "image/png": "[encoded data removed]",
            "text/plain": [
              "<Figure size 432x288 with 2 Axes>"
            ]
          },
          "metadata": {
            "tags": [],
            "needs_background": "light"
          }
        }
      ]
    },
    {
      "cell_type": "code",
      "metadata": {
        "id": "EtNJP7fdLDu0",
        "colab_type": "code",
        "colab": {}
      },
      "source": [
        "suffolk_county = NY_combined_data[NY_combined_data['County Name'] == 'Santa Clara County']"
      ],
      "execution_count": 17,
      "outputs": []
    },
    {
      "cell_type": "code",
      "metadata": {
        "id": "fo3Jw_0cLDTD",
        "colab_type": "code",
        "colab": {
          "base_uri": "https://localhost:8080/",
          "height": 299
        },
        "outputId": "bc7767c9-d86a-4fda-8fc4-8c5af112053d"
      },
      "source": [
        "fig,ax = plt.subplots()\n",
        "# make a plot\n",
        "ax.plot(suffolk_county.Date, suffolk_county['rolling_avg_new_cases'], color=\"blue\")\n",
        "# set x-axis label\n",
        "ax.set_xlabel(\"Date\",fontsize=14)\n",
        "# set y-axis label\n",
        "ax.set_ylabel(\"rolling_avg_new_cases\",color=\"blue\",fontsize=14)\n",
        "ax2=ax.twinx()\n",
        "# make a plot with different y-axis using second axis object\n",
        "ax2.plot(suffolk_county.Date, suffolk_county[\"New cases\"],color=\"red\")\n",
        "ax2.set_ylabel(\"New cases\",color=\"blue\",fontsize=14)\n",
        "plt.title(\"'rolling_avg_new_cases' Vs New cases\")\n",
        "\n",
        "plt.show()"
      ],
      "execution_count": 18,
      "outputs": [
        {
          "output_type": "display_data",
          "data": {
            "image/png": "[encoded data removed]",
            "text/plain": [
              "<Figure size 432x288 with 2 Axes>"
            ]
          },
          "metadata": {
            "tags": [],
            "needs_background": "light"
          }
        }
      ]
    },
    {
      "cell_type": "markdown",
      "metadata": {
        "id": "Qcx8HY6Z7bZ2",
        "colab_type": "text"
      },
      "source": [
        "## Rolling window to compare every 2 weeks with next 2 weeks"
      ]
    },
    {
      "cell_type": "code",
      "metadata": {
        "id": "iGRvUuNGAKng",
        "colab_type": "code",
        "colab": {
          "base_uri": "https://localhost:8080/",
          "height": 350
        },
        "outputId": "6beee8c1-4151-460a-c8a3-40f4947d396f"
      },
      "source": [
        "NY_combined_data = NY_combined_data.sort_values(by=['Date'])\n",
        "NY_combined_data.head()"
      ],
      "execution_count": 19,
      "outputs": [
        {
          "output_type": "execute_result",
          "data": {
            "text/html": [
              "<div>\n",
              "<style scoped>\n",
              "    .dataframe tbody tr th:only-of-type {\n",
              "        vertical-align: middle;\n",
              "    }\n",
              "\n",
              "    .dataframe tbody tr th {\n",
              "        vertical-align: top;\n",
              "    }\n",
              "\n",
              "    .dataframe thead th {\n",
              "        text-align: right;\n",
              "    }\n",
              "</style>\n",
              "<table border=\"1\" class=\"dataframe\">\n",
              "  <thead>\n",
              "    <tr style=\"text-align: right;\">\n",
              "      <th></th>\n",
              "      <th>Date</th>\n",
              "      <th>fips_x</th>\n",
              "      <th>County Name</th>\n",
              "      <th>retail and recreation</th>\n",
              "      <th>grocery and pharmacy</th>\n",
              "      <th>parks</th>\n",
              "      <th>transit stations</th>\n",
              "      <th>workplaces</th>\n",
              "      <th>residential</th>\n",
              "      <th>driving</th>\n",
              "      <th>m50</th>\n",
              "      <th>m50_index</th>\n",
              "      <th>population_density</th>\n",
              "      <th>mask_rule_active</th>\n",
              "      <th>mask_wearing_percent</th>\n",
              "      <th>New cases</th>\n",
              "      <th>rolling_avg_new_cases</th>\n",
              "    </tr>\n",
              "  </thead>\n",
              "  <tbody>\n",
              "    <tr>\n",
              "      <th>0</th>\n",
              "      <td>2020-03-01</td>\n",
              "      <td>6001</td>\n",
              "      <td>Alameda County</td>\n",
              "      <td>6.0</td>\n",
              "      <td>9.0</td>\n",
              "      <td>15.0</td>\n",
              "      <td>1.0</td>\n",
              "      <td>4.0</td>\n",
              "      <td>0.0</td>\n",
              "      <td>-7.65</td>\n",
              "      <td>3.684</td>\n",
              "      <td>58</td>\n",
              "      <td>2261.547725</td>\n",
              "      <td>0</td>\n",
              "      <td>0.0</td>\n",
              "      <td>0</td>\n",
              "      <td>0.0</td>\n",
              "    </tr>\n",
              "    <tr>\n",
              "      <th>5240</th>\n",
              "      <td>2020-03-01</td>\n",
              "      <td>6067</td>\n",
              "      <td>Sacramento County</td>\n",
              "      <td>11.0</td>\n",
              "      <td>4.0</td>\n",
              "      <td>26.0</td>\n",
              "      <td>1.0</td>\n",
              "      <td>2.0</td>\n",
              "      <td>-1.0</td>\n",
              "      <td>-4.63</td>\n",
              "      <td>3.773</td>\n",
              "      <td>53</td>\n",
              "      <td>1608.950489</td>\n",
              "      <td>0</td>\n",
              "      <td>0.0</td>\n",
              "      <td>0</td>\n",
              "      <td>0.0</td>\n",
              "    </tr>\n",
              "    <tr>\n",
              "      <th>5412</th>\n",
              "      <td>2020-03-01</td>\n",
              "      <td>6069</td>\n",
              "      <td>San Benito County</td>\n",
              "      <td>2.0</td>\n",
              "      <td>-1.0</td>\n",
              "      <td>-7.0</td>\n",
              "      <td>0.0</td>\n",
              "      <td>0.0</td>\n",
              "      <td>0.0</td>\n",
              "      <td>10.40</td>\n",
              "      <td>3.876</td>\n",
              "      <td>33</td>\n",
              "      <td>45.227585</td>\n",
              "      <td>0</td>\n",
              "      <td>0.0</td>\n",
              "      <td>0</td>\n",
              "      <td>0.0</td>\n",
              "    </tr>\n",
              "    <tr>\n",
              "      <th>5584</th>\n",
              "      <td>2020-03-01</td>\n",
              "      <td>6071</td>\n",
              "      <td>San Bernardino County</td>\n",
              "      <td>5.0</td>\n",
              "      <td>-2.0</td>\n",
              "      <td>-22.0</td>\n",
              "      <td>2.0</td>\n",
              "      <td>-1.0</td>\n",
              "      <td>0.0</td>\n",
              "      <td>10.34</td>\n",
              "      <td>4.508</td>\n",
              "      <td>57</td>\n",
              "      <td>108.694796</td>\n",
              "      <td>0</td>\n",
              "      <td>0.0</td>\n",
              "      <td>0</td>\n",
              "      <td>0.0</td>\n",
              "    </tr>\n",
              "    <tr>\n",
              "      <th>5756</th>\n",
              "      <td>2020-03-01</td>\n",
              "      <td>6073</td>\n",
              "      <td>San Diego County</td>\n",
              "      <td>2.0</td>\n",
              "      <td>-1.0</td>\n",
              "      <td>-20.0</td>\n",
              "      <td>-4.0</td>\n",
              "      <td>2.0</td>\n",
              "      <td>0.0</td>\n",
              "      <td>-4.99</td>\n",
              "      <td>4.555</td>\n",
              "      <td>59</td>\n",
              "      <td>793.587741</td>\n",
              "      <td>0</td>\n",
              "      <td>0.0</td>\n",
              "      <td>0</td>\n",
              "      <td>0.0</td>\n",
              "    </tr>\n",
              "  </tbody>\n",
              "</table>\n",
              "</div>"
            ],
            "text/plain": [
              "            Date  fips_x  ... New cases  rolling_avg_new_cases\n",
              "0     2020-03-01    6001  ...         0                    0.0\n",
              "5240  2020-03-01    6067  ...         0                    0.0\n",
              "5412  2020-03-01    6069  ...         0                    0.0\n",
              "5584  2020-03-01    6071  ...         0                    0.0\n",
              "5756  2020-03-01    6073  ...         0                    0.0\n",
              "\n",
              "[5 rows x 17 columns]"
            ]
          },
          "metadata": {
            "tags": []
          },
          "execution_count": 19
        }
      ]
    },
    {
      "cell_type": "code",
      "metadata": {
        "id": "mx9hnOv70gtW",
        "colab_type": "code",
        "colab": {
          "base_uri": "https://localhost:8080/",
          "height": 623
        },
        "outputId": "1929a521-e29a-481b-a971-bf9f016b0bef"
      },
      "source": [
        "NY_combined_data[NY_combined_data['fips_x'] == 6001]"
      ],
      "execution_count": 20,
      "outputs": [
        {
          "output_type": "execute_result",
          "data": {
            "text/html": [
              "<div>\n",
              "<style scoped>\n",
              "    .dataframe tbody tr th:only-of-type {\n",
              "        vertical-align: middle;\n",
              "    }\n",
              "\n",
              "    .dataframe tbody tr th {\n",
              "        vertical-align: top;\n",
              "    }\n",
              "\n",
              "    .dataframe thead th {\n",
              "        text-align: right;\n",
              "    }\n",
              "</style>\n",
              "<table border=\"1\" class=\"dataframe\">\n",
              "  <thead>\n",
              "    <tr style=\"text-align: right;\">\n",
              "      <th></th>\n",
              "      <th>Date</th>\n",
              "      <th>fips_x</th>\n",
              "      <th>County Name</th>\n",
              "      <th>retail and recreation</th>\n",
              "      <th>grocery and pharmacy</th>\n",
              "      <th>parks</th>\n",
              "      <th>transit stations</th>\n",
              "      <th>workplaces</th>\n",
              "      <th>residential</th>\n",
              "      <th>driving</th>\n",
              "      <th>m50</th>\n",
              "      <th>m50_index</th>\n",
              "      <th>population_density</th>\n",
              "      <th>mask_rule_active</th>\n",
              "      <th>mask_wearing_percent</th>\n",
              "      <th>New cases</th>\n",
              "      <th>rolling_avg_new_cases</th>\n",
              "    </tr>\n",
              "  </thead>\n",
              "  <tbody>\n",
              "    <tr>\n",
              "      <th>0</th>\n",
              "      <td>2020-03-01</td>\n",
              "      <td>6001</td>\n",
              "      <td>Alameda County</td>\n",
              "      <td>6.0</td>\n",
              "      <td>9.0</td>\n",
              "      <td>15.0</td>\n",
              "      <td>1.0</td>\n",
              "      <td>4.0</td>\n",
              "      <td>0.0</td>\n",
              "      <td>-7.65</td>\n",
              "      <td>3.684</td>\n",
              "      <td>58</td>\n",
              "      <td>2261.547725</td>\n",
              "      <td>0</td>\n",
              "      <td>0.000</td>\n",
              "      <td>0</td>\n",
              "      <td>0.000000</td>\n",
              "    </tr>\n",
              "    <tr>\n",
              "      <th>1</th>\n",
              "      <td>2020-03-02</td>\n",
              "      <td>6001</td>\n",
              "      <td>Alameda County</td>\n",
              "      <td>4.0</td>\n",
              "      <td>7.0</td>\n",
              "      <td>7.0</td>\n",
              "      <td>-1.0</td>\n",
              "      <td>3.0</td>\n",
              "      <td>0.0</td>\n",
              "      <td>6.76</td>\n",
              "      <td>6.182</td>\n",
              "      <td>98</td>\n",
              "      <td>2261.547725</td>\n",
              "      <td>0</td>\n",
              "      <td>0.000</td>\n",
              "      <td>0</td>\n",
              "      <td>0.000000</td>\n",
              "    </tr>\n",
              "    <tr>\n",
              "      <th>2</th>\n",
              "      <td>2020-03-03</td>\n",
              "      <td>6001</td>\n",
              "      <td>Alameda County</td>\n",
              "      <td>5.0</td>\n",
              "      <td>12.0</td>\n",
              "      <td>41.0</td>\n",
              "      <td>0.0</td>\n",
              "      <td>1.0</td>\n",
              "      <td>-1.0</td>\n",
              "      <td>13.19</td>\n",
              "      <td>6.271</td>\n",
              "      <td>100</td>\n",
              "      <td>2261.547725</td>\n",
              "      <td>0</td>\n",
              "      <td>0.000</td>\n",
              "      <td>1</td>\n",
              "      <td>0.000000</td>\n",
              "    </tr>\n",
              "    <tr>\n",
              "      <th>3</th>\n",
              "      <td>2020-03-04</td>\n",
              "      <td>6001</td>\n",
              "      <td>Alameda County</td>\n",
              "      <td>1.0</td>\n",
              "      <td>6.0</td>\n",
              "      <td>23.0</td>\n",
              "      <td>-3.0</td>\n",
              "      <td>1.0</td>\n",
              "      <td>0.0</td>\n",
              "      <td>10.67</td>\n",
              "      <td>6.209</td>\n",
              "      <td>99</td>\n",
              "      <td>2261.547725</td>\n",
              "      <td>0</td>\n",
              "      <td>0.000</td>\n",
              "      <td>0</td>\n",
              "      <td>0.000000</td>\n",
              "    </tr>\n",
              "    <tr>\n",
              "      <th>4</th>\n",
              "      <td>2020-03-05</td>\n",
              "      <td>6001</td>\n",
              "      <td>Alameda County</td>\n",
              "      <td>1.0</td>\n",
              "      <td>6.0</td>\n",
              "      <td>12.0</td>\n",
              "      <td>-5.0</td>\n",
              "      <td>-1.0</td>\n",
              "      <td>1.0</td>\n",
              "      <td>11.64</td>\n",
              "      <td>6.654</td>\n",
              "      <td>106</td>\n",
              "      <td>2261.547725</td>\n",
              "      <td>0</td>\n",
              "      <td>0.000</td>\n",
              "      <td>0</td>\n",
              "      <td>0.000000</td>\n",
              "    </tr>\n",
              "    <tr>\n",
              "      <th>...</th>\n",
              "      <td>...</td>\n",
              "      <td>...</td>\n",
              "      <td>...</td>\n",
              "      <td>...</td>\n",
              "      <td>...</td>\n",
              "      <td>...</td>\n",
              "      <td>...</td>\n",
              "      <td>...</td>\n",
              "      <td>...</td>\n",
              "      <td>...</td>\n",
              "      <td>...</td>\n",
              "      <td>...</td>\n",
              "      <td>...</td>\n",
              "      <td>...</td>\n",
              "      <td>...</td>\n",
              "      <td>...</td>\n",
              "      <td>...</td>\n",
              "    </tr>\n",
              "    <tr>\n",
              "      <th>167</th>\n",
              "      <td>2020-08-17</td>\n",
              "      <td>6001</td>\n",
              "      <td>Alameda County</td>\n",
              "      <td>-37.0</td>\n",
              "      <td>-18.0</td>\n",
              "      <td>11.0</td>\n",
              "      <td>-62.0</td>\n",
              "      <td>-55.0</td>\n",
              "      <td>20.0</td>\n",
              "      <td>2.63</td>\n",
              "      <td>0.946</td>\n",
              "      <td>15</td>\n",
              "      <td>2261.547725</td>\n",
              "      <td>1</td>\n",
              "      <td>0.795</td>\n",
              "      <td>150</td>\n",
              "      <td>213.142857</td>\n",
              "    </tr>\n",
              "    <tr>\n",
              "      <th>168</th>\n",
              "      <td>2020-08-18</td>\n",
              "      <td>6001</td>\n",
              "      <td>Alameda County</td>\n",
              "      <td>-37.0</td>\n",
              "      <td>-13.0</td>\n",
              "      <td>22.0</td>\n",
              "      <td>-62.0</td>\n",
              "      <td>-54.0</td>\n",
              "      <td>20.0</td>\n",
              "      <td>6.70</td>\n",
              "      <td>1.614</td>\n",
              "      <td>25</td>\n",
              "      <td>2261.547725</td>\n",
              "      <td>1</td>\n",
              "      <td>0.795</td>\n",
              "      <td>314</td>\n",
              "      <td>258.000000</td>\n",
              "    </tr>\n",
              "    <tr>\n",
              "      <th>169</th>\n",
              "      <td>2020-08-19</td>\n",
              "      <td>6001</td>\n",
              "      <td>Alameda County</td>\n",
              "      <td>-38.0</td>\n",
              "      <td>-15.0</td>\n",
              "      <td>2.0</td>\n",
              "      <td>-63.0</td>\n",
              "      <td>-54.0</td>\n",
              "      <td>21.0</td>\n",
              "      <td>13.19</td>\n",
              "      <td>0.803</td>\n",
              "      <td>12</td>\n",
              "      <td>2261.547725</td>\n",
              "      <td>1</td>\n",
              "      <td>0.795</td>\n",
              "      <td>399</td>\n",
              "      <td>246.285714</td>\n",
              "    </tr>\n",
              "    <tr>\n",
              "      <th>170</th>\n",
              "      <td>2020-08-20</td>\n",
              "      <td>6001</td>\n",
              "      <td>Alameda County</td>\n",
              "      <td>-37.0</td>\n",
              "      <td>-13.0</td>\n",
              "      <td>6.0</td>\n",
              "      <td>-63.0</td>\n",
              "      <td>-55.0</td>\n",
              "      <td>21.0</td>\n",
              "      <td>11.24</td>\n",
              "      <td>1.295</td>\n",
              "      <td>20</td>\n",
              "      <td>2261.547725</td>\n",
              "      <td>1</td>\n",
              "      <td>0.795</td>\n",
              "      <td>348</td>\n",
              "      <td>233.714286</td>\n",
              "    </tr>\n",
              "    <tr>\n",
              "      <th>171</th>\n",
              "      <td>2020-08-21</td>\n",
              "      <td>6001</td>\n",
              "      <td>Alameda County</td>\n",
              "      <td>-40.0</td>\n",
              "      <td>-13.0</td>\n",
              "      <td>-1.0</td>\n",
              "      <td>-61.0</td>\n",
              "      <td>-51.0</td>\n",
              "      <td>20.0</td>\n",
              "      <td>24.48</td>\n",
              "      <td>2.314</td>\n",
              "      <td>36</td>\n",
              "      <td>2261.547725</td>\n",
              "      <td>1</td>\n",
              "      <td>0.795</td>\n",
              "      <td>285</td>\n",
              "      <td>273.000000</td>\n",
              "    </tr>\n",
              "  </tbody>\n",
              "</table>\n",
              "<p>172 rows × 17 columns</p>\n",
              "</div>"
            ],
            "text/plain": [
              "           Date  fips_x  ... New cases  rolling_avg_new_cases\n",
              "0    2020-03-01    6001  ...         0               0.000000\n",
              "1    2020-03-02    6001  ...         0               0.000000\n",
              "2    2020-03-03    6001  ...         1               0.000000\n",
              "3    2020-03-04    6001  ...         0               0.000000\n",
              "4    2020-03-05    6001  ...         0               0.000000\n",
              "..          ...     ...  ...       ...                    ...\n",
              "167  2020-08-17    6001  ...       150             213.142857\n",
              "168  2020-08-18    6001  ...       314             258.000000\n",
              "169  2020-08-19    6001  ...       399             246.285714\n",
              "170  2020-08-20    6001  ...       348             233.714286\n",
              "171  2020-08-21    6001  ...       285             273.000000\n",
              "\n",
              "[172 rows x 17 columns]"
            ]
          },
          "metadata": {
            "tags": []
          },
          "execution_count": 20
        }
      ]
    },
    {
      "cell_type": "code",
      "metadata": {
        "id": "EFPKWovX-fM5",
        "colab_type": "code",
        "colab": {
          "base_uri": "https://localhost:8080/",
          "height": 34
        },
        "outputId": "652e6ffd-b580-4106-f1bb-48c14b6b954f"
      },
      "source": [
        "minDate = NY_combined_data['Date'].min()\n",
        "print(minDate)\n",
        "\n",
        "dateList = NY_combined_data['Date'].unique()"
      ],
      "execution_count": 21,
      "outputs": [
        {
          "output_type": "stream",
          "text": [
            "2020-03-01\n"
          ],
          "name": "stdout"
        }
      ]
    },
    {
      "cell_type": "code",
      "metadata": {
        "id": "tFwnKPlk7mAQ",
        "colab_type": "code",
        "colab": {
          "base_uri": "https://localhost:8080/",
          "height": 34
        },
        "outputId": "343965d1-0e10-47f5-955d-32f882320122"
      },
      "source": [
        "import datetime\n",
        "\n",
        "#dt_object = datetime.fromtimestamp(date)\n",
        "day_name= ['Monday', 'Tuesday', 'Wednesday', 'Thursday', 'Friday', 'Saturday','Sunday']\n",
        "\n",
        "day = datetime.datetime.strptime(minDate, '%Y-%m-%d').weekday()\n",
        "if day == 6:\n",
        "  day =0\n",
        "elif day < 6:\n",
        "  day += 1\n",
        "\n",
        "print(day)"
      ],
      "execution_count": 22,
      "outputs": [
        {
          "output_type": "stream",
          "text": [
            "0\n"
          ],
          "name": "stdout"
        }
      ]
    },
    {
      "cell_type": "code",
      "metadata": {
        "id": "sXf9Zgbq7l2a",
        "colab_type": "code",
        "colab": {
          "base_uri": "https://localhost:8080/",
          "height": 235
        },
        "outputId": "16252ac7-66cc-4d3c-a149-1d1e95475e2c"
      },
      "source": [
        "index = 0\n",
        "count = 0\n",
        "lst = []\n",
        "while index < len(dateList):\n",
        "  row = []\n",
        "  j = 14 - day;\n",
        "  # print(index,j)\n",
        "  # print(dateList[index:index+j])\n",
        "  weekRange = dateList[index:index+j]\n",
        "  #print(weekRange)\n",
        "  index = index+j \n",
        "  day = 0\n",
        "  count +=1\n",
        "  row.append(count)\n",
        "  row.append(weekRange.min())\n",
        "  row.append(weekRange.max())\n",
        "  print(row)\n",
        "  lst.append(row)\n",
        "  \n"
      ],
      "execution_count": 23,
      "outputs": [
        {
          "output_type": "stream",
          "text": [
            "[1, '2020-03-01', '2020-03-14']\n",
            "[2, '2020-03-15', '2020-03-28']\n",
            "[3, '2020-03-29', '2020-04-11']\n",
            "[4, '2020-04-12', '2020-04-26']\n",
            "[5, '2020-04-27', '2020-05-10']\n",
            "[6, '2020-05-11', '2020-05-24']\n",
            "[7, '2020-05-25', '2020-06-08']\n",
            "[8, '2020-06-09', '2020-06-22']\n",
            "[9, '2020-06-23', '2020-07-06']\n",
            "[10, '2020-07-07', '2020-07-20']\n",
            "[11, '2020-07-21', '2020-08-03']\n",
            "[12, '2020-08-04', '2020-08-17']\n",
            "[13, '2020-08-18', '2020-08-21']\n"
          ],
          "name": "stdout"
        }
      ]
    },
    {
      "cell_type": "code",
      "metadata": {
        "id": "2_v44RrL_e4e",
        "colab_type": "code",
        "colab": {
          "base_uri": "https://localhost:8080/",
          "height": 106
        },
        "outputId": "5e3ab98a-803d-48cb-ad81-22fad5fa0270"
      },
      "source": [
        "week_df = pd.DataFrame(lst,index=None,columns=['WeekNumber','startDate','endDate'])\n",
        "week_df.head(2)"
      ],
      "execution_count": 24,
      "outputs": [
        {
          "output_type": "execute_result",
          "data": {
            "text/html": [
              "<div>\n",
              "<style scoped>\n",
              "    .dataframe tbody tr th:only-of-type {\n",
              "        vertical-align: middle;\n",
              "    }\n",
              "\n",
              "    .dataframe tbody tr th {\n",
              "        vertical-align: top;\n",
              "    }\n",
              "\n",
              "    .dataframe thead th {\n",
              "        text-align: right;\n",
              "    }\n",
              "</style>\n",
              "<table border=\"1\" class=\"dataframe\">\n",
              "  <thead>\n",
              "    <tr style=\"text-align: right;\">\n",
              "      <th></th>\n",
              "      <th>WeekNumber</th>\n",
              "      <th>startDate</th>\n",
              "      <th>endDate</th>\n",
              "    </tr>\n",
              "  </thead>\n",
              "  <tbody>\n",
              "    <tr>\n",
              "      <th>0</th>\n",
              "      <td>1</td>\n",
              "      <td>2020-03-01</td>\n",
              "      <td>2020-03-14</td>\n",
              "    </tr>\n",
              "    <tr>\n",
              "      <th>1</th>\n",
              "      <td>2</td>\n",
              "      <td>2020-03-15</td>\n",
              "      <td>2020-03-28</td>\n",
              "    </tr>\n",
              "  </tbody>\n",
              "</table>\n",
              "</div>"
            ],
            "text/plain": [
              "   WeekNumber   startDate     endDate\n",
              "0           1  2020-03-01  2020-03-14\n",
              "1           2  2020-03-15  2020-03-28"
            ]
          },
          "metadata": {
            "tags": []
          },
          "execution_count": 24
        }
      ]
    },
    {
      "cell_type": "markdown",
      "metadata": {
        "id": "Csz6g-NvBoBT",
        "colab_type": "text"
      },
      "source": [
        "## Slice data for the week dataframe"
      ]
    },
    {
      "cell_type": "code",
      "metadata": {
        "id": "HhY1u2IVEzYm",
        "colab_type": "code",
        "colab": {}
      },
      "source": [
        "\n",
        "average_newCases_df = pd.DataFrame(columns=['County Name',  'fips_x',  'average_per_week','startDate','endDate'])\n",
        "\n",
        "for index, row in week_df.iterrows():\n",
        "    startDate, endDate = row['startDate'], row['endDate']\n",
        "    df_index = (NY_combined_data['Date'] >= startDate) & (NY_combined_data['Date'] <= endDate)\n",
        "    df_weekData =  NY_combined_data.loc[df_index]\n",
        "    df_base = (\n",
        "      df_weekData\n",
        "      .pipe(lambda x: x.assign(gains_pctg=x[\"rolling_avg_new_cases\"]))\n",
        "      .groupby(['County Name','fips_x'])\n",
        "      .agg({\"gains_pctg\": \"mean\"})\n",
        "      .reset_index()\n",
        "      .rename(columns={\"gains_pctg\": \"average_per_week\"})\n",
        "    )\n",
        "    df_base['startDate'] = startDate\n",
        "    df_base['endDate'] = endDate\n",
        "  \n",
        "    #print(startDate,endDate,df_base['average_per_week'])\n",
        "    average_newCases_df = average_newCases_df.append(df_base)\n"
      ],
      "execution_count": 25,
      "outputs": []
    },
    {
      "cell_type": "code",
      "metadata": {
        "id": "RZrr8I3DNa_J",
        "colab_type": "code",
        "colab": {
          "base_uri": "https://localhost:8080/",
          "height": 34
        },
        "outputId": "ac2dde9d-12aa-4ff2-b3ff-2d0c35648c17"
      },
      "source": [
        "average_newCases_df.shape"
      ],
      "execution_count": 26,
      "outputs": [
        {
          "output_type": "execute_result",
          "data": {
            "text/plain": [
              "(701, 5)"
            ]
          },
          "metadata": {
            "tags": []
          },
          "execution_count": 26
        }
      ]
    },
    {
      "cell_type": "code",
      "metadata": {
        "id": "Gxc7bIt_xQpF",
        "colab_type": "code",
        "colab": {
          "base_uri": "https://localhost:8080/",
          "height": 432
        },
        "outputId": "b4b56d59-7971-4a57-f2ec-1df5e7aafea2"
      },
      "source": [
        "average_newCases_df[average_newCases_df['fips_x'] == 6001]"
      ],
      "execution_count": 27,
      "outputs": [
        {
          "output_type": "execute_result",
          "data": {
            "text/html": [
              "<div>\n",
              "<style scoped>\n",
              "    .dataframe tbody tr th:only-of-type {\n",
              "        vertical-align: middle;\n",
              "    }\n",
              "\n",
              "    .dataframe tbody tr th {\n",
              "        vertical-align: top;\n",
              "    }\n",
              "\n",
              "    .dataframe thead th {\n",
              "        text-align: right;\n",
              "    }\n",
              "</style>\n",
              "<table border=\"1\" class=\"dataframe\">\n",
              "  <thead>\n",
              "    <tr style=\"text-align: right;\">\n",
              "      <th></th>\n",
              "      <th>County Name</th>\n",
              "      <th>fips_x</th>\n",
              "      <th>average_per_week</th>\n",
              "      <th>startDate</th>\n",
              "      <th>endDate</th>\n",
              "    </tr>\n",
              "  </thead>\n",
              "  <tbody>\n",
              "    <tr>\n",
              "      <th>0</th>\n",
              "      <td>Alameda County</td>\n",
              "      <td>6001</td>\n",
              "      <td>0.316327</td>\n",
              "      <td>2020-03-01</td>\n",
              "      <td>2020-03-14</td>\n",
              "    </tr>\n",
              "    <tr>\n",
              "      <th>0</th>\n",
              "      <td>Alameda County</td>\n",
              "      <td>6001</td>\n",
              "      <td>10.632653</td>\n",
              "      <td>2020-03-15</td>\n",
              "      <td>2020-03-28</td>\n",
              "    </tr>\n",
              "    <tr>\n",
              "      <th>0</th>\n",
              "      <td>Alameda County</td>\n",
              "      <td>6001</td>\n",
              "      <td>37.051020</td>\n",
              "      <td>2020-03-29</td>\n",
              "      <td>2020-04-11</td>\n",
              "    </tr>\n",
              "    <tr>\n",
              "      <th>0</th>\n",
              "      <td>Alameda County</td>\n",
              "      <td>6001</td>\n",
              "      <td>45.193878</td>\n",
              "      <td>2020-04-12</td>\n",
              "      <td>2020-04-26</td>\n",
              "    </tr>\n",
              "    <tr>\n",
              "      <th>0</th>\n",
              "      <td>Alameda County</td>\n",
              "      <td>6001</td>\n",
              "      <td>41.561224</td>\n",
              "      <td>2020-04-27</td>\n",
              "      <td>2020-05-10</td>\n",
              "    </tr>\n",
              "    <tr>\n",
              "      <th>0</th>\n",
              "      <td>Alameda County</td>\n",
              "      <td>6001</td>\n",
              "      <td>51.530612</td>\n",
              "      <td>2020-05-11</td>\n",
              "      <td>2020-05-24</td>\n",
              "    </tr>\n",
              "    <tr>\n",
              "      <th>0</th>\n",
              "      <td>Alameda County</td>\n",
              "      <td>6001</td>\n",
              "      <td>69.744898</td>\n",
              "      <td>2020-05-25</td>\n",
              "      <td>2020-06-08</td>\n",
              "    </tr>\n",
              "    <tr>\n",
              "      <th>0</th>\n",
              "      <td>Alameda County</td>\n",
              "      <td>6001</td>\n",
              "      <td>73.724490</td>\n",
              "      <td>2020-06-09</td>\n",
              "      <td>2020-06-22</td>\n",
              "    </tr>\n",
              "    <tr>\n",
              "      <th>0</th>\n",
              "      <td>Alameda County</td>\n",
              "      <td>6001</td>\n",
              "      <td>122.785714</td>\n",
              "      <td>2020-06-23</td>\n",
              "      <td>2020-07-06</td>\n",
              "    </tr>\n",
              "    <tr>\n",
              "      <th>0</th>\n",
              "      <td>Alameda County</td>\n",
              "      <td>6001</td>\n",
              "      <td>169.846939</td>\n",
              "      <td>2020-07-07</td>\n",
              "      <td>2020-07-20</td>\n",
              "    </tr>\n",
              "    <tr>\n",
              "      <th>0</th>\n",
              "      <td>Alameda County</td>\n",
              "      <td>6001</td>\n",
              "      <td>166.540816</td>\n",
              "      <td>2020-07-21</td>\n",
              "      <td>2020-08-03</td>\n",
              "    </tr>\n",
              "    <tr>\n",
              "      <th>0</th>\n",
              "      <td>Alameda County</td>\n",
              "      <td>6001</td>\n",
              "      <td>237.704082</td>\n",
              "      <td>2020-08-04</td>\n",
              "      <td>2020-08-17</td>\n",
              "    </tr>\n",
              "    <tr>\n",
              "      <th>0</th>\n",
              "      <td>Alameda County</td>\n",
              "      <td>6001</td>\n",
              "      <td>252.750000</td>\n",
              "      <td>2020-08-18</td>\n",
              "      <td>2020-08-21</td>\n",
              "    </tr>\n",
              "  </tbody>\n",
              "</table>\n",
              "</div>"
            ],
            "text/plain": [
              "      County Name fips_x  average_per_week   startDate     endDate\n",
              "0  Alameda County   6001          0.316327  2020-03-01  2020-03-14\n",
              "0  Alameda County   6001         10.632653  2020-03-15  2020-03-28\n",
              "0  Alameda County   6001         37.051020  2020-03-29  2020-04-11\n",
              "0  Alameda County   6001         45.193878  2020-04-12  2020-04-26\n",
              "0  Alameda County   6001         41.561224  2020-04-27  2020-05-10\n",
              "0  Alameda County   6001         51.530612  2020-05-11  2020-05-24\n",
              "0  Alameda County   6001         69.744898  2020-05-25  2020-06-08\n",
              "0  Alameda County   6001         73.724490  2020-06-09  2020-06-22\n",
              "0  Alameda County   6001        122.785714  2020-06-23  2020-07-06\n",
              "0  Alameda County   6001        169.846939  2020-07-07  2020-07-20\n",
              "0  Alameda County   6001        166.540816  2020-07-21  2020-08-03\n",
              "0  Alameda County   6001        237.704082  2020-08-04  2020-08-17\n",
              "0  Alameda County   6001        252.750000  2020-08-18  2020-08-21"
            ]
          },
          "metadata": {
            "tags": []
          },
          "execution_count": 27
        }
      ]
    },
    {
      "cell_type": "markdown",
      "metadata": {
        "id": "CgXxxD4vNsE9",
        "colab_type": "text"
      },
      "source": [
        "## Verifying average per week data Eg., Los Angeles County"
      ]
    },
    {
      "cell_type": "code",
      "metadata": {
        "id": "3NdJAIRzNvt8",
        "colab_type": "code",
        "colab": {
          "base_uri": "https://localhost:8080/",
          "height": 269
        },
        "outputId": "2a7e771a-95a0-4e7f-f09e-781d9f70c9f8"
      },
      "source": [
        "albany_county[(albany_county['Date'] >= '2020-03-01') & (albany_county['Date'] <= '2020-03-14') ]['rolling_avg_new_cases']\n",
        "\n"
      ],
      "execution_count": 28,
      "outputs": [
        {
          "output_type": "execute_result",
          "data": {
            "text/plain": [
              "2924    0.000000\n",
              "2925    0.000000\n",
              "2926    0.000000\n",
              "2927    0.000000\n",
              "2928    0.000000\n",
              "2929    0.000000\n",
              "2930    1.857143\n",
              "2931    1.857143\n",
              "2932    1.857143\n",
              "2933    2.714286\n",
              "2934    2.857143\n",
              "2935    3.000000\n",
              "2936    3.857143\n",
              "2937    5.571429\n",
              "Name: rolling_avg_new_cases, dtype: float64"
            ]
          },
          "metadata": {
            "tags": []
          },
          "execution_count": 28
        }
      ]
    },
    {
      "cell_type": "code",
      "metadata": {
        "id": "quHotP0Istvk",
        "colab_type": "code",
        "colab": {
          "base_uri": "https://localhost:8080/",
          "height": 343
        },
        "outputId": "9f038b3f-d675-4013-e722-1f65e1b67de8"
      },
      "source": [
        "average_newCases_df.head(10)"
      ],
      "execution_count": 29,
      "outputs": [
        {
          "output_type": "execute_result",
          "data": {
            "text/html": [
              "<div>\n",
              "<style scoped>\n",
              "    .dataframe tbody tr th:only-of-type {\n",
              "        vertical-align: middle;\n",
              "    }\n",
              "\n",
              "    .dataframe tbody tr th {\n",
              "        vertical-align: top;\n",
              "    }\n",
              "\n",
              "    .dataframe thead th {\n",
              "        text-align: right;\n",
              "    }\n",
              "</style>\n",
              "<table border=\"1\" class=\"dataframe\">\n",
              "  <thead>\n",
              "    <tr style=\"text-align: right;\">\n",
              "      <th></th>\n",
              "      <th>County Name</th>\n",
              "      <th>fips_x</th>\n",
              "      <th>average_per_week</th>\n",
              "      <th>startDate</th>\n",
              "      <th>endDate</th>\n",
              "    </tr>\n",
              "  </thead>\n",
              "  <tbody>\n",
              "    <tr>\n",
              "      <th>0</th>\n",
              "      <td>Alameda County</td>\n",
              "      <td>6001</td>\n",
              "      <td>0.316327</td>\n",
              "      <td>2020-03-01</td>\n",
              "      <td>2020-03-14</td>\n",
              "    </tr>\n",
              "    <tr>\n",
              "      <th>1</th>\n",
              "      <td>Amador County</td>\n",
              "      <td>6005</td>\n",
              "      <td>0.000000</td>\n",
              "      <td>2020-03-01</td>\n",
              "      <td>2020-03-14</td>\n",
              "    </tr>\n",
              "    <tr>\n",
              "      <th>2</th>\n",
              "      <td>Butte County</td>\n",
              "      <td>6007</td>\n",
              "      <td>0.000000</td>\n",
              "      <td>2020-03-01</td>\n",
              "      <td>2020-03-14</td>\n",
              "    </tr>\n",
              "    <tr>\n",
              "      <th>3</th>\n",
              "      <td>Calaveras County</td>\n",
              "      <td>6009</td>\n",
              "      <td>0.081633</td>\n",
              "      <td>2020-03-01</td>\n",
              "      <td>2020-03-14</td>\n",
              "    </tr>\n",
              "    <tr>\n",
              "      <th>4</th>\n",
              "      <td>Colusa County</td>\n",
              "      <td>6011</td>\n",
              "      <td>0.000000</td>\n",
              "      <td>2020-03-01</td>\n",
              "      <td>2020-03-14</td>\n",
              "    </tr>\n",
              "    <tr>\n",
              "      <th>5</th>\n",
              "      <td>Contra Costa County</td>\n",
              "      <td>6013</td>\n",
              "      <td>1.051020</td>\n",
              "      <td>2020-03-01</td>\n",
              "      <td>2020-03-14</td>\n",
              "    </tr>\n",
              "    <tr>\n",
              "      <th>6</th>\n",
              "      <td>Del Norte County</td>\n",
              "      <td>6015</td>\n",
              "      <td>0.000000</td>\n",
              "      <td>2020-03-01</td>\n",
              "      <td>2020-03-14</td>\n",
              "    </tr>\n",
              "    <tr>\n",
              "      <th>7</th>\n",
              "      <td>El Dorado County</td>\n",
              "      <td>6017</td>\n",
              "      <td>0.000000</td>\n",
              "      <td>2020-03-01</td>\n",
              "      <td>2020-03-14</td>\n",
              "    </tr>\n",
              "    <tr>\n",
              "      <th>8</th>\n",
              "      <td>Fresno County</td>\n",
              "      <td>6019</td>\n",
              "      <td>0.091837</td>\n",
              "      <td>2020-03-01</td>\n",
              "      <td>2020-03-14</td>\n",
              "    </tr>\n",
              "    <tr>\n",
              "      <th>9</th>\n",
              "      <td>Glenn County</td>\n",
              "      <td>6021</td>\n",
              "      <td>0.000000</td>\n",
              "      <td>2020-03-01</td>\n",
              "      <td>2020-03-14</td>\n",
              "    </tr>\n",
              "  </tbody>\n",
              "</table>\n",
              "</div>"
            ],
            "text/plain": [
              "           County Name fips_x  average_per_week   startDate     endDate\n",
              "0       Alameda County   6001          0.316327  2020-03-01  2020-03-14\n",
              "1        Amador County   6005          0.000000  2020-03-01  2020-03-14\n",
              "2         Butte County   6007          0.000000  2020-03-01  2020-03-14\n",
              "3     Calaveras County   6009          0.081633  2020-03-01  2020-03-14\n",
              "4        Colusa County   6011          0.000000  2020-03-01  2020-03-14\n",
              "5  Contra Costa County   6013          1.051020  2020-03-01  2020-03-14\n",
              "6     Del Norte County   6015          0.000000  2020-03-01  2020-03-14\n",
              "7     El Dorado County   6017          0.000000  2020-03-01  2020-03-14\n",
              "8        Fresno County   6019          0.091837  2020-03-01  2020-03-14\n",
              "9         Glenn County   6021          0.000000  2020-03-01  2020-03-14"
            ]
          },
          "metadata": {
            "tags": []
          },
          "execution_count": 29
        }
      ]
    },
    {
      "cell_type": "markdown",
      "metadata": {
        "id": "GCBzR7f8tYEt",
        "colab_type": "text"
      },
      "source": [
        "## Finding the % growth or reduction in 'new cases' on every 2 week average"
      ]
    },
    {
      "cell_type": "code",
      "metadata": {
        "id": "STaI0DIctu5o",
        "colab_type": "code",
        "colab": {}
      },
      "source": [
        "average_newCases_df_ = average_newCases_df.copy()"
      ],
      "execution_count": 30,
      "outputs": []
    },
    {
      "cell_type": "code",
      "metadata": {
        "id": "b7LycDlnOYhs",
        "colab_type": "code",
        "colab": {
          "base_uri": "https://localhost:8080/",
          "height": 432
        },
        "outputId": "b8ee9b36-0dd8-40a5-f5a2-aff2eca7fdfc"
      },
      "source": [
        "albany_avg_newCases = average_newCases_df[average_newCases_df['County Name'] == 'Los Angeles County']\n",
        "albany_avg_newCases"
      ],
      "execution_count": 31,
      "outputs": [
        {
          "output_type": "execute_result",
          "data": {
            "text/html": [
              "<div>\n",
              "<style scoped>\n",
              "    .dataframe tbody tr th:only-of-type {\n",
              "        vertical-align: middle;\n",
              "    }\n",
              "\n",
              "    .dataframe tbody tr th {\n",
              "        vertical-align: top;\n",
              "    }\n",
              "\n",
              "    .dataframe thead th {\n",
              "        text-align: right;\n",
              "    }\n",
              "</style>\n",
              "<table border=\"1\" class=\"dataframe\">\n",
              "  <thead>\n",
              "    <tr style=\"text-align: right;\">\n",
              "      <th></th>\n",
              "      <th>County Name</th>\n",
              "      <th>fips_x</th>\n",
              "      <th>average_per_week</th>\n",
              "      <th>startDate</th>\n",
              "      <th>endDate</th>\n",
              "    </tr>\n",
              "  </thead>\n",
              "  <tbody>\n",
              "    <tr>\n",
              "      <th>17</th>\n",
              "      <td>Los Angeles County</td>\n",
              "      <td>6037</td>\n",
              "      <td>1.683673</td>\n",
              "      <td>2020-03-01</td>\n",
              "      <td>2020-03-14</td>\n",
              "    </tr>\n",
              "    <tr>\n",
              "      <th>17</th>\n",
              "      <td>Los Angeles County</td>\n",
              "      <td>6037</td>\n",
              "      <td>65.061224</td>\n",
              "      <td>2020-03-15</td>\n",
              "      <td>2020-03-28</td>\n",
              "    </tr>\n",
              "    <tr>\n",
              "      <th>17</th>\n",
              "      <td>Los Angeles County</td>\n",
              "      <td>6037</td>\n",
              "      <td>460.224490</td>\n",
              "      <td>2020-03-29</td>\n",
              "      <td>2020-04-11</td>\n",
              "    </tr>\n",
              "    <tr>\n",
              "      <th>17</th>\n",
              "      <td>Los Angeles County</td>\n",
              "      <td>6037</td>\n",
              "      <td>593.397959</td>\n",
              "      <td>2020-04-12</td>\n",
              "      <td>2020-04-26</td>\n",
              "    </tr>\n",
              "    <tr>\n",
              "      <th>17</th>\n",
              "      <td>Los Angeles County</td>\n",
              "      <td>6037</td>\n",
              "      <td>870.357143</td>\n",
              "      <td>2020-04-27</td>\n",
              "      <td>2020-05-10</td>\n",
              "    </tr>\n",
              "    <tr>\n",
              "      <th>17</th>\n",
              "      <td>Los Angeles County</td>\n",
              "      <td>6037</td>\n",
              "      <td>894.602041</td>\n",
              "      <td>2020-05-11</td>\n",
              "      <td>2020-05-24</td>\n",
              "    </tr>\n",
              "    <tr>\n",
              "      <th>17</th>\n",
              "      <td>Los Angeles County</td>\n",
              "      <td>6037</td>\n",
              "      <td>1237.336735</td>\n",
              "      <td>2020-05-25</td>\n",
              "      <td>2020-06-08</td>\n",
              "    </tr>\n",
              "    <tr>\n",
              "      <th>17</th>\n",
              "      <td>Los Angeles County</td>\n",
              "      <td>6037</td>\n",
              "      <td>1371.520408</td>\n",
              "      <td>2020-06-09</td>\n",
              "      <td>2020-06-22</td>\n",
              "    </tr>\n",
              "    <tr>\n",
              "      <th>17</th>\n",
              "      <td>Los Angeles County</td>\n",
              "      <td>6037</td>\n",
              "      <td>2071.102041</td>\n",
              "      <td>2020-06-23</td>\n",
              "      <td>2020-07-06</td>\n",
              "    </tr>\n",
              "    <tr>\n",
              "      <th>17</th>\n",
              "      <td>Los Angeles County</td>\n",
              "      <td>6037</td>\n",
              "      <td>2912.918367</td>\n",
              "      <td>2020-07-07</td>\n",
              "      <td>2020-07-20</td>\n",
              "    </tr>\n",
              "    <tr>\n",
              "      <th>17</th>\n",
              "      <td>Los Angeles County</td>\n",
              "      <td>6037</td>\n",
              "      <td>2689.663265</td>\n",
              "      <td>2020-07-21</td>\n",
              "      <td>2020-08-03</td>\n",
              "    </tr>\n",
              "    <tr>\n",
              "      <th>17</th>\n",
              "      <td>Los Angeles County</td>\n",
              "      <td>6037</td>\n",
              "      <td>2151.989796</td>\n",
              "      <td>2020-08-04</td>\n",
              "      <td>2020-08-17</td>\n",
              "    </tr>\n",
              "    <tr>\n",
              "      <th>17</th>\n",
              "      <td>Los Angeles County</td>\n",
              "      <td>6037</td>\n",
              "      <td>1711.392857</td>\n",
              "      <td>2020-08-18</td>\n",
              "      <td>2020-08-21</td>\n",
              "    </tr>\n",
              "  </tbody>\n",
              "</table>\n",
              "</div>"
            ],
            "text/plain": [
              "           County Name fips_x  average_per_week   startDate     endDate\n",
              "17  Los Angeles County   6037          1.683673  2020-03-01  2020-03-14\n",
              "17  Los Angeles County   6037         65.061224  2020-03-15  2020-03-28\n",
              "17  Los Angeles County   6037        460.224490  2020-03-29  2020-04-11\n",
              "17  Los Angeles County   6037        593.397959  2020-04-12  2020-04-26\n",
              "17  Los Angeles County   6037        870.357143  2020-04-27  2020-05-10\n",
              "17  Los Angeles County   6037        894.602041  2020-05-11  2020-05-24\n",
              "17  Los Angeles County   6037       1237.336735  2020-05-25  2020-06-08\n",
              "17  Los Angeles County   6037       1371.520408  2020-06-09  2020-06-22\n",
              "17  Los Angeles County   6037       2071.102041  2020-06-23  2020-07-06\n",
              "17  Los Angeles County   6037       2912.918367  2020-07-07  2020-07-20\n",
              "17  Los Angeles County   6037       2689.663265  2020-07-21  2020-08-03\n",
              "17  Los Angeles County   6037       2151.989796  2020-08-04  2020-08-17\n",
              "17  Los Angeles County   6037       1711.392857  2020-08-18  2020-08-21"
            ]
          },
          "metadata": {
            "tags": []
          },
          "execution_count": 31
        }
      ]
    },
    {
      "cell_type": "code",
      "metadata": {
        "id": "28sIpvLbtYbY",
        "colab_type": "code",
        "colab": {}
      },
      "source": [
        "# average_newCases_df = average_newCases_df.sort_values(by=['startDate','endDate'])\n",
        "\n",
        "# print(average_newCases_df.shape)\n",
        "# temp = average_newCases_df.groupby(['County Name','fips_x','startDate','endDate'])['average_per_week']\n",
        "# temp = temp.sum().diff().reset_index()\n",
        "# print(\"-------------\")\n",
        "# print(temp)\n",
        "# print(temp.shape)\n",
        "\n",
        "# average_newCases_df2 = average_newCases_df.merge(temp,on=['County Name','fips_x','startDate','endDate'])\n",
        "# print(average_newCases_df2.shape)"
      ],
      "execution_count": 32,
      "outputs": []
    },
    {
      "cell_type": "code",
      "metadata": {
        "id": "xZEGXxJeDas1",
        "colab_type": "code",
        "colab": {
          "base_uri": "https://localhost:8080/",
          "height": 195
        },
        "outputId": "d2af002e-4026-4f69-f1cb-7c105f4e24e3"
      },
      "source": [
        "average_newCases_df.head()"
      ],
      "execution_count": 33,
      "outputs": [
        {
          "output_type": "execute_result",
          "data": {
            "text/html": [
              "<div>\n",
              "<style scoped>\n",
              "    .dataframe tbody tr th:only-of-type {\n",
              "        vertical-align: middle;\n",
              "    }\n",
              "\n",
              "    .dataframe tbody tr th {\n",
              "        vertical-align: top;\n",
              "    }\n",
              "\n",
              "    .dataframe thead th {\n",
              "        text-align: right;\n",
              "    }\n",
              "</style>\n",
              "<table border=\"1\" class=\"dataframe\">\n",
              "  <thead>\n",
              "    <tr style=\"text-align: right;\">\n",
              "      <th></th>\n",
              "      <th>County Name</th>\n",
              "      <th>fips_x</th>\n",
              "      <th>average_per_week</th>\n",
              "      <th>startDate</th>\n",
              "      <th>endDate</th>\n",
              "    </tr>\n",
              "  </thead>\n",
              "  <tbody>\n",
              "    <tr>\n",
              "      <th>0</th>\n",
              "      <td>Alameda County</td>\n",
              "      <td>6001</td>\n",
              "      <td>0.316327</td>\n",
              "      <td>2020-03-01</td>\n",
              "      <td>2020-03-14</td>\n",
              "    </tr>\n",
              "    <tr>\n",
              "      <th>1</th>\n",
              "      <td>Amador County</td>\n",
              "      <td>6005</td>\n",
              "      <td>0.000000</td>\n",
              "      <td>2020-03-01</td>\n",
              "      <td>2020-03-14</td>\n",
              "    </tr>\n",
              "    <tr>\n",
              "      <th>2</th>\n",
              "      <td>Butte County</td>\n",
              "      <td>6007</td>\n",
              "      <td>0.000000</td>\n",
              "      <td>2020-03-01</td>\n",
              "      <td>2020-03-14</td>\n",
              "    </tr>\n",
              "    <tr>\n",
              "      <th>3</th>\n",
              "      <td>Calaveras County</td>\n",
              "      <td>6009</td>\n",
              "      <td>0.081633</td>\n",
              "      <td>2020-03-01</td>\n",
              "      <td>2020-03-14</td>\n",
              "    </tr>\n",
              "    <tr>\n",
              "      <th>4</th>\n",
              "      <td>Colusa County</td>\n",
              "      <td>6011</td>\n",
              "      <td>0.000000</td>\n",
              "      <td>2020-03-01</td>\n",
              "      <td>2020-03-14</td>\n",
              "    </tr>\n",
              "  </tbody>\n",
              "</table>\n",
              "</div>"
            ],
            "text/plain": [
              "        County Name fips_x  average_per_week   startDate     endDate\n",
              "0    Alameda County   6001          0.316327  2020-03-01  2020-03-14\n",
              "1     Amador County   6005          0.000000  2020-03-01  2020-03-14\n",
              "2      Butte County   6007          0.000000  2020-03-01  2020-03-14\n",
              "3  Calaveras County   6009          0.081633  2020-03-01  2020-03-14\n",
              "4     Colusa County   6011          0.000000  2020-03-01  2020-03-14"
            ]
          },
          "metadata": {
            "tags": []
          },
          "execution_count": 33
        }
      ]
    },
    {
      "cell_type": "code",
      "metadata": {
        "id": "3NnvBzuWEG2q",
        "colab_type": "code",
        "colab": {}
      },
      "source": [
        "# average_newCases_df = average_newCases_df.sort_values(by=['startDate','endDate'])\n",
        "\n",
        "# print(average_newCases_df.shape)\n",
        "# temp = average_newCases_df.groupby(['County Name','fips_x','startDate','endDate'])['average_per_week']\n",
        "# temp = temp.sum().diff().reset_index()\n",
        "# print(\"-------------\")\n",
        "# print(temp)\n",
        "# print(temp.shape)\n",
        "\n",
        "# average_newCases_df2 = average_newCases_df.merge(temp,on=['County Name','fips_x','startDate','endDate'])\n",
        "# print(average_newCases_df2.shape)"
      ],
      "execution_count": 34,
      "outputs": []
    },
    {
      "cell_type": "code",
      "metadata": {
        "id": "8FRbXmBoHlCM",
        "colab_type": "code",
        "colab": {
          "base_uri": "https://localhost:8080/",
          "height": 195
        },
        "outputId": "e76dc48a-6194-42f0-a6df-8b2df02837db"
      },
      "source": [
        "average_newCases_df2 = average_newCases_df.copy()\n",
        "\n",
        "average_newCases_df2 = average_newCases_df2.reset_index(drop=True)\n",
        "average_newCases_df2.head()"
      ],
      "execution_count": 35,
      "outputs": [
        {
          "output_type": "execute_result",
          "data": {
            "text/html": [
              "<div>\n",
              "<style scoped>\n",
              "    .dataframe tbody tr th:only-of-type {\n",
              "        vertical-align: middle;\n",
              "    }\n",
              "\n",
              "    .dataframe tbody tr th {\n",
              "        vertical-align: top;\n",
              "    }\n",
              "\n",
              "    .dataframe thead th {\n",
              "        text-align: right;\n",
              "    }\n",
              "</style>\n",
              "<table border=\"1\" class=\"dataframe\">\n",
              "  <thead>\n",
              "    <tr style=\"text-align: right;\">\n",
              "      <th></th>\n",
              "      <th>County Name</th>\n",
              "      <th>fips_x</th>\n",
              "      <th>average_per_week</th>\n",
              "      <th>startDate</th>\n",
              "      <th>endDate</th>\n",
              "    </tr>\n",
              "  </thead>\n",
              "  <tbody>\n",
              "    <tr>\n",
              "      <th>0</th>\n",
              "      <td>Alameda County</td>\n",
              "      <td>6001</td>\n",
              "      <td>0.316327</td>\n",
              "      <td>2020-03-01</td>\n",
              "      <td>2020-03-14</td>\n",
              "    </tr>\n",
              "    <tr>\n",
              "      <th>1</th>\n",
              "      <td>Amador County</td>\n",
              "      <td>6005</td>\n",
              "      <td>0.000000</td>\n",
              "      <td>2020-03-01</td>\n",
              "      <td>2020-03-14</td>\n",
              "    </tr>\n",
              "    <tr>\n",
              "      <th>2</th>\n",
              "      <td>Butte County</td>\n",
              "      <td>6007</td>\n",
              "      <td>0.000000</td>\n",
              "      <td>2020-03-01</td>\n",
              "      <td>2020-03-14</td>\n",
              "    </tr>\n",
              "    <tr>\n",
              "      <th>3</th>\n",
              "      <td>Calaveras County</td>\n",
              "      <td>6009</td>\n",
              "      <td>0.081633</td>\n",
              "      <td>2020-03-01</td>\n",
              "      <td>2020-03-14</td>\n",
              "    </tr>\n",
              "    <tr>\n",
              "      <th>4</th>\n",
              "      <td>Colusa County</td>\n",
              "      <td>6011</td>\n",
              "      <td>0.000000</td>\n",
              "      <td>2020-03-01</td>\n",
              "      <td>2020-03-14</td>\n",
              "    </tr>\n",
              "  </tbody>\n",
              "</table>\n",
              "</div>"
            ],
            "text/plain": [
              "        County Name fips_x  average_per_week   startDate     endDate\n",
              "0    Alameda County   6001          0.316327  2020-03-01  2020-03-14\n",
              "1     Amador County   6005          0.000000  2020-03-01  2020-03-14\n",
              "2      Butte County   6007          0.000000  2020-03-01  2020-03-14\n",
              "3  Calaveras County   6009          0.081633  2020-03-01  2020-03-14\n",
              "4     Colusa County   6011          0.000000  2020-03-01  2020-03-14"
            ]
          },
          "metadata": {
            "tags": []
          },
          "execution_count": 35
        }
      ]
    },
    {
      "cell_type": "code",
      "metadata": {
        "id": "rmPztsYYDSKJ",
        "colab_type": "code",
        "colab": {
          "base_uri": "https://localhost:8080/",
          "height": 212
        },
        "outputId": "84425a49-077a-49a3-b3e6-b7411ae85d36"
      },
      "source": [
        "average_newCases_df2['diff_avg_x'] = average_newCases_df2.sort_values(['startDate','endDate']).groupby(['County Name', 'fips_x'])['average_per_week'].diff().fillna(0)\n",
        "\n",
        "print(average_newCases_df2.shape)\n",
        "average_newCases_df2.head()\n"
      ],
      "execution_count": 36,
      "outputs": [
        {
          "output_type": "stream",
          "text": [
            "(701, 6)\n"
          ],
          "name": "stdout"
        },
        {
          "output_type": "execute_result",
          "data": {
            "text/html": [
              "<div>\n",
              "<style scoped>\n",
              "    .dataframe tbody tr th:only-of-type {\n",
              "        vertical-align: middle;\n",
              "    }\n",
              "\n",
              "    .dataframe tbody tr th {\n",
              "        vertical-align: top;\n",
              "    }\n",
              "\n",
              "    .dataframe thead th {\n",
              "        text-align: right;\n",
              "    }\n",
              "</style>\n",
              "<table border=\"1\" class=\"dataframe\">\n",
              "  <thead>\n",
              "    <tr style=\"text-align: right;\">\n",
              "      <th></th>\n",
              "      <th>County Name</th>\n",
              "      <th>fips_x</th>\n",
              "      <th>average_per_week</th>\n",
              "      <th>startDate</th>\n",
              "      <th>endDate</th>\n",
              "      <th>diff_avg_x</th>\n",
              "    </tr>\n",
              "  </thead>\n",
              "  <tbody>\n",
              "    <tr>\n",
              "      <th>0</th>\n",
              "      <td>Alameda County</td>\n",
              "      <td>6001</td>\n",
              "      <td>0.316327</td>\n",
              "      <td>2020-03-01</td>\n",
              "      <td>2020-03-14</td>\n",
              "      <td>0.0</td>\n",
              "    </tr>\n",
              "    <tr>\n",
              "      <th>1</th>\n",
              "      <td>Amador County</td>\n",
              "      <td>6005</td>\n",
              "      <td>0.000000</td>\n",
              "      <td>2020-03-01</td>\n",
              "      <td>2020-03-14</td>\n",
              "      <td>0.0</td>\n",
              "    </tr>\n",
              "    <tr>\n",
              "      <th>2</th>\n",
              "      <td>Butte County</td>\n",
              "      <td>6007</td>\n",
              "      <td>0.000000</td>\n",
              "      <td>2020-03-01</td>\n",
              "      <td>2020-03-14</td>\n",
              "      <td>0.0</td>\n",
              "    </tr>\n",
              "    <tr>\n",
              "      <th>3</th>\n",
              "      <td>Calaveras County</td>\n",
              "      <td>6009</td>\n",
              "      <td>0.081633</td>\n",
              "      <td>2020-03-01</td>\n",
              "      <td>2020-03-14</td>\n",
              "      <td>0.0</td>\n",
              "    </tr>\n",
              "    <tr>\n",
              "      <th>4</th>\n",
              "      <td>Colusa County</td>\n",
              "      <td>6011</td>\n",
              "      <td>0.000000</td>\n",
              "      <td>2020-03-01</td>\n",
              "      <td>2020-03-14</td>\n",
              "      <td>0.0</td>\n",
              "    </tr>\n",
              "  </tbody>\n",
              "</table>\n",
              "</div>"
            ],
            "text/plain": [
              "        County Name fips_x  ...     endDate diff_avg_x\n",
              "0    Alameda County   6001  ...  2020-03-14        0.0\n",
              "1     Amador County   6005  ...  2020-03-14        0.0\n",
              "2      Butte County   6007  ...  2020-03-14        0.0\n",
              "3  Calaveras County   6009  ...  2020-03-14        0.0\n",
              "4     Colusa County   6011  ...  2020-03-14        0.0\n",
              "\n",
              "[5 rows x 6 columns]"
            ]
          },
          "metadata": {
            "tags": []
          },
          "execution_count": 36
        }
      ]
    },
    {
      "cell_type": "code",
      "metadata": {
        "id": "klc9CwxhHXIn",
        "colab_type": "code",
        "colab": {
          "base_uri": "https://localhost:8080/",
          "height": 432
        },
        "outputId": "046d8d17-3e2e-4f9e-ca63-62e01406a973"
      },
      "source": [
        "average_newCases_df2[average_newCases_df2['County Name'] == 'Los Angeles County']"
      ],
      "execution_count": 37,
      "outputs": [
        {
          "output_type": "execute_result",
          "data": {
            "text/html": [
              "<div>\n",
              "<style scoped>\n",
              "    .dataframe tbody tr th:only-of-type {\n",
              "        vertical-align: middle;\n",
              "    }\n",
              "\n",
              "    .dataframe tbody tr th {\n",
              "        vertical-align: top;\n",
              "    }\n",
              "\n",
              "    .dataframe thead th {\n",
              "        text-align: right;\n",
              "    }\n",
              "</style>\n",
              "<table border=\"1\" class=\"dataframe\">\n",
              "  <thead>\n",
              "    <tr style=\"text-align: right;\">\n",
              "      <th></th>\n",
              "      <th>County Name</th>\n",
              "      <th>fips_x</th>\n",
              "      <th>average_per_week</th>\n",
              "      <th>startDate</th>\n",
              "      <th>endDate</th>\n",
              "      <th>diff_avg_x</th>\n",
              "    </tr>\n",
              "  </thead>\n",
              "  <tbody>\n",
              "    <tr>\n",
              "      <th>17</th>\n",
              "      <td>Los Angeles County</td>\n",
              "      <td>6037</td>\n",
              "      <td>1.683673</td>\n",
              "      <td>2020-03-01</td>\n",
              "      <td>2020-03-14</td>\n",
              "      <td>0.000000</td>\n",
              "    </tr>\n",
              "    <tr>\n",
              "      <th>71</th>\n",
              "      <td>Los Angeles County</td>\n",
              "      <td>6037</td>\n",
              "      <td>65.061224</td>\n",
              "      <td>2020-03-15</td>\n",
              "      <td>2020-03-28</td>\n",
              "      <td>63.377551</td>\n",
              "    </tr>\n",
              "    <tr>\n",
              "      <th>125</th>\n",
              "      <td>Los Angeles County</td>\n",
              "      <td>6037</td>\n",
              "      <td>460.224490</td>\n",
              "      <td>2020-03-29</td>\n",
              "      <td>2020-04-11</td>\n",
              "      <td>395.163265</td>\n",
              "    </tr>\n",
              "    <tr>\n",
              "      <th>178</th>\n",
              "      <td>Los Angeles County</td>\n",
              "      <td>6037</td>\n",
              "      <td>593.397959</td>\n",
              "      <td>2020-04-12</td>\n",
              "      <td>2020-04-26</td>\n",
              "      <td>133.173469</td>\n",
              "    </tr>\n",
              "    <tr>\n",
              "      <th>232</th>\n",
              "      <td>Los Angeles County</td>\n",
              "      <td>6037</td>\n",
              "      <td>870.357143</td>\n",
              "      <td>2020-04-27</td>\n",
              "      <td>2020-05-10</td>\n",
              "      <td>276.959184</td>\n",
              "    </tr>\n",
              "    <tr>\n",
              "      <th>286</th>\n",
              "      <td>Los Angeles County</td>\n",
              "      <td>6037</td>\n",
              "      <td>894.602041</td>\n",
              "      <td>2020-05-11</td>\n",
              "      <td>2020-05-24</td>\n",
              "      <td>24.244898</td>\n",
              "    </tr>\n",
              "    <tr>\n",
              "      <th>340</th>\n",
              "      <td>Los Angeles County</td>\n",
              "      <td>6037</td>\n",
              "      <td>1237.336735</td>\n",
              "      <td>2020-05-25</td>\n",
              "      <td>2020-06-08</td>\n",
              "      <td>342.734694</td>\n",
              "    </tr>\n",
              "    <tr>\n",
              "      <th>394</th>\n",
              "      <td>Los Angeles County</td>\n",
              "      <td>6037</td>\n",
              "      <td>1371.520408</td>\n",
              "      <td>2020-06-09</td>\n",
              "      <td>2020-06-22</td>\n",
              "      <td>134.183673</td>\n",
              "    </tr>\n",
              "    <tr>\n",
              "      <th>448</th>\n",
              "      <td>Los Angeles County</td>\n",
              "      <td>6037</td>\n",
              "      <td>2071.102041</td>\n",
              "      <td>2020-06-23</td>\n",
              "      <td>2020-07-06</td>\n",
              "      <td>699.581633</td>\n",
              "    </tr>\n",
              "    <tr>\n",
              "      <th>502</th>\n",
              "      <td>Los Angeles County</td>\n",
              "      <td>6037</td>\n",
              "      <td>2912.918367</td>\n",
              "      <td>2020-07-07</td>\n",
              "      <td>2020-07-20</td>\n",
              "      <td>841.816327</td>\n",
              "    </tr>\n",
              "    <tr>\n",
              "      <th>556</th>\n",
              "      <td>Los Angeles County</td>\n",
              "      <td>6037</td>\n",
              "      <td>2689.663265</td>\n",
              "      <td>2020-07-21</td>\n",
              "      <td>2020-08-03</td>\n",
              "      <td>-223.255102</td>\n",
              "    </tr>\n",
              "    <tr>\n",
              "      <th>610</th>\n",
              "      <td>Los Angeles County</td>\n",
              "      <td>6037</td>\n",
              "      <td>2151.989796</td>\n",
              "      <td>2020-08-04</td>\n",
              "      <td>2020-08-17</td>\n",
              "      <td>-537.673469</td>\n",
              "    </tr>\n",
              "    <tr>\n",
              "      <th>664</th>\n",
              "      <td>Los Angeles County</td>\n",
              "      <td>6037</td>\n",
              "      <td>1711.392857</td>\n",
              "      <td>2020-08-18</td>\n",
              "      <td>2020-08-21</td>\n",
              "      <td>-440.596939</td>\n",
              "    </tr>\n",
              "  </tbody>\n",
              "</table>\n",
              "</div>"
            ],
            "text/plain": [
              "            County Name fips_x  ...     endDate  diff_avg_x\n",
              "17   Los Angeles County   6037  ...  2020-03-14    0.000000\n",
              "71   Los Angeles County   6037  ...  2020-03-28   63.377551\n",
              "125  Los Angeles County   6037  ...  2020-04-11  395.163265\n",
              "178  Los Angeles County   6037  ...  2020-04-26  133.173469\n",
              "232  Los Angeles County   6037  ...  2020-05-10  276.959184\n",
              "286  Los Angeles County   6037  ...  2020-05-24   24.244898\n",
              "340  Los Angeles County   6037  ...  2020-06-08  342.734694\n",
              "394  Los Angeles County   6037  ...  2020-06-22  134.183673\n",
              "448  Los Angeles County   6037  ...  2020-07-06  699.581633\n",
              "502  Los Angeles County   6037  ...  2020-07-20  841.816327\n",
              "556  Los Angeles County   6037  ...  2020-08-03 -223.255102\n",
              "610  Los Angeles County   6037  ...  2020-08-17 -537.673469\n",
              "664  Los Angeles County   6037  ...  2020-08-21 -440.596939\n",
              "\n",
              "[13 rows x 6 columns]"
            ]
          },
          "metadata": {
            "tags": []
          },
          "execution_count": 37
        }
      ]
    },
    {
      "cell_type": "code",
      "metadata": {
        "id": "VENF-VRSOpBY",
        "colab_type": "code",
        "colab": {
          "base_uri": "https://localhost:8080/",
          "height": 432
        },
        "outputId": "7a52c4f3-b232-43e9-aa1f-fd82e02cd2a1"
      },
      "source": [
        "average_newCases_df2[average_newCases_df2['County Name'] == 'Alameda County']"
      ],
      "execution_count": 38,
      "outputs": [
        {
          "output_type": "execute_result",
          "data": {
            "text/html": [
              "<div>\n",
              "<style scoped>\n",
              "    .dataframe tbody tr th:only-of-type {\n",
              "        vertical-align: middle;\n",
              "    }\n",
              "\n",
              "    .dataframe tbody tr th {\n",
              "        vertical-align: top;\n",
              "    }\n",
              "\n",
              "    .dataframe thead th {\n",
              "        text-align: right;\n",
              "    }\n",
              "</style>\n",
              "<table border=\"1\" class=\"dataframe\">\n",
              "  <thead>\n",
              "    <tr style=\"text-align: right;\">\n",
              "      <th></th>\n",
              "      <th>County Name</th>\n",
              "      <th>fips_x</th>\n",
              "      <th>average_per_week</th>\n",
              "      <th>startDate</th>\n",
              "      <th>endDate</th>\n",
              "      <th>diff_avg_x</th>\n",
              "    </tr>\n",
              "  </thead>\n",
              "  <tbody>\n",
              "    <tr>\n",
              "      <th>0</th>\n",
              "      <td>Alameda County</td>\n",
              "      <td>6001</td>\n",
              "      <td>0.316327</td>\n",
              "      <td>2020-03-01</td>\n",
              "      <td>2020-03-14</td>\n",
              "      <td>0.000000</td>\n",
              "    </tr>\n",
              "    <tr>\n",
              "      <th>54</th>\n",
              "      <td>Alameda County</td>\n",
              "      <td>6001</td>\n",
              "      <td>10.632653</td>\n",
              "      <td>2020-03-15</td>\n",
              "      <td>2020-03-28</td>\n",
              "      <td>10.316327</td>\n",
              "    </tr>\n",
              "    <tr>\n",
              "      <th>108</th>\n",
              "      <td>Alameda County</td>\n",
              "      <td>6001</td>\n",
              "      <td>37.051020</td>\n",
              "      <td>2020-03-29</td>\n",
              "      <td>2020-04-11</td>\n",
              "      <td>26.418367</td>\n",
              "    </tr>\n",
              "    <tr>\n",
              "      <th>161</th>\n",
              "      <td>Alameda County</td>\n",
              "      <td>6001</td>\n",
              "      <td>45.193878</td>\n",
              "      <td>2020-04-12</td>\n",
              "      <td>2020-04-26</td>\n",
              "      <td>8.142857</td>\n",
              "    </tr>\n",
              "    <tr>\n",
              "      <th>215</th>\n",
              "      <td>Alameda County</td>\n",
              "      <td>6001</td>\n",
              "      <td>41.561224</td>\n",
              "      <td>2020-04-27</td>\n",
              "      <td>2020-05-10</td>\n",
              "      <td>-3.632653</td>\n",
              "    </tr>\n",
              "    <tr>\n",
              "      <th>269</th>\n",
              "      <td>Alameda County</td>\n",
              "      <td>6001</td>\n",
              "      <td>51.530612</td>\n",
              "      <td>2020-05-11</td>\n",
              "      <td>2020-05-24</td>\n",
              "      <td>9.969388</td>\n",
              "    </tr>\n",
              "    <tr>\n",
              "      <th>323</th>\n",
              "      <td>Alameda County</td>\n",
              "      <td>6001</td>\n",
              "      <td>69.744898</td>\n",
              "      <td>2020-05-25</td>\n",
              "      <td>2020-06-08</td>\n",
              "      <td>18.214286</td>\n",
              "    </tr>\n",
              "    <tr>\n",
              "      <th>377</th>\n",
              "      <td>Alameda County</td>\n",
              "      <td>6001</td>\n",
              "      <td>73.724490</td>\n",
              "      <td>2020-06-09</td>\n",
              "      <td>2020-06-22</td>\n",
              "      <td>3.979592</td>\n",
              "    </tr>\n",
              "    <tr>\n",
              "      <th>431</th>\n",
              "      <td>Alameda County</td>\n",
              "      <td>6001</td>\n",
              "      <td>122.785714</td>\n",
              "      <td>2020-06-23</td>\n",
              "      <td>2020-07-06</td>\n",
              "      <td>49.061224</td>\n",
              "    </tr>\n",
              "    <tr>\n",
              "      <th>485</th>\n",
              "      <td>Alameda County</td>\n",
              "      <td>6001</td>\n",
              "      <td>169.846939</td>\n",
              "      <td>2020-07-07</td>\n",
              "      <td>2020-07-20</td>\n",
              "      <td>47.061224</td>\n",
              "    </tr>\n",
              "    <tr>\n",
              "      <th>539</th>\n",
              "      <td>Alameda County</td>\n",
              "      <td>6001</td>\n",
              "      <td>166.540816</td>\n",
              "      <td>2020-07-21</td>\n",
              "      <td>2020-08-03</td>\n",
              "      <td>-3.306122</td>\n",
              "    </tr>\n",
              "    <tr>\n",
              "      <th>593</th>\n",
              "      <td>Alameda County</td>\n",
              "      <td>6001</td>\n",
              "      <td>237.704082</td>\n",
              "      <td>2020-08-04</td>\n",
              "      <td>2020-08-17</td>\n",
              "      <td>71.163265</td>\n",
              "    </tr>\n",
              "    <tr>\n",
              "      <th>647</th>\n",
              "      <td>Alameda County</td>\n",
              "      <td>6001</td>\n",
              "      <td>252.750000</td>\n",
              "      <td>2020-08-18</td>\n",
              "      <td>2020-08-21</td>\n",
              "      <td>15.045918</td>\n",
              "    </tr>\n",
              "  </tbody>\n",
              "</table>\n",
              "</div>"
            ],
            "text/plain": [
              "        County Name fips_x  ...     endDate diff_avg_x\n",
              "0    Alameda County   6001  ...  2020-03-14   0.000000\n",
              "54   Alameda County   6001  ...  2020-03-28  10.316327\n",
              "108  Alameda County   6001  ...  2020-04-11  26.418367\n",
              "161  Alameda County   6001  ...  2020-04-26   8.142857\n",
              "215  Alameda County   6001  ...  2020-05-10  -3.632653\n",
              "269  Alameda County   6001  ...  2020-05-24   9.969388\n",
              "323  Alameda County   6001  ...  2020-06-08  18.214286\n",
              "377  Alameda County   6001  ...  2020-06-22   3.979592\n",
              "431  Alameda County   6001  ...  2020-07-06  49.061224\n",
              "485  Alameda County   6001  ...  2020-07-20  47.061224\n",
              "539  Alameda County   6001  ...  2020-08-03  -3.306122\n",
              "593  Alameda County   6001  ...  2020-08-17  71.163265\n",
              "647  Alameda County   6001  ...  2020-08-21  15.045918\n",
              "\n",
              "[13 rows x 6 columns]"
            ]
          },
          "metadata": {
            "tags": []
          },
          "execution_count": 38
        }
      ]
    },
    {
      "cell_type": "code",
      "metadata": {
        "id": "a0OWsIoDxbrS",
        "colab_type": "code",
        "colab": {
          "base_uri": "https://localhost:8080/",
          "height": 195
        },
        "outputId": "3e5763ca-0f7d-4a8e-c69a-e447898d673d"
      },
      "source": [
        "average_newCases_df2[average_newCases_df2['fips_x'] == 6001].head(5)"
      ],
      "execution_count": 39,
      "outputs": [
        {
          "output_type": "execute_result",
          "data": {
            "text/html": [
              "<div>\n",
              "<style scoped>\n",
              "    .dataframe tbody tr th:only-of-type {\n",
              "        vertical-align: middle;\n",
              "    }\n",
              "\n",
              "    .dataframe tbody tr th {\n",
              "        vertical-align: top;\n",
              "    }\n",
              "\n",
              "    .dataframe thead th {\n",
              "        text-align: right;\n",
              "    }\n",
              "</style>\n",
              "<table border=\"1\" class=\"dataframe\">\n",
              "  <thead>\n",
              "    <tr style=\"text-align: right;\">\n",
              "      <th></th>\n",
              "      <th>County Name</th>\n",
              "      <th>fips_x</th>\n",
              "      <th>average_per_week</th>\n",
              "      <th>startDate</th>\n",
              "      <th>endDate</th>\n",
              "      <th>diff_avg_x</th>\n",
              "    </tr>\n",
              "  </thead>\n",
              "  <tbody>\n",
              "    <tr>\n",
              "      <th>0</th>\n",
              "      <td>Alameda County</td>\n",
              "      <td>6001</td>\n",
              "      <td>0.316327</td>\n",
              "      <td>2020-03-01</td>\n",
              "      <td>2020-03-14</td>\n",
              "      <td>0.000000</td>\n",
              "    </tr>\n",
              "    <tr>\n",
              "      <th>54</th>\n",
              "      <td>Alameda County</td>\n",
              "      <td>6001</td>\n",
              "      <td>10.632653</td>\n",
              "      <td>2020-03-15</td>\n",
              "      <td>2020-03-28</td>\n",
              "      <td>10.316327</td>\n",
              "    </tr>\n",
              "    <tr>\n",
              "      <th>108</th>\n",
              "      <td>Alameda County</td>\n",
              "      <td>6001</td>\n",
              "      <td>37.051020</td>\n",
              "      <td>2020-03-29</td>\n",
              "      <td>2020-04-11</td>\n",
              "      <td>26.418367</td>\n",
              "    </tr>\n",
              "    <tr>\n",
              "      <th>161</th>\n",
              "      <td>Alameda County</td>\n",
              "      <td>6001</td>\n",
              "      <td>45.193878</td>\n",
              "      <td>2020-04-12</td>\n",
              "      <td>2020-04-26</td>\n",
              "      <td>8.142857</td>\n",
              "    </tr>\n",
              "    <tr>\n",
              "      <th>215</th>\n",
              "      <td>Alameda County</td>\n",
              "      <td>6001</td>\n",
              "      <td>41.561224</td>\n",
              "      <td>2020-04-27</td>\n",
              "      <td>2020-05-10</td>\n",
              "      <td>-3.632653</td>\n",
              "    </tr>\n",
              "  </tbody>\n",
              "</table>\n",
              "</div>"
            ],
            "text/plain": [
              "        County Name fips_x  ...     endDate diff_avg_x\n",
              "0    Alameda County   6001  ...  2020-03-14   0.000000\n",
              "54   Alameda County   6001  ...  2020-03-28  10.316327\n",
              "108  Alameda County   6001  ...  2020-04-11  26.418367\n",
              "161  Alameda County   6001  ...  2020-04-26   8.142857\n",
              "215  Alameda County   6001  ...  2020-05-10  -3.632653\n",
              "\n",
              "[5 rows x 6 columns]"
            ]
          },
          "metadata": {
            "tags": []
          },
          "execution_count": 39
        }
      ]
    },
    {
      "cell_type": "code",
      "metadata": {
        "id": "-e91OG6-BSwC",
        "colab_type": "code",
        "colab": {
          "base_uri": "https://localhost:8080/",
          "height": 432
        },
        "outputId": "2176fde6-dc6f-45a7-94cd-bbefcbe3fb34"
      },
      "source": [
        "average_newCases_df2[average_newCases_df2['County Name'] == 'Santa Clara County']"
      ],
      "execution_count": 40,
      "outputs": [
        {
          "output_type": "execute_result",
          "data": {
            "text/html": [
              "<div>\n",
              "<style scoped>\n",
              "    .dataframe tbody tr th:only-of-type {\n",
              "        vertical-align: middle;\n",
              "    }\n",
              "\n",
              "    .dataframe tbody tr th {\n",
              "        vertical-align: top;\n",
              "    }\n",
              "\n",
              "    .dataframe thead th {\n",
              "        text-align: right;\n",
              "    }\n",
              "</style>\n",
              "<table border=\"1\" class=\"dataframe\">\n",
              "  <thead>\n",
              "    <tr style=\"text-align: right;\">\n",
              "      <th></th>\n",
              "      <th>County Name</th>\n",
              "      <th>fips_x</th>\n",
              "      <th>average_per_week</th>\n",
              "      <th>startDate</th>\n",
              "      <th>endDate</th>\n",
              "      <th>diff_avg_x</th>\n",
              "    </tr>\n",
              "  </thead>\n",
              "  <tbody>\n",
              "    <tr>\n",
              "      <th>40</th>\n",
              "      <td>Santa Clara County</td>\n",
              "      <td>6085</td>\n",
              "      <td>3.224490</td>\n",
              "      <td>2020-03-01</td>\n",
              "      <td>2020-03-14</td>\n",
              "      <td>0.000000</td>\n",
              "    </tr>\n",
              "    <tr>\n",
              "      <th>94</th>\n",
              "      <td>Santa Clara County</td>\n",
              "      <td>6085</td>\n",
              "      <td>27.683673</td>\n",
              "      <td>2020-03-15</td>\n",
              "      <td>2020-03-28</td>\n",
              "      <td>24.459184</td>\n",
              "    </tr>\n",
              "    <tr>\n",
              "      <th>147</th>\n",
              "      <td>Santa Clara County</td>\n",
              "      <td>6085</td>\n",
              "      <td>64.071429</td>\n",
              "      <td>2020-03-29</td>\n",
              "      <td>2020-04-11</td>\n",
              "      <td>36.387755</td>\n",
              "    </tr>\n",
              "    <tr>\n",
              "      <th>201</th>\n",
              "      <td>Santa Clara County</td>\n",
              "      <td>6085</td>\n",
              "      <td>42.714286</td>\n",
              "      <td>2020-04-12</td>\n",
              "      <td>2020-04-26</td>\n",
              "      <td>-21.357143</td>\n",
              "    </tr>\n",
              "    <tr>\n",
              "      <th>255</th>\n",
              "      <td>Santa Clara County</td>\n",
              "      <td>6085</td>\n",
              "      <td>20.908163</td>\n",
              "      <td>2020-04-27</td>\n",
              "      <td>2020-05-10</td>\n",
              "      <td>-21.806122</td>\n",
              "    </tr>\n",
              "    <tr>\n",
              "      <th>309</th>\n",
              "      <td>Santa Clara County</td>\n",
              "      <td>6085</td>\n",
              "      <td>16.489796</td>\n",
              "      <td>2020-05-11</td>\n",
              "      <td>2020-05-24</td>\n",
              "      <td>-4.418367</td>\n",
              "    </tr>\n",
              "    <tr>\n",
              "      <th>363</th>\n",
              "      <td>Santa Clara County</td>\n",
              "      <td>6085</td>\n",
              "      <td>26.387755</td>\n",
              "      <td>2020-05-25</td>\n",
              "      <td>2020-06-08</td>\n",
              "      <td>9.897959</td>\n",
              "    </tr>\n",
              "    <tr>\n",
              "      <th>417</th>\n",
              "      <td>Santa Clara County</td>\n",
              "      <td>6085</td>\n",
              "      <td>37.612245</td>\n",
              "      <td>2020-06-09</td>\n",
              "      <td>2020-06-22</td>\n",
              "      <td>11.224490</td>\n",
              "    </tr>\n",
              "    <tr>\n",
              "      <th>471</th>\n",
              "      <td>Santa Clara County</td>\n",
              "      <td>6085</td>\n",
              "      <td>105.969388</td>\n",
              "      <td>2020-06-23</td>\n",
              "      <td>2020-07-06</td>\n",
              "      <td>68.357143</td>\n",
              "    </tr>\n",
              "    <tr>\n",
              "      <th>525</th>\n",
              "      <td>Santa Clara County</td>\n",
              "      <td>6085</td>\n",
              "      <td>164.336735</td>\n",
              "      <td>2020-07-07</td>\n",
              "      <td>2020-07-20</td>\n",
              "      <td>58.367347</td>\n",
              "    </tr>\n",
              "    <tr>\n",
              "      <th>579</th>\n",
              "      <td>Santa Clara County</td>\n",
              "      <td>6085</td>\n",
              "      <td>202.122449</td>\n",
              "      <td>2020-07-21</td>\n",
              "      <td>2020-08-03</td>\n",
              "      <td>37.785714</td>\n",
              "    </tr>\n",
              "    <tr>\n",
              "      <th>633</th>\n",
              "      <td>Santa Clara County</td>\n",
              "      <td>6085</td>\n",
              "      <td>256.500000</td>\n",
              "      <td>2020-08-04</td>\n",
              "      <td>2020-08-17</td>\n",
              "      <td>54.377551</td>\n",
              "    </tr>\n",
              "    <tr>\n",
              "      <th>687</th>\n",
              "      <td>Santa Clara County</td>\n",
              "      <td>6085</td>\n",
              "      <td>272.392857</td>\n",
              "      <td>2020-08-18</td>\n",
              "      <td>2020-08-21</td>\n",
              "      <td>15.892857</td>\n",
              "    </tr>\n",
              "  </tbody>\n",
              "</table>\n",
              "</div>"
            ],
            "text/plain": [
              "            County Name fips_x  ...     endDate diff_avg_x\n",
              "40   Santa Clara County   6085  ...  2020-03-14   0.000000\n",
              "94   Santa Clara County   6085  ...  2020-03-28  24.459184\n",
              "147  Santa Clara County   6085  ...  2020-04-11  36.387755\n",
              "201  Santa Clara County   6085  ...  2020-04-26 -21.357143\n",
              "255  Santa Clara County   6085  ...  2020-05-10 -21.806122\n",
              "309  Santa Clara County   6085  ...  2020-05-24  -4.418367\n",
              "363  Santa Clara County   6085  ...  2020-06-08   9.897959\n",
              "417  Santa Clara County   6085  ...  2020-06-22  11.224490\n",
              "471  Santa Clara County   6085  ...  2020-07-06  68.357143\n",
              "525  Santa Clara County   6085  ...  2020-07-20  58.367347\n",
              "579  Santa Clara County   6085  ...  2020-08-03  37.785714\n",
              "633  Santa Clara County   6085  ...  2020-08-17  54.377551\n",
              "687  Santa Clara County   6085  ...  2020-08-21  15.892857\n",
              "\n",
              "[13 rows x 6 columns]"
            ]
          },
          "metadata": {
            "tags": []
          },
          "execution_count": 40
        }
      ]
    },
    {
      "cell_type": "code",
      "metadata": {
        "id": "BGjjdDVzv0iB",
        "colab_type": "code",
        "colab": {
          "base_uri": "https://localhost:8080/",
          "height": 195
        },
        "outputId": "85bcf254-29ec-45ab-c623-8d74de189e44"
      },
      "source": [
        "average_newCases_df2.head()"
      ],
      "execution_count": 41,
      "outputs": [
        {
          "output_type": "execute_result",
          "data": {
            "text/html": [
              "<div>\n",
              "<style scoped>\n",
              "    .dataframe tbody tr th:only-of-type {\n",
              "        vertical-align: middle;\n",
              "    }\n",
              "\n",
              "    .dataframe tbody tr th {\n",
              "        vertical-align: top;\n",
              "    }\n",
              "\n",
              "    .dataframe thead th {\n",
              "        text-align: right;\n",
              "    }\n",
              "</style>\n",
              "<table border=\"1\" class=\"dataframe\">\n",
              "  <thead>\n",
              "    <tr style=\"text-align: right;\">\n",
              "      <th></th>\n",
              "      <th>County Name</th>\n",
              "      <th>fips_x</th>\n",
              "      <th>average_per_week</th>\n",
              "      <th>startDate</th>\n",
              "      <th>endDate</th>\n",
              "      <th>diff_avg_x</th>\n",
              "    </tr>\n",
              "  </thead>\n",
              "  <tbody>\n",
              "    <tr>\n",
              "      <th>0</th>\n",
              "      <td>Alameda County</td>\n",
              "      <td>6001</td>\n",
              "      <td>0.316327</td>\n",
              "      <td>2020-03-01</td>\n",
              "      <td>2020-03-14</td>\n",
              "      <td>0.0</td>\n",
              "    </tr>\n",
              "    <tr>\n",
              "      <th>1</th>\n",
              "      <td>Amador County</td>\n",
              "      <td>6005</td>\n",
              "      <td>0.000000</td>\n",
              "      <td>2020-03-01</td>\n",
              "      <td>2020-03-14</td>\n",
              "      <td>0.0</td>\n",
              "    </tr>\n",
              "    <tr>\n",
              "      <th>2</th>\n",
              "      <td>Butte County</td>\n",
              "      <td>6007</td>\n",
              "      <td>0.000000</td>\n",
              "      <td>2020-03-01</td>\n",
              "      <td>2020-03-14</td>\n",
              "      <td>0.0</td>\n",
              "    </tr>\n",
              "    <tr>\n",
              "      <th>3</th>\n",
              "      <td>Calaveras County</td>\n",
              "      <td>6009</td>\n",
              "      <td>0.081633</td>\n",
              "      <td>2020-03-01</td>\n",
              "      <td>2020-03-14</td>\n",
              "      <td>0.0</td>\n",
              "    </tr>\n",
              "    <tr>\n",
              "      <th>4</th>\n",
              "      <td>Colusa County</td>\n",
              "      <td>6011</td>\n",
              "      <td>0.000000</td>\n",
              "      <td>2020-03-01</td>\n",
              "      <td>2020-03-14</td>\n",
              "      <td>0.0</td>\n",
              "    </tr>\n",
              "  </tbody>\n",
              "</table>\n",
              "</div>"
            ],
            "text/plain": [
              "        County Name fips_x  ...     endDate diff_avg_x\n",
              "0    Alameda County   6001  ...  2020-03-14        0.0\n",
              "1     Amador County   6005  ...  2020-03-14        0.0\n",
              "2      Butte County   6007  ...  2020-03-14        0.0\n",
              "3  Calaveras County   6009  ...  2020-03-14        0.0\n",
              "4     Colusa County   6011  ...  2020-03-14        0.0\n",
              "\n",
              "[5 rows x 6 columns]"
            ]
          },
          "metadata": {
            "tags": []
          },
          "execution_count": 41
        }
      ]
    },
    {
      "cell_type": "code",
      "metadata": {
        "id": "CBmjNsOOv4Bc",
        "colab_type": "code",
        "colab": {}
      },
      "source": [
        "average_newCases_df2 = average_newCases_df2.fillna(0)"
      ],
      "execution_count": 42,
      "outputs": []
    },
    {
      "cell_type": "code",
      "metadata": {
        "id": "p2QGJ-s3v6-f",
        "colab_type": "code",
        "colab": {
          "base_uri": "https://localhost:8080/",
          "height": 195
        },
        "outputId": "d1b8601f-2b64-4be7-a4f4-e0658bc91644"
      },
      "source": [
        "average_newCases_df2.head()"
      ],
      "execution_count": 43,
      "outputs": [
        {
          "output_type": "execute_result",
          "data": {
            "text/html": [
              "<div>\n",
              "<style scoped>\n",
              "    .dataframe tbody tr th:only-of-type {\n",
              "        vertical-align: middle;\n",
              "    }\n",
              "\n",
              "    .dataframe tbody tr th {\n",
              "        vertical-align: top;\n",
              "    }\n",
              "\n",
              "    .dataframe thead th {\n",
              "        text-align: right;\n",
              "    }\n",
              "</style>\n",
              "<table border=\"1\" class=\"dataframe\">\n",
              "  <thead>\n",
              "    <tr style=\"text-align: right;\">\n",
              "      <th></th>\n",
              "      <th>County Name</th>\n",
              "      <th>fips_x</th>\n",
              "      <th>average_per_week</th>\n",
              "      <th>startDate</th>\n",
              "      <th>endDate</th>\n",
              "      <th>diff_avg_x</th>\n",
              "    </tr>\n",
              "  </thead>\n",
              "  <tbody>\n",
              "    <tr>\n",
              "      <th>0</th>\n",
              "      <td>Alameda County</td>\n",
              "      <td>6001</td>\n",
              "      <td>0.316327</td>\n",
              "      <td>2020-03-01</td>\n",
              "      <td>2020-03-14</td>\n",
              "      <td>0.0</td>\n",
              "    </tr>\n",
              "    <tr>\n",
              "      <th>1</th>\n",
              "      <td>Amador County</td>\n",
              "      <td>6005</td>\n",
              "      <td>0.000000</td>\n",
              "      <td>2020-03-01</td>\n",
              "      <td>2020-03-14</td>\n",
              "      <td>0.0</td>\n",
              "    </tr>\n",
              "    <tr>\n",
              "      <th>2</th>\n",
              "      <td>Butte County</td>\n",
              "      <td>6007</td>\n",
              "      <td>0.000000</td>\n",
              "      <td>2020-03-01</td>\n",
              "      <td>2020-03-14</td>\n",
              "      <td>0.0</td>\n",
              "    </tr>\n",
              "    <tr>\n",
              "      <th>3</th>\n",
              "      <td>Calaveras County</td>\n",
              "      <td>6009</td>\n",
              "      <td>0.081633</td>\n",
              "      <td>2020-03-01</td>\n",
              "      <td>2020-03-14</td>\n",
              "      <td>0.0</td>\n",
              "    </tr>\n",
              "    <tr>\n",
              "      <th>4</th>\n",
              "      <td>Colusa County</td>\n",
              "      <td>6011</td>\n",
              "      <td>0.000000</td>\n",
              "      <td>2020-03-01</td>\n",
              "      <td>2020-03-14</td>\n",
              "      <td>0.0</td>\n",
              "    </tr>\n",
              "  </tbody>\n",
              "</table>\n",
              "</div>"
            ],
            "text/plain": [
              "        County Name  fips_x  ...     endDate diff_avg_x\n",
              "0    Alameda County    6001  ...  2020-03-14        0.0\n",
              "1     Amador County    6005  ...  2020-03-14        0.0\n",
              "2      Butte County    6007  ...  2020-03-14        0.0\n",
              "3  Calaveras County    6009  ...  2020-03-14        0.0\n",
              "4     Colusa County    6011  ...  2020-03-14        0.0\n",
              "\n",
              "[5 rows x 6 columns]"
            ]
          },
          "metadata": {
            "tags": []
          },
          "execution_count": 43
        }
      ]
    },
    {
      "cell_type": "code",
      "metadata": {
        "id": "KomHadrGYd01",
        "colab_type": "code",
        "colab": {}
      },
      "source": [
        "#not working\n",
        "#average_newCases_df2['pct_change_newcases'] = average_newCases_df2.sort_values(['startDate','endDate']).groupby(['County Name', 'fips_x','startDate','endDate']).average_per_week_y.pct_change()"
      ],
      "execution_count": 44,
      "outputs": []
    },
    {
      "cell_type": "markdown",
      "metadata": {
        "id": "SAgjy14mkQ5h",
        "colab_type": "text"
      },
      "source": [
        "Shifting average_per_week_x\t column value for formula. Means previous row's value will be come to the current row."
      ]
    },
    {
      "cell_type": "code",
      "metadata": {
        "id": "qTS6lOxegQVH",
        "colab_type": "code",
        "colab": {}
      },
      "source": [
        "average_newCases_df2['shift_avg_x'] = average_newCases_df2.sort_values(['startDate','endDate']).groupby(['County Name', 'fips_x'])['average_per_week'].shift()"
      ],
      "execution_count": 45,
      "outputs": []
    },
    {
      "cell_type": "code",
      "metadata": {
        "id": "i8Tk5tMCZlDY",
        "colab_type": "code",
        "colab": {
          "base_uri": "https://localhost:8080/",
          "height": 431
        },
        "outputId": "c451c1d7-c173-4ca0-f38a-a2b93e72b1c7"
      },
      "source": [
        "average_newCases_df2.groupby(by=['County Name', 'fips_x','startDate','endDate']).sum()"
      ],
      "execution_count": 46,
      "outputs": [
        {
          "output_type": "execute_result",
          "data": {
            "text/html": [
              "<div>\n",
              "<style scoped>\n",
              "    .dataframe tbody tr th:only-of-type {\n",
              "        vertical-align: middle;\n",
              "    }\n",
              "\n",
              "    .dataframe tbody tr th {\n",
              "        vertical-align: top;\n",
              "    }\n",
              "\n",
              "    .dataframe thead th {\n",
              "        text-align: right;\n",
              "    }\n",
              "</style>\n",
              "<table border=\"1\" class=\"dataframe\">\n",
              "  <thead>\n",
              "    <tr style=\"text-align: right;\">\n",
              "      <th></th>\n",
              "      <th></th>\n",
              "      <th></th>\n",
              "      <th></th>\n",
              "      <th>average_per_week</th>\n",
              "      <th>diff_avg_x</th>\n",
              "      <th>shift_avg_x</th>\n",
              "    </tr>\n",
              "    <tr>\n",
              "      <th>County Name</th>\n",
              "      <th>fips_x</th>\n",
              "      <th>startDate</th>\n",
              "      <th>endDate</th>\n",
              "      <th></th>\n",
              "      <th></th>\n",
              "      <th></th>\n",
              "    </tr>\n",
              "  </thead>\n",
              "  <tbody>\n",
              "    <tr>\n",
              "      <th rowspan=\"5\" valign=\"top\">Alameda County</th>\n",
              "      <th rowspan=\"5\" valign=\"top\">6001</th>\n",
              "      <th>2020-03-01</th>\n",
              "      <th>2020-03-14</th>\n",
              "      <td>0.316327</td>\n",
              "      <td>0.000000</td>\n",
              "      <td>0.000000</td>\n",
              "    </tr>\n",
              "    <tr>\n",
              "      <th>2020-03-15</th>\n",
              "      <th>2020-03-28</th>\n",
              "      <td>10.632653</td>\n",
              "      <td>10.316327</td>\n",
              "      <td>0.316327</td>\n",
              "    </tr>\n",
              "    <tr>\n",
              "      <th>2020-03-29</th>\n",
              "      <th>2020-04-11</th>\n",
              "      <td>37.051020</td>\n",
              "      <td>26.418367</td>\n",
              "      <td>10.632653</td>\n",
              "    </tr>\n",
              "    <tr>\n",
              "      <th>2020-04-12</th>\n",
              "      <th>2020-04-26</th>\n",
              "      <td>45.193878</td>\n",
              "      <td>8.142857</td>\n",
              "      <td>37.051020</td>\n",
              "    </tr>\n",
              "    <tr>\n",
              "      <th>2020-04-27</th>\n",
              "      <th>2020-05-10</th>\n",
              "      <td>41.561224</td>\n",
              "      <td>-3.632653</td>\n",
              "      <td>45.193878</td>\n",
              "    </tr>\n",
              "    <tr>\n",
              "      <th>...</th>\n",
              "      <th>...</th>\n",
              "      <th>...</th>\n",
              "      <th>...</th>\n",
              "      <td>...</td>\n",
              "      <td>...</td>\n",
              "      <td>...</td>\n",
              "    </tr>\n",
              "    <tr>\n",
              "      <th rowspan=\"5\" valign=\"top\">Yuba County</th>\n",
              "      <th rowspan=\"5\" valign=\"top\">6115</th>\n",
              "      <th>2020-06-23</th>\n",
              "      <th>2020-07-06</th>\n",
              "      <td>4.387755</td>\n",
              "      <td>3.755102</td>\n",
              "      <td>0.632653</td>\n",
              "    </tr>\n",
              "    <tr>\n",
              "      <th>2020-07-07</th>\n",
              "      <th>2020-07-20</th>\n",
              "      <td>10.377551</td>\n",
              "      <td>5.989796</td>\n",
              "      <td>4.387755</td>\n",
              "    </tr>\n",
              "    <tr>\n",
              "      <th>2020-07-21</th>\n",
              "      <th>2020-08-03</th>\n",
              "      <td>15.040816</td>\n",
              "      <td>4.663265</td>\n",
              "      <td>10.377551</td>\n",
              "    </tr>\n",
              "    <tr>\n",
              "      <th>2020-08-04</th>\n",
              "      <th>2020-08-17</th>\n",
              "      <td>18.632653</td>\n",
              "      <td>3.591837</td>\n",
              "      <td>15.040816</td>\n",
              "    </tr>\n",
              "    <tr>\n",
              "      <th>2020-08-18</th>\n",
              "      <th>2020-08-21</th>\n",
              "      <td>17.321429</td>\n",
              "      <td>-1.311224</td>\n",
              "      <td>18.632653</td>\n",
              "    </tr>\n",
              "  </tbody>\n",
              "</table>\n",
              "<p>701 rows × 3 columns</p>\n",
              "</div>"
            ],
            "text/plain": [
              "                                             average_per_week  ...  shift_avg_x\n",
              "County Name    fips_x startDate  endDate                       ...             \n",
              "Alameda County 6001   2020-03-01 2020-03-14          0.316327  ...     0.000000\n",
              "                      2020-03-15 2020-03-28         10.632653  ...     0.316327\n",
              "                      2020-03-29 2020-04-11         37.051020  ...    10.632653\n",
              "                      2020-04-12 2020-04-26         45.193878  ...    37.051020\n",
              "                      2020-04-27 2020-05-10         41.561224  ...    45.193878\n",
              "...                                                       ...  ...          ...\n",
              "Yuba County    6115   2020-06-23 2020-07-06          4.387755  ...     0.632653\n",
              "                      2020-07-07 2020-07-20         10.377551  ...     4.387755\n",
              "                      2020-07-21 2020-08-03         15.040816  ...    10.377551\n",
              "                      2020-08-04 2020-08-17         18.632653  ...    15.040816\n",
              "                      2020-08-18 2020-08-21         17.321429  ...    18.632653\n",
              "\n",
              "[701 rows x 3 columns]"
            ]
          },
          "metadata": {
            "tags": []
          },
          "execution_count": 46
        }
      ]
    },
    {
      "cell_type": "code",
      "metadata": {
        "id": "NyE08elJ_WzM",
        "colab_type": "code",
        "colab": {
          "base_uri": "https://localhost:8080/",
          "height": 432
        },
        "outputId": "05e73ff1-54b5-4da9-fd59-9ae8935361ab"
      },
      "source": [
        "average_newCases_df2[average_newCases_df2['County Name'] == 'Los Angeles County']"
      ],
      "execution_count": 47,
      "outputs": [
        {
          "output_type": "execute_result",
          "data": {
            "text/html": [
              "<div>\n",
              "<style scoped>\n",
              "    .dataframe tbody tr th:only-of-type {\n",
              "        vertical-align: middle;\n",
              "    }\n",
              "\n",
              "    .dataframe tbody tr th {\n",
              "        vertical-align: top;\n",
              "    }\n",
              "\n",
              "    .dataframe thead th {\n",
              "        text-align: right;\n",
              "    }\n",
              "</style>\n",
              "<table border=\"1\" class=\"dataframe\">\n",
              "  <thead>\n",
              "    <tr style=\"text-align: right;\">\n",
              "      <th></th>\n",
              "      <th>County Name</th>\n",
              "      <th>fips_x</th>\n",
              "      <th>average_per_week</th>\n",
              "      <th>startDate</th>\n",
              "      <th>endDate</th>\n",
              "      <th>diff_avg_x</th>\n",
              "      <th>shift_avg_x</th>\n",
              "    </tr>\n",
              "  </thead>\n",
              "  <tbody>\n",
              "    <tr>\n",
              "      <th>17</th>\n",
              "      <td>Los Angeles County</td>\n",
              "      <td>6037</td>\n",
              "      <td>1.683673</td>\n",
              "      <td>2020-03-01</td>\n",
              "      <td>2020-03-14</td>\n",
              "      <td>0.000000</td>\n",
              "      <td>NaN</td>\n",
              "    </tr>\n",
              "    <tr>\n",
              "      <th>71</th>\n",
              "      <td>Los Angeles County</td>\n",
              "      <td>6037</td>\n",
              "      <td>65.061224</td>\n",
              "      <td>2020-03-15</td>\n",
              "      <td>2020-03-28</td>\n",
              "      <td>63.377551</td>\n",
              "      <td>1.683673</td>\n",
              "    </tr>\n",
              "    <tr>\n",
              "      <th>125</th>\n",
              "      <td>Los Angeles County</td>\n",
              "      <td>6037</td>\n",
              "      <td>460.224490</td>\n",
              "      <td>2020-03-29</td>\n",
              "      <td>2020-04-11</td>\n",
              "      <td>395.163265</td>\n",
              "      <td>65.061224</td>\n",
              "    </tr>\n",
              "    <tr>\n",
              "      <th>178</th>\n",
              "      <td>Los Angeles County</td>\n",
              "      <td>6037</td>\n",
              "      <td>593.397959</td>\n",
              "      <td>2020-04-12</td>\n",
              "      <td>2020-04-26</td>\n",
              "      <td>133.173469</td>\n",
              "      <td>460.224490</td>\n",
              "    </tr>\n",
              "    <tr>\n",
              "      <th>232</th>\n",
              "      <td>Los Angeles County</td>\n",
              "      <td>6037</td>\n",
              "      <td>870.357143</td>\n",
              "      <td>2020-04-27</td>\n",
              "      <td>2020-05-10</td>\n",
              "      <td>276.959184</td>\n",
              "      <td>593.397959</td>\n",
              "    </tr>\n",
              "    <tr>\n",
              "      <th>286</th>\n",
              "      <td>Los Angeles County</td>\n",
              "      <td>6037</td>\n",
              "      <td>894.602041</td>\n",
              "      <td>2020-05-11</td>\n",
              "      <td>2020-05-24</td>\n",
              "      <td>24.244898</td>\n",
              "      <td>870.357143</td>\n",
              "    </tr>\n",
              "    <tr>\n",
              "      <th>340</th>\n",
              "      <td>Los Angeles County</td>\n",
              "      <td>6037</td>\n",
              "      <td>1237.336735</td>\n",
              "      <td>2020-05-25</td>\n",
              "      <td>2020-06-08</td>\n",
              "      <td>342.734694</td>\n",
              "      <td>894.602041</td>\n",
              "    </tr>\n",
              "    <tr>\n",
              "      <th>394</th>\n",
              "      <td>Los Angeles County</td>\n",
              "      <td>6037</td>\n",
              "      <td>1371.520408</td>\n",
              "      <td>2020-06-09</td>\n",
              "      <td>2020-06-22</td>\n",
              "      <td>134.183673</td>\n",
              "      <td>1237.336735</td>\n",
              "    </tr>\n",
              "    <tr>\n",
              "      <th>448</th>\n",
              "      <td>Los Angeles County</td>\n",
              "      <td>6037</td>\n",
              "      <td>2071.102041</td>\n",
              "      <td>2020-06-23</td>\n",
              "      <td>2020-07-06</td>\n",
              "      <td>699.581633</td>\n",
              "      <td>1371.520408</td>\n",
              "    </tr>\n",
              "    <tr>\n",
              "      <th>502</th>\n",
              "      <td>Los Angeles County</td>\n",
              "      <td>6037</td>\n",
              "      <td>2912.918367</td>\n",
              "      <td>2020-07-07</td>\n",
              "      <td>2020-07-20</td>\n",
              "      <td>841.816327</td>\n",
              "      <td>2071.102041</td>\n",
              "    </tr>\n",
              "    <tr>\n",
              "      <th>556</th>\n",
              "      <td>Los Angeles County</td>\n",
              "      <td>6037</td>\n",
              "      <td>2689.663265</td>\n",
              "      <td>2020-07-21</td>\n",
              "      <td>2020-08-03</td>\n",
              "      <td>-223.255102</td>\n",
              "      <td>2912.918367</td>\n",
              "    </tr>\n",
              "    <tr>\n",
              "      <th>610</th>\n",
              "      <td>Los Angeles County</td>\n",
              "      <td>6037</td>\n",
              "      <td>2151.989796</td>\n",
              "      <td>2020-08-04</td>\n",
              "      <td>2020-08-17</td>\n",
              "      <td>-537.673469</td>\n",
              "      <td>2689.663265</td>\n",
              "    </tr>\n",
              "    <tr>\n",
              "      <th>664</th>\n",
              "      <td>Los Angeles County</td>\n",
              "      <td>6037</td>\n",
              "      <td>1711.392857</td>\n",
              "      <td>2020-08-18</td>\n",
              "      <td>2020-08-21</td>\n",
              "      <td>-440.596939</td>\n",
              "      <td>2151.989796</td>\n",
              "    </tr>\n",
              "  </tbody>\n",
              "</table>\n",
              "</div>"
            ],
            "text/plain": [
              "            County Name  fips_x  ...  diff_avg_x  shift_avg_x\n",
              "17   Los Angeles County    6037  ...    0.000000          NaN\n",
              "71   Los Angeles County    6037  ...   63.377551     1.683673\n",
              "125  Los Angeles County    6037  ...  395.163265    65.061224\n",
              "178  Los Angeles County    6037  ...  133.173469   460.224490\n",
              "232  Los Angeles County    6037  ...  276.959184   593.397959\n",
              "286  Los Angeles County    6037  ...   24.244898   870.357143\n",
              "340  Los Angeles County    6037  ...  342.734694   894.602041\n",
              "394  Los Angeles County    6037  ...  134.183673  1237.336735\n",
              "448  Los Angeles County    6037  ...  699.581633  1371.520408\n",
              "502  Los Angeles County    6037  ...  841.816327  2071.102041\n",
              "556  Los Angeles County    6037  ... -223.255102  2912.918367\n",
              "610  Los Angeles County    6037  ... -537.673469  2689.663265\n",
              "664  Los Angeles County    6037  ... -440.596939  2151.989796\n",
              "\n",
              "[13 rows x 7 columns]"
            ]
          },
          "metadata": {
            "tags": []
          },
          "execution_count": 47
        }
      ]
    },
    {
      "cell_type": "code",
      "metadata": {
        "id": "j5Z4bIspwE2c",
        "colab_type": "code",
        "colab": {
          "base_uri": "https://localhost:8080/",
          "height": 195
        },
        "outputId": "961c48cd-a63b-4828-ced2-e3c5d07e5bc5"
      },
      "source": [
        "average_newCases_df2['percent_newcases'] = average_newCases_df2.apply(lambda x: (x.diff_avg_x) / x.shift_avg_x if x.shift_avg_x > 0.0 else 0 , axis=1)\n",
        "\n",
        "\n",
        "average_newCases_df2.tail()\n"
      ],
      "execution_count": 48,
      "outputs": [
        {
          "output_type": "execute_result",
          "data": {
            "text/html": [
              "<div>\n",
              "<style scoped>\n",
              "    .dataframe tbody tr th:only-of-type {\n",
              "        vertical-align: middle;\n",
              "    }\n",
              "\n",
              "    .dataframe tbody tr th {\n",
              "        vertical-align: top;\n",
              "    }\n",
              "\n",
              "    .dataframe thead th {\n",
              "        text-align: right;\n",
              "    }\n",
              "</style>\n",
              "<table border=\"1\" class=\"dataframe\">\n",
              "  <thead>\n",
              "    <tr style=\"text-align: right;\">\n",
              "      <th></th>\n",
              "      <th>County Name</th>\n",
              "      <th>fips_x</th>\n",
              "      <th>average_per_week</th>\n",
              "      <th>startDate</th>\n",
              "      <th>endDate</th>\n",
              "      <th>diff_avg_x</th>\n",
              "      <th>shift_avg_x</th>\n",
              "      <th>percent_newcases</th>\n",
              "    </tr>\n",
              "  </thead>\n",
              "  <tbody>\n",
              "    <tr>\n",
              "      <th>696</th>\n",
              "      <td>Tulare County</td>\n",
              "      <td>6107</td>\n",
              "      <td>152.428571</td>\n",
              "      <td>2020-08-18</td>\n",
              "      <td>2020-08-21</td>\n",
              "      <td>-36.540816</td>\n",
              "      <td>188.969388</td>\n",
              "      <td>-0.193369</td>\n",
              "    </tr>\n",
              "    <tr>\n",
              "      <th>697</th>\n",
              "      <td>Tuolumne County</td>\n",
              "      <td>6109</td>\n",
              "      <td>1.214286</td>\n",
              "      <td>2020-08-18</td>\n",
              "      <td>2020-08-21</td>\n",
              "      <td>-0.336735</td>\n",
              "      <td>1.551020</td>\n",
              "      <td>-0.217105</td>\n",
              "    </tr>\n",
              "    <tr>\n",
              "      <th>698</th>\n",
              "      <td>Ventura County</td>\n",
              "      <td>6111</td>\n",
              "      <td>98.500000</td>\n",
              "      <td>2020-08-18</td>\n",
              "      <td>2020-08-21</td>\n",
              "      <td>-27.255102</td>\n",
              "      <td>125.755102</td>\n",
              "      <td>-0.216732</td>\n",
              "    </tr>\n",
              "    <tr>\n",
              "      <th>699</th>\n",
              "      <td>Yolo County</td>\n",
              "      <td>6113</td>\n",
              "      <td>31.750000</td>\n",
              "      <td>2020-08-18</td>\n",
              "      <td>2020-08-21</td>\n",
              "      <td>0.178571</td>\n",
              "      <td>31.571429</td>\n",
              "      <td>0.005656</td>\n",
              "    </tr>\n",
              "    <tr>\n",
              "      <th>700</th>\n",
              "      <td>Yuba County</td>\n",
              "      <td>6115</td>\n",
              "      <td>17.321429</td>\n",
              "      <td>2020-08-18</td>\n",
              "      <td>2020-08-21</td>\n",
              "      <td>-1.311224</td>\n",
              "      <td>18.632653</td>\n",
              "      <td>-0.070372</td>\n",
              "    </tr>\n",
              "  </tbody>\n",
              "</table>\n",
              "</div>"
            ],
            "text/plain": [
              "         County Name  fips_x  ...  shift_avg_x percent_newcases\n",
              "696    Tulare County    6107  ...   188.969388        -0.193369\n",
              "697  Tuolumne County    6109  ...     1.551020        -0.217105\n",
              "698   Ventura County    6111  ...   125.755102        -0.216732\n",
              "699      Yolo County    6113  ...    31.571429         0.005656\n",
              "700      Yuba County    6115  ...    18.632653        -0.070372\n",
              "\n",
              "[5 rows x 8 columns]"
            ]
          },
          "metadata": {
            "tags": []
          },
          "execution_count": 48
        }
      ]
    },
    {
      "cell_type": "code",
      "metadata": {
        "id": "Ee6qZiyqAF1z",
        "colab_type": "code",
        "colab": {
          "base_uri": "https://localhost:8080/",
          "height": 432
        },
        "outputId": "6b45053e-b501-4d72-fca8-6e04c595efa6"
      },
      "source": [
        "average_newCases_df2[average_newCases_df2['County Name'] == 'Los Angeles County']"
      ],
      "execution_count": 49,
      "outputs": [
        {
          "output_type": "execute_result",
          "data": {
            "text/html": [
              "<div>\n",
              "<style scoped>\n",
              "    .dataframe tbody tr th:only-of-type {\n",
              "        vertical-align: middle;\n",
              "    }\n",
              "\n",
              "    .dataframe tbody tr th {\n",
              "        vertical-align: top;\n",
              "    }\n",
              "\n",
              "    .dataframe thead th {\n",
              "        text-align: right;\n",
              "    }\n",
              "</style>\n",
              "<table border=\"1\" class=\"dataframe\">\n",
              "  <thead>\n",
              "    <tr style=\"text-align: right;\">\n",
              "      <th></th>\n",
              "      <th>County Name</th>\n",
              "      <th>fips_x</th>\n",
              "      <th>average_per_week</th>\n",
              "      <th>startDate</th>\n",
              "      <th>endDate</th>\n",
              "      <th>diff_avg_x</th>\n",
              "      <th>shift_avg_x</th>\n",
              "      <th>percent_newcases</th>\n",
              "    </tr>\n",
              "  </thead>\n",
              "  <tbody>\n",
              "    <tr>\n",
              "      <th>17</th>\n",
              "      <td>Los Angeles County</td>\n",
              "      <td>6037</td>\n",
              "      <td>1.683673</td>\n",
              "      <td>2020-03-01</td>\n",
              "      <td>2020-03-14</td>\n",
              "      <td>0.000000</td>\n",
              "      <td>NaN</td>\n",
              "      <td>0.000000</td>\n",
              "    </tr>\n",
              "    <tr>\n",
              "      <th>71</th>\n",
              "      <td>Los Angeles County</td>\n",
              "      <td>6037</td>\n",
              "      <td>65.061224</td>\n",
              "      <td>2020-03-15</td>\n",
              "      <td>2020-03-28</td>\n",
              "      <td>63.377551</td>\n",
              "      <td>1.683673</td>\n",
              "      <td>37.642424</td>\n",
              "    </tr>\n",
              "    <tr>\n",
              "      <th>125</th>\n",
              "      <td>Los Angeles County</td>\n",
              "      <td>6037</td>\n",
              "      <td>460.224490</td>\n",
              "      <td>2020-03-29</td>\n",
              "      <td>2020-04-11</td>\n",
              "      <td>395.163265</td>\n",
              "      <td>65.061224</td>\n",
              "      <td>6.073714</td>\n",
              "    </tr>\n",
              "    <tr>\n",
              "      <th>178</th>\n",
              "      <td>Los Angeles County</td>\n",
              "      <td>6037</td>\n",
              "      <td>593.397959</td>\n",
              "      <td>2020-04-12</td>\n",
              "      <td>2020-04-26</td>\n",
              "      <td>133.173469</td>\n",
              "      <td>460.224490</td>\n",
              "      <td>0.289366</td>\n",
              "    </tr>\n",
              "    <tr>\n",
              "      <th>232</th>\n",
              "      <td>Los Angeles County</td>\n",
              "      <td>6037</td>\n",
              "      <td>870.357143</td>\n",
              "      <td>2020-04-27</td>\n",
              "      <td>2020-05-10</td>\n",
              "      <td>276.959184</td>\n",
              "      <td>593.397959</td>\n",
              "      <td>0.466734</td>\n",
              "    </tr>\n",
              "    <tr>\n",
              "      <th>286</th>\n",
              "      <td>Los Angeles County</td>\n",
              "      <td>6037</td>\n",
              "      <td>894.602041</td>\n",
              "      <td>2020-05-11</td>\n",
              "      <td>2020-05-24</td>\n",
              "      <td>24.244898</td>\n",
              "      <td>870.357143</td>\n",
              "      <td>0.027856</td>\n",
              "    </tr>\n",
              "    <tr>\n",
              "      <th>340</th>\n",
              "      <td>Los Angeles County</td>\n",
              "      <td>6037</td>\n",
              "      <td>1237.336735</td>\n",
              "      <td>2020-05-25</td>\n",
              "      <td>2020-06-08</td>\n",
              "      <td>342.734694</td>\n",
              "      <td>894.602041</td>\n",
              "      <td>0.383114</td>\n",
              "    </tr>\n",
              "    <tr>\n",
              "      <th>394</th>\n",
              "      <td>Los Angeles County</td>\n",
              "      <td>6037</td>\n",
              "      <td>1371.520408</td>\n",
              "      <td>2020-06-09</td>\n",
              "      <td>2020-06-22</td>\n",
              "      <td>134.183673</td>\n",
              "      <td>1237.336735</td>\n",
              "      <td>0.108446</td>\n",
              "    </tr>\n",
              "    <tr>\n",
              "      <th>448</th>\n",
              "      <td>Los Angeles County</td>\n",
              "      <td>6037</td>\n",
              "      <td>2071.102041</td>\n",
              "      <td>2020-06-23</td>\n",
              "      <td>2020-07-06</td>\n",
              "      <td>699.581633</td>\n",
              "      <td>1371.520408</td>\n",
              "      <td>0.510077</td>\n",
              "    </tr>\n",
              "    <tr>\n",
              "      <th>502</th>\n",
              "      <td>Los Angeles County</td>\n",
              "      <td>6037</td>\n",
              "      <td>2912.918367</td>\n",
              "      <td>2020-07-07</td>\n",
              "      <td>2020-07-20</td>\n",
              "      <td>841.816327</td>\n",
              "      <td>2071.102041</td>\n",
              "      <td>0.406458</td>\n",
              "    </tr>\n",
              "    <tr>\n",
              "      <th>556</th>\n",
              "      <td>Los Angeles County</td>\n",
              "      <td>6037</td>\n",
              "      <td>2689.663265</td>\n",
              "      <td>2020-07-21</td>\n",
              "      <td>2020-08-03</td>\n",
              "      <td>-223.255102</td>\n",
              "      <td>2912.918367</td>\n",
              "      <td>-0.076643</td>\n",
              "    </tr>\n",
              "    <tr>\n",
              "      <th>610</th>\n",
              "      <td>Los Angeles County</td>\n",
              "      <td>6037</td>\n",
              "      <td>2151.989796</td>\n",
              "      <td>2020-08-04</td>\n",
              "      <td>2020-08-17</td>\n",
              "      <td>-537.673469</td>\n",
              "      <td>2689.663265</td>\n",
              "      <td>-0.199904</td>\n",
              "    </tr>\n",
              "    <tr>\n",
              "      <th>664</th>\n",
              "      <td>Los Angeles County</td>\n",
              "      <td>6037</td>\n",
              "      <td>1711.392857</td>\n",
              "      <td>2020-08-18</td>\n",
              "      <td>2020-08-21</td>\n",
              "      <td>-440.596939</td>\n",
              "      <td>2151.989796</td>\n",
              "      <td>-0.204739</td>\n",
              "    </tr>\n",
              "  </tbody>\n",
              "</table>\n",
              "</div>"
            ],
            "text/plain": [
              "            County Name  fips_x  ...  shift_avg_x percent_newcases\n",
              "17   Los Angeles County    6037  ...          NaN         0.000000\n",
              "71   Los Angeles County    6037  ...     1.683673        37.642424\n",
              "125  Los Angeles County    6037  ...    65.061224         6.073714\n",
              "178  Los Angeles County    6037  ...   460.224490         0.289366\n",
              "232  Los Angeles County    6037  ...   593.397959         0.466734\n",
              "286  Los Angeles County    6037  ...   870.357143         0.027856\n",
              "340  Los Angeles County    6037  ...   894.602041         0.383114\n",
              "394  Los Angeles County    6037  ...  1237.336735         0.108446\n",
              "448  Los Angeles County    6037  ...  1371.520408         0.510077\n",
              "502  Los Angeles County    6037  ...  2071.102041         0.406458\n",
              "556  Los Angeles County    6037  ...  2912.918367        -0.076643\n",
              "610  Los Angeles County    6037  ...  2689.663265        -0.199904\n",
              "664  Los Angeles County    6037  ...  2151.989796        -0.204739\n",
              "\n",
              "[13 rows x 8 columns]"
            ]
          },
          "metadata": {
            "tags": []
          },
          "execution_count": 49
        }
      ]
    },
    {
      "cell_type": "markdown",
      "metadata": {
        "id": "wzm1F8eZJYLj",
        "colab_type": "text"
      },
      "source": [
        "# 1.2 Labeling data as per % change"
      ]
    },
    {
      "cell_type": "code",
      "metadata": {
        "id": "oXCqAaH7Jalh",
        "colab_type": "code",
        "colab": {
          "base_uri": "https://localhost:8080/",
          "height": 284
        },
        "outputId": "fdfbd52e-e267-4d9b-8321-1a1d19a28b7b"
      },
      "source": [
        "average_newCases_df2.describe()"
      ],
      "execution_count": 50,
      "outputs": [
        {
          "output_type": "execute_result",
          "data": {
            "text/html": [
              "<div>\n",
              "<style scoped>\n",
              "    .dataframe tbody tr th:only-of-type {\n",
              "        vertical-align: middle;\n",
              "    }\n",
              "\n",
              "    .dataframe tbody tr th {\n",
              "        vertical-align: top;\n",
              "    }\n",
              "\n",
              "    .dataframe thead th {\n",
              "        text-align: right;\n",
              "    }\n",
              "</style>\n",
              "<table border=\"1\" class=\"dataframe\">\n",
              "  <thead>\n",
              "    <tr style=\"text-align: right;\">\n",
              "      <th></th>\n",
              "      <th>fips_x</th>\n",
              "      <th>average_per_week</th>\n",
              "      <th>diff_avg_x</th>\n",
              "      <th>shift_avg_x</th>\n",
              "      <th>percent_newcases</th>\n",
              "    </tr>\n",
              "  </thead>\n",
              "  <tbody>\n",
              "    <tr>\n",
              "      <th>count</th>\n",
              "      <td>701.000000</td>\n",
              "      <td>701.000000</td>\n",
              "      <td>701.000000</td>\n",
              "      <td>647.000000</td>\n",
              "      <td>701.000000</td>\n",
              "    </tr>\n",
              "    <tr>\n",
              "      <th>mean</th>\n",
              "      <td>6057.724679</td>\n",
              "      <td>72.344621</td>\n",
              "      <td>10.945282</td>\n",
              "      <td>66.505312</td>\n",
              "      <td>1.635755</td>\n",
              "    </tr>\n",
              "    <tr>\n",
              "      <th>std</th>\n",
              "      <td>32.987094</td>\n",
              "      <td>237.898878</td>\n",
              "      <td>72.155794</td>\n",
              "      <td>233.986807</td>\n",
              "      <td>6.209127</td>\n",
              "    </tr>\n",
              "    <tr>\n",
              "      <th>min</th>\n",
              "      <td>6001.000000</td>\n",
              "      <td>-1.892857</td>\n",
              "      <td>-537.673469</td>\n",
              "      <td>-0.357143</td>\n",
              "      <td>-2.500000</td>\n",
              "    </tr>\n",
              "    <tr>\n",
              "      <th>25%</th>\n",
              "      <td>6029.000000</td>\n",
              "      <td>0.530612</td>\n",
              "      <td>-0.030612</td>\n",
              "      <td>0.423469</td>\n",
              "      <td>-0.019417</td>\n",
              "    </tr>\n",
              "    <tr>\n",
              "      <th>50%</th>\n",
              "      <td>6059.000000</td>\n",
              "      <td>6.020408</td>\n",
              "      <td>0.581633</td>\n",
              "      <td>5.204082</td>\n",
              "      <td>0.190476</td>\n",
              "    </tr>\n",
              "    <tr>\n",
              "      <th>75%</th>\n",
              "      <td>6085.000000</td>\n",
              "      <td>42.867347</td>\n",
              "      <td>7.857143</td>\n",
              "      <td>37.923469</td>\n",
              "      <td>0.960000</td>\n",
              "    </tr>\n",
              "    <tr>\n",
              "      <th>max</th>\n",
              "      <td>6115.000000</td>\n",
              "      <td>2912.918367</td>\n",
              "      <td>841.816327</td>\n",
              "      <td>2912.918367</td>\n",
              "      <td>95.421053</td>\n",
              "    </tr>\n",
              "  </tbody>\n",
              "</table>\n",
              "</div>"
            ],
            "text/plain": [
              "            fips_x  average_per_week  diff_avg_x  shift_avg_x  percent_newcases\n",
              "count   701.000000        701.000000  701.000000   647.000000        701.000000\n",
              "mean   6057.724679         72.344621   10.945282    66.505312          1.635755\n",
              "std      32.987094        237.898878   72.155794   233.986807          6.209127\n",
              "min    6001.000000         -1.892857 -537.673469    -0.357143         -2.500000\n",
              "25%    6029.000000          0.530612   -0.030612     0.423469         -0.019417\n",
              "50%    6059.000000          6.020408    0.581633     5.204082          0.190476\n",
              "75%    6085.000000         42.867347    7.857143    37.923469          0.960000\n",
              "max    6115.000000       2912.918367  841.816327  2912.918367         95.421053"
            ]
          },
          "metadata": {
            "tags": []
          },
          "execution_count": 50
        }
      ]
    },
    {
      "cell_type": "code",
      "metadata": {
        "id": "OAVQINmwKAvv",
        "colab_type": "code",
        "colab": {}
      },
      "source": [
        "albany_county = average_newCases_df2[average_newCases_df2['County Name'] == 'Los Angeles County']"
      ],
      "execution_count": 51,
      "outputs": []
    },
    {
      "cell_type": "code",
      "metadata": {
        "id": "9IN8UI7rJ84S",
        "colab_type": "code",
        "colab": {
          "base_uri": "https://localhost:8080/",
          "height": 299
        },
        "outputId": "3e015d16-4ee6-4aab-c6c8-d3f1e451cf53"
      },
      "source": [
        "fig,ax = plt.subplots()\n",
        "# make a plot\n",
        "ax.plot(albany_county.startDate, albany_county['percent_newcases'], color=\"blue\")\n",
        "# set x-axis label\n",
        "ax.set_xlabel(\"Date\",fontsize=14)\n",
        "# set y-axis label\n",
        "ax.set_ylabel(\"percent_newcases\",color=\"blue\",fontsize=14)\n",
        "# ax2=ax.twinx()\n",
        "# make a plot with different y-axis using second axis object\n",
        "# ax2.plot(albany_county.startDate, albany_county[\"percent_newcases\"],color=\"red\")\n",
        "# ax2.set_ylabel(\"New cases\",color=\"blue\",fontsize=14)\n",
        "plt.title(\"'percent_newcases'\")\n",
        "\n",
        "plt.show()"
      ],
      "execution_count": 52,
      "outputs": [
        {
          "output_type": "display_data",
          "data": {
            "image/png": "[encoded data removed]",
            "text/plain": [
              "<Figure size 432x288 with 1 Axes>"
            ]
          },
          "metadata": {
            "tags": [],
            "needs_background": "light"
          }
        }
      ]
    },
    {
      "cell_type": "code",
      "metadata": {
        "id": "QJigbxTTMjaQ",
        "colab_type": "code",
        "colab": {
          "base_uri": "https://localhost:8080/",
          "height": 54
        },
        "outputId": "ff6373ae-decd-484e-9ad2-60b88e6f5861"
      },
      "source": [
        "data = average_newCases_df2['percent_newcases'].to_list()\n",
        "\n",
        "print(data)\n"
      ],
      "execution_count": 53,
      "outputs": [
        {
          "output_type": "stream",
          "text": [
            "[0.0, 0.0, 0.0, 0.0, 0.0, 0.0, 0.0, 0.0, 0.0, 0.0, 0.0, 0.0, 0.0, 0.0, 0.0, 0.0, 0.0, 0.0, 0.0, 0.0, 0.0, 0.0, 0.0, 0.0, 0.0, 0.0, 0.0, 0.0, 0.0, 0.0, 0.0, 0.0, 0.0, 0.0, 0.0, 0.0, 0.0, 0.0, 0.0, 0.0, 0.0, 0.0, 0.0, 0.0, 0.0, 0.0, 0.0, 0.0, 0.0, 0.0, 0.0, 0.0, 0.0, 0.0, 32.61290322580645, 0.0, 0.0, 0.12499999999999997, 0.0, 5.446601941747573, 0.0, 0.0, 11.333333333333332, 0.0, 0.0, 10.333333333333334, 0.0, 0.0, 0.0, 0.0, 0.0, 37.64242424242425, 4.571428571428573, 26.38461538461538, 0.0, 0.0, 0.0, 0.0, 0.0, 12.000000000000002, 0.0, 44.24242424242424, 2.96969696969697, 0.0, 13.166666666666666, 8.391891891891893, 44.0, 0.0, 95.42105263157892, 10.387387387387385, 25.812500000000004, 0.0, 12.266666666666664, 0.0, 7.585443037974684, 5.90909090909091, 0.8333333333333334, 0.0, 4.333333333333332, 18.0, 9.124999999999998, 0.0, 0.0, 29.000000000000004, 0.0, 33.99999999999999, 7.8571428571428585, 0.0, 2.4846449136276387, 0.16666666666666677, 1.6249999999999998, 1.5555555555555556, 15.999999999999995, 2.7048192771084336, 0.0, 3.9677419354838706, 6.936936936936939, 0.0, 5.857142857142858, 5.205882352941177, 5.181818181818183, 11.006493506493504, 20.500000000000004, 0.0, 0.0, 6.073713927227102, 2.9999999999999996, 0.8455056179775288, 0.3333333333333332, 13.882352941176471, 30.499999999999996, 1.1476510067114096, 4.769230769230768, 4.243243243243243, 2.725385130609511, 3.7328244274809155, 0.0, 11.376470588235295, 3.4776978417266178, 2.200000000000001, 11.94425087108014, 3.5725982532751104, 1.727848101265823, 1.6550116550116545, 0.17391304347826123, 1.487437185929649, 6.331460674157302, 1.3144120899373388, 1.3157894736842106, 11.363636363636365, -0.3888888888888889, 2.5416666666666674, 1.75, 5.567901234567904, 21.000000000000004, 0.0, 7.458333333333333, 0.0, 2.7350649350649356, 4.20967741935484, 3.2352941176470584, 0.21977416689617196, 1.0, -0.6031746031746033, 1.0869565217391306, -0.8235294117647058, -0.15975609756097564, -0.9285714285714285, -0.3896103896103897, 1.0419977298524403, 0.0, -0.8958333333333333, 1.3317535545023698, -0.23529411764705918, 0.5424553812871825, 4.023255813953488, 0.7999999999999994, 0.0, 0.28936632521839367, -0.608974358974359, -0.4185692541856925, 0.0, 0.5625000000000004, 0.6284584980237149, -0.7692307692307693, 0.9062499999999996, 0.3333333333333334, -0.8556701030927836, -0.019417475728155307, -0.7451612903225807, -0.7062937062937064, 0.7111624117327542, -0.05944730077120803, -0.18750000000000008, 0.6726783310901749, -0.06768532887668623, 0.11484918793503494, 0.4582967515364357, -0.09259259259259271, -0.337037037037037, 0.18160919540229864, -0.3333333333333332, -0.2926136363636363, -0.6838235294117647, -0.45454545454545453, 0.11960784313725431, -0.1674641148325356, 1.0733082706766917, -0.4350649350649351, -1.0, 0.9596059113300491, -0.4, -0.05424200278164118, 1.0371517027863777, -0.6805555555555556, -0.08037931813050346, -0.9285714285714285, -0.52, -0.9375, -1.0, -0.22544750846637635, 5.0, -0.03191489361702109, 0.44413563090605895, -0.625, -0.4000000000000002, 0.6900406504065041, -0.9615384615384615, 0.02384291725105172, 5.226851851851851, -0.5185185185185185, 0.0, 0.46673430433511626, 1.4098360655737707, -0.22513089005235626, 0.0, 0.24000000000000027, -0.03398058252427173, -0.15740740740740752, 0.05245901639344297, -0.22499999999999987, 0.0, 0.6639163916391637, 0.2721518987341775, -1.0, -0.1341163399730181, -0.6173556542535019, -0.5555555555555557, 0.10749919536530403, 0.538156209987196, -0.0855879292403747, -0.5243829018663457, 0.24489795918367335, 0.39918740477399683, 0.5564202334630354, -0.5105112279025323, -0.2570281124497993, -0.5116279069767441, -1.0, 0.7092819614711038, 0.1034482758620686, 0.3254759746146871, -1.4022988505747125, 0.0, 0.7732528908999499, -0.6666666666666666, -0.147794117647059, -0.770516717325228, 0.04347826086956527, 0.2398723299779031, 5.999999999999999, 6.416666666666665, -1.0, 0.0, 0.041848844472204924, 15.000000000000004, 0.2417582417582418, 0.5373364126250961, 6.166666666666668, 11.66666666666667, 1.4215273601924234, -1.0, 0.27328767123287684, 0.17397769516728614, 1.0, 0.0, 0.027856263555894184, 0.05442176870748291, 1.3716216216216215, -0.9574468085106382, 0.19354838709677383, 0.43467336683417135, -0.1999999999999999, 0.19314641744548242, -0.1548387096774195, -1.0, 0.32683195592286546, -0.48756218905472626, 0.0, 0.0033910732288518677, -0.2651785714285713, 0.6153846153846155, 0.4482708514966581, 0.09239990010821594, -0.10924608819345663, 0.24936708860759513, -0.31381733021077285, -0.026860254083484657, 1.1604166666666667, -0.2113225963884824, 0.43783783783783775, 0.19047619047619047, 0.0, -0.21721311475409813, 0.8020833333333339, -0.3160054719562244, 0.0, 0.0, 0.22512049900765496, -2.5000000000000004, 0.5685936151855049, -0.3178807947019865, 1.4166666666666676, 0.35346534653465367, -1.0, 1.1123595505617978, 0.0, 1.4999999999999996, 0.40527577937649867, 1.1979166666666663, 1.0353982300884956, 0.17325988983475213, -0.02325581395348852, -0.5043859649122806, 1.1085175068289044, 0.0, 0.5701990317374931, 2.918936035465485, 3.807692307692308, 8.250000000000004, 0.3831141426469415, 1.5677419354838713, 0.8874643874643875, 0.3749999999999997, 0.9459459459459462, 0.036777583187390404, 0.12244897959183684, 1.597911227154047, 0.9541984732824426, 0.0, 0.17789220164438121, 4.504854368932038, 0.0, 0.3893861892583118, 0.9040097205346295, 1.8095238095238095, 0.23537674325273403, -0.032233483197439496, -0.10635579687000964, 1.4164133738601825, -0.15699658703071684, 0.298769116001492, -0.703953712632594, 0.600247524752476, 0.22932330827067673, 0.9600000000000004, 1.7142857142857153, 0.13874345549738218, 0.1994219653179188, 0.5460000000000003, 0.43333333333333324, 2.2, -0.17495950011571385, 0.0, 0.3333333333333336, 1.1359223300970873, -0.6896551724137931, 0.05705925384052697, 0.0, 0.23404255319148978, 1.1935483870967751, -1.0, 0.7529863481228666, -0.962085308056872, -0.19130434782608716, 0.6470337174562524, 2.6904761904761902, -0.6814159292035399, 0.841596985042987, 2.833333333333332, 0.3624528948269956, -0.25937297996121533, -0.68, -0.29729729729729765, 0.10844555868018059, 1.7763819095477384, 1.2709433962264152, 0.8571428571428573, 0.9999999999999994, 1.77027027027027, -0.9090909090909091, 0.75678391959799, 1.2773437500000002, 2.0196078431372544, 0.31721074525840837, 1.5485008818342156, 0.0, 0.8470843468542502, 1.2335673261008295, 0.7161016949152542, 0.575245675302526, 0.25992125984251957, -0.0882773409578271, 2.068343815513627, 2.068825910931175, -0.1536473291211949, 1.396091205211726, 0.42536736272235076, 0.21100917431192664, 3.0, 3.3684210526315788, 1.02183908045977, 0.18072289156626495, 1.7904269081500643, 3.313953488372093, 5.062500000000002, 0.7343618513323987, 0.29166666666666696, 0.6670792079207917, 1.7954545454545456, 2.4444444444444455, 0.6654671280276813, 2.730769230769231, 2.129310344827586, 1.1617647058823526, 0.0, 1.186176685324897, 4.125, 2.0483870967741935, 1.2838818346721954, 2.548387096774194, 5.055555555555558, -0.03012086717401028, 1.521739130434783, 0.168971586623083, -0.1422648919921446, 7.325000000000003, 60.11538461538463, 0.5100774501707473, 0.628054298642534, 2.7304752409438353, 4.153846153846154, 0.5000000000000002, 1.7579268292682928, 19.499999999999996, 0.4124713958810071, 0.7427101200686104, 1.4090909090909096, 1.2458516218820253, 0.5737024221453286, 2.666666666666667, 0.5915432801822322, 2.459714285714286, 0.676543209876543, 0.8361002268508968, 1.2840447472033, 0.9439435515484123, 1.0546597430992073, 1.6662269129287604, 0.7261621988462846, 0.6886895051658508, 1.8174172544763976, 1.5580808080808077, 1.4489795918367347, -0.2289156626506025, 1.3934053439454235, 1.1476190476190478, 0.6288827074640708, 1.1428571428571428, 0.8247422680412366, 0.7832767265081672, 5.548387096774195, 1.4699331848552346, 2.338211382113821, 5.935483870967741, 0.3832793152164877, 0.6701030927835054, 1.9738292011019283, 0.6054421768707483, 0.7463054187192119, 0.49248580652343293, 0.634146341463415, 1.2098765432098764, 0.5606739660747714, 0.10181818181818161, 0.24770642201834855, -0.2876829750758274, -0.37931034482758624, 0.9563346956334693, 0.13202747392520958, 0.15315315315315295, 0.07048458149779732, 0.4064581608923571, 1.1856586992773768, -0.027438752783964453, -0.16417910447761214, 1.9305555555555556, 0.8246738890117177, 3.048780487804879, 0.727622519238558, 0.5000000000000002, 0.46091644204851745, 1.0916891102795718, 0.4239226033421286, 1.575757575757576, 0.4566374452097683, 0.631678916508382, 0.8026509572901328, 0.7409372981776321, 0.31750896106383564, 0.7148618673119586, 0.605347166799681, 0.730331519049975, 0.2989974444662867, 0.6971502173563031, 0.550794415021666, 0.9585389930898324, 0.2687499999999998, 0.5156250000000004, 0.832779097387173, 0.677858726639214, 2.49338266685641, 1.3421383647798744, -0.0706214689265536, 0.27661890077997486, 0.5911330049261081, 0.2170123234144874, 0.6809547004383828, 1.3651162790697675, -0.019465304896365204, 1.5925925925925921, 0.3311718388142662, 0.025423728813559258, 0.4724964739069117, 0.22480793615275604, 1.567164179104477, 0.2657621707901044, 0.19840058160668855, 0.32343234323432346, 0.3088235294117644, -0.3778580024067389, 1.583333333333334, 3.3797691039032443, 0.5833707865168541, -0.026041666666666755, -0.46560846560846564, -0.07664310285638191, 0.3743641912512711, -0.48126774754969315, 1.2142857142857149, 0.4044233807266983, 0.42275536168665984, 1.8674698795180718, 0.22342046653381764, 0.33398950131233635, 0.190036900369004, -0.3581545333348527, 0.29740580605311884, -0.1847058823529414, -0.11073923389882531, 0.13640044538920942, 0.0588235294117647, 0.08435483870967746, -0.057755809848185964, 0.28363123236124194, 0.0649598144005297, 0.15870746354017726, 0.13544188861985468, -0.07238402428612106, 0.22992859360447043, 0.35635080645161293, 0.5632183908045975, 0.8969072164948451, -0.08177812337998928, 0.09307154993392515, -0.19052468632882522, -0.009667024704618922, 1.015197568389058, 0.37254901960784287, 0.13003095975232207, 0.26681485140363836, -0.1570559258186032, 0.44936086529006886, 0.427302248636726, 0.5166666666666669, 0.0031315240083502603, 0.446280991735537, -0.3984674329501918, 0.261007246818099, -0.3255813953488372, -0.15762925598991195, -0.01780514438243129, -0.047381546134663104, 0.42134831460674177, -0.30382383573872956, 4.225806451612904, -0.3959808204046796, -0.05535055350553531, 0.3342245989304813, -0.3509350935093508, -0.19990363712929712, 0.16154700222057763, -0.15610100653363945, -0.4274193548387096, 0.6479190101237345, 0.4281212740589337, -0.634453781512605, -0.05039762383826759, 0.07870142646335437, -0.22325581395348856, -0.21425908501837407, 0.0875981909069269, -0.30158730158730146, -0.03368322917026368, 0.09161359283837338, 0.0046296296296297855, -0.25992860330209744, -0.24326647564469908, -0.028215463539758238, -0.17649575974480616, 0.09476801579466923, 0.24230307876849244, -0.19891593372877847, 0.26903271405492746, -0.2538089929394277, -0.11974789915966355, 0.45108695652173886, -0.05419901199717738, 0.4414507772020721, 0.006995118514418089, 0.2098698481561825, -0.11161387631975887, -0.04145962732919264, -0.5835616438356164, -0.19911619443722356, 0.06359573736679236, 0.2388059701492539, 0.06329684481648405, 0.1703296703296701, -0.04335761359694744, -0.2599999999999999, -0.5708598726114649, 0.08666151542956481, -0.034482758620689516, -0.14071856287425155, 0.5332293628979954, -1.242801047120419, 0.058300395256916986, 0.11081427655481937, 0.029835390946502078, -0.47973857567382217, 0.3535156250000002, -0.3617234468937875, -0.6618644067796611, -0.2047393252566443, 0.2523498486538154, -0.14166143544674617, -0.014084507042253688, -0.21160409556313983, -0.1663784364005011, -0.839080459770115, 0.5216930683079407, -0.16051071591427254, 0.012974051896207588, -0.08364211477632172, -0.29754869774567727, -0.09090909090909094, 0.22275821407514618, 0.14139126886984918, 0.1290322580645159, 0.44087026429504594, -0.15734133341100406, -0.09431561085972857, -0.11247579007038601, -0.2102119026149684, 0.12423559703894448, -0.2756925826630921, 0.061960456697298896, 0.5582669322709161, -0.26491646778042965, -0.6198501872659176, 0.11878824056111029, 0.4883177570093462, 0.2494002998500752, -0.0665620797848497, -0.16808149405772488, -0.19336897240671724, -0.21710526315789475, -0.21673158065563136, 0.0056561085972852455, -0.0703723986856519]\n"
          ],
          "name": "stdout"
        }
      ]
    },
    {
      "cell_type": "code",
      "metadata": {
        "id": "1sUx5q6q2S3H",
        "colab_type": "code",
        "colab": {}
      },
      "source": [
        "average_newCases_df3 = average_newCases_df2.copy().reset_index(drop=True)"
      ],
      "execution_count": 54,
      "outputs": []
    },
    {
      "cell_type": "markdown",
      "metadata": {
        "id": "ULGk6w4CShh5",
        "colab_type": "text"
      },
      "source": [
        "## Jenks Natural breaks "
      ]
    },
    {
      "cell_type": "code",
      "metadata": {
        "id": "2sF_7a0JS-V-",
        "colab_type": "code",
        "colab": {
          "base_uri": "https://localhost:8080/",
          "height": 34
        },
        "outputId": "9a9979ee-6592-48f3-d89c-c9dbb1e4718c"
      },
      "source": [
        "!pip install jenkspy\n"
      ],
      "execution_count": 55,
      "outputs": [
        {
          "output_type": "stream",
          "text": [
            "Requirement already satisfied: jenkspy in /usr/local/lib/python3.6/dist-packages (0.1.6)\n"
          ],
          "name": "stdout"
        }
      ]
    },
    {
      "cell_type": "code",
      "metadata": {
        "id": "MwVDiwoYVV10",
        "colab_type": "code",
        "colab": {
          "base_uri": "https://localhost:8080/",
          "height": 34
        },
        "outputId": "841f4882-85b1-4c45-e04b-c1387e1d9b28"
      },
      "source": [
        "import jenkspy\n",
        "\n",
        "breaks = jenkspy.jenks_breaks(average_newCases_df2['percent_newcases'], nb_class=3)\n",
        "print(breaks)"
      ],
      "execution_count": 56,
      "outputs": [
        {
          "output_type": "stream",
          "text": [
            "[-2.5000000000000004, 13.882352941176471, 44.24242424242424, 95.42105263157892]\n"
          ],
          "name": "stdout"
        }
      ]
    },
    {
      "cell_type": "code",
      "metadata": {
        "id": "eqIJ2utVr6Wl",
        "colab_type": "code",
        "colab": {
          "base_uri": "https://localhost:8080/",
          "height": 54
        },
        "outputId": "ea7c704d-55d9-44f2-cf3f-6a6e489d30c4"
      },
      "source": [
        "breaks = jenkspy.jenks_breaks(average_newCases_df2['percent_newcases'], nb_class=8)\n",
        "print(breaks)"
      ],
      "execution_count": 57,
      "outputs": [
        {
          "output_type": "stream",
          "text": [
            "[-2.5000000000000004, 0.8571428571428573, 3.5725982532751104, 9.124999999999998, 21.000000000000004, 33.99999999999999, 44.24242424242424, 60.11538461538463, 95.42105263157892]\n"
          ],
          "name": "stdout"
        }
      ]
    },
    {
      "cell_type": "code",
      "metadata": {
        "id": "PJfBG526B2XI",
        "colab_type": "code",
        "colab": {
          "base_uri": "https://localhost:8080/",
          "height": 34
        },
        "outputId": "f1cc14a5-71c8-48d8-8548-d713686adf2f"
      },
      "source": [
        "import jenkspy\n",
        "\n",
        "breaks = jenkspy.jenks_breaks(average_newCases_df2['percent_newcases'], nb_class=4)\n",
        "print(breaks)"
      ],
      "execution_count": 58,
      "outputs": [
        {
          "output_type": "stream",
          "text": [
            "[-2.5000000000000004, 5.226851851851851, 21.000000000000004, 44.24242424242424, 95.42105263157892]\n"
          ],
          "name": "stdout"
        }
      ]
    },
    {
      "cell_type": "markdown",
      "metadata": {
        "id": "0Ulmo-y1WSGr",
        "colab_type": "text"
      },
      "source": [
        "### Labeling criteria\n",
        "\n",
        "We have applied \"jenks Natural breaks' to label the county data as per 'percent change in cases'\n",
        "\n",
        "From the natural break algorithm, we have splited the data as follows \n",
        "\n",
        "* -1.136 to 3.642 is **label 1** (least chance of spreading) \n",
        "\n",
        "* 3.642 to 13.625 is **label 2** (Below threshold but chances to reach super spread level)\n",
        "\n",
        "* 13.625 to 410.181818 is **label 3** (Super spread week)"
      ]
    },
    {
      "cell_type": "code",
      "metadata": {
        "id": "3Qo3AI_MBTXN",
        "colab_type": "code",
        "colab": {}
      },
      "source": [
        "# for 4 labels\n",
        "average_newCases_df2['labels'] = pd.cut(average_newCases_df2['percent_newcases'],\n",
        "                        bins=breaks,\n",
        "                        labels=['LessSpread','Spread', 'SuperSpread','SuperSpread2'])"
      ],
      "execution_count": 59,
      "outputs": []
    },
    {
      "cell_type": "code",
      "metadata": {
        "id": "L6DpanhdVp_W",
        "colab_type": "code",
        "colab": {
          "base_uri": "https://localhost:8080/",
          "height": 54
        },
        "outputId": "df53a836-c898-4229-e0bd-666b46a80085"
      },
      "source": [
        "# for 8 labels\n",
        "breaks = jenkspy.jenks_breaks(average_newCases_df2['percent_newcases'], nb_class=8)\n",
        "print(breaks)\n",
        "\n",
        "average_newCases_df2['labels'] = pd.cut(average_newCases_df2['percent_newcases'],\n",
        "                        bins=breaks,\n",
        "                        labels=['LessSpread','Spread', 'SuperSpread1','SuperSpread2','SuperSpread3','SuperSpread4','SuperSpread5','SuperSpread6'])"
      ],
      "execution_count": 60,
      "outputs": [
        {
          "output_type": "stream",
          "text": [
            "[-2.5000000000000004, 0.8571428571428573, 3.5725982532751104, 9.124999999999998, 21.000000000000004, 33.99999999999999, 44.24242424242424, 60.11538461538463, 95.42105263157892]\n"
          ],
          "name": "stdout"
        }
      ]
    },
    {
      "cell_type": "code",
      "metadata": {
        "id": "4ok4fwGdBawB",
        "colab_type": "code",
        "colab": {
          "base_uri": "https://localhost:8080/",
          "height": 84
        },
        "outputId": "7a072b8e-9d70-4209-8cd1-dc94fc030649"
      },
      "source": [
        "print('Number of records in LessSpread:',average_newCases_df2[average_newCases_df2['labels'] == 'LessSpread']['County Name'].count())\n",
        "print('Number of records in Spread:',average_newCases_df2[average_newCases_df2['labels'] == 'Spread']['County Name'].count())\n",
        "print('Number of records in SuperSpread:',average_newCases_df2[average_newCases_df2['labels'] == 'SuperSpread']['County Name'].count())\n",
        "\n",
        "print('Number of records in SuperSpread:',average_newCases_df2[average_newCases_df2['labels'] == 'SuperSpread2']['County Name'].count())"
      ],
      "execution_count": 61,
      "outputs": [
        {
          "output_type": "stream",
          "text": [
            "Number of records in LessSpread: 514\n",
            "Number of records in Spread: 119\n",
            "Number of records in SuperSpread: 0\n",
            "Number of records in SuperSpread: 18\n"
          ],
          "name": "stdout"
        }
      ]
    },
    {
      "cell_type": "code",
      "metadata": {
        "id": "lK9bMtBQVqlb",
        "colab_type": "code",
        "colab": {
          "base_uri": "https://localhost:8080/",
          "height": 151
        },
        "outputId": "e3c1c96c-2897-486e-f6df-eaa8a749de0e"
      },
      "source": [
        "print('Number of records in LessSpread:',average_newCases_df2[average_newCases_df2['labels'] == 'LessSpread']['County Name'].count())\n",
        "print('Number of records in Spread:',average_newCases_df2[average_newCases_df2['labels'] == 'Spread']['County Name'].count())\n",
        "print('Number of records in SuperSpread:',average_newCases_df2[average_newCases_df2['labels'] == 'SuperSpread1']['County Name'].count())\n",
        "print('Number of records in SuperSpread2:',average_newCases_df2[average_newCases_df2['labels'] == 'SuperSpread2']['County Name'].count())\n",
        "\n",
        "\n",
        "print('Number of records in SuperSpread3:',average_newCases_df2[average_newCases_df2['labels'] == 'SuperSpread3']['County Name'].count())\n",
        "\n",
        "print('Number of records in SuperSpread4:',average_newCases_df2[average_newCases_df2['labels'] == 'SuperSpread4']['County Name'].count())\n",
        "\n",
        "print('Number of records in SuperSpread5:',average_newCases_df2[average_newCases_df2['labels'] == 'SuperSpread5']['County Name'].count())\n",
        "\n",
        "print('Number of records in SuperSpread6:',average_newCases_df2[average_newCases_df2['labels'] == 'SuperSpread6']['County Name'].count())\n",
        "\n",
        "\n"
      ],
      "execution_count": 62,
      "outputs": [
        {
          "output_type": "stream",
          "text": [
            "Number of records in LessSpread: 514\n",
            "Number of records in Spread: 119\n",
            "Number of records in SuperSpread: 38\n",
            "Number of records in SuperSpread2: 18\n",
            "Number of records in SuperSpread3: 6\n",
            "Number of records in SuperSpread4: 3\n",
            "Number of records in SuperSpread5: 1\n",
            "Number of records in SuperSpread6: 1\n"
          ],
          "name": "stdout"
        }
      ]
    },
    {
      "cell_type": "code",
      "metadata": {
        "id": "TwgkrzkQa2c9",
        "colab_type": "code",
        "colab": {
          "base_uri": "https://localhost:8080/",
          "height": 195
        },
        "outputId": "54c36ecc-b5a1-40ee-958c-b66f141d6dfa"
      },
      "source": [
        "average_newCases_df2.head()"
      ],
      "execution_count": 63,
      "outputs": [
        {
          "output_type": "execute_result",
          "data": {
            "text/html": [
              "<div>\n",
              "<style scoped>\n",
              "    .dataframe tbody tr th:only-of-type {\n",
              "        vertical-align: middle;\n",
              "    }\n",
              "\n",
              "    .dataframe tbody tr th {\n",
              "        vertical-align: top;\n",
              "    }\n",
              "\n",
              "    .dataframe thead th {\n",
              "        text-align: right;\n",
              "    }\n",
              "</style>\n",
              "<table border=\"1\" class=\"dataframe\">\n",
              "  <thead>\n",
              "    <tr style=\"text-align: right;\">\n",
              "      <th></th>\n",
              "      <th>County Name</th>\n",
              "      <th>fips_x</th>\n",
              "      <th>average_per_week</th>\n",
              "      <th>startDate</th>\n",
              "      <th>endDate</th>\n",
              "      <th>diff_avg_x</th>\n",
              "      <th>shift_avg_x</th>\n",
              "      <th>percent_newcases</th>\n",
              "      <th>labels</th>\n",
              "    </tr>\n",
              "  </thead>\n",
              "  <tbody>\n",
              "    <tr>\n",
              "      <th>0</th>\n",
              "      <td>Alameda County</td>\n",
              "      <td>6001</td>\n",
              "      <td>0.316327</td>\n",
              "      <td>2020-03-01</td>\n",
              "      <td>2020-03-14</td>\n",
              "      <td>0.0</td>\n",
              "      <td>NaN</td>\n",
              "      <td>0.0</td>\n",
              "      <td>LessSpread</td>\n",
              "    </tr>\n",
              "    <tr>\n",
              "      <th>1</th>\n",
              "      <td>Amador County</td>\n",
              "      <td>6005</td>\n",
              "      <td>0.000000</td>\n",
              "      <td>2020-03-01</td>\n",
              "      <td>2020-03-14</td>\n",
              "      <td>0.0</td>\n",
              "      <td>NaN</td>\n",
              "      <td>0.0</td>\n",
              "      <td>LessSpread</td>\n",
              "    </tr>\n",
              "    <tr>\n",
              "      <th>2</th>\n",
              "      <td>Butte County</td>\n",
              "      <td>6007</td>\n",
              "      <td>0.000000</td>\n",
              "      <td>2020-03-01</td>\n",
              "      <td>2020-03-14</td>\n",
              "      <td>0.0</td>\n",
              "      <td>NaN</td>\n",
              "      <td>0.0</td>\n",
              "      <td>LessSpread</td>\n",
              "    </tr>\n",
              "    <tr>\n",
              "      <th>3</th>\n",
              "      <td>Calaveras County</td>\n",
              "      <td>6009</td>\n",
              "      <td>0.081633</td>\n",
              "      <td>2020-03-01</td>\n",
              "      <td>2020-03-14</td>\n",
              "      <td>0.0</td>\n",
              "      <td>NaN</td>\n",
              "      <td>0.0</td>\n",
              "      <td>LessSpread</td>\n",
              "    </tr>\n",
              "    <tr>\n",
              "      <th>4</th>\n",
              "      <td>Colusa County</td>\n",
              "      <td>6011</td>\n",
              "      <td>0.000000</td>\n",
              "      <td>2020-03-01</td>\n",
              "      <td>2020-03-14</td>\n",
              "      <td>0.0</td>\n",
              "      <td>NaN</td>\n",
              "      <td>0.0</td>\n",
              "      <td>LessSpread</td>\n",
              "    </tr>\n",
              "  </tbody>\n",
              "</table>\n",
              "</div>"
            ],
            "text/plain": [
              "        County Name  fips_x  ...  percent_newcases      labels\n",
              "0    Alameda County    6001  ...               0.0  LessSpread\n",
              "1     Amador County    6005  ...               0.0  LessSpread\n",
              "2      Butte County    6007  ...               0.0  LessSpread\n",
              "3  Calaveras County    6009  ...               0.0  LessSpread\n",
              "4     Colusa County    6011  ...               0.0  LessSpread\n",
              "\n",
              "[5 rows x 9 columns]"
            ]
          },
          "metadata": {
            "tags": []
          },
          "execution_count": 63
        }
      ]
    },
    {
      "cell_type": "markdown",
      "metadata": {
        "id": "kwYv-bCaaqa3",
        "colab_type": "text"
      },
      "source": [
        "# 1.3 Labeling data for CA combined"
      ]
    },
    {
      "cell_type": "code",
      "metadata": {
        "id": "d0BmZ9SEJ8ua",
        "colab_type": "code",
        "colab": {
          "base_uri": "https://localhost:8080/",
          "height": 350
        },
        "outputId": "206c6f2c-84dc-442a-cbe6-cc259140551d"
      },
      "source": [
        "NY_combined_data.head()"
      ],
      "execution_count": 64,
      "outputs": [
        {
          "output_type": "execute_result",
          "data": {
            "text/html": [
              "<div>\n",
              "<style scoped>\n",
              "    .dataframe tbody tr th:only-of-type {\n",
              "        vertical-align: middle;\n",
              "    }\n",
              "\n",
              "    .dataframe tbody tr th {\n",
              "        vertical-align: top;\n",
              "    }\n",
              "\n",
              "    .dataframe thead th {\n",
              "        text-align: right;\n",
              "    }\n",
              "</style>\n",
              "<table border=\"1\" class=\"dataframe\">\n",
              "  <thead>\n",
              "    <tr style=\"text-align: right;\">\n",
              "      <th></th>\n",
              "      <th>Date</th>\n",
              "      <th>fips_x</th>\n",
              "      <th>County Name</th>\n",
              "      <th>retail and recreation</th>\n",
              "      <th>grocery and pharmacy</th>\n",
              "      <th>parks</th>\n",
              "      <th>transit stations</th>\n",
              "      <th>workplaces</th>\n",
              "      <th>residential</th>\n",
              "      <th>driving</th>\n",
              "      <th>m50</th>\n",
              "      <th>m50_index</th>\n",
              "      <th>population_density</th>\n",
              "      <th>mask_rule_active</th>\n",
              "      <th>mask_wearing_percent</th>\n",
              "      <th>New cases</th>\n",
              "      <th>rolling_avg_new_cases</th>\n",
              "    </tr>\n",
              "  </thead>\n",
              "  <tbody>\n",
              "    <tr>\n",
              "      <th>0</th>\n",
              "      <td>2020-03-01</td>\n",
              "      <td>6001</td>\n",
              "      <td>Alameda County</td>\n",
              "      <td>6.0</td>\n",
              "      <td>9.0</td>\n",
              "      <td>15.0</td>\n",
              "      <td>1.0</td>\n",
              "      <td>4.0</td>\n",
              "      <td>0.0</td>\n",
              "      <td>-7.65</td>\n",
              "      <td>3.684</td>\n",
              "      <td>58</td>\n",
              "      <td>2261.547725</td>\n",
              "      <td>0</td>\n",
              "      <td>0.0</td>\n",
              "      <td>0</td>\n",
              "      <td>0.0</td>\n",
              "    </tr>\n",
              "    <tr>\n",
              "      <th>5240</th>\n",
              "      <td>2020-03-01</td>\n",
              "      <td>6067</td>\n",
              "      <td>Sacramento County</td>\n",
              "      <td>11.0</td>\n",
              "      <td>4.0</td>\n",
              "      <td>26.0</td>\n",
              "      <td>1.0</td>\n",
              "      <td>2.0</td>\n",
              "      <td>-1.0</td>\n",
              "      <td>-4.63</td>\n",
              "      <td>3.773</td>\n",
              "      <td>53</td>\n",
              "      <td>1608.950489</td>\n",
              "      <td>0</td>\n",
              "      <td>0.0</td>\n",
              "      <td>0</td>\n",
              "      <td>0.0</td>\n",
              "    </tr>\n",
              "    <tr>\n",
              "      <th>5412</th>\n",
              "      <td>2020-03-01</td>\n",
              "      <td>6069</td>\n",
              "      <td>San Benito County</td>\n",
              "      <td>2.0</td>\n",
              "      <td>-1.0</td>\n",
              "      <td>-7.0</td>\n",
              "      <td>0.0</td>\n",
              "      <td>0.0</td>\n",
              "      <td>0.0</td>\n",
              "      <td>10.40</td>\n",
              "      <td>3.876</td>\n",
              "      <td>33</td>\n",
              "      <td>45.227585</td>\n",
              "      <td>0</td>\n",
              "      <td>0.0</td>\n",
              "      <td>0</td>\n",
              "      <td>0.0</td>\n",
              "    </tr>\n",
              "    <tr>\n",
              "      <th>5584</th>\n",
              "      <td>2020-03-01</td>\n",
              "      <td>6071</td>\n",
              "      <td>San Bernardino County</td>\n",
              "      <td>5.0</td>\n",
              "      <td>-2.0</td>\n",
              "      <td>-22.0</td>\n",
              "      <td>2.0</td>\n",
              "      <td>-1.0</td>\n",
              "      <td>0.0</td>\n",
              "      <td>10.34</td>\n",
              "      <td>4.508</td>\n",
              "      <td>57</td>\n",
              "      <td>108.694796</td>\n",
              "      <td>0</td>\n",
              "      <td>0.0</td>\n",
              "      <td>0</td>\n",
              "      <td>0.0</td>\n",
              "    </tr>\n",
              "    <tr>\n",
              "      <th>5756</th>\n",
              "      <td>2020-03-01</td>\n",
              "      <td>6073</td>\n",
              "      <td>San Diego County</td>\n",
              "      <td>2.0</td>\n",
              "      <td>-1.0</td>\n",
              "      <td>-20.0</td>\n",
              "      <td>-4.0</td>\n",
              "      <td>2.0</td>\n",
              "      <td>0.0</td>\n",
              "      <td>-4.99</td>\n",
              "      <td>4.555</td>\n",
              "      <td>59</td>\n",
              "      <td>793.587741</td>\n",
              "      <td>0</td>\n",
              "      <td>0.0</td>\n",
              "      <td>0</td>\n",
              "      <td>0.0</td>\n",
              "    </tr>\n",
              "  </tbody>\n",
              "</table>\n",
              "</div>"
            ],
            "text/plain": [
              "            Date  fips_x  ... New cases  rolling_avg_new_cases\n",
              "0     2020-03-01    6001  ...         0                    0.0\n",
              "5240  2020-03-01    6067  ...         0                    0.0\n",
              "5412  2020-03-01    6069  ...         0                    0.0\n",
              "5584  2020-03-01    6071  ...         0                    0.0\n",
              "5756  2020-03-01    6073  ...         0                    0.0\n",
              "\n",
              "[5 rows x 17 columns]"
            ]
          },
          "metadata": {
            "tags": []
          },
          "execution_count": 64
        }
      ]
    },
    {
      "cell_type": "code",
      "metadata": {
        "id": "8oG2cBAVcbKc",
        "colab_type": "code",
        "colab": {}
      },
      "source": [
        "NY_combined_data_ = NY_combined_data.copy()\n",
        "\n"
      ],
      "execution_count": 65,
      "outputs": []
    },
    {
      "cell_type": "code",
      "metadata": {
        "id": "pqyjzzsMc5HS",
        "colab_type": "code",
        "colab": {}
      },
      "source": [
        "NY_combined_data = NY_combined_data_.copy().reset_index(drop=True)"
      ],
      "execution_count": 66,
      "outputs": []
    },
    {
      "cell_type": "code",
      "metadata": {
        "id": "TZ5NhI_pa0N9",
        "colab_type": "code",
        "colab": {}
      },
      "source": [
        "#average_newCases_df = pd.DataFrame(columns=['County Name',  'fips_x',  'average_per_week','startDate','endDate'])\n",
        "\n",
        "for index, row in (average_newCases_df2.iterrows()):\n",
        "    startDate, endDate = row['startDate'], row['endDate']\n",
        "    fips = row['fips_x']\n",
        "    #print(startDate,endDate,fips)\n",
        "    df_index = (NY_combined_data['fips_x'] == row['fips_x']) & (NY_combined_data['Date'] >= startDate) & (NY_combined_data['Date'] <= endDate)\n",
        "    df_weekData =  NY_combined_data.loc[df_index]\n",
        "    #print(df_weekData)\n",
        "    NY_combined_data.loc[df_index,'label'] = row['labels']\n",
        "\n",
        "\n"
      ],
      "execution_count": 67,
      "outputs": []
    },
    {
      "cell_type": "code",
      "metadata": {
        "id": "s3fECDK8a0BE",
        "colab_type": "code",
        "colab": {
          "base_uri": "https://localhost:8080/",
          "height": 350
        },
        "outputId": "a3291f31-d300-4bad-9f9d-e549ad0b72d5"
      },
      "source": [
        "NY_combined_data.head()"
      ],
      "execution_count": 68,
      "outputs": [
        {
          "output_type": "execute_result",
          "data": {
            "text/html": [
              "<div>\n",
              "<style scoped>\n",
              "    .dataframe tbody tr th:only-of-type {\n",
              "        vertical-align: middle;\n",
              "    }\n",
              "\n",
              "    .dataframe tbody tr th {\n",
              "        vertical-align: top;\n",
              "    }\n",
              "\n",
              "    .dataframe thead th {\n",
              "        text-align: right;\n",
              "    }\n",
              "</style>\n",
              "<table border=\"1\" class=\"dataframe\">\n",
              "  <thead>\n",
              "    <tr style=\"text-align: right;\">\n",
              "      <th></th>\n",
              "      <th>Date</th>\n",
              "      <th>fips_x</th>\n",
              "      <th>County Name</th>\n",
              "      <th>retail and recreation</th>\n",
              "      <th>grocery and pharmacy</th>\n",
              "      <th>parks</th>\n",
              "      <th>transit stations</th>\n",
              "      <th>workplaces</th>\n",
              "      <th>residential</th>\n",
              "      <th>driving</th>\n",
              "      <th>m50</th>\n",
              "      <th>m50_index</th>\n",
              "      <th>population_density</th>\n",
              "      <th>mask_rule_active</th>\n",
              "      <th>mask_wearing_percent</th>\n",
              "      <th>New cases</th>\n",
              "      <th>rolling_avg_new_cases</th>\n",
              "      <th>label</th>\n",
              "    </tr>\n",
              "  </thead>\n",
              "  <tbody>\n",
              "    <tr>\n",
              "      <th>0</th>\n",
              "      <td>2020-03-01</td>\n",
              "      <td>6001</td>\n",
              "      <td>Alameda County</td>\n",
              "      <td>6.0</td>\n",
              "      <td>9.0</td>\n",
              "      <td>15.0</td>\n",
              "      <td>1.0</td>\n",
              "      <td>4.0</td>\n",
              "      <td>0.0</td>\n",
              "      <td>-7.65</td>\n",
              "      <td>3.684</td>\n",
              "      <td>58</td>\n",
              "      <td>2261.547725</td>\n",
              "      <td>0</td>\n",
              "      <td>0.0</td>\n",
              "      <td>0</td>\n",
              "      <td>0.0</td>\n",
              "      <td>LessSpread</td>\n",
              "    </tr>\n",
              "    <tr>\n",
              "      <th>1</th>\n",
              "      <td>2020-03-01</td>\n",
              "      <td>6067</td>\n",
              "      <td>Sacramento County</td>\n",
              "      <td>11.0</td>\n",
              "      <td>4.0</td>\n",
              "      <td>26.0</td>\n",
              "      <td>1.0</td>\n",
              "      <td>2.0</td>\n",
              "      <td>-1.0</td>\n",
              "      <td>-4.63</td>\n",
              "      <td>3.773</td>\n",
              "      <td>53</td>\n",
              "      <td>1608.950489</td>\n",
              "      <td>0</td>\n",
              "      <td>0.0</td>\n",
              "      <td>0</td>\n",
              "      <td>0.0</td>\n",
              "      <td>LessSpread</td>\n",
              "    </tr>\n",
              "    <tr>\n",
              "      <th>2</th>\n",
              "      <td>2020-03-01</td>\n",
              "      <td>6069</td>\n",
              "      <td>San Benito County</td>\n",
              "      <td>2.0</td>\n",
              "      <td>-1.0</td>\n",
              "      <td>-7.0</td>\n",
              "      <td>0.0</td>\n",
              "      <td>0.0</td>\n",
              "      <td>0.0</td>\n",
              "      <td>10.40</td>\n",
              "      <td>3.876</td>\n",
              "      <td>33</td>\n",
              "      <td>45.227585</td>\n",
              "      <td>0</td>\n",
              "      <td>0.0</td>\n",
              "      <td>0</td>\n",
              "      <td>0.0</td>\n",
              "      <td>LessSpread</td>\n",
              "    </tr>\n",
              "    <tr>\n",
              "      <th>3</th>\n",
              "      <td>2020-03-01</td>\n",
              "      <td>6071</td>\n",
              "      <td>San Bernardino County</td>\n",
              "      <td>5.0</td>\n",
              "      <td>-2.0</td>\n",
              "      <td>-22.0</td>\n",
              "      <td>2.0</td>\n",
              "      <td>-1.0</td>\n",
              "      <td>0.0</td>\n",
              "      <td>10.34</td>\n",
              "      <td>4.508</td>\n",
              "      <td>57</td>\n",
              "      <td>108.694796</td>\n",
              "      <td>0</td>\n",
              "      <td>0.0</td>\n",
              "      <td>0</td>\n",
              "      <td>0.0</td>\n",
              "      <td>LessSpread</td>\n",
              "    </tr>\n",
              "    <tr>\n",
              "      <th>4</th>\n",
              "      <td>2020-03-01</td>\n",
              "      <td>6073</td>\n",
              "      <td>San Diego County</td>\n",
              "      <td>2.0</td>\n",
              "      <td>-1.0</td>\n",
              "      <td>-20.0</td>\n",
              "      <td>-4.0</td>\n",
              "      <td>2.0</td>\n",
              "      <td>0.0</td>\n",
              "      <td>-4.99</td>\n",
              "      <td>4.555</td>\n",
              "      <td>59</td>\n",
              "      <td>793.587741</td>\n",
              "      <td>0</td>\n",
              "      <td>0.0</td>\n",
              "      <td>0</td>\n",
              "      <td>0.0</td>\n",
              "      <td>LessSpread</td>\n",
              "    </tr>\n",
              "  </tbody>\n",
              "</table>\n",
              "</div>"
            ],
            "text/plain": [
              "         Date  fips_x  ... rolling_avg_new_cases       label\n",
              "0  2020-03-01    6001  ...                   0.0  LessSpread\n",
              "1  2020-03-01    6067  ...                   0.0  LessSpread\n",
              "2  2020-03-01    6069  ...                   0.0  LessSpread\n",
              "3  2020-03-01    6071  ...                   0.0  LessSpread\n",
              "4  2020-03-01    6073  ...                   0.0  LessSpread\n",
              "\n",
              "[5 rows x 18 columns]"
            ]
          },
          "metadata": {
            "tags": []
          },
          "execution_count": 68
        }
      ]
    },
    {
      "cell_type": "code",
      "metadata": {
        "id": "mnhkDNKndBxo",
        "colab_type": "code",
        "colab": {
          "base_uri": "https://localhost:8080/",
          "height": 336
        },
        "outputId": "dadec77d-9d98-4ec6-92bc-8af095735b2a"
      },
      "source": [
        "NY_combined_data[NY_combined_data['label'] == 'SuperSpread2'].sort_values(by=['fips_x','Date']).count()"
      ],
      "execution_count": 69,
      "outputs": [
        {
          "output_type": "execute_result",
          "data": {
            "text/plain": [
              "Date                     252\n",
              "fips_x                   252\n",
              "County Name              252\n",
              "retail and recreation    252\n",
              "grocery and pharmacy     252\n",
              "parks                    252\n",
              "transit stations         252\n",
              "workplaces               252\n",
              "residential              252\n",
              "driving                  252\n",
              "m50                      252\n",
              "m50_index                252\n",
              "population_density       252\n",
              "mask_rule_active         252\n",
              "mask_wearing_percent     252\n",
              "New cases                252\n",
              "rolling_avg_new_cases    252\n",
              "label                    252\n",
              "dtype: int64"
            ]
          },
          "metadata": {
            "tags": []
          },
          "execution_count": 69
        }
      ]
    },
    {
      "cell_type": "code",
      "metadata": {
        "id": "BLZRQtP2DI4d",
        "colab_type": "code",
        "colab": {
          "base_uri": "https://localhost:8080/",
          "height": 34
        },
        "outputId": "b4e7f211-be44-4533-f39f-bebe56ab2051"
      },
      "source": [
        "NY_combined_data.shape"
      ],
      "execution_count": 70,
      "outputs": [
        {
          "output_type": "execute_result",
          "data": {
            "text/plain": [
              "(9196, 18)"
            ]
          },
          "metadata": {
            "tags": []
          },
          "execution_count": 70
        }
      ]
    },
    {
      "cell_type": "code",
      "metadata": {
        "id": "fR-muTmNC98a",
        "colab_type": "code",
        "colab": {}
      },
      "source": [
        "NY_combined_data['label'] = NY_combined_data['label'].apply(lambda x: x if x != 'SuperSpread2' else 'SuperSpread')\n"
      ],
      "execution_count": 71,
      "outputs": []
    },
    {
      "cell_type": "markdown",
      "metadata": {
        "id": "yPb9yLt_m0N4",
        "colab_type": "text"
      },
      "source": [
        "### Save Labeled data for CA Combined Data"
      ]
    },
    {
      "cell_type": "code",
      "metadata": {
        "id": "odBuDdy3DTX1",
        "colab_type": "code",
        "colab": {
          "base_uri": "https://localhost:8080/",
          "height": 34
        },
        "outputId": "79dcee5c-9882-4a59-85aa-239eed3c2857"
      },
      "source": [
        "from datetime import datetime\n",
        "\n",
        "filename = 'CA_labeledData_'+datetime.now().strftime(\"%b%d\") #%Y%m%d\n",
        "print(filename)\n",
        "\n",
        "\n",
        "NY_combined_data.to_csv(filename,index=False)"
      ],
      "execution_count": 73,
      "outputs": [
        {
          "output_type": "stream",
          "text": [
            "CA_labeledData_Sep09\n"
          ],
          "name": "stdout"
        }
      ]
    },
    {
      "cell_type": "code",
      "metadata": {
        "id": "9Hwy4ARNeCfg",
        "colab_type": "code",
        "colab": {}
      },
      "source": [
        "average_newCases_df2[average_newCases_df2['labels'] == 'SuperSpread']"
      ],
      "execution_count": null,
      "outputs": []
    },
    {
      "cell_type": "markdown",
      "metadata": {
        "id": "1oJPNpnexnQZ",
        "colab_type": "text"
      },
      "source": [
        "## Kernal Density Estimation"
      ]
    },
    {
      "cell_type": "code",
      "metadata": {
        "id": "WauUBBVVxq0H",
        "colab_type": "code",
        "colab": {}
      },
      "source": [
        "%matplotlib inline\n",
        "\n",
        "from numpy import array, linspace\n",
        "from sklearn.neighbors.kde import KernelDensity\n",
        "from matplotlib.pyplot import plot\n",
        "\n",
        "a = array(data).reshape(-1, 1)\n",
        "kde = KernelDensity(kernel='gaussian', bandwidth=3).fit(a)\n",
        "s = linspace(0,50)\n",
        "e = kde.score_samples(s.reshape(-1,1))\n",
        "plot(s, e)"
      ],
      "execution_count": null,
      "outputs": []
    },
    {
      "cell_type": "code",
      "metadata": {
        "id": "wGzAVAIOx18k",
        "colab_type": "code",
        "colab": {}
      },
      "source": [
        "\n",
        "\n",
        "from scipy.signal import argrelextrema\n",
        "mi, ma = argrelextrema(e, np.less)[0], argrelextrema(e, np.greater)[0]\n",
        "print(\"Minima:\", s[mi])\n",
        "print(\"Maxima:\", s[ma])"
      ],
      "execution_count": null,
      "outputs": []
    },
    {
      "cell_type": "code",
      "metadata": {
        "id": "NZtte7zb20p7",
        "colab_type": "code",
        "colab": {}
      },
      "source": [
        "lower_range = s[mi][0]\n",
        "upper_range = s[mi][1]\n",
        "\n",
        "lower_range"
      ],
      "execution_count": null,
      "outputs": []
    },
    {
      "cell_type": "code",
      "metadata": {
        "id": "vVyRucGcyAgB",
        "colab_type": "code",
        "colab": {}
      },
      "source": [
        "print(a[a < mi[0]], a[(a >= mi[0]) * (a <= mi[1])], a[a >= mi[1]])\n"
      ],
      "execution_count": null,
      "outputs": []
    },
    {
      "cell_type": "markdown",
      "metadata": {
        "id": "ljVPSVYdyhoz",
        "colab_type": "text"
      },
      "source": [
        "[-1.1363636363636362, 39.5, 213.91325695581014, 410.1818181818182]"
      ]
    },
    {
      "cell_type": "markdown",
      "metadata": {
        "id": "c36LK96Tzp3S",
        "colab_type": "text"
      },
      "source": [
        "Minima: [19.3877551  33.67346939]\n",
        "Maxima: [24.48979592 39.79591837]*italicized text*"
      ]
    },
    {
      "cell_type": "code",
      "metadata": {
        "id": "Wh455zOcyIUT",
        "colab_type": "code",
        "colab": {}
      },
      "source": [
        "plot(s[:mi[0]+1], e[:mi[0]+1], 'r',\n",
        "     s[mi[0]:mi[1]+1], e[mi[0]:mi[1]+1], 'g',\n",
        "     s[mi[1]:], e[mi[1]:], 'b',\n",
        "     s[ma], e[ma], 'go',\n",
        "     s[mi], e[mi], 'ro')"
      ],
      "execution_count": null,
      "outputs": []
    },
    {
      "cell_type": "markdown",
      "metadata": {
        "id": "Ni7oN7RAzJ5N",
        "colab_type": "text"
      },
      "source": [
        "print(a[a < mi[0]], a[(a >= mi[0]) * (a <= mi[1])], a[a >= mi[1]])\n"
      ]
    },
    {
      "cell_type": "markdown",
      "metadata": {
        "id": "DLvIv1Av2j0s",
        "colab_type": "text"
      },
      "source": [
        "## Labeling Data with Kernal density results"
      ]
    },
    {
      "cell_type": "code",
      "metadata": {
        "id": "ovV5Fo3O2nCc",
        "colab_type": "code",
        "colab": {}
      },
      "source": [
        "average_newCases_df3.head()"
      ],
      "execution_count": null,
      "outputs": []
    },
    {
      "cell_type": "code",
      "metadata": {
        "id": "ADQYgQnO4b54",
        "colab_type": "code",
        "colab": {}
      },
      "source": [
        "print(lower_range, upper_range)"
      ],
      "execution_count": null,
      "outputs": []
    },
    {
      "cell_type": "code",
      "metadata": {
        "id": "FmnJt1cZ4wdz",
        "colab_type": "code",
        "colab": {}
      },
      "source": [
        "average_newCases_df3['label'] = average_newCases_df3['percent_newcases'].apply(lambda x: 'lessSpread' if x < lower_range  else 'SuperSpread')\n"
      ],
      "execution_count": null,
      "outputs": []
    },
    {
      "cell_type": "code",
      "metadata": {
        "id": "ga0KQRi92p_b",
        "colab_type": "code",
        "colab": {}
      },
      "source": [
        "average_newCases_df3['label'] = average_newCases_df3['percent_newcases'].apply(lambda x: 'lessSpread' if x < lower_range else ('Spread' if (x >= lower_range and x <= upper_range) else 'SuperSpread'))\n",
        "\n",
        "\n",
        "\n",
        "#converter = lambda x : x*2 if x < 10 else (x*3 if x < 20 else x)\n",
        "\n"
      ],
      "execution_count": null,
      "outputs": []
    },
    {
      "cell_type": "code",
      "metadata": {
        "id": "YYyJNdWL5nXM",
        "colab_type": "code",
        "colab": {}
      },
      "source": [
        "average_newCases_df3[average_newCases_df3['label'] == 'lessSpread'].count()"
      ],
      "execution_count": null,
      "outputs": []
    },
    {
      "cell_type": "code",
      "metadata": {
        "id": "gqHeMoWR5pew",
        "colab_type": "code",
        "colab": {}
      },
      "source": [
        "average_newCases_df3[average_newCases_df3['label'] == 'Spread'].count()"
      ],
      "execution_count": null,
      "outputs": []
    },
    {
      "cell_type": "code",
      "metadata": {
        "id": "mrYy5tdz5fp9",
        "colab_type": "code",
        "colab": {}
      },
      "source": [
        "average_newCases_df3[average_newCases_df3['label'] == 'SuperSpread'].count()"
      ],
      "execution_count": null,
      "outputs": []
    },
    {
      "cell_type": "code",
      "metadata": {
        "id": "ReYy7MgO2MUr",
        "colab_type": "code",
        "colab": {}
      },
      "source": [
        "average_newCases_df3.head()"
      ],
      "execution_count": null,
      "outputs": []
    },
    {
      "cell_type": "markdown",
      "metadata": {
        "id": "RnSQQ3K7fAEe",
        "colab_type": "text"
      },
      "source": [
        "# 2.1 Loading NY - Social Distancing Inertia Maryland Data"
      ]
    },
    {
      "cell_type": "code",
      "metadata": {
        "id": "EUc48OMVfQMZ",
        "colab_type": "code",
        "colab": {}
      },
      "source": [
        "NY_combined_sd_inertia_data = pd.read_csv('/content/drive/Shared drives/CMPE 295- Master Project/Covid19-data/CA_socialDistancingInertiaData_Sep09.csv',low_memory=False)\n",
        "NY_combined_sd_inertia_data.head()"
      ],
      "execution_count": null,
      "outputs": []
    },
    {
      "cell_type": "code",
      "metadata": {
        "id": "fUBx1KbilShz",
        "colab_type": "code",
        "colab": {}
      },
      "source": [
        "NY_combined_sd_inertia_data.FIPS.unique()"
      ],
      "execution_count": null,
      "outputs": []
    },
    {
      "cell_type": "markdown",
      "metadata": {
        "colab_type": "text",
        "id": "AoJJ2t3ehdhs"
      },
      "source": [
        "## Computing rolling average"
      ]
    },
    {
      "cell_type": "code",
      "metadata": {
        "id": "-wnwz6lHhvP-",
        "colab_type": "code",
        "colab": {}
      },
      "source": [
        "NY_combined_sd_inertia_data.columns"
      ],
      "execution_count": null,
      "outputs": []
    },
    {
      "cell_type": "code",
      "metadata": {
        "colab_type": "code",
        "id": "SebGurhfhdh6",
        "colab": {}
      },
      "source": [
        "#new case column nume = 5\n",
        "NY_combined_sd_inertia_data.iloc[:,5]"
      ],
      "execution_count": null,
      "outputs": []
    },
    {
      "cell_type": "markdown",
      "metadata": {
        "id": "WwqXi78CkOhv",
        "colab_type": "text"
      },
      "source": [
        "removing comuns: \n",
        "'Confirmed', 'Deaths', 'New deaths','#days: decreasing ILI cases', '#days: decreasing COVID cases', 'New cases/1000 people', 'Imported COVID cases' ,'COVID death rate',  'Active cases/1000 people',"
      ]
    },
    {
      "cell_type": "code",
      "metadata": {
        "colab_type": "code",
        "id": "GQH2Aid_hdh-",
        "colab": {}
      },
      "source": [
        "df = pd.DataFrame(columns=['Date', 'Province_State', 'FIPS',  'New cases',\n",
        "        'mask_rule_active', 'CTFIPS', 'CTNAME', 'STFIPS',\n",
        "       'Social distancing index', '% staying home', 'Trips/person',\n",
        "       '% out-of-county trips', '% out-of-state trips', 'Miles/person',\n",
        "       'Work trips/person', 'Non-work trips/person', 'New COVID cases',\n",
        "       'Population', '% change in consumption', 'date', 'Transit mode share',\n",
        "       '% people older than 60', 'Median income', '% African Americans',\n",
        "       '% Hispanic Americans', '% Male', 'Population density',\n",
        "       'Employment density', '# hot spots/1000 people',\n",
        "       'Hospital beds/1000 people', 'ICUs/1000 people',\n",
        "       '# contact tracing workers/1000 people',\n",
        "       '# contact tracing workers/1000 people rank',\n",
        "       '% people older than 60 rank', 'COVID exposure/1000 people',\n",
        "        'Unemployment claims/1000 people',\n",
        "       'Unemployment rate', '% working from home', 'Cumulative inflation rate',\n",
        "        '% hospital bed utilization',\n",
        "       'Testing capacity', 'Tests done/1000 people', '% ICU utilization',\n",
        "       'Ventilator shortage'])\n"
      ],
      "execution_count": null,
      "outputs": []
    },
    {
      "cell_type": "code",
      "metadata": {
        "colab_type": "code",
        "id": "8bGgOZaHhdiA",
        "colab": {}
      },
      "source": [
        "NY_counties = NY_combined_sd_inertia_data['CTNAME'].unique()\n",
        "\n",
        "for county in NY_counties:\n",
        "  county_data = NY_combined_sd_inertia_data[NY_combined_sd_inertia_data['CTNAME'] == county]\n",
        "  #print(county_data.iloc[:,15])\n",
        "  county_data['rolling_avg_new_cases'] = county_data.iloc[:,5].rolling(window=7).mean()\n",
        "  df = df.append(county_data)\n",
        "\n",
        "df.head()"
      ],
      "execution_count": null,
      "outputs": []
    },
    {
      "cell_type": "code",
      "metadata": {
        "colab_type": "code",
        "id": "Eoa9dOfvhdiC",
        "colab": {}
      },
      "source": [
        "print(df.shape)\n",
        "NY_combined_sd_inertia_data.shape"
      ],
      "execution_count": null,
      "outputs": []
    },
    {
      "cell_type": "code",
      "metadata": {
        "colab_type": "code",
        "id": "J8hA2BBShdiD",
        "colab": {}
      },
      "source": [
        "NY_combined_sd_inertia_data = df.copy()\n",
        "NY_combined_sd_inertia_data"
      ],
      "execution_count": null,
      "outputs": []
    },
    {
      "cell_type": "code",
      "metadata": {
        "colab_type": "code",
        "id": "dtrhrhBOhdiH",
        "colab": {}
      },
      "source": [
        "NY_combined_sd_inertia_data.head(3)"
      ],
      "execution_count": null,
      "outputs": []
    },
    {
      "cell_type": "markdown",
      "metadata": {
        "colab_type": "text",
        "id": "a--a0HeMurvh"
      },
      "source": [
        "## clean data - fill NA "
      ]
    },
    {
      "cell_type": "code",
      "metadata": {
        "colab_type": "code",
        "id": "MfRQuH1Eurv6",
        "colab": {}
      },
      "source": [
        "NY_combined_sd_inertia_data = NY_combined_sd_inertia_data.fillna(0)\n",
        "NY_combined_sd_inertia_data.head(4)"
      ],
      "execution_count": null,
      "outputs": []
    },
    {
      "cell_type": "code",
      "metadata": {
        "colab_type": "code",
        "id": "G0Qznnx4urwG",
        "colab": {}
      },
      "source": [
        "NY_combined_sd_inertia_data['CTNAME'].unique()"
      ],
      "execution_count": null,
      "outputs": []
    },
    {
      "cell_type": "markdown",
      "metadata": {
        "colab_type": "text",
        "id": "CYCEUIy7yKtm"
      },
      "source": [
        "## verifying Rolling average with visualizations - Los Angeles County"
      ]
    },
    {
      "cell_type": "code",
      "metadata": {
        "colab_type": "code",
        "id": "3BOxC3lsyKt8",
        "colab": {}
      },
      "source": [
        "albany_county = NY_combined_sd_inertia_data[NY_combined_sd_inertia_data['CTNAME'] == 'Los Angeles County']\n",
        "print(albany_county.shape)\n",
        "albany_county.head()"
      ],
      "execution_count": null,
      "outputs": []
    },
    {
      "cell_type": "code",
      "metadata": {
        "colab_type": "code",
        "id": "t3q9I_aVyKuL",
        "colab": {}
      },
      "source": [
        "fig,ax = plt.subplots()\n",
        "# make a plot\n",
        "ax.plot(albany_county.Date, albany_county['rolling_avg_new_cases'], color=\"blue\")\n",
        "# set x-axis label\n",
        "ax.set_xlabel(\"Date\",fontsize=14)\n",
        "# set y-axis label\n",
        "ax.set_ylabel(\"rolling_avg_new_cases\",color=\"blue\",fontsize=14)\n",
        "ax2=ax.twinx()\n",
        "# make a plot with different y-axis using second axis object\n",
        "ax2.plot(albany_county.Date, albany_county[\"New cases\"],color=\"red\")\n",
        "ax2.set_ylabel(\"New cases\",color=\"blue\",fontsize=14)\n",
        "plt.title(\"'rolling_avg_new_cases' Vs New cases\")\n",
        "\n",
        "plt.show()"
      ],
      "execution_count": null,
      "outputs": []
    },
    {
      "cell_type": "code",
      "metadata": {
        "colab_type": "code",
        "id": "I0TFoCKwyKuP",
        "colab": {}
      },
      "source": [
        "suffolk_county = NY_combined_sd_inertia_data[NY_combined_sd_inertia_data['CTNAME'] == 'Alameda County']"
      ],
      "execution_count": null,
      "outputs": []
    },
    {
      "cell_type": "code",
      "metadata": {
        "colab_type": "code",
        "id": "_JYyag4pyKuS",
        "colab": {}
      },
      "source": [
        "fig,ax = plt.subplots()\n",
        "# make a plot\n",
        "ax.plot(suffolk_county.Date, suffolk_county['rolling_avg_new_cases'], color=\"blue\")\n",
        "# set x-axis label\n",
        "ax.set_xlabel(\"Date\",fontsize=14)\n",
        "# set y-axis label\n",
        "ax.set_ylabel(\"rolling_avg_new_cases\",color=\"blue\",fontsize=14)\n",
        "ax2=ax.twinx()\n",
        "# make a plot with different y-axis using second axis object\n",
        "ax2.plot(suffolk_county.Date, suffolk_county[\"New cases\"],color=\"red\")\n",
        "ax2.set_ylabel(\"New cases\",color=\"blue\",fontsize=14)\n",
        "plt.title(\"'rolling_avg_new_cases' Vs New cases\")\n",
        "\n",
        "plt.show()"
      ],
      "execution_count": null,
      "outputs": []
    },
    {
      "cell_type": "markdown",
      "metadata": {
        "colab_type": "text",
        "id": "Cv4XV4EQ6fI_"
      },
      "source": [
        "## Rolling window to compare every 2 weeks with next 2 weeks"
      ]
    },
    {
      "cell_type": "code",
      "metadata": {
        "colab_type": "code",
        "id": "X-oIRKhy6fJG",
        "colab": {}
      },
      "source": [
        "NY_combined_sd_inertia_data = NY_combined_sd_inertia_data.sort_values(by=['Date'])\n",
        "NY_combined_sd_inertia_data.head()"
      ],
      "execution_count": null,
      "outputs": []
    },
    {
      "cell_type": "code",
      "metadata": {
        "colab_type": "code",
        "id": "YX7w4Eln6fJQ",
        "colab": {}
      },
      "source": [
        "NY_combined_sd_inertia_data[NY_combined_sd_inertia_data['FIPS'] == 6001]"
      ],
      "execution_count": null,
      "outputs": []
    },
    {
      "cell_type": "code",
      "metadata": {
        "colab_type": "code",
        "id": "gIWmG8X76fJS",
        "colab": {}
      },
      "source": [
        "minDate = NY_combined_sd_inertia_data['Date'].min()\n",
        "print(minDate)\n",
        "\n",
        "dateList = NY_combined_sd_inertia_data['Date'].unique()"
      ],
      "execution_count": null,
      "outputs": []
    },
    {
      "cell_type": "code",
      "metadata": {
        "colab_type": "code",
        "id": "C91XzWPJ6fJU",
        "colab": {}
      },
      "source": [
        "import datetime\n",
        "\n",
        "#dt_object = datetime.fromtimestamp(date)\n",
        "day_name= ['Monday', 'Tuesday', 'Wednesday', 'Thursday', 'Friday', 'Saturday','Sunday']\n",
        "\n",
        "day = datetime.datetime.strptime(minDate, '%Y-%m-%d').weekday()\n",
        "if day == 6:\n",
        "  day =0\n",
        "elif day < 6:\n",
        "  day += 1\n",
        "\n",
        "print(day)"
      ],
      "execution_count": null,
      "outputs": []
    },
    {
      "cell_type": "code",
      "metadata": {
        "colab_type": "code",
        "id": "94CSfxM26fJW",
        "colab": {}
      },
      "source": [
        "index = 0\n",
        "count = 0\n",
        "lst = []\n",
        "while index < len(dateList):\n",
        "  row = []\n",
        "  j = 14 - day;\n",
        "  # print(index,j)\n",
        "  # print(dateList[index:index+j])\n",
        "  weekRange = dateList[index:index+j]\n",
        "  #print(weekRange)\n",
        "  index = index+j \n",
        "  day = 0\n",
        "  count +=1\n",
        "  row.append(count)\n",
        "  row.append(weekRange.min())\n",
        "  row.append(weekRange.max())\n",
        "  print(row)\n",
        "  lst.append(row)\n",
        "  \n"
      ],
      "execution_count": null,
      "outputs": []
    },
    {
      "cell_type": "code",
      "metadata": {
        "colab_type": "code",
        "id": "CNdYlW2q6fJY",
        "colab": {}
      },
      "source": [
        "week_df = pd.DataFrame(lst,index=None,columns=['WeekNumber','startDate','endDate'])\n",
        "week_df.head(2)"
      ],
      "execution_count": null,
      "outputs": []
    },
    {
      "cell_type": "markdown",
      "metadata": {
        "colab_type": "text",
        "id": "Tuy4Ik4f-UCV"
      },
      "source": [
        "## Slice data for the week dataframe"
      ]
    },
    {
      "cell_type": "code",
      "metadata": {
        "colab_type": "code",
        "id": "AaypyDkI-UCp",
        "colab": {}
      },
      "source": [
        "\n",
        "average_newCases_df = pd.DataFrame(columns=['CTNAME',  'FIPS',  'average_per_week','startDate','endDate'])\n",
        "\n",
        "for index, row in week_df.iterrows():\n",
        "    startDate, endDate = row['startDate'], row['endDate']\n",
        "    df_index = (NY_combined_sd_inertia_data['Date'] >= startDate) & (NY_combined_sd_inertia_data['Date'] <= endDate)\n",
        "    df_weekData =  NY_combined_sd_inertia_data.loc[df_index]\n",
        "    df_base = (\n",
        "      df_weekData\n",
        "      .pipe(lambda x: x.assign(gains_pctg=x[\"rolling_avg_new_cases\"]))\n",
        "      .groupby(['CTNAME','FIPS'])\n",
        "      .agg({\"gains_pctg\": \"mean\"})\n",
        "      .reset_index()\n",
        "      .rename(columns={\"gains_pctg\": \"average_per_week\"})\n",
        "    )\n",
        "    df_base['startDate'] = startDate\n",
        "    df_base['endDate'] = endDate\n",
        "  \n",
        "    #print(startDate,endDate,df_base['average_per_week'])\n",
        "    average_newCases_df = average_newCases_df.append(df_base)\n"
      ],
      "execution_count": null,
      "outputs": []
    },
    {
      "cell_type": "code",
      "metadata": {
        "colab_type": "code",
        "id": "uVZwCEIP-UCu",
        "colab": {}
      },
      "source": [
        "average_newCases_df.shape"
      ],
      "execution_count": null,
      "outputs": []
    },
    {
      "cell_type": "code",
      "metadata": {
        "colab_type": "code",
        "id": "GS4TxR8m-UCy",
        "colab": {}
      },
      "source": [
        "average_newCases_df[average_newCases_df['FIPS'] == 6001]"
      ],
      "execution_count": null,
      "outputs": []
    },
    {
      "cell_type": "markdown",
      "metadata": {
        "colab_type": "text",
        "id": "-2Ex41lJ_Ioy"
      },
      "source": [
        "## Verifying average per week data Eg., alameda County"
      ]
    },
    {
      "cell_type": "code",
      "metadata": {
        "colab_type": "code",
        "id": "AZDgugeW_IpJ",
        "colab": {}
      },
      "source": [
        "albany_county[(albany_county['Date'] >= '2020-03-01') & (albany_county['Date'] <= '2020-03-14') ]['rolling_avg_new_cases']\n",
        "\n"
      ],
      "execution_count": null,
      "outputs": []
    },
    {
      "cell_type": "code",
      "metadata": {
        "colab_type": "code",
        "id": "xVDTGV2H_IpS",
        "colab": {}
      },
      "source": [
        "average_newCases_df.head(10)"
      ],
      "execution_count": null,
      "outputs": []
    },
    {
      "cell_type": "markdown",
      "metadata": {
        "colab_type": "text",
        "id": "DWY0XhrgAnJi"
      },
      "source": [
        "## Finding the % growth or reduction in 'new cases' on every 2 week average"
      ]
    },
    {
      "cell_type": "code",
      "metadata": {
        "colab_type": "code",
        "id": "VIGRlYuvAnJ4",
        "colab": {}
      },
      "source": [
        "average_newCases_df_ = average_newCases_df.copy()"
      ],
      "execution_count": null,
      "outputs": []
    },
    {
      "cell_type": "code",
      "metadata": {
        "colab_type": "code",
        "id": "AI4uRLS1AnKA",
        "colab": {}
      },
      "source": [
        "albany_avg_newCases = average_newCases_df[average_newCases_df['CTNAME'] == 'Alameda County']\n",
        "albany_avg_newCases"
      ],
      "execution_count": null,
      "outputs": []
    },
    {
      "cell_type": "code",
      "metadata": {
        "colab_type": "code",
        "id": "-Emrkrq0AnKH",
        "colab": {}
      },
      "source": [
        "average_newCases_df.head()"
      ],
      "execution_count": null,
      "outputs": []
    },
    {
      "cell_type": "code",
      "metadata": {
        "colab_type": "code",
        "id": "cVnrEF78AnKL",
        "colab": {}
      },
      "source": [
        "average_newCases_df2 = average_newCases_df.copy()\n",
        "\n",
        "average_newCases_df2 = average_newCases_df2.reset_index(drop=True)\n",
        "average_newCases_df2.head()"
      ],
      "execution_count": null,
      "outputs": []
    },
    {
      "cell_type": "code",
      "metadata": {
        "colab_type": "code",
        "id": "IiC8ss74AnKN",
        "colab": {}
      },
      "source": [
        "average_newCases_df2['diff_avg_x'] = average_newCases_df2.sort_values(['startDate','endDate']).groupby(['CTNAME', 'FIPS'])['average_per_week'].diff().fillna(0)\n",
        "\n",
        "print(average_newCases_df2.shape)\n",
        "average_newCases_df2.head()\n"
      ],
      "execution_count": null,
      "outputs": []
    },
    {
      "cell_type": "code",
      "metadata": {
        "colab_type": "code",
        "id": "r--yef0xAnKQ",
        "colab": {}
      },
      "source": [
        "average_newCases_df2[average_newCases_df2['CTNAME'] == 'Santa Clara County']"
      ],
      "execution_count": null,
      "outputs": []
    },
    {
      "cell_type": "code",
      "metadata": {
        "colab_type": "code",
        "id": "s8gQX74rAnKS",
        "colab": {}
      },
      "source": [
        "average_newCases_df2[average_newCases_df2['CTNAME'] == 'Alameda County']"
      ],
      "execution_count": null,
      "outputs": []
    },
    {
      "cell_type": "code",
      "metadata": {
        "colab_type": "code",
        "id": "TZtcGezQAnKU",
        "colab": {}
      },
      "source": [
        "average_newCases_df2[average_newCases_df2['FIPS'] == 6071].head(5)"
      ],
      "execution_count": null,
      "outputs": []
    },
    {
      "cell_type": "code",
      "metadata": {
        "colab_type": "code",
        "id": "Vs-Kpj48AnKV",
        "colab": {}
      },
      "source": [
        "average_newCases_df2[average_newCases_df2['CTNAME'] == 'Santa Clara County']"
      ],
      "execution_count": null,
      "outputs": []
    },
    {
      "cell_type": "code",
      "metadata": {
        "colab_type": "code",
        "id": "uoXuOiQAAnKX",
        "colab": {}
      },
      "source": [
        "average_newCases_df2.head()"
      ],
      "execution_count": null,
      "outputs": []
    },
    {
      "cell_type": "code",
      "metadata": {
        "colab_type": "code",
        "id": "leX2lv6-AnKY",
        "colab": {}
      },
      "source": [
        "average_newCases_df2 = average_newCases_df2.fillna(0)"
      ],
      "execution_count": null,
      "outputs": []
    },
    {
      "cell_type": "code",
      "metadata": {
        "colab_type": "code",
        "id": "QcDy8yJaAnKa",
        "colab": {}
      },
      "source": [
        "average_newCases_df2.head()"
      ],
      "execution_count": null,
      "outputs": []
    },
    {
      "cell_type": "markdown",
      "metadata": {
        "colab_type": "text",
        "id": "5UOzw53YAnKd"
      },
      "source": [
        "Shifting average_per_week_x\t column value for formula. Means previous row's value will be come to the current row."
      ]
    },
    {
      "cell_type": "code",
      "metadata": {
        "colab_type": "code",
        "id": "gNFEYxzqAnKd",
        "colab": {}
      },
      "source": [
        "average_newCases_df2['shift_avg_x'] = average_newCases_df2.sort_values(['startDate','endDate']).groupby(['CTNAME', 'FIPS'])['average_per_week'].shift()"
      ],
      "execution_count": null,
      "outputs": []
    },
    {
      "cell_type": "code",
      "metadata": {
        "colab_type": "code",
        "id": "b8mWCN7dAnKf",
        "colab": {}
      },
      "source": [
        "average_newCases_df2.groupby(by=['CTNAME', 'FIPS','startDate','endDate']).sum()"
      ],
      "execution_count": null,
      "outputs": []
    },
    {
      "cell_type": "code",
      "metadata": {
        "colab_type": "code",
        "id": "BBnsrDeeAnKg",
        "colab": {}
      },
      "source": [
        "average_newCases_df2[average_newCases_df2['CTNAME'] == 'Santa Clara County']"
      ],
      "execution_count": null,
      "outputs": []
    },
    {
      "cell_type": "code",
      "metadata": {
        "colab_type": "code",
        "id": "rJtRMscrAnKi",
        "colab": {}
      },
      "source": [
        "average_newCases_df2['percent_newcases'] = average_newCases_df2.apply(lambda x: (x.diff_avg_x) / x.shift_avg_x if x.shift_avg_x > 0.0 else 0 , axis=1)\n",
        "\n",
        "\n",
        "average_newCases_df2.tail()\n"
      ],
      "execution_count": null,
      "outputs": []
    },
    {
      "cell_type": "code",
      "metadata": {
        "colab_type": "code",
        "id": "boPF_L6FAnKj",
        "colab": {}
      },
      "source": [
        "average_newCases_df2[average_newCases_df2['CTNAME'] == 'Santa Clara County']"
      ],
      "execution_count": null,
      "outputs": []
    },
    {
      "cell_type": "markdown",
      "metadata": {
        "colab_type": "text",
        "id": "CB92gyiDDg4w"
      },
      "source": [
        "# 2.2 Labeling data as per % change"
      ]
    },
    {
      "cell_type": "code",
      "metadata": {
        "colab_type": "code",
        "id": "QoiepWAoDg5B",
        "colab": {}
      },
      "source": [
        "average_newCases_df2.describe()"
      ],
      "execution_count": null,
      "outputs": []
    },
    {
      "cell_type": "code",
      "metadata": {
        "colab_type": "code",
        "id": "f2hWwHsvDg5L",
        "colab": {}
      },
      "source": [
        "albany_county = average_newCases_df2[average_newCases_df2['CTNAME'] == 'Los Angeles County']"
      ],
      "execution_count": null,
      "outputs": []
    },
    {
      "cell_type": "code",
      "metadata": {
        "colab_type": "code",
        "id": "aBQ92WY9Dg5P",
        "colab": {}
      },
      "source": [
        "fig,ax = plt.subplots()\n",
        "# make a plot\n",
        "ax.plot(albany_county.startDate, albany_county['percent_newcases'], color=\"blue\")\n",
        "# set x-axis label\n",
        "ax.set_xlabel(\"Date\",fontsize=14)\n",
        "# set y-axis label\n",
        "ax.set_ylabel(\"percent_newcases\",color=\"blue\",fontsize=14)\n",
        "# ax2=ax.twinx()\n",
        "# make a plot with different y-axis using second axis object\n",
        "# ax2.plot(albany_county.startDate, albany_county[\"percent_newcases\"],color=\"red\")\n",
        "# ax2.set_ylabel(\"New cases\",color=\"blue\",fontsize=14)\n",
        "plt.title(\"'percent_newcases'\")\n",
        "\n",
        "plt.show()"
      ],
      "execution_count": null,
      "outputs": []
    },
    {
      "cell_type": "code",
      "metadata": {
        "colab_type": "code",
        "id": "NMV0Da2bDg5T",
        "colab": {}
      },
      "source": [
        "data = average_newCases_df2['percent_newcases'].to_list()\n",
        "\n",
        "print(data)\n"
      ],
      "execution_count": null,
      "outputs": []
    },
    {
      "cell_type": "code",
      "metadata": {
        "colab_type": "code",
        "id": "nY-QOaNYDg5X",
        "colab": {}
      },
      "source": [
        "average_newCases_df3 = average_newCases_df2.copy().reset_index(drop=True)"
      ],
      "execution_count": null,
      "outputs": []
    },
    {
      "cell_type": "markdown",
      "metadata": {
        "colab_type": "text",
        "id": "t8tIyWqfDg5b"
      },
      "source": [
        "## Jenks Natural breaks "
      ]
    },
    {
      "cell_type": "code",
      "metadata": {
        "colab_type": "code",
        "id": "9xtFTIcCDg5b",
        "colab": {}
      },
      "source": [
        "!pip install jenkspy\n"
      ],
      "execution_count": null,
      "outputs": []
    },
    {
      "cell_type": "code",
      "metadata": {
        "colab_type": "code",
        "id": "Ystn74C2Dg5e",
        "colab": {}
      },
      "source": [
        "import jenkspy\n",
        "\n",
        "breaks = jenkspy.jenks_breaks(average_newCases_df2['percent_newcases'], nb_class=3)\n",
        "print(breaks)"
      ],
      "execution_count": null,
      "outputs": []
    },
    {
      "cell_type": "markdown",
      "metadata": {
        "colab_type": "text",
        "id": "RYHAliDBDg5l"
      },
      "source": [
        "### Labeling criteria\n",
        "\n",
        "We have applied \"jenks Natural breaks' to label the county data as per 'percent change in cases'\n",
        "\n",
        "From the natural break algorithm, we have splited the data as follows \n",
        "\n",
        "* -1.136 to 3.642 is **label 1** (least chance of spreading) \n",
        "\n",
        "* 3.642 to 13.625 is **label 2** (Below threshold but chances to reach super spread level)\n",
        "\n",
        "* 13.625 to 410.181818 is **label 3** (Super spread week)"
      ]
    },
    {
      "cell_type": "markdown",
      "metadata": {
        "id": "szrkUcCjIRVV",
        "colab_type": "text"
      },
      "source": [
        "4 class labeling"
      ]
    },
    {
      "cell_type": "code",
      "metadata": {
        "colab_type": "code",
        "id": "yo2DmKmODg5g",
        "colab": {}
      },
      "source": [
        "import jenkspy\n",
        "\n",
        "breaks = jenkspy.jenks_breaks(average_newCases_df2['percent_newcases'], nb_class=4)\n",
        "print(breaks)"
      ],
      "execution_count": null,
      "outputs": []
    },
    {
      "cell_type": "code",
      "metadata": {
        "colab_type": "code",
        "id": "z_X2UYUzDg5l",
        "colab": {}
      },
      "source": [
        "average_newCases_df2['labels'] = pd.cut(average_newCases_df2['percent_newcases'],\n",
        "                        bins=breaks,\n",
        "                        labels=['LessSpread','Spread', 'SuperSpread','SuperSpread2'])"
      ],
      "execution_count": null,
      "outputs": []
    },
    {
      "cell_type": "code",
      "metadata": {
        "colab_type": "code",
        "id": "5jCcF-cnDg5p",
        "colab": {}
      },
      "source": [
        "print('Number of records in LessSpread:',average_newCases_df2[average_newCases_df2['labels'] == 'LessSpread']['CTNAME'].count())\n",
        "print('Number of records in Spread:',average_newCases_df2[average_newCases_df2['labels'] == 'Spread']['CTNAME'].count())\n",
        "print('Number of records in SuperSpread:',average_newCases_df2[average_newCases_df2['labels'] == 'SuperSpread']['CTNAME'].count())\n",
        "\n",
        "print('Number of records in SuperSpread:',average_newCases_df2[average_newCases_df2['labels'] == 'SuperSpread2']['CTNAME'].count())"
      ],
      "execution_count": null,
      "outputs": []
    },
    {
      "cell_type": "markdown",
      "metadata": {
        "id": "y7WRtWRSIXsn",
        "colab_type": "text"
      },
      "source": [
        "8 class labeling"
      ]
    },
    {
      "cell_type": "code",
      "metadata": {
        "id": "8NoMR0xnHrFm",
        "colab_type": "code",
        "colab": {}
      },
      "source": [
        "breaks = jenkspy.jenks_breaks(average_newCases_df2['percent_newcases'], nb_class=8)\n",
        "print(breaks)"
      ],
      "execution_count": null,
      "outputs": []
    },
    {
      "cell_type": "code",
      "metadata": {
        "colab_type": "code",
        "id": "PD7KoFEEDg5n",
        "colab": {}
      },
      "source": [
        "average_newCases_df2['labels'] = pd.cut(average_newCases_df2['percent_newcases'],\n",
        "                        bins=breaks,\n",
        "                        labels=['LessSpread','Spread', 'SuperSpread1','SuperSpread2','SuperSpread3','SuperSpread4','SuperSpread5','SuperSpread6'])"
      ],
      "execution_count": null,
      "outputs": []
    },
    {
      "cell_type": "code",
      "metadata": {
        "colab_type": "code",
        "id": "2oL-Lg9VDg5q",
        "colab": {}
      },
      "source": [
        "print('Number of records in LessSpread:',average_newCases_df2[average_newCases_df2['labels'] == 'LessSpread']['CTNAME'].count())\n",
        "print('Number of records in Spread:',average_newCases_df2[average_newCases_df2['labels'] == 'Spread']['CTNAME'].count())\n",
        "print('Number of records in SuperSpread:',average_newCases_df2[average_newCases_df2['labels'] == 'SuperSpread1']['CTNAME'].count())\n",
        "print('Number of records in SuperSpread2:',average_newCases_df2[average_newCases_df2['labels'] == 'SuperSpread2']['CTNAME'].count())\n",
        "print('Number of records in SuperSpread3:',average_newCases_df2[average_newCases_df2['labels'] == 'SuperSpread3']['CTNAME'].count())\n",
        "print('Number of records in SuperSpread4:',average_newCases_df2[average_newCases_df2['labels'] == 'SuperSpread4']['CTNAME'].count())\n",
        "print('Number of records in SuperSpread5:',average_newCases_df2[average_newCases_df2['labels'] == 'SuperSpread5']['CTNAME'].count())\n",
        "print('Number of records in SuperSpread6:',average_newCases_df2[average_newCases_df2['labels'] == 'SuperSpread6']['CTNAME'].count())"
      ],
      "execution_count": null,
      "outputs": []
    },
    {
      "cell_type": "code",
      "metadata": {
        "colab_type": "code",
        "id": "CaLTNiYpDg5s",
        "colab": {}
      },
      "source": [
        "average_newCases_df2.head()"
      ],
      "execution_count": null,
      "outputs": []
    },
    {
      "cell_type": "markdown",
      "metadata": {
        "colab_type": "text",
        "id": "FSbnoyQHDmNr"
      },
      "source": [
        "# 2.3 Labeling data for CA -Maryland Social Distancing Inertia combined"
      ]
    },
    {
      "cell_type": "code",
      "metadata": {
        "colab_type": "code",
        "id": "YtAQAPzpDmN0",
        "colab": {}
      },
      "source": [
        "NY_combined_sd_inertia_data.head(2)"
      ],
      "execution_count": null,
      "outputs": []
    },
    {
      "cell_type": "code",
      "metadata": {
        "colab_type": "code",
        "id": "wEgoVgE_DmN6",
        "colab": {}
      },
      "source": [
        "NY_combined_sd_inertia_data_ = NY_combined_sd_inertia_data.copy()"
      ],
      "execution_count": null,
      "outputs": []
    },
    {
      "cell_type": "code",
      "metadata": {
        "colab_type": "code",
        "id": "n6gelhrqDmN8",
        "colab": {}
      },
      "source": [
        "NY_combined_sd_inertia_data = NY_combined_sd_inertia_data_.copy().reset_index(drop=True)"
      ],
      "execution_count": null,
      "outputs": []
    },
    {
      "cell_type": "code",
      "metadata": {
        "colab_type": "code",
        "id": "sRqOVVm4DmN-",
        "colab": {}
      },
      "source": [
        "#average_newCases_df = pd.DataFrame(columns=['County Name',  'fips_x',  'average_per_week','startDate','endDate'])\n",
        "\n",
        "for index, row in (average_newCases_df2.iterrows()):\n",
        "    startDate, endDate = row['startDate'], row['endDate']\n",
        "    fips = row['FIPS']\n",
        "    #print(startDate,endDate,fips)\n",
        "    df_index = (NY_combined_sd_inertia_data['FIPS'] == row['FIPS']) & (NY_combined_sd_inertia_data['Date'] >= startDate) & (NY_combined_sd_inertia_data['Date'] <= endDate)\n",
        "    df_weekData =  NY_combined_sd_inertia_data.loc[df_index]\n",
        "    #print(df_weekData)\n",
        "    NY_combined_sd_inertia_data.loc[df_index,'label'] = row['labels']\n",
        "\n",
        "\n"
      ],
      "execution_count": null,
      "outputs": []
    },
    {
      "cell_type": "code",
      "metadata": {
        "colab_type": "code",
        "id": "tdloE2MXDmOB",
        "colab": {}
      },
      "source": [
        "NY_combined_sd_inertia_data.head(5)"
      ],
      "execution_count": null,
      "outputs": []
    },
    {
      "cell_type": "code",
      "metadata": {
        "colab_type": "code",
        "id": "DtVoVGgGDmOD",
        "colab": {}
      },
      "source": [
        "NY_combined_sd_inertia_data[NY_combined_sd_inertia_data['label'] == 'SuperSpread2'].sort_values(by=['FIPS','Date']).count()"
      ],
      "execution_count": null,
      "outputs": []
    },
    {
      "cell_type": "code",
      "metadata": {
        "colab_type": "code",
        "id": "iCfthn2-DmOE",
        "colab": {}
      },
      "source": [
        "NY_combined_sd_inertia_data.shape"
      ],
      "execution_count": null,
      "outputs": []
    },
    {
      "cell_type": "code",
      "metadata": {
        "colab_type": "code",
        "id": "11KH6RxNDmOG",
        "colab": {}
      },
      "source": [
        "NY_combined_sd_inertia_data['label'] = NY_combined_sd_inertia_data['label'].apply(lambda x: x if x != 'SuperSpread2' else 'SuperSpread')\n",
        "\n",
        "\n"
      ],
      "execution_count": null,
      "outputs": []
    },
    {
      "cell_type": "markdown",
      "metadata": {
        "id": "3mVcnzF6qQ74",
        "colab_type": "text"
      },
      "source": [
        "### Save CA- Marlyland labeled Data"
      ]
    },
    {
      "cell_type": "code",
      "metadata": {
        "colab_type": "code",
        "id": "TIm2P7cDDmOH",
        "colab": {}
      },
      "source": [
        "from datetime import datetime\n",
        "\n",
        "filename = 'CA_sd_inertia_labeledData_'+datetime.now().strftime(\"%b%d\") #%Y%m%d\n",
        "print(filename)\n",
        "NY_combined_sd_inertia_data.to_csv(filename,index=False)"
      ],
      "execution_count": null,
      "outputs": []
    },
    {
      "cell_type": "code",
      "metadata": {
        "colab_type": "code",
        "id": "LcFFdnyfDmOJ",
        "colab": {}
      },
      "source": [
        "average_newCases_df2[average_newCases_df2['labels'] == 'SuperSpread']"
      ],
      "execution_count": null,
      "outputs": []
    },
    {
      "cell_type": "markdown",
      "metadata": {
        "colab_type": "text",
        "id": "bhXWeRYLDmOK"
      },
      "source": [
        "## Kernal Density Estimation"
      ]
    },
    {
      "cell_type": "code",
      "metadata": {
        "colab_type": "code",
        "id": "6E7V-zX3DmOK",
        "colab": {}
      },
      "source": [
        "%matplotlib inline\n",
        "\n",
        "from numpy import array, linspace\n",
        "from sklearn.neighbors.kde import KernelDensity\n",
        "from matplotlib.pyplot import plot\n",
        "\n",
        "a = array(data).reshape(-1, 1)\n",
        "kde = KernelDensity(kernel='gaussian', bandwidth=3).fit(a)\n",
        "s = linspace(0,50)\n",
        "e = kde.score_samples(s.reshape(-1,1))\n",
        "plot(s, e)"
      ],
      "execution_count": null,
      "outputs": []
    },
    {
      "cell_type": "code",
      "metadata": {
        "colab_type": "code",
        "id": "TXzZnc3zDmOM",
        "colab": {}
      },
      "source": [
        "\n",
        "\n",
        "from scipy.signal import argrelextrema\n",
        "mi, ma = argrelextrema(e, np.less)[0], argrelextrema(e, np.greater)[0]\n",
        "print(\"Minima:\", s[mi])\n",
        "print(\"Maxima:\", s[ma])"
      ],
      "execution_count": null,
      "outputs": []
    },
    {
      "cell_type": "code",
      "metadata": {
        "colab_type": "code",
        "id": "2nWMV5PxDmOO",
        "colab": {}
      },
      "source": [
        "lower_range = s[mi][0]\n",
        "upper_range = s[mi][1]\n",
        "\n",
        "lower_range"
      ],
      "execution_count": null,
      "outputs": []
    },
    {
      "cell_type": "code",
      "metadata": {
        "colab_type": "code",
        "id": "CNNUo3H3DmOQ",
        "colab": {}
      },
      "source": [
        "print(a[a < mi[0]], a[(a >= mi[0]) * (a <= mi[1])], a[a >= mi[1]])\n"
      ],
      "execution_count": null,
      "outputs": []
    },
    {
      "cell_type": "markdown",
      "metadata": {
        "colab_type": "text",
        "id": "OKW5GbptDmOR"
      },
      "source": [
        "[-1.1363636363636362, 39.5, 213.91325695581014, 410.1818181818182]"
      ]
    },
    {
      "cell_type": "markdown",
      "metadata": {
        "colab_type": "text",
        "id": "20G9vN0IDmOR"
      },
      "source": [
        "Minima: [19.3877551  33.67346939]\n",
        "Maxima: [24.48979592 39.79591837]*italicized text*"
      ]
    },
    {
      "cell_type": "code",
      "metadata": {
        "colab_type": "code",
        "id": "Gt4GntGnDmOS",
        "colab": {}
      },
      "source": [
        "plot(s[:mi[0]+1], e[:mi[0]+1], 'r',\n",
        "     s[mi[0]:mi[1]+1], e[mi[0]:mi[1]+1], 'g',\n",
        "     s[mi[1]:], e[mi[1]:], 'b',\n",
        "     s[ma], e[ma], 'go',\n",
        "     s[mi], e[mi], 'ro')"
      ],
      "execution_count": null,
      "outputs": []
    },
    {
      "cell_type": "markdown",
      "metadata": {
        "colab_type": "text",
        "id": "0UtkB-ScDmOT"
      },
      "source": [
        "print(a[a < mi[0]], a[(a >= mi[0]) * (a <= mi[1])], a[a >= mi[1]])\n"
      ]
    },
    {
      "cell_type": "markdown",
      "metadata": {
        "colab_type": "text",
        "id": "Fh1oil7DDmOT"
      },
      "source": [
        "## Labeling Data with Kernal density results"
      ]
    },
    {
      "cell_type": "code",
      "metadata": {
        "colab_type": "code",
        "id": "isRxL9xbDmOT",
        "colab": {}
      },
      "source": [
        "average_newCases_df3.head()"
      ],
      "execution_count": null,
      "outputs": []
    },
    {
      "cell_type": "code",
      "metadata": {
        "colab_type": "code",
        "id": "BowTKmD4DmOV",
        "colab": {}
      },
      "source": [
        "print(lower_range, upper_range)"
      ],
      "execution_count": null,
      "outputs": []
    },
    {
      "cell_type": "code",
      "metadata": {
        "colab_type": "code",
        "id": "A2dPwoXqDmOW",
        "colab": {}
      },
      "source": [
        "average_newCases_df3['label'] = average_newCases_df3['percent_newcases'].apply(lambda x: 'lessSpread' if x < lower_range  else 'SuperSpread')\n"
      ],
      "execution_count": null,
      "outputs": []
    },
    {
      "cell_type": "code",
      "metadata": {
        "colab_type": "code",
        "id": "8jKv8_mjDmOX",
        "colab": {}
      },
      "source": [
        "average_newCases_df3['label'] = average_newCases_df3['percent_newcases'].apply(lambda x: 'lessSpread' if x < lower_range else ('Spread' if (x >= lower_range and x <= upper_range) else 'SuperSpread'))\n",
        "\n",
        "\n",
        "\n",
        "#converter = lambda x : x*2 if x < 10 else (x*3 if x < 20 else x)\n",
        "\n"
      ],
      "execution_count": null,
      "outputs": []
    },
    {
      "cell_type": "code",
      "metadata": {
        "colab_type": "code",
        "id": "keersvD3DmOZ",
        "colab": {}
      },
      "source": [
        "average_newCases_df3[average_newCases_df3['label'] == 'lessSpread'].count()"
      ],
      "execution_count": null,
      "outputs": []
    },
    {
      "cell_type": "code",
      "metadata": {
        "colab_type": "code",
        "id": "PkO7WKp4DmOb",
        "colab": {}
      },
      "source": [
        "average_newCases_df3[average_newCases_df3['label'] == 'Spread'].count()"
      ],
      "execution_count": null,
      "outputs": []
    },
    {
      "cell_type": "code",
      "metadata": {
        "colab_type": "code",
        "id": "r01ffwjEDmOc",
        "colab": {}
      },
      "source": [
        "average_newCases_df3[average_newCases_df3['label'] == 'SuperSpread'].count()"
      ],
      "execution_count": null,
      "outputs": []
    },
    {
      "cell_type": "code",
      "metadata": {
        "colab_type": "code",
        "id": "QOWiSktdDmOd",
        "colab": {}
      },
      "source": [
        "average_newCases_df3.head()"
      ],
      "execution_count": null,
      "outputs": []
    }
  ]
}