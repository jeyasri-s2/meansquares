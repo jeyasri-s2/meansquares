{
 "cells": [
  {
   "cell_type": "code",
   "execution_count": 1,
   "metadata": {},
   "outputs": [],
   "source": [
    "import pandas as pd\n",
    "import os\n",
    "import geopandas as gpd\n",
    "import numpy as np"
   ]
  },
  {
   "cell_type": "code",
   "execution_count": 2,
   "metadata": {},
   "outputs": [
    {
     "output_type": "stream",
     "name": "stdout",
     "text": [
      " Volume in drive C has no label.\n Volume Serial Number is 2E4D-F196\n\n Directory of c:\\Users\\Pranav Lodha\\Documents\\Github\\mean-square-webapp\\CA_Counties\n\n04/10/2021  03:26 PM    <DIR>          .\n04/10/2021  03:26 PM    <DIR>          ..\n02/16/2021  07:45 AM                 5 CA_Counties_TIGER2016.cpg\n02/16/2021  07:45 AM            17,572 CA_Counties_TIGER2016.dbf\n02/16/2021  07:45 AM               425 CA_Counties_TIGER2016.prj\n02/16/2021  07:45 AM               732 CA_Counties_TIGER2016.sbn\n02/16/2021  07:45 AM               164 CA_Counties_TIGER2016.sbx\n02/16/2021  07:45 AM         3,852,848 CA_Counties_TIGER2016.shp\n02/16/2021  07:45 AM            24,198 CA_Counties_TIGER2016.shp.xml\n02/16/2021  07:45 AM               564 CA_Counties_TIGER2016.shx\n02/16/2021  07:45 AM         1,395,490 CA_CovidDataJan10.csv\n               9 File(s)      5,291,998 bytes\n               2 Dir(s)  883,305,431,040 bytes free\n"
     ]
    }
   ],
   "source": [
    "!dir CA_Counties"
   ]
  },
  {
   "source": [
    "## Load data"
   ],
   "cell_type": "markdown",
   "metadata": {}
  },
  {
   "source": [
    "### Prep Data"
   ],
   "cell_type": "markdown",
   "metadata": {}
  },
  {
   "cell_type": "code",
   "execution_count": 3,
   "metadata": {},
   "outputs": [
    {
     "output_type": "execute_result",
     "data": {
      "text/plain": [
       "         Date Province_State  FIPS  New Cases/100k population  \\\n",
       "0  2021-02-01        Alabama  1001                  25.058619   \n",
       "1  2021-02-02        Alabama  1001                  71.596055   \n",
       "2  2021-02-03        Alabama  1001                  53.697041   \n",
       "3  2021-02-04        Alabama  1001                 103.814280   \n",
       "4  2021-02-05        Alabama  1001                  23.268718   \n",
       "\n",
       "   daily_growth_range growth_label_estimate  \n",
       "0            0.000000              nochange  \n",
       "1           46.537436            widespread  \n",
       "2          -17.899014               minimal  \n",
       "3           50.117239            widespread  \n",
       "4          -80.545562               minimal  "
      ],
      "text/html": "<div>\n<style scoped>\n    .dataframe tbody tr th:only-of-type {\n        vertical-align: middle;\n    }\n\n    .dataframe tbody tr th {\n        vertical-align: top;\n    }\n\n    .dataframe thead th {\n        text-align: right;\n    }\n</style>\n<table border=\"1\" class=\"dataframe\">\n  <thead>\n    <tr style=\"text-align: right;\">\n      <th></th>\n      <th>Date</th>\n      <th>Province_State</th>\n      <th>FIPS</th>\n      <th>New Cases/100k population</th>\n      <th>daily_growth_range</th>\n      <th>growth_label_estimate</th>\n    </tr>\n  </thead>\n  <tbody>\n    <tr>\n      <th>0</th>\n      <td>2021-02-01</td>\n      <td>Alabama</td>\n      <td>1001</td>\n      <td>25.058619</td>\n      <td>0.000000</td>\n      <td>nochange</td>\n    </tr>\n    <tr>\n      <th>1</th>\n      <td>2021-02-02</td>\n      <td>Alabama</td>\n      <td>1001</td>\n      <td>71.596055</td>\n      <td>46.537436</td>\n      <td>widespread</td>\n    </tr>\n    <tr>\n      <th>2</th>\n      <td>2021-02-03</td>\n      <td>Alabama</td>\n      <td>1001</td>\n      <td>53.697041</td>\n      <td>-17.899014</td>\n      <td>minimal</td>\n    </tr>\n    <tr>\n      <th>3</th>\n      <td>2021-02-04</td>\n      <td>Alabama</td>\n      <td>1001</td>\n      <td>103.814280</td>\n      <td>50.117239</td>\n      <td>widespread</td>\n    </tr>\n    <tr>\n      <th>4</th>\n      <td>2021-02-05</td>\n      <td>Alabama</td>\n      <td>1001</td>\n      <td>23.268718</td>\n      <td>-80.545562</td>\n      <td>minimal</td>\n    </tr>\n  </tbody>\n</table>\n</div>"
     },
     "metadata": {},
     "execution_count": 3
    }
   ],
   "source": [
    "data = pd.read_csv('UScounties\\data_labeled_Apr23.csv',low_memory=False)\n",
    "data.head()"
   ]
  },
  {
   "cell_type": "code",
   "execution_count": 4,
   "metadata": {},
   "outputs": [
    {
     "output_type": "execute_result",
     "data": {
      "text/plain": [
       "              Date Province_State   FIPS  New Cases/100k population  \\\n",
       "289421  2021-05-01        Wyoming  56045                   0.295701   \n",
       "289422  2021-05-02        Wyoming  56045                   0.297334   \n",
       "289423  2021-05-03        Wyoming  56045                   1.180997   \n",
       "289424  2021-05-04        Wyoming  56045                   1.341487   \n",
       "289425  2021-05-05        Wyoming  56045                   2.279992   \n",
       "\n",
       "        daily_growth_range growth_label_estimate  \n",
       "289421           -0.525658              nochange  \n",
       "289422            0.001633              nochange  \n",
       "289423            0.883663              nochange  \n",
       "289424            0.160490              nochange  \n",
       "289425            0.938506              nochange  "
      ],
      "text/html": "<div>\n<style scoped>\n    .dataframe tbody tr th:only-of-type {\n        vertical-align: middle;\n    }\n\n    .dataframe tbody tr th {\n        vertical-align: top;\n    }\n\n    .dataframe thead th {\n        text-align: right;\n    }\n</style>\n<table border=\"1\" class=\"dataframe\">\n  <thead>\n    <tr style=\"text-align: right;\">\n      <th></th>\n      <th>Date</th>\n      <th>Province_State</th>\n      <th>FIPS</th>\n      <th>New Cases/100k population</th>\n      <th>daily_growth_range</th>\n      <th>growth_label_estimate</th>\n    </tr>\n  </thead>\n  <tbody>\n    <tr>\n      <th>289421</th>\n      <td>2021-05-01</td>\n      <td>Wyoming</td>\n      <td>56045</td>\n      <td>0.295701</td>\n      <td>-0.525658</td>\n      <td>nochange</td>\n    </tr>\n    <tr>\n      <th>289422</th>\n      <td>2021-05-02</td>\n      <td>Wyoming</td>\n      <td>56045</td>\n      <td>0.297334</td>\n      <td>0.001633</td>\n      <td>nochange</td>\n    </tr>\n    <tr>\n      <th>289423</th>\n      <td>2021-05-03</td>\n      <td>Wyoming</td>\n      <td>56045</td>\n      <td>1.180997</td>\n      <td>0.883663</td>\n      <td>nochange</td>\n    </tr>\n    <tr>\n      <th>289424</th>\n      <td>2021-05-04</td>\n      <td>Wyoming</td>\n      <td>56045</td>\n      <td>1.341487</td>\n      <td>0.160490</td>\n      <td>nochange</td>\n    </tr>\n    <tr>\n      <th>289425</th>\n      <td>2021-05-05</td>\n      <td>Wyoming</td>\n      <td>56045</td>\n      <td>2.279992</td>\n      <td>0.938506</td>\n      <td>nochange</td>\n    </tr>\n  </tbody>\n</table>\n</div>"
     },
     "metadata": {},
     "execution_count": 4
    }
   ],
   "source": [
    "data.tail()"
   ]
  },
  {
   "cell_type": "code",
   "execution_count": 5,
   "metadata": {},
   "outputs": [
    {
     "output_type": "stream",
     "name": "stderr",
     "text": [
      "<ipython-input-5-f33a004d4f93>:2: FutureWarning: weekofyear and week have been deprecated, please use DatetimeIndex.isocalendar().week instead, which returns a Series.  To exactly reproduce the behavior of week and weekofyear and return an Index, you may call pd.Int64Index(idx.isocalendar().week)\n  data['week'] = pd.DatetimeIndex(data['Date']).week\n"
     ]
    },
    {
     "output_type": "execute_result",
     "data": {
      "text/plain": [
       "         Date Province_State  FIPS  New Cases/100k population  \\\n",
       "0  2021-02-01        Alabama  1001                  25.058619   \n",
       "1  2021-02-02        Alabama  1001                  71.596055   \n",
       "2  2021-02-03        Alabama  1001                  53.697041   \n",
       "3  2021-02-04        Alabama  1001                 103.814280   \n",
       "4  2021-02-05        Alabama  1001                  23.268718   \n",
       "\n",
       "   daily_growth_range growth_label_estimate  month  week  growth_label  \n",
       "0            0.000000              nochange      2     5             1  \n",
       "1           46.537436            widespread      2     5             2  \n",
       "2          -17.899014               minimal      2     5             0  \n",
       "3           50.117239            widespread      2     5             2  \n",
       "4          -80.545562               minimal      2     5             0  "
      ],
      "text/html": "<div>\n<style scoped>\n    .dataframe tbody tr th:only-of-type {\n        vertical-align: middle;\n    }\n\n    .dataframe tbody tr th {\n        vertical-align: top;\n    }\n\n    .dataframe thead th {\n        text-align: right;\n    }\n</style>\n<table border=\"1\" class=\"dataframe\">\n  <thead>\n    <tr style=\"text-align: right;\">\n      <th></th>\n      <th>Date</th>\n      <th>Province_State</th>\n      <th>FIPS</th>\n      <th>New Cases/100k population</th>\n      <th>daily_growth_range</th>\n      <th>growth_label_estimate</th>\n      <th>month</th>\n      <th>week</th>\n      <th>growth_label</th>\n    </tr>\n  </thead>\n  <tbody>\n    <tr>\n      <th>0</th>\n      <td>2021-02-01</td>\n      <td>Alabama</td>\n      <td>1001</td>\n      <td>25.058619</td>\n      <td>0.000000</td>\n      <td>nochange</td>\n      <td>2</td>\n      <td>5</td>\n      <td>1</td>\n    </tr>\n    <tr>\n      <th>1</th>\n      <td>2021-02-02</td>\n      <td>Alabama</td>\n      <td>1001</td>\n      <td>71.596055</td>\n      <td>46.537436</td>\n      <td>widespread</td>\n      <td>2</td>\n      <td>5</td>\n      <td>2</td>\n    </tr>\n    <tr>\n      <th>2</th>\n      <td>2021-02-03</td>\n      <td>Alabama</td>\n      <td>1001</td>\n      <td>53.697041</td>\n      <td>-17.899014</td>\n      <td>minimal</td>\n      <td>2</td>\n      <td>5</td>\n      <td>0</td>\n    </tr>\n    <tr>\n      <th>3</th>\n      <td>2021-02-04</td>\n      <td>Alabama</td>\n      <td>1001</td>\n      <td>103.814280</td>\n      <td>50.117239</td>\n      <td>widespread</td>\n      <td>2</td>\n      <td>5</td>\n      <td>2</td>\n    </tr>\n    <tr>\n      <th>4</th>\n      <td>2021-02-05</td>\n      <td>Alabama</td>\n      <td>1001</td>\n      <td>23.268718</td>\n      <td>-80.545562</td>\n      <td>minimal</td>\n      <td>2</td>\n      <td>5</td>\n      <td>0</td>\n    </tr>\n  </tbody>\n</table>\n</div>"
     },
     "metadata": {},
     "execution_count": 5
    }
   ],
   "source": [
    "data['month'] = pd.DatetimeIndex(data['Date']).month\n",
    "data['week'] = pd.DatetimeIndex(data['Date']).week\n",
    "data['growth_label'] = pd.Categorical(data['growth_label_estimate']).codes\n",
    "data.head()"
   ]
  },
  {
   "cell_type": "code",
   "execution_count": 6,
   "metadata": {},
   "outputs": [
    {
     "output_type": "stream",
     "name": "stdout",
     "text": [
      "(43106, 3)\n"
     ]
    },
    {
     "output_type": "execute_result",
     "data": {
      "text/plain": [
       "   FIPS week  New Cases/100k population\n",
       "0  1001    5                  51.140039\n",
       "1  1003    5                  38.204626\n",
       "2  1005    5                  32.985729\n",
       "3  1007    5                  20.413631\n",
       "4  1009    5                  49.903405"
      ],
      "text/html": "<div>\n<style scoped>\n    .dataframe tbody tr th:only-of-type {\n        vertical-align: middle;\n    }\n\n    .dataframe tbody tr th {\n        vertical-align: top;\n    }\n\n    .dataframe thead th {\n        text-align: right;\n    }\n</style>\n<table border=\"1\" class=\"dataframe\">\n  <thead>\n    <tr style=\"text-align: right;\">\n      <th></th>\n      <th>FIPS</th>\n      <th>week</th>\n      <th>New Cases/100k population</th>\n    </tr>\n  </thead>\n  <tbody>\n    <tr>\n      <th>0</th>\n      <td>1001</td>\n      <td>5</td>\n      <td>51.140039</td>\n    </tr>\n    <tr>\n      <th>1</th>\n      <td>1003</td>\n      <td>5</td>\n      <td>38.204626</td>\n    </tr>\n    <tr>\n      <th>2</th>\n      <td>1005</td>\n      <td>5</td>\n      <td>32.985729</td>\n    </tr>\n    <tr>\n      <th>3</th>\n      <td>1007</td>\n      <td>5</td>\n      <td>20.413631</td>\n    </tr>\n    <tr>\n      <th>4</th>\n      <td>1009</td>\n      <td>5</td>\n      <td>49.903405</td>\n    </tr>\n  </tbody>\n</table>\n</div>"
     },
     "metadata": {},
     "execution_count": 6
    }
   ],
   "source": [
    "df = data.pipe(lambda x: x.assign(month=x.week)).reset_index(drop=True).pivot_table(values='New Cases/100k population', columns='week', index='FIPS', aggfunc='mean').rename_axis(None, axis=1).reset_index()\n",
    "weekly_data = (df.melt(id_vars='FIPS', value_vars=data['week'].unique()).rename(columns={\"variable\": \"week\", \"value\": \"New Cases/100k population\"}))\n",
    "print(weekly_data.shape)\n",
    "weekly_data.head()"
   ]
  },
  {
   "cell_type": "code",
   "execution_count": 7,
   "metadata": {},
   "outputs": [
    {
     "output_type": "execute_result",
     "data": {
      "text/plain": [
       "   FIPS week  growth_label\n",
       "0  1001    5             0\n",
       "1  1003    5             0\n",
       "2  1005    5             1\n",
       "3  1007    5             1\n",
       "4  1009    5             0"
      ],
      "text/html": "<div>\n<style scoped>\n    .dataframe tbody tr th:only-of-type {\n        vertical-align: middle;\n    }\n\n    .dataframe tbody tr th {\n        vertical-align: top;\n    }\n\n    .dataframe thead th {\n        text-align: right;\n    }\n</style>\n<table border=\"1\" class=\"dataframe\">\n  <thead>\n    <tr style=\"text-align: right;\">\n      <th></th>\n      <th>FIPS</th>\n      <th>week</th>\n      <th>growth_label</th>\n    </tr>\n  </thead>\n  <tbody>\n    <tr>\n      <th>0</th>\n      <td>1001</td>\n      <td>5</td>\n      <td>0</td>\n    </tr>\n    <tr>\n      <th>1</th>\n      <td>1003</td>\n      <td>5</td>\n      <td>0</td>\n    </tr>\n    <tr>\n      <th>2</th>\n      <td>1005</td>\n      <td>5</td>\n      <td>1</td>\n    </tr>\n    <tr>\n      <th>3</th>\n      <td>1007</td>\n      <td>5</td>\n      <td>1</td>\n    </tr>\n    <tr>\n      <th>4</th>\n      <td>1009</td>\n      <td>5</td>\n      <td>0</td>\n    </tr>\n  </tbody>\n</table>\n</div>"
     },
     "metadata": {},
     "execution_count": 7
    }
   ],
   "source": [
    "df_labeled = data.pipe(lambda x: x.assign(month=x.week)).reset_index(drop=True).pivot_table(values='growth_label', columns='week', index='FIPS', aggfunc='last').rename_axis(None, axis=1).reset_index()\n",
    "weekly_data_labeled = (df_labeled.melt(id_vars='FIPS', value_vars=data['week'].unique()).rename(columns={\"variable\": \"week\", \"value\": \"growth_label\"}))\n",
    "weekly_data_labeled.head()"
   ]
  },
  {
   "source": [
    "## Load Shape Data"
   ],
   "cell_type": "markdown",
   "metadata": {}
  },
  {
   "cell_type": "code",
   "execution_count": 8,
   "metadata": {},
   "outputs": [
    {
     "output_type": "stream",
     "name": "stdout",
     "text": [
      "ca_places_us epsg:4326\nNAME            object\nSTATE_NAME      object\nSTATE_FIPS      object\nCNTY_FIPS       object\nFIPS             int64\ngeometry      geometry\ndtype: object\n"
     ]
    },
    {
     "output_type": "execute_result",
     "data": {
      "text/plain": [
       "                NAME  STATE_NAME STATE_FIPS CNTY_FIPS   FIPS  \\\n",
       "0  Lake of the Woods   Minnesota         27       077  27077   \n",
       "1              Ferry  Washington         53       019  53019   \n",
       "2            Stevens  Washington         53       065  53065   \n",
       "3           Okanogan  Washington         53       047  53047   \n",
       "4       Pend Oreille  Washington         53       051  53051   \n",
       "\n",
       "                                            geometry  \n",
       "0  POLYGON ((-95.34283 48.54668, -95.34105 48.715...  \n",
       "1  POLYGON ((-118.85163 47.94956, -118.84846 48.4...  \n",
       "2  POLYGON ((-117.43883 48.04412, -117.54219 48.0...  \n",
       "3  POLYGON ((-118.97209 47.93915, -118.97406 47.9...  \n",
       "4  POLYGON ((-117.43858 48.99992, -117.03205 48.9...  "
      ],
      "text/html": "<div>\n<style scoped>\n    .dataframe tbody tr th:only-of-type {\n        vertical-align: middle;\n    }\n\n    .dataframe tbody tr th {\n        vertical-align: top;\n    }\n\n    .dataframe thead th {\n        text-align: right;\n    }\n</style>\n<table border=\"1\" class=\"dataframe\">\n  <thead>\n    <tr style=\"text-align: right;\">\n      <th></th>\n      <th>NAME</th>\n      <th>STATE_NAME</th>\n      <th>STATE_FIPS</th>\n      <th>CNTY_FIPS</th>\n      <th>FIPS</th>\n      <th>geometry</th>\n    </tr>\n  </thead>\n  <tbody>\n    <tr>\n      <th>0</th>\n      <td>Lake of the Woods</td>\n      <td>Minnesota</td>\n      <td>27</td>\n      <td>077</td>\n      <td>27077</td>\n      <td>POLYGON ((-95.34283 48.54668, -95.34105 48.715...</td>\n    </tr>\n    <tr>\n      <th>1</th>\n      <td>Ferry</td>\n      <td>Washington</td>\n      <td>53</td>\n      <td>019</td>\n      <td>53019</td>\n      <td>POLYGON ((-118.85163 47.94956, -118.84846 48.4...</td>\n    </tr>\n    <tr>\n      <th>2</th>\n      <td>Stevens</td>\n      <td>Washington</td>\n      <td>53</td>\n      <td>065</td>\n      <td>53065</td>\n      <td>POLYGON ((-117.43883 48.04412, -117.54219 48.0...</td>\n    </tr>\n    <tr>\n      <th>3</th>\n      <td>Okanogan</td>\n      <td>Washington</td>\n      <td>53</td>\n      <td>047</td>\n      <td>53047</td>\n      <td>POLYGON ((-118.97209 47.93915, -118.97406 47.9...</td>\n    </tr>\n    <tr>\n      <th>4</th>\n      <td>Pend Oreille</td>\n      <td>Washington</td>\n      <td>53</td>\n      <td>051</td>\n      <td>53051</td>\n      <td>POLYGON ((-117.43858 48.99992, -117.03205 48.9...</td>\n    </tr>\n  </tbody>\n</table>\n</div>"
     },
     "metadata": {},
     "execution_count": 8
    }
   ],
   "source": [
    "us_path = os.path.join(\"UScounties\", \"UScounties.shp\")\n",
    "us_places = gpd.read_file(us_path)\n",
    "\n",
    "print(\"ca_places_us\", us_places.crs)\n",
    "\n",
    "us_places['FIPS'] = us_places['FIPS'].apply(lambda x: int(x))\n",
    "print(us_places.dtypes)\n",
    "us_places.head()"
   ]
  },
  {
   "source": [
    "## Merge Datasets"
   ],
   "cell_type": "markdown",
   "metadata": {}
  },
  {
   "cell_type": "code",
   "execution_count": 9,
   "metadata": {},
   "outputs": [
    {
     "output_type": "execute_result",
     "data": {
      "text/plain": [
       "   FIPS week  New Cases/100k population  growth_label\n",
       "0  1001    5                  51.140039             0\n",
       "1  1003    5                  38.204626             0\n",
       "2  1005    5                  32.985729             1\n",
       "3  1007    5                  20.413631             1\n",
       "4  1009    5                  49.903405             0"
      ],
      "text/html": "<div>\n<style scoped>\n    .dataframe tbody tr th:only-of-type {\n        vertical-align: middle;\n    }\n\n    .dataframe tbody tr th {\n        vertical-align: top;\n    }\n\n    .dataframe thead th {\n        text-align: right;\n    }\n</style>\n<table border=\"1\" class=\"dataframe\">\n  <thead>\n    <tr style=\"text-align: right;\">\n      <th></th>\n      <th>FIPS</th>\n      <th>week</th>\n      <th>New Cases/100k population</th>\n      <th>growth_label</th>\n    </tr>\n  </thead>\n  <tbody>\n    <tr>\n      <th>0</th>\n      <td>1001</td>\n      <td>5</td>\n      <td>51.140039</td>\n      <td>0</td>\n    </tr>\n    <tr>\n      <th>1</th>\n      <td>1003</td>\n      <td>5</td>\n      <td>38.204626</td>\n      <td>0</td>\n    </tr>\n    <tr>\n      <th>2</th>\n      <td>1005</td>\n      <td>5</td>\n      <td>32.985729</td>\n      <td>1</td>\n    </tr>\n    <tr>\n      <th>3</th>\n      <td>1007</td>\n      <td>5</td>\n      <td>20.413631</td>\n      <td>1</td>\n    </tr>\n    <tr>\n      <th>4</th>\n      <td>1009</td>\n      <td>5</td>\n      <td>49.903405</td>\n      <td>0</td>\n    </tr>\n  </tbody>\n</table>\n</div>"
     },
     "metadata": {},
     "execution_count": 9
    }
   ],
   "source": [
    "weekly_data_merged = weekly_data.merge(weekly_data_labeled, left_on=[\"FIPS\", \"week\"], right_on=[\"FIPS\", \"week\"], how=\"left\")\n",
    "weekly_data_merged.head()"
   ]
  },
  {
   "cell_type": "code",
   "execution_count": 10,
   "metadata": {},
   "outputs": [
    {
     "output_type": "stream",
     "name": "stdout",
     "text": [
      "Merged Shape: (43155, 9)\nUS Places Shape: (3141, 6)\n"
     ]
    },
    {
     "output_type": "execute_result",
     "data": {
      "text/plain": [
       "                NAME STATE_NAME STATE_FIPS CNTY_FIPS   FIPS  \\\n",
       "0  Lake of the Woods  Minnesota         27       077  27077   \n",
       "1  Lake of the Woods  Minnesota         27       077  27077   \n",
       "2  Lake of the Woods  Minnesota         27       077  27077   \n",
       "3  Lake of the Woods  Minnesota         27       077  27077   \n",
       "4  Lake of the Woods  Minnesota         27       077  27077   \n",
       "\n",
       "                                            geometry week  \\\n",
       "0  POLYGON ((-95.34283 48.54668, -95.34105 48.715...    5   \n",
       "1  POLYGON ((-95.34283 48.54668, -95.34105 48.715...    6   \n",
       "2  POLYGON ((-95.34283 48.54668, -95.34105 48.715...    7   \n",
       "3  POLYGON ((-95.34283 48.54668, -95.34105 48.715...    8   \n",
       "4  POLYGON ((-95.34283 48.54668, -95.34105 48.715...    9   \n",
       "\n",
       "   New Cases/100k population  growth_label  \n",
       "0                  19.098549           1.0  \n",
       "1                   3.819710           1.0  \n",
       "2                   7.639419           1.0  \n",
       "3                  26.737968           1.0  \n",
       "4                  15.278839           1.0  "
      ],
      "text/html": "<div>\n<style scoped>\n    .dataframe tbody tr th:only-of-type {\n        vertical-align: middle;\n    }\n\n    .dataframe tbody tr th {\n        vertical-align: top;\n    }\n\n    .dataframe thead th {\n        text-align: right;\n    }\n</style>\n<table border=\"1\" class=\"dataframe\">\n  <thead>\n    <tr style=\"text-align: right;\">\n      <th></th>\n      <th>NAME</th>\n      <th>STATE_NAME</th>\n      <th>STATE_FIPS</th>\n      <th>CNTY_FIPS</th>\n      <th>FIPS</th>\n      <th>geometry</th>\n      <th>week</th>\n      <th>New Cases/100k population</th>\n      <th>growth_label</th>\n    </tr>\n  </thead>\n  <tbody>\n    <tr>\n      <th>0</th>\n      <td>Lake of the Woods</td>\n      <td>Minnesota</td>\n      <td>27</td>\n      <td>077</td>\n      <td>27077</td>\n      <td>POLYGON ((-95.34283 48.54668, -95.34105 48.715...</td>\n      <td>5</td>\n      <td>19.098549</td>\n      <td>1.0</td>\n    </tr>\n    <tr>\n      <th>1</th>\n      <td>Lake of the Woods</td>\n      <td>Minnesota</td>\n      <td>27</td>\n      <td>077</td>\n      <td>27077</td>\n      <td>POLYGON ((-95.34283 48.54668, -95.34105 48.715...</td>\n      <td>6</td>\n      <td>3.819710</td>\n      <td>1.0</td>\n    </tr>\n    <tr>\n      <th>2</th>\n      <td>Lake of the Woods</td>\n      <td>Minnesota</td>\n      <td>27</td>\n      <td>077</td>\n      <td>27077</td>\n      <td>POLYGON ((-95.34283 48.54668, -95.34105 48.715...</td>\n      <td>7</td>\n      <td>7.639419</td>\n      <td>1.0</td>\n    </tr>\n    <tr>\n      <th>3</th>\n      <td>Lake of the Woods</td>\n      <td>Minnesota</td>\n      <td>27</td>\n      <td>077</td>\n      <td>27077</td>\n      <td>POLYGON ((-95.34283 48.54668, -95.34105 48.715...</td>\n      <td>8</td>\n      <td>26.737968</td>\n      <td>1.0</td>\n    </tr>\n    <tr>\n      <th>4</th>\n      <td>Lake of the Woods</td>\n      <td>Minnesota</td>\n      <td>27</td>\n      <td>077</td>\n      <td>27077</td>\n      <td>POLYGON ((-95.34283 48.54668, -95.34105 48.715...</td>\n      <td>9</td>\n      <td>15.278839</td>\n      <td>1.0</td>\n    </tr>\n  </tbody>\n</table>\n</div>"
     },
     "metadata": {},
     "execution_count": 10
    }
   ],
   "source": [
    "us_merged = us_places.merge(weekly_data_merged, left_on=\"FIPS\", right_on=\"FIPS\", how=\"left\")\n",
    "key = 'New Cases/100k population'\n",
    "key_2 = 'growth_label'\n",
    "\n",
    "us_merged[key] = us_merged[key].fillna(0)\n",
    "us_merged[key_2] = us_merged[key_2].fillna(0.0)\n",
    "\n",
    "print(\"Merged Shape:\",us_merged.shape)\n",
    "print(\"US Places Shape:\", us_places.shape)\n",
    "us_merged.head()"
   ]
  },
  {
   "cell_type": "code",
   "execution_count": 11,
   "metadata": {},
   "outputs": [
    {
     "output_type": "stream",
     "name": "stdout",
     "text": [
      "3141\n3141\n"
     ]
    }
   ],
   "source": [
    "print(us_places['FIPS'].nunique())\n",
    "print(us_merged['FIPS'].nunique())"
   ]
  },
  {
   "cell_type": "code",
   "execution_count": 12,
   "metadata": {},
   "outputs": [
    {
     "output_type": "stream",
     "name": "stdout",
     "text": [
      "US Merged shape: (43155, 9)\nUS Merged Filtered shape: (43123, 9)\n"
     ]
    },
    {
     "output_type": "execute_result",
     "data": {
      "text/plain": [
       "                NAME STATE_NAME STATE_FIPS CNTY_FIPS   FIPS  \\\n",
       "0  Lake of the Woods  Minnesota         27       077  27077   \n",
       "1  Lake of the Woods  Minnesota         27       077  27077   \n",
       "2  Lake of the Woods  Minnesota         27       077  27077   \n",
       "3  Lake of the Woods  Minnesota         27       077  27077   \n",
       "4  Lake of the Woods  Minnesota         27       077  27077   \n",
       "\n",
       "                                            geometry week  \\\n",
       "0  POLYGON ((-95.34283 48.54668, -95.34105 48.715...    5   \n",
       "1  POLYGON ((-95.34283 48.54668, -95.34105 48.715...    6   \n",
       "2  POLYGON ((-95.34283 48.54668, -95.34105 48.715...    7   \n",
       "3  POLYGON ((-95.34283 48.54668, -95.34105 48.715...    8   \n",
       "4  POLYGON ((-95.34283 48.54668, -95.34105 48.715...    9   \n",
       "\n",
       "   New Cases/100k population  growth_label  \n",
       "0                  19.098549           1.0  \n",
       "1                   3.819710           1.0  \n",
       "2                   7.639419           1.0  \n",
       "3                  26.737968           1.0  \n",
       "4                  15.278839           1.0  "
      ],
      "text/html": "<div>\n<style scoped>\n    .dataframe tbody tr th:only-of-type {\n        vertical-align: middle;\n    }\n\n    .dataframe tbody tr th {\n        vertical-align: top;\n    }\n\n    .dataframe thead th {\n        text-align: right;\n    }\n</style>\n<table border=\"1\" class=\"dataframe\">\n  <thead>\n    <tr style=\"text-align: right;\">\n      <th></th>\n      <th>NAME</th>\n      <th>STATE_NAME</th>\n      <th>STATE_FIPS</th>\n      <th>CNTY_FIPS</th>\n      <th>FIPS</th>\n      <th>geometry</th>\n      <th>week</th>\n      <th>New Cases/100k population</th>\n      <th>growth_label</th>\n    </tr>\n  </thead>\n  <tbody>\n    <tr>\n      <th>0</th>\n      <td>Lake of the Woods</td>\n      <td>Minnesota</td>\n      <td>27</td>\n      <td>077</td>\n      <td>27077</td>\n      <td>POLYGON ((-95.34283 48.54668, -95.34105 48.715...</td>\n      <td>5</td>\n      <td>19.098549</td>\n      <td>1.0</td>\n    </tr>\n    <tr>\n      <th>1</th>\n      <td>Lake of the Woods</td>\n      <td>Minnesota</td>\n      <td>27</td>\n      <td>077</td>\n      <td>27077</td>\n      <td>POLYGON ((-95.34283 48.54668, -95.34105 48.715...</td>\n      <td>6</td>\n      <td>3.819710</td>\n      <td>1.0</td>\n    </tr>\n    <tr>\n      <th>2</th>\n      <td>Lake of the Woods</td>\n      <td>Minnesota</td>\n      <td>27</td>\n      <td>077</td>\n      <td>27077</td>\n      <td>POLYGON ((-95.34283 48.54668, -95.34105 48.715...</td>\n      <td>7</td>\n      <td>7.639419</td>\n      <td>1.0</td>\n    </tr>\n    <tr>\n      <th>3</th>\n      <td>Lake of the Woods</td>\n      <td>Minnesota</td>\n      <td>27</td>\n      <td>077</td>\n      <td>27077</td>\n      <td>POLYGON ((-95.34283 48.54668, -95.34105 48.715...</td>\n      <td>8</td>\n      <td>26.737968</td>\n      <td>1.0</td>\n    </tr>\n    <tr>\n      <th>4</th>\n      <td>Lake of the Woods</td>\n      <td>Minnesota</td>\n      <td>27</td>\n      <td>077</td>\n      <td>27077</td>\n      <td>POLYGON ((-95.34283 48.54668, -95.34105 48.715...</td>\n      <td>9</td>\n      <td>15.278839</td>\n      <td>1.0</td>\n    </tr>\n  </tbody>\n</table>\n</div>"
     },
     "metadata": {},
     "execution_count": 12
    }
   ],
   "source": [
    "us_merged_filtered = us_merged[(us_merged['STATE_NAME'] != 'Alaska') & (us_merged['STATE_NAME'] != 'Hawaii')]\n",
    "print(\"US Merged shape:\", us_merged.shape)\n",
    "print(\"US Merged Filtered shape:\", us_merged_filtered.shape)\n",
    "us_merged_filtered.head()"
   ]
  },
  {
   "cell_type": "code",
   "execution_count": 13,
   "metadata": {},
   "outputs": [
    {
     "output_type": "execute_result",
     "data": {
      "text/plain": [
       "'\\n1a. Load up to date JHU new cases for all states\\n1b. Filter for the current month (convert to weekly data) <-- We will only be showing current month data\\n2. Sarimax will have 2 weeks of forecast, using last 4 weeks of records\\n3. Spread Category\\n'"
      ]
     },
     "metadata": {},
     "execution_count": 13
    }
   ],
   "source": [
    "'''\n",
    "1a. Load up to date JHU new cases for all states\n",
    "1b. Filter for the current month (convert to weekly data) <-- We will only be showing current month data\n",
    "2. Sarimax will have 2 weeks of forecast, using last 4 weeks of records\n",
    "3. Spread Category\n",
    "'''"
   ]
  },
  {
   "source": [
    "## Test"
   ],
   "cell_type": "markdown",
   "metadata": {}
  },
  {
   "cell_type": "code",
   "execution_count": 57,
   "metadata": {},
   "outputs": [
    {
     "output_type": "execute_result",
     "data": {
      "text/plain": [
       "   fips     county_name state_abbr state_name          long_name  sumlev  \\\n",
       "0  1001  Autauga County         AL    Alabama  Autauga County AL    50.0   \n",
       "1  1003  Baldwin County         AL    Alabama  Baldwin County AL    50.0   \n",
       "2  1005  Barbour County         AL    Alabama  Barbour County AL    50.0   \n",
       "3  1007     Bibb County         AL    Alabama     Bibb County AL    50.0   \n",
       "4  1009   Blount County         AL    Alabama   Blount County AL    50.0   \n",
       "\n",
       "   region  division  state  county crosswalk region_name       division_name  \n",
       "0     3.0       6.0    1.0     1.0   3-6-1-1       South  East South Central  \n",
       "1     3.0       6.0    1.0     3.0   3-6-1-3       South  East South Central  \n",
       "2     3.0       6.0    1.0     5.0   3-6-1-5       South  East South Central  \n",
       "3     3.0       6.0    1.0     7.0   3-6-1-7       South  East South Central  \n",
       "4     3.0       6.0    1.0     9.0   3-6-1-9       South  East South Central  "
      ],
      "text/html": "<div>\n<style scoped>\n    .dataframe tbody tr th:only-of-type {\n        vertical-align: middle;\n    }\n\n    .dataframe tbody tr th {\n        vertical-align: top;\n    }\n\n    .dataframe thead th {\n        text-align: right;\n    }\n</style>\n<table border=\"1\" class=\"dataframe\">\n  <thead>\n    <tr style=\"text-align: right;\">\n      <th></th>\n      <th>fips</th>\n      <th>county_name</th>\n      <th>state_abbr</th>\n      <th>state_name</th>\n      <th>long_name</th>\n      <th>sumlev</th>\n      <th>region</th>\n      <th>division</th>\n      <th>state</th>\n      <th>county</th>\n      <th>crosswalk</th>\n      <th>region_name</th>\n      <th>division_name</th>\n    </tr>\n  </thead>\n  <tbody>\n    <tr>\n      <th>0</th>\n      <td>1001</td>\n      <td>Autauga County</td>\n      <td>AL</td>\n      <td>Alabama</td>\n      <td>Autauga County AL</td>\n      <td>50.0</td>\n      <td>3.0</td>\n      <td>6.0</td>\n      <td>1.0</td>\n      <td>1.0</td>\n      <td>3-6-1-1</td>\n      <td>South</td>\n      <td>East South Central</td>\n    </tr>\n    <tr>\n      <th>1</th>\n      <td>1003</td>\n      <td>Baldwin County</td>\n      <td>AL</td>\n      <td>Alabama</td>\n      <td>Baldwin County AL</td>\n      <td>50.0</td>\n      <td>3.0</td>\n      <td>6.0</td>\n      <td>1.0</td>\n      <td>3.0</td>\n      <td>3-6-1-3</td>\n      <td>South</td>\n      <td>East South Central</td>\n    </tr>\n    <tr>\n      <th>2</th>\n      <td>1005</td>\n      <td>Barbour County</td>\n      <td>AL</td>\n      <td>Alabama</td>\n      <td>Barbour County AL</td>\n      <td>50.0</td>\n      <td>3.0</td>\n      <td>6.0</td>\n      <td>1.0</td>\n      <td>5.0</td>\n      <td>3-6-1-5</td>\n      <td>South</td>\n      <td>East South Central</td>\n    </tr>\n    <tr>\n      <th>3</th>\n      <td>1007</td>\n      <td>Bibb County</td>\n      <td>AL</td>\n      <td>Alabama</td>\n      <td>Bibb County AL</td>\n      <td>50.0</td>\n      <td>3.0</td>\n      <td>6.0</td>\n      <td>1.0</td>\n      <td>7.0</td>\n      <td>3-6-1-7</td>\n      <td>South</td>\n      <td>East South Central</td>\n    </tr>\n    <tr>\n      <th>4</th>\n      <td>1009</td>\n      <td>Blount County</td>\n      <td>AL</td>\n      <td>Alabama</td>\n      <td>Blount County AL</td>\n      <td>50.0</td>\n      <td>3.0</td>\n      <td>6.0</td>\n      <td>1.0</td>\n      <td>9.0</td>\n      <td>3-6-1-9</td>\n      <td>South</td>\n      <td>East South Central</td>\n    </tr>\n  </tbody>\n</table>\n</div>"
     },
     "metadata": {},
     "execution_count": 57
    }
   ],
   "source": [
    "county_names = pd.read_csv('https://raw.githubusercontent.com/kjhealy/fips-codes/master/county_fips_master.csv', encoding='cp1252')\n",
    "#county_names = county_names.set_index('fips')\n",
    "county_names.head()"
   ]
  },
  {
   "cell_type": "code",
   "execution_count": 52,
   "metadata": {},
   "outputs": [
    {
     "output_type": "execute_result",
     "data": {
      "text/plain": [
       "(3146, 12)"
      ]
     },
     "metadata": {},
     "execution_count": 52
    }
   ],
   "source": [
    "county_names.shape"
   ]
  },
  {
   "cell_type": "code",
   "execution_count": 62,
   "metadata": {},
   "outputs": [
    {
     "output_type": "stream",
     "name": "stdout",
     "text": [
      "['Blount County']\n"
     ]
    }
   ],
   "source": [
    "print(county_names[county_names['fips']==1009].county_name.values)"
   ]
  }
 ],
 "metadata": {
  "kernelspec": {
   "name": "pythonjvsc74a57bd003d82ef4151e150a459d5545b1bc088885788b0dddc62233e0fe4e647188ed64",
   "display_name": "Python 3.8.7  ('env': venv)"
  },
  "language_info": {
   "codemirror_mode": {
    "name": "ipython",
    "version": 3
   },
   "file_extension": ".py",
   "mimetype": "text/x-python",
   "name": "python",
   "nbconvert_exporter": "python",
   "pygments_lexer": "ipython3",
   "version": "3.8.7"
  },
  "metadata": {
   "interpreter": {
    "hash": "03d82ef4151e150a459d5545b1bc088885788b0dddc62233e0fe4e647188ed64"
   }
  }
 },
 "nbformat": 4,
 "nbformat_minor": 4
}