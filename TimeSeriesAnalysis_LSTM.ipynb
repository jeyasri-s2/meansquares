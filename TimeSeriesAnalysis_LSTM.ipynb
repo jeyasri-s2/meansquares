{
  "nbformat": 4,
  "nbformat_minor": 0,
  "metadata": {
    "colab": {
      "name": "TimeSeriesAnalysis_LSTM.ipynb",
      "provenance": [],
      "collapsed_sections": [],
      "toc_visible": true,
      "include_colab_link": true
    },
    "kernelspec": {
      "name": "python3",
      "display_name": "Python 3"
    }
  },
  "cells": [
    {
      "cell_type": "markdown",
      "metadata": {
        "id": "view-in-github",
        "colab_type": "text"
      },
      "source": [
        "<a href=\"https://colab.research.google.com/github/aarsanjani/meansquares/blob/master/TimeSeriesAnalysis_LSTM.ipynb\" target=\"_parent\"><img src=\"https://colab.research.google.com/assets/colab-badge.svg\" alt=\"Open In Colab\"/></a>"
      ]
    },
    {
      "cell_type": "markdown",
      "metadata": {
        "id": "qMAquoew3eJg"
      },
      "source": [
        "# Workflow\n",
        "\n",
        "This colab uses the labeled NY data from the following csv files:\n",
        "* NY covid cases + mobility + population density + social distancing index (m50) + Mask rule  data and classified : **NY_labeledData_Aug27.csv**\n",
        "* NY covid cases with social distancing inertia data from Marlyland university and classified : **NY_sd_inertia_labeledData_Aug27.csv**\n",
        "\n",
        "Idea: \n",
        "* Do Time Series Analysis, Visualization & Forecasting with LSTM\n"
      ]
    },
    {
      "cell_type": "code",
      "metadata": {
        "id": "_UPGHLrf3SHf",
        "outputId": "4f1e0c14-6a0d-4a5f-9773-c2caf447a131",
        "colab": {
          "base_uri": "https://localhost:8080/",
          "height": 55
        }
      },
      "source": [
        "from google.colab import drive\n",
        "drive.mount('/content/drive')"
      ],
      "execution_count": 71,
      "outputs": [
        {
          "output_type": "stream",
          "text": [
            "Drive already mounted at /content/drive; to attempt to forcibly remount, call drive.mount(\"/content/drive\", force_remount=True).\n"
          ],
          "name": "stdout"
        }
      ]
    },
    {
      "cell_type": "code",
      "metadata": {
        "id": "Mi5n0Qe14UFG"
      },
      "source": [
        "import pandas as pd\n",
        "\n",
        "from tqdm import tqdm\n",
        "import seaborn as sns\n",
        "import numpy as np\n",
        "import matplotlib.pyplot as plt\n",
        "import os\n",
        "from pandas import Series, datetime\n",
        "from pandas.plotting import scatter_matrix, autocorrelation_plot\n",
        "from sklearn.preprocessing import StandardScaler, RobustScaler\n",
        "from sklearn.model_selection import train_test_split, KFold, cross_val_score, GridSearchCV, TimeSeriesSplit\n",
        "from sklearn import metrics\n",
        "from sklearn.metrics import classification_report, confusion_matrix, accuracy_score, mean_squared_error\n",
        "from sklearn.pipeline import Pipeline\n",
        "from sklearn.linear_model import LogisticRegression\n",
        "from sklearn.tree import DecisionTreeClassifier\n",
        "from sklearn.neighbors import KNeighborsClassifier\n",
        "from sklearn.discriminant_analysis import LinearDiscriminantAnalysis\n",
        "from sklearn.naive_bayes import GaussianNB\n",
        "from sklearn.cluster import KMeans\n",
        "from sklearn.svm import SVC\n",
        "from sklearn.ensemble import AdaBoostClassifier, GradientBoostingClassifier, RandomForestClassifier, ExtraTreesClassifier\n",
        "from sklearn.metrics import roc_curve, auc\n",
        "import random\n",
        "from statsmodels.graphics.tsaplots import plot_acf, plot_pacf\n",
        "from statsmodels.tsa.arima_model import ARIMA\n",
        "from xgboost import XGBClassifier\n",
        "from sklearn.mixture import GaussianMixture"
      ],
      "execution_count": 72,
      "outputs": []
    },
    {
      "cell_type": "code",
      "metadata": {
        "id": "s85N4fzq2he_"
      },
      "source": [
        "import numpy as np\n",
        "import matplotlib.pyplot as plt\n",
        "import pandas as pd\n",
        "pd.set_option('display.float_format', lambda x: '%.4f' % x)\n",
        "import seaborn as sns\n",
        "sns.set_context(\"paper\", font_scale=1.3)\n",
        "sns.set_style('white')\n",
        "import warnings\n",
        "warnings.filterwarnings('ignore')\n",
        "from time import time\n",
        "import matplotlib.ticker as tkr\n",
        "from scipy import stats\n",
        "from statsmodels.tsa.stattools import adfuller\n",
        "from sklearn import preprocessing\n",
        "from statsmodels.tsa.stattools import pacf\n",
        "%matplotlib inline\n",
        "import math\n",
        "import keras\n",
        "from keras.models import Sequential\n",
        "from keras.layers import Dense\n",
        "from keras.layers import LSTM\n",
        "from keras.layers import Dropout\n",
        "from keras.layers import *\n",
        "from sklearn.preprocessing import MinMaxScaler\n",
        "from sklearn.metrics import mean_squared_error\n",
        "from sklearn.metrics import mean_absolute_error\n",
        "from keras.callbacks import EarlyStopping\n"
      ],
      "execution_count": 73,
      "outputs": []
    },
    {
      "cell_type": "code",
      "metadata": {
        "id": "BPu9_0-04dxZ"
      },
      "source": [
        "os.environ[\"TF_CPP_MIN_LOG_LEVEL\"]=\"2\"\n",
        "import warnings; warnings.simplefilter('ignore')\n"
      ],
      "execution_count": 74,
      "outputs": []
    },
    {
      "cell_type": "code",
      "metadata": {
        "id": "umC6l9Q04m-0",
        "outputId": "19253edf-9a17-4529-b8e0-b2127c89bd34",
        "colab": {
          "base_uri": "https://localhost:8080/",
          "height": 864
        }
      },
      "source": [
        "!ls  '/content/drive/Shared drives/CMPE 295- Master Project/Covid19-data/'"
      ],
      "execution_count": 75,
      "outputs": [
        {
          "output_type": "stream",
          "text": [
            "CA\n",
            "CA_combined_Sep09.csv\n",
            "CA_combined_Sep25.csv\n",
            "CA_Covid-19.csv\n",
            "CA-CovidAug22.csv\n",
            "CA_labeledData_Oct09.csv\n",
            "CA_labeledData_Oct10.csv\n",
            "CA_labeledData_Sep09\n",
            "CA_labeledData_Sep18.csv\n",
            "CA_labeledData_Sep20.csv\n",
            "CA_labeledData_Sep22.csv\n",
            "CA_labeledData_Sep25.csv\n",
            "CA_labeledData_Sep26.csv\n",
            "CA_labeledData_Sep29.csv\n",
            "CA_sd_inertia_labeledData_Sep09\n",
            "CA_sd_inertia_labeledData_Sep18.csv\n",
            "CA_sd_inertia_labeledData_Sep20.csv\n",
            "CA_sd_inertia_labeledData_Sep22.csv\n",
            "CA_sd_inertia_labeledData_Sep25.csv\n",
            "CA_socialDistancingInertiaData_Sep09.csv\n",
            "Maryland_University_SocialDistancing_Data\n",
            "mask_rule.csv\n",
            "mask_rule_data.csv\n",
            "Newyork_combinedAug22.csv\n",
            "Newyork_combined.csv\n",
            "Newyork_combinedSep24.csv\n",
            "NY_Covid-19.csv\n",
            "NY-CovidAug21.csv\n",
            "NY-CovidAug22.csv\n",
            "NY_labeledData_Aug23.csv\n",
            "NY_labeledData_Aug27.csv\n",
            "NY_labeledData_Sep13.csv\n",
            "NY_labeledData_Sep26.csv\n",
            "NY_sd_inertia_labeledData_Aug26.csv\n",
            "NY_sd_inertia_labeledData_Aug27.csv\n",
            "NY_sd_inertia_labeledData_Sep13.csv\n",
            "NY_sd_inertia_labeledData_Sep26.csv\n",
            "NY_socialDistancingInertiaDataAug25.csv\n",
            "NY_socialDistancingInertiaDataSep24.csv\n",
            "queens_all_combined.csv\n",
            "queens_all_filtered.csv\n",
            "Queens_county.csv\n",
            "Social_Distancing_Inertia_County.csv\n",
            "TX_combined_Sep10.csv\n",
            "TX-Covid_Sep10.csv\n",
            "TX_labeledData_Sep16.csv\n",
            "TX_labeledData_Sep17.csv\n",
            "TX_sd_inertia_labeledData_Sep18.csv\n",
            "TX_socialDistancingInertiaData_Sep10.csv\n"
          ],
          "name": "stdout"
        }
      ]
    },
    {
      "cell_type": "code",
      "metadata": {
        "id": "eLl-LKrXfWVE"
      },
      "source": [
        "from datetime import datetime\n",
        "# load data\n",
        "def parse(x):\n",
        "\treturn datetime.strptime(x, '%Y-%m-%d')\n",
        " \n"
      ],
      "execution_count": 76,
      "outputs": []
    },
    {
      "cell_type": "markdown",
      "metadata": {
        "id": "tRs8xkjX433D"
      },
      "source": [
        "# 1.1 Loading NY Labeled data"
      ]
    },
    {
      "cell_type": "code",
      "metadata": {
        "id": "9uArhfbu43lE",
        "outputId": "5173b7e4-8e4d-4e95-87b9-07227c8c3f0d",
        "colab": {
          "base_uri": "https://localhost:8080/",
          "height": 339
        }
      },
      "source": [
        "NY_labeled_data = pd.read_csv('/content/drive/Shared drives/CMPE 295- Master Project/Covid19-data/NY_labeledData_Sep26.csv',low_memory=False)\n",
        "NY_labeled_data.head()"
      ],
      "execution_count": 77,
      "outputs": [
        {
          "output_type": "execute_result",
          "data": {
            "text/html": [
              "<div>\n",
              "<style scoped>\n",
              "    .dataframe tbody tr th:only-of-type {\n",
              "        vertical-align: middle;\n",
              "    }\n",
              "\n",
              "    .dataframe tbody tr th {\n",
              "        vertical-align: top;\n",
              "    }\n",
              "\n",
              "    .dataframe thead th {\n",
              "        text-align: right;\n",
              "    }\n",
              "</style>\n",
              "<table border=\"1\" class=\"dataframe\">\n",
              "  <thead>\n",
              "    <tr style=\"text-align: right;\">\n",
              "      <th></th>\n",
              "      <th>Date</th>\n",
              "      <th>fips_x</th>\n",
              "      <th>County Name</th>\n",
              "      <th>retail and recreation</th>\n",
              "      <th>grocery and pharmacy</th>\n",
              "      <th>parks</th>\n",
              "      <th>transit stations</th>\n",
              "      <th>workplaces</th>\n",
              "      <th>residential</th>\n",
              "      <th>driving</th>\n",
              "      <th>m50</th>\n",
              "      <th>m50_index</th>\n",
              "      <th>population_density</th>\n",
              "      <th>mask_rule_active</th>\n",
              "      <th>mask_wearing_percent</th>\n",
              "      <th>New cases</th>\n",
              "      <th>rolling_avg_new_cases</th>\n",
              "      <th>population</th>\n",
              "      <th>label</th>\n",
              "      <th>growth_label</th>\n",
              "      <th>New Cases/1k population</th>\n",
              "      <th>growth_label_1k</th>\n",
              "      <th>growth_1k_pop</th>\n",
              "    </tr>\n",
              "  </thead>\n",
              "  <tbody>\n",
              "    <tr>\n",
              "      <th>0</th>\n",
              "      <td>2020-03-01</td>\n",
              "      <td>36001</td>\n",
              "      <td>Albany County</td>\n",
              "      <td>10.0000</td>\n",
              "      <td>13.0000</td>\n",
              "      <td>19.0000</td>\n",
              "      <td>4.0000</td>\n",
              "      <td>7.0000</td>\n",
              "      <td>-1.0000</td>\n",
              "      <td>-4.8700</td>\n",
              "      <td>2.6160</td>\n",
              "      <td>54</td>\n",
              "      <td>584.3650</td>\n",
              "      <td>0</td>\n",
              "      <td>0.0000</td>\n",
              "      <td>0</td>\n",
              "      <td>0.0000</td>\n",
              "      <td>305506.0000</td>\n",
              "      <td>LessSpread</td>\n",
              "      <td>flat_growth</td>\n",
              "      <td>0.0000</td>\n",
              "      <td>flat_growth</td>\n",
              "      <td>0.0000</td>\n",
              "    </tr>\n",
              "    <tr>\n",
              "      <th>1</th>\n",
              "      <td>2020-03-01</td>\n",
              "      <td>36123</td>\n",
              "      <td>Yates County</td>\n",
              "      <td>31.0000</td>\n",
              "      <td>33.0000</td>\n",
              "      <td>0.0000</td>\n",
              "      <td>0.0000</td>\n",
              "      <td>7.0000</td>\n",
              "      <td>0.0000</td>\n",
              "      <td>28.1400</td>\n",
              "      <td>5.0040</td>\n",
              "      <td>72</td>\n",
              "      <td>73.6766</td>\n",
              "      <td>0</td>\n",
              "      <td>0.0000</td>\n",
              "      <td>0</td>\n",
              "      <td>0.0000</td>\n",
              "      <td>24913.0000</td>\n",
              "      <td>LessSpread</td>\n",
              "      <td>flat_growth</td>\n",
              "      <td>0.0000</td>\n",
              "      <td>flat_growth</td>\n",
              "      <td>0.0000</td>\n",
              "    </tr>\n",
              "    <tr>\n",
              "      <th>2</th>\n",
              "      <td>2020-03-01</td>\n",
              "      <td>36021</td>\n",
              "      <td>Columbia County</td>\n",
              "      <td>21.0000</td>\n",
              "      <td>4.0000</td>\n",
              "      <td>0.0000</td>\n",
              "      <td>25.0000</td>\n",
              "      <td>4.0000</td>\n",
              "      <td>0.0000</td>\n",
              "      <td>19.7500</td>\n",
              "      <td>5.3370</td>\n",
              "      <td>58</td>\n",
              "      <td>93.6822</td>\n",
              "      <td>0</td>\n",
              "      <td>0.0000</td>\n",
              "      <td>0</td>\n",
              "      <td>0.0000</td>\n",
              "      <td>59461.0000</td>\n",
              "      <td>LessSpread</td>\n",
              "      <td>flat_growth</td>\n",
              "      <td>0.0000</td>\n",
              "      <td>flat_growth</td>\n",
              "      <td>0.0000</td>\n",
              "    </tr>\n",
              "    <tr>\n",
              "      <th>3</th>\n",
              "      <td>2020-03-01</td>\n",
              "      <td>36095</td>\n",
              "      <td>Schoharie County</td>\n",
              "      <td>26.0000</td>\n",
              "      <td>9.0000</td>\n",
              "      <td>0.0000</td>\n",
              "      <td>0.0000</td>\n",
              "      <td>13.0000</td>\n",
              "      <td>0.0000</td>\n",
              "      <td>24.4700</td>\n",
              "      <td>2.1370</td>\n",
              "      <td>27</td>\n",
              "      <td>49.8520</td>\n",
              "      <td>0</td>\n",
              "      <td>0.0000</td>\n",
              "      <td>0</td>\n",
              "      <td>0.0000</td>\n",
              "      <td>30999.0000</td>\n",
              "      <td>LessSpread</td>\n",
              "      <td>flat_growth</td>\n",
              "      <td>0.0000</td>\n",
              "      <td>flat_growth</td>\n",
              "      <td>0.0000</td>\n",
              "    </tr>\n",
              "    <tr>\n",
              "      <th>4</th>\n",
              "      <td>2020-03-01</td>\n",
              "      <td>36033</td>\n",
              "      <td>Franklin County</td>\n",
              "      <td>28.0000</td>\n",
              "      <td>27.0000</td>\n",
              "      <td>0.0000</td>\n",
              "      <td>0.0000</td>\n",
              "      <td>7.0000</td>\n",
              "      <td>0.0000</td>\n",
              "      <td>10.8200</td>\n",
              "      <td>2.2050</td>\n",
              "      <td>56</td>\n",
              "      <td>30.7049</td>\n",
              "      <td>0</td>\n",
              "      <td>0.0000</td>\n",
              "      <td>0</td>\n",
              "      <td>0.0000</td>\n",
              "      <td>50022.0000</td>\n",
              "      <td>LessSpread</td>\n",
              "      <td>flat_growth</td>\n",
              "      <td>0.0000</td>\n",
              "      <td>flat_growth</td>\n",
              "      <td>0.0000</td>\n",
              "    </tr>\n",
              "  </tbody>\n",
              "</table>\n",
              "</div>"
            ],
            "text/plain": [
              "         Date  fips_x  ... growth_label_1k  growth_1k_pop\n",
              "0  2020-03-01   36001  ...     flat_growth         0.0000\n",
              "1  2020-03-01   36123  ...     flat_growth         0.0000\n",
              "2  2020-03-01   36021  ...     flat_growth         0.0000\n",
              "3  2020-03-01   36095  ...     flat_growth         0.0000\n",
              "4  2020-03-01   36033  ...     flat_growth         0.0000\n",
              "\n",
              "[5 rows x 23 columns]"
            ]
          },
          "metadata": {
            "tags": []
          },
          "execution_count": 77
        }
      ]
    },
    {
      "cell_type": "markdown",
      "metadata": {
        "id": "oT0BBBpu3cW6"
      },
      "source": [
        "## Categorical Code"
      ]
    },
    {
      "cell_type": "code",
      "metadata": {
        "id": "XrYXUkd63lrN"
      },
      "source": [
        "NY_labeled_data[\"label\"] = NY_labeled_data[\"label\"].astype('category')\n",
        "NY_labeled_data['spread_category']= NY_labeled_data[\"label\"].cat.codes"
      ],
      "execution_count": 78,
      "outputs": []
    },
    {
      "cell_type": "code",
      "metadata": {
        "id": "LDORmnGeNjbn",
        "outputId": "da511c63-a6af-4c6c-aad1-a429180e7bfc",
        "colab": {
          "base_uri": "https://localhost:8080/",
          "height": 292
        }
      },
      "source": [
        "NY_labeled_data.head(4)"
      ],
      "execution_count": 79,
      "outputs": [
        {
          "output_type": "execute_result",
          "data": {
            "text/html": [
              "<div>\n",
              "<style scoped>\n",
              "    .dataframe tbody tr th:only-of-type {\n",
              "        vertical-align: middle;\n",
              "    }\n",
              "\n",
              "    .dataframe tbody tr th {\n",
              "        vertical-align: top;\n",
              "    }\n",
              "\n",
              "    .dataframe thead th {\n",
              "        text-align: right;\n",
              "    }\n",
              "</style>\n",
              "<table border=\"1\" class=\"dataframe\">\n",
              "  <thead>\n",
              "    <tr style=\"text-align: right;\">\n",
              "      <th></th>\n",
              "      <th>Date</th>\n",
              "      <th>fips_x</th>\n",
              "      <th>County Name</th>\n",
              "      <th>retail and recreation</th>\n",
              "      <th>grocery and pharmacy</th>\n",
              "      <th>parks</th>\n",
              "      <th>transit stations</th>\n",
              "      <th>workplaces</th>\n",
              "      <th>residential</th>\n",
              "      <th>driving</th>\n",
              "      <th>m50</th>\n",
              "      <th>m50_index</th>\n",
              "      <th>population_density</th>\n",
              "      <th>mask_rule_active</th>\n",
              "      <th>mask_wearing_percent</th>\n",
              "      <th>New cases</th>\n",
              "      <th>rolling_avg_new_cases</th>\n",
              "      <th>population</th>\n",
              "      <th>label</th>\n",
              "      <th>growth_label</th>\n",
              "      <th>New Cases/1k population</th>\n",
              "      <th>growth_label_1k</th>\n",
              "      <th>growth_1k_pop</th>\n",
              "      <th>spread_category</th>\n",
              "    </tr>\n",
              "  </thead>\n",
              "  <tbody>\n",
              "    <tr>\n",
              "      <th>0</th>\n",
              "      <td>2020-03-01</td>\n",
              "      <td>36001</td>\n",
              "      <td>Albany County</td>\n",
              "      <td>10.0000</td>\n",
              "      <td>13.0000</td>\n",
              "      <td>19.0000</td>\n",
              "      <td>4.0000</td>\n",
              "      <td>7.0000</td>\n",
              "      <td>-1.0000</td>\n",
              "      <td>-4.8700</td>\n",
              "      <td>2.6160</td>\n",
              "      <td>54</td>\n",
              "      <td>584.3650</td>\n",
              "      <td>0</td>\n",
              "      <td>0.0000</td>\n",
              "      <td>0</td>\n",
              "      <td>0.0000</td>\n",
              "      <td>305506.0000</td>\n",
              "      <td>LessSpread</td>\n",
              "      <td>flat_growth</td>\n",
              "      <td>0.0000</td>\n",
              "      <td>flat_growth</td>\n",
              "      <td>0.0000</td>\n",
              "      <td>0</td>\n",
              "    </tr>\n",
              "    <tr>\n",
              "      <th>1</th>\n",
              "      <td>2020-03-01</td>\n",
              "      <td>36123</td>\n",
              "      <td>Yates County</td>\n",
              "      <td>31.0000</td>\n",
              "      <td>33.0000</td>\n",
              "      <td>0.0000</td>\n",
              "      <td>0.0000</td>\n",
              "      <td>7.0000</td>\n",
              "      <td>0.0000</td>\n",
              "      <td>28.1400</td>\n",
              "      <td>5.0040</td>\n",
              "      <td>72</td>\n",
              "      <td>73.6766</td>\n",
              "      <td>0</td>\n",
              "      <td>0.0000</td>\n",
              "      <td>0</td>\n",
              "      <td>0.0000</td>\n",
              "      <td>24913.0000</td>\n",
              "      <td>LessSpread</td>\n",
              "      <td>flat_growth</td>\n",
              "      <td>0.0000</td>\n",
              "      <td>flat_growth</td>\n",
              "      <td>0.0000</td>\n",
              "      <td>0</td>\n",
              "    </tr>\n",
              "    <tr>\n",
              "      <th>2</th>\n",
              "      <td>2020-03-01</td>\n",
              "      <td>36021</td>\n",
              "      <td>Columbia County</td>\n",
              "      <td>21.0000</td>\n",
              "      <td>4.0000</td>\n",
              "      <td>0.0000</td>\n",
              "      <td>25.0000</td>\n",
              "      <td>4.0000</td>\n",
              "      <td>0.0000</td>\n",
              "      <td>19.7500</td>\n",
              "      <td>5.3370</td>\n",
              "      <td>58</td>\n",
              "      <td>93.6822</td>\n",
              "      <td>0</td>\n",
              "      <td>0.0000</td>\n",
              "      <td>0</td>\n",
              "      <td>0.0000</td>\n",
              "      <td>59461.0000</td>\n",
              "      <td>LessSpread</td>\n",
              "      <td>flat_growth</td>\n",
              "      <td>0.0000</td>\n",
              "      <td>flat_growth</td>\n",
              "      <td>0.0000</td>\n",
              "      <td>0</td>\n",
              "    </tr>\n",
              "    <tr>\n",
              "      <th>3</th>\n",
              "      <td>2020-03-01</td>\n",
              "      <td>36095</td>\n",
              "      <td>Schoharie County</td>\n",
              "      <td>26.0000</td>\n",
              "      <td>9.0000</td>\n",
              "      <td>0.0000</td>\n",
              "      <td>0.0000</td>\n",
              "      <td>13.0000</td>\n",
              "      <td>0.0000</td>\n",
              "      <td>24.4700</td>\n",
              "      <td>2.1370</td>\n",
              "      <td>27</td>\n",
              "      <td>49.8520</td>\n",
              "      <td>0</td>\n",
              "      <td>0.0000</td>\n",
              "      <td>0</td>\n",
              "      <td>0.0000</td>\n",
              "      <td>30999.0000</td>\n",
              "      <td>LessSpread</td>\n",
              "      <td>flat_growth</td>\n",
              "      <td>0.0000</td>\n",
              "      <td>flat_growth</td>\n",
              "      <td>0.0000</td>\n",
              "      <td>0</td>\n",
              "    </tr>\n",
              "  </tbody>\n",
              "</table>\n",
              "</div>"
            ],
            "text/plain": [
              "         Date  fips_x  ... growth_1k_pop  spread_category\n",
              "0  2020-03-01   36001  ...        0.0000                0\n",
              "1  2020-03-01   36123  ...        0.0000                0\n",
              "2  2020-03-01   36021  ...        0.0000                0\n",
              "3  2020-03-01   36095  ...        0.0000                0\n",
              "\n",
              "[4 rows x 24 columns]"
            ]
          },
          "metadata": {
            "tags": []
          },
          "execution_count": 79
        }
      ]
    },
    {
      "cell_type": "markdown",
      "metadata": {
        "id": "PEJRjVy4313O"
      },
      "source": [
        "## Train-Test Split"
      ]
    },
    {
      "cell_type": "code",
      "metadata": {
        "id": "kq0brgMHORkE",
        "outputId": "84369449-62c1-4f0f-e73a-aa5586db5fd0",
        "colab": {
          "base_uri": "https://localhost:8080/",
          "height": 155
        }
      },
      "source": [
        "NY_labeled_data.columns"
      ],
      "execution_count": 80,
      "outputs": [
        {
          "output_type": "execute_result",
          "data": {
            "text/plain": [
              "Index(['Date', 'fips_x', 'County Name', 'retail and recreation',\n",
              "       'grocery and pharmacy', 'parks', 'transit stations', 'workplaces',\n",
              "       'residential', 'driving', 'm50', 'm50_index', 'population_density',\n",
              "       'mask_rule_active', 'mask_wearing_percent', 'New cases',\n",
              "       'rolling_avg_new_cases', 'population', 'label', 'growth_label',\n",
              "       'New Cases/1k population', 'growth_label_1k', 'growth_1k_pop',\n",
              "       'spread_category'],\n",
              "      dtype='object')"
            ]
          },
          "metadata": {
            "tags": []
          },
          "execution_count": 80
        }
      ]
    },
    {
      "cell_type": "code",
      "metadata": {
        "id": "GTh0EeEycwRZ",
        "outputId": "73af0d25-9e60-49a7-b3b0-3adcf0a07c09",
        "colab": {
          "base_uri": "https://localhost:8080/",
          "height": 345
        }
      },
      "source": [
        "NY_labeled_data['County Name'].unique()"
      ],
      "execution_count": 81,
      "outputs": [
        {
          "output_type": "execute_result",
          "data": {
            "text/plain": [
              "array(['Albany County', 'Yates County', 'Columbia County',\n",
              "       'Schoharie County', 'Franklin County', 'Suffolk County',\n",
              "       'Ontario County', 'Nassau County', 'Delaware County',\n",
              "       'Madison County', 'Washington County', 'Chautauqua County',\n",
              "       'Oswego County', 'Putnam County', 'Otsego County',\n",
              "       'Schenectady County', 'Fulton County', 'Livingston County',\n",
              "       'Dutchess County', 'Steuben County', 'Niagara County',\n",
              "       'Oneida County', 'Warren County', 'Westchester County',\n",
              "       'Cattaraugus County', 'Cayuga County', 'Chemung County',\n",
              "       'Allegany County', 'Herkimer County', 'Clinton County',\n",
              "       'Rockland County', 'Tioga County', 'Lewis County',\n",
              "       'Schuyler County', 'Essex County', 'Wyoming County',\n",
              "       'Broome County', 'New York County', 'St. Lawrence County',\n",
              "       'Orange County', 'Montgomery County', 'Greene County',\n",
              "       'Onondaga County', 'Tompkins County', 'Jefferson County',\n",
              "       'Chenango County', 'Rensselaer County', 'Monroe County',\n",
              "       'Cortland County', 'Sullivan County', 'Orleans County',\n",
              "       'Ulster County', 'Saratoga County', 'Genesee County',\n",
              "       'Wayne County', 'Seneca County', 'Erie County'], dtype=object)"
            ]
          },
          "metadata": {
            "tags": []
          },
          "execution_count": 81
        }
      ]
    },
    {
      "cell_type": "code",
      "metadata": {
        "id": "_h_xpilvcyoJ",
        "outputId": "663faa0a-0590-4a7a-87ab-5d2dbcd51c13",
        "colab": {
          "base_uri": "https://localhost:8080/",
          "height": 294
        }
      },
      "source": [
        "nassau_county_data.dtypes"
      ],
      "execution_count": 117,
      "outputs": [
        {
          "output_type": "execute_result",
          "data": {
            "text/plain": [
              "retail and recreation           float64\n",
              "grocery and pharmacy            float64\n",
              "parks                           float64\n",
              "transit stations                float64\n",
              "workplaces                      float64\n",
              "residential                     float64\n",
              "driving                         float64\n",
              "m50                             float64\n",
              "m50_index                         int64\n",
              "population_density              float64\n",
              "mask_rule_active                  int64\n",
              "mask_wearing_percent            float64\n",
              "New cases                         int64\n",
              "rolling_avg_new_cases           float64\n",
              "Date                     datetime64[ns]\n",
              "dtype: object"
            ]
          },
          "metadata": {
            "tags": []
          },
          "execution_count": 117
        }
      ]
    },
    {
      "cell_type": "code",
      "metadata": {
        "id": "xcvrSARWJltb",
        "outputId": "4a57a973-b595-4cbf-ae60-9fa66bd46e75",
        "colab": {
          "base_uri": "https://localhost:8080/",
          "height": 1000
        }
      },
      "source": [
        "from datetime import datetime\n",
        "# load data\n",
        "def parse(x):\n",
        "    #print(x)\n",
        "    return datetime.strptime(x,'%Y-%m-%d')\n",
        " \n",
        "nassau_county_data['Date'] = nassau_county_data['Date'].apply(lambda x: parse(x))\n"
      ],
      "execution_count": 116,
      "outputs": [
        {
          "output_type": "stream",
          "text": [
            "2020-03-01\n",
            "2020-03-02\n",
            "2020-03-03\n",
            "2020-03-04\n",
            "2020-03-05\n",
            "2020-03-06\n",
            "2020-03-07\n",
            "2020-03-08\n",
            "2020-03-09\n",
            "2020-03-10\n",
            "2020-03-11\n",
            "2020-03-12\n",
            "2020-03-13\n",
            "2020-03-14\n",
            "2020-03-15\n",
            "2020-03-16\n",
            "2020-03-17\n",
            "2020-03-18\n",
            "2020-03-19\n",
            "2020-03-20\n",
            "2020-03-21\n",
            "2020-03-22\n",
            "2020-03-23\n",
            "2020-03-24\n",
            "2020-03-25\n",
            "2020-03-26\n",
            "2020-03-27\n",
            "2020-03-28\n",
            "2020-03-29\n",
            "2020-03-30\n",
            "2020-03-31\n",
            "2020-04-01\n",
            "2020-04-02\n",
            "2020-04-03\n",
            "2020-04-04\n",
            "2020-04-05\n",
            "2020-04-06\n",
            "2020-04-07\n",
            "2020-04-08\n",
            "2020-04-09\n",
            "2020-04-10\n",
            "2020-04-11\n",
            "2020-04-12\n",
            "2020-04-13\n",
            "2020-04-14\n",
            "2020-04-15\n",
            "2020-04-16\n",
            "2020-04-17\n",
            "2020-04-18\n",
            "2020-04-19\n",
            "2020-04-21\n",
            "2020-04-22\n",
            "2020-04-23\n",
            "2020-04-24\n",
            "2020-04-25\n",
            "2020-04-26\n",
            "2020-04-27\n",
            "2020-04-28\n",
            "2020-04-29\n",
            "2020-04-30\n",
            "2020-05-01\n",
            "2020-05-02\n",
            "2020-05-03\n",
            "2020-05-04\n",
            "2020-05-05\n",
            "2020-05-06\n",
            "2020-05-07\n",
            "2020-05-08\n",
            "2020-05-09\n",
            "2020-05-10\n",
            "2020-05-11\n",
            "2020-05-12\n",
            "2020-05-13\n",
            "2020-05-14\n",
            "2020-05-15\n",
            "2020-05-16\n",
            "2020-05-17\n",
            "2020-05-18\n",
            "2020-05-19\n",
            "2020-05-20\n",
            "2020-05-21\n",
            "2020-05-22\n",
            "2020-05-23\n",
            "2020-05-24\n",
            "2020-05-25\n",
            "2020-05-26\n",
            "2020-05-27\n",
            "2020-05-28\n",
            "2020-05-30\n",
            "2020-05-31\n",
            "2020-06-01\n",
            "2020-06-02\n",
            "2020-06-03\n",
            "2020-06-04\n",
            "2020-06-05\n",
            "2020-06-06\n",
            "2020-06-07\n",
            "2020-06-08\n",
            "2020-06-09\n",
            "2020-06-10\n",
            "2020-06-11\n",
            "2020-06-12\n",
            "2020-06-13\n",
            "2020-06-14\n",
            "2020-06-15\n",
            "2020-06-16\n",
            "2020-06-17\n",
            "2020-06-18\n",
            "2020-06-19\n",
            "2020-06-20\n",
            "2020-06-21\n",
            "2020-06-22\n",
            "2020-06-23\n",
            "2020-06-24\n",
            "2020-06-25\n",
            "2020-06-26\n",
            "2020-06-27\n",
            "2020-06-28\n",
            "2020-06-29\n",
            "2020-06-30\n",
            "2020-07-01\n",
            "2020-07-02\n",
            "2020-07-03\n",
            "2020-07-04\n",
            "2020-07-05\n",
            "2020-07-06\n",
            "2020-07-07\n",
            "2020-07-08\n",
            "2020-07-09\n",
            "2020-07-10\n",
            "2020-07-11\n",
            "2020-07-12\n",
            "2020-07-13\n",
            "2020-07-14\n",
            "2020-07-15\n",
            "2020-07-16\n",
            "2020-07-17\n",
            "2020-07-18\n",
            "2020-07-19\n",
            "2020-07-20\n",
            "2020-07-21\n",
            "2020-07-22\n",
            "2020-07-23\n",
            "2020-07-24\n",
            "2020-07-25\n",
            "2020-07-26\n",
            "2020-07-27\n",
            "2020-07-28\n",
            "2020-07-29\n",
            "2020-07-30\n",
            "2020-07-31\n",
            "2020-08-01\n",
            "2020-08-02\n",
            "2020-08-03\n",
            "2020-08-04\n",
            "2020-08-05\n",
            "2020-08-06\n",
            "2020-08-07\n",
            "2020-08-08\n",
            "2020-08-09\n",
            "2020-08-10\n",
            "2020-08-11\n",
            "2020-08-12\n",
            "2020-08-13\n",
            "2020-08-14\n",
            "2020-08-15\n",
            "2020-08-16\n",
            "2020-08-17\n",
            "2020-08-18\n",
            "2020-08-19\n",
            "2020-08-20\n",
            "2020-08-21\n"
          ],
          "name": "stdout"
        }
      ]
    },
    {
      "cell_type": "code",
      "metadata": {
        "id": "iW2tEKAcPILE"
      },
      "source": [
        "X_cols = ['retail and recreation',\n",
        "       'grocery and pharmacy', 'parks', 'transit stations', 'workplaces',\n",
        "       'residential', 'driving', 'm50', 'm50_index', 'population_density',\n",
        "       'mask_rule_active', 'mask_wearing_percent', 'New cases',\n",
        "       'rolling_avg_new_cases','Date']\n",
        "#Y_col = ['Date']"
      ],
      "execution_count": 103,
      "outputs": []
    },
    {
      "cell_type": "code",
      "metadata": {
        "id": "tslwydBDKVQG",
        "outputId": "e198607b-524e-4611-e522-8aa03a21e397",
        "colab": {
          "base_uri": "https://localhost:8080/",
          "height": 225
        }
      },
      "source": [
        "nassau_county_data['Date']"
      ],
      "execution_count": 110,
      "outputs": [
        {
          "output_type": "execute_result",
          "data": {
            "text/plain": [
              "7       2020-03-01\n",
              "86      2020-03-02\n",
              "151     2020-03-03\n",
              "195     2020-03-04\n",
              "273     2020-03-05\n",
              "           ...    \n",
              "9540    2020-08-17\n",
              "9632    2020-08-18\n",
              "9664    2020-08-19\n",
              "9725    2020-08-20\n",
              "9764    2020-08-21\n",
              "Name: Date, Length: 172, dtype: object"
            ]
          },
          "metadata": {
            "tags": []
          },
          "execution_count": 110
        }
      ]
    },
    {
      "cell_type": "code",
      "metadata": {
        "id": "FoFEYDXzcfNl",
        "outputId": "4a788809-d5ff-450d-9ea0-504146162499",
        "colab": {
          "base_uri": "https://localhost:8080/",
          "height": 356
        }
      },
      "source": [
        "nassau_county_data = NY_labeled_data[NY_labeled_data['County Name'] == 'Nassau County'][X_cols]\n",
        "print(nassau_county_data.shape)\n",
        "nassau_county_data.head()"
      ],
      "execution_count": 112,
      "outputs": [
        {
          "output_type": "stream",
          "text": [
            "(172, 15)\n"
          ],
          "name": "stdout"
        },
        {
          "output_type": "execute_result",
          "data": {
            "text/html": [
              "<div>\n",
              "<style scoped>\n",
              "    .dataframe tbody tr th:only-of-type {\n",
              "        vertical-align: middle;\n",
              "    }\n",
              "\n",
              "    .dataframe tbody tr th {\n",
              "        vertical-align: top;\n",
              "    }\n",
              "\n",
              "    .dataframe thead th {\n",
              "        text-align: right;\n",
              "    }\n",
              "</style>\n",
              "<table border=\"1\" class=\"dataframe\">\n",
              "  <thead>\n",
              "    <tr style=\"text-align: right;\">\n",
              "      <th></th>\n",
              "      <th>retail and recreation</th>\n",
              "      <th>grocery and pharmacy</th>\n",
              "      <th>parks</th>\n",
              "      <th>transit stations</th>\n",
              "      <th>workplaces</th>\n",
              "      <th>residential</th>\n",
              "      <th>driving</th>\n",
              "      <th>m50</th>\n",
              "      <th>m50_index</th>\n",
              "      <th>population_density</th>\n",
              "      <th>mask_rule_active</th>\n",
              "      <th>mask_wearing_percent</th>\n",
              "      <th>New cases</th>\n",
              "      <th>rolling_avg_new_cases</th>\n",
              "      <th>Date</th>\n",
              "    </tr>\n",
              "  </thead>\n",
              "  <tbody>\n",
              "    <tr>\n",
              "      <th>7</th>\n",
              "      <td>6.0000</td>\n",
              "      <td>4.0000</td>\n",
              "      <td>-10.0000</td>\n",
              "      <td>-2.0000</td>\n",
              "      <td>2.0000</td>\n",
              "      <td>0.0000</td>\n",
              "      <td>-10.1000</td>\n",
              "      <td>3.9660</td>\n",
              "      <td>56</td>\n",
              "      <td>4765.8191</td>\n",
              "      <td>0</td>\n",
              "      <td>0.0000</td>\n",
              "      <td>0</td>\n",
              "      <td>0.0000</td>\n",
              "      <td>2020-03-01</td>\n",
              "    </tr>\n",
              "    <tr>\n",
              "      <th>86</th>\n",
              "      <td>4.0000</td>\n",
              "      <td>5.0000</td>\n",
              "      <td>26.0000</td>\n",
              "      <td>-6.0000</td>\n",
              "      <td>4.0000</td>\n",
              "      <td>-1.0000</td>\n",
              "      <td>1.2400</td>\n",
              "      <td>6.8790</td>\n",
              "      <td>98</td>\n",
              "      <td>4765.8191</td>\n",
              "      <td>0</td>\n",
              "      <td>0.0000</td>\n",
              "      <td>0</td>\n",
              "      <td>0.0000</td>\n",
              "      <td>2020-03-02</td>\n",
              "    </tr>\n",
              "    <tr>\n",
              "      <th>151</th>\n",
              "      <td>5.0000</td>\n",
              "      <td>3.0000</td>\n",
              "      <td>3.0000</td>\n",
              "      <td>-3.0000</td>\n",
              "      <td>3.0000</td>\n",
              "      <td>0.0000</td>\n",
              "      <td>9.3300</td>\n",
              "      <td>6.9070</td>\n",
              "      <td>99</td>\n",
              "      <td>4765.8191</td>\n",
              "      <td>0</td>\n",
              "      <td>0.0000</td>\n",
              "      <td>0</td>\n",
              "      <td>0.0000</td>\n",
              "      <td>2020-03-03</td>\n",
              "    </tr>\n",
              "    <tr>\n",
              "      <th>195</th>\n",
              "      <td>6.0000</td>\n",
              "      <td>7.0000</td>\n",
              "      <td>20.0000</td>\n",
              "      <td>-5.0000</td>\n",
              "      <td>3.0000</td>\n",
              "      <td>-1.0000</td>\n",
              "      <td>9.3900</td>\n",
              "      <td>6.9610</td>\n",
              "      <td>100</td>\n",
              "      <td>4765.8191</td>\n",
              "      <td>0</td>\n",
              "      <td>0.0000</td>\n",
              "      <td>0</td>\n",
              "      <td>0.0000</td>\n",
              "      <td>2020-03-04</td>\n",
              "    </tr>\n",
              "    <tr>\n",
              "      <th>273</th>\n",
              "      <td>5.0000</td>\n",
              "      <td>7.0000</td>\n",
              "      <td>25.0000</td>\n",
              "      <td>-2.0000</td>\n",
              "      <td>4.0000</td>\n",
              "      <td>0.0000</td>\n",
              "      <td>13.5000</td>\n",
              "      <td>7.2160</td>\n",
              "      <td>103</td>\n",
              "      <td>4765.8191</td>\n",
              "      <td>0</td>\n",
              "      <td>0.0000</td>\n",
              "      <td>1</td>\n",
              "      <td>0.0000</td>\n",
              "      <td>2020-03-05</td>\n",
              "    </tr>\n",
              "  </tbody>\n",
              "</table>\n",
              "</div>"
            ],
            "text/plain": [
              "     retail and recreation  ...        Date\n",
              "7                   6.0000  ...  2020-03-01\n",
              "86                  4.0000  ...  2020-03-02\n",
              "151                 5.0000  ...  2020-03-03\n",
              "195                 6.0000  ...  2020-03-04\n",
              "273                 5.0000  ...  2020-03-05\n",
              "\n",
              "[5 rows x 15 columns]"
            ]
          },
          "metadata": {
            "tags": []
          },
          "execution_count": 112
        }
      ]
    },
    {
      "cell_type": "code",
      "metadata": {
        "id": "zqfSxwWjc-gg",
        "outputId": "5e1e3e82-1508-4fc9-bed7-99a9014af243",
        "colab": {
          "base_uri": "https://localhost:8080/",
          "height": 369
        }
      },
      "source": [
        "nassau_county_data['Date'] = nassau_county_data['Date'].apply(lambda x: parse(x))\n",
        "nassau_county_data.index.name = 'Date'\n",
        "nassau_county_data.head()"
      ],
      "execution_count": 101,
      "outputs": [
        {
          "output_type": "execute_result",
          "data": {
            "text/html": [
              "<div>\n",
              "<style scoped>\n",
              "    .dataframe tbody tr th:only-of-type {\n",
              "        vertical-align: middle;\n",
              "    }\n",
              "\n",
              "    .dataframe tbody tr th {\n",
              "        vertical-align: top;\n",
              "    }\n",
              "\n",
              "    .dataframe thead th {\n",
              "        text-align: right;\n",
              "    }\n",
              "</style>\n",
              "<table border=\"1\" class=\"dataframe\">\n",
              "  <thead>\n",
              "    <tr style=\"text-align: right;\">\n",
              "      <th></th>\n",
              "      <th>retail and recreation</th>\n",
              "      <th>grocery and pharmacy</th>\n",
              "      <th>parks</th>\n",
              "      <th>transit stations</th>\n",
              "      <th>workplaces</th>\n",
              "      <th>residential</th>\n",
              "      <th>driving</th>\n",
              "      <th>m50</th>\n",
              "      <th>m50_index</th>\n",
              "      <th>population_density</th>\n",
              "      <th>mask_rule_active</th>\n",
              "      <th>mask_wearing_percent</th>\n",
              "      <th>New cases</th>\n",
              "      <th>rolling_avg_new_cases</th>\n",
              "      <th>Date</th>\n",
              "    </tr>\n",
              "    <tr>\n",
              "      <th>Date</th>\n",
              "      <th></th>\n",
              "      <th></th>\n",
              "      <th></th>\n",
              "      <th></th>\n",
              "      <th></th>\n",
              "      <th></th>\n",
              "      <th></th>\n",
              "      <th></th>\n",
              "      <th></th>\n",
              "      <th></th>\n",
              "      <th></th>\n",
              "      <th></th>\n",
              "      <th></th>\n",
              "      <th></th>\n",
              "      <th></th>\n",
              "    </tr>\n",
              "  </thead>\n",
              "  <tbody>\n",
              "    <tr>\n",
              "      <th>7</th>\n",
              "      <td>6.0000</td>\n",
              "      <td>4.0000</td>\n",
              "      <td>-10.0000</td>\n",
              "      <td>-2.0000</td>\n",
              "      <td>2.0000</td>\n",
              "      <td>0.0000</td>\n",
              "      <td>-10.1000</td>\n",
              "      <td>3.9660</td>\n",
              "      <td>56</td>\n",
              "      <td>4765.8191</td>\n",
              "      <td>0</td>\n",
              "      <td>0.0000</td>\n",
              "      <td>0</td>\n",
              "      <td>0.0000</td>\n",
              "      <td>2020-03-01</td>\n",
              "    </tr>\n",
              "    <tr>\n",
              "      <th>86</th>\n",
              "      <td>4.0000</td>\n",
              "      <td>5.0000</td>\n",
              "      <td>26.0000</td>\n",
              "      <td>-6.0000</td>\n",
              "      <td>4.0000</td>\n",
              "      <td>-1.0000</td>\n",
              "      <td>1.2400</td>\n",
              "      <td>6.8790</td>\n",
              "      <td>98</td>\n",
              "      <td>4765.8191</td>\n",
              "      <td>0</td>\n",
              "      <td>0.0000</td>\n",
              "      <td>0</td>\n",
              "      <td>0.0000</td>\n",
              "      <td>2020-03-02</td>\n",
              "    </tr>\n",
              "    <tr>\n",
              "      <th>151</th>\n",
              "      <td>5.0000</td>\n",
              "      <td>3.0000</td>\n",
              "      <td>3.0000</td>\n",
              "      <td>-3.0000</td>\n",
              "      <td>3.0000</td>\n",
              "      <td>0.0000</td>\n",
              "      <td>9.3300</td>\n",
              "      <td>6.9070</td>\n",
              "      <td>99</td>\n",
              "      <td>4765.8191</td>\n",
              "      <td>0</td>\n",
              "      <td>0.0000</td>\n",
              "      <td>0</td>\n",
              "      <td>0.0000</td>\n",
              "      <td>2020-03-03</td>\n",
              "    </tr>\n",
              "    <tr>\n",
              "      <th>195</th>\n",
              "      <td>6.0000</td>\n",
              "      <td>7.0000</td>\n",
              "      <td>20.0000</td>\n",
              "      <td>-5.0000</td>\n",
              "      <td>3.0000</td>\n",
              "      <td>-1.0000</td>\n",
              "      <td>9.3900</td>\n",
              "      <td>6.9610</td>\n",
              "      <td>100</td>\n",
              "      <td>4765.8191</td>\n",
              "      <td>0</td>\n",
              "      <td>0.0000</td>\n",
              "      <td>0</td>\n",
              "      <td>0.0000</td>\n",
              "      <td>2020-03-04</td>\n",
              "    </tr>\n",
              "    <tr>\n",
              "      <th>273</th>\n",
              "      <td>5.0000</td>\n",
              "      <td>7.0000</td>\n",
              "      <td>25.0000</td>\n",
              "      <td>-2.0000</td>\n",
              "      <td>4.0000</td>\n",
              "      <td>0.0000</td>\n",
              "      <td>13.5000</td>\n",
              "      <td>7.2160</td>\n",
              "      <td>103</td>\n",
              "      <td>4765.8191</td>\n",
              "      <td>0</td>\n",
              "      <td>0.0000</td>\n",
              "      <td>1</td>\n",
              "      <td>0.0000</td>\n",
              "      <td>2020-03-05</td>\n",
              "    </tr>\n",
              "  </tbody>\n",
              "</table>\n",
              "</div>"
            ],
            "text/plain": [
              "      retail and recreation  ...       Date\n",
              "Date                         ...           \n",
              "7                    6.0000  ... 2020-03-01\n",
              "86                   4.0000  ... 2020-03-02\n",
              "151                  5.0000  ... 2020-03-03\n",
              "195                  6.0000  ... 2020-03-04\n",
              "273                  5.0000  ... 2020-03-05\n",
              "\n",
              "[5 rows x 15 columns]"
            ]
          },
          "metadata": {
            "tags": []
          },
          "execution_count": 101
        }
      ]
    },
    {
      "cell_type": "code",
      "metadata": {
        "id": "ic9XyY2JIsfF"
      },
      "source": [
        "values = nassau_county_data.values\n"
      ],
      "execution_count": 95,
      "outputs": []
    },
    {
      "cell_type": "code",
      "metadata": {
        "id": "vroTckgxef1C"
      },
      "source": [
        "\n",
        "# prepare data for lstm\n",
        "from pandas import read_csv\n",
        "from pandas import DataFrame\n",
        "from pandas import concat\n",
        "from sklearn.preprocessing import LabelEncoder\n",
        "from sklearn.preprocessing import MinMaxScaler\n",
        " \n",
        "# convert series to supervised learning\n",
        "def series_to_supervised(data, n_in=1, n_out=1, dropnan=True):\n",
        "\tn_vars = 1 if type(data) is list else data.shape[1]\n",
        "\tdf = DataFrame(data)\n",
        "\tcols, names = list(), list()\n",
        "\t# input sequence (t-n, ... t-1)\n",
        "\tfor i in range(n_in, 0, -1):\n",
        "\t\tcols.append(df.shift(i))\n",
        "\t\tnames += [('var%d(t-%d)' % (j+1, i)) for j in range(n_vars)]\n",
        "\t# forecast sequence (t, t+1, ... t+n)\n",
        "\tfor i in range(0, n_out):\n",
        "\t\tcols.append(df.shift(-i))\n",
        "\t\tif i == 0:\n",
        "\t\t\tnames += [('var%d(t)' % (j+1)) for j in range(n_vars)]\n",
        "\t\telse:\n",
        "\t\t\tnames += [('var%d(t+%d)' % (j+1, i)) for j in range(n_vars)]\n",
        "\t# put it all together\n",
        "\tagg = concat(cols, axis=1)\n",
        "\tagg.columns = names\n",
        "\t# drop rows with NaN values\n",
        "\tif dropnan:\n",
        "\t\tagg.dropna(inplace=True)\n",
        "\treturn agg"
      ],
      "execution_count": 96,
      "outputs": []
    },
    {
      "cell_type": "code",
      "metadata": {
        "id": "CjPG2_tXmCxC",
        "outputId": "0e963bbc-4887-4c83-eb71-cbb238d35250",
        "colab": {
          "base_uri": "https://localhost:8080/",
          "height": 345
        }
      },
      "source": [
        "nassau_county_data.values[:,4]"
      ],
      "execution_count": 86,
      "outputs": [
        {
          "output_type": "execute_result",
          "data": {
            "text/plain": [
              "array([2.0, 4.0, 3.0, 3.0, 4.0, 3.0, 6.0, 1.0, 1.0, -2.0, -2.0, -4.0,\n",
              "       -10.0, -1.0, -8.0, -28.0, -34.0, -37.0, -41.0, -44.0, -29.0, -37.0,\n",
              "       -60.0, -59.0, -60.0, -61.0, -60.0, -47.0, -47.0, -63.0, -65.0,\n",
              "       -65.0, -66.0, -66.0, -51.0, -50.0, -66.0, -67.0, -67.0, -69.0,\n",
              "       -70.0, -52.0, -55.0, -68.0, -65.0, -65.0, -65.0, -63.0, -48.0,\n",
              "       -45.0, -63.0, -62.0, -62.0, -62.0, -43.0, -45.0, -61.0, -61.0,\n",
              "       -61.0, -61.0, -58.0, -39.0, -38.0, -58.0, -58.0, -57.0, -57.0,\n",
              "       -56.0, -37.0, -34.0, -56.0, -56.0, -55.0, -55.0, -54.0, -33.0,\n",
              "       -32.0, -53.0, -53.0, -53.0, -53.0, -52.0, -33.0, -29.0, -76.0,\n",
              "       -51.0, -50.0, -50.0, -22.0, -21.0, -48.0, -48.0, -48.0, -48.0,\n",
              "       -47.0, -21.0, -18.0, -46.0, -46.0, -45.0, -46.0, -44.0, -15.0,\n",
              "       -15.0, -45.0, -45.0, -45.0, -45.0, -44.0, -15.0, -13.0, -46.0,\n",
              "       -45.0, -43.0, -43.0, -43.0, -16.0, -12.0, -43.0, -43.0, -43.0,\n",
              "       -43.0, -58.0, -33.0, -18.0, -46.0, -44.0, -42.0, -42.0, -44.0,\n",
              "       -13.0, -13.0, -43.0, -43.0, -42.0, -42.0, -42.0, -14.0, -15.0,\n",
              "       -44.0, -43.0, -42.0, -42.0, -42.0, -14.0, -14.0, -43.0, -42.0,\n",
              "       -42.0, -43.0, -43.0, -15.0, -16.0, -43.0, -47.0, -44.0, -43.0,\n",
              "       -42.0, -15.0, -12.0, -43.0, -43.0, -43.0, -42.0, -41.0, -15.0,\n",
              "       -21.0, -43.0, -42.0, -43.0, -41.0, -41.0], dtype=object)"
            ]
          },
          "metadata": {
            "tags": []
          },
          "execution_count": 86
        }
      ]
    },
    {
      "cell_type": "code",
      "metadata": {
        "id": "lh_ZrDu9IxQ3",
        "outputId": "42606ff2-6398-4c86-9a50-282a74b52e03",
        "colab": {
          "base_uri": "https://localhost:8080/",
          "height": 294
        }
      },
      "source": [
        "nassau_county_data.dtypes"
      ],
      "execution_count": 98,
      "outputs": [
        {
          "output_type": "execute_result",
          "data": {
            "text/plain": [
              "retail and recreation           float64\n",
              "grocery and pharmacy            float64\n",
              "parks                           float64\n",
              "transit stations                float64\n",
              "workplaces                      float64\n",
              "residential                     float64\n",
              "driving                         float64\n",
              "m50                             float64\n",
              "m50_index                         int64\n",
              "population_density              float64\n",
              "mask_rule_active                  int64\n",
              "mask_wearing_percent            float64\n",
              "New cases                         int64\n",
              "rolling_avg_new_cases           float64\n",
              "Date                     datetime64[ns]\n",
              "dtype: object"
            ]
          },
          "metadata": {
            "tags": []
          },
          "execution_count": 98
        }
      ]
    },
    {
      "cell_type": "code",
      "metadata": {
        "id": "pxAXHwYCmQ2j",
        "outputId": "8260eb48-2056-412b-a7ad-f038d1ad1d5b",
        "colab": {
          "base_uri": "https://localhost:8080/",
          "height": 339
        }
      },
      "source": [
        "nassau_county_data.head()"
      ],
      "execution_count": 97,
      "outputs": [
        {
          "output_type": "execute_result",
          "data": {
            "text/html": [
              "<div>\n",
              "<style scoped>\n",
              "    .dataframe tbody tr th:only-of-type {\n",
              "        vertical-align: middle;\n",
              "    }\n",
              "\n",
              "    .dataframe tbody tr th {\n",
              "        vertical-align: top;\n",
              "    }\n",
              "\n",
              "    .dataframe thead th {\n",
              "        text-align: right;\n",
              "    }\n",
              "</style>\n",
              "<table border=\"1\" class=\"dataframe\">\n",
              "  <thead>\n",
              "    <tr style=\"text-align: right;\">\n",
              "      <th></th>\n",
              "      <th>retail and recreation</th>\n",
              "      <th>grocery and pharmacy</th>\n",
              "      <th>parks</th>\n",
              "      <th>transit stations</th>\n",
              "      <th>workplaces</th>\n",
              "      <th>residential</th>\n",
              "      <th>driving</th>\n",
              "      <th>m50</th>\n",
              "      <th>m50_index</th>\n",
              "      <th>population_density</th>\n",
              "      <th>mask_rule_active</th>\n",
              "      <th>mask_wearing_percent</th>\n",
              "      <th>New cases</th>\n",
              "      <th>rolling_avg_new_cases</th>\n",
              "      <th>Date</th>\n",
              "    </tr>\n",
              "  </thead>\n",
              "  <tbody>\n",
              "    <tr>\n",
              "      <th>7</th>\n",
              "      <td>6.0000</td>\n",
              "      <td>4.0000</td>\n",
              "      <td>-10.0000</td>\n",
              "      <td>-2.0000</td>\n",
              "      <td>2.0000</td>\n",
              "      <td>0.0000</td>\n",
              "      <td>-10.1000</td>\n",
              "      <td>3.9660</td>\n",
              "      <td>56</td>\n",
              "      <td>4765.8191</td>\n",
              "      <td>0</td>\n",
              "      <td>0.0000</td>\n",
              "      <td>0</td>\n",
              "      <td>0.0000</td>\n",
              "      <td>2020-03-01</td>\n",
              "    </tr>\n",
              "    <tr>\n",
              "      <th>86</th>\n",
              "      <td>4.0000</td>\n",
              "      <td>5.0000</td>\n",
              "      <td>26.0000</td>\n",
              "      <td>-6.0000</td>\n",
              "      <td>4.0000</td>\n",
              "      <td>-1.0000</td>\n",
              "      <td>1.2400</td>\n",
              "      <td>6.8790</td>\n",
              "      <td>98</td>\n",
              "      <td>4765.8191</td>\n",
              "      <td>0</td>\n",
              "      <td>0.0000</td>\n",
              "      <td>0</td>\n",
              "      <td>0.0000</td>\n",
              "      <td>2020-03-02</td>\n",
              "    </tr>\n",
              "    <tr>\n",
              "      <th>151</th>\n",
              "      <td>5.0000</td>\n",
              "      <td>3.0000</td>\n",
              "      <td>3.0000</td>\n",
              "      <td>-3.0000</td>\n",
              "      <td>3.0000</td>\n",
              "      <td>0.0000</td>\n",
              "      <td>9.3300</td>\n",
              "      <td>6.9070</td>\n",
              "      <td>99</td>\n",
              "      <td>4765.8191</td>\n",
              "      <td>0</td>\n",
              "      <td>0.0000</td>\n",
              "      <td>0</td>\n",
              "      <td>0.0000</td>\n",
              "      <td>2020-03-03</td>\n",
              "    </tr>\n",
              "    <tr>\n",
              "      <th>195</th>\n",
              "      <td>6.0000</td>\n",
              "      <td>7.0000</td>\n",
              "      <td>20.0000</td>\n",
              "      <td>-5.0000</td>\n",
              "      <td>3.0000</td>\n",
              "      <td>-1.0000</td>\n",
              "      <td>9.3900</td>\n",
              "      <td>6.9610</td>\n",
              "      <td>100</td>\n",
              "      <td>4765.8191</td>\n",
              "      <td>0</td>\n",
              "      <td>0.0000</td>\n",
              "      <td>0</td>\n",
              "      <td>0.0000</td>\n",
              "      <td>2020-03-04</td>\n",
              "    </tr>\n",
              "    <tr>\n",
              "      <th>273</th>\n",
              "      <td>5.0000</td>\n",
              "      <td>7.0000</td>\n",
              "      <td>25.0000</td>\n",
              "      <td>-2.0000</td>\n",
              "      <td>4.0000</td>\n",
              "      <td>0.0000</td>\n",
              "      <td>13.5000</td>\n",
              "      <td>7.2160</td>\n",
              "      <td>103</td>\n",
              "      <td>4765.8191</td>\n",
              "      <td>0</td>\n",
              "      <td>0.0000</td>\n",
              "      <td>1</td>\n",
              "      <td>0.0000</td>\n",
              "      <td>2020-03-05</td>\n",
              "    </tr>\n",
              "  </tbody>\n",
              "</table>\n",
              "</div>"
            ],
            "text/plain": [
              "     retail and recreation  ...       Date\n",
              "7                   6.0000  ... 2020-03-01\n",
              "86                  4.0000  ... 2020-03-02\n",
              "151                 5.0000  ... 2020-03-03\n",
              "195                 6.0000  ... 2020-03-04\n",
              "273                 5.0000  ... 2020-03-05\n",
              "\n",
              "[5 rows x 15 columns]"
            ]
          },
          "metadata": {
            "tags": []
          },
          "execution_count": 97
        }
      ]
    },
    {
      "cell_type": "code",
      "metadata": {
        "id": "qjTc7BqTLhyO",
        "outputId": "21b8ff5b-a2bc-4755-b3f0-a57143ef5a8d",
        "colab": {
          "base_uri": "https://localhost:8080/",
          "height": 35
        }
      },
      "source": [
        "len(X_cols)"
      ],
      "execution_count": 120,
      "outputs": [
        {
          "output_type": "execute_result",
          "data": {
            "text/plain": [
              "15"
            ]
          },
          "metadata": {
            "tags": []
          },
          "execution_count": 120
        }
      ]
    },
    {
      "cell_type": "code",
      "metadata": {
        "id": "_6EOKUcxef3Q",
        "outputId": "60228f5f-baf5-4cae-8670-55db65ef3b4d",
        "colab": {
          "base_uri": "https://localhost:8080/",
          "height": 155
        }
      },
      "source": [
        "values = nassau_county_data.values\n",
        "# integer encode direction\n",
        "encoder = LabelEncoder()\n",
        "values[:,14] = encoder.fit_transform(values[:,14])\n",
        "# ensure all data is float\n",
        "values = values.astype('float32')\n",
        "# normalize features\n",
        "scaler = MinMaxScaler(feature_range=(0, 1))\n",
        "scaled = scaler.fit_transform(values)\n",
        "# frame as supervised learning\n",
        "reframed = series_to_supervised(scaled, 1, 1)\n",
        "# drop columns we don't want to predict\n",
        "#reframed.drop(reframed.columns[[9,10,11,12,13,14,15]], axis=1, inplace=True)\n",
        "print(reframed.head())"
      ],
      "execution_count": 122,
      "outputs": [
        {
          "output_type": "stream",
          "text": [
            "   var1(t-1)  var2(t-1)  var3(t-1)  ...  var13(t)  var14(t)  var15(t)\n",
            "1     1.0000     0.6265     0.1380  ...    0.0000    0.0000    0.0058\n",
            "2     0.9762     0.6386     0.2318  ...    0.0000    0.0000    0.0117\n",
            "3     0.9881     0.6145     0.1719  ...    0.0000    0.0000    0.0175\n",
            "4     1.0000     0.6627     0.2161  ...    0.0005    0.0000    0.0234\n",
            "5     0.9881     0.6627     0.2292  ...    0.0000    0.0000    0.0292\n",
            "\n",
            "[5 rows x 30 columns]\n"
          ],
          "name": "stdout"
        }
      ]
    },
    {
      "cell_type": "code",
      "metadata": {
        "id": "TWBP1N7jMVKy",
        "outputId": "a526cf8e-895d-4c02-a5a0-acb847c1a84c",
        "colab": {
          "base_uri": "https://localhost:8080/",
          "height": 35
        }
      },
      "source": [
        "n_train_hours"
      ],
      "execution_count": 126,
      "outputs": [
        {
          "output_type": "execute_result",
          "data": {
            "text/plain": [
              "1440"
            ]
          },
          "metadata": {
            "tags": []
          },
          "execution_count": 126
        }
      ]
    },
    {
      "cell_type": "code",
      "metadata": {
        "id": "WtrqK1afMhfA",
        "outputId": "2c981245-69e5-4641-de88-bc9e8ef43c9c",
        "colab": {
          "base_uri": "https://localhost:8080/",
          "height": 35
        }
      },
      "source": [
        "values.shape[0] // 5"
      ],
      "execution_count": 130,
      "outputs": [
        {
          "output_type": "execute_result",
          "data": {
            "text/plain": [
              "34"
            ]
          },
          "metadata": {
            "tags": []
          },
          "execution_count": 130
        }
      ]
    },
    {
      "cell_type": "code",
      "metadata": {
        "id": "-t9GRooHefyr",
        "outputId": "4c71af5c-790c-467f-c5e3-ce23b5eafdac",
        "colab": {
          "base_uri": "https://localhost:8080/",
          "height": 35
        }
      },
      "source": [
        "\n",
        "# split into train and test sets\n",
        "values = reframed.values\n",
        "n_train_hours = 20 * 24\n",
        "rows_count = values.shape[0]\n",
        "# split the 1/5 value\n",
        "train_split = rows_count//5\n",
        "\n",
        "n_train_hours = train_split * 4\n",
        "\n",
        "\n",
        "train = values[:n_train_hours, :]\n",
        "test = values[n_train_hours:, :]\n",
        "# split into input and outputs\n",
        "train_X, train_y = train[:, :-1], train[:, -1]\n",
        "test_X, test_y = test[:, :-1], test[:, -1]\n",
        "# reshape input to be 3D [samples, timesteps, features]\n",
        "train_X = train_X.reshape((train_X.shape[0], 1, train_X.shape[1]))\n",
        "test_X = test_X.reshape((test_X.shape[0], 1, test_X.shape[1]))\n",
        "print(train_X.shape, train_y.shape, test_X.shape, test_y.shape)"
      ],
      "execution_count": 139,
      "outputs": [
        {
          "output_type": "stream",
          "text": [
            "(136, 1, 29) (136,) (35, 1, 29) (35,)\n"
          ],
          "name": "stdout"
        }
      ]
    },
    {
      "cell_type": "code",
      "metadata": {
        "id": "S97OuxdcNHnw",
        "outputId": "a7f18bb3-a1dc-4cf8-972e-f3bac1513917",
        "colab": {
          "base_uri": "https://localhost:8080/",
          "height": 1000
        }
      },
      "source": [
        "...\n",
        "# design network\n",
        "model = Sequential()\n",
        "model.add(LSTM(50, input_shape=(train_X.shape[1], train_X.shape[2])))\n",
        "model.add(Dense(1))\n",
        "model.compile(loss='mae', optimizer='adam')\n",
        "# fit network\n",
        "history = model.fit(train_X, train_y, epochs=50, batch_size=72, validation_data=(test_X, test_y), verbose=2, shuffle=False)\n",
        "# plot history\n",
        "plt.plot(history.history['loss'], label='train')\n",
        "plt.plot(history.history['val_loss'], label='test')\n",
        "plt.legend()\n",
        "plt.show()"
      ],
      "execution_count": 133,
      "outputs": [
        {
          "output_type": "stream",
          "text": [
            "Epoch 1/50\n",
            "2/2 - 0s - loss: 0.4623 - val_loss: 0.9139\n",
            "Epoch 2/50\n",
            "2/2 - 0s - loss: 0.4111 - val_loss: 0.8450\n",
            "Epoch 3/50\n",
            "2/2 - 0s - loss: 0.3681 - val_loss: 0.7799\n",
            "Epoch 4/50\n",
            "2/2 - 0s - loss: 0.3281 - val_loss: 0.7169\n",
            "Epoch 5/50\n",
            "2/2 - 0s - loss: 0.2897 - val_loss: 0.6556\n",
            "Epoch 6/50\n",
            "2/2 - 0s - loss: 0.2535 - val_loss: 0.5955\n",
            "Epoch 7/50\n",
            "2/2 - 0s - loss: 0.2181 - val_loss: 0.5360\n",
            "Epoch 8/50\n",
            "2/2 - 0s - loss: 0.1844 - val_loss: 0.4771\n",
            "Epoch 9/50\n",
            "2/2 - 0s - loss: 0.1588 - val_loss: 0.4206\n",
            "Epoch 10/50\n",
            "2/2 - 0s - loss: 0.1391 - val_loss: 0.3674\n",
            "Epoch 11/50\n",
            "2/2 - 0s - loss: 0.1245 - val_loss: 0.3175\n",
            "Epoch 12/50\n",
            "2/2 - 0s - loss: 0.1156 - val_loss: 0.2731\n",
            "Epoch 13/50\n",
            "2/2 - 0s - loss: 0.1143 - val_loss: 0.2363\n",
            "Epoch 14/50\n",
            "2/2 - 0s - loss: 0.1179 - val_loss: 0.2093\n",
            "Epoch 15/50\n",
            "2/2 - 0s - loss: 0.1220 - val_loss: 0.1943\n",
            "Epoch 16/50\n",
            "2/2 - 0s - loss: 0.1229 - val_loss: 0.1919\n",
            "Epoch 17/50\n",
            "2/2 - 0s - loss: 0.1187 - val_loss: 0.2001\n",
            "Epoch 18/50\n",
            "2/2 - 0s - loss: 0.1111 - val_loss: 0.2151\n",
            "Epoch 19/50\n",
            "2/2 - 0s - loss: 0.1032 - val_loss: 0.2325\n",
            "Epoch 20/50\n",
            "2/2 - 0s - loss: 0.0968 - val_loss: 0.2483\n",
            "Epoch 21/50\n",
            "2/2 - 0s - loss: 0.0917 - val_loss: 0.2599\n",
            "Epoch 22/50\n",
            "2/2 - 0s - loss: 0.0886 - val_loss: 0.2657\n",
            "Epoch 23/50\n",
            "2/2 - 0s - loss: 0.0868 - val_loss: 0.2656\n",
            "Epoch 24/50\n",
            "2/2 - 0s - loss: 0.0849 - val_loss: 0.2601\n",
            "Epoch 25/50\n",
            "2/2 - 0s - loss: 0.0826 - val_loss: 0.2500\n",
            "Epoch 26/50\n",
            "2/2 - 0s - loss: 0.0798 - val_loss: 0.2368\n",
            "Epoch 27/50\n",
            "2/2 - 0s - loss: 0.0775 - val_loss: 0.2223\n",
            "Epoch 28/50\n",
            "2/2 - 0s - loss: 0.0761 - val_loss: 0.2086\n",
            "Epoch 29/50\n",
            "2/2 - 0s - loss: 0.0755 - val_loss: 0.1977\n",
            "Epoch 30/50\n",
            "2/2 - 0s - loss: 0.0754 - val_loss: 0.1916\n",
            "Epoch 31/50\n",
            "2/2 - 0s - loss: 0.0750 - val_loss: 0.1905\n",
            "Epoch 32/50\n",
            "2/2 - 0s - loss: 0.0737 - val_loss: 0.1934\n",
            "Epoch 33/50\n",
            "2/2 - 0s - loss: 0.0721 - val_loss: 0.1983\n",
            "Epoch 34/50\n",
            "2/2 - 0s - loss: 0.0704 - val_loss: 0.2037\n",
            "Epoch 35/50\n",
            "2/2 - 0s - loss: 0.0689 - val_loss: 0.2073\n",
            "Epoch 36/50\n",
            "2/2 - 0s - loss: 0.0674 - val_loss: 0.2082\n",
            "Epoch 37/50\n",
            "2/2 - 0s - loss: 0.0658 - val_loss: 0.2068\n",
            "Epoch 38/50\n",
            "2/2 - 0s - loss: 0.0642 - val_loss: 0.2034\n",
            "Epoch 39/50\n",
            "2/2 - 0s - loss: 0.0625 - val_loss: 0.1988\n",
            "Epoch 40/50\n",
            "2/2 - 0s - loss: 0.0609 - val_loss: 0.1935\n",
            "Epoch 41/50\n",
            "2/2 - 0s - loss: 0.0594 - val_loss: 0.1888\n",
            "Epoch 42/50\n",
            "2/2 - 0s - loss: 0.0582 - val_loss: 0.1862\n",
            "Epoch 43/50\n",
            "2/2 - 0s - loss: 0.0568 - val_loss: 0.1864\n",
            "Epoch 44/50\n",
            "2/2 - 0s - loss: 0.0553 - val_loss: 0.1885\n",
            "Epoch 45/50\n",
            "2/2 - 0s - loss: 0.0536 - val_loss: 0.1907\n",
            "Epoch 46/50\n",
            "2/2 - 0s - loss: 0.0519 - val_loss: 0.1918\n",
            "Epoch 47/50\n",
            "2/2 - 0s - loss: 0.0501 - val_loss: 0.1914\n",
            "Epoch 48/50\n",
            "2/2 - 0s - loss: 0.0483 - val_loss: 0.1889\n",
            "Epoch 49/50\n",
            "2/2 - 0s - loss: 0.0464 - val_loss: 0.1852\n",
            "Epoch 50/50\n",
            "2/2 - 0s - loss: 0.0447 - val_loss: 0.1826\n"
          ],
          "name": "stdout"
        },
        {
          "output_type": "display_data",
          "data": {
            "image/png": "[encoded data removed]",
            "text/plain": [
              "<Figure size 432x288 with 1 Axes>"
            ]
          },
          "metadata": {
            "tags": [],
            "needs_background": "light"
          }
        }
      ]
    },
    {
      "cell_type": "markdown",
      "metadata": {
        "id": "jJwm0J9POF7l"
      },
      "source": [
        "# Test\n"
      ]
    },
    {
      "cell_type": "code",
      "metadata": {
        "id": "LCPQS0U0OqCU",
        "outputId": "bda24e1a-b291-423e-8e17-60e51bd38761",
        "colab": {
          "base_uri": "https://localhost:8080/",
          "height": 35
        }
      },
      "source": [
        "test_X.shape"
      ],
      "execution_count": 140,
      "outputs": [
        {
          "output_type": "execute_result",
          "data": {
            "text/plain": [
              "(35, 1, 29)"
            ]
          },
          "metadata": {
            "tags": []
          },
          "execution_count": 140
        }
      ]
    },
    {
      "cell_type": "code",
      "metadata": {
        "id": "9Y3GEMGEOFTU",
        "outputId": "c73dfd21-c2ff-45f2-fda2-99dbc3e0bf42",
        "colab": {
          "base_uri": "https://localhost:8080/",
          "height": 373
        }
      },
      "source": [
        "\n",
        "# make a prediction\n",
        "yhat = model.predict(test_X)\n",
        "test_X = test_X.reshape((test_X.shape[0], test_X.shape[2]))\n",
        "# invert scaling for forecast\n",
        "inv_yhat = concatenate((yhat, test_X[:, 1:]), axis=1)\n",
        "inv_yhat = scaler.inverse_transform(inv_yhat)\n",
        "inv_yhat = inv_yhat[:,0]\n",
        "# invert scaling for actual\n",
        "test_y = test_y.reshape((len(test_y), 1))\n",
        "inv_y = concatenate((test_y, test_X[:, 1:]), axis=1)\n",
        "inv_y = scaler.inverse_transform(inv_y)\n",
        "inv_y = inv_y[:,0]\n",
        "# calculate RMSE\n",
        "rmse = sqrt(mean_squared_error(inv_y, inv_yhat))\n",
        "print('Test RMSE: %.3f' % rmse)"
      ],
      "execution_count": 141,
      "outputs": [
        {
          "output_type": "error",
          "ename": "ValueError",
          "evalue": "ignored",
          "traceback": [
            "\u001b[0;31m---------------------------------------------------------------------------\u001b[0m",
            "\u001b[0;31mValueError\u001b[0m                                Traceback (most recent call last)",
            "\u001b[0;32m<ipython-input-141-cc7937320abc>\u001b[0m in \u001b[0;36m<module>\u001b[0;34m()\u001b[0m\n\u001b[1;32m      5\u001b[0m \u001b[0;31m# invert scaling for forecast\u001b[0m\u001b[0;34m\u001b[0m\u001b[0;34m\u001b[0m\u001b[0;34m\u001b[0m\u001b[0m\n\u001b[1;32m      6\u001b[0m \u001b[0minv_yhat\u001b[0m \u001b[0;34m=\u001b[0m \u001b[0mconcatenate\u001b[0m\u001b[0;34m(\u001b[0m\u001b[0;34m(\u001b[0m\u001b[0myhat\u001b[0m\u001b[0;34m,\u001b[0m \u001b[0mtest_X\u001b[0m\u001b[0;34m[\u001b[0m\u001b[0;34m:\u001b[0m\u001b[0;34m,\u001b[0m \u001b[0;36m1\u001b[0m\u001b[0;34m:\u001b[0m\u001b[0;34m]\u001b[0m\u001b[0;34m)\u001b[0m\u001b[0;34m,\u001b[0m \u001b[0maxis\u001b[0m\u001b[0;34m=\u001b[0m\u001b[0;36m1\u001b[0m\u001b[0;34m)\u001b[0m\u001b[0;34m\u001b[0m\u001b[0;34m\u001b[0m\u001b[0m\n\u001b[0;32m----> 7\u001b[0;31m \u001b[0minv_yhat\u001b[0m \u001b[0;34m=\u001b[0m \u001b[0mscaler\u001b[0m\u001b[0;34m.\u001b[0m\u001b[0minverse_transform\u001b[0m\u001b[0;34m(\u001b[0m\u001b[0minv_yhat\u001b[0m\u001b[0;34m)\u001b[0m\u001b[0;34m\u001b[0m\u001b[0;34m\u001b[0m\u001b[0m\n\u001b[0m\u001b[1;32m      8\u001b[0m \u001b[0minv_yhat\u001b[0m \u001b[0;34m=\u001b[0m \u001b[0minv_yhat\u001b[0m\u001b[0;34m[\u001b[0m\u001b[0;34m:\u001b[0m\u001b[0;34m,\u001b[0m\u001b[0;36m0\u001b[0m\u001b[0;34m]\u001b[0m\u001b[0;34m\u001b[0m\u001b[0;34m\u001b[0m\u001b[0m\n\u001b[1;32m      9\u001b[0m \u001b[0;31m# invert scaling for actual\u001b[0m\u001b[0;34m\u001b[0m\u001b[0;34m\u001b[0m\u001b[0;34m\u001b[0m\u001b[0m\n",
            "\u001b[0;32m/usr/local/lib/python3.6/dist-packages/sklearn/preprocessing/_data.py\u001b[0m in \u001b[0;36minverse_transform\u001b[0;34m(self, X)\u001b[0m\n\u001b[1;32m    434\u001b[0m                         force_all_finite=\"allow-nan\")\n\u001b[1;32m    435\u001b[0m \u001b[0;34m\u001b[0m\u001b[0m\n\u001b[0;32m--> 436\u001b[0;31m         \u001b[0mX\u001b[0m \u001b[0;34m-=\u001b[0m \u001b[0mself\u001b[0m\u001b[0;34m.\u001b[0m\u001b[0mmin_\u001b[0m\u001b[0;34m\u001b[0m\u001b[0;34m\u001b[0m\u001b[0m\n\u001b[0m\u001b[1;32m    437\u001b[0m         \u001b[0mX\u001b[0m \u001b[0;34m/=\u001b[0m \u001b[0mself\u001b[0m\u001b[0;34m.\u001b[0m\u001b[0mscale_\u001b[0m\u001b[0;34m\u001b[0m\u001b[0;34m\u001b[0m\u001b[0m\n\u001b[1;32m    438\u001b[0m         \u001b[0;32mreturn\u001b[0m \u001b[0mX\u001b[0m\u001b[0;34m\u001b[0m\u001b[0;34m\u001b[0m\u001b[0m\n",
            "\u001b[0;31mValueError\u001b[0m: operands could not be broadcast together with shapes (35,29) (15,) (35,29) "
          ]
        }
      ]
    },
    {
      "cell_type": "markdown",
      "metadata": {
        "id": "qbmjAgkwRMwb"
      },
      "source": [
        "## LSTM"
      ]
    },
    {
      "cell_type": "markdown",
      "metadata": {
        "id": "AgjSUBw-cR2G"
      },
      "source": [
        "## Multivariate LSTM"
      ]
    },
    {
      "cell_type": "code",
      "metadata": {
        "id": "EI-Z7uofcVCr"
      },
      "source": [
        "values = dataset.values\n"
      ],
      "execution_count": null,
      "outputs": []
    },
    {
      "cell_type": "code",
      "metadata": {
        "id": "GLR9uuICZ4t1"
      },
      "source": [
        "seq_len=X_train.shape[0]\n",
        "day = 14\n",
        "num_output = 3\n",
        "model = Sequential()\n",
        "model.add(LSTM(256, input_shape=(seq_len, day,num_output)))\n",
        "model.add(Dense(1, activation='sigmoid'))"
      ],
      "execution_count": null,
      "outputs": []
    },
    {
      "cell_type": "code",
      "metadata": {
        "id": "LIYzuVEqjqvj"
      },
      "source": [
        "model.summary()"
      ],
      "execution_count": null,
      "outputs": []
    },
    {
      "cell_type": "code",
      "metadata": {
        "id": "MYDYnAs7X-Uw"
      },
      "source": [
        "adam = Adam(lr=0.001)\n",
        "chk = ModelCheckpoint('best_model.pkl', monitor='val_acc', save_best_only=True, mode='max', verbose=1)\n",
        "model.compile(loss='binary_crossentropy', optimizer=adam, metrics=['accuracy'])\n",
        "history=model.fit(X_train, Y_train, epochs=200, batch_size=128, callbacks=[chk], validation_data=(X_test, Y_test))"
      ],
      "execution_count": null,
      "outputs": []
    },
    {
      "cell_type": "markdown",
      "metadata": {
        "id": "sRa1dGQRWi8s"
      },
      "source": [
        "## Accuracy"
      ]
    },
    {
      "cell_type": "code",
      "metadata": {
        "id": "usVJVAtBWlxy",
        "outputId": "3dd161e4-36de-452e-c6ff-84221515a6f5",
        "colab": {
          "base_uri": "https://localhost:8080/",
          "height": 880
        }
      },
      "source": [
        "accr = model.evaluate(X_test,Y_test)\n",
        "print('Test set\\n  Loss: {:0.3f}\\n  Accuracy: {:0.3f}'.format(accr[0],accr[1]))"
      ],
      "execution_count": 134,
      "outputs": [
        {
          "output_type": "error",
          "ename": "ValueError",
          "evalue": "ignored",
          "traceback": [
            "\u001b[0;31m---------------------------------------------------------------------------\u001b[0m",
            "\u001b[0;31mValueError\u001b[0m                                Traceback (most recent call last)",
            "\u001b[0;32m<ipython-input-134-dd417203a207>\u001b[0m in \u001b[0;36m<module>\u001b[0;34m()\u001b[0m\n\u001b[0;32m----> 1\u001b[0;31m \u001b[0maccr\u001b[0m \u001b[0;34m=\u001b[0m \u001b[0mmodel\u001b[0m\u001b[0;34m.\u001b[0m\u001b[0mevaluate\u001b[0m\u001b[0;34m(\u001b[0m\u001b[0mX_test\u001b[0m\u001b[0;34m,\u001b[0m\u001b[0mY_test\u001b[0m\u001b[0;34m)\u001b[0m\u001b[0;34m\u001b[0m\u001b[0;34m\u001b[0m\u001b[0m\n\u001b[0m\u001b[1;32m      2\u001b[0m \u001b[0mprint\u001b[0m\u001b[0;34m(\u001b[0m\u001b[0;34m'Test set\\n  Loss: {:0.3f}\\n  Accuracy: {:0.3f}'\u001b[0m\u001b[0;34m.\u001b[0m\u001b[0mformat\u001b[0m\u001b[0;34m(\u001b[0m\u001b[0maccr\u001b[0m\u001b[0;34m[\u001b[0m\u001b[0;36m0\u001b[0m\u001b[0;34m]\u001b[0m\u001b[0;34m,\u001b[0m\u001b[0maccr\u001b[0m\u001b[0;34m[\u001b[0m\u001b[0;36m1\u001b[0m\u001b[0;34m]\u001b[0m\u001b[0;34m)\u001b[0m\u001b[0;34m)\u001b[0m\u001b[0;34m\u001b[0m\u001b[0;34m\u001b[0m\u001b[0m\n",
            "\u001b[0;32m/usr/local/lib/python3.6/dist-packages/tensorflow/python/keras/engine/training.py\u001b[0m in \u001b[0;36m_method_wrapper\u001b[0;34m(self, *args, **kwargs)\u001b[0m\n\u001b[1;32m    106\u001b[0m   \u001b[0;32mdef\u001b[0m \u001b[0m_method_wrapper\u001b[0m\u001b[0;34m(\u001b[0m\u001b[0mself\u001b[0m\u001b[0;34m,\u001b[0m \u001b[0;34m*\u001b[0m\u001b[0margs\u001b[0m\u001b[0;34m,\u001b[0m \u001b[0;34m**\u001b[0m\u001b[0mkwargs\u001b[0m\u001b[0;34m)\u001b[0m\u001b[0;34m:\u001b[0m\u001b[0;34m\u001b[0m\u001b[0;34m\u001b[0m\u001b[0m\n\u001b[1;32m    107\u001b[0m     \u001b[0;32mif\u001b[0m \u001b[0;32mnot\u001b[0m \u001b[0mself\u001b[0m\u001b[0;34m.\u001b[0m\u001b[0m_in_multi_worker_mode\u001b[0m\u001b[0;34m(\u001b[0m\u001b[0;34m)\u001b[0m\u001b[0;34m:\u001b[0m  \u001b[0;31m# pylint: disable=protected-access\u001b[0m\u001b[0;34m\u001b[0m\u001b[0;34m\u001b[0m\u001b[0m\n\u001b[0;32m--> 108\u001b[0;31m       \u001b[0;32mreturn\u001b[0m \u001b[0mmethod\u001b[0m\u001b[0;34m(\u001b[0m\u001b[0mself\u001b[0m\u001b[0;34m,\u001b[0m \u001b[0;34m*\u001b[0m\u001b[0margs\u001b[0m\u001b[0;34m,\u001b[0m \u001b[0;34m**\u001b[0m\u001b[0mkwargs\u001b[0m\u001b[0;34m)\u001b[0m\u001b[0;34m\u001b[0m\u001b[0;34m\u001b[0m\u001b[0m\n\u001b[0m\u001b[1;32m    109\u001b[0m \u001b[0;34m\u001b[0m\u001b[0m\n\u001b[1;32m    110\u001b[0m     \u001b[0;31m# Running inside `run_distribute_coordinator` already.\u001b[0m\u001b[0;34m\u001b[0m\u001b[0;34m\u001b[0m\u001b[0;34m\u001b[0m\u001b[0m\n",
            "\u001b[0;32m/usr/local/lib/python3.6/dist-packages/tensorflow/python/keras/engine/training.py\u001b[0m in \u001b[0;36mevaluate\u001b[0;34m(self, x, y, batch_size, verbose, sample_weight, steps, callbacks, max_queue_size, workers, use_multiprocessing, return_dict)\u001b[0m\n\u001b[1;32m   1377\u001b[0m             \u001b[0;32mwith\u001b[0m \u001b[0mtrace\u001b[0m\u001b[0;34m.\u001b[0m\u001b[0mTrace\u001b[0m\u001b[0;34m(\u001b[0m\u001b[0;34m'TraceContext'\u001b[0m\u001b[0;34m,\u001b[0m \u001b[0mgraph_type\u001b[0m\u001b[0;34m=\u001b[0m\u001b[0;34m'test'\u001b[0m\u001b[0;34m,\u001b[0m \u001b[0mstep_num\u001b[0m\u001b[0;34m=\u001b[0m\u001b[0mstep\u001b[0m\u001b[0;34m)\u001b[0m\u001b[0;34m:\u001b[0m\u001b[0;34m\u001b[0m\u001b[0;34m\u001b[0m\u001b[0m\n\u001b[1;32m   1378\u001b[0m               \u001b[0mcallbacks\u001b[0m\u001b[0;34m.\u001b[0m\u001b[0mon_test_batch_begin\u001b[0m\u001b[0;34m(\u001b[0m\u001b[0mstep\u001b[0m\u001b[0;34m)\u001b[0m\u001b[0;34m\u001b[0m\u001b[0;34m\u001b[0m\u001b[0m\n\u001b[0;32m-> 1379\u001b[0;31m               \u001b[0mtmp_logs\u001b[0m \u001b[0;34m=\u001b[0m \u001b[0mtest_function\u001b[0m\u001b[0;34m(\u001b[0m\u001b[0miterator\u001b[0m\u001b[0;34m)\u001b[0m\u001b[0;34m\u001b[0m\u001b[0;34m\u001b[0m\u001b[0m\n\u001b[0m\u001b[1;32m   1380\u001b[0m               \u001b[0;32mif\u001b[0m \u001b[0mdata_handler\u001b[0m\u001b[0;34m.\u001b[0m\u001b[0mshould_sync\u001b[0m\u001b[0;34m:\u001b[0m\u001b[0;34m\u001b[0m\u001b[0;34m\u001b[0m\u001b[0m\n\u001b[1;32m   1381\u001b[0m                 \u001b[0mcontext\u001b[0m\u001b[0;34m.\u001b[0m\u001b[0masync_wait\u001b[0m\u001b[0;34m(\u001b[0m\u001b[0;34m)\u001b[0m\u001b[0;34m\u001b[0m\u001b[0;34m\u001b[0m\u001b[0m\n",
            "\u001b[0;32m/usr/local/lib/python3.6/dist-packages/tensorflow/python/eager/def_function.py\u001b[0m in \u001b[0;36m__call__\u001b[0;34m(self, *args, **kwds)\u001b[0m\n\u001b[1;32m    778\u001b[0m       \u001b[0;32melse\u001b[0m\u001b[0;34m:\u001b[0m\u001b[0;34m\u001b[0m\u001b[0;34m\u001b[0m\u001b[0m\n\u001b[1;32m    779\u001b[0m         \u001b[0mcompiler\u001b[0m \u001b[0;34m=\u001b[0m \u001b[0;34m\"nonXla\"\u001b[0m\u001b[0;34m\u001b[0m\u001b[0;34m\u001b[0m\u001b[0m\n\u001b[0;32m--> 780\u001b[0;31m         \u001b[0mresult\u001b[0m \u001b[0;34m=\u001b[0m \u001b[0mself\u001b[0m\u001b[0;34m.\u001b[0m\u001b[0m_call\u001b[0m\u001b[0;34m(\u001b[0m\u001b[0;34m*\u001b[0m\u001b[0margs\u001b[0m\u001b[0;34m,\u001b[0m \u001b[0;34m**\u001b[0m\u001b[0mkwds\u001b[0m\u001b[0;34m)\u001b[0m\u001b[0;34m\u001b[0m\u001b[0;34m\u001b[0m\u001b[0m\n\u001b[0m\u001b[1;32m    781\u001b[0m \u001b[0;34m\u001b[0m\u001b[0m\n\u001b[1;32m    782\u001b[0m       \u001b[0mnew_tracing_count\u001b[0m \u001b[0;34m=\u001b[0m \u001b[0mself\u001b[0m\u001b[0;34m.\u001b[0m\u001b[0m_get_tracing_count\u001b[0m\u001b[0;34m(\u001b[0m\u001b[0;34m)\u001b[0m\u001b[0;34m\u001b[0m\u001b[0;34m\u001b[0m\u001b[0m\n",
            "\u001b[0;32m/usr/local/lib/python3.6/dist-packages/tensorflow/python/eager/def_function.py\u001b[0m in \u001b[0;36m_call\u001b[0;34m(self, *args, **kwds)\u001b[0m\n\u001b[1;32m    812\u001b[0m       \u001b[0;31m# In this case we have not created variables on the first call. So we can\u001b[0m\u001b[0;34m\u001b[0m\u001b[0;34m\u001b[0m\u001b[0;34m\u001b[0m\u001b[0m\n\u001b[1;32m    813\u001b[0m       \u001b[0;31m# run the first trace but we should fail if variables are created.\u001b[0m\u001b[0;34m\u001b[0m\u001b[0;34m\u001b[0m\u001b[0;34m\u001b[0m\u001b[0m\n\u001b[0;32m--> 814\u001b[0;31m       \u001b[0mresults\u001b[0m \u001b[0;34m=\u001b[0m \u001b[0mself\u001b[0m\u001b[0;34m.\u001b[0m\u001b[0m_stateful_fn\u001b[0m\u001b[0;34m(\u001b[0m\u001b[0;34m*\u001b[0m\u001b[0margs\u001b[0m\u001b[0;34m,\u001b[0m \u001b[0;34m**\u001b[0m\u001b[0mkwds\u001b[0m\u001b[0;34m)\u001b[0m\u001b[0;34m\u001b[0m\u001b[0;34m\u001b[0m\u001b[0m\n\u001b[0m\u001b[1;32m    815\u001b[0m       \u001b[0;32mif\u001b[0m \u001b[0mself\u001b[0m\u001b[0;34m.\u001b[0m\u001b[0m_created_variables\u001b[0m\u001b[0;34m:\u001b[0m\u001b[0;34m\u001b[0m\u001b[0;34m\u001b[0m\u001b[0m\n\u001b[1;32m    816\u001b[0m         raise ValueError(\"Creating variables on a non-first call to a function\"\n",
            "\u001b[0;32m/usr/local/lib/python3.6/dist-packages/tensorflow/python/eager/function.py\u001b[0m in \u001b[0;36m__call__\u001b[0;34m(self, *args, **kwargs)\u001b[0m\n\u001b[1;32m   2826\u001b[0m     \u001b[0;34m\"\"\"Calls a graph function specialized to the inputs.\"\"\"\u001b[0m\u001b[0;34m\u001b[0m\u001b[0;34m\u001b[0m\u001b[0m\n\u001b[1;32m   2827\u001b[0m     \u001b[0;32mwith\u001b[0m \u001b[0mself\u001b[0m\u001b[0;34m.\u001b[0m\u001b[0m_lock\u001b[0m\u001b[0;34m:\u001b[0m\u001b[0;34m\u001b[0m\u001b[0;34m\u001b[0m\u001b[0m\n\u001b[0;32m-> 2828\u001b[0;31m       \u001b[0mgraph_function\u001b[0m\u001b[0;34m,\u001b[0m \u001b[0margs\u001b[0m\u001b[0;34m,\u001b[0m \u001b[0mkwargs\u001b[0m \u001b[0;34m=\u001b[0m \u001b[0mself\u001b[0m\u001b[0;34m.\u001b[0m\u001b[0m_maybe_define_function\u001b[0m\u001b[0;34m(\u001b[0m\u001b[0margs\u001b[0m\u001b[0;34m,\u001b[0m \u001b[0mkwargs\u001b[0m\u001b[0;34m)\u001b[0m\u001b[0;34m\u001b[0m\u001b[0;34m\u001b[0m\u001b[0m\n\u001b[0m\u001b[1;32m   2829\u001b[0m     \u001b[0;32mreturn\u001b[0m \u001b[0mgraph_function\u001b[0m\u001b[0;34m.\u001b[0m\u001b[0m_filtered_call\u001b[0m\u001b[0;34m(\u001b[0m\u001b[0margs\u001b[0m\u001b[0;34m,\u001b[0m \u001b[0mkwargs\u001b[0m\u001b[0;34m)\u001b[0m  \u001b[0;31m# pylint: disable=protected-access\u001b[0m\u001b[0;34m\u001b[0m\u001b[0;34m\u001b[0m\u001b[0m\n\u001b[1;32m   2830\u001b[0m \u001b[0;34m\u001b[0m\u001b[0m\n",
            "\u001b[0;32m/usr/local/lib/python3.6/dist-packages/tensorflow/python/eager/function.py\u001b[0m in \u001b[0;36m_maybe_define_function\u001b[0;34m(self, args, kwargs)\u001b[0m\n\u001b[1;32m   3208\u001b[0m           \u001b[0;32mand\u001b[0m \u001b[0mself\u001b[0m\u001b[0;34m.\u001b[0m\u001b[0minput_signature\u001b[0m \u001b[0;32mis\u001b[0m \u001b[0;32mNone\u001b[0m\u001b[0;34m\u001b[0m\u001b[0;34m\u001b[0m\u001b[0m\n\u001b[1;32m   3209\u001b[0m           and call_context_key in self._function_cache.missed):\n\u001b[0;32m-> 3210\u001b[0;31m         \u001b[0;32mreturn\u001b[0m \u001b[0mself\u001b[0m\u001b[0;34m.\u001b[0m\u001b[0m_define_function_with_shape_relaxation\u001b[0m\u001b[0;34m(\u001b[0m\u001b[0margs\u001b[0m\u001b[0;34m,\u001b[0m \u001b[0mkwargs\u001b[0m\u001b[0;34m)\u001b[0m\u001b[0;34m\u001b[0m\u001b[0;34m\u001b[0m\u001b[0m\n\u001b[0m\u001b[1;32m   3211\u001b[0m \u001b[0;34m\u001b[0m\u001b[0m\n\u001b[1;32m   3212\u001b[0m       \u001b[0mself\u001b[0m\u001b[0;34m.\u001b[0m\u001b[0m_function_cache\u001b[0m\u001b[0;34m.\u001b[0m\u001b[0mmissed\u001b[0m\u001b[0;34m.\u001b[0m\u001b[0madd\u001b[0m\u001b[0;34m(\u001b[0m\u001b[0mcall_context_key\u001b[0m\u001b[0;34m)\u001b[0m\u001b[0;34m\u001b[0m\u001b[0;34m\u001b[0m\u001b[0m\n",
            "\u001b[0;32m/usr/local/lib/python3.6/dist-packages/tensorflow/python/eager/function.py\u001b[0m in \u001b[0;36m_define_function_with_shape_relaxation\u001b[0;34m(self, args, kwargs)\u001b[0m\n\u001b[1;32m   3140\u001b[0m \u001b[0;34m\u001b[0m\u001b[0m\n\u001b[1;32m   3141\u001b[0m     graph_function = self._create_graph_function(\n\u001b[0;32m-> 3142\u001b[0;31m         args, kwargs, override_flat_arg_shapes=relaxed_arg_shapes)\n\u001b[0m\u001b[1;32m   3143\u001b[0m     \u001b[0mself\u001b[0m\u001b[0;34m.\u001b[0m\u001b[0m_function_cache\u001b[0m\u001b[0;34m.\u001b[0m\u001b[0marg_relaxed\u001b[0m\u001b[0;34m[\u001b[0m\u001b[0mrank_only_cache_key\u001b[0m\u001b[0;34m]\u001b[0m \u001b[0;34m=\u001b[0m \u001b[0mgraph_function\u001b[0m\u001b[0;34m\u001b[0m\u001b[0;34m\u001b[0m\u001b[0m\n\u001b[1;32m   3144\u001b[0m \u001b[0;34m\u001b[0m\u001b[0m\n",
            "\u001b[0;32m/usr/local/lib/python3.6/dist-packages/tensorflow/python/eager/function.py\u001b[0m in \u001b[0;36m_create_graph_function\u001b[0;34m(self, args, kwargs, override_flat_arg_shapes)\u001b[0m\n\u001b[1;32m   3073\u001b[0m             \u001b[0marg_names\u001b[0m\u001b[0;34m=\u001b[0m\u001b[0marg_names\u001b[0m\u001b[0;34m,\u001b[0m\u001b[0;34m\u001b[0m\u001b[0;34m\u001b[0m\u001b[0m\n\u001b[1;32m   3074\u001b[0m             \u001b[0moverride_flat_arg_shapes\u001b[0m\u001b[0;34m=\u001b[0m\u001b[0moverride_flat_arg_shapes\u001b[0m\u001b[0;34m,\u001b[0m\u001b[0;34m\u001b[0m\u001b[0;34m\u001b[0m\u001b[0m\n\u001b[0;32m-> 3075\u001b[0;31m             capture_by_value=self._capture_by_value),\n\u001b[0m\u001b[1;32m   3076\u001b[0m         \u001b[0mself\u001b[0m\u001b[0;34m.\u001b[0m\u001b[0m_function_attributes\u001b[0m\u001b[0;34m,\u001b[0m\u001b[0;34m\u001b[0m\u001b[0;34m\u001b[0m\u001b[0m\n\u001b[1;32m   3077\u001b[0m         \u001b[0mfunction_spec\u001b[0m\u001b[0;34m=\u001b[0m\u001b[0mself\u001b[0m\u001b[0;34m.\u001b[0m\u001b[0mfunction_spec\u001b[0m\u001b[0;34m,\u001b[0m\u001b[0;34m\u001b[0m\u001b[0;34m\u001b[0m\u001b[0m\n",
            "\u001b[0;32m/usr/local/lib/python3.6/dist-packages/tensorflow/python/framework/func_graph.py\u001b[0m in \u001b[0;36mfunc_graph_from_py_func\u001b[0;34m(name, python_func, args, kwargs, signature, func_graph, autograph, autograph_options, add_control_dependencies, arg_names, op_return_value, collections, capture_by_value, override_flat_arg_shapes)\u001b[0m\n\u001b[1;32m    984\u001b[0m         \u001b[0m_\u001b[0m\u001b[0;34m,\u001b[0m \u001b[0moriginal_func\u001b[0m \u001b[0;34m=\u001b[0m \u001b[0mtf_decorator\u001b[0m\u001b[0;34m.\u001b[0m\u001b[0munwrap\u001b[0m\u001b[0;34m(\u001b[0m\u001b[0mpython_func\u001b[0m\u001b[0;34m)\u001b[0m\u001b[0;34m\u001b[0m\u001b[0;34m\u001b[0m\u001b[0m\n\u001b[1;32m    985\u001b[0m \u001b[0;34m\u001b[0m\u001b[0m\n\u001b[0;32m--> 986\u001b[0;31m       \u001b[0mfunc_outputs\u001b[0m \u001b[0;34m=\u001b[0m \u001b[0mpython_func\u001b[0m\u001b[0;34m(\u001b[0m\u001b[0;34m*\u001b[0m\u001b[0mfunc_args\u001b[0m\u001b[0;34m,\u001b[0m \u001b[0;34m**\u001b[0m\u001b[0mfunc_kwargs\u001b[0m\u001b[0;34m)\u001b[0m\u001b[0;34m\u001b[0m\u001b[0;34m\u001b[0m\u001b[0m\n\u001b[0m\u001b[1;32m    987\u001b[0m \u001b[0;34m\u001b[0m\u001b[0m\n\u001b[1;32m    988\u001b[0m       \u001b[0;31m# invariant: `func_outputs` contains only Tensors, CompositeTensors,\u001b[0m\u001b[0;34m\u001b[0m\u001b[0;34m\u001b[0m\u001b[0;34m\u001b[0m\u001b[0m\n",
            "\u001b[0;32m/usr/local/lib/python3.6/dist-packages/tensorflow/python/eager/def_function.py\u001b[0m in \u001b[0;36mwrapped_fn\u001b[0;34m(*args, **kwds)\u001b[0m\n\u001b[1;32m    598\u001b[0m         \u001b[0;31m# __wrapped__ allows AutoGraph to swap in a converted function. We give\u001b[0m\u001b[0;34m\u001b[0m\u001b[0;34m\u001b[0m\u001b[0;34m\u001b[0m\u001b[0m\n\u001b[1;32m    599\u001b[0m         \u001b[0;31m# the function a weak reference to itself to avoid a reference cycle.\u001b[0m\u001b[0;34m\u001b[0m\u001b[0;34m\u001b[0m\u001b[0;34m\u001b[0m\u001b[0m\n\u001b[0;32m--> 600\u001b[0;31m         \u001b[0;32mreturn\u001b[0m \u001b[0mweak_wrapped_fn\u001b[0m\u001b[0;34m(\u001b[0m\u001b[0;34m)\u001b[0m\u001b[0;34m.\u001b[0m\u001b[0m__wrapped__\u001b[0m\u001b[0;34m(\u001b[0m\u001b[0;34m*\u001b[0m\u001b[0margs\u001b[0m\u001b[0;34m,\u001b[0m \u001b[0;34m**\u001b[0m\u001b[0mkwds\u001b[0m\u001b[0;34m)\u001b[0m\u001b[0;34m\u001b[0m\u001b[0;34m\u001b[0m\u001b[0m\n\u001b[0m\u001b[1;32m    601\u001b[0m     \u001b[0mweak_wrapped_fn\u001b[0m \u001b[0;34m=\u001b[0m \u001b[0mweakref\u001b[0m\u001b[0;34m.\u001b[0m\u001b[0mref\u001b[0m\u001b[0;34m(\u001b[0m\u001b[0mwrapped_fn\u001b[0m\u001b[0;34m)\u001b[0m\u001b[0;34m\u001b[0m\u001b[0;34m\u001b[0m\u001b[0m\n\u001b[1;32m    602\u001b[0m \u001b[0;34m\u001b[0m\u001b[0m\n",
            "\u001b[0;32m/usr/local/lib/python3.6/dist-packages/tensorflow/python/framework/func_graph.py\u001b[0m in \u001b[0;36mwrapper\u001b[0;34m(*args, **kwargs)\u001b[0m\n\u001b[1;32m    971\u001b[0m           \u001b[0;32mexcept\u001b[0m \u001b[0mException\u001b[0m \u001b[0;32mas\u001b[0m \u001b[0me\u001b[0m\u001b[0;34m:\u001b[0m  \u001b[0;31m# pylint:disable=broad-except\u001b[0m\u001b[0;34m\u001b[0m\u001b[0;34m\u001b[0m\u001b[0m\n\u001b[1;32m    972\u001b[0m             \u001b[0;32mif\u001b[0m \u001b[0mhasattr\u001b[0m\u001b[0;34m(\u001b[0m\u001b[0me\u001b[0m\u001b[0;34m,\u001b[0m \u001b[0;34m\"ag_error_metadata\"\u001b[0m\u001b[0;34m)\u001b[0m\u001b[0;34m:\u001b[0m\u001b[0;34m\u001b[0m\u001b[0;34m\u001b[0m\u001b[0m\n\u001b[0;32m--> 973\u001b[0;31m               \u001b[0;32mraise\u001b[0m \u001b[0me\u001b[0m\u001b[0;34m.\u001b[0m\u001b[0mag_error_metadata\u001b[0m\u001b[0;34m.\u001b[0m\u001b[0mto_exception\u001b[0m\u001b[0;34m(\u001b[0m\u001b[0me\u001b[0m\u001b[0;34m)\u001b[0m\u001b[0;34m\u001b[0m\u001b[0;34m\u001b[0m\u001b[0m\n\u001b[0m\u001b[1;32m    974\u001b[0m             \u001b[0;32melse\u001b[0m\u001b[0;34m:\u001b[0m\u001b[0;34m\u001b[0m\u001b[0;34m\u001b[0m\u001b[0m\n\u001b[1;32m    975\u001b[0m               \u001b[0;32mraise\u001b[0m\u001b[0;34m\u001b[0m\u001b[0;34m\u001b[0m\u001b[0m\n",
            "\u001b[0;31mValueError\u001b[0m: in user code:\n\n    /usr/local/lib/python3.6/dist-packages/tensorflow/python/keras/engine/training.py:1224 test_function  *\n        return step_function(self, iterator)\n    /usr/local/lib/python3.6/dist-packages/tensorflow/python/keras/engine/training.py:1215 step_function  **\n        outputs = model.distribute_strategy.run(run_step, args=(data,))\n    /usr/local/lib/python3.6/dist-packages/tensorflow/python/distribute/distribute_lib.py:1211 run\n        return self._extended.call_for_each_replica(fn, args=args, kwargs=kwargs)\n    /usr/local/lib/python3.6/dist-packages/tensorflow/python/distribute/distribute_lib.py:2585 call_for_each_replica\n        return self._call_for_each_replica(fn, args, kwargs)\n    /usr/local/lib/python3.6/dist-packages/tensorflow/python/distribute/distribute_lib.py:2945 _call_for_each_replica\n        return fn(*args, **kwargs)\n    /usr/local/lib/python3.6/dist-packages/tensorflow/python/keras/engine/training.py:1208 run_step  **\n        outputs = model.test_step(data)\n    /usr/local/lib/python3.6/dist-packages/tensorflow/python/keras/engine/training.py:1174 test_step\n        y_pred = self(x, training=False)\n    /usr/local/lib/python3.6/dist-packages/tensorflow/python/keras/engine/base_layer.py:976 __call__\n        self.name)\n    /usr/local/lib/python3.6/dist-packages/tensorflow/python/keras/engine/input_spec.py:180 assert_input_compatibility\n        str(x.shape.as_list()))\n\n    ValueError: Input 0 of layer sequential_3 is incompatible with the layer: expected ndim=3, found ndim=2. Full shape received: [None, 15]\n"
          ]
        }
      ]
    },
    {
      "cell_type": "markdown",
      "metadata": {
        "id": "H5yaquu4WqEs"
      },
      "source": [
        "## Plot Loss and Accuracy"
      ]
    },
    {
      "cell_type": "code",
      "metadata": {
        "id": "jJL3rTmcWsSP"
      },
      "source": [
        "plt.title('Loss')\n",
        "plt.plot(history.history['loss'], label='train')\n",
        "plt.plot(history.history['val_loss'], label='test')\n",
        "plt.legend()\n",
        "plt.show();"
      ],
      "execution_count": null,
      "outputs": []
    },
    {
      "cell_type": "code",
      "metadata": {
        "id": "P8ElyP1FZtsF"
      },
      "source": [
        "plt.title('Accuracy')\n",
        "plt.plot(history.history['acc'], label='train')\n",
        "plt.plot(history.history['val_acc'], label='test')\n",
        "plt.legend()\n",
        "plt.show();"
      ],
      "execution_count": null,
      "outputs": []
    },
    {
      "cell_type": "markdown",
      "metadata": {
        "id": "VQ9WA9AGayg5"
      },
      "source": [
        "# 2.1 Loading NY - Social Distancing Inertia Labeled data"
      ]
    },
    {
      "cell_type": "code",
      "metadata": {
        "id": "gmHPORdWayg7"
      },
      "source": [
        "NY_inertia_labeled_data = pd.read_csv('/content/drive/Shared drives/CMPE 295- Master Project/Covid19-data/NY_sd_inertia_labeledData_Sep26.csv',low_memory=False)\n",
        "NY_inertia_labeled_data.head()"
      ],
      "execution_count": null,
      "outputs": []
    },
    {
      "cell_type": "markdown",
      "metadata": {
        "id": "fSi0HBf0ayg-"
      },
      "source": [
        "## Categorical Code"
      ]
    },
    {
      "cell_type": "code",
      "metadata": {
        "id": "j6qfP8ddayg_"
      },
      "source": [
        "NY_inertia_labeled_data[\"label\"] = NY_inertia_labeled_data[\"label\"].astype('category')\n",
        "NY_inertia_labeled_data['spread_category']= NY_inertia_labeled_data[\"label\"].cat.codes"
      ],
      "execution_count": null,
      "outputs": []
    },
    {
      "cell_type": "code",
      "metadata": {
        "id": "9RHsd6ngayhC"
      },
      "source": [
        "NY_inertia_labeled_data.head(4)"
      ],
      "execution_count": null,
      "outputs": []
    },
    {
      "cell_type": "markdown",
      "metadata": {
        "id": "N5DPoCTYayhE"
      },
      "source": [
        "## Train-Test Split"
      ]
    },
    {
      "cell_type": "code",
      "metadata": {
        "id": "eBFEdKqeayhF"
      },
      "source": [
        "NY_inertia_labeled_data.columns"
      ],
      "execution_count": null,
      "outputs": []
    },
    {
      "cell_type": "code",
      "metadata": {
        "id": "7f2tO1puayhH"
      },
      "source": [
        "X_cols = ['FIPS', 'New cases', 'mask_rule_active',\n",
        "       'CTFIPS', 'CTNAME', 'STFIPS', 'Social distancing index',\n",
        "       '% staying home', 'Trips/person', '% out-of-county trips',\n",
        "       '% out-of-state trips', 'Miles/person', 'Work trips/person',\n",
        "       'Non-work trips/person', 'New COVID cases', 'Population',\n",
        "       '% change in consumption', 'date', 'Transit mode share',\n",
        "       '% people older than 60', 'Median income', '% African Americans',\n",
        "       '% Hispanic Americans', '% Male', 'Population density',\n",
        "       'Employment density', '# hot spots/1000 people',\n",
        "       'Hospital beds/1000 people', 'ICUs/1000 people',\n",
        "       '# contact tracing workers/1000 people',\n",
        "       '# contact tracing workers/1000 people rank',\n",
        "       '% people older than 60 rank', 'COVID exposure/1000 people',\n",
        "       'Unemployment claims/1000 people', 'Unemployment rate',\n",
        "       '% working from home', 'Cumulative inflation rate',\n",
        "       '% hospital bed utilization', 'Testing capacity',\n",
        "       'Tests done/1000 people', '% ICU utilization', 'Ventilator shortage',\n",
        "       'Confirmed', 'Deaths', 'New deaths', '#days: decreasing ILI cases',\n",
        "       'COVID death rate', 'New cases/1000 people', 'Active cases/1000 people',\n",
        "       '#days: decreasing COVID cases', 'Imported COVID cases',\n",
        "       'rolling_avg_new_cases']"
      ],
      "execution_count": null,
      "outputs": []
    },
    {
      "cell_type": "code",
      "metadata": {
        "id": "FxSaTG6rayhJ"
      },
      "source": [
        "NY_inertia_labeled_data['Date'] =  pd.to_datetime(NY_inertia_labeled_data['Date'])"
      ],
      "execution_count": null,
      "outputs": []
    },
    {
      "cell_type": "code",
      "metadata": {
        "id": "ltZp80HVayhL"
      },
      "source": [
        "X = NY_inertia_labeled_data[X_cols]\n",
        "Y = NY_inertia_labeled_data[['spread_category']]\n",
        "Y.shape"
      ],
      "execution_count": null,
      "outputs": []
    },
    {
      "cell_type": "code",
      "metadata": {
        "id": "DcuNQS94ayhN"
      },
      "source": [
        "X_train, X_test, Y_train, Y_test = train_test_split(X,Y, test_size = 0.10, random_state = 42)\n",
        "print(X_train.shape,Y_train.shape)\n",
        "print(X_test.shape,Y_test.shape)"
      ],
      "execution_count": null,
      "outputs": []
    },
    {
      "cell_type": "markdown",
      "metadata": {
        "id": "_Z2kL9ngayhP"
      },
      "source": [
        "## LSTM"
      ]
    },
    {
      "cell_type": "code",
      "metadata": {
        "id": "mVVNrnWfZX_m"
      },
      "source": [
        "seq_len=60\n",
        "model = Sequential()\n",
        "model.add(LSTM(256, input_shape=(seq_len, 4)))\n",
        "model.add(Dense(1, activation='sigmoid'))"
      ],
      "execution_count": null,
      "outputs": []
    },
    {
      "cell_type": "code",
      "metadata": {
        "id": "E3Y-41DiayhS"
      },
      "source": [
        "adam = Adam(lr=0.001)\n",
        "chk = ModelCheckpoint('best_model.pkl', monitor='val_acc', save_best_only=True, mode='max', verbose=1)\n",
        "model.compile(loss='binary_crossentropy', optimizer=adam, metrics=['accuracy'])\n",
        "history=model.fit(X_train, Y_train, epochs=200, batch_size=128, callbacks=[chk], validation_data=(X_test, Y_test))"
      ],
      "execution_count": null,
      "outputs": []
    },
    {
      "cell_type": "markdown",
      "metadata": {
        "id": "VHvK46cZayhU"
      },
      "source": [
        "## Accuracy"
      ]
    },
    {
      "cell_type": "code",
      "metadata": {
        "id": "BRgfACzxayhU"
      },
      "source": [
        "accr = model.evaluate(X_test,Y_test)\n",
        "print('Test set\\n  Loss: {:0.3f}\\n  Accuracy: {:0.3f}'.format(accr[0],accr[1]))"
      ],
      "execution_count": null,
      "outputs": []
    },
    {
      "cell_type": "markdown",
      "metadata": {
        "id": "CqsEiu2_ayhW"
      },
      "source": [
        "## Plot Loss and Accuracy"
      ]
    },
    {
      "cell_type": "code",
      "metadata": {
        "id": "tPDcx3KKayhX"
      },
      "source": [
        "plt.title('Loss')\n",
        "plt.plot(history.history['loss'], label='train')\n",
        "plt.plot(history.history['val_loss'], label='test')\n",
        "plt.legend()\n",
        "plt.show();"
      ],
      "execution_count": null,
      "outputs": []
    },
    {
      "cell_type": "code",
      "metadata": {
        "id": "lqrr3kJMayhZ"
      },
      "source": [
        "plt.title('Accuracy')\n",
        "plt.plot(history.history['acc'], label='train')\n",
        "plt.plot(history.history['val_acc'], label='test')\n",
        "plt.legend()\n",
        "plt.show();"
      ],
      "execution_count": null,
      "outputs": []
    },
    {
      "cell_type": "markdown",
      "metadata": {
        "id": "243ql4LfVgic"
      },
      "source": [
        "# Reference:\n",
        "\n",
        "* https://www.analyticsvidhya.com/blog/2019/01/introduction-time-series-classification/\n",
        "* https://towardsdatascience.com/multi-class-text-classification-with-lstm-1590bee1bd17\n",
        "* https://towardsdatascience.com/time-series-analysis-visualization-forecasting-with-lstm-77a905180eba"
      ]
    },
    {
      "cell_type": "code",
      "metadata": {
        "id": "CjTf_2KwViwK"
      },
      "source": [
        ""
      ],
      "execution_count": null,
      "outputs": []
    }
  ]
}