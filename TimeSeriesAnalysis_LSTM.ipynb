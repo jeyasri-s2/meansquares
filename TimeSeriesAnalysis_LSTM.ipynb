{
  "nbformat": 4,
  "nbformat_minor": 0,
  "metadata": {
    "colab": {
      "name": "TimeSeriesAnalysis_LSTM.ipynb",
      "provenance": [],
      "collapsed_sections": [],
      "toc_visible": true,
      "include_colab_link": true
    },
    "kernelspec": {
      "name": "python3",
      "display_name": "Python 3"
    }
  },
  "cells": [
    {
      "cell_type": "markdown",
      "metadata": {
        "id": "view-in-github",
        "colab_type": "text"
      },
      "source": [
        "<a href=\"https://colab.research.google.com/github/aarsanjani/meansquares/blob/master/TimeSeriesAnalysis_LSTM.ipynb\" target=\"_parent\"><img src=\"https://colab.research.google.com/assets/colab-badge.svg\" alt=\"Open In Colab\"/></a>"
      ]
    },
    {
      "cell_type": "markdown",
      "metadata": {
        "id": "qMAquoew3eJg",
        "colab_type": "text"
      },
      "source": [
        "# Workflow\n",
        "\n",
        "This colab uses the labeled NY data from the following csv files:\n",
        "* NY covid cases + mobility + population density + social distancing index (m50) + Mask rule  data and classified : **NY_labeledData_Aug27.csv**\n",
        "* NY covid cases with social distancing inertia data from Marlyland university and classified : **NY_sd_inertia_labeledData_Aug27.csv**\n",
        "\n",
        "Idea: \n",
        "* Do Time Series Analysis, Visualization & Forecasting with LSTM\n"
      ]
    },
    {
      "cell_type": "code",
      "metadata": {
        "id": "_UPGHLrf3SHf",
        "colab_type": "code",
        "colab": {
          "base_uri": "https://localhost:8080/",
          "height": 121
        },
        "outputId": "4bd494c4-1af0-4cf2-f73e-919858e95ba3"
      },
      "source": [
        "from google.colab import drive\n",
        "drive.mount('/content/drive')"
      ],
      "execution_count": 1,
      "outputs": [
        {
          "output_type": "stream",
          "text": [
            "Go to this URL in a browser: https://accounts.google.com/o/oauth2/auth?client_id=947318989803-6bn6qk8qdgf4n4g3pfee6491hc0brc4i.apps.googleusercontent.com&redirect_uri=urn%3aietf%3awg%3aoauth%3a2.0%3aoob&scope=email%20https%3a%2f%2fwww.googleapis.com%2fauth%2fdocs.test%20https%3a%2f%2fwww.googleapis.com%2fauth%2fdrive%20https%3a%2f%2fwww.googleapis.com%2fauth%2fdrive.photos.readonly%20https%3a%2f%2fwww.googleapis.com%2fauth%2fpeopleapi.readonly&response_type=code\n",
            "\n",
            "Enter your authorization code:\n",
            "··········\n",
            "Mounted at /content/drive\n"
          ],
          "name": "stdout"
        }
      ]
    },
    {
      "cell_type": "code",
      "metadata": {
        "id": "Mi5n0Qe14UFG",
        "colab_type": "code",
        "colab": {}
      },
      "source": [
        "import pandas as pd\n",
        "\n",
        "from tqdm import tqdm\n",
        "import seaborn as sns\n",
        "import numpy as np\n",
        "import matplotlib.pyplot as plt\n",
        "import os\n",
        "from pandas import Series, datetime\n",
        "from pandas.plotting import scatter_matrix, autocorrelation_plot\n",
        "from sklearn.preprocessing import StandardScaler, RobustScaler\n",
        "from sklearn.model_selection import train_test_split, KFold, cross_val_score, GridSearchCV, TimeSeriesSplit\n",
        "from sklearn import metrics\n",
        "from sklearn.metrics import classification_report, confusion_matrix, accuracy_score, mean_squared_error\n",
        "from sklearn.pipeline import Pipeline\n",
        "from sklearn.linear_model import LogisticRegression\n",
        "from sklearn.tree import DecisionTreeClassifier\n",
        "from sklearn.neighbors import KNeighborsClassifier\n",
        "from sklearn.discriminant_analysis import LinearDiscriminantAnalysis\n",
        "from sklearn.naive_bayes import GaussianNB\n",
        "from sklearn.cluster import KMeans\n",
        "from sklearn.svm import SVC\n",
        "from sklearn.ensemble import AdaBoostClassifier, GradientBoostingClassifier, RandomForestClassifier, ExtraTreesClassifier\n",
        "from sklearn.metrics import roc_curve, auc\n",
        "import random\n",
        "from statsmodels.graphics.tsaplots import plot_acf, plot_pacf\n",
        "from statsmodels.tsa.arima_model import ARIMA\n",
        "from xgboost import XGBClassifier\n",
        "from sklearn.mixture import GaussianMixture"
      ],
      "execution_count": 4,
      "outputs": []
    },
    {
      "cell_type": "code",
      "metadata": {
        "id": "s85N4fzq2he_",
        "colab_type": "code",
        "colab": {
          "base_uri": "https://localhost:8080/",
          "height": 70
        },
        "outputId": "c4aca4f3-f051-4d61-e9db-34e31fad0197"
      },
      "source": [
        "import numpy as np\n",
        "import matplotlib.pyplot as plt\n",
        "import pandas as pd\n",
        "pd.set_option('display.float_format', lambda x: '%.4f' % x)\n",
        "import seaborn as sns\n",
        "sns.set_context(\"paper\", font_scale=1.3)\n",
        "sns.set_style('white')\n",
        "import warnings\n",
        "warnings.filterwarnings('ignore')\n",
        "from time import time\n",
        "import matplotlib.ticker as tkr\n",
        "from scipy import stats\n",
        "from statsmodels.tsa.stattools import adfuller\n",
        "from sklearn import preprocessing\n",
        "from statsmodels.tsa.stattools import pacf\n",
        "%matplotlib inline\n",
        "import math\n",
        "import keras\n",
        "from keras.models import Sequential\n",
        "from keras.layers import Dense\n",
        "from keras.layers import LSTM\n",
        "from keras.layers import Dropout\n",
        "from keras.layers import *\n",
        "from sklearn.preprocessing import MinMaxScaler\n",
        "from sklearn.metrics import mean_squared_error\n",
        "from sklearn.metrics import mean_absolute_error\n",
        "from keras.callbacks import EarlyStopping\n"
      ],
      "execution_count": 2,
      "outputs": [
        {
          "output_type": "stream",
          "text": [
            "/usr/local/lib/python3.6/dist-packages/statsmodels/tools/_testing.py:19: FutureWarning: pandas.util.testing is deprecated. Use the functions in the public API at pandas.testing instead.\n",
            "  import pandas.util.testing as tm\n"
          ],
          "name": "stderr"
        }
      ]
    },
    {
      "cell_type": "code",
      "metadata": {
        "id": "BPu9_0-04dxZ",
        "colab_type": "code",
        "colab": {}
      },
      "source": [
        "os.environ[\"TF_CPP_MIN_LOG_LEVEL\"]=\"2\"\n",
        "import warnings; warnings.simplefilter('ignore')\n"
      ],
      "execution_count": 5,
      "outputs": []
    },
    {
      "cell_type": "code",
      "metadata": {
        "id": "umC6l9Q04m-0",
        "colab_type": "code",
        "colab": {
          "base_uri": "https://localhost:8080/",
          "height": 336
        },
        "outputId": "06741afb-4a82-4c1b-ee8f-867ddce32a0f"
      },
      "source": [
        "!ls  '/content/drive/Shared drives/CMPE 295- Master Project/Covid19-data/'"
      ],
      "execution_count": 6,
      "outputs": [
        {
          "output_type": "stream",
          "text": [
            "CA_Covid-19.csv\n",
            "CA-CovidAug22.csv\n",
            "Maryland_University_SocialDistancing_Data\n",
            "mask_rule.csv\n",
            "mask_rule_data.csv\n",
            "Newyork_combinedAug22.csv\n",
            "Newyork_combined.csv\n",
            "NY_Covid-19.csv\n",
            "NY-CovidAug21.csv\n",
            "NY-CovidAug22.csv\n",
            "NY_labeledData_Aug23.csv\n",
            "NY_labeledData_Aug27.csv\n",
            "NY_sd_inertia_labeledData_Aug26.csv\n",
            "NY_sd_inertia_labeledData_Aug27.csv\n",
            "NY_socialDistancingInertiaDataAug25.csv\n",
            "queens_all_combined.csv\n",
            "queens_all_filtered.csv\n",
            "Queens_county.csv\n",
            "Social_Distancing_Inertia_County.csv\n"
          ],
          "name": "stdout"
        }
      ]
    },
    {
      "cell_type": "markdown",
      "metadata": {
        "id": "tRs8xkjX433D",
        "colab_type": "text"
      },
      "source": [
        "# 1.1 Loading NY Labeled data"
      ]
    },
    {
      "cell_type": "code",
      "metadata": {
        "id": "9uArhfbu43lE",
        "colab_type": "code",
        "colab": {
          "base_uri": "https://localhost:8080/",
          "height": 333
        },
        "outputId": "09678f56-a5a0-4993-94d1-6aff5eb1d074"
      },
      "source": [
        "NY_labeled_data = pd.read_csv('/content/drive/Shared drives/CMPE 295- Master Project/Covid19-data/NY_labeledData_Aug27.csv',low_memory=False)\n",
        "NY_labeled_data.head()"
      ],
      "execution_count": 7,
      "outputs": [
        {
          "output_type": "execute_result",
          "data": {
            "text/html": [
              "<div>\n",
              "<style scoped>\n",
              "    .dataframe tbody tr th:only-of-type {\n",
              "        vertical-align: middle;\n",
              "    }\n",
              "\n",
              "    .dataframe tbody tr th {\n",
              "        vertical-align: top;\n",
              "    }\n",
              "\n",
              "    .dataframe thead th {\n",
              "        text-align: right;\n",
              "    }\n",
              "</style>\n",
              "<table border=\"1\" class=\"dataframe\">\n",
              "  <thead>\n",
              "    <tr style=\"text-align: right;\">\n",
              "      <th></th>\n",
              "      <th>Date</th>\n",
              "      <th>fips_x</th>\n",
              "      <th>County Name</th>\n",
              "      <th>retail and recreation</th>\n",
              "      <th>grocery and pharmacy</th>\n",
              "      <th>parks</th>\n",
              "      <th>transit stations</th>\n",
              "      <th>workplaces</th>\n",
              "      <th>residential</th>\n",
              "      <th>driving</th>\n",
              "      <th>m50</th>\n",
              "      <th>m50_index</th>\n",
              "      <th>population_density</th>\n",
              "      <th>mask_rule_active</th>\n",
              "      <th>mask_wearing_percent</th>\n",
              "      <th>New cases</th>\n",
              "      <th>rolling_avg_new_cases</th>\n",
              "      <th>label</th>\n",
              "    </tr>\n",
              "  </thead>\n",
              "  <tbody>\n",
              "    <tr>\n",
              "      <th>0</th>\n",
              "      <td>2020-03-01</td>\n",
              "      <td>36001</td>\n",
              "      <td>Albany County</td>\n",
              "      <td>10.0000</td>\n",
              "      <td>13.0000</td>\n",
              "      <td>19.0000</td>\n",
              "      <td>4.0000</td>\n",
              "      <td>7.0000</td>\n",
              "      <td>-1.0000</td>\n",
              "      <td>-4.8700</td>\n",
              "      <td>2.6160</td>\n",
              "      <td>54</td>\n",
              "      <td>584.3650</td>\n",
              "      <td>0</td>\n",
              "      <td>0.0000</td>\n",
              "      <td>0</td>\n",
              "      <td>0.0000</td>\n",
              "      <td>LessSpread</td>\n",
              "    </tr>\n",
              "    <tr>\n",
              "      <th>1</th>\n",
              "      <td>2020-03-01</td>\n",
              "      <td>36003</td>\n",
              "      <td>Allegany County</td>\n",
              "      <td>47.0000</td>\n",
              "      <td>13.0000</td>\n",
              "      <td>0.0000</td>\n",
              "      <td>0.0000</td>\n",
              "      <td>1.0000</td>\n",
              "      <td>0.0000</td>\n",
              "      <td>19.8100</td>\n",
              "      <td>0.7070</td>\n",
              "      <td>12</td>\n",
              "      <td>44.7785</td>\n",
              "      <td>0</td>\n",
              "      <td>0.0000</td>\n",
              "      <td>0</td>\n",
              "      <td>0.0000</td>\n",
              "      <td>LessSpread</td>\n",
              "    </tr>\n",
              "    <tr>\n",
              "      <th>2</th>\n",
              "      <td>2020-03-01</td>\n",
              "      <td>36123</td>\n",
              "      <td>Yates County</td>\n",
              "      <td>31.0000</td>\n",
              "      <td>33.0000</td>\n",
              "      <td>0.0000</td>\n",
              "      <td>0.0000</td>\n",
              "      <td>7.0000</td>\n",
              "      <td>0.0000</td>\n",
              "      <td>28.1400</td>\n",
              "      <td>5.0040</td>\n",
              "      <td>72</td>\n",
              "      <td>73.6766</td>\n",
              "      <td>0</td>\n",
              "      <td>0.0000</td>\n",
              "      <td>0</td>\n",
              "      <td>0.0000</td>\n",
              "      <td>LessSpread</td>\n",
              "    </tr>\n",
              "    <tr>\n",
              "      <th>3</th>\n",
              "      <td>2020-03-01</td>\n",
              "      <td>36119</td>\n",
              "      <td>Westchester County</td>\n",
              "      <td>8.0000</td>\n",
              "      <td>-1.0000</td>\n",
              "      <td>12.0000</td>\n",
              "      <td>1.0000</td>\n",
              "      <td>0.0000</td>\n",
              "      <td>0.0000</td>\n",
              "      <td>-4.3400</td>\n",
              "      <td>3.9030</td>\n",
              "      <td>59</td>\n",
              "      <td>2247.4007</td>\n",
              "      <td>0</td>\n",
              "      <td>0.0000</td>\n",
              "      <td>0</td>\n",
              "      <td>0.0000</td>\n",
              "      <td>LessSpread</td>\n",
              "    </tr>\n",
              "    <tr>\n",
              "      <th>4</th>\n",
              "      <td>2020-03-01</td>\n",
              "      <td>36031</td>\n",
              "      <td>Essex County</td>\n",
              "      <td>16.0000</td>\n",
              "      <td>11.0000</td>\n",
              "      <td>17.0000</td>\n",
              "      <td>0.0000</td>\n",
              "      <td>1.0000</td>\n",
              "      <td>0.0000</td>\n",
              "      <td>60.1800</td>\n",
              "      <td>12.6000</td>\n",
              "      <td>197</td>\n",
              "      <td>20.5576</td>\n",
              "      <td>0</td>\n",
              "      <td>0.0000</td>\n",
              "      <td>0</td>\n",
              "      <td>0.0000</td>\n",
              "      <td>LessSpread</td>\n",
              "    </tr>\n",
              "  </tbody>\n",
              "</table>\n",
              "</div>"
            ],
            "text/plain": [
              "         Date  fips_x  ... rolling_avg_new_cases       label\n",
              "0  2020-03-01   36001  ...                0.0000  LessSpread\n",
              "1  2020-03-01   36003  ...                0.0000  LessSpread\n",
              "2  2020-03-01   36123  ...                0.0000  LessSpread\n",
              "3  2020-03-01   36119  ...                0.0000  LessSpread\n",
              "4  2020-03-01   36031  ...                0.0000  LessSpread\n",
              "\n",
              "[5 rows x 18 columns]"
            ]
          },
          "metadata": {
            "tags": []
          },
          "execution_count": 7
        }
      ]
    },
    {
      "cell_type": "markdown",
      "metadata": {
        "id": "oT0BBBpu3cW6",
        "colab_type": "text"
      },
      "source": [
        "## Categorical Code"
      ]
    },
    {
      "cell_type": "code",
      "metadata": {
        "id": "XrYXUkd63lrN",
        "colab_type": "code",
        "colab": {}
      },
      "source": [
        "NY_labeled_data[\"label\"] = NY_labeled_data[\"label\"].astype('category')\n",
        "NY_labeled_data['spread_category']= NY_labeled_data[\"label\"].cat.codes"
      ],
      "execution_count": 8,
      "outputs": []
    },
    {
      "cell_type": "code",
      "metadata": {
        "id": "LDORmnGeNjbn",
        "colab_type": "code",
        "colab": {
          "base_uri": "https://localhost:8080/",
          "height": 286
        },
        "outputId": "6e070894-1cb2-4015-e583-229801222eaf"
      },
      "source": [
        "NY_labeled_data.head(4)"
      ],
      "execution_count": 14,
      "outputs": [
        {
          "output_type": "execute_result",
          "data": {
            "text/html": [
              "<div>\n",
              "<style scoped>\n",
              "    .dataframe tbody tr th:only-of-type {\n",
              "        vertical-align: middle;\n",
              "    }\n",
              "\n",
              "    .dataframe tbody tr th {\n",
              "        vertical-align: top;\n",
              "    }\n",
              "\n",
              "    .dataframe thead th {\n",
              "        text-align: right;\n",
              "    }\n",
              "</style>\n",
              "<table border=\"1\" class=\"dataframe\">\n",
              "  <thead>\n",
              "    <tr style=\"text-align: right;\">\n",
              "      <th></th>\n",
              "      <th>Date</th>\n",
              "      <th>fips_x</th>\n",
              "      <th>County Name</th>\n",
              "      <th>retail and recreation</th>\n",
              "      <th>grocery and pharmacy</th>\n",
              "      <th>parks</th>\n",
              "      <th>transit stations</th>\n",
              "      <th>workplaces</th>\n",
              "      <th>residential</th>\n",
              "      <th>driving</th>\n",
              "      <th>m50</th>\n",
              "      <th>m50_index</th>\n",
              "      <th>population_density</th>\n",
              "      <th>mask_rule_active</th>\n",
              "      <th>mask_wearing_percent</th>\n",
              "      <th>New cases</th>\n",
              "      <th>rolling_avg_new_cases</th>\n",
              "      <th>label</th>\n",
              "      <th>spread_category</th>\n",
              "    </tr>\n",
              "  </thead>\n",
              "  <tbody>\n",
              "    <tr>\n",
              "      <th>0</th>\n",
              "      <td>2020-03-01</td>\n",
              "      <td>36001</td>\n",
              "      <td>Albany County</td>\n",
              "      <td>10.0000</td>\n",
              "      <td>13.0000</td>\n",
              "      <td>19.0000</td>\n",
              "      <td>4.0000</td>\n",
              "      <td>7.0000</td>\n",
              "      <td>-1.0000</td>\n",
              "      <td>-4.8700</td>\n",
              "      <td>2.6160</td>\n",
              "      <td>54</td>\n",
              "      <td>584.3650</td>\n",
              "      <td>0</td>\n",
              "      <td>0.0000</td>\n",
              "      <td>0</td>\n",
              "      <td>0.0000</td>\n",
              "      <td>LessSpread</td>\n",
              "      <td>0</td>\n",
              "    </tr>\n",
              "    <tr>\n",
              "      <th>1</th>\n",
              "      <td>2020-03-01</td>\n",
              "      <td>36003</td>\n",
              "      <td>Allegany County</td>\n",
              "      <td>47.0000</td>\n",
              "      <td>13.0000</td>\n",
              "      <td>0.0000</td>\n",
              "      <td>0.0000</td>\n",
              "      <td>1.0000</td>\n",
              "      <td>0.0000</td>\n",
              "      <td>19.8100</td>\n",
              "      <td>0.7070</td>\n",
              "      <td>12</td>\n",
              "      <td>44.7785</td>\n",
              "      <td>0</td>\n",
              "      <td>0.0000</td>\n",
              "      <td>0</td>\n",
              "      <td>0.0000</td>\n",
              "      <td>LessSpread</td>\n",
              "      <td>0</td>\n",
              "    </tr>\n",
              "    <tr>\n",
              "      <th>2</th>\n",
              "      <td>2020-03-01</td>\n",
              "      <td>36123</td>\n",
              "      <td>Yates County</td>\n",
              "      <td>31.0000</td>\n",
              "      <td>33.0000</td>\n",
              "      <td>0.0000</td>\n",
              "      <td>0.0000</td>\n",
              "      <td>7.0000</td>\n",
              "      <td>0.0000</td>\n",
              "      <td>28.1400</td>\n",
              "      <td>5.0040</td>\n",
              "      <td>72</td>\n",
              "      <td>73.6766</td>\n",
              "      <td>0</td>\n",
              "      <td>0.0000</td>\n",
              "      <td>0</td>\n",
              "      <td>0.0000</td>\n",
              "      <td>LessSpread</td>\n",
              "      <td>0</td>\n",
              "    </tr>\n",
              "    <tr>\n",
              "      <th>3</th>\n",
              "      <td>2020-03-01</td>\n",
              "      <td>36119</td>\n",
              "      <td>Westchester County</td>\n",
              "      <td>8.0000</td>\n",
              "      <td>-1.0000</td>\n",
              "      <td>12.0000</td>\n",
              "      <td>1.0000</td>\n",
              "      <td>0.0000</td>\n",
              "      <td>0.0000</td>\n",
              "      <td>-4.3400</td>\n",
              "      <td>3.9030</td>\n",
              "      <td>59</td>\n",
              "      <td>2247.4007</td>\n",
              "      <td>0</td>\n",
              "      <td>0.0000</td>\n",
              "      <td>0</td>\n",
              "      <td>0.0000</td>\n",
              "      <td>LessSpread</td>\n",
              "      <td>0</td>\n",
              "    </tr>\n",
              "  </tbody>\n",
              "</table>\n",
              "</div>"
            ],
            "text/plain": [
              "         Date  fips_x  ...       label  spread_category\n",
              "0  2020-03-01   36001  ...  LessSpread                0\n",
              "1  2020-03-01   36003  ...  LessSpread                0\n",
              "2  2020-03-01   36123  ...  LessSpread                0\n",
              "3  2020-03-01   36119  ...  LessSpread                0\n",
              "\n",
              "[4 rows x 19 columns]"
            ]
          },
          "metadata": {
            "tags": []
          },
          "execution_count": 14
        }
      ]
    },
    {
      "cell_type": "markdown",
      "metadata": {
        "id": "PEJRjVy4313O",
        "colab_type": "text"
      },
      "source": [
        "## Train-Test Split"
      ]
    },
    {
      "cell_type": "code",
      "metadata": {
        "id": "kq0brgMHORkE",
        "colab_type": "code",
        "colab": {
          "base_uri": "https://localhost:8080/",
          "height": 118
        },
        "outputId": "ac3701ab-1d48-4520-c722-8a800343b91f"
      },
      "source": [
        "NY_labeled_data.columns"
      ],
      "execution_count": 9,
      "outputs": [
        {
          "output_type": "execute_result",
          "data": {
            "text/plain": [
              "Index(['Date', 'fips_x', 'County Name', 'retail and recreation',\n",
              "       'grocery and pharmacy', 'parks', 'transit stations', 'workplaces',\n",
              "       'residential', 'driving', 'm50', 'm50_index', 'population_density',\n",
              "       'mask_rule_active', 'mask_wearing_percent', 'New cases',\n",
              "       'rolling_avg_new_cases', 'label', 'spread_category'],\n",
              "      dtype='object')"
            ]
          },
          "metadata": {
            "tags": []
          },
          "execution_count": 9
        }
      ]
    },
    {
      "cell_type": "code",
      "metadata": {
        "id": "iW2tEKAcPILE",
        "colab_type": "code",
        "colab": {}
      },
      "source": [
        "X_cols = ['fips_x','retail and recreation',\n",
        "       'grocery and pharmacy', 'parks', 'transit stations', 'workplaces',\n",
        "       'residential', 'driving', 'm50', 'm50_index', 'population_density',\n",
        "       'mask_rule_active', 'mask_wearing_percent', 'New cases',\n",
        "       'rolling_avg_new_cases']"
      ],
      "execution_count": 10,
      "outputs": []
    },
    {
      "cell_type": "code",
      "metadata": {
        "id": "Mo__LpMQQLJz",
        "colab_type": "code",
        "colab": {}
      },
      "source": [
        "NY_labeled_data['Date'] =  pd.to_datetime(NY_labeled_data['Date'])"
      ],
      "execution_count": 11,
      "outputs": []
    },
    {
      "cell_type": "code",
      "metadata": {
        "id": "SvlX1cBlQgZT",
        "colab_type": "code",
        "colab": {
          "base_uri": "https://localhost:8080/",
          "height": 34
        },
        "outputId": "a3d5b48d-5107-4c4c-8285-d8c47bbe0164"
      },
      "source": [
        "X = NY_labeled_data[X_cols]\n",
        "Y = NY_labeled_data[['spread_category']]\n",
        "Y.shape"
      ],
      "execution_count": 12,
      "outputs": [
        {
          "output_type": "execute_result",
          "data": {
            "text/plain": [
              "(9690, 1)"
            ]
          },
          "metadata": {
            "tags": []
          },
          "execution_count": 12
        }
      ]
    },
    {
      "cell_type": "code",
      "metadata": {
        "id": "M3YPgalHQtLj",
        "colab_type": "code",
        "colab": {
          "base_uri": "https://localhost:8080/",
          "height": 50
        },
        "outputId": "6e260c1d-f596-4976-e69c-6c34ad01212f"
      },
      "source": [
        "X_train, X_test, Y_train, Y_test = train_test_split(X,Y, test_size = 0.10, random_state = 42)\n",
        "print(X_train.shape,Y_train.shape)\n",
        "print(X_test.shape,Y_test.shape)"
      ],
      "execution_count": 13,
      "outputs": [
        {
          "output_type": "stream",
          "text": [
            "(8721, 15) (8721, 1)\n",
            "(969, 15) (969, 1)\n"
          ],
          "name": "stdout"
        }
      ]
    },
    {
      "cell_type": "code",
      "metadata": {
        "id": "2cQQe3R9mzKg",
        "colab_type": "code",
        "colab": {
          "base_uri": "https://localhost:8080/",
          "height": 34
        },
        "outputId": "8ca51cce-ba7a-4f4d-e82b-019de92dd9e3"
      },
      "source": [
        "X_train.shape[0]"
      ],
      "execution_count": 20,
      "outputs": [
        {
          "output_type": "execute_result",
          "data": {
            "text/plain": [
              "8721"
            ]
          },
          "metadata": {
            "tags": []
          },
          "execution_count": 20
        }
      ]
    },
    {
      "cell_type": "markdown",
      "metadata": {
        "id": "qbmjAgkwRMwb",
        "colab_type": "text"
      },
      "source": [
        "## LSTM"
      ]
    },
    {
      "cell_type": "code",
      "metadata": {
        "id": "fVemK5aGUNQb",
        "colab_type": "code",
        "colab": {}
      },
      "source": [
        "from keras.preprocessing import sequence\n",
        "import tensorflow as tf\n",
        "from keras.models import Sequential\n",
        "from keras.layers import Dense\n",
        "from keras.layers import LSTM\n",
        "\n",
        "from keras.optimizers import Adam\n",
        "from keras.models import load_model\n",
        "from keras.callbacks import ModelCheckpoint\n",
        "from sklearn.preprocessing import MinMaxScaler"
      ],
      "execution_count": 14,
      "outputs": []
    },
    {
      "cell_type": "code",
      "metadata": {
        "id": "GLR9uuICZ4t1",
        "colab_type": "code",
        "colab": {
          "base_uri": "https://localhost:8080/",
          "height": 370
        },
        "outputId": "7daa078f-e4ad-4aec-b269-dcc808d17daf"
      },
      "source": [
        "seq_len=X_train.shape[0]\n",
        "day = 14\n",
        "num_output = 3\n",
        "model = Sequential()\n",
        "model.add(LSTM(256, input_shape=(seq_len, day,num_output)))\n",
        "model.add(Dense(1, activation='sigmoid'))"
      ],
      "execution_count": 21,
      "outputs": [
        {
          "output_type": "error",
          "ename": "ValueError",
          "evalue": "ignored",
          "traceback": [
            "\u001b[0;31m---------------------------------------------------------------------------\u001b[0m",
            "\u001b[0;31mValueError\u001b[0m                                Traceback (most recent call last)",
            "\u001b[0;32m<ipython-input-21-b93b11b7c3f2>\u001b[0m in \u001b[0;36m<module>\u001b[0;34m()\u001b[0m\n\u001b[1;32m      3\u001b[0m \u001b[0mnum_output\u001b[0m \u001b[0;34m=\u001b[0m \u001b[0;36m3\u001b[0m\u001b[0;34m\u001b[0m\u001b[0;34m\u001b[0m\u001b[0m\n\u001b[1;32m      4\u001b[0m \u001b[0mmodel\u001b[0m \u001b[0;34m=\u001b[0m \u001b[0mSequential\u001b[0m\u001b[0;34m(\u001b[0m\u001b[0;34m)\u001b[0m\u001b[0;34m\u001b[0m\u001b[0;34m\u001b[0m\u001b[0m\n\u001b[0;32m----> 5\u001b[0;31m \u001b[0mmodel\u001b[0m\u001b[0;34m.\u001b[0m\u001b[0madd\u001b[0m\u001b[0;34m(\u001b[0m\u001b[0mLSTM\u001b[0m\u001b[0;34m(\u001b[0m\u001b[0;36m256\u001b[0m\u001b[0;34m,\u001b[0m \u001b[0minput_shape\u001b[0m\u001b[0;34m=\u001b[0m\u001b[0;34m(\u001b[0m\u001b[0mseq_len\u001b[0m\u001b[0;34m,\u001b[0m \u001b[0mday\u001b[0m\u001b[0;34m,\u001b[0m\u001b[0mnum_output\u001b[0m\u001b[0;34m)\u001b[0m\u001b[0;34m)\u001b[0m\u001b[0;34m)\u001b[0m\u001b[0;34m\u001b[0m\u001b[0;34m\u001b[0m\u001b[0m\n\u001b[0m\u001b[1;32m      6\u001b[0m \u001b[0mmodel\u001b[0m\u001b[0;34m.\u001b[0m\u001b[0madd\u001b[0m\u001b[0;34m(\u001b[0m\u001b[0mDense\u001b[0m\u001b[0;34m(\u001b[0m\u001b[0;36m1\u001b[0m\u001b[0;34m,\u001b[0m \u001b[0mactivation\u001b[0m\u001b[0;34m=\u001b[0m\u001b[0;34m'sigmoid'\u001b[0m\u001b[0;34m)\u001b[0m\u001b[0;34m)\u001b[0m\u001b[0;34m\u001b[0m\u001b[0;34m\u001b[0m\u001b[0m\n",
            "\u001b[0;32m/usr/local/lib/python3.6/dist-packages/tensorflow/python/training/tracking/base.py\u001b[0m in \u001b[0;36m_method_wrapper\u001b[0;34m(self, *args, **kwargs)\u001b[0m\n\u001b[1;32m    455\u001b[0m     \u001b[0mself\u001b[0m\u001b[0;34m.\u001b[0m\u001b[0m_self_setattr_tracking\u001b[0m \u001b[0;34m=\u001b[0m \u001b[0;32mFalse\u001b[0m  \u001b[0;31m# pylint: disable=protected-access\u001b[0m\u001b[0;34m\u001b[0m\u001b[0;34m\u001b[0m\u001b[0m\n\u001b[1;32m    456\u001b[0m     \u001b[0;32mtry\u001b[0m\u001b[0;34m:\u001b[0m\u001b[0;34m\u001b[0m\u001b[0;34m\u001b[0m\u001b[0m\n\u001b[0;32m--> 457\u001b[0;31m       \u001b[0mresult\u001b[0m \u001b[0;34m=\u001b[0m \u001b[0mmethod\u001b[0m\u001b[0;34m(\u001b[0m\u001b[0mself\u001b[0m\u001b[0;34m,\u001b[0m \u001b[0;34m*\u001b[0m\u001b[0margs\u001b[0m\u001b[0;34m,\u001b[0m \u001b[0;34m**\u001b[0m\u001b[0mkwargs\u001b[0m\u001b[0;34m)\u001b[0m\u001b[0;34m\u001b[0m\u001b[0;34m\u001b[0m\u001b[0m\n\u001b[0m\u001b[1;32m    458\u001b[0m     \u001b[0;32mfinally\u001b[0m\u001b[0;34m:\u001b[0m\u001b[0;34m\u001b[0m\u001b[0;34m\u001b[0m\u001b[0m\n\u001b[1;32m    459\u001b[0m       \u001b[0mself\u001b[0m\u001b[0;34m.\u001b[0m\u001b[0m_self_setattr_tracking\u001b[0m \u001b[0;34m=\u001b[0m \u001b[0mprevious_value\u001b[0m  \u001b[0;31m# pylint: disable=protected-access\u001b[0m\u001b[0;34m\u001b[0m\u001b[0;34m\u001b[0m\u001b[0m\n",
            "\u001b[0;32m/usr/local/lib/python3.6/dist-packages/tensorflow/python/keras/engine/sequential.py\u001b[0m in \u001b[0;36madd\u001b[0;34m(self, layer)\u001b[0m\n\u001b[1;32m    204\u001b[0m           \u001b[0;31m# and create the node connecting the current layer\u001b[0m\u001b[0;34m\u001b[0m\u001b[0;34m\u001b[0m\u001b[0;34m\u001b[0m\u001b[0m\n\u001b[1;32m    205\u001b[0m           \u001b[0;31m# to the input layer we just created.\u001b[0m\u001b[0;34m\u001b[0m\u001b[0;34m\u001b[0m\u001b[0;34m\u001b[0m\u001b[0m\n\u001b[0;32m--> 206\u001b[0;31m           \u001b[0mlayer\u001b[0m\u001b[0;34m(\u001b[0m\u001b[0mx\u001b[0m\u001b[0;34m)\u001b[0m\u001b[0;34m\u001b[0m\u001b[0;34m\u001b[0m\u001b[0m\n\u001b[0m\u001b[1;32m    207\u001b[0m           \u001b[0mset_inputs\u001b[0m \u001b[0;34m=\u001b[0m \u001b[0;32mTrue\u001b[0m\u001b[0;34m\u001b[0m\u001b[0;34m\u001b[0m\u001b[0m\n\u001b[1;32m    208\u001b[0m \u001b[0;34m\u001b[0m\u001b[0m\n",
            "\u001b[0;32m/usr/local/lib/python3.6/dist-packages/tensorflow/python/keras/layers/recurrent.py\u001b[0m in \u001b[0;36m__call__\u001b[0;34m(self, inputs, initial_state, constants, **kwargs)\u001b[0m\n\u001b[1;32m    661\u001b[0m \u001b[0;34m\u001b[0m\u001b[0m\n\u001b[1;32m    662\u001b[0m     \u001b[0;32mif\u001b[0m \u001b[0minitial_state\u001b[0m \u001b[0;32mis\u001b[0m \u001b[0;32mNone\u001b[0m \u001b[0;32mand\u001b[0m \u001b[0mconstants\u001b[0m \u001b[0;32mis\u001b[0m \u001b[0;32mNone\u001b[0m\u001b[0;34m:\u001b[0m\u001b[0;34m\u001b[0m\u001b[0;34m\u001b[0m\u001b[0m\n\u001b[0;32m--> 663\u001b[0;31m       \u001b[0;32mreturn\u001b[0m \u001b[0msuper\u001b[0m\u001b[0;34m(\u001b[0m\u001b[0mRNN\u001b[0m\u001b[0;34m,\u001b[0m \u001b[0mself\u001b[0m\u001b[0;34m)\u001b[0m\u001b[0;34m.\u001b[0m\u001b[0m__call__\u001b[0m\u001b[0;34m(\u001b[0m\u001b[0minputs\u001b[0m\u001b[0;34m,\u001b[0m \u001b[0;34m**\u001b[0m\u001b[0mkwargs\u001b[0m\u001b[0;34m)\u001b[0m\u001b[0;34m\u001b[0m\u001b[0;34m\u001b[0m\u001b[0m\n\u001b[0m\u001b[1;32m    664\u001b[0m \u001b[0;34m\u001b[0m\u001b[0m\n\u001b[1;32m    665\u001b[0m     \u001b[0;31m# If any of `initial_state` or `constants` are specified and are Keras\u001b[0m\u001b[0;34m\u001b[0m\u001b[0;34m\u001b[0m\u001b[0;34m\u001b[0m\u001b[0m\n",
            "\u001b[0;32m/usr/local/lib/python3.6/dist-packages/tensorflow/python/keras/engine/base_layer.py\u001b[0m in \u001b[0;36m__call__\u001b[0;34m(self, *args, **kwargs)\u001b[0m\n\u001b[1;32m    924\u001b[0m     \u001b[0;32mif\u001b[0m \u001b[0m_in_functional_construction_mode\u001b[0m\u001b[0;34m(\u001b[0m\u001b[0mself\u001b[0m\u001b[0;34m,\u001b[0m \u001b[0minputs\u001b[0m\u001b[0;34m,\u001b[0m \u001b[0margs\u001b[0m\u001b[0;34m,\u001b[0m \u001b[0mkwargs\u001b[0m\u001b[0;34m,\u001b[0m \u001b[0minput_list\u001b[0m\u001b[0;34m)\u001b[0m\u001b[0;34m:\u001b[0m\u001b[0;34m\u001b[0m\u001b[0;34m\u001b[0m\u001b[0m\n\u001b[1;32m    925\u001b[0m       return self._functional_construction_call(inputs, args, kwargs,\n\u001b[0;32m--> 926\u001b[0;31m                                                 input_list)\n\u001b[0m\u001b[1;32m    927\u001b[0m \u001b[0;34m\u001b[0m\u001b[0m\n\u001b[1;32m    928\u001b[0m     \u001b[0;31m# Maintains info about the `Layer.call` stack.\u001b[0m\u001b[0;34m\u001b[0m\u001b[0;34m\u001b[0m\u001b[0;34m\u001b[0m\u001b[0m\n",
            "\u001b[0;32m/usr/local/lib/python3.6/dist-packages/tensorflow/python/keras/engine/base_layer.py\u001b[0m in \u001b[0;36m_functional_construction_call\u001b[0;34m(self, inputs, args, kwargs, input_list)\u001b[0m\n\u001b[1;32m   1090\u001b[0m       \u001b[0;31m# TODO(reedwm): We should assert input compatibility after the inputs\u001b[0m\u001b[0;34m\u001b[0m\u001b[0;34m\u001b[0m\u001b[0;34m\u001b[0m\u001b[0m\n\u001b[1;32m   1091\u001b[0m       \u001b[0;31m# are casted, not before.\u001b[0m\u001b[0;34m\u001b[0m\u001b[0;34m\u001b[0m\u001b[0;34m\u001b[0m\u001b[0m\n\u001b[0;32m-> 1092\u001b[0;31m       \u001b[0minput_spec\u001b[0m\u001b[0;34m.\u001b[0m\u001b[0massert_input_compatibility\u001b[0m\u001b[0;34m(\u001b[0m\u001b[0mself\u001b[0m\u001b[0;34m.\u001b[0m\u001b[0minput_spec\u001b[0m\u001b[0;34m,\u001b[0m \u001b[0minputs\u001b[0m\u001b[0;34m,\u001b[0m \u001b[0mself\u001b[0m\u001b[0;34m.\u001b[0m\u001b[0mname\u001b[0m\u001b[0;34m)\u001b[0m\u001b[0;34m\u001b[0m\u001b[0;34m\u001b[0m\u001b[0m\n\u001b[0m\u001b[1;32m   1093\u001b[0m       \u001b[0mgraph\u001b[0m \u001b[0;34m=\u001b[0m \u001b[0mbackend\u001b[0m\u001b[0;34m.\u001b[0m\u001b[0mget_graph\u001b[0m\u001b[0;34m(\u001b[0m\u001b[0;34m)\u001b[0m\u001b[0;34m\u001b[0m\u001b[0;34m\u001b[0m\u001b[0m\n\u001b[1;32m   1094\u001b[0m       \u001b[0;31m# Use `self._name_scope()` to avoid auto-incrementing the name.\u001b[0m\u001b[0;34m\u001b[0m\u001b[0;34m\u001b[0m\u001b[0;34m\u001b[0m\u001b[0m\n",
            "\u001b[0;32m/usr/local/lib/python3.6/dist-packages/tensorflow/python/keras/engine/input_spec.py\u001b[0m in \u001b[0;36massert_input_compatibility\u001b[0;34m(input_spec, inputs, layer_name)\u001b[0m\n\u001b[1;32m    178\u001b[0m                          \u001b[0;34m'expected ndim='\u001b[0m \u001b[0;34m+\u001b[0m \u001b[0mstr\u001b[0m\u001b[0;34m(\u001b[0m\u001b[0mspec\u001b[0m\u001b[0;34m.\u001b[0m\u001b[0mndim\u001b[0m\u001b[0;34m)\u001b[0m \u001b[0;34m+\u001b[0m \u001b[0;34m', found ndim='\u001b[0m \u001b[0;34m+\u001b[0m\u001b[0;34m\u001b[0m\u001b[0;34m\u001b[0m\u001b[0m\n\u001b[1;32m    179\u001b[0m                          \u001b[0mstr\u001b[0m\u001b[0;34m(\u001b[0m\u001b[0mndim\u001b[0m\u001b[0;34m)\u001b[0m \u001b[0;34m+\u001b[0m \u001b[0;34m'. Full shape received: '\u001b[0m \u001b[0;34m+\u001b[0m\u001b[0;34m\u001b[0m\u001b[0;34m\u001b[0m\u001b[0m\n\u001b[0;32m--> 180\u001b[0;31m                          str(x.shape.as_list()))\n\u001b[0m\u001b[1;32m    181\u001b[0m     \u001b[0;32mif\u001b[0m \u001b[0mspec\u001b[0m\u001b[0;34m.\u001b[0m\u001b[0mmax_ndim\u001b[0m \u001b[0;32mis\u001b[0m \u001b[0;32mnot\u001b[0m \u001b[0;32mNone\u001b[0m\u001b[0;34m:\u001b[0m\u001b[0;34m\u001b[0m\u001b[0;34m\u001b[0m\u001b[0m\n\u001b[1;32m    182\u001b[0m       \u001b[0mndim\u001b[0m \u001b[0;34m=\u001b[0m \u001b[0mx\u001b[0m\u001b[0;34m.\u001b[0m\u001b[0mshape\u001b[0m\u001b[0;34m.\u001b[0m\u001b[0mndims\u001b[0m\u001b[0;34m\u001b[0m\u001b[0;34m\u001b[0m\u001b[0m\n",
            "\u001b[0;31mValueError\u001b[0m: Input 0 of layer lstm_1 is incompatible with the layer: expected ndim=3, found ndim=4. Full shape received: [None, 8721, 14, 3]"
          ]
        }
      ]
    },
    {
      "cell_type": "code",
      "metadata": {
        "id": "LIYzuVEqjqvj",
        "colab_type": "code",
        "colab": {
          "base_uri": "https://localhost:8080/",
          "height": 296
        },
        "outputId": "a8b94b03-2a14-4aab-814f-e566db165a85"
      },
      "source": [
        "model.summary()"
      ],
      "execution_count": 18,
      "outputs": [
        {
          "output_type": "error",
          "ename": "ValueError",
          "evalue": "ignored",
          "traceback": [
            "\u001b[0;31m---------------------------------------------------------------------------\u001b[0m",
            "\u001b[0;31mValueError\u001b[0m                                Traceback (most recent call last)",
            "\u001b[0;32m<ipython-input-18-5f15418b3570>\u001b[0m in \u001b[0;36m<module>\u001b[0;34m()\u001b[0m\n\u001b[0;32m----> 1\u001b[0;31m \u001b[0mmodel\u001b[0m\u001b[0;34m.\u001b[0m\u001b[0msummary\u001b[0m\u001b[0;34m(\u001b[0m\u001b[0;34m)\u001b[0m\u001b[0;34m\u001b[0m\u001b[0;34m\u001b[0m\u001b[0m\n\u001b[0m",
            "\u001b[0;32m/usr/local/lib/python3.6/dist-packages/tensorflow/python/keras/engine/training.py\u001b[0m in \u001b[0;36msummary\u001b[0;34m(self, line_length, positions, print_fn)\u001b[0m\n\u001b[1;32m   2349\u001b[0m     \"\"\"\n\u001b[1;32m   2350\u001b[0m     \u001b[0;32mif\u001b[0m \u001b[0;32mnot\u001b[0m \u001b[0mself\u001b[0m\u001b[0;34m.\u001b[0m\u001b[0mbuilt\u001b[0m\u001b[0;34m:\u001b[0m\u001b[0;34m\u001b[0m\u001b[0;34m\u001b[0m\u001b[0m\n\u001b[0;32m-> 2351\u001b[0;31m       raise ValueError('This model has not yet been built. '\n\u001b[0m\u001b[1;32m   2352\u001b[0m                        \u001b[0;34m'Build the model first by calling `build()` or calling '\u001b[0m\u001b[0;34m\u001b[0m\u001b[0;34m\u001b[0m\u001b[0m\n\u001b[1;32m   2353\u001b[0m                        \u001b[0;34m'`fit()` with some data, or specify '\u001b[0m\u001b[0;34m\u001b[0m\u001b[0;34m\u001b[0m\u001b[0m\n",
            "\u001b[0;31mValueError\u001b[0m: This model has not yet been built. Build the model first by calling `build()` or calling `fit()` with some data, or specify an `input_shape` argument in the first layer(s) for automatic build."
          ]
        }
      ]
    },
    {
      "cell_type": "code",
      "metadata": {
        "id": "MYDYnAs7X-Uw",
        "colab_type": "code",
        "colab": {
          "base_uri": "https://localhost:8080/",
          "height": 1000
        },
        "outputId": "5028ba3b-2be3-4fd1-cf76-4ce9f1930f77"
      },
      "source": [
        "adam = Adam(lr=0.001)\n",
        "chk = ModelCheckpoint('best_model.pkl', monitor='val_acc', save_best_only=True, mode='max', verbose=1)\n",
        "model.compile(loss='binary_crossentropy', optimizer=adam, metrics=['accuracy'])\n",
        "history=model.fit(X_train, Y_train, epochs=200, batch_size=128, callbacks=[chk], validation_data=(X_test, Y_test))"
      ],
      "execution_count": 53,
      "outputs": [
        {
          "output_type": "stream",
          "text": [
            "Epoch 1/200\n",
            "47/69 [===================>..........] - ETA: 0s - loss: 8.5657 - accuracy: 0.8956WARNING:tensorflow:Can save best model only with val_acc available, skipping.\n",
            "69/69 [==============================] - 0s 3ms/step - loss: 8.5627 - accuracy: 0.8965 - val_loss: 8.5572 - val_accuracy: 0.9020\n",
            "Epoch 2/200\n",
            "51/69 [=====================>........] - ETA: 0s - loss: 8.5848 - accuracy: 0.8969WARNING:tensorflow:Can save best model only with val_acc available, skipping.\n",
            "69/69 [==============================] - 0s 1ms/step - loss: 8.5627 - accuracy: 0.8965 - val_loss: 8.5572 - val_accuracy: 0.9020\n",
            "Epoch 3/200\n",
            "49/69 [====================>.........] - ETA: 0s - loss: 8.5663 - accuracy: 0.8986WARNING:tensorflow:Can save best model only with val_acc available, skipping.\n",
            "69/69 [==============================] - 0s 1ms/step - loss: 8.5627 - accuracy: 0.8965 - val_loss: 8.5572 - val_accuracy: 0.9020\n",
            "Epoch 4/200\n",
            "55/69 [======================>.......] - ETA: 0s - loss: 8.5671 - accuracy: 0.8939WARNING:tensorflow:Can save best model only with val_acc available, skipping.\n",
            "69/69 [==============================] - 0s 1ms/step - loss: 8.5627 - accuracy: 0.8965 - val_loss: 8.5572 - val_accuracy: 0.9020\n",
            "Epoch 5/200\n",
            "52/69 [=====================>........] - ETA: 0s - loss: 8.5819 - accuracy: 0.8942WARNING:tensorflow:Can save best model only with val_acc available, skipping.\n",
            "69/69 [==============================] - 0s 1ms/step - loss: 8.5627 - accuracy: 0.8965 - val_loss: 8.5572 - val_accuracy: 0.9020\n",
            "Epoch 6/200\n",
            "46/69 [===================>..........] - ETA: 0s - loss: 8.5495 - accuracy: 0.8979WARNING:tensorflow:Can save best model only with val_acc available, skipping.\n",
            "69/69 [==============================] - 0s 1ms/step - loss: 8.5627 - accuracy: 0.8965 - val_loss: 8.5572 - val_accuracy: 0.9020\n",
            "Epoch 7/200\n",
            "50/69 [====================>.........] - ETA: 0s - loss: 8.5536 - accuracy: 0.8958WARNING:tensorflow:Can save best model only with val_acc available, skipping.\n",
            "69/69 [==============================] - 0s 1ms/step - loss: 8.5627 - accuracy: 0.8965 - val_loss: 8.5572 - val_accuracy: 0.9020\n",
            "Epoch 8/200\n",
            "53/69 [======================>.......] - ETA: 0s - loss: 8.5899 - accuracy: 0.8967WARNING:tensorflow:Can save best model only with val_acc available, skipping.\n",
            "69/69 [==============================] - 0s 1ms/step - loss: 8.5627 - accuracy: 0.8965 - val_loss: 8.5572 - val_accuracy: 0.9020\n",
            "Epoch 9/200\n",
            "56/69 [=======================>......] - ETA: 0s - loss: 8.5585 - accuracy: 0.8949WARNING:tensorflow:Can save best model only with val_acc available, skipping.\n",
            "69/69 [==============================] - 0s 1ms/step - loss: 8.5627 - accuracy: 0.8965 - val_loss: 8.5572 - val_accuracy: 0.9020\n",
            "Epoch 10/200\n",
            "56/69 [=======================>......] - ETA: 0s - loss: 8.5512 - accuracy: 0.8929WARNING:tensorflow:Can save best model only with val_acc available, skipping.\n",
            "69/69 [==============================] - 0s 1ms/step - loss: 8.5627 - accuracy: 0.8965 - val_loss: 8.5572 - val_accuracy: 0.9020\n",
            "Epoch 11/200\n",
            "49/69 [====================>.........] - ETA: 0s - loss: 8.5741 - accuracy: 0.8968WARNING:tensorflow:Can save best model only with val_acc available, skipping.\n",
            "69/69 [==============================] - 0s 1ms/step - loss: 8.5627 - accuracy: 0.8965 - val_loss: 8.5572 - val_accuracy: 0.9020\n",
            "Epoch 12/200\n",
            "49/69 [====================>.........] - ETA: 0s - loss: 8.5610 - accuracy: 0.8964WARNING:tensorflow:Can save best model only with val_acc available, skipping.\n",
            "69/69 [==============================] - 0s 1ms/step - loss: 8.5627 - accuracy: 0.8965 - val_loss: 8.5572 - val_accuracy: 0.9020\n",
            "Epoch 13/200\n",
            "46/69 [===================>..........] - ETA: 0s - loss: 8.5741 - accuracy: 0.8996WARNING:tensorflow:Can save best model only with val_acc available, skipping.\n",
            "69/69 [==============================] - 0s 1ms/step - loss: 8.5627 - accuracy: 0.8965 - val_loss: 8.5572 - val_accuracy: 0.9020\n",
            "Epoch 14/200\n",
            "42/69 [=================>............] - ETA: 0s - loss: 8.5524 - accuracy: 0.8969WARNING:tensorflow:Can save best model only with val_acc available, skipping.\n",
            "69/69 [==============================] - 0s 2ms/step - loss: 8.5627 - accuracy: 0.8965 - val_loss: 8.5572 - val_accuracy: 0.9020\n",
            "Epoch 15/200\n",
            "49/69 [====================>.........] - ETA: 0s - loss: 8.5768 - accuracy: 0.8968WARNING:tensorflow:Can save best model only with val_acc available, skipping.\n",
            "69/69 [==============================] - 0s 1ms/step - loss: 8.5627 - accuracy: 0.8965 - val_loss: 8.5572 - val_accuracy: 0.9020\n",
            "Epoch 16/200\n",
            "46/69 [===================>..........] - ETA: 0s - loss: 8.5808 - accuracy: 0.9006WARNING:tensorflow:Can save best model only with val_acc available, skipping.\n",
            "69/69 [==============================] - 0s 2ms/step - loss: 8.5627 - accuracy: 0.8965 - val_loss: 8.5572 - val_accuracy: 0.9020\n",
            "Epoch 17/200\n",
            "54/69 [======================>.......] - ETA: 0s - loss: 8.5716 - accuracy: 0.8989WARNING:tensorflow:Can save best model only with val_acc available, skipping.\n",
            "69/69 [==============================] - 0s 1ms/step - loss: 8.5627 - accuracy: 0.8965 - val_loss: 8.5572 - val_accuracy: 0.9020\n",
            "Epoch 18/200\n",
            "43/69 [=================>............] - ETA: 0s - loss: 8.5434 - accuracy: 0.8988WARNING:tensorflow:Can save best model only with val_acc available, skipping.\n",
            "69/69 [==============================] - 0s 1ms/step - loss: 8.5627 - accuracy: 0.8965 - val_loss: 8.5572 - val_accuracy: 0.9020\n",
            "Epoch 19/200\n",
            "56/69 [=======================>......] - ETA: 0s - loss: 8.5682 - accuracy: 0.8936WARNING:tensorflow:Can save best model only with val_acc available, skipping.\n",
            "69/69 [==============================] - 0s 1ms/step - loss: 8.5627 - accuracy: 0.8965 - val_loss: 8.5572 - val_accuracy: 0.9020\n",
            "Epoch 20/200\n",
            "45/69 [==================>...........] - ETA: 0s - loss: 8.5522 - accuracy: 0.8988WARNING:tensorflow:Can save best model only with val_acc available, skipping.\n",
            "69/69 [==============================] - 0s 2ms/step - loss: 8.5627 - accuracy: 0.8965 - val_loss: 8.5572 - val_accuracy: 0.9020\n",
            "Epoch 21/200\n",
            "54/69 [======================>.......] - ETA: 0s - loss: 8.5610 - accuracy: 0.8983WARNING:tensorflow:Can save best model only with val_acc available, skipping.\n",
            "69/69 [==============================] - 0s 1ms/step - loss: 8.5627 - accuracy: 0.8965 - val_loss: 8.5572 - val_accuracy: 0.9020\n",
            "Epoch 22/200\n",
            "53/69 [======================>.......] - ETA: 0s - loss: 8.5564 - accuracy: 0.8987WARNING:tensorflow:Can save best model only with val_acc available, skipping.\n",
            "69/69 [==============================] - 0s 1ms/step - loss: 8.5627 - accuracy: 0.8965 - val_loss: 8.5572 - val_accuracy: 0.9020\n",
            "Epoch 23/200\n",
            "46/69 [===================>..........] - ETA: 0s - loss: 8.5360 - accuracy: 0.8950WARNING:tensorflow:Can save best model only with val_acc available, skipping.\n",
            "69/69 [==============================] - 0s 2ms/step - loss: 8.5627 - accuracy: 0.8965 - val_loss: 8.5572 - val_accuracy: 0.9020\n",
            "Epoch 24/200\n",
            "47/69 [===================>..........] - ETA: 0s - loss: 8.5745 - accuracy: 0.8973WARNING:tensorflow:Can save best model only with val_acc available, skipping.\n",
            "69/69 [==============================] - 0s 2ms/step - loss: 8.5627 - accuracy: 0.8965 - val_loss: 8.5572 - val_accuracy: 0.9020\n",
            "Epoch 25/200\n",
            "43/69 [=================>............] - ETA: 0s - loss: 8.5570 - accuracy: 0.8977WARNING:tensorflow:Can save best model only with val_acc available, skipping.\n",
            "69/69 [==============================] - 0s 2ms/step - loss: 8.5627 - accuracy: 0.8965 - val_loss: 8.5572 - val_accuracy: 0.9020\n",
            "Epoch 26/200\n",
            "45/69 [==================>...........] - ETA: 0s - loss: 8.5426 - accuracy: 0.8977WARNING:tensorflow:Can save best model only with val_acc available, skipping.\n",
            "69/69 [==============================] - 0s 2ms/step - loss: 8.5627 - accuracy: 0.8965 - val_loss: 8.5572 - val_accuracy: 0.9020\n",
            "Epoch 27/200\n",
            "51/69 [=====================>........] - ETA: 0s - loss: 8.5514 - accuracy: 0.8995WARNING:tensorflow:Can save best model only with val_acc available, skipping.\n",
            "69/69 [==============================] - 0s 2ms/step - loss: 8.5627 - accuracy: 0.8965 - val_loss: 8.5572 - val_accuracy: 0.9020\n",
            "Epoch 28/200\n",
            "48/69 [===================>..........] - ETA: 0s - loss: 8.5551 - accuracy: 0.8999WARNING:tensorflow:Can save best model only with val_acc available, skipping.\n",
            "69/69 [==============================] - 0s 1ms/step - loss: 8.5627 - accuracy: 0.8965 - val_loss: 8.5572 - val_accuracy: 0.9020\n",
            "Epoch 29/200\n",
            "54/69 [======================>.......] - ETA: 0s - loss: 8.5447 - accuracy: 0.8974WARNING:tensorflow:Can save best model only with val_acc available, skipping.\n",
            "69/69 [==============================] - 0s 1ms/step - loss: 8.5627 - accuracy: 0.8965 - val_loss: 8.5572 - val_accuracy: 0.9020\n",
            "Epoch 30/200\n",
            "48/69 [===================>..........] - ETA: 0s - loss: 8.5401 - accuracy: 0.8962WARNING:tensorflow:Can save best model only with val_acc available, skipping.\n",
            "69/69 [==============================] - 0s 1ms/step - loss: 8.5627 - accuracy: 0.8965 - val_loss: 8.5572 - val_accuracy: 0.9020\n",
            "Epoch 31/200\n",
            "46/69 [===================>..........] - ETA: 0s - loss: 8.5798 - accuracy: 0.8969WARNING:tensorflow:Can save best model only with val_acc available, skipping.\n",
            "69/69 [==============================] - 0s 1ms/step - loss: 8.5627 - accuracy: 0.8965 - val_loss: 8.5572 - val_accuracy: 0.9020\n",
            "Epoch 32/200\n",
            "48/69 [===================>..........] - ETA: 0s - loss: 8.5628 - accuracy: 0.8970WARNING:tensorflow:Can save best model only with val_acc available, skipping.\n",
            "69/69 [==============================] - 0s 2ms/step - loss: 8.5627 - accuracy: 0.8965 - val_loss: 8.5572 - val_accuracy: 0.9020\n",
            "Epoch 33/200\n",
            "45/69 [==================>...........] - ETA: 0s - loss: 8.5652 - accuracy: 0.8964WARNING:tensorflow:Can save best model only with val_acc available, skipping.\n",
            "69/69 [==============================] - 0s 1ms/step - loss: 8.5627 - accuracy: 0.8965 - val_loss: 8.5572 - val_accuracy: 0.9020\n",
            "Epoch 34/200\n",
            "55/69 [======================>.......] - ETA: 0s - loss: 8.5505 - accuracy: 0.8972WARNING:tensorflow:Can save best model only with val_acc available, skipping.\n",
            "69/69 [==============================] - 0s 1ms/step - loss: 8.5627 - accuracy: 0.8965 - val_loss: 8.5572 - val_accuracy: 0.9020\n",
            "Epoch 35/200\n",
            "47/69 [===================>..........] - ETA: 0s - loss: 8.5576 - accuracy: 0.8966WARNING:tensorflow:Can save best model only with val_acc available, skipping.\n",
            "69/69 [==============================] - 0s 1ms/step - loss: 8.5627 - accuracy: 0.8965 - val_loss: 8.5572 - val_accuracy: 0.9020\n",
            "Epoch 36/200\n",
            "51/69 [=====================>........] - ETA: 0s - loss: 8.5650 - accuracy: 0.8972WARNING:tensorflow:Can save best model only with val_acc available, skipping.\n",
            "69/69 [==============================] - 0s 1ms/step - loss: 8.5627 - accuracy: 0.8965 - val_loss: 8.5572 - val_accuracy: 0.9020\n",
            "Epoch 37/200\n",
            "49/69 [====================>.........] - ETA: 0s - loss: 8.5647 - accuracy: 0.8981WARNING:tensorflow:Can save best model only with val_acc available, skipping.\n",
            "69/69 [==============================] - 0s 1ms/step - loss: 8.5627 - accuracy: 0.8965 - val_loss: 8.5572 - val_accuracy: 0.9020\n",
            "Epoch 38/200\n",
            "54/69 [======================>.......] - ETA: 0s - loss: 8.5634 - accuracy: 0.8980WARNING:tensorflow:Can save best model only with val_acc available, skipping.\n",
            "69/69 [==============================] - 0s 1ms/step - loss: 8.5627 - accuracy: 0.8965 - val_loss: 8.5572 - val_accuracy: 0.9020\n",
            "Epoch 39/200\n",
            "48/69 [===================>..........] - ETA: 0s - loss: 8.5651 - accuracy: 0.8950WARNING:tensorflow:Can save best model only with val_acc available, skipping.\n",
            "69/69 [==============================] - 0s 1ms/step - loss: 8.5627 - accuracy: 0.8965 - val_loss: 8.5572 - val_accuracy: 0.9020\n",
            "Epoch 40/200\n",
            "48/69 [===================>..........] - ETA: 0s - loss: 8.5619 - accuracy: 0.8979WARNING:tensorflow:Can save best model only with val_acc available, skipping.\n",
            "69/69 [==============================] - 0s 1ms/step - loss: 8.5627 - accuracy: 0.8965 - val_loss: 8.5572 - val_accuracy: 0.9020\n",
            "Epoch 41/200\n",
            "52/69 [=====================>........] - ETA: 0s - loss: 8.5610 - accuracy: 0.8978WARNING:tensorflow:Can save best model only with val_acc available, skipping.\n",
            "69/69 [==============================] - 0s 1ms/step - loss: 8.5627 - accuracy: 0.8965 - val_loss: 8.5572 - val_accuracy: 0.9020\n",
            "Epoch 42/200\n",
            "42/69 [=================>............] - ETA: 0s - loss: 8.5481 - accuracy: 0.8925WARNING:tensorflow:Can save best model only with val_acc available, skipping.\n",
            "69/69 [==============================] - 0s 2ms/step - loss: 8.5627 - accuracy: 0.8965 - val_loss: 8.5572 - val_accuracy: 0.9020\n",
            "Epoch 43/200\n",
            "49/69 [====================>.........] - ETA: 0s - loss: 8.5711 - accuracy: 0.8951WARNING:tensorflow:Can save best model only with val_acc available, skipping.\n",
            "69/69 [==============================] - 0s 1ms/step - loss: 8.5627 - accuracy: 0.8965 - val_loss: 8.5572 - val_accuracy: 0.9020\n",
            "Epoch 44/200\n",
            "53/69 [======================>.......] - ETA: 0s - loss: 8.5435 - accuracy: 0.8965WARNING:tensorflow:Can save best model only with val_acc available, skipping.\n",
            "69/69 [==============================] - 0s 1ms/step - loss: 8.5627 - accuracy: 0.8965 - val_loss: 8.5572 - val_accuracy: 0.9020\n",
            "Epoch 45/200\n",
            "51/69 [=====================>........] - ETA: 0s - loss: 8.5432 - accuracy: 0.8960WARNING:tensorflow:Can save best model only with val_acc available, skipping.\n",
            "69/69 [==============================] - 0s 1ms/step - loss: 8.5627 - accuracy: 0.8965 - val_loss: 8.5572 - val_accuracy: 0.9020\n",
            "Epoch 46/200\n",
            "54/69 [======================>.......] - ETA: 0s - loss: 8.5460 - accuracy: 0.8989WARNING:tensorflow:Can save best model only with val_acc available, skipping.\n",
            "69/69 [==============================] - 0s 1ms/step - loss: 8.5627 - accuracy: 0.8965 - val_loss: 8.5572 - val_accuracy: 0.9020\n",
            "Epoch 47/200\n",
            "54/69 [======================>.......] - ETA: 0s - loss: 8.5570 - accuracy: 0.8951WARNING:tensorflow:Can save best model only with val_acc available, skipping.\n",
            "69/69 [==============================] - 0s 1ms/step - loss: 8.5627 - accuracy: 0.8965 - val_loss: 8.5572 - val_accuracy: 0.9020\n",
            "Epoch 48/200\n",
            "52/69 [=====================>........] - ETA: 0s - loss: 8.5590 - accuracy: 0.8956WARNING:tensorflow:Can save best model only with val_acc available, skipping.\n",
            "69/69 [==============================] - 0s 1ms/step - loss: 8.5627 - accuracy: 0.8965 - val_loss: 8.5572 - val_accuracy: 0.9020\n",
            "Epoch 49/200\n",
            "50/69 [====================>.........] - ETA: 0s - loss: 8.5447 - accuracy: 0.8970WARNING:tensorflow:Can save best model only with val_acc available, skipping.\n",
            "69/69 [==============================] - 0s 2ms/step - loss: 8.5627 - accuracy: 0.8965 - val_loss: 8.5572 - val_accuracy: 0.9020\n",
            "Epoch 50/200\n",
            "45/69 [==================>...........] - ETA: 0s - loss: 8.5910 - accuracy: 0.8984WARNING:tensorflow:Can save best model only with val_acc available, skipping.\n",
            "69/69 [==============================] - 0s 2ms/step - loss: 8.5627 - accuracy: 0.8965 - val_loss: 8.5572 - val_accuracy: 0.9020\n",
            "Epoch 51/200\n",
            "51/69 [=====================>........] - ETA: 0s - loss: 8.5430 - accuracy: 0.8977WARNING:tensorflow:Can save best model only with val_acc available, skipping.\n",
            "69/69 [==============================] - 0s 1ms/step - loss: 8.5627 - accuracy: 0.8965 - val_loss: 8.5572 - val_accuracy: 0.9020\n",
            "Epoch 52/200\n",
            "42/69 [=================>............] - ETA: 0s - loss: 8.5600 - accuracy: 0.8968WARNING:tensorflow:Can save best model only with val_acc available, skipping.\n",
            "69/69 [==============================] - 0s 1ms/step - loss: 8.5627 - accuracy: 0.8965 - val_loss: 8.5572 - val_accuracy: 0.9020\n",
            "Epoch 53/200\n",
            "47/69 [===================>..........] - ETA: 0s - loss: 8.5949 - accuracy: 0.8958WARNING:tensorflow:Can save best model only with val_acc available, skipping.\n",
            "69/69 [==============================] - 0s 1ms/step - loss: 8.5627 - accuracy: 0.8965 - val_loss: 8.5572 - val_accuracy: 0.9020\n",
            "Epoch 54/200\n",
            "49/69 [====================>.........] - ETA: 0s - loss: 8.5587 - accuracy: 0.8968WARNING:tensorflow:Can save best model only with val_acc available, skipping.\n",
            "69/69 [==============================] - 0s 1ms/step - loss: 8.5627 - accuracy: 0.8965 - val_loss: 8.5572 - val_accuracy: 0.9020\n",
            "Epoch 55/200\n",
            "55/69 [======================>.......] - ETA: 0s - loss: 8.5760 - accuracy: 0.8973WARNING:tensorflow:Can save best model only with val_acc available, skipping.\n",
            "69/69 [==============================] - 0s 1ms/step - loss: 8.5627 - accuracy: 0.8965 - val_loss: 8.5572 - val_accuracy: 0.9020\n",
            "Epoch 56/200\n",
            "45/69 [==================>...........] - ETA: 0s - loss: 8.5556 - accuracy: 0.8948WARNING:tensorflow:Can save best model only with val_acc available, skipping.\n",
            "69/69 [==============================] - 0s 2ms/step - loss: 8.5627 - accuracy: 0.8965 - val_loss: 8.5572 - val_accuracy: 0.9020\n",
            "Epoch 57/200\n",
            "49/69 [====================>.........] - ETA: 0s - loss: 8.5659 - accuracy: 0.8980WARNING:tensorflow:Can save best model only with val_acc available, skipping.\n",
            "69/69 [==============================] - 0s 1ms/step - loss: 8.5627 - accuracy: 0.8965 - val_loss: 8.5572 - val_accuracy: 0.9020\n",
            "Epoch 58/200\n",
            "45/69 [==================>...........] - ETA: 0s - loss: 8.5573 - accuracy: 0.8990WARNING:tensorflow:Can save best model only with val_acc available, skipping.\n",
            "69/69 [==============================] - 0s 1ms/step - loss: 8.5627 - accuracy: 0.8965 - val_loss: 8.5572 - val_accuracy: 0.9020\n",
            "Epoch 59/200\n",
            "47/69 [===================>..........] - ETA: 0s - loss: 8.5191 - accuracy: 0.8951WARNING:tensorflow:Can save best model only with val_acc available, skipping.\n",
            "69/69 [==============================] - 0s 1ms/step - loss: 8.5627 - accuracy: 0.8965 - val_loss: 8.5572 - val_accuracy: 0.9020\n",
            "Epoch 60/200\n",
            "48/69 [===================>..........] - ETA: 0s - loss: 8.5530 - accuracy: 0.9001WARNING:tensorflow:Can save best model only with val_acc available, skipping.\n",
            "69/69 [==============================] - 0s 1ms/step - loss: 8.5627 - accuracy: 0.8965 - val_loss: 8.5572 - val_accuracy: 0.9020\n",
            "Epoch 61/200\n",
            "46/69 [===================>..........] - ETA: 0s - loss: 8.5622 - accuracy: 0.8962WARNING:tensorflow:Can save best model only with val_acc available, skipping.\n",
            "69/69 [==============================] - 0s 2ms/step - loss: 8.5627 - accuracy: 0.8965 - val_loss: 8.5572 - val_accuracy: 0.9020\n",
            "Epoch 62/200\n",
            "54/69 [======================>.......] - ETA: 0s - loss: 8.5623 - accuracy: 0.8973WARNING:tensorflow:Can save best model only with val_acc available, skipping.\n",
            "69/69 [==============================] - 0s 1ms/step - loss: 8.5627 - accuracy: 0.8965 - val_loss: 8.5572 - val_accuracy: 0.9020\n",
            "Epoch 63/200\n",
            "44/69 [==================>...........] - ETA: 0s - loss: 8.5771 - accuracy: 0.9002WARNING:tensorflow:Can save best model only with val_acc available, skipping.\n",
            "69/69 [==============================] - 0s 2ms/step - loss: 8.5627 - accuracy: 0.8965 - val_loss: 8.5572 - val_accuracy: 0.9020\n",
            "Epoch 64/200\n",
            "49/69 [====================>.........] - ETA: 0s - loss: 8.6010 - accuracy: 0.8964WARNING:tensorflow:Can save best model only with val_acc available, skipping.\n",
            "69/69 [==============================] - 0s 1ms/step - loss: 8.5627 - accuracy: 0.8965 - val_loss: 8.5572 - val_accuracy: 0.9020\n",
            "Epoch 65/200\n",
            "48/69 [===================>..........] - ETA: 0s - loss: 8.5500 - accuracy: 0.8981WARNING:tensorflow:Can save best model only with val_acc available, skipping.\n",
            "69/69 [==============================] - 0s 1ms/step - loss: 8.5627 - accuracy: 0.8965 - val_loss: 8.5572 - val_accuracy: 0.9020\n",
            "Epoch 66/200\n",
            "49/69 [====================>.........] - ETA: 0s - loss: 8.5676 - accuracy: 0.8954WARNING:tensorflow:Can save best model only with val_acc available, skipping.\n",
            "69/69 [==============================] - 0s 1ms/step - loss: 8.5627 - accuracy: 0.8965 - val_loss: 8.5572 - val_accuracy: 0.9020\n",
            "Epoch 67/200\n",
            "50/69 [====================>.........] - ETA: 0s - loss: 8.5866 - accuracy: 0.8980WARNING:tensorflow:Can save best model only with val_acc available, skipping.\n",
            "69/69 [==============================] - 0s 1ms/step - loss: 8.5627 - accuracy: 0.8965 - val_loss: 8.5572 - val_accuracy: 0.9020\n",
            "Epoch 68/200\n",
            "51/69 [=====================>........] - ETA: 0s - loss: 8.5433 - accuracy: 0.8994WARNING:tensorflow:Can save best model only with val_acc available, skipping.\n",
            "69/69 [==============================] - 0s 1ms/step - loss: 8.5627 - accuracy: 0.8965 - val_loss: 8.5572 - val_accuracy: 0.9020\n",
            "Epoch 69/200\n",
            "50/69 [====================>.........] - ETA: 0s - loss: 8.5670 - accuracy: 0.8939WARNING:tensorflow:Can save best model only with val_acc available, skipping.\n",
            "69/69 [==============================] - 0s 1ms/step - loss: 8.5627 - accuracy: 0.8965 - val_loss: 8.5572 - val_accuracy: 0.9020\n",
            "Epoch 70/200\n",
            "50/69 [====================>.........] - ETA: 0s - loss: 8.5659 - accuracy: 0.8956WARNING:tensorflow:Can save best model only with val_acc available, skipping.\n",
            "69/69 [==============================] - 0s 1ms/step - loss: 8.5627 - accuracy: 0.8965 - val_loss: 8.5572 - val_accuracy: 0.9020\n",
            "Epoch 71/200\n",
            "44/69 [==================>...........] - ETA: 0s - loss: 8.5648 - accuracy: 0.8949WARNING:tensorflow:Can save best model only with val_acc available, skipping.\n",
            "69/69 [==============================] - 0s 1ms/step - loss: 8.5627 - accuracy: 0.8965 - val_loss: 8.5572 - val_accuracy: 0.9020\n",
            "Epoch 72/200\n",
            "46/69 [===================>..........] - ETA: 0s - loss: 8.5593 - accuracy: 0.8950WARNING:tensorflow:Can save best model only with val_acc available, skipping.\n",
            "69/69 [==============================] - 0s 1ms/step - loss: 8.5627 - accuracy: 0.8965 - val_loss: 8.5572 - val_accuracy: 0.9020\n",
            "Epoch 73/200\n",
            "49/69 [====================>.........] - ETA: 0s - loss: 8.5914 - accuracy: 0.8952WARNING:tensorflow:Can save best model only with val_acc available, skipping.\n",
            "69/69 [==============================] - 0s 1ms/step - loss: 8.5627 - accuracy: 0.8965 - val_loss: 8.5572 - val_accuracy: 0.9020\n",
            "Epoch 74/200\n",
            "30/69 [============>.................] - ETA: 0s - loss: 8.5411 - accuracy: 0.8932WARNING:tensorflow:Can save best model only with val_acc available, skipping.\n",
            "69/69 [==============================] - 0s 2ms/step - loss: 8.5627 - accuracy: 0.8965 - val_loss: 8.5572 - val_accuracy: 0.9020\n",
            "Epoch 75/200\n",
            "50/69 [====================>.........] - ETA: 0s - loss: 8.5430 - accuracy: 0.8980WARNING:tensorflow:Can save best model only with val_acc available, skipping.\n",
            "69/69 [==============================] - 0s 1ms/step - loss: 8.5627 - accuracy: 0.8965 - val_loss: 8.5572 - val_accuracy: 0.9020\n",
            "Epoch 76/200\n",
            "51/69 [=====================>........] - ETA: 0s - loss: 8.5549 - accuracy: 0.8952WARNING:tensorflow:Can save best model only with val_acc available, skipping.\n",
            "69/69 [==============================] - 0s 1ms/step - loss: 8.5627 - accuracy: 0.8965 - val_loss: 8.5572 - val_accuracy: 0.9020\n",
            "Epoch 77/200\n",
            "50/69 [====================>.........] - ETA: 0s - loss: 8.5326 - accuracy: 0.8966WARNING:tensorflow:Can save best model only with val_acc available, skipping.\n",
            "69/69 [==============================] - 0s 1ms/step - loss: 8.5627 - accuracy: 0.8965 - val_loss: 8.5572 - val_accuracy: 0.9020\n",
            "Epoch 78/200\n",
            "51/69 [=====================>........] - ETA: 0s - loss: 8.5542 - accuracy: 0.8931WARNING:tensorflow:Can save best model only with val_acc available, skipping.\n",
            "69/69 [==============================] - 0s 1ms/step - loss: 8.5627 - accuracy: 0.8965 - val_loss: 8.5572 - val_accuracy: 0.9020\n",
            "Epoch 79/200\n",
            "52/69 [=====================>........] - ETA: 0s - loss: 8.5604 - accuracy: 0.9001WARNING:tensorflow:Can save best model only with val_acc available, skipping.\n",
            "69/69 [==============================] - 0s 1ms/step - loss: 8.5627 - accuracy: 0.8965 - val_loss: 8.5572 - val_accuracy: 0.9020\n",
            "Epoch 80/200\n",
            "51/69 [=====================>........] - ETA: 0s - loss: 8.5489 - accuracy: 0.8975WARNING:tensorflow:Can save best model only with val_acc available, skipping.\n",
            "69/69 [==============================] - 0s 2ms/step - loss: 8.5627 - accuracy: 0.8965 - val_loss: 8.5572 - val_accuracy: 0.9020\n",
            "Epoch 81/200\n",
            "50/69 [====================>.........] - ETA: 0s - loss: 8.5667 - accuracy: 0.8944WARNING:tensorflow:Can save best model only with val_acc available, skipping.\n",
            "69/69 [==============================] - 0s 1ms/step - loss: 8.5627 - accuracy: 0.8965 - val_loss: 8.5572 - val_accuracy: 0.9020\n",
            "Epoch 82/200\n",
            "46/69 [===================>..........] - ETA: 0s - loss: 8.5646 - accuracy: 0.8959WARNING:tensorflow:Can save best model only with val_acc available, skipping.\n",
            "69/69 [==============================] - 0s 1ms/step - loss: 8.5627 - accuracy: 0.8965 - val_loss: 8.5572 - val_accuracy: 0.9020\n",
            "Epoch 83/200\n",
            "49/69 [====================>.........] - ETA: 0s - loss: 8.5661 - accuracy: 0.8964WARNING:tensorflow:Can save best model only with val_acc available, skipping.\n",
            "69/69 [==============================] - 0s 1ms/step - loss: 8.5627 - accuracy: 0.8965 - val_loss: 8.5572 - val_accuracy: 0.9020\n",
            "Epoch 84/200\n",
            "49/69 [====================>.........] - ETA: 0s - loss: 8.5819 - accuracy: 0.8954WARNING:tensorflow:Can save best model only with val_acc available, skipping.\n",
            "69/69 [==============================] - 0s 1ms/step - loss: 8.5627 - accuracy: 0.8965 - val_loss: 8.5572 - val_accuracy: 0.9020\n",
            "Epoch 85/200\n",
            "47/69 [===================>..........] - ETA: 0s - loss: 8.5567 - accuracy: 0.8978WARNING:tensorflow:Can save best model only with val_acc available, skipping.\n",
            "69/69 [==============================] - 0s 1ms/step - loss: 8.5627 - accuracy: 0.8965 - val_loss: 8.5572 - val_accuracy: 0.9020\n",
            "Epoch 86/200\n",
            "45/69 [==================>...........] - ETA: 0s - loss: 8.5615 - accuracy: 0.8950WARNING:tensorflow:Can save best model only with val_acc available, skipping.\n",
            "69/69 [==============================] - 0s 1ms/step - loss: 8.5627 - accuracy: 0.8965 - val_loss: 8.5572 - val_accuracy: 0.9020\n",
            "Epoch 87/200\n",
            "49/69 [====================>.........] - ETA: 0s - loss: 8.5727 - accuracy: 0.8967WARNING:tensorflow:Can save best model only with val_acc available, skipping.\n",
            "69/69 [==============================] - 0s 1ms/step - loss: 8.5627 - accuracy: 0.8965 - val_loss: 8.5572 - val_accuracy: 0.9020\n",
            "Epoch 88/200\n",
            "42/69 [=================>............] - ETA: 0s - loss: 8.5434 - accuracy: 0.8955WARNING:tensorflow:Can save best model only with val_acc available, skipping.\n",
            "69/69 [==============================] - 0s 2ms/step - loss: 8.5627 - accuracy: 0.8965 - val_loss: 8.5572 - val_accuracy: 0.9020\n",
            "Epoch 89/200\n",
            "48/69 [===================>..........] - ETA: 0s - loss: 8.5647 - accuracy: 0.9010WARNING:tensorflow:Can save best model only with val_acc available, skipping.\n",
            "69/69 [==============================] - 0s 1ms/step - loss: 8.5627 - accuracy: 0.8965 - val_loss: 8.5572 - val_accuracy: 0.9020\n",
            "Epoch 90/200\n",
            "40/69 [================>.............] - ETA: 0s - loss: 8.5501 - accuracy: 0.8945WARNING:tensorflow:Can save best model only with val_acc available, skipping.\n",
            "69/69 [==============================] - 0s 2ms/step - loss: 8.5627 - accuracy: 0.8965 - val_loss: 8.5572 - val_accuracy: 0.9020\n",
            "Epoch 91/200\n",
            "48/69 [===================>..........] - ETA: 0s - loss: 8.5551 - accuracy: 0.8994WARNING:tensorflow:Can save best model only with val_acc available, skipping.\n",
            "69/69 [==============================] - 0s 1ms/step - loss: 8.5627 - accuracy: 0.8965 - val_loss: 8.5572 - val_accuracy: 0.9020\n",
            "Epoch 92/200\n",
            "55/69 [======================>.......] - ETA: 0s - loss: 8.5883 - accuracy: 0.8982WARNING:tensorflow:Can save best model only with val_acc available, skipping.\n",
            "69/69 [==============================] - 0s 1ms/step - loss: 8.5627 - accuracy: 0.8965 - val_loss: 8.5572 - val_accuracy: 0.9020\n",
            "Epoch 93/200\n",
            "56/69 [=======================>......] - ETA: 0s - loss: 8.5544 - accuracy: 0.8936WARNING:tensorflow:Can save best model only with val_acc available, skipping.\n",
            "69/69 [==============================] - 0s 1ms/step - loss: 8.5627 - accuracy: 0.8965 - val_loss: 8.5572 - val_accuracy: 0.9020\n",
            "Epoch 94/200\n",
            "51/69 [=====================>........] - ETA: 0s - loss: 8.5684 - accuracy: 0.8972WARNING:tensorflow:Can save best model only with val_acc available, skipping.\n",
            "69/69 [==============================] - 0s 1ms/step - loss: 8.5627 - accuracy: 0.8965 - val_loss: 8.5572 - val_accuracy: 0.9020\n",
            "Epoch 95/200\n",
            "53/69 [======================>.......] - ETA: 0s - loss: 8.5512 - accuracy: 0.8984WARNING:tensorflow:Can save best model only with val_acc available, skipping.\n",
            "69/69 [==============================] - 0s 1ms/step - loss: 8.5627 - accuracy: 0.8965 - val_loss: 8.5572 - val_accuracy: 0.9020\n",
            "Epoch 96/200\n",
            "56/69 [=======================>......] - ETA: 0s - loss: 8.5703 - accuracy: 0.8963WARNING:tensorflow:Can save best model only with val_acc available, skipping.\n",
            "69/69 [==============================] - 0s 1ms/step - loss: 8.5627 - accuracy: 0.8965 - val_loss: 8.5572 - val_accuracy: 0.9020\n",
            "Epoch 97/200\n",
            "47/69 [===================>..........] - ETA: 0s - loss: 8.5623 - accuracy: 0.8964WARNING:tensorflow:Can save best model only with val_acc available, skipping.\n",
            "69/69 [==============================] - 0s 1ms/step - loss: 8.5627 - accuracy: 0.8965 - val_loss: 8.5572 - val_accuracy: 0.9020\n",
            "Epoch 98/200\n",
            "47/69 [===================>..........] - ETA: 0s - loss: 8.5438 - accuracy: 0.8938WARNING:tensorflow:Can save best model only with val_acc available, skipping.\n",
            "69/69 [==============================] - 0s 1ms/step - loss: 8.5627 - accuracy: 0.8965 - val_loss: 8.5572 - val_accuracy: 0.9020\n",
            "Epoch 99/200\n",
            "56/69 [=======================>......] - ETA: 0s - loss: 8.5734 - accuracy: 0.8968WARNING:tensorflow:Can save best model only with val_acc available, skipping.\n",
            "69/69 [==============================] - 0s 1ms/step - loss: 8.5627 - accuracy: 0.8965 - val_loss: 8.5572 - val_accuracy: 0.9020\n",
            "Epoch 100/200\n",
            "44/69 [==================>...........] - ETA: 0s - loss: 8.5707 - accuracy: 0.8956WARNING:tensorflow:Can save best model only with val_acc available, skipping.\n",
            "69/69 [==============================] - 0s 1ms/step - loss: 8.5627 - accuracy: 0.8965 - val_loss: 8.5572 - val_accuracy: 0.9020\n",
            "Epoch 101/200\n",
            "50/69 [====================>.........] - ETA: 0s - loss: 8.5505 - accuracy: 0.8948WARNING:tensorflow:Can save best model only with val_acc available, skipping.\n",
            "69/69 [==============================] - 0s 1ms/step - loss: 8.5627 - accuracy: 0.8965 - val_loss: 8.5572 - val_accuracy: 0.9020\n",
            "Epoch 102/200\n",
            "52/69 [=====================>........] - ETA: 0s - loss: 8.5769 - accuracy: 0.8939WARNING:tensorflow:Can save best model only with val_acc available, skipping.\n",
            "69/69 [==============================] - 0s 1ms/step - loss: 8.5627 - accuracy: 0.8965 - val_loss: 8.5572 - val_accuracy: 0.9020\n",
            "Epoch 103/200\n",
            "52/69 [=====================>........] - ETA: 0s - loss: 8.5681 - accuracy: 0.8953WARNING:tensorflow:Can save best model only with val_acc available, skipping.\n",
            "69/69 [==============================] - 0s 1ms/step - loss: 8.5627 - accuracy: 0.8965 - val_loss: 8.5572 - val_accuracy: 0.9020\n",
            "Epoch 104/200\n",
            "47/69 [===================>..........] - ETA: 0s - loss: 8.5562 - accuracy: 0.8994WARNING:tensorflow:Can save best model only with val_acc available, skipping.\n",
            "69/69 [==============================] - 0s 1ms/step - loss: 8.5627 - accuracy: 0.8965 - val_loss: 8.5572 - val_accuracy: 0.9020\n",
            "Epoch 105/200\n",
            "48/69 [===================>..........] - ETA: 0s - loss: 8.5427 - accuracy: 0.8965WARNING:tensorflow:Can save best model only with val_acc available, skipping.\n",
            "69/69 [==============================] - 0s 1ms/step - loss: 8.5627 - accuracy: 0.8965 - val_loss: 8.5572 - val_accuracy: 0.9020\n",
            "Epoch 106/200\n",
            "57/69 [=======================>......] - ETA: 0s - loss: 8.5460 - accuracy: 0.8978WARNING:tensorflow:Can save best model only with val_acc available, skipping.\n",
            "69/69 [==============================] - 0s 1ms/step - loss: 8.5627 - accuracy: 0.8965 - val_loss: 8.5572 - val_accuracy: 0.9020\n",
            "Epoch 107/200\n",
            "52/69 [=====================>........] - ETA: 0s - loss: 8.5485 - accuracy: 0.8962WARNING:tensorflow:Can save best model only with val_acc available, skipping.\n",
            "69/69 [==============================] - 0s 1ms/step - loss: 8.5627 - accuracy: 0.8965 - val_loss: 8.5572 - val_accuracy: 0.9020\n",
            "Epoch 108/200\n",
            "50/69 [====================>.........] - ETA: 0s - loss: 8.5788 - accuracy: 0.8947WARNING:tensorflow:Can save best model only with val_acc available, skipping.\n",
            "69/69 [==============================] - 0s 1ms/step - loss: 8.5627 - accuracy: 0.8965 - val_loss: 8.5572 - val_accuracy: 0.9020\n",
            "Epoch 109/200\n",
            "55/69 [======================>.......] - ETA: 0s - loss: 8.5650 - accuracy: 0.8987WARNING:tensorflow:Can save best model only with val_acc available, skipping.\n",
            "69/69 [==============================] - 0s 1ms/step - loss: 8.5627 - accuracy: 0.8965 - val_loss: 8.5572 - val_accuracy: 0.9020\n",
            "Epoch 110/200\n",
            "48/69 [===================>..........] - ETA: 0s - loss: 8.5627 - accuracy: 0.8993WARNING:tensorflow:Can save best model only with val_acc available, skipping.\n",
            "69/69 [==============================] - 0s 1ms/step - loss: 8.5627 - accuracy: 0.8965 - val_loss: 8.5572 - val_accuracy: 0.9020\n",
            "Epoch 111/200\n",
            "51/69 [=====================>........] - ETA: 0s - loss: 8.5661 - accuracy: 0.8980WARNING:tensorflow:Can save best model only with val_acc available, skipping.\n",
            "69/69 [==============================] - 0s 1ms/step - loss: 8.5627 - accuracy: 0.8965 - val_loss: 8.5572 - val_accuracy: 0.9020\n",
            "Epoch 112/200\n",
            "51/69 [=====================>........] - ETA: 0s - loss: 8.5621 - accuracy: 0.8994WARNING:tensorflow:Can save best model only with val_acc available, skipping.\n",
            "69/69 [==============================] - 0s 1ms/step - loss: 8.5627 - accuracy: 0.8965 - val_loss: 8.5572 - val_accuracy: 0.9020\n",
            "Epoch 113/200\n",
            "47/69 [===================>..........] - ETA: 0s - loss: 8.5925 - accuracy: 0.8948WARNING:tensorflow:Can save best model only with val_acc available, skipping.\n",
            "69/69 [==============================] - 0s 1ms/step - loss: 8.5627 - accuracy: 0.8965 - val_loss: 8.5572 - val_accuracy: 0.9020\n",
            "Epoch 114/200\n",
            "50/69 [====================>.........] - ETA: 0s - loss: 8.5642 - accuracy: 0.8977WARNING:tensorflow:Can save best model only with val_acc available, skipping.\n",
            "69/69 [==============================] - 0s 1ms/step - loss: 8.5627 - accuracy: 0.8965 - val_loss: 8.5572 - val_accuracy: 0.9020\n",
            "Epoch 115/200\n",
            "44/69 [==================>...........] - ETA: 0s - loss: 8.5504 - accuracy: 0.8956WARNING:tensorflow:Can save best model only with val_acc available, skipping.\n",
            "69/69 [==============================] - 0s 1ms/step - loss: 8.5627 - accuracy: 0.8965 - val_loss: 8.5572 - val_accuracy: 0.9020\n",
            "Epoch 116/200\n",
            "50/69 [====================>.........] - ETA: 0s - loss: 8.5699 - accuracy: 0.8997WARNING:tensorflow:Can save best model only with val_acc available, skipping.\n",
            "69/69 [==============================] - 0s 1ms/step - loss: 8.5627 - accuracy: 0.8965 - val_loss: 8.5572 - val_accuracy: 0.9020\n",
            "Epoch 117/200\n",
            "52/69 [=====================>........] - ETA: 0s - loss: 8.5514 - accuracy: 0.8944WARNING:tensorflow:Can save best model only with val_acc available, skipping.\n",
            "69/69 [==============================] - 0s 1ms/step - loss: 8.5627 - accuracy: 0.8965 - val_loss: 8.5572 - val_accuracy: 0.9020\n",
            "Epoch 118/200\n",
            "46/69 [===================>..........] - ETA: 0s - loss: 8.5829 - accuracy: 0.8964WARNING:tensorflow:Can save best model only with val_acc available, skipping.\n",
            "69/69 [==============================] - 0s 1ms/step - loss: 8.5627 - accuracy: 0.8965 - val_loss: 8.5572 - val_accuracy: 0.9020\n",
            "Epoch 119/200\n",
            "48/69 [===================>..........] - ETA: 0s - loss: 8.5547 - accuracy: 0.8958WARNING:tensorflow:Can save best model only with val_acc available, skipping.\n",
            "69/69 [==============================] - 0s 1ms/step - loss: 8.5627 - accuracy: 0.8965 - val_loss: 8.5572 - val_accuracy: 0.9020\n",
            "Epoch 120/200\n",
            "52/69 [=====================>........] - ETA: 0s - loss: 8.5723 - accuracy: 0.8944WARNING:tensorflow:Can save best model only with val_acc available, skipping.\n",
            "69/69 [==============================] - 0s 1ms/step - loss: 8.5627 - accuracy: 0.8965 - val_loss: 8.5572 - val_accuracy: 0.9020\n",
            "Epoch 121/200\n",
            "50/69 [====================>.........] - ETA: 0s - loss: 8.5401 - accuracy: 0.8948WARNING:tensorflow:Can save best model only with val_acc available, skipping.\n",
            "69/69 [==============================] - 0s 1ms/step - loss: 8.5627 - accuracy: 0.8965 - val_loss: 8.5572 - val_accuracy: 0.9020\n",
            "Epoch 122/200\n",
            "48/69 [===================>..........] - ETA: 0s - loss: 8.5636 - accuracy: 0.8926WARNING:tensorflow:Can save best model only with val_acc available, skipping.\n",
            "69/69 [==============================] - 0s 2ms/step - loss: 8.5627 - accuracy: 0.8965 - val_loss: 8.5572 - val_accuracy: 0.9020\n",
            "Epoch 123/200\n",
            "49/69 [====================>.........] - ETA: 0s - loss: 8.5846 - accuracy: 0.8994WARNING:tensorflow:Can save best model only with val_acc available, skipping.\n",
            "69/69 [==============================] - 0s 1ms/step - loss: 8.5627 - accuracy: 0.8965 - val_loss: 8.5572 - val_accuracy: 0.9020\n",
            "Epoch 124/200\n",
            "50/69 [====================>.........] - ETA: 0s - loss: 8.5769 - accuracy: 0.8970WARNING:tensorflow:Can save best model only with val_acc available, skipping.\n",
            "69/69 [==============================] - 0s 1ms/step - loss: 8.5627 - accuracy: 0.8965 - val_loss: 8.5572 - val_accuracy: 0.9020\n",
            "Epoch 125/200\n",
            "51/69 [=====================>........] - ETA: 0s - loss: 8.5660 - accuracy: 0.8951WARNING:tensorflow:Can save best model only with val_acc available, skipping.\n",
            "69/69 [==============================] - 0s 1ms/step - loss: 8.5627 - accuracy: 0.8965 - val_loss: 8.5572 - val_accuracy: 0.9020\n",
            "Epoch 126/200\n",
            "47/69 [===================>..........] - ETA: 0s - loss: 8.5586 - accuracy: 0.8981WARNING:tensorflow:Can save best model only with val_acc available, skipping.\n",
            "69/69 [==============================] - 0s 1ms/step - loss: 8.5627 - accuracy: 0.8965 - val_loss: 8.5572 - val_accuracy: 0.9020\n",
            "Epoch 127/200\n",
            "54/69 [======================>.......] - ETA: 0s - loss: 8.5596 - accuracy: 0.8989WARNING:tensorflow:Can save best model only with val_acc available, skipping.\n",
            "69/69 [==============================] - 0s 1ms/step - loss: 8.5627 - accuracy: 0.8965 - val_loss: 8.5572 - val_accuracy: 0.9020\n",
            "Epoch 128/200\n",
            "44/69 [==================>...........] - ETA: 0s - loss: 8.5554 - accuracy: 0.8997WARNING:tensorflow:Can save best model only with val_acc available, skipping.\n",
            "69/69 [==============================] - 0s 2ms/step - loss: 8.5627 - accuracy: 0.8965 - val_loss: 8.5572 - val_accuracy: 0.9020\n",
            "Epoch 129/200\n",
            "49/69 [====================>.........] - ETA: 0s - loss: 8.5449 - accuracy: 0.8938WARNING:tensorflow:Can save best model only with val_acc available, skipping.\n",
            "69/69 [==============================] - 0s 2ms/step - loss: 8.5627 - accuracy: 0.8965 - val_loss: 8.5572 - val_accuracy: 0.9020\n",
            "Epoch 130/200\n",
            "56/69 [=======================>......] - ETA: 0s - loss: 8.5793 - accuracy: 0.8955WARNING:tensorflow:Can save best model only with val_acc available, skipping.\n",
            "69/69 [==============================] - 0s 1ms/step - loss: 8.5627 - accuracy: 0.8965 - val_loss: 8.5572 - val_accuracy: 0.9020\n",
            "Epoch 131/200\n",
            "53/69 [======================>.......] - ETA: 0s - loss: 8.5424 - accuracy: 0.8964WARNING:tensorflow:Can save best model only with val_acc available, skipping.\n",
            "69/69 [==============================] - 0s 1ms/step - loss: 8.5627 - accuracy: 0.8965 - val_loss: 8.5572 - val_accuracy: 0.9020\n",
            "Epoch 132/200\n",
            "49/69 [====================>.........] - ETA: 0s - loss: 8.5545 - accuracy: 0.8957WARNING:tensorflow:Can save best model only with val_acc available, skipping.\n",
            "69/69 [==============================] - 0s 1ms/step - loss: 8.5627 - accuracy: 0.8965 - val_loss: 8.5572 - val_accuracy: 0.9020\n",
            "Epoch 133/200\n",
            "51/69 [=====================>........] - ETA: 0s - loss: 8.5495 - accuracy: 0.8958WARNING:tensorflow:Can save best model only with val_acc available, skipping.\n",
            "69/69 [==============================] - 0s 1ms/step - loss: 8.5627 - accuracy: 0.8965 - val_loss: 8.5572 - val_accuracy: 0.9020\n",
            "Epoch 134/200\n",
            "49/69 [====================>.........] - ETA: 0s - loss: 8.5703 - accuracy: 0.8957WARNING:tensorflow:Can save best model only with val_acc available, skipping.\n",
            "69/69 [==============================] - 0s 1ms/step - loss: 8.5627 - accuracy: 0.8965 - val_loss: 8.5572 - val_accuracy: 0.9020\n",
            "Epoch 135/200\n",
            "50/69 [====================>.........] - ETA: 0s - loss: 8.5432 - accuracy: 0.8961WARNING:tensorflow:Can save best model only with val_acc available, skipping.\n",
            "69/69 [==============================] - 0s 1ms/step - loss: 8.5627 - accuracy: 0.8965 - val_loss: 8.5572 - val_accuracy: 0.9020\n",
            "Epoch 136/200\n",
            "53/69 [======================>.......] - ETA: 0s - loss: 8.5252 - accuracy: 0.8952WARNING:tensorflow:Can save best model only with val_acc available, skipping.\n",
            "69/69 [==============================] - 0s 1ms/step - loss: 8.5627 - accuracy: 0.8965 - val_loss: 8.5572 - val_accuracy: 0.9020\n",
            "Epoch 137/200\n",
            "49/69 [====================>.........] - ETA: 0s - loss: 8.5748 - accuracy: 0.8970WARNING:tensorflow:Can save best model only with val_acc available, skipping.\n",
            "69/69 [==============================] - 0s 1ms/step - loss: 8.5627 - accuracy: 0.8965 - val_loss: 8.5572 - val_accuracy: 0.9020\n",
            "Epoch 138/200\n",
            "57/69 [=======================>......] - ETA: 0s - loss: 8.5477 - accuracy: 0.8962WARNING:tensorflow:Can save best model only with val_acc available, skipping.\n",
            "69/69 [==============================] - 0s 1ms/step - loss: 8.5627 - accuracy: 0.8965 - val_loss: 8.5572 - val_accuracy: 0.9020\n",
            "Epoch 139/200\n",
            "47/69 [===================>..........] - ETA: 0s - loss: 8.5427 - accuracy: 0.8935WARNING:tensorflow:Can save best model only with val_acc available, skipping.\n",
            "69/69 [==============================] - 0s 1ms/step - loss: 8.5627 - accuracy: 0.8965 - val_loss: 8.5572 - val_accuracy: 0.9020\n",
            "Epoch 140/200\n",
            "52/69 [=====================>........] - ETA: 0s - loss: 8.5433 - accuracy: 0.8995WARNING:tensorflow:Can save best model only with val_acc available, skipping.\n",
            "69/69 [==============================] - 0s 1ms/step - loss: 8.5627 - accuracy: 0.8965 - val_loss: 8.5572 - val_accuracy: 0.9020\n",
            "Epoch 141/200\n",
            "47/69 [===================>..........] - ETA: 0s - loss: 8.5576 - accuracy: 0.9016WARNING:tensorflow:Can save best model only with val_acc available, skipping.\n",
            "69/69 [==============================] - 0s 1ms/step - loss: 8.5627 - accuracy: 0.8965 - val_loss: 8.5572 - val_accuracy: 0.9020\n",
            "Epoch 142/200\n",
            "55/69 [======================>.......] - ETA: 0s - loss: 8.5833 - accuracy: 0.8952WARNING:tensorflow:Can save best model only with val_acc available, skipping.\n",
            "69/69 [==============================] - 0s 1ms/step - loss: 8.5627 - accuracy: 0.8965 - val_loss: 8.5572 - val_accuracy: 0.9020\n",
            "Epoch 143/200\n",
            "53/69 [======================>.......] - ETA: 0s - loss: 8.5547 - accuracy: 0.8967WARNING:tensorflow:Can save best model only with val_acc available, skipping.\n",
            "69/69 [==============================] - 0s 1ms/step - loss: 8.5627 - accuracy: 0.8965 - val_loss: 8.5572 - val_accuracy: 0.9020\n",
            "Epoch 144/200\n",
            "47/69 [===================>..........] - ETA: 0s - loss: 8.5405 - accuracy: 0.8991WARNING:tensorflow:Can save best model only with val_acc available, skipping.\n",
            "69/69 [==============================] - 0s 1ms/step - loss: 8.5627 - accuracy: 0.8965 - val_loss: 8.5572 - val_accuracy: 0.9020\n",
            "Epoch 145/200\n",
            "51/69 [=====================>........] - ETA: 0s - loss: 8.5703 - accuracy: 0.9010WARNING:tensorflow:Can save best model only with val_acc available, skipping.\n",
            "69/69 [==============================] - 0s 1ms/step - loss: 8.5627 - accuracy: 0.8965 - val_loss: 8.5572 - val_accuracy: 0.9020\n",
            "Epoch 146/200\n",
            "53/69 [======================>.......] - ETA: 0s - loss: 8.5565 - accuracy: 0.8987WARNING:tensorflow:Can save best model only with val_acc available, skipping.\n",
            "69/69 [==============================] - 0s 1ms/step - loss: 8.5627 - accuracy: 0.8965 - val_loss: 8.5572 - val_accuracy: 0.9020\n",
            "Epoch 147/200\n",
            "52/69 [=====================>........] - ETA: 0s - loss: 8.5789 - accuracy: 0.8986WARNING:tensorflow:Can save best model only with val_acc available, skipping.\n",
            "69/69 [==============================] - 0s 1ms/step - loss: 8.5627 - accuracy: 0.8965 - val_loss: 8.5572 - val_accuracy: 0.9020\n",
            "Epoch 148/200\n",
            "48/69 [===================>..........] - ETA: 0s - loss: 8.5499 - accuracy: 0.8984WARNING:tensorflow:Can save best model only with val_acc available, skipping.\n",
            "69/69 [==============================] - 0s 1ms/step - loss: 8.5627 - accuracy: 0.8965 - val_loss: 8.5572 - val_accuracy: 0.9020\n",
            "Epoch 149/200\n",
            "41/69 [================>.............] - ETA: 0s - loss: 8.5696 - accuracy: 0.8973WARNING:tensorflow:Can save best model only with val_acc available, skipping.\n",
            "69/69 [==============================] - 0s 2ms/step - loss: 8.5627 - accuracy: 0.8965 - val_loss: 8.5572 - val_accuracy: 0.9020\n",
            "Epoch 150/200\n",
            "37/69 [===============>..............] - ETA: 0s - loss: 8.5639 - accuracy: 0.8978WARNING:tensorflow:Can save best model only with val_acc available, skipping.\n",
            "69/69 [==============================] - 0s 2ms/step - loss: 8.5627 - accuracy: 0.8965 - val_loss: 8.5572 - val_accuracy: 0.9020\n",
            "Epoch 151/200\n",
            "58/69 [========================>.....] - ETA: 0s - loss: 8.5706 - accuracy: 0.8947WARNING:tensorflow:Can save best model only with val_acc available, skipping.\n",
            "69/69 [==============================] - 0s 1ms/step - loss: 8.5627 - accuracy: 0.8965 - val_loss: 8.5572 - val_accuracy: 0.9020\n",
            "Epoch 152/200\n",
            "55/69 [======================>.......] - ETA: 0s - loss: 8.5736 - accuracy: 0.8980WARNING:tensorflow:Can save best model only with val_acc available, skipping.\n",
            "69/69 [==============================] - 0s 1ms/step - loss: 8.5627 - accuracy: 0.8965 - val_loss: 8.5572 - val_accuracy: 0.9020\n",
            "Epoch 153/200\n",
            "51/69 [=====================>........] - ETA: 0s - loss: 8.5584 - accuracy: 0.8972WARNING:tensorflow:Can save best model only with val_acc available, skipping.\n",
            "69/69 [==============================] - 0s 1ms/step - loss: 8.5627 - accuracy: 0.8965 - val_loss: 8.5572 - val_accuracy: 0.9020\n",
            "Epoch 154/200\n",
            "56/69 [=======================>......] - ETA: 0s - loss: 8.5519 - accuracy: 0.8968WARNING:tensorflow:Can save best model only with val_acc available, skipping.\n",
            "69/69 [==============================] - 0s 1ms/step - loss: 8.5627 - accuracy: 0.8965 - val_loss: 8.5572 - val_accuracy: 0.9020\n",
            "Epoch 155/200\n",
            "57/69 [=======================>......] - ETA: 0s - loss: 8.5546 - accuracy: 0.8951WARNING:tensorflow:Can save best model only with val_acc available, skipping.\n",
            "69/69 [==============================] - 0s 1ms/step - loss: 8.5627 - accuracy: 0.8965 - val_loss: 8.5572 - val_accuracy: 0.9020\n",
            "Epoch 156/200\n",
            "45/69 [==================>...........] - ETA: 0s - loss: 8.5659 - accuracy: 0.9033WARNING:tensorflow:Can save best model only with val_acc available, skipping.\n",
            "69/69 [==============================] - 0s 2ms/step - loss: 8.5627 - accuracy: 0.8965 - val_loss: 8.5572 - val_accuracy: 0.9020\n",
            "Epoch 157/200\n",
            "49/69 [====================>.........] - ETA: 0s - loss: 8.5581 - accuracy: 0.8976WARNING:tensorflow:Can save best model only with val_acc available, skipping.\n",
            "69/69 [==============================] - 0s 1ms/step - loss: 8.5627 - accuracy: 0.8965 - val_loss: 8.5572 - val_accuracy: 0.9020\n",
            "Epoch 158/200\n",
            "55/69 [======================>.......] - ETA: 0s - loss: 8.5648 - accuracy: 0.8967WARNING:tensorflow:Can save best model only with val_acc available, skipping.\n",
            "69/69 [==============================] - 0s 1ms/step - loss: 8.5627 - accuracy: 0.8965 - val_loss: 8.5572 - val_accuracy: 0.9020\n",
            "Epoch 159/200\n",
            "41/69 [================>.............] - ETA: 0s - loss: 8.5423 - accuracy: 0.8929WARNING:tensorflow:Can save best model only with val_acc available, skipping.\n",
            "69/69 [==============================] - 0s 2ms/step - loss: 8.5627 - accuracy: 0.8965 - val_loss: 8.5572 - val_accuracy: 0.9020\n",
            "Epoch 160/200\n",
            "53/69 [======================>.......] - ETA: 0s - loss: 8.5854 - accuracy: 0.8973WARNING:tensorflow:Can save best model only with val_acc available, skipping.\n",
            "69/69 [==============================] - 0s 1ms/step - loss: 8.5627 - accuracy: 0.8965 - val_loss: 8.5572 - val_accuracy: 0.9020\n",
            "Epoch 161/200\n",
            "53/69 [======================>.......] - ETA: 0s - loss: 8.5527 - accuracy: 0.8955WARNING:tensorflow:Can save best model only with val_acc available, skipping.\n",
            "69/69 [==============================] - 0s 1ms/step - loss: 8.5627 - accuracy: 0.8965 - val_loss: 8.5572 - val_accuracy: 0.9020\n",
            "Epoch 162/200\n",
            "51/69 [=====================>........] - ETA: 0s - loss: 8.5504 - accuracy: 0.8961WARNING:tensorflow:Can save best model only with val_acc available, skipping.\n",
            "69/69 [==============================] - 0s 1ms/step - loss: 8.5627 - accuracy: 0.8965 - val_loss: 8.5572 - val_accuracy: 0.9020\n",
            "Epoch 163/200\n",
            "50/69 [====================>.........] - ETA: 0s - loss: 8.5571 - accuracy: 0.8958WARNING:tensorflow:Can save best model only with val_acc available, skipping.\n",
            "69/69 [==============================] - 0s 1ms/step - loss: 8.5627 - accuracy: 0.8965 - val_loss: 8.5572 - val_accuracy: 0.9020\n",
            "Epoch 164/200\n",
            "46/69 [===================>..........] - ETA: 0s - loss: 8.5567 - accuracy: 0.8949WARNING:tensorflow:Can save best model only with val_acc available, skipping.\n",
            "69/69 [==============================] - 0s 1ms/step - loss: 8.5627 - accuracy: 0.8965 - val_loss: 8.5572 - val_accuracy: 0.9020\n",
            "Epoch 165/200\n",
            "49/69 [====================>.........] - ETA: 0s - loss: 8.5566 - accuracy: 0.8999WARNING:tensorflow:Can save best model only with val_acc available, skipping.\n",
            "69/69 [==============================] - 0s 1ms/step - loss: 8.5627 - accuracy: 0.8965 - val_loss: 8.5572 - val_accuracy: 0.9020\n",
            "Epoch 166/200\n",
            "51/69 [=====================>........] - ETA: 0s - loss: 8.5547 - accuracy: 0.8961WARNING:tensorflow:Can save best model only with val_acc available, skipping.\n",
            "69/69 [==============================] - 0s 1ms/step - loss: 8.5627 - accuracy: 0.8965 - val_loss: 8.5572 - val_accuracy: 0.9020\n",
            "Epoch 167/200\n",
            "49/69 [====================>.........] - ETA: 0s - loss: 8.5883 - accuracy: 0.8978WARNING:tensorflow:Can save best model only with val_acc available, skipping.\n",
            "69/69 [==============================] - 0s 1ms/step - loss: 8.5627 - accuracy: 0.8965 - val_loss: 8.5572 - val_accuracy: 0.9020\n",
            "Epoch 168/200\n",
            "50/69 [====================>.........] - ETA: 0s - loss: 8.5660 - accuracy: 0.8959WARNING:tensorflow:Can save best model only with val_acc available, skipping.\n",
            "69/69 [==============================] - 0s 1ms/step - loss: 8.5627 - accuracy: 0.8965 - val_loss: 8.5572 - val_accuracy: 0.9020\n",
            "Epoch 169/200\n",
            "43/69 [=================>............] - ETA: 0s - loss: 8.5438 - accuracy: 0.8934WARNING:tensorflow:Can save best model only with val_acc available, skipping.\n",
            "69/69 [==============================] - 0s 1ms/step - loss: 8.5627 - accuracy: 0.8965 - val_loss: 8.5572 - val_accuracy: 0.9020\n",
            "Epoch 170/200\n",
            "53/69 [======================>.......] - ETA: 0s - loss: 8.5544 - accuracy: 0.8953WARNING:tensorflow:Can save best model only with val_acc available, skipping.\n",
            "69/69 [==============================] - 0s 1ms/step - loss: 8.5627 - accuracy: 0.8965 - val_loss: 8.5572 - val_accuracy: 0.9020\n",
            "Epoch 171/200\n",
            "51/69 [=====================>........] - ETA: 0s - loss: 8.5645 - accuracy: 0.8951WARNING:tensorflow:Can save best model only with val_acc available, skipping.\n",
            "69/69 [==============================] - 0s 1ms/step - loss: 8.5627 - accuracy: 0.8965 - val_loss: 8.5572 - val_accuracy: 0.9020\n",
            "Epoch 172/200\n",
            "51/69 [=====================>........] - ETA: 0s - loss: 8.5612 - accuracy: 0.8972WARNING:tensorflow:Can save best model only with val_acc available, skipping.\n",
            "69/69 [==============================] - 0s 1ms/step - loss: 8.5627 - accuracy: 0.8965 - val_loss: 8.5572 - val_accuracy: 0.9020\n",
            "Epoch 173/200\n",
            "48/69 [===================>..........] - ETA: 0s - loss: 8.5479 - accuracy: 0.8953WARNING:tensorflow:Can save best model only with val_acc available, skipping.\n",
            "69/69 [==============================] - 0s 1ms/step - loss: 8.5627 - accuracy: 0.8965 - val_loss: 8.5572 - val_accuracy: 0.9020\n",
            "Epoch 174/200\n",
            "54/69 [======================>.......] - ETA: 0s - loss: 8.5581 - accuracy: 0.8961WARNING:tensorflow:Can save best model only with val_acc available, skipping.\n",
            "69/69 [==============================] - 0s 1ms/step - loss: 8.5627 - accuracy: 0.8965 - val_loss: 8.5572 - val_accuracy: 0.9020\n",
            "Epoch 175/200\n",
            "52/69 [=====================>........] - ETA: 0s - loss: 8.5376 - accuracy: 0.8966WARNING:tensorflow:Can save best model only with val_acc available, skipping.\n",
            "69/69 [==============================] - 0s 1ms/step - loss: 8.5627 - accuracy: 0.8965 - val_loss: 8.5572 - val_accuracy: 0.9020\n",
            "Epoch 176/200\n",
            "54/69 [======================>.......] - ETA: 0s - loss: 8.5464 - accuracy: 0.8973WARNING:tensorflow:Can save best model only with val_acc available, skipping.\n",
            "69/69 [==============================] - 0s 1ms/step - loss: 8.5627 - accuracy: 0.8965 - val_loss: 8.5572 - val_accuracy: 0.9020\n",
            "Epoch 177/200\n",
            "55/69 [======================>.......] - ETA: 0s - loss: 8.5660 - accuracy: 0.8974WARNING:tensorflow:Can save best model only with val_acc available, skipping.\n",
            "69/69 [==============================] - 0s 1ms/step - loss: 8.5627 - accuracy: 0.8965 - val_loss: 8.5572 - val_accuracy: 0.9020\n",
            "Epoch 178/200\n",
            "49/69 [====================>.........] - ETA: 0s - loss: 8.5788 - accuracy: 0.8988WARNING:tensorflow:Can save best model only with val_acc available, skipping.\n",
            "69/69 [==============================] - 0s 1ms/step - loss: 8.5627 - accuracy: 0.8965 - val_loss: 8.5572 - val_accuracy: 0.9020\n",
            "Epoch 179/200\n",
            "44/69 [==================>...........] - ETA: 0s - loss: 8.5538 - accuracy: 0.9007WARNING:tensorflow:Can save best model only with val_acc available, skipping.\n",
            "69/69 [==============================] - 0s 1ms/step - loss: 8.5627 - accuracy: 0.8965 - val_loss: 8.5572 - val_accuracy: 0.9020\n",
            "Epoch 180/200\n",
            "52/69 [=====================>........] - ETA: 0s - loss: 8.5678 - accuracy: 0.8996WARNING:tensorflow:Can save best model only with val_acc available, skipping.\n",
            "69/69 [==============================] - 0s 1ms/step - loss: 8.5627 - accuracy: 0.8965 - val_loss: 8.5572 - val_accuracy: 0.9020\n",
            "Epoch 181/200\n",
            "57/69 [=======================>......] - ETA: 0s - loss: 8.5599 - accuracy: 0.8980WARNING:tensorflow:Can save best model only with val_acc available, skipping.\n",
            "69/69 [==============================] - 0s 1ms/step - loss: 8.5627 - accuracy: 0.8965 - val_loss: 8.5572 - val_accuracy: 0.9020\n",
            "Epoch 182/200\n",
            "52/69 [=====================>........] - ETA: 0s - loss: 8.5552 - accuracy: 0.9013WARNING:tensorflow:Can save best model only with val_acc available, skipping.\n",
            "69/69 [==============================] - 0s 1ms/step - loss: 8.5627 - accuracy: 0.8965 - val_loss: 8.5572 - val_accuracy: 0.9020\n",
            "Epoch 183/200\n",
            "52/69 [=====================>........] - ETA: 0s - loss: 8.5898 - accuracy: 0.8981WARNING:tensorflow:Can save best model only with val_acc available, skipping.\n",
            "69/69 [==============================] - 0s 1ms/step - loss: 8.5627 - accuracy: 0.8965 - val_loss: 8.5572 - val_accuracy: 0.9020\n",
            "Epoch 184/200\n",
            "57/69 [=======================>......] - ETA: 0s - loss: 8.5657 - accuracy: 0.8965WARNING:tensorflow:Can save best model only with val_acc available, skipping.\n",
            "69/69 [==============================] - 0s 1ms/step - loss: 8.5627 - accuracy: 0.8965 - val_loss: 8.5572 - val_accuracy: 0.9020\n",
            "Epoch 185/200\n",
            "45/69 [==================>...........] - ETA: 0s - loss: 8.5520 - accuracy: 0.8970WARNING:tensorflow:Can save best model only with val_acc available, skipping.\n",
            "69/69 [==============================] - 0s 2ms/step - loss: 8.5627 - accuracy: 0.8965 - val_loss: 8.5572 - val_accuracy: 0.9020\n",
            "Epoch 186/200\n",
            "41/69 [================>.............] - ETA: 0s - loss: 8.5759 - accuracy: 0.8982WARNING:tensorflow:Can save best model only with val_acc available, skipping.\n",
            "69/69 [==============================] - 0s 2ms/step - loss: 8.5627 - accuracy: 0.8965 - val_loss: 8.5572 - val_accuracy: 0.9020\n",
            "Epoch 187/200\n",
            "46/69 [===================>..........] - ETA: 0s - loss: 8.5522 - accuracy: 0.8966WARNING:tensorflow:Can save best model only with val_acc available, skipping.\n",
            "69/69 [==============================] - 0s 1ms/step - loss: 8.5627 - accuracy: 0.8965 - val_loss: 8.5572 - val_accuracy: 0.9020\n",
            "Epoch 188/200\n",
            "52/69 [=====================>........] - ETA: 0s - loss: 8.5523 - accuracy: 0.8992WARNING:tensorflow:Can save best model only with val_acc available, skipping.\n",
            "69/69 [==============================] - 0s 1ms/step - loss: 8.5627 - accuracy: 0.8965 - val_loss: 8.5572 - val_accuracy: 0.9020\n",
            "Epoch 189/200\n",
            "42/69 [=================>............] - ETA: 0s - loss: 8.5753 - accuracy: 0.8966WARNING:tensorflow:Can save best model only with val_acc available, skipping.\n",
            "69/69 [==============================] - 0s 2ms/step - loss: 8.5627 - accuracy: 0.8965 - val_loss: 8.5572 - val_accuracy: 0.9020\n",
            "Epoch 190/200\n",
            "43/69 [=================>............] - ETA: 0s - loss: 8.5546 - accuracy: 0.8952WARNING:tensorflow:Can save best model only with val_acc available, skipping.\n",
            "69/69 [==============================] - 0s 1ms/step - loss: 8.5627 - accuracy: 0.8965 - val_loss: 8.5572 - val_accuracy: 0.9020\n",
            "Epoch 191/200\n",
            "53/69 [======================>.......] - ETA: 0s - loss: 8.5579 - accuracy: 0.8909WARNING:tensorflow:Can save best model only with val_acc available, skipping.\n",
            "69/69 [==============================] - 0s 1ms/step - loss: 8.5627 - accuracy: 0.8965 - val_loss: 8.5572 - val_accuracy: 0.9020\n",
            "Epoch 192/200\n",
            "50/69 [====================>.........] - ETA: 0s - loss: 8.5635 - accuracy: 0.8973WARNING:tensorflow:Can save best model only with val_acc available, skipping.\n",
            "69/69 [==============================] - 0s 1ms/step - loss: 8.5627 - accuracy: 0.8965 - val_loss: 8.5572 - val_accuracy: 0.9020\n",
            "Epoch 193/200\n",
            "52/69 [=====================>........] - ETA: 0s - loss: 8.5521 - accuracy: 0.8956WARNING:tensorflow:Can save best model only with val_acc available, skipping.\n",
            "69/69 [==============================] - 0s 1ms/step - loss: 8.5627 - accuracy: 0.8965 - val_loss: 8.5572 - val_accuracy: 0.9020\n",
            "Epoch 194/200\n",
            "52/69 [=====================>........] - ETA: 0s - loss: 8.5429 - accuracy: 0.8989WARNING:tensorflow:Can save best model only with val_acc available, skipping.\n",
            "69/69 [==============================] - 0s 1ms/step - loss: 8.5627 - accuracy: 0.8965 - val_loss: 8.5572 - val_accuracy: 0.9020\n",
            "Epoch 195/200\n",
            "44/69 [==================>...........] - ETA: 0s - loss: 8.5691 - accuracy: 0.8938WARNING:tensorflow:Can save best model only with val_acc available, skipping.\n",
            "69/69 [==============================] - 0s 2ms/step - loss: 8.5627 - accuracy: 0.8965 - val_loss: 8.5572 - val_accuracy: 0.9020\n",
            "Epoch 196/200\n",
            "49/69 [====================>.........] - ETA: 0s - loss: 8.5796 - accuracy: 0.8965WARNING:tensorflow:Can save best model only with val_acc available, skipping.\n",
            "69/69 [==============================] - 0s 1ms/step - loss: 8.5627 - accuracy: 0.8965 - val_loss: 8.5572 - val_accuracy: 0.9020\n",
            "Epoch 197/200\n",
            "56/69 [=======================>......] - ETA: 0s - loss: 8.5646 - accuracy: 0.8969WARNING:tensorflow:Can save best model only with val_acc available, skipping.\n",
            "69/69 [==============================] - 0s 1ms/step - loss: 8.5627 - accuracy: 0.8965 - val_loss: 8.5572 - val_accuracy: 0.9020\n",
            "Epoch 198/200\n",
            "50/69 [====================>.........] - ETA: 0s - loss: 8.5679 - accuracy: 0.8963WARNING:tensorflow:Can save best model only with val_acc available, skipping.\n",
            "69/69 [==============================] - 0s 1ms/step - loss: 8.5627 - accuracy: 0.8965 - val_loss: 8.5572 - val_accuracy: 0.9020\n",
            "Epoch 199/200\n",
            "52/69 [=====================>........] - ETA: 0s - loss: 8.5666 - accuracy: 0.8956WARNING:tensorflow:Can save best model only with val_acc available, skipping.\n",
            "69/69 [==============================] - 0s 1ms/step - loss: 8.5627 - accuracy: 0.8965 - val_loss: 8.5572 - val_accuracy: 0.9020\n",
            "Epoch 200/200\n",
            "44/69 [==================>...........] - ETA: 0s - loss: 8.5492 - accuracy: 0.8956WARNING:tensorflow:Can save best model only with val_acc available, skipping.\n",
            "69/69 [==============================] - 0s 2ms/step - loss: 8.5627 - accuracy: 0.8965 - val_loss: 8.5572 - val_accuracy: 0.9020\n"
          ],
          "name": "stdout"
        }
      ]
    },
    {
      "cell_type": "markdown",
      "metadata": {
        "id": "sRa1dGQRWi8s",
        "colab_type": "text"
      },
      "source": [
        "## Accuracy"
      ]
    },
    {
      "cell_type": "code",
      "metadata": {
        "id": "usVJVAtBWlxy",
        "colab_type": "code",
        "colab": {
          "base_uri": "https://localhost:8080/",
          "height": 84
        },
        "outputId": "89a482d3-370b-4d1e-e670-5f79374155ec"
      },
      "source": [
        "accr = model.evaluate(X_test,Y_test)\n",
        "print('Test set\\n  Loss: {:0.3f}\\n  Accuracy: {:0.3f}'.format(accr[0],accr[1]))"
      ],
      "execution_count": 54,
      "outputs": [
        {
          "output_type": "stream",
          "text": [
            "31/31 [==============================] - 0s 979us/step - loss: 8.5572 - accuracy: 0.9020\n",
            "Test set\n",
            "  Loss: 8.557\n",
            "  Accuracy: 0.902\n"
          ],
          "name": "stdout"
        }
      ]
    },
    {
      "cell_type": "markdown",
      "metadata": {
        "id": "H5yaquu4WqEs",
        "colab_type": "text"
      },
      "source": [
        "## Plot Loss and Accuracy"
      ]
    },
    {
      "cell_type": "code",
      "metadata": {
        "id": "jJL3rTmcWsSP",
        "colab_type": "code",
        "colab": {
          "base_uri": "https://localhost:8080/",
          "height": 283
        },
        "outputId": "4e530b00-eca3-4e41-e501-7bb9b37c7449"
      },
      "source": [
        "plt.title('Loss')\n",
        "plt.plot(history.history['loss'], label='train')\n",
        "plt.plot(history.history['val_loss'], label='test')\n",
        "plt.legend()\n",
        "plt.show();"
      ],
      "execution_count": 56,
      "outputs": [
        {
          "output_type": "display_data",
          "data": {
            "image/png": "[encoded data removed]",
            "text/plain": [
              "<Figure size 432x288 with 1 Axes>"
            ]
          },
          "metadata": {
            "tags": [],
            "needs_background": "light"
          }
        }
      ]
    },
    {
      "cell_type": "code",
      "metadata": {
        "id": "P8ElyP1FZtsF",
        "colab_type": "code",
        "colab": {
          "base_uri": "https://localhost:8080/",
          "height": 495
        },
        "outputId": "b234cbcf-5f12-40c2-bf2d-ff979c307af7"
      },
      "source": [
        "plt.title('Accuracy')\n",
        "plt.plot(history.history['acc'], label='train')\n",
        "plt.plot(history.history['val_acc'], label='test')\n",
        "plt.legend()\n",
        "plt.show();"
      ],
      "execution_count": 59,
      "outputs": [
        {
          "output_type": "error",
          "ename": "KeyError",
          "evalue": "ignored",
          "traceback": [
            "\u001b[0;31m---------------------------------------------------------------------------\u001b[0m",
            "\u001b[0;31mKeyError\u001b[0m                                  Traceback (most recent call last)",
            "\u001b[0;32m<ipython-input-59-652c9934bc45>\u001b[0m in \u001b[0;36m<module>\u001b[0;34m()\u001b[0m\n\u001b[1;32m      1\u001b[0m \u001b[0mplt\u001b[0m\u001b[0;34m.\u001b[0m\u001b[0mtitle\u001b[0m\u001b[0;34m(\u001b[0m\u001b[0;34m'Accuracy'\u001b[0m\u001b[0;34m)\u001b[0m\u001b[0;34m\u001b[0m\u001b[0;34m\u001b[0m\u001b[0m\n\u001b[0;32m----> 2\u001b[0;31m \u001b[0mplt\u001b[0m\u001b[0;34m.\u001b[0m\u001b[0mplot\u001b[0m\u001b[0;34m(\u001b[0m\u001b[0mhistory\u001b[0m\u001b[0;34m.\u001b[0m\u001b[0mhistory\u001b[0m\u001b[0;34m[\u001b[0m\u001b[0;34m'acc'\u001b[0m\u001b[0;34m]\u001b[0m\u001b[0;34m,\u001b[0m \u001b[0mlabel\u001b[0m\u001b[0;34m=\u001b[0m\u001b[0;34m'train'\u001b[0m\u001b[0;34m)\u001b[0m\u001b[0;34m\u001b[0m\u001b[0;34m\u001b[0m\u001b[0m\n\u001b[0m\u001b[1;32m      3\u001b[0m \u001b[0mplt\u001b[0m\u001b[0;34m.\u001b[0m\u001b[0mplot\u001b[0m\u001b[0;34m(\u001b[0m\u001b[0mhistory\u001b[0m\u001b[0;34m.\u001b[0m\u001b[0mhistory\u001b[0m\u001b[0;34m[\u001b[0m\u001b[0;34m'val_acc'\u001b[0m\u001b[0;34m]\u001b[0m\u001b[0;34m,\u001b[0m \u001b[0mlabel\u001b[0m\u001b[0;34m=\u001b[0m\u001b[0;34m'test'\u001b[0m\u001b[0;34m)\u001b[0m\u001b[0;34m\u001b[0m\u001b[0;34m\u001b[0m\u001b[0m\n\u001b[1;32m      4\u001b[0m \u001b[0mplt\u001b[0m\u001b[0;34m.\u001b[0m\u001b[0mlegend\u001b[0m\u001b[0;34m(\u001b[0m\u001b[0;34m)\u001b[0m\u001b[0;34m\u001b[0m\u001b[0;34m\u001b[0m\u001b[0m\n\u001b[1;32m      5\u001b[0m \u001b[0mplt\u001b[0m\u001b[0;34m.\u001b[0m\u001b[0mshow\u001b[0m\u001b[0;34m(\u001b[0m\u001b[0;34m)\u001b[0m\u001b[0;34m;\u001b[0m\u001b[0;34m\u001b[0m\u001b[0;34m\u001b[0m\u001b[0m\n",
            "\u001b[0;31mKeyError\u001b[0m: 'acc'"
          ]
        },
        {
          "output_type": "display_data",
          "data": {
            "image/png": "[encoded data removed]",
            "text/plain": [
              "<Figure size 432x288 with 1 Axes>"
            ]
          },
          "metadata": {
            "tags": [],
            "needs_background": "light"
          }
        }
      ]
    },
    {
      "cell_type": "markdown",
      "metadata": {
        "colab_type": "text",
        "id": "VQ9WA9AGayg5"
      },
      "source": [
        "# 2.1 Loading NY - Social Distancing Inertia Labeled data"
      ]
    },
    {
      "cell_type": "code",
      "metadata": {
        "colab_type": "code",
        "id": "gmHPORdWayg7",
        "colab": {
          "base_uri": "https://localhost:8080/",
          "height": 383
        },
        "outputId": "d56d63b0-094e-4341-da8e-733ef011ba83"
      },
      "source": [
        "NY_inertia_labeled_data = pd.read_csv('/content/drive/Shared drives/CMPE 295- Master Project/Covid19-data/NY_sd_inertia_labeledData_Aug27.csv',low_memory=False)\n",
        "NY_inertia_labeled_data.head()"
      ],
      "execution_count": 61,
      "outputs": [
        {
          "output_type": "execute_result",
          "data": {
            "text/html": [
              "<div>\n",
              "<style scoped>\n",
              "    .dataframe tbody tr th:only-of-type {\n",
              "        vertical-align: middle;\n",
              "    }\n",
              "\n",
              "    .dataframe tbody tr th {\n",
              "        vertical-align: top;\n",
              "    }\n",
              "\n",
              "    .dataframe thead th {\n",
              "        text-align: right;\n",
              "    }\n",
              "</style>\n",
              "<table border=\"1\" class=\"dataframe\">\n",
              "  <thead>\n",
              "    <tr style=\"text-align: right;\">\n",
              "      <th></th>\n",
              "      <th>Date</th>\n",
              "      <th>Province_State</th>\n",
              "      <th>FIPS</th>\n",
              "      <th>New cases</th>\n",
              "      <th>mask_rule_active</th>\n",
              "      <th>CTFIPS</th>\n",
              "      <th>CTNAME</th>\n",
              "      <th>STFIPS</th>\n",
              "      <th>Social distancing index</th>\n",
              "      <th>% staying home</th>\n",
              "      <th>Trips/person</th>\n",
              "      <th>% out-of-county trips</th>\n",
              "      <th>% out-of-state trips</th>\n",
              "      <th>Miles/person</th>\n",
              "      <th>Work trips/person</th>\n",
              "      <th>Non-work trips/person</th>\n",
              "      <th>New COVID cases</th>\n",
              "      <th>Population</th>\n",
              "      <th>% change in consumption</th>\n",
              "      <th>date</th>\n",
              "      <th>Transit mode share</th>\n",
              "      <th>% people older than 60</th>\n",
              "      <th>Median income</th>\n",
              "      <th>% African Americans</th>\n",
              "      <th>% Hispanic Americans</th>\n",
              "      <th>% Male</th>\n",
              "      <th>Population density</th>\n",
              "      <th>Employment density</th>\n",
              "      <th># hot spots/1000 people</th>\n",
              "      <th>Hospital beds/1000 people</th>\n",
              "      <th>ICUs/1000 people</th>\n",
              "      <th># contact tracing workers/1000 people</th>\n",
              "      <th># contact tracing workers/1000 people rank</th>\n",
              "      <th>% people older than 60 rank</th>\n",
              "      <th>COVID exposure/1000 people</th>\n",
              "      <th>Unemployment claims/1000 people</th>\n",
              "      <th>Unemployment rate</th>\n",
              "      <th>% working from home</th>\n",
              "      <th>Cumulative inflation rate</th>\n",
              "      <th>% hospital bed utilization</th>\n",
              "      <th>Testing capacity</th>\n",
              "      <th>Tests done/1000 people</th>\n",
              "      <th>% ICU utilization</th>\n",
              "      <th>Ventilator shortage</th>\n",
              "      <th>Confirmed</th>\n",
              "      <th>Deaths</th>\n",
              "      <th>New deaths</th>\n",
              "      <th>#days: decreasing ILI cases</th>\n",
              "      <th>COVID death rate</th>\n",
              "      <th>New cases/1000 people</th>\n",
              "      <th>Active cases/1000 people</th>\n",
              "      <th>#days: decreasing COVID cases</th>\n",
              "      <th>Imported COVID cases</th>\n",
              "      <th>rolling_avg_new_cases</th>\n",
              "      <th>label</th>\n",
              "    </tr>\n",
              "  </thead>\n",
              "  <tbody>\n",
              "    <tr>\n",
              "      <th>0</th>\n",
              "      <td>2020-01-22</td>\n",
              "      <td>New York</td>\n",
              "      <td>36001</td>\n",
              "      <td>0</td>\n",
              "      <td>0</td>\n",
              "      <td>36001</td>\n",
              "      <td>Albany County</td>\n",
              "      <td>36</td>\n",
              "      <td>20</td>\n",
              "      <td>21</td>\n",
              "      <td>4.3200</td>\n",
              "      <td>40.3000</td>\n",
              "      <td>2.3000</td>\n",
              "      <td>35.4000</td>\n",
              "      <td>1.0600</td>\n",
              "      <td>3.2500</td>\n",
              "      <td>0</td>\n",
              "      <td>307117</td>\n",
              "      <td>0.4000</td>\n",
              "      <td>2020-01-22</td>\n",
              "      <td>6.0600</td>\n",
              "      <td>22</td>\n",
              "      <td>64535</td>\n",
              "      <td>11.7000</td>\n",
              "      <td>5.8000</td>\n",
              "      <td>48.4400</td>\n",
              "      <td>577</td>\n",
              "      <td>465</td>\n",
              "      <td>151</td>\n",
              "      <td>2.7400</td>\n",
              "      <td>0.2200</td>\n",
              "      <td>0.0290</td>\n",
              "      <td>37.0000</td>\n",
              "      <td>27</td>\n",
              "      <td>0.0000</td>\n",
              "      <td>0.8000</td>\n",
              "      <td>3.7000</td>\n",
              "      <td>4.2000</td>\n",
              "      <td>0.7000</td>\n",
              "      <td>63.5000</td>\n",
              "      <td>0.0000</td>\n",
              "      <td>0.0000</td>\n",
              "      <td>0.0000</td>\n",
              "      <td>0</td>\n",
              "      <td>0.0000</td>\n",
              "      <td>0.0000</td>\n",
              "      <td>0.0000</td>\n",
              "      <td>0.0000</td>\n",
              "      <td>0.0000</td>\n",
              "      <td>0.0000</td>\n",
              "      <td>0.0000</td>\n",
              "      <td>0.0000</td>\n",
              "      <td>0.0000</td>\n",
              "      <td>0.0000</td>\n",
              "      <td>LessSpread</td>\n",
              "    </tr>\n",
              "    <tr>\n",
              "      <th>1</th>\n",
              "      <td>2020-01-22</td>\n",
              "      <td>New York</td>\n",
              "      <td>36043</td>\n",
              "      <td>0</td>\n",
              "      <td>0</td>\n",
              "      <td>36043</td>\n",
              "      <td>Herkimer County</td>\n",
              "      <td>36</td>\n",
              "      <td>16</td>\n",
              "      <td>20</td>\n",
              "      <td>4.2900</td>\n",
              "      <td>35.2000</td>\n",
              "      <td>0.4000</td>\n",
              "      <td>47.9000</td>\n",
              "      <td>1.0400</td>\n",
              "      <td>3.2500</td>\n",
              "      <td>0</td>\n",
              "      <td>61833</td>\n",
              "      <td>-0.7000</td>\n",
              "      <td>2020-01-22</td>\n",
              "      <td>1.0400</td>\n",
              "      <td>27</td>\n",
              "      <td>51862</td>\n",
              "      <td>1.1000</td>\n",
              "      <td>2.1000</td>\n",
              "      <td>49.4600</td>\n",
              "      <td>43</td>\n",
              "      <td>12</td>\n",
              "      <td>106</td>\n",
              "      <td>2.7400</td>\n",
              "      <td>0.2200</td>\n",
              "      <td>0.0290</td>\n",
              "      <td>37.0000</td>\n",
              "      <td>67</td>\n",
              "      <td>0.0000</td>\n",
              "      <td>0.8000</td>\n",
              "      <td>3.7000</td>\n",
              "      <td>4.2000</td>\n",
              "      <td>0.7000</td>\n",
              "      <td>63.5000</td>\n",
              "      <td>0.0000</td>\n",
              "      <td>0.0000</td>\n",
              "      <td>0.0000</td>\n",
              "      <td>0</td>\n",
              "      <td>0.0000</td>\n",
              "      <td>0.0000</td>\n",
              "      <td>0.0000</td>\n",
              "      <td>0.0000</td>\n",
              "      <td>0.0000</td>\n",
              "      <td>0.0000</td>\n",
              "      <td>0.0000</td>\n",
              "      <td>0.0000</td>\n",
              "      <td>0.0000</td>\n",
              "      <td>0.0000</td>\n",
              "      <td>LessSpread</td>\n",
              "    </tr>\n",
              "    <tr>\n",
              "      <th>2</th>\n",
              "      <td>2020-01-22</td>\n",
              "      <td>New York</td>\n",
              "      <td>36041</td>\n",
              "      <td>0</td>\n",
              "      <td>0</td>\n",
              "      <td>36041</td>\n",
              "      <td>Hamilton County</td>\n",
              "      <td>36</td>\n",
              "      <td>13</td>\n",
              "      <td>16</td>\n",
              "      <td>4.3100</td>\n",
              "      <td>37.6000</td>\n",
              "      <td>1.6000</td>\n",
              "      <td>67.0000</td>\n",
              "      <td>0.2800</td>\n",
              "      <td>4.0300</td>\n",
              "      <td>0</td>\n",
              "      <td>4434</td>\n",
              "      <td>7.0000</td>\n",
              "      <td>2020-01-22</td>\n",
              "      <td>0.3700</td>\n",
              "      <td>36</td>\n",
              "      <td>57552</td>\n",
              "      <td>0.8000</td>\n",
              "      <td>1.6000</td>\n",
              "      <td>51.3000</td>\n",
              "      <td>3</td>\n",
              "      <td>1</td>\n",
              "      <td>249</td>\n",
              "      <td>2.7400</td>\n",
              "      <td>0.2200</td>\n",
              "      <td>0.0290</td>\n",
              "      <td>37.0000</td>\n",
              "      <td>96</td>\n",
              "      <td>0.0000</td>\n",
              "      <td>0.8000</td>\n",
              "      <td>3.7000</td>\n",
              "      <td>4.2000</td>\n",
              "      <td>0.7000</td>\n",
              "      <td>63.5000</td>\n",
              "      <td>0.0000</td>\n",
              "      <td>0.0000</td>\n",
              "      <td>0.0000</td>\n",
              "      <td>0</td>\n",
              "      <td>0.0000</td>\n",
              "      <td>0.0000</td>\n",
              "      <td>0.0000</td>\n",
              "      <td>0.0000</td>\n",
              "      <td>0.0000</td>\n",
              "      <td>0.0000</td>\n",
              "      <td>0.0000</td>\n",
              "      <td>0.0000</td>\n",
              "      <td>0.0000</td>\n",
              "      <td>0.0000</td>\n",
              "      <td>LessSpread</td>\n",
              "    </tr>\n",
              "    <tr>\n",
              "      <th>3</th>\n",
              "      <td>2020-01-22</td>\n",
              "      <td>New York</td>\n",
              "      <td>36111</td>\n",
              "      <td>0</td>\n",
              "      <td>0</td>\n",
              "      <td>36111</td>\n",
              "      <td>Ulster County</td>\n",
              "      <td>36</td>\n",
              "      <td>17</td>\n",
              "      <td>21</td>\n",
              "      <td>4.2900</td>\n",
              "      <td>29.4000</td>\n",
              "      <td>1.9000</td>\n",
              "      <td>45.6000</td>\n",
              "      <td>0.9200</td>\n",
              "      <td>3.3800</td>\n",
              "      <td>0</td>\n",
              "      <td>178599</td>\n",
              "      <td>5.7000</td>\n",
              "      <td>2020-01-22</td>\n",
              "      <td>2.4700</td>\n",
              "      <td>26</td>\n",
              "      <td>63348</td>\n",
              "      <td>5.4000</td>\n",
              "      <td>10.0000</td>\n",
              "      <td>49.5100</td>\n",
              "      <td>154</td>\n",
              "      <td>86</td>\n",
              "      <td>144</td>\n",
              "      <td>2.7400</td>\n",
              "      <td>0.2200</td>\n",
              "      <td>0.0290</td>\n",
              "      <td>37.0000</td>\n",
              "      <td>59</td>\n",
              "      <td>0.0000</td>\n",
              "      <td>0.8000</td>\n",
              "      <td>3.7000</td>\n",
              "      <td>4.2000</td>\n",
              "      <td>0.7000</td>\n",
              "      <td>63.5000</td>\n",
              "      <td>0.0000</td>\n",
              "      <td>0.0000</td>\n",
              "      <td>0.0000</td>\n",
              "      <td>0</td>\n",
              "      <td>0.0000</td>\n",
              "      <td>0.0000</td>\n",
              "      <td>0.0000</td>\n",
              "      <td>0.0000</td>\n",
              "      <td>0.0000</td>\n",
              "      <td>0.0000</td>\n",
              "      <td>0.0000</td>\n",
              "      <td>0.0000</td>\n",
              "      <td>0.0000</td>\n",
              "      <td>0.0000</td>\n",
              "      <td>LessSpread</td>\n",
              "    </tr>\n",
              "    <tr>\n",
              "      <th>4</th>\n",
              "      <td>2020-01-22</td>\n",
              "      <td>New York</td>\n",
              "      <td>36039</td>\n",
              "      <td>0</td>\n",
              "      <td>0</td>\n",
              "      <td>36039</td>\n",
              "      <td>Greene County</td>\n",
              "      <td>36</td>\n",
              "      <td>15</td>\n",
              "      <td>17</td>\n",
              "      <td>4.2200</td>\n",
              "      <td>38.9000</td>\n",
              "      <td>2.3000</td>\n",
              "      <td>53.0000</td>\n",
              "      <td>0.9200</td>\n",
              "      <td>3.3000</td>\n",
              "      <td>0</td>\n",
              "      <td>47491</td>\n",
              "      <td>-4.0000</td>\n",
              "      <td>2020-01-22</td>\n",
              "      <td>1.1300</td>\n",
              "      <td>29</td>\n",
              "      <td>53617</td>\n",
              "      <td>5.8000</td>\n",
              "      <td>5.8000</td>\n",
              "      <td>52.3000</td>\n",
              "      <td>72</td>\n",
              "      <td>24</td>\n",
              "      <td>135</td>\n",
              "      <td>2.7400</td>\n",
              "      <td>0.2200</td>\n",
              "      <td>0.0290</td>\n",
              "      <td>37.0000</td>\n",
              "      <td>78</td>\n",
              "      <td>0.0000</td>\n",
              "      <td>0.8000</td>\n",
              "      <td>3.7000</td>\n",
              "      <td>4.2000</td>\n",
              "      <td>0.7000</td>\n",
              "      <td>63.5000</td>\n",
              "      <td>0.0000</td>\n",
              "      <td>0.0000</td>\n",
              "      <td>0.0000</td>\n",
              "      <td>0</td>\n",
              "      <td>0.0000</td>\n",
              "      <td>0.0000</td>\n",
              "      <td>0.0000</td>\n",
              "      <td>0.0000</td>\n",
              "      <td>0.0000</td>\n",
              "      <td>0.0000</td>\n",
              "      <td>0.0000</td>\n",
              "      <td>0.0000</td>\n",
              "      <td>0.0000</td>\n",
              "      <td>0.0000</td>\n",
              "      <td>LessSpread</td>\n",
              "    </tr>\n",
              "  </tbody>\n",
              "</table>\n",
              "</div>"
            ],
            "text/plain": [
              "         Date Province_State  ...  rolling_avg_new_cases       label\n",
              "0  2020-01-22       New York  ...                 0.0000  LessSpread\n",
              "1  2020-01-22       New York  ...                 0.0000  LessSpread\n",
              "2  2020-01-22       New York  ...                 0.0000  LessSpread\n",
              "3  2020-01-22       New York  ...                 0.0000  LessSpread\n",
              "4  2020-01-22       New York  ...                 0.0000  LessSpread\n",
              "\n",
              "[5 rows x 55 columns]"
            ]
          },
          "metadata": {
            "tags": []
          },
          "execution_count": 61
        }
      ]
    },
    {
      "cell_type": "markdown",
      "metadata": {
        "colab_type": "text",
        "id": "fSi0HBf0ayg-"
      },
      "source": [
        "## Categorical Code"
      ]
    },
    {
      "cell_type": "code",
      "metadata": {
        "colab_type": "code",
        "id": "j6qfP8ddayg_",
        "colab": {}
      },
      "source": [
        "NY_inertia_labeled_data[\"label\"] = NY_inertia_labeled_data[\"label\"].astype('category')\n",
        "NY_inertia_labeled_data['spread_category']= NY_inertia_labeled_data[\"label\"].cat.codes"
      ],
      "execution_count": 62,
      "outputs": []
    },
    {
      "cell_type": "code",
      "metadata": {
        "colab_type": "code",
        "id": "9RHsd6ngayhC",
        "colab": {
          "base_uri": "https://localhost:8080/",
          "height": 337
        },
        "outputId": "b25c01ca-0631-4c52-dc01-789c448af515"
      },
      "source": [
        "NY_inertia_labeled_data.head(4)"
      ],
      "execution_count": 63,
      "outputs": [
        {
          "output_type": "execute_result",
          "data": {
            "text/html": [
              "<div>\n",
              "<style scoped>\n",
              "    .dataframe tbody tr th:only-of-type {\n",
              "        vertical-align: middle;\n",
              "    }\n",
              "\n",
              "    .dataframe tbody tr th {\n",
              "        vertical-align: top;\n",
              "    }\n",
              "\n",
              "    .dataframe thead th {\n",
              "        text-align: right;\n",
              "    }\n",
              "</style>\n",
              "<table border=\"1\" class=\"dataframe\">\n",
              "  <thead>\n",
              "    <tr style=\"text-align: right;\">\n",
              "      <th></th>\n",
              "      <th>Date</th>\n",
              "      <th>Province_State</th>\n",
              "      <th>FIPS</th>\n",
              "      <th>New cases</th>\n",
              "      <th>mask_rule_active</th>\n",
              "      <th>CTFIPS</th>\n",
              "      <th>CTNAME</th>\n",
              "      <th>STFIPS</th>\n",
              "      <th>Social distancing index</th>\n",
              "      <th>% staying home</th>\n",
              "      <th>Trips/person</th>\n",
              "      <th>% out-of-county trips</th>\n",
              "      <th>% out-of-state trips</th>\n",
              "      <th>Miles/person</th>\n",
              "      <th>Work trips/person</th>\n",
              "      <th>Non-work trips/person</th>\n",
              "      <th>New COVID cases</th>\n",
              "      <th>Population</th>\n",
              "      <th>% change in consumption</th>\n",
              "      <th>date</th>\n",
              "      <th>Transit mode share</th>\n",
              "      <th>% people older than 60</th>\n",
              "      <th>Median income</th>\n",
              "      <th>% African Americans</th>\n",
              "      <th>% Hispanic Americans</th>\n",
              "      <th>% Male</th>\n",
              "      <th>Population density</th>\n",
              "      <th>Employment density</th>\n",
              "      <th># hot spots/1000 people</th>\n",
              "      <th>Hospital beds/1000 people</th>\n",
              "      <th>ICUs/1000 people</th>\n",
              "      <th># contact tracing workers/1000 people</th>\n",
              "      <th># contact tracing workers/1000 people rank</th>\n",
              "      <th>% people older than 60 rank</th>\n",
              "      <th>COVID exposure/1000 people</th>\n",
              "      <th>Unemployment claims/1000 people</th>\n",
              "      <th>Unemployment rate</th>\n",
              "      <th>% working from home</th>\n",
              "      <th>Cumulative inflation rate</th>\n",
              "      <th>% hospital bed utilization</th>\n",
              "      <th>Testing capacity</th>\n",
              "      <th>Tests done/1000 people</th>\n",
              "      <th>% ICU utilization</th>\n",
              "      <th>Ventilator shortage</th>\n",
              "      <th>Confirmed</th>\n",
              "      <th>Deaths</th>\n",
              "      <th>New deaths</th>\n",
              "      <th>#days: decreasing ILI cases</th>\n",
              "      <th>COVID death rate</th>\n",
              "      <th>New cases/1000 people</th>\n",
              "      <th>Active cases/1000 people</th>\n",
              "      <th>#days: decreasing COVID cases</th>\n",
              "      <th>Imported COVID cases</th>\n",
              "      <th>rolling_avg_new_cases</th>\n",
              "      <th>label</th>\n",
              "      <th>spread_category</th>\n",
              "    </tr>\n",
              "  </thead>\n",
              "  <tbody>\n",
              "    <tr>\n",
              "      <th>0</th>\n",
              "      <td>2020-01-22</td>\n",
              "      <td>New York</td>\n",
              "      <td>36001</td>\n",
              "      <td>0</td>\n",
              "      <td>0</td>\n",
              "      <td>36001</td>\n",
              "      <td>Albany County</td>\n",
              "      <td>36</td>\n",
              "      <td>20</td>\n",
              "      <td>21</td>\n",
              "      <td>4.3200</td>\n",
              "      <td>40.3000</td>\n",
              "      <td>2.3000</td>\n",
              "      <td>35.4000</td>\n",
              "      <td>1.0600</td>\n",
              "      <td>3.2500</td>\n",
              "      <td>0</td>\n",
              "      <td>307117</td>\n",
              "      <td>0.4000</td>\n",
              "      <td>2020-01-22</td>\n",
              "      <td>6.0600</td>\n",
              "      <td>22</td>\n",
              "      <td>64535</td>\n",
              "      <td>11.7000</td>\n",
              "      <td>5.8000</td>\n",
              "      <td>48.4400</td>\n",
              "      <td>577</td>\n",
              "      <td>465</td>\n",
              "      <td>151</td>\n",
              "      <td>2.7400</td>\n",
              "      <td>0.2200</td>\n",
              "      <td>0.0290</td>\n",
              "      <td>37.0000</td>\n",
              "      <td>27</td>\n",
              "      <td>0.0000</td>\n",
              "      <td>0.8000</td>\n",
              "      <td>3.7000</td>\n",
              "      <td>4.2000</td>\n",
              "      <td>0.7000</td>\n",
              "      <td>63.5000</td>\n",
              "      <td>0.0000</td>\n",
              "      <td>0.0000</td>\n",
              "      <td>0.0000</td>\n",
              "      <td>0</td>\n",
              "      <td>0.0000</td>\n",
              "      <td>0.0000</td>\n",
              "      <td>0.0000</td>\n",
              "      <td>0.0000</td>\n",
              "      <td>0.0000</td>\n",
              "      <td>0.0000</td>\n",
              "      <td>0.0000</td>\n",
              "      <td>0.0000</td>\n",
              "      <td>0.0000</td>\n",
              "      <td>0.0000</td>\n",
              "      <td>LessSpread</td>\n",
              "      <td>0</td>\n",
              "    </tr>\n",
              "    <tr>\n",
              "      <th>1</th>\n",
              "      <td>2020-01-22</td>\n",
              "      <td>New York</td>\n",
              "      <td>36043</td>\n",
              "      <td>0</td>\n",
              "      <td>0</td>\n",
              "      <td>36043</td>\n",
              "      <td>Herkimer County</td>\n",
              "      <td>36</td>\n",
              "      <td>16</td>\n",
              "      <td>20</td>\n",
              "      <td>4.2900</td>\n",
              "      <td>35.2000</td>\n",
              "      <td>0.4000</td>\n",
              "      <td>47.9000</td>\n",
              "      <td>1.0400</td>\n",
              "      <td>3.2500</td>\n",
              "      <td>0</td>\n",
              "      <td>61833</td>\n",
              "      <td>-0.7000</td>\n",
              "      <td>2020-01-22</td>\n",
              "      <td>1.0400</td>\n",
              "      <td>27</td>\n",
              "      <td>51862</td>\n",
              "      <td>1.1000</td>\n",
              "      <td>2.1000</td>\n",
              "      <td>49.4600</td>\n",
              "      <td>43</td>\n",
              "      <td>12</td>\n",
              "      <td>106</td>\n",
              "      <td>2.7400</td>\n",
              "      <td>0.2200</td>\n",
              "      <td>0.0290</td>\n",
              "      <td>37.0000</td>\n",
              "      <td>67</td>\n",
              "      <td>0.0000</td>\n",
              "      <td>0.8000</td>\n",
              "      <td>3.7000</td>\n",
              "      <td>4.2000</td>\n",
              "      <td>0.7000</td>\n",
              "      <td>63.5000</td>\n",
              "      <td>0.0000</td>\n",
              "      <td>0.0000</td>\n",
              "      <td>0.0000</td>\n",
              "      <td>0</td>\n",
              "      <td>0.0000</td>\n",
              "      <td>0.0000</td>\n",
              "      <td>0.0000</td>\n",
              "      <td>0.0000</td>\n",
              "      <td>0.0000</td>\n",
              "      <td>0.0000</td>\n",
              "      <td>0.0000</td>\n",
              "      <td>0.0000</td>\n",
              "      <td>0.0000</td>\n",
              "      <td>0.0000</td>\n",
              "      <td>LessSpread</td>\n",
              "      <td>0</td>\n",
              "    </tr>\n",
              "    <tr>\n",
              "      <th>2</th>\n",
              "      <td>2020-01-22</td>\n",
              "      <td>New York</td>\n",
              "      <td>36041</td>\n",
              "      <td>0</td>\n",
              "      <td>0</td>\n",
              "      <td>36041</td>\n",
              "      <td>Hamilton County</td>\n",
              "      <td>36</td>\n",
              "      <td>13</td>\n",
              "      <td>16</td>\n",
              "      <td>4.3100</td>\n",
              "      <td>37.6000</td>\n",
              "      <td>1.6000</td>\n",
              "      <td>67.0000</td>\n",
              "      <td>0.2800</td>\n",
              "      <td>4.0300</td>\n",
              "      <td>0</td>\n",
              "      <td>4434</td>\n",
              "      <td>7.0000</td>\n",
              "      <td>2020-01-22</td>\n",
              "      <td>0.3700</td>\n",
              "      <td>36</td>\n",
              "      <td>57552</td>\n",
              "      <td>0.8000</td>\n",
              "      <td>1.6000</td>\n",
              "      <td>51.3000</td>\n",
              "      <td>3</td>\n",
              "      <td>1</td>\n",
              "      <td>249</td>\n",
              "      <td>2.7400</td>\n",
              "      <td>0.2200</td>\n",
              "      <td>0.0290</td>\n",
              "      <td>37.0000</td>\n",
              "      <td>96</td>\n",
              "      <td>0.0000</td>\n",
              "      <td>0.8000</td>\n",
              "      <td>3.7000</td>\n",
              "      <td>4.2000</td>\n",
              "      <td>0.7000</td>\n",
              "      <td>63.5000</td>\n",
              "      <td>0.0000</td>\n",
              "      <td>0.0000</td>\n",
              "      <td>0.0000</td>\n",
              "      <td>0</td>\n",
              "      <td>0.0000</td>\n",
              "      <td>0.0000</td>\n",
              "      <td>0.0000</td>\n",
              "      <td>0.0000</td>\n",
              "      <td>0.0000</td>\n",
              "      <td>0.0000</td>\n",
              "      <td>0.0000</td>\n",
              "      <td>0.0000</td>\n",
              "      <td>0.0000</td>\n",
              "      <td>0.0000</td>\n",
              "      <td>LessSpread</td>\n",
              "      <td>0</td>\n",
              "    </tr>\n",
              "    <tr>\n",
              "      <th>3</th>\n",
              "      <td>2020-01-22</td>\n",
              "      <td>New York</td>\n",
              "      <td>36111</td>\n",
              "      <td>0</td>\n",
              "      <td>0</td>\n",
              "      <td>36111</td>\n",
              "      <td>Ulster County</td>\n",
              "      <td>36</td>\n",
              "      <td>17</td>\n",
              "      <td>21</td>\n",
              "      <td>4.2900</td>\n",
              "      <td>29.4000</td>\n",
              "      <td>1.9000</td>\n",
              "      <td>45.6000</td>\n",
              "      <td>0.9200</td>\n",
              "      <td>3.3800</td>\n",
              "      <td>0</td>\n",
              "      <td>178599</td>\n",
              "      <td>5.7000</td>\n",
              "      <td>2020-01-22</td>\n",
              "      <td>2.4700</td>\n",
              "      <td>26</td>\n",
              "      <td>63348</td>\n",
              "      <td>5.4000</td>\n",
              "      <td>10.0000</td>\n",
              "      <td>49.5100</td>\n",
              "      <td>154</td>\n",
              "      <td>86</td>\n",
              "      <td>144</td>\n",
              "      <td>2.7400</td>\n",
              "      <td>0.2200</td>\n",
              "      <td>0.0290</td>\n",
              "      <td>37.0000</td>\n",
              "      <td>59</td>\n",
              "      <td>0.0000</td>\n",
              "      <td>0.8000</td>\n",
              "      <td>3.7000</td>\n",
              "      <td>4.2000</td>\n",
              "      <td>0.7000</td>\n",
              "      <td>63.5000</td>\n",
              "      <td>0.0000</td>\n",
              "      <td>0.0000</td>\n",
              "      <td>0.0000</td>\n",
              "      <td>0</td>\n",
              "      <td>0.0000</td>\n",
              "      <td>0.0000</td>\n",
              "      <td>0.0000</td>\n",
              "      <td>0.0000</td>\n",
              "      <td>0.0000</td>\n",
              "      <td>0.0000</td>\n",
              "      <td>0.0000</td>\n",
              "      <td>0.0000</td>\n",
              "      <td>0.0000</td>\n",
              "      <td>0.0000</td>\n",
              "      <td>LessSpread</td>\n",
              "      <td>0</td>\n",
              "    </tr>\n",
              "  </tbody>\n",
              "</table>\n",
              "</div>"
            ],
            "text/plain": [
              "         Date Province_State  ...       label  spread_category\n",
              "0  2020-01-22       New York  ...  LessSpread                0\n",
              "1  2020-01-22       New York  ...  LessSpread                0\n",
              "2  2020-01-22       New York  ...  LessSpread                0\n",
              "3  2020-01-22       New York  ...  LessSpread                0\n",
              "\n",
              "[4 rows x 56 columns]"
            ]
          },
          "metadata": {
            "tags": []
          },
          "execution_count": 63
        }
      ]
    },
    {
      "cell_type": "markdown",
      "metadata": {
        "colab_type": "text",
        "id": "N5DPoCTYayhE"
      },
      "source": [
        "## Train-Test Split"
      ]
    },
    {
      "cell_type": "code",
      "metadata": {
        "colab_type": "code",
        "id": "eBFEdKqeayhF",
        "colab": {
          "base_uri": "https://localhost:8080/",
          "height": 386
        },
        "outputId": "ebd54178-d952-4e2a-819e-efcdbffc4a19"
      },
      "source": [
        "NY_inertia_labeled_data.columns"
      ],
      "execution_count": 64,
      "outputs": [
        {
          "output_type": "execute_result",
          "data": {
            "text/plain": [
              "Index(['Date', 'Province_State', 'FIPS', 'New cases', 'mask_rule_active',\n",
              "       'CTFIPS', 'CTNAME', 'STFIPS', 'Social distancing index',\n",
              "       '% staying home', 'Trips/person', '% out-of-county trips',\n",
              "       '% out-of-state trips', 'Miles/person', 'Work trips/person',\n",
              "       'Non-work trips/person', 'New COVID cases', 'Population',\n",
              "       '% change in consumption', 'date', 'Transit mode share',\n",
              "       '% people older than 60', 'Median income', '% African Americans',\n",
              "       '% Hispanic Americans', '% Male', 'Population density',\n",
              "       'Employment density', '# hot spots/1000 people',\n",
              "       'Hospital beds/1000 people', 'ICUs/1000 people',\n",
              "       '# contact tracing workers/1000 people',\n",
              "       '# contact tracing workers/1000 people rank',\n",
              "       '% people older than 60 rank', 'COVID exposure/1000 people',\n",
              "       'Unemployment claims/1000 people', 'Unemployment rate',\n",
              "       '% working from home', 'Cumulative inflation rate',\n",
              "       '% hospital bed utilization', 'Testing capacity',\n",
              "       'Tests done/1000 people', '% ICU utilization', 'Ventilator shortage',\n",
              "       'Confirmed', 'Deaths', 'New deaths', '#days: decreasing ILI cases',\n",
              "       'COVID death rate', 'New cases/1000 people', 'Active cases/1000 people',\n",
              "       '#days: decreasing COVID cases', 'Imported COVID cases',\n",
              "       'rolling_avg_new_cases', 'label', 'spread_category'],\n",
              "      dtype='object')"
            ]
          },
          "metadata": {
            "tags": []
          },
          "execution_count": 64
        }
      ]
    },
    {
      "cell_type": "code",
      "metadata": {
        "colab_type": "code",
        "id": "7f2tO1puayhH",
        "colab": {}
      },
      "source": [
        "X_cols = ['FIPS', 'New cases', 'mask_rule_active',\n",
        "       'CTFIPS', 'CTNAME', 'STFIPS', 'Social distancing index',\n",
        "       '% staying home', 'Trips/person', '% out-of-county trips',\n",
        "       '% out-of-state trips', 'Miles/person', 'Work trips/person',\n",
        "       'Non-work trips/person', 'New COVID cases', 'Population',\n",
        "       '% change in consumption', 'date', 'Transit mode share',\n",
        "       '% people older than 60', 'Median income', '% African Americans',\n",
        "       '% Hispanic Americans', '% Male', 'Population density',\n",
        "       'Employment density', '# hot spots/1000 people',\n",
        "       'Hospital beds/1000 people', 'ICUs/1000 people',\n",
        "       '# contact tracing workers/1000 people',\n",
        "       '# contact tracing workers/1000 people rank',\n",
        "       '% people older than 60 rank', 'COVID exposure/1000 people',\n",
        "       'Unemployment claims/1000 people', 'Unemployment rate',\n",
        "       '% working from home', 'Cumulative inflation rate',\n",
        "       '% hospital bed utilization', 'Testing capacity',\n",
        "       'Tests done/1000 people', '% ICU utilization', 'Ventilator shortage',\n",
        "       'Confirmed', 'Deaths', 'New deaths', '#days: decreasing ILI cases',\n",
        "       'COVID death rate', 'New cases/1000 people', 'Active cases/1000 people',\n",
        "       '#days: decreasing COVID cases', 'Imported COVID cases',\n",
        "       'rolling_avg_new_cases']"
      ],
      "execution_count": 65,
      "outputs": []
    },
    {
      "cell_type": "code",
      "metadata": {
        "colab_type": "code",
        "id": "FxSaTG6rayhJ",
        "colab": {}
      },
      "source": [
        "NY_inertia_labeled_data['Date'] =  pd.to_datetime(NY_inertia_labeled_data['Date'])"
      ],
      "execution_count": 66,
      "outputs": []
    },
    {
      "cell_type": "code",
      "metadata": {
        "colab_type": "code",
        "id": "ltZp80HVayhL",
        "colab": {
          "base_uri": "https://localhost:8080/",
          "height": 34
        },
        "outputId": "7879e3f5-6c99-4cf0-e6e9-909f5f9aaf8a"
      },
      "source": [
        "X = NY_inertia_labeled_data[X_cols]\n",
        "Y = NY_inertia_labeled_data[['spread_category']]\n",
        "Y.shape"
      ],
      "execution_count": 67,
      "outputs": [
        {
          "output_type": "execute_result",
          "data": {
            "text/plain": [
              "(12296, 1)"
            ]
          },
          "metadata": {
            "tags": []
          },
          "execution_count": 67
        }
      ]
    },
    {
      "cell_type": "code",
      "metadata": {
        "colab_type": "code",
        "id": "DcuNQS94ayhN",
        "colab": {
          "base_uri": "https://localhost:8080/",
          "height": 50
        },
        "outputId": "81d7f272-cd4a-4879-bcec-e94e147a96b6"
      },
      "source": [
        "X_train, X_test, Y_train, Y_test = train_test_split(X,Y, test_size = 0.10, random_state = 42)\n",
        "print(X_train.shape,Y_train.shape)\n",
        "print(X_test.shape,Y_test.shape)"
      ],
      "execution_count": 68,
      "outputs": [
        {
          "output_type": "stream",
          "text": [
            "(11066, 52) (11066, 1)\n",
            "(1230, 52) (1230, 1)\n"
          ],
          "name": "stdout"
        }
      ]
    },
    {
      "cell_type": "markdown",
      "metadata": {
        "colab_type": "text",
        "id": "_Z2kL9ngayhP"
      },
      "source": [
        "## LSTM"
      ]
    },
    {
      "cell_type": "code",
      "metadata": {
        "id": "mVVNrnWfZX_m",
        "colab_type": "code",
        "colab": {}
      },
      "source": [
        "seq_len=60\n",
        "model = Sequential()\n",
        "model.add(LSTM(256, input_shape=(seq_len, 4)))\n",
        "model.add(Dense(1, activation='sigmoid'))"
      ],
      "execution_count": null,
      "outputs": []
    },
    {
      "cell_type": "code",
      "metadata": {
        "colab_type": "code",
        "id": "E3Y-41DiayhS",
        "colab": {
          "base_uri": "https://localhost:8080/",
          "height": 639
        },
        "outputId": "5534b28b-2dc4-41ab-a33b-a0ae309a8bd5"
      },
      "source": [
        "adam = Adam(lr=0.001)\n",
        "chk = ModelCheckpoint('best_model.pkl', monitor='val_acc', save_best_only=True, mode='max', verbose=1)\n",
        "model.compile(loss='binary_crossentropy', optimizer=adam, metrics=['accuracy'])\n",
        "history=model.fit(X_train, Y_train, epochs=200, batch_size=128, callbacks=[chk], validation_data=(X_test, Y_test))"
      ],
      "execution_count": 70,
      "outputs": [
        {
          "output_type": "error",
          "ename": "ValueError",
          "evalue": "ignored",
          "traceback": [
            "\u001b[0;31m---------------------------------------------------------------------------\u001b[0m",
            "\u001b[0;31mTypeError\u001b[0m                                 Traceback (most recent call last)",
            "\u001b[0;32m/usr/local/lib/python3.6/dist-packages/tensorflow/python/data/util/structure.py\u001b[0m in \u001b[0;36mnormalize_element\u001b[0;34m(element)\u001b[0m\n\u001b[1;32m     92\u001b[0m       \u001b[0;32mtry\u001b[0m\u001b[0;34m:\u001b[0m\u001b[0;34m\u001b[0m\u001b[0;34m\u001b[0m\u001b[0m\n\u001b[0;32m---> 93\u001b[0;31m         \u001b[0mspec\u001b[0m \u001b[0;34m=\u001b[0m \u001b[0mtype_spec_from_value\u001b[0m\u001b[0;34m(\u001b[0m\u001b[0mt\u001b[0m\u001b[0;34m,\u001b[0m \u001b[0muse_fallback\u001b[0m\u001b[0;34m=\u001b[0m\u001b[0;32mFalse\u001b[0m\u001b[0;34m)\u001b[0m\u001b[0;34m\u001b[0m\u001b[0;34m\u001b[0m\u001b[0m\n\u001b[0m\u001b[1;32m     94\u001b[0m       \u001b[0;32mexcept\u001b[0m \u001b[0mTypeError\u001b[0m\u001b[0;34m:\u001b[0m\u001b[0;34m\u001b[0m\u001b[0;34m\u001b[0m\u001b[0m\n",
            "\u001b[0;32m/usr/local/lib/python3.6/dist-packages/tensorflow/python/data/util/structure.py\u001b[0m in \u001b[0;36mtype_spec_from_value\u001b[0;34m(element, use_fallback)\u001b[0m\n\u001b[1;32m    465\u001b[0m   raise TypeError(\"Could not build a TypeSpec for %r with type %s\" %\n\u001b[0;32m--> 466\u001b[0;31m                   (element, type(element).__name__))\n\u001b[0m\u001b[1;32m    467\u001b[0m \u001b[0;34m\u001b[0m\u001b[0m\n",
            "\u001b[0;31mTypeError\u001b[0m: Could not build a TypeSpec for         FIPS  New cases  ...  Imported COVID cases  rolling_avg_new_cases\n10219  36065          8  ...              117.0000                11.0000\n11875  36113          0  ...              100.0000                 1.1429\n41     36071          0  ...                0.0000                 0.0000\n5202   36099          0  ...              402.0000                 0.2857\n11254  36021          1  ...               53.0000                 2.8571\n...      ...        ...  ...                   ...                    ...\n11964  36065          6  ...              145.0000                 7.5714\n5191   36091          3  ...             1701.0000                 7.5714\n5390   36021          3  ...              492.0000                 3.2857\n860    36095          0  ...                0.0000                 0.0000\n7270   36007          3  ...              282.0000                13.2857\n\n[11066 rows x 52 columns] with type DataFrame",
            "\nDuring handling of the above exception, another exception occurred:\n",
            "\u001b[0;31mValueError\u001b[0m                                Traceback (most recent call last)",
            "\u001b[0;32m<ipython-input-70-bf46faf10ee4>\u001b[0m in \u001b[0;36m<module>\u001b[0;34m()\u001b[0m\n\u001b[1;32m      2\u001b[0m \u001b[0mchk\u001b[0m \u001b[0;34m=\u001b[0m \u001b[0mModelCheckpoint\u001b[0m\u001b[0;34m(\u001b[0m\u001b[0;34m'best_model.pkl'\u001b[0m\u001b[0;34m,\u001b[0m \u001b[0mmonitor\u001b[0m\u001b[0;34m=\u001b[0m\u001b[0;34m'val_acc'\u001b[0m\u001b[0;34m,\u001b[0m \u001b[0msave_best_only\u001b[0m\u001b[0;34m=\u001b[0m\u001b[0;32mTrue\u001b[0m\u001b[0;34m,\u001b[0m \u001b[0mmode\u001b[0m\u001b[0;34m=\u001b[0m\u001b[0;34m'max'\u001b[0m\u001b[0;34m,\u001b[0m \u001b[0mverbose\u001b[0m\u001b[0;34m=\u001b[0m\u001b[0;36m1\u001b[0m\u001b[0;34m)\u001b[0m\u001b[0;34m\u001b[0m\u001b[0;34m\u001b[0m\u001b[0m\n\u001b[1;32m      3\u001b[0m \u001b[0mmodel\u001b[0m\u001b[0;34m.\u001b[0m\u001b[0mcompile\u001b[0m\u001b[0;34m(\u001b[0m\u001b[0mloss\u001b[0m\u001b[0;34m=\u001b[0m\u001b[0;34m'binary_crossentropy'\u001b[0m\u001b[0;34m,\u001b[0m \u001b[0moptimizer\u001b[0m\u001b[0;34m=\u001b[0m\u001b[0madam\u001b[0m\u001b[0;34m,\u001b[0m \u001b[0mmetrics\u001b[0m\u001b[0;34m=\u001b[0m\u001b[0;34m[\u001b[0m\u001b[0;34m'accuracy'\u001b[0m\u001b[0;34m]\u001b[0m\u001b[0;34m)\u001b[0m\u001b[0;34m\u001b[0m\u001b[0;34m\u001b[0m\u001b[0m\n\u001b[0;32m----> 4\u001b[0;31m \u001b[0mhistory\u001b[0m\u001b[0;34m=\u001b[0m\u001b[0mmodel\u001b[0m\u001b[0;34m.\u001b[0m\u001b[0mfit\u001b[0m\u001b[0;34m(\u001b[0m\u001b[0mX_train\u001b[0m\u001b[0;34m,\u001b[0m \u001b[0mY_train\u001b[0m\u001b[0;34m,\u001b[0m \u001b[0mepochs\u001b[0m\u001b[0;34m=\u001b[0m\u001b[0;36m200\u001b[0m\u001b[0;34m,\u001b[0m \u001b[0mbatch_size\u001b[0m\u001b[0;34m=\u001b[0m\u001b[0;36m128\u001b[0m\u001b[0;34m,\u001b[0m \u001b[0mcallbacks\u001b[0m\u001b[0;34m=\u001b[0m\u001b[0;34m[\u001b[0m\u001b[0mchk\u001b[0m\u001b[0;34m]\u001b[0m\u001b[0;34m,\u001b[0m \u001b[0mvalidation_data\u001b[0m\u001b[0;34m=\u001b[0m\u001b[0;34m(\u001b[0m\u001b[0mX_test\u001b[0m\u001b[0;34m,\u001b[0m \u001b[0mY_test\u001b[0m\u001b[0;34m)\u001b[0m\u001b[0;34m)\u001b[0m\u001b[0;34m\u001b[0m\u001b[0;34m\u001b[0m\u001b[0m\n\u001b[0m",
            "\u001b[0;32m/usr/local/lib/python3.6/dist-packages/tensorflow/python/keras/engine/training.py\u001b[0m in \u001b[0;36m_method_wrapper\u001b[0;34m(self, *args, **kwargs)\u001b[0m\n\u001b[1;32m    106\u001b[0m   \u001b[0;32mdef\u001b[0m \u001b[0m_method_wrapper\u001b[0m\u001b[0;34m(\u001b[0m\u001b[0mself\u001b[0m\u001b[0;34m,\u001b[0m \u001b[0;34m*\u001b[0m\u001b[0margs\u001b[0m\u001b[0;34m,\u001b[0m \u001b[0;34m**\u001b[0m\u001b[0mkwargs\u001b[0m\u001b[0;34m)\u001b[0m\u001b[0;34m:\u001b[0m\u001b[0;34m\u001b[0m\u001b[0;34m\u001b[0m\u001b[0m\n\u001b[1;32m    107\u001b[0m     \u001b[0;32mif\u001b[0m \u001b[0;32mnot\u001b[0m \u001b[0mself\u001b[0m\u001b[0;34m.\u001b[0m\u001b[0m_in_multi_worker_mode\u001b[0m\u001b[0;34m(\u001b[0m\u001b[0;34m)\u001b[0m\u001b[0;34m:\u001b[0m  \u001b[0;31m# pylint: disable=protected-access\u001b[0m\u001b[0;34m\u001b[0m\u001b[0;34m\u001b[0m\u001b[0m\n\u001b[0;32m--> 108\u001b[0;31m       \u001b[0;32mreturn\u001b[0m \u001b[0mmethod\u001b[0m\u001b[0;34m(\u001b[0m\u001b[0mself\u001b[0m\u001b[0;34m,\u001b[0m \u001b[0;34m*\u001b[0m\u001b[0margs\u001b[0m\u001b[0;34m,\u001b[0m \u001b[0;34m**\u001b[0m\u001b[0mkwargs\u001b[0m\u001b[0;34m)\u001b[0m\u001b[0;34m\u001b[0m\u001b[0;34m\u001b[0m\u001b[0m\n\u001b[0m\u001b[1;32m    109\u001b[0m \u001b[0;34m\u001b[0m\u001b[0m\n\u001b[1;32m    110\u001b[0m     \u001b[0;31m# Running inside `run_distribute_coordinator` already.\u001b[0m\u001b[0;34m\u001b[0m\u001b[0;34m\u001b[0m\u001b[0;34m\u001b[0m\u001b[0m\n",
            "\u001b[0;32m/usr/local/lib/python3.6/dist-packages/tensorflow/python/keras/engine/training.py\u001b[0m in \u001b[0;36mfit\u001b[0;34m(self, x, y, batch_size, epochs, verbose, callbacks, validation_split, validation_data, shuffle, class_weight, sample_weight, initial_epoch, steps_per_epoch, validation_steps, validation_batch_size, validation_freq, max_queue_size, workers, use_multiprocessing)\u001b[0m\n\u001b[1;32m   1061\u001b[0m           \u001b[0muse_multiprocessing\u001b[0m\u001b[0;34m=\u001b[0m\u001b[0muse_multiprocessing\u001b[0m\u001b[0;34m,\u001b[0m\u001b[0;34m\u001b[0m\u001b[0;34m\u001b[0m\u001b[0m\n\u001b[1;32m   1062\u001b[0m           \u001b[0mmodel\u001b[0m\u001b[0;34m=\u001b[0m\u001b[0mself\u001b[0m\u001b[0;34m,\u001b[0m\u001b[0;34m\u001b[0m\u001b[0;34m\u001b[0m\u001b[0m\n\u001b[0;32m-> 1063\u001b[0;31m           steps_per_execution=self._steps_per_execution)\n\u001b[0m\u001b[1;32m   1064\u001b[0m \u001b[0;34m\u001b[0m\u001b[0m\n\u001b[1;32m   1065\u001b[0m       \u001b[0;31m# Container that configures and calls `tf.keras.Callback`s.\u001b[0m\u001b[0;34m\u001b[0m\u001b[0;34m\u001b[0m\u001b[0;34m\u001b[0m\u001b[0m\n",
            "\u001b[0;32m/usr/local/lib/python3.6/dist-packages/tensorflow/python/keras/engine/data_adapter.py\u001b[0m in \u001b[0;36m__init__\u001b[0;34m(self, x, y, sample_weight, batch_size, steps_per_epoch, initial_epoch, epochs, shuffle, class_weight, max_queue_size, workers, use_multiprocessing, model, steps_per_execution)\u001b[0m\n\u001b[1;32m   1115\u001b[0m         \u001b[0muse_multiprocessing\u001b[0m\u001b[0;34m=\u001b[0m\u001b[0muse_multiprocessing\u001b[0m\u001b[0;34m,\u001b[0m\u001b[0;34m\u001b[0m\u001b[0;34m\u001b[0m\u001b[0m\n\u001b[1;32m   1116\u001b[0m         \u001b[0mdistribution_strategy\u001b[0m\u001b[0;34m=\u001b[0m\u001b[0mds_context\u001b[0m\u001b[0;34m.\u001b[0m\u001b[0mget_strategy\u001b[0m\u001b[0;34m(\u001b[0m\u001b[0;34m)\u001b[0m\u001b[0;34m,\u001b[0m\u001b[0;34m\u001b[0m\u001b[0;34m\u001b[0m\u001b[0m\n\u001b[0;32m-> 1117\u001b[0;31m         model=model)\n\u001b[0m\u001b[1;32m   1118\u001b[0m \u001b[0;34m\u001b[0m\u001b[0m\n\u001b[1;32m   1119\u001b[0m     \u001b[0mstrategy\u001b[0m \u001b[0;34m=\u001b[0m \u001b[0mds_context\u001b[0m\u001b[0;34m.\u001b[0m\u001b[0mget_strategy\u001b[0m\u001b[0;34m(\u001b[0m\u001b[0;34m)\u001b[0m\u001b[0;34m\u001b[0m\u001b[0;34m\u001b[0m\u001b[0m\n",
            "\u001b[0;32m/usr/local/lib/python3.6/dist-packages/tensorflow/python/keras/engine/data_adapter.py\u001b[0m in \u001b[0;36m__init__\u001b[0;34m(self, x, y, sample_weights, sample_weight_modes, batch_size, epochs, steps, shuffle, **kwargs)\u001b[0m\n\u001b[1;32m    362\u001b[0m     \u001b[0mindices_dataset\u001b[0m \u001b[0;34m=\u001b[0m \u001b[0mindices_dataset\u001b[0m\u001b[0;34m.\u001b[0m\u001b[0mflat_map\u001b[0m\u001b[0;34m(\u001b[0m\u001b[0mslice_batch_indices\u001b[0m\u001b[0;34m)\u001b[0m\u001b[0;34m\u001b[0m\u001b[0;34m\u001b[0m\u001b[0m\n\u001b[1;32m    363\u001b[0m \u001b[0;34m\u001b[0m\u001b[0m\n\u001b[0;32m--> 364\u001b[0;31m     \u001b[0mdataset\u001b[0m \u001b[0;34m=\u001b[0m \u001b[0mself\u001b[0m\u001b[0;34m.\u001b[0m\u001b[0mslice_inputs\u001b[0m\u001b[0;34m(\u001b[0m\u001b[0mindices_dataset\u001b[0m\u001b[0;34m,\u001b[0m \u001b[0minputs\u001b[0m\u001b[0;34m)\u001b[0m\u001b[0;34m\u001b[0m\u001b[0;34m\u001b[0m\u001b[0m\n\u001b[0m\u001b[1;32m    365\u001b[0m \u001b[0;34m\u001b[0m\u001b[0m\n\u001b[1;32m    366\u001b[0m     \u001b[0;32mif\u001b[0m \u001b[0mshuffle\u001b[0m \u001b[0;34m==\u001b[0m \u001b[0;34m\"batch\"\u001b[0m\u001b[0;34m:\u001b[0m\u001b[0;34m\u001b[0m\u001b[0;34m\u001b[0m\u001b[0m\n",
            "\u001b[0;32m/usr/local/lib/python3.6/dist-packages/tensorflow/python/keras/engine/data_adapter.py\u001b[0m in \u001b[0;36mslice_inputs\u001b[0;34m(self, indices_dataset, inputs)\u001b[0m\n\u001b[1;32m    388\u001b[0m     dataset = dataset_ops.DatasetV2.zip((\n\u001b[1;32m    389\u001b[0m         \u001b[0mindices_dataset\u001b[0m\u001b[0;34m,\u001b[0m\u001b[0;34m\u001b[0m\u001b[0;34m\u001b[0m\u001b[0m\n\u001b[0;32m--> 390\u001b[0;31m         \u001b[0mdataset_ops\u001b[0m\u001b[0;34m.\u001b[0m\u001b[0mDatasetV2\u001b[0m\u001b[0;34m.\u001b[0m\u001b[0mfrom_tensors\u001b[0m\u001b[0;34m(\u001b[0m\u001b[0minputs\u001b[0m\u001b[0;34m)\u001b[0m\u001b[0;34m.\u001b[0m\u001b[0mrepeat\u001b[0m\u001b[0;34m(\u001b[0m\u001b[0;34m)\u001b[0m\u001b[0;34m\u001b[0m\u001b[0;34m\u001b[0m\u001b[0m\n\u001b[0m\u001b[1;32m    391\u001b[0m     ))\n\u001b[1;32m    392\u001b[0m \u001b[0;34m\u001b[0m\u001b[0m\n",
            "\u001b[0;32m/usr/local/lib/python3.6/dist-packages/tensorflow/python/data/ops/dataset_ops.py\u001b[0m in \u001b[0;36mfrom_tensors\u001b[0;34m(tensors)\u001b[0m\n\u001b[1;32m    602\u001b[0m       \u001b[0mDataset\u001b[0m\u001b[0;34m:\u001b[0m \u001b[0mA\u001b[0m\u001b[0;31m \u001b[0m\u001b[0;31m`\u001b[0m\u001b[0mDataset\u001b[0m\u001b[0;31m`\u001b[0m\u001b[0;34m.\u001b[0m\u001b[0;34m\u001b[0m\u001b[0;34m\u001b[0m\u001b[0m\n\u001b[1;32m    603\u001b[0m     \"\"\"\n\u001b[0;32m--> 604\u001b[0;31m     \u001b[0;32mreturn\u001b[0m \u001b[0mTensorDataset\u001b[0m\u001b[0;34m(\u001b[0m\u001b[0mtensors\u001b[0m\u001b[0;34m)\u001b[0m\u001b[0;34m\u001b[0m\u001b[0;34m\u001b[0m\u001b[0m\n\u001b[0m\u001b[1;32m    605\u001b[0m \u001b[0;34m\u001b[0m\u001b[0m\n\u001b[1;32m    606\u001b[0m   \u001b[0;34m@\u001b[0m\u001b[0mstaticmethod\u001b[0m\u001b[0;34m\u001b[0m\u001b[0;34m\u001b[0m\u001b[0m\n",
            "\u001b[0;32m/usr/local/lib/python3.6/dist-packages/tensorflow/python/data/ops/dataset_ops.py\u001b[0m in \u001b[0;36m__init__\u001b[0;34m(self, element)\u001b[0m\n\u001b[1;32m   2980\u001b[0m   \u001b[0;32mdef\u001b[0m \u001b[0m__init__\u001b[0m\u001b[0;34m(\u001b[0m\u001b[0mself\u001b[0m\u001b[0;34m,\u001b[0m \u001b[0melement\u001b[0m\u001b[0;34m)\u001b[0m\u001b[0;34m:\u001b[0m\u001b[0;34m\u001b[0m\u001b[0;34m\u001b[0m\u001b[0m\n\u001b[1;32m   2981\u001b[0m     \u001b[0;34m\"\"\"See `Dataset.from_tensors()` for details.\"\"\"\u001b[0m\u001b[0;34m\u001b[0m\u001b[0;34m\u001b[0m\u001b[0m\n\u001b[0;32m-> 2982\u001b[0;31m     \u001b[0melement\u001b[0m \u001b[0;34m=\u001b[0m \u001b[0mstructure\u001b[0m\u001b[0;34m.\u001b[0m\u001b[0mnormalize_element\u001b[0m\u001b[0;34m(\u001b[0m\u001b[0melement\u001b[0m\u001b[0;34m)\u001b[0m\u001b[0;34m\u001b[0m\u001b[0;34m\u001b[0m\u001b[0m\n\u001b[0m\u001b[1;32m   2983\u001b[0m     \u001b[0mself\u001b[0m\u001b[0;34m.\u001b[0m\u001b[0m_structure\u001b[0m \u001b[0;34m=\u001b[0m \u001b[0mstructure\u001b[0m\u001b[0;34m.\u001b[0m\u001b[0mtype_spec_from_value\u001b[0m\u001b[0;34m(\u001b[0m\u001b[0melement\u001b[0m\u001b[0;34m)\u001b[0m\u001b[0;34m\u001b[0m\u001b[0;34m\u001b[0m\u001b[0m\n\u001b[1;32m   2984\u001b[0m     \u001b[0mself\u001b[0m\u001b[0;34m.\u001b[0m\u001b[0m_tensors\u001b[0m \u001b[0;34m=\u001b[0m \u001b[0mstructure\u001b[0m\u001b[0;34m.\u001b[0m\u001b[0mto_tensor_list\u001b[0m\u001b[0;34m(\u001b[0m\u001b[0mself\u001b[0m\u001b[0;34m.\u001b[0m\u001b[0m_structure\u001b[0m\u001b[0;34m,\u001b[0m \u001b[0melement\u001b[0m\u001b[0;34m)\u001b[0m\u001b[0;34m\u001b[0m\u001b[0;34m\u001b[0m\u001b[0m\n",
            "\u001b[0;32m/usr/local/lib/python3.6/dist-packages/tensorflow/python/data/util/structure.py\u001b[0m in \u001b[0;36mnormalize_element\u001b[0;34m(element)\u001b[0m\n\u001b[1;32m     96\u001b[0m         \u001b[0;31m# the value. As a fallback try converting the value to a tensor.\u001b[0m\u001b[0;34m\u001b[0m\u001b[0;34m\u001b[0m\u001b[0;34m\u001b[0m\u001b[0m\n\u001b[1;32m     97\u001b[0m         normalized_components.append(\n\u001b[0;32m---> 98\u001b[0;31m             ops.convert_to_tensor(t, name=\"component_%d\" % i))\n\u001b[0m\u001b[1;32m     99\u001b[0m       \u001b[0;32melse\u001b[0m\u001b[0;34m:\u001b[0m\u001b[0;34m\u001b[0m\u001b[0;34m\u001b[0m\u001b[0m\n\u001b[1;32m    100\u001b[0m         \u001b[0;32mif\u001b[0m \u001b[0misinstance\u001b[0m\u001b[0;34m(\u001b[0m\u001b[0mspec\u001b[0m\u001b[0;34m,\u001b[0m \u001b[0msparse_tensor\u001b[0m\u001b[0;34m.\u001b[0m\u001b[0mSparseTensorSpec\u001b[0m\u001b[0;34m)\u001b[0m\u001b[0;34m:\u001b[0m\u001b[0;34m\u001b[0m\u001b[0;34m\u001b[0m\u001b[0m\n",
            "\u001b[0;32m/usr/local/lib/python3.6/dist-packages/tensorflow/python/framework/ops.py\u001b[0m in \u001b[0;36mconvert_to_tensor\u001b[0;34m(value, dtype, name, as_ref, preferred_dtype, dtype_hint, ctx, accepted_result_types)\u001b[0m\n\u001b[1;32m   1497\u001b[0m \u001b[0;34m\u001b[0m\u001b[0m\n\u001b[1;32m   1498\u001b[0m     \u001b[0;32mif\u001b[0m \u001b[0mret\u001b[0m \u001b[0;32mis\u001b[0m \u001b[0;32mNone\u001b[0m\u001b[0;34m:\u001b[0m\u001b[0;34m\u001b[0m\u001b[0;34m\u001b[0m\u001b[0m\n\u001b[0;32m-> 1499\u001b[0;31m       \u001b[0mret\u001b[0m \u001b[0;34m=\u001b[0m \u001b[0mconversion_func\u001b[0m\u001b[0;34m(\u001b[0m\u001b[0mvalue\u001b[0m\u001b[0;34m,\u001b[0m \u001b[0mdtype\u001b[0m\u001b[0;34m=\u001b[0m\u001b[0mdtype\u001b[0m\u001b[0;34m,\u001b[0m \u001b[0mname\u001b[0m\u001b[0;34m=\u001b[0m\u001b[0mname\u001b[0m\u001b[0;34m,\u001b[0m \u001b[0mas_ref\u001b[0m\u001b[0;34m=\u001b[0m\u001b[0mas_ref\u001b[0m\u001b[0;34m)\u001b[0m\u001b[0;34m\u001b[0m\u001b[0;34m\u001b[0m\u001b[0m\n\u001b[0m\u001b[1;32m   1500\u001b[0m \u001b[0;34m\u001b[0m\u001b[0m\n\u001b[1;32m   1501\u001b[0m     \u001b[0;32mif\u001b[0m \u001b[0mret\u001b[0m \u001b[0;32mis\u001b[0m \u001b[0mNotImplemented\u001b[0m\u001b[0;34m:\u001b[0m\u001b[0;34m\u001b[0m\u001b[0;34m\u001b[0m\u001b[0m\n",
            "\u001b[0;32m/usr/local/lib/python3.6/dist-packages/tensorflow/python/framework/constant_op.py\u001b[0m in \u001b[0;36m_constant_tensor_conversion_function\u001b[0;34m(v, dtype, name, as_ref)\u001b[0m\n\u001b[1;32m    336\u001b[0m                                          as_ref=False):\n\u001b[1;32m    337\u001b[0m   \u001b[0m_\u001b[0m \u001b[0;34m=\u001b[0m \u001b[0mas_ref\u001b[0m\u001b[0;34m\u001b[0m\u001b[0;34m\u001b[0m\u001b[0m\n\u001b[0;32m--> 338\u001b[0;31m   \u001b[0;32mreturn\u001b[0m \u001b[0mconstant\u001b[0m\u001b[0;34m(\u001b[0m\u001b[0mv\u001b[0m\u001b[0;34m,\u001b[0m \u001b[0mdtype\u001b[0m\u001b[0;34m=\u001b[0m\u001b[0mdtype\u001b[0m\u001b[0;34m,\u001b[0m \u001b[0mname\u001b[0m\u001b[0;34m=\u001b[0m\u001b[0mname\u001b[0m\u001b[0;34m)\u001b[0m\u001b[0;34m\u001b[0m\u001b[0;34m\u001b[0m\u001b[0m\n\u001b[0m\u001b[1;32m    339\u001b[0m \u001b[0;34m\u001b[0m\u001b[0m\n\u001b[1;32m    340\u001b[0m \u001b[0;34m\u001b[0m\u001b[0m\n",
            "\u001b[0;32m/usr/local/lib/python3.6/dist-packages/tensorflow/python/framework/constant_op.py\u001b[0m in \u001b[0;36mconstant\u001b[0;34m(value, dtype, shape, name)\u001b[0m\n\u001b[1;32m    262\u001b[0m   \"\"\"\n\u001b[1;32m    263\u001b[0m   return _constant_impl(value, dtype, shape, name, verify_shape=False,\n\u001b[0;32m--> 264\u001b[0;31m                         allow_broadcast=True)\n\u001b[0m\u001b[1;32m    265\u001b[0m \u001b[0;34m\u001b[0m\u001b[0m\n\u001b[1;32m    266\u001b[0m \u001b[0;34m\u001b[0m\u001b[0m\n",
            "\u001b[0;32m/usr/local/lib/python3.6/dist-packages/tensorflow/python/framework/constant_op.py\u001b[0m in \u001b[0;36m_constant_impl\u001b[0;34m(value, dtype, shape, name, verify_shape, allow_broadcast)\u001b[0m\n\u001b[1;32m    273\u001b[0m       \u001b[0;32mwith\u001b[0m \u001b[0mtrace\u001b[0m\u001b[0;34m.\u001b[0m\u001b[0mTrace\u001b[0m\u001b[0;34m(\u001b[0m\u001b[0;34m\"tf.constant\"\u001b[0m\u001b[0;34m)\u001b[0m\u001b[0;34m:\u001b[0m\u001b[0;34m\u001b[0m\u001b[0;34m\u001b[0m\u001b[0m\n\u001b[1;32m    274\u001b[0m         \u001b[0;32mreturn\u001b[0m \u001b[0m_constant_eager_impl\u001b[0m\u001b[0;34m(\u001b[0m\u001b[0mctx\u001b[0m\u001b[0;34m,\u001b[0m \u001b[0mvalue\u001b[0m\u001b[0;34m,\u001b[0m \u001b[0mdtype\u001b[0m\u001b[0;34m,\u001b[0m \u001b[0mshape\u001b[0m\u001b[0;34m,\u001b[0m \u001b[0mverify_shape\u001b[0m\u001b[0;34m)\u001b[0m\u001b[0;34m\u001b[0m\u001b[0;34m\u001b[0m\u001b[0m\n\u001b[0;32m--> 275\u001b[0;31m     \u001b[0;32mreturn\u001b[0m \u001b[0m_constant_eager_impl\u001b[0m\u001b[0;34m(\u001b[0m\u001b[0mctx\u001b[0m\u001b[0;34m,\u001b[0m \u001b[0mvalue\u001b[0m\u001b[0;34m,\u001b[0m \u001b[0mdtype\u001b[0m\u001b[0;34m,\u001b[0m \u001b[0mshape\u001b[0m\u001b[0;34m,\u001b[0m \u001b[0mverify_shape\u001b[0m\u001b[0;34m)\u001b[0m\u001b[0;34m\u001b[0m\u001b[0;34m\u001b[0m\u001b[0m\n\u001b[0m\u001b[1;32m    276\u001b[0m \u001b[0;34m\u001b[0m\u001b[0m\n\u001b[1;32m    277\u001b[0m   \u001b[0mg\u001b[0m \u001b[0;34m=\u001b[0m \u001b[0mops\u001b[0m\u001b[0;34m.\u001b[0m\u001b[0mget_default_graph\u001b[0m\u001b[0;34m(\u001b[0m\u001b[0;34m)\u001b[0m\u001b[0;34m\u001b[0m\u001b[0;34m\u001b[0m\u001b[0m\n",
            "\u001b[0;32m/usr/local/lib/python3.6/dist-packages/tensorflow/python/framework/constant_op.py\u001b[0m in \u001b[0;36m_constant_eager_impl\u001b[0;34m(ctx, value, dtype, shape, verify_shape)\u001b[0m\n\u001b[1;32m    298\u001b[0m \u001b[0;32mdef\u001b[0m \u001b[0m_constant_eager_impl\u001b[0m\u001b[0;34m(\u001b[0m\u001b[0mctx\u001b[0m\u001b[0;34m,\u001b[0m \u001b[0mvalue\u001b[0m\u001b[0;34m,\u001b[0m \u001b[0mdtype\u001b[0m\u001b[0;34m,\u001b[0m \u001b[0mshape\u001b[0m\u001b[0;34m,\u001b[0m \u001b[0mverify_shape\u001b[0m\u001b[0;34m)\u001b[0m\u001b[0;34m:\u001b[0m\u001b[0;34m\u001b[0m\u001b[0;34m\u001b[0m\u001b[0m\n\u001b[1;32m    299\u001b[0m   \u001b[0;34m\"\"\"Implementation of eager constant.\"\"\"\u001b[0m\u001b[0;34m\u001b[0m\u001b[0;34m\u001b[0m\u001b[0m\n\u001b[0;32m--> 300\u001b[0;31m   \u001b[0mt\u001b[0m \u001b[0;34m=\u001b[0m \u001b[0mconvert_to_eager_tensor\u001b[0m\u001b[0;34m(\u001b[0m\u001b[0mvalue\u001b[0m\u001b[0;34m,\u001b[0m \u001b[0mctx\u001b[0m\u001b[0;34m,\u001b[0m \u001b[0mdtype\u001b[0m\u001b[0;34m)\u001b[0m\u001b[0;34m\u001b[0m\u001b[0;34m\u001b[0m\u001b[0m\n\u001b[0m\u001b[1;32m    301\u001b[0m   \u001b[0;32mif\u001b[0m \u001b[0mshape\u001b[0m \u001b[0;32mis\u001b[0m \u001b[0;32mNone\u001b[0m\u001b[0;34m:\u001b[0m\u001b[0;34m\u001b[0m\u001b[0;34m\u001b[0m\u001b[0m\n\u001b[1;32m    302\u001b[0m     \u001b[0;32mreturn\u001b[0m \u001b[0mt\u001b[0m\u001b[0;34m\u001b[0m\u001b[0;34m\u001b[0m\u001b[0m\n",
            "\u001b[0;32m/usr/local/lib/python3.6/dist-packages/tensorflow/python/framework/constant_op.py\u001b[0m in \u001b[0;36mconvert_to_eager_tensor\u001b[0;34m(value, ctx, dtype)\u001b[0m\n\u001b[1;32m     96\u001b[0m       \u001b[0mdtype\u001b[0m \u001b[0;34m=\u001b[0m \u001b[0mdtypes\u001b[0m\u001b[0;34m.\u001b[0m\u001b[0mas_dtype\u001b[0m\u001b[0;34m(\u001b[0m\u001b[0mdtype\u001b[0m\u001b[0;34m)\u001b[0m\u001b[0;34m.\u001b[0m\u001b[0mas_datatype_enum\u001b[0m\u001b[0;34m\u001b[0m\u001b[0;34m\u001b[0m\u001b[0m\n\u001b[1;32m     97\u001b[0m   \u001b[0mctx\u001b[0m\u001b[0;34m.\u001b[0m\u001b[0mensure_initialized\u001b[0m\u001b[0;34m(\u001b[0m\u001b[0;34m)\u001b[0m\u001b[0;34m\u001b[0m\u001b[0;34m\u001b[0m\u001b[0m\n\u001b[0;32m---> 98\u001b[0;31m   \u001b[0;32mreturn\u001b[0m \u001b[0mops\u001b[0m\u001b[0;34m.\u001b[0m\u001b[0mEagerTensor\u001b[0m\u001b[0;34m(\u001b[0m\u001b[0mvalue\u001b[0m\u001b[0;34m,\u001b[0m \u001b[0mctx\u001b[0m\u001b[0;34m.\u001b[0m\u001b[0mdevice_name\u001b[0m\u001b[0;34m,\u001b[0m \u001b[0mdtype\u001b[0m\u001b[0;34m)\u001b[0m\u001b[0;34m\u001b[0m\u001b[0;34m\u001b[0m\u001b[0m\n\u001b[0m\u001b[1;32m     99\u001b[0m \u001b[0;34m\u001b[0m\u001b[0m\n\u001b[1;32m    100\u001b[0m \u001b[0;34m\u001b[0m\u001b[0m\n",
            "\u001b[0;31mValueError\u001b[0m: Failed to convert a NumPy array to a Tensor (Unsupported object type int)."
          ]
        }
      ]
    },
    {
      "cell_type": "markdown",
      "metadata": {
        "colab_type": "text",
        "id": "VHvK46cZayhU"
      },
      "source": [
        "## Accuracy"
      ]
    },
    {
      "cell_type": "code",
      "metadata": {
        "colab_type": "code",
        "id": "BRgfACzxayhU",
        "colab": {
          "base_uri": "https://localhost:8080/",
          "height": 84
        },
        "outputId": "89a482d3-370b-4d1e-e670-5f79374155ec"
      },
      "source": [
        "accr = model.evaluate(X_test,Y_test)\n",
        "print('Test set\\n  Loss: {:0.3f}\\n  Accuracy: {:0.3f}'.format(accr[0],accr[1]))"
      ],
      "execution_count": null,
      "outputs": [
        {
          "output_type": "stream",
          "text": [
            "31/31 [==============================] - 0s 979us/step - loss: 8.5572 - accuracy: 0.9020\n",
            "Test set\n",
            "  Loss: 8.557\n",
            "  Accuracy: 0.902\n"
          ],
          "name": "stdout"
        }
      ]
    },
    {
      "cell_type": "markdown",
      "metadata": {
        "colab_type": "text",
        "id": "CqsEiu2_ayhW"
      },
      "source": [
        "## Plot Loss and Accuracy"
      ]
    },
    {
      "cell_type": "code",
      "metadata": {
        "colab_type": "code",
        "id": "tPDcx3KKayhX",
        "colab": {
          "base_uri": "https://localhost:8080/",
          "height": 283
        },
        "outputId": "4e530b00-eca3-4e41-e501-7bb9b37c7449"
      },
      "source": [
        "plt.title('Loss')\n",
        "plt.plot(history.history['loss'], label='train')\n",
        "plt.plot(history.history['val_loss'], label='test')\n",
        "plt.legend()\n",
        "plt.show();"
      ],
      "execution_count": null,
      "outputs": [
        {
          "output_type": "display_data",
          "data": {
            "image/png": "[encoded data removed]",
            "text/plain": [
              "<Figure size 432x288 with 1 Axes>"
            ]
          },
          "metadata": {
            "tags": [],
            "needs_background": "light"
          }
        }
      ]
    },
    {
      "cell_type": "code",
      "metadata": {
        "colab_type": "code",
        "id": "lqrr3kJMayhZ",
        "colab": {
          "base_uri": "https://localhost:8080/",
          "height": 495
        },
        "outputId": "b234cbcf-5f12-40c2-bf2d-ff979c307af7"
      },
      "source": [
        "plt.title('Accuracy')\n",
        "plt.plot(history.history['acc'], label='train')\n",
        "plt.plot(history.history['val_acc'], label='test')\n",
        "plt.legend()\n",
        "plt.show();"
      ],
      "execution_count": null,
      "outputs": [
        {
          "output_type": "error",
          "ename": "KeyError",
          "evalue": "ignored",
          "traceback": [
            "\u001b[0;31m---------------------------------------------------------------------------\u001b[0m",
            "\u001b[0;31mKeyError\u001b[0m                                  Traceback (most recent call last)",
            "\u001b[0;32m<ipython-input-59-652c9934bc45>\u001b[0m in \u001b[0;36m<module>\u001b[0;34m()\u001b[0m\n\u001b[1;32m      1\u001b[0m \u001b[0mplt\u001b[0m\u001b[0;34m.\u001b[0m\u001b[0mtitle\u001b[0m\u001b[0;34m(\u001b[0m\u001b[0;34m'Accuracy'\u001b[0m\u001b[0;34m)\u001b[0m\u001b[0;34m\u001b[0m\u001b[0;34m\u001b[0m\u001b[0m\n\u001b[0;32m----> 2\u001b[0;31m \u001b[0mplt\u001b[0m\u001b[0;34m.\u001b[0m\u001b[0mplot\u001b[0m\u001b[0;34m(\u001b[0m\u001b[0mhistory\u001b[0m\u001b[0;34m.\u001b[0m\u001b[0mhistory\u001b[0m\u001b[0;34m[\u001b[0m\u001b[0;34m'acc'\u001b[0m\u001b[0;34m]\u001b[0m\u001b[0;34m,\u001b[0m \u001b[0mlabel\u001b[0m\u001b[0;34m=\u001b[0m\u001b[0;34m'train'\u001b[0m\u001b[0;34m)\u001b[0m\u001b[0;34m\u001b[0m\u001b[0;34m\u001b[0m\u001b[0m\n\u001b[0m\u001b[1;32m      3\u001b[0m \u001b[0mplt\u001b[0m\u001b[0;34m.\u001b[0m\u001b[0mplot\u001b[0m\u001b[0;34m(\u001b[0m\u001b[0mhistory\u001b[0m\u001b[0;34m.\u001b[0m\u001b[0mhistory\u001b[0m\u001b[0;34m[\u001b[0m\u001b[0;34m'val_acc'\u001b[0m\u001b[0;34m]\u001b[0m\u001b[0;34m,\u001b[0m \u001b[0mlabel\u001b[0m\u001b[0;34m=\u001b[0m\u001b[0;34m'test'\u001b[0m\u001b[0;34m)\u001b[0m\u001b[0;34m\u001b[0m\u001b[0;34m\u001b[0m\u001b[0m\n\u001b[1;32m      4\u001b[0m \u001b[0mplt\u001b[0m\u001b[0;34m.\u001b[0m\u001b[0mlegend\u001b[0m\u001b[0;34m(\u001b[0m\u001b[0;34m)\u001b[0m\u001b[0;34m\u001b[0m\u001b[0;34m\u001b[0m\u001b[0m\n\u001b[1;32m      5\u001b[0m \u001b[0mplt\u001b[0m\u001b[0;34m.\u001b[0m\u001b[0mshow\u001b[0m\u001b[0;34m(\u001b[0m\u001b[0;34m)\u001b[0m\u001b[0;34m;\u001b[0m\u001b[0;34m\u001b[0m\u001b[0;34m\u001b[0m\u001b[0m\n",
            "\u001b[0;31mKeyError\u001b[0m: 'acc'"
          ]
        },
        {
          "output_type": "display_data",
          "data": {
            "image/png": "[encoded data removed]",
            "text/plain": [
              "<Figure size 432x288 with 1 Axes>"
            ]
          },
          "metadata": {
            "tags": [],
            "needs_background": "light"
          }
        }
      ]
    },
    {
      "cell_type": "markdown",
      "metadata": {
        "id": "243ql4LfVgic",
        "colab_type": "text"
      },
      "source": [
        "# Reference:\n",
        "\n",
        "* https://www.analyticsvidhya.com/blog/2019/01/introduction-time-series-classification/\n",
        "* https://towardsdatascience.com/multi-class-text-classification-with-lstm-1590bee1bd17\n",
        "* https://towardsdatascience.com/time-series-analysis-visualization-forecasting-with-lstm-77a905180eba"
      ]
    },
    {
      "cell_type": "code",
      "metadata": {
        "id": "CjTf_2KwViwK",
        "colab_type": "code",
        "colab": {}
      },
      "source": [
        ""
      ],
      "execution_count": null,
      "outputs": []
    }
  ]
}