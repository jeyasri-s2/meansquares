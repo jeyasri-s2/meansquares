{
  "nbformat": 4,
  "nbformat_minor": 0,
  "metadata": {
    "colab": {
      "name": "NY-baselineAnalysis.ipynb",
      "provenance": [],
      "toc_visible": true,
      "include_colab_link": true
    },
    "kernelspec": {
      "name": "python3",
      "display_name": "Python 3"
    }
  },
  "cells": [
    {
      "cell_type": "markdown",
      "metadata": {
        "id": "view-in-github",
        "colab_type": "text"
      },
      "source": [
        "<a href=\"https://colab.research.google.com/github/aarsanjani/meansquares/blob/master/NY_baselineAnalysis.ipynb\" target=\"_parent\"><img src=\"https://colab.research.google.com/assets/colab-badge.svg\" alt=\"Open In Colab\"/></a>"
      ]
    },
    {
      "cell_type": "markdown",
      "metadata": {
        "id": "jTNRJb0dk6G-",
        "colab_type": "text"
      },
      "source": [
        "New york state has reduced the Covid-19 cases. We have investigated the mask, social distancing, mobility data for NY state"
      ]
    },
    {
      "cell_type": "code",
      "metadata": {
        "id": "M8ImHmnMk14z",
        "colab_type": "code",
        "colab": {
          "base_uri": "https://localhost:8080/",
          "height": 34
        },
        "outputId": "e04c0310-a1f2-4566-96d9-e15fcff2eb85"
      },
      "source": [
        "!pip install wget\n"
      ],
      "execution_count": 107,
      "outputs": [
        {
          "output_type": "stream",
          "text": [
            "Requirement already satisfied: wget in /usr/local/lib/python3.6/dist-packages (3.2)\n"
          ],
          "name": "stdout"
        }
      ]
    },
    {
      "cell_type": "code",
      "metadata": {
        "id": "uwdU8Blulnol",
        "colab_type": "code",
        "colab": {}
      },
      "source": [
        "import pandas as pd\n",
        "import seaborn as sns\n",
        "import numpy as np\n",
        "import matplotlib.pyplot as plt\n",
        "import os\n",
        "import wget\n",
        "from pandas import Series, datetime\n",
        "from pandas.plotting import scatter_matrix, autocorrelation_plot\n",
        "from sklearn.preprocessing import StandardScaler, RobustScaler\n",
        "from sklearn.model_selection import train_test_split, KFold, cross_val_score, GridSearchCV, TimeSeriesSplit\n",
        "from sklearn import metrics\n",
        "from sklearn.metrics import classification_report, confusion_matrix, accuracy_score, mean_squared_error\n",
        "from sklearn.pipeline import Pipeline\n",
        "from sklearn.linear_model import LogisticRegression\n",
        "from sklearn.tree import DecisionTreeClassifier\n",
        "from sklearn.neighbors import KNeighborsClassifier\n",
        "from sklearn.discriminant_analysis import LinearDiscriminantAnalysis\n",
        "from sklearn.naive_bayes import GaussianNB\n",
        "from sklearn.cluster import KMeans\n",
        "from sklearn.svm import SVC\n",
        "from sklearn.ensemble import AdaBoostClassifier, GradientBoostingClassifier, RandomForestClassifier, ExtraTreesClassifier\n",
        "from sklearn.metrics import roc_curve, auc\n",
        "import random\n",
        "from statsmodels.graphics.tsaplots import plot_acf, plot_pacf\n",
        "from statsmodels.tsa.arima_model import ARIMA\n",
        "from xgboost import XGBClassifier\n",
        "from sklearn.mixture import GaussianMixture"
      ],
      "execution_count": 108,
      "outputs": []
    },
    {
      "cell_type": "markdown",
      "metadata": {
        "id": "evMtFIunmCnj",
        "colab_type": "text"
      },
      "source": [
        "## County Population"
      ]
    },
    {
      "cell_type": "code",
      "metadata": {
        "id": "OXbEj9pMmfEO",
        "colab_type": "code",
        "colab": {
          "base_uri": "https://localhost:8080/",
          "height": 128
        },
        "outputId": "16c51269-dcd0-4390-e3c8-8b1c5678d0bf"
      },
      "source": [
        "US_population_filename = wget.download('https://usafactsstatic.blob.core.windows.net/public/data/covid-19/covid_county_population_usafacts.csv')\n",
        "county_population_US = pd.read_csv(US_population_filename,low_memory=False)\n",
        "print(county_population_US.shape)\n",
        "\n",
        "county_population_US.head(2)"
      ],
      "execution_count": 109,
      "outputs": [
        {
          "output_type": "stream",
          "text": [
            "(3195, 4)\n"
          ],
          "name": "stdout"
        },
        {
          "output_type": "execute_result",
          "data": {
            "text/html": [
              "<div>\n",
              "<style scoped>\n",
              "    .dataframe tbody tr th:only-of-type {\n",
              "        vertical-align: middle;\n",
              "    }\n",
              "\n",
              "    .dataframe tbody tr th {\n",
              "        vertical-align: top;\n",
              "    }\n",
              "\n",
              "    .dataframe thead th {\n",
              "        text-align: right;\n",
              "    }\n",
              "</style>\n",
              "<table border=\"1\" class=\"dataframe\">\n",
              "  <thead>\n",
              "    <tr style=\"text-align: right;\">\n",
              "      <th></th>\n",
              "      <th>countyFIPS</th>\n",
              "      <th>County Name</th>\n",
              "      <th>State</th>\n",
              "      <th>population</th>\n",
              "    </tr>\n",
              "  </thead>\n",
              "  <tbody>\n",
              "    <tr>\n",
              "      <th>0</th>\n",
              "      <td>0</td>\n",
              "      <td>Statewide Unallocated</td>\n",
              "      <td>AL</td>\n",
              "      <td>0</td>\n",
              "    </tr>\n",
              "    <tr>\n",
              "      <th>1</th>\n",
              "      <td>1001</td>\n",
              "      <td>Autauga County</td>\n",
              "      <td>AL</td>\n",
              "      <td>55869</td>\n",
              "    </tr>\n",
              "  </tbody>\n",
              "</table>\n",
              "</div>"
            ],
            "text/plain": [
              "   countyFIPS            County Name State  population\n",
              "0           0  Statewide Unallocated    AL           0\n",
              "1        1001         Autauga County    AL       55869"
            ]
          },
          "metadata": {
            "tags": []
          },
          "execution_count": 109
        }
      ]
    },
    {
      "cell_type": "code",
      "metadata": {
        "id": "_tpjeJJbmvL1",
        "colab_type": "code",
        "colab": {
          "base_uri": "https://localhost:8080/",
          "height": 128
        },
        "outputId": "4438788f-e1a5-4afd-d2ba-232575d6c8d2"
      },
      "source": [
        "ny_population = county_population_US[county_population_US['State'] == 'NY']\n",
        "print(ny_population.shape)\n",
        "ny_population.head(2)"
      ],
      "execution_count": 110,
      "outputs": [
        {
          "output_type": "stream",
          "text": [
            "(64, 4)\n"
          ],
          "name": "stdout"
        },
        {
          "output_type": "execute_result",
          "data": {
            "text/html": [
              "<div>\n",
              "<style scoped>\n",
              "    .dataframe tbody tr th:only-of-type {\n",
              "        vertical-align: middle;\n",
              "    }\n",
              "\n",
              "    .dataframe tbody tr th {\n",
              "        vertical-align: top;\n",
              "    }\n",
              "\n",
              "    .dataframe thead th {\n",
              "        text-align: right;\n",
              "    }\n",
              "</style>\n",
              "<table border=\"1\" class=\"dataframe\">\n",
              "  <thead>\n",
              "    <tr style=\"text-align: right;\">\n",
              "      <th></th>\n",
              "      <th>countyFIPS</th>\n",
              "      <th>County Name</th>\n",
              "      <th>State</th>\n",
              "      <th>population</th>\n",
              "    </tr>\n",
              "  </thead>\n",
              "  <tbody>\n",
              "    <tr>\n",
              "      <th>1861</th>\n",
              "      <td>0</td>\n",
              "      <td>Statewide Unallocated</td>\n",
              "      <td>NY</td>\n",
              "      <td>0</td>\n",
              "    </tr>\n",
              "    <tr>\n",
              "      <th>1862</th>\n",
              "      <td>0</td>\n",
              "      <td>New York City Unallocated</td>\n",
              "      <td>NY</td>\n",
              "      <td>0</td>\n",
              "    </tr>\n",
              "  </tbody>\n",
              "</table>\n",
              "</div>"
            ],
            "text/plain": [
              "      countyFIPS                County Name State  population\n",
              "1861           0      Statewide Unallocated    NY           0\n",
              "1862           0  New York City Unallocated    NY           0"
            ]
          },
          "metadata": {
            "tags": []
          },
          "execution_count": 110
        }
      ]
    },
    {
      "cell_type": "code",
      "metadata": {
        "id": "2eWuWruhm-vv",
        "colab_type": "code",
        "colab": {
          "base_uri": "https://localhost:8080/",
          "height": 391
        },
        "outputId": "4ad73ab0-bd7d-402a-c791-8e5f30a6b4ec"
      },
      "source": [
        "ny_population['County Name'].unique()"
      ],
      "execution_count": 111,
      "outputs": [
        {
          "output_type": "execute_result",
          "data": {
            "text/plain": [
              "array(['Statewide Unallocated', 'New York City Unallocated',\n",
              "       'Albany County', 'Allegany County', 'Bronx County',\n",
              "       'Broome County', 'Cattaraugus County', 'Cayuga County',\n",
              "       'Chautauqua County', 'Chemung County', 'Chenango County',\n",
              "       'Clinton County', 'Columbia County', 'Cortland County',\n",
              "       'Delaware County', 'Dutchess County', 'Erie County',\n",
              "       'Essex County', 'Franklin County', 'Fulton County',\n",
              "       'Genesee County', 'Greene County', 'Hamilton County',\n",
              "       'Herkimer County', 'Jefferson County', 'Kings County',\n",
              "       'Lewis County', 'Livingston County', 'Madison County',\n",
              "       'Monroe County', 'Montgomery County', 'Nassau County',\n",
              "       'New York County', 'Niagara County', 'Oneida County',\n",
              "       'Onondaga County', 'Ontario County', 'Orange County',\n",
              "       'Orleans County', 'Oswego County', 'Otsego County',\n",
              "       'Putnam County', 'Queens County', 'Rensselaer County',\n",
              "       'Richmond County', 'Rockland County', 'St. Lawrence County',\n",
              "       'Saratoga County', 'Schenectady County', 'Schoharie County',\n",
              "       'Schuyler County', 'Seneca County', 'Steuben County',\n",
              "       'Suffolk County', 'Sullivan County', 'Tioga County',\n",
              "       'Tompkins County', 'Ulster County', 'Warren County',\n",
              "       'Washington County', 'Wayne County', 'Westchester County',\n",
              "       'Wyoming County', 'Yates County'], dtype=object)"
            ]
          },
          "metadata": {
            "tags": []
          },
          "execution_count": 111
        }
      ]
    },
    {
      "cell_type": "code",
      "metadata": {
        "id": "tK88EeaUnJ-p",
        "colab_type": "code",
        "colab": {
          "base_uri": "https://localhost:8080/",
          "height": 80
        },
        "outputId": "ab25bc3f-1936-4cc9-d435-34c97791912a"
      },
      "source": [
        "queens_county_population = ny_population[ny_population['County Name'] == 'Queens County']\n",
        "queens_county_population"
      ],
      "execution_count": 112,
      "outputs": [
        {
          "output_type": "execute_result",
          "data": {
            "text/html": [
              "<div>\n",
              "<style scoped>\n",
              "    .dataframe tbody tr th:only-of-type {\n",
              "        vertical-align: middle;\n",
              "    }\n",
              "\n",
              "    .dataframe tbody tr th {\n",
              "        vertical-align: top;\n",
              "    }\n",
              "\n",
              "    .dataframe thead th {\n",
              "        text-align: right;\n",
              "    }\n",
              "</style>\n",
              "<table border=\"1\" class=\"dataframe\">\n",
              "  <thead>\n",
              "    <tr style=\"text-align: right;\">\n",
              "      <th></th>\n",
              "      <th>countyFIPS</th>\n",
              "      <th>County Name</th>\n",
              "      <th>State</th>\n",
              "      <th>population</th>\n",
              "    </tr>\n",
              "  </thead>\n",
              "  <tbody>\n",
              "    <tr>\n",
              "      <th>1903</th>\n",
              "      <td>36081</td>\n",
              "      <td>Queens County</td>\n",
              "      <td>NY</td>\n",
              "      <td>2253858</td>\n",
              "    </tr>\n",
              "  </tbody>\n",
              "</table>\n",
              "</div>"
            ],
            "text/plain": [
              "      countyFIPS    County Name State  population\n",
              "1903       36081  Queens County    NY     2253858"
            ]
          },
          "metadata": {
            "tags": []
          },
          "execution_count": 112
        }
      ]
    },
    {
      "cell_type": "markdown",
      "metadata": {
        "id": "DZIQ8BB8npY0",
        "colab_type": "text"
      },
      "source": [
        "## Land Area "
      ]
    },
    {
      "cell_type": "code",
      "metadata": {
        "id": "ilTS6GosnbkC",
        "colab_type": "code",
        "colab": {
          "base_uri": "https://localhost:8080/",
          "height": 34
        },
        "outputId": "7eb357af-b4e7-4e43-80df-b7379add41b9"
      },
      "source": [
        "landarea_filename = wget.download('https://raw.githubusercontent.com/ykzeng/covid-19/master/data/census-landarea-all.csv')\n",
        "landarea_data = pd.read_csv(landarea_filename,low_memory=False)\n",
        "print(landarea_data.shape)\n"
      ],
      "execution_count": 113,
      "outputs": [
        {
          "output_type": "stream",
          "text": [
            "(3195, 52)\n"
          ],
          "name": "stdout"
        }
      ]
    },
    {
      "cell_type": "code",
      "metadata": {
        "id": "R7jnr7GOoJog",
        "colab_type": "code",
        "colab": {
          "base_uri": "https://localhost:8080/",
          "height": 131
        },
        "outputId": "c34761d0-cfd0-4457-f816-b4301439a2aa"
      },
      "source": [
        "landarea_data.head(2)"
      ],
      "execution_count": 114,
      "outputs": [
        {
          "output_type": "execute_result",
          "data": {
            "text/html": [
              "<div>\n",
              "<style scoped>\n",
              "    .dataframe tbody tr th:only-of-type {\n",
              "        vertical-align: middle;\n",
              "    }\n",
              "\n",
              "    .dataframe tbody tr th {\n",
              "        vertical-align: top;\n",
              "    }\n",
              "\n",
              "    .dataframe thead th {\n",
              "        text-align: right;\n",
              "    }\n",
              "</style>\n",
              "<table border=\"1\" class=\"dataframe\">\n",
              "  <thead>\n",
              "    <tr style=\"text-align: right;\">\n",
              "      <th></th>\n",
              "      <th>fips</th>\n",
              "      <th>PST045212</th>\n",
              "      <th>PST040210</th>\n",
              "      <th>PST120212</th>\n",
              "      <th>POP010210</th>\n",
              "      <th>AGE135212</th>\n",
              "      <th>AGE295212</th>\n",
              "      <th>AGE775212</th>\n",
              "      <th>SEX255212</th>\n",
              "      <th>RHI125212</th>\n",
              "      <th>RHI225212</th>\n",
              "      <th>RHI325212</th>\n",
              "      <th>RHI425212</th>\n",
              "      <th>RHI525212</th>\n",
              "      <th>RHI625212</th>\n",
              "      <th>RHI725212</th>\n",
              "      <th>RHI825212</th>\n",
              "      <th>POP715211</th>\n",
              "      <th>POP645211</th>\n",
              "      <th>POP815211</th>\n",
              "      <th>EDU635211</th>\n",
              "      <th>EDU685211</th>\n",
              "      <th>VET605211</th>\n",
              "      <th>LFE305211</th>\n",
              "      <th>HSG010211</th>\n",
              "      <th>HSG445211</th>\n",
              "      <th>HSG096211</th>\n",
              "      <th>HSG495211</th>\n",
              "      <th>HSD410211</th>\n",
              "      <th>HSD310211</th>\n",
              "      <th>INC910211</th>\n",
              "      <th>INC110211</th>\n",
              "      <th>PVY020211</th>\n",
              "      <th>BZA010211</th>\n",
              "      <th>BZA110211</th>\n",
              "      <th>BZA115211</th>\n",
              "      <th>NES010211</th>\n",
              "      <th>SBO001207</th>\n",
              "      <th>SBO315207</th>\n",
              "      <th>SBO115207</th>\n",
              "      <th>SBO215207</th>\n",
              "      <th>SBO515207</th>\n",
              "      <th>SBO415207</th>\n",
              "      <th>SBO015207</th>\n",
              "      <th>MAN450207</th>\n",
              "      <th>WTN220207</th>\n",
              "      <th>RTN130207</th>\n",
              "      <th>RTN131207</th>\n",
              "      <th>AFN120207</th>\n",
              "      <th>BPS030212</th>\n",
              "      <th>LND110210</th>\n",
              "      <th>POP060210</th>\n",
              "    </tr>\n",
              "  </thead>\n",
              "  <tbody>\n",
              "    <tr>\n",
              "      <th>0</th>\n",
              "      <td>0</td>\n",
              "      <td>313914040</td>\n",
              "      <td>308747508</td>\n",
              "      <td>1.7</td>\n",
              "      <td>308745538</td>\n",
              "      <td>6.4</td>\n",
              "      <td>23.5</td>\n",
              "      <td>13.7</td>\n",
              "      <td>50.8</td>\n",
              "      <td>77.9</td>\n",
              "      <td>13.1</td>\n",
              "      <td>1.2</td>\n",
              "      <td>5.1</td>\n",
              "      <td>0.2</td>\n",
              "      <td>2.4</td>\n",
              "      <td>16.9</td>\n",
              "      <td>63.0</td>\n",
              "      <td>84.6</td>\n",
              "      <td>12.8</td>\n",
              "      <td>20.3</td>\n",
              "      <td>85.4</td>\n",
              "      <td>28.2</td>\n",
              "      <td>22215303</td>\n",
              "      <td>25.4</td>\n",
              "      <td>132312404</td>\n",
              "      <td>66.1</td>\n",
              "      <td>25.9</td>\n",
              "      <td>186200</td>\n",
              "      <td>114761359</td>\n",
              "      <td>2.60</td>\n",
              "      <td>27915</td>\n",
              "      <td>52762</td>\n",
              "      <td>14.3</td>\n",
              "      <td>7354043</td>\n",
              "      <td>113425965</td>\n",
              "      <td>1.3</td>\n",
              "      <td>22491080</td>\n",
              "      <td>27092908</td>\n",
              "      <td>7.1</td>\n",
              "      <td>0.9</td>\n",
              "      <td>5.7</td>\n",
              "      <td>0.1</td>\n",
              "      <td>8.3</td>\n",
              "      <td>28.8</td>\n",
              "      <td>5319456312</td>\n",
              "      <td>4174286516</td>\n",
              "      <td>3917663456</td>\n",
              "      <td>12990</td>\n",
              "      <td>613795732</td>\n",
              "      <td>829658</td>\n",
              "      <td>3531905.43</td>\n",
              "      <td>87.4</td>\n",
              "    </tr>\n",
              "    <tr>\n",
              "      <th>1</th>\n",
              "      <td>1000</td>\n",
              "      <td>4822023</td>\n",
              "      <td>4779745</td>\n",
              "      <td>0.9</td>\n",
              "      <td>4779736</td>\n",
              "      <td>6.3</td>\n",
              "      <td>23.3</td>\n",
              "      <td>14.5</td>\n",
              "      <td>51.5</td>\n",
              "      <td>70.0</td>\n",
              "      <td>26.5</td>\n",
              "      <td>0.7</td>\n",
              "      <td>1.2</td>\n",
              "      <td>0.1</td>\n",
              "      <td>1.5</td>\n",
              "      <td>4.1</td>\n",
              "      <td>66.6</td>\n",
              "      <td>84.5</td>\n",
              "      <td>3.4</td>\n",
              "      <td>5.0</td>\n",
              "      <td>81.9</td>\n",
              "      <td>22.0</td>\n",
              "      <td>403982</td>\n",
              "      <td>24.0</td>\n",
              "      <td>2182088</td>\n",
              "      <td>70.7</td>\n",
              "      <td>15.5</td>\n",
              "      <td>120800</td>\n",
              "      <td>1831269</td>\n",
              "      <td>2.53</td>\n",
              "      <td>23483</td>\n",
              "      <td>42934</td>\n",
              "      <td>17.6</td>\n",
              "      <td>97743</td>\n",
              "      <td>1573138</td>\n",
              "      <td>0.3</td>\n",
              "      <td>321641</td>\n",
              "      <td>382350</td>\n",
              "      <td>14.8</td>\n",
              "      <td>0.8</td>\n",
              "      <td>1.8</td>\n",
              "      <td>0.1</td>\n",
              "      <td>1.2</td>\n",
              "      <td>28.1</td>\n",
              "      <td>112858843</td>\n",
              "      <td>52252752</td>\n",
              "      <td>57344851</td>\n",
              "      <td>12364</td>\n",
              "      <td>6426342</td>\n",
              "      <td>13506</td>\n",
              "      <td>50645.33</td>\n",
              "      <td>94.4</td>\n",
              "    </tr>\n",
              "  </tbody>\n",
              "</table>\n",
              "</div>"
            ],
            "text/plain": [
              "   fips  PST045212  PST040210  ...  BPS030212   LND110210  POP060210\n",
              "0     0  313914040  308747508  ...     829658  3531905.43       87.4\n",
              "1  1000    4822023    4779745  ...      13506    50645.33       94.4\n",
              "\n",
              "[2 rows x 52 columns]"
            ]
          },
          "metadata": {
            "tags": []
          },
          "execution_count": 114
        }
      ]
    },
    {
      "cell_type": "code",
      "metadata": {
        "id": "rPR0aInToxWl",
        "colab_type": "code",
        "colab": {
          "base_uri": "https://localhost:8080/",
          "height": 34
        },
        "outputId": "647c3d25-ebdd-414c-e5d8-1d3b9d018c22"
      },
      "source": [
        "landarea_data['fips'].unique()"
      ],
      "execution_count": 115,
      "outputs": [
        {
          "output_type": "execute_result",
          "data": {
            "text/plain": [
              "array([    0,  1000,  1001, ..., 56041, 56043, 56045])"
            ]
          },
          "metadata": {
            "tags": []
          },
          "execution_count": 115
        }
      ]
    },
    {
      "cell_type": "code",
      "metadata": {
        "id": "9XlTwSOGoVM1",
        "colab_type": "code",
        "colab": {
          "base_uri": "https://localhost:8080/",
          "height": 51
        },
        "outputId": "0333ed54-411b-47ed-85bd-3e65b1629e7f"
      },
      "source": [
        "#LND110210\n",
        "\n",
        "landarea_data[landarea_data['fips'] == 36081]['LND110210']"
      ],
      "execution_count": 116,
      "outputs": [
        {
          "output_type": "execute_result",
          "data": {
            "text/plain": [
              "1902    108.53\n",
              "Name: LND110210, dtype: float64"
            ]
          },
          "metadata": {
            "tags": []
          },
          "execution_count": 116
        }
      ]
    },
    {
      "cell_type": "markdown",
      "metadata": {
        "id": "6J3mW3jKOTlz",
        "colab_type": "text"
      },
      "source": [
        "#### Population density"
      ]
    },
    {
      "cell_type": "code",
      "metadata": {
        "id": "trysp_KlOLJA",
        "colab_type": "code",
        "colab": {
          "base_uri": "https://localhost:8080/",
          "height": 34
        },
        "outputId": "749c0a55-7c60-4a55-ae75-462be54c0a02"
      },
      "source": [
        "density = 2253858/108.53\n",
        "\n",
        "density"
      ],
      "execution_count": 181,
      "outputs": [
        {
          "output_type": "execute_result",
          "data": {
            "text/plain": [
              "20767.142725513684"
            ]
          },
          "metadata": {
            "tags": []
          },
          "execution_count": 181
        }
      ]
    },
    {
      "cell_type": "markdown",
      "metadata": {
        "id": "nUhDujq4lh8J",
        "colab_type": "text"
      },
      "source": [
        "## Mask data"
      ]
    },
    {
      "cell_type": "code",
      "metadata": {
        "id": "vjaG4Cj-lnho",
        "colab_type": "code",
        "colab": {
          "base_uri": "https://localhost:8080/",
          "height": 35
        },
        "outputId": "0065ed6a-401d-447d-9838-2624f2b95194"
      },
      "source": [
        "mask_filename = wget.download('https://raw.githubusercontent.com/nytimes/covid-19-data/master/mask-use/mask-use-by-county.csv')\n",
        "mask_filename"
      ],
      "execution_count": 117,
      "outputs": [
        {
          "output_type": "execute_result",
          "data": {
            "application/vnd.google.colaboratory.intrinsic+json": {
              "type": "string"
            },
            "text/plain": [
              "'mask-use-by-county (1).csv'"
            ]
          },
          "metadata": {
            "tags": []
          },
          "execution_count": 117
        }
      ]
    },
    {
      "cell_type": "code",
      "metadata": {
        "id": "CQdxYjnWlnYX",
        "colab_type": "code",
        "colab": {
          "base_uri": "https://localhost:8080/",
          "height": 34
        },
        "outputId": "f5650909-0b83-45e5-93ce-93098de4aad4"
      },
      "source": [
        "\n",
        "mask_data = pd.read_csv(mask_filename,low_memory=False)\n",
        "print(mask_data.shape)"
      ],
      "execution_count": 118,
      "outputs": [
        {
          "output_type": "stream",
          "text": [
            "(3142, 6)\n"
          ],
          "name": "stdout"
        }
      ]
    },
    {
      "cell_type": "code",
      "metadata": {
        "id": "HEnZUfculuhi",
        "colab_type": "code",
        "colab": {
          "base_uri": "https://localhost:8080/",
          "height": 204
        },
        "outputId": "3cce5f8a-6553-4ee2-dd67-2d21ab3838f7"
      },
      "source": [
        "mask_data.head()"
      ],
      "execution_count": 119,
      "outputs": [
        {
          "output_type": "execute_result",
          "data": {
            "text/html": [
              "<div>\n",
              "<style scoped>\n",
              "    .dataframe tbody tr th:only-of-type {\n",
              "        vertical-align: middle;\n",
              "    }\n",
              "\n",
              "    .dataframe tbody tr th {\n",
              "        vertical-align: top;\n",
              "    }\n",
              "\n",
              "    .dataframe thead th {\n",
              "        text-align: right;\n",
              "    }\n",
              "</style>\n",
              "<table border=\"1\" class=\"dataframe\">\n",
              "  <thead>\n",
              "    <tr style=\"text-align: right;\">\n",
              "      <th></th>\n",
              "      <th>COUNTYFP</th>\n",
              "      <th>NEVER</th>\n",
              "      <th>RARELY</th>\n",
              "      <th>SOMETIMES</th>\n",
              "      <th>FREQUENTLY</th>\n",
              "      <th>ALWAYS</th>\n",
              "    </tr>\n",
              "  </thead>\n",
              "  <tbody>\n",
              "    <tr>\n",
              "      <th>0</th>\n",
              "      <td>1001</td>\n",
              "      <td>0.053</td>\n",
              "      <td>0.074</td>\n",
              "      <td>0.134</td>\n",
              "      <td>0.295</td>\n",
              "      <td>0.444</td>\n",
              "    </tr>\n",
              "    <tr>\n",
              "      <th>1</th>\n",
              "      <td>1003</td>\n",
              "      <td>0.083</td>\n",
              "      <td>0.059</td>\n",
              "      <td>0.098</td>\n",
              "      <td>0.323</td>\n",
              "      <td>0.436</td>\n",
              "    </tr>\n",
              "    <tr>\n",
              "      <th>2</th>\n",
              "      <td>1005</td>\n",
              "      <td>0.067</td>\n",
              "      <td>0.121</td>\n",
              "      <td>0.120</td>\n",
              "      <td>0.201</td>\n",
              "      <td>0.491</td>\n",
              "    </tr>\n",
              "    <tr>\n",
              "      <th>3</th>\n",
              "      <td>1007</td>\n",
              "      <td>0.020</td>\n",
              "      <td>0.034</td>\n",
              "      <td>0.096</td>\n",
              "      <td>0.278</td>\n",
              "      <td>0.572</td>\n",
              "    </tr>\n",
              "    <tr>\n",
              "      <th>4</th>\n",
              "      <td>1009</td>\n",
              "      <td>0.053</td>\n",
              "      <td>0.114</td>\n",
              "      <td>0.180</td>\n",
              "      <td>0.194</td>\n",
              "      <td>0.459</td>\n",
              "    </tr>\n",
              "  </tbody>\n",
              "</table>\n",
              "</div>"
            ],
            "text/plain": [
              "   COUNTYFP  NEVER  RARELY  SOMETIMES  FREQUENTLY  ALWAYS\n",
              "0      1001  0.053   0.074      0.134       0.295   0.444\n",
              "1      1003  0.083   0.059      0.098       0.323   0.436\n",
              "2      1005  0.067   0.121      0.120       0.201   0.491\n",
              "3      1007  0.020   0.034      0.096       0.278   0.572\n",
              "4      1009  0.053   0.114      0.180       0.194   0.459"
            ]
          },
          "metadata": {
            "tags": []
          },
          "execution_count": 119
        }
      ]
    },
    {
      "cell_type": "code",
      "metadata": {
        "id": "-oH6YbhapVJR",
        "colab_type": "code",
        "colab": {
          "base_uri": "https://localhost:8080/",
          "height": 80
        },
        "outputId": "cd1bedbc-9afd-4e16-dd57-4891f66e90c9"
      },
      "source": [
        "mask_data[mask_data['COUNTYFP'] == 36081]"
      ],
      "execution_count": 120,
      "outputs": [
        {
          "output_type": "execute_result",
          "data": {
            "text/html": [
              "<div>\n",
              "<style scoped>\n",
              "    .dataframe tbody tr th:only-of-type {\n",
              "        vertical-align: middle;\n",
              "    }\n",
              "\n",
              "    .dataframe tbody tr th {\n",
              "        vertical-align: top;\n",
              "    }\n",
              "\n",
              "    .dataframe thead th {\n",
              "        text-align: right;\n",
              "    }\n",
              "</style>\n",
              "<table border=\"1\" class=\"dataframe\">\n",
              "  <thead>\n",
              "    <tr style=\"text-align: right;\">\n",
              "      <th></th>\n",
              "      <th>COUNTYFP</th>\n",
              "      <th>NEVER</th>\n",
              "      <th>RARELY</th>\n",
              "      <th>SOMETIMES</th>\n",
              "      <th>FREQUENTLY</th>\n",
              "      <th>ALWAYS</th>\n",
              "    </tr>\n",
              "  </thead>\n",
              "  <tbody>\n",
              "    <tr>\n",
              "      <th>1868</th>\n",
              "      <td>36081</td>\n",
              "      <td>0.022</td>\n",
              "      <td>0.023</td>\n",
              "      <td>0.068</td>\n",
              "      <td>0.136</td>\n",
              "      <td>0.751</td>\n",
              "    </tr>\n",
              "  </tbody>\n",
              "</table>\n",
              "</div>"
            ],
            "text/plain": [
              "      COUNTYFP  NEVER  RARELY  SOMETIMES  FREQUENTLY  ALWAYS\n",
              "1868     36081  0.022   0.023      0.068       0.136   0.751"
            ]
          },
          "metadata": {
            "tags": []
          },
          "execution_count": 120
        }
      ]
    },
    {
      "cell_type": "code",
      "metadata": {
        "id": "Y2QeDj--Tjr5",
        "colab_type": "code",
        "colab": {
          "base_uri": "https://localhost:8080/",
          "height": 34
        },
        "outputId": "0cc44ecc-ec26-4281-d2a8-153203b4b498"
      },
      "source": [
        "0.022 +\t0.023\t+0.068\t+0.136+\t0.751"
      ],
      "execution_count": 182,
      "outputs": [
        {
          "output_type": "execute_result",
          "data": {
            "text/plain": [
              "1.0"
            ]
          },
          "metadata": {
            "tags": []
          },
          "execution_count": 182
        }
      ]
    },
    {
      "cell_type": "markdown",
      "metadata": {
        "id": "TCWqEdGzqr1P",
        "colab_type": "text"
      },
      "source": [
        "## Mobility Data "
      ]
    },
    {
      "cell_type": "markdown",
      "metadata": {
        "id": "3W5XRhm0xhkK",
        "colab_type": "text"
      },
      "source": [
        "### Google mobility data"
      ]
    },
    {
      "cell_type": "code",
      "metadata": {
        "id": "YCnpUC88quBQ",
        "colab_type": "code",
        "colab": {
          "base_uri": "https://localhost:8080/",
          "height": 162
        },
        "outputId": "26c700de-3adc-43c2-d893-8680acd488b5"
      },
      "source": [
        "google_data_url = 'https://raw.githubusercontent.com/ActiveConclusion/COVID19_mobility/master/google_reports/mobility_report_US.csv'\n",
        "\n",
        "google_filename = wget.download(google_data_url)\n",
        "google_mobility_data = pd.read_csv(google_filename,low_memory=False)\n",
        "google_mobility_data.head(2)"
      ],
      "execution_count": 121,
      "outputs": [
        {
          "output_type": "execute_result",
          "data": {
            "text/html": [
              "<div>\n",
              "<style scoped>\n",
              "    .dataframe tbody tr th:only-of-type {\n",
              "        vertical-align: middle;\n",
              "    }\n",
              "\n",
              "    .dataframe tbody tr th {\n",
              "        vertical-align: top;\n",
              "    }\n",
              "\n",
              "    .dataframe thead th {\n",
              "        text-align: right;\n",
              "    }\n",
              "</style>\n",
              "<table border=\"1\" class=\"dataframe\">\n",
              "  <thead>\n",
              "    <tr style=\"text-align: right;\">\n",
              "      <th></th>\n",
              "      <th>state</th>\n",
              "      <th>county</th>\n",
              "      <th>date</th>\n",
              "      <th>retail and recreation</th>\n",
              "      <th>grocery and pharmacy</th>\n",
              "      <th>parks</th>\n",
              "      <th>transit stations</th>\n",
              "      <th>workplaces</th>\n",
              "      <th>residential</th>\n",
              "    </tr>\n",
              "  </thead>\n",
              "  <tbody>\n",
              "    <tr>\n",
              "      <th>0</th>\n",
              "      <td>Total</td>\n",
              "      <td>Total</td>\n",
              "      <td>2020-02-15</td>\n",
              "      <td>6.0</td>\n",
              "      <td>2.0</td>\n",
              "      <td>15.0</td>\n",
              "      <td>3.0</td>\n",
              "      <td>2.0</td>\n",
              "      <td>-1.0</td>\n",
              "    </tr>\n",
              "    <tr>\n",
              "      <th>1</th>\n",
              "      <td>Total</td>\n",
              "      <td>Total</td>\n",
              "      <td>2020-02-16</td>\n",
              "      <td>7.0</td>\n",
              "      <td>1.0</td>\n",
              "      <td>16.0</td>\n",
              "      <td>2.0</td>\n",
              "      <td>0.0</td>\n",
              "      <td>-1.0</td>\n",
              "    </tr>\n",
              "  </tbody>\n",
              "</table>\n",
              "</div>"
            ],
            "text/plain": [
              "   state county        date  ...  transit stations  workplaces  residential\n",
              "0  Total  Total  2020-02-15  ...               3.0         2.0         -1.0\n",
              "1  Total  Total  2020-02-16  ...               2.0         0.0         -1.0\n",
              "\n",
              "[2 rows x 9 columns]"
            ]
          },
          "metadata": {
            "tags": []
          },
          "execution_count": 121
        }
      ]
    },
    {
      "cell_type": "code",
      "metadata": {
        "id": "TdzHjL2zxtkK",
        "colab_type": "code",
        "colab": {
          "base_uri": "https://localhost:8080/",
          "height": 179
        },
        "outputId": "99e3ff66-e8a4-419f-8178-3e53ba1067bf"
      },
      "source": [
        "NY_GoogleMobility_data = google_mobility_data[google_mobility_data['state'] == 'New York']\n",
        "print(NY_GoogleMobility_data.shape)\n",
        "NY_GoogleMobility_data.tail(2)"
      ],
      "execution_count": 122,
      "outputs": [
        {
          "output_type": "stream",
          "text": [
            "(11098, 9)\n"
          ],
          "name": "stdout"
        },
        {
          "output_type": "execute_result",
          "data": {
            "text/html": [
              "<div>\n",
              "<style scoped>\n",
              "    .dataframe tbody tr th:only-of-type {\n",
              "        vertical-align: middle;\n",
              "    }\n",
              "\n",
              "    .dataframe tbody tr th {\n",
              "        vertical-align: top;\n",
              "    }\n",
              "\n",
              "    .dataframe thead th {\n",
              "        text-align: right;\n",
              "    }\n",
              "</style>\n",
              "<table border=\"1\" class=\"dataframe\">\n",
              "  <thead>\n",
              "    <tr style=\"text-align: right;\">\n",
              "      <th></th>\n",
              "      <th>state</th>\n",
              "      <th>county</th>\n",
              "      <th>date</th>\n",
              "      <th>retail and recreation</th>\n",
              "      <th>grocery and pharmacy</th>\n",
              "      <th>parks</th>\n",
              "      <th>transit stations</th>\n",
              "      <th>workplaces</th>\n",
              "      <th>residential</th>\n",
              "    </tr>\n",
              "  </thead>\n",
              "  <tbody>\n",
              "    <tr>\n",
              "      <th>284597</th>\n",
              "      <td>New York</td>\n",
              "      <td>Yates County</td>\n",
              "      <td>2020-08-10</td>\n",
              "      <td>NaN</td>\n",
              "      <td>34.0</td>\n",
              "      <td>NaN</td>\n",
              "      <td>NaN</td>\n",
              "      <td>-24.0</td>\n",
              "      <td>NaN</td>\n",
              "    </tr>\n",
              "    <tr>\n",
              "      <th>284598</th>\n",
              "      <td>New York</td>\n",
              "      <td>Yates County</td>\n",
              "      <td>2020-08-11</td>\n",
              "      <td>NaN</td>\n",
              "      <td>30.0</td>\n",
              "      <td>NaN</td>\n",
              "      <td>NaN</td>\n",
              "      <td>-24.0</td>\n",
              "      <td>NaN</td>\n",
              "    </tr>\n",
              "  </tbody>\n",
              "</table>\n",
              "</div>"
            ],
            "text/plain": [
              "           state        county  ... workplaces  residential\n",
              "284597  New York  Yates County  ...      -24.0          NaN\n",
              "284598  New York  Yates County  ...      -24.0          NaN\n",
              "\n",
              "[2 rows x 9 columns]"
            ]
          },
          "metadata": {
            "tags": []
          },
          "execution_count": 122
        }
      ]
    },
    {
      "cell_type": "markdown",
      "metadata": {
        "id": "__Kf0xdyxmJ6",
        "colab_type": "text"
      },
      "source": [
        "### Apple mobility data"
      ]
    },
    {
      "cell_type": "code",
      "metadata": {
        "id": "5YxdFDmlx4ib",
        "colab_type": "code",
        "colab": {
          "base_uri": "https://localhost:8080/",
          "height": 111
        },
        "outputId": "d2989f24-7e3f-4b79-d530-f186616bf057"
      },
      "source": [
        "apple_report_url = 'https://raw.githubusercontent.com/ActiveConclusion/COVID19_mobility/master/apple_reports/apple_mobility_report_US.csv'\n",
        "\n",
        "apple_filename = wget.download(apple_report_url)\n",
        "apple_mobility_data = pd.read_csv(apple_filename,low_memory=False)\n",
        "apple_mobility_data.tail(2)"
      ],
      "execution_count": 123,
      "outputs": [
        {
          "output_type": "execute_result",
          "data": {
            "text/html": [
              "<div>\n",
              "<style scoped>\n",
              "    .dataframe tbody tr th:only-of-type {\n",
              "        vertical-align: middle;\n",
              "    }\n",
              "\n",
              "    .dataframe tbody tr th {\n",
              "        vertical-align: top;\n",
              "    }\n",
              "\n",
              "    .dataframe thead th {\n",
              "        text-align: right;\n",
              "    }\n",
              "</style>\n",
              "<table border=\"1\" class=\"dataframe\">\n",
              "  <thead>\n",
              "    <tr style=\"text-align: right;\">\n",
              "      <th></th>\n",
              "      <th>state</th>\n",
              "      <th>county_and_city</th>\n",
              "      <th>geo_type</th>\n",
              "      <th>date</th>\n",
              "      <th>driving</th>\n",
              "      <th>transit</th>\n",
              "      <th>walking</th>\n",
              "    </tr>\n",
              "  </thead>\n",
              "  <tbody>\n",
              "    <tr>\n",
              "      <th>478270</th>\n",
              "      <td>Wyoming</td>\n",
              "      <td>Uinta County</td>\n",
              "      <td>county</td>\n",
              "      <td>2020-08-12</td>\n",
              "      <td>268.83</td>\n",
              "      <td>NaN</td>\n",
              "      <td>NaN</td>\n",
              "    </tr>\n",
              "    <tr>\n",
              "      <th>478271</th>\n",
              "      <td>Wyoming</td>\n",
              "      <td>Uinta County</td>\n",
              "      <td>county</td>\n",
              "      <td>2020-08-13</td>\n",
              "      <td>315.41</td>\n",
              "      <td>NaN</td>\n",
              "      <td>NaN</td>\n",
              "    </tr>\n",
              "  </tbody>\n",
              "</table>\n",
              "</div>"
            ],
            "text/plain": [
              "          state county_and_city geo_type        date  driving  transit  walking\n",
              "478270  Wyoming    Uinta County   county  2020-08-12   268.83      NaN      NaN\n",
              "478271  Wyoming    Uinta County   county  2020-08-13   315.41      NaN      NaN"
            ]
          },
          "metadata": {
            "tags": []
          },
          "execution_count": 123
        }
      ]
    },
    {
      "cell_type": "code",
      "metadata": {
        "id": "CR5K3TSUx6uG",
        "colab_type": "code",
        "colab": {
          "base_uri": "https://localhost:8080/",
          "height": 128
        },
        "outputId": "47fba989-3d6b-466b-e109-3e8fb223a3ab"
      },
      "source": [
        "NY_AppleMobility_data = apple_mobility_data[apple_mobility_data['state'] == 'New York']\n",
        "print(NY_AppleMobility_data.shape)\n",
        "NY_AppleMobility_data.tail(2)"
      ],
      "execution_count": 124,
      "outputs": [
        {
          "output_type": "stream",
          "text": [
            "(14204, 7)\n"
          ],
          "name": "stdout"
        },
        {
          "output_type": "execute_result",
          "data": {
            "text/html": [
              "<div>\n",
              "<style scoped>\n",
              "    .dataframe tbody tr th:only-of-type {\n",
              "        vertical-align: middle;\n",
              "    }\n",
              "\n",
              "    .dataframe tbody tr th {\n",
              "        vertical-align: top;\n",
              "    }\n",
              "\n",
              "    .dataframe thead th {\n",
              "        text-align: right;\n",
              "    }\n",
              "</style>\n",
              "<table border=\"1\" class=\"dataframe\">\n",
              "  <thead>\n",
              "    <tr style=\"text-align: right;\">\n",
              "      <th></th>\n",
              "      <th>state</th>\n",
              "      <th>county_and_city</th>\n",
              "      <th>geo_type</th>\n",
              "      <th>date</th>\n",
              "      <th>driving</th>\n",
              "      <th>transit</th>\n",
              "      <th>walking</th>\n",
              "    </tr>\n",
              "  </thead>\n",
              "  <tbody>\n",
              "    <tr>\n",
              "      <th>275810</th>\n",
              "      <td>New York</td>\n",
              "      <td>Yates County</td>\n",
              "      <td>county</td>\n",
              "      <td>2020-08-12</td>\n",
              "      <td>290.56</td>\n",
              "      <td>NaN</td>\n",
              "      <td>NaN</td>\n",
              "    </tr>\n",
              "    <tr>\n",
              "      <th>275811</th>\n",
              "      <td>New York</td>\n",
              "      <td>Yates County</td>\n",
              "      <td>county</td>\n",
              "      <td>2020-08-13</td>\n",
              "      <td>303.29</td>\n",
              "      <td>NaN</td>\n",
              "      <td>NaN</td>\n",
              "    </tr>\n",
              "  </tbody>\n",
              "</table>\n",
              "</div>"
            ],
            "text/plain": [
              "           state county_and_city geo_type  ... driving  transit  walking\n",
              "275810  New York    Yates County   county  ...  290.56      NaN      NaN\n",
              "275811  New York    Yates County   county  ...  303.29      NaN      NaN\n",
              "\n",
              "[2 rows x 7 columns]"
            ]
          },
          "metadata": {
            "tags": []
          },
          "execution_count": 124
        }
      ]
    },
    {
      "cell_type": "code",
      "metadata": {
        "id": "v2-edOZzyOoc",
        "colab_type": "code",
        "colab": {
          "base_uri": "https://localhost:8080/",
          "height": 139
        },
        "outputId": "1cd47343-6d1c-4895-d430-5cd714afc505"
      },
      "source": [
        "NY_AppleMobility_data['county'] = NY_AppleMobility_data['county_and_city']"
      ],
      "execution_count": 125,
      "outputs": [
        {
          "output_type": "stream",
          "text": [
            "/usr/local/lib/python3.6/dist-packages/ipykernel_launcher.py:1: SettingWithCopyWarning: \n",
            "A value is trying to be set on a copy of a slice from a DataFrame.\n",
            "Try using .loc[row_indexer,col_indexer] = value instead\n",
            "\n",
            "See the caveats in the documentation: https://pandas.pydata.org/pandas-docs/stable/user_guide/indexing.html#returning-a-view-versus-a-copy\n",
            "  \"\"\"Entry point for launching an IPython kernel.\n"
          ],
          "name": "stderr"
        }
      ]
    },
    {
      "cell_type": "code",
      "metadata": {
        "id": "tZ6j4v0_yDR7",
        "colab_type": "code",
        "colab": {
          "base_uri": "https://localhost:8080/",
          "height": 111
        },
        "outputId": "cce28486-93e7-4a0e-ebef-1ee9fa96c34f"
      },
      "source": [
        "NY_AppleMobility_data = NY_AppleMobility_data[['state','county','date','driving','transit','walking']]\n",
        "\n",
        "NY_AppleMobility_data.tail(2)"
      ],
      "execution_count": 126,
      "outputs": [
        {
          "output_type": "execute_result",
          "data": {
            "text/html": [
              "<div>\n",
              "<style scoped>\n",
              "    .dataframe tbody tr th:only-of-type {\n",
              "        vertical-align: middle;\n",
              "    }\n",
              "\n",
              "    .dataframe tbody tr th {\n",
              "        vertical-align: top;\n",
              "    }\n",
              "\n",
              "    .dataframe thead th {\n",
              "        text-align: right;\n",
              "    }\n",
              "</style>\n",
              "<table border=\"1\" class=\"dataframe\">\n",
              "  <thead>\n",
              "    <tr style=\"text-align: right;\">\n",
              "      <th></th>\n",
              "      <th>state</th>\n",
              "      <th>county</th>\n",
              "      <th>date</th>\n",
              "      <th>driving</th>\n",
              "      <th>transit</th>\n",
              "      <th>walking</th>\n",
              "    </tr>\n",
              "  </thead>\n",
              "  <tbody>\n",
              "    <tr>\n",
              "      <th>275810</th>\n",
              "      <td>New York</td>\n",
              "      <td>Yates County</td>\n",
              "      <td>2020-08-12</td>\n",
              "      <td>290.56</td>\n",
              "      <td>NaN</td>\n",
              "      <td>NaN</td>\n",
              "    </tr>\n",
              "    <tr>\n",
              "      <th>275811</th>\n",
              "      <td>New York</td>\n",
              "      <td>Yates County</td>\n",
              "      <td>2020-08-13</td>\n",
              "      <td>303.29</td>\n",
              "      <td>NaN</td>\n",
              "      <td>NaN</td>\n",
              "    </tr>\n",
              "  </tbody>\n",
              "</table>\n",
              "</div>"
            ],
            "text/plain": [
              "           state        county        date  driving  transit  walking\n",
              "275810  New York  Yates County  2020-08-12   290.56      NaN      NaN\n",
              "275811  New York  Yates County  2020-08-13   303.29      NaN      NaN"
            ]
          },
          "metadata": {
            "tags": []
          },
          "execution_count": 126
        }
      ]
    },
    {
      "cell_type": "code",
      "metadata": {
        "id": "JOMM7wT0yYNo",
        "colab_type": "code",
        "colab": {
          "base_uri": "https://localhost:8080/",
          "height": 34
        },
        "outputId": "f027b071-bbca-4b66-b1c9-9d307954c798"
      },
      "source": [
        "NY_mobility_data = pd.merge(NY_GoogleMobility_data,NY_AppleMobility_data,how='outer' ,on=['state','county','date'])\n",
        "NY_mobility_data.shape"
      ],
      "execution_count": 127,
      "outputs": [
        {
          "output_type": "execute_result",
          "data": {
            "text/plain": [
              "(14328, 12)"
            ]
          },
          "metadata": {
            "tags": []
          },
          "execution_count": 127
        }
      ]
    },
    {
      "cell_type": "code",
      "metadata": {
        "id": "jyFwKMItyc2n",
        "colab_type": "code",
        "colab": {
          "base_uri": "https://localhost:8080/",
          "height": 343
        },
        "outputId": "cfe50f62-8a5f-4b21-cce8-7dc4922ac2ea"
      },
      "source": [
        "NY_mobility_data = NY_mobility_data.fillna(0)\n",
        "NY_mobility_data.tail()"
      ],
      "execution_count": 128,
      "outputs": [
        {
          "output_type": "execute_result",
          "data": {
            "text/html": [
              "<div>\n",
              "<style scoped>\n",
              "    .dataframe tbody tr th:only-of-type {\n",
              "        vertical-align: middle;\n",
              "    }\n",
              "\n",
              "    .dataframe tbody tr th {\n",
              "        vertical-align: top;\n",
              "    }\n",
              "\n",
              "    .dataframe thead th {\n",
              "        text-align: right;\n",
              "    }\n",
              "</style>\n",
              "<table border=\"1\" class=\"dataframe\">\n",
              "  <thead>\n",
              "    <tr style=\"text-align: right;\">\n",
              "      <th></th>\n",
              "      <th>state</th>\n",
              "      <th>county</th>\n",
              "      <th>date</th>\n",
              "      <th>retail and recreation</th>\n",
              "      <th>grocery and pharmacy</th>\n",
              "      <th>parks</th>\n",
              "      <th>transit stations</th>\n",
              "      <th>workplaces</th>\n",
              "      <th>residential</th>\n",
              "      <th>driving</th>\n",
              "      <th>transit</th>\n",
              "      <th>walking</th>\n",
              "    </tr>\n",
              "  </thead>\n",
              "  <tbody>\n",
              "    <tr>\n",
              "      <th>14323</th>\n",
              "      <td>New York</td>\n",
              "      <td>Yates County</td>\n",
              "      <td>2020-02-12</td>\n",
              "      <td>0.0</td>\n",
              "      <td>0.0</td>\n",
              "      <td>0.0</td>\n",
              "      <td>0.0</td>\n",
              "      <td>0.0</td>\n",
              "      <td>0.0</td>\n",
              "      <td>33.30</td>\n",
              "      <td>0.0</td>\n",
              "      <td>0.0</td>\n",
              "    </tr>\n",
              "    <tr>\n",
              "      <th>14324</th>\n",
              "      <td>New York</td>\n",
              "      <td>Yates County</td>\n",
              "      <td>2020-02-13</td>\n",
              "      <td>0.0</td>\n",
              "      <td>0.0</td>\n",
              "      <td>0.0</td>\n",
              "      <td>0.0</td>\n",
              "      <td>0.0</td>\n",
              "      <td>0.0</td>\n",
              "      <td>30.28</td>\n",
              "      <td>0.0</td>\n",
              "      <td>0.0</td>\n",
              "    </tr>\n",
              "    <tr>\n",
              "      <th>14325</th>\n",
              "      <td>New York</td>\n",
              "      <td>Yates County</td>\n",
              "      <td>2020-02-14</td>\n",
              "      <td>0.0</td>\n",
              "      <td>0.0</td>\n",
              "      <td>0.0</td>\n",
              "      <td>0.0</td>\n",
              "      <td>0.0</td>\n",
              "      <td>0.0</td>\n",
              "      <td>78.01</td>\n",
              "      <td>0.0</td>\n",
              "      <td>0.0</td>\n",
              "    </tr>\n",
              "    <tr>\n",
              "      <th>14326</th>\n",
              "      <td>New York</td>\n",
              "      <td>Yates County</td>\n",
              "      <td>2020-08-12</td>\n",
              "      <td>0.0</td>\n",
              "      <td>0.0</td>\n",
              "      <td>0.0</td>\n",
              "      <td>0.0</td>\n",
              "      <td>0.0</td>\n",
              "      <td>0.0</td>\n",
              "      <td>290.56</td>\n",
              "      <td>0.0</td>\n",
              "      <td>0.0</td>\n",
              "    </tr>\n",
              "    <tr>\n",
              "      <th>14327</th>\n",
              "      <td>New York</td>\n",
              "      <td>Yates County</td>\n",
              "      <td>2020-08-13</td>\n",
              "      <td>0.0</td>\n",
              "      <td>0.0</td>\n",
              "      <td>0.0</td>\n",
              "      <td>0.0</td>\n",
              "      <td>0.0</td>\n",
              "      <td>0.0</td>\n",
              "      <td>303.29</td>\n",
              "      <td>0.0</td>\n",
              "      <td>0.0</td>\n",
              "    </tr>\n",
              "  </tbody>\n",
              "</table>\n",
              "</div>"
            ],
            "text/plain": [
              "          state        county        date  ...  driving  transit  walking\n",
              "14323  New York  Yates County  2020-02-12  ...    33.30      0.0      0.0\n",
              "14324  New York  Yates County  2020-02-13  ...    30.28      0.0      0.0\n",
              "14325  New York  Yates County  2020-02-14  ...    78.01      0.0      0.0\n",
              "14326  New York  Yates County  2020-08-12  ...   290.56      0.0      0.0\n",
              "14327  New York  Yates County  2020-08-13  ...   303.29      0.0      0.0\n",
              "\n",
              "[5 rows x 12 columns]"
            ]
          },
          "metadata": {
            "tags": []
          },
          "execution_count": 128
        }
      ]
    },
    {
      "cell_type": "markdown",
      "metadata": {
        "id": "wt9hz8VbynTJ",
        "colab_type": "text"
      },
      "source": [
        "### Queens county mobility data"
      ]
    },
    {
      "cell_type": "code",
      "metadata": {
        "id": "jpUMP5KiynBn",
        "colab_type": "code",
        "colab": {
          "base_uri": "https://localhost:8080/",
          "height": 360
        },
        "outputId": "4284aeed-16bd-42b5-941e-a301d3050a5b"
      },
      "source": [
        "queens_mobility_data = NY_mobility_data[NY_mobility_data['county'] == 'Queens County']\n",
        "print(queens_mobility_data.shape)\n",
        "queens_mobility_data.tail()"
      ],
      "execution_count": 129,
      "outputs": [
        {
          "output_type": "stream",
          "text": [
            "(214, 12)\n"
          ],
          "name": "stdout"
        },
        {
          "output_type": "execute_result",
          "data": {
            "text/html": [
              "<div>\n",
              "<style scoped>\n",
              "    .dataframe tbody tr th:only-of-type {\n",
              "        vertical-align: middle;\n",
              "    }\n",
              "\n",
              "    .dataframe tbody tr th {\n",
              "        vertical-align: top;\n",
              "    }\n",
              "\n",
              "    .dataframe thead th {\n",
              "        text-align: right;\n",
              "    }\n",
              "</style>\n",
              "<table border=\"1\" class=\"dataframe\">\n",
              "  <thead>\n",
              "    <tr style=\"text-align: right;\">\n",
              "      <th></th>\n",
              "      <th>state</th>\n",
              "      <th>county</th>\n",
              "      <th>date</th>\n",
              "      <th>retail and recreation</th>\n",
              "      <th>grocery and pharmacy</th>\n",
              "      <th>parks</th>\n",
              "      <th>transit stations</th>\n",
              "      <th>workplaces</th>\n",
              "      <th>residential</th>\n",
              "      <th>driving</th>\n",
              "      <th>transit</th>\n",
              "      <th>walking</th>\n",
              "    </tr>\n",
              "  </thead>\n",
              "  <tbody>\n",
              "    <tr>\n",
              "      <th>13129</th>\n",
              "      <td>New York</td>\n",
              "      <td>Queens County</td>\n",
              "      <td>2020-02-12</td>\n",
              "      <td>0.0</td>\n",
              "      <td>0.0</td>\n",
              "      <td>0.0</td>\n",
              "      <td>0.0</td>\n",
              "      <td>0.0</td>\n",
              "      <td>0.0</td>\n",
              "      <td>3.27</td>\n",
              "      <td>0.0</td>\n",
              "      <td>0.0</td>\n",
              "    </tr>\n",
              "    <tr>\n",
              "      <th>13130</th>\n",
              "      <td>New York</td>\n",
              "      <td>Queens County</td>\n",
              "      <td>2020-02-13</td>\n",
              "      <td>0.0</td>\n",
              "      <td>0.0</td>\n",
              "      <td>0.0</td>\n",
              "      <td>0.0</td>\n",
              "      <td>0.0</td>\n",
              "      <td>0.0</td>\n",
              "      <td>14.60</td>\n",
              "      <td>0.0</td>\n",
              "      <td>0.0</td>\n",
              "    </tr>\n",
              "    <tr>\n",
              "      <th>13131</th>\n",
              "      <td>New York</td>\n",
              "      <td>Queens County</td>\n",
              "      <td>2020-02-14</td>\n",
              "      <td>0.0</td>\n",
              "      <td>0.0</td>\n",
              "      <td>0.0</td>\n",
              "      <td>0.0</td>\n",
              "      <td>0.0</td>\n",
              "      <td>0.0</td>\n",
              "      <td>34.10</td>\n",
              "      <td>0.0</td>\n",
              "      <td>0.0</td>\n",
              "    </tr>\n",
              "    <tr>\n",
              "      <th>13132</th>\n",
              "      <td>New York</td>\n",
              "      <td>Queens County</td>\n",
              "      <td>2020-08-12</td>\n",
              "      <td>0.0</td>\n",
              "      <td>0.0</td>\n",
              "      <td>0.0</td>\n",
              "      <td>0.0</td>\n",
              "      <td>0.0</td>\n",
              "      <td>0.0</td>\n",
              "      <td>26.37</td>\n",
              "      <td>0.0</td>\n",
              "      <td>0.0</td>\n",
              "    </tr>\n",
              "    <tr>\n",
              "      <th>13133</th>\n",
              "      <td>New York</td>\n",
              "      <td>Queens County</td>\n",
              "      <td>2020-08-13</td>\n",
              "      <td>0.0</td>\n",
              "      <td>0.0</td>\n",
              "      <td>0.0</td>\n",
              "      <td>0.0</td>\n",
              "      <td>0.0</td>\n",
              "      <td>0.0</td>\n",
              "      <td>26.34</td>\n",
              "      <td>0.0</td>\n",
              "      <td>0.0</td>\n",
              "    </tr>\n",
              "  </tbody>\n",
              "</table>\n",
              "</div>"
            ],
            "text/plain": [
              "          state         county        date  ...  driving  transit  walking\n",
              "13129  New York  Queens County  2020-02-12  ...     3.27      0.0      0.0\n",
              "13130  New York  Queens County  2020-02-13  ...    14.60      0.0      0.0\n",
              "13131  New York  Queens County  2020-02-14  ...    34.10      0.0      0.0\n",
              "13132  New York  Queens County  2020-08-12  ...    26.37      0.0      0.0\n",
              "13133  New York  Queens County  2020-08-13  ...    26.34      0.0      0.0\n",
              "\n",
              "[5 rows x 12 columns]"
            ]
          },
          "metadata": {
            "tags": []
          },
          "execution_count": 129
        }
      ]
    },
    {
      "cell_type": "code",
      "metadata": {
        "id": "US9FN7MjzDIm",
        "colab_type": "code",
        "colab": {
          "base_uri": "https://localhost:8080/",
          "height": 343
        },
        "outputId": "d46c0cba-59a1-4e3f-f828-9da408769670"
      },
      "source": [
        "queens_mobility_data.head()"
      ],
      "execution_count": 130,
      "outputs": [
        {
          "output_type": "execute_result",
          "data": {
            "text/html": [
              "<div>\n",
              "<style scoped>\n",
              "    .dataframe tbody tr th:only-of-type {\n",
              "        vertical-align: middle;\n",
              "    }\n",
              "\n",
              "    .dataframe tbody tr th {\n",
              "        vertical-align: top;\n",
              "    }\n",
              "\n",
              "    .dataframe thead th {\n",
              "        text-align: right;\n",
              "    }\n",
              "</style>\n",
              "<table border=\"1\" class=\"dataframe\">\n",
              "  <thead>\n",
              "    <tr style=\"text-align: right;\">\n",
              "      <th></th>\n",
              "      <th>state</th>\n",
              "      <th>county</th>\n",
              "      <th>date</th>\n",
              "      <th>retail and recreation</th>\n",
              "      <th>grocery and pharmacy</th>\n",
              "      <th>parks</th>\n",
              "      <th>transit stations</th>\n",
              "      <th>workplaces</th>\n",
              "      <th>residential</th>\n",
              "      <th>driving</th>\n",
              "      <th>transit</th>\n",
              "      <th>walking</th>\n",
              "    </tr>\n",
              "  </thead>\n",
              "  <tbody>\n",
              "    <tr>\n",
              "      <th>7160</th>\n",
              "      <td>New York</td>\n",
              "      <td>Queens County</td>\n",
              "      <td>2020-02-15</td>\n",
              "      <td>-2.0</td>\n",
              "      <td>-5.0</td>\n",
              "      <td>-11.0</td>\n",
              "      <td>-5.0</td>\n",
              "      <td>2.0</td>\n",
              "      <td>0.0</td>\n",
              "      <td>15.43</td>\n",
              "      <td>0.0</td>\n",
              "      <td>0.0</td>\n",
              "    </tr>\n",
              "    <tr>\n",
              "      <th>7161</th>\n",
              "      <td>New York</td>\n",
              "      <td>Queens County</td>\n",
              "      <td>2020-02-16</td>\n",
              "      <td>1.0</td>\n",
              "      <td>-5.0</td>\n",
              "      <td>5.0</td>\n",
              "      <td>-5.0</td>\n",
              "      <td>-1.0</td>\n",
              "      <td>-1.0</td>\n",
              "      <td>-2.23</td>\n",
              "      <td>0.0</td>\n",
              "      <td>0.0</td>\n",
              "    </tr>\n",
              "    <tr>\n",
              "      <th>7162</th>\n",
              "      <td>New York</td>\n",
              "      <td>Queens County</td>\n",
              "      <td>2020-02-17</td>\n",
              "      <td>7.0</td>\n",
              "      <td>0.0</td>\n",
              "      <td>39.0</td>\n",
              "      <td>-16.0</td>\n",
              "      <td>-38.0</td>\n",
              "      <td>10.0</td>\n",
              "      <td>1.85</td>\n",
              "      <td>0.0</td>\n",
              "      <td>0.0</td>\n",
              "    </tr>\n",
              "    <tr>\n",
              "      <th>7163</th>\n",
              "      <td>New York</td>\n",
              "      <td>Queens County</td>\n",
              "      <td>2020-02-18</td>\n",
              "      <td>0.0</td>\n",
              "      <td>-4.0</td>\n",
              "      <td>-7.0</td>\n",
              "      <td>-5.0</td>\n",
              "      <td>-9.0</td>\n",
              "      <td>3.0</td>\n",
              "      <td>4.02</td>\n",
              "      <td>0.0</td>\n",
              "      <td>0.0</td>\n",
              "    </tr>\n",
              "    <tr>\n",
              "      <th>7164</th>\n",
              "      <td>New York</td>\n",
              "      <td>Queens County</td>\n",
              "      <td>2020-02-19</td>\n",
              "      <td>3.0</td>\n",
              "      <td>-2.0</td>\n",
              "      <td>14.0</td>\n",
              "      <td>-5.0</td>\n",
              "      <td>-9.0</td>\n",
              "      <td>2.0</td>\n",
              "      <td>5.73</td>\n",
              "      <td>0.0</td>\n",
              "      <td>0.0</td>\n",
              "    </tr>\n",
              "  </tbody>\n",
              "</table>\n",
              "</div>"
            ],
            "text/plain": [
              "         state         county        date  ...  driving  transit  walking\n",
              "7160  New York  Queens County  2020-02-15  ...    15.43      0.0      0.0\n",
              "7161  New York  Queens County  2020-02-16  ...    -2.23      0.0      0.0\n",
              "7162  New York  Queens County  2020-02-17  ...     1.85      0.0      0.0\n",
              "7163  New York  Queens County  2020-02-18  ...     4.02      0.0      0.0\n",
              "7164  New York  Queens County  2020-02-19  ...     5.73      0.0      0.0\n",
              "\n",
              "[5 rows x 12 columns]"
            ]
          },
          "metadata": {
            "tags": []
          },
          "execution_count": 130
        }
      ]
    },
    {
      "cell_type": "markdown",
      "metadata": {
        "id": "2Os8Y4dDzGKB",
        "colab_type": "text"
      },
      "source": [
        "## Social Distancing metric "
      ]
    },
    {
      "cell_type": "code",
      "metadata": {
        "id": "5XZINlEzzIsj",
        "colab_type": "code",
        "colab": {
          "base_uri": "https://localhost:8080/",
          "height": 111
        },
        "outputId": "0931c9f8-7f01-4ea4-b2a4-bfcbf33f9171"
      },
      "source": [
        "socialdistancing_url = 'https://raw.githubusercontent.com/descarteslabs/DL-COVID-19/master/DL-us-mobility-daterow.csv'\n",
        "\n",
        "socialdistancing_file = wget.download(socialdistancing_url)\n",
        "socialdistancing_data = pd.read_csv(socialdistancing_file,low_memory=False)\n",
        "socialdistancing_data.tail(2)\n",
        "\n"
      ],
      "execution_count": 131,
      "outputs": [
        {
          "output_type": "execute_result",
          "data": {
            "text/html": [
              "<div>\n",
              "<style scoped>\n",
              "    .dataframe tbody tr th:only-of-type {\n",
              "        vertical-align: middle;\n",
              "    }\n",
              "\n",
              "    .dataframe tbody tr th {\n",
              "        vertical-align: top;\n",
              "    }\n",
              "\n",
              "    .dataframe thead th {\n",
              "        text-align: right;\n",
              "    }\n",
              "</style>\n",
              "<table border=\"1\" class=\"dataframe\">\n",
              "  <thead>\n",
              "    <tr style=\"text-align: right;\">\n",
              "      <th></th>\n",
              "      <th>date</th>\n",
              "      <th>country_code</th>\n",
              "      <th>admin_level</th>\n",
              "      <th>admin1</th>\n",
              "      <th>admin2</th>\n",
              "      <th>fips</th>\n",
              "      <th>samples</th>\n",
              "      <th>m50</th>\n",
              "      <th>m50_index</th>\n",
              "    </tr>\n",
              "  </thead>\n",
              "  <tbody>\n",
              "    <tr>\n",
              "      <th>437898</th>\n",
              "      <td>2020-08-10</td>\n",
              "      <td>US</td>\n",
              "      <td>2</td>\n",
              "      <td>Wyoming</td>\n",
              "      <td>Uinta County</td>\n",
              "      <td>56041.0</td>\n",
              "      <td>699</td>\n",
              "      <td>5.901</td>\n",
              "      <td>188</td>\n",
              "    </tr>\n",
              "    <tr>\n",
              "      <th>437899</th>\n",
              "      <td>2020-08-11</td>\n",
              "      <td>US</td>\n",
              "      <td>2</td>\n",
              "      <td>Wyoming</td>\n",
              "      <td>Uinta County</td>\n",
              "      <td>56041.0</td>\n",
              "      <td>722</td>\n",
              "      <td>5.796</td>\n",
              "      <td>185</td>\n",
              "    </tr>\n",
              "  </tbody>\n",
              "</table>\n",
              "</div>"
            ],
            "text/plain": [
              "              date country_code  admin_level  ... samples    m50  m50_index\n",
              "437898  2020-08-10           US            2  ...     699  5.901        188\n",
              "437899  2020-08-11           US            2  ...     722  5.796        185\n",
              "\n",
              "[2 rows x 9 columns]"
            ]
          },
          "metadata": {
            "tags": []
          },
          "execution_count": 131
        }
      ]
    },
    {
      "cell_type": "code",
      "metadata": {
        "id": "Ugy0ycqY022N",
        "colab_type": "code",
        "colab": {
          "base_uri": "https://localhost:8080/",
          "height": 204
        },
        "outputId": "d275134e-da0b-4218-9308-f6c57c6cbb5f"
      },
      "source": [
        "newyork_socialdistancing_data= socialdistancing_data[(socialdistancing_data['admin1']=='New York') &\n",
        "                                           (socialdistancing_data['admin_level']== 2)]\n",
        "\n",
        "newyork_socialdistancing_data.head()"
      ],
      "execution_count": 132,
      "outputs": [
        {
          "output_type": "execute_result",
          "data": {
            "text/html": [
              "<div>\n",
              "<style scoped>\n",
              "    .dataframe tbody tr th:only-of-type {\n",
              "        vertical-align: middle;\n",
              "    }\n",
              "\n",
              "    .dataframe tbody tr th {\n",
              "        vertical-align: top;\n",
              "    }\n",
              "\n",
              "    .dataframe thead th {\n",
              "        text-align: right;\n",
              "    }\n",
              "</style>\n",
              "<table border=\"1\" class=\"dataframe\">\n",
              "  <thead>\n",
              "    <tr style=\"text-align: right;\">\n",
              "      <th></th>\n",
              "      <th>date</th>\n",
              "      <th>country_code</th>\n",
              "      <th>admin_level</th>\n",
              "      <th>admin1</th>\n",
              "      <th>admin2</th>\n",
              "      <th>fips</th>\n",
              "      <th>samples</th>\n",
              "      <th>m50</th>\n",
              "      <th>m50_index</th>\n",
              "    </tr>\n",
              "  </thead>\n",
              "  <tbody>\n",
              "    <tr>\n",
              "      <th>254507</th>\n",
              "      <td>2020-03-01</td>\n",
              "      <td>US</td>\n",
              "      <td>2</td>\n",
              "      <td>New York</td>\n",
              "      <td>Albany County</td>\n",
              "      <td>36001.0</td>\n",
              "      <td>4095</td>\n",
              "      <td>2.616</td>\n",
              "      <td>54</td>\n",
              "    </tr>\n",
              "    <tr>\n",
              "      <th>254508</th>\n",
              "      <td>2020-03-02</td>\n",
              "      <td>US</td>\n",
              "      <td>2</td>\n",
              "      <td>New York</td>\n",
              "      <td>Albany County</td>\n",
              "      <td>36001.0</td>\n",
              "      <td>4376</td>\n",
              "      <td>4.680</td>\n",
              "      <td>97</td>\n",
              "    </tr>\n",
              "    <tr>\n",
              "      <th>254509</th>\n",
              "      <td>2020-03-03</td>\n",
              "      <td>US</td>\n",
              "      <td>2</td>\n",
              "      <td>New York</td>\n",
              "      <td>Albany County</td>\n",
              "      <td>36001.0</td>\n",
              "      <td>4686</td>\n",
              "      <td>4.778</td>\n",
              "      <td>100</td>\n",
              "    </tr>\n",
              "    <tr>\n",
              "      <th>254510</th>\n",
              "      <td>2020-03-04</td>\n",
              "      <td>US</td>\n",
              "      <td>2</td>\n",
              "      <td>New York</td>\n",
              "      <td>Albany County</td>\n",
              "      <td>36001.0</td>\n",
              "      <td>4842</td>\n",
              "      <td>4.486</td>\n",
              "      <td>93</td>\n",
              "    </tr>\n",
              "    <tr>\n",
              "      <th>254511</th>\n",
              "      <td>2020-03-05</td>\n",
              "      <td>US</td>\n",
              "      <td>2</td>\n",
              "      <td>New York</td>\n",
              "      <td>Albany County</td>\n",
              "      <td>36001.0</td>\n",
              "      <td>4548</td>\n",
              "      <td>5.129</td>\n",
              "      <td>107</td>\n",
              "    </tr>\n",
              "  </tbody>\n",
              "</table>\n",
              "</div>"
            ],
            "text/plain": [
              "              date country_code  admin_level  ... samples    m50  m50_index\n",
              "254507  2020-03-01           US            2  ...    4095  2.616         54\n",
              "254508  2020-03-02           US            2  ...    4376  4.680         97\n",
              "254509  2020-03-03           US            2  ...    4686  4.778        100\n",
              "254510  2020-03-04           US            2  ...    4842  4.486         93\n",
              "254511  2020-03-05           US            2  ...    4548  5.129        107\n",
              "\n",
              "[5 rows x 9 columns]"
            ]
          },
          "metadata": {
            "tags": []
          },
          "execution_count": 132
        }
      ]
    },
    {
      "cell_type": "code",
      "metadata": {
        "id": "-1cKTY4Q1IC2",
        "colab_type": "code",
        "colab": {
          "base_uri": "https://localhost:8080/",
          "height": 221
        },
        "outputId": "e7ad7399-ae3a-4c48-e893-bb40505d46b1"
      },
      "source": [
        "queens_social_distancing = newyork_socialdistancing_data[newyork_socialdistancing_data['admin2'] == 'Queens County']\n",
        "print(queens_social_distancing.shape)\n",
        "queens_social_distancing.head()"
      ],
      "execution_count": 133,
      "outputs": [
        {
          "output_type": "stream",
          "text": [
            "(162, 9)\n"
          ],
          "name": "stdout"
        },
        {
          "output_type": "execute_result",
          "data": {
            "text/html": [
              "<div>\n",
              "<style scoped>\n",
              "    .dataframe tbody tr th:only-of-type {\n",
              "        vertical-align: middle;\n",
              "    }\n",
              "\n",
              "    .dataframe tbody tr th {\n",
              "        vertical-align: top;\n",
              "    }\n",
              "\n",
              "    .dataframe thead th {\n",
              "        text-align: right;\n",
              "    }\n",
              "</style>\n",
              "<table border=\"1\" class=\"dataframe\">\n",
              "  <thead>\n",
              "    <tr style=\"text-align: right;\">\n",
              "      <th></th>\n",
              "      <th>date</th>\n",
              "      <th>country_code</th>\n",
              "      <th>admin_level</th>\n",
              "      <th>admin1</th>\n",
              "      <th>admin2</th>\n",
              "      <th>fips</th>\n",
              "      <th>samples</th>\n",
              "      <th>m50</th>\n",
              "      <th>m50_index</th>\n",
              "    </tr>\n",
              "  </thead>\n",
              "  <tbody>\n",
              "    <tr>\n",
              "      <th>260825</th>\n",
              "      <td>2020-03-01</td>\n",
              "      <td>US</td>\n",
              "      <td>2</td>\n",
              "      <td>New York</td>\n",
              "      <td>Queens County</td>\n",
              "      <td>36081.0</td>\n",
              "      <td>26218</td>\n",
              "      <td>1.339</td>\n",
              "      <td>35</td>\n",
              "    </tr>\n",
              "    <tr>\n",
              "      <th>260826</th>\n",
              "      <td>2020-03-02</td>\n",
              "      <td>US</td>\n",
              "      <td>2</td>\n",
              "      <td>New York</td>\n",
              "      <td>Queens County</td>\n",
              "      <td>36081.0</td>\n",
              "      <td>27435</td>\n",
              "      <td>3.813</td>\n",
              "      <td>99</td>\n",
              "    </tr>\n",
              "    <tr>\n",
              "      <th>260827</th>\n",
              "      <td>2020-03-03</td>\n",
              "      <td>US</td>\n",
              "      <td>2</td>\n",
              "      <td>New York</td>\n",
              "      <td>Queens County</td>\n",
              "      <td>36081.0</td>\n",
              "      <td>28459</td>\n",
              "      <td>3.747</td>\n",
              "      <td>98</td>\n",
              "    </tr>\n",
              "    <tr>\n",
              "      <th>260828</th>\n",
              "      <td>2020-03-04</td>\n",
              "      <td>US</td>\n",
              "      <td>2</td>\n",
              "      <td>New York</td>\n",
              "      <td>Queens County</td>\n",
              "      <td>36081.0</td>\n",
              "      <td>29480</td>\n",
              "      <td>3.822</td>\n",
              "      <td>99</td>\n",
              "    </tr>\n",
              "    <tr>\n",
              "      <th>260829</th>\n",
              "      <td>2020-03-05</td>\n",
              "      <td>US</td>\n",
              "      <td>2</td>\n",
              "      <td>New York</td>\n",
              "      <td>Queens County</td>\n",
              "      <td>36081.0</td>\n",
              "      <td>27602</td>\n",
              "      <td>4.052</td>\n",
              "      <td>106</td>\n",
              "    </tr>\n",
              "  </tbody>\n",
              "</table>\n",
              "</div>"
            ],
            "text/plain": [
              "              date country_code  admin_level  ... samples    m50  m50_index\n",
              "260825  2020-03-01           US            2  ...   26218  1.339         35\n",
              "260826  2020-03-02           US            2  ...   27435  3.813         99\n",
              "260827  2020-03-03           US            2  ...   28459  3.747         98\n",
              "260828  2020-03-04           US            2  ...   29480  3.822         99\n",
              "260829  2020-03-05           US            2  ...   27602  4.052        106\n",
              "\n",
              "[5 rows x 9 columns]"
            ]
          },
          "metadata": {
            "tags": []
          },
          "execution_count": 133
        }
      ]
    },
    {
      "cell_type": "markdown",
      "metadata": {
        "id": "VoGlA2H_zDyo",
        "colab_type": "text"
      },
      "source": [
        "# Load Data"
      ]
    },
    {
      "cell_type": "code",
      "metadata": {
        "id": "uVC4kAhWzMFC",
        "colab_type": "code",
        "colab": {
          "base_uri": "https://localhost:8080/",
          "height": 54
        },
        "outputId": "e5c4755c-dbe1-4aaf-a9a9-82734bd8809c"
      },
      "source": [
        "from google.colab import drive\n",
        "drive.mount('/content/drive')"
      ],
      "execution_count": 134,
      "outputs": [
        {
          "output_type": "stream",
          "text": [
            "Drive already mounted at /content/drive; to attempt to forcibly remount, call drive.mount(\"/content/drive\", force_remount=True).\n"
          ],
          "name": "stdout"
        }
      ]
    },
    {
      "cell_type": "code",
      "metadata": {
        "id": "iv4Q80_bzVl_",
        "colab_type": "code",
        "colab": {
          "base_uri": "https://localhost:8080/",
          "height": 34
        },
        "outputId": "6b5478f5-c605-4348-ad39-fcc14723f465"
      },
      "source": [
        "!ls /content/drive/'Shared drives'/'CMPE 295- Master Project'/Covid19-data"
      ],
      "execution_count": 135,
      "outputs": [
        {
          "output_type": "stream",
          "text": [
            "CA_Covid-19.csv  NY_Covid-19.csv  Queens_county.csv\n"
          ],
          "name": "stdout"
        }
      ]
    },
    {
      "cell_type": "code",
      "metadata": {
        "id": "q5iAt96TzHII",
        "colab_type": "code",
        "colab": {
          "base_uri": "https://localhost:8080/",
          "height": 204
        },
        "outputId": "c32dfb42-d4b1-41ea-f748-b87d5208ad88"
      },
      "source": [
        "queens_covidcases = pd.read_csv('/content/drive/Shared drives/CMPE 295- Master Project/Covid19-data/Queens_county.csv', low_memory =False)\n",
        "queens_covidcases.tail()"
      ],
      "execution_count": 136,
      "outputs": [
        {
          "output_type": "execute_result",
          "data": {
            "text/html": [
              "<div>\n",
              "<style scoped>\n",
              "    .dataframe tbody tr th:only-of-type {\n",
              "        vertical-align: middle;\n",
              "    }\n",
              "\n",
              "    .dataframe tbody tr th {\n",
              "        vertical-align: top;\n",
              "    }\n",
              "\n",
              "    .dataframe thead th {\n",
              "        text-align: right;\n",
              "    }\n",
              "</style>\n",
              "<table border=\"1\" class=\"dataframe\">\n",
              "  <thead>\n",
              "    <tr style=\"text-align: right;\">\n",
              "      <th></th>\n",
              "      <th>Date</th>\n",
              "      <th>Province_State</th>\n",
              "      <th>FIPS</th>\n",
              "      <th>Confirmed</th>\n",
              "      <th>Deaths</th>\n",
              "      <th>New cases</th>\n",
              "      <th>New deaths</th>\n",
              "    </tr>\n",
              "  </thead>\n",
              "  <tbody>\n",
              "    <tr>\n",
              "      <th>201</th>\n",
              "      <td>8/5/20</td>\n",
              "      <td>New York</td>\n",
              "      <td>36081.0</td>\n",
              "      <td>0</td>\n",
              "      <td>0</td>\n",
              "      <td>636</td>\n",
              "      <td>29</td>\n",
              "    </tr>\n",
              "    <tr>\n",
              "      <th>202</th>\n",
              "      <td>8/6/20</td>\n",
              "      <td>New York</td>\n",
              "      <td>36081.0</td>\n",
              "      <td>0</td>\n",
              "      <td>0</td>\n",
              "      <td>703</td>\n",
              "      <td>2</td>\n",
              "    </tr>\n",
              "    <tr>\n",
              "      <th>203</th>\n",
              "      <td>8/7/20</td>\n",
              "      <td>New York</td>\n",
              "      <td>36081.0</td>\n",
              "      <td>0</td>\n",
              "      <td>0</td>\n",
              "      <td>714</td>\n",
              "      <td>4</td>\n",
              "    </tr>\n",
              "    <tr>\n",
              "      <th>204</th>\n",
              "      <td>8/8/20</td>\n",
              "      <td>New York</td>\n",
              "      <td>36081.0</td>\n",
              "      <td>0</td>\n",
              "      <td>0</td>\n",
              "      <td>703</td>\n",
              "      <td>8</td>\n",
              "    </tr>\n",
              "    <tr>\n",
              "      <th>205</th>\n",
              "      <td>8/9/20</td>\n",
              "      <td>New York</td>\n",
              "      <td>36081.0</td>\n",
              "      <td>0</td>\n",
              "      <td>0</td>\n",
              "      <td>515</td>\n",
              "      <td>6</td>\n",
              "    </tr>\n",
              "  </tbody>\n",
              "</table>\n",
              "</div>"
            ],
            "text/plain": [
              "       Date Province_State     FIPS  Confirmed  Deaths  New cases  New deaths\n",
              "201  8/5/20       New York  36081.0          0       0        636          29\n",
              "202  8/6/20       New York  36081.0          0       0        703           2\n",
              "203  8/7/20       New York  36081.0          0       0        714           4\n",
              "204  8/8/20       New York  36081.0          0       0        703           8\n",
              "205  8/9/20       New York  36081.0          0       0        515           6"
            ]
          },
          "metadata": {
            "tags": []
          },
          "execution_count": 136
        }
      ]
    },
    {
      "cell_type": "markdown",
      "metadata": {
        "id": "BjTZXInw1lDD",
        "colab_type": "text"
      },
      "source": [
        "## Fix Date"
      ]
    },
    {
      "cell_type": "code",
      "metadata": {
        "id": "o588srH92Bps",
        "colab_type": "code",
        "colab": {}
      },
      "source": [
        "def fixDate(x):\n",
        "  arr = x.split('/')\n",
        "  m = arr[0]\n",
        "  d = arr[1]\n",
        "  y = arr[2]\n",
        "\n",
        "  if int(m) < 10:\n",
        "    m = '0'+str(m)\n",
        "  if int(d) < 10:\n",
        "    d = '0'+str(d)\n",
        "  return '20'+y+'-'+m+'-'+d"
      ],
      "execution_count": 137,
      "outputs": []
    },
    {
      "cell_type": "code",
      "metadata": {
        "id": "YK1kLIBh1m5o",
        "colab_type": "code",
        "colab": {
          "base_uri": "https://localhost:8080/",
          "height": 419
        },
        "outputId": "23b9b480-2702-4d92-d5bd-f52b9b34c129"
      },
      "source": [
        "queens_covidcases['Date'] = queens_covidcases['Date'].apply(lambda x: fixDate(x))\n",
        "queens_covidcases.reset_index(drop=True)"
      ],
      "execution_count": 138,
      "outputs": [
        {
          "output_type": "execute_result",
          "data": {
            "text/html": [
              "<div>\n",
              "<style scoped>\n",
              "    .dataframe tbody tr th:only-of-type {\n",
              "        vertical-align: middle;\n",
              "    }\n",
              "\n",
              "    .dataframe tbody tr th {\n",
              "        vertical-align: top;\n",
              "    }\n",
              "\n",
              "    .dataframe thead th {\n",
              "        text-align: right;\n",
              "    }\n",
              "</style>\n",
              "<table border=\"1\" class=\"dataframe\">\n",
              "  <thead>\n",
              "    <tr style=\"text-align: right;\">\n",
              "      <th></th>\n",
              "      <th>Date</th>\n",
              "      <th>Province_State</th>\n",
              "      <th>FIPS</th>\n",
              "      <th>Confirmed</th>\n",
              "      <th>Deaths</th>\n",
              "      <th>New cases</th>\n",
              "      <th>New deaths</th>\n",
              "    </tr>\n",
              "  </thead>\n",
              "  <tbody>\n",
              "    <tr>\n",
              "      <th>0</th>\n",
              "      <td>2020-01-22</td>\n",
              "      <td>New York</td>\n",
              "      <td>36081.0</td>\n",
              "      <td>0</td>\n",
              "      <td>0</td>\n",
              "      <td>0</td>\n",
              "      <td>0</td>\n",
              "    </tr>\n",
              "    <tr>\n",
              "      <th>1</th>\n",
              "      <td>2020-01-23</td>\n",
              "      <td>New York</td>\n",
              "      <td>36081.0</td>\n",
              "      <td>0</td>\n",
              "      <td>0</td>\n",
              "      <td>0</td>\n",
              "      <td>0</td>\n",
              "    </tr>\n",
              "    <tr>\n",
              "      <th>2</th>\n",
              "      <td>2020-01-24</td>\n",
              "      <td>New York</td>\n",
              "      <td>36081.0</td>\n",
              "      <td>0</td>\n",
              "      <td>0</td>\n",
              "      <td>0</td>\n",
              "      <td>0</td>\n",
              "    </tr>\n",
              "    <tr>\n",
              "      <th>3</th>\n",
              "      <td>2020-01-25</td>\n",
              "      <td>New York</td>\n",
              "      <td>36081.0</td>\n",
              "      <td>0</td>\n",
              "      <td>0</td>\n",
              "      <td>0</td>\n",
              "      <td>0</td>\n",
              "    </tr>\n",
              "    <tr>\n",
              "      <th>4</th>\n",
              "      <td>2020-01-26</td>\n",
              "      <td>New York</td>\n",
              "      <td>36081.0</td>\n",
              "      <td>0</td>\n",
              "      <td>0</td>\n",
              "      <td>0</td>\n",
              "      <td>0</td>\n",
              "    </tr>\n",
              "    <tr>\n",
              "      <th>...</th>\n",
              "      <td>...</td>\n",
              "      <td>...</td>\n",
              "      <td>...</td>\n",
              "      <td>...</td>\n",
              "      <td>...</td>\n",
              "      <td>...</td>\n",
              "      <td>...</td>\n",
              "    </tr>\n",
              "    <tr>\n",
              "      <th>201</th>\n",
              "      <td>2020-08-05</td>\n",
              "      <td>New York</td>\n",
              "      <td>36081.0</td>\n",
              "      <td>0</td>\n",
              "      <td>0</td>\n",
              "      <td>636</td>\n",
              "      <td>29</td>\n",
              "    </tr>\n",
              "    <tr>\n",
              "      <th>202</th>\n",
              "      <td>2020-08-06</td>\n",
              "      <td>New York</td>\n",
              "      <td>36081.0</td>\n",
              "      <td>0</td>\n",
              "      <td>0</td>\n",
              "      <td>703</td>\n",
              "      <td>2</td>\n",
              "    </tr>\n",
              "    <tr>\n",
              "      <th>203</th>\n",
              "      <td>2020-08-07</td>\n",
              "      <td>New York</td>\n",
              "      <td>36081.0</td>\n",
              "      <td>0</td>\n",
              "      <td>0</td>\n",
              "      <td>714</td>\n",
              "      <td>4</td>\n",
              "    </tr>\n",
              "    <tr>\n",
              "      <th>204</th>\n",
              "      <td>2020-08-08</td>\n",
              "      <td>New York</td>\n",
              "      <td>36081.0</td>\n",
              "      <td>0</td>\n",
              "      <td>0</td>\n",
              "      <td>703</td>\n",
              "      <td>8</td>\n",
              "    </tr>\n",
              "    <tr>\n",
              "      <th>205</th>\n",
              "      <td>2020-08-09</td>\n",
              "      <td>New York</td>\n",
              "      <td>36081.0</td>\n",
              "      <td>0</td>\n",
              "      <td>0</td>\n",
              "      <td>515</td>\n",
              "      <td>6</td>\n",
              "    </tr>\n",
              "  </tbody>\n",
              "</table>\n",
              "<p>206 rows × 7 columns</p>\n",
              "</div>"
            ],
            "text/plain": [
              "           Date Province_State     FIPS  ...  Deaths  New cases  New deaths\n",
              "0    2020-01-22       New York  36081.0  ...       0          0           0\n",
              "1    2020-01-23       New York  36081.0  ...       0          0           0\n",
              "2    2020-01-24       New York  36081.0  ...       0          0           0\n",
              "3    2020-01-25       New York  36081.0  ...       0          0           0\n",
              "4    2020-01-26       New York  36081.0  ...       0          0           0\n",
              "..          ...            ...      ...  ...     ...        ...         ...\n",
              "201  2020-08-05       New York  36081.0  ...       0        636          29\n",
              "202  2020-08-06       New York  36081.0  ...       0        703           2\n",
              "203  2020-08-07       New York  36081.0  ...       0        714           4\n",
              "204  2020-08-08       New York  36081.0  ...       0        703           8\n",
              "205  2020-08-09       New York  36081.0  ...       0        515           6\n",
              "\n",
              "[206 rows x 7 columns]"
            ]
          },
          "metadata": {
            "tags": []
          },
          "execution_count": 138
        }
      ]
    },
    {
      "cell_type": "markdown",
      "metadata": {
        "id": "cWlc5fLE6MtJ",
        "colab_type": "text"
      },
      "source": [
        "# Formula Computation from Baseline Value"
      ]
    },
    {
      "cell_type": "markdown",
      "metadata": {
        "id": "yOl124UA9qsR",
        "colab_type": "text"
      },
      "source": [
        "## For Social Distancing Metric"
      ]
    },
    {
      "cell_type": "code",
      "metadata": {
        "id": "kLTlhNgL_n4v",
        "colab_type": "code",
        "colab": {}
      },
      "source": [
        "start_date = '2020-05-05'\n",
        "end_date = '2020-05-13'\n",
        "#start_date = '2020-02-17'\n",
        "#end_date = '2020-03-07'\n",
        "mask = (queens_social_distancing['date'] >= start_date) & (queens_social_distancing['date'] <= end_date)"
      ],
      "execution_count": 139,
      "outputs": []
    },
    {
      "cell_type": "code",
      "metadata": {
        "id": "yjnV-NbQ9p21",
        "colab_type": "code",
        "colab": {
          "base_uri": "https://localhost:8080/",
          "height": 0
        },
        "outputId": "ab2e1eae-f8fd-433b-d631-606ad34ec893"
      },
      "source": [
        "df_queens_social_distancing =  queens_social_distancing.loc[mask]\n",
        "df_queens_social_distancing"
      ],
      "execution_count": 140,
      "outputs": [
        {
          "output_type": "execute_result",
          "data": {
            "text/html": [
              "<div>\n",
              "<style scoped>\n",
              "    .dataframe tbody tr th:only-of-type {\n",
              "        vertical-align: middle;\n",
              "    }\n",
              "\n",
              "    .dataframe tbody tr th {\n",
              "        vertical-align: top;\n",
              "    }\n",
              "\n",
              "    .dataframe thead th {\n",
              "        text-align: right;\n",
              "    }\n",
              "</style>\n",
              "<table border=\"1\" class=\"dataframe\">\n",
              "  <thead>\n",
              "    <tr style=\"text-align: right;\">\n",
              "      <th></th>\n",
              "      <th>date</th>\n",
              "      <th>country_code</th>\n",
              "      <th>admin_level</th>\n",
              "      <th>admin1</th>\n",
              "      <th>admin2</th>\n",
              "      <th>fips</th>\n",
              "      <th>samples</th>\n",
              "      <th>m50</th>\n",
              "      <th>m50_index</th>\n",
              "    </tr>\n",
              "  </thead>\n",
              "  <tbody>\n",
              "    <tr>\n",
              "      <th>260889</th>\n",
              "      <td>2020-05-05</td>\n",
              "      <td>US</td>\n",
              "      <td>2</td>\n",
              "      <td>New York</td>\n",
              "      <td>Queens County</td>\n",
              "      <td>36081.0</td>\n",
              "      <td>26633</td>\n",
              "      <td>0.021</td>\n",
              "      <td>0</td>\n",
              "    </tr>\n",
              "    <tr>\n",
              "      <th>260890</th>\n",
              "      <td>2020-05-06</td>\n",
              "      <td>US</td>\n",
              "      <td>2</td>\n",
              "      <td>New York</td>\n",
              "      <td>Queens County</td>\n",
              "      <td>36081.0</td>\n",
              "      <td>27819</td>\n",
              "      <td>0.020</td>\n",
              "      <td>0</td>\n",
              "    </tr>\n",
              "    <tr>\n",
              "      <th>260891</th>\n",
              "      <td>2020-05-07</td>\n",
              "      <td>US</td>\n",
              "      <td>2</td>\n",
              "      <td>New York</td>\n",
              "      <td>Queens County</td>\n",
              "      <td>36081.0</td>\n",
              "      <td>29651</td>\n",
              "      <td>0.022</td>\n",
              "      <td>0</td>\n",
              "    </tr>\n",
              "    <tr>\n",
              "      <th>260892</th>\n",
              "      <td>2020-05-08</td>\n",
              "      <td>US</td>\n",
              "      <td>2</td>\n",
              "      <td>New York</td>\n",
              "      <td>Queens County</td>\n",
              "      <td>36081.0</td>\n",
              "      <td>27390</td>\n",
              "      <td>0.019</td>\n",
              "      <td>0</td>\n",
              "    </tr>\n",
              "    <tr>\n",
              "      <th>260893</th>\n",
              "      <td>2020-05-09</td>\n",
              "      <td>US</td>\n",
              "      <td>2</td>\n",
              "      <td>New York</td>\n",
              "      <td>Queens County</td>\n",
              "      <td>36081.0</td>\n",
              "      <td>27340</td>\n",
              "      <td>0.017</td>\n",
              "      <td>0</td>\n",
              "    </tr>\n",
              "    <tr>\n",
              "      <th>260894</th>\n",
              "      <td>2020-05-10</td>\n",
              "      <td>US</td>\n",
              "      <td>2</td>\n",
              "      <td>New York</td>\n",
              "      <td>Queens County</td>\n",
              "      <td>36081.0</td>\n",
              "      <td>27660</td>\n",
              "      <td>0.017</td>\n",
              "      <td>0</td>\n",
              "    </tr>\n",
              "    <tr>\n",
              "      <th>260895</th>\n",
              "      <td>2020-05-11</td>\n",
              "      <td>US</td>\n",
              "      <td>2</td>\n",
              "      <td>New York</td>\n",
              "      <td>Queens County</td>\n",
              "      <td>36081.0</td>\n",
              "      <td>27697</td>\n",
              "      <td>0.017</td>\n",
              "      <td>0</td>\n",
              "    </tr>\n",
              "    <tr>\n",
              "      <th>260896</th>\n",
              "      <td>2020-05-12</td>\n",
              "      <td>US</td>\n",
              "      <td>2</td>\n",
              "      <td>New York</td>\n",
              "      <td>Queens County</td>\n",
              "      <td>36081.0</td>\n",
              "      <td>29950</td>\n",
              "      <td>0.021</td>\n",
              "      <td>0</td>\n",
              "    </tr>\n",
              "    <tr>\n",
              "      <th>260897</th>\n",
              "      <td>2020-05-13</td>\n",
              "      <td>US</td>\n",
              "      <td>2</td>\n",
              "      <td>New York</td>\n",
              "      <td>Queens County</td>\n",
              "      <td>36081.0</td>\n",
              "      <td>28052</td>\n",
              "      <td>0.020</td>\n",
              "      <td>0</td>\n",
              "    </tr>\n",
              "  </tbody>\n",
              "</table>\n",
              "</div>"
            ],
            "text/plain": [
              "              date country_code  admin_level  ... samples    m50  m50_index\n",
              "260889  2020-05-05           US            2  ...   26633  0.021          0\n",
              "260890  2020-05-06           US            2  ...   27819  0.020          0\n",
              "260891  2020-05-07           US            2  ...   29651  0.022          0\n",
              "260892  2020-05-08           US            2  ...   27390  0.019          0\n",
              "260893  2020-05-09           US            2  ...   27340  0.017          0\n",
              "260894  2020-05-10           US            2  ...   27660  0.017          0\n",
              "260895  2020-05-11           US            2  ...   27697  0.017          0\n",
              "260896  2020-05-12           US            2  ...   29950  0.021          0\n",
              "260897  2020-05-13           US            2  ...   28052  0.020          0\n",
              "\n",
              "[9 rows x 9 columns]"
            ]
          },
          "metadata": {
            "tags": []
          },
          "execution_count": 140
        }
      ]
    },
    {
      "cell_type": "code",
      "metadata": {
        "id": "JxsRz9b7HVPL",
        "colab_type": "code",
        "colab": {
          "base_uri": "https://localhost:8080/",
          "height": 0
        },
        "outputId": "2b0277fd-87e2-4ced-8b5f-74c73c46ca51"
      },
      "source": [
        "queens_social_distancing_base = (\n",
        "    df_queens_social_distancing\n",
        "    .pipe(lambda x: x.assign(gains_pctg=x[\"m50\"]))\n",
        "    .groupby(['admin1','admin2','fips'])\n",
        "    .agg({\"gains_pctg\": \"median\"})\n",
        "    .reset_index()\n",
        "    .rename(columns={\"gains_pctg\": \"m50\"})\n",
        ")\n",
        "queens_social_distancing_base"
      ],
      "execution_count": 141,
      "outputs": [
        {
          "output_type": "execute_result",
          "data": {
            "text/html": [
              "<div>\n",
              "<style scoped>\n",
              "    .dataframe tbody tr th:only-of-type {\n",
              "        vertical-align: middle;\n",
              "    }\n",
              "\n",
              "    .dataframe tbody tr th {\n",
              "        vertical-align: top;\n",
              "    }\n",
              "\n",
              "    .dataframe thead th {\n",
              "        text-align: right;\n",
              "    }\n",
              "</style>\n",
              "<table border=\"1\" class=\"dataframe\">\n",
              "  <thead>\n",
              "    <tr style=\"text-align: right;\">\n",
              "      <th></th>\n",
              "      <th>admin1</th>\n",
              "      <th>admin2</th>\n",
              "      <th>fips</th>\n",
              "      <th>m50</th>\n",
              "    </tr>\n",
              "  </thead>\n",
              "  <tbody>\n",
              "    <tr>\n",
              "      <th>0</th>\n",
              "      <td>New York</td>\n",
              "      <td>Queens County</td>\n",
              "      <td>36081.0</td>\n",
              "      <td>0.02</td>\n",
              "    </tr>\n",
              "  </tbody>\n",
              "</table>\n",
              "</div>"
            ],
            "text/plain": [
              "     admin1         admin2     fips   m50\n",
              "0  New York  Queens County  36081.0  0.02"
            ]
          },
          "metadata": {
            "tags": []
          },
          "execution_count": 141
        }
      ]
    },
    {
      "cell_type": "code",
      "metadata": {
        "id": "hK5cNe0QNycD",
        "colab_type": "code",
        "colab": {
          "base_uri": "https://localhost:8080/",
          "height": 0
        },
        "outputId": "b8fbfb5f-07fc-4a83-9504-9670c2c0846e"
      },
      "source": [
        "queens_social_distancing_base.at[0,'m50']"
      ],
      "execution_count": 142,
      "outputs": [
        {
          "output_type": "execute_result",
          "data": {
            "text/plain": [
              "0.02"
            ]
          },
          "metadata": {
            "tags": []
          },
          "execution_count": 142
        }
      ]
    },
    {
      "cell_type": "markdown",
      "metadata": {
        "id": "I_fwHD0dN9Ib",
        "colab_type": "text"
      },
      "source": [
        "computing formula : m50_baseline = 100 * m50/queens_social_distancing_base.at[0,'m50']"
      ]
    },
    {
      "cell_type": "code",
      "metadata": {
        "id": "eyhpyF3pNaLs",
        "colab_type": "code",
        "colab": {}
      },
      "source": [
        "socialdistancing_data['m50_baseline'] = socialdistancing_data['m50'].apply(lambda x: 100 * (x/queens_social_distancing_base.at[0,'m50']))\n"
      ],
      "execution_count": 143,
      "outputs": []
    },
    {
      "cell_type": "code",
      "metadata": {
        "id": "5AX9IVzKPAl3",
        "colab_type": "code",
        "colab": {
          "base_uri": "https://localhost:8080/",
          "height": 0
        },
        "outputId": "7461d274-3566-4d8c-dde8-9c8e2f515009"
      },
      "source": [
        "socialdistancing_data[socialdistancing_data['admin1'] == 'California']"
      ],
      "execution_count": 144,
      "outputs": [
        {
          "output_type": "execute_result",
          "data": {
            "text/html": [
              "<div>\n",
              "<style scoped>\n",
              "    .dataframe tbody tr th:only-of-type {\n",
              "        vertical-align: middle;\n",
              "    }\n",
              "\n",
              "    .dataframe tbody tr th {\n",
              "        vertical-align: top;\n",
              "    }\n",
              "\n",
              "    .dataframe thead th {\n",
              "        text-align: right;\n",
              "    }\n",
              "</style>\n",
              "<table border=\"1\" class=\"dataframe\">\n",
              "  <thead>\n",
              "    <tr style=\"text-align: right;\">\n",
              "      <th></th>\n",
              "      <th>date</th>\n",
              "      <th>country_code</th>\n",
              "      <th>admin_level</th>\n",
              "      <th>admin1</th>\n",
              "      <th>admin2</th>\n",
              "      <th>fips</th>\n",
              "      <th>samples</th>\n",
              "      <th>m50</th>\n",
              "      <th>m50_index</th>\n",
              "      <th>m50_baseline</th>\n",
              "    </tr>\n",
              "  </thead>\n",
              "  <tbody>\n",
              "    <tr>\n",
              "      <th>26590</th>\n",
              "      <td>2020-03-01</td>\n",
              "      <td>US</td>\n",
              "      <td>1</td>\n",
              "      <td>California</td>\n",
              "      <td>NaN</td>\n",
              "      <td>6.0</td>\n",
              "      <td>451282</td>\n",
              "      <td>4.122</td>\n",
              "      <td>60</td>\n",
              "      <td>20610.0</td>\n",
              "    </tr>\n",
              "    <tr>\n",
              "      <th>26591</th>\n",
              "      <td>2020-03-02</td>\n",
              "      <td>US</td>\n",
              "      <td>1</td>\n",
              "      <td>California</td>\n",
              "      <td>NaN</td>\n",
              "      <td>6.0</td>\n",
              "      <td>457175</td>\n",
              "      <td>6.725</td>\n",
              "      <td>98</td>\n",
              "      <td>33625.0</td>\n",
              "    </tr>\n",
              "    <tr>\n",
              "      <th>26592</th>\n",
              "      <td>2020-03-03</td>\n",
              "      <td>US</td>\n",
              "      <td>1</td>\n",
              "      <td>California</td>\n",
              "      <td>NaN</td>\n",
              "      <td>6.0</td>\n",
              "      <td>472598</td>\n",
              "      <td>6.842</td>\n",
              "      <td>100</td>\n",
              "      <td>34210.0</td>\n",
              "    </tr>\n",
              "    <tr>\n",
              "      <th>26593</th>\n",
              "      <td>2020-03-04</td>\n",
              "      <td>US</td>\n",
              "      <td>1</td>\n",
              "      <td>California</td>\n",
              "      <td>NaN</td>\n",
              "      <td>6.0</td>\n",
              "      <td>481255</td>\n",
              "      <td>6.827</td>\n",
              "      <td>99</td>\n",
              "      <td>34135.0</td>\n",
              "    </tr>\n",
              "    <tr>\n",
              "      <th>26594</th>\n",
              "      <td>2020-03-05</td>\n",
              "      <td>US</td>\n",
              "      <td>1</td>\n",
              "      <td>California</td>\n",
              "      <td>NaN</td>\n",
              "      <td>6.0</td>\n",
              "      <td>458159</td>\n",
              "      <td>7.270</td>\n",
              "      <td>106</td>\n",
              "      <td>36350.0</td>\n",
              "    </tr>\n",
              "    <tr>\n",
              "      <th>...</th>\n",
              "      <td>...</td>\n",
              "      <td>...</td>\n",
              "      <td>...</td>\n",
              "      <td>...</td>\n",
              "      <td>...</td>\n",
              "      <td>...</td>\n",
              "      <td>...</td>\n",
              "      <td>...</td>\n",
              "      <td>...</td>\n",
              "      <td>...</td>\n",
              "    </tr>\n",
              "    <tr>\n",
              "      <th>35425</th>\n",
              "      <td>2020-08-07</td>\n",
              "      <td>US</td>\n",
              "      <td>2</td>\n",
              "      <td>California</td>\n",
              "      <td>Yuba County</td>\n",
              "      <td>6115.0</td>\n",
              "      <td>1260</td>\n",
              "      <td>5.792</td>\n",
              "      <td>61</td>\n",
              "      <td>28960.0</td>\n",
              "    </tr>\n",
              "    <tr>\n",
              "      <th>35426</th>\n",
              "      <td>2020-08-08</td>\n",
              "      <td>US</td>\n",
              "      <td>2</td>\n",
              "      <td>California</td>\n",
              "      <td>Yuba County</td>\n",
              "      <td>6115.0</td>\n",
              "      <td>1183</td>\n",
              "      <td>3.720</td>\n",
              "      <td>39</td>\n",
              "      <td>18600.0</td>\n",
              "    </tr>\n",
              "    <tr>\n",
              "      <th>35427</th>\n",
              "      <td>2020-08-09</td>\n",
              "      <td>US</td>\n",
              "      <td>2</td>\n",
              "      <td>California</td>\n",
              "      <td>Yuba County</td>\n",
              "      <td>6115.0</td>\n",
              "      <td>1231</td>\n",
              "      <td>1.465</td>\n",
              "      <td>15</td>\n",
              "      <td>7325.0</td>\n",
              "    </tr>\n",
              "    <tr>\n",
              "      <th>35428</th>\n",
              "      <td>2020-08-10</td>\n",
              "      <td>US</td>\n",
              "      <td>2</td>\n",
              "      <td>California</td>\n",
              "      <td>Yuba County</td>\n",
              "      <td>6115.0</td>\n",
              "      <td>1297</td>\n",
              "      <td>4.869</td>\n",
              "      <td>51</td>\n",
              "      <td>24345.0</td>\n",
              "    </tr>\n",
              "    <tr>\n",
              "      <th>35429</th>\n",
              "      <td>2020-08-11</td>\n",
              "      <td>US</td>\n",
              "      <td>2</td>\n",
              "      <td>California</td>\n",
              "      <td>Yuba County</td>\n",
              "      <td>6115.0</td>\n",
              "      <td>1315</td>\n",
              "      <td>5.174</td>\n",
              "      <td>54</td>\n",
              "      <td>25870.0</td>\n",
              "    </tr>\n",
              "  </tbody>\n",
              "</table>\n",
              "<p>8840 rows × 10 columns</p>\n",
              "</div>"
            ],
            "text/plain": [
              "             date country_code  admin_level  ...    m50 m50_index  m50_baseline\n",
              "26590  2020-03-01           US            1  ...  4.122        60       20610.0\n",
              "26591  2020-03-02           US            1  ...  6.725        98       33625.0\n",
              "26592  2020-03-03           US            1  ...  6.842       100       34210.0\n",
              "26593  2020-03-04           US            1  ...  6.827        99       34135.0\n",
              "26594  2020-03-05           US            1  ...  7.270       106       36350.0\n",
              "...           ...          ...          ...  ...    ...       ...           ...\n",
              "35425  2020-08-07           US            2  ...  5.792        61       28960.0\n",
              "35426  2020-08-08           US            2  ...  3.720        39       18600.0\n",
              "35427  2020-08-09           US            2  ...  1.465        15        7325.0\n",
              "35428  2020-08-10           US            2  ...  4.869        51       24345.0\n",
              "35429  2020-08-11           US            2  ...  5.174        54       25870.0\n",
              "\n",
              "[8840 rows x 10 columns]"
            ]
          },
          "metadata": {
            "tags": []
          },
          "execution_count": 144
        }
      ]
    },
    {
      "cell_type": "markdown",
      "metadata": {
        "id": "xnChmkatzLCU",
        "colab_type": "text"
      },
      "source": [
        "# Rolling Average for Social Distancing"
      ]
    },
    {
      "cell_type": "code",
      "metadata": {
        "id": "2O5o2HP3xGPt",
        "colab_type": "code",
        "colab": {
          "base_uri": "https://localhost:8080/",
          "height": 142
        },
        "outputId": "fe5c93b8-0cce-468f-c6d5-d749915cbb2c"
      },
      "source": [
        "queens_social_distancing = newyork_socialdistancing_data[newyork_socialdistancing_data['admin2'] == 'Queens County']\n",
        "queens_social_distancing.head(3)"
      ],
      "execution_count": 145,
      "outputs": [
        {
          "output_type": "execute_result",
          "data": {
            "text/html": [
              "<div>\n",
              "<style scoped>\n",
              "    .dataframe tbody tr th:only-of-type {\n",
              "        vertical-align: middle;\n",
              "    }\n",
              "\n",
              "    .dataframe tbody tr th {\n",
              "        vertical-align: top;\n",
              "    }\n",
              "\n",
              "    .dataframe thead th {\n",
              "        text-align: right;\n",
              "    }\n",
              "</style>\n",
              "<table border=\"1\" class=\"dataframe\">\n",
              "  <thead>\n",
              "    <tr style=\"text-align: right;\">\n",
              "      <th></th>\n",
              "      <th>date</th>\n",
              "      <th>country_code</th>\n",
              "      <th>admin_level</th>\n",
              "      <th>admin1</th>\n",
              "      <th>admin2</th>\n",
              "      <th>fips</th>\n",
              "      <th>samples</th>\n",
              "      <th>m50</th>\n",
              "      <th>m50_index</th>\n",
              "    </tr>\n",
              "  </thead>\n",
              "  <tbody>\n",
              "    <tr>\n",
              "      <th>260825</th>\n",
              "      <td>2020-03-01</td>\n",
              "      <td>US</td>\n",
              "      <td>2</td>\n",
              "      <td>New York</td>\n",
              "      <td>Queens County</td>\n",
              "      <td>36081.0</td>\n",
              "      <td>26218</td>\n",
              "      <td>1.339</td>\n",
              "      <td>35</td>\n",
              "    </tr>\n",
              "    <tr>\n",
              "      <th>260826</th>\n",
              "      <td>2020-03-02</td>\n",
              "      <td>US</td>\n",
              "      <td>2</td>\n",
              "      <td>New York</td>\n",
              "      <td>Queens County</td>\n",
              "      <td>36081.0</td>\n",
              "      <td>27435</td>\n",
              "      <td>3.813</td>\n",
              "      <td>99</td>\n",
              "    </tr>\n",
              "    <tr>\n",
              "      <th>260827</th>\n",
              "      <td>2020-03-03</td>\n",
              "      <td>US</td>\n",
              "      <td>2</td>\n",
              "      <td>New York</td>\n",
              "      <td>Queens County</td>\n",
              "      <td>36081.0</td>\n",
              "      <td>28459</td>\n",
              "      <td>3.747</td>\n",
              "      <td>98</td>\n",
              "    </tr>\n",
              "  </tbody>\n",
              "</table>\n",
              "</div>"
            ],
            "text/plain": [
              "              date country_code  admin_level  ... samples    m50  m50_index\n",
              "260825  2020-03-01           US            2  ...   26218  1.339         35\n",
              "260826  2020-03-02           US            2  ...   27435  3.813         99\n",
              "260827  2020-03-03           US            2  ...   28459  3.747         98\n",
              "\n",
              "[3 rows x 9 columns]"
            ]
          },
          "metadata": {
            "tags": []
          },
          "execution_count": 145
        }
      ]
    },
    {
      "cell_type": "code",
      "metadata": {
        "id": "aOYjSgRHvXTp",
        "colab_type": "code",
        "colab": {
          "base_uri": "https://localhost:8080/",
          "height": 221
        },
        "outputId": "70c2a29f-5e05-4e0e-df1e-e28403c98ba6"
      },
      "source": [
        "queens_social_distancing.iloc[:,8]"
      ],
      "execution_count": 146,
      "outputs": [
        {
          "output_type": "execute_result",
          "data": {
            "text/plain": [
              "260825     35\n",
              "260826     99\n",
              "260827     98\n",
              "260828     99\n",
              "260829    106\n",
              "         ... \n",
              "260982     22\n",
              "260983     18\n",
              "260984      5\n",
              "260985     21\n",
              "260986     22\n",
              "Name: m50_index, Length: 162, dtype: int64"
            ]
          },
          "metadata": {
            "tags": []
          },
          "execution_count": 146
        }
      ]
    },
    {
      "cell_type": "code",
      "metadata": {
        "id": "tFsKoYV0q5C2",
        "colab_type": "code",
        "colab": {}
      },
      "source": [
        "import pandas as pd\n",
        "import altair as alt\n",
        "\n",
        "base_queens = alt.Chart(queens_social_distancing).mark_bar().encode(\n",
        "    x='monthdate(date):O',\n",
        ").properties(\n",
        "    width=500\n",
        ")"
      ],
      "execution_count": 147,
      "outputs": []
    },
    {
      "cell_type": "code",
      "metadata": {
        "id": "tqU7apTow2AH",
        "colab_type": "code",
        "colab": {
          "base_uri": "https://localhost:8080/",
          "height": 408
        },
        "outputId": "df8126e3-fc6c-4917-c000-6b938b0a83f9"
      },
      "source": [
        "base_queens.encode(y=\"m50_index\").properties(title='Queens County Social Distancing Mteric(m50_index)')"
      ],
      "execution_count": 148,
      "outputs": [
        {
          "output_type": "execute_result",
          "data": {
            "text/plain": [
              "alt.Chart(...)"
            ],
            "text/html": [
              "\n",
              "<div id=\"altair-viz-ba4a49c134c1479bb8e8a5591e591725\"></div>\n",
              "<script type=\"text/javascript\">\n",
              "  (function(spec, embedOpt){\n",
              "    let outputDiv = document.currentScript.previousElementSibling;\n",
              "    if (outputDiv.id !== \"altair-viz-ba4a49c134c1479bb8e8a5591e591725\") {\n",
              "      outputDiv = document.getElementById(\"altair-viz-ba4a49c134c1479bb8e8a5591e591725\");\n",
              "    }\n",
              "    const paths = {\n",
              "      \"vega\": \"https://cdn.jsdelivr.net/npm//vega@5?noext\",\n",
              "      \"vega-lib\": \"https://cdn.jsdelivr.net/npm//vega-lib?noext\",\n",
              "      \"vega-lite\": \"https://cdn.jsdelivr.net/npm//vega-lite@4.8.1?noext\",\n",
              "      \"vega-embed\": \"https://cdn.jsdelivr.net/npm//vega-embed@6?noext\",\n",
              "    };\n",
              "\n",
              "    function loadScript(lib) {\n",
              "      return new Promise(function(resolve, reject) {\n",
              "        var s = document.createElement('script');\n",
              "        s.src = paths[lib];\n",
              "        s.async = true;\n",
              "        s.onload = () => resolve(paths[lib]);\n",
              "        s.onerror = () => reject(`Error loading script: ${paths[lib]}`);\n",
              "        document.getElementsByTagName(\"head\")[0].appendChild(s);\n",
              "      });\n",
              "    }\n",
              "\n",
              "    function showError(err) {\n",
              "      outputDiv.innerHTML = `<div class=\"error\" style=\"color:red;\">${err}</div>`;\n",
              "      throw err;\n",
              "    }\n",
              "\n",
              "    function displayChart(vegaEmbed) {\n",
              "      vegaEmbed(outputDiv, spec, embedOpt)\n",
              "        .catch(err => showError(`Javascript Error: ${err.message}<br>This usually means there's a typo in your chart specification. See the javascript console for the full traceback.`));\n",
              "    }\n",
              "\n",
              "    if(typeof define === \"function\" && define.amd) {\n",
              "      requirejs.config({paths});\n",
              "      require([\"vega-embed\"], displayChart, err => showError(`Error loading script: ${err.message}`));\n",
              "    } else if (typeof vegaEmbed === \"function\") {\n",
              "      displayChart(vegaEmbed);\n",
              "    } else {\n",
              "      loadScript(\"vega\")\n",
              "        .then(() => loadScript(\"vega-lite\"))\n",
              "        .then(() => loadScript(\"vega-embed\"))\n",
              "        .catch(showError)\n",
              "        .then(() => displayChart(vegaEmbed));\n",
              "    }\n",
              "  })({\"config\": {\"view\": {\"continuousWidth\": 400, \"continuousHeight\": 300}}, \"data\": {\"name\": \"data-0af7e6cec378269ba0c35aa2adc44152\"}, \"mark\": \"bar\", \"encoding\": {\"x\": {\"type\": \"ordinal\", \"field\": \"date\", \"timeUnit\": \"monthdate\"}, \"y\": {\"type\": \"quantitative\", \"field\": \"m50_index\"}}, \"title\": \"Queens County Social Distancing Mteric(m50_index)\", \"width\": 500, \"$schema\": \"https://vega.github.io/schema/vega-lite/v4.8.1.json\", \"datasets\": {\"data-0af7e6cec378269ba0c35aa2adc44152\": [{\"date\": \"2020-03-01\", \"country_code\": \"US\", \"admin_level\": 2, \"admin1\": \"New York\", \"admin2\": \"Queens County\", \"fips\": 36081.0, \"samples\": 26218, \"m50\": 1.339, \"m50_index\": 35}, {\"date\": \"2020-03-02\", \"country_code\": \"US\", \"admin_level\": 2, \"admin1\": \"New York\", \"admin2\": \"Queens County\", \"fips\": 36081.0, \"samples\": 27435, \"m50\": 3.813, \"m50_index\": 99}, {\"date\": \"2020-03-03\", \"country_code\": \"US\", \"admin_level\": 2, \"admin1\": \"New York\", \"admin2\": \"Queens County\", \"fips\": 36081.0, \"samples\": 28459, \"m50\": 3.747, \"m50_index\": 98}, {\"date\": \"2020-03-04\", \"country_code\": \"US\", \"admin_level\": 2, \"admin1\": \"New York\", \"admin2\": \"Queens County\", \"fips\": 36081.0, \"samples\": 29480, \"m50\": 3.822, \"m50_index\": 99}, {\"date\": \"2020-03-05\", \"country_code\": \"US\", \"admin_level\": 2, \"admin1\": \"New York\", \"admin2\": \"Queens County\", \"fips\": 36081.0, \"samples\": 27602, \"m50\": 4.052, \"m50_index\": 106}, {\"date\": \"2020-03-06\", \"country_code\": \"US\", \"admin_level\": 2, \"admin1\": \"New York\", \"admin2\": \"Queens County\", \"fips\": 36081.0, \"samples\": 27713, \"m50\": 3.9210000000000003, \"m50_index\": 102}, {\"date\": \"2020-03-07\", \"country_code\": \"US\", \"admin_level\": 2, \"admin1\": \"New York\", \"admin2\": \"Queens County\", \"fips\": 36081.0, \"samples\": 27919, \"m50\": 2.189, \"m50_index\": 57}, {\"date\": \"2020-03-08\", \"country_code\": \"US\", \"admin_level\": 2, \"admin1\": \"New York\", \"admin2\": \"Queens County\", \"fips\": 36081.0, \"samples\": 29098, \"m50\": 1.172, \"m50_index\": 30}, {\"date\": \"2020-03-09\", \"country_code\": \"US\", \"admin_level\": 2, \"admin1\": \"New York\", \"admin2\": \"Queens County\", \"fips\": 36081.0, \"samples\": 29449, \"m50\": 3.528, \"m50_index\": 92}, {\"date\": \"2020-03-10\", \"country_code\": \"US\", \"admin_level\": 2, \"admin1\": \"New York\", \"admin2\": \"Queens County\", \"fips\": 36081.0, \"samples\": 28607, \"m50\": 3.375, \"m50_index\": 88}, {\"date\": \"2020-03-11\", \"country_code\": \"US\", \"admin_level\": 2, \"admin1\": \"New York\", \"admin2\": \"Queens County\", \"fips\": 36081.0, \"samples\": 28585, \"m50\": 3.495, \"m50_index\": 91}, {\"date\": \"2020-03-12\", \"country_code\": \"US\", \"admin_level\": 2, \"admin1\": \"New York\", \"admin2\": \"Queens County\", \"fips\": 36081.0, \"samples\": 28488, \"m50\": 3.193, \"m50_index\": 83}, {\"date\": \"2020-03-13\", \"country_code\": \"US\", \"admin_level\": 2, \"admin1\": \"New York\", \"admin2\": \"Queens County\", \"fips\": 36081.0, \"samples\": 27467, \"m50\": 2.8160000000000003, \"m50_index\": 73}, {\"date\": \"2020-03-14\", \"country_code\": \"US\", \"admin_level\": 2, \"admin1\": \"New York\", \"admin2\": \"Queens County\", \"fips\": 36081.0, \"samples\": 25669, \"m50\": 1.021, \"m50_index\": 26}, {\"date\": \"2020-03-15\", \"country_code\": \"US\", \"admin_level\": 2, \"admin1\": \"New York\", \"admin2\": \"Queens County\", \"fips\": 36081.0, \"samples\": 25555, \"m50\": 0.3, \"m50_index\": 7}, {\"date\": \"2020-03-16\", \"country_code\": \"US\", \"admin_level\": 2, \"admin1\": \"New York\", \"admin2\": \"Queens County\", \"fips\": 36081.0, \"samples\": 25482, \"m50\": 0.86, \"m50_index\": 22}, {\"date\": \"2020-03-17\", \"country_code\": \"US\", \"admin_level\": 2, \"admin1\": \"New York\", \"admin2\": \"Queens County\", \"fips\": 36081.0, \"samples\": 27584, \"m50\": 0.249, \"m50_index\": 6}, {\"date\": \"2020-03-18\", \"country_code\": \"US\", \"admin_level\": 2, \"admin1\": \"New York\", \"admin2\": \"Queens County\", \"fips\": 36081.0, \"samples\": 26104, \"m50\": 0.177, \"m50_index\": 4}, {\"date\": \"2020-03-19\", \"country_code\": \"US\", \"admin_level\": 2, \"admin1\": \"New York\", \"admin2\": \"Queens County\", \"fips\": 36081.0, \"samples\": 26152, \"m50\": 0.061, \"m50_index\": 1}, {\"date\": \"2020-03-20\", \"country_code\": \"US\", \"admin_level\": 2, \"admin1\": \"New York\", \"admin2\": \"Queens County\", \"fips\": 36081.0, \"samples\": 23521, \"m50\": 0.068, \"m50_index\": 1}, {\"date\": \"2020-03-21\", \"country_code\": \"US\", \"admin_level\": 2, \"admin1\": \"New York\", \"admin2\": \"Queens County\", \"fips\": 36081.0, \"samples\": 21635, \"m50\": 0.024, \"m50_index\": 0}, {\"date\": \"2020-03-22\", \"country_code\": \"US\", \"admin_level\": 2, \"admin1\": \"New York\", \"admin2\": \"Queens County\", \"fips\": 36081.0, \"samples\": 22604, \"m50\": 0.018000000000000002, \"m50_index\": 0}, {\"date\": \"2020-03-23\", \"country_code\": \"US\", \"admin_level\": 2, \"admin1\": \"New York\", \"admin2\": \"Queens County\", \"fips\": 36081.0, \"samples\": 24428, \"m50\": 0.017, \"m50_index\": 0}, {\"date\": \"2020-03-24\", \"country_code\": \"US\", \"admin_level\": 2, \"admin1\": \"New York\", \"admin2\": \"Queens County\", \"fips\": 36081.0, \"samples\": 25039, \"m50\": 0.02, \"m50_index\": 0}, {\"date\": \"2020-03-25\", \"country_code\": \"US\", \"admin_level\": 2, \"admin1\": \"New York\", \"admin2\": \"Queens County\", \"fips\": 36081.0, \"samples\": 23880, \"m50\": 0.018000000000000002, \"m50_index\": 0}, {\"date\": \"2020-03-26\", \"country_code\": \"US\", \"admin_level\": 2, \"admin1\": \"New York\", \"admin2\": \"Queens County\", \"fips\": 36081.0, \"samples\": 25243, \"m50\": 0.019, \"m50_index\": 0}, {\"date\": \"2020-03-27\", \"country_code\": \"US\", \"admin_level\": 2, \"admin1\": \"New York\", \"admin2\": \"Queens County\", \"fips\": 36081.0, \"samples\": 25761, \"m50\": 0.019, \"m50_index\": 0}, {\"date\": \"2020-03-28\", \"country_code\": \"US\", \"admin_level\": 2, \"admin1\": \"New York\", \"admin2\": \"Queens County\", \"fips\": 36081.0, \"samples\": 23756, \"m50\": 0.015, \"m50_index\": 0}, {\"date\": \"2020-03-29\", \"country_code\": \"US\", \"admin_level\": 2, \"admin1\": \"New York\", \"admin2\": \"Queens County\", \"fips\": 36081.0, \"samples\": 23988, \"m50\": 0.013999999999999999, \"m50_index\": 0}, {\"date\": \"2020-03-30\", \"country_code\": \"US\", \"admin_level\": 2, \"admin1\": \"New York\", \"admin2\": \"Queens County\", \"fips\": 36081.0, \"samples\": 25036, \"m50\": 0.016, \"m50_index\": 0}, {\"date\": \"2020-03-31\", \"country_code\": \"US\", \"admin_level\": 2, \"admin1\": \"New York\", \"admin2\": \"Queens County\", \"fips\": 36081.0, \"samples\": 24775, \"m50\": 0.016, \"m50_index\": 0}, {\"date\": \"2020-04-01\", \"country_code\": \"US\", \"admin_level\": 2, \"admin1\": \"New York\", \"admin2\": \"Queens County\", \"fips\": 36081.0, \"samples\": 24577, \"m50\": 0.016, \"m50_index\": 0}, {\"date\": \"2020-04-02\", \"country_code\": \"US\", \"admin_level\": 2, \"admin1\": \"New York\", \"admin2\": \"Queens County\", \"fips\": 36081.0, \"samples\": 24161, \"m50\": 0.017, \"m50_index\": 0}, {\"date\": \"2020-04-03\", \"country_code\": \"US\", \"admin_level\": 2, \"admin1\": \"New York\", \"admin2\": \"Queens County\", \"fips\": 36081.0, \"samples\": 23170, \"m50\": 0.016, \"m50_index\": 0}, {\"date\": \"2020-04-04\", \"country_code\": \"US\", \"admin_level\": 2, \"admin1\": \"New York\", \"admin2\": \"Queens County\", \"fips\": 36081.0, \"samples\": 22138, \"m50\": 0.016, \"m50_index\": 0}, {\"date\": \"2020-04-05\", \"country_code\": \"US\", \"admin_level\": 2, \"admin1\": \"New York\", \"admin2\": \"Queens County\", \"fips\": 36081.0, \"samples\": 25254, \"m50\": 0.015, \"m50_index\": 0}, {\"date\": \"2020-04-06\", \"country_code\": \"US\", \"admin_level\": 2, \"admin1\": \"New York\", \"admin2\": \"Queens County\", \"fips\": 36081.0, \"samples\": 22835, \"m50\": 0.017, \"m50_index\": 0}, {\"date\": \"2020-04-07\", \"country_code\": \"US\", \"admin_level\": 2, \"admin1\": \"New York\", \"admin2\": \"Queens County\", \"fips\": 36081.0, \"samples\": 23289, \"m50\": 0.017, \"m50_index\": 0}, {\"date\": \"2020-04-08\", \"country_code\": \"US\", \"admin_level\": 2, \"admin1\": \"New York\", \"admin2\": \"Queens County\", \"fips\": 36081.0, \"samples\": 23825, \"m50\": 0.016, \"m50_index\": 0}, {\"date\": \"2020-04-09\", \"country_code\": \"US\", \"admin_level\": 2, \"admin1\": \"New York\", \"admin2\": \"Queens County\", \"fips\": 36081.0, \"samples\": 23714, \"m50\": 0.015, \"m50_index\": 0}, {\"date\": \"2020-04-10\", \"country_code\": \"US\", \"admin_level\": 2, \"admin1\": \"New York\", \"admin2\": \"Queens County\", \"fips\": 36081.0, \"samples\": 22224, \"m50\": 0.015, \"m50_index\": 0}, {\"date\": \"2020-04-11\", \"country_code\": \"US\", \"admin_level\": 2, \"admin1\": \"New York\", \"admin2\": \"Queens County\", \"fips\": 36081.0, \"samples\": 23689, \"m50\": 0.015, \"m50_index\": 0}, {\"date\": \"2020-04-12\", \"country_code\": \"US\", \"admin_level\": 2, \"admin1\": \"New York\", \"admin2\": \"Queens County\", \"fips\": 36081.0, \"samples\": 23040, \"m50\": 0.013999999999999999, \"m50_index\": 0}, {\"date\": \"2020-04-13\", \"country_code\": \"US\", \"admin_level\": 2, \"admin1\": \"New York\", \"admin2\": \"Queens County\", \"fips\": 36081.0, \"samples\": 22462, \"m50\": 0.013999999999999999, \"m50_index\": 0}, {\"date\": \"2020-04-14\", \"country_code\": \"US\", \"admin_level\": 2, \"admin1\": \"New York\", \"admin2\": \"Queens County\", \"fips\": 36081.0, \"samples\": 24095, \"m50\": 0.017, \"m50_index\": 0}, {\"date\": \"2020-04-15\", \"country_code\": \"US\", \"admin_level\": 2, \"admin1\": \"New York\", \"admin2\": \"Queens County\", \"fips\": 36081.0, \"samples\": 25184, \"m50\": 0.017, \"m50_index\": 0}, {\"date\": \"2020-04-16\", \"country_code\": \"US\", \"admin_level\": 2, \"admin1\": \"New York\", \"admin2\": \"Queens County\", \"fips\": 36081.0, \"samples\": 24071, \"m50\": 0.017, \"m50_index\": 0}, {\"date\": \"2020-04-17\", \"country_code\": \"US\", \"admin_level\": 2, \"admin1\": \"New York\", \"admin2\": \"Queens County\", \"fips\": 36081.0, \"samples\": 24004, \"m50\": 0.018000000000000002, \"m50_index\": 0}, {\"date\": \"2020-04-18\", \"country_code\": \"US\", \"admin_level\": 2, \"admin1\": \"New York\", \"admin2\": \"Queens County\", \"fips\": 36081.0, \"samples\": 23458, \"m50\": 0.015, \"m50_index\": 0}, {\"date\": \"2020-04-19\", \"country_code\": \"US\", \"admin_level\": 2, \"admin1\": \"New York\", \"admin2\": \"Queens County\", \"fips\": 36081.0, \"samples\": 22917, \"m50\": 0.015, \"m50_index\": 0}, {\"date\": \"2020-04-21\", \"country_code\": \"US\", \"admin_level\": 2, \"admin1\": \"New York\", \"admin2\": \"Queens County\", \"fips\": 36081.0, \"samples\": 30068, \"m50\": 0.017, \"m50_index\": 0}, {\"date\": \"2020-04-22\", \"country_code\": \"US\", \"admin_level\": 2, \"admin1\": \"New York\", \"admin2\": \"Queens County\", \"fips\": 36081.0, \"samples\": 30795, \"m50\": 0.019, \"m50_index\": 0}, {\"date\": \"2020-04-23\", \"country_code\": \"US\", \"admin_level\": 2, \"admin1\": \"New York\", \"admin2\": \"Queens County\", \"fips\": 36081.0, \"samples\": 31301, \"m50\": 0.02, \"m50_index\": 0}, {\"date\": \"2020-04-24\", \"country_code\": \"US\", \"admin_level\": 2, \"admin1\": \"New York\", \"admin2\": \"Queens County\", \"fips\": 36081.0, \"samples\": 28454, \"m50\": 0.019, \"m50_index\": 0}, {\"date\": \"2020-04-25\", \"country_code\": \"US\", \"admin_level\": 2, \"admin1\": \"New York\", \"admin2\": \"Queens County\", \"fips\": 36081.0, \"samples\": 30229, \"m50\": 0.019, \"m50_index\": 0}, {\"date\": \"2020-04-26\", \"country_code\": \"US\", \"admin_level\": 2, \"admin1\": \"New York\", \"admin2\": \"Queens County\", \"fips\": 36081.0, \"samples\": 29938, \"m50\": 0.013999999999999999, \"m50_index\": 0}, {\"date\": \"2020-04-27\", \"country_code\": \"US\", \"admin_level\": 2, \"admin1\": \"New York\", \"admin2\": \"Queens County\", \"fips\": 36081.0, \"samples\": 30392, \"m50\": 0.018000000000000002, \"m50_index\": 0}, {\"date\": \"2020-04-28\", \"country_code\": \"US\", \"admin_level\": 2, \"admin1\": \"New York\", \"admin2\": \"Queens County\", \"fips\": 36081.0, \"samples\": 33313, \"m50\": 0.021, \"m50_index\": 0}, {\"date\": \"2020-04-29\", \"country_code\": \"US\", \"admin_level\": 2, \"admin1\": \"New York\", \"admin2\": \"Queens County\", \"fips\": 36081.0, \"samples\": 30027, \"m50\": 0.019, \"m50_index\": 0}, {\"date\": \"2020-04-30\", \"country_code\": \"US\", \"admin_level\": 2, \"admin1\": \"New York\", \"admin2\": \"Queens County\", \"fips\": 36081.0, \"samples\": 35706, \"m50\": 0.017, \"m50_index\": 0}, {\"date\": \"2020-05-01\", \"country_code\": \"US\", \"admin_level\": 2, \"admin1\": \"New York\", \"admin2\": \"Queens County\", \"fips\": 36081.0, \"samples\": 33325, \"m50\": 0.02, \"m50_index\": 0}, {\"date\": \"2020-05-02\", \"country_code\": \"US\", \"admin_level\": 2, \"admin1\": \"New York\", \"admin2\": \"Queens County\", \"fips\": 36081.0, \"samples\": 35586, \"m50\": 0.024, \"m50_index\": 0}, {\"date\": \"2020-05-03\", \"country_code\": \"US\", \"admin_level\": 2, \"admin1\": \"New York\", \"admin2\": \"Queens County\", \"fips\": 36081.0, \"samples\": 35575, \"m50\": 0.02, \"m50_index\": 0}, {\"date\": \"2020-05-04\", \"country_code\": \"US\", \"admin_level\": 2, \"admin1\": \"New York\", \"admin2\": \"Queens County\", \"fips\": 36081.0, \"samples\": 26165, \"m50\": 0.019, \"m50_index\": 0}, {\"date\": \"2020-05-05\", \"country_code\": \"US\", \"admin_level\": 2, \"admin1\": \"New York\", \"admin2\": \"Queens County\", \"fips\": 36081.0, \"samples\": 26633, \"m50\": 0.021, \"m50_index\": 0}, {\"date\": \"2020-05-06\", \"country_code\": \"US\", \"admin_level\": 2, \"admin1\": \"New York\", \"admin2\": \"Queens County\", \"fips\": 36081.0, \"samples\": 27819, \"m50\": 0.02, \"m50_index\": 0}, {\"date\": \"2020-05-07\", \"country_code\": \"US\", \"admin_level\": 2, \"admin1\": \"New York\", \"admin2\": \"Queens County\", \"fips\": 36081.0, \"samples\": 29651, \"m50\": 0.022000000000000002, \"m50_index\": 0}, {\"date\": \"2020-05-08\", \"country_code\": \"US\", \"admin_level\": 2, \"admin1\": \"New York\", \"admin2\": \"Queens County\", \"fips\": 36081.0, \"samples\": 27390, \"m50\": 0.019, \"m50_index\": 0}, {\"date\": \"2020-05-09\", \"country_code\": \"US\", \"admin_level\": 2, \"admin1\": \"New York\", \"admin2\": \"Queens County\", \"fips\": 36081.0, \"samples\": 27340, \"m50\": 0.017, \"m50_index\": 0}, {\"date\": \"2020-05-10\", \"country_code\": \"US\", \"admin_level\": 2, \"admin1\": \"New York\", \"admin2\": \"Queens County\", \"fips\": 36081.0, \"samples\": 27660, \"m50\": 0.017, \"m50_index\": 0}, {\"date\": \"2020-05-11\", \"country_code\": \"US\", \"admin_level\": 2, \"admin1\": \"New York\", \"admin2\": \"Queens County\", \"fips\": 36081.0, \"samples\": 27697, \"m50\": 0.017, \"m50_index\": 0}, {\"date\": \"2020-05-12\", \"country_code\": \"US\", \"admin_level\": 2, \"admin1\": \"New York\", \"admin2\": \"Queens County\", \"fips\": 36081.0, \"samples\": 29950, \"m50\": 0.021, \"m50_index\": 0}, {\"date\": \"2020-05-13\", \"country_code\": \"US\", \"admin_level\": 2, \"admin1\": \"New York\", \"admin2\": \"Queens County\", \"fips\": 36081.0, \"samples\": 28052, \"m50\": 0.02, \"m50_index\": 0}, {\"date\": \"2020-05-14\", \"country_code\": \"US\", \"admin_level\": 2, \"admin1\": \"New York\", \"admin2\": \"Queens County\", \"fips\": 36081.0, \"samples\": 28825, \"m50\": 0.02, \"m50_index\": 0}, {\"date\": \"2020-05-15\", \"country_code\": \"US\", \"admin_level\": 2, \"admin1\": \"New York\", \"admin2\": \"Queens County\", \"fips\": 36081.0, \"samples\": 39926, \"m50\": 0.027999999999999997, \"m50_index\": 0}, {\"date\": \"2020-05-16\", \"country_code\": \"US\", \"admin_level\": 2, \"admin1\": \"New York\", \"admin2\": \"Queens County\", \"fips\": 36081.0, \"samples\": 38747, \"m50\": 0.025, \"m50_index\": 0}, {\"date\": \"2020-05-17\", \"country_code\": \"US\", \"admin_level\": 2, \"admin1\": \"New York\", \"admin2\": \"Queens County\", \"fips\": 36081.0, \"samples\": 38293, \"m50\": 0.02, \"m50_index\": 0}, {\"date\": \"2020-05-18\", \"country_code\": \"US\", \"admin_level\": 2, \"admin1\": \"New York\", \"admin2\": \"Queens County\", \"fips\": 36081.0, \"samples\": 40419, \"m50\": 0.024, \"m50_index\": 0}, {\"date\": \"2020-05-19\", \"country_code\": \"US\", \"admin_level\": 2, \"admin1\": \"New York\", \"admin2\": \"Queens County\", \"fips\": 36081.0, \"samples\": 39526, \"m50\": 0.023, \"m50_index\": 0}, {\"date\": \"2020-05-20\", \"country_code\": \"US\", \"admin_level\": 2, \"admin1\": \"New York\", \"admin2\": \"Queens County\", \"fips\": 36081.0, \"samples\": 39474, \"m50\": 0.028999999999999998, \"m50_index\": 0}, {\"date\": \"2020-05-21\", \"country_code\": \"US\", \"admin_level\": 2, \"admin1\": \"New York\", \"admin2\": \"Queens County\", \"fips\": 36081.0, \"samples\": 39720, \"m50\": 0.032, \"m50_index\": 0}, {\"date\": \"2020-05-22\", \"country_code\": \"US\", \"admin_level\": 2, \"admin1\": \"New York\", \"admin2\": \"Queens County\", \"fips\": 36081.0, \"samples\": 42259, \"m50\": 0.042, \"m50_index\": 1}, {\"date\": \"2020-05-23\", \"country_code\": \"US\", \"admin_level\": 2, \"admin1\": \"New York\", \"admin2\": \"Queens County\", \"fips\": 36081.0, \"samples\": 40285, \"m50\": 0.021, \"m50_index\": 0}, {\"date\": \"2020-05-24\", \"country_code\": \"US\", \"admin_level\": 2, \"admin1\": \"New York\", \"admin2\": \"Queens County\", \"fips\": 36081.0, \"samples\": 40561, \"m50\": 0.028999999999999998, \"m50_index\": 0}, {\"date\": \"2020-05-25\", \"country_code\": \"US\", \"admin_level\": 2, \"admin1\": \"New York\", \"admin2\": \"Queens County\", \"fips\": 36081.0, \"samples\": 40879, \"m50\": 0.027000000000000003, \"m50_index\": 0}, {\"date\": \"2020-05-26\", \"country_code\": \"US\", \"admin_level\": 2, \"admin1\": \"New York\", \"admin2\": \"Queens County\", \"fips\": 36081.0, \"samples\": 38978, \"m50\": 0.044000000000000004, \"m50_index\": 1}, {\"date\": \"2020-05-27\", \"country_code\": \"US\", \"admin_level\": 2, \"admin1\": \"New York\", \"admin2\": \"Queens County\", \"fips\": 36081.0, \"samples\": 37472, \"m50\": 0.04, \"m50_index\": 1}, {\"date\": \"2020-05-28\", \"country_code\": \"US\", \"admin_level\": 2, \"admin1\": \"New York\", \"admin2\": \"Queens County\", \"fips\": 36081.0, \"samples\": 37199, \"m50\": 0.031, \"m50_index\": 0}, {\"date\": \"2020-05-30\", \"country_code\": \"US\", \"admin_level\": 2, \"admin1\": \"New York\", \"admin2\": \"Queens County\", \"fips\": 36081.0, \"samples\": 32611, \"m50\": 0.037000000000000005, \"m50_index\": 0}, {\"date\": \"2020-05-31\", \"country_code\": \"US\", \"admin_level\": 2, \"admin1\": \"New York\", \"admin2\": \"Queens County\", \"fips\": 36081.0, \"samples\": 26615, \"m50\": 0.024, \"m50_index\": 0}, {\"date\": \"2020-06-01\", \"country_code\": \"US\", \"admin_level\": 2, \"admin1\": \"New York\", \"admin2\": \"Queens County\", \"fips\": 36081.0, \"samples\": 40767, \"m50\": 0.047, \"m50_index\": 1}, {\"date\": \"2020-06-02\", \"country_code\": \"US\", \"admin_level\": 2, \"admin1\": \"New York\", \"admin2\": \"Queens County\", \"fips\": 36081.0, \"samples\": 29906, \"m50\": 0.031, \"m50_index\": 0}, {\"date\": \"2020-06-03\", \"country_code\": \"US\", \"admin_level\": 2, \"admin1\": \"New York\", \"admin2\": \"Queens County\", \"fips\": 36081.0, \"samples\": 41971, \"m50\": 0.051, \"m50_index\": 1}, {\"date\": \"2020-06-04\", \"country_code\": \"US\", \"admin_level\": 2, \"admin1\": \"New York\", \"admin2\": \"Queens County\", \"fips\": 36081.0, \"samples\": 37294, \"m50\": 0.057, \"m50_index\": 1}, {\"date\": \"2020-06-05\", \"country_code\": \"US\", \"admin_level\": 2, \"admin1\": \"New York\", \"admin2\": \"Queens County\", \"fips\": 36081.0, \"samples\": 35655, \"m50\": 0.047, \"m50_index\": 1}, {\"date\": \"2020-06-06\", \"country_code\": \"US\", \"admin_level\": 2, \"admin1\": \"New York\", \"admin2\": \"Queens County\", \"fips\": 36081.0, \"samples\": 35354, \"m50\": 0.048, \"m50_index\": 1}, {\"date\": \"2020-06-07\", \"country_code\": \"US\", \"admin_level\": 2, \"admin1\": \"New York\", \"admin2\": \"Queens County\", \"fips\": 36081.0, \"samples\": 36384, \"m50\": 0.033, \"m50_index\": 0}, {\"date\": \"2020-06-08\", \"country_code\": \"US\", \"admin_level\": 2, \"admin1\": \"New York\", \"admin2\": \"Queens County\", \"fips\": 36081.0, \"samples\": 38179, \"m50\": 0.175, \"m50_index\": 4}, {\"date\": \"2020-06-09\", \"country_code\": \"US\", \"admin_level\": 2, \"admin1\": \"New York\", \"admin2\": \"Queens County\", \"fips\": 36081.0, \"samples\": 36769, \"m50\": 0.17800000000000002, \"m50_index\": 4}, {\"date\": \"2020-06-10\", \"country_code\": \"US\", \"admin_level\": 2, \"admin1\": \"New York\", \"admin2\": \"Queens County\", \"fips\": 36081.0, \"samples\": 36739, \"m50\": 0.179, \"m50_index\": 4}, {\"date\": \"2020-06-11\", \"country_code\": \"US\", \"admin_level\": 2, \"admin1\": \"New York\", \"admin2\": \"Queens County\", \"fips\": 36081.0, \"samples\": 39754, \"m50\": 0.095, \"m50_index\": 2}, {\"date\": \"2020-06-12\", \"country_code\": \"US\", \"admin_level\": 2, \"admin1\": \"New York\", \"admin2\": \"Queens County\", \"fips\": 36081.0, \"samples\": 35949, \"m50\": 0.179, \"m50_index\": 4}, {\"date\": \"2020-06-13\", \"country_code\": \"US\", \"admin_level\": 2, \"admin1\": \"New York\", \"admin2\": \"Queens County\", \"fips\": 36081.0, \"samples\": 35069, \"m50\": 0.138, \"m50_index\": 3}, {\"date\": \"2020-06-14\", \"country_code\": \"US\", \"admin_level\": 2, \"admin1\": \"New York\", \"admin2\": \"Queens County\", \"fips\": 36081.0, \"samples\": 34220, \"m50\": 0.036000000000000004, \"m50_index\": 0}, {\"date\": \"2020-06-15\", \"country_code\": \"US\", \"admin_level\": 2, \"admin1\": \"New York\", \"admin2\": \"Queens County\", \"fips\": 36081.0, \"samples\": 36914, \"m50\": 0.08, \"m50_index\": 2}, {\"date\": \"2020-06-16\", \"country_code\": \"US\", \"admin_level\": 2, \"admin1\": \"New York\", \"admin2\": \"Queens County\", \"fips\": 36081.0, \"samples\": 33847, \"m50\": 0.102, \"m50_index\": 2}, {\"date\": \"2020-06-17\", \"country_code\": \"US\", \"admin_level\": 2, \"admin1\": \"New York\", \"admin2\": \"Queens County\", \"fips\": 36081.0, \"samples\": 36881, \"m50\": 0.23399999999999999, \"m50_index\": 6}, {\"date\": \"2020-06-18\", \"country_code\": \"US\", \"admin_level\": 2, \"admin1\": \"New York\", \"admin2\": \"Queens County\", \"fips\": 36081.0, \"samples\": 34322, \"m50\": 0.302, \"m50_index\": 7}, {\"date\": \"2020-06-19\", \"country_code\": \"US\", \"admin_level\": 2, \"admin1\": \"New York\", \"admin2\": \"Queens County\", \"fips\": 36081.0, \"samples\": 43017, \"m50\": 0.648, \"m50_index\": 16}, {\"date\": \"2020-06-20\", \"country_code\": \"US\", \"admin_level\": 2, \"admin1\": \"New York\", \"admin2\": \"Queens County\", \"fips\": 36081.0, \"samples\": 34928, \"m50\": 0.22399999999999998, \"m50_index\": 5}, {\"date\": \"2020-06-21\", \"country_code\": \"US\", \"admin_level\": 2, \"admin1\": \"New York\", \"admin2\": \"Queens County\", \"fips\": 36081.0, \"samples\": 32976, \"m50\": 0.047, \"m50_index\": 1}, {\"date\": \"2020-06-22\", \"country_code\": \"US\", \"admin_level\": 2, \"admin1\": \"New York\", \"admin2\": \"Queens County\", \"fips\": 36081.0, \"samples\": 35069, \"m50\": 0.162, \"m50_index\": 4}, {\"date\": \"2020-06-23\", \"country_code\": \"US\", \"admin_level\": 2, \"admin1\": \"New York\", \"admin2\": \"Queens County\", \"fips\": 36081.0, \"samples\": 35308, \"m50\": 0.41700000000000004, \"m50_index\": 10}, {\"date\": \"2020-06-24\", \"country_code\": \"US\", \"admin_level\": 2, \"admin1\": \"New York\", \"admin2\": \"Queens County\", \"fips\": 36081.0, \"samples\": 34002, \"m50\": 0.316, \"m50_index\": 8}, {\"date\": \"2020-06-25\", \"country_code\": \"US\", \"admin_level\": 2, \"admin1\": \"New York\", \"admin2\": \"Queens County\", \"fips\": 36081.0, \"samples\": 32011, \"m50\": 0.522, \"m50_index\": 13}, {\"date\": \"2020-06-26\", \"country_code\": \"US\", \"admin_level\": 2, \"admin1\": \"New York\", \"admin2\": \"Queens County\", \"fips\": 36081.0, \"samples\": 34289, \"m50\": 0.611, \"m50_index\": 15}, {\"date\": \"2020-06-27\", \"country_code\": \"US\", \"admin_level\": 2, \"admin1\": \"New York\", \"admin2\": \"Queens County\", \"fips\": 36081.0, \"samples\": 30106, \"m50\": 0.244, \"m50_index\": 6}, {\"date\": \"2020-06-28\", \"country_code\": \"US\", \"admin_level\": 2, \"admin1\": \"New York\", \"admin2\": \"Queens County\", \"fips\": 36081.0, \"samples\": 30992, \"m50\": 0.068, \"m50_index\": 1}, {\"date\": \"2020-06-29\", \"country_code\": \"US\", \"admin_level\": 2, \"admin1\": \"New York\", \"admin2\": \"Queens County\", \"fips\": 36081.0, \"samples\": 25500, \"m50\": 0.37799999999999995, \"m50_index\": 9}, {\"date\": \"2020-06-30\", \"country_code\": \"US\", \"admin_level\": 2, \"admin1\": \"New York\", \"admin2\": \"Queens County\", \"fips\": 36081.0, \"samples\": 33395, \"m50\": 0.653, \"m50_index\": 17}, {\"date\": \"2020-07-01\", \"country_code\": \"US\", \"admin_level\": 2, \"admin1\": \"New York\", \"admin2\": \"Queens County\", \"fips\": 36081.0, \"samples\": 33294, \"m50\": 0.621, \"m50_index\": 16}, {\"date\": \"2020-07-02\", \"country_code\": \"US\", \"admin_level\": 2, \"admin1\": \"New York\", \"admin2\": \"Queens County\", \"fips\": 36081.0, \"samples\": 33023, \"m50\": 0.922, \"m50_index\": 24}, {\"date\": \"2020-07-03\", \"country_code\": \"US\", \"admin_level\": 2, \"admin1\": \"New York\", \"admin2\": \"Queens County\", \"fips\": 36081.0, \"samples\": 33604, \"m50\": 0.8390000000000001, \"m50_index\": 21}, {\"date\": \"2020-07-04\", \"country_code\": \"US\", \"admin_level\": 2, \"admin1\": \"New York\", \"admin2\": \"Queens County\", \"fips\": 36081.0, \"samples\": 33334, \"m50\": 0.402, \"m50_index\": 10}, {\"date\": \"2020-07-05\", \"country_code\": \"US\", \"admin_level\": 2, \"admin1\": \"New York\", \"admin2\": \"Queens County\", \"fips\": 36081.0, \"samples\": 31200, \"m50\": 0.124, \"m50_index\": 3}, {\"date\": \"2020-07-06\", \"country_code\": \"US\", \"admin_level\": 2, \"admin1\": \"New York\", \"admin2\": \"Queens County\", \"fips\": 36081.0, \"samples\": 31631, \"m50\": 0.466, \"m50_index\": 12}, {\"date\": \"2020-07-07\", \"country_code\": \"US\", \"admin_level\": 2, \"admin1\": \"New York\", \"admin2\": \"Queens County\", \"fips\": 36081.0, \"samples\": 31555, \"m50\": 0.7140000000000001, \"m50_index\": 18}, {\"date\": \"2020-07-08\", \"country_code\": \"US\", \"admin_level\": 2, \"admin1\": \"New York\", \"admin2\": \"Queens County\", \"fips\": 36081.0, \"samples\": 33326, \"m50\": 0.8959999999999999, \"m50_index\": 23}, {\"date\": \"2020-07-09\", \"country_code\": \"US\", \"admin_level\": 2, \"admin1\": \"New York\", \"admin2\": \"Queens County\", \"fips\": 36081.0, \"samples\": 32926, \"m50\": 0.907, \"m50_index\": 23}, {\"date\": \"2020-07-10\", \"country_code\": \"US\", \"admin_level\": 2, \"admin1\": \"New York\", \"admin2\": \"Queens County\", \"fips\": 36081.0, \"samples\": 31912, \"m50\": 0.319, \"m50_index\": 8}, {\"date\": \"2020-07-11\", \"country_code\": \"US\", \"admin_level\": 2, \"admin1\": \"New York\", \"admin2\": \"Queens County\", \"fips\": 36081.0, \"samples\": 31825, \"m50\": 0.551, \"m50_index\": 14}, {\"date\": \"2020-07-12\", \"country_code\": \"US\", \"admin_level\": 2, \"admin1\": \"New York\", \"admin2\": \"Queens County\", \"fips\": 36081.0, \"samples\": 32105, \"m50\": 0.657, \"m50_index\": 17}, {\"date\": \"2020-07-13\", \"country_code\": \"US\", \"admin_level\": 2, \"admin1\": \"New York\", \"admin2\": \"Queens County\", \"fips\": 36081.0, \"samples\": 38635, \"m50\": 0.893, \"m50_index\": 23}, {\"date\": \"2020-07-14\", \"country_code\": \"US\", \"admin_level\": 2, \"admin1\": \"New York\", \"admin2\": \"Queens County\", \"fips\": 36081.0, \"samples\": 36785, \"m50\": 1.6680000000000001, \"m50_index\": 43}, {\"date\": \"2020-07-15\", \"country_code\": \"US\", \"admin_level\": 2, \"admin1\": \"New York\", \"admin2\": \"Queens County\", \"fips\": 36081.0, \"samples\": 38229, \"m50\": 1.026, \"m50_index\": 26}, {\"date\": \"2020-07-16\", \"country_code\": \"US\", \"admin_level\": 2, \"admin1\": \"New York\", \"admin2\": \"Queens County\", \"fips\": 36081.0, \"samples\": 37077, \"m50\": 0.8540000000000001, \"m50_index\": 22}, {\"date\": \"2020-07-17\", \"country_code\": \"US\", \"admin_level\": 2, \"admin1\": \"New York\", \"admin2\": \"Queens County\", \"fips\": 36081.0, \"samples\": 46856, \"m50\": 1.704, \"m50_index\": 44}, {\"date\": \"2020-07-18\", \"country_code\": \"US\", \"admin_level\": 2, \"admin1\": \"New York\", \"admin2\": \"Queens County\", \"fips\": 36081.0, \"samples\": 37215, \"m50\": 0.9670000000000001, \"m50_index\": 25}, {\"date\": \"2020-07-19\", \"country_code\": \"US\", \"admin_level\": 2, \"admin1\": \"New York\", \"admin2\": \"Queens County\", \"fips\": 36081.0, \"samples\": 38818, \"m50\": 0.23399999999999999, \"m50_index\": 6}, {\"date\": \"2020-07-20\", \"country_code\": \"US\", \"admin_level\": 2, \"admin1\": \"New York\", \"admin2\": \"Queens County\", \"fips\": 36081.0, \"samples\": 35619, \"m50\": 0.38799999999999996, \"m50_index\": 10}, {\"date\": \"2020-07-21\", \"country_code\": \"US\", \"admin_level\": 2, \"admin1\": \"New York\", \"admin2\": \"Queens County\", \"fips\": 36081.0, \"samples\": 35305, \"m50\": 0.581, \"m50_index\": 15}, {\"date\": \"2020-07-22\", \"country_code\": \"US\", \"admin_level\": 2, \"admin1\": \"New York\", \"admin2\": \"Queens County\", \"fips\": 36081.0, \"samples\": 37921, \"m50\": 0.522, \"m50_index\": 13}, {\"date\": \"2020-07-23\", \"country_code\": \"US\", \"admin_level\": 2, \"admin1\": \"New York\", \"admin2\": \"Queens County\", \"fips\": 36081.0, \"samples\": 38119, \"m50\": 0.489, \"m50_index\": 12}, {\"date\": \"2020-07-24\", \"country_code\": \"US\", \"admin_level\": 2, \"admin1\": \"New York\", \"admin2\": \"Queens County\", \"fips\": 36081.0, \"samples\": 36184, \"m50\": 0.6920000000000001, \"m50_index\": 18}, {\"date\": \"2020-07-25\", \"country_code\": \"US\", \"admin_level\": 2, \"admin1\": \"New York\", \"admin2\": \"Queens County\", \"fips\": 36081.0, \"samples\": 35937, \"m50\": 0.478, \"m50_index\": 12}, {\"date\": \"2020-07-26\", \"country_code\": \"US\", \"admin_level\": 2, \"admin1\": \"New York\", \"admin2\": \"Queens County\", \"fips\": 36081.0, \"samples\": 34290, \"m50\": 0.106, \"m50_index\": 2}, {\"date\": \"2020-07-27\", \"country_code\": \"US\", \"admin_level\": 2, \"admin1\": \"New York\", \"admin2\": \"Queens County\", \"fips\": 36081.0, \"samples\": 37588, \"m50\": 0.359, \"m50_index\": 9}, {\"date\": \"2020-07-28\", \"country_code\": \"US\", \"admin_level\": 2, \"admin1\": \"New York\", \"admin2\": \"Queens County\", \"fips\": 36081.0, \"samples\": 38286, \"m50\": 0.579, \"m50_index\": 15}, {\"date\": \"2020-07-29\", \"country_code\": \"US\", \"admin_level\": 2, \"admin1\": \"New York\", \"admin2\": \"Queens County\", \"fips\": 36081.0, \"samples\": 39871, \"m50\": 0.636, \"m50_index\": 16}, {\"date\": \"2020-07-30\", \"country_code\": \"US\", \"admin_level\": 2, \"admin1\": \"New York\", \"admin2\": \"Queens County\", \"fips\": 36081.0, \"samples\": 41046, \"m50\": 0.6970000000000001, \"m50_index\": 18}, {\"date\": \"2020-07-31\", \"country_code\": \"US\", \"admin_level\": 2, \"admin1\": \"New York\", \"admin2\": \"Queens County\", \"fips\": 36081.0, \"samples\": 38568, \"m50\": 0.79, \"m50_index\": 20}, {\"date\": \"2020-08-01\", \"country_code\": \"US\", \"admin_level\": 2, \"admin1\": \"New York\", \"admin2\": \"Queens County\", \"fips\": 36081.0, \"samples\": 36217, \"m50\": 0.733, \"m50_index\": 19}, {\"date\": \"2020-08-02\", \"country_code\": \"US\", \"admin_level\": 2, \"admin1\": \"New York\", \"admin2\": \"Queens County\", \"fips\": 36081.0, \"samples\": 39110, \"m50\": 0.062, \"m50_index\": 1}, {\"date\": \"2020-08-03\", \"country_code\": \"US\", \"admin_level\": 2, \"admin1\": \"New York\", \"admin2\": \"Queens County\", \"fips\": 36081.0, \"samples\": 39985, \"m50\": 0.601, \"m50_index\": 15}, {\"date\": \"2020-08-04\", \"country_code\": \"US\", \"admin_level\": 2, \"admin1\": \"New York\", \"admin2\": \"Queens County\", \"fips\": 36081.0, \"samples\": 39689, \"m50\": 0.171, \"m50_index\": 4}, {\"date\": \"2020-08-05\", \"country_code\": \"US\", \"admin_level\": 2, \"admin1\": \"New York\", \"admin2\": \"Queens County\", \"fips\": 36081.0, \"samples\": 36554, \"m50\": 0.9059999999999999, \"m50_index\": 23}, {\"date\": \"2020-08-06\", \"country_code\": \"US\", \"admin_level\": 2, \"admin1\": \"New York\", \"admin2\": \"Queens County\", \"fips\": 36081.0, \"samples\": 40105, \"m50\": 0.789, \"m50_index\": 20}, {\"date\": \"2020-08-07\", \"country_code\": \"US\", \"admin_level\": 2, \"admin1\": \"New York\", \"admin2\": \"Queens County\", \"fips\": 36081.0, \"samples\": 37762, \"m50\": 0.857, \"m50_index\": 22}, {\"date\": \"2020-08-08\", \"country_code\": \"US\", \"admin_level\": 2, \"admin1\": \"New York\", \"admin2\": \"Queens County\", \"fips\": 36081.0, \"samples\": 32671, \"m50\": 0.7140000000000001, \"m50_index\": 18}, {\"date\": \"2020-08-09\", \"country_code\": \"US\", \"admin_level\": 2, \"admin1\": \"New York\", \"admin2\": \"Queens County\", \"fips\": 36081.0, \"samples\": 33830, \"m50\": 0.221, \"m50_index\": 5}, {\"date\": \"2020-08-10\", \"country_code\": \"US\", \"admin_level\": 2, \"admin1\": \"New York\", \"admin2\": \"Queens County\", \"fips\": 36081.0, \"samples\": 36840, \"m50\": 0.825, \"m50_index\": 21}, {\"date\": \"2020-08-11\", \"country_code\": \"US\", \"admin_level\": 2, \"admin1\": \"New York\", \"admin2\": \"Queens County\", \"fips\": 36081.0, \"samples\": 37263, \"m50\": 0.85, \"m50_index\": 22}]}}, {\"mode\": \"vega-lite\"});\n",
              "</script>"
            ]
          },
          "metadata": {
            "tags": []
          },
          "execution_count": 148
        }
      ]
    },
    {
      "cell_type": "code",
      "metadata": {
        "id": "k8e9d_OfuXPO",
        "colab_type": "code",
        "colab": {
          "base_uri": "https://localhost:8080/",
          "height": 139
        },
        "outputId": "301a77bf-c31b-4c11-8dfc-46fe4075638a"
      },
      "source": [
        "queens_social_distancing['rolling_average'] = queens_social_distancing.iloc[:,8].rolling(window=7).mean()\n",
        "\n",
        "base_queens = alt.Chart(queens_social_distancing).mark_bar().encode(\n",
        "    x='monthdate(date):O',\n",
        ").properties(\n",
        "    width=500\n",
        ")\n"
      ],
      "execution_count": 149,
      "outputs": [
        {
          "output_type": "stream",
          "text": [
            "/usr/local/lib/python3.6/dist-packages/ipykernel_launcher.py:1: SettingWithCopyWarning: \n",
            "A value is trying to be set on a copy of a slice from a DataFrame.\n",
            "Try using .loc[row_indexer,col_indexer] = value instead\n",
            "\n",
            "See the caveats in the documentation: https://pandas.pydata.org/pandas-docs/stable/user_guide/indexing.html#returning-a-view-versus-a-copy\n",
            "  \"\"\"Entry point for launching an IPython kernel.\n"
          ],
          "name": "stderr"
        }
      ]
    },
    {
      "cell_type": "code",
      "metadata": {
        "id": "6s3gY6OFuXH0",
        "colab_type": "code",
        "colab": {
          "base_uri": "https://localhost:8080/",
          "height": 549
        },
        "outputId": "ee6d7621-21fb-44ae-9c66-d37a6edba731"
      },
      "source": [
        "queens_social_distancing.tail(10)"
      ],
      "execution_count": 150,
      "outputs": [
        {
          "output_type": "execute_result",
          "data": {
            "text/html": [
              "<div>\n",
              "<style scoped>\n",
              "    .dataframe tbody tr th:only-of-type {\n",
              "        vertical-align: middle;\n",
              "    }\n",
              "\n",
              "    .dataframe tbody tr th {\n",
              "        vertical-align: top;\n",
              "    }\n",
              "\n",
              "    .dataframe thead th {\n",
              "        text-align: right;\n",
              "    }\n",
              "</style>\n",
              "<table border=\"1\" class=\"dataframe\">\n",
              "  <thead>\n",
              "    <tr style=\"text-align: right;\">\n",
              "      <th></th>\n",
              "      <th>date</th>\n",
              "      <th>country_code</th>\n",
              "      <th>admin_level</th>\n",
              "      <th>admin1</th>\n",
              "      <th>admin2</th>\n",
              "      <th>fips</th>\n",
              "      <th>samples</th>\n",
              "      <th>m50</th>\n",
              "      <th>m50_index</th>\n",
              "      <th>rolling_average</th>\n",
              "    </tr>\n",
              "  </thead>\n",
              "  <tbody>\n",
              "    <tr>\n",
              "      <th>260977</th>\n",
              "      <td>2020-08-02</td>\n",
              "      <td>US</td>\n",
              "      <td>2</td>\n",
              "      <td>New York</td>\n",
              "      <td>Queens County</td>\n",
              "      <td>36081.0</td>\n",
              "      <td>39110</td>\n",
              "      <td>0.062</td>\n",
              "      <td>1</td>\n",
              "      <td>14.000000</td>\n",
              "    </tr>\n",
              "    <tr>\n",
              "      <th>260978</th>\n",
              "      <td>2020-08-03</td>\n",
              "      <td>US</td>\n",
              "      <td>2</td>\n",
              "      <td>New York</td>\n",
              "      <td>Queens County</td>\n",
              "      <td>36081.0</td>\n",
              "      <td>39985</td>\n",
              "      <td>0.601</td>\n",
              "      <td>15</td>\n",
              "      <td>14.857143</td>\n",
              "    </tr>\n",
              "    <tr>\n",
              "      <th>260979</th>\n",
              "      <td>2020-08-04</td>\n",
              "      <td>US</td>\n",
              "      <td>2</td>\n",
              "      <td>New York</td>\n",
              "      <td>Queens County</td>\n",
              "      <td>36081.0</td>\n",
              "      <td>39689</td>\n",
              "      <td>0.171</td>\n",
              "      <td>4</td>\n",
              "      <td>13.285714</td>\n",
              "    </tr>\n",
              "    <tr>\n",
              "      <th>260980</th>\n",
              "      <td>2020-08-05</td>\n",
              "      <td>US</td>\n",
              "      <td>2</td>\n",
              "      <td>New York</td>\n",
              "      <td>Queens County</td>\n",
              "      <td>36081.0</td>\n",
              "      <td>36554</td>\n",
              "      <td>0.906</td>\n",
              "      <td>23</td>\n",
              "      <td>14.285714</td>\n",
              "    </tr>\n",
              "    <tr>\n",
              "      <th>260981</th>\n",
              "      <td>2020-08-06</td>\n",
              "      <td>US</td>\n",
              "      <td>2</td>\n",
              "      <td>New York</td>\n",
              "      <td>Queens County</td>\n",
              "      <td>36081.0</td>\n",
              "      <td>40105</td>\n",
              "      <td>0.789</td>\n",
              "      <td>20</td>\n",
              "      <td>14.571429</td>\n",
              "    </tr>\n",
              "    <tr>\n",
              "      <th>260982</th>\n",
              "      <td>2020-08-07</td>\n",
              "      <td>US</td>\n",
              "      <td>2</td>\n",
              "      <td>New York</td>\n",
              "      <td>Queens County</td>\n",
              "      <td>36081.0</td>\n",
              "      <td>37762</td>\n",
              "      <td>0.857</td>\n",
              "      <td>22</td>\n",
              "      <td>14.857143</td>\n",
              "    </tr>\n",
              "    <tr>\n",
              "      <th>260983</th>\n",
              "      <td>2020-08-08</td>\n",
              "      <td>US</td>\n",
              "      <td>2</td>\n",
              "      <td>New York</td>\n",
              "      <td>Queens County</td>\n",
              "      <td>36081.0</td>\n",
              "      <td>32671</td>\n",
              "      <td>0.714</td>\n",
              "      <td>18</td>\n",
              "      <td>14.714286</td>\n",
              "    </tr>\n",
              "    <tr>\n",
              "      <th>260984</th>\n",
              "      <td>2020-08-09</td>\n",
              "      <td>US</td>\n",
              "      <td>2</td>\n",
              "      <td>New York</td>\n",
              "      <td>Queens County</td>\n",
              "      <td>36081.0</td>\n",
              "      <td>33830</td>\n",
              "      <td>0.221</td>\n",
              "      <td>5</td>\n",
              "      <td>15.285714</td>\n",
              "    </tr>\n",
              "    <tr>\n",
              "      <th>260985</th>\n",
              "      <td>2020-08-10</td>\n",
              "      <td>US</td>\n",
              "      <td>2</td>\n",
              "      <td>New York</td>\n",
              "      <td>Queens County</td>\n",
              "      <td>36081.0</td>\n",
              "      <td>36840</td>\n",
              "      <td>0.825</td>\n",
              "      <td>21</td>\n",
              "      <td>16.142857</td>\n",
              "    </tr>\n",
              "    <tr>\n",
              "      <th>260986</th>\n",
              "      <td>2020-08-11</td>\n",
              "      <td>US</td>\n",
              "      <td>2</td>\n",
              "      <td>New York</td>\n",
              "      <td>Queens County</td>\n",
              "      <td>36081.0</td>\n",
              "      <td>37263</td>\n",
              "      <td>0.850</td>\n",
              "      <td>22</td>\n",
              "      <td>18.714286</td>\n",
              "    </tr>\n",
              "  </tbody>\n",
              "</table>\n",
              "</div>"
            ],
            "text/plain": [
              "              date country_code  admin_level  ...    m50 m50_index  rolling_average\n",
              "260977  2020-08-02           US            2  ...  0.062         1        14.000000\n",
              "260978  2020-08-03           US            2  ...  0.601        15        14.857143\n",
              "260979  2020-08-04           US            2  ...  0.171         4        13.285714\n",
              "260980  2020-08-05           US            2  ...  0.906        23        14.285714\n",
              "260981  2020-08-06           US            2  ...  0.789        20        14.571429\n",
              "260982  2020-08-07           US            2  ...  0.857        22        14.857143\n",
              "260983  2020-08-08           US            2  ...  0.714        18        14.714286\n",
              "260984  2020-08-09           US            2  ...  0.221         5        15.285714\n",
              "260985  2020-08-10           US            2  ...  0.825        21        16.142857\n",
              "260986  2020-08-11           US            2  ...  0.850        22        18.714286\n",
              "\n",
              "[10 rows x 10 columns]"
            ]
          },
          "metadata": {
            "tags": []
          },
          "execution_count": 150
        }
      ]
    },
    {
      "cell_type": "code",
      "metadata": {
        "id": "A7d2Kcweyekp",
        "colab_type": "code",
        "colab": {
          "base_uri": "https://localhost:8080/",
          "height": 408
        },
        "outputId": "1a2f10b3-3a73-4311-d651-b4064ce76588"
      },
      "source": [
        "base_queens.encode(y=\"rolling_average\").properties(title='Queens County- 7 day rolling average (Social Distancing Metric)')\n"
      ],
      "execution_count": 151,
      "outputs": [
        {
          "output_type": "execute_result",
          "data": {
            "text/plain": [
              "alt.Chart(...)"
            ],
            "text/html": [
              "\n",
              "<div id=\"altair-viz-4a3b78b8618b48449288e4cecb4edfdf\"></div>\n",
              "<script type=\"text/javascript\">\n",
              "  (function(spec, embedOpt){\n",
              "    let outputDiv = document.currentScript.previousElementSibling;\n",
              "    if (outputDiv.id !== \"altair-viz-4a3b78b8618b48449288e4cecb4edfdf\") {\n",
              "      outputDiv = document.getElementById(\"altair-viz-4a3b78b8618b48449288e4cecb4edfdf\");\n",
              "    }\n",
              "    const paths = {\n",
              "      \"vega\": \"https://cdn.jsdelivr.net/npm//vega@5?noext\",\n",
              "      \"vega-lib\": \"https://cdn.jsdelivr.net/npm//vega-lib?noext\",\n",
              "      \"vega-lite\": \"https://cdn.jsdelivr.net/npm//vega-lite@4.8.1?noext\",\n",
              "      \"vega-embed\": \"https://cdn.jsdelivr.net/npm//vega-embed@6?noext\",\n",
              "    };\n",
              "\n",
              "    function loadScript(lib) {\n",
              "      return new Promise(function(resolve, reject) {\n",
              "        var s = document.createElement('script');\n",
              "        s.src = paths[lib];\n",
              "        s.async = true;\n",
              "        s.onload = () => resolve(paths[lib]);\n",
              "        s.onerror = () => reject(`Error loading script: ${paths[lib]}`);\n",
              "        document.getElementsByTagName(\"head\")[0].appendChild(s);\n",
              "      });\n",
              "    }\n",
              "\n",
              "    function showError(err) {\n",
              "      outputDiv.innerHTML = `<div class=\"error\" style=\"color:red;\">${err}</div>`;\n",
              "      throw err;\n",
              "    }\n",
              "\n",
              "    function displayChart(vegaEmbed) {\n",
              "      vegaEmbed(outputDiv, spec, embedOpt)\n",
              "        .catch(err => showError(`Javascript Error: ${err.message}<br>This usually means there's a typo in your chart specification. See the javascript console for the full traceback.`));\n",
              "    }\n",
              "\n",
              "    if(typeof define === \"function\" && define.amd) {\n",
              "      requirejs.config({paths});\n",
              "      require([\"vega-embed\"], displayChart, err => showError(`Error loading script: ${err.message}`));\n",
              "    } else if (typeof vegaEmbed === \"function\") {\n",
              "      displayChart(vegaEmbed);\n",
              "    } else {\n",
              "      loadScript(\"vega\")\n",
              "        .then(() => loadScript(\"vega-lite\"))\n",
              "        .then(() => loadScript(\"vega-embed\"))\n",
              "        .catch(showError)\n",
              "        .then(() => displayChart(vegaEmbed));\n",
              "    }\n",
              "  })({\"config\": {\"view\": {\"continuousWidth\": 400, \"continuousHeight\": 300}}, \"data\": {\"name\": \"data-c87f9b2b46a07bf6a743b8069fc9c04d\"}, \"mark\": \"bar\", \"encoding\": {\"x\": {\"type\": \"ordinal\", \"field\": \"date\", \"timeUnit\": \"monthdate\"}, \"y\": {\"type\": \"quantitative\", \"field\": \"rolling_average\"}}, \"title\": \"Queens County- 7 day rolling average (Social Distancing Metric)\", \"width\": 500, \"$schema\": \"https://vega.github.io/schema/vega-lite/v4.8.1.json\", \"datasets\": {\"data-c87f9b2b46a07bf6a743b8069fc9c04d\": [{\"date\": \"2020-03-01\", \"country_code\": \"US\", \"admin_level\": 2, \"admin1\": \"New York\", \"admin2\": \"Queens County\", \"fips\": 36081.0, \"samples\": 26218, \"m50\": 1.339, \"m50_index\": 35, \"rolling_average\": null}, {\"date\": \"2020-03-02\", \"country_code\": \"US\", \"admin_level\": 2, \"admin1\": \"New York\", \"admin2\": \"Queens County\", \"fips\": 36081.0, \"samples\": 27435, \"m50\": 3.813, \"m50_index\": 99, \"rolling_average\": null}, {\"date\": \"2020-03-03\", \"country_code\": \"US\", \"admin_level\": 2, \"admin1\": \"New York\", \"admin2\": \"Queens County\", \"fips\": 36081.0, \"samples\": 28459, \"m50\": 3.747, \"m50_index\": 98, \"rolling_average\": null}, {\"date\": \"2020-03-04\", \"country_code\": \"US\", \"admin_level\": 2, \"admin1\": \"New York\", \"admin2\": \"Queens County\", \"fips\": 36081.0, \"samples\": 29480, \"m50\": 3.822, \"m50_index\": 99, \"rolling_average\": null}, {\"date\": \"2020-03-05\", \"country_code\": \"US\", \"admin_level\": 2, \"admin1\": \"New York\", \"admin2\": \"Queens County\", \"fips\": 36081.0, \"samples\": 27602, \"m50\": 4.052, \"m50_index\": 106, \"rolling_average\": null}, {\"date\": \"2020-03-06\", \"country_code\": \"US\", \"admin_level\": 2, \"admin1\": \"New York\", \"admin2\": \"Queens County\", \"fips\": 36081.0, \"samples\": 27713, \"m50\": 3.9210000000000003, \"m50_index\": 102, \"rolling_average\": null}, {\"date\": \"2020-03-07\", \"country_code\": \"US\", \"admin_level\": 2, \"admin1\": \"New York\", \"admin2\": \"Queens County\", \"fips\": 36081.0, \"samples\": 27919, \"m50\": 2.189, \"m50_index\": 57, \"rolling_average\": 85.14285714285714}, {\"date\": \"2020-03-08\", \"country_code\": \"US\", \"admin_level\": 2, \"admin1\": \"New York\", \"admin2\": \"Queens County\", \"fips\": 36081.0, \"samples\": 29098, \"m50\": 1.172, \"m50_index\": 30, \"rolling_average\": 84.42857142857143}, {\"date\": \"2020-03-09\", \"country_code\": \"US\", \"admin_level\": 2, \"admin1\": \"New York\", \"admin2\": \"Queens County\", \"fips\": 36081.0, \"samples\": 29449, \"m50\": 3.528, \"m50_index\": 92, \"rolling_average\": 83.42857142857143}, {\"date\": \"2020-03-10\", \"country_code\": \"US\", \"admin_level\": 2, \"admin1\": \"New York\", \"admin2\": \"Queens County\", \"fips\": 36081.0, \"samples\": 28607, \"m50\": 3.375, \"m50_index\": 88, \"rolling_average\": 82.0}, {\"date\": \"2020-03-11\", \"country_code\": \"US\", \"admin_level\": 2, \"admin1\": \"New York\", \"admin2\": \"Queens County\", \"fips\": 36081.0, \"samples\": 28585, \"m50\": 3.495, \"m50_index\": 91, \"rolling_average\": 80.85714285714286}, {\"date\": \"2020-03-12\", \"country_code\": \"US\", \"admin_level\": 2, \"admin1\": \"New York\", \"admin2\": \"Queens County\", \"fips\": 36081.0, \"samples\": 28488, \"m50\": 3.193, \"m50_index\": 83, \"rolling_average\": 77.57142857142857}, {\"date\": \"2020-03-13\", \"country_code\": \"US\", \"admin_level\": 2, \"admin1\": \"New York\", \"admin2\": \"Queens County\", \"fips\": 36081.0, \"samples\": 27467, \"m50\": 2.8160000000000003, \"m50_index\": 73, \"rolling_average\": 73.42857142857143}, {\"date\": \"2020-03-14\", \"country_code\": \"US\", \"admin_level\": 2, \"admin1\": \"New York\", \"admin2\": \"Queens County\", \"fips\": 36081.0, \"samples\": 25669, \"m50\": 1.021, \"m50_index\": 26, \"rolling_average\": 69.0}, {\"date\": \"2020-03-15\", \"country_code\": \"US\", \"admin_level\": 2, \"admin1\": \"New York\", \"admin2\": \"Queens County\", \"fips\": 36081.0, \"samples\": 25555, \"m50\": 0.3, \"m50_index\": 7, \"rolling_average\": 65.71428571428571}, {\"date\": \"2020-03-16\", \"country_code\": \"US\", \"admin_level\": 2, \"admin1\": \"New York\", \"admin2\": \"Queens County\", \"fips\": 36081.0, \"samples\": 25482, \"m50\": 0.86, \"m50_index\": 22, \"rolling_average\": 55.714285714285715}, {\"date\": \"2020-03-17\", \"country_code\": \"US\", \"admin_level\": 2, \"admin1\": \"New York\", \"admin2\": \"Queens County\", \"fips\": 36081.0, \"samples\": 27584, \"m50\": 0.249, \"m50_index\": 6, \"rolling_average\": 44.0}, {\"date\": \"2020-03-18\", \"country_code\": \"US\", \"admin_level\": 2, \"admin1\": \"New York\", \"admin2\": \"Queens County\", \"fips\": 36081.0, \"samples\": 26104, \"m50\": 0.177, \"m50_index\": 4, \"rolling_average\": 31.571428571428573}, {\"date\": \"2020-03-19\", \"country_code\": \"US\", \"admin_level\": 2, \"admin1\": \"New York\", \"admin2\": \"Queens County\", \"fips\": 36081.0, \"samples\": 26152, \"m50\": 0.061, \"m50_index\": 1, \"rolling_average\": 19.857142857142858}, {\"date\": \"2020-03-20\", \"country_code\": \"US\", \"admin_level\": 2, \"admin1\": \"New York\", \"admin2\": \"Queens County\", \"fips\": 36081.0, \"samples\": 23521, \"m50\": 0.068, \"m50_index\": 1, \"rolling_average\": 9.571428571428571}, {\"date\": \"2020-03-21\", \"country_code\": \"US\", \"admin_level\": 2, \"admin1\": \"New York\", \"admin2\": \"Queens County\", \"fips\": 36081.0, \"samples\": 21635, \"m50\": 0.024, \"m50_index\": 0, \"rolling_average\": 5.857142857142857}, {\"date\": \"2020-03-22\", \"country_code\": \"US\", \"admin_level\": 2, \"admin1\": \"New York\", \"admin2\": \"Queens County\", \"fips\": 36081.0, \"samples\": 22604, \"m50\": 0.018000000000000002, \"m50_index\": 0, \"rolling_average\": 4.857142857142857}, {\"date\": \"2020-03-23\", \"country_code\": \"US\", \"admin_level\": 2, \"admin1\": \"New York\", \"admin2\": \"Queens County\", \"fips\": 36081.0, \"samples\": 24428, \"m50\": 0.017, \"m50_index\": 0, \"rolling_average\": 1.7142857142857142}, {\"date\": \"2020-03-24\", \"country_code\": \"US\", \"admin_level\": 2, \"admin1\": \"New York\", \"admin2\": \"Queens County\", \"fips\": 36081.0, \"samples\": 25039, \"m50\": 0.02, \"m50_index\": 0, \"rolling_average\": 0.8571428571428571}, {\"date\": \"2020-03-25\", \"country_code\": \"US\", \"admin_level\": 2, \"admin1\": \"New York\", \"admin2\": \"Queens County\", \"fips\": 36081.0, \"samples\": 23880, \"m50\": 0.018000000000000002, \"m50_index\": 0, \"rolling_average\": 0.2857142857142857}, {\"date\": \"2020-03-26\", \"country_code\": \"US\", \"admin_level\": 2, \"admin1\": \"New York\", \"admin2\": \"Queens County\", \"fips\": 36081.0, \"samples\": 25243, \"m50\": 0.019, \"m50_index\": 0, \"rolling_average\": 0.14285714285714285}, {\"date\": \"2020-03-27\", \"country_code\": \"US\", \"admin_level\": 2, \"admin1\": \"New York\", \"admin2\": \"Queens County\", \"fips\": 36081.0, \"samples\": 25761, \"m50\": 0.019, \"m50_index\": 0, \"rolling_average\": 0.0}, {\"date\": \"2020-03-28\", \"country_code\": \"US\", \"admin_level\": 2, \"admin1\": \"New York\", \"admin2\": \"Queens County\", \"fips\": 36081.0, \"samples\": 23756, \"m50\": 0.015, \"m50_index\": 0, \"rolling_average\": 0.0}, {\"date\": \"2020-03-29\", \"country_code\": \"US\", \"admin_level\": 2, \"admin1\": \"New York\", \"admin2\": \"Queens County\", \"fips\": 36081.0, \"samples\": 23988, \"m50\": 0.013999999999999999, \"m50_index\": 0, \"rolling_average\": 0.0}, {\"date\": \"2020-03-30\", \"country_code\": \"US\", \"admin_level\": 2, \"admin1\": \"New York\", \"admin2\": \"Queens County\", \"fips\": 36081.0, \"samples\": 25036, \"m50\": 0.016, \"m50_index\": 0, \"rolling_average\": 0.0}, {\"date\": \"2020-03-31\", \"country_code\": \"US\", \"admin_level\": 2, \"admin1\": \"New York\", \"admin2\": \"Queens County\", \"fips\": 36081.0, \"samples\": 24775, \"m50\": 0.016, \"m50_index\": 0, \"rolling_average\": 0.0}, {\"date\": \"2020-04-01\", \"country_code\": \"US\", \"admin_level\": 2, \"admin1\": \"New York\", \"admin2\": \"Queens County\", \"fips\": 36081.0, \"samples\": 24577, \"m50\": 0.016, \"m50_index\": 0, \"rolling_average\": 0.0}, {\"date\": \"2020-04-02\", \"country_code\": \"US\", \"admin_level\": 2, \"admin1\": \"New York\", \"admin2\": \"Queens County\", \"fips\": 36081.0, \"samples\": 24161, \"m50\": 0.017, \"m50_index\": 0, \"rolling_average\": 0.0}, {\"date\": \"2020-04-03\", \"country_code\": \"US\", \"admin_level\": 2, \"admin1\": \"New York\", \"admin2\": \"Queens County\", \"fips\": 36081.0, \"samples\": 23170, \"m50\": 0.016, \"m50_index\": 0, \"rolling_average\": 0.0}, {\"date\": \"2020-04-04\", \"country_code\": \"US\", \"admin_level\": 2, \"admin1\": \"New York\", \"admin2\": \"Queens County\", \"fips\": 36081.0, \"samples\": 22138, \"m50\": 0.016, \"m50_index\": 0, \"rolling_average\": 0.0}, {\"date\": \"2020-04-05\", \"country_code\": \"US\", \"admin_level\": 2, \"admin1\": \"New York\", \"admin2\": \"Queens County\", \"fips\": 36081.0, \"samples\": 25254, \"m50\": 0.015, \"m50_index\": 0, \"rolling_average\": 0.0}, {\"date\": \"2020-04-06\", \"country_code\": \"US\", \"admin_level\": 2, \"admin1\": \"New York\", \"admin2\": \"Queens County\", \"fips\": 36081.0, \"samples\": 22835, \"m50\": 0.017, \"m50_index\": 0, \"rolling_average\": 0.0}, {\"date\": \"2020-04-07\", \"country_code\": \"US\", \"admin_level\": 2, \"admin1\": \"New York\", \"admin2\": \"Queens County\", \"fips\": 36081.0, \"samples\": 23289, \"m50\": 0.017, \"m50_index\": 0, \"rolling_average\": 0.0}, {\"date\": \"2020-04-08\", \"country_code\": \"US\", \"admin_level\": 2, \"admin1\": \"New York\", \"admin2\": \"Queens County\", \"fips\": 36081.0, \"samples\": 23825, \"m50\": 0.016, \"m50_index\": 0, \"rolling_average\": 0.0}, {\"date\": \"2020-04-09\", \"country_code\": \"US\", \"admin_level\": 2, \"admin1\": \"New York\", \"admin2\": \"Queens County\", \"fips\": 36081.0, \"samples\": 23714, \"m50\": 0.015, \"m50_index\": 0, \"rolling_average\": 0.0}, {\"date\": \"2020-04-10\", \"country_code\": \"US\", \"admin_level\": 2, \"admin1\": \"New York\", \"admin2\": \"Queens County\", \"fips\": 36081.0, \"samples\": 22224, \"m50\": 0.015, \"m50_index\": 0, \"rolling_average\": 0.0}, {\"date\": \"2020-04-11\", \"country_code\": \"US\", \"admin_level\": 2, \"admin1\": \"New York\", \"admin2\": \"Queens County\", \"fips\": 36081.0, \"samples\": 23689, \"m50\": 0.015, \"m50_index\": 0, \"rolling_average\": 0.0}, {\"date\": \"2020-04-12\", \"country_code\": \"US\", \"admin_level\": 2, \"admin1\": \"New York\", \"admin2\": \"Queens County\", \"fips\": 36081.0, \"samples\": 23040, \"m50\": 0.013999999999999999, \"m50_index\": 0, \"rolling_average\": 0.0}, {\"date\": \"2020-04-13\", \"country_code\": \"US\", \"admin_level\": 2, \"admin1\": \"New York\", \"admin2\": \"Queens County\", \"fips\": 36081.0, \"samples\": 22462, \"m50\": 0.013999999999999999, \"m50_index\": 0, \"rolling_average\": 0.0}, {\"date\": \"2020-04-14\", \"country_code\": \"US\", \"admin_level\": 2, \"admin1\": \"New York\", \"admin2\": \"Queens County\", \"fips\": 36081.0, \"samples\": 24095, \"m50\": 0.017, \"m50_index\": 0, \"rolling_average\": 0.0}, {\"date\": \"2020-04-15\", \"country_code\": \"US\", \"admin_level\": 2, \"admin1\": \"New York\", \"admin2\": \"Queens County\", \"fips\": 36081.0, \"samples\": 25184, \"m50\": 0.017, \"m50_index\": 0, \"rolling_average\": 0.0}, {\"date\": \"2020-04-16\", \"country_code\": \"US\", \"admin_level\": 2, \"admin1\": \"New York\", \"admin2\": \"Queens County\", \"fips\": 36081.0, \"samples\": 24071, \"m50\": 0.017, \"m50_index\": 0, \"rolling_average\": 0.0}, {\"date\": \"2020-04-17\", \"country_code\": \"US\", \"admin_level\": 2, \"admin1\": \"New York\", \"admin2\": \"Queens County\", \"fips\": 36081.0, \"samples\": 24004, \"m50\": 0.018000000000000002, \"m50_index\": 0, \"rolling_average\": 0.0}, {\"date\": \"2020-04-18\", \"country_code\": \"US\", \"admin_level\": 2, \"admin1\": \"New York\", \"admin2\": \"Queens County\", \"fips\": 36081.0, \"samples\": 23458, \"m50\": 0.015, \"m50_index\": 0, \"rolling_average\": 0.0}, {\"date\": \"2020-04-19\", \"country_code\": \"US\", \"admin_level\": 2, \"admin1\": \"New York\", \"admin2\": \"Queens County\", \"fips\": 36081.0, \"samples\": 22917, \"m50\": 0.015, \"m50_index\": 0, \"rolling_average\": 0.0}, {\"date\": \"2020-04-21\", \"country_code\": \"US\", \"admin_level\": 2, \"admin1\": \"New York\", \"admin2\": \"Queens County\", \"fips\": 36081.0, \"samples\": 30068, \"m50\": 0.017, \"m50_index\": 0, \"rolling_average\": 0.0}, {\"date\": \"2020-04-22\", \"country_code\": \"US\", \"admin_level\": 2, \"admin1\": \"New York\", \"admin2\": \"Queens County\", \"fips\": 36081.0, \"samples\": 30795, \"m50\": 0.019, \"m50_index\": 0, \"rolling_average\": 0.0}, {\"date\": \"2020-04-23\", \"country_code\": \"US\", \"admin_level\": 2, \"admin1\": \"New York\", \"admin2\": \"Queens County\", \"fips\": 36081.0, \"samples\": 31301, \"m50\": 0.02, \"m50_index\": 0, \"rolling_average\": 0.0}, {\"date\": \"2020-04-24\", \"country_code\": \"US\", \"admin_level\": 2, \"admin1\": \"New York\", \"admin2\": \"Queens County\", \"fips\": 36081.0, \"samples\": 28454, \"m50\": 0.019, \"m50_index\": 0, \"rolling_average\": 0.0}, {\"date\": \"2020-04-25\", \"country_code\": \"US\", \"admin_level\": 2, \"admin1\": \"New York\", \"admin2\": \"Queens County\", \"fips\": 36081.0, \"samples\": 30229, \"m50\": 0.019, \"m50_index\": 0, \"rolling_average\": 0.0}, {\"date\": \"2020-04-26\", \"country_code\": \"US\", \"admin_level\": 2, \"admin1\": \"New York\", \"admin2\": \"Queens County\", \"fips\": 36081.0, \"samples\": 29938, \"m50\": 0.013999999999999999, \"m50_index\": 0, \"rolling_average\": 0.0}, {\"date\": \"2020-04-27\", \"country_code\": \"US\", \"admin_level\": 2, \"admin1\": \"New York\", \"admin2\": \"Queens County\", \"fips\": 36081.0, \"samples\": 30392, \"m50\": 0.018000000000000002, \"m50_index\": 0, \"rolling_average\": 0.0}, {\"date\": \"2020-04-28\", \"country_code\": \"US\", \"admin_level\": 2, \"admin1\": \"New York\", \"admin2\": \"Queens County\", \"fips\": 36081.0, \"samples\": 33313, \"m50\": 0.021, \"m50_index\": 0, \"rolling_average\": 0.0}, {\"date\": \"2020-04-29\", \"country_code\": \"US\", \"admin_level\": 2, \"admin1\": \"New York\", \"admin2\": \"Queens County\", \"fips\": 36081.0, \"samples\": 30027, \"m50\": 0.019, \"m50_index\": 0, \"rolling_average\": 0.0}, {\"date\": \"2020-04-30\", \"country_code\": \"US\", \"admin_level\": 2, \"admin1\": \"New York\", \"admin2\": \"Queens County\", \"fips\": 36081.0, \"samples\": 35706, \"m50\": 0.017, \"m50_index\": 0, \"rolling_average\": 0.0}, {\"date\": \"2020-05-01\", \"country_code\": \"US\", \"admin_level\": 2, \"admin1\": \"New York\", \"admin2\": \"Queens County\", \"fips\": 36081.0, \"samples\": 33325, \"m50\": 0.02, \"m50_index\": 0, \"rolling_average\": 0.0}, {\"date\": \"2020-05-02\", \"country_code\": \"US\", \"admin_level\": 2, \"admin1\": \"New York\", \"admin2\": \"Queens County\", \"fips\": 36081.0, \"samples\": 35586, \"m50\": 0.024, \"m50_index\": 0, \"rolling_average\": 0.0}, {\"date\": \"2020-05-03\", \"country_code\": \"US\", \"admin_level\": 2, \"admin1\": \"New York\", \"admin2\": \"Queens County\", \"fips\": 36081.0, \"samples\": 35575, \"m50\": 0.02, \"m50_index\": 0, \"rolling_average\": 0.0}, {\"date\": \"2020-05-04\", \"country_code\": \"US\", \"admin_level\": 2, \"admin1\": \"New York\", \"admin2\": \"Queens County\", \"fips\": 36081.0, \"samples\": 26165, \"m50\": 0.019, \"m50_index\": 0, \"rolling_average\": 0.0}, {\"date\": \"2020-05-05\", \"country_code\": \"US\", \"admin_level\": 2, \"admin1\": \"New York\", \"admin2\": \"Queens County\", \"fips\": 36081.0, \"samples\": 26633, \"m50\": 0.021, \"m50_index\": 0, \"rolling_average\": 0.0}, {\"date\": \"2020-05-06\", \"country_code\": \"US\", \"admin_level\": 2, \"admin1\": \"New York\", \"admin2\": \"Queens County\", \"fips\": 36081.0, \"samples\": 27819, \"m50\": 0.02, \"m50_index\": 0, \"rolling_average\": 0.0}, {\"date\": \"2020-05-07\", \"country_code\": \"US\", \"admin_level\": 2, \"admin1\": \"New York\", \"admin2\": \"Queens County\", \"fips\": 36081.0, \"samples\": 29651, \"m50\": 0.022000000000000002, \"m50_index\": 0, \"rolling_average\": 0.0}, {\"date\": \"2020-05-08\", \"country_code\": \"US\", \"admin_level\": 2, \"admin1\": \"New York\", \"admin2\": \"Queens County\", \"fips\": 36081.0, \"samples\": 27390, \"m50\": 0.019, \"m50_index\": 0, \"rolling_average\": 0.0}, {\"date\": \"2020-05-09\", \"country_code\": \"US\", \"admin_level\": 2, \"admin1\": \"New York\", \"admin2\": \"Queens County\", \"fips\": 36081.0, \"samples\": 27340, \"m50\": 0.017, \"m50_index\": 0, \"rolling_average\": 0.0}, {\"date\": \"2020-05-10\", \"country_code\": \"US\", \"admin_level\": 2, \"admin1\": \"New York\", \"admin2\": \"Queens County\", \"fips\": 36081.0, \"samples\": 27660, \"m50\": 0.017, \"m50_index\": 0, \"rolling_average\": 0.0}, {\"date\": \"2020-05-11\", \"country_code\": \"US\", \"admin_level\": 2, \"admin1\": \"New York\", \"admin2\": \"Queens County\", \"fips\": 36081.0, \"samples\": 27697, \"m50\": 0.017, \"m50_index\": 0, \"rolling_average\": 0.0}, {\"date\": \"2020-05-12\", \"country_code\": \"US\", \"admin_level\": 2, \"admin1\": \"New York\", \"admin2\": \"Queens County\", \"fips\": 36081.0, \"samples\": 29950, \"m50\": 0.021, \"m50_index\": 0, \"rolling_average\": 0.0}, {\"date\": \"2020-05-13\", \"country_code\": \"US\", \"admin_level\": 2, \"admin1\": \"New York\", \"admin2\": \"Queens County\", \"fips\": 36081.0, \"samples\": 28052, \"m50\": 0.02, \"m50_index\": 0, \"rolling_average\": 0.0}, {\"date\": \"2020-05-14\", \"country_code\": \"US\", \"admin_level\": 2, \"admin1\": \"New York\", \"admin2\": \"Queens County\", \"fips\": 36081.0, \"samples\": 28825, \"m50\": 0.02, \"m50_index\": 0, \"rolling_average\": 0.0}, {\"date\": \"2020-05-15\", \"country_code\": \"US\", \"admin_level\": 2, \"admin1\": \"New York\", \"admin2\": \"Queens County\", \"fips\": 36081.0, \"samples\": 39926, \"m50\": 0.027999999999999997, \"m50_index\": 0, \"rolling_average\": 0.0}, {\"date\": \"2020-05-16\", \"country_code\": \"US\", \"admin_level\": 2, \"admin1\": \"New York\", \"admin2\": \"Queens County\", \"fips\": 36081.0, \"samples\": 38747, \"m50\": 0.025, \"m50_index\": 0, \"rolling_average\": 0.0}, {\"date\": \"2020-05-17\", \"country_code\": \"US\", \"admin_level\": 2, \"admin1\": \"New York\", \"admin2\": \"Queens County\", \"fips\": 36081.0, \"samples\": 38293, \"m50\": 0.02, \"m50_index\": 0, \"rolling_average\": 0.0}, {\"date\": \"2020-05-18\", \"country_code\": \"US\", \"admin_level\": 2, \"admin1\": \"New York\", \"admin2\": \"Queens County\", \"fips\": 36081.0, \"samples\": 40419, \"m50\": 0.024, \"m50_index\": 0, \"rolling_average\": 0.0}, {\"date\": \"2020-05-19\", \"country_code\": \"US\", \"admin_level\": 2, \"admin1\": \"New York\", \"admin2\": \"Queens County\", \"fips\": 36081.0, \"samples\": 39526, \"m50\": 0.023, \"m50_index\": 0, \"rolling_average\": 0.0}, {\"date\": \"2020-05-20\", \"country_code\": \"US\", \"admin_level\": 2, \"admin1\": \"New York\", \"admin2\": \"Queens County\", \"fips\": 36081.0, \"samples\": 39474, \"m50\": 0.028999999999999998, \"m50_index\": 0, \"rolling_average\": 0.0}, {\"date\": \"2020-05-21\", \"country_code\": \"US\", \"admin_level\": 2, \"admin1\": \"New York\", \"admin2\": \"Queens County\", \"fips\": 36081.0, \"samples\": 39720, \"m50\": 0.032, \"m50_index\": 0, \"rolling_average\": 0.0}, {\"date\": \"2020-05-22\", \"country_code\": \"US\", \"admin_level\": 2, \"admin1\": \"New York\", \"admin2\": \"Queens County\", \"fips\": 36081.0, \"samples\": 42259, \"m50\": 0.042, \"m50_index\": 1, \"rolling_average\": 0.14285714285714285}, {\"date\": \"2020-05-23\", \"country_code\": \"US\", \"admin_level\": 2, \"admin1\": \"New York\", \"admin2\": \"Queens County\", \"fips\": 36081.0, \"samples\": 40285, \"m50\": 0.021, \"m50_index\": 0, \"rolling_average\": 0.14285714285714285}, {\"date\": \"2020-05-24\", \"country_code\": \"US\", \"admin_level\": 2, \"admin1\": \"New York\", \"admin2\": \"Queens County\", \"fips\": 36081.0, \"samples\": 40561, \"m50\": 0.028999999999999998, \"m50_index\": 0, \"rolling_average\": 0.14285714285714285}, {\"date\": \"2020-05-25\", \"country_code\": \"US\", \"admin_level\": 2, \"admin1\": \"New York\", \"admin2\": \"Queens County\", \"fips\": 36081.0, \"samples\": 40879, \"m50\": 0.027000000000000003, \"m50_index\": 0, \"rolling_average\": 0.14285714285714285}, {\"date\": \"2020-05-26\", \"country_code\": \"US\", \"admin_level\": 2, \"admin1\": \"New York\", \"admin2\": \"Queens County\", \"fips\": 36081.0, \"samples\": 38978, \"m50\": 0.044000000000000004, \"m50_index\": 1, \"rolling_average\": 0.2857142857142857}, {\"date\": \"2020-05-27\", \"country_code\": \"US\", \"admin_level\": 2, \"admin1\": \"New York\", \"admin2\": \"Queens County\", \"fips\": 36081.0, \"samples\": 37472, \"m50\": 0.04, \"m50_index\": 1, \"rolling_average\": 0.42857142857142855}, {\"date\": \"2020-05-28\", \"country_code\": \"US\", \"admin_level\": 2, \"admin1\": \"New York\", \"admin2\": \"Queens County\", \"fips\": 36081.0, \"samples\": 37199, \"m50\": 0.031, \"m50_index\": 0, \"rolling_average\": 0.42857142857142855}, {\"date\": \"2020-05-30\", \"country_code\": \"US\", \"admin_level\": 2, \"admin1\": \"New York\", \"admin2\": \"Queens County\", \"fips\": 36081.0, \"samples\": 32611, \"m50\": 0.037000000000000005, \"m50_index\": 0, \"rolling_average\": 0.2857142857142857}, {\"date\": \"2020-05-31\", \"country_code\": \"US\", \"admin_level\": 2, \"admin1\": \"New York\", \"admin2\": \"Queens County\", \"fips\": 36081.0, \"samples\": 26615, \"m50\": 0.024, \"m50_index\": 0, \"rolling_average\": 0.2857142857142857}, {\"date\": \"2020-06-01\", \"country_code\": \"US\", \"admin_level\": 2, \"admin1\": \"New York\", \"admin2\": \"Queens County\", \"fips\": 36081.0, \"samples\": 40767, \"m50\": 0.047, \"m50_index\": 1, \"rolling_average\": 0.42857142857142855}, {\"date\": \"2020-06-02\", \"country_code\": \"US\", \"admin_level\": 2, \"admin1\": \"New York\", \"admin2\": \"Queens County\", \"fips\": 36081.0, \"samples\": 29906, \"m50\": 0.031, \"m50_index\": 0, \"rolling_average\": 0.42857142857142855}, {\"date\": \"2020-06-03\", \"country_code\": \"US\", \"admin_level\": 2, \"admin1\": \"New York\", \"admin2\": \"Queens County\", \"fips\": 36081.0, \"samples\": 41971, \"m50\": 0.051, \"m50_index\": 1, \"rolling_average\": 0.42857142857142855}, {\"date\": \"2020-06-04\", \"country_code\": \"US\", \"admin_level\": 2, \"admin1\": \"New York\", \"admin2\": \"Queens County\", \"fips\": 36081.0, \"samples\": 37294, \"m50\": 0.057, \"m50_index\": 1, \"rolling_average\": 0.42857142857142855}, {\"date\": \"2020-06-05\", \"country_code\": \"US\", \"admin_level\": 2, \"admin1\": \"New York\", \"admin2\": \"Queens County\", \"fips\": 36081.0, \"samples\": 35655, \"m50\": 0.047, \"m50_index\": 1, \"rolling_average\": 0.5714285714285714}, {\"date\": \"2020-06-06\", \"country_code\": \"US\", \"admin_level\": 2, \"admin1\": \"New York\", \"admin2\": \"Queens County\", \"fips\": 36081.0, \"samples\": 35354, \"m50\": 0.048, \"m50_index\": 1, \"rolling_average\": 0.7142857142857143}, {\"date\": \"2020-06-07\", \"country_code\": \"US\", \"admin_level\": 2, \"admin1\": \"New York\", \"admin2\": \"Queens County\", \"fips\": 36081.0, \"samples\": 36384, \"m50\": 0.033, \"m50_index\": 0, \"rolling_average\": 0.7142857142857143}, {\"date\": \"2020-06-08\", \"country_code\": \"US\", \"admin_level\": 2, \"admin1\": \"New York\", \"admin2\": \"Queens County\", \"fips\": 36081.0, \"samples\": 38179, \"m50\": 0.175, \"m50_index\": 4, \"rolling_average\": 1.1428571428571428}, {\"date\": \"2020-06-09\", \"country_code\": \"US\", \"admin_level\": 2, \"admin1\": \"New York\", \"admin2\": \"Queens County\", \"fips\": 36081.0, \"samples\": 36769, \"m50\": 0.17800000000000002, \"m50_index\": 4, \"rolling_average\": 1.7142857142857142}, {\"date\": \"2020-06-10\", \"country_code\": \"US\", \"admin_level\": 2, \"admin1\": \"New York\", \"admin2\": \"Queens County\", \"fips\": 36081.0, \"samples\": 36739, \"m50\": 0.179, \"m50_index\": 4, \"rolling_average\": 2.142857142857143}, {\"date\": \"2020-06-11\", \"country_code\": \"US\", \"admin_level\": 2, \"admin1\": \"New York\", \"admin2\": \"Queens County\", \"fips\": 36081.0, \"samples\": 39754, \"m50\": 0.095, \"m50_index\": 2, \"rolling_average\": 2.2857142857142856}, {\"date\": \"2020-06-12\", \"country_code\": \"US\", \"admin_level\": 2, \"admin1\": \"New York\", \"admin2\": \"Queens County\", \"fips\": 36081.0, \"samples\": 35949, \"m50\": 0.179, \"m50_index\": 4, \"rolling_average\": 2.7142857142857144}, {\"date\": \"2020-06-13\", \"country_code\": \"US\", \"admin_level\": 2, \"admin1\": \"New York\", \"admin2\": \"Queens County\", \"fips\": 36081.0, \"samples\": 35069, \"m50\": 0.138, \"m50_index\": 3, \"rolling_average\": 3.0}, {\"date\": \"2020-06-14\", \"country_code\": \"US\", \"admin_level\": 2, \"admin1\": \"New York\", \"admin2\": \"Queens County\", \"fips\": 36081.0, \"samples\": 34220, \"m50\": 0.036000000000000004, \"m50_index\": 0, \"rolling_average\": 3.0}, {\"date\": \"2020-06-15\", \"country_code\": \"US\", \"admin_level\": 2, \"admin1\": \"New York\", \"admin2\": \"Queens County\", \"fips\": 36081.0, \"samples\": 36914, \"m50\": 0.08, \"m50_index\": 2, \"rolling_average\": 2.7142857142857144}, {\"date\": \"2020-06-16\", \"country_code\": \"US\", \"admin_level\": 2, \"admin1\": \"New York\", \"admin2\": \"Queens County\", \"fips\": 36081.0, \"samples\": 33847, \"m50\": 0.102, \"m50_index\": 2, \"rolling_average\": 2.4285714285714284}, {\"date\": \"2020-06-17\", \"country_code\": \"US\", \"admin_level\": 2, \"admin1\": \"New York\", \"admin2\": \"Queens County\", \"fips\": 36081.0, \"samples\": 36881, \"m50\": 0.23399999999999999, \"m50_index\": 6, \"rolling_average\": 2.7142857142857144}, {\"date\": \"2020-06-18\", \"country_code\": \"US\", \"admin_level\": 2, \"admin1\": \"New York\", \"admin2\": \"Queens County\", \"fips\": 36081.0, \"samples\": 34322, \"m50\": 0.302, \"m50_index\": 7, \"rolling_average\": 3.4285714285714284}, {\"date\": \"2020-06-19\", \"country_code\": \"US\", \"admin_level\": 2, \"admin1\": \"New York\", \"admin2\": \"Queens County\", \"fips\": 36081.0, \"samples\": 43017, \"m50\": 0.648, \"m50_index\": 16, \"rolling_average\": 5.142857142857143}, {\"date\": \"2020-06-20\", \"country_code\": \"US\", \"admin_level\": 2, \"admin1\": \"New York\", \"admin2\": \"Queens County\", \"fips\": 36081.0, \"samples\": 34928, \"m50\": 0.22399999999999998, \"m50_index\": 5, \"rolling_average\": 5.428571428571429}, {\"date\": \"2020-06-21\", \"country_code\": \"US\", \"admin_level\": 2, \"admin1\": \"New York\", \"admin2\": \"Queens County\", \"fips\": 36081.0, \"samples\": 32976, \"m50\": 0.047, \"m50_index\": 1, \"rolling_average\": 5.571428571428571}, {\"date\": \"2020-06-22\", \"country_code\": \"US\", \"admin_level\": 2, \"admin1\": \"New York\", \"admin2\": \"Queens County\", \"fips\": 36081.0, \"samples\": 35069, \"m50\": 0.162, \"m50_index\": 4, \"rolling_average\": 5.857142857142857}, {\"date\": \"2020-06-23\", \"country_code\": \"US\", \"admin_level\": 2, \"admin1\": \"New York\", \"admin2\": \"Queens County\", \"fips\": 36081.0, \"samples\": 35308, \"m50\": 0.41700000000000004, \"m50_index\": 10, \"rolling_average\": 7.0}, {\"date\": \"2020-06-24\", \"country_code\": \"US\", \"admin_level\": 2, \"admin1\": \"New York\", \"admin2\": \"Queens County\", \"fips\": 36081.0, \"samples\": 34002, \"m50\": 0.316, \"m50_index\": 8, \"rolling_average\": 7.285714285714286}, {\"date\": \"2020-06-25\", \"country_code\": \"US\", \"admin_level\": 2, \"admin1\": \"New York\", \"admin2\": \"Queens County\", \"fips\": 36081.0, \"samples\": 32011, \"m50\": 0.522, \"m50_index\": 13, \"rolling_average\": 8.142857142857142}, {\"date\": \"2020-06-26\", \"country_code\": \"US\", \"admin_level\": 2, \"admin1\": \"New York\", \"admin2\": \"Queens County\", \"fips\": 36081.0, \"samples\": 34289, \"m50\": 0.611, \"m50_index\": 15, \"rolling_average\": 8.0}, {\"date\": \"2020-06-27\", \"country_code\": \"US\", \"admin_level\": 2, \"admin1\": \"New York\", \"admin2\": \"Queens County\", \"fips\": 36081.0, \"samples\": 30106, \"m50\": 0.244, \"m50_index\": 6, \"rolling_average\": 8.142857142857142}, {\"date\": \"2020-06-28\", \"country_code\": \"US\", \"admin_level\": 2, \"admin1\": \"New York\", \"admin2\": \"Queens County\", \"fips\": 36081.0, \"samples\": 30992, \"m50\": 0.068, \"m50_index\": 1, \"rolling_average\": 8.142857142857142}, {\"date\": \"2020-06-29\", \"country_code\": \"US\", \"admin_level\": 2, \"admin1\": \"New York\", \"admin2\": \"Queens County\", \"fips\": 36081.0, \"samples\": 25500, \"m50\": 0.37799999999999995, \"m50_index\": 9, \"rolling_average\": 8.857142857142858}, {\"date\": \"2020-06-30\", \"country_code\": \"US\", \"admin_level\": 2, \"admin1\": \"New York\", \"admin2\": \"Queens County\", \"fips\": 36081.0, \"samples\": 33395, \"m50\": 0.653, \"m50_index\": 17, \"rolling_average\": 9.857142857142858}, {\"date\": \"2020-07-01\", \"country_code\": \"US\", \"admin_level\": 2, \"admin1\": \"New York\", \"admin2\": \"Queens County\", \"fips\": 36081.0, \"samples\": 33294, \"m50\": 0.621, \"m50_index\": 16, \"rolling_average\": 11.0}, {\"date\": \"2020-07-02\", \"country_code\": \"US\", \"admin_level\": 2, \"admin1\": \"New York\", \"admin2\": \"Queens County\", \"fips\": 36081.0, \"samples\": 33023, \"m50\": 0.922, \"m50_index\": 24, \"rolling_average\": 12.571428571428571}, {\"date\": \"2020-07-03\", \"country_code\": \"US\", \"admin_level\": 2, \"admin1\": \"New York\", \"admin2\": \"Queens County\", \"fips\": 36081.0, \"samples\": 33604, \"m50\": 0.8390000000000001, \"m50_index\": 21, \"rolling_average\": 13.428571428571429}, {\"date\": \"2020-07-04\", \"country_code\": \"US\", \"admin_level\": 2, \"admin1\": \"New York\", \"admin2\": \"Queens County\", \"fips\": 36081.0, \"samples\": 33334, \"m50\": 0.402, \"m50_index\": 10, \"rolling_average\": 14.0}, {\"date\": \"2020-07-05\", \"country_code\": \"US\", \"admin_level\": 2, \"admin1\": \"New York\", \"admin2\": \"Queens County\", \"fips\": 36081.0, \"samples\": 31200, \"m50\": 0.124, \"m50_index\": 3, \"rolling_average\": 14.285714285714286}, {\"date\": \"2020-07-06\", \"country_code\": \"US\", \"admin_level\": 2, \"admin1\": \"New York\", \"admin2\": \"Queens County\", \"fips\": 36081.0, \"samples\": 31631, \"m50\": 0.466, \"m50_index\": 12, \"rolling_average\": 14.714285714285714}, {\"date\": \"2020-07-07\", \"country_code\": \"US\", \"admin_level\": 2, \"admin1\": \"New York\", \"admin2\": \"Queens County\", \"fips\": 36081.0, \"samples\": 31555, \"m50\": 0.7140000000000001, \"m50_index\": 18, \"rolling_average\": 14.857142857142858}, {\"date\": \"2020-07-08\", \"country_code\": \"US\", \"admin_level\": 2, \"admin1\": \"New York\", \"admin2\": \"Queens County\", \"fips\": 36081.0, \"samples\": 33326, \"m50\": 0.8959999999999999, \"m50_index\": 23, \"rolling_average\": 15.857142857142858}, {\"date\": \"2020-07-09\", \"country_code\": \"US\", \"admin_level\": 2, \"admin1\": \"New York\", \"admin2\": \"Queens County\", \"fips\": 36081.0, \"samples\": 32926, \"m50\": 0.907, \"m50_index\": 23, \"rolling_average\": 15.714285714285714}, {\"date\": \"2020-07-10\", \"country_code\": \"US\", \"admin_level\": 2, \"admin1\": \"New York\", \"admin2\": \"Queens County\", \"fips\": 36081.0, \"samples\": 31912, \"m50\": 0.319, \"m50_index\": 8, \"rolling_average\": 13.857142857142858}, {\"date\": \"2020-07-11\", \"country_code\": \"US\", \"admin_level\": 2, \"admin1\": \"New York\", \"admin2\": \"Queens County\", \"fips\": 36081.0, \"samples\": 31825, \"m50\": 0.551, \"m50_index\": 14, \"rolling_average\": 14.428571428571429}, {\"date\": \"2020-07-12\", \"country_code\": \"US\", \"admin_level\": 2, \"admin1\": \"New York\", \"admin2\": \"Queens County\", \"fips\": 36081.0, \"samples\": 32105, \"m50\": 0.657, \"m50_index\": 17, \"rolling_average\": 16.428571428571427}, {\"date\": \"2020-07-13\", \"country_code\": \"US\", \"admin_level\": 2, \"admin1\": \"New York\", \"admin2\": \"Queens County\", \"fips\": 36081.0, \"samples\": 38635, \"m50\": 0.893, \"m50_index\": 23, \"rolling_average\": 18.0}, {\"date\": \"2020-07-14\", \"country_code\": \"US\", \"admin_level\": 2, \"admin1\": \"New York\", \"admin2\": \"Queens County\", \"fips\": 36081.0, \"samples\": 36785, \"m50\": 1.6680000000000001, \"m50_index\": 43, \"rolling_average\": 21.571428571428573}, {\"date\": \"2020-07-15\", \"country_code\": \"US\", \"admin_level\": 2, \"admin1\": \"New York\", \"admin2\": \"Queens County\", \"fips\": 36081.0, \"samples\": 38229, \"m50\": 1.026, \"m50_index\": 26, \"rolling_average\": 22.0}, {\"date\": \"2020-07-16\", \"country_code\": \"US\", \"admin_level\": 2, \"admin1\": \"New York\", \"admin2\": \"Queens County\", \"fips\": 36081.0, \"samples\": 37077, \"m50\": 0.8540000000000001, \"m50_index\": 22, \"rolling_average\": 21.857142857142858}, {\"date\": \"2020-07-17\", \"country_code\": \"US\", \"admin_level\": 2, \"admin1\": \"New York\", \"admin2\": \"Queens County\", \"fips\": 36081.0, \"samples\": 46856, \"m50\": 1.704, \"m50_index\": 44, \"rolling_average\": 27.0}, {\"date\": \"2020-07-18\", \"country_code\": \"US\", \"admin_level\": 2, \"admin1\": \"New York\", \"admin2\": \"Queens County\", \"fips\": 36081.0, \"samples\": 37215, \"m50\": 0.9670000000000001, \"m50_index\": 25, \"rolling_average\": 28.571428571428573}, {\"date\": \"2020-07-19\", \"country_code\": \"US\", \"admin_level\": 2, \"admin1\": \"New York\", \"admin2\": \"Queens County\", \"fips\": 36081.0, \"samples\": 38818, \"m50\": 0.23399999999999999, \"m50_index\": 6, \"rolling_average\": 27.0}, {\"date\": \"2020-07-20\", \"country_code\": \"US\", \"admin_level\": 2, \"admin1\": \"New York\", \"admin2\": \"Queens County\", \"fips\": 36081.0, \"samples\": 35619, \"m50\": 0.38799999999999996, \"m50_index\": 10, \"rolling_average\": 25.142857142857142}, {\"date\": \"2020-07-21\", \"country_code\": \"US\", \"admin_level\": 2, \"admin1\": \"New York\", \"admin2\": \"Queens County\", \"fips\": 36081.0, \"samples\": 35305, \"m50\": 0.581, \"m50_index\": 15, \"rolling_average\": 21.142857142857142}, {\"date\": \"2020-07-22\", \"country_code\": \"US\", \"admin_level\": 2, \"admin1\": \"New York\", \"admin2\": \"Queens County\", \"fips\": 36081.0, \"samples\": 37921, \"m50\": 0.522, \"m50_index\": 13, \"rolling_average\": 19.285714285714285}, {\"date\": \"2020-07-23\", \"country_code\": \"US\", \"admin_level\": 2, \"admin1\": \"New York\", \"admin2\": \"Queens County\", \"fips\": 36081.0, \"samples\": 38119, \"m50\": 0.489, \"m50_index\": 12, \"rolling_average\": 17.857142857142858}, {\"date\": \"2020-07-24\", \"country_code\": \"US\", \"admin_level\": 2, \"admin1\": \"New York\", \"admin2\": \"Queens County\", \"fips\": 36081.0, \"samples\": 36184, \"m50\": 0.6920000000000001, \"m50_index\": 18, \"rolling_average\": 14.142857142857142}, {\"date\": \"2020-07-25\", \"country_code\": \"US\", \"admin_level\": 2, \"admin1\": \"New York\", \"admin2\": \"Queens County\", \"fips\": 36081.0, \"samples\": 35937, \"m50\": 0.478, \"m50_index\": 12, \"rolling_average\": 12.285714285714286}, {\"date\": \"2020-07-26\", \"country_code\": \"US\", \"admin_level\": 2, \"admin1\": \"New York\", \"admin2\": \"Queens County\", \"fips\": 36081.0, \"samples\": 34290, \"m50\": 0.106, \"m50_index\": 2, \"rolling_average\": 11.714285714285714}, {\"date\": \"2020-07-27\", \"country_code\": \"US\", \"admin_level\": 2, \"admin1\": \"New York\", \"admin2\": \"Queens County\", \"fips\": 36081.0, \"samples\": 37588, \"m50\": 0.359, \"m50_index\": 9, \"rolling_average\": 11.571428571428571}, {\"date\": \"2020-07-28\", \"country_code\": \"US\", \"admin_level\": 2, \"admin1\": \"New York\", \"admin2\": \"Queens County\", \"fips\": 36081.0, \"samples\": 38286, \"m50\": 0.579, \"m50_index\": 15, \"rolling_average\": 11.571428571428571}, {\"date\": \"2020-07-29\", \"country_code\": \"US\", \"admin_level\": 2, \"admin1\": \"New York\", \"admin2\": \"Queens County\", \"fips\": 36081.0, \"samples\": 39871, \"m50\": 0.636, \"m50_index\": 16, \"rolling_average\": 12.0}, {\"date\": \"2020-07-30\", \"country_code\": \"US\", \"admin_level\": 2, \"admin1\": \"New York\", \"admin2\": \"Queens County\", \"fips\": 36081.0, \"samples\": 41046, \"m50\": 0.6970000000000001, \"m50_index\": 18, \"rolling_average\": 12.857142857142858}, {\"date\": \"2020-07-31\", \"country_code\": \"US\", \"admin_level\": 2, \"admin1\": \"New York\", \"admin2\": \"Queens County\", \"fips\": 36081.0, \"samples\": 38568, \"m50\": 0.79, \"m50_index\": 20, \"rolling_average\": 13.142857142857142}, {\"date\": \"2020-08-01\", \"country_code\": \"US\", \"admin_level\": 2, \"admin1\": \"New York\", \"admin2\": \"Queens County\", \"fips\": 36081.0, \"samples\": 36217, \"m50\": 0.733, \"m50_index\": 19, \"rolling_average\": 14.142857142857142}, {\"date\": \"2020-08-02\", \"country_code\": \"US\", \"admin_level\": 2, \"admin1\": \"New York\", \"admin2\": \"Queens County\", \"fips\": 36081.0, \"samples\": 39110, \"m50\": 0.062, \"m50_index\": 1, \"rolling_average\": 14.0}, {\"date\": \"2020-08-03\", \"country_code\": \"US\", \"admin_level\": 2, \"admin1\": \"New York\", \"admin2\": \"Queens County\", \"fips\": 36081.0, \"samples\": 39985, \"m50\": 0.601, \"m50_index\": 15, \"rolling_average\": 14.857142857142858}, {\"date\": \"2020-08-04\", \"country_code\": \"US\", \"admin_level\": 2, \"admin1\": \"New York\", \"admin2\": \"Queens County\", \"fips\": 36081.0, \"samples\": 39689, \"m50\": 0.171, \"m50_index\": 4, \"rolling_average\": 13.285714285714286}, {\"date\": \"2020-08-05\", \"country_code\": \"US\", \"admin_level\": 2, \"admin1\": \"New York\", \"admin2\": \"Queens County\", \"fips\": 36081.0, \"samples\": 36554, \"m50\": 0.9059999999999999, \"m50_index\": 23, \"rolling_average\": 14.285714285714286}, {\"date\": \"2020-08-06\", \"country_code\": \"US\", \"admin_level\": 2, \"admin1\": \"New York\", \"admin2\": \"Queens County\", \"fips\": 36081.0, \"samples\": 40105, \"m50\": 0.789, \"m50_index\": 20, \"rolling_average\": 14.571428571428571}, {\"date\": \"2020-08-07\", \"country_code\": \"US\", \"admin_level\": 2, \"admin1\": \"New York\", \"admin2\": \"Queens County\", \"fips\": 36081.0, \"samples\": 37762, \"m50\": 0.857, \"m50_index\": 22, \"rolling_average\": 14.857142857142858}, {\"date\": \"2020-08-08\", \"country_code\": \"US\", \"admin_level\": 2, \"admin1\": \"New York\", \"admin2\": \"Queens County\", \"fips\": 36081.0, \"samples\": 32671, \"m50\": 0.7140000000000001, \"m50_index\": 18, \"rolling_average\": 14.714285714285714}, {\"date\": \"2020-08-09\", \"country_code\": \"US\", \"admin_level\": 2, \"admin1\": \"New York\", \"admin2\": \"Queens County\", \"fips\": 36081.0, \"samples\": 33830, \"m50\": 0.221, \"m50_index\": 5, \"rolling_average\": 15.285714285714286}, {\"date\": \"2020-08-10\", \"country_code\": \"US\", \"admin_level\": 2, \"admin1\": \"New York\", \"admin2\": \"Queens County\", \"fips\": 36081.0, \"samples\": 36840, \"m50\": 0.825, \"m50_index\": 21, \"rolling_average\": 16.142857142857142}, {\"date\": \"2020-08-11\", \"country_code\": \"US\", \"admin_level\": 2, \"admin1\": \"New York\", \"admin2\": \"Queens County\", \"fips\": 36081.0, \"samples\": 37263, \"m50\": 0.85, \"m50_index\": 22, \"rolling_average\": 18.714285714285715}]}}, {\"mode\": \"vega-lite\"});\n",
              "</script>"
            ]
          },
          "metadata": {
            "tags": []
          },
          "execution_count": 151
        }
      ]
    },
    {
      "cell_type": "code",
      "metadata": {
        "id": "giV8kO9t1-N4",
        "colab_type": "code",
        "colab": {
          "base_uri": "https://localhost:8080/",
          "height": 430
        },
        "outputId": "b7f63f8f-51d6-4590-8bc0-424d72315708"
      },
      "source": [
        "bar = base_queens.mark_bar().encode(y=\"m50_index\")\n",
        "\n",
        "line =  base_queens.mark_line(color='red').encode(\n",
        "    y='rolling_average'\n",
        ")\n",
        "\n",
        "(bar + line).properties(title='Queens County - Social Distancing Metric and rolling average ',width=600)|base_queens.encode(y=\"rolling_average\").properties(title='Queens County- 7 day rolling average (Social Distancing Metric)')"
      ],
      "execution_count": 152,
      "outputs": [
        {
          "output_type": "execute_result",
          "data": {
            "text/plain": [
              "alt.HConcatChart(...)"
            ],
            "text/html": [
              "\n",
              "<div id=\"altair-viz-1ff2525086c94f5aa09c5a64a9c18b55\"></div>\n",
              "<script type=\"text/javascript\">\n",
              "  (function(spec, embedOpt){\n",
              "    let outputDiv = document.currentScript.previousElementSibling;\n",
              "    if (outputDiv.id !== \"altair-viz-1ff2525086c94f5aa09c5a64a9c18b55\") {\n",
              "      outputDiv = document.getElementById(\"altair-viz-1ff2525086c94f5aa09c5a64a9c18b55\");\n",
              "    }\n",
              "    const paths = {\n",
              "      \"vega\": \"https://cdn.jsdelivr.net/npm//vega@5?noext\",\n",
              "      \"vega-lib\": \"https://cdn.jsdelivr.net/npm//vega-lib?noext\",\n",
              "      \"vega-lite\": \"https://cdn.jsdelivr.net/npm//vega-lite@4.8.1?noext\",\n",
              "      \"vega-embed\": \"https://cdn.jsdelivr.net/npm//vega-embed@6?noext\",\n",
              "    };\n",
              "\n",
              "    function loadScript(lib) {\n",
              "      return new Promise(function(resolve, reject) {\n",
              "        var s = document.createElement('script');\n",
              "        s.src = paths[lib];\n",
              "        s.async = true;\n",
              "        s.onload = () => resolve(paths[lib]);\n",
              "        s.onerror = () => reject(`Error loading script: ${paths[lib]}`);\n",
              "        document.getElementsByTagName(\"head\")[0].appendChild(s);\n",
              "      });\n",
              "    }\n",
              "\n",
              "    function showError(err) {\n",
              "      outputDiv.innerHTML = `<div class=\"error\" style=\"color:red;\">${err}</div>`;\n",
              "      throw err;\n",
              "    }\n",
              "\n",
              "    function displayChart(vegaEmbed) {\n",
              "      vegaEmbed(outputDiv, spec, embedOpt)\n",
              "        .catch(err => showError(`Javascript Error: ${err.message}<br>This usually means there's a typo in your chart specification. See the javascript console for the full traceback.`));\n",
              "    }\n",
              "\n",
              "    if(typeof define === \"function\" && define.amd) {\n",
              "      requirejs.config({paths});\n",
              "      require([\"vega-embed\"], displayChart, err => showError(`Error loading script: ${err.message}`));\n",
              "    } else if (typeof vegaEmbed === \"function\") {\n",
              "      displayChart(vegaEmbed);\n",
              "    } else {\n",
              "      loadScript(\"vega\")\n",
              "        .then(() => loadScript(\"vega-lite\"))\n",
              "        .then(() => loadScript(\"vega-embed\"))\n",
              "        .catch(showError)\n",
              "        .then(() => displayChart(vegaEmbed));\n",
              "    }\n",
              "  })({\"config\": {\"view\": {\"continuousWidth\": 400, \"continuousHeight\": 300}}, \"hconcat\": [{\"layer\": [{\"mark\": \"bar\", \"encoding\": {\"x\": {\"type\": \"ordinal\", \"field\": \"date\", \"timeUnit\": \"monthdate\"}, \"y\": {\"type\": \"quantitative\", \"field\": \"m50_index\"}}, \"width\": 500}, {\"mark\": {\"type\": \"line\", \"color\": \"red\"}, \"encoding\": {\"x\": {\"type\": \"ordinal\", \"field\": \"date\", \"timeUnit\": \"monthdate\"}, \"y\": {\"type\": \"quantitative\", \"field\": \"rolling_average\"}}, \"width\": 500}], \"title\": \"Queens County - Social Distancing Metric and rolling average \", \"width\": 600}, {\"mark\": \"bar\", \"encoding\": {\"x\": {\"type\": \"ordinal\", \"field\": \"date\", \"timeUnit\": \"monthdate\"}, \"y\": {\"type\": \"quantitative\", \"field\": \"rolling_average\"}}, \"title\": \"Queens County- 7 day rolling average (Social Distancing Metric)\", \"width\": 500}], \"data\": {\"name\": \"data-c87f9b2b46a07bf6a743b8069fc9c04d\"}, \"$schema\": \"https://vega.github.io/schema/vega-lite/v4.8.1.json\", \"datasets\": {\"data-c87f9b2b46a07bf6a743b8069fc9c04d\": [{\"date\": \"2020-03-01\", \"country_code\": \"US\", \"admin_level\": 2, \"admin1\": \"New York\", \"admin2\": \"Queens County\", \"fips\": 36081.0, \"samples\": 26218, \"m50\": 1.339, \"m50_index\": 35, \"rolling_average\": null}, {\"date\": \"2020-03-02\", \"country_code\": \"US\", \"admin_level\": 2, \"admin1\": \"New York\", \"admin2\": \"Queens County\", \"fips\": 36081.0, \"samples\": 27435, \"m50\": 3.813, \"m50_index\": 99, \"rolling_average\": null}, {\"date\": \"2020-03-03\", \"country_code\": \"US\", \"admin_level\": 2, \"admin1\": \"New York\", \"admin2\": \"Queens County\", \"fips\": 36081.0, \"samples\": 28459, \"m50\": 3.747, \"m50_index\": 98, \"rolling_average\": null}, {\"date\": \"2020-03-04\", \"country_code\": \"US\", \"admin_level\": 2, \"admin1\": \"New York\", \"admin2\": \"Queens County\", \"fips\": 36081.0, \"samples\": 29480, \"m50\": 3.822, \"m50_index\": 99, \"rolling_average\": null}, {\"date\": \"2020-03-05\", \"country_code\": \"US\", \"admin_level\": 2, \"admin1\": \"New York\", \"admin2\": \"Queens County\", \"fips\": 36081.0, \"samples\": 27602, \"m50\": 4.052, \"m50_index\": 106, \"rolling_average\": null}, {\"date\": \"2020-03-06\", \"country_code\": \"US\", \"admin_level\": 2, \"admin1\": \"New York\", \"admin2\": \"Queens County\", \"fips\": 36081.0, \"samples\": 27713, \"m50\": 3.9210000000000003, \"m50_index\": 102, \"rolling_average\": null}, {\"date\": \"2020-03-07\", \"country_code\": \"US\", \"admin_level\": 2, \"admin1\": \"New York\", \"admin2\": \"Queens County\", \"fips\": 36081.0, \"samples\": 27919, \"m50\": 2.189, \"m50_index\": 57, \"rolling_average\": 85.14285714285714}, {\"date\": \"2020-03-08\", \"country_code\": \"US\", \"admin_level\": 2, \"admin1\": \"New York\", \"admin2\": \"Queens County\", \"fips\": 36081.0, \"samples\": 29098, \"m50\": 1.172, \"m50_index\": 30, \"rolling_average\": 84.42857142857143}, {\"date\": \"2020-03-09\", \"country_code\": \"US\", \"admin_level\": 2, \"admin1\": \"New York\", \"admin2\": \"Queens County\", \"fips\": 36081.0, \"samples\": 29449, \"m50\": 3.528, \"m50_index\": 92, \"rolling_average\": 83.42857142857143}, {\"date\": \"2020-03-10\", \"country_code\": \"US\", \"admin_level\": 2, \"admin1\": \"New York\", \"admin2\": \"Queens County\", \"fips\": 36081.0, \"samples\": 28607, \"m50\": 3.375, \"m50_index\": 88, \"rolling_average\": 82.0}, {\"date\": \"2020-03-11\", \"country_code\": \"US\", \"admin_level\": 2, \"admin1\": \"New York\", \"admin2\": \"Queens County\", \"fips\": 36081.0, \"samples\": 28585, \"m50\": 3.495, \"m50_index\": 91, \"rolling_average\": 80.85714285714286}, {\"date\": \"2020-03-12\", \"country_code\": \"US\", \"admin_level\": 2, \"admin1\": \"New York\", \"admin2\": \"Queens County\", \"fips\": 36081.0, \"samples\": 28488, \"m50\": 3.193, \"m50_index\": 83, \"rolling_average\": 77.57142857142857}, {\"date\": \"2020-03-13\", \"country_code\": \"US\", \"admin_level\": 2, \"admin1\": \"New York\", \"admin2\": \"Queens County\", \"fips\": 36081.0, \"samples\": 27467, \"m50\": 2.8160000000000003, \"m50_index\": 73, \"rolling_average\": 73.42857142857143}, {\"date\": \"2020-03-14\", \"country_code\": \"US\", \"admin_level\": 2, \"admin1\": \"New York\", \"admin2\": \"Queens County\", \"fips\": 36081.0, \"samples\": 25669, \"m50\": 1.021, \"m50_index\": 26, \"rolling_average\": 69.0}, {\"date\": \"2020-03-15\", \"country_code\": \"US\", \"admin_level\": 2, \"admin1\": \"New York\", \"admin2\": \"Queens County\", \"fips\": 36081.0, \"samples\": 25555, \"m50\": 0.3, \"m50_index\": 7, \"rolling_average\": 65.71428571428571}, {\"date\": \"2020-03-16\", \"country_code\": \"US\", \"admin_level\": 2, \"admin1\": \"New York\", \"admin2\": \"Queens County\", \"fips\": 36081.0, \"samples\": 25482, \"m50\": 0.86, \"m50_index\": 22, \"rolling_average\": 55.714285714285715}, {\"date\": \"2020-03-17\", \"country_code\": \"US\", \"admin_level\": 2, \"admin1\": \"New York\", \"admin2\": \"Queens County\", \"fips\": 36081.0, \"samples\": 27584, \"m50\": 0.249, \"m50_index\": 6, \"rolling_average\": 44.0}, {\"date\": \"2020-03-18\", \"country_code\": \"US\", \"admin_level\": 2, \"admin1\": \"New York\", \"admin2\": \"Queens County\", \"fips\": 36081.0, \"samples\": 26104, \"m50\": 0.177, \"m50_index\": 4, \"rolling_average\": 31.571428571428573}, {\"date\": \"2020-03-19\", \"country_code\": \"US\", \"admin_level\": 2, \"admin1\": \"New York\", \"admin2\": \"Queens County\", \"fips\": 36081.0, \"samples\": 26152, \"m50\": 0.061, \"m50_index\": 1, \"rolling_average\": 19.857142857142858}, {\"date\": \"2020-03-20\", \"country_code\": \"US\", \"admin_level\": 2, \"admin1\": \"New York\", \"admin2\": \"Queens County\", \"fips\": 36081.0, \"samples\": 23521, \"m50\": 0.068, \"m50_index\": 1, \"rolling_average\": 9.571428571428571}, {\"date\": \"2020-03-21\", \"country_code\": \"US\", \"admin_level\": 2, \"admin1\": \"New York\", \"admin2\": \"Queens County\", \"fips\": 36081.0, \"samples\": 21635, \"m50\": 0.024, \"m50_index\": 0, \"rolling_average\": 5.857142857142857}, {\"date\": \"2020-03-22\", \"country_code\": \"US\", \"admin_level\": 2, \"admin1\": \"New York\", \"admin2\": \"Queens County\", \"fips\": 36081.0, \"samples\": 22604, \"m50\": 0.018000000000000002, \"m50_index\": 0, \"rolling_average\": 4.857142857142857}, {\"date\": \"2020-03-23\", \"country_code\": \"US\", \"admin_level\": 2, \"admin1\": \"New York\", \"admin2\": \"Queens County\", \"fips\": 36081.0, \"samples\": 24428, \"m50\": 0.017, \"m50_index\": 0, \"rolling_average\": 1.7142857142857142}, {\"date\": \"2020-03-24\", \"country_code\": \"US\", \"admin_level\": 2, \"admin1\": \"New York\", \"admin2\": \"Queens County\", \"fips\": 36081.0, \"samples\": 25039, \"m50\": 0.02, \"m50_index\": 0, \"rolling_average\": 0.8571428571428571}, {\"date\": \"2020-03-25\", \"country_code\": \"US\", \"admin_level\": 2, \"admin1\": \"New York\", \"admin2\": \"Queens County\", \"fips\": 36081.0, \"samples\": 23880, \"m50\": 0.018000000000000002, \"m50_index\": 0, \"rolling_average\": 0.2857142857142857}, {\"date\": \"2020-03-26\", \"country_code\": \"US\", \"admin_level\": 2, \"admin1\": \"New York\", \"admin2\": \"Queens County\", \"fips\": 36081.0, \"samples\": 25243, \"m50\": 0.019, \"m50_index\": 0, \"rolling_average\": 0.14285714285714285}, {\"date\": \"2020-03-27\", \"country_code\": \"US\", \"admin_level\": 2, \"admin1\": \"New York\", \"admin2\": \"Queens County\", \"fips\": 36081.0, \"samples\": 25761, \"m50\": 0.019, \"m50_index\": 0, \"rolling_average\": 0.0}, {\"date\": \"2020-03-28\", \"country_code\": \"US\", \"admin_level\": 2, \"admin1\": \"New York\", \"admin2\": \"Queens County\", \"fips\": 36081.0, \"samples\": 23756, \"m50\": 0.015, \"m50_index\": 0, \"rolling_average\": 0.0}, {\"date\": \"2020-03-29\", \"country_code\": \"US\", \"admin_level\": 2, \"admin1\": \"New York\", \"admin2\": \"Queens County\", \"fips\": 36081.0, \"samples\": 23988, \"m50\": 0.013999999999999999, \"m50_index\": 0, \"rolling_average\": 0.0}, {\"date\": \"2020-03-30\", \"country_code\": \"US\", \"admin_level\": 2, \"admin1\": \"New York\", \"admin2\": \"Queens County\", \"fips\": 36081.0, \"samples\": 25036, \"m50\": 0.016, \"m50_index\": 0, \"rolling_average\": 0.0}, {\"date\": \"2020-03-31\", \"country_code\": \"US\", \"admin_level\": 2, \"admin1\": \"New York\", \"admin2\": \"Queens County\", \"fips\": 36081.0, \"samples\": 24775, \"m50\": 0.016, \"m50_index\": 0, \"rolling_average\": 0.0}, {\"date\": \"2020-04-01\", \"country_code\": \"US\", \"admin_level\": 2, \"admin1\": \"New York\", \"admin2\": \"Queens County\", \"fips\": 36081.0, \"samples\": 24577, \"m50\": 0.016, \"m50_index\": 0, \"rolling_average\": 0.0}, {\"date\": \"2020-04-02\", \"country_code\": \"US\", \"admin_level\": 2, \"admin1\": \"New York\", \"admin2\": \"Queens County\", \"fips\": 36081.0, \"samples\": 24161, \"m50\": 0.017, \"m50_index\": 0, \"rolling_average\": 0.0}, {\"date\": \"2020-04-03\", \"country_code\": \"US\", \"admin_level\": 2, \"admin1\": \"New York\", \"admin2\": \"Queens County\", \"fips\": 36081.0, \"samples\": 23170, \"m50\": 0.016, \"m50_index\": 0, \"rolling_average\": 0.0}, {\"date\": \"2020-04-04\", \"country_code\": \"US\", \"admin_level\": 2, \"admin1\": \"New York\", \"admin2\": \"Queens County\", \"fips\": 36081.0, \"samples\": 22138, \"m50\": 0.016, \"m50_index\": 0, \"rolling_average\": 0.0}, {\"date\": \"2020-04-05\", \"country_code\": \"US\", \"admin_level\": 2, \"admin1\": \"New York\", \"admin2\": \"Queens County\", \"fips\": 36081.0, \"samples\": 25254, \"m50\": 0.015, \"m50_index\": 0, \"rolling_average\": 0.0}, {\"date\": \"2020-04-06\", \"country_code\": \"US\", \"admin_level\": 2, \"admin1\": \"New York\", \"admin2\": \"Queens County\", \"fips\": 36081.0, \"samples\": 22835, \"m50\": 0.017, \"m50_index\": 0, \"rolling_average\": 0.0}, {\"date\": \"2020-04-07\", \"country_code\": \"US\", \"admin_level\": 2, \"admin1\": \"New York\", \"admin2\": \"Queens County\", \"fips\": 36081.0, \"samples\": 23289, \"m50\": 0.017, \"m50_index\": 0, \"rolling_average\": 0.0}, {\"date\": \"2020-04-08\", \"country_code\": \"US\", \"admin_level\": 2, \"admin1\": \"New York\", \"admin2\": \"Queens County\", \"fips\": 36081.0, \"samples\": 23825, \"m50\": 0.016, \"m50_index\": 0, \"rolling_average\": 0.0}, {\"date\": \"2020-04-09\", \"country_code\": \"US\", \"admin_level\": 2, \"admin1\": \"New York\", \"admin2\": \"Queens County\", \"fips\": 36081.0, \"samples\": 23714, \"m50\": 0.015, \"m50_index\": 0, \"rolling_average\": 0.0}, {\"date\": \"2020-04-10\", \"country_code\": \"US\", \"admin_level\": 2, \"admin1\": \"New York\", \"admin2\": \"Queens County\", \"fips\": 36081.0, \"samples\": 22224, \"m50\": 0.015, \"m50_index\": 0, \"rolling_average\": 0.0}, {\"date\": \"2020-04-11\", \"country_code\": \"US\", \"admin_level\": 2, \"admin1\": \"New York\", \"admin2\": \"Queens County\", \"fips\": 36081.0, \"samples\": 23689, \"m50\": 0.015, \"m50_index\": 0, \"rolling_average\": 0.0}, {\"date\": \"2020-04-12\", \"country_code\": \"US\", \"admin_level\": 2, \"admin1\": \"New York\", \"admin2\": \"Queens County\", \"fips\": 36081.0, \"samples\": 23040, \"m50\": 0.013999999999999999, \"m50_index\": 0, \"rolling_average\": 0.0}, {\"date\": \"2020-04-13\", \"country_code\": \"US\", \"admin_level\": 2, \"admin1\": \"New York\", \"admin2\": \"Queens County\", \"fips\": 36081.0, \"samples\": 22462, \"m50\": 0.013999999999999999, \"m50_index\": 0, \"rolling_average\": 0.0}, {\"date\": \"2020-04-14\", \"country_code\": \"US\", \"admin_level\": 2, \"admin1\": \"New York\", \"admin2\": \"Queens County\", \"fips\": 36081.0, \"samples\": 24095, \"m50\": 0.017, \"m50_index\": 0, \"rolling_average\": 0.0}, {\"date\": \"2020-04-15\", \"country_code\": \"US\", \"admin_level\": 2, \"admin1\": \"New York\", \"admin2\": \"Queens County\", \"fips\": 36081.0, \"samples\": 25184, \"m50\": 0.017, \"m50_index\": 0, \"rolling_average\": 0.0}, {\"date\": \"2020-04-16\", \"country_code\": \"US\", \"admin_level\": 2, \"admin1\": \"New York\", \"admin2\": \"Queens County\", \"fips\": 36081.0, \"samples\": 24071, \"m50\": 0.017, \"m50_index\": 0, \"rolling_average\": 0.0}, {\"date\": \"2020-04-17\", \"country_code\": \"US\", \"admin_level\": 2, \"admin1\": \"New York\", \"admin2\": \"Queens County\", \"fips\": 36081.0, \"samples\": 24004, \"m50\": 0.018000000000000002, \"m50_index\": 0, \"rolling_average\": 0.0}, {\"date\": \"2020-04-18\", \"country_code\": \"US\", \"admin_level\": 2, \"admin1\": \"New York\", \"admin2\": \"Queens County\", \"fips\": 36081.0, \"samples\": 23458, \"m50\": 0.015, \"m50_index\": 0, \"rolling_average\": 0.0}, {\"date\": \"2020-04-19\", \"country_code\": \"US\", \"admin_level\": 2, \"admin1\": \"New York\", \"admin2\": \"Queens County\", \"fips\": 36081.0, \"samples\": 22917, \"m50\": 0.015, \"m50_index\": 0, \"rolling_average\": 0.0}, {\"date\": \"2020-04-21\", \"country_code\": \"US\", \"admin_level\": 2, \"admin1\": \"New York\", \"admin2\": \"Queens County\", \"fips\": 36081.0, \"samples\": 30068, \"m50\": 0.017, \"m50_index\": 0, \"rolling_average\": 0.0}, {\"date\": \"2020-04-22\", \"country_code\": \"US\", \"admin_level\": 2, \"admin1\": \"New York\", \"admin2\": \"Queens County\", \"fips\": 36081.0, \"samples\": 30795, \"m50\": 0.019, \"m50_index\": 0, \"rolling_average\": 0.0}, {\"date\": \"2020-04-23\", \"country_code\": \"US\", \"admin_level\": 2, \"admin1\": \"New York\", \"admin2\": \"Queens County\", \"fips\": 36081.0, \"samples\": 31301, \"m50\": 0.02, \"m50_index\": 0, \"rolling_average\": 0.0}, {\"date\": \"2020-04-24\", \"country_code\": \"US\", \"admin_level\": 2, \"admin1\": \"New York\", \"admin2\": \"Queens County\", \"fips\": 36081.0, \"samples\": 28454, \"m50\": 0.019, \"m50_index\": 0, \"rolling_average\": 0.0}, {\"date\": \"2020-04-25\", \"country_code\": \"US\", \"admin_level\": 2, \"admin1\": \"New York\", \"admin2\": \"Queens County\", \"fips\": 36081.0, \"samples\": 30229, \"m50\": 0.019, \"m50_index\": 0, \"rolling_average\": 0.0}, {\"date\": \"2020-04-26\", \"country_code\": \"US\", \"admin_level\": 2, \"admin1\": \"New York\", \"admin2\": \"Queens County\", \"fips\": 36081.0, \"samples\": 29938, \"m50\": 0.013999999999999999, \"m50_index\": 0, \"rolling_average\": 0.0}, {\"date\": \"2020-04-27\", \"country_code\": \"US\", \"admin_level\": 2, \"admin1\": \"New York\", \"admin2\": \"Queens County\", \"fips\": 36081.0, \"samples\": 30392, \"m50\": 0.018000000000000002, \"m50_index\": 0, \"rolling_average\": 0.0}, {\"date\": \"2020-04-28\", \"country_code\": \"US\", \"admin_level\": 2, \"admin1\": \"New York\", \"admin2\": \"Queens County\", \"fips\": 36081.0, \"samples\": 33313, \"m50\": 0.021, \"m50_index\": 0, \"rolling_average\": 0.0}, {\"date\": \"2020-04-29\", \"country_code\": \"US\", \"admin_level\": 2, \"admin1\": \"New York\", \"admin2\": \"Queens County\", \"fips\": 36081.0, \"samples\": 30027, \"m50\": 0.019, \"m50_index\": 0, \"rolling_average\": 0.0}, {\"date\": \"2020-04-30\", \"country_code\": \"US\", \"admin_level\": 2, \"admin1\": \"New York\", \"admin2\": \"Queens County\", \"fips\": 36081.0, \"samples\": 35706, \"m50\": 0.017, \"m50_index\": 0, \"rolling_average\": 0.0}, {\"date\": \"2020-05-01\", \"country_code\": \"US\", \"admin_level\": 2, \"admin1\": \"New York\", \"admin2\": \"Queens County\", \"fips\": 36081.0, \"samples\": 33325, \"m50\": 0.02, \"m50_index\": 0, \"rolling_average\": 0.0}, {\"date\": \"2020-05-02\", \"country_code\": \"US\", \"admin_level\": 2, \"admin1\": \"New York\", \"admin2\": \"Queens County\", \"fips\": 36081.0, \"samples\": 35586, \"m50\": 0.024, \"m50_index\": 0, \"rolling_average\": 0.0}, {\"date\": \"2020-05-03\", \"country_code\": \"US\", \"admin_level\": 2, \"admin1\": \"New York\", \"admin2\": \"Queens County\", \"fips\": 36081.0, \"samples\": 35575, \"m50\": 0.02, \"m50_index\": 0, \"rolling_average\": 0.0}, {\"date\": \"2020-05-04\", \"country_code\": \"US\", \"admin_level\": 2, \"admin1\": \"New York\", \"admin2\": \"Queens County\", \"fips\": 36081.0, \"samples\": 26165, \"m50\": 0.019, \"m50_index\": 0, \"rolling_average\": 0.0}, {\"date\": \"2020-05-05\", \"country_code\": \"US\", \"admin_level\": 2, \"admin1\": \"New York\", \"admin2\": \"Queens County\", \"fips\": 36081.0, \"samples\": 26633, \"m50\": 0.021, \"m50_index\": 0, \"rolling_average\": 0.0}, {\"date\": \"2020-05-06\", \"country_code\": \"US\", \"admin_level\": 2, \"admin1\": \"New York\", \"admin2\": \"Queens County\", \"fips\": 36081.0, \"samples\": 27819, \"m50\": 0.02, \"m50_index\": 0, \"rolling_average\": 0.0}, {\"date\": \"2020-05-07\", \"country_code\": \"US\", \"admin_level\": 2, \"admin1\": \"New York\", \"admin2\": \"Queens County\", \"fips\": 36081.0, \"samples\": 29651, \"m50\": 0.022000000000000002, \"m50_index\": 0, \"rolling_average\": 0.0}, {\"date\": \"2020-05-08\", \"country_code\": \"US\", \"admin_level\": 2, \"admin1\": \"New York\", \"admin2\": \"Queens County\", \"fips\": 36081.0, \"samples\": 27390, \"m50\": 0.019, \"m50_index\": 0, \"rolling_average\": 0.0}, {\"date\": \"2020-05-09\", \"country_code\": \"US\", \"admin_level\": 2, \"admin1\": \"New York\", \"admin2\": \"Queens County\", \"fips\": 36081.0, \"samples\": 27340, \"m50\": 0.017, \"m50_index\": 0, \"rolling_average\": 0.0}, {\"date\": \"2020-05-10\", \"country_code\": \"US\", \"admin_level\": 2, \"admin1\": \"New York\", \"admin2\": \"Queens County\", \"fips\": 36081.0, \"samples\": 27660, \"m50\": 0.017, \"m50_index\": 0, \"rolling_average\": 0.0}, {\"date\": \"2020-05-11\", \"country_code\": \"US\", \"admin_level\": 2, \"admin1\": \"New York\", \"admin2\": \"Queens County\", \"fips\": 36081.0, \"samples\": 27697, \"m50\": 0.017, \"m50_index\": 0, \"rolling_average\": 0.0}, {\"date\": \"2020-05-12\", \"country_code\": \"US\", \"admin_level\": 2, \"admin1\": \"New York\", \"admin2\": \"Queens County\", \"fips\": 36081.0, \"samples\": 29950, \"m50\": 0.021, \"m50_index\": 0, \"rolling_average\": 0.0}, {\"date\": \"2020-05-13\", \"country_code\": \"US\", \"admin_level\": 2, \"admin1\": \"New York\", \"admin2\": \"Queens County\", \"fips\": 36081.0, \"samples\": 28052, \"m50\": 0.02, \"m50_index\": 0, \"rolling_average\": 0.0}, {\"date\": \"2020-05-14\", \"country_code\": \"US\", \"admin_level\": 2, \"admin1\": \"New York\", \"admin2\": \"Queens County\", \"fips\": 36081.0, \"samples\": 28825, \"m50\": 0.02, \"m50_index\": 0, \"rolling_average\": 0.0}, {\"date\": \"2020-05-15\", \"country_code\": \"US\", \"admin_level\": 2, \"admin1\": \"New York\", \"admin2\": \"Queens County\", \"fips\": 36081.0, \"samples\": 39926, \"m50\": 0.027999999999999997, \"m50_index\": 0, \"rolling_average\": 0.0}, {\"date\": \"2020-05-16\", \"country_code\": \"US\", \"admin_level\": 2, \"admin1\": \"New York\", \"admin2\": \"Queens County\", \"fips\": 36081.0, \"samples\": 38747, \"m50\": 0.025, \"m50_index\": 0, \"rolling_average\": 0.0}, {\"date\": \"2020-05-17\", \"country_code\": \"US\", \"admin_level\": 2, \"admin1\": \"New York\", \"admin2\": \"Queens County\", \"fips\": 36081.0, \"samples\": 38293, \"m50\": 0.02, \"m50_index\": 0, \"rolling_average\": 0.0}, {\"date\": \"2020-05-18\", \"country_code\": \"US\", \"admin_level\": 2, \"admin1\": \"New York\", \"admin2\": \"Queens County\", \"fips\": 36081.0, \"samples\": 40419, \"m50\": 0.024, \"m50_index\": 0, \"rolling_average\": 0.0}, {\"date\": \"2020-05-19\", \"country_code\": \"US\", \"admin_level\": 2, \"admin1\": \"New York\", \"admin2\": \"Queens County\", \"fips\": 36081.0, \"samples\": 39526, \"m50\": 0.023, \"m50_index\": 0, \"rolling_average\": 0.0}, {\"date\": \"2020-05-20\", \"country_code\": \"US\", \"admin_level\": 2, \"admin1\": \"New York\", \"admin2\": \"Queens County\", \"fips\": 36081.0, \"samples\": 39474, \"m50\": 0.028999999999999998, \"m50_index\": 0, \"rolling_average\": 0.0}, {\"date\": \"2020-05-21\", \"country_code\": \"US\", \"admin_level\": 2, \"admin1\": \"New York\", \"admin2\": \"Queens County\", \"fips\": 36081.0, \"samples\": 39720, \"m50\": 0.032, \"m50_index\": 0, \"rolling_average\": 0.0}, {\"date\": \"2020-05-22\", \"country_code\": \"US\", \"admin_level\": 2, \"admin1\": \"New York\", \"admin2\": \"Queens County\", \"fips\": 36081.0, \"samples\": 42259, \"m50\": 0.042, \"m50_index\": 1, \"rolling_average\": 0.14285714285714285}, {\"date\": \"2020-05-23\", \"country_code\": \"US\", \"admin_level\": 2, \"admin1\": \"New York\", \"admin2\": \"Queens County\", \"fips\": 36081.0, \"samples\": 40285, \"m50\": 0.021, \"m50_index\": 0, \"rolling_average\": 0.14285714285714285}, {\"date\": \"2020-05-24\", \"country_code\": \"US\", \"admin_level\": 2, \"admin1\": \"New York\", \"admin2\": \"Queens County\", \"fips\": 36081.0, \"samples\": 40561, \"m50\": 0.028999999999999998, \"m50_index\": 0, \"rolling_average\": 0.14285714285714285}, {\"date\": \"2020-05-25\", \"country_code\": \"US\", \"admin_level\": 2, \"admin1\": \"New York\", \"admin2\": \"Queens County\", \"fips\": 36081.0, \"samples\": 40879, \"m50\": 0.027000000000000003, \"m50_index\": 0, \"rolling_average\": 0.14285714285714285}, {\"date\": \"2020-05-26\", \"country_code\": \"US\", \"admin_level\": 2, \"admin1\": \"New York\", \"admin2\": \"Queens County\", \"fips\": 36081.0, \"samples\": 38978, \"m50\": 0.044000000000000004, \"m50_index\": 1, \"rolling_average\": 0.2857142857142857}, {\"date\": \"2020-05-27\", \"country_code\": \"US\", \"admin_level\": 2, \"admin1\": \"New York\", \"admin2\": \"Queens County\", \"fips\": 36081.0, \"samples\": 37472, \"m50\": 0.04, \"m50_index\": 1, \"rolling_average\": 0.42857142857142855}, {\"date\": \"2020-05-28\", \"country_code\": \"US\", \"admin_level\": 2, \"admin1\": \"New York\", \"admin2\": \"Queens County\", \"fips\": 36081.0, \"samples\": 37199, \"m50\": 0.031, \"m50_index\": 0, \"rolling_average\": 0.42857142857142855}, {\"date\": \"2020-05-30\", \"country_code\": \"US\", \"admin_level\": 2, \"admin1\": \"New York\", \"admin2\": \"Queens County\", \"fips\": 36081.0, \"samples\": 32611, \"m50\": 0.037000000000000005, \"m50_index\": 0, \"rolling_average\": 0.2857142857142857}, {\"date\": \"2020-05-31\", \"country_code\": \"US\", \"admin_level\": 2, \"admin1\": \"New York\", \"admin2\": \"Queens County\", \"fips\": 36081.0, \"samples\": 26615, \"m50\": 0.024, \"m50_index\": 0, \"rolling_average\": 0.2857142857142857}, {\"date\": \"2020-06-01\", \"country_code\": \"US\", \"admin_level\": 2, \"admin1\": \"New York\", \"admin2\": \"Queens County\", \"fips\": 36081.0, \"samples\": 40767, \"m50\": 0.047, \"m50_index\": 1, \"rolling_average\": 0.42857142857142855}, {\"date\": \"2020-06-02\", \"country_code\": \"US\", \"admin_level\": 2, \"admin1\": \"New York\", \"admin2\": \"Queens County\", \"fips\": 36081.0, \"samples\": 29906, \"m50\": 0.031, \"m50_index\": 0, \"rolling_average\": 0.42857142857142855}, {\"date\": \"2020-06-03\", \"country_code\": \"US\", \"admin_level\": 2, \"admin1\": \"New York\", \"admin2\": \"Queens County\", \"fips\": 36081.0, \"samples\": 41971, \"m50\": 0.051, \"m50_index\": 1, \"rolling_average\": 0.42857142857142855}, {\"date\": \"2020-06-04\", \"country_code\": \"US\", \"admin_level\": 2, \"admin1\": \"New York\", \"admin2\": \"Queens County\", \"fips\": 36081.0, \"samples\": 37294, \"m50\": 0.057, \"m50_index\": 1, \"rolling_average\": 0.42857142857142855}, {\"date\": \"2020-06-05\", \"country_code\": \"US\", \"admin_level\": 2, \"admin1\": \"New York\", \"admin2\": \"Queens County\", \"fips\": 36081.0, \"samples\": 35655, \"m50\": 0.047, \"m50_index\": 1, \"rolling_average\": 0.5714285714285714}, {\"date\": \"2020-06-06\", \"country_code\": \"US\", \"admin_level\": 2, \"admin1\": \"New York\", \"admin2\": \"Queens County\", \"fips\": 36081.0, \"samples\": 35354, \"m50\": 0.048, \"m50_index\": 1, \"rolling_average\": 0.7142857142857143}, {\"date\": \"2020-06-07\", \"country_code\": \"US\", \"admin_level\": 2, \"admin1\": \"New York\", \"admin2\": \"Queens County\", \"fips\": 36081.0, \"samples\": 36384, \"m50\": 0.033, \"m50_index\": 0, \"rolling_average\": 0.7142857142857143}, {\"date\": \"2020-06-08\", \"country_code\": \"US\", \"admin_level\": 2, \"admin1\": \"New York\", \"admin2\": \"Queens County\", \"fips\": 36081.0, \"samples\": 38179, \"m50\": 0.175, \"m50_index\": 4, \"rolling_average\": 1.1428571428571428}, {\"date\": \"2020-06-09\", \"country_code\": \"US\", \"admin_level\": 2, \"admin1\": \"New York\", \"admin2\": \"Queens County\", \"fips\": 36081.0, \"samples\": 36769, \"m50\": 0.17800000000000002, \"m50_index\": 4, \"rolling_average\": 1.7142857142857142}, {\"date\": \"2020-06-10\", \"country_code\": \"US\", \"admin_level\": 2, \"admin1\": \"New York\", \"admin2\": \"Queens County\", \"fips\": 36081.0, \"samples\": 36739, \"m50\": 0.179, \"m50_index\": 4, \"rolling_average\": 2.142857142857143}, {\"date\": \"2020-06-11\", \"country_code\": \"US\", \"admin_level\": 2, \"admin1\": \"New York\", \"admin2\": \"Queens County\", \"fips\": 36081.0, \"samples\": 39754, \"m50\": 0.095, \"m50_index\": 2, \"rolling_average\": 2.2857142857142856}, {\"date\": \"2020-06-12\", \"country_code\": \"US\", \"admin_level\": 2, \"admin1\": \"New York\", \"admin2\": \"Queens County\", \"fips\": 36081.0, \"samples\": 35949, \"m50\": 0.179, \"m50_index\": 4, \"rolling_average\": 2.7142857142857144}, {\"date\": \"2020-06-13\", \"country_code\": \"US\", \"admin_level\": 2, \"admin1\": \"New York\", \"admin2\": \"Queens County\", \"fips\": 36081.0, \"samples\": 35069, \"m50\": 0.138, \"m50_index\": 3, \"rolling_average\": 3.0}, {\"date\": \"2020-06-14\", \"country_code\": \"US\", \"admin_level\": 2, \"admin1\": \"New York\", \"admin2\": \"Queens County\", \"fips\": 36081.0, \"samples\": 34220, \"m50\": 0.036000000000000004, \"m50_index\": 0, \"rolling_average\": 3.0}, {\"date\": \"2020-06-15\", \"country_code\": \"US\", \"admin_level\": 2, \"admin1\": \"New York\", \"admin2\": \"Queens County\", \"fips\": 36081.0, \"samples\": 36914, \"m50\": 0.08, \"m50_index\": 2, \"rolling_average\": 2.7142857142857144}, {\"date\": \"2020-06-16\", \"country_code\": \"US\", \"admin_level\": 2, \"admin1\": \"New York\", \"admin2\": \"Queens County\", \"fips\": 36081.0, \"samples\": 33847, \"m50\": 0.102, \"m50_index\": 2, \"rolling_average\": 2.4285714285714284}, {\"date\": \"2020-06-17\", \"country_code\": \"US\", \"admin_level\": 2, \"admin1\": \"New York\", \"admin2\": \"Queens County\", \"fips\": 36081.0, \"samples\": 36881, \"m50\": 0.23399999999999999, \"m50_index\": 6, \"rolling_average\": 2.7142857142857144}, {\"date\": \"2020-06-18\", \"country_code\": \"US\", \"admin_level\": 2, \"admin1\": \"New York\", \"admin2\": \"Queens County\", \"fips\": 36081.0, \"samples\": 34322, \"m50\": 0.302, \"m50_index\": 7, \"rolling_average\": 3.4285714285714284}, {\"date\": \"2020-06-19\", \"country_code\": \"US\", \"admin_level\": 2, \"admin1\": \"New York\", \"admin2\": \"Queens County\", \"fips\": 36081.0, \"samples\": 43017, \"m50\": 0.648, \"m50_index\": 16, \"rolling_average\": 5.142857142857143}, {\"date\": \"2020-06-20\", \"country_code\": \"US\", \"admin_level\": 2, \"admin1\": \"New York\", \"admin2\": \"Queens County\", \"fips\": 36081.0, \"samples\": 34928, \"m50\": 0.22399999999999998, \"m50_index\": 5, \"rolling_average\": 5.428571428571429}, {\"date\": \"2020-06-21\", \"country_code\": \"US\", \"admin_level\": 2, \"admin1\": \"New York\", \"admin2\": \"Queens County\", \"fips\": 36081.0, \"samples\": 32976, \"m50\": 0.047, \"m50_index\": 1, \"rolling_average\": 5.571428571428571}, {\"date\": \"2020-06-22\", \"country_code\": \"US\", \"admin_level\": 2, \"admin1\": \"New York\", \"admin2\": \"Queens County\", \"fips\": 36081.0, \"samples\": 35069, \"m50\": 0.162, \"m50_index\": 4, \"rolling_average\": 5.857142857142857}, {\"date\": \"2020-06-23\", \"country_code\": \"US\", \"admin_level\": 2, \"admin1\": \"New York\", \"admin2\": \"Queens County\", \"fips\": 36081.0, \"samples\": 35308, \"m50\": 0.41700000000000004, \"m50_index\": 10, \"rolling_average\": 7.0}, {\"date\": \"2020-06-24\", \"country_code\": \"US\", \"admin_level\": 2, \"admin1\": \"New York\", \"admin2\": \"Queens County\", \"fips\": 36081.0, \"samples\": 34002, \"m50\": 0.316, \"m50_index\": 8, \"rolling_average\": 7.285714285714286}, {\"date\": \"2020-06-25\", \"country_code\": \"US\", \"admin_level\": 2, \"admin1\": \"New York\", \"admin2\": \"Queens County\", \"fips\": 36081.0, \"samples\": 32011, \"m50\": 0.522, \"m50_index\": 13, \"rolling_average\": 8.142857142857142}, {\"date\": \"2020-06-26\", \"country_code\": \"US\", \"admin_level\": 2, \"admin1\": \"New York\", \"admin2\": \"Queens County\", \"fips\": 36081.0, \"samples\": 34289, \"m50\": 0.611, \"m50_index\": 15, \"rolling_average\": 8.0}, {\"date\": \"2020-06-27\", \"country_code\": \"US\", \"admin_level\": 2, \"admin1\": \"New York\", \"admin2\": \"Queens County\", \"fips\": 36081.0, \"samples\": 30106, \"m50\": 0.244, \"m50_index\": 6, \"rolling_average\": 8.142857142857142}, {\"date\": \"2020-06-28\", \"country_code\": \"US\", \"admin_level\": 2, \"admin1\": \"New York\", \"admin2\": \"Queens County\", \"fips\": 36081.0, \"samples\": 30992, \"m50\": 0.068, \"m50_index\": 1, \"rolling_average\": 8.142857142857142}, {\"date\": \"2020-06-29\", \"country_code\": \"US\", \"admin_level\": 2, \"admin1\": \"New York\", \"admin2\": \"Queens County\", \"fips\": 36081.0, \"samples\": 25500, \"m50\": 0.37799999999999995, \"m50_index\": 9, \"rolling_average\": 8.857142857142858}, {\"date\": \"2020-06-30\", \"country_code\": \"US\", \"admin_level\": 2, \"admin1\": \"New York\", \"admin2\": \"Queens County\", \"fips\": 36081.0, \"samples\": 33395, \"m50\": 0.653, \"m50_index\": 17, \"rolling_average\": 9.857142857142858}, {\"date\": \"2020-07-01\", \"country_code\": \"US\", \"admin_level\": 2, \"admin1\": \"New York\", \"admin2\": \"Queens County\", \"fips\": 36081.0, \"samples\": 33294, \"m50\": 0.621, \"m50_index\": 16, \"rolling_average\": 11.0}, {\"date\": \"2020-07-02\", \"country_code\": \"US\", \"admin_level\": 2, \"admin1\": \"New York\", \"admin2\": \"Queens County\", \"fips\": 36081.0, \"samples\": 33023, \"m50\": 0.922, \"m50_index\": 24, \"rolling_average\": 12.571428571428571}, {\"date\": \"2020-07-03\", \"country_code\": \"US\", \"admin_level\": 2, \"admin1\": \"New York\", \"admin2\": \"Queens County\", \"fips\": 36081.0, \"samples\": 33604, \"m50\": 0.8390000000000001, \"m50_index\": 21, \"rolling_average\": 13.428571428571429}, {\"date\": \"2020-07-04\", \"country_code\": \"US\", \"admin_level\": 2, \"admin1\": \"New York\", \"admin2\": \"Queens County\", \"fips\": 36081.0, \"samples\": 33334, \"m50\": 0.402, \"m50_index\": 10, \"rolling_average\": 14.0}, {\"date\": \"2020-07-05\", \"country_code\": \"US\", \"admin_level\": 2, \"admin1\": \"New York\", \"admin2\": \"Queens County\", \"fips\": 36081.0, \"samples\": 31200, \"m50\": 0.124, \"m50_index\": 3, \"rolling_average\": 14.285714285714286}, {\"date\": \"2020-07-06\", \"country_code\": \"US\", \"admin_level\": 2, \"admin1\": \"New York\", \"admin2\": \"Queens County\", \"fips\": 36081.0, \"samples\": 31631, \"m50\": 0.466, \"m50_index\": 12, \"rolling_average\": 14.714285714285714}, {\"date\": \"2020-07-07\", \"country_code\": \"US\", \"admin_level\": 2, \"admin1\": \"New York\", \"admin2\": \"Queens County\", \"fips\": 36081.0, \"samples\": 31555, \"m50\": 0.7140000000000001, \"m50_index\": 18, \"rolling_average\": 14.857142857142858}, {\"date\": \"2020-07-08\", \"country_code\": \"US\", \"admin_level\": 2, \"admin1\": \"New York\", \"admin2\": \"Queens County\", \"fips\": 36081.0, \"samples\": 33326, \"m50\": 0.8959999999999999, \"m50_index\": 23, \"rolling_average\": 15.857142857142858}, {\"date\": \"2020-07-09\", \"country_code\": \"US\", \"admin_level\": 2, \"admin1\": \"New York\", \"admin2\": \"Queens County\", \"fips\": 36081.0, \"samples\": 32926, \"m50\": 0.907, \"m50_index\": 23, \"rolling_average\": 15.714285714285714}, {\"date\": \"2020-07-10\", \"country_code\": \"US\", \"admin_level\": 2, \"admin1\": \"New York\", \"admin2\": \"Queens County\", \"fips\": 36081.0, \"samples\": 31912, \"m50\": 0.319, \"m50_index\": 8, \"rolling_average\": 13.857142857142858}, {\"date\": \"2020-07-11\", \"country_code\": \"US\", \"admin_level\": 2, \"admin1\": \"New York\", \"admin2\": \"Queens County\", \"fips\": 36081.0, \"samples\": 31825, \"m50\": 0.551, \"m50_index\": 14, \"rolling_average\": 14.428571428571429}, {\"date\": \"2020-07-12\", \"country_code\": \"US\", \"admin_level\": 2, \"admin1\": \"New York\", \"admin2\": \"Queens County\", \"fips\": 36081.0, \"samples\": 32105, \"m50\": 0.657, \"m50_index\": 17, \"rolling_average\": 16.428571428571427}, {\"date\": \"2020-07-13\", \"country_code\": \"US\", \"admin_level\": 2, \"admin1\": \"New York\", \"admin2\": \"Queens County\", \"fips\": 36081.0, \"samples\": 38635, \"m50\": 0.893, \"m50_index\": 23, \"rolling_average\": 18.0}, {\"date\": \"2020-07-14\", \"country_code\": \"US\", \"admin_level\": 2, \"admin1\": \"New York\", \"admin2\": \"Queens County\", \"fips\": 36081.0, \"samples\": 36785, \"m50\": 1.6680000000000001, \"m50_index\": 43, \"rolling_average\": 21.571428571428573}, {\"date\": \"2020-07-15\", \"country_code\": \"US\", \"admin_level\": 2, \"admin1\": \"New York\", \"admin2\": \"Queens County\", \"fips\": 36081.0, \"samples\": 38229, \"m50\": 1.026, \"m50_index\": 26, \"rolling_average\": 22.0}, {\"date\": \"2020-07-16\", \"country_code\": \"US\", \"admin_level\": 2, \"admin1\": \"New York\", \"admin2\": \"Queens County\", \"fips\": 36081.0, \"samples\": 37077, \"m50\": 0.8540000000000001, \"m50_index\": 22, \"rolling_average\": 21.857142857142858}, {\"date\": \"2020-07-17\", \"country_code\": \"US\", \"admin_level\": 2, \"admin1\": \"New York\", \"admin2\": \"Queens County\", \"fips\": 36081.0, \"samples\": 46856, \"m50\": 1.704, \"m50_index\": 44, \"rolling_average\": 27.0}, {\"date\": \"2020-07-18\", \"country_code\": \"US\", \"admin_level\": 2, \"admin1\": \"New York\", \"admin2\": \"Queens County\", \"fips\": 36081.0, \"samples\": 37215, \"m50\": 0.9670000000000001, \"m50_index\": 25, \"rolling_average\": 28.571428571428573}, {\"date\": \"2020-07-19\", \"country_code\": \"US\", \"admin_level\": 2, \"admin1\": \"New York\", \"admin2\": \"Queens County\", \"fips\": 36081.0, \"samples\": 38818, \"m50\": 0.23399999999999999, \"m50_index\": 6, \"rolling_average\": 27.0}, {\"date\": \"2020-07-20\", \"country_code\": \"US\", \"admin_level\": 2, \"admin1\": \"New York\", \"admin2\": \"Queens County\", \"fips\": 36081.0, \"samples\": 35619, \"m50\": 0.38799999999999996, \"m50_index\": 10, \"rolling_average\": 25.142857142857142}, {\"date\": \"2020-07-21\", \"country_code\": \"US\", \"admin_level\": 2, \"admin1\": \"New York\", \"admin2\": \"Queens County\", \"fips\": 36081.0, \"samples\": 35305, \"m50\": 0.581, \"m50_index\": 15, \"rolling_average\": 21.142857142857142}, {\"date\": \"2020-07-22\", \"country_code\": \"US\", \"admin_level\": 2, \"admin1\": \"New York\", \"admin2\": \"Queens County\", \"fips\": 36081.0, \"samples\": 37921, \"m50\": 0.522, \"m50_index\": 13, \"rolling_average\": 19.285714285714285}, {\"date\": \"2020-07-23\", \"country_code\": \"US\", \"admin_level\": 2, \"admin1\": \"New York\", \"admin2\": \"Queens County\", \"fips\": 36081.0, \"samples\": 38119, \"m50\": 0.489, \"m50_index\": 12, \"rolling_average\": 17.857142857142858}, {\"date\": \"2020-07-24\", \"country_code\": \"US\", \"admin_level\": 2, \"admin1\": \"New York\", \"admin2\": \"Queens County\", \"fips\": 36081.0, \"samples\": 36184, \"m50\": 0.6920000000000001, \"m50_index\": 18, \"rolling_average\": 14.142857142857142}, {\"date\": \"2020-07-25\", \"country_code\": \"US\", \"admin_level\": 2, \"admin1\": \"New York\", \"admin2\": \"Queens County\", \"fips\": 36081.0, \"samples\": 35937, \"m50\": 0.478, \"m50_index\": 12, \"rolling_average\": 12.285714285714286}, {\"date\": \"2020-07-26\", \"country_code\": \"US\", \"admin_level\": 2, \"admin1\": \"New York\", \"admin2\": \"Queens County\", \"fips\": 36081.0, \"samples\": 34290, \"m50\": 0.106, \"m50_index\": 2, \"rolling_average\": 11.714285714285714}, {\"date\": \"2020-07-27\", \"country_code\": \"US\", \"admin_level\": 2, \"admin1\": \"New York\", \"admin2\": \"Queens County\", \"fips\": 36081.0, \"samples\": 37588, \"m50\": 0.359, \"m50_index\": 9, \"rolling_average\": 11.571428571428571}, {\"date\": \"2020-07-28\", \"country_code\": \"US\", \"admin_level\": 2, \"admin1\": \"New York\", \"admin2\": \"Queens County\", \"fips\": 36081.0, \"samples\": 38286, \"m50\": 0.579, \"m50_index\": 15, \"rolling_average\": 11.571428571428571}, {\"date\": \"2020-07-29\", \"country_code\": \"US\", \"admin_level\": 2, \"admin1\": \"New York\", \"admin2\": \"Queens County\", \"fips\": 36081.0, \"samples\": 39871, \"m50\": 0.636, \"m50_index\": 16, \"rolling_average\": 12.0}, {\"date\": \"2020-07-30\", \"country_code\": \"US\", \"admin_level\": 2, \"admin1\": \"New York\", \"admin2\": \"Queens County\", \"fips\": 36081.0, \"samples\": 41046, \"m50\": 0.6970000000000001, \"m50_index\": 18, \"rolling_average\": 12.857142857142858}, {\"date\": \"2020-07-31\", \"country_code\": \"US\", \"admin_level\": 2, \"admin1\": \"New York\", \"admin2\": \"Queens County\", \"fips\": 36081.0, \"samples\": 38568, \"m50\": 0.79, \"m50_index\": 20, \"rolling_average\": 13.142857142857142}, {\"date\": \"2020-08-01\", \"country_code\": \"US\", \"admin_level\": 2, \"admin1\": \"New York\", \"admin2\": \"Queens County\", \"fips\": 36081.0, \"samples\": 36217, \"m50\": 0.733, \"m50_index\": 19, \"rolling_average\": 14.142857142857142}, {\"date\": \"2020-08-02\", \"country_code\": \"US\", \"admin_level\": 2, \"admin1\": \"New York\", \"admin2\": \"Queens County\", \"fips\": 36081.0, \"samples\": 39110, \"m50\": 0.062, \"m50_index\": 1, \"rolling_average\": 14.0}, {\"date\": \"2020-08-03\", \"country_code\": \"US\", \"admin_level\": 2, \"admin1\": \"New York\", \"admin2\": \"Queens County\", \"fips\": 36081.0, \"samples\": 39985, \"m50\": 0.601, \"m50_index\": 15, \"rolling_average\": 14.857142857142858}, {\"date\": \"2020-08-04\", \"country_code\": \"US\", \"admin_level\": 2, \"admin1\": \"New York\", \"admin2\": \"Queens County\", \"fips\": 36081.0, \"samples\": 39689, \"m50\": 0.171, \"m50_index\": 4, \"rolling_average\": 13.285714285714286}, {\"date\": \"2020-08-05\", \"country_code\": \"US\", \"admin_level\": 2, \"admin1\": \"New York\", \"admin2\": \"Queens County\", \"fips\": 36081.0, \"samples\": 36554, \"m50\": 0.9059999999999999, \"m50_index\": 23, \"rolling_average\": 14.285714285714286}, {\"date\": \"2020-08-06\", \"country_code\": \"US\", \"admin_level\": 2, \"admin1\": \"New York\", \"admin2\": \"Queens County\", \"fips\": 36081.0, \"samples\": 40105, \"m50\": 0.789, \"m50_index\": 20, \"rolling_average\": 14.571428571428571}, {\"date\": \"2020-08-07\", \"country_code\": \"US\", \"admin_level\": 2, \"admin1\": \"New York\", \"admin2\": \"Queens County\", \"fips\": 36081.0, \"samples\": 37762, \"m50\": 0.857, \"m50_index\": 22, \"rolling_average\": 14.857142857142858}, {\"date\": \"2020-08-08\", \"country_code\": \"US\", \"admin_level\": 2, \"admin1\": \"New York\", \"admin2\": \"Queens County\", \"fips\": 36081.0, \"samples\": 32671, \"m50\": 0.7140000000000001, \"m50_index\": 18, \"rolling_average\": 14.714285714285714}, {\"date\": \"2020-08-09\", \"country_code\": \"US\", \"admin_level\": 2, \"admin1\": \"New York\", \"admin2\": \"Queens County\", \"fips\": 36081.0, \"samples\": 33830, \"m50\": 0.221, \"m50_index\": 5, \"rolling_average\": 15.285714285714286}, {\"date\": \"2020-08-10\", \"country_code\": \"US\", \"admin_level\": 2, \"admin1\": \"New York\", \"admin2\": \"Queens County\", \"fips\": 36081.0, \"samples\": 36840, \"m50\": 0.825, \"m50_index\": 21, \"rolling_average\": 16.142857142857142}, {\"date\": \"2020-08-11\", \"country_code\": \"US\", \"admin_level\": 2, \"admin1\": \"New York\", \"admin2\": \"Queens County\", \"fips\": 36081.0, \"samples\": 37263, \"m50\": 0.85, \"m50_index\": 22, \"rolling_average\": 18.714285714285715}]}}, {\"mode\": \"vega-lite\"});\n",
              "</script>"
            ]
          },
          "metadata": {
            "tags": []
          },
          "execution_count": 152
        }
      ]
    },
    {
      "cell_type": "markdown",
      "metadata": {
        "id": "WJbJx4SFys1v",
        "colab_type": "text"
      },
      "source": [
        "## Overlap PLot"
      ]
    },
    {
      "cell_type": "code",
      "metadata": {
        "id": "Ml9p3kRNy21D",
        "colab_type": "code",
        "colab": {}
      },
      "source": [
        "import pandas as pd\n",
        "import matplotlib.pyplot as plt\n",
        "import numpy as np\n",
        "import seaborn as sns"
      ],
      "execution_count": 153,
      "outputs": []
    },
    {
      "cell_type": "code",
      "metadata": {
        "id": "cWx-_AssyvTx",
        "colab_type": "code",
        "colab": {
          "base_uri": "https://localhost:8080/",
          "height": 280
        },
        "outputId": "70f200f9-c74c-4183-d64e-07b47e48f20f"
      },
      "source": [
        "# Method 1: on the same Axis\n",
        "sns.distplot( queens_covidcases[\"New cases\"] , color=\"red\", label=\"New Cases\")\n",
        "sns.distplot( (queens_social_distancing[\"m50_index\"]) , color=\"blue\", label=\"Social Distance\")\n",
        "plt.legend()\n",
        " \n",
        "plt.show()"
      ],
      "execution_count": 154,
      "outputs": [
        {
          "output_type": "display_data",
          "data": {
            "image/png": "[encoded data removed]",
            "text/plain": [
              "<Figure size 432x288 with 1 Axes>"
            ]
          },
          "metadata": {
            "tags": [],
            "needs_background": "light"
          }
        }
      ]
    },
    {
      "cell_type": "markdown",
      "metadata": {
        "id": "cX8nqFkC2Mv7",
        "colab_type": "text"
      },
      "source": [
        "# Merge Social Distancing and 'New Cases'"
      ]
    },
    {
      "cell_type": "code",
      "metadata": {
        "id": "kAe4luiT1dZd",
        "colab_type": "code",
        "colab": {}
      },
      "source": [
        "merged_socialDistancing = pd.merge(queens_covidcases,queens_social_distancing,how='inner', left_on=['Date'], right_on = ['date'])"
      ],
      "execution_count": 155,
      "outputs": []
    },
    {
      "cell_type": "code",
      "metadata": {
        "id": "gR8ia7wS3gbV",
        "colab_type": "code",
        "colab": {
          "base_uri": "https://localhost:8080/",
          "height": 326
        },
        "outputId": "9edd0e97-b673-4af0-8727-9f47da6aa185"
      },
      "source": [
        "merged_socialDistancing.tail()"
      ],
      "execution_count": 156,
      "outputs": [
        {
          "output_type": "execute_result",
          "data": {
            "text/html": [
              "<div>\n",
              "<style scoped>\n",
              "    .dataframe tbody tr th:only-of-type {\n",
              "        vertical-align: middle;\n",
              "    }\n",
              "\n",
              "    .dataframe tbody tr th {\n",
              "        vertical-align: top;\n",
              "    }\n",
              "\n",
              "    .dataframe thead th {\n",
              "        text-align: right;\n",
              "    }\n",
              "</style>\n",
              "<table border=\"1\" class=\"dataframe\">\n",
              "  <thead>\n",
              "    <tr style=\"text-align: right;\">\n",
              "      <th></th>\n",
              "      <th>Date</th>\n",
              "      <th>Province_State</th>\n",
              "      <th>FIPS</th>\n",
              "      <th>Confirmed</th>\n",
              "      <th>Deaths</th>\n",
              "      <th>New cases</th>\n",
              "      <th>New deaths</th>\n",
              "      <th>date</th>\n",
              "      <th>country_code</th>\n",
              "      <th>admin_level</th>\n",
              "      <th>admin1</th>\n",
              "      <th>admin2</th>\n",
              "      <th>fips</th>\n",
              "      <th>samples</th>\n",
              "      <th>m50</th>\n",
              "      <th>m50_index</th>\n",
              "      <th>rolling_average</th>\n",
              "    </tr>\n",
              "  </thead>\n",
              "  <tbody>\n",
              "    <tr>\n",
              "      <th>157</th>\n",
              "      <td>2020-08-05</td>\n",
              "      <td>New York</td>\n",
              "      <td>36081.0</td>\n",
              "      <td>0</td>\n",
              "      <td>0</td>\n",
              "      <td>636</td>\n",
              "      <td>29</td>\n",
              "      <td>2020-08-05</td>\n",
              "      <td>US</td>\n",
              "      <td>2</td>\n",
              "      <td>New York</td>\n",
              "      <td>Queens County</td>\n",
              "      <td>36081.0</td>\n",
              "      <td>36554</td>\n",
              "      <td>0.906</td>\n",
              "      <td>23</td>\n",
              "      <td>14.285714</td>\n",
              "    </tr>\n",
              "    <tr>\n",
              "      <th>158</th>\n",
              "      <td>2020-08-06</td>\n",
              "      <td>New York</td>\n",
              "      <td>36081.0</td>\n",
              "      <td>0</td>\n",
              "      <td>0</td>\n",
              "      <td>703</td>\n",
              "      <td>2</td>\n",
              "      <td>2020-08-06</td>\n",
              "      <td>US</td>\n",
              "      <td>2</td>\n",
              "      <td>New York</td>\n",
              "      <td>Queens County</td>\n",
              "      <td>36081.0</td>\n",
              "      <td>40105</td>\n",
              "      <td>0.789</td>\n",
              "      <td>20</td>\n",
              "      <td>14.571429</td>\n",
              "    </tr>\n",
              "    <tr>\n",
              "      <th>159</th>\n",
              "      <td>2020-08-07</td>\n",
              "      <td>New York</td>\n",
              "      <td>36081.0</td>\n",
              "      <td>0</td>\n",
              "      <td>0</td>\n",
              "      <td>714</td>\n",
              "      <td>4</td>\n",
              "      <td>2020-08-07</td>\n",
              "      <td>US</td>\n",
              "      <td>2</td>\n",
              "      <td>New York</td>\n",
              "      <td>Queens County</td>\n",
              "      <td>36081.0</td>\n",
              "      <td>37762</td>\n",
              "      <td>0.857</td>\n",
              "      <td>22</td>\n",
              "      <td>14.857143</td>\n",
              "    </tr>\n",
              "    <tr>\n",
              "      <th>160</th>\n",
              "      <td>2020-08-08</td>\n",
              "      <td>New York</td>\n",
              "      <td>36081.0</td>\n",
              "      <td>0</td>\n",
              "      <td>0</td>\n",
              "      <td>703</td>\n",
              "      <td>8</td>\n",
              "      <td>2020-08-08</td>\n",
              "      <td>US</td>\n",
              "      <td>2</td>\n",
              "      <td>New York</td>\n",
              "      <td>Queens County</td>\n",
              "      <td>36081.0</td>\n",
              "      <td>32671</td>\n",
              "      <td>0.714</td>\n",
              "      <td>18</td>\n",
              "      <td>14.714286</td>\n",
              "    </tr>\n",
              "    <tr>\n",
              "      <th>161</th>\n",
              "      <td>2020-08-09</td>\n",
              "      <td>New York</td>\n",
              "      <td>36081.0</td>\n",
              "      <td>0</td>\n",
              "      <td>0</td>\n",
              "      <td>515</td>\n",
              "      <td>6</td>\n",
              "      <td>2020-08-09</td>\n",
              "      <td>US</td>\n",
              "      <td>2</td>\n",
              "      <td>New York</td>\n",
              "      <td>Queens County</td>\n",
              "      <td>36081.0</td>\n",
              "      <td>33830</td>\n",
              "      <td>0.221</td>\n",
              "      <td>5</td>\n",
              "      <td>15.285714</td>\n",
              "    </tr>\n",
              "  </tbody>\n",
              "</table>\n",
              "</div>"
            ],
            "text/plain": [
              "           Date Province_State     FIPS  ...    m50  m50_index  rolling_average\n",
              "157  2020-08-05       New York  36081.0  ...  0.906         23        14.285714\n",
              "158  2020-08-06       New York  36081.0  ...  0.789         20        14.571429\n",
              "159  2020-08-07       New York  36081.0  ...  0.857         22        14.857143\n",
              "160  2020-08-08       New York  36081.0  ...  0.714         18        14.714286\n",
              "161  2020-08-09       New York  36081.0  ...  0.221          5        15.285714\n",
              "\n",
              "[5 rows x 17 columns]"
            ]
          },
          "metadata": {
            "tags": []
          },
          "execution_count": 156
        }
      ]
    },
    {
      "cell_type": "code",
      "metadata": {
        "id": "DtZ508fk4EVC",
        "colab_type": "code",
        "colab": {}
      },
      "source": [
        "merged_socialDistancing['m50_multiplied'] = merged_socialDistancing['m50_index'] * 1000"
      ],
      "execution_count": 157,
      "outputs": []
    },
    {
      "cell_type": "code",
      "metadata": {
        "id": "3FlDAGWD1beK",
        "colab_type": "code",
        "colab": {
          "base_uri": "https://localhost:8080/",
          "height": 282
        },
        "outputId": "25ee9ef4-af37-4c8b-c27b-f51b636eca16"
      },
      "source": [
        "merged_socialDistancing[['m50_multiplied','New cases']].plot()"
      ],
      "execution_count": 158,
      "outputs": [
        {
          "output_type": "execute_result",
          "data": {
            "text/plain": [
              "<matplotlib.axes._subplots.AxesSubplot at 0x7f9055fbe4a8>"
            ]
          },
          "metadata": {
            "tags": []
          },
          "execution_count": 158
        },
        {
          "output_type": "display_data",
          "data": {
            "image/png": "[encoded data removed]",
            "text/plain": [
              "<Figure size 432x288 with 1 Axes>"
            ]
          },
          "metadata": {
            "tags": [],
            "needs_background": "light"
          }
        }
      ]
    },
    {
      "cell_type": "code",
      "metadata": {
        "id": "y7WLmP8r4e0H",
        "colab_type": "code",
        "colab": {
          "base_uri": "https://localhost:8080/",
          "height": 280
        },
        "outputId": "df442156-974d-469e-f924-5d7bc92d53e1"
      },
      "source": [
        "# Method 1: on the same Axis\n",
        "sns.distplot( merged_socialDistancing[\"New cases\"] , color=\"red\", label=\"New Cases\")\n",
        "sns.distplot( (merged_socialDistancing[\"m50_multiplied\"]) , color=\"blue\", label=\"Social Distance\")\n",
        "plt.legend()\n",
        " \n",
        "plt.show()"
      ],
      "execution_count": 159,
      "outputs": [
        {
          "output_type": "display_data",
          "data": {
            "image/png": "[encoded data removed]",
            "text/plain": [
              "<Figure size 432x288 with 1 Axes>"
            ]
          },
          "metadata": {
            "tags": [],
            "needs_background": "light"
          }
        }
      ]
    },
    {
      "cell_type": "code",
      "metadata": {
        "id": "Jxu__GK15DZ_",
        "colab_type": "code",
        "colab": {}
      },
      "source": [
        "## Moving avg\n",
        "\n",
        "merged_socialDistancing['rolling_avg_newcases'] = merged_socialDistancing.iloc[:,5].rolling(window=7).mean() "
      ],
      "execution_count": 160,
      "outputs": []
    },
    {
      "cell_type": "code",
      "metadata": {
        "id": "iCxaGn3d5_Kq",
        "colab_type": "code",
        "colab": {}
      },
      "source": [
        "merged_socialDistancing['rolling_average_multiplies'] = merged_socialDistancing['rolling_average'] * 1000"
      ],
      "execution_count": 161,
      "outputs": []
    },
    {
      "cell_type": "code",
      "metadata": {
        "id": "_9H9Q6Jb5qX9",
        "colab_type": "code",
        "colab": {
          "base_uri": "https://localhost:8080/",
          "height": 282
        },
        "outputId": "74794aa5-d47d-468b-a207-786b913f6d6b"
      },
      "source": [
        "merged_socialDistancing[['rolling_average_multiplies','rolling_avg_newcases']].plot()"
      ],
      "execution_count": 162,
      "outputs": [
        {
          "output_type": "execute_result",
          "data": {
            "text/plain": [
              "<matplotlib.axes._subplots.AxesSubplot at 0x7f905617bef0>"
            ]
          },
          "metadata": {
            "tags": []
          },
          "execution_count": 162
        },
        {
          "output_type": "display_data",
          "data": {
            "image/png": "[encoded data removed]",
            "text/plain": [
              "<Figure size 432x288 with 1 Axes>"
            ]
          },
          "metadata": {
            "tags": [],
            "needs_background": "light"
          }
        }
      ]
    },
    {
      "cell_type": "markdown",
      "metadata": {
        "id": "_cw80eaxBAat",
        "colab_type": "text"
      },
      "source": [
        "## Twin plot"
      ]
    },
    {
      "cell_type": "code",
      "metadata": {
        "id": "7BTRwYCmB4uE",
        "colab_type": "code",
        "colab": {
          "base_uri": "https://localhost:8080/",
          "height": 299
        },
        "outputId": "377417f7-625c-41b8-a3f7-ddcb9d3f4a10"
      },
      "source": [
        "fig,ax = plt.subplots()\n",
        "# make a plot\n",
        "ax.plot(merged_socialDistancing.date, merged_socialDistancing.m50_multiplied, color=\"blue\")\n",
        "# set x-axis label\n",
        "ax.set_xlabel(\"Date\",fontsize=14)\n",
        "# set y-axis label\n",
        "ax.set_ylabel(\"m50_index\",color=\"blue\",fontsize=14)\n",
        "ax2=ax.twinx()\n",
        "# make a plot with different y-axis using second axis object\n",
        "ax2.plot(merged_socialDistancing.date, merged_socialDistancing[\"New cases\"],color=\"red\")\n",
        "ax2.set_ylabel(\"New cases\",color=\"red\",fontsize=14)\n",
        "plt.title(\"Social distancing Vs New cases\")\n",
        "\n",
        "plt.show()"
      ],
      "execution_count": 163,
      "outputs": [
        {
          "output_type": "display_data",
          "data": {
            "image/png": "[encoded data removed]",
            "text/plain": [
              "<Figure size 432x288 with 2 Axes>"
            ]
          },
          "metadata": {
            "tags": [],
            "needs_background": "light"
          }
        }
      ]
    },
    {
      "cell_type": "code",
      "metadata": {
        "id": "YPVb12eWDEvW",
        "colab_type": "code",
        "colab": {
          "base_uri": "https://localhost:8080/",
          "height": 299
        },
        "outputId": "296577ee-a88e-49a4-d3fc-3112c413cea3"
      },
      "source": [
        "fig,ax = plt.subplots()\n",
        "# make a plot\n",
        "ax.plot(merged_socialDistancing.date, merged_socialDistancing.rolling_average_multiplies, color=\"blue\")\n",
        "# set x-axis label\n",
        "ax.set_xlabel(\"Date\",fontsize=14)\n",
        "# set y-axis label\n",
        "ax.set_ylabel(\"m50_index\",color=\"blue\",fontsize=14)\n",
        "ax2=ax.twinx()\n",
        "# make a plot with different y-axis using second axis object\n",
        "ax2.plot(merged_socialDistancing.date, merged_socialDistancing[\"rolling_avg_newcases\"],color=\"red\")\n",
        "ax2.set_ylabel(\"New cases\",color=\"red\",fontsize=14)\n",
        "plt.title(\"Rolling average -Social distancing Vs New cases\")\n",
        "plt.show()"
      ],
      "execution_count": 164,
      "outputs": [
        {
          "output_type": "display_data",
          "data": {
            "image/png": "[encoded data removed]",
            "text/plain": [
              "<Figure size 432x288 with 2 Axes>"
            ]
          },
          "metadata": {
            "tags": [],
            "needs_background": "light"
          }
        }
      ]
    },
    {
      "cell_type": "markdown",
      "metadata": {
        "id": "GxqvhEtl6TeU",
        "colab_type": "text"
      },
      "source": [
        "## Correlation"
      ]
    },
    {
      "cell_type": "code",
      "metadata": {
        "id": "qnsMZN6o7ULt",
        "colab_type": "code",
        "colab": {
          "base_uri": "https://localhost:8080/",
          "height": 713
        },
        "outputId": "b69c8fcc-a793-4c0a-fbd7-7eff64fe7855"
      },
      "source": [
        "corr = merged_socialDistancing.corr()\n",
        "g = sns.heatmap(corr, vmax=.9, center=0,\n",
        "               square=True, linewidths=.9, cbar_kws={\"shrink\": .8}, annot=True, fmt='.2f', cmap='coolwarm')\n",
        "bottom, top = g.get_ylim()\n",
        "g.set_ylim(bottom + 0.5, top - 0.5)\n",
        "sns.despine()\n",
        "g.figure.set_size_inches(16, 10)"
      ],
      "execution_count": 165,
      "outputs": [
        {
          "output_type": "display_data",
          "data": {
            "image/png": "[encoded data removed]",
            "text/plain": [
              "<Figure size 1152x720 with 2 Axes>"
            ]
          },
          "metadata": {
            "tags": [],
            "needs_background": "light"
          }
        }
      ]
    },
    {
      "cell_type": "markdown",
      "metadata": {
        "id": "SN0I8q9IEX-E",
        "colab_type": "text"
      },
      "source": [
        "# Merge Social Distancing and mobility data"
      ]
    },
    {
      "cell_type": "code",
      "metadata": {
        "id": "xxCuIXP4Eb1v",
        "colab_type": "code",
        "colab": {
          "base_uri": "https://localhost:8080/",
          "height": 343
        },
        "outputId": "9f227217-6b99-4f40-c604-c9142206b7e1"
      },
      "source": [
        "queens_mobility_data.head()"
      ],
      "execution_count": 166,
      "outputs": [
        {
          "output_type": "execute_result",
          "data": {
            "text/html": [
              "<div>\n",
              "<style scoped>\n",
              "    .dataframe tbody tr th:only-of-type {\n",
              "        vertical-align: middle;\n",
              "    }\n",
              "\n",
              "    .dataframe tbody tr th {\n",
              "        vertical-align: top;\n",
              "    }\n",
              "\n",
              "    .dataframe thead th {\n",
              "        text-align: right;\n",
              "    }\n",
              "</style>\n",
              "<table border=\"1\" class=\"dataframe\">\n",
              "  <thead>\n",
              "    <tr style=\"text-align: right;\">\n",
              "      <th></th>\n",
              "      <th>state</th>\n",
              "      <th>county</th>\n",
              "      <th>date</th>\n",
              "      <th>retail and recreation</th>\n",
              "      <th>grocery and pharmacy</th>\n",
              "      <th>parks</th>\n",
              "      <th>transit stations</th>\n",
              "      <th>workplaces</th>\n",
              "      <th>residential</th>\n",
              "      <th>driving</th>\n",
              "      <th>transit</th>\n",
              "      <th>walking</th>\n",
              "    </tr>\n",
              "  </thead>\n",
              "  <tbody>\n",
              "    <tr>\n",
              "      <th>7160</th>\n",
              "      <td>New York</td>\n",
              "      <td>Queens County</td>\n",
              "      <td>2020-02-15</td>\n",
              "      <td>-2.0</td>\n",
              "      <td>-5.0</td>\n",
              "      <td>-11.0</td>\n",
              "      <td>-5.0</td>\n",
              "      <td>2.0</td>\n",
              "      <td>0.0</td>\n",
              "      <td>15.43</td>\n",
              "      <td>0.0</td>\n",
              "      <td>0.0</td>\n",
              "    </tr>\n",
              "    <tr>\n",
              "      <th>7161</th>\n",
              "      <td>New York</td>\n",
              "      <td>Queens County</td>\n",
              "      <td>2020-02-16</td>\n",
              "      <td>1.0</td>\n",
              "      <td>-5.0</td>\n",
              "      <td>5.0</td>\n",
              "      <td>-5.0</td>\n",
              "      <td>-1.0</td>\n",
              "      <td>-1.0</td>\n",
              "      <td>-2.23</td>\n",
              "      <td>0.0</td>\n",
              "      <td>0.0</td>\n",
              "    </tr>\n",
              "    <tr>\n",
              "      <th>7162</th>\n",
              "      <td>New York</td>\n",
              "      <td>Queens County</td>\n",
              "      <td>2020-02-17</td>\n",
              "      <td>7.0</td>\n",
              "      <td>0.0</td>\n",
              "      <td>39.0</td>\n",
              "      <td>-16.0</td>\n",
              "      <td>-38.0</td>\n",
              "      <td>10.0</td>\n",
              "      <td>1.85</td>\n",
              "      <td>0.0</td>\n",
              "      <td>0.0</td>\n",
              "    </tr>\n",
              "    <tr>\n",
              "      <th>7163</th>\n",
              "      <td>New York</td>\n",
              "      <td>Queens County</td>\n",
              "      <td>2020-02-18</td>\n",
              "      <td>0.0</td>\n",
              "      <td>-4.0</td>\n",
              "      <td>-7.0</td>\n",
              "      <td>-5.0</td>\n",
              "      <td>-9.0</td>\n",
              "      <td>3.0</td>\n",
              "      <td>4.02</td>\n",
              "      <td>0.0</td>\n",
              "      <td>0.0</td>\n",
              "    </tr>\n",
              "    <tr>\n",
              "      <th>7164</th>\n",
              "      <td>New York</td>\n",
              "      <td>Queens County</td>\n",
              "      <td>2020-02-19</td>\n",
              "      <td>3.0</td>\n",
              "      <td>-2.0</td>\n",
              "      <td>14.0</td>\n",
              "      <td>-5.0</td>\n",
              "      <td>-9.0</td>\n",
              "      <td>2.0</td>\n",
              "      <td>5.73</td>\n",
              "      <td>0.0</td>\n",
              "      <td>0.0</td>\n",
              "    </tr>\n",
              "  </tbody>\n",
              "</table>\n",
              "</div>"
            ],
            "text/plain": [
              "         state         county        date  ...  driving  transit  walking\n",
              "7160  New York  Queens County  2020-02-15  ...    15.43      0.0      0.0\n",
              "7161  New York  Queens County  2020-02-16  ...    -2.23      0.0      0.0\n",
              "7162  New York  Queens County  2020-02-17  ...     1.85      0.0      0.0\n",
              "7163  New York  Queens County  2020-02-18  ...     4.02      0.0      0.0\n",
              "7164  New York  Queens County  2020-02-19  ...     5.73      0.0      0.0\n",
              "\n",
              "[5 rows x 12 columns]"
            ]
          },
          "metadata": {
            "tags": []
          },
          "execution_count": 166
        }
      ]
    },
    {
      "cell_type": "code",
      "metadata": {
        "id": "G70HUp2bEep_",
        "colab_type": "code",
        "colab": {
          "base_uri": "https://localhost:8080/",
          "height": 204
        },
        "outputId": "c512e664-13db-44a8-f4d4-03a651a98ae1"
      },
      "source": [
        "queens_covidcases.head()"
      ],
      "execution_count": 167,
      "outputs": [
        {
          "output_type": "execute_result",
          "data": {
            "text/html": [
              "<div>\n",
              "<style scoped>\n",
              "    .dataframe tbody tr th:only-of-type {\n",
              "        vertical-align: middle;\n",
              "    }\n",
              "\n",
              "    .dataframe tbody tr th {\n",
              "        vertical-align: top;\n",
              "    }\n",
              "\n",
              "    .dataframe thead th {\n",
              "        text-align: right;\n",
              "    }\n",
              "</style>\n",
              "<table border=\"1\" class=\"dataframe\">\n",
              "  <thead>\n",
              "    <tr style=\"text-align: right;\">\n",
              "      <th></th>\n",
              "      <th>Date</th>\n",
              "      <th>Province_State</th>\n",
              "      <th>FIPS</th>\n",
              "      <th>Confirmed</th>\n",
              "      <th>Deaths</th>\n",
              "      <th>New cases</th>\n",
              "      <th>New deaths</th>\n",
              "    </tr>\n",
              "  </thead>\n",
              "  <tbody>\n",
              "    <tr>\n",
              "      <th>0</th>\n",
              "      <td>2020-01-22</td>\n",
              "      <td>New York</td>\n",
              "      <td>36081.0</td>\n",
              "      <td>0</td>\n",
              "      <td>0</td>\n",
              "      <td>0</td>\n",
              "      <td>0</td>\n",
              "    </tr>\n",
              "    <tr>\n",
              "      <th>1</th>\n",
              "      <td>2020-01-23</td>\n",
              "      <td>New York</td>\n",
              "      <td>36081.0</td>\n",
              "      <td>0</td>\n",
              "      <td>0</td>\n",
              "      <td>0</td>\n",
              "      <td>0</td>\n",
              "    </tr>\n",
              "    <tr>\n",
              "      <th>2</th>\n",
              "      <td>2020-01-24</td>\n",
              "      <td>New York</td>\n",
              "      <td>36081.0</td>\n",
              "      <td>0</td>\n",
              "      <td>0</td>\n",
              "      <td>0</td>\n",
              "      <td>0</td>\n",
              "    </tr>\n",
              "    <tr>\n",
              "      <th>3</th>\n",
              "      <td>2020-01-25</td>\n",
              "      <td>New York</td>\n",
              "      <td>36081.0</td>\n",
              "      <td>0</td>\n",
              "      <td>0</td>\n",
              "      <td>0</td>\n",
              "      <td>0</td>\n",
              "    </tr>\n",
              "    <tr>\n",
              "      <th>4</th>\n",
              "      <td>2020-01-26</td>\n",
              "      <td>New York</td>\n",
              "      <td>36081.0</td>\n",
              "      <td>0</td>\n",
              "      <td>0</td>\n",
              "      <td>0</td>\n",
              "      <td>0</td>\n",
              "    </tr>\n",
              "  </tbody>\n",
              "</table>\n",
              "</div>"
            ],
            "text/plain": [
              "         Date Province_State     FIPS  Confirmed  Deaths  New cases  New deaths\n",
              "0  2020-01-22       New York  36081.0          0       0          0           0\n",
              "1  2020-01-23       New York  36081.0          0       0          0           0\n",
              "2  2020-01-24       New York  36081.0          0       0          0           0\n",
              "3  2020-01-25       New York  36081.0          0       0          0           0\n",
              "4  2020-01-26       New York  36081.0          0       0          0           0"
            ]
          },
          "metadata": {
            "tags": []
          },
          "execution_count": 167
        }
      ]
    },
    {
      "cell_type": "code",
      "metadata": {
        "id": "ObwrK107Ehp7",
        "colab_type": "code",
        "colab": {
          "base_uri": "https://localhost:8080/",
          "height": 343
        },
        "outputId": "4607344d-ff3a-4443-ad2a-19f4baa0b444"
      },
      "source": [
        "merged_mobility = pd.merge(queens_covidcases,queens_mobility_data,how='inner', left_on=['Date'], right_on = ['date'])\n",
        "\n",
        "merged_mobility.head()\n"
      ],
      "execution_count": 168,
      "outputs": [
        {
          "output_type": "execute_result",
          "data": {
            "text/html": [
              "<div>\n",
              "<style scoped>\n",
              "    .dataframe tbody tr th:only-of-type {\n",
              "        vertical-align: middle;\n",
              "    }\n",
              "\n",
              "    .dataframe tbody tr th {\n",
              "        vertical-align: top;\n",
              "    }\n",
              "\n",
              "    .dataframe thead th {\n",
              "        text-align: right;\n",
              "    }\n",
              "</style>\n",
              "<table border=\"1\" class=\"dataframe\">\n",
              "  <thead>\n",
              "    <tr style=\"text-align: right;\">\n",
              "      <th></th>\n",
              "      <th>Date</th>\n",
              "      <th>Province_State</th>\n",
              "      <th>FIPS</th>\n",
              "      <th>Confirmed</th>\n",
              "      <th>Deaths</th>\n",
              "      <th>New cases</th>\n",
              "      <th>New deaths</th>\n",
              "      <th>state</th>\n",
              "      <th>county</th>\n",
              "      <th>date</th>\n",
              "      <th>retail and recreation</th>\n",
              "      <th>grocery and pharmacy</th>\n",
              "      <th>parks</th>\n",
              "      <th>transit stations</th>\n",
              "      <th>workplaces</th>\n",
              "      <th>residential</th>\n",
              "      <th>driving</th>\n",
              "      <th>transit</th>\n",
              "      <th>walking</th>\n",
              "    </tr>\n",
              "  </thead>\n",
              "  <tbody>\n",
              "    <tr>\n",
              "      <th>0</th>\n",
              "      <td>2020-01-22</td>\n",
              "      <td>New York</td>\n",
              "      <td>36081.0</td>\n",
              "      <td>0</td>\n",
              "      <td>0</td>\n",
              "      <td>0</td>\n",
              "      <td>0</td>\n",
              "      <td>New York</td>\n",
              "      <td>Queens County</td>\n",
              "      <td>2020-01-22</td>\n",
              "      <td>0.0</td>\n",
              "      <td>0.0</td>\n",
              "      <td>0.0</td>\n",
              "      <td>0.0</td>\n",
              "      <td>0.0</td>\n",
              "      <td>0.0</td>\n",
              "      <td>1.02</td>\n",
              "      <td>0.0</td>\n",
              "      <td>0.0</td>\n",
              "    </tr>\n",
              "    <tr>\n",
              "      <th>1</th>\n",
              "      <td>2020-01-23</td>\n",
              "      <td>New York</td>\n",
              "      <td>36081.0</td>\n",
              "      <td>0</td>\n",
              "      <td>0</td>\n",
              "      <td>0</td>\n",
              "      <td>0</td>\n",
              "      <td>New York</td>\n",
              "      <td>Queens County</td>\n",
              "      <td>2020-01-23</td>\n",
              "      <td>0.0</td>\n",
              "      <td>0.0</td>\n",
              "      <td>0.0</td>\n",
              "      <td>0.0</td>\n",
              "      <td>0.0</td>\n",
              "      <td>0.0</td>\n",
              "      <td>5.10</td>\n",
              "      <td>0.0</td>\n",
              "      <td>0.0</td>\n",
              "    </tr>\n",
              "    <tr>\n",
              "      <th>2</th>\n",
              "      <td>2020-01-24</td>\n",
              "      <td>New York</td>\n",
              "      <td>36081.0</td>\n",
              "      <td>0</td>\n",
              "      <td>0</td>\n",
              "      <td>0</td>\n",
              "      <td>0</td>\n",
              "      <td>New York</td>\n",
              "      <td>Queens County</td>\n",
              "      <td>2020-01-24</td>\n",
              "      <td>0.0</td>\n",
              "      <td>0.0</td>\n",
              "      <td>0.0</td>\n",
              "      <td>0.0</td>\n",
              "      <td>0.0</td>\n",
              "      <td>0.0</td>\n",
              "      <td>19.35</td>\n",
              "      <td>0.0</td>\n",
              "      <td>0.0</td>\n",
              "    </tr>\n",
              "    <tr>\n",
              "      <th>3</th>\n",
              "      <td>2020-01-25</td>\n",
              "      <td>New York</td>\n",
              "      <td>36081.0</td>\n",
              "      <td>0</td>\n",
              "      <td>0</td>\n",
              "      <td>0</td>\n",
              "      <td>0</td>\n",
              "      <td>New York</td>\n",
              "      <td>Queens County</td>\n",
              "      <td>2020-01-25</td>\n",
              "      <td>0.0</td>\n",
              "      <td>0.0</td>\n",
              "      <td>0.0</td>\n",
              "      <td>0.0</td>\n",
              "      <td>0.0</td>\n",
              "      <td>0.0</td>\n",
              "      <td>8.11</td>\n",
              "      <td>0.0</td>\n",
              "      <td>0.0</td>\n",
              "    </tr>\n",
              "    <tr>\n",
              "      <th>4</th>\n",
              "      <td>2020-01-26</td>\n",
              "      <td>New York</td>\n",
              "      <td>36081.0</td>\n",
              "      <td>0</td>\n",
              "      <td>0</td>\n",
              "      <td>0</td>\n",
              "      <td>0</td>\n",
              "      <td>New York</td>\n",
              "      <td>Queens County</td>\n",
              "      <td>2020-01-26</td>\n",
              "      <td>0.0</td>\n",
              "      <td>0.0</td>\n",
              "      <td>0.0</td>\n",
              "      <td>0.0</td>\n",
              "      <td>0.0</td>\n",
              "      <td>0.0</td>\n",
              "      <td>-9.16</td>\n",
              "      <td>0.0</td>\n",
              "      <td>0.0</td>\n",
              "    </tr>\n",
              "  </tbody>\n",
              "</table>\n",
              "</div>"
            ],
            "text/plain": [
              "         Date Province_State     FIPS  ...  driving  transit  walking\n",
              "0  2020-01-22       New York  36081.0  ...     1.02      0.0      0.0\n",
              "1  2020-01-23       New York  36081.0  ...     5.10      0.0      0.0\n",
              "2  2020-01-24       New York  36081.0  ...    19.35      0.0      0.0\n",
              "3  2020-01-25       New York  36081.0  ...     8.11      0.0      0.0\n",
              "4  2020-01-26       New York  36081.0  ...    -9.16      0.0      0.0\n",
              "\n",
              "[5 rows x 19 columns]"
            ]
          },
          "metadata": {
            "tags": []
          },
          "execution_count": 168
        }
      ]
    },
    {
      "cell_type": "markdown",
      "metadata": {
        "id": "teudjHV9EzzL",
        "colab_type": "text"
      },
      "source": [
        "## Twin plot"
      ]
    },
    {
      "cell_type": "markdown",
      "metadata": {
        "id": "1CwLU8jaFjja",
        "colab_type": "text"
      },
      "source": [
        "### Retail and Recreation Vs new cases"
      ]
    },
    {
      "cell_type": "code",
      "metadata": {
        "id": "MBglmKKNEzIN",
        "colab_type": "code",
        "colab": {
          "base_uri": "https://localhost:8080/",
          "height": 299
        },
        "outputId": "a8f9ce07-8cf6-4ab6-a5b9-f18589a7758a"
      },
      "source": [
        "fig,ax = plt.subplots()\n",
        "# make a plot\n",
        "ax.plot(merged_mobility.date, merged_mobility['retail and recreation'], color=\"blue\")\n",
        "# set x-axis label\n",
        "ax.set_xlabel(\"Date\",fontsize=14)\n",
        "# set y-axis label\n",
        "ax.set_ylabel(\"retail and recreation\",color=\"blue\",fontsize=14)\n",
        "ax2=ax.twinx()\n",
        "# make a plot with different y-axis using second axis object\n",
        "ax2.plot(merged_mobility.date, merged_mobility[\"New cases\"],color=\"red\")\n",
        "ax2.set_ylabel(\"New cases\",color=\"blue\",fontsize=14)\n",
        "plt.title(\"'Retail and recreation' Vs New cases\")\n",
        "\n",
        "plt.show()"
      ],
      "execution_count": 169,
      "outputs": [
        {
          "output_type": "display_data",
          "data": {
            "image/png": "[encoded data removed]",
            "text/plain": [
              "<Figure size 432x288 with 2 Axes>"
            ]
          },
          "metadata": {
            "tags": [],
            "needs_background": "light"
          }
        }
      ]
    },
    {
      "cell_type": "markdown",
      "metadata": {
        "id": "sF5gGOF_Fn4G",
        "colab_type": "text"
      },
      "source": [
        "### Residential Vs New cases"
      ]
    },
    {
      "cell_type": "code",
      "metadata": {
        "id": "Y22KlhHZFsyk",
        "colab_type": "code",
        "colab": {
          "base_uri": "https://localhost:8080/",
          "height": 299
        },
        "outputId": "d7c0077b-b2cb-4ee2-e70f-0b04e90de9d3"
      },
      "source": [
        "fig,ax = plt.subplots()\n",
        "# make a plot\n",
        "ax.plot(merged_mobility.date, merged_mobility['residential'], color=\"blue\")\n",
        "# set x-axis label\n",
        "ax.set_xlabel(\"Date\",fontsize=14)\n",
        "# set y-axis label\n",
        "ax.set_ylabel(\"residential\",color=\"blue\",fontsize=14)\n",
        "ax2=ax.twinx()\n",
        "# make a plot with different y-axis using second axis object\n",
        "ax2.plot(merged_mobility.date, merged_mobility[\"New cases\"],color=\"red\")\n",
        "ax2.set_ylabel(\"New cases\",color=\"blue\",fontsize=14)\n",
        "plt.title(\"'residential' Vs New cases\")\n",
        "\n",
        "plt.show()"
      ],
      "execution_count": 170,
      "outputs": [
        {
          "output_type": "display_data",
          "data": {
            "image/png": "[encoded data removed]",
            "text/plain": [
              "<Figure size 432x288 with 2 Axes>"
            ]
          },
          "metadata": {
            "tags": [],
            "needs_background": "light"
          }
        }
      ]
    },
    {
      "cell_type": "markdown",
      "metadata": {
        "id": "h0hoduzTF5ey",
        "colab_type": "text"
      },
      "source": [
        "### Workplaces Vs New cases"
      ]
    },
    {
      "cell_type": "code",
      "metadata": {
        "id": "L-l0R5YcF4wD",
        "colab_type": "code",
        "colab": {
          "base_uri": "https://localhost:8080/",
          "height": 299
        },
        "outputId": "33253dea-ae02-4b97-b3e3-3ca4bb82f921"
      },
      "source": [
        "fig,ax = plt.subplots()\n",
        "# make a plot\n",
        "ax.plot(merged_mobility.date, merged_mobility['workplaces'], color=\"blue\")\n",
        "# set x-axis label\n",
        "ax.set_xlabel(\"Date\",fontsize=14)\n",
        "# set y-axis label\n",
        "ax.set_ylabel(\"workplaces\",color=\"blue\",fontsize=14)\n",
        "ax2=ax.twinx()\n",
        "# make a plot with different y-axis using second axis object\n",
        "ax2.plot(merged_mobility.date, merged_mobility[\"New cases\"],color=\"red\")\n",
        "ax2.set_ylabel(\"New cases\",color=\"blue\",fontsize=14)\n",
        "plt.title(\"'workplaces' Vs New cases\")\n",
        "\n",
        "plt.show()"
      ],
      "execution_count": 171,
      "outputs": [
        {
          "output_type": "display_data",
          "data": {
            "image/png": "[encoded data removed]",
            "text/plain": [
              "<Figure size 432x288 with 2 Axes>"
            ]
          },
          "metadata": {
            "tags": [],
            "needs_background": "light"
          }
        }
      ]
    },
    {
      "cell_type": "markdown",
      "metadata": {
        "id": "y2KPBWPHGIbf",
        "colab_type": "text"
      },
      "source": [
        "### 'grocery and pharmacy' Vs New Cases"
      ]
    },
    {
      "cell_type": "code",
      "metadata": {
        "id": "zsEeonYPGNqM",
        "colab_type": "code",
        "colab": {
          "base_uri": "https://localhost:8080/",
          "height": 299
        },
        "outputId": "6a20e1bd-062b-4af3-9cc1-3c813ee1fe84"
      },
      "source": [
        "\n",
        "\n",
        "fig,ax = plt.subplots()\n",
        "# make a plot\n",
        "ax.plot(merged_mobility.date, merged_mobility['grocery and pharmacy'], color=\"blue\")\n",
        "# set x-axis label\n",
        "ax.set_xlabel(\"Date\",fontsize=14)\n",
        "# set y-axis label\n",
        "ax.set_ylabel(\"grocery and pharmacy\",color=\"blue\",fontsize=14)\n",
        "ax2=ax.twinx()\n",
        "# make a plot with different y-axis using second axis object\n",
        "ax2.plot(merged_mobility.date, merged_mobility[\"New cases\"],color=\"red\")\n",
        "ax2.set_ylabel(\"New cases\",color=\"blue\",fontsize=14)\n",
        "plt.title(\"'grocery and pharmacy' Vs New cases\")\n",
        "\n",
        "plt.show()"
      ],
      "execution_count": 172,
      "outputs": [
        {
          "output_type": "display_data",
          "data": {
            "image/png": "[encoded data removed]",
            "text/plain": [
              "<Figure size 432x288 with 2 Axes>"
            ]
          },
          "metadata": {
            "tags": [],
            "needs_background": "light"
          }
        }
      ]
    },
    {
      "cell_type": "markdown",
      "metadata": {
        "id": "nj-h6A0QGa5Q",
        "colab_type": "text"
      },
      "source": [
        "### parks Vs New cases"
      ]
    },
    {
      "cell_type": "code",
      "metadata": {
        "id": "nTDeY4UqGdQe",
        "colab_type": "code",
        "colab": {
          "base_uri": "https://localhost:8080/",
          "height": 299
        },
        "outputId": "467753bd-e169-4b59-ca37-505b8dce183c"
      },
      "source": [
        "\n",
        "fig,ax = plt.subplots()\n",
        "# make a plot\n",
        "ax.plot(merged_mobility.date, merged_mobility['parks'], color=\"blue\")\n",
        "# set x-axis label\n",
        "ax.set_xlabel(\"Date\",fontsize=14)\n",
        "# set y-axis label\n",
        "ax.set_ylabel(\"parks\",color=\"blue\",fontsize=14)\n",
        "ax2=ax.twinx()\n",
        "# make a plot with different y-axis using second axis object\n",
        "ax2.plot(merged_mobility.date, merged_mobility[\"New cases\"],color=\"red\")\n",
        "ax2.set_ylabel(\"New cases\",color=\"blue\",fontsize=14)\n",
        "plt.title(\"'parks' Vs New cases\")\n",
        "\n",
        "plt.show()"
      ],
      "execution_count": 173,
      "outputs": [
        {
          "output_type": "display_data",
          "data": {
            "image/png": "[encoded data removed]",
            "text/plain": [
              "<Figure size 432x288 with 2 Axes>"
            ]
          },
          "metadata": {
            "tags": [],
            "needs_background": "light"
          }
        }
      ]
    },
    {
      "cell_type": "markdown",
      "metadata": {
        "id": "O2T0FBXNGrPW",
        "colab_type": "text"
      },
      "source": [
        "### 'transit stations' Vs New cases"
      ]
    },
    {
      "cell_type": "code",
      "metadata": {
        "id": "GBTGXSduGlJ1",
        "colab_type": "code",
        "colab": {
          "base_uri": "https://localhost:8080/",
          "height": 299
        },
        "outputId": "89a62e60-17ef-4008-c218-13da5c74ee48"
      },
      "source": [
        "\n",
        "fig,ax = plt.subplots()\n",
        "# make a plot\n",
        "ax.plot(merged_mobility.date, merged_mobility['transit stations'], color=\"blue\")\n",
        "# set x-axis label\n",
        "ax.set_xlabel(\"Date\",fontsize=14)\n",
        "# set y-axis label\n",
        "ax.set_ylabel(\"transit stations\",color=\"blue\",fontsize=14)\n",
        "ax2=ax.twinx()\n",
        "# make a plot with different y-axis using second axis object\n",
        "ax2.plot(merged_mobility.date, merged_mobility[\"New cases\"],color=\"red\")\n",
        "ax2.set_ylabel(\"New cases\",color=\"blue\",fontsize=14)\n",
        "plt.title(\"'transit stations' Vs New cases\")\n",
        "\n",
        "plt.show()"
      ],
      "execution_count": 174,
      "outputs": [
        {
          "output_type": "display_data",
          "data": {
            "image/png": "[encoded data removed]",
            "text/plain": [
              "<Figure size 432x288 with 2 Axes>"
            ]
          },
          "metadata": {
            "tags": [],
            "needs_background": "light"
          }
        }
      ]
    },
    {
      "cell_type": "markdown",
      "metadata": {
        "id": "RrIrXciNHKtx",
        "colab_type": "text"
      },
      "source": [
        "### Driving Vs New cases"
      ]
    },
    {
      "cell_type": "code",
      "metadata": {
        "id": "Yyz93C9VHC-4",
        "colab_type": "code",
        "colab": {
          "base_uri": "https://localhost:8080/",
          "height": 299
        },
        "outputId": "3ceaaacb-27c3-4030-cb1d-5f10c0ad91f3"
      },
      "source": [
        "fig,ax = plt.subplots()\n",
        "# make a plot\n",
        "ax.plot(merged_mobility.date, merged_mobility['driving'], color=\"blue\")\n",
        "# set x-axis label\n",
        "ax.set_xlabel(\"Date\",fontsize=14)\n",
        "# set y-axis label\n",
        "ax.set_ylabel(\"driving\",color=\"blue\",fontsize=14)\n",
        "ax2=ax.twinx()\n",
        "# make a plot with different y-axis using second axis object\n",
        "ax2.plot(merged_mobility.date, merged_mobility[\"New cases\"],color=\"red\")\n",
        "ax2.set_ylabel(\"New cases\",color=\"blue\",fontsize=14)\n",
        "plt.title(\"'driving' Vs New cases\")\n",
        "\n",
        "plt.show()"
      ],
      "execution_count": 175,
      "outputs": [
        {
          "output_type": "display_data",
          "data": {
            "image/png": "[encoded data removed]",
            "text/plain": [
              "<Figure size 432x288 with 2 Axes>"
            ]
          },
          "metadata": {
            "tags": [],
            "needs_background": "light"
          }
        }
      ]
    },
    {
      "cell_type": "markdown",
      "metadata": {
        "id": "FwzOGb5RHP2X",
        "colab_type": "text"
      },
      "source": [
        "### transit Vs New cases"
      ]
    },
    {
      "cell_type": "code",
      "metadata": {
        "id": "YuwzZuCQHDG-",
        "colab_type": "code",
        "colab": {
          "base_uri": "https://localhost:8080/",
          "height": 299
        },
        "outputId": "e425c20e-43e8-4d09-c7f4-4106d1775ed1"
      },
      "source": [
        "fig,ax = plt.subplots()\n",
        "# make a plot\n",
        "ax.plot(merged_mobility.date, merged_mobility['transit'], color=\"blue\")\n",
        "# set x-axis label\n",
        "ax.set_xlabel(\"Date\",fontsize=14)\n",
        "# set y-axis label\n",
        "ax.set_ylabel(\"transit\",color=\"blue\",fontsize=14)\n",
        "ax2=ax.twinx()\n",
        "# make a plot with different y-axis using second axis object\n",
        "ax2.plot(merged_mobility.date, merged_mobility[\"New cases\"],color=\"red\")\n",
        "ax2.set_ylabel(\"New cases\",color=\"blue\",fontsize=14)\n",
        "plt.title(\"'transit' Vs New cases\")\n",
        "\n",
        "plt.show()"
      ],
      "execution_count": 176,
      "outputs": [
        {
          "output_type": "display_data",
          "data": {
            "image/png": "[encoded data removed]",
            "text/plain": [
              "<Figure size 432x288 with 2 Axes>"
            ]
          },
          "metadata": {
            "tags": [],
            "needs_background": "light"
          }
        }
      ]
    },
    {
      "cell_type": "markdown",
      "metadata": {
        "id": "TF3zHGLJHcMw",
        "colab_type": "text"
      },
      "source": [
        "### walking Vs New cases"
      ]
    },
    {
      "cell_type": "code",
      "metadata": {
        "id": "uTn4FnS2HC25",
        "colab_type": "code",
        "colab": {
          "base_uri": "https://localhost:8080/",
          "height": 299
        },
        "outputId": "ba220041-5b32-41ed-fe1e-1395e421ce9f"
      },
      "source": [
        "fig,ax = plt.subplots()\n",
        "# make a plot\n",
        "ax.plot(merged_mobility.date, merged_mobility['walking'], color=\"blue\")\n",
        "# set x-axis label\n",
        "ax.set_xlabel(\"Date\",fontsize=14)\n",
        "# set y-axis label\n",
        "ax.set_ylabel(\"walking\",color=\"blue\",fontsize=14)\n",
        "ax2=ax.twinx()\n",
        "# make a plot with different y-axis using second axis object\n",
        "ax2.plot(merged_mobility.date, merged_mobility[\"New cases\"],color=\"red\")\n",
        "ax2.set_ylabel(\"New cases\",color=\"blue\",fontsize=14)\n",
        "plt.title(\"walking Vs New cases\")\n",
        "\n",
        "plt.show()"
      ],
      "execution_count": 177,
      "outputs": [
        {
          "output_type": "display_data",
          "data": {
            "image/png": "[encoded data removed]",
            "text/plain": [
              "<Figure size 432x288 with 2 Axes>"
            ]
          },
          "metadata": {
            "tags": [],
            "needs_background": "light"
          }
        }
      ]
    },
    {
      "cell_type": "markdown",
      "metadata": {
        "id": "bN0IeghcHrx6",
        "colab_type": "text"
      },
      "source": [
        "## Correlation plot"
      ]
    },
    {
      "cell_type": "code",
      "metadata": {
        "id": "-OXOzKNLHt2X",
        "colab_type": "code",
        "colab": {
          "base_uri": "https://localhost:8080/",
          "height": 694
        },
        "outputId": "d06869e8-dd46-4c74-a553-a1199bc3657d"
      },
      "source": [
        "corr = merged_mobility.corr()\n",
        "g = sns.heatmap(corr, vmax=.9, center=0,\n",
        "               square=True, linewidths=.9, cbar_kws={\"shrink\": .8}, annot=True, fmt='.2f', cmap='coolwarm')\n",
        "bottom, top = g.get_ylim()\n",
        "g.set_ylim(bottom + 0.5, top - 0.5)\n",
        "sns.despine()\n",
        "g.figure.set_size_inches(16, 10)"
      ],
      "execution_count": 178,
      "outputs": [
        {
          "output_type": "display_data",
          "data": {
            "image/png": "[encoded data removed]",
            "text/plain": [
              "<Figure size 1152x720 with 2 Axes>"
            ]
          },
          "metadata": {
            "tags": [],
            "needs_background": "light"
          }
        }
      ]
    },
    {
      "cell_type": "markdown",
      "metadata": {
        "id": "rYWNKyYKTPc7",
        "colab_type": "text"
      },
      "source": [
        "## Pending work\n",
        "\n",
        "- merged_socialDistancing and merged_mobility to be concatenated \n",
        "- add population and population density as two columns\n",
        "- mask as one column\n",
        "- In the final merged dataframe, try gini-index, PCA to determine the key features\n",
        "- final modeling V1"
      ]
    },
    {
      "cell_type": "markdown",
      "metadata": {
        "id": "CIGzZqgwT8Xs",
        "colab_type": "text"
      },
      "source": [
        ""
      ]
    },
    {
      "cell_type": "code",
      "metadata": {
        "id": "BZbhSOoaT89K",
        "colab_type": "code",
        "colab": {}
      },
      "source": [
        ""
      ],
      "execution_count": null,
      "outputs": []
    },
    {
      "cell_type": "markdown",
      "metadata": {
        "id": "bOjvKxDdwjx5",
        "colab_type": "text"
      },
      "source": [
        "- Overlap m50 with covid cases \n",
        "- Mask data doesn't have time series ; Take the value \n",
        "- Mobility data- 8 diff types of data; walking =0; workplace- high; residential - high-> plot"
      ]
    },
    {
      "cell_type": "code",
      "metadata": {
        "id": "CY-M0XgQBE17",
        "colab_type": "code",
        "colab": {
          "base_uri": "https://localhost:8080/",
          "height": 374
        },
        "outputId": "3a6d495f-84e0-4dce-c8e1-bd825abbd6f2"
      },
      "source": [
        "merged.dtypes"
      ],
      "execution_count": 179,
      "outputs": [
        {
          "output_type": "execute_result",
          "data": {
            "text/plain": [
              "Date                           object\n",
              "Province_State                 object\n",
              "FIPS                          float64\n",
              "Confirmed                       int64\n",
              "Deaths                          int64\n",
              "New cases                       int64\n",
              "New deaths                      int64\n",
              "date                           object\n",
              "country_code                   object\n",
              "admin_level                     int64\n",
              "admin1                         object\n",
              "admin2                         object\n",
              "fips                          float64\n",
              "samples                         int64\n",
              "m50                           float64\n",
              "m50_index                       int64\n",
              "rolling_average               float64\n",
              "m50_multiplied                  int64\n",
              "rolling_avg_newcases          float64\n",
              "rolling_average_multiplies    float64\n",
              "dtype: object"
            ]
          },
          "metadata": {
            "tags": []
          },
          "execution_count": 179
        }
      ]
    }
  ]
}