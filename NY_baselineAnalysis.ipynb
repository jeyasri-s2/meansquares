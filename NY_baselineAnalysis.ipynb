{
  "nbformat": 4,
  "nbformat_minor": 0,
  "metadata": {
    "colab": {
      "name": "NY-baselineAnalysis.ipynb",
      "provenance": [],
      "toc_visible": true,
      "include_colab_link": true
    },
    "kernelspec": {
      "name": "python3",
      "display_name": "Python 3"
    }
  },
  "cells": [
    {
      "cell_type": "markdown",
      "metadata": {
        "id": "view-in-github",
        "colab_type": "text"
      },
      "source": [
        "<a href=\"https://colab.research.google.com/github/aarsanjani/meansquares/blob/master/NY_baselineAnalysis.ipynb\" target=\"_parent\"><img src=\"https://colab.research.google.com/assets/colab-badge.svg\" alt=\"Open In Colab\"/></a>"
      ]
    },
    {
      "cell_type": "markdown",
      "metadata": {
        "id": "jTNRJb0dk6G-",
        "colab_type": "text"
      },
      "source": [
        "New york state has reduced the Covid-19 cases. We have investigated the mask, social distancing, mobility data for NY state"
      ]
    },
    {
      "cell_type": "code",
      "metadata": {
        "id": "M8ImHmnMk14z",
        "colab_type": "code",
        "colab": {
          "base_uri": "https://localhost:8080/",
          "height": 168
        },
        "outputId": "fdecd2e4-0bb7-48e5-a33d-9fa4882c2750"
      },
      "source": [
        "!pip install wget\n"
      ],
      "execution_count": 1,
      "outputs": [
        {
          "output_type": "stream",
          "text": [
            "Collecting wget\n",
            "  Downloading https://files.pythonhosted.org/packages/47/6a/62e288da7bcda82b935ff0c6cfe542970f04e29c756b0e147251b2fb251f/wget-3.2.zip\n",
            "Building wheels for collected packages: wget\n",
            "  Building wheel for wget (setup.py) ... \u001b[?25l\u001b[?25hdone\n",
            "  Created wheel for wget: filename=wget-3.2-cp36-none-any.whl size=9682 sha256=0b4cf0cd1b1b76f67e505a84ea8d368c3c0af28e607ac894f3a82b4e4f51faf9\n",
            "  Stored in directory: /root/.cache/pip/wheels/40/15/30/7d8f7cea2902b4db79e3fea550d7d7b85ecb27ef992b618f3f\n",
            "Successfully built wget\n",
            "Installing collected packages: wget\n",
            "Successfully installed wget-3.2\n"
          ],
          "name": "stdout"
        }
      ]
    },
    {
      "cell_type": "code",
      "metadata": {
        "id": "uwdU8Blulnol",
        "colab_type": "code",
        "colab": {
          "base_uri": "https://localhost:8080/",
          "height": 70
        },
        "outputId": "55d8be80-e89a-4f58-8b71-f69662292535"
      },
      "source": [
        "import pandas as pd\n",
        "import seaborn as sns\n",
        "import numpy as np\n",
        "import matplotlib.pyplot as plt\n",
        "import os\n",
        "import wget\n",
        "from pandas import Series, datetime\n",
        "from pandas.plotting import scatter_matrix, autocorrelation_plot\n",
        "from sklearn.preprocessing import StandardScaler, RobustScaler\n",
        "from sklearn.model_selection import train_test_split, KFold, cross_val_score, GridSearchCV, TimeSeriesSplit\n",
        "from sklearn import metrics\n",
        "from sklearn.metrics import classification_report, confusion_matrix, accuracy_score, mean_squared_error\n",
        "from sklearn.pipeline import Pipeline\n",
        "from sklearn.linear_model import LogisticRegression\n",
        "from sklearn.tree import DecisionTreeClassifier\n",
        "from sklearn.neighbors import KNeighborsClassifier\n",
        "from sklearn.discriminant_analysis import LinearDiscriminantAnalysis\n",
        "from sklearn.naive_bayes import GaussianNB\n",
        "from sklearn.cluster import KMeans\n",
        "from sklearn.svm import SVC\n",
        "from sklearn.ensemble import AdaBoostClassifier, GradientBoostingClassifier, RandomForestClassifier, ExtraTreesClassifier\n",
        "from sklearn.metrics import roc_curve, auc\n",
        "import random\n",
        "from statsmodels.graphics.tsaplots import plot_acf, plot_pacf\n",
        "from statsmodels.tsa.arima_model import ARIMA\n",
        "from xgboost import XGBClassifier\n",
        "from sklearn.mixture import GaussianMixture"
      ],
      "execution_count": 2,
      "outputs": [
        {
          "output_type": "stream",
          "text": [
            "/usr/local/lib/python3.6/dist-packages/statsmodels/tools/_testing.py:19: FutureWarning: pandas.util.testing is deprecated. Use the functions in the public API at pandas.testing instead.\n",
            "  import pandas.util.testing as tm\n"
          ],
          "name": "stderr"
        }
      ]
    },
    {
      "cell_type": "markdown",
      "metadata": {
        "id": "evMtFIunmCnj",
        "colab_type": "text"
      },
      "source": [
        "## County Population"
      ]
    },
    {
      "cell_type": "code",
      "metadata": {
        "id": "OXbEj9pMmfEO",
        "colab_type": "code",
        "colab": {
          "base_uri": "https://localhost:8080/",
          "height": 123
        },
        "outputId": "175e7856-20fc-45d5-e8fb-6ae64b7b0041"
      },
      "source": [
        "US_population_filename = wget.download('https://usafactsstatic.blob.core.windows.net/public/data/covid-19/covid_county_population_usafacts.csv')\n",
        "county_population_US = pd.read_csv(US_population_filename,low_memory=False)\n",
        "print(county_population_US.shape)\n",
        "\n",
        "county_population_US.head(2)"
      ],
      "execution_count": 3,
      "outputs": [
        {
          "output_type": "stream",
          "text": [
            "(3195, 4)\n"
          ],
          "name": "stdout"
        },
        {
          "output_type": "execute_result",
          "data": {
            "text/html": [
              "<div>\n",
              "<style scoped>\n",
              "    .dataframe tbody tr th:only-of-type {\n",
              "        vertical-align: middle;\n",
              "    }\n",
              "\n",
              "    .dataframe tbody tr th {\n",
              "        vertical-align: top;\n",
              "    }\n",
              "\n",
              "    .dataframe thead th {\n",
              "        text-align: right;\n",
              "    }\n",
              "</style>\n",
              "<table border=\"1\" class=\"dataframe\">\n",
              "  <thead>\n",
              "    <tr style=\"text-align: right;\">\n",
              "      <th></th>\n",
              "      <th>countyFIPS</th>\n",
              "      <th>County Name</th>\n",
              "      <th>State</th>\n",
              "      <th>population</th>\n",
              "    </tr>\n",
              "  </thead>\n",
              "  <tbody>\n",
              "    <tr>\n",
              "      <th>0</th>\n",
              "      <td>0</td>\n",
              "      <td>Statewide Unallocated</td>\n",
              "      <td>AL</td>\n",
              "      <td>0</td>\n",
              "    </tr>\n",
              "    <tr>\n",
              "      <th>1</th>\n",
              "      <td>1001</td>\n",
              "      <td>Autauga County</td>\n",
              "      <td>AL</td>\n",
              "      <td>55869</td>\n",
              "    </tr>\n",
              "  </tbody>\n",
              "</table>\n",
              "</div>"
            ],
            "text/plain": [
              "   countyFIPS            County Name State  population\n",
              "0           0  Statewide Unallocated    AL           0\n",
              "1        1001         Autauga County    AL       55869"
            ]
          },
          "metadata": {
            "tags": []
          },
          "execution_count": 3
        }
      ]
    },
    {
      "cell_type": "code",
      "metadata": {
        "id": "_tpjeJJbmvL1",
        "colab_type": "code",
        "colab": {
          "base_uri": "https://localhost:8080/",
          "height": 123
        },
        "outputId": "dc6833f7-9258-4ad0-b250-5fdc43664352"
      },
      "source": [
        "ny_population = county_population_US[county_population_US['State'] == 'NY']\n",
        "print(ny_population.shape)\n",
        "ny_population.head(2)"
      ],
      "execution_count": 4,
      "outputs": [
        {
          "output_type": "stream",
          "text": [
            "(64, 4)\n"
          ],
          "name": "stdout"
        },
        {
          "output_type": "execute_result",
          "data": {
            "text/html": [
              "<div>\n",
              "<style scoped>\n",
              "    .dataframe tbody tr th:only-of-type {\n",
              "        vertical-align: middle;\n",
              "    }\n",
              "\n",
              "    .dataframe tbody tr th {\n",
              "        vertical-align: top;\n",
              "    }\n",
              "\n",
              "    .dataframe thead th {\n",
              "        text-align: right;\n",
              "    }\n",
              "</style>\n",
              "<table border=\"1\" class=\"dataframe\">\n",
              "  <thead>\n",
              "    <tr style=\"text-align: right;\">\n",
              "      <th></th>\n",
              "      <th>countyFIPS</th>\n",
              "      <th>County Name</th>\n",
              "      <th>State</th>\n",
              "      <th>population</th>\n",
              "    </tr>\n",
              "  </thead>\n",
              "  <tbody>\n",
              "    <tr>\n",
              "      <th>1861</th>\n",
              "      <td>0</td>\n",
              "      <td>Statewide Unallocated</td>\n",
              "      <td>NY</td>\n",
              "      <td>0</td>\n",
              "    </tr>\n",
              "    <tr>\n",
              "      <th>1862</th>\n",
              "      <td>0</td>\n",
              "      <td>New York City Unallocated</td>\n",
              "      <td>NY</td>\n",
              "      <td>0</td>\n",
              "    </tr>\n",
              "  </tbody>\n",
              "</table>\n",
              "</div>"
            ],
            "text/plain": [
              "      countyFIPS                County Name State  population\n",
              "1861           0      Statewide Unallocated    NY           0\n",
              "1862           0  New York City Unallocated    NY           0"
            ]
          },
          "metadata": {
            "tags": []
          },
          "execution_count": 4
        }
      ]
    },
    {
      "cell_type": "code",
      "metadata": {
        "id": "2eWuWruhm-vv",
        "colab_type": "code",
        "colab": {
          "base_uri": "https://localhost:8080/",
          "height": 386
        },
        "outputId": "7d326644-4975-4f13-8fa7-a1051b4089b0"
      },
      "source": [
        "ny_population['County Name'].unique()"
      ],
      "execution_count": 5,
      "outputs": [
        {
          "output_type": "execute_result",
          "data": {
            "text/plain": [
              "array(['Statewide Unallocated', 'New York City Unallocated',\n",
              "       'Albany County', 'Allegany County', 'Bronx County',\n",
              "       'Broome County', 'Cattaraugus County', 'Cayuga County',\n",
              "       'Chautauqua County', 'Chemung County', 'Chenango County',\n",
              "       'Clinton County', 'Columbia County', 'Cortland County',\n",
              "       'Delaware County', 'Dutchess County', 'Erie County',\n",
              "       'Essex County', 'Franklin County', 'Fulton County',\n",
              "       'Genesee County', 'Greene County', 'Hamilton County',\n",
              "       'Herkimer County', 'Jefferson County', 'Kings County',\n",
              "       'Lewis County', 'Livingston County', 'Madison County',\n",
              "       'Monroe County', 'Montgomery County', 'Nassau County',\n",
              "       'New York County', 'Niagara County', 'Oneida County',\n",
              "       'Onondaga County', 'Ontario County', 'Orange County',\n",
              "       'Orleans County', 'Oswego County', 'Otsego County',\n",
              "       'Putnam County', 'Queens County', 'Rensselaer County',\n",
              "       'Richmond County', 'Rockland County', 'St. Lawrence County',\n",
              "       'Saratoga County', 'Schenectady County', 'Schoharie County',\n",
              "       'Schuyler County', 'Seneca County', 'Steuben County',\n",
              "       'Suffolk County', 'Sullivan County', 'Tioga County',\n",
              "       'Tompkins County', 'Ulster County', 'Warren County',\n",
              "       'Washington County', 'Wayne County', 'Westchester County',\n",
              "       'Wyoming County', 'Yates County'], dtype=object)"
            ]
          },
          "metadata": {
            "tags": []
          },
          "execution_count": 5
        }
      ]
    },
    {
      "cell_type": "code",
      "metadata": {
        "id": "tK88EeaUnJ-p",
        "colab_type": "code",
        "colab": {
          "base_uri": "https://localhost:8080/",
          "height": 77
        },
        "outputId": "60a52d66-e238-42d2-de2a-173c74f4635a"
      },
      "source": [
        "queens_county_population = ny_population[ny_population['County Name'] == 'Queens County']\n",
        "queens_county_population"
      ],
      "execution_count": 6,
      "outputs": [
        {
          "output_type": "execute_result",
          "data": {
            "text/html": [
              "<div>\n",
              "<style scoped>\n",
              "    .dataframe tbody tr th:only-of-type {\n",
              "        vertical-align: middle;\n",
              "    }\n",
              "\n",
              "    .dataframe tbody tr th {\n",
              "        vertical-align: top;\n",
              "    }\n",
              "\n",
              "    .dataframe thead th {\n",
              "        text-align: right;\n",
              "    }\n",
              "</style>\n",
              "<table border=\"1\" class=\"dataframe\">\n",
              "  <thead>\n",
              "    <tr style=\"text-align: right;\">\n",
              "      <th></th>\n",
              "      <th>countyFIPS</th>\n",
              "      <th>County Name</th>\n",
              "      <th>State</th>\n",
              "      <th>population</th>\n",
              "    </tr>\n",
              "  </thead>\n",
              "  <tbody>\n",
              "    <tr>\n",
              "      <th>1903</th>\n",
              "      <td>36081</td>\n",
              "      <td>Queens County</td>\n",
              "      <td>NY</td>\n",
              "      <td>2253858</td>\n",
              "    </tr>\n",
              "  </tbody>\n",
              "</table>\n",
              "</div>"
            ],
            "text/plain": [
              "      countyFIPS    County Name State  population\n",
              "1903       36081  Queens County    NY     2253858"
            ]
          },
          "metadata": {
            "tags": []
          },
          "execution_count": 6
        }
      ]
    },
    {
      "cell_type": "markdown",
      "metadata": {
        "id": "DZIQ8BB8npY0",
        "colab_type": "text"
      },
      "source": [
        "## Land Area "
      ]
    },
    {
      "cell_type": "code",
      "metadata": {
        "id": "ilTS6GosnbkC",
        "colab_type": "code",
        "colab": {
          "base_uri": "https://localhost:8080/",
          "height": 34
        },
        "outputId": "37cea351-8576-4a85-c216-1fa31ab0a5fd"
      },
      "source": [
        "landarea_filename = wget.download('https://raw.githubusercontent.com/ykzeng/covid-19/master/data/census-landarea-all.csv')\n",
        "landarea_data = pd.read_csv(landarea_filename,low_memory=False)\n",
        "print(landarea_data.shape)\n"
      ],
      "execution_count": 7,
      "outputs": [
        {
          "output_type": "stream",
          "text": [
            "(3195, 52)\n"
          ],
          "name": "stdout"
        }
      ]
    },
    {
      "cell_type": "code",
      "metadata": {
        "id": "R7jnr7GOoJog",
        "colab_type": "code",
        "colab": {
          "base_uri": "https://localhost:8080/",
          "height": 126
        },
        "outputId": "e7d13d81-e904-4efa-baaf-f70c8d944cba"
      },
      "source": [
        "landarea_data.head(2)"
      ],
      "execution_count": 8,
      "outputs": [
        {
          "output_type": "execute_result",
          "data": {
            "text/html": [
              "<div>\n",
              "<style scoped>\n",
              "    .dataframe tbody tr th:only-of-type {\n",
              "        vertical-align: middle;\n",
              "    }\n",
              "\n",
              "    .dataframe tbody tr th {\n",
              "        vertical-align: top;\n",
              "    }\n",
              "\n",
              "    .dataframe thead th {\n",
              "        text-align: right;\n",
              "    }\n",
              "</style>\n",
              "<table border=\"1\" class=\"dataframe\">\n",
              "  <thead>\n",
              "    <tr style=\"text-align: right;\">\n",
              "      <th></th>\n",
              "      <th>fips</th>\n",
              "      <th>PST045212</th>\n",
              "      <th>PST040210</th>\n",
              "      <th>PST120212</th>\n",
              "      <th>POP010210</th>\n",
              "      <th>AGE135212</th>\n",
              "      <th>AGE295212</th>\n",
              "      <th>AGE775212</th>\n",
              "      <th>SEX255212</th>\n",
              "      <th>RHI125212</th>\n",
              "      <th>RHI225212</th>\n",
              "      <th>RHI325212</th>\n",
              "      <th>RHI425212</th>\n",
              "      <th>RHI525212</th>\n",
              "      <th>RHI625212</th>\n",
              "      <th>RHI725212</th>\n",
              "      <th>RHI825212</th>\n",
              "      <th>POP715211</th>\n",
              "      <th>POP645211</th>\n",
              "      <th>POP815211</th>\n",
              "      <th>EDU635211</th>\n",
              "      <th>EDU685211</th>\n",
              "      <th>VET605211</th>\n",
              "      <th>LFE305211</th>\n",
              "      <th>HSG010211</th>\n",
              "      <th>HSG445211</th>\n",
              "      <th>HSG096211</th>\n",
              "      <th>HSG495211</th>\n",
              "      <th>HSD410211</th>\n",
              "      <th>HSD310211</th>\n",
              "      <th>INC910211</th>\n",
              "      <th>INC110211</th>\n",
              "      <th>PVY020211</th>\n",
              "      <th>BZA010211</th>\n",
              "      <th>BZA110211</th>\n",
              "      <th>BZA115211</th>\n",
              "      <th>NES010211</th>\n",
              "      <th>SBO001207</th>\n",
              "      <th>SBO315207</th>\n",
              "      <th>SBO115207</th>\n",
              "      <th>SBO215207</th>\n",
              "      <th>SBO515207</th>\n",
              "      <th>SBO415207</th>\n",
              "      <th>SBO015207</th>\n",
              "      <th>MAN450207</th>\n",
              "      <th>WTN220207</th>\n",
              "      <th>RTN130207</th>\n",
              "      <th>RTN131207</th>\n",
              "      <th>AFN120207</th>\n",
              "      <th>BPS030212</th>\n",
              "      <th>LND110210</th>\n",
              "      <th>POP060210</th>\n",
              "    </tr>\n",
              "  </thead>\n",
              "  <tbody>\n",
              "    <tr>\n",
              "      <th>0</th>\n",
              "      <td>0</td>\n",
              "      <td>313914040</td>\n",
              "      <td>308747508</td>\n",
              "      <td>1.7</td>\n",
              "      <td>308745538</td>\n",
              "      <td>6.4</td>\n",
              "      <td>23.5</td>\n",
              "      <td>13.7</td>\n",
              "      <td>50.8</td>\n",
              "      <td>77.9</td>\n",
              "      <td>13.1</td>\n",
              "      <td>1.2</td>\n",
              "      <td>5.1</td>\n",
              "      <td>0.2</td>\n",
              "      <td>2.4</td>\n",
              "      <td>16.9</td>\n",
              "      <td>63.0</td>\n",
              "      <td>84.6</td>\n",
              "      <td>12.8</td>\n",
              "      <td>20.3</td>\n",
              "      <td>85.4</td>\n",
              "      <td>28.2</td>\n",
              "      <td>22215303</td>\n",
              "      <td>25.4</td>\n",
              "      <td>132312404</td>\n",
              "      <td>66.1</td>\n",
              "      <td>25.9</td>\n",
              "      <td>186200</td>\n",
              "      <td>114761359</td>\n",
              "      <td>2.60</td>\n",
              "      <td>27915</td>\n",
              "      <td>52762</td>\n",
              "      <td>14.3</td>\n",
              "      <td>7354043</td>\n",
              "      <td>113425965</td>\n",
              "      <td>1.3</td>\n",
              "      <td>22491080</td>\n",
              "      <td>27092908</td>\n",
              "      <td>7.1</td>\n",
              "      <td>0.9</td>\n",
              "      <td>5.7</td>\n",
              "      <td>0.1</td>\n",
              "      <td>8.3</td>\n",
              "      <td>28.8</td>\n",
              "      <td>5319456312</td>\n",
              "      <td>4174286516</td>\n",
              "      <td>3917663456</td>\n",
              "      <td>12990</td>\n",
              "      <td>613795732</td>\n",
              "      <td>829658</td>\n",
              "      <td>3531905.43</td>\n",
              "      <td>87.4</td>\n",
              "    </tr>\n",
              "    <tr>\n",
              "      <th>1</th>\n",
              "      <td>1000</td>\n",
              "      <td>4822023</td>\n",
              "      <td>4779745</td>\n",
              "      <td>0.9</td>\n",
              "      <td>4779736</td>\n",
              "      <td>6.3</td>\n",
              "      <td>23.3</td>\n",
              "      <td>14.5</td>\n",
              "      <td>51.5</td>\n",
              "      <td>70.0</td>\n",
              "      <td>26.5</td>\n",
              "      <td>0.7</td>\n",
              "      <td>1.2</td>\n",
              "      <td>0.1</td>\n",
              "      <td>1.5</td>\n",
              "      <td>4.1</td>\n",
              "      <td>66.6</td>\n",
              "      <td>84.5</td>\n",
              "      <td>3.4</td>\n",
              "      <td>5.0</td>\n",
              "      <td>81.9</td>\n",
              "      <td>22.0</td>\n",
              "      <td>403982</td>\n",
              "      <td>24.0</td>\n",
              "      <td>2182088</td>\n",
              "      <td>70.7</td>\n",
              "      <td>15.5</td>\n",
              "      <td>120800</td>\n",
              "      <td>1831269</td>\n",
              "      <td>2.53</td>\n",
              "      <td>23483</td>\n",
              "      <td>42934</td>\n",
              "      <td>17.6</td>\n",
              "      <td>97743</td>\n",
              "      <td>1573138</td>\n",
              "      <td>0.3</td>\n",
              "      <td>321641</td>\n",
              "      <td>382350</td>\n",
              "      <td>14.8</td>\n",
              "      <td>0.8</td>\n",
              "      <td>1.8</td>\n",
              "      <td>0.1</td>\n",
              "      <td>1.2</td>\n",
              "      <td>28.1</td>\n",
              "      <td>112858843</td>\n",
              "      <td>52252752</td>\n",
              "      <td>57344851</td>\n",
              "      <td>12364</td>\n",
              "      <td>6426342</td>\n",
              "      <td>13506</td>\n",
              "      <td>50645.33</td>\n",
              "      <td>94.4</td>\n",
              "    </tr>\n",
              "  </tbody>\n",
              "</table>\n",
              "</div>"
            ],
            "text/plain": [
              "   fips  PST045212  PST040210  ...  BPS030212   LND110210  POP060210\n",
              "0     0  313914040  308747508  ...     829658  3531905.43       87.4\n",
              "1  1000    4822023    4779745  ...      13506    50645.33       94.4\n",
              "\n",
              "[2 rows x 52 columns]"
            ]
          },
          "metadata": {
            "tags": []
          },
          "execution_count": 8
        }
      ]
    },
    {
      "cell_type": "code",
      "metadata": {
        "id": "rPR0aInToxWl",
        "colab_type": "code",
        "colab": {
          "base_uri": "https://localhost:8080/",
          "height": 34
        },
        "outputId": "555fe268-3afb-4169-d92d-e2ce83e9f382"
      },
      "source": [
        "landarea_data['fips'].unique()"
      ],
      "execution_count": 9,
      "outputs": [
        {
          "output_type": "execute_result",
          "data": {
            "text/plain": [
              "array([    0,  1000,  1001, ..., 56041, 56043, 56045])"
            ]
          },
          "metadata": {
            "tags": []
          },
          "execution_count": 9
        }
      ]
    },
    {
      "cell_type": "code",
      "metadata": {
        "id": "9XlTwSOGoVM1",
        "colab_type": "code",
        "colab": {
          "base_uri": "https://localhost:8080/",
          "height": 50
        },
        "outputId": "5c986b2a-adf1-43fe-87fb-2d642dd4376d"
      },
      "source": [
        "#LND110210\n",
        "\n",
        "landarea_data[landarea_data['fips'] == 36081]['LND110210']"
      ],
      "execution_count": 10,
      "outputs": [
        {
          "output_type": "execute_result",
          "data": {
            "text/plain": [
              "1902    108.53\n",
              "Name: LND110210, dtype: float64"
            ]
          },
          "metadata": {
            "tags": []
          },
          "execution_count": 10
        }
      ]
    },
    {
      "cell_type": "markdown",
      "metadata": {
        "id": "nUhDujq4lh8J",
        "colab_type": "text"
      },
      "source": [
        "## Mask data"
      ]
    },
    {
      "cell_type": "code",
      "metadata": {
        "id": "vjaG4Cj-lnho",
        "colab_type": "code",
        "colab": {
          "base_uri": "https://localhost:8080/",
          "height": 35
        },
        "outputId": "84407168-d57d-4e4a-ae8d-9766f77364f1"
      },
      "source": [
        "mask_filename = wget.download('https://raw.githubusercontent.com/nytimes/covid-19-data/master/mask-use/mask-use-by-county.csv')\n",
        "mask_filename"
      ],
      "execution_count": 11,
      "outputs": [
        {
          "output_type": "execute_result",
          "data": {
            "application/vnd.google.colaboratory.intrinsic+json": {
              "type": "string"
            },
            "text/plain": [
              "'mask-use-by-county.csv'"
            ]
          },
          "metadata": {
            "tags": []
          },
          "execution_count": 11
        }
      ]
    },
    {
      "cell_type": "code",
      "metadata": {
        "id": "CQdxYjnWlnYX",
        "colab_type": "code",
        "colab": {
          "base_uri": "https://localhost:8080/",
          "height": 34
        },
        "outputId": "4d148089-05eb-4d1d-c099-833cd16b26fb"
      },
      "source": [
        "\n",
        "mask_data = pd.read_csv(mask_filename,low_memory=False)\n",
        "print(mask_data.shape)"
      ],
      "execution_count": 12,
      "outputs": [
        {
          "output_type": "stream",
          "text": [
            "(3142, 6)\n"
          ],
          "name": "stdout"
        }
      ]
    },
    {
      "cell_type": "code",
      "metadata": {
        "id": "HEnZUfculuhi",
        "colab_type": "code",
        "colab": {
          "base_uri": "https://localhost:8080/",
          "height": 195
        },
        "outputId": "989f1422-fdbd-4091-ce42-58c7228b1a4a"
      },
      "source": [
        "mask_data.head()"
      ],
      "execution_count": 13,
      "outputs": [
        {
          "output_type": "execute_result",
          "data": {
            "text/html": [
              "<div>\n",
              "<style scoped>\n",
              "    .dataframe tbody tr th:only-of-type {\n",
              "        vertical-align: middle;\n",
              "    }\n",
              "\n",
              "    .dataframe tbody tr th {\n",
              "        vertical-align: top;\n",
              "    }\n",
              "\n",
              "    .dataframe thead th {\n",
              "        text-align: right;\n",
              "    }\n",
              "</style>\n",
              "<table border=\"1\" class=\"dataframe\">\n",
              "  <thead>\n",
              "    <tr style=\"text-align: right;\">\n",
              "      <th></th>\n",
              "      <th>COUNTYFP</th>\n",
              "      <th>NEVER</th>\n",
              "      <th>RARELY</th>\n",
              "      <th>SOMETIMES</th>\n",
              "      <th>FREQUENTLY</th>\n",
              "      <th>ALWAYS</th>\n",
              "    </tr>\n",
              "  </thead>\n",
              "  <tbody>\n",
              "    <tr>\n",
              "      <th>0</th>\n",
              "      <td>1001</td>\n",
              "      <td>0.053</td>\n",
              "      <td>0.074</td>\n",
              "      <td>0.134</td>\n",
              "      <td>0.295</td>\n",
              "      <td>0.444</td>\n",
              "    </tr>\n",
              "    <tr>\n",
              "      <th>1</th>\n",
              "      <td>1003</td>\n",
              "      <td>0.083</td>\n",
              "      <td>0.059</td>\n",
              "      <td>0.098</td>\n",
              "      <td>0.323</td>\n",
              "      <td>0.436</td>\n",
              "    </tr>\n",
              "    <tr>\n",
              "      <th>2</th>\n",
              "      <td>1005</td>\n",
              "      <td>0.067</td>\n",
              "      <td>0.121</td>\n",
              "      <td>0.120</td>\n",
              "      <td>0.201</td>\n",
              "      <td>0.491</td>\n",
              "    </tr>\n",
              "    <tr>\n",
              "      <th>3</th>\n",
              "      <td>1007</td>\n",
              "      <td>0.020</td>\n",
              "      <td>0.034</td>\n",
              "      <td>0.096</td>\n",
              "      <td>0.278</td>\n",
              "      <td>0.572</td>\n",
              "    </tr>\n",
              "    <tr>\n",
              "      <th>4</th>\n",
              "      <td>1009</td>\n",
              "      <td>0.053</td>\n",
              "      <td>0.114</td>\n",
              "      <td>0.180</td>\n",
              "      <td>0.194</td>\n",
              "      <td>0.459</td>\n",
              "    </tr>\n",
              "  </tbody>\n",
              "</table>\n",
              "</div>"
            ],
            "text/plain": [
              "   COUNTYFP  NEVER  RARELY  SOMETIMES  FREQUENTLY  ALWAYS\n",
              "0      1001  0.053   0.074      0.134       0.295   0.444\n",
              "1      1003  0.083   0.059      0.098       0.323   0.436\n",
              "2      1005  0.067   0.121      0.120       0.201   0.491\n",
              "3      1007  0.020   0.034      0.096       0.278   0.572\n",
              "4      1009  0.053   0.114      0.180       0.194   0.459"
            ]
          },
          "metadata": {
            "tags": []
          },
          "execution_count": 13
        }
      ]
    },
    {
      "cell_type": "code",
      "metadata": {
        "id": "-oH6YbhapVJR",
        "colab_type": "code",
        "colab": {
          "base_uri": "https://localhost:8080/",
          "height": 77
        },
        "outputId": "256a36a3-478b-4f9b-acb1-18eaba351a01"
      },
      "source": [
        "mask_data[mask_data['COUNTYFP'] == 36081]"
      ],
      "execution_count": 14,
      "outputs": [
        {
          "output_type": "execute_result",
          "data": {
            "text/html": [
              "<div>\n",
              "<style scoped>\n",
              "    .dataframe tbody tr th:only-of-type {\n",
              "        vertical-align: middle;\n",
              "    }\n",
              "\n",
              "    .dataframe tbody tr th {\n",
              "        vertical-align: top;\n",
              "    }\n",
              "\n",
              "    .dataframe thead th {\n",
              "        text-align: right;\n",
              "    }\n",
              "</style>\n",
              "<table border=\"1\" class=\"dataframe\">\n",
              "  <thead>\n",
              "    <tr style=\"text-align: right;\">\n",
              "      <th></th>\n",
              "      <th>COUNTYFP</th>\n",
              "      <th>NEVER</th>\n",
              "      <th>RARELY</th>\n",
              "      <th>SOMETIMES</th>\n",
              "      <th>FREQUENTLY</th>\n",
              "      <th>ALWAYS</th>\n",
              "    </tr>\n",
              "  </thead>\n",
              "  <tbody>\n",
              "    <tr>\n",
              "      <th>1868</th>\n",
              "      <td>36081</td>\n",
              "      <td>0.022</td>\n",
              "      <td>0.023</td>\n",
              "      <td>0.068</td>\n",
              "      <td>0.136</td>\n",
              "      <td>0.751</td>\n",
              "    </tr>\n",
              "  </tbody>\n",
              "</table>\n",
              "</div>"
            ],
            "text/plain": [
              "      COUNTYFP  NEVER  RARELY  SOMETIMES  FREQUENTLY  ALWAYS\n",
              "1868     36081  0.022   0.023      0.068       0.136   0.751"
            ]
          },
          "metadata": {
            "tags": []
          },
          "execution_count": 14
        }
      ]
    },
    {
      "cell_type": "markdown",
      "metadata": {
        "id": "TCWqEdGzqr1P",
        "colab_type": "text"
      },
      "source": [
        "## Mobility Data "
      ]
    },
    {
      "cell_type": "markdown",
      "metadata": {
        "id": "3W5XRhm0xhkK",
        "colab_type": "text"
      },
      "source": [
        "### Google mobility data"
      ]
    },
    {
      "cell_type": "code",
      "metadata": {
        "id": "YCnpUC88quBQ",
        "colab_type": "code",
        "colab": {
          "base_uri": "https://localhost:8080/",
          "height": 106
        },
        "outputId": "81f97378-6121-46f6-a0ec-9ee2e3cd8cc8"
      },
      "source": [
        "google_data_url = 'https://raw.githubusercontent.com/ActiveConclusion/COVID19_mobility/master/google_reports/mobility_report_US.csv'\n",
        "\n",
        "google_filename = wget.download(google_data_url)\n",
        "google_mobility_data = pd.read_csv(google_filename,low_memory=False)\n",
        "google_mobility_data.head(2)"
      ],
      "execution_count": 15,
      "outputs": [
        {
          "output_type": "execute_result",
          "data": {
            "text/html": [
              "<div>\n",
              "<style scoped>\n",
              "    .dataframe tbody tr th:only-of-type {\n",
              "        vertical-align: middle;\n",
              "    }\n",
              "\n",
              "    .dataframe tbody tr th {\n",
              "        vertical-align: top;\n",
              "    }\n",
              "\n",
              "    .dataframe thead th {\n",
              "        text-align: right;\n",
              "    }\n",
              "</style>\n",
              "<table border=\"1\" class=\"dataframe\">\n",
              "  <thead>\n",
              "    <tr style=\"text-align: right;\">\n",
              "      <th></th>\n",
              "      <th>state</th>\n",
              "      <th>county</th>\n",
              "      <th>date</th>\n",
              "      <th>retail and recreation</th>\n",
              "      <th>grocery and pharmacy</th>\n",
              "      <th>parks</th>\n",
              "      <th>transit stations</th>\n",
              "      <th>workplaces</th>\n",
              "      <th>residential</th>\n",
              "    </tr>\n",
              "  </thead>\n",
              "  <tbody>\n",
              "    <tr>\n",
              "      <th>0</th>\n",
              "      <td>Total</td>\n",
              "      <td>Total</td>\n",
              "      <td>2020-02-15</td>\n",
              "      <td>6.0</td>\n",
              "      <td>2.0</td>\n",
              "      <td>15.0</td>\n",
              "      <td>3.0</td>\n",
              "      <td>2.0</td>\n",
              "      <td>-1.0</td>\n",
              "    </tr>\n",
              "    <tr>\n",
              "      <th>1</th>\n",
              "      <td>Total</td>\n",
              "      <td>Total</td>\n",
              "      <td>2020-02-16</td>\n",
              "      <td>7.0</td>\n",
              "      <td>1.0</td>\n",
              "      <td>16.0</td>\n",
              "      <td>2.0</td>\n",
              "      <td>0.0</td>\n",
              "      <td>-1.0</td>\n",
              "    </tr>\n",
              "  </tbody>\n",
              "</table>\n",
              "</div>"
            ],
            "text/plain": [
              "   state county        date  ...  transit stations  workplaces  residential\n",
              "0  Total  Total  2020-02-15  ...               3.0         2.0         -1.0\n",
              "1  Total  Total  2020-02-16  ...               2.0         0.0         -1.0\n",
              "\n",
              "[2 rows x 9 columns]"
            ]
          },
          "metadata": {
            "tags": []
          },
          "execution_count": 15
        }
      ]
    },
    {
      "cell_type": "code",
      "metadata": {
        "id": "TdzHjL2zxtkK",
        "colab_type": "code",
        "colab": {
          "base_uri": "https://localhost:8080/",
          "height": 123
        },
        "outputId": "51dda64e-a5e6-4267-e60e-11b3a6efc4f3"
      },
      "source": [
        "NY_GoogleMobility_data = google_mobility_data[google_mobility_data['state'] == 'New York']\n",
        "print(NY_GoogleMobility_data.shape)\n",
        "NY_GoogleMobility_data.tail(2)"
      ],
      "execution_count": 16,
      "outputs": [
        {
          "output_type": "stream",
          "text": [
            "(11098, 9)\n"
          ],
          "name": "stdout"
        },
        {
          "output_type": "execute_result",
          "data": {
            "text/html": [
              "<div>\n",
              "<style scoped>\n",
              "    .dataframe tbody tr th:only-of-type {\n",
              "        vertical-align: middle;\n",
              "    }\n",
              "\n",
              "    .dataframe tbody tr th {\n",
              "        vertical-align: top;\n",
              "    }\n",
              "\n",
              "    .dataframe thead th {\n",
              "        text-align: right;\n",
              "    }\n",
              "</style>\n",
              "<table border=\"1\" class=\"dataframe\">\n",
              "  <thead>\n",
              "    <tr style=\"text-align: right;\">\n",
              "      <th></th>\n",
              "      <th>state</th>\n",
              "      <th>county</th>\n",
              "      <th>date</th>\n",
              "      <th>retail and recreation</th>\n",
              "      <th>grocery and pharmacy</th>\n",
              "      <th>parks</th>\n",
              "      <th>transit stations</th>\n",
              "      <th>workplaces</th>\n",
              "      <th>residential</th>\n",
              "    </tr>\n",
              "  </thead>\n",
              "  <tbody>\n",
              "    <tr>\n",
              "      <th>284597</th>\n",
              "      <td>New York</td>\n",
              "      <td>Yates County</td>\n",
              "      <td>2020-08-10</td>\n",
              "      <td>NaN</td>\n",
              "      <td>34.0</td>\n",
              "      <td>NaN</td>\n",
              "      <td>NaN</td>\n",
              "      <td>-24.0</td>\n",
              "      <td>NaN</td>\n",
              "    </tr>\n",
              "    <tr>\n",
              "      <th>284598</th>\n",
              "      <td>New York</td>\n",
              "      <td>Yates County</td>\n",
              "      <td>2020-08-11</td>\n",
              "      <td>NaN</td>\n",
              "      <td>30.0</td>\n",
              "      <td>NaN</td>\n",
              "      <td>NaN</td>\n",
              "      <td>-24.0</td>\n",
              "      <td>NaN</td>\n",
              "    </tr>\n",
              "  </tbody>\n",
              "</table>\n",
              "</div>"
            ],
            "text/plain": [
              "           state        county  ... workplaces  residential\n",
              "284597  New York  Yates County  ...      -24.0          NaN\n",
              "284598  New York  Yates County  ...      -24.0          NaN\n",
              "\n",
              "[2 rows x 9 columns]"
            ]
          },
          "metadata": {
            "tags": []
          },
          "execution_count": 16
        }
      ]
    },
    {
      "cell_type": "markdown",
      "metadata": {
        "id": "__Kf0xdyxmJ6",
        "colab_type": "text"
      },
      "source": [
        "### Apple mobility data"
      ]
    },
    {
      "cell_type": "code",
      "metadata": {
        "id": "5YxdFDmlx4ib",
        "colab_type": "code",
        "colab": {
          "base_uri": "https://localhost:8080/",
          "height": 106
        },
        "outputId": "944db110-1d9f-4c19-8bd7-c35ed7c990ce"
      },
      "source": [
        "apple_report_url = 'https://raw.githubusercontent.com/ActiveConclusion/COVID19_mobility/master/apple_reports/apple_mobility_report_US.csv'\n",
        "\n",
        "apple_filename = wget.download(apple_report_url)\n",
        "apple_mobility_data = pd.read_csv(apple_filename,low_memory=False)\n",
        "apple_mobility_data.tail(2)"
      ],
      "execution_count": 17,
      "outputs": [
        {
          "output_type": "execute_result",
          "data": {
            "text/html": [
              "<div>\n",
              "<style scoped>\n",
              "    .dataframe tbody tr th:only-of-type {\n",
              "        vertical-align: middle;\n",
              "    }\n",
              "\n",
              "    .dataframe tbody tr th {\n",
              "        vertical-align: top;\n",
              "    }\n",
              "\n",
              "    .dataframe thead th {\n",
              "        text-align: right;\n",
              "    }\n",
              "</style>\n",
              "<table border=\"1\" class=\"dataframe\">\n",
              "  <thead>\n",
              "    <tr style=\"text-align: right;\">\n",
              "      <th></th>\n",
              "      <th>state</th>\n",
              "      <th>county_and_city</th>\n",
              "      <th>geo_type</th>\n",
              "      <th>date</th>\n",
              "      <th>driving</th>\n",
              "      <th>transit</th>\n",
              "      <th>walking</th>\n",
              "    </tr>\n",
              "  </thead>\n",
              "  <tbody>\n",
              "    <tr>\n",
              "      <th>478270</th>\n",
              "      <td>Wyoming</td>\n",
              "      <td>Uinta County</td>\n",
              "      <td>county</td>\n",
              "      <td>2020-08-12</td>\n",
              "      <td>268.83</td>\n",
              "      <td>NaN</td>\n",
              "      <td>NaN</td>\n",
              "    </tr>\n",
              "    <tr>\n",
              "      <th>478271</th>\n",
              "      <td>Wyoming</td>\n",
              "      <td>Uinta County</td>\n",
              "      <td>county</td>\n",
              "      <td>2020-08-13</td>\n",
              "      <td>315.41</td>\n",
              "      <td>NaN</td>\n",
              "      <td>NaN</td>\n",
              "    </tr>\n",
              "  </tbody>\n",
              "</table>\n",
              "</div>"
            ],
            "text/plain": [
              "          state county_and_city geo_type        date  driving  transit  walking\n",
              "478270  Wyoming    Uinta County   county  2020-08-12   268.83      NaN      NaN\n",
              "478271  Wyoming    Uinta County   county  2020-08-13   315.41      NaN      NaN"
            ]
          },
          "metadata": {
            "tags": []
          },
          "execution_count": 17
        }
      ]
    },
    {
      "cell_type": "code",
      "metadata": {
        "id": "CR5K3TSUx6uG",
        "colab_type": "code",
        "colab": {
          "base_uri": "https://localhost:8080/",
          "height": 123
        },
        "outputId": "4da7f539-91ef-4fbe-dc98-1617849f3e27"
      },
      "source": [
        "NY_AppleMobility_data = apple_mobility_data[apple_mobility_data['state'] == 'New York']\n",
        "print(NY_AppleMobility_data.shape)\n",
        "NY_AppleMobility_data.tail(2)"
      ],
      "execution_count": 18,
      "outputs": [
        {
          "output_type": "stream",
          "text": [
            "(14204, 7)\n"
          ],
          "name": "stdout"
        },
        {
          "output_type": "execute_result",
          "data": {
            "text/html": [
              "<div>\n",
              "<style scoped>\n",
              "    .dataframe tbody tr th:only-of-type {\n",
              "        vertical-align: middle;\n",
              "    }\n",
              "\n",
              "    .dataframe tbody tr th {\n",
              "        vertical-align: top;\n",
              "    }\n",
              "\n",
              "    .dataframe thead th {\n",
              "        text-align: right;\n",
              "    }\n",
              "</style>\n",
              "<table border=\"1\" class=\"dataframe\">\n",
              "  <thead>\n",
              "    <tr style=\"text-align: right;\">\n",
              "      <th></th>\n",
              "      <th>state</th>\n",
              "      <th>county_and_city</th>\n",
              "      <th>geo_type</th>\n",
              "      <th>date</th>\n",
              "      <th>driving</th>\n",
              "      <th>transit</th>\n",
              "      <th>walking</th>\n",
              "    </tr>\n",
              "  </thead>\n",
              "  <tbody>\n",
              "    <tr>\n",
              "      <th>275810</th>\n",
              "      <td>New York</td>\n",
              "      <td>Yates County</td>\n",
              "      <td>county</td>\n",
              "      <td>2020-08-12</td>\n",
              "      <td>290.56</td>\n",
              "      <td>NaN</td>\n",
              "      <td>NaN</td>\n",
              "    </tr>\n",
              "    <tr>\n",
              "      <th>275811</th>\n",
              "      <td>New York</td>\n",
              "      <td>Yates County</td>\n",
              "      <td>county</td>\n",
              "      <td>2020-08-13</td>\n",
              "      <td>303.29</td>\n",
              "      <td>NaN</td>\n",
              "      <td>NaN</td>\n",
              "    </tr>\n",
              "  </tbody>\n",
              "</table>\n",
              "</div>"
            ],
            "text/plain": [
              "           state county_and_city geo_type  ... driving  transit  walking\n",
              "275810  New York    Yates County   county  ...  290.56      NaN      NaN\n",
              "275811  New York    Yates County   county  ...  303.29      NaN      NaN\n",
              "\n",
              "[2 rows x 7 columns]"
            ]
          },
          "metadata": {
            "tags": []
          },
          "execution_count": 18
        }
      ]
    },
    {
      "cell_type": "code",
      "metadata": {
        "id": "v2-edOZzyOoc",
        "colab_type": "code",
        "colab": {
          "base_uri": "https://localhost:8080/",
          "height": 118
        },
        "outputId": "a14ae42e-011f-4b10-f107-d13086b0413f"
      },
      "source": [
        "NY_AppleMobility_data['county'] = NY_AppleMobility_data['county_and_city']"
      ],
      "execution_count": 19,
      "outputs": [
        {
          "output_type": "stream",
          "text": [
            "/usr/local/lib/python3.6/dist-packages/ipykernel_launcher.py:1: SettingWithCopyWarning: \n",
            "A value is trying to be set on a copy of a slice from a DataFrame.\n",
            "Try using .loc[row_indexer,col_indexer] = value instead\n",
            "\n",
            "See the caveats in the documentation: https://pandas.pydata.org/pandas-docs/stable/user_guide/indexing.html#returning-a-view-versus-a-copy\n",
            "  \"\"\"Entry point for launching an IPython kernel.\n"
          ],
          "name": "stderr"
        }
      ]
    },
    {
      "cell_type": "code",
      "metadata": {
        "id": "tZ6j4v0_yDR7",
        "colab_type": "code",
        "colab": {
          "base_uri": "https://localhost:8080/",
          "height": 106
        },
        "outputId": "be46bad4-ffe8-4ea8-ab31-ccab48a5c642"
      },
      "source": [
        "NY_AppleMobility_data = NY_AppleMobility_data[['state','county','date','driving','transit','walking']]\n",
        "\n",
        "NY_AppleMobility_data.tail(2)"
      ],
      "execution_count": 20,
      "outputs": [
        {
          "output_type": "execute_result",
          "data": {
            "text/html": [
              "<div>\n",
              "<style scoped>\n",
              "    .dataframe tbody tr th:only-of-type {\n",
              "        vertical-align: middle;\n",
              "    }\n",
              "\n",
              "    .dataframe tbody tr th {\n",
              "        vertical-align: top;\n",
              "    }\n",
              "\n",
              "    .dataframe thead th {\n",
              "        text-align: right;\n",
              "    }\n",
              "</style>\n",
              "<table border=\"1\" class=\"dataframe\">\n",
              "  <thead>\n",
              "    <tr style=\"text-align: right;\">\n",
              "      <th></th>\n",
              "      <th>state</th>\n",
              "      <th>county</th>\n",
              "      <th>date</th>\n",
              "      <th>driving</th>\n",
              "      <th>transit</th>\n",
              "      <th>walking</th>\n",
              "    </tr>\n",
              "  </thead>\n",
              "  <tbody>\n",
              "    <tr>\n",
              "      <th>275810</th>\n",
              "      <td>New York</td>\n",
              "      <td>Yates County</td>\n",
              "      <td>2020-08-12</td>\n",
              "      <td>290.56</td>\n",
              "      <td>NaN</td>\n",
              "      <td>NaN</td>\n",
              "    </tr>\n",
              "    <tr>\n",
              "      <th>275811</th>\n",
              "      <td>New York</td>\n",
              "      <td>Yates County</td>\n",
              "      <td>2020-08-13</td>\n",
              "      <td>303.29</td>\n",
              "      <td>NaN</td>\n",
              "      <td>NaN</td>\n",
              "    </tr>\n",
              "  </tbody>\n",
              "</table>\n",
              "</div>"
            ],
            "text/plain": [
              "           state        county        date  driving  transit  walking\n",
              "275810  New York  Yates County  2020-08-12   290.56      NaN      NaN\n",
              "275811  New York  Yates County  2020-08-13   303.29      NaN      NaN"
            ]
          },
          "metadata": {
            "tags": []
          },
          "execution_count": 20
        }
      ]
    },
    {
      "cell_type": "code",
      "metadata": {
        "id": "JOMM7wT0yYNo",
        "colab_type": "code",
        "colab": {
          "base_uri": "https://localhost:8080/",
          "height": 34
        },
        "outputId": "a69bc933-89c6-4c32-fa89-ee4b9a69d38d"
      },
      "source": [
        "NY_mobility_data = pd.merge(NY_GoogleMobility_data,NY_AppleMobility_data,how='outer' ,on=['state','county','date'])\n",
        "NY_mobility_data.shape"
      ],
      "execution_count": 21,
      "outputs": [
        {
          "output_type": "execute_result",
          "data": {
            "text/plain": [
              "(14328, 12)"
            ]
          },
          "metadata": {
            "tags": []
          },
          "execution_count": 21
        }
      ]
    },
    {
      "cell_type": "code",
      "metadata": {
        "id": "jyFwKMItyc2n",
        "colab_type": "code",
        "colab": {
          "base_uri": "https://localhost:8080/",
          "height": 296
        },
        "outputId": "de10ea1c-ed29-4252-e29a-65a3371dac18"
      },
      "source": [
        "NY_mobility_data = NY_mobility_data.fillna(0)\n",
        "NY_mobility_data.tail()"
      ],
      "execution_count": 22,
      "outputs": [
        {
          "output_type": "execute_result",
          "data": {
            "text/html": [
              "<div>\n",
              "<style scoped>\n",
              "    .dataframe tbody tr th:only-of-type {\n",
              "        vertical-align: middle;\n",
              "    }\n",
              "\n",
              "    .dataframe tbody tr th {\n",
              "        vertical-align: top;\n",
              "    }\n",
              "\n",
              "    .dataframe thead th {\n",
              "        text-align: right;\n",
              "    }\n",
              "</style>\n",
              "<table border=\"1\" class=\"dataframe\">\n",
              "  <thead>\n",
              "    <tr style=\"text-align: right;\">\n",
              "      <th></th>\n",
              "      <th>state</th>\n",
              "      <th>county</th>\n",
              "      <th>date</th>\n",
              "      <th>retail and recreation</th>\n",
              "      <th>grocery and pharmacy</th>\n",
              "      <th>parks</th>\n",
              "      <th>transit stations</th>\n",
              "      <th>workplaces</th>\n",
              "      <th>residential</th>\n",
              "      <th>driving</th>\n",
              "      <th>transit</th>\n",
              "      <th>walking</th>\n",
              "    </tr>\n",
              "  </thead>\n",
              "  <tbody>\n",
              "    <tr>\n",
              "      <th>14323</th>\n",
              "      <td>New York</td>\n",
              "      <td>Yates County</td>\n",
              "      <td>2020-02-12</td>\n",
              "      <td>0.0</td>\n",
              "      <td>0.0</td>\n",
              "      <td>0.0</td>\n",
              "      <td>0.0</td>\n",
              "      <td>0.0</td>\n",
              "      <td>0.0</td>\n",
              "      <td>33.30</td>\n",
              "      <td>0.0</td>\n",
              "      <td>0.0</td>\n",
              "    </tr>\n",
              "    <tr>\n",
              "      <th>14324</th>\n",
              "      <td>New York</td>\n",
              "      <td>Yates County</td>\n",
              "      <td>2020-02-13</td>\n",
              "      <td>0.0</td>\n",
              "      <td>0.0</td>\n",
              "      <td>0.0</td>\n",
              "      <td>0.0</td>\n",
              "      <td>0.0</td>\n",
              "      <td>0.0</td>\n",
              "      <td>30.28</td>\n",
              "      <td>0.0</td>\n",
              "      <td>0.0</td>\n",
              "    </tr>\n",
              "    <tr>\n",
              "      <th>14325</th>\n",
              "      <td>New York</td>\n",
              "      <td>Yates County</td>\n",
              "      <td>2020-02-14</td>\n",
              "      <td>0.0</td>\n",
              "      <td>0.0</td>\n",
              "      <td>0.0</td>\n",
              "      <td>0.0</td>\n",
              "      <td>0.0</td>\n",
              "      <td>0.0</td>\n",
              "      <td>78.01</td>\n",
              "      <td>0.0</td>\n",
              "      <td>0.0</td>\n",
              "    </tr>\n",
              "    <tr>\n",
              "      <th>14326</th>\n",
              "      <td>New York</td>\n",
              "      <td>Yates County</td>\n",
              "      <td>2020-08-12</td>\n",
              "      <td>0.0</td>\n",
              "      <td>0.0</td>\n",
              "      <td>0.0</td>\n",
              "      <td>0.0</td>\n",
              "      <td>0.0</td>\n",
              "      <td>0.0</td>\n",
              "      <td>290.56</td>\n",
              "      <td>0.0</td>\n",
              "      <td>0.0</td>\n",
              "    </tr>\n",
              "    <tr>\n",
              "      <th>14327</th>\n",
              "      <td>New York</td>\n",
              "      <td>Yates County</td>\n",
              "      <td>2020-08-13</td>\n",
              "      <td>0.0</td>\n",
              "      <td>0.0</td>\n",
              "      <td>0.0</td>\n",
              "      <td>0.0</td>\n",
              "      <td>0.0</td>\n",
              "      <td>0.0</td>\n",
              "      <td>303.29</td>\n",
              "      <td>0.0</td>\n",
              "      <td>0.0</td>\n",
              "    </tr>\n",
              "  </tbody>\n",
              "</table>\n",
              "</div>"
            ],
            "text/plain": [
              "          state        county        date  ...  driving  transit  walking\n",
              "14323  New York  Yates County  2020-02-12  ...    33.30      0.0      0.0\n",
              "14324  New York  Yates County  2020-02-13  ...    30.28      0.0      0.0\n",
              "14325  New York  Yates County  2020-02-14  ...    78.01      0.0      0.0\n",
              "14326  New York  Yates County  2020-08-12  ...   290.56      0.0      0.0\n",
              "14327  New York  Yates County  2020-08-13  ...   303.29      0.0      0.0\n",
              "\n",
              "[5 rows x 12 columns]"
            ]
          },
          "metadata": {
            "tags": []
          },
          "execution_count": 22
        }
      ]
    },
    {
      "cell_type": "markdown",
      "metadata": {
        "id": "wt9hz8VbynTJ",
        "colab_type": "text"
      },
      "source": [
        "### Queens county mobility data"
      ]
    },
    {
      "cell_type": "code",
      "metadata": {
        "id": "jpUMP5KiynBn",
        "colab_type": "code",
        "colab": {
          "base_uri": "https://localhost:8080/",
          "height": 313
        },
        "outputId": "e9ea3045-40ae-4cce-fbd2-c3212ff335bc"
      },
      "source": [
        "queens_mobility_data = NY_mobility_data[NY_mobility_data['county'] == 'Queens County']\n",
        "print(queens_mobility_data.shape)\n",
        "queens_mobility_data.tail()"
      ],
      "execution_count": 23,
      "outputs": [
        {
          "output_type": "stream",
          "text": [
            "(214, 12)\n"
          ],
          "name": "stdout"
        },
        {
          "output_type": "execute_result",
          "data": {
            "text/html": [
              "<div>\n",
              "<style scoped>\n",
              "    .dataframe tbody tr th:only-of-type {\n",
              "        vertical-align: middle;\n",
              "    }\n",
              "\n",
              "    .dataframe tbody tr th {\n",
              "        vertical-align: top;\n",
              "    }\n",
              "\n",
              "    .dataframe thead th {\n",
              "        text-align: right;\n",
              "    }\n",
              "</style>\n",
              "<table border=\"1\" class=\"dataframe\">\n",
              "  <thead>\n",
              "    <tr style=\"text-align: right;\">\n",
              "      <th></th>\n",
              "      <th>state</th>\n",
              "      <th>county</th>\n",
              "      <th>date</th>\n",
              "      <th>retail and recreation</th>\n",
              "      <th>grocery and pharmacy</th>\n",
              "      <th>parks</th>\n",
              "      <th>transit stations</th>\n",
              "      <th>workplaces</th>\n",
              "      <th>residential</th>\n",
              "      <th>driving</th>\n",
              "      <th>transit</th>\n",
              "      <th>walking</th>\n",
              "    </tr>\n",
              "  </thead>\n",
              "  <tbody>\n",
              "    <tr>\n",
              "      <th>13129</th>\n",
              "      <td>New York</td>\n",
              "      <td>Queens County</td>\n",
              "      <td>2020-02-12</td>\n",
              "      <td>0.0</td>\n",
              "      <td>0.0</td>\n",
              "      <td>0.0</td>\n",
              "      <td>0.0</td>\n",
              "      <td>0.0</td>\n",
              "      <td>0.0</td>\n",
              "      <td>3.27</td>\n",
              "      <td>0.0</td>\n",
              "      <td>0.0</td>\n",
              "    </tr>\n",
              "    <tr>\n",
              "      <th>13130</th>\n",
              "      <td>New York</td>\n",
              "      <td>Queens County</td>\n",
              "      <td>2020-02-13</td>\n",
              "      <td>0.0</td>\n",
              "      <td>0.0</td>\n",
              "      <td>0.0</td>\n",
              "      <td>0.0</td>\n",
              "      <td>0.0</td>\n",
              "      <td>0.0</td>\n",
              "      <td>14.60</td>\n",
              "      <td>0.0</td>\n",
              "      <td>0.0</td>\n",
              "    </tr>\n",
              "    <tr>\n",
              "      <th>13131</th>\n",
              "      <td>New York</td>\n",
              "      <td>Queens County</td>\n",
              "      <td>2020-02-14</td>\n",
              "      <td>0.0</td>\n",
              "      <td>0.0</td>\n",
              "      <td>0.0</td>\n",
              "      <td>0.0</td>\n",
              "      <td>0.0</td>\n",
              "      <td>0.0</td>\n",
              "      <td>34.10</td>\n",
              "      <td>0.0</td>\n",
              "      <td>0.0</td>\n",
              "    </tr>\n",
              "    <tr>\n",
              "      <th>13132</th>\n",
              "      <td>New York</td>\n",
              "      <td>Queens County</td>\n",
              "      <td>2020-08-12</td>\n",
              "      <td>0.0</td>\n",
              "      <td>0.0</td>\n",
              "      <td>0.0</td>\n",
              "      <td>0.0</td>\n",
              "      <td>0.0</td>\n",
              "      <td>0.0</td>\n",
              "      <td>26.37</td>\n",
              "      <td>0.0</td>\n",
              "      <td>0.0</td>\n",
              "    </tr>\n",
              "    <tr>\n",
              "      <th>13133</th>\n",
              "      <td>New York</td>\n",
              "      <td>Queens County</td>\n",
              "      <td>2020-08-13</td>\n",
              "      <td>0.0</td>\n",
              "      <td>0.0</td>\n",
              "      <td>0.0</td>\n",
              "      <td>0.0</td>\n",
              "      <td>0.0</td>\n",
              "      <td>0.0</td>\n",
              "      <td>26.34</td>\n",
              "      <td>0.0</td>\n",
              "      <td>0.0</td>\n",
              "    </tr>\n",
              "  </tbody>\n",
              "</table>\n",
              "</div>"
            ],
            "text/plain": [
              "          state         county        date  ...  driving  transit  walking\n",
              "13129  New York  Queens County  2020-02-12  ...     3.27      0.0      0.0\n",
              "13130  New York  Queens County  2020-02-13  ...    14.60      0.0      0.0\n",
              "13131  New York  Queens County  2020-02-14  ...    34.10      0.0      0.0\n",
              "13132  New York  Queens County  2020-08-12  ...    26.37      0.0      0.0\n",
              "13133  New York  Queens County  2020-08-13  ...    26.34      0.0      0.0\n",
              "\n",
              "[5 rows x 12 columns]"
            ]
          },
          "metadata": {
            "tags": []
          },
          "execution_count": 23
        }
      ]
    },
    {
      "cell_type": "code",
      "metadata": {
        "id": "US9FN7MjzDIm",
        "colab_type": "code",
        "colab": {
          "base_uri": "https://localhost:8080/",
          "height": 296
        },
        "outputId": "62918bbd-6dc2-469b-fe7c-5f9b56f2e416"
      },
      "source": [
        "queens_mobility_data.head()"
      ],
      "execution_count": 24,
      "outputs": [
        {
          "output_type": "execute_result",
          "data": {
            "text/html": [
              "<div>\n",
              "<style scoped>\n",
              "    .dataframe tbody tr th:only-of-type {\n",
              "        vertical-align: middle;\n",
              "    }\n",
              "\n",
              "    .dataframe tbody tr th {\n",
              "        vertical-align: top;\n",
              "    }\n",
              "\n",
              "    .dataframe thead th {\n",
              "        text-align: right;\n",
              "    }\n",
              "</style>\n",
              "<table border=\"1\" class=\"dataframe\">\n",
              "  <thead>\n",
              "    <tr style=\"text-align: right;\">\n",
              "      <th></th>\n",
              "      <th>state</th>\n",
              "      <th>county</th>\n",
              "      <th>date</th>\n",
              "      <th>retail and recreation</th>\n",
              "      <th>grocery and pharmacy</th>\n",
              "      <th>parks</th>\n",
              "      <th>transit stations</th>\n",
              "      <th>workplaces</th>\n",
              "      <th>residential</th>\n",
              "      <th>driving</th>\n",
              "      <th>transit</th>\n",
              "      <th>walking</th>\n",
              "    </tr>\n",
              "  </thead>\n",
              "  <tbody>\n",
              "    <tr>\n",
              "      <th>7160</th>\n",
              "      <td>New York</td>\n",
              "      <td>Queens County</td>\n",
              "      <td>2020-02-15</td>\n",
              "      <td>-2.0</td>\n",
              "      <td>-5.0</td>\n",
              "      <td>-11.0</td>\n",
              "      <td>-5.0</td>\n",
              "      <td>2.0</td>\n",
              "      <td>0.0</td>\n",
              "      <td>15.43</td>\n",
              "      <td>0.0</td>\n",
              "      <td>0.0</td>\n",
              "    </tr>\n",
              "    <tr>\n",
              "      <th>7161</th>\n",
              "      <td>New York</td>\n",
              "      <td>Queens County</td>\n",
              "      <td>2020-02-16</td>\n",
              "      <td>1.0</td>\n",
              "      <td>-5.0</td>\n",
              "      <td>5.0</td>\n",
              "      <td>-5.0</td>\n",
              "      <td>-1.0</td>\n",
              "      <td>-1.0</td>\n",
              "      <td>-2.23</td>\n",
              "      <td>0.0</td>\n",
              "      <td>0.0</td>\n",
              "    </tr>\n",
              "    <tr>\n",
              "      <th>7162</th>\n",
              "      <td>New York</td>\n",
              "      <td>Queens County</td>\n",
              "      <td>2020-02-17</td>\n",
              "      <td>7.0</td>\n",
              "      <td>0.0</td>\n",
              "      <td>39.0</td>\n",
              "      <td>-16.0</td>\n",
              "      <td>-38.0</td>\n",
              "      <td>10.0</td>\n",
              "      <td>1.85</td>\n",
              "      <td>0.0</td>\n",
              "      <td>0.0</td>\n",
              "    </tr>\n",
              "    <tr>\n",
              "      <th>7163</th>\n",
              "      <td>New York</td>\n",
              "      <td>Queens County</td>\n",
              "      <td>2020-02-18</td>\n",
              "      <td>0.0</td>\n",
              "      <td>-4.0</td>\n",
              "      <td>-7.0</td>\n",
              "      <td>-5.0</td>\n",
              "      <td>-9.0</td>\n",
              "      <td>3.0</td>\n",
              "      <td>4.02</td>\n",
              "      <td>0.0</td>\n",
              "      <td>0.0</td>\n",
              "    </tr>\n",
              "    <tr>\n",
              "      <th>7164</th>\n",
              "      <td>New York</td>\n",
              "      <td>Queens County</td>\n",
              "      <td>2020-02-19</td>\n",
              "      <td>3.0</td>\n",
              "      <td>-2.0</td>\n",
              "      <td>14.0</td>\n",
              "      <td>-5.0</td>\n",
              "      <td>-9.0</td>\n",
              "      <td>2.0</td>\n",
              "      <td>5.73</td>\n",
              "      <td>0.0</td>\n",
              "      <td>0.0</td>\n",
              "    </tr>\n",
              "  </tbody>\n",
              "</table>\n",
              "</div>"
            ],
            "text/plain": [
              "         state         county        date  ...  driving  transit  walking\n",
              "7160  New York  Queens County  2020-02-15  ...    15.43      0.0      0.0\n",
              "7161  New York  Queens County  2020-02-16  ...    -2.23      0.0      0.0\n",
              "7162  New York  Queens County  2020-02-17  ...     1.85      0.0      0.0\n",
              "7163  New York  Queens County  2020-02-18  ...     4.02      0.0      0.0\n",
              "7164  New York  Queens County  2020-02-19  ...     5.73      0.0      0.0\n",
              "\n",
              "[5 rows x 12 columns]"
            ]
          },
          "metadata": {
            "tags": []
          },
          "execution_count": 24
        }
      ]
    },
    {
      "cell_type": "markdown",
      "metadata": {
        "id": "2Os8Y4dDzGKB",
        "colab_type": "text"
      },
      "source": [
        "## Social Distancing metric "
      ]
    },
    {
      "cell_type": "code",
      "metadata": {
        "id": "5XZINlEzzIsj",
        "colab_type": "code",
        "colab": {
          "base_uri": "https://localhost:8080/",
          "height": 106
        },
        "outputId": "beb7ec9a-3ab6-499e-8de8-c8973dbde465"
      },
      "source": [
        "socialdistancing_url = 'https://raw.githubusercontent.com/descarteslabs/DL-COVID-19/master/DL-us-mobility-daterow.csv'\n",
        "\n",
        "socialdistancing_file = wget.download(socialdistancing_url)\n",
        "socialdistancing_data = pd.read_csv(socialdistancing_file,low_memory=False)\n",
        "socialdistancing_data.tail(2)\n",
        "\n"
      ],
      "execution_count": 25,
      "outputs": [
        {
          "output_type": "execute_result",
          "data": {
            "text/html": [
              "<div>\n",
              "<style scoped>\n",
              "    .dataframe tbody tr th:only-of-type {\n",
              "        vertical-align: middle;\n",
              "    }\n",
              "\n",
              "    .dataframe tbody tr th {\n",
              "        vertical-align: top;\n",
              "    }\n",
              "\n",
              "    .dataframe thead th {\n",
              "        text-align: right;\n",
              "    }\n",
              "</style>\n",
              "<table border=\"1\" class=\"dataframe\">\n",
              "  <thead>\n",
              "    <tr style=\"text-align: right;\">\n",
              "      <th></th>\n",
              "      <th>date</th>\n",
              "      <th>country_code</th>\n",
              "      <th>admin_level</th>\n",
              "      <th>admin1</th>\n",
              "      <th>admin2</th>\n",
              "      <th>fips</th>\n",
              "      <th>samples</th>\n",
              "      <th>m50</th>\n",
              "      <th>m50_index</th>\n",
              "    </tr>\n",
              "  </thead>\n",
              "  <tbody>\n",
              "    <tr>\n",
              "      <th>437898</th>\n",
              "      <td>2020-08-10</td>\n",
              "      <td>US</td>\n",
              "      <td>2</td>\n",
              "      <td>Wyoming</td>\n",
              "      <td>Uinta County</td>\n",
              "      <td>56041.0</td>\n",
              "      <td>699</td>\n",
              "      <td>5.901</td>\n",
              "      <td>188</td>\n",
              "    </tr>\n",
              "    <tr>\n",
              "      <th>437899</th>\n",
              "      <td>2020-08-11</td>\n",
              "      <td>US</td>\n",
              "      <td>2</td>\n",
              "      <td>Wyoming</td>\n",
              "      <td>Uinta County</td>\n",
              "      <td>56041.0</td>\n",
              "      <td>722</td>\n",
              "      <td>5.796</td>\n",
              "      <td>185</td>\n",
              "    </tr>\n",
              "  </tbody>\n",
              "</table>\n",
              "</div>"
            ],
            "text/plain": [
              "              date country_code  admin_level  ... samples    m50  m50_index\n",
              "437898  2020-08-10           US            2  ...     699  5.901        188\n",
              "437899  2020-08-11           US            2  ...     722  5.796        185\n",
              "\n",
              "[2 rows x 9 columns]"
            ]
          },
          "metadata": {
            "tags": []
          },
          "execution_count": 25
        }
      ]
    },
    {
      "cell_type": "code",
      "metadata": {
        "id": "Ugy0ycqY022N",
        "colab_type": "code",
        "colab": {
          "base_uri": "https://localhost:8080/",
          "height": 195
        },
        "outputId": "e699dc26-a8ea-4b5e-ccbe-89c0a76d1f37"
      },
      "source": [
        "newyork_socialdistancing_data= socialdistancing_data[(socialdistancing_data['admin1']=='New York') &\n",
        "                                           (socialdistancing_data['admin_level']== 2)]\n",
        "\n",
        "newyork_socialdistancing_data.head()"
      ],
      "execution_count": 26,
      "outputs": [
        {
          "output_type": "execute_result",
          "data": {
            "text/html": [
              "<div>\n",
              "<style scoped>\n",
              "    .dataframe tbody tr th:only-of-type {\n",
              "        vertical-align: middle;\n",
              "    }\n",
              "\n",
              "    .dataframe tbody tr th {\n",
              "        vertical-align: top;\n",
              "    }\n",
              "\n",
              "    .dataframe thead th {\n",
              "        text-align: right;\n",
              "    }\n",
              "</style>\n",
              "<table border=\"1\" class=\"dataframe\">\n",
              "  <thead>\n",
              "    <tr style=\"text-align: right;\">\n",
              "      <th></th>\n",
              "      <th>date</th>\n",
              "      <th>country_code</th>\n",
              "      <th>admin_level</th>\n",
              "      <th>admin1</th>\n",
              "      <th>admin2</th>\n",
              "      <th>fips</th>\n",
              "      <th>samples</th>\n",
              "      <th>m50</th>\n",
              "      <th>m50_index</th>\n",
              "    </tr>\n",
              "  </thead>\n",
              "  <tbody>\n",
              "    <tr>\n",
              "      <th>254507</th>\n",
              "      <td>2020-03-01</td>\n",
              "      <td>US</td>\n",
              "      <td>2</td>\n",
              "      <td>New York</td>\n",
              "      <td>Albany County</td>\n",
              "      <td>36001.0</td>\n",
              "      <td>4095</td>\n",
              "      <td>2.616</td>\n",
              "      <td>54</td>\n",
              "    </tr>\n",
              "    <tr>\n",
              "      <th>254508</th>\n",
              "      <td>2020-03-02</td>\n",
              "      <td>US</td>\n",
              "      <td>2</td>\n",
              "      <td>New York</td>\n",
              "      <td>Albany County</td>\n",
              "      <td>36001.0</td>\n",
              "      <td>4376</td>\n",
              "      <td>4.680</td>\n",
              "      <td>97</td>\n",
              "    </tr>\n",
              "    <tr>\n",
              "      <th>254509</th>\n",
              "      <td>2020-03-03</td>\n",
              "      <td>US</td>\n",
              "      <td>2</td>\n",
              "      <td>New York</td>\n",
              "      <td>Albany County</td>\n",
              "      <td>36001.0</td>\n",
              "      <td>4686</td>\n",
              "      <td>4.778</td>\n",
              "      <td>100</td>\n",
              "    </tr>\n",
              "    <tr>\n",
              "      <th>254510</th>\n",
              "      <td>2020-03-04</td>\n",
              "      <td>US</td>\n",
              "      <td>2</td>\n",
              "      <td>New York</td>\n",
              "      <td>Albany County</td>\n",
              "      <td>36001.0</td>\n",
              "      <td>4842</td>\n",
              "      <td>4.486</td>\n",
              "      <td>93</td>\n",
              "    </tr>\n",
              "    <tr>\n",
              "      <th>254511</th>\n",
              "      <td>2020-03-05</td>\n",
              "      <td>US</td>\n",
              "      <td>2</td>\n",
              "      <td>New York</td>\n",
              "      <td>Albany County</td>\n",
              "      <td>36001.0</td>\n",
              "      <td>4548</td>\n",
              "      <td>5.129</td>\n",
              "      <td>107</td>\n",
              "    </tr>\n",
              "  </tbody>\n",
              "</table>\n",
              "</div>"
            ],
            "text/plain": [
              "              date country_code  admin_level  ... samples    m50  m50_index\n",
              "254507  2020-03-01           US            2  ...    4095  2.616         54\n",
              "254508  2020-03-02           US            2  ...    4376  4.680         97\n",
              "254509  2020-03-03           US            2  ...    4686  4.778        100\n",
              "254510  2020-03-04           US            2  ...    4842  4.486         93\n",
              "254511  2020-03-05           US            2  ...    4548  5.129        107\n",
              "\n",
              "[5 rows x 9 columns]"
            ]
          },
          "metadata": {
            "tags": []
          },
          "execution_count": 26
        }
      ]
    },
    {
      "cell_type": "code",
      "metadata": {
        "id": "-1cKTY4Q1IC2",
        "colab_type": "code",
        "colab": {
          "base_uri": "https://localhost:8080/",
          "height": 212
        },
        "outputId": "6b8c6a63-672b-4144-b6b5-1c54bc5bcfff"
      },
      "source": [
        "queens_social_distancing = newyork_socialdistancing_data[newyork_socialdistancing_data['admin2'] == 'Queens County']\n",
        "print(queens_social_distancing.shape)\n",
        "queens_social_distancing.head()"
      ],
      "execution_count": 27,
      "outputs": [
        {
          "output_type": "stream",
          "text": [
            "(162, 9)\n"
          ],
          "name": "stdout"
        },
        {
          "output_type": "execute_result",
          "data": {
            "text/html": [
              "<div>\n",
              "<style scoped>\n",
              "    .dataframe tbody tr th:only-of-type {\n",
              "        vertical-align: middle;\n",
              "    }\n",
              "\n",
              "    .dataframe tbody tr th {\n",
              "        vertical-align: top;\n",
              "    }\n",
              "\n",
              "    .dataframe thead th {\n",
              "        text-align: right;\n",
              "    }\n",
              "</style>\n",
              "<table border=\"1\" class=\"dataframe\">\n",
              "  <thead>\n",
              "    <tr style=\"text-align: right;\">\n",
              "      <th></th>\n",
              "      <th>date</th>\n",
              "      <th>country_code</th>\n",
              "      <th>admin_level</th>\n",
              "      <th>admin1</th>\n",
              "      <th>admin2</th>\n",
              "      <th>fips</th>\n",
              "      <th>samples</th>\n",
              "      <th>m50</th>\n",
              "      <th>m50_index</th>\n",
              "    </tr>\n",
              "  </thead>\n",
              "  <tbody>\n",
              "    <tr>\n",
              "      <th>260825</th>\n",
              "      <td>2020-03-01</td>\n",
              "      <td>US</td>\n",
              "      <td>2</td>\n",
              "      <td>New York</td>\n",
              "      <td>Queens County</td>\n",
              "      <td>36081.0</td>\n",
              "      <td>26218</td>\n",
              "      <td>1.339</td>\n",
              "      <td>35</td>\n",
              "    </tr>\n",
              "    <tr>\n",
              "      <th>260826</th>\n",
              "      <td>2020-03-02</td>\n",
              "      <td>US</td>\n",
              "      <td>2</td>\n",
              "      <td>New York</td>\n",
              "      <td>Queens County</td>\n",
              "      <td>36081.0</td>\n",
              "      <td>27435</td>\n",
              "      <td>3.813</td>\n",
              "      <td>99</td>\n",
              "    </tr>\n",
              "    <tr>\n",
              "      <th>260827</th>\n",
              "      <td>2020-03-03</td>\n",
              "      <td>US</td>\n",
              "      <td>2</td>\n",
              "      <td>New York</td>\n",
              "      <td>Queens County</td>\n",
              "      <td>36081.0</td>\n",
              "      <td>28459</td>\n",
              "      <td>3.747</td>\n",
              "      <td>98</td>\n",
              "    </tr>\n",
              "    <tr>\n",
              "      <th>260828</th>\n",
              "      <td>2020-03-04</td>\n",
              "      <td>US</td>\n",
              "      <td>2</td>\n",
              "      <td>New York</td>\n",
              "      <td>Queens County</td>\n",
              "      <td>36081.0</td>\n",
              "      <td>29480</td>\n",
              "      <td>3.822</td>\n",
              "      <td>99</td>\n",
              "    </tr>\n",
              "    <tr>\n",
              "      <th>260829</th>\n",
              "      <td>2020-03-05</td>\n",
              "      <td>US</td>\n",
              "      <td>2</td>\n",
              "      <td>New York</td>\n",
              "      <td>Queens County</td>\n",
              "      <td>36081.0</td>\n",
              "      <td>27602</td>\n",
              "      <td>4.052</td>\n",
              "      <td>106</td>\n",
              "    </tr>\n",
              "  </tbody>\n",
              "</table>\n",
              "</div>"
            ],
            "text/plain": [
              "              date country_code  admin_level  ... samples    m50  m50_index\n",
              "260825  2020-03-01           US            2  ...   26218  1.339         35\n",
              "260826  2020-03-02           US            2  ...   27435  3.813         99\n",
              "260827  2020-03-03           US            2  ...   28459  3.747         98\n",
              "260828  2020-03-04           US            2  ...   29480  3.822         99\n",
              "260829  2020-03-05           US            2  ...   27602  4.052        106\n",
              "\n",
              "[5 rows x 9 columns]"
            ]
          },
          "metadata": {
            "tags": []
          },
          "execution_count": 27
        }
      ]
    },
    {
      "cell_type": "markdown",
      "metadata": {
        "id": "VoGlA2H_zDyo",
        "colab_type": "text"
      },
      "source": [
        "# Load Data"
      ]
    },
    {
      "cell_type": "code",
      "metadata": {
        "id": "uVC4kAhWzMFC",
        "colab_type": "code",
        "colab": {
          "base_uri": "https://localhost:8080/",
          "height": 34
        },
        "outputId": "c837dbb3-1314-4745-f433-25d8d1a9f765"
      },
      "source": [
        "from google.colab import drive\n",
        "drive.mount('/content/drive')"
      ],
      "execution_count": 81,
      "outputs": [
        {
          "output_type": "stream",
          "text": [
            "Drive already mounted at /content/drive; to attempt to forcibly remount, call drive.mount(\"/content/drive\", force_remount=True).\n"
          ],
          "name": "stdout"
        }
      ]
    },
    {
      "cell_type": "code",
      "metadata": {
        "id": "iv4Q80_bzVl_",
        "colab_type": "code",
        "colab": {
          "base_uri": "https://localhost:8080/",
          "height": 34
        },
        "outputId": "ad471f56-1dfc-47f1-e586-7cbde6c622b1"
      },
      "source": [
        "!ls /content/drive/'Shared drives'/'CMPE 295- Master Project'/Covid19-data"
      ],
      "execution_count": 82,
      "outputs": [
        {
          "output_type": "stream",
          "text": [
            "CA_Covid-19.csv  NY_Covid-19.csv  Queens_county.csv\n"
          ],
          "name": "stdout"
        }
      ]
    },
    {
      "cell_type": "code",
      "metadata": {
        "id": "q5iAt96TzHII",
        "colab_type": "code",
        "colab": {
          "base_uri": "https://localhost:8080/",
          "height": 195
        },
        "outputId": "b4ac97eb-e174-4688-dcda-add83fa8e3d3"
      },
      "source": [
        "queens_covidcases = pd.read_csv('/content/drive/Shared drives/CMPE 295- Master Project/Covid19-data/Queens_county.csv', low_memory =False)\n",
        "queens_covidcases.tail()"
      ],
      "execution_count": 83,
      "outputs": [
        {
          "output_type": "execute_result",
          "data": {
            "text/html": [
              "<div>\n",
              "<style scoped>\n",
              "    .dataframe tbody tr th:only-of-type {\n",
              "        vertical-align: middle;\n",
              "    }\n",
              "\n",
              "    .dataframe tbody tr th {\n",
              "        vertical-align: top;\n",
              "    }\n",
              "\n",
              "    .dataframe thead th {\n",
              "        text-align: right;\n",
              "    }\n",
              "</style>\n",
              "<table border=\"1\" class=\"dataframe\">\n",
              "  <thead>\n",
              "    <tr style=\"text-align: right;\">\n",
              "      <th></th>\n",
              "      <th>Date</th>\n",
              "      <th>Province_State</th>\n",
              "      <th>FIPS</th>\n",
              "      <th>Confirmed</th>\n",
              "      <th>Deaths</th>\n",
              "      <th>New cases</th>\n",
              "      <th>New deaths</th>\n",
              "    </tr>\n",
              "  </thead>\n",
              "  <tbody>\n",
              "    <tr>\n",
              "      <th>201</th>\n",
              "      <td>8/5/20</td>\n",
              "      <td>New York</td>\n",
              "      <td>36081.0</td>\n",
              "      <td>0</td>\n",
              "      <td>0</td>\n",
              "      <td>636</td>\n",
              "      <td>29</td>\n",
              "    </tr>\n",
              "    <tr>\n",
              "      <th>202</th>\n",
              "      <td>8/6/20</td>\n",
              "      <td>New York</td>\n",
              "      <td>36081.0</td>\n",
              "      <td>0</td>\n",
              "      <td>0</td>\n",
              "      <td>703</td>\n",
              "      <td>2</td>\n",
              "    </tr>\n",
              "    <tr>\n",
              "      <th>203</th>\n",
              "      <td>8/7/20</td>\n",
              "      <td>New York</td>\n",
              "      <td>36081.0</td>\n",
              "      <td>0</td>\n",
              "      <td>0</td>\n",
              "      <td>714</td>\n",
              "      <td>4</td>\n",
              "    </tr>\n",
              "    <tr>\n",
              "      <th>204</th>\n",
              "      <td>8/8/20</td>\n",
              "      <td>New York</td>\n",
              "      <td>36081.0</td>\n",
              "      <td>0</td>\n",
              "      <td>0</td>\n",
              "      <td>703</td>\n",
              "      <td>8</td>\n",
              "    </tr>\n",
              "    <tr>\n",
              "      <th>205</th>\n",
              "      <td>8/9/20</td>\n",
              "      <td>New York</td>\n",
              "      <td>36081.0</td>\n",
              "      <td>0</td>\n",
              "      <td>0</td>\n",
              "      <td>515</td>\n",
              "      <td>6</td>\n",
              "    </tr>\n",
              "  </tbody>\n",
              "</table>\n",
              "</div>"
            ],
            "text/plain": [
              "       Date Province_State     FIPS  Confirmed  Deaths  New cases  New deaths\n",
              "201  8/5/20       New York  36081.0          0       0        636          29\n",
              "202  8/6/20       New York  36081.0          0       0        703           2\n",
              "203  8/7/20       New York  36081.0          0       0        714           4\n",
              "204  8/8/20       New York  36081.0          0       0        703           8\n",
              "205  8/9/20       New York  36081.0          0       0        515           6"
            ]
          },
          "metadata": {
            "tags": []
          },
          "execution_count": 83
        }
      ]
    },
    {
      "cell_type": "markdown",
      "metadata": {
        "id": "BjTZXInw1lDD",
        "colab_type": "text"
      },
      "source": [
        "## Fix Date"
      ]
    },
    {
      "cell_type": "code",
      "metadata": {
        "id": "o588srH92Bps",
        "colab_type": "code",
        "colab": {}
      },
      "source": [
        "def fixDate(x):\n",
        "  arr = x.split('/')\n",
        "  m = arr[0]\n",
        "  d = arr[1]\n",
        "  y = arr[2]\n",
        "\n",
        "  if int(m) < 10:\n",
        "    m = '0'+str(m)\n",
        "  if int(d) < 10:\n",
        "    d = '0'+str(d)\n",
        "  return '20'+y+'-'+m+'-'+d"
      ],
      "execution_count": 86,
      "outputs": []
    },
    {
      "cell_type": "code",
      "metadata": {
        "id": "YK1kLIBh1m5o",
        "colab_type": "code",
        "colab": {
          "base_uri": "https://localhost:8080/",
          "height": 402
        },
        "outputId": "fa510082-8305-4f4a-b1e4-66b5016f5f56"
      },
      "source": [
        "queens_covidcases['Date'] = queens_covidcases['Date'].apply(lambda x: fixDate(x))\n",
        "queens_covidcases.reset_index(drop=True)"
      ],
      "execution_count": 87,
      "outputs": [
        {
          "output_type": "execute_result",
          "data": {
            "text/html": [
              "<div>\n",
              "<style scoped>\n",
              "    .dataframe tbody tr th:only-of-type {\n",
              "        vertical-align: middle;\n",
              "    }\n",
              "\n",
              "    .dataframe tbody tr th {\n",
              "        vertical-align: top;\n",
              "    }\n",
              "\n",
              "    .dataframe thead th {\n",
              "        text-align: right;\n",
              "    }\n",
              "</style>\n",
              "<table border=\"1\" class=\"dataframe\">\n",
              "  <thead>\n",
              "    <tr style=\"text-align: right;\">\n",
              "      <th></th>\n",
              "      <th>Date</th>\n",
              "      <th>Province_State</th>\n",
              "      <th>FIPS</th>\n",
              "      <th>Confirmed</th>\n",
              "      <th>Deaths</th>\n",
              "      <th>New cases</th>\n",
              "      <th>New deaths</th>\n",
              "    </tr>\n",
              "  </thead>\n",
              "  <tbody>\n",
              "    <tr>\n",
              "      <th>0</th>\n",
              "      <td>2020-01-22</td>\n",
              "      <td>New York</td>\n",
              "      <td>36081.0</td>\n",
              "      <td>0</td>\n",
              "      <td>0</td>\n",
              "      <td>0</td>\n",
              "      <td>0</td>\n",
              "    </tr>\n",
              "    <tr>\n",
              "      <th>1</th>\n",
              "      <td>2020-01-23</td>\n",
              "      <td>New York</td>\n",
              "      <td>36081.0</td>\n",
              "      <td>0</td>\n",
              "      <td>0</td>\n",
              "      <td>0</td>\n",
              "      <td>0</td>\n",
              "    </tr>\n",
              "    <tr>\n",
              "      <th>2</th>\n",
              "      <td>2020-01-24</td>\n",
              "      <td>New York</td>\n",
              "      <td>36081.0</td>\n",
              "      <td>0</td>\n",
              "      <td>0</td>\n",
              "      <td>0</td>\n",
              "      <td>0</td>\n",
              "    </tr>\n",
              "    <tr>\n",
              "      <th>3</th>\n",
              "      <td>2020-01-25</td>\n",
              "      <td>New York</td>\n",
              "      <td>36081.0</td>\n",
              "      <td>0</td>\n",
              "      <td>0</td>\n",
              "      <td>0</td>\n",
              "      <td>0</td>\n",
              "    </tr>\n",
              "    <tr>\n",
              "      <th>4</th>\n",
              "      <td>2020-01-26</td>\n",
              "      <td>New York</td>\n",
              "      <td>36081.0</td>\n",
              "      <td>0</td>\n",
              "      <td>0</td>\n",
              "      <td>0</td>\n",
              "      <td>0</td>\n",
              "    </tr>\n",
              "    <tr>\n",
              "      <th>...</th>\n",
              "      <td>...</td>\n",
              "      <td>...</td>\n",
              "      <td>...</td>\n",
              "      <td>...</td>\n",
              "      <td>...</td>\n",
              "      <td>...</td>\n",
              "      <td>...</td>\n",
              "    </tr>\n",
              "    <tr>\n",
              "      <th>201</th>\n",
              "      <td>2020-08-05</td>\n",
              "      <td>New York</td>\n",
              "      <td>36081.0</td>\n",
              "      <td>0</td>\n",
              "      <td>0</td>\n",
              "      <td>636</td>\n",
              "      <td>29</td>\n",
              "    </tr>\n",
              "    <tr>\n",
              "      <th>202</th>\n",
              "      <td>2020-08-06</td>\n",
              "      <td>New York</td>\n",
              "      <td>36081.0</td>\n",
              "      <td>0</td>\n",
              "      <td>0</td>\n",
              "      <td>703</td>\n",
              "      <td>2</td>\n",
              "    </tr>\n",
              "    <tr>\n",
              "      <th>203</th>\n",
              "      <td>2020-08-07</td>\n",
              "      <td>New York</td>\n",
              "      <td>36081.0</td>\n",
              "      <td>0</td>\n",
              "      <td>0</td>\n",
              "      <td>714</td>\n",
              "      <td>4</td>\n",
              "    </tr>\n",
              "    <tr>\n",
              "      <th>204</th>\n",
              "      <td>2020-08-08</td>\n",
              "      <td>New York</td>\n",
              "      <td>36081.0</td>\n",
              "      <td>0</td>\n",
              "      <td>0</td>\n",
              "      <td>703</td>\n",
              "      <td>8</td>\n",
              "    </tr>\n",
              "    <tr>\n",
              "      <th>205</th>\n",
              "      <td>2020-08-09</td>\n",
              "      <td>New York</td>\n",
              "      <td>36081.0</td>\n",
              "      <td>0</td>\n",
              "      <td>0</td>\n",
              "      <td>515</td>\n",
              "      <td>6</td>\n",
              "    </tr>\n",
              "  </tbody>\n",
              "</table>\n",
              "<p>206 rows × 7 columns</p>\n",
              "</div>"
            ],
            "text/plain": [
              "           Date Province_State     FIPS  ...  Deaths  New cases  New deaths\n",
              "0    2020-01-22       New York  36081.0  ...       0          0           0\n",
              "1    2020-01-23       New York  36081.0  ...       0          0           0\n",
              "2    2020-01-24       New York  36081.0  ...       0          0           0\n",
              "3    2020-01-25       New York  36081.0  ...       0          0           0\n",
              "4    2020-01-26       New York  36081.0  ...       0          0           0\n",
              "..          ...            ...      ...  ...     ...        ...         ...\n",
              "201  2020-08-05       New York  36081.0  ...       0        636          29\n",
              "202  2020-08-06       New York  36081.0  ...       0        703           2\n",
              "203  2020-08-07       New York  36081.0  ...       0        714           4\n",
              "204  2020-08-08       New York  36081.0  ...       0        703           8\n",
              "205  2020-08-09       New York  36081.0  ...       0        515           6\n",
              "\n",
              "[206 rows x 7 columns]"
            ]
          },
          "metadata": {
            "tags": []
          },
          "execution_count": 87
        }
      ]
    },
    {
      "cell_type": "markdown",
      "metadata": {
        "id": "cWlc5fLE6MtJ",
        "colab_type": "text"
      },
      "source": [
        "# Formula Computation from Baseline Value"
      ]
    },
    {
      "cell_type": "markdown",
      "metadata": {
        "id": "yOl124UA9qsR",
        "colab_type": "text"
      },
      "source": [
        "## For Social Distancing Metric"
      ]
    },
    {
      "cell_type": "code",
      "metadata": {
        "id": "kLTlhNgL_n4v",
        "colab_type": "code",
        "colab": {}
      },
      "source": [
        "start_date = '2020-05-05'\n",
        "end_date = '2020-05-13'\n",
        "#start_date = '2020-02-17'\n",
        "#end_date = '2020-03-07'\n",
        "mask = (queens_social_distancing['date'] >= start_date) & (queens_social_distancing['date'] <= end_date)"
      ],
      "execution_count": 64,
      "outputs": []
    },
    {
      "cell_type": "code",
      "metadata": {
        "id": "yjnV-NbQ9p21",
        "colab_type": "code",
        "colab": {
          "base_uri": "https://localhost:8080/",
          "height": 314
        },
        "outputId": "5768aa02-fd72-4827-b821-daa405b5b072"
      },
      "source": [
        "df_queens_social_distancing =  queens_social_distancing.loc[mask]\n",
        "df_queens_social_distancing"
      ],
      "execution_count": 65,
      "outputs": [
        {
          "output_type": "execute_result",
          "data": {
            "text/html": [
              "<div>\n",
              "<style scoped>\n",
              "    .dataframe tbody tr th:only-of-type {\n",
              "        vertical-align: middle;\n",
              "    }\n",
              "\n",
              "    .dataframe tbody tr th {\n",
              "        vertical-align: top;\n",
              "    }\n",
              "\n",
              "    .dataframe thead th {\n",
              "        text-align: right;\n",
              "    }\n",
              "</style>\n",
              "<table border=\"1\" class=\"dataframe\">\n",
              "  <thead>\n",
              "    <tr style=\"text-align: right;\">\n",
              "      <th></th>\n",
              "      <th>date</th>\n",
              "      <th>country_code</th>\n",
              "      <th>admin_level</th>\n",
              "      <th>admin1</th>\n",
              "      <th>admin2</th>\n",
              "      <th>fips</th>\n",
              "      <th>samples</th>\n",
              "      <th>m50</th>\n",
              "      <th>m50_index</th>\n",
              "      <th>rolling_average</th>\n",
              "    </tr>\n",
              "  </thead>\n",
              "  <tbody>\n",
              "    <tr>\n",
              "      <th>260889</th>\n",
              "      <td>2020-05-05</td>\n",
              "      <td>US</td>\n",
              "      <td>2</td>\n",
              "      <td>New York</td>\n",
              "      <td>Queens County</td>\n",
              "      <td>36081.0</td>\n",
              "      <td>26633</td>\n",
              "      <td>0.021</td>\n",
              "      <td>0</td>\n",
              "      <td>0.0</td>\n",
              "    </tr>\n",
              "    <tr>\n",
              "      <th>260890</th>\n",
              "      <td>2020-05-06</td>\n",
              "      <td>US</td>\n",
              "      <td>2</td>\n",
              "      <td>New York</td>\n",
              "      <td>Queens County</td>\n",
              "      <td>36081.0</td>\n",
              "      <td>27819</td>\n",
              "      <td>0.020</td>\n",
              "      <td>0</td>\n",
              "      <td>0.0</td>\n",
              "    </tr>\n",
              "    <tr>\n",
              "      <th>260891</th>\n",
              "      <td>2020-05-07</td>\n",
              "      <td>US</td>\n",
              "      <td>2</td>\n",
              "      <td>New York</td>\n",
              "      <td>Queens County</td>\n",
              "      <td>36081.0</td>\n",
              "      <td>29651</td>\n",
              "      <td>0.022</td>\n",
              "      <td>0</td>\n",
              "      <td>0.0</td>\n",
              "    </tr>\n",
              "    <tr>\n",
              "      <th>260892</th>\n",
              "      <td>2020-05-08</td>\n",
              "      <td>US</td>\n",
              "      <td>2</td>\n",
              "      <td>New York</td>\n",
              "      <td>Queens County</td>\n",
              "      <td>36081.0</td>\n",
              "      <td>27390</td>\n",
              "      <td>0.019</td>\n",
              "      <td>0</td>\n",
              "      <td>0.0</td>\n",
              "    </tr>\n",
              "    <tr>\n",
              "      <th>260893</th>\n",
              "      <td>2020-05-09</td>\n",
              "      <td>US</td>\n",
              "      <td>2</td>\n",
              "      <td>New York</td>\n",
              "      <td>Queens County</td>\n",
              "      <td>36081.0</td>\n",
              "      <td>27340</td>\n",
              "      <td>0.017</td>\n",
              "      <td>0</td>\n",
              "      <td>0.0</td>\n",
              "    </tr>\n",
              "    <tr>\n",
              "      <th>260894</th>\n",
              "      <td>2020-05-10</td>\n",
              "      <td>US</td>\n",
              "      <td>2</td>\n",
              "      <td>New York</td>\n",
              "      <td>Queens County</td>\n",
              "      <td>36081.0</td>\n",
              "      <td>27660</td>\n",
              "      <td>0.017</td>\n",
              "      <td>0</td>\n",
              "      <td>0.0</td>\n",
              "    </tr>\n",
              "    <tr>\n",
              "      <th>260895</th>\n",
              "      <td>2020-05-11</td>\n",
              "      <td>US</td>\n",
              "      <td>2</td>\n",
              "      <td>New York</td>\n",
              "      <td>Queens County</td>\n",
              "      <td>36081.0</td>\n",
              "      <td>27697</td>\n",
              "      <td>0.017</td>\n",
              "      <td>0</td>\n",
              "      <td>0.0</td>\n",
              "    </tr>\n",
              "    <tr>\n",
              "      <th>260896</th>\n",
              "      <td>2020-05-12</td>\n",
              "      <td>US</td>\n",
              "      <td>2</td>\n",
              "      <td>New York</td>\n",
              "      <td>Queens County</td>\n",
              "      <td>36081.0</td>\n",
              "      <td>29950</td>\n",
              "      <td>0.021</td>\n",
              "      <td>0</td>\n",
              "      <td>0.0</td>\n",
              "    </tr>\n",
              "    <tr>\n",
              "      <th>260897</th>\n",
              "      <td>2020-05-13</td>\n",
              "      <td>US</td>\n",
              "      <td>2</td>\n",
              "      <td>New York</td>\n",
              "      <td>Queens County</td>\n",
              "      <td>36081.0</td>\n",
              "      <td>28052</td>\n",
              "      <td>0.020</td>\n",
              "      <td>0</td>\n",
              "      <td>0.0</td>\n",
              "    </tr>\n",
              "  </tbody>\n",
              "</table>\n",
              "</div>"
            ],
            "text/plain": [
              "              date country_code  admin_level  ...    m50 m50_index  rolling_average\n",
              "260889  2020-05-05           US            2  ...  0.021         0              0.0\n",
              "260890  2020-05-06           US            2  ...  0.020         0              0.0\n",
              "260891  2020-05-07           US            2  ...  0.022         0              0.0\n",
              "260892  2020-05-08           US            2  ...  0.019         0              0.0\n",
              "260893  2020-05-09           US            2  ...  0.017         0              0.0\n",
              "260894  2020-05-10           US            2  ...  0.017         0              0.0\n",
              "260895  2020-05-11           US            2  ...  0.017         0              0.0\n",
              "260896  2020-05-12           US            2  ...  0.021         0              0.0\n",
              "260897  2020-05-13           US            2  ...  0.020         0              0.0\n",
              "\n",
              "[9 rows x 10 columns]"
            ]
          },
          "metadata": {
            "tags": []
          },
          "execution_count": 65
        }
      ]
    },
    {
      "cell_type": "code",
      "metadata": {
        "id": "JxsRz9b7HVPL",
        "colab_type": "code",
        "colab": {
          "base_uri": "https://localhost:8080/",
          "height": 77
        },
        "outputId": "9ea30550-275f-4da7-c5d4-7160016c2d45"
      },
      "source": [
        "queens_social_distancing_base = (\n",
        "    df_queens_social_distancing\n",
        "    .pipe(lambda x: x.assign(gains_pctg=x[\"m50\"]))\n",
        "    .groupby(['admin1','admin2','fips'])\n",
        "    .agg({\"gains_pctg\": \"median\"})\n",
        "    .reset_index()\n",
        "    .rename(columns={\"gains_pctg\": \"m50\"})\n",
        ")\n",
        "queens_social_distancing_base"
      ],
      "execution_count": 66,
      "outputs": [
        {
          "output_type": "execute_result",
          "data": {
            "text/html": [
              "<div>\n",
              "<style scoped>\n",
              "    .dataframe tbody tr th:only-of-type {\n",
              "        vertical-align: middle;\n",
              "    }\n",
              "\n",
              "    .dataframe tbody tr th {\n",
              "        vertical-align: top;\n",
              "    }\n",
              "\n",
              "    .dataframe thead th {\n",
              "        text-align: right;\n",
              "    }\n",
              "</style>\n",
              "<table border=\"1\" class=\"dataframe\">\n",
              "  <thead>\n",
              "    <tr style=\"text-align: right;\">\n",
              "      <th></th>\n",
              "      <th>admin1</th>\n",
              "      <th>admin2</th>\n",
              "      <th>fips</th>\n",
              "      <th>m50</th>\n",
              "    </tr>\n",
              "  </thead>\n",
              "  <tbody>\n",
              "    <tr>\n",
              "      <th>0</th>\n",
              "      <td>New York</td>\n",
              "      <td>Queens County</td>\n",
              "      <td>36081.0</td>\n",
              "      <td>0.02</td>\n",
              "    </tr>\n",
              "  </tbody>\n",
              "</table>\n",
              "</div>"
            ],
            "text/plain": [
              "     admin1         admin2     fips   m50\n",
              "0  New York  Queens County  36081.0  0.02"
            ]
          },
          "metadata": {
            "tags": []
          },
          "execution_count": 66
        }
      ]
    },
    {
      "cell_type": "code",
      "metadata": {
        "id": "hK5cNe0QNycD",
        "colab_type": "code",
        "colab": {
          "base_uri": "https://localhost:8080/",
          "height": 34
        },
        "outputId": "a3921a44-83a9-4033-9b29-08e0c5f34efd"
      },
      "source": [
        "queens_social_distancing_base.at[0,'m50']"
      ],
      "execution_count": 67,
      "outputs": [
        {
          "output_type": "execute_result",
          "data": {
            "text/plain": [
              "0.02"
            ]
          },
          "metadata": {
            "tags": []
          },
          "execution_count": 67
        }
      ]
    },
    {
      "cell_type": "markdown",
      "metadata": {
        "id": "I_fwHD0dN9Ib",
        "colab_type": "text"
      },
      "source": [
        "computing formula : m50_baseline = 100 * m50/queens_social_distancing_base.at[0,'m50']"
      ]
    },
    {
      "cell_type": "code",
      "metadata": {
        "id": "eyhpyF3pNaLs",
        "colab_type": "code",
        "colab": {}
      },
      "source": [
        "socialdistancing_data['m50_baseline'] = socialdistancing_data['m50'].apply(lambda x: 100 * (x/queens_social_distancing_base.at[0,'m50']))\n"
      ],
      "execution_count": 68,
      "outputs": []
    },
    {
      "cell_type": "code",
      "metadata": {
        "id": "5AX9IVzKPAl3",
        "colab_type": "code",
        "colab": {
          "base_uri": "https://localhost:8080/",
          "height": 402
        },
        "outputId": "839a1780-9bba-48b5-ab12-bbe7604bd3b2"
      },
      "source": [
        "socialdistancing_data[socialdistancing_data['admin1'] == 'California']"
      ],
      "execution_count": 69,
      "outputs": [
        {
          "output_type": "execute_result",
          "data": {
            "text/html": [
              "<div>\n",
              "<style scoped>\n",
              "    .dataframe tbody tr th:only-of-type {\n",
              "        vertical-align: middle;\n",
              "    }\n",
              "\n",
              "    .dataframe tbody tr th {\n",
              "        vertical-align: top;\n",
              "    }\n",
              "\n",
              "    .dataframe thead th {\n",
              "        text-align: right;\n",
              "    }\n",
              "</style>\n",
              "<table border=\"1\" class=\"dataframe\">\n",
              "  <thead>\n",
              "    <tr style=\"text-align: right;\">\n",
              "      <th></th>\n",
              "      <th>date</th>\n",
              "      <th>country_code</th>\n",
              "      <th>admin_level</th>\n",
              "      <th>admin1</th>\n",
              "      <th>admin2</th>\n",
              "      <th>fips</th>\n",
              "      <th>samples</th>\n",
              "      <th>m50</th>\n",
              "      <th>m50_index</th>\n",
              "      <th>m50_baseline</th>\n",
              "    </tr>\n",
              "  </thead>\n",
              "  <tbody>\n",
              "    <tr>\n",
              "      <th>26590</th>\n",
              "      <td>2020-03-01</td>\n",
              "      <td>US</td>\n",
              "      <td>1</td>\n",
              "      <td>California</td>\n",
              "      <td>NaN</td>\n",
              "      <td>6.0</td>\n",
              "      <td>451282</td>\n",
              "      <td>4.122</td>\n",
              "      <td>60</td>\n",
              "      <td>20610.0</td>\n",
              "    </tr>\n",
              "    <tr>\n",
              "      <th>26591</th>\n",
              "      <td>2020-03-02</td>\n",
              "      <td>US</td>\n",
              "      <td>1</td>\n",
              "      <td>California</td>\n",
              "      <td>NaN</td>\n",
              "      <td>6.0</td>\n",
              "      <td>457175</td>\n",
              "      <td>6.725</td>\n",
              "      <td>98</td>\n",
              "      <td>33625.0</td>\n",
              "    </tr>\n",
              "    <tr>\n",
              "      <th>26592</th>\n",
              "      <td>2020-03-03</td>\n",
              "      <td>US</td>\n",
              "      <td>1</td>\n",
              "      <td>California</td>\n",
              "      <td>NaN</td>\n",
              "      <td>6.0</td>\n",
              "      <td>472598</td>\n",
              "      <td>6.842</td>\n",
              "      <td>100</td>\n",
              "      <td>34210.0</td>\n",
              "    </tr>\n",
              "    <tr>\n",
              "      <th>26593</th>\n",
              "      <td>2020-03-04</td>\n",
              "      <td>US</td>\n",
              "      <td>1</td>\n",
              "      <td>California</td>\n",
              "      <td>NaN</td>\n",
              "      <td>6.0</td>\n",
              "      <td>481255</td>\n",
              "      <td>6.827</td>\n",
              "      <td>99</td>\n",
              "      <td>34135.0</td>\n",
              "    </tr>\n",
              "    <tr>\n",
              "      <th>26594</th>\n",
              "      <td>2020-03-05</td>\n",
              "      <td>US</td>\n",
              "      <td>1</td>\n",
              "      <td>California</td>\n",
              "      <td>NaN</td>\n",
              "      <td>6.0</td>\n",
              "      <td>458159</td>\n",
              "      <td>7.270</td>\n",
              "      <td>106</td>\n",
              "      <td>36350.0</td>\n",
              "    </tr>\n",
              "    <tr>\n",
              "      <th>...</th>\n",
              "      <td>...</td>\n",
              "      <td>...</td>\n",
              "      <td>...</td>\n",
              "      <td>...</td>\n",
              "      <td>...</td>\n",
              "      <td>...</td>\n",
              "      <td>...</td>\n",
              "      <td>...</td>\n",
              "      <td>...</td>\n",
              "      <td>...</td>\n",
              "    </tr>\n",
              "    <tr>\n",
              "      <th>35425</th>\n",
              "      <td>2020-08-07</td>\n",
              "      <td>US</td>\n",
              "      <td>2</td>\n",
              "      <td>California</td>\n",
              "      <td>Yuba County</td>\n",
              "      <td>6115.0</td>\n",
              "      <td>1260</td>\n",
              "      <td>5.792</td>\n",
              "      <td>61</td>\n",
              "      <td>28960.0</td>\n",
              "    </tr>\n",
              "    <tr>\n",
              "      <th>35426</th>\n",
              "      <td>2020-08-08</td>\n",
              "      <td>US</td>\n",
              "      <td>2</td>\n",
              "      <td>California</td>\n",
              "      <td>Yuba County</td>\n",
              "      <td>6115.0</td>\n",
              "      <td>1183</td>\n",
              "      <td>3.720</td>\n",
              "      <td>39</td>\n",
              "      <td>18600.0</td>\n",
              "    </tr>\n",
              "    <tr>\n",
              "      <th>35427</th>\n",
              "      <td>2020-08-09</td>\n",
              "      <td>US</td>\n",
              "      <td>2</td>\n",
              "      <td>California</td>\n",
              "      <td>Yuba County</td>\n",
              "      <td>6115.0</td>\n",
              "      <td>1231</td>\n",
              "      <td>1.465</td>\n",
              "      <td>15</td>\n",
              "      <td>7325.0</td>\n",
              "    </tr>\n",
              "    <tr>\n",
              "      <th>35428</th>\n",
              "      <td>2020-08-10</td>\n",
              "      <td>US</td>\n",
              "      <td>2</td>\n",
              "      <td>California</td>\n",
              "      <td>Yuba County</td>\n",
              "      <td>6115.0</td>\n",
              "      <td>1297</td>\n",
              "      <td>4.869</td>\n",
              "      <td>51</td>\n",
              "      <td>24345.0</td>\n",
              "    </tr>\n",
              "    <tr>\n",
              "      <th>35429</th>\n",
              "      <td>2020-08-11</td>\n",
              "      <td>US</td>\n",
              "      <td>2</td>\n",
              "      <td>California</td>\n",
              "      <td>Yuba County</td>\n",
              "      <td>6115.0</td>\n",
              "      <td>1315</td>\n",
              "      <td>5.174</td>\n",
              "      <td>54</td>\n",
              "      <td>25870.0</td>\n",
              "    </tr>\n",
              "  </tbody>\n",
              "</table>\n",
              "<p>8840 rows × 10 columns</p>\n",
              "</div>"
            ],
            "text/plain": [
              "             date country_code  admin_level  ...    m50 m50_index  m50_baseline\n",
              "26590  2020-03-01           US            1  ...  4.122        60       20610.0\n",
              "26591  2020-03-02           US            1  ...  6.725        98       33625.0\n",
              "26592  2020-03-03           US            1  ...  6.842       100       34210.0\n",
              "26593  2020-03-04           US            1  ...  6.827        99       34135.0\n",
              "26594  2020-03-05           US            1  ...  7.270       106       36350.0\n",
              "...           ...          ...          ...  ...    ...       ...           ...\n",
              "35425  2020-08-07           US            2  ...  5.792        61       28960.0\n",
              "35426  2020-08-08           US            2  ...  3.720        39       18600.0\n",
              "35427  2020-08-09           US            2  ...  1.465        15        7325.0\n",
              "35428  2020-08-10           US            2  ...  4.869        51       24345.0\n",
              "35429  2020-08-11           US            2  ...  5.174        54       25870.0\n",
              "\n",
              "[8840 rows x 10 columns]"
            ]
          },
          "metadata": {
            "tags": []
          },
          "execution_count": 69
        }
      ]
    },
    {
      "cell_type": "markdown",
      "metadata": {
        "id": "xnChmkatzLCU",
        "colab_type": "text"
      },
      "source": [
        "# Rolling Average"
      ]
    },
    {
      "cell_type": "code",
      "metadata": {
        "id": "2O5o2HP3xGPt",
        "colab_type": "code",
        "colab": {
          "base_uri": "https://localhost:8080/",
          "height": 136
        },
        "outputId": "a6adfa3f-156c-4bdb-852f-b8beeeb85421"
      },
      "source": [
        "queens_social_distancing = newyork_socialdistancing_data[newyork_socialdistancing_data['admin2'] == 'Queens County']\n",
        "queens_social_distancing.head(3)"
      ],
      "execution_count": 51,
      "outputs": [
        {
          "output_type": "execute_result",
          "data": {
            "text/html": [
              "<div>\n",
              "<style scoped>\n",
              "    .dataframe tbody tr th:only-of-type {\n",
              "        vertical-align: middle;\n",
              "    }\n",
              "\n",
              "    .dataframe tbody tr th {\n",
              "        vertical-align: top;\n",
              "    }\n",
              "\n",
              "    .dataframe thead th {\n",
              "        text-align: right;\n",
              "    }\n",
              "</style>\n",
              "<table border=\"1\" class=\"dataframe\">\n",
              "  <thead>\n",
              "    <tr style=\"text-align: right;\">\n",
              "      <th></th>\n",
              "      <th>date</th>\n",
              "      <th>country_code</th>\n",
              "      <th>admin_level</th>\n",
              "      <th>admin1</th>\n",
              "      <th>admin2</th>\n",
              "      <th>fips</th>\n",
              "      <th>samples</th>\n",
              "      <th>m50</th>\n",
              "      <th>m50_index</th>\n",
              "    </tr>\n",
              "  </thead>\n",
              "  <tbody>\n",
              "    <tr>\n",
              "      <th>260825</th>\n",
              "      <td>2020-03-01</td>\n",
              "      <td>US</td>\n",
              "      <td>2</td>\n",
              "      <td>New York</td>\n",
              "      <td>Queens County</td>\n",
              "      <td>36081.0</td>\n",
              "      <td>26218</td>\n",
              "      <td>1.339</td>\n",
              "      <td>35</td>\n",
              "    </tr>\n",
              "    <tr>\n",
              "      <th>260826</th>\n",
              "      <td>2020-03-02</td>\n",
              "      <td>US</td>\n",
              "      <td>2</td>\n",
              "      <td>New York</td>\n",
              "      <td>Queens County</td>\n",
              "      <td>36081.0</td>\n",
              "      <td>27435</td>\n",
              "      <td>3.813</td>\n",
              "      <td>99</td>\n",
              "    </tr>\n",
              "    <tr>\n",
              "      <th>260827</th>\n",
              "      <td>2020-03-03</td>\n",
              "      <td>US</td>\n",
              "      <td>2</td>\n",
              "      <td>New York</td>\n",
              "      <td>Queens County</td>\n",
              "      <td>36081.0</td>\n",
              "      <td>28459</td>\n",
              "      <td>3.747</td>\n",
              "      <td>98</td>\n",
              "    </tr>\n",
              "  </tbody>\n",
              "</table>\n",
              "</div>"
            ],
            "text/plain": [
              "              date country_code  admin_level  ... samples    m50  m50_index\n",
              "260825  2020-03-01           US            2  ...   26218  1.339         35\n",
              "260826  2020-03-02           US            2  ...   27435  3.813         99\n",
              "260827  2020-03-03           US            2  ...   28459  3.747         98\n",
              "\n",
              "[3 rows x 9 columns]"
            ]
          },
          "metadata": {
            "tags": []
          },
          "execution_count": 51
        }
      ]
    },
    {
      "cell_type": "code",
      "metadata": {
        "id": "aOYjSgRHvXTp",
        "colab_type": "code",
        "colab": {
          "base_uri": "https://localhost:8080/",
          "height": 218
        },
        "outputId": "532879c7-d472-41af-c607-0d2c06fc6138"
      },
      "source": [
        "queens_social_distancing.iloc[:,8]"
      ],
      "execution_count": 55,
      "outputs": [
        {
          "output_type": "execute_result",
          "data": {
            "text/plain": [
              "260825     35\n",
              "260826     99\n",
              "260827     98\n",
              "260828     99\n",
              "260829    106\n",
              "         ... \n",
              "260982     22\n",
              "260983     18\n",
              "260984      5\n",
              "260985     21\n",
              "260986     22\n",
              "Name: m50_index, Length: 162, dtype: int64"
            ]
          },
          "metadata": {
            "tags": []
          },
          "execution_count": 55
        }
      ]
    },
    {
      "cell_type": "code",
      "metadata": {
        "id": "tFsKoYV0q5C2",
        "colab_type": "code",
        "colab": {}
      },
      "source": [
        "import pandas as pd\n",
        "import altair as alt\n",
        "\n",
        "base_queens = alt.Chart(queens_social_distancing).mark_bar().encode(\n",
        "    x='monthdate(date):O',\n",
        ").properties(\n",
        "    width=500\n",
        ")"
      ],
      "execution_count": 56,
      "outputs": []
    },
    {
      "cell_type": "code",
      "metadata": {
        "id": "tqU7apTow2AH",
        "colab_type": "code",
        "colab": {
          "base_uri": "https://localhost:8080/",
          "height": 408
        },
        "outputId": "0b5f3525-4f06-49a3-805f-ea13d0ea897a"
      },
      "source": [
        "base_queens.encode(y=\"m50_index\").properties(title='Queens County Social Distancing Mteric(m50_index)')"
      ],
      "execution_count": 57,
      "outputs": [
        {
          "output_type": "execute_result",
          "data": {
            "text/plain": [
              "alt.Chart(...)"
            ],
            "text/html": [
              "\n",
              "<div id=\"altair-viz-4c9e060d983241ae8515470a68ca89fa\"></div>\n",
              "<script type=\"text/javascript\">\n",
              "  (function(spec, embedOpt){\n",
              "    let outputDiv = document.currentScript.previousElementSibling;\n",
              "    if (outputDiv.id !== \"altair-viz-4c9e060d983241ae8515470a68ca89fa\") {\n",
              "      outputDiv = document.getElementById(\"altair-viz-4c9e060d983241ae8515470a68ca89fa\");\n",
              "    }\n",
              "    const paths = {\n",
              "      \"vega\": \"https://cdn.jsdelivr.net/npm//vega@5?noext\",\n",
              "      \"vega-lib\": \"https://cdn.jsdelivr.net/npm//vega-lib?noext\",\n",
              "      \"vega-lite\": \"https://cdn.jsdelivr.net/npm//vega-lite@4.8.1?noext\",\n",
              "      \"vega-embed\": \"https://cdn.jsdelivr.net/npm//vega-embed@6?noext\",\n",
              "    };\n",
              "\n",
              "    function loadScript(lib) {\n",
              "      return new Promise(function(resolve, reject) {\n",
              "        var s = document.createElement('script');\n",
              "        s.src = paths[lib];\n",
              "        s.async = true;\n",
              "        s.onload = () => resolve(paths[lib]);\n",
              "        s.onerror = () => reject(`Error loading script: ${paths[lib]}`);\n",
              "        document.getElementsByTagName(\"head\")[0].appendChild(s);\n",
              "      });\n",
              "    }\n",
              "\n",
              "    function showError(err) {\n",
              "      outputDiv.innerHTML = `<div class=\"error\" style=\"color:red;\">${err}</div>`;\n",
              "      throw err;\n",
              "    }\n",
              "\n",
              "    function displayChart(vegaEmbed) {\n",
              "      vegaEmbed(outputDiv, spec, embedOpt)\n",
              "        .catch(err => showError(`Javascript Error: ${err.message}<br>This usually means there's a typo in your chart specification. See the javascript console for the full traceback.`));\n",
              "    }\n",
              "\n",
              "    if(typeof define === \"function\" && define.amd) {\n",
              "      requirejs.config({paths});\n",
              "      require([\"vega-embed\"], displayChart, err => showError(`Error loading script: ${err.message}`));\n",
              "    } else if (typeof vegaEmbed === \"function\") {\n",
              "      displayChart(vegaEmbed);\n",
              "    } else {\n",
              "      loadScript(\"vega\")\n",
              "        .then(() => loadScript(\"vega-lite\"))\n",
              "        .then(() => loadScript(\"vega-embed\"))\n",
              "        .catch(showError)\n",
              "        .then(() => displayChart(vegaEmbed));\n",
              "    }\n",
              "  })({\"config\": {\"view\": {\"continuousWidth\": 400, \"continuousHeight\": 300}}, \"data\": {\"name\": \"data-1a91c0f1c3a4a7e21d5aa904a12e2652\"}, \"mark\": \"bar\", \"encoding\": {\"x\": {\"type\": \"ordinal\", \"field\": \"date\", \"timeUnit\": \"monthdate\"}, \"y\": {\"type\": \"quantitative\", \"field\": \"m50_index\"}}, \"title\": \"Queens County Social Distancing Mteric(m50_index)\", \"width\": 500, \"$schema\": \"https://vega.github.io/schema/vega-lite/v4.8.1.json\", \"datasets\": {\"data-1a91c0f1c3a4a7e21d5aa904a12e2652\": [{\"date\": \"2020-03-01\", \"country_code\": \"US\", \"admin_level\": 2, \"admin1\": \"New York\", \"admin2\": \"Queens County\", \"fips\": 36081.0, \"samples\": 26218, \"m50\": 1.339, \"m50_index\": 35, \"rolling_average\": null}, {\"date\": \"2020-03-02\", \"country_code\": \"US\", \"admin_level\": 2, \"admin1\": \"New York\", \"admin2\": \"Queens County\", \"fips\": 36081.0, \"samples\": 27435, \"m50\": 3.813, \"m50_index\": 99, \"rolling_average\": null}, {\"date\": \"2020-03-03\", \"country_code\": \"US\", \"admin_level\": 2, \"admin1\": \"New York\", \"admin2\": \"Queens County\", \"fips\": 36081.0, \"samples\": 28459, \"m50\": 3.747, \"m50_index\": 98, \"rolling_average\": null}, {\"date\": \"2020-03-04\", \"country_code\": \"US\", \"admin_level\": 2, \"admin1\": \"New York\", \"admin2\": \"Queens County\", \"fips\": 36081.0, \"samples\": 29480, \"m50\": 3.822, \"m50_index\": 99, \"rolling_average\": null}, {\"date\": \"2020-03-05\", \"country_code\": \"US\", \"admin_level\": 2, \"admin1\": \"New York\", \"admin2\": \"Queens County\", \"fips\": 36081.0, \"samples\": 27602, \"m50\": 4.052, \"m50_index\": 106, \"rolling_average\": null}, {\"date\": \"2020-03-06\", \"country_code\": \"US\", \"admin_level\": 2, \"admin1\": \"New York\", \"admin2\": \"Queens County\", \"fips\": 36081.0, \"samples\": 27713, \"m50\": 3.9210000000000003, \"m50_index\": 102, \"rolling_average\": null}, {\"date\": \"2020-03-07\", \"country_code\": \"US\", \"admin_level\": 2, \"admin1\": \"New York\", \"admin2\": \"Queens County\", \"fips\": 36081.0, \"samples\": 27919, \"m50\": 2.189, \"m50_index\": 57, \"rolling_average\": 3.2689999999999997}, {\"date\": \"2020-03-08\", \"country_code\": \"US\", \"admin_level\": 2, \"admin1\": \"New York\", \"admin2\": \"Queens County\", \"fips\": 36081.0, \"samples\": 29098, \"m50\": 1.172, \"m50_index\": 30, \"rolling_average\": 3.245142857142857}, {\"date\": \"2020-03-09\", \"country_code\": \"US\", \"admin_level\": 2, \"admin1\": \"New York\", \"admin2\": \"Queens County\", \"fips\": 36081.0, \"samples\": 29449, \"m50\": 3.528, \"m50_index\": 92, \"rolling_average\": 3.2044285714285716}, {\"date\": \"2020-03-10\", \"country_code\": \"US\", \"admin_level\": 2, \"admin1\": \"New York\", \"admin2\": \"Queens County\", \"fips\": 36081.0, \"samples\": 28607, \"m50\": 3.375, \"m50_index\": 88, \"rolling_average\": 3.1512857142857142}, {\"date\": \"2020-03-11\", \"country_code\": \"US\", \"admin_level\": 2, \"admin1\": \"New York\", \"admin2\": \"Queens County\", \"fips\": 36081.0, \"samples\": 28585, \"m50\": 3.495, \"m50_index\": 91, \"rolling_average\": 3.104571428571429}, {\"date\": \"2020-03-12\", \"country_code\": \"US\", \"admin_level\": 2, \"admin1\": \"New York\", \"admin2\": \"Queens County\", \"fips\": 36081.0, \"samples\": 28488, \"m50\": 3.193, \"m50_index\": 83, \"rolling_average\": 2.9818571428571436}, {\"date\": \"2020-03-13\", \"country_code\": \"US\", \"admin_level\": 2, \"admin1\": \"New York\", \"admin2\": \"Queens County\", \"fips\": 36081.0, \"samples\": 27467, \"m50\": 2.8160000000000003, \"m50_index\": 73, \"rolling_average\": 2.8240000000000007}, {\"date\": \"2020-03-14\", \"country_code\": \"US\", \"admin_level\": 2, \"admin1\": \"New York\", \"admin2\": \"Queens County\", \"fips\": 36081.0, \"samples\": 25669, \"m50\": 1.021, \"m50_index\": 26, \"rolling_average\": 2.657142857142858}, {\"date\": \"2020-03-15\", \"country_code\": \"US\", \"admin_level\": 2, \"admin1\": \"New York\", \"admin2\": \"Queens County\", \"fips\": 36081.0, \"samples\": 25555, \"m50\": 0.3, \"m50_index\": 7, \"rolling_average\": 2.5325714285714294}, {\"date\": \"2020-03-16\", \"country_code\": \"US\", \"admin_level\": 2, \"admin1\": \"New York\", \"admin2\": \"Queens County\", \"fips\": 36081.0, \"samples\": 25482, \"m50\": 0.86, \"m50_index\": 22, \"rolling_average\": 2.151428571428572}, {\"date\": \"2020-03-17\", \"country_code\": \"US\", \"admin_level\": 2, \"admin1\": \"New York\", \"admin2\": \"Queens County\", \"fips\": 36081.0, \"samples\": 27584, \"m50\": 0.249, \"m50_index\": 6, \"rolling_average\": 1.7048571428571435}, {\"date\": \"2020-03-18\", \"country_code\": \"US\", \"admin_level\": 2, \"admin1\": \"New York\", \"admin2\": \"Queens County\", \"fips\": 36081.0, \"samples\": 26104, \"m50\": 0.177, \"m50_index\": 4, \"rolling_average\": 1.2308571428571433}, {\"date\": \"2020-03-19\", \"country_code\": \"US\", \"admin_level\": 2, \"admin1\": \"New York\", \"admin2\": \"Queens County\", \"fips\": 36081.0, \"samples\": 26152, \"m50\": 0.061, \"m50_index\": 1, \"rolling_average\": 0.7834285714285719}, {\"date\": \"2020-03-20\", \"country_code\": \"US\", \"admin_level\": 2, \"admin1\": \"New York\", \"admin2\": \"Queens County\", \"fips\": 36081.0, \"samples\": 23521, \"m50\": 0.068, \"m50_index\": 1, \"rolling_average\": 0.3908571428571433}, {\"date\": \"2020-03-21\", \"country_code\": \"US\", \"admin_level\": 2, \"admin1\": \"New York\", \"admin2\": \"Queens County\", \"fips\": 36081.0, \"samples\": 21635, \"m50\": 0.024, \"m50_index\": 0, \"rolling_average\": 0.24842857142857186}, {\"date\": \"2020-03-22\", \"country_code\": \"US\", \"admin_level\": 2, \"admin1\": \"New York\", \"admin2\": \"Queens County\", \"fips\": 36081.0, \"samples\": 22604, \"m50\": 0.018000000000000002, \"m50_index\": 0, \"rolling_average\": 0.20814285714285757}, {\"date\": \"2020-03-23\", \"country_code\": \"US\", \"admin_level\": 2, \"admin1\": \"New York\", \"admin2\": \"Queens County\", \"fips\": 36081.0, \"samples\": 24428, \"m50\": 0.017, \"m50_index\": 0, \"rolling_average\": 0.08771428571428612}, {\"date\": \"2020-03-24\", \"country_code\": \"US\", \"admin_level\": 2, \"admin1\": \"New York\", \"admin2\": \"Queens County\", \"fips\": 36081.0, \"samples\": 25039, \"m50\": 0.02, \"m50_index\": 0, \"rolling_average\": 0.05500000000000042}, {\"date\": \"2020-03-25\", \"country_code\": \"US\", \"admin_level\": 2, \"admin1\": \"New York\", \"admin2\": \"Queens County\", \"fips\": 36081.0, \"samples\": 23880, \"m50\": 0.018000000000000002, \"m50_index\": 0, \"rolling_average\": 0.0322857142857147}, {\"date\": \"2020-03-26\", \"country_code\": \"US\", \"admin_level\": 2, \"admin1\": \"New York\", \"admin2\": \"Queens County\", \"fips\": 36081.0, \"samples\": 25243, \"m50\": 0.019, \"m50_index\": 0, \"rolling_average\": 0.0262857142857147}, {\"date\": \"2020-03-27\", \"country_code\": \"US\", \"admin_level\": 2, \"admin1\": \"New York\", \"admin2\": \"Queens County\", \"fips\": 36081.0, \"samples\": 25761, \"m50\": 0.019, \"m50_index\": 0, \"rolling_average\": 0.0192857142857147}, {\"date\": \"2020-03-28\", \"country_code\": \"US\", \"admin_level\": 2, \"admin1\": \"New York\", \"admin2\": \"Queens County\", \"fips\": 36081.0, \"samples\": 23756, \"m50\": 0.015, \"m50_index\": 0, \"rolling_average\": 0.018000000000000415}, {\"date\": \"2020-03-29\", \"country_code\": \"US\", \"admin_level\": 2, \"admin1\": \"New York\", \"admin2\": \"Queens County\", \"fips\": 36081.0, \"samples\": 23988, \"m50\": 0.013999999999999999, \"m50_index\": 0, \"rolling_average\": 0.01742857142857184}, {\"date\": \"2020-03-30\", \"country_code\": \"US\", \"admin_level\": 2, \"admin1\": \"New York\", \"admin2\": \"Queens County\", \"fips\": 36081.0, \"samples\": 25036, \"m50\": 0.016, \"m50_index\": 0, \"rolling_average\": 0.0172857142857147}, {\"date\": \"2020-03-31\", \"country_code\": \"US\", \"admin_level\": 2, \"admin1\": \"New York\", \"admin2\": \"Queens County\", \"fips\": 36081.0, \"samples\": 24775, \"m50\": 0.016, \"m50_index\": 0, \"rolling_average\": 0.01671428571428613}, {\"date\": \"2020-04-01\", \"country_code\": \"US\", \"admin_level\": 2, \"admin1\": \"New York\", \"admin2\": \"Queens County\", \"fips\": 36081.0, \"samples\": 24577, \"m50\": 0.016, \"m50_index\": 0, \"rolling_average\": 0.01642857142857184}, {\"date\": \"2020-04-02\", \"country_code\": \"US\", \"admin_level\": 2, \"admin1\": \"New York\", \"admin2\": \"Queens County\", \"fips\": 36081.0, \"samples\": 24161, \"m50\": 0.017, \"m50_index\": 0, \"rolling_average\": 0.016142857142857556}, {\"date\": \"2020-04-03\", \"country_code\": \"US\", \"admin_level\": 2, \"admin1\": \"New York\", \"admin2\": \"Queens County\", \"fips\": 36081.0, \"samples\": 23170, \"m50\": 0.016, \"m50_index\": 0, \"rolling_average\": 0.015714285714286128}, {\"date\": \"2020-04-04\", \"country_code\": \"US\", \"admin_level\": 2, \"admin1\": \"New York\", \"admin2\": \"Queens County\", \"fips\": 36081.0, \"samples\": 22138, \"m50\": 0.016, \"m50_index\": 0, \"rolling_average\": 0.01585714285714327}, {\"date\": \"2020-04-05\", \"country_code\": \"US\", \"admin_level\": 2, \"admin1\": \"New York\", \"admin2\": \"Queens County\", \"fips\": 36081.0, \"samples\": 25254, \"m50\": 0.015, \"m50_index\": 0, \"rolling_average\": 0.016000000000000413}, {\"date\": \"2020-04-06\", \"country_code\": \"US\", \"admin_level\": 2, \"admin1\": \"New York\", \"admin2\": \"Queens County\", \"fips\": 36081.0, \"samples\": 22835, \"m50\": 0.017, \"m50_index\": 0, \"rolling_average\": 0.016142857142857556}, {\"date\": \"2020-04-07\", \"country_code\": \"US\", \"admin_level\": 2, \"admin1\": \"New York\", \"admin2\": \"Queens County\", \"fips\": 36081.0, \"samples\": 23289, \"m50\": 0.017, \"m50_index\": 0, \"rolling_average\": 0.016285714285714698}, {\"date\": \"2020-04-08\", \"country_code\": \"US\", \"admin_level\": 2, \"admin1\": \"New York\", \"admin2\": \"Queens County\", \"fips\": 36081.0, \"samples\": 23825, \"m50\": 0.016, \"m50_index\": 0, \"rolling_average\": 0.016285714285714698}, {\"date\": \"2020-04-09\", \"country_code\": \"US\", \"admin_level\": 2, \"admin1\": \"New York\", \"admin2\": \"Queens County\", \"fips\": 36081.0, \"samples\": 23714, \"m50\": 0.015, \"m50_index\": 0, \"rolling_average\": 0.016000000000000413}, {\"date\": \"2020-04-10\", \"country_code\": \"US\", \"admin_level\": 2, \"admin1\": \"New York\", \"admin2\": \"Queens County\", \"fips\": 36081.0, \"samples\": 22224, \"m50\": 0.015, \"m50_index\": 0, \"rolling_average\": 0.01585714285714327}, {\"date\": \"2020-04-11\", \"country_code\": \"US\", \"admin_level\": 2, \"admin1\": \"New York\", \"admin2\": \"Queens County\", \"fips\": 36081.0, \"samples\": 23689, \"m50\": 0.015, \"m50_index\": 0, \"rolling_average\": 0.015714285714286128}, {\"date\": \"2020-04-12\", \"country_code\": \"US\", \"admin_level\": 2, \"admin1\": \"New York\", \"admin2\": \"Queens County\", \"fips\": 36081.0, \"samples\": 23040, \"m50\": 0.013999999999999999, \"m50_index\": 0, \"rolling_average\": 0.015571428571428984}, {\"date\": \"2020-04-13\", \"country_code\": \"US\", \"admin_level\": 2, \"admin1\": \"New York\", \"admin2\": \"Queens County\", \"fips\": 36081.0, \"samples\": 22462, \"m50\": 0.013999999999999999, \"m50_index\": 0, \"rolling_average\": 0.015142857142857555}, {\"date\": \"2020-04-14\", \"country_code\": \"US\", \"admin_level\": 2, \"admin1\": \"New York\", \"admin2\": \"Queens County\", \"fips\": 36081.0, \"samples\": 24095, \"m50\": 0.017, \"m50_index\": 0, \"rolling_average\": 0.015142857142857555}, {\"date\": \"2020-04-15\", \"country_code\": \"US\", \"admin_level\": 2, \"admin1\": \"New York\", \"admin2\": \"Queens County\", \"fips\": 36081.0, \"samples\": 25184, \"m50\": 0.017, \"m50_index\": 0, \"rolling_average\": 0.015285714285714697}, {\"date\": \"2020-04-16\", \"country_code\": \"US\", \"admin_level\": 2, \"admin1\": \"New York\", \"admin2\": \"Queens County\", \"fips\": 36081.0, \"samples\": 24071, \"m50\": 0.017, \"m50_index\": 0, \"rolling_average\": 0.015571428571428984}, {\"date\": \"2020-04-17\", \"country_code\": \"US\", \"admin_level\": 2, \"admin1\": \"New York\", \"admin2\": \"Queens County\", \"fips\": 36081.0, \"samples\": 24004, \"m50\": 0.018000000000000002, \"m50_index\": 0, \"rolling_average\": 0.016000000000000413}, {\"date\": \"2020-04-18\", \"country_code\": \"US\", \"admin_level\": 2, \"admin1\": \"New York\", \"admin2\": \"Queens County\", \"fips\": 36081.0, \"samples\": 23458, \"m50\": 0.015, \"m50_index\": 0, \"rolling_average\": 0.016000000000000413}, {\"date\": \"2020-04-19\", \"country_code\": \"US\", \"admin_level\": 2, \"admin1\": \"New York\", \"admin2\": \"Queens County\", \"fips\": 36081.0, \"samples\": 22917, \"m50\": 0.015, \"m50_index\": 0, \"rolling_average\": 0.016142857142857556}, {\"date\": \"2020-04-21\", \"country_code\": \"US\", \"admin_level\": 2, \"admin1\": \"New York\", \"admin2\": \"Queens County\", \"fips\": 36081.0, \"samples\": 30068, \"m50\": 0.017, \"m50_index\": 0, \"rolling_average\": 0.016571428571428983}, {\"date\": \"2020-04-22\", \"country_code\": \"US\", \"admin_level\": 2, \"admin1\": \"New York\", \"admin2\": \"Queens County\", \"fips\": 36081.0, \"samples\": 30795, \"m50\": 0.019, \"m50_index\": 0, \"rolling_average\": 0.01685714285714327}, {\"date\": \"2020-04-23\", \"country_code\": \"US\", \"admin_level\": 2, \"admin1\": \"New York\", \"admin2\": \"Queens County\", \"fips\": 36081.0, \"samples\": 31301, \"m50\": 0.02, \"m50_index\": 0, \"rolling_average\": 0.0172857142857147}, {\"date\": \"2020-04-24\", \"country_code\": \"US\", \"admin_level\": 2, \"admin1\": \"New York\", \"admin2\": \"Queens County\", \"fips\": 36081.0, \"samples\": 28454, \"m50\": 0.019, \"m50_index\": 0, \"rolling_average\": 0.017571428571428984}, {\"date\": \"2020-04-25\", \"country_code\": \"US\", \"admin_level\": 2, \"admin1\": \"New York\", \"admin2\": \"Queens County\", \"fips\": 36081.0, \"samples\": 30229, \"m50\": 0.019, \"m50_index\": 0, \"rolling_average\": 0.01771428571428613}, {\"date\": \"2020-04-26\", \"country_code\": \"US\", \"admin_level\": 2, \"admin1\": \"New York\", \"admin2\": \"Queens County\", \"fips\": 36081.0, \"samples\": 29938, \"m50\": 0.013999999999999999, \"m50_index\": 0, \"rolling_average\": 0.017571428571428984}, {\"date\": \"2020-04-27\", \"country_code\": \"US\", \"admin_level\": 2, \"admin1\": \"New York\", \"admin2\": \"Queens County\", \"fips\": 36081.0, \"samples\": 30392, \"m50\": 0.018000000000000002, \"m50_index\": 0, \"rolling_average\": 0.01800000000000041}, {\"date\": \"2020-04-28\", \"country_code\": \"US\", \"admin_level\": 2, \"admin1\": \"New York\", \"admin2\": \"Queens County\", \"fips\": 36081.0, \"samples\": 33313, \"m50\": 0.021, \"m50_index\": 0, \"rolling_average\": 0.018571428571428985}, {\"date\": \"2020-04-29\", \"country_code\": \"US\", \"admin_level\": 2, \"admin1\": \"New York\", \"admin2\": \"Queens County\", \"fips\": 36081.0, \"samples\": 30027, \"m50\": 0.019, \"m50_index\": 0, \"rolling_average\": 0.018571428571428985}, {\"date\": \"2020-04-30\", \"country_code\": \"US\", \"admin_level\": 2, \"admin1\": \"New York\", \"admin2\": \"Queens County\", \"fips\": 36081.0, \"samples\": 35706, \"m50\": 0.017, \"m50_index\": 0, \"rolling_average\": 0.01814285714285756}, {\"date\": \"2020-05-01\", \"country_code\": \"US\", \"admin_level\": 2, \"admin1\": \"New York\", \"admin2\": \"Queens County\", \"fips\": 36081.0, \"samples\": 33325, \"m50\": 0.02, \"m50_index\": 0, \"rolling_average\": 0.018285714285714703}, {\"date\": \"2020-05-02\", \"country_code\": \"US\", \"admin_level\": 2, \"admin1\": \"New York\", \"admin2\": \"Queens County\", \"fips\": 36081.0, \"samples\": 35586, \"m50\": 0.024, \"m50_index\": 0, \"rolling_average\": 0.019000000000000416}, {\"date\": \"2020-05-03\", \"country_code\": \"US\", \"admin_level\": 2, \"admin1\": \"New York\", \"admin2\": \"Queens County\", \"fips\": 36081.0, \"samples\": 35575, \"m50\": 0.02, \"m50_index\": 0, \"rolling_average\": 0.01985714285714327}, {\"date\": \"2020-05-04\", \"country_code\": \"US\", \"admin_level\": 2, \"admin1\": \"New York\", \"admin2\": \"Queens County\", \"fips\": 36081.0, \"samples\": 26165, \"m50\": 0.019, \"m50_index\": 0, \"rolling_average\": 0.020000000000000413}, {\"date\": \"2020-05-05\", \"country_code\": \"US\", \"admin_level\": 2, \"admin1\": \"New York\", \"admin2\": \"Queens County\", \"fips\": 36081.0, \"samples\": 26633, \"m50\": 0.021, \"m50_index\": 0, \"rolling_average\": 0.020000000000000413}, {\"date\": \"2020-05-06\", \"country_code\": \"US\", \"admin_level\": 2, \"admin1\": \"New York\", \"admin2\": \"Queens County\", \"fips\": 36081.0, \"samples\": 27819, \"m50\": 0.02, \"m50_index\": 0, \"rolling_average\": 0.020142857142857556}, {\"date\": \"2020-05-07\", \"country_code\": \"US\", \"admin_level\": 2, \"admin1\": \"New York\", \"admin2\": \"Queens County\", \"fips\": 36081.0, \"samples\": 29651, \"m50\": 0.022000000000000002, \"m50_index\": 0, \"rolling_average\": 0.02085714285714327}, {\"date\": \"2020-05-08\", \"country_code\": \"US\", \"admin_level\": 2, \"admin1\": \"New York\", \"admin2\": \"Queens County\", \"fips\": 36081.0, \"samples\": 27390, \"m50\": 0.019, \"m50_index\": 0, \"rolling_average\": 0.02071428571428613}, {\"date\": \"2020-05-09\", \"country_code\": \"US\", \"admin_level\": 2, \"admin1\": \"New York\", \"admin2\": \"Queens County\", \"fips\": 36081.0, \"samples\": 27340, \"m50\": 0.017, \"m50_index\": 0, \"rolling_average\": 0.019714285714286132}, {\"date\": \"2020-05-10\", \"country_code\": \"US\", \"admin_level\": 2, \"admin1\": \"New York\", \"admin2\": \"Queens County\", \"fips\": 36081.0, \"samples\": 27660, \"m50\": 0.017, \"m50_index\": 0, \"rolling_average\": 0.019285714285714704}, {\"date\": \"2020-05-11\", \"country_code\": \"US\", \"admin_level\": 2, \"admin1\": \"New York\", \"admin2\": \"Queens County\", \"fips\": 36081.0, \"samples\": 27697, \"m50\": 0.017, \"m50_index\": 0, \"rolling_average\": 0.019000000000000416}, {\"date\": \"2020-05-12\", \"country_code\": \"US\", \"admin_level\": 2, \"admin1\": \"New York\", \"admin2\": \"Queens County\", \"fips\": 36081.0, \"samples\": 29950, \"m50\": 0.021, \"m50_index\": 0, \"rolling_average\": 0.019000000000000416}, {\"date\": \"2020-05-13\", \"country_code\": \"US\", \"admin_level\": 2, \"admin1\": \"New York\", \"admin2\": \"Queens County\", \"fips\": 36081.0, \"samples\": 28052, \"m50\": 0.02, \"m50_index\": 0, \"rolling_average\": 0.019000000000000416}, {\"date\": \"2020-05-14\", \"country_code\": \"US\", \"admin_level\": 2, \"admin1\": \"New York\", \"admin2\": \"Queens County\", \"fips\": 36081.0, \"samples\": 28825, \"m50\": 0.02, \"m50_index\": 0, \"rolling_average\": 0.01871428571428613}, {\"date\": \"2020-05-15\", \"country_code\": \"US\", \"admin_level\": 2, \"admin1\": \"New York\", \"admin2\": \"Queens County\", \"fips\": 36081.0, \"samples\": 39926, \"m50\": 0.027999999999999997, \"m50_index\": 0, \"rolling_average\": 0.020000000000000417}, {\"date\": \"2020-05-16\", \"country_code\": \"US\", \"admin_level\": 2, \"admin1\": \"New York\", \"admin2\": \"Queens County\", \"fips\": 36081.0, \"samples\": 38747, \"m50\": 0.025, \"m50_index\": 0, \"rolling_average\": 0.021142857142857557}, {\"date\": \"2020-05-17\", \"country_code\": \"US\", \"admin_level\": 2, \"admin1\": \"New York\", \"admin2\": \"Queens County\", \"fips\": 36081.0, \"samples\": 38293, \"m50\": 0.02, \"m50_index\": 0, \"rolling_average\": 0.021571428571428988}, {\"date\": \"2020-05-18\", \"country_code\": \"US\", \"admin_level\": 2, \"admin1\": \"New York\", \"admin2\": \"Queens County\", \"fips\": 36081.0, \"samples\": 40419, \"m50\": 0.024, \"m50_index\": 0, \"rolling_average\": 0.02257142857142899}, {\"date\": \"2020-05-19\", \"country_code\": \"US\", \"admin_level\": 2, \"admin1\": \"New York\", \"admin2\": \"Queens County\", \"fips\": 36081.0, \"samples\": 39526, \"m50\": 0.023, \"m50_index\": 0, \"rolling_average\": 0.022857142857143273}, {\"date\": \"2020-05-20\", \"country_code\": \"US\", \"admin_level\": 2, \"admin1\": \"New York\", \"admin2\": \"Queens County\", \"fips\": 36081.0, \"samples\": 39474, \"m50\": 0.028999999999999998, \"m50_index\": 0, \"rolling_average\": 0.02414285714285756}, {\"date\": \"2020-05-21\", \"country_code\": \"US\", \"admin_level\": 2, \"admin1\": \"New York\", \"admin2\": \"Queens County\", \"fips\": 36081.0, \"samples\": 39720, \"m50\": 0.032, \"m50_index\": 0, \"rolling_average\": 0.025857142857143276}, {\"date\": \"2020-05-22\", \"country_code\": \"US\", \"admin_level\": 2, \"admin1\": \"New York\", \"admin2\": \"Queens County\", \"fips\": 36081.0, \"samples\": 42259, \"m50\": 0.042, \"m50_index\": 1, \"rolling_average\": 0.027857142857143278}, {\"date\": \"2020-05-23\", \"country_code\": \"US\", \"admin_level\": 2, \"admin1\": \"New York\", \"admin2\": \"Queens County\", \"fips\": 36081.0, \"samples\": 40285, \"m50\": 0.021, \"m50_index\": 0, \"rolling_average\": 0.027285714285714708}, {\"date\": \"2020-05-24\", \"country_code\": \"US\", \"admin_level\": 2, \"admin1\": \"New York\", \"admin2\": \"Queens County\", \"fips\": 36081.0, \"samples\": 40561, \"m50\": 0.028999999999999998, \"m50_index\": 0, \"rolling_average\": 0.028571428571428994}, {\"date\": \"2020-05-25\", \"country_code\": \"US\", \"admin_level\": 2, \"admin1\": \"New York\", \"admin2\": \"Queens County\", \"fips\": 36081.0, \"samples\": 40879, \"m50\": 0.027000000000000003, \"m50_index\": 0, \"rolling_average\": 0.02900000000000042}, {\"date\": \"2020-05-26\", \"country_code\": \"US\", \"admin_level\": 2, \"admin1\": \"New York\", \"admin2\": \"Queens County\", \"fips\": 36081.0, \"samples\": 38978, \"m50\": 0.044000000000000004, \"m50_index\": 1, \"rolling_average\": 0.032000000000000424}, {\"date\": \"2020-05-27\", \"country_code\": \"US\", \"admin_level\": 2, \"admin1\": \"New York\", \"admin2\": \"Queens County\", \"fips\": 36081.0, \"samples\": 37472, \"m50\": 0.04, \"m50_index\": 1, \"rolling_average\": 0.033571428571428995}, {\"date\": \"2020-05-28\", \"country_code\": \"US\", \"admin_level\": 2, \"admin1\": \"New York\", \"admin2\": \"Queens County\", \"fips\": 36081.0, \"samples\": 37199, \"m50\": 0.031, \"m50_index\": 0, \"rolling_average\": 0.03342857142857185}, {\"date\": \"2020-05-30\", \"country_code\": \"US\", \"admin_level\": 2, \"admin1\": \"New York\", \"admin2\": \"Queens County\", \"fips\": 36081.0, \"samples\": 32611, \"m50\": 0.037000000000000005, \"m50_index\": 0, \"rolling_average\": 0.03271428571428613}, {\"date\": \"2020-05-31\", \"country_code\": \"US\", \"admin_level\": 2, \"admin1\": \"New York\", \"admin2\": \"Queens County\", \"fips\": 36081.0, \"samples\": 26615, \"m50\": 0.024, \"m50_index\": 0, \"rolling_average\": 0.033142857142857564}, {\"date\": \"2020-06-01\", \"country_code\": \"US\", \"admin_level\": 2, \"admin1\": \"New York\", \"admin2\": \"Queens County\", \"fips\": 36081.0, \"samples\": 40767, \"m50\": 0.047, \"m50_index\": 1, \"rolling_average\": 0.03571428571428614}, {\"date\": \"2020-06-02\", \"country_code\": \"US\", \"admin_level\": 2, \"admin1\": \"New York\", \"admin2\": \"Queens County\", \"fips\": 36081.0, \"samples\": 29906, \"m50\": 0.031, \"m50_index\": 0, \"rolling_average\": 0.03628571428571471}, {\"date\": \"2020-06-03\", \"country_code\": \"US\", \"admin_level\": 2, \"admin1\": \"New York\", \"admin2\": \"Queens County\", \"fips\": 36081.0, \"samples\": 41971, \"m50\": 0.051, \"m50_index\": 1, \"rolling_average\": 0.03728571428571471}, {\"date\": \"2020-06-04\", \"country_code\": \"US\", \"admin_level\": 2, \"admin1\": \"New York\", \"admin2\": \"Queens County\", \"fips\": 36081.0, \"samples\": 37294, \"m50\": 0.057, \"m50_index\": 1, \"rolling_average\": 0.039714285714286146}, {\"date\": \"2020-06-05\", \"country_code\": \"US\", \"admin_level\": 2, \"admin1\": \"New York\", \"admin2\": \"Queens County\", \"fips\": 36081.0, \"samples\": 35655, \"m50\": 0.047, \"m50_index\": 1, \"rolling_average\": 0.04200000000000043}, {\"date\": \"2020-06-06\", \"country_code\": \"US\", \"admin_level\": 2, \"admin1\": \"New York\", \"admin2\": \"Queens County\", \"fips\": 36081.0, \"samples\": 35354, \"m50\": 0.048, \"m50_index\": 1, \"rolling_average\": 0.043571428571429004}, {\"date\": \"2020-06-07\", \"country_code\": \"US\", \"admin_level\": 2, \"admin1\": \"New York\", \"admin2\": \"Queens County\", \"fips\": 36081.0, \"samples\": 36384, \"m50\": 0.033, \"m50_index\": 0, \"rolling_average\": 0.044857142857143296}, {\"date\": \"2020-06-08\", \"country_code\": \"US\", \"admin_level\": 2, \"admin1\": \"New York\", \"admin2\": \"Queens County\", \"fips\": 36081.0, \"samples\": 38179, \"m50\": 0.175, \"m50_index\": 4, \"rolling_average\": 0.06314285714285758}, {\"date\": \"2020-06-09\", \"country_code\": \"US\", \"admin_level\": 2, \"admin1\": \"New York\", \"admin2\": \"Queens County\", \"fips\": 36081.0, \"samples\": 36769, \"m50\": 0.17800000000000002, \"m50_index\": 4, \"rolling_average\": 0.08414285714285759}, {\"date\": \"2020-06-10\", \"country_code\": \"US\", \"admin_level\": 2, \"admin1\": \"New York\", \"admin2\": \"Queens County\", \"fips\": 36081.0, \"samples\": 36739, \"m50\": 0.179, \"m50_index\": 4, \"rolling_average\": 0.10242857142857187}, {\"date\": \"2020-06-11\", \"country_code\": \"US\", \"admin_level\": 2, \"admin1\": \"New York\", \"admin2\": \"Queens County\", \"fips\": 36081.0, \"samples\": 39754, \"m50\": 0.095, \"m50_index\": 2, \"rolling_average\": 0.10785714285714329}, {\"date\": \"2020-06-12\", \"country_code\": \"US\", \"admin_level\": 2, \"admin1\": \"New York\", \"admin2\": \"Queens County\", \"fips\": 36081.0, \"samples\": 35949, \"m50\": 0.179, \"m50_index\": 4, \"rolling_average\": 0.12671428571428614}, {\"date\": \"2020-06-13\", \"country_code\": \"US\", \"admin_level\": 2, \"admin1\": \"New York\", \"admin2\": \"Queens County\", \"fips\": 36081.0, \"samples\": 35069, \"m50\": 0.138, \"m50_index\": 3, \"rolling_average\": 0.13957142857142898}, {\"date\": \"2020-06-14\", \"country_code\": \"US\", \"admin_level\": 2, \"admin1\": \"New York\", \"admin2\": \"Queens County\", \"fips\": 36081.0, \"samples\": 34220, \"m50\": 0.036000000000000004, \"m50_index\": 0, \"rolling_average\": 0.14000000000000043}, {\"date\": \"2020-06-15\", \"country_code\": \"US\", \"admin_level\": 2, \"admin1\": \"New York\", \"admin2\": \"Queens County\", \"fips\": 36081.0, \"samples\": 36914, \"m50\": 0.08, \"m50_index\": 2, \"rolling_average\": 0.12642857142857183}, {\"date\": \"2020-06-16\", \"country_code\": \"US\", \"admin_level\": 2, \"admin1\": \"New York\", \"admin2\": \"Queens County\", \"fips\": 36081.0, \"samples\": 33847, \"m50\": 0.102, \"m50_index\": 2, \"rolling_average\": 0.11557142857142898}, {\"date\": \"2020-06-17\", \"country_code\": \"US\", \"admin_level\": 2, \"admin1\": \"New York\", \"admin2\": \"Queens County\", \"fips\": 36081.0, \"samples\": 36881, \"m50\": 0.23399999999999999, \"m50_index\": 6, \"rolling_average\": 0.12342857142857182}, {\"date\": \"2020-06-18\", \"country_code\": \"US\", \"admin_level\": 2, \"admin1\": \"New York\", \"admin2\": \"Queens County\", \"fips\": 36081.0, \"samples\": 34322, \"m50\": 0.302, \"m50_index\": 7, \"rolling_average\": 0.1530000000000004}, {\"date\": \"2020-06-19\", \"country_code\": \"US\", \"admin_level\": 2, \"admin1\": \"New York\", \"admin2\": \"Queens County\", \"fips\": 36081.0, \"samples\": 43017, \"m50\": 0.648, \"m50_index\": 16, \"rolling_average\": 0.22000000000000042}, {\"date\": \"2020-06-20\", \"country_code\": \"US\", \"admin_level\": 2, \"admin1\": \"New York\", \"admin2\": \"Queens County\", \"fips\": 36081.0, \"samples\": 34928, \"m50\": 0.22399999999999998, \"m50_index\": 5, \"rolling_average\": 0.2322857142857147}, {\"date\": \"2020-06-21\", \"country_code\": \"US\", \"admin_level\": 2, \"admin1\": \"New York\", \"admin2\": \"Queens County\", \"fips\": 36081.0, \"samples\": 32976, \"m50\": 0.047, \"m50_index\": 1, \"rolling_average\": 0.23385714285714326}, {\"date\": \"2020-06-22\", \"country_code\": \"US\", \"admin_level\": 2, \"admin1\": \"New York\", \"admin2\": \"Queens County\", \"fips\": 36081.0, \"samples\": 35069, \"m50\": 0.162, \"m50_index\": 4, \"rolling_average\": 0.24557142857142897}, {\"date\": \"2020-06-23\", \"country_code\": \"US\", \"admin_level\": 2, \"admin1\": \"New York\", \"admin2\": \"Queens County\", \"fips\": 36081.0, \"samples\": 35308, \"m50\": 0.41700000000000004, \"m50_index\": 10, \"rolling_average\": 0.290571428571429}, {\"date\": \"2020-06-24\", \"country_code\": \"US\", \"admin_level\": 2, \"admin1\": \"New York\", \"admin2\": \"Queens County\", \"fips\": 36081.0, \"samples\": 34002, \"m50\": 0.316, \"m50_index\": 8, \"rolling_average\": 0.30228571428571466}, {\"date\": \"2020-06-25\", \"country_code\": \"US\", \"admin_level\": 2, \"admin1\": \"New York\", \"admin2\": \"Queens County\", \"fips\": 36081.0, \"samples\": 32011, \"m50\": 0.522, \"m50_index\": 13, \"rolling_average\": 0.3337142857142861}, {\"date\": \"2020-06-26\", \"country_code\": \"US\", \"admin_level\": 2, \"admin1\": \"New York\", \"admin2\": \"Queens County\", \"fips\": 36081.0, \"samples\": 34289, \"m50\": 0.611, \"m50_index\": 15, \"rolling_average\": 0.3284285714285718}, {\"date\": \"2020-06-27\", \"country_code\": \"US\", \"admin_level\": 2, \"admin1\": \"New York\", \"admin2\": \"Queens County\", \"fips\": 36081.0, \"samples\": 30106, \"m50\": 0.244, \"m50_index\": 6, \"rolling_average\": 0.3312857142857147}, {\"date\": \"2020-06-28\", \"country_code\": \"US\", \"admin_level\": 2, \"admin1\": \"New York\", \"admin2\": \"Queens County\", \"fips\": 36081.0, \"samples\": 30992, \"m50\": 0.068, \"m50_index\": 1, \"rolling_average\": 0.33428571428571463}, {\"date\": \"2020-06-29\", \"country_code\": \"US\", \"admin_level\": 2, \"admin1\": \"New York\", \"admin2\": \"Queens County\", \"fips\": 36081.0, \"samples\": 25500, \"m50\": 0.37799999999999995, \"m50_index\": 9, \"rolling_average\": 0.36514285714285755}, {\"date\": \"2020-06-30\", \"country_code\": \"US\", \"admin_level\": 2, \"admin1\": \"New York\", \"admin2\": \"Queens County\", \"fips\": 36081.0, \"samples\": 33395, \"m50\": 0.653, \"m50_index\": 17, \"rolling_average\": 0.3988571428571432}, {\"date\": \"2020-07-01\", \"country_code\": \"US\", \"admin_level\": 2, \"admin1\": \"New York\", \"admin2\": \"Queens County\", \"fips\": 36081.0, \"samples\": 33294, \"m50\": 0.621, \"m50_index\": 16, \"rolling_average\": 0.4424285714285718}, {\"date\": \"2020-07-02\", \"country_code\": \"US\", \"admin_level\": 2, \"admin1\": \"New York\", \"admin2\": \"Queens County\", \"fips\": 36081.0, \"samples\": 33023, \"m50\": 0.922, \"m50_index\": 24, \"rolling_average\": 0.49957142857142894}, {\"date\": \"2020-07-03\", \"country_code\": \"US\", \"admin_level\": 2, \"admin1\": \"New York\", \"admin2\": \"Queens County\", \"fips\": 36081.0, \"samples\": 33604, \"m50\": 0.8390000000000001, \"m50_index\": 21, \"rolling_average\": 0.5321428571428576}, {\"date\": \"2020-07-04\", \"country_code\": \"US\", \"admin_level\": 2, \"admin1\": \"New York\", \"admin2\": \"Queens County\", \"fips\": 36081.0, \"samples\": 33334, \"m50\": 0.402, \"m50_index\": 10, \"rolling_average\": 0.5547142857142863}, {\"date\": \"2020-07-05\", \"country_code\": \"US\", \"admin_level\": 2, \"admin1\": \"New York\", \"admin2\": \"Queens County\", \"fips\": 36081.0, \"samples\": 31200, \"m50\": 0.124, \"m50_index\": 3, \"rolling_average\": 0.5627142857142862}, {\"date\": \"2020-07-06\", \"country_code\": \"US\", \"admin_level\": 2, \"admin1\": \"New York\", \"admin2\": \"Queens County\", \"fips\": 36081.0, \"samples\": 31631, \"m50\": 0.466, \"m50_index\": 12, \"rolling_average\": 0.5752857142857147}, {\"date\": \"2020-07-07\", \"country_code\": \"US\", \"admin_level\": 2, \"admin1\": \"New York\", \"admin2\": \"Queens County\", \"fips\": 36081.0, \"samples\": 31555, \"m50\": 0.7140000000000001, \"m50_index\": 18, \"rolling_average\": 0.5840000000000004}, {\"date\": \"2020-07-08\", \"country_code\": \"US\", \"admin_level\": 2, \"admin1\": \"New York\", \"admin2\": \"Queens County\", \"fips\": 36081.0, \"samples\": 33326, \"m50\": 0.8959999999999999, \"m50_index\": 23, \"rolling_average\": 0.6232857142857148}, {\"date\": \"2020-07-09\", \"country_code\": \"US\", \"admin_level\": 2, \"admin1\": \"New York\", \"admin2\": \"Queens County\", \"fips\": 36081.0, \"samples\": 32926, \"m50\": 0.907, \"m50_index\": 23, \"rolling_average\": 0.6211428571428577}, {\"date\": \"2020-07-10\", \"country_code\": \"US\", \"admin_level\": 2, \"admin1\": \"New York\", \"admin2\": \"Queens County\", \"fips\": 36081.0, \"samples\": 31912, \"m50\": 0.319, \"m50_index\": 8, \"rolling_average\": 0.5468571428571434}, {\"date\": \"2020-07-11\", \"country_code\": \"US\", \"admin_level\": 2, \"admin1\": \"New York\", \"admin2\": \"Queens County\", \"fips\": 36081.0, \"samples\": 31825, \"m50\": 0.551, \"m50_index\": 14, \"rolling_average\": 0.5681428571428576}, {\"date\": \"2020-07-12\", \"country_code\": \"US\", \"admin_level\": 2, \"admin1\": \"New York\", \"admin2\": \"Queens County\", \"fips\": 36081.0, \"samples\": 32105, \"m50\": 0.657, \"m50_index\": 17, \"rolling_average\": 0.6442857142857148}, {\"date\": \"2020-07-13\", \"country_code\": \"US\", \"admin_level\": 2, \"admin1\": \"New York\", \"admin2\": \"Queens County\", \"fips\": 36081.0, \"samples\": 38635, \"m50\": 0.893, \"m50_index\": 23, \"rolling_average\": 0.7052857142857147}, {\"date\": \"2020-07-14\", \"country_code\": \"US\", \"admin_level\": 2, \"admin1\": \"New York\", \"admin2\": \"Queens County\", \"fips\": 36081.0, \"samples\": 36785, \"m50\": 1.6680000000000001, \"m50_index\": 43, \"rolling_average\": 0.841571428571429}, {\"date\": \"2020-07-15\", \"country_code\": \"US\", \"admin_level\": 2, \"admin1\": \"New York\", \"admin2\": \"Queens County\", \"fips\": 36081.0, \"samples\": 38229, \"m50\": 1.026, \"m50_index\": 26, \"rolling_average\": 0.8601428571428575}, {\"date\": \"2020-07-16\", \"country_code\": \"US\", \"admin_level\": 2, \"admin1\": \"New York\", \"admin2\": \"Queens County\", \"fips\": 36081.0, \"samples\": 37077, \"m50\": 0.8540000000000001, \"m50_index\": 22, \"rolling_average\": 0.852571428571429}, {\"date\": \"2020-07-17\", \"country_code\": \"US\", \"admin_level\": 2, \"admin1\": \"New York\", \"admin2\": \"Queens County\", \"fips\": 36081.0, \"samples\": 46856, \"m50\": 1.704, \"m50_index\": 44, \"rolling_average\": 1.0504285714285717}, {\"date\": \"2020-07-18\", \"country_code\": \"US\", \"admin_level\": 2, \"admin1\": \"New York\", \"admin2\": \"Queens County\", \"fips\": 36081.0, \"samples\": 37215, \"m50\": 0.9670000000000001, \"m50_index\": 25, \"rolling_average\": 1.109857142857143}, {\"date\": \"2020-07-19\", \"country_code\": \"US\", \"admin_level\": 2, \"admin1\": \"New York\", \"admin2\": \"Queens County\", \"fips\": 36081.0, \"samples\": 38818, \"m50\": 0.23399999999999999, \"m50_index\": 6, \"rolling_average\": 1.0494285714285716}, {\"date\": \"2020-07-20\", \"country_code\": \"US\", \"admin_level\": 2, \"admin1\": \"New York\", \"admin2\": \"Queens County\", \"fips\": 36081.0, \"samples\": 35619, \"m50\": 0.38799999999999996, \"m50_index\": 10, \"rolling_average\": 0.9772857142857145}, {\"date\": \"2020-07-21\", \"country_code\": \"US\", \"admin_level\": 2, \"admin1\": \"New York\", \"admin2\": \"Queens County\", \"fips\": 36081.0, \"samples\": 35305, \"m50\": 0.581, \"m50_index\": 15, \"rolling_average\": 0.8220000000000003}, {\"date\": \"2020-07-22\", \"country_code\": \"US\", \"admin_level\": 2, \"admin1\": \"New York\", \"admin2\": \"Queens County\", \"fips\": 36081.0, \"samples\": 37921, \"m50\": 0.522, \"m50_index\": 13, \"rolling_average\": 0.7500000000000003}, {\"date\": \"2020-07-23\", \"country_code\": \"US\", \"admin_level\": 2, \"admin1\": \"New York\", \"admin2\": \"Queens County\", \"fips\": 36081.0, \"samples\": 38119, \"m50\": 0.489, \"m50_index\": 12, \"rolling_average\": 0.6978571428571432}, {\"date\": \"2020-07-24\", \"country_code\": \"US\", \"admin_level\": 2, \"admin1\": \"New York\", \"admin2\": \"Queens County\", \"fips\": 36081.0, \"samples\": 36184, \"m50\": 0.6920000000000001, \"m50_index\": 18, \"rolling_average\": 0.5532857142857147}, {\"date\": \"2020-07-25\", \"country_code\": \"US\", \"admin_level\": 2, \"admin1\": \"New York\", \"admin2\": \"Queens County\", \"fips\": 36081.0, \"samples\": 35937, \"m50\": 0.478, \"m50_index\": 12, \"rolling_average\": 0.4834285714285718}, {\"date\": \"2020-07-26\", \"country_code\": \"US\", \"admin_level\": 2, \"admin1\": \"New York\", \"admin2\": \"Queens County\", \"fips\": 36081.0, \"samples\": 34290, \"m50\": 0.106, \"m50_index\": 2, \"rolling_average\": 0.46514285714285747}, {\"date\": \"2020-07-27\", \"country_code\": \"US\", \"admin_level\": 2, \"admin1\": \"New York\", \"admin2\": \"Queens County\", \"fips\": 36081.0, \"samples\": 37588, \"m50\": 0.359, \"m50_index\": 9, \"rolling_average\": 0.46100000000000035}, {\"date\": \"2020-07-28\", \"country_code\": \"US\", \"admin_level\": 2, \"admin1\": \"New York\", \"admin2\": \"Queens County\", \"fips\": 36081.0, \"samples\": 38286, \"m50\": 0.579, \"m50_index\": 15, \"rolling_average\": 0.46071428571428613}, {\"date\": \"2020-07-29\", \"country_code\": \"US\", \"admin_level\": 2, \"admin1\": \"New York\", \"admin2\": \"Queens County\", \"fips\": 36081.0, \"samples\": 39871, \"m50\": 0.636, \"m50_index\": 16, \"rolling_average\": 0.4770000000000004}, {\"date\": \"2020-07-30\", \"country_code\": \"US\", \"admin_level\": 2, \"admin1\": \"New York\", \"admin2\": \"Queens County\", \"fips\": 36081.0, \"samples\": 41046, \"m50\": 0.6970000000000001, \"m50_index\": 18, \"rolling_average\": 0.5067142857142862}, {\"date\": \"2020-07-31\", \"country_code\": \"US\", \"admin_level\": 2, \"admin1\": \"New York\", \"admin2\": \"Queens County\", \"fips\": 36081.0, \"samples\": 38568, \"m50\": 0.79, \"m50_index\": 20, \"rolling_average\": 0.5207142857142861}, {\"date\": \"2020-08-01\", \"country_code\": \"US\", \"admin_level\": 2, \"admin1\": \"New York\", \"admin2\": \"Queens County\", \"fips\": 36081.0, \"samples\": 36217, \"m50\": 0.733, \"m50_index\": 19, \"rolling_average\": 0.5571428571428576}, {\"date\": \"2020-08-02\", \"country_code\": \"US\", \"admin_level\": 2, \"admin1\": \"New York\", \"admin2\": \"Queens County\", \"fips\": 36081.0, \"samples\": 39110, \"m50\": 0.062, \"m50_index\": 1, \"rolling_average\": 0.5508571428571433}, {\"date\": \"2020-08-03\", \"country_code\": \"US\", \"admin_level\": 2, \"admin1\": \"New York\", \"admin2\": \"Queens County\", \"fips\": 36081.0, \"samples\": 39985, \"m50\": 0.601, \"m50_index\": 15, \"rolling_average\": 0.5854285714285717}, {\"date\": \"2020-08-04\", \"country_code\": \"US\", \"admin_level\": 2, \"admin1\": \"New York\", \"admin2\": \"Queens County\", \"fips\": 36081.0, \"samples\": 39689, \"m50\": 0.171, \"m50_index\": 4, \"rolling_average\": 0.5271428571428576}, {\"date\": \"2020-08-05\", \"country_code\": \"US\", \"admin_level\": 2, \"admin1\": \"New York\", \"admin2\": \"Queens County\", \"fips\": 36081.0, \"samples\": 36554, \"m50\": 0.9059999999999999, \"m50_index\": 23, \"rolling_average\": 0.5657142857142861}, {\"date\": \"2020-08-06\", \"country_code\": \"US\", \"admin_level\": 2, \"admin1\": \"New York\", \"admin2\": \"Queens County\", \"fips\": 36081.0, \"samples\": 40105, \"m50\": 0.789, \"m50_index\": 20, \"rolling_average\": 0.5788571428571432}, {\"date\": \"2020-08-07\", \"country_code\": \"US\", \"admin_level\": 2, \"admin1\": \"New York\", \"admin2\": \"Queens County\", \"fips\": 36081.0, \"samples\": 37762, \"m50\": 0.857, \"m50_index\": 22, \"rolling_average\": 0.5884285714285717}, {\"date\": \"2020-08-08\", \"country_code\": \"US\", \"admin_level\": 2, \"admin1\": \"New York\", \"admin2\": \"Queens County\", \"fips\": 36081.0, \"samples\": 32671, \"m50\": 0.7140000000000001, \"m50_index\": 18, \"rolling_average\": 0.5857142857142862}, {\"date\": \"2020-08-09\", \"country_code\": \"US\", \"admin_level\": 2, \"admin1\": \"New York\", \"admin2\": \"Queens County\", \"fips\": 36081.0, \"samples\": 33830, \"m50\": 0.221, \"m50_index\": 5, \"rolling_average\": 0.6084285714285719}, {\"date\": \"2020-08-10\", \"country_code\": \"US\", \"admin_level\": 2, \"admin1\": \"New York\", \"admin2\": \"Queens County\", \"fips\": 36081.0, \"samples\": 36840, \"m50\": 0.825, \"m50_index\": 21, \"rolling_average\": 0.6404285714285719}, {\"date\": \"2020-08-11\", \"country_code\": \"US\", \"admin_level\": 2, \"admin1\": \"New York\", \"admin2\": \"Queens County\", \"fips\": 36081.0, \"samples\": 37263, \"m50\": 0.85, \"m50_index\": 22, \"rolling_average\": 0.7374285714285718}]}}, {\"mode\": \"vega-lite\"});\n",
              "</script>"
            ]
          },
          "metadata": {
            "tags": []
          },
          "execution_count": 57
        }
      ]
    },
    {
      "cell_type": "code",
      "metadata": {
        "id": "k8e9d_OfuXPO",
        "colab_type": "code",
        "colab": {
          "base_uri": "https://localhost:8080/",
          "height": 118
        },
        "outputId": "aa19d0fa-4d88-4498-d44d-ef8e407cf182"
      },
      "source": [
        "queens_social_distancing['rolling_average'] = queens_social_distancing.iloc[:,8].rolling(window=7).mean()\n",
        "\n",
        "base_queens = alt.Chart(queens_social_distancing).mark_bar().encode(\n",
        "    x='monthdate(date):O',\n",
        ").properties(\n",
        "    width=500\n",
        ")\n"
      ],
      "execution_count": 58,
      "outputs": [
        {
          "output_type": "stream",
          "text": [
            "/usr/local/lib/python3.6/dist-packages/ipykernel_launcher.py:1: SettingWithCopyWarning: \n",
            "A value is trying to be set on a copy of a slice from a DataFrame.\n",
            "Try using .loc[row_indexer,col_indexer] = value instead\n",
            "\n",
            "See the caveats in the documentation: https://pandas.pydata.org/pandas-docs/stable/user_guide/indexing.html#returning-a-view-versus-a-copy\n",
            "  \"\"\"Entry point for launching an IPython kernel.\n"
          ],
          "name": "stderr"
        }
      ]
    },
    {
      "cell_type": "code",
      "metadata": {
        "id": "6s3gY6OFuXH0",
        "colab_type": "code",
        "colab": {
          "base_uri": "https://localhost:8080/",
          "height": 343
        },
        "outputId": "7195cb96-8aa2-4c9a-a577-4d23ceedb66b"
      },
      "source": [
        "queens_social_distancing.tail(10)"
      ],
      "execution_count": 61,
      "outputs": [
        {
          "output_type": "execute_result",
          "data": {
            "text/html": [
              "<div>\n",
              "<style scoped>\n",
              "    .dataframe tbody tr th:only-of-type {\n",
              "        vertical-align: middle;\n",
              "    }\n",
              "\n",
              "    .dataframe tbody tr th {\n",
              "        vertical-align: top;\n",
              "    }\n",
              "\n",
              "    .dataframe thead th {\n",
              "        text-align: right;\n",
              "    }\n",
              "</style>\n",
              "<table border=\"1\" class=\"dataframe\">\n",
              "  <thead>\n",
              "    <tr style=\"text-align: right;\">\n",
              "      <th></th>\n",
              "      <th>date</th>\n",
              "      <th>country_code</th>\n",
              "      <th>admin_level</th>\n",
              "      <th>admin1</th>\n",
              "      <th>admin2</th>\n",
              "      <th>fips</th>\n",
              "      <th>samples</th>\n",
              "      <th>m50</th>\n",
              "      <th>m50_index</th>\n",
              "      <th>rolling_average</th>\n",
              "    </tr>\n",
              "  </thead>\n",
              "  <tbody>\n",
              "    <tr>\n",
              "      <th>260977</th>\n",
              "      <td>2020-08-02</td>\n",
              "      <td>US</td>\n",
              "      <td>2</td>\n",
              "      <td>New York</td>\n",
              "      <td>Queens County</td>\n",
              "      <td>36081.0</td>\n",
              "      <td>39110</td>\n",
              "      <td>0.062</td>\n",
              "      <td>1</td>\n",
              "      <td>14.000000</td>\n",
              "    </tr>\n",
              "    <tr>\n",
              "      <th>260978</th>\n",
              "      <td>2020-08-03</td>\n",
              "      <td>US</td>\n",
              "      <td>2</td>\n",
              "      <td>New York</td>\n",
              "      <td>Queens County</td>\n",
              "      <td>36081.0</td>\n",
              "      <td>39985</td>\n",
              "      <td>0.601</td>\n",
              "      <td>15</td>\n",
              "      <td>14.857143</td>\n",
              "    </tr>\n",
              "    <tr>\n",
              "      <th>260979</th>\n",
              "      <td>2020-08-04</td>\n",
              "      <td>US</td>\n",
              "      <td>2</td>\n",
              "      <td>New York</td>\n",
              "      <td>Queens County</td>\n",
              "      <td>36081.0</td>\n",
              "      <td>39689</td>\n",
              "      <td>0.171</td>\n",
              "      <td>4</td>\n",
              "      <td>13.285714</td>\n",
              "    </tr>\n",
              "    <tr>\n",
              "      <th>260980</th>\n",
              "      <td>2020-08-05</td>\n",
              "      <td>US</td>\n",
              "      <td>2</td>\n",
              "      <td>New York</td>\n",
              "      <td>Queens County</td>\n",
              "      <td>36081.0</td>\n",
              "      <td>36554</td>\n",
              "      <td>0.906</td>\n",
              "      <td>23</td>\n",
              "      <td>14.285714</td>\n",
              "    </tr>\n",
              "    <tr>\n",
              "      <th>260981</th>\n",
              "      <td>2020-08-06</td>\n",
              "      <td>US</td>\n",
              "      <td>2</td>\n",
              "      <td>New York</td>\n",
              "      <td>Queens County</td>\n",
              "      <td>36081.0</td>\n",
              "      <td>40105</td>\n",
              "      <td>0.789</td>\n",
              "      <td>20</td>\n",
              "      <td>14.571429</td>\n",
              "    </tr>\n",
              "    <tr>\n",
              "      <th>260982</th>\n",
              "      <td>2020-08-07</td>\n",
              "      <td>US</td>\n",
              "      <td>2</td>\n",
              "      <td>New York</td>\n",
              "      <td>Queens County</td>\n",
              "      <td>36081.0</td>\n",
              "      <td>37762</td>\n",
              "      <td>0.857</td>\n",
              "      <td>22</td>\n",
              "      <td>14.857143</td>\n",
              "    </tr>\n",
              "    <tr>\n",
              "      <th>260983</th>\n",
              "      <td>2020-08-08</td>\n",
              "      <td>US</td>\n",
              "      <td>2</td>\n",
              "      <td>New York</td>\n",
              "      <td>Queens County</td>\n",
              "      <td>36081.0</td>\n",
              "      <td>32671</td>\n",
              "      <td>0.714</td>\n",
              "      <td>18</td>\n",
              "      <td>14.714286</td>\n",
              "    </tr>\n",
              "    <tr>\n",
              "      <th>260984</th>\n",
              "      <td>2020-08-09</td>\n",
              "      <td>US</td>\n",
              "      <td>2</td>\n",
              "      <td>New York</td>\n",
              "      <td>Queens County</td>\n",
              "      <td>36081.0</td>\n",
              "      <td>33830</td>\n",
              "      <td>0.221</td>\n",
              "      <td>5</td>\n",
              "      <td>15.285714</td>\n",
              "    </tr>\n",
              "    <tr>\n",
              "      <th>260985</th>\n",
              "      <td>2020-08-10</td>\n",
              "      <td>US</td>\n",
              "      <td>2</td>\n",
              "      <td>New York</td>\n",
              "      <td>Queens County</td>\n",
              "      <td>36081.0</td>\n",
              "      <td>36840</td>\n",
              "      <td>0.825</td>\n",
              "      <td>21</td>\n",
              "      <td>16.142857</td>\n",
              "    </tr>\n",
              "    <tr>\n",
              "      <th>260986</th>\n",
              "      <td>2020-08-11</td>\n",
              "      <td>US</td>\n",
              "      <td>2</td>\n",
              "      <td>New York</td>\n",
              "      <td>Queens County</td>\n",
              "      <td>36081.0</td>\n",
              "      <td>37263</td>\n",
              "      <td>0.850</td>\n",
              "      <td>22</td>\n",
              "      <td>18.714286</td>\n",
              "    </tr>\n",
              "  </tbody>\n",
              "</table>\n",
              "</div>"
            ],
            "text/plain": [
              "              date country_code  admin_level  ...    m50 m50_index  rolling_average\n",
              "260977  2020-08-02           US            2  ...  0.062         1        14.000000\n",
              "260978  2020-08-03           US            2  ...  0.601        15        14.857143\n",
              "260979  2020-08-04           US            2  ...  0.171         4        13.285714\n",
              "260980  2020-08-05           US            2  ...  0.906        23        14.285714\n",
              "260981  2020-08-06           US            2  ...  0.789        20        14.571429\n",
              "260982  2020-08-07           US            2  ...  0.857        22        14.857143\n",
              "260983  2020-08-08           US            2  ...  0.714        18        14.714286\n",
              "260984  2020-08-09           US            2  ...  0.221         5        15.285714\n",
              "260985  2020-08-10           US            2  ...  0.825        21        16.142857\n",
              "260986  2020-08-11           US            2  ...  0.850        22        18.714286\n",
              "\n",
              "[10 rows x 10 columns]"
            ]
          },
          "metadata": {
            "tags": []
          },
          "execution_count": 61
        }
      ]
    },
    {
      "cell_type": "code",
      "metadata": {
        "id": "A7d2Kcweyekp",
        "colab_type": "code",
        "colab": {
          "base_uri": "https://localhost:8080/",
          "height": 408
        },
        "outputId": "a75128d9-06c0-4030-d524-ccc1e95b7021"
      },
      "source": [
        "base_queens.encode(y=\"rolling_average\").properties(title='Queens County- 7 day rolling average (Social Distancing Metric)')\n"
      ],
      "execution_count": 62,
      "outputs": [
        {
          "output_type": "execute_result",
          "data": {
            "text/plain": [
              "alt.Chart(...)"
            ],
            "text/html": [
              "\n",
              "<div id=\"altair-viz-49f2a570da6d4ab2b49c3e15a55454d0\"></div>\n",
              "<script type=\"text/javascript\">\n",
              "  (function(spec, embedOpt){\n",
              "    let outputDiv = document.currentScript.previousElementSibling;\n",
              "    if (outputDiv.id !== \"altair-viz-49f2a570da6d4ab2b49c3e15a55454d0\") {\n",
              "      outputDiv = document.getElementById(\"altair-viz-49f2a570da6d4ab2b49c3e15a55454d0\");\n",
              "    }\n",
              "    const paths = {\n",
              "      \"vega\": \"https://cdn.jsdelivr.net/npm//vega@5?noext\",\n",
              "      \"vega-lib\": \"https://cdn.jsdelivr.net/npm//vega-lib?noext\",\n",
              "      \"vega-lite\": \"https://cdn.jsdelivr.net/npm//vega-lite@4.8.1?noext\",\n",
              "      \"vega-embed\": \"https://cdn.jsdelivr.net/npm//vega-embed@6?noext\",\n",
              "    };\n",
              "\n",
              "    function loadScript(lib) {\n",
              "      return new Promise(function(resolve, reject) {\n",
              "        var s = document.createElement('script');\n",
              "        s.src = paths[lib];\n",
              "        s.async = true;\n",
              "        s.onload = () => resolve(paths[lib]);\n",
              "        s.onerror = () => reject(`Error loading script: ${paths[lib]}`);\n",
              "        document.getElementsByTagName(\"head\")[0].appendChild(s);\n",
              "      });\n",
              "    }\n",
              "\n",
              "    function showError(err) {\n",
              "      outputDiv.innerHTML = `<div class=\"error\" style=\"color:red;\">${err}</div>`;\n",
              "      throw err;\n",
              "    }\n",
              "\n",
              "    function displayChart(vegaEmbed) {\n",
              "      vegaEmbed(outputDiv, spec, embedOpt)\n",
              "        .catch(err => showError(`Javascript Error: ${err.message}<br>This usually means there's a typo in your chart specification. See the javascript console for the full traceback.`));\n",
              "    }\n",
              "\n",
              "    if(typeof define === \"function\" && define.amd) {\n",
              "      requirejs.config({paths});\n",
              "      require([\"vega-embed\"], displayChart, err => showError(`Error loading script: ${err.message}`));\n",
              "    } else if (typeof vegaEmbed === \"function\") {\n",
              "      displayChart(vegaEmbed);\n",
              "    } else {\n",
              "      loadScript(\"vega\")\n",
              "        .then(() => loadScript(\"vega-lite\"))\n",
              "        .then(() => loadScript(\"vega-embed\"))\n",
              "        .catch(showError)\n",
              "        .then(() => displayChart(vegaEmbed));\n",
              "    }\n",
              "  })({\"config\": {\"view\": {\"continuousWidth\": 400, \"continuousHeight\": 300}}, \"data\": {\"name\": \"data-c87f9b2b46a07bf6a743b8069fc9c04d\"}, \"mark\": \"bar\", \"encoding\": {\"x\": {\"type\": \"ordinal\", \"field\": \"date\", \"timeUnit\": \"monthdate\"}, \"y\": {\"type\": \"quantitative\", \"field\": \"rolling_average\"}}, \"title\": \"Queens County- 7 day rolling average (Social Distancing Metric)\", \"width\": 500, \"$schema\": \"https://vega.github.io/schema/vega-lite/v4.8.1.json\", \"datasets\": {\"data-c87f9b2b46a07bf6a743b8069fc9c04d\": [{\"date\": \"2020-03-01\", \"country_code\": \"US\", \"admin_level\": 2, \"admin1\": \"New York\", \"admin2\": \"Queens County\", \"fips\": 36081.0, \"samples\": 26218, \"m50\": 1.339, \"m50_index\": 35, \"rolling_average\": null}, {\"date\": \"2020-03-02\", \"country_code\": \"US\", \"admin_level\": 2, \"admin1\": \"New York\", \"admin2\": \"Queens County\", \"fips\": 36081.0, \"samples\": 27435, \"m50\": 3.813, \"m50_index\": 99, \"rolling_average\": null}, {\"date\": \"2020-03-03\", \"country_code\": \"US\", \"admin_level\": 2, \"admin1\": \"New York\", \"admin2\": \"Queens County\", \"fips\": 36081.0, \"samples\": 28459, \"m50\": 3.747, \"m50_index\": 98, \"rolling_average\": null}, {\"date\": \"2020-03-04\", \"country_code\": \"US\", \"admin_level\": 2, \"admin1\": \"New York\", \"admin2\": \"Queens County\", \"fips\": 36081.0, \"samples\": 29480, \"m50\": 3.822, \"m50_index\": 99, \"rolling_average\": null}, {\"date\": \"2020-03-05\", \"country_code\": \"US\", \"admin_level\": 2, \"admin1\": \"New York\", \"admin2\": \"Queens County\", \"fips\": 36081.0, \"samples\": 27602, \"m50\": 4.052, \"m50_index\": 106, \"rolling_average\": null}, {\"date\": \"2020-03-06\", \"country_code\": \"US\", \"admin_level\": 2, \"admin1\": \"New York\", \"admin2\": \"Queens County\", \"fips\": 36081.0, \"samples\": 27713, \"m50\": 3.9210000000000003, \"m50_index\": 102, \"rolling_average\": null}, {\"date\": \"2020-03-07\", \"country_code\": \"US\", \"admin_level\": 2, \"admin1\": \"New York\", \"admin2\": \"Queens County\", \"fips\": 36081.0, \"samples\": 27919, \"m50\": 2.189, \"m50_index\": 57, \"rolling_average\": 85.14285714285714}, {\"date\": \"2020-03-08\", \"country_code\": \"US\", \"admin_level\": 2, \"admin1\": \"New York\", \"admin2\": \"Queens County\", \"fips\": 36081.0, \"samples\": 29098, \"m50\": 1.172, \"m50_index\": 30, \"rolling_average\": 84.42857142857143}, {\"date\": \"2020-03-09\", \"country_code\": \"US\", \"admin_level\": 2, \"admin1\": \"New York\", \"admin2\": \"Queens County\", \"fips\": 36081.0, \"samples\": 29449, \"m50\": 3.528, \"m50_index\": 92, \"rolling_average\": 83.42857142857143}, {\"date\": \"2020-03-10\", \"country_code\": \"US\", \"admin_level\": 2, \"admin1\": \"New York\", \"admin2\": \"Queens County\", \"fips\": 36081.0, \"samples\": 28607, \"m50\": 3.375, \"m50_index\": 88, \"rolling_average\": 82.0}, {\"date\": \"2020-03-11\", \"country_code\": \"US\", \"admin_level\": 2, \"admin1\": \"New York\", \"admin2\": \"Queens County\", \"fips\": 36081.0, \"samples\": 28585, \"m50\": 3.495, \"m50_index\": 91, \"rolling_average\": 80.85714285714286}, {\"date\": \"2020-03-12\", \"country_code\": \"US\", \"admin_level\": 2, \"admin1\": \"New York\", \"admin2\": \"Queens County\", \"fips\": 36081.0, \"samples\": 28488, \"m50\": 3.193, \"m50_index\": 83, \"rolling_average\": 77.57142857142857}, {\"date\": \"2020-03-13\", \"country_code\": \"US\", \"admin_level\": 2, \"admin1\": \"New York\", \"admin2\": \"Queens County\", \"fips\": 36081.0, \"samples\": 27467, \"m50\": 2.8160000000000003, \"m50_index\": 73, \"rolling_average\": 73.42857142857143}, {\"date\": \"2020-03-14\", \"country_code\": \"US\", \"admin_level\": 2, \"admin1\": \"New York\", \"admin2\": \"Queens County\", \"fips\": 36081.0, \"samples\": 25669, \"m50\": 1.021, \"m50_index\": 26, \"rolling_average\": 69.0}, {\"date\": \"2020-03-15\", \"country_code\": \"US\", \"admin_level\": 2, \"admin1\": \"New York\", \"admin2\": \"Queens County\", \"fips\": 36081.0, \"samples\": 25555, \"m50\": 0.3, \"m50_index\": 7, \"rolling_average\": 65.71428571428571}, {\"date\": \"2020-03-16\", \"country_code\": \"US\", \"admin_level\": 2, \"admin1\": \"New York\", \"admin2\": \"Queens County\", \"fips\": 36081.0, \"samples\": 25482, \"m50\": 0.86, \"m50_index\": 22, \"rolling_average\": 55.714285714285715}, {\"date\": \"2020-03-17\", \"country_code\": \"US\", \"admin_level\": 2, \"admin1\": \"New York\", \"admin2\": \"Queens County\", \"fips\": 36081.0, \"samples\": 27584, \"m50\": 0.249, \"m50_index\": 6, \"rolling_average\": 44.0}, {\"date\": \"2020-03-18\", \"country_code\": \"US\", \"admin_level\": 2, \"admin1\": \"New York\", \"admin2\": \"Queens County\", \"fips\": 36081.0, \"samples\": 26104, \"m50\": 0.177, \"m50_index\": 4, \"rolling_average\": 31.571428571428573}, {\"date\": \"2020-03-19\", \"country_code\": \"US\", \"admin_level\": 2, \"admin1\": \"New York\", \"admin2\": \"Queens County\", \"fips\": 36081.0, \"samples\": 26152, \"m50\": 0.061, \"m50_index\": 1, \"rolling_average\": 19.857142857142858}, {\"date\": \"2020-03-20\", \"country_code\": \"US\", \"admin_level\": 2, \"admin1\": \"New York\", \"admin2\": \"Queens County\", \"fips\": 36081.0, \"samples\": 23521, \"m50\": 0.068, \"m50_index\": 1, \"rolling_average\": 9.571428571428571}, {\"date\": \"2020-03-21\", \"country_code\": \"US\", \"admin_level\": 2, \"admin1\": \"New York\", \"admin2\": \"Queens County\", \"fips\": 36081.0, \"samples\": 21635, \"m50\": 0.024, \"m50_index\": 0, \"rolling_average\": 5.857142857142857}, {\"date\": \"2020-03-22\", \"country_code\": \"US\", \"admin_level\": 2, \"admin1\": \"New York\", \"admin2\": \"Queens County\", \"fips\": 36081.0, \"samples\": 22604, \"m50\": 0.018000000000000002, \"m50_index\": 0, \"rolling_average\": 4.857142857142857}, {\"date\": \"2020-03-23\", \"country_code\": \"US\", \"admin_level\": 2, \"admin1\": \"New York\", \"admin2\": \"Queens County\", \"fips\": 36081.0, \"samples\": 24428, \"m50\": 0.017, \"m50_index\": 0, \"rolling_average\": 1.7142857142857142}, {\"date\": \"2020-03-24\", \"country_code\": \"US\", \"admin_level\": 2, \"admin1\": \"New York\", \"admin2\": \"Queens County\", \"fips\": 36081.0, \"samples\": 25039, \"m50\": 0.02, \"m50_index\": 0, \"rolling_average\": 0.8571428571428571}, {\"date\": \"2020-03-25\", \"country_code\": \"US\", \"admin_level\": 2, \"admin1\": \"New York\", \"admin2\": \"Queens County\", \"fips\": 36081.0, \"samples\": 23880, \"m50\": 0.018000000000000002, \"m50_index\": 0, \"rolling_average\": 0.2857142857142857}, {\"date\": \"2020-03-26\", \"country_code\": \"US\", \"admin_level\": 2, \"admin1\": \"New York\", \"admin2\": \"Queens County\", \"fips\": 36081.0, \"samples\": 25243, \"m50\": 0.019, \"m50_index\": 0, \"rolling_average\": 0.14285714285714285}, {\"date\": \"2020-03-27\", \"country_code\": \"US\", \"admin_level\": 2, \"admin1\": \"New York\", \"admin2\": \"Queens County\", \"fips\": 36081.0, \"samples\": 25761, \"m50\": 0.019, \"m50_index\": 0, \"rolling_average\": 0.0}, {\"date\": \"2020-03-28\", \"country_code\": \"US\", \"admin_level\": 2, \"admin1\": \"New York\", \"admin2\": \"Queens County\", \"fips\": 36081.0, \"samples\": 23756, \"m50\": 0.015, \"m50_index\": 0, \"rolling_average\": 0.0}, {\"date\": \"2020-03-29\", \"country_code\": \"US\", \"admin_level\": 2, \"admin1\": \"New York\", \"admin2\": \"Queens County\", \"fips\": 36081.0, \"samples\": 23988, \"m50\": 0.013999999999999999, \"m50_index\": 0, \"rolling_average\": 0.0}, {\"date\": \"2020-03-30\", \"country_code\": \"US\", \"admin_level\": 2, \"admin1\": \"New York\", \"admin2\": \"Queens County\", \"fips\": 36081.0, \"samples\": 25036, \"m50\": 0.016, \"m50_index\": 0, \"rolling_average\": 0.0}, {\"date\": \"2020-03-31\", \"country_code\": \"US\", \"admin_level\": 2, \"admin1\": \"New York\", \"admin2\": \"Queens County\", \"fips\": 36081.0, \"samples\": 24775, \"m50\": 0.016, \"m50_index\": 0, \"rolling_average\": 0.0}, {\"date\": \"2020-04-01\", \"country_code\": \"US\", \"admin_level\": 2, \"admin1\": \"New York\", \"admin2\": \"Queens County\", \"fips\": 36081.0, \"samples\": 24577, \"m50\": 0.016, \"m50_index\": 0, \"rolling_average\": 0.0}, {\"date\": \"2020-04-02\", \"country_code\": \"US\", \"admin_level\": 2, \"admin1\": \"New York\", \"admin2\": \"Queens County\", \"fips\": 36081.0, \"samples\": 24161, \"m50\": 0.017, \"m50_index\": 0, \"rolling_average\": 0.0}, {\"date\": \"2020-04-03\", \"country_code\": \"US\", \"admin_level\": 2, \"admin1\": \"New York\", \"admin2\": \"Queens County\", \"fips\": 36081.0, \"samples\": 23170, \"m50\": 0.016, \"m50_index\": 0, \"rolling_average\": 0.0}, {\"date\": \"2020-04-04\", \"country_code\": \"US\", \"admin_level\": 2, \"admin1\": \"New York\", \"admin2\": \"Queens County\", \"fips\": 36081.0, \"samples\": 22138, \"m50\": 0.016, \"m50_index\": 0, \"rolling_average\": 0.0}, {\"date\": \"2020-04-05\", \"country_code\": \"US\", \"admin_level\": 2, \"admin1\": \"New York\", \"admin2\": \"Queens County\", \"fips\": 36081.0, \"samples\": 25254, \"m50\": 0.015, \"m50_index\": 0, \"rolling_average\": 0.0}, {\"date\": \"2020-04-06\", \"country_code\": \"US\", \"admin_level\": 2, \"admin1\": \"New York\", \"admin2\": \"Queens County\", \"fips\": 36081.0, \"samples\": 22835, \"m50\": 0.017, \"m50_index\": 0, \"rolling_average\": 0.0}, {\"date\": \"2020-04-07\", \"country_code\": \"US\", \"admin_level\": 2, \"admin1\": \"New York\", \"admin2\": \"Queens County\", \"fips\": 36081.0, \"samples\": 23289, \"m50\": 0.017, \"m50_index\": 0, \"rolling_average\": 0.0}, {\"date\": \"2020-04-08\", \"country_code\": \"US\", \"admin_level\": 2, \"admin1\": \"New York\", \"admin2\": \"Queens County\", \"fips\": 36081.0, \"samples\": 23825, \"m50\": 0.016, \"m50_index\": 0, \"rolling_average\": 0.0}, {\"date\": \"2020-04-09\", \"country_code\": \"US\", \"admin_level\": 2, \"admin1\": \"New York\", \"admin2\": \"Queens County\", \"fips\": 36081.0, \"samples\": 23714, \"m50\": 0.015, \"m50_index\": 0, \"rolling_average\": 0.0}, {\"date\": \"2020-04-10\", \"country_code\": \"US\", \"admin_level\": 2, \"admin1\": \"New York\", \"admin2\": \"Queens County\", \"fips\": 36081.0, \"samples\": 22224, \"m50\": 0.015, \"m50_index\": 0, \"rolling_average\": 0.0}, {\"date\": \"2020-04-11\", \"country_code\": \"US\", \"admin_level\": 2, \"admin1\": \"New York\", \"admin2\": \"Queens County\", \"fips\": 36081.0, \"samples\": 23689, \"m50\": 0.015, \"m50_index\": 0, \"rolling_average\": 0.0}, {\"date\": \"2020-04-12\", \"country_code\": \"US\", \"admin_level\": 2, \"admin1\": \"New York\", \"admin2\": \"Queens County\", \"fips\": 36081.0, \"samples\": 23040, \"m50\": 0.013999999999999999, \"m50_index\": 0, \"rolling_average\": 0.0}, {\"date\": \"2020-04-13\", \"country_code\": \"US\", \"admin_level\": 2, \"admin1\": \"New York\", \"admin2\": \"Queens County\", \"fips\": 36081.0, \"samples\": 22462, \"m50\": 0.013999999999999999, \"m50_index\": 0, \"rolling_average\": 0.0}, {\"date\": \"2020-04-14\", \"country_code\": \"US\", \"admin_level\": 2, \"admin1\": \"New York\", \"admin2\": \"Queens County\", \"fips\": 36081.0, \"samples\": 24095, \"m50\": 0.017, \"m50_index\": 0, \"rolling_average\": 0.0}, {\"date\": \"2020-04-15\", \"country_code\": \"US\", \"admin_level\": 2, \"admin1\": \"New York\", \"admin2\": \"Queens County\", \"fips\": 36081.0, \"samples\": 25184, \"m50\": 0.017, \"m50_index\": 0, \"rolling_average\": 0.0}, {\"date\": \"2020-04-16\", \"country_code\": \"US\", \"admin_level\": 2, \"admin1\": \"New York\", \"admin2\": \"Queens County\", \"fips\": 36081.0, \"samples\": 24071, \"m50\": 0.017, \"m50_index\": 0, \"rolling_average\": 0.0}, {\"date\": \"2020-04-17\", \"country_code\": \"US\", \"admin_level\": 2, \"admin1\": \"New York\", \"admin2\": \"Queens County\", \"fips\": 36081.0, \"samples\": 24004, \"m50\": 0.018000000000000002, \"m50_index\": 0, \"rolling_average\": 0.0}, {\"date\": \"2020-04-18\", \"country_code\": \"US\", \"admin_level\": 2, \"admin1\": \"New York\", \"admin2\": \"Queens County\", \"fips\": 36081.0, \"samples\": 23458, \"m50\": 0.015, \"m50_index\": 0, \"rolling_average\": 0.0}, {\"date\": \"2020-04-19\", \"country_code\": \"US\", \"admin_level\": 2, \"admin1\": \"New York\", \"admin2\": \"Queens County\", \"fips\": 36081.0, \"samples\": 22917, \"m50\": 0.015, \"m50_index\": 0, \"rolling_average\": 0.0}, {\"date\": \"2020-04-21\", \"country_code\": \"US\", \"admin_level\": 2, \"admin1\": \"New York\", \"admin2\": \"Queens County\", \"fips\": 36081.0, \"samples\": 30068, \"m50\": 0.017, \"m50_index\": 0, \"rolling_average\": 0.0}, {\"date\": \"2020-04-22\", \"country_code\": \"US\", \"admin_level\": 2, \"admin1\": \"New York\", \"admin2\": \"Queens County\", \"fips\": 36081.0, \"samples\": 30795, \"m50\": 0.019, \"m50_index\": 0, \"rolling_average\": 0.0}, {\"date\": \"2020-04-23\", \"country_code\": \"US\", \"admin_level\": 2, \"admin1\": \"New York\", \"admin2\": \"Queens County\", \"fips\": 36081.0, \"samples\": 31301, \"m50\": 0.02, \"m50_index\": 0, \"rolling_average\": 0.0}, {\"date\": \"2020-04-24\", \"country_code\": \"US\", \"admin_level\": 2, \"admin1\": \"New York\", \"admin2\": \"Queens County\", \"fips\": 36081.0, \"samples\": 28454, \"m50\": 0.019, \"m50_index\": 0, \"rolling_average\": 0.0}, {\"date\": \"2020-04-25\", \"country_code\": \"US\", \"admin_level\": 2, \"admin1\": \"New York\", \"admin2\": \"Queens County\", \"fips\": 36081.0, \"samples\": 30229, \"m50\": 0.019, \"m50_index\": 0, \"rolling_average\": 0.0}, {\"date\": \"2020-04-26\", \"country_code\": \"US\", \"admin_level\": 2, \"admin1\": \"New York\", \"admin2\": \"Queens County\", \"fips\": 36081.0, \"samples\": 29938, \"m50\": 0.013999999999999999, \"m50_index\": 0, \"rolling_average\": 0.0}, {\"date\": \"2020-04-27\", \"country_code\": \"US\", \"admin_level\": 2, \"admin1\": \"New York\", \"admin2\": \"Queens County\", \"fips\": 36081.0, \"samples\": 30392, \"m50\": 0.018000000000000002, \"m50_index\": 0, \"rolling_average\": 0.0}, {\"date\": \"2020-04-28\", \"country_code\": \"US\", \"admin_level\": 2, \"admin1\": \"New York\", \"admin2\": \"Queens County\", \"fips\": 36081.0, \"samples\": 33313, \"m50\": 0.021, \"m50_index\": 0, \"rolling_average\": 0.0}, {\"date\": \"2020-04-29\", \"country_code\": \"US\", \"admin_level\": 2, \"admin1\": \"New York\", \"admin2\": \"Queens County\", \"fips\": 36081.0, \"samples\": 30027, \"m50\": 0.019, \"m50_index\": 0, \"rolling_average\": 0.0}, {\"date\": \"2020-04-30\", \"country_code\": \"US\", \"admin_level\": 2, \"admin1\": \"New York\", \"admin2\": \"Queens County\", \"fips\": 36081.0, \"samples\": 35706, \"m50\": 0.017, \"m50_index\": 0, \"rolling_average\": 0.0}, {\"date\": \"2020-05-01\", \"country_code\": \"US\", \"admin_level\": 2, \"admin1\": \"New York\", \"admin2\": \"Queens County\", \"fips\": 36081.0, \"samples\": 33325, \"m50\": 0.02, \"m50_index\": 0, \"rolling_average\": 0.0}, {\"date\": \"2020-05-02\", \"country_code\": \"US\", \"admin_level\": 2, \"admin1\": \"New York\", \"admin2\": \"Queens County\", \"fips\": 36081.0, \"samples\": 35586, \"m50\": 0.024, \"m50_index\": 0, \"rolling_average\": 0.0}, {\"date\": \"2020-05-03\", \"country_code\": \"US\", \"admin_level\": 2, \"admin1\": \"New York\", \"admin2\": \"Queens County\", \"fips\": 36081.0, \"samples\": 35575, \"m50\": 0.02, \"m50_index\": 0, \"rolling_average\": 0.0}, {\"date\": \"2020-05-04\", \"country_code\": \"US\", \"admin_level\": 2, \"admin1\": \"New York\", \"admin2\": \"Queens County\", \"fips\": 36081.0, \"samples\": 26165, \"m50\": 0.019, \"m50_index\": 0, \"rolling_average\": 0.0}, {\"date\": \"2020-05-05\", \"country_code\": \"US\", \"admin_level\": 2, \"admin1\": \"New York\", \"admin2\": \"Queens County\", \"fips\": 36081.0, \"samples\": 26633, \"m50\": 0.021, \"m50_index\": 0, \"rolling_average\": 0.0}, {\"date\": \"2020-05-06\", \"country_code\": \"US\", \"admin_level\": 2, \"admin1\": \"New York\", \"admin2\": \"Queens County\", \"fips\": 36081.0, \"samples\": 27819, \"m50\": 0.02, \"m50_index\": 0, \"rolling_average\": 0.0}, {\"date\": \"2020-05-07\", \"country_code\": \"US\", \"admin_level\": 2, \"admin1\": \"New York\", \"admin2\": \"Queens County\", \"fips\": 36081.0, \"samples\": 29651, \"m50\": 0.022000000000000002, \"m50_index\": 0, \"rolling_average\": 0.0}, {\"date\": \"2020-05-08\", \"country_code\": \"US\", \"admin_level\": 2, \"admin1\": \"New York\", \"admin2\": \"Queens County\", \"fips\": 36081.0, \"samples\": 27390, \"m50\": 0.019, \"m50_index\": 0, \"rolling_average\": 0.0}, {\"date\": \"2020-05-09\", \"country_code\": \"US\", \"admin_level\": 2, \"admin1\": \"New York\", \"admin2\": \"Queens County\", \"fips\": 36081.0, \"samples\": 27340, \"m50\": 0.017, \"m50_index\": 0, \"rolling_average\": 0.0}, {\"date\": \"2020-05-10\", \"country_code\": \"US\", \"admin_level\": 2, \"admin1\": \"New York\", \"admin2\": \"Queens County\", \"fips\": 36081.0, \"samples\": 27660, \"m50\": 0.017, \"m50_index\": 0, \"rolling_average\": 0.0}, {\"date\": \"2020-05-11\", \"country_code\": \"US\", \"admin_level\": 2, \"admin1\": \"New York\", \"admin2\": \"Queens County\", \"fips\": 36081.0, \"samples\": 27697, \"m50\": 0.017, \"m50_index\": 0, \"rolling_average\": 0.0}, {\"date\": \"2020-05-12\", \"country_code\": \"US\", \"admin_level\": 2, \"admin1\": \"New York\", \"admin2\": \"Queens County\", \"fips\": 36081.0, \"samples\": 29950, \"m50\": 0.021, \"m50_index\": 0, \"rolling_average\": 0.0}, {\"date\": \"2020-05-13\", \"country_code\": \"US\", \"admin_level\": 2, \"admin1\": \"New York\", \"admin2\": \"Queens County\", \"fips\": 36081.0, \"samples\": 28052, \"m50\": 0.02, \"m50_index\": 0, \"rolling_average\": 0.0}, {\"date\": \"2020-05-14\", \"country_code\": \"US\", \"admin_level\": 2, \"admin1\": \"New York\", \"admin2\": \"Queens County\", \"fips\": 36081.0, \"samples\": 28825, \"m50\": 0.02, \"m50_index\": 0, \"rolling_average\": 0.0}, {\"date\": \"2020-05-15\", \"country_code\": \"US\", \"admin_level\": 2, \"admin1\": \"New York\", \"admin2\": \"Queens County\", \"fips\": 36081.0, \"samples\": 39926, \"m50\": 0.027999999999999997, \"m50_index\": 0, \"rolling_average\": 0.0}, {\"date\": \"2020-05-16\", \"country_code\": \"US\", \"admin_level\": 2, \"admin1\": \"New York\", \"admin2\": \"Queens County\", \"fips\": 36081.0, \"samples\": 38747, \"m50\": 0.025, \"m50_index\": 0, \"rolling_average\": 0.0}, {\"date\": \"2020-05-17\", \"country_code\": \"US\", \"admin_level\": 2, \"admin1\": \"New York\", \"admin2\": \"Queens County\", \"fips\": 36081.0, \"samples\": 38293, \"m50\": 0.02, \"m50_index\": 0, \"rolling_average\": 0.0}, {\"date\": \"2020-05-18\", \"country_code\": \"US\", \"admin_level\": 2, \"admin1\": \"New York\", \"admin2\": \"Queens County\", \"fips\": 36081.0, \"samples\": 40419, \"m50\": 0.024, \"m50_index\": 0, \"rolling_average\": 0.0}, {\"date\": \"2020-05-19\", \"country_code\": \"US\", \"admin_level\": 2, \"admin1\": \"New York\", \"admin2\": \"Queens County\", \"fips\": 36081.0, \"samples\": 39526, \"m50\": 0.023, \"m50_index\": 0, \"rolling_average\": 0.0}, {\"date\": \"2020-05-20\", \"country_code\": \"US\", \"admin_level\": 2, \"admin1\": \"New York\", \"admin2\": \"Queens County\", \"fips\": 36081.0, \"samples\": 39474, \"m50\": 0.028999999999999998, \"m50_index\": 0, \"rolling_average\": 0.0}, {\"date\": \"2020-05-21\", \"country_code\": \"US\", \"admin_level\": 2, \"admin1\": \"New York\", \"admin2\": \"Queens County\", \"fips\": 36081.0, \"samples\": 39720, \"m50\": 0.032, \"m50_index\": 0, \"rolling_average\": 0.0}, {\"date\": \"2020-05-22\", \"country_code\": \"US\", \"admin_level\": 2, \"admin1\": \"New York\", \"admin2\": \"Queens County\", \"fips\": 36081.0, \"samples\": 42259, \"m50\": 0.042, \"m50_index\": 1, \"rolling_average\": 0.14285714285714285}, {\"date\": \"2020-05-23\", \"country_code\": \"US\", \"admin_level\": 2, \"admin1\": \"New York\", \"admin2\": \"Queens County\", \"fips\": 36081.0, \"samples\": 40285, \"m50\": 0.021, \"m50_index\": 0, \"rolling_average\": 0.14285714285714285}, {\"date\": \"2020-05-24\", \"country_code\": \"US\", \"admin_level\": 2, \"admin1\": \"New York\", \"admin2\": \"Queens County\", \"fips\": 36081.0, \"samples\": 40561, \"m50\": 0.028999999999999998, \"m50_index\": 0, \"rolling_average\": 0.14285714285714285}, {\"date\": \"2020-05-25\", \"country_code\": \"US\", \"admin_level\": 2, \"admin1\": \"New York\", \"admin2\": \"Queens County\", \"fips\": 36081.0, \"samples\": 40879, \"m50\": 0.027000000000000003, \"m50_index\": 0, \"rolling_average\": 0.14285714285714285}, {\"date\": \"2020-05-26\", \"country_code\": \"US\", \"admin_level\": 2, \"admin1\": \"New York\", \"admin2\": \"Queens County\", \"fips\": 36081.0, \"samples\": 38978, \"m50\": 0.044000000000000004, \"m50_index\": 1, \"rolling_average\": 0.2857142857142857}, {\"date\": \"2020-05-27\", \"country_code\": \"US\", \"admin_level\": 2, \"admin1\": \"New York\", \"admin2\": \"Queens County\", \"fips\": 36081.0, \"samples\": 37472, \"m50\": 0.04, \"m50_index\": 1, \"rolling_average\": 0.42857142857142855}, {\"date\": \"2020-05-28\", \"country_code\": \"US\", \"admin_level\": 2, \"admin1\": \"New York\", \"admin2\": \"Queens County\", \"fips\": 36081.0, \"samples\": 37199, \"m50\": 0.031, \"m50_index\": 0, \"rolling_average\": 0.42857142857142855}, {\"date\": \"2020-05-30\", \"country_code\": \"US\", \"admin_level\": 2, \"admin1\": \"New York\", \"admin2\": \"Queens County\", \"fips\": 36081.0, \"samples\": 32611, \"m50\": 0.037000000000000005, \"m50_index\": 0, \"rolling_average\": 0.2857142857142857}, {\"date\": \"2020-05-31\", \"country_code\": \"US\", \"admin_level\": 2, \"admin1\": \"New York\", \"admin2\": \"Queens County\", \"fips\": 36081.0, \"samples\": 26615, \"m50\": 0.024, \"m50_index\": 0, \"rolling_average\": 0.2857142857142857}, {\"date\": \"2020-06-01\", \"country_code\": \"US\", \"admin_level\": 2, \"admin1\": \"New York\", \"admin2\": \"Queens County\", \"fips\": 36081.0, \"samples\": 40767, \"m50\": 0.047, \"m50_index\": 1, \"rolling_average\": 0.42857142857142855}, {\"date\": \"2020-06-02\", \"country_code\": \"US\", \"admin_level\": 2, \"admin1\": \"New York\", \"admin2\": \"Queens County\", \"fips\": 36081.0, \"samples\": 29906, \"m50\": 0.031, \"m50_index\": 0, \"rolling_average\": 0.42857142857142855}, {\"date\": \"2020-06-03\", \"country_code\": \"US\", \"admin_level\": 2, \"admin1\": \"New York\", \"admin2\": \"Queens County\", \"fips\": 36081.0, \"samples\": 41971, \"m50\": 0.051, \"m50_index\": 1, \"rolling_average\": 0.42857142857142855}, {\"date\": \"2020-06-04\", \"country_code\": \"US\", \"admin_level\": 2, \"admin1\": \"New York\", \"admin2\": \"Queens County\", \"fips\": 36081.0, \"samples\": 37294, \"m50\": 0.057, \"m50_index\": 1, \"rolling_average\": 0.42857142857142855}, {\"date\": \"2020-06-05\", \"country_code\": \"US\", \"admin_level\": 2, \"admin1\": \"New York\", \"admin2\": \"Queens County\", \"fips\": 36081.0, \"samples\": 35655, \"m50\": 0.047, \"m50_index\": 1, \"rolling_average\": 0.5714285714285714}, {\"date\": \"2020-06-06\", \"country_code\": \"US\", \"admin_level\": 2, \"admin1\": \"New York\", \"admin2\": \"Queens County\", \"fips\": 36081.0, \"samples\": 35354, \"m50\": 0.048, \"m50_index\": 1, \"rolling_average\": 0.7142857142857143}, {\"date\": \"2020-06-07\", \"country_code\": \"US\", \"admin_level\": 2, \"admin1\": \"New York\", \"admin2\": \"Queens County\", \"fips\": 36081.0, \"samples\": 36384, \"m50\": 0.033, \"m50_index\": 0, \"rolling_average\": 0.7142857142857143}, {\"date\": \"2020-06-08\", \"country_code\": \"US\", \"admin_level\": 2, \"admin1\": \"New York\", \"admin2\": \"Queens County\", \"fips\": 36081.0, \"samples\": 38179, \"m50\": 0.175, \"m50_index\": 4, \"rolling_average\": 1.1428571428571428}, {\"date\": \"2020-06-09\", \"country_code\": \"US\", \"admin_level\": 2, \"admin1\": \"New York\", \"admin2\": \"Queens County\", \"fips\": 36081.0, \"samples\": 36769, \"m50\": 0.17800000000000002, \"m50_index\": 4, \"rolling_average\": 1.7142857142857142}, {\"date\": \"2020-06-10\", \"country_code\": \"US\", \"admin_level\": 2, \"admin1\": \"New York\", \"admin2\": \"Queens County\", \"fips\": 36081.0, \"samples\": 36739, \"m50\": 0.179, \"m50_index\": 4, \"rolling_average\": 2.142857142857143}, {\"date\": \"2020-06-11\", \"country_code\": \"US\", \"admin_level\": 2, \"admin1\": \"New York\", \"admin2\": \"Queens County\", \"fips\": 36081.0, \"samples\": 39754, \"m50\": 0.095, \"m50_index\": 2, \"rolling_average\": 2.2857142857142856}, {\"date\": \"2020-06-12\", \"country_code\": \"US\", \"admin_level\": 2, \"admin1\": \"New York\", \"admin2\": \"Queens County\", \"fips\": 36081.0, \"samples\": 35949, \"m50\": 0.179, \"m50_index\": 4, \"rolling_average\": 2.7142857142857144}, {\"date\": \"2020-06-13\", \"country_code\": \"US\", \"admin_level\": 2, \"admin1\": \"New York\", \"admin2\": \"Queens County\", \"fips\": 36081.0, \"samples\": 35069, \"m50\": 0.138, \"m50_index\": 3, \"rolling_average\": 3.0}, {\"date\": \"2020-06-14\", \"country_code\": \"US\", \"admin_level\": 2, \"admin1\": \"New York\", \"admin2\": \"Queens County\", \"fips\": 36081.0, \"samples\": 34220, \"m50\": 0.036000000000000004, \"m50_index\": 0, \"rolling_average\": 3.0}, {\"date\": \"2020-06-15\", \"country_code\": \"US\", \"admin_level\": 2, \"admin1\": \"New York\", \"admin2\": \"Queens County\", \"fips\": 36081.0, \"samples\": 36914, \"m50\": 0.08, \"m50_index\": 2, \"rolling_average\": 2.7142857142857144}, {\"date\": \"2020-06-16\", \"country_code\": \"US\", \"admin_level\": 2, \"admin1\": \"New York\", \"admin2\": \"Queens County\", \"fips\": 36081.0, \"samples\": 33847, \"m50\": 0.102, \"m50_index\": 2, \"rolling_average\": 2.4285714285714284}, {\"date\": \"2020-06-17\", \"country_code\": \"US\", \"admin_level\": 2, \"admin1\": \"New York\", \"admin2\": \"Queens County\", \"fips\": 36081.0, \"samples\": 36881, \"m50\": 0.23399999999999999, \"m50_index\": 6, \"rolling_average\": 2.7142857142857144}, {\"date\": \"2020-06-18\", \"country_code\": \"US\", \"admin_level\": 2, \"admin1\": \"New York\", \"admin2\": \"Queens County\", \"fips\": 36081.0, \"samples\": 34322, \"m50\": 0.302, \"m50_index\": 7, \"rolling_average\": 3.4285714285714284}, {\"date\": \"2020-06-19\", \"country_code\": \"US\", \"admin_level\": 2, \"admin1\": \"New York\", \"admin2\": \"Queens County\", \"fips\": 36081.0, \"samples\": 43017, \"m50\": 0.648, \"m50_index\": 16, \"rolling_average\": 5.142857142857143}, {\"date\": \"2020-06-20\", \"country_code\": \"US\", \"admin_level\": 2, \"admin1\": \"New York\", \"admin2\": \"Queens County\", \"fips\": 36081.0, \"samples\": 34928, \"m50\": 0.22399999999999998, \"m50_index\": 5, \"rolling_average\": 5.428571428571429}, {\"date\": \"2020-06-21\", \"country_code\": \"US\", \"admin_level\": 2, \"admin1\": \"New York\", \"admin2\": \"Queens County\", \"fips\": 36081.0, \"samples\": 32976, \"m50\": 0.047, \"m50_index\": 1, \"rolling_average\": 5.571428571428571}, {\"date\": \"2020-06-22\", \"country_code\": \"US\", \"admin_level\": 2, \"admin1\": \"New York\", \"admin2\": \"Queens County\", \"fips\": 36081.0, \"samples\": 35069, \"m50\": 0.162, \"m50_index\": 4, \"rolling_average\": 5.857142857142857}, {\"date\": \"2020-06-23\", \"country_code\": \"US\", \"admin_level\": 2, \"admin1\": \"New York\", \"admin2\": \"Queens County\", \"fips\": 36081.0, \"samples\": 35308, \"m50\": 0.41700000000000004, \"m50_index\": 10, \"rolling_average\": 7.0}, {\"date\": \"2020-06-24\", \"country_code\": \"US\", \"admin_level\": 2, \"admin1\": \"New York\", \"admin2\": \"Queens County\", \"fips\": 36081.0, \"samples\": 34002, \"m50\": 0.316, \"m50_index\": 8, \"rolling_average\": 7.285714285714286}, {\"date\": \"2020-06-25\", \"country_code\": \"US\", \"admin_level\": 2, \"admin1\": \"New York\", \"admin2\": \"Queens County\", \"fips\": 36081.0, \"samples\": 32011, \"m50\": 0.522, \"m50_index\": 13, \"rolling_average\": 8.142857142857142}, {\"date\": \"2020-06-26\", \"country_code\": \"US\", \"admin_level\": 2, \"admin1\": \"New York\", \"admin2\": \"Queens County\", \"fips\": 36081.0, \"samples\": 34289, \"m50\": 0.611, \"m50_index\": 15, \"rolling_average\": 8.0}, {\"date\": \"2020-06-27\", \"country_code\": \"US\", \"admin_level\": 2, \"admin1\": \"New York\", \"admin2\": \"Queens County\", \"fips\": 36081.0, \"samples\": 30106, \"m50\": 0.244, \"m50_index\": 6, \"rolling_average\": 8.142857142857142}, {\"date\": \"2020-06-28\", \"country_code\": \"US\", \"admin_level\": 2, \"admin1\": \"New York\", \"admin2\": \"Queens County\", \"fips\": 36081.0, \"samples\": 30992, \"m50\": 0.068, \"m50_index\": 1, \"rolling_average\": 8.142857142857142}, {\"date\": \"2020-06-29\", \"country_code\": \"US\", \"admin_level\": 2, \"admin1\": \"New York\", \"admin2\": \"Queens County\", \"fips\": 36081.0, \"samples\": 25500, \"m50\": 0.37799999999999995, \"m50_index\": 9, \"rolling_average\": 8.857142857142858}, {\"date\": \"2020-06-30\", \"country_code\": \"US\", \"admin_level\": 2, \"admin1\": \"New York\", \"admin2\": \"Queens County\", \"fips\": 36081.0, \"samples\": 33395, \"m50\": 0.653, \"m50_index\": 17, \"rolling_average\": 9.857142857142858}, {\"date\": \"2020-07-01\", \"country_code\": \"US\", \"admin_level\": 2, \"admin1\": \"New York\", \"admin2\": \"Queens County\", \"fips\": 36081.0, \"samples\": 33294, \"m50\": 0.621, \"m50_index\": 16, \"rolling_average\": 11.0}, {\"date\": \"2020-07-02\", \"country_code\": \"US\", \"admin_level\": 2, \"admin1\": \"New York\", \"admin2\": \"Queens County\", \"fips\": 36081.0, \"samples\": 33023, \"m50\": 0.922, \"m50_index\": 24, \"rolling_average\": 12.571428571428571}, {\"date\": \"2020-07-03\", \"country_code\": \"US\", \"admin_level\": 2, \"admin1\": \"New York\", \"admin2\": \"Queens County\", \"fips\": 36081.0, \"samples\": 33604, \"m50\": 0.8390000000000001, \"m50_index\": 21, \"rolling_average\": 13.428571428571429}, {\"date\": \"2020-07-04\", \"country_code\": \"US\", \"admin_level\": 2, \"admin1\": \"New York\", \"admin2\": \"Queens County\", \"fips\": 36081.0, \"samples\": 33334, \"m50\": 0.402, \"m50_index\": 10, \"rolling_average\": 14.0}, {\"date\": \"2020-07-05\", \"country_code\": \"US\", \"admin_level\": 2, \"admin1\": \"New York\", \"admin2\": \"Queens County\", \"fips\": 36081.0, \"samples\": 31200, \"m50\": 0.124, \"m50_index\": 3, \"rolling_average\": 14.285714285714286}, {\"date\": \"2020-07-06\", \"country_code\": \"US\", \"admin_level\": 2, \"admin1\": \"New York\", \"admin2\": \"Queens County\", \"fips\": 36081.0, \"samples\": 31631, \"m50\": 0.466, \"m50_index\": 12, \"rolling_average\": 14.714285714285714}, {\"date\": \"2020-07-07\", \"country_code\": \"US\", \"admin_level\": 2, \"admin1\": \"New York\", \"admin2\": \"Queens County\", \"fips\": 36081.0, \"samples\": 31555, \"m50\": 0.7140000000000001, \"m50_index\": 18, \"rolling_average\": 14.857142857142858}, {\"date\": \"2020-07-08\", \"country_code\": \"US\", \"admin_level\": 2, \"admin1\": \"New York\", \"admin2\": \"Queens County\", \"fips\": 36081.0, \"samples\": 33326, \"m50\": 0.8959999999999999, \"m50_index\": 23, \"rolling_average\": 15.857142857142858}, {\"date\": \"2020-07-09\", \"country_code\": \"US\", \"admin_level\": 2, \"admin1\": \"New York\", \"admin2\": \"Queens County\", \"fips\": 36081.0, \"samples\": 32926, \"m50\": 0.907, \"m50_index\": 23, \"rolling_average\": 15.714285714285714}, {\"date\": \"2020-07-10\", \"country_code\": \"US\", \"admin_level\": 2, \"admin1\": \"New York\", \"admin2\": \"Queens County\", \"fips\": 36081.0, \"samples\": 31912, \"m50\": 0.319, \"m50_index\": 8, \"rolling_average\": 13.857142857142858}, {\"date\": \"2020-07-11\", \"country_code\": \"US\", \"admin_level\": 2, \"admin1\": \"New York\", \"admin2\": \"Queens County\", \"fips\": 36081.0, \"samples\": 31825, \"m50\": 0.551, \"m50_index\": 14, \"rolling_average\": 14.428571428571429}, {\"date\": \"2020-07-12\", \"country_code\": \"US\", \"admin_level\": 2, \"admin1\": \"New York\", \"admin2\": \"Queens County\", \"fips\": 36081.0, \"samples\": 32105, \"m50\": 0.657, \"m50_index\": 17, \"rolling_average\": 16.428571428571427}, {\"date\": \"2020-07-13\", \"country_code\": \"US\", \"admin_level\": 2, \"admin1\": \"New York\", \"admin2\": \"Queens County\", \"fips\": 36081.0, \"samples\": 38635, \"m50\": 0.893, \"m50_index\": 23, \"rolling_average\": 18.0}, {\"date\": \"2020-07-14\", \"country_code\": \"US\", \"admin_level\": 2, \"admin1\": \"New York\", \"admin2\": \"Queens County\", \"fips\": 36081.0, \"samples\": 36785, \"m50\": 1.6680000000000001, \"m50_index\": 43, \"rolling_average\": 21.571428571428573}, {\"date\": \"2020-07-15\", \"country_code\": \"US\", \"admin_level\": 2, \"admin1\": \"New York\", \"admin2\": \"Queens County\", \"fips\": 36081.0, \"samples\": 38229, \"m50\": 1.026, \"m50_index\": 26, \"rolling_average\": 22.0}, {\"date\": \"2020-07-16\", \"country_code\": \"US\", \"admin_level\": 2, \"admin1\": \"New York\", \"admin2\": \"Queens County\", \"fips\": 36081.0, \"samples\": 37077, \"m50\": 0.8540000000000001, \"m50_index\": 22, \"rolling_average\": 21.857142857142858}, {\"date\": \"2020-07-17\", \"country_code\": \"US\", \"admin_level\": 2, \"admin1\": \"New York\", \"admin2\": \"Queens County\", \"fips\": 36081.0, \"samples\": 46856, \"m50\": 1.704, \"m50_index\": 44, \"rolling_average\": 27.0}, {\"date\": \"2020-07-18\", \"country_code\": \"US\", \"admin_level\": 2, \"admin1\": \"New York\", \"admin2\": \"Queens County\", \"fips\": 36081.0, \"samples\": 37215, \"m50\": 0.9670000000000001, \"m50_index\": 25, \"rolling_average\": 28.571428571428573}, {\"date\": \"2020-07-19\", \"country_code\": \"US\", \"admin_level\": 2, \"admin1\": \"New York\", \"admin2\": \"Queens County\", \"fips\": 36081.0, \"samples\": 38818, \"m50\": 0.23399999999999999, \"m50_index\": 6, \"rolling_average\": 27.0}, {\"date\": \"2020-07-20\", \"country_code\": \"US\", \"admin_level\": 2, \"admin1\": \"New York\", \"admin2\": \"Queens County\", \"fips\": 36081.0, \"samples\": 35619, \"m50\": 0.38799999999999996, \"m50_index\": 10, \"rolling_average\": 25.142857142857142}, {\"date\": \"2020-07-21\", \"country_code\": \"US\", \"admin_level\": 2, \"admin1\": \"New York\", \"admin2\": \"Queens County\", \"fips\": 36081.0, \"samples\": 35305, \"m50\": 0.581, \"m50_index\": 15, \"rolling_average\": 21.142857142857142}, {\"date\": \"2020-07-22\", \"country_code\": \"US\", \"admin_level\": 2, \"admin1\": \"New York\", \"admin2\": \"Queens County\", \"fips\": 36081.0, \"samples\": 37921, \"m50\": 0.522, \"m50_index\": 13, \"rolling_average\": 19.285714285714285}, {\"date\": \"2020-07-23\", \"country_code\": \"US\", \"admin_level\": 2, \"admin1\": \"New York\", \"admin2\": \"Queens County\", \"fips\": 36081.0, \"samples\": 38119, \"m50\": 0.489, \"m50_index\": 12, \"rolling_average\": 17.857142857142858}, {\"date\": \"2020-07-24\", \"country_code\": \"US\", \"admin_level\": 2, \"admin1\": \"New York\", \"admin2\": \"Queens County\", \"fips\": 36081.0, \"samples\": 36184, \"m50\": 0.6920000000000001, \"m50_index\": 18, \"rolling_average\": 14.142857142857142}, {\"date\": \"2020-07-25\", \"country_code\": \"US\", \"admin_level\": 2, \"admin1\": \"New York\", \"admin2\": \"Queens County\", \"fips\": 36081.0, \"samples\": 35937, \"m50\": 0.478, \"m50_index\": 12, \"rolling_average\": 12.285714285714286}, {\"date\": \"2020-07-26\", \"country_code\": \"US\", \"admin_level\": 2, \"admin1\": \"New York\", \"admin2\": \"Queens County\", \"fips\": 36081.0, \"samples\": 34290, \"m50\": 0.106, \"m50_index\": 2, \"rolling_average\": 11.714285714285714}, {\"date\": \"2020-07-27\", \"country_code\": \"US\", \"admin_level\": 2, \"admin1\": \"New York\", \"admin2\": \"Queens County\", \"fips\": 36081.0, \"samples\": 37588, \"m50\": 0.359, \"m50_index\": 9, \"rolling_average\": 11.571428571428571}, {\"date\": \"2020-07-28\", \"country_code\": \"US\", \"admin_level\": 2, \"admin1\": \"New York\", \"admin2\": \"Queens County\", \"fips\": 36081.0, \"samples\": 38286, \"m50\": 0.579, \"m50_index\": 15, \"rolling_average\": 11.571428571428571}, {\"date\": \"2020-07-29\", \"country_code\": \"US\", \"admin_level\": 2, \"admin1\": \"New York\", \"admin2\": \"Queens County\", \"fips\": 36081.0, \"samples\": 39871, \"m50\": 0.636, \"m50_index\": 16, \"rolling_average\": 12.0}, {\"date\": \"2020-07-30\", \"country_code\": \"US\", \"admin_level\": 2, \"admin1\": \"New York\", \"admin2\": \"Queens County\", \"fips\": 36081.0, \"samples\": 41046, \"m50\": 0.6970000000000001, \"m50_index\": 18, \"rolling_average\": 12.857142857142858}, {\"date\": \"2020-07-31\", \"country_code\": \"US\", \"admin_level\": 2, \"admin1\": \"New York\", \"admin2\": \"Queens County\", \"fips\": 36081.0, \"samples\": 38568, \"m50\": 0.79, \"m50_index\": 20, \"rolling_average\": 13.142857142857142}, {\"date\": \"2020-08-01\", \"country_code\": \"US\", \"admin_level\": 2, \"admin1\": \"New York\", \"admin2\": \"Queens County\", \"fips\": 36081.0, \"samples\": 36217, \"m50\": 0.733, \"m50_index\": 19, \"rolling_average\": 14.142857142857142}, {\"date\": \"2020-08-02\", \"country_code\": \"US\", \"admin_level\": 2, \"admin1\": \"New York\", \"admin2\": \"Queens County\", \"fips\": 36081.0, \"samples\": 39110, \"m50\": 0.062, \"m50_index\": 1, \"rolling_average\": 14.0}, {\"date\": \"2020-08-03\", \"country_code\": \"US\", \"admin_level\": 2, \"admin1\": \"New York\", \"admin2\": \"Queens County\", \"fips\": 36081.0, \"samples\": 39985, \"m50\": 0.601, \"m50_index\": 15, \"rolling_average\": 14.857142857142858}, {\"date\": \"2020-08-04\", \"country_code\": \"US\", \"admin_level\": 2, \"admin1\": \"New York\", \"admin2\": \"Queens County\", \"fips\": 36081.0, \"samples\": 39689, \"m50\": 0.171, \"m50_index\": 4, \"rolling_average\": 13.285714285714286}, {\"date\": \"2020-08-05\", \"country_code\": \"US\", \"admin_level\": 2, \"admin1\": \"New York\", \"admin2\": \"Queens County\", \"fips\": 36081.0, \"samples\": 36554, \"m50\": 0.9059999999999999, \"m50_index\": 23, \"rolling_average\": 14.285714285714286}, {\"date\": \"2020-08-06\", \"country_code\": \"US\", \"admin_level\": 2, \"admin1\": \"New York\", \"admin2\": \"Queens County\", \"fips\": 36081.0, \"samples\": 40105, \"m50\": 0.789, \"m50_index\": 20, \"rolling_average\": 14.571428571428571}, {\"date\": \"2020-08-07\", \"country_code\": \"US\", \"admin_level\": 2, \"admin1\": \"New York\", \"admin2\": \"Queens County\", \"fips\": 36081.0, \"samples\": 37762, \"m50\": 0.857, \"m50_index\": 22, \"rolling_average\": 14.857142857142858}, {\"date\": \"2020-08-08\", \"country_code\": \"US\", \"admin_level\": 2, \"admin1\": \"New York\", \"admin2\": \"Queens County\", \"fips\": 36081.0, \"samples\": 32671, \"m50\": 0.7140000000000001, \"m50_index\": 18, \"rolling_average\": 14.714285714285714}, {\"date\": \"2020-08-09\", \"country_code\": \"US\", \"admin_level\": 2, \"admin1\": \"New York\", \"admin2\": \"Queens County\", \"fips\": 36081.0, \"samples\": 33830, \"m50\": 0.221, \"m50_index\": 5, \"rolling_average\": 15.285714285714286}, {\"date\": \"2020-08-10\", \"country_code\": \"US\", \"admin_level\": 2, \"admin1\": \"New York\", \"admin2\": \"Queens County\", \"fips\": 36081.0, \"samples\": 36840, \"m50\": 0.825, \"m50_index\": 21, \"rolling_average\": 16.142857142857142}, {\"date\": \"2020-08-11\", \"country_code\": \"US\", \"admin_level\": 2, \"admin1\": \"New York\", \"admin2\": \"Queens County\", \"fips\": 36081.0, \"samples\": 37263, \"m50\": 0.85, \"m50_index\": 22, \"rolling_average\": 18.714285714285715}]}}, {\"mode\": \"vega-lite\"});\n",
              "</script>"
            ]
          },
          "metadata": {
            "tags": []
          },
          "execution_count": 62
        }
      ]
    },
    {
      "cell_type": "code",
      "metadata": {
        "id": "giV8kO9t1-N4",
        "colab_type": "code",
        "colab": {
          "base_uri": "https://localhost:8080/",
          "height": 408
        },
        "outputId": "fffe6ae0-ca41-4bc8-93de-d86a5a61ee73"
      },
      "source": [
        "bar = base_queens.mark_bar().encode(y=\"m50_index\")\n",
        "\n",
        "line =  base_queens.mark_line(color='red').encode(\n",
        "    y='rolling_average'\n",
        ")\n",
        "\n",
        "(bar + line).properties(title='Queens County - Social Distancing Metric and rolling average ',width=600)|base_queens.encode(y=\"rolling_average\").properties(title='Queens County- 7 day rolling average (Social Distancing Metric)')"
      ],
      "execution_count": 63,
      "outputs": [
        {
          "output_type": "execute_result",
          "data": {
            "text/plain": [
              "alt.LayerChart(...)"
            ],
            "text/html": [
              "\n",
              "<div id=\"altair-viz-5b22f549901e4adaaa8aaa29cfb56b7c\"></div>\n",
              "<script type=\"text/javascript\">\n",
              "  (function(spec, embedOpt){\n",
              "    let outputDiv = document.currentScript.previousElementSibling;\n",
              "    if (outputDiv.id !== \"altair-viz-5b22f549901e4adaaa8aaa29cfb56b7c\") {\n",
              "      outputDiv = document.getElementById(\"altair-viz-5b22f549901e4adaaa8aaa29cfb56b7c\");\n",
              "    }\n",
              "    const paths = {\n",
              "      \"vega\": \"https://cdn.jsdelivr.net/npm//vega@5?noext\",\n",
              "      \"vega-lib\": \"https://cdn.jsdelivr.net/npm//vega-lib?noext\",\n",
              "      \"vega-lite\": \"https://cdn.jsdelivr.net/npm//vega-lite@4.8.1?noext\",\n",
              "      \"vega-embed\": \"https://cdn.jsdelivr.net/npm//vega-embed@6?noext\",\n",
              "    };\n",
              "\n",
              "    function loadScript(lib) {\n",
              "      return new Promise(function(resolve, reject) {\n",
              "        var s = document.createElement('script');\n",
              "        s.src = paths[lib];\n",
              "        s.async = true;\n",
              "        s.onload = () => resolve(paths[lib]);\n",
              "        s.onerror = () => reject(`Error loading script: ${paths[lib]}`);\n",
              "        document.getElementsByTagName(\"head\")[0].appendChild(s);\n",
              "      });\n",
              "    }\n",
              "\n",
              "    function showError(err) {\n",
              "      outputDiv.innerHTML = `<div class=\"error\" style=\"color:red;\">${err}</div>`;\n",
              "      throw err;\n",
              "    }\n",
              "\n",
              "    function displayChart(vegaEmbed) {\n",
              "      vegaEmbed(outputDiv, spec, embedOpt)\n",
              "        .catch(err => showError(`Javascript Error: ${err.message}<br>This usually means there's a typo in your chart specification. See the javascript console for the full traceback.`));\n",
              "    }\n",
              "\n",
              "    if(typeof define === \"function\" && define.amd) {\n",
              "      requirejs.config({paths});\n",
              "      require([\"vega-embed\"], displayChart, err => showError(`Error loading script: ${err.message}`));\n",
              "    } else if (typeof vegaEmbed === \"function\") {\n",
              "      displayChart(vegaEmbed);\n",
              "    } else {\n",
              "      loadScript(\"vega\")\n",
              "        .then(() => loadScript(\"vega-lite\"))\n",
              "        .then(() => loadScript(\"vega-embed\"))\n",
              "        .catch(showError)\n",
              "        .then(() => displayChart(vegaEmbed));\n",
              "    }\n",
              "  })({\"config\": {\"view\": {\"continuousWidth\": 400, \"continuousHeight\": 300}}, \"layer\": [{\"mark\": \"bar\", \"encoding\": {\"x\": {\"type\": \"ordinal\", \"field\": \"date\", \"timeUnit\": \"monthdate\"}, \"y\": {\"type\": \"quantitative\", \"field\": \"m50_index\"}}, \"width\": 500}, {\"mark\": {\"type\": \"line\", \"color\": \"red\"}, \"encoding\": {\"x\": {\"type\": \"ordinal\", \"field\": \"date\", \"timeUnit\": \"monthdate\"}, \"y\": {\"type\": \"quantitative\", \"field\": \"rolling_average\"}}, \"width\": 500}], \"data\": {\"name\": \"data-c87f9b2b46a07bf6a743b8069fc9c04d\"}, \"title\": \"Queens County - Social Distancing Metric and rolling average \", \"width\": 600, \"$schema\": \"https://vega.github.io/schema/vega-lite/v4.8.1.json\", \"datasets\": {\"data-c87f9b2b46a07bf6a743b8069fc9c04d\": [{\"date\": \"2020-03-01\", \"country_code\": \"US\", \"admin_level\": 2, \"admin1\": \"New York\", \"admin2\": \"Queens County\", \"fips\": 36081.0, \"samples\": 26218, \"m50\": 1.339, \"m50_index\": 35, \"rolling_average\": null}, {\"date\": \"2020-03-02\", \"country_code\": \"US\", \"admin_level\": 2, \"admin1\": \"New York\", \"admin2\": \"Queens County\", \"fips\": 36081.0, \"samples\": 27435, \"m50\": 3.813, \"m50_index\": 99, \"rolling_average\": null}, {\"date\": \"2020-03-03\", \"country_code\": \"US\", \"admin_level\": 2, \"admin1\": \"New York\", \"admin2\": \"Queens County\", \"fips\": 36081.0, \"samples\": 28459, \"m50\": 3.747, \"m50_index\": 98, \"rolling_average\": null}, {\"date\": \"2020-03-04\", \"country_code\": \"US\", \"admin_level\": 2, \"admin1\": \"New York\", \"admin2\": \"Queens County\", \"fips\": 36081.0, \"samples\": 29480, \"m50\": 3.822, \"m50_index\": 99, \"rolling_average\": null}, {\"date\": \"2020-03-05\", \"country_code\": \"US\", \"admin_level\": 2, \"admin1\": \"New York\", \"admin2\": \"Queens County\", \"fips\": 36081.0, \"samples\": 27602, \"m50\": 4.052, \"m50_index\": 106, \"rolling_average\": null}, {\"date\": \"2020-03-06\", \"country_code\": \"US\", \"admin_level\": 2, \"admin1\": \"New York\", \"admin2\": \"Queens County\", \"fips\": 36081.0, \"samples\": 27713, \"m50\": 3.9210000000000003, \"m50_index\": 102, \"rolling_average\": null}, {\"date\": \"2020-03-07\", \"country_code\": \"US\", \"admin_level\": 2, \"admin1\": \"New York\", \"admin2\": \"Queens County\", \"fips\": 36081.0, \"samples\": 27919, \"m50\": 2.189, \"m50_index\": 57, \"rolling_average\": 85.14285714285714}, {\"date\": \"2020-03-08\", \"country_code\": \"US\", \"admin_level\": 2, \"admin1\": \"New York\", \"admin2\": \"Queens County\", \"fips\": 36081.0, \"samples\": 29098, \"m50\": 1.172, \"m50_index\": 30, \"rolling_average\": 84.42857142857143}, {\"date\": \"2020-03-09\", \"country_code\": \"US\", \"admin_level\": 2, \"admin1\": \"New York\", \"admin2\": \"Queens County\", \"fips\": 36081.0, \"samples\": 29449, \"m50\": 3.528, \"m50_index\": 92, \"rolling_average\": 83.42857142857143}, {\"date\": \"2020-03-10\", \"country_code\": \"US\", \"admin_level\": 2, \"admin1\": \"New York\", \"admin2\": \"Queens County\", \"fips\": 36081.0, \"samples\": 28607, \"m50\": 3.375, \"m50_index\": 88, \"rolling_average\": 82.0}, {\"date\": \"2020-03-11\", \"country_code\": \"US\", \"admin_level\": 2, \"admin1\": \"New York\", \"admin2\": \"Queens County\", \"fips\": 36081.0, \"samples\": 28585, \"m50\": 3.495, \"m50_index\": 91, \"rolling_average\": 80.85714285714286}, {\"date\": \"2020-03-12\", \"country_code\": \"US\", \"admin_level\": 2, \"admin1\": \"New York\", \"admin2\": \"Queens County\", \"fips\": 36081.0, \"samples\": 28488, \"m50\": 3.193, \"m50_index\": 83, \"rolling_average\": 77.57142857142857}, {\"date\": \"2020-03-13\", \"country_code\": \"US\", \"admin_level\": 2, \"admin1\": \"New York\", \"admin2\": \"Queens County\", \"fips\": 36081.0, \"samples\": 27467, \"m50\": 2.8160000000000003, \"m50_index\": 73, \"rolling_average\": 73.42857142857143}, {\"date\": \"2020-03-14\", \"country_code\": \"US\", \"admin_level\": 2, \"admin1\": \"New York\", \"admin2\": \"Queens County\", \"fips\": 36081.0, \"samples\": 25669, \"m50\": 1.021, \"m50_index\": 26, \"rolling_average\": 69.0}, {\"date\": \"2020-03-15\", \"country_code\": \"US\", \"admin_level\": 2, \"admin1\": \"New York\", \"admin2\": \"Queens County\", \"fips\": 36081.0, \"samples\": 25555, \"m50\": 0.3, \"m50_index\": 7, \"rolling_average\": 65.71428571428571}, {\"date\": \"2020-03-16\", \"country_code\": \"US\", \"admin_level\": 2, \"admin1\": \"New York\", \"admin2\": \"Queens County\", \"fips\": 36081.0, \"samples\": 25482, \"m50\": 0.86, \"m50_index\": 22, \"rolling_average\": 55.714285714285715}, {\"date\": \"2020-03-17\", \"country_code\": \"US\", \"admin_level\": 2, \"admin1\": \"New York\", \"admin2\": \"Queens County\", \"fips\": 36081.0, \"samples\": 27584, \"m50\": 0.249, \"m50_index\": 6, \"rolling_average\": 44.0}, {\"date\": \"2020-03-18\", \"country_code\": \"US\", \"admin_level\": 2, \"admin1\": \"New York\", \"admin2\": \"Queens County\", \"fips\": 36081.0, \"samples\": 26104, \"m50\": 0.177, \"m50_index\": 4, \"rolling_average\": 31.571428571428573}, {\"date\": \"2020-03-19\", \"country_code\": \"US\", \"admin_level\": 2, \"admin1\": \"New York\", \"admin2\": \"Queens County\", \"fips\": 36081.0, \"samples\": 26152, \"m50\": 0.061, \"m50_index\": 1, \"rolling_average\": 19.857142857142858}, {\"date\": \"2020-03-20\", \"country_code\": \"US\", \"admin_level\": 2, \"admin1\": \"New York\", \"admin2\": \"Queens County\", \"fips\": 36081.0, \"samples\": 23521, \"m50\": 0.068, \"m50_index\": 1, \"rolling_average\": 9.571428571428571}, {\"date\": \"2020-03-21\", \"country_code\": \"US\", \"admin_level\": 2, \"admin1\": \"New York\", \"admin2\": \"Queens County\", \"fips\": 36081.0, \"samples\": 21635, \"m50\": 0.024, \"m50_index\": 0, \"rolling_average\": 5.857142857142857}, {\"date\": \"2020-03-22\", \"country_code\": \"US\", \"admin_level\": 2, \"admin1\": \"New York\", \"admin2\": \"Queens County\", \"fips\": 36081.0, \"samples\": 22604, \"m50\": 0.018000000000000002, \"m50_index\": 0, \"rolling_average\": 4.857142857142857}, {\"date\": \"2020-03-23\", \"country_code\": \"US\", \"admin_level\": 2, \"admin1\": \"New York\", \"admin2\": \"Queens County\", \"fips\": 36081.0, \"samples\": 24428, \"m50\": 0.017, \"m50_index\": 0, \"rolling_average\": 1.7142857142857142}, {\"date\": \"2020-03-24\", \"country_code\": \"US\", \"admin_level\": 2, \"admin1\": \"New York\", \"admin2\": \"Queens County\", \"fips\": 36081.0, \"samples\": 25039, \"m50\": 0.02, \"m50_index\": 0, \"rolling_average\": 0.8571428571428571}, {\"date\": \"2020-03-25\", \"country_code\": \"US\", \"admin_level\": 2, \"admin1\": \"New York\", \"admin2\": \"Queens County\", \"fips\": 36081.0, \"samples\": 23880, \"m50\": 0.018000000000000002, \"m50_index\": 0, \"rolling_average\": 0.2857142857142857}, {\"date\": \"2020-03-26\", \"country_code\": \"US\", \"admin_level\": 2, \"admin1\": \"New York\", \"admin2\": \"Queens County\", \"fips\": 36081.0, \"samples\": 25243, \"m50\": 0.019, \"m50_index\": 0, \"rolling_average\": 0.14285714285714285}, {\"date\": \"2020-03-27\", \"country_code\": \"US\", \"admin_level\": 2, \"admin1\": \"New York\", \"admin2\": \"Queens County\", \"fips\": 36081.0, \"samples\": 25761, \"m50\": 0.019, \"m50_index\": 0, \"rolling_average\": 0.0}, {\"date\": \"2020-03-28\", \"country_code\": \"US\", \"admin_level\": 2, \"admin1\": \"New York\", \"admin2\": \"Queens County\", \"fips\": 36081.0, \"samples\": 23756, \"m50\": 0.015, \"m50_index\": 0, \"rolling_average\": 0.0}, {\"date\": \"2020-03-29\", \"country_code\": \"US\", \"admin_level\": 2, \"admin1\": \"New York\", \"admin2\": \"Queens County\", \"fips\": 36081.0, \"samples\": 23988, \"m50\": 0.013999999999999999, \"m50_index\": 0, \"rolling_average\": 0.0}, {\"date\": \"2020-03-30\", \"country_code\": \"US\", \"admin_level\": 2, \"admin1\": \"New York\", \"admin2\": \"Queens County\", \"fips\": 36081.0, \"samples\": 25036, \"m50\": 0.016, \"m50_index\": 0, \"rolling_average\": 0.0}, {\"date\": \"2020-03-31\", \"country_code\": \"US\", \"admin_level\": 2, \"admin1\": \"New York\", \"admin2\": \"Queens County\", \"fips\": 36081.0, \"samples\": 24775, \"m50\": 0.016, \"m50_index\": 0, \"rolling_average\": 0.0}, {\"date\": \"2020-04-01\", \"country_code\": \"US\", \"admin_level\": 2, \"admin1\": \"New York\", \"admin2\": \"Queens County\", \"fips\": 36081.0, \"samples\": 24577, \"m50\": 0.016, \"m50_index\": 0, \"rolling_average\": 0.0}, {\"date\": \"2020-04-02\", \"country_code\": \"US\", \"admin_level\": 2, \"admin1\": \"New York\", \"admin2\": \"Queens County\", \"fips\": 36081.0, \"samples\": 24161, \"m50\": 0.017, \"m50_index\": 0, \"rolling_average\": 0.0}, {\"date\": \"2020-04-03\", \"country_code\": \"US\", \"admin_level\": 2, \"admin1\": \"New York\", \"admin2\": \"Queens County\", \"fips\": 36081.0, \"samples\": 23170, \"m50\": 0.016, \"m50_index\": 0, \"rolling_average\": 0.0}, {\"date\": \"2020-04-04\", \"country_code\": \"US\", \"admin_level\": 2, \"admin1\": \"New York\", \"admin2\": \"Queens County\", \"fips\": 36081.0, \"samples\": 22138, \"m50\": 0.016, \"m50_index\": 0, \"rolling_average\": 0.0}, {\"date\": \"2020-04-05\", \"country_code\": \"US\", \"admin_level\": 2, \"admin1\": \"New York\", \"admin2\": \"Queens County\", \"fips\": 36081.0, \"samples\": 25254, \"m50\": 0.015, \"m50_index\": 0, \"rolling_average\": 0.0}, {\"date\": \"2020-04-06\", \"country_code\": \"US\", \"admin_level\": 2, \"admin1\": \"New York\", \"admin2\": \"Queens County\", \"fips\": 36081.0, \"samples\": 22835, \"m50\": 0.017, \"m50_index\": 0, \"rolling_average\": 0.0}, {\"date\": \"2020-04-07\", \"country_code\": \"US\", \"admin_level\": 2, \"admin1\": \"New York\", \"admin2\": \"Queens County\", \"fips\": 36081.0, \"samples\": 23289, \"m50\": 0.017, \"m50_index\": 0, \"rolling_average\": 0.0}, {\"date\": \"2020-04-08\", \"country_code\": \"US\", \"admin_level\": 2, \"admin1\": \"New York\", \"admin2\": \"Queens County\", \"fips\": 36081.0, \"samples\": 23825, \"m50\": 0.016, \"m50_index\": 0, \"rolling_average\": 0.0}, {\"date\": \"2020-04-09\", \"country_code\": \"US\", \"admin_level\": 2, \"admin1\": \"New York\", \"admin2\": \"Queens County\", \"fips\": 36081.0, \"samples\": 23714, \"m50\": 0.015, \"m50_index\": 0, \"rolling_average\": 0.0}, {\"date\": \"2020-04-10\", \"country_code\": \"US\", \"admin_level\": 2, \"admin1\": \"New York\", \"admin2\": \"Queens County\", \"fips\": 36081.0, \"samples\": 22224, \"m50\": 0.015, \"m50_index\": 0, \"rolling_average\": 0.0}, {\"date\": \"2020-04-11\", \"country_code\": \"US\", \"admin_level\": 2, \"admin1\": \"New York\", \"admin2\": \"Queens County\", \"fips\": 36081.0, \"samples\": 23689, \"m50\": 0.015, \"m50_index\": 0, \"rolling_average\": 0.0}, {\"date\": \"2020-04-12\", \"country_code\": \"US\", \"admin_level\": 2, \"admin1\": \"New York\", \"admin2\": \"Queens County\", \"fips\": 36081.0, \"samples\": 23040, \"m50\": 0.013999999999999999, \"m50_index\": 0, \"rolling_average\": 0.0}, {\"date\": \"2020-04-13\", \"country_code\": \"US\", \"admin_level\": 2, \"admin1\": \"New York\", \"admin2\": \"Queens County\", \"fips\": 36081.0, \"samples\": 22462, \"m50\": 0.013999999999999999, \"m50_index\": 0, \"rolling_average\": 0.0}, {\"date\": \"2020-04-14\", \"country_code\": \"US\", \"admin_level\": 2, \"admin1\": \"New York\", \"admin2\": \"Queens County\", \"fips\": 36081.0, \"samples\": 24095, \"m50\": 0.017, \"m50_index\": 0, \"rolling_average\": 0.0}, {\"date\": \"2020-04-15\", \"country_code\": \"US\", \"admin_level\": 2, \"admin1\": \"New York\", \"admin2\": \"Queens County\", \"fips\": 36081.0, \"samples\": 25184, \"m50\": 0.017, \"m50_index\": 0, \"rolling_average\": 0.0}, {\"date\": \"2020-04-16\", \"country_code\": \"US\", \"admin_level\": 2, \"admin1\": \"New York\", \"admin2\": \"Queens County\", \"fips\": 36081.0, \"samples\": 24071, \"m50\": 0.017, \"m50_index\": 0, \"rolling_average\": 0.0}, {\"date\": \"2020-04-17\", \"country_code\": \"US\", \"admin_level\": 2, \"admin1\": \"New York\", \"admin2\": \"Queens County\", \"fips\": 36081.0, \"samples\": 24004, \"m50\": 0.018000000000000002, \"m50_index\": 0, \"rolling_average\": 0.0}, {\"date\": \"2020-04-18\", \"country_code\": \"US\", \"admin_level\": 2, \"admin1\": \"New York\", \"admin2\": \"Queens County\", \"fips\": 36081.0, \"samples\": 23458, \"m50\": 0.015, \"m50_index\": 0, \"rolling_average\": 0.0}, {\"date\": \"2020-04-19\", \"country_code\": \"US\", \"admin_level\": 2, \"admin1\": \"New York\", \"admin2\": \"Queens County\", \"fips\": 36081.0, \"samples\": 22917, \"m50\": 0.015, \"m50_index\": 0, \"rolling_average\": 0.0}, {\"date\": \"2020-04-21\", \"country_code\": \"US\", \"admin_level\": 2, \"admin1\": \"New York\", \"admin2\": \"Queens County\", \"fips\": 36081.0, \"samples\": 30068, \"m50\": 0.017, \"m50_index\": 0, \"rolling_average\": 0.0}, {\"date\": \"2020-04-22\", \"country_code\": \"US\", \"admin_level\": 2, \"admin1\": \"New York\", \"admin2\": \"Queens County\", \"fips\": 36081.0, \"samples\": 30795, \"m50\": 0.019, \"m50_index\": 0, \"rolling_average\": 0.0}, {\"date\": \"2020-04-23\", \"country_code\": \"US\", \"admin_level\": 2, \"admin1\": \"New York\", \"admin2\": \"Queens County\", \"fips\": 36081.0, \"samples\": 31301, \"m50\": 0.02, \"m50_index\": 0, \"rolling_average\": 0.0}, {\"date\": \"2020-04-24\", \"country_code\": \"US\", \"admin_level\": 2, \"admin1\": \"New York\", \"admin2\": \"Queens County\", \"fips\": 36081.0, \"samples\": 28454, \"m50\": 0.019, \"m50_index\": 0, \"rolling_average\": 0.0}, {\"date\": \"2020-04-25\", \"country_code\": \"US\", \"admin_level\": 2, \"admin1\": \"New York\", \"admin2\": \"Queens County\", \"fips\": 36081.0, \"samples\": 30229, \"m50\": 0.019, \"m50_index\": 0, \"rolling_average\": 0.0}, {\"date\": \"2020-04-26\", \"country_code\": \"US\", \"admin_level\": 2, \"admin1\": \"New York\", \"admin2\": \"Queens County\", \"fips\": 36081.0, \"samples\": 29938, \"m50\": 0.013999999999999999, \"m50_index\": 0, \"rolling_average\": 0.0}, {\"date\": \"2020-04-27\", \"country_code\": \"US\", \"admin_level\": 2, \"admin1\": \"New York\", \"admin2\": \"Queens County\", \"fips\": 36081.0, \"samples\": 30392, \"m50\": 0.018000000000000002, \"m50_index\": 0, \"rolling_average\": 0.0}, {\"date\": \"2020-04-28\", \"country_code\": \"US\", \"admin_level\": 2, \"admin1\": \"New York\", \"admin2\": \"Queens County\", \"fips\": 36081.0, \"samples\": 33313, \"m50\": 0.021, \"m50_index\": 0, \"rolling_average\": 0.0}, {\"date\": \"2020-04-29\", \"country_code\": \"US\", \"admin_level\": 2, \"admin1\": \"New York\", \"admin2\": \"Queens County\", \"fips\": 36081.0, \"samples\": 30027, \"m50\": 0.019, \"m50_index\": 0, \"rolling_average\": 0.0}, {\"date\": \"2020-04-30\", \"country_code\": \"US\", \"admin_level\": 2, \"admin1\": \"New York\", \"admin2\": \"Queens County\", \"fips\": 36081.0, \"samples\": 35706, \"m50\": 0.017, \"m50_index\": 0, \"rolling_average\": 0.0}, {\"date\": \"2020-05-01\", \"country_code\": \"US\", \"admin_level\": 2, \"admin1\": \"New York\", \"admin2\": \"Queens County\", \"fips\": 36081.0, \"samples\": 33325, \"m50\": 0.02, \"m50_index\": 0, \"rolling_average\": 0.0}, {\"date\": \"2020-05-02\", \"country_code\": \"US\", \"admin_level\": 2, \"admin1\": \"New York\", \"admin2\": \"Queens County\", \"fips\": 36081.0, \"samples\": 35586, \"m50\": 0.024, \"m50_index\": 0, \"rolling_average\": 0.0}, {\"date\": \"2020-05-03\", \"country_code\": \"US\", \"admin_level\": 2, \"admin1\": \"New York\", \"admin2\": \"Queens County\", \"fips\": 36081.0, \"samples\": 35575, \"m50\": 0.02, \"m50_index\": 0, \"rolling_average\": 0.0}, {\"date\": \"2020-05-04\", \"country_code\": \"US\", \"admin_level\": 2, \"admin1\": \"New York\", \"admin2\": \"Queens County\", \"fips\": 36081.0, \"samples\": 26165, \"m50\": 0.019, \"m50_index\": 0, \"rolling_average\": 0.0}, {\"date\": \"2020-05-05\", \"country_code\": \"US\", \"admin_level\": 2, \"admin1\": \"New York\", \"admin2\": \"Queens County\", \"fips\": 36081.0, \"samples\": 26633, \"m50\": 0.021, \"m50_index\": 0, \"rolling_average\": 0.0}, {\"date\": \"2020-05-06\", \"country_code\": \"US\", \"admin_level\": 2, \"admin1\": \"New York\", \"admin2\": \"Queens County\", \"fips\": 36081.0, \"samples\": 27819, \"m50\": 0.02, \"m50_index\": 0, \"rolling_average\": 0.0}, {\"date\": \"2020-05-07\", \"country_code\": \"US\", \"admin_level\": 2, \"admin1\": \"New York\", \"admin2\": \"Queens County\", \"fips\": 36081.0, \"samples\": 29651, \"m50\": 0.022000000000000002, \"m50_index\": 0, \"rolling_average\": 0.0}, {\"date\": \"2020-05-08\", \"country_code\": \"US\", \"admin_level\": 2, \"admin1\": \"New York\", \"admin2\": \"Queens County\", \"fips\": 36081.0, \"samples\": 27390, \"m50\": 0.019, \"m50_index\": 0, \"rolling_average\": 0.0}, {\"date\": \"2020-05-09\", \"country_code\": \"US\", \"admin_level\": 2, \"admin1\": \"New York\", \"admin2\": \"Queens County\", \"fips\": 36081.0, \"samples\": 27340, \"m50\": 0.017, \"m50_index\": 0, \"rolling_average\": 0.0}, {\"date\": \"2020-05-10\", \"country_code\": \"US\", \"admin_level\": 2, \"admin1\": \"New York\", \"admin2\": \"Queens County\", \"fips\": 36081.0, \"samples\": 27660, \"m50\": 0.017, \"m50_index\": 0, \"rolling_average\": 0.0}, {\"date\": \"2020-05-11\", \"country_code\": \"US\", \"admin_level\": 2, \"admin1\": \"New York\", \"admin2\": \"Queens County\", \"fips\": 36081.0, \"samples\": 27697, \"m50\": 0.017, \"m50_index\": 0, \"rolling_average\": 0.0}, {\"date\": \"2020-05-12\", \"country_code\": \"US\", \"admin_level\": 2, \"admin1\": \"New York\", \"admin2\": \"Queens County\", \"fips\": 36081.0, \"samples\": 29950, \"m50\": 0.021, \"m50_index\": 0, \"rolling_average\": 0.0}, {\"date\": \"2020-05-13\", \"country_code\": \"US\", \"admin_level\": 2, \"admin1\": \"New York\", \"admin2\": \"Queens County\", \"fips\": 36081.0, \"samples\": 28052, \"m50\": 0.02, \"m50_index\": 0, \"rolling_average\": 0.0}, {\"date\": \"2020-05-14\", \"country_code\": \"US\", \"admin_level\": 2, \"admin1\": \"New York\", \"admin2\": \"Queens County\", \"fips\": 36081.0, \"samples\": 28825, \"m50\": 0.02, \"m50_index\": 0, \"rolling_average\": 0.0}, {\"date\": \"2020-05-15\", \"country_code\": \"US\", \"admin_level\": 2, \"admin1\": \"New York\", \"admin2\": \"Queens County\", \"fips\": 36081.0, \"samples\": 39926, \"m50\": 0.027999999999999997, \"m50_index\": 0, \"rolling_average\": 0.0}, {\"date\": \"2020-05-16\", \"country_code\": \"US\", \"admin_level\": 2, \"admin1\": \"New York\", \"admin2\": \"Queens County\", \"fips\": 36081.0, \"samples\": 38747, \"m50\": 0.025, \"m50_index\": 0, \"rolling_average\": 0.0}, {\"date\": \"2020-05-17\", \"country_code\": \"US\", \"admin_level\": 2, \"admin1\": \"New York\", \"admin2\": \"Queens County\", \"fips\": 36081.0, \"samples\": 38293, \"m50\": 0.02, \"m50_index\": 0, \"rolling_average\": 0.0}, {\"date\": \"2020-05-18\", \"country_code\": \"US\", \"admin_level\": 2, \"admin1\": \"New York\", \"admin2\": \"Queens County\", \"fips\": 36081.0, \"samples\": 40419, \"m50\": 0.024, \"m50_index\": 0, \"rolling_average\": 0.0}, {\"date\": \"2020-05-19\", \"country_code\": \"US\", \"admin_level\": 2, \"admin1\": \"New York\", \"admin2\": \"Queens County\", \"fips\": 36081.0, \"samples\": 39526, \"m50\": 0.023, \"m50_index\": 0, \"rolling_average\": 0.0}, {\"date\": \"2020-05-20\", \"country_code\": \"US\", \"admin_level\": 2, \"admin1\": \"New York\", \"admin2\": \"Queens County\", \"fips\": 36081.0, \"samples\": 39474, \"m50\": 0.028999999999999998, \"m50_index\": 0, \"rolling_average\": 0.0}, {\"date\": \"2020-05-21\", \"country_code\": \"US\", \"admin_level\": 2, \"admin1\": \"New York\", \"admin2\": \"Queens County\", \"fips\": 36081.0, \"samples\": 39720, \"m50\": 0.032, \"m50_index\": 0, \"rolling_average\": 0.0}, {\"date\": \"2020-05-22\", \"country_code\": \"US\", \"admin_level\": 2, \"admin1\": \"New York\", \"admin2\": \"Queens County\", \"fips\": 36081.0, \"samples\": 42259, \"m50\": 0.042, \"m50_index\": 1, \"rolling_average\": 0.14285714285714285}, {\"date\": \"2020-05-23\", \"country_code\": \"US\", \"admin_level\": 2, \"admin1\": \"New York\", \"admin2\": \"Queens County\", \"fips\": 36081.0, \"samples\": 40285, \"m50\": 0.021, \"m50_index\": 0, \"rolling_average\": 0.14285714285714285}, {\"date\": \"2020-05-24\", \"country_code\": \"US\", \"admin_level\": 2, \"admin1\": \"New York\", \"admin2\": \"Queens County\", \"fips\": 36081.0, \"samples\": 40561, \"m50\": 0.028999999999999998, \"m50_index\": 0, \"rolling_average\": 0.14285714285714285}, {\"date\": \"2020-05-25\", \"country_code\": \"US\", \"admin_level\": 2, \"admin1\": \"New York\", \"admin2\": \"Queens County\", \"fips\": 36081.0, \"samples\": 40879, \"m50\": 0.027000000000000003, \"m50_index\": 0, \"rolling_average\": 0.14285714285714285}, {\"date\": \"2020-05-26\", \"country_code\": \"US\", \"admin_level\": 2, \"admin1\": \"New York\", \"admin2\": \"Queens County\", \"fips\": 36081.0, \"samples\": 38978, \"m50\": 0.044000000000000004, \"m50_index\": 1, \"rolling_average\": 0.2857142857142857}, {\"date\": \"2020-05-27\", \"country_code\": \"US\", \"admin_level\": 2, \"admin1\": \"New York\", \"admin2\": \"Queens County\", \"fips\": 36081.0, \"samples\": 37472, \"m50\": 0.04, \"m50_index\": 1, \"rolling_average\": 0.42857142857142855}, {\"date\": \"2020-05-28\", \"country_code\": \"US\", \"admin_level\": 2, \"admin1\": \"New York\", \"admin2\": \"Queens County\", \"fips\": 36081.0, \"samples\": 37199, \"m50\": 0.031, \"m50_index\": 0, \"rolling_average\": 0.42857142857142855}, {\"date\": \"2020-05-30\", \"country_code\": \"US\", \"admin_level\": 2, \"admin1\": \"New York\", \"admin2\": \"Queens County\", \"fips\": 36081.0, \"samples\": 32611, \"m50\": 0.037000000000000005, \"m50_index\": 0, \"rolling_average\": 0.2857142857142857}, {\"date\": \"2020-05-31\", \"country_code\": \"US\", \"admin_level\": 2, \"admin1\": \"New York\", \"admin2\": \"Queens County\", \"fips\": 36081.0, \"samples\": 26615, \"m50\": 0.024, \"m50_index\": 0, \"rolling_average\": 0.2857142857142857}, {\"date\": \"2020-06-01\", \"country_code\": \"US\", \"admin_level\": 2, \"admin1\": \"New York\", \"admin2\": \"Queens County\", \"fips\": 36081.0, \"samples\": 40767, \"m50\": 0.047, \"m50_index\": 1, \"rolling_average\": 0.42857142857142855}, {\"date\": \"2020-06-02\", \"country_code\": \"US\", \"admin_level\": 2, \"admin1\": \"New York\", \"admin2\": \"Queens County\", \"fips\": 36081.0, \"samples\": 29906, \"m50\": 0.031, \"m50_index\": 0, \"rolling_average\": 0.42857142857142855}, {\"date\": \"2020-06-03\", \"country_code\": \"US\", \"admin_level\": 2, \"admin1\": \"New York\", \"admin2\": \"Queens County\", \"fips\": 36081.0, \"samples\": 41971, \"m50\": 0.051, \"m50_index\": 1, \"rolling_average\": 0.42857142857142855}, {\"date\": \"2020-06-04\", \"country_code\": \"US\", \"admin_level\": 2, \"admin1\": \"New York\", \"admin2\": \"Queens County\", \"fips\": 36081.0, \"samples\": 37294, \"m50\": 0.057, \"m50_index\": 1, \"rolling_average\": 0.42857142857142855}, {\"date\": \"2020-06-05\", \"country_code\": \"US\", \"admin_level\": 2, \"admin1\": \"New York\", \"admin2\": \"Queens County\", \"fips\": 36081.0, \"samples\": 35655, \"m50\": 0.047, \"m50_index\": 1, \"rolling_average\": 0.5714285714285714}, {\"date\": \"2020-06-06\", \"country_code\": \"US\", \"admin_level\": 2, \"admin1\": \"New York\", \"admin2\": \"Queens County\", \"fips\": 36081.0, \"samples\": 35354, \"m50\": 0.048, \"m50_index\": 1, \"rolling_average\": 0.7142857142857143}, {\"date\": \"2020-06-07\", \"country_code\": \"US\", \"admin_level\": 2, \"admin1\": \"New York\", \"admin2\": \"Queens County\", \"fips\": 36081.0, \"samples\": 36384, \"m50\": 0.033, \"m50_index\": 0, \"rolling_average\": 0.7142857142857143}, {\"date\": \"2020-06-08\", \"country_code\": \"US\", \"admin_level\": 2, \"admin1\": \"New York\", \"admin2\": \"Queens County\", \"fips\": 36081.0, \"samples\": 38179, \"m50\": 0.175, \"m50_index\": 4, \"rolling_average\": 1.1428571428571428}, {\"date\": \"2020-06-09\", \"country_code\": \"US\", \"admin_level\": 2, \"admin1\": \"New York\", \"admin2\": \"Queens County\", \"fips\": 36081.0, \"samples\": 36769, \"m50\": 0.17800000000000002, \"m50_index\": 4, \"rolling_average\": 1.7142857142857142}, {\"date\": \"2020-06-10\", \"country_code\": \"US\", \"admin_level\": 2, \"admin1\": \"New York\", \"admin2\": \"Queens County\", \"fips\": 36081.0, \"samples\": 36739, \"m50\": 0.179, \"m50_index\": 4, \"rolling_average\": 2.142857142857143}, {\"date\": \"2020-06-11\", \"country_code\": \"US\", \"admin_level\": 2, \"admin1\": \"New York\", \"admin2\": \"Queens County\", \"fips\": 36081.0, \"samples\": 39754, \"m50\": 0.095, \"m50_index\": 2, \"rolling_average\": 2.2857142857142856}, {\"date\": \"2020-06-12\", \"country_code\": \"US\", \"admin_level\": 2, \"admin1\": \"New York\", \"admin2\": \"Queens County\", \"fips\": 36081.0, \"samples\": 35949, \"m50\": 0.179, \"m50_index\": 4, \"rolling_average\": 2.7142857142857144}, {\"date\": \"2020-06-13\", \"country_code\": \"US\", \"admin_level\": 2, \"admin1\": \"New York\", \"admin2\": \"Queens County\", \"fips\": 36081.0, \"samples\": 35069, \"m50\": 0.138, \"m50_index\": 3, \"rolling_average\": 3.0}, {\"date\": \"2020-06-14\", \"country_code\": \"US\", \"admin_level\": 2, \"admin1\": \"New York\", \"admin2\": \"Queens County\", \"fips\": 36081.0, \"samples\": 34220, \"m50\": 0.036000000000000004, \"m50_index\": 0, \"rolling_average\": 3.0}, {\"date\": \"2020-06-15\", \"country_code\": \"US\", \"admin_level\": 2, \"admin1\": \"New York\", \"admin2\": \"Queens County\", \"fips\": 36081.0, \"samples\": 36914, \"m50\": 0.08, \"m50_index\": 2, \"rolling_average\": 2.7142857142857144}, {\"date\": \"2020-06-16\", \"country_code\": \"US\", \"admin_level\": 2, \"admin1\": \"New York\", \"admin2\": \"Queens County\", \"fips\": 36081.0, \"samples\": 33847, \"m50\": 0.102, \"m50_index\": 2, \"rolling_average\": 2.4285714285714284}, {\"date\": \"2020-06-17\", \"country_code\": \"US\", \"admin_level\": 2, \"admin1\": \"New York\", \"admin2\": \"Queens County\", \"fips\": 36081.0, \"samples\": 36881, \"m50\": 0.23399999999999999, \"m50_index\": 6, \"rolling_average\": 2.7142857142857144}, {\"date\": \"2020-06-18\", \"country_code\": \"US\", \"admin_level\": 2, \"admin1\": \"New York\", \"admin2\": \"Queens County\", \"fips\": 36081.0, \"samples\": 34322, \"m50\": 0.302, \"m50_index\": 7, \"rolling_average\": 3.4285714285714284}, {\"date\": \"2020-06-19\", \"country_code\": \"US\", \"admin_level\": 2, \"admin1\": \"New York\", \"admin2\": \"Queens County\", \"fips\": 36081.0, \"samples\": 43017, \"m50\": 0.648, \"m50_index\": 16, \"rolling_average\": 5.142857142857143}, {\"date\": \"2020-06-20\", \"country_code\": \"US\", \"admin_level\": 2, \"admin1\": \"New York\", \"admin2\": \"Queens County\", \"fips\": 36081.0, \"samples\": 34928, \"m50\": 0.22399999999999998, \"m50_index\": 5, \"rolling_average\": 5.428571428571429}, {\"date\": \"2020-06-21\", \"country_code\": \"US\", \"admin_level\": 2, \"admin1\": \"New York\", \"admin2\": \"Queens County\", \"fips\": 36081.0, \"samples\": 32976, \"m50\": 0.047, \"m50_index\": 1, \"rolling_average\": 5.571428571428571}, {\"date\": \"2020-06-22\", \"country_code\": \"US\", \"admin_level\": 2, \"admin1\": \"New York\", \"admin2\": \"Queens County\", \"fips\": 36081.0, \"samples\": 35069, \"m50\": 0.162, \"m50_index\": 4, \"rolling_average\": 5.857142857142857}, {\"date\": \"2020-06-23\", \"country_code\": \"US\", \"admin_level\": 2, \"admin1\": \"New York\", \"admin2\": \"Queens County\", \"fips\": 36081.0, \"samples\": 35308, \"m50\": 0.41700000000000004, \"m50_index\": 10, \"rolling_average\": 7.0}, {\"date\": \"2020-06-24\", \"country_code\": \"US\", \"admin_level\": 2, \"admin1\": \"New York\", \"admin2\": \"Queens County\", \"fips\": 36081.0, \"samples\": 34002, \"m50\": 0.316, \"m50_index\": 8, \"rolling_average\": 7.285714285714286}, {\"date\": \"2020-06-25\", \"country_code\": \"US\", \"admin_level\": 2, \"admin1\": \"New York\", \"admin2\": \"Queens County\", \"fips\": 36081.0, \"samples\": 32011, \"m50\": 0.522, \"m50_index\": 13, \"rolling_average\": 8.142857142857142}, {\"date\": \"2020-06-26\", \"country_code\": \"US\", \"admin_level\": 2, \"admin1\": \"New York\", \"admin2\": \"Queens County\", \"fips\": 36081.0, \"samples\": 34289, \"m50\": 0.611, \"m50_index\": 15, \"rolling_average\": 8.0}, {\"date\": \"2020-06-27\", \"country_code\": \"US\", \"admin_level\": 2, \"admin1\": \"New York\", \"admin2\": \"Queens County\", \"fips\": 36081.0, \"samples\": 30106, \"m50\": 0.244, \"m50_index\": 6, \"rolling_average\": 8.142857142857142}, {\"date\": \"2020-06-28\", \"country_code\": \"US\", \"admin_level\": 2, \"admin1\": \"New York\", \"admin2\": \"Queens County\", \"fips\": 36081.0, \"samples\": 30992, \"m50\": 0.068, \"m50_index\": 1, \"rolling_average\": 8.142857142857142}, {\"date\": \"2020-06-29\", \"country_code\": \"US\", \"admin_level\": 2, \"admin1\": \"New York\", \"admin2\": \"Queens County\", \"fips\": 36081.0, \"samples\": 25500, \"m50\": 0.37799999999999995, \"m50_index\": 9, \"rolling_average\": 8.857142857142858}, {\"date\": \"2020-06-30\", \"country_code\": \"US\", \"admin_level\": 2, \"admin1\": \"New York\", \"admin2\": \"Queens County\", \"fips\": 36081.0, \"samples\": 33395, \"m50\": 0.653, \"m50_index\": 17, \"rolling_average\": 9.857142857142858}, {\"date\": \"2020-07-01\", \"country_code\": \"US\", \"admin_level\": 2, \"admin1\": \"New York\", \"admin2\": \"Queens County\", \"fips\": 36081.0, \"samples\": 33294, \"m50\": 0.621, \"m50_index\": 16, \"rolling_average\": 11.0}, {\"date\": \"2020-07-02\", \"country_code\": \"US\", \"admin_level\": 2, \"admin1\": \"New York\", \"admin2\": \"Queens County\", \"fips\": 36081.0, \"samples\": 33023, \"m50\": 0.922, \"m50_index\": 24, \"rolling_average\": 12.571428571428571}, {\"date\": \"2020-07-03\", \"country_code\": \"US\", \"admin_level\": 2, \"admin1\": \"New York\", \"admin2\": \"Queens County\", \"fips\": 36081.0, \"samples\": 33604, \"m50\": 0.8390000000000001, \"m50_index\": 21, \"rolling_average\": 13.428571428571429}, {\"date\": \"2020-07-04\", \"country_code\": \"US\", \"admin_level\": 2, \"admin1\": \"New York\", \"admin2\": \"Queens County\", \"fips\": 36081.0, \"samples\": 33334, \"m50\": 0.402, \"m50_index\": 10, \"rolling_average\": 14.0}, {\"date\": \"2020-07-05\", \"country_code\": \"US\", \"admin_level\": 2, \"admin1\": \"New York\", \"admin2\": \"Queens County\", \"fips\": 36081.0, \"samples\": 31200, \"m50\": 0.124, \"m50_index\": 3, \"rolling_average\": 14.285714285714286}, {\"date\": \"2020-07-06\", \"country_code\": \"US\", \"admin_level\": 2, \"admin1\": \"New York\", \"admin2\": \"Queens County\", \"fips\": 36081.0, \"samples\": 31631, \"m50\": 0.466, \"m50_index\": 12, \"rolling_average\": 14.714285714285714}, {\"date\": \"2020-07-07\", \"country_code\": \"US\", \"admin_level\": 2, \"admin1\": \"New York\", \"admin2\": \"Queens County\", \"fips\": 36081.0, \"samples\": 31555, \"m50\": 0.7140000000000001, \"m50_index\": 18, \"rolling_average\": 14.857142857142858}, {\"date\": \"2020-07-08\", \"country_code\": \"US\", \"admin_level\": 2, \"admin1\": \"New York\", \"admin2\": \"Queens County\", \"fips\": 36081.0, \"samples\": 33326, \"m50\": 0.8959999999999999, \"m50_index\": 23, \"rolling_average\": 15.857142857142858}, {\"date\": \"2020-07-09\", \"country_code\": \"US\", \"admin_level\": 2, \"admin1\": \"New York\", \"admin2\": \"Queens County\", \"fips\": 36081.0, \"samples\": 32926, \"m50\": 0.907, \"m50_index\": 23, \"rolling_average\": 15.714285714285714}, {\"date\": \"2020-07-10\", \"country_code\": \"US\", \"admin_level\": 2, \"admin1\": \"New York\", \"admin2\": \"Queens County\", \"fips\": 36081.0, \"samples\": 31912, \"m50\": 0.319, \"m50_index\": 8, \"rolling_average\": 13.857142857142858}, {\"date\": \"2020-07-11\", \"country_code\": \"US\", \"admin_level\": 2, \"admin1\": \"New York\", \"admin2\": \"Queens County\", \"fips\": 36081.0, \"samples\": 31825, \"m50\": 0.551, \"m50_index\": 14, \"rolling_average\": 14.428571428571429}, {\"date\": \"2020-07-12\", \"country_code\": \"US\", \"admin_level\": 2, \"admin1\": \"New York\", \"admin2\": \"Queens County\", \"fips\": 36081.0, \"samples\": 32105, \"m50\": 0.657, \"m50_index\": 17, \"rolling_average\": 16.428571428571427}, {\"date\": \"2020-07-13\", \"country_code\": \"US\", \"admin_level\": 2, \"admin1\": \"New York\", \"admin2\": \"Queens County\", \"fips\": 36081.0, \"samples\": 38635, \"m50\": 0.893, \"m50_index\": 23, \"rolling_average\": 18.0}, {\"date\": \"2020-07-14\", \"country_code\": \"US\", \"admin_level\": 2, \"admin1\": \"New York\", \"admin2\": \"Queens County\", \"fips\": 36081.0, \"samples\": 36785, \"m50\": 1.6680000000000001, \"m50_index\": 43, \"rolling_average\": 21.571428571428573}, {\"date\": \"2020-07-15\", \"country_code\": \"US\", \"admin_level\": 2, \"admin1\": \"New York\", \"admin2\": \"Queens County\", \"fips\": 36081.0, \"samples\": 38229, \"m50\": 1.026, \"m50_index\": 26, \"rolling_average\": 22.0}, {\"date\": \"2020-07-16\", \"country_code\": \"US\", \"admin_level\": 2, \"admin1\": \"New York\", \"admin2\": \"Queens County\", \"fips\": 36081.0, \"samples\": 37077, \"m50\": 0.8540000000000001, \"m50_index\": 22, \"rolling_average\": 21.857142857142858}, {\"date\": \"2020-07-17\", \"country_code\": \"US\", \"admin_level\": 2, \"admin1\": \"New York\", \"admin2\": \"Queens County\", \"fips\": 36081.0, \"samples\": 46856, \"m50\": 1.704, \"m50_index\": 44, \"rolling_average\": 27.0}, {\"date\": \"2020-07-18\", \"country_code\": \"US\", \"admin_level\": 2, \"admin1\": \"New York\", \"admin2\": \"Queens County\", \"fips\": 36081.0, \"samples\": 37215, \"m50\": 0.9670000000000001, \"m50_index\": 25, \"rolling_average\": 28.571428571428573}, {\"date\": \"2020-07-19\", \"country_code\": \"US\", \"admin_level\": 2, \"admin1\": \"New York\", \"admin2\": \"Queens County\", \"fips\": 36081.0, \"samples\": 38818, \"m50\": 0.23399999999999999, \"m50_index\": 6, \"rolling_average\": 27.0}, {\"date\": \"2020-07-20\", \"country_code\": \"US\", \"admin_level\": 2, \"admin1\": \"New York\", \"admin2\": \"Queens County\", \"fips\": 36081.0, \"samples\": 35619, \"m50\": 0.38799999999999996, \"m50_index\": 10, \"rolling_average\": 25.142857142857142}, {\"date\": \"2020-07-21\", \"country_code\": \"US\", \"admin_level\": 2, \"admin1\": \"New York\", \"admin2\": \"Queens County\", \"fips\": 36081.0, \"samples\": 35305, \"m50\": 0.581, \"m50_index\": 15, \"rolling_average\": 21.142857142857142}, {\"date\": \"2020-07-22\", \"country_code\": \"US\", \"admin_level\": 2, \"admin1\": \"New York\", \"admin2\": \"Queens County\", \"fips\": 36081.0, \"samples\": 37921, \"m50\": 0.522, \"m50_index\": 13, \"rolling_average\": 19.285714285714285}, {\"date\": \"2020-07-23\", \"country_code\": \"US\", \"admin_level\": 2, \"admin1\": \"New York\", \"admin2\": \"Queens County\", \"fips\": 36081.0, \"samples\": 38119, \"m50\": 0.489, \"m50_index\": 12, \"rolling_average\": 17.857142857142858}, {\"date\": \"2020-07-24\", \"country_code\": \"US\", \"admin_level\": 2, \"admin1\": \"New York\", \"admin2\": \"Queens County\", \"fips\": 36081.0, \"samples\": 36184, \"m50\": 0.6920000000000001, \"m50_index\": 18, \"rolling_average\": 14.142857142857142}, {\"date\": \"2020-07-25\", \"country_code\": \"US\", \"admin_level\": 2, \"admin1\": \"New York\", \"admin2\": \"Queens County\", \"fips\": 36081.0, \"samples\": 35937, \"m50\": 0.478, \"m50_index\": 12, \"rolling_average\": 12.285714285714286}, {\"date\": \"2020-07-26\", \"country_code\": \"US\", \"admin_level\": 2, \"admin1\": \"New York\", \"admin2\": \"Queens County\", \"fips\": 36081.0, \"samples\": 34290, \"m50\": 0.106, \"m50_index\": 2, \"rolling_average\": 11.714285714285714}, {\"date\": \"2020-07-27\", \"country_code\": \"US\", \"admin_level\": 2, \"admin1\": \"New York\", \"admin2\": \"Queens County\", \"fips\": 36081.0, \"samples\": 37588, \"m50\": 0.359, \"m50_index\": 9, \"rolling_average\": 11.571428571428571}, {\"date\": \"2020-07-28\", \"country_code\": \"US\", \"admin_level\": 2, \"admin1\": \"New York\", \"admin2\": \"Queens County\", \"fips\": 36081.0, \"samples\": 38286, \"m50\": 0.579, \"m50_index\": 15, \"rolling_average\": 11.571428571428571}, {\"date\": \"2020-07-29\", \"country_code\": \"US\", \"admin_level\": 2, \"admin1\": \"New York\", \"admin2\": \"Queens County\", \"fips\": 36081.0, \"samples\": 39871, \"m50\": 0.636, \"m50_index\": 16, \"rolling_average\": 12.0}, {\"date\": \"2020-07-30\", \"country_code\": \"US\", \"admin_level\": 2, \"admin1\": \"New York\", \"admin2\": \"Queens County\", \"fips\": 36081.0, \"samples\": 41046, \"m50\": 0.6970000000000001, \"m50_index\": 18, \"rolling_average\": 12.857142857142858}, {\"date\": \"2020-07-31\", \"country_code\": \"US\", \"admin_level\": 2, \"admin1\": \"New York\", \"admin2\": \"Queens County\", \"fips\": 36081.0, \"samples\": 38568, \"m50\": 0.79, \"m50_index\": 20, \"rolling_average\": 13.142857142857142}, {\"date\": \"2020-08-01\", \"country_code\": \"US\", \"admin_level\": 2, \"admin1\": \"New York\", \"admin2\": \"Queens County\", \"fips\": 36081.0, \"samples\": 36217, \"m50\": 0.733, \"m50_index\": 19, \"rolling_average\": 14.142857142857142}, {\"date\": \"2020-08-02\", \"country_code\": \"US\", \"admin_level\": 2, \"admin1\": \"New York\", \"admin2\": \"Queens County\", \"fips\": 36081.0, \"samples\": 39110, \"m50\": 0.062, \"m50_index\": 1, \"rolling_average\": 14.0}, {\"date\": \"2020-08-03\", \"country_code\": \"US\", \"admin_level\": 2, \"admin1\": \"New York\", \"admin2\": \"Queens County\", \"fips\": 36081.0, \"samples\": 39985, \"m50\": 0.601, \"m50_index\": 15, \"rolling_average\": 14.857142857142858}, {\"date\": \"2020-08-04\", \"country_code\": \"US\", \"admin_level\": 2, \"admin1\": \"New York\", \"admin2\": \"Queens County\", \"fips\": 36081.0, \"samples\": 39689, \"m50\": 0.171, \"m50_index\": 4, \"rolling_average\": 13.285714285714286}, {\"date\": \"2020-08-05\", \"country_code\": \"US\", \"admin_level\": 2, \"admin1\": \"New York\", \"admin2\": \"Queens County\", \"fips\": 36081.0, \"samples\": 36554, \"m50\": 0.9059999999999999, \"m50_index\": 23, \"rolling_average\": 14.285714285714286}, {\"date\": \"2020-08-06\", \"country_code\": \"US\", \"admin_level\": 2, \"admin1\": \"New York\", \"admin2\": \"Queens County\", \"fips\": 36081.0, \"samples\": 40105, \"m50\": 0.789, \"m50_index\": 20, \"rolling_average\": 14.571428571428571}, {\"date\": \"2020-08-07\", \"country_code\": \"US\", \"admin_level\": 2, \"admin1\": \"New York\", \"admin2\": \"Queens County\", \"fips\": 36081.0, \"samples\": 37762, \"m50\": 0.857, \"m50_index\": 22, \"rolling_average\": 14.857142857142858}, {\"date\": \"2020-08-08\", \"country_code\": \"US\", \"admin_level\": 2, \"admin1\": \"New York\", \"admin2\": \"Queens County\", \"fips\": 36081.0, \"samples\": 32671, \"m50\": 0.7140000000000001, \"m50_index\": 18, \"rolling_average\": 14.714285714285714}, {\"date\": \"2020-08-09\", \"country_code\": \"US\", \"admin_level\": 2, \"admin1\": \"New York\", \"admin2\": \"Queens County\", \"fips\": 36081.0, \"samples\": 33830, \"m50\": 0.221, \"m50_index\": 5, \"rolling_average\": 15.285714285714286}, {\"date\": \"2020-08-10\", \"country_code\": \"US\", \"admin_level\": 2, \"admin1\": \"New York\", \"admin2\": \"Queens County\", \"fips\": 36081.0, \"samples\": 36840, \"m50\": 0.825, \"m50_index\": 21, \"rolling_average\": 16.142857142857142}, {\"date\": \"2020-08-11\", \"country_code\": \"US\", \"admin_level\": 2, \"admin1\": \"New York\", \"admin2\": \"Queens County\", \"fips\": 36081.0, \"samples\": 37263, \"m50\": 0.85, \"m50_index\": 22, \"rolling_average\": 18.714285714285715}]}}, {\"mode\": \"vega-lite\"});\n",
              "</script>"
            ]
          },
          "metadata": {
            "tags": []
          },
          "execution_count": 63
        }
      ]
    },
    {
      "cell_type": "markdown",
      "metadata": {
        "id": "WJbJx4SFys1v",
        "colab_type": "text"
      },
      "source": [
        "## Overlap PLot"
      ]
    },
    {
      "cell_type": "code",
      "metadata": {
        "id": "Ml9p3kRNy21D",
        "colab_type": "code",
        "colab": {}
      },
      "source": [
        "import pandas as pd\n",
        "import matplotlib.pyplot as plt\n",
        "import numpy as np\n",
        "import seaborn as sns"
      ],
      "execution_count": 70,
      "outputs": []
    },
    {
      "cell_type": "code",
      "metadata": {
        "id": "cWx-_AssyvTx",
        "colab_type": "code",
        "colab": {
          "base_uri": "https://localhost:8080/",
          "height": 280
        },
        "outputId": "2fc4f92c-5d9f-4b03-a44d-c7d326b06f2e"
      },
      "source": [
        "# Method 1: on the same Axis\n",
        "sns.distplot( queens_covidcases[\"New cases\"] , color=\"red\", label=\"New Cases\")\n",
        "sns.distplot( (queens_social_distancing[\"m50_index\"]) , color=\"blue\", label=\"Social Distance\")\n",
        "plt.legend()\n",
        " \n",
        "plt.show()"
      ],
      "execution_count": 91,
      "outputs": [
        {
          "output_type": "display_data",
          "data": {
            "image/png": "[encoded data removed]",
            "text/plain": [
              "<Figure size 432x288 with 1 Axes>"
            ]
          },
          "metadata": {
            "tags": [],
            "needs_background": "light"
          }
        }
      ]
    },
    {
      "cell_type": "markdown",
      "metadata": {
        "id": "cX8nqFkC2Mv7",
        "colab_type": "text"
      },
      "source": [
        "# Merge"
      ]
    },
    {
      "cell_type": "code",
      "metadata": {
        "id": "kAe4luiT1dZd",
        "colab_type": "code",
        "colab": {}
      },
      "source": [
        "merged = pd.merge(queens_covidcases,queens_social_distancing,how='inner', left_on=['Date'], right_on = ['date'])"
      ],
      "execution_count": 92,
      "outputs": []
    },
    {
      "cell_type": "code",
      "metadata": {
        "id": "gR8ia7wS3gbV",
        "colab_type": "code",
        "colab": {
          "base_uri": "https://localhost:8080/",
          "height": 316
        },
        "outputId": "389e8bfb-7e7d-452e-9854-adc5e94376bf"
      },
      "source": [
        "merged.tail()"
      ],
      "execution_count": 102,
      "outputs": [
        {
          "output_type": "execute_result",
          "data": {
            "text/html": [
              "<div>\n",
              "<style scoped>\n",
              "    .dataframe tbody tr th:only-of-type {\n",
              "        vertical-align: middle;\n",
              "    }\n",
              "\n",
              "    .dataframe tbody tr th {\n",
              "        vertical-align: top;\n",
              "    }\n",
              "\n",
              "    .dataframe thead th {\n",
              "        text-align: right;\n",
              "    }\n",
              "</style>\n",
              "<table border=\"1\" class=\"dataframe\">\n",
              "  <thead>\n",
              "    <tr style=\"text-align: right;\">\n",
              "      <th></th>\n",
              "      <th>Date</th>\n",
              "      <th>Province_State</th>\n",
              "      <th>FIPS</th>\n",
              "      <th>Confirmed</th>\n",
              "      <th>Deaths</th>\n",
              "      <th>New cases</th>\n",
              "      <th>New deaths</th>\n",
              "      <th>date</th>\n",
              "      <th>country_code</th>\n",
              "      <th>admin_level</th>\n",
              "      <th>admin1</th>\n",
              "      <th>admin2</th>\n",
              "      <th>fips</th>\n",
              "      <th>samples</th>\n",
              "      <th>m50</th>\n",
              "      <th>m50_index</th>\n",
              "      <th>rolling_average</th>\n",
              "      <th>m50_multiplied</th>\n",
              "    </tr>\n",
              "  </thead>\n",
              "  <tbody>\n",
              "    <tr>\n",
              "      <th>157</th>\n",
              "      <td>2020-08-05</td>\n",
              "      <td>New York</td>\n",
              "      <td>36081.0</td>\n",
              "      <td>0</td>\n",
              "      <td>0</td>\n",
              "      <td>636</td>\n",
              "      <td>29</td>\n",
              "      <td>2020-08-05</td>\n",
              "      <td>US</td>\n",
              "      <td>2</td>\n",
              "      <td>New York</td>\n",
              "      <td>Queens County</td>\n",
              "      <td>36081.0</td>\n",
              "      <td>36554</td>\n",
              "      <td>0.906</td>\n",
              "      <td>23</td>\n",
              "      <td>14.285714</td>\n",
              "      <td>23000</td>\n",
              "    </tr>\n",
              "    <tr>\n",
              "      <th>158</th>\n",
              "      <td>2020-08-06</td>\n",
              "      <td>New York</td>\n",
              "      <td>36081.0</td>\n",
              "      <td>0</td>\n",
              "      <td>0</td>\n",
              "      <td>703</td>\n",
              "      <td>2</td>\n",
              "      <td>2020-08-06</td>\n",
              "      <td>US</td>\n",
              "      <td>2</td>\n",
              "      <td>New York</td>\n",
              "      <td>Queens County</td>\n",
              "      <td>36081.0</td>\n",
              "      <td>40105</td>\n",
              "      <td>0.789</td>\n",
              "      <td>20</td>\n",
              "      <td>14.571429</td>\n",
              "      <td>20000</td>\n",
              "    </tr>\n",
              "    <tr>\n",
              "      <th>159</th>\n",
              "      <td>2020-08-07</td>\n",
              "      <td>New York</td>\n",
              "      <td>36081.0</td>\n",
              "      <td>0</td>\n",
              "      <td>0</td>\n",
              "      <td>714</td>\n",
              "      <td>4</td>\n",
              "      <td>2020-08-07</td>\n",
              "      <td>US</td>\n",
              "      <td>2</td>\n",
              "      <td>New York</td>\n",
              "      <td>Queens County</td>\n",
              "      <td>36081.0</td>\n",
              "      <td>37762</td>\n",
              "      <td>0.857</td>\n",
              "      <td>22</td>\n",
              "      <td>14.857143</td>\n",
              "      <td>22000</td>\n",
              "    </tr>\n",
              "    <tr>\n",
              "      <th>160</th>\n",
              "      <td>2020-08-08</td>\n",
              "      <td>New York</td>\n",
              "      <td>36081.0</td>\n",
              "      <td>0</td>\n",
              "      <td>0</td>\n",
              "      <td>703</td>\n",
              "      <td>8</td>\n",
              "      <td>2020-08-08</td>\n",
              "      <td>US</td>\n",
              "      <td>2</td>\n",
              "      <td>New York</td>\n",
              "      <td>Queens County</td>\n",
              "      <td>36081.0</td>\n",
              "      <td>32671</td>\n",
              "      <td>0.714</td>\n",
              "      <td>18</td>\n",
              "      <td>14.714286</td>\n",
              "      <td>18000</td>\n",
              "    </tr>\n",
              "    <tr>\n",
              "      <th>161</th>\n",
              "      <td>2020-08-09</td>\n",
              "      <td>New York</td>\n",
              "      <td>36081.0</td>\n",
              "      <td>0</td>\n",
              "      <td>0</td>\n",
              "      <td>515</td>\n",
              "      <td>6</td>\n",
              "      <td>2020-08-09</td>\n",
              "      <td>US</td>\n",
              "      <td>2</td>\n",
              "      <td>New York</td>\n",
              "      <td>Queens County</td>\n",
              "      <td>36081.0</td>\n",
              "      <td>33830</td>\n",
              "      <td>0.221</td>\n",
              "      <td>5</td>\n",
              "      <td>15.285714</td>\n",
              "      <td>5000</td>\n",
              "    </tr>\n",
              "  </tbody>\n",
              "</table>\n",
              "</div>"
            ],
            "text/plain": [
              "           Date Province_State  ...  rolling_average  m50_multiplied\n",
              "157  2020-08-05       New York  ...        14.285714           23000\n",
              "158  2020-08-06       New York  ...        14.571429           20000\n",
              "159  2020-08-07       New York  ...        14.857143           22000\n",
              "160  2020-08-08       New York  ...        14.714286           18000\n",
              "161  2020-08-09       New York  ...        15.285714            5000\n",
              "\n",
              "[5 rows x 18 columns]"
            ]
          },
          "metadata": {
            "tags": []
          },
          "execution_count": 102
        }
      ]
    },
    {
      "cell_type": "code",
      "metadata": {
        "id": "DtZ508fk4EVC",
        "colab_type": "code",
        "colab": {}
      },
      "source": [
        "merged['m50_multiplied'] = merged['m50_index'] * 1000"
      ],
      "execution_count": 99,
      "outputs": []
    },
    {
      "cell_type": "code",
      "metadata": {
        "id": "3FlDAGWD1beK",
        "colab_type": "code",
        "colab": {
          "base_uri": "https://localhost:8080/",
          "height": 282
        },
        "outputId": "16d45c4c-a680-49bc-8a6d-6b27247dc9fd"
      },
      "source": [
        "merged[['m50_multiplied','New cases']].plot()"
      ],
      "execution_count": 100,
      "outputs": [
        {
          "output_type": "execute_result",
          "data": {
            "text/plain": [
              "<matplotlib.axes._subplots.AxesSubplot at 0x7fa8a90400b8>"
            ]
          },
          "metadata": {
            "tags": []
          },
          "execution_count": 100
        },
        {
          "output_type": "display_data",
          "data": {
            "image/png": "[encoded data removed]",
            "text/plain": [
              "<Figure size 432x288 with 1 Axes>"
            ]
          },
          "metadata": {
            "tags": [],
            "needs_background": "light"
          }
        }
      ]
    },
    {
      "cell_type": "code",
      "metadata": {
        "id": "y7WLmP8r4e0H",
        "colab_type": "code",
        "colab": {
          "base_uri": "https://localhost:8080/",
          "height": 280
        },
        "outputId": "59637a8b-65d0-4bc8-d46b-05c95f0ae37a"
      },
      "source": [
        "# Method 1: on the same Axis\n",
        "sns.distplot( merged[\"New cases\"] , color=\"red\", label=\"New Cases\")\n",
        "sns.distplot( (merged[\"m50_multiplied\"]) , color=\"blue\", label=\"Social Distance\")\n",
        "plt.legend()\n",
        " \n",
        "plt.show()"
      ],
      "execution_count": 101,
      "outputs": [
        {
          "output_type": "display_data",
          "data": {
            "image/png": "[encoded data removed]",
            "text/plain": [
              "<Figure size 432x288 with 1 Axes>"
            ]
          },
          "metadata": {
            "tags": [],
            "needs_background": "light"
          }
        }
      ]
    },
    {
      "cell_type": "code",
      "metadata": {
        "id": "G5UGFpCC5c68",
        "colab_type": "code",
        "colab": {
          "base_uri": "https://localhost:8080/",
          "height": 218
        },
        "outputId": "20ec7f05-70d3-4ca4-800e-9c97b4559d35"
      },
      "source": [
        "merged.iloc[:,5]"
      ],
      "execution_count": 104,
      "outputs": [
        {
          "output_type": "execute_result",
          "data": {
            "text/plain": [
              "0        0\n",
              "1      150\n",
              "2       70\n",
              "3      107\n",
              "4       94\n",
              "      ... \n",
              "157    636\n",
              "158    703\n",
              "159    714\n",
              "160    703\n",
              "161    515\n",
              "Name: New cases, Length: 162, dtype: int64"
            ]
          },
          "metadata": {
            "tags": []
          },
          "execution_count": 104
        }
      ]
    },
    {
      "cell_type": "code",
      "metadata": {
        "id": "Jxu__GK15DZ_",
        "colab_type": "code",
        "colab": {}
      },
      "source": [
        "## Moving avg\n",
        "\n",
        "merged['rolling_avg_newcases'] = merged.iloc[:,5].rolling(window=7).mean() "
      ],
      "execution_count": 103,
      "outputs": []
    },
    {
      "cell_type": "code",
      "metadata": {
        "id": "iCxaGn3d5_Kq",
        "colab_type": "code",
        "colab": {}
      },
      "source": [
        "merged['rolling_average_multiplies'] = merged['rolling_average'] * 1000"
      ],
      "execution_count": 106,
      "outputs": []
    },
    {
      "cell_type": "code",
      "metadata": {
        "id": "_9H9Q6Jb5qX9",
        "colab_type": "code",
        "colab": {
          "base_uri": "https://localhost:8080/",
          "height": 282
        },
        "outputId": "9aa64c69-dd08-4256-e7e1-4a87157e4b04"
      },
      "source": [
        "merged[['rolling_average_multiplies','rolling_avg_newcases']].plot()"
      ],
      "execution_count": 107,
      "outputs": [
        {
          "output_type": "execute_result",
          "data": {
            "text/plain": [
              "<matplotlib.axes._subplots.AxesSubplot at 0x7fa8a162e8d0>"
            ]
          },
          "metadata": {
            "tags": []
          },
          "execution_count": 107
        },
        {
          "output_type": "display_data",
          "data": {
            "image/png": "[encoded data removed]",
            "text/plain": [
              "<Figure size 432x288 with 1 Axes>"
            ]
          },
          "metadata": {
            "tags": [],
            "needs_background": "light"
          }
        }
      ]
    },
    {
      "cell_type": "markdown",
      "metadata": {
        "id": "GxqvhEtl6TeU",
        "colab_type": "text"
      },
      "source": [
        "## Correlation"
      ]
    },
    {
      "cell_type": "code",
      "metadata": {
        "id": "qnsMZN6o7ULt",
        "colab_type": "code",
        "colab": {
          "base_uri": "https://localhost:8080/",
          "height": 713
        },
        "outputId": "9124d7cc-46f5-4560-a029-5a6ea0f4307e"
      },
      "source": [
        "corr = merged.corr()\n",
        "g = sns.heatmap(corr, vmax=.9, center=0,\n",
        "               square=True, linewidths=.9, cbar_kws={\"shrink\": .8}, annot=True, fmt='.2f', cmap='coolwarm')\n",
        "bottom, top = g.get_ylim()\n",
        "g.set_ylim(bottom + 0.5, top - 0.5)\n",
        "sns.despine()\n",
        "g.figure.set_size_inches(16, 10)"
      ],
      "execution_count": 108,
      "outputs": [
        {
          "output_type": "display_data",
          "data": {
            "image/png": "[encoded data removed]",
            "text/plain": [
              "<Figure size 1152x720 with 2 Axes>"
            ]
          },
          "metadata": {
            "tags": [],
            "needs_background": "light"
          }
        }
      ]
    },
    {
      "cell_type": "markdown",
      "metadata": {
        "id": "bOjvKxDdwjx5",
        "colab_type": "text"
      },
      "source": [
        "- Overlap m50 with covid cases \n",
        "- Mask data doesn't have time series ; Take the value \n",
        "- Mobility data- 8 diff types of data; walking =0; workplace- high; residential - high-> plot"
      ]
    }
  ]
}